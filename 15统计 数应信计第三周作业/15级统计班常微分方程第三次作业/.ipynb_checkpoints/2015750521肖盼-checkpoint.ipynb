{
 "cells": [
  {
   "cell_type": "markdown",
   "metadata": {},
   "source": [
    "# $$作业二$$"
   ]
  },
  {
   "cell_type": "markdown",
   "metadata": {},
   "source": [
    "## 1.求下列方程的解"
   ]
  },
  {
   "cell_type": "markdown",
   "metadata": {},
   "source": [
    "###  $（4）\\frac{\\mathrm dy}{\\mathrm dx}-\\frac{\\mathrm n}{\\mathrm x}y=e^xx^n$"
   ]
  },
  {
   "cell_type": "markdown",
   "metadata": {},
   "source": [
    "解：上式变为：$$\\frac{\\mathrm dy}{\\mathrm dx}=\\frac{\\mathrm n}{\\mathrm x}y+e^xx^n$$"
   ]
  },
  {
   "cell_type": "markdown",
   "metadata": {},
   "source": [
    "$$P(x)=\\frac{\\mathrm n}{\\mathrm x},Q(x)=e^xx^n$$"
   ]
  },
  {
   "cell_type": "markdown",
   "metadata": {},
   "source": [
    "由微分方程得：$$y=e^{\\int P(x)\\,\\mathrm{d}x}(\\int Q(x)e^{\\int -P(x)\\,\\mathrm{d}x}\\,\\mathrm{d}x+c)$$"
   ]
  },
  {
   "cell_type": "markdown",
   "metadata": {},
   "source": [
    "$$y=e^{\\int \\frac{\\mathrm n}{\\mathrm x}\\,\\mathrm{d}x}(\\int e^xx^ne^{\\int -\\frac{\\mathrm n}{\\mathrm x}\\,\\mathrm{d}x}\\,\\mathrm{d}x+c)$$"
   ]
  },
  {
   "cell_type": "markdown",
   "metadata": {},
   "source": [
    "$$y=x^n(e^x+c)$$"
   ]
  },
  {
   "cell_type": "markdown",
   "metadata": {},
   "source": [
    "###  $(15) \\frac{\\mathrm dy}{\\mathrm dx}=\\frac{\\mathrm 1}{\\mathrm xy+x^3y^3};$"
   ]
  },
  {
   "cell_type": "markdown",
   "metadata": {},
   "source": [
    "解：将原式改写为：$$ \\frac{\\mathrm dx}{\\mathrm dy}=xy+x^3y^3…………（1）$$\n"
   ]
  },
  {
   "cell_type": "markdown",
   "metadata": {},
   "source": [
    "对于$y\\neq0$,两边同时乘以$x^{-3}$得$$x^{-3}\\frac{\\mathrm dx}{\\mathrm dy}=x^{-2}y+y^3$$"
   ]
  },
  {
   "cell_type": "markdown",
   "metadata": {},
   "source": [
    "引入变量交换：$z=x^{-2}$从而$$\\frac{\\mathrm dz}{\\mathrm dy}=-2x^{-3}\\frac{\\mathrm dx}{\\mathrm dy}…………（2）$$"
   ]
  },
  {
   "cell_type": "markdown",
   "metadata": {},
   "source": [
    "将（1）代入上式中，得：$$\\frac{\\mathrm dz}{\\mathrm dy}=-2yz-2y^3$$"
   ]
  },
  {
   "cell_type": "markdown",
   "metadata": {},
   "source": [
    "求齐次线性微分方程$$\\frac{\\mathrm dz}{\\mathrm dy}=-2yz$$的通解为：$$z=ce^{-y^2}$$"
   ]
  },
  {
   "cell_type": "markdown",
   "metadata": {},
   "source": [
    "视$c=c(x)$,可得：$$\\frac{\\mathrm dz}{\\mathrm dy}=\\frac{\\mathrm dc(y)}{\\mathrm dy}e^{-y^2}-2yc(y)e^{y^2}$$"
   ]
  },
  {
   "cell_type": "markdown",
   "metadata": {},
   "source": [
    "代入（2）得：$$\\frac{\\mathrm dc(y)}{\\mathrm dy}=2y^3e^{y^2}$$"
   ]
  },
  {
   "cell_type": "markdown",
   "metadata": {},
   "source": [
    "两边积分得：$$c(y)=(1—y^2)e^{y^2}+c_1$$"
   ]
  },
  {
   "cell_type": "markdown",
   "metadata": {},
   "source": [
    "方程的通解为：$$z=ce^{y^2}（(1-y^2)e^{y^2}+c_1）$$"
   ]
  },
  {
   "cell_type": "markdown",
   "metadata": {},
   "source": [
    "代入$z=x^{-2}$得方程的通解为：$$x^{-2}=ce^{y^2}（(1-y^2)e^{y^2}+c_1）$$\n",
    "$$e^{y^2}(1-x^2+x^2y^2)=c_1x^2$$"
   ]
  },
  {
   "cell_type": "markdown",
   "metadata": {},
   "source": [
    "### $(16)y=e^x+\\int_0^x y(t)\\,\\mathrm{d}t$"
   ]
  },
  {
   "cell_type": "markdown",
   "metadata": {},
   "source": [
    "解：上式可化为：$$ \\frac{\\mathrm dy}{\\mathrm dx}=e^x+y…………(1) $$"
   ]
  },
  {
   "cell_type": "markdown",
   "metadata": {},
   "source": [
    "求齐次线性微分方程$$\\frac{\\mathrm dy}{\\mathrm dx}=y$$的通解为：$$y=ce^{x}$$"
   ]
  },
  {
   "cell_type": "markdown",
   "metadata": {},
   "source": [
    "视$c=c(x)$,可得：$$\\frac{\\mathrm dy}{\\mathrm dx}=\\frac{\\mathrm dc(x)}{\\mathrm dx}e^{x}+c(x)e^{x}$$"
   ]
  },
  {
   "cell_type": "markdown",
   "metadata": {},
   "source": [
    "将（1）代入得：$$\\frac{\\mathrm dc(x)}{\\mathrm dx}=1$$"
   ]
  },
  {
   "cell_type": "markdown",
   "metadata": {},
   "source": [
    "两边积分得：$$c(x)=x+c_1$$"
   ]
  },
  {
   "cell_type": "markdown",
   "metadata": {},
   "source": [
    "方程的通解得：$$y=e^x（x+c_1）$$"
   ]
  },
  {
   "cell_type": "markdown",
   "metadata": {},
   "source": [
    "# <font color='red'>特解？？ "
   ]
  },
  {
   "cell_type": "markdown",
   "metadata": {},
   "source": [
    "## 7.求解下列方程"
   ]
  },
  {
   "cell_type": "markdown",
   "metadata": {},
   "source": [
    "### $(3)y’sin(x)*cos(x)-y-sin^3(x)=0$"
   ]
  },
  {
   "cell_type": "markdown",
   "metadata": {},
   "source": [
    "方程可化为：$$ \\frac{\\mathrm dy}{\\mathrm dx}=\\frac{\\mathrm y+sin^3(x)}{\\mathrm sin(x)*cos(x)}$$\n",
    "$$=\\frac{\\mathrm y}{\\mathrm sin(x)*cos(x)}+\\frac{\\mathrm sin^2(x)}{\\mathrm cos(x)}$$"
   ]
  },
  {
   "cell_type": "markdown",
   "metadata": {},
   "source": [
    "$$P(x)=\\frac{\\mathrm 1}{\\mathrm sin(x)*cos(x)},Q(x)=\\frac{\\mathrm sin^2(x)}{\\mathrm cos(x)}$$"
   ]
  },
  {
   "cell_type": "markdown",
   "metadata": {},
   "source": [
    "由微分方程得：$$y=e^{\\int P(x)\\,\\mathrm{d}x}(\\int Q(x)e^{\\int -P(x)\\,\\mathrm{d}x}\\,\\mathrm{d}x+c_1)$$"
   ]
  },
  {
   "cell_type": "markdown",
   "metadata": {},
   "source": [
    "$$y=e^{\\int {\\frac{\\mathrm 1}{\\mathrm sin(x)*cos(x)}}\\,\\mathrm{d}x}(\\int {\\frac{\\mathrm sin^2(x)}{\\mathrm cos(x)}}e^{\\int -{\\frac{\\mathrm 1}{\\mathrm sin(x)*cos(x)}}\\,\\mathrm{d}x}\\,\\mathrm{d}x+c_1)$$"
   ]
  },
  {
   "cell_type": "markdown",
   "metadata": {},
   "source": [
    "$$y=\\frac{\\mathrm sin(x)}{\\mathrm cos(x)}(\\int sin(x)\\,\\mathrm{d}x+c_1)$$\n",
    "$$y=\\frac{\\mathrm sin(x)}{\\mathrm cos(x)}(-cos(x)+c_2)$$\n",
    "$$y=tan(x)-sin(x)$$"
   ]
  },
  {
   "cell_type": "markdown",
   "metadata": {},
   "source": [
    "# <font color='red'>特解？？"
   ]
  },
  {
   "cell_type": "markdown",
   "metadata": {},
   "source": [
    "## 1.验证下列方程是恰当微分方程，并求出方程的解："
   ]
  },
  {
   "cell_type": "markdown",
   "metadata": {},
   "source": [
    "### $(1)(x^2+y)dx+(x-2y)dy=0;$"
   ]
  },
  {
   "cell_type": "markdown",
   "metadata": {},
   "source": [
    "解：$\\frac{\\partial M}{\\partial y}=1,\\frac{\\partial N}{\\partial x}=1,故方程是恰当微分方程。$"
   ]
  },
  {
   "cell_type": "markdown",
   "metadata": {},
   "source": [
    "分组得：$$d（\\frac{\\mathrm 1}{\\mathrm 3}x^3+2xy-y^2)=0$$"
   ]
  },
  {
   "cell_type": "markdown",
   "metadata": {},
   "source": [
    "方程的通解为：$$\\frac{\\mathrm 1}{\\mathrm 3}x^3+2xy-y^2=c$$"
   ]
  },
  {
   "cell_type": "markdown",
   "metadata": {},
   "source": [
    "### $(2)(y-3x^2)dx-(4y-x)dy=0;$"
   ]
  },
  {
   "cell_type": "markdown",
   "metadata": {},
   "source": [
    "解：$\\frac{\\partial M}{\\partial y}=1,\\frac{\\partial N}{\\partial x}=1,故方程是恰当微分方程。$"
   ]
  },
  {
   "cell_type": "markdown",
   "metadata": {},
   "source": [
    "分组得：$$d(2xy-x^3-2y^2)=0$$"
   ]
  },
  {
   "cell_type": "markdown",
   "metadata": {},
   "source": [
    "方程的通解得：$$2xy-x^3-2y^2=c$$"
   ]
  },
  {
   "cell_type": "markdown",
   "metadata": {},
   "source": [
    "## 附加题：$\\int_{x_0}^xP(t)\\,\\mathrm{d}t$求上限求导"
   ]
  },
  {
   "cell_type": "markdown",
   "metadata": {},
   "source": [
    "解：$$(\\int_{x_0}^xP(t)\\,\\mathrm{d}t)’=P(x)$$"
   ]
  },
  {
   "cell_type": "markdown",
   "metadata": {},
   "source": [
    "# <font color='red'>A—  19/9 "
   ]
  },
  {
   "cell_type": "code",
   "execution_count": null,
   "metadata": {
    "collapsed": true
   },
   "outputs": [],
   "source": []
  }
 ],
 "metadata": {
  "kernelspec": {
   "display_name": "SageMath 7.3",
   "language": "",
   "name": "sagemath"
  },
  "language_info": {
   "codemirror_mode": {
    "name": "ipython",
    "version": 2
   },
   "file_extension": ".py",
   "mimetype": "text/x-python",
   "name": "python",
   "nbconvert_exporter": "python",
   "pygments_lexer": "ipython2",
   "version": "2.7.10"
  }
 },
 "nbformat": 4,
 "nbformat_minor": 0
}
