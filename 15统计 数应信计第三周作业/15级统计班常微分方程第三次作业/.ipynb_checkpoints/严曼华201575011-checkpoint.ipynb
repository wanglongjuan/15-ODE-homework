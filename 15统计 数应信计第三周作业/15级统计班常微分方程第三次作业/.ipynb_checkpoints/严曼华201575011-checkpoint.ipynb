{
 "cells": [
  {
   "cell_type": "markdown",
   "metadata": {
    "collapsed": true
   },
   "source": [
    "# $$第二次作业$$\n"
   ]
  },
  {
   "cell_type": "markdown",
   "metadata": {},
   "source": [
    "## $1、求下列方程的解$"
   ]
  },
  {
   "cell_type": "markdown",
   "metadata": {},
   "source": [
    "### $(4)\\frac{\\mathrm dy}{\\mathrm dx}-\\frac{\\mathrm ny}{\\mathrm x}=e^xx^n$"
   ]
  },
  {
   "cell_type": "markdown",
   "metadata": {},
   "source": [
    "### $解：$\n",
    "### $先求齐次方程\\frac{\\mathrm dy}{\\mathrm dx}-\\frac{\\mathrm ny}{\\mathrm x}=0的通解$\n",
    "### $分离变量得\\frac{\\mathrm n}{\\mathrm x}dx=\\frac{\\mathrm dy}{\\mathrm x}$\n",
    "### $两边积分得：y=cx^n$\n",
    "### $设所求通解为y=c(x)x^n,代入原方程得$\n",
    "### $\\frac{\\mathrm dc(x)}{\\mathrm dx}=e^x$\n",
    "### $积分得c(x)=e^x+c_1$\n",
    "### $所以原方程的解为y=(e^x+c_1)x^n,c_1为任意常数。$"
   ]
  },
  {
   "cell_type": "markdown",
   "metadata": {},
   "source": [
    "### $ (15)\\frac{\\mathrm dy}{\\mathrm dx}=\\frac{\\mathrm 1}{\\mathrm xy+x^3y^3}$"
   ]
  },
  {
   "cell_type": "markdown",
   "metadata": {},
   "source": [
    "### $解：$\n",
    "### $原方程可化为\\frac{\\mathrm dx}{\\mathrm dy}=xy+x^3y^3，此为伯努利方程$\n",
    "### $当x不等于0时，两边同乘x^{-3}得$\n",
    "### $x^{-3}\\frac{\\mathrm dx}{\\mathrm dy}=x^{-2}y+y^3$\n",
    "### $令Z=X^{-2}则\\frac{\\mathrm dz}{\\mathrm dy}=-2x^{-3}\\frac{\\mathrm dx}{\\mathrm dy}$\n",
    "### $代入得\\frac{\\mathrm dz}{\\mathrm dy}=-2yZ-2y^3,利用一阶齐次方程求解得$\n",
    "### $\\frac{\\mathrm 1}{\\mathrm x^2}=ce^{-y^2}-y^2+1或者(1-x^2+x^2y^2)e^{y^2}=cx^2,c为任意常数。$"
   ]
  },
  {
   "cell_type": "markdown",
   "metadata": {},
   "source": [
    "### $(16)y=e^x+\\int_0^x y(t)\\,\\mathrm{d}t$"
   ]
  },
  {
   "cell_type": "markdown",
   "metadata": {},
   "source": [
    "### $解：$\n",
    "### $对方程两端关于x求导得\\frac{\\mathrm dy}{\\mathrm dx}=e^x+y$\n",
    "### $应用一阶线性方程的求解公式，得y=e^x(\\int e^xe^{-x}\\,\\mathrm {d}x+c)=e^x(x+c)$\n",
    "### $当x=0时，由原方程可得y=1,所以可求出c=1。$\n",
    "### $因此，原方程的解为y=e^x(x+1)$"
   ]
  },
  {
   "cell_type": "markdown",
   "metadata": {},
   "source": [
    "### $1、验证下列方程是恰当微分方程，并求出方程的解$"
   ]
  },
  {
   "cell_type": "markdown",
   "metadata": {},
   "source": [
    "### $(1)(x^2+y)dx+(x-2y)dy=0$"
   ]
  },
  {
   "cell_type": "markdown",
   "metadata": {},
   "source": [
    "### $解：$\n",
    "### $由于M=x^2+y,N=x-2y,$\n",
    "### $又\\frac{\\mathrm \\partial M}{\\mathrm \\partial y}=1,\\frac{\\mathrm \\partial N}{\\mathrm \\partial x}=1,因此方程是恰当微分方程。$\n",
    "### $现在求u，使它同时满足如下两个方程：\\frac{\\mathrm \\partial u}{\\mathrm \\partial x}=x^2+y,\\frac{\\mathrm \\partial u}{\\mathrm \\partial y}=x-2y$\n",
    "### $第一个方程对x积分，得到u=\\frac{\\mathrm 1}{\\mathrm 3}x^3+xy+p(y),$\n",
    "### $对此等式两端关于y求导，得\\frac{\\mathrm \\partial u}{\\mathrm \\partial y}=x+p'(y),$\n",
    "### $与\\frac{\\mathrm \\partial u}{\\mathrm \\partial y}=x-2y相比较得p'(y)=-2y,积分后得到p(y)=-y^2,所以u=\\frac{\\mathrm 1}{\\mathrm 3}x^3+xy-y^2$\n",
    "### $即得到原方程的通解为\\frac{\\mathrm 1}{\\mathrm 3}x^3-xy-y^2=c,c为任意常数。$"
   ]
  },
  {
   "cell_type": "markdown",
   "metadata": {},
   "source": [
    "### $(2)(y-3x^2)dx-(4y-x)dy=0$"
   ]
  },
  {
   "cell_type": "markdown",
   "metadata": {},
   "source": [
    "### $解：$\n",
    "### $由于M=y-3x^2,N=x-4y,$\n",
    "### $又\\frac{\\mathrm \\partial M}{\\mathrm \\partial y}=1,\\frac{\\mathrm \\partial N}{\\mathrm \\partial X}=1,因此该方程为恰当方程。$\n",
    "### $把方程重新分项组合，得到（ydx+xdy)-3x^2dx-4ydy=0,$\n",
    "### $即d(xy-x^3-2y^2)=c,其中c为任一常数。$"
   ]
  },
  {
   "cell_type": "markdown",
   "metadata": {},
   "source": [
    "### $2、求\\int_{x_0} ^x p(t)\\,\\mathrm{d}t的变上限求导$"
   ]
  },
  {
   "cell_type": "markdown",
   "metadata": {},
   "source": [
    "### $ 解：$\n",
    "### $\\int_{x_0} ^x p(t)\\,\\mathrm{d}t=p(x)$"
   ]
  },
  {
   "cell_type": "markdown",
   "metadata": {
    "collapsed": true
   },
   "source": [
    "# <font color='red'>A  19/9 少一道题"
   ]
  },
  {
   "cell_type": "code",
   "execution_count": null,
   "metadata": {
    "collapsed": true
   },
   "outputs": [],
   "source": []
  }
 ],
 "metadata": {
  "kernelspec": {
   "display_name": "Python 2",
   "language": "python",
   "name": "python2"
  },
  "language_info": {
   "codemirror_mode": {
    "name": "ipython",
    "version": 2
   },
   "file_extension": ".py",
   "mimetype": "text/x-python",
   "name": "python",
   "nbconvert_exporter": "python",
   "pygments_lexer": "ipython2",
   "version": "2.7.10"
  }
 },
 "nbformat": 4,
 "nbformat_minor": 0
}
