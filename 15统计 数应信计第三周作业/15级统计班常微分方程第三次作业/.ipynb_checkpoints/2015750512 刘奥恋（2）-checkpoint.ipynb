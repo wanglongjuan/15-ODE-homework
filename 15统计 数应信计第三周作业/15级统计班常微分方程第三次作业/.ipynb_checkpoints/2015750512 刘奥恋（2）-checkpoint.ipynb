{
 "cells": [
  {
   "cell_type": "markdown",
   "metadata": {},
   "source": [
    "# 第二次常微分作业  2015750512 刘奥恋 #"
   ]
  },
  {
   "cell_type": "markdown",
   "metadata": {},
   "source": [
    "$$\\frac{\\mathrm dy}{\\mathrm dx}-\\frac{n}{x}y=e^xx^n$$"
   ]
  },
  {
   "cell_type": "markdown",
   "metadata": {},
   "source": [
    "$解：方程可以化为：\\frac{\\mathrm dy}{\\mathrm dx}=e^xx^n+\\frac{n}{x}y$\n",
    "\n",
    "$先解齐次线性方程\\frac{\\mathrm dy}{\\mathrm dx}=\\frac{n}{x}y$\n",
    "\n",
    "$分离变量得：\\frac{\\mathrm dy}{ny}=\\frac{\\mathrm dx}{x}$\n",
    "\n",
    "$两边同时积分得：\\frac{1}{n}y=lnx+c,得到y=cx^n$\n",
    "\n",
    "$把c视为c(x)则有\\frac{\\mathrm dc(x)}{dx}x^n+nx^(n-1)c(x)=nx^(n-1)c(x)+e^xx^n$\n",
    "\n",
    "$得\\frac{dc(x)}{dx}=e^x$\n",
    "\n",
    "$分离变量，两边积分得c(x)=e^x+c'$\n",
    "\n",
    "$代入上面得程的解为y=(e^x+c')x^n$"
   ]
  },
  {
   "cell_type": "markdown",
   "metadata": {},
   "source": [
    "$$\\frac{\\mathrm dy}{\\mathrm dx}=\\frac{1}{xy+x^3y^3}$$"
   ]
  },
  {
   "cell_type": "markdown",
   "metadata": {},
   "source": [
    "$先将方程化为\\frac{\\mathrm dx}{\\mathrm dy}=xy+x^3y^3$\n",
    "\n",
    "$方程两边同时除以y^3得到\\frac{1}{x^3}\\frac{\\mathrm dx}{\\mathrm dy}=y\\frac{1}{x^2}+y^3$\n",
    "\n",
    "$令x^2=z则有\\frac{\\mathrm dz}{\\mathrm dy}=-2x^3\\frac{\\mathrm dy}{\\mathrm dx}$\n",
    "\n",
    "$\\frac{\\mathrm dz}{\\mathrm dy}=-\\frac{2y}{x^2}-2y^3=-2yz-2y^3$\n",
    "\n",
    "$  P(x)=-2y,  Q(x)=-2y^3$\n",
    "\n",
    "$由求解公式得z=e^{\\int -2ydy}(\\int -2y^3e^{-\\int{-2y}dy}dy+c)=e^{-y^2}(-\\int2y^3e^{y^2}dy+c)$\n",
    "\n",
    "$             =-y^2+1+ce^{-y^2}$\n",
    "\n",
    "$x^2(-y^2+1+ce(-y^2))=1$\n",
    "\n",
    "$x^2e^(-y^2)(-y^2+1+ce^{-y^2})=e^(y^2)$\n",
    "\n",
    "$得到方程的解为e^{y^2}(1-x^2+x^2y^2)=cx^2$"
   ]
  },
  {
   "cell_type": "markdown",
   "metadata": {},
   "source": [
    "$$y=e^x+\\int_0^x\\mathrm y(t)dt$$"
   ]
  },
  {
   "cell_type": "markdown",
   "metadata": {},
   "source": [
    "$y=e^x+\\int_0^x\\mathrm y(t)dt$\n",
    "\n",
    "$\\frac{\\mathrm dy}{\\mathrm dx}=e^x+y(x)$\n",
    "\n",
    "$\\frac{\\mathrm dy}{\\mathrm dx}=y+e^x$\n",
    "\n",
    "$有P(x)=1，Q（x）=e^x$\n",
    "\n",
    "$由一阶齐次线性方程可以求解得y=e^{\\int 1dx}（\\int{e^x}e^{-\\int 1dx}dx+c）$\n",
    "\n",
    "$y=e^x(\\int{ e^x}e^{-x}dx+c)=e^x(x+c)即方程的解$\n"
   ]
  },
  {
   "cell_type": "markdown",
   "metadata": {},
   "source": [
    "# <font color='red'>特解？？?\n"
   ]
  },
  {
   "cell_type": "markdown",
   "metadata": {},
   "source": [
    "## 求解下列方程的解 ##"
   ]
  },
  {
   "cell_type": "markdown",
   "metadata": {},
   "source": [
    "$$\\frac{\\mathrm dy}{\\mathrm dx}sinxcosx-y-sin^3x=0$$"
   ]
  },
  {
   "cell_type": "markdown",
   "metadata": {},
   "source": [
    "$\\frac{\\mathrm dy}{\\mathrm dx}=\\frac{y}{sinxcosx}+\\frac{sin^2x}{cosx}$\n",
    "\n",
    "$P(x)=\\frac{1}{sinxcosx},Q(x)=\\frac{sin^2x}{cosx}$\n",
    "\n",
    "$由一阶齐次线性方程求解公式得：y=e^{\\int{\\frac{1}{\\sin x\\cos x}}dx}(\\int{\\frac{sin^2x}{cosx}e^{-\\int{\\frac{1}{sinxcosx}dx}}dx+c})$\n",
    "\n",
    "$y=\\frac{\\ sinx}{\\ cosx}(\\int{sinx}dx+c)=\\frac{\\ sinx}{\\ cosx}(-\\ cosx+c)=\\ tgxc-\\ sinx$"
   ]
  },
  {
   "cell_type": "markdown",
   "metadata": {},
   "source": [
    "# <font color='red'>特解？？"
   ]
  },
  {
   "cell_type": "markdown",
   "metadata": {},
   "source": [
    "### 验证下列方程是方程是恰当微分方程，并求出方程的解。###"
   ]
  },
  {
   "cell_type": "markdown",
   "metadata": {},
   "source": [
    "$$(x^2+y)dx+(x-2y)dy=0$$"
   ]
  },
  {
   "cell_type": "markdown",
   "metadata": {},
   "source": [
    "$\\frac{\\partial M}{\\partial y}=1,\\frac{\\partial N}{\\partial x}=1$\n",
    "\n",
    "$\\frac{\\partial M}{\\partial y}=\\frac{\\partial N}{\\partial x}=1，所以方程是恰当微分方程。$\n",
    "\n",
    "$将方程的每一项拆开合并得x^2dx+ydx+(xdy-2ydy)=0$\n",
    "\n",
    "$得到方程的解为\\frac{1}{3}x^3+xy-y^2=C$\n"
   ]
  },
  {
   "cell_type": "markdown",
   "metadata": {},
   "source": [
    "$$(y-3x^2)dx-(4y-x)dy=0$$"
   ]
  },
  {
   "cell_type": "markdown",
   "metadata": {},
   "source": [
    "$\\frac{\\partial M}{\\partial y}=1,\\frac{\\partial N}{\\partial x}=1$\n",
    "\n",
    "$\\frac{\\partial M}{\\partial y}=\\frac{\\partial N}{\\partial x}=1,所以方程是恰当微分方程$\n",
    "\n",
    "$将每一项拆分再合并有：ydx-3x^2dx-4ydy+xdy=0$\n",
    "\n",
    "$得到x^3-xy+2y^2=C$"
   ]
  },
  {
   "cell_type": "markdown",
   "metadata": {},
   "source": [
    "## 补充题 ##"
   ]
  },
  {
   "cell_type": "markdown",
   "metadata": {},
   "source": [
    "$$对F(x)=\\int_{x_0}^x\\mathrm f(t)dt求导$$"
   ]
  },
  {
   "cell_type": "markdown",
   "metadata": {},
   "source": [
    "$由定积分的区间可加性可知F(x+Δx)-F(x)=\\int_a^{x+Δx}{f(t)}dt-\\int_a^x{f(t)}dt=\\int_x^{x+Δx}{f(t)}dt$\n",
    "\n",
    "$当Δx趋于0时有，F'(x)=\\lim{\\frac{F(x+Δx)-F(x)}{Δx}=f(x)}$"
   ]
  },
  {
   "cell_type": "markdown",
   "metadata": {},
   "source": [
    "# <font color='red'>A - 19/9 "
   ]
  },
  {
   "cell_type": "code",
   "execution_count": null,
   "metadata": {
    "collapsed": true
   },
   "outputs": [],
   "source": []
  }
 ],
 "metadata": {
  "kernelspec": {
   "display_name": "SageMath 7.3",
   "language": "",
   "name": "sagemath"
  },
  "language_info": {
   "codemirror_mode": {
    "name": "ipython",
    "version": 2
   },
   "file_extension": ".py",
   "mimetype": "text/x-python",
   "name": "python",
   "nbconvert_exporter": "python",
   "pygments_lexer": "ipython2",
   "version": "2.7.10"
  }
 },
 "nbformat": 4,
 "nbformat_minor": 0
}
