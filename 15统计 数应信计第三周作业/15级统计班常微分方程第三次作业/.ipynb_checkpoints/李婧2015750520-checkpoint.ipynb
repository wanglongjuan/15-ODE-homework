{
 "cells": [
  {
   "cell_type": "markdown",
   "metadata": {},
   "source": [
    "# $$第二次作业$$"
   ]
  },
  {
   "cell_type": "markdown",
   "metadata": {},
   "source": [
    "### 1.求下列方程解"
   ]
  },
  {
   "cell_type": "markdown",
   "metadata": {},
   "source": [
    "### (4) $\\frac{\\mathrm d y}{\\mathrm d x}-\\frac{n}{x}y=e^xx^n (n为常数)；$"
   ]
  },
  {
   "cell_type": "markdown",
   "metadata": {},
   "source": [
    "#### 解："
   ]
  },
  {
   "cell_type": "markdown",
   "metadata": {},
   "source": [
    "#### $原式可以变换为：$\n",
    "$$\\frac{\\mathrm d y}{\\mathrm d x}=\\frac{n}{x}y+e^xx^n$$\n",
    "#### $设$ $$P(x)=\\frac{n}{x} ,Q(x)=e^xx^n$$\n",
    "#### $由常数变易法$ $$y=e^{\\int P(x)\\,\\mathrm dx}(\\int Q(x) e^{-\\int P（x）\\mathrm d y}   \\mathrm d x+c)$$\n",
    "#### $得$ $$y=e^{\\int \\frac{n}{x}\\,\\mathrm dx}(\\int e^xx^n e^{-\\int \\frac{n}{x} \\mathrm dy}   \\mathrm dx+c)$$\n",
    "#### $$y=x^n(e^x+c)$$"
   ]
  },
  {
   "cell_type": "markdown",
   "metadata": {},
   "source": [
    "### (15) $\\frac{\\mathrm dy}{\\mathrm dx}=\\frac{1}{xy+x^3y^3}$"
   ]
  },
  {
   "cell_type": "markdown",
   "metadata": {},
   "source": [
    "#### $ 解：原式变为  $ $$\\frac{\\mathrm dx}{\\mathrm dy}=xy+x^3y^3…………（1）$$ \n",
    "#### $对于y\\neq0,两边同时乘以x^{-3}$ $$x^{-3}\\frac{\\mathrm dx}{\\mathrm dy}=xy^{-2}+x^3$$\n",
    "#### $引入变量变换z=x^{-2}$ $$\\frac{\\mathrm dz}{\\mathrm dy}=-2x^{-3}\\frac{\\mathrm dx}{\\mathrm dy}…………（2）$$ \n",
    "#### $代入（1）$ $$\\frac{\\mathrm dz}{\\mathrm dy}=-2yz-2y^3$$ \n",
    "#### $$P(y)=-2y,Q(y)=-2y^3$$\n",
    "#### $由常数变易法$ $$y=e^{\\int P(x)\\,\\mathrm dx}(\\int Q(x) e^{-\\int P（x）\\mathrm d y}   \\mathrm d x+c)$$\n",
    "#### $通解为$ $$z=ce^{y^2}((1-y^2)e^{y^2}+c)$$\n",
    "#### $代入z=x^{-2},通解为$ $$e^{y^2}(1-x^2+x^2y^2)=cx^2$$"
   ]
  },
  {
   "cell_type": "markdown",
   "metadata": {},
   "source": [
    "### $(16) y=e^x+\\int y(t)dx$"
   ]
  },
  {
   "cell_type": "markdown",
   "metadata": {},
   "source": [
    "#### 解："
   ]
  },
  {
   "cell_type": "markdown",
   "metadata": {},
   "source": [
    "#### $对原式两边积分得$\n",
    "#### $$\\frac{\\mathrm dy}{\\mathrm dx}=e^x+y... ... ... ...(1)$$\n",
    "#### $齐次线性微分方程$ $$\\frac{\\mathrm dy}{\\mathrm dx}=y$$\n",
    "#### $的通解为：$ $$y=ce^{\\int 1dx}$$\n",
    "#### $即$ $$y=ce^x$$\n",
    "####  $视c为c(x)，有：$ $$\\frac{\\mathrm dy}{\\mathrm dx}=\\frac{\\mathrm dc(x)}{\\mathrm x}e^x+c(x)e^x$$\n",
    "#### $将(1)代入得：$ $$\\frac{\\mathrm dc(x)}{\\mathrm dx}=1$$\n",
    "#### $两边积分得：$  $$c(x)=x+c_1$$\n",
    "#### $则方程的通解为：$ $$y=e^x(x+c_1)$$"
   ]
  },
  {
   "cell_type": "markdown",
   "metadata": {},
   "source": [
    "# <font color='red'>特解？？"
   ]
  },
  {
   "cell_type": "markdown",
   "metadata": {},
   "source": [
    "###  7.求解下列方程："
   ]
  },
  {
   "cell_type": "markdown",
   "metadata": {},
   "source": [
    "### (3)$y'\\sin x *\\cos x -y-\\sin^3x=0$"
   ]
  },
  {
   "cell_type": "markdown",
   "metadata": {},
   "source": [
    "#### 解："
   ]
  },
  {
   "cell_type": "markdown",
   "metadata": {},
   "source": [
    "#### $原式可以化为$ $$\\frac{\\mathrm dy}{\\mathrm dx}=\\frac{y+sin^3 x}{\\sin x*\\cos x}$$\n",
    "#### $即$ $$\\frac{y}{\\sin x*\\cos x}+\\frac{\\sin^2 x}{\\cos x}$$\n",
    "#### $令 P(x)=\\frac{1}{\\sin x*\\cos x}  Q(x)=\\frac{\\sin^2x}{\\cos x}$\n",
    "#### $由常数变易法得$ $$y=e^{\\int P(x) dx}(\\int Q(x)e^{\\int -P(x)dx} dx+c_1)$$\n",
    "#### $将P（x）与Q(x)代入上式，得$ $$y=e^{\\int \\frac{1}{\\sin x*\\cos x} dx }(\\int \\frac{\\sin^2 x}{\\cos x}e^{\\int -\\frac {1}{\\sin x*\\cos x}dx}dx+c_1)$$\n",
    "#### $$y=\\frac{\\sin x}{\\cos x}(\\int sin(x)dx+c_2)$$\n",
    "#### $$y=\\frac{\\sin x}{\\cos x}(-cos x+c_2)$$\n",
    "#### $$y=\\tan x-sin x$$"
   ]
  },
  {
   "cell_type": "markdown",
   "metadata": {},
   "source": [
    "# <font color='red'>特解？？"
   ]
  },
  {
   "cell_type": "markdown",
   "metadata": {},
   "source": [
    "### 1.验证下列方程是恰当微分方程，并求出方程的解："
   ]
  },
  {
   "cell_type": "markdown",
   "metadata": {},
   "source": [
    "#### $ (1)(x^2+y) \\mathrm dx+(x-2y) \\mathrm dy; $ ####"
   ]
  },
  {
   "cell_type": "markdown",
   "metadata": {},
   "source": [
    "#### 解："
   ]
  },
  {
   "cell_type": "markdown",
   "metadata": {},
   "source": [
    "#### $设M(x,y)=x^2+y$          $N(x,y)=x-2y$\n",
    "#### $由$ $$\\frac{\\partial M}{\\partial y}=1$$  $$\\frac{\\partial N}{\\partial x}=1$$\n",
    "#### $所以方程为恰当微分方程$\n",
    "#### $分组得：$ $$\\mathrm d(\\frac{1}{3}x^3+2y-y^2)=0$$\n",
    "#### $方程的通解为：$ $$\\frac{1}{3}x^3+2xy-y^3=c$$"
   ]
  },
  {
   "cell_type": "markdown",
   "metadata": {},
   "source": [
    "### $(2)(y-3x^2)\\mathrm dx-(4y-x)\\mathrm dy=0;$"
   ]
  },
  {
   "cell_type": "markdown",
   "metadata": {},
   "source": [
    "#### 解："
   ]
  },
  {
   "cell_type": "markdown",
   "metadata": {},
   "source": [
    "#### $设$ $$M(x,y)=y-3x^2$$ $$ N(x,y)=-(4y-x)$$\n",
    "#### $由$  $$\\frac{\\partial M}{\\partial y}=1$$ $$\\frac{\\partial N}{\\partial x}=1$$\n",
    "#### $所以方程为恰当微分方程$\n",
    "#### $分组得$ $$\\partial d(2xy-x^3-2y^2)=0$$\n",
    "#### $方程的通解为：$  $$2xy-x^3-2y^2=c$$\n"
   ]
  },
  {
   "cell_type": "markdown",
   "metadata": {},
   "source": [
    "### 附加题：$\\int_{x_0}^xp(t)\\,\\mathrm d t $求上限求导"
   ]
  },
  {
   "cell_type": "markdown",
   "metadata": {},
   "source": [
    "### 解："
   ]
  },
  {
   "cell_type": "markdown",
   "metadata": {},
   "source": [
    "#### $$(\\int_{x_0}^xp(t)\\,\\mathrm d t)'=P(x)$$"
   ]
  },
  {
   "cell_type": "markdown",
   "metadata": {
    "collapsed": true
   },
   "source": [
    "# <font color='red'>A  19/9 "
   ]
  },
  {
   "cell_type": "code",
   "execution_count": null,
   "metadata": {
    "collapsed": true
   },
   "outputs": [],
   "source": []
  }
 ],
 "metadata": {
  "kernelspec": {
   "display_name": "SageMath 7.3",
   "language": "",
   "name": "sagemath"
  },
  "language_info": {
   "codemirror_mode": {
    "name": "ipython",
    "version": 2
   },
   "file_extension": ".py",
   "mimetype": "text/x-python",
   "name": "python",
   "nbconvert_exporter": "python",
   "pygments_lexer": "ipython2",
   "version": "2.7.10"
  }
 },
 "nbformat": 4,
 "nbformat_minor": 0
}
