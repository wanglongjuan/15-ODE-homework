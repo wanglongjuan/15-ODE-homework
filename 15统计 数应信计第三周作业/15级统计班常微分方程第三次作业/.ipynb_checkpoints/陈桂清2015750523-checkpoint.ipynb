{
 "cells": [
  {
   "cell_type": "markdown",
   "metadata": {},
   "source": [
    "### 1.求下列方程的解\n",
    "\n",
    "## （4）$\\frac{dy}{dx}-\\frac{n}{x}y=e^\n",
    "xx^n(n为常数)$\n",
    "解：\n",
    "\n",
    "原方程可化为：$$\\frac{dy}{dx}=\\frac{x}{n}y+e^xx^n$$\n",
    "\n",
    "$y=e^{\\int \\frac{n}{x}dx}(\\int e^xx^ne^{-\\int \\frac{n}{x}dx}dx+c)=x^n(e^x+c)$\n"
   ]
  },
  {
   "cell_type": "markdown",
   "metadata": {},
   "source": [
    "\n",
    "\n",
    "## （15）$ \\frac{dy}{dx}= \\frac{1}{xy+x^3y^3}$\n",
    "\n",
    "解：\n",
    "\n",
    "$∵\\frac{dy}{dx}= \\frac{1}{xy+x^3y^3}$\n",
    "\n",
    "$∴\\frac{dx}{dy}= xy+x^3y^3$\n",
    "\n",
    "$∴n=3时的伯努利方程$\n",
    "\n",
    "$$∴\\frac{dx}{x^3dy}= \\frac{y}{x^2}+y^3$$\n",
    "\n",
    "$令x^{-2}=z$\n",
    "\n",
    "$∴\\frac{dz}{dy}= -2x^{-3}\\frac{dx}{dy}$\n",
    "\n",
    "$∴\\frac{dz}{dy}=\\frac{-2y}{x^2}-2y^3=-2yz-2y^3$\n",
    "\n",
    "$P(y)=-2y$    $Q(y)=-2y^3   $\n",
    "\n",
    "有一阶线性方程组的求解公式有：\n",
    "\n",
    "$z=e^{\\int-2ydy}(\\int-2y^3e^{-\\int-2dy}dy+c)=e^{-y^2}(-\\int2y^3e^{y^2}dy+c)=-y^2+1+ce^{-y^2}$\n",
    "\n",
    "$x^2(-y^2+1+ce^{-y^2})=1$\n",
    "\n",
    "$x^2e^{y^2}(-y^2+1+ce^{-y^2})=e^{y^2}$\n",
    "\n",
    "$e^{y^2}(1-x^2+x^2y^2)=cx^2$\n"
   ]
  },
  {
   "cell_type": "markdown",
   "metadata": {},
   "source": [
    "## (16)$y=e^x+\\int_{0}^{x}y(t)dt$\n",
    "\n",
    "解：\n",
    "\n",
    "$$\\frac{dy}{dx}=e^2+y(x)$$\n",
    "\n",
    "$$\\frac{dy}{dx}=y+e^x$$\n",
    "\n",
    "$$P(x)=1$$   $$Q(x)=e^x$$\n",
    "\n",
    "由一阶线性方程的求解公式：\n",
    "\n",
    "$y=e^{\\int1dx}(\\int e^xe^{-\\int1dx }dx+c)=e^x(\\int e^xe^{-x}dx+c)=e^x(x+c)$\n",
    "\n",
    "$e^x（x+c）=e^x+\\int_{0}^{x}e^x(x+c)dx$\n",
    "\n",
    "$c=1$          \n",
    "\n",
    "$y=e^x(x+c)$"
   ]
  },
  {
   "cell_type": "markdown",
   "metadata": {},
   "source": [
    "### 7.求解下列方程式\n",
    "\n",
    "## （3）$y'sinx*cosx-y-(sinx)^3=0$\n",
    "\n",
    "解:\n",
    "\n",
    "$\\frac{dy}{dx}=\\frac{y}{sinxcosx}+\\frac{(sinx)^2}{cosx}$\n",
    "\n",
    "$P(x)=\\frac{1}{sinxcosx}$      $Q(x)=\\frac{(sinx)^2}{cosx}$\n",
    "\n",
    "由一阶线性方程的求解公式:\n",
    "\n",
    "$y=e^{\\int\\frac{1}{sinxcosx}dx}(\\int\\frac{(sinx)^2}{cosx}e^{-\\int\\frac{1}{sinxcosx}dx}dx+c)=\\frac{sinx}{cosx}(\\int sinxdx+c)=\\frac{sinx}{cosx}(-cosx+c)=ctanx-sinx$"
   ]
  },
  {
   "cell_type": "markdown",
   "metadata": {},
   "source": [
    "# <font color='red'>特解"
   ]
  },
  {
   "cell_type": "markdown",
   "metadata": {},
   "source": [
    "### 1.验证下列方程是恰当微分方程，并求出方程的解：\n",
    "\n",
    "## （1）$(x^2+y)dx+(x-2y)dy=0$\n",
    "\n",
    "解：\n",
    "\n",
    "$\\frac{\\partial m}{\\partial y}=1$,$\\frac{\\partial n}{\\partial x}=1$\n",
    "\n",
    "则$\\frac{\\partial m}{\\partial y}=\\frac{\\partial n}{\\partial x}$\n",
    "\n",
    "∴此方程是恰当方程\n",
    "\n",
    "凑微分：$x^2dx-2ydy+(ydy+xdy)=0$\n",
    "\n",
    "∴$\\frac{1}{3}x^3+xy-y^3=c$\n"
   ]
  },
  {
   "cell_type": "markdown",
   "metadata": {
    "collapsed": true
   },
   "source": [
    "## (2)$(y-3x^2)dx-(4y-x)dy=0$\n",
    "\n",
    "解：\n",
    "\n",
    "$\\frac{\\partial m}{\\partial y}=1$,$\\frac{\\partial n}{\\partial x}=1$\n",
    "\n",
    "则$\\frac{\\partial m}{\\partial y}=\\frac{\\partial n}{\\partial x}$\n",
    "\n",
    "∴此方程是恰当方程\n",
    "\n",
    "凑微分：$ydy+xdy-3x^2dx-4ydy=0$\n",
    "\n",
    "∴$x^3-xy+2y^2=c$"
   ]
  },
  {
   "cell_type": "markdown",
   "metadata": {
    "collapsed": true
   },
   "source": [
    "### $F(x)=\\int_{x_0}^{x}P(t)dt变上限求导$\n",
    "\n",
    "解：$\\frac{d}{dx}\\int_{x_0}^{x}P(t)dt=P(x)*x'=P(x)$\n",
    "\n",
    "\n"
   ]
  },
  {
   "cell_type": "markdown",
   "metadata": {
    "collapsed": true
   },
   "source": [
    "# <font color='red'>A  19/9 过程太简单？？"
   ]
  },
  {
   "cell_type": "code",
   "execution_count": null,
   "metadata": {
    "collapsed": true
   },
   "outputs": [],
   "source": []
  }
 ],
 "metadata": {
  "kernelspec": {
   "display_name": "SageMath 7.3",
   "language": "",
   "name": "sagemath"
  },
  "language_info": {
   "codemirror_mode": {
    "name": "ipython",
    "version": 2
   },
   "file_extension": ".py",
   "mimetype": "text/x-python",
   "name": "python",
   "nbconvert_exporter": "python",
   "pygments_lexer": "ipython2",
   "version": "2.7.10"
  }
 },
 "nbformat": 4,
 "nbformat_minor": 0
}
