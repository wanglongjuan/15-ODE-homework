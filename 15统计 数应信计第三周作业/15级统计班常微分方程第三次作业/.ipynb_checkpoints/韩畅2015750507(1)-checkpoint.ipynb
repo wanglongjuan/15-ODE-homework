{
 "cells": [
  {
   "cell_type": "markdown",
   "metadata": {},
   "source": [
    "$常微分作业$  \n",
    "$P49$  \n",
    "$1.求下列方程的解$  \n",
    "$(4)dy/dx-ny/x=e^xx^n(n为常数)$  \n",
    "$解：先求线性齐次方程dy/dx-ny/x=0的通解$  \n",
    "$分离变量，得到dy/y=ndx/x$  \n",
    "$两边积分得y=cx^n$  \n",
    "$设所求通解为y=c(x)x^n$  \n",
    "$代入原方程，化简后得dc(x)/dx=e^x$  \n",
    "$积分得c(x)=e^x+c_1$  \n",
    "$于是原方程的通解为y=c_1x^n+e^xx^n,其中c_1为任意常数$ \n"
   ]
  },
  {
   "cell_type": "markdown",
   "metadata": {},
   "source": [
    "$(15)dy/dx=1/(xy+x^3y^3)$  \n",
    "$解：原方程可化为ydy/dx=1/(x+x^3y^2)$  \n",
    "$令u=y^2,则有du/dx=2/(x+x^3u)$  \n",
    "$当视u为自变量，x为因变量时，上述方程为dx/du=x/2+ux^3/2，这是n=3的伯努利方程$  \n",
    "$令z=x^-2,则经整理得，dz/du=-z-u$  \n",
    "$应用一阶线性方程的求解公式得到z=e\\int-1du(\\int(-u)e\\int1du+c)=ce^-u+1$  \n",
    "$代入原变量，可得1/x^2=ce^-y^2-y^2+1,其中c为任意常数$ "
   ]
  },
  {
   "cell_type": "markdown",
   "metadata": {},
   "source": [
    "$(16)y=e^x+\\int0^xy(t)dt$  \n",
    "$解：对方程y=e^x+\\int0^xy(t)dt两端关于x求导得dy/dx=e^x+y$  \n",
    "$应用一阶线性方程的求解公式，得y=e^x(\\int e^xe^-xdx+c)=e^x(x+c)$  \n",
    "$当x=0时，由原方程可得y=1,∴可求出c=1$  \n",
    "$因此原方程的解为y=e^x(x+1)$  \n"
   ]
  },
  {
   "cell_type": "markdown",
   "metadata": {},
   "source": [
    "$7.求解下列方程$  \n",
    "$(3)y'sinxcosx-y-(sinx)^3=0$  \n",
    "$解：原方程可变形为dy/dx=y/(sinx+cosx)+(sinx)^2/cosx(sinx≠0，cosx≠0)$  \n",
    "$应用一阶线性方程的求解公式得其通解为y=e\\int dx/sinxcosx[\\int(sinx)^2/cosx]e-\\int1/sinxcosxdx+c)$  \n",
    "$即y=tanx(\\int(sinx)^2/cosx)cotxdx+c)$  \n",
    "$求积分并化简得y=tanx(c-cosx),即y=ctanx-sinx$  \n",
    "$当sinx=0时，原方程化为y=0$  \n",
    "$当cosx=0时，原方程化为y=±1，即曲线退化成（2kπ+π/2，-1）和（2kπ-π/2，1),k=0,±1,±2,...$  \n",
    "$综上所述，原方程的解为y=ctanx-sinx,(x≠kπ±π/2),c为任意常数$   "
   ]
  },
  {
   "cell_type": "markdown",
   "metadata": {},
   "source": [
    "$P60$  \n",
    "$1.验证下列方程是恰当微分方程，并求出方程的解$  \n",
    "$(1)(x^2+y)dx+(x-2y)dy=0$  \n",
    "$解：由于M=x^2+y,N=x-2y$  \n",
    "$又因为\\partial M/\\partial y=1,\\partial N/\\partial x=1$  \n",
    "$因此方程式恰当微分方程$  \n",
    "$现求u,使它同时满足如下两个方程：\\partial u/\\partial x=x^2+y,\\partial u/\\partial y=x-2y$  \n",
    "$第一个方程对x积分，得到u=x^3/3+xy+ψ(y)$  \n",
    "$对此等式两端关于y求导，得\\partial u/\\partial y=x+ψ'(y)$  \n",
    "$与\\partial u/\\partial y=x-2y相比较得到ψ'(y)=-2y,积分后得到ψ(y)=-y^2$  \n",
    "$∴u=x^3/3+xy-y^2$  \n",
    "$即得到原方程的通解为x^3/3+xy-y^2=c,其中c是任意常数$  "
   ]
  },
  {
   "cell_type": "markdown",
   "metadata": {},
   "source": [
    "$(2)(y-3x^2)dx-(4y-x)dy=0$  \n",
    "$解：由于M=y-3x^2,N=x-4y$  \n",
    "$又\\partial M/\\partial y=1,\\partial N/\\partial x=1$  \n",
    "$因此方程是恰当微分方程$  \n",
    "$把方程重新“分项组合”，得到(ydx+xdy)-3x^2dx-4ydy=0$  \n",
    "$即d(xy-x^2-2y^2)=0$  \n",
    "$于是方程的通解为xy-x^3-2y^2=c,其中c为任意常数$"
   ]
  },
  {
   "cell_type": "markdown",
   "metadata": {},
   "source": [
    "$\\int x_0^xp(t)dt变上限求导$  \n",
    "$p(t)在区间[x_0,b]上有定义，由定积分区间可加性可知$  \n",
    "$p(x+△x)-p(x)=\\int x_0^(x+△x)p(t)dt-\\int x_0^xp(t)dt=\\int x^(x+△x)p(t)dt$  \n",
    "$记m,M分别为p(t)在[x_0,b]上的上确界和下确界，由定积分第一中值定理，即得到$  \n",
    "$若p(t)在[x_0,b]上可积，则p(x+△x)-p(x)=η△x  (η∈[m,M])$  \n",
    "$若p(t)在[x_0,b]上连续，则p(x+△x)-p(x)=p(ξ)△x  (ξ在x和x+△x之间）$  \n",
    "$不管哪种情况下，当△x→0时都有p(x+△x)-p(x)→0,即p(t)在[x_0,b]上连续$  \n"
   ]
  },
  {
   "cell_type": "markdown",
   "metadata": {},
   "source": [
    "# <font color='red'>A  19/9 "
   ]
  },
  {
   "cell_type": "code",
   "execution_count": null,
   "metadata": {
    "collapsed": true
   },
   "outputs": [],
   "source": []
  }
 ],
 "metadata": {
  "kernelspec": {
   "display_name": "SageMath 7.3",
   "language": "",
   "name": "sagemath"
  },
  "language_info": {
   "codemirror_mode": {
    "name": "ipython",
    "version": 2
   },
   "file_extension": ".py",
   "mimetype": "text/x-python",
   "name": "python",
   "nbconvert_exporter": "python",
   "pygments_lexer": "ipython2",
   "version": "2.7.10"
  }
 },
 "nbformat": 4,
 "nbformat_minor": 0
}
