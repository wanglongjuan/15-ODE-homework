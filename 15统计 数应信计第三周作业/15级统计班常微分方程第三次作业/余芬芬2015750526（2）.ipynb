{
 "cells": [
  {
   "cell_type": "markdown",
   "metadata": {},
   "source": [
    "$1.求下列方程的解：$  \n",
    "$(4)\\frac{dy}{dx}-\\frac{n}{x}y=e^xx^n(n为常数);$  \n",
    "$解：首先求线性齐次方程\\frac{dy}{dx}-\\frac{n}{x}y=0的通解.$  \n",
    "$分离变量，得\\frac{dy}{y}=\\frac{n}{x}dx,$  \n",
    "$两边积分得y=cx^n.$  \n",
    "$设所求通解为y=c(x)x^n,$  \n",
    "$代入原方程，化简后得\\frac{dc(x)}{dx}=e^x,$  \n",
    "$积分得c(x)=e^x+c_1.$  \n",
    "$于是，原方程的通解为y=c_1x^n+e^xx^n,其中c_1为任意常数.$  \n",
    "\n",
    "$(15)\\frac{dy}{dx}=\\frac{1}{xy+x^3y^3};$  \n",
    "$解：原方程可化为\\frac{ydy}{dx}=\\frac{1}{x+x^3y^3},令u=y^2,则有\\frac{du}{dx}=\\frac{2}{x+x^3u}.$  \n",
    "$当我们视u为自变量，x为因变量时，上述方程为\\frac{dx}{du}=\\frac{x}{2}+\\frac{u}{2}x^3,这是n=3的伯努利方程.$  \n",
    "$令z=x^{-2},则经整理得，\\frac{dz}{du}=-z-u.$  \n",
    "$应用一阶线性方程的求解公式，得$  \n",
    "$z=e^{\\int -1du}(\\int(-u)e^{\\int 1du}du+c)=ce^{-u}-u+1.$  \n",
    "$代回原变量，可得\\frac{1}{x^2}=c·e^{-y^2}-y^2+1.或者,(1-x^2+x^2y^2)e^{y^2}=cx^2,$  \n",
    "$其中c为任意常数，这就是原方程的解.$  \n",
    "\n",
    "$(16)y=e^x+\\int_0^1y(t)dt.$  \n",
    "$对方程y=e^x+\\int_0^xy(t)dt两端关于x求导得\\frac{dy}{dx}=e^x+y.$  \n",
    "$应用一阶线性方程的求解公式，得y=e^x(\\int e^x·e^{-x}dx+c)=e^x(x+c).$  \n",
    "$注意到当x=0时，由原方程可得y=1,所以可求出c=1.因此，原方程的解为y=e^x(x+1).$  \n",
    "\n",
    "$7.求解下列方程：$  \n",
    "$(3)y'\\sin x·\\cos x-y-\\sin^3x=0.$  \n",
    "$解：此方程可以变形为\\frac{dy}{dx}=\\frac{1}{\\sin x·\\cos x}y+\\frac{\\sin^2x}{\\cos x}(\\sin x≠0,\\cos x≠0).$  \n",
    "$应用一阶线性方程的求解公式得其通解为$  \n",
    "$y=e^{\\int\\frac{dx}{\\sin x\\cos x}}(\\int\\frac{\\sin^2x}{\\cos x}·e^{-\\int\\frac{1}{\\sin x\\cos x}dx}·dx+c),$  \n",
    "$即y=\\tan x(\\int\\frac{sin^2x}{\\cos x}·\\cot xdx+c),$  \n",
    "$求积分并化简得y=\\tan x(c-\\cos x),即y=c\\tan x-\\sin x,$  \n",
    "$当\\sin x=0时，原方程化为y=0.$  \n",
    "$当\\cos x=0时，原方程化为y=±1，即曲线退化成(2k\\pi+\\frac{\\pi}{2},-1)和(2k\\pi-\\frac{\\pi}{2},1),k=0,\\pm1，\\pm2，….$  \n",
    "$综上所述，原方程的解为y=c·\\tan x-\\sin x,(x\\neq k\\pi\\pm\\frac{\\pi}{2}),c为任意常数，$  \n",
    "$或者点(2k\\pi+\\frac{\\pi}{2},-1),(2k\\pi-\\frac{\\pi}{2},1),k=0,\\pm1,\\pm2,\\cdots.$  \n",
    "\n",
    "$1.验证下列方程是恰当微分方程，并求出方程的解：$  \n",
    "$(1)(x^2+y)dx+(x-2y)dy=0;$  \n",
    "$解：由于M=x^2+y,N=x-2y,$  \n",
    "$又\\frac{\\partial M}{\\partial y}=1,\\frac{\\partial N}{\\partial x}=1,因此方程是恰当微分方程.$  \n",
    "$现在求u，使它同时满足如下两个方程：\\frac{\\partial u}{\\partial x}=x^2+y,\\frac{\\partial u}{\\partial y}=x-2y.$  \n",
    "$第一个方程对x积分，得到u=\\frac{1}{3}x^3+xy+\\varphi(y),$  \n",
    "$对此等式两端关于y求导，得\\frac{\\partial u}{\\partial y}=x+\\varphi'(y),与\\frac{\\partial u}{\\partial y}=x-2y相比较$  \n",
    "$得到\\varphi'(y)=-2y,积分后得到\\varphi(y)=-y^2,所以u=\\frac{1}{3}x^3+xy-y^2.$  \n",
    "$即得到原方程的通解为\\frac{1}{3}x^3+xy-y^2=c,其中c是任意常数.$  \n",
    "\n",
    "$(2)(y-3x^2)dx-(4y-x)dy=0;$  \n",
    "$解：由于M=y-3x^2,N=x-4y,$  \n",
    "$又\\frac{\\partial M}{\\partial y}=1,\\frac{\\partial N}{\\partial x}=1,因此方程是恰当微分方程.$  \n",
    "$把方程重新“分项组合”，得到(ydx+xdy)-3x^2dx-4ydy=0,$  \n",
    "$即d(xy-x^3-2y^2)=0.$  \n",
    "$于是，方程的通解为xy-x^3-2y^2=c,其中c为任意常数.$  \n",
    "\n",
    "$\\int_{x_0}^xp(t)dt变上限求导.$  \n",
    "$解：\\int_{x_0}^xp(t)dt=p(t)|_{x_0}^x=p(x)-p(x_0)$"
   ]
  },
  {
   "cell_type": "markdown",
   "metadata": {
    "collapsed": true
   },
   "source": [
    "# <font color='red'>A + 19/9 "
   ]
  },
  {
   "cell_type": "code",
   "execution_count": null,
   "metadata": {
    "collapsed": true
   },
   "outputs": [],
   "source": []
  }
 ],
 "metadata": {
  "kernelspec": {
   "display_name": "SageMath 7.3",
   "language": "",
   "name": "sagemath"
  },
  "language_info": {
   "codemirror_mode": {
    "name": "ipython",
    "version": 2
   },
   "file_extension": ".py",
   "mimetype": "text/x-python",
   "name": "python",
   "nbconvert_exporter": "python",
   "pygments_lexer": "ipython2",
   "version": "2.7.10"
  }
 },
 "nbformat": 4,
 "nbformat_minor": 0
}
