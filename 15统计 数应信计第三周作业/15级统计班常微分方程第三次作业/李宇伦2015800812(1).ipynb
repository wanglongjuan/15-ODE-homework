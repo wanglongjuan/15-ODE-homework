{
 "cells": [
  {
   "cell_type": "markdown",
   "metadata": {},
   "source": [
    "2.2\n",
    "1(4) $$由\\frac{\\mathrm d y}{\\mathrm d x}-\\frac{n}{x}y=e^ {x}x^{n}$$\n",
    "\n",
    "   $$\\frac{\\mathrm d y}{\\mathrm d x}=\\frac{n}{x}y+e^{x}x^{n} $$\n",
    "   \n",
    "   $$y=e^{\\int \\frac{n}{x}{\\mathrm d x}}(c+\\int e^{x}x^{n}e^{-\\int \\frac{n}{x}{\\mathrm d x}}{\\mathrm d x})$$\n",
    "   \n",
    "   $$y=x^{n}(c+e^{x})$$"
   ]
  },
  {
   "cell_type": "markdown",
   "metadata": {
    "collapsed": true
   },
   "source": []
  },
  {
   "cell_type": "markdown",
   "metadata": {},
   "source": [
    "2.2 \n",
    "1(15)\n",
    "$$ 由\\frac{\\mathrm d y}{\\mathrm d x}=\\frac{1}{xy+x^{3}y^{3}}$$\n",
    "$$由\\frac{\\mathrm d x}{\\mathrm d y}=xy+x^{3}y^{3}$$\n",
    "$$so \\frac{\\mathrm d x}{\\mathrm d y}x^{-3}=x^{-2}y+y^{3} $$\n",
    "$$u=x^{-2}$$\n",
    "$$ \\frac{\\mathrm d u}{\\mathrm d y}=(-2)x^{-3} \\frac{\\mathrm d x}{\\mathrm d y}$$\n",
    "$$so\\frac{\\mathrm d u}{\\mathrm d y}=(-2)(uy+y^{3})$$\n",
    "$$ u=e^{\\int (-2y){\\mathrm d y}}(c+\\int (-2)y^{3}e^{\\int 2y{\\mathrm d y}}{\\mathrm d y}) $$\n",
    "$$ u=ce^{-y^{2}}-y^{2}+1$$\n",
    "$$so x^{-2}=ce^{-y^{2}}-y^{2}+1$$"
   ]
  },
  {
   "cell_type": "markdown",
   "metadata": {},
   "source": [
    "2.2\n",
    "1(16)\n",
    "$$y=e^{x}+\\int_0^xy(t){\\mathrm d t}$$\n",
    "$$y'=\\frac{\\mathrm d y}{\\mathrm d x}=e^{x}+y(x)=y+e^{x}$$\n",
    "$$y=e^{\\int {\\mathrm d x}}(c+\\int e^{x}e^{-\\int {\\mathrm d x}}{\\mathrm d x})$$\n",
    "$$so y=e^{x}(c+x)$$"
   ]
  },
  {
   "cell_type": "markdown",
   "metadata": {},
   "source": [
    "# <font color='red'>特解？？"
   ]
  },
  {
   "cell_type": "markdown",
   "metadata": {},
   "source": [
    "2.2\n",
    "7(3)\n",
    "$$y'sin{x}cos{x}-y-sin^{3}{x}=0$$\n",
    "$$y'=\\frac{\\mathrm d y}{\\mathrm d x}=\\frac{y}{sin{x}cos{x}}+\\frac{sin^{2}{x}}{cos{x}}$$\n",
    "$$y=e^{\\int \\frac{1}{sin{x}cos{x}}{\\mathrm d x}}(c+\\int \\frac{sin^{2}{x}}{cos{x}}e^{-\\int \\frac{1}{sin{x}cos{x}}{\\mathrm d x}}{\\mathrm d x})$$\n",
    "$${\\int \\frac{1}{sin{x}cos{x}}{\\mathrm d x}}=\\int \\frac{sin^{2}{x}+cos^{2}{x}}{sin{x}cos{x}} {\\mathrm d x}=\\int {tan{x}+cot{x}}{\\mathrm d x}=ln{|sin{x}|}-ln{|cos{x}|}$$\n",
    "$$y=(|sinx|-|cosx|)(c+\\int \\frac{sin^{2}{x}}{cos{x}}(cos{x}-sin{x}){\\mathrm d x})$$\n",
    "$$so y=(|sinx|-|cosx|)(c+\\frac{x}{2}-\\frac{sin{2x}}{4}-ln{|cos{x}|}+\\frac{cos^{2}{x}}{2})$$"
   ]
  },
  {
   "cell_type": "markdown",
   "metadata": {},
   "source": [
    "# <font color='red'>结果？特解？？"
   ]
  },
  {
   "cell_type": "markdown",
   "metadata": {},
   "source": [
    "2.3 1(1)\n",
    "$$(x^{2}+y){\\mathrm d x}+(x-2y){\\mathrm d y}=0$$\n",
    "$$\\frac{\\partial(x^{2}+y)}{\\partial y}=1$$\n",
    "$$\\frac{\\partial(x-2y)}{\\partial x}=1$$\n",
    "$$\\frac{\\partial u}{\\partial x}=x^{2}+y$$\n",
    "$$so$$$$ u=\\frac{x^{3}}{3}+xy+a(y)$$\n",
    "$$\\frac{\\partial u}{\\partial y}=x+a'(y)=x-2y$$\n",
    "$$a'(y)=-2y$$\n",
    "$$a(y)=-y^{2}$$\n",
    "$$u=\\frac{x^{3}}{3}+xy-y^{2}$$\n",
    "$$\\frac{x^{3}}{3}+xy-y^{2}=c$$"
   ]
  },
  {
   "cell_type": "markdown",
   "metadata": {},
   "source": [
    "2.3 1(3)\n",
    "$$(y-3x^{2}){\\mathrm d x}-(4y-x){\\mathrm d y}=0$$\n",
    "$$\\frac{\\partial(y-3x^{2})}{\\partial y}=1$$\n",
    "$$\\frac{\\partial(-4y+x)}{\\partial x}=1$$\n",
    "$$\\frac{\\partial u}{\\partial x}=y-3x^{2}$$\n",
    "$$u=xy-x^{3}+a(y)$$\n",
    "$$\\frac{\\partial u}{\\partial y}=x+a'(y)=x-4y$$\n",
    "$$a'(y)=-4y$$\n",
    "$$a(y)=-2y^{2}$$\n",
    "$$u=xy-x^{3}-2y^{2}$$\n",
    "$$xy-x^{3}-2y^{2}=c$$"
   ]
  },
  {
   "cell_type": "markdown",
   "metadata": {
    "collapsed": true
   },
   "source": [
    "# <font color='red'>A——  19/9 "
   ]
  },
  {
   "cell_type": "code",
   "execution_count": null,
   "metadata": {
    "collapsed": true
   },
   "outputs": [],
   "source": []
  }
 ],
 "metadata": {
  "kernelspec": {
   "display_name": "SageMath 7.3",
   "language": "",
   "name": "sagemath"
  },
  "language_info": {
   "codemirror_mode": {
    "name": "ipython",
    "version": 2
   },
   "file_extension": ".py",
   "mimetype": "text/x-python",
   "name": "python",
   "nbconvert_exporter": "python",
   "pygments_lexer": "ipython2",
   "version": "2.7.10"
  }
 },
 "nbformat": 4,
 "nbformat_minor": 0
}
