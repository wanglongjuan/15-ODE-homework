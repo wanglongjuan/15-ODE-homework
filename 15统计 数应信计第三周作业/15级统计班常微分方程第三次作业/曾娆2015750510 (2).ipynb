{
 "cells": [
  {
   "cell_type": "markdown",
   "metadata": {
    "collapsed": true
   },
   "source": [
    "                                 第二次作业\n",
    "1.求下列方程的解  \n",
    "（4）$\\frac{dy}{dx}-\\frac{ny}{x}=e^x*x^n(n为常数)$  \n",
    "解：$P(x)=\\frac{n}{x},Q(x)=e^x*x^n$  \n",
    "∴$由公式（2.31）得  y=e^{\\int(\\frac{n}{x})dx}*(\\int{e^x*x^n*e^{-\\int(\\frac{n}{x})dx}*dx}+c)$   \n",
    "$ =x^n*(\\int{e^x*x^n*x^{-n}*dx+c})$  \n",
    "$=(e^x+c)*x^n$  \n",
    "\n",
    "（15）$\\frac{dy}{dx}=\\frac{1}{xy+x^3*y^3}$  \n",
    "解：$令u=y^2,则原方程变为  \\frac{du}{dx}=\\frac{2}{x+x^3u}$  \n",
    "$当我们把u看作自变量，x看作函数变量时，上面方程为   \\frac{dx}{du}=\\frac{x}{2}+\\frac{ux^3}{2}$  \n",
    "$这是n=3时的伯努利方程，令z=x^{-2}$  \n",
    "得 $$ \\frac{dz}{du}=-2*x^{-3}*\\frac{dx}{du}$$    \n",
    "$代入\\frac{dx}{du}的表达式，得到  \\frac{dz}{du}=-z-u$  \n",
    "这是一阶线性微分方程，由（2.31）可得到它的通解为  \n",
    "$$z=e^{\\int-1du}*(\\int(-u)*e^{\\int1du}*du+c)$$  \n",
    "即$$z=c*e^{-u}-u+1$$  \n",
    "$把z=x^{-2},u=y^{-2}代入得$  \n",
    "$$\\frac{1}{x^2}=c*e^{-y^2}-u+1$$   \n",
    "或者 $$ x^2(ce^{-y^2}-y^2+1)=1$$    \n",
    "这就是原方程的通解。  \n",
    "\n",
    "(16)$y=e^x+\\int_0^x{y(t)dt}$  \n",
    "解：$对方程 y=e^x+\\int_0^x{y(t)dt}两端关于x求导得$  \n",
    "$$\\frac{dy}{dx}=e^x+y$$  \n",
    "这是一阶线性微分方程，由（2.31）可得通解为  \n",
    "$$y=e^x(\\int{e^x*e^{-x}*dx}+c)$$  \n",
    "即$$y=e^x(x+c)$$  \n",
    "$注意到，当x=0时，由原方程可得  y=e^x+\\int_0^0{y(t)dt}=1$,  \n",
    "$所以可以求出c=1.$  \n",
    "$因此，原方程的解为  y=e^x(x+1)$  \n",
    "\n",
    "\n",
    "7.求解下列方程  \n",
    "（3）$y'sinx*cosx-y-(sinx)^3=0$  \n",
    "$解：次方程可以变形为  \\frac{dy}{dx}=\\frac{y}{sinx*cosx}+\\frac{(sinx)^2}{cosx}  (sinx\\neq0,cosx\\neq0)$  \n",
    "由（2.31）可得其通解为  \n",
    "$$y=e^{\\int{\\frac{1}{sinx*cosx}}dx}(\\int{\\frac{(sinx)^2}{cosx}}*e^{-\\int{\\frac{1}{sinx*cosx}}*dx}dx+c)$$  \n",
    "即$$y=tanx(\\int{\\frac{(sinx)^2}{cosx}}*cotxdx+c)$$  \n",
    "化简得$$y=tanx(-cosx+C)$$  \n",
    "或者$$y=ctanx-sinx$$  \n",
    "$当sinx=0时，原方程化为y=0.$  \n",
    "$当cosx=0时，原方程化为y=-(sinx)^3=±1，即曲线退化成（2kπ+\\frac{π}{2}，-1）和（2kπ-\\frac{π}{2}，1），k=0,±1，±2，\\cdots$  \n",
    "综上所述，原方程的解为$$y=c*tanx-sinx,(x\\neq{kπ±\\frac{π}{2}})$$  \n",
    "或者$$点（2kπ+\\frac{π}{2}，-1）和（2kπ-\\frac{π}{2}，1），k=0,±1，±2，\\cdots$$  \n",
    "\n",
    "1.验证下列方程是恰当微分方程，并求出方程的解：  \n",
    "(2)$(y-3x^2)dx-(4y-x)dy=0$  \n",
    "解：$这里M=y-3x^2,N=x-4y,这时$    \n",
    "$\\frac{\\partial M}{\\partial y}=1,\\frac{\\partial N}{\\partial x}=1,$  \n",
    "因此方程是微分恰当方程。  \n",
    "$现在求u,使它同时满足如下两个方程$：  \n",
    "$$\\frac{\\partial u}{\\partial x}=y-3x^2                ①$$    \n",
    "$$\\frac{\\partial u}{\\partial y}=x-4y                  ②$$  \n",
    "$对①式关于x求积分，得到$    \n",
    "$$u=xy-x^3+φ（y）                                    ③$$    \n",
    "$为了确定φ（y）,将③式对y求导数，并使它满足②，即得$  \n",
    "$$\\frac{\\partial u}{\\partial y}=x+φ'（y）=x-4y$$  \n",
    "$于是  φ'（y）=-4y$,  \n",
    "$积分后可得  φ（y）=-2y^2,$  \n",
    "$将φ（y）代入③式，得到u=xy-x^3-2y^2$    \n",
    "因此，方程的通解为$$xy-x^3-2y^2=c$$    \n",
    "这里c是任意常数。  \n",
    "\n",
    "2.$F(x)=\\int_{x_0}^x{f(t)dt}$变上限求导  \n",
    "解：$F(x+Δx)-F(x)=\\int_{x_0}^{x+Δx}{f(t)dt}-\\int_{x_0}^x{f(t)dt}=\\int_{x}^{x+Δx}{f(t)dt}$  \n",
    "由定积分第一中值定理，得 $F(x+Δx)-F(x)=f(ξ)*Δx （ξ在x与x+Δx之间）$  \n",
    "$当Δx→0时有ξ→x,于是$  \n",
    "$$F'(x)=\\lim_{Δx→0}\\frac{F(x+Δx)-F(x)}{Δx}=\\lim_{Δx→0}f(ξ)=f(x)$$  "
   ]
  },
  {
   "cell_type": "markdown",
   "metadata": {
    "collapsed": true
   },
   "source": [
    "# <font color='red'>A  19/9 "
   ]
  },
  {
   "cell_type": "code",
   "execution_count": null,
   "metadata": {
    "collapsed": true
   },
   "outputs": [],
   "source": []
  }
 ],
 "metadata": {
  "kernelspec": {
   "display_name": "SageMath 7.3",
   "language": "",
   "name": "sagemath"
  },
  "language_info": {
   "codemirror_mode": {
    "name": "ipython",
    "version": 2
   },
   "file_extension": ".py",
   "mimetype": "text/x-python",
   "name": "python",
   "nbconvert_exporter": "python",
   "pygments_lexer": "ipython2",
   "version": "2.7.10"
  }
 },
 "nbformat": 4,
 "nbformat_minor": 0
}
