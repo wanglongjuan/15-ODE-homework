{
 "cells": [
  {
   "cell_type": "markdown",
   "metadata": {},
   "source": [
    "                                       常微分第二次作业\n",
    "                              姓名：谭治港        学号：2015750502\n",
    "\n"
   ]
  },
  {
   "cell_type": "markdown",
   "metadata": {},
   "source": [
    "$P49T1.(4)$\n",
    "\n",
    "令$\\frac{dy}{dx}=\\frac{ny}{x}$\n",
    "\n",
    "$则有y=cx^n,  \\frac{dc(x)}{dx}=e^x$\n",
    "\n",
    "$通解为y=c_1x^n+e^xx^n, 其中c_1为任意常数$"
   ]
  },
  {
   "cell_type": "markdown",
   "metadata": {},
   "source": [
    "$(15)$\n",
    "\n",
    "$u=y^2,  则\\frac{du}{dx}=\\frac{2}{ x+x^3u}$\n",
    "\n",
    "$\\frac{dx}{du}=\\frac{x}{2}+\\frac{u}{2}x^3$     \n",
    "\n",
    "令$  z=x^{-2},  \\frac{dz}{du}=-z-u$\n",
    "\n",
    "则其通解为$\\frac{1}{ x^2}=ce^{-y^2}-y^2+1,  其中c为任意常数$"
   ]
  },
  {
   "cell_type": "markdown",
   "metadata": {},
   "source": [
    "$(16)$\n",
    "\n",
    "$\\frac{dy}{dx}=e^x+y,  即有y=e^x(x+c)$\n",
    "\n",
    "$x=0时，y=1$\n",
    "\n",
    "方程的解为：$y=e^x(x+1)$"
   ]
  },
  {
   "cell_type": "markdown",
   "metadata": {},
   "source": [
    "# <font color='red'> 特解？？"
   ]
  },
  {
   "cell_type": "markdown",
   "metadata": {},
   "source": [
    "$P50T7.(3)$\n",
    "\n",
    "$\\frac{dy}{dx}=\\frac{1}{sinxcosx}y+\\frac{sin^2x}{cosx}(sinx≠0,cosx≠0)$\n",
    "\n",
    "$y=tanx(\\int\\frac {sin^2x}{cosx}cotxdx+c)$\n",
    "\n",
    "化简得：$y=tanx(-cosx+c)$\n",
    "\n",
    "所以方程的解为：$y=ctanx-sinx (x)(x≠kπ±\\frac{π}{2})或者点（2kπ+\\frac{π}{2},-1），(2kπ-\\frac{π}{2},1),k=0,±1,±2,……$。\n"
   ]
  },
  {
   "cell_type": "markdown",
   "metadata": {},
   "source": [
    "$P60T1.(1）$\n",
    "\n",
    "因为$x^2dx+(ydx+xdy)-2ydy=0$\n",
    "\n",
    "所以其解为$\\frac{1}{3}x^3+xy-y^2=c,  其中c为任意常数$\n",
    "\n"
   ]
  },
  {
   "cell_type": "markdown",
   "metadata": {},
   "source": [
    "$(2)$\n",
    "\n",
    "因为$(ydx+xdy)-3x^2dx-4ydy=0$\n",
    "\n",
    "所以其解为$xy-x^3-2y^2=c,     其中c为任意常数$\n"
   ]
  },
  {
   "cell_type": "markdown",
   "metadata": {
    "collapsed": true
   },
   "source": [
    "# <font color='red'>A  19/9 上两题的过程"
   ]
  },
  {
   "cell_type": "code",
   "execution_count": null,
   "metadata": {
    "collapsed": true
   },
   "outputs": [],
   "source": []
  }
 ],
 "metadata": {
  "kernelspec": {
   "display_name": "SageMath 7.3",
   "language": "",
   "name": "sagemath"
  },
  "language_info": {
   "codemirror_mode": {
    "name": "ipython",
    "version": 2
   },
   "file_extension": ".py",
   "mimetype": "text/x-python",
   "name": "python",
   "nbconvert_exporter": "python",
   "pygments_lexer": "ipython2",
   "version": "2.7.10"
  }
 },
 "nbformat": 4,
 "nbformat_minor": 0
}
