{
 "cells": [
  {
   "cell_type": "markdown",
   "metadata": {},
   "source": [
    "2015750524 罗涵"
   ]
  },
  {
   "cell_type": "markdown",
   "metadata": {},
   "source": [
    "1.（4）$\\frac{dy}{dx}-\\frac{n}{x}y=e^xx^n$"
   ]
  },
  {
   "cell_type": "markdown",
   "metadata": {},
   "source": [
    "解：$\\frac{dy}{dx}=\\frac{x}{n}y+e^xx^n\n",
    "y=e^\\int\\frac{n}{x}(\\int e^xx^ne^-\\int\\frac{n}{x}+c)\n",
    "=x^n(e^x+c)$是原方程的解"
   ]
  },
  {
   "cell_type": "markdown",
   "metadata": {},
   "source": [
    "(15)$\\frac{dy}{dx}=\\frac{1}{xy+x^3y^3}$"
   ]
  },
  {
   "cell_type": "markdown",
   "metadata": {},
   "source": [
    "解：原方程可化为$\\frac{dx}{dy}=xy+x^3y^3$\n",
    "\n",
    "则为$\\frac{1}{x^3} \\frac{dx}{dy}=\\frac{1}{x^2}y+y^3$ \n",
    "\n",
    "令$z=\\frac{1}{x^2}$则$dz=\\frac{-2}{x^3}$ 所以$\\frac{1}{x^3}=\\frac{-dz}{2}$\n",
    "\n",
    "又因为$\\frac{dz}{dy}=\\frac{dz}{dx}\\frac{dx}{dy}=-2\\frac{1}{x^3}\\frac{dx}{dy}$\n",
    "\n",
    "所以$\\frac{1}{x^3}\\frac{dx}{dy}=-\\frac{1}{2}\\frac{dz}{dy}$\n",
    "\n",
    "将<2>式代入<1>式中得$\\frac{dz}{dy}=-2zy-2y^3$\n",
    "\n",
    "最终得$y=(1-x^2+x^2y^2)e^(y^2)=cx^2$"
   ]
  },
  {
   "cell_type": "markdown",
   "metadata": {},
   "source": [
    "(16)$y=e^x+\\int_0^x y(t){d}t$\n",
    "\n",
    "解：$\\frac{dy}{dx}=e^x+y(x)=y+e^x$\n",
    "\n",
    "令$P(x)=1,Q(x)=e^x$\n",
    "\n",
    "得$y=e^x(x+c)$"
   ]
  },
  {
   "cell_type": "markdown",
   "metadata": {},
   "source": [
    "# <font color='red'>特解？？"
   ]
  },
  {
   "cell_type": "markdown",
   "metadata": {},
   "source": [
    "7求解下列方程（3）：$y'\\sin x \\cos x -y-(\\sin x)^3=0$\n",
    "\n",
    "解：$\\frac{dy}{dx}=\\frac{y}{\\ sinx \\ cosx}+\\frac{(\\ sinx)^2}{\\ cosx}$\n",
    "\n",
    "令$P(x)=\\frac{1}{\\ sinx \\ cosx},Q(x)=\\frac{(\\ sinx)^2}{\\ cosx}$\n",
    "\n",
    "则$y=\\frac{\\ sinx}{\\ cosx}(\\int\\ sinx\\mathrm{d}x+c)=\\frac{\\ sinx}{\\ cosx}(-\\ cosx +c)=c\\ tanx-\\ sinx$ "
   ]
  },
  {
   "cell_type": "markdown",
   "metadata": {},
   "source": [
    "# <font color='red'>特解？？"
   ]
  },
  {
   "cell_type": "markdown",
   "metadata": {},
   "source": [
    "1.验证下列方程是恰当微分方程，并求出方程的解。                                                                                          \n",
    "\n",
    "（1）$(x^2+y)dx+(x−2y)dy=0$\n",
    "\n",
    "证明：令$M=x^2+y$,$N=x-2y$\n",
    "\n",
    "所以$\\frac{\\partial M}{\\partial y}=\\frac{\\partial N}{\\partial x}=1$\n",
    "\n",
    "所以方程是恰当微分方程。\n",
    "\n",
    "取u,则$\\frac{\\partial u}{\\partial x}{\\mathrm dx}=x^2+y  ,  u=\\frac{x^3}{3}+xy+\\varphi(y)$(1)\n",
    "\n",
    "$\\frac{\\partial u}{\\partial y}{\\mathrm dy}=x-2y,u=xy-y^2$ (2)\n",
    "\n",
    "则(1)式对y求导则$x+\\varphi'(y)=x-2y$\n",
    "\n",
    "有$\\varphi(y)=-y^2$(3)\n",
    "\n",
    "$将(3)式代入(1)中得C=\\frac{x^3}{3}+xy-y^2$"
   ]
  },
  {
   "cell_type": "markdown",
   "metadata": {},
   "source": [
    "(2)$(y-3x^2){dx}-(4y-x){dy}=0$\n",
    "\n",
    "证明：原式可化为$(y-3x^2){dx}+(-4y+x){dy}=0$\n",
    "\n",
    "令$M=y-3x^2$,$N=-4y+x$\n",
    "\n",
    "则$\\frac{\\partial M}{\\partial y}=\\frac{\\partial N}{\\partial y}=1$\n",
    "\n",
    "所以方程是恰当微分方程。\n",
    "\n",
    "取u,则$\\frac{\\partial u}{\\partial x}{\\mathrm dx}=y-3x^2  ,  u=xy-x^3+\\varphi(y)$(1)\n",
    "\n",
    "$\\frac{\\partial u}{\\partial y}{\\mathrm dy}=-4y+x  ,  u=-2y^2+xy$（2）\n",
    "\n",
    "则（1）式对y求导则$x+\\varphi'(y)=-4y+x$\n",
    "\n",
    "则$\\varphi(y)=-2y^2$（3）\n",
    "\n",
    "$将（3）式代入（1）中得C=xy-x^3-2y^2$"
   ]
  },
  {
   "cell_type": "markdown",
   "metadata": {},
   "source": [
    "补：$对F(x)=\\int_{x_0}^{x} f(t)dt$求导\n",
    "\n",
    "由定积分的区间可加性得$F(x+△x)-F(x)=\\int_{a}^{x+△x} f(t)dt-\\int_{a}^{x} f(t)dt=\\int_x^{x+△x} f(t)dt$\n",
    "\n",
    "$当△x趋于0时，F'(x)=lim\\frac{F(x+△x)-F(x)}{△x}=f(x)$"
   ]
  },
  {
   "cell_type": "markdown",
   "metadata": {
    "collapsed": true
   },
   "source": [
    "# <font color='red'>A  19/9 "
   ]
  },
  {
   "cell_type": "code",
   "execution_count": null,
   "metadata": {
    "collapsed": true
   },
   "outputs": [],
   "source": []
  }
 ],
 "metadata": {
  "kernelspec": {
   "display_name": "SageMath 7.3",
   "language": "",
   "name": "sagemath"
  },
  "language_info": {
   "codemirror_mode": {
    "name": "ipython",
    "version": 2
   },
   "file_extension": ".py",
   "mimetype": "text/x-python",
   "name": "python",
   "nbconvert_exporter": "python",
   "pygments_lexer": "ipython2",
   "version": "2.7.10"
  }
 },
 "nbformat": 4,
 "nbformat_minor": 0
}
