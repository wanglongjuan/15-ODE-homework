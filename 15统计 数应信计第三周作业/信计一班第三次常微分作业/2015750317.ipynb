{
 "cells": [
  {
   "cell_type": "markdown",
   "metadata": {},
   "source": [
    "1（4）\n",
    "\n",
    "设 $ \\frac{\\mathrm d y}{\\mathrm d x}-\\frac{n}{x}y=0 $\n",
    "\n",
    "分离变量得 $ \\frac{\\mathrm d y}{y}=\\frac{n}{x}{\\mathrm d x} $\n",
    "\n",
    "两边积分得 $ y=cx^n $\n",
    "\n",
    "设所求通解为 $ y=c(x)x^n $\n",
    "\n",
    "代入原方程得 $ \\frac{\\mathrm d c(x)}{\\mathrm d x}=e^x $\n",
    "\n",
    "积分得 $ c(x)=e^x+c_1 $\n",
    "\n",
    "所以，方程 $ \\frac{\\mathrm d y}{\\mathrm d x}-\\frac{n}{x}y=0 $ 的通解为 $ y=c_1x^n+e^xx^n $ $ c_1 $为任意常数。"
   ]
  },
  {
   "cell_type": "markdown",
   "metadata": {},
   "source": [
    "1(15)\n",
    "\n",
    "将原方程化为 $ \\frac{y\\mathrm d y}{\\mathrm d x}=\\frac{1}{x+x^3y^2} $ 令 $ u=y^2 $\n",
    "\n",
    "则有$ \\frac{\\mathrm d u}{\\mathrm d x}=\\frac{2}{x+x^3u } $\n",
    "\n",
    "所以上述方程 $ \\frac{\\mathrm d x}{\\mathrm d x}=\\frac{x}{2}+\\frac{u}{2}x^3 $ 是 $n=3$的伯努方程，其中u为自变量，x为应变量。\n",
    "\n",
    "令$z=x^{-2}$ 则经整理得$\\frac{\\mathrm d z}{\\mathrm d u}=-z-u$\n",
    "\n",
    "所以$z=e^{\\int{-1dx}}(\\int{(-u)}e^{\\int{1\\mathrm d u}}\\mathrm d u+c)=ce^{-u}+1$ 或者 $(1-x^2+x^2y^2)e^{y^2}=cx^2$ 其中c为任意常数，此为原方程的解。"
   ]
  },
  {
   "cell_type": "markdown",
   "metadata": {
    "collapsed": true
   },
   "source": [
    "1（16）\n",
    "\n",
    "方程$y=e^x+\\int_0^x(t)\\mathrm d t$两端关于x求导得$\\frac{\\mathrm d y}{\\mathrm d x}=e^x+y$\n",
    "\n",
    "解得$y=e^x(\\int e^xe^{-x}dx+c)=e^x(x+c)$\n",
    "\n",
    "当$x=0$时 原方程可得$y=1$ 求得$c=1$ 所以，原方程的解为$y=e^x(x+1)$"
   ]
  },
  {
   "cell_type": "markdown",
   "metadata": {},
   "source": [
    "7(3)\n",
    "\n",
    "将方程化为$\\frac{\\mathrm d y}{\\mathrm d x}=\\frac{1}{sinxcosx}y+\\frac{(sinx)^2}{cosx}$ $(sinx\\neq0,cosx\\neq0)$\n",
    "\n",
    "通解为$y=e^{\\int{\\frac{\\mathrm d x}{sinxcosx}}}(\\int{\\frac{(sinx)^2}{cosx}}e^{-\\int{\\mathrm{1}{sinxcosx}\\mathrm d x}}\\mathrm d x+c)$\n",
    "\n",
    "即$y=tanx(\\int{\\frac{(sinx)^2}{cosx}}cotx\\mathrm d x+c)$\n",
    "\n",
    "积分得$y=tanx(c-cosx))$ 即$y=ctanx-sinx$\n",
    "\n",
    "当$sin=0$时 $y=0$\n",
    "\n",
    "当$cosx=0$时 $y=\\pm1$ 即曲线退化为$（2k\\pi+\\frac{\\pi}{2},-1）$ 和 $(2k\\pi-\\frac{\\pi}{2},1),k=0,\\pm1,\\pm2,….$\n",
    "\n",
    "解得$y=ctanx-sinx,(x\\neq k\\pi \\pm \\frac{\\pi}{2})$ c为任意常数，或者点$(2k\\pi+\\frac{\\pi}{2},-1),(2k\\pi-frac{\\pi}{2},1),k=0,\\pm1,\\pm2,….$"
   ]
  },
  {
   "cell_type": "markdown",
   "metadata": {
    "collapsed": true
   },
   "source": [
    "1（1）\n",
    "\n",
    "因为$M=x^2+y,N=x-2y$,又$\\frac{\\partial M}{\\partial y}=1,\\frac{\\partial N}{\\partial x}=1$,因为方程是恰当微方程。\n",
    "\n",
    "求u满足方程$\\frac{\\partial u}{\\partial x}=x^2+y,\\frac{\\partial u}{\\partial y}=x-2y$\n",
    "\n",
    "第一个方程对x积分得$u=\\frac{1}{3}x^3+xy+\\phi(y)$\n",
    "\n",
    "等式两端关于y求导得$\\frac{\\partial u}{\\partial y}=x+\\phi(y){\\prime}$ $\\frac{\\partial u}{\\partial y}=x-2y$ \n",
    "\n",
    "可得$\\phi(y){\\prime}=-2y$,积分后可得$\\phi(y)=-y^2$,所以$u\\frac{1}{3}x^3+xy-y^2$\n",
    "\n",
    "所以原方程的通解为$\\frac{1}{3}x^3+xy-y^2=c$,其中c是任意常数"
   ]
  },
  {
   "cell_type": "markdown",
   "metadata": {},
   "source": [
    "1（2）\n",
    "\n",
    "因为$M=y-3x^2,N=x-4y$,且$\\frac{\\partial M}{\\partial y}=1,\\frac{\\partial N}{\\partial x}=1$,因此方程是恰当微方程。\n",
    "\n",
    "化简可得$(y\\mathrm d x+x\\mathrm d y)-3x^2\\mathrm d x-4y\\mathrm d y=0$\n",
    "\n",
    "即$\\mathrm d (xy-x^2-2y^2)=0$\n",
    "\n",
    "所以，通解为$xy-x^3-2y^2=c$,其中c为任意常数。"
   ]
  },
  {
   "cell_type": "markdown",
   "metadata": {},
   "source": [
    "课后题：求$\\int_{x_0} ^xP(t)\\mathrm d t$的原函数\n",
    "\n",
    "因为$\\int_{x_0} ^xP(t)\\mathrm d t$\n",
    "\n",
    "根据牛顿莱布尼茨公式设$f(t){\\prime}=P(t)$\n",
    "\n",
    "所以原函数为$f(x){\\prime}-f(x_0){\\prime}+c=0$"
   ]
  },
  {
   "cell_type": "markdown",
   "metadata": {
    "collapsed": true
   },
   "source": [
    "# <font color='red'>A+  19/9"
   ]
  },
  {
   "cell_type": "code",
   "execution_count": null,
   "metadata": {
    "collapsed": true
   },
   "outputs": [],
   "source": []
  }
 ],
 "metadata": {
  "kernelspec": {
   "display_name": "SageMath 7.3",
   "language": "",
   "name": "sagemath"
  },
  "language_info": {
   "codemirror_mode": {
    "name": "ipython",
    "version": 2
   },
   "file_extension": ".py",
   "mimetype": "text/x-python",
   "name": "python",
   "nbconvert_exporter": "python",
   "pygments_lexer": "ipython2",
   "version": "2.7.10"
  }
 },
 "nbformat": 4,
 "nbformat_minor": 0
}
