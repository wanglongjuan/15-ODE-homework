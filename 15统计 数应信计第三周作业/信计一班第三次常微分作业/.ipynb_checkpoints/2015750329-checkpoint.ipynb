{
 "cells": [
  {
   "cell_type": "markdown",
   "metadata": {},
   "source": [
    "# 第二次常微分作业"
   ]
  },
  {
   "cell_type": "markdown",
   "metadata": {},
   "source": [
    "## P49\n",
    "## 1.求下列方程的解\n",
    "## (4)$\\frac{\\mathrm dy}{\\mathrm dx}-\\frac{n}{x}y=e^xx^n(n为常数）$"
   ]
  },
  {
   "cell_type": "markdown",
   "metadata": {},
   "source": [
    "解:\n",
    "$$ \\frac{\\mathrm dy}{\\mathrm dx}-\\frac{n}{y}y=e^xx^n $$\n",
    "\n",
    "$$ \\frac{\\mathrm dy}{\\mathrm dx}=\\frac{n}{x}y+e^xx^n $$\n",
    "\n",
    "$$ 两边同时求积分得 $$\n",
    "$$\n",
    "\\begin{aligned}\n",
    "y&=e^{nlnx}(\\int e^xx^ne^{-nlnx}{\\mathrm{d}x+c})\\\\ \n",
    "&=x^n(e^x+c)\n",
    "\\end{aligned}\n",
    "$$"
   ]
  },
  {
   "cell_type": "markdown",
   "metadata": {
    "collapsed": true
   },
   "source": [
    "## (15)$\\frac{\\mathrm dy}{\\mathrm dx}=\\frac{1}{xy+x^3y^3}$"
   ]
  },
  {
   "cell_type": "markdown",
   "metadata": {},
   "source": [
    "解：\n",
    "方程倒置可得\n",
    "$$ \\frac{\\mathrm dx}{\\mathrm dy}=yx+y^3x^3 $$\n",
    "\n",
    "$$ 令z=x^{-2} $$\n",
    "\n",
    "$$\n",
    "\\begin{aligned}\n",
    "\\frac{\\mathrm dz}{\\mathrm dy}&=(1-n)P(y)z+(1-n)Q(y)\\\\\n",
    "&=(-2)yz+(-2)y^3\\\\\n",
    "&=(-2y)z+(-2y^3)\\\\\n",
    "\\end{aligned}\n",
    "$$\n",
    "\n",
    "$$这是一个线性微分方程$$\n",
    "\n",
    "$$ \n",
    "\\begin{aligned}\n",
    "z&=e^{-y^2}(\\int (-2y^3)e^{y^2}+c)\\\\\n",
    "&=-y^2+1+ce^{-y^2}\\\\\n",
    "\\end{aligned}\n",
    "$$\n",
    "\n",
    "$$所以，x^2(-y^2+1+ce^{-y^2})=1 $$\n",
    "\n",
    "$$ x^2e^{-y^2}(-y^2+1+ce^{-y^2})=e^{-y^2} $$\n",
    "\n",
    "$$ e^{y^2}(1-x^2+x^2y^2)=cx^2 $$\n",
    "\n"
   ]
  },
  {
   "cell_type": "markdown",
   "metadata": {},
   "source": [
    "## (16)$y=e^x+\\int_0^x y(t)\\mathrm{d}t$"
   ]
  },
  {
   "cell_type": "markdown",
   "metadata": {},
   "source": [
    "解：$$ 两边求微得\\frac{dy}{dx}=e^x+y(x) $$\n",
    "\n",
    "$$即\\frac{dy}{dx}=e^x+y 其中P(x)=1,Q(X)=e^x $$\n",
    "\n",
    "$$ 由公式得 $$\n",
    "\n",
    "$$ y=e^x(\\int e^xe^{-x}dx+c)$$\n",
    "\n",
    "$$ 即y=e^x(x+c) $$\n"
   ]
  },
  {
   "cell_type": "markdown",
   "metadata": {},
   "source": [
    "# <font color='red'>特解？？"
   ]
  },
  {
   "cell_type": "markdown",
   "metadata": {},
   "source": [
    "## 7.求解下列方程\n",
    "## （3）$y\\prime \\sin x \\cos x-y-\\sin^3x=o $"
   ]
  },
  {
   "cell_type": "markdown",
   "metadata": {
    "collapsed": true
   },
   "source": [
    "解：\n",
    "$$ \\frac{\\mathrm dy}{\\mathrm dx}=\\frac{1}{\\sin x \\cos x}y-\\frac{\\sin^2x}{\\cos x} $$\n",
    " \n",
    " $$ P(x)=\\frac{1}{\\sin x \\cos x},Q(x)=\\frac{\\sin^2x}{\\cos x} $$\n",
    " \n",
    " $$ 由公式得 $$\n",
    " \n",
    "$$ \n",
    "\\begin{aligned}\n",
    "y&=e^{\\int \\frac{1}{\\sin x \\cos x}}(\\int \\frac{\\sin^2x}{\\cos x}e^{-\\int \\frac{1}{\\sin x \\cos x}}+c)\\\\ \n",
    "&=\\frac{\\sin x}{\\cos x}(\\int \\sin x \\mathrm dx+c)\\\\ \n",
    "&=\\frac{\\sin x}{\\cos x}(\\cos x+c)\\\\\n",
    "&=\\tan xc-sinx\\\\\n",
    "\\end{aligned}\n",
    "$$"
   ]
  },
  {
   "cell_type": "markdown",
   "metadata": {},
   "source": [
    "# <font color='red'>特解？？"
   ]
  },
  {
   "cell_type": "markdown",
   "metadata": {},
   "source": [
    "## P60.\n",
    "## 1.验证下列方程是恰当微分方程，并求出方程的解\n",
    "## (1)$(x^2+y)\\mathrm dx+(x-2y)\\mathrm dy=0$"
   ]
  },
  {
   "cell_type": "markdown",
   "metadata": {},
   "source": [
    "解：\n",
    "$$ 令x^2+y=M,x-2y=N $$\n",
    "\n",
    "$$ \\frac{\\partial M}{\\partial y}=1,\\frac{\\partial N}{\\partial x}=1 $$\n",
    "\n",
    "$$ \\frac{\\partial M}{\\partial y}=\\frac{\\partial N}{\\partial x} $$\n",
    "\n",
    "$$ 所以这个方程是恰当微分方程 $$\n",
    "\n",
    "$$ 由公式可知 $$\n",
    "\n",
    "$$ \\int(x^2+y)dx +\\int[x-2y-\\frac{\\partial }{\\partial y}\\int (x^2+y)dx]dy=c $$\n",
    "\n",
    "$$ 即\\frac{1}{3}x^2+xy-y^2=c $$"
   ]
  },
  {
   "cell_type": "markdown",
   "metadata": {},
   "source": [
    "## $(2)(y-3x^2)dx-(4y-x)dy=0$"
   ]
  },
  {
   "cell_type": "markdown",
   "metadata": {},
   "source": [
    "解：\n",
    "$$ (y-3x^2)dx+(x-4y)dy=0$$\n",
    "\n",
    "$$ 令y-3x^2=M,x-4y=N $$\n",
    "\n",
    "$$ \\frac{\\partial M}{\\partial y}=1,\\frac{\\partial N}{\\partial x}=1 $$\n",
    "\n",
    "$$ \\frac{\\partial M}{\\partial y}=\\frac{\\partial N}{\\partial x} $$\n",
    "\n",
    "$$ 所以这个方程是恰当微分方程 $$\n",
    "\n",
    "$$ \\int(y-3x^2)dx-\\int[x-4y-\\frac{\\partial }{\\partial y}\\int(y-3x^2)dx]dy=c $$\n",
    "\n",
    "$$ 即-x^3+xy+2y^2=c$$"
   ]
  },
  {
   "cell_type": "markdown",
   "metadata": {
    "collapsed": true
   },
   "source": [
    "# <font color='red'>A  19/9"
   ]
  },
  {
   "cell_type": "code",
   "execution_count": null,
   "metadata": {
    "collapsed": true
   },
   "outputs": [],
   "source": []
  }
 ],
 "metadata": {
  "kernelspec": {
   "display_name": "SageMath 7.3",
   "language": "",
   "name": "sagemath"
  },
  "language_info": {
   "codemirror_mode": {
    "name": "ipython",
    "version": 2
   },
   "file_extension": ".py",
   "mimetype": "text/x-python",
   "name": "python",
   "nbconvert_exporter": "python",
   "pygments_lexer": "ipython2",
   "version": "2.7.10"
  }
 },
 "nbformat": 4,
 "nbformat_minor": 0
}
