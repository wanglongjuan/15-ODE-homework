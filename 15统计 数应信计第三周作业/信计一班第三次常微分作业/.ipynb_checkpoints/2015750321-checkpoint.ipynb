{
 "cells": [
  {
   "cell_type": "markdown",
   "metadata": {},
   "source": [
    "$ P_{49} $\n",
    "\n",
    "\n",
    "1.求下列方程的解：\n",
    "\n",
    " (4) $\\frac{dy}{dx}-\\frac{n}{x}y = e^xx^n(n为常数)$\n",
    "\n",
    "(15)$\\frac{dy}{dx}= \\frac{1}{xy+x^3y^3}$\n",
    "\n",
    "(16)$y=e^x+\\int_0^x \\mathrm y(t)\\,\\mathrm{d}t$"
   ]
  },
  {
   "cell_type": "markdown",
   "metadata": {},
   "source": [
    "解：（4）分离变量得$\\frac{dy}{y}=\\frac{n}{x}·dx$ ，两边积分得$y=cx^n.$\n",
    "\n",
    "\n",
    "设所求的通解为$y=c(x)x^n$,代入原方程，化简得$\\frac{dc(x)}{dx}=e^x$,\n",
    "\n",
    "\n",
    "积分得$c(x)=e^x=c_1.$"
   ]
  },
  {
   "cell_type": "markdown",
   "metadata": {},
   "source": [
    "于是通解为$y=c_1x^n+e^xx^n$."
   ]
  },
  {
   "cell_type": "markdown",
   "metadata": {},
   "source": [
    "(15)$令u=y^2,则有\\frac{du}{dx}=\\frac{2}{x+x^3u}.$"
   ]
  },
  {
   "cell_type": "markdown",
   "metadata": {},
   "source": [
    "当我们视$u为自变量时，x为因变量时，上述方程为\\frac{dx}{du}=\\frac{x}{2}+\\frac{u}{2}x^3$"
   ]
  },
  {
   "cell_type": "markdown",
   "metadata": {},
   "source": [
    "令$z=x^{-2}$,整理得$ \\frac{dz}{du}=-z-u $.\n",
    "\n",
    "解得$z=e^{\\int\\mathrm-1\\,\\mathrm{d}u}(\\int\\mathrm(-u)\\,·\\mathrm{e^{\\int\\mathrm1\\,\\mathrm{d}u}+c})=ce^{-u}-u+1.$\n",
    "\n",
    "代回原变量，可得$\\frac{1}{x^2}=c·e^{-y^2}-y^2+1.c为任意常数。$\n",
    "\n",
    "\n"
   ]
  },
  {
   "cell_type": "markdown",
   "metadata": {},
   "source": [
    "(16)对原方程两边对$x$求导的$\\frac{dy}{dx}=e^x+y.$\n",
    "\n",
    "\n",
    "解得 $y=e^x·(\\int \\mathrm{e^x·e^{-x}}\\,\\mathrm{d}x+c)=e^x(x+c). $\n",
    "\n",
    "\n",
    "当$x=0时，y=1$所以可求出$c=1$.因此原方程的解为$y=e^x(x+1).$"
   ]
  },
  {
   "cell_type": "markdown",
   "metadata": {},
   "source": [
    "$  $"
   ]
  },
  {
   "cell_type": "markdown",
   "metadata": {},
   "source": [
    "7.解下列方程：\n",
    "（3）$y'\\sin{x}·\\cos{x}-y-\\sin^3{x}=0$"
   ]
  },
  {
   "cell_type": "markdown",
   "metadata": {},
   "source": [
    "解：将方程变为：$\\frac{dy}{dx}=\\frac{1}{\\sin{x}·\\cos{x}}y+\\frac{sin^2x}{cosx},(sinx≠0，cosx≠0).$"
   ]
  },
  {
   "cell_type": "markdown",
   "metadata": {},
   "source": [
    "解得$ y=tanx (\\int\\frac{sin^2x}{cosx}·cotx\\mathrm{d}x+c),$\n",
    "\n",
    "\n",
    "求积分并化简得$y=tanx(c-cosx),即y=ctanx-sinx.$\n",
    "\n",
    "当$sinx=0时，原方程为y=0$\n",
    "\n",
    "当$cosx=0$时，原方程化为$y=±14$,即曲线退化为$（2k\\pi+\\frac{\\pi}{2},-1）和（2k\\pi-\\frac{\\pi}{2},1）,k∈N,$\n",
    "\n",
    "综上，原方程的解为$y=c·tanx-sinx.（x≠k\\pi±\\frac{\\pi}{2}）,c为任意常数$，或点$2k\\pi+\\frac{\\pi}{2},-1）和（2k\\pi-\\frac{\\pi}{2},1）,k∈N,$"
   ]
  },
  {
   "cell_type": "markdown",
   "metadata": {},
   "source": [
    "$ $"
   ]
  },
  {
   "cell_type": "markdown",
   "metadata": {},
   "source": [
    "$ P_{60}$\n",
    "\n",
    "1.验证下列方程式是恰当微分方程，并求出方程的解；\n",
    "\n",
    "\n",
    "（1）$(x^2+ydx)+(x-2y)dy=0；$\n",
    "\n",
    "（2）$（y-3x^2）dx-(4y-x)dy=0$"
   ]
  },
  {
   "cell_type": "markdown",
   "metadata": {},
   "source": [
    "解:(1)由于$M=x^2+y,N=x-2y,$\n",
    "\n",
    "又$\\frac{\\partial M}{\\partial y}=1,\\frac{\\partial N}{\\partial x}=1$.因此方程式恰当微分方程。\n",
    "\n",
    "现在求u,使它同时满足下面两个方程：$\\frac{\\partial u}{\\partial x}=x^2+y, \\frac{\\partial u}{\\partial y}= x-2y.$\n",
    "\n",
    "第一个先对x积分再对关于y求导，得$\\frac{\\partial u}{\\partial y}= x+φ'(y),$\n",
    "\n",
    "\n",
    "与$\\frac{\\partial u}{\\partial y}= x-2y$相比较\n",
    "\n",
    "得到$φ'(y)=-2y,$积分后得到$φ(y)=-y^2,$所以$u=\\frac{1}{3}x^3+xy-y^2.$\n",
    "\n",
    "即得到原方程的通解为$\\frac{1}{3}x^3+xy-y^2=c,$c为任意常数。"
   ]
  },
  {
   "cell_type": "markdown",
   "metadata": {},
   "source": [
    "(2)由于$M=y-3x^2,N=x-4y,$\n",
    "\n",
    "又$\\frac{\\partial M}{\\partial y}=1, \\frac{\\partial N}{\\partial x}=1$,因此方程式恰当微分方程。\n",
    "\n",
    "把方程重新化简,得$(ydx+xdy)-3x^2dx-4ydy=0,$\n",
    "\n",
    "即$d(xy-x^2-2y^2)=0$"
   ]
  },
  {
   "cell_type": "markdown",
   "metadata": {
    "collapsed": true
   },
   "source": [
    "# <font color='red'>A  19/9"
   ]
  },
  {
   "cell_type": "code",
   "execution_count": null,
   "metadata": {
    "collapsed": true
   },
   "outputs": [],
   "source": []
  }
 ],
 "metadata": {
  "kernelspec": {
   "display_name": "Python 2",
   "language": "python",
   "name": "python2"
  },
  "language_info": {
   "codemirror_mode": {
    "name": "ipython",
    "version": 2
   },
   "file_extension": ".py",
   "mimetype": "text/x-python",
   "name": "python",
   "nbconvert_exporter": "python",
   "pygments_lexer": "ipython2",
   "version": "2.7.10"
  }
 },
 "nbformat": 4,
 "nbformat_minor": 0
}
