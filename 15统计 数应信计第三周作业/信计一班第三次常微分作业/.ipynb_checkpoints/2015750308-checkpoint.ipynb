{
 "cells": [
  {
   "cell_type": "markdown",
   "metadata": {},
   "source": [
    "1.求下列方程的解:\n"
   ]
  },
  {
   "cell_type": "markdown",
   "metadata": {},
   "source": [
    "（4）$\\frac{\\mathrm d y}{\\mathrm d x}-\\frac{n}{x}y=exp(x)x^n(n为常数）；$"
   ]
  },
  {
   "cell_type": "markdown",
   "metadata": {},
   "source": [
    "解：先求齐次方程$\\frac{\\mathrm d y}{\\mathrm d x}-\\frac{n}{x} y=0$的通解。\n",
    "\n",
    "分离变量 $\\frac{\\mathrm d y}{y}=\\frac{n}{x}\\mathrm d x$,\n",
    " \n",
    " 积分  $y=cx^n$,\n",
    "\n",
    "设通解为 $y=c\\left(x\\right)x^n$,\n",
    "\n",
    "代入，得 $\\frac{\\mathrm d c\\left(x\\right)}{\\mathrm d x}=e^x$,\n",
    "\n",
    "积分得 $c\\left(x\\right)=e^x+c$\n",
    "\n",
    "于是，原方程的通解为$y=c_1x^n+e^xx^n$,其中$c_1$为任意常数。"
   ]
  },
  {
   "cell_type": "markdown",
   "metadata": {
    "collapsed": true
   },
   "source": [
    "(14)  $\\frac{\\mathrm d y}{\\mathrm d x}=\\frac{e^y+3x}{x^2}$"
   ]
  },
  {
   "cell_type": "markdown",
   "metadata": {
    "collapsed": true
   },
   "source": [
    "解：令$u=e^y$,\n",
    "\n",
    "则$\\frac{\\mathrm d u}{\\mathrm d x}=e^y\\frac{\\mathrm d y}{\\mathrm d x}$,\n",
    "\n",
    "代入原方程，得$\\frac{\\mathrm d u}{\\mathrm d x}=\\frac{u^2+3xu}{x^2}$,此为$n==2$的伯努利方程。\n",
    "\n",
    "令$z=u^{-1}$,则方程可化为$\\frac{\\mathrm d z}{\\mathrm d x}=-\\frac{3}{x}z-\\frac{1}{x^2}$。\n",
    "\n",
    "应用一阶线性方程的求解公式，得$z==e^\\int{-\\frac{3}{x}\\mathrm d x}\\left(\\int-\\frac{1}{x^2}e^\\int\\frac{3}{x}\\mathrm d x+c\\right)=cx^(-3)-\\frac{1}{2x}$.\n",
    "\n",
    "得$$x^3e^\\left(-y\\right)+\\frac{1}{2}x^2=c$$"
   ]
  },
  {
   "cell_type": "markdown",
   "metadata": {},
   "source": [
    "# <font color='red'>结果？？"
   ]
  },
  {
   "cell_type": "markdown",
   "metadata": {
    "collapsed": true
   },
   "source": [
    "(15)$\\frac{\\mathrm d y}{\\mathrm d x}=\\frac{1}{xy+x^3y^3}$"
   ]
  },
  {
   "cell_type": "markdown",
   "metadata": {
    "collapsed": true
   },
   "source": [
    "解：原方程化为$\\frac{y\\mathrm d y}{\\mathrm d x}=\\frac{1}{x+x^3y^2}$,\n",
    "\n",
    "令$u=y^2$\n",
    "\n",
    "则$\\frac{\\mathrm d u}{\\mathrm d x}=\\frac{2}{x+x^3u}$.\n",
    "\n",
    "该方程可化为伯努利方程$$\\frac{\\mathrm d x}{\\mathrm d u}=\\frac{x}{2}+\\frac{u}{2}x^2$$\n",
    "\n",
    "令$z=x^{-2}$,则为$\\frac{\\mathrm d z}{\\mathrm d u}=-z-u$\n",
    "\n",
    "求解得$$\\frac{1}{x^2}=ce^{-y^2}-y^2+1$$"
   ]
  },
  {
   "cell_type": "markdown",
   "metadata": {
    "collapsed": true
   },
   "source": [
    "(16)$y=e^x+\\int\\limits_0^xy\\left(t\\right)\\mathrm d t$"
   ]
  },
  {
   "cell_type": "markdown",
   "metadata": {},
   "source": [
    "解：对原方程关于x求导得$\\frac{\\mathrm d y}{\\mathrm d x}=e^x+y$\n",
    "\n",
    "用公式求解得$$y=e^x\\left(x+c\\right)$$\n",
    "\n",
    "当$x=0$时 得$c=1$所以$$y=e^x\\left(x+1\\right)$$"
   ]
  },
  {
   "cell_type": "markdown",
   "metadata": {},
   "source": [
    "7.求解方程$y^{\\prime}sinx\\cdot cosx-y-sin^3x=0$"
   ]
  },
  {
   "cell_type": "markdown",
   "metadata": {},
   "source": [
    "解：此方程变形为$\\frac{\\mathrm d y}{\\mathrm d x}=\\frac{1}{sinx\\cdot cosx}y+\\frac{sin^2x}{cosx}$\n",
    "\n",
    "求解为$y=tanx\\left(\\int\\frac{sin^2x}{cosx}\\cdot cotx\\mathrm d x+c\\right)$,\n",
    "\n",
    "化简得$$y=ctanx-sinx$$,\n",
    "\n",
    "当$sinx=0$时，原方程为$y=0$.\n",
    "\n",
    "当$cosx=0$时，原方程为$y=\\pm 1$,\n",
    "\n",
    "原方程解为$$y=c\\cdot tanx-sinx,\\left(x\\neq kx\\pm\\frac{pi}{2}\\right)$$,c为任意常数。"
   ]
  },
  {
   "cell_type": "markdown",
   "metadata": {},
   "source": [
    "1.验证下列方程恰是微分方程，并求出方程的解："
   ]
  },
  {
   "cell_type": "markdown",
   "metadata": {},
   "source": [
    "（1）$\\left(x^2+y\\right)\\mathrm d x+\\left(x-2y\\right)\\mathrm d y=0$"
   ]
  },
  {
   "cell_type": "markdown",
   "metadata": {},
   "source": [
    "解：$M=x^2+y$,$N=x-2y$,\n",
    "\n",
    "又$\\frac{\\partial M}{\\partial y}=1$,$\\frac{\\partial N}{\\partial x}=1$,因此方程是微分方程\n",
    "\n",
    "现在求u，使它满足方程:$\\frac{\\partial u}{\\partial x}=x^2+y$,$\\frac{\\partial u}{\\partial y}=x-2y$.\n",
    "\n",
    "对第一个方程x积分，$u=\\frac{1}{3}x^3+xy+\\varphi\\left(y\\right)$.\n",
    "\n",
    "对y求导，得$\\frac{\\partial u}{\\partial y}=x+\\varphi^{\\prime}\\left(y\\right)$,与$\\frac{\\partial u}{\\partial y}=x-2y$\n",
    "\n",
    "得$\\varphi^{\\prime}\\left(y\\right)=-2y$,积分得，$\\varphi\\left(y\\right)=-y^2$,\n",
    "\n",
    "所以$u=\\frac{1}{3}x^3+xy-y^2$\n",
    "即通解为$$\\frac{1}{3}x^3+xy-y^2=c$$c为任意常数。"
   ]
  },
  {
   "cell_type": "markdown",
   "metadata": {},
   "source": [
    "(2)$\\left(y-3x^2\\right)\\mathrm d x-\\left(4y-x\\right)=0$"
   ]
  },
  {
   "cell_type": "markdown",
   "metadata": {},
   "source": [
    "由于$M=y-3x^2$,$N=x-4y$\n",
    "\n",
    "又$\\frac{\\partial M}{\\partial y}=1$,$\\frac{\\partial N}{\\partial x}=1$，所以为微分方程。\n",
    "\n",
    "把方程重新组合，得$\\left(y\\mathrm d x+x\\mathrm d y\\right)-3x^2\\mathrm d x-4y\\mathrm d y=0$\n",
    "\n",
    "即$\\mathrm d\\left(xy-x^3-2y^2\\right)=0$.\n",
    "\n",
    "于是，方程的通解为$$xy-x^3-2y^2=c$$,其中c为任意常数。"
   ]
  },
  {
   "cell_type": "markdown",
   "metadata": {
    "collapsed": true
   },
   "source": [
    "# <font color='red'>A  19/9"
   ]
  },
  {
   "cell_type": "code",
   "execution_count": null,
   "metadata": {
    "collapsed": true
   },
   "outputs": [],
   "source": []
  }
 ],
 "metadata": {
  "kernelspec": {
   "display_name": "SageMath 7.3",
   "language": "",
   "name": "sagemath"
  },
  "language_info": {
   "codemirror_mode": {
    "name": "ipython",
    "version": 2
   },
   "file_extension": ".py",
   "mimetype": "text/x-python",
   "name": "python",
   "nbconvert_exporter": "python",
   "pygments_lexer": "ipython2",
   "version": "2.7.10"
  }
 },
 "nbformat": 4,
 "nbformat_minor": 0
}
