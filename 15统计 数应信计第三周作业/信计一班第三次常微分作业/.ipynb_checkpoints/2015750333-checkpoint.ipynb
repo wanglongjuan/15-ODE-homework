{
 "cells": [
  {
   "cell_type": "markdown",
   "metadata": {},
   "source": [
    "##  1、$\\frac{\\mathrm d y}{\\mathrm d x}-\\frac{n}{x}y=e^xx^n$"
   ]
  },
  {
   "cell_type": "markdown",
   "metadata": {},
   "source": [
    "$\\frac{\\mathrm d y}{\\mathrm d x}=\\frac{n}{x}y+e^xx^n$\n",
    "\n",
    "$\\frac{1}{y}\\mathrm d y=\\frac{n}{x}\\mathrm d x$\n",
    "\n",
    "$\\int \\frac{1}{y}\\mathrm d y=\\int \\frac{n}{x}\\mathrm d x+c_0$\n",
    "\n",
    "$y=cx^n$\n",
    "\n",
    "把$c$看作$c(x)$，即 $$y=c(x)x^n$$\n",
    "\n",
    "微分，得$\\frac{\\mathrm d y}{\\mathrm d x}=\\frac{\\mathrm d c(x)}{\\mathrm d x}x^n+c(x)nx^{n-1}$\n",
    "\n",
    "所以$\\frac{\\mathrm d c(x)}{\\mathrm d x}x^n+c(x)nx^{n-1}=\\frac{n}{x}c(x)\\frac{n}{x}+e^xx^n$\n",
    "\n",
    "积分后得$c(x)=\\int e^xx^ne^{-\\int \\frac{n}{x}\\mathrm d x}\\mathrm d x+c'$\n",
    "\n",
    "$所以y=x^n\\int e^xx^{n}e^{-\\int \\frac{n}{x}\\mathrm d x}\\mathrm d x+x^nc'\\\\\n",
    "=x^n(e^x+c)$"
   ]
  },
  {
   "cell_type": "code",
   "execution_count": 1,
   "metadata": {
    "collapsed": false
   },
   "outputs": [
    {
     "data": {
      "text/html": [
       "<html><script type=\"math/tex; mode=display\">\\newcommand{\\Bold}[1]{\\mathbf{#1}}x^{n} e^{x} + \\frac{n y}{x}</script></html>"
      ],
      "text/plain": [
       "x^n*e^x + n*y/x"
      ]
     },
     "metadata": {},
     "output_type": "display_data"
    },
    {
     "data": {
      "text/html": [
       "<html><script type=\"math/tex; mode=display\">\\newcommand{\\Bold}[1]{\\mathbf{#1}}\\log\\left(y\\right)</script></html>"
      ],
      "text/plain": [
       "log(y)"
      ]
     },
     "metadata": {},
     "output_type": "display_data"
    },
    {
     "data": {
      "text/html": [
       "<html><script type=\"math/tex; mode=display\">\\newcommand{\\Bold}[1]{\\mathbf{#1}}n \\log\\left(x\\right)</script></html>"
      ],
      "text/plain": [
       "n*log(x)"
      ]
     },
     "metadata": {},
     "output_type": "display_data"
    },
    {
     "data": {
      "text/html": [
       "<html><script type=\"math/tex; mode=display\">\\newcommand{\\Bold}[1]{\\mathbf{#1}}\\log\\left(y\\right) = n \\log\\left(x\\right) + c</script></html>"
      ],
      "text/plain": [
       "log(y) == n*log(x) + c"
      ]
     },
     "metadata": {},
     "output_type": "display_data"
    },
    {
     "data": {
      "text/html": [
       "<html><script type=\"math/tex; mode=display\">\\newcommand{\\Bold}[1]{\\mathbf{#1}}y = c x^{n}</script></html>"
      ],
      "text/plain": [
       "y == c*x^n"
      ]
     },
     "metadata": {},
     "output_type": "display_data"
    },
    {
     "data": {
      "text/html": [
       "<html><script type=\"math/tex; mode=display\">\\newcommand{\\Bold}[1]{\\mathbf{#1}}x^{n} e^{\\left(-n \\log\\left(x\\right) + x\\right)}</script></html>"
      ],
      "text/plain": [
       "x^n*e^(-n*log(x) + x)"
      ]
     },
     "metadata": {},
     "output_type": "display_data"
    },
    {
     "data": {
      "text/html": [
       "<html><script type=\"math/tex; mode=display\">\\newcommand{\\Bold}[1]{\\mathbf{#1}}e^{x}</script></html>"
      ],
      "text/plain": [
       "e^x"
      ]
     },
     "metadata": {},
     "output_type": "display_data"
    },
    {
     "data": {
      "text/html": [
       "<html><script type=\"math/tex; mode=display\">\\newcommand{\\Bold}[1]{\\mathbf{#1}}y = {\\left(c_{1} + e^{x}\\right)} x^{n}</script></html>"
      ],
      "text/plain": [
       "y == (c_1 + e^x)*x^n"
      ]
     },
     "metadata": {},
     "output_type": "display_data"
    }
   ],
   "source": [
    "var('x y n c c_1')\n",
    "eqn1=n/x*y+e^x*x^n\n",
    "show(eqn1)\n",
    "f=y\n",
    "g=n/x\n",
    "F=integral(1/f,y)\n",
    "G=integral(g,x)\n",
    "show(F)\n",
    "show(G)\n",
    "s=F==G+c\n",
    "show(s)\n",
    "s=y==c*x^n\n",
    "show(s)\n",
    "c=e^x*x^n*e^(-G)\n",
    "C=integral(c,x)\n",
    "s=y==x^n*(C+c_1)\n",
    "show(c)\n",
    "show(C)\n",
    "show(s)"
   ]
  },
  {
   "cell_type": "markdown",
   "metadata": {
    "collapsed": true
   },
   "source": [
    "# 2、$\\frac{\\mathrm d y}{\\mathrm d x}=\\frac{1}{xy+x^3y^3}$"
   ]
  },
  {
   "cell_type": "markdown",
   "metadata": {
    "collapsed": true
   },
   "source": [
    "$\\frac{\\mathrm d x}{\\mathrm d y}=xy+x^3y^3$\n",
    "\n",
    "两边同乘$x^{-3}$\n",
    "\n",
    "$x^{-3}\\frac{\\mathrm d x}{\\mathrm d y}=yx^{-2}+y^3$\n",
    "\n",
    "令$z=x^{-2}$\n",
    "\n",
    "$\\frac{\\mathrm d z}{\\mathrm d y}=-2x^{-3}\\frac{\\mathrm d x}{\\mathrm d y}\\\\\n",
    "\\frac{\\mathrm d z}{\\mathrm d y}=-2yz-2y^3\\\\$\n",
    "\n",
    "由公式得$z=e^{\\int -2y\\mathrm d y}(\\int -2y^3e^{-\\int -2y^2\\mathrm d y}\\mathrm d y+c)$\n",
    "\n",
    "$z=e^{(-y^2)}(-\\int y^2e^{y^2}\\mathrm d y^2+c)\\\\\n",
    "=1-y^2+ce^{(-y^2)}\\\\\n",
    "x^2(1-y^2+ce^{-y^2})=1\\\\\n",
    "x^2e^{y^2}(1-y^2+ce^{-y^2})=e^{y^2}\\\\\n",
    "e^{y^2}(1-x^2+x^2y^2)=cx^2$"
   ]
  },
  {
   "cell_type": "code",
   "execution_count": 47,
   "metadata": {
    "collapsed": false
   },
   "outputs": [
    {
     "data": {
      "text/html": [
       "<html><script type=\"math/tex; mode=display\">\\newcommand{\\Bold}[1]{\\mathbf{#1}}x^{3} y^{3} + x y</script></html>"
      ],
      "text/plain": [
       "x^3*y^3 + x*y"
      ]
     },
     "metadata": {},
     "output_type": "display_data"
    },
    {
     "data": {
      "text/html": [
       "<html><script type=\"math/tex; mode=display\">\\newcommand{\\Bold}[1]{\\mathbf{#1}}y^{3} + \\frac{y}{x^{2}}</script></html>"
      ],
      "text/plain": [
       "y^3 + y/x^2"
      ]
     },
     "metadata": {},
     "output_type": "display_data"
    },
    {
     "data": {
      "text/html": [
       "<html><script type=\"math/tex; mode=display\">\\newcommand{\\Bold}[1]{\\mathbf{#1}}-2 \\, y^{3} - 2 \\, y z</script></html>"
      ],
      "text/plain": [
       "-2*y^3 - 2*y*z"
      ]
     },
     "metadata": {},
     "output_type": "display_data"
    },
    {
     "data": {
      "text/html": [
       "<html><script type=\"math/tex; mode=display\">\\newcommand{\\Bold}[1]{\\mathbf{#1}}-y^{2} + c e^{\\left(-y^{2}\\right)} + 1</script></html>"
      ],
      "text/plain": [
       "-y^2 + c*e^(-y^2) + 1"
      ]
     },
     "metadata": {},
     "output_type": "display_data"
    },
    {
     "data": {
      "text/html": [
       "<html><script type=\"math/tex; mode=display\">\\newcommand{\\Bold}[1]{\\mathbf{#1}}c x^{2} = {\\left(x^{2} y^{2} - x^{2} + 1\\right)} e^{\\left(y^{2}\\right)}</script></html>"
      ],
      "text/plain": [
       "c*x^2 == (x^2*y^2 - x^2 + 1)*e^(y^2)"
      ]
     },
     "metadata": {},
     "output_type": "display_data"
    }
   ],
   "source": [
    "var('x y z c ')\n",
    "eqn1=x*y+(x^3)*(y^3)\n",
    "show(eqn1)\n",
    "eqn2=y*x^-2+y^3\n",
    "show(eqn2)\n",
    "f=-2*y*z-2*y^3\n",
    "show(f)\n",
    "z=e^(-y^2)*(1-y^2)*e^(y^2)+c*e^(-y^2)\n",
    "show(z)\n",
    "F=c*x^2\n",
    "G=e^(y^2)*(1-x^2+x^2*y^2)\n",
    "s=F==G\n",
    "show(s)"
   ]
  },
  {
   "cell_type": "markdown",
   "metadata": {},
   "source": [
    "# 3、$y=e^x+\\int_0x$ "
   ]
  },
  {
   "cell_type": "markdown",
   "metadata": {
    "collapsed": true
   },
   "source": [
    "$\\frac{\\mathrm d y}{\\mathrm d x}=e^x+y\\\\\n",
    "y=e^{\\int \\mathrm d x}(\\int e^xe^{-\\int \\mathrm d x}\\mathrm d x+c)\\\\\n",
    "=e^x(x+c)$"
   ]
  },
  {
   "cell_type": "markdown",
   "metadata": {},
   "source": [
    "# <font color='red'>特解？？"
   ]
  },
  {
   "cell_type": "code",
   "execution_count": 49,
   "metadata": {
    "collapsed": false
   },
   "outputs": [
    {
     "data": {
      "text/html": [
       "<html><script type=\"math/tex; mode=display\">\\newcommand{\\Bold}[1]{\\mathbf{#1}}y + e^{x}</script></html>"
      ],
      "text/plain": [
       "y + e^x"
      ]
     },
     "metadata": {},
     "output_type": "display_data"
    },
    {
     "data": {
      "text/html": [
       "<html><script type=\"math/tex; mode=display\">\\newcommand{\\Bold}[1]{\\mathbf{#1}}1</script></html>"
      ],
      "text/plain": [
       "1"
      ]
     },
     "metadata": {},
     "output_type": "display_data"
    },
    {
     "data": {
      "text/html": [
       "<html><script type=\"math/tex; mode=display\">\\newcommand{\\Bold}[1]{\\mathbf{#1}}e^{x}</script></html>"
      ],
      "text/plain": [
       "e^x"
      ]
     },
     "metadata": {},
     "output_type": "display_data"
    },
    {
     "data": {
      "text/html": [
       "<html><script type=\"math/tex; mode=display\">\\newcommand{\\Bold}[1]{\\mathbf{#1}}y = {\\left(c + x\\right)} e^{x}</script></html>"
      ],
      "text/plain": [
       "y == (c + x)*e^x"
      ]
     },
     "metadata": {},
     "output_type": "display_data"
    }
   ],
   "source": [
    "var('x y c')\n",
    "s=e^x+y\n",
    "show(s)\n",
    "p=1\n",
    "q=e^x\n",
    "show(p)\n",
    "show(q)\n",
    "P=integral(p,x)\n",
    "s=y==e^x*(x+c)\n",
    "show(s)"
   ]
  },
  {
   "cell_type": "markdown",
   "metadata": {},
   "source": [
    "# 4、$y'sinxcosx-y-sin^3x=0$"
   ]
  },
  {
   "cell_type": "markdown",
   "metadata": {},
   "source": [
    "$\\frac{\\mathrm d y}{\\mathrm d x}=\\frac{y}{sinxcosx}+\\frac{sin^2x}{cosx}\\\\\n",
    "y=e^{\\int \\frac{1}{sinxcosx}\\mathrm d x}(\\int \\frac{sin^2x}{cosx}e^{-\\int \\frac{1}{sinxcosx}\\mathrm d x}\\mathrm d x+c)\\\\\n",
    "=\\frac{sinx}{cosx}(\\int \\frac{sin^2x}{cosx}\\frac{cosx}{sinx}\\mathrm dx+c)\\\\\n",
    "=ctanx-sinx$"
   ]
  },
  {
   "cell_type": "markdown",
   "metadata": {},
   "source": [
    "# <font color='red'>特解？？？"
   ]
  },
  {
   "cell_type": "code",
   "execution_count": 60,
   "metadata": {
    "collapsed": false
   },
   "outputs": [
    {
     "data": {
      "text/html": [
       "<html><script type=\"math/tex; mode=display\">\\newcommand{\\Bold}[1]{\\mathbf{#1}}\\frac{\\mathit{sinx}^{2}}{\\mathit{cosx}} + \\frac{y}{\\mathit{cosx} \\mathit{sinx}}</script></html>"
      ],
      "text/plain": [
       "sinx^2/cosx + y/(cosx*sinx)"
      ]
     },
     "metadata": {},
     "output_type": "display_data"
    },
    {
     "data": {
      "text/html": [
       "<html><script type=\"math/tex; mode=display\">\\newcommand{\\Bold}[1]{\\mathbf{#1}}\\log\\left(\\frac{\\mathit{sinx}}{\\mathit{cosx}}\\right)</script></html>"
      ],
      "text/plain": [
       "log(sinx/cosx)"
      ]
     },
     "metadata": {},
     "output_type": "display_data"
    },
    {
     "data": {
      "text/html": [
       "<html><script type=\"math/tex; mode=display\">\\newcommand{\\Bold}[1]{\\mathbf{#1}}y = \\frac{{\\left(c - \\mathit{cosx}\\right)} \\mathit{sinx}}{\\mathit{cosx}}</script></html>"
      ],
      "text/plain": [
       "y == (c - cosx)*sinx/cosx"
      ]
     },
     "metadata": {},
     "output_type": "display_data"
    },
    {
     "data": {
      "text/html": [
       "<html><script type=\"math/tex; mode=display\">\\newcommand{\\Bold}[1]{\\mathbf{#1}}y = c \\mathit{tanx} - \\mathit{sinx}</script></html>"
      ],
      "text/plain": [
       "y == c*tanx - sinx"
      ]
     },
     "metadata": {},
     "output_type": "display_data"
    }
   ],
   "source": [
    "var('x y z sinx cosx tanx c')\n",
    "eqn1=y/(sinx*cosx)+sinx^2/cosx\n",
    "show(eqn1)\n",
    "f=ln(sinx/cosx)\n",
    "show(f)\n",
    "s=y==e^(f)*(-cosx+c)\n",
    "show(s)\n",
    "s=y==c*tanx-sinx\n",
    "show(s)"
   ]
  },
  {
   "cell_type": "markdown",
   "metadata": {},
   "source": [
    "# 5、$(x^2+y)\\mathrm d x+(x-2y)\\mathrm d y=0$"
   ]
  },
  {
   "cell_type": "markdown",
   "metadata": {},
   "source": [
    "这里$M=x^2+y$            ， $N=x-2y$\n",
    "\n",
    "$\\frac{\\partial M}{\\partial y}=1$，         $\\frac{\\partial N}{\\partial x}=1$\n",
    "\n",
    "所以此方程为恰当微分方程\n",
    "\n",
    "现求$u$，使它同时满足如下两个方程\n",
    "\n",
    "$\\frac{\\partial u}{\\partial x}=x^2+y(1)\\\\\n",
    "\\frac{\\partial u}{\\partial y}=x-2y$\n",
    "\n",
    "对(1)式求积分得，\n",
    "\n",
    "$u=\\frac{x^3}{3}+xy+\\varphi (y)$\n",
    "\n",
    "因为$\\frac{\\partial u}{\\partial y}=x+\\frac{\\varphi (y)}{\\mathrm d y}=x-2y$\n",
    "\n",
    "所以$\\frac{\\varphi (y)}{\\mathrm d y}=-2y$\n",
    "\n",
    "积分得$\\varphi (y)=-y^2$\n",
    "\n",
    "所以$u=\\frac{1}{3}x^3+xy-y^2$\n",
    "\n",
    "通解$\\frac{1}{3}x^3+xy-y^2=c$"
   ]
  },
  {
   "cell_type": "code",
   "execution_count": 81,
   "metadata": {
    "collapsed": false
   },
   "outputs": [
    {
     "data": {
      "text/html": [
       "<html><script type=\"math/tex; mode=display\">\\newcommand{\\Bold}[1]{\\mathbf{#1}}M = x^{2} + y</script></html>"
      ],
      "text/plain": [
       "M == x^2 + y"
      ]
     },
     "metadata": {},
     "output_type": "display_data"
    },
    {
     "data": {
      "text/html": [
       "<html><script type=\"math/tex; mode=display\">\\newcommand{\\Bold}[1]{\\mathbf{#1}}N = x - 2 \\, y</script></html>"
      ],
      "text/plain": [
       "N == x - 2*y"
      ]
     },
     "metadata": {},
     "output_type": "display_data"
    },
    {
     "data": {
      "text/html": [
       "<html><script type=\"math/tex; mode=display\">\\newcommand{\\Bold}[1]{\\mathbf{#1}}-2 \\, y</script></html>"
      ],
      "text/plain": [
       "-2*y"
      ]
     },
     "metadata": {},
     "output_type": "display_data"
    },
    {
     "data": {
      "text/html": [
       "<html><script type=\"math/tex; mode=display\">\\newcommand{\\Bold}[1]{\\mathbf{#1}}-2 \\, x</script></html>"
      ],
      "text/plain": [
       "-2*x"
      ]
     },
     "metadata": {},
     "output_type": "display_data"
    },
    {
     "data": {
      "text/html": [
       "<html><script type=\"math/tex; mode=display\">\\newcommand{\\Bold}[1]{\\mathbf{#1}}\\frac{1}{3} \\, x^{3} + x y + f</script></html>"
      ],
      "text/plain": [
       "1/3*x^3 + x*y + f"
      ]
     },
     "metadata": {},
     "output_type": "display_data"
    },
    {
     "data": {
      "text/html": [
       "<html><script type=\"math/tex; mode=display\">\\newcommand{\\Bold}[1]{\\mathbf{#1}}-2 \\, y</script></html>"
      ],
      "text/plain": [
       "-2*y"
      ]
     },
     "metadata": {},
     "output_type": "display_data"
    },
    {
     "data": {
      "text/html": [
       "<html><script type=\"math/tex; mode=display\">\\newcommand{\\Bold}[1]{\\mathbf{#1}}-y^{2}</script></html>"
      ],
      "text/plain": [
       "-y^2"
      ]
     },
     "metadata": {},
     "output_type": "display_data"
    },
    {
     "data": {
      "text/html": [
       "<html><script type=\"math/tex; mode=display\">\\newcommand{\\Bold}[1]{\\mathbf{#1}}\\frac{1}{3} \\, x^{3} + x y - y^{2}</script></html>"
      ],
      "text/plain": [
       "1/3*x^3 + x*y - y^2"
      ]
     },
     "metadata": {},
     "output_type": "display_data"
    },
    {
     "data": {
      "text/html": [
       "<html><script type=\"math/tex; mode=display\">\\newcommand{\\Bold}[1]{\\mathbf{#1}}c = \\frac{1}{3} \\, x^{3} + x y - y^{2}</script></html>"
      ],
      "text/plain": [
       "c == 1/3*x^3 + x*y - y^2"
      ]
     },
     "metadata": {},
     "output_type": "display_data"
    }
   ],
   "source": [
    "var('x y c M N f')\n",
    "eqn1=M==x^2+y\n",
    "eqn2=N==x-2*y\n",
    "show(eqn1)\n",
    "show(eqn2)\n",
    "M=x^2+y\n",
    "N=x-2*y\n",
    "m=diff (M,y)\n",
    "n=diff (N,x)\n",
    "show(m)\n",
    "show(n)\n",
    "u=integral(M,x)+f\n",
    "show(u)\n",
    "diff(f,y)=-2*y\n",
    "F=diff(f,y)\n",
    "show(F)\n",
    "f=integral(F,y)\n",
    "show(f)\n",
    "show(u.subs(f=-y^2))\n",
    "s=c==u.subs(f=-y^2)\n",
    "show(s)"
   ]
  },
  {
   "cell_type": "markdown",
   "metadata": {},
   "source": [
    "# 6、$(y-3x^2)\\mathrm d x-(4y-x)\\mathrm d y=0$"
   ]
  },
  {
   "cell_type": "markdown",
   "metadata": {},
   "source": [
    "这里$y-3x^2$  $N=-(4y-x)$\n",
    "\n",
    "$\\frac{\\partial M}{\\partial y}=1$          $\\frac{\\partial N}{\\partial x}=1$\n",
    "\n",
    "所以此方程为恰当微分方程\n",
    "\n",
    "现求$u$，使它同时满足如下两个方程\n",
    "\n",
    "$\\frac{\\partial M}{\\partial x}=y-3x^2(1)\\\\\n",
    "\\frac{\\partial N}{\\partial y}=-(4y-x)$\n",
    "\n",
    "对(1)式求积分得，\n",
    "\n",
    "$u=-x^3+xy+\\varphi (y)$\n",
    "\n",
    "因为$\\frac{\\partial u}{\\partial y}=x+\\frac{\\varphi (y)}{\\mathrm d y}=x-4y$\n",
    "\n",
    "所以$\\frac{\\varphi (y)}{\\mathrm d y}=-4y$\n",
    "\n",
    "积分得$\\varphi (y)=-2y^2$\n",
    "\n",
    "所以$u=-x^3+xy-2y^2$\n",
    "\n",
    "通解$x^3-xy+2y^2=c$"
   ]
  },
  {
   "cell_type": "code",
   "execution_count": 2,
   "metadata": {
    "collapsed": false
   },
   "outputs": [
    {
     "data": {
      "text/html": [
       "<html><script type=\"math/tex; mode=display\">\\newcommand{\\Bold}[1]{\\mathbf{#1}}M = -3 \\, x^{2} + y</script></html>"
      ],
      "text/plain": [
       "M == -3*x^2 + y"
      ]
     },
     "metadata": {},
     "output_type": "display_data"
    },
    {
     "data": {
      "text/html": [
       "<html><script type=\"math/tex; mode=display\">\\newcommand{\\Bold}[1]{\\mathbf{#1}}N = x - 4 \\, y</script></html>"
      ],
      "text/plain": [
       "N == x - 4*y"
      ]
     },
     "metadata": {},
     "output_type": "display_data"
    },
    {
     "data": {
      "text/html": [
       "<html><script type=\"math/tex; mode=display\">\\newcommand{\\Bold}[1]{\\mathbf{#1}}1</script></html>"
      ],
      "text/plain": [
       "1"
      ]
     },
     "metadata": {},
     "output_type": "display_data"
    },
    {
     "data": {
      "text/html": [
       "<html><script type=\"math/tex; mode=display\">\\newcommand{\\Bold}[1]{\\mathbf{#1}}1</script></html>"
      ],
      "text/plain": [
       "1"
      ]
     },
     "metadata": {},
     "output_type": "display_data"
    },
    {
     "data": {
      "text/html": [
       "<html><script type=\"math/tex; mode=display\">\\newcommand{\\Bold}[1]{\\mathbf{#1}}-x^{3} + x y + f</script></html>"
      ],
      "text/plain": [
       "-x^3 + x*y + f"
      ]
     },
     "metadata": {},
     "output_type": "display_data"
    },
    {
     "data": {
      "text/html": [
       "<html><script type=\"math/tex; mode=display\">\\newcommand{\\Bold}[1]{\\mathbf{#1}}-4 \\, y</script></html>"
      ],
      "text/plain": [
       "-4*y"
      ]
     },
     "metadata": {},
     "output_type": "display_data"
    },
    {
     "data": {
      "text/html": [
       "<html><script type=\"math/tex; mode=display\">\\newcommand{\\Bold}[1]{\\mathbf{#1}}-2 \\, y^{2}</script></html>"
      ],
      "text/plain": [
       "-2*y^2"
      ]
     },
     "metadata": {},
     "output_type": "display_data"
    },
    {
     "data": {
      "text/html": [
       "<html><script type=\"math/tex; mode=display\">\\newcommand{\\Bold}[1]{\\mathbf{#1}}-x^{3} + x y - 2 \\, y^{2}</script></html>"
      ],
      "text/plain": [
       "-x^3 + x*y - 2*y^2"
      ]
     },
     "metadata": {},
     "output_type": "display_data"
    },
    {
     "data": {
      "text/html": [
       "<html><script type=\"math/tex; mode=display\">\\newcommand{\\Bold}[1]{\\mathbf{#1}}c = -x^{3} + x y - 2 \\, y^{2}</script></html>"
      ],
      "text/plain": [
       "c == -x^3 + x*y - 2*y^2"
      ]
     },
     "metadata": {},
     "output_type": "display_data"
    }
   ],
   "source": [
    "var('x y c M N f')\n",
    "eqn1=M==y-3*x^2\n",
    "eqn2=N==x-4*y\n",
    "show(eqn1)\n",
    "show(eqn2)\n",
    "M=y-3*x^2\n",
    "N=x-4*y\n",
    "m=diff (M,y)\n",
    "n=diff (N,x)\n",
    "show(m)\n",
    "show(n)\n",
    "u=integral(M,x)+f\n",
    "show(u)\n",
    "diff(f,y)=-4*y\n",
    "F=diff(f,y)\n",
    "show(F)\n",
    "f=integral(F,y)\n",
    "show(f)\n",
    "show(u.subs(f=-2*y^2))\n",
    "s=c==u.subs(f=-2*y^2)\n",
    "show(s)"
   ]
  },
  {
   "cell_type": "markdown",
   "metadata": {
    "collapsed": true
   },
   "source": [
    "# <font color='red'>A  19/9"
   ]
  },
  {
   "cell_type": "code",
   "execution_count": null,
   "metadata": {
    "collapsed": true
   },
   "outputs": [],
   "source": []
  }
 ],
 "metadata": {
  "kernelspec": {
   "display_name": "SageMath 7.3",
   "language": "",
   "name": "sagemath"
  },
  "language_info": {
   "codemirror_mode": {
    "name": "ipython",
    "version": 2
   },
   "file_extension": ".py",
   "mimetype": "text/x-python",
   "name": "python",
   "nbconvert_exporter": "python",
   "pygments_lexer": "ipython2",
   "version": "2.7.10"
  }
 },
 "nbformat": 4,
 "nbformat_minor": 0
}
