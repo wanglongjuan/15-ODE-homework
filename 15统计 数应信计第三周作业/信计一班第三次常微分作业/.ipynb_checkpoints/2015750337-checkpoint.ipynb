{
 "cells": [
  {
   "cell_type": "markdown",
   "metadata": {},
   "source": [
    "# P48\n",
    "## 1.(4)\n",
    "\n",
    "$$\\frac{dy}{dx}-\\frac{n}{x}y=e^xx^n$$"
   ]
  },
  {
   "cell_type": "markdown",
   "metadata": {},
   "source": [
    "the equation :    $$y=e^{\\int\\frac{n}{x}dx}(\\int e^xx^ne^{-\\int\\frac{n}{x}dx}+c)$$\n",
    "$\\therefore$  $$y=x^n(e^x+c)$$\n",
    "\n"
   ]
  },
  {
   "cell_type": "markdown",
   "metadata": {},
   "source": [
    "## 1.(15)\n",
    "\n",
    "$\\because$$$\\frac{dy}{dx}=\\frac{1}{xy+x^3y^3}$$\n",
    "$\\therefore$$$\\frac{dx}{dy}=yx+y^3x^3$$\n",
    "devide both side by   \n",
    "$  x^3  $\n",
    "$\\therefore$$$\\frac{1}{x^3}\\frac{dx}{dy}=\\frac{y}{x^2}+y^3$$ \n",
    "set $x^{-2}$as\n",
    "$z$\n",
    "$\\therefore$$$\\frac{dz}{dy}=-2x^{-3}\\frac{dx}{dy}$$\n",
    "$\\therefore$$$\\frac{dz}{dy}=-2yz-2y^3$$\n",
    "$\\therefore$$$z=e^{\\int-2ydy}(\\int-2y^3e^{-\\int-2ydy}dy+c)=-y^2+1+ce^{-y^2}$$\n",
    "$\\therefore$$$x^2e^{y^2}(-y^2+1+ce^{-y^2})=e^{y^2}$$\n",
    "$\\therefore$$$e^{y^2}(1-x^2+x^2y^2)=cx^2$$\n"
   ]
  },
  {
   "cell_type": "markdown",
   "metadata": {},
   "source": [
    "## 1.(16)\n"
   ]
  },
  {
   "cell_type": "markdown",
   "metadata": {},
   "source": [
    "$\\because$$$y=e^x+\\int^x_0y(t)dt$$\n",
    "$\\therefore$$$\\frac{dy}{dx}=y+e^x$$\n",
    "$\\therefore$$$y=e^{\\int1dx}(\\int e^xe^{-\\int1dx}dx+c=e^x(x+c)=e^x+\\int^x_0e^x(x+c)dx$$\n",
    "$\\therefore$$$y=e^x(x+c)$$"
   ]
  },
  {
   "cell_type": "markdown",
   "metadata": {},
   "source": [
    "# <font color='red'>特解？？"
   ]
  },
  {
   "cell_type": "markdown",
   "metadata": {},
   "source": [
    "\n",
    "\n",
    "## 7.(3)"
   ]
  },
  {
   "cell_type": "markdown",
   "metadata": {},
   "source": [
    "$$y\\prime sin xcosx x-y-sin^3 x=0$$\n",
    "$\\therefore$$$\\frac{dy}{dx}=\\frac{y}{sinxcosx}+\\frac{sin^2x}{cosx}$$\n",
    "$\\therefore$$$y=e^{\\int \\frac{1}{sinxcosx}dx}(\\int \\frac{sin^x}{cosx}e^{-\\int \\frac{1}{sinxcosx}dx}dx+c)$$\n",
    "$$=\\frac{sinx}{cos}(-cosx+c)$$\n",
    "$\\therefore$$$y=tgxc-sinx$$\n",
    "\n",
    "\n",
    "\n",
    "\n"
   ]
  },
  {
   "cell_type": "markdown",
   "metadata": {},
   "source": [
    "# <font color='red'>特解？？？"
   ]
  },
  {
   "cell_type": "markdown",
   "metadata": {},
   "source": [
    "\n",
    "\n",
    "\n",
    "\n",
    "\n",
    "\n",
    "\n",
    "\n"
   ]
  },
  {
   "cell_type": "markdown",
   "metadata": {},
   "source": [
    "# P60\n",
    "## 1.(1)\n"
   ]
  },
  {
   "cell_type": "markdown",
   "metadata": {},
   "source": [
    "$$x^2+y)dx+(x-2y)dy=0$$\n",
    "$\\because$$$\\frac{\\partial M}{\\partial y}=1, \n",
    "\\frac{\\partial N}{\\partial x}=1$$\n",
    "$\\therefore$$$\\frac{\\partial M}{\\partial y}=\\frac{\\partial N}{\\partial x}$$\n",
    "so,this equation is the proper equation\n",
    "\n",
    "$\\because $$$x^2dx-2ydy+(ydx+xdy)=0$$\n",
    "$\\therefore$$$\\frac{1}{3}x^3+xy-y^2=c$$"
   ]
  },
  {
   "cell_type": "markdown",
   "metadata": {},
   "source": [
    "## 1.(2)"
   ]
  },
  {
   "cell_type": "markdown",
   "metadata": {},
   "source": [
    "$$(y-3x^2)dx-(4y-x)dy=0$$\n",
    "$\\because$$$\\frac{\\partial M}{\\partial y}=1,\\frac{\\partial N}{\\partial x}=1$$\n",
    "$\\therefore$$$\\frac{\\partial M}{\\partial y}=\\frac{\\partial N}{\\partial x}$$\n",
    "so,this equation is the proper equation\n",
    "\n",
    "$\\because$$$ydx+xdy-3x^2dx-4ydy=0$$\n",
    "$\\therefore$$$x^3-xy+2y^2=c$$"
   ]
  },
  {
   "cell_type": "markdown",
   "metadata": {
    "collapsed": true
   },
   "source": [
    "# <font color='red'>A  19/9"
   ]
  },
  {
   "cell_type": "code",
   "execution_count": null,
   "metadata": {
    "collapsed": true
   },
   "outputs": [],
   "source": []
  }
 ],
 "metadata": {
  "kernelspec": {
   "display_name": "SageMath 7.3",
   "language": "",
   "name": "sagemath"
  },
  "language_info": {
   "codemirror_mode": {
    "name": "ipython",
    "version": 2
   },
   "file_extension": ".py",
   "mimetype": "text/x-python",
   "name": "python",
   "nbconvert_exporter": "python",
   "pygments_lexer": "ipython2",
   "version": "2.7.10"
  }
 },
 "nbformat": 4,
 "nbformat_minor": 0
}
