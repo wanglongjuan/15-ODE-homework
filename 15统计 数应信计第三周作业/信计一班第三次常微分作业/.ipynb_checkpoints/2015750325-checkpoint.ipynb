{
 "cells": [
  {
   "cell_type": "markdown",
   "metadata": {},
   "source": [
    "焦畅  2015750325   第二次作业"
   ]
  },
  {
   "cell_type": "markdown",
   "metadata": {},
   "source": [
    "2.2 \n",
    "1 （4）\n",
    "$\\frac{dy}{dx}-\\frac{n}{x}y=e^xx^n$\n",
    "\n",
    "$P(x)=\\frac{n}{x},Q(x)=e^xx^n$\n",
    "\n",
    "$可得y=e^{\\int\\frac{n}{x}{\\rm d}x}(\\int e^xx^ne^{-\\int\\frac{n}{x}{\\rm d}x}{\\rm d}x+c)$\n",
    "\n",
    "$y=x^n(\\int e^xx^nx^{-n}+c)$\n",
    "     \n",
    "$y=(e^x+c)x^n$"
   ]
  },
  {
   "cell_type": "markdown",
   "metadata": {},
   "source": [
    "(15)\n",
    "$令u=y^2,则\\frac{du}{dx}=\\frac{2}{x+x^3u}$\n",
    "\n",
    "$把u看成自变量，x看成因变量，则  \\frac{dx}{du}=\\frac{x}{2}+\\frac{u}{2}x^3$\n",
    "\n",
    "$这是n=3时的伯努利方程，令z=x^{-2}$\n",
    "\n",
    "$得 \\frac{dz}{du}=-2x^{-3}\\frac{dx}{du}$\n",
    "\n",
    "$代入得， \\frac{dz}{du}=-z-u$\n",
    "\n",
    "$可得   z= e^{\\int -1{\\rm d}x}(\\int {-u}e^{1}{\\rm d}x{\\rm d}x+c)$\n",
    "\n",
    "$z=ce^{-u}-u+1$\n",
    "\n",
    "$代入x y得  x^{-2}=ce^{-u}-y^2+1$"
   ]
  },
  {
   "cell_type": "markdown",
   "metadata": {},
   "source": [
    "(16)\n",
    "$对方程两端对x求导$\n",
    "\n",
    "$得\\frac{dy}{dx}=e^x+y$\n",
    "\n",
    "$则其通解为  y=e^x(\\int e^x e^{-x}{\\rm d}x+c)$\n",
    "\n",
    "$即 y=e^x(x+c)$\n",
    "\n",
    "$当x=0时 可得y=e^x+\\int_0^0y(t){\\rm d}t=1$\n",
    "\n",
    "$可得c=1$\n",
    "\n",
    "$所以 解为y=e^x(x+1)$\n"
   ]
  },
  {
   "cell_type": "markdown",
   "metadata": {},
   "source": [
    "7(3)\n",
    "$由原式可得  \\frac{dy}{dx}=\\frac{y}{sinxcosx}+\\frac{{sinx}^2}{cosx}$\n",
    "\n",
    "$可得解为$\n",
    "\n",
    "$y= e^{\\int\\frac{1}{sinxcosx}{\\rm d}x}(\\int \\frac{{sinx}^2}{cosx}e^{-\\int\\frac{1}{sinxcosx}{\\rm d}x}{\\rm d}x+c)$\n",
    "\n",
    "$y=tanx(\\int\\frac{{sinx}^2}{cosx}cotx{\\rm d}x+c)$\n",
    "\n",
    "$y=tanx(-cosx+c)$\n",
    "\n",
    "$当sinx=0时，原方程化为y=0$\n",
    "\n",
    "$当cosx=0时，原方程化为y=-{sinx}^2=\\pm 1$\n",
    "\n",
    "$综上，原方程的解为$\n",
    "\n",
    "$y=c tanx-sinx,(x\\neq k\\pi\\pm\\frac{\\pi}{2})$\n",
    "\n",
    "$或者-(k\\pi\\pm+\\frac{\\pi}{2},c-1^{k+1}),k=0,\\pm1,\\pm2…$\n"
   ]
  },
  {
   "cell_type": "markdown",
   "metadata": {},
   "source": [
    "2.3 1\n",
    "(1)\n",
    "$M=x^2+y,  N=x-2y$\n",
    "\n",
    "$\\frac{\\partial M}{\\partial y}=1,  \\frac{\\partial N}{\\partial x}=1,$\n",
    "\n",
    "$\\frac{\\partial u}{\\partial x}=x^2+y,  \\frac{\\partial u}{\\partial y}=x-2y,$\n",
    "\n",
    "$第一个式子对x积分得，u=\\frac{1}{3}x^3+xy+\\phi(y)$\n",
    "\n",
    "$对上式两边对y求导得，\\frac{\\partial u}{\\partial y}=x+\\phi’(y)=x-2y$\n",
    "\n",
    "$则\\phi(y)=-y^2$\n",
    "\n",
    "$则 u=\\frac{1}{3}x^3+xy-y^2$\n",
    "\n",
    "$得到原方程通解为$\n",
    "\n",
    "$x^3+3xy-3y^2=c  (c为任意常数)$\n"
   ]
  },
  {
   "cell_type": "markdown",
   "metadata": {},
   "source": [
    "(2)\n",
    "$M=y-3x^2 , N=x-4y$\n",
    "\n",
    "$\\frac{\\partial M}{\\partial y}=1,  \\frac{\\partial N}{\\partial x}=1,$\n",
    "\n",
    "$\\frac{\\partial u}{\\partial x}=y-3x^2,  \\frac{\\partial u}{\\partial y}=x-4y,$\n",
    "\n",
    "$第一个式子对x积分得，u=xy-x^3+\\phi(y)$\n",
    "\n",
    "$对上式两边对y求导得，\\frac{\\partial u}{\\partial y}=x+\\phi’(y)=x-4y$\n",
    "\n",
    "$则\\phi(y)=-2y^2$\n",
    "\n",
    "$则 u=xy-x^3-2y^2$\n",
    "\n",
    "$得到原方程通解为$\n",
    "\n",
    "$x^3-xy+2y^2=c  (c为任意常数)$\n"
   ]
  },
  {
   "cell_type": "markdown",
   "metadata": {},
   "source": [
    "# <font color='red'>A  19/9"
   ]
  },
  {
   "cell_type": "code",
   "execution_count": null,
   "metadata": {
    "collapsed": true
   },
   "outputs": [],
   "source": []
  }
 ],
 "metadata": {
  "kernelspec": {
   "display_name": "SageMath 7.3",
   "language": "",
   "name": "sagemath"
  },
  "language_info": {
   "codemirror_mode": {
    "name": "ipython",
    "version": 2
   },
   "file_extension": ".py",
   "mimetype": "text/x-python",
   "name": "python",
   "nbconvert_exporter": "python",
   "pygments_lexer": "ipython2",
   "version": "2.7.10"
  }
 },
 "nbformat": 4,
 "nbformat_minor": 0
}
