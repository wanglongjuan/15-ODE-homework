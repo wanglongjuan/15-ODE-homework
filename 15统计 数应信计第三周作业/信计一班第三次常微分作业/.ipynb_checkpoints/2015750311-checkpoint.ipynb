{
 "cells": [
  {
   "cell_type": "markdown",
   "metadata": {},
   "source": [
    "$Page$ $49$   $T1.(4)$\n",
    "\n",
    "$\\frac{dy}{dx}-\\frac{n}{x}y=e^xx^n$\n",
    "\n",
    "$首先考虑一阶齐次线性微分方程为零的情况$ \n",
    "\n",
    "$\\frac{dy}{dx}-\\frac{n}{x}y=0$\n",
    "\n",
    "$\\frac{1}{y}dy=\\frac{n}{x}dx$\n",
    "\n",
    "$通过积分而得到$\n",
    "\n",
    "$y=cx^n$\n",
    "\n",
    "$所以可以写做$ \n",
    "\n",
    "$y=c(x)x^n$\n",
    "\n",
    "$两边同时微分而得到$\n",
    "\n",
    " $\\frac{d[c(x)]x^n}{dx}=e^x$\n",
    "\n",
    "$然后可以得到$\n",
    "\n",
    "$c(x)=e^x+c~$\n",
    "\n",
    "$y=(e^x+c~)x^n$"
   ]
  },
  {
   "cell_type": "markdown",
   "metadata": {},
   "source": [
    "$Page$ $49$   $T1.(15)$\n",
    "\n",
    "$\\frac{y}{x}=\\frac{1}{xy+x^3+y^3}$\n",
    "\n",
    "$\\frac{x}{y}=xy+x^3+y^3$   $两边同时为倒数的结果$\n",
    "\n",
    "$x^{-3}\\frac{dx}{dy}=x^{-2}y^3$ \n",
    "\n",
    "$然后把$x^2$当作$z$ $\n",
    "\n",
    "$\\frac{dz}{dy}=-2yz-2y^3$\n",
    "\n",
    "$通过求解公式可以得到$\n",
    "\n",
    "$z=e^{\\int\\mathrm{-2ydy}\n",
    "    }(\\int\\mathrm{-2y^3e^{-\\int\\mathrm{-2ydy}}dy+c})=e^{-y^2}(\\int\\mathrm{-2y^3e^{-\\int\\mathrm{-2ydy}}dy+c})\\\\=-y^2+1+ce^(-y^2)$\n",
    "\n",
    "$x^2[-y^2+1+ce^(-y^2)]=1$\n",
    "\n",
    "$x^2e^{y^2}[-y^2+1+ce^(-y^2)]=x^2e^{y^2}$\n",
    "\n",
    "$所以最后的答案是$\n",
    "\n",
    "$e^{y^2}[-y^2+1+ce^(-y^2)]=cx^2$"
   ]
  },
  {
   "cell_type": "markdown",
   "metadata": {},
   "source": [
    "# <font color='red'>整理结果？？"
   ]
  },
  {
   "cell_type": "markdown",
   "metadata": {},
   "source": [
    "$Page$ $49$   $T1.(16)$\n",
    "\n",
    "$y=e^x+\\int_0^x{y(t)dt}$\n",
    "\n",
    "$首先两边同时微分得到$\n",
    "\n",
    "$\\frac{dy}{dx}=e^x+y(x)$\n",
    "\n",
    "$\\frac{dy}{dx}=y+e^x$ \n",
    "\n",
    "$利用求解公式可以得到$\n",
    "\n",
    "$y=e^{\\int\\mathrm{1dx}}(\\int\\mathrm{e^xe^{-\\int\\mathrm{1dx}}dx}+c)\\\\=e^x(\\int\\mathrm{e^xe^{-x}dx}+c)\\\\e^x(x+c)$\n",
    "\n",
    "$e^x(x+c)=e^x+\\int_0^x\\mathrm{e^x(x+c)dx}$\n",
    "\n",
    "$c=1$\n",
    "\n",
    "$最后的答案$\n",
    "\n",
    "$y=e^x(x+c)$"
   ]
  },
  {
   "cell_type": "markdown",
   "metadata": {},
   "source": [
    "$Page$ $50$   $T7.(3)$\n",
    "\n",
    "$y'sinx.cosx-y-(sinx)^3=0$\n",
    "\n",
    "$\\frac{dy}{dx}=\\frac{y}{sinxcosx}+\\frac{(sinx)^2}{cosx}$\n",
    "\n",
    "$通过求解公式可以得到$\n",
    "\n",
    "$y=e^{\\int\\mathrm{\\frac{1}{sinxcosx}dx}}(\\int\\mathrm{\\frac{(sinx)^2}{cosx}e^{-\\frac{1}{sinxcosx}dx}dx}+c)\\\\=\\frac{sinx}{cosx}(-cosx+c)\\\\=tgxc-sinx$"
   ]
  },
  {
   "cell_type": "markdown",
   "metadata": {},
   "source": [
    "# <font color='red'>特解？？"
   ]
  },
  {
   "cell_type": "markdown",
   "metadata": {},
   "source": [
    "$Page$ $60$   $T1.(1)$\n",
    "\n",
    "$(x^2+y)dx+(x+2y)dy=0$\n",
    "\n",
    "$\\frac{\\partial M}{\\partial Y}=1$  $\\frac{\\partial M}{\\partial X}=1 $\n",
    "\n",
    "$则$\n",
    "\n",
    "$\\frac{\\partial M}{\\partial Y}=\\frac{\\partial M}{\\partial X}$\n",
    "\n",
    "$所以此方程为为恰当方程$\n",
    "\n",
    "$凑微分可得$\n",
    "\n",
    "$x^2dx-2ydy+(ydy+xdy)=0$\n",
    "\n",
    "$\\frac{x^3}{3}+xy-y^2=c$"
   ]
  },
  {
   "cell_type": "markdown",
   "metadata": {
    "collapsed": true
   },
   "source": [
    "$Page$ $60$   $T1.(2)$\n",
    "\n",
    "$(y-3x^2)dx-(4y-x)dy=0$\n",
    "\n",
    "$则$\n",
    "\n",
    "$\\frac{\\partial M}{\\partial Y}=1$  $\\frac{\\partial M}{\\partial X}=1 $\n",
    "\n",
    "$\\frac{\\partial M}{\\partial Y}=\\frac{\\partial M}{\\partial X}$\n",
    "\n",
    "$所以此方程为为恰当方程$\n",
    "\n",
    "$凑微分可得$\n",
    "\n",
    "$ydx+xdy-3x^2dx-4ydy=0$\n",
    "\n",
    "$x^3-xy+2y^2=c$"
   ]
  },
  {
   "cell_type": "markdown",
   "metadata": {
    "collapsed": true
   },
   "source": [
    "# <font color='red'>A  19/9"
   ]
  },
  {
   "cell_type": "code",
   "execution_count": null,
   "metadata": {
    "collapsed": true
   },
   "outputs": [],
   "source": []
  }
 ],
 "metadata": {
  "kernelspec": {
   "display_name": "SageMath 7.3",
   "language": "",
   "name": "sagemath"
  },
  "language_info": {
   "codemirror_mode": {
    "name": "ipython",
    "version": 2
   },
   "file_extension": ".py",
   "mimetype": "text/x-python",
   "name": "python",
   "nbconvert_exporter": "python",
   "pygments_lexer": "ipython2",
   "version": "2.7.10"
  }
 },
 "nbformat": 4,
 "nbformat_minor": 0
}
