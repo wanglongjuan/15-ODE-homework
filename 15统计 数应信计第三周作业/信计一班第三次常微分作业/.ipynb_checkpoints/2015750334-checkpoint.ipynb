{
 "cells": [
  {
   "cell_type": "markdown",
   "metadata": {},
   "source": [
    "1（4）求下列方程的解$$\\frac{\\mathrm dy}{\\mathrm dx}-\\frac{n}{x} y=e^x x^n$$解：方程可化为：$$\\frac{\\mathrm dy}{\\mathrm dx}=\\frac{n}{x} y+e^x x^n$$求积分：$$y=e^{\\int \\frac{n}{x}\\, \\mathrm{d}x}[\\int e^x x^n e^{-\\int \\frac{n}{x}\\, \\mathrm{d}x}\\mathrm{d}x+c]$$得到：$$y=x^n(e^x+c)$$"
   ]
  },
  {
   "cell_type": "markdown",
   "metadata": {},
   "source": [
    "1(15)求下列方程的解$$\\frac{\\mathrm dy}{\\mathrm dx}=\\frac{1}{x y+x^3 y^3}$$解：方程可化为：$$\\frac{\\mathrm dx}{\\mathrm dy}=y x+y^3 x^3$$这是$n=3$时的伯努利方程，有：$$x^{-3} \\frac{\\mathrm dx}{\\mathrm dy}=y x^{-2}+y^3$$引入变量变换：$z=x^{-2}$,则:$$\\frac{\\mathrm dz}{\\mathrm dy}=-2 x^{-3} \\frac{\\mathrm dx}{\\mathrm dy}$$则有：$$-\\frac{1}{2} \\frac{\\mathrm dz}{\\mathrm dy}=y z+y^3$$这时方程化为一阶线性微分方程：$$\\frac{\\mathrm dz}{\\mathrm dy}=-2 y z-2 y^3$$得到：$$z=e^{\\int -2 y\\,\\mathrm{d}y}[\\int -2 y^3 e^{\\int 2 y\\,\\mathrm{d}y}\\,\\mathrm{d}y]$$$$z=1-y^2+c e^{1y^2}$$所以解得：$$e^{y^2}(1-x^2+x^2 y^2)=c x^2$$"
   ]
  },
  {
   "cell_type": "markdown",
   "metadata": {},
   "source": [
    "1(16))求下列方程的解$$y=e^x+\\int_0^x y(t)\\,\\mathrm{d}t$$解：方程可化为：$$\\frac{\\mathrm dy}{\\mathrm dx}=e^x+y$$这是一个一阶线性微分方程：$$y=e^{\\int 1\\,\\mathrm{d}x}(\\int e^x e^{\\int -1\\,\\mathrm{d}x}\\,\\mathrm{d}x+c)$$解得：$$y=e^x(x+c)$$"
   ]
  },
  {
   "cell_type": "markdown",
   "metadata": {},
   "source": [
    "# <font color='red'>特解？？"
   ]
  },
  {
   "cell_type": "markdown",
   "metadata": {},
   "source": [
    "7(3)求解下列方程：$$y' sinx cosx-y-sinx^3=0$$方程变形为：$$\\frac{\\mathrm dy}{\\mathrm dx} sinx cosx=y+sinx^3$$则：$$y=e^{\\int \\frac{2}{sin2x}\\,\\mathrm{d}x}(\\int \\frac{sinx^2}{cosx} e^{-\\int \\frac{2}{sin2x}\\,\\mathrm{d}x}\\,\\mathrm{d}x+c)$$解得：$$y=tanx(\\int sinx\\,\\mathrm{d}x+c)$$$$y=c tanx-sinx$$"
   ]
  },
  {
   "cell_type": "markdown",
   "metadata": {},
   "source": [
    "# <font color='red'>特解？？"
   ]
  },
  {
   "cell_type": "markdown",
   "metadata": {},
   "source": [
    "1(2)验证下列方程是恰当微分方程，并求出方程的解$$(y-3 x^2)\\mathrm dx-(4 y-x)\\mathrm dy=0$$解：在这里$M=y-3 x^2,N=x-4 y$，则：$$\\frac{\\partial M}{\\partial y}=1,\\frac{\\partial N}{\\partial x}=1$$所以方程是恰当微分方程，现在求u,使得u同时满足下面两个式子：$$\\frac{\\partial u}{\\partial x}=y-3 x^2 (1)$$$$\\frac{\\partial u}{\\partial y}=x-4 y (2)$$对（1）式等式两边同时求积分，得：$$u=y x-x^3+\\varphi (y)$$上式对y求偏导，得：$$\\frac{\\partial u}{\\partial y}=x+\\frac{\\mathrm \\varphi (y)}{\\mathrm y}(3)$$联立（2）（3），得：$$\\frac{\\mathrm \\partial (y)}{\\mathrm dy}=-4 y$$求积分，得：$$\\varphi=-2 y^2$$则：$$u=x y-x^3-2 y^2$$方程通解为：$$x y-2 y^2-x^3=c$$"
   ]
  },
  {
   "cell_type": "markdown",
   "metadata": {},
   "source": [
    "1(3)验证下列方程是恰当微分方程，并求出方程的解$$[\\frac{y^2}{(x-y)^2}-\\frac{1}{x}]\\mathrm dx+[\\frac{1}{y}-\\frac{x^2}{(x-y)^2}]\\mathrm dy=0$$解：这里$$M=\\frac{y^2}{(x-y)^2-\\frac{1}{x}},N=\\frac{1}{y}-\\frac{x^2}{(x-y)^2}$$则：$$\\frac{\\partial M}{\\partial y}=\\frac{2 y (x-y)^2+2 (x-y) y^2}{(x-y)^4}=\\frac{\\partial N}{\\partial x}$$因此方程式恰当微分方程，现在求u，使得u满足下面两个式子：$$\\frac{\\partial u}{\\partial x}=\\frac{y^2}{(x-y)^2}-\\frac{1}{x}(1)$$$$\\frac{\\partial u}{\\partial y}=\\frac{1}{y}-\\frac{x^2}{(x-y)^2}(2)$$对（1)求积分：$$u=-\\frac{y^2}{x-y}-ln|x|+\\varphi(y)$$上式对y求偏导：$$\\frac{\\partial u}{\\partial y}=\\frac{-2 y (x-y)-y^2}{(x-y)^2}+\\frac{\\mathrm \\varphi(y)}{\\mathrm dy}(3)$$联立（2）（3），得:$$\\frac{\\mathrm\\varphi(y)}{\\mathrm dy}=\\frac{1}{y}-1$$求积分，得：$$\\varphi(y)=ln|y|-y$$所以$$u=ln|\\frac{y}{x}|-\\frac{x y}{x-y}$$所以解为：$$ln|\\frac{y}{x}|-\\frac{x y}{x-y}=c$$"
   ]
  },
  {
   "cell_type": "markdown",
   "metadata": {},
   "source": [
    "# <font color='red'>A  19/9"
   ]
  },
  {
   "cell_type": "code",
   "execution_count": null,
   "metadata": {
    "collapsed": true
   },
   "outputs": [],
   "source": []
  }
 ],
 "metadata": {
  "kernelspec": {
   "display_name": "SageMath 7.3",
   "language": "",
   "name": "sagemath"
  },
  "language_info": {
   "codemirror_mode": {
    "name": "ipython",
    "version": 2
   },
   "file_extension": ".py",
   "mimetype": "text/x-python",
   "name": "python",
   "nbconvert_exporter": "python",
   "pygments_lexer": "ipython2",
   "version": "2.7.10"
  }
 },
 "nbformat": 4,
 "nbformat_minor": 0
}
