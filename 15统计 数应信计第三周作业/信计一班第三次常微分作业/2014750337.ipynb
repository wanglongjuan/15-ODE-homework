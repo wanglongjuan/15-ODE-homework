{
 "cells": [
  {
   "cell_type": "markdown",
   "metadata": {},
   "source": [
    "# homework2\n",
    "**P49**  \n",
    "**1 solve following euqation**  \n",
    "**(4)$\\frac{\\mathrm d y}{\\mathrm d x}-\\frac{n}{x}y=\\mathrm e ^xx^n$**  \n",
    "**answer:** solve the equation$\\frac{\\mathrm d y}{\\mathrm d x}-\\frac{n}{x}y=0$,it can be simplified to  \n",
    "$\\frac{\\mathrm d y}{\\mathrm d x}=\\frac{n}{x}y$,the solution is $y=cx^n$  \n",
    "consider **c** as undetermined function: $y=c(x)x^n$  \n",
    "differentate both side,we got$\\frac{\\mathrm d y}{\\mathrm d x}=\\frac{\\mathrm d c(x)}{\\mathrm d x}x^n+nx^nc(x)$  \n",
    "so $\\frac{\\mathrm d c(x)}{\\mathrm d x}=\\mathrm e ^xx^n$\n",
    "integrate both side,$c(x)=e^x+c$  \n",
    "so the solution of the orginal equation is $y=x^n(e^x+c)$  \n",
    "**(15)$\\frac{\\mathrm d y}{\\mathrm d x}=\\frac{1}{xy+x^3y^3}$**  \n",
    "**answer:**$\\frac{\\mathrm d x}{\\mathrm d y}=xy+x^3y^3$  \n",
    "suppose $z=x^{-2}$ then  \n",
    "$\\frac{\\mathrm d z}{\\mathrm d y}=-2x^{-3}\\frac{\\mathrm d x}{\\mathrm d y}$  \n",
    "so $\\frac{\\mathrm d z}{\\mathrm d y}=-2yz-2y^3$  \n",
    "the general solution is $(z-1+y^2)e^{y^2}=c$  \n",
    "that is $(1-x^2+x^2y^2)e^{y^2}=cx^2$  \n",
    "**(16)$y=e^x+\\int_0^x{y(t)\\mathrm d t}$**  \n",
    "**answer:**differentate both side,we got$\\frac{\\mathrm d y}{\\mathrm d x}=e^x+y$  \n",
    "since $P(x)=1$,$Q(x)=e^x$,the solution of the equation is  \n",
    "\\begin{align}\n",
    "y&=e^{\\int{P(x)\\mathrm d x}}(\\int{Q(x)}e^{-\\int{P(x)\\mathrm d x}}\\mathrm d x +c)\\\\\n",
    "&=e^x(x+c)\n",
    "\\end{align}\n",
    "**P50**  \n",
    "**7 solve following euqation**  \n",
    "**(3)$y^\\prime\\sin{x}\\cos{x}-y-\\sin^3x=0$**  \n",
    "**answer:**while $\\sin{x}=0$, the solution is $y=0$  \n",
    "while $\\cos{x}=0$  the solution is $y=\\pm 1$  \n",
    "while $\\sin{x}\\neq 0$,$\\cos{x}\\neq 0$,  \n",
    "$\\frac{\\mathrm d y}{\\mathrm d x}=\\frac{1}{\\sin{x}\\cos{x}}y+\\tan{x}\\cos{x}$  \n",
    "since $P(x)=\\frac{1}{\\sin{x}\\cos{x}}$,$Q(x)=\\tan{x}\\cos{x}$,the solution of the equation is  \n",
    "\\begin{align}\n",
    "y&=e^{\\int{P(x)\\mathrm d x}}(\\int{Q(x)}e^{-\\int{P(x)\\mathrm d x}}\\mathrm d x +c)\\\\\n",
    "&=c\\tan{x}-\\sin{x}\n",
    "\\end{align}\n",
    "**P60**  \n",
    "**1 vertificate that following equations are exact ODE and solve them**  \n",
    "**(1)$(x^2+y)\\mathrm d x+(x-2y)\\mathrm d y=0$**  \n",
    "**answer:**because $M=x^2+y$,$N=x-2y$,  \n",
    "$\\frac{\\partial M}{\\partial y}=1=\\frac{\\partial N}{\\partial x}$  \n",
    "so this equation is an exact ODE.\n",
    "\\begin{align}\n",
    "x^2\\mathrm d x-2y\\mathrm d y+(y\\mathrm d x+x\\mathrm d y)&=0\\\\ \n",
    "\\mathrm d (\\frac{x^3}{3})-\\mathrm d (y^2)+\\mathrm d (xy)&=0\\\\\n",
    "\\mathrm d(\\frac{x^3}{3}-y^2+xy)&=0\n",
    "\\end{align}\n",
    "so the solution is $\\frac{x^3}{3}-y^2+xy=c$  \n",
    "**(2)$(y-3x^2)\\mathrm d x-(4y-x)\\mathrm d y=0$**  \n",
    "**answer:**because $M=y-3x^2$,$N=-4y+x$,  \n",
    "$\\frac{\\partial M}{\\partial y}=1=\\frac{\\partial N}{\\partial x}$  \n",
    "so this equation is an exact ODE.\n",
    "\\begin{align}\n",
    "-3x^2\\mathrm d x-4y\\mathrm d y+(y\\mathrm d x+x\\mathrm d y)&=0\\\\ \n",
    "\\mathrm d (-x^3)-\\mathrm d (2y^2)+\\mathrm d (xy)&=0\\\\\n",
    "\\mathrm d(-x^3-2y^2+xy)&=0\n",
    "\\end{align}\n",
    "so the solution is $-x^3-2y^2+xy=c$"
   ]
  },
  {
   "cell_type": "markdown",
   "metadata": {},
   "source": [
    "# <font color='red'>A  19/9   上面几道题的特解问题？"
   ]
  },
  {
   "cell_type": "code",
   "execution_count": null,
   "metadata": {
    "collapsed": true
   },
   "outputs": [],
   "source": []
  }
 ],
 "metadata": {
  "kernelspec": {
   "display_name": "SageMath 7.3",
   "language": "",
   "name": "sagemath"
  },
  "language_info": {
   "codemirror_mode": {
    "name": "ipython",
    "version": 2
   },
   "file_extension": ".py",
   "mimetype": "text/x-python",
   "name": "python",
   "nbconvert_exporter": "python",
   "pygments_lexer": "ipython2",
   "version": "2.7.10"
  }
 },
 "nbformat": 4,
 "nbformat_minor": 0
}
