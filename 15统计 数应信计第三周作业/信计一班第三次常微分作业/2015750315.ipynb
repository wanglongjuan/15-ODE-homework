{
 "cells": [
  {
   "cell_type": "code",
   "execution_count": null,
   "metadata": {
    "collapsed": true
   },
   "outputs": [],
   "source": [
    "                                            计一             唐凯               2015750315"
   ]
  },
  {
   "cell_type": "markdown",
   "metadata": {},
   "source": [
    "1.\n",
    "(1). 先求齐次线性微分方程\n",
    "\n",
    "   $$ \\frac{\\mathrm dy}{\\mathrm dx}-\\frac{n}{x}y = 0 $$   \n",
    "    \n",
    "   的通解， \n",
    "    \n",
    "   $$ \\frac{\\mathrm dy}{y} = \\frac{n}{x}\\mathrm dx$$\n",
    "     \n",
    "   得到齐次线性微分方程的通解\n",
    "    \n",
    "   $$ y = c(x)^n $$ ,\n",
    "     \n",
    "   把上式中的 c 看成是 x 的待定函数 c(x),即\n",
    "    \n",
    "   $$ y = c(x)x^n $$\n",
    "     \n",
    "   微分之，得到 \n",
    "    \n",
    "   $$  \\frac{\\mathrm dy}{\\mathrm dx} = \\frac{\\mathrm dc(x)}{\\mathrm dx}(x)^n + n(x)^{n-1} c(x) $$\n",
    "     \n",
    "   综合上述式子可得，\n",
    "    \n",
    "   $$ \\frac{\\mathrm dc(x)}{\\mathrm dx} = e^x $$\n",
    "     \n",
    "   积分可得，\n",
    "    \n",
    "   $$ c(x) = e^x + c` $$\n",
    "     \n",
    "   因此，将求的c(x)代入 $ y = c(x)x^n $ ，即得原方程的通解 \n",
    "    \n",
    "   $$ y = x^n(e^x + c`) $$"
   ]
  },
  {
   "cell_type": "markdown",
   "metadata": {},
   "source": [
    "(2).方程 $ \\frac{\\mathrm dy}{\\mathrm dx} = \\frac{2x-y^2}{y} = \\frac{1}{xy+(xy)^3}$ 可改写为\n",
    "\n",
    "   $$ \\frac{\\mathrm dx}{\\mathrm dy} = xy+(xy)^3 $$\n",
    "   \n",
    "   这是一个 n = 3 的伯努利方程。即\n",
    "\n",
    "   $$ \\frac{1}{x^3}\\frac{\\mathrm dx}{\\mathrm dy}  = yx^{-2}+y^2 $$\n",
    "   \n",
    "   令 $ z = x^{-2} $  得到，\n",
    "\n",
    "   $$ \\frac{\\mathrm dz}{\\mathrm dy} =-2x^{-3}\\frac{\\mathrm dx}{\\mathrm dy} $$\n",
    "\n",
    "   即得到， \n",
    "   \n",
    "   $$ \\frac{\\mathrm dz}{\\mathrm dy } = -2yz-2y^3 $$ \n",
    "   \n",
    "   令  $$ P(x)=-2y $$\n",
    "     \n",
    "   $$ Q(x)=-2y^3 $$\n",
    "  \n",
    "   由一阶线性方程的求解公式得到，\n",
    "   \n",
    "   $$ z = e^{\\int(-2y\\mathrm dy)}(\\int(-2y^3e^{-\\int(-2y\\mathrm dy)}\\mathrm dy) + c) = e^{-y^2}(-\\int2y^3e^{y^2}\\mathrm dy + c) = \n",
    "    -y^2 + 1 + ce^{-y^2}$$\n",
    "   \n",
    "   则 ，\n",
    "   \n",
    "   $$ x^2(-y^2+ 1 + ce^{-y^2}) = 1  $$\n",
    "  \n",
    "   $$ x^2e^{y^2}(-y^2 + 1 + ce^{-y^2}) = e^{y^2} $$\n",
    "   \n",
    "   $$ e^{y^2}(1-x^2 + x^2y^2) = cx^2 $$\n",
    "     "
   ]
  },
  {
   "cell_type": "markdown",
   "metadata": {},
   "source": [
    "(3).因为$$\\int_0^x{y(t)\\mathrm dt} = y(x)$$\n",
    "\n",
    "   所以原式为 $ y = e^x + y(x) $,则 \n",
    "   \n",
    "  $$ \\frac{\\mathrm dy}{\\mathrm dx} = y + e^x $$ \n",
    "       \n",
    "   令 $$P(x) = 1 $$\n",
    "   \n",
    "  $$Q(x) = e^x $$\n",
    "     \n",
    "   由一阶线性方程的求解公式得，\n",
    "   \n",
    "  $$ y = e^{\\int 1 \\mathrm dx }(\\int e^xe^{-\\int 1 \\mathrm dx}\\mathrm dx+c) = e^x(\\int e^xe^{-x}\\mathrm dx + c) = e^x(x + c) $$\n",
    "   \n",
    "  $$ e^x(x + c) = e^x + \\int_0^xe^x(x + c)\\mathrm dx $$\n",
    "  c = 1,\n",
    "  \n",
    "  即得到方程的通解为，\n",
    "  \n",
    "  $$ y = e^x(x + c) $$"
   ]
  },
  {
   "cell_type": "markdown",
   "metadata": {},
   "source": [
    "2.\n",
    "  原式可以化为，$\\frac{\\mathrm dy}{\\mathrm dx} = \\frac{y}{\\sin x \\cos x} + \\frac{\\sin^2 x}{\\cos x} $\n",
    "  \n",
    "  令$$ P(x) = \\frac{1}{\\sin x\\cos x} $$\n",
    "  \n",
    "   $$ Q(x) = \\frac{\\sin^2 x}{\\cos x} $$\n",
    "  \n",
    "  由一阶线性方程的求解公式可以得通解，\n",
    "  \n",
    "   $$ y = e^{\\int\\frac{1}{\\sin x\\cos x}\\mathrm dx}((\\int\\frac{\\sin^2 x}{\\cos x}e^{-\\int\\frac{1}{\\sin x\\cos x}\\mathrm dx})\\mathrm dx+c) = \n",
    "    \\frac{\\sin x}{\\cos x}(\\int\\sin x \\mathrm dx + c) = \\frac{\\sin x}{\\cos x}(-\\cos x + c) = \\tan x c - \\sin x$$"
   ]
  },
  {
   "cell_type": "markdown",
   "metadata": {},
   "source": [
    "# <font color='red'>特解？？"
   ]
  },
  {
   "cell_type": "markdown",
   "metadata": {
    "collapsed": true
   },
   "source": [
    "3.\n",
    "(1) 令$$ M = x^2 + y $$\n",
    "\n",
    "   $$ N = x - 2y $$,\n",
    "    \n",
    "   则有，$$ \\frac{\\partial M}{\\partial y} = 1 $$\n",
    "    \n",
    "   $$ \\frac{\\partial N}{\\partial x} = 1 $$\n",
    "     \n",
    "   因此方程为恰当微分方程。\n",
    "    \n",
    "   求 u ，使得它同时满足下面两个方程。\n",
    "    \n",
    "   $$ \\frac{\\partial u}{\\partial x} = x^2 + y   (1)$$\n",
    "    \n",
    "   $$ \\frac{\\partial u}{\\partial y} = x - 2y    (2)$$\n",
    "   \n",
    "   由(1)对x积分，得到\n",
    "    \n",
    "   $$ u = \\frac{1}{3}x^3 + xy + f(y) (3)$$\n",
    "     \n",
    "   为了确定 f(y),将（3）对y求导数，并使它满足(2)，即得到\n",
    "    \n",
    "   $$ \\frac{\\partial u}{\\partial y} = x + \\frac{\\mathrm df(y)}{\\mathrm dy}= x - 2y $$\n",
    "      \n",
    "   得到, \n",
    "   \n",
    "   $$ \\frac{\\mathrm df(y)}{\\mathrm dy} = -2y $$\n",
    "       \n",
    "   积分后得到，\n",
    "    \n",
    "   $$ f(y) = -y^2 $$\n",
    "     \n",
    "   将 $ f(y) = -y^2 $ 代入 (3),得到 \n",
    "    \n",
    "   $$ u = \\frac{1}{3}x^3 + xy - y^2 $$\n",
    "    \n",
    "   因此方程的通解为，\n",
    "    \n",
    "   $$ \\frac{1}{3}x^3 + xy - y^2 = c $$ \n",
    "      \n",
    "   c 为任意常数。"
   ]
  },
  {
   "cell_type": "markdown",
   "metadata": {},
   "source": [
    "(2).原方程可化为，\n",
    "      \n",
    "  $$ (y - 3x^2)\\mathrm dx + (x - 4y)\\mathrm dy $$\n",
    "       \n",
    "   则令，\n",
    "  $$ M = y - 3x^2 $$\n",
    "       \n",
    "  $$ N = x - 4y $$\n",
    "   有，  \n",
    "  $$ \\frac{\\partial M}{\\partial y} = 1 $$\n",
    "       \n",
    "  $$ \\frac{\\partial N}{\\partial x} = 1 $$\n",
    "      \n",
    "   因此方程为恰当微分方程。\n",
    "   \n",
    "   求 u ，使得它同时满足下面两个方程。\n",
    "   \n",
    "  $$ \\frac{\\partial u}{\\partial x} = y - 3x^2    (1)$$\n",
    "       \n",
    "  $$ \\frac{\\partial u}{\\partial y} = x - 4y     (2)$$\n",
    "     \n",
    "   由(1)对 x 积分，得到\n",
    "   \n",
    "  $$ u = xy -x^3 + f(y)   (3)$$\n",
    "       \n",
    "   为了确定  f(y) ,将 (3)对 y 求导数，并使它满足 (2)，即得到，\n",
    "   \n",
    "  $$ \\frac{\\partial u}{\\partial y} = x + \\frac{\\mathrm df(y)}{\\mathrm dy} = x- 4y $$ \n",
    "    \n",
    "   得到，\n",
    "   \n",
    "  $$ \\frac{\\mathrm df(y)}{\\mathrm dy} = -4y $$\n",
    "       \n",
    "   积分后得到，\n",
    " \n",
    "  $$ f(y) = -2y^2 $$\n",
    "       \n",
    "   将 $ f(y) = -2y^2 $ 代入，(3) ，得到\n",
    "   \n",
    "  $$ u = xy - x^3 -2y^2 $$\n",
    "       \n",
    "   因此方程的通解为，\n",
    "   \n",
    "  $$ xy - x^3 - 2y^2 = c $$\n",
    "       \n",
    "   c为任意常数。"
   ]
  },
  {
   "cell_type": "markdown",
   "metadata": {
    "collapsed": true
   },
   "source": [
    "# <font color='red'>A  19/9"
   ]
  },
  {
   "cell_type": "code",
   "execution_count": null,
   "metadata": {
    "collapsed": true
   },
   "outputs": [],
   "source": []
  }
 ],
 "metadata": {
  "kernelspec": {
   "display_name": "SageMath 7.3",
   "language": "",
   "name": "sagemath"
  },
  "language_info": {
   "codemirror_mode": {
    "name": "ipython",
    "version": 2
   },
   "file_extension": ".py",
   "mimetype": "text/x-python",
   "name": "python",
   "nbconvert_exporter": "python",
   "pygments_lexer": "ipython2",
   "version": "2.7.10"
  }
 },
 "nbformat": 4,
 "nbformat_minor": 0
}
