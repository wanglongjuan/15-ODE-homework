{
 "cells": [
  {
   "cell_type": "markdown",
   "metadata": {},
   "source": [
    "                                          第二次作业\n",
    "\n",
    "P48\n",
    "1.求下列方程的解：\n",
    "（4）$\\frac{\\mathrm dy}{\\mathrm dx}-\\frac{n}{x}y=e^xx^n$(n为常数）\n"
   ]
  },
  {
   "cell_type": "markdown",
   "metadata": {},
   "source": [
    "解：  \n",
    "$\\frac{\\mathrm dy}{\\mathrm dx}=\\frac{n}{x}y+e^xx^n$\n",
    "    "
   ]
  },
  {
   "cell_type": "markdown",
   "metadata": {},
   "source": [
    "\n",
    "$y=e^{\\int\\frac{n}{x}{\\mathrm dx}}\\int e^xx^n\\frac{1}{e^{\\int\\frac{n}{x}{\\mathrm dx}}}{\\mathrm dx}+c$\n",
    "\n"
   ]
  },
  {
   "cell_type": "markdown",
   "metadata": {
    "collapsed": false
   },
   "source": [
    "$ y=e^{nlnx}\\int\\frac{e^xx^n}{e^{nlnx}}{\\mathrm dx}+c$\n",
    "\n",
    "$y=x^ne^x+c$\n"
   ]
  },
  {
   "cell_type": "markdown",
   "metadata": {},
   "source": [
    "所以解为$y=x^ne^x+c$"
   ]
  },
  {
   "cell_type": "markdown",
   "metadata": {},
   "source": [
    "(15)$\\frac{\\mathrm dy}{\\mathrm dx}=\\frac{1}{xy+x^3y^3}$"
   ]
  },
  {
   "cell_type": "markdown",
   "metadata": {},
   "source": [
    "解：将方程改为$\\frac{\\mathrm dx}{\\mathrm dy}=xy+x^3y^3$"
   ]
  },
  {
   "cell_type": "markdown",
   "metadata": {
    "collapsed": true
   },
   "source": [
    "对于x不等于0，等式两边同乘以$\\frac{1}{x^3}$得"
   ]
  },
  {
   "cell_type": "markdown",
   "metadata": {},
   "source": [
    "$\\frac{1}{x^3}\\frac{\\mathrm dx}{\\mathrm dy}$=$\\frac{1}{x^3}(xy+x^3y^3)$  (1)"
   ]
  },
  {
   "cell_type": "markdown",
   "metadata": {},
   "source": [
    "引入变量$z=\\frac{1}{x^2}$  (2)"
   ]
  },
  {
   "cell_type": "markdown",
   "metadata": {},
   "source": [
    "从而$\\frac{\\mathrm dz}{\\mathrm dy}=-2\\frac{1}{x^3}\\frac{\\mathrm dx}{\\mathrm dy}$  (3)"
   ]
  },
  {
   "cell_type": "markdown",
   "metadata": {},
   "source": [
    "将（2）（3）代入（1） 得 $\\frac{\\mathrm dz}{\\mathrm dy}$=$-2yz-2y^3$"
   ]
  },
  {
   "cell_type": "markdown",
   "metadata": {},
   "source": [
    "$z=e^{\\int-2y{\\mathrm dy}}(\\int {(-2y^3)\\frac{1}{e^{\\int-2y\\mathrm dy} }{\\mathrm dy}}+ C)$\n"
   ]
  },
  {
   "cell_type": "markdown",
   "metadata": {
    "collapsed": false
   },
   "source": [
    "$z=\\frac{1}{e^{y^2}}(\\int {(-2y^3)}{e^{y^2}}+ C)$"
   ]
  },
  {
   "cell_type": "code",
   "execution_count": 4,
   "metadata": {
    "collapsed": false
   },
   "outputs": [
    {
     "data": {
      "text/html": [
       "<html><script type=\"math/tex; mode=display\">\\newcommand{\\Bold}[1]{\\mathbf{#1}}-{\\left({\\left(y^{2} - 1\\right)} e^{\\left(y^{2}\\right)} - c\\right)} e^{\\left(-y^{2}\\right)}</script></html>"
      ],
      "text/plain": [
       "-((y^2 - 1)*e^(y^2) - c)*e^(-y^2)"
      ]
     },
     "metadata": {},
     "output_type": "display_data"
    }
   ],
   "source": [
    "var('y c')\n",
    "f=-2*(y^3)*e^(y^2)\n",
    "g=integral(f,y)\n",
    "s=1/(e^(y^2))*(g+c)\n",
    "show(s)"
   ]
  },
  {
   "cell_type": "markdown",
   "metadata": {},
   "source": [
    "即$-y^2+1+ce^{-y^2}$\n",
    "\n",
    "所以解为$\\frac{1}{x^2}=-y^2+1+c^{-y^2}$"
   ]
  },
  {
   "cell_type": "markdown",
   "metadata": {
    "collapsed": true
   },
   "source": [
    "(16)$y=e^x+\\int\\limits_ 0^x y(t){\\mathrm dt}$"
   ]
  },
  {
   "cell_type": "markdown",
   "metadata": {
    "collapsed": true
   },
   "source": [
    "解:$\\frac{\\mathrm dy}{\\mathrm dx}=e^x+y$"
   ]
  },
  {
   "cell_type": "markdown",
   "metadata": {},
   "source": [
    "$P(x)=1$  $Q(x)=e^x$"
   ]
  },
  {
   "cell_type": "markdown",
   "metadata": {},
   "source": [
    "代入公式$y=e^\\int P(x){\\mathrm dx}(\\int Q(x)e^-\\int P(x){\\mathrm dx}){\\mathrm dx}$得\n",
    "\n",
    "$y=xe^x+c$"
   ]
  },
  {
   "cell_type": "markdown",
   "metadata": {},
   "source": [
    "# <font color='red'>特解？？"
   ]
  },
  {
   "cell_type": "markdown",
   "metadata": {},
   "source": [
    "P50 7.求解下列方程\n",
    "\n",
    "（3）$y'sinxcosx-y-(sinx)^3=0$"
   ]
  },
  {
   "cell_type": "markdown",
   "metadata": {},
   "source": [
    "$\\frac{\\mathrm dy}{\\mathrm dx}=\\frac{y+(sinx)^3}{sinxcosx}=\\frac{y}{sinxcosx}+\\frac{(sinx)^3}{sinxcosx}$\n"
   ]
  },
  {
   "cell_type": "markdown",
   "metadata": {},
   "source": [
    "$P(x)=\\frac{1}{sinxcosx}$     \n",
    "$Q(x)=\\frac{(sinx)^2}{cosx}$"
   ]
  },
  {
   "cell_type": "markdown",
   "metadata": {},
   "source": [
    "代入公式$y=e^\\int P(x){\\mathrm dx}(\\int Q(x)e^-\\int P(x){\\mathrm dx}){\\mathrm dx}$得"
   ]
  },
  {
   "cell_type": "markdown",
   "metadata": {},
   "source": [
    "$y=ctanx-sinx$"
   ]
  },
  {
   "cell_type": "markdown",
   "metadata": {},
   "source": [
    "# <font color='red'>特解？？"
   ]
  },
  {
   "cell_type": "markdown",
   "metadata": {},
   "source": [
    "P60  1.验证下列方程是恰当微分方程，并求出方程的解。\n",
    "\n",
    "  （1）$(x^2+y){\\mathrm dx}+(x-2y){\\mathrm dy}=0$\n",
    "  "
   ]
  },
  {
   "cell_type": "markdown",
   "metadata": {},
   "source": [
    "解：(1) $M=x^2+y$ , $N=x-2y$"
   ]
  },
  {
   "cell_type": "markdown",
   "metadata": {
    "collapsed": true
   },
   "source": [
    "$\\frac{\\partial M}{\\partial y}=\\frac{\\partial N}{\\partial x}=1$\n",
    "\n",
    "所以此方程是恰当微分方程\n",
    "\n",
    "\n",
    "$\\frac{\\partial u}{\\partial x}=x^2+y$ （1）\n",
    "\n",
    "$\\frac{\\partial u}{\\partial y}=x-2y$  （2）\n",
    "\n",
    "（1）式对x积分得$u=\\frac{1}{3}x^3+xy+\\varphi(y)$"
   ]
  },
  {
   "cell_type": "markdown",
   "metadata": {},
   "source": [
    "$\\frac{\\partial u}{\\partial y}=x+\\frac{\\mathrm d\\varphi(y)}{\\mathrm dy}=x-2y$"
   ]
  },
  {
   "cell_type": "markdown",
   "metadata": {},
   "source": [
    "所以$\\varphi(y)=-y^2$"
   ]
  },
  {
   "cell_type": "markdown",
   "metadata": {},
   "source": [
    "所以$u=\\frac{1}{3}x^3+xy-y^2$\n",
    "\n",
    "因此方程的解为$\\frac{1}{3}x^3+xy-y^2=c$"
   ]
  },
  {
   "cell_type": "markdown",
   "metadata": {},
   "source": [
    " (2)$(y-3x^2){\\mathrm dx}-(4y-x){\\mathrm dy}=0$\n",
    " "
   ]
  },
  {
   "cell_type": "markdown",
   "metadata": {},
   "source": [
    "解：$M=y-3x^2$,$N=x-4y$"
   ]
  },
  {
   "cell_type": "markdown",
   "metadata": {},
   "source": [
    "$\\frac{\\partial M}{\\partial y}=\\frac{\\partial N}{\\partial x}=1$\n"
   ]
  },
  {
   "cell_type": "markdown",
   "metadata": {},
   "source": [
    "所以此方程是恰当微分方程\n",
    "\n",
    "$\\frac{\\partial u}{\\partial x}=y-3x^2$ （1）\n",
    "\n",
    "$\\frac{\\partial u}{\\partial y}=x-4y$  （2）"
   ]
  },
  {
   "cell_type": "markdown",
   "metadata": {},
   "source": [
    "(1)式对x积分得$u=xy-x^3+\\varphi(y)$"
   ]
  },
  {
   "cell_type": "markdown",
   "metadata": {},
   "source": [
    "$\\frac{\\partial u}{\\partial y}=x+\\frac{\\mathrm d \\varphi(y)}{\\mathrm dy}=x-4y$  "
   ]
  },
  {
   "cell_type": "markdown",
   "metadata": {},
   "source": [
    "所以$\\varphi(y）=-2y^2$"
   ]
  },
  {
   "cell_type": "markdown",
   "metadata": {},
   "source": [
    "所以$u=xy-x^3-2y^2$"
   ]
  },
  {
   "cell_type": "markdown",
   "metadata": {},
   "source": [
    "因此方程的解为$xy-x^3-2y^2=c$"
   ]
  },
  {
   "cell_type": "markdown",
   "metadata": {
    "collapsed": true
   },
   "source": [
    "验证题：\n",
    "\n",
    "对$\\int_{a(x)}^{b(x)} f(x)\\mathrm d x$ 求导\n",
    "\n",
    "假设原函数为$F(x)$,即$F'(x)=f(x)$\n",
    "\n",
    "所以$y=\\int_{a(x)}^{b(x)} f(x)\\mathrm d x=F(b(x))-F(a(x))$\n",
    "\n",
    "两边求导$y'=F'(b(x))b'(x)-F'(a(x))a'(x)$"
   ]
  },
  {
   "cell_type": "markdown",
   "metadata": {
    "collapsed": true
   },
   "source": [
    "# <font color='red'>A  19/9"
   ]
  },
  {
   "cell_type": "code",
   "execution_count": null,
   "metadata": {
    "collapsed": true
   },
   "outputs": [],
   "source": []
  }
 ],
 "metadata": {
  "kernelspec": {
   "display_name": "SageMath 7.3",
   "language": "",
   "name": "sagemath"
  },
  "language_info": {
   "codemirror_mode": {
    "name": "ipython",
    "version": 2
   },
   "file_extension": ".py",
   "mimetype": "text/x-python",
   "name": "python",
   "nbconvert_exporter": "python",
   "pygments_lexer": "ipython2",
   "version": "2.7.10"
  }
 },
 "nbformat": 4,
 "nbformat_minor": 0
}
