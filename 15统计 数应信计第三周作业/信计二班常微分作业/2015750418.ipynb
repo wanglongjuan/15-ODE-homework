{
 "cells": [
  {
   "cell_type": "markdown",
   "metadata": {
    "collapsed": true
   },
   "source": [
    "变上限求导\n",
    "\n",
    "$\\int^x_{x_0}{P(t)}{dt}$\n",
    "\n",
    "$P(x+△x)-P(x)=\\int^{x+△x}_{x_0}{p(t)}{dt}-\\int^x_{x_0}{p(t)}{dt}=\\int^{x+△x}_x{p(t)}{dt}$\n",
    "\n",
    "记m，M分别是p（x）在[a,b]上的上下确界，由定积分第一中值定理，可得\n",
    "\n",
    "$P(x+△x)-P(x)=\n",
    "\\begin{cases}\n",
    "η*△x......（η∈[m,M]）......若p（x）在[a,b]上可积\\\\\n",
    "p(ζ)*△x ......(ζ在x与x+△x之间)......若p（x）在[a,b]上连续。\n",
    "\\end{cases}$\n",
    "\n",
    "显然，不管在哪一种情况下，当△x→0时都有P(x+△x)-P(x)→0,即P(x）在[a,b]上连续。\n",
    "\n",
    "则，当△x→0时有ζ→x，因而p(ζ)→p(x),于是\n",
    "\n",
    "$P'(x)=\\lim_{△x→0}{\\frac{P(x+△x)-P(x)}{△x}}=\\lim_{△x→0}{p(ζ)}=p(x)$"
   ]
  },
  {
   "cell_type": "markdown",
   "metadata": {},
   "source": [
    "书P49\n",
    "\n",
    "1.（4）\n",
    "\n",
    "$\\frac{dy}{dx}-\\frac{n}{x}y=e^xx^n$\n",
    "\n",
    "则$P(x)=\\frac{n}{x},Q(x)=e^x*x^n$\n",
    "\n",
    "带入公式得$y=c e^{\\int p(x)\\,\\mathrm{d}x}+e^{\\int p(x)\\,\\mathrm{d}x}\\int{Q(x)} e^{-\\int p(x)\\,\\mathrm{d}x}\\mathrm{d}x$\n",
    "\n",
    "\n",
    "$y=c e^{\\int \\frac{n}{x}\\,dx}+e^{\\int \\frac{n}{x}\\,dx}\\int{e^x*x^n} e^{-\\int \\frac{n}{x}\\,dx}dx\n",
    "=x^n(\\int{e^x*x^n*x^{-n}}{dx}+c)\n",
    "=(e^x+c)*x^n$\n",
    "\n",
    "其中，c为任意常数"
   ]
  },
  {
   "cell_type": "markdown",
   "metadata": {},
   "source": [
    "1.（15）$\\frac{dy}{dx}=\\frac{1}{xy+x^3y^3}$\n",
    "\n",
    "将x看作y的函数,则该方程是一个伯努利方程：\n",
    "\n",
    "$\\frac{dx}{dy}=yx+y^3x^3$\n",
    "\n",
    "两边同时乘x^{-3}得\n",
    "\n",
    "$x^{-3}\\frac{dx}{dy}=x^{-2}y+y^3$\n",
    "\n",
    "且引入变量$z=x^{-2}$\n",
    "\n",
    "则$\\frac{dz}{dy}=-2yz-2y^3$\n",
    "\n",
    "进一步可得\n",
    "\n",
    "$z=ce^{-y^2}-y^2+1$\n",
    "\n",
    "即：$\\frac{1}{x^2}=ce^{-y^2}-y^2+1$"
   ]
  },
  {
   "cell_type": "markdown",
   "metadata": {},
   "source": [
    "1（16）\n",
    "\n",
    "$y=e^x+\\int^x_0{y(t)}{dt}$\n",
    "\n",
    "对方程两端关于x求导可得\n",
    "\n",
    "$\\frac{dy}{dx}=e^x+y$\n",
    "\n",
    "这是一阶线性微分方程，由公式得\n",
    "\n",
    "$y=(\\int{e^xe^{-x}}{dx}+c)*e^x=e^x(x+c)$\n",
    "\n",
    "又因为，x=0时，y=1，则c=1.\n",
    "\n",
    "所以，原方程的解为$y=e^x(x+1)$"
   ]
  },
  {
   "cell_type": "markdown",
   "metadata": {},
   "source": [
    "7(3)\n",
    "\n",
    "将此方程变形可得\n",
    "\n",
    "$\\frac{dy}{dx}=\\frac{y}{\\sin{x}\\cos{x}}+\\sin^2{x}......(\\sin{x}\\neq0,\\cos{x}\\neq0)$\n",
    "\n",
    "由书上公式得其通解为：\n",
    "\n",
    "$y=e^{\\int{\\frac{1}{\\sin{x}\\cos{x}}}{dx}}(\\int{\\frac{\\sin^2{x}}{\\cos{x}}e^{-\\int{\\frac{1}{\\sin{x}\\cos{x}}}{dx}}}{dx}+c)$\n",
    "\n",
    "即：$y=\\tan{x}（-\\cos{x}+c）$\n",
    "\n",
    "即：$y=c\\tan{x}-\\sin{x}$\n",
    "\n",
    "当$\\sin{x}=0$时，原方程为$y=0$\n",
    "\n",
    "当$\\tan{x}=0$时，原方程为$y=-\\sin^3{x}=±1$，即曲线退化为点$（2k\\pi+\\frac{\\pi}{2},-1），（2k\\pi-\\frac{\\pi}{2},1）$，其中k为自然数\n",
    "\n",
    "综上，原方程的解为$y=c\\tan{x}-\\sin{x}(x\\neq\\pi±\\frac{\\pi}{2})$\n",
    "\n",
    "或者 点$-(k\\pi+\\frac{\\pi}{2},c-1^{k+1})$,其中k为自然数"
   ]
  },
  {
   "cell_type": "markdown",
   "metadata": {},
   "source": [
    "书P60\n",
    "\n",
    "1（1）\n",
    "\n",
    "$(x^2+y)dx+(x-2y)dy=0$\n",
    "\n",
    "则$M=x^2+y,N=x-2y$\n",
    "\n",
    "$\\frac{\\partial{M}}{\\partial{y}}=\\frac{\\partial{N}}{\\partial{x}}=1$\n",
    "\n",
    "所以该方程是恰当微分方程\n",
    "\n",
    "设其解为z，则：\n",
    "\n",
    "$\\frac{\\partial{z}}{\\partial{x}}=x^2+y,\\frac{\\partial{z}}{\\partial{y}}=x-2y$\n",
    "\n",
    "对第一个式子积分：$z=\\frac{1}{3}x^3+xy+f(y)$\n",
    "\n",
    "再对上式对y求导：$\\frac{\\partial{z}}{\\partial{y}}=x+f'(y)$\n",
    "\n",
    "可得：$f'(y)=-2y$\n",
    "\n",
    "$f(y)=-y^2$\n",
    "\n",
    "$z=\\frac{1}{3}x^3+xy-y^2$\n",
    "\n",
    "原方程通解为：$x^3+3xy-3y^2=c(c为任意常数)$"
   ]
  },
  {
   "cell_type": "markdown",
   "metadata": {},
   "source": [
    "1（2）\n",
    "\n",
    "$(y-3x^3)dx+(4y-x)dy=0$\n",
    "\n",
    "所以$M=y-3x^2,N=x-4y$\n",
    "\n",
    "$\\frac{\\partial{M}}{\\partial{y}}=\\frac{\\partial{N}}{\\partial{x}}=1$\n",
    "\n",
    "所以该方程是恰当微分方程\n",
    "\n",
    "设其解为z，与（1）同理，可得：\n",
    "\n",
    "$z=xy-x^3-2y^2$\n",
    "\n",
    "原方程通解为：$xy-x^3-2y^2=c(c为任意常数)$"
   ]
  },
  {
   "cell_type": "markdown",
   "metadata": {
    "collapsed": true
   },
   "source": [
    "# <font color='red'>A+  19/9 "
   ]
  },
  {
   "cell_type": "code",
   "execution_count": null,
   "metadata": {
    "collapsed": true
   },
   "outputs": [],
   "source": []
  }
 ],
 "metadata": {
  "kernelspec": {
   "display_name": "SageMath 7.3",
   "language": "",
   "name": "sagemath"
  },
  "language_info": {
   "codemirror_mode": {
    "name": "ipython",
    "version": 2
   },
   "file_extension": ".py",
   "mimetype": "text/x-python",
   "name": "python",
   "nbconvert_exporter": "python",
   "pygments_lexer": "ipython2",
   "version": "2.7.10"
  }
 },
 "nbformat": 4,
 "nbformat_minor": 0
}
