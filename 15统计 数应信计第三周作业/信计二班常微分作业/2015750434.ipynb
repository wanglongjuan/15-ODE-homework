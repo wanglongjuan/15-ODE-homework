{
 "cells": [
  {
   "cell_type": "markdown",
   "metadata": {},
   "source": [
    "1、求下列方程的解：\n",
    "\n",
    "（4）$\\frac{dy}{dx}-\\frac{n}{x}y=e^xx^n$（n为常数）；\n",
    "\n",
    "（15）$\\frac{dy}{dx}=\\frac{1}{xy+x^3y^3}$;\n",
    "\n",
    "（16）$y=e^x+\\int_0^x y(t) {\\rm d}t$."
   ]
  },
  {
   "cell_type": "markdown",
   "metadata": {},
   "source": [
    "解：\n",
    "（4）由公式$y=e^\\int P(x)dx(\\int Q(x)e^-\\int P(x){\\rm d}x+c$,\n",
    "\n",
    "原方程可化为 $\\frac{dy}{dx}=\\frac{x}{n}y+e^xx^n$\n",
    "\n",
    "$y=e^{\\int_x^n {\\rm d}x}(\\int e^xx^ne^{-\\int_x^n {\\rm d}x}+c) \\\\=x^n(e^x+c) 是原方程的解$\n",
    "\n",
    "（15）令$u=y^2$\n",
    "\n",
    "则原方程变为$\\frac{du}{dx}=\\frac{2}{x+x^3u}$\n",
    "\n",
    "所以$\\frac{dx}{du}=\\frac{x}{2}+\\frac{u}{2}x^3$\n",
    "\n",
    "这是$n=3$时的伯努利方程，$令z=x^-2$,\n",
    "\n",
    "所以，$\\frac{dz}{du}=-2\\times{x^-3}\\times\\frac{dx}{du}=-z-u$\n",
    "   \n",
    "由一阶线性方程的求解公式,可得通解\n",
    "  \n",
    "  $z=e^{\\int-1du}(\\int(-u)e^{\\int1du}du+c)$\n",
    "  \n",
    "  即$z=ce^{-u}-u+1$.\n",
    "  \n",
    "  $x^2(ce^{-y^2}-y^2+1)=1$就是原方程的通解。\n",
    "  \n",
    "  \n",
    " （16）对方程$y=e^x+\\int_0^x y(t) {\\rm d}t两端求导，\n",
    "  \\frac{dy}{dx}=e^x+y(x)$\n",
    " \n",
    " $ 由一阶线性方程的求解公式可得通解为y=e^x(x+c)$,\n",
    "  \n",
    "  当$x=0$时，由原方程可得y=1,\n",
    "  \n",
    "  所以$c=1$\n",
    "  \n",
    "  因此，原方程的解为$y=x^x(x+1)$.\n",
    " "
   ]
  },
  {
   "cell_type": "markdown",
   "metadata": {},
   "source": [
    "7、求解下列方程：\n",
    "\n",
    "（3）$y'sinx·cosx-y-sin^3x=0$"
   ]
  },
  {
   "cell_type": "markdown",
   "metadata": {},
   "source": [
    "解：此方程可以变形为$\\frac{dy}{dx}=\\frac{y}{sinxcocx}+\\frac{sin^2x}{cosx}$\n",
    "\n",
    " 由一阶线性方程的求解公式\n",
    " \n",
    "$y=e^{\\int \\frac{1}{sinxcosx}dx}(\\int \\frac{sin^2x}{cosx}e^{-\\int \\frac{1}{sinxcosx}dx}dx+c) \\\\=\\frac{sinx}{cosx}(\\int sinxdx+c) \\\\=\\frac{sinx}{cosx}(cosx+c) \\\\=sinx+ctanx$\n",
    "\n",
    "当$sinx=0时，y=0$\n",
    "\n",
    "当$cosx=0$时，y=1或-1\n",
    "\n",
    "所以，原方程的解为$y=ctanx-sinx,(x\\neq{k\\pi}\\pm\\frac{\\pi}{2})或者点(2k\\pi+\\frac{\\pi}{2},-1),(2k\\pi-\\frac{\\pi}{2},1),k=0,\\pm1,\\pm2\\cdots$\n",
    "\n"
   ]
  },
  {
   "cell_type": "markdown",
   "metadata": {},
   "source": [
    "1、验证下列方程是恰当方程，并求出方程的解：\n",
    "\n",
    "（1）$(x^2+y)dx+(x-2y)dy=0$;\n",
    "\n",
    "（2）$(y-3x^2)dx-(4y-x)dy=0$;"
   ]
  },
  {
   "cell_type": "markdown",
   "metadata": {},
   "source": [
    "解：（1）$M=x^2+y,N=x-2y$,\n",
    "\n",
    "$\\frac{\\partial M}{\\partial y}=1 \\ ,\\  \\frac{\\partial N}{\\partial x}=1 \\\\ 则\\ \\ \\ \\frac{\\partial M}{\\partial y}=\\frac{\\partial N}{\\partial x} \\\\ 所以此方程是恰当方程. \\\\ 凑微分，\\ \\ \\ x^2dx-2ydy+(ydx+xdy)=0 \\\\ 得通解：\\ \\ \\ \\frac{1}{3}x^3+xy-y^2=C$\n",
    "\n",
    "（2）$M=y-3x^2,N=x-4y$\n",
    "\n",
    "$ \\ \\ \\frac{\\partial M}{\\partial y}=1 \\ , \\ \\frac{\\partial N}{\\partial x}=1 \\\\ \\\\ 则\\ \\ \\frac{\\partial M}{\\partial y}=\\frac{\\partial N}{\\partial x} \\\\ 所以此方程为恰当方程 \\\\凑微分，\\ \\ \\ ydx+xdy-3x^2dx-4ydy=0 \\\\ 得通解：\\ \\ \\ x^3-xy+2y^2=C$"
   ]
  },
  {
   "cell_type": "markdown",
   "metadata": {},
   "source": [
    "4、变上限求导$\\int_{x_0}^x p(t) {\\rm d}t$"
   ]
  },
  {
   "cell_type": "markdown",
   "metadata": {},
   "source": [
    "解：因为$\\int_{x_0}^x p(t) {\\rm d}t=\\int_0^x p(t) {\\rm d}t-\\int_0^{x_0} p(t) {\\rm d}t \\\\ 其中 \\ \\int_0^{x_0} p(t) {\\rm d}t  为常数，\n",
    "对 \\ \\int_0^x p(t) {\\rm d}t,变上限求导可得 \n",
    "(\\int_0^x p(t) {\\rm d}t)'=p(x),  \n",
    "所以 \\ \\ \\int_{x_0}^x p(t) {\\rm d}t=p(x)$"
   ]
  },
  {
   "cell_type": "markdown",
   "metadata": {
    "collapsed": true
   },
   "source": [
    "# <font color='red'>A  19/9 "
   ]
  },
  {
   "cell_type": "code",
   "execution_count": null,
   "metadata": {
    "collapsed": true
   },
   "outputs": [],
   "source": []
  }
 ],
 "metadata": {
  "kernelspec": {
   "display_name": "SageMath 7.3",
   "language": "",
   "name": "sagemath"
  },
  "language_info": {
   "codemirror_mode": {
    "name": "ipython",
    "version": 2
   },
   "file_extension": ".py",
   "mimetype": "text/x-python",
   "name": "python",
   "nbconvert_exporter": "python",
   "pygments_lexer": "ipython2",
   "version": "2.7.10"
  }
 },
 "nbformat": 4,
 "nbformat_minor": 0
}
