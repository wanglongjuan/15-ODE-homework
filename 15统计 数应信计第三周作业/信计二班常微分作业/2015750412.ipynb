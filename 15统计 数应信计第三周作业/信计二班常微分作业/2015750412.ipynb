{
 "cells": [
  {
   "cell_type": "markdown",
   "metadata": {},
   "source": [
    "$1.(4）$\n",
    "\n",
    "$\\frac{dy}{dx}=e^xx^n+\\frac{n}{x}y$\n",
    "\n",
    "$令\\frac{dy}{dx}=\\frac{n}{x}y$\n",
    "\n",
    "$解得y=ce^{\\int{\\frac{n}{x}}{dx}}$\n",
    "\n",
    "$令y=c(x)e^{\\int{\\frac{n}{x}}{dx}}两边求微分$\n",
    "\n",
    "$解得y=(e^x+c)x^n$"
   ]
  },
  {
   "cell_type": "markdown",
   "metadata": {},
   "source": [
    "$1.（15）$\n",
    "\n",
    "$将x看作y的函数$\n",
    "\n",
    "$即\\frac{dx}{dy}=yx+y^3x^3$\n",
    "\n",
    "$即x^{-3}\\frac{dx}{dy}=yx^{-2}+y^3$\n",
    "\n",
    "$令z=x^{-2}$\n",
    "\n",
    "$P(y)=y,Q(y)=y^3$\n",
    "\n",
    "由公式得\n",
    "\n",
    "$\\frac{dz}{dy}=-2yz-2y^3$\n",
    "\n",
    "$变成一阶齐次线性微分方程，解得$\n",
    "\n",
    "$x^{-2}=ce^{-y^2}-y^2+1$\n"
   ]
  },
  {
   "cell_type": "markdown",
   "metadata": {},
   "source": [
    "$1.（16）$\n",
    "\n",
    "$\\frac{dy}{dx}=e^x+y$\n",
    "\n",
    "由一阶齐次线性微分方程公式解得：\n",
    "\n",
    "$y=e^x(x+c)$\n",
    "\n",
    "当x=0时，y=1\n",
    "\n",
    "c=1\n",
    "\n",
    "$解得y=e^x(x+1)$"
   ]
  },
  {
   "cell_type": "markdown",
   "metadata": {
    "collapsed": true
   },
   "source": [
    "$7.（3）$\n",
    "\n",
    "由原式得：\n",
    "\n",
    "$\\frac{dy}{dx}=\\frac{2y}{\\sin{2x}}+\\sin^2{x}  (\\sin{x}\\neq0,\\cos{x}\\neq0)是一个伯努利方程$\n",
    "\n",
    "由公式可以解得：\n",
    "\n",
    "$y=e^{\\int{\\frac{2}{\\sin{2x}}}{dx}}(\\int{\\frac{\\sin^2{x}}{\\cos{x}}e^{-\\int{\\frac{2}{\\sin{2x}}}{dx}}}{dx}+c)$\n",
    "\n",
    "化简可得 ：$y=c\\tan{x}-\\sin{x}$\n",
    "\n",
    "分类讨论\n",
    "\n",
    "1.当$\\sin{x}=0$时，$y=0$\n",
    "\n",
    "2.当$\\tan{x}=0$时，$y=±1$\n",
    "\n",
    "此时解即为$（2k\\pi+\\frac{\\pi}{2},-1），（2k\\pi-\\frac{\\pi}{2},1）$  \n",
    "\n",
    "其中$k=0,±1,\\cdots$\n",
    "\n",
    "综上所述$当x\\neq\\pi±\\frac{\\pi}{2}时   y=c\\tan{x}-\\sin{x}$\n",
    "\n",
    "否则即为点$-(k\\pi+\\frac{\\pi}{2},c-1^{k+1}),k=0,±1，\\cdots$\n"
   ]
  },
  {
   "cell_type": "markdown",
   "metadata": {
    "collapsed": true
   },
   "source": [
    "1.（1）\n",
    "\n",
    "$M(x)=x^2+y,N(x)=x-2y$\n",
    "\n",
    "因为$\\frac{\\partial{M(x)}}{\\partial{y}}=\\frac{\\partial{N(y)}}{\\partial{x}}=1$\n",
    "\n",
    "所以该方程为恰当微分方程\n",
    "\n",
    "现求U(x,y)，所以有\n",
    "\n",
    "$\\frac{\\partial{U(x,y)}}{\\partial{x}}=x^2+y.......记为1式,\\frac{\\partial{U(x,y)}}{\\partial{y}}=x-2y$....记为2式\n",
    "\n",
    "1式对x积分得：$z=\\frac{1}{3}x^3+xy+f(y)$\n",
    "\n",
    "再对y求导得：$\\frac{\\partial{z}}{\\partial{y}}=x+f'(y)$\n",
    "\n",
    "与二式联立可得：$f(y)=-y^2$\n",
    "\n",
    "所以$z=\\frac{1}{3}x^3+xy-y^2$\n",
    "\n",
    "解为：$x^3+3xy-3y^2=c(其中c为任意常数)$\n"
   ]
  },
  {
   "cell_type": "markdown",
   "metadata": {},
   "source": [
    "1.（2）\n",
    "\n",
    "$M(x)=y-3x^2,N(x)=x-4y$\n",
    "\n",
    "$\\frac{\\partial{M(x)}}{\\partial{y}}=\\frac{\\partial{N(x)}}{\\partial{x}}=1$\n",
    "\n",
    "所以该方程为恰当微分方程\n",
    "\n",
    "现求U(x,y)，与1.（1）同理，可得：\n",
    "\n",
    "$z=xy-x^3-2y^2$\n",
    "\n",
    "解为：$xy-x^3-2y^2=c(其中c为任意常数)$"
   ]
  },
  {
   "cell_type": "markdown",
   "metadata": {},
   "source": [
    "3.对变上限$\\int^x_{x_0}{p(t)}{dt}$求导\n",
    "\n",
    "令F(x)=$\\int^x_{x_0}{p(t)}{dt}$，则F(x)在区间上必有定义\n",
    "\n",
    "由定积分的区间可加性可得\n",
    "\n",
    "$F(x+△x)-F(x)=\\int^{x+△x}_{x_0}{p(t)}{dt}-\\int^x_{x_0}{p(t)}{dt}=\\int^{x+△x}_x{p(t)}{dt}$\n",
    "\n",
    "记m，M分别是p（x）在[a,b]上的上下确界，由定积分第一中值定理，即得到\n",
    "\n",
    "$F(x+△x)-F(x)=\n",
    "\\begin{cases}\n",
    "u*△x......（u∈[m,M]）......若p（x）在[a,b]上可积\\\\\n",
    "p(v)*△x ......(v在x与x+△x之间)......若p（x）在[a,b]上连续。\n",
    "\\end{cases}$\n",
    "\n",
    "显然，不管在哪一种情况下，$当△x→0时都有P(x+△x)-P(x)→0,即P(x）在[a,b]上连续$。\n",
    "\n",
    "则，$当△x→0时有v→x，因而p(v)→p(x),$于是\n",
    "\n",
    "$P'(x)=\\lim_{△x→0}{\\frac{P(x+△x)-P(x)}{△x}}=\\lim_{△x→0}{p(v)}=p(x)$"
   ]
  },
  {
   "cell_type": "markdown",
   "metadata": {
    "collapsed": true
   },
   "source": [
    "# <font color='red'>A  19/9 "
   ]
  },
  {
   "cell_type": "code",
   "execution_count": null,
   "metadata": {
    "collapsed": true
   },
   "outputs": [],
   "source": []
  }
 ],
 "metadata": {
  "kernelspec": {
   "display_name": "SageMath 7.3",
   "language": "",
   "name": "sagemath"
  },
  "language_info": {
   "codemirror_mode": {
    "name": "ipython",
    "version": 2
   },
   "file_extension": ".py",
   "mimetype": "text/x-python",
   "name": "python",
   "nbconvert_exporter": "python",
   "pygments_lexer": "ipython2",
   "version": "2.7.10"
  }
 },
 "nbformat": 4,
 "nbformat_minor": 0
}
