{
 "cells": [
  {
   "cell_type": "markdown",
   "metadata": {},
   "source": [
    "1.求下列方程的解。"
   ]
  },
  {
   "cell_type": "markdown",
   "metadata": {},
   "source": [
    "(1)$\\frac{dy}{dx}-\\frac{n}{x}y=e^{x}x^{n}(n为常数)$"
   ]
  },
  {
   "cell_type": "markdown",
   "metadata": {},
   "source": [
    "解：首先，求齐次线性微分方程$$\\frac{dy}{dx}-\\frac{n}{x}y=0$$的通解，从$$\\frac{dy}{y}=n\\frac{dx}{x}$$得到齐次线性微分方程的通解为$$y=cx^n$$把c看成为x的待定函数c(x)即$$y=c(x)x^n$$微分之，得到$$\\frac{dy}{dx}=\\frac{dc(x)}{dx}x^n+nx^{n-1}c(x)$$将$$y=c(x)x^n和\\frac{dy}{dx}=\\frac{dc(x)}{dx}x^n+nx^{n-1}c(x)$$代入$$\\frac{dy}{dx}-\\frac{n}{x}y=e^{x}x^{n}(n为常数)$$得$$\\frac{dc(x)}{dx}=e^{x}$$积分之，求得$c(x)=e^x+c$将其代入$y=c(x)x^n$得原方程的通解为$$y=(e^x+c)x^n$$"
   ]
  },
  {
   "cell_type": "markdown",
   "metadata": {},
   "source": [
    "(2)$\\frac{dy}{dx}=\\frac{1}{xy+x^{3}y^3}$"
   ]
  },
  {
   "cell_type": "markdown",
   "metadata": {},
   "source": [
    "解：原方程可改写为$$\\frac{dx}{dy}=yx+y^{3}x^3$$这是n=3时的伯努利方程,\n",
    "两边同时除以$x^3$得$$\\frac{1}{x^3}.\\frac{dx}{dy}=\\frac{y}{x^2}+y^3$$引入变量$z=\\frac{1}{x^2}$,则$$\\frac{dz}{dy}=\\frac{-2}{x^3}.\\frac{dx}{dy}$$将$$z=\\frac{1}{x^2}和\\frac{dz}{dy}=\\frac{-2}{x^3}.\\frac{dx}{dy}$$代入$$\\frac{1}{x^3}.\\frac{dx}{dy}=\\frac{y}{x^2}+y^3$$得$$\\frac{dz}{dy}=-2yz-2y^3$$这是线性微分方程且$P(x)=-2y，Q(x)=-2y^3$，由一阶线性方程的求解公式求得它的通解为$$z=-y^2+1+ce^{-y^2}$$代回原来的变量x得$$\\frac{1}{x^2}=-y^2+1+ce^{-y^2}$$即原方程的解为$$e^{y^2}(1-x^2+x^2y^2)=cx^2$$"
   ]
  },
  {
   "cell_type": "markdown",
   "metadata": {},
   "source": [
    "(3)$y=e^x+\\int_{0}^{x}y(t)dt$"
   ]
  },
  {
   "cell_type": "markdown",
   "metadata": {},
   "source": [
    "解：由原式得$$\\frac{dy}{dx}=e^x+y(x)$$即$$\\frac{dy}{dx}=y+e^x$$这是线性微分方程且$P(x)=1，Q(x)=e^x$，由一阶线性方程的求解公式求得它的通解为$$y=e^x(x+c)$$将其代入到$$y=e^x+\\int_{0}^{x}y(t)dt$$得$$e^x(x+c)=e^x+\\int_{0}^{x}e^x(x+c)dx$$解得$$c=1$$所以原方程的解为$$y=e^x(x+1)$$"
   ]
  },
  {
   "cell_type": "markdown",
   "metadata": {},
   "source": [
    "2.求解下列方程："
   ]
  },
  {
   "cell_type": "markdown",
   "metadata": {},
   "source": [
    "(1)$y'sinx.cosx-y-sin^3x=0$"
   ]
  },
  {
   "cell_type": "markdown",
   "metadata": {},
   "source": [
    "解：由原方程得$$\\frac{dy}{dx}=\\frac{y}{sinx+cosx}+\\frac{sin^2x}{cosx}$$这是线性微分方程且$P(x)=\\frac{1}{sinx+cosx}，Q(x)=\\frac{sin^2x}{cosx}$由一阶线性方程的求解公式求得它的解为$$y=ctanx-sinx(x\\neq=kπ+\\frac{π}{2})$$另外$(x,y)=(kπ+\\frac{π}{2},(-1)^{k+1}）$也是解"
   ]
  },
  {
   "cell_type": "markdown",
   "metadata": {},
   "source": [
    "3.验证下列方程是恰当微分方程，并求出方程的解："
   ]
  },
  {
   "cell_type": "markdown",
   "metadata": {},
   "source": [
    "(1)$(x^2+y)dx+(x-2y)dy=0$"
   ]
  },
  {
   "cell_type": "markdown",
   "metadata": {},
   "source": [
    "解：由题得$$\\frac{\\partial M}{\\partial y}=1,\\frac{\\partial N}{\\partial x}=1$$即$$\\frac{\\partial M}{\\partial y}=\\frac{\\partial N}{\\partial x}$$所以此方程是恰当微分方程\n",
    "\n",
    "凑微分,$x^2dx-2ydy+(ydx+xdy)=0$得$$\\frac{1}{3}x^3+xy-y^2=C$$"
   ]
  },
  {
   "cell_type": "markdown",
   "metadata": {},
   "source": [
    "(2）$(y-3x^2)dx-(4y-x)dy=0$"
   ]
  },
  {
   "cell_type": "markdown",
   "metadata": {},
   "source": [
    "解：由题得$$\\frac{\\partial M}{\\partial y}=1,\\frac{\\partial N}{\\partial x}=1$$即$$\\frac{\\partial M}{\\partial y}=\\frac{\\partial N}{\\partial x}$$所以此方程是恰当微分方程\n",
    "\n",
    "凑微分，$ydx+xdy-3x^2dx-4ydy=0$得$$x^3-xy+2y^2=C$$"
   ]
  },
  {
   "cell_type": "markdown",
   "metadata": {},
   "source": [
    "4.变上限求导$\\int_{x_0}^{x}p(t）dt$"
   ]
  },
  {
   "cell_type": "markdown",
   "metadata": {},
   "source": [
    "解：由变限积分的求导公式得$$\\frac{d}{dx}\\int_{x_0}^{x}p(t）dt=p(x)x'-p(x_0)x_0'=p(x)-p(x_0)$$"
   ]
  },
  {
   "cell_type": "markdown",
   "metadata": {
    "collapsed": true
   },
   "source": [
    "# <font color='red'>A  19/9 \n"
   ]
  },
  {
   "cell_type": "code",
   "execution_count": null,
   "metadata": {
    "collapsed": true
   },
   "outputs": [],
   "source": []
  }
 ],
 "metadata": {
  "kernelspec": {
   "display_name": "SageMath 7.3",
   "language": "",
   "name": "sagemath"
  },
  "language_info": {
   "codemirror_mode": {
    "name": "ipython",
    "version": 2
   },
   "file_extension": ".py",
   "mimetype": "text/x-python",
   "name": "python",
   "nbconvert_exporter": "python",
   "pygments_lexer": "ipython2",
   "version": "2.7.10"
  }
 },
 "nbformat": 4,
 "nbformat_minor": 0
}
