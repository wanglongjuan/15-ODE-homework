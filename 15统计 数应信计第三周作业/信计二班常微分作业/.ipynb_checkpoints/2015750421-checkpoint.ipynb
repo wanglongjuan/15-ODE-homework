{
 "cells": [
  {
   "cell_type": "markdown",
   "metadata": {},
   "source": [
    "P49  1.(15)\n",
    "原方程可化为$\\frac{ydy}{dx} = \\frac{1}{x+x^3y^2}$,令$u = y^2$,则有$\\frac{du}{dx} = \\frac{2}{x+x^3u}$"
   ]
  },
  {
   "cell_type": "markdown",
   "metadata": {},
   "source": [
    "当我们是u为自变量，x为因变量时，上述方程为$\\frac{dx}{du} = \\frac{x}{2} + \\frac{u}{2}x^3$，这是n=3的伯努利方程。\n",
    "令$z = {x}^{-2}$，整理得$\\frac{dz}{du} = -z-u$"
   ]
  },
  {
   "cell_type": "markdown",
   "metadata": {},
   "source": [
    "解得$z={e}^{\\int-1du}(\\int(-u){e}^{\\int1du}du+c) = c{e}^{-u}+1$,代回得$(1-x^2+x^2y^2){e}^{y^2} = cx^2$,c为任意常数"
   ]
  },
  {
   "cell_type": "markdown",
   "metadata": {},
   "source": [
    "（16）\n",
    "对方程两边对x求导得$\\frac{dy}{dx} = e^x(x+c)$\n",
    "应用一阶线性方程的求解公式，得$y = e^x(\\int e^2*{e}^{-x}dx+c) = e^x(x+c)$"
   ]
  },
  {
   "cell_type": "markdown",
   "metadata": {},
   "source": [
    "当x = 0时得y = 1，所以c = 1，因此方程的解为$y = e^x(x+1).$"
   ]
  },
  {
   "cell_type": "markdown",
   "metadata": {},
   "source": [
    "7.(3)\n",
    "此方程变形为$\\frac{dy}{dx} = \\frac{1}{sinx*cosx}y+\\frac{sin^2x}{cosx}.(sinx \\neq 0,cos \\neq 0)$"
   ]
  },
  {
   "cell_type": "markdown",
   "metadata": {},
   "source": [
    "应用求解公式得通解为$y = tanx(\\int \\frac{sin^2x}{cosx}*cotxdx+c)$\n",
    "化简为$y = tanx(c-cosx)$,即$y = ctanx-sinx$"
   ]
  },
  {
   "cell_type": "markdown",
   "metadata": {},
   "source": [
    "当$sinx = 0$时，$y = 0$ ;\n",
    "当$cosx = 0$时，$y = \\pm1$;即曲线退化成$(2k\\pi+\\frac{\\pi}{2},-1)$和$(2k\\pi-\\frac{\\pi}{2},-1),k = 0 ,\\pm1 \\pm2 .···$"
   ]
  },
  {
   "cell_type": "markdown",
   "metadata": {},
   "source": [
    "综上，解为$y = c*tanx-sinx,(x \\neq k\\pi \\pm \\frac{\\pi}{2})$,c为任意常数，或者点$(2k\\pi + \\frac{\\pi}{2},-1),(wk\\pi - \\frac{\\pi}{2},1),k = 0,\\pm1,\\pm2,···$"
   ]
  },
  {
   "cell_type": "markdown",
   "metadata": {},
   "source": [
    "P60.1.（1）\n",
    "由于$M = x^2+y,N=x-2y$，\n",
    "又$\\frac{\\partial M}{\\partial y} = 1，\\frac{\\partial N}{\\partial x} = 1$,  因此方程是恰当微分方程"
   ]
  },
  {
   "cell_type": "markdown",
   "metadata": {},
   "source": [
    "现在求u，使它同时满足如下两个方程：$\\frac{\\partial u}{\\partial x} = x^2+y，\\frac{\\partial u}{\\partial y} = x-2y$"
   ]
  },
  {
   "cell_type": "markdown",
   "metadata": {},
   "source": [
    "第一个方程对x积分，得$u = \\frac{1}{3}x^3+xy+\\varphi(y)$，对此等式两端关于y求导，得$\\frac{\\partial u}{\\partial y} = x+\\varphi'(y)$与$\\frac{\\pattial u}{\\partial y} = x-2y$比较得$\\varphi'(y) = -2y$"
   ]
  },
  {
   "cell_type": "markdown",
   "metadata": {},
   "source": [
    "积分后得到$\\varphi (y) = -y^2$，所以$u = \\frac{1}{3}x^3+xy-y^2$，即得原方程的通解为$\\frac{1}{3}x^3+xy-y^2 = c$，其中c为任意常数"
   ]
  },
  {
   "cell_type": "markdown",
   "metadata": {},
   "source": [
    "（2）由于$M = y-3x^2,N = x-4y$，又$\\frac{\\partial M}{\\partial y} = 1,\\frac{\\partial N}{\\partial x} = 1$，因此方程式恰当微分方程，把方程化为$(ydx+xdy)-3x^2dx-4ydy = 0$"
   ]
  },
  {
   "cell_type": "markdown",
   "metadata": {},
   "source": [
    "即$d(xy-x^3-2y^2) = 0$。于是，方程的通解为$xy-x^3-2y^2 = c$，其中c为任意常数。"
   ]
  },
  {
   "cell_type": "markdown",
   "metadata": {
    "collapsed": true
   },
   "source": [
    "# <font color='red'>A  19/9 "
   ]
  },
  {
   "cell_type": "code",
   "execution_count": null,
   "metadata": {
    "collapsed": true
   },
   "outputs": [],
   "source": []
  }
 ],
 "metadata": {
  "kernelspec": {
   "display_name": "SageMath 7.3",
   "language": "",
   "name": "sagemath"
  },
  "language_info": {
   "codemirror_mode": {
    "name": "ipython",
    "version": 2
   },
   "file_extension": ".py",
   "mimetype": "text/x-python",
   "name": "python",
   "nbconvert_exporter": "python",
   "pygments_lexer": "ipython2",
   "version": "2.7.10"
  }
 },
 "nbformat": 4,
 "nbformat_minor": 0
}
