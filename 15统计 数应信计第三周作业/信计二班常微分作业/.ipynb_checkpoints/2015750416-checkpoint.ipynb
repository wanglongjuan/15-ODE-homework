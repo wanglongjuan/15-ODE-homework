{
 "cells": [
  {
   "cell_type": "markdown",
   "metadata": {},
   "source": [
    "$$1(4):\\frac{dy}{dx}-\\frac{n}{x}y=e^xx^n$$\n",
    "$$该方程为一阶线性微分方程，可改写为\\frac{dy}{dx}=\\frac{n}{x}y+e^xx^n$$\n",
    "$$其中P（x）为\\frac{n}{x},Q(x)=e^xx^n$$\n",
    "$$根据常数变易法求解公式可得：y=e^{\\int{P(x)}dx}(\\int{Q(x)e^{\\int{-P(x)}d(x)}}+c)$$\n",
    "$$解得y=x^n(e^x+c)$$"
   ]
  },
  {
   "cell_type": "markdown",
   "metadata": {},
   "source": [
    "$$1(15):方程可以改写为伯努利微分方程\\frac{dx}{dy}=xy+x^3y^3$$\n",
    "$$其中x是关于y的函数，方程两边同时乘以y^{-3},令z=x^{-2}$$\n",
    "$$所以方程可以变为-\\frac{dz}{2dy}=zy+y^3，这就是z关于y的一阶线性微分方程$$\n",
    "$$根据求解公式得到x^2(ce^{-y^2}-y^2+1)=1$$"
   ]
  },
  {
   "cell_type": "markdown",
   "metadata": {},
   "source": [
    "$$1(16)方程两边求导得，y'=e^x+y,可以看作为P（x）=1，Q（x）=e^x的一阶线性微分方程$$\n",
    "$$根据求解公式得y=e^x(x+c)$$"
   ]
  },
  {
   "cell_type": "markdown",
   "metadata": {},
   "source": [
    "# <font color='red'>特解？？"
   ]
  },
  {
   "cell_type": "markdown",
   "metadata": {},
   "source": [
    "$$7(3):方程可以写为y'=\\frac{y}{sinxcosx}+\\frac{sin^2x}{cosx}$$\n",
    "$$这就是一阶线性微分方程,P(x)=\\frac{sin^2x}{cosx},Q(x)=\\frac{1}{sinxcosx}根据求解公式得y=ctanx-sinx(x不等于kπ+\\frac{π}{2})$$"
   ]
  },
  {
   "cell_type": "markdown",
   "metadata": {},
   "source": [
    "# <font color='red'>特解？？"
   ]
  },
  {
   "cell_type": "markdown",
   "metadata": {},
   "source": [
    "$$1(1):M=x^2+y,N=x-2y,\\frac{\\partial M}{\\partial y}=1,\\frac{\\partial N}{\\partial x}=1,所以该方程式恰当微分方程。$$\n",
    "$$因为\\frac{\\partial u}{\\partial x}=x^2+y,所以u=\\frac{x^3}{3}+xy+y(x)$$\n",
    "$$\\frac{\\partial u}{\\partial y}=x+y'(x)=x-2y,所以y'(x)=-2y,y(x)=-y^2$$\n",
    "$$将其带入u，可得通解为\\frac{x^3}{3}+xy-y^2=c，c为任意常数$$"
   ]
  },
  {
   "cell_type": "markdown",
   "metadata": {},
   "source": [
    "$$1(2):M=y-3x^2,N=x-4y,\\frac{\\partial M}{\\partial y}=1,\\frac{\\partial N}{\\partial x}=1,所以该方程为恰当微分方程。$$\n",
    "$$因为\\frac{\\partial u}{\\partial x}=y-3x^2,所以u=xy-x^3+y(x)$$\n",
    "$$\\frac{\\partial u}{\\partial y}=x+y'(x)=x-4y,所以y(x)=-2y^2$$\n",
    "$$代入u，可得通解xy-x^3-2y^2=c,c为任意常数$$"
   ]
  },
  {
   "cell_type": "markdown",
   "metadata": {},
   "source": [
    "$$变上限求导\\int_{x0}^xp(t)dt$$\n",
    "$$设P（x）是p（x）的原函数，则\\int_{x0}^xp(t)dt=P(x)-P(x0)$$\n",
    "$$因为P（x0）是常数，所以对\\int_{xo}{x}p(t)dt求导即为对P(x)求导$$\n",
    "$$因为P'(x)=p(x),所以p(x)即为解$$\n"
   ]
  },
  {
   "cell_type": "markdown",
   "metadata": {
    "collapsed": true
   },
   "source": [
    "# <font color='red'>A  19/9 "
   ]
  },
  {
   "cell_type": "code",
   "execution_count": null,
   "metadata": {
    "collapsed": true
   },
   "outputs": [],
   "source": []
  }
 ],
 "metadata": {
  "kernelspec": {
   "display_name": "SageMath 7.3",
   "language": "",
   "name": "sagemath"
  },
  "language_info": {
   "codemirror_mode": {
    "name": "ipython",
    "version": 2
   },
   "file_extension": ".py",
   "mimetype": "text/x-python",
   "name": "python",
   "nbconvert_exporter": "python",
   "pygments_lexer": "ipython2",
   "version": "2.7.10"
  }
 },
 "nbformat": 4,
 "nbformat_minor": 0
}
