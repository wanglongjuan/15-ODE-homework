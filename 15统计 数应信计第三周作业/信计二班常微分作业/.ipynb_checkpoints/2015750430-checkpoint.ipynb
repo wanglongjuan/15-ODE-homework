{
 "cells": [
  {
   "cell_type": "markdown",
   "metadata": {},
   "source": [
    "9月13日\n"
   ]
  },
  {
   "cell_type": "markdown",
   "metadata": {},
   "source": [
    "1 . 求下列方程的解。"
   ]
  },
  {
   "cell_type": "markdown",
   "metadata": {},
   "source": [
    "（4）. "
   ]
  },
  {
   "cell_type": "markdown",
   "metadata": {},
   "source": [
    "$$\\frac{\\mathrm d y}{\\mathrm d x}-\\frac{\\mathrm n}{\\mathrm x}y=e^xx^n$$\n",
    "\n",
    "解："
   ]
  },
  {
   "cell_type": "markdown",
   "metadata": {},
   "source": [
    "$$\\frac{\\mathrm d y}{\\mathrm d x}=\\frac{\\mathrm n}{\\mathrm x}y+e^xx^n$$"
   ]
  },
  {
   "cell_type": "markdown",
   "metadata": {},
   "source": [
    "$$y=e^{\\int \\frac{\\mathrm n}{\\mathrm x}dx}(\\int e^xx^ne^{-\\int \\frac{\\mathrm n}{\\mathrm x}dx}dx+c)$$"
   ]
  },
  {
   "cell_type": "markdown",
   "metadata": {},
   "source": [
    "$$y=x^n(\\int {e^xx^nx^{-n}}dx+c)$$"
   ]
  },
  {
   "cell_type": "markdown",
   "metadata": {},
   "source": [
    "$$y=x^n(e^x+c)$$"
   ]
  },
  {
   "cell_type": "markdown",
   "metadata": {},
   "source": [
    "(15)."
   ]
  },
  {
   "cell_type": "markdown",
   "metadata": {},
   "source": [
    "$$\\frac{\\mathrm d y}{\\mathrm d x}=\\frac{\\mathrm 1}{\\mathrm xy+x^3y^3}$$\n",
    "\n",
    "解："
   ]
  },
  {
   "cell_type": "markdown",
   "metadata": {},
   "source": [
    "令$u=y^2$"
   ]
  },
  {
   "cell_type": "markdown",
   "metadata": {},
   "source": [
    "$$\\frac{\\mathrm d u}{\\mathrm d x}=2y\\frac{\\mathrm 1}{\\mathrm xy+x^3y^3}=\\frac{\\mathrm 2}{\\mathrm x+x^3u}$$"
   ]
  },
  {
   "cell_type": "markdown",
   "metadata": {},
   "source": [
    "$$\\frac{\\mathrm d x}{\\mathrm d u}=\\frac{\\mathrm x+x^3u}{\\mathrm 2}$$"
   ]
  },
  {
   "cell_type": "markdown",
   "metadata": {},
   "source": [
    "又令$z=x^{-2}$\n",
    "\n",
    "则："
   ]
  },
  {
   "cell_type": "markdown",
   "metadata": {},
   "source": [
    "$$  \\frac{\\mathrm d z}{\\mathrm d u}=-2x^{-3}\\frac{\\mathrm d x}{\\mathrm d u}$$\n",
    "代入上式"
   ]
  },
  {
   "cell_type": "markdown",
   "metadata": {},
   "source": [
    "$$ \\frac{\\mathrm d z}{\\mathrm d u}=-z-u$$"
   ]
  },
  {
   "cell_type": "markdown",
   "metadata": {},
   "source": [
    "$$z=e^{\\int (-1)du}(\\int {-u}e^{\\int {1} du}+c)$$"
   ]
  },
  {
   "cell_type": "markdown",
   "metadata": {},
   "source": [
    "$$z=e^{-u}[e^u(1-u)+c]=ce^u-u+1$$\n",
    "\n",
    "再将$z=x^{-2} , u=y^2$代入"
   ]
  },
  {
   "cell_type": "markdown",
   "metadata": {},
   "source": [
    "$$x^{-2}=ce^{y^2}-y^2+1$$"
   ]
  },
  {
   "cell_type": "markdown",
   "metadata": {},
   "source": [
    "(16)."
   ]
  },
  {
   "cell_type": "markdown",
   "metadata": {},
   "source": [
    "$$y=e^x+\\int_0^x y(t)dt$$"
   ]
  },
  {
   "cell_type": "markdown",
   "metadata": {},
   "source": [
    "解："
   ]
  },
  {
   "cell_type": "markdown",
   "metadata": {},
   "source": [
    " 对原方程关于$x$求导："
   ]
  },
  {
   "cell_type": "markdown",
   "metadata": {},
   "source": [
    "$$\\frac{\\mathrm d y}{\\mathrm d x}=e^x+y(x)$$\n",
    "\n",
    "则："
   ]
  },
  {
   "cell_type": "markdown",
   "metadata": {},
   "source": [
    "$$ y=e^{\\int 1 dx}(\\int e^xe^{\\int (-1)dx}+c)$$"
   ]
  },
  {
   "cell_type": "markdown",
   "metadata": {},
   "source": [
    "$$ y=e^x(x+c)$$"
   ]
  },
  {
   "cell_type": "markdown",
   "metadata": {},
   "source": [
    "观察原方程，当$x=0$时，$y=0$"
   ]
  },
  {
   "cell_type": "markdown",
   "metadata": {},
   "source": [
    "则：$$c=1$$"
   ]
  },
  {
   "cell_type": "markdown",
   "metadata": {},
   "source": [
    "$$y=e^x(x+1)$$"
   ]
  },
  {
   "cell_type": "markdown",
   "metadata": {},
   "source": [
    "7 .求解下列方程\n",
    "\n",
    "（3）"
   ]
  },
  {
   "cell_type": "markdown",
   "metadata": {},
   "source": [
    "$$ y'sinx·cosx-y-sin^3{x}=0$$"
   ]
  },
  {
   "cell_type": "markdown",
   "metadata": {},
   "source": [
    "当 $ \\sin{x}·\\cos{x} $不等于$ 0 $时"
   ]
  },
  {
   "cell_type": "markdown",
   "metadata": {},
   "source": [
    "$$ \\frac{\\mathrm d y}{\\mathrm d x}=\\frac{\\mathrm y}{\\mathrm \\sin{x}·\\cos{x}}-\\frac{\\mathrm \\sin^2{x}}{\\mathrm \\cos{x}}$$"
   ]
  },
  {
   "cell_type": "markdown",
   "metadata": {},
   "source": [
    "$$y=e^{\\int \\frac{\\mathrm 1}{\\mathrm \\sin{x}\\cos{x}}dx}(\\int {-\\frac{\\mathrm \\sin^2{x}}{\\mathrm \\cos{x}}}e^{-{\\int \\frac{\\mathrm 1}{\\mathrm \\sin{x}\\cos{x}}  ·dx}}dx+c)$$"
   ]
  },
  {
   "cell_type": "markdown",
   "metadata": {},
   "source": [
    "$$ y=\\tan{x}(\\cos{x}+c)$$"
   ]
  },
  {
   "cell_type": "markdown",
   "metadata": {},
   "source": [
    "当$\\sin{x}=0 $ , $y=0$;"
   ]
  },
  {
   "cell_type": "markdown",
   "metadata": {},
   "source": [
    "当$cosx=0$, $y=-sin^3{x}=\\pm1$"
   ]
  },
  {
   "cell_type": "markdown",
   "metadata": {},
   "source": [
    "则：$x=kpi+\\frac{\\mathrm pi}{\\mathrm 2}$ , $y=(-1)^{k+1}$"
   ]
  },
  {
   "cell_type": "markdown",
   "metadata": {},
   "source": [
    "即 $$ (x,y)=(kpi+\\frac{\\mathrm pi}{\\mathrm 2},(-1)^{k+1})$$ 也是解   （$k=0,\\pm1,\\pm2\\dots$)"
   ]
  },
  {
   "cell_type": "markdown",
   "metadata": {},
   "source": [
    "补充："
   ]
  },
  {
   "cell_type": "markdown",
   "metadata": {},
   "source": [
    "求导$\\int_{x_0}^x p(t)d t$"
   ]
  },
  {
   "cell_type": "markdown",
   "metadata": {
    "collapsed": false
   },
   "source": [
    "${\\int_{x_0}^x p(t)d t}'=p(x)$"
   ]
  },
  {
   "cell_type": "markdown",
   "metadata": {
    "collapsed": true
   },
   "source": [
    "9月14日"
   ]
  },
  {
   "cell_type": "markdown",
   "metadata": {},
   "source": [
    "1 . 验证下列方程是恰当微分方程，并求出方程的解。"
   ]
  },
  {
   "cell_type": "markdown",
   "metadata": {},
   "source": [
    "（1)."
   ]
  },
  {
   "cell_type": "markdown",
   "metadata": {},
   "source": [
    "$$(x^2+y)dx+(x-2y)dy=0$$"
   ]
  },
  {
   "cell_type": "markdown",
   "metadata": {},
   "source": [
    "验证："
   ]
  },
  {
   "cell_type": "markdown",
   "metadata": {},
   "source": [
    "令：$M(x,y)=x^2+y$ , $N(x,y)=x-2y$"
   ]
  },
  {
   "cell_type": "markdown",
   "metadata": {},
   "source": [
    "$\\frac{\\partial M(x,y)}{\\partial y}=\\frac{\\partial N(x,y)}{\\partial x}=1$"
   ]
  },
  {
   "cell_type": "markdown",
   "metadata": {},
   "source": [
    "则;"
   ]
  },
  {
   "cell_type": "markdown",
   "metadata": {},
   "source": [
    "方程是恰当微分方程；"
   ]
  },
  {
   "cell_type": "markdown",
   "metadata": {},
   "source": [
    "\\begin{aligned}\n",
    "\\int M(x,y)dx+\\int[(N(x,y)-\\frac{\\partial  }{\\partial y}\\int M(x,y)dx]dy &=c\\\\\n",
    "\\frac{\\mathrm 1}{\\mathrm 3}x^3+xy-y^2&=c\\\\\n",
    "\\end{aligned}"
   ]
  },
  {
   "cell_type": "markdown",
   "metadata": {},
   "source": [
    "即：$$ x^3+3xy-3y^2=C$$"
   ]
  },
  {
   "cell_type": "markdown",
   "metadata": {},
   "source": [
    "($C=3c$，为任意常数）"
   ]
  },
  {
   "cell_type": "markdown",
   "metadata": {},
   "source": [
    "（2）."
   ]
  },
  {
   "cell_type": "markdown",
   "metadata": {},
   "source": [
    "$$ (y-3x^2)dx-(4y-x)dy=0$$"
   ]
  },
  {
   "cell_type": "markdown",
   "metadata": {},
   "source": [
    "令： $M(x,y)=y-3x^2$ , $N(x,y)=x-4y$"
   ]
  },
  {
   "cell_type": "markdown",
   "metadata": {},
   "source": [
    "$\\frac{\\partial M(x,y)}{\\partial y}=\\frac{\\partial N(x,y)}{\\partial x}=1$"
   ]
  },
  {
   "cell_type": "markdown",
   "metadata": {},
   "source": [
    "方程是恰当微分方程；"
   ]
  },
  {
   "cell_type": "markdown",
   "metadata": {},
   "source": [
    "\\begin{aligned}\n",
    "\\int M(x,y)dx+\\int[(N(x,y)-\\frac{\\partial  }{\\partial y}\\int M(x,y)dx]dy &=c\\\\\n",
    "xy-x^3-2y^2&=c\\\\\n",
    "\\end{aligned}"
   ]
  },
  {
   "cell_type": "markdown",
   "metadata": {},
   "source": [
    "即："
   ]
  },
  {
   "cell_type": "markdown",
   "metadata": {},
   "source": [
    "$$ x^3-xy+2y^2=C$$"
   ]
  },
  {
   "cell_type": "markdown",
   "metadata": {},
   "source": [
    "($C=-c$，为任意常数）"
   ]
  },
  {
   "cell_type": "markdown",
   "metadata": {},
   "source": [
    "# <font color='red'>A  19/9 "
   ]
  },
  {
   "cell_type": "code",
   "execution_count": null,
   "metadata": {
    "collapsed": true
   },
   "outputs": [],
   "source": []
  }
 ],
 "metadata": {
  "kernelspec": {
   "display_name": "SageMath 7.3",
   "language": "",
   "name": "sagemath"
  },
  "language_info": {
   "codemirror_mode": {
    "name": "ipython",
    "version": 2
   },
   "file_extension": ".py",
   "mimetype": "text/x-python",
   "name": "python",
   "nbconvert_exporter": "python",
   "pygments_lexer": "ipython2",
   "version": "2.7.10"
  }
 },
 "nbformat": 4,
 "nbformat_minor": 0
}
