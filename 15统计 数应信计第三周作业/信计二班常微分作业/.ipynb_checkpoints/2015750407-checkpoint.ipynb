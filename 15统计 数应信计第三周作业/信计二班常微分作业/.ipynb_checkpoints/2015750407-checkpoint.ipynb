{
 "cells": [
  {
   "cell_type": "markdown",
   "metadata": {},
   "source": [
    "P42面\n",
    "1.求下面方程的解"
   ]
  },
  {
   "cell_type": "markdown",
   "metadata": {},
   "source": [
    "$(4)\\frac{dy}{dx}-\\frac{ny}{x}=e^x*x^n$"
   ]
  },
  {
   "cell_type": "markdown",
   "metadata": {},
   "source": [
    "$解：首先求线性齐次方程\\frac{dy}{dx}-\\frac{ny}{x}=0的通解$"
   ]
  },
  {
   "cell_type": "markdown",
   "metadata": {},
   "source": [
    "$分离变量，得\\frac{dy}{y}=\\frac{ndx}{x}$"
   ]
  },
  {
   "cell_type": "markdown",
   "metadata": {},
   "source": [
    "$两边积分得y=cx^n$"
   ]
  },
  {
   "cell_type": "markdown",
   "metadata": {},
   "source": [
    "$设所求通解为y=c(x)*x^n$"
   ]
  },
  {
   "cell_type": "markdown",
   "metadata": {},
   "source": [
    "$代入原方程，化简后得\\frac{dc(x)}{dx}=e^x$"
   ]
  },
  {
   "cell_type": "markdown",
   "metadata": {},
   "source": [
    "$积分得c(x)=e^x+c_1$"
   ]
  },
  {
   "cell_type": "markdown",
   "metadata": {},
   "source": [
    "$所以，原方程的通解为y=c_1x^n+e^xx^n,其中c_1为任意常数$"
   ]
  },
  {
   "cell_type": "markdown",
   "metadata": {},
   "source": [
    "$(15)\\frac{dy}{dx}=\\frac{1}{xy+x^3y^3}$"
   ]
  },
  {
   "cell_type": "markdown",
   "metadata": {},
   "source": [
    "$原方程可化为\\frac{ydy}{dx}=\\frac{1}{x+x^3y^2}$"
   ]
  },
  {
   "cell_type": "markdown",
   "metadata": {},
   "source": [
    "$令u=y^2,则有\\frac{du}{dx}=\\frac{2}{x+x^3u}$"
   ]
  },
  {
   "cell_type": "markdown",
   "metadata": {},
   "source": [
    "$由伯努利方程，则有\\frac{dx}{du}=\\frac{x}{2}+\\frac{ux^3}{2}$"
   ]
  },
  {
   "cell_type": "markdown",
   "metadata": {},
   "source": [
    "$令z=\\frac{1}{x^2},则\\frac{dz}{du}=-z-u$"
   ]
  },
  {
   "cell_type": "markdown",
   "metadata": {},
   "source": [
    "$应用一阶线性方程的求解方式，有z=c\\frac{1}{e^u}-u+1$"
   ]
  },
  {
   "cell_type": "markdown",
   "metadata": {},
   "source": [
    "$代会原变量，得\\frac{1}{x^2}=c[\\frac{1}{e^{y^2}}]-y^2+1,c为任意常数，这就是原方程的解$"
   ]
  },
  {
   "cell_type": "markdown",
   "metadata": {},
   "source": [
    "$(16)y=e^x+\\int\\limits_0^x y(t)\\mathrm d t$"
   ]
  },
  {
   "cell_type": "markdown",
   "metadata": {},
   "source": [
    "$解：对方程两端求导，得\\frac{dy}{dx}=e^x+y$"
   ]
  },
  {
   "cell_type": "markdown",
   "metadata": {},
   "source": [
    "$应用一阶线性方程的求解公式，得y=e^x(\\int e^xe^{-x}\\mathrm d x)=e^x(x+c)$"
   ]
  },
  {
   "cell_type": "markdown",
   "metadata": {},
   "source": [
    "# <font color='red'>特解？？"
   ]
  },
  {
   "cell_type": "markdown",
   "metadata": {},
   "source": [
    "$7.求解方程y'sin xcos x-y-(sin x)^3=0$"
   ]
  },
  {
   "cell_type": "markdown",
   "metadata": {},
   "source": [
    "$此方程可以变形为\\frac{dy}{dx}=\\frac{y}{sin x+cos x}+\\frac{(sin x)^2}{cos x}  (sin x≠0  cos x≠0)$"
   ]
  },
  {
   "cell_type": "markdown",
   "metadata": {},
   "source": [
    "$应用一阶线性方程的求解方式的到通解为y=tan x(\\int \\frac{sin^2 xcot x}{cos x}\\mathrm d x +c)$"
   ]
  },
  {
   "cell_type": "markdown",
   "metadata": {},
   "source": [
    "$求积分并化简得y=tan x(c-cos x),即y=ctan x-sin x$"
   ]
  },
  {
   "cell_type": "markdown",
   "metadata": {},
   "source": [
    "$当sin x=0时，原方程化为y=0；$\n",
    "$当cos x=0时，原方程化为y=±1$"
   ]
  },
  {
   "cell_type": "markdown",
   "metadata": {},
   "source": [
    "$综上，原方程的解为y=ctan x-sin x,(c≠kπ±\\frac{π}{2})，c为任意常数；$\n",
    "$或者点（2kπ+\\frac{π}{2},-1），（zkπ-\\frac{π}{2},-1）,k=0,±1,±2,…$"
   ]
  },
  {
   "cell_type": "markdown",
   "metadata": {},
   "source": [
    "P60面1."
   ]
  },
  {
   "cell_type": "markdown",
   "metadata": {},
   "source": [
    "$（1）(x^2+y)dx+(x-2y)dy=0$"
   ]
  },
  {
   "cell_type": "markdown",
   "metadata": {},
   "source": [
    "$解：由于M=x^2+y,N=x-2y$"
   ]
  },
  {
   "cell_type": "markdown",
   "metadata": {},
   "source": [
    "$又\\frac{\\partial M}{\\partial y}=1,\\frac{\\partial N}{\\partial y}=1,所以方程是恰当微分方程$"
   ]
  },
  {
   "cell_type": "markdown",
   "metadata": {},
   "source": [
    "$假设存在u，且u同时满足\\frac{\\partial u}{\\partial x}=x^2+y,\\frac{\\partial u}{\\partial y}=x-2y$"
   ]
  },
  {
   "cell_type": "markdown",
   "metadata": {},
   "source": [
    "$对第一个方程的先对x求积分，再对y求导，得\\frac{\\partial u}{\\partial y}=x+φ'(y)$"
   ]
  },
  {
   "cell_type": "markdown",
   "metadata": {},
   "source": [
    "$与第二个式子相比较得φ'(y)=-2y,积分后得φ（y）=-y^2,所以u=\\frac{x^3}{3}+xy-y^2$"
   ]
  },
  {
   "cell_type": "markdown",
   "metadata": {},
   "source": [
    "$所以原方程的通解为\\frac{x^3}{3}+xy-y^2=c,c为任意常数$"
   ]
  },
  {
   "cell_type": "markdown",
   "metadata": {},
   "source": [
    "$(2).(y-3x^2)dx-(4y-x)dy=0$"
   ]
  },
  {
   "cell_type": "markdown",
   "metadata": {},
   "source": [
    "$解：由于M=y-3x^2,N=x-4y$"
   ]
  },
  {
   "cell_type": "markdown",
   "metadata": {},
   "source": [
    "$又\\frac{\\partial M}{\\partial y}=1,\\frac{\\partial N}{\\partial x}=1,所以方程是恰当微分方程$"
   ]
  },
  {
   "cell_type": "markdown",
   "metadata": {},
   "source": [
    "$把方程重新“分项组合”得到（ydx+xdy）-3x^2dx-4ydy=0$"
   ]
  },
  {
   "cell_type": "markdown",
   "metadata": {},
   "source": [
    "$即d(xy-x^3-2y^2)=0$"
   ]
  },
  {
   "cell_type": "markdown",
   "metadata": {},
   "source": [
    "$所以，方程的通解为xy-x^3-2y^2=c,c为任意常数$"
   ]
  },
  {
   "cell_type": "markdown",
   "metadata": {
    "collapsed": true
   },
   "source": [
    "# <font color='red'>A  19/9 "
   ]
  },
  {
   "cell_type": "code",
   "execution_count": null,
   "metadata": {
    "collapsed": true
   },
   "outputs": [],
   "source": []
  }
 ],
 "metadata": {
  "kernelspec": {
   "display_name": "SageMath 7.3",
   "language": "",
   "name": "sagemath"
  },
  "language_info": {
   "codemirror_mode": {
    "name": "ipython",
    "version": 2
   },
   "file_extension": ".py",
   "mimetype": "text/x-python",
   "name": "python",
   "nbconvert_exporter": "python",
   "pygments_lexer": "ipython2",
   "version": "2.7.10"
  }
 },
 "nbformat": 4,
 "nbformat_minor": 0
}
