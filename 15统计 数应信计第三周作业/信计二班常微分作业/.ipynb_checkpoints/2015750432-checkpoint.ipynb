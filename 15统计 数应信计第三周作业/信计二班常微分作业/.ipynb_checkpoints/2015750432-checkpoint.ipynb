{
 "cells": [
  {
   "cell_type": "markdown",
   "metadata": {},
   "source": [
    "p49  1.（4）$\\frac{\\mathrm dy}{\\mathrm dx}-\\frac{\\mathrm n}{\\mathrm x}y=e^xx^n$(n为常数）\n",
    "       （15)$\\frac{\\mathrm dy}{\\mathrm dx}=\\frac{\\mathrm 1}{\\mathrm xy+x^3y^3}$\n",
    "        (16)$y=e^x+\\int_0^x\\mathrm y(t)\\mathrm dt$"
   ]
  },
  {
   "cell_type": "markdown",
   "metadata": {},
   "source": [
    "解：(4)∵  $P(x)=\\frac{\\mathrm n}{\\mathrm x},Q(x)=e^xx^n$ "
   ]
  },
  {
   "cell_type": "markdown",
   "metadata": {},
   "source": [
    "∴得到  $y=e^{\\int\\mathrm {\\frac{\\mathrm x}{\\mathrm n}}\\mathrm dx}(\\int\\mathrm e^x·x^n·e^{-\\int\\mathrm {\\frac{\\mathrm x}{\\mathrm n}}\\mathrm dx}·dx+c)=x^n(\\int\\mathrm e^x·x^n·x^{-n}\\mathrm dx+c)=(e^x+c)·x^n$"
   ]
  },
  {
   "cell_type": "markdown",
   "metadata": {},
   "source": [
    "(15)令$u=y^2$,则 原方程可变为：$\\frac{\\mathrm du}{\\mathrm dx}=\\frac{\\mathrm 2}{\\mathrm x+x^3u}$"
   ]
  },
  {
   "cell_type": "markdown",
   "metadata": {},
   "source": [
    "方程可变为：$\\frac{\\mathrm dx}{\\mathrm du}=\\frac{\\mathrm x}{\\mathrm 2}+\\frac{\\mathrm u}{\\mathrm 2}x^3$"
   ]
  },
  {
   "cell_type": "markdown",
   "metadata": {},
   "source": [
    "令$z=x^{-2}$可得：$\\frac{\\mathrm dz}{\\mathrm du}=-2x^{-3}·\\frac{\\mathrm dx}{\\mathrm du}$"
   ]
  },
  {
   "cell_type": "markdown",
   "metadata": {},
   "source": [
    "代入$\\frac{\\mathrm dx}{\\mathrm du}$的表达式，得到：$\\frac{\\mathrm dz}{\\mathrm du}=-z-u$ "
   ]
  },
  {
   "cell_type": "markdown",
   "metadata": {},
   "source": [
    "解得:    $z=ce^{-u}-u+1$   "
   ]
  },
  {
   "cell_type": "markdown",
   "metadata": {},
   "source": [
    "把$z=x^{-2},u=y^2$代入得：$x^2(ce^{-y^2}-y^2+1)=1$   \n",
    "这就是原方程的通解.\n"
   ]
  },
  {
   "cell_type": "markdown",
   "metadata": {},
   "source": [
    "(16)对原方程两边求导得：$\\frac{\\mathrm dy}{\\mathrm dx}=e^x+y$   \n",
    "解得:$y=e^x(x+c)$   "
   ]
  },
  {
   "cell_type": "markdown",
   "metadata": {},
   "source": [
    "当x=0的时候，原方程可得:$y=e^0+\\int_0^0\\mathrm y(t)\\mathrm dt=1$ "
   ]
  },
  {
   "cell_type": "markdown",
   "metadata": {},
   "source": [
    "可以求出c=1.   "
   ]
  },
  {
   "cell_type": "markdown",
   "metadata": {},
   "source": [
    "∴原方程的解为:$y=e^x(x+1)$"
   ]
  },
  {
   "cell_type": "markdown",
   "metadata": {},
   "source": [
    "7.(3)$y'sinx·cosx-y-sin^3x=0$"
   ]
  },
  {
   "cell_type": "markdown",
   "metadata": {},
   "source": [
    "解：∵原方程可变形为：$\\frac{\\mathrm dy}{\\mathrm dx}=\\frac{\\mathrm y}{\\mathrm sinxcosx}+\\frac{\\mathrm sin^2x}{\\mathrm cosx}(sinx≠0，cosx≠0）$   "
   ]
  },
  {
   "cell_type": "markdown",
   "metadata": {},
   "source": [
    "∴可以解得：$y=tanx(\\int\\mathrm {\\frac{\\mathrm sin^2x}{\\mathrm cosx}}·cotx\\mathrm dx+c)$   "
   ]
  },
  {
   "cell_type": "markdown",
   "metadata": {},
   "source": [
    "即化简得：$y=ctanx-sinx$ "
   ]
  },
  {
   "cell_type": "markdown",
   "metadata": {},
   "source": [
    "当$sinx=0$的时候,$y=0$"
   ]
  },
  {
   "cell_type": "markdown",
   "metadata": {},
   "source": [
    "当$cosx=0$的时候,$y=-sin^3x=±1$"
   ]
  },
  {
   "cell_type": "markdown",
   "metadata": {},
   "source": [
    "即点$(2kπ+\\frac{\\mathrm π}{\\mathrm 2},-1)和(2kπ-\\frac{\\mathrm π}{\\mathrm 2},1),k=0,±1,±2,…$ "
   ]
  },
  {
   "cell_type": "markdown",
   "metadata": {},
   "source": [
    "∴原方程的解为：$y=ctanx-sinx(x≠kπ±\\frac{\\mathrm π}{\\mathrm 2})或者点(2kπ+\\frac{\\mathrm π}{\\mathrm 2},-1)和(2kπ-\\frac{\\mathrm π}{\\mathrm 2},1),k=0,±1,±2,…$"
   ]
  },
  {
   "cell_type": "markdown",
   "metadata": {},
   "source": [
    "P60 1.(1)$(x^2+y)dx+(x-2y)dy=0$\n",
    "      (2)$(y-3x^3)dx-(4y-x)dy=0$"
   ]
  },
  {
   "cell_type": "markdown",
   "metadata": {},
   "source": [
    "解：(1)令$M=x^2+y,N=x-2y$,"
   ]
  },
  {
   "cell_type": "markdown",
   "metadata": {},
   "source": [
    "则有 $\\frac{\\partial M}{\\partial x}=1,\\frac{\\partial N}{\\partial x}=1$  "
   ]
  },
  {
   "cell_type": "markdown",
   "metadata": {},
   "source": [
    "∴该方程是恰当微分方程."
   ]
  },
  {
   "cell_type": "markdown",
   "metadata": {},
   "source": [
    "又u满足条件：$\\frac{\\partial u}{\\partial x}=x^2+y,\\frac{\\partial u}{\\partial y}=x-2y$  "
   ]
  },
  {
   "cell_type": "markdown",
   "metadata": {},
   "source": [
    "∴在第一个方程对x求积分可以得到：$u=\\frac{\\mathrm 1}{\\mathrm 3}x^3+xy+φ(y)$ "
   ]
  },
  {
   "cell_type": "markdown",
   "metadata": {},
   "source": [
    "再对y求导得到：$\\frac{\\partial u}{\\partial y}=x+φ'(y)$  "
   ]
  },
  {
   "cell_type": "markdown",
   "metadata": {},
   "source": [
    "又$\\frac{\\partial u}{\\partial y}=x-2y$ "
   ]
  },
  {
   "cell_type": "markdown",
   "metadata": {},
   "source": [
    "∴$x-2y=x+φ'(y)$ "
   ]
  },
  {
   "cell_type": "markdown",
   "metadata": {},
   "source": [
    "则可得到：$φ'(y)=-2y$ "
   ]
  },
  {
   "cell_type": "markdown",
   "metadata": {},
   "source": [
    "积分后得到：$φ(y)=-y^2$"
   ]
  },
  {
   "cell_type": "markdown",
   "metadata": {},
   "source": [
    "∴$u=\\frac{\\mathrm 1}{\\mathrm 3}x^3+xy-y^2$   "
   ]
  },
  {
   "cell_type": "markdown",
   "metadata": {},
   "source": [
    "即有该方程的通解为：$\\frac{\\mathrm 1}{\\mathrm 3}x^3+xy-y^2=c(c为任意常数).$"
   ]
  },
  {
   "cell_type": "markdown",
   "metadata": {},
   "source": [
    "(2)令$M=y-3x^2,N=x-4y$ "
   ]
  },
  {
   "cell_type": "markdown",
   "metadata": {},
   "source": [
    "则有$\\frac{\\partial M}{\\partial y}=1,\\frac{\\partial N}{\\partial x}=1$ "
   ]
  },
  {
   "cell_type": "markdown",
   "metadata": {},
   "source": [
    "∴该方程是恰当微分方程."
   ]
  },
  {
   "cell_type": "markdown",
   "metadata": {},
   "source": [
    "又u满足条件：$\\frac{\\partial u}{\\partial x}=y-3x^2,\\frac{\\partial u}{\\partial y}=x-4y$"
   ]
  },
  {
   "cell_type": "markdown",
   "metadata": {},
   "source": [
    "∴在第一个等式对x求积分可得：$u=xy-x^3+φ(y)$  "
   ]
  },
  {
   "cell_type": "markdown",
   "metadata": {},
   "source": [
    "再对y求导得：$\\frac{\\partial u}{\\partial y}=x+φ'(y)$ "
   ]
  },
  {
   "cell_type": "markdown",
   "metadata": {},
   "source": [
    "又$\\frac{\\partial u}{\\partial y}=x-4y$ "
   ]
  },
  {
   "cell_type": "markdown",
   "metadata": {},
   "source": [
    "则可得到：$φ'(y)=-4y$ "
   ]
  },
  {
   "cell_type": "markdown",
   "metadata": {},
   "source": [
    "然后积分可得到：$φ(y)=-2y^2$ "
   ]
  },
  {
   "cell_type": "markdown",
   "metadata": {},
   "source": [
    "∴$u=xy-x^3-2y^2$"
   ]
  },
  {
   "cell_type": "markdown",
   "metadata": {},
   "source": [
    "即有该方程的通解为：$xy-x^3-2y^2=c(c为任意常数).$"
   ]
  },
  {
   "cell_type": "markdown",
   "metadata": {
    "collapsed": true
   },
   "source": [
    "变上限求导$\\int_{x_0}^x\\mathrm p(t)\\mathrm dt$"
   ]
  },
  {
   "cell_type": "markdown",
   "metadata": {},
   "source": [
    "求导得：$p(x）$"
   ]
  },
  {
   "cell_type": "markdown",
   "metadata": {
    "collapsed": true
   },
   "source": [
    "# <font color='red'>A  19/9 "
   ]
  },
  {
   "cell_type": "code",
   "execution_count": null,
   "metadata": {
    "collapsed": true
   },
   "outputs": [],
   "source": []
  }
 ],
 "metadata": {
  "kernelspec": {
   "display_name": "SageMath 7.3",
   "language": "",
   "name": "sagemath"
  },
  "language_info": {
   "codemirror_mode": {
    "name": "ipython",
    "version": 2
   },
   "file_extension": ".py",
   "mimetype": "text/x-python",
   "name": "python",
   "nbconvert_exporter": "python",
   "pygments_lexer": "ipython2",
   "version": "2.7.10"
  }
 },
 "nbformat": 4,
 "nbformat_minor": 0
}
