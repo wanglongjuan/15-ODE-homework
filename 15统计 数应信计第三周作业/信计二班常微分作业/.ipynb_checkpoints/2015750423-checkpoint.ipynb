{
 "cells": [
  {
   "cell_type": "markdown",
   "metadata": {
    "collapsed": true
   },
   "source": [
    "#  9月13日"
   ]
  },
  {
   "cell_type": "markdown",
   "metadata": {},
   "source": [
    "1.求下列方程的解："
   ]
  },
  {
   "cell_type": "markdown",
   "metadata": {},
   "source": [
    "$（4）\\frac{\\mathrm d y}{\\mathrm d x}-\\frac{n}{x}y=e^{x}x^n   (n为常数);$"
   ]
  },
  {
   "cell_type": "markdown",
   "metadata": {},
   "source": [
    "$解：令P(x)=\\frac{n}{x},Q(x)=e^{x}x^n,可得\\frac{\\mathrm d y}{\\mathrm d x}=P(x)y+Q(x)$"
   ]
  },
  {
   "cell_type": "markdown",
   "metadata": {},
   "source": [
    "$∵y=e^{\\int\\mathrm P(x)\\,\\mathrm d x} (\\int\\mathrm Q(x)e^{-\\int\\mathrm P(x)\\,\\mathrm d x}\\,\\mathrm d x+c)$"
   ]
  },
  {
   "cell_type": "markdown",
   "metadata": {},
   "source": [
    "$∴y=e^{\\int\\mathrm {\\frac{n}{x}}\\,\\mathrm d x} (\\int\\mathrm e^{x}x^ne^{-\\int\\mathrm {\\frac{n}{x}}\\,\\mathrm d x}\\,\\mathrm d x+c）=x^n(\\int\\mathrm e^{x}x^nx^{-n}\\,\\mathrm d x+c)=(e^{x}+c)x^n$"
   ]
  },
  {
   "cell_type": "markdown",
   "metadata": {},
   "source": [
    "$即方程的解为y=(e^{x}+c)x^n$"
   ]
  },
  {
   "cell_type": "markdown",
   "metadata": {},
   "source": [
    "$（15）\\frac{\\mathrm d y}{\\mathrm d x}=\\frac{1}{xy+x^3y^3};$"
   ]
  },
  {
   "cell_type": "markdown",
   "metadata": {},
   "source": [
    "$解：∵\\frac{\\mathrm d y}{\\mathrm d x}=P(x)y+Q(x)y^n$"
   ]
  },
  {
   "cell_type": "markdown",
   "metadata": {},
   "source": [
    "$∴原方程可化为当n=3时的伯努利微分方程\\frac{\\mathrm d x}{\\mathrm d y}=xy+x^3y^3$"
   ]
  },
  {
   "cell_type": "markdown",
   "metadata": {},
   "source": [
    "$用x^{-3}乘变换过后的方程，得到x^{-3}\\frac{\\mathrm d x}{\\mathrm d y}=x^{-2}y+y^3$"
   ]
  },
  {
   "cell_type": "markdown",
   "metadata": {},
   "source": [
    "$令z=x^{-2}，从而\\frac{\\mathrm d z}{\\mathrm d y}=-2x^{-3}\\frac{\\mathrm d x}{\\mathrm d y},则有\\frac{\\mathrm d z}{\\mathrm d y}=-2yz-2y^3$"
   ]
  },
  {
   "cell_type": "markdown",
   "metadata": {},
   "source": [
    "$∵\\frac{\\mathrm d y}{\\mathrm d x}=P(x)y+Q(x)，y=e^{\\int\\mathrm P(x)\\,\\mathrm d x} (\\int\\mathrm Q(x)e^{-\\int\\mathrm P(x)\\,\\mathrm d x}\\,\\mathrm d x+c)$"
   ]
  },
  {
   "cell_type": "markdown",
   "metadata": {},
   "source": [
    "$∴z=e^{\\int\\mathrm {-2y}\\,\\mathrm d y} (\\int\\mathrm {-2y^3}e^{-\\int\\mathrm {-2y}\\,\\mathrm d y}\\,\\mathrm d y+c)=-y^2+ce^{-y^2}+1$"
   ]
  },
  {
   "cell_type": "markdown",
   "metadata": {},
   "source": [
    "$即方程的解为（1-x^2+x^2y^2）e^{y^2}=cx^2$"
   ]
  },
  {
   "cell_type": "markdown",
   "metadata": {},
   "source": [
    "$（16）y=e^{x}+\\int_0^x \\mathrm y(t)\\,\\mathrm d t.$"
   ]
  },
  {
   "cell_type": "markdown",
   "metadata": {},
   "source": [
    "$解：原方程可化为\\frac{\\mathrm d y}{\\mathrm d x}=e^{x}+y$"
   ]
  },
  {
   "cell_type": "markdown",
   "metadata": {},
   "source": [
    "$∵\\frac{\\mathrm d y}{\\mathrm d x}=P(x)y+Q(x)，y=e^{\\int\\mathrm P(x)\\,\\mathrm d x} (\\int\\mathrm Q(x)e^{-\\int\\mathrm P(x)\\,\\mathrm d x}\\,\\mathrm d x+c)$"
   ]
  },
  {
   "cell_type": "markdown",
   "metadata": {},
   "source": [
    "$∴y=e^{x}(\\int\\mathrm e^{x}e^{-x}\\,\\mathrm d x+c)=e^{x}(x+c)$"
   ]
  },
  {
   "cell_type": "markdown",
   "metadata": {},
   "source": [
    "$当x=0时，y=1.可得c=1$"
   ]
  },
  {
   "cell_type": "markdown",
   "metadata": {},
   "source": [
    "$即方程的解为y=e^{x}(x+1)$"
   ]
  },
  {
   "cell_type": "markdown",
   "metadata": {},
   "source": [
    "7.求解下列方程"
   ]
  },
  {
   "cell_type": "markdown",
   "metadata": {},
   "source": [
    "$（3）y^\\prime\\sin x·\\cos x-y-\\sin^3 x=0.$"
   ]
  },
  {
   "cell_type": "markdown",
   "metadata": {},
   "source": [
    "$解：原方程可化为\\frac{\\mathrm d y}{\\mathrm d x}=\\frac{y}{\\sin x \\cos x}+\\frac{\\sin^2 x}{\\cos x}(\\sin x\\neq 0,\\cos x\\neq 0)$"
   ]
  },
  {
   "cell_type": "markdown",
   "metadata": {},
   "source": [
    "$∵\\frac{\\mathrm d y}{\\mathrm d x}=P(x)y+Q(x)，y=e^{\\int\\mathrm P(x)\\,\\mathrm d x} (\\int\\mathrm Q(x)e^{-\\int\\mathrm P(x)\\,\\mathrm d x}\\,\\mathrm d x+c)$"
   ]
  },
  {
   "cell_type": "markdown",
   "metadata": {},
   "source": [
    "$∴y=e^{\\int\\mathrm {\\frac{1}{\\sin x \\cos x}}\\,\\mathrm d x} (\\int\\ \\frac{\\sin^2 x}{\\cos x}e^{-\\int\\mathrm {\\frac{1}{\\sin x \\cos x}}\\,\\mathrm d x}\\,\\mathrm d x+c)=\\tan x(\\int\\ \\frac{\\sin^2 x}{\\cos x}\\cot x\\,\\mathrm d x+c)=\\tan x(-\\cos x+c)$"
   ]
  },
  {
   "cell_type": "markdown",
   "metadata": {},
   "source": [
    "$即原方程的解为y=c\\tan x-\\sin x$"
   ]
  },
  {
   "cell_type": "markdown",
   "metadata": {},
   "source": [
    "# 9月14日"
   ]
  },
  {
   "cell_type": "markdown",
   "metadata": {},
   "source": [
    "1.验证下列方程是恰当微分方程，并求出方程的解："
   ]
  },
  {
   "cell_type": "markdown",
   "metadata": {},
   "source": [
    "$（1）（x^2+y）\\mathrm d x+（x-2y）\\mathrm d y=0;$"
   ]
  },
  {
   "cell_type": "markdown",
   "metadata": {},
   "source": [
    "$解：令M=x^2+y,N=x-2y$"
   ]
  },
  {
   "cell_type": "markdown",
   "metadata": {},
   "source": [
    "$则有\\frac{\\partial M}{\\partial y}=1,\\frac{\\partial N}{\\partial x}=1$"
   ]
  },
  {
   "cell_type": "markdown",
   "metadata": {},
   "source": [
    "$满足M(x,y)\\mathrm d x+N(x,y)\\mathrm d y=\\mathrm d u(x,y)=\\frac{\\partial u}{\\partial x}\\mathrm d x+\\frac{\\partial u}{\\partial y}\\mathrm d y,∴此方程是恰当微分方程$"
   ]
  },
  {
   "cell_type": "markdown",
   "metadata": {},
   "source": [
    "$求u,使它同时满足下列两个方程：\\frac{\\partial u}{\\partial x}=x^2+y,\\frac{\\partial u}{\\partial y}=x-2y$"
   ]
  },
  {
   "cell_type": "markdown",
   "metadata": {},
   "source": [
    "$对上述第一个式子关于x积分，得到u=\\frac{1}{3}x^3+xy+\\varphi (y)$"
   ]
  },
  {
   "cell_type": "markdown",
   "metadata": {},
   "source": [
    "$对上式两端y求导，得到\\frac{\\partial u}{\\partial y}=x+\\varphi^\\prime(y)$"
   ]
  },
  {
   "cell_type": "markdown",
   "metadata": {},
   "source": [
    "$又∵\\frac{\\partial u}{\\partial y}=x-2y，∴\\varphi^\\prime(y)=-2y$"
   ]
  },
  {
   "cell_type": "markdown",
   "metadata": {},
   "source": [
    "$即\\varphi (y)=-y^2$"
   ]
  },
  {
   "cell_type": "markdown",
   "metadata": {},
   "source": [
    "$u=\\frac{1}{3}x^3+xy-y^2$"
   ]
  },
  {
   "cell_type": "markdown",
   "metadata": {},
   "source": [
    "$即原方程的解为\\frac{1}{3}x^3+xy-y^2=c$"
   ]
  },
  {
   "cell_type": "markdown",
   "metadata": {},
   "source": [
    "$（2）（y-3x^2）\\mathrm d x-（4y-x）\\mathrm d y=0.$"
   ]
  },
  {
   "cell_type": "markdown",
   "metadata": {},
   "source": [
    "$解：令M=y-3x^2，N=x-4y$"
   ]
  },
  {
   "cell_type": "markdown",
   "metadata": {},
   "source": [
    "$则有\\frac{\\partial M}{\\partial y}=1,\\frac{\\partial N}{\\partial x}=1$"
   ]
  },
  {
   "cell_type": "markdown",
   "metadata": {},
   "source": [
    "$满足M(x,y)\\mathrm d x+N(x,y)\\mathrm d y=\\mathrm d u(x,y)=\\frac{\\partial u}{\\partial x}\\mathrm d x+\\frac{\\partial u}{\\partial y}\\mathrm d y,∴此方程是恰当微分方程$"
   ]
  },
  {
   "cell_type": "markdown",
   "metadata": {},
   "source": [
    "$求u,使它同时满足下列两个方程：\\frac{\\partial u}{\\partial x}=y-3x^2,\\frac{\\partial u}{\\partial y}=x-4y$"
   ]
  },
  {
   "cell_type": "markdown",
   "metadata": {},
   "source": [
    "$对上述第一个式子关于x积分，得到u=xy-x^3+\\varphi (y)$"
   ]
  },
  {
   "cell_type": "markdown",
   "metadata": {},
   "source": [
    "$对上式两端y求导，得到\\frac{\\partial u}{\\partial y}=x+\\varphi ^\\prime (y)$"
   ]
  },
  {
   "cell_type": "markdown",
   "metadata": {},
   "source": [
    "$又∵\\frac{\\partial u}{\\partial y}=x-4y，∴\\varphi ^\\prime (y)=-4y$"
   ]
  },
  {
   "cell_type": "markdown",
   "metadata": {},
   "source": [
    "$即\\varphi (y)=-2y^2$"
   ]
  },
  {
   "cell_type": "markdown",
   "metadata": {},
   "source": [
    "$u=xy-x^3-2y^2$"
   ]
  },
  {
   "cell_type": "markdown",
   "metadata": {},
   "source": [
    "$即原方程的解为xy-x^3-2y^2=c$"
   ]
  },
  {
   "cell_type": "markdown",
   "metadata": {},
   "source": [
    "$2.变上限求导\\int_{x_0}^x\\mathrm P(t)\\,\\mathrm d t$"
   ]
  },
  {
   "cell_type": "markdown",
   "metadata": {
    "collapsed": true
   },
   "source": [
    "$解：设F(x)=\\int_{x_0}^x\\mathrm P(t)\\,\\mathrm d t$"
   ]
  },
  {
   "cell_type": "markdown",
   "metadata": {},
   "source": [
    "$∵\\frac{F(x+h)-F(x)}{h}=\\frac{1}{h}(\\int_{x_0}^{x+h}\\mathrm P(t)\\,\\mathrm d t-\\int_{x_0}^x\\mathrm P(t))=\\frac{1}{h}\\int_x^{x+h}\\mathrm P(t)\\,\\mathrm d t=P(\\xi)$"
   ]
  },
  {
   "cell_type": "markdown",
   "metadata": {
    "collapsed": true
   },
   "source": [
    "$∴F(x)^\\prime=\\lim_{h\\to 0} \\frac{F(x+h)-F(x)}{h}=\\lim_{h\\to 0} P(\\xi)=P(x)$"
   ]
  },
  {
   "cell_type": "markdown",
   "metadata": {},
   "source": [
    "$即F(x)^\\prime=(\\int_{x_0}^x\\mathrm P(t)\\,\\mathrm d t)^\\prime=P(x)$"
   ]
  },
  {
   "cell_type": "markdown",
   "metadata": {
    "collapsed": true
   },
   "source": [
    "# <font color='red'>A+  19/9 "
   ]
  },
  {
   "cell_type": "code",
   "execution_count": null,
   "metadata": {
    "collapsed": true
   },
   "outputs": [],
   "source": []
  }
 ],
 "metadata": {
  "kernelspec": {
   "display_name": "SageMath 7.3",
   "language": "",
   "name": "sagemath"
  },
  "language_info": {
   "codemirror_mode": {
    "name": "ipython",
    "version": 2
   },
   "file_extension": ".py",
   "mimetype": "text/x-python",
   "name": "python",
   "nbconvert_exporter": "python",
   "pygments_lexer": "ipython2",
   "version": "2.7.10"
  }
 },
 "nbformat": 4,
 "nbformat_minor": 0
}
