{
 "cells": [
  {
   "cell_type": "markdown",
   "metadata": {},
   "source": [
    "常微分方程第二次作业"
   ]
  },
  {
   "cell_type": "markdown",
   "metadata": {},
   "source": [
    "2015750401"
   ]
  },
  {
   "cell_type": "markdown",
   "metadata": {},
   "source": [
    "(4)方程改写为 \\frac{dy}{dx}=\\frac{n}{x}y+e^xx^n$"
   ]
  },
  {
   "cell_type": "markdown",
   "metadata": {},
   "source": [
    "$先求齐次线性微分方程  \\frac{dy}{dx}=\\frac{n}{x}y  $"
   ]
  },
  {
   "cell_type": "markdown",
   "metadata": {},
   "source": [
    "$y=cx^n$"
   ]
  },
  {
   "cell_type": "markdown",
   "metadata": {},
   "source": [
    "$把c看成x的待定函数c(x),y=c(x)x^n$"
   ]
  },
  {
   "cell_type": "markdown",
   "metadata": {},
   "source": [
    "$∴\\frac{dy}{dx}=\\frac{dc(x)}{dx}x^n+nx^{n-1}c(x)$"
   ]
  },
  {
   "cell_type": "markdown",
   "metadata": {},
   "source": [
    "$整理得：\\frac{dc(x)}{dx}=e^x,c(x)=e^x+c1$"
   ]
  },
  {
   "cell_type": "markdown",
   "metadata": {},
   "source": [
    "$∴y=(e^x+c1)x^n$"
   ]
  },
  {
   "cell_type": "markdown",
   "metadata": {},
   "source": [
    "$(15)方程改写为：\\frac{dx}{dy}=xy+x^3y^3$"
   ]
  },
  {
   "cell_type": "markdown",
   "metadata": {},
   "source": [
    "$两边同时乘x^{-3}得：x^{-3}\\frac{dy}{dx}=x^{-2}y+y^3$"
   ]
  },
  {
   "cell_type": "markdown",
   "metadata": {},
   "source": [
    "$设z=x^{-2},dz=-2x^{-3}dx$"
   ]
  },
  {
   "cell_type": "markdown",
   "metadata": {},
   "source": [
    "$∴方程可化为：-\\frac{1}{2}\\frac{dz}{dy}=zy+y^3,\\frac{dz}{dy}=-2zy+-2y^3$"
   ]
  },
  {
   "cell_type": "markdown",
   "metadata": {},
   "source": [
    "$z=e^{-y^2}(∫{-2y^3e^{2y}dx}+c)$"
   ]
  },
  {
   "cell_type": "markdown",
   "metadata": {},
   "source": [
    "$∴x^{-2}=e^{-y^2}(∫{-2y^3e^{2y}dy}+c),$"
   ]
  },
  {
   "cell_type": "markdown",
   "metadata": {},
   "source": [
    "$(16)方程改写为：\\frac{dy}{dx}=e^x+y$"
   ]
  },
  {
   "cell_type": "markdown",
   "metadata": {},
   "source": [
    "$先求齐次线性方程：\\frac{dy}{dx}=y$"
   ]
  },
  {
   "cell_type": "markdown",
   "metadata": {},
   "source": [
    "$y=ce^x$"
   ]
  },
  {
   "cell_type": "markdown",
   "metadata": {},
   "source": [
    "$把c看成x的待定函数y=c(x)e^x$"
   ]
  },
  {
   "cell_type": "markdown",
   "metadata": {},
   "source": [
    "$∴\\frac{dy}{dx}=\\frac{dc(x)}{dx}e^x+e^xc(x)$"
   ]
  },
  {
   "cell_type": "markdown",
   "metadata": {},
   "source": [
    "$整理得：\\frac{c(x)}{dx}=1,c(x)=x$"
   ]
  },
  {
   "cell_type": "markdown",
   "metadata": {},
   "source": [
    "$∴y=xe^x$"
   ]
  },
  {
   "cell_type": "markdown",
   "metadata": {},
   "source": [
    "# <font color='red'> X "
   ]
  },
  {
   "cell_type": "markdown",
   "metadata": {},
   "source": [
    "$7(3)方程改写为\\frac{dy}{dsinx}=\\frac{y}{sinx}+sin^2x$"
   ]
  },
  {
   "cell_type": "markdown",
   "metadata": {},
   "source": [
    "$先求齐次线性微分方程\\frac{dy}{dsinx}=\\frac{y}{sinx}$"
   ]
  },
  {
   "cell_type": "markdown",
   "metadata": {},
   "source": [
    "$y=csinx$"
   ]
  },
  {
   "cell_type": "markdown",
   "metadata": {},
   "source": [
    "$把c看成x的待定函数y=c(sinx)sinx$"
   ]
  },
  {
   "cell_type": "markdown",
   "metadata": {},
   "source": [
    "$∴\\frac{dy}{dsinx}=\\frac{dc(sinx)}{dsinx}sinx+cosxc(sinx)$"
   ]
  },
  {
   "cell_type": "markdown",
   "metadata": {},
   "source": [
    "$c(sinx)=∫[(1-cosx)c(sinx)+sinx]d(sinx)+c$"
   ]
  },
  {
   "cell_type": "markdown",
   "metadata": {},
   "source": [
    "$∴y=(∫[(1-cosx)c(sinx)+sinx]d(sinx)+c)sinx$"
   ]
  },
  {
   "cell_type": "markdown",
   "metadata": {},
   "source": [
    "# <font color='red'>特解？？"
   ]
  },
  {
   "cell_type": "markdown",
   "metadata": {},
   "source": [
    "$1(1)这里M=x^2+y,N=x-2y,这时：\\frac{∂M}{∂y}=1,\\frac{∂N}{∂x}=1$"
   ]
  },
  {
   "cell_type": "markdown",
   "metadata": {},
   "source": [
    "$因此方程是恰当微分方程$"
   ]
  },
  {
   "cell_type": "markdown",
   "metadata": {},
   "source": [
    "$由\\frac{∂u}{∂x}=x^2+y得u=\\frac{1}{3}x^3+xy+φ(y)$"
   ]
  },
  {
   "cell_type": "markdown",
   "metadata": {},
   "source": [
    "$又\\frac{∂u}{∂y}=x+\\frac{dφ(y)}{dy}=x-2y$"
   ]
  },
  {
   "cell_type": "markdown",
   "metadata": {},
   "source": [
    "$∴φ(y)=-y^2$"
   ]
  },
  {
   "cell_type": "markdown",
   "metadata": {},
   "source": [
    "$∴u=\\frac{1}{3}x^3+xy-y^2$"
   ]
  },
  {
   "cell_type": "markdown",
   "metadata": {},
   "source": [
    "$则通解为\\frac{1}{3}x^3+xy-y^2=c$"
   ]
  },
  {
   "cell_type": "markdown",
   "metadata": {},
   "source": [
    "$(2)这里M=y-3x^2,N=x-4y,这时：\\frac{∂M}{∂y}=1,\\frac{∂N}{∂x}=1$$"
   ]
  },
  {
   "cell_type": "markdown",
   "metadata": {},
   "source": [
    "$因此方程是恰当微分方程$"
   ]
  },
  {
   "cell_type": "markdown",
   "metadata": {},
   "source": [
    "$由\\frac{∂u}{∂x}=y-3x^2得u=-x^3+xy+φ(y)$"
   ]
  },
  {
   "cell_type": "markdown",
   "metadata": {},
   "source": [
    "$又\\frac{∂u}{∂y}=x+\\frac{dφ(y)}{dy}=x-4y$"
   ]
  },
  {
   "cell_type": "markdown",
   "metadata": {},
   "source": [
    "$∴φ(y)=-2y^2$"
   ]
  },
  {
   "cell_type": "markdown",
   "metadata": {},
   "source": [
    "$∴u=-x^3+xy-2y^2$"
   ]
  },
  {
   "cell_type": "markdown",
   "metadata": {},
   "source": [
    "$则通解为-x^3+xy-2y^2=c$"
   ]
  },
  {
   "cell_type": "markdown",
   "metadata": {},
   "source": [
    "$证明:设f(x)在[a,b]上连续可积，作函数F(x)=\\int_a^x f(t)dt,x\\in[a,b],则F(x)在[a,b]上可微，且有F'(x)=f(x)$"
   ]
  },
  {
   "cell_type": "markdown",
   "metadata": {},
   "source": [
    "$证:由定积分的区间可加性，F(x+Δx)-F(x)=\\int_a^{x+Δx}f(t)dt-\\int_a^xf(t)dt=\\int_x^{x+Δx}f(t)dt$"
   ]
  },
  {
   "cell_type": "markdown",
   "metadata": {},
   "source": [
    "$由定积分第一中值定理即得到$"
   ]
  },
  {
   "cell_type": "markdown",
   "metadata": {},
   "source": [
    "$F(x+Δx)-F(x)=f(θ)Δx  ,(θ\\in[x,x+Δx])$"
   ]
  },
  {
   "cell_type": "markdown",
   "metadata": {},
   "source": [
    "$当Δx\\rightarrow 0时有θ\\rightarrow x，因而f(θ)\\rightarrow f(x),于是$"
   ]
  },
  {
   "cell_type": "markdown",
   "metadata": {},
   "source": [
    "$F'(x)=lim_{Δx\\rightarrow 0}\\frac{F(x+Δx)-F(x)}{Δx}=lim_{Δx\\rightarrow 0}f(θ)=f(x)$"
   ]
  },
  {
   "cell_type": "markdown",
   "metadata": {
    "collapsed": true
   },
   "source": [
    "# <font color='red'>A  19/9 "
   ]
  },
  {
   "cell_type": "code",
   "execution_count": null,
   "metadata": {
    "collapsed": true
   },
   "outputs": [],
   "source": []
  }
 ],
 "metadata": {
  "kernelspec": {
   "display_name": "Python 2",
   "language": "python",
   "name": "python2"
  },
  "language_info": {
   "codemirror_mode": {
    "name": "ipython",
    "version": 2
   },
   "file_extension": ".py",
   "mimetype": "text/x-python",
   "name": "python",
   "nbconvert_exporter": "python",
   "pygments_lexer": "ipython2",
   "version": "2.7.10"
  }
 },
 "nbformat": 4,
 "nbformat_minor": 0
}
