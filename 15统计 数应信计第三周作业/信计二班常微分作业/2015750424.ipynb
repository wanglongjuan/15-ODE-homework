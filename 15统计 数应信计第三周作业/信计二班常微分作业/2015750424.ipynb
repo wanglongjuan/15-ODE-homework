{
 "cells": [
  {
   "cell_type": "markdown",
   "metadata": {},
   "source": [
    "课本P49 1."
   ]
  },
  {
   "cell_type": "markdown",
   "metadata": {},
   "source": [
    "(4)$\\frac{\\mathrm dy}{\\mathrm dx}-\\frac{\\mathrm n}{\\mathrm x}y=e^xx^n$   (n为常数）;"
   ]
  },
  {
   "cell_type": "markdown",
   "metadata": {},
   "source": [
    "解：设$$p（x）=\\frac{\\mathrm dy}{\\mathrm dx}         Q(x)=e^xx^n$$"
   ]
  },
  {
   "cell_type": "markdown",
   "metadata": {},
   "source": [
    "由$$y=e^{\\int\\mathrm P(X)\\mathrm dx}(\\int\\mathrm Q(x)e^{-\\int\\mathrm P(x)\\mathrm dx}dx+c)$$得"
   ]
  },
  {
   "cell_type": "markdown",
   "metadata": {},
   "source": [
    "$$y=e^{\\int\\mathrm {\\frac{\\mathrm n}{\\mathrm x}}\\mathrm dx}(\\int\\mathrm e^x·x^n·e^{-\\int\\mathrm {\\frac{\\mathrm n}{\\mathrm x}}\\mathrm dx}·dx+c)$$"
   ]
  },
  {
   "cell_type": "markdown",
   "metadata": {},
   "source": [
    "$$=x^n(\\int\\mathrm e^x x^n x^{-n} dx+c)$$"
   ]
  },
  {
   "cell_type": "markdown",
   "metadata": {},
   "source": [
    "$$=(e^x+c)x^n$$"
   ]
  },
  {
   "cell_type": "markdown",
   "metadata": {},
   "source": [
    "（15）$$\\frac{\\mathrm dy}{\\mathrm dx}=\\frac{\\mathrm 1}{\\mathrm xy+x^3y^3} $$"
   ]
  },
  {
   "cell_type": "markdown",
   "metadata": {},
   "source": [
    "解：令$$u=y^2,则\\frac{\\mathrm du}{\\mathrm dx}=\\frac{\\mathrm 2}{\\mathrm x+x^3u}$$"
   ]
  },
  {
   "cell_type": "markdown",
   "metadata": {},
   "source": [
    "若u为自变量，x为变量。则："
   ]
  },
  {
   "cell_type": "markdown",
   "metadata": {},
   "source": [
    "$$\\frac{\\mathrm dx}{\\mathrm du}=\\frac{\\mathrm x}{\\mathrm 2}+\\frac{\\mathrm u}{\\mathrm 2}x^3$$"
   ]
  },
  {
   "cell_type": "markdown",
   "metadata": {},
   "source": [
    "当n=3时，$\\mathrm z=x^{-2}$ 得："
   ]
  },
  {
   "cell_type": "markdown",
   "metadata": {},
   "source": [
    "$$\\frac{\\mathrm dz}{\\mathrm du}=-2x^{-3}\\frac{\\mathrm dx}{\\mathrm du}$$"
   ]
  },
  {
   "cell_type": "markdown",
   "metadata": {},
   "source": [
    " 代入$$\\frac{\\mathrm dx}{\\mathrm du}=\\frac{\\mathrm x}{\\mathrm 2}+\\frac{\\mathrm u}{\\mathrm 2}x^3$$"
   ]
  },
  {
   "cell_type": "markdown",
   "metadata": {},
   "source": [
    "得：$$\\frac{\\mathrm dz}{\\mathrm du}=-z-u$$"
   ]
  },
  {
   "cell_type": "markdown",
   "metadata": {},
   "source": [
    "因而通解为：$$z=e^{\\int\\mathrm { -1\\mathrm du} }(\\int \\mathrm (-u)e^{\\int\\mathrm 1\\mathrm du} du+c)$$"
   ]
  },
  {
   "cell_type": "markdown",
   "metadata": {},
   "source": [
    "即 ：$$z=ce^{-u}-u+1$$"
   ]
  },
  {
   "cell_type": "markdown",
   "metadata": {},
   "source": [
    "把$z=x^{-2},u=y^2$代入得;"
   ]
  },
  {
   "cell_type": "markdown",
   "metadata": {},
   "source": [
    "$$x^2(ce^{-y^2}-y^2+1)=1$$"
   ]
  },
  {
   "cell_type": "markdown",
   "metadata": {},
   "source": [
    "或：$$\\frac{\\mathrm 1}{\\mathrm x^2}=ce^{-y^2}-y^2+1$$"
   ]
  },
  {
   "cell_type": "markdown",
   "metadata": {},
   "source": [
    "(16)$y=e^x+\\int_0^x\\mathrm y(t)\\mathrm dt$"
   ]
  },
  {
   "cell_type": "markdown",
   "metadata": {},
   "source": [
    "解：两边对x求导得："
   ]
  },
  {
   "cell_type": "markdown",
   "metadata": {},
   "source": [
    "$$\\frac{\\mathrm dy}{\\mathrm dx}=e^x+y$$"
   ]
  },
  {
   "cell_type": "markdown",
   "metadata": {},
   "source": [
    "由公式可得;$$y=e^x(\\int\\mathrm e^x e^{-x}dx+c)$$"
   ]
  },
  {
   "cell_type": "markdown",
   "metadata": {},
   "source": [
    "即：$$y=e^x(x+c)$$"
   ]
  },
  {
   "cell_type": "markdown",
   "metadata": {},
   "source": [
    "当x=0时，由原方程得：$$y=e^0+\\int_0^0\\mathrm y(t)\\mathrm dt=1$$"
   ]
  },
  {
   "cell_type": "markdown",
   "metadata": {},
   "source": [
    "所以求得c=1"
   ]
  },
  {
   "cell_type": "markdown",
   "metadata": {},
   "source": [
    "即方程的解为：$$y=e^x(x+1)$$"
   ]
  },
  {
   "cell_type": "markdown",
   "metadata": {},
   "source": [
    "7.（3）$y'sinxcosx-y-sin^3x=0$"
   ]
  },
  {
   "cell_type": "markdown",
   "metadata": {},
   "source": [
    "原方程转化得：$$\\frac{\\mathrm dy}{\\mathrm dx}=\\frac{\\mathrm 1}{\\mathrm sinxcosx}y+\\frac{\\mathrm sin^2x}{\\mathrm cosx}(sinx≠0,cosx≠0)$$"
   ]
  },
  {
   "cell_type": "markdown",
   "metadata": {},
   "source": [
    "由公式得：$$y=tanx(\\int\\frac {\\mathrm sin^2x}{\\mathrm cosx}\\mathrm cotx \\mathrm dx+c)$$"
   ]
  },
  {
   "cell_type": "markdown",
   "metadata": {},
   "source": [
    "化简得：$y=tanx(-cosx+c)$"
   ]
  },
  {
   "cell_type": "markdown",
   "metadata": {},
   "source": [
    "或;$y=ctanx-sinx$"
   ]
  },
  {
   "cell_type": "markdown",
   "metadata": {},
   "source": [
    "所以方程的解为：$y=ctanx-sinx (x)(x≠kπ±\\frac{\\mathrm π}{\\mathrm 2})或者点（2kπ+\\frac{\\mathrm π}{\\mathrm 2},-1），(2kπ-\\frac{\\mathrm π}{\\mathrm 2},1),k=0,±1,±2,……$。"
   ]
  },
  {
   "cell_type": "markdown",
   "metadata": {},
   "source": [
    "P60 1."
   ]
  },
  {
   "cell_type": "markdown",
   "metadata": {},
   "source": [
    "(1)    $(x^2+y)dx+(x-2y)dy=0$"
   ]
  },
  {
   "cell_type": "markdown",
   "metadata": {},
   "source": [
    "解：因为$M=x^2+y,N=x-2y$ 且$\\frac{\\partial M}{\\partial y}=1,\\frac{\\partial N}{\\partial x}=1$"
   ]
  },
  {
   "cell_type": "markdown",
   "metadata": {},
   "source": [
    "所以方程是恰当微分方程。"
   ]
  },
  {
   "cell_type": "markdown",
   "metadata": {},
   "source": [
    "现要求u使它满足$\\frac{\\partial u}{\\partial x}=x^2+y,\\frac{\\partial u}{\\partial y}=x-2y$"
   ]
  },
  {
   "cell_type": "markdown",
   "metadata": {},
   "source": [
    "对$\\frac{\\partial u}{\\partial x}=x^2+y$求x积分得："
   ]
  },
  {
   "cell_type": "markdown",
   "metadata": {},
   "source": [
    "$$u=\\frac{\\mathrm 1}{\\mathrm 3}x^3+xy+φ(y)$$"
   ]
  },
  {
   "cell_type": "markdown",
   "metadata": {},
   "source": [
    "两边对y求导得:$$\\frac{\\partial u}{\\partial y}=x+φ'(y)$$"
   ]
  },
  {
   "cell_type": "markdown",
   "metadata": {},
   "source": [
    "又由$\\frac{\\partial u}{\\partial y}=x-2y$可知：$φ'(y)=-2y$"
   ]
  },
  {
   "cell_type": "markdown",
   "metadata": {},
   "source": [
    "即$φ(y）=-y^2$"
   ]
  },
  {
   "cell_type": "markdown",
   "metadata": {},
   "source": [
    "所以$$u=\\frac{\\mathrm 1}{\\mathrm 3}x^3+xy-y^2$$"
   ]
  },
  {
   "cell_type": "markdown",
   "metadata": {},
   "source": [
    "原方程的通解为：$$\\frac{\\mathrm 1}{\\mathrm 3}x^3+xy-y^2=c$$"
   ]
  },
  {
   "cell_type": "markdown",
   "metadata": {},
   "source": [
    "(2)$(y-3y^2)dx-(4y-x)dy=0$"
   ]
  },
  {
   "cell_type": "markdown",
   "metadata": {},
   "source": [
    "解：因为$M=y-3x^2,N=x-4y$ 且$\\frac{\\partial M}{\\partial y}=1,\\frac{\\partial N}{\\partial x}=1$"
   ]
  },
  {
   "cell_type": "markdown",
   "metadata": {},
   "source": [
    "所以方程是恰当微分方程。"
   ]
  },
  {
   "cell_type": "markdown",
   "metadata": {},
   "source": [
    "现要求u使它满足$\\frac{\\partial u}{\\partial x}=y-3x^2,\\frac{\\partial u}{\\partial y}=x-4y$"
   ]
  },
  {
   "cell_type": "markdown",
   "metadata": {},
   "source": [
    "对$\\frac{\\partial u}{\\partial x}=y-3x^2$求x积分得："
   ]
  },
  {
   "cell_type": "markdown",
   "metadata": {},
   "source": [
    "$$u=xy-x^3+φ(y)$$"
   ]
  },
  {
   "cell_type": "markdown",
   "metadata": {},
   "source": [
    "两边对y求导得：$$\\frac{\\partial u}{\\partial y}=x+φ'(y)$$"
   ]
  },
  {
   "cell_type": "markdown",
   "metadata": {},
   "source": [
    "又由$\\frac{\\partial u}{\\partial y}=x-4y$可知：$φ'(y)=-4y$"
   ]
  },
  {
   "cell_type": "markdown",
   "metadata": {},
   "source": [
    "所以$φ(y)=-2y^2$"
   ]
  },
  {
   "cell_type": "markdown",
   "metadata": {},
   "source": [
    "$u=xy-x^3-2y^2$"
   ]
  },
  {
   "cell_type": "markdown",
   "metadata": {},
   "source": [
    "方程的通解为：$xy-x^3-2y^2=c$"
   ]
  },
  {
   "cell_type": "markdown",
   "metadata": {
    "collapsed": true
   },
   "source": [
    "变上限求导："
   ]
  },
  {
   "cell_type": "markdown",
   "metadata": {},
   "source": [
    "$$\\int_x0^x\\mathrm P(t)\\mathrm dt$$"
   ]
  },
  {
   "cell_type": "markdown",
   "metadata": {},
   "source": [
    "解：$$\\int_x0^x\\mathrm P(t)\\mathrm dt=P(x)-P(x0)$$"
   ]
  },
  {
   "cell_type": "markdown",
   "metadata": {
    "collapsed": true
   },
   "source": [
    "# <font color='red'>A + 19/9 "
   ]
  },
  {
   "cell_type": "code",
   "execution_count": null,
   "metadata": {
    "collapsed": true
   },
   "outputs": [],
   "source": []
  }
 ],
 "metadata": {
  "kernelspec": {
   "display_name": "SageMath 7.3",
   "language": "",
   "name": "sagemath"
  },
  "language_info": {
   "codemirror_mode": {
    "name": "ipython",
    "version": 2
   },
   "file_extension": ".py",
   "mimetype": "text/x-python",
   "name": "python",
   "nbconvert_exporter": "python",
   "pygments_lexer": "ipython2",
   "version": "2.7.10"
  }
 },
 "nbformat": 4,
 "nbformat_minor": 0
}
