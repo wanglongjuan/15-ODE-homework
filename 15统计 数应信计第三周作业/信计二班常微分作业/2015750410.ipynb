{
 "cells": [
  {
   "cell_type": "raw",
   "metadata": {},
   "source": [
    "{\n",
    " \"cells\": [\n",
    "  {\n",
    "   \"cell_type\": \"markdown\",\n",
    "   \"metadata\": {},\n",
    "   \"source\": [\n",
    "    \"$$1(4):\\\\frac{dy}{dx}-\\\\frac{n}{x}y=e^xx^n$$\\n\",\n",
    "    \"$$该方程为一阶线性微分方程，可改写为\\\\frac{dy}{dx}=\\\\frac{n}{x}y+e^xx^n$$\\n\",\n",
    "    \"$$其中P（x）为\\\\frac{n}{x},Q(x)=e^xx^n$$\\n\",\n",
    "    \"$$根据常数变易法求解公式可得：y=e^{\\\\int{P(x)}dx}(\\\\int{Q(x)e^{\\\\int{-P(x)}d(x)}}+c)$$\\n\",\n",
    "    \"$$解得y=x^n(e^x+c)$$\"\n",
    "   ]\n",
    "  },"
   ]
  },
  {
   "cell_type": "code",
   "execution_count": null,
   "metadata": {
    "collapsed": true
   },
   "outputs": [],
   "source": [
    " {\n",
    "   \"cell_type\": \"markdown\",\n",
    "   \"metadata\": {},\n",
    "   \"source\": [\n",
    "    \"$$1(15):方程可以改写为伯努利微分方程\\\\frac{dx}{dy}=xy+x^3y^3$$\\n\",\n",
    "    \"$$其中x是关于y的函数，方程两边同时乘以y^{-3},令z=x^{-2}$$\\n\",\n",
    "    \"$$所以方程可以变为-\\\\frac{dz}{2dy}=zy+y^3，这就是z关于y的一阶线性微分方程$$\\n\",\n",
    "    \"$$根据求解公式得到x^2(ce^{-y^2}-y^2+1)=1$$\"\n",
    "   ]\n",
    "  },"
   ]
  },
  {
   "cell_type": "code",
   "execution_count": null,
   "metadata": {
    "collapsed": true
   },
   "outputs": [],
   "source": [
    "{\n",
    "   \"cell_type\": \"markdown\",\n",
    "   \"metadata\": {},\n",
    "   \"source\": [\n",
    "    \"$$1(16)方程两边求导得，y'=e^x+y,可以看作为P（x）=1，Q（x）=e^x的一阶线性微分方程$$\\n\",\n",
    "    \"$$根据求解公式得y=e^x(x+c)$$\"\n",
    "   ]\n",
    "  },"
   ]
  },
  {
   "cell_type": "code",
   "execution_count": null,
   "metadata": {
    "collapsed": true
   },
   "outputs": [],
   "source": [
    " {\n",
    "   \"cell_type\": \"markdown\",\n",
    "   \"metadata\": {},\n",
    "   \"source\": [\n",
    "    \"$$7(3):方程可以写为y'=\\\\frac{y}{sinxcosx}+\\\\frac{sin^2x}{cosx}$$\\n\",\n",
    "    \"$$这就是一阶线性微分方程,P(x)=\\\\frac{sin^2x}{cosx},Q(x)=\\\\frac{1}{sinxcosx}根据求解公式得y=ctanx-sinx(x不等于kπ+\\\\frac{π}{2})$$\"\n",
    "   ]\n",
    "  },"
   ]
  },
  {
   "cell_type": "code",
   "execution_count": null,
   "metadata": {
    "collapsed": true
   },
   "outputs": [],
   "source": [
    " {\n",
    "   \"cell_type\": \"markdown\",\n",
    "   \"metadata\": {},\n",
    "   \"source\": [\n",
    "    \"$$1(1):M=x^2+y,N=x-2y,\\\\frac{\\\\partial M}{\\\\partial y}=1,\\\\frac{\\\\partial N}{\\\\partial x}=1,所以该方程式恰当微分方程。$$\\n\",\n",
    "    \"$$因为\\\\frac{\\\\partial u}{\\\\partial x}=x^2+y,所以u=\\\\frac{x^3}{3}+xy+y(x)$$\\n\",\n",
    "    \"$$\\\\frac{\\\\partial u}{\\\\partial y}=x+y'(x)=x-2y,所以y'(x)=-2y,y(x)=-y^2$$\\n\",\n",
    "    \"$$将其带入u，可得通解为\\\\frac{x^3}{3}+xy-y^2=c，c为任意常数$$\"\n",
    "   ]\n",
    "  },"
   ]
  },
  {
   "cell_type": "code",
   "execution_count": null,
   "metadata": {
    "collapsed": true
   },
   "outputs": [],
   "source": [
    " {\n",
    "   \"cell_type\": \"markdown\",\n",
    "   \"metadata\": {},\n",
    "   \"source\": [\n",
    "    \"$$1(2):M=y-3x^2,N=x-4y,\\\\frac{\\\\partial M}{\\\\partial y}=1,\\\\frac{\\\\partial N}{\\\\partial x}=1,所以该方程为恰当微分方程。$$\\n\",\n",
    "    \"$$因为\\\\frac{\\\\partial u}{\\\\partial x}=y-3x^2,所以u=xy-x^3+y(x)$$\\n\",\n",
    "    \"$$\\\\frac{\\\\partial u}{\\\\partial y}=x+y'(x)=x-4y,所以y(x)=-2y^2$$\\n\",\n",
    "    \"$$代入u，可得通解xy-x^3-2y^2=c,c为任意常数$$\"\n",
    "   ]\n",
    "  },"
   ]
  },
  {
   "cell_type": "code",
   "execution_count": null,
   "metadata": {
    "collapsed": true
   },
   "outputs": [],
   "source": [
    " {\n",
    "   \"cell_type\": \"markdown\",\n",
    "   \"metadata\": {},\n",
    "   \"source\": [\n",
    "    \"$$变上限求导\\\\int_{x0}^xp(t)dt$$\\n\",\n",
    "    \"$$设P（x）是p（x）的原函数，则\\\\int_{x0}^xp(t)dt=P(x)-P(x0)$$\\n\",\n",
    "    \"$$因为P（x0）是常数，所以对\\\\int_{xo}{x}p(t)dt求导即为对P(x)求导$$\\n\",\n",
    "    \"$$因为P'(x)=p(x),所以p(x)即为解$$\\n\"\n",
    "   ]\n",
    "  },"
   ]
  },
  {
   "cell_type": "code",
   "execution_count": null,
   "metadata": {
    "collapsed": true
   },
   "outputs": [],
   "source": [
    "{\n",
    "   \"cell_type\": \"code\",\n",
    "   \"execution_count\": null,\n",
    "   \"metadata\": {\n",
    "    \"collapsed\": true\n",
    "   },\n",
    "   \"outputs\": [],\n",
    "   \"source\": []\n",
    "  }"
   ]
  },
  {
   "cell_type": "code",
   "execution_count": null,
   "metadata": {
    "collapsed": true
   },
   "outputs": [],
   "source": [
    "{\n",
    "   \"cell_type\": \"code\",\n",
    "   \"execution_count\": null,\n",
    "   \"metadata\": {\n",
    "    \"collapsed\": true\n",
    "   },\n",
    "   \"outputs\": [],\n",
    "   \"source\": []\n",
    "  }\n",
    " ],\n",
    " \"metadata\": {\n",
    "  \"kernelspec\": {\n",
    "   \"display_name\": \"SageMath 7.2\",\n",
    "   \"language\": \"\",\n",
    "   \"name\": \"sagemath\"\n",
    "  },\n",
    "  \"language_info\": {\n",
    "   \"codemirror_mode\": {\n",
    "    \"name\": \"ipython\",\n",
    "    \"version\": 2\n",
    "   },\n",
    "   \"file_extension\": \".py\",\n",
    "   \"mimetype\": \"text/x-python\",\n",
    "   \"name\": \"python\",\n",
    "   \"nbconvert_exporter\": \"python\",\n",
    "   \"pygments_lexer\": \"ipython2\",\n",
    "   \"version\": \"2.7.10\"\n",
    "  }\n",
    " },\n",
    " \"nbformat\": 4,\n",
    " \"nbformat_minor\": 0\n",
    "}"
   ]
  },
  {
   "cell_type": "markdown",
   "metadata": {},
   "source": [
    "# <font color='red'>C    19/9作业是什么东西"
   ]
  },
  {
   "cell_type": "code",
   "execution_count": null,
   "metadata": {
    "collapsed": true
   },
   "outputs": [],
   "source": []
  }
 ],
 "metadata": {
  "kernelspec": {
   "display_name": "SageMath 7.3",
   "language": "",
   "name": "sagemath"
  },
  "language_info": {
   "codemirror_mode": {
    "name": "ipython",
    "version": 2
   },
   "file_extension": ".py",
   "mimetype": "text/x-python",
   "name": "python",
   "nbconvert_exporter": "python",
   "pygments_lexer": "ipython2",
   "version": "2.7.10"
  }
 },
 "nbformat": 4,
 "nbformat_minor": 0
}
