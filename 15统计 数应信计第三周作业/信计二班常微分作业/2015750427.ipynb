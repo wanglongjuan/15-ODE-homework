{
 "cells": [
  {
   "cell_type": "markdown",
   "metadata": {},
   "source": [
    "1、求下列方程的解：\n",
    "\n",
    "（1）$\\frac{dy}{dx}-\\frac{n}{x}y=e^xx^n$（n为常数）；\n",
    "\n",
    "（2）$\\frac{dy}{dx}=\\frac{1}{xy+x^3y^3}$;\n",
    "\n",
    "（3）$y=e^x+\\int_0^x y(t) {\\rm d}t$."
   ]
  },
  {
   "cell_type": "markdown",
   "metadata": {},
   "source": [
    "解：\n",
    "（1）原方程可化为 $$\\frac{dy}{dx}=\\frac{x}{n}y+e^xx^n$$\n",
    "$$y=e^{\\int_x^n {\\rm d}x}(\\int e^xx^ne^{-\\int_x^n {\\rm d}x}+c) \\\\=x^n(e^x+c) 是原方程的解$$\n",
    "（2）$\\frac{dx}{dy}=yx+y^3x^3$  这是$n=3$时的伯努利方程.\n",
    "   \n",
    "   两边同时除以$x^3$  $$\\frac{1}{x^3}\\frac{dx}{dy}=\\frac{y}{x^2}+y^3$$\n",
    "   令$x^{-2}=z$,则$$\\frac{dz}{dy}=-2x^{-3}\\frac{dx}{dy}$$\n",
    "   $$\\frac{dz}{dy}=-\\frac{2y}{x^2}-2y^3=-2yz-2y^3 \\ P(y)=-2y$$\n",
    "   \n",
    "   由一阶线性方程的求解公式\n",
    "  \n",
    "  $$z=e^{\\int-2ydy}(\\int-2y^3e^{-\\int-2ydy}dy+c \\\\=e^{-y^2}(-\\int2y^3e^{y^2}dy+c) \\\\=-y^2+1+ce^{-y^2}$$\n",
    "  $$x^2(-y^2+1+ce^{-y^2})=1 \\\\ x^2e^{y^2}(-y^2+1+ce^{-y^2})=e^{y^2} \\\\ e^{y^2}(1-x^2+x^2y^2)=cx^2$$\n",
    " （3）$y=e^x+\\int_0^x y(t) {\\rm d}t \\\\ \\frac{dy}{dx}=e^x+y(x) \\\\ \\frac{dy}{dx}=y+e^x$\n",
    " \n",
    " $P(x)=1 \\ \\ \\ \\ \\ \\ Q(x)=e^x \\\\  由一阶线性方程的求解公式$\n",
    " $$y=e^{\\int1dx}(\\int e^xe^{\\int1dx}dx+c) \\\\ =e^x(\\int e^xe^{-x}dx+c) \\\\ =e^x(x+c)$$\n",
    " $$e^x(x+c)=e^x+\\int_0^x e^x(x+c) {\\rm d}x \\\\ c=1 \\\\ y=e^x(x+c)$$"
   ]
  },
  {
   "cell_type": "markdown",
   "metadata": {},
   "source": [
    "# <font color='red'>特解？？"
   ]
  },
  {
   "cell_type": "markdown",
   "metadata": {},
   "source": [
    "2、求解下列方程：\n",
    "\n",
    "（1）$y'sinx·cosx-y-sin^3x=0$"
   ]
  },
  {
   "cell_type": "markdown",
   "metadata": {},
   "source": [
    "解：$$\\frac{dy}{dx}=\\frac{y}{sinxcocx}+\\frac{sin^2x}{cosx}$$\n",
    "\n",
    "$P(x)=\\frac{1}{siinxcosx} \\ \\ \\ Q(x)=\\frac{sin^2x}{cosx} \\\\ 由一阶线性方程的求解公式$\n",
    "$$y=e^{\\int \\frac{1}{sinxcosx}dx}(\\int \\frac{sin^2x}{cosx}e^{-\\int \\frac{1}{sinxcosx}dx}dx+c) \\\\=\\frac{sinx}{cosx}(\\int sinxdx+c) \\\\=\\frac{sinx}{cosx}(cosx+c) \\\\=sinx+ctanx$$"
   ]
  },
  {
   "cell_type": "markdown",
   "metadata": {},
   "source": [
    "# <font color='red'>特解？？"
   ]
  },
  {
   "cell_type": "markdown",
   "metadata": {},
   "source": [
    "3、验证下列方程是恰当方程，并求出方程的解：\n",
    "\n",
    "（1）$(x^2+y)dx+(x-2y)dy=0$;\n",
    "\n",
    "（2）$(y-3x^2)dx-(4y-x)dy=0$;"
   ]
  },
  {
   "cell_type": "markdown",
   "metadata": {},
   "source": [
    "解：（1）$\\frac{\\partial M}{\\partial y}=1 \\ ,\\  \\frac{\\partial N}{\\partial x}=1 \\\\ 则\\ \\ \\ \\frac{\\partial M}{\\partial y}=\\frac{\\partial N}{\\partial x} \\\\ 所以此方程是恰当方程. \\\\ 凑微分，\\ \\ \\ x^2dx-2ydy+(ydx+xdy)=0 \\\\ 得：\\ \\ \\ \\frac{1}{3}x^3+xy-y^2=C$\n",
    "\n",
    "（2）$ \\ \\ \\frac{\\partial M}{\\partial y}=1 \\ , \\ \\frac{\\partial N}{\\partial x}=1 \\\\ \\\\ 则\\ \\ \\frac{\\partial M}{\\partial y}=\\frac{\\partial N}{\\partial x} \\\\ 所以此方程为恰当方程 \\\\凑微分，\\ \\ \\ ydx+xdy-3x^2dx-4ydy=0 \\\\ 得：\\ \\ \\ x^3-xy+2y^2=C$"
   ]
  },
  {
   "cell_type": "markdown",
   "metadata": {},
   "source": [
    "4、变上限求导$\\int_{x_0}^x p(t) {\\rm d}t$"
   ]
  },
  {
   "cell_type": "markdown",
   "metadata": {},
   "source": [
    "解：因为$\\int_{x_0}^x p(t) {\\rm d}t=\\int_0^x p(t) {\\rm d}t-\\int_0^{x_0} p(t) {\\rm d}t \\\\ 其中 \\ \\int_0^{x_0} p(t) {\\rm d}t \\ 为常数，\\\\ 对 \\ \\int_0^x p(t) {\\rm d}t,变上限求导可得 \\ \\ (\\int_0^x p(t) {\\rm d}t)'=p(x), \\\\ 所以 \\ \\ \\int_{x_0}^x p(t) {\\rm d}t=p(x)$"
   ]
  },
  {
   "cell_type": "markdown",
   "metadata": {
    "collapsed": true
   },
   "source": [
    "# <font color='red'>A  19/9 "
   ]
  },
  {
   "cell_type": "code",
   "execution_count": null,
   "metadata": {
    "collapsed": true
   },
   "outputs": [],
   "source": []
  }
 ],
 "metadata": {
  "kernelspec": {
   "display_name": "SageMath 7.3",
   "language": "",
   "name": "sagemath"
  },
  "language_info": {
   "codemirror_mode": {
    "name": "ipython",
    "version": 2
   },
   "file_extension": ".py",
   "mimetype": "text/x-python",
   "name": "python",
   "nbconvert_exporter": "python",
   "pygments_lexer": "ipython2",
   "version": "2.7.10"
  }
 },
 "nbformat": 4,
 "nbformat_minor": 0
}
