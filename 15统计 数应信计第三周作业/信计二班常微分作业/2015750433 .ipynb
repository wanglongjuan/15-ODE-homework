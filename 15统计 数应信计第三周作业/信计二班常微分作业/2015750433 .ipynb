{
 "cells": [
  {
   "cell_type": "markdown",
   "metadata": {},
   "source": [
    "1.求下列方程的解：\n",
    "\n",
    "$（4）\\frac{\\mathrm dy}{\\mathrm dx}-\\frac{n}{x}y=e^xx^n(n为常数)$\n",
    "\n",
    "$（15）\\frac{\\mathrm dy}{\\mathrm dx}=\\frac{1}{xy+x^3y^3}$\n",
    "\n",
    "$（16）y=e^x+\\int_0^xy(t)\\mathrm dt$\n",
    "\n",
    "$解：（1）求齐次线性微分方程\\frac{\\mathrm dy}{\\mathrm dx}-\\frac{n}{x}y=0的通解,y=cx^n$\n",
    "\n",
    "$再用常数变易法，把c看成x的待定函数c(x),即y=c(x)x^n$\n",
    "\n",
    "$微分得到\\frac{\\mathrm dy}{\\mathrm dx}=\\frac{\\mathrm dc(x)}{\\mathrm dx}x^n+nx^{n-1}c(x)$\n",
    "\n",
    "$代入，得\\frac{\\mathrm dc(x)}{\\mathrm dx}=e^x$\n",
    "\n",
    "$积分，得c(x)=3^x+c$\n",
    "\n",
    "$∴原方程的通解为y=x^n(e^x+c),c为任意常数$\n",
    "\n",
    "$(15)令u=y^2,则\\frac{\\mathrm du}{\\mathrm dx}=\\frac{2}{x+x^3u}$\n",
    "\n",
    "$\\frac{\\mathrm dx}{\\mathrm du}=\\frac{x}{2}+\\frac{u}{2}x^3$\n",
    "\n",
    "$令z=x^{-2},则\\frac{\\mathrm dz}{\\mathrm du}=-2x^{-3}\\frac{\\mathrm dx}{\\mathrm du}=-z-u$\n",
    "\n",
    "$由常数变易法得通解为z=e^{\\int-1\\mathrm du}(\\int(-u)e^{\\int \\mathrm du}\\mathrm du+c)=ce^{-u}-u+1$\n",
    "\n",
    "$∴原方程的通解为x^2(ce^{-y^2}-y^2+1)=1$\n",
    "\n",
    "$(16)\\frac{\\mathrm dy}{\\mathrm dx}=e^x+y$\n",
    "\n",
    "$求通解为y=e^x(\\int e^xe^{-x}\\mathrm dx+c)=e^x(x+c)$\n",
    "\n",
    "$当x=0时,y=e^0+\\int_0^0y(t)\\mathrm dt=1,∴c=1$\n",
    "\n",
    "$原方程的解为y=e^x(x+1)$"
   ]
  },
  {
   "cell_type": "markdown",
   "metadata": {},
   "source": [
    "2.求解方程：$y'\\sin x\\cos x-y-\\sin^3x=0$\n",
    "\n",
    "$解：\\frac{\\mathrm dy}{\\mathrm dx}=\\frac{1}{\\sin x\\cos x}y+\\frac{\\sin^2x}{\\cos x}(\\sin x\\neq0,\\cos x\\neq0)$\n",
    "\n",
    "$常数变易法得通解为y=\\tan x(\\int \\frac{\\sin^2x}{\\cos x}\\cot x\\mathrm dx+c)=c\\tan x-\\sin x$\n",
    "\n",
    "$当\\sin x=0时，原方程为y=0$\n",
    "\n",
    "$当\\cos x=0时，原方程化为y=-\\sin^3x=_-^+1$\n",
    "\n",
    "$∴原方程的解为y=c\\tan x-\\sin x,(x\\neq k\\pi _-^+\\frac{\\pi}{2})$"
   ]
  },
  {
   "cell_type": "markdown",
   "metadata": {},
   "source": [
    "3.验证下列方程是恰当微分方程，并求出方程的解：\n",
    "\n",
    "$(1)(x^2+y)\\mathrm dx+(x-2y)\\mathrm dy=0$\n",
    "\n",
    "$(2)(y-3x^2)\\mathrm dx-(4y-x)\\mathrm dy=0$\n",
    "\n",
    "$解：（1）这里M=x^2+y，N=x-2y,则\\frac{\\partial M}{\\partial y}=1,\\frac{\\partial N}{\\partial x}=1$\n",
    "\n",
    "$使u满足\\frac{\\partial u}{\\partial x}=x^2+y,\\frac{\\partial u}{\\partial y}=x-2y$\n",
    "\n",
    "$积分得u=\\frac{1}{3}x^3+xy+\\varphi(y),再求导得\\frac{\\partial u}{\\partial y}=x+\\varphi'(y)$\n",
    "\n",
    "$∴\\varphi'(y)=-2y,积分得\\varphi(y)=-y^2$\n",
    "\n",
    "$∴u=\\frac{1}{3}x^3+xy-y^2$\n",
    "\n",
    "$即原方程的通解为\\frac{1}{3}x^3+xy-y^2=c，c为任意常数$\n",
    "\n",
    "$(2)这里M=y-3x^2,N=x-4y,则\\frac{\\partial M}{\\partial y}=1,\\frac{\\partial N}{\\partial x}=1$\n",
    "\n",
    "$使u满足\\frac{\\partial u}{\\partial x}=y-3x^2,\\frac{\\partial u}{\\partial y}=x-4y$\n",
    "\n",
    "$积分得u=xy-x^3+\\varphi(y),再求导得\\frac{\\partial u}{\\partial y}=x+\\varphi'(y)=x-4y$\n",
    "\n",
    "$∴\\varphi'(y)=-4y,积分得\\varphi(y)=-2y^2$\n",
    "\n",
    "$∴u=xy-x^3-2y^2$\n",
    "\n",
    "$原方程的通解为xy-x^3-2y^2=c，c为任意常数$"
   ]
  },
  {
   "cell_type": "markdown",
   "metadata": {},
   "source": [
    "4.变上限求导$\\int_{x_0}^xP(t)\\mathrm dt$\n",
    "\n",
    "$解：设F(x)=\\int_{x_0}^xP(t)\\mathrm dt$\n",
    "\n",
    "$∵\\frac{F(x+h)-F(x)}{h}=\\frac{1}{h}(\\int_{x_0}^{x+h}P(t)\\mathrm dt-\\int_{x_0}^xP(t))=\\frac{1}{h}\\int_x^{x+h}P(t)\\mathrm dt=P(\\xi)$\n",
    "\n",
    "$∴F(x)'=\\lim_{h\\to 0} \\frac{F(x+h)-F(x)}{h}=\\lim_{h\\to 0} P(\\xi)=P(x)$\n",
    "\n",
    "$即F(x)'=(\\int_{x_0}^xP(t)\\mathrm dt)'=P(x)$"
   ]
  },
  {
   "cell_type": "markdown",
   "metadata": {},
   "source": [
    "# <font color='red'>A  19/9 "
   ]
  },
  {
   "cell_type": "code",
   "execution_count": null,
   "metadata": {
    "collapsed": true
   },
   "outputs": [],
   "source": []
  }
 ],
 "metadata": {
  "kernelspec": {
   "display_name": "SageMath 7.3",
   "language": "",
   "name": "sagemath"
  },
  "language_info": {
   "codemirror_mode": {
    "name": "ipython",
    "version": 2
   },
   "file_extension": ".py",
   "mimetype": "text/x-python",
   "name": "python",
   "nbconvert_exporter": "python",
   "pygments_lexer": "ipython2",
   "version": "2.7.10"
  }
 },
 "nbformat": 4,
 "nbformat_minor": 0
}
