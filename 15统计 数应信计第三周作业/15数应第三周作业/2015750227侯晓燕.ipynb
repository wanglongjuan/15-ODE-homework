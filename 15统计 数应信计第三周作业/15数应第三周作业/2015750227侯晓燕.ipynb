{
 "cells": [
  {
   "cell_type": "markdown",
   "metadata": {},
   "source": [
    "1.$求下列方程的解：$\n",
    "\n",
    "（15）$\\frac{dy}{dx}=\\frac{1}{xy+x^3y^3}$\n",
    "\n",
    "(16)$y=e^x+\\int_0^x\\mathrm y(t)\\,\\mathrm {d}t$"
   ]
  },
  {
   "cell_type": "markdown",
   "metadata": {},
   "source": [
    "解：（15）$\\frac{dx}{dy}=xy+x^3y^3$\n",
    "\n",
    "$令z=x^{-3}$\n",
    "\n",
    "$$\\frac{dz}{dx}=-2x^{-3}\\frac{dx}{dy}$$\n",
    "\n",
    "$$\\frac{dz}{dx}=-2x^{-3}(xy+x^3y^3)$$\n",
    "\n",
    "$$\\frac{dz}{dx}=-2z^{\\frac{2}{3}}y-2y^3$$\n",
    "\n",
    "先求方程$\\frac{dz}{dy}=-2z^{\\frac{2}{3}}y$的解\n",
    "\n",
    "$分离变量，得$\n",
    "\n",
    "$$z^{-\\frac{2}{3}}dz=-2ydy$$\n",
    "\n",
    "两边同时积分，得\n",
    "\n",
    "$$3z^{\\frac{1}{3}}=-y^2+c$$\n",
    "\n",
    "将$z=x^{-3}$代入方程，得\n",
    "\n",
    "$$3\\frac{1}{x}=-y^2+c$$\n",
    "\n",
    "则$3\\frac{1}{x}=-y^2+c$为$\\frac{dz}{dy}=-2z^{\\frac{2}{3}}y$通解\n",
    "\n",
    "把c看成x的待定函数\n",
    "\n",
    "$$3\\frac{1}{x}=-y^2+c（x）$$\n",
    "\n",
    "易求$$c(x)=x^{-2}-ce^{-y^2}-3x^{-1}-1$$\n",
    "\n",
    "则$x^{-2}=ce^{-y^2}-y^2+1$是方程$\\frac{dy}{dx}=\\frac{1}{xy+x^3y^3}$解,c为任意常数\n"
   ]
  },
  {
   "cell_type": "markdown",
   "metadata": {},
   "source": [
    "（16）同时对两边求积分\n",
    "\n",
    "$$\\frac{dy}{dx}=e^x+y(x)$$\n",
    "\n",
    "先求$\\frac{dy}{dx}=y(x)$的解\n",
    "\n",
    "易知其通解为$$y=ce^x,c为常数$$\n",
    "\n",
    "将常数c变易成x的待定系数$$y=c(x)e^x$$\n",
    "\n",
    "$$\\frac{dy}{dx}=\\frac{c(x)}{dx}e^x+c(x)e^x$$\n",
    "\n",
    "$$\\frac{c(x)}{dx}e^x+c(x)e^x=c(x)e^x+e^x$$\n",
    "\n",
    "积分后得到，$$c(x)=\\int\\mathrm e^{x}e^{-x}\\,\\mathrm {d}x+c$$\n",
    "\n",
    "得到方程的通解$y=e^x(x+c)$,c为任意常数\n",
    "\n",
    "当x=0时，$$y=e^0+\\int_0^0\\mathrm y(t)\\,\\mathrm {d}t=1$$\n",
    "\n",
    "则$$c=1$$\n",
    "\n",
    "$$则方程的解为y=e^x(x+1)$$"
   ]
  },
  {
   "cell_type": "markdown",
   "metadata": {},
   "source": [
    "7.求下列方程：\n",
    "\n",
    "（3）$y'sinxcosx-y-(sinx)^3=0$\n",
    "\n",
    "解：\n",
    "\n",
    "$$\\frac{dy}{dx}=\\frac{y+(sinx)^3}{sinxcosx}$$\n",
    "\n",
    "先求$\\frac{dy}{dx}=\\frac{y}{sinxcosx}$的解\n",
    "\n",
    "分离变量，得其通解为\n",
    "\n",
    "$$lny=\\int\\mathrm (\\frac{1}{sinxcosx})\\,\\mathrm {d}x$$\n",
    "\n",
    "将c变易为x的待定函数c(x)\n",
    "\n",
    "其通解$$y=e^{\\int\\mathrm (\\frac{1}{sinxcosx})\\,\\mathrm {d}x}(\\int\\mathrm (\\frac{(sinx)^2}{cosx}e^{-\\int\\mathrm (\\frac{1}{sinxcosx})\\,\\mathrm {d}x})\\,\\mathrm {d}x+c)$$\n",
    "\n",
    "$$=tanx(\\int\\mathrm (\\frac{(sinx)^2cotx}{cosx})\\,\\mathrm {d}x+c)$$\n",
    "\n",
    "$$=ctanx-sinx$$\n",
    "\n",
    "$$当sinx=0时，方程可化为y=0$$\n",
    "\n",
    "$$当cosx=0时，方程可化为y=-(sinx)^3=1或-(sinx)^3=-1$$\n",
    "\n",
    "$$所以方程的解为y=ctanx-sinx(x不等于kπ+\\frac{π}{2}),或点-（kπ+\\frac{π}{2},（-1）^{k+1}）,k为整数$$"
   ]
  },
  {
   "cell_type": "markdown",
   "metadata": {},
   "source": [
    "1.验证下列方程是恰当微分方程，并求出方程的解：\n",
    "\n",
    "（1）$（x^2+y）dx+(x-2y)dy=0$;\n",
    "\n",
    "(2)$(y-3x^2)dx-(4y-x)dy=0$;"
   ]
  },
  {
   "cell_type": "markdown",
   "metadata": {},
   "source": [
    "解：（1）$易知M=x^2+y,N=x-2y$\n",
    "\n",
    "$$Mdx+Ndy=0$$\n",
    "\n",
    "$$\\frac{\\partial M}{\\partial y}=1$$\n",
    "\n",
    "$$\\frac{\\partial N}{\\partial x}=1$$\n",
    "\n",
    "故方程为恰当方程\n",
    "\n",
    "求u,则建立方程组\n",
    "\n",
    "$$\n",
    "\\begin{cases}\n",
    "\\frac{\\partial u}{\\partial x}=x^2+1\\\\\n",
    "\\frac{\\partial u}{\\partial y}=x-2y\\\\\n",
    "\\end{cases}\n",
    "$$\n",
    "\n",
    "对第一个式子x积分，得到\n",
    "\n",
    "$$u=\\frac{1}{3}x^3+xy+F（y）$$\n",
    "\n",
    "$$\\frac{\\partial u}{\\partial y}=x+\\frac{\\partial F(y)}{\\partial y}=x-2y$$\n",
    "\n",
    "$$\\frac{\\partial F(y)}{\\partial y}=-2y$$\n",
    "\n",
    "则$$F(y)=-y^2$$\n",
    "\n",
    "则$$u=\\frac{1}{3}x^3+xy-y^2$$\n",
    "\n",
    "则方程的通解为$c=\\frac{1}{3}x^3+xy-y^2$,c为任意常数\n"
   ]
  },
  {
   "cell_type": "markdown",
   "metadata": {},
   "source": [
    "（2）易知$M=y-3x^2,N=x-4y$\n",
    "\n",
    "$$Mdx+Ndy=0$$\n",
    "\n",
    "$$\\frac{\\partial M}{\\partial y}=1$$\n",
    "\n",
    "$$\\frac{\\partial N}{\\partial x}=1$$\n",
    "\n",
    "故方程为恰当方程\n",
    "\n",
    "求u,则建立方程组\n",
    "\n",
    "$$\n",
    "\\begin{cases}\n",
    "\\frac{\\partial u}{\\partial x}=y-3x^2\\\\\n",
    "\\frac{\\partial u}{\\partial y}=x-4y\\\\\n",
    "\\end{cases}\n",
    "$$\n",
    "\n",
    "对第一个式子x积分，得到\n",
    "\n",
    "$$u=xy-x^3+F（y）$$\n",
    "\n",
    "$$\\frac{\\partial u}{\\partial y}=x+\\frac{\\partial F(y)}{\\partial y}=x-4y$$\n",
    "\n",
    "$$\\frac{\\partial F(y)}{\\partial y}=-4y$$\n",
    "\n",
    "则$$F(y)=-2y^2$$\n",
    "\n",
    "则$$u=xy-x^3-2y^2$$\n",
    "\n",
    "则方程的通解为$c=xy-x^3-2y^2$,c为任意常数\n"
   ]
  },
  {
   "cell_type": "markdown",
   "metadata": {
    "collapsed": true
   },
   "source": [
    "# <font color='red'>A + 19/9 "
   ]
  },
  {
   "cell_type": "code",
   "execution_count": null,
   "metadata": {
    "collapsed": true
   },
   "outputs": [],
   "source": []
  }
 ],
 "metadata": {
  "kernelspec": {
   "display_name": "SageMath 7.3",
   "language": "",
   "name": "sagemath"
  },
  "language_info": {
   "codemirror_mode": {
    "name": "ipython",
    "version": 2
   },
   "file_extension": ".py",
   "mimetype": "text/x-python",
   "name": "python",
   "nbconvert_exporter": "python",
   "pygments_lexer": "ipython2",
   "version": "2.7.10"
  }
 },
 "nbformat": 4,
 "nbformat_minor": 0
}
