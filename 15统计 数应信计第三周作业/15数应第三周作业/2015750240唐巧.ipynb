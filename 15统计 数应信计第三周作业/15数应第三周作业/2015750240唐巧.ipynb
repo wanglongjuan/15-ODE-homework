{
 "cells": [
  {
   "cell_type": "markdown",
   "metadata": {
    "collapsed": true
   },
   "source": [
    " 第三周作业"
   ]
  },
  {
   "cell_type": "markdown",
   "metadata": {},
   "source": [
    " P.49 \n",
    "1.求下列方程的解：\n"
   ]
  },
  {
   "cell_type": "markdown",
   "metadata": {},
   "source": [
    "(15)$\\tfrac{dy}{dx}=\\frac{1}{xy+x^3y^3}$"
   ]
  },
  {
   "cell_type": "markdown",
   "metadata": {
    "collapsed": true
   },
   "source": [
    "解：令$u=y^2$,\n",
    "则有$\\tfrac{du}{dx}=\\frac{2ydy}{dx}=\\frac{2y}{xy+x^3y^3}=\\frac{2}{x+x^3y^2}=\\frac{2}{x+x^3u}$\n",
    "\n",
    "可将u看作是自变量，而x看作是关于u的因变量u(x),方程可化为\n",
    "\n",
    "$\\frac{dx}{du}=\\frac{x+x^3u}{2}=\\frac{x}{2}+\\frac{x^3u}{2}$\n",
    "\n",
    "可以知道该方程是$n=3$的伯努利微分方程，又令$z=x^{-2}$\n",
    "\n",
    "可以得到$\\frac{dz}{du}=-2x^{-3}*\\frac{dx}{du}$\n",
    "\n",
    "将$\\frac{dx}{du}$代入可得$\\frac{dz}{du}=-2x^{-3}*\\frac{x+x^3u}{2}=-z-u$\n",
    "\n",
    "可知它的通解为$z=e^{\\int(-1){du}}(\\int(-u)e^{\\int1*du}du+c)$\n",
    "\n",
    "即$z=ce^{-u}-u+1$\n",
    "\n",
    "把$z=x^{-2},u=y^2$代入上式得到原方程的解为\n",
    "\n",
    "$\\frac{1}{x^2}=ce^{-y^2}-y^2+1$\n",
    "\n",
    "\n",
    "\n",
    "\n",
    "\n",
    "\n",
    "\n"
   ]
  },
  {
   "cell_type": "markdown",
   "metadata": {},
   "source": [
    "(16)$y=e^x+\\int_0^x{y(t)dt}$"
   ]
  },
  {
   "cell_type": "markdown",
   "metadata": {},
   "source": [
    "解：对于方程两边关于x求导得到$\\frac{dy}{dx}=e^x+y$\n",
    "\n",
    "可知其通解为$y=e^x({\\int(e^x*e^{-x})dx}+c)$\n",
    "\n",
    "即$y=e^x(x+c)$\n",
    "\n",
    "当$x=0$时，有$y=1$\n",
    "\n",
    "因此，可以得到$c=1$\n",
    "\n",
    "故原方程的解为$y=e^x(x+1)$\n"
   ]
  },
  {
   "cell_type": "markdown",
   "metadata": {},
   "source": [
    "3.如图所示的RL电路，试求：\n",
    "\n",
    "（1)当开关S1合上10S后，电感L上的电流；\n",
    "\n",
    "（2)S1合上10S后再将S2合上，求S2合上20S后，电感L上的电流。"
   ]
  },
  {
   "cell_type": "markdown",
   "metadata": {},
   "source": [
    "解：（1）电流$I$关于时间t的微分方程为$\\frac{dI}{dt}+\\frac{R1}{L}I=\\frac{E}{L}$\n",
    "\n",
    "由题可知R1=10，E=50,L=2，代入上式可以得到$\\frac{dI}{dt}+5I=25$\n",
    "\n",
    "解得$I=5-ce^{-5t}$\n",
    "\n",
    "当$t=0时，I=0$，因此$c=5$\n",
    "\n",
    "所求电流$I=(5-5e^{-50}\\approx5$\n",
    "\n",
    "(2)当S1和S2均闭合时，此时电路中的电阻$R=（\\frac{1}{R1}+\\frac{1}{R2})^{-1}=(\\frac{1}{10}+\\frac{1}{20})^{-1}=\\frac{20}{3}$\n",
    "\n",
    "电流$I$关于时间t的微分方程为$\\frac{dI}{dt}+\\frac{R}{L}I=\\frac{E}{L}$\n",
    "\n",
    "即就是$\\frac{dI}{dt}=\\frac{10}{3}I+25$\n",
    "\n",
    "解得$I=7.5+ce^{-\\frac{10}{3}t}$\n",
    "\n",
    "将$I（0）=5$代入，解出$c=-2.5$\n",
    "\n",
    "因此当$t=20$S时，电感L上的电流为$I=(7.5-2.5e^{-\\frac{200}{3}})A\\approx7.5A$\n",
    "\n",
    "\n",
    "\n",
    "\n",
    "\n",
    "\n"
   ]
  },
  {
   "cell_type": "markdown",
   "metadata": {},
   "source": [
    "7.求解下列方程。"
   ]
  },
  {
   "cell_type": "markdown",
   "metadata": {},
   "source": [
    "（3）$y'sinx*cosx-y-sin^3x=0$"
   ]
  },
  {
   "cell_type": "markdown",
   "metadata": {},
   "source": [
    "解：原方程可以化为$y'=\\frac{1}{sinxcosx}(y+sin^3x)=\\frac{y}{sinxcosx}+\\frac{sin^2x}{cosx}$\n",
    "\n",
    "$P(x)=\\frac{1}{sinxcosx},Q(x)=\\frac{sin^2x}{cosx}$\n",
    "\n",
    "因此可得$y=e^{\\int(\\frac{1}{sinxcosx}dx}(\\int(\\frac{sin^2x}{cosx})e^{-(\\int(\\frac{1}{sinxcosx}dx)}dx+c)$\n",
    "\n",
    "即$y=tanx(\\frac{sin^2x}{cosx}cotxdx+c)$\n",
    "\n",
    "即$y=tanx(-cosx+c)$\n",
    "\n",
    "当$sinx=0$时，原方程化为$y=0$\n",
    "\n",
    "当$cosx=0时，原方程化为y=-sin^3x=(\\pm1),即曲线退化成点（2k\\pi+\\frac{\\pi}{2},-1)和(k\\pi-\\frac{\\pi}{2},1),k=0,k=\\pm1,k=\\pm2,….$\n",
    "\n",
    "因此原方程的解为$y=ctanx-sinx,(x\\neq(k\\pi)\\pm(\\frac{\\pi}{2}))$\n",
    "\n",
    "\n",
    "\n",
    "\n",
    "\n",
    "\n",
    "\n",
    "\n",
    "\n",
    "\n",
    "\n",
    "\n"
   ]
  },
  {
   "cell_type": "markdown",
   "metadata": {},
   "source": [
    "P60 1.验证下列方程是恰当微分方程，并求出方程的解；\n"
   ]
  },
  {
   "cell_type": "markdown",
   "metadata": {},
   "source": [
    "（1)$(x^2+y)dx+(x-2y)dy=0$"
   ]
  },
  {
   "cell_type": "markdown",
   "metadata": {},
   "source": [
    "解:$M(x,y)=x^2+y$,$N(x,y)=x-2y$\n",
    "\n",
    "则可以得到$\\frac{\\partial M}{\\partial y}=1$,$\\frac{\\partial N}{\\partial x}=1$\n",
    "\n",
    "因此可知此方程为恰当方程，现在求u,求解该方程则有\n",
    "\n",
    "$\\frac{\\partial u}{\\partial x}=x^2+y$,$\\frac{\\partial u}{\\partial y}=x-2y$\n",
    "\n",
    "第一个方程对x积分，得到$u=\\frac{1}{3}x^3+xy+\\varphi(y)$\n",
    "\n",
    "为了确定$\\varphi(y)$，将上式对y进行求导数，并且满足$\\frac{\\partial u}{\\partial y}=x-2y$\n",
    "\n",
    "即得$\\frac{\\partial u}{\\partial y}=x+\\varphi'(y)=x-2y$\n",
    "\n",
    "则$\\varphi'(y)=-2y$,则$\\varphi(y)=-y^2$\n",
    "\n",
    "因此$u=\\frac{1}{3}x^3+xy-y^2$\n",
    "\n",
    "故原方程的解为$x^3+3xy-3y^2=c$(c为任意常数）\n",
    "\n",
    "\n",
    "\n",
    "\n",
    "\n",
    "\n",
    "\n",
    "\n",
    "\n",
    "\n",
    "\n",
    "\n"
   ]
  },
  {
   "cell_type": "markdown",
   "metadata": {},
   "source": [
    "(2)$(y-3x^2)dx-(4y-x)dy=0$"
   ]
  },
  {
   "cell_type": "markdown",
   "metadata": {},
   "source": [
    "解:$M(x,y)=y-3x^2,N(x,y)=-(4y-x)\n",
    "\n",
    "则有$\\frac{\\partial M}{\\partial y}=1,\\frac{\\partial N}{\\partial x}=1$\n",
    "\n",
    "因此，该方程是恰当微分方程，求解u,即求解方程的解\n",
    "\n",
    "得到$\\frac{\\partial u}{\\partial x}=y-3x^2$,$\\frac{\\partial u}{\\partial y}=-(4y-x)$\n",
    "\n",
    "第一个方程对x求积分，得到$u=xy-x^3+\\varphi(y)$\n",
    "\n",
    "对上式关于y求导得到$\\frac{\\partial u}{partial y}=x+\\varphi'(y)$\n",
    "\n",
    "且上式满足$\\frac{\\partial u}{\\partial y}=-(4y-x)$\n",
    "\n",
    "即就是$\\varphi'(y)=-4y,\\varphi(y)=-2y^2$\n",
    "\n",
    "代入得$u=xy-x^3-2y^2$\n",
    "\n",
    "因此方程的解为$xy-x^3-2y^2=c$(c为任意常数）\n"
   ]
  },
  {
   "cell_type": "markdown",
   "metadata": {
    "collapsed": true
   },
   "source": [
    "# <font color='red'>A  19/9 "
   ]
  },
  {
   "cell_type": "code",
   "execution_count": null,
   "metadata": {
    "collapsed": true
   },
   "outputs": [],
   "source": []
  }
 ],
 "metadata": {
  "kernelspec": {
   "display_name": "SageMath 7.3",
   "language": "",
   "name": "sagemath"
  },
  "language_info": {
   "codemirror_mode": {
    "name": "ipython",
    "version": 2
   },
   "file_extension": ".py",
   "mimetype": "text/x-python",
   "name": "python",
   "nbconvert_exporter": "python",
   "pygments_lexer": "ipython2",
   "version": "2.7.10"
  }
 },
 "nbformat": 4,
 "nbformat_minor": 0
}
