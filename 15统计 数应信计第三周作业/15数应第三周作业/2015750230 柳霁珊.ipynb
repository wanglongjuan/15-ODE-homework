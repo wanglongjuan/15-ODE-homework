{
 "cells": [
  {
   "cell_type": "markdown",
   "metadata": {},
   "source": [
    "$1.求下列方程的解。$\n",
    "\n",
    "$(4)\\frac{dy}{dx}-\\frac{ny}{x}=e^xx^n;$\n",
    "\n",
    "$解:\\frac{dy}{dx}的通解为$$$y=cx^n$$\n",
    "\n",
    "$把c看成c(x)，微分得$$$\\frac{dy}{dx}=\\frac{dc(x)x^n}{dx}+c(x)nx(n-1)$$\n",
    "\n",
    "$将其代入原式得$$$dc(x)-e^xdx$$\n",
    "\n",
    "$积分得$$$c(x)=e^x+c$$\n",
    "\n",
    "$代入$$$y=c(x)x^n$$\n",
    "\n",
    "$得原方程通解为$$$y=(e^x+c)x^n$$"
   ]
  },
  {
   "cell_type": "markdown",
   "metadata": {},
   "source": [
    "$(15)\\frac{dy}{dx}=\\frac{1}{xy+x^3y^3};$\n",
    "\n",
    "$解：令u=y^2,则原式可化为：$$$\\frac{du}{dx}=\\frac{2}{x+x^3u}$$\n",
    "\n",
    "$$\\frac{dx}{du}=\\frac{x}{2}+\\frac{ux^3}{2}$$\n",
    "\n",
    "$令v=x^-2,则$$$\\frac{dv}{du}=-2x^-3\\frac{dx}{du}$$\n",
    "\n",
    "$代入得$$$\\frac{dv}{du}=-v-u$$\n",
    "\n",
    "$其通解为$$$v=ce^-u-u$$\n",
    "\n",
    "$则$$$\\frac{1}{x^2}=y+e^x$$"
   ]
  },
  {
   "cell_type": "markdown",
   "metadata": {},
   "source": [
    "# <font color='red'>？？？？错误"
   ]
  },
  {
   "cell_type": "markdown",
   "metadata": {},
   "source": [
    "$(16)y=e^x+\\int_0^xy(t)dx$\n",
    "\n",
    "$求导得$$$\\frac{dy}{dx}=y+c^x$$\n",
    "\n",
    "$\\frac{dy}{dx}-y=0的解为$$$y=ce^x$$\n",
    "\n",
    "$令y=c(x)e^x,则$$$\\frac{dy}{dx}=\\frac{dc(x)}{dx}e^x+c(x)e^x$$\n",
    "\n",
    "$代入得$$$\\frac{dc(x)}{dx}=1$$\n",
    "\n",
    "$所以$$$c(x)=x+c$$\n",
    "\n",
    "$所以其通解为$$$y=e^x(x+c)$$\n",
    "\n",
    "$当x=0时，c=1,其通解为$$$y=e^x(x+c)$$\n",
    "\n",
    "$7.求解下列方程$\n",
    "\n",
    "$(3)y' sinxcosx-y- sinx^3=0$\n"
   ]
  },
  {
   "cell_type": "markdown",
   "metadata": {},
   "source": [
    "$解：$$$\\frac{dy}{dx}=\\frac{y}{ sinxcosx}+\\frac{ sinx^2}{cosx}$$\n",
    "\n",
    "$其通解为$$$y=tanx(\\int\\mathrm{\\frac{sin^2x}{cosx}}cotxdx+c)$$"
   ]
  },
  {
   "cell_type": "markdown",
   "metadata": {},
   "source": [
    "$$y=ctanx-sinx$$\n",
    "\n",
    "$当cosx=0时，原方程为y=1或-1，当sinx=0时，原方程为y=0$$\n",
    "\n",
    "$所以原方程通解为$$$y=ctanx-sinx$$\n",
    "\n",
    "$或$$$-(kπ+\\frac{π}{2}，c-1^{k+1})$$"
   ]
  },
  {
   "cell_type": "markdown",
   "metadata": {},
   "source": [
    "$1.验证下列方程是恰当微分方程，并求出方程的解$\n",
    "\n",
    "$(1)(x^2+y)dx=(x-2y)dy=0$\n",
    "\n",
    "$解：因为M=x^2=y,N=x-2y$\n",
    "\n",
    "$所以$$$\\frac{\\partial W}{\\partial y}=1$$\n",
    "\n",
    "$即为恰当微分方程$\n",
    "\n",
    "$u同时满足(1)(2):$$$（1）\\frac{\\partial u}{\\partial x}=x^2+y$$\n",
    "$$（2）\\frac{\\partial u}{\\partial y}=x-2y$$\n",
    "\n",
    "$（1）对x积分得：$$$u=\\frac{1}{3}x^3+xy+ψ(x)$$\n",
    "\n",
    "$对y求导得$$$\\frac{\\partial u}{\\partial y}=x+ψ'(y)$$\n",
    "\n",
    "$则$$$ψ'(y)=-2y$$\n",
    "\n",
    "$$ψ(x)=-y^2$$\n",
    "\n",
    "$所以$$$u=\\frac{1}{3}x^3+xy-y^2$$\n",
    "\n",
    "则通解为$$x^3+3xy-3y^2=c,$$"
   ]
  },
  {
   "cell_type": "markdown",
   "metadata": {},
   "source": [
    "(2)$因为M=y-3x^2,N=x-4y$\n",
    "\n",
    "$所以￥$$\\frac{\\partial W}{\\partial y}=1,\\frac{\\partial N}{\\partial x}=1$$\n",
    "\n",
    "$即为恰当微分方程。$\n",
    "\n",
    "$u同时满足（1）和（2）：$$$（1）\\frac{\\partial u}{\\partial x}=y-3x^2$$\n",
    "$$(2)\\frac{\\partial u}{\\partial y}=x-4y$$\n",
    "\n",
    "$对(1)积分得：$$$u=xy-x^3+xy+ψ(x)$$\n",
    "\n",
    "$对y求导得$$$\\frac{\\partial u}{\\partial y}=x+ψ'(y)$$\n",
    "\n",
    "则$$ψ'(y)=-4y$$\n",
    "\n",
    "$$ψ(x)=-2y^2$$\n",
    "\n",
    "$所以$$$u=xy-x^3+xy-2y^2$$\n",
    "\n",
    "$通解为$$$x^3-xy+2y^2=c$$"
   ]
  },
  {
   "cell_type": "markdown",
   "metadata": {
    "collapsed": true
   },
   "source": [
    "# <font color='red'>A  19/9 "
   ]
  },
  {
   "cell_type": "code",
   "execution_count": null,
   "metadata": {
    "collapsed": true
   },
   "outputs": [],
   "source": []
  }
 ],
 "metadata": {
  "kernelspec": {
   "display_name": "SageMath 7.3",
   "language": "",
   "name": "sagemath"
  },
  "language_info": {
   "codemirror_mode": {
    "name": "ipython",
    "version": 2
   },
   "file_extension": ".py",
   "mimetype": "text/x-python",
   "name": "python",
   "nbconvert_exporter": "python",
   "pygments_lexer": "ipython2",
   "version": "2.7.10"
  }
 },
 "nbformat": 4,
 "nbformat_minor": 0
}
