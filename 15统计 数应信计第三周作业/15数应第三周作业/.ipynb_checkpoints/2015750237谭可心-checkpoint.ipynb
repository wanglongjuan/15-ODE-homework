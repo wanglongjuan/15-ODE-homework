{
 "cells": [
  {
   "cell_type": "markdown",
   "metadata": {},
   "source": [
    "2016年9月13日 星期二\n",
    "\n",
    "P49\n",
    "\n",
    "$1$、求下列方程的解：\n",
    "\n",
    "(4)$\\frac{dy}{dx}-\\frac{n}{x}y=e^xx^n$\n",
    "\n",
    "解：$\\because\\frac{dy}{dx}-\\frac{n}{x}y=e^xx^n$\n",
    "\n",
    "$\\frac{dy}{dx}=\\frac{n}{x}y+e^xx^n$\n",
    "\n",
    "$\\therefore y=e^{n\\ln{x}}(\\int{e^xx^ne^{-n\\ln{x}} }dx+c)$\n",
    "\n",
    "$=x^n(\\int{e^xx^nx^{-n}}dx+c)$\n",
    "\n",
    "$=x^n(e^x+c)$\n",
    "\n",
    "$\\therefore$方程的解为$y=x^n(e^x+c)$"
   ]
  },
  {
   "cell_type": "markdown",
   "metadata": {},
   "source": [
    "(15)$\\frac{dy}{dx}=\\frac{1}{xy+x^3y^3}$\n",
    "\n",
    "解：$\\because \\frac{dy}{dx}=\\frac{1}{xy+x^3y^3}$\n",
    "\n",
    "$\\therefore \\frac{dx}{dy}=xy+x^3y^3\\cdots①$\n",
    "\n",
    "令$z=x^{-2}$，则$\\frac{dx}{dy}=-\\frac{1}{2xz^2}\\frac{dz}{dy}$\n",
    "\n",
    "代入上面①式得$-\\frac{1}{2xz^2}\\frac{dz}{dy}=xy+x^3y^3$\n",
    "\n",
    "$-\\frac{1}{2z^2}\\frac{dz}{dy}=x^2y+x^4y^3=\\frac{y}{z}+\\frac{y^3}{z^2}$\n",
    "\n",
    "$\\therefore \\frac{dz}{dy}=-2yz-2y^3$\n",
    "\n",
    "$\\therefore z=e^{\\int{-2y}dy}(\\int{-2y^3e^{-\\int{-2y}dy}}dy+c)$\n",
    "\n",
    "$=e^{-y^2}(\\int{-2y^3e^{y^2}dy}+c)$\n",
    "\n",
    "$=e^{-y^2}(\\int{-y^2}de^{y^2}+c)$\n",
    "\n",
    "$=e^{-y^2}(-y^2e^{y^2}+\\int{e^{y^2}}dy^2+c)$\n",
    "\n",
    "$=e^{-y^2}(-y^2e^{y^2}+e^{y^2}+c)$\n",
    "\n",
    "$=y^2-1+ce^{-y^2}$\n",
    "\n",
    "$\\therefore x^{-2}=y^2-1+ce^{-y^2}$\n",
    "\n",
    "$\\therefore$方程的解为$x^2(y^2-1+ce^{-y^2})=1$"
   ]
  },
  {
   "cell_type": "markdown",
   "metadata": {},
   "source": [
    "(16)$y=e^x+\\int_0^x{y(t)}dt$\n",
    "\n",
    "解：当$x \\neq 0$时对方程两边求导得：$y'=e^x+y$\n",
    "\n",
    "$\\therefore \\frac{dy}{dx}=e^x+y$\n",
    "\n",
    "$\\therefore y=e^{\\int{1}dx}(\\int{e^xe^{-\\int{1}dx}dx}+c)$\n",
    "\n",
    "$=e^x(\\int{e^xe^{-x}dx}+c)$\n",
    "\n",
    "$=e^x(x+c)$\n",
    "\n",
    "当$x=0$时，要等式两边成立，则$c=1$\n",
    "\n",
    "$\\therefore$方程的解为$y=e^x(x+1)$"
   ]
  },
  {
   "cell_type": "markdown",
   "metadata": {},
   "source": [
    "P50"
   ]
  },
  {
   "cell_type": "markdown",
   "metadata": {},
   "source": [
    "$7$、求解下列方程："
   ]
  },
  {
   "cell_type": "markdown",
   "metadata": {},
   "source": [
    "(3)$y'\\sin{x}\\cos{x}-y-\\sin^3{x}=0$\n",
    "\n",
    "解：当$x \\neq k\\pi+\\frac{\\pi}{2}$时\n",
    "\n",
    "$\\because y'\\sin{x}\\cos{x}-y-\\sin^3{x}=0$\n",
    "\n",
    "$\\therefore y'=\\frac{y+\\sin^3{x}}{\\sin{x}\\cos{x}}$\n",
    "\n",
    "$\\therefore \\frac{dy}{dx}=\\frac{y}{\\sin{x}\\cos{x}}+\\frac{\\sin^2{x}}{\\cos{x}}$\n",
    "\n",
    "$y=e^{\\int{\\frac{dx}{\\sin{x}\\cos{x}}}}(\\int{\\frac{\\sin^2{x}}{\\cos{x}}e^{-\\int{\\frac{dx}{\\sin{x}\\cos{x}}}}}dx+c)$\n",
    "\n",
    "$=e^{\\int{\\frac{dx}{\\tan{x}\\cos^2{x}}}}(\\int{\\frac{\\sin^2{x}}{\\cos{x}}e^{-\\int{\\frac{dx}{\\tan{x}\\cos^2{x}}}}}dx+c)$\n",
    "\n",
    "$=e^{\\int{\\frac{d(\\tan{x})}{\\tan{x}}}}(\\int{\\frac{\\sin^2{x}}{\\cos{x}}e^{-\\int{\\frac{d(\\tan{x})}{\\tan{x}}}}}dx+c)$\n",
    "\n",
    "$=e^{\\ln{\\tan{x}}}(\\int{\\frac{\\sin^2{x}}{\\cos{x}}}e^{-\\ln{\\tan{x}}}dx+c)$\n",
    "\n",
    "$=\\tan{x}(\\int{\\frac{\\sin^2{x}}{\\cos{x}}(\\frac{1}{\\tan{x}})}dx+c)$\n",
    "\n",
    "$=\\tan{x}(\\int{\\sin{x}}dx+c)$\n",
    "\n",
    "$=\\tan{x}(-\\cos{x}+c)$\n",
    "\n",
    "$=c\\tan{x}-\\sin{x}$\n",
    "\n",
    "即$x \\neq k\\pi+\\frac{\\pi}{2}$时，方程的解为$y=c\\tan{x}-\\sin{x}$\n",
    "\n",
    "当$x=k\\pi+\\frac{\\pi}{2}$时\n",
    "\n",
    "方程的解为$(x,y)=(k\\pi+\\frac{\\pi}{2},(-1)^{k+1})$"
   ]
  },
  {
   "cell_type": "markdown",
   "metadata": {},
   "source": [
    "2016年9月14日 星期三\n",
    "\n",
    "P60\n",
    "\n",
    "$1$、验证下列方程是恰当微分方程，并求出方程的解：\n",
    "\n",
    "(1)$(x^2+y)dx+(x-2y)dy=0$\n",
    "\n",
    "解：$M=x^2+y,N=x-2y$\n",
    "\n",
    "$\\frac{\\partial M}{\\partial y}=1,\\frac{\\partial N}{\\partial x}=1$\n",
    "\n",
    "$\\therefore $该方程是恰当微分方程\n",
    "    \n",
    "现在求$u$，使它同时满足如下两个方程：\n",
    "\n",
    "$\\frac{\\partial u}{\\partial x}=x^2+y \\cdots①$\n",
    "\n",
    "$\\frac{\\partial u}{\\partial y}=x-2y \\cdots②$\n",
    "\n",
    "$①$式对$x$求积分得：$u=\\frac{1}{3}x^3+xy+\\varphi(y) \\cdots③$\n",
    "\n",
    "将$③$式对$y$求导，并使它满足$②$式即得：\n",
    "\n",
    "$\\frac{\\partial u}{\\partial y}=x+\\frac{d\\varphi(y)}{dy}=x-2y$\n",
    "\n",
    "$\\therefore \\frac{d\\varphi(y)}{dy}=-2y$\n",
    "\n",
    "上式对$y$积分后得：$\\varphi(y)=-y^2 \\cdots④$\n",
    "\n",
    "将$④$代入$③$得：$u=\\frac{1}{3}x^3+xy-y^2$\n",
    "\n",
    "$\\therefore $方程的通解为$\\frac{1}{3}x^3+xy-y^2=c$，其中$c$为任意常数"
   ]
  },
  {
   "cell_type": "markdown",
   "metadata": {},
   "source": [
    "(2)$(y-3x^2)dx-(4y-x)dy=0$\n",
    "\n",
    "解：$M=y-3x^2,N=x-4y$\n",
    "\n",
    "$\\frac{\\partial M}{\\partial y}=1,\\frac{\\partial N}{\\partial x}=1$\n",
    "\n",
    "$\\therefore $该方程是恰当微分方程\n",
    "\n",
    "现在求$u$，使它同时满足如下两个方程：\n",
    "\n",
    "$\\frac{\\partial u}{\\partial x}=y-3x^2 \\cdots①$\n",
    "\n",
    "$\\frac{\\partial u}{\\partial y}=x-4y \\cdots②$\n",
    "\n",
    "$①$式对$x$求积分得：$u=xy-x^3+\\varphi(y) \\cdots③$\n",
    "\n",
    "将$③$式对$y$求导，并使它满足$②$式即得：\n",
    "\n",
    "$\\frac{\\partial u}{\\partial y}=x+\\frac{d\\varphi(y)}{dy}=x-4y$\n",
    "\n",
    "$\\therefore \\frac{d\\varphi(y)}{dy}=-4y$\n",
    "\n",
    "上式对$y$积分后得：$\\varphi(y)=-2y^2 \\cdots④$\n",
    "\n",
    "将$④$代入$③$得：$u=xy-x^3-2y^2$\n",
    "\n",
    "$\\therefore $方程的通解为$xy-x^3-2y^2=c$，其中$c$为任意常数"
   ]
  },
  {
   "cell_type": "markdown",
   "metadata": {},
   "source": [
    "# <font color='red'>A  19/9 "
   ]
  },
  {
   "cell_type": "code",
   "execution_count": null,
   "metadata": {
    "collapsed": true
   },
   "outputs": [],
   "source": []
  }
 ],
 "metadata": {
  "kernelspec": {
   "display_name": "SageMath 7.3",
   "language": "",
   "name": "sagemath"
  },
  "language_info": {
   "codemirror_mode": {
    "name": "ipython",
    "version": 2
   },
   "file_extension": ".py",
   "mimetype": "text/x-python",
   "name": "python",
   "nbconvert_exporter": "python",
   "pygments_lexer": "ipython2",
   "version": "2.7.10"
  }
 },
 "nbformat": 4,
 "nbformat_minor": 0
}
