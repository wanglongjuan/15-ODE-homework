{
 "cells": [
  {
   "cell_type": "markdown",
   "metadata": {},
   "source": [
    "2015750218 刘建港"
   ]
  },
  {
   "cell_type": "markdown",
   "metadata": {},
   "source": [
    "1.求下列方程的解\n",
    "（4）\n",
    "1 $${dy \\over dx}={n \\over x}y+e^xx^n$$\n",
    "\n",
    "$${dy \\over dx}={n \\over x}y$$\n",
    "\n",
    "$${dy \\over y}={n \\over x}dx$$\n",
    "\n",
    "$$y=ce^{\\int {n \\over x}dx}$$\n",
    "\n",
    "常数$c$变量为$x$的函数$c(x)$,令$y=c(x)e^{\\int {n \\over x}dx}$\n",
    "\n",
    "$${dy \\over dx}={dc(x) \\over dx}e^{\\int {n \\over x}dx}+c(x)e^{\\int {n \\over x}dx}{n \\over x}$$\n",
    "\n",
    "$${dc(x) \\over dx}e^{\\int {n \\over x}dx}+c(x)e^{\\int {n \\over x}dx}{n \\over x}={n \\over x}c(x)e^{\\int {n \\over x}dx}+e^xx^n$$\n",
    "\n",
    "$${dc(x) \\over dx}e^{\\int {n \\over x}dx}=e^xx^n$$\n",
    "\n",
    "$${dc(x) \\over dx}={e^xx^n \\over e^{\\int {n \\over x}dx}}dx$$\n",
    "\n",
    "$$c(x)=\\int e^xx^ne^{-\\int {n \\over x}dx}dx+c'$$\n",
    "\n",
    "所以\n",
    "$$y=(\\int x^ne^{x-\\int {n \\over x}dx}dx+c')e^{\\int {n \\over x}dx}$$"
   ]
  },
  {
   "cell_type": "markdown",
   "metadata": {},
   "source": [
    "# <font color='red'>结果化简"
   ]
  },
  {
   "cell_type": "markdown",
   "metadata": {},
   "source": [
    "（15）\n",
    "$${dy \\over dx}={1 \\over xy+x^3y^3}$$\n",
    "\n",
    "$${dx \\over dy}=yx+y^3x^3$$\n",
    "\n",
    "$n=3$时的伯努利方程\n",
    "$${1 \\over x^3}{dx \\over dy}={y \\over x^2}+y^3$$\n",
    "\n",
    "令$x^{-2}=z$\n",
    "$${dz \\over dy}=-2x^{-3}{dx \\over dy}$$\n",
    "\n",
    "$${dz \\over dy}=-2yz-2y^3$$\n",
    "\n",
    "$$P(y)=-2y,Q(y)=-2y^3$$\n",
    "\n",
    "由一阶线性方程求解公式\n",
    "$$z=e^{\\int -2ydy}(\\int -2y^3e^{-\\int -2ydy}dy+c)=e^{-y^2}(-\\int 2y^3e^{y^2}dy+c)=-y^2+1+ce^{-y^2}$$\n",
    "\n",
    "代回原来的变量，得\n",
    "$$x^2(-y^2+1+ce^{-y^2})=1$$\n",
    "\n",
    "方程通解为\n",
    "$$e^{y^2} (1+x^2y^2-x^2)=cx^2$$"
   ]
  },
  {
   "cell_type": "markdown",
   "metadata": {},
   "source": [
    "7.(3)\n",
    "$$y'sinxcosx-y-sin^3x=0$$\n",
    "\n",
    "$${dy \\over dx}={y \\over sinxcosx}+{sin^2x \\over cosx}$$\n",
    "\n",
    "$$P(x)={1 \\over sinxcosx},Q(x)={sin^2x \\over cosx}$$\n",
    "\n",
    "由一阶微分求解公式\n",
    "$$y=e^{\\int {1 \\over sinxcosx}dx}(\\int {sin^2x \\over cosx}e^{\\int {1 \\over sinxcosx}dx}dx+c)$$\n",
    "\n",
    "$$={sinx \\over cosx}(\\int sinxdx+c)={sinx \\over cosx}(-cosx+c)=ctanx-sinx$$"
   ]
  },
  {
   "cell_type": "markdown",
   "metadata": {},
   "source": [
    "# <font color='red'>特解？？\n"
   ]
  },
  {
   "cell_type": "markdown",
   "metadata": {},
   "source": [
    "1.(2)\n",
    "$$(y-3x^2)dx-(4y-x)dy$$\n",
    "\n",
    "$${\\partial u \\over \\partial y}=1,{\\partial N \\over \\partial x}=1$$\n",
    "\n",
    "因为\n",
    "$${\\partial M \\over \\partial y}={\\partial N \\over \\partial x}$$\n",
    "\n",
    "所以此方程为恰当方程，原方程可化为\n",
    "$$ydx+xdy-3x^2dx-4ydy=0$$\n",
    "\n",
    "$$x^3-xy+2y^2=c$$"
   ]
  },
  {
   "cell_type": "markdown",
   "metadata": {},
   "source": [
    "# <font color='red'>作业没做完\n",
    "# <font color='red'>B 19/9 "
   ]
  },
  {
   "cell_type": "code",
   "execution_count": null,
   "metadata": {
    "collapsed": true
   },
   "outputs": [],
   "source": []
  }
 ],
 "metadata": {
  "kernelspec": {
   "display_name": "SageMath 7.3",
   "language": "",
   "name": "sagemath"
  },
  "language_info": {
   "codemirror_mode": {
    "name": "ipython",
    "version": 2
   },
   "file_extension": ".py",
   "mimetype": "text/x-python",
   "name": "python",
   "nbconvert_exporter": "python",
   "pygments_lexer": "ipython2",
   "version": "2.7.10"
  }
 },
 "nbformat": 4,
 "nbformat_minor": 0
}
