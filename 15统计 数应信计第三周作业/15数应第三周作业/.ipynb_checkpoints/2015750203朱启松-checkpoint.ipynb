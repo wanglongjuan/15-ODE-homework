{
 "cells": [
  {
   "cell_type": "markdown",
   "metadata": {},
   "source": [
    "## 1.求下列方程的解：\n",
    "$ (1)\\frac{dy}{dx}-\\frac{n}{x}y=e^{x}x^{n}(n为常数)$\n",
    "\n",
    "$ (15)\\frac{dy}{dx}=\\frac{1}{xy+x^{3}y^{3}} $\n",
    "\n",
    "$ (16) y=e^{x}+\\int^x_o y(t)dt $"
   ]
  },
  {
   "cell_type": "markdown",
   "metadata": {},
   "source": [
    "$$ (1)解：首先，求其次线性微分方程 \\frac{dy}{dx}=\\frac{n}{x}y $$\n",
    "$$得通解为y=c_1x^{n}$$ \n",
    "\n",
    "$$为此，在上式中把c_1看成x的待定函数c(x) 即y=c(x)x^{n} (*)$$\n",
    "\n",
    "$$微分之，化简得到 d(c(x))=e^{x},c(x)=e^{x}+c$$\n",
    "\n",
    "$$代入（*）式，得原方程的通解y=(e^{x}+c)x^{n}$$"
   ]
  },
  {
   "cell_type": "markdown",
   "metadata": {},
   "source": [
    "$$ (15)解：将原方程改写为 \\frac{dx}{dy}=xy+x^{3}y^{3}$$\n",
    "$$即x^{-3}\\frac{dx}{dy}=x^{-2}y+y^{3}$$\n",
    "\n",
    "$$引入变量变化 z=x^{-2}$$\n",
    "\n",
    "$$ 得\\frac{dz}{dy}=-2zy-2y^3$$\n",
    "\n",
    "$$积分得z=c_1e^{-y^{2}}(*)$$\n",
    "\n",
    "$$为此，在上式中把c_1看成y的待定函数c(y)即z=c(y)e^{-y^{2}}$$\n",
    "\n",
    "$$微分之，化简得到d(c(y))=-2e^{y^{2}}y^{3}dy$$\n",
    "\n",
    "$$积分得c(y)=-y^{2}e^{y^{2}}+e^{y^{2}}+c$$\n",
    "\n",
    "$$代入（*）式z=(-y^{2}e^{y^{2}}+e^{y^{2}}+c)e^{-y^{2}}$$\n",
    "\n",
    "$$整理得e^{y^{2}}(1+x^{2}y^{2}-x^2)=cx^{2}$$"
   ]
  },
  {
   "cell_type": "markdown",
   "metadata": {},
   "source": [
    "$$(16)解：微分得\\frac{dy}{dx}=e^{x}+y $$\n",
    "$$ 首先，求齐次微分方程\\frac{dy}{dx}=y$$\n",
    "\n",
    "$$ y=ce^{x}$$\n",
    "\n",
    "$$为此，在上式中把c_1看成x的待定函数c(x) 即y=c(x)e^{x}$$\n",
    "\n",
    "$$微分之，化简得到d(c(x))=dx,c(x)=x+c$$\n",
    "\n",
    "$$代入原方程检验得c=1所以y=(x+1)e^{x}$$"
   ]
  },
  {
   "cell_type": "markdown",
   "metadata": {},
   "source": [
    "## 7.求解下列方程\n",
    "$ (3)y'\\sin x\\cos x-y-\\sin^{3} x=0$\n",
    "\n",
    "$$ 解：移项得\\frac{dy}{dx}=\\frac{y+\\sin^{3}x}{\\sin x\\cos x}=\\frac{y}{\\sin x\\cos x}+\\frac{\\sin^{2} x}{\\cos x}$$\n",
    "\n",
    "$$ 首先，求齐次线性微分方程\\frac{dy}{dx}=\\frac{y}{\\sin x\\cos x}$$\n",
    "\n",
    "$$ 两边积分得ln|y|=ln|\\csc 2x-\\cot 2x|+c_1 $$\n",
    "\n",
    "$$得到齐次线性微分方程的通解 y=c\\tan x$$\n",
    "\n",
    "$$为此，在上式中把c看成x的待定函数c（x），即y=c(x)\\tan x$$\n",
    "\n",
    "$$微分之，得到c(x)=-\\cos x+c$$\n",
    "\n",
    "$$得原方程的通解为y=-\\sin x+c\\tan x $$\n",
    "\n",
    "$$ 当\\cos x=0,原方程为y=-\\sin^{3} x=\\pm1,曲线退化成点(k\\pi+\\frac{\\pi}{2},(-1)^{k+1})$$\n",
    "\n",
    "$$综上所述,原方程的通解y=c\\tan x-\\sin x(x\\neq k\\pi+\\frac{\\pi}{2})或者(x,y)=(k\\pi+\\frac{\\pi}{2},(-1)^{k+1})$$"
   ]
  },
  {
   "cell_type": "markdown",
   "metadata": {},
   "source": [
    "## 1.验证下列方程是恰当微分方程，并求出方程的解:\n",
    "$ (1) (x^{2}+y)dx+(x-2y)dy=0;$\n",
    "\n",
    "$ (2) (y-3x^{2})dx-(4y-x)dy=0$"
   ]
  },
  {
   "cell_type": "markdown",
   "metadata": {},
   "source": [
    "$$ （1）解:M=x^{2}+y,N=x-2y$$\n",
    "\n",
    "$$ \\frac{\\partial M}{\\partial y}=\\frac{\\partial N}{\\partial x}=1 ,因此方程是恰当微分方程$$\n",
    "\n",
    "$$而方程u满足如下两个方程\\frac{\\partial u}{\\partial x}=x^{2}+y,\\frac{\\partial u}{\\partial y}=x-2y$$\n",
    "\n",
    "$$解得u=\\frac{1}{3}x^{3}+xy-y^2$$\n",
    "\n",
    "$$所以方程通解为\\frac{1}{3}x^{3}+xy-y^2=c,c为任意常数$$\n",
    "\n",
    "\n",
    "\n",
    "$$ (2)解:M=y-3x^{2},N=x-4y$$\n",
    "\n",
    "$$\\frac{\\partial M}{\\partial y}=\\frac{\\partial N}{\\partial x}=1,因此方程是恰当微分方程$$\n",
    "\n",
    "$$而方程u满足如下两个方程\\frac{\\partial u}{\\partial x}=-3x^{2}+y,\\frac{\\partial u}{\\partial y}=x-4y$$\n",
    "\n",
    "$$解得u=xy-x^{3}-2y^2$$\n",
    "\n",
    "$$所以方程通解为xy-x^{3}-2y^2=c,c为任意常数$$"
   ]
  },
  {
   "cell_type": "markdown",
   "metadata": {
    "collapsed": true
   },
   "source": [
    "# <font color='red'>A  19/9 "
   ]
  },
  {
   "cell_type": "code",
   "execution_count": null,
   "metadata": {
    "collapsed": true
   },
   "outputs": [],
   "source": []
  }
 ],
 "metadata": {
  "kernelspec": {
   "display_name": "SageMath 7.3",
   "language": "",
   "name": "sagemath"
  },
  "language_info": {
   "codemirror_mode": {
    "name": "ipython",
    "version": 2
   },
   "file_extension": ".py",
   "mimetype": "text/x-python",
   "name": "python",
   "nbconvert_exporter": "python",
   "pygments_lexer": "ipython2",
   "version": "2.7.10"
  }
 },
 "nbformat": 4,
 "nbformat_minor": 0
}
