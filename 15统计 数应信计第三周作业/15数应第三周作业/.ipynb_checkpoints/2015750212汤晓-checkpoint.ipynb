{
 "cells": [
  {
   "cell_type": "markdown",
   "metadata": {
    "collapsed": true
   },
   "source": [
    "$(1)\\frac{\\mathrm{d}y}{\\mathrm{d}x}=\\frac{ny}{x}+(e^x)(x^n)$\n",
    "\n",
    "$\\frac{\\mathrm{d}y}{\\mathrm{d}x}=\\frac{ny}{x}$\n",
    "\n",
    "$1/y\\mathrm{d}y=\\frac{n}{x}dx$\n",
    "\n",
    "$lny= ln(x^n)+c$\n",
    "$$y=cx^n$$\n",
    "$y=c(x)x^n $\n",
    "\n",
    "$\\frac{\\mathrm{d}y}{\\mathrm{d}x}=\\frac{\\mathrm{d}c(x)x^n}{\\mathrm{d}x}+nx^(n-1)c(x)$\n",
    "\n",
    "$c(x)=e^x$\n",
    "\n",
    "$\\int\\frac{\\mathrm{d}y}{\\mathrm{d}x}=\\int\\frac{x^n\\mathrm{d}e^x}{\\mathrm{d}x}+\\frac{nx^(n-1)y}{x^n}\\mathrm{d}x$"
   ]
  },
  {
   "cell_type": "markdown",
   "metadata": {},
   "source": [
    "# <font color='red'>？？？"
   ]
  },
  {
   "cell_type": "markdown",
   "metadata": {},
   "source": [
    "$(15)$\n",
    "\n",
    "$\\frac{y^(-3)\\mathrm{d}y}{\\mathrm{d}x}=y^(-2)x+x^3$\n",
    "\n",
    "$z=y^(-2)$\n",
    "\n",
    "$\\frac{\\mathrm{d}z}{\\mathrm{d}x}= \\frac{-2y^(-3)\\mathrm{d}y}{\\mathrm{d}x}$\n",
    "\n",
    "$\\frac{\\mathrm{d}z}{\\mathrm{d}x}=(-2)zx+(-2)x^3$\n",
    "\n",
    "$z=c(x)e^(-x^2)$\n",
    "$\\frac{\\mathrm{d}z}{\\mathrm{d}x}=\\frac{\\mathrm{d}c(x)e^(-x^2)}{\\mathrm{d}x}+c(x)e^(-x^2)(-2x)$\n",
    "$\\int\\frac{\\mathrm{d}c(x)}{\\mathrm{d}x}=\\int\\frac{-2zx}{e^(-2x)}-c(x)(-2x) \\mathrm{d}x$\n"
   ]
  },
  {
   "cell_type": "markdown",
   "metadata": {},
   "source": [
    "# <font color='red'>？？？？"
   ]
  },
  {
   "cell_type": "markdown",
   "metadata": {},
   "source": [
    "$(16)$\n",
    "\n",
    "$\\frac{\\mathrm{d}y}{\\mathrm{d}x}=e^x+y(x)$\n",
    "$y=c(x)e^x$\n",
    "$\\frac{\\mathrm{d}y}{\\mathrm{d}x}=\\frac{\\mathrm{d}c(x)e^x}{\\mathrm{d}x}+e^xc(x)$\n",
    "$\\int\\frac{\\mathrm{d}y}{\\mathrm{d}x}=1$\n",
    "$\\int\\frac{\\mathrm{d}y}{\\mathrm{d}x}=\\int xe^x+e^x\\mathrm{d}x$"
   ]
  },
  {
   "cell_type": "markdown",
   "metadata": {},
   "source": [
    "# <font color='red'>？？？？？？"
   ]
  },
  {
   "cell_type": "markdown",
   "metadata": {},
   "source": [
    "$p60(1)$\n",
    "\n",
    "$\\frac{\\partial (x^2+y)}{\\partial y}=1$\n",
    "$\\frac{\\partial (x-2y)}{\\partial x}=1$\n",
    "\n",
    "$\\frac{\\partial u}{\\partial x}=x^2+y$\n",
    "$\\frac{\\partial u}{\\partial y}=x-2y$\n",
    "$u=\\frac{1}{3}x^3+y+c(y)$\n",
    "$\\frac{\\partial u}{\\partial y}=x+\\frac{\\mathrm{d}c(y)}{\\mathrm{d}y}$\n",
    "$c(y)=y^2$\n",
    "\n",
    "$u=\\frac{1}{3}x^3+y+c(y)+y^2$"
   ]
  },
  {
   "cell_type": "markdown",
   "metadata": {},
   "source": [
    "$p60(2)$\n",
    "\n",
    "$\\frac{\\partial (y-x^2)}{\\partial y}=1$\n",
    "$\\frac{\\partial (x-4y)}{\\partial y}=1$\n",
    "$\\frac{\\partial u}{\\partial x}=y-3x^2$\n",
    "$u=yx-x^3+c(x)$\n",
    "$\\frac{\\partial u}{\\partial y}=x+\\frac{\\mathrm{d}c(y)}{\\mathrm{d}y}=4y+x$\n",
    "\n",
    "$c(y)=2y^2$\n",
    "\n",
    "$u=yx-x^3+2y^2$"
   ]
  },
  {
   "cell_type": "markdown",
   "metadata": {},
   "source": [
    "$p50 7 (3)$\n",
    "\n",
    "$\\frac{\\mathrm{d}y}{\\mathrm{d}x}=\\frac{y}{(\\sin x)(\\cos x)}+\\frac{(\\sin x)^3}{(\\sin x)(\\cos x)}$\n",
    "\n",
    "$\\frac{\\mathrm{d}y}{\\mathrm{d}x}=\\frac{y}{(\\sin x)(\\cos x)}$\n",
    "\n",
    "$y=|\\sin 2x|$\n",
    "$c(x)=2+\\cot 2x$\n",
    " \n",
    "$\\int\\ 2-\\frac{\\cos 2x}{\\sin 2x} \\mathrm {d}x$"
   ]
  },
  {
   "cell_type": "markdown",
   "metadata": {},
   "source": [
    "# <font color='red'>？？？？？"
   ]
  },
  {
   "cell_type": "markdown",
   "metadata": {
    "collapsed": true
   },
   "source": [
    "# <font color='red'>c  19/9 "
   ]
  },
  {
   "cell_type": "code",
   "execution_count": null,
   "metadata": {
    "collapsed": true
   },
   "outputs": [],
   "source": []
  }
 ],
 "metadata": {
  "kernelspec": {
   "display_name": "SageMath 7.3",
   "language": "",
   "name": "sagemath"
  },
  "language_info": {
   "codemirror_mode": {
    "name": "ipython",
    "version": 2
   },
   "file_extension": ".py",
   "mimetype": "text/x-python",
   "name": "python",
   "nbconvert_exporter": "python",
   "pygments_lexer": "ipython2",
   "version": "2.7.10"
  }
 },
 "nbformat": 4,
 "nbformat_minor": 0
}
