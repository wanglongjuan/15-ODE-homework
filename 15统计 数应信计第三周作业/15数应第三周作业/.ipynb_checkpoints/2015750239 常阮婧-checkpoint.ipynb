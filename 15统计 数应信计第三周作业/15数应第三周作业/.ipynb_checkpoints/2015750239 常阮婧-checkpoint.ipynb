{
 "cells": [
  {
   "cell_type": "markdown",
   "metadata": {},
   "source": [
    "# 1.课堂作业"
   ]
  },
  {
   "cell_type": "markdown",
   "metadata": {},
   "source": [
    "### $\\int_{x_0}^x\\mathrm f(t)\\,\\mathrm{d}t$是F(x)的原函数，求解F(X)的导数"
   ]
  },
  {
   "cell_type": "markdown",
   "metadata": {},
   "source": [
    "**解：**$F(x)'=\\frac{d}{dx}F(x)=f(x)$"
   ]
  },
  {
   "cell_type": "markdown",
   "metadata": {},
   "source": [
    "# 1.求下列方程的解"
   ]
  },
  {
   "cell_type": "markdown",
   "metadata": {},
   "source": [
    "### (4)$\\frac{dy}{dx}-\\frac{n}{x}y=e^xx^n$(n为常数）"
   ]
  },
  {
   "cell_type": "markdown",
   "metadata": {},
   "source": [
    "**解：**首先，求齐次线性微分方程$$\\frac{dy}{dx}-\\frac{n}{x}y=0$$的通解"
   ]
  },
  {
   "cell_type": "markdown",
   "metadata": {},
   "source": [
    "得到通解为$$y=cx^n$$"
   ]
  },
  {
   "cell_type": "markdown",
   "metadata": {},
   "source": [
    "应用常数变易法求非齐次线性微分方程的通解，为此，将上式中的c看成待定函数c(x),微分的$$\\frac{dy}{dx}=\\frac{dc(x)}{dx}x^n+nx^{n-1}c(x)$$"
   ]
  },
  {
   "cell_type": "markdown",
   "metadata": {},
   "source": [
    "得到$$\\frac{dc(x)}{dx}=e^x$$"
   ]
  },
  {
   "cell_type": "markdown",
   "metadata": {},
   "source": [
    "积分得$$c(x)=e^x+c$$"
   ]
  },
  {
   "cell_type": "markdown",
   "metadata": {},
   "source": [
    "将c(x)代入，求得原方程的通解为$$y=x^n(e^x+c)$$"
   ]
  },
  {
   "cell_type": "markdown",
   "metadata": {},
   "source": [
    "### (15)$\\frac{dy}{dx}=\\frac{1}{xy+x^3y^3}$"
   ]
  },
  {
   "cell_type": "markdown",
   "metadata": {},
   "source": [
    "**解：**令$u=y^2$,则有，$$\\frac{du}{dx}=\\frac{2}{x+x^3u}$$"
   ]
  },
  {
   "cell_type": "markdown",
   "metadata": {},
   "source": [
    "将u看做自变量，方程改写为$$\\frac{dx}{du}=\\frac{x}{2}+\\frac{u}{2}x^3$$"
   ]
  },
  {
   "cell_type": "markdown",
   "metadata": {},
   "source": [
    "得到一伯努利微分方程，引入变量变换$$z=x^{-2}$$"
   ]
  },
  {
   "cell_type": "markdown",
   "metadata": {},
   "source": [
    "从而$$\\frac{dz}{du}=-2x^{-3}\\frac{dx}{du}$$"
   ]
  },
  {
   "cell_type": "markdown",
   "metadata": {},
   "source": [
    "代入得$$\\frac{dz}{du}=-z-u$$\n",
    "$$z=e^{\\int\\mathrm {-1}\\,\\mathrm{d}u}(\\int\\mathrm {(-u)e^{\\int\\mathrm {1}\\,\\mathrm{d}u}}\\,\\mathrm{d}u+c)$$"
   ]
  },
  {
   "cell_type": "markdown",
   "metadata": {},
   "source": [
    "求得$$z=ce^{-u}-u+1$$"
   ]
  },
  {
   "cell_type": "markdown",
   "metadata": {},
   "source": [
    "将z,u代入原方程，得到$$\\frac{1}{x^2}=ce^{-u}-y^2+1$$"
   ]
  },
  {
   "cell_type": "markdown",
   "metadata": {},
   "source": [
    "### (16)$y=e^x+\\int_0^x\\mathrm y(t)\\,\\mathrm{d}t$"
   ]
  },
  {
   "cell_type": "markdown",
   "metadata": {},
   "source": [
    "**解：**将方程对变量x求导得"
   ]
  },
  {
   "cell_type": "markdown",
   "metadata": {},
   "source": [
    "$$\\frac{dy}{dx}=e^x+y$$"
   ]
  },
  {
   "cell_type": "markdown",
   "metadata": {},
   "source": [
    "得到通解为$$y=e^x(\\int\\mathrm e^xe^{-x}\\,\\mathrm{d}x+c)$$"
   ]
  },
  {
   "cell_type": "markdown",
   "metadata": {},
   "source": [
    "即，原方程的通解为$$y=e^x(x+c)$$"
   ]
  },
  {
   "cell_type": "markdown",
   "metadata": {},
   "source": [
    "# <font color='red'>特解？？"
   ]
  },
  {
   "cell_type": "markdown",
   "metadata": {},
   "source": [
    "# 7.求解下列方程"
   ]
  },
  {
   "cell_type": "markdown",
   "metadata": {},
   "source": [
    "### （3）$y'\\sin x\\cos x-y-{\\sin ^3x}=0$"
   ]
  },
  {
   "cell_type": "markdown",
   "metadata": {},
   "source": [
    "**解：**方程可变形为$$\\frac{dy}{dx}=\\frac{y}{\\sin x\\cos x}+\\frac{\\sin x^2}{\\cos x}(\\sin x\\not=0 \\cos x\\not=0)$$"
   ]
  },
  {
   "cell_type": "markdown",
   "metadata": {},
   "source": [
    "得通解为$$y=e^{\\int\\mathrm {\\frac{1} {\\sin x\\cos x}}\\,\\mathrm{d}x}(\\int\\mathrm {\\frac{\\sin ^2x} {\\cos x}e^{-\\int\\mathrm {\\frac{1} {\\sin x\\cos x}}}\\,\\mathrm{d}x}\\,\\mathrm{d}x+c)$$"
   ]
  },
  {
   "cell_type": "markdown",
   "metadata": {},
   "source": [
    "得到$$y=c\\tan x-sin x$$"
   ]
  },
  {
   "cell_type": "markdown",
   "metadata": {},
   "source": [
    "当$\\sin x=0$时，原方程为y=o "
   ]
  },
  {
   "cell_type": "markdown",
   "metadata": {},
   "source": [
    "当$\\cos x=0$时，原方程为$y=-\\sin ^3x=\\pm1$,此时，曲线退化为点$(2k\\pi+\\frac{\\pi}{2},-1),(2k\\pi-\\frac{\\pi}{2},1),k=o,\\pm1,\\pm2…………$"
   ]
  },
  {
   "cell_type": "markdown",
   "metadata": {},
   "source": [
    "综上，原方程的解为$$y=c\\tan x-\\sin x(x\\pm k\\pi\\pm\\frac{\\pi}{2})$$"
   ]
  },
  {
   "cell_type": "markdown",
   "metadata": {},
   "source": [
    "或者 $$-(k\\pi+\\frac{\\pi}{2},c-1^{k+1}),k=0,\\pm1,\\pm2…………$$"
   ]
  },
  {
   "cell_type": "markdown",
   "metadata": {
    "collapsed": true
   },
   "source": [
    "# 1.验证下列方程是恰当微分方程，并求出方程的解"
   ]
  },
  {
   "cell_type": "markdown",
   "metadata": {},
   "source": [
    "### （1）$(x^2+y) dx+(x-2y) dy=0$"
   ]
  },
  {
   "cell_type": "markdown",
   "metadata": {},
   "source": [
    "**解：**这里$M=x^2+y,N=x-2y$，这时\n",
    "$$\\frac{\\partial M}{\\partial y}=1,\\frac{\\partial N}{\\partial x}=1$$\n",
    "因此方程是恰当微分方程\n",
    "现在求u，使它同时满足如下两个方程：\n",
    "$$\\frac{\\partial u}{\\partial x}=x^2+y$$\n",
    "$$\\frac{\\partial u}{\\partial y}=x-2y$$\n",
    "第一个方程对x积分，得到\n",
    "$$u=\\frac{1}{3}x^3+xy+\\varphi(y)$$\n",
    "为了确定$\\varphi(y)$,将上式对y求导，得\n",
    "$$\\frac{\\partial u}{\\partial y}=x+\\frac{d\\varphi(y)}{dy}=x-2y$$\n",
    "于是\n",
    "$$\\frac{d\\varphi(y)}{dy}=-2y$$\n",
    "积分后得\n",
    "$$\\varphi(y)=-y^2$$\n",
    "将$\\varphi(y)=-y^2$带入，得到\n",
    "$$u=\\frac{1}{3}x^3+xy-y^2$$\n",
    "因此，方程的通解为\n",
    "$$\\frac{1}{3}x^3+xy-y^2=c,$$\n",
    "c为任意常数"
   ]
  },
  {
   "cell_type": "markdown",
   "metadata": {},
   "source": [
    "### (2)$(y-3x^2)dx-(4y-x)dy=0$"
   ]
  },
  {
   "cell_type": "markdown",
   "metadata": {},
   "source": [
    "**解：**这里$M=y-3x^2,N=x-4y$,这时\n",
    "$$\\frac{\\partial M}{\\partial y}=1,\\frac{\\partial N}{\\partial x}=1$$\n",
    "因此方程是恰当微分方程\n",
    "现在求u，使它同时满足如下两个方程：\n",
    "$$\\frac{\\partial u}{\\partial x}=y-3x^2$$\n",
    "$$\\frac{\\partial u}{\\partial y}=x-4y$$\n",
    "第一个方程对x积分，得到\n",
    "$$u=xy-x^3+\\varphi(y)$$\n",
    "为了确定$\\varphi(y)$,将上式对y求导，得\n",
    "$$\\frac{\\partial u}{\\partial y}=x+\\frac{d\\varphi(y)}{dy}=x-4y$$\n",
    "于是\n",
    "$$\\frac{d\\varphi(y)}{dy}=-4y$$\n",
    "积分后得\n",
    "$$\\varphi(y)=-2y^2$$\n",
    "将$\\varphi(y)=-2y^2$带入，得到\n",
    "$$u=xy-x^3-2y^2$$\n",
    "因此，方程的通解为\n",
    "$$xy-x^3-2y^2=c,$$\n",
    "c为任意常数\n",
    "\n"
   ]
  },
  {
   "cell_type": "markdown",
   "metadata": {
    "collapsed": true
   },
   "source": [
    "# <font color='red'>A  19/9 "
   ]
  },
  {
   "cell_type": "code",
   "execution_count": null,
   "metadata": {
    "collapsed": true
   },
   "outputs": [],
   "source": []
  }
 ],
 "metadata": {
  "kernelspec": {
   "display_name": "SageMath 7.3",
   "language": "",
   "name": "sagemath"
  },
  "language_info": {
   "codemirror_mode": {
    "name": "ipython",
    "version": 2
   },
   "file_extension": ".py",
   "mimetype": "text/x-python",
   "name": "python",
   "nbconvert_exporter": "python",
   "pygments_lexer": "ipython2",
   "version": "2.7.10"
  }
 },
 "nbformat": 4,
 "nbformat_minor": 0
}
