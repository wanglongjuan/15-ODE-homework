{
 "cells": [
  {
   "cell_type": "markdown",
   "metadata": {},
   "source": [
    "# 1.求下列方程的解："
   ]
  },
  {
   "cell_type": "markdown",
   "metadata": {},
   "source": [
    "## （1）$\\frac{dy} {dx}-\\frac{n} {x}y=e^xx^n(n为常数）；$"
   ]
  },
  {
   "cell_type": "markdown",
   "metadata": {},
   "source": [
    "求齐次线性方程组可得 $\\frac{dy} {dx}-\\frac{n} {x}y=0$"
   ]
  },
  {
   "cell_type": "markdown",
   "metadata": {},
   "source": [
    "即 $$\\frac{dy} {y}=n\\frac{dx} {x}$$\n"
   ]
  },
  {
   "cell_type": "markdown",
   "metadata": {},
   "source": [
    "得到齐次线性微分方程的通解为$y=cx^n$"
   ]
  },
  {
   "cell_type": "markdown",
   "metadata": {},
   "source": [
    "为此，在上式中把c看成是x的待定函数c(x）.即  $y=c(x)x^n$"
   ]
  },
  {
   "cell_type": "markdown",
   "metadata": {},
   "source": [
    "微分之，得到  $$\\frac{dy} {dx}=\\frac{dc(x)} {dx}x^n+n x^{n-1} c(x)$$"
   ]
  },
  {
   "cell_type": "markdown",
   "metadata": {},
   "source": [
    "多式化简得 $$\\frac{dc(x)} {dx}x^n+nx^{n-1}c(x)=\\frac{n} {x}c(x)x^n+e^xx^n$$"
   ]
  },
  {
   "cell_type": "markdown",
   "metadata": {},
   "source": [
    "即$c(x)=e^x+m$"
   ]
  },
  {
   "cell_type": "markdown",
   "metadata": {},
   "source": [
    "因此，即得到原方程组的通解为$$y=x^n(e^x+m)$$"
   ]
  },
  {
   "cell_type": "markdown",
   "metadata": {},
   "source": [
    "## (2)$\\frac{dy} {dx}=\\frac{1} {xy+x^3y^3}$"
   ]
  },
  {
   "cell_type": "markdown",
   "metadata": {},
   "source": [
    "令 $u=y^2$,则原方程化为$$\\frac{du} {dx}=\\frac{2} {x+x^3u}$$"
   ]
  },
  {
   "cell_type": "markdown",
   "metadata": {},
   "source": [
    "即$$\\frac{dx} {du}=\\frac{x} {2}+\\frac{u} {2}x^3$$"
   ]
  },
  {
   "cell_type": "markdown",
   "metadata": {},
   "source": [
    "这是n=3时的伯努利方程，则令$z=x^{-2}$"
   ]
  },
  {
   "cell_type": "markdown",
   "metadata": {},
   "source": [
    "得$$\\frac{dz} {du}=-2x^{-3}\\frac{dx} {du}$$"
   ]
  },
  {
   "cell_type": "markdown",
   "metadata": {},
   "source": [
    "各式化简，由教材中的公式化简可得它的通解为$$z=ce^{-u}-u+1$$"
   ]
  },
  {
   "cell_type": "markdown",
   "metadata": {},
   "source": [
    "把$z=x^{-2},u==y^2$代入得原方程的通解为$\\frac{1} {x^2}=ce^{-u}-y^2+1或(1-x^2+x^2-y^2)a^{y^2}=cx^2$"
   ]
  },
  {
   "cell_type": "markdown",
   "metadata": {},
   "source": [
    "# (3)$y=e^x+\\int_0^x \\mathrm y(x)\\,\\mathrm{d}t$"
   ]
  },
  {
   "cell_type": "markdown",
   "metadata": {},
   "source": [
    "对方程的两端关于变量x求导得$\\frac{dy} {dx}=e^x+y$"
   ]
  },
  {
   "cell_type": "markdown",
   "metadata": {},
   "source": [
    "这是一阶微分方程，由公式可得其通解为$$y=e^x(x+c)$$"
   ]
  },
  {
   "cell_type": "markdown",
   "metadata": {},
   "source": [
    "因为当x=0时，y=1.则可以求出c=1"
   ]
  },
  {
   "cell_type": "markdown",
   "metadata": {},
   "source": [
    "因此，原方程的解为$$y=e^x(x+1)$$"
   ]
  },
  {
   "cell_type": "markdown",
   "metadata": {},
   "source": [
    "# 2.求解下列方程："
   ]
  },
  {
   "cell_type": "markdown",
   "metadata": {},
   "source": [
    "## (1)$y'\\sin x \\cos x-y-{\\sin^3 x}=0$"
   ]
  },
  {
   "cell_type": "markdown",
   "metadata": {},
   "source": [
    "上式可变形为$$\\frac{dy} {dx}=\\frac{y} {sin xcos x}+\\frac{sin^2 x} {cos x}(sin x\\not=0,cos x\\not=0)$$"
   ]
  },
  {
   "cell_type": "markdown",
   "metadata": {},
   "source": [
    "所以可得其通解为$$y=\\tan x(\\int\\mathrm{\\frac{\\sin^2 x} {\\cos x} \\cot x}\\,\\mathrm{d}x+c)$$"
   ]
  },
  {
   "cell_type": "markdown",
   "metadata": {},
   "source": [
    "即$$y=c\\tan x-\\sin x$$"
   ]
  },
  {
   "cell_type": "markdown",
   "metadata": {},
   "source": [
    "当$\\sin x=o$时，原方程化为y=0."
   ]
  },
  {
   "cell_type": "markdown",
   "metadata": {},
   "source": [
    "当$\\cos x=0$时，原方程化为$y=-\\sin^3 x=+1或-1$,即曲线退化成点$（2k\\pi+\\frac{\\pi} {2},-1）$和$(2k\\pi+\\frac{\\pi} {2},1)$,k为常数"
   ]
  },
  {
   "cell_type": "markdown",
   "metadata": {},
   "source": [
    "综上所述，原方程的解为$$y=c\\tan x-\\sin x,(x\\not=k\\pi+\\frac{\\pi} {2})$$"
   ]
  },
  {
   "cell_type": "markdown",
   "metadata": {},
   "source": [
    "或者点$$-(k\\pi+\\frac{\\pi} {2},c-1^{k+1}),k为常数$$"
   ]
  },
  {
   "cell_type": "markdown",
   "metadata": {},
   "source": [
    "# 1.验证下列方程是恰当微分方程，并求出方程的解："
   ]
  },
  {
   "cell_type": "markdown",
   "metadata": {},
   "source": [
    "## (1)$(y-3x^2)dx-(4y-x)dy=0$"
   ]
  },
  {
   "cell_type": "markdown",
   "metadata": {},
   "source": [
    "这里令$M=y-3x^2,N=x-4y$,则$$\\frac{\\partial M} {\\partial x}=1,\\frac{\\partial N} {\\partial x}=1$$"
   ]
  },
  {
   "cell_type": "markdown",
   "metadata": {},
   "source": [
    "因此方程是恰当微分方程."
   ]
  },
  {
   "cell_type": "markdown",
   "metadata": {},
   "source": [
    "设\n",
    "\\begin{cases}\n",
    "\\frac{\\partial u} {\\partial x}=y-3x^2\\\\\\frac{\\partial u} {\\partial y}=x-4y\n",
    "\\end{cases}"
   ]
  },
  {
   "cell_type": "markdown",
   "metadata": {},
   "source": [
    "所以得到$u=xy-x^3+f(y)$"
   ]
  },
  {
   "cell_type": "markdown",
   "metadata": {},
   "source": [
    "求导可得$$\\frac{\\partial u} {\\partial y}=x+f'(y）=x-4y$$\n"
   ]
  },
  {
   "cell_type": "markdown",
   "metadata": {},
   "source": [
    "即得$f'(x)=-4y$"
   ]
  },
  {
   "cell_type": "markdown",
   "metadata": {},
   "source": [
    "积分后得到$f(y)=-2y^2$"
   ]
  },
  {
   "cell_type": "markdown",
   "metadata": {},
   "source": [
    "因此，方程的通解为  $x^3-xy+2y^2=c$,这里c是任意常数"
   ]
  },
  {
   "cell_type": "markdown",
   "metadata": {
    "collapsed": true
   },
   "source": [
    "# <font color='red'> B 9/9  缺一道题"
   ]
  },
  {
   "cell_type": "code",
   "execution_count": null,
   "metadata": {
    "collapsed": true
   },
   "outputs": [],
   "source": []
  }
 ],
 "metadata": {
  "kernelspec": {
   "display_name": "SageMath 7.3",
   "language": "",
   "name": "sagemath"
  },
  "language_info": {
   "codemirror_mode": {
    "name": "ipython",
    "version": 2
   },
   "file_extension": ".py",
   "mimetype": "text/x-python",
   "name": "python",
   "nbconvert_exporter": "python",
   "pygments_lexer": "ipython2",
   "version": "2.7.10"
  }
 },
 "nbformat": 4,
 "nbformat_minor": 0
}
