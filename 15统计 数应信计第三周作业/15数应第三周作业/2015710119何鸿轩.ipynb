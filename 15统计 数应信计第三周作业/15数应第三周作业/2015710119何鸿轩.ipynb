{
 "cells": [
  {
   "cell_type": "markdown",
   "metadata": {},
   "source": [
    "# 1.求下列方程的解：\n"
   ]
  },
  {
   "cell_type": "markdown",
   "metadata": {},
   "source": [
    "$(4) \\frac{dy}{dx}-\\frac{n}{x}y = e^x x^n(n为常数)$\n",
    "\n",
    "$解：先求齐次方程的通解：$\n",
    "\n",
    "$$\n",
    "\\begin{aligned}\n",
    "\\frac{dy}{dx} &=\\frac{n}{x}y\\\\\n",
    "\\frac{dy}{ny} &=\\frac{dx}{x}\\\\\n",
    "y &= Cx^n\\\\\n",
    "\\frac{dy}{dx} &=C'(x)x^n+nC(x)x^{n-1}\\\\\n",
    "C'(x)x^n+nC(x)x^{n-1}-\\frac{n}{x}C(x)x^n &=e^x x^n\\\\\n",
    "\\frac{dC(x)}{dx} &=e^x\\\\\n",
    "C(x) &=e^x+C\\\\\n",
    "\\end{aligned}$$\n",
    "$原方程的解为y =(e^x +C) x^n$"
   ]
  },
  {
   "cell_type": "markdown",
   "metadata": {},
   "source": [
    "$(15)\\frac{dy}{dx}=\\frac{1}{xy+x^3y^3}$\n",
    "\n",
    "$解：\\frac{dx}{dy}=xy + x^3y^3$\n",
    "$这是伯努利微分方程，令z=x^{-2}$\n",
    "$$\n",
    "\\begin{aligned}\n",
    "\\frac{dz}{dy} &=-2x^{-3}\\frac{dx}{dy}\\\\\n",
    "\\frac{dz}{dy} &=-2yz-2y^3\\\\\n",
    "利用公式 :y &=e^{\\int{P(x)dx}}(\\int{Q(x)e^{-\\int{P(x)dx}}dx}+C)\\\\\n",
    "得通解 ：z &=e^{-y^2}[e^{y^2}(1-y^2)+C]\\\\\n",
    "则 ：\\frac{1}{x^2} &=e^{-y^2}[e^{y^2}(1-y^2)+C]\\\\\n",
    "\\end{aligned}$$\n",
    "$所以方程的解为：$$$e^{y^2}(1-x^2+x^2y^2) =Cx^2$$"
   ]
  },
  {
   "cell_type": "markdown",
   "metadata": {},
   "source": [
    "$(16)y = e^x+\\int_0^x{y(t)dt}$\n",
    "\n",
    "$解：$$$\\frac{dy}{dx}=e^x+y$$\n",
    "\n",
    "$$即P(x)=1,Q(x)=e^x$$\n",
    "\n",
    "$$利用公式 :y =e^{\\int{P(x)dx}}(\\int{Q(x)e^{-\\int{P(x)dx}}dx}+C)$$\n",
    "\n",
    "$$得y=e^x(x+C)$$\n",
    "\n",
    "$$因为x=0时y=1$$\n",
    "\n",
    "$$所以通解为：y=e^x(x+1)$$"
   ]
  },
  {
   "cell_type": "markdown",
   "metadata": {},
   "source": [
    "# 7.求解下列方程："
   ]
  },
  {
   "cell_type": "markdown",
   "metadata": {},
   "source": [
    "$(3)y'\\sin x\\cos x-y-\\sin^3 x=0$\n",
    "\n",
    "$解：$$$y'=\\frac{y}{\\sin x\\cos x}+\\frac{\\sin^2 x}{\\cos x}$$\n",
    "\n",
    "$$P(x)=\\frac{1}{\\sin x\\cos x},Q(x)=\\frac{\\sin^2 x}{\\cos x}$$\n",
    "\n",
    "$代入通解公式$\n",
    "\n",
    "$$y =e^{\\int{\\frac{1}{\\sin 2x}d(2x)}}(\\int{\\frac{\\sin^2 x}{\\cos x}e^{-\\int{\\frac{1}{\\sin 2x}d(2x)}dx}dx}+C)$$\n",
    "\n",
    "$$y=(\\csc 2x-\\cot 2x)(\\int{\\frac{\\sin^2 x}{\\cos x}\\frac{1}{\\csc 2x-\\cot 2x}dx}+C)$$\n",
    "\n",
    "$$y=(\\csc 2x-\\cot 2x)(\\int{\\sin xdx}+C)$$\n",
    "\n",
    "$得解$$$y=-\\sin x+C\\tan x$$"
   ]
  },
  {
   "cell_type": "markdown",
   "metadata": {},
   "source": [
    "# <font color='red'>特解？？？??"
   ]
  },
  {
   "cell_type": "markdown",
   "metadata": {
    "collapsed": true
   },
   "source": [
    "# 1.验证下列方程是恰当微分方程，并求出方程的解："
   ]
  },
  {
   "cell_type": "markdown",
   "metadata": {},
   "source": [
    "$(1)(x^2+y)dx+(x-2y)dy=0$\n",
    "$解：$$$M=x^2+y,N=x-2y$$\n",
    "\n",
    "$$\\frac{\\partial M}{\\partial y}=1,\\frac{\\partial N}{\\partial x}=1$$\n",
    "\n",
    "$所以它是恰当微分方程$\n",
    "\n",
    "$$\n",
    "\\begin{aligned}\n",
    "\\frac{\\partial u}{\\partial x} &=x^2+y\\\\\n",
    "u &=\\frac{x^3}{3}+xy+\\varphi (y)\\\\\n",
    "\\frac{\\partial u}{\\partial y} &=x+\\frac{d\\varphi(y)}{dy}=x-2y\\\\\n",
    "d\\varphi(y) &=-2ydy\\\\\n",
    "\\varphi(y) &=-y^2\\\\\n",
    "u &=\\frac{x^3}{3}+xy-y^2\\\\\n",
    "\\end{aligned}\n",
    "$$\n",
    "\n",
    "$通解为$$$\\frac{x^3}{3}+xy-y^2=C$$"
   ]
  },
  {
   "cell_type": "markdown",
   "metadata": {},
   "source": [
    "$(2)(y-3x^2)dx-(4y-x)dy=0$\n",
    "\n",
    "$解：$$$M=y-3x^2,N=x-4y$$\n",
    "\n",
    "$$\\frac{\\partial M}{\\partial y}=1,\\frac{\\partial N}{\\partial x}=1$$\n",
    "\n",
    "$所以它是恰当微分方程$\n",
    "\n",
    "$$\n",
    "\\begin{aligned}\n",
    "\\frac{\\partial u}{\\partial x} &=y-3x^2\\\\\n",
    "u &=xy-x^3+\\varphi(y)\\\\\n",
    "\\frac{\\partial u}{\\partial y} &=x+\\frac{d\\varphi(y)}{dy}=x-4y\\\\\n",
    "d\\varphi(y) &=-4ydy\\\\\n",
    "\\varphi(y) &=-2y^2\\\\\n",
    "u &=xy-x^3-2y^2\\\\\n",
    "\\end{aligned}\n",
    "$$\n",
    "\n",
    "$通解为$$$xy-x^3-2y^2=C$$"
   ]
  },
  {
   "cell_type": "markdown",
   "metadata": {
    "collapsed": true
   },
   "source": [
    "# <font color='red'>A  19/9 "
   ]
  },
  {
   "cell_type": "code",
   "execution_count": null,
   "metadata": {
    "collapsed": true
   },
   "outputs": [],
   "source": []
  }
 ],
 "metadata": {
  "kernelspec": {
   "display_name": "SageMath 7.3",
   "language": "",
   "name": "sagemath"
  },
  "language_info": {
   "codemirror_mode": {
    "name": "ipython",
    "version": 2
   },
   "file_extension": ".py",
   "mimetype": "text/x-python",
   "name": "python",
   "nbconvert_exporter": "python",
   "pygments_lexer": "ipython2",
   "version": "2.7.10"
  }
 },
 "nbformat": 4,
 "nbformat_minor": 0
}
