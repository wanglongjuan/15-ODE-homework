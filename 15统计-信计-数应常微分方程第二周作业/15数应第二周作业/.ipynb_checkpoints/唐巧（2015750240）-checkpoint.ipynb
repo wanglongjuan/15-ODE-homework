{
 "cells": [
  {
   "cell_type": "markdown",
   "metadata": {},
   "source": [
    "P27 3.验证下列各函数是相应微分方程的解\n",
    "\n",
    "(7) y=x^2+1,y'=y^2-(x^2+1)*y+2*x"
   ]
  },
  {
   "cell_type": "markdown",
   "metadata": {},
   "source": [
    "因为$y=x^2+1,dy/dx=y^2-(x^2+1)*y+2*x=2*x$\n",
    "\n",
    "所以右边$=y^2-(x^2+1)*y+2*x=(x^2+1)^2-(x^2+1)*(x^2+1)+2*x=2*x=y'=$左边\n",
    "\n",
    "因此，$y=x^2+1$是微分方程$y'=y^2-(x^2+1)*y+2*x$的解\n",
    "\n"
   ]
  },
  {
   "cell_type": "markdown",
   "metadata": {},
   "source": [
    "（8）$y=-[g(x)/f(x)],y'=[f'(x)/g(x)]*(y^2)-g'(x)/f(x)$\n",
    "\n",
    "\n",
    "因为$y=-g(x)/f(x)$,所以$y'=-(g'(x)*f(x)-f'(x)*g(x))/f^2(x)$\n",
    "\n",
    "\n",
    "右边$=(f'(x)/g(x))*[(g'(x)/f(x))^2]-g'(x)/f(x)=(f'(x)*g(x))/f^2(x)-g'(x)/f(x)=[f'(x)*g(x)-g'(x)*f(x)]/f^2(x)=y'=$左边\n",
    "\n",
    "\n",
    "所以，$y=-g(x)/f(x)$是微分方程$y'=[f'(x)/g(x)]*y^2-g'(x)/f(x)$的解"
   ]
  },
  {
   "cell_type": "markdown",
   "metadata": {},
   "source": [
    "P42 1.求下列方程的解\n",
    "\n",
    "（6）$x*dy/dx-y+[(x^2-y^2)^(1/2)]=0$"
   ]
  },
  {
   "cell_type": "markdown",
   "metadata": {},
   "source": [
    "解：原方程可化为$x*dy-y*dx+[(x^2-y^2)^(1/2)]*dx=0$\n",
    "\n",
    "\n",
    "可知当$y^2=x^2$时，方程有解即$y^2=x^2$\n",
    "\n",
    "\n",
    "方程又可化为$(x*dy-y*dx)/[(x^2-y^2)^(1/2)]+dx=0$同时除以x\n",
    "\n",
    "\n",
    "得到$d(y/x)/[(1-(y/x)^2]^(1/2)+(1/x)dx=0$积分得到$arcsin(y/x)+ln|x|+c=0(c为任意常数）$\n",
    "\n",
    "\n",
    "因此方程的解为$y^2=x^2$或$ arcsin(y/x)+ln|x|+c=0$"
   ]
  },
  {
   "cell_type": "markdown",
   "metadata": {},
   "source": [
    "(7)$(tany)dx-(cotx)dy=0$"
   ]
  },
  {
   "cell_type": "markdown",
   "metadata": {},
   "source": [
    "解：当tany为非零时，即y不等于kpi，k=o,1,2...可以得到$(tany)dx=(cotx)dy$\n",
    "\n",
    "两边同时求积分，可以得到方程的解为$ln|siny|=-ln|cosx|+c$\n",
    "\n",
    "即$siny*cosx=c$(c为任意正常数）\n",
    "\n",
    "当y=kpi时，也为方程的解\n",
    "\n",
    "因此方程的解为$sinycosx=c$或$y=kpi,k=0,1,2...$\n",
    "\n",
    "\n",
    "\n"
   ]
  },
  {
   "cell_type": "markdown",
   "metadata": {
    "collapsed": true
   },
   "source": [
    "2.作适当的变换求解下列方程"
   ]
  },
  {
   "cell_type": "markdown",
   "metadata": {},
   "source": [
    "(6)$dy/dx=(y^6-2*x^2)/(2*x*y^5+x^2*y^2)$"
   ]
  },
  {
   "cell_type": "markdown",
   "metadata": {},
   "source": [
    "解：令$u=y^3$,则可以将原方程化为$du/dx=(3*u^2-6*x^2)/(2*x*u+x^2)$\n",
    "\n",
    "再令$v=u/x$,则$du=v*dx+x*dv$,即上面的方程可化为$(x*dv)/dx+v=(3*v^2-6)/(2*v+1)$\n",
    "\n",
    "即$x*dv/dx=[(v-3)*(v+2)]/(2*v+1)$,即$(7/5)*(dv/v-3)+(3/5)*(dv/v+2)=dx/x$\n",
    "\n",
    "所得方程两边同时积分得到方程的解为$(v-3)^7*(v+2)^3=c*x^5$(c为任意的常数）\n",
    "\n",
    "因此原方程的解为$(y^3-3*x)^7*(y^3+2*x)^3=c*x^（15）$\n",
    "\n"
   ]
  },
  {
   "cell_type": "markdown",
   "metadata": {
    "collapsed": true
   },
   "source": [
    "(7)$dy/dx=(2*x^3+3*x*y^2+x)/(3*x^2*y+2*y^3-y)$\n"
   ]
  },
  {
   "cell_type": "markdown",
   "metadata": {
    "collapsed": true
   },
   "source": [
    "解：原方程可以化为$y*dy/(x*dx)=(2*x^2+3*y^2+1)/(3*x^2+2*y^2-1)$\n",
    "\n",
    "\n",
    "即就是$dy^2/dx^2=(2*x^2+3*y^2+1)/(3*x^2+2*y^2-1)$\n",
    "\n",
    "\n",
    "令$y^2=u,x^2=v$则得到$du/dv=(2*v+3*u+1)/(3*v+2*u-1)$\n",
    "\n",
    "\n",
    "又方程$2*v+3*u+1=0$与$3*v+2*u-1=0$的解为(1,-1),令$w=v-1,s=u+1$\n",
    "\n",
    "\n",
    "则有方程$2*w+3*s=0与3*w+2*s+0$\n",
    "\n",
    "\n",
    "则方程化为$ds/dw=(2+3*(s/w))/(3+2*(s/w))$\n",
    "\n",
    "\n",
    "令t=s/w,则有$ds/dw=t+w*dt/dw,$所以$t+w*dt/dw=(2+3*t)/(3+2*t)$\n",
    "\n",
    "\n",
    "即$w*dt/dw=(2-2*t^2)/(3+2*t)$\n",
    "\n",
    "\n",
    "当$2-2*t^2=0$时，得$y^2=x^2-2或y^2=-x^2$是原方程的解\n",
    "\n",
    "当上式不为零时，对$dw/w=(3+2t)/(2-2*t^2)$两边同时求积分，得到$y^2+x^2=(y^2-x^2+2)^5*c$\n",
    "\n",
    "\n",
    "因此原方程的解为$y^2+x^2=(y^2-x^2+2)^5*c$\n",
    "\n"
   ]
  },
  {
   "cell_type": "markdown",
   "metadata": {},
   "source": [
    "P27.4.给定一阶微分方程$dy/dx=2*x$,"
   ]
  },
  {
   "cell_type": "markdown",
   "metadata": {},
   "source": [
    "(1)求出它的通解；\n",
    "\n",
    "解：原方程可以化为$dy=2*x*dx$，对方程的两边同时积分，即可以得到$y=x^2+c$(其中c为任意的常数）\n",
    "\n",
    "因此方程的通解为$y=x^2+c$(其中c为任意的常数）"
   ]
  },
  {
   "cell_type": "markdown",
   "metadata": {},
   "source": [
    "（2)求出通过点（1，4）的特解；\n",
    "\n",
    "解：将点（1,4）代入（1）中所得的方程，即可得到$4=1+c$,得c=3\n",
    "\n",
    "因此，方程通过点（1,4）的特解为$y=x^2+3$"
   ]
  },
  {
   "cell_type": "markdown",
   "metadata": {},
   "source": [
    "（3）求出与直线$y=2*x+3$相切的解；\n",
    "\n",
    "解：因为方程$y=x^2+c与直线$y=2*x+3$相切，则有$2*x+3=x^2+c$\n",
    "\n",
    "即就是x^2-2*x+c-3=0有唯一解，由判别式得到$4-4*(c-3)=0$\n",
    "\n",
    "解得c=4,因此与直线$y=2*x+3$相切的解是$y=x^2+4$"
   ]
  },
  {
   "cell_type": "markdown",
   "metadata": {},
   "source": [
    "(4)求出满足条件$int _0^1\\mathrm y\\,\\mathrm{d}x=2$的解\n",
    "\n",
    "解：因为$int _0^1\\mathrm y\\,\\mathrm{d}x=2$，得$int _0^1\\mathrm (x^2+c)\\,\\mathrm{d}x=2$\n",
    "\n",
    "即就是$1/3+c=2$,解得$c=5/3$\n",
    "\n",
    "因此满足条件$int _0^1\\mathrm y\\,\\mathrm{d}x=2$的解为$y=x^2+5/3$\n",
    "\n"
   ]
  },
  {
   "cell_type": "markdown",
   "metadata": {},
   "source": [
    "（5）绘出（2),(3),(4)中的解的图形。\n",
    "\n"
   ]
  },
  {
   "cell_type": "code",
   "execution_count": 4,
   "metadata": {
    "collapsed": false
   },
   "outputs": [
    {
     "data": {
      "text/html": [
       "<html><script type=\"math/tex; mode=display\">\\newcommand{\\Bold}[1]{\\mathbf{#1}}x^{2} + 3</script></html>"
      ],
      "text/plain": [
       "x^2 + 3"
      ]
     },
     "metadata": {},
     "output_type": "display_data"
    },
    {
     "data": {
      "image/png": "[encoded data removed]",
      "text/plain": [
       "Graphics object consisting of 1 graphics primitive"
      ]
     },
     "execution_count": 4,
     "metadata": {},
     "output_type": "execute_result"
    }
   ],
   "source": [
    "x=var('x')\n",
    "\n",
    "f=x^2+3\n",
    "\n",
    "show(f)\n",
    "\n",
    "plot(f,(x,-2,2),figsize=2)"
   ]
  },
  {
   "cell_type": "code",
   "execution_count": 25,
   "metadata": {
    "collapsed": false
   },
   "outputs": [
    {
     "data": {
      "text/html": [
       "<html><script type=\"math/tex; mode=display\">\\newcommand{\\Bold}[1]{\\mathbf{#1}}x^{2} + 4</script></html>"
      ],
      "text/plain": [
       "x^2 + 4"
      ]
     },
     "metadata": {},
     "output_type": "display_data"
    },
    {
     "data": {
      "image/png": "[encoded data removed]",
      "text/plain": [
       "Graphics object consisting of 1 graphics primitive"
      ]
     },
     "execution_count": 25,
     "metadata": {},
     "output_type": "execute_result"
    }
   ],
   "source": [
    "var('x')\n",
    "\n",
    "f(x)=x^2+4\n",
    "\n",
    "show(f(x))\n",
    "\n",
    "plot(f,(x,-3,3),figsize=2)\n"
   ]
  },
  {
   "cell_type": "code",
   "execution_count": 26,
   "metadata": {
    "collapsed": false
   },
   "outputs": [
    {
     "data": {
      "text/html": [
       "<html><script type=\"math/tex; mode=display\">\\newcommand{\\Bold}[1]{\\mathbf{#1}}x^{2} + \\frac{5}{3}</script></html>"
      ],
      "text/plain": [
       "x^2 + 5/3"
      ]
     },
     "metadata": {},
     "output_type": "display_data"
    },
    {
     "data": {
      "image/png": "[encoded data removed]",
      "text/plain": [
       "Graphics object consisting of 1 graphics primitive"
      ]
     },
     "execution_count": 26,
     "metadata": {},
     "output_type": "execute_result"
    }
   ],
   "source": [
    "var('x')\n",
    "\n",
    "f=x^2+5/3\n",
    "\n",
    "show(f)\n",
    "\n",
    "plot(f,(x,-2,2),figsize=2)\n"
   ]
  },
  {
   "cell_type": "markdown",
   "metadata": {},
   "source": [
    "# <font color='red'>A  12/9"
   ]
  },
  {
   "cell_type": "code",
   "execution_count": null,
   "metadata": {
    "collapsed": true
   },
   "outputs": [],
   "source": []
  }
 ],
 "metadata": {
  "kernelspec": {
   "display_name": "SageMath 7.3",
   "language": "",
   "name": "sagemath"
  },
  "language_info": {
   "codemirror_mode": {
    "name": "ipython",
    "version": 2
   },
   "file_extension": ".py",
   "mimetype": "text/x-python",
   "name": "python",
   "nbconvert_exporter": "python",
   "pygments_lexer": "ipython2",
   "version": "2.7.10"
  }
 },
 "nbformat": 4,
 "nbformat_minor": 0
}
