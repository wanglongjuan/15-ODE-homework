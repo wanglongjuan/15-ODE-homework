{
 "cells": [
  {
   "cell_type": "markdown",
   "metadata": {},
   "source": [
    "习题1.2 1.验证下列函数是对应方程的解 (7)y=x^2+1,y’=y^2-(x^2+1)y+2x 解：将y=x^2+1带入，得： y’=2x=2x，得证\n",
    "\n",
    "(8)y=-g(x)/f(x),y’=f’(x))/g(x)y^2-g’(x)/f(x) 解：将y=-g(x)/f(x)带入二式，通分得到： -(g’(x)f(x)-f’(x)g(x))/f(x)^2=-(g’(x)f(x)-f’(x)*g(x))/f(x)^2 得证\n",
    "\n",
    "2.给定一阶微分方程dy/dx=x2 (1)求出它的通解 (2)求过（1，4）的特解 (3)求与直线y=2^x+3相切的解 (4)求满足条件y在0到1对x的积分=2的解 解：(1)y=x^2+c (2)4=1+c,即c=3 此特解为y=x^2+3 (3)与2x+3相切，需满足 dy/dx=2,2x+3=2x+c，解得 y=x^2+3 (4)将通解带入，有 1/3+c=2,解c=5/3 则得y=x^2+5/3\n",
    "\n",
    "习题2.1 1.求下列方程的解 (6)x(dy/dx)-y+（x^2+y^2）^(1/2)=0 解：等式两边同除以x，得到： dy/dx-y/x+(1-y^2/x^2)^(1/2)=0 设u=y/x,代入，有 xdu/dx+u=(1-u^2)^(1/2)+u,化简： du/(1-u^2)^(1/2)=1/x*dx arcsin u=ln x+c,代回 原方程通解为arcsin y/x-ln x+c=0\n",
    "\n",
    "(7)tan ydx-cot xdy=0 解：移项，有: dycot y=dxtan x,分别对y，x积分，得： -ln siny=-ln(cos x) +c 即通解为：ln(cos x/sin y)+c=0\n",
    "\n",
    "2.坐恰当的变量变换求解下列方程 (6)dy/dx=(y^6-2x^2)/2xy^5+x^2y^2 解：y^2dy/dx={(y^3/x)^2-2}/(2y^3/x+1) dy^3/3dx={(y^3/x)^2-2}/(2y^3/x+1) 令y^3=u xdu/dx+u=(3u^2-6)/(2u+1) xdu/dx=(u^2-u-6)/(2u+1) (2u+1)du/(u^2-u-6)=dx/x 7du/5(u-3)+3du/5(u+2)=dx/x 对两边求积分 ln(u-3)^7(u+2)^3=lnx^5+5C (y^3/x-3)^7(y^3/x+2)^3=x^5e^(5C)\n",
    "\n",
    "(7)dy/dx=（2x^3+3xy^2+x）/3x^2y+2y^3-y 解：dy^2/dx^2=(2x^2+3y^2+1)/(3x^2+2y^2+1) 令X=x^2-1,Y=y^2+1 dY/dX=(2X+3Y)/(3X+2Y) dY/dX=(2+3Y/X)/(3+2Y/X) 令Y/X=S xdS/dx+S=(2+3S)/(3+2S) xdS/dx=(2-2S^2)/(3+2S) 对两边求积分 -5ln(S-1)/4+ln(S+1)/4=(3+2S)dS/2(1-S)(1+S)=dx/x\n",
    "\n",
    "课上：\n",
    "\n",
    "设y(t)是dy/dt=f(y),y(0)=y_0的解，证明y_2(t)=y_1(t-t_0)是dy/dt=f(y),y(t_0)=y_0的解 dy_2(t)/dt =dy_1(t-t_0)/dt =dy_1(t-t_0)/d(t-t_0) =f(y_1(t-t_0)) =f(y_2) 所以y_2=y_1(t-t_0)也是dy/dt=f(y)的解 即t=0时，y_1(0)=y_0 所以t-t_0=0时，y_1(t-t_0)=y_0 所以y_2(t_0)=y_0\n"
   ]
  },
  {
   "cell_type": "markdown",
   "metadata": {
    "collapsed": true
   },
   "source": [
    "# <font color='red'>B 12/9"
   ]
  },
  {
   "cell_type": "code",
   "execution_count": null,
   "metadata": {
    "collapsed": true
   },
   "outputs": [],
   "source": []
  }
 ],
 "metadata": {
  "kernelspec": {
   "display_name": "SageMath 7.3",
   "language": "",
   "name": "sagemath"
  },
  "language_info": {
   "codemirror_mode": {
    "name": "ipython",
    "version": 2
   },
   "file_extension": ".py",
   "mimetype": "text/x-python",
   "name": "python",
   "nbconvert_exporter": "python",
   "pygments_lexer": "ipython2",
   "version": "2.7.10"
  }
 },
 "nbformat": 4,
 "nbformat_minor": 0
}
