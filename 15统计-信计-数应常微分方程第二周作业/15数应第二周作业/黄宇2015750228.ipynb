{
 "cells": [
  {
   "cell_type": "markdown",
   "metadata": {},
   "source": [
    "３．验证下列各函数是相应微分方程的解。\n",
    "（7）y=x*x+1,y'=y*y-(x*x+1)*y+2x\n",
    "把y=x*x+1代入到y'=y*y-(x*x+1)*y+2x，得到y'=2x,由一阶微分方程得知，符合方程"
   ]
  },
  {
   "cell_type": "markdown",
   "metadata": {},
   "source": []
  },
  {
   "cell_type": "markdown",
   "metadata": {},
   "source": [
    "（8）y=-g(x)/f(x),y'=(f'(x)/g(x))y*y-g'(x)/f(x)\n",
    "把y=-g(x)/f(x)代入到y'=(f'(x)/g(x))y*y-g'(x)/f(x)，由复合函数的求导得知，符合方程"
   ]
  },
  {
   "cell_type": "markdown",
   "metadata": {},
   "source": [
    "4．给定一阶微分方程dy/dx=2x\n",
    " \n",
    "第一步：对dy=2xdx 两边积分得：y=x^2+C\n",
    "第二步：代入点（１,４），解得ｃ＝３\n",
    "第三步：因为相切，所以只有唯一的解，２ｘ＋３＝ｘ＾２＋１，解得ｘ＝４\n",
    "第四步：把y=x^2+C代入，得∫(0到1)（x^2+C）dx=1/3+C=2，解得ｃ＝５／３\n",
    "第五步：输代码才行\n"
   ]
  },
  {
   "cell_type": "markdown",
   "metadata": {},
   "source": [
    "１．求下列方程的解：\n",
    "（６）ｘ（ｄｙ／ｄｘ）－ｙ＋√ｘ＾２－ｙ＾２＝０\n",
    "第一步：先化为齐次微分方程，ｄｙ／ｄｘ＝（ｙ－√ｘ＾２－ｙ＾２）／ｘ\n",
    "第二步：令ｕ＝ｙ／ｘ，整理得ｕ＋ｘ（ｄｕ／ｄｘ）＝ｕ－√１－ｕ＾２\n",
    "进一步：ｄｕ／ｄ√１－ｕ＾２＝－ｄｘ／ｘ\n",
    "两边积分得：ａｒｃｔａｎｕ＝－ｉｎ｜ｘ｜＋ｃ\n",
    "\n",
    "（７）ｔａｎｙｄｘ－ｃｏｔｘｄｙ＝０\n",
    "整理得ｃｏｔｙｄｙ＝ｔａｎｘｄｘ\n",
    "积分得ｉｎ｜ｓｉｎｙ｜＝－ｉｎ｜ｃｏｓｘ｜＋ｃ\n",
    "由图像容易知道，ｓｉｎｙｃｏｓｘ为不为零的任意数\n",
    "特殊情况下ｔａｎｙ＝ｃｏｔｘ＝ｏ，满足题意\n",
    "所以ｓｉｎｙｃｏｓｘ为任意值"
   ]
  },
  {
   "cell_type": "markdown",
   "metadata": {},
   "source": [
    "２．作适当的变量变换求解下列方程\n",
    "（６）ｄｙ／ｄｘ＝（ｙ＾６－２ｘ＾２）／２ｘ（ｙ＾５）＋（ｘｙ）＾２\n",
    "两边乘以y^2,得到d（y^3）/dx=3(y^6-2x^2)/（xy^3+x^2）\n",
    "右边上下同除以x^2，得到d(y^3)/dx=3((y^3/x)^2-2)/（y^3/x+1）\n",
    "令t=y^3/x,得d(y^3)/dx=d(tx)/dx=x（dt/dx）+t\n",
    "\n",
    "所以原方程变成x（dt/dx）+t=3(t^2-2)/(t+1)\n",
    "化简得:x（dt/dx）=(2t+3)(t-2)/(t+1)\n",
    "分离变量化简得：[1/(2t+3)+3/(t-2)]dt=(7/x)dx\n",
    "两边积分得到C＋|x|^7=|t-2|^3*|2t+3|^（１/２）\n",
    "把t=y^3/x带回去得到结果C＋|x|^7=|y^3/x-2|^3*|2y^3/x+3|^（１/２）（C是常数）\n",
    "（７）ｄｙ／ｄｘ＝（２ｘ＾３＋３ｘｙ＾２＋ｘ）／３ｘ＾２＋２ｙ＾３－ｙ\n",
    "原积分可以转化为ｄｙ＾２／ｄｘ＾２＝２ｘ＾２＋３ｘｙ＋１）／３ｘ＾２＋２ｙ＾２－１\n",
    "令Ｘ＝ｘ＾２－１，Ｙ＝ｙ＾２＋１\n",
    "ｄＸ／ｄＹ＝（２Ｘ＋３Ｙ）／３Ｘ＋２Ｙ\n",
    "令ｕ＝Ｙ／Ｘ，整理得ｕ＋ｘｄｕ／ｄｘ＝２＋３ｕ／３＋２ｕ\n",
    "（３＋２ｕ／２（１－ｕ＾２））ｄｕ＝ｄＸ／Ｘ\n",
    "积分得ｃ＋｜１＋ｕ｜＝Ｘ＾４＊｜１－ｕ｜＾５\n",
    "将Ｘ＝ｘ＾２－１，Ｙ＝ｙ＾２＋１，ｕ＝Ｙ／Ｘ代入得，\n",
    "ｃ＋（ｘ＾２＋ｙ＾２）＝（ｘ＾２－ｙ＾２－２）＾５（ｃ为常数）\n",
    "\n"
   ]
  },
  {
   "cell_type": "markdown",
   "metadata": {},
   "source": [
    "# <font color='red'>C  12/9"
   ]
  },
  {
   "cell_type": "code",
   "execution_count": null,
   "metadata": {
    "collapsed": true
   },
   "outputs": [],
   "source": []
  }
 ],
 "metadata": {
  "kernelspec": {
   "display_name": "SageMath 7.3",
   "language": "",
   "name": "sagemath"
  },
  "language_info": {
   "codemirror_mode": {
    "name": "ipython",
    "version": 2
   },
   "file_extension": ".py",
   "mimetype": "text/x-python",
   "name": "python",
   "nbconvert_exporter": "python",
   "pygments_lexer": "ipython2",
   "version": "2.7.10"
  }
 },
 "nbformat": 4,
 "nbformat_minor": 0
}
