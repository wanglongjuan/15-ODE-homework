{
 "cells": [
  {
   "cell_type": "markdown",
   "metadata": {},
   "source": [
    "\n",
    "(7)y=x^2+1,y'=y^2-(x^2+1)y=2x\n",
    "  将y=x^2带入方程，得\n",
    "  y'=2x\n",
    "  x^4+2x+1-(x^4+2x^2+1)+2x=2x\n",
    "(8)y=-g(x)/f(x),y'=y^2f'(x)/g(x)-g'(x)/f(x)\n",
    "  将y=-g(x)/f(x)带入方程，得\n",
    "  y'=-{g'(x)f(x)-f'(x)g(x)}/f^2(x)\n",
    "\n",
    "  dy/dx=2x\n",
    "(1)dy=2xdx\n",
    "   y=x^2+C\n",
    "(2)4=1+C\n",
    "   C=3\n",
    "(3)2x+3=x^2+C\n",
    "   x^2-2x+C-3=0\n",
    "(4)求(x^2+C）在0-1的积分，得\n",
    "  1/3+C=2\n",
    "  C=5\n",
    "(6)xd(y)/d(x)-y+√(x^2+y^2)=0\n",
    "  dy/dx=y/x-√(1-y^2/x^2)\n",
    "  令y/x=u\n",
    "  dy/dx=u-√(1-u^2)\n",
    "  du/√(1-u^2)=dx/x\n",
    "  对两边求积分\n",
    "  arcsinu=lnx+C\n",
    "  arcsiny/x=lnx+C\n",
    "  y=xsin(lnx+C)\n",
    "(7)tanydx-cotxdy=0\n",
    "  dy/tany=dx/cotx\n",
    "  cosydy/siny=sinxdx/cosx\n",
    "  对两边求积分\n",
    "  lnsiny=-lncosx=C\n",
    "  siny=e^(-lncosx+C)=e^C/cosx\n",
    "  y=arce^c/cosx\n",
    "  \n",
    "(6)dy/dx=(y^6-2x^2)/(2xy^5=x^2y^2)\n",
    "  y^2dy/dx={(y^3/x)^2-2}/(2y^3/x+1)\n",
    "  dy^3/3dx={(y^3/x)^2-2}/(2y^3/x+1)\n",
    "  令y^3=u\n",
    "  xdu/dx+u=(3u^2-6)/(2u+1)\n",
    "  xdu/dx=(u^2-u-6)/(2u+1)\n",
    "  (2u+1)du/(u^2-u-6)=dx/x\n",
    "  7du/5(u-3)+3du/5(u+2)=dx/x\n",
    "  对两边求积分\n",
    "  ln(u-3)^7(u+2)^3=lnx^5+5C\n",
    "  (y^3/x-3)^7(y^3/x+2)^3=x^5e^(5C)\n",
    "(7)dy/dx=(2x^3+3xy^2+x)/(3x^2/y+2y^3+y)\n",
    "  dy^2/dx^2=(2x^2+3y^2+1)/(3x^2+2y^2+1)\n",
    "  令X=x^2-1,Y=y^2+1\n",
    "  dY/dX=(2X+3Y)/(3X+2Y)\n",
    "  dY/dX=(2+3Y/X)/(3+2Y/X)\n",
    "  令Y/X=S\n",
    "  xdS/dx+S=(2+3S)/(3+2S)\n",
    "  xdS/dx=(2-2S^2)/(3+2S)\n",
    "  对两边求积分\n",
    "  -5ln(S-1)/4+ln(S+1)/4=(3+2S)dS/2(1-S)(1+S)=dx/x\n",
    "  \n",
    "设y(t)是dy/dt=f(y),y(0)=y_0的解，\n",
    "证明y_2(t)=y_1(t-t_0)是dy/dt=f(y),y(t_0)=y_0的解\n",
    "  dy_2(t)/dt\n",
    "  =dy_1(t-t_0)/dt\n",
    "  =dy_1(t-t_0)/d(t-t_0)\n",
    "  =f(y_1(t-t_0))\n",
    "  =f(y_2)\n",
    "  所以y_2=y_1(t-t_0)也是dy/dt=f(y)的解\n",
    "  即t=0时，y_1(0)=y_0\n",
    "  所以t-t_0=0时，y_1(t-t_0)=y_0\n",
    "  所以y_2(t_0)=y_0\n"
   ]
  },
  {
   "cell_type": "markdown",
   "metadata": {},
   "source": [
    "# <font color='red'>C  12/9"
   ]
  },
  {
   "cell_type": "code",
   "execution_count": null,
   "metadata": {
    "collapsed": true
   },
   "outputs": [],
   "source": []
  }
 ],
 "metadata": {
  "kernelspec": {
   "display_name": "SageMath 7.3",
   "language": "",
   "name": "sagemath"
  },
  "language_info": {
   "codemirror_mode": {
    "name": "ipython",
    "version": 2
   },
   "file_extension": ".py",
   "mimetype": "text/x-python",
   "name": "python",
   "nbconvert_exporter": "python",
   "pygments_lexer": "ipython2",
   "version": "2.7.10"
  }
 },
 "nbformat": 4,
 "nbformat_minor": 0
}
