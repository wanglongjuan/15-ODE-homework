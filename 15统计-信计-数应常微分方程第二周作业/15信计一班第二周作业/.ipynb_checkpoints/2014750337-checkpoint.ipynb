{
 "cells": [
  {
   "cell_type": "markdown",
   "metadata": {
    "collapsed": true
   },
   "source": [
    "# homework1\n",
    "**P27**  \n",
    "**3**  \n",
    "**(6)$y=-\\frac{1}{x}$,$x^2y'=x^2y^2+xy+1$**  \n",
    "answer:because  $$x^2y^\\prime=x^2*\\frac{1}{x^2}=1$$  \n",
    "$$x^2y^2+xy+1=x^2*\\frac{1}{x^2}+x*-\\frac{1}{x}+1=1$$  \n",
    "so $y=-\\frac{1}{x}$ is the solution of the equation.  \n",
    "**(7)$y=x^2+1$,$y^\\prime=y^2-(x^2+1)y+2x$**  \n",
    "answer:because  $$y^\\prime=2x$$  \n",
    "$$y^2-(x^2+1)y+2x=(x^2+1)^2-(x^2+1)(x^2+1)+2x=2x$$  \n",
    "so $y=x^2+1$ is the solution of the equation.   \n",
    "**(8)$y=-\\frac{g(x)}{f(x)}$,$y'=\\frac{f'(x)}{g(x)}y^2-\\frac{g'(x)}{f(x)}$**  \n",
    "answer:because  $$y'=-\\frac{g'(x)f(x)-f'(x)g(x)}{f(x)^2}$$  \n",
    "$$\\frac{f'(x)}{g(x)}y^2-\\frac{g'(x)}{f(x)}  \n",
    "=-\\frac{g'(x)f(x)-f'(x)g(x)}{f(x)^2}$$\n",
    "so $y=-\\frac{g(x)}{f(x)}$ is the solution of the equation. \n",
    "\n",
    "**P42**  \n",
    "**1**  \n",
    "**(6)$x\\frac{\\mathrm d y}{\\mathrm d x}-y+\\sqrt{x^2-y^2}=0$**  \n",
    "answer:$\\frac{\\mathrm d y}{\\mathrm d x}-\\frac{y}{x}+\\sqrt{1-\\frac{y^2}{x^2}}=0$  \n",
    "suppose $u=\\frac{y}{x}$\n",
    "the equation is simplified to   \n",
    "$$x\\frac{\\mathrm d u}{\\mathrm d x}+u-u+\\sqrt{1-u^2}=0$$  \n",
    "that is $$-\\frac{\\mathrm d u}{\\sqrt{1-u^2}}=\\frac{\\mathrm d x}{x}$$  \n",
    "$$\\int-\\frac{1}{\\sqrt{1-u^2}}\\,\\mathrm d u=\\int\\frac{1}{x}\\,\\mathrm d x$$  \n",
    "$$-\\mathrm{arcsin} u=\\mathrm{ln} x+c$$\n",
    "substiute $u$ with $\\frac{y}{x}$\n",
    "$$-\\mathrm{arcsin} \\frac{y}{x}=\\mathrm{ln} x+c$$  \n",
    "that is the solution.  "
   ]
  },
  {
   "cell_type": "markdown",
   "metadata": {},
   "source": [
    "**(7)$\\mathrm {tan} y \\mathrm d x-\\mathrm {cot} x \\mathrm d y=0$**  \n",
    "answer:$\\mathrm {tan} y \\mathrm d x=\\mathrm {cot} x \\mathrm d y$  \n",
    "$\\mathrm {tan} x \\mathrm d x=\\mathrm {cot} y \\mathrm d y$  \n",
    "$\\int\\mathrm {tan} x \\,\\mathrm d x=\\int\\mathrm {cot} y \\,\\mathrm d y$  \n",
    "$-\\mathrm {ln} \\mathrm {cos} x=\\mathrm {ln} \\mathrm {sin} y+c$  \n",
    "that is the solution."
   ]
  },
  {
   "cell_type": "code",
   "execution_count": 12,
   "metadata": {
    "collapsed": false,
    "scrolled": true
   },
   "outputs": [
    {
     "data": {
      "text/html": [
       "<html><script type=\"math/tex; mode=display\">\\newcommand{\\Bold}[1]{\\mathbf{#1}}-\\frac{1}{2} \\, \\log\\left(-\\sin\\left(x\\right)^{2} + 1\\right)</script></html>"
      ],
      "text/plain": [
       "-1/2*log(-sin(x)^2 + 1)"
      ]
     },
     "metadata": {},
     "output_type": "display_data"
    },
    {
     "data": {
      "text/html": [
       "<html><script type=\"math/tex; mode=display\">\\newcommand{\\Bold}[1]{\\mathbf{#1}}\\log\\left(\\sin\\left(y\\right)\\right)</script></html>"
      ],
      "text/plain": [
       "log(sin(y))"
      ]
     },
     "metadata": {},
     "output_type": "display_data"
    },
    {
     "data": {
      "text/html": [
       "<html><script type=\"math/tex; mode=display\">\\newcommand{\\Bold}[1]{\\mathbf{#1}}\\log\\left(\\sin\\left(y\\right)\\right) = c - \\frac{1}{2} \\, \\log\\left(-\\sin\\left(x\\right)^{2} + 1\\right)</script></html>"
      ],
      "text/plain": [
       "log(sin(y)) == c - 1/2*log(-sin(x)^2 + 1)"
      ]
     },
     "metadata": {},
     "output_type": "display_data"
    }
   ],
   "source": [
    "var('x y c')\n",
    "f=1/(cot(x))\n",
    "g=tan(y)\n",
    "F=integral(f,x)\n",
    "G=integral(1/g,y)\n",
    "show(F)\n",
    "show(G)\n",
    "s=G==F+c\n",
    "show(s)"
   ]
  },
  {
   "cell_type": "markdown",
   "metadata": {},
   "source": [
    "**2**  \n",
    "**(6)$\\frac{\\mathrm d y}{\\mathrm d x}=\\frac{y^6-2x^2}{2xy^5+x^2y^2}$**  \n",
    "answer:suppose $t=\\frac{x}{y^3}$ then $\\mathrm d x=y^3\\mathrm d t+3ty^2\\mathrm d y$  \n",
    "plug them in the equation,it comes  \n",
    "$$\\frac{y^3\\mathrm d t+3ty^2\\mathrm d y}{\\mathrm d y}=\\frac{ty^2(2+t)}{1-2t^2}$$  \n",
    "simplifies it,we got  \n",
    "$$\\frac{(1-2t^2)\\mathrm d t}{t(2t+1)(3t-1)}=\\frac{\\mathrm d y}{\\mathrm y}$$  \n",
    "integrate both side,  \n",
    "$\\mathrm {ln}|(2t+1)^3(3t-1)^7)|=\\mathrm {ln}|Cty^{15}|$  \n",
    "that is $(2x+y)^3(3x-y)^7=Cx^{15}$  \n",
    "**(7)$\\frac{\\mathrm d y}{\\mathrm d x}=\\frac{2x^3+3xy^2+x}{3x^2y+2y^3-y}$**  \n",
    "answer:simplifies the equation  $$\\frac{\\mathrm d y}{\\mathrm d x}=\\frac{x(2x^2+3y^2+1)}{y(3x^2+2y^2-1)}$$  \n",
    "$$\\frac{\\mathrm d y^2}{\\mathrm d x^2}=\\frac{2x^2+3y^2+1}{3x^2+2y^2-1}$$  \n",
    "suppose $u=y^2$ ,$v=x^2$\n",
    "$$\\frac{\\mathrm d u}{\\mathrm d v}=\\frac{2v+3u+1}{3v+2u-1}$$  \n",
    "the solution of the equation set    \n",
    "$$\\begin{cases}\n",
    "2v+3u+1=0\\\\\n",
    "3v+2u-1=0\\\\\n",
    "\\end{cases}$$\n",
    "is $u=-1$,$v=1$\n",
    "suppose $u=Y-1$,$v=X+1$,then\n",
    "$$\\frac{\\mathrm d Y}{\\mathrm d X}=\\frac{2+3\\frac{Y}{X}}{3+2\\frac{Y}{X}}$$\n",
    "suppose $t=\\frac{Y}{X}$,\n",
    "that is $$X\\frac{\\mathrm d t}{\\mathrm d X}=\\frac{2-2t^2}{3+2t}$$\n",
    "seperate the variables, we got the solution $y^2+x^2=(y^2-x^2+2)c$  \n",
    "**verification:$y_1(t)$ is the solution of equation $\\frac{\\mathrm d y}{\\mathrm d t}=f(y)$,$y(0)=y_0$,$y_2(t)=y_1(t-t_0)$ is the solution of equation $\\frac{\\mathrm d y}{\\mathrm d t}=f(y)$,$y(t_0)=y_0$**\n",
    "answer:because $y_1(t)$ is the solution of equation $\\frac{\\mathrm d y}{\\mathrm d t}=f(y)$,$y(0)=y_0$,\n",
    "so $y_2(t)=y_1(t-t_0)=y_1(t_0-t_0)=y_1(0)=y_0$ is the solution of equation $\\frac{\\mathrm d y}{\\mathrm d t}=f(y)$,$y(t_0)=y_0$"
   ]
  },
  {
   "cell_type": "markdown",
   "metadata": {},
   "source": [
    "# <font color='red'>A+ 12/9"
   ]
  },
  {
   "cell_type": "code",
   "execution_count": null,
   "metadata": {
    "collapsed": true
   },
   "outputs": [],
   "source": []
  }
 ],
 "metadata": {
  "celltoolbar": "Raw Cell Format",
  "kernelspec": {
   "display_name": "SageMath 7.3",
   "language": "",
   "name": "sagemath"
  },
  "language_info": {
   "codemirror_mode": {
    "name": "ipython",
    "version": 2
   },
   "file_extension": ".py",
   "mimetype": "text/x-python",
   "name": "python",
   "nbconvert_exporter": "python",
   "pygments_lexer": "ipython2",
   "version": "2.7.10"
  }
 },
 "nbformat": 4,
 "nbformat_minor": 0
}
