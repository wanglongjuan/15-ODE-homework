{
 "cells": [
  {
   "cell_type": "markdown",
   "metadata": {
    "collapsed": true
   },
   "source": [
    "求解(1)tan y dx - cot x dy = 0\n",
    "化简得$$\\frac{d(y)}{d(x)}= \\frac{tan x}{cot y}$$"
   ]
  },
  {
   "cell_type": "code",
   "execution_count": 2,
   "metadata": {
    "collapsed": false
   },
   "outputs": [
    {
     "data": {
      "text/html": [
       "<html><script type=\"math/tex; mode=display\">\\newcommand{\\Bold}[1]{\\mathbf{#1}}\\log\\left(\\sec\\left(x\\right)\\right)</script></html>"
      ],
      "text/plain": [
       "log(sec(x))"
      ]
     },
     "metadata": {},
     "output_type": "display_data"
    },
    {
     "data": {
      "text/html": [
       "<html><script type=\"math/tex; mode=display\">\\newcommand{\\Bold}[1]{\\mathbf{#1}}\\log\\left(\\sin\\left(y\\right)\\right)</script></html>"
      ],
      "text/plain": [
       "log(sin(y))"
      ]
     },
     "metadata": {},
     "output_type": "display_data"
    },
    {
     "data": {
      "text/html": [
       "<html><script type=\"math/tex; mode=display\">\\newcommand{\\Bold}[1]{\\mathbf{#1}}\\log\\left(\\sin\\left(y\\right)\\right) = c + \\log\\left(\\sec\\left(x\\right)\\right)</script></html>"
      ],
      "text/plain": [
       "log(sin(y)) == c + log(sec(x))"
      ]
     },
     "metadata": {},
     "output_type": "display_data"
    }
   ],
   "source": [
    "var('x y c')\n",
    "f=tan(x)\n",
    "g=1/cot(y)\n",
    "F=integral(f,x)\n",
    "G=integral(1/g,y)\n",
    "show(F)\n",
    "show(G)\n",
    "s=G==F+c\n",
    "show(s)"
   ]
  },
  {
   "cell_type": "markdown",
   "metadata": {},
   "source": [
    "(2)$$\\frac{dy}{dx}x-y+\\sqrt{x^2-y^2}=0$$\n",
    "化简得$$\\frac{dy}{dx}=\\frac{y}{x}-\\sqrt{1-\\frac{y^2}{x^2}}$$\n",
    "令$$u=\\frac{y}{x}$$\n",
    "则$$\\frac{dy}{dx}=u-\\sqrt{1-u^2}$$"
   ]
  },
  {
   "cell_type": "code",
   "execution_count": 9,
   "metadata": {
    "collapsed": false
   },
   "outputs": [
    {
     "data": {
      "text/html": [
       "<html><script type=\"math/tex; mode=display\">\\newcommand{\\Bold}[1]{\\mathbf{#1}}\\arcsin\\left(u\\right)</script></html>"
      ],
      "text/plain": [
       "arcsin(u)"
      ]
     },
     "metadata": {},
     "output_type": "display_data"
    }
   ],
   "source": [
    "var('u x y c')\n",
    "f=(1-u^2)^(-1/2)\n",
    "g=integral(f,u)\n",
    "show(g)"
   ]
  },
  {
   "cell_type": "markdown",
   "metadata": {},
   "source": [
    "则$$\\arcsin(u)=-lnx+c$$\n",
    "所以$$\\sin(-lnx+c)=u$$\n",
    "所以代入$u=\\frac{y}{x}$得\n",
    "$$y=\\sin(-lnx+c)x$$"
   ]
  },
  {
   "cell_type": "markdown",
   "metadata": {},
   "source": [
    "验证下列各函数是相应微分方程的解。\n",
    "（1）y=x^2+1 $y\\prime$=y^2-(x^2+1)y+2x"
   ]
  },
  {
   "cell_type": "code",
   "execution_count": 4,
   "metadata": {
    "collapsed": false
   },
   "outputs": [
    {
     "data": {
      "text/html": [
       "<html><script type=\"math/tex; mode=display\">\\newcommand{\\Bold}[1]{\\mathbf{#1}}2 \\, x</script></html>"
      ],
      "text/plain": [
       "2*x"
      ]
     },
     "metadata": {},
     "output_type": "display_data"
    }
   ],
   "source": [
    "var('x y')\n",
    "y = x^2 +1\n",
    "h = diff(y,x,1)\n",
    "show(h)"
   ]
  },
  {
   "cell_type": "code",
   "execution_count": 5,
   "metadata": {
    "collapsed": false
   },
   "outputs": [
    {
     "data": {
      "text/html": [
       "<html><script type=\"math/tex; mode=display\">\\newcommand{\\Bold}[1]{\\mathbf{#1}}2 \\, x</script></html>"
      ],
      "text/plain": [
       "2*x"
      ]
     },
     "metadata": {},
     "output_type": "display_data"
    }
   ],
   "source": [
    "var('x y z')\n",
    "y = x^2+1\n",
    "z = y^2 - y^2 + 2*x\n",
    "show(z)"
   ]
  },
  {
   "cell_type": "markdown",
   "metadata": {},
   "source": [
    "(2)$$y=-\\frac{g(x)}{f(x)},y\\prime=\\frac{f'(x)}{g(x)}y^2-\\frac{g'(x)}{f(x)}$$"
   ]
  },
  {
   "cell_type": "code",
   "execution_count": 6,
   "metadata": {
    "collapsed": false
   },
   "outputs": [
    {
     "data": {
      "text/html": [
       "<html><script type=\"math/tex; mode=display\">\\newcommand{\\Bold}[1]{\\mathbf{#1}}\\frac{g\\left(x\\right) D[0]\\left(f\\right)\\left(x\\right)}{f\\left(x\\right)^{2}} - \\frac{D[0]\\left(g\\right)\\left(x\\right)}{f\\left(x\\right)}</script></html>"
      ],
      "text/plain": [
       "g(x)*D[0](f)(x)/f(x)^2 - D[0](g)(x)/f(x)"
      ]
     },
     "metadata": {},
     "output_type": "display_data"
    },
    {
     "data": {
      "text/html": [
       "<html><script type=\"math/tex; mode=display\">\\newcommand{\\Bold}[1]{\\mathbf{#1}}\\frac{g\\left(x\\right) D[0]\\left(f\\right)\\left(x\\right)}{f\\left(x\\right)^{2}} - \\frac{D[0]\\left(g\\right)\\left(x\\right)}{f\\left(x\\right)}</script></html>"
      ],
      "text/plain": [
       "g(x)*D[0](f)(x)/f(x)^2 - D[0](g)(x)/f(x)"
      ]
     },
     "metadata": {},
     "output_type": "display_data"
    }
   ],
   "source": [
    "var('x y')\n",
    "a=function('f')(x)\n",
    "b=function('g')(x)\n",
    "y=-b/a\n",
    "c=diff(y,x,1)\n",
    "show(c)\n",
    "m=diff(a,x,1)\n",
    "n=diff(b,x,1)\n",
    "z=m/b *y^2-n/a\n",
    "show(z)"
   ]
  },
  {
   "cell_type": "markdown",
   "metadata": {},
   "source": [
    "给定一阶微分方程$$\\frac{\\mathrm dy}{\\mathrm dx}=2x$$\n",
    "（1）求出它的通解；\n",
    "（2）求出过点（1,4）的特解；\n",
    "（3）求出与直线y=2x+3相切的线；\n",
    "（4）求出满足条件$\\int_0^1 \\mathrm y\\, \\mathrm{d}x=2$的解；（5）绘出（2）（3）（4）中的解的图形。"
   ]
  },
  {
   "cell_type": "code",
   "execution_count": 2,
   "metadata": {
    "collapsed": false
   },
   "outputs": [
    {
     "data": {
      "text/html": [
       "<html><script type=\"math/tex; mode=display\">\\newcommand{\\Bold}[1]{\\mathbf{#1}}y = x^{2} + c</script></html>"
      ],
      "text/plain": [
       "y == x^2 + c"
      ]
     },
     "metadata": {},
     "output_type": "display_data"
    }
   ],
   "source": [
    "var('x y c')\n",
    "f=2*x\n",
    "g=1\n",
    "F=integral(f,x)\n",
    "G=integral(g,y)\n",
    "eqn= G == F+c\n",
    "show(eqn)"
   ]
  },
  {
   "cell_type": "markdown",
   "metadata": {
    "collapsed": false
   },
   "source": [
    "（2）令x=1,y=4\n",
    "得4=1^2+c\n",
    "得c=3."
   ]
  },
  {
   "cell_type": "markdown",
   "metadata": {
    "collapsed": false
   },
   "source": [
    "(3）${\\mathrm dy}=2x{\\mathrm dx}$\n",
    "y=x^2+c\n",
    "x^2+c=2x+3只有一个解，\n",
    "4-4(c-3)=0\n",
    "c=4\n",
    "得直线为y=x^2+4"
   ]
  },
  {
   "cell_type": "markdown",
   "metadata": {},
   "source": [
    "(4)因为y=x^2+c\n",
    "代入$\\int_0^1 \\mathrm y\\, \\mathrm{d}x$中得$\\int_0^1 \\mathrm (x^2+c)\\, \\mathrm{d}x$=2\n",
    "解得$\\frac{1}{3}+c=2$\n",
    "得$c=\\frac{5}{3}$\n",
    "则满足条件的解为$y=x^2+\\frac{5}{3}$"
   ]
  },
  {
   "cell_type": "code",
   "execution_count": 3,
   "metadata": {
    "collapsed": false
   },
   "outputs": [
    {
     "data": {
      "image/png": "[encoded data removed]",
      "text/plain": [
       "Graphics object consisting of 1 graphics primitive"
      ]
     },
     "execution_count": 3,
     "metadata": {},
     "output_type": "execute_result"
    }
   ],
   "source": [
    "var('x')\n",
    "f(x)=x^2+3\n",
    "plot(f(x,-1,1))"
   ]
  },
  {
   "cell_type": "markdown",
   "metadata": {},
   "source": [
    "作适当的变量变换求解下列方程\n",
    "（1）$$\\frac{dy}{dx}=\\frac{y^6-2x^2}{2xy^5+x^2y^2}$$"
   ]
  },
  {
   "cell_type": "markdown",
   "metadata": {},
   "source": [
    "设$t=\\frac{x}{y^3}$得${\\mathrm dx}=y^3{\\mathrm dt}+3ty^2{\\mathrm dy}$\n",
    "代入原式得$\\frac{{\\mathrm dy}}{y^3{\\mathrm dt}+3ty^2{\\mathrm dy}}=\\frac{y^6-2t^2y^6}{2ty^8+t^2y^8}=\\frac{y^3{\\mathrm dt}+3ty^2{\\mathrm dy}}{{\\mathrm dy}}=\\frac{ty^2(2+t)}{1-2t^2}$\n",
    "$$原微分方程通解为[(2x+y)^3][(3x-y^3)^7]=Cx^（15）（C是积分常数）$$"
   ]
  },
  {
   "cell_type": "markdown",
   "metadata": {},
   "source": [
    "(2)$$\\frac{dy}{dx}=\\frac{2x^3+3xy^2+x}{3x^2y+2y^3-y}$$"
   ]
  },
  {
   "cell_type": "markdown",
   "metadata": {},
   "source": [
    "原方程化为$$\\frac{dy}{dx}=\\frac{x(2x^2+3y^2+1)}{y(3x^2+2y^2-1)}$$\n",
    "所以$$(\\frac{dy}{dx})^2=\\frac{2x^2+3y^2+1}{3x^2+2y^2-1}$$\n",
    "令y^2=u,x^2=v则$\\frac{du}{dv}=\\frac{2v+3u+1}{3v+2u-1}$\n",
    "方程组2v+3u+1=0,3v+2u-1=0解为（1，-1）；令Z=v-1,Y=u+1\n",
    "所以方程为$\\frac{dy}{dx}=\\frac{2+3\\frac{y}{z}}{3+2\\frac{y}{z}}$\n",
    "令$t=\\frac{y}{z}$,则有$\\frac{dy}{dx}=t+z\\frac{dt}{dz}$\n",
    "$$所以原方程解为y^2+x^2=(y^2-x^2+2)^5c$$"
   ]
  },
  {
   "cell_type": "markdown",
   "metadata": {},
   "source": [
    "# <font color='red'>A 12/9"
   ]
  },
  {
   "cell_type": "code",
   "execution_count": null,
   "metadata": {
    "collapsed": true
   },
   "outputs": [],
   "source": []
  }
 ],
 "metadata": {
  "kernelspec": {
   "display_name": "SageMath 7.3",
   "language": "",
   "name": "sagemath"
  },
  "language_info": {
   "codemirror_mode": {
    "name": "ipython",
    "version": 2
   },
   "file_extension": ".py",
   "mimetype": "text/x-python",
   "name": "python",
   "nbconvert_exporter": "python",
   "pygments_lexer": "ipython2",
   "version": "2.7.10"
  }
 },
 "nbformat": 4,
 "nbformat_minor": 0
}
