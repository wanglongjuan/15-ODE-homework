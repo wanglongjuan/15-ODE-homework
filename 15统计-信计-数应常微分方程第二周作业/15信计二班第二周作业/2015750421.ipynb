{
 "cells": [
  {
   "cell_type": "markdown",
   "metadata": {},
   "source": [
    "3.(7)\n",
    "$y=x^2+1,y'=2x$\n"
   ]
  },
  {
   "cell_type": "markdown",
   "metadata": {},
   "source": [
    "$y^2-(x^2+1)y+2x=(x^2+1)^2-(x^2+1)(x^2+1)+2x=2x=y'$"
   ]
  },
  {
   "cell_type": "markdown",
   "metadata": {},
   "source": [
    "$所以y=x^2+1是y'=y^2-(x^2+1)y+2x的解$"
   ]
  },
  {
   "cell_type": "markdown",
   "metadata": {},
   "source": [
    "（8）因为$y=-\\frac{g(x)}{f(x)}$"
   ]
  },
  {
   "cell_type": "markdown",
   "metadata": {},
   "source": [
    "所以$y'=-\\frac{g'(x)f(x)-g(x)f'（x)}{f^2(x）}=\\frac{g(x)f'(x)}{f^2(x)}-\\frac{g'(x)}{f(x)}$"
   ]
  },
  {
   "cell_type": "markdown",
   "metadata": {},
   "source": [
    "又$\\frac{f'(x)}{g(x)}y^2-\\frac{g'(x)}{f(x)}=\\frac{f'(x)}{g(x)}(-\\frac{g(x)}{f(x)})^2-\\frac{g'(x)}{f(x)}$\n"
   ]
  },
  {
   "cell_type": "markdown",
   "metadata": {},
   "source": [
    "$=\\frac{g(x)f'(x)}{f(x)^2}-\\frac{g'（x)}{f(x)}=y'$"
   ]
  },
  {
   "cell_type": "markdown",
   "metadata": {},
   "source": [
    "所以$y=-\\frac{g(x)}{f(x)}是方程y'=\\frac{f'(x)}{g(x)}y^2-\\frac{g'(z)}{f(x)}的解。$"
   ]
  },
  {
   "cell_type": "markdown",
   "metadata": {},
   "source": [
    "4.(1)由$\\frac{dy}{dx}=2x$,得$dy=2xdx$,方程两边积分，既得$y=x^2+c$,其中c为任意常数，\n",
    "所以方程$\\frac{dy}{dx}=2x$的通解为$y=x^2+c$,c为常数。"
   ]
  },
  {
   "cell_type": "markdown",
   "metadata": {},
   "source": [
    "（2）把x=1,y=4带入$y=x^2+c$,得c=3，所以特解为$y=x^2+3$"
   ]
  },
  {
   "cell_type": "markdown",
   "metadata": {},
   "source": [
    "(3)因为与直线相切，所以联立方程组有且只有唯一一组解，解得c=4，所以相切的方程为$y=x^2+4$"
   ]
  },
  {
   "cell_type": "markdown",
   "metadata": {},
   "source": [
    "(4）解：$y=x^2+\\frac{5}{3}$"
   ]
  },
  {
   "cell_type": "code",
   "execution_count": 3,
   "metadata": {
    "collapsed": false,
    "scrolled": true
   },
   "outputs": [
    {
     "data": {
      "image/png": "[encoded data removed]",
      "text/plain": [
       "Graphics object consisting of 1 graphics primitive"
      ]
     },
     "metadata": {},
     "output_type": "display_data"
    }
   ],
   "source": [
    "var('x')\n",
    "f(x)=x^2+3\n",
    "pl=plot(f(x,-1,1))\n",
    "show(pl)"
   ]
  },
  {
   "cell_type": "code",
   "execution_count": null,
   "metadata": {
    "collapsed": false,
    "scrolled": true
   },
   "outputs": [],
   "source": []
  },
  {
   "cell_type": "markdown",
   "metadata": {},
   "source": [
    "P42\n",
    "1.(6)\n",
    "原方程变形为$xdy-ydx+\\sqrt[]{x^2-y^2}dx=0$\n",
    "当$y^2\\neq x^2$时，两边同时除以$\\sqrt[]{x^2-y^2}$\n",
    "得$\\frac{xdy-ydx}{\\sqrt[]{x^2-y^2}}+dx=0$"
   ]
  },
  {
   "cell_type": "markdown",
   "metadata": {},
   "source": [
    "两边积分得$arcsin\\frac{y}{x}+ln丨x丨=c$,c为任意常数\n",
    "另外，当$y^2=x^2$时易验证是方程的解\n",
    "所以原方程的解为$y^2=x^2$及$arcsin\\frac{y}{x}+ln丨x丨=c$"
   ]
  },
  {
   "cell_type": "markdown",
   "metadata": {},
   "source": [
    "(7)当$tany\\neq 0$时及$y\\neq kπ,k=0,\\pm1,\\pm2…$时\n",
    "分离变量得$cotydy=tanxdx$.\n",
    "两边同时积分，得$ln丨siny丨=-ln丨cosx丨=c_1$"
   ]
  },
  {
   "cell_type": "markdown",
   "metadata": {},
   "source": [
    " 即$sinycosx=c$,其中$c=\\pm e^c_1$为非零常数\n",
    " 另外，$y=kπ,k=0,\\pm1,\\pm2…$也是方程的解"
   ]
  },
  {
   "cell_type": "markdown",
   "metadata": {},
   "source": [
    "P43.2.(6)\n",
    "令$u=y^3$,则上面方程式化为$\\frac{du}{dx}=\\frac{3u^2-6x^2}{2xu+x^2}$,再令$v=\\frac{u}{x}$,则上面的方程化为$x\\frac{dv}{dx}+v=\\frac{3v^2-6}{2v+1}$"
   ]
  },
  {
   "cell_type": "markdown",
   "metadata": {},
   "source": [
    "整理得$\\frac{7}{5}*\\frac{dv}{v-3}+\\frac{3}{5}*\\frac{dv}{v+2}=\\frac{dx}{x}$\n",
    "两边同时积分得$c*x^5$"
   ]
  },
  {
   "cell_type": "markdown",
   "metadata": {},
   "source": [
    "(7)\n",
    "令$u=x^2-1,v=y^2+1,则方程化为\\frac{dv}{du}=\\frac{2u+3v}{3u+2v}$"
   ]
  },
  {
   "cell_type": "markdown",
   "metadata": {},
   "source": [
    "再令$w=\\frac{v}{u}，两边积分得u^4(1-w)^5=c(1+w)$"
   ]
  },
  {
   "cell_type": "markdown",
   "metadata": {},
   "source": [
    "得解为$(x^2-y^2-2)^5=c(x^2+y^2）$,其中c为任意常数"
   ]
  },
  {
   "cell_type": "markdown",
   "metadata": {
    "collapsed": true
   },
   "source": [
    "# <font color='red'>A  12/9  验证题？？"
   ]
  },
  {
   "cell_type": "code",
   "execution_count": null,
   "metadata": {
    "collapsed": true
   },
   "outputs": [],
   "source": []
  }
 ],
 "metadata": {
  "kernelspec": {
   "display_name": "SageMath 7.3",
   "language": "",
   "name": "sagemath"
  },
  "language_info": {
   "codemirror_mode": {
    "name": "ipython",
    "version": 2
   },
   "file_extension": ".py",
   "mimetype": "text/x-python",
   "name": "python",
   "nbconvert_exporter": "python",
   "pygments_lexer": "ipython2",
   "version": "2.7.10"
  }
 },
 "nbformat": 4,
 "nbformat_minor": 0
}
