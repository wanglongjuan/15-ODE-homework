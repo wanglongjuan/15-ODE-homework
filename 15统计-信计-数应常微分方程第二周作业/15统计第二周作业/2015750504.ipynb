{
 "cells": [
  {
   "cell_type": "markdown",
   "metadata": {},
   "source": [
    "27页3题（7）\n",
    "\n",
    "$因为y=x^2+1,y'=x^(-2)$\n",
    "\n",
    "   $所以y^2-（x^2+1）y+2x=(x^2+1)-(x^2+1)(x^2+1)+2x=2x=y'$\n",
    "   \n",
    "   $所以，y=x^2+1是方程y'=y^2-(x^2+1)y+2x的解。$\n",
    "\n",
    "\n",
    "\n"
   ]
  },
  {
   "cell_type": "markdown",
   "metadata": {},
   "source": [
    "（8）\n",
    "$因为y=-\\frac{g（x）}{f（x）}$\n",
    "\n",
    "  \n",
    "     $所以y'=\\frac{g'(x)f(x)-g(x)f'(x)}{f^2(x)}=\\frac{g(x)f'(x)}{f^2(x)}-\\frac{g'(x)}{f(x)}$\n",
    "   $又\\frac{y^2f'(x)}{g(x)}-\\frac{g'(x)}{f(x)}=\\frac{f'(x)}{g(x)}[-\\frac{g(x)}{f(x)}]^2-\\frac{g'(x)}{f(x)}=\\frac{g(x)f'(x)}{f^2(x)}-\\frac{g'(x)}{f(x)}=y'$\n",
    "   \n",
    "   $所以，y=-\\frac{g(x)}{f(x)}是y'=\\frac{y^2f'(x)}{g(x)}-\\frac{g'(x)}{f(x)}的解。$"
   ]
  },
  {
   "cell_type": "markdown",
   "metadata": {},
   "source": [
    "27页4题\n",
    "（1）$由\\frac{dy}{dx}=2x，得dy=2xdx，方程两边同时积分，即得y=x^2+c,c为常数$\n",
    "\n",
    "   $所以，方程\\frac{dy}{dx}=2x的通解为y=x^2+c,c为任意常数$"
   ]
  },
  {
   "cell_type": "code",
   "execution_count": null,
   "metadata": {
    "collapsed": true
   },
   "outputs": [],
   "source": [
    "（2）"
   ]
  },
  {
   "cell_type": "markdown",
   "metadata": {},
   "source": [
    "（3）$因为与直线相切，所以方程组有且只有唯一解，即x^2=2x+3有唯一解，因此c=4$\n",
    " \n",
    " $所以，与直线y=2x+3相切的解是y=x^2+4$"
   ]
  },
  {
   "cell_type": "markdown",
   "metadata": {},
   "source": [
    "（4）$由题意可知c=\\frac{5}{3}$\n",
    "\n",
    "  $所以，y=x^2+\\frac{5}{3}$"
   ]
  },
  {
   "cell_type": "code",
   "execution_count": 1,
   "metadata": {
    "collapsed": false,
    "scrolled": true
   },
   "outputs": [
    {
     "data": {
      "image/png": "[encoded data removed]",
      "text/plain": [
       "Graphics object consisting of 1 graphics primitive"
      ]
     },
     "execution_count": 1,
     "metadata": {},
     "output_type": "execute_result"
    }
   ],
   "source": [
    "var('x y')\n",
    "y=x^2+5/3\n",
    "plot(y,(x,-1,1))"
   ]
  },
  {
   "cell_type": "code",
   "execution_count": null,
   "metadata": {
    "collapsed": true
   },
   "outputs": [],
   "source": [
    "var('x y')\n",
    "y=x^2+4\n",
    "plot(y,(x,-1,1))\n"
   ]
  },
  {
   "cell_type": "markdown",
   "metadata": {},
   "source": [
    "42页\n",
    "（6）$原方程变形为xdy-ydx+\\sqrt{x^2-y^2}dx=0$\n",
    "\n",
    "  $当x^2不等于y^2时，两边同除以\\sqrt{x^2-y^2}得\\frac{（xdy-ydx）}{\\sqrt{x^2-y^2}}+dx=0$\n",
    "  \n",
    "  $即\\frac{d(\\frac{y}{x})}{\\sqrt{1-(y/x)^2}}+(1/x)dx=0$\n",
    "  \n",
    "  $两边积分得arcsin(\\frac{y}{x})+ln|x|=c,c为任意常数$\n",
    "  \n",
    "  $此外，当y^2=x^2时，易验证y^2=x^2也是方程的解$\n",
    "  \n",
    "  $所以，原方程的解为y^2=x^2及arcsin(\\frac{y}{x})+ln|x|=c$"
   ]
  },
  {
   "cell_type": "markdown",
   "metadata": {},
   "source": [
    "（7）$当tan y不等于0时，即y不等于kπ，k=……-2，-1，0，1，2，……时$\n",
    "\n",
    "  $分离变量得cot ydy=tan xdx$\n",
    "\n",
    "  $两边同时积分，即得ln|sin y|=-ln|cos x|+C1,C1为任意常数$\n",
    "  \n",
    "  $即sin ycos x=C,其中C=+(-)e^C1为非零常数$\n",
    "  \n",
    "  $另外，y=kπ，k=……-2，-1，0，1，2，……也是方程的解$\n",
    "  \n",
    " $所以，原方程的解为sin ycos x=C及y=kπ，k=……-2，-1，0，1，2，……$"
   ]
  },
  {
   "cell_type": "markdown",
   "metadata": {},
   "source": [
    "（6）$令u=y^2,则原方程可变形为\\frac{du}{dx}=\\frac{（3u^2-6x^2）}{(2xu+x^2)}$\n",
    "\n",
    " $再令v=\\frac{u}{x},即u=vx,则上面方程可化为\\frac{xdv}{dx}+v=\\frac{(3v^2-6)}{(2v+1)}$\n",
    " \n",
    " $即\\frac{(\\frac{7}{5})dv}{(v-3)}+\\frac{(\\frac{3}{5})dv}{(v+2)}=\\frac{dx}{x}$\n",
    " \n",
    " $两边同时积分，得（v-3）^7(v+2)^3=cx^5,c为正常数$\n",
    " \n",
    " $代回原变量，化简得原方程的解围（y^3-3x）^7(y^3+2x)^3=c(x)^15 $"
   ]
  },
  {
   "cell_type": "markdown",
   "metadata": {},
   "source": [
    "（7）$原方程可以变形为\\frac{ydy}{xdx}=\\frac{（2x^2+3y^2+1）}{(3x^2+2y^2-1)}$\n",
    "\n",
    "  $令u=x^2-1,v=y^2+1,则方程可以化为\\frac{dv}{du}=\\frac{（2u+3v）}{（3u+2v）}$\n",
    "  \n",
    "  $再令w=\\frac{v}{u}，即v=wu，则有\\frac{dv}{du}=w+\\frac{udw}{du}，所以\\frac{udw}{du}=\\frac{（2-2w^2)}{（3+2w）}$\n",
    "  \n",
    "  $分离变量并化简得\\frac{4du}{u}=[{\\frac{5}{(1-w)}}+{\\frac{1}{(1+w)}}]dw$\n",
    "  \n",
    "  $两边积分得u^4(1-w)^5=c(1+w)$\n",
    "  \n",
    "  $代回原变量即得原方程的解为（x^2-y^2-2）^5=c(x^2+y^2),c为任意常数$"
   ]
  },
  {
   "cell_type": "markdown",
   "metadata": {},
   "source": [
    "$有理整式的概念：有理整式也称之为整式，对变数字母与数仅限于有限次加、减、乘、乘方运算的代数式，即除式不含变数字母的有理式$"
   ]
  },
  {
   "cell_type": "markdown",
   "metadata": {},
   "source": [
    "$解对常数的独立性是指：对m及其n-1阶偏导数关于n个常数C1,C2,…,Cn的雅可比行列式不为0.$"
   ]
  },
  {
   "cell_type": "markdown",
   "metadata": {},
   "source": [
    "$设y1（t）是\\frac{dy}{dt}=f(y).y(0)=y0的解，证明y2（t）=y1（t-t0）是\\frac{dy}{dt}=f（y），y（t0）=y0的解$\n",
    "\n",
    "$证明：因为\\frac{dy2（t）}{dt}=\\frac{dy1（t-t0）}{d（t）}=f[y1(t-t0)]=f(y2)$\n",
    "\n",
    "$所以y2=y1(t-t0)也为\\frac{dy}{dt}=f（y）的解$\n",
    "\n",
    "$由y1(0)=y0得t=0时，y1（0）=y0$\n",
    "\n",
    "$所以，t-t0=0时，y1（t-t0）=y0.即y2（t0）=y0$"
   ]
  },
  {
   "cell_type": "markdown",
   "metadata": {},
   "source": [
    "# <font color='red'>A  12/9"
   ]
  },
  {
   "cell_type": "code",
   "execution_count": null,
   "metadata": {
    "collapsed": true
   },
   "outputs": [],
   "source": []
  }
 ],
 "metadata": {
  "kernelspec": {
   "display_name": "SageMath 7.3",
   "language": "",
   "name": "sagemath"
  },
  "language_info": {
   "codemirror_mode": {
    "name": "ipython",
    "version": 2
   },
   "file_extension": ".py",
   "mimetype": "text/x-python",
   "name": "python",
   "nbconvert_exporter": "python",
   "pygments_lexer": "ipython2",
   "version": "2.7.10"
  }
 },
 "nbformat": 4,
 "nbformat_minor": 0
}
