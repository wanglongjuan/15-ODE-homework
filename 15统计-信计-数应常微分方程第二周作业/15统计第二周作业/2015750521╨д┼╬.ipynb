{
 "cells": [
  {
   "cell_type": "markdown",
   "metadata": {},
   "source": [
    "# $$作业一$$"
   ]
  },
  {
   "cell_type": "markdown",
   "metadata": {
    "collapsed": true
   },
   "source": [
    "## $3.验证下列各函数是相应微分方程的解$"
   ]
  },
  {
   "cell_type": "markdown",
   "metadata": {},
   "source": [
    "###  $（7）y=x^2+1      y’=y^2+(x^2+1)y+2x $"
   ]
  },
  {
   "cell_type": "code",
   "execution_count": 32,
   "metadata": {
    "collapsed": false
   },
   "outputs": [
    {
     "data": {
      "text/html": [
       "<html><script type=\"math/tex; mode=display\">\\newcommand{\\Bold}[1]{\\mathbf{#1}}y\\left(x\\right) = x^{2} + 1</script></html>"
      ],
      "text/plain": [
       "y(x) == x^2 + 1"
      ]
     },
     "metadata": {},
     "output_type": "display_data"
    },
    {
     "data": {
      "text/html": [
       "<html><script type=\"math/tex; mode=display\">\\newcommand{\\Bold}[1]{\\mathbf{#1}}D[0]\\left(y\\right)\\left(x\\right) = -{\\left(x^{2} + 1\\right)} y\\left(x\\right) + y\\left(x\\right)^{2} + 2 \\, x</script></html>"
      ],
      "text/plain": [
       "D[0](y)(x) == -(x^2 + 1)*y(x) + y(x)^2 + 2*x"
      ]
     },
     "metadata": {},
     "output_type": "display_data"
    }
   ],
   "source": [
    "var('x')\n",
    "y=function('y')(x)\n",
    "eqn1=y==x^2+1\n",
    "eqn2=diff(y,x,1)==y^2-(x^2+1)*y+2*x\n",
    "show(eqn1)\n",
    "show(eqn2)"
   ]
  },
  {
   "cell_type": "code",
   "execution_count": 17,
   "metadata": {
    "collapsed": false
   },
   "outputs": [
    {
     "data": {
      "text/html": [
       "<html><script type=\"math/tex; mode=display\">\\newcommand{\\Bold}[1]{\\mathbf{#1}}2 \\, x = 2 \\, x</script></html>"
      ],
      "text/plain": [
       "2*x == 2*x"
      ]
     },
     "metadata": {},
     "output_type": "display_data"
    }
   ],
   "source": [
    "var('x')\n",
    "y=function('y')(x)\n",
    "y=x^2+1\n",
    "eqn=diff(y,x,1)==y^2-(x^2+1)*y+2*x\n",
    "show(eqn)"
   ]
  },
  {
   "cell_type": "markdown",
   "metadata": {},
   "source": [
    "由上式可得 函数$y=x^2+1$是相应微分方程$y’=y^2+(x^2+1)y+2x$的解"
   ]
  },
  {
   "cell_type": "markdown",
   "metadata": {},
   "source": [
    "###   $（8） y=-g(x)/f(x) ,  y’= [f’(x)/g(x)]y^2-[g’(x)/f(x)].$"
   ]
  },
  {
   "cell_type": "code",
   "execution_count": 18,
   "metadata": {
    "collapsed": false
   },
   "outputs": [
    {
     "data": {
      "text/html": [
       "<html><script type=\"math/tex; mode=display\">\\newcommand{\\Bold}[1]{\\mathbf{#1}}\\frac{g\\left(x\\right) D[0]\\left(f\\right)\\left(x\\right)}{f\\left(x\\right)^{2}} - \\frac{D[0]\\left(g\\right)\\left(x\\right)}{f\\left(x\\right)} = \\frac{g\\left(x\\right) D[0]\\left(f\\right)\\left(x\\right)}{f\\left(x\\right)^{2}} - \\frac{D[0]\\left(g\\right)\\left(x\\right)}{f\\left(x\\right)}</script></html>"
      ],
      "text/plain": [
       "g(x)*D[0](f)(x)/f(x)^2 - D[0](g)(x)/f(x) == g(x)*D[0](f)(x)/f(x)^2 - D[0](g)(x)/f(x)"
      ]
     },
     "metadata": {},
     "output_type": "display_data"
    }
   ],
   "source": [
    "var('x')\n",
    "f=function('f')(x)\n",
    "g=function('g')(x)\n",
    "y=-g/f\n",
    "G=diff(g,x,1)\n",
    "F=diff(f,x,1)\n",
    "eqn=diff(y,x,1)==(F/g)*y^2-(G/f)\n",
    "show(eqn)"
   ]
  },
  {
   "cell_type": "markdown",
   "metadata": {},
   "source": [
    "由上式可得 函数$y=-g(x)/f(x)$是相应微分方程$ y’= [f’(x)/g(x)]y^2-[g’(x)/f(x)]$的解"
   ]
  },
  {
   "cell_type": "markdown",
   "metadata": {},
   "source": [
    "##  $4.给定一阶微分方程 \\frac{\\mathrm d y}{\\mathrm d x}=2x.$"
   ]
  },
  {
   "cell_type": "markdown",
   "metadata": {},
   "source": [
    "### $（1） 求出它的通解$"
   ]
  },
  {
   "cell_type": "code",
   "execution_count": 19,
   "metadata": {
    "collapsed": false
   },
   "outputs": [
    {
     "data": {
      "text/html": [
       "<html><script type=\"math/tex; mode=display\">\\newcommand{\\Bold}[1]{\\mathbf{#1}}-2 \\, x + D[0]\\left(y\\right)\\left(x\\right) = 0</script></html>"
      ],
      "text/plain": [
       "-2*x + D[0](y)(x) == 0"
      ]
     },
     "metadata": {},
     "output_type": "display_data"
    },
    {
     "data": {
      "text/html": [
       "<html><script type=\"math/tex; mode=display\">\\newcommand{\\Bold}[1]{\\mathbf{#1}}y\\left(x\\right) = x^{2} + C</script></html>"
      ],
      "text/plain": [
       "y(x) == x^2 + _C"
      ]
     },
     "metadata": {},
     "output_type": "display_data"
    }
   ],
   "source": [
    "var('x')\n",
    "y=function('y')(x)\n",
    "de=diff(y,x,1)-2*x==0\n",
    "show(de)\n",
    "show(y==desolve(de,y))"
   ]
  },
  {
   "cell_type": "markdown",
   "metadata": {},
   "source": [
    "### $（2）求通过点（1，4）的特解$"
   ]
  },
  {
   "cell_type": "markdown",
   "metadata": {
    "collapsed": true
   },
   "source": [
    "######  $解：\\int 2x\\mathrm{d}x=x^2+c$"
   ]
  },
  {
   "cell_type": "markdown",
   "metadata": {},
   "source": [
    "###### $   因为 y=x^2+c经过点（1，4）$\n",
    "    "
   ]
  },
  {
   "cell_type": "markdown",
   "metadata": {},
   "source": [
    "###### $所以 c=3 . y=x^2+3$"
   ]
  },
  {
   "cell_type": "markdown",
   "metadata": {},
   "source": [
    "###  $（3）求出与直线y=2x+3相切的解$"
   ]
  },
  {
   "cell_type": "markdown",
   "metadata": {
    "collapsed": true
   },
   "source": [
    "###### $解：y=2x+3的斜率为 k_1=2$"
   ]
  },
  {
   "cell_type": "markdown",
   "metadata": {},
   "source": [
    "###### $因为 y=x^2+c的斜率为 k_2=2x,所以 y=x^2+c斜率为2的点的横坐标为x_1=1$"
   ]
  },
  {
   "cell_type": "markdown",
   "metadata": {},
   "source": [
    "##### $由y=2x+3可得,切点为（1，5）$"
   ]
  },
  {
   "cell_type": "markdown",
   "metadata": {},
   "source": [
    "###### $将代入得：c=4，解：y=x^2+4$"
   ]
  },
  {
   "cell_type": "markdown",
   "metadata": {},
   "source": [
    "### $（4）求出满足条件\\int\\limits_0^1y\\,\\mathrm{d}x=2的解$  "
   ]
  },
  {
   "cell_type": "markdown",
   "metadata": {
    "collapsed": true
   },
   "source": [
    "###### $解：\\int\\limits_0^1y\\,\\mathrm{d}x=\\left.\\frac{x^3}{3}+cx\\right|_0^1=\\frac{1}{3}+c$"
   ]
  },
  {
   "cell_type": "markdown",
   "metadata": {},
   "source": [
    "##### $因为 \\int\\limits_0^1y\\,\\mathrm{d}x=2,所以c=\\frac{5}{3}$"
   ]
  },
  {
   "cell_type": "markdown",
   "metadata": {},
   "source": [
    "###### $所以 解为 y=x^2+\\frac{5}{3}$"
   ]
  },
  {
   "cell_type": "markdown",
   "metadata": {
    "collapsed": true
   },
   "source": [
    "### $ (5) 绘出（2）（3）（4）中的解的图形$"
   ]
  },
  {
   "cell_type": "code",
   "execution_count": 20,
   "metadata": {
    "collapsed": false
   },
   "outputs": [
    {
     "data": {
      "image/png": "[encoded data removed]",
      "text/plain": [
       "Graphics object consisting of 1 graphics primitive"
      ]
     },
     "execution_count": 20,
     "metadata": {},
     "output_type": "execute_result"
    }
   ],
   "source": [
    "plot(x^2+3,x,-2,2)"
   ]
  },
  {
   "cell_type": "code",
   "execution_count": 21,
   "metadata": {
    "collapsed": false
   },
   "outputs": [
    {
     "data": {
      "image/png": "[encoded data removed]",
      "text/plain": [
       "Graphics object consisting of 1 graphics primitive"
      ]
     },
     "execution_count": 21,
     "metadata": {},
     "output_type": "execute_result"
    }
   ],
   "source": [
    "plot(x^2+4,x,-2,2)"
   ]
  },
  {
   "cell_type": "code",
   "execution_count": 22,
   "metadata": {
    "collapsed": false,
    "scrolled": false
   },
   "outputs": [
    {
     "data": {
      "image/png": "[encoded data removed]",
      "text/plain": [
       "Graphics object consisting of 1 graphics primitive"
      ]
     },
     "execution_count": 22,
     "metadata": {},
     "output_type": "execute_result"
    }
   ],
   "source": [
    "plot(x^2+5/3,x,-2,2)"
   ]
  },
  {
   "cell_type": "markdown",
   "metadata": {},
   "source": [
    "## $1.求下列方程的解$"
   ]
  },
  {
   "cell_type": "markdown",
   "metadata": {},
   "source": [
    "### $（6）x\\frac{\\mathrm d y}{\\mathrm d x}-y+\\sqrt{x^2+y^2}=0$"
   ]
  },
  {
   "cell_type": "code",
   "execution_count": null,
   "metadata": {
    "collapsed": true
   },
   "outputs": [],
   "source": [
    "var('x y u c')\n",
    "g=y/x-sqrt(1+y^2/x^2)\n",
    "G=g.subs(y/x==u)\n",
    "show(G)\n",
    "f=1/sqrt(1=u^2)\n",
    "phi=sgn(x)/x\n",
    "F=interal(f,u)\n",
    "G=interal(phi,x)\n",
    "s=F==G+c\n",
    "S=s.subs(u==y/x)\n",
    "show(S)"
   ]
  },
  {
   "cell_type": "markdown",
   "metadata": {},
   "source": [
    "###### $移式得：\\frac{\\mathrm dy}{\\mathrm dx}=\\frac{\\mathrm y}{\\mathrm x}-\\sqrt{1+\\frac{\\mathrm y^2}{\\mathrm x^2}}$"
   ]
  },
  {
   "cell_type": "markdown",
   "metadata": {},
   "source": [
    "###### $作变量代换：u=\\frac{\\mathrm y}{\\mathrm x},y=ux,\\frac{\\mathrm dy}{\\mathrm dx}=u+x\\frac{\\mathrm du}{\\mathrm dx},原式可化为\\frac{\\mathrm du}{\\mathrm dx}=\\frac{\\mathrm {\\sqrt{x^2（1-u^2）}}}{\\mathrm x}$"
   ]
  },
  {
   "cell_type": "markdown",
   "metadata": {},
   "source": [
    "##### $分离变量得：\\frac{\\mathrm du}{\\mathrm {\\sqrt{1-u^2}}}=sgn x \\frac{\\mathrm dx }{\\mathrm x}$"
   ]
  },
  {
   "cell_type": "markdown",
   "metadata": {},
   "source": [
    "#### $两边求积分得：arcsin u =sgn(x)*In|x|+c$"
   ]
  },
  {
   "cell_type": "markdown",
   "metadata": {},
   "source": [
    "##### $代入u=\\frac{\\mathrm y}{\\mathrm x}得：arcsin（y/x） =sgn(x)*In|x|+c$"
   ]
  },
  {
   "cell_type": "markdown",
   "metadata": {},
   "source": [
    "##### $由计算可得：y^2=x^2$"
   ]
  },
  {
   "cell_type": "markdown",
   "metadata": {},
   "source": [
    "### $（7）tan(y)dx-cot(x)dy=0$"
   ]
  },
  {
   "cell_type": "markdown",
   "metadata": {},
   "source": [
    "##### $解：分离变量得：\\frac{\\mathrm 1}{\\mathrm {tan (y)}}dy=\\frac{\\mathrm 1}{\\mathrm cot(x)}dx$"
   ]
  },
  {
   "cell_type": "markdown",
   "metadata": {},
   "source": [
    "#### $两边求积分得：In|sin (y)|=-Incos(x)+c$"
   ]
  },
  {
   "cell_type": "markdown",
   "metadata": {},
   "source": [
    "### $2.做适当的变量变换求解下列方程$"
   ]
  },
  {
   "cell_type": "markdown",
   "metadata": {},
   "source": [
    "### $(6)\\frac{\\mathrm dy}{\\mathrm dx}=\\frac{\\mathrm {y^6-2x^2}}{\\mathrm {2xy^5+x^2y^2}};$"
   ]
  },
  {
   "cell_type": "markdown",
   "metadata": {},
   "source": [
    "#### $解：\\frac{\\mathrm dy}{\\mathrm dx}=\\frac{\\mathrm {（y^3）^2-2x^2}}{\\mathrm {(2xy^3+x^2)y^2}}=\\frac{\\mathrm dy^3}{\\mathrm dx}=\\frac{\\mathrm dy}{\\mathrm dx}=\\frac{\\mathrm {3(（y^3）^2-2x^2)}}{\\mathrm {2xy^3+x^2}}$"
   ]
  },
  {
   "cell_type": "markdown",
   "metadata": {},
   "source": [
    "#### $令y^3=u,则原式化为：\\frac{\\mathrm du}{\\mathrm dx}=\\frac{\\mathrm 3u^2-6x^2}{\\mathrm 2xu+x^2}=\\frac{\\mathrm {\\frac{\\mathrm 3u^2 }{\\mathrm x^2}-6}}{\\mathrm 2{\\frac{\\mathrm u}{\\mathrm x}+1}},是齐次方程$\n",
    "#### $令\\frac{\\mathrm u}{\\mathrm x}=z,则\\frac{\\mathrm du}{\\mathrm dx}=z+x\\frac{\\mathrm dz}{\\mathrm dx},即有：\\frac{\\mathrm 3z^2-6}{\\mathrm 2z+1}=z+x\\frac{\\mathrm dz}{\\mathrm dx},x\\frac{\\mathrm dz}{\\mathrm dx}=\\frac{\\mathrm z^2-z-6}{\\mathrm 2z+1}…………（1）$"
   ]
  },
  {
   "cell_type": "markdown",
   "metadata": {},
   "source": [
    "#### $当z^2-z-6=0,得z=3或z=-2是(1)方程的解，即y^3=3x或y^3=-2x是方程的解。$\n",
    "#### $当z^2-z-6\\neq0，变量分离\\frac{\\mathrm 2z+1}{\\mathrm z^2-z-6}dz=\\frac{\\mathrm 1}{\\mathrm x}dx,两边积分得：（z-3）^7（z+2）^3=x^5c，即(y^3-3x)^7(y^3+2x)=x^5c$\n",
    "#### $因为当c=0时，y^3=3x或y^3=-2x包含在通解中,所以原式的解为(y^3-3x)^7(y^3+2x)=x^{15}c$"
   ]
  },
  {
   "cell_type": "markdown",
   "metadata": {},
   "source": [
    "### $(7)\\frac{\\mathrm dy}{\\mathrm dx}=\\frac{\\mathrm {2x^3+3xy^2+x}}{\\mathrm {3x^2y+2y^3-y}}.$"
   ]
  },
  {
   "cell_type": "markdown",
   "metadata": {},
   "source": [
    "#### $原式化为：\\frac{\\mathrm dy}{\\mathrm dx}=\\frac{\\mathrm {（2x^2+3y^2+1）x}}{\\mathrm {（3x^2+2y^2-1）y}}，\\frac{\\mathrm dy^2}{\\mathrm dx^2}=\\frac{\\mathrm {2x^2+3y^2+1}}{\\mathrm {3x^2+2y^2-1}}$\n",
    "#### $令y^2=u;x^2=v,则\\frac{\\mathrm du}{\\mathrm dv}=\\frac{\\mathrm {2x^2+3y^2+1}}{\\mathrm {3x^2+2y^2-1}}……………（1）$\n",
    "#### $方程组2v+3u+1=0,3v+2u-1=0的解（1，-1），令Z=v-1,Y=u+1,则2z+3y=1,3z+2y=0，从而方程（1）化为\\frac{\\mathrm dy}{\\mathrm dz}=\\frac{\\mathrm 2+3{\\frac {\\mathrm y}{\\mathrm z}}}{\\mathrm 3+2{\\frac {\\mathrm y}{\\mathrm z}}}$\n"
   ]
  },
  {
   "cell_type": "markdown",
   "metadata": {},
   "source": [
    "#### $t=\\frac{\\mathrm y}{\\mathrm z},则\\frac{\\mathrm dy}{\\mathrm dz}=t+z\\frac{\\mathrm dt}{\\mathrm dz},所以t+z\\frac{\\mathrm dt}{\\mathrm dz}=\\frac{\\mathrm 2+3t}{\\mathrm 3+2t},z\\frac{\\mathrm dt}{\\mathrm dz}=\\frac{\\mathrm 2-2t^2}{\\mathrm 3+2t}…………（2）$\n",
    "#### $当2-2t^2=0时，即t=1或-1，是方程的解。得y^2=x^2-2或y^2=-x^2是原式的解$\n",
    "#### $当2-2t^2\\neq0时，分离变量得\\frac{\\mathrm 3+2t}{\\mathrm 2-2t^2}dt=\\frac{\\mathrm 1 }{\\mathrm z}dz：，两边积分得：y^2+x^2=(y^2-x^2+2)^5c$\n",
    "#### $由y^2=x^2-2或y^2=-x^2，包含在其通解中，所以原式的解：y^2+x^2=(y^2-x^2+2)^5c$"
   ]
  },
  {
   "cell_type": "markdown",
   "metadata": {},
   "source": [
    "### $附加题： y_1(t)是\\frac{\\mathrm dy}{\\mathrm dt}=f(y),y(0)=y_0的解，证明y_2(t)=y_1(t-t_0)是\\frac{\\mathrm dy}{\\mathrm dt}=f(y),y(t_0)=y_0的解$"
   ]
  },
  {
   "cell_type": "markdown",
   "metadata": {
    "collapsed": true
   },
   "source": [
    "#### $解：\\frac{\\mathrm dy_2(t)}{\\mathrm dt}=\\frac{\\mathrm dy_1(t-t_0)}{\\mathrm dt}=\\frac{\\mathrm dy_1(t-t_0)}{\\mathrm dt-t_0}=f(y_1(t-t_0))=f(y_2)$\n",
    "#### $y_2(t)=y_1(t-t_0)是\\frac{\\mathrm dy}{\\mathrm dt}=f(y)的解$\n",
    "#### $y(0)=y_0即t=0时，y(0)=y_0$\n",
    "#### $所以t-t_0=0时，y_1(t-t_0)=y_0 即y(t_0)=y_0$"
   ]
  },
  {
   "cell_type": "markdown",
   "metadata": {
    "collapsed": true
   },
   "source": [
    "# <font color='red'>A+  12/9"
   ]
  },
  {
   "cell_type": "code",
   "execution_count": null,
   "metadata": {
    "collapsed": true
   },
   "outputs": [],
   "source": []
  }
 ],
 "metadata": {
  "kernelspec": {
   "display_name": "SageMath 7.3",
   "language": "",
   "name": "sagemath"
  },
  "language_info": {
   "codemirror_mode": {
    "name": "ipython",
    "version": 2
   },
   "file_extension": ".py",
   "mimetype": "text/x-python",
   "name": "python",
   "nbconvert_exporter": "python",
   "pygments_lexer": "ipython2",
   "version": "2.7.10"
  }
 },
 "nbformat": 4,
 "nbformat_minor": 0
}
