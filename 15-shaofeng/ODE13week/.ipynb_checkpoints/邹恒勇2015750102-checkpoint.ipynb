{
 "cells": [
  {
   "cell_type": "markdown",
   "metadata": {},
   "source": [
    "# 姓名：邹恒勇\n",
    "# 学号：2015750102"
   ]
  },
  {
   "cell_type": "markdown",
   "metadata": {},
   "source": [
    "# $$作业一（11月21日）$$"
   ]
  },
  {
   "cell_type": "markdown",
   "metadata": {},
   "source": [
    "## 考虑方程组$$x'=A(t)x$$\n",
    "## 其中$A( t）$是区间$a\\leq t\\leq b$上连续的$n\\times n$矩阵，它的元为$a_{ij}(t)(i,j=1,2,\\cdots,n)$."
   ]
  },
  {
   "cell_type": "markdown",
   "metadata": {},
   "source": [
    "## （1）如果$x_1(t),x_2(t),\\cdots,x_n(t)$是（5.15）的任意n个解，那么他们的朗斯基行列式$W[x_1(t),x_2(t),\\cdots,x_n(t)]\\equiv W(t)$满足下面的一阶线性微分方程$$W'=[a_{11}(t)+a_{22}(t)+\\cdots+a_{nn}(t)]W$$"
   ]
  },
  {
   "cell_type": "markdown",
   "metadata": {},
   "source": [
    "### 证\n",
    "\n",
    "$$W'=\\begin{bmatrix}\n",
    "x'_{11} & x'_{12} & \\cdots & x'_{1n}\\\\\n",
    "x_{21} & x_{22} & \\cdots & x_{2n}\\\\\n",
    "\\vdots & \\vdots & \\ddots & \\vdots\\\\\n",
    "x_{n1} & x_{n2} & \\cdots & x_{nn}\\\\\n",
    "\\end{bmatrix}\n",
    "+\n",
    "\\begin{bmatrix}\n",
    "x_{11} & x_{12} & \\cdots & x_{1n}\\\\\n",
    "x'_{21} & x'_{22} & \\cdots & x'_{2n}\\\\\n",
    "\\vdots & \\vdots & \\ddots & \\vdots\\\\\n",
    "x_{n1} & x_{n2} & \\cdots & x_{nn}\\\\\n",
    "\\end{bmatrix}\n",
    "+\\cdots+\n",
    "\\begin{bmatrix}\n",
    "x_{11} & x_{12} & \\cdots & x_{1n}\\\\\n",
    "x_{21} & x_{22} & \\cdots & x_{2n}\\\\\n",
    "\\vdots & \\vdots & \\ddots & \\vdots\\\\\n",
    "x'_{n1} & x'_{n2} & \\cdots & x'_{nn}\\\\\n",
    "\\end{bmatrix} \\\\\n",
    "=\\begin{bmatrix}\n",
    "a_{11}x_{11}+a_{12}x_{21}+\\dots+a_{1n}x_{n1} & a_{11}x_{12}+a_{12}x_{22}+\\dots+a_{1n}x_{n2} & \\cdots & a_{11}x_{1n}+a_{12}x_{2n}+\\dots+a_{1n}x_{nn}\\\\\n",
    "x_21 & x_22 & \\cdots & x_2n\\\\\n",
    "\\vdots & \\vdots & \\ddots & \\vdots\\\\\n",
    "x_n1 & x_n2 & \\cdots & x_nn\\\\\n",
    "\\end{bmatrix}\n",
    "+\\cdots+\n",
    "\\begin{bmatrix}\n",
    "x_11 & x_12 & \\cdots & x_1n\\\\\n",
    "x_21 & x_22 & \\cdots & x_2n\\\\\n",
    "\\vdots & \\vdots & \\ddots & \\vdots\\\\\n",
    "a_{11}x_{11}+a_{12}x_{21}+\\dots+a_{1n}x_{n1} & a_{11}x_{12}+a_{12}x_{22}+\\dots+a_{1n}x_{n2} & \\cdots & a_{11}x_{1n}+a_{12}x_{2n}+\\dots+a_{1n}x_{nn}\\\\\n",
    "\\end{bmatrix} \\\\\n",
    "=\\begin{bmatrix}\n",
    "a_{11}x_{11} & a_{11}x_{12} & \\cdots & a_{11}x_{1n}\\\\\n",
    "x_{21} & x_{22} & \\cdots & x_{2n}\\\\\n",
    "\\vdots & \\vdots & \\ddots & \\vdots\\\\\n",
    "x_{n1} & x_{n2} & \\cdots & x_{nn}\\\\\n",
    "\\end{bmatrix}\n",
    "+\\cdots+\n",
    "\\begin{bmatrix}\n",
    "x_{11} & x_{12} & \\cdots & x_{1n}\\\\\n",
    "x_{21} & x_{22} & \\cdots & x_{2n}\\\\\n",
    "\\vdots & \\vdots & \\ddots & \\vdots\\\\\n",
    "a_{nn}x_{n1} & a_{nn}x_{n2} & \\cdots & a_{nn}x_{nn}\\\\\n",
    "\\end{bmatrix}$$\n",
    "得出W'（t）的表达，整理可得\n",
    "$$W'=(a_{11}+\\cdots+a_{nn})\\begin{bmatrix}\n",
    "x_{11} & x_{12} & \\cdots & x_{1n}\\\\\n",
    "x_{21} & x_{22} & \\cdots & x_{2n}\\\\\n",
    "\\vdots & \\vdots & \\ddots & \\vdots\\\\\n",
    "x_{n1} & x_{n2} & \\cdots & x_{nn}\\\\\n",
    "\\end{bmatrix}\\\\\n",
    "=(a_{11}+\\cdots+a_{nn})W$$"
   ]
  },
  {
   "cell_type": "markdown",
   "metadata": {},
   "source": [
    "## (2)解上面的一阶线性微分方程，证明下列公式$$W(t)=W(t_0)e^{\\int_{t_0}^t [a_{11}(t)+a_{22}(t)+\\cdots+a_{nn}(t)]dt}.t_0,t\\in [a,b]$$"
   ]
  },
  {
   "cell_type": "markdown",
   "metadata": {},
   "source": [
    "### 证\n",
    "\n",
    "因为$W'=[a_{11}(t)+a_{22}(t)+\\cdots+a_{nn}(t)]W$\n",
    "\n",
    "有$\\frac{dW}{dt}=[a_{11}(t)+a_{22}(t)+\\cdots+a_{nn}(t)]W$进行变量分离，\n",
    "\n",
    "有$$\\frac{dW}{W}=[a_{11}(t)+a_{22}(t)+\\cdots+a_{nn}(t)]dt$$\n",
    "两边同时积分,从$t_0$到$t$，$$\\ln W(t)-\\ln W(t_0)=\\int_{t_0}^t [a_{11}(t)+a_{22}(t)+\\cdots+a_{nn}(t)]dt\\\\\n",
    "=>W(t)=W（t_0）e^{\\int_{t_0}^t [a_{11}(t)+a_{22}(t)+\\cdots+a_{nn}(t)]dt}$$\n"
   ]
  },
  {
   "cell_type": "markdown",
   "metadata": {
    "collapsed": true
   },
   "source": [
    "## 2：设$A(t)$为区间$a\\leq t\\leq b$上的连续$n\\times n$实矩阵，$\\phi(t)$为方程$x'=A(t)x$的基解矩阵，而$x=\\psi(t)$为其一解，试证："
   ]
  },
  {
   "cell_type": "markdown",
   "metadata": {},
   "source": [
    "## （1）对于$y'=-A^T(t)y$的任一解$y=\\psi(t)$必有$\\psi^T(t)\\phi(t)=$常数"
   ]
  },
  {
   "cell_type": "markdown",
   "metadata": {},
   "source": [
    "### 证\n",
    "\n",
    "对$\\psi^T(t)\\phi(t)$求导，有$[\\psi^T(t)\\phi(t)]'=\\psi^{T'}(t)\\phi(t)+\\psi^T(t)\\phi'(t)$\n",
    "\n",
    "有$\\-A^T(t)\\psi(t)\\phi(t)+\\psi^T(t)A(t)\\phi(t)=0$\n",
    "\n",
    "所以$\\psi^T(t)\\phi(t)$求导的值恒为0，所以$\\psi^T(t)\\phi(t)$为常数"
   ]
  },
  {
   "cell_type": "markdown",
   "metadata": {},
   "source": [
    "## （2）$\\psi(t)$为方程$y'=-A^T(t)y$的基解矩阵的充要条件是存在非奇异的常数矩阵C，使$\\psi^T(t)\\phi(t)=C$"
   ]
  },
  {
   "cell_type": "markdown",
   "metadata": {},
   "source": [
    "充分性：\n",
    "\n",
    "因为有$\\psi^T(t)\\phi(t)=C$所以有$\\psi^T(t)\\phi(t)=C$的导数为0\n",
    "\n",
    "所以$$\\psi^{T'}(t)\\phi(t)=-\\psi^T(t)A(t)\\phi(t)\\\\\n",
    "\\psi^{T'}=-\\psi^T(t)A(t)$$\n",
    "所以$\\psi(t)$为方程$y'=-A^T(t)y$的基解矩阵\n",
    "必要性：为第一问的证明"
   ]
  },
  {
   "cell_type": "markdown",
   "metadata": {},
   "source": [
    "$A$"
   ]
  },
  {
   "cell_type": "markdown",
   "metadata": {},
   "source": []
  }
 ],
 "metadata": {
  "kernelspec": {
   "display_name": "SageMath 7.3",
   "language": "",
   "name": "sagemath"
  },
  "language_info": {
   "codemirror_mode": {
    "name": "ipython",
    "version": 2
   },
   "file_extension": ".py",
   "mimetype": "text/x-python",
   "name": "python",
   "nbconvert_exporter": "python",
   "pygments_lexer": "ipython2",
   "version": "2.7.10"
  }
 },
 "nbformat": 4,
 "nbformat_minor": 0
}
