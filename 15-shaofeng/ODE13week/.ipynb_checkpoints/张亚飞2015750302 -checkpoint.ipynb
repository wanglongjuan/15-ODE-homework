{
 "cells": [
  {
   "cell_type": "markdown",
   "metadata": {},
   "source": [
    " ## 习题5.2 ##"
   ]
  },
  {
   "cell_type": "markdown",
   "metadata": {},
   "source": [
    "2.证明：\n",
    "\n",
    "(1)记$x_i=\\begin{bmatrix}x_{1i}\\\\x_{2i}\\\\\\vdots\\\\x_{ni}\\end{bmatrix}$,则\n",
    "\n",
    "\\begin{aligned}\n",
    "    W'&={\\begin{vmatrix}\n",
    "    x_{11} & x_{12} & \\cdots & x_{1n}\\\\\n",
    "    x_{21} & x_{22} & \\cdots & x_{2n}\\\\\n",
    "    \\vdots & \\vdots & \\ddots & \\vdots\\\\\n",
    "    x_{n1} & x_{n2} & \\cdots & x_{nn}\\end{vmatrix}'\n",
    "    =\\displaystyle\\sum_{k=1}^{n}\n",
    "    \\begin{vmatrix}\n",
    "    x_{11} & x_{12} & \\cdots & x_{1n}\\\\\n",
    "    \\vdots & \\vdots &      & \\vdots\\\\\n",
    "    x_{k1}' & x_{k2}' & \\cdots & x_{kn}'\\\\\n",
    "    \\vdots & \\vdots &      & \\vdots\\\\\n",
    "    x_{n1} & x_{n2} & \\cdots & x_{nn}\\end{vmatrix}\n",
    "    =\\displaystyle\\sum_{k=1}^{n}\n",
    "    \\begin{vmatrix}\n",
    "    x_{11} & x_{12} & \\cdots & x_{1n}\\\\\n",
    "    \\vdots & \\vdots &      & \\vdots\\\\\n",
    "    \\displaystyle\\sum_{i=1}^{n}a_{ki}(t)x_{i1} & \\displaystyle\\sum_{i=1}^{n}a_{ki}(t)x_{i2} & \\cdots & \\displaystyle\\sum_{i=1}^{n}a_{ki}(t)x_{in}\\\\\n",
    "    \\vdots & \\vdots &      & \\vdots\\\\\n",
    "    x_{n1} & x_{n2} & \\cdots & x_{nn}\\end{vmatrix}}\\\\\n",
    "    &={\\displaystyle\\sum_{k=1}^{n}\\displaystyle\\sum_{i=1}^{n}\n",
    "    \\begin{vmatrix}\n",
    "    x_{11} & x_{12} & \\cdots & x_{1n}\\\\\n",
    "    \\vdots & \\vdots &      & \\vdots\\\\\n",
    "    a_{ki}(t)x_{i1} & a_{ki}(t)x_{i2} & \\cdots & a_{ki}(t)x_{in}\\\\\n",
    "    \\vdots & \\vdots &      & \\vdots\\\\\n",
    "    x_{n1} & x_{n2} & \\cdots & x_{nn}\\end{vmatrix}}\\\\\n",
    "    &={\\displaystyle\\sum_{k=1}^{n}\n",
    "    \\begin{vmatrix}\n",
    "    x_{11} & x_{12} & \\cdots & x_{1n}\\\\\n",
    "    \\vdots & \\vdots &      & \\vdots\\\\\n",
    "    a_{kk}(t)x_{k1} & a_{kk}(t)x_{k2} & \\cdots & a_{kk}(t)x_{kn}\\\\\n",
    "    \\vdots & \\vdots &      & \\vdots\\\\\n",
    "    x_{n1} & x_{n2} & \\cdots & x_{nn}\\end{vmatrix}\n",
    "     =\\displaystyle\\sum_{k=1}^{n}a_{kk}(t)\n",
    "    \\begin{vmatrix}\n",
    "    x_{11} & x_{12} & \\cdots & x_{1n}\\\\\n",
    "    \\vdots & \\vdots &      & \\vdots\\\\\n",
    "    x_{k1} & x_{k2} & \\cdots & x_{kn}\\\\\n",
    "    \\vdots & \\vdots &      & \\vdots\\\\\n",
    "    x_{n1} & x_{n2} & \\cdots & x_{nn}\\end{vmatrix}}\\\\\n",
    "    &={[a_{11}(t)+a_{22}(t)+\\cdots+a_{nn}(t)]}W\\end{aligned}\n",
    "   \n",
    "    "
   ]
  },
  {
   "cell_type": "markdown",
   "metadata": {},
   "source": [
    "(2)可得$$\\frac{\\mathrm dW}{\\mathrm dt}=[a_{11}(t)+a_{22}(t)+\\cdots+a_{nn}(t)]W$$\n",
    "即$$\\frac{\\mathrm dW}{W}=[a_{11}(t)+a_{22}(t)+\\cdots+a_{nn}(t)]\\mathrm dt$$\n",
    "即$$\\ln\\mid W\\mid=\\int_{t_0}^t[a_{11}(s)+a_{22}(s)+\\cdots+a_{nn}(s)]\\mathrm ds+c_1$$\n",
    "即$$W(t)=c\\mathrm e^{\\int_{t_0}^t[a_{11}(s)+a_{22}(s)+\\cdots+a_{nn}(s)]\\mathrm ds}$$\n",
    "当$t=t_0$时，$W(t_0)=c$,所以\n",
    "$$W(t)=W(t_0)\\mathrm e^{\\int_{t_0}^t[a_{11}(s)+a_{22}(s)+\\cdots+a_{nn}(s)]\\mathrm ds}$$"
   ]
  },
  {
   "cell_type": "markdown",
   "metadata": {},
   "source": [
    "3.证明：(1)\n",
    "有$$(y')^T=(y^T)'=[-A^T(t)y]^T=-y^TA(t)$$\n",
    "有$$[\\psi^T(t)\\varphi(t)]'=[\\psi^T(t)]'\\varphi(t)+\\psi^T(t)\\varphi'(t)=-\\psi^T(t)A(t)\\varphi(t)+\\psi^T(t)A(t)\\varphi(t)=0$$\n",
    "所以$$\\psi^T(t)\\varphi(t)=常数$$"
   ]
  },
  {
   "cell_type": "markdown",
   "metadata": {},
   "source": [
    "(2)必要性：设$\\Psi(t)$为方程$y'=-A^T(t)y$的基解矩阵，则\n",
    "$$[\\Psi^T(t)\\Phi(t)]'=[\\Psi^T(t)]'\\Phi(t)+\\Psi^T(t)\\Phi'(t)=-\\Psi^T(t)A(t)\\Phi(t)+\\Psi^T(t)A(t)\\Phi(t)=O$$\n",
    "所以$$\\Psi^T(t)\\Phi(t)=C$$\n",
    "因为$\\Psi(t),\\Phi(t)$均为基解矩阵，所以\n",
    "$$\\det(\\Psi(t))\\neq 0,\\det(\\Phi(t))\\neq 0$$\n",
    "所以$$\\det(C)=\\det(\\Psi^T(t)\\Phi(t))=\\det(\\Psi^T(t))\\det(\\Phi(t))\\neq 0$$\n",
    "所以存在非奇异的常数矩阵$C$，使$\\Psi^T(t)\\Phi(t)=C$"
   ]
  },
  {
   "cell_type": "markdown",
   "metadata": {},
   "source": [
    "充分性：设存在非奇异的常数矩阵$C$，使$\\Psi^T(t)\\Phi(t)=C$\n",
    "则$$[\\Psi^T(t)\\Phi(t)]'=[\\Psi^T(t)]'\\Phi(t)+\\Psi^T(t)\\Phi'(t)=[\\Psi^T(t)]'\\Phi(t)+\\Psi^T(t)A(t)\\Phi(t)=O$$\n",
    "因为$\\Phi(t)$均为基解矩阵，所以$\\Phi^{-1}(t)$存在\n",
    "则$$[\\Psi^T(t)]'\\Phi(t)\\Phi^{-1}(t)+\\Psi^T(t)A(t)\\Phi(t)\\Phi^{-1}(t)=O$$\n",
    "即$$[\\Psi^T(t)]'+\\Psi^T(t)A(t)=O$$\n",
    "即$$\\Psi'(t)=-A^T(t)\\Psi(t)$$\n",
    "又因为$C$非奇异，所以\n",
    "$$\\det(C)=\\det(\\Psi^T(t)\\Phi(t))=\\det(\\Psi^T(t))\\det(\\Phi(t))\\neq 0$$\n",
    "所以$$\\det(\\Psi^T(t))=\\det(\\Psi(t))\\neq 0$$\n",
    "即$\\Psi(t)$为方程$y'=-A^T(t)y$的基解矩阵"
   ]
  },
  {
   "cell_type": "markdown",
   "metadata": {
    "collapsed": true
   },
   "source": [
    "$B^+$"
   ]
  }
 ],
 "metadata": {
  "kernelspec": {
   "display_name": "SageMath 7.3",
   "language": "",
   "name": "sagemath"
  },
  "language_info": {
   "codemirror_mode": {
    "name": "ipython",
    "version": 2
   },
   "file_extension": ".py",
   "mimetype": "text/x-python",
   "name": "python",
   "nbconvert_exporter": "python",
   "pygments_lexer": "ipython2",
   "version": "2.7.10"
  }
 },
 "nbformat": 4,
 "nbformat_minor": 0
}
