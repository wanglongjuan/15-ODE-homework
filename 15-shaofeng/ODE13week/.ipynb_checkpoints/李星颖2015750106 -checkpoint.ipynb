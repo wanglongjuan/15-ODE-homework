{
 "cells": [
  {
   "cell_type": "markdown",
   "metadata": {},
   "source": [
    "# 姓名：李星颖\n",
    "# 学号：2015750106"
   ]
  },
  {
   "cell_type": "markdown",
   "metadata": {},
   "source": [
    "# $$作业（11月21日）$$"
   ]
  },
  {
   "cell_type": "markdown",
   "metadata": {},
   "source": [
    "## 习题5.2"
   ]
  },
  {
   "cell_type": "markdown",
   "metadata": {},
   "source": [
    "## 一.考虑方程组$$\\textbf{x'}=\\textbf{A}(t)\\textbf{x} $$其中$\\textbf{A}(t)$是区间$a\\leq t \\leq b$上的连续$n\\times n$矩阵，它的元为$a_{ij}(t)(i,j=1,2,\\dots,n).$"
   ]
  },
  {
   "cell_type": "markdown",
   "metadata": {},
   "source": [
    "### (1)如果$\\textbf{x}_1(t)\\textbf{x}_2(t),\\cdots,\\textbf{x}_n(t)$是该方程的任意$n$个解，那么它们的$wronsky$行列式$W[\\textbf{x}_1(t)\\textbf{x}_2(t),\\cdots,\\textbf{x}_n(t)]\\equiv W(t)$满足下面的一阶线性微分方程$$W'=[a_{11}(t)+a_{22}(t)+\\cdots+a_{nn}(t)]W;$$"
   ]
  },
  {
   "cell_type": "markdown",
   "metadata": {},
   "source": [
    "**解**：\n",
    "\n",
    "对$wronsky$行列试求导$\\implies W'(t)=\\sum_{i=1}^{n}\\begin{vmatrix}x_{11}(t)&\\cdots &x_{1n}(t)\\\\\\vdots &\\ddots &\\vdots \\\\x'_{i1}(t)&\\cdots &x'_{in}(t)\\\\\\vdots &\\ddots &\\vdots\\\\x_{n1}(t)&\\cdots & x_{nn}(t)\\end{vmatrix}$\n",
    "\n",
    "由$\\textbf{x'}=\\textbf{A}(t)\\textbf{x} \\implies x'_{ij}=a_{i1}(t)x_{1j}(t)+\\cdots+a_{ij}(t)x_{ij}(t)+\\cdots+a_{in}(t)x_{nj}(t)$\n",
    "\n",
    "(进行行列式的初等行变换)\n",
    "\n",
    "$\\implies \\begin{vmatrix}x_{11}(t)&\\cdots &x_{1n}(t)\\\\\\vdots &\\ddots &\\vdots \\\\x'_{i1}(t)&\\cdots &x'_{in}(t)\\\\\\vdots &\\ddots &\\vdots\\\\x_{n1}(t)&\\cdots & x_{nn}(t)\\end{vmatrix}=\\begin{vmatrix}x_{11}(t)&\\cdots &x_{1n}(t)\\\\\\vdots &\\ddots &\\vdots \\\\a_{ii}(t)x_{i1}(t)&\\cdots &a_{ii}(t)x_{in}(t)\\\\\\vdots &\\ddots &\\vdots\\\\x_{n1}(t)&\\cdots & x_{nn}(t)\\end{vmatrix}=a_{ii}(t)W $$\\implies W'(t)=(\\sum_{i=1}^{n}a_{ii}(t))W(t)$"
   ]
  },
  {
   "cell_type": "markdown",
   "metadata": {},
   "source": [
    "### (2):解上面的一阶线性微分方程，证明下面的公式:$$W(t)=W(t_0)e^{\\int_{t_0}^{t}(\\sum_{i=1}^{n}a_{ii}(s))ds},t_0,t\\in [a,b].$$"
   ]
  },
  {
   "cell_type": "markdown",
   "metadata": {},
   "source": [
    "**解**：\n",
    "\n",
    "由(1)可知，有$W'(t)=(\\sum_{i=1}^{n}a_{ii}(t))W(t)$：\n",
    "\n",
    "如果$\\textbf{x}_1(t)\\textbf{x}_2(t),\\cdots,\\textbf{x}_n(t)$不是基本解组，则$W(t)\\equiv 0$,所以$W(t)=W(t_0)e^{\\int_{t_0}^{t}(\\sum_{i=1}^{n}a_{ii}(s))ds},t_0,t\\in [a,b]$显然成立。\n",
    "\n",
    "如果$\\textbf{x}_1(t)\\textbf{x}_2(t),\\cdots,\\textbf{x}_n(t)$是基本解组，则$W(t)\\neq 0 \\implies $$\\frac{\\mathrm{dW}}{W}=(\\sum_{i=1}^{n}a_{ii}(t))\\mathrm{dt}\\implies \\int_{t_0}^{t}\\frac{1}{W}\\mathrm{dW}=\\int_{t_0}^{t}(\\sum_{i=1}^{n}a_{ii}(t))\\mathrm{dt}=\\ln{\\frac{W(t)}{W(t_0)}}\\implies W(t)=W(t_0)e^{\\int_{t_0}^{t}(\\sum_{i=1}^{n}a_{ii}(t))\\mathrm{dt}}$\n",
    "\n",
    "综上$W(t)=W(t_0)e^{\\int_{t_0}^{t}(\\sum_{i=1}^{n}a_{ii}(s))ds},t_0,t\\in [a,b].$成立。"
   ]
  },
  {
   "cell_type": "markdown",
   "metadata": {
    "collapsed": true
   },
   "source": [
    "## 二.设$A(t)$为$t \\in[a,b]$上的连续$n\\times n$实矩阵，$\\Phi(t)$为方程$x^{\\prime}=A(t)x$的基解矩阵，而$x=\\phi(t)$为其一解。试证："
   ]
  },
  {
   "cell_type": "markdown",
   "metadata": {},
   "source": [
    "### (1):对于方程$y^{\\prime}=-{A(t)}^{T}y$的任一解$y=\\psi(t)$必有${\\psi(t)}^{T}\\phi(t)=常数$；"
   ]
  },
  {
   "cell_type": "markdown",
   "metadata": {},
   "source": [
    "**解**：$${\\psi(t)}^{\\prime}=-{A(t)}^{T}\\psi(t),{\\phi(t)}^{\\prime}=A(t)\\phi(t)$$\n",
    "有$ {\\psi(t)^{\\prime}}^{T}=-{\\psi(t)}^{T}A(t) \\implies {\\psi(t)^{T}}^{\\prime}\\phi(t)=-{\\psi(t)}^{T}{\\phi(t)}^{T} \\implies （{\\psi(t)}^{T}\\phi(t)）^{\\prime}=0 \\implies {\\psi(t)}^{T}\\phi(t)=$常数。"
   ]
  },
  {
   "cell_type": "markdown",
   "metadata": {},
   "source": [
    "### (2):$\\Psi(t)$为方程$y^{\\prime}=-{A(t)}^{T}y$的基解矩阵的充要条件是存在非奇异的常数矩阵$C$，使得${\\Psi(t)}^{T}\\Phi(t)=C$。"
   ]
  },
  {
   "cell_type": "markdown",
   "metadata": {},
   "source": [
    "**解**：\n",
    "\n",
    "必要性：\n",
    "$\\Psi(t)=(\\Psi_1(t),\\cdots,\\Psi_n(t))$,$\\Phi(t)=(\\Phi_1(t),\\cdots,\\Phi_n(t))$\n",
    "\n",
    "$\n",
    "{\\Psi(t)}^{T}\\Phi(t)=\\begin{pmatrix}\\Psi_1(t)^T\\\\\\vdots\\\\\\Psi_n(t)^T\\end{pmatrix}(\\Phi_1(t),\\cdots,\\Phi_n(t))\n",
    "$\n",
    "\n",
    "又由第一问可知：${\\psi_i(t)}^{T}\\phi_j(t)=c_{ij}$\n",
    "\n",
    "$ {\\Psi(t)}^{T}\\Phi(t)=\\begin{pmatrix}{\\psi_1(t)}^{T}\\phi_1(t)&\\cdots &{\\psi_1(t)}^{T}\\phi_n(t)\\\\\\vdots &\\ddots &\\vdots \\\\{\\psi_i(t)}^{T}\\phi_1(t)&\\cdots &{\\psi_i(t)}^{T}\\phi_n(t)\\\\\\vdots &\\ddots &\\vdots\\\\{\\psi_n(t)}^{T}\\phi_1(t)&\\cdots & {\\psi_n(t)}^{T}\\phi_n(t)\\end{pmatrix}=\\begin{pmatrix}c_{11}&\\cdots &c_{1n}\\\\\\vdots &\\ddots &\\vdots \\\\c_{i1}&\\cdots &c_{in}\\\\\\vdots &\\ddots &\\vdots\\\\c_{n1}&\\cdots & c_{nn}\\end{pmatrix}=C$\n",
    "\n",
    "\n",
    "由于$\\Psi(t),\\Phi(t)$都是基解矩阵，所以一定有$C$是非奇异的。\n",
    "\n",
    "充分性：若有非奇异常数矩阵$C$，使得${\\Psi(t)}^{t}\\Phi(t)=C$，由于$\\Phi(t)$为基解矩阵，故而存在逆矩阵，所以有${\\Psi(t)}^{t}=C{\\Phi(t)}^{-1}$,$\\implies det({\\Psi(t)})=det(C)det({\\Phi(t)}^{-1})\\neq0 \\implies y^{\\prime}=-{A(t)}^{T}y$的基解矩阵。"
   ]
  },
  {
   "cell_type": "markdown",
   "metadata": {},
   "source": [
    "$A^+$"
   ]
  },
  {
   "cell_type": "code",
   "execution_count": null,
   "metadata": {
    "collapsed": true
   },
   "outputs": [],
   "source": []
  }
 ],
 "metadata": {
  "kernelspec": {
   "display_name": "SageMath 7.3",
   "language": "",
   "name": "sagemath"
  },
  "language_info": {
   "codemirror_mode": {
    "name": "ipython",
    "version": 2
   },
   "file_extension": ".py",
   "mimetype": "text/x-python",
   "name": "python",
   "nbconvert_exporter": "python",
   "pygments_lexer": "ipython2",
   "version": "2.7.10"
  }
 },
 "nbformat": 4,
 "nbformat_minor": 0
}
