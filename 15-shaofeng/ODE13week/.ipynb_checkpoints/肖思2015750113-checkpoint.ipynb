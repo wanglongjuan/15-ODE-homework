{
 "cells": [
  {
   "cell_type": "markdown",
   "metadata": {},
   "source": [
    "# 1121\n"
   ]
  },
  {
   "cell_type": "markdown",
   "metadata": {},
   "source": [
    "**1.考虑方程组**\n",
    "\n",
    "$$ \\mathbf x' = \\mathbf A(t) \\mathbf x $$\n",
    "\n",
    "**其中 $ \\mathbf A(t) $ 是区间 $ a \\leq t \\leq b $上的连续函数 $ n \\times n $ 矩阵,它的元为 $ a_{ij}(t) (i,j=1,2,3, \\dots )$.**\n",
    "\n",
    "**(1) 如果 $ \\mathbf x_1(t) ,\\mathbf x_2(t) ,\\dots ,\\mathbf x_n(t) $ 是上述方程的任意 $ n $ 个解,那么它们的朗斯基行列式 $ W [x_1(t),x_2(t),\\dots ,x_n(t)] \\equiv  W (t) $ 满足下面的一阶线性微分方程**\n",
    "\n",
    "$$ W' = [a_{11} (t) + a_{22}(t) + \\dots + a_{nn} (t)] W $$\n",
    "\n",
    "**(提示:利用行列式的微分公式,求出 $ W' $ 的表达式)**\n",
    "\n",
    "**(2)解上面的一阶线性微分方程,证明下面的公式:**\n",
    "\n",
    "$$ W(t) = W(t_0)e^{\\int_{t_0}^t [a_{11}(s) + a_{22}(s) + \\dots + a_{nn}(s)] \\mathrm d s } $$"
   ]
  },
  {
   "cell_type": "markdown",
   "metadata": {},
   "source": [
    "**解:** (1)\n",
    "$$ \\mathbf W(t) =\n",
    "\\begin{vmatrix} \n",
    "x_{11}' & x_{12}' & \\dots & x_{1n}' \\\\\n",
    "x_{21} & x_{22} & \\dots & x_{2n} \\\\\n",
    "\\vdots & \\vdots &  & \\vdots \\\\\n",
    "x_{n1} & x_{n2} & \\dots & x_{nn}\n",
    "\\end{vmatrix}+\n",
    "\\begin{vmatrix} \n",
    "x_{11} & x_{12} & \\dots & x_{1n} \\\\\n",
    "x_{21}' & x_{22}' & \\dots & x_{2n}' \\\\\n",
    "\\vdots & \\vdots &  & \\vdots \\\\\n",
    "x_{n1} & x_{n2} & \\dots & x_{nn}\n",
    "\\end{vmatrix}\n",
    "+ \\dots +\n",
    "\\begin{vmatrix} \n",
    "x_{11} & x_{12} & \\dots & x_{1n} \\\\\n",
    "x_{21} & x_{22} & \\dots & x_{2n} \\\\\n",
    "\\vdots & \\vdots &  & \\vdots \\\\\n",
    "x_{n1}' & x_{n2}' & \\dots & x_{nn}'\n",
    "\\end{vmatrix}\n",
    "$$"
   ]
  },
  {
   "cell_type": "markdown",
   "metadata": {},
   "source": [
    "$$ =\\begin{vmatrix}\n",
    "a_{11} x_{11} + a_{12} x_{21} + \\dots + a_{1n} x_{n1} & a_{11} x_{12} + a_{12} x_{22} + \\dots + a_{1n} x_{n2} & \\dots & a_{11} x_{n1} + a_{12} x_{2n} + \\dots + a_{1n} x_{nn} \\\\\n",
    "x_{21} & x_{22} & \\dots & x_{2n} \\\\\n",
    "\\vdots & \\vdots &  & \\vdots \\\\\n",
    "x_{n1} & x_{n2} & \\dots & x_{nn}\n",
    "\\end{vmatrix}$$\n"
   ]
  },
  {
   "cell_type": "markdown",
   "metadata": {},
   "source": [
    "$$ +\\begin{vmatrix}\n",
    "x_{11} & x_{12} & \\dots & x_{1n} \\\\\n",
    "a_{21} x_{11} + a_{22} x_{21} + \\dots + a_{2n} x_{n1} & a_{21} x_{12} + a_{22} x_{22} + \\dots + a_{2n} x_{n2} & \\dots & a_{21} x_{n1} + a_{22} x_{2n} + \\dots + a_{2n} x_{nn} \\\\\n",
    "\\vdots & \\vdots &  & \\vdots \\\\\n",
    "x_{n1} & x_{n2} & \\dots & x_{nn}\n",
    "\\end{vmatrix} + \\dots + $$\n"
   ]
  },
  {
   "cell_type": "markdown",
   "metadata": {},
   "source": [
    "$$ +\\begin{vmatrix}\n",
    "x_{11} & x_{12} & \\dots & x_{1n} \\\\\n",
    "x_{21} & x_{22} & \\dots & x_{2n} \\\\\n",
    "\\vdots & \\vdots &  & \\vdots \\\\\n",
    "a_{n1} x_{11} + a_{n2} x_{21} + \\dots + a_{nn} x_{n1} & a_{n1} x_{12} + a_{n2} x_{22} + \\dots + a_{nn} x_{n2} & \\dots & a_{n1} x_{n1} + a_{n2} x_{2n} + \\dots + a_{nn} x_{nn} \n",
    "\\end{vmatrix} $$"
   ]
  },
  {
   "cell_type": "markdown",
   "metadata": {},
   "source": [
    "$$ = \\begin{vmatrix}\n",
    "a_{11}x_{11} & a_{11}x_{12} & \\dots & a_{11}x_{1n}\\\\\n",
    "x_{21} & x_{22} & \\dots & x_{2n}\\\\\n",
    "\\vdots & \\vdots &  & \\vdots\\\\\n",
    "x_{n1} & x_{n2} & \\dots & x_{nn}\n",
    "\\end{vmatrix}+\n",
    "\\begin{vmatrix}\n",
    "x_{11} & x_{12} & \\dots & x_{1n}\\\\\n",
    "a_{22}x_{21} & a_{22}x_{22} & \\dots & a_{22}x_{2n}\\\\\n",
    "\\vdots & \\vdots & & \\vdots\\\\\n",
    "x_{n1} & x_{n2} & \\dots & x_{nn}\n",
    "\\end{vmatrix}\n",
    "+\\dots+\n",
    "\\begin{vmatrix}\n",
    "x_{11} & x_{12} & \\dots & x_{1n}\\\\\n",
    "x_{21} & x_{22} & \\dots & x_{2n}\\\\\n",
    "\\vdots & \\vdots & & \\vdots \\\\\n",
    "a_{nn}x_{n1} & a_{nn}x_{n2} & \\dots & a_{nn}x_{nn}\n",
    "\\end{vmatrix}\n",
    "=\n",
    "(a_{11}+a_{22}+\\dots+a_{nn})\n",
    "\\begin{vmatrix}\n",
    "x_{11} & x_{12} & \\dots & x_{1n}\\\\\n",
    "x_{21} & x_{22} & \\dots & x_{2n}\\\\\n",
    "\\vdots & \\vdots &  & \\vdots\\\\\n",
    "x_{n1} & x_{n2} & \\dots & x_{nn}\n",
    "\\end{vmatrix}\n",
    "=\n",
    "(a_{11}+a_{22}+\\dots+a_{nn})W(t)\n",
    "$$\n"
   ]
  },
  {
   "cell_type": "markdown",
   "metadata": {},
   "source": [
    "(2)\n",
    "由（1）得$$ \\mathbf W^\\prime=[a_{11}(t)+a_{22}(t)+\\dots+a_{nn}(t)] \\mathbf W $$\n",
    "\n",
    "所以\n",
    "$$\n",
    "\\begin{aligned}\n",
    "\\frac{\\mathrm d \\mathbf W(t)}{\\mathbf W(t)}&=[a_{11}(t)+a_{22}(t)+\\dots+a_{nn}(t)]\\mathrm d t\\\\\\ln|\\mathbf  W(t)|&=\\int_{t_0}^t [a_{11}(s)+a_{22}(s)+\\dots+a_{nn}(s)]\\mathrm d s+\\tilde c\\\\\\mathbf W(t)&=ce^{\\int_{t_0}^t [a_{11}(s)+a_{22}(s)+\\dots+a_{nn}(s)]\\mathrm d s}\n",
    "\\end{aligned}\n",
    "$$\n",
    "\n",
    "又因为$t=t_0$时，$\\mathbf W(t)=\\mathbf W(t_0)=c$\n",
    "\n",
    "所以$$\\mathbf W(t)=\\mathbf W(t_0)e^{\\int_{t_0}^t [a_{11}(s)+a_{22}(s)+\\dots+a_{nn}(s)]\\mathrm d s},t_0,t∈[a,b]$$"
   ]
  },
  {
   "cell_type": "markdown",
   "metadata": {},
   "source": [
    "**3.设$ \\mathbf A(t) $ 为区间 $ a \\leq t \\leq b $上的连续 $ n \\times n $实矩阵,$ \\mathbf \\Phi (t) $ 为方程 $\\mathbf x' = \\mathbf A(t) \\mathbf x $的基解矩阵,而 $ \\mathbf x = \\mathbf \\phi (t) $ 为其一解.试证:**\n",
    "\n",
    "**(1)对于方程 $ \\mathbf y' = - \\mathbf A^T(t)\\mathbf y $的任一解 $ \\mathbf y = \\mathbf \\psi(t) $ 必有 $ \\mathbf \\psi^T(t) \\mathbf \\phi (t) = $常数.**\n",
    "\n",
    "**(2)$\\mathbf \\Psi (t)$为方程 $ \\mathbf y' = - \\mathbf A^T(t) \\mathbf y $的基解矩阵的充要条件是存在非奇异的常数矩阵$ \\mathbf C $ ,使得$ \\mathbf \\Psi^T (t) \\mathbf \\Phi (t) = \\mathbf C $.** "
   ]
  },
  {
   "cell_type": "markdown",
   "metadata": {},
   "source": [
    "**解:** (1)$ \\because $ $$ (y^T)^\\prime=(y^\\prime)^T=[-A^T(t)y]^T=-y^T[A^T(t)]^T=-y^TA(t)$$\n",
    "\n",
    "$ \\therefore $ $$(\\psi^T(t))^\\prime=-\\psi^T(t)A(t)$$\n",
    "\n",
    "又$$\\varphi^\\prime(t)=A(t)\\varphi(t)$$\n",
    "\n",
    "$ \\therefore $\n",
    "$$\n",
    "\\begin{aligned}\n",
    "\\frac{\\mathrm d}{\\mathrm d t}[\\psi^T(t)\\varphi(t)]&=\n",
    "\\psi^T(t)\\varphi^\\prime(t)+[\\psi^T(t)]^\\prime\\varphi(t)\\\\&=\n",
    "\\psi^T(t)A(t)\\varphi(t)-\\psi^T(t)A(t)\\varphi(t)\\\\&=0\n",
    "\\end{aligned}\n",
    "$$\n",
    "\n",
    "$ \\therefore $\n",
    "$$\\psi^T(t)\\varphi(t)=c(c为常数）$$\n",
    "\n"
   ]
  },
  {
   "cell_type": "markdown",
   "metadata": {
    "collapsed": true
   },
   "source": [
    "(2)\n",
    "[1]充分性：\n",
    "\n",
    "$ \\because $ 存在非奇异的常数矩阵C,$ s.t.$ $\\psi^T(t)\\phi(t)=C(a≤t≤b)$，所以\n",
    "\n",
    "$$\\frac{\\mathrm d}{\\mathrm d t}[\\psi^T(t)\\phi(t)]=\\psi^T(t)\\phi^\\prime(t)+[\\psi^T(t)]^\\prime\\phi(t)=0$$\n",
    "\n",
    "$ \\therefore \\phi(t)$为方程$x^\\prime=A(t)x$的基解矩阵\n",
    "\n",
    "$\\therefore\\det \\phi(t)≠0$,$ \\therefore $ 逆矩阵$\\phi^{-1}(t)$存在\n",
    "\n",
    "等式两边乘以$\\phi^{-1}(t)$,得$$\\psi^T(t)A(t)+[\\psi^T(t)]^\\prime=0$$\n",
    "\n",
    "$ \\therefore $\n",
    "$$\\psi^\\prime(t)=-A^T(t)\\psi(t)$$\n",
    "\n",
    "根据\n",
    "$$\n",
    "\\begin{aligned}\n",
    "\\det \\psi(t)&=\\det \\psi^T(t)\\\\&=\\det [C\\phi^{-1}(t)]\\\\&=\\det C\\det [\\phi^{-1}(t)]\\\\&≠0\n",
    "\\end{aligned}\n",
    "$$\n",
    "\n",
    "$\\therefore \\psi(t)$为方程$y^\\prime=-A^T(t)y$的基解矩阵\n"
   ]
  },
  {
   "cell_type": "markdown",
   "metadata": {},
   "source": [
    "[2]必要性：\n",
    "\n",
    "若$\\psi(t)$为方程$y^\\prime=-A^T(t)y$的基解矩阵\n",
    "\n",
    "则$\\psi^\\prime(t)=-A^T(t)\\psi(t)$\n",
    "\n",
    "$\\therefore $\n",
    "$$\\frac{\\mathrm d}{\\mathrm d t}[\\psi^T(t)\\phi(t)]=\\psi^T(t)\\phi^\\prime(t)+[\\psi^T(t)]^\\prime\\phi(t)=0$$\n",
    "\n",
    "从而$$\\psi^T(t)\\phi(t)=C(a≤t≤b,C为某常数矩阵)$$\n",
    "\n",
    "根据$\\psi（t）,\\phi(t)$均为基解矩阵\n",
    "\n",
    "$\\therefore$\n",
    "$$\\det C=\\det [\\psi^T(t)\\phi(t)]=\\det[\\psi^T(t)]\\det \\phi(t)≠0$$\n",
    "\n",
    "$\\therefore $矩阵C是非奇异的\n",
    "\n",
    "存在非奇异的常数矩阵C,使得$\\psi^T(t)\\phi(t)=C(a≤t≤b)$\n",
    "\n"
   ]
  },
  {
   "cell_type": "markdown",
   "metadata": {
    "collapsed": true
   },
   "source": [
    "$A$"
   ]
  },
  {
   "cell_type": "code",
   "execution_count": null,
   "metadata": {
    "collapsed": true
   },
   "outputs": [],
   "source": []
  }
 ],
 "metadata": {
  "kernelspec": {
   "display_name": "SageMath 7.3",
   "language": "",
   "name": "sagemath"
  },
  "language_info": {
   "codemirror_mode": {
    "name": "ipython",
    "version": 2
   },
   "file_extension": ".py",
   "mimetype": "text/x-python",
   "name": "python",
   "nbconvert_exporter": "python",
   "pygments_lexer": "ipython2",
   "version": "2.7.10"
  }
 },
 "nbformat": 4,
 "nbformat_minor": 0
}
