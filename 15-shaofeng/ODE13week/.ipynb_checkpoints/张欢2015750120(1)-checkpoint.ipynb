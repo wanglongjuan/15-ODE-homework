{
 "cells": [
  {
   "cell_type": "markdown",
   "metadata": {},
   "source": [
    "# 姓名：张欢\n",
    "# 学号：2015750120"
   ]
  },
  {
   "cell_type": "markdown",
   "metadata": {},
   "source": [
    "# $$作业（1)$$"
   ]
  },
  {
   "cell_type": "markdown",
   "metadata": {},
   "source": [
    "# 1.考虑方程组$$x'=A(t)x,$$其中A(t)是区间 $a\\leq t\\leq b$上的连续 $n\\times n$ 矩阵，它的元为$a_{ij}(t)(i,j=1,2,\\cdots,n)$"
   ]
  },
  {
   "cell_type": "markdown",
   "metadata": {},
   "source": [
    "## (1)如果$x_1(t),x_2(t),\\cdots,x_n(t)$是 $x'=A(t)x$的任意n个解，那么它们的朗斯基行列式$$W[x_1(t),x_2(t),\\cdots,x_n(t)]  \\equiv W(t)$$  满足下面的一阶线性微分方程 $$W'=[a_{11}(t)+a_{22}(t)+\\cdots+a_{nn}(t)] W;$$"
   ]
  },
  {
   "cell_type": "markdown",
   "metadata": {},
   "source": [
    "## (2)解上面的一阶线性微分方程，证明下面的公式：$$W(t)=W(t_0)e^{\\int_{t_0}^t [a_{11}(s)+a_{22}(s)+\\cdots +a_{nn}(s)]{ds}}  ,  t_0,t \\in [a,b].$$"
   ]
  },
  {
   "cell_type": "markdown",
   "metadata": {},
   "source": [
    "解：（1）$x'=A(t)x$的任意n个解$x_1(t),x_2(t),\\cdots,x_n(t)$它们的朗斯基行列式\n",
    "$$W[x_1(t),x_2(t),\\cdots,x_n(t)] \\equiv W(t)=\n",
    "\\begin{vmatrix}\n",
    "x_{11}(t) & x_{12}(t) & \\cdots & x_{1n}(t)\\\\\n",
    "x_{21}(t) & x_{22}(t) & \\cdots & x_{2n}(t)\\\\\n",
    "   \\cdots  & \\cdots & \\cdots & \\cdots \\\\\n",
    "x_{n1}(t) & x_{n2}(t) & \\cdots & x_{nn}(t)\n",
    "\\end{vmatrix}$$"
   ]
  },
  {
   "cell_type": "markdown",
   "metadata": {},
   "source": [
    "$$W(t)'=\\begin{vmatrix}\n",
    "x'_{11}(t) & x'_{12}(t) & \\cdots & x'_{1n}(t)\\\\\n",
    "x_{21}(t) & x_{22}(t) & \\cdots & x_{2n}(t)\\\\\n",
    "\\cdots & \\cdots & \\cdots & \\cdots \\\\\n",
    "x_{n1}(t) & x_{n2}(t) & \\cdots & x_{nn}(t)\n",
    "\\end{vmatrix}\n",
    "+\n",
    "\\begin{vmatrix}\n",
    "x_{11}(t) & x_{12}(t) & \\cdots & x_{1n}(t)\\\\\n",
    "x'_{21}(t) & x'_{22}(t) & \\cdots & x'_{2n}(t)\\\\\n",
    "\\cdots & \\cdots & \\cdots & \\cdots \\\\\n",
    "x_{n1}(t) & x_{n2}(t) & \\cdots & x_{nn}(t)\n",
    "\\end{vmatrix}\n",
    "+\\cdots +\n",
    "\\begin{vmatrix}\n",
    "x_{11}(t) & x_{12}(t) & \\cdots & x_{1n}(t)\\\\\n",
    "x_{21}(t) & x_{22}(t) & \\cdots & x_{2n}(t)\\\\\n",
    "\\cdots    & \\cdots    & \\cdots & \\cdots \\\\\n",
    "x'_{n1}(t) & x'_{n2}(t) & \\cdots & x'_{nn}(t)\n",
    "\\end{vmatrix}$$"
   ]
  },
  {
   "cell_type": "markdown",
   "metadata": {},
   "source": [
    "$$=>W(t)'=\\begin{vmatrix}\n",
    "a_{11}x_{11}+a_{12}x_{21}+\\cdots+a_{1n}x_{n1} & a_{11}x_{12}+a_{12}x_{22}+\\cdots+a_{1n}x_{n2} & \\cdots & a_{11}x_{1n}+a_{12}x_{2n}+\\cdots+a_{1n}x_{nn}\\\\\n",
    "x_{21}(t) & x_{22}(t) & \\cdots & x_{2n}(t)\\\\\n",
    "\\cdots & \\cdots & \\cdots & \\cdots \\\\\n",
    "x_{n1}(t) & x_{n2}(t) & \\cdots & x_{nn}(t)\n",
    "\\end{vmatrix}\n",
    "+\n",
    "\\begin{vmatrix}\n",
    "x_{11}(t) & x_{12}(t) & \\cdots & x_{1n}(t)\\\\\n",
    "a_{21}x_{11}+a_{22}x_{21}+\\cdots+a_{2n}x_{n1} & a_{21}x_{12}+a_{22}x_{22}+\\cdots+a_{2n}x_{n2} & \\cdots & a_{21}x_{1n}+a_{22}x_{2n}+\\cdots+a_{2n}x_{nn}\\\\\n",
    "\\cdots & \\cdots & \\cdots & \\cdots \\\\\n",
    "x_{n1}(t) & x_{n2}(t) & \\cdots & x_{nn}(t)\n",
    "\\end{vmatrix}\n",
    "+\\cdots +\n",
    "\\begin{vmatrix}\n",
    "x_{11}(t) & x_{12}(t) & \\cdots & x_{1n}(t)\\\\\n",
    "x_{21}(t) & x_{22}(t) & \\cdots & x_{2n}(t)\\\\\n",
    "\\cdots    & \\cdots    & \\cdots & \\cdots \\\\\n",
    "a_{n1}x_{11}+a_{n2}x_{21}+\\cdots+a_{nn}x_{n1} & a_{n1}x_{12}+a_{n2}x_{22}+\\cdots+a_{nn}x_{n2} & \\cdots & a_{n1}x_{1n}+a_{n2}x_{2n}+\\cdots+a_{nn}x_{nn}\\\\\n",
    "\\end{vmatrix}$$"
   ]
  },
  {
   "cell_type": "markdown",
   "metadata": {},
   "source": [
    "$$=>W(t)'=\\begin{vmatrix}\n",
    "a_{11}x_{11} & a_{11}x_{12} & \\cdots & a_{11}x_{1n}\\\\\n",
    "x_{21}(t) & x_{22}(t) & \\cdots & x_{2n}(t)\\\\\n",
    "\\cdots & \\cdots & \\cdots & \\cdots \\\\\n",
    "x_{n1}(t) & x_{n2}(t) & \\cdots & x_{nn}(t)\n",
    "\\end{vmatrix}\n",
    "+\n",
    "\\begin{vmatrix}\n",
    "a_{12}x_{21} & a_{12}x_{22} & \\cdots &a_{12}x_{2n}\\\\\n",
    "x_{21}(t) & x_{22}(t) & \\cdots & x_{2n}(t)\\\\\n",
    "\\cdots & \\cdots & \\cdots & \\cdots \\\\\n",
    "x_{n1}(t) & x_{n2}(t) & \\cdots & x_{nn}(t)\n",
    "\\end{vmatrix}\n",
    "+\\cdots+\n",
    "\\begin{vmatrix}\n",
    "a_{1n}x_{n1} & a_{1n}x_{n2} & \\cdots & a_{1n}x_{nn}\\\\\n",
    "x_{21}(t) & x_{22}(t) & \\cdots & x_{2n}(t)\\\\\n",
    "\\cdots & \\cdots & \\cdots & \\cdots \\\\\n",
    "x_{n1}(t) & x_{n2}(t) & \\cdots & x_{nn}(t)\n",
    "\\end{vmatrix}\n",
    "+\\cdots+\n",
    "\\begin{vmatrix}\n",
    "x_{11}(t) & x_{12}(t) & \\cdots & x_{1n}(t)\\\\\n",
    "x_{21}(t) & x_{22}(t) & \\cdots & x_{2n}(t)\\\\\n",
    "\\cdots    & \\cdots    & \\cdots & \\cdots \\\\\n",
    "a_{n1}x_{11}& a_{n1}x_{12} & \\cdots & a_{n1}x_{1n}\\\\\n",
    "\\end{vmatrix}\n",
    "+\n",
    "\\begin{vmatrix}\n",
    "x_{11}(t) & x_{12}(t) & \\cdots & x_{1n}(t)\\\\\n",
    "x_{21}(t) & x_{22}(t) & \\cdots & x_{2n}(t)\\\\\n",
    "\\cdots    & \\cdots    & \\cdots & \\cdots \\\\\n",
    "a_{n2}x_{21} & a_{n2}x_{22}& \\cdots &a_{n2}x_{2n}\\\\\n",
    "\\end{vmatrix}\n",
    "+\\cdots+\n",
    "\\begin{vmatrix}\n",
    "x_{11}(t) & x_{12}(t) & \\cdots & x_{1n}(t)\\\\\n",
    "x_{21}(t) & x_{22}(t) & \\cdots & x_{2n}(t)\\\\\n",
    "\\cdots    & \\cdots    & \\cdots & \\cdots \\\\\n",
    "a_{nn}x_{n1} & a_{nn}x_{n2} & \\cdots &a_{nn}x_{nn}\\\\\n",
    "\\end{vmatrix}$$"
   ]
  },
  {
   "cell_type": "markdown",
   "metadata": {},
   "source": [
    "$$=>W(t)'=[a_{11}(t)+a_{22}(t)+\\cdots+a_{nn}(t)]\\begin{vmatrix}\n",
    "x_{11}(t) & x_{12}(t) & \\cdots & x_{1n}(t)\\\\\n",
    "x_{21}(t) & x_{22}(t) & \\cdots & x_{2n}(t)\\\\\n",
    "   \\cdots  & \\cdots & \\cdots & \\cdots \\\\\n",
    "x_{n1}(t) & x_{n2}(t) & \\cdots & x_{nn}(t)\n",
    "\\end{vmatrix}= [a_{11}(t)+a_{22}(t)+\\cdots+a_{nn}(t)]W(t);$$\n",
    "\n",
    "### 证毕"
   ]
  },
  {
   "cell_type": "markdown",
   "metadata": {},
   "source": [
    "解：(2)$$由于 W'=[a_{11}(t)+a_{22}(t)+\\cdots+a_{nn}(t)] W$$\n",
    "$$即:\\frac{dW(t)}{W(t)}=[a_{11}(t)+a_{22}(t)+\\cdots+a_{nn}(t)]dt$$\n",
    "$$等式两边从t_0到t积分：ln|W(t)|-ln|W(t_0)|=\\int_{t_0}^t [a_{11}(t)+a_{22}(t)+\\cdots +a_{nn}(t)]{d}t$$\n",
    "$$即为W(t)=W(t_0)e^{\\int_{t_0}^t [a_{11}(t)+a_{22}(t)+\\cdots +a_{nn}(t)]{dt}},t_0,t \\in [a,b]$$"
   ]
  },
  {
   "cell_type": "markdown",
   "metadata": {},
   "source": [
    "# 2.设$A(t)$为区间$a\\leq t \\leq b$上的连续$n\\times n$实矩阵，$\\Phi(t)$为方程$x'=A(t)x$的基解矩阵，而$x=\\varphi(x)$为其一解，试证："
   ]
  },
  {
   "cell_type": "markdown",
   "metadata": {},
   "source": [
    "## (1)对于方程$y'=-A(t)y$的任意一解$y=\\psi(t)$必有$\\psi^{T}(t)\\varphi(t)=$常数；"
   ]
  },
  {
   "cell_type": "markdown",
   "metadata": {},
   "source": [
    "## (2)$\\psi(t)$为方程$y'=-A^{T}(t)y$的基解矩阵的充要条件是存在非奇异的常数矩阵C，使得$\\psi^{T}(t)\\Phi(t)=C.$"
   ]
  },
  {
   "cell_type": "markdown",
   "metadata": {},
   "source": [
    "解：(1)$$已知 \\varphi'(t)=A(t) \\varphi'(t),\\psi(t)' =-A(t)\\psi(t) , 所以{\\psi^{T}}'(t)=-\\psi^{T}(t)A(t)$$\n",
    "$$[\\psi^{T}(t)\\varphi(t)]'={\\psi^{T}}'(t) \\varphi (t)+\\psi^{T} \\varphi'(t)$$\n",
    "\n",
    "$$ =>[\\psi^{T}(t)\\varphi(t)]'= {\\psi^{T}}'(t) \\varphi (t)+\\psi^{T}A(t) \\varphi(t)$$\n",
    "$$ =>[\\psi^{T}(t)\\varphi(t)]'=-\\psi^{T}(t)A(t) \\varphi (t)+\\psi^{T}A(t) \\varphi(t)=0$$\n",
    "$$因此必有\\psi^{T}(t)\\varphi(t)=常数$$"
   ]
  },
  {
   "cell_type": "markdown",
   "metadata": {},
   "source": [
    "解：(2) 充分性：$$若存在非奇异的常数矩阵C，使得$\\psi^{T}(t)\\Phi(t)=C.$$\n",
    "$$[\\psi^{T}(t)\\Phi(t)]'={\\psi^{T}}’(t)\\Phi(t)+\\psi^{T}(t)\\Phi'(t)=0$$\n",
    "$${\\psi^{T}}’(t)\\Phi(t)=-\\psi^{T}(t)\\Phi'(t)=-\\psi^{T}(t)A(t)\\Phi(t)$$\n",
    "$$整理得{\\psi^{T}}’(t)=-\\psi^{T}(t)A(t)$$\n",
    "$$即\\psi(t)为方程$y'=-A^{T}(t)y的基解矩阵.$$\n",
    "必要性： $$假设\\psi(t)$为方程$y'=-A^{T}(t)y的基解矩阵$$\n",
    "$$[\\psi^{T}(t)\\Phi(t)]'={\\psi^{T}}’(t)\\Phi(t)+\\psi^{T}(t)\\Phi'(t)$$\n",
    "$$=>[\\psi^{T}(t)\\Phi(t)]'=-\\psi^{T}(t)A^{T}(t)\\Phi(t)+\\psi^{T}(t)A^{T}(t)\\Phi(t)=0$$\n",
    "$$所以\\psi^{T}(t)\\Phi(t)=C.$$"
   ]
  },
  {
   "cell_type": "markdown",
   "metadata": {
    "collapsed": true
   },
   "source": [
    "$B^+$"
   ]
  },
  {
   "cell_type": "code",
   "execution_count": null,
   "metadata": {
    "collapsed": true
   },
   "outputs": [],
   "source": []
  }
 ],
 "metadata": {
  "kernelspec": {
   "display_name": "SageMath 7.3",
   "language": "",
   "name": "sagemath"
  },
  "language_info": {
   "codemirror_mode": {
    "name": "ipython",
    "version": 2
   },
   "file_extension": ".py",
   "mimetype": "text/x-python",
   "name": "python",
   "nbconvert_exporter": "python",
   "pygments_lexer": "ipython2",
   "version": "2.7.10"
  }
 },
 "nbformat": 4,
 "nbformat_minor": 0
}
