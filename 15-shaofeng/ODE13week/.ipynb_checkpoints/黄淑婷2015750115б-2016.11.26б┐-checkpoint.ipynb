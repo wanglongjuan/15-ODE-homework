{
 "cells": [
  {
   "cell_type": "markdown",
   "metadata": {},
   "source": [
    "# 常微分作业——15数学类韶峰班黄淑婷（2015750115）"
   ]
  },
  {
   "cell_type": "markdown",
   "metadata": {},
   "source": [
    "## 5.2"
   ]
  },
  {
   "cell_type": "markdown",
   "metadata": {},
   "source": [
    "**2.考虑方程组 $$x'=A(t)x,$$**\n",
    "\n",
    "**其中 $A(t)$ 是区间 $a\\leq t\\leq b$ 上的连续 $n\\times n$ 矩阵，它的元为 $a_{ij}(t)(i,j=1,2,3,\\dots ,n)$.**"
   ]
  },
  {
   "cell_type": "markdown",
   "metadata": {},
   "source": [
    "**(1) 如果 $x_1(t),x_2(t),\\dots,x_n(t)$ 是方程组的任意 $n$ 个解，那么它们的朗斯基行列式 $W[x_1(t),x_2(t),\\dots,x_n(t)]\\equiv W(t)$ 满足下面的一阶线性微分方程 $$W'=[a_{11}(t)+a_{22}(t)+\\dots +a_{nn}(t)]W;$$**\n",
    "\n",
    "**(提示：利用行列式的微分公式，求出 $W'$ 的表达式)**"
   ]
  },
  {
   "cell_type": "markdown",
   "metadata": {},
   "source": [
    "**解**\n",
    "\n",
    "用响亮的形式表示 $x_1(t),x_2(t),\\dots,x_n(t)$ ,并写出它们的朗斯基行列式为\n",
    "\n",
    "$$W(t)=\n",
    "\\left|\n",
    "\\begin{matrix}\n",
    "x_{11}(t)&x_{12}(t)&\\dots&x_{1n}(t)\\\\\n",
    "x_{21}(t)&x_{22}(t)&\\dots&x_{2n}(t)\\\\\n",
    "\\cdots&\\cdots&\\cdots&\\cdots\\\\\n",
    "x_{n1}(t)&x_{n2}(t)&\\dots&x_{nn}(t)\\\\\n",
    "\\end{matrix}\n",
    "\\right|$$"
   ]
  },
  {
   "cell_type": "markdown",
   "metadata": {},
   "source": [
    "对 $W(t)$ 求导得到\n",
    "\n",
    "$$\\frac{dW(t)}{dt}=\n",
    "\\frac{d}{dt}\n",
    "\\left| \n",
    "\\begin{matrix} \n",
    "x_{11}(t)&x_{12}(t)&\\dots&x_{1n}(t)\\\\ \n",
    "x_{21}(t)&x_{22}(t)&\\dots&x_{2n}(t)\\\\ \n",
    "\\cdots&\\cdots&\\cdots&\\cdots\\\\ \n",
    "x_{n1}(t)&x_{n2}(t)&\\dots&x_{nn}(t)\\\\ \n",
    "\\end{matrix} \n",
    "\\right|\\\\\n",
    "=\n",
    "\\left|\n",
    "\\begin{matrix}\n",
    "x_{11}'(t)&x_{12}'(t)&x_{13}'(t)&\\dots&x_{1n}'(t)\\\\\n",
    "x_{21}(t)&x_{22}(t)&x_{23}(t)&\\dots&x_{2n}(t)\\\\\n",
    "\\cdots&\\cdots&\\cdots&\\cdots&\\cdots\\\\\n",
    "x_{n1}(t)&x_{n2}(t)&x_{n3}(t)&\\dots&x_{nn}(t)\\\\\n",
    "\\end{matrix}\n",
    "\\right|\\\\\n",
    "+\n",
    "\\left|\n",
    "\\begin{matrix}\n",
    "x_{11}(t)&x_{12}(t)&x_{13}(t)&\\dots&x_{1n}(t)\\\\\n",
    "x_{21}'(t)&x_{22}'(t)&x_{23}'(t)&\\dots&x_{2n}'(t)\\\\\n",
    "\\cdots&\\cdots&\\cdots&\\cdots&\\cdots\\\\\n",
    "x_{n1}(t)&x_{n2}(t)&x_{n3}(t)&\\dots&x_{nn}(t)\\\\\n",
    "\\end{matrix}\n",
    "\\right|\\\\\n",
    "+\\dots +\n",
    "\\left|\n",
    "\\begin{matrix}\n",
    "x_{11}(t)&x_{12}(t)&x_{13}(t)&\\dots&x_{1n}(t)\\\\\n",
    "x_{21}(t)&x_{22}(t)&x_{23}(t)&\\dots&x_{2n}(t)\\\\\n",
    "\\cdots&\\cdots&\\cdots&\\cdots&\\cdots\\\\\n",
    "x_{n1}'(t)&x_{n2}'(t)&x_{n3}'(t)&\\dots&x_{nn}'(t)\\\\\n",
    "\\end{matrix}\n",
    "\\right|   \\quad\\quad\\quad\\quad ①$$"
   ]
  },
  {
   "cell_type": "markdown",
   "metadata": {},
   "source": [
    "由于 \n",
    "$$x_{11}'=a_{11}x_{11}+a_{12}x_{21}+\\dots +a_{1n}x_{n1},$$\n",
    "$$x_{12}'=a_{11}x_{12}+a_{12}x_{22}+\\dots +a_{1n}x_{n2},$$\n",
    "$$\\cdots\\cdots\\cdots\\cdots$$\n",
    "$$x_{1n}'=a_{11}x_{1n}+a_{12}x_{2n}+\\dots +a_{1n}x_{nn},$$"
   ]
  },
  {
   "cell_type": "markdown",
   "metadata": {},
   "source": [
    "所以，由行列式的性质有\n",
    "$$\\left|\n",
    "\\begin{matrix}\n",
    "x_{11}'(t)&x_{12}'(t)&x_{13}'(t)&\\cdots&x_{1n}'(t)\\\\\n",
    "x_{21}(t)&x_{22}(t)&x_{23}(t)&\\cdots&x_{2n}(t)\\\\\n",
    "\\cdots&\\cdots&\\cdots&\\cdots&\\cdots\\\\\n",
    "x_{n1}(t)&x_{n2}(t)&x_{n3}(t)&\\cdots&x_{nn}(t)\\\\\n",
    "\\end{matrix}\n",
    "\\right|\\\\\n",
    "=\n",
    "\\left|\n",
    "\\begin{matrix}\n",
    "a_{11}x_{11}(t)&a_{11}x_{12}(t)&a_{11}x_{13}(t)&\\dots&a_{11}x_{1n}(t)\\\\\n",
    "x_{21}(t)&x_{22}(t)&x_{23}(t)&\\dots\\&x_{2n}(t)\\\\\n",
    "\\cdots&\\cdots&\\cdots&\\cdots&\\cdots\\\\\n",
    "x_{n1}(t)&x_{n2}(t)&x_{n3}(t)&\\dots&x_{nn}(t)\\\\\n",
    "\\end{matrix}\n",
    "\\right|\\\\\n",
    "+\n",
    "\\left|\n",
    "\\begin{matrix}\n",
    "a_{12}x_{21}(t)&a_{12}x_{22}(t)&a_{12}x_{23}(t)&\\dots&a_{12}x_{2n}(t)\\\\\n",
    "x_{21}(t)&x_{22}(t)&x_{23}(t)&\\dots&x_{2n}(t)\\\\\n",
    "\\cdots&\\cdots&\\cdots&\\cdots&\\cdots\\\\\n",
    "x_{n1}(t)&x_{n2}(t)&x_{n3}(t)&\\dots&x_{nn}(t)\\\\\n",
    "\\end{matrix}\n",
    "\\right|\\\\\n",
    "+\\dots +\n",
    "\\left|\n",
    "\\begin{matrix}\n",
    "a_{1n}x_{n1}(t)&a_{1n}x_{n2}(t)&a_{n1}x_{n3}(t)&\\dots&a_{1n}x_{nn}(t)\\\\\n",
    "x_{21}(t)&x_{22}(t)&x_{23}(t)&\\dots&x_{2n}(t)\\\\\n",
    "\\cdots&\\cdots&\\cdots&\\cdots&\\cdots\\\\\n",
    "x_{n1}(t)&x_{n2}(t)&x_{n3}(t)&\\dots&x_{nn}(t)\\\\\n",
    "\\end{matrix}\n",
    "\\right|\n",
    "=a_{11}(t)W(t)$$"
   ]
  },
  {
   "cell_type": "markdown",
   "metadata": {},
   "source": [
    "同理，①式中右端第2个行列式等于 $a_{22}(t)W(t)$, 第3个行列式等于 $a_{33}(t)W(t)$, $\\cdots $ 第 $n$ 个行列式等于 $a_{nn}(t)W(t)$, 因此，得到\n",
    "$$\\frac{dW(t)}{dt}=W'(t)=[a_{11}(t)+a_{22}(t)+\\cdots+a_{nn}(t)]W(t)$$"
   ]
  },
  {
   "cell_type": "markdown",
   "metadata": {},
   "source": [
    "**(2) 解上面的一阶线性微分方程，证明下面的公式 $$W(t)=W(t_0)e^{\\int_{t_0}^t[a_{11}(s)+a_{22}(s)+\\dots+a_{nn}(s)]ds},t_0,t\\in [a,b].$$ **"
   ]
  },
  {
   "cell_type": "markdown",
   "metadata": {},
   "source": [
    "**解**\n",
    "\n",
    "对一阶线性微分方程变形为 $$\\frac{dW}{\\omega}=[a_n(t)+a_{22}(t)+\\dots+a_{nn}(t)]dt$$,\n",
    "\n",
    "对上式从 $t_0$ 到 $t$ 积分得到 \n",
    "$$ln|W(t)|-\\ln|W(t_0)|=\\int_{t_0}^t[a_{11}(s)+a_{22}(s)+\\dots+a_{nn}(s)]ds,$$\n",
    "\n",
    "两边再作用指数函数，得到\n",
    "$$W(t)=W(t_0)e^{\\int_{t_0}^t[a_{11}(s)+a_{22}(s)+\\dots+a_{nn}(s)]ds}$$"
   ]
  },
  {
   "cell_type": "markdown",
   "metadata": {},
   "source": [
    "**3.设 $A(t)$ 为区间 $a\\leq t\\leq b$ 上的连续 $n\\times n$ 实矩阵，$\\Phi(t)$ 为方程 $x'=A(t)x$ 的基解矩阵,而 $x=\\varphi(t)$ 为其一解.**"
   ]
  },
  {
   "cell_type": "markdown",
   "metadata": {},
   "source": [
    "**试证: (1).对于方程 $y'=-A^{T}(t)y$ 的任一解 $y=\\Psi(t)$ 必有 $\\Psi^{T}(t)\\varphi(t)=$ 常数**"
   ]
  },
  {
   "cell_type": "markdown",
   "metadata": {},
   "source": [
    "**解**\n",
    "\n",
    "由于 $\\varphi(t)$ 是方程 $x'=A(t)x$ 的解，于是有 \n",
    "$$\\varphi'(t)=\n",
    "\\left(\n",
    "\\begin{matrix}\n",
    "\\varphi_1'(t)\\\\\n",
    "\\varphi_2'(t)\\\\\n",
    "\\cdots\\\\\n",
    "\\varphi_n'(t)\\\\\n",
    "\\end{matrix}\n",
    "\\right)\n",
    "=\n",
    "\\left(\n",
    "\\begin{matrix}\n",
    "a_{11}&a_{12}&\\cdots&a_{1n}\\\\\n",
    "a_{21}&a_{22}&\\cdots&a_{2n}\\\\\n",
    "\\cdots&\\cdots&\\cdots&\\cdots \\\\\n",
    "a_{n1}&a_{n2}&\\cdots&a_{nn}\\\\\n",
    "\\end{matrix}\n",
    "\\right)\n",
    "\\left(\n",
    "\\begin{matrix}\n",
    "\\varphi_1(t)\\\\\n",
    "\\varphi_2(t)\\\\\n",
    "\\vdots\\\\\n",
    "\\varphi_n(t)\\\\\n",
    "\\end{matrix}\n",
    "\\right)\n",
    "=\n",
    "\\left(\n",
    "\\begin{matrix}\n",
    "\\displaystyle\\sum_{k=1}^{n}a_{1k}\\varphi_k\\\\\n",
    "\\displaystyle\\sum_{k=1}^{n}a_{2k}\\varphi_k\\\\\n",
    "\\vdots\\\\\n",
    "\\displaystyle\\sum_{k=1}^{n}a_{nk}\\varphi_k\\\\\n",
    "\\end{matrix}\n",
    "\\right)\n",
    "$$ "
   ]
  },
  {
   "cell_type": "markdown",
   "metadata": {},
   "source": [
    "同理，由于 $\\Psi(t)$ 是方程 $y'=-A^{T}y$ 的解，于是有\n",
    "$$\\Psi'(t)=\n",
    "\\left(\n",
    "\\begin{matrix}\n",
    "\\psi_1'(t)\\\\\n",
    "\\psi_2'(t)\\\\\n",
    "\\vdots\\\\\n",
    "\\psi_n'(t)\\\\\n",
    "\\end{matrix}\n",
    "\\right)\n",
    "=\n",
    "-\n",
    "\\left(\n",
    "\\begin{matrix}\n",
    "a_{11}&a_{12}&\\cdots&a_{1n}\\\\\n",
    "a_{21}&a_{22}&\\cdots&a_{2n}\\\\\n",
    "\\cdots&\\cdots&\\cdots&\\cdots \\\\\n",
    "a_{n1}&a_{n2}&\\cdots&a_{nn}\\\\\n",
    "\\end{matrix}\n",
    "\\right)\n",
    "\\left(\n",
    "\\begin{matrix}\n",
    "\\psi_1(t)\\\\\n",
    "\\psi_2(t)\\\\\n",
    "\\vdots\\\\\n",
    "\\psi_n(t)\\\\\n",
    "\\end{matrix}\n",
    "\\right)\n",
    "=\n",
    "-\n",
    "\\left(\n",
    "\\begin{matrix}\n",
    "\\displaystyle\\sum_{k=1}^{n}a_{k1}\\psi_k \\\\\n",
    "\\displaystyle\\sum_{k=1}^{n}a_{k2}\\psi_k \\\\\n",
    "\\vdots \\\\\n",
    "\\displaystyle\\sum_{k=1}^{n}a_{kn}\\psi_k\\\\\n",
    "\\end{matrix}\n",
    "\\right)$$"
   ]
  },
  {
   "cell_type": "markdown",
   "metadata": {},
   "source": [
    "而对 $\\Psi^T(t)\\varphi(t)$ 求导函数得\n",
    "$$\\frac{d(\\Psi^T(t)\\varphi(t))}{dt}=\\frac{d\\Psi^T(t)}{dt}\\varphi(t)+\\frac{d\\varphi(t)}{dt}\\Psi^T(t)\\\\\n",
    "=-\n",
    "\\left(\n",
    "\\begin{matrix}\n",
    "\\displaystyle\\sum_{k=1}^{n}a_{k1}\\psi_k &\n",
    "\\displaystyle\\sum_{k=1}^{n}a_{k2}\\psi_k &\n",
    "\\cdots &\n",
    "\\displaystyle\\sum_{k=1}^{n}a_{kn}\\psi_k\n",
    "\\end{matrix}\n",
    "\\right)\n",
    "\\left(\n",
    "\\begin{matrix}\n",
    "\\varphi_1(t)\\\\\n",
    "\\varphi_2(t)\\\\\n",
    "\\vdots\\\\\n",
    "\\varphi_n(t)\\\\\n",
    "\\end{matrix}\n",
    "\\right)\\\\\n",
    "+\n",
    "\\left(\n",
    "\\begin{matrix}\n",
    "\\psi_1(t) &\n",
    "\\psi_2(t) &\n",
    "\\cdots &\n",
    "\\psi_n(t) &\n",
    "\\end{matrix}\n",
    "\\right)\n",
    "\\left(\n",
    "\\begin{matrix}\n",
    "\\displaystyle\\sum_{k=1}^{n}a_{1k}\\varphi_k\\\\\n",
    "\\displaystyle\\sum_{k=1}^{n}a_{2k}\\varphi_k\\\\\n",
    "\\vdots\\\\\n",
    "\\displaystyle\\sum_{k=1}^{n}a_{nk}\\varphi_k\\\\\n",
    "\\end{matrix}\n",
    "\\right)\\\\\n",
    "=-[\\displaystyle\\sum_{k=1}^{n}a_{k1}\\psi_k\\varphi_1+\\displaystyle\\sum_{k=1}^{n}a_{k2}\\psi_k\\varphi_2+ \\cdots +\\displaystyle\\sum_{k=1}^{n}a_{kn}\\psi_k\\varphi_n]\\\\\n",
    "+[\\displaystyle\\sum_{k=1}^{n}a_{1k}\\psi_1\\varphi_k+\\displaystyle\\sum_{k=1}^{n}a_{2k}\\psi_2\\varphi_k+ \\cdots +\\displaystyle\\sum_{k=1}^{n}a_{nk}\\psi_n\\varphi_k]\\\\\n",
    "=-\\displaystyle\\sum_{k=1}^{n}\\displaystyle\\sum_{i=1}^{n}(a_{ki}\\psi_k\\varphi_i)+\\displaystyle\\sum_{k=1}^{n}\\displaystyle\\sum_{i=1}^{n}(a_{ik}\\psi_i\\varphi_k)\\\\\n",
    "=0\n",
    "$$\n",
    "\n",
    "所以 $\\Psi^T(t)\\varphi(t)=$ 常数."
   ]
  },
  {
   "cell_type": "markdown",
   "metadata": {},
   "source": [
    "**(2).$\\Psi(t)$ 为方程 $y'=-A^T(t)y$ 的基解矩阵的充要条件是存在非奇异的常数矩阵 $C$ ，使得 $\\Psi^T(t)\\Phi(t)=C$.**"
   ]
  },
  {
   "cell_type": "markdown",
   "metadata": {},
   "source": [
    "**解**\n",
    "\n",
    "先证充分性：\n",
    "\n",
    "假设存在非奇异的常数矩阵 $C$ ，使得 $\\Psi^T(t)\\Phi(t)=C$，由于 $\\Phi(t)$ 是方程 $x'=A(t)x$ 的基解矩阵，故 $\\Phi^{-1}(t)$ 存在，所以 $\\Psi^T(t)=C\\dot\\Psi^{-1}(t)$ ,并且 $det(\\Psi^T(t))=det(C\\dot\\Psi^{-1}(t))\\neq0$.\n",
    "\n",
    "因此，$\\Psi(t)$ 为方程 $y'=-A^T(t)y$ 的基解矩阵\n",
    "\n",
    "再证必要性\n",
    "\n",
    "假设$\\Psi(t)$ 为方程 $y'=-A^T(t)y$ 的基解矩阵，则 $\\Psi(t)$ 的每一个列向量 $\\psi_1(t),\\psi_2(t),\\cdots,\\psi_n(t)$ 与 $\\Phi(t)$ 的每一个列向量 $\\varphi_1(t),\\varphi_2(t),\\cdots,\\varphi_n(t)$ 满足 $\\psi_i^T(t)\\varphi_j(t)=$ 常数， $i,j=1,2,\\cdots,n.$ 这就是说 $\\Psi^T(t)\\Phi(t)$ 是常数矩阵，记为 $c$， 另外由于 $\\Psi(t),\\Phi(t)$ 分别是基解矩阵，得到 $det(\\Phi(t))\\neq0,det(\\Psi^T(t))\\neq0$, 这样 $detC=det(\\Phi(t))det(\\Psi^T(t))\\neq0$ ,从而 $C$ 是非奇异的。\n",
    "\n",
    "因此，存在非奇异的常数矩阵 $C$ ，使得 $\\Psi^T(t)\\Phi(t)=C$."
   ]
  },
  {
   "cell_type": "markdown",
   "metadata": {},
   "source": [
    "$A$"
   ]
  },
  {
   "cell_type": "code",
   "execution_count": null,
   "metadata": {
    "collapsed": true
   },
   "outputs": [],
   "source": []
  }
 ],
 "metadata": {
  "kernelspec": {
   "display_name": "SageMath 7.3",
   "language": "",
   "name": "sagemath"
  },
  "language_info": {
   "codemirror_mode": {
    "name": "ipython",
    "version": 2
   },
   "file_extension": ".py",
   "mimetype": "text/x-python",
   "name": "python",
   "nbconvert_exporter": "python",
   "pygments_lexer": "ipython2",
   "version": "2.7.10"
  }
 },
 "nbformat": 4,
 "nbformat_minor": 0
}
