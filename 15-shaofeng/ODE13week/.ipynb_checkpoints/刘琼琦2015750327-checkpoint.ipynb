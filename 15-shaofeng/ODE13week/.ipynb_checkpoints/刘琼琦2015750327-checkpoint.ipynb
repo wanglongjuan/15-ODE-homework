{
 "cells": [
  {
   "cell_type": "markdown",
   "metadata": {},
   "source": [
    "# 姓名：刘琼琦\n",
    "\n",
    "# 学号：2015750327"
   ]
  },
  {
   "cell_type": "markdown",
   "metadata": {},
   "source": [
    "## $$作业（11月21日）$$"
   ]
  },
  {
   "cell_type": "markdown",
   "metadata": {},
   "source": [
    "## 习题5.2"
   ]
  },
  {
   "cell_type": "markdown",
   "metadata": {},
   "source": [
    "## 2.考虑方程组（5.15）$$ x^\\prime=A(t)x$$\n",
    "\n",
    "## 其中$A(t)$是区间$a≤t≤b$上的连续$n×n$矩阵，它的元为$a_{ij}(t)(i,j=1,2,\\dots,n)$"
   ]
  },
  {
   "cell_type": "markdown",
   "metadata": {
    "collapsed": true
   },
   "source": [
    "## (1)如果$x_1(t),x_2(t),\\dots,x_n(t)$是（5.15）的任意n个解，那么它们的朗斯基行列式\n",
    "\n",
    "## $W[x_1(t),x_2(t),\\dots,x_n(t)]≡W(t)$满足下面的一阶线性微分常数\n",
    "## $$W^\\prime=[a_{11}(t)+a_{22}(t)+\\dots+a_{nn}(t)]W;$$\n",
    "## (提示：利用行列式的微分公式，求出$W^\\prime$的表达式.）"
   ]
  },
  {
   "cell_type": "markdown",
   "metadata": {},
   "source": [
    "## (2)解上面的一阶线性微分方程，证明下面的公式：\n",
    "## $$W(t)=W(t_0)e^{\\int_{t_0}^t [a_{11}(s)+a_{22}(s)+\\dots+a_{nn}(s)]\\mathrm d s},t_0,t∈[a,b].$$"
   ]
  },
  {
   "cell_type": "markdown",
   "metadata": {},
   "source": [
    "（1）**证:**\n",
    "\n",
    "令$x_i=[x_{1i},x_{2i},\\dots,x_{ni}]^T(i=1,2,\\dots,n)$,则\n",
    "\n",
    "$$\n",
    "\\mathbf W(t)=\n",
    "\\begin{vmatrix}\n",
    "x_{11} & x_{12} & \\dots & x_{1n}\\\\\n",
    "x_{21} & x_{22} & \\dots & x_{2n}\\\\\n",
    "\\vdots & \\vdots & \\ddots & \\vdots\\\\\n",
    "x_{n1} & x_{n2} & \\dots & x_{nn}\\\\\n",
    "\\end{vmatrix}\n",
    "$$\n",
    "\n",
    "因为$x^\\prime=A(t)x,A(t)的元为a_{ij}$\n",
    "\n",
    "所以$$x^\\prime_{ij}=\\displaystyle\\sum_{k=1}^na_{ik}x_{kj}(i,j=1,2,\\dots,n)$$\n",
    "\n",
    "又因为行列式的微分公式，所以\n"
   ]
  },
  {
   "cell_type": "markdown",
   "metadata": {},
   "source": [
    "$\n",
    "\\begin{aligned}\n",
    "\\mathbf W^\\prime(t)&=\\frac{\\mathrm d}{\\mathrm d t}\n",
    "\\begin{vmatrix}\n",
    "x_{11} & x_{12} & \\dots & x_{1n}\\\\\n",
    "x_{21} & x_{22} & \\dots & x_{2n}\\\\\n",
    "\\vdots & \\vdots & \\ddots & \\vdots\\\\\n",
    "x_{n1} & x_{n2} & \\dots & x_{nn}\\\\\n",
    "\\end{vmatrix}\\\\&=\n",
    "\\begin{vmatrix}\n",
    "x^\\prime_{11} & x^\\prime_{12} & \\dots & x^\\prime_{1n}\\\\\n",
    "x_{21} & x_{22} & \\dots & x_{2n}\\\\\n",
    "\\vdots & \\vdots & \\ddots & \\vdots\\\\\n",
    "x_{n1} & x_{n2} & \\dots & x_{nn}\\\\\n",
    "\\end{vmatrix}+\n",
    "\\begin{vmatrix}\n",
    "x_{11} & x_{12} & \\dots & x_{1n}\\\\\n",
    "x^\\prime_{21} & x^\\prime_{22} & \\dots & x^\\prime_{2n}\\\\\n",
    "\\vdots & \\vdots & \\ddots & \\vdots\\\\\n",
    "x_{n1} & x_{n2} & \\dots & x_{nn}\\\\\n",
    "\\end{vmatrix}+\\dots+\n",
    "\\begin{vmatrix}\n",
    "x_{11} & x_{12} & \\dots & x_{1n}\\\\\n",
    "x_{21} & x_{22} & \\dots & x_{2n}\\\\\n",
    "\\vdots & \\vdots & \\ddots & \\vdots\\\\\n",
    "x^\\prime_{n1} & x^\\prime_{n2} & \\dots & x^\\prime_{nn}\\\\\n",
    "\\end{vmatrix}\\\\&=\n",
    "\\begin{vmatrix}\n",
    "\\displaystyle\\sum_{k=1}^na_{1k}x_{k1} & \\displaystyle\\sum_{k=1}^na_{1k}x_{k2} & \\dots & \\displaystyle\\sum_{k=1}^na_{1k}x_{kn}\\\\\n",
    "x_{21} & x_{22} & \\dots & x_{2n}\\\\\n",
    "\\vdots & \\vdots & \\ddots & \\vdots\\\\\n",
    "x_{n1} & x_{n2} & \\dots & x_{nn}\\\\\n",
    "\\end{vmatrix}+\n",
    "\\begin{vmatrix}\n",
    "x_{11} & x_{12} & \\dots & x_{1n}\\\\\n",
    "\\displaystyle\\sum_{k=1}^n a_{2k}x_{k1} & \\displaystyle\\sum_{k=1}^n a_{2k}x_{k2} & \\dots & \\displaystyle\\sum_{k=1}^n a_{2k}x_{kn}\\\\\n",
    "\\vdots & \\vdots & \\ddots & \\vdots\\\\\n",
    "x_{n1} & x_{n2} & \\dots & x_{nn}\\\\\n",
    "\\end{vmatrix}+\\dots+\n",
    "\\begin{vmatrix}\n",
    "x_{11} & x_{12} & \\dots & x_{1n}\\\\\n",
    "x_{21} & x_{22} & \\dots & x_{2n}\\\\\n",
    "\\vdots & \\vdots & \\ddots & \\vdots\\\\\n",
    "\\displaystyle\\sum_{k=1}^n a_{nk}x_{k1} & \\displaystyle\\sum_{k=1}^na_{nk}x_{k2} & \\dots & \\displaystyle\\sum_{k=1}^na_{nk}x_{kn}\\\\\n",
    "\\end{vmatrix}\\\\&=\n",
    "\\begin{vmatrix}\n",
    "a_{11}x_{11} & a_{11}x_{12} & \\dots & a_{11}x_{1n}\\\\\n",
    "x_{21} & x_{22} & \\dots & x_{2n}\\\\\n",
    "\\vdots & \\vdots & \\ddots & \\vdots\\\\\n",
    "x_{n1} & x_{n2} & \\dots & x_{nn}\\\\\n",
    "\\end{vmatrix}+\n",
    "\\begin{vmatrix}\n",
    "x_{11} & x_{12} & \\dots & x_{1n}\\\\\n",
    "a_{22}x_{21} & a_{22}x_{22} & \\dots & a_{22}x_{2n}\\\\\n",
    "\\vdots & \\vdots & \\ddots & \\vdots\\\\\n",
    "x_{n1} & x_{n2} & \\dots & x_{nn}\\\\\n",
    "\\end{vmatrix}+\\dots+\n",
    "\\begin{vmatrix}\n",
    "x_{11} & x_{12} & \\dots & x_{1n}\\\\\n",
    "x_{21} & x_{22} & \\dots & x_{2n}\\\\\n",
    "\\vdots & \\vdots & \\ddots & \\vdots\\\\\n",
    "a_{nn}x_{n1} & a_{nn}x_{n2} & \\dots & a_{nn}x_{nn}\\\\\n",
    "\\end{vmatrix}\\\\&=\n",
    "(a_{11}+a_{22}+\\dots+a_{nn})\n",
    "\\begin{vmatrix}\n",
    "x_{11} & x_{12} & \\dots & x_{1n}\\\\\n",
    "x_{21} & x_{22} & \\dots & x_{2n}\\\\\n",
    "\\vdots & \\vdots & \\ddots & \\vdots\\\\\n",
    "x_{n1} & x_{n2} & \\dots & x_{nn}\\\\\n",
    "\\end{vmatrix}\\\\&=\n",
    "(a_{11}+a_{22}+\\dots+a_{nn})W(t)\n",
    "\\end{aligned}\n",
    "$\n"
   ]
  },
  {
   "cell_type": "markdown",
   "metadata": {},
   "source": [
    "\n",
    "\n",
    "（2）**证:**\n",
    "\n",
    "由（1）得$$W^\\prime=[a_{11}(t)+a_{22}(t)+\\dots+a_{nn}(t)]W$$\n",
    "\n",
    "所以\n",
    "$$\n",
    "\\begin{aligned}\n",
    "\\frac{\\mathrm d W(t)}{W(t)}&=[a_{11}(t)+a_{22}(t)+\\dots+a_{nn}(t)]\\mathrm d t\\\\\\ln|W(t)|&=\\int_{t_0}^t [a_{11}(s)+a_{22}(s)+\\dots+a_{nn}(s)]\\mathrm d s+\\tilde c\\\\W(t)&=ce^{\\int_{t_0}^t [a_{11}(s)+a_{22}(s)+\\dots+a_{nn}(s)]\\mathrm d s}\n",
    "\\end{aligned}\n",
    "$$\n",
    "\n",
    "又因为$t=t_0$时，$W(t)=W(t_0)=c$\n",
    "\n",
    "所以$$W(t)=W(t_0)e^{\\int_{t_0}^t [a_{11}(s)+a_{22}(s)+\\dots+a_{nn}(s)]\\mathrm d s},t_0,t∈[a,b]$$"
   ]
  },
  {
   "cell_type": "markdown",
   "metadata": {},
   "source": [
    "## 3.设$A(t)$为区间$a≤t≤b$上的连续$n×n$实矩阵，$\\phi(t)$为方程$x^\\prime=A(t)x$的基解矩阵，而$x=\\varphi(t)$为其一解，试证：\n",
    "## (1)对于方程$y^\\prime=-A^T(t)y$的任一解$y=\\psi(t)$必有$\\psi^T(t)\\varphi(t)=常数$;\n",
    "## (2)$\\psi(t)$为方程$y^\\prime=-A^T(t)y$的基准矩阵的充要条件是存在非奇异的常数矩阵C，使$\\psi^T(t)\\phi(t)=C$."
   ]
  },
  {
   "cell_type": "markdown",
   "metadata": {
    "collapsed": true
   },
   "source": [
    "**(1)证：**\n",
    "\n",
    "依题意$$(y^T)^\\prime=(y^\\prime)^T=[-A^T(t)y]^T=-y^T[A^T(t)]^T=-y^TA(t)$$\n",
    "\n",
    "所以$$(\\psi^T(t))^\\prime=-\\psi^T(t)A(t)$$\n",
    "\n",
    "又$$\\varphi^\\prime(t)=A(t)\\varphi(t)$$\n",
    "\n",
    "所以\n",
    "$$\n",
    "\\begin{aligned}\n",
    "\\frac{\\mathrm d}{\\mathrm d t}[\\psi^T(t)\\varphi(t)]&=\n",
    "\\psi^T(t)\\varphi^\\prime(t)+[\\psi^T(t)]^\\prime\\varphi(t)\\\\&=\n",
    "\\psi^T(t)A(t)\\varphi(t)-\\psi^T(t)A(t)\\varphi(t)\\\\&=0\n",
    "\\end{aligned}\n",
    "$$\n",
    "\n",
    "所以$$\\psi^T(t)\\varphi(t)=c(c为常数）$$证毕\n"
   ]
  },
  {
   "cell_type": "markdown",
   "metadata": {},
   "source": [
    "**(2)证：**\n",
    "\n",
    "1>充分性：\n",
    "\n",
    "因为存在非奇异的常数矩阵C,使得$\\psi^T(t)\\phi(t)=C(a≤t≤b)$，所以\n",
    "\n",
    "$$\\frac{\\mathrm d}{\\mathrm d t}[\\psi^T(t)\\phi(t)]=\\psi^T(t)\\phi^\\prime(t)+[\\psi^T(t)]^\\prime\\phi(t)=0$$\n",
    "\n",
    "因为$\\phi(t)$为方程$x^\\prime=A(t)x$的基解矩阵\n",
    "\n",
    "所以$\\det \\phi(t)≠0$,所以逆矩阵$\\phi^{-1}(t)$存在\n",
    "\n",
    "上个等式两边乘以$\\phi^{-1}(t)$,得$$\\psi^T(t)A(t)+[\\psi^T(t)]^\\prime=0$$\n",
    "\n",
    "因而$$\\psi^\\prime(t)=-A^T(t)\\psi(t)$$\n",
    "\n",
    "又根据\n",
    "$$\n",
    "\\begin{aligned}\n",
    "\\det \\psi(t)&=\\det \\psi^T(t)\\\\&=\\det [C\\phi^{-1}(t)]\\\\&=\\det C\\det [\\phi^{-1}(t)]\\\\&≠0\n",
    "\\end{aligned}\n",
    "$$\n",
    "\n",
    "所以$\\psi(t)$为方程$y^\\prime=-A^T(t)y$的基解矩阵\n"
   ]
  },
  {
   "cell_type": "markdown",
   "metadata": {},
   "source": [
    "2>必要性：\n",
    "\n",
    "若$\\psi(t)$为方程$y^\\prime=-A^T(t)y$的基解矩阵\n",
    "\n",
    "则$\\psi^\\prime(t)=-A^T(t)\\psi(t)$\n",
    "\n",
    "所以$$\\frac{\\mathrm d}{\\mathrm d t}[\\psi^T(t)\\phi(t)]=\\psi^T(t)\\phi^\\prime(t)+[\\psi^T(t)]^\\prime\\phi(t)=0$$\n",
    "\n",
    "从而$$\\psi^T(t)\\phi(t)=C(a≤t≤b,C为某常数矩阵)$$\n",
    "\n",
    "又根据$\\psi（t）,\\phi(t)$均为基解矩阵\n",
    "\n",
    "于是\n",
    "$$\\det C=\\det [\\psi^T(t)\\phi(t)]=\\det[\\psi^T(t)]\\det \\phi(t)≠0$$\n",
    "\n",
    "所以矩阵C是非奇异的\n",
    "\n",
    "存在非奇异的常数矩阵C,使得$\\psi^T(t)\\phi(t)=C(a≤t≤b)$\n",
    "\n",
    "证毕。"
   ]
  },
  {
   "cell_type": "markdown",
   "metadata": {},
   "source": [
    "$A^+$"
   ]
  }
 ],
 "metadata": {
  "kernelspec": {
   "display_name": "SageMath 7.3",
   "language": "",
   "name": "sagemath"
  },
  "language_info": {
   "codemirror_mode": {
    "name": "ipython",
    "version": 2
   },
   "file_extension": ".py",
   "mimetype": "text/x-python",
   "name": "python",
   "nbconvert_exporter": "python",
   "pygments_lexer": "ipython2",
   "version": "2.7.10"
  }
 },
 "nbformat": 4,
 "nbformat_minor": 0
}
