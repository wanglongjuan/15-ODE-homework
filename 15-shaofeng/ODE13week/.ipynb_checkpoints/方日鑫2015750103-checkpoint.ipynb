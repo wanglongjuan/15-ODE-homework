{
 "cells": [
  {
   "cell_type": "markdown",
   "metadata": {},
   "source": [
    "1.考虑方程组$$\\mathbf{x}'=\\mathbf{A}(t) \\mathbf{x}$$\n",
    "其中$\\mathbf{A}(t)$是区间$a\\leq t\\leq b$上的连续$n\\times n$矩阵，它的元为$a_{ij}(t) (i,j=1,2,\\cdots ,n)$"
   ]
  },
  {
   "cell_type": "markdown",
   "metadata": {},
   "source": [
    "(1)如果$\\mathbf{x}_1(t),\\mathbf{x}_2(t),\\dots,\\mathbf{x}_n(t)$是它的任意$n$个解,那么它们的朗斯基行列式$W[\\mathbf{x}_1(t),\\mathbf{x}_2(t),\\dots,\\mathbf{x}_n(t)]\\equiv W(t)$满足下面的一阶线性微分方程\n",
    "$$W'=[a_{11}(t)+a_{22}(t)+\\dots+a_{nn}(t)]W$$"
   ]
  },
  {
   "cell_type": "markdown",
   "metadata": {},
   "source": [
    "**证明**\n",
    "$$\n",
    "\\begin{align}\n",
    "W' &=\\sum( (-1)^{\\tau (i_1,i_2,\\dots,i_n)}x_{i_1,1}x_{i_2,2}\\dots x_{i_n,n})'\\\\\n",
    "&=\\sum\n",
    "\\begin{vmatrix}\n",
    "&x_{11} \\dots &x_{1j}' \\dots &x_{1n} \\\\\n",
    "&\\vdots  &\\vdots &\\vdots\\\\\n",
    "&x_{n1} \\dots &x_{nj}' \\dots &x_{nn}\n",
    "\\end{vmatrix}\\\\\n",
    "&=\\displaystyle\\sum_{j=1}^n \\displaystyle\\sum_{k=1}^n x_{kj}'W_{kj}\n",
    "=\\displaystyle\\sum_{j=1}^n \\displaystyle\\sum_{k=1}^n\\displaystyle\\sum_{m=1}^n a_{km}x_{mj}W_{kj}\\\\\n",
    "&=\\displaystyle\\sum_{j=1}^n \\displaystyle\\sum_{k=1}^n a_{kk}x_{kj}W_{kj}\n",
    "=\\displaystyle\\sum_{k=1}^n \\displaystyle\\sum_{j=1}^n a_{kk}x_{kj}W_{kj}\n",
    "=\\displaystyle\\sum_{k=1}^n a_{kk}W\n",
    "\\end{align}\n",
    "$$\n",
    "$W_{kj}表示x_{kj}(t)的代数余子式\\\\$\n",
    "\n",
    "**证毕**"
   ]
  },
  {
   "cell_type": "markdown",
   "metadata": {},
   "source": [
    "(2)解上面的一阶线性微分方程，证明下列的公式:\n",
    "$$W(t)=W(t_0)e^{\\int_{t_0}^t [a_{11}(s)+a_{22}(s)+\\dots+a_{nn}(s)] \\mathrm ds},t_0,t \\in [a,b]$$"
   ]
  },
  {
   "cell_type": "markdown",
   "metadata": {},
   "source": [
    "**证明**\n",
    "由于上面证得$$W'=tr(A(t))W$$用$tr(A)$简记$tr(A(t))$下面也是如此\n",
    "那么可得$$\\frac{\\mathrm dW}{\\mathrm dt}=tr(A)W \\\\ $$\n",
    "分离变量得$$\\frac{\\mathrm dW}{W}=tr(A)\\mathrm dt\\\\$$\n",
    "从$t_0到t$积分得$$\\ln{\\frac{W}{W_0}}=\\int_{t_0}^t tr(A) \\mathrm dt\\\\$$\n",
    "即$$W(t)=W(t_0)e^{\\int_{t_0}^t [a_{11}(s)+a_{22}(s)+\\dots+a_{nn}(s)] \\mathrm ds}$$"
   ]
  },
  {
   "cell_type": "markdown",
   "metadata": {},
   "source": [
    "2.设$\\mathbf{A}(t)$为区间$a \\leq t \\leq b$上的连续$n \\times n$实矩阵,$\\Phi(t)$为方程$\\mathbf{x}'=\\mathbf{A}(t)\\mathbf{x}$的基解矩阵，而$\\mathbf{x}=\\varphi (t)$为其一解。试证："
   ]
  },
  {
   "cell_type": "markdown",
   "metadata": {},
   "source": [
    "(1)对于方程$\\mathbf{y}'=-\\mathbf{A}^{T}(t)\\mathrm{y}$的任一解$\\mathbf{y}=\\psi (t)$必有$\\psi ^{T}(t)\\mathbf{\\varphi}(t)=$常数"
   ]
  },
  {
   "cell_type": "markdown",
   "metadata": {},
   "source": [
    "**证明**\n",
    "$$令f(t)=\\psi ^{T}(t)\\mathbf{\\varphi}(t)\\\\$$\n",
    "则$$f'(t)=(\\psi^{T}(t))'\\mathbf{\\varphi}(t)+\\psi ^{T}(t)\\mathbf{\\varphi}'(t)\n",
    "=-\\psi ^{T}(t)A(t)\\mathbf{\\varphi}(t)+\\psi ^{T}(t)\\mathbf{\\varphi}'(t)=-\\psi ^{T}(t)\\mathbf{\\varphi}'(t)+\\psi ^{T}(t)\\mathbf{\\varphi}'(t)=0$$\n",
    "所以$$f(t)=\\psi ^{T}(t)\\mathbf{\\varphi}(t)\\equiv C$$\n",
    "**证毕**"
   ]
  },
  {
   "cell_type": "markdown",
   "metadata": {},
   "source": [
    "(2)$\\Psi (t)$为方程$\\mathbf{y}'=-\\mathbf{A}^{T}(t)\\mathrm{y}$的基解矩阵的充要条件是存在非奇异的常数矩阵$C$,使得$\\Psi ^{T}(t)\\Phi(t)=C$"
   ]
  },
  {
   "cell_type": "markdown",
   "metadata": {},
   "source": [
    "**必要性**\n",
    "\n",
    "由于$\\Psi(t),\\Phi(t)$是基解矩阵因此非奇异，所以$\\Psi ^{T}(t)\\Phi(t)$也非奇异，由(1)所证可以轻易地得出$\\Psi ^{T}(t)\\Phi(t)$是常数矩阵\n",
    "\n",
    "**充分性**\n",
    "设存在非奇异常数矩阵$C$满足$\\Psi ^{T}(t)\\Phi(t)=C$\n",
    "\n",
    "则$\\Psi (t)$非奇异，列向量线性无关。下面验证它是方程$\\mathbf{y}'=-\\mathbf{A}^{T}(t)\\mathrm{y}$的解矩阵\n",
    "\n",
    "将列向量拿出\n",
    "$$\\Psi (t)=(\\psi _1(t),\\dots,\\psi_n(t))^{T},\\Phi (t)=(\\phi_1(t),\\dots,\\phi_n(t))\\\\\n",
    "\\forall i\\in[1,n] \\wedge i\\in N\\quad f(t)_{ij}=\\psi_i(t)\\phi_j(t) \\equiv C\\\\\n",
    "f_{ij}'(t)=(\\psi_{i}^{T}(t))'\\mathbf{\\varphi}_{j}(t)+\\psi_{i}^{T}(t)\\mathbf{\\varphi}_{j}'(t)\n",
    "=(\\psi_{i}^{T}(t))'\\mathbf{\\varphi}_{j}(t)+\\psi_{i}^{T}(t)A(t)\\mathbf{\\varphi}_{j}(t)\n",
    "=((\\psi_{i}^{T}(t))'+\\psi_{i}^{T}(t)A(t))\\mathbf{\\varphi}_{j}(t) \\equiv 0 (\\forall i,j,t)\\\\\n",
    "相当于有\\Phi^{T}(t)((\\psi_{i}^{T}(t))'+\\psi_{i}^{T}(t)A(t))^{T}=0 \\\\\n",
    "因此若先将t固定，则对于固定的t_0，有((\\psi_{i}^{T}(t_0))'+\\psi_{i}^{T}(t_0)A(t_0))^{T}=0\\\\\n",
    "当t_0取遍所有[a,b]的值都有\\psi_{i}^{T}(t_0))'+\\psi_{i}^{T}(t_0)A(t_0)=0\\\\\n",
    "故\\forall t\\in [a,b]，\\forall i \\in[1,n]\\wedge\\in N:(\\psi_{i}(t))'=-A(t)\\psi_{i}^{T}(t)\\\\\n",
    "因此\\Psi (t)是方程\\mathbf{y}'=-\\mathbf{A}^{T}(t)\\mathrm{y}的基解矩阵\n",
    "$$"
   ]
  },
  {
   "cell_type": "markdown",
   "metadata": {},
   "source": [
    "$A$"
   ]
  },
  {
   "cell_type": "code",
   "execution_count": null,
   "metadata": {
    "collapsed": true
   },
   "outputs": [],
   "source": []
  }
 ],
 "metadata": {
  "kernelspec": {
   "display_name": "SageMath 7.3",
   "language": "",
   "name": "sagemath"
  },
  "language_info": {
   "codemirror_mode": {
    "name": "ipython",
    "version": 2
   },
   "file_extension": ".py",
   "mimetype": "text/x-python",
   "name": "python",
   "nbconvert_exporter": "python",
   "pygments_lexer": "ipython2",
   "version": "2.7.10"
  }
 },
 "nbformat": 4,
 "nbformat_minor": 0
}
