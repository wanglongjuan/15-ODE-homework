{
 "cells": [
  {
   "cell_type": "markdown",
   "metadata": {},
   "source": [
    "# 习题5.2"
   ]
  },
  {
   "cell_type": "markdown",
   "metadata": {},
   "source": [
    "## 2、题略"
   ]
  },
  {
   "cell_type": "markdown",
   "metadata": {},
   "source": [
    "**证明：**\n",
    "\n",
    "由行列式的微分公式$ w'=\\begin{vmatrix}\n",
    "x'_{11} (t) & x'_{12}(t) & \\cdots  & x'_{1n} (t)\\\\\n",
    "x_{21}(t)   &  x_{22}(t) & \\cdots  & x_{2n} (t) \\\\\n",
    "\\vdots    &  \\vdots  & \\ddots  & \\vdots    \\\\\n",
    "x_{n1}      & x_{n2} (t) & \\cdots  & x_{nn} (t)  \\\\\n",
    "\\end{vmatrix}+\n",
    "\\begin{vmatrix}\n",
    "x_{11} (t) & x_{12}(t) & \\cdots  & x_{1n} (t)\\\\\n",
    "x'_{21}(t)   &  x'_{22}(t) & \\cdots  & x'_{2n} (t) \\\\\n",
    "\\vdots    &  \\vdots  & \\ddots  & \\vdots    \\\\\n",
    "x_{n1}       & x_{n2} (t) & \\cdots  & x_{nn} (t)  \\\\\n",
    "\\end{vmatrix}+\\begin{vmatrix}\n",
    "x_{11} (t) & x_{12}(t) & \\cdots  & x_{1n} (t)\\\\\n",
    "x_{21}(t)   &  x_{22}(t) & \\cdots  & x_{2n} (t) \\\\\n",
    "\\vdots    &  \\vdots  & \\ddots  & \\vdots    \\\\\n",
    "x'_{n1}       & x'_{n2} (t) & \\cdots  & x'_{nn} (t)  \\\\\n",
    "\\end{vmatrix}$\n",
    "\n",
    "$=\\begin{vmatrix}\n",
    "a_{11}(t)x_{11} + a_{12}(t)x_{21}+\\cdots+a_{1n}(t) x_{n1} & a_{11}(t)x_{12} + a_{12}(t)x_{22}+\\cdots+a_{1n}(t) x_{n2} & \\cdots  &a_{11}(t)x_{1n} + a_{12}(t)x_{2n}+\\cdots+a_{1n}(t)x_{nn} \\\\\n",
    "x_{21}(t)   &  x_{22}(t) & \\cdots  & x_{2n} (t) \\\\\n",
    "\\vdots    &  \\vdots  & \\ddots  & \\vdots    \\\\\n",
    "x_{n1}      & x_{n2} (t) & \\cdots  & x_{nn} (t)  \\\\\\end{vmatrix}+\n",
    "\\begin{vmatrix}x_{11} (t) & x_{12}(t) & \\cdots  & x_{1n} (t)\\\\\n",
    "a_{21}(t)x_{11} + a_{22}(t)x_{21}+\\cdots+a_{2n}(t) x_{n1}   & a_{21}(t)x_{12} + a_{22}(t)x_{22}+\\cdots+a_{2n}(t) x_{n2}  & \\cdots  & \\cdots  &a_{21}(t)x_{1n} + a_{22}(t)x_{2n}+\\cdots+a_{2n}(t)x_{nn} \\\\\n",
    "\\vdots    &  \\vdots  & \\ddots  & \\vdots    \\\\\n",
    "x_{n1}      & x_{n2} (t) & \\cdots  & x_{nn} (t)  \\\\\n",
    "\\end{vmatrix}+\\cdots+\n",
    "\\begin{vmatrix}x_{11} (t) & x_{12}(t) & \\cdots  & x_{1n} (t)\\\\\n",
    "x_{21}(t)   &  x_{22}(t) & \\cdots  & x_{2n} (t) \\\\\n",
    "\\vdots    &  \\vdots  & \\ddots  & \\vdots    \\\\\n",
    "a_{n1}(t)x_{11} + a_{n2}(t)x_{21}+\\cdots+a_{nn}(t) x_{n1} & a_{n1}(t)x_{12} + a_{n2}(t)x_{22}+\\cdots+a_{nn}(t) x_{n2} & \\cdots  &a_{n1}(t)x_{1n} + a_{n2}(t)x_{2n}+\\cdots+a_{nn}(t)x_{nn} \\\\\n",
    "\\end{vmatrix}$\n",
    "\n",
    "$=a_{11}(t)\\begin{vmatrix}\n",
    "x_{11} (t) & x_{12}(t) & \\cdots  & x_{1n} (t)\\\\\n",
    "x_{21}(t)   &  x_{22}(t) & \\cdots  & x_{2n} (t) \\\\\n",
    "\\vdots    &  \\vdots  & \\ddots  & \\vdots    \\\\\n",
    "x_{n1}      & x_{n2} (t) & \\cdots  & x_{nn} (t)  \\\\\n",
    "\\end{vmatrix}+a_{22}(t)\\begin{vmatrix}\n",
    "x_{11} (t) & x_{12}(t) & \\cdots  & x_{1n} (t)\\\\\n",
    "x_{21}(t)   &  x_{22}(t) & \\cdots  & x_{2n} (t) \\\\\n",
    "\\vdots    &  \\vdots  & \\ddots  & \\vdots    \\\\\n",
    "x_{n1}      & x_{n2} (t) & \\cdots  & x_{nn} (t)  \\\\\n",
    "\\end{vmatrix}+\\cdots+a_{nn}(t)\\begin{vmatrix}\n",
    "x_{11} (t) & x_{12}(t) & \\cdots  & x_{1n} (t)\\\\\n",
    "x_{21}(t)   &  x_{22}(t) & \\cdots  & x_{2n} (t) \\\\\n",
    "\\vdots    &  \\vdots  & \\ddots  & \\vdots    \\\\\n",
    "x_{n1}      & x_{n2} (t) & \\cdots  & x_{nn} (t)  \\\\\n",
    "\\end{vmatrix}$\n",
    "\n",
    "$=[a_{11}(t)+a_{22}(t)+\\cdots+a_{nn}(t)]W$"
   ]
  },
  {
   "cell_type": "markdown",
   "metadata": {},
   "source": [
    "(2)$w'=[a_{11}(t)+a_{22}(t)+\\cdots+a_{nn}(t)]W$\n",
    "\n",
    "$\\frac{dw}{dt}=[a_{11}(t)+a_{22}(t)+\\cdots+a_{nn}(t)]W$\n",
    "\n",
    "$\\frac{1}{W}dW=[a_{11}(t)+a_{22}(t)+\\cdots+a_{nn}(t)]dt$\n",
    "\n",
    "$两边同时从t_0d到t积分得ln W-lnW(t_0)=\\int_{t_0}^t [a_{11}(t)+a_{22}(t)+\\cdots+a_{nn}(t)]ds $\n",
    "$所以\\frac{W}{W(t_0)}=e^{\\int_{t_0}^t [a_{11}(t)+a_{22}(t)+\\cdots+a_{nn}(t)]ds }$\n",
    "\n",
    "$所以W=W(t_0)e^{\\int_{t_0}^t [a_{11}(t)+a_{22}(t)+\\cdots+a_{nn}(t)]ds }$\n"
   ]
  },
  {
   "cell_type": "markdown",
   "metadata": {
    "collapsed": true
   },
   "source": [
    "## 3、题略"
   ]
  },
  {
   "cell_type": "markdown",
   "metadata": {},
   "source": [
    "**证明：（1）**\n",
    "\n",
    "$对等式左边求导得：\\psi^{T}(t)\\varphi '(t)+(\\psi ^{T}(t))'\\varphi (t)=\\psi^{T}(t) A(t)\\varphi (t)+(\\psi '(t))^{T}\\varphi (t)$\n",
    "\n",
    "$=\\psi^{T}(t) A(t)\\varphi (t)+[(-A^{T}(t)\\psi(t))]^{T}\\varphi (t)$\n",
    "\n",
    "$=\\psi^{T}(t) A(t)\\varphi (t)-\\psi^{T}(t)A(t)\\varphi (t)=0$\n",
    "\n",
    "$所以\\psi^{T}(t)\\varphi (t)=常数$"
   ]
  },
  {
   "cell_type": "markdown",
   "metadata": {},
   "source": [
    "**证明：(2)**\n",
    "\n",
    "充分性：$\\Psi^{T}(t)\\Phi(t)=C$\n",
    "\n",
    "$等式两边同时求导得((\\Psi^{T}(t))'\\Phi(t)+\\Psi^{T}(t)\\Phi'(t)=0$\n",
    "\n",
    "$=((\\Psi^{T}(t))'\\Phi(t)+\\Psi^{T}A(t)\\Phi(t)=0$\n",
    "\n",
    "$因为\\Phi(t)可逆,等式两边同它的逆得((\\Psi^{T}(t))'+\\Psi^{T}A(t)=0$\n",
    "\n",
    "$所以((\\Psi^{T}(t))'=-\\Psi^{T}(t)A(t)$\n",
    "\n",
    "$(\\Psi'(t))^{T}=-\\Psi^{T}(t)A(t)$\n",
    "\n",
    "$\\Psi'(t)=-A^{T}(t)\\Psi(t)且\\det{\\Psi(t)}\\neq 0$\n",
    "\n",
    "$所以\\Phi(t)为方程的基解矩阵$\n",
    "\n",
    "必要性：\n",
    "\n",
    "$由第一问，将矩阵\\Psi^{T}(t),\\Phi(t)分块得\n",
    "\\begin{bmatrix}\\psi^{T} _1(t)\\\\ \\psi^{T}_2(t) \\\\ \\vdots \\\\ \\psi^{T}_n(t)\\\\\n",
    "\\end{bmatrix}\\begin{bmatrix} \\phi_1(t)&\\phi_2(t)& \\cdots & \\phi_2(t)\\\\\n",
    "\\end{bmatrix}=常数矩阵C$\n",
    "\n",
    "$又\\det\\Psi^{T}(t)\\neq 0,\\det \\Phi(t)\\neq 0$\n",
    "\n",
    "$所以\\det C\\neq0,结论成立。$"
   ]
  },
  {
   "cell_type": "markdown",
   "metadata": {},
   "source": [
    "$B^+$"
   ]
  },
  {
   "cell_type": "code",
   "execution_count": null,
   "metadata": {
    "collapsed": true
   },
   "outputs": [],
   "source": []
  }
 ],
 "metadata": {
  "kernelspec": {
   "display_name": "SageMath 7.3",
   "language": "",
   "name": "sagemath"
  },
  "language_info": {
   "codemirror_mode": {
    "name": "ipython",
    "version": 2
   },
   "file_extension": ".py",
   "mimetype": "text/x-python",
   "name": "python",
   "nbconvert_exporter": "python",
   "pygments_lexer": "ipython2",
   "version": "2.7.10"
  }
 },
 "nbformat": 4,
 "nbformat_minor": 0
}
