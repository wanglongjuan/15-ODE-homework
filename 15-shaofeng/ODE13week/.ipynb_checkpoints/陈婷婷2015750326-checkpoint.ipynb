{
 "cells": [
  {
   "cell_type": "markdown",
   "metadata": {
    "collapsed": true
   },
   "source": [
    "**2.考虑方程组$x'=A(t)x(5.15)$其中$A(t)$是区间$a\\leq t\\leq b$上的连续$n\\times n$矩阵，它的元素为$a_{ij}(t),(i,j=1,2,\\cdots,n)$**"
   ]
  },
  {
   "cell_type": "markdown",
   "metadata": {},
   "source": [
    "**1）如果$x_1(t),x_2(t),\\dots,x_n(t)$是(5.15)的任意$n$个解，那么它们的朗斯基行列式$W[x_1(t),x_2(t),\\dots,x_n(t)]\\equiv W(t)$满足下面的一阶线性微分方程$W'=[a_{11}(t),a_{22}(t),\\dots,a_{nn}(t)]W$**"
   ]
  },
  {
   "cell_type": "markdown",
   "metadata": {},
   "source": [
    "证：设$$x_i(t)=a_{i1}x_{i1}(t)+a_{i2}x_{i2}(t)+a_{i3}x_{i3}(t)+\\dots+a_{in}x_{in}(t),i=1,2,\\cdots,n$$\n",
    "\n",
    "则$$W(t)=\n",
    "\\begin{vmatrix}\n",
    "x_{11}(t)&x_{12}(t)&x_{13}(t)&\\dots &x_{1n}(t)\\\\\n",
    "x_{21}(t)&x_{22}(t)&x_{23}(t)&\\dots &x_{2n}(t)\\\\\n",
    "\\dots &\\dots &\\dots & \\dots         \\\\\n",
    "x_{n1}(t)& x_{n2}(t)& x_{n3}(t)& \\dots &x_{nn}(t)\n",
    "\\end{vmatrix}$$"
   ]
  },
  {
   "cell_type": "markdown",
   "metadata": {},
   "source": [
    "$W'(t)=\n",
    "\\begin{vmatrix}\n",
    "x_{11}'(t)&x_{12}'(t)&x_{13}'(t)&\\dots &x_{1n}'(t)\\\\\n",
    "x_{21}(t)&x_{22}(t)&x_{23}(t)&\\dots &x_{2n}(t)\\\\\n",
    "\\dots &\\dots &\\dots & \\dots         \\\\\n",
    "x_{n1}(t)& x_{n2}(t)& x_{n3}(t)& \\dots &x_{nn}(t)\n",
    "\\end{vmatrix}\n",
    "+\\begin{vmatrix}\n",
    "x_{11}(t)&x_{12}(t)&x_{13}(t)&\\dots &x_{1n}(t)\\\\\n",
    "x_{21}'(t)&x_{22}'(t)&x_{23}'(t)&\\dots &x_{2n}'(t)\\\\\n",
    "\\dots &\\dots &\\dots & \\dots         \\\\\n",
    "x_{n1}(t)& x_{n2}(t)& x_{n3}(t)& \\dots &x_{nn}(t)\n",
    "\\end{vmatrix}+\\cdots+\\begin{vmatrix}\n",
    "x_{11}(t)&x_{12}(t)&x_{13}(t)&\\dots &x_{1n}(t)\\\\\n",
    "x_{21}(t)&x_{22}(t)&x_{23}(t)&\\dots &x_{2n}(t)\\\\\n",
    "\\dots &\\dots &\\dots & \\dots         \\\\\n",
    "x_{n1}'(t)& x_{n2}'(t)& x_{n3}'(t)& \\dots &x_{nn}'(t)\n",
    "\\end{vmatrix}$"
   ]
  },
  {
   "cell_type": "markdown",
   "metadata": {},
   "source": [
    "因为$$x_{1j}'(t)=a_{11}x_{1j}(t)+a_{12}x_{2j}(t)+a_{13}x_{3j}(t)+\\dots+a_{1n}x_{nj}(t),j=1,2,\\cdots,n$$\n",
    "\n",
    "从而\n",
    "$$\\begin{vmatrix}\n",
    "x_{11}'(t)&x_{12}'(t)&x_{13}'(t)&\\dots &x_{1n}'(t)\\\\\n",
    "x_{21}(t)&x_{22}(t)&x_{23}(t)&\\dots &x_{2n}(t)\\\\\n",
    "\\dots &\\dots &\\dots & \\dots         \\\\\n",
    "x_{n1}(t)& x_{n2}(t)& x_{n3}(t)& \\dots &x_{nn}(t)\n",
    "\\end{vmatrix}=\n",
    "\\begin{vmatrix}\n",
    "a_{11}x_{11}(t)&a_{11}x_{12}(t)&a_{11}x_{13}(t)&\\dots&a_{11}x_{1n}(t)\\\\\n",
    "x_{21}(t)&x_{22}(t)&x_{23}(t)&\\dots &x_{2n}(t)\\\\\n",
    "\\dots &\\dots &\\dots & \\dots         \\\\\n",
    "x_{n1}(t)& x_{n2}(t)& x_{n3}(t)& \\dots &x_{nn}(t)\n",
    "\\end{vmatrix}+\n",
    "\\begin{vmatrix}\n",
    "a_{12}x_{21}(t)&a_{12}x_{22}(t)&a_{12}x_{23}(t)&\\dots&a_{12}x_{2n}(t)\\\\\n",
    "x_{21}(t)&x_{22}(t)&x_{23}(t)&\\dots &x_{2n}(t)\\\\\n",
    "\\dots &\\dots &\\dots & \\dots         \\\\\n",
    "x_{n1}(t)& x_{n2}(t)& x_{n3}(t)& \\dots &x_{nn}(t)\n",
    "\\end{vmatrix}+\\cdots+\n",
    "\\begin{vmatrix}\n",
    "a_{1n}x_{n1}(t)&a_{1n}x_{n2}(t)&a_{1n}x_{n3}(t)&\\dots&a_{1n}x_{nn}(t)\\\\\n",
    "x_{21}(t)&x_{22}(t)&x_{23}(t)&\\dots &x_{2n}(t)\\\\\n",
    "\\dots &\\dots &\\dots & \\dots         \\\\\n",
    "x_{n1}(t)& x_{n2}(t)& x_{n3}(t)& \\dots &x_{nn}(t)\n",
    "\\end{vmatrix}=a_{11}(t)W(t)$$"
   ]
  },
  {
   "cell_type": "markdown",
   "metadata": {},
   "source": [
    "同理可得\n",
    "$\\begin{vmatrix}\n",
    "x_{11}(t)&x_{12}(t)&x_{13}(t)&\\dots &x_{1n}(t)\\\\\n",
    "x_{21}'(t)&x_{22}'(t)&x_{23}'(t)&\\dots &x_{2n}'(t)\\\\\n",
    "\\dots &\\dots &\\dots & \\dots         \\\\\n",
    "x_{n1}(t)& x_{n2}(t)& x_{n3}(t)& \\dots &x_{nn}(t)\n",
    "\\end{vmatrix}=a_{22}(t)W(t),$\n",
    "$\\cdots \\cdots,$\n",
    "$\\begin{vmatrix}\n",
    "x_{11}(t)&x_{12}(t)&x_{13}(t)&\\dots &x_{1n}(t)\\\\\n",
    "x_{21}(t)&x_{22}(t)&x_{23}(t)&\\dots &x_{2n}(t)\\\\\n",
    "\\dots &\\dots &\\dots & \\dots         \\\\\n",
    "x_{n1}'(t)& x_{n2}'(t)& x_{n3}'(t)& \\dots &x_{nn}'(t)\n",
    "\\end{vmatrix}=a_{nn}(t)W(t)$"
   ]
  },
  {
   "cell_type": "markdown",
   "metadata": {},
   "source": [
    "从而得$$W'(t)=[a_{11}(t)+a_{22}(t)+\\cdots+a_{nn}(t)]W(t)$$"
   ]
  },
  {
   "cell_type": "markdown",
   "metadata": {},
   "source": [
    "**2）解上面的一阶线性微分方程证明下面公式：\n",
    "$$W(t)=W(t_0)e^{\\int_{t_0}^t[a_{11}(s),a_{22}(s),\\cdots ,a_{nn}(s)]{\\rm d}s}$$**"
   ]
  },
  {
   "cell_type": "markdown",
   "metadata": {},
   "source": [
    "证：由上问得\n",
    "$$\\frac{{\\mathrm d}W(t)}{W(t)}=[a_{11}(t)+a_{22}(t)+\\cdots+a_{nn}(t)]{\\mathrm d}t$$\n",
    "\n",
    "积分得$$ln|W(t)|-ln|W(t_0)|=\\int_{t_0}^t [a_{11}(s)+a_{22}(s)+\\cdots+a_{nn}(s)]{\\mathrm d}s$$\n",
    "\n",
    "从而可得$$W(t)=W(t_0)e^{\\int_{t_0}^t [a_{11}(s)+a_{22}(s)+\\cdots+a_{nn}(s)]{\\mathrm d}s},t_0,t\\in [a,b]$$"
   ]
  },
  {
   "cell_type": "markdown",
   "metadata": {},
   "source": [
    "**3.设$A(t)$为区间$a\\leq t\\leq b$上的连续$n\\times n$实矩阵，$\\Phi(t)$为方程$x'=A(t)x$的基解矩阵，而$x=\\phi(t)$为其一解，试证：**"
   ]
  },
  {
   "cell_type": "markdown",
   "metadata": {},
   "source": [
    "**1）对于方程$y'=-A^T(t)y$的任一解$y=\\psi(t)$必有$\\psi^T(t)\\phi(t)=$常数；**"
   ]
  },
  {
   "cell_type": "markdown",
   "metadata": {},
   "source": [
    "解：$$[\\psi^T(t)\\phi(t)]'=\\psi^T\\phi(t)+\\psi^T\\phi'(t)=\\psi^T\\phi(t)+\\psi^T(t)A(t)\\phi$$\n",
    "又因为$\\psi'=-A^T(t)\\psi(t)$，所以$\\psi^T=-\\psi^T(t)A(t)$  \n",
    "$$[\\psi^T(t)\\phi(t)]'=-\\psi^T(t)\\phi(t)A(t)+\\psi^T(t)A(t)\\phi(t)=0$$\n",
    "所以对于方程$y'=-A^T(t)y$的任一解$y=\\psi(t)$必有$\\psi^T(t)\\phi(t)=$常数"
   ]
  },
  {
   "cell_type": "markdown",
   "metadata": {},
   "source": [
    "**2）$\\psi(t)$为方程$y'=-A^T(t)y$的基解矩阵的充要条件是存在非奇异的常数矩阵C，使$\\psi^T(t)\\phi(t)=C$**"
   ]
  },
  {
   "cell_type": "markdown",
   "metadata": {},
   "source": [
    "解：必要性：假设为方程$y'=-A^T(t)y$的基解矩阵,则\n",
    "$$\\begin{aligned}\n",
    "\\left[\\psi^T(t)\\phi(t)\\right]'&=[\\psi^T(t)]'\\phi(t)+\\psi^T(t)\\phi'(t)\\\\\n",
    "&=[-A^T(t)\\psi(t)]\\phi(t)+\\psi(t)A^T(t)\\phi(t)+\\psi^T(t)[A(t)\\phi(t)]\\\\\n",
    "&=-\\psi^T(t)A^T(t)\\phi(t)+\\psi^T(t)A^T(t)\\phi(t)\\\\\n",
    "&=0\n",
    "\\end{aligned}$$\n",
    "故$\\psi^T(t)\\phi(t)=C$"
   ]
  },
  {
   "cell_type": "markdown",
   "metadata": {},
   "source": [
    "充分性：若存在非奇异常数矩阵$C$，$detc\\neq0$,使$\\psi^T(t)\\phi(t)=C$，则\n",
    "$$\\left[\\psi^T(t)\\phi(t)\\right]'=\\psi^T{'}\\phi(t)+\\psi^T\\phi'(t)=0$$\n",
    "\n",
    "故$$\\psi^T{'}(t)\\phi(t)=-\\psi^T(t)\\phi(t)A(t)\\psi^T{'}(t)=-\\psi^T(t)A(t)$$\n",
    "\n",
    "所以$$\\psi^T(t)=-\\psi^T(t)A(t),\\psi'(t)=-\\psi^T(t)A^T(t)$$\n",
    "即$\\psi^T(t)A^T(t)$为方程$y'=-A^T(t)y$的基解矩阵"
   ]
  },
  {
   "cell_type": "markdown",
   "metadata": {},
   "source": [
    "$A$"
   ]
  }
 ],
 "metadata": {
  "kernelspec": {
   "display_name": "SageMath 7.3",
   "language": "",
   "name": "sagemath"
  },
  "language_info": {
   "codemirror_mode": {
    "name": "ipython",
    "version": 2
   },
   "file_extension": ".py",
   "mimetype": "text/x-python",
   "name": "python",
   "nbconvert_exporter": "python",
   "pygments_lexer": "ipython2",
   "version": "2.7.10"
  }
 },
 "nbformat": 4,
 "nbformat_minor": 0
}
