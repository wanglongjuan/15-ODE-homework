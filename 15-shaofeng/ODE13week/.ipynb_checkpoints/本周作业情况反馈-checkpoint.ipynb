{
 "cells": [
  {
   "cell_type": "markdown",
   "metadata": {},
   "source": [
    "本周作业情况反馈：\n",
    "1. 本周作业是习题5.4 的2,3题\n",
    "1. 本周的作业是做与线性微分方程组的一般理论相关题目的题;\n",
    "1. 本周作业大多数人作业做的比较好，其中李星颖、陈智琦、刘琼琦、曾玲作业优秀;但是本周马晓波、毛江琼、肖熠程、刘笑作业未交"
   ]
  },
  {
   "cell_type": "code",
   "execution_count": null,
   "metadata": {
    "collapsed": true
   },
   "outputs": [],
   "source": []
  }
 ],
 "metadata": {
  "kernelspec": {
   "display_name": "SageMath 7.3",
   "language": "",
   "name": "sagemath"
  },
  "language_info": {
   "codemirror_mode": {
    "name": "ipython",
    "version": 2
   },
   "file_extension": ".py",
   "mimetype": "text/x-python",
   "name": "python",
   "nbconvert_exporter": "python",
   "pygments_lexer": "ipython2",
   "version": "2.7.10"
  }
 },
 "nbformat": 4,
 "nbformat_minor": 0
}
