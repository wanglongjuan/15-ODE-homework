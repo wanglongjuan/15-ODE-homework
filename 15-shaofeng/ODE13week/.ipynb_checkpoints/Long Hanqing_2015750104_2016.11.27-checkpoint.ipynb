{
 "cells": [
  {
   "cell_type": "markdown",
   "metadata": {},
   "source": [
    "# The homework of ODE"
   ]
  },
  {
   "cell_type": "markdown",
   "metadata": {},
   "source": [
    "## 1. Consider the equations\n",
    "## $$\n",
    "\\textbf{x'} = \\textbf{A}(t)\\textbf{x}\n",
    "$$\n",
    "## where $\\textbf{A}(t)$ is a continuous $n\\times n$ matrix in the interval $[a,b]$. It's elements are $a_{ij}(t)(i,j = 1,2,\\cdots ,n)$."
   ]
  },
  {
   "cell_type": "markdown",
   "metadata": {},
   "source": [
    "### (1) if $\\textbf{x_1(t)},\\textbf{x_2(t)},\\cdots ,\\textbf{x_n(t)}$ are arbitrary n solutions of the above equation, then their Wtonsky determinant $W[\\textbf{x_1(t)},\\textbf{x_2(t)},\\cdots ,\\textbf{x_n(t)}] \\equiv W(t) $ satisfies the following equation\n",
    "### $$\n",
    "W' = [a_{11}(t) + a_{22}(t) + \\cdots + a_{nn}(t)]W\n",
    "$$"
   ]
  },
  {
   "cell_type": "markdown",
   "metadata": {},
   "source": [
    "let $\\quad$$x_i=\\begin{bmatrix}x_{1i}\\\\x_{2i}\\\\\\vdots\\\\x_{ni}\\end{bmatrix}$ $\\quad$then\n",
    "\\begin{aligned}\n",
    "    W'&={\\begin{vmatrix}\n",
    "    x_{11} & x_{12} & \\cdots & x_{1n}\\\\\n",
    "    x_{21} & x_{22} & \\cdots & x_{2n}\\\\\n",
    "    \\vdots & \\vdots & \\ddots & \\vdots\\\\\n",
    "    x_{n1} & x_{n2} & \\cdots & x_{nn}\\end{vmatrix}'\n",
    "    =\\displaystyle\\sum_{k=1}^{n}\n",
    "    \\begin{vmatrix}\n",
    "    x_{11} & x_{12} & \\cdots & x_{1n}\\\\\n",
    "    \\vdots & \\vdots &      & \\vdots\\\\\n",
    "    x_{k1}' & x_{k2}' & \\cdots & x_{kn}'\\\\\n",
    "    \\vdots & \\vdots &      & \\vdots\\\\\n",
    "    x_{n1} & x_{n2} & \\cdots & x_{nn}\\end{vmatrix}\n",
    "    =\\displaystyle\\sum_{k=1}^{n}\n",
    "    \\begin{vmatrix}\n",
    "    x_{11} & x_{12} & \\cdots & x_{1n}\\\\\n",
    "    \\vdots & \\vdots &      & \\vdots\\\\\n",
    "    \\displaystyle\\sum_{i=1}^{n}a_{ki}(t)x_{i1} & \\displaystyle\\sum_{i=1}^{n}a_{ki}(t)x_{i2} & \\cdots & \\displaystyle\\sum_{i=1}^{n}a_{ki}(t)x_{in}\\\\\n",
    "    \\vdots & \\vdots &      & \\vdots\\\\\n",
    "    x_{n1} & x_{n2} & \\cdots & x_{nn}\\end{vmatrix}}\\\\\n",
    "    &={\\displaystyle\\sum_{k=1}^{n}\\displaystyle\\sum_{i=1}^{n}\n",
    "    \\begin{vmatrix}\n",
    "    x_{11} & x_{12} & \\cdots & x_{1n}\\\\\n",
    "    \\vdots & \\vdots &      & \\vdots\\\\\n",
    "    a_{ki}(t)x_{i1} & a_{ki}(t)x_{i2} & \\cdots & a_{ki}(t)x_{in}\\\\\n",
    "    \\vdots & \\vdots &      & \\vdots\\\\\n",
    "    x_{n1} & x_{n2} & \\cdots & x_{nn}\\end{vmatrix}}\\\\\n",
    "    &={\\displaystyle\\sum_{k=1}^{n}\n",
    "    \\begin{vmatrix}\n",
    "    x_{11} & x_{12} & \\cdots & x_{1n}\\\\\n",
    "    \\vdots & \\vdots &      & \\vdots\\\\\n",
    "    a_{kk}(t)x_{k1} & a_{kk}(t)x_{k2} & \\cdots & a_{kk}(t)x_{kn}\\\\\n",
    "    \\vdots & \\vdots &      & \\vdots\\\\\n",
    "    x_{n1} & x_{n2} & \\cdots & x_{nn}\\end{vmatrix}\n",
    "     =\\displaystyle\\sum_{k=1}^{n}a_{kk}(t)\n",
    "    \\begin{vmatrix}\n",
    "    x_{11} & x_{12} & \\cdots & x_{1n}\\\\\n",
    "    \\vdots & \\vdots &      & \\vdots\\\\\n",
    "    x_{k1} & x_{k2} & \\cdots & x_{kn}\\\\\n",
    "    \\vdots & \\vdots &      & \\vdots\\\\\n",
    "    x_{n1} & x_{n2} & \\cdots & x_{nn}\\end{vmatrix}}\\\\\n",
    "    &={[a_{11}(t)+a_{22}(t)+\\cdots+a_{nn}(t)]}W\\end{aligned}\n",
    "   \n",
    "    "
   ]
  },
  {
   "cell_type": "markdown",
   "metadata": {},
   "source": [
    "### (2) solve the above equation and prove the following equation\n",
    "### $$\n",
    "W(t)=W(t_0)\\mathrm e^{\\int_{t_0}^t[a_{11}(s)+a_{22}(s)+\\cdots+a_{nn}(s)]\\mathrm ds}\n",
    "$$"
   ]
  },
  {
   "cell_type": "markdown",
   "metadata": {},
   "source": [
    "$$\n",
    "\\frac{\\mathrm dW}{\\mathrm dt}=[a_{11}(t)+a_{22}(t)+\\cdots+a_{nn}(t)]W\n",
    "$$\n",
    "so\n",
    "$$\n",
    "\\ln\\mid W\\mid=\\int_{t_0}^t[a_{11}(s)+a_{22}(s)+\\cdots+a_{nn}(s)]\\mathrm ds+c_1\n",
    "$$\n",
    "$$\n",
    "W(t)=c\\mathrm e^{\\int_{t_0}^t[a_{11}(s)+a_{22}(s)+\\cdots+a_{nn}(s)]\\mathrm ds}\n",
    "$$\n",
    "when$\\quad$$t=t_0$$\\quad$$c=W(t_0)$$\\quad$so\n",
    "$$\n",
    "W(t)=W(t_0)\\mathrm e^{\\int_{t_0}^t[a_{11}(s)+a_{22}(s)+\\cdots+a_{nn}(s)]\\mathrm ds}\n",
    "$$"
   ]
  },
  {
   "cell_type": "markdown",
   "metadata": {},
   "source": [
    "## 2. Suppose $\\textbf{A}(t)$ is a continuous $n\\times n$ real matrix in the interval $[a,b]$ , $\\Phi (t)$ is a base solution matrix of the equation $\\textbf{x'} = \\textbf{A}(t)\\textbf{x}$, and $\\textbf{x} = \\varphi (t)$ is a solution of it. Try to prove:\n",
    "\n",
    "### (1) for the arbitrary solution  equation $\\textbf{y} = \\psi(t)$ of the equation $\\textbf{y'} = -\\textbf{A}^T(t)\\textbf{y}$ , there must be $\\psi^T(t)\\varphi(t)=c$"
   ]
  },
  {
   "cell_type": "markdown",
   "metadata": {},
   "source": [
    "$$(y')^T=(y^T)'=[-A^T(t)y]^T=-y^TA(t)$$\n",
    "we get $\\quad$\n",
    "$$\n",
    "[\\psi^T(t)\\varphi(t)]'=[\\psi^T(t)]'\\varphi(t)+\\psi^T(t)\\varphi'(t)=-\\psi^T(t)A(t)\\varphi(t)+\\psi^T(t)A(t)\\varphi(t)=0\n",
    "$$\n",
    "so\n",
    "$$\n",
    "\\psi^T(t)\\varphi(t)=c\n",
    "$$"
   ]
  },
  {
   "cell_type": "markdown",
   "metadata": {},
   "source": [
    "### (2) the sufficient and necessary conditions of that $\\Psi(t)$ is a base solution matrix of the equation $\\textbf{y'} = -\\textbf{A}^T(t)\\textbf{y}$ is that it exists an onsingular the constant matrix $C$ , such that $\\Psi^T(t)\\Phi(t)=C$"
   ]
  },
  {
   "cell_type": "markdown",
   "metadata": {},
   "source": [
    "**necessity:**\n",
    "$$\n",
    "[\\Psi^T(t)\\Phi(t)]'=[\\Psi^T(t)]'\\Phi(t)+\\Psi^T(t)\\Phi'(t)=-\\Psi^T(t)A(t)\\Phi(t)+\\Psi^T(t)A(t)\\Phi(t)=O\n",
    "$$\n",
    "so\n",
    "$$\n",
    "\\Psi^T(t)\\Phi(t)=C\n",
    "$$\n",
    "$$\n",
    "\\det(\\Psi(t))\\neq 0,\\det(\\Phi(t))\\neq 0\n",
    "$$\n",
    "$$\n",
    "\\det(C)=\\det(\\Psi^T(t)\\Phi(t))=\\det(\\Psi^T(t))\\det(\\Phi(t))\\neq 0\n",
    "$$\n",
    "$$\n",
    "\\Psi^T(t)\\Phi(t)=C\n",
    "$$"
   ]
  },
  {
   "cell_type": "markdown",
   "metadata": {},
   "source": [
    "**sufficiency:**\n",
    "$$\n",
    "[\\Psi^T(t)\\Phi(t)]'=[\\Psi^T(t)]'\\Phi(t)+\\Psi^T(t)\\Phi'(t)=[\\Psi^T(t)]'\\Phi(t)+\\Psi^T(t)A(t)\\Phi(t)=O\n",
    "$$\n",
    "$$\n",
    "[\\Psi^T(t)]'\\Phi(t)\\Phi^{-1}(t)+\\Psi^T(t)A(t)\\Phi(t)\\Phi^{-1}(t)=O\n",
    "$$\n",
    "$$\n",
    "\\Psi'(t)=-A^T(t)\\Psi(t)\n",
    "$$\n",
    "$$\n",
    "\\det(C)=\\det(\\Psi^T(t)\\Phi(t))=\\det(\\Psi^T(t))\\det(\\Phi(t))\\neq 0\n",
    "$$\n",
    "so $$\\det(\\Psi^T(t))=\\det(\\Psi(t))\\neq 0$$\n",
    "$\\Psi(t)$ is a base solution matrix of the equation $\\textbf{y'} = -\\textbf{A}^T(t)\\textbf{y}$"
   ]
  },
  {
   "cell_type": "markdown",
   "metadata": {
    "collapsed": true
   },
   "source": [
    "$A$"
   ]
  },
  {
   "cell_type": "code",
   "execution_count": null,
   "metadata": {
    "collapsed": true
   },
   "outputs": [],
   "source": []
  }
 ],
 "metadata": {
  "kernelspec": {
   "display_name": "SageMath 7.3",
   "language": "",
   "name": "sagemath"
  },
  "language_info": {
   "codemirror_mode": {
    "name": "ipython",
    "version": 2
   },
   "file_extension": ".py",
   "mimetype": "text/x-python",
   "name": "python",
   "nbconvert_exporter": "python",
   "pygments_lexer": "ipython2",
   "version": "2.7.10"
  }
 },
 "nbformat": 4,
 "nbformat_minor": 0
}
