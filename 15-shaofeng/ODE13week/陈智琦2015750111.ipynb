{
 "cells": [
  {
   "cell_type": "markdown",
   "metadata": {},
   "source": [
    "# 姓名：陈智琦\n",
    "# 学号：2015750111"
   ]
  },
  {
   "cell_type": "markdown",
   "metadata": {},
   "source": [
    "## 习题5.2"
   ]
  },
  {
   "cell_type": "markdown",
   "metadata": {},
   "source": [
    "## 二、考虑方程组\n",
    "## $$\n",
    "x'=A(t)x\n",
    "$$\n",
    "## 其中$A(t)$是区间$a \\leq t \\leq b$上连续$n*n$矩阵，它的元为$a_{ij}(t)(i,j=1,2,\\dots ,n).$"
   ]
  },
  {
   "cell_type": "markdown",
   "metadata": {},
   "source": [
    "## （1）如果$x_1(t),x_2(t),\\dots ,x_n(t)$是$x'=A(t)x$的任意$n$个解，那么它们的朗斯基行列式$W[x_1(t),x_2(t),\\dots ,x_n(t)] \\equiv W(t)$满足下面一段线性微分方程\n",
    "## $$\n",
    "W'=[a_{11}(t)+a_{22}(t)+\\dots +a_{nn}(t)]W\n",
    "$$\n",
    "## （提示：利用行列式的微分公式，求出$W'$的表达式）"
   ]
  },
  {
   "cell_type": "markdown",
   "metadata": {},
   "source": [
    "## （2）解上面的一阶线性微分方程，证明下面的公式：\n",
    "## $$\n",
    "W(t)=W(t_0)e^{\\int_{t_0}^t [a_{11}(s)+a_{22}(s)+\\dots +a_{nn}(s)]{d}s}  ,  t_0(t),t \\in [a,b]\n",
    "$$"
   ]
  },
  {
   "cell_type": "markdown",
   "metadata": {},
   "source": [
    "**解**\n",
    "（1）用向量的形式表示$x_1(t),x_2(t),\\dots ,x_n(t)$,朗斯基行列式为\n",
    "$$\n",
    "W(t)=\n",
    "\\begin{vmatrix}\n",
    "x_{11}(t) & x_{12}(t) & \\dots & x_{1n}(t)\\\\\n",
    "x_{21}(t) & x_{22}(t) & \\dots & x_{2n}(t)\\\\\n",
    "\\dots & \\dots & \\dots & \\dots \\\\\n",
    "x_{n1}(t) & x_{n2}(t) & \\dots & x_{nn}(t)\n",
    "\\end{vmatrix},\n",
    "$$\n",
    "因此，对$W(t)$求导可得\n",
    "$$\n",
    "{dW(t) \\over dt}=\n",
    "{d \\over dt}\n",
    "\\begin{vmatrix}\n",
    "x_{11}(t) & x_{12}(t) & \\dots & x_{1n}(t)\\\\\n",
    "x_{21}(t) & x_{22}(t) & \\dots & x_{2n}(t)\\\\\n",
    "\\dots & \\dots & \\dots & \\dots \\\\\n",
    "x_{n1}(t) & x_{n2}(t) & \\dots & x_{nn}(t)\n",
    "\\end{vmatrix}\n",
    "$$\n",
    "$$\n",
    "=\n",
    "\\begin{vmatrix}\n",
    "x'_{11}(t) & x'_{12}(t) & \\dots & x'_{1n}(t)\\\\\n",
    "x_{21}(t) & x_{22}(t) & \\dots & x_{2n}(t)\\\\\n",
    "\\dots & \\dots & \\dots & \\dots \\\\\n",
    "x_{n1}(t) & x_{n2}(t) & \\dots & x_{nn}(t)\n",
    "\\end{vmatrix}\n",
    "+\n",
    "\\begin{vmatrix}\n",
    "x_{11}(t) & x_{12}(t) & \\dots & x_{1n}(t)\\\\\n",
    "x'_{21}(t) & x'_{22}(t) & \\dots & x'_{2n}(t)\\\\\n",
    "\\dots & \\dots & \\dots & \\dots \\\\\n",
    "x_{n1}(t) & x_{n2}(t) & \\dots & x_{nn}(t)\n",
    "\\end{vmatrix}\n",
    "+\\dots +\n",
    "\\begin{vmatrix}\n",
    "x_{11}(t) & x_{12}(t) & \\dots & x_{1n}(t)\\\\\n",
    "x_{21}(t) & x_{22}(t) & \\dots & x_{2n}(t)\\\\\n",
    "\\dots & \\dots & \\dots & \\dots \\\\\n",
    "x'_{n1}(t) & x'_{n2}(t) & \\dots & x'_{nn}(t)\n",
    "\\end{vmatrix}\n",
    "$$"
   ]
  },
  {
   "cell_type": "markdown",
   "metadata": {},
   "source": [
    "由题意可知\n",
    "$$\n",
    "x'_{11}=a_{11}x_{11}+a_{12}x_{21}+\\dots+a_{1n}x_{n1}\\\\\n",
    "x'_{12}=a_{11}x_{12}+a_{12}x_{22}+\\dots+a_{1n}x_{n2}\\\\\n",
    "\\dots \\dots\\\\\n",
    "x'_{1n}=a_{11}x_{1n}+a_{12}x_{2n}+\\dots+a_{1n}x_{nn}\\\\\n",
    "$$"
   ]
  },
  {
   "cell_type": "markdown",
   "metadata": {},
   "source": [
    "因此\n",
    "$$\n",
    "\\begin{vmatrix}\n",
    "x'_{11}(t) & x'_{12}(t) & x'_{13}(t) & \\dots & x'_{1n}(t)\\\\\n",
    "x_{21}(t) & x_{22}(t) & x_{23}(t) & \\dots & x_{2n}(t)\\\\\n",
    "\\dots & \\dots & \\dots & \\dots & \\dots \\\\\n",
    "x_{n1}(t) & x_{n2}(t) & x_{n3}(t) & \\dots & x_{nn}(t)\n",
    "\\end{vmatrix}\n",
    "$$\n",
    "$$\n",
    "=\n",
    "\\begin{vmatrix}\n",
    "a_{11}x_{11}(t) & a_{11}x_{12} & a_{11}x_{13}(t)\\dots &a_{11}x_{n1}\\\\\n",
    "x_{21}(t) & x_{22}(t) & x_{23}(t) & \\dots & x_{2n}(t)\\\\\n",
    "\\dots & \\dots & \\dots & \\dots & \\dots\\\\\n",
    "x_{n1}(t) & x_{n2}(t) & x_{n3}(t) & \\dots & x_{nn}(t)\n",
    "\\end{vmatrix}\n",
    "$$\n",
    "$$\n",
    "+\n",
    "\\begin{vmatrix}\n",
    "a_{12}x_{21}(t) & a_{12}x_{22} & a_{12}x_{23}(t)\\dots &a_{12}x_{n2}\\\\\n",
    "x_{21}(t) & x_{22}(t) & x_{23}(t) & \\dots & x_{2n}(t)\\\\\n",
    "\\dots & \\dots & \\dots & \\dots & \\dots\\\\\n",
    "x_{n1}(t) & x_{n2}(t) & x_{n3}(t) & \\dots & x_{nn}(t)\n",
    "\\end{vmatrix}\n",
    "$$\n",
    "$$\n",
    "+\\dots +\n",
    "\\begin{vmatrix}\n",
    "a_{1n}x_{n1}(t) & a_{1n}x_{n2} & a_{1n}x_{n3}(t) &　\\dots &a_{1n}x_{nn}\\\\\n",
    "x_{21}(t) & x_{22}(t) & x_{23}(t) & \\dots & x_{2n}(t)\\\\\n",
    "\\dots & \\dots & \\dots & \\dots & \\dots\\\\\n",
    "x_{n1}(t) & x_{n2}(t) & x_{n3}(t) & \\dots & x_{nn}(t)\n",
    "\\end{vmatrix}\n",
    "$$\n",
    "$$\n",
    "=a_{11}W(t)\n",
    "$$"
   ]
  },
  {
   "cell_type": "markdown",
   "metadata": {},
   "source": [
    "同理可知\n",
    "$$\n",
    "\\begin{vmatrix}\n",
    "x_{11}(t) & x_{12}(t) & \\dots & x_{1n}(t)\\\\\n",
    "x'_{21}(t) & x'_{22}(t) & \\dots & x'_{2n}(t)\\\\\n",
    "\\dots & \\dots & \\dots & \\dots \\\\\n",
    "x_{n1}(t) & x_{n2}(t) & \\dots & x_{nn}(t)\n",
    "\\end{vmatrix}\n",
    "=a_{22}W(t)\n",
    "$$\n",
    "$$\n",
    "\\dots \\dots \\dots\n",
    "$$\n",
    "因此\n",
    "$$\n",
    "{dW(t) \\over dt}=W'=[a_{11}(t)+a_{22}(t)+\\dots +a_{nn}(t)]W\n",
    "$$"
   ]
  },
  {
   "cell_type": "markdown",
   "metadata": {},
   "source": [
    "（2）对上面的积分方程做变换可得\n",
    "$$\n",
    "{dW(t) \\over dw}=W'=[a_{11}(t)+a_{22}(t)+\\dots +a_{nn}(t)]dt\n",
    "$$\n",
    "对上式从$t_0$到$t$积分可得\n",
    "$$\n",
    "ln|W(t)|-ln|W(t_0)|=\\int_{t_0}^t [a_{11}(s)+a_{22}(s)+\\dots +a_{nn}(s)]{d}s\n",
    "$$\n",
    "因此\n",
    "$$\n",
    "W(t)=W(t_0)e^{\\int_{t_0}^t [a_{11}(s)+a_{22}(s)+\\dots +a_{nn}(s)]{d}s}  ,  t_0(t),t \\in [a,b]\n",
    "$$"
   ]
  },
  {
   "cell_type": "markdown",
   "metadata": {},
   "source": [
    "## 三、设$A(t)$为区间$a\\leq t \\leq b$上的连续$n*n$实矩阵，$\\Phi$为方程$x'=A(t)x$的基解矩阵，而$x=\\varphi(x)$为其一解，试证："
   ]
  },
  {
   "cell_type": "markdown",
   "metadata": {},
   "source": [
    "## （1）对于方程$y'=-A(t)y$的任意一解$y=\\psi(t)$必有$\\psi^{T}(t)\\varphi(t)=$常数；\n",
    "\n",
    "## （2）$\\psi(t)$为方程$y'=-A^{T}(t)y$的基解矩阵的充要条件是存在非奇异的常数矩阵C，使得$\\psi^{T}(t)\\Psi(t)=C$"
   ]
  },
  {
   "cell_type": "markdown",
   "metadata": {},
   "source": [
    "**解**\n",
    "（1）因为$\\psi(t)$是方程$x'=A(t)x$的解，因此\n",
    "$$\n",
    "\\varphi'(t)=\n",
    "\\begin{vmatrix}\n",
    "\\varphi'_1(t)\\\\\n",
    "\\varphi'_2(t)\\\\\n",
    "\\dots \\\\\n",
    "\\varphi'_n(t)\n",
    "\\end{vmatrix}\n",
    "=\n",
    "\\begin{vmatrix}\n",
    "a_{11}(t) & a_{12}(t) & \\dots & a_{1n}(t)\\\\\n",
    "a_{21}(t) & a_{22}(t) & \\dots & a_{2n}(t)\\\\\n",
    "\\dots & \\dots & \\dots & \\dots \\\\\n",
    "a_{n1}(t) & a_{n2}(t) & \\dots & a_{nn}(t)\n",
    "\\end{vmatrix}\n",
    "\\begin{vmatrix}\n",
    "\\varphi_1(t)\\\\\n",
    "\\varphi_2(t)\\\\\n",
    "\\dots \\\\\n",
    "\\varphi_n(t)\n",
    "\\end{vmatrix}\n",
    "$$\n",
    "$$\n",
    "=-\n",
    "\\begin{vmatrix}\n",
    "\\displaystyle\\sum_{k=1}^{n} a_{k1}\\varphi_k\\\\\n",
    "\\displaystyle\\sum_{k=1}^{n} a_{k2}\\varphi_k\\\\\n",
    "\\dots \\\\\n",
    "\\displaystyle\\sum_{k=1}^{n} a_{kn}\\varphi_k\n",
    "\\end{vmatrix}\n",
    "$$"
   ]
  },
  {
   "cell_type": "markdown",
   "metadata": {},
   "source": [
    "同理，$y=\\psi(t)$是方程$y'=-A(t)y$的解，可得\n",
    "$$\n",
    "\\psi'(t)=\n",
    "\\begin{vmatrix}\n",
    "\\psi'_1(t)\\\\\n",
    "\\psi'_2(t)\\\\\n",
    "\\dots \\\\\n",
    "\\psi'_n(t)\n",
    "\\end{vmatrix}\n",
    "=\n",
    "\\begin{vmatrix}\n",
    "a_{11}(t) & a_{12}(t) & \\dots & a_{1n}(t)\\\\\n",
    "a_{21}(t) & a_{22}(t) & \\dots & a_{2n}(t)\\\\\n",
    "\\dots & \\dots & \\dots & \\dots \\\\\n",
    "a_{n1}(t) & a_{n2}(t) & \\dots & a_{nn}(t)\n",
    "\\end{vmatrix}\n",
    "\\begin{vmatrix}\n",
    "\\psi_1(t)\\\\\n",
    "\\psi_2(t)\\\\\n",
    "\\dots \\\\\n",
    "\\psi_n(t)\n",
    "\\end{vmatrix}\n",
    "$$\n",
    "$$\n",
    "=\n",
    "\\begin{vmatrix}\n",
    "\\displaystyle\\sum_{k=1}^{n} a_{1k}\\psi_k\\\\\n",
    "\\displaystyle\\sum_{k=1}^{n} a_{2k}\\psi_k\\\\\n",
    "\\dots \\\\\n",
    "\\displaystyle\\sum_{k=1}^{n} a_{nk}\\psi_k\n",
    "\\end{vmatrix}\n",
    "$$\n"
   ]
  },
  {
   "cell_type": "markdown",
   "metadata": {},
   "source": [
    "$$\n",
    "{d(\\psi^{t}(t)\\varphi(t) \\over dt)}={d\\psi^T(t) \\over dt}\\varphi(t)+\\psi^{T}(t){d\\varphi(t)\\over dt}\\\\\n",
    "=-(\\displaystyle\\sum_{k=1}^{n} a_{1k}\\varphi_k ， \\displaystyle\\sum_{k=1}^{n} a_{2k}\\varphi_k ，\\dots ，\n",
    "\\displaystyle\\sum_{k=1}^{n} a_{nk}\\varphi_k)*\n",
    "\\begin{vmatrix}\n",
    "\\psi'_1(t)\\\\\n",
    "\\psi'_2(t)\\\\\n",
    "\\dots \\\\\n",
    "\\psi'_n(t)\n",
    "\\end{vmatrix}\n",
    "+\n",
    "(\\varphi_1(t),\\varphi_2(t),\\dots,\\varphi_n(t))\n",
    "\\begin{vmatrix}\n",
    "\\displaystyle\\sum_{k=1}^{n} a_{1k}\\psi_k\\\\\n",
    "\\displaystyle\\sum_{k=1}^{n} a_{2k}\\psi_k\\\\\n",
    "\\dots \\\\\n",
    "\\displaystyle\\sum_{k=1}^{n} a_{nk}\\psi_k\n",
    "\\end{vmatrix}\n",
    "$$"
   ]
  },
  {
   "cell_type": "markdown",
   "metadata": {},
   "source": [
    "$$\n",
    "=-[\\displaystyle\\sum_{k=1}^{n} a_{k1}\\varphi_k \\psi_1+ \\displaystyle\\sum_{k=1}^{n} a_{k2}\\varphi_k \\psi_2+ \\dots +\\displaystyle\\sum_{k=1}^{n} a_{kn} \\psi_n]\n",
    "-[\\displaystyle\\sum_{k=1}^{n} a_{1k}\\varphi_k \\psi_k + \\displaystyle\\sum_{k=1}^{n} a_{2k}\\varphi_k \n",
    "\\psi_k+ \\dots +\\displaystyle\\sum_{k=1}^{n} a_{nk}\\varphi_k \\psi_k]\n",
    "$$\n",
    "$$  \n",
    "=-\\displaystyle\\sum_{k=1}^{n} \\displaystyle\\sum_{i=1}^{n}(a_{ik} \\psi_k \\varphi_i)\n",
    "+\\displaystyle\\sum_{k=1}^{n} \\displaystyle\\sum_{i=1}^{n} (\\psi_{i} a_{ik} \\varphi_k)\n",
    "=0\n",
    "$$"
   ]
  },
  {
   "cell_type": "markdown",
   "metadata": {},
   "source": [
    "因此\n",
    "$$\n",
    "\\psi^{T}(t)\\Psi(t)=C\n",
    "$$\n",
    "为常数"
   ]
  },
  {
   "cell_type": "markdown",
   "metadata": {
    "collapsed": true
   },
   "source": [
    "（2）充分性：\n",
    "\n",
    "假设存在非奇异的常数矩阵 $C$ ，使得 \n",
    "\n",
    "$$\\Psi^T(t)\\Phi(t)=C$$\n",
    "\n",
    "由于 $\\Phi(t)$ 是方程 $x'=A(t)x$ 的基解矩阵，故 $\\Phi^{-1}(t)$ 存在，所以\n",
    "\n",
    "$$\\Psi^T(t)=C\\dot\\Psi^{-1}(t)$$ \n",
    "\n",
    "并且\n",
    "\n",
    "$$det(\\Psi^T(t))=det(C\\dot\\Psi^{-1}(t))\\neq0$$.\n",
    "\n",
    "因此，$\\Psi(t)$ 为方程 $y'=-A^T(t)y$ 的基解矩阵\n",
    "\n",
    "必要性：\n",
    "\n",
    "假设$\\Psi(t)$ 为方程 $y'=-A^T(t)y$ 的基解矩阵，则 $\\Psi(t)$ 的每一个列向量 $\\psi_1(t),\\psi_2(t),\\cdots,\\psi_n(t)$ 与 $\\Phi(t)$ 的每一个列向量 $\\varphi_1(t),\\varphi_2(t),\\cdots,\\varphi_n(t)$ 满足 $\\psi_i^T(t)\\varphi_j(t)=$ 常数， $i,j=1,2,\\cdots,n.$ 这就是说 $\\Psi^T(t)\\Phi(t)$ 是常数矩阵，记为 $c$， 另外由于 $\\Psi(t),\\Phi(t)$ 分别是基解矩阵，得到 $det(\\Phi(t))\\neq0,det(\\Psi^T(t))\\neq0$, 这样 $detC=det(\\Phi(t))det(\\Psi^T(t))\\neq0$ ,从而 $C$ 是非奇异的。\n",
    "\n",
    "因此，存在非奇异的常数矩阵 $C$ ，使得 $\\Psi^T(t)\\Phi(t)=C$."
   ]
  },
  {
   "cell_type": "markdown",
   "metadata": {
    "collapsed": true
   },
   "source": [
    "$A^+$"
   ]
  }
 ],
 "metadata": {
  "kernelspec": {
   "display_name": "SageMath 7.3",
   "language": "",
   "name": "sagemath"
  },
  "language_info": {
   "codemirror_mode": {
    "name": "ipython",
    "version": 2
   },
   "file_extension": ".py",
   "mimetype": "text/x-python",
   "name": "python",
   "nbconvert_exporter": "python",
   "pygments_lexer": "ipython2",
   "version": "2.7.10"
  }
 },
 "nbformat": 4,
 "nbformat_minor": 0
}
