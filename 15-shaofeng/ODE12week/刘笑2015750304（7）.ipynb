{
 "cells": [
  {
   "cell_type": "markdown",
   "metadata": {},
   "source": [
    "## 作业(7)\n",
    " ## 学号2015750304\n",
    " ## 姓名 刘笑"
   ]
  },
  {
   "cell_type": "markdown",
   "metadata": {},
   "source": [
    "## 习题 4.3"
   ]
  },
  {
   "cell_type": "markdown",
   "metadata": {},
   "source": [
    "## 1 解下列方程"
   ]
  },
  {
   "cell_type": "markdown",
   "metadata": {},
   "source": [
    "###  （2）\n",
    "**解** 用降阶的思想解题\n",
    "$y=\\frac{dx}{dt}\\quad 即有x\"=y\\frac{dy}{dx}$\n",
    "即原方程可化为\n",
    "$$y(x\\frac{dy}{dx}-y+y^2)=0\\\\\n",
    "y=0或\\frac{dy}{dx}=\\frac{y-y^2}{x}\\\\\n",
    "(\\frac{1}{y}+\\frac{1}{1-y})dy=\\frac{1}{x}dx$$\n",
    "对两边积分得\n",
    "$$\\frac{y}{1-y}=c_1x\\\\\n",
    "\\frac{x'}{1-x'}=c_1x\\\\\n",
    "\\frac{1+c_1x}{c_1x}dx=dt两边积分得\\\\\n",
    "\\frac{1}{c_1}ln(x)+x=t+c_2$$\n",
    "即方程的解为\n",
    "$$\\frac{1}{c_1}ln(x)+x=t+c_2\\quad x=c$$\n",
    "$c_1,c_2,c为任意常数$"
   ]
  },
  {
   "cell_type": "markdown",
   "metadata": {},
   "source": [
    "### （4）\n",
    "**解**用降阶的思想解题$y=\\frac{dx}{dt}即有x\"=y\\frac{dy}{dx} 即原方程可化为$\n",
    "$$y\\frac{dy}{dx}+\\sqrt(1-y^2)=0\\\\\n",
    "{-\\frac{y}{\\sqrt(1-y^2)}}dy=dx两边积分得\\\\\n",
    "\\sqrt(1-y^2)=x+c\\\\\n",
    "x'=\\pm \\sqrt(1-(x+c)^2)$$\n",
    "$当x'=\\sqrt(1-(x+c)^2)时两边积分$\n",
    "$$x=sin(t+c_1)-c$$\n",
    "$x'=-\\sqrt(1-(x+c)^2)两边积分$\n",
    "$$x=cos(t+c_1)-c$$\n",
    "$当y=\\pm1$积分得\n",
    "$$\n",
    "x=\\pm t+c_1\n",
    "$$\n",
    "$即方程的通解$\n",
    "$$x=sin(t+c_1)-c或x=cos(t+c_1)-c\\\\\n",
    "x=\\pm t+c_1(c_1,c为任意常数)$$\n",
    "\n",
    "\n",
    "\n",
    "\n"
   ]
  },
  {
   "cell_type": "markdown",
   "metadata": {
    "collapsed": true
   },
   "source": [
    "### （6）"
   ]
  },
  {
   "cell_type": "markdown",
   "metadata": {},
   "source": [
    "**解**由题意等式除以x'\n",
    "$$\\frac{x\"}{x'}-\\frac{1}{t}+x'=0\\\\\n",
    "d(ln|x'|-ln|t|+x)=0两边积分\\\\\n",
    "ln|\\frac{x'}{t}|+x=c_1\\\\\n",
    "x'=t(e^{-x+c_1})再次积分得\\\\\n",
    "e^x=e^{c_1}(\\frac{t^2}{2})+c_2$$\n",
    "$当x'=0即得x=c$\n",
    "所以方程的解\n",
    "$$e^x=c_1(t^2+c_2)或x=c$$\n"
   ]
  },
  {
   "cell_type": "markdown",
   "metadata": {},
   "source": [
    "## 习题 5.1"
   ]
  },
  {
   "cell_type": "markdown",
   "metadata": {
    "collapsed": true
   },
   "source": [
    "## 2 将下列的初值问题转换与之等价的一阶方程组的初值问题"
   ]
  },
  {
   "cell_type": "markdown",
   "metadata": {},
   "source": [
    "### （3）\n",
    "**解**由题意$令w_1=x,w_2=x',w_3=y,w_4=y'$\n",
    "\n",
    "$\\begin{pmatrix}\n",
    "&w_1\\\\\n",
    "&w_2\\\\\n",
    "&w_3\\\\\n",
    "&w_4\\end{pmatrix}=\\begin{pmatrix}\n",
    "&0&1&0&0\\\\\n",
    "&7&0&-6&-5\\\\\n",
    "&0&0&0&1\\\\\n",
    "&15&0&2&-13\\end{pmatrix}*\\begin{pmatrix}\n",
    "&w_1\\\\\n",
    "&w_2\\\\\n",
    "&w_3\\\\\n",
    "&w_4\\end{pmatrix}+\\begin{pmatrix}\n",
    "&0\\\\\n",
    "&e^t\\\\\n",
    "&0\\\\\n",
    "&te^t\\end{pmatrix}$\n",
    "\n",
    "$初值条件为$\n",
    "\n",
    "$w_1(0)=1,w_2(0)=0,w_3(0)=0,w_4(0)=0$"
   ]
  },
  {
   "cell_type": "markdown",
   "metadata": {},
   "source": [
    "## 3\n",
    "**解**由题意\n",
    "\n",
    "$初值想x（0）=\\begin{pmatrix}\n",
    "&0\\\\\n",
    "&1\\end{pmatrix}=\\varphi_0(t)$\n",
    "$$\\varphi_1(t)=\n",
    "\\begin{pmatrix}&0\\\\&1\\end{pmatrix}+\\int_0^t\\begin{pmatrix}&0&1\\\\&-1&0\\end{pmatrix}*\\begin{pmatrix}&0\\\\&1\\end{pmatrix}dx\\\\\n",
    "=\\begin{pmatrix}&0\\\\&1\\end{pmatrix}+\\int_0^t\\begin{pmatrix}&1\\\\&0\\end{pmatrix}\n",
    "=\\begin{pmatrix}&t\\\\&1\\end{pmatrix}$$\n",
    "\n",
    "\n",
    "$$\\varphi_2(t)=\\begin{pmatrix}&0\\\\&1\\end{pmatrix}+\\int_0^t\\begin{pmatrix}&0&1\\\\&-1&0\\end{pmatrix}*\\begin{pmatrix}&t\\\\&1\\end{pmatrix}=\\begin{pmatrix}&0\\\\&1\\end{pmatrix}+\\int_0^t\\begin{pmatrix}&1\\\\&-t\\end{pmatrix}dt=\\begin{pmatrix}&t&1-\\frac{1}{2t^2}\\end{pmatrix}$$\n",
    "\n",
    "\n",
    "$$\\varphi_3(t)=\\begin{pmatrix}&0\\\\&1\\end{pmatrix}+\\int_0^t\\begin{pmatrix}&0&1\\\\&-1&0\\end{pmatrix}*\\begin{pmatrix}&s\\\\&1-\\frac{1}{2s^2}\\end{pmatrix}ds=\\begin{pmatrix}&t-\\frac{1}{6t^2}\\\\&1-\\frac{1}{2t^2}\\end{pmatrix}$$\n",
    "$即初始条件x(0)=\\begin{pmatrix}&0\\\\&1\\end{pmatrix}第三次近似解$\n",
    "$$\\varphi_3(t)=\\begin{pmatrix}&t-\\frac{1}{6t^2}\\\\&1-\\frac{1}{2t^2}\\end{pmatrix}$$\n"
   ]
  },
  {
   "cell_type": "markdown",
   "metadata": {
    "collapsed": true
   },
   "source": [
    "$A$\n"
   ]
  }
 ],
 "metadata": {
  "kernelspec": {
   "display_name": "SageMath 7.3",
   "language": "",
   "name": "sagemath"
  },
  "language_info": {
   "codemirror_mode": {
    "name": "ipython",
    "version": 2
   },
   "file_extension": ".py",
   "mimetype": "text/x-python",
   "name": "python",
   "nbconvert_exporter": "python",
   "pygments_lexer": "ipython2",
   "version": "2.7.10"
  }
 },
 "nbformat": 4,
 "nbformat_minor": 0
}
