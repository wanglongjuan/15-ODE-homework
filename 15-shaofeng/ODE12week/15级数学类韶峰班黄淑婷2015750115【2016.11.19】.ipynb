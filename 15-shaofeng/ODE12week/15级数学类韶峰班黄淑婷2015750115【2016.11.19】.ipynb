{
 "cells": [
  {
   "cell_type": "markdown",
   "metadata": {},
   "source": [
    "# 常微分作业——15数学类韶峰班黄淑婷（2015750115）"
   ]
  },
  {
   "cell_type": "markdown",
   "metadata": {},
   "source": [
    "## 4.3"
   ]
  },
  {
   "cell_type": "markdown",
   "metadata": {},
   "source": [
    "**1.求解下列方程。**"
   ]
  },
  {
   "cell_type": "markdown",
   "metadata": {},
   "source": [
    "(2) $xx''-(x')^2+(x')^3=0$ "
   ]
  },
  {
   "cell_type": "markdown",
   "metadata": {},
   "source": [
    "**解**\n",
    "\n",
    "令 $x'=y$ ，则方程化为 $$xy\\frac{dy}{dx}-y^2+y^3=0$$\n",
    "\n",
    "得到 $$y=0 或者 \\frac{dy}{dx}=\\frac{y-y^2}{x}$$ \n",
    "\n",
    "积分得到 $$\\frac{y}{1-y}=c_1x\\quad\\quad\\quad (c_1\\neq0)$$\n",
    "\n",
    "从而有 $$\\frac{x'}{1-x'}=c_1x$$"
   ]
  },
  {
   "cell_type": "markdown",
   "metadata": {},
   "source": [
    "二次积分有 $$x+\\frac{1}{c_1}\\ln |x|=t+c_2$$\n",
    "\n",
    "当 $y=0$ 时，得到 $x'=0$ ,从而有 $x=c$ \n",
    "\n",
    "综上所述，方程的解为 $$x+\\frac{1}{c_1}\\ln |x|=t+c_2 或 x=c$$ \n",
    "\n",
    "这里 $c_1,c_2,c$ 是任意常数"
   ]
  },
  {
   "cell_type": "markdown",
   "metadata": {},
   "source": [
    "(4) $x''+\\sqrt{1-(x')^2}=0$"
   ]
  },
  {
   "cell_type": "markdown",
   "metadata": {},
   "source": [
    "**解**\n",
    "\n",
    "令 $x'=y$ ，则方程化为 $$y\\frac{dy}{dx}-\\sqrt{1-y^2}=0$$\n",
    "\n",
    "当 $y=\\pm 1$ 时 ,即 $x'=\\pm 1$ ，则 $x=\\pm t+c_1$\n",
    "\n",
    "当 $y\\neq\\pm 1$ 时，方程可以变形为 $$\\frac{ydy}{\\sqrt{1-y^2}}=-dx$$\n",
    "\n",
    "积分得到 $$\\sqrt{1-y^2}=x+c$$\n",
    "\n",
    "从而有 $$\\sqrt{1-(x')^2}=x+c 或者 x'=\\pm\\sqrt{1-(x+c)^2}$$"
   ]
  },
  {
   "cell_type": "markdown",
   "metadata": {},
   "source": [
    "二次积分有 \n",
    "\n",
    "①当 $x'=+\\sqrt{1-(x+c)^2}$ 时， $x=\\sin (t+c_1)-c$\n",
    "\n",
    "①当 $x'=-\\sqrt{1-(x+c)^2}$ 时， $x=\\cos (t+c_1)-c$\n",
    "\n",
    "综上所述，方程的解为 $$x=\\sin (t+c_1)-c 或者 x=\\cos (t+c_1) 或者 x=\\pm t+c_1$$ \n",
    "\n",
    "这里 $c_1,c$ 是任意常数"
   ]
  },
  {
   "cell_type": "markdown",
   "metadata": {},
   "source": [
    "(6) $x''-\\frac{1}{t}x'+(x')^2=0$(提示：方程两端除以x')"
   ]
  },
  {
   "cell_type": "markdown",
   "metadata": {},
   "source": [
    "**解**\n",
    "\n",
    "当 $x'\\neq0$ 时，方程两边同时除以 $x'$ 得到 $$\\frac{x''}{x'}-\\frac{1}{t}+x'=0$$\n",
    "\n",
    "从而得到 $$d(\\ln |x'|-\\ln |t|+x)=0$$\n",
    "\n",
    "积分得到 $$\\ln |\\frac{x'}{t}|+x=c_1$$\n",
    "\n",
    "得到 $$x'=t(e^{-x+c_1})$$"
   ]
  },
  {
   "cell_type": "markdown",
   "metadata": {},
   "source": [
    "二次积分得到 $$e^x=e^c_1(\\frac{t^2}{2})+c_2$$ .\n",
    "\n",
    "$c_1，c_2$ 为任意常数，所以可以写成 $$e^x=c_1(t^2+c_2)$$ .\n",
    "\n",
    "当 $x'=0$ 时，$x=c$ 显然也是方程的解。\n",
    "\n",
    "综上所述，方程的解为 $$e^x=c_1(t^2+c_2) 或者 x=c$$\n",
    "\n",
    "这里 $c_1,c_2,c$ 是任意常数。"
   ]
  },
  {
   "cell_type": "markdown",
   "metadata": {},
   "source": [
    "**2.用幂级数解法求解方程。**"
   ]
  },
  {
   "cell_type": "markdown",
   "metadata": {},
   "source": [
    "（2）$(1-t)x''+x=0$"
   ]
  },
  {
   "cell_type": "markdown",
   "metadata": {},
   "source": [
    "**解**\n",
    "\n",
    "设 $x=a_0+a_1t+a_2t^2+ \\cdots +a_nt^n+ \\cdots $ 是方程的解，\n",
    "\n",
    "则 $x'=a_1+2a_2t+3a_3t^2+ \\cdots +na_nt^{n-1}+ \\cdots$ ,\n",
    "\n",
    "$x''=2a_2+3\\cdot2a_3t+ \\cdots +n(n-1)a_nt^{n-2}+ \\cdots$ .\n",
    "\n",
    "把 $x,x',x''$ 的表达式代入原方程，合并 $t$ 的各同次幂的项，并令各项系数等于零，得到\n",
    "\n",
    "$$\n",
    "\\begin{cases}\n",
    "a_0+2a_2=0,\\\\\n",
    "a_1-2a_2+3 \\cdot 2a_3=0,\\\\\n",
    "n(n-1)a_n-(n-1)(n-2)a_{n-1}+a_{n-2}=0.\n",
    "\\end{cases}\n",
    "\\quad\\quad\\quad\n",
    "①\n",
    "$$\n",
    "\n",
    "由于本题设有初值条件，所以求出的应该是方程的通解，为此，我们需要找到两个线性无关的解。\n",
    "\n",
    "设 $x_1(t)$ 和 $x_2(t)$ 是满足初值条件 $x_1(0)=0,x_1'(0)=1,x_2(0)=1,x_2'(0)=0$ 的两个解。"
   ]
  },
  {
   "cell_type": "markdown",
   "metadata": {},
   "source": [
    "对于 $x_1(t)$ ，显然有 $a_0=0,a_1=1$, 代入①式，可得\n",
    "\n",
    "$a_2=0,a_3=\\frac{-1}{3\\cdot2},a_4=\\frac{-1}{4\\cdot3}=\\frac{-2}{4\\cdot3\\cdot2},a_5=\\frac{-5}{5\\cdot4\\cdot3\\cdot2},\\cdots ,a_n=\\frac{(n-1)(n-2)a_{n-1}\\quad-a_{n-2}}{n(n-1)}$ \n",
    "\n",
    "也就是 $x_1(t)=t-\\frac{t^3}{3!}-\\frac{2}{4!}t^4-\\frac{5}{5!}t^5 \\cdots$ .\n",
    "\n",
    "对于 $s_2(t)$ ,显然有 $a_0=1,a_1=0,$ 代入①式，可得\n",
    "\n",
    "$a_2=-\\frac{1}{2},a_3=\\frac{-1}{3\\cdot2},a_4=\\frac{-1}{4\\cdot3\\cdot2},\\cdots ,a_n=\\frac{(n-1)(n-2)a_{n-1}\\quad-a_{n-2}}{n(n-1)}$\n",
    "\n",
    "也就是 $x_2(t)=1-\\frac{1}{2!}t^2-\\frac{1}{3!}t^3-\\frac{1}{4!}t^4 \\cdots$ .\n",
    "\n",
    "所以方程的通解为\n",
    "\n",
    "$x=c_1x_1(t)+c_2x_2(t)\\\\\n",
    "  =c_1(t-\\frac{t^3}{3!}-\\frac{2}{4!}t^4-\\frac{5}{5!}t^5 \\cdots)+c_2(1-\\frac{1}{2!}t^2-\\frac{1}{3!}t^3-\\frac{1}{4!}t^4 \\cdots)$"
   ]
  },
  {
   "cell_type": "markdown",
   "metadata": {},
   "source": [
    "## 5.1"
   ]
  },
  {
   "cell_type": "markdown",
   "metadata": {},
   "source": [
    "** 2.将初值问题化为与之等价的一阶方程组的初值问题。**"
   ]
  },
  {
   "cell_type": "markdown",
   "metadata": {},
   "source": [
    "(3) $\\begin{cases}\n",
    "    x''+5y'-7x+6y=e^t \\\\\n",
    "    y''-2y+13y'-15x=\\cos t,\n",
    "    \\end{cases} \\\\\n",
    "    x(0)=1,x'(0)=0,y(0)=0,y'(0)=1$\n",
    "    \n",
    "  （提示：令 $\\omega_1=x,\\omega_2=x',\\omega_3=y,\\omega_4=y'$ )\n",
    "    "
   ]
  },
  {
   "cell_type": "markdown",
   "metadata": {},
   "source": [
    "**解**\n",
    "\n",
    "令 $\\omega_1=x,\\omega_2=x',\\omega_3=y,\\omega_4=y'$，则化为方程组\n",
    "$$\n",
    "\\left(\n",
    "\\begin{matrix}\n",
    "\\omega_1\\\\\n",
    "\\omega_2\\\\\n",
    "\\omega_3\\\\\n",
    "\\omega_4\\\\\n",
    "\\end{matrix}\n",
    "\\right)'\n",
    "=\n",
    "\\left(\n",
    "\\begin{matrix}\n",
    "0&1&0&0\\\\\n",
    "7&0&-6&-5\\\\\n",
    "0&0&0&1\\\\\n",
    "15&0&2&-13\\\\\n",
    "\\end{matrix}\n",
    "\\right)\n",
    "\\left(\n",
    "\\begin{matrix}\n",
    "\\omega_1\\\\\n",
    "\\omega_2\\\\\n",
    "\\omega_3\\\\\n",
    "\\omega_4\\\\\n",
    "\\end{matrix}\n",
    "\\right)\n",
    "+\\left(\n",
    "\\begin{matrix}\n",
    "0\\\\\n",
    "e^t\\\\\n",
    "0\\\\\n",
    "\\cos t\\\\\n",
    "\\end{matrix}\n",
    "\\right)'\n",
    "$$\n",
    "初值条件为 $\\omega_1(0)=1,\\omega_2(0)=0,\\omega_3(0)=0,\\omega_4(0)=1$"
   ]
  },
  {
   "cell_type": "markdown",
   "metadata": {},
   "source": [
    "**3.试用逐步逼近法求方程组**"
   ]
  },
  {
   "cell_type": "markdown",
   "metadata": {},
   "source": [
    "$$\n",
    "\\mathbf x'=\n",
    "\\left[\n",
    "\\begin{matrix}\n",
    "0&1\\\\\n",
    "-1&0\\\\\n",
    "\\end{matrix}\n",
    "\\right]\\mathbf x\n",
    "$$"
   ]
  },
  {
   "cell_type": "markdown",
   "metadata": {},
   "source": [
    "**满足初值条件**"
   ]
  },
  {
   "cell_type": "markdown",
   "metadata": {},
   "source": [
    "$$\n",
    "\\mathbf x(0)=\n",
    "\\left[\n",
    "\\begin{matrix}\n",
    "0\\\\\n",
    "1\\\\\n",
    "\\end{matrix}\n",
    "\\right]\n",
    "$$"
   ]
  },
  {
   "cell_type": "markdown",
   "metadata": {},
   "source": [
    "** 的第三次近似解**"
   ]
  },
  {
   "cell_type": "markdown",
   "metadata": {},
   "source": [
    "**解**\n",
    "$$\n",
    "\\mathbf \\varphi_0(t)=\n",
    "\\left[\n",
    "\\begin{matrix}\n",
    "0\\\\\n",
    "1\\\\\n",
    "\\end{matrix}\n",
    "\\right]\n",
    "$$,"
   ]
  },
  {
   "cell_type": "markdown",
   "metadata": {},
   "source": [
    "$$\n",
    "\\mathbf \\varphi_1(t)=\n",
    "\\left[\n",
    "\\begin{matrix}\n",
    "0\\\\\n",
    "1\\\\\n",
    "\\end{matrix}\n",
    "\\right]+\\int_0^t \\left[ \\begin{matrix} 0&1\\\\ -1&0\\\\ \\end{matrix} \\right] \\left[ \\begin{matrix} 0\\\\ 1\\\\ \\end{matrix} \\right] \\mathrm ds\\\\\n",
    "= \\left[ \\begin{matrix} 0\\\\ 1\\\\ \\end{matrix} \\right]+\\int_0^t  \\left[ \\begin{matrix} 1\\\\ 0\\\\ \\end{matrix} \\right] \\mathrm ds\\\\\n",
    "=\\left[ \\begin{matrix} 0\\\\ 1\\\\ \\end{matrix} \\right]+ \\left[ \\begin{matrix} t\\\\ 0\\\\ \\end{matrix} \\right] \\\\\n",
    "= \\left[ \\begin{matrix} t\\\\ 1\\\\ \\end{matrix} \\right]\n",
    "$$ "
   ]
  },
  {
   "cell_type": "markdown",
   "metadata": {},
   "source": [
    "$$\n",
    "\\mathbf \\varphi_2(t)=\n",
    "\\left[\n",
    "\\begin{matrix}\n",
    "0\\\\\n",
    "1\\\\\n",
    "\\end{matrix}\n",
    "\\right]+\\int_0^t \\left[ \\begin{matrix} 0&1\\\\ -1&0\\\\ \\end{matrix} \\right] \\left[ \\begin{matrix} t\\\\ 1\\\\ \\end{matrix} \\right] \\mathrm dt\\\\\n",
    "= \\left[ \\begin{matrix} 0\\\\ 1\\\\ \\end{matrix} \\right]+\\int_0^t  \\left[ \\begin{matrix} 1\\\\ -t\\\\ \\end{matrix} \\right] \\mathrm dt\\\\\n",
    "=\\left[ \\begin{matrix} 0\\\\ 1\\\\ \\end{matrix} \\right]+ \\left[ \\begin{matrix} t\\\\ -\\frac{1}{2}t^2\\\\ \\end{matrix} \\right] \\\\\n",
    "= \\left[ \\begin{matrix} t\\\\ 1-\\frac{1}{2}t^2\\\\ \\end{matrix} \\right]\n",
    "$$ "
   ]
  },
  {
   "cell_type": "markdown",
   "metadata": {},
   "source": [
    "$$\n",
    "\\mathbf \\varphi_3(t)=\n",
    "\\left[\n",
    "\\begin{matrix}\n",
    "0\\\\\n",
    "1\\\\\n",
    "\\end{matrix}\n",
    "\\right]+\\int_0^t \\left[ \\begin{matrix} 0&1\\\\ -1&0\\\\ \\end{matrix} \\right] \\left[ \\begin{matrix} s\\\\ 1-\\frac{1}{2}s^2\\\\ \\end{matrix} \\right] \\mathrm ds\\\\\n",
    "= \\left[ \\begin{matrix} 0\\\\ 1\\\\ \\end{matrix} \\right]+\\int_0^t  \\left[ \\begin{matrix} 1-\\frac{1}{2}s^2\\\\ -s\\\\ \\end{matrix} \\right] \\mathrm ds\\\\\n",
    "=\\left[ \\begin{matrix} 0\\\\ 1\\\\ \\end{matrix} \\right]+ \\left[ \\begin{matrix} t-\\frac{1}{6}t^3\\\\ -\\frac{1}{2}t^2\\\\ \\end{matrix} \\right] \\\\\n",
    "= \\left[ \\begin{matrix} t-\\frac{1}{6}t^3\\\\ -\\frac{1}{2}t^2\\\\ \\end{matrix} \\right]\n",
    "$$ "
   ]
  },
  {
   "cell_type": "markdown",
   "metadata": {},
   "source": [
    "所以满足初值条件\n",
    "$\n",
    "\\mathbf x(0)=\n",
    "\\left[\n",
    "\\begin{matrix}\n",
    "0\\\\\n",
    "1\\\\\n",
    "\\end{matrix}\n",
    "\\right]\n",
    "$ \n",
    "的第三次近似解为"
   ]
  },
  {
   "cell_type": "markdown",
   "metadata": {},
   "source": [
    "$$\n",
    "\\mathbf \\varphi_3(t)=\n",
    "\\left[ \n",
    "\\begin{matrix} \n",
    "t-\\frac{1}{6}t^3\\\\ \n",
    "-\\frac{1}{2}t^2\\\\ \n",
    "\\end{matrix} \n",
    "\\right]\n",
    "$$ "
   ]
  },
  {
   "cell_type": "markdown",
   "metadata": {},
   "source": [
    "$A$"
   ]
  }
 ],
 "metadata": {
  "kernelspec": {
   "display_name": "SageMath 7.3",
   "language": "",
   "name": "sagemath"
  },
  "language_info": {
   "codemirror_mode": {
    "name": "ipython",
    "version": 2
   },
   "file_extension": ".py",
   "mimetype": "text/x-python",
   "name": "python",
   "nbconvert_exporter": "python",
   "pygments_lexer": "ipython2",
   "version": "2.7.10"
  }
 },
 "nbformat": 4,
 "nbformat_minor": 0
}
