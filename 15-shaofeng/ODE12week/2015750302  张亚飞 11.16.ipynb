{
 "cells": [
  {
   "cell_type": "markdown",
   "metadata": {},
   "source": [
    "## 习题4.3 ##"
   ]
  },
  {
   "cell_type": "markdown",
   "metadata": {},
   "source": [
    "1.（2）$xx''-(x')^2+(x')^3=0;$"
   ]
  },
  {
   "cell_type": "markdown",
   "metadata": {},
   "source": [
    "解：令$x'=y$,得\n",
    "\n",
    "$$\\frac{\\mathrm dy}{\\mathrm dx}xy-y^2+y^3=0$$\n",
    "即$$y=0,或\\frac{\\mathrm dy}{\\mathrm dx}x=y-y^2$$\n",
    "\n",
    "当$y=0$时求得\n",
    "$$x=c$$\n",
    "\n",
    "当$\\frac{\\mathrm dy}{\\mathrm dx}x=y-y^2$时可得\n",
    "$$x=(x+c_1)y$$\n",
    "即$$x=(x+c_1)\\frac{\\mathrm dx}{\\mathrm dt}$$\n",
    "解得$$x+c_1\\ln\\mid{x}\\mid=t+c_2$$\n",
    "综上可得解为$$x+c_1\\ln\\mid{x}\\mid=t+c_2，x=c$$"
   ]
  },
  {
   "cell_type": "markdown",
   "metadata": {},
   "source": [
    "（4）$x''+\\sqrt{1-(x')^2}=0;$"
   ]
  },
  {
   "cell_type": "markdown",
   "metadata": {},
   "source": [
    "解：令$y=x'$,可得\n",
    "$$\\frac{\\mathrm dy}{\\mathrm dx}y+\\sqrt{1-y^2}=0$$\n",
    "    即$$y=\\pm 1, 或\\frac{-y\\mathrm dy}{\\sqrt{1-y^2}}=\\mathrm dx$$\n",
    "    当$y=\\pm1$时，解得\n",
    "    $$x=\\pm t+c$$\n",
    "    当$\\frac{-y\\mathrm dy}{\\sqrt{1-y^2}}=\\mathrm dx$时，可得\n",
    "    $$\\sqrt{1-y^2}=x+c_1$$\n",
    "    即$$1-y^2=(x+c_1)^2,(0<x+c_1\\leq 1)$$\n",
    "    即$$\\frac{\\mathrm dx}{\\mathrm dt}=\\sqrt{1-(x+c_1)^2}或\n",
    "    \\frac{\\mathrm dx}{\\mathrm dt}=-\\sqrt{1-(x+c_1)^2},(0<x+c_1\\leq 1)$$\n",
    "    可求得$$\\arcsin {(x+c_1)}=t+c_2或\\arcsin {(x+c_1)}=-t+c_3,(0<x+c_1\\leq 1)$$\n",
    "    即$$x=\\sin(t+c_2)-c_1,(0<t+c_2\\leq \\frac{\\pi}{2})或x=\\sin(-t+c_3)-c_1,(0<-t+c_3\\leq \\frac{\\pi}{2})$$\n",
    "    在$x=\\sin(-t+c_3)-c_1,(0<-t+c_3\\leq \\frac{\\pi}{2})$中，令$c_3=-c_2+\\pi$,可得\n",
    "    $$x=\\sin(-t-c_2+\\pi)-c_1,(0<-t-c_2+\\pi\\leq \\frac{\\pi}{2})$$\n",
    "    即$$x=\\sin(t+c_2)-c_1,(\\frac{\\pi}{2}\\leq t+c_2< \\pi)$$\n",
    "    综上，解为\n",
    "    $$x=\\pm t+c,x=\\sin(t+c_2)+c_1,(0<t+c_2< \\pi)$$\n",
    "    "
   ]
  },
  {
   "cell_type": "markdown",
   "metadata": {},
   "source": [
    "（6）$x''-\\frac{1}{t}x'+(x')^2=0$"
   ]
  },
  {
   "cell_type": "markdown",
   "metadata": {},
   "source": [
    "解：令$y=x'$得\n",
    "$$y'-\\frac{1}{t}y+y^2=0$$\n",
    "即$$\\frac{\\mathrm dy}{\\mathrm dt}=\\frac{1}{t}y-y^2$$\n",
    "即$$y=0或\\frac{\\mathrm dy}{y}=\\frac{\\mathrm dt}{t}-y\\mathrm dt$$\n",
    "积分整理得\n",
    "$$\\mathrm e^xy=c_1t$$\n",
    "即$$\\mathrm e^x\\mathrm dx=c_1t\\mathrm dt$$\n",
    "积分得\n",
    "$$\\mathrm e^x=c_1\\frac{t^2}{2}+c_2$$"
   ]
  },
  {
   "cell_type": "markdown",
   "metadata": {},
   "source": [
    "2.（2）$(1-t)x''+x=0$"
   ]
  },
  {
   "cell_type": "markdown",
   "metadata": {},
   "source": [
    "解：设$$x=a_0+a_1t+a_2t^2+\\dots+a_nt^n+\\dots$$\n",
    "则$$x''=2a_2+3\\times2a_3t+\\dots+n(n-1)a_nt^{(n-2)}+\\dots$$\n",
    "将以上两式代入方程比较同次项的系数得\n",
    "$$a_2=-\\frac{a_0}{2},a_3=-\\frac{a_0+a_1}{3!},a_n=\\frac{(n-2)a_{n-1}}{n}-\\frac{a_{n-2}}{n(n-1)}(n\\geq3)$$\n",
    "其中$a_0,a_1$是任意的，因而\n",
    "$$x=a_0\\left(1-\\frac{1}{2!}t^2-\\frac{1}{3!}t^3-\\frac{1}{4!}t^4-\\frac{2}{5!}t^5-\\dots\\right)+\n",
    "a_1\\left(t-\\frac{1}{3!}t^3-\\frac{2}{4!}t^4-\\frac{5}{5!}t^5-\\dots\\right)$$"
   ]
  },
  {
   "cell_type": "markdown",
   "metadata": {},
   "source": [
    "## 习题5.1 ##"
   ]
  },
  {
   "cell_type": "markdown",
   "metadata": {},
   "source": [
    "2.（3）解：令$$\\omega_1=x,,\\omega_2=x',\\omega_3=y,\\omega_4=y'$$\n",
    "则可得\n",
    "$$\n",
    "\\begin{cases}\\omega_1'=\\omega_2;\\\\\n",
    "\\omega_2'=7\\omega_1-6\\omega_3-5\\omega_4+\\mathrm e^t;\\\\\n",
    "\\omega_3'=\\omega_4;\\\\\\omega_4'=15\\omega_1+2\\omega_3-13\\omega_4+\\cos t.\\end{cases}\n",
    "$$\n",
    "$$\\omega_1(0)=1,\\omega_2(0)=0,\\omega_3(0)=0,\\omega_4(0)=1$$\n",
    "即$$\n",
    "\\omega'=\\begin{bmatrix}\n",
    "0 & 1 & 0 & 0 \\\\\n",
    "7 & 0 &-6 & -5 \\\\\n",
    "0 & 0 & 0 & 1 \\\\\n",
    "15 & 0 & 2 & -13\n",
    "\\end{bmatrix} \\omega\n",
    "+\\begin{bmatrix}0\\\\\\mathrm e^t\\\\0\\\\\\cos t\\end{bmatrix},\\omega(0)=\n",
    "\\begin{bmatrix}1\\\\0\\\\0\\\\1\\end{bmatrix}\n",
    "$$"
   ]
  },
  {
   "cell_type": "markdown",
   "metadata": {},
   "source": [
    "3.解：\n",
    "$$\n",
    "\\varphi_0(t)=\\begin{bmatrix}0\\\\1\\end{bmatrix}\n",
    "$$\n",
    "\n",
    "$$\n",
    "\\varphi_1(t)=\\begin{bmatrix}0\\\\1\\end{bmatrix}+\n",
    "\\int_0^t\\begin{bmatrix}0&1\\\\-1&0\\end{bmatrix}\\begin{bmatrix}0\\\\1\\end{bmatrix}\\mathrm ds=\n",
    "\\begin{bmatrix}t\\\\1\\end{bmatrix}\n",
    "$$\n",
    "\n",
    "$$\n",
    "\\varphi_2(t)=\\begin{bmatrix}0\\\\1\\end{bmatrix}+\n",
    "\\int_0^t\\begin{bmatrix}0&1\\\\-1&0\\end{bmatrix}\\begin{bmatrix}s\\\\1\\end{bmatrix}\\mathrm ds=\n",
    "\\begin{bmatrix}t\\\\1-\\frac{t^2}{2}\\end{bmatrix}\n",
    "$$\n",
    "\n",
    "$$\n",
    "\\varphi_3(t)=\\begin{bmatrix}0\\\\1\\end{bmatrix}+\n",
    "\\int_0^t\\begin{bmatrix}0&1\\\\-1&0\\end{bmatrix}\\begin{bmatrix}s\\\\1-\\frac{s^2}{2}\\end{bmatrix}\\mathrm ds=\n",
    "\\begin{bmatrix}t-\\frac{t^3}{6}\\\\1-\\frac{t^2}{2}\\end{bmatrix}\n",
    "$$"
   ]
  },
  {
   "cell_type": "markdown",
   "metadata": {
    "collapsed": true
   },
   "source": [
    "$A$"
   ]
  }
 ],
 "metadata": {
  "kernelspec": {
   "display_name": "SageMath 7.3",
   "language": "",
   "name": "sagemath"
  },
  "language_info": {
   "codemirror_mode": {
    "name": "ipython",
    "version": 2
   },
   "file_extension": ".py",
   "mimetype": "text/x-python",
   "name": "python",
   "nbconvert_exporter": "python",
   "pygments_lexer": "ipython2",
   "version": "2.7.10"
  }
 },
 "nbformat": 4,
 "nbformat_minor": 0
}
