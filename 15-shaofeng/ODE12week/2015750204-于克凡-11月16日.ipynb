{
 "cells": [
  {
   "cell_type": "markdown",
   "metadata": {},
   "source": [
    "# 习题4.3"
   ]
  },
  {
   "cell_type": "markdown",
   "metadata": {},
   "source": [
    "## 题一：求解下列方程"
   ]
  },
  {
   "cell_type": "markdown",
   "metadata": {},
   "source": [
    "### (2)$x\\frac{d^2x}{dt^2}-(\\frac{dx}{dt})^2+(\\frac{dx}{dt})^3=0$"
   ]
  },
  {
   "cell_type": "markdown",
   "metadata": {},
   "source": [
    "解：令$\\frac{dx}{dt}=y\\\\$\n",
    "\n",
    "∴$xy\\frac{dy}{dx}=y^2-y^3$\n",
    "\n",
    "（情形一）$y=0\\implies x=c$\n",
    "\n",
    "（情形二）\n",
    "$x\\frac{dy}{dx}=y-y^2\\\\\n",
    "\\frac{dx}{x}=(\\frac{1}{y}-\\frac{1}{1-y})dy\\\\\n",
    "\\ln x=ln \\frac{y}{1-y}+c_1\\\\\n",
    "x=c_1\\frac{y}{1-y}\\\\\n",
    "c_1x(1-\\frac{dx}{dt})=\\frac{dx}{dt}$"
   ]
  },
  {
   "cell_type": "markdown",
   "metadata": {},
   "source": [
    "### (3)$\\frac{d^2x}{dt^2}+\\frac{2}{1-x}(\\frac{dx}{dt})^2=0$"
   ]
  },
  {
   "cell_type": "markdown",
   "metadata": {},
   "source": [
    "解：令$\\frac{dx}{dt}=y\\\\\n",
    "\\implies y\\frac{dy}{dx}+\\frac{2}{1-x}y^2=0\\\\\n",
    "\\implies\\frac{dy^2}{dx}=\\frac{4}{x-1}y^2\\\\\n",
    "\\implies\\frac{dy^2}{y^2}=4\\frac{dx}{x-1}\\\\\n",
    "\\implies\\ln y^2=4\\ln(x-1)+C\\\\\n",
    "\\implies y^2=C(x-1)^4\\\\\n",
    "\\implies y=C(x-1)^2=\\frac{dx}{dt}\\\\\n",
    "\\implies C_1dt=\\frac{dx}{(x-1)^2}\\\\\n",
    "\\implies C_1t=-\\frac{1}{x-1}+C_2\\\\\n",
    "\\implies (x-1)(C_1t+C_2)=1$"
   ]
  },
  {
   "cell_type": "markdown",
   "metadata": {},
   "source": [
    "### (4)$\\frac{d^2x}{dt^2}+\\sqrt{1-(\\frac{dx}{dt})^2}=0$"
   ]
  },
  {
   "cell_type": "markdown",
   "metadata": {},
   "source": [
    "解：由题知$(\\frac{d^2x}{dt^2})^2+(\\frac{dx}{dt})^2=1$记$\\frac{dx}{dt}=y,\\frac{dy}{dt}=y\\frac{dy}{dx}$\n",
    "\n",
    "$\\implies y^2(\\frac{dy}{dx})^2+y^2=1\\\\\n",
    "\\implies\\frac{1}{4}(\\frac{dy^2}{dx})^2+y^2=1\\\\\n",
    "\\\\\\frac{dy^2}{dx}=\\sqrt{4-4y^2}$\n",
    "\n",
    "（情形一）令$y=\\cos \\theta$\n",
    "\n",
    "$\\frac{-2\\cos\\theta\\sin\\theta}{dx}=-2\\sin\\theta\\\\\n",
    "\\cos\\theta d\\theta=dx\\\\\n",
    "x=\\sin \\theta+c_1\\\\\n",
    "x=\\sqrt{1-y^2}+c_1\\\\\n",
    "\\sqrt{1-(x+c_1)^2}=\\frac{dx}{dt}\\\\\n",
    "t=\\arcsin (x+c_1)+c_2\\\\\n",
    "\\sin(t+c_2)=x+c_1$\n",
    "\n",
    "（情形二）$\\frac{d^2x}{dt^2}=0\\\\\n",
    "\\implies(\\frac{dx}{dt})^2=1\\\\\n",
    "\\implies x=\\pm t+c$"
   ]
  },
  {
   "cell_type": "markdown",
   "metadata": {},
   "source": [
    "## 题二：用幂级数法求解"
   ]
  },
  {
   "cell_type": "markdown",
   "metadata": {},
   "source": [
    "### (2)$(1-t)\\frac{d^2x}{dt^2}+x=0$"
   ]
  },
  {
   "cell_type": "markdown",
   "metadata": {},
   "source": [
    "解：设$x=\\displaystyle\\sum_{i=0}^{\\infty}a_{i}x^{i}$代入原方程可得\n",
    "\n",
    "$(1-t)(2*1*a_2+3*2*a_3t+\\cdots+(k+2)(k+1)a_{k+2}t^{k}+\\cdots)+(a_0+a_1t+a_2t^2+\\cdots)=0$\n",
    "\n",
    "∴$\\begin{cases}\n",
    "a_0+2a_2=0\\\\a_1+6a_3-2a_2=0\\\\a_{k}+(k+2)(k+1)a_{k+2}-(k+1)ka_{k+1}=0\n",
    "\\end{cases}$\n",
    "\n",
    "∴$k!a_k+(k+2)!a_{k+2}-(k+1)!a_{k+1}=0$\n",
    "\n",
    "记$B_n=n!a_n$\n",
    "\n",
    "∴$B_{n+2}-B_{n+1}+B_{n}=0$\n",
    "\n",
    "其特征方程为$\\lambda^2-\\lambda+1=0\\implies\\lambda_1=e^{\\frac{\\pi}{3}i},\\lambda_2=e^{-\\frac{\\pi}{3}i}$\n",
    "\n",
    "∴$B_n=c_1e^{\\frac{n\\pi}{3}i}+c_2e^{-\\frac{n\\pi}{3}i}$\n",
    "\n",
    "∴$a_n=c_1\\frac{e^{\\frac{n\\pi}{3}i}}{n!}+c_2\\frac{e^{-\\frac{n\\pi}{3}i}}{n!}$\n",
    "\n",
    "∴$x=c_1\\displaystyle\\sum_{n=0}^{\\infty}\\frac{e^{\\frac{n\\pi}{3}i}t^{n}}{n!}+\n",
    "c_2\\displaystyle\\sum_{n=0}^{\\infty}\\frac{e^{-\\frac{n\\pi}{3}i}t^{n}}{n!}$"
   ]
  },
  {
   "cell_type": "markdown",
   "metadata": {},
   "source": [
    "# 习题5.1"
   ]
  },
  {
   "cell_type": "markdown",
   "metadata": {},
   "source": [
    "## 题二："
   ]
  },
  {
   "cell_type": "markdown",
   "metadata": {},
   "source": [
    "### (3)$\\begin{cases}\\frac{\\mathrm d^2x}{\\mathrm dt^2}+5\\frac{\\mathrm dy}{\\mathrm dt}-7x+6y=e^{t}\n",
    "\\\\\\frac{\\mathrm d^2y}{\\mathrm dt^2}-2y+13\\frac{\\mathrm dy}{\\mathrm dt}-15x=\\cos t\n",
    "\\end{cases}\n",
    "x(0)=1,x\\prime(0)=0,y(0)=0,y\\prime(0)=1$"
   ]
  },
  {
   "cell_type": "markdown",
   "metadata": {},
   "source": [
    "解：令\n",
    "$$\n",
    "\\begin{cases}\n",
    "w_1(t)=x\\\\w_2(t)=\\frac{dx}{dt}\\\\w_3(t)=y\\\\w_4(t)=\\frac{dy}{dt}\n",
    "\\end{cases}\n",
    "$$\n",
    "\n",
    "记$W=\\begin{pmatrix}w_1(t)\\\\w_2(t)\\\\w_3(t)\\\\w_4(t)\\end{pmatrix}\n",
    "$\n",
    "\n",
    "所以成立\n",
    "\n",
    "$$\n",
    "W\\prime=\\begin{pmatrix}0&1&0&0\\\\7&0&-6&-5\\\\0&0&0&1\\\\15&0&2&-13\\end{pmatrix}W+\\begin{pmatrix}0\\\\e^{t}\\\\0\\\\\\cos t\\end{pmatrix}\n",
    "$$\n",
    "\n",
    "且满足\n",
    "\n",
    "$$\n",
    "W(0)=\\begin{pmatrix}1\\\\0\\\\0\\\\1\\end{pmatrix}\n",
    "$$\n",
    "\n"
   ]
  },
  {
   "cell_type": "markdown",
   "metadata": {},
   "source": [
    "## 题三：试用逐步逼近法求方程组$x\\prime=\\begin{pmatrix}0&1\\\\-1&0\\end{pmatrix}x$满足初值条件$x(0)=\\begin{pmatrix}0\\\\1\\end{pmatrix}$的第三次近似解"
   ]
  },
  {
   "cell_type": "markdown",
   "metadata": {},
   "source": [
    "解：\n",
    "$$\\varphi_0=\\begin{pmatrix}0\\\\1\\end{pmatrix}\\\\\n",
    "\\varphi_1=\\begin{pmatrix}0\\\\1\\end{pmatrix}+\n",
    "\\int_0^t \\begin{pmatrix}0&1\\\\-1&0\\end{pmatrix}\\begin{pmatrix}0\\\\1\\end{pmatrix}\\mathrm ds=\\begin{pmatrix}t\\\\1\\end{pmatrix}\\\\\n",
    "\\varphi_2=\\begin{pmatrix}0\\\\1\\end{pmatrix}+\n",
    "\\int_0^t \\begin{pmatrix}0&1\\\\-1&0\\end{pmatrix}\\begin{pmatrix}s\\\\1\\end{pmatrix}\\mathrm ds=\\begin{pmatrix}t\\\\1-\\frac{t^2}{2}\\end{pmatrix}\\\\\n",
    "\\varphi_3=\\begin{pmatrix}0\\\\1\\end{pmatrix}+\n",
    "\\int_0^t \\begin{pmatrix}0&1\\\\-1&0\\end{pmatrix}\\begin{pmatrix}s\\\\1-\\frac{s^2}{2}\\end{pmatrix}\\mathrm ds=\\begin{pmatrix}t-\\frac{t^3}{6}\\\\1-\\frac{t^2}{2}\\end{pmatrix}\n",
    "$$"
   ]
  },
  {
   "cell_type": "markdown",
   "metadata": {
    "collapsed": true
   },
   "source": [
    "$B^+$"
   ]
  }
 ],
 "metadata": {
  "kernelspec": {
   "display_name": "Python 2",
   "language": "python",
   "name": "python2"
  },
  "language_info": {
   "codemirror_mode": {
    "name": "ipython",
    "version": 2
   },
   "file_extension": ".py",
   "mimetype": "text/x-python",
   "name": "python",
   "nbconvert_exporter": "python",
   "pygments_lexer": "ipython2",
   "version": "2.7.10"
  }
 },
 "nbformat": 4,
 "nbformat_minor": 0
}
