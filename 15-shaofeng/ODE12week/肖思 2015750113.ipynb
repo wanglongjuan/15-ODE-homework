{
 "cells": [
  {
   "cell_type": "markdown",
   "metadata": {},
   "source": [
    "# 1114"
   ]
  },
  {
   "cell_type": "markdown",
   "metadata": {},
   "source": [
    "** 1.求解下列方程:**\n",
    "\n",
    "** (1) $ x x'' - (x')^2 + (x')^3 = 0 $ ;**\n",
    "\n",
    "** (2) $ x'' + \\sqrt{ 1 - (x')^2 } = 0 $ ; **\n",
    "\n",
    "** (3) $ x'' - \\frac{1}{t} x' + (x')^2 = 0 $ (提示:方程两端除以 $ x' $).**"
   ]
  },
  {
   "cell_type": "markdown",
   "metadata": {},
   "source": [
    "**解:**\n",
    "(1) 令 $ x' = y $ ,则 $$ x'' = \\frac{\\mathrm d y}{\\mathrm d x} y $$"
   ]
  },
  {
   "cell_type": "markdown",
   "metadata": {},
   "source": [
    "以 $ x $ 为自变量 ,将上式代入原方程可知:$$ y \\frac{\\mathrm d y}{\\mathrm d x} = y \\frac{y - y^2}{x} $$"
   ]
  },
  {
   "cell_type": "markdown",
   "metadata": {},
   "source": [
    "[1] ${ y = 0 }$,即 $ x = c $,其中$ c $为任意常数 "
   ]
  },
  {
   "cell_type": "markdown",
   "metadata": {},
   "source": [
    "[2] ${ y \\neq 0}$ 等式 $ \\frac{\\mathrm d y}{\\mathrm d x} = \\frac{y - y^2}{x} $ 积分可知:\n",
    "\n",
    "$$ x' = y = \\frac{ c_1x }{1 + c_1x } $$\n",
    "\n",
    "再次积分: $$ x + c_2 \\ln x = t + c_3 $$\n",
    "\n",
    "其中 $ c_1 ,c_2,c_3 $ 为任意常数."
   ]
  },
  {
   "cell_type": "markdown",
   "metadata": {},
   "source": [
    "通解为:$$ x = c \\quad c 为任意常数 $$\n",
    "\n",
    "$$ x + c_2 \\ln x = t + c_3 \\quad c_2,c_3 为任意常数 $$"
   ]
  },
  {
   "cell_type": "markdown",
   "metadata": {},
   "source": [
    "(2)令 $ x' = y $ ,则有 $$ y' y = - \\sqrt{1 - y^2} $$\n",
    "\n",
    "当 $ y^2 \\neq 0 $ 时,得到$$ \\frac{y}{\\sqrt{1 - y^2}} \\mathrm d y = - \\mathrm d x $$ \n",
    "\n",
    "$$ \\sqrt{1 - (x')^2} = \\sqrt{1 - y^2 } = x + c $$\n",
    "\n",
    "所以 $ x' = \\pm \\sqrt{1 - (x+c)^2} $\n",
    "\n",
    "即 $$ x = \\arcsin (x + c) + c_1 $$\n",
    " \n",
    "$$ x = \\arccos (x+c) + c_2  $$\n",
    "\n",
    "其中 $ c ,c_1,c_2 $ 为任意常数.\n"
   ]
  },
  {
   "cell_type": "markdown",
   "metadata": {},
   "source": [
    "当 $ y^2 = 0 $时, 则 $$ x = \\pm t + c_3 $$"
   ]
  },
  {
   "cell_type": "markdown",
   "metadata": {},
   "source": [
    "所以通解为:\n",
    "$$ \\begin{cases}\n",
    "x = \\arcsin ( x + c ) + c_1 或 x = \\arccos ( x + c ) + c_2  \\quad  y^2 \\neq 0 \\\\\n",
    "x = \\pm t + c_3  \\quad y^2 = 0\n",
    "\\end{cases} $$"
   ]
  },
  {
   "cell_type": "markdown",
   "metadata": {},
   "source": [
    "解不对"
   ]
  },
  {
   "cell_type": "markdown",
   "metadata": {},
   "source": [
    "(3)[1]当 $ x' = 0 $ 时,可以解得 $$ x = c $$\n",
    "\n",
    "其中 $ c $ 为任意常数\n",
    "\n",
    "[2] $ x' \\neq 0 $ 时,等式左右两边同时除以 $ x' $ ,得到\n",
    "\n",
    "$$ \\frac{x''}{x'} - \\frac{1}{t} + x' = 0 $$\n",
    "\n",
    "即 $$ \\mathrm d (\\ln |x'| - \\ln |t| + x ) = 0 $$\n",
    "\n",
    "$$ \\ln{ \\frac{x'}{t} } + x = c' $$\n",
    "\n",
    "得到 $$ x' e^{ -x} = c''t  $$\n",
    "\n",
    "即 $$ e^x = c_1 t^2 + c_2 $$\n",
    "\n",
    "其中 $ c_1 ,c_2 $ 为任意常数\n",
    "\n",
    "所以方程的通解为 \n",
    "\n",
    "$$ x = c $$\n",
    "\n",
    "$$ e^x = c_1 t^2 + c_2 $$\n",
    "\n",
    "其中 $ c ,c_1 ,c_2 $ 为任意常数"
   ]
  },
  {
   "cell_type": "markdown",
   "metadata": {},
   "source": [
    "** 2.用幂级数解法求解下列方程: **\n",
    "\n",
    "** $ (1 - t) x'' + x = 0 $ **"
   ]
  },
  {
   "cell_type": "markdown",
   "metadata": {},
   "source": [
    "**解:**将原式化为 $$ x'' + \\frac{x}{1-t} = 0 $$\n",
    "\n",
    "因为 $ p(t) = 0 ,q(t) = \\frac{1}{1-t} $都能展开成幂级数的形式,所以可以令\n",
    "\n",
    "$$ x = a_0 + a_1t + a_2t^2 + a_3t^3 + \\dots + a_nt^n + \\dots $$\n",
    "\n"
   ]
  },
  {
   "cell_type": "markdown",
   "metadata": {},
   "source": [
    "$$ x' = a_1 + 2a_2t + 3a_3t^2 + 4a_4t^3 + \\dots $$\n",
    "\n",
    "$$ x'' = 2a_2 + 3 \\times 2 a_3 t + 4 \\times 3 a_4 t^2 + \\dots $$\n"
   ]
  },
  {
   "cell_type": "markdown",
   "metadata": {},
   "source": [
    "将 $ x ,x'' $代入方程中,比较同次幂系数:\n",
    "\n",
    "$ 2a_2 + a_0 = 0 , 3 \\times 2 a_3 - 2 a_ 2 + a_1 = 0 , 4 \\times 3 a_4 - 3 \\times 2 a_3 + a_2 = 0 $"
   ]
  },
  {
   "cell_type": "markdown",
   "metadata": {},
   "source": [
    "通过数学归纳法可知:$$ k(k-1)a_k - (k-1)(k-2)a_{k-1} + a_{k-2} = 0 $$ "
   ]
  },
  {
   "cell_type": "markdown",
   "metadata": {},
   "source": [
    "设 $ x(0) = c_1 ,x'(0) = c_2 $ ,则 $ a_0 = c_1 ,a_1 = c_2 $\n",
    "\n",
    "$ a_2 = -\\frac{1}{2}c_1 ,a_3 = \\frac{1}{3!}c_1 - \\frac{1}{3!}c_2 $ \n",
    "\n",
    "由 $ a_k = \\frac{k - 2}{k} a_{k-1} - \\frac{1}{k(k-1)} a_{k-2} $ 可知:\n",
    "\n",
    "$$ x = c_1(1 - \\frac{1}{2!}t^2 - \\frac{1}{3!} t^3 - \\frac{1}{4!} t^4 - \\frac{2}{5!} t^5 - \\dots ) + c_2(t - \\frac{1}{2!} t^2 - \\frac{1}{3!} t^3 - \\frac{2}{4!}t^4 - \\frac{5}{5!}t^5 - \\dots ) $$\n",
    "\n",
    "其中 $ c_1,c_2 $ 为任意常数"
   ]
  },
  {
   "cell_type": "markdown",
   "metadata": {},
   "source": [
    "# 1116"
   ]
  },
  {
   "cell_type": "markdown",
   "metadata": {},
   "source": [
    "** 1.将下面的初值问题化为与之等价的一阶方程组的初值问题:**\n",
    "\n",
    "$$ \\begin{cases}\n",
    "x'' + 5y' - 7x + 6y = e^t \\\\\n",
    "y'' - 2y + 13y' -15x = \\cos t\n",
    "\\end {cases}$$\n",
    "\n",
    "$ x(0) = 1 ,x'(0) = 0 ,y(0) = 0 , y'(0) = 1 .$\n",
    "\n",
    "**(提示:令 $ w_1 = x ,w_2 = x' ,w_3 = y ,w_4 = y' $ .)**"
   ]
  },
  {
   "cell_type": "markdown",
   "metadata": {},
   "source": [
    "**解:** 令$$ \\mathbf w =[w_1,w_2,w_3,w_4]^T $$\n",
    "其中 $ w_1 = x ,w_2 = x' ,w_3 = y ,w_4 = y' $\n",
    "\n",
    "方程组可化为:\n",
    "\n",
    "$$\\begin{cases}\n",
    "w_2' = x'' = e^t - 5 w_4 + 7 w_1 - 6 w_3 \\\\\n",
    "w_4' = y'' = \\cos t + 2 w_3 - 13 w_4 + 15 w_1 \n",
    "\\end{cases}$$\n",
    "\n"
   ]
  },
  {
   "cell_type": "markdown",
   "metadata": {},
   "source": [
    "即 $ \\mathbf w' =\n",
    "\\begin{bmatrix}\n",
    "w_2 \\\\\n",
    "e^t - 5 w_4 + 7 w_1 - 6 w_3 \\\\\n",
    "w_4 \\\\\n",
    "\\cos t + 2 w_3 - 13 w_4 + 15 w_1 \n",
    "\\end{bmatrix} \n",
    "=\n",
    "\\begin{bmatrix}\n",
    "0 & 1 & 0 & 0 \\\\\n",
    "7 & 0 & -6 & -5 \\\\\n",
    "0 & 0 & 0 & 1 \\\\\n",
    "15 & 0 & 2 & -13\n",
    "\\end{bmatrix}\n",
    "\\mathbf w +\n",
    "\\begin{bmatrix}\n",
    "0\\\\\n",
    "e^t \\\\\n",
    "0 \\\\\n",
    "\\cos t\n",
    "\\end{bmatrix} $\n",
    "\n",
    "$ \\mathbf w(0) = \n",
    "\\begin{bmatrix}\n",
    "1\\\\\n",
    "0\\\\\n",
    "0\\\\\n",
    "1\n",
    "\\end{bmatrix} $"
   ]
  },
  {
   "cell_type": "markdown",
   "metadata": {},
   "source": [
    "** 2.试用逐步逼近法求方程组**\n",
    "\n",
    "$$ \\mathbf x' = \\begin{bmatrix}\n",
    "0 &  1 \\\\\n",
    "-1 & 0 \n",
    "\\end {bmatrix}\n",
    "\\mathbf x\n",
    "$$\n",
    "\n",
    "**满足初值条件**\n",
    "\n",
    "$$ \\mathbf x(0) =\n",
    "\\begin{bmatrix}\n",
    "0\\\\\n",
    "1\n",
    "\\end{bmatrix}\n",
    "$$\n",
    "\n",
    "**的第三次近似解. **"
   ]
  },
  {
   "cell_type": "markdown",
   "metadata": {},
   "source": [
    "**解:**令方程组的解为 $ \\mathbf \\varphi (t)$ ,取 \n",
    "$ \\mathbf \\varphi_0 (t) = \n",
    "\\begin{bmatrix}\n",
    "0\\\\\n",
    "1\n",
    "\\end{bmatrix}\n",
    "$"
   ]
  },
  {
   "cell_type": "markdown",
   "metadata": {},
   "source": [
    "则第一次近似解为\n",
    "\n",
    "$$  \\varphi_1(t) = \\varphi_0(t) + \\int_0^t {\\mathbf A(s) \\varphi_0 (s)} \\mathrm d s = \n",
    "\\begin{bmatrix} 0 \\\\ 1 \\end {bmatrix} + \n",
    "\\int_0^t { \\begin{bmatrix} 0 & 1 \\\\ -1 & 0 \\end{bmatrix} \\begin{bmatrix} 0 \\\\ 1 \\end {bmatrix}} \\mathrm d s = \n",
    "\\begin{bmatrix} t \\\\ 1 \\end{bmatrix} $$"
   ]
  },
  {
   "cell_type": "markdown",
   "metadata": {},
   "source": [
    "第二次近似解为\n",
    "\n",
    "$$ \\varphi_2(t) = \\varphi_0(t) + \\int_0^t {\\mathbf A(s) \\varphi_1 (s)} \\mathrm d s = \n",
    "\\begin{bmatrix} 0 \\\\ 1 \\end {bmatrix} + \n",
    "\\int_0^t { \\begin{bmatrix} 0 & 1 \\\\ -1 & 0 \\end{bmatrix} \\begin{bmatrix} s \\\\ 1 \\end {bmatrix}} \\mathrm d s = \n",
    "\\begin{bmatrix} t \\\\ 1 - \\frac{t^2}{2} \\end{bmatrix} $$"
   ]
  },
  {
   "cell_type": "markdown",
   "metadata": {},
   "source": [
    "第三次近似解为\n",
    "\n",
    "$$ \\varphi_3(t) = \\varphi_0(t) + \\int_0^t {\\mathbf A(s) \\varphi_2 (s)} \\mathrm d s =\n",
    "\\begin{bmatrix} 0 \\\\ 1 \\end {bmatrix} + \n",
    "\\int_0^t { \\begin{bmatrix} 0 & 1 \\\\ -1 & 0 \\end{bmatrix} \\begin{bmatrix} s \\\\ 1 - \\frac{s^2}{2} \\end {bmatrix}} \\mathrm d s =\n",
    "\\begin{bmatrix} t - \\frac{t^3}{6} \\\\ 1 - \\frac{t^2}{2} \\end{bmatrix} $$"
   ]
  },
  {
   "cell_type": "markdown",
   "metadata": {
    "collapsed": true
   },
   "source": [
    "$A$"
   ]
  },
  {
   "cell_type": "code",
   "execution_count": null,
   "metadata": {
    "collapsed": true
   },
   "outputs": [],
   "source": []
  }
 ],
 "metadata": {
  "kernelspec": {
   "display_name": "SageMath 7.3",
   "language": "",
   "name": "sagemath"
  },
  "language_info": {
   "codemirror_mode": {
    "name": "ipython",
    "version": 2
   },
   "file_extension": ".py",
   "mimetype": "text/x-python",
   "name": "python",
   "nbconvert_exporter": "python",
   "pygments_lexer": "ipython2",
   "version": "2.7.10"
  }
 },
 "nbformat": 4,
 "nbformat_minor": 0
}
