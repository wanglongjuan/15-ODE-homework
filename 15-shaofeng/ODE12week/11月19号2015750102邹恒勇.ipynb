{
 "cells": [
  {
   "cell_type": "markdown",
   "metadata": {},
   "source": [
    "# 1：解下列方程"
   ]
  },
  {
   "cell_type": "markdown",
   "metadata": {},
   "source": [
    "## （1）$xx''-(x')^2+(x')^3=0$"
   ]
  },
  {
   "cell_type": "markdown",
   "metadata": {},
   "source": [
    "### 解\n",
    "\n",
    "令$x'=y,$\n",
    "\n",
    "则原式为$$xy=y^2+y^3=0$$\n",
    "可得$y=0$或$x\\frac{dy}{dx}=y-y^2$\n",
    "\n",
    "(1)则$$\\frac{1}{y-y^2}dy=\\frac{1}{x}dx$$\n",
    "$$=>\\frac{y}{1-y}=c_1x$$\n",
    "$$=>\\frac{\\frac{dx}{dt}}{1-\\frac{dx}{dt}}=c_1x$$\n",
    "$$=>(1+\\frac{1}{c_1x})dx=dt$$\n",
    "$$x+c_2ln|x|=t+c_3$$\n",
    "(2)$y=0$时，可知$x=c$\n",
    "\n",
    "所以方程的解为$x=c$或$x+c_2ln|x|=t+c_3$"
   ]
  },
  {
   "cell_type": "markdown",
   "metadata": {},
   "source": [
    "## (2)$x''+\\sqrt{1-(x')^2}=0$"
   ]
  },
  {
   "cell_type": "markdown",
   "metadata": {},
   "source": [
    "### 解\n",
    "\n",
    "令$x'=y$,\n",
    "\n",
    "当$y\\neq -1or1$则变为$y\\frac{dy}{dx}+\\sqrt{1-y^2}=0$\n",
    "$$=>\\frac{y}{\\sqrt{1-y^2}}=-dx$$\n",
    "积分得$$\\sqrt{1-y^2}=x+c$$\n",
    "$$=>\\sqrt{1-(\\frac{dx}{dt})^2}=x+c$$\n",
    "$$=>\\frac{dx}{dt}=\\sqrt{1-(x+c)^2}或\\frac{dx}{dt}=-\\sqrt{1-(x+c)^2}$$\n",
    "可得$x=sin(x+c_1)+c_2$or$x=cos(x+c_1)+c_2$\n",
    "\n",
    "而$y=1or-1$时，$x=t+c$或$x=-t+c$"
   ]
  },
  {
   "cell_type": "markdown",
   "metadata": {},
   "source": [
    "## (3)$x''-\\frac{1}{t}x'+(x')^2=0$"
   ]
  },
  {
   "cell_type": "markdown",
   "metadata": {},
   "source": [
    "### 解\n",
    "\n",
    "方程两端除以$x'$,可得$\\frac{x''}{x'}-\\frac{1}{t}+x'=0$\n",
    "\n",
    "再两端对t积分$$ln|x'|-ln t+x=c$$\n",
    "进行化简$$\\frac{x'}{t}=e^{c-x}$$\n",
    "再次积分$$e^x=c_2(t^2+c_1)$$\n",
    "\n",
    "则方程的通解为$x=ln(c_2(t^2+c_1))$"
   ]
  },
  {
   "cell_type": "markdown",
   "metadata": {},
   "source": [
    "# 2：用幂级数解法解下列方程"
   ]
  },
  {
   "cell_type": "markdown",
   "metadata": {},
   "source": [
    "## （1）$(1-t)x''+x=0$"
   ]
  },
  {
   "cell_type": "markdown",
   "metadata": {},
   "source": [
    "### 解\n",
    "\n",
    "设$x=a_0+a_1t+a_2t^2+\\cdots +a_nt^n+\\cdots$为方程的解，这个$a_i$为待定常数\n",
    "\n",
    "所以有$x''=2\\cdot t_2+3\\cdot 2t_3+\\cdots +n(n-1)a_nt^{n-2}+\\cdots$\n",
    "\n",
    "将$x,x''$代入方程，比较t的同次幂，得到\n",
    "\n",
    "$\\begin{cases}\n",
    "a_0+2a_2=0,\\\\\n",
    "a_1+3*2a_3-2a_2=0,\\\\\n",
    "\\cdots\\\\\n",
    "n(n-1)a_n+a_{n-2}-(n-1)(n-2)a_{n-1}=0 \n",
    "\\end{cases}$\n",
    "\n",
    "我们求通解，不妨设两个线性无关解$x_1(t),x_2(t)$满足\n",
    "$$x_1(0)=0,x_1'(0)=1,x_2(0)=1,x_2'(0)=0$$\n",
    "对于$x_1(t),有：a_0=0,a_1=1$,代入方程组，得：\n",
    "\n",
    "$a_2=0,a_3=-\\frac{1}{3*2},a_4=-\\frac{1}{4*3},a_5=-\\frac{5}{5*4*3*2},\\cdots,a_n=\\frac{(n-1)(n-2)a_{n-1}-a_{n-2}}{n(n-1)}$\n",
    "\n",
    "即：$x_1(t)=t-\\frac{t^3}{3!}-\\frac{2t^4}{4!}-\\frac{5t^5}{5!}-\\cdots$\n",
    "\n",
    "对于$x_2(t)$,有：$a_0=1,a_1=0$,代入方程组，得：\n",
    "\n",
    "$a_2=-\\frac{1}{2},a_3=-\\frac{1}{3*2},a_4=-\\frac{-1}{4*3*2},\\cdots ,a_n=\\frac{(n-1)(n-2)a_{n-1}-a_{n-2}}{n(n-1)}$\n",
    "\n",
    "即：$x_2(t)=1-\\frac{1}{2!}t^2-\\frac{1}{3!}t^3-\\frac{1}{4!}t^4-\\cdots$\n",
    "\n",
    "综上，方程的通解为$x=c_1x_1(t)+c_2x_2(t)=c_1(t-\\frac{t^3}{3!}-\\frac{2t^4}{4!}-\\frac{5t^5}{5!}...)+c_2(1-\\frac{1}{2!}t^2-\\frac{1}{3!}t^3-\\frac{1}{4!}t^4-...)$"
   ]
  },
  {
   "cell_type": "markdown",
   "metadata": {},
   "source": [
    "# 3.将下列初值问题化为与之等价的一阶方程组的初值问题。"
   ]
  },
  {
   "cell_type": "markdown",
   "metadata": {},
   "source": [
    "##  （1）  $\\begin{cases}x''+5y'-7x+6y=e^t,\\\\\n",
    "   y''-2y+13y'-15x=\\cos t,\\end{cases}$\n",
    "   \n",
    "##   $x(0)=1,x'(0)=0,y(0)=0,y'(0)=1$ "
   ]
  },
  {
   "cell_type": "markdown",
   "metadata": {},
   "source": [
    "### 解\n",
    "\n",
    "令$\\omega_1=x,\\omega_2=x',\\omega_3=y,\\omega_4=y',$\n",
    "\n",
    "则原初值问题可化为\n",
    "$\\begin{cases}\n",
    "\\omega_1'=x'=\\omega_2\\\\\n",
    "\\omega_2'=x''=7\\omega_1-6\\omega_3-5\\omega_4+e^t\\\\\n",
    "\\omega_3'=y'=\\omega_4\\\\\n",
    "\\omega_4=y''=15\\omega_1+2\\omega_3-13\\omega_4+cos t \n",
    "\\end{cases}$且\n",
    "$\\begin{cases}\n",
    "\\omega_1（0）=x(0)=1\\\\\n",
    "\\omega_2（0）=x'(0)=0\\\\\n",
    "\\omega_3（0）=y(0)=0\\\\\n",
    "\\omega_4（0）=y'(0)=1\n",
    "\\end{cases}$\n",
    "\n",
    "即$\\omega'$=\n",
    "$\\begin{pmatrix}  0&1&0&0 \\\\ 7&0&-6&-5 \\\\ 0&0&0&1 \\\\ 15&0&2&-13 \\\\  \\end{pmatrix}$\n",
    "$\\omega$+\n",
    "$\\begin{pmatrix} 0\\\\e^t\\\\0\\\\cos t \\end{pmatrix}$       \n",
    "初值条件为$\\omega(0)=\\begin{pmatrix}1\\\\0\\\\0\\\\1\\end{pmatrix}.$\n",
    "其中$\\omega=\\begin{pmatrix} \\omega_1 \\\\ \\omega_2 \\\\ \\omega_3 \\\\ \\omega_4 \\end{pmatrix}$"
   ]
  },
  {
   "cell_type": "markdown",
   "metadata": {},
   "source": [
    "# 4. 试用逐步逼近法求方程组$$x'=\\begin{bmatrix}  0&1\\\\-1&0 \\end{bmatrix}x$$\n",
    "# 满足初值条件$$x(0)=\\begin{bmatrix}0\\\\1\\end{bmatrix}$$\n",
    "# 的第三次近似解。 #"
   ]
  },
  {
   "cell_type": "markdown",
   "metadata": {},
   "source": [
    "### 解：\n",
    "\n",
    "$\\varphi_0(t)=\\begin{bmatrix} 0\\\\1 \\end{bmatrix}$\n",
    "\n",
    "$\\varphi_1(t)=\\begin{bmatrix} 0\\\\1 \\end{bmatrix}+ \\int_0^t\\begin{bmatrix} 0&1\\\\-1&0 \\end{bmatrix}\\begin{bmatrix} 0\\\\1 \\end{bmatrix}ds\n",
    "=\\begin{bmatrix} 0\\\\1 \\end{bmatrix}+ \\int_0^t\\begin{bmatrix} 1\\\\0 \\end{bmatrix}ds\n",
    "=\\begin{bmatrix} 0\\\\1 \\end{bmatrix}+ \\begin{bmatrix} t\\\\0 \\end{bmatrix}\n",
    "=\\begin{bmatrix} t\\\\1 \\end{bmatrix}$\n",
    "\n",
    "$\\varphi_2(t)=\\begin{bmatrix} 0\\\\1 \\end{bmatrix}+ \\int_0^t\\begin{bmatrix} 0&1\\\\-1&0 \\end{bmatrix}\\begin{bmatrix} s\\\\1 \\end{bmatrix}ds\n",
    "=\\begin{bmatrix} 0\\\\1 \\end{bmatrix}+ \\int_0^t\\begin{bmatrix} 1\\\\-s \\end{bmatrix}ds\n",
    "=\\begin{bmatrix} 0\\\\1 \\end{bmatrix}+ \\begin{bmatrix} t\\\\-\\frac{1}{2}t^2 \\end{bmatrix}\n",
    "=\\begin{bmatrix} t\\\\1-\\frac{1}{2}t^2  \\end{bmatrix}$\n",
    "\n",
    "$\\varphi_3(t)=\\begin{bmatrix} 0\\\\1 \\end{bmatrix}+ \\int_0^t\\begin{bmatrix} 0&1\\\\-1&0 \\end{bmatrix}\\begin{bmatrix} s\\\\1-\\frac{1}{2}s^2 \\end{bmatrix}ds\n",
    "=\\begin{bmatrix} 0\\\\1 \\end{bmatrix}+ \\int_0^t\\begin{bmatrix} 1-\\frac{1}{2}s^2\\\\-s \\end{bmatrix}ds\n",
    "=\\begin{bmatrix} 0\\\\1 \\end{bmatrix}+ \\begin{bmatrix} t-\\frac{t^3}{6}\\\\-\\frac{1}{2}t^2 \\end{bmatrix}$\n",
    "\n",
    "所以第三次近似解为$\\varphi_3(t)=\\begin{bmatrix} t-\\frac{t^3}{6}\\\\1-\\frac{1}{2}t^2 \\end{bmatrix}$"
   ]
  },
  {
   "cell_type": "markdown",
   "metadata": {
    "collapsed": true
   },
   "source": [
    "$B$"
   ]
  },
  {
   "cell_type": "code",
   "execution_count": null,
   "metadata": {
    "collapsed": true
   },
   "outputs": [],
   "source": []
  }
 ],
 "metadata": {
  "kernelspec": {
   "display_name": "SageMath 7.3",
   "language": "",
   "name": "sagemath"
  },
  "language_info": {
   "codemirror_mode": {
    "name": "ipython",
    "version": 2
   },
   "file_extension": ".py",
   "mimetype": "text/x-python",
   "name": "python",
   "nbconvert_exporter": "python",
   "pygments_lexer": "ipython2",
   "version": "2.7.10"
  }
 },
 "nbformat": 4,
 "nbformat_minor": 0
}
