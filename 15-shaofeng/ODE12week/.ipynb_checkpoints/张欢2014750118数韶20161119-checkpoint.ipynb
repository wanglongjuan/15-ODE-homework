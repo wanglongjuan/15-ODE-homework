{
 "cells": [
  {
   "cell_type": "markdown",
   "metadata": {},
   "source": [
    "# Page 182"
   ]
  },
  {
   "cell_type": "markdown",
   "metadata": {},
   "source": [
    "## 1.求解下列方程"
   ]
  },
  {
   "cell_type": "markdown",
   "metadata": {},
   "source": [
    "### （2）$xx^{(2)}-(x^{\\prime})^2+(x^{\\prime})^3=0$"
   ]
  },
  {
   "cell_type": "markdown",
   "metadata": {},
   "source": [
    "**解：**令$$x^{\\prime}=y \\  \\ \\implies x^{(2)}=x^{\\prime}\\frac{dy}{dx}$$\n",
    "\n",
    "则原方程化为$$xy\\frac{dy}{dx}-y^2+y^3=0$$\n",
    "\n",
    "解得$$y=0 (1)或者x\\frac{dy}{dx}-y+y^2=0(2)$$\n",
    "\n",
    "(2)可化为$$\\frac{dy}{y-y^2}=\\frac{dx}{x}$$\n",
    "\n",
    "解得$$y=c_1(x-xy)$$\n",
    "\n",
    "得到$$x+c_1ln|x|=t+c_2$$\n",
    "\n",
    "综上，方程的解为$$x=c或x+c_1ln|x|=t+c_2 \\ \\ (c,c_1,c_2为任意常数)$$"
   ]
  },
  {
   "cell_type": "markdown",
   "metadata": {},
   "source": [
    "### （4）$x^{(2)}+ \\sqrt {1-(x^{\\prime})^2}=0$"
   ]
  },
  {
   "cell_type": "markdown",
   "metadata": {},
   "source": [
    "**解：**令$$x^{\\prime}=y \\  \\ \\implies x^{(2)}=\\frac{dy}{dt}$$\n",
    "\n",
    "则原方程化为$$\\frac{dy}{dt}+ \\sqrt{1-y^2}=0$$\n",
    "\n",
    "即$$\\frac{dy}{\\sqrt{1-y^2}}=-dt$$\n",
    "\n",
    "解得$$y=sin(-t+c_1)$$\n",
    "\n",
    "得到$$x=cos(t+c_1)+c_2$$\n",
    "\n",
    "此外，显然$x=t+c_3$也是方程的解\n",
    "\n",
    "所以方程的解为$$x=t+c_3或x=cos(t+c_1)+c_2 \\ \\ (c_1,c_2,c_3为任意常数)$$"
   ]
  },
  {
   "cell_type": "markdown",
   "metadata": {},
   "source": [
    "### （6）$x^{(2)}-\\frac{1}{t}x^{\\prime}+(x^{\\prime})^2=0$"
   ]
  },
  {
   "cell_type": "markdown",
   "metadata": {},
   "source": [
    "**解：**两边同时除以$x^{\\prime}$\n",
    "\n",
    "得$$d(lnx^{\\prime}-lnt+x)=0$$\n",
    "\n",
    "$$\\implies ln\\frac{x^{\\prime}}{t}=-x+c_1$$\n",
    "\n",
    "$$\\implies x^{\\prime}=t\\cdot exp(-x+c_1)$$\n",
    "\n",
    "求得$$x=ln(\\frac{1}{2}t^c_2)+c_3$$\n",
    "\n",
    "此外，显然$x=c_1$也是方程的解\n",
    "\n",
    "所以方程的解为$$x=c_1或x=ln(\\frac{1}{2}t^c_2)+c_3 \\ \\ (c_1,c_2,c_3为任意常数)$$"
   ]
  },
  {
   "cell_type": "markdown",
   "metadata": {},
   "source": [
    "## 2.用幂级数解法求解下列方程"
   ]
  },
  {
   "cell_type": "markdown",
   "metadata": {},
   "source": [
    "### （2）$(1-t)x^{(2)}+x=0$"
   ]
  },
  {
   "cell_type": "markdown",
   "metadata": {},
   "source": [
    "**解：**方程可化为$x^{(2)}+\\frac{x}{1-t}=0$,因$tp(t)=0,t^2q(t)=\\frac{t^2}{1-t}$,故存在幂级数解\n",
    "\n",
    "设解为$$x=a_0+a_1t+\\dots+a_nt^n+\\dots$$\n",
    "\n",
    "则$x^{(2)}=2a_2+\\dots+n(n-1)a_nt^{n-2}+\\dots$\n",
    "\n",
    "比较系数有$$2a_2+a_0=0,6a_3-2a_2+a_1=0,k(k-1)a_k-(k-1)(k-2)a_{k-1}+a_{k-2}=0(k>3)$$\n",
    "\n",
    "设$$x_1(t),x_2(t)满足初值条件x_1(0)=0,x_1'(0)=1,x_2(0)=1,x_2'(0)=0的两个解$$\n",
    "\n",
    "对于$x_1(t),有：a_0=0,a_1=1,代入上式$，得：\n",
    "\n",
    "$a_2=0,a_3=-\\frac{1}{3\\cdot2},a_4=-\\frac{1}{4\\cdot3},a_5=-\\frac{5}{5\\cdot4\\cdot3\\cdot2},...,a_n=\\frac{(n-1)(n-2)a_{n-1}-a_{n-2}}{n(n-1)}$\n",
    "\n",
    "即：$x_1(t)=t-\\frac{t^3}{3!}-\\frac{2t^4}{4!}-\\frac{5t^5}{5!}...$\n",
    "\n",
    "同理对于$x_2$可得到\n",
    "\n",
    "$x_2(t)=1-\\frac{1}{2!}t^2-\\frac{1}{3!}t^3-\\frac{1}{4!}t^4-...$\n",
    "\n",
    "综上，方程的通解为：\n",
    "\n",
    "$x=c_1x_1(t)+c_2x_2(t)=c_1(t-\\frac{t^3}{3!}-\\frac{2t^4}{4!}-\\frac{5t^5}{5!}...)+c_2(1-\\frac{1}{2!}t^2-\\frac{1}{3!}t^3-\\frac{1}{4!}t^4-...)(c_1,c_2,c_3为任意常数）$"
   ]
  },
  {
   "cell_type": "markdown",
   "metadata": {},
   "source": [
    "## 3.将下面的初值问题化为与之等价的一阶方程组的初值问题"
   ]
  },
  {
   "cell_type": "markdown",
   "metadata": {},
   "source": [
    "（1）$\\begin{cases}\n",
    "        x''+5y'-7x+6y=e^t\\\\\n",
    "          y''-2y+13y'-15x=cost\\\\\n",
    "          \\end{cases}$          \n",
    "          $x(0)=1,x'(0)=0,y(0)=0,y'(0)=1$\n",
    "          （提示$：令ω_1=x,ω-2=x',ω_3=y,ω_4=y'$）"
   ]
  },
  {
   "cell_type": "markdown",
   "metadata": {},
   "source": [
    "**解：**令$ω_1=x,ω_2=x',ω_3=y,ω_4=y'$\n",
    "\n",
    "$\\begin{pmatrix}\n",
    "ω_1&ω_2&ω_3&ω_4\\\\\n",
    "\\end{pmatrix}$'\n",
    "=\n",
    "$\\begin{pmatrix}\n",
    "0&1&0&0\\\\\n",
    "7&0&-6&-5\\\\\n",
    "0&0&0&1\\\\\n",
    "15&0&2&-13\\\\\n",
    "\\end{pmatrix}$\n",
    "$\\begin{pmatrix}\n",
    "ω_1\\\\\n",
    "ω_2\\\\\n",
    "ω_3\\\\\n",
    "ω_4\\\\\n",
    "\\end{pmatrix}$\n",
    "+\n",
    "$\\begin{pmatrix}\n",
    "0\\\\\n",
    "e^t\\\\\n",
    "0\\\\\n",
    "cost\\\\\n",
    "\\end{pmatrix}$\n",
    "\n",
    "初值条件为$ω_1(0)=1,ω_2(0)=0,ω_3(0)=0,ω_4(0)=1$"
   ]
  },
  {
   "cell_type": "markdown",
   "metadata": {},
   "source": [
    "## 4.试用逐步逼近法求方程组\n",
    "\n",
    "## $x'=\n",
    "\\begin{bmatrix}\n",
    "0&1\\\\\n",
    "-1&0\\\\\n",
    "\\end{bmatrix}$x\n",
    "满足初值条件$x(0)=\\begin{bmatrix}0\\\\1\\\\\\end{bmatrix}$的第三次近似解"
   ]
  },
  {
   "cell_type": "markdown",
   "metadata": {},
   "source": [
    "**解：**$ψ_0(t)=\n",
    "\\begin{bmatrix}\n",
    "0\\\\\n",
    "1\\\\\n",
    "\\end{bmatrix}$"
   ]
  },
  {
   "cell_type": "markdown",
   "metadata": {},
   "source": [
    "$ψ_1(t)$\n",
    "\n",
    "=\n",
    "$\\begin{bmatrix}\n",
    "0\\\\\n",
    "1\\\\\n",
    "\\end{bmatrix}$\n",
    "+\n",
    "$\\int_0^t\n",
    "\\begin{bmatrix}\n",
    "0&1\\\\\n",
    "-1&0\\\\\n",
    "\\end{bmatrix}\n",
    "\\begin{bmatrix}\n",
    "0\\\\\n",
    "1\\\\\n",
    "\\end{bmatrix}\n",
    "dt$\n",
    "\n",
    "=\n",
    "$\\begin{bmatrix}\n",
    "0\\\\\n",
    "1\\\\\n",
    "\\end{bmatrix}$\n",
    "+\n",
    "$\\int_0^t\n",
    "\\begin{bmatrix}\n",
    "1\\\\\n",
    "0\\\\\n",
    "\\end{bmatrix}\n",
    "dt$\n",
    "\n",
    "=\n",
    "$\\begin{bmatrix}\n",
    "0\\\\\n",
    "1\\\\\n",
    "\\end{bmatrix}$\n",
    "+\n",
    "$\\begin{bmatrix}\n",
    "t\\\\\n",
    "0\\\\\n",
    "\\end{bmatrix}$\n",
    "\n",
    "=\n",
    "$\\begin{bmatrix}\n",
    "t\\\\\n",
    "1\\\\\n",
    "\\end{bmatrix}$"
   ]
  },
  {
   "cell_type": "markdown",
   "metadata": {},
   "source": [
    "$ψ_2(t)$\n",
    "\n",
    "=\n",
    "$\\begin{bmatrix}\n",
    "0\\\\\n",
    "1\\\\\n",
    "\\end{bmatrix}$\n",
    "+\n",
    "$\\int_0^t$\n",
    "$\\begin{bmatrix}\n",
    "0&1\\\\\n",
    "-1&0\\\\\n",
    "\\end{bmatrix}$\n",
    "$\\begin{bmatrix}\n",
    "t\\\\\n",
    "1\\\\\n",
    "\\end{bmatrix}\n",
    "dt$\n",
    "\n",
    "=\n",
    "$\\begin{bmatrix}\n",
    "0\\\\\n",
    "1\\\\\n",
    "\\end{bmatrix}$\n",
    "+\n",
    "$\\int_0^t$\n",
    "$\\begin{bmatrix}\n",
    "1\\\\\n",
    "-t\\\\\n",
    "\\end{bmatrix}\n",
    "dt$\n",
    "\n",
    "=\n",
    "$\\begin{bmatrix}\n",
    "0\\\\\n",
    "1\\\\\n",
    "\\end{bmatrix}$\n",
    "+\n",
    "$\\begin{bmatrix}\n",
    "t\\\\\n",
    "-\\frac{1}{2}t^2\\\\\n",
    "\\end{bmatrix}$\n",
    "\n",
    "=\n",
    "$\\begin{bmatrix}\n",
    "t\\\\\n",
    "1-\\frac{1}{2}t^2\\\\\n",
    "\\end{bmatrix}$"
   ]
  },
  {
   "cell_type": "markdown",
   "metadata": {},
   "source": [
    "$ψ_3(t)$\n",
    "\n",
    "=\n",
    "$\\begin{bmatrix}\n",
    "0\\\\\n",
    "1\\\\\n",
    "\\end{bmatrix}$\n",
    "+\n",
    "$\\int_0^t$\n",
    "$\\begin{bmatrix}\n",
    "0&1\\\\\n",
    "-1&0\\\\\n",
    "\\end{bmatrix}$\n",
    "$\\begin{bmatrix}\n",
    "t\\\\\n",
    "1-\\frac{1}{2}t^2\\\\\n",
    "\\end{bmatrix}\n",
    "dt$\n",
    "\n",
    "=\n",
    "$\\begin{bmatrix}\n",
    "0\\\\\n",
    "1\\\\\n",
    "\\end{bmatrix}$\n",
    "+\n",
    "$\\int_0^t$\n",
    "$\\begin{bmatrix}\n",
    "1-\\frac{1}{2}t^2\\\\\n",
    "-t\\\\\n",
    "\\end{bmatrix}\n",
    "dt$\n",
    "\n",
    "=\n",
    "$\\begin{bmatrix}\n",
    "0\\\\\n",
    "1\\\\\n",
    "\\end{bmatrix}$\n",
    "+\n",
    "$\\begin{bmatrix}\n",
    "t-\\frac{1}{6}t^3\\\\\n",
    "-\\frac{1}{2}t^2\\\\\n",
    "\\end{bmatrix}$\n",
    "\n",
    "=\n",
    "$\\begin{bmatrix}\n",
    "t-\\frac{1}{6}t^3\\\\\n",
    "1-\\frac{1}{2}t^2\\\\\n",
    "\\end{bmatrix}$\n"
   ]
  },
  {
   "cell_type": "markdown",
   "metadata": {},
   "source": [
    "所以满足处置条件$x(0)=\\begin{bmatrix}0\\\\1\\\\\\end{bmatrix}$的第三次近似解为：\n",
    "\n",
    "$ψ_3(t)$=\n",
    "$\\begin{bmatrix}\n",
    "t-\\frac{1}{6}t^3\\\\\n",
    "1-\\frac{1}{2}t^2\\\\\n",
    "\\end{bmatrix}$\n"
   ]
  },
  {
   "cell_type": "markdown",
   "metadata": {},
   "source": [
    "$A$"
   ]
  }
 ],
 "metadata": {
  "kernelspec": {
   "display_name": "SageMath 7.3",
   "language": "",
   "name": "sagemath"
  },
  "language_info": {
   "codemirror_mode": {
    "name": "ipython",
    "version": 2
   },
   "file_extension": ".py",
   "mimetype": "text/x-python",
   "name": "python",
   "nbconvert_exporter": "python",
   "pygments_lexer": "ipython2",
   "version": "2.7.10"
  }
 },
 "nbformat": 4,
 "nbformat_minor": 0
}
