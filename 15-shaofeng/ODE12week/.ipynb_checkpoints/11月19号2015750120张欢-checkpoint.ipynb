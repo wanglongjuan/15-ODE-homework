{
 "cells": [
  {
   "cell_type": "markdown",
   "metadata": {},
   "source": [
    "# 1.求解下列方程。#"
   ]
  },
  {
   "cell_type": "markdown",
   "metadata": {},
   "source": [
    "## （1）$xx''-(x')^2+(x')^3=0$##"
   ]
  },
  {
   "cell_type": "markdown",
   "metadata": {},
   "source": [
    "解：令$x'=y$,则有：$xy\\frac{dy}{dx}-y^2+y^3=0$\n",
    "\n",
    "\n",
    "解得：$y=0或\\frac{dy}{dx}=\\frac{y-y^2}{x}$\n",
    "\n",
    "对$\\frac{dy}{dx}=\\frac{y-y^2}{x}$积分，得：$\\frac{y}{1-y}=c_1x$\n",
    "\n",
    "即：$\\frac{x'}{1-x'}=c_1x$\n",
    "\n",
    "再次积分，得：$x+\\frac{1}{c_1}\\ln|x|=t+c_2$\n",
    "\n",
    "当$y=0,x'=0$.故：$x=c$\n",
    "\n",
    "所以，方程的解为$x+\\frac{1}{c_1}\\ln|x|=t+c_2或x=c$\n",
    "\n",
    "其中$c_1,c_2,c$为任意常数.\n"
   ]
  },
  {
   "cell_type": "markdown",
   "metadata": {},
   "source": [
    "## （2）$x''+\\sqrt{1-(x')^2}=0$##"
   ]
  },
  {
   "cell_type": "markdown",
   "metadata": {},
   "source": [
    "解：令$x'=y$,则有：$y\\frac{dy}{dx}+\\sqrt{1-y^2}=0$\n",
    "\n",
    "当$y=±1,即x'=±1$时\n",
    "\n",
    "得：$x=±t+c_1$\n",
    "\n",
    "当$y≠±1$,对$\\frac{ydy}{\\sqrt{1-y^2}}=-dx$积分，\n",
    "\n",
    "得：$\\sqrt{1-y^2}=x+c$即：$\\sqrt{1-x'^2}=x+c$\n",
    "\n",
    "解得$x'=±\\sqrt{1-(x+c)^2}$\n",
    "\n",
    "a.$当x'=\\sqrt{1-(x+c)^2},x=sin(t+c_2)-c$\n",
    "\n",
    "b.$当x'=-\\sqrt{1-(x+c)^2},x=cos(t+c_2)-c$\n",
    "\n",
    "综上，\n",
    "\n",
    "得到方程的解$x=sin(t+c_2)-c或x=cos(t+c_2)-c$以及$x=±t+c_1$，\n",
    "\n",
    "$c_1,c_2,c$为任意常数。"
   ]
  },
  {
   "cell_type": "markdown",
   "metadata": {},
   "source": [
    "## （3）$x''-\\frac{1}{t}x'+(x')^2=0$##"
   ]
  },
  {
   "cell_type": "markdown",
   "metadata": {},
   "source": [
    "当$x'≠0$，方程两边同时除以x'，得： $\\frac{x''}{x'}-\\frac{1}{t}+x'=0$\n",
    "\n",
    "即$d(\\ln|x'|-\\ln|t|+x)=0$\n",
    "\n",
    "对其积分可得：$\\ln|\\frac{x'}{t}|+x=c_1$\n",
    "\n",
    "解得：$x'=t(e^{-x+c_1})$\n",
    "\n",
    "再积分得：$e^x=e^{c_1}(\\frac{t^2}{2})+c_2$\n",
    "\n",
    "因为$c_1,c_2为任意常数$所以：$e^x=c_1(t^2+c_2)$\n",
    "\n",
    "当$x'=0,x=c$也为原方程的解.\n",
    "\n",
    "综上，方程的解为：$e^x=c_1(t^2+c_2)或x=c$.\n",
    "\n",
    "$c_1,c_2,c$为任意常数。"
   ]
  },
  {
   "cell_type": "markdown",
   "metadata": {},
   "source": [
    "# 2.用幂级数的解法求解下列方程。#"
   ]
  },
  {
   "cell_type": "markdown",
   "metadata": {},
   "source": [
    "## $(1-t)x''+x=0$ ##"
   ]
  },
  {
   "cell_type": "markdown",
   "metadata": {},
   "source": [
    "解： 设$x=a_0+a_1t+a_2t^2+\\cdots +a_nt^n+\\cdots $是方程的解，\n",
    "\n",
    "则\n",
    "\n",
    "$x''=2a_2+3*2a_3t+\\cdots +n(n-1)a_nt^{n-2}+\\cdots $\n",
    "\n",
    "把$x,x',x''$的表达式带入原方程，合并关于t同类项，并令各项系数为零得：\n",
    "\n",
    "$\\begin{cases}a_0+2a_2=0,\\\\\n",
    "a_1-2a_2+3*2a_3=0,\\\\\n",
    "\\cdots\\\\\n",
    "n(n-1)a_n-(n-1)(n-2)a_{n-1}+a_{n-2}=0 \\end{cases}$\n",
    "\n",
    "再设$x_1(t),x_2(t)是满足初值条件x_1(0)=0,x_1'(0)=1,x_2(0)=1,x_2'(0)=0$的两个解\n",
    "\n",
    "对于$x_1(t),有：a_0=0,a_1=1$,代入方程组，得：\n",
    "\n",
    "$a_2=0,a_3=-\\frac{1}{3*2},a_4=-\\frac{1}{4*3},a_5=-\\frac{5}{5*4*3*2},\\cdots,a_n=\\frac{(n-1)(n-2)a_{n-1}-a_{n-2}}{n(n-1)}$\n",
    "\n",
    "即：$x_1(t)=t-\\frac{t^3}{3!}-\\frac{2t^4}{4!}-\\frac{5t^5}{5!}-\\cdots$\n",
    "\n",
    "对于$x_2(t)$,有：$a_0=1,a_1=0$,代入方程组，得：\n",
    "\n",
    "$a_2=-\\frac{1}{2},a_3=-\\frac{1}{3*2},a_4=-\\frac{-1}{4*3*2},\\cdots ,a_n=\\frac{(n-1)(n-2)a_{n-1}-a_{n-2}}{n(n-1)}$\n",
    "\n",
    "即：$x_2(t)=1-\\frac{1}{2!}t^2-\\frac{1}{3!}t^3-\\frac{1}{4!}t^4-\\cdots$\n",
    "\n",
    "综上，方程的通解为$x=c_1x_1(t)+c_2x_2(t)=c_1(t-\\frac{t^3}{3!}-\\frac{2t^4}{4!}-\\frac{5t^5}{5!}...)+c_2(1-\\frac{1}{2!}t^2-\\frac{1}{3!}t^3-\\frac{1}{4!}t^4-...)$"
   ]
  },
  {
   "cell_type": "markdown",
   "metadata": {},
   "source": [
    "# 3.将下列初值问题化为与之等价的一阶方程组的初值问题。#"
   ]
  },
  {
   "cell_type": "markdown",
   "metadata": {},
   "source": [
    "##   $\\begin{cases}x''+5y'-7x+6y=e^t,\\\\\n",
    "   y''-2y+13y'-15x=cos t,\\end{cases}$\n",
    "   \n",
    "   $x(0)=1,x'(0)=0,y(0)=0,y'(0)=1$ "
   ]
  },
  {
   "cell_type": "markdown",
   "metadata": {},
   "source": [
    "解： 令$\\omega_1=x,\\omega_2=x',\\omega_3=y,\\omega_4=y',$\n",
    "\n",
    "则原初值问题可化为$\\begin{cases}\n",
    "\\omega_1'=x'=\\omega_2\\\\\n",
    "\\omega_2'=x''=7\\omega_1-6\\omega_3-5\\omega_4+e^t\\\\\n",
    "\\omega_3'=y'=\\omega_4\\\\\n",
    "\\omega_4=y''=15\\omega_1+2\\omega_3-13\\omega_4+cos t \n",
    "\\end{cases}$\n",
    "\n",
    "即$\\omega'$=\n",
    "$\\begin{pmatrix}  0&1&0&0 \\\\ 7&0&-6&-5 \\\\ 0&0&0&1 \\\\ 15&0&2&-13 \\\\  \\end{pmatrix}$\n",
    "$\\omega$+\n",
    "$\\begin{pmatrix} 0\\\\e^t\\\\0\\\\cos t \\end{pmatrix}$       \n",
    "其中$\\omega=\\begin{pmatrix} \\omega_1 \\\\ \\omega_2 \\\\ \\omega_3 \\\\ \\omega_4 \\end{pmatrix}$\n",
    "初值条件为$\\omega(0)=\\begin{pmatrix}1\\\\0\\\\0\\\\1\\end{pmatrix}.$"
   ]
  },
  {
   "cell_type": "markdown",
   "metadata": {
    "collapsed": true
   },
   "source": [
    "# 4. 试用逐步逼近法求方程组$x'=\\begin{bmatrix}  0&1\\\\-1&0 \\end{bmatrix}x$满足初值条件$x(0)=\\begin{bmatrix}0\\\\1\\end{bmatrix}$的第三次近似解。 #"
   ]
  },
  {
   "cell_type": "markdown",
   "metadata": {
    "collapsed": true
   },
   "source": [
    "解： $\\varphi_0(t)=\\begin{bmatrix} 0\\\\1 \\end{bmatrix}$\n",
    "\n",
    "$\\varphi_1(t)=\\begin{bmatrix} 0\\\\1 \\end{bmatrix}+ \\int_0^t\\begin{bmatrix} 0&1\\\\-1&0 \\end{bmatrix}\\begin{bmatrix} 0\\\\1 \\end{bmatrix}ds$\n",
    "=$\\begin{bmatrix} 0\\\\1 \\end{bmatrix}+ \\int_0^t\\begin{bmatrix} 1\\\\0 \\end{bmatrix}ds$\n",
    "=$\\begin{bmatrix} 0\\\\1 \\end{bmatrix}+ \\begin{bmatrix} t\\\\0 \\end{bmatrix}$\n",
    "=$\\begin{bmatrix} t\\\\1 \\end{bmatrix}$\n",
    "\n",
    "$\\varphi_2(t)=\\begin{bmatrix} 0\\\\1 \\end{bmatrix}+ \\int_0^t\\begin{bmatrix} 0&1\\\\-1&0 \\end{bmatrix}\\begin{bmatrix} s\\\\1 \\end{bmatrix}ds$\n",
    "=$\\begin{bmatrix} 0\\\\1 \\end{bmatrix}+ \\int_0^t\\begin{bmatrix} 1\\\\-s \\end{bmatrix}ds$\n",
    "=$\\begin{bmatrix} 0\\\\1 \\end{bmatrix}+ \\begin{bmatrix} t\\\\-\\frac{1}{2}t^2 \\end{bmatrix}$\n",
    "=$\\begin{bmatrix} t\\\\1-\\frac{1}{2}t^2  \\end{bmatrix}$\n",
    "\n",
    "$\\varphi_3(t)=\\begin{bmatrix} 0\\\\1 \\end{bmatrix}+ \\int_0^t\\begin{bmatrix} 0&1\\\\-1&0 \\end{bmatrix}\\begin{bmatrix} s\\\\1-\\frac{1}{2}s^2 \\end{bmatrix}ds$\n",
    "=$\\begin{bmatrix} 0\\\\1 \\end{bmatrix}+ \\int_0^t\\begin{bmatrix} 1-\\frac{1}{2}s^2\\\\-s \\end{bmatrix}ds$\n",
    "=$\\begin{bmatrix} 0\\\\1 \\end{bmatrix}+ \\begin{bmatrix} t-\\frac{t^3}{6}\\\\-\\frac{1}{2}t^2 \\end{bmatrix}$\n",
    "=$\\begin{bmatrix} t-\\frac{t^3}{6}\\\\1-\\frac{1}{2}t^2 \\end{bmatrix}$\n",
    "\n",
    "所以满足初值条件$x(0)=\\begin{bmatrix} 0\\\\1 \\end{bmatrix}$的第三次近似解$\\varphi_3(t)=\\begin{bmatrix} t-\\frac{t^3}{6}\\\\1-\\frac{1}{2}t^2 \\end{bmatrix}$\n",
    "\n",
    "\n",
    "\n",
    "\n",
    "\n",
    "\n",
    "\n"
   ]
  },
  {
   "cell_type": "markdown",
   "metadata": {
    "collapsed": true
   },
   "source": [
    "$A$"
   ]
  },
  {
   "cell_type": "code",
   "execution_count": null,
   "metadata": {
    "collapsed": true
   },
   "outputs": [],
   "source": []
  }
 ],
 "metadata": {
  "kernelspec": {
   "display_name": "SageMath 7.3",
   "language": "",
   "name": "sagemath"
  },
  "language_info": {
   "codemirror_mode": {
    "name": "ipython",
    "version": 2
   },
   "file_extension": ".py",
   "mimetype": "text/x-python",
   "name": "python",
   "nbconvert_exporter": "python",
   "pygments_lexer": "ipython2",
   "version": "2.7.10"
  }
 },
 "nbformat": 4,
 "nbformat_minor": 0
}
