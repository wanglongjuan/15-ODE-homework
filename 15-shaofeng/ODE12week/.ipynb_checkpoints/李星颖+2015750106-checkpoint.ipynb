{
 "cells": [
  {
   "cell_type": "markdown",
   "metadata": {},
   "source": [
    "# 《高阶微分方程的降阶和幂级数解法》"
   ]
  },
  {
   "cell_type": "markdown",
   "metadata": {},
   "source": [
    "## 一.求解下列方程："
   ]
  },
  {
   "cell_type": "markdown",
   "metadata": {},
   "source": [
    "### (1):$xx''-(x')^{2}+(x')^{3}=0$;"
   ]
  },
  {
   "cell_type": "markdown",
   "metadata": {},
   "source": [
    "**解**：可以看出其为不显含自变量t的方程，令$y=x'$,则方程化为$xy\\frac{\\mathrm{dy}}{\\mathrm{dx}}-y^{2}+y^{3}=0 \\implies y=0 $或$\\frac{1}{y-y^{2}}\\mathrm {dy}=\\frac{1}{x}\\mathrm {dx}\\implies x'=\\frac{cx}{cx+1}$($c$为任意常数)$\\implies$方程的解为$x=c_1\\ln|x|-t+c_2=0$或$x=c$($c_1,c_2,c$为任意常数)"
   ]
  },
  {
   "cell_type": "markdown",
   "metadata": {},
   "source": [
    "### (2):$x''+\\sqrt{1-(x')^{2}}=0$;"
   ]
  },
  {
   "cell_type": "markdown",
   "metadata": {},
   "source": [
    "**解**：可以看出其为不显含自变量t的方程，令$y=x'$，则方程化为$y\\frac{\\mathrm dy}{\\mathrm dx}+\\sqrt{1-y^2}=0$$\\implies \\frac{y}{\\sqrt{1-y^2}}\\mathrm dy=-\\mathrm dx 或 y=\\pm1\\implies \\sqrt{1-y^2}=x+c=\\sqrt{1-(y')^{2}}或 x=\\pm t+c$$\\implies x'=\\pm \\sqrt{1-(x+c)^2}或 x=\\pm t+c\\implies x=\\sin(t+c_1)+c_2或x=\\pm t+c$(其中$c_1,c_2,c$为任意常数)"
   ]
  },
  {
   "cell_type": "markdown",
   "metadata": {},
   "source": [
    "### (3):$x''-\\frac{1}{t}x'+(x')^{2}=0$;"
   ]
  },
  {
   "cell_type": "markdown",
   "metadata": {},
   "source": [
    "**解**：两边同时除以$x'$,得到$\\frac{x''}{x'}-\\frac{1}{t}+x'=\\mathrm{d(\\ln|\\frac{x'}{t}|+x)}=0$($x'\\neq 0$)或$x'=0$;\n",
    "\n",
    "$\\implies x'=t(e^{-x+c})或0\\implies$方程的解为$e^{x}=c_1(t^2+c_2)$或$x=c$($c_1,c_2,c$为任意常数)"
   ]
  },
  {
   "cell_type": "markdown",
   "metadata": {},
   "source": [
    "## 二：用幂级数解法求解下列方程："
   ]
  },
  {
   "cell_type": "markdown",
   "metadata": {},
   "source": [
    "### $(1-t)x''+x=0$;"
   ]
  },
  {
   "cell_type": "markdown",
   "metadata": {},
   "source": [
    "**解**：化为$x''+\\frac{x}{1-t}=0$,设$x=\\sum_{n=0}^{\\infty}a_nx^{n}$代入原方程\n",
    "\n",
    "$\\implies 2a_2+a_0=0,3\\cdot2a_3-2a_2+a_1=0,k(k-1)a_k-(k-1)(k-2)a_{k-1}+a_{k-2},k>3$.\n",
    "\n",
    "不妨直接找通解(只要找到两个线性无关的特解即可)，分别带入初值条件$x_1(0)=0,x'_1(0)=1$与$x_2(0)=1,x'_2(0)=0$得到两个线性无关的特解：\n",
    "\n",
    "$x_1(t)=t-\\frac{1}{3!}t^3-\\frac{2}{4!}t^4-\\frac{5}{5!}t^5-\\frac{18}{6!}t^6-\\cdots$,\n",
    "\n",
    "$x_2(t)=1-\\frac{1}{2!}t^2-\\frac{1}{3!}t^3-\\frac{1}{4!}t^4-\\cdots$,\n",
    "\n",
    "于是通解为$x=c_1(t-\\frac{1}{3!}t^3-\\frac{2}{4!}t^4-\\frac{5}{5!}t^5-\\frac{18}{6!}t^6-\\cdots)+c_2(1-\\frac{1}{2!}t^2-\\frac{1}{3!}t^3-\\frac{1}{4!}t^4-\\cdots)$($c_1,c_2$为任意常数。)"
   ]
  },
  {
   "cell_type": "markdown",
   "metadata": {},
   "source": [
    "# 《存在唯一性定理》"
   ]
  },
  {
   "cell_type": "markdown",
   "metadata": {},
   "source": [
    "## 一：将下面的初值问题化为与之等价的一阶方程组的初值问题："
   ]
  },
  {
   "cell_type": "markdown",
   "metadata": {},
   "source": [
    "$\\begin{cases}x''+5y'-7x+6y=e^{t},\\\\y''-2y+13y'-15x=\\cos t,\\end{cases}$\n",
    "\n",
    "$x(0)=1,x'(0)=0,y(0)=0,y'(0)=1.$\n",
    "\n",
    "(提示：令$\\omega_1=x,\\omega_2=x',\\omega_3=y,\\omega_4=y'$.)"
   ]
  },
  {
   "cell_type": "markdown",
   "metadata": {},
   "source": [
    "**解**：根据题中所给提示代入:\n",
    "\n",
    "令$\\textbf{A}=\\begin{bmatrix}\\omega_1\\\\\\omega_2\\\\\\omega_3\\\\\\omega_4\\end{bmatrix}$\n",
    "\n",
    "则有$\\textbf{A'}=\\begin{bmatrix}0&1&0&0\\\\7&0&-6&-5\\\\0&0&0&1\\\\15&0&2&-13\\end{bmatrix}\\textbf{A}+\\begin{bmatrix}0\\\\e^t\\\\0\\\\\\cos t\\end{bmatrix},\\textbf{A(0)}=\\begin{bmatrix}1\\\\0\\\\0\\\\1\\end{bmatrix}$.这就是与之等价的一阶方程组的初值问题。"
   ]
  },
  {
   "cell_type": "markdown",
   "metadata": {},
   "source": [
    "## 二：试用逐步逼近法求方程组\n",
    "\n",
    "$$x'=\\begin{bmatrix}0&1\\\\-1&0\\end{bmatrix}x$$\n",
    "\n",
    "满足初值条件$$x(0)=\\begin{bmatrix}0\\\\1\\end{bmatrix}$$\n",
    "\n",
    "的第三次近似解。"
   ]
  },
  {
   "cell_type": "markdown",
   "metadata": {
    "collapsed": true
   },
   "source": [
    "**解**：\n",
    "\n",
    "根据皮卡逐步逼进向量函数序列的构造方法：\n",
    "\n",
    "$\\begin{cases}\\varphi_0(t)=\\begin{bmatrix}0\\\\1\\end{bmatrix}\\\\\\varphi _k(t)=\\begin{bmatrix}0\\\\1\\end{bmatrix}+\\int_{0}^{t}(\\begin{bmatrix}0&1\\\\-1&0\\end{bmatrix}\\varphi_{k-1}(s))\\mathrm ds\\end{cases}$\n",
    "\n",
    "只需计算$k<=3$的序列，$\\implies$满足方程的第三次近似解为$ \\varphi_3(t)=\\begin{bmatrix}t-\\frac{t^3}{6}\\\\1-\\frac{t^2}{2}\\end{bmatrix}$."
   ]
  },
  {
   "cell_type": "markdown",
   "metadata": {
    "collapsed": true
   },
   "source": [
    "$A$"
   ]
  }
 ],
 "metadata": {
  "kernelspec": {
   "display_name": "SageMath 7.3",
   "language": "",
   "name": "sagemath"
  },
  "language_info": {
   "codemirror_mode": {
    "name": "ipython",
    "version": 2
   },
   "file_extension": ".py",
   "mimetype": "text/x-python",
   "name": "python",
   "nbconvert_exporter": "python",
   "pygments_lexer": "ipython2",
   "version": "2.7.10"
  }
 },
 "nbformat": 4,
 "nbformat_minor": 0
}
