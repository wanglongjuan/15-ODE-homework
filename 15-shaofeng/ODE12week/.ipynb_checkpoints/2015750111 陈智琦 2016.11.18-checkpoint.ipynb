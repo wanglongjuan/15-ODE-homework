{
 "cells": [
  {
   "cell_type": "markdown",
   "metadata": {},
   "source": [
    "一、求解下列方程。\n",
    "\n",
    "（1）$xx''-(x')^2+(x')^3=0$\n",
    "\n",
    "（2）$x''+\\sqrt{1-{x'}^2}$\n",
    "\n",
    "（3）$x''-{1 \\over t}x'+{(x')}^2=0$\n",
    "（提示：方程两端除以$x'$）"
   ]
  },
  {
   "cell_type": "markdown",
   "metadata": {},
   "source": [
    "（1）解：令$x'=y$即$x''=y{dy \\over dx}$\n",
    "因此可将原方程化为\n",
    "$$\n",
    "xy{dy \\over dx}-y^2+y^3=0\n",
    "$$\n",
    "$$\n",
    "y(x{dy \\over dx}-y+y^2)=0\n",
    "$$\n",
    "得$y=0$或者$x{dy \\over dx}=y-y^2$"
   ]
  },
  {
   "cell_type": "markdown",
   "metadata": {},
   "source": [
    "积分后可得\n",
    "$$\n",
    "{y\\over y-1}=c_1x\n",
    "$$\n",
    "$$\n",
    "x+{1 \\over c_1}ln|x|=t+c_2\n",
    "$$"
   ]
  },
  {
   "cell_type": "markdown",
   "metadata": {},
   "source": [
    "当$y=0$时，$x'=0$，即$x=c$\n",
    "\n",
    "综上所述，方程的解为\n",
    "$$\n",
    "x+{1 \\over c_1}ln|x|=t+c_2\n",
    "$$\n",
    "or\n",
    "$$\n",
    "x=c\n",
    "$$\n",
    "$c_1,c_2,c$均为任意常数"
   ]
  },
  {
   "cell_type": "markdown",
   "metadata": {},
   "source": [
    "（2）解：令$x'=y$即$x''=y{dy \\over dx}$\n",
    "因此可将原方程化为\n",
    "$$\n",
    "y{dy \\over dx}-\\sqrt{1-y^2}=0\n",
    "$$\n",
    "当$y\\neq \\pm1$时\n",
    "\n",
    "积分得\n",
    "$$\n",
    "x'=\\pm \\sqrt{1-(x+c)^2}\n",
    "$$\n",
    "当$x'=\\sqrt{1-(x+c)^2}$时，$x=sin(t+c_1)+c$\n",
    "\n",
    "当$x'=-\\sqrt{1-(x+c)^2}$时，$x=cos(t+c_1)+c$\n"
   ]
  },
  {
   "cell_type": "markdown",
   "metadata": {},
   "source": [
    "当$y=\\pm1$时,$x'=\\neq1$原方程也成立，即\n",
    "$$\n",
    "x=\\neq t+c_1\n",
    "$$\n",
    "综上所述可知原方程的解为\n",
    " $x=sin(t+c_1)+c$ or $x=cos(t+c_1)+c$\n",
    " 以及$x=\\neq t+c_1$,$c,c_1$为任意常数"
   ]
  },
  {
   "cell_type": "markdown",
   "metadata": {},
   "source": [
    "（3）解：由题意可知\n",
    "$$\n",
    "{x''\\over x'}-{1\\over t}+x'=0\n",
    "$$\n",
    "即\n",
    "$$\n",
    "d(ln|x'|-lnt+x)=0\n",
    "$$\n",
    "因此原方程的解为\n",
    "$$\n",
    "ln|{x'\\over t}|+x=c\n",
    "$$"
   ]
  },
  {
   "cell_type": "markdown",
   "metadata": {},
   "source": [
    "二、用幂级数解法求解。\n",
    "\n",
    "（1）$(1-t)x''+x=0$"
   ]
  },
  {
   "cell_type": "markdown",
   "metadata": {},
   "source": [
    "解：设$y=a_0+a_1t+a_2t^2+\\dots+a_nt^n+\\dots$为方程的解，$a_i$为待定常数，即\n",
    "$$\n",
    "x'=a_1+2a_2t+\\dots+na_nt^{n-1}+\\dots\\\\\n",
    "x''=2a_2+3*2a_3t+\\dots+n(n-1)a_nt^{n-2}+\\dots\n",
    "$$"
   ]
  },
  {
   "cell_type": "markdown",
   "metadata": {},
   "source": [
    "将$x,x''$带入原方程可得\n",
    "$$\n",
    "\\begin{cases}\n",
    "a_0+2a_2=0\\\\\n",
    "a_1-2a_2+3*2a_2=0\\\\\n",
    "n(n-1)a_n-(n-1)(n-2)a_{n-1}+a_{n-2}=0\n",
    "\\end{cases}\n",
    "$$\n"
   ]
  },
  {
   "cell_type": "markdown",
   "metadata": {},
   "source": [
    "设$x_1(t),x_2(t)$满足初值条件\n",
    "$$\n",
    "x_1(0)=0 , x'_1(0)=1\\\\\n",
    "x_2(0)=1 , x'_2(0)=0\n",
    "$$\n",
    "对于$x_1(t)$显然有$a_0=0,a_1=1$带入方程可得\n",
    "$$\n",
    "a_2=0 , a_3=-{1 \\over 3*2} , a_4=-{1\\over 4*3}\n",
    "$$\n",
    "即\n",
    "$$\n",
    "a_n={(n-1)(n-2)a_{n-1}-a_{n-2} \\over n(n-1)}\n",
    "$$\n",
    "因此\n",
    "$$\n",
    "x_1(t)=t-{t^3 \\over 3!}-{2\\over 4!}t^4-{5\\over 5!}t^5-\\dots\n",
    "$$"
   ]
  },
  {
   "cell_type": "markdown",
   "metadata": {},
   "source": [
    "对于$x_1(t)$显然有$a_0=1,a_1=0$带入方程可得\n",
    "$$\n",
    "a_2=-{1 \\over 2} , a_3=-{1 \\over 3*2} , a_4=-{1\\over 4*3*2}\n",
    "$$\n",
    "即\n",
    "$$\n",
    "a_n={(n-1)(n-2)a_{n-1}-a_{n-2} \\over n(n-1)}\n",
    "$$\n",
    "因此\n",
    "$$\n",
    "x_2(t)=1-{1 \\over 2!}t^2-{1 \\over 3!}t^3-{1 \\over 4!}t^4-\\dots\n",
    "$$"
   ]
  },
  {
   "cell_type": "markdown",
   "metadata": {},
   "source": [
    "因此方程的通解为\n",
    "$$\n",
    "x=c_1x_1(t)+c_2x_2(t)\\\\\n",
    "=c_1(t-{t^3 \\over 3!}-{2\\over 4!}t^4-{5\\over 5!}t^5-\\dots)+c_2(1-{1 \\over 2!}t^2-{1 \\over 3!}t^3-{1 \\over 4!}t^4-\\dots)\n",
    "$$\n",
    "$c_1,c_2$为任意数"
   ]
  },
  {
   "cell_type": "markdown",
   "metadata": {},
   "source": [
    "三、将下初值问题化为与之等价的一阶方程组的初值问题\n",
    "（1）\n",
    "$$\n",
    "\\begin{cases}\n",
    "x''+5y'-7x+6y=r^t\\\\\n",
    "y''-2y+13y'-15x=cost\n",
    "\\end{cases}\n",
    "$$\n",
    "$$\n",
    "x(0)=1,x'(0)=0,y(0)=0,y'(0)=1\n",
    "$$\n",
    "提示（令：$w_1=x ,w_2=x' ,w_3=y , w_4=y'$）"
   ]
  },
  {
   "cell_type": "markdown",
   "metadata": {
    "collapsed": true
   },
   "source": [
    "解：由题意可知，\n",
    "$$\n",
    "w'_2=x''=7x-6y-5y'=7w_1-6w_3-5w_4\\\\\n",
    "w'_4=y''=15x+2y-13y'=15w_1+2w_3-13w_4\n",
    "$$\n",
    "因此，方程组可化为\n",
    "$$\n",
    "\\begin{pmatrix}\n",
    "w_1\\\\\n",
    "w_2\\\\\n",
    "w_3\\\\\n",
    "w_4\n",
    "\\end{pmatrix}'\n",
    "=\n",
    "\\begin{pmatrix}\n",
    "0 & 1 & 0 & 0\\\\\n",
    "7 & 0 & -6 & -5\\\\\n",
    "0 & 0 & 0 & 1\\\\\n",
    "15 & 0 & 2 & -13\n",
    "\\end{pmatrix}\n",
    "\\begin{pmatrix}\n",
    "w_1\\\\\n",
    "w_2\\\\\n",
    "w_3\\\\\n",
    "w_4\n",
    "\\end{pmatrix}\n",
    "+\n",
    "\\begin{pmatrix}\n",
    "0\\\\\n",
    "e^t\\\\\n",
    "0\\\\\n",
    "cost\n",
    "\\end{pmatrix}\n",
    "$$"
   ]
  },
  {
   "cell_type": "markdown",
   "metadata": {},
   "source": [
    "四、试用逐步逼近法求方程组\n",
    "$$\n",
    "x'=\n",
    "\\begin{bmatrix}\n",
    "0 & 1\\\\\n",
    "-1 & 0\n",
    "\\end{bmatrix}\n",
    "x\n",
    "$$\n",
    "满足初值条件\n",
    "$$\n",
    "x=\n",
    "\\begin{bmatrix}\n",
    "0 \\\\\n",
    "1\n",
    "\\end{bmatrix}\n",
    "$$\n",
    "的第三次近似解"
   ]
  },
  {
   "cell_type": "markdown",
   "metadata": {},
   "source": [
    "解：\n",
    "$$\n",
    "\\varphi_0(t)=\n",
    "\\begin{bmatrix}\n",
    "0 \\\\\n",
    "1\n",
    "\\end{bmatrix}\n",
    "$$\n",
    "\n",
    "$$\n",
    "\\varphi_1(t)=\n",
    "\\begin{bmatrix}\n",
    "0 \\\\\n",
    "1\n",
    "\\end{bmatrix}\n",
    "+\n",
    "\\int_0^t \n",
    "\\begin{bmatrix}\n",
    "0 & 1\\\\\n",
    "-1 & 0\n",
    "\\end{bmatrix}\n",
    "\\begin{bmatrix}\n",
    "0 \\\\\n",
    "1\n",
    "\\end{bmatrix}\n",
    "{d}s\\\\\n",
    "=\n",
    "\\begin{bmatrix}\n",
    "0 \\\\\n",
    "1\n",
    "\\end{bmatrix}\n",
    "+\n",
    "\\int_0^t\n",
    "\\begin{bmatrix}\n",
    "1 \\\\\n",
    "0\n",
    "\\end{bmatrix}\n",
    "{d}s\\\\\n",
    "=\n",
    "\\begin{bmatrix}\n",
    "0 \\\\\n",
    "1\n",
    "\\end{bmatrix}\n",
    "+\n",
    "\\begin{bmatrix}\n",
    "t \\\\\n",
    "0\n",
    "\\end{bmatrix}\n",
    "=\n",
    "\\begin{bmatrix}\n",
    "t \\\\\n",
    "1\n",
    "\\end{bmatrix}\n",
    "$$"
   ]
  },
  {
   "cell_type": "markdown",
   "metadata": {},
   "source": [
    "$$\n",
    "\\varphi_2(t)=\n",
    "\\begin{bmatrix}\n",
    "0 \\\\\n",
    "1\n",
    "\\end{bmatrix}\n",
    "+\n",
    "\\int_0^t \n",
    "\\begin{bmatrix}\n",
    "0 & 1\\\\\n",
    "-1 & 0\n",
    "\\end{bmatrix}\n",
    "\\begin{bmatrix}\n",
    "t \\\\\n",
    "1\n",
    "\\end{bmatrix}\n",
    "{d}t\\\\\n",
    "=\n",
    "\\begin{bmatrix}\n",
    "0 \\\\\n",
    "1\n",
    "\\end{bmatrix}\n",
    "+\n",
    "\\int_0^t\n",
    "\\begin{bmatrix}\n",
    "1 \\\\\n",
    "-t\n",
    "\\end{bmatrix}\n",
    "{d}t\\\\\n",
    "=\n",
    "\\begin{bmatrix}\n",
    "0 \\\\\n",
    "1\n",
    "\\end{bmatrix}\n",
    "+\n",
    "\\begin{bmatrix}\n",
    "t \\\\\n",
    "-{1 \\over 2}t^2\n",
    "\\end{bmatrix}\n",
    "=\n",
    "\\begin{bmatrix}\n",
    "t \\\\\n",
    "1-{1 \\over 2}t^2\n",
    "\\end{bmatrix}\n",
    "$$"
   ]
  },
  {
   "cell_type": "markdown",
   "metadata": {},
   "source": [
    "$$\n",
    "\\varphi_3(t)=\n",
    "\\begin{bmatrix}\n",
    "0 \\\\\n",
    "1\n",
    "\\end{bmatrix}\n",
    "+\n",
    "\\int_0^t \n",
    "\\begin{bmatrix}\n",
    "0 & 1\\\\\n",
    "-1 & 0\n",
    "\\end{bmatrix}\n",
    "\\begin{bmatrix}\n",
    "s \\\\\n",
    "1-{1 \\over 2}s^2\n",
    "\\end{bmatrix}\n",
    "{d}s\\\\\n",
    "=\n",
    "\\begin{bmatrix}\n",
    "0 \\\\\n",
    "1\n",
    "\\end{bmatrix}\n",
    "+\n",
    "\\int_0^t\n",
    "\\begin{bmatrix}\n",
    "1-{1 \\over 2}s^2\\\\\n",
    "-s\n",
    "\\end{bmatrix}\n",
    "{d}s\\\\\n",
    "=\n",
    "\\begin{bmatrix}\n",
    "0 \\\\\n",
    "1\n",
    "\\end{bmatrix}\n",
    "+\n",
    "\\begin{bmatrix}\n",
    "t-{1 \\over 6}t^3\\\\\n",
    "-{1 \\over 2}t^2\n",
    "\\end{bmatrix}\n",
    "=\n",
    "\\begin{bmatrix}\n",
    "t-{1 \\over 6}t^3\\\\\n",
    "1-{1 \\over 2}t^2\n",
    "\\end{bmatrix}\n",
    "$$"
   ]
  },
  {
   "cell_type": "markdown",
   "metadata": {},
   "source": [
    "因此，满足初值条件$x(0)=\n",
    "\\begin{bmatrix}\n",
    "0 \\\\\n",
    "1\n",
    "\\end{bmatrix}\n",
    "$的第三次近似解为\n",
    "$$\n",
    "\\begin{bmatrix}\n",
    "t-{1 \\over 6}t^3\\\\\n",
    "1-{1 \\over 2}t^2\n",
    "\\end{bmatrix}\n",
    "$$"
   ]
  },
  {
   "cell_type": "markdown",
   "metadata": {
    "collapsed": true
   },
   "source": [
    "$A$"
   ]
  }
 ],
 "metadata": {
  "kernelspec": {
   "display_name": "SageMath 7.3",
   "language": "",
   "name": "sagemath"
  },
  "language_info": {
   "codemirror_mode": {
    "name": "ipython",
    "version": 2
   },
   "file_extension": ".py",
   "mimetype": "text/x-python",
   "name": "python",
   "nbconvert_exporter": "python",
   "pygments_lexer": "ipython2",
   "version": "2.7.10"
  }
 },
 "nbformat": 4,
 "nbformat_minor": 0
}
