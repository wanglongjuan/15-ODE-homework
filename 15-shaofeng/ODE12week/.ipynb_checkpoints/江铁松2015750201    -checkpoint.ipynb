{
 "cells": [
  {
   "cell_type": "markdown",
   "metadata": {},
   "source": [
    "# 习题4.2"
   ]
  },
  {
   "cell_type": "markdown",
   "metadata": {},
   "source": [
    "### 2、求解下列方程。"
   ]
  },
  {
   "cell_type": "markdown",
   "metadata": {},
   "source": [
    "$(2)xx''-(x')^2+(x')^3=0;$"
   ]
  },
  {
   "cell_type": "markdown",
   "metadata": {},
   "source": [
    "**解**\n",
    "\n",
    "$令y=x'$\n",
    "\n",
    "$则xy\\frac{dy}{dx}-y^2+xy^3=0$\n",
    "\n",
    "$当y=0时，x=c$\n",
    "\n",
    "$当y\\neq0时,等式两边同除以y得$\n",
    "\n",
    "$x\\frac{dy}{dx}-y+y^2=0$\n",
    "\n",
    "$所以\\frac{dy}{dx}=\\frac{y-y^2}{x}$\n",
    "\n",
    "$\\frac{1}{x}dx=\\frac{1}{y-y^2}dy$\n",
    "\n",
    "$等式两边积分得\\frac{y}{1-y}=cx$\n",
    "\n",
    "$即\\frac{x'}{1-x'}=cx$\n",
    "\n",
    "$1+\\frac{1}{cx}dx=dt$\n",
    "\n",
    "$两边同时积分得t=x+c_1ln|x|-c_2$\n",
    "\n",
    "$方程的解为x=c,x+c_1ln|x|=t+c_2$"
   ]
  },
  {
   "cell_type": "markdown",
   "metadata": {},
   "source": [
    "$(4)x''+\\sqrt{1-(x')^2}=0$;"
   ]
  },
  {
   "cell_type": "markdown",
   "metadata": {},
   "source": [
    "**解**\n",
    "\n",
    "$当x'\\neq 1时,x=\\pm t+c,$\n",
    "\n",
    "$当x'\\neq=1时$\n",
    "\n",
    "$令y=x'$\n",
    "\n",
    "$得\\frac{dy}{dx}=-\\frac{\\sqrt{1-y^2}}{y}$\n",
    "\n",
    "$解得\\sqrt{1-y^2}=x+c$\n",
    "\n",
    "$令\\frac{dx}{dt}=p$\n",
    "\n",
    "$则\\sqrt{1-p^2}=x+c_1$\n",
    "\n",
    "$等式两边同时对t求导得-\\arcsin p=t+c_2$\n",
    "\n",
    "$p=\\sin(-t+c_2)$\n",
    "\n",
    "$x=\\sqrt{1-p^2}-c_1=\\cos(t+c_2)+c_3$"
   ]
  },
  {
   "cell_type": "markdown",
   "metadata": {},
   "source": [
    "解不全"
   ]
  },
  {
   "cell_type": "markdown",
   "metadata": {},
   "source": [
    "$(6)x''-\\frac{1}{t}x'+(x')^2=0$"
   ]
  },
  {
   "cell_type": "markdown",
   "metadata": {},
   "source": [
    "**解**\n",
    "\n",
    "$当x'=0时，x=c$\n",
    "\n",
    "$当x\\neq 0时$\n",
    "\n",
    "$令x'=y$\n",
    "\n",
    "$则y'-\\frac{1}{t}y+y^2=0$\n",
    "\n",
    "$这是一个n=2的伯努利方程，根据其求解法则解得y=\\frac{2t}{t^2+c}$\n",
    "\n",
    "$即x'=\\frac{2t}{t^2+c}$\n",
    "\n",
    "$x=ln(t^2+c_1)+c_2$"
   ]
  },
  {
   "cell_type": "markdown",
   "metadata": {},
   "source": [
    "### 2、用幂级数解法求解下列方程。"
   ]
  },
  {
   "cell_type": "markdown",
   "metadata": {},
   "source": [
    "$(2)(1-t)x''+x=0$"
   ]
  },
  {
   "cell_type": "markdown",
   "metadata": {},
   "source": [
    "**解**\n",
    "\n",
    "$设x=a_0+a_1t+\\ldots+a_nt^n+\\ldots$\n",
    "\n",
    "$则x''=2\\cdot1 a_2+3\\cdot 2a_3t+\\dots+(n+1)na_{n+1}t^{n-1}+\\dots$\n",
    "\n",
    "$将x,x''代入得a_n+(n+2)(n+1)a_{n+2}-(n+2)na_{n+1}=0$\n",
    "\n",
    "$取两组初值x_0(0)=0,x'_(0)=1;x_0(0)=1,x'_(0)=0,(易得这两组初值对应的特解线性无关)$\n",
    "\n",
    "$解得x=c_1(1-\\frac{1}{2!}t^2-\\frac{1}{3!}t^3-\\frac{1}{4!}t^4-\\frac{2}{5!}t^5-\\dots )+c_2(t-\\frac{1}{3!}t^3-\\frac{2}{4!}-\\frac{5}{5!}t^5-\\dots )(其中的系数由a_n+(n+2)(n+1)a_{n+2}-(n+2)na_{n+1}=0决定，两组初始条件分别为a_0=0,a_1=1;a_1=1,a_0=0)$\n"
   ]
  },
  {
   "cell_type": "markdown",
   "metadata": {
    "collapsed": true
   },
   "source": [
    "# 习题5.1"
   ]
  },
  {
   "cell_type": "markdown",
   "metadata": {},
   "source": [
    "$2.(3)$"
   ]
  },
  {
   "cell_type": "markdown",
   "metadata": {},
   "source": [
    "**解**\n",
    "\n",
    "$令\\omega _1=x,\\omega _2=x',\\omega _3=y,\\omega _4=y'$\n",
    "\n",
    "$得到\\begin{cases}\n",
    "\\omega' _2+5\\omega _4-7\\omega _1+6\\omega _3=e^t\\\\\n",
    "\\omega' _4-2\\omega _3+3\\omega _4-15\\omega _1=cost \\\\\n",
    "\\omega _2=\\omega' _1\\\\\n",
    "\\omega _4=\\omega' _3\\\\\n",
    "\\end{cases}$\n",
    "\n",
    "$所以\\omega '=\\begin{bmatrix}\n",
    "0 &1&0& 0\\\\\n",
    "7 &0& -6& -5\\\\\n",
    "0& 0 &0& 1\\\\\n",
    "15& 0& 2& -13\\\\\n",
    "\\end{bmatrix}\\omega+\\begin{bmatrix}\n",
    "0\\\\e^t\\\\0\\\\cost\\\\\n",
    "\\end{bmatrix},\\omega(0)=\\begin{bmatrix}\n",
    "1\\\\0\\\\0\\\\1\\\\\n",
    "\\end{bmatrix}$"
   ]
  },
  {
   "cell_type": "markdown",
   "metadata": {},
   "source": [
    "$3$"
   ]
  },
  {
   "cell_type": "markdown",
   "metadata": {},
   "source": [
    "**解**\n",
    "\n",
    "$\\varphi_0(t)=\\begin{bmatrix}0\\\\1\\\\\\end{bmatrix}$\n",
    "\n",
    "$\\varphi_1(t)=\\begin{bmatrix}0\\\\1\\\\\\end{bmatrix}+\\int_0^t \\begin{bmatrix}0&1\\\\-1&0\\\\\\end{bmatrix}\\begin{bmatrix}0\\\\1\\\\\\end{bmatrix}ds=\\begin{bmatrix}t\\\\1\\\\\\end{bmatrix}$\n",
    "\n",
    "$\\varphi_2(t)=\\begin{bmatrix}0\\\\1\\\\\\end{bmatrix}+\\int_0^t \\begin{bmatrix}0&1\\\\-1&0\\\\\\end{bmatrix}\\begin{bmatrix}s\\\\1\\\\\\end{bmatrix}ds=\\begin{bmatrix}t\\\\1-\\frac{t^2}{2}\\\\\\end{bmatrix}$\n",
    "\n",
    "$\\varphi_3(t)=\\begin{bmatrix}0\\\\1\\\\\\end{bmatrix}+\\int_0^t \\begin{bmatrix}0&1\\\\-1&0\\\\\\end{bmatrix}\\begin{bmatrix}s\\\\1-\\frac{s^2}{2}\\\\\\end{bmatrix}ds=\\begin{bmatrix}t-\\frac{t^3}{6}\\\\1-\\frac{t^2}{2}\\\\\\end{bmatrix}$"
   ]
  },
  {
   "cell_type": "markdown",
   "metadata": {
    "collapsed": true
   },
   "source": [
    "$B$"
   ]
  },
  {
   "cell_type": "code",
   "execution_count": null,
   "metadata": {
    "collapsed": true
   },
   "outputs": [],
   "source": []
  }
 ],
 "metadata": {
  "kernelspec": {
   "display_name": "SageMath 7.3",
   "language": "",
   "name": "sagemath"
  },
  "language_info": {
   "codemirror_mode": {
    "name": "ipython",
    "version": 2
   },
   "file_extension": ".py",
   "mimetype": "text/x-python",
   "name": "python",
   "nbconvert_exporter": "python",
   "pygments_lexer": "ipython2",
   "version": "2.7.10"
  }
 },
 "nbformat": 4,
 "nbformat_minor": 0
}
