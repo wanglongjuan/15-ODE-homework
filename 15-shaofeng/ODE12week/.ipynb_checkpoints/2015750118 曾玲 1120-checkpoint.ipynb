{
 "cells": [
  {
   "cell_type": "markdown",
   "metadata": {},
   "source": [
    "## 4.3      1.求解下列方程"
   ]
  },
  {
   "cell_type": "markdown",
   "metadata": {},
   "source": [
    "### (2) $xx''-(x')^2+(x')^3=0$"
   ]
  },
  {
   "cell_type": "markdown",
   "metadata": {},
   "source": [
    "**解：** 令$x'=y$，则方程化为$$xy\\frac{dy} {dx}-y^2+y^3=0$$\n",
    "\n",
    "解之得$$y=0或\\frac{dy} {dx}=\\frac{y-y^2} {x}$$\n",
    "\n",
    "积分后得$$\\frac{y} {1-y}=c_1x$$即$$\\frac{x'} {1-x'}=c_1x$$\n",
    "\n",
    "再次积分得$$x+\\frac{1} {c_1}ln|x|=t+c_2$$\n",
    "当$y=0$时，$x=c$\n",
    "\n",
    "综上所述，方程的解为$$x+\\frac{1} {c_1}ln|x|=t+c_2或x=c$$"
   ]
  },
  {
   "cell_type": "markdown",
   "metadata": {},
   "source": [
    "### (4) $x''+\\sqrt{1-(x')^2}=0$"
   ]
  },
  {
   "cell_type": "markdown",
   "metadata": {},
   "source": [
    "**解**\n",
    "令$x \\prime=y,则x \\prime\\prime=\\frac{dy}{dt}$\n",
    "\n",
    "代入原方程得$$\\frac{\\mathrm d y}{\\mathrm d t}=-\\sqrt{1-y^2}$$\n",
    "\n",
    "①$y=±1时，x=±t+c$\n",
    "\n",
    "②$y≠±1时$\n",
    "\n",
    "有$$\\frac{1}{\\sqrt{1-y^2}}\\mathrm d y=-\\mathrm d t$$\n",
    "\n",
    "两边同时积分得$$\\arcsin y=-t+c_1,即x\\prime=sin(c_1-t)$$\n",
    "\n",
    "解之得$$x=cos(t-c_1)+c_2$$\n",
    "\n",
    "综上所述，通解为$$x=±t+c,或x=cos(t-c_1)+c_2$$"
   ]
  },
  {
   "cell_type": "markdown",
   "metadata": {},
   "source": [
    "### （6）$x''-\\frac{1} {t}x'+(x')^2=0$"
   ]
  },
  {
   "cell_type": "markdown",
   "metadata": {},
   "source": [
    "**解**\n",
    "\n",
    "1>当$x^\\prime=0$时，$x=c$，显然其满足方程\n",
    "\n",
    "2>当$x^\\prime≠0$时，方程两边除以$x^\\prime$,得到\n",
    "$$\\frac{x^{\\prime\\prime}}{x^\\prime}-\\frac{1}{t}+x^\\prime=0$$\n",
    "\n",
    "即$$\\mathrm d(\\ln |x^\\prime|-\\ln |t|+x)=0$$\n",
    "\n",
    "积分得$$\\ln |\\frac{x^\\prime}{t}|+x=c_1$$\n",
    "\n",
    "所以$$x^\\prime=t(e^{-x+c_1})$$\n",
    "\n",
    "两边再积分得$$e^x=c_1(t^2+c_2)$$\n",
    "其中$c_1,c_2$为任意常数\n",
    "\n",
    "综上所述，方程的通解为$$e^x=c_1(t^2+c_2)或者x=c$$"
   ]
  },
  {
   "cell_type": "markdown",
   "metadata": {},
   "source": [
    "## 2.用幂级数解法求解下列方程"
   ]
  },
  {
   "cell_type": "markdown",
   "metadata": {},
   "source": [
    "### （2）$(1-t)x''+x=0$"
   ]
  },
  {
   "cell_type": "markdown",
   "metadata": {},
   "source": [
    "**解：**\n",
    "设解为$$y=a_0+a_1t+a_2t^2+\\cdots+a_nt^n+\\cdots$$\n",
    "\n",
    "则\n",
    "\n",
    "$$y^\\prime=a_1+2a_2t+3a_3t^2+\\cdots+na_nt^{n-1}+\\cdots$$\n",
    "\n",
    "$$y^{\\prime\\prime}=2a_2+2\\times 3a_3t+\\cdots+(n-1)\\times na_nt^{n-2}+\\cdots$$\n",
    "\n",
    "代入原方程比较系数得\n",
    "\n",
    "$$\n",
    "\\begin{aligned}\n",
    "a_0+2a_2 &=0\\\\\n",
    "a_1-2a_2+2\\times 3a_3 &=0\\\\\n",
    "a_2-2\\times 3+3\\times 4a_4 &=0\\\\\n",
    "\\cdots\\\\\n",
    "a_{n-2}-3\\times 4a_4+4\\times 5a_5 &=0\n",
    "\\end{aligned}\n",
    "$$\n",
    "\n",
    "所以\n",
    "$$\n",
    "\\begin{aligned}\n",
    "a_2 &=-\\frac{1}{2}a_0\\\\\n",
    "a_3 &=-\\frac{1}{3!}a_0-\\frac{1}{3!}a_1\\\\\n",
    "a_4 &=-\\frac{1}{4!}a_0-\\frac{2}{4!}a_1\\\\\n",
    "a_5 &=-\\frac{2}{5!}a_0-\\frac{1}{5!}a_1\\\\\n",
    "\\cdots\\\\\n",
    "a_n &=-\\frac{a_0+a_1+\\cdots+a_{n-2}}{(n-1)n}\n",
    "\\end{aligned}\n",
    "$$\n",
    "\n",
    "因此方程的解为$$x=a_0 \\big( 1-\\frac{1}{2}t^2-\\frac{1}{3!}t^3-\\frac{1}{4!}t^4-\\frac{2}{5!}t^5-\\cdots \\big)\n",
    "            +a_1 \\big( t-\\frac{1}{3!}t^3-\\frac{2}{4!}t^4-\\frac{1}{5!}t^5-\\cdots \\big)$$\n"
   ]
  },
  {
   "cell_type": "markdown",
   "metadata": {},
   "source": [
    "## 5.1  .2.将下面的初值问题化为与之等价的一阶方程组的初值问题"
   ]
  },
  {
   "cell_type": "markdown",
   "metadata": {},
   "source": [
    "### (3)$\\begin{cases}x''+5y'-7x+6y=e^t\\\\y''-2y+13y'-15x=\\cos t\\end{cases}\n",
    "\\\\x(0)=1,x'(0)=0,y(0)=0,y'(0)=1$"
   ]
  },
  {
   "cell_type": "markdown",
   "metadata": {},
   "source": [
    "**解:** 令$$ \\mathbf w =[w_1,w_2,w_3,w_4]^T $$\n",
    "其中 $ w_1 = x ,w_2 = x' ,w_3 = y ,w_4 = y' $\n",
    "\n",
    "方程组可化为:\n",
    "\n",
    "$$\\begin{cases}\n",
    "w_2' = x'' = e^t - 5 w_4 + 7 w_1 - 6 w_3 \\\\\n",
    "w_4' = y'' = \\cos t + 2 w_3 - 13 w_4 + 15 w_1 \n",
    "\\end{cases}$$\n",
    "\n",
    "并且\n",
    "$$\n",
    "\\begin{cases}\n",
    "\\eta_1=\\omega_1(0)=x(0) =1\\\\\n",
    "\\eta_2=\\omega_2(0)=x^\\prime(0)=0\\\\\n",
    "\\eta_3=\\omega_3(0)=y(0) =0\\\\\n",
    "\\eta_4=\\omega_4(0)=y^\\prime(0)=1\n",
    "\\end{cases}\n",
    "$$\n",
    "\n",
    "所以 $ \\mathbf w' =\n",
    "\\begin{bmatrix}\n",
    "w_2 \\\\\n",
    "e^t - 5 w_4 + 7 w_1 - 6 w_3 \\\\\n",
    "w_4 \\\\\n",
    "\\cos t + 2 w_3 - 13 w_4 + 15 w_1 \n",
    "\\end{bmatrix} \n",
    "=\n",
    "\\begin{bmatrix}\n",
    "0 & 1 & 0 & 0 \\\\\n",
    "7 & 0 & -6 & -5 \\\\\n",
    "0 & 0 & 0 & 1 \\\\\n",
    "15 & 0 & 2 & -13\n",
    "\\end{bmatrix}\n",
    "\\mathbf w +\n",
    "\\begin{bmatrix}\n",
    "0\\\\\n",
    "e^t \\\\\n",
    "0 \\\\\n",
    "\\cos t\n",
    "\\end{bmatrix} $\n",
    "\n",
    "$ \\mathbf w(0) = \n",
    "\\begin{bmatrix}\n",
    "1\\\\\n",
    "0\\\\\n",
    "0\\\\\n",
    "1\n",
    "\\end{bmatrix} $"
   ]
  },
  {
   "cell_type": "markdown",
   "metadata": {},
   "source": [
    "## 3.试用逐步逼近法求方程组\n",
    "### $$x'={\\left[\\begin{matrix}0&1\\\\-1&0\\\\\\end{matrix}\\right]}x$$ 满足初值条件\n",
    "### $$x(0)=\\left[\\begin{matrix}0\\\\1\\\\\\end{matrix}\\right]$$的第三次近似解"
   ]
  },
  {
   "cell_type": "markdown",
   "metadata": {},
   "source": [
    "**解:**令方程组的解为 $ \\mathbf \\varphi (t)$ ,取 \n",
    "$ \\mathbf \\varphi_0 (t) = \n",
    "\\begin{bmatrix}\n",
    "0\\\\\n",
    "1\n",
    "\\end{bmatrix}\n",
    "$"
   ]
  },
  {
   "cell_type": "markdown",
   "metadata": {},
   "source": [
    "则第一次近似解为\n",
    "\n",
    "$$  \\varphi_1(t) = \\varphi_0(t) + \\int_0^t {\\mathbf A(s) \\varphi_0 (s)} \\mathrm d s = \n",
    "\\begin{bmatrix} 0 \\\\ 1 \\end {bmatrix} + \n",
    "\\int_0^t { \\begin{bmatrix} 0 & 1 \\\\ -1 & 0 \\end{bmatrix} \\begin{bmatrix} 0 \\\\ 1 \\end {bmatrix}} \\mathrm d s = \n",
    "\\begin{bmatrix} t \\\\ 1 \\end{bmatrix} $$\n",
    "\n",
    "\n",
    "\n",
    "同理可得\n",
    "$$\n",
    "\\begin{aligned}\n",
    "\\mathbf \\varphi_2(t)=\n",
    "\\begin{bmatrix}\n",
    "0\\\\\n",
    "1\\\\\n",
    "\\end{bmatrix}+\n",
    "\\int_0^t \n",
    "\\begin{bmatrix}\n",
    "0 &1\\\\\n",
    "-1& 0\\\\\n",
    "\\end{bmatrix}\n",
    "\\begin{bmatrix}\n",
    "t\\\\\n",
    "1\\\\\n",
    "\\end{bmatrix}\\mathrm d t=\n",
    "\\begin{bmatrix}\n",
    "0\\\\\n",
    "1\\\\\n",
    "\\end{bmatrix}+\\int_0^t \n",
    "\\begin{bmatrix}\n",
    "1\\\\\n",
    "-t\\\\\n",
    "\\end{bmatrix}\\mathrm d t=\n",
    "\\begin{bmatrix}\n",
    "0\\\\\n",
    "1\\\\\n",
    "\\end{bmatrix}+\\begin{bmatrix}\n",
    "t\\\\\n",
    "-\\frac{1}{2}t^2\\\\\n",
    "\\end{bmatrix}=\n",
    "\\begin{bmatrix}\n",
    "t\\\\\n",
    "1-\\frac{1}{2}t^2\\\\\n",
    "\\end{bmatrix}\n",
    "\\end{aligned}\n",
    "$$\n",
    "\n",
    "\n",
    "\n",
    "第三次近似解为\n",
    "\n",
    "$$ \\varphi_3(t) = \n",
    "\\begin{bmatrix} 0 \\\\ 1 \\end {bmatrix} + \n",
    "\\int_0^t { \\begin{bmatrix} 0 & 1 \\\\ -1 & 0 \\end{bmatrix} \\begin{bmatrix} s \\\\ 1 - \\frac{s^2}{2} \\end {bmatrix}} \\mathrm d s =\n",
    "\\begin{bmatrix} t - \\frac{t^3}{6} \\\\ 1 - \\frac{t^2}{2} \\end{bmatrix} $$"
   ]
  },
  {
   "cell_type": "markdown",
   "metadata": {
    "collapsed": true
   },
   "source": [
    "$A^+$"
   ]
  }
 ],
 "metadata": {
  "kernelspec": {
   "display_name": "SageMath 7.3",
   "language": "",
   "name": "sagemath"
  },
  "language_info": {
   "codemirror_mode": {
    "name": "ipython",
    "version": 2
   },
   "file_extension": ".py",
   "mimetype": "text/x-python",
   "name": "python",
   "nbconvert_exporter": "python",
   "pygments_lexer": "ipython2",
   "version": "2.7.10"
  }
 },
 "nbformat": 4,
 "nbformat_minor": 0
}
