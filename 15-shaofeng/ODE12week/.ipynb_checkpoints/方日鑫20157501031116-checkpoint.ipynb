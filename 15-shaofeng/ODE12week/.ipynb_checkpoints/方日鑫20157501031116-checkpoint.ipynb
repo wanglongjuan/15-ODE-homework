{
 "cells": [
  {
   "cell_type": "markdown",
   "metadata": {},
   "source": [
    "# 1.求解下列方程："
   ]
  },
  {
   "cell_type": "markdown",
   "metadata": {},
   "source": [
    "# (1)$$xx''-(x')^2+(x')^3=0$$"
   ]
  },
  {
   "cell_type": "markdown",
   "metadata": {},
   "source": [
    "解：\n",
    "令$y=x'$则$$x''=\\frac{\\mathrm dy}{\\mathrm dt}=y\\frac{\\mathrm dy}{\\mathrm dx}\\\\$$\n",
    "方程可以化为$$xy\\frac{\\mathrm dy}{\\mathrm dx}-y^2+y^3=0\\\\$$分离变量得$$\\quad-\\frac{\\mathrm dy}{y(y-1)}=\\frac{\\mathrm dx}{x}(y\\ne 0以下都是)$$\n",
    "两边积分得$$\\frac{y}{y-1}=cx$$即$$\\frac{x'}{x'-1}=cx$$则$$(1-\\frac{1}{cx})\\mathrm dx=\\mathrm dt\\\\$$\n",
    "积分可得$$x+c_1\\ln |x|=t+c_2(y=1时可以归结在这里面)$$\n",
    "$y=0$时$x=c$"
   ]
  },
  {
   "cell_type": "markdown",
   "metadata": {},
   "source": [
    "# (2)$$x''+\\sqrt{1-(x')^2}=0$$"
   ]
  },
  {
   "cell_type": "markdown",
   "metadata": {},
   "source": [
    "解：\n",
    "Let $y=x'$\n",
    "Then we have $$y'+\\sqrt{1-y^2}=0\\\\$$\n",
    "And $$-\\frac{\\mathrm dy}{\\sqrt{1-y^2}}=\\mathrm dt(y^2\\ne 1)\\\\\n",
    "\\arcsin y=-t+c\n",
    "$$\n",
    "So $$y=-\\sin (t+c)\\\\\n",
    "x'=-\\sin (t+c)\n",
    "$$\n",
    "$$x=\\cos (t+c_1)+c_2$$\n",
    "When $y^2=1$ \n",
    "$$x=\\pm t+c$$"
   ]
  },
  {
   "cell_type": "markdown",
   "metadata": {},
   "source": [
    "# (3)$$x''-\\frac{1}{t}x'+(x')^2=0$$"
   ]
  },
  {
   "cell_type": "markdown",
   "metadata": {},
   "source": [
    "Let $y=x'$\n",
    "Then we have $$y'-\\frac{y}{t}+y^2=0$$\n",
    "Let $z=\\frac{1}{y}(y\\ne 0)$ And we can have follow\n",
    "$$z'=-\\frac{1}{t}z+1\\\\\n",
    "y=\\frac{2t}{c_1t^2+c_2}\\\\\n",
    "$$\n",
    "再积分可得\n",
    "$$e^x=c_2(t^2+c_1)$$\n",
    "$y=0$时$$x=c$$"
   ]
  },
  {
   "cell_type": "markdown",
   "metadata": {},
   "source": [
    "# 2.用幂级数解法求解下列方程"
   ]
  },
  {
   "cell_type": "markdown",
   "metadata": {},
   "source": [
    "$$(1-t)x''+x=0$$"
   ]
  },
  {
   "cell_type": "markdown",
   "metadata": {},
   "source": [
    "解：\n",
    "设$$x=\\displaystyle\\sum_{n=0}^{\\infty}a_n t^n$$\n",
    "那么可以得到$$\\displaystyle\\sum_{n=0}^{\\infty}((n+2)(n+1)a_{n+2}-n(n+1)a_{n+1}+a_n )t^n=0\\\\\n",
    "(n+2)(n+1)a_{n+2}-n(n+1)a_{n+1}+a_n=0\\\\\n",
    "$$\n",
    "可得$$x=b_0(1-\\frac{1}{2!}t^2-\\frac{1}{3!}t^3-\\frac{1}{4!}t^4-\\frac{2}{5}t^5-\\dots)+b_1(t-\\frac{1}{3!}t^3-\\frac{2}{4!}t^4-\\frac{5}{5!}t^5+\\dots)$$"
   ]
  },
  {
   "cell_type": "markdown",
   "metadata": {},
   "source": [
    "# 3.将下面的初值问题化为与之等价的一阶方程组的初值问题"
   ]
  },
  {
   "cell_type": "markdown",
   "metadata": {},
   "source": [
    "$$\n",
    "\\begin{cases}\n",
    "x''+5y'-7x+6y=e^t\\\\\n",
    "y''-2y+13y'-15x=\\cos t\n",
    "\\end{cases}\n",
    "\\\\\n",
    "x(0)=1,x'(0)=0,y(0)=0,y'(0)=1\n",
    "$$\n"
   ]
  },
  {
   "cell_type": "markdown",
   "metadata": {},
   "source": [
    "解：\n",
    "$$\\mathbf{w'}=\n",
    "\\begin{bmatrix}\n",
    "0 & 1 & 0 & 0\\\\\n",
    "-7 & 0 & -6 & -5\\\\\n",
    "0 & 0 & 0 & 1\\\\\n",
    "15 & 0 & 2 & -3\\\\\n",
    "\\end{bmatrix}\n",
    "\\mathbf{w}+\n",
    "\\begin{bmatrix}\n",
    "0\\\\e^t\\\\0\\\\\\cos t\n",
    "\\end{bmatrix}\n",
    "\\\\\n",
    "\\mathbf{w}(0)=(1,0,0,1)^{T}\n",
    "$$\n",
    "$\\mathbf{w}=(x,x',y,y')^{T}$"
   ]
  },
  {
   "cell_type": "markdown",
   "metadata": {},
   "source": [
    "# 4.试用逐步逼近法求方程组\n",
    "$$\\mathbf{x'}=\n",
    "\\begin{bmatrix}\n",
    "0 & 1\\\\\n",
    "-1 & 0\n",
    "\\end{bmatrix}\n",
    "\\mathbf{x}\n",
    "$$\n",
    "满足初值条件$$\\mathbf{x}(0)=\n",
    "\\begin{bmatrix}\n",
    "0\\\\\n",
    "1\n",
    "\\end{bmatrix}$$\n",
    "的第三次近似解"
   ]
  },
  {
   "cell_type": "markdown",
   "metadata": {},
   "source": [
    "解：\n",
    "$$\\varphi_0(t)=\\begin{bmatrix}0\\\\1\\end{bmatrix}\\\\\n",
    "\\varphi_1(t)=\\begin{bmatrix}0\\\\1\\end{bmatrix}+\\int_0^t\\begin{bmatrix}0 & 1\\\\-1 & 0\\end{bmatrix}\\begin{bmatrix}0\\\\1\\end{bmatrix} \\mathrm ds\n",
    "=\\begin{bmatrix}t\\\\1\\end{bmatrix}\\\\\n",
    "\\varphi_2(t)=\\begin{bmatrix}0\\\\1\\end{bmatrix}+\\int_0^t\\begin{bmatrix}0 & 1\\\\-1 & 0\\end{bmatrix}\\begin{bmatrix}s\\\\1\\end{bmatrix} \\mathrm ds\n",
    "=\\begin{bmatrix}t\\\\-\\frac{t^2}{2}+1\\end{bmatrix}\\\\\n",
    "\\varphi_3(t)=\\begin{bmatrix}0\\\\1\\end{bmatrix}+\\int_0^t\\begin{bmatrix}0 & 1\\\\-1 & 0\\end{bmatrix}\\begin{bmatrix}s\\\\-\\frac{s^2}{2}+1\\end{bmatrix} \\mathrm ds=\\begin{bmatrix}t-\\frac{t^3}{3!}\\\\-\\frac{t^2}{2}+1\\end{bmatrix}\\\\\n",
    "$$"
   ]
  },
  {
   "cell_type": "markdown",
   "metadata": {},
   "source": [
    "第三次近似解不对"
   ]
  },
  {
   "cell_type": "markdown",
   "metadata": {},
   "source": [
    "$B$"
   ]
  }
 ],
 "metadata": {
  "kernelspec": {
   "display_name": "SageMath 7.3",
   "language": "",
   "name": "sagemath"
  },
  "language_info": {
   "codemirror_mode": {
    "name": "ipython",
    "version": 2
   },
   "file_extension": ".py",
   "mimetype": "text/x-python",
   "name": "python",
   "nbconvert_exporter": "python",
   "pygments_lexer": "ipython2",
   "version": "2.7.10"
  }
 },
 "nbformat": 4,
 "nbformat_minor": 0
}
