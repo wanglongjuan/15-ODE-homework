{
 "cells": [
  {
   "cell_type": "markdown",
   "metadata": {},
   "source": [
    "# $P_{182}$习题4.3"
   ]
  },
  {
   "cell_type": "markdown",
   "metadata": {},
   "source": [
    "**1.求解下列方程：**"
   ]
  },
  {
   "cell_type": "markdown",
   "metadata": {},
   "source": [
    "2.$xx^{\\prime\\prime}-(x^{\\prime})^2+(x^{\\prime})^3=0$"
   ]
  },
  {
   "cell_type": "markdown",
   "metadata": {},
   "source": [
    "令$y=x^{\\prime},\\therefore x^{\\prime\\prime}=y\\frac{dy}{dx}$\n",
    "\n",
    "于是，原方程可化为：$$xy\\frac{dy}{dx}-y^2+y^3$$\n",
    "\n",
    "则有：$$y=0,or,y=\\frac{c_1x}{c_1x-1}$$\n",
    "\n",
    "$$\\therefore x+c_1ln|x|=t+c_2,or,x=c$$\n",
    "\n",
    "其中$c,c_1,c_2$均为任意常数"
   ]
  },
  {
   "cell_type": "markdown",
   "metadata": {},
   "source": [
    "4).$x^{\\prime\\prime}+\\sqrt{1-(x^{\\prime})^2}=0$"
   ]
  },
  {
   "cell_type": "markdown",
   "metadata": {},
   "source": [
    "令$y=x^{\\prime},\\therefore x^{\\prime\\prime}=y\\frac{dy}{dx}$\n",
    "\n",
    "于是，原方程可化为：$$y\\frac{dy}{dx}+\\sqrt{1-y^2}=0$$\n",
    "\n",
    "则有：$$y=\\pm\\sqrt{1-(x+c_1)^2},or,y=\\pm1$$\n",
    "\n",
    "$$\\therefore x=cos(t+c_1)+c_2,or,x=sin(t+c_1)+c_2,or,x=\\pm t+c$$\n",
    "\n",
    "其中$c,c_1,c_2$均为任意常数"
   ]
  },
  {
   "cell_type": "markdown",
   "metadata": {},
   "source": [
    "6).$x^{\\prime\\prime}-\\frac{1}{t}x^{\\prime}+(x^{\\prime})^2=0$"
   ]
  },
  {
   "cell_type": "markdown",
   "metadata": {},
   "source": [
    "令$y=x^{\\prime},\\therefore x^{\\prime\\prime}=\\frac{dy}{dt}$\n",
    "\n",
    "于是，原方程可化为：$$\\frac{dy}{dt}=\\frac{1}{t}y-y^2$$\n",
    "\n",
    "令：$$z=y^{-1},\\frac{dz}{dt}=-\\frac{1}{t}t+1$$\n",
    "\n",
    "由常数变易法得：$$z=\\frac{1}{t}(\\frac{1}{2}t^2+\\tilde c)$$\n",
    "\n",
    "即：$$y^{-1}=\\frac{1}{t}(\\frac{1}{2}t^2+c_1)$$\n",
    "\n",
    "$$\\therefore y=\\frac{2t}{t^2+2\\tilde c}$$\n",
    "\n",
    "$$\\therefore e^x=c_2|t^2+c_1|(c_1=\\tilde c)$$\n",
    "\n",
    "其中$c_1,c_2$均为任意常数"
   ]
  },
  {
   "cell_type": "markdown",
   "metadata": {},
   "source": [
    "**2.用幂级数解法求解下列方程：**"
   ]
  },
  {
   "cell_type": "markdown",
   "metadata": {},
   "source": [
    "2).$(1-t)x^{\\prime\\prime}+x=0$"
   ]
  },
  {
   "cell_type": "markdown",
   "metadata": {},
   "source": [
    "设：$$x=a_0+a_1t+a_2t^2+a_3t^3+\\cdots+a_nt^n+\\cdots$$\n",
    "\n",
    "$$x^{\\prime}=a_1+2a_2t+3a_3t^2+\\cdots+na_nt^{n-1}+\\cdots$$\n",
    "\n",
    "$$x^{\\prime\\prime}=2a_2+3\\bullet2a_3t+\\cdots+n(n-1)a_nt^{n-2}+\\cdots$$"
   ]
  },
  {
   "cell_type": "markdown",
   "metadata": {},
   "source": [
    "将$x,x^{\\prime},x^{\\prime\\prime}$的表达式代入原方程，合并$t$的各同次幂的项，并令各项系数等于零，得:\n",
    "$$2a_2+a_0=0$$\n",
    "\n",
    "$$3\\bullet2a_3-2a_2+a_1=0$$\n",
    "$$\\cdots$$\n",
    "$$k(k-1)a_k-(k-1)(k-2)a_{k-1}+a_{k-2}=0,k\\geq3$$\n",
    "\n",
    "得：\n",
    "$$a_2=-\\frac{1}{2}a_0$$\n",
    "\n",
    "$$a_3=-\\frac{1}{3!}a_0-\\frac{1}{3!}c_2$$\n",
    "$$\\cdots$$\n",
    "$$a_k=\\frac{k-2}{d}a_{k-1}-\\frac{1}{k(k-1)}a_{k-2}$$"
   ]
  },
  {
   "cell_type": "markdown",
   "metadata": {},
   "source": [
    "逐次递推解得：\n",
    "$$x=a_0(1-\\frac{1}{2!}t^2-\\frac{1}{3!}t^3-\\cdots)+a_1(t-\\frac{1}{3!}t^3-\\frac{2}{4!}t^4-\\frac{5}{5!}t^5-\\cdots)$$"
   ]
  },
  {
   "cell_type": "markdown",
   "metadata": {
    "collapsed": true
   },
   "source": [
    "# $P_{201}$习题5.1"
   ]
  },
  {
   "cell_type": "markdown",
   "metadata": {},
   "source": [
    "2.将下面的初值问题化为与之等价的一阶方程组的初值问题"
   ]
  },
  {
   "cell_type": "markdown",
   "metadata": {},
   "source": [
    "(3)$\\begin{cases}\n",
    "x^{\\prime\\prime}+5y^{\\prime}-7x+6y=e^t\\\\\n",
    "y^{\\prime\\prime}-2y+13y^{\\prime}-15x=cost\n",
    "\\end{cases}$\n",
    "\n",
    "$x(0)=1,x^{\\prime}(0)=0,y(0)=0,y^{\\prime}(0)=1$\n",
    "\n",
    "（提示：令$\\omega_1=x,\\omega_2=x^{\\prime},\\omega_3=y,\\omega_4=y^{\\prime}$.）"
   ]
  },
  {
   "cell_type": "markdown",
   "metadata": {},
   "source": [
    "令$\\omega_1=x,\\omega_2=x^{\\prime},\\omega_3=y,\\omega_4=y^{\\prime}$\n",
    "\n",
    "则原初值问题可化为：\n",
    "$$\\begin{cases}\n",
    "\\omega_1^{\\prime}=x^{\\prime}=\\omega_2\\\\\n",
    "\\omega_2^{\\prime}=x^{\\prime\\prime}=-5\\omega_4+7\\omega_1-6\\omega_3+e^t\\\\\n",
    "\\omega_3^{\\prime}=y^{\\prime}=\\omega_4\\\\\n",
    "\\omega_4^{\\prime}=y^{\\prime\\prime}=2\\omega_3-13\\omega_4+15\\omega_1+cost\n",
    "\\end{cases}$$\n",
    "且有：\n",
    "$$\\begin{cases}\n",
    "\\omega_1(0)=x(0)=1\\\\\n",
    "\\omega_2(0)=x^{\\prime}{0}=0\\\\\n",
    "\\omega_3(0)=y(0)=0\\\\\n",
    "\\omega_4(0)=y^{\\prime}(0)=1\n",
    "\\end{cases}$$\n",
    "$\\therefore$\n",
    "$$\\omega^{\\prime}=\n",
    "\\begin{bmatrix}\n",
    " 0 & 1 &  0 &  0\\\\\n",
    " 7 & 0 & -6 & -5\\\\\n",
    " 0 & 0 &  0 &  1\\\\\n",
    "15 & 0 &  2 & -13\n",
    "\\end{bmatrix}\n",
    "\\omega+\n",
    "\\begin{bmatrix}\n",
    "0\\\\e^t\\\\0\\\\cost\n",
    "\\end{bmatrix}$$\n",
    "且：\n",
    "$$\\omega(0)=\n",
    "\\begin{bmatrix}\n",
    "1\\\\0\\\\0\\\\1\n",
    "\\end{bmatrix}$$\n",
    "其中：\n",
    "$$\\omega=\n",
    "\\begin{bmatrix}\n",
    "\\omega_1\\\\ \\omega_2\\\\ \\omega_3\\\\ \\omega_4\n",
    "\\end{bmatrix}$$\n"
   ]
  },
  {
   "cell_type": "markdown",
   "metadata": {},
   "source": [
    "3.试用逐步逼近法求方程组\n",
    "$$x^{\\prime}=\n",
    "\\begin{bmatrix}\n",
    " 0 & 1\\\\\n",
    "-1 & 0\n",
    "\\end{bmatrix}，$$\n",
    "满足初值条件：\n",
    "$$x(0=\n",
    ")\\begin{bmatrix}\n",
    "0\\\\1\n",
    "\\end{bmatrix}$$\n",
    "的第三次近似解。"
   ]
  },
  {
   "cell_type": "markdown",
   "metadata": {},
   "source": [
    "$\\phi_0(0)=\n",
    "\\begin{bmatrix}\n",
    "0\\\\1\n",
    "\\end{bmatrix}$"
   ]
  },
  {
   "cell_type": "markdown",
   "metadata": {},
   "source": [
    "$\\phi_1(0)=\n",
    "\\begin{bmatrix}\n",
    "0\\\\1\n",
    "\\end{bmatrix}\n",
    "+\\int^t_0\n",
    "\\begin{bmatrix}\n",
    "0 & 1\\\\-1 & 0\n",
    "\\end{bmatrix}\n",
    "\\begin{bmatrix}\n",
    "0\\\\1\n",
    "\\end{bmatrix}\n",
    "\\,ds\n",
    "=\n",
    "\\begin{bmatrix}\n",
    "0\\\\1\n",
    "\\end{bmatrix}\n",
    "+\n",
    "\\begin{bmatrix}\n",
    "t\\\\0\n",
    "\\end{bmatrix}\n",
    "=\n",
    "\\begin{bmatrix}\n",
    "t\\\\1\n",
    "\\end{bmatrix}$"
   ]
  },
  {
   "cell_type": "markdown",
   "metadata": {},
   "source": [
    "$\\phi_2(0)=\n",
    "\\begin{bmatrix}\n",
    "0\\\\1\n",
    "\\end{bmatrix}\n",
    "+\n",
    "\\int^t_0\n",
    "\\begin{bmatrix}\n",
    " 0 & 1\\\\-1 & 0\n",
    "\\end{bmatrix}\n",
    "\\begin{bmatrix}\n",
    "s\\\\1\n",
    "\\end{bmatrix}\n",
    "\\,ds\n",
    "=\n",
    "\\begin{bmatrix}\n",
    "0\\\\1\n",
    "\\end{bmatrix}\n",
    "+\n",
    "\\begin{bmatrix}\n",
    "t\\\\-\\frac{t^2}{2}\n",
    "\\end{bmatrix}\n",
    "=\n",
    "\\begin{bmatrix}\n",
    "t\\\\1-\\frac{t^2}{2}\n",
    "\\end{bmatrix}$"
   ]
  },
  {
   "cell_type": "markdown",
   "metadata": {},
   "source": [
    "$\\phi_3(0)=\n",
    "\\begin{bmatrix}\n",
    "0\\\\1\n",
    "\\end{bmatrix}\n",
    "+\n",
    "\\int^t_0\n",
    "\\begin{bmatrix}\n",
    " 0 & 1\\\\-1 & 0\n",
    "\\end{bmatrix}\n",
    "\\begin{bmatrix}\n",
    "s\\\\1-\\frac{s^2}{2}\n",
    "\\end{bmatrix}\n",
    "\\,ds\n",
    "=\n",
    "\\begin{bmatrix}\n",
    "0\\\\1\n",
    "\\end{bmatrix}\n",
    "+\n",
    "\\begin{bmatrix}\n",
    "t-\\frac{t^3}{6}\\\\1-\\frac{t^2}{2}\n",
    "\\end{bmatrix}\n",
    "=\n",
    "\\begin{bmatrix}\n",
    "t-\\frac{t^3}{6}\\\\2-\\frac{t^2}{2}\n",
    "\\end{bmatrix}$"
   ]
  },
  {
   "cell_type": "markdown",
   "metadata": {},
   "source": [
    "$A$"
   ]
  }
 ],
 "metadata": {
  "kernelspec": {
   "display_name": "SageMath 7.3",
   "language": "",
   "name": "sagemath"
  },
  "language_info": {
   "codemirror_mode": {
    "name": "ipython",
    "version": 2
   },
   "file_extension": ".py",
   "mimetype": "text/x-python",
   "name": "python",
   "nbconvert_exporter": "python",
   "pygments_lexer": "ipython2",
   "version": "2.7.10"
  }
 },
 "nbformat": 4,
 "nbformat_minor": 0
}
