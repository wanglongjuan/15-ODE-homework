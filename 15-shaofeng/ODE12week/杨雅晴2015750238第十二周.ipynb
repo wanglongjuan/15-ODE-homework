{
 "cells": [
  {
   "cell_type": "markdown",
   "metadata": {},
   "source": [
    "## 4.3      1.求解下列方程"
   ]
  },
  {
   "cell_type": "markdown",
   "metadata": {},
   "source": [
    "### (2) $xx''-(x')^2+(x')^3=0$"
   ]
  },
  {
   "cell_type": "markdown",
   "metadata": {},
   "source": [
    "**解：** 令$x'=y$，则方程化为$$xy\\frac{dy} {dx}-y^2+y^3=0$$"
   ]
  },
  {
   "cell_type": "markdown",
   "metadata": {},
   "source": [
    "则$$y=0或\\frac{dy} {dx}=\\frac{y-y^2} {x}$$"
   ]
  },
  {
   "cell_type": "markdown",
   "metadata": {},
   "source": [
    "积分后得$$\\frac{y} {1-y}=c_1x$$\n",
    "即$$\\frac{x'} {1-x'}=c_1x$$"
   ]
  },
  {
   "cell_type": "markdown",
   "metadata": {},
   "source": [
    "再次积分得$$x+\\frac{1} {c_1}ln|x|=t+c_2$$\n",
    "当$y=0$时，$x=c$"
   ]
  },
  {
   "cell_type": "markdown",
   "metadata": {},
   "source": [
    "所以，方程的解为$$x+\\frac{1} {c_1}ln|x|=t+c_2或x=c$$"
   ]
  },
  {
   "cell_type": "markdown",
   "metadata": {},
   "source": [
    "### (4) $x''+\\sqrt{1-(x')^2}=0$"
   ]
  },
  {
   "cell_type": "markdown",
   "metadata": {},
   "source": [
    "**解：** 令$x'=y$，则方程化为$$y\\frac{dy} {dx}+\\sqrt{1-y^2}=0$$"
   ]
  },
  {
   "cell_type": "markdown",
   "metadata": {},
   "source": [
    "当$y=\\pm 1$时，$x'=\\pm t+c_1$"
   ]
  },
  {
   "cell_type": "markdown",
   "metadata": {},
   "source": [
    "当$y\\not=\\pm 1$，把方程化为$$\\frac{ydy} {\\sqrt{1-y^2}}=-dx$$"
   ]
  },
  {
   "cell_type": "markdown",
   "metadata": {},
   "source": [
    "积分后得$\\sqrt{1-x'^2}=x+c$，即$x'=\\pm \\sqrt{1-(x+c)^2}$"
   ]
  },
  {
   "cell_type": "markdown",
   "metadata": {},
   "source": [
    "再次积分得\n",
    "\n",
    "当$x'=\\sqrt{1-(x+c)^2}$时，$x=\\sin{t+c_1}-c$\n",
    "\n",
    "当$x'=-\\sqrt{1-(x+c)^2}$时，$x=\\cos{t+c_1}-c$"
   ]
  },
  {
   "cell_type": "markdown",
   "metadata": {},
   "source": [
    "综上所述，原方程的解为$x'=\\pm t+c_1$或$x=\\sin{t+c_1}-c$或$x=\\cos{t+c_1}-c$"
   ]
  },
  {
   "cell_type": "markdown",
   "metadata": {},
   "source": [
    "### （6）$x''-\\frac{1} {t}x'+(x')^2=0$"
   ]
  },
  {
   "cell_type": "markdown",
   "metadata": {},
   "source": [
    "**解：** 当$x'\\not=0$时，方程两边同时除以$x'$，得$$\\frac{x''} {x'}-\\frac{1} {t}+x'=0$$\n",
    "即$$d(ln|x'|-ln|t|+x)=0$$"
   ]
  },
  {
   "cell_type": "markdown",
   "metadata": {},
   "source": [
    "两边积分得$$ln|\\frac{x'} {t}|+x=c_1$$\n",
    "解出$x'$得$$x'=t(e^{-x+c_1})$$"
   ]
  },
  {
   "cell_type": "markdown",
   "metadata": {},
   "source": [
    "再次积分得$$e^x=e^{c_1}(\\frac{t^2} {2})+c_2$$\n",
    "写为$$e^x=c_1(t^2+c_2)$$"
   ]
  },
  {
   "cell_type": "markdown",
   "metadata": {},
   "source": [
    "综上所述，方程的解为$$e^x=c_1(t^2+c_2)或x=c$$"
   ]
  },
  {
   "cell_type": "markdown",
   "metadata": {
    "collapsed": true
   },
   "source": [
    "## 2.用幂级数解法求解下列方程"
   ]
  },
  {
   "cell_type": "markdown",
   "metadata": {},
   "source": [
    "### （2）$(1-t)x''+x=0$"
   ]
  },
  {
   "cell_type": "markdown",
   "metadata": {},
   "source": [
    "**解：** 设方程的解为$x=a_0+a_1t+a_2t^2+a_3t^3+\\cdots+a_nt^n+\\cdots$是方程的解\n",
    "\n",
    "则$$x'=a_1+2a_2t+3a_3t^2+\\cdots+na_nt^{n-1}+\\cdots$$\n",
    "  $$x''=2a_2+6a_3t+\\cdots+n(n-1)a_nt^{n-2}+\\cdots$$"
   ]
  },
  {
   "cell_type": "markdown",
   "metadata": {},
   "source": [
    "把$x,x',x''$代入方程，合并t的各同次幂的项，并令各项系数等于零，得到\n",
    "$$\n",
    "\\begin{cases}\n",
    "a_0+2a_2=0\\\\\n",
    "a_1-2a_2+6a_3=0\\\\\n",
    "n(n-1)a_n-(n-1)(n-2)a_{n-1}+a_{n-2}=0\n",
    "\\end{cases}\n",
    "$$"
   ]
  },
  {
   "cell_type": "markdown",
   "metadata": {},
   "source": [
    "由于本题设有初值条件，所以求出的应该是方程的通解。因此需找到两个线性无关的解\n",
    "\n",
    "设$x_1(t)$和E$x_2(t)$是满足初值条件$x_1(0)=0,x'_1(0)=1,x_2(0)=1,x'_2(0)=0$的两个解"
   ]
  },
  {
   "cell_type": "markdown",
   "metadata": {},
   "source": [
    "对于$x_1(t)$,显然有$a_0=0,a_1=1$带入上式得到\n",
    "\n",
    "$$a_2=0,a_3=\\frac{-1}{3·2},a_4=\\frac{-1}{4·3}=\\frac{-2}{4·3·2},a_5=\\frac{-5}{5·4·3·2},\\cdots,a_n=\\frac{(n-1)(n-2)a_{n-1}-a_{n-2}}{n(n-1)}$$\n",
    "\n",
    "即$$x_1(t)=t-\\frac{t^3}{3!}-\\frac{2}{4!}t^4-\\frac{5}{5!}t^5\\cdots$$"
   ]
  },
  {
   "cell_type": "markdown",
   "metadata": {},
   "source": [
    "对于$x_2(t)$,有$a_0=1,a_1=0$带入得到\n",
    "\n",
    "$$a_2=-\\frac{1}{2},a_3=\\frac{-1}{3·2},a_4=\\frac{-1}{4·3·2}\\cdots,a_n=\\frac{(n-1)(n-2)a_{n-1}-a_{n-2}}{n(n-1)}$$\n",
    "\n",
    "即$$x_2(t)=1-\\frac{1}{2!}t^2-\\frac{1}{3!}t^3-\\frac{1}{4!}t^4-\\cdots$$"
   ]
  },
  {
   "cell_type": "markdown",
   "metadata": {},
   "source": [
    "所以方程的通解为\n",
    "$$\\begin{aligned}x&=c_1x_1(t)+c_2x_2(t)\\\\&=c_1(t-\\frac{1}{3!}t^3-\\frac{2}{4!}t^4-\\frac{5}{5!}t^5\\cdots)+c_2(1-\\frac{1}{2!}t^2-\\frac{1}{3!}t^3-\\frac{1}{4!}t^4\\cdots)\\end{aligned}$$"
   ]
  },
  {
   "cell_type": "markdown",
   "metadata": {},
   "source": [
    "## 5.1  .2.将下面的初值问题化为与之等价的一阶方程组的初值问题"
   ]
  },
  {
   "cell_type": "markdown",
   "metadata": {},
   "source": [
    "### (3)$\\begin{cases}x''+5y'-7x+6y=e^t\\\\y''-2y+13y'-15x=\\cos t\\end{cases}\n",
    "\\\\x(0)=1,x'(0)=0,y(0)=0,y'(0)=1$"
   ]
  },
  {
   "cell_type": "markdown",
   "metadata": {},
   "source": [
    "**解：**令$w_1=x,w_2=x',w_3=y,w_4=y'$，则原方程组\n",
    "$$\\begin{pmatrix}w_1\\\\w_2\\\\w_3\\\\w_4\\\\\\end{pmatrix}=\\begin{pmatrix}0&1&0&0\\\\7&0&-6&-5\\\\0&0&0&1\\\\15&0&2&-13\\\\\\end{pmatrix}\\begin{pmatrix}w_1\\\\w_2\\\\w_3\\\\w_4\\\\\\end{pmatrix}+\\begin{pmatrix}0\\\\e^t\\\\0\\\\{\\cos t}\\\\\\end{pmatrix}$$\n",
    "初值条件为$w_1(0)=1,w_2(0)=0,w_3(0)=0,w_4(0)=1$"
   ]
  },
  {
   "cell_type": "markdown",
   "metadata": {},
   "source": [
    "## 3.试用逐步逼近法求方程组\n",
    "### $$x'={\\left[\\begin{matrix}0&1\\\\-1&0\\\\\\end{matrix}\\right]}x$$ 满足初值条件\n",
    "### $$x(0)=\\left[\\begin{matrix}0\\\\1\\\\\\end{matrix}\\right]$$的第三次近似解"
   ]
  },
  {
   "cell_type": "markdown",
   "metadata": {},
   "source": [
    "**解：**$$\\varphi_0(t)=\\left[\\begin{matrix}0\\\\1\\\\\\end{matrix}\\right]$$"
   ]
  },
  {
   "cell_type": "markdown",
   "metadata": {},
   "source": [
    "$$\\begin{aligned}\\varphi_1(t)&=\\left[\\begin{matrix}0\\\\1\\\\\\end{matrix}\\right]+\\int_{1}^{0}\\mathrm {{\\left[\\begin{matrix}0&1\\\\-1&0\\\\\\end{matrix}\\right]}{\\left[\\begin{matrix}0\\\\1\\\\\\end{matrix}\\right]}}\\mathrm{d} s\\\\&=\\left[\\begin{matrix}0\\\\1\\\\\\end{matrix}\\right]+\\int_{0}{t}\\mathrm {\\left[\\begin{matrix}1\\\\0\\\\\\end{matrix}\\right]}\\mathrm{d} s\\\\&=\\left[\\begin{matrix}0\\\\1\\\\\\end{matrix}\\right]+\\left[\\begin{matrix}t\\\\0\\\\\\end{matrix}\\right]\\\\&=\\left[\\begin{matrix}t\\\\1\\\\\\end{matrix}\\right]\\end{aligned}$$"
   ]
  },
  {
   "cell_type": "markdown",
   "metadata": {},
   "source": [
    "$$\\begin{aligned}\\varphi_2(t)&=\\left[\\begin{matrix}0\\\\1\\\\\\end{matrix}\\right]+\\int_{0}^{t}\\mathrm {{\\left[\\begin{matrix}0&1\\\\-1&0\\\\\\end{matrix}\\right]}{\\left[\\begin{matrix}t\\\\1\\\\\\end{matrix}\\right]}}\\mathrm{d} t\\\\&=\\left[\\begin{matrix}0\\\\1\\\\\\end{matrix}\\right]+\\int_{0}{t}\\mathrm {\\left[\\begin{matrix}1\\\\-t\\\\\\end{matrix}\\right]}\\mathrm{d} t\\\\&=\\left[\\begin{matrix}0\\\\1\\\\\\end{matrix}\\right]+\\left[\\begin{matrix}t\\\\-\\frac{1}{2}t^2\\\\\\end{matrix}\\right]\\\\&=\\left[\\begin{matrix}t\\\\1-\\frac{1}{2}t^2\\\\\\end{matrix}\\right]\\end{aligned}$$"
   ]
  },
  {
   "cell_type": "markdown",
   "metadata": {},
   "source": [
    "$$\\begin{aligned}\\varphi_3(t)&=\\left[\\begin{matrix}0\\\\1\\\\\\end{matrix}\\right]+\\int_{0}^{t}\\mathrm {{\\left[\\begin{matrix}0&1\\\\-1&0\\\\\\end{matrix}\\right]}{\\left[\\begin{matrix}s\\\\1-\\frac{1}{2}s^2\\\\\\end{matrix}\\right]}}\\mathrm{d} s\\\\&=\\left[\\begin{matrix}0\\\\1\\\\\\end{matrix}\\right]+\\int_{0}^{t}\\mathrm {{\\left[\\begin{matrix}1-\\frac{1}{2}s^2\\\\-s\\\\\\end{matrix}\\right]}}\\mathrm {d} s\\\\&=\\left[\\begin{matrix}0\\\\1\\\\\\end{matrix}\\right]+\\left[\\begin{matrix}t-\\frac{1}{6}t^3\\\\-\\frac{1}{2}t^2\\\\\\end{matrix}\\right]\\\\&=\\left[\\begin{matrix}t-\\frac{1}{6}t^3\\\\1-\\frac{1}{2}t^2\\\\\\end{matrix}\\right]\\end{aligned}$$"
   ]
  },
  {
   "cell_type": "markdown",
   "metadata": {},
   "source": [
    "所以，满足初值条件$x(0)=\\left[\\begin{matrix}0\\\\1\\\\\\end{matrix}\\right]$的第三次近似解是\n",
    "$$\\varphi_3(t)=\\left[\\begin{matrix}t-\\frac{1}{6}t^3\\\\1-\\frac{1}{2}t^2\\\\\\end{matrix}\\right]$$"
   ]
  },
  {
   "cell_type": "markdown",
   "metadata": {},
   "source": [
    "$A^+$"
   ]
  }
 ],
 "metadata": {
  "kernelspec": {
   "display_name": "SageMath 7.3",
   "language": "",
   "name": "sagemath"
  },
  "language_info": {
   "codemirror_mode": {
    "name": "ipython",
    "version": 2
   },
   "file_extension": ".py",
   "mimetype": "text/x-python",
   "name": "python",
   "nbconvert_exporter": "python",
   "pygments_lexer": "ipython2",
   "version": "2.7.10"
  }
 },
 "nbformat": 4,
 "nbformat_minor": 0
}
