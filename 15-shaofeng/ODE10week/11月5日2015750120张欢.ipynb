{
 "cells": [
  {
   "cell_type": "markdown",
   "metadata": {},
   "source": [
    "# 1.求下列方程的通解"
   ]
  },
  {
   "cell_type": "markdown",
   "metadata": {},
   "source": [
    "## （1）$t^2x^{\\prime\\prime}+tx^{\\prime}-x=0$"
   ]
  },
  {
   "cell_type": "markdown",
   "metadata": {},
   "source": [
    "### 解\n",
    "\n",
    "设形式解为$x=t^K$,得到K满足的方程\n",
    "\n",
    "$$K(K-1)+K-1=0$$\n",
    "因此$K_1=1,K_2=-1$\n",
    "\n",
    "所以方程通解为$x=c_1t+c_2\\frac{1}{t}$"
   ]
  },
  {
   "cell_type": "markdown",
   "metadata": {},
   "source": [
    "## (2)$t^2x^{\\prime\\prime}-4tx^{\\prime}+6x=t$"
   ]
  },
  {
   "cell_type": "markdown",
   "metadata": {},
   "source": [
    "### 解\n",
    "\n",
    "先算出齐次方程的通解，方程为$t^2x^{\\prime\\prime}-4tx^{\\prime}+6x=0$\n",
    "\n",
    "设形式解为$x=t^K$,得到K所满足的方程\n",
    "\n",
    "$$K(K-1)-4K+6=0$$\n",
    "化简为$$K^2-5K+6=0$$\n",
    "得出$K_1=2，K_2=3$\n",
    "\n",
    "所求的齐次方程通解为$x=c_1x^2+c_2x^3$\n",
    "\n",
    "再来算原本欧拉方程的特解，\n",
    "特解方程为$x=at$,代入原方程有\n",
    "$$-4at+6at=t$$\n",
    "解得$t=\\frac{1}{2}$\n",
    "\n",
    "所以欧拉方程的通解为$$x=c_1t^2+c_2t^3+\\frac{1}{2}t$$"
   ]
  },
  {
   "cell_type": "markdown",
   "metadata": {},
   "source": [
    "$A^+$"
   ]
  },
  {
   "cell_type": "markdown",
   "metadata": {},
   "source": []
  },
  {
   "cell_type": "markdown",
   "metadata": {},
   "source": []
  }
 ],
 "metadata": {
  "kernelspec": {
   "display_name": "SageMath 7.3",
   "language": "",
   "name": "sagemath"
  },
  "language_info": {
   "codemirror_mode": {
    "name": "ipython",
    "version": 2
   },
   "file_extension": ".py",
   "mimetype": "text/x-python",
   "name": "python",
   "nbconvert_exporter": "python",
   "pygments_lexer": "ipython2",
   "version": "2.7.10"
  }
 },
 "nbformat": 4,
 "nbformat_minor": 0
}
