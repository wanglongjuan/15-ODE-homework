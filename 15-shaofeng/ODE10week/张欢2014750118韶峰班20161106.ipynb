{
 "cells": [
  {
   "cell_type": "markdown",
   "metadata": {},
   "source": [
    "# Page  165"
   ]
  },
  {
   "cell_type": "markdown",
   "metadata": {},
   "source": [
    "## 3求解下列方程的通解"
   ]
  },
  {
   "cell_type": "markdown",
   "metadata": {},
   "source": [
    "### (1)$t^2x^{(2)}+tx^{\\prime}-x=0$"
   ]
  },
  {
   "cell_type": "markdown",
   "metadata": {},
   "source": [
    "**解：**设$x=t^k$\n",
    "\n",
    "原式化为$$k(k-1)t^k+kt^k-t^k=0$$\n",
    "\n",
    "$$\\to k=1或k=-1$$\n",
    "\n",
    "所以，通解为$$x=c_1t+c_2 \\frac{1}{t}  \\  (c_1,c_2为任意实数)$$"
   ]
  },
  {
   "cell_type": "markdown",
   "metadata": {},
   "source": [
    "### (2)$t^2x^{(2)}-4tx^{\\prime}+6x=t$"
   ]
  },
  {
   "cell_type": "markdown",
   "metadata": {},
   "source": [
    "**解：**先求出齐次方程的通解:\n",
    "\n",
    "设$x=t^k$\n",
    "\n",
    "原式化为$$k(k-1)t^k-4kt^k+6t^k=0$$\n",
    "\n",
    "$$\\to k=2或k=3$$\n",
    "\n",
    "所以，通解为$$c_1t^2+c_2 t^3  \\  (c_1,c_2为任意实数)$$\n",
    "\n",
    "因为此处$f(t)=t$,0不是特征根.故而设特解为$x=at$,并代入原方程\n",
    "\n",
    "$$ \\to a=\\frac{1}{2}$$\n",
    "\n",
    "所以原方程的通解为$$x=c_1t^2+c_2 t^3+ \\frac{1}{2}t  \\  (c_1,c_2为任意实数)$$"
   ]
  },
  {
   "cell_type": "markdown",
   "metadata": {
    "collapsed": true
   },
   "source": [
    "$A^+$"
   ]
  },
  {
   "cell_type": "code",
   "execution_count": null,
   "metadata": {
    "collapsed": true
   },
   "outputs": [],
   "source": []
  }
 ],
 "metadata": {
  "kernelspec": {
   "display_name": "SageMath 7.3",
   "language": "",
   "name": "sagemath"
  },
  "language_info": {
   "codemirror_mode": {
    "name": "ipython",
    "version": 2
   },
   "file_extension": ".py",
   "mimetype": "text/x-python",
   "name": "python",
   "nbconvert_exporter": "python",
   "pygments_lexer": "ipython2",
   "version": "2.7.10"
  }
 },
 "nbformat": 4,
 "nbformat_minor": 0
}
