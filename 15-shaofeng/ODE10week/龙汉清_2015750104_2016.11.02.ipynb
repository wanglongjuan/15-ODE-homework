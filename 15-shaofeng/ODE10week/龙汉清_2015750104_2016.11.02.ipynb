{
 "cells": [
  {
   "cell_type": "markdown",
   "metadata": {},
   "source": [
    "# The homework of ODE"
   ]
  },
  {
   "cell_type": "markdown",
   "metadata": {},
   "source": [
    "## 1. Find the general solution of the following equations"
   ]
  },
  {
   "cell_type": "markdown",
   "metadata": {},
   "source": [
    "### (1) $t^2x'' + tx - x = 0$"
   ]
  },
  {
   "cell_type": "markdown",
   "metadata": {},
   "source": [
    "let $\\quad$ $x = t^k$ $\\quad$ and put it into the above equation we get\n",
    "$$\n",
    "k(k - 1) + k - 1 = 0\n",
    "$$\n",
    "\n",
    "so $\\quad$ $k = \\pm 1$\n",
    "\n",
    "the general solution is\n",
    "$$\n",
    "x = c_1t^{-1} + c_2t^1\n",
    "$$"
   ]
  },
  {
   "cell_type": "markdown",
   "metadata": {},
   "source": [
    "### (2) $t^2x'' - 4tx' + 6x = t$"
   ]
  },
  {
   "cell_type": "markdown",
   "metadata": {},
   "source": [
    "let $\\quad$ $x = t^k$ and put it into $\\quad$ $t^2x'' - 4tx' + 6x = 0$ $\\quad$ we get\n",
    "$$\n",
    "k(k - 1) + k - 1 = 0\n",
    "$$\n",
    "\n",
    "so $k = 2$ $\\quad$ or $\\quad$ $k = 3$\n",
    "\n",
    "let $\\quad$ $x = Bt$ $\\quad$ and put it into $\\quad$ $t^2x'' - 4tx' + 6x = t$ \n",
    "\n",
    "we get $\\quad$ $B = {1 \\over 2}$\n",
    "\n",
    "we get a special solution: $x = {1 \\over 2}t$\n",
    "\n",
    "so, the general solution is\n",
    "$$\n",
    "x = c_1t^{-1} + c_2t^1 + {1 \\over 2}t\n",
    "$$"
   ]
  },
  {
   "cell_type": "markdown",
   "metadata": {
    "collapsed": true
   },
   "source": [
    "$A^+$"
   ]
  },
  {
   "cell_type": "code",
   "execution_count": null,
   "metadata": {
    "collapsed": true
   },
   "outputs": [],
   "source": []
  }
 ],
 "metadata": {
  "kernelspec": {
   "display_name": "SageMath 7.3",
   "language": "",
   "name": "sagemath"
  },
  "language_info": {
   "codemirror_mode": {
    "name": "ipython",
    "version": 2
   },
   "file_extension": ".py",
   "mimetype": "text/x-python",
   "name": "python",
   "nbconvert_exporter": "python",
   "pygments_lexer": "ipython2",
   "version": "2.7.10"
  }
 },
 "nbformat": 4,
 "nbformat_minor": 0
}
