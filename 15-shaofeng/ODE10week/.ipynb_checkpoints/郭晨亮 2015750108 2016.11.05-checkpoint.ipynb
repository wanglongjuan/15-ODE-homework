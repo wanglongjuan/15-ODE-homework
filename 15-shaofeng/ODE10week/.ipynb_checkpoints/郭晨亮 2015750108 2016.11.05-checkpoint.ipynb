{
 "cells": [
  {
   "cell_type": "markdown",
   "metadata": {},
   "source": [
    "#### 求下列方程的通解"
   ]
  },
  {
   "cell_type": "markdown",
   "metadata": {},
   "source": [
    "（1）$t^2x\\prime \\prime +tx\\prime -x=0$"
   ]
  },
  {
   "cell_type": "markdown",
   "metadata": {},
   "source": [
    "解：设$x=t^k$\n",
    "$$k(k-1)+k-1=0$$\n",
    "\n",
    "$$(k-1)^2=0$$\n",
    "\n",
    "$$k_1=1,k_2=-1$$\n",
    "\n",
    "所以方程的解为\n",
    "$$x=c_1t+c_2{1 \\over t}$$"
   ]
  },
  {
   "cell_type": "markdown",
   "metadata": {},
   "source": [
    "（2）$t^2x\\prime \\prime -4tx\\prime +6x=t$"
   ]
  },
  {
   "cell_type": "markdown",
   "metadata": {},
   "source": [
    "解：对于方程\n",
    "$$t^2x\\prime \\prime -4tx\\prime +6x=0$$\n",
    "\n",
    "设$x=t^k$\n",
    "\n",
    "$$k(k-1)-4k+6=0$$\n",
    "\n",
    "$$k^2-5k+6=0$$\n",
    "\n",
    "$$(k-2)(k-3)=0$$\n",
    "\n",
    "$$k_1=2,k_2=3$$\n",
    "\n",
    "方程的解为\n",
    "\n",
    "$$x=c_1t^2+c_2t^3$$\n",
    "\n",
    "$$x_1=c_1(t)t^2+c_2(t)t^3$$\n",
    "\n",
    "$$\n",
    "\\begin{cases}\n",
    "t^2c_1\\prime (t)+t^3c_2\\prime (t)=0 \\\\\n",
    "2tc_1\\prime (t)+3t^2c_2\\prime (t)={1 \\over t}\n",
    "\\end{cases}\n",
    "$$\n",
    "\n",
    "$$\n",
    "\\begin{cases}\n",
    "c_1\\prime (t)=-{1 \\over t^2} \\\\\n",
    "c_2\\prime (t)={1 \\over t^3}\n",
    "\\end{cases}\n",
    "$$\n",
    "\n",
    "$$\n",
    "\\begin{cases}\n",
    "c_1(t)={1 \\over t}+c_1 \\\\\n",
    "c_2(t)=-{1 \\over 2t^2}+c_2\n",
    "\\end{cases}\n",
    "$$\n",
    "\n",
    "所以方程的解为\n",
    "\n",
    "$$x=c_1t^2+c_2t^3+{1 \\over 2}t$$"
   ]
  },
  {
   "cell_type": "markdown",
   "metadata": {},
   "source": [
    "$A^+$"
   ]
  },
  {
   "cell_type": "code",
   "execution_count": null,
   "metadata": {
    "collapsed": true
   },
   "outputs": [],
   "source": []
  }
 ],
 "metadata": {
  "kernelspec": {
   "display_name": "SageMath 7.3",
   "language": "",
   "name": "sagemath"
  },
  "language_info": {
   "codemirror_mode": {
    "name": "ipython",
    "version": 2
   },
   "file_extension": ".py",
   "mimetype": "text/x-python",
   "name": "python",
   "nbconvert_exporter": "python",
   "pygments_lexer": "ipython2",
   "version": "2.7.10"
  }
 },
 "nbformat": 4,
 "nbformat_minor": 0
}
