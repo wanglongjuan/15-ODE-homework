{
 "cells": [
  {
   "cell_type": "markdown",
   "metadata": {},
   "source": [
    "# 求下列方程的通解"
   ]
  },
  {
   "cell_type": "markdown",
   "metadata": {},
   "source": [
    "## 1：$t^2x''+tx'-x=0$"
   ]
  },
  {
   "cell_type": "markdown",
   "metadata": {},
   "source": [
    "### 解\n",
    "\n",
    "寻求方程的形式解$x=t^K$,得到得到确定K的方程$K(K-1)+K-1=0$\n",
    "\n",
    "即$$(K+1)(K-1)=0$$\n",
    "所以$K_1=-1,K_2=1$\n",
    "所以方程的通解为$x=c_1t+c_2t^{-1}$"
   ]
  },
  {
   "cell_type": "markdown",
   "metadata": {},
   "source": [
    "## 2:$t^2x''-4tx'+6x=t$"
   ]
  },
  {
   "cell_type": "markdown",
   "metadata": {},
   "source": [
    "### 解\n",
    "\n",
    "寻求其齐次形式方程的形式解$x=t^K$,得到得到确定K的方程\n",
    "$$K(K-1)-4K+6=0$$\n",
    "即$$=>K^2-5K+6=0$$\n",
    "得出$K_1=2，K_2=3$\n",
    "\n",
    "所以齐次方程的通解为$x=c_1t^2+c_2t^3$\n",
    "\n",
    "我们设特解为$x*=bt$,代入原方程得$b=\\frac{1}{2}$,故所求的欧拉方程通解为$$x=c_1t^2+c_2t^3+\\frac{t}{2}$$"
   ]
  },
  {
   "cell_type": "markdown",
   "metadata": {},
   "source": [
    "$A$"
   ]
  },
  {
   "cell_type": "markdown",
   "metadata": {},
   "source": []
  },
  {
   "cell_type": "markdown",
   "metadata": {},
   "source": []
  },
  {
   "cell_type": "markdown",
   "metadata": {},
   "source": []
  },
  {
   "cell_type": "markdown",
   "metadata": {},
   "source": []
  },
  {
   "cell_type": "markdown",
   "metadata": {},
   "source": []
  },
  {
   "cell_type": "markdown",
   "metadata": {},
   "source": []
  }
 ],
 "metadata": {
  "kernelspec": {
   "display_name": "SageMath 7.3",
   "language": "",
   "name": "sagemath"
  },
  "language_info": {
   "codemirror_mode": {
    "name": "ipython",
    "version": 2
   },
   "file_extension": ".py",
   "mimetype": "text/x-python",
   "name": "python",
   "nbconvert_exporter": "python",
   "pygments_lexer": "ipython2",
   "version": "2.7.10"
  }
 },
 "nbformat": 4,
 "nbformat_minor": 0
}
