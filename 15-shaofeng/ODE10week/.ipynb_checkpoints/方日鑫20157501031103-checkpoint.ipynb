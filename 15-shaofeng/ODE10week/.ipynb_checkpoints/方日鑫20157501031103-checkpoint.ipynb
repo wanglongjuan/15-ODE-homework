{
 "cells": [
  {
   "cell_type": "markdown",
   "metadata": {},
   "source": [
    "# 1.求下列方程的通解"
   ]
  },
  {
   "cell_type": "markdown",
   "metadata": {},
   "source": [
    "# (1)$$t^2 x''+tx'-x=0$$"
   ]
  },
  {
   "cell_type": "markdown",
   "metadata": {},
   "source": [
    "解:\n",
    "设：$x=t^K$则\n",
    "$$K(K-1)+K-1=0\\\\\n",
    "(K+1)(K-1)=0\n",
    "$$\n",
    "所以$$K=\\pm 1\\\\$$\n",
    "所以通解为\n",
    "$$y=c_1t^{-1}+c_2t$$"
   ]
  },
  {
   "cell_type": "markdown",
   "metadata": {},
   "source": [
    "# (2)$$t^2 x''-4tx'+6x=t$$"
   ]
  },
  {
   "cell_type": "markdown",
   "metadata": {},
   "source": [
    "解：\n",
    "作变换$t=e^s,s=\\ln t$\n",
    "则$$\\frac{\\mathrm dx}{\\mathrm dt}=e^{-s}\\frac{\\mathrm dx}{\\mathrm ds}\\\\\n",
    "\\frac{\\mathrm d^2 x}{\\mathrm dt^2}=e^{-2s}(\\frac{\\mathrm d^2 x}{\\mathrm ds^2}-\\frac{\\mathrm dx}{\\mathrm ds})\\\\\n",
    "$$\n",
    "方程可化为$$\\frac{\\mathrm d^2 x}{\\mathrm d^2 s}-5\\frac{\\mathrm d x}{\\mathrm d s}+6x=e^s$$\n",
    "特征方程为$$\\lambda ^2-5\\lambda+6=0\\\\$$\n",
    "所以基本解组为$x_1=e^{2s},x_2=e^{3s}\\\\$\n",
    "设$x=c_1(s)x_1+c_2(s)x_2\\\\$\n",
    "所以\n",
    "$$\n",
    "\\begin{cases}\n",
    "e^{2s}c_1'(s)+e^{3s}c_2'(s)=0\\\\\n",
    "2e^{2s}c_1'(s)+3e^{3s}c_2'(s)=e^s\\\\\n",
    "\\end{cases}\n",
    "$$\n",
    "所以$$c_1(s)=c_1+e^{-s},c_2(s)=c_2-\\frac{e^{-2s}}{2}$$\n",
    "所以$$x=c_1(s)x_1+c_2(s)x_2=c_1 t^2+c_2 t^3+\\frac{t}{2}$$"
   ]
  },
  {
   "cell_type": "markdown",
   "metadata": {},
   "source": [
    "$A^+$"
   ]
  },
  {
   "cell_type": "code",
   "execution_count": null,
   "metadata": {
    "collapsed": true
   },
   "outputs": [],
   "source": []
  }
 ],
 "metadata": {
  "kernelspec": {
   "display_name": "SageMath 7.3",
   "language": "",
   "name": "sagemath"
  },
  "language_info": {
   "codemirror_mode": {
    "name": "ipython",
    "version": 2
   },
   "file_extension": ".py",
   "mimetype": "text/x-python",
   "name": "python",
   "nbconvert_exporter": "python",
   "pygments_lexer": "ipython2",
   "version": "2.7.10"
  }
 },
 "nbformat": 4,
 "nbformat_minor": 0
}
