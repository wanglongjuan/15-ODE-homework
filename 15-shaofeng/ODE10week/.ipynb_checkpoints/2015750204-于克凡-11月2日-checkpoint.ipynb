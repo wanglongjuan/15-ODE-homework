{
 "cells": [
  {
   "cell_type": "markdown",
   "metadata": {},
   "source": [
    "# 习题4.2"
   ]
  },
  {
   "cell_type": "markdown",
   "metadata": {},
   "source": [
    "## 题三：求下列方程的通解"
   ]
  },
  {
   "cell_type": "markdown",
   "metadata": {},
   "source": [
    "### (1)$t^2\\frac{d^2x}{dt^2}+t\\frac{dx}{dt}-x=0$"
   ]
  },
  {
   "cell_type": "markdown",
   "metadata": {},
   "source": [
    "解：此为欧拉方程，作变量变换$t=e^y,y=\\ln|t|\\implies \\mathrm dt=e^y\\mathrm dy$\n",
    "dx\n",
    "∴$\\frac{dx}{dt}=e^{-y}\\frac{dx}{dy};\\frac{d^2x}{dt^2}=e^{-y}(\\frac{d^2x}{dy^2}-\\frac{dx}{dy})$\n",
    "\n",
    "∴原方程变为$\\frac{d^2x}{dy^2}-x=0$,其特征方程为$\\lambda^2-1=0\\implies\\lambda_1=1\\lambda_2=-1$\n",
    "\n",
    "∴该方程通解为$x=c_1e^y+c_2e^{-y}=c_1t+c_2\\frac{1}{t}(c_1,c_2$为任意常数$)$"
   ]
  },
  {
   "cell_type": "markdown",
   "metadata": {},
   "source": [
    "### (2)$t^2\\frac{d^2x}{dt^2}-4t\\frac{dx}{dt}+6x=t$"
   ]
  },
  {
   "cell_type": "markdown",
   "metadata": {},
   "source": [
    "解：此为欧拉方程，作变量变换$t=e^y,y=\\ln|t|\\implies \\mathrm dt=e^y\\mathrm dy$\n",
    "dx\n",
    "∴$\\frac{dx}{dt}=e^{-y}\\frac{dx}{dy};\\frac{d^2x}{dt^2}=e^{-y}(\\frac{d^2x}{dy^2}-\\frac{dx}{dy})$\n",
    "\n",
    "∴原方程变为$\\frac{d^2x}{dy^2}-5\\frac{dx}{dy}+6x=e^y$,其特征方程为$\\lambda^2-5\\lambda+6=0\\implies\\lambda_1=2\\lambda_2=3$\n",
    "\n",
    "∴该方程的基本解组为$e^{2y};e^{3y}$\n",
    "\n",
    "记$m=\\frac{x}{e^y}\\implies x=me^y$\n",
    "\n",
    "∴$\\frac{dx}{dy}=e^y\\frac{dm}{dy}+me^y;\\frac{d^2x}{dy^2}=e^y\\frac{d^2m}{dy^2}+2e^y\\frac{dm}{dy}+me^y$\n",
    "\n",
    "得$\\frac{d^2m}{dy^2}-3\\frac{dm}{dy}+2m=1$其特征方程为$\\lambda^2-3\\lambda+2=0$\n",
    "\n",
    "∵$\\lambda=0$不是该方程的根\n",
    "\n",
    "∴此方程有特解形如$\\tilde m=A$代入可得$2A=1\\implies A=\\frac{1}{2}$\n",
    "\n",
    "∴原方程通解为$x=\\frac{1}{2}t+c_1t^2+c_2t^3$\n"
   ]
  },
  {
   "cell_type": "markdown",
   "metadata": {
    "collapsed": true
   },
   "source": [
    "$A$"
   ]
  },
  {
   "cell_type": "code",
   "execution_count": null,
   "metadata": {
    "collapsed": true
   },
   "outputs": [],
   "source": []
  }
 ],
 "metadata": {
  "kernelspec": {
   "display_name": "SageMath 7.3",
   "language": "",
   "name": "sagemath"
  },
  "language_info": {
   "codemirror_mode": {
    "name": "ipython",
    "version": 2
   },
   "file_extension": ".py",
   "mimetype": "text/x-python",
   "name": "python",
   "nbconvert_exporter": "python",
   "pygments_lexer": "ipython2",
   "version": "2.7.10"
  }
 },
 "nbformat": 4,
 "nbformat_minor": 0
}
