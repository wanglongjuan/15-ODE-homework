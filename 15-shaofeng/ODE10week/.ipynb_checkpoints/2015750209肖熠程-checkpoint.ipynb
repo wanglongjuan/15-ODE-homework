{
 "cells": [
  {
   "cell_type": "markdown",
   "metadata": {},
   "source": [
    "## 习题4.2 ##"
   ]
  },
  {
   "cell_type": "markdown",
   "metadata": {},
   "source": [
    "3.(1)$t^2x''+tx'-x=0;$"
   ]
  },
  {
   "cell_type": "markdown",
   "metadata": {},
   "source": [
    "解：令$x=t^K$,则可得关于K的方程$$K(K-1)+K-1=0$$\n",
    "解得$K_{1,2}=\\pm 1$,所以通解为$$x=c_1\\frac{1}{t}+c_2t$$\n",
    "这里$c_1,c_2$为任意常数."
   ]
  },
  {
   "cell_type": "markdown",
   "metadata": {},
   "source": [
    "(2)$t^2x''-4tx'+6x=t;$"
   ]
  },
  {
   "cell_type": "markdown",
   "metadata": {},
   "source": [
    "解：先考虑$t^2x''-4tx'+6x=0;$的解\n",
    "\n",
    "令$x=t^K$,则可得关于K的方程$$K(K-1)-4K+6=0$$\n",
    "解得$K_1=2,K_2=3$因此可得其解为$$x=c_1t^2+c_2t^3$$\n",
    "应用常数变易法可得方程的通解为$$x=c_1t^2+c_2t^3+\\frac{1}{2}t$$\n",
    "这里$c_1,c_2$为任意常数."
   ]
  },
  {
   "cell_type": "markdown",
   "metadata": {
    "collapsed": true
   },
   "source": [
    "$A$"
   ]
  },
  {
   "cell_type": "code",
   "execution_count": null,
   "metadata": {
    "collapsed": true
   },
   "outputs": [],
   "source": []
  }
 ],
 "metadata": {
  "kernelspec": {
   "display_name": "SageMath 7.3",
   "language": "",
   "name": "sagemath"
  },
  "language_info": {
   "codemirror_mode": {
    "name": "ipython",
    "version": 2
   },
   "file_extension": ".py",
   "mimetype": "text/x-python",
   "name": "python",
   "nbconvert_exporter": "python",
   "pygments_lexer": "ipython2",
   "version": "2.7.10"
  }
 },
 "nbformat": 4,
 "nbformat_minor": 0
}
