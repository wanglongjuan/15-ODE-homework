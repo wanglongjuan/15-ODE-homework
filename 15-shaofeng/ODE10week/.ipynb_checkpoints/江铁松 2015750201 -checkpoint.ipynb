{
 "cells": [
  {
   "cell_type": "markdown",
   "metadata": {},
   "source": [
    "## 求下列方程的通解。"
   ]
  },
  {
   "cell_type": "markdown",
   "metadata": {},
   "source": [
    "$(1)t^2x''+tx'-x=0$"
   ]
  },
  {
   "cell_type": "markdown",
   "metadata": {},
   "source": [
    "**解**\n",
    "\n",
    "$设x=t^K$\n",
    "\n",
    "$代入原方程得到K^2-1=0$\n",
    "\n",
    "$解得k_1=1,K_2=-1$\n",
    "\n",
    "所以原方程的通解为$x=c_1t+c_2\\frac{1}{t}$"
   ]
  },
  {
   "cell_type": "markdown",
   "metadata": {},
   "source": [
    "$(2)t^2x''-4tx'+6x=t$"
   ]
  },
  {
   "cell_type": "markdown",
   "metadata": {},
   "source": [
    "**解**\n",
    "\n",
    "$对应的齐次线性微分方程为t^2x''-4tx'+6x=0$\n",
    "\n",
    "$设x=t^K$\n",
    "\n",
    "$代入方程得K^2-5K+6=0$\n",
    "\n",
    "$K_1=2,K_2=3$\n",
    "\n",
    "$将原方程变换为x''-4 \\frac{x'}{t}+6 \\frac{x}{t^2}=\\frac{1}{t}$\n",
    "\n",
    "$设x=c_1(t)t^2+c_2(t)t^3$\n",
    "\n",
    "$则\\begin{cases}\n",
    "c'_1(t)t^2+c'_2(t)t^3=0 \\\\\n",
    "2c'_1(t)t+3c'_2(t)t^2=\\frac{1}{t} \\\\\n",
    "\\end{cases}\n",
    "$\n",
    "\n",
    "$解得c'_1(t)=-t^{-2},c'_2(t)=t^{-3}$\n",
    "\n",
    "$c_1(t)=\\frac{1}{t}+c_1,c_2(t)=-\\frac{1}{2}t^{-2}+c_2$\n",
    "\n",
    "$代入得一个特解为x=\\frac{1}{2}t$\n",
    "\n",
    "$所以通解为x=c_3t^2+c_4t^3+\\frac{1}{2}t$"
   ]
  },
  {
   "cell_type": "markdown",
   "metadata": {
    "collapsed": true
   },
   "source": [
    "$A$"
   ]
  },
  {
   "cell_type": "code",
   "execution_count": null,
   "metadata": {
    "collapsed": true
   },
   "outputs": [],
   "source": []
  }
 ],
 "metadata": {
  "kernelspec": {
   "display_name": "SageMath 7.3",
   "language": "",
   "name": "sagemath"
  },
  "language_info": {
   "codemirror_mode": {
    "name": "ipython",
    "version": 2
   },
   "file_extension": ".py",
   "mimetype": "text/x-python",
   "name": "python",
   "nbconvert_exporter": "python",
   "pygments_lexer": "ipython2",
   "version": "2.7.10"
  }
 },
 "nbformat": 4,
 "nbformat_minor": 0
}
