{
 "cells": [
  {
   "cell_type": "markdown",
   "metadata": {},
   "source": [
    "#### 1.求下列方程的通解：\n",
    "$（1）t^2x''+tx'-x=0$\n",
    "\n",
    "$（2）t^2x''-4tx'+6x=t$"
   ]
  },
  {
   "cell_type": "markdown",
   "metadata": {},
   "source": [
    "解：（1）原方程可以表示为\n",
    "\n",
    "$$\\frac{d^{2}x}{dt^2}t^2+\\frac{dx}{dt}t-x=0,$$\n",
    "\n",
    "这是欧拉方程，设$x=t^K$，代入方程，\n",
    "\n",
    "即得\n",
    "\n",
    "$$K(K-1)t^{K-2}t^2+Kt^K-t^K=0$$\n",
    "\n",
    "化简得：$$K^2-1=0,$$解得:\n",
    "\n",
    "$$K=\\pm1$$\n",
    "\n",
    "故原方程的通解为：\n",
    "\n",
    "$$x=c_1 t+c_2\\frac{1}{t},$$\n",
    "\n",
    "其中$c_1、c_2$为任意常数。"
   ]
  },
  {
   "cell_type": "markdown",
   "metadata": {},
   "source": [
    "(2)\n",
    "\n",
    "#### 先求对应的齐次线形微分方程：\n",
    "\n",
    "$$\\frac{d^{2}x}{dt^2}t^2-\\frac{dx}{dt}·4t+6x=0,$$\n",
    "\n",
    "设$x=t^K$，代入齐次方程，化简得$$K^2-5K+6=0,$$   \n",
    "\n",
    "解得$K_1=2,K_2=3.$\n",
    "\n",
    "故齐次线性微分方程的通解为\n",
    "\n",
    "$$x=c_1t^2+c_2t^3.$$\n",
    "\n",
    "#### 再求特解.\n",
    "\n",
    "$f(t)=t,\\lambda=0$不是特征根，故特解形如\n",
    "$\\tilde x$=A+Bt,\n",
    "代入原方程得：   \n",
    "\n",
    "$$2Bt+6A=t,$$ \n",
    "\n",
    "左右比较系数，得：$A=0,B=\\frac{1}{2}$   \n",
    "\n",
    "故原方程的通解为\n",
    "\n",
    "$$x=c_1t^2+c_2t^3+\\frac{1}{2}t,$$\n",
    "\n",
    "其中$c_1、c_2$为任意常数。"
   ]
  },
  {
   "cell_type": "markdown",
   "metadata": {
    "collapsed": true
   },
   "source": [
    "$A^+$"
   ]
  },
  {
   "cell_type": "code",
   "execution_count": null,
   "metadata": {
    "collapsed": true
   },
   "outputs": [],
   "source": []
  }
 ],
 "metadata": {
  "kernelspec": {
   "display_name": "SageMath 7.3",
   "language": "",
   "name": "sagemath"
  },
  "language_info": {
   "codemirror_mode": {
    "name": "ipython",
    "version": 2
   },
   "file_extension": ".py",
   "mimetype": "text/x-python",
   "name": "python",
   "nbconvert_exporter": "python",
   "pygments_lexer": "ipython2",
   "version": "2.7.10"
  }
 },
 "nbformat": 4,
 "nbformat_minor": 0
}
