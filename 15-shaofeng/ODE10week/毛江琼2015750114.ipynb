{
 "cells": [
  {
   "cell_type": "markdown",
   "metadata": {},
   "source": [
    "$P_{165}$\n",
    "\n",
    "3.求下列方程的通解"
   ]
  },
  {
   "cell_type": "markdown",
   "metadata": {},
   "source": [
    "$(1).t^2x^{\\prime\\prime}+tx^{\\prime}-x=0$"
   ]
  },
  {
   "cell_type": "markdown",
   "metadata": {},
   "source": [
    "令$x=t^k$\n",
    "\n",
    "$$\\therefore\\quad k(k-1)+k-1=0\\quad\\quad k=-1 \\quad or \\quad k=1$$\n",
    "\n",
    "故方程的通解为：$$x=c_1t+\\frac{c_2}{t}$$\n",
    "\n",
    "其中$c_1,c_2$为任意常数"
   ]
  },
  {
   "cell_type": "markdown",
   "metadata": {},
   "source": [
    "$(2).t^2x^{\\prime\\prime}-4tx^{\\prime}+6x=t$"
   ]
  },
  {
   "cell_type": "markdown",
   "metadata": {},
   "source": [
    "它对应得齐次线性微分方程为：$$t^2x^{\\prime\\prime}-4tx^{\\prime}+6x=0$$\n",
    "\n",
    "令$x=t^k$\n",
    "\n",
    "$$\\therefore\\quad k(k-1)-4k+6=0\\quad\\quad k=2 \\quad or \\quad k=3$$\n",
    "\n",
    "故它对应得齐次线性微分方程的基本解组为：$t^2,t^3$\n",
    "\n",
    "则可设：$$x=c_1(t)t^3+c_2(t)t^2$$\n",
    "\n",
    "将它代入方程，得：\n",
    "$$\\begin{cases}\n",
    "c_1^{\\prime}(t)t^3+c_2^{\\prime}(t)t^2=0\\\\\n",
    "3c_1^{\\prime}(t)t^4+2c_2^{\\prime}(t)t^3=t\n",
    "\\end{cases}$$\n",
    "\n",
    "即：\n",
    "$$\\begin{cases}\n",
    "c_1^{\\prime}(t)t+c_2^{\\prime}(t)=0\\\\\n",
    "3c_1^{\\prime}(t)t^3+2c_2^{\\prime}(t)t^2=1\n",
    "\\end{cases}$$\n",
    "\n",
    "得：$$c_1^{\\prime}(t)=\\frac{1}{t^3},c_2^{\\prime}(t)=-\\frac{1}{t^2}$$\n",
    "\n",
    "得：$$c_1(t)=-\\frac{1}{2t^2}+\\phi_1,c_2(t)=\\frac{1}{t}+\\phi_2$$\n",
    "\n",
    "$\\therefore$方程的通解为：$$x=\\phi_1 t^3+\\phi_2 t^2+\\frac{1}{2}t$$\n",
    "\n",
    "其中$\\phi_1,\\phi_2$为任意常数"
   ]
  },
  {
   "cell_type": "markdown",
   "metadata": {
    "collapsed": true
   },
   "source": [
    "$A$"
   ]
  },
  {
   "cell_type": "code",
   "execution_count": null,
   "metadata": {
    "collapsed": true
   },
   "outputs": [],
   "source": []
  }
 ],
 "metadata": {
  "kernelspec": {
   "display_name": "SageMath 7.3",
   "language": "",
   "name": "sagemath"
  },
  "language_info": {
   "codemirror_mode": {
    "name": "ipython",
    "version": 2
   },
   "file_extension": ".py",
   "mimetype": "text/x-python",
   "name": "python",
   "nbconvert_exporter": "python",
   "pygments_lexer": "ipython2",
   "version": "2.7.10"
  }
 },
 "nbformat": 4,
 "nbformat_minor": 0
}
