{
 "cells": [
  {
   "cell_type": "markdown",
   "metadata": {
    "collapsed": false
   },
   "source": [
    "\n",
    "## 姓名：刘笑\n",
    "## 学号：2015750304\n"
   ]
  },
  {
   "cell_type": "markdown",
   "metadata": {
    "collapsed": false
   },
   "source": [
    "\n",
    "## 3 求解方程的通解"
   ]
  },
  {
   "cell_type": "markdown",
   "metadata": {
    "collapsed": false
   },
   "source": [
    "###  （1）\n",
    "**解**\n",
    "$设x=t^k,得到k应该满足$\n",
    "$$k（k-1）+k-1=0\\\\\n",
    "k^2-1=0\\\\\n",
    "k=\\pm1$$\n",
    "$故k_1=1\\quad k_2=-1\\quad 因此方程的通解$\n",
    "$$x=c_1*t+c_2*\\frac{1}{t}$$\n"
   ]
  },
  {
   "cell_type": "markdown",
   "metadata": {
    "collapsed": false
   },
   "source": [
    "### (2)\n",
    "**解**\n",
    "$设x=t^k$\n",
    "$$k(k-1)-4k+6=0\\\\\n",
    "k-2)(k-3)=0$$即方程对应的齐次线性方程的通解\n",
    " $$x=c_1t^2+c_2t^2$$\n",
    "$利用常数变异法$\n",
    "$$x_1=c_1(t)t^2+c_2(t)t^3\n",
    "\\begin{cases}t^2c'_1(t)+t^2c'_2(t)=0\\\\\n",
    "2tc'_1(t)+3t^2c'_2(t)=\\frac{1}{t}\\end{cases}$$\n",
    "解得\n",
    "$$c'_1(t)=-\\frac{1}{t^2}\\quad  c_1(t)=1/t\\\\\n",
    "c'_2(t)=\\frac{1}{t^3}\\quad c_2(t)=-\\frac{1}{2t^2}$$\n",
    "$故方程的通解为$\n",
    "$$x=c_1t^2+c_2t^3+\\frac{1}{2}t$$\n",
    "\n"
   ]
  },
  {
   "cell_type": "markdown",
   "metadata": {
    "collapsed": true
   },
   "source": [
    "$A^+$"
   ]
  },
  {
   "cell_type": "code",
   "execution_count": null,
   "metadata": {
    "collapsed": true
   },
   "outputs": [],
   "source": []
  }
 ],
 "metadata": {
  "kernelspec": {
   "display_name": "SageMath 7.3",
   "language": "",
   "name": "sagemath"
  },
  "language_info": {
   "codemirror_mode": {
    "name": "ipython",
    "version": 2
   },
   "file_extension": ".py",
   "mimetype": "text/x-python",
   "name": "python",
   "nbconvert_exporter": "python",
   "pygments_lexer": "ipython2",
   "version": "2.7.10"
  }
 },
 "nbformat": 4,
 "nbformat_minor": 0
}
