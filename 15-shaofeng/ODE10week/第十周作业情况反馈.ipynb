{
 "cells": [
  {
   "cell_type": "markdown",
   "metadata": {},
   "source": [
    "第十周作业情况反馈表：\n",
    "* 本周的作业： 习题4.2的第三题（1）（2）\n",
    "* 本周作业完成情况如下：\n",
    "    * 本周作业是作与常系数线性微分方程相关题目的解，大家按时交作业;\n",
    "    * 本周作业完成的较好，格式正确，作业内容整齐，易读;\n",
    "    "
   ]
  },
  {
   "cell_type": "code",
   "execution_count": null,
   "metadata": {
    "collapsed": true
   },
   "outputs": [],
   "source": []
  }
 ],
 "metadata": {
  "kernelspec": {
   "display_name": "SageMath 7.3",
   "language": "",
   "name": "sagemath"
  },
  "language_info": {
   "codemirror_mode": {
    "name": "ipython",
    "version": 2
   },
   "file_extension": ".py",
   "mimetype": "text/x-python",
   "name": "python",
   "nbconvert_exporter": "python",
   "pygments_lexer": "ipython2",
   "version": "2.7.10"
  }
 },
 "nbformat": 4,
 "nbformat_minor": 0
}
