{
 "cells": [
  {
   "cell_type": "markdown",
   "metadata": {},
   "source": [
    "**10.(2).试求$x'''-8x=e^{2t}$的通解。**"
   ]
  },
  {
   "cell_type": "markdown",
   "metadata": {},
   "source": [
    "解：对应的齐次线性方程$x'''-8x=0$的基本解组为$$x_1(t)=e^{2t},x_2(t)=e^{-1}\\cos{\\sqrt{3}t},x_3(t)=e^{-1}\\sin{\\sqrt{3}t}$$\n",
    "\n",
    "因为$\\lambda=2$是方程的特征根，所以方程有形如$x=Ate^{2t}$的根\n",
    "\n",
    "代入得$$A=\\frac{1}{12}$$\n",
    "\n",
    "所以方程有通解$$x=(c_1\\cos{\\sqrt{3}t}+c_2\\sin{\\sqrt{3}t})e^{-T}+c_3e^{2t}+\\frac{1}{12}te^{2t}$$"
   ]
  },
  {
   "cell_type": "markdown",
   "metadata": {},
   "source": [
    "**11.已知方程组\n",
    "$$\\begin{cases}\n",
    "\\frac{{\\mathrm d}x_1}{{\\mathrm d}t}=x_1cos^2t-x_2(1-sintcost)\\\\\n",
    "\\frac{{\\mathrm d}x_2}{{\\mathrm d}t}=x_1(1+sintcost)+x_2sin^2t\n",
    "\\end{cases}$$\n",
    "有解$x_1=-sint,x_2=cost$,求其通解。**"
   ]
  },
  {
   "cell_type": "markdown",
   "metadata": {},
   "source": [
    "解：设方程满足初值$\\phi_1（0）=1,\\phi_2（0）=0$的一组解为$x_1=\\phi_1（t）,x_2=\\phi_2（t）$\n",
    "由Liouville公式知\n",
    "$$\\begin{vmatrix}\n",
    "\\phi_1（t）&-sint\\\\\n",
    "\\phi_2（t）&cost\n",
    "\\end{vmatrix}\n",
    "=\n",
    "\\begin{vmatrix}\n",
    "1&0\\\\\n",
    "0&1\n",
    "\\end{vmatrix}$$\n",
    "解得$$\\phi_2（t）=\\frac{e^t-\\phi_1（t）cost}{sint}$$\n",
    "代入第一个方程得\n",
    "$$\\phi_1'（t）=\\phi_1（t）cost+e^t(cost-csct)$$\n",
    "可得$$\\phi_1（t）=e^{\\int_0^tcots {\\mathrm d}s}\\big[\\int_0^te^s(coss-cscs)e^{-\\int_0^tcots {\\mathrm d}s} {\\mathrm d}s+1\\big]$$\n",
    "即$$\\phi_1（t）=e^tcost,\\phi_2（t）=e^tsint$$\n",
    "从而方程组的通解为\n",
    "$$\\begin{bmatrix}\n",
    "x_1（t）\\\\\n",
    "x_2（t）\n",
    "\\end{bmatrix}\n",
    "=C_1\n",
    "\\begin{bmatrix}\n",
    "-sint\\\\\n",
    "cost\n",
    "\\end{bmatrix}\n",
    "+C_2\n",
    "\\begin{bmatrix}\n",
    "e^tcost\\\\\n",
    "e^tsint\n",
    "\\end{bmatrix}$$"
   ]
  },
  {
   "cell_type": "markdown",
   "metadata": {},
   "source": [
    "**1.(2)假设$A$是$n\\times n$矩阵，试证对任意整数$k$，都有$$(expA)^k=expkA$$\n",
    "$$(当k是负整数时，规定(expA)^k=[(expA)^{-1}]^{-k})$$**"
   ]
  },
  {
   "cell_type": "markdown",
   "metadata": {},
   "source": [
    "证明：$k=0 $时，显然成立\n",
    "\n",
    "$k>0 $时，$(expA)^k=expA\\times expA\\cdots expA=exp(A+A+\\cdots +A)=expkA$\n",
    "\n",
    "$k<0$时，$-k>0$,$(expA)^k=[(expA)^{-1}]^{-k}=[exp(-A)]^{-k}=exp(-A)\\times exp(-A)\\cdots exp(-A)=exp[(-A)(-k)]=expkA$\n",
    "\n",
    "所以$\\forall k$,都有$(expA)^k=expkA$"
   ]
  },
  {
   "cell_type": "markdown",
   "metadata": {},
   "source": [
    "**5.(2).试求方程组$x'=Ax$的基解矩阵，并求满足初值条件$\\varphi(0)=\\eta$的解$\\varphi(t)$**\n",
    "\n",
    "**$A=\\begin{bmatrix}1&0&3\\\\8&1&-1\\\\5&1&-1\\end{bmatrix},\\eta=\\begin{bmatrix}0\\\\-2\\\\-7\\end{bmatrix}$**"
   ]
  },
  {
   "cell_type": "markdown",
   "metadata": {},
   "source": [
    "解：由题可知，基解矩阵为\n",
    "$$\\Phi(t)=\\begin{pmatrix}\n",
    "-3e^{-3t}&e^{(2+\\sqrt7)t}&e^{(2-\\sqrt7)t}\\\\7e^{-3t}&\\frac{4\\sqrt{7}-5}{3}e^{(2+\\sqrt7)t}&\\frac{-4\\sqrt{7}-5}{3}e^{(2+\\sqrt7)t}\\\\4e^{-3t}&\\frac{1+\\sqrt{7}}{3}e^{(2+\\sqrt7)t}&\\frac{1+\\sqrt{7}}{3}e^{(2+\\sqrt7)t}\n",
    "\\end{pmatrix}$$\n",
    "所以\n",
    "$$\\varphi(t)=\\frac{1}{4\\sqrt7}\\begin{pmatrix}\n",
    "\\frac{52\\sqrt{7}}{3}e^{-3t}+\\frac{4-26\\sqrt{7}}{3}e^{(2+\\sqrt7)t}+\\frac{-4-26\\sqrt{7}}{3}e^{(2-\\sqrt7)t}\\\\\n",
    "\\frac{-364\\sqrt{7}}{9}e^{-3t}+\\frac{-748+146\\sqrt{7}}{9}e^{(2+\\sqrt7)t}+\\frac{748+146\\sqrt{7}}{9}e^{(2-\\sqrt7)t}\\\\\n",
    "\\frac{-208\\sqrt{7}}{9}e^{-3t}+\\frac{-178-22\\sqrt{7}}{9}e^{(2+\\sqrt7)t}+\\frac{178-22\\sqrt{7}}{9}e^{(2-\\sqrt7)t}\n",
    "\\end{pmatrix}\n",
    "$$"
   ]
  },
  {
   "cell_type": "markdown",
   "metadata": {},
   "source": [
    "$A$"
   ]
  },
  {
   "cell_type": "code",
   "execution_count": null,
   "metadata": {
    "collapsed": true
   },
   "outputs": [],
   "source": []
  }
 ],
 "metadata": {
  "kernelspec": {
   "display_name": "SageMath 7.3",
   "language": "",
   "name": "sagemath"
  },
  "language_info": {
   "codemirror_mode": {
    "name": "ipython",
    "version": 2
   },
   "file_extension": ".py",
   "mimetype": "text/x-python",
   "name": "python",
   "nbconvert_exporter": "python",
   "pygments_lexer": "ipython2",
   "version": "2.7.10"
  }
 },
 "nbformat": 4,
 "nbformat_minor": 0
}
