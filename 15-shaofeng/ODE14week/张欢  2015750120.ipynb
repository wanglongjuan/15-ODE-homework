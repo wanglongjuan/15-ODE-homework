{
 "cells": [
  {
   "cell_type": "markdown",
   "metadata": {},
   "source": [
    "## 姓名：张欢\n",
    "## 学号：2015750120"
   ]
  },
  {
   "cell_type": "markdown",
   "metadata": {},
   "source": [
    "# $$作业（1）11月28日$$"
   ]
  },
  {
   "cell_type": "markdown",
   "metadata": {},
   "source": [
    "# 1.试求下列方程的通解。"
   ]
  },
  {
   "cell_type": "markdown",
   "metadata": {},
   "source": [
    "## $x'''-8x=e^{2t}$"
   ]
  },
  {
   "cell_type": "markdown",
   "metadata": {},
   "source": [
    "解：先求齐次线性微分方程$x'''-8x=0$的通解\n",
    "\n",
    "特征方程$ \\lambda^3-8=0$的根$\\lambda_1=2,\\lambda_2=-1+\\sqrt3 i,\\lambda_3=-1-\\sqrt3 i$\n",
    "\n",
    "基本解组为$x_1(t)=e^{2t},x_2(t)=e^{-t}cos \\sqrt3t,x_3(t)=e^{-t}sin\\sqrt3t$.\n",
    "\n",
    "因为$\\lambda=2$是特征方程的根，所以方程有形如 $x=Ate^{2t}$的解\n",
    "\n",
    "带入原方程解得$A=\\frac{1}{12}$\n",
    "\n",
    "所以原方程的通解为$x=c_1e^{2t}+c_2e^{-t}cos \\sqrt3t+c_3e^{-t}sin\\sqrt3t+\\frac{1}{12}te^{2t}$"
   ]
  },
  {
   "cell_type": "markdown",
   "metadata": {},
   "source": [
    "# 2.已知方程组$\\begin{cases}\n",
    "\\frac{dx_1}{dt}=x_1cos^2 t-x_2(1-sin t cos t),\\\\\n",
    "\\frac{dx_2}{dt}=x_1(1+sin t cos t)+x_2sin^2 t\n",
    "\\end{cases}$有解$x_1=-sin t,x_2=cos t$，求其通解."
   ]
  },
  {
   "cell_type": "markdown",
   "metadata": {
    "collapsed": true
   },
   "source": [
    "解:设$x_1=\\varphi_1(t),x_2=\\varphi_2(t)$是方程的满足初值$\\varphi_1(0)=1,\\varphi_2(0)=0$的一组解"
   ]
  },
  {
   "cell_type": "markdown",
   "metadata": {},
   "source": [
    "则有$$\\begin{bmatrix} \n",
    "\\varphi_1(t)&-sin t\\\\\n",
    "\\varphi)2(t)&cos t\n",
    "\\end{bmatrix}=e^t$$\n",
    "解得$$\\varphi_2(t)=\\frac{e^t-\\varphi_1(t)\\cos t}{\\sin t}$$代入第一个方程组"
   ]
  },
  {
   "cell_type": "markdown",
   "metadata": {},
   "source": [
    "有$$\\varphi_1(t)'=\\varphi_1(t)\\cos t+e^t(\\cos t-\\csc t)$$\n",
    "解得$$\\varphi_1(t)=e^t\\cos t$$\n",
    "同理有$\\varphi_2(t)=e^t\\sin t$"
   ]
  },
  {
   "cell_type": "markdown",
   "metadata": {},
   "source": [
    "所以方程的通解为$x_1=c_1e^t\\cos t-c_2\\sin t,x_2=c_1e^t\\sin t+c_2\\cos t$"
   ]
  },
  {
   "cell_type": "markdown",
   "metadata": {
    "collapsed": true
   },
   "source": [
    "# 3.假设$A$是$n*n$矩阵，试证：对任意整数$k$都有$$(exp A)^k=exp kA$$(当$k$是负整数时，规定$（exp A)^k=[(exp A)^{-1}]^{-k}$\n",
    "\n"
   ]
  },
  {
   "cell_type": "markdown",
   "metadata": {
    "collapsed": true
   },
   "source": [
    "证明：当$k>0$时，\n",
    "\n",
    "$(exp A )^k=expA*expA\\cdots expA=exp(A+A+\\cdots+A)=exp(kA)$\n",
    "    "
   ]
  },
  {
   "cell_type": "markdown",
   "metadata": {},
   "source": [
    "当$k<0$时，$-k>0$\n",
    "    \n",
    " $（exp A)^k=[(exp A)^{-1}]^{-k}=[exp(-A) ]^{-k}=exp(-A)*exp(-A)\\cdots exp(-A)=exp[(-A)(-k)]=exp(kA)$\n",
    " \n",
    " 所以对于任意k，都有$(exp A)^k=exp kA$"
   ]
  },
  {
   "cell_type": "markdown",
   "metadata": {},
   "source": [
    "# 4.试求方程组$x'=Ax$的基解矩阵，并求满足初值条件$\\varphi(0)=$的解$\\varphi(t)$."
   ]
  },
  {
   "cell_type": "markdown",
   "metadata": {},
   "source": [
    "## $A=\\begin{bmatrix} 1&0&3\\\\8&1&-1\\\\5&1&-1 \\end{bmatrix},\\eta=\\begin{bmatrix}0\\\\-2\\\\-7  \\end{bmatrix}$"
   ]
  },
  {
   "cell_type": "markdown",
   "metadata": {},
   "source": [
    "解：由$det(\\lambda E-A)=0$得，$\\lambda_1=-3,\\lambda_2=2+\\sqrt7,\\lambda_3=2-\\sqrt7$.\n"
   ]
  },
  {
   "cell_type": "markdown",
   "metadata": {},
   "source": [
    "解得基解矩阵为$\\Phi(t)=\n",
    "\\begin{bmatrix}\n",
    "-3e^{-3t}&e^{(2+\\sqrt7)t}&e^{(2-\\sqrt7)t}\\\\\n",
    "7e^{-3t}&\\frac{4\\sqrt7-5}{3}e^{(2+\\sqrt7)t}&\\frac{-4\\sqrt7-5}{3}e^{(2-\\sqrt7)t}\\\\ \n",
    "4e^{-3t}&\\frac{1+\\sqrt7}{3}e^{(2+\\sqrt7\n",
    ")t}&\\frac{1-\\sqrt7}{3}e^{(2-\\sqrt7)t}\n",
    "\\end{bmatrix}$"
   ]
  },
  {
   "cell_type": "markdown",
   "metadata": {},
   "source": [
    "满足初值条件的$\\eta=\n",
    "\\begin{bmatrix}\n",
    "0\\\\\n",
    "-2\\\\\n",
    "-7\n",
    "\\end{bmatrix}$"
   ]
  },
  {
   "cell_type": "markdown",
   "metadata": {},
   "source": [
    "则$\\Phi(t)\\Phi^{-1}(0)\\eta=\\frac{1}{4\\sqrt7}\n",
    "\\begin{bmatrix}\n",
    "\\frac{52\\sqrt 7}{3}e^{-3t}+\\frac{4-26\\sqrt 7}{3}e^{(2+\\sqrt 7)t}+\\frac{-4-26\\sqrt 7}{3}e^{(2-\\sqrt 7)t}\\\\\n",
    "\\frac{-364\\sqrt 7}{9}e^{-3t}+\\frac{-748+146\\sqrt 7}{9}e^{(2+\\sqrt 7)t}+\\frac{748+146\\sqrt 7}{9}e^{(2-\\sqrt 7)t}\\\\ \n",
    "\\frac{-208\\sqrt 7}{9}e^{-3t}+\\frac{-178-22\\sqrt 7}{9}e^{(2+\\sqrt 7)t}+\\frac{178-22\\sqrt 7}{9}e^{(2-\\sqrt 7)t}\n",
    "\\end{bmatrix}$"
   ]
  },
  {
   "cell_type": "markdown",
   "metadata": {
    "collapsed": true
   },
   "source": [
    "$A$"
   ]
  },
  {
   "cell_type": "code",
   "execution_count": null,
   "metadata": {
    "collapsed": true
   },
   "outputs": [],
   "source": []
  }
 ],
 "metadata": {
  "kernelspec": {
   "display_name": "SageMath 7.3",
   "language": "",
   "name": "sagemath"
  },
  "language_info": {
   "codemirror_mode": {
    "name": "ipython",
    "version": 2
   },
   "file_extension": ".py",
   "mimetype": "text/x-python",
   "name": "python",
   "nbconvert_exporter": "python",
   "pygments_lexer": "ipython2",
   "version": "2.7.10"
  }
 },
 "nbformat": 4,
 "nbformat_minor": 0
}
