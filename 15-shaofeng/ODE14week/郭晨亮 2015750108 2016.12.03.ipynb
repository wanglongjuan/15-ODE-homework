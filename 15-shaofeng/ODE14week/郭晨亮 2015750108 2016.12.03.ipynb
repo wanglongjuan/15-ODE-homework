{
 "cells": [
  {
   "cell_type": "markdown",
   "metadata": {},
   "source": [
    "#### 1.试求下列方程的通解"
   ]
  },
  {
   "cell_type": "markdown",
   "metadata": {},
   "source": [
    "$x\\prime \\prime \\prime -8x=2^{2t}$"
   ]
  },
  {
   "cell_type": "markdown",
   "metadata": {},
   "source": [
    "解：\n",
    "对应的其次线性方程为\n",
    "$$x\\prime \\prime \\prime -8x=0$$\n",
    "\n",
    "$$x_1(t)=e^{2t}$$\n",
    "\n",
    "$$x_2(t)=e^{-t}\\cos \\sqrt{3}t$$\n",
    "\n",
    "$$x_3(t)=e^{-t}\\sin \\sqrt{3}t$$\n",
    "\n",
    "设$x=Ate^{2t}$\n",
    "$$(Ate^{2t})\\prime \\prime \\prime -8(Ate^{2t})$$\n",
    "\n",
    "$$A={1 \\over 12}$$\n",
    "\n",
    "方程的解为\n",
    "$$x=(c_1\\cos \\sqrt 3t+c_2\\sin \\sqrt 3t)e^{-t}+c_3e^{2t}+{1 \\over 12}te^{2t}$$"
   ]
  },
  {
   "cell_type": "markdown",
   "metadata": {},
   "source": [
    "#### 2.已知方程组\n",
    "$$\n",
    "\\begin{cases}\n",
    "{\\mathrm d x_1 \\over \\mathrm d t}=x_1\\cos ^2t-x_2(1-\\sin t\\cos t) \\\\\n",
    "{\\mathrm d x_2 \\over \\mathrm d t}=x_1(1+\\sin t\\cos t)+x_2\\sin ^2t\n",
    "\\end{cases}\n",
    "$$\n",
    "#### 有解$x_1=-\\sin t,x_2=\\cos t$，求其通解"
   ]
  },
  {
   "cell_type": "markdown",
   "metadata": {},
   "source": [
    "设$x_1=\\varphi _1(t),x_2=\\varphi _2(t)$\n",
    "$$\\varphi _1(0)=1,\\varphi _2(0)=0$$\n",
    "\n",
    "$$\n",
    "\\begin{vmatrix}\n",
    "\\varphi_1(t) & -\\sin t \\\\\n",
    "\\varphi_2(t) & \\cos t\n",
    "\\end{vmatrix}\n",
    "=\n",
    "\\begin{vmatrix}\n",
    "1 & 0 \\\\\n",
    "0 & 1 \n",
    "\\end{vmatrix}\n",
    "e^{\\int_0^t(\\cos^2x+\\sin^2t)\\mathrm d r}=e^t\n",
    "$$\n",
    "\n",
    "$$\\varphi_2(t)={e^t-\\varphi_1(t)\\cos t \\over \\sin t}$$\n",
    "\n",
    "$$\\varphi_1\\prime (t)=\\varphi_1(t)\\cos t+e^t(\\cos t-\\csc t)$$\n",
    "\n",
    "$$\\varphi_1(t)=e^{\\int_0^t\\cot s \\mathrm d s}[\\int_0^te^s(\\cos s-\\csc s)e^{-\\int_0^s\\cot r\\mathrm d r}\\mathrm d s+1]$$\n",
    "\n",
    "$$\\varphi_1(t)=e^t\\cos t,\\varphi_2(t)=e^t\\sin t$$\n",
    "\n",
    "方程的解为\n",
    "$$x_1=-c_1\\sin t+c_2e^t\\cos t,x_2=c_1\\cos t+c_2e^t\\sin t$$"
   ]
  },
  {
   "cell_type": "markdown",
   "metadata": {},
   "source": [
    "#### 3.假设$\\mathbf A$是$n×n$矩阵，试证：对任意整数$k$，都有$(exp\\mathbf A)^k=exp k\\mathbf A$\n",
    "#### （当$k$是负数时，规定$(exp\\mathbf A)^k=[(exp\\mathbf A)^{-1}]^{-k}$）"
   ]
  },
  {
   "cell_type": "markdown",
   "metadata": {},
   "source": [
    "解：$k>0$时\n",
    "$$(e^{\\mathbf A})^k=e^{k\\mathbf A}$$\n",
    "\n",
    "$k<0$时\n",
    "$$-k>0$$\n",
    "\n",
    "$$(e^{\\mathbf A})^k=[(e^{\\mathbf A})^{-1}]^{-k}=e^{[(-\\mathbf A)(-k)]}=e^{k\\mathbf A}$$\n",
    "\n",
    "所以$\\forall k\\in Z$\n",
    "$$(exp\\mathbf A)^k=exp k\\mathbf A$$"
   ]
  },
  {
   "cell_type": "markdown",
   "metadata": {},
   "source": [
    "#### 4.试求方程组$x\\prime =Ax$的基解矩阵，并求满足初值条件$\\varphi(0)=\\eta$的解$\\varphi(t)$\n",
    "$$\n",
    "A=\n",
    "\\begin{bmatrix}\n",
    "1 & 0 & 3 \\\\\n",
    "8 & 1 & -1 \\\\\n",
    "5 & 1 & -1\n",
    "\\end{bmatrix}\n",
    ",\\eta=\n",
    "\\begin{bmatrix}\n",
    "0 \\\\\n",
    "-2 \\\\\n",
    "-7\n",
    "\\end{bmatrix}\n",
    "$$"
   ]
  },
  {
   "cell_type": "markdown",
   "metadata": {},
   "source": [
    "解：\n",
    "$$\n",
    "\\varPhi(t)=\n",
    "\\begin{bmatrix}\n",
    "-3e^{-3t} & e^{(2+\\sqrt 7)t} & e^{(2-\\sqrt 7)t} \\\\\n",
    "7e^{-3t} & {4\\sqrt 7-5 \\over 3}e^{(2+\\sqrt 7)t} & {-4\\sqrt 7-5 \\over 3}e^{(2-\\sqrt 7)t} \\\\\n",
    "4e^{-3t} & {1+\\sqrt 7 \\over 3}e^{(2+\\sqrt 7)t} & {1-\\sqrt 7 \\over 3}e^{(2-\\sqrt 7)t}\n",
    "\\end{bmatrix}\n",
    "$$\n",
    "\n",
    "$$\\varphi(t)=\\varPhi(t)\\varPhi^{-1}(0)\\eta=e^{At}\\eta$$\n",
    "\n",
    "$$\n",
    "\\varphi(t)={\\sqrt 7 \\over 28}\n",
    "\\begin{bmatrix}\n",
    "{52\\sqrt 7 \\over 3}e^{3t}+{4-26\\sqrt 7 \\over 3}e^{(2+\\sqrt 7)t}+{-4-26\\sqrt 7 \\over 3}e^{(2-\\sqrt 7)t} \\\\\n",
    "{-364\\sqrt 7 \\over 9}e^{-3t}+{-748+146\\sqrt 7 \\over 9}e^{(2+\\sqrt 7)t}+{748+146\\sqrt 7 \\over 9}e^{(2-\\sqrt 7)t} \\\\\n",
    "{-208\\sqrt 7 \\over 9}e^{-3t}+{-178-22\\sqrt 7 \\over 9}e^{(2+\\sqrt 7)t}+{178-22\\sqrt 7 \\over 9}e^{(2-\\sqrt 7)t}\n",
    "\\end{bmatrix}\n",
    "$$"
   ]
  },
  {
   "cell_type": "markdown",
   "metadata": {},
   "source": [
    "$B^+$"
   ]
  },
  {
   "cell_type": "code",
   "execution_count": null,
   "metadata": {
    "collapsed": true
   },
   "outputs": [],
   "source": []
  }
 ],
 "metadata": {
  "kernelspec": {
   "display_name": "SageMath 7.3",
   "language": "",
   "name": "sagemath"
  },
  "language_info": {
   "codemirror_mode": {
    "name": "ipython",
    "version": 2
   },
   "file_extension": ".py",
   "mimetype": "text/x-python",
   "name": "python",
   "nbconvert_exporter": "python",
   "pygments_lexer": "ipython2",
   "version": "2.7.10"
  }
 },
 "nbformat": 4,
 "nbformat_minor": 0
}
