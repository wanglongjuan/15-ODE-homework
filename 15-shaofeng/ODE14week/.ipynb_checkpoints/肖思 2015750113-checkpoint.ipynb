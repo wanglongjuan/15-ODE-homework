{
 "cells": [
  {
   "cell_type": "markdown",
   "metadata": {},
   "source": [
    "# 1128"
   ]
  },
  {
   "cell_type": "markdown",
   "metadata": {},
   "source": [
    "** 10.试求下列方程的解**"
   ]
  },
  {
   "cell_type": "markdown",
   "metadata": {},
   "source": [
    "** $(2)x'''-8x=e^{2t}$ **"
   ]
  },
  {
   "cell_type": "markdown",
   "metadata": {},
   "source": [
    "**解:**\n",
    " 齐次线性微分方程 $x'''-8x=e^{2t}$ 的特征方程为$$\\lambda^3-8=0$$\n",
    "\n",
    "解得$$\\lambda_1=2,\\lambda_2=-1+\\sqrt{3}i,\\lambda_3=-1-\\sqrt{3}i$$\n",
    "\n",
    "所以齐次方程的通解为$$x=c_1e^{2t}+c_2e^{-t}cos\\sqrt{3}t+c_3e^{-t}sin\\sqrt{3}t$$\n",
    "\n",
    "令原方程的一个特解为 $x_1=Ate^{2t}$ 代入原方程得$$A=\\frac{1}{12}$$\n",
    "\n",
    "得特解为 $x_1=\\frac{1}{12}te^{2t}$ 则原方程的解为$$x=\\frac{1}{12}te^{2t}+c_1e^{2t}+c_2e^{-t}cos\\sqrt{3}t+c_3e^{-t}sin\\sqrt{3}t$$\n",
    "\n"
   ]
  },
  {
   "cell_type": "markdown",
   "metadata": {},
   "source": [
    "** $(3)x''-6x'+9x=e^t$  **"
   ]
  },
  {
   "cell_type": "markdown",
   "metadata": {},
   "source": [
    "**解:**\n",
    "\n",
    " 齐次线性微分方程  $x''-6x'+9x=e^t$ 的特征方程为$$\\lambda^2-6\\lambda+9=0$$\n",
    "\n",
    "解得$$\\lambda_1=\\lambda_2=3$$\n",
    "\n",
    "所以齐次方程的通解为$$x=(c_1+c_2t)e^{3t}$$\n",
    "\n",
    "令原方程的一个特解为 $x_1=Ae^{t}$ 代入原方程得$$A=\\frac{1}{4}$$\n",
    "\n",
    "得特解为 $x_1=\\frac{1}{4}e^{t}$ 则原方程的解为$$x=\\frac{1}{4}e^{t}+(c_1+c_2t)e^{3t}$$\n",
    "\n"
   ]
  },
  {
   "cell_type": "markdown",
   "metadata": {},
   "source": [
    "** 11.已知方程 **\n",
    "$$\n",
    "\\begin{cases}\n",
    "\\frac{\\mathrm dx_1}{\\mathrm dt}=x_1cos^2t-x_2(1-sintcost),\\\\\n",
    "\\frac{\\mathrm dx_2}{\\mathrm dt}=x_1(1-sintcost)+x_2sin^2t,\n",
    "\\end{cases}\n",
    " $$\n",
    " **有解$x_1=-sint,x_2=cost$,求其通解.**"
   ]
  },
  {
   "cell_type": "markdown",
   "metadata": {},
   "source": [
    "**解：**\n",
    "\n",
    "设 $x_1=\\varphi_1(t),x_2=\\varphi_2(t)$ 是方程的满足初值 $\\varphi_1(0)=1,\\varphi_2(0)=0$ 的一组解，由习题 $2(2)$ 的结论可知\n",
    "\n",
    "$$\n",
    "\\begin{vmatrix}\n",
    "\\varphi_1(t) & -sint\\\\\n",
    "\\varphi_2(t) & cost\n",
    "\\end{vmatrix}\n",
    "=\n",
    "\\begin{vmatrix}\n",
    "1 & 0\\\\\n",
    "0 & 0\n",
    "\\end{vmatrix}\n",
    "\\bullet e^{\\int^t_0(cos^2t+sin^2t)dt}\n",
    "=e^t\n",
    "$$ \n",
    "\n",
    "解得$$\\varphi_2(t)=\\frac{e^t-\\varphi_1(t)cost}{sint}$$\n",
    "\n",
    "带入第一个方程的$$\\varphi'_1(t)=\\varphi_1(t)cost+e^t(cost-csct)$$\n",
    "\n",
    "解得$$\\varphi_1(t)=e^{\\int^t_0cotsds}\\big[\\int^t_0e^s(coss-cscs)e^{-\\int^s_0cotu du} \\,ds+1 \\big]$$\n",
    "\n",
    "即$$\\varphi_1(t)=e^tcost$$\n",
    "\n",
    "所以$$\\varphi_2(t)=e^tsint$$\n",
    "\n",
    "所以原方程的通解为\n",
    "$$\n",
    "\\mathbf{A}=\n",
    "\\begin{bmatrix}\n",
    "x_1\\\\\n",
    "x_2\n",
    "\\end{bmatrix}\n",
    "=c_1\n",
    "\\begin{bmatrix}\n",
    "-sint\\\\\n",
    "cost\n",
    "\\end{bmatrix}\n",
    "+c_2\n",
    "\\begin{bmatrix}\n",
    "e^tcost\\\\\n",
    "e^tsint\n",
    "\\end{bmatrix}\n",
    "$$"
   ]
  },
  {
   "cell_type": "markdown",
   "metadata": {},
   "source": [
    "# 1130\n"
   ]
  },
  {
   "cell_type": "markdown",
   "metadata": {},
   "source": [
    "\n",
    "** 1.假设 $\\mathbf{A}$是 $n\\times n$ 矩阵，试证：**\n",
    "** (2)对任意整数 k ，都有**\n",
    " $$(\\mathrm {exp} \\mathbf{A})^k=\\mathrm {exp}(k\\mathbf{A})$$\n",
    "** (当 k 是负整数时，规定 $(\\mathrm {exp} \\mathbf{A})^k=[(\\mathrm {exp}\\mathbf{A})^{-1}]^{-k}$)**\n"
   ]
  },
  {
   "cell_type": "markdown",
   "metadata": {},
   "source": [
    "**证明：**\n",
    "\n",
    "1>当k为非负整数时，用数学归纳法：\n",
    "\n",
    "当$k=1$时，显然等式成立\n",
    "\n",
    "假设当$k=n-1$时成立，即$$(\\exp A)^{n-1}=\\exp (n-1)A$$\n",
    "\n",
    "当$k=n$时\n",
    "\n",
    "$$\n",
    "\\begin{aligned}\n",
    "左边&=（\\exp A）^n\\\\&=(\\exp A)^{n-1}(\\exp A)\\\\&=\\exp (n-1）A\\exp A\\\\&=\\exp nA\\\\&=右边\n",
    "\\end{aligned}\n",
    "$$\n",
    "\n",
    "所以，对$k=n$也成立\n",
    "\n",
    "因此，对任意的非负常数k,都有$(\\exp A)^t=\\exp kA$\n",
    "\n",
    "2>当k为负整数时\n",
    "\n",
    "$$(\\exp \\mathbf A)^k=[(\\exp \\mathbf A)^{-1}]^{-k}=[\\exp (-\\mathbf A)]^{-k}=\\exp (-k)(-\\mathbf A)=\\exp k\\mathbf A$$\n",
    "\n",
    "证毕\n",
    "\n"
   ]
  },
  {
   "cell_type": "markdown",
   "metadata": {},
   "source": [
    "** 5.试求方程组 $\\mathbf{x}'=\\mathbf{Ax}$ 的基解矩阵，并求满足初值条件 $\\mathbf{\\varphi}(0)=\\mathbf{\\eta}$ 的解 $\\mathbf{\\varphi}(t)$:**\n",
    "\n",
    "**(2)$\\mathbf{A}=\n",
    "\\begin{bmatrix}\n",
    "1 & 0 & 3\\\\\n",
    "8 & 1 & -1\\\\\n",
    "5 & 1 & -1\n",
    "\\end{bmatrix}\n",
    "$**"
   ]
  },
  {
   "cell_type": "markdown",
   "metadata": {
    "collapsed": true
   },
   "source": [
    "\n",
    "即$u=\\alpha [-3,7,4]^T$,其中$\\alpha≠0$为任意常数\n",
    "\n",
    "同理可得\n",
    "\n",
    "$\\lambda_2=2+\\sqrt 7$的特征向量$v=\\beta[3,-5+4\\sqrt 7,1+\\sqrt 7]^T$\n",
    "\n",
    "$\\lambda_3=2-\\sqrt 7$的特征向量$r=\\mu[3,-5-4\\sqrt 7,1-\\sqrt 7]^T$\n"
   ]
  },
  {
   "cell_type": "markdown",
   "metadata": {},
   "source": [
    "所以方程组$x^\\prime=\\mathbf A$的一个基解矩阵为\n",
    "\n",
    "$$\n",
    "\\phi(t)=\n",
    "\\begin{bmatrix}\n",
    "-3e^{-3t} & 3e^{(2+\\sqrt 7)t} & 3e^{(2-\\sqrt 7)t}\\\\\n",
    "7e^{-3t} & (-5+4\\sqrt 7)e^{(2+\\sqrt 7)t} & (-5-4\\sqrt 7)e^{(2-\\sqrt 7)t}\\\\\n",
    "4e^{-3t} & (1+\\sqrt 7)e^{(2-\\sqrt 7)t} & (1-\\sqrt 7)e^{(2-\\sqrt 7)t}\\\\\n",
    "\\end{bmatrix}\n",
    "$$"
   ]
  },
  {
   "cell_type": "markdown",
   "metadata": {},
   "source": [
    "$\\because$\n",
    "$$\n",
    "\\begin{aligned}\n",
    "\\mathbf \\phi^{-1}(0)&=\n",
    "\\frac{-1}{108\\sqrt 7}\n",
    "\\begin{bmatrix}\n",
    "18\\sqrt 7 & 6\\sqrt 7& -24\\sqrt 7\\\\\n",
    "-27-9\\sqrt 7 & -15+3\\sqrt 7 & 6-12\\sqrt 7\\\\\n",
    "27-9\\sqrt 7 & 15+3\\sqrt 7 & -6-12\\sqrt 7\\\\\n",
    "\\end{bmatrix}\\\\&=\n",
    "\\begin{bmatrix}\n",
    "-\\frac{1}{6} & -\\frac{1}{18} & \\frac{2}{9}\\\\\n",
    "\\frac{3+\\sqrt 7}{12\\sqrt 7} & \\frac{5-\\sqrt 7}{36\\sqrt 7} & \\frac{-1+2\\sqrt 7}{18\\sqrt 7}\\\\\n",
    "\\frac{-3+\\sqrt 7}{12\\sqrt 7} & \\frac{-5-\\sqrt 7}{36\\sqrt 7} & \\frac{1+2\\sqrt 7}{18\\sqrt 7}\\\\\n",
    "\\end{bmatrix}\n",
    "\\end{aligned}\n",
    "$$\n",
    "\n"
   ]
  },
  {
   "cell_type": "markdown",
   "metadata": {},
   "source": [
    "$ \\therefore $满足初值条件$\\varphi(0)=\\eta$的解为\n",
    "$$\n",
    "\\begin{aligned}\n",
    "\\varphi(t)&=[\\exp( \\mathbf A t)]\\eta\\\\&=\\mathbf \\phi(t)\\mathbf \\phi^{-1}(0)\\eta\\\\&=\n",
    "\\begin{bmatrix}\n",
    "-3e^{-3t} & 3e^{(2+\\sqrt 7)t} & 3e^{(2-\\sqrt 7)t}\\\\\n",
    "7e^{-3t} & (-5+4\\sqrt 7)e^{(2+\\sqrt 7)t} & (-5-4\\sqrt 7)e^{(2-\\sqrt 7)t}\\\\\n",
    "4e^{-3t} & (1+\\sqrt 7)e^{(2-\\sqrt 7)t} & (1-\\sqrt 7)e^{(2-\\sqrt 7)t}\\\\\n",
    "\\end{bmatrix}\n",
    "\\begin{bmatrix}\n",
    "-\\frac{1}{6} & -\\frac{1}{18} & \\frac{2}{9}\\\\\n",
    "\\frac{3+\\sqrt 7}{12\\sqrt 7} & \\frac{5-\\sqrt 7}{36\\sqrt 7} & \\frac{-1+2\\sqrt 7}{18\\sqrt 7}\\\\\n",
    "\\frac{-3+\\sqrt 7}{12\\sqrt 7} & \\frac{-5-\\sqrt 7}{36\\sqrt 7} & \\frac{1+2\\sqrt 7}{18\\sqrt 7}\\\\\n",
    "\\end{bmatrix}\n",
    "\\begin{bmatrix}\n",
    "0\\\\-2\\\\-7\\\\\n",
    "\\end{bmatrix}\\\\&=\n",
    "\\begin{bmatrix}\n",
    "\\frac{13}{3}e^{-3t}+\\frac{2-13\\sqrt 7}{6\\sqrt 7}e^{(2+\\sqrt 7)t}+\\frac{-2-13\\sqrt 7}{6\\sqrt 7}e^{(2-\\sqrt 7)t}\\\\\n",
    "-\\frac{91}{9}e^{-3t}+\\frac{-374+73\\sqrt 7}{18\\sqrt 7}e^{(2+\\sqrt 7)t}+\\frac{374+73\\sqrt 7}{18\\sqrt 7}e^{(2-\\sqrt 7)t}\\\\\n",
    "-\\frac{52}{9}e^{-3t}+\\frac{-89-11\\sqrt 7}{18\\sqrt 7}e^{(2+\\sqrt 7)t}+\\frac{89-11sqrt 7}{18\\sqrt 7}e^{(2+\\sqrt 7)t}\\\\\n",
    "\\end{bmatrix}\n",
    "\\end{aligned}\n",
    "$$\n",
    "\n",
    "\n"
   ]
  },
  {
   "cell_type": "markdown",
   "metadata": {
    "collapsed": true
   },
   "source": [
    "$A$"
   ]
  },
  {
   "cell_type": "code",
   "execution_count": null,
   "metadata": {
    "collapsed": true
   },
   "outputs": [],
   "source": []
  }
 ],
 "metadata": {
  "kernelspec": {
   "display_name": "SageMath 7.3",
   "language": "",
   "name": "sagemath"
  },
  "language_info": {
   "codemirror_mode": {
    "name": "ipython",
    "version": 2
   },
   "file_extension": ".py",
   "mimetype": "text/x-python",
   "name": "python",
   "nbconvert_exporter": "python",
   "pygments_lexer": "ipython2",
   "version": "2.7.10"
  }
 },
 "nbformat": 4,
 "nbformat_minor": 0
}
