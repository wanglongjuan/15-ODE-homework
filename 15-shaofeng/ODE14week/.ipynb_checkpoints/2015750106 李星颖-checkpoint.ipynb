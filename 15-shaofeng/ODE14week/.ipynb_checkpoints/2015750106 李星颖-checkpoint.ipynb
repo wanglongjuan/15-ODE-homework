{
 "cells": [
  {
   "cell_type": "markdown",
   "metadata": {},
   "source": [
    "# 姓名：李星颖\n",
    "# 学号：2015750106"
   ]
  },
  {
   "cell_type": "markdown",
   "metadata": {},
   "source": [
    "# $$作业(11月28日)$$"
   ]
  },
  {
   "cell_type": "markdown",
   "metadata": {},
   "source": [
    "## 习题(5.2)"
   ]
  },
  {
   "cell_type": "markdown",
   "metadata": {},
   "source": [
    "## 一:试求下列方程的通解:"
   ]
  },
  {
   "cell_type": "markdown",
   "metadata": {},
   "source": [
    "$x'''-8x=e^{2t}$;"
   ]
  },
  {
   "cell_type": "markdown",
   "metadata": {},
   "source": [
    "**解**:\n",
    "\n",
    "求其特征方程为:${\\lambda}^3-8=0 \\implies $特征根分别为$\\lambda_1=2,\\lambda_2=-1-\\sqrt{3}i,\\lambda_3=-1+\\sqrt{3}$\n",
    "\n",
    "$\\implies $基本解组为$\\{e^{2t},e^{-1}\\cos{\\sqrt{3}t,e^{-1}\\sin{\\sqrt{3}t}}\\}$.由于$f(t)=e^{2t}$$\\implies$该方程存在特解$\\tilde{x}=Ate^{2t}$,代入后易知$A=\\frac{1}{12}$。\n",
    "\n",
    "于是$\\implies$通解$x=c_1e^{2t}+c_2e^{-1}\\cos{\\sqrt{3}t+c_3e^{-1}\\sin{\\sqrt{3}t}}$,其中$c_1,c_2,c_3$为任意常数。"
   ]
  },
  {
   "cell_type": "markdown",
   "metadata": {},
   "source": [
    "## 二：已知方程组\n",
    "$$\\begin{cases}\\frac{\\mathrm{dx_1}}{\\mathrm{dt}}=x_1\\cos ^{2}t-x_2(1-\\sin t \\cos t),\\\\\\frac{\\mathrm{dx_2}}{\\mathrm{dt}}=x_1(1+\\sin t\\cos t)+x_2\\sin^{2}t\\end{cases}$$\n",
    "有解$x_1=-\\sin t,x_2=\\cos t$，求其通解."
   ]
  },
  {
   "cell_type": "markdown",
   "metadata": {},
   "source": [
    "**解**:\n",
    "\n",
    "$\\begin{pmatrix}x_1\\\\x_2\\end{pmatrix}'=\\begin{pmatrix}\\cos^{2}t & -1+\\sin t \\cos t\\\\1+\\sin t \\cos t & \\sin ^{2}t\\end{pmatrix}\\begin{pmatrix}x_1\\\\x_2\\end{pmatrix}$\n",
    "\n",
    "设其解矩阵的$wronsky$矩阵为$\\begin{vmatrix}\\varphi_1(t)&-\\sin t\\\\\\varphi_2(t)&\\cos t\\end{vmatrix}$(其中$\\begin{pmatrix}\\varphi_1(0)\\\\\\varphi_2(0)\\end{pmatrix}=\\begin{pmatrix}1\\\\0\\end{pmatrix}$)，则\n",
    "$$\\implies W(t)=W(t_0)e^{\\int_{t_0}^{t}(\\sum_{i=1}^{n}a_{ii}(s))ds}$$\n",
    "$\\implies \\begin{vmatrix}\\varphi_1(t)&-\\sin t\\\\\\varphi_2(t)&\\cos t\\end{vmatrix}=\\begin{vmatrix}1&0\\\\0&1\\end{vmatrix}e^{\\int_{0}^{t}(\\cos^{2}t+\\sin ^{2}t)ds}$$\\implies\\varphi_2(t)=\\frac{e^{t}-\\varphi_1(t)\\cos t}{\\sin t}$代入第一个分量的方程\n",
    "\n",
    "$\\implies \\varphi_1'(t)=\\varphi_1(t)\\cos t+e^{t}(\\cos t-\\csc t)\\implies \\begin{pmatrix}\\varphi_1(t)\\\\\\varphi_2(t)\\end{pmatrix}=\\begin{pmatrix}e^{t}\\cos t\\\\e^{t}\\sin t\\end{pmatrix}$\n",
    "\n",
    "于是基本解矩阵为$\\begin{pmatrix}-\\sin t&e^{t}\\cos t\\\\\\cos t&e^{t}\\sin t\\end{pmatrix}$\n",
    "\n",
    "于是通解为$\\begin{pmatrix}x_1(t)\\\\x_2(t)\\end{pmatrix}=\\begin{pmatrix}-\\sin t&e^{t}\\cos t\\\\\\cos t&e^{t}\\sin t\\end{pmatrix}\\begin{pmatrix}c_1\\\\c_2\\end{pmatrix}$,$c_1,c_2$为任意常数。"
   ]
  },
  {
   "cell_type": "markdown",
   "metadata": {},
   "source": [
    "# $$作业(11月30日)$$"
   ]
  },
  {
   "cell_type": "markdown",
   "metadata": {},
   "source": [
    "## 习题(5.3)"
   ]
  },
  {
   "cell_type": "markdown",
   "metadata": {
    "collapsed": true
   },
   "source": [
    "## 一:假设$A$是$n\\times n$矩阵，试证:对于任意整数$k$,都有$$(\\exp A)^{k}=\\exp kA$$(当$k$是负整数时，规定$(\\exp A)^k=[(\\exp A)^{-1}]^{-k}$.)"
   ]
  },
  {
   "cell_type": "markdown",
   "metadata": {},
   "source": [
    "**解**:\n",
    "\n",
    "当$k\\neq0$时，根据 “当$A$,$B$对乘法是可交换的时，有$\\exp {(A+B)}=\\exp {A}\\exp{B}$”，可知：$(\\exp A)^{k}=\\exp kA$是显然的。\n",
    "\n",
    "当$k=0$时，$(\\exp A)^{0}=E=\\exp 0$\n",
    "\n",
    "综上，命题得证。"
   ]
  },
  {
   "cell_type": "markdown",
   "metadata": {},
   "source": [
    "## 二:试求方程组$x'=Ax$的基解矩阵，并求满足初值条件$\\varphi(0)=\\eta$的解$\\varphi(t)$:$$A=\\begin{bmatrix}1&0&3\\\\8&1&-1\\\\5&1&-1\\end{bmatrix},\\eta=\\begin{bmatrix}0\\\\-2\\\\-7\\end{bmatrix}$$"
   ]
  },
  {
   "cell_type": "markdown",
   "metadata": {},
   "source": [
    "**解**:\n",
    "\n",
    "求特征多项式$\\det{(\\lambda E-A)}$,得知特征根分别为$\\lambda_1=-3,\\lambda_2=2+\\sqrt{7},\\lambda_3=2-\\sqrt{7}$.对应的特征向量分别为$\\begin{bmatrix}-3\\\\7\\\\4\\end{bmatrix},\\begin{bmatrix}1\\\\\\frac{4\\sqrt{7}-5}{3}\\\\\\frac{1+\\sqrt{7}}{3}\\end{bmatrix},\\begin{bmatrix}1\\\\\\frac{-4\\sqrt{7}-5}{3}\\\\\\frac{1-\\sqrt{7}}{3}\\end{bmatrix}$\n",
    "\n",
    "$\\implies$基解矩阵$\\Phi (t)$为$\\begin{bmatrix}-3e^{-3t}&e^{(2+\\sqrt{7})t}&e^{(2-\\sqrt{7})t}\\\\7e^{-3t}&\\frac{4\\sqrt{7}-5}{3}e^{(2+\\sqrt{7})t}&\\frac{-4\\sqrt{7}-5}{3}e^{(2-\\sqrt{7})t}\\\\4e^{-3t}&\\frac{1+\\sqrt{7}}{3}e^{(2+\\sqrt{7})t}&\\frac{1-\\sqrt{7}}{3}e^{(2-\\sqrt{7})t}\\end{bmatrix}$\n",
    "\n",
    "$\\implies$满足初值条件$\\varphi(0)=\\eta$的特解为$\\varphi(t)=\\Phi(t){\\Phi(0)}^{-1}\\eta=\\frac{1}{4\\sqrt{7}}\\begin{bmatrix}\\frac{52\\sqrt{7}}{3}e^{-3t}+\\frac{4-26\\sqrt{7}}{3}e^{(2+\\sqrt{7})t}+\\frac{-4-26\\sqrt{7}}{3}e^{(2-\\sqrt{7})t}\\\\\\frac{-364\\sqrt{7}}{9}e^{-3t}+\\frac{-748+146\\sqrt{7}}{9}e^{(2+\\sqrt{7})t}+\\frac{748+146\\sqrt{7}}{9}e^{(2-\\sqrt{7})t}\\\\\\frac{-208\\sqrt{7}}{9}e^{-3t}+\\frac{-178-22\\sqrt{7}}{9}e^{(2+\\sqrt{7})t}+\\frac{178-22\\sqrt{7}}{9}e^{(2-\\sqrt{7})t}\\end{bmatrix}$"
   ]
  },
  {
   "cell_type": "markdown",
   "metadata": {},
   "source": [
    "$B^+$"
   ]
  },
  {
   "cell_type": "code",
   "execution_count": null,
   "metadata": {
    "collapsed": true
   },
   "outputs": [],
   "source": []
  }
 ],
 "metadata": {
  "kernelspec": {
   "display_name": "SageMath 7.3",
   "language": "",
   "name": "sagemath"
  },
  "language_info": {
   "codemirror_mode": {
    "name": "ipython",
    "version": 2
   },
   "file_extension": ".py",
   "mimetype": "text/x-python",
   "name": "python",
   "nbconvert_exporter": "python",
   "pygments_lexer": "ipython2",
   "version": "2.7.10"
  }
 },
 "nbformat": 4,
 "nbformat_minor": 0
}
