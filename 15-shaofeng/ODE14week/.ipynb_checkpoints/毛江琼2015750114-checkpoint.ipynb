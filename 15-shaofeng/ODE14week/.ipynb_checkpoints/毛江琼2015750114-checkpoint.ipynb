{
 "cells": [
  {
   "cell_type": "markdown",
   "metadata": {},
   "source": [
    "# $P_{218}$习题5.2"
   ]
  },
  {
   "cell_type": "markdown",
   "metadata": {},
   "source": [
    "**10.试求下列方程的通解**"
   ]
  },
  {
   "cell_type": "markdown",
   "metadata": {},
   "source": [
    "**$(2).x^{\\prime\\prime\\prime}-8x=e^{2t}$**"
   ]
  },
  {
   "cell_type": "markdown",
   "metadata": {},
   "source": [
    "齐次方程 $x^{\\prime\\prime\\prime}-8x=0$ 的特征方程为 $$\\lambda^3-8=0,$$\n",
    "\n",
    "解得：$$\\lambda_1=2,\\lambda_2=-1+\\sqrt 3 i,\\lambda_3=-1-\\sqrt 3 i$$\n",
    "\n",
    "所以齐次方程的通解为：$$x = C_1e^{2t} + C_2e^{-t}cos\\sqrt 3 t + C_3e^{-t}sin\\sqrt 3 t$$\n",
    "\n",
    "$\\because \\quad$2为方程的特征根，则原方程有一个形如$x = Ate^{2t}$的特解\n",
    "\n",
    "代入原方程，解得：$$A = \\frac{1}{12}$$\n",
    "\n",
    "得特解为：$x = \\frac{1}{12}te^{2t}$\n",
    "\n",
    "则原方程的通解为：\n",
    "$$x{t} = C_1e^{2t} + C_2e^{-t}cos\\sqrt 3 t + C_3e^{-t}sin\\sqrt 3 t + \\frac{1}{12}te^{2t}$$"
   ]
  },
  {
   "cell_type": "markdown",
   "metadata": {},
   "source": [
    "**11.已知方程组\n",
    "$$\\begin{cases}\n",
    "\\frac{dx_1}{dt}=x_1cos^2 t - x_2(1 - sin t cos t)\\\\\n",
    "\\frac{dx_2}{dt}=x_1(1 + sin t cos t) + x_2sin^2 t)\n",
    "\\end{cases}$$\n",
    "有解$x_1= -sin t,x_2 = cos t$，求其通解**"
   ]
  },
  {
   "cell_type": "markdown",
   "metadata": {},
   "source": [
    "设$x_1=\\varphi_1(t),x_2=\\varphi_2(t)$是方程的满足初值$\\varphi_1(0)=1,\\varphi_2(0)=0$的一组解\n",
    "\n",
    "由liouville公式可得：\n",
    "$$\\begin{vmatrix}\n",
    "\\varphi_1(t) & -sin t\\\\\n",
    "\\varphi_2(t) & cos t\n",
    "\\end{vmatrix}\n",
    "=\n",
    "\\begin{vmatrix}\n",
    "1 & 0\\\\\n",
    "0 & 1\n",
    "\\end{vmatrix}\n",
    "\\bullet e^{\\int^t_0(cos^2 t +sin^2 t)\\,dt}=e^t$$\n",
    "\n",
    "$$\\varphi_2(t)=\\frac{e^t-\\varphi_1(t)cos t}{sin t}$$"
   ]
  },
  {
   "cell_type": "markdown",
   "metadata": {},
   "source": [
    "代入方程组的第一个方程，得：\n",
    "$$\\varphi^{\\prime}_1(t)=\\varphi_1(t)+e^t(cos t-csc t)$$\n",
    "\n",
    "这是一个一阶线性微分方程,有：\n",
    "$$\\varphi_1(t)=e^{\\int^t_0 cos t\\,dt}[\\int^t_0 {e^s(cos s - csc s)e^{-\\int^t_0 cos r\\,dr}}\\,ds+1]$$\n",
    "\n",
    "即：$$\\varphi_1(t)=e^tcost,从而\\varphi_2(t)=e^tsint$$"
   ]
  },
  {
   "cell_type": "markdown",
   "metadata": {},
   "source": [
    "$\\therefore\\quad$原方程的通解为：\n",
    "$$\\begin{bmatrix}\n",
    "x_1\\\\\n",
    "x_2\n",
    "\\end{bmatrix}\n",
    "=C_1\n",
    "\\begin{bmatrix}\n",
    "-sin t\\\\\n",
    "cos t\n",
    "\\end{bmatrix}\n",
    "+C_2\n",
    "\\begin{bmatrix}\n",
    "e^tos t\\\\\n",
    "e^tsin t\n",
    "\\end{bmatrix}\n",
    "$$"
   ]
  },
  {
   "cell_type": "markdown",
   "metadata": {},
   "source": [
    "# $P_{244}$习题5.3"
   ]
  },
  {
   "cell_type": "markdown",
   "metadata": {},
   "source": [
    "**1.假设A是$n×n$矩阵，试证：**\n",
    "\n",
    "**(2)对任意的常数k,都有\n",
    "$$(exp\\mathbf{A})^t=expk\\mathbf{A}$$**\n",
    "\n",
    "**(当k是负整数时，规定$(exp\\mathbf{A})^k=[(exp\\mathbf{A})^{-1}]^{-k}$.)**"
   ]
  },
  {
   "cell_type": "markdown",
   "metadata": {},
   "source": [
    "$$exp(2\\mathbf{A})=exp(\\mathbf{A}+\\mathbf{A})=exp\\mathbf{A} \\bullet exp\\mathbf{A}=exp\\mathbf{A}^2$$\n",
    "$$exp(3\\mathbf{A})=exp(\\mathbf{A}+2\\mathbf{A})=exp\\mathbf{A} \\bullet exp2\\mathbf{A}=exp\\mathbf{A}^3$$\n",
    "$$\\cdots$$\n",
    "$$exp(k\\mathbf{A})=exp(\\mathbf{A}+(k-1)\\mathbf{A})=exp\\mathbf{A} \\bullet exp(k-1)\\mathbf{A}=exp\\mathbf{A}^k$$"
   ]
  },
  {
   "cell_type": "markdown",
   "metadata": {},
   "source": [
    "当k=0时，\n",
    "$$右边=(exp\\mathbf{A})^k=(\\exp\\mathbf{A})^0=\\mathbf{E}$$\n",
    "$$左边=expk\\mathbf{A}=exp0=\\mathbf{E}$$\n",
    "即k=0时，等式成立"
   ]
  },
  {
   "cell_type": "markdown",
   "metadata": {},
   "source": [
    "当k=1时，显然左边=$exp\\mathbf{A}$=右边，等式成立\n",
    "\n",
    "由数学归纳法，得：等式对所有的非负整数成立\n",
    "\n",
    "当k是负整数时，\n",
    "$$(exp\\mathbf{A})^k[(exp\\mathbf{a})^{-1}]^{-k}=[exp(-\\mathbf{A})]^{-k}=exp(-k)(-\\mathbf{A})=expk\\mathbf{A}$$"
   ]
  },
  {
   "cell_type": "markdown",
   "metadata": {},
   "source": [
    "综上所述，即证明了对任意整数k，都有\n",
    "$$(exp\\mathbf{A})^k=expk\\mathbf{A}$$"
   ]
  },
  {
   "cell_type": "markdown",
   "metadata": {},
   "source": [
    "**5.试求方程组$x^{\\prime}=\\mathbf{A}x$的基解矩阵，求满足初值条件$\\varphi(0)=\\eta$的解$\\varphi(t)$**\n",
    "\n",
    "**(2)\n",
    "$\\mathbf{A}=\n",
    "\\begin{bmatrix}\n",
    "1 & 0 & 3\\\\\n",
    "8 & 1 & -1\\\\\n",
    "5 & 1 & -1\n",
    "\\end{bmatrix},\n",
    "\\eta=\n",
    "\\begin{bmatrix}\n",
    "0\\\\\n",
    "-2\\\\\n",
    "-7\n",
    "\\end{bmatrix}$\n",
    "**"
   ]
  },
  {
   "cell_type": "markdown",
   "metadata": {},
   "source": [
    "**解**\n",
    "\n",
    "矩阵的特征方程为\n",
    "\n",
    "$\\det (\\lambda \\mathbf E-\\mathbf A)=\n",
    "\\begin{vmatrix}\n",
    "\\lambda-1 & 0 & -3\\\\\n",
    "-8 & \\lambda-1 & 1\\\\\n",
    "-5 & -1 & \\lambda+1\\\\\n",
    "\\end{vmatrix}\n",
    "=\\lambda^3-\\lambda^2-15\\lambda-9=0$\n",
    "\n",
    "特征值为$\\lambda_1=-3,\\lambda_{2,3}=2±\\sqrt 7$\n",
    "\n",
    "$\\lambda_1=-3$的特征向量$u=\\begin{bmatrix} u_1\\\\u_2\\\\u_3\\\\ \\end{bmatrix}$满足\n",
    "\n",
    "$$\n",
    "\\begin{aligned}\n",
    "(\\lambda_1 \\mathbf E-\\mathbf A)u&=\n",
    "\\begin{vmatrix}\n",
    "-4 & 0 & -3\\\\\n",
    "-8 & -4 & 1\\\\\n",
    "-5 & -1 & -2\\\\\n",
    "\\end{vmatrix}\n",
    "\\begin{bmatrix} u_1\\\\u_2\\\\u_3\\\\ \\end{bmatrix}\\\\&=\n",
    "\\begin{vmatrix}\n",
    "-4u_1-3u_3\\\\\n",
    "-8u_1-4u_2+u_3\\\\\n",
    "-5u_1-u_2-2u_3\\\\\n",
    "\\end{vmatrix}\\\\&=0\n",
    "\\end{aligned}\n",
    "$$\n",
    "\n",
    "即$u=\\alpha [-3,7,4]^T$,其中$\\alpha≠0$为任意常数\n",
    "\n",
    "同理可得\n",
    "\n",
    "$\\lambda_2=2+\\sqrt 7$的特征向量$v=\\beta[3,-5+4\\sqrt 7,1+\\sqrt 7]^T$\n",
    "\n",
    "$\\lambda_3=2-\\sqrt 7$的特征向量$r=\\mu[3,-5-4\\sqrt 7,1-\\sqrt 7]^T$\n",
    "\n",
    "所以方程组$x^\\prime=\\mathbf A$的一个基解矩阵为\n",
    "\n",
    "$$\n",
    "\\phi(t)=\n",
    "\\begin{bmatrix}\n",
    "-3e^{-3t} & 3e^{(2+\\sqrt 7)t} & 3e^{(2-\\sqrt 7)t}\\\\\n",
    "7e^{-3t} & (-5+4\\sqrt 7)e^{(2+\\sqrt 7)t} & (-5-4\\sqrt 7)e^{(2-\\sqrt 7)t}\\\\\n",
    "4e^{-3t} & (1+\\sqrt 7)e^{(2-\\sqrt 7)t} & (1-\\sqrt 7)e^{(2-\\sqrt 7)t}\\\\\n",
    "\\end{bmatrix}\n",
    "$$"
   ]
  },
  {
   "cell_type": "markdown",
   "metadata": {},
   "source": [
    "因为\n",
    "$$\n",
    "\\begin{aligned}\n",
    "\\mathbf \\phi^{-1}(0)&=\n",
    "\\frac{-1}{108\\sqrt 7}\n",
    "\\begin{bmatrix}\n",
    "18\\sqrt 7 & 6\\sqrt 7& -24\\sqrt 7\\\\\n",
    "-27-9\\sqrt 7 & -15+3\\sqrt 7 & 6-12\\sqrt 7\\\\\n",
    "27-9\\sqrt 7 & 15+3\\sqrt 7 & -6-12\\sqrt 7\\\\\n",
    "\\end{bmatrix}\\\\&=\n",
    "\\begin{bmatrix}\n",
    "-\\frac{1}{6} & -\\frac{1}{18} & \\frac{2}{9}\\\\\n",
    "\\frac{3+\\sqrt 7}{12\\sqrt 7} & \\frac{5-\\sqrt 7}{36\\sqrt 7} & \\frac{-1+2\\sqrt 7}{18\\sqrt 7}\\\\\n",
    "\\frac{-3+\\sqrt 7}{12\\sqrt 7} & \\frac{-5-\\sqrt 7}{36\\sqrt 7} & \\frac{1+2\\sqrt 7}{18\\sqrt 7}\\\\\n",
    "\\end{bmatrix}\n",
    "\\end{aligned}\n",
    "$$\n",
    "\n",
    "所以满足初值条件$\\varphi(0)=\\eta$的解为\n",
    "$$\n",
    "\\begin{aligned}\n",
    "\\varphi(t)&=[\\exp( \\mathbf A t)]\\eta\\\\&=\\mathbf \\phi(0)\\mathbf \\phi^{-1}(0)\\eta\\\\&=\n",
    "\\begin{bmatrix}\n",
    "-3e^{-3t} & 3e^{(2+\\sqrt 7)t} & 3e^{(2-\\sqrt 7)t}\\\\\n",
    "7e^{-3t} & (-5+4\\sqrt 7)e^{(2+\\sqrt 7)t} & (-5-4\\sqrt 7)e^{(2-\\sqrt 7)t}\\\\\n",
    "4e^{-3t} & (1+\\sqrt 7)e^{(2-\\sqrt 7)t} & (1-\\sqrt 7)e^{(2-\\sqrt 7)t}\\\\\n",
    "\\end{bmatrix}\n",
    "\\begin{bmatrix}\n",
    "-\\frac{1}{6} & -\\frac{1}{18} & \\frac{2}{9}\\\\\n",
    "\\frac{3+\\sqrt 7}{12\\sqrt 7} & \\frac{5-\\sqrt 7}{36\\sqrt 7} & \\frac{-1+2\\sqrt 7}{18\\sqrt 7}\\\\\n",
    "\\frac{-3+\\sqrt 7}{12\\sqrt 7} & \\frac{-5-\\sqrt 7}{36\\sqrt 7} & \\frac{1+2\\sqrt 7}{18\\sqrt 7}\\\\\n",
    "\\end{bmatrix}\n",
    "\\begin{bmatrix}\n",
    "0\\\\-2\\\\-7\\\\\n",
    "\\end{bmatrix}\\\\&=\n",
    "\\begin{bmatrix}\n",
    "\\frac{13}{3}e^{-3t}+\\frac{2-13\\sqrt 7}{6\\sqrt 7}e^{(2+\\sqrt 7)t}+\\frac{-2-13\\sqrt 7}{6\\sqrt 7}e^{(2-\\sqrt 7)t}\\\\\n",
    "-\\frac{91}{9}e^{-3t}+\\frac{-374+73\\sqrt 7}{18\\sqrt 7}e^{(2+\\sqrt 7)t}+\\frac{374+73\\sqrt 7}{18\\sqrt 7}e^{(2-\\sqrt 7)t}\\\\\n",
    "-\\frac{52}{9}e^{-3t}+\\frac{-89-11\\sqrt 7}{18\\sqrt 7}e^{(2+\\sqrt 7)t}+\\frac{89-11sqrt 7}{18\\sqrt 7}e^{(2+\\sqrt 7)t}\\\\\n",
    "\\end{bmatrix}\n",
    "\\end{aligned}\n",
    "$$"
   ]
  },
  {
   "cell_type": "markdown",
   "metadata": {},
   "source": [
    "$A$"
   ]
  },
  {
   "cell_type": "code",
   "execution_count": null,
   "metadata": {
    "collapsed": true
   },
   "outputs": [],
   "source": []
  }
 ],
 "metadata": {
  "kernelspec": {
   "display_name": "SageMath 7.3",
   "language": "",
   "name": "sagemath"
  },
  "language_info": {
   "codemirror_mode": {
    "name": "ipython",
    "version": 2
   },
   "file_extension": ".py",
   "mimetype": "text/x-python",
   "name": "python",
   "nbconvert_exporter": "python",
   "pygments_lexer": "ipython2",
   "version": "2.7.10"
  }
 },
 "nbformat": 4,
 "nbformat_minor": 0
}
