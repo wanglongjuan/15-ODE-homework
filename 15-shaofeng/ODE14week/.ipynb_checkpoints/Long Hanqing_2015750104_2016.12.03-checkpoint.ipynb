{
 "cells": [
  {
   "cell_type": "markdown",
   "metadata": {},
   "source": [
    "# The homework of ODE"
   ]
  },
  {
   "cell_type": "markdown",
   "metadata": {},
   "source": [
    "## 1. Solve the following equation\n",
    "## $$\n",
    "x''' - 8x = e^{2t}\n",
    "$$"
   ]
  },
  {
   "cell_type": "markdown",
   "metadata": {},
   "source": [
    "solve the equation $\\quad \\lambda ^3 - 8 = 0 \\quad$ we get $\\quad \\lambda = 2\\quad$ or $\\quad \\lambda = -1 \\pm \\sqrt{3}i$\n",
    "\n",
    "let $\\quad$ $\\tilde{x} = cte^{2t}$ $\\quad$ we get $\\tilde{x} = {1 \\over 12}e^{2t}$\n",
    "\n",
    "so, the general solution is :\n",
    "$$\n",
    "x = (c_1\\cos \\sqrt{3}t + c_2\\sin \\sqrt{3}t)e^{-t} + c_3e^{2t} + {1 \\over 12}e^{2t} \n",
    "$$"
   ]
  },
  {
   "cell_type": "markdown",
   "metadata": {},
   "source": [
    "## 2. A known equations\n",
    "## $$\n",
    "\\begin{cases}\n",
    "x_1' = x_1\\cos^2t - x_2(1 - \\sin t\\cos t)\\\\\n",
    "x_2' = x_1(1 + \\sin t\\cos t) + x_2\\sin^2t\\\\\n",
    "\\end{cases}\n",
    "$$  have solution $\\quad x_1 = -\\sin t , \\quad x_2 = \\cos t $. Find the general solution "
   ]
  },
  {
   "cell_type": "markdown",
   "metadata": {},
   "source": [
    "$x_1=\\varphi_1(t)\\quad x_2=\\varphi_2(t)$\n",
    "$$\n",
    "\\varphi_1(t)=e^tcost\\\\\n",
    "\\varphi_2(t)=e^tsint\n",
    "$$\n",
    "\n",
    "$$\n",
    "\\begin{bmatrix}\n",
    "x_1\\\\\n",
    "X_2\n",
    "\\end{bmatrix}\n",
    "=c_1\n",
    "\\begin{bmatrix}\n",
    "-sint\\\\\n",
    "cost\n",
    "\\end{bmatrix}\n",
    "+c_2\n",
    "\\begin{bmatrix}\n",
    "e^tcost\\\\\n",
    "e^tsint\n",
    "\\end{bmatrix}\n",
    "$$"
   ]
  },
  {
   "cell_type": "markdown",
   "metadata": {},
   "source": [
    "## 3. Suppose $A$ is $n \\times n$ matrix, and try to prove :\n",
    "## for every integer $k$ , the following equation  set up\n",
    "## $$\n",
    "(expA)^k = exp kA\n",
    "$$"
   ]
  },
  {
   "cell_type": "markdown",
   "metadata": {},
   "source": [
    "when $\\quad k>0 \\quad $\n",
    "$$\n",
    "\\begin{align}\n",
    "(expA)^k &= expA \\cdot expA \\cdots expA\\\\\n",
    "&= exp(A+\\cdots +A)\\\\\n",
    "&=exp kA\\\\\n",
    "\\end{align}\n",
    "$$\n",
    "when $\\quad k<0 \\quad $\n",
    "$$\n",
    "\\begin{align}\n",
    "(expA)^k &= exp(-A) \\cdot exp(-A) \\cdots exp(-A)\\\\\n",
    "&= exp(-A-\\cdots -A)\\\\\n",
    "&=exp kA\\\\\n",
    "\\end{align}\n",
    "$$"
   ]
  },
  {
   "cell_type": "markdown",
   "metadata": {},
   "source": [
    "##  4. Find the base solution matrix of the equation $\\textbf{x'} = \\textbf{A}(t)\\textbf{x}$, and the solution which satisfy the initial value condition $\\varphi (0) = \\eta$\n",
    "## $$\n",
    "A = \n",
    "\\begin{pmatrix}\n",
    "1&0&3\\\\\n",
    "8&1&-1\\\\\n",
    "5&1&-1\\\\\n",
    "\\end{pmatrix}\n",
    ",\\quad \\eta =\n",
    "\\begin{pmatrix}\n",
    "0\\\\\n",
    "-2\\\\\n",
    "-7\\\\\n",
    "\\end{pmatrix}\n",
    "$$"
   ]
  },
  {
   "cell_type": "markdown",
   "metadata": {},
   "source": [
    "solve the $\\quad \\mathrm{det}(\\lambda E - A) = 0 \\quad$ we get $\\quad \\lambda_1 = -3, \\lambda_2 = 2 + \\sqrt 7 , \\lambda_3 = 2 - \\sqrt 7$\n",
    "so, the base solution matrix is\n",
    "\n",
    "$$\n",
    "\\Phi(t) = \n",
    "\\begin{pmatrix}\n",
    "-3e^{-3t} & e^{2 + \\sqrt 7} & e^{2 - \\sqrt 7}\\\\\n",
    "7e^{-3t} & {4\\sqrt 7 - 5\\over 3}e^{2 + \\sqrt 7} & {-4\\sqrt 7 - 5\\over 3}e^{2 - \\sqrt 7}\\\\\n",
    "4e^{-3t} & {\\sqrt 7 + 1\\over 3}e^{2 + \\sqrt 7} & {-\\sqrt 7 + 1\\over 3}e^{2 - \\sqrt 7}\\\\\n",
    "\\end{pmatrix}\n",
    "$$\n",
    "so \n",
    "$$\n",
    "\\varphi (t) = {1 \\over 4\\sqrt 7}\n",
    "\\begin{pmatrix}\n",
    "{52\\sqrt 7 \\over 3}e^{-3t} + {-26\\sqrt 7 + 4\\over 3}e^{2 + \\sqrt 7} - {26\\sqrt 7 + 4\\over 3}e^{2 - \\sqrt 7}\\\\\n",
    "{-364\\sqrt 7 \\over 9}e^{-3t} + {-748+146\\sqrt 7 \\over 9}e^{2 + \\sqrt 7} + {748+146\\sqrt 7 \\over 9}e^{2 - \\sqrt 7}\\\\\n",
    "{-208\\sqrt 7 \\over 9}e^{-3t} + {-178-22\\sqrt 7 \\over 9}e^{2 + \\sqrt 7} + {178-22\\sqrt 7 \\over 9}^{2 - \\sqrt 7}\\\\\n",
    "\\end{pmatrix}\n",
    "$$"
   ]
  },
  {
   "cell_type": "markdown",
   "metadata": {},
   "source": [
    "$A$"
   ]
  },
  {
   "cell_type": "code",
   "execution_count": null,
   "metadata": {
    "collapsed": true
   },
   "outputs": [],
   "source": []
  }
 ],
 "metadata": {
  "kernelspec": {
   "display_name": "SageMath 7.3",
   "language": "",
   "name": "sagemath"
  },
  "language_info": {
   "codemirror_mode": {
    "name": "ipython",
    "version": 2
   },
   "file_extension": ".py",
   "mimetype": "text/x-python",
   "name": "python",
   "nbconvert_exporter": "python",
   "pygments_lexer": "ipython2",
   "version": "2.7.10"
  }
 },
 "nbformat": 4,
 "nbformat_minor": 0
}
