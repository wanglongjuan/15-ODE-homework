{
 "cells": [
  {
   "cell_type": "markdown",
   "metadata": {},
   "source": [
    "## 学号：2015750304\n",
    "## 姓名 ：刘笑"
   ]
  },
  {
   "cell_type": "markdown",
   "metadata": {},
   "source": [
    "## 习题5，2\n",
    "## 10\n",
    "### (2)\n",
    "**解**\n",
    "$对应齐次线性方程$\n",
    "$$\\lambda^3-8=0\\\\\n",
    "\\lambda=2或\\lambda=-1+\\sqrt{3}i或\\lambda=-1-\\sqrt{3}i$$\n",
    "$即齐次方程得到通解为$\n",
    "$$x=c_1e^2t+c_2e^{-t}cos\\sqrt{3}t+c_3e^{-t}sin\\sqrt{3}t$$\n",
    "\n",
    "$令方程的一个特解为x_1=ate^{2t}代入原方程得$\n",
    "\n",
    "$$12ae^{2t}=e^{2t}\\\\\n",
    "得a=\\frac{1}{12}$$\n",
    "$则原方程的一个特解x_1=\\frac{1}{12}te^2t$\n",
    "原方程的通解为\n",
    "$$x=c_1e^2t+c_2e^{-t}cos\\sqrt{3}t+c_3e^{-t}sin\\sqrt{3}t+\\frac{1}{12}te^{2t}$$\n"
   ]
  },
  {
   "cell_type": "markdown",
   "metadata": {},
   "source": [
    "## 11\n",
    "**解**\n",
    "$设x_1=\\varphi_1(t)\\quad x_2=\\varphi_2(t)$\n",
    "$$\\varphi_1(t)=e^tcost\\\\\n",
    "\\varphi_2(t)=e^tsint$$\n",
    "$原方程的通解为$\n",
    "$$\\begin{bmatrix}\n",
    "&x_1\\\\&X_2\\end{bmatrix}=c_1\\begin{bmatrix}&-sint\\\\&cost\\end{bmatrix}+c_2\\begin{bmatrix}&e^tcost\\\\&e^tsint\\end{bmatrix}$$"
   ]
  },
  {
   "cell_type": "markdown",
   "metadata": {},
   "source": [
    "## 习题 5.3\n",
    "## 1\n",
    "### （2）\n",
    "**证明**利用数学归纳法\n",
    "$$ exp(2A)=exp(A+A)=exp(A)*exp(A)=(exp A)^2\\\\\n",
    "exp(3A)=exp(A+2A)=(exp A)^3\\\\\n",
    "exp(kA)=exp(A+(k-1)A)=(expA)^K\\\\\n",
    "\\dots\\\\\n",
    "(expA)^k=expKA$$\n"
   ]
  },
  {
   "cell_type": "markdown",
   "metadata": {},
   "source": [
    "## 5\n",
    "## （2）"
   ]
  },
  {
   "cell_type": "markdown",
   "metadata": {},
   "source": [
    "**解**\n",
    "特征方程为\n",
    "$$(\\lambda+3)(\\lambda^2-4\\lambda-3)=0\\\\\n",
    "\\lambda=-3 \\lambda=2+\\sqrt{7} \\lambda=2-\\sqrt{7}$$\n",
    "$3个特征值向量为$\n",
    "$$x=\\alpha[3,-7,-4]'\\\\\n",
    "x=\\beta[3,4\\sqrt{7}-5，\\sqrt{7}+1]'\\\\\n",
    "x=\\gamma[3,-4\\sqrt{7}-5,1-\\sqrt{7}]'\\\\$$\n",
    "$取\\alpha=\\beta=\\gamma=1x'=Ax的一个基解矩阵$\n",
    "\n",
    "\n",
    "$$\\phi(t)=\\begin{bmatrix}\n",
    "&3e^{-3t} &3e^{(2+\\sqrt{7})t} &3e^{(2-\\sqrt{7})t}\\\\\n",
    "&-7e^{-3t} &(4\\sqrt{7}-5)*e^{2+\\sqrt{7}t } &-(-4\\sqrt{7}+5)e^{(2-\\sqrt{7})t}\\\\\n",
    "&-4e^{-3t} &(\\sqrt{7}+1)e^{(2+\\sqrt{7})}t &(1-\\sqrt{7}e^{(2-\\sqrt{7}t)}\\end{bmatrix}$$\n",
    "$而满足初始条件\\eta=\\varphi（0）=[0,2,-7]^T$\n",
    "$$\\varphi(t)\n",
    "=\\frac{1}{4\\sqrt{7}}*\\begin{bmatrix}\n",
    "&\\frac{52\\sqrt{7}}{3}e^{-3t}+\\frac{4-26\\sqrt{7}}{3}e^{(2+\\sqrt{7})t}+\\frac{-4-2\\sqrt{7}}{3}e^{2+\\sqrt{7}}\\\\\n",
    "&\\frac{-364\\sqrt{7}}{9}e^{-3t}+\\frac{-748+146\\sqrt{7}}{9}e^{(2+\\sqrt{7})t}+\\frac{-748+146\\sqrt{7}}{9}e^{2-\\sqrt{7}}\\\\\n",
    "&frac{-208\\sqrt{7}}{9}e^{-3t}+\\frac{-178-22\\sqrt{7}}{9}e^{(2+\\sqrt{7})t}+\\frac{178-22\\sqrt{7}}{9}e^{2-\\sqrt{7}}\\end{bmatrix}$$\n",
    "\n",
    "\n",
    "\n"
   ]
  },
  {
   "cell_type": "markdown",
   "metadata": {
    "collapsed": true
   },
   "source": [
    "$A$"
   ]
  },
  {
   "cell_type": "code",
   "execution_count": null,
   "metadata": {
    "collapsed": true
   },
   "outputs": [],
   "source": []
  }
 ],
 "metadata": {
  "kernelspec": {
   "display_name": "SageMath 7.3",
   "language": "",
   "name": "sagemath"
  },
  "language_info": {
   "codemirror_mode": {
    "name": "ipython",
    "version": 2
   },
   "file_extension": ".py",
   "mimetype": "text/x-python",
   "name": "python",
   "nbconvert_exporter": "python",
   "pygments_lexer": "ipython2",
   "version": "2.7.10"
  }
 },
 "nbformat": 4,
 "nbformat_minor": 0
}
