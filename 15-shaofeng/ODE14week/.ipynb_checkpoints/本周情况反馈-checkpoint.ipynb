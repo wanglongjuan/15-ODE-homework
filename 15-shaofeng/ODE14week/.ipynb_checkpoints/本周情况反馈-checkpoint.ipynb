{
 "cells": [
  {
   "cell_type": "markdown",
   "metadata": {},
   "source": [
    "本周情况反馈:\n",
    "1. 本周作业是习题5.2的10(2),11;习题5.3的1(2),5(2)\n",
    "1. 本周的作业是做与常系数线性微分方程组相关方面的题, 本次作业的问题主要集中于习题5.3的1(2),5(2). 习题1(2)主要是对$k$没有进行分类, 有些同学没有把 $k<0$ 的情况证明, 导致证明题没有证全对;其次习题5(2)基解矩阵大多数同学都算错了，导致结果错误.\n",
    "1. 本周郎大宇作业优秀."
   ]
  },
  {
   "cell_type": "code",
   "execution_count": null,
   "metadata": {
    "collapsed": true
   },
   "outputs": [],
   "source": []
  }
 ],
 "metadata": {
  "kernelspec": {
   "display_name": "SageMath 7.3",
   "language": "",
   "name": "sagemath"
  },
  "language_info": {
   "codemirror_mode": {
    "name": "ipython",
    "version": 2
   },
   "file_extension": ".py",
   "mimetype": "text/x-python",
   "name": "python",
   "nbconvert_exporter": "python",
   "pygments_lexer": "ipython2",
   "version": "2.7.10"
  }
 },
 "nbformat": 4,
 "nbformat_minor": 0
}
