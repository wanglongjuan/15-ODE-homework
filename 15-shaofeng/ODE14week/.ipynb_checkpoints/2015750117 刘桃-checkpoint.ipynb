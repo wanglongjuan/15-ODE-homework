{
 "cells": [
  {
   "cell_type": "markdown",
   "metadata": {},
   "source": [
    "## 10.试求下列方程的通解："
   ]
  },
  {
   "cell_type": "markdown",
   "metadata": {},
   "source": [
    "## $(2)x^{\\prime\\prime\\prime}-8x=e^{2t}$"
   ]
  },
  {
   "cell_type": "markdown",
   "metadata": {},
   "source": [
    "**解**\n",
    "\n",
    "依题意，齐次方程 $x^{\\prime\\prime\\prime}-8x=0$ 的特征方程为 $\\lambda^3-8=0$\n",
    "\n",
    "解得$\\lambda_1=2,\\lambda_2=-1+\\sqrt 3 i,\\lambda_3=-1-\\sqrt 3 i$\n",
    "\n",
    "所以齐次方程的通解为：$x = C_1e^{2t} + C_2e^{-t}cos\\sqrt 3 t + C_3e^{-t}sin\\sqrt 3 t$\n",
    "\n",
    "这里$f(t)=e^{2t},\\lambda=2$\n",
    "\n",
    "因为$2$为齐次方程的特征根，所以原方程的特解形如$x = Ate^{2t}$\n",
    "\n",
    "代入原方程，解得$(Ate^{2t})^{\\prime\\prime\\prime}-8Ate^{2t}=12Ae^{2t}=e^{2t}$\n",
    "\n",
    "所以$A = \\frac{1}{12}$\n",
    "\n",
    "得特解为$x = \\frac{1}{12}te^{2t}$\n",
    "\n",
    "从而原方程的通解为\n",
    "$x（t）= C_1e^{2t} + C_2e^{-t}cos\\sqrt 3 t + C_3e^{-t}sin\\sqrt 3 t + \\frac{1}{12}te^{2t}$"
   ]
  },
  {
   "cell_type": "markdown",
   "metadata": {},
   "source": [
    "## 11.已知方程组\n",
    "## $$\n",
    "\\begin{cases}\n",
    "\\frac{dx_1}{dt}=x_1cos^2 t - x_2(1 - sin t cos t)\\\\\n",
    "\\frac{dx_2}{dt}=x_1(1 + sin t cos t) + x_2sin^2 t)\n",
    "\\end{cases}$$\n",
    "## 有解$x_1= -sin t,x_2 = cos t$，求其通解"
   ]
  },
  {
   "cell_type": "markdown",
   "metadata": {},
   "source": [
    "**解**\n",
    "\n",
    "设$y_1=\\varphi_1(t),y_2=\\varphi_2(t)$是方程的满足初值$\\varphi_1(0)=1,\\varphi_2(0)=0$的一组解\n",
    "\n",
    "由第二题的第二问可得，$W^\\prime(t)=W(t_0)e^{\\int_{t_0}^t [a_{11}(s)+a_{22}(s)+\\dots+a_{nn}(s)]\\mathrm d s}$\n",
    "\n",
    "所以\n",
    "$\\begin{vmatrix}\n",
    "\\varphi_1(t) & -\\sin t\\\\\n",
    "\\varphi_2(t) & \\cos t\n",
    "\\end{vmatrix}\n",
    "=\n",
    "\\begin{vmatrix}\n",
    "1 & 0\\\\\n",
    "0 & 1\n",
    "\\end{vmatrix} e^{\\int^t_0(\\cos^2 t +\\sin^2 t)\\mathrm d t}=e^t$\n",
    "\n",
    "于是$\\varphi_1(t)\\cos t+\\varphi_2(t)\\sin t=e^t$\n",
    "\n",
    "所以$\\varphi_2(t)=\\frac{e^t-\\varphi_1(t)\\cos t}{\\sin t}$\n",
    "\n",
    "代入方程组的第一个方程得\n",
    "$\\varphi^{\\prime}_1(t)=\\varphi_1(t)\\cot t+e^t(\\cos t-\\csc t)$\n",
    "\n",
    "这是一个一阶线性微分方程,有\n",
    "$\\varphi_1(t)=e^{\\int \\cot t\\mathrm d t}[\\int e^s(\\cos s - \\csc s)\\csc s \\mathrm ds+c]=\\sin t [\\int \\mathrm d（e^t\\cot t)+c]=e^t\\cos t+c\\sin t$\n",
    "\n",
    "又由初值条件$\\varphi_1(0)=1$,所以$c=0$\n",
    "\n",
    "因此$\\varphi_1(t)=e^t\\cos t,\\varphi_2(t)=e^t\\sin t$\n",
    "\n",
    "综上所述，方程的通解为\n",
    "$x_1=-c_1\\sin t+c_2e^t\\cos t,x_2=c_1\\cos t+c_2e^t\\sin t$其中$c_1,c_2$为任意常数\n"
   ]
  },
  {
   "cell_type": "markdown",
   "metadata": {},
   "source": [
    "## 1.假设A是$n×n$矩阵，试证：\n",
    "\n",
    "## (2)对任意的常数k,都有$$(\\exp \\mathbf A)^t=\\exp k\\mathbf A$$\n",
    "\n",
    "## $$(当k是负整数时，规定(\\exp \\mathbf A)^k=[(\\exp \\mathbf A)^{-1}]^{-k}.)$$"
   ]
  },
  {
   "cell_type": "markdown",
   "metadata": {},
   "source": [
    "**解**\n",
    "\n",
    "1>当k为非负整数时，用数学归纳法：\n",
    "\n",
    "当$k=1$时，显然等式成立\n",
    "\n",
    "假设当$k=n-1$时成立，即$(\\exp A)^{n-1}=\\exp (n-1)A$\n",
    "\n",
    "当$k=n$时\n",
    "\n",
    "$左边=（\\exp A）^n=(\\exp A)^{n-1}(\\exp A)=\\exp (n-1）A\\exp A=\\exp nA=右边$\n",
    "\n",
    "所以，对$k=n$也成立\n",
    "\n",
    "因此，对任意的非负常数k,都有$(\\exp A)^t=\\exp kA$\n",
    "\n",
    "2>当k为负整数时\n",
    "\n",
    "$(\\exp \\mathbf A)^k=[(\\exp \\mathbf A)^{-1}]^{-k}=[\\exp (-\\mathbf A)]^{-k}=\\exp (-k)(-\\mathbf A)=\\exp k\\mathbf A$\n",
    "\n",
    "证毕"
   ]
  },
  {
   "cell_type": "markdown",
   "metadata": {},
   "source": [
    "## 5.试求方程组$x^{\\prime}=\\mathbf{A}x$的基解矩阵，求满足初值条件$\\varphi(0)=\\eta$的解$\\varphi(t)$：\n",
    "\n",
    "## (2)$\\mathbf{A}=\n",
    "\\begin{bmatrix}\n",
    "1 & 0 & 3\\\\\n",
    "8 & 1 & -1\\\\\n",
    "5 & 1 & -1\n",
    "\\end{bmatrix},\n",
    "\\eta=\n",
    "\\begin{bmatrix}\n",
    "0\\\\\n",
    "-2\\\\\n",
    "-7\n",
    "\\end{bmatrix}$"
   ]
  },
  {
   "cell_type": "markdown",
   "metadata": {},
   "source": [
    "**解**\n",
    "\n",
    "矩阵的特征方程为\n",
    "\n",
    "$\\det (\\lambda \\mathbf E-\\mathbf A)=\n",
    "\\begin{vmatrix}\n",
    "\\lambda-1 & 0 & -3\\\\\n",
    "-8 & \\lambda-1 & 1\\\\\n",
    "-5 & -1 & \\lambda+1\\\\\n",
    "\\end{vmatrix}\n",
    "=\\lambda^3-\\lambda^2-15\\lambda-9=0$\n",
    "\n",
    "特征值为$\\lambda_1=-3,\\lambda_{2,3}=2±\\sqrt 7$\n",
    "\n",
    "$\\lambda_1=-3$的特征向量$u=\\begin{bmatrix} u_1\\\\u_2\\\\u_3\\\\ \\end{bmatrix}$满足\n",
    "\n",
    "$$\n",
    "\\begin{aligned}\n",
    "(\\lambda_1 \\mathbf E-\\mathbf A)u&=\n",
    "\\begin{vmatrix}\n",
    "-4 & 0 & -3\\\\\n",
    "-8 & -4 & 1\\\\\n",
    "-5 & -1 & -2\\\\\n",
    "\\end{vmatrix}\n",
    "\\begin{bmatrix} u_1\\\\u_2\\\\u_3\\\\ \\end{bmatrix}=\n",
    "\\begin{vmatrix}\n",
    "-4u_1-3u_3\\\\\n",
    "-8u_1-4u_2+u_3\\\\\n",
    "-5u_1-u_2-2u_3\\\\\n",
    "\\end{vmatrix}=0\n",
    "\\end{aligned}\n",
    "$$\n",
    "\n",
    "即$u=\\alpha [-3,7,4]^T$,其中$\\alpha≠0$为任意常数\n",
    "\n",
    "同理可得\n",
    "\n",
    "$\\lambda_2=2+\\sqrt 7$的特征向量$v=\\beta[3,-5+4\\sqrt 7,1+\\sqrt 7]^T$\n",
    "\n",
    "$\\lambda_3=2-\\sqrt 7$的特征向量$r=\\mu[3,-5-4\\sqrt 7,1-\\sqrt 7]^T$"
   ]
  },
  {
   "cell_type": "markdown",
   "metadata": {
    "collapsed": true
   },
   "source": [
    "$B$"
   ]
  },
  {
   "cell_type": "code",
   "execution_count": null,
   "metadata": {
    "collapsed": true
   },
   "outputs": [],
   "source": []
  }
 ],
 "metadata": {
  "kernelspec": {
   "display_name": "SageMath 7.3",
   "language": "",
   "name": "sagemath"
  },
  "language_info": {
   "codemirror_mode": {
    "name": "ipython",
    "version": 2
   },
   "file_extension": ".py",
   "mimetype": "text/x-python",
   "name": "python",
   "nbconvert_exporter": "python",
   "pygments_lexer": "ipython2",
   "version": "2.7.10"
  }
 },
 "nbformat": 4,
 "nbformat_minor": 0
}
