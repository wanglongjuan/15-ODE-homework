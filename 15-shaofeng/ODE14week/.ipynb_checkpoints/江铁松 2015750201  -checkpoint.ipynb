{
 "cells": [
  {
   "cell_type": "markdown",
   "metadata": {},
   "source": [
    "# 习题5.2"
   ]
  },
  {
   "cell_type": "markdown",
   "metadata": {},
   "source": [
    "## 10.试求下列方程的通解"
   ]
  },
  {
   "cell_type": "markdown",
   "metadata": {},
   "source": [
    "$(2)x'''-8x=e^{2t};$"
   ]
  },
  {
   "cell_type": "markdown",
   "metadata": {},
   "source": [
    "**解**\n",
    "\n",
    "$特征方程为\\lambda ^3-8=0$\n",
    "\n",
    "$解得\\lambda _1=2,\\lambda _2=-1+\\sqrt 3 i,-1-\\sqrt 3 i$\n",
    "\n",
    "$齐次线性微分方程的基本解组为e^{2t},e^{-t}cos\\sqrt 3   t,e^{-t}sin\\sqrt 3   t$\n",
    "\n",
    "$方程有特解形如\\tilde{x}=Ate^{2t}$\n",
    "\n",
    "$代入解得A=\\frac{1}{12}$\n",
    "\n",
    "$所以\\tilde{x}=\\frac{1}{12}te^{2t}$\n",
    "\n",
    "$通解为x=c_1e^{2t}+c_2e^{-t}cos \\sqrt{3}t+c_3e^{-t}sin \\sqrt{3}t+\\frac{1}{12}te^{2t}$"
   ]
  },
  {
   "cell_type": "markdown",
   "metadata": {},
   "source": [
    "## 11 $$已知方程组  \n",
    "\\begin{cases}\n",
    "\\frac{dx_1}{dt}=x_1cos^2 t-x_2(1-sint cost)\\\\\n",
    "\\frac{dx_2}{dt}=x_1(1+sint cos t)+x_2sin^2t\\\\\n",
    "\\end{cases}有解x_1=-sint,x_2=cost,求其通解。$$"
   ]
  },
  {
   "cell_type": "markdown",
   "metadata": {},
   "source": [
    "**解**\n",
    "\n",
    "$由第四题结论知可通过一已知解将方程组减少一未知数$\n",
    "\n",
    "$运用第四题的变换$\n",
    "\n",
    "$$\\begin{cases}\n",
    "y_1=x_1+\\frac{sint}{cost}x_2\\\\\n",
    "y_2=\\frac{1}{cost}x_2\\\\\n",
    "\\end{cases}$$\n",
    "\n",
    "$$代入得\n",
    "\\begin{bmatrix}\n",
    "y'_1-y'_2sin t-y_2cos t\\\\\n",
    "-y_2sin {t}+cos ty'_2 \\\\\n",
    "\\end{bmatrix}=\n",
    "\\begin{bmatrix}\n",
    "cos^2 t & -(1-sintcost)\\\\\n",
    "1+sint cost  &sin^2t \\\\\n",
    "\\end{bmatrix}\n",
    "\\begin{bmatrix}\n",
    "x_1\\\\x_2\n",
    "\\end{bmatrix}\n",
    "$$\n",
    "\n",
    "$$即\\begin{bmatrix}\n",
    "-y_2cost\\\\\n",
    "-y_2sint\\\\\n",
    "\\end{bmatrix}+\n",
    "\\begin{bmatrix}\n",
    "y'_1-y_2'sint\\\\\n",
    "y'_2cos t\n",
    "\\end{bmatrix}=\\begin{bmatrix}\n",
    "cos^2 t & -(1-sintcost)\\\\\n",
    "1+sint cost  &sin^2t \\\\\n",
    "\\end{bmatrix}\n",
    "(\\begin{bmatrix}\n",
    "y_1\\\\0\n",
    "\\end{bmatrix}+\\begin{bmatrix}\n",
    "-y_2sint\\\\y_2cost\\\\\n",
    "\\end{bmatrix})\n",
    "$$\n",
    "\n",
    "$$因为-sin t,cos t是解所以方程化简为\n",
    "\\begin{bmatrix}\n",
    "y'_1-y_2'sint\\\\\n",
    "y'_2cos t\n",
    "\\end{bmatrix}=\\begin{bmatrix}\n",
    "cos^2 t & -(1-sintcost)\\\\\n",
    "1+sint cost  &sin^2t \\\\\n",
    "\\end{bmatrix}\n",
    "\\begin{bmatrix}\n",
    "y_1\\\\0\n",
    "\\end{bmatrix}$$\n",
    "\n",
    "$$y'_1=(1+tan t)y_1$$\n",
    "\n",
    "$$解得y_1=\\frac{e^t}{cost}$$\n",
    "\n",
    "$$y'_2=tan te^t+sect ^2e^t$$\n",
    "\n",
    "$$解得y_2=e^ tant$$\n",
    "\n",
    "$$代入\\begin{cases}\n",
    "y_1=x_1+\\frac{sint}{cost}x_2\\\\\n",
    "y_2=\\frac{1}{cost}x_2\\\\\n",
    "\\end{cases}$$\n",
    "\n",
    "$$得x_1=e^tcost,x_2=e^tsint $$\n",
    "\n",
    "$$所以通解为\\begin{cases}\n",
    "x_1=c_1sint+c_2e^tcost\\\\\n",
    "x_2=c_3cost+c_4e^tsint\\\\\n",
    "\\end{cases}$$\n",
    "\n",
    "\n"
   ]
  },
  {
   "cell_type": "markdown",
   "metadata": {},
   "source": [
    "# 习题5.3"
   ]
  },
  {
   "cell_type": "markdown",
   "metadata": {},
   "source": [
    "## 1$假设A是n \\times n矩阵，试证:$\n",
    "\n",
    "$(2)对任意正整数k都有(exp A)^k=exp kA.(当k是负整数时，规定(exp A)^k=[(exp A)^{-1}]^{-k}.)$"
   ]
  },
  {
   "cell_type": "markdown",
   "metadata": {},
   "source": [
    "**(2)证**\n",
    "\n",
    "$k为零时，显然成立$\n",
    "\n",
    "$当k为整数时，因为A与自身可交换，所以(expA)(expA)=exp(A+A)=exp(2A)$\n",
    "\n",
    "$所以(exp A)^k=exp kA$\n",
    "\n",
    "$当看为负整数时$\n",
    "\n",
    "$(exp A)^k=[(exp A)^{-1}]^{-k}=exp(-A)^{-k}=exp[(-A)(-k)]=expkA$"
   ]
  },
  {
   "cell_type": "markdown",
   "metadata": {},
   "source": [
    "## 5\n",
    "$试求x'=Ax的基解矩阵，并求满足初值条件\\varphi(0)=\\eta的解\\varphi(t)$\n",
    "\n",
    "$(2)A=\\begin{bmatrix}\n",
    "1 & 0 & 3\\\\\n",
    "8 & 1 & -1\\\\\n",
    "5 & 1 & -1\\\\\n",
    "\\end{bmatrix}，\\eta=\\begin{bmatrix} 0\\\\-2\\\\-7\\\\ \\end{bmatrix}$"
   ]
  },
  {
   "cell_type": "markdown",
   "metadata": {},
   "source": [
    "**解**\n",
    "\n",
    "$特征方程为\\lambda E-A=(\\lambda+3)(\\lambda ^2-4\\lambda-3)=0$\n",
    "\n",
    "$所以特征值为\\lambda _1=-3,\\lambda_2=2+\\sqrt 7,\\lambda_3=2-\\sqrt 7$\n",
    "\n",
    "$特征向量x_1=k_1\\begin{bmatrix} 3\\\\-7\\\\-4\\\\ \\end{bmatrix}$\n",
    "\n",
    "$x_2=k_2\\begin{bmatrix} 3\\\\4 \\sqrt 7-5\\\\\\sqrt 7+1\\\\ \\end{bmatrix}$\n",
    "\n",
    "$x_3=k_3\\begin{bmatrix} 3\\\\-4 \\sqrt 7-5\\\\-\\sqrt 7+1\\\\ \\end{bmatrix}$\n",
    "\n",
    "$取k=1,得到一个基解矩阵\\Phi(t)=\\begin{bmatrix}\n",
    "3e^{-3t}   &     3e^{(2+\\sqrt7)t}                 &  3e^{(2-\\sqrt7)t}\\\\\n",
    "-7e^{-3t}  &     (4\\sqrt7-5)e^{(2+\\sqrt7)t}       &-(4\\sqrt7+5)e^{(2-\\sqrt7)t}\\\\\n",
    "-4e^{-3t}  &      (\\sqrt7+1)e^{(2+\\sqrt7)t}         &(1-\\sqrt7)e^{(2-\\sqrt7)t}\\\\\n",
    "\\end{bmatrix}$\n",
    "\n",
    "$满足初值条件的解\\varphi=\\Phi(t)\\Phi^{-1}(0)\\eta=\\frac{1}{4\\sqrt7}\\times\n",
    "\\begin{bmatrix}\n",
    "\\frac{52\\sqrt 7}{3}e^{-3t}+\\frac{4-26\\sqrt 7}{3}e^{(2+\\sqrt7)t}+\\frac{-4-2\\sqrt 7}{3}e^{(2-\\sqrt7)t}\\\\\n",
    "\\frac{-364\\sqrt 7}{9}e^{-3t}+\\frac{-748+146\\sqrt 7}{9}e^{(2+\\sqrt7)t}+\\frac{748+146\\sqrt 7}{}e^{(2-\\sqrt7)t}\\\\\n",
    "\\frac{-208\\sqrt 7}{9}e^{-3t}+\\frac{-178-22\\sqrt 7}{9}e^{(2+\\sqrt7)t}+\\frac{178-22\\sqrt 7}{9}e^{(2-\\sqrt7)t}\\\\\n",
    "\\end{bmatrix}$"
   ]
  },
  {
   "cell_type": "markdown",
   "metadata": {
    "collapsed": true
   },
   "source": [
    "$A$"
   ]
  },
  {
   "cell_type": "code",
   "execution_count": null,
   "metadata": {
    "collapsed": true
   },
   "outputs": [],
   "source": []
  }
 ],
 "metadata": {
  "kernelspec": {
   "display_name": "SageMath 7.3",
   "language": "",
   "name": "sagemath"
  },
  "language_info": {
   "codemirror_mode": {
    "name": "ipython",
    "version": 2
   },
   "file_extension": ".py",
   "mimetype": "text/x-python",
   "name": "python",
   "nbconvert_exporter": "python",
   "pygments_lexer": "ipython2",
   "version": "2.7.10"
  }
 },
 "nbformat": 4,
 "nbformat_minor": 0
}
