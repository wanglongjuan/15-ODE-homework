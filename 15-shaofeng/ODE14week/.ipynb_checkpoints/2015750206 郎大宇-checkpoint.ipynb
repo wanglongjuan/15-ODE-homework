{
 "cells": [
  {
   "cell_type": "markdown",
   "metadata": {},
   "source": [
    "### 5.2 线性微分方程组的一般理论"
   ]
  },
  {
   "cell_type": "markdown",
   "metadata": {},
   "source": [
    "#### P218 第十题\n",
    "试求方程$x'''-8x=e^{2t}$的通解"
   ]
  },
  {
   "cell_type": "markdown",
   "metadata": {},
   "source": [
    "#### 解：\n",
    "原方程的特征方程为\n",
    "\n",
    "$$\\lambda^{3}-8=0,$$ \n",
    "\n",
    "可得它的三个解分别为$\\lambda_1=2,\\lambda_2=-1+\\sqrt3 i,\\lambda_3=-1-\\sqrt3 i ,$\n",
    "\n",
    "由特征根法，原方程对应的齐次线性微分方程的通解为\n",
    "\n",
    "$$x=c_1e^{2t}+c_2e^{-t}\\cos\\sqrt3 t+c_3e^{-t}sin\\sqrt3 t,$$\n",
    "\n",
    "由前面所学结论，原方程有形如$\\tilde x=Ate^{2t}$的特解，代入原方程中得：\n",
    "\n",
    "$$12Ae^{2t}=e^{2t},$$ \n",
    "\n",
    "即$$A=\\frac{1}{12},$$\n",
    " \n",
    "故$$\\tilde x=\\frac{1}{12}te^{2t},$$\n",
    "\n",
    "故原方程的通解为$$x(t)=c_1e^{2t}+c_2e^{-t}\\cos\\sqrt3 t+c_3e^{-t}sin\\sqrt3 t+\\frac{1}{12}te^{2t}$$"
   ]
  },
  {
   "cell_type": "markdown",
   "metadata": {},
   "source": [
    "#### 第十一题\n",
    "已知方程组\n",
    "\\begin{cases}\n",
    "\\frac{dx_1}{dt}=x_1\\cos^{2}t-x_2(1-\\sin{t}\\cos{t})\\\\\n",
    "\\frac{dx_2}{dt}=x_1(1+\\sin{t}\\cos{t})+x_2\\sin^{2}t\\\\\n",
    "\\end{cases}\n",
    "有解$x_1=-\\sin{t},x_2=\\cos{t}$，求其通解."
   ]
  },
  {
   "cell_type": "markdown",
   "metadata": {},
   "source": [
    "#### 解：\n",
    "方程可化为\n",
    "$$\n",
    "X'=\n",
    "\\begin{pmatrix}\n",
    "cos^{2}t&sintcost-1\\\\\n",
    "1+sintcost&sin^{2}t\\\\\n",
    "\\end{pmatrix}X\n",
    "$$\n",
    "\n",
    "设\n",
    "$X=(\\varphi_1(t),\\varphi_2(t))$ 是方程满足初值条件$\\varphi_1(0)=1,\\varphi_2(0)=0$的一组解\n",
    "\n",
    "则由前面题目的结论，\n",
    "$$\n",
    "\\begin{vmatrix}\n",
    "\\varphi_1(t) &-sint\\\\\n",
    "\\varphi_2(t) &cost\\\\\n",
    "\\end{vmatrix}=\n",
    "\\begin{vmatrix}\n",
    "1 &0\\\\\n",
    "0 &1\\\\\n",
    "\\end{vmatrix}e^{\\int_0^t(cos^{2}t+sin^{2}t)dt}=e^{t}\n",
    "$$\n",
    "即\n",
    "$$\\varphi_1cost+\\varphi_2sint=e^t$$\n",
    "$$\\varphi_2=\\frac{e^t-\\varphi_1cost}{sint}$$\n",
    "代入方程组第一个方程中得：\n",
    "$$\n",
    "\\begin{aligned}\n",
    "\\varphi_1'&=\\varphi_1cos^{2}t-\\frac{(e^t-\\varphi_1cost)(1-sintcost)}{sint}\\\\\n",
    "&=\\varphi_1cos^{2}t-\\frac{e^t-e^tsintcost-\\varphi_1cost+\\varphi_1sintcos^{2}t}{sint}\\\\\n",
    "&=cott\\varphi_1+e^t(cost-csct)\n",
    "\\end{aligned}\n",
    "$$\n",
    "由常数变易法，\n",
    "$$\\varphi_1=e^{\\int_0^tcotsds}[\\int_0^t e^s(coss-cscs)e^{-\\int_0^scoswdw}ds+c_1]$$\n",
    "由\n",
    "$\\varphi_1(0)=1$ 得 $c_1=1$\n",
    "\n",
    "解得$$\\varphi_1(t)=e^{t}cost$$  $$\\varphi_2(t)=e^{t}sint$$  \n",
    "\n",
    "故原方程的通解为:\n",
    "$$\n",
    "X=c_1\\begin{pmatrix}\n",
    "sint\\\\\n",
    "cost\\\\\n",
    "\\end{pmatrix}\n",
    "+c_1\\begin{pmatrix}\n",
    "e^{t}cost\\\\\n",
    "e^{t}sint\\\\\n",
    "\\end{pmatrix}\n",
    "$$"
   ]
  },
  {
   "cell_type": "markdown",
   "metadata": {
    "collapsed": true
   },
   "source": [
    "#### P244 第一题\n",
    "1.假设A是$n\\times n$矩阵，试证：\n",
    "对$\\forall$整数k，都有\n",
    "$$(exp A)^k=expKA$$(当k是负数时，规定$(exp A)^k=[(exp A)^{-1}]^{-k}$)"
   ]
  },
  {
   "cell_type": "markdown",
   "metadata": {},
   "source": [
    "#### 证明:\n",
    "1.若k为正整数，当$k=2$时，由于$A$与$A$可交换，故$$ expA·expA=exp2A$$\n",
    "\n",
    "由数学归纳法，假设当$k=n$时，等式成立，即 $$(exp A)^n=exp nA$$\n",
    "\n",
    "则当$k=n+1$时， \n",
    "$$\n",
    "\\begin{aligned}\n",
    "(exp A)^{n+1}\n",
    "&=(exp A)^n·exp A\\\\\n",
    "&=expnA·expA\\\\\n",
    "&=exp(n+1)A\\\\\n",
    "\\end{aligned}\n",
    "$$\n",
    "等式成立.\n",
    "\n",
    "2.若k=0，等式显然成立。 \n",
    "\n",
    "3.若k为负整数，  $$\n",
    "\\begin{aligned}\n",
    "(exp A)^k&=[(expA)^{-1}]^{-k}\\\\\n",
    "&=(exp -A)^{-k}\\\\\n",
    "&=exp kA\n",
    "\\end{aligned}\n",
    "$$\n",
    "等式成立.\n",
    "综上，原命题得证。"
   ]
  },
  {
   "cell_type": "markdown",
   "metadata": {},
   "source": [
    "#### 第五题\n",
    "试求方程组$x'=Ax$的基解矩阵，并求满足初值条件$\\varphi(0)=\\eta$的解$\\varphi(t),$其中\n",
    "$\n",
    "A=\n",
    "\\begin{pmatrix}\n",
    "1 &0 &3\\\\\n",
    "8 &1 &-1\\\\\n",
    "5 &1 &-1\\\\\n",
    "\\end{pmatrix},\n",
    "$\n",
    "$\\eta=\n",
    "\\begin{pmatrix}\n",
    "0 \\\\\n",
    "-2 \\\\\n",
    "-7 \\\\\n",
    "\\end{pmatrix}\n",
    "$"
   ]
  },
  {
   "cell_type": "markdown",
   "metadata": {},
   "source": [
    "#### 解：\n",
    "\n",
    "特征多项式为$(\\lambda+3)(\\lambda^2-4\\lambda-3)=0$\n",
    "\n",
    "解得：$\\lambda_1=-3,\\lambda_2=2+\\sqrt 7,\\lambda_3=2-\\sqrt 7,$\n",
    "\n",
    "对于$\\lambda_1=-3,$\n",
    "由$$A=\n",
    "\\begin{pmatrix}\n",
    "-4 &0 &-3\\\\\n",
    "-8 &-4 &1\\\\\n",
    "-5 &-1 &-2\\\\\n",
    "\\end{pmatrix}\n",
    "\\begin{pmatrix}\n",
    "u_1\\\\\n",
    "u_2\\\\\n",
    "u_3\\\\\n",
    "\\end{pmatrix}=0\n",
    "$$\n",
    "得到其特征向量为\n",
    "$$u=\\alpha\\begin{pmatrix}\n",
    "&3\\\\  \n",
    "&-7\\\\  \n",
    "&-4\\\\\n",
    "\\end{pmatrix}\n",
    "$$\n",
    "同理可得$\\lambda_2=2+\\sqrt 7,\\lambda_3=2-\\sqrt 7$对应的特征向量：\n",
    "$$u=\\beta\\begin{pmatrix}\n",
    "&3\\\\  \n",
    "&4\\sqrt 7-5\\\\  \n",
    "&\\sqrt 7+1\\\\\n",
    "\\end{pmatrix}\n",
    ",$$\n",
    "$$u=\\gamma\\begin{pmatrix}\n",
    "&3\\\\  \n",
    "&-4\\sqrt 7-5\\\\  \n",
    "&1-\\sqrt 7\\\\\n",
    "\\end{pmatrix}\n",
    "$$\n",
    "\n",
    "取$\\lambda=\\beta=\\gamma=1,$得到$X'=AX$的一个基解矩阵：\n",
    "\n",
    "$$\n",
    "\\Phi=\n",
    "\\begin{pmatrix}\n",
    "3e^{-3t} &3e^{2+\\sqrt7}t &e^{2-\\sqrt7}t\\\\  \n",
    "-7e^{-3t} &(4\\sqrt7-5)e^{(2+\\sqrt7)t} &-(4\\sqrt7-5)e^{(2-\\sqrt7)t}\\\\ \n",
    "-4e^{-3t} &(\\sqrt7+1)e^{(2+\\sqrt7)t} &(1-\\sqrt 7)e^{(2-\\sqrt7)t}\\\\ \n",
    "\\end{pmatrix}\n",
    "$$\n",
    "\n",
    "由公式，\n",
    "\n",
    "$$\n",
    "expAt=\\Phi(t)\\Phi^{-1}(0)=\n",
    "\\frac{1}{108\\sqrt7}\n",
    "\\begin{pmatrix}\n",
    "3e^{-3t} &3e^{2+\\sqrt7}t &e^{2-\\sqrt7}t\\\\  \n",
    "-7e^{-3t} &(4\\sqrt7-5)e^{(2+\\sqrt7)t} &-(4\\sqrt7-5)e^{(2-\\sqrt7)t}\\\\ \n",
    "-4e^{-3t} &(\\sqrt7+1)e^{(2+\\sqrt7)t} &(1-\\sqrt 7)e^{(2-\\sqrt7)t}\\\\ \n",
    "\\end{pmatrix}\n",
    "\\begin{pmatrix}\n",
    "18 &6\\sqrt7 &-24\\sqrt7\\\\  \n",
    "27+9\\sqrt7 &15-3\\sqrt7 &12\\sqrt7-6\\\\ \n",
    "9\\sqrt7-27 &-(15+3\\sqrt7) &12\\sqrt 7+6\\\\ \n",
    "\\end{pmatrix}\n",
    "$$"
   ]
  },
  {
   "cell_type": "markdown",
   "metadata": {
    "collapsed": true
   },
   "source": [
    "满足初值条件\n",
    "$\\Phi(0)=\n",
    "\\eta=\n",
    "\\begin{pmatrix}\n",
    "0 \\\\\n",
    "-2 \\\\\n",
    "-7 \\\\\n",
    "\\end{pmatrix}\n",
    "$\n",
    "的解为$\\varphi(t)=\\Phi(t)\\Phi_{-1}(0) \\eta=expAt·\\eta.$\n",
    "\n",
    "代入$expAt$解得：\n",
    "$$\n",
    "\\varphi(t)=\\frac{1}{4\\sqrt7}\n",
    "\\begin{pmatrix}\n",
    "\\frac{52\\sqrt7}{3}e^{-3t}+\\frac{4-26\\sqrt7}{3}e^{2+\\sqrt7}t+\\frac{-4-2\\sqrt7}{3}e^{2-\\sqrt7}t\\\\  \n",
    "\\frac{-364\\sqrt7}{9}e^{-3t}+\\frac{-748+146\\sqrt7}{9}e^{2+\\sqrt7}t+\\frac{748+146\\sqrt7}{9}e^{2-\\sqrt7}t\\\\ \n",
    "\\frac{-208\\sqrt7}{9}e^{-3t}+\\frac{-178-22\\sqrt7}{9}e^{2+\\sqrt7}t+\\frac{178-22\\sqrt7}{9}e^{2-\\sqrt7}t\\\\ \n",
    "\\end{pmatrix}\n",
    "$$"
   ]
  },
  {
   "cell_type": "markdown",
   "metadata": {
    "collapsed": true
   },
   "source": [
    "$A^+$"
   ]
  },
  {
   "cell_type": "code",
   "execution_count": null,
   "metadata": {
    "collapsed": true
   },
   "outputs": [],
   "source": []
  }
 ],
 "metadata": {
  "kernelspec": {
   "display_name": "SageMath 7.3",
   "language": "",
   "name": "sagemath"
  },
  "language_info": {
   "codemirror_mode": {
    "name": "ipython",
    "version": 2
   },
   "file_extension": ".py",
   "mimetype": "text/x-python",
   "name": "python",
   "nbconvert_exporter": "python",
   "pygments_lexer": "ipython2",
   "version": "2.7.10"
  }
 },
 "nbformat": 4,
 "nbformat_minor": 0
}
