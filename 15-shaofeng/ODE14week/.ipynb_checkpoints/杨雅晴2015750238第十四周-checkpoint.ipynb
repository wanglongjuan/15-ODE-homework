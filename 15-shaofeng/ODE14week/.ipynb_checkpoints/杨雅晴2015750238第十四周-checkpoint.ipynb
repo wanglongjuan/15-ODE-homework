{
 "cells": [
  {
   "cell_type": "markdown",
   "metadata": {},
   "source": [
    "## 5.2"
   ]
  },
  {
   "cell_type": "markdown",
   "metadata": {},
   "source": [
    "### 10.试求下列方程的通解\n",
    "### （2）$x'''-8x=e^{2t}$"
   ]
  },
  {
   "cell_type": "markdown",
   "metadata": {},
   "source": [
    "**解**：$x'''-8x=0$的特征方程为$\\lambda^3-8=0$\n",
    "\n",
    "解得$\\lambda_1=2$,$\\lambda_2=-1+\\sqrt 3i$,$\\lambda_3=-1-\\sqrt 3i$\n",
    "\n",
    "所以方程通解为$$x=c_1e^{2t}+c_2e^{-t}\\cos{\\sqrt 3t}+c_3e^{-t}\\sin{\\sqrt 3t}$$"
   ]
  },
  {
   "cell_type": "markdown",
   "metadata": {},
   "source": [
    "令原方程的一个特解为$x_1=Ate^{2t}$，代入原方程得到$$A=\\frac{1} {12}$$得特解为$x_1=\\frac{1} {12}te^{2t}$，则原方程的通解为$$x(t)=c_1e^{2t}+c_2e^{-t}\\cos{\\sqrt 3t}+c_3e^{-t}\\sin{\\sqrt 3t}+\\frac{1} {12}te^{2t}$$"
   ]
  },
  {
   "cell_type": "markdown",
   "metadata": {},
   "source": [
    "### 11.已知方程组$$\\begin{cases}\\frac{dx_1} {dt}=x_1\\cos^2t-x_2(1-\\sin t\\cos t)\\\\\\frac{dx_2} {dt}=x_1(1+\\sin t\\cos t)+x_2\\sin^2t\\end{cases}$$有解$x_1=-\\sin t$，$x_2=\\cos t$，求其通解。"
   ]
  },
  {
   "cell_type": "markdown",
   "metadata": {},
   "source": [
    "**解：** 设$x_1=\\phi_1(t)$,$x_2=\\phi_2(t)$是方程的满足初值$\\phi_1(0)=1$,$\\phi_2(0)=0$的一组解，由Liouville公式可知\n",
    "$$\n",
    "\\begin{vmatrix}\n",
    "\\phi_1(t)&-\\sin t\\\\\n",
    "\\phi_2(t)&\\cos t\n",
    "\\end{vmatrix}\n",
    "=\n",
    "\\begin{vmatrix}\n",
    "1&0\\\\\n",
    "0&1\n",
    "\\end{vmatrix}\n",
    "e^{\\int_0^t\\mathrm{(\\cos^2t+\\sin^2t)}\\mathrm{d}t}=e^t\n",
    "$$\n",
    "解得$$\\phi_2(t)=\\frac{e^t-\\phi_1(t)\\cos t} {\\sin t}$$"
   ]
  },
  {
   "cell_type": "markdown",
   "metadata": {},
   "source": [
    "代入方程组第一个方程得$$\\phi'_1(t)=\\phi_1(t)\\cos t+e^t(\\cos t-\\csc t)$$\n",
    "此为一阶线性微分方程，得$$\\phi_1(t)=e^{\\int_0^t\\mathrm{\\cot s}\\mathrm{d}s}[\\int_0^t\\mathrm{e^s(\\cos s-\\csc s)e^{-\\int_0^s\\mathrm{\\cot \\alpha}\\mathrm{d}\\alpha}}\\mathrm{d}s+1]$$\n",
    "即$$\\phi_1(t)=e^t\\cos t,从而\\phi_2(t)=e^t\\sin t$$\n",
    "所以，原方程通解为\n",
    "$$\n",
    "\\begin{bmatrix}\n",
    "x_1\\\\\n",
    "x_2\n",
    "\\end{bmatrix}\n",
    "=C_1\\begin{bmatrix}\n",
    "-\\sin t\\\\\n",
    "\\cos t\n",
    "\\end{bmatrix}\n",
    "+C_2\\begin{bmatrix}\n",
    "e^t\\cos t\\\\\n",
    "e^t\\sin t\n",
    "\\end{bmatrix}\n",
    "$$"
   ]
  },
  {
   "cell_type": "markdown",
   "metadata": {},
   "source": [
    "### 1.假设A是$n\\times n$矩阵，试证：\n",
    "### (2)对任意整数k，都有$$(\\exp A)^k=\\exp kA$$（当k是负整数时，规定$(\\exp A)^k=[(\\exp A)^{-1}]^{-k}$)"
   ]
  },
  {
   "cell_type": "markdown",
   "metadata": {},
   "source": [
    "**证明：**利用（1）的结论，首先使$c_1=c_2=1$则有\n",
    "$$\\exp (2A)=\\exp（A+A)=\\exp A \\cdot \\exp A=(\\exp A)^2$$\n",
    "根据上述令$c_2=2,3,4 \\cdots {k-1}$并带入得到\n",
    "有$$\\exp (3A)=\\exp（A+2A)=\\exp A \\cdot \\exp 2A=(\\exp A)^3$$\n",
    "$$\\exp (4A)=\\exp（A+3A)=\\exp A \\cdot \\exp 3A=(\\exp A)^4$$\n",
    "$$\\cdots$$\n",
    "$$\\exp (kA)=\\exp（A+(k-1)A)=\\exp A \\cdot \\exp (k-1)A=(\\exp A)^k$$\n",
    "当$k=0$时，$$右边=(\\exp A)^0=E=\\exp 0=左边$$\n",
    "当$k=1$时，等式也成立\n",
    "\n",
    "得上述等式对所有非负整数都成立\n",
    "\n",
    "当k是负整数时$$(\\exp A)^k[(\\exp A)^{-1}]^{-k}=[\\exp (-A)]^{-k}=\\exp (-k)(-A)=\\exp kA$$\n",
    "即当k时负整数时，等式也成立\n",
    "\n",
    "综上所述，k为任意整数时，都有$$(\\exp A)^k=\\exp kA$$"
   ]
  },
  {
   "cell_type": "markdown",
   "metadata": {},
   "source": [
    "### 5.试求方程组$x'=Ax$的基解矩阵，并求满足初值条件$\\varphi(0)=\\eta$的解$\\varphi(t)$\n",
    "### (2)$$A={\\left[\\begin{matrix}1&0&3\\\\8&1&-1\\\\5&1&-1\\\\\\end{matrix}\\right]},\\eta={\\left[\\begin{matrix}0\\\\-2\\\\-7\\\\\\end{matrix}\\right]}$$"
   ]
  },
  {
   "cell_type": "markdown",
   "metadata": {},
   "source": [
    "**解：**特征方程为$$(\\lambda+3)({\\lambda}^2-4\\lambda-3)=0$$得到特征值为$$\\lambda_1=-3,\\lambda_2=2+\\sqrt{7},\\lambda_3=2-\\sqrt{7}$$并求得对应三个特征值的特征向量为$$x=k_1{\\left[\\begin{matrix}3&-7&-4\\\\\\end{matrix}\\right]}^T$$\n",
    "$$x=k_2{\\left[\\begin{matrix}3&4\\sqrt{7}-5&\\sqrt{7}+1\\\\\\end{matrix}\\right]}^T$$\n",
    "$$x=k_3{\\left[\\begin{matrix}3&-4\\sqrt{7}-5&1-\\sqrt{7}\\\\\\end{matrix}\\right]}^T$$"
   ]
  },
  {
   "cell_type": "markdown",
   "metadata": {},
   "source": [
    "令$k_1=k_2=k_3=1$则得到方程$x'=Ax$的一个基解矩阵\n",
    "$$\\phi(t)={\\left[\n",
    "\\begin{matrix}\n",
    "3e^{-3t}&3e^{(2+\\sqrt{7})t}&3e^{(2-\\sqrt{7})t}\\\\\n",
    "-7e^{-3t}&(4\\sqrt{7}-5)e^{(2+\\sqrt{7})t}&-(4\\sqrt{7}+5)e^{(2-\\sqrt{7})t}\\\\\n",
    "-4e^{-3t}&(\\sqrt{7}+1)e^{(2+\\sqrt{7})t}&(1-\\sqrt{7})e^{(2-\\sqrt{7})t}\n",
    "\\end{matrix}\n",
    "\\right]}$$"
   ]
  },
  {
   "cell_type": "markdown",
   "metadata": {},
   "source": [
    "因为满足初值条件$\\varphi(0)=\\eta={\\left[\\begin{matrix}0&-2&-7\\\\\\end{matrix}\\right]}^T$的解为\n",
    "$$\\varphi(t)=\\phi(t)\\phi^{-1}(0)\\eta=\\exp At \\cdot \\eta$$\n",
    "计算得到\n",
    "$$\n",
    "\\begin{aligned}\n",
    "\\varphi(t)&=\\frac{1}{108\\sqrt{7}}{\\left[\n",
    "\\begin{matrix}3e^{-3t}&3e^{(2+\\sqrt{7})t}&3e^{(2+\\sqrt{7})t}\\\\\n",
    "-7e^{-3t}&(4\\sqrt{7}-5)e^{(2+\\sqrt{7})t}&-(4\\sqrt{7}+5)e^{(2-\\sqrt{7})t}\\\\\n",
    "-4e^{-3t}&(\\sqrt{7}+1)e^{(2+\\sqrt{7})t}&(1-\\sqrt{7})e^{(2-\\sqrt{7})t}\n",
    "\\end{matrix}\\right]}{\\left[\n",
    "\\begin{matrix}\n",
    "18\\sqrt{7}&6\\sqrt{7}&-24\\sqrt{7}\\\\\n",
    "27+9\\sqrt{7}&15-3\\sqrt{7}&12\\sqrt{7}-6\\\\\n",
    "9\\sqrt{7}-27&-(15+3\\sqrt{7})&12\\sqrt{7}-6\n",
    "\\end{matrix}\\right]}\\cdot{\\left[\n",
    "\\begin{matrix}\n",
    "0&-2&-7\n",
    "\\end{matrix}\\right]}^T\\\\\n",
    "&=\\frac{1}{4\\sqrt{7}}{\\left[\n",
    "\\begin{matrix}\n",
    "\\frac{52\\sqrt{7}}{3}e^{-3t}+\\frac{4-26\\sqrt{7}}{3}e^{(2+\\sqrt{7})t}+\\frac{-4-2\\sqrt{7}}{3}e^{(2+\\sqrt{7})t}\\\\\n",
    "\\frac{-364\\sqrt{7}}{9}e^{-3t}+\\frac{-748+146\\sqrt{7}}{9}e^{(2+\\sqrt{7})t}+\\frac{748+146\\sqrt{7}}{9}e^{(2-\\sqrt{7})t}\\\\\n",
    "-\\frac{208\\sqrt{7}}{9}e^{-3t}+\\frac{-178-22\\sqrt{7}}{9}e^{(2+\\sqrt{7})t}+\\frac{178-22\\sqrt{7}}{9}e^{(2-\\sqrt{7})t}\n",
    "\\end{matrix}\\right]}\n",
    "\\end{aligned}\n",
    "$$"
   ]
  },
  {
   "cell_type": "markdown",
   "metadata": {
    "collapsed": true
   },
   "source": [
    "$A$"
   ]
  },
  {
   "cell_type": "code",
   "execution_count": null,
   "metadata": {
    "collapsed": true
   },
   "outputs": [],
   "source": []
  }
 ],
 "metadata": {
  "kernelspec": {
   "display_name": "SageMath 7.3",
   "language": "",
   "name": "sagemath"
  },
  "language_info": {
   "codemirror_mode": {
    "name": "ipython",
    "version": 2
   },
   "file_extension": ".py",
   "mimetype": "text/x-python",
   "name": "python",
   "nbconvert_exporter": "python",
   "pygments_lexer": "ipython2",
   "version": "2.7.10"
  }
 },
 "nbformat": 4,
 "nbformat_minor": 0
}
