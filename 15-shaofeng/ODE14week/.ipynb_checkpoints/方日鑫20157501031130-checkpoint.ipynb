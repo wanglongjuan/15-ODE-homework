{
 "cells": [
  {
   "cell_type": "markdown",
   "metadata": {},
   "source": [
    "# 1.试求下列方程的通解"
   ]
  },
  {
   "cell_type": "markdown",
   "metadata": {},
   "source": [
    "# $$x'''-8x=e^{2t}$$"
   ]
  },
  {
   "cell_type": "markdown",
   "metadata": {},
   "source": [
    "解：下面求对应的齐次方程的解即$$x'''-8x=0\\\\$$特征方程是$$\\lambda^3-8=0\\\\$$\n",
    "特征根有$\\lambda_1=2,\\lambda_{2,3}=-1\\pm \\sqrt{3}i\\\\$\n",
    "因此其线性无关解为$$x=e^{2t},x=e^{-t}\\cos{\\sqrt{3}t},x=e^{-t}\\sin{\\sqrt{3}t}$$\n",
    "故方程有特解形如$x=Ate^{2t}$带入方程可得$A=\\frac{1}{12}\\\\$\n",
    "因此方程通解为$$x=(c_1\\cos{\\sqrt{3}t}+c_2\\sin{\\sqrt{3}t})e^{-t}+c_3e^{2t}+\\frac{1}{12}te^{2t}$$"
   ]
  },
  {
   "cell_type": "markdown",
   "metadata": {},
   "source": [
    "# 2.已知方程组$\\begin{cases}\n",
    "\\frac{\\mathrm dx_1}{\\mathrm dt}=x_1\\cos^2 t-x_2(1-\\sin t\\cos t)\\\\ \n",
    "\\frac{\\mathrm dx_2}{\\mathrm dt}=x_1(1+\\sin t\\cos t)+x_2\\sin^2 t\\\\\n",
    "\\end{cases}$"
   ]
  },
  {
   "cell_type": "markdown",
   "metadata": {},
   "source": [
    "# 有解$x_1=-\\sin t,x_2=\\cos t$求其通解"
   ]
  },
  {
   "cell_type": "markdown",
   "metadata": {},
   "source": [
    "解:\n",
    "由于有解$$x_1=-\\sin t,x_2=\\cos t$$设另一解$\\mathbf{x}=(x_1,x_2)^{T}\\\\$\n",
    "则可以得到$$\\begin{vmatrix}&-\\sin{t} &x_1\\\\&\\cos{t} &x_2\\end{vmatrix}\n",
    "=W(0)e^{\\int_0^t (\\cos^2 s+\\sin^2 s)\\mathrm ds}$$\n",
    "整理得$$\\sin{t}\\ x_2+\\cos{t}\\ x_1=x_1(0)e^t\\quad (*)\\\\$$\n",
    "又由于\n",
    "$$\\begin{cases}\n",
    "\\frac{\\mathrm dx_1}{\\mathrm dt}=x_1\\cos^2 t-x_2(1-\\sin t\\cos t)\\\\ \n",
    "\\frac{\\mathrm dx_2}{\\mathrm dt}=x_1(1+\\sin t\\cos t)+x_2\\sin^2 t\\\\\n",
    "\\end{cases}$$\n",
    "由$(*)$式可得\n",
    "$$\\begin{cases}\n",
    "\\frac{\\mathrm dx_1}{\\mathrm dt}=\\cot{t}x_1-\\frac{x_1(0)e^t}{\\sin t}+\\cos{t}x_1(0)e^t\\\\ \n",
    "\\frac{\\mathrm dx_2}{\\mathrm dt}=-\\frac{\\sin{t}}{\\cos{t}}x_2+(\\frac{1}{\\cos{t}}+\\sin{t})x_1(0)e^t\\\\\n",
    "\\end{cases}$$\n",
    "上述方程是一阶线性微分方程可由常数变易法求出，不难求得$$x_1=\\cos{t}e^t,x_2=\\sin{t}e^{t}$$\n",
    "那么原方程通解为\n",
    "$$\\mathbf{x}=c_1\\begin{pmatrix}-\\sin{t}\\\\ \\cos{t}\\end{pmatrix}+c_2\\begin{pmatrix}\\cos{t}e^t\\\\ \\sin{t}e^{t}\\end{pmatrix}$$"
   ]
  },
  {
   "cell_type": "markdown",
   "metadata": {},
   "source": [
    "# 3.假设$\\mathbf{A}$是$n\\times n$矩阵，试证"
   ]
  },
  {
   "cell_type": "markdown",
   "metadata": {},
   "source": [
    "# $\\forall k \\in Z ：\\\\ (\\exp{\\mathbf{A}})^k=\\exp{k\\mathbf{A}}$\n",
    "# 当$k$是负整数时，规定$(\\exp{\\mathbf{A}})^k=((\\exp{\\mathbf{A}})^{-1})^{-k}$"
   ]
  },
  {
   "cell_type": "markdown",
   "metadata": {},
   "source": [
    "证明:\n",
    "我们可以只考虑稍复杂的情况，即$k$是负整数时\n",
    "当$-k=1$时显然成立\n",
    "\n",
    "假设$-k=n$时成立考虑$-k=n+1\\\\$时\n",
    "$$(\\exp{\\mathbf{A}})^{-n-1}=((\\exp{\\mathbf{A}})^{-1})^{n+1}=((\\exp{-\\mathbf{A}})^{n+1}\n",
    "=(\\exp{-\\mathbf{A}})(\\exp{-\\mathbf{A}})^{n}=(\\exp{-\\mathbf{A}})(\\exp{-n\\mathbf{A}})=\\exp{(-(n+1)\\mathbf{A})}\\\\$$\n",
    "$k$为正整数也可同理证\n",
    "那么$\\forall k \\in Z ：\\\\ (\\exp{\\mathbf{A}})^k=\\exp{k\\mathbf{A}}$"
   ]
  },
  {
   "cell_type": "markdown",
   "metadata": {},
   "source": [
    "# 4.试求方程组$\\mathbf{x'}=\\mathbf{Ax}$的基解矩阵，并求满足初值条件$\\mathbf{\\varphi}(0)=\\mathbf{\\eta}$的解$\\mathbf{\\varphi}(t)$"
   ]
  },
  {
   "cell_type": "markdown",
   "metadata": {},
   "source": [
    "$\\mathbf{A}=\\begin{bmatrix}&1 &0 &3\\\\&8 &1 &-1\\\\&5 &1 &-1\\end{bmatrix}$,\n",
    "$\\mathbf{\\eta}=\\begin{pmatrix}0\\\\-2\\\\-7\\end{pmatrix}$"
   ]
  },
  {
   "cell_type": "markdown",
   "metadata": {},
   "source": [
    "解:\n",
    "矩阵$\\mathbf{A}$的特征值为$$\\lambda_1=-3,\\lambda_{2,3}=2\\pm \\sqrt{7}\\\\$$\n",
    "属于$\\lambda_1=-3$的特征向量为$(-3,7,4)^{T}$\n",
    "\n",
    "属于$\\lambda_2=2+\\sqrt{7}$的特征向量为$(3,(4\\sqrt{7}-5),(\\sqrt{7}+1))^{T}$\n",
    "\n",
    "属于$\\lambda_2=2-\\sqrt{7}$的特征向量为$(3,-(4\\sqrt{7}+5),1-\\sqrt{7})^{T}$\n",
    "\n",
    "因此基解矩阵为$\\begin{pmatrix}&-3e^{-3t} &3e^{(2+\\sqrt{7})t} &3e^{(2-\\sqrt{7})t}\\\\ \n",
    "&7e^{-3t} &(4\\sqrt{7}-5)e^{(2+\\sqrt{7})t} &-(4\\sqrt{7}+5)e^{(2-\\sqrt{7})t}\\\\\n",
    "&4e^{-3t} &(\\sqrt{7}+1)e^{(2+\\sqrt{7})t} &(1-\\sqrt{7})e^{(2-\\sqrt{7})t}\n",
    "\\end{pmatrix}$\n",
    "\n",
    "因此$$\\mathbf{\\varphi}(t)=\\frac{1}{4\\sqrt{7}}\n",
    "\\begin{pmatrix}\n",
    "\\frac{52\\sqrt{7}}{3}e^{-3t}+\\frac{4-26\\sqrt{7}}{3}e^{(2+\\sqrt{7})t}-\\frac{4+2\\sqrt{7}}{3}e^{2-\\sqrt{7}}\\\\\n",
    "-\\frac{364\\sqrt{7}}{9}e^{-3t}+\\frac{-748+146\\sqrt{7}}{9}e^{(2+\\sqrt{7})t}+\\frac{748+146\\sqrt{7}}{9}e^{(2-\\sqrt{7})t}\\\\\n",
    "-\\frac{208\\sqrt(7)}{9}e^{-3t}+\\frac{-178+22\\sqrt{7}}{9}e^{(2+\\sqrt{7})t}+\\frac{178-22\\sqrt{7}}{9}e^{(2-\\sqrt{7})t}\n",
    "\\end{pmatrix}\n",
    "$$"
   ]
  },
  {
   "cell_type": "code",
   "execution_count": 1,
   "metadata": {
    "collapsed": false
   },
   "outputs": [
    {
     "data": {
      "text/plain": [
       "[x == -sqrt(7) + 2, x == sqrt(7) + 2, x == -3]"
      ]
     },
     "execution_count": 1,
     "metadata": {},
     "output_type": "execute_result"
    }
   ],
   "source": [
    "var('x')\n",
    "a=x^(3)-x^(2)-15*x-9==0\n",
    "solve(a,x)"
   ]
  },
  {
   "cell_type": "markdown",
   "metadata": {},
   "source": [
    "$A$"
   ]
  },
  {
   "cell_type": "code",
   "execution_count": null,
   "metadata": {
    "collapsed": true
   },
   "outputs": [],
   "source": []
  }
 ],
 "metadata": {
  "kernelspec": {
   "display_name": "SageMath 7.3",
   "language": "",
   "name": "sagemath"
  },
  "language_info": {
   "codemirror_mode": {
    "name": "ipython",
    "version": 2
   },
   "file_extension": ".py",
   "mimetype": "text/x-python",
   "name": "python",
   "nbconvert_exporter": "python",
   "pygments_lexer": "ipython2",
   "version": "2.7.10"
  }
 },
 "nbformat": 4,
 "nbformat_minor": 0
}
