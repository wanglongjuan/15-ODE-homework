{
 "cells": [
  {
   "cell_type": "markdown",
   "metadata": {},
   "source": [
    "# 常微分作业——15数学类韶峰班黄淑婷（2015750115）"
   ]
  },
  {
   "cell_type": "markdown",
   "metadata": {},
   "source": [
    "## 5.2"
   ]
  },
  {
   "cell_type": "markdown",
   "metadata": {},
   "source": [
    "**10.试求下列方程的通解**"
   ]
  },
  {
   "cell_type": "markdown",
   "metadata": {},
   "source": [
    "**(2) $\\mathbf x'''-8\\mathbf x=\\mathbf e^{\\mathbf 2t}$**"
   ]
  },
  {
   "cell_type": "markdown",
   "metadata": {},
   "source": [
    "**解**\n",
    "\n",
    "相应的齐次方程 $x'''-8x=0$ 的特征方程为 $$\\lambda^3-8=0$$,\n",
    "\n",
    "得到 $$\\lambda_1=2,\\lambda_2=-1+\\sqrt 3 i,\\lambda_3=-1-\\sqrt 3 i.$$\n",
    "\n",
    "从而有齐次方程的通解为 $$x=C_1e^{2t}+C_2e^{-t}\\cos {\\sqrt3 t}+C_3e^{-t}\\sin {\\sqrt3 t}$$\n",
    "\n",
    "令原方程的一个特解为 $x_1=Ate^{2t}$, 代入原方程得到 $$A=\\frac{1}{12}$$\n",
    "\n",
    "从而得到特解为 $x_1=\\frac{1}{12}te^{2t}$,从而得到原方程的通解为 $$x(t)=C_1e^{2t}+C_2e^{-t}\\cos {\\sqrt3 t}+C_3e^{-t}\\sin {\\sqrt3 t}+\\frac{1}{12}te^{2t}$$"
   ]
  },
  {
   "cell_type": "markdown",
   "metadata": {},
   "source": [
    "**11. 已知方程组 \n",
    "$$\n",
    "\\begin{cases}\n",
    "\\frac{dx_1}{dt}=x_1\\cos^2 t-x_2(1-\\sin t\\cos t),\\\\\n",
    "\\frac{dx_2}{dt}=x_1(1+\\sin t\\cos t)+x_2\\sin^2 t,\\\\\n",
    "\\end{cases}\n",
    "$$  \n",
    "有解 $x_1=-\\sin t,x_2=\\cos t$ ,求其通解**"
   ]
  },
  {
   "cell_type": "markdown",
   "metadata": {},
   "source": [
    "**解**\n",
    "\n",
    "设 $x_1=\\varphi_1(t),x_2=\\varphi_2(t)$ 是方程的满足初值 $\\varphi_1(0)=1,\\varphi_2(0)=0$ 的一组解.\n",
    "\n",
    "从而有 \n",
    "$$\n",
    "\\left|\n",
    "\\begin{matrix}\n",
    "\\varphi_1(t)&-\\sin t\\\\\n",
    "\\varphi_2(t)&\\cos t\\\\\n",
    "\\end{matrix}\n",
    "\\right|\n",
    "=\n",
    "\\left|\n",
    "\\begin{matrix}\n",
    "1&0\\\\\n",
    "0&1\\\\\n",
    "\\end{matrix}\n",
    "\\right|\n",
    "\\dot \\quad e^{\\int_0^t (\\cos^2 t+\\sin^2 t)dt}=e^t\n",
    "$$"
   ]
  },
  {
   "cell_type": "markdown",
   "metadata": {},
   "source": [
    "解得 $$\\varphi_2(t)=\\frac{e^t-\\varphi_1(t)\\cos t}{\\sin t},$$\n",
    "\n",
    "从而有 $$\\varphi_1'(t)=\\varphi_1(t)\\cot t+e^t(\\cos t-\\csc t).$$\n",
    "\n",
    "得到  $$\\varphi_1(t)=e^{+\\int_0^t \\cot s ds}[\\int_0^t e^s(\\cos s-\\csc s)\\dot \\quad e^{-\\int_0^s \\cot \\tau d\\tau}ds+1],$$\n",
    "\n",
    "化简得到 $$\\varphi_1(t)=e^t\\cos t,\\varphi_2(t)=e^t\\sin t$$\n",
    "\n",
    "得到原方程的通解为"
   ]
  },
  {
   "cell_type": "markdown",
   "metadata": {},
   "source": [
    "$$\n",
    "\\left[\n",
    "\\begin{matrix}\n",
    "x_1\\\\\n",
    "x_2\\\\\n",
    "\\end{matrix}\n",
    "\\right]\n",
    "=C_1\n",
    "\\left[\n",
    "\\begin{matrix}\n",
    "-\\sin t\\\\\n",
    "\\cos t\\\\\n",
    "\\end{matrix}\n",
    "\\right]\n",
    "+C_2\n",
    "\\left[\n",
    "\\begin{matrix}\n",
    "e^t\\cos t\\\\\n",
    "e^t\\sin t\\\\\n",
    "\\end{matrix}\n",
    "\\right].\n",
    "$$"
   ]
  },
  {
   "cell_type": "markdown",
   "metadata": {},
   "source": [
    "## 5.3"
   ]
  },
  {
   "cell_type": "markdown",
   "metadata": {},
   "source": [
    "**1.假设 $\\mathbf A$ 是 $n\\times n$ 矩阵，试证**\n",
    "\n",
    "**(2).对任意整数 $k$ ,都有\n",
    "$$(exp \\mathbf A)^k=exp k\\mathbf A.$$ \n",
    "(当 $k$ 是负整数时，规定 $(exp \\mathbf A)^k=[(exp \\mathbf A)^{-1}]^{-k}.$)**"
   ]
  },
  {
   "cell_type": "markdown",
   "metadata": {},
   "source": [
    "**解**\n",
    "\n",
    "由于对任意常数 $c_1,c_2$ ,都有 $$exp(c_1 \\mathbf A+c_2 \\mathbf A)=expc_1 \\mathbf A\\dot expc_2 \\mathbf A$$\n",
    "\n",
    "设 $c_1=1,c_2=1$,得到 \n",
    "$$exp(2\\mathbf A)=exp(\\mathbf A+\\mathbf A)=exp\\mathbf A \\dot \\quad exp \\mathbf A=(exp \\mathbf A)^2,$$\n",
    "$$exp(3\\mathbf A)=exp(\\mathbf A+\\mathbf 2A)=exp\\mathbf A \\dot \\quad exp \\mathbf 2A=(exp \\mathbf A)^3,$$\n",
    "$$\\dots$$\n",
    "$$exp(k\\mathbf A)=exp(\\mathbf A+(k-1)\\mathbf A)=(exp \\mathbf A)^k.$$"
   ]
  },
  {
   "cell_type": "markdown",
   "metadata": {},
   "source": [
    "当 $k=0$ 时\n",
    "\n",
    "右边 $=(exp \\mathbf A)^k=(exp \\mathbf A)^0=\\mathbf E$\n",
    "\n",
    "左边 $=exp k\\mathbf A=exp 0=\\mathbf E$\n",
    "\n",
    "等式成立；\n",
    "\n",
    "当 $k=1$ 时\n",
    "\n",
    "显然左边 $=exp \\mathbf A=$ 右边，等式成立。\n",
    "\n",
    "由归纳法，得到等式对所有非负整数成立。\n",
    "\n",
    "当 $k$ 是负整数时\n",
    "\n",
    "$$(exp \\mathbf A)^k=[(exp \\mathbf A)^{-1}]^{-k}=[exp (\\mathbf -A)]^{-k}=exp (-k)(\\mathbf -A)=exp k\\mathbf A$$\n",
    "\n",
    "等式也成立\n",
    "\n",
    "综上可知，对任意整数 $k$ ,都有$$(exp \\mathbf A)^k=exp k\\mathbf A.$$"
   ]
  },
  {
   "cell_type": "markdown",
   "metadata": {},
   "source": [
    "**5.试求方程组 $x'=\\mathbf Ax$ 的基解矩阵，并求满足初值条件 $\\varphi(0)=\\eta$ 的解 $\\varphi(t)$**\n",
    "\n",
    "**\n",
    "$$(2).\\quad\\quad\\quad\n",
    "\\mathbf A=\n",
    "\\left[\n",
    "\\begin{matrix}\n",
    "1&0&3\\\\\n",
    "8&1&-1\\\\\n",
    "5&1&-1\\\\\n",
    "\\end{matrix}\n",
    "\\right],\n",
    "\\quad\n",
    "\\quad\n",
    "\\quad\n",
    "\\mathbf\\eta=\n",
    "\\left[\n",
    "\\begin{matrix}\n",
    "0\\\\\n",
    "-2\\\\\n",
    "-7\\\\\n",
    "\\end{matrix}\n",
    "\\right]；\n",
    "$$**"
   ]
  },
  {
   "cell_type": "markdown",
   "metadata": {},
   "source": [
    "**解**\n",
    "\n",
    "方程的一个基解矩阵为\n",
    "$$\n",
    "\\Phi(t)=\n",
    "\\left[\n",
    "\\begin{matrix}\n",
    "3e^{-3t} &3e^{(2+\\sqrt7)t} &3e^{(2-\\sqrt7)t}\\\\\n",
    "-7e^{-3t} &(4\\sqrt7-5)e^{(2+\\sqrt7)t} &-(4\\sqrt7+5)e^{(2-\\sqrt7)t}\\\\\n",
    "-4e^{-3t} &(\\sqrt7+1)e^{(2+\\sqrt7)t} &(1-\\sqrt7)e^{(2-\\sqrt7)t}\\\\\n",
    "\\end{matrix}\n",
    "\\right],\n",
    "$$"
   ]
  },
  {
   "cell_type": "markdown",
   "metadata": {},
   "source": [
    "而满足初值条件 $\\varphi(0)=\\mathbf \\eta=[0\\quad-2\\quad-7]^T$ 的解为 $$\\varphi(t)=\\Phi(t)\\Phi^{-1}(0)\\eta=exp \\mathbf At\\dot \\quad \\mathbf \\eta$$"
   ]
  },
  {
   "cell_type": "markdown",
   "metadata": {},
   "source": [
    "计算得\n",
    "$$\n",
    "\\varphi(t)=\\frac{1}{4\\sqrt7}\\times\n",
    "\\left[\n",
    "\\begin{matrix}\n",
    "\\frac{52\\sqrt7}{3}e^{-3t}+\\frac{4-26\\sqrt7}{3}e^{(2+\\sqrt7)t}+\\frac{-4-2\\sqrt7}{3}e^{(2-\\sqrt7)t}\\\\\n",
    "\\frac{-364\\sqrt7}{9}e^{-3t}+\\frac{-748+146\\sqrt7}{9}e^{(2+\\sqrt7)t}+\\frac{748+146\\sqrt7}{9}e^{(2-\\sqrt7)t}\\\\\n",
    "\\frac{-208\\sqrt7}{9}e^{-3t}+\\frac{-178-22\\sqrt7}{9}e^{(2+\\sqrt7)t}+\\frac{178-22\\sqrt7}{9}e^{(2-\\sqrt7)t}\\\\\n",
    "\\end{matrix}\n",
    "\\right].\n",
    "$$"
   ]
  },
  {
   "cell_type": "markdown",
   "metadata": {},
   "source": [
    "$B^+$"
   ]
  },
  {
   "cell_type": "code",
   "execution_count": null,
   "metadata": {
    "collapsed": true
   },
   "outputs": [],
   "source": []
  }
 ],
 "metadata": {
  "kernelspec": {
   "display_name": "SageMath 7.3",
   "language": "",
   "name": "sagemath"
  },
  "language_info": {
   "codemirror_mode": {
    "name": "ipython",
    "version": 2
   },
   "file_extension": ".py",
   "mimetype": "text/x-python",
   "name": "python",
   "nbconvert_exporter": "python",
   "pygments_lexer": "ipython2",
   "version": "2.7.10"
  }
 },
 "nbformat": 4,
 "nbformat_minor": 0
}
