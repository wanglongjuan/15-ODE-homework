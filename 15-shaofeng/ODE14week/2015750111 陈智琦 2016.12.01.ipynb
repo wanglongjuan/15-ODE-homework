{
 "cells": [
  {
   "cell_type": "markdown",
   "metadata": {},
   "source": [
    "# 姓名：陈智琦\n",
    "# 学号：2015750111"
   ]
  },
  {
   "cell_type": "markdown",
   "metadata": {},
   "source": [
    "## 习题5.2"
   ]
  },
  {
   "cell_type": "markdown",
   "metadata": {},
   "source": [
    "## 八、考虑方程组$x'=Ax+f(t)$,其中\n",
    "## $$\n",
    "A=\n",
    " \\begin{bmatrix}\n",
    "2 & 1 \\\\\n",
    "0 & 2 \\\\\n",
    "\\end{bmatrix}\n",
    ",\n",
    "f(t)=\n",
    " \\begin{bmatrix}\n",
    "\\sin t \\\\\n",
    "\\cos t \\\\\n",
    "\\end{bmatrix}'\n",
    "$$"
   ]
  },
  {
   "cell_type": "markdown",
   "metadata": {},
   "source": [
    "## （1）试验证\n",
    "##  $$\n",
    "\\Phi (t)=\n",
    "\\begin{bmatrix}\n",
    "e^{2t} & te^{2t} \\\\\n",
    "0 & e^{2t} \\\\\n",
    "\\end{bmatrix}\n",
    "$$\n",
    "## 是$x'=Ax$的基解矩阵。"
   ]
  },
  {
   "cell_type": "markdown",
   "metadata": {},
   "source": [
    "## （2）试验证$x'=Ax+f(t)$满足初值条件$\\varphi (0)= \\begin{bmatrix} 0 \\\\ 1 \\\\\\end{bmatrix}$的解$\\varphi (t)$"
   ]
  },
  {
   "cell_type": "markdown",
   "metadata": {},
   "source": [
    "**解**\n",
    "（1）将$ \\begin{bmatrix} e^{2t} \\\\ 0 \\\\\\end{bmatrix}$代入方程组的相应其次线性方程组得\n",
    "$$\n",
    " \\begin{bmatrix}\n",
    "e^{2t} \\\\\n",
    "0 \\\\\n",
    "\\end{bmatrix}'\n",
    "=\n",
    "\\begin{bmatrix}\n",
    "2e^{2t} \\\\\n",
    "0 \\\\\n",
    "\\end{bmatrix}\n",
    "=\n",
    " \\begin{bmatrix}\n",
    "2 & 1 \\\\\n",
    "0 & 2 \\\\\n",
    "\\end{bmatrix}\n",
    "\\begin{bmatrix}\n",
    "e^{2t} \\\\\n",
    "0 \\\\\n",
    "\\end{bmatrix}\n",
    "$$\n",
    "这表明$\\begin{bmatrix} e^{2t} \\\\ 0 \\\\ \\end{bmatrix}$是一个解\n",
    "\n",
    "同理可证$\\begin{bmatrix} te^{2t} \\\\ e^{2t} \\\\ \\end{bmatrix}$也是一个解\n",
    "\n",
    "由于\n",
    "$$\n",
    "\\begin{vmatrix}\n",
    "e^{2t} & te^{2t} \\\\\n",
    "0 & e^{2t} \\\\\n",
    "\\end{vmatrix}\n",
    "\\neq 0\n",
    "$$\n",
    "所以\n",
    "$\n",
    "\\begin{bmatrix}\n",
    "e^{2t} & te^{2t} \\\\\n",
    "0 & e^{2t} \\\\\n",
    "\\end{bmatrix}\n",
    "$\n",
    "是其次方程组$x'=Ax$的基解矩阵"
   ]
  },
  {
   "cell_type": "markdown",
   "metadata": {},
   "source": [
    "（2）应用常数变易法可知，设方程的特解为\n",
    "$$\n",
    "\\begin{bmatrix}\n",
    "x_1 \\\\\n",
    "x_2 \\\\\n",
    "\\end{bmatrix}\n",
    "=\n",
    "C_1(t)\n",
    "\\begin{bmatrix}\n",
    "e^{2t} \\\\\n",
    "0  \\\\\n",
    "\\end{bmatrix}\n",
    "+\n",
    "C_2(t)\n",
    "\\begin{bmatrix}\n",
    " te^{2t} \\\\\n",
    " e^{2t} \\\\\n",
    "\\end{bmatrix},\n",
    "$$\n",
    "即\n",
    "$$\n",
    "x_1=C_1(t)e^{2t}+C_2(t)te^{2t}\\\\\n",
    "x_2=C_2(t)e^{2t}\n",
    "$$\n",
    "代入原方程组得"
   ]
  },
  {
   "cell_type": "markdown",
   "metadata": {},
   "source": [
    "$$\n",
    "\\begin{bmatrix}\n",
    "x_1 \\\\\n",
    "x_2 \\\\\n",
    "\\end{bmatrix}'\n",
    "=\n",
    "\\begin{bmatrix}\n",
    "x'_1 \\\\\n",
    "x'_2 \\\\\n",
    "\\end{bmatrix}\n",
    "=\n",
    " \\begin{bmatrix}\n",
    "2 & 1 \\\\\n",
    "0 & 2 \\\\\n",
    "\\end{bmatrix}\n",
    "\\begin{bmatrix}\n",
    "x_1 \\\\\n",
    "x_2 \\\\\n",
    "\\end{bmatrix}\n",
    "+\n",
    " \\begin{bmatrix}\n",
    "\\sin t \\\\\n",
    "\\cos t \\\\\n",
    "\\end{bmatrix}\n",
    "$$\n",
    "$$\n",
    "\\begin{aligned}\n",
    "x'_1&=2x_1+x_2+sint\\\\\n",
    "&=2C_1(t)e^{2t}+C_2(t)te^{2t}+C_2(t)e^{2t}+\\sin t\\\\\n",
    "&=C'_1(t)e^{2t}+2C_1(t)e^{2t}+C_2(t)e^{2t}+C'_2(t)te^{2t}+2C_2(t)te^{2t}\\\\\n",
    "x'_2&=2x_2+cost\\\\\n",
    "&=2C_2(t)e^{2t}+\\cos t\\\\\n",
    "&=C'_2(t)e^{2t}+2C_2(t)e^{2t}\\\\\n",
    "\\end{aligned}\n",
    "$$"
   ]
  },
  {
   "cell_type": "markdown",
   "metadata": {},
   "source": [
    "解得\n",
    "$$\n",
    "\\begin{bmatrix}\n",
    "{dC_1(t) \\over dt}  \\\\\n",
    "{dC_2(t) \\over dt} \\\\\n",
    "\\end{bmatrix}\n",
    "=\n",
    "\\begin{bmatrix}\n",
    "e^{-2t}sint-te^{-2t}cost  \\\\\n",
    "e^{-2t}cost \\\\\n",
    "\\end{bmatrix}\n",
    "$$\n",
    "因此\n",
    "$$\n",
    "\\begin{bmatrix}\n",
    "C_1(t)  \\\\\n",
    "C_2(t)  \\\\\n",
    "\\end{bmatrix}\n",
    "=\n",
    "\\begin{bmatrix}\n",
    "-{2 \\over 25}e^{-2t}cost-{14 \\over 15}e^{-2t}sint+{2 \\over 5}e^{-2t}cost-{1 \\over 5}e^{-2t}sint  \\\\\n",
    "-{2 \\over 5}e^{-2t}cost+{1 \\over 5}e^{-2t}sint  \\\\\n",
    "\\end{bmatrix}\n",
    "$$"
   ]
  },
  {
   "cell_type": "markdown",
   "metadata": {
    "collapsed": true
   },
   "source": [
    "因此原方程的通解为\n",
    "$$\n",
    "\\begin{bmatrix}\n",
    "x_1 \\\\\n",
    "x_2 \\\\\n",
    "\\end{bmatrix}\n",
    "=\n",
    "C_1(t)\n",
    "\\begin{bmatrix}\n",
    "e^{2t} \\\\\n",
    "0  \\\\\n",
    "\\end{bmatrix}\n",
    "+\n",
    "C_2(t)\n",
    "\\begin{bmatrix}\n",
    " te^{2t} \\\\\n",
    " e^{2t} \\\\\n",
    "\\end{bmatrix}\n",
    "+\n",
    "\\begin{bmatrix}\n",
    "-{2 \\over 25}e^{-2t}cost-{14 \\over 15}e^{-2t}\\sin t+{2 \\over 5}e^{-2t}cost-{1 \\over 5}e^{-2t}\\sin t  \\\\\n",
    "\\end{bmatrix}\n",
    "\\begin{bmatrix}\n",
    "e^{2t} \\\\\n",
    "0  \\\\\n",
    "\\end{bmatrix}\n",
    "+\n",
    "\\begin{bmatrix}\n",
    "-{2 \\over 5}e^{-2t}\\cos t+{1 \\over 5}e^{-2t}\\sin t  \\\\\n",
    "\\end{bmatrix}\n",
    "\\begin{bmatrix}\n",
    " te^{2t} \\\\\n",
    " e^{2t} \\\\\n",
    "\\end{bmatrix} \n",
    "$$"
   ]
  },
  {
   "cell_type": "markdown",
   "metadata": {},
   "source": [
    "## 十、试求下列方程的通解\n",
    "## （2） $x'''-8x=e^{2t}$"
   ]
  },
  {
   "cell_type": "markdown",
   "metadata": {
    "collapsed": true
   },
   "source": [
    "**解**\n",
    "原方程对应的其次方程的特征方程为\n",
    "$$\n",
    "\\lambda ^3-8=0\n",
    "$$\n",
    "解得\n",
    "$$\n",
    "\\lambda_1=2 , \\lambda_2=-1+\\sqrt3i ,  \\lambda_3=-1-\\sqrt3i \n",
    "$$\n",
    "因此其次线性方程组的通解为\n",
    "$$\n",
    "x=C_1e^{2t}+C_2e^{-t}cos \\sqrt 3t+C_3e^{-t}sin \\sqrt 3t\n",
    "$$\n",
    "假设原方程的一个特解为$\\widetilde{x}=Ate^{2t}$带入原方程得\n",
    "$$\n",
    "Ae^{2t}(8t+12)-8Ate^{2t}=e^{2t}\n",
    "$$\n",
    "解得\n",
    "$$\n",
    "A={1 \\over 12}\n",
    "$$\n",
    "于是原方程的通解为\n",
    "$$\n",
    "x(t)=C_1e^{2t}+C_2e^{-t}cos \\sqrt 3t+C_3e^{-t}sin \\sqrt 3t+{1 \\over 12}te^{2t}\n",
    "$$"
   ]
  },
  {
   "cell_type": "markdown",
   "metadata": {},
   "source": [
    "## 十一、已知方程组\n",
    "## $$\n",
    "\\begin{cases}\n",
    "{dx_1 \\over dt}=x_1 \\cos^2t-x_2(1- \\sin t \\cos t) ,\\\\\n",
    "{dx_2 \\over dt}=x_1(1+ \\sin t \\cos t)+x_2 \\sin^2t ,\n",
    "\\end{cases}\n",
    "$$\n",
    "## 有解$x_1=-\\sin t ,x_2=\\cos t$求其通解"
   ]
  },
  {
   "cell_type": "markdown",
   "metadata": {},
   "source": [
    "**解**\n",
    "设$x_1=\\varphi_1(t)$和$x_2=\\varphi_2(t)$是方程满足初值$\\varphi_1(0)=1 , \\varphi_2(0)=0$的一组解，由\n",
    "$$\n",
    "W(t)=W(t_0)e^{\\int_{t_0}^t [a_{11}(s)+a_{22}(s)+\\dots +a_{nn}(s)]{d}s}  ,  t_0(t),t \\in [a,b]\n",
    "$$\n",
    "可知，\n",
    "$$\n",
    "\\begin{vmatrix}\n",
    "\\varphi_1(t) & -sint\\\\\n",
    "\\varphi_2(t) & cost\\\\\n",
    "\\end{vmatrix}\n",
    "=\n",
    "\\begin{vmatrix}\n",
    "1 & 0\\\\\n",
    "0 & 1\\\\\n",
    "\\end{vmatrix}\n",
    "e^{\\int_{0}^t (sin^2t+cos^2t) {d}t}\n",
    "=e^t\n",
    "$$\n",
    "\n",
    "$$\n",
    "\\varphi_1(t)cost+\\varphi_2(t)sint=e^t \\\\\n",
    "\\varphi_1(t)={e^t-\\varphi_2(t)sint \\over cost}\n",
    "$$"
   ]
  },
  {
   "cell_type": "markdown",
   "metadata": {},
   "source": [
    "带入其次方程可得\n",
    "$$\n",
    "\\begin{aligned}\n",
    "\\varphi'_2(t)&={e^t-\\varphi_2(t)\\sin t \\over \\cos t}(1+\\sin t\\cos t)+\\varphi_2(t)\\sin^2 t\\\\\n",
    "\\varphi'_2(t)&={e^t-\\varphi_2(t)\\sin t \\over \\cos t}+e^t\\sin t\n",
    "\\end{aligned}\n",
    "$$"
   ]
  },
  {
   "cell_type": "markdown",
   "metadata": {},
   "source": [
    "即\n",
    "$$\n",
    "{d \\varphi_2(t) \\over dt}=-\\tan t \\varphi_2(t)+{e^t \\over \\cos t}+e^t \\sin t\n",
    "$$\n",
    "此方程对应的其次线性微分方程为\n",
    "$$\n",
    "{d \\varphi_2(t) \\over dt}=-\\tan t \\varphi_2(t)\n",
    "$$\n",
    "解得\n",
    "$$\n",
    "\\varphi_2(t)=c\\cos t\n",
    "$$\n",
    "应用常数易变法求非其次线性微分方程的通解，即\n",
    "$$\n",
    "\\varphi_2(t)=c(t)cost\n",
    "$$\n",
    "将其带入原方程可得\n",
    "$$\n",
    "c'(t)=e^t({1 \\over \\cos^2 t}+tant)\n",
    "$$\n",
    "积分可得\n",
    "$$\n",
    "c(t)=e^t \\tan t\n",
    "$$"
   ]
  },
  {
   "cell_type": "markdown",
   "metadata": {},
   "source": [
    "\n",
    "解得\n",
    "$$\n",
    "\\varphi_2(t)=e^t \\tan t \\cos t=e^t \\sin t\n",
    "$$\n",
    "即\n",
    "$$\n",
    "\\varphi_1(t)=e^tcost\n",
    "$$\n",
    "因此，原方程的通解为\n",
    "$$\n",
    "\\begin{bmatrix}\n",
    "x_1 \\\\\n",
    "x_2 \\\\\n",
    "\\end{bmatrix}\n",
    "=\n",
    "C_1\n",
    "\\begin{bmatrix}\n",
    "-sint \\\\\n",
    "cost \\\\\n",
    "\\end{bmatrix}\n",
    "+\n",
    "C_2\n",
    "\\begin{bmatrix}\n",
    "e^tcost \\\\\n",
    "e^tsint \\\\\n",
    "\\end{bmatrix}\n",
    "$$"
   ]
  },
  {
   "cell_type": "markdown",
   "metadata": {},
   "source": [
    "## 习题 5.3"
   ]
  },
  {
   "cell_type": "markdown",
   "metadata": {},
   "source": [
    "## 一、假设$A$是$n*n$矩阵，试证：\n",
    "## （2）对任意整数$k$都有\n",
    "## $$\n",
    "(expA)^k=expkA.\n",
    "$$\n",
    "## （当$k$是负整数时，规定$(expA)^k=[(expA)^{-1}]^{-k}$）"
   ]
  },
  {
   "cell_type": "markdown",
   "metadata": {},
   "source": [
    "**解**\n",
    "应用数学归纳法\n",
    "\n",
    "由性质一可知，当两矩阵$A$和$B$可交换时，即$AB=BA$时成立\n",
    "$$\n",
    "exp(A+B)=expA*expB\n",
    "$$\n",
    "显然当$B=cA$时成立，即\n",
    "$$\n",
    "exp(2A)=exp(A+A)=expA*expA=(expA)^2\\\\\n",
    "exp(3A)=exp(A+2A)=expA*exp2A=(expA)^3\\\\\n",
    "\\dots \\\\\n",
    "exp(kA)=exp(A+(k-1)A)=expA*exp(k-1)A=(expA)^k\n",
    "$$\n",
    "当$k=0$时，\n",
    "\n",
    "左边$=(expA)^0=E$\n",
    "\n",
    "右边$=exp(0*A)=exp0=E$\n",
    "\n",
    "因此当$A=0$时，方程成立，综上所述可知当$k$为非负整数时，等式均成立\n"
   ]
  },
  {
   "cell_type": "markdown",
   "metadata": {},
   "source": [
    "当$k$为负数时，\n",
    "$$\n",
    "(expA)^k=[(expA)^{-1}]^{-k}=(exp(-A))^{-k}=exp(kA)\n",
    "$$\n",
    "即，$k\\leq 0$时，等式也成立"
   ]
  },
  {
   "cell_type": "markdown",
   "metadata": {},
   "source": [
    "## 五、试求方程组$x'=Ax$的基解矩阵，并求满足初值条件$\\varphi(0)=\\eta$的解$\\varphi(t)$\n",
    "## （2）\n",
    "## $$\n",
    "A=\n",
    "\\begin{bmatrix}\n",
    "1 & 0 & 3 \\\\\n",
    "8 & 1 & -1 \\\\\n",
    "5 & 1 & -1\\\\\n",
    "\\end{bmatrix},\n",
    "\\eta=\n",
    "\\begin{bmatrix}\n",
    "0 \\\\\n",
    "-2 \\\\\n",
    "-7 \\\\\n",
    "\\end{bmatrix}\n",
    "$$"
   ]
  },
  {
   "cell_type": "markdown",
   "metadata": {},
   "source": [
    "## **解**\n",
    "$$\n",
    "|\\lambda I-A|=\n",
    "\\begin{vmatrix}\n",
    " \\lambda-1 & 0 & -3\\\\\n",
    "-8 & \\lambda-1 &　1\\\\\n",
    "-5 & -1 & \\lambda+1\\\\\n",
    "\\end{vmatrix}\\\\\n",
    "=\n",
    "\\lambda^3-\\lambda^2-15\\lambda-9\\\\\n",
    "=(\\lambda+3)(\\lambda^2-4\\lambda-5)\n",
    "$$\n",
    "得到特征值\n",
    "$$\n",
    "\\lambda_1=-3 , \\lambda_2=2+\\sqrt7 , \\lambda_3=2-\\sqrt7\n",
    "$$"
   ]
  },
  {
   "cell_type": "markdown",
   "metadata": {},
   "source": [
    "求得3个特征值对应的特征向量分别为\n",
    "$$\n",
    "x_1=\\alpha\n",
    "\\begin{bmatrix}\n",
    "3 &  -7 & -4 \\\\\n",
    "\\end{bmatrix}^T\n",
    "$$\n",
    "$$\n",
    "x_2=\\beta\n",
    "\\begin{bmatrix}\n",
    "3 &  4 \\sqrt7-5 & \\sqrt7+1\\\\\n",
    "\\end{bmatrix}^T\n",
    "$$\n",
    "$$\n",
    "x_3=\\gamma\n",
    "\\begin{bmatrix}\n",
    "3 &  -4\\sqrt7-5 & 1-\\sqrt7\\\\\n",
    "\\end{bmatrix}^T\n",
    "$$"
   ]
  },
  {
   "cell_type": "markdown",
   "metadata": {},
   "source": [
    "取$\\alpha=\\beta=\\gamma=1$时，得到方程$x'=Ax$的一个基解矩阵\n",
    "$$\n",
    "\\begin{bmatrix}\n",
    "3e^{-3t} & 3e^{(2+\\sqrt7)t} & 3e^{(2-\\sqrt7)t}\\\\\n",
    "-7e^{-3t} & (4 \\sqrt7-5)e^{(2+\\sqrt7)t} & ( -4\\sqrt7-5)e^{(2-\\sqrt7)t}\\\\\n",
    "-4e^{-3t} & (\\sqrt7+1)e^{(2+\\sqrt7)t} & (1-\\sqrt7)e^{(2-\\sqrt7)t}\\\\\n",
    "\\end{bmatrix}\n",
    "$$"
   ]
  },
  {
   "cell_type": "markdown",
   "metadata": {},
   "source": [
    "$$\n",
    "expAt=\\Phi(t)\\Phi^{-1}(0)\n",
    "={1 \\over 108\\sqrt7}\n",
    "\\begin{bmatrix}\n",
    "3e^{-3t} & 3e^{(2+\\sqrt7)t} & 3e^{(2-\\sqrt7)t}\\\\\n",
    "-7e^{-3t} & (4 \\sqrt7-5)e^{(2+\\sqrt7)t} & ( -4\\sqrt7-5)e^{(2-\\sqrt7)t}\\\\\n",
    "-4e^{-3t} & (\\sqrt7+1)e^{(2+\\sqrt7)t} & (1-\\sqrt7)e^{(2-\\sqrt7)t}\\\\\n",
    "\\end{bmatrix}\n",
    "\\begin{bmatrix}\n",
    "18\\sqrt7 & 6\\sqrt7 & -24\\sqrt7\\\\\n",
    "27+9\\sqrt7 & 15-3\\sqrt7 & 12\\sqrt7-6\\\\\n",
    "9\\sqrt7-27 & -15+3\\sqrt7 & 12\\sqrt7+6\\\\\n",
    "\\end{bmatrix}\n",
    "$$"
   ]
  },
  {
   "cell_type": "markdown",
   "metadata": {},
   "source": [
    "满足初值条件$\\varphi(0)=\\eta\n",
    "\\begin{bmatrix}\n",
    "0 \\\\\n",
    "-2 \\\\\n",
    "-7 \\\\\n",
    "\\end{bmatrix}$的解为\n",
    "$$\n",
    "\\varphi(t)=\\Phi(t)\\Phi^{-1}(0)\\eta=expAt*\\eta\n",
    "$$"
   ]
  },
  {
   "cell_type": "markdown",
   "metadata": {
    "collapsed": true
   },
   "source": [
    "$B^+$"
   ]
  },
  {
   "cell_type": "code",
   "execution_count": null,
   "metadata": {
    "collapsed": true
   },
   "outputs": [],
   "source": []
  }
 ],
 "metadata": {
  "kernelspec": {
   "display_name": "SageMath 7.3",
   "language": "",
   "name": "sagemath"
  },
  "language_info": {
   "codemirror_mode": {
    "name": "ipython",
    "version": 2
   },
   "file_extension": ".py",
   "mimetype": "text/x-python",
   "name": "python",
   "nbconvert_exporter": "python",
   "pygments_lexer": "ipython2",
   "version": "2.7.10"
  }
 },
 "nbformat": 4,
 "nbformat_minor": 0
}
