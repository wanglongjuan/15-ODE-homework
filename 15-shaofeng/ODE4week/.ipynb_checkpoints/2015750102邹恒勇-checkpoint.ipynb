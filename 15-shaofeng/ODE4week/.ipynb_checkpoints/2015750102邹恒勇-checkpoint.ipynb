{
 "cells": [
  {
   "cell_type": "markdown",
   "metadata": {
    "collapsed": true
   },
   "source": [
    "设$f(x,y)$及$\\frac{\\partial f}{\\partial x}$连续，试证方程$dy-f(x,y)dx=0$当$xM+yN\\neq0$时有积分因子$\\mu=\\frac{1}{xM+yN}$."
   ]
  },
  {
   "cell_type": "markdown",
   "metadata": {},
   "source": [
    "# **解**\n",
    "\n",
    "必要性：若方程为线性微分方程，则有$\\frac {dy}{dx}=P(x)y+Q(x)$\n",
    "\n",
    "所以积分因子为$\\mu=e^{-\\int P(x)dx}$表达式中$\\mu$只和x有关。\n",
    "\n",
    "充分性：若存在只依赖于x的积分因子，有$\\mu(x)dy-\\mu(x)f(x,y)dx=0$\n",
    "$$\\frac{\\mu(x)}{dx}=\\frac{\\mu(x)f(x,y)}{dy}$$\n",
    "$$\\frac{df}{dy}=\\frac{\\mu`(x)}{\\mu(x)}$$\n",
    "$$f(x,y)=\\int\\frac{\\mu`(x)}{\\mu(x)}*dy+Q(x)$$\n",
    "$$f(x,y)=P(x)y+Q(x)$$\n",
    "\n",
    "**过程不全**\n"
   ]
  },
  {
   "cell_type": "markdown",
   "metadata": {},
   "source": [
    "求出伯努利微分方程的积分因子"
   ]
  },
  {
   "cell_type": "markdown",
   "metadata": {},
   "source": [
    "# **解**\n",
    "伯努利方程为$\\frac{dy}{dx}=P(x)y+Q(x)y^n$\n",
    "\n",
    "用$y^{-n}$乘到方程两边，并用$z=y^{1-n}$代替\n",
    "\n",
    "得$$\\frac{dz}{dx}=(1-n)P(x)z+(1-n)Q(x)$$\n",
    "则积分因子$\\mu=e^{-\\int(1-n)P(x)}$\n"
   ]
  },
  {
   "cell_type": "markdown",
   "metadata": {},
   "source": [
    "设$\\mu(x,y)$是方程$M(x,y)dx+N(x,y)dy=0$的积分因子，从而求得可微函数$U(x,y)$,使得$dU=\\mu(Mdx+Ndy)$。试证$\\hat{\\mu}(x,y)$也是方程$M(x,y)dx+N(x,y)=0$的积分因子的充要条件是$\\hat{\\mu}(x,y)=\\mu*\\varphi(U)$,其中$\\varphi(t)$是t的可微函数。"
   ]
  },
  {
   "cell_type": "markdown",
   "metadata": {},
   "source": [
    "# 解\n",
    "$\\hat{\\\\mu}=\\mu*\\varphi(U)$\n",
    "$$<=>  \\frac{\\partial(\\hat{\\mu}M)}{\\partial y}=\\frac{\\partial{\\mu\\varphi(u)M}}{\\partial y}=\\frac {\\partial(\\mu M)}{\\partial y}*\\varphi(u)+\\mu M\\varphi '(u)*\\frac{\\partial\\mu}{\\partial y}\\\\\n",
    "=\\frac{\\partial (\\mu M)}{\\partial y}*\\varphi (u)+\\mu M\\varphi '(u)*\\mu N$$\n",
    "\n",
    "又有$$\\frac{\\partial(\\hat{\\mu}N}{\\partial x}==\\frac{\\partial (\\mu M)}{\\partial y}*\\varphi (u)+\\mu M\\varphi '(u)*\\mu N= \\frac{\\partial(\\hat{\\mu}M)}{\\partial y}$$\n",
    "\n",
    "\n",
    "所以 $\\hat{\\mu}(x,y)$也是方程的积分因子"
   ]
  },
  {
   "cell_type": "markdown",
   "metadata": {
    "collapsed": true
   },
   "source": [
    "求解方程$xy`^3=1+y`$"
   ]
  },
  {
   "cell_type": "markdown",
   "metadata": {
    "collapsed": true
   },
   "source": [
    "# 解\n",
    "$\\frac{dy}{dx}=p=\\frac{1}{t}$\n",
    "\n",
    "原式化为$$xp^3=1+p$$\n",
    "$$=> x=(1+\\frac{1}{t})*t^3=t^3+t^2$$\n",
    "$$y=\\int px+c=\\int \\frac{1}{t}d(t^3+t^2)+c\\\\\n",
    "=\\int 3t+2dt+c=\\frac{3}{2}t^2+2t+c$$\n"
   ]
  },
  {
   "cell_type": "markdown",
   "metadata": {},
   "source": [
    "求解方程：$y'^3-x^3(1-y')=0$"
   ]
  },
  {
   "cell_type": "markdown",
   "metadata": {},
   "source": [
    "# 解\n",
    "$\\frac{dy}{dx}=p=tx$\n",
    "$$=>p^3-x^3(1-p)=0\\\\\n",
    "(tx)^3-x^3(1-tx)=0$$\n",
    "即$x=t62-\\frac{1}{t}$\n",
    "$$y=\\int pdx+c=\\int t(t^2-\\frac{1}{t})d(t^2-\\frac{1}{t})+c\\\\\n",
    "=\\int(t^3-1)(2t+\\frac{1}{t^2}dt+c\\\\\n",
    "=\\int(2t^4-t-\\frac{1}{t^2})dt+c\\\\\n",
    "=\\frac{2}{5}t^5-\\frac{1}{2}t^2+\\frac{1}{t}+c$$"
   ]
  },
  {
   "cell_type": "markdown",
   "metadata": {},
   "source": [
    "求解方程：$y=y'^2*e^{y'}$"
   ]
  },
  {
   "cell_type": "markdown",
   "metadata": {},
   "source": [
    "# 解\n",
    "令$\\frac{dy}{dx}=p$,则有$y=\\int pdx$\n",
    "$$y=p^2*e^p$$\n",
    "导出 $$x=\\int \\frac{1}{p}d(p^2e^p)+c\\\\\n",
    "=\\int \\frac{1}{p}(2pe^p+p^2e^p)dp+c\\\\\n",
    "=(1+p)e^p+c$$\n",
    "于是又参数方程\n",
    "$$\\begin{cases}\n",
    "x=(1+p)e^p\\\\\n",
    "y=p^2e^p\n",
    "\\end{cases}$$\n",
    "\n"
   ]
  },
  {
   "cell_type": "markdown",
   "metadata": {},
   "source": [
    "求解方程：$y(1+y'^2)=2a$"
   ]
  },
  {
   "cell_type": "markdown",
   "metadata": {},
   "source": [
    "# 解\n",
    "令$\\frac{dy}{dx}=p$即$y=\\frac{2a}{1+p^2}$\n",
    "\n",
    "不妨设$p=\\tan\\varphi$则有$y=2a*\\cos ^2\\varphi$\n",
    "\n",
    "$$=> x=\\int\\frac{1}{p}dy+c=\\int\\frac{1}{\\tan \\varphi}d(2a*\\cos^2\\varphi)+c\\\\\n",
    "=-4a\\int \\cos^2\\varphi d\\varphi+c=-4a\\int\\frac{1+\\cos^2\\varphi}{2}+c\\\n",
    "=-a(2\\varphi+\\sin 2\\varphi)+c$$"
   ]
  },
  {
   "cell_type": "markdown",
   "metadata": {},
   "source": [
    "求解方程：$x^2+y'^2=1$"
   ]
  },
  {
   "cell_type": "markdown",
   "metadata": {},
   "source": [
    "# 解\n",
    "令$\\frac{dy}{dx}=p$,则有$y=\\int pdx$\n",
    "\n",
    "不妨设$p=\\cos t$,有$x=\\sin t$\n",
    "\n",
    "易得$y=\\frac{1}{2}t+\\frac{1}{4}\\sin 2t+c$\n",
    "\n",
    "所以有参数方程$$\n",
    "\\begin{cases}\n",
    "x=\\sin t\\\\\n",
    "y=\\frac{1}{2}t+\\frac{1}{4}\\sin 2t+c\n",
    "\\end{cases}$$"
   ]
  },
  {
   "cell_type": "markdown",
   "metadata": {},
   "source": [
    "求解方程:$y^2(y'-1)=(2-y')^2$"
   ]
  },
  {
   "cell_type": "markdown",
   "metadata": {},
   "source": [
    "# 解\n",
    "令$\\frac{dy}{dx}=y'=p$,则有$y^2=\\frac{(2-p)^2}{p-1}$\n",
    "\n",
    "所以$$x=\\int \\frac{1}{p}dy+c=\\int\\frac{1}{p}d\\sqrt\\frac{(2-p)^2}{p-1}\\\\\n",
    "=\\frac{1}{t}+c$$\n",
    "$$\n",
    "\\begin{cases}\n",
    "x=\\frac{1}{t}+c\\\\\n",
    "y=t+\\frac{1}{t}\n",
    "\\end{cases}$$"
   ]
  },
  {
   "cell_type": "markdown",
   "metadata": {
    "collapsed": true
   },
   "source": [
    "$B^+$"
   ]
  },
  {
   "cell_type": "code",
   "execution_count": null,
   "metadata": {
    "collapsed": true
   },
   "outputs": [],
   "source": []
  },
  {
   "cell_type": "code",
   "execution_count": null,
   "metadata": {
    "collapsed": true
   },
   "outputs": [],
   "source": []
  },
  {
   "cell_type": "code",
   "execution_count": null,
   "metadata": {
    "collapsed": true
   },
   "outputs": [],
   "source": []
  }
 ],
 "metadata": {
  "kernelspec": {
   "display_name": "SageMath 7.3",
   "language": "",
   "name": "sagemath"
  },
  "language_info": {
   "codemirror_mode": {
    "name": "ipython",
    "version": 2
   },
   "file_extension": ".py",
   "mimetype": "text/x-python",
   "name": "python",
   "nbconvert_exporter": "python",
   "pygments_lexer": "ipython2",
   "version": "2.7.10"
  }
 },
 "nbformat": 4,
 "nbformat_minor": 0
}
