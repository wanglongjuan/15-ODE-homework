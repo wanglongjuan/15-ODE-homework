{
 "cells": [
  {
   "cell_type": "markdown",
   "metadata": {},
   "source": [
    "1.求解下列方程"
   ]
  },
  {
   "cell_type": "markdown",
   "metadata": {},
   "source": [
    "1）$xy'^3=1+y'$"
   ]
  },
  {
   "cell_type": "markdown",
   "metadata": {},
   "source": [
    "解：令$$\\frac{d y}{d x}=y'=p=\\frac{1}{t}$$则$$x=(1+\\frac{1}{t})t^3=t^3+t^2$$从而$$y=\\int pd x+c=\\int \\frac{1}{t}d (t^3+t^2)+c=\\int (3t+2)d t+c=\\frac{3}{2}t^3+2t+c$$$$\n",
    "\\begin{cases}\n",
    "x=t^3+t^2\\\\\n",
    "y=\\frac{3}{2}t^2+2t+c\n",
    "\\end{cases}\n",
    "$$"
   ]
  },
  {
   "cell_type": "markdown",
   "metadata": {},
   "source": [
    "2)$y'^3-x^3(1-y')=0$"
   ]
  },
  {
   "cell_type": "markdown",
   "metadata": {},
   "source": [
    "解：令$$\\frac{d y}{d x}=y'=p=tx$$则$$(tx^3)-x^3(1-tx)=0$$即$$x=\\frac{t^3-1}{t}=t^2-\\frac{1}{t}$$从而$$\\begin{aligned}y&=\\int pd x+c\\\\&=\\int t(t^2-\\frac{1}{t})d (t^2-\\frac{1}{t})+c\n",
    "\\\\&=\\int (t^3-1)(2t+\\frac{1}{t^2})d t +c\n",
    "\\\\&=\\int (2t^4-t-\\frac{1}{t^2})d t+c\n",
    "\\\\&=\\frac{2}{5}t^5-\\frac{1}{2}t^2+\\frac{1}{t}+c\\end{aligned}$$"
   ]
  },
  {
   "cell_type": "markdown",
   "metadata": {},
   "source": [
    "$$\n",
    "\\begin{cases}\n",
    "x=t^2-\\frac{1}{t}\\\\\n",
    "y=\\frac{3}{5}t^5-\\frac{1}{2}t^2+\\frac{1}{t}+c\n",
    "\\end{cases}\n",
    "$$"
   ]
  },
  {
   "cell_type": "markdown",
   "metadata": {},
   "source": [
    "3)$y=y'^2e^{y'}$"
   ]
  },
  {
   "cell_type": "markdown",
   "metadata": {},
   "source": [
    "解：令$\\frac{d y}{d x}=y'=p$,则$y=p^2e^p$  \n",
    "  \n",
    "  从而$$\\begin{aligned}x&=\\int \\frac{1}{p}d (p^2e^p)+c\\\\&=\\int \\frac{1}{p}(2pe^p+p^2e^p)d p+c\\\\&=\\int (2e^p+pe^p)d p+c\\\\&=1+pe^p+c\\end{aligned}$$  \n",
    "  $$\n",
    "\\begin{cases}\n",
    "x=(1+p)e^p+c\\\\\n",
    "y=y^2e^p\n",
    "\\end{cases}\n",
    "$$"
   ]
  },
  {
   "cell_type": "markdown",
   "metadata": {},
   "source": [
    "4)$y(1+y'^2)=2a$（a为常数）"
   ]
  },
  {
   "cell_type": "markdown",
   "metadata": {},
   "source": [
    "解：令$\\frac{d y}{d x}=y'=tg\\phi$  \n",
    "  \n",
    "  则$$y=\\frac{2a}{1+tg^2\\mu}=\\frac{2a}{sec^2\\phi}=2a（cos\\phi)^2$$从而$$\\begin{aligned}x&=\\int \\frac{1}{p}d y+c\\\\&=\\int \\frac{1}{tg\\phi}d (2acos^2\\phi)+c\\\\&=-4a\\int cos^2yd \\phi+c\\\\&=-4a\\int \\frac{1+cos2\\phi}{2}+c\\\\&=-a(2\\phi+sin2\\phi)+c\\end{aligned}$$  \n",
    "  $$\n",
    "\\begin{cases}\n",
    "x=-a(2\\phi+sin2\\phi)+c\\\\\n",
    "y=2acos^2\\phi\n",
    "\\end{cases}\n",
    "$$"
   ]
  },
  {
   "cell_type": "markdown",
   "metadata": {},
   "source": [
    "5)$x^2+y'^2=1$"
   ]
  },
  {
   "cell_type": "markdown",
   "metadata": {},
   "source": [
    "解：令$\\frac{\\rm d y}{\\rm d x}=y'=p=cost$,则$x=\\sqrt{1-cos^2t}=sint$,所以$$\n",
    "\\begin{aligned}y&=\\int{cost}{\\rm d}(sint)+c\\\\&=\\int{cos^2t}{\\rm d}t+c\\\\&=\\int{\\frac{1+cos2t}{2}}{\\rm d}t+c\\\\&=\\frac{1}{2}t+\\frac{1}{4}sin2t+c\\end{aligned}\n",
    "$$求得方程组参数形式的通解为$$\n",
    "\\begin{cases}\n",
    "x=sint\\\\\n",
    "y=\\frac{1}{2}t+\\frac{1}{4}sin2t+c\n",
    "\\end{cases}\n",
    "$$"
   ]
  },
  {
   "cell_type": "markdown",
   "metadata": {},
   "source": [
    "6）$y^2(y'-1)=(2-y')^2$"
   ]
  },
  {
   "cell_type": "markdown",
   "metadata": {},
   "source": [
    "解：令$2-y'=yt$,则$1-y'=yt-1$，得$y=t=\\frac{1}{t}$  \n",
    "所以$${\\mathrm d x}={\\frac{\\rm d y}{2-yt}}=\\frac{{\\rm d}(t+{\\frac{1}{t}})}{2-t(t+{\\frac{1}{t}})}=\\frac{(1-t^{-2}){\\rm d}t}{1-t^2}=\\frac{t^2-1}{t^2(1-t^2)}{\\rm d}t=-{\\frac{1}{t^2}}{\\rm d}t$$从而$$x=\\int{(-\\frac{1}{t^2}){\\rm d}t}+c={\\frac{1}{t}}+c$$于是求得方程参数形式的通解为$$\n",
    "\\begin{cases}\n",
    "x=\\frac{1}{t}+c\\\\\n",
    "y=t+\\frac{1}{t}\n",
    "\\end{cases}\n",
    "$$\n",
    "因此方程的通解为$$y=\\frac{1}{x-c}+x-c$$"
   ]
  },
  {
   "cell_type": "markdown",
   "metadata": {},
   "source": [
    "$A$"
   ]
  },
  {
   "cell_type": "code",
   "execution_count": null,
   "metadata": {
    "collapsed": true
   },
   "outputs": [],
   "source": []
  }
 ],
 "metadata": {
  "kernelspec": {
   "display_name": "SageMath 7.3",
   "language": "",
   "name": "sagemath"
  },
  "language_info": {
   "codemirror_mode": {
    "name": "ipython",
    "version": 2
   },
   "file_extension": ".py",
   "mimetype": "text/x-python",
   "name": "python",
   "nbconvert_exporter": "python",
   "pygments_lexer": "ipython2",
   "version": "2.7.10"
  }
 },
 "nbformat": 4,
 "nbformat_minor": 0
}
