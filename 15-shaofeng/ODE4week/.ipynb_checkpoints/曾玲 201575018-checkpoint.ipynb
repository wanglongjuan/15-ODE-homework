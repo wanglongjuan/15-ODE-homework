{
 "cells": [
  {
   "cell_type": "markdown",
   "metadata": {},
   "source": [
    "## 曾玲     2015750118"
   ]
  },
  {
   "cell_type": "markdown",
   "metadata": {},
   "source": [
    "# 2016.9.19"
   ]
  },
  {
   "cell_type": "markdown",
   "metadata": {
    "collapsed": true
   },
   "source": [
    "## 4、设f(x,y)及$\\frac{\\partial f}{\\partial y}$连续， 试证方程$\\mathrm d y-f(x,y)\\mathrm d x=0$为线性微分方程的充要条件是它有仅依赖于x的积分因子。"
   ]
  },
  {
   "cell_type": "markdown",
   "metadata": {},
   "source": [
    "令M(x,y)=-f(x,y)      N(x,y)=1\n",
    "\n",
    "方程$\\mathrm d y-f(x,y)\\mathrm d x=0$为线性微分方程充要条件为f(x,y)对y求偏导数是关于x的函数，即$\\frac{\\partial f}{\\partial y}$是关于x的函数.\n",
    "\n",
    "而$\\frac{\\frac{\\partial M}{\\partial y}-\\frac{\\partial N}{\\partial x}}{N}=-\\frac{\\partial f}{\\partial y}$即方程$\\mathrm d y-f(x,y)\\mathrm d x=0$有仅依赖于x的积分因子。"
   ]
  },
  {
   "cell_type": "markdown",
   "metadata": {},
   "source": [
    "# 错误"
   ]
  },
  {
   "cell_type": "markdown",
   "metadata": {},
   "source": [
    "## 8、求出伯努利微分方程的积分因子。"
   ]
  },
  {
   "cell_type": "markdown",
   "metadata": {},
   "source": [
    "伯努利微分方程设为$\\mathrm d y-(P(x)y+Q(x)y^n)\\mathrm d x=0$\n",
    "\n",
    "该方程两边同时除以$y^n$ ,得到$$y^{-n}\\mathrm d y-(P(x)y^{1-n}+Q(x))=0$$\n",
    "令$$M=-P(x)y^{1-n}-Q(x)$$\n",
    "$$N=y^{-n}$$\n",
    "得到$$\\frac{\\frac{\\partial M}{\\partial y}-\\frac{\\partial N}{\\partial x}}{N}=\\frac{(n-1)P(x)y^{-n}-0}{y^{-n}}=(n-1)P(x)$$\n",
    "\n",
    "因此$$y^{-n}e^{\\int(n-1)P(x)\\mathrm d x}$$ 为该方程的积分因子。"
   ]
  },
  {
   "cell_type": "markdown",
   "metadata": {},
   "source": [
    "$y^{-n}\\mathrm d y-(P(x)y^{1-n}+Q(x))\\mathrm dx=0$\n",
    "\n",
    "$\\frac{\\frac{\\partial M}{\\partial y}-\\frac{\\partial N}{\\partial x}}{N}=\\frac{-(1-n)P(x)y^{-n}-0}{y^{-n}}=(n-1)P(x)$\n",
    "\n",
    "\n",
    "**错误**\n",
    "\n",
    "\n",
    "\n",
    "\n"
   ]
  },
  {
   "cell_type": "markdown",
   "metadata": {},
   "source": [
    "## 9、设$\\mu(x,y)$是方程$M(x,y)d x+N(x,y)d y=0$的积分因子，从而求得可微函数$U(x,y)$ ,使得$dU=\\mu(Md x+Nd y)$ .试证$\\tilde{\\mu}(x,y)$ 也是该方程的积分因子的充要条件是$\\tilde{\\mu}(x,y)=\\mu\\phi(U)$  ,其中$\\phi(t)$是t的可微函数 ."
   ]
  },
  {
   "cell_type": "markdown",
   "metadata": {},
   "source": [
    "**首先**  由于$\\mu$ 为微分方程的一个积分因子，\n",
    "\n",
    "$\\therefore$  $$\\frac{\\partial(\\mu M)}{\\partial \\mathrm y}=\\frac{\\partial(\\mu N)}{\\partial x}$$\n",
    "且$$\\frac{\\partial(U)}{\\partial x}=\\mu M\\\\\\frac{\\partial(U)}{\\partial y}=\\mu N$$\n",
    "**充分性**：由于$$\\frac{\\partial(\\tilde \\mu(x,y)N)}{\\partial x}==\\frac{\\partial(\\mu\\phi(U)N)}{\\partial x}=N\\mu\\frac{\\partial U}{\\partial x}\\phi^\\prime(U)+\\phi(U)\\frac{\\partial(N\\mu)}{\\partial x}=MN{\\mu}^2\\phi^\\prime(U)+\\phi(U)\\frac{\\partial(N\\mu)}{\\partial x}$$\n",
    "$$\\frac{\\partial(\\tilde \\mu(x,y)M)}{\\partial y}=\\frac{\\partial(\\mu\\phi(U)M)}{\\partial y}=M\\mu\\frac{\\partial U}{\\partial y}\\phi^\\prime(U)+\\phi(U)\\frac{\\partial(M\\mu)}{\\partial y}=MN{\\mu}^2\\phi^\\prime(U)+\\phi(U)\\frac{\\partial(M\\mu)}{\\partial y}$$\n",
    "比较以上两式    $\\therefore$ $$\\frac{\\partial(\\tilde \\mu(x,y)N)}{\\partial x}=\\frac{\\partial(\\tilde \\mu(x,y)M)}{\\partial y}$$\n",
    "$\\therefore$  $\\tilde{\\mu}(x,y)=\\mu\\phi(U)$ 是该微分方程的积分因子。"
   ]
  },
  {
   "cell_type": "markdown",
   "metadata": {},
   "source": [
    "**必要性：**设$\\tilde{\\mu}$是方程的积分因子，则\n",
    "$$\\frac{\\partial (\\tilde{\\mu} M)}{\\partial y}=\\frac{\\partial (\\tilde{\\mu} N)}{\\partial x}$$\n",
    "\n",
    "又因为$$\\frac{\\partial (\\tilde\\mu M)}{\\partial y}=\\frac{\\partial (\\frac{\\tilde\\mu}{\\mu} \\mu M)}{\\partial x}=\\frac{\\partial (\\frac{\\tilde\\mu}{\\mu})}{\\partial x}\\mu M+\\frac{\\tilde\\mu}{\\mu}\\frac{\\partial \\mu M}{\\partial y}$$\n",
    "\n",
    "$$\\frac{\\partial (\\tilde\\mu N)}{\\partial x}=\\frac{\\partial (\\frac{\\tilde\\mu}{\\mu} \\mu N)}{\\partial x}=\\frac{\\partial (\\frac{\\tilde\\mu}{\\mu})}{\\partial x}\\mu N+\\frac{\\tilde\\mu}{\\mu}\\frac{\\partial \\mu N}{\\partial x}$$\n",
    "\n",
    "**把$\\frac{\\partial (\\mu M)}{\\partial y}=\\frac{\\partial (\\mu N)}{\\partial x}$代入**\n",
    "\n",
    "得到$$M\\frac{\\partial (\\frac{\\tilde\\mu}{\\mu})}{\\partial y}=N\\frac{\\partial (\\frac{\\tilde\\mu}{\\mu})}{\\partial x}$$\n",
    "\n",
    "考虑到$\\frac{\\partial U}{\\partial x}=\\mu M,\\frac{\\partial U}{\\partial y}=\\mu N,$\n",
    "\n",
    "即$\\frac{\\frac{\\partial (\\frac{\\tilde\\mu}{\\mu})}{\\partial y}}{\\frac{\\partial (\\frac{\\tilde\\mu}{\\mu})}{\\partial x}}=\\frac{\\frac{\\partial U}{\\partial y}}{\\frac{\\partial U}{\\partial x}}$\n",
    "\n",
    "则$\\frac{\\tilde\\mu}{\\mu}=\\psi(U)$\n"
   ]
  },
  {
   "cell_type": "markdown",
   "metadata": {},
   "source": [
    "# 2016.9.21"
   ]
  },
  {
   "cell_type": "markdown",
   "metadata": {},
   "source": [
    "## 1、求解下列方程："
   ]
  },
  {
   "cell_type": "markdown",
   "metadata": {},
   "source": [
    "（1）$x{y^\\prime}^3=1+y^\\prime$"
   ]
  },
  {
   "cell_type": "markdown",
   "metadata": {},
   "source": [
    "令$p=y^\\prime$\n",
    "\n",
    "原微分方程变$xp^3=1+p$\n",
    "\n",
    "令$p=\\frac{1}{t}$\n",
    "\n",
    "则有$$x=\\frac{1+p}{p^3}=t^3+t^2$$\n",
    "$$\\mathrm d y=p\\mathrm d x=\\frac{1}{t}(3t^2+2t)\\mathrm d t=(3t+2)\\mathrm d t$$\n",
    "$\\therefore $ $$y=\\frac{3}{2}t^2+2t+c$$\n",
    "所以微分方程的解为$$\\begin{cases}\n",
    "y=\\frac{3}{2}t^2+2t+c\\\\\n",
    "x=t^3+t^2\n",
    "\\end{cases}$$"
   ]
  },
  {
   "cell_type": "markdown",
   "metadata": {},
   "source": [
    "(2)${y^\\prime}^3-x^3(1-y^\\prime)=0$"
   ]
  },
  {
   "cell_type": "markdown",
   "metadata": {},
   "source": [
    "令 $p=y^\\prime$\n",
    "\n",
    "原微分方程变 $p^3-x^3(1-p)=0$\n",
    "\n",
    "令 $p=xt$ 可得$$x=\\frac{1}{t}-t^2  \\\\  p=1-t^3$$\n",
    "$$\\mathrm d y=p\\mathrm d x=(1-t^3)(-\\frac{1}{t^2}-2t)\\mathrm d t$$\n",
    "积分之$$y=\\frac{1}{t}-\\frac{1}{2}t^2+\\frac{2}{5}t^5+c$$\n",
    "所以微分方程的解为$$\\begin{cases}\n",
    "y=\\frac{1}{t}-\\frac{1}{2}t^2+\\frac{2}{5}t^5+c\\\\\n",
    "x=\\frac{1}{t}-t^2\n",
    "\\end{cases}$$"
   ]
  },
  {
   "cell_type": "markdown",
   "metadata": {},
   "source": [
    "### (3)$y={y^\\prime}^2e^{y^\\prime}$"
   ]
  },
  {
   "cell_type": "markdown",
   "metadata": {},
   "source": [
    "令 $p=y^\\prime$\n",
    "\n",
    "原微分方程变 $y=p^2e^p$\n",
    "\n",
    "在方程两边对x求导可得$$p=2pe^p\\frac{\\mathrm dp}{\\mathrm dx}+p^2e^p\\frac{\\mathrm dp}{\\mathrm dx}$$\n",
    "即为$$d x=(2+p)e^pd p$$\n",
    "积分之$$x=pe^p+e^p+c$$\n",
    "所以微分方程的解为$$\\begin{cases}\n",
    "y=p^2e^p\\\\\n",
    "x=pe^p+e^p+c\n",
    "\\end{cases}$$\n",
    "\n",
    "另一解为y=0"
   ]
  },
  {
   "cell_type": "markdown",
   "metadata": {},
   "source": [
    "(4)$y(1+{y^\\prime}^2)=2a$ （a为常数）"
   ]
  },
  {
   "cell_type": "markdown",
   "metadata": {},
   "source": [
    "令 $p=y^\\prime$\n",
    "\n",
    "原微分方程变 $y(1+p^2)=2a$\n",
    "\n",
    "令 $p=\\tan \\phi$ $$y=\\frac{2a}{1+p^2}=2a\\cos^2\\phi$$\n",
    "满足 $$d x=\\frac{1}{p}d y=-2a(\\cos 2\\phi+1)d \\phi$$\n",
    "$\\therefore$  $$x=-a\\sin 2\\phi-2a\\phi+c$$\n",
    "所以微分方程的解为$$\\begin{cases}\n",
    "y=2a\\cos^2\\phi\\\\\n",
    "x=-a\\sin 2\\phi-2a\\phi+c\n",
    "\\end{cases}$$\n",
    "\n",
    "另一解为y=2a"
   ]
  },
  {
   "cell_type": "markdown",
   "metadata": {},
   "source": [
    "(5)$x^2+{y^\\prime}^2=1$"
   ]
  },
  {
   "cell_type": "markdown",
   "metadata": {},
   "source": [
    "令 $p=y^\\prime$\n",
    "\n",
    "令$$\\begin{cases}\n",
    "x=\\cos t\\\\\n",
    "p=\\sin t\n",
    "\\end{cases}$$\n",
    "$$d y=pd x=-\\sin^2 td t=\\frac{1}{2}(\\cos 2t-1)d t$$\n",
    "\n",
    "$therefore$ $$y=\\frac{1}{4}\\sin 2t-\\frac{1}{2}t+c$$\n",
    "所以微分方程的解为$$\\begin{cases}\n",
    "y=\\frac{1}{4}\\sin 2t-\\frac{1}{2}t+c\\\\\n",
    "x=\\cos t\n",
    "\\end{cases}$$\n"
   ]
  },
  {
   "cell_type": "markdown",
   "metadata": {},
   "source": [
    "(6)$y^2(y^\\prime-1)=(2-y^\\prime)^2$"
   ]
  },
  {
   "cell_type": "markdown",
   "metadata": {},
   "source": [
    "令 $p=y^\\prime$\n",
    "\n",
    "原微分方程变 $y^2(p-1)=(2-p)^2$\n",
    "\n",
    "令2-p=yt\n",
    "\n",
    "$therefore$ $$y=\\frac{1}{t}-t$$\n",
    "$$p=1+t^2$$\n",
    "$$d x=\\frac{1}{p}d y=\\frac{1}{1+t^2}(-\\frac{1}{t^2}-1)d t=-\\frac{1}{t^2}d t$$\n",
    "$therefore$ $$x=\\frac{1}{t}+c$$\n",
    "所以微分方程的解为$$\\begin{cases}\n",
    "y=\\frac{1}{t}-t\\\\\n",
    "x=\\frac{1}{t}+c\n",
    "\\end{cases}$$"
   ]
  },
  {
   "cell_type": "markdown",
   "metadata": {
    "collapsed": true
   },
   "source": [
    "**$B^+$**"
   ]
  },
  {
   "cell_type": "code",
   "execution_count": null,
   "metadata": {
    "collapsed": true
   },
   "outputs": [],
   "source": []
  }
 ],
 "metadata": {
  "kernelspec": {
   "display_name": "SageMath 7.3",
   "language": "",
   "name": "sagemath"
  },
  "language_info": {
   "codemirror_mode": {
    "name": "ipython",
    "version": 2
   },
   "file_extension": ".py",
   "mimetype": "text/x-python",
   "name": "python",
   "nbconvert_exporter": "python",
   "pygments_lexer": "ipython2",
   "version": "2.7.10"
  }
 },
 "nbformat": 4,
 "nbformat_minor": 0
}
