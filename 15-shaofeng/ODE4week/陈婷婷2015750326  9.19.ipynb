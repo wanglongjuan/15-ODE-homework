{
 "cells": [
  {
   "cell_type": "markdown",
   "metadata": {},
   "source": [
    "**4.设$f(x,y)$及$ \\frac{\\partial f}{\\partial y}$连续，试证方程$\\mathrm d y-f(x.y)\\mathrm d x=0$为线性微分方程的充要条件是它有仅依赖于x的积分因子**"
   ]
  },
  {
   "cell_type": "markdown",
   "metadata": {},
   "source": [
    "**证：必要性：**若此方程为线性微分方程，则有$$\\frac{\\mathrm d y}{\\mathrm d x}=P(x)y+Q(x)$$此方程有积分因子$$\\mu(x)=e^{-\\int p(x) {\\rm d}x},\\mu(x)只与x有关$$\n",
    "\n",
    "   **充分性：**若此方程有只与x有关的积分因子$\\mu(x)$,$$则\\mu(x)f(x,y){\\rm d}x-\\mu(x){\\rm d}y=0是恰当方程$$则有$$-\\mu(x)\\frac{\\partial f(x,y)} {\\partial y}=\\frac{\\mathrm d \\mu(x)}{\\mathrm d x}$$即$$\\frac{\\partial f(x,y)}{\\partial y}=\\frac{\\mu'(x)}{\\mu(x)}$$可得$$f(x,y)=-\\int \\frac{\\mu'(x)}{\\mu(x)} {\\rm d}y+Q(x)=\\frac{\\mu'(x)}{\\mu(x)}y+Q(x)=P(x)y+Q(x),其中P（x）=-\\frac{\\mu'(x)}{\\mu(x)}$$\n",
    "故方程可化为$$\\frac{\\mathrm d y}{\\mathrm d x}=P(x)y+Q(x)$$从而证得此方程为线性微分方程\n"
   ]
  },
  {
   "cell_type": "markdown",
   "metadata": {
    "collapsed": true
   },
   "source": [
    "**8.求出伯努利微分方程的积分因子**"
   ]
  },
  {
   "cell_type": "markdown",
   "metadata": {},
   "source": [
    "伯努利方程为：$$\\frac{\\mathrm d y}{\\mathrm d x}=P(x)y+Q(x)y^n(n\\neq0,1)$$即$$P（x）y{\\rm d}x+Q(x)y^n{\\rm d}x-{\\rm d}y=0$$两边乘以$y^{-n}得$ $$y^{1-n}P(x){\\rm d}x+Q(x){\\rm d}x-y^{-n}{\\rm d}y=0$$ 两边乘以n-1得$$(n-1）y^{1-n}P(x){\\rm d}x+(n-1)Q(x){\\rm d}x+{\\rm d}y^{n-1}=0$$ 两边乘以$e^{(n-1)\\int P(x) {\\rm d}x}$得$$y{1-n}{\\rm d}e^{(n-1)\\int P(x){\\rm d}x}+e^{(n-1)\\int P(x){\\rm d}x}(n-1)Q(x){\\rm d}x+e^{(n-1)\\int P(x){\\rm d}x}{\\rm d}y^{n-1}=0$$ 即$${\\rm d}[y^{1-n}e^{(n-1)\\int P(x){\\rm d}x}+\\int e^{(n-1)\\int P(x){\\rm d}x}(n-1)Q(x){\\rm d}x]=0$$ 故方程的通解为$$y^{1-n}e^{(n-1)\\int P(x){\\rm d}x}+\\int e^{(n-1)\\int P(x){\\rm d}x}(n-1)Q(x){\\rm d}x=c,(c为任意常数）$$ 从而可知有积分因子$$\\mu=(n-1)y^{-n}e^{(n-1)\\int P(x){\\rm d}x}$$"
   ]
  },
  {
   "cell_type": "markdown",
   "metadata": {
    "collapsed": true
   },
   "source": [
    "**9.设$\\mu(x,y)$是方程$M(x,y){\\rm d}x+N(x,y){\\rm d}y=0$的积分因子，从而求得可微函数$U（x,y）$,使得${\\rm d}U=\\mu (M{\\rm d}x+N{\\rm d}y)$。试证$\\overline{\\mu}(x,y)$也是方程$M(x,y){\\rm d}x+N(x,y){\\rm d}y=0$的积分因子的充要条件是$\\overline{\\mu}(x,y)=\\mu\\phi(U)$,其中$\\phi(t)$是t的可微函数。**\n",
    "    "
   ]
  },
  {
   "cell_type": "markdown",
   "metadata": {},
   "source": [
    "证：由$\\overline{\\mu}(x,y)=\\mu\\phi(U)$，有$$\\frac{\\partial (\\overline{\\mu}M)}{\\partial y}=\\mu M\\phi'(U)\\frac{\\partial \\mu}{\\partial y}+\\phi(U)\\frac{\\partial (\\mu M)}{\\partial y}=\\mu M\\phi'(U)\\mu N+\\phi(U)\\frac{\\partial (\\mu M)}{\\partial y}$$ \n",
    "\n",
    "又有$$\\frac{\\partial (\\overline{\\mu}N)}{\\partial x}=\\mu N\\phi'(U)\\frac{\\partial \\mu}{\\partial x}+\\phi(U)\\frac{\\partial (\\mu N)}{\\partial x}=\\mu N\\phi'(U)\\mu M+\\phi(U)\\frac{\\partial (\\mu N)}{\\partial x}$$\n",
    "\n",
    "由于$\\mu(x,y)$是方程$M(x,y){\\rm d}x+N(x,y){\\rm d}y=0$的积分因子，故$$\\frac{\\partial (\\mu M)}{\\partial y}=\\frac{\\partial (\\mu N)}{\\partial x}$$\n",
    "从而$$\\frac{\\partial (\\overline{\\mu}M)}{\\partial y}=\\frac{\\partial (\\overline{\\mu}N)}{\\partial x}$$\n",
    "即得到$\\overline{\\mu}(x,y)$也是方程$M(x,y){\\rm d}x+N(x,y){\\rm d}y=0$的积分因子"
   ]
  }
 ],
 "metadata": {
  "kernelspec": {
   "display_name": "SageMath 7.3",
   "language": "",
   "name": "sagemath"
  },
  "language_info": {
   "codemirror_mode": {
    "name": "ipython",
    "version": 2
   },
   "file_extension": ".py",
   "mimetype": "text/x-python",
   "name": "python",
   "nbconvert_exporter": "python",
   "pygments_lexer": "ipython2",
   "version": "2.7.10"
  }
 },
 "nbformat": 4,
 "nbformat_minor": 0
}
