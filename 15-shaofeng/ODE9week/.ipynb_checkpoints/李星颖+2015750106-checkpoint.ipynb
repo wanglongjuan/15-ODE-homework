{
 "cells": [
  {
   "cell_type": "markdown",
   "metadata": {},
   "source": [
    "# 常系数线性微分方程的解法"
   ]
  },
  {
   "cell_type": "markdown",
   "metadata": {},
   "source": [
    "## 求解下列常系数线性微分方程："
   ]
  },
  {
   "cell_type": "markdown",
   "metadata": {},
   "source": [
    "### (1):$x^{(4)}-5x\"+4x=0$;"
   ]
  },
  {
   "cell_type": "markdown",
   "metadata": {},
   "source": [
    "**解**：特征方程为$\\lambda^{4}-5\\lambda^{2}+4=(\\lambda+2)(\\lambda-2)(\\lambda+1)(\\lambda-1)=0$,特征根分别为$2$,$-2$,$1$,$-1$,于是通解为$x=c_1e^{2t}+c_2e^{-2t}+c_3e^{t}+c_4e^{-t}$,$c_1,c_2,c_3,c_4$为任意实数。"
   ]
  },
  {
   "cell_type": "markdown",
   "metadata": {},
   "source": [
    "### (2):$x^{(5)}-4x'''=0$;"
   ]
  },
  {
   "cell_type": "markdown",
   "metadata": {},
   "source": [
    "**解**:特征方程为$\\lambda^{5}+4\\lambda^{3}=\\lambda^{3}(\\lambda+2)(\\lambda-2)=0$,特征根分别为$0$(三重),$2$,$-2$,因此通解为$x=c_1+c_2t+c_3t^{2}+c_4e^{2t}+c_5e^{-2t}$,$c_1,c_2,c_3,c_4,c_5$为任意实数。"
   ]
  },
  {
   "cell_type": "markdown",
   "metadata": {},
   "source": [
    "### (3):$s''-a^{2}s=t+1$;"
   ]
  },
  {
   "cell_type": "markdown",
   "metadata": {},
   "source": [
    "**解**：先考察齐次线性微分方程:$s''-a^{2}s=0$,其特征方程为$\\lambda^{2}-a^{2}=(\\lambda+a)(\\lambda-1)=0$,特征根为$\\pm a$,当$a\\neq 0$时，基本解组$e^{at}$,$e^{-at}$,当$a=0$时，基本解组是$1$,$t$.\n",
    "\n",
    "再考察非齐次线性微分方程$s''-a^{2}s=t+1$，根据齐次线性微分方程的基本解组利用常数变易法可以求出其的一个特解:\n",
    "\n",
    "$a\\neq 0$时,特解为$-\\frac{1}{a^{2}}(t+1)$,所以该方程的通解为$$x=c_1e^{at}+c_2e^{-at}-\\frac{1}{a^{2}}(t+1)$$$a=0$时，特解为$\\frac{1}{6}t^{2}(t+3)$,所以该方程的通解为$$c_1+c_2t+\\frac{1}{6}t^{2}(t+3)$$"
   ]
  },
  {
   "cell_type": "markdown",
   "metadata": {},
   "source": [
    "### (4):$x'''-4x''+5x'-2x=2t+3$;"
   ]
  },
  {
   "cell_type": "markdown",
   "metadata": {},
   "source": [
    "**解**：先考察齐次线性微分方程:$x'''-4x''+5x'-2x=0$,其特征方程为$\\lambda^{3}-4\\lambda^2+5\\lambda-2=(\\lambda-1)^2(\\lambda-2)=0$,其特征根为$1$(二重)，$2$，于是基本解组为$e^{t}$,$te^{t}$,$e^{2t}$.\n",
    "\n",
    "再考察非齐次线性微分方程$x'''-4x''+5x'-2x=2t+3$，根据齐次线性微分方程的基本解组利用常数变易法可以求出其的一个特解:$-t-4$,所以该方程的通解为$$x=c_1e^{t}+c_2te^{t}+c_3e^{2t}-t-4$$"
   ]
  },
  {
   "cell_type": "markdown",
   "metadata": {},
   "source": [
    "### (5):$x^{(4)}-2x''+x=t^2-3$;"
   ]
  },
  {
   "cell_type": "markdown",
   "metadata": {},
   "source": [
    "**解**:先考察齐次线性微分方程:$x^{(4)}-2x''+x=0$,其特征方程为$\\lambda^4-2\\lambda^2+1=(\\lambda+1)^2(\\lambda-1)^2=0$，其特征根为$1$(二重),$-1$(二重)，于是基本解组为$e^{t}$,$te^{t}$,$e^{-t}$,$te^{-t}$.\n",
    "\n",
    "再考察非齐次线性微分方程$x'''-4x''+5x'-2x=2t+3$，根据齐次线性微分方程的基本解组利用常数变易法可以求出其的一个特解:$t^{2}+1$,所以该方程的通解为$$x=c_1e^{t}+c_2te^{t}+c_3e^{-t}+c_4te^{-t}+t^2+1$$"
   ]
  },
  {
   "cell_type": "markdown",
   "metadata": {
    "collapsed": true
   },
   "source": [
    "A"
   ]
  },
  {
   "cell_type": "code",
   "execution_count": null,
   "metadata": {
    "collapsed": true
   },
   "outputs": [],
   "source": []
  }
 ],
 "metadata": {
  "kernelspec": {
   "display_name": "SageMath 7.3",
   "language": "",
   "name": "sagemath"
  },
  "language_info": {
   "codemirror_mode": {
    "name": "ipython",
    "version": 2
   },
   "file_extension": ".py",
   "mimetype": "text/x-python",
   "name": "python",
   "nbconvert_exporter": "python",
   "pygments_lexer": "ipython2",
   "version": "2.7.10"
  }
 },
 "nbformat": 4,
 "nbformat_minor": 0
}
