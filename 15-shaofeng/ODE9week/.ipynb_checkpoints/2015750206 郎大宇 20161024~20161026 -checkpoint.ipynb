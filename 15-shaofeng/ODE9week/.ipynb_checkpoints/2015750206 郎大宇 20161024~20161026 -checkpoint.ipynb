{
 "cells": [
  {
   "cell_type": "markdown",
   "metadata": {},
   "source": [
    "#### 1.求解下列常系数线性微分方程：\n",
    "(1)$x^{(4)}-5x''+4x=0;$\n",
    "\n",
    "(2)$x'''-3ax''+3a^2 x'-a^3x=0;$\n",
    "\n",
    "(3)$s'-a^2s=t+1;$\n",
    "\n",
    "(4)$x'''-4x''+5x'-2x=2t+3;$\n",
    "\n",
    "(5)$x^{(4)}-2x''+x=t^2-3;$"
   ]
  },
  {
   "cell_type": "markdown",
   "metadata": {},
   "source": [
    "解：(1)根据方程，得$a1=0,a2=-5,a3=0,a4=4$,因此它的特征方程为:\n",
    "\n",
    "$$F(\\lambda)={\\lambda}^4-5{\\lambda}^2+4$$\n",
    "\n",
    "得特征方程的根$$\\lambda1=1,\\lambda2=-1,\\lambda3=2,\\lambda4=-2$$\n",
    "\n",
    "故方程通解$$x=c_1e^{2t}+c_2e^{-2t}+c_3e^{t}+c_4e^{-t}.$$"
   ]
  },
  {
   "cell_type": "markdown",
   "metadata": {},
   "source": [
    "(2)根据方程，可以写出方程的特征方程：\n",
    "\n",
    "$${\\lambda}^5-4{\\lambda}^3=0$$\n",
    "\n",
    "得特征方程的根$$\\lambda1=\\lambda2=\\lambda3=0,\\lambda4=2,\\lambda5=-2$$\n",
    "\n",
    "故方程通解$$x=c_1e^{2t}+c_2e^{-2t}+c_3t^{2}+c_4t+c_5.$$"
   ]
  },
  {
   "cell_type": "markdown",
   "metadata": {},
   "source": [
    "(3)根据方程，可以写出它的特征方程：\n",
    "\n",
    "$${\\lambda}^2-a^2=0$$\n",
    "\n",
    "得特征方程的根$$\\lambda1=a,\\lambda2=-a.$$\n",
    "\n",
    "①若$a\\neq0,$则齐次线性方程的通解为\n",
    "\n",
    "$$s=c_1e^{at}+c_2e^{-at}$$\n",
    "\n",
    "设$\\tilde{s}=A+Bt$，代入原方程，解得\n",
    "\n",
    "$$A=B=-\\frac{1}{a^2}$$\n",
    "\n",
    "故方程的通解为\n",
    "\n",
    "$$s=c_1e^{at}+c_2e^{-at}-\\frac{1}{a^2}(t-1).$$\n",
    "\n",
    "②若$a=0,$则令$\\tilde{s}=t^2(r_1 t+r_2),$代入原方程，解得\n",
    "\n",
    "$$r_1=\\frac{1}{6},r_2=\\frac{1}{2},$$\n",
    "\n",
    "故方程的通解为\n",
    "\n",
    "$$s=c_1+c_2t-\\frac{1}{6}{t^2}(t+3).$$"
   ]
  },
  {
   "cell_type": "markdown",
   "metadata": {},
   "source": [
    "(4)根据方程，可以写出它的特征方程：\n",
    "\n",
    "$${\\lambda}^3-4{\\lambda}^2+5\\lambda-2=0$$\n",
    "\n",
    "即$$(\\lambda-1)^2(\\lambda-2)=0$$\n",
    "\n",
    "得特征方程的根$$\\lambda1=2,\\lambda2=\\lambda3=1.$$\n",
    "\n",
    "则齐次线性方程的通解为\n",
    "\n",
    "$$x=c_1e^{2t}+c_2e^{t}+c_3te^{t}.$$\n",
    "\n",
    "因为0不是特征解，故可以取特解：$\\tilde{s}=A+Bt$，代入原方程，解得\n",
    "\n",
    "$$A=-4，B=-1$$\n",
    "\n",
    "故方程的通解为\n",
    "\n",
    "$$x=c_1e^{2t}+c_2e^{t}+c_3te^{t}-t-4.$$"
   ]
  },
  {
   "cell_type": "markdown",
   "metadata": {},
   "source": [
    "(5)根据方程，可以写出它的特征方程：\n",
    "\n",
    "$${\\lambda}^4-2{\\lambda}^2+1=0$$\n",
    "\n",
    "得特征方程的根$$\\lambda1=\\lambda2=1,\\lambda3=\\lambda4=-1.$$\n",
    "\n",
    "则齐次线性方程的通解为\n",
    "\n",
    "$$x=c_1e^{t}+c_2te^{t}+c_3e^{-t}+c_3te^{-t}.$$\n",
    "\n",
    "设$\\tilde{s}=At^2+Bt+C,$代入原方程，解得\n",
    "\n",
    "$$A=1,B=0,C=1.$$\n",
    "\n",
    "故方程的通解为\n",
    "\n",
    "$$x=c_1e^{t}+c_2te^{t}+c_3e^{-t}+c_4te^{-t}+t^2+1.$$"
   ]
  },
  {
   "cell_type": "markdown",
   "metadata": {
    "collapsed": true
   },
   "source": [
    "$A^+$"
   ]
  },
  {
   "cell_type": "code",
   "execution_count": null,
   "metadata": {
    "collapsed": true
   },
   "outputs": [],
   "source": []
  }
 ],
 "metadata": {
  "kernelspec": {
   "display_name": "SageMath 7.3",
   "language": "",
   "name": "sagemath"
  },
  "language_info": {
   "codemirror_mode": {
    "name": "ipython",
    "version": 2
   },
   "file_extension": ".py",
   "mimetype": "text/x-python",
   "name": "python",
   "nbconvert_exporter": "python",
   "pygments_lexer": "ipython2",
   "version": "2.7.10"
  }
 },
 "nbformat": 4,
 "nbformat_minor": 0
}
