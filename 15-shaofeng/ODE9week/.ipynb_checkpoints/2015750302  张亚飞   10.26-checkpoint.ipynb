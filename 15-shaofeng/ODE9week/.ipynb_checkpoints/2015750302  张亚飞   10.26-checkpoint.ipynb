{
 "cells": [
  {
   "cell_type": "markdown",
   "metadata": {},
   "source": [
    "## 习题4.2 ##"
   ]
  },
  {
   "cell_type": "markdown",
   "metadata": {},
   "source": [
    "### 2. ###"
   ]
  },
  {
   "cell_type": "markdown",
   "metadata": {},
   "source": [
    "(1)特征方程为$\\lambda^4-5\\lambda^2+4=0$的根为$\\lambda_1=1,\\lambda_2=-1,\\lambda_3=2,\\lambda_4=-2$\n",
    "\n",
    "所以方程的通解为$$x=c_1\\mathrm e^t+c_2\\mathrm e^{-t}+c_3\\mathrm e^{2t}+c_4\\mathrm e^{-2t}$$\n",
    "这里$c_1,c_2,c_3,c_4$为任意常数"
   ]
  },
  {
   "cell_type": "markdown",
   "metadata": {},
   "source": [
    "(3) 特征方程$\\lambda^5-4\\lambda^3=0$的根为$\\lambda_{1,2,3}=0,\\lambda_4=2,\\lambda_5=-2$\n",
    "\n",
    "所以方程的通解为$$x=c_1+c_2t+c_3t^2+c_4\\mathrm e^{2t}+c_5\\mathrm e^{-2t}$$\n",
    "这里$c_1,c_2,c_3,c_4,c_5$为任意常数"
   ]
  },
  {
   "cell_type": "markdown",
   "metadata": {},
   "source": [
    "(5)$a\\neq0时$齐次方程$s''-a^2s=0$的特征方程$\\lambda^2-a^2=0$的根为$\\lambda_1=a,\\lambda_2=-a$\n",
    "\n",
    "所以通解为$$s=c_1\\mathrm e^{at}+c_2\\mathrm e^{-at}$$\n",
    "再求特解$取\\widetilde s=At+B$带入方程解得$A=B=-\\frac{1}{a^2}$\n",
    "所以方程的通解为$$s=c_1\\mathrm e^{at}+c_2\\mathrm e^{-at}-\\frac{1}{a^2}t-\\frac{1}{a^2}$$\n",
    "这里$c_1,c_2$为任意常数\n",
    "\n",
    "$a=0时$易得$$s=\\frac{t^3}{6}+\\frac{t^2}{2}+c_1t+c_2$$\n",
    "这里$c_1,c_2$为任意常数"
   ]
  },
  {
   "cell_type": "markdown",
   "metadata": {},
   "source": [
    "(6)齐次微分方程的特征方程$\\lambda^3-4\\lambda^2+5\\lambda-2=0$的根为$\\lambda_{1,2}=1,\\lambda_3=2$\n",
    "所以齐次微分方程的通解为$$x=(c_1+c_2t)\\mathrm e^t+c_3\\mathrm e^{2t}$$\n",
    "再求特解，取$\\widetilde s=At+B$,代入方程求解得$A=-1,B=-4$\n",
    "所以方程的通解为$$x=(c_1+c_2t)\\mathrm e^t+c_3\\mathrm e^{2t}-t-4$$\n",
    "这里$c_1,c_2,c_3$为任意常数"
   ]
  },
  {
   "cell_type": "markdown",
   "metadata": {},
   "source": [
    "(7)齐次微分方程的特征方程$\\lambda^4-2\\lambda^2+1=0$的根为$\\lambda_{1,2}=1,\\lambda_{3,4}=-1$\n",
    "所以齐次微分方程的通解为$$x=(c_1+c_2t)\\mathrm e^t+(c_3+c_4t)\\mathrm e^{-t}$$\n",
    "再求特解，取$\\widetilde s=At^2+Bt+C$,代入方程求解得$A=1,B=0,C=1$\n",
    "所以方程的通解为$$x=(c_1+c_2t)\\mathrm e^t+(c_3+c_4t)\\mathrm e^{-t}+t^2+1$$\n",
    "这里$c_1,c_2,c_3,c_4$为任意常数"
   ]
  },
  {
   "cell_type": "markdown",
   "metadata": {
    "collapsed": true
   },
   "source": [
    "$B^+$"
   ]
  },
  {
   "cell_type": "code",
   "execution_count": null,
   "metadata": {
    "collapsed": true
   },
   "outputs": [],
   "source": []
  }
 ],
 "metadata": {
  "kernelspec": {
   "display_name": "SageMath 7.3",
   "language": "",
   "name": "sagemath"
  },
  "language_info": {
   "codemirror_mode": {
    "name": "ipython",
    "version": 2
   },
   "file_extension": ".py",
   "mimetype": "text/x-python",
   "name": "python",
   "nbconvert_exporter": "python",
   "pygments_lexer": "ipython2",
   "version": "2.7.10"
  }
 },
 "nbformat": 4,
 "nbformat_minor": 0
}
