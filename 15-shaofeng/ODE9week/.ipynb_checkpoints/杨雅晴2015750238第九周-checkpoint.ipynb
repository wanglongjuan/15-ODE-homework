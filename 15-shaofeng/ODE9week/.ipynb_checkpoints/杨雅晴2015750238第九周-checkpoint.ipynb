{
 "cells": [
  {
   "cell_type": "markdown",
   "metadata": {},
   "source": [
    "## 求解下列常系数线性微分方程"
   ]
  },
  {
   "cell_type": "markdown",
   "metadata": {},
   "source": [
    "### 1.$x^{(4)}-5x''+4x=0$"
   ]
  },
  {
   "cell_type": "markdown",
   "metadata": {},
   "source": [
    "**解：** 特征方程为$$\\lambda ^4-5\\lambda ^2+4=0$$\n",
    "         则方程的四个单根为$\\lambda_1=1$,$\\lambda_2=-1$,$\\lambda_3=2$,$\\lambda_4=-2$\n",
    "         所以方程通解为$$x=c_1e^t+c_2e^{-t}+c_3e^{2t}+c_4e^{-2t}$$\n",
    "         其中$c_1$,$c_2$,$c_3$,$c_4$为任意常数。"
   ]
  },
  {
   "cell_type": "markdown",
   "metadata": {},
   "source": [
    "## 3.$x^{(5)}-4x'''=0$"
   ]
  },
  {
   "cell_type": "markdown",
   "metadata": {},
   "source": [
    "**解：** 特征方程为$$\\lambda^5-4\\lambda^3=0$$\n",
    "         则方程的3个单根为$\\lambda_1=0$,$\\lambda_2=2$,$\\lambda_3=-2$\n",
    "         所以方程通解为$$x=c_1+c_2e^{2t}+c_3e^{-2t}$$\n",
    "         其中$c_1$,$c_2$,$c_3$为任意常数。"
   ]
  },
  {
   "cell_type": "markdown",
   "metadata": {},
   "source": [
    "## 5.$s''-a^2s=t+1$"
   ]
  },
  {
   "cell_type": "markdown",
   "metadata": {},
   "source": [
    "**解：** 特征方程为$$\\lambda ^2-a^2=0$$\n",
    "          则方程的两个单根为$\\lambda_1=a$,$\\lambda_2=-a$"
   ]
  },
  {
   "cell_type": "markdown",
   "metadata": {},
   "source": [
    "当$a\\not=0$时，设方程有特解$s_0=At+B$，代入方程得$$A=B=-\\frac{1} {a^2}$$所以方程的解为$$s=c_1e^{at}+c_2e^{-at}-\\frac{1} {a^2}(t+1)$$\n",
    "当$a=0$时，原方程化为$s'''=t+1$，对方程两次积分得$$s=\\frac{t^3} {6}+\\frac{t^2} {2}+c_1t+c_2$$\n",
    "其中$c_1$,$c_2$是任意常数。"
   ]
  },
  {
   "cell_type": "markdown",
   "metadata": {},
   "source": [
    "## 6.$x'''-4x''+5x'-2x=2t+3$"
   ]
  },
  {
   "cell_type": "markdown",
   "metadata": {},
   "source": [
    "**解：** 特征方程为$$\\lambda ^3-4\\lambda ^2+5\\lambda-2=0$$则方程的根为$\\lambda_1=\\lambda_2=1$,$\\lambda_3=2$"
   ]
  },
  {
   "cell_type": "markdown",
   "metadata": {},
   "source": [
    "设方程有特解$x_0=At+B$，代入原方程得$$A=-1，B=-4$$所以原方程的通解为$$x=(c_1+c_2t)e^t+c_3e^{2t}-t-4$$其中$c_1$,$c_2$,$c_3$为任意常数。"
   ]
  },
  {
   "cell_type": "markdown",
   "metadata": {},
   "source": [
    "## 7.$x^{(4)}-2x''+x=t^2-3$"
   ]
  },
  {
   "cell_type": "markdown",
   "metadata": {},
   "source": [
    "**解：** 特征方程为$$\\lambda^4-2\\lambda^2+1=0$$则方程的根为$\\lambda_1=\\lambda_2=1$,$\\lambda_3=\\lambda_4=-1$"
   ]
  },
  {
   "cell_type": "markdown",
   "metadata": {},
   "source": [
    "设方程有特解$x_0=At^2+Bt+C$，代入原方程得$$A=1，B=0，C=1$$所以原方程的通解为$$x=(c_1+c_2t)e^t+(c_3+c_4t)e^{-t}+t^2+1$$其中$c_1$,$c_2$,$c_3$,$c_4$为任意常数。"
   ]
  },
  {
   "cell_type": "markdown",
   "metadata": {},
   "source": [
    "A"
   ]
  },
  {
   "cell_type": "code",
   "execution_count": null,
   "metadata": {
    "collapsed": true
   },
   "outputs": [],
   "source": []
  }
 ],
 "metadata": {
  "kernelspec": {
   "display_name": "SageMath 7.3",
   "language": "",
   "name": "sagemath"
  },
  "language_info": {
   "codemirror_mode": {
    "name": "ipython",
    "version": 2
   },
   "file_extension": ".py",
   "mimetype": "text/x-python",
   "name": "python",
   "nbconvert_exporter": "python",
   "pygments_lexer": "ipython2",
   "version": "2.7.10"
  }
 },
 "nbformat": 4,
 "nbformat_minor": 0
}
