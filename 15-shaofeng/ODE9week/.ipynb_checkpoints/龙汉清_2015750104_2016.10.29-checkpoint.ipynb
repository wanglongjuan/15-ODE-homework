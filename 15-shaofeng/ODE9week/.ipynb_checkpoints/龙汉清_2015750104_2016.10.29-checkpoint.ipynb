{
 "cells": [
  {
   "cell_type": "markdown",
   "metadata": {},
   "source": [
    "# The homework of ODE"
   ]
  },
  {
   "cell_type": "markdown",
   "metadata": {},
   "source": [
    "## Solve the following constant coefficient differential equation"
   ]
  },
  {
   "cell_type": "markdown",
   "metadata": {},
   "source": [
    "### 1. $x^{(4)} - 5x'' + 4x = 0$"
   ]
  },
  {
   "cell_type": "markdown",
   "metadata": {},
   "source": [
    "solve the equation $\\quad$ $\\lambda ^4 − 5\\lambda ^2 + 4\\lambda = 0$ $\\quad$ we get $\\quad$ $\\lambda = \\pm 1$ $\\quad$ or $\\quad$ $\\lambda = \\pm 2$  \n",
    "\n",
    "so, the general solution is :\n",
    "$$\n",
    "x = c_1e^t + c_2e^{-t} + c_3e^{2t} + c_4e^{-2t}\n",
    "$$"
   ]
  },
  {
   "cell_type": "markdown",
   "metadata": {},
   "source": [
    "### 2. $x^{(5)} - 4x''' = 0$"
   ]
  },
  {
   "cell_type": "markdown",
   "metadata": {},
   "source": [
    "solve the equation $\\quad$ $\\lambda ^5 − 4\\lambda ^3 = 0$ $\\quad$ we get $\\quad$ $\\lambda = 0$ $\\quad$ or $\\quad$ $\\lambda = \\pm 2$  \n",
    "\n",
    "so, the general solution is :\n",
    "$$\n",
    "x = c_1 + c_2t + c_3t^2 + c_4e^{2t} + c_5e^{-2t}\n",
    "$$"
   ]
  },
  {
   "cell_type": "markdown",
   "metadata": {},
   "source": [
    "### 3. $s'' - a^2s = t + 1$"
   ]
  },
  {
   "cell_type": "markdown",
   "metadata": {},
   "source": [
    "**case 1 :** $\\quad$ $a \\neq 0$  \n",
    "\n",
    "solve the equation $\\quad$ $\\lambda ^2 − a^2 = 0$ $\\quad$ we get $\\quad$ $\\lambda = \\pm a$  \n",
    "\n",
    "let $\\quad$ $\\tilde{s} = B_0t + B_1$ $\\quad$ then \n",
    "$$\n",
    "\\begin{cases}\n",
    "-a^2B_0 = 1\\\\\n",
    "-a^2B_1 = 1\\\\\n",
    "\\end{cases}\n",
    "$$\n",
    "so $\\quad$ $\\tilde{s} = -{1 \\over a^2}(t + 1)$\n",
    "\n",
    "so, the general solution is :\n",
    "$$\n",
    "s = c_1e^{at} + c_2e^{-at} - {1 \\over a^2}(t + 1)\n",
    "$$\n",
    "\n",
    "**case 2 :** $\\quad$ $a = 0$\n",
    "\n",
    "the general solution is :\n",
    "$$\n",
    "s = {1 \\over 6}t^3 + {1 \\over 2}t^2 + c_1t + c+2\n",
    "$$"
   ]
  },
  {
   "cell_type": "markdown",
   "metadata": {},
   "source": [
    "### 4. $x''' - 4x'' + 5x' - 2x = 2t + 3$"
   ]
  },
  {
   "cell_type": "markdown",
   "metadata": {},
   "source": [
    "solve the equation $\\quad$ $\\lambda ^3 − 4\\lambda ^2 + 5\\lambda - 2 = 0$ $\\quad$ we get $\\quad$ $\\lambda = 2$   $\\quad$ or $\\quad$ $\\lambda = 1$\n",
    "\n",
    "let $\\quad$ $\\tilde{x} = B_0t + B_1$ $\\quad$ then \n",
    "$$\n",
    "\\begin{cases}\n",
    "-2B_0 = 2\\\\\n",
    "5B_0 - 2B_1 = 3\\\\\n",
    "\\end{cases}\n",
    "$$\n",
    "so $\\quad$ $\\tilde{x} = -t - 4$\n",
    "\n",
    "so, the general solution is :\n",
    "$$\n",
    "s = c_1e^{2t} + c_2e^t + c_3te^t -t - 4\n",
    "$$"
   ]
  },
  {
   "cell_type": "markdown",
   "metadata": {},
   "source": [
    "### 5. $x^{(4)} - 2x'' + x = t^2 - 3$"
   ]
  },
  {
   "cell_type": "markdown",
   "metadata": {},
   "source": [
    "solve the equation $\\quad$ $\\lambda ^4 − 2\\lambda ^2 + 1 = 0$ $\\quad$ we get $\\quad$ $\\lambda = \\pm 1$\n",
    "\n",
    "let $\\quad$ $\\tilde{x} = B_0t^2 + B_1t + B_2$ $\\quad$ then \n",
    "$$\n",
    "\\begin{cases}\n",
    "B_0 = 1\\\\\n",
    "B_1 = 0\\\\\n",
    "-4B_0 + B_2 = -3\\\\\n",
    "\\end{cases}\n",
    "$$\n",
    "so $\\quad$ $\\tilde{s} = t^2 + 1$\n",
    "\n",
    "so, the general solution is :\n",
    "$$\n",
    "s = c_1e^t + c_2te^t + c_3e^{-t} + c_4te^{-t} + t^2 + 1\n",
    "$$"
   ]
  },
  {
   "cell_type": "markdown",
   "metadata": {
    "collapsed": true
   },
   "source": [
    "$A^+$"
   ]
  },
  {
   "cell_type": "code",
   "execution_count": null,
   "metadata": {
    "collapsed": true
   },
   "outputs": [],
   "source": []
  }
 ],
 "metadata": {
  "kernelspec": {
   "display_name": "SageMath 7.3",
   "language": "",
   "name": "sagemath"
  },
  "language_info": {
   "codemirror_mode": {
    "name": "ipython",
    "version": 2
   },
   "file_extension": ".py",
   "mimetype": "text/x-python",
   "name": "python",
   "nbconvert_exporter": "python",
   "pygments_lexer": "ipython2",
   "version": "2.7.10"
  }
 },
 "nbformat": 4,
 "nbformat_minor": 0
}
