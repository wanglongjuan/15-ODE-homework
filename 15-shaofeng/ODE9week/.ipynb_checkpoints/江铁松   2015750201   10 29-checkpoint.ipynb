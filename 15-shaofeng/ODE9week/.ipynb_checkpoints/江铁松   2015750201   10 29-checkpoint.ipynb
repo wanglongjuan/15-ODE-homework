{
 "cells": [
  {
   "cell_type": "markdown",
   "metadata": {},
   "source": [
    "# 习题4.2"
   ]
  },
  {
   "cell_type": "markdown",
   "metadata": {},
   "source": [
    "### 求解下列常系数线性微分方程。"
   ]
  },
  {
   "cell_type": "markdown",
   "metadata": {},
   "source": [
    "$(1)x^{(4)}-5x''+4x=0$"
   ]
  },
  {
   "cell_type": "markdown",
   "metadata": {},
   "source": [
    "**解**\n",
    "\n",
    "$特征方程为\\lambda^4-5\\lambda^2+4=0$\n",
    "\n",
    "$解得\\lambda_1=1,\\lambda _2=-1,\\lambda_3=2,\\lambda_4=-2$\n",
    "\n",
    "$所以方程的通解为x=c_1e^t+c_2e^{-t}+c_3e^{2t}+c_4^{-2t}$"
   ]
  },
  {
   "cell_type": "markdown",
   "metadata": {},
   "source": [
    "$(3)x^{(5)}-4'''=0$"
   ]
  },
  {
   "cell_type": "markdown",
   "metadata": {},
   "source": [
    "**解**\n",
    "\n",
    "$特征方程为\\lambda^5-4\\lambda^3=0$\n",
    "\n",
    "$解得\\lambda_1=0，\\lambda_2=2，\\lambda_3=-2$\n",
    "\n",
    "$其中0是三重根，2，-2均为单根$\n",
    "\n",
    "$所以方程的一个基本解组为1，t,t^2,e^{2t},e^{-2t}。$\n",
    "\n",
    "$所以方程的通解为x=c_1+c_2t+c_3t^2+c_4e^{2t}+c_5e^{-2t}$\n",
    "\n"
   ]
  },
  {
   "cell_type": "markdown",
   "metadata": {},
   "source": [
    "(5)$s''-a^2s=t+1$"
   ]
  },
  {
   "cell_type": "markdown",
   "metadata": {},
   "source": [
    "**解**\n",
    "\n",
    "$特征方程为\\lambda^2-a^2=0$\n",
    "\n",
    "$解得\\lambda_1=a,\\lambda_2=-a$\n",
    "\n",
    "$(1)当a\\neq 0时$\n",
    "\n",
    "$设特解为\\bar{s}=B_0t+B_1$\n",
    "\n",
    "$代入原微分方程比较系数得B_0=B_1=-\\frac{1}{a^2}$\n",
    "\n",
    "$故特解\\bar{s}=-\\frac{1}{a^2}t-\\frac{1}{a^2}$\n",
    "\n",
    "$方程的通解为s=c_1e^{at}+c_2e^{-at}-\\frac{1}{a^2}t-\\frac{1}{a^2}$\n",
    "\n",
    "(2)$当a=0时$\n",
    "\n",
    "$特征方程为\\lambda^2=0$\n",
    "\n",
    "$0是方程的二重根$\n",
    "\n",
    "$设特解为$\\bar{s}=t^2(B_0t+B_1)$\n",
    "\n",
    "$代入原方程比较系数得B_0=\\frac{1}{6},B_1=\\frac{1}{2}$。\n",
    "\n",
    "$所以方程的通解为c_1+c_2t+\\frac{1}{6}t^3+\\frac{1}{2}t^2$\n"
   ]
  },
  {
   "cell_type": "markdown",
   "metadata": {},
   "source": [
    "$(6)x'''-4x''+5x'-2x=2t+3$"
   ]
  },
  {
   "cell_type": "markdown",
   "metadata": {},
   "source": [
    "**解**\n",
    "$特征方程为\\lambda^3-4\\lambda^2+5\\lambda-2=0$\n",
    "\n",
    "$解得\\lambda_1=2,\\lambda_2=1,其中1是二重根$\n",
    "\n",
    "$设特解\\bar{x}=B_0t+B_1$\n",
    "\n",
    "$代入微分方程比较系数得B_0=-1,B_1=-4$\n",
    "\n",
    "$所以特解为\\bar{x}=-t-4$\n",
    "\n",
    "$所以通解为x=c_1e^{2t}+c_2e^{t}+c_3te^t-t-4$\n",
    "\n",
    "\n"
   ]
  },
  {
   "cell_type": "markdown",
   "metadata": {},
   "source": [
    "$(7)x^{(4)}-2x''+x=t^2-3$"
   ]
  },
  {
   "cell_type": "markdown",
   "metadata": {},
   "source": [
    "**解**\n",
    "\n",
    "$特征方程为\\lambda^4-2\\lambda^2+1=0$\n",
    "\n",
    "$解得\\lambda_1=1,\\lambda_2=-1,两根均为二重根。$\n",
    "\n",
    "$设特解\\bar{s}=B_0t^2+B_1$\n",
    "\n",
    "$代入微分方程比较系数得B_0=B_1=1$\n",
    "\n",
    "$特解为t^2+1$\n",
    "\n",
    "$通解为c_1e^t+c_2te^t+c_3e^{-t}+c_4te^{-t}+t^2+1$\n",
    "\n",
    "\n",
    "\n",
    "A\n",
    "\n",
    "\n",
    "\n",
    "\n"
   ]
  },
  {
   "cell_type": "code",
   "execution_count": null,
   "metadata": {
    "collapsed": true
   },
   "outputs": [],
   "source": []
  }
 ],
 "metadata": {
  "kernelspec": {
   "display_name": "SageMath 7.3",
   "language": "",
   "name": "sagemath"
  },
  "language_info": {
   "codemirror_mode": {
    "name": "ipython",
    "version": 2
   },
   "file_extension": ".py",
   "mimetype": "text/x-python",
   "name": "python",
   "nbconvert_exporter": "python",
   "pygments_lexer": "ipython2",
   "version": "2.7.10"
  }
 },
 "nbformat": 4,
 "nbformat_minor": 0
}
