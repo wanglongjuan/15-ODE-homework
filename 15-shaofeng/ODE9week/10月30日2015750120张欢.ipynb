{
 "cells": [
  {
   "cell_type": "markdown",
   "metadata": {},
   "source": [
    "# 求解下列常系数微分方程"
   ]
  },
  {
   "cell_type": "markdown",
   "metadata": {},
   "source": [
    "## 1.$x^{(4)}-5x^{\\prime\\prime}+4x=0$"
   ]
  },
  {
   "cell_type": "markdown",
   "metadata": {},
   "source": [
    "### 解\n",
    "\n",
    "这个的特征方程为$\\lambda^4-5\\lambda^2+4=0$\n",
    "\n",
    "所以它的根为$$\\lambda_1=2,\\lambda_2=-2,\\lambda_3=1.\\lambda_4=-1$$\n",
    "都是4个实根，均是单根，故它的通解为\n",
    "$$x=c_1*e^{4t}+c_2*e^{-4t}+c_3*e^{t}+c_4*e^{-t}$$\n",
    "这里$c_1,c_2,c_3,c_4.$是任意常数。"
   ]
  },
  {
   "cell_type": "markdown",
   "metadata": {},
   "source": [
    "## 2.$x^{(5)}-4x^{(3)}=0$"
   ]
  },
  {
   "cell_type": "markdown",
   "metadata": {},
   "source": [
    "### 解\n",
    "\n",
    "它的特征方程为$\\lambda^5-4x^3=0$\n",
    "\n",
    "所以特征方程的根为\n",
    "$$\\lambda_1=0,\\lambda_1是三重根,\\lambda_4=2,\\lambda_5=-2$$\n",
    "都是实根，故它的通解为\n",
    "$$x=c_1+c_2*t+c_3*t^2+c_4*e^{2t}+c_5*e^{-2t}$$\n",
    "这里$c_1,c_2,c_3,c_4,c_5$是任意常数。"
   ]
  },
  {
   "cell_type": "markdown",
   "metadata": {},
   "source": [
    "## 3.$x^{\\prime\\prime}-a^2x=t+1$"
   ]
  },
  {
   "cell_type": "markdown",
   "metadata": {},
   "source": [
    "### 解\n",
    "\n",
    "特征方程为$\\lambda^2-a^2=0$\n",
    "\n",
    "所以特征方程的根为\n",
    "$$\\lambda_1=a,\\lambda_2=-a$$\n",
    "对a讨论：\n",
    "\n",
    "(1)当$a\\neq 0$时，齐次线性方程的通解为$x=c_1*e^{at}+c_2*e^{-at}$\n",
    "\n",
    "$\\hat{x}=A+Bt$代入原方程得$A=B=-\\frac{1}{a^2}$\n",
    "\n",
    "故通解为$$x=c_1*e^{at}+c_2*e^{-at}-\\frac{1}{a^2}*(t-1)$$\n",
    "(2)当$a=0$时，把$\\hat{x}=t^2(\\gamma_1t+\\gamma_2)$代入原方程得$\\gamma_1=\\frac{1}{6},\\gamma_2=\\frac{1}{2}$\n",
    "故方程的通解为\n",
    "$$x=c_1+c_2t-\\frac{1}{6}t^2(t+3)$$"
   ]
  },
  {
   "cell_type": "markdown",
   "metadata": {},
   "source": [
    "## 4.$x^{\\prime\\prime\\prime}-4x^{\\prime\\prime}+5x^{\\prime}-2x=2t+3$"
   ]
  },
  {
   "cell_type": "markdown",
   "metadata": {},
   "source": [
    "### 解\n",
    "\n",
    "特征方程为$\\lambda^3-4\\lambda^2+5\\lambda-2=0$\n",
    "\n",
    "所以特征方程的根为$$两重根\\lambda_1=1,\\lambda_2=2$$\n",
    "齐次线性方程的通解为$$x=c_1*e^{2t}+c_2*e^t+c_3t*e^t$$\n",
    "又$\\lambda=0$不是特征根，\n",
    "\n",
    "所以可以取特解$\\hat{x}=A+Bt$带入原方程得$A=-4,B=-1$\n",
    "\n",
    "故通解为$$x=c_1*e^{2t}+(c_2+c_3t)*e^t-4-t$$"
   ]
  },
  {
   "cell_type": "markdown",
   "metadata": {},
   "source": [
    "## 5.$x^{(4)}-2x^{\\prime\\prime}+x=t^2-3$"
   ]
  },
  {
   "cell_type": "markdown",
   "metadata": {},
   "source": [
    "### 解\n",
    "\n",
    "特征方程为$\\lambda^4-2\\lambda^2+1=0$\n",
    "\n",
    "所以特征方程的根为$两重根\\lambda_1=1,两重根\\lambda_2=-1$\n",
    "\n",
    "方程的通解为$$x=c_1*e^t+c_2t*e^t+c_3*e^{-t}+c_4t*e^{-t}$$\n",
    "\n",
    "取特解$x_1=At^2+Bt+c$代入原方程解得$$A=1,B=0,C=1$$\n",
    "\n",
    "故通解为$$x=c_1*e^t+c_2t*e^t+c_3*e^{-t}+c_4t*e^{-t}+t^2+1$$"
   ]
  },
  {
   "cell_type": "markdown",
   "metadata": {},
   "source": [
    "B"
   ]
  },
  {
   "cell_type": "markdown",
   "metadata": {},
   "source": []
  },
  {
   "cell_type": "markdown",
   "metadata": {},
   "source": []
  },
  {
   "cell_type": "markdown",
   "metadata": {},
   "source": []
  },
  {
   "cell_type": "markdown",
   "metadata": {},
   "source": []
  },
  {
   "cell_type": "markdown",
   "metadata": {},
   "source": []
  },
  {
   "cell_type": "markdown",
   "metadata": {},
   "source": []
  },
  {
   "cell_type": "markdown",
   "metadata": {},
   "source": []
  },
  {
   "cell_type": "markdown",
   "metadata": {},
   "source": []
  },
  {
   "cell_type": "markdown",
   "metadata": {},
   "source": []
  }
 ],
 "metadata": {
  "kernelspec": {
   "display_name": "SageMath 7.3",
   "language": "",
   "name": "sagemath"
  },
  "language_info": {
   "codemirror_mode": {
    "name": "ipython",
    "version": 2
   },
   "file_extension": ".py",
   "mimetype": "text/x-python",
   "name": "python",
   "nbconvert_exporter": "python",
   "pygments_lexer": "ipython2",
   "version": "2.7.10"
  }
 },
 "nbformat": 4,
 "nbformat_minor": 0
}
