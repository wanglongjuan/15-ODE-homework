{
 "cells": [
  {
   "cell_type": "markdown",
   "metadata": {},
   "source": [
    "### 2、求解下列常系数线性微分方程"
   ]
  },
  {
   "cell_type": "markdown",
   "metadata": {},
   "source": [
    "（1）$x^{(4)}-5x^{\\prime\\prime}+4x=0;$"
   ]
  },
  {
   "cell_type": "markdown",
   "metadata": {},
   "source": [
    "特征方程${\\lambda}^{4}-5{\\lambda}^{\\prime\\prime}+4{\\lambda}=0$有四个不同的实根\n",
    "${\\lambda}_1=1  ，{\\lambda}_2=-1 ， {\\lambda}_3=2  ，{\\lambda}_4=-2$ 所以齐次线性微分方程的通解为$$x=c_1e^t+c_2e^{-t}+c_3e^{2t}+c_4e^{-2t}$$\n",
    "其中$c_1,c_2,c_3,c_4$ 为任意常数。"
   ]
  },
  {
   "cell_type": "markdown",
   "metadata": {},
   "source": [
    "(3)$x^{(5)}-4x^{\\prime\\prime\\prime}=0$ ;"
   ]
  },
  {
   "cell_type": "markdown",
   "metadata": {},
   "source": [
    "特征方程${\\lambda}^{5}-4{\\lambda}^3=0$有五个根${\\lambda}_1=0(三重) ，{\\lambda}_2=2，{\\lambda}_3=-2$\n",
    "\n",
    "所以齐次线性微分方程的通解为$$x=c_1+c_2t+c_3t^2+c_4e^{-2t}+c_5e^{2t}$$\n",
    "其中$c_1,c_2,c_3,c_4，c_5$ 为任意常数。"
   ]
  },
  {
   "cell_type": "markdown",
   "metadata": {},
   "source": [
    "(5)$s^{\\prime\\prime}-a^2s=t+1$  ;"
   ]
  },
  {
   "cell_type": "markdown",
   "metadata": {},
   "source": [
    "特征方程为${\\lambda}^2-a^2=0$\n",
    "\n",
    "当a=0时，特征方程有根$\\lambda=0$,且为二重根，此时对应的齐次线性微分方程的通解为$$x=c_1+c_2t$$其中$c_1,c_2$ 为任意常数。\n",
    "\n",
    "再求非齐次线性微分方程的一个特解，由于$f(t)=t+1$,$\\lambda=0$是特征方程的解，所以可取特解形如$\\tilde x=t^2(At+B)$其中A,B待定，把$\\tilde x=t^2(At+B)$代入原方程中，用待定系数法求得$A=\\frac{1}{6},B=\\frac{1}{2}$ \n",
    "\n",
    "所以原方程的通解为$x=c_1+c_2t+\\frac{1}{6}t^2(t+3)$\n",
    "\n",
    "当$a\\neq0$时,特征方程有两个根${\\lambda}_1=a,{\\lambda}_2=-a$\n",
    "\n",
    "所以齐次线性微分方程的通解为$$x=c_1e^{at}+c_2e^{-at}$$\n",
    "其中$c_1,c_2,$ 为任意常数。\n",
    "\n",
    "再求非齐次线性微分方程的一个特解，由于$f(t)=t+1$,$\\lambda=0$不是特征方程的解，所以可取特解形如$\\tilde x=At+B$其中A,B待定，把$\\tilde x=At+B$代入原方程中，用待定系数法求得$A=\\frac{1}{-a^2},B=\\frac{1}{-a^2}$ \n",
    "\n",
    "所以原方程的通解为$x=c_1e^{at}+c_2e^{-at}+\\frac{1}{-a^2}(t+1)$"
   ]
  },
  {
   "cell_type": "markdown",
   "metadata": {},
   "source": [
    "(6)$x^{\\prime\\prime\\prime}-4x^{\\prime\\prime}+5x^{\\prime}-2x=2t+3$  ;"
   ]
  },
  {
   "cell_type": "markdown",
   "metadata": {},
   "source": [
    "特征方程为${\\lambda}^3-4{\\lambda}^2+5\\lambda-2=0$ 有根${\\lambda}_1=1(二重) ，{\\lambda}_2=2$，此时对应的齐次线性微分方程的通解为$$x=c_1e^t+c_2te^t+c_3e^{2t}$$\n",
    "其中$c_1,c_2,c_3$, 为任意常数。\n",
    "\n",
    "再求非齐次线性微分方程的一个特解，由于$f(t)=2t+3$,$\\lambda=0$不是特征方程的解，所以可取特解形如$\\tilde x=At+B$其中A,B待定，把$\\tilde x=At+B$代入原方程中，用待定系数法求得$A=-1,B=4$ \n",
    "\n",
    "所以原方程的通解为$x=c_1e^t+c_2te^t+c_3e^{2t}-t+4$"
   ]
  },
  {
   "cell_type": "markdown",
   "metadata": {},
   "source": [
    "(7)$x^{(4)}-2x^{\\prime\\prime}+x=t^2-3$  ;"
   ]
  },
  {
   "cell_type": "markdown",
   "metadata": {},
   "source": [
    "特征方程为${\\lambda}^4-2{\\lambda}^2+1=0$ 有根${\\lambda}_1=1(二重) ，{\\lambda}_2=-1(二重)$，此时对应的齐次线性微分方程的通解为$$x=c_1e^t+c_2te^t+c_3e^{-t}+c_4te^{-t}$$\n",
    "其中$c_1,c_2,c_3, c_4$为任意常数。\n",
    "\n",
    "再求非齐次线性微分方程的一个特解，由于$f(t)=t^2-3$,$\\lambda=0$不是特征方程的解，所以可取特解形如$\\tilde x=At^2+B$其中A,B待定，把$\\tilde x=At^2+B$代入原方程中，用待定系数法求得$A=1,B=1$ \n",
    "\n",
    "所以原方程的通解为$x=c_1e^t+c_2te^t+c_3e^{-t}+c_4te^{-t}+t^2+1$\n"
   ]
  },
  {
   "cell_type": "markdown",
   "metadata": {
    "collapsed": true
   },
   "source": [
    "$A^+$"
   ]
  },
  {
   "cell_type": "code",
   "execution_count": null,
   "metadata": {
    "collapsed": true
   },
   "outputs": [],
   "source": []
  }
 ],
 "metadata": {
  "kernelspec": {
   "display_name": "SageMath 7.3",
   "language": "",
   "name": "sagemath"
  },
  "language_info": {
   "codemirror_mode": {
    "name": "ipython",
    "version": 2
   },
   "file_extension": ".py",
   "mimetype": "text/x-python",
   "name": "python",
   "nbconvert_exporter": "python",
   "pygments_lexer": "ipython2",
   "version": "2.7.10"
  }
 },
 "nbformat": 4,
 "nbformat_minor": 0
}
