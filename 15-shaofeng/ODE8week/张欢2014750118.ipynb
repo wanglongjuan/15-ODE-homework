{
 "cells": [
  {
   "cell_type": "markdown",
   "metadata": {},
   "source": [
    "# Page131"
   ]
  },
  {
   "cell_type": "markdown",
   "metadata": {},
   "source": [
    "## 一、设$x(t)$和$y(t)$是区间$a≤t≤b$上的连续函数，证明：如果在区间$a≤t≤b$上有$\\frac{x(t)}{y(t)}≠$常数或$\\frac{y(t)}{x(t)}≠$常数，则$x(t)$和$y(t)$在区间$a≤t≤b$上线性无关。（提示：用反证法。）"
   ]
  },
  {
   "cell_type": "markdown",
   "metadata": {},
   "source": [
    "**解：**设$x(t)和y(t)$在[a,b]线性相关\n",
    "\n",
    "情形一：任意给定$t_0 \\in [a,b]$,当$x(t_0),y(t_0)$不等于0时，则存在不全为0的$c_1和c_2，$使得$c_1x(t_0)+c_2y(t_0)=0$\n",
    "\n",
    "$ \\to  \\frac{x(t_0)}{y(t_0)}或者 \\frac{y(t_0)}{x(t_0)}=0$,与已知矛盾，故假设不成立\n",
    "\n",
    "情形二：$ \\exists t_0$使得$x(t_0)=0,或y(t_0)=0,或x(t_0)=0且y(t_0)=0$，则$x(t_0)=0可以表示为y(t_0)=0$的任意常数倍，这与已知条件矛盾，故假设不成立\n",
    "\n",
    "综上，$x(t)和y(t)$在[a,b]线性无关"
   ]
  },
  {
   "cell_type": "markdown",
   "metadata": {},
   "source": [
    "## 二、证明非齐次线性微分方程的叠加原理：设$x_1(t),x_2(t)$分别是非齐次线性微分方程\n",
    "\n",
    "## $\\frac{\\mathrm d^n x}{\\mathrm d t^n}+a_1(t)\\frac{\\mathrm d^{n-1} x}{\\mathrm d t^{n-1}}+...+a_n(t)x=f_1(t)$\n",
    "\n",
    "## $\\frac{\\mathrm d^n x}{\\mathrm d t^n}+a_1(t)\\frac{\\mathrm d^{n-1} x}{\\mathrm d t^{n-1}}+...+a_n(t)x=f_2(t)$\n",
    "\n",
    "## 的解\n",
    "\n",
    "## 则$x_1(t)+x_2(t)$是方程$\\frac{\\mathrm d^n x}{\\mathrm d t^n}+a_1(t)\\frac{\\mathrm d^{n-1} x}{\\mathrm d t^{n-1}}+...+a_n(t)x=f_1(t)+f_2(t)$的解"
   ]
  },
  {
   "cell_type": "markdown",
   "metadata": {},
   "source": [
    "**证明：**由题知\n",
    "\n",
    "$因为x_1(t),x_2(t)分别是非齐次线性微分方程：$\n",
    "\n",
    "$\\frac{d^nx}{dt^n}+a_1(t)\\frac{d^{n-1}x}{dt^{n-1}}+...+a_n(t)x=f_1(t)$\n",
    "\n",
    "$\\frac{d^nx}{dt^n}+a_1(t)\\frac{d^{n-1}x}{dt^{n-1}}+...+a_n(t)x=f_2(t)$\n",
    "\n",
    "的解，即有：\n",
    "\n",
    "$\\frac{d^nx_1(t)}{dt}+a_1(t)\\frac{d^{n-1}x_1(t)}{dt}+...+a_n(t)x_1(t)=f_1(t)$......(1)\n",
    "\n",
    "$\\frac{d^nx_2(t)}{dt}+a_1(t)\\frac{d^{n-1}x_2(t)}{dt}+...+a_n(t)x_2(t)=f_2(t)$......(2)\n",
    "\n",
    "由(1)+(2)得：\n",
    "\n",
    "$\\frac{d^n[x_1(t)+x_2(t)]}{dt^n}+a_1(t)\\frac{d^{n-1}[x_1(t)+x_2(t)]}{dt^{n-1}}+...+a^n(t)[x_1(t)+x_2(t)]=f_1(t)+f_2(t)$\n",
    "\n",
    "即$x_1(t)+x_2(t)为方程\\frac{d^nx}{dt^n}+a_1(t)\\frac{d^{n-1}x}{dt^{n-1}}+...+a^n(t)x=f_1(t)+f_2(t)$的解"
   ]
  },
  {
   "cell_type": "markdown",
   "metadata": {},
   "source": [
    "## 三、已知齐次线性微分方程的基本解组$x_1,x_2$，求下列方程对应的非齐次线性微分方程的通解：\n",
    "\n",
    "## $1. x^{\\prime\\prime}-x=\\cos t,x_1=e^t,x_2=e^{-t}$\n",
    "\n",
    "## $2. x^{\\prime\\prime}+4x=t\\sin 2t,x_1=\\cos 2t,x_2=\\sin 2t$\n",
    "\n",
    "## $3. t^2x^{\\prime\\prime}-tx^\\prime+x=6t+34t^2,x_1=t,x_2=t\\ln t$"
   ]
  },
  {
   "cell_type": "markdown",
   "metadata": {},
   "source": [
    "**解：**由常数变易法\n",
    "\n",
    "1.\n",
    "\n",
    "$令x=C_1(t)e^t+C_2(t)e^{-t},代入方程，得：$\n",
    "\n",
    "$C_1'(t)e^t+C_2'(t)e^{-t}=0$\n",
    "\n",
    "$C_1'(t)e^t-C_2'(t)e^{-t}=cost$\n",
    "\n",
    "解得\n",
    "\n",
    "$C_1'(t)=\\frac{1}{2}e^{-t}cost$\n",
    "\n",
    "$C_2'(t)=-\\frac{1}{2}e^tcost$\n",
    "\n",
    "由此\n",
    "\n",
    "$C_1(t)=\\frac{sint-cost}{4}e^{-t}+γ_1$\n",
    "\n",
    "$C_2(t)=-\\frac{sint+cost}{4}e^t+γ_2$\n",
    "\n",
    "所以原方程的通解为$x=γ_1e^t+γ_2e^{-t}-\\frac{1}{2}cost$"
   ]
  },
  {
   "cell_type": "markdown",
   "metadata": {},
   "source": [
    "2.(题做错了)\n",
    "\n",
    "$令x=C_1(t)cos2t+C_2(t)sin2t,代入方程，得$\n",
    "\n",
    "$C_1'(t)cos2t+C_2'(t)sin2t=0$\n",
    "\n",
    "$-2C_1'(t)sin2t+2C_2'(t)cos2t=tsint$\n",
    "\n",
    "解得\n",
    "\n",
    "$C_1'(t)=-\\frac{1}{2}tsintsin2t$\n",
    "\n",
    "$C_2'(t)=\\frac{1}{2}tsintcos2t$\n",
    "\n",
    "由此\n",
    "\n",
    "$C_1(t)=\\frac{1}{4}[\\frac{1}{3}tsin3t+\\frac{1}{9}cos3t-tsint-cost]+C_1$\n",
    "\n",
    "$C_2(t)=\\frac{1}{4}[-\\frac{1}{3}tcos3t+\\frac{1}{9}sin3t+tcost-sint]+C_2$\n",
    "\n",
    "所以方程的通解为$x=C_1cos2t+C_2sin2t+\\frac{1}{3}tsint-\\frac{2}{9}cost$"
   ]
  },
  {
   "cell_type": "markdown",
   "metadata": {},
   "source": [
    "3.\n",
    "\n",
    "$将原方程化为x''-\\frac{1}{t}x'+\\frac{1}{t^2}x=\\frac{6}{t}+34$\n",
    "\n",
    "$令方程的解为x=tC_1(t)+tlntC_2(t)，代入方程，得$\n",
    "\n",
    "$tC_1'(t)+tlntC_2'(t)=0$\n",
    "\n",
    "$C_1'(t)+(lnt+1)C_2'(t)=\\frac{6}{t}+34$\n",
    "\n",
    "解得\n",
    "\n",
    "$C_1'(t)=-lnt(\\frac{6}{t}+34)$\n",
    "\n",
    "$C_2'(t)=\\frac{6}{t}+34$\n",
    "\n",
    "由此\n",
    "\n",
    "$C_1(t)=-34(tlnt-t)-3(lnt)^2+C_1$\n",
    "\n",
    "$C_2(t)=34t+6lnt+C_2$\n",
    "\n",
    "所以方程的通解为$x=C_1t+C_2tlnt+34t^2+3t(lnt)^2$"
   ]
  },
  {
   "cell_type": "markdown",
   "metadata": {},
   "source": [
    "## 四、假设$x_1(t)≠0$是二阶齐次线性微分方程$x^{\\prime\\prime}+a_1(t)x^\\prime+a_2(t)x=0$的解，\n",
    "\n",
    "## 这里$a_1(t)$和$a_2(t)$于区间$[a,b]$上连续，\n",
    "\n",
    "## 试证：\n",
    "\n",
    "## 1.$x_2(t)$为方程的解的充要条件是$W^\\prime[x_1,x_2]+a_1W[x_1,x_2]=0;$\n",
    "\n",
    "## 2.方程的通解可表为$x=x_1[c_1\\int \\frac{1}{{x_1}^2}exp(-\\int_{t_0}^t a_1(s)\\mathrm d s)\\mathrm d t+c_2],$其中$c_1,c_2$为任意常数，$t_0,t∈[a,b]$"
   ]
  },
  {
   "cell_type": "markdown",
   "metadata": {},
   "source": [
    "**证：**\n",
    "\n",
    "1.充分性：\n",
    "\n",
    "当$x_2为x^{\\prime\\prime}+a_1(t)x^\\prime+a_2(t)x=0的解$时，\n",
    "\n",
    "因为：\n",
    "\n",
    "$\\begin{aligned}\n",
    "W^\\prime[x_1,x_2]&=\\frac{\\mathrm d}{\\mathrm d t}[x_1(t)x_2^\\prime(t)-x_2(t)x_1^\\prime(t)]\\\\&=x_1(t)x_2^{\\prime\\prime}(t)-x_2(t)x_1^{\\prime\\prime}(t)\\\\&=x_1(t)[-a_1(t)x_2^\\prime-a_2(t)x_2]-x_2(t)[a_1(t)x_1^\\prime+a_2(t)x_1]\\\\&=-a_1(t)[x_1(t)x_2^\\prime(t)-x_2(t)x_1^\\prime(t)]\\\\&=-a_1(t)W[x_1(t),x_2(t)]\n",
    "\\end{aligned}$\n",
    "\n",
    "即$W^\\prime[x_1,x_2]+a_1(t)W[x_1,x_2]=0$\n",
    "\n",
    "必要性：\n",
    "\n",
    "当$W^\\prime[x_1,x_2]+a_1(t)W[x_1,x_2]=0$时，有：\n",
    "\n",
    "$\\begin{aligned}\n",
    "W^\\prime[x_1,x_2]+a_1(t)W[x_1,x_2]&=\\frac{\\mathrm d}{\\mathrm d t}[x_1(t)x_2^\\prime(t)-x_2(t)x_1^\\prime(t)]+a_1(t)[x_1(t)x_2^\\prime(t)-x_2(t)x_1^\\prime(t)]\\\\&=x_1(t)[x_2^{\\prime\\prime}(t)+a_1(t)x_2^\\prime(t)+a_2(t)x_2(t)]-x_2(t)[x_1^{\\prime\\prime}(t)+a_1(t)x_1^\\prime(t)+a_2(t)x_1(t)]\\\\&=x_1(t)[x_2^{\\prime\\prime}(t)+a_1(t)x_2^\\prime(t)+a_2(t)x_2(t)]\\\\&=0\n",
    "\\end{aligned}$\n",
    "\n",
    "因为$x_1(t)≠0$\n",
    "\n",
    "有$x_2^{\\prime\\prime}(t)+a_1(t)x_2^\\prime(t)+a_2(t)x_2(t)=0$\n",
    "\n",
    "即得$x_2(t)$是方程的解。"
   ]
  },
  {
   "cell_type": "markdown",
   "metadata": {},
   "source": [
    "2.\n",
    "\n",
    "令方程的通解为$x(t)=cx_1(t)$,代入$x^{\\prime\\prime}+a_1(t)x^\\prime+a_2(t)x=0$，化解得：\n",
    "\n",
    "$c(t)^{\\prime\\prime}x_1(t)+c(t)^\\prime(2x_1(t)^\\prime+a_1x_1(t))=0$\n",
    "\n",
    "令$y=c(t)^\\prime$,则$y^\\prime x_1(t)+y(2x_1(t)^\\prime+a_1x_1(t))=0$\n",
    "\n",
    "所以$y^\\prime=-(\\frac{2x_1(t)^\\prime}{x_1(t)}+a_1)y$\n",
    "\n",
    "所以\n",
    "\n",
    "$\\begin{aligned}\n",
    "{c(t)}^\\prime&=y\\\\&={c_1}exp[-\\int_{t_0}^t (\\frac{{2x_1 (t)}^\\prime}{x_1 (t)}+a_1)\\mathrm d t]\\\\&=c_1exp(-2\\ln x_1(t)-\\int_{t_0}^t a_1\\mathrm d t)\\\\&=\\frac{c_1}{{x_1(t)}^2}exp[- \\int_{t_0}^t a_1(s)\\mathrm d s]\n",
    "\\end{aligned}$\n",
    "\n",
    "两边积分得\n",
    "\n",
    "$\\begin{aligned}\n",
    "{c(t)}&=\\int \\frac{c_1 }{{x_1 (t)}^2}exp[ -\\int_{t_0}^t a_1(s)\\mathrm d s]\\mathrm d t+c_2\\\\&=c_1\\int \\frac{1}{{x_1 (t)}^2}exp[-\\int_{t_0}^t a_1(s)\\mathrm d s]\\mathrm d t+c_2\n",
    "\\end{aligned}$\n",
    "\n",
    "即得方程的通解为\n",
    "\n",
    "$x=x_1 (t)[c_1 \\int \\frac{1}{{x_1 (t)}^2}exp[-\\int_{t_0}^t a_1(s)\\mathrm d s]\\mathrm d t+c_2]$\n",
    "\n",
    "其中$c_1,c_2$为任意常数，$t_0,t∈[a,b]$ "
   ]
  },
  {
   "cell_type": "markdown",
   "metadata": {},
   "source": [
    "$B^+$"
   ]
  },
  {
   "cell_type": "code",
   "execution_count": null,
   "metadata": {
    "collapsed": true
   },
   "outputs": [],
   "source": []
  }
 ],
 "metadata": {
  "kernelspec": {
   "display_name": "SageMath 7.3",
   "language": "",
   "name": "sagemath"
  },
  "language_info": {
   "codemirror_mode": {
    "name": "ipython",
    "version": 2
   },
   "file_extension": ".py",
   "mimetype": "text/x-python",
   "name": "python",
   "nbconvert_exporter": "python",
   "pygments_lexer": "ipython2",
   "version": "2.7.10"
  }
 },
 "nbformat": 4,
 "nbformat_minor": 0
}
