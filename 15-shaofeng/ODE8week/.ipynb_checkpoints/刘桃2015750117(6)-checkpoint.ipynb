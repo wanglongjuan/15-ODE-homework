{
 "cells": [
  {
   "cell_type": "markdown",
   "metadata": {},
   "source": [
    "## 1.设$x(t)$和$y(t)$是区间$a≤t≤b$上的连续函数，证明：如果在区间$a≤t≤b$上有$\\frac{x(t)}{y(t)}≠$常数或$\\frac{y(t)}{x(t)}≠$常数，则$x(t)$和$y(t)$在区间$a≤t≤b$上线性无关。（提示：用反证法。）"
   ]
  },
  {
   "cell_type": "markdown",
   "metadata": {},
   "source": [
    "**解**\n",
    "假如$x(t)$和$y(t)$在区间$a≤t≤b$上线性相关。则存在不全为零的$c_1和c_2$使得\n",
    "\n",
    "$$c_1x(t)+c_2y(t)=0$$\n",
    "\n",
    "$$设c_1≠0,则\\frac{x(t)}{y(t)}=C，C为一个常数,与\\frac{x(t)}{y(t)}≠$常数矛盾$$\n",
    "\n",
    "$$所以x(t)和y(t)在区间a≤t≤b上线性无关。$$"
   ]
  },
  {
   "cell_type": "markdown",
   "metadata": {},
   "source": [
    "## 2.证明非齐次线性微分方程的叠加原理：设$x_1(t),x_2(t)$分别是非齐次线性微分方程$$\\frac{\\mathrm d^n x}{\\mathrm d t^n}+a_1(t)\\frac{\\mathrm d^{n-1} x}{\\mathrm d t^{n-1}}+...+a_n(t)x=f_1(t)$$ $$\\frac{\\mathrm d^n x}{\\mathrm d t^n}+a_1(t)\\frac{\\mathrm d^{n-1} x}{\\mathrm d t^{n-1}}+...+a_n(t)x=f_2(t)$$的解，则$x_1(t)+x_2(t)$是方程$$\\frac{\\mathrm d^n x}{\\mathrm d t^n}+a_1(t)\\frac{\\mathrm d^{n-1} x}{\\mathrm d t^{n-1}}+...+a_n(t)x=f_1(t)+f_2(t)$$的解。"
   ]
  },
  {
   "cell_type": "markdown",
   "metadata": {},
   "source": [
    "**解**\n",
    "\n",
    "因为$x_1(t)是\\frac{\\mathrm d^n x}{\\mathrm d t^n}+a_1(t)\\frac{\\mathrm d^{n-1} x}{\\mathrm d t^{n-1}}+...+a_n(t)x=f_1(t)的解$\n",
    "$$所以\\frac{\\mathrm d^n x_1(t)}{\\mathrm d t^n}+a_1(t)\\frac{\\mathrm d^{n-1} x_1(t)}{\\mathrm d t^{n-1}}+...+a_n(t)x_1(t)=f_1(t)    ①$$\n",
    "同理可得$$所以\\frac{\\mathrm d^n x_2(t)}{\\mathrm d t^n}+a_1(t)\\frac{\\mathrm d^{n-1} x_2(t)}{\\mathrm d t^{n-1}}+...+a_n(t)x_2(t)=f_2(t)    ②$$\n",
    "①+②得$$\\frac{\\mathrm d^n x_1(t)}{\\mathrm d t^n}+a_1(t)\\frac{\\mathrm d^{n-1} x_1(t)}{\\mathrm d t^{n-1}}+...+a_n(t)x_1(t)+\\frac{\\mathrm d^n x_2(t)}{\\mathrm d t^n}+a_1(t)\\frac{\\mathrm d^{n-1} x_2(t)}{\\mathrm d t^{n-1}}+...+a_n(t)x_2(t)=f_1(t)+f_2(t)$$\n",
    "根据“常数可以从微分号下提出来”以及“和的导数等于导数之和”的法则得到$$\\frac{\\mathrm d^n (x_1(t)+x_2(t))}{\\mathrm d t^n}+a_1(t)\\frac{\\mathrm d^{n-1} (x_1(t)+x_2(t))}{\\mathrm d t^{n-1}}+...+a_n(t)(x_1(t)+x_2(t))=f_1(t)+f_2(t)$$\n",
    "所以$x_1(t)+x_2(t)$是方程$$\\frac{\\mathrm d^n x}{\\mathrm d t^n}+a_1(t)\\frac{\\mathrm d^{n-1} x}{\\mathrm d t^{n-1}}+...+a_n(t)x=f_1(t)+f_2(t)$$的解。"
   ]
  },
  {
   "cell_type": "markdown",
   "metadata": {},
   "source": [
    "## 3.已知齐次线性微分方程的基本解组$x_1,x_2$,求下列方程对应的非齐次线性微分方程的通解："
   ]
  },
  {
   "cell_type": "markdown",
   "metadata": {},
   "source": [
    "### （1）${x^\\prime}^\\prime-x=cos t,x_1=e^t,x_2=e^{-t}$"
   ]
  },
  {
   "cell_type": "markdown",
   "metadata": {
    "collapsed": true
   },
   "source": [
    "**解**\n",
    "令$$x=c_1(t)e^t+c_2(t)e^{-t}$$\n",
    "将它代入方程，则可得$c_1\\prime(t)和c_2\\prime(t)$的两个方程\n",
    "$$e^tc_1\\prime(t)+e^{-t}c_2\\prime(t)=0,e^tc_1\\prime(t)-e^{-t}c_2\\prime(t)=cost$$\n",
    "两式联立得$$c_2\\prime(t)=-\\frac{1}{2}e^tcost,即c_2(t)=-\\frac{coste^t+sinte^t}{4}+b_1$$\n",
    "$$c_1\\prime(t)=\\frac{1}{2}e^{-t}cost,即c_1(t)=\\frac{1}{4}e^{-t}(\\sin t-\\cos t)+b_2$$\n",
    "所以通解为$$x=b_1e^{-t}+b_2e^t-\\frac{1}{2}cost$$"
   ]
  },
  {
   "cell_type": "markdown",
   "metadata": {},
   "source": [
    "### (3)$x\\prime\\prime+4x=tsin2t,x_1=cos2t,x_2=sin2t$"
   ]
  },
  {
   "cell_type": "markdown",
   "metadata": {},
   "source": [
    "**解**\n",
    "令$$x=c_1(t)cos2t+c_2(t)sin2t$$\n",
    "将它代入方程，则可得$c_1\\prime(t)和c_2\\prime(t)$的两个方程\n",
    "$$cos2tc_1\\prime(t)+sin2tc_2\\prime(t)=0,-2sin2tc_1\\prime(t)+2cos2tc_2\\prime(t)=tsin2t$$\n",
    "两式联立得$$c_2\\prime(t)=\\frac{1}{4}tsin4t,即c_2(t)=-\\frac{1}{16}tcos4t+\\frac{1}{64}sin4t+b_1$$\n",
    "$$c_1^\\prime(t)=\\frac{1}{4}t(\\cos 4t-1),即c_1(t)=\\frac{1}{64}\\cos 4t+\\frac{1}{16}t\\sin 4t-\\frac{1}{8}t^2+b_2$$\n",
    "所以$$x=\\frac{1}{64}(cos4tcos2t+sin4tsin2t)+\\frac{1}{16}t(sin4tcos2t-cos4tsin2t)-\\frac{1}{8}t^2cos2t+b_1sin2t+b_2cos2t$$ 即$$x=\\frac{1}{64}cos2t+\\frac{1}{16}tsin2t-\\frac{1}{8}t^2cos2t+b_1sin2t+b_2cos2t$$\n",
    "\n",
    "\n",
    "错误\n"
   ]
  },
  {
   "cell_type": "markdown",
   "metadata": {},
   "source": [
    "### (5)$t^2x\\prime\\prime-tx\\prime+x=6t+34t^2,x_1=t,x_2=tlnt$"
   ]
  },
  {
   "cell_type": "markdown",
   "metadata": {},
   "source": [
    "**解**\n",
    "方程可写为$$x\\prime\\prime-\\frac{1}{t}x\\prime+\\frac{1}{t^2}x=6\\frac{1}{t}+34$$\n",
    "令$$x=c_1(t)t+c_2(t)tlnt$$\n",
    "将它代入方程，则可得$c_1\\prime(t)和c_2\\prime(t)$的两个方程\n",
    "$$tc_1\\prime(t)+tlntc_2\\prime(t)=0,c_1\\prime(t)+(lnt+1)c_2\\prime(t)=6\\frac{1}{t}+34$$\n",
    "两式联立得$$c_2\\prime(t)=\\frac{6}{t}+34,c_2(t)=6lnt+34t+b_1$$\n",
    "$$c_1\\prime(t)=-\\frac{6lnt}{t}-34lnt,c_1(t)=-3(lnt)^2-34tlnt+34t+b_2$$\n",
    "所以$$x=3t(lnt)^2+34t^2+b_1tlnt+b_2t$$"
   ]
  },
  {
   "cell_type": "markdown",
   "metadata": {
    "collapsed": true
   },
   "source": [
    "## 6.假设$x_1(t)≠0$是二阶齐次线性微分方程$$x^{\\prime\\prime}+a_1(t)x^\\prime+a_2(t)x=0$$的解，这里$a_1(t)$和$a_2(t)$于区间$[a,b]$上连续，试证：\n",
    "## （1）$x_2(t)$为方程的解的充要条件是$$W^\\prime[x_1,x_2]+a_1W[x_1,x_2]=0;$$\n",
    "## (2)方程的通解可表为$$x=x_1[c_1\\int \\frac{1}{{x_1}^2}exp(-\\int_{t_0}^t a_1(s)\\mathrm d s)\\mathrm d t+c_2],$$其中$c_1,c_2$为任意常数，$t_0,t∈[a,b]$"
   ]
  },
  {
   "cell_type": "markdown",
   "metadata": {},
   "source": [
    "**证明**\n",
    "1、必要性：\n",
    "\n",
    "若$x_2(t)为方程的解，则x_2^{\\prime\\prime}(t)+a_1(t)x_2^\\prime(t)+a_2(t)x_2(t)=0$\n",
    "\n",
    "又因为$x_1(t)也是方程的解，所以x_1^{\\prime\\prime}(t)+a_1(t)x_1^\\prime(t)+a_2(t)x_1(t)=0$\n",
    "\n",
    "即$$x_2^{\\prime\\prime}(t)=-a_1(t)x_2^\\prime(t)-a_2(t)x_2(t)   ①$$  $$x_1^{\\prime\\prime}(t)=-a_1(t)x_1^\\prime(t)-a_2(t)x_1(t)  ②$$\n",
    "\n",
    "$$①x_1(t)+②x_2(t)=-a_1(t)W[x_1(t),x_2(t)]=W^\\prime[x_1,x_2]$$\n",
    "证毕\n",
    "2、充分性：\n",
    "$$若W^\\prime[x_1,x_2]+a_1W[x_1,x_2]=0;$$\n",
    "$$W^\\prime[x_1,x_2]=x1(t)x′′2(t)−x2(t)x′′1(t)=-a_1(t)(x1(t)x′2(t)−x2(t)x′1(t))$$\n",
    "化简得$$x_2^{\\prime\\prime}(t)+a_1(t)x_2^\\prime(t)+a_2(t)x_2(t)=0$$\n",
    "即$x_2(t)$为方程的解"
   ]
  },
  {
   "cell_type": "markdown",
   "metadata": {
    "collapsed": true
   },
   "source": [
    " (2)**解**\n",
    "\n",
    "可令方程的通解为$x=c(t)x_1$,代入$x^{\\prime\\prime}+a_1(t)x^\\prime+a_2(t)x=0$\n",
    "\n",
    "化解得$$c(t)^{\\prime\\prime}x_1+c(t)^\\prime(2x_1^\\prime+a_1x_1)=0$$\n",
    "\n",
    "令$y=c(t)^\\prime$,则$$y^\\prime x_1+y(2x_1^\\prime+a_1x_1)=0$$\n",
    "所以$y^\\prime=-(\\frac{2x_1^\\prime}{x_1}+a_1)y$\n",
    "\n",
    "所以\n",
    "$$\n",
    "\\begin{aligned}\n",
    "c(t)^\\prime&=y\\\\&=c_1exp[-\\int_{t_0}^t (\\frac{2x_1^\\prime}{x_1}+a_1)\\mathrm d t]\\\\&=c_1exp(-2\\ln x_1-\\int_{t_0}^t a_1\\mathrm d t)\\\\&=\\frac{c_1}{x_1^2}exp[- \\int_{t_0}^t a_1(s)\\mathrm d s]\n",
    "\\end{aligned}\n",
    "$$\n",
    "\n",
    "两边积分得\n",
    "$$\n",
    "\\begin{aligned}\n",
    "c(t)&=\\int \\frac{c_1}{x_1^2}exp[ -\\int_{t_0}^t a_1(s)\\mathrm d s]\\mathrm d t+c_2\\\\&=c_1\\int \\frac{1}{x_1^2}exp[-\\int_{t_0}^t a_1(s)\\mathrm d s]\\mathrm d t+c_2\n",
    "\\end{aligned}\n",
    "$$\n",
    "所以通解为$$x=x_1c_1\\int \\frac{1}{x_1^2}exp[-\\int_{t_0}^t a_1(s)\\mathrm d s]\\mathrm d t+c_2$$\n",
    "\n"
   ]
  },
  {
   "cell_type": "markdown",
   "metadata": {
    "collapsed": true
   },
   "source": [
    "$B^+$"
   ]
  },
  {
   "cell_type": "code",
   "execution_count": null,
   "metadata": {
    "collapsed": true
   },
   "outputs": [],
   "source": []
  }
 ],
 "metadata": {
  "kernelspec": {
   "display_name": "SageMath 7.3",
   "language": "",
   "name": "sagemath"
  },
  "language_info": {
   "codemirror_mode": {
    "name": "ipython",
    "version": 2
   },
   "file_extension": ".py",
   "mimetype": "text/x-python",
   "name": "python",
   "nbconvert_exporter": "python",
   "pygments_lexer": "ipython2",
   "version": "2.7.10"
  }
 },
 "nbformat": 4,
 "nbformat_minor": 0
}
