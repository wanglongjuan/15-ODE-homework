{
 "cells": [
  {
   "cell_type": "markdown",
   "metadata": {},
   "source": [
    "# 线性微分方程的一般理论"
   ]
  },
  {
   "cell_type": "markdown",
   "metadata": {},
   "source": [
    "## 一：设$x(t)$和$y(t)$是区间$a\\leq t \\leq b$上的连续函数，证明：如果在区间$a\\leq t \\leq b$上有$\\frac{x(t)}{y(t)}\\neq$常数或$\\frac{y(t)}{x(t)}\\neq$常数，则$x(t)$和$y(t)$在区间$a\\leq t \\leq b$上线性无关。（提示：用反证法。）"
   ]
  },
  {
   "cell_type": "markdown",
   "metadata": {},
   "source": [
    "**证**:\n",
    "\n",
    "假设x(t)与y(t)线性相关，则存在不全为0的数$\\lambda_1$，$\\lambda_2$使得$\\lambda_1 x(t)+\\lambda_2 y(t)=0$，不妨设$y(t)\\neq 0$,$\\implies \\lambda_1\\frac{x(t)}{y(t)}=-\\lambda_2$,其中$\\lambda_1\\neq 0$,否则$\\lambda_2 = 0$。$\\implies \\frac{x(t)}{y(t)}= -\\frac{\\lambda_2}{\\lambda_1}$。与题给条件矛盾。Q.E.D"
   ]
  },
  {
   "cell_type": "code",
   "execution_count": null,
   "metadata": {
    "collapsed": true
   },
   "outputs": [],
   "source": []
  },
  {
   "cell_type": "markdown",
   "metadata": {},
   "source": [
    "## 二：证明非齐次线性微分方程的叠加原理：设$x_1(t)$,$x_2(t)$分别是非齐次线性微分方程$$\\frac{\\mathrm d^n x}{\\mathrm d t^n}+a_1(t)\\frac{\\mathrm d^{n-1} x}{\\mathrm d t^{n-1}}+\\cdots+a_n(t)x=f_1(t)$$,$$\\frac{\\mathrm d^n x}{\\mathrm d t^n}+a_1(t)\\frac{\\mathrm d^{n-1} x}{\\mathrm d t^{n-1}}+\\cdots+a_n(t)x=f_2(t)$$的解，则$x_1(t)+x_2(t)$是方程$$\\frac{\\mathrm d^n x}{\\mathrm d t^n}+a_1(t)\\frac{\\mathrm d^{n-1} x}{\\mathrm d t^{n-1}}+\\cdots+a_n(t)x=f_1(t)+f_2(t)$$的解。"
   ]
  },
  {
   "cell_type": "markdown",
   "metadata": {},
   "source": [
    "**证**：\n",
    "\n",
    "$\\frac{\\mathrm d^n (x_1(t)+x_2(t))}{\\mathrm d t^n}+a_1(t)\\frac{\\mathrm d^{n-1} (x_1(t)+x_2(t))}{\\mathrm d t^{n-1}}+\\cdots+a_n(t)(x_1(t)+x_2(t))=\\frac{\\mathrm d^n x_1(t)}{\\mathrm d t^n}+a_1(t)\\frac{\\mathrm d^{n-1} x_1(t)}{\\mathrm d t^{n-1}}+\\cdots+a_n(t)x_1(t)+\\frac{\\mathrm d^n x_2(t)}{\\mathrm d t^n}+a_1(t)\\frac{\\mathrm d^{n-1} x_2(t)}{\\mathrm d t^{n-1}}+\\cdots+a_n(t)x_2(t)=f_1(t)+f_2(t)$\n",
    "\n",
    "所以$x_1(t)+x_2(t)$是$$\\frac{\\mathrm d^n x}{\\mathrm d t^n}+a_1(t)\\frac{\\mathrm d^{n-1} x}{\\mathrm d t^{n-1}}+\\cdots+a_n(t)x=f_1(t)+f_2(t)$$的解。Q.E.D"
   ]
  },
  {
   "cell_type": "code",
   "execution_count": null,
   "metadata": {
    "collapsed": true
   },
   "outputs": [],
   "source": []
  },
  {
   "cell_type": "markdown",
   "metadata": {},
   "source": [
    "## 三：已知齐次线性微分方程的基本解组$x_1$,$x_2$,求下列方程对应的非齐次线性微分方程组的通解："
   ]
  },
  {
   "cell_type": "markdown",
   "metadata": {},
   "source": [
    "### (1):$x\"+4x=t\\sin 2t$,$x_1=\\cos 2t$,$x_2=\\sin 2t$;"
   ]
  },
  {
   "cell_type": "markdown",
   "metadata": {},
   "source": [
    "**解**：\n",
    "\n",
    "令$x=c_1(t)\\cos 2t+c_2(t)\\sin 2t$,$$\\implies \\begin{pmatrix}\\cos 2t&\\sin 2t\\\\-2\\sin 2t&2\\cos 2t\\end{pmatrix}\\begin{pmatrix}c'_1(t)\\\\c'_2(t)\\end{pmatrix}=\\begin{pmatrix}0\\\\t\\sin 2t\\end{pmatrix}$$$$\\implies \\begin{pmatrix}c'_1(t)\\\\c'_2(t)\\end{pmatrix}=\\begin{pmatrix}\\frac{1}{4}t(\\cos 4t -1)\\\\\\frac{1}{4}t\\sin 4t\\end{pmatrix}$$$$(积分)\\implies \\begin{pmatrix}c_1(t)\\\\c_2(t)\\end{pmatrix}=\\begin{pmatrix}\\frac{1}{64}\\cos 4t+\\frac{1}{16}t\\sin 4t-\\frac{1}{8}t^2+\\gamma_1\\\\\\frac{1}{64}\\sin 4t-\\frac{1}{16}t\\cos 4t+\\gamma_2\\end{pmatrix}$$.\n",
    "\n",
    "于是方程的通解为$x=c_1\\cos 2t+c_2 \\sin 2t -\\frac{1}{8}t^2 \\cos 2t+16t\\sin 2t$.其中$c_1$,$c_2$为任意常数。"
   ]
  },
  {
   "cell_type": "markdown",
   "metadata": {},
   "source": [
    "### (2):$t^2x\"-tx'+x=6t+34t^2$,$x_1=t$,$x_2=t\\ln t$;"
   ]
  },
  {
   "cell_type": "markdown",
   "metadata": {},
   "source": [
    "**解**：\n",
    "\n",
    "令$x=c_1(t)t+c_2(t)t\\ln t$,$$\\implies \\begin{pmatrix}t&t\\ln t\\\\1&(\\ln t +1)\\end{pmatrix}\\begin{pmatrix}c'_1(t)\\\\c'_2(t)\\end{pmatrix}=\\begin{pmatrix}0\\\\\\frac{6}{t}+34\\end{pmatrix}$$$$\\implies \\begin{pmatrix}c'_1(t)\\\\c'_2(t)\\end{pmatrix}=\\begin{pmatrix}-\\ln t(\\frac{6}{t}+34)\\\\\\frac{6}{t}+34\\end{pmatrix}$$$$(积分)\\implies \\begin{pmatrix}c_1(t)\\\\c_2(t)\\end{pmatrix}=\\begin{pmatrix}-34(t\\ln t-t)-3(\\ln t)^2+c_1\\\\34t+6\\ln t+c_2\\end{pmatrix}$$.\n",
    "\n",
    "于是方程的通解为$x=c_1\\cdot t+c_2 \\cdot t\\ln t+34t^2\n",
    "3t(\\ln t)^2$.其中$c_1$,$c_2$为任意常数。"
   ]
  },
  {
   "cell_type": "code",
   "execution_count": null,
   "metadata": {
    "collapsed": true
   },
   "outputs": [],
   "source": []
  },
  {
   "cell_type": "markdown",
   "metadata": {},
   "source": [
    "## 三：假设$x_1(t)\\neq 0$是二阶齐次线性微分方程$$x\"+a_1(t)x'+a_2(t)x=0$$的解，这里$a_1(t)$和$a_2(t)$于区间$[a,b]$上连续，试证："
   ]
  },
  {
   "cell_type": "markdown",
   "metadata": {},
   "source": [
    "### (1):x_2(t)为方程的解的充要条件是$$W'[x_1,x_2]+a_1W[x_1,x_2]=0;$$"
   ]
  },
  {
   "cell_type": "markdown",
   "metadata": {},
   "source": [
    "**证**：\n",
    "\n",
    "必要性：仅需要将$W'[x_1,x_2]+a_1W[x_1,x_2]$展开，再利用$x_1\"+a_1(t)x_1'+a_2(t)x_1=0$与$x_2\"+a_1(t)x_2'+a_2(t)x_2=0$便有$W'[x_1,x_2]+a_1W[x_1,x_2]=0$。\n",
    "\n",
    "充分性：将$W'[x_1,x_2]+a_1W[x_1,x_2]=0$展开，再用$x_1\"+a_1(t)x_1'+a_2(t)x_1=0$便很容易得到$x_2\"+a_1(t)x_2'+a_2(t)x_2=0$。即x_2(t)是解。Q.E.D"
   ]
  },
  {
   "cell_type": "markdown",
   "metadata": {},
   "source": [
    "### (2):方程的通解可表为$$x= x_1[c_1\\int \\frac{1}{x_1^2}\\exp (-\\int_{t_0}^{t}a_1(s)\\mathrm ds)\\mathrm dt+c_2],$$其中$c_1$,$c_2$为任意常数，$t_0$,$t$$\\in [a,b]$。"
   ]
  },
  {
   "cell_type": "markdown",
   "metadata": {},
   "source": [
    "**解**：利用习题4.1的第5题，可得$$W(t)=W(t_0)\\exp(-\\int_{t_0}^{t}a_1(s)\\mathrm ds)=x_1(t)x'_2(t)-x'_1(t)x_2(t),$$$$\\implies \\frac{\\mathrm d(\\frac{x_2(t)}{x_1(t)})}{\\mathrm dt}=\\frac{W(t_0)}{x_1(t)^2}\\exp(-\\int_{t_0}^{t}a_1(s)\\mathrm ds)$$$$(积分)\\implies x_2(t)=x_1(t)(c_1\\int \\frac{1}{x_1^2}exp(-\\int_{t_0}^{t}a_1(t)\\mathrm ds)\\mathrm dt+c_2)$$（可验证c_1与c_2是独立的），即qi'shi得证。"
   ]
  },
  {
   "cell_type": "markdown",
   "metadata": {
    "collapsed": true
   },
   "source": [
    "$B$"
   ]
  },
  {
   "cell_type": "code",
   "execution_count": null,
   "metadata": {
    "collapsed": true
   },
   "outputs": [],
   "source": []
  }
 ],
 "metadata": {
  "kernelspec": {
   "display_name": "SageMath 7.3",
   "language": "",
   "name": "sagemath"
  },
  "language_info": {
   "codemirror_mode": {
    "name": "ipython",
    "version": 2
   },
   "file_extension": ".py",
   "mimetype": "text/x-python",
   "name": "python",
   "nbconvert_exporter": "python",
   "pygments_lexer": "ipython2",
   "version": "2.7.10"
  }
 },
 "nbformat": 4,
 "nbformat_minor": 0
}
