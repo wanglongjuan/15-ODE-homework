{
 "cells": [
  {
   "cell_type": "markdown",
   "metadata": {},
   "source": [
    " 本周作业情况如下：\n",
    "\n",
    "1. 本周作业是： 第88页 3、6、8、10;\n",
    "1. 本周作业情况如下：\n",
    "   * 本周作业是做与解的存在唯一性定理相关的题目，大家都能按时完成作业;\n",
    "   * 本周作业仍出现了格式不正确，书写不恰当的，作业内容较乱;\n",
    "   * 第6题证明格郎沃尔不等式出错较多;\n",
    "   * 陈婷婷、马晓波、黄淑婷、曾玲作业优秀;\n",
    "   * 金蒙召请假作业未交."
   ]
  },
  {
   "cell_type": "code",
   "execution_count": null,
   "metadata": {
    "collapsed": true
   },
   "outputs": [],
   "source": []
  }
 ],
 "metadata": {
  "kernelspec": {
   "display_name": "SageMath 7.3",
   "language": "",
   "name": "sagemath"
  },
  "language_info": {
   "codemirror_mode": {
    "name": "ipython",
    "version": 2
   },
   "file_extension": ".py",
   "mimetype": "text/x-python",
   "name": "python",
   "nbconvert_exporter": "python",
   "pygments_lexer": "ipython2",
   "version": "2.7.10"
  }
 },
 "nbformat": 4,
 "nbformat_minor": 0
}
