{
 "cells": [
  {
   "cell_type": "markdown",
   "metadata": {},
   "source": [
    "# 1.求初值问题\n",
    "$$\n",
    "\\begin{cases}\n",
    "\\frac{\\mathrm dy}{\\mathrm dx}=x^2-y^2,R:|x+1| \\leq 1,|y| \\leq 1,\\\\\n",
    "y(-1)=0\n",
    "\\end{cases}\n",
    "$$\n",
    "的解的存在区间，并求第二次近似解，给出解的存在区间的误差估计"
   ]
  },
  {
   "cell_type": "markdown",
   "metadata": {},
   "source": [
    "解：\n",
    "根据条件，$f(x,y)$一阶可偏导，所以关于y满足Lipschiz条件,故可以采用皮卡逐步逼近法\n",
    "\n",
    "取$\\varphi_0(x)=y_0=0,\\varphi_n(x)=y_0+\\int_{-1}^x f(\\xi,\\varphi_{n-1}(\\xi))\\mathrm d\\xi$\n",
    "\n",
    "计算得到结果如下\n",
    "$$\\varphi_2(x)=-\\frac{1}{63} \\, x^{7} - \\frac{1}{18} \\, x^{4} + \\frac{1}{3} \\, x^{3} - \\frac{1}{9} \\, x + \\frac{11}{42}$$\n",
    "$$M=\\max_{|x+1| \\leq 1,|y| \\leq 1}f(x,y)=2,h=min(1,\\frac{1}{2})=\\frac{1}{2},L可取2\\\\$$\n",
    "由存在性唯一定理的证明过程知\n",
    "$$|\\varphi_2(x)-\\varphi(x)|\\leq \\frac{ML^n}{(n+1)!} h^{n+1}=\\frac{1}{3!}\\frac{1}{4}=\\frac{1}{24}$$"
   ]
  },
  {
   "cell_type": "code",
   "execution_count": 1,
   "metadata": {
    "collapsed": false
   },
   "outputs": [
    {
     "data": {
      "text/html": [
       "<html><script type=\"math/tex; mode=display\">\\newcommand{\\Bold}[1]{\\mathbf{#1}}\\frac{1}{3} \\, x^{3} + \\frac{1}{3}</script></html>"
      ],
      "text/plain": [
       "1/3*x^3 + 1/3"
      ]
     },
     "metadata": {},
     "output_type": "display_data"
    },
    {
     "data": {
      "text/html": [
       "<html><script type=\"math/tex; mode=display\">\\newcommand{\\Bold}[1]{\\mathbf{#1}}-\\frac{1}{63} \\, x^{7} - \\frac{1}{18} \\, x^{4} + \\frac{1}{3} \\, x^{3} - \\frac{1}{9} \\, x + \\frac{11}{42}</script></html>"
      ],
      "text/plain": [
       "-1/63*x^7 - 1/18*x^4 + 1/3*x^3 - 1/9*x + 11/42"
      ]
     },
     "metadata": {},
     "output_type": "display_data"
    },
    {
     "data": {
      "text/plain": [
       "-\\frac{1}{63} \\, x^{7} - \\frac{1}{18} \\, x^{4} + \\frac{1}{3} \\, x^{3} - \\frac{1}{9} \\, x + \\frac{11}{42}"
      ]
     },
     "execution_count": 1,
     "metadata": {},
     "output_type": "execute_result"
    }
   ],
   "source": [
    "def dapprox(f, x_0, y_0, n):\n",
    "    var('xi')\n",
    "    phi_0(x) = y_0\n",
    "    for i in range(1, n+1):\n",
    "        phi = f.subs(x=xi, y=phi_0.subs(x=xi))\n",
    "        phi_1 = y_0 + integral(phi, (xi, x_0, x))\n",
    "        show(phi_1)\n",
    "        phi_0 = phi_1\n",
    "    return phi_1\n",
    "var('x y')\n",
    "f=x^2-y^2\n",
    "x_0=-1\n",
    "y_0=0\n",
    "latex(dapprox(f,x_0,y_0,2))"
   ]
  },
  {
   "cell_type": "markdown",
   "metadata": {},
   "source": [
    "# 2.证明格朗沃尔 （Gronwell）不等式:\n",
    "\n",
    "  设$K$为非负常数，$f(t)$和$g(t)$为在区间$\\alpha \\leq t\\leq \\beta$上的连续非负函数，且满足不等式\n",
    "  $$f(t)\\leq K+\\int _\\alpha ^t f(s)g(s)\\mathrm ds$$\n",
    "  则有\n",
    "  $$f(t)\\leq K\\exp(\\int_\\alpha ^t g(s)\\mathrm ds)$$\n",
    "  ### 并由此证明定理1的命题5"
   ]
  },
  {
   "cell_type": "markdown",
   "metadata": {},
   "source": [
    "证明:\n",
    "令$F(t)=\\int _\\alpha^t f(s)g(s)\\mathrm ds+K$ \n",
    "\n",
    "则$$F'(t)=f(t)g(t) \\leq F(t)g(t)$$\n",
    "再令$G(t)=F(t)\\exp(\\int_t^\\alpha g(s)\\mathrm ds)$\n",
    "则$$G'(t)=(F'(t)-F(t)g(t))\\exp(\\int _t^\\alpha g(s)\\mathrm ds) \\leq 0$$\n",
    "\n",
    "故$G(t)$单调递减\n",
    "\n",
    "所以\n",
    "$$f(t)\\exp(\\int_t^\\alpha g(s)\\mathrm ds) \\leq G(t)=F(t)\\exp(\\int_t^\\alpha g(s)\\mathrm ds) \\leq G(\\alpha)=K$$\n",
    "所以\n",
    "$$f(t)\\leq K\\exp(\\int_\\alpha ^t g(s)\\mathrm ds)$$"
   ]
  },
  {
   "cell_type": "markdown",
   "metadata": {},
   "source": [
    "下面来证明定理1的命题5\n",
    "假设$\\psi(x)$也是积分方程（3.5）的一个连续解\n",
    "\n",
    "则对两者作差，视察绝对值\n",
    "$$\n",
    "\\begin{aligned}\n",
    "|\\psi(x)-\\varphi(x)|=|\\int_{x_0}^x f(\\xi,\\psi(\\xi))\\mathrm d\\xi-\\int_{x_0}^x f(\\xi,\\varphi(\\xi))\\mathrm d\\xi| &\\leq\n",
    "\\int_{x_0}^x |f(\\xi,\\psi(\\xi))-f(\\xi,\\varphi(\\xi))|\\mathrm d\\xi\\\\\n",
    "&\\leq \\int_{x_0}^x  L|\\psi(\\xi)-\\varphi(\\xi)|\\mathrm d\\xi \\quad\\ 这是由于f(x,y)关于y满足Lipschiz条件\\\\\n",
    "\\end{aligned}\n",
    "$$\n",
    "令$f(x)=|\\psi(x)-\\varphi(x)|$取$K=0,g(x)=L,\\alpha=x_0$\n",
    "\n",
    "那么可以得到$$|\\psi(x)-\\varphi(x)|\\leq 0$$\n",
    "所以$$|\\psi(x)-\\varphi(x)|=0$$\n",
    "所以$$\\psi(x)-\\varphi(x)=0$$\n",
    "于是唯一性得证"
   ]
  },
  {
   "cell_type": "markdown",
   "metadata": {},
   "source": [
    "# 3.如果函数$f(x,y)$在带域$\\alpha \\leq x \\leq \\beta$上连续且关于$y$满足利普希茨条件，则方程(3.1)满足条件$y(x_0)=y_0$的解于整个区间$[\\alpha,\\beta]$上存在且唯一"
   ]
  },
  {
   "cell_type": "markdown",
   "metadata": {},
   "source": [
    "证明：\n",
    "令$\\large{\\gamma=\\frac{\\alpha+\\beta}{2}}$\n",
    "\n",
    "由解的存在唯一性定理知只要在一个矩形区域$|x-\\gamma|\\leq \\frac{\\alpha+\\beta}{2},|y|\\leq a_0$总存在唯一的解\n",
    "\n",
    "那么在$|x-\\gamma|\\leq \\frac{\\alpha+\\beta}{2},a_0\\leq |y|\\leq a_1 and |x-\\gamma|\\leq \\frac{\\alpha+\\beta}{2},a_0\\leq |y|\\leq b_1$也存在唯一解\n",
    "\n",
    "继续拓展,在$|x-\\gamma|\\leq \\frac{\\alpha+\\beta}{2},a_1\\leq |y|\\leq a_2 and |x-\\gamma|\\leq \\frac{\\alpha+\\beta}{2},b_1\\leq |y|\\leq b_2$也存在唯一解\n",
    "\n",
    "$\\cdots$\n",
    "\n",
    "你可以看到，这个过程永远不会停止，因为在新的拓展矩形区域总满足解的存在唯一性定理的条件\n",
    "\n",
    "那么它就在解于整个区间$[\\alpha,\\beta]$上存在且唯一"
   ]
  },
  {
   "cell_type": "markdown",
   "metadata": {},
   "source": [
    "# 4.\n",
    "给定积分方程\n",
    "$$\\varphi (x)=f(x)+\\lambda\\int_a^b K(x,\\xi)\\varphi (\\xi)\\mathrm d\\xi\\quad\\quad(*)$$\n",
    "其中$f(x)$是$[a,b]$上的已知连续函数，$K(x,\\xi)$是$a \\leq x\\leq b,a\\leq \\xi \\leq b$上的已知连续函数。证明当$|\\lambda|$足够小时（$\\lambda$是常数），（*）在$[a,b]$上存在唯一的连续解。"
   ]
  },
  {
   "cell_type": "markdown",
   "metadata": {},
   "source": [
    "### 证明：\n",
    "记$M=\\ max_{a \\leq x\\leq b,a\\leq \\xi \\leq b}(f(x),K(x,\\xi))$\n",
    "\n",
    "作逼近函数序列\n",
    "$$\\varphi_0(x)=f(x),\\\\ \\varphi_{n+1}(x)=f(x)+\\lambda\\int_a^b K(x,\\xi)\\varphi_{n}(\\xi)\\mathrm d\\xi$$\n",
    "\n",
    "那么需要证明它一致收敛\n",
    "$$\\varphi_n (x)=\\varphi_0(x)+\\sum_{k=1}^n [\\varphi_k (x)-\\varphi_{k-1}(x)]\\\\\n",
    "|\\varphi_0(x)-\\varphi_1(x)|=|\\lambda\\int_a^b K(x,\\xi) f(\\xi)\\mathrm d\\xi|\\leq M(b-a)|\\lambda|\\\\\n",
    "|\\varphi_1(x)-\\varphi_2(x)|=|\\lambda\\int_a^b K(x,\\xi)(\\varphi_0(x)-\\varphi_1(x))\\mathrm d\\xi|\\leq M^2(b-a)^2|\\lambda|^2\\\\\n",
    "\\cdots\\\\\n",
    "\\varphi_{n-1}(x)-\\varphi_n(x)|\\leq (M(b-a)|\\lambda|)^n\n",
    "$$\n",
    "所以只要$|\\lambda|$足够小,比方说$| M(b-a)\\lambda| =\\frac{1}{2}$，但是至少$| M(b-a)\\lambda| < 1$\n",
    "\n",
    "那么由Weierstrass判别法，$\\varphi_n (x)=\\varphi_0(x)+\\sum_{k=1}^n [\\varphi_k (x)-\\varphi_{k-1}(x)]$一致收敛\n",
    "设收敛于$\\varphi(x)$,则它必定连续\n",
    "\n",
    "对于$n$逼近序列两边取极限,易知$\\varphi(x)$是积分方程的解，于是存在性得证\n",
    "#### 唯一性\n",
    "设$\\psi(x)$为积分方程的连续解\n",
    "\n",
    "对两者作差，视察绝对值\n",
    "$$\n",
    "|\\psi(x)-\\varphi(x)|=|\\lambda| |\\int_a^b K(x,\\xi)(\\psi(x)-\\varphi(x))\\mathrm d\\xi|\\leq|\\lambda M(b-a)||\\psi(x)-\\varphi(x)|<|\\psi(x)-\\varphi(x)|\\text{ 这是我们之前说的$|\\lambda|$足够小,至少$| M(b-a)\\lambda| < 1$}\\\\\n",
    "$$\n",
    "那么这是矛盾的不等式，这说明这一系列对不等式的处理是有问题的，但若$|\\psi(x)-\\varphi(x)|\\ne 0$时这一系列不等式是不会出错的\n",
    "\n",
    "那么很显然只可能是$|\\psi(x)-\\varphi(x)|=0 !$\n",
    "\n",
    "于是$$\\psi(x)-\\varphi(x)=0$$\n",
    "于是唯一性得证"
   ]
  },
  {
   "cell_type": "markdown",
   "metadata": {},
   "source": [
    "$A$"
   ]
  },
  {
   "cell_type": "code",
   "execution_count": null,
   "metadata": {
    "collapsed": true
   },
   "outputs": [],
   "source": []
  }
 ],
 "metadata": {
  "kernelspec": {
   "display_name": "SageMath 7.3",
   "language": "",
   "name": "sagemath"
  },
  "language_info": {
   "codemirror_mode": {
    "name": "ipython",
    "version": 2
   },
   "file_extension": ".py",
   "mimetype": "text/x-python",
   "name": "python",
   "nbconvert_exporter": "python",
   "pygments_lexer": "ipython2",
   "version": "2.7.10"
  }
 },
 "nbformat": 4,
 "nbformat_minor": 0
}
