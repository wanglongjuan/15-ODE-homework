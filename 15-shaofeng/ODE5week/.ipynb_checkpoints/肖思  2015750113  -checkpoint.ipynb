{
 "cells": [
  {
   "cell_type": "markdown",
   "metadata": {
    "collapsed": true
   },
   "source": [
    "# 0926"
   ]
  },
  {
   "cell_type": "markdown",
   "metadata": {},
   "source": [
    "**1.求初值问题\n",
    "$$ \\begin{cases}\n",
    "\\frac {\\mathrm d y}{\\mathrm d x} = x^2 - y^2 ,R:|x+1| \\leq 1,|y| \\leq 1,\\\\\n",
    "y(-1) = 0\n",
    "\\end{cases}$$\n",
    "的解的存在区间,并求第二次近似解,给出解的存在区间的误差估计.**"
   ]
  },
  {
   "cell_type": "markdown",
   "metadata": {},
   "source": [
    "**解:**  易知 $ M = \\max_{\\substack {(x,y) \\in R}} = 4 , h = \\frac {b}{M} = \\frac {1}{4} $\n",
    "\n",
    "解的存在区间为: \n",
    "\n",
    "$$ |x - x_0| = |x - (-1)| = |x + 1| \\leq \\frac {1}{4} $$\n",
    "\n",
    "在 $ R $ 上函数的利普希茨常数可取 $ L = 2 $ ,因为\n",
    "\n",
    "$$ | \\frac {\\partial f}{\\partial y}| = |-2y| \\leq 2 = L . $$\n",
    "\n",
    "令 $ \\varphi_0(x) = 0　$\n",
    "\n",
    "则 $\\varphi_1(x) = y_0 + \\int_{-1}^{x} f(x,\\varphi_0 (x)) \\mathrm d x =\\frac {1}{3}x^3 + \\frac {1}{3} $\n",
    "\n",
    "$ \\varphi_2(x) = y_0 + \\int_{-1}^{x} f(x,\\varphi_1(x)) \\mathrm d x = - \\frac {x}{9} + \\frac {x^3}{3} -\\frac {x^4}{18} -\\frac {x^7}{63} + \\frac {11}{42} $\n",
    "\n",
    "由误差计算公式可知\n",
    "\n",
    "$$ |\\varphi_2(x) - \\varphi(x)| \\leq \\frac {4 \\times 2^2 }{3 \\times 2} \\times (\\frac {1}{4})^3 = \\frac {1}{24} $$\n",
    "\n",
    "所以第二次近似解为\n",
    "\n",
    "$$ y_2 = - \\frac {x}{9} + \\frac {x^3}{3} -\\frac {x^4}{18} -\\frac {x^7}{63} + \\frac {11}{42} $$\n",
    "\n",
    "解的存在区间的误差估计为\n",
    "\n",
    "$$ |y_2 - y| \\leq \\frac {1}{24} $$\n",
    "\n"
   ]
  },
  {
   "cell_type": "markdown",
   "metadata": {
    "collapsed": true
   },
   "source": [
    "**2.如果函数 $ f(x,y) $ 于带域 $ \\alpha \\leq x \\leq \\beta $ 上连续且关于 $ y $ 满足利普希茨条件,则方程(3.1)满足条件 $ y(x_0) = y_0 $ 的解于整个区间 $[\\alpha , \\beta ]$上存在且唯一.试证明.**\n",
    "\n",
    "**(提示:用逐步逼近法,取 $$ M =\\max_{\\substack {x \\in [\\alpha , \\beta]}}|f(x_0,y_0)| $$ )**\n"
   ]
  },
  {
   "cell_type": "markdown",
   "metadata": {},
   "source": [
    "**解:** 设 $ M =\\max_{x \\in [\\alpha , \\beta]}|f(x_0,y_0)| , h = \\beta - \\alpha , b = Mh $ 及某常数 $ L $ 使得在域 $ R = {(x,y)|\\alpha \\leq x \\leq \\beta ,|y - y_0| \\leq b} $ 中有\n",
    "\n",
    "$$ | f(x,y_1) - f(x,y_2) | \\leq L|y_1 -y_2|  ,  (x,y_1) ,(x,y_2) \\in R $$\n",
    "\n",
    "构造逐步逼近函数序列\n",
    "\n",
    "$\\begin{cases}\n",
    "\\varphi_0(x) = y_0 \\\\\n",
    "\\varphi_n(x) = y_0 + \\int_{x_0}^x f( \\xi ,\\varphi_{n-1}(\\xi) \\mathrm d x ,\\alpha \\leq x \\leq \\beta ,n = 1,2,3,...\n",
    "\\end{cases}$\n"
   ]
  },
  {
   "cell_type": "markdown",
   "metadata": {},
   "source": [
    "\n",
    "因为 $$ |\\varphi_1(x) - y_0| = |\\int_{x_0}^x f(\\xi , y_0) \\mathrm d x | \\leq \\int_{x_0}^x |f(\\xi , y_0) | \\mathrm d x \\leq M(x - x_0) \\leq Mh \\leq b . $$\n",
    "\n",
    "所以可证得 $$ |\\varphi_n (x) - \\varphi_{n-1} (x)| \\leq \\frac {M}{n \\ !} L^{n - 1} (\\beta - \\alpha)^n $$\n",
    "\n",
    "所以 $$ \\begin{aligned}\n",
    "|\\varphi_{n+1}(x) - \\varphi_n(x) | & \\leq |\\int_{x_0}^{x} f(\\xi , \\varphi_n (\\xi))  - f(\\xi , \\varphi_(n-1) (\\xi)) \\mathrm d \\xi| \\\\\n",
    "&\\leq L|\\int_{x_0}^x |\\varphi_n(\\xi) - \\varphi_{n-1}| \\mathrm d \\xi|  \\\\\n",
    "&\\leq L|\\int_{x_0}^x \\frac {M}{n \\ !} l^{n-1}|\\xi - x_0|^n \\mathrm d \\xi| \\\\\n",
    "&\\leq \\frac {M}{(n+1) \\ !} L^n |x - x_0|^{n+1} \\\\\n",
    "&\\leq \\frac {M}{(n+1) \\ !} L^n (\\beta - \\alpha)^{n+1}\n",
    "\\end{aligned}$$\n",
    "\n",
    "\n",
    "\n"
   ]
  },
  {
   "cell_type": "markdown",
   "metadata": {},
   "source": [
    "因为级数 $$ \\sum_{k = 1}^\\infty \\frac {M}{k \\ !} L^{ k - 1} (\\beta - \\alpha)^k  $$ 收敛\n",
    "\n",
    "所以级数 $$ \\varphi_n (x) = \\varphi_0(x) + \\sum_{k = 1}^\\infty [\\varphi_k (x) - \\varphi_{k-1}(x)] $$\n",
    "\n",
    "在区间 $ [\\alpha , \\beta] $ 一致收敛 , 于是存在极限 $$ \\lim_{n \\to \\infty} \\varphi_n{x} = \\varphi (x) $$ \n",
    "\n",
    "此极限在区间 $ [\\alpha , \\beta ] $ 上连续\n",
    "\n",
    "而且 \n",
    "\n",
    "$$ \\begin{aligned}\n",
    "\\varphi(x) = \\lim_{ n \\to \\infty } \\varphi_n (x) & = y_0 + \\lim_{n \\to \\infty } \\int_{x_0}^x f(\\xi,\\varphi_{n-1}(\\xi)) \\mathrm d \\xi \\\\\n",
    "& = y_0 + \\int_{x_0}^x f(\\xi, \\lim_{n \\to \\infty} \\varphi_{n-1}(\\xi)) \\mathrm d \\xi \\\\\n",
    "& = y_0 + \\int_{x_0}^x f(\\xi,\\varphi (\\xi)) \\mathrm d \\xi\n",
    "\\end{aligned} $$\n",
    "\n",
    "所以 $ \\varphi (x) $ 是微分方程的解\n",
    "\n"
   ]
  },
  {
   "cell_type": "markdown",
   "metadata": {},
   "source": [
    "设 $ \\varphi (x) ,\\psi (x) $ 都满足积分方程\n",
    "\n",
    "$$ y = y_0 + \\int_{x_0}^{x} f (\\xi , y(\\xi)) \\mathrm d \\xi  , \\alpha \\leq x_0 \\beta , \\alpha \\leq x \\leq \\beta $$\n",
    "\n"
   ]
  },
  {
   "cell_type": "markdown",
   "metadata": {},
   "source": [
    "当 $ x \\geq x_0 $ ,利用格朗沃尔不等式可知\n",
    "\n",
    "$$ |\\varphi (x) - \\psi (x)| \\leq \\int_{x_0}^x |f(x,\\varphi (x)) - f(x,\\psi(x))|\\mathrm d x \\leq L \\int_{x_0}^x |\\varphi(x) - \\psi(x)| \\mathrm d x $$\n",
    "\n",
    "所以 $ |\\varphi(x) - \\psi(x)| \\leq 0 $ ,即 $ \\varphi(x) \\equiv \\psi(x) , (\\alpha \\leq x_0 \\leq x \\leq \\beta)$\n"
   ]
  },
  {
   "cell_type": "markdown",
   "metadata": {},
   "source": [
    "同理可证当$ \\alpha \\leq x \\leq x_0 \\leq \\beta $ 时有 $ \\varphi(x) \\equiv \\psi(x) $\n",
    "\n",
    "所以微分方程的解唯一."
   ]
  },
  {
   "cell_type": "markdown",
   "metadata": {},
   "source": [
    "# 0928"
   ]
  },
  {
   "cell_type": "markdown",
   "metadata": {},
   "source": [
    "**1.证明格朗沃尔(Gronwall)不等式:**\n",
    "\n",
    "**设 $ K $ 为非负常数, $ f(t) $ 和 $ g(t) $ 为在区间 $ \\alpha \\leq t \\leq \\beta $ 上的连续非负常数,且满足不等式$$f(t) \\leq K + \\int_{\\alpha}^t f(s)g(s) \\mathrm d s ,\\alpha \\leq t \\leq \\beta  ,$$ \n",
    "则有$$ f(t) \\leq K exp(\\int_{\\alpha}^t g(s) \\mathrm d s) , \\alpha \\leq t \\leq \\beta .$$\n",
    "并由此证明定理1的命题5.**\n"
   ]
  },
  {
   "cell_type": "markdown",
   "metadata": {},
   "source": [
    "**证明:** \n",
    "(1)当$ K > 0 $ 时,令 $ v(t) = K + \\int_\\alpha^t f(s)g(s) \\mathrm d s $\n",
    "\n",
    "则 $$ v^\\prime (t) = f(t)g(t) \\leq g(t)v(t) $$\n",
    "\n",
    "又 $ v(t) > 0 $ ,则 $ \\frac{v^\\prime(t)}{v(t)} \\leq g(t) $\n",
    "\n",
    "两边同时从 $ \\alpha $ 到 $ t $ 积分可知\n",
    "\n",
    "$$\\ln v(t) - \\ln v(\\alpha) \\leq \\int_\\alpha^t g(s) \\mathrm d s $$\n",
    "\n",
    "即$$\\frac {v(t)}{v(\\alpha)} \\leq e^{\\int_\\alpha^t g (s) \\mathrm d s}  ,v(\\alpha) = K $$\n",
    "\n",
    "\n"
   ]
  },
  {
   "cell_type": "markdown",
   "metadata": {},
   "source": [
    "所以 $$ v(t) \\leq K e^{\\int_\\alpha^t g(s)\\mathrm d s } $$\n",
    "\n",
    "即 $$ f(t) \\leq v(t) \\leq K e^{\\int_\\alpha^t g(s)\\mathrm d s } $$\n"
   ]
  },
  {
   "cell_type": "markdown",
   "metadata": {},
   "source": [
    "(2) 当 $ K = 0 $ 时 ,$ \\forall \\epsilon > 0 $ \n",
    "\n",
    "由于$ f(t) \\leq \\int_\\alpha^t f(s) \\mathrm d s $\n",
    "\n",
    "所以 $ f(t) \\leq \\epsilon + \\int_\\alpha^t f(s) \\mathrm d s$\n",
    "\n",
    "由(1)可知 $$ f(t) \\leq \\epsilon e^{\\int_\\alpha^t g(s)\\mathrm d s } $$\n",
    "\n",
    "当 $ \\epsilon \\to 0^+ $ ,有 $ f(t) \\leq 0 $ ,又因为 $ f(t) \\geq 0 $,所以 $ f(t) = 0 $\n",
    "\n",
    "从而 $$ f(t) \\leq K exp(\\int_\\alpha^t g(s) \\mathrm d s) ,\\alpha \\leq t \\leq \\beta . $$\n"
   ]
  },
  {
   "cell_type": "markdown",
   "metadata": {},
   "source": [
    "**利用格朗沃尔不等式证明命题5**\n"
   ]
  },
  {
   "cell_type": "markdown",
   "metadata": {},
   "source": [
    "**证明:** 设 $ \\varphi (t) ,\\psi(t)$是初值问题 $ y^\\prime = f(t,y) ,y(t_0) = y_0 $ 的两个解\n",
    "\n",
    "则$ \\varphi (t) = y_0 + \\int_\\alpha^t f(\\xi ,\\varphi (\\xi)) \\mathrm d s ,\\psi (t) = y_0 + \\int_\\alpha^t f(\\xi ,\\psi (\\xi)) \\mathrm d s $\n",
    "\n",
    "所以 $|\\varphi(t) - \\psi(t)| \\leq \\int_\\alpha^t |f(\\xi , \\varphi(\\xi)) - f(\\xi,\\psi(t))| \\mathrm d s \\leq L \\int_\\alpha^t| \\varphi(\\xi) - \\psi(\\xi)| \\mathrm d s $\n",
    "\n",
    "由格朗沃尔不等式可知 $ K = 0 $且\n",
    "\n",
    "$$ 0 \\leq |\\varphi(t) - \\psi(t)| \\leq Kexp(\\int_\\alpha^t L \\mathrm d s) = 0 $$\n",
    "\n",
    "所以 $$ \\varphi(t) = \\psi(t) $$\n",
    "\n"
   ]
  },
  {
   "cell_type": "markdown",
   "metadata": {},
   "source": [
    "**2.给定积分方程\n",
    "$$ \\varphi (x) = f(x) + \\lambda \\int_a^b K(x,\\xi) \\varphi (\\xi) \\mathrm d \\xi ,        ( * )$$\n",
    "其中 $ f(x)$ 是 $ [a,b] $ 上的已知连续函数, $ K(x,\\xi) $ 是 $ a \\leq x \\leq b ,a \\leq \\xi \\leq b $ 上的已知连续函数.证明当 $ | \\lambda | $  足够小时($ \\lambda $ 是常数),( $ * $ )在$ [a,b] $ 上存在唯一的连续解.**\n",
    "\n",
    "**(提示:作逐步逼近函数序列**\n",
    "$$ \\varphi_0 (x) = f(x)$$\n",
    "\n",
    "$$ \\varphi_{n+1} = f(x) + \\lambda \\int_a^b K (x,\\xi) \\varphi_n (\\xi) \\mathrm d \\xi ,(n = 0 ,1, 2 ...)  $$\n",
    "\n",
    "**)**\n",
    "\n"
   ]
  },
  {
   "cell_type": "markdown",
   "metadata": {
    "collapsed": true
   },
   "source": [
    "**证明:**\n",
    "作逐步逼近函数序列,取 $ \\varphi(x) = f(x) $\n",
    "\n",
    "令\n",
    "$$ \\varphi_0 (x) = f(x)$$\n",
    "\n",
    "$$ \\varphi_{n+1} = f(x) + \\lambda \\int_a^b K (x,\\xi) \\varphi_n (\\xi) \\mathrm d \\xi , (n = 0 ,1, 2 ...)  $$\n"
   ]
  },
  {
   "cell_type": "markdown",
   "metadata": {
    "collapsed": true
   },
   "source": [
    "令\n",
    "$$ M = \\max_{x \\in [a,b]} |f(x)| ,$$\n",
    "\n",
    "$$ L = \\max_{x \\in [a,b]} |K(x,\\xi)| > 0 $$\n",
    "\n",
    "则 $$ |\\varphi_1(x) - \\varphi_0(x)| = | \\lambda \\int_a^b K(x,\\xi)\\varphi_0(\\xi)) \\mathrm d \\xi| \\leq |\\lambda| \\int_a^b |K(x,\\xi)||f(\\xi)| \\mathrm d \\xi \\leq |\\lambda|ML(b-a) $$\n"
   ]
  },
  {
   "cell_type": "markdown",
   "metadata": {},
   "source": [
    "假设 $ |\\varphi_k (x) - \\varphi_{k-1}| \\leq |\\lambda|^k L^k M (b-a)^k $ 成立,则有\n",
    "\n",
    "$$\\begin{aligned}\n",
    "|\\varphi_{k+1}(x) - \\varphi_k (x) | & = | \\lambda \\int_a^b K(x,\\xi) (\\varphi_k (\\xi) - \\varphi_{k-1}(\\xi)) \\mathrm d \\xi | \\\\\n",
    "& \\leq |\\lambda| \\int_a^b |K(x,\\xi)||\\varphi_k (\\xi) - \\varphi_{k-1} (\\xi)| \\mathrm d \\xi  \\\\\n",
    "& \\leq |\\lambda| \\int_a^b L^{k+1}|\\lambda|^k M (b-a)^{k+1} \\mathrm d \\xi \\\\\n",
    "& = |\\lambda |^{k+1} L^{k+1} M (b-a)^{k+1} \n",
    "\\end{aligned} $$\n",
    "\n",
    "\n",
    "\n"
   ]
  },
  {
   "cell_type": "markdown",
   "metadata": {},
   "source": [
    "由数学归纳法可知, $ \\forall n \\in N $,有\n",
    "\n",
    "$$ |\\varphi_n(x) - \\varphi_{n-1}(x) | \\leq M L^n |\\lambda|^n (b -a)^n $$"
   ]
  },
  {
   "cell_type": "markdown",
   "metadata": {},
   "source": [
    "下证 $ \\varphi_n(x)$ 在 $ [a,b] $ 上一致收敛,考虑级数 $$ \\varphi_0(x) + \\sum_{k = 1}^{\\infty} (\\varphi_k(x) - \\varphi_{k-1}(x)) $$\n",
    "\n",
    "只须证明该级数在$ [a,b] $上一致收敛即可.\n",
    "\n"
   ]
  },
  {
   "cell_type": "markdown",
   "metadata": {},
   "source": [
    "由于 $|\\varphi_k(x) - \\varphi_{k-1}(x) | \\leq M L^k |\\lambda|^k (b -a)^k $ \n",
    "\n",
    "当 $ |\\lambda| < \\frac {1}{(b-a)L}$时,级数 $ \\sum_k^{\\infty} M L^k (b-a)^k $收敛,\n",
    "\n",
    "则级数$$ \\varphi_0(x) + \\sum_{k = 1}^{\\infty} (\\varphi_k(x) - \\varphi_{k-1}(x)) $$ 一致收敛"
   ]
  },
  {
   "cell_type": "markdown",
   "metadata": {},
   "source": [
    "设极限函数为 $ \\varphi^{*}(x) $ ,\n",
    "\n",
    "即当 $ x \\in [a,b] $时,\n",
    "\n",
    "$$ \\lim_{n \\to \\infty } \\varphi_n(x) = \\varphi^{*} (x)$$\n",
    "\n",
    "由 $ \\varphi_n(x) $ 在 $ [a,b] $ 上的连续性可知 $ \\varphi^{*}(x) $ 在 $ [a,b] $上也连续"
   ]
  },
  {
   "cell_type": "markdown",
   "metadata": {},
   "source": [
    "对逼近函数序列两边取极限可得\n",
    "\n",
    "$$ \\varphi^{*} (x) = f(x) + |\\lambda| \\int_a^b K(x,\\xi) \\varphi^{*}(x) \\mathrm d \\xi ,|\\lambda| < \\frac{1}{(b-a)L} $$\n",
    "\n",
    "即当 $|\\lambda| < \\frac {1}{(b-a)L}$时,积分方程必定存在连续解.\n",
    "\n"
   ]
  },
  {
   "cell_type": "markdown",
   "metadata": {},
   "source": [
    "下证当 $ |\\lambda| < \\frac{1}{(b-a)L}$时,$(*)$ 的解唯一\n"
   ]
  },
  {
   "cell_type": "markdown",
   "metadata": {},
   "source": [
    "设存在另外一个解 $ \\bar{\\varphi(x)} $ 且 $ \\bar{\\varphi(x)} \\neq \\varphi^{*}(x) $,\n",
    "\n",
    "即 $$ \\bar{\\varphi(x)} = f(x) + |\\lambda|\\int_a^b K(x,\\xi) \\bar{\\varphi(x)} \\mathrm d \\xi $$\n",
    "\n",
    "令 $$ \\bar{M} = \\max_{x \\in [a,b] }|\\varphi^{*}(x) -\\bar{\\varphi(x)}| > 0 $$\n",
    "\n",
    "$$ \\begin{aligned} \n",
    "|\\varphi^{*}(x) -\\bar{\\varphi(x)}| & = |\\lambda \\int_a^b K(x,\\xi) (\\varphi^{*}(\\xi) - \\bar{\\varphi(\\xi)} \\mathrm d \\xi| \\\\\n",
    "& \\leq |\\lambda|\\int_a^b L | \\varphi^{*} (\\xi) - \\bar{\\varphi(\\xi)}| \\mathrm d \\xi \\\\\n",
    "& = |\\lambda | \\bar{M} L (b-a)\n",
    "\\end{aligned} $$\n",
    "\n",
    "即有 $ \\bar{M} \\leq |\\lambda| \\bar{M} L (b-a) $ ,\n",
    "\n",
    "由于 $ |\\bar{M}| > 0 $,所以 $ |\\lambda| \\geq \\frac {1}{(b-a)L} $ ,与 $ |\\lambda| < \\frac {1}{(b-a)L} $ 矛盾\n",
    "\n",
    "所以只存在唯一一个 $ \\varphi^{*}(x) $ 是 $(*)$ 的解."
   ]
  },
  {
   "cell_type": "markdown",
   "metadata": {
    "collapsed": true
   },
   "source": [
    "$A$"
   ]
  },
  {
   "cell_type": "code",
   "execution_count": null,
   "metadata": {
    "collapsed": true
   },
   "outputs": [],
   "source": []
  }
 ],
 "metadata": {
  "kernelspec": {
   "display_name": "Python 2",
   "language": "python",
   "name": "python2"
  },
  "language_info": {
   "codemirror_mode": {
    "name": "ipython",
    "version": 2
   },
   "file_extension": ".py",
   "mimetype": "text/x-python",
   "name": "python",
   "nbconvert_exporter": "python",
   "pygments_lexer": "ipython2",
   "version": "2.7.10"
  }
 },
 "nbformat": 4,
 "nbformat_minor": 0
}
