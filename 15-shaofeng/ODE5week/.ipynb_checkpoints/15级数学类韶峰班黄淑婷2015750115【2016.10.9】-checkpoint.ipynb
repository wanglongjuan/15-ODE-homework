{
 "cells": [
  {
   "cell_type": "markdown",
   "metadata": {},
   "source": [
    "# 常微分作业—— 15数学类韶峰班黄淑婷（2015750115）"
   ]
  },
  {
   "cell_type": "markdown",
   "metadata": {},
   "source": [
    "3.求初值问题\n",
    "  $$\\begin{cases}\n",
    "   \\frac{\\mathrm dy}{\\mathrm dx}=x^2-y^2,R:|x+1|\\leq 1,|y|\\leq 1 \\\\\n",
    "   y(-1)=0 \\\\\n",
    "   \\end{cases}$$\n",
    "  的解的存在区间，并求第二次近似解，给出在解的存在区间的误差估计"
   ]
  },
  {
   "cell_type": "markdown",
   "metadata": {},
   "source": [
    "解：\n",
    "\n",
    "这里 $$M=\\max_{(x,y)\\in R}|f(x,y)|=4 $$, $h$ 是 $a=1$ 及 $\\frac{b}{M}=\\frac{1}{4}$ 中的最小者，故 $h=\\frac{1}{4}$, 在 $R$ 上函数 $f(x,y)=x^2-y^2$ 的利普希茨常数可取为 $L=2$ ,因为 $\\frac{\\partial f}{\\partial y}=|-2y|\\leq 2=L$ .\n",
    "\n",
    "$\\varphi_0(x)=0$,\n",
    "\n",
    "$\\varphi_1=\\int_{-1}^x(t^2-\\varphi_0(t))\\mathrm dt=\\frac{x^3}{3}+\\frac{1}{3}$,\n",
    "\n",
    "$\\varphi_2(x)=\\int_{-1}^x(t^2-\\varphi_1(t))\\mathrm dt=\\frac{x^3}{3}-\\frac{x}{9}-\\frac{x^4}{18}-\\frac{x^7}{63}+\\frac{11}{42}$,\n",
    "\n",
    "由误差估计公式 $|\\varphi_n(x)-\\varphi(x)|\\leq\\frac{ML^n}{(n+1)!}h^{n+1}$ 得\n",
    "\n",
    "$|\\varphi_2(x)-\\varphi(x)|\\leq\\frac{1}{24}$ \n",
    "\n",
    "所以，已知初值问题的解的存在区间为 $-\\frac{5}{4}\\leq x\\leq-\\frac{3}{4}$ ,第二次近似解为 $y_2=\\frac{x^3}{3}-\\frac{x}{9}-\\frac{x^4}{18}-\\frac{x^7}{63}+\\frac{11}{42}$ , 在解的存在区间的误差估计为  $|y-y_2|\\leq\\frac{1}{24}$"
   ]
  },
  {
   "cell_type": "markdown",
   "metadata": {},
   "source": [
    "6.证明格朗沃尔（Gronwall）不等式 ：\n",
    "\n",
    "设 $K$ 为非负常数，$f(t)$ 和 $g(t)$ 为在区间 $\\alpha\\leq t\\leq\\beta$ 上的连续非负函数，且满足不等式\n",
    "\n",
    "$$f(t)\\leq K+\\int_\\alpha^t f(s)g(s) \\mathrm ds ,\\alpha\\leq t\\leq \\beta$$ ,\n",
    "\n",
    "则有\n",
    "\n",
    "$$f(t)\\leq Kexp(\\int_\\alpha^t g(s) \\mathrm ds),\\alpha\\leq t\\leq\\beta.$$\n",
    "并由此证明定理一的命题五。"
   ]
  },
  {
   "cell_type": "markdown",
   "metadata": {},
   "source": [
    "证明：(1) $K >0$ 时，令\n",
    "$$\\omega(t)=K+\\int_\\alpha^t f(s)g(s) \\mathrm ds,$$\n",
    "\n",
    "则 $\\omega'(t)=f(t)g(t)\\leq g(t)\\omega(t)$,由 $\\omega(t)>0$ 可得 \n",
    "$$\\frac{\\omega'(t)}{omega(t)}\\leq g(t)$$\n",
    "\n",
    "两边从 $\\alpha$ 到 $t$ 积分得\n",
    "$$ln\\omega(t)-ln\\omega(\\alpha)\\leq\\int_\\alpha^t g(s) \\mathrm ds,$$\n",
    "\n",
    "即有\n",
    "$$\\frac{\\omega(t)}{\\omega(\\alpha)}\\leq exp(\\int_\\alpha^t g(s) \\mathrm ds),$$\n",
    "\n",
    "$$\\omega(\\alpha)=K>0$$\n",
    "\n",
    "所以\n",
    "$$\\omega(\\alpha)\\leq K exp(\\int_\\alpha^t g(s) \\mathrm ds)$$\n",
    "\n",
    "即有\n",
    "$$f(t)\\leq \\omega(t)\\leq K exp(\\int_\\alpha^t g(s) \\mathrm ds),\\alpha\\leq t\\leq\\beta$$.\n",
    "\n",
    "(2)当 $K=0$ 时，对任意 $\\varepsilon>0$, 由于 $f(t)\\leq \\int_\\alpha^t f(s)g(s) \\mathrm ds$,所以，$f(t)\\leq \\varepsilon+\\int_\\alpha^t f(s)g(s) \\mathrm ds$.由 (1)，有 $f(t)\\leq\\varepsilon exp(\\int_\\alpha^t g(s) \\mathrm ds)$. 当 $\\varepsilon \\to 0^+$ 时，有 $f(t)\\leq0$.又因为 $f(t)\\geq0$, 即得 $f(t)\\equiv0$. 从而\n",
    "$$f(t)\\leq K exp(\\int_\\alpha^t g(s) \\mathrm ds),\\alpha\\leq t\\leq\\beta$$.\n",
    "\n",
    "综上所述，格朗沃尔不等式证毕。\n",
    "\n",
    "证明定理一的命题五：\n",
    "设 $\\varphi(t),\\psi(t)$ 是初值问题\n",
    "$$x'=f(t,x),x(t_0)=x_0$$\n",
    "的两个解，则有\n",
    "$$\\varphi(t)=x_0+\\int_{t_0}^t f(\\xi,\\varphi(\\xi))\\mathrm d\\xi$$\n",
    "\n",
    "$$\\psi(t)=x_0+\\int_{t_0}^t f(\\xi,\\psi(\\xi)) \\mathrm d\\xi$$.\n",
    "\n",
    "于是，\n",
    "$$|\\varphi(t)-\\psi(t)|\\leq\\int_{t_0}^t |f(\\xi,\\varphi(\\xi))-f(\\xi,\\psi(\\xi))|  \\mathrm d\\xi \\\\\n",
    "               \\leq L\\int_{t_0}^t |\\varphi(\\xi)-\\psi(\\xi)| \\mathrm d\\xi$$,\n",
    "其中 $L$ 为利普希茨条件，由格朗沃尔不等式知\n",
    "$$0\\leq |\\varphi(t)-\\psi(t)|\\leq0$$,\n",
    "因而有 $$\\varphi(t)=\\psi(t)$$.\n",
    "\n",
    "从而定理一的命题五得证。"
   ]
  },
  {
   "cell_type": "markdown",
   "metadata": {},
   "source": [
    "8.如果函数 $f(x,y)$ 于带域 $\\alpha\\leq x\\leq\\beta$ 上连续且关于 $y$ 满足利普希茨条件，则方程 $\\frac{\\mathrm dy}{\\mathrm dx}=f(x,y)$ 满足条件 $y(x_0)=y_0$ 的解于整个区间 $[\\alpha,\\beta]$ 上存在且唯一解。试证明之。"
   ]
  },
  {
   "cell_type": "markdown",
   "metadata": {},
   "source": [
    "证明：\n",
    "设 $M=max｜f(x,y_0)｜,h=\\beta-\\alpha，b=Mh$\n",
    "\n",
    "及有常数L使得在域 $R=｛(x,y)|\\alpha\\leq x\\leq \\beta,|y-y_0|\\leq b｝$中有\n",
    "\n",
    "$|f(x,y_1)-f(x,y_2)|\\leq L|y_1-y_2|,(x,y_1),(x,y_2)∈R$\n",
    "\n",
    "构造逐步副近函数序列\n",
    "\n",
    "$\\left\\{\\begin{array}\\ \\varphi_0(x)=y_0\\\\ \\varphi_0(x)=y_0+\\int_{x_0}^x f(\\xi,\\varphi_{n-1}(\\xi))dx,\\alpha\\leq x\\leq \\beta,n=1,2... \\end{array}\\right.$\n",
    "\n",
    "因 $|\\varphi_1(x)-y_0|=|\\int_{x_0}^x f(\\xi,y_0)dx|\\leq \\int_{x_0}^x |f(\\xi,y_0)dx| \\leq M(x-x_0)\\leq Mh\\leq b$\n",
    "\n",
    "可证 $|\\varphi_n(x)-\\varphi_{n-1}(x)|\\leq \\frac{M}{n!}L^{n-1}(\\beta-\\alpha)^n$\n",
    "\n",
    "$|\\varphi_{n+1}（x）-\\varphi_n(x)|\\leq |\\int_{x_0}^x|f(\\xi,\\varphi_n(\\xi))-f(\\xi,\\varphi_{n-1}(\\xi))|d\\xi|\\leq L|\\int_{x_0}^x|\\varphi_n(\\xi)-\\varphi_{n-1}(\\xi)|d\\xi|\\leq L|\\int_{x_0}^x \\frac{M}{n!}L^{n-1}|\\xi-x_0|^nd\\xi|\\leq \\frac{M}{(n+1)!}L^n|x-x_0|^{n+1}\\leq \\frac{M}{(n+1)!}L^n(\\beta-\\alpha)^{n+1}$\n",
    "\n",
    "因为级数 $\\displaystyle\\sum_{k=1}^{\\infty}\\frac{M}{k!}L^{k-1}(β-α)^k$ 收敛\n",
    "\n",
    "所以级数 $\\varphi_n(x)=\\varphi_0(x)+\\displaystyle\\sum_{k=1}^{\\infty}[\\varphi_k(x)-\\varphi_{k-1}(x)]$ 在区间 $[\\alpha,\\beta]$ 一致收敛\n",
    "\n",
    "即存在极限 $\\lim_{n \\to \\infty} \\varphi_n(x)=\\varphi(x)$ 在区间 $[\\alpha,\\beta]$ 连续\n",
    "\n",
    "且 $\\varphi(x)=\\lim_{n \\to \\infty} \\varphi_n(x)=y_0+\\lim_{n \\to \\infty}\\int_{x_0}^xf(\\xi,\\varphi_{n-1}(\\xi)dx=y_0+\\int_{x_0}^xf(x,\\lim_{n \\to \\infty}\\varphi_{n-1}(\\xi))d\\xi=y_0+\\int_{x_0}^xf(\\xi,\\varphi(\\xi))d\\xi$\n",
    "\n",
    "所以解为 $\\varphi(x)$\n",
    "\n",
    "设 $\\varphi(\\xi)，\\psi(x)$ 均满足方程 $y=y_0+\\int_{x_0}^xf(\\xi,y(\\xi))d\\xi,\\alpha\\leq x_0\\leq \\beta,\\alpha\\leq x\\leq \\beta$\n",
    "\n",
    "当 $x\\geq x_0$ 时\n",
    "\n",
    "用格朗沃尔不等式\n",
    "\n",
    "由 $|\\varphi(\\xi)-\\psi(x)|\\leq\\int_{x_0}^x|f(s,\\varphi(s))-f(s,\\psi(s))|ds\\leq L\\int_{x_0}^x|\\varphi(s)-\\psi(s)|ds$\n",
    "\n",
    "得 $|\\varphi(s)-\\psi(s)|\\leq 0，即\\varphi(x)\\equiv \\psi(x)(\\alpha\\leq x_0\\leq x\\leq \\beta)$\n",
    "\n",
    "同理，当 $\\alpha\\leq x_0\\leq x\\leq \\beta时,\\varphi(x)\\equiv \\psi(x)$\n",
    "\n",
    "即解是唯一的。"
   ]
  },
  {
   "cell_type": "markdown",
   "metadata": {},
   "source": [
    "10.给定积分方程\n",
    "  $$\\varphi(x)=f(x)+\\lambda\\int_a^b K(x,\\xi)\\varphi(\\xi)\\mathrm dm                 ( * )$$\n",
    "  其中 $f(x)$ 是 $[a,b]$ 上的已知连续函数， $K(x,\\xi)$ 是 $a\\leq x\\leq b,a\\leq\\xi\\leq b$ 上的已知连续函数，证明当 $|\\lambda|$ 足够小时（ $\\lambda$ 是常数），（$ * $）在 $[a,b]$ 上存在唯一的连续解。"
   ]
  },
  {
   "cell_type": "markdown",
   "metadata": {},
   "source": [
    "证明： 作主次逼近序列，取 $$\\varphi_0(x)=f(x)$$,\n",
    "令 $$\\varphi_1(x)=f(x)+\\lambda\\int_a^b k(x,\\xi)\\varphi_0(\\xi) \\mathrm d\\xi$$,\n",
    "$$\\dots$$\n",
    "$$\\varphi_{n+1}(x)=f(x)+\\lambda\\int_a^b k(x,\\xi)\\varphi_n(\\xi) \\mathrm d\\xi  \\dots\\dots\\dots(1)$$\n",
    "\n",
    "$$\\dots$$\n",
    "令$$M=\\max_{x\\in[a,b]}|f(x)|,L=\\max_{\\substack{\n",
    "                         x\\in[a,b] \\\\\n",
    "                         \\xi\\in[a,b]\n",
    "                         }}\n",
    "                         |k(x,\\xi)|>0$$\n",
    "$|\\varphi_1(x)-\\varphi_0(x)|=|\\lambda\\int_a^b k(x,\\xi)\\varphi_0(x)\\mathrm d\\xi|\\\\\n",
    "                   \\leq|\\lambda|\\int_a^b|k(x,\\xi)||f(\\xi)|\\mathrm d\\xi\\\\\n",
    "                   \\leq|\\lambda|ML(b-a)$，\n",
    "假设 $|\\varphi_k(x)-\\varphi_{k-1}|\\leq|\\lambda|^kL^kM(b-a)^k$ 成立，则有\n",
    "$$|\\varphi_{k+1}(x)-\\varphi_k(x)|=|\\lambda\\int_a^b k(x,\\xi)(\\varphi_k(\\xi)-\\varphi_{k-1}(\\xi))\\mathrm d\\xi|\\\\\n",
    "                      \\leq|\\lambda|\\int_a^b |k(x,\\xi)||\\varphi_k(\\xi)-\\varphi_{k-1}(\\xi)|\\mathrm d\\xi\\\\\n",
    "                      \\leq|\\lambda|\\int_a^b L^{k+1}|\\lambda|^kM(b-a)^k\\mathrm d\\xi\\\\\n",
    "                      =|\\lambda|^{k+1}L^{k+1}M(b-a)^{k+1}$$,\n",
    "由数学归纳法得到，对任意的 $n\\in N$, 有\n",
    "$$|\\varphi_n(x)-\\varphi_{n-1}(x)|\\leq ML^n|\\lambda|^n(b-a)^n$$.\n",
    "\n",
    "下面证明 ${\\varphi_n(x)}$ 在 $[a,b]$ 上一致收敛。考虑级数\n",
    "$$\\varphi_0(x)+\\displaystyle\\sum_{k=1}^n (\\varphi_k(x)-\\varphi_{k-1}(x))  \\dots\\dots\\dots (2)$$\n",
    "该级数的前 n 项和为\n",
    "$$\\varphi_0(x)+\\displaystyle\\sum_{k=1}^n (\\varphi_k(x)-\\varphi_{k-1}(x))=\\varphi_n (x)$$\n",
    "所以要证明序列 ${\\varphi_n (x)}$ 在 $[a,b]$ 上一致收敛，只需要证明级数(2)在 $[a,b]$ 上一致收敛即可。由于\n",
    "$$|\\varphi_k (x)-\\varphi_{k-1} (x)|\\leq ML^k|\\lambda|^k(b-a)^k$$,\n",
    "\n",
    "当 $|\\lambda|<\\frac{1}{(b-a)L}$ 时，级数 $\\displaystyle\\sum_{k-1}^{\\infty} ML^k|\\lambda|^k(b-a)^k$ 收敛，从而得到当 $|\\lambda|<\\frac{1}{(b-a)L}$ 时，级数（2）在 $[a,b]$ 上一致收敛。设极限函数为 $\\varphi^*(x)$ ，即 $x\\in[a,b]$ 时，当 $n\\to\\infty$ 时，$\\varphi_n(x)$ 一致收敛于 $\\varphi^*(x)$ ，且由 $\\varphi^n(x)$ 的连续性得到 $\\varphi^*(x)$ 在 $[a,b]$ 上连续，对迭代列（1），当 $n\\to\\infty$ 时，两边取极限，得到\n",
    "$$varphi^*(x)=f(x)+\\lambda\\int_a^b k(x,\\xi)\\varphi^*(\\xi)\\mathrm d\\xi$$\n",
    "$$(|\\lambda|<\\frac{1}{(b-a)L})$$\n",
    "从而有当 $|\\lambda|<\\frac{1}{(b-a)L}$ 时，积分方程必有连续解。\n",
    "唯一性：\n",
    "设另有解 $\\varphi^@(x)$ 且 $\\varphi^@(x)\\neq\\varphi^*(x)$,即\n",
    "$$\\varphi^@(x)=f(x)+\\lambda\\int_a^b k(x,\\xi)\\varphi^@(\\xi)\\mathrm d\\xi$$\n",
    "记 $$Q=\\max^{x\\in[a,b]}|\\varphi^*(x)-\\varphi^@(x)|>0$$,\n",
    "\n",
    "$$|\\varphi^*(x)-\\varphi^@(x)|=|\\lambda\\int_a^b k(x,\\xi)(\\varphi^*(\\xi)-\\varphi^@(x))\\mathrm d\\xi|\\\\\n",
    "                    \\leq|\\lambda|\\int_a^b L|\\varphi^*(\\xi)-\\varphi^@(\\xi)|\\mathrm d\\xi\n",
    "                    =|\\lambda|QL(b-a)$$,\n",
    "即有  $Q\\leq|\\lambda|QL(b-a)$, 由于 $Q>0$ ,所以 $|\\lambda|\\geq\\frac{1}{(b-a)L}$, 与 $|\\lambda|<\\frac{1}{(b-a)L}$ 矛盾，唯一性得证。 "
   ]
  },
  {
   "cell_type": "markdown",
   "metadata": {},
   "source": [
    "$A^+$"
   ]
  },
  {
   "cell_type": "code",
   "execution_count": null,
   "metadata": {
    "collapsed": true
   },
   "outputs": [],
   "source": []
  }
 ],
 "metadata": {
  "kernelspec": {
   "display_name": "SageMath 7.3",
   "language": "",
   "name": "sagemath"
  },
  "language_info": {
   "codemirror_mode": {
    "name": "ipython",
    "version": 2
   },
   "file_extension": ".py",
   "mimetype": "text/x-python",
   "name": "python",
   "nbconvert_exporter": "python",
   "pygments_lexer": "ipython2",
   "version": "2.7.10"
  }
 },
 "nbformat": 4,
 "nbformat_minor": 0
}
