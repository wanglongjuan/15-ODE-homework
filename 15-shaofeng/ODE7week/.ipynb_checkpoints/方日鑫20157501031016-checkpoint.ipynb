{
 "cells": [
  {
   "cell_type": "markdown",
   "metadata": {},
   "source": [
    "# 1.假设函数$f(x,y)$及$\\frac{\\partial f}{\\partial y}$都在区域$G$内连续，又$y=\\varphi (x,x_0,y_0)$是方程(3.1)满足初值条件$\\varphi (x_0,x_0,y_0)=y_0$的解，试证$\\frac{\\partial \\varphi}{\\partial y_0}$存在且连续，并写出其表达式"
   ]
  },
  {
   "cell_type": "markdown",
   "metadata": {},
   "source": [
    "证明：\n",
    "设由初值$(x_0,y_0)，(x_0,y_0+\\Delta y_0)$（$|\\Delta y_0|$足够小）所确定的方程的解分别为$y=\\varphi(x,x_0,y_0)=\\varphi$和$y=\\varphi(x,x_0,y_0+\\Delta y_0)=\\psi \\\\$\n",
    "则\n",
    "$$\\varphi=y_0+\\int_{x_0}^x f(x,\\varphi)\\mathrm dx和\\psi=y_0+\\Delta y_0+\\int_{x_0}^x f(x,\\psi)\\mathrm dx \\\\$$\n",
    "作差\n",
    "$$\\psi-\\varphi=\\Delta y_0+\\int _{x_0}^x (f(\\psi)-f(\\varphi)) \\mathrm dx=\\Delta y_0+\\int_{x_0}^x \\frac{\\partial f(x,\\varphi+\\theta(\\psi-\\varphi))}{\\partial y} (\\psi-\\varphi) \\mathrm dx (\\theta \\in (0,1))\\\\$$\n",
    "由$\\frac{\\partial f}{\\partial y}$的连续性，有\n",
    "$$\\frac{\\partial f(x,\\varphi+\\theta(\\psi-\\varphi)}{\\partial y}=\\frac{\\partial f(x,\\varphi)}{\\partial y}+r,当\\Delta y_0 \\to 0,r\\to 0\\\\$$\n",
    "$$\\frac{\\psi-\\varphi}{\\Delta y_0}=1+\\int_{x_0}^x [\\frac{\\partial f(x,\\varphi)}{\\partial y}+r]\\frac{\\psi-\\varphi}{\\Delta y_0} \\mathrm dx\\\\$$\n",
    "令$z=\\frac{\\psi-\\varphi}{\\Delta y_0}\\\\$\n",
    "则$z$是初值问题\n",
    "$$\n",
    "\\begin{cases}\n",
    "\\frac{\\mathrm dz}{\\mathrm dx}=[\\frac{\\partial f(x,\\varphi)}{\\partial y}+r]z,\\\\\n",
    "z(x_0)=1\n",
    "\\end{cases}\n",
    "$$\n",
    "的解，此处$\\Delta y_0\\ne 0$视作参数.显见$\\Delta y_0=0$也有解，由对参数的连续性得存在\n",
    "$$\\lim_{\\Delta y_0 \\to 0}\\frac{\\psi-\\varphi}{\\Delta y_0} \\equiv \\frac{\\partial \\varphi}{\\partial x_0}$$\n",
    "而$\\frac{\\partial \\varphi}{\\partial x_0}$是初值问题\n",
    "$$\n",
    "\\begin{cases}\n",
    "\\frac{\\mathrm dz}{\\mathrm dx}=\\frac{\\partial f(x,\\varphi)}{\\partial y} z,\\\\\n",
    "z(x_0)=1\n",
    "\\end{cases}\n",
    "$$\n",
    "分离变量，再积分可得\n",
    "$$ \\frac{\\partial \\varphi}{\\partial x_0}=z=\\exp(\\int_{x_0}^x \\frac{\\partial f(t,\\varphi)}{\\partial y}\\mathrm dt)$$"
   ]
  },
  {
   "cell_type": "markdown",
   "metadata": {},
   "source": [
    "2.假设函数$P(x)$和$Q(x)$于区间$[\\alpha ,\\beta]$上连续，$y=\\varphi (x,x_0,y_0)$是方程\n",
    "$$\\frac{\\mathrm dy}{\\mathrm dx}=P(x)y+Q(x)\\\\$$\n",
    " 的解，$y_0=\\varphi (x_0,x_0,y_0)$试着求$\\frac{\\partial \\varphi}{\\partial x_0},\\frac{\\partial \\varphi}{\\partial y_0 }$及$\\frac{\\partial \\varphi}{\\partial x}$,并从解的表达式出发，利用对参数求导数的方法检验结果."
   ]
  },
  {
   "cell_type": "markdown",
   "metadata": {},
   "source": [
    "$$\\frac{\\partial \\varphi}{\\partial x_0}=-f(x_0,y_0)\\exp(\\int_{x_0}^x \\frac{\\partial f(t,\\varphi)}{\\partial y}\\mathrm dt)=-(P(x_0)y_0+Q(x_0))\\exp(\\int_{x_0}^xP(t)\\mathrm dt)\\\\\n",
    "\\frac{\\partial \\varphi}{\\partial y_0}=\\exp(\\int_{x_0}^xP(t)\\mathrm dt)\\\\\n",
    "\\frac{\\partial \\varphi}{\\partial x}=P(x)y+Q(x)\\\\\n",
    "$$\n",
    "由常数变易法可得，方程的解为\n",
    "$$y=e^{\\int_{x_0}^x P(t)\\mathrm dt}(\\int_{x_0}^x Q(t)e^{-\\int_{x_0}^x P(t)\\mathrm dt}\\mathrm dt+y_0)\\\\$$\n",
    "事实上只需验证$\\frac{\\partial \\varphi}{\\partial x_0}$和$\\frac{\\partial \\varphi}{\\partial y_0}$\n",
    "\n",
    "直接求偏导即可"
   ]
  },
  {
   "cell_type": "markdown",
   "metadata": {},
   "source": [
    "3.给定方程\n",
    " $$\\frac{\\mathrm dy}{\\mathrm dx}=\\sin (\\frac{y}{x})$$\n",
    " 试求$\\frac{\\partial y(x,x_0,y_0)}{\\partial x_0},\\frac{\\partial y(x,x_0,y_0)}{\\partial y_0}$在$x_0=1,y_0=0$的表达式."
   ]
  },
  {
   "cell_type": "markdown",
   "metadata": {},
   "source": [
    "$$\\frac{\\partial \\varphi}{\\partial x_0}=-f(x_0,y_0)\\exp(\\int_{x_0}^x \\frac{\\partial f(t,\\varphi)}{\\partial y}\\mathrm dt)=0\\\\\n",
    "\\frac{\\partial \\varphi}{\\partial y_0}=\\exp(\\int_{x_0}^x \\frac{\\partial f(t,\\varphi)}{\\partial y}\\mathrm dt)=\\exp(\\int_1^x \\frac{\\cos{\\frac{y}{t}}}{t}\\mathrm dt)\n",
    "$$"
   ]
  },
  {
   "cell_type": "markdown",
   "metadata": {},
   "source": [
    "# 4.设$y=\\varphi(x,x_0,y_0,\\lambda)$是初值问题\n",
    "# $$\\frac{\\mathrm dy}{\\mathrm dx}=\\sin (\\lambda xy),\\varphi (x_0,x_0,y_0,\\lambda)=y_0\\\\$$\n",
    "# 的饱和解，这里$\\lambda$是参数，求$\\frac{\\partial \\varphi}{\\partial x_0},\\frac{\\partial \\varphi}{\\partial y_0}$在$(x,0,0,1)处的表达式$"
   ]
  },
  {
   "cell_type": "markdown",
   "metadata": {},
   "source": [
    "$$\\frac{\\partial \\varphi}{\\partial x_0}=-f(0,0)\\exp(\\int_0^x x\\cos(x \\varphi(x,x_0,y_0,\\lambda))\\mathrm dx=0\\\\$$\n",
    "由皮卡逼近的步骤可以看到若$x_0=0,y_0=1,\\lambda=1$则$\\varphi(x,x_0,y_0,\\lambda)\\equiv 0$\n",
    "\n",
    "那么\n",
    "$$\\frac{\\partial \\varphi}{\\partial x_0}=\\exp(\\int_0^x x\\cos(x \\varphi(x,x_0,y_0,\\lambda))\\mathrm dx=\\exp(\\int_0^x x\\mathrm dx)=\\exp(\\frac{x^2}{2})$$"
   ]
  },
  {
   "cell_type": "markdown",
   "metadata": {},
   "source": [
    "**B**"
   ]
  },
  {
   "cell_type": "code",
   "execution_count": null,
   "metadata": {
    "collapsed": true
   },
   "outputs": [],
   "source": []
  }
 ],
 "metadata": {
  "kernelspec": {
   "display_name": "SageMath 7.3",
   "language": "",
   "name": "sagemath"
  },
  "language_info": {
   "codemirror_mode": {
    "name": "ipython",
    "version": 2
   },
   "file_extension": ".py",
   "mimetype": "text/x-python",
   "name": "python",
   "nbconvert_exporter": "python",
   "pygments_lexer": "ipython2",
   "version": "2.7.10"
  }
 },
 "nbformat": 4,
 "nbformat_minor": 0
}
