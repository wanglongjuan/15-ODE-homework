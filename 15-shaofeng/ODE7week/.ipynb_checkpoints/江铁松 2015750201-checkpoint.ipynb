{
 "cells": [
  {
   "cell_type": "markdown",
   "metadata": {},
   "source": [
    "# 习题3.3"
   ]
  },
  {
   "cell_type": "markdown",
   "metadata": {},
   "source": [
    "### 1、"
   ]
  },
  {
   "cell_type": "markdown",
   "metadata": {},
   "source": [
    "$证$\n",
    "\n",
    "$设y=\\varphi(x,x_0,y_0+\\bigtriangleup y_0)=\\widetilde{\\varphi}为初值(x_0,y_0+\\bigtriangleup y_0)     (|\\bigtriangleup y_0| \\leq \\alpha)所确定的解$\n",
    "\n",
    "$y=\\varphi(x,x_0,y_0)=\\varphi为初值(x_0,y_0)所确定的解$\n",
    "\n",
    "$\\varphi=y_0+\\int_{x_0}^x f(x,\\varphi)dx$\n",
    "\n",
    "$\\widetilde{\\varphi}=y_0+\\bigtriangleup y_0+\\int_{x_0}^x f(x,\\widetilde{\\varphi})dx$\n",
    "\n",
    "$\\widetilde{\\varphi}-\\varphi=\\bigtriangleup y_0+\\int_{x_0}^x [f(x,\\widetilde{\\varphi})-f(x,\\varphi)]dx=\\bigtriangleup y_0+\\int_{x_0}^x \\frac{\\partial f(x,\\varphi+\\theta(\\widetilde{\\varphi}-\\varphi))}{\\partial y}(\\widetilde{\\varphi}-\\varphi)dx$\n",
    "\n",
    "$\\frac{\\partial f(x,\\varphi+\\theta(\\widetilde{\\varphi}-\\varphi)}{\\partial y}=\\frac{\\partial f(x,\\varphi)}{\\partial y}+r_3$\n",
    "\n",
    "\n",
    "$当\\bigtriangleup y_0  \\to 0,r_3 \\to 0$\n",
    "\n",
    "$当\\bigtriangleup y_0=0,r_3=0$\n",
    "\n",
    "$\\frac{\\widetilde{\\varphi}-\\varphi}{\\bigtriangleup y_0}=1+\\frac{1}{\\bigtriangleup y_0}\\int_{x_0}^x (\\frac{\\partial f(x,\\varphi)}{\\partial y}+r_3)(\\widetilde{\\varphi}-\\varphi)dx$\n",
    "\n",
    "$即z=\\frac{\\widetilde{\\varphi}-\\varphi}{\\bigtriangleup y_0}是初值问题$\n",
    "\n",
    "\\begin{cases} \n",
    "\\frac{dz}{dx}=[\\frac{\\partial f(x,\\varphi)}{\\partial y}+r_3]z\\\\\n",
    "z(x_0)=1\n",
    "\\end{cases} \n",
    "\n",
    "的解\n",
    "\n",
    "$因而\\frac{\\widetilde{\\varphi}-\\varphi}{\\bigtriangleup y_0}=exp(\\int_{x_0}^x \\frac{\\partial f(x,\\varphi)}{\\partial y\n",
    "}+r_3)$\n",
    "\n",
    "$在这里\\bigtriangleup y_0 \\neq 0 被看成参数，显然，\\bigtriangleup y_0=0时上述初值问题仍然有解$\n",
    "\n",
    "$故有\\frac{\\partial \\varphi}{\\partial y_0}=\\lim_{\\bigtriangleup y_0 \\to 0} \\frac{\\widetilde{\\varphi}-\\varphi}{\\bigtriangleup y_0}=exp{\\int_{x_0}^x (\\frac{\\partial f(x,\\varphi)}{\\partial y})dx}$\n",
    "\n",
    "$它是x,x_0,y_0的连续函数。$\n",
    "\n",
    "\n"
   ]
  },
  {
   "cell_type": "markdown",
   "metadata": {},
   "source": [
    "### 2、"
   ]
  },
  {
   "cell_type": "markdown",
   "metadata": {},
   "source": [
    "$\\frac{\\partial \\varphi}{\\partial x_0}=-f(x_0,y_0)e^{\\int_{x_0}^x (\\frac{\\partial f(x,\\varphi)}{\\partial y})dx}=-[P(x_0)y_0+Q(x_0)]e^{\\int_{x_0}^x P(x)dx}$\n",
    "\n",
    "$\\frac{\\partial \\varphi}{\\partial y_0}=e^{\\int_{x_0}^x (\\frac{\\partial f(x,\\varphi)}{\\partial y})dx}=e^{\\int_{x_0}^x P(x)dx}$\n",
    "\n",
    "$\\frac{\\partial \\varphi}{\\partial x}=f(x,\\varphi(x,x_0,y_0))=P(x)\\varphi(x,x_0,y_0)+Q(x)$\n",
    "\n",
    "检验：\n",
    "\n",
    "$解的表达式为y=e^{\\int P(x)dx}(\\int Q(x)e^{-\\int P(x)dx}+\\widetilde{c})$\n",
    "\n",
    "$将（x_0,y_0）代入得y_0=e^{\\int P(x_0)dx_0}(\\int Q(x_0)e^{-\\int P(x_0)dx_0}+\\widetilde{c})$\n",
    "\n",
    "$式的两边同时对x_0求导得0=P(x_0)e^{\\int P(x_0)dx_0}(\\int {Q(x_0)e^{-\\int P(x_0)dx_0}dx_0  }+\\widetilde{c})+e^{\\int P(x_0)dx_0}[Q(x_0)e^{-\\int P(x_0)dx_0}+\\frac{\\partial\\widetilde{c} }{\\partial x_0}]$\n",
    "\n",
    "$0=P(x_0)y_0+Q(x_0)+e^{\\int P(x_0)dx_0} \\frac{\\partial\\widetilde{c} }{\\partial x_0}$\n",
    "\n",
    "$\\frac{\\partial\\widetilde{c} }{\\partial x_0}=-[P(x_0)y_0+Q(x_0)]e^{-\\int P(x_0)dx_0}$\n",
    "\n",
    "$所以\\frac{\\partial \\varphi}{\\partial x_0}=-e^{\\int P(x)dx}e^{\\int P(x_0)dx_0}[P(x_0)y_0+Q(x_0)]e^{-\\int P(x_0)dx_0}$\n",
    "\n",
    "$=-[P(x_0)y_0+Q(x_0)]e^{\\int P(x)dx-\\int P(x_0)dx_0}$\n",
    "\n",
    "$=-[P(x_0)y_0+Q(x_0)]e^{\\int_{x_0}^x P(x)dx}$\n",
    "\n",
    "$\\frac{\\partial\\widetilde{c} }{\\partial y_0}=e^{\\int P(x_0)dx_0}$\n",
    "\n",
    "$\\frac{\\partial \\varphi}{\\partial y_0}=e^{\\int P(x)dx}\\frac{\\partial\\widetilde{c} }{\\partial y_0}=e^{\\int P(x)dx}e^{-\\int P(x_0)dx_0}=e^{\\int_{x_0}^x P(x)dx}$\n",
    "\n",
    "$\\frac{\\partial \\varphi}{\\partial x}=f(x,\\varphi(x,x_0,y_0))=P(x)\\varphi(x,x_0,y_0)+Q(x)$\n",
    "\n"
   ]
  },
  {
   "cell_type": "markdown",
   "metadata": {},
   "source": [
    "### 3、"
   ]
  },
  {
   "cell_type": "markdown",
   "metadata": {},
   "source": [
    "$解：令f(x,y)=sin(\\frac{y}{x})$\n",
    "\n",
    "$因为-f(x_0,y_0)=-sin(\\frac{y_0}{x_0})$\n",
    "\n",
    "$当x_0=1,y_0=0时，-f(x_0,y_0)=0$\n",
    "\n",
    "$所以\\frac{\\partial y(x,x_0,y_0)}{\\partial x_0}=0$\n",
    "\n",
    "$\\frac{\\partial y(x,x_0,y_0)}{\\partial y_0}=e^{\\int \\frac{1}{x}cos\\frac{y}{x}dx}$\n",
    "\n",
    "$因为\\frac{\\partial f}{\\partial y}=\\frac{1}{x}cos\\frac{y}{x}在带域|x-1|\\leq \\frac{1}{2}内有界，所以满足利普希茨条件，由解的唯一存在定理知满足\\varphi(1)=0的解唯一又y=0是满足方程的解过(1,0),定义于整个区间$\n",
    "\n",
    "$所以\\frac{\\partial y(x,x_0,y_0)}{\\partial y_0}=e^{\\int_1^x \\frac{1}{x}cos0dx }=e^{ln|x|}=|x|$"
   ]
  },
  {
   "cell_type": "markdown",
   "metadata": {},
   "source": [
    "### 4、"
   ]
  },
  {
   "cell_type": "markdown",
   "metadata": {},
   "source": [
    "解：\n",
    "\n",
    "$当 \\lambda=1时$\n",
    "\n",
    "$\\frac{dy}{dx}=sin(xy)$\n",
    "\n",
    "$令f(x,y)=sin(xy)$\n",
    "\n",
    "$因为-f(0,0)=0$\n",
    "\n",
    "$所以\\frac{\\partial \\varphi}{\\partial x_0}=0$\n",
    "\n",
    "$类似于第3题，y=0是\\frac{dy}{dx}=sin(xy)的过(0,0)的点，由解的存在唯一性定理知是过(0,0)的唯一解$\n",
    "\n",
    "$故\\frac{\\partial \\varphi}{\\partial y_0}=e^{\\int_0^x xdx}=e^{\\frac{1}{2}x^2}$ \n"
   ]
  },
  {
   "cell_type": "markdown",
   "metadata": {
    "collapsed": true
   },
   "source": [
    "**$A$**"
   ]
  },
  {
   "cell_type": "code",
   "execution_count": null,
   "metadata": {
    "collapsed": true
   },
   "outputs": [],
   "source": []
  }
 ],
 "metadata": {
  "kernelspec": {
   "display_name": "SageMath 7.3",
   "language": "",
   "name": "sagemath"
  },
  "language_info": {
   "codemirror_mode": {
    "name": "ipython",
    "version": 2
   },
   "file_extension": ".py",
   "mimetype": "text/x-python",
   "name": "python",
   "nbconvert_exporter": "python",
   "pygments_lexer": "ipython2",
   "version": "2.7.10"
  }
 },
 "nbformat": 4,
 "nbformat_minor": 0
}
