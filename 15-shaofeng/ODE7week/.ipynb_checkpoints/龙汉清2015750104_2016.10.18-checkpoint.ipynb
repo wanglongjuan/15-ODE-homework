{
 "cells": [
  {
   "cell_type": "markdown",
   "metadata": {},
   "source": [
    "# The homework of ODE"
   ]
  },
  {
   "cell_type": "markdown",
   "metadata": {},
   "source": [
    "## 1. Suppose function $f(x,y)$ and ${\\partial f \\over \\partial y}$ are continuous in the area $G$, and $y=\\varphi(x, x_0, y_0)$ is the solution which satisfies the initial value $\\varphi(x_0, x_0, y_0)=y_0$ of the equation ${\\mathrm d y \\over \\mathrm d x}=f(x,y)$. Try to prove ${\\partial f \\over \\partial y_0}$ is present and continuous and write the expression."
   ]
  },
  {
   "cell_type": "markdown",
   "metadata": {},
   "source": [
    "let the the solution of the initial value $\\varphi(x_0, x_0, y_0+\\Delta y_0)=y_0$ is $y=\\psi(x, x_0, y_0+\\Delta y_0)$, where $|\\Delta y_0| \\leq \\alpha$, and $\\alpha$ is small enough.Then\n",
    "\n",
    "$$\n",
    "\\varphi = y_0 + \\int_{x_0}^x f(x, \\varphi) \\mathrm d x, \\psi = y_0 + \\Delta y_0+ \\int_{x_0}^x f(x, \\psi) \\mathrm d x\n",
    "$$"
   ]
  },
  {
   "cell_type": "markdown",
   "metadata": {},
   "source": [
    "$$\n",
    "\\begin{align}\n",
    "\\psi - \\varphi &= \\Delta y_0 a + \\int_{x_0}^x [f(x, \\psi)-f(x, \\varphi)] \\mathrm d x \\\\\n",
    "&=\\Delta y_0 + \\int_{x_0}^x {\\partial f(x, \\varphi + \\theta(\\psi - \\varphi)) \\over \\partial y} \\mathrm d x\n",
    "\\end{align}\n",
    "$$  \n",
    "\n",
    "where $\\theta \\in [0, 1]$. due to the continuity of the ${\\partial f \\over \\partial y}$, $\\varphi$ and $\\psi$, we have\n",
    "\n",
    "$$\n",
    "{\\partial f(x, \\varphi + \\theta(\\psi - \\varphi)) \\over \\partial y} = {\\partial f(x, \\varphi) \\over \\partial y} + r\n",
    "$$\n",
    "\n",
    "where $r$ has the nature : $\\Delta y_0 \\rightarrow 0$ ,$r \\rightarrow 0$, and when $\\Delta y_0 = 0$, $r=0$.\n",
    "and we will easy get that $z={\\psi - \\varphi \\over \\Delta y_0}$ is the solution of\n",
    "\n",
    "$$\n",
    "\\begin{cases}\n",
    "{\\mathrm d z \\over \\mathrm d x}=[{\\partial f(x, \\varphi) \\over \\partial y} + r]z\\\\\n",
    "z(x_0) = 1\n",
    "\\end{cases}\n",
    "$$\n",
    "\n",
    "so\n",
    "\n",
    "$$\n",
    "{\\partial f \\over \\partial y_0} = \\lim_{\\Delta y_0\\rightarrow 0}{\\psi - \\varphi \\over \\Delta y_0} = e^{\\int_{x_0}^x {f(x, \\varphi) \\over \\partial y} \\mathrm d x }\n",
    "$$\n",
    "\n",
    "it's a continuous function fo $x$, $x_0$, $y_0$"
   ]
  },
  {
   "cell_type": "markdown",
   "metadata": {},
   "source": [
    "## 2. Suppose function $P(x)$ and $Q(x)$ are continous in the interval $[\\alpha, \\beta]$, and $y=\\varphi (x, x_0 , y_0)$ is the solution of ${\\mathrm d y \\over \\mathrm d x} = P(x)+ Q(x)$ , and $\\varphi(x_0, x_0, y_0)=y_0$. Try to find the value of ${\\partial \\varphi \\over \\partial x_0}$, ${\\partial \\varphi \\over \\partial y_0}$ and ${\\partial \\varphi \\over \\partial x}$, and from the expression of the solution, the method of deriving the parameters is used to test the results."
   ]
  },
  {
   "cell_type": "markdown",
   "metadata": {},
   "source": [
    "from the formula\n",
    "\n",
    "$$\n",
    "{\\partial \\varphi \\over \\partial x_0}=-[P(x_0)y_0 + Q(x_0)]e^{\\int_{x_0}^x P(x) \\mathrm x}\n",
    "$$\n",
    "\n",
    "$$\n",
    "{\\partial \\varphi \\over \\partial y_0}=e^{\\int_{x_0}^x P(x) \\mathrm x}\n",
    "$$\n",
    "\n",
    "$$\n",
    "{\\partial \\varphi \\over \\partial x}=P(x)\\varphi + Q(x)\n",
    "$$\n",
    "\n",
    "from the non-linear equation solution of the expression\n",
    "\n",
    "$$\n",
    "\\varphi (x, x_0 , y_0)=y_0e^{\\int_{x_0}^x P(x) \\mathrm x} + \\int_{x_0}^x Q(s)e^{\\int_{x_0}^x P(x) \\mathrm x}\\mathrm d s\n",
    "$$\n",
    "\n",
    "we can easily get\n",
    "\n",
    "$$\n",
    "{\\partial \\varphi \\over \\partial x_0}=-[P(x_0)y_0 + Q(x_0)]e^{\\int_{x_0}^x P(x) \\mathrm x}\n",
    "$$\n",
    "\n",
    "$$\n",
    "{\\partial \\varphi \\over \\partial y_0}=e^{\\int_{x_0}^x P(x) \\mathrm x}\n",
    "$$\n",
    "\n",
    "$$\n",
    "{\\partial \\varphi \\over \\partial x}=P(x)\\varphi + Q(x)\n",
    "$$"
   ]
  },
  {
   "cell_type": "markdown",
   "metadata": {},
   "source": [
    "## 3. Given a equation\n",
    "$$\n",
    "{\\mathrm d y \\over \\mathrm d x}=\\sin {y\\over x}\n",
    "$$\n",
    "## try to find the expressions for ${\\partial y(x,x_0,y_0) \\over \\partial x_0}$ and ${\\partial y(x,x_0,y_0) \\over \\partial y_0}$ at $x_0=1$ and $y_0=0$"
   ]
  },
  {
   "cell_type": "markdown",
   "metadata": {},
   "source": [
    "$$\n",
    "{\\partial y \\over \\partial x_0}=-f(x_0,y_0)e^{\\int_{x_0}^x {\\partial f(x,y) \\over \\partial y} \\mathrm x} = 0\n",
    "$$\n",
    "\n",
    "$$\n",
    "{\\partial y \\over \\partial y_0}=e^{\\int_{x_0}^x {\\partial f(x,y) \\over \\partial y} \\mathrm x} = e^{\\int_{x_0}^x \\cos {y \\over x}|_{y=0}\\cdot {1\\over x} \\mathrm x}=|x|\n",
    "$$\n"
   ]
  },
  {
   "cell_type": "markdown",
   "metadata": {},
   "source": [
    "## 4. Suppose $y=\\varphi (x, x_0 , y_0,\\lambda)$ is the saturated solution of the initial value problem ${\\mathrm d y \\over \\mathrm d x} = \\sin(\\lambda x y), \\varphi (x_0, x_0 , y_0) = y_0$, where $\\lambda$ is a parameter , and try to find the expressions of the ${\\partial \\varphi \\over \\partial x_0}$ and ${\\partial \\varphi \\over \\partial y_0}$ at the point $(x_0, x_0 , y_0 , \\lambda)$"
   ]
  },
  {
   "cell_type": "markdown",
   "metadata": {},
   "source": [
    "$$\n",
    "{\\partial y \\over \\partial x_0}=-f(x_0,y_0, \\lambda)e^{\\int_{x_0}^x {\\partial f(x,y,\\lambda) \\over \\partial y} \\mathrm x} = 0\n",
    "$$\n",
    "\n",
    "$$\n",
    "{\\partial y \\over \\partial y_0}=e^{\\int_{x_0}^x {\\partial f(x,y,\\lambda) \\over \\partial y} \\mathrm x} = e^{\\int_{x_0}^x \\cos (\\lambda x \\varphi)|_{\\varphi=0}\\cdot \\lambda x \\mathrm x}=e^{x_2 \\over 2}\n",
    "$$"
   ]
  },
  {
   "cell_type": "markdown",
   "metadata": {
    "collapsed": true
   },
   "source": [
    "**A**"
   ]
  },
  {
   "cell_type": "code",
   "execution_count": null,
   "metadata": {
    "collapsed": true
   },
   "outputs": [],
   "source": []
  }
 ],
 "metadata": {
  "kernelspec": {
   "display_name": "SageMath 7.3",
   "language": "",
   "name": "sagemath"
  },
  "language_info": {
   "codemirror_mode": {
    "name": "ipython",
    "version": 2
   },
   "file_extension": ".py",
   "mimetype": "text/x-python",
   "name": "python",
   "nbconvert_exporter": "python",
   "pygments_lexer": "ipython2",
   "version": "2.7.10"
  }
 },
 "nbformat": 4,
 "nbformat_minor": 0
}
