{
 "cells": [
  {
   "cell_type": "markdown",
   "metadata": {
    "collapsed": true
   },
   "source": [
    "# 习题3.3"
   ]
  },
  {
   "cell_type": "markdown",
   "metadata": {},
   "source": [
    "## 题一："
   ]
  },
  {
   "cell_type": "markdown",
   "metadata": {},
   "source": [
    "解：∵$f(x,y),\\frac{\\partial f}{\\partial y}$在域$G$内连续\n",
    "\n",
    "∴$f(x,y)$在域$G$内满足$Lipschitz$条件\n",
    "\n",
    "∴解对初值连续性定理成立\n",
    "\n",
    "设由初值$(x_0,y_0)$和$(x_0,y_0+\\Delta y_0)$所确定的方程的解分别为$y=\\varphi(x,x_0,y_0)=\\gamma$和$y=\\varphi(x,x_0,y_0+\\Delta y_0)=\\psi$\n",
    "\n",
    "则有$\\gamma=y_0+\\int_{x_0}^x f(x,\\gamma)dx$和$\\psi=y_0+\\Delta y_0+\\int_{x_0}^x f(x,\\psi)dx$\n",
    "\n",
    "∴$\\psi-\\gamma=\\Delta y_0+\\int_{x_0}^x[f(x,\\psi)-f(x,\\gamma)]dx\n",
    "    \\\\=\\Delta y_0+\\int_{x_0}^x\\frac{\\partial[f(x,\\gamma+\\theta(\\psi-\\gamma)]}{\\partial y}(\\psi-\\gamma)dx            \\\\\\theta\\in(0,1)$\n",
    "\n",
    "由$\\frac{\\partial f}{\\partial y},\\psi,\\gamma$的连续性，成立\n",
    "\n",
    "$\\frac{\\partial[f(x,\\gamma+\\theta(\\psi-\\gamma)]}{\\partial y}=\\frac{\\partial[f(x,\\gamma)]}{\\partial y}+r_1$且有\n",
    "$\\Delta y_0\\to 0,r_1\\to 0;\\Delta y_0=0,r_1=0$\n",
    "\n",
    "记$z=\\frac{\\psi-\\gamma}{\\Delta y_0}$\n",
    "\n",
    "由上式可知$z=1+\\int_{x_0}^{x}[\\frac{\\partial[f(x,\\gamma)]}{\\partial y}+r_1]z dx$\n",
    "\n",
    "以$\\Delta y_0$为参数$z$是满足初值条件\n",
    "$$\\begin{cases}\\frac{dz}{dx}=[\\frac{\\partial[f(x,\\gamma)]}{\\partial y}+r_1]z\\\\\n",
    "z(x_0)=1\\end{cases}$$的解\n",
    "\n",
    "解得$z=\\frac{\\psi-\\gamma}{\\Delta y_0}=e^{\\int_{x_0}^{x}[\\frac{\\partial f(x,\\gamma)}{\\partial y}+r_1]dx}$\n",
    "\n",
    "∴$\\frac{\\partial\\varphi}{\\partial y_0}=\\displaystyle\\lim_{\\Delta y_0\\to\\infty} \\frac{\\psi-\\gamma}{\\Delta y_0}=e^{\\int_{x_0}^{x}\\frac{\\partial[f(x,\\gamma)]}{\\partial y}dx}$"
   ]
  },
  {
   "cell_type": "markdown",
   "metadata": {},
   "source": [
    "# 题二："
   ]
  },
  {
   "cell_type": "markdown",
   "metadata": {},
   "source": [
    "解：记$f(x,y)=P(x)y+Q(x)$\n",
    "\n",
    "∵$P(x),Q(x)$于区间$[\\alpha,\\beta]$上连续\n",
    "\n",
    "∴$f(x,y)$、$\\frac{\\partial f}{\\partial y}=P(x)$在区间$[\\alpha,\\beta]$上连续\n",
    "\n",
    "∴此微分方程的解对初值连续性定理成立\n",
    "\n",
    "记满足初值$(x_0,y_0)$和$(x_0+\\Delta x_0,y_0)$所确定的方程的解分别为$\\gamma$和$\\psi$\n",
    "\n",
    "由书上结论知$z=\\frac{\\psi-\\gamma}{\\Delta x_0}$是满足初值条件\n",
    "$$\\begin{cases}\\frac{dz}{dx}=[\\frac{\\partial[f(x,\\gamma)]}{\\partial y}+r_1]z\\\\\n",
    "z(x_0)=-f(x_0,y_0)+r_2\\end{cases}$$的解\n",
    "\n",
    "$r_1,r_2$满足$\\Delta x\\to 0$时$r_1\\to0,r_2\\to0$且$\\Delta x= 0$时$r_1=r_2=0$\n",
    "\n",
    "解此微分方程，并对$\\Delta$趋于零取极限得\n",
    "\n",
    "$\\frac{\\partial\\varphi}{\\partial x_0}=-f(x_0,y_0)e^{\\int_{x_0}^{x}\\frac{\\partial[f(x,\\gamma)]}{\\partial y}dx}=-[P(x_0)\\varphi(x_0,x_0,y_0)+Q(x_0)]e^{\\int_{x_0}^{x}P(x)dx}$\n",
    "\n",
    "由上题知\n",
    "$\\frac{\\partial\\varphi}{\\partial y_0}=e^{\\int_{x_0}^{x}\\frac{\\partial[f(x,\\gamma)]}{\\partial y}dx}=e^{\\int_{x_0}^{x} P(x)dx}$\n",
    "\n",
    "$\\frac{\\partial\\varphi}{\\partial x}=f(x,y)=P(x)\\varphi(x,x_0,y_0)+Q(x)$"
   ]
  },
  {
   "cell_type": "markdown",
   "metadata": {},
   "source": [
    "有错误"
   ]
  },
  {
   "cell_type": "markdown",
   "metadata": {},
   "source": [
    "# 题三："
   ]
  },
  {
   "cell_type": "markdown",
   "metadata": {},
   "source": [
    "解：记$f(x,y)=\\sin(\\frac{y}{x})\\implies\\frac{\\partial f}{\\partial y}=\\frac{\\cos(\\frac{y}{x})}{x}$\n",
    "\n",
    "易知$f,\\frac{\\partial f}{\\partial y}$在$(x_0,y_0)$的一个小闭邻域内连续，可导$\\implies$满足$Lipschitz$条件\n",
    "\n",
    "∴该微分方程满足解对初值连续性定理\n",
    "\n",
    "由上题结论\n",
    "\n",
    "$\\frac{\\partial\\varphi}{\\partial x_0}=-f(x_0,y_0)e^{\\int_{x_0}^{x}\\frac{\\partial[f(x,\\gamma)]}{\\partial y}dx}=0$\n",
    "\n",
    "$\\frac{\\partial\\varphi}{\\partial y_0}=e^{\\int_{x_0}^{x}\\frac{\\partial[f(x,\\gamma)]}{\\partial y}dx}=e^{\\int_{x_0}^{x}\\frac{\\cos(\\frac{y_0}{x})}{x}dx}=e^{\\int_{1}^{x}\\frac{1}{x}dx}=e^{[\\ln(|x|)-\\ln(1)]}=|x|$"
   ]
  },
  {
   "cell_type": "markdown",
   "metadata": {},
   "source": [
    "# 题四："
   ]
  },
  {
   "cell_type": "markdown",
   "metadata": {},
   "source": [
    "解：该微分方程在$(x_0,y_0,\\lambda)=(0,0,1)$时形式为$$\\begin{cases}\\frac{dy}{dx}=\\sin(xy)\\\\\n",
    "y_0=\\varphi(0,0,0,1)\\end{cases}$$\n",
    "\n",
    "$\\frac{\\partial\\sin(xy)}{\\partial y}=x\\cos(xy)$\n",
    "\n",
    "由前题结论\n",
    "\n",
    "$\\frac{\\partial\\varphi}{\\partial x_0}=-\\sin(0\\times\\varphi(0,0,0,1))e^{\\int_{0}^{x}\\frac{\\partial\\sin(xy)}{\\partial y}dx}=0$\n",
    "\n",
    "$\\frac{\\partial\\varphi}{\\partial y_0}=e^{\\int_{0}^{x}\\frac{\\partial\\sin(xy)}{\\partial y}dx}=e^{\\int_{0}^{x}x\\cos(xy_0)dx}=e^{\\int_{0}^{x}xdx}=e^{\\frac{x^2}{2}}$"
   ]
  },
  {
   "cell_type": "markdown",
   "metadata": {
    "collapsed": true
   },
   "source": [
    "**A**"
   ]
  },
  {
   "cell_type": "code",
   "execution_count": null,
   "metadata": {
    "collapsed": true
   },
   "outputs": [],
   "source": []
  }
 ],
 "metadata": {
  "kernelspec": {
   "display_name": "SageMath 7.3",
   "language": "",
   "name": "sagemath"
  },
  "language_info": {
   "codemirror_mode": {
    "name": "ipython",
    "version": 2
   },
   "file_extension": ".py",
   "mimetype": "text/x-python",
   "name": "python",
   "nbconvert_exporter": "python",
   "pygments_lexer": "ipython2",
   "version": "2.7.10"
  }
 },
 "nbformat": 4,
 "nbformat_minor": 0
}
