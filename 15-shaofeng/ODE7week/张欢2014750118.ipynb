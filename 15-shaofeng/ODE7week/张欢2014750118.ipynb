{
 "cells": [
  {
   "cell_type": "markdown",
   "metadata": {},
   "source": [
    "# Page 102"
   ]
  },
  {
   "cell_type": "markdown",
   "metadata": {},
   "source": [
    " **1.假设函数$f(x,y)$及$\\frac{\\partial f}{\\partial y}$都在区域G内连续，又$y=\\varphi(x,x_0,y_0)$是方程（3.1）满足初值条件$\\varphi(x_0,x_0,y_0)=y_0$的解，试证明$\\frac{\\partial {\\varphi}}{\\partial y_0}$存在且连续，并写出其表达式**"
   ]
  },
  {
   "cell_type": "markdown",
   "metadata": {},
   "source": [
    "**解：**记满足初值( )的解为$y=\\psi()$,其中$||\\leq \\alpha,\\alpha任意小$\n",
    "\n",
    "有: $$\\phi=y_0+\\int_{x_0}^xf(s,\\phi(s)),\\psi=y_0+{\\Delta}y_0+\\int_{x_0}^xf(s,\\psi(s))$$\n",
    "\n",
    "则：$$\\begin{aligned}{\\psi}-{\\varphi}&={\\Delta}y_0+\\int_{x_0}^x\\mathrm {f(x,{\\psi})}\\mathrm{d}x-\\int_{x_0}^x\\mathrm {f(x,{\\varphi})}\\mathrm{d}x\n",
    "\\\\&={\\Delta}y_0+\\int_{x_0}^x\\mathrm {\\frac{\\partial f(x,{\\varphi}+{\\theta}({\\psi}-{\\varphi})}{\\partial y}({\\psi}-{\\varphi})}\\mathrm{d}x\\end{aligned}(0<\\theta<1)$$\n",
    "\n",
    "由$\\frac{\\partial f}{\\partial y}以及\\partial ,\\psi$的连续性，有\n",
    "\n",
    "$$\\frac{\\partial f(x,{\\varphi}+{\\theta}(\\psi-\\varphi)}{\\partial y}=\\frac{\\partial f(x,\\varphi)}{\\partial y}+r$$\n",
    "对于$r$：当${\\Delta}y_0 \\to0$时，$r\\to 0$且当${\\Delta}y_0=0$时，$r=0$\n",
    "\n",
    "因此对${\\Delta}y_0\\not=0$,有\n",
    "\n",
    "$$\\frac{\\psi-\\varphi}{{\\Delta}y_0}=1+\\int_{x_0}{x}\\mathrm {[\\frac{\\partial f(x,{\\varphi})}{\\partial y}+r]\\frac{(\\psi-\\varphi)}{{\\Delta}y_0}}\\mathrm{d}x$$\n",
    "\n",
    "即$z=\\frac{(\\psi-\\varphi)}{{\\Delta}y_0}$\n",
    "是初值问题\n",
    "$\\begin{cases}\\frac{dz}{dx}=[\\frac{\\partial f(x,\\varphi)}{\\partial {y}}+r_1]z\n",
    ",\\\\z(x_0)=1+r_2=z_0\\end{cases}$\n",
    "的解，\n",
    "\n",
    "可求得\n",
    "$$\\frac{\\partial {\\varphi}}{\\partial y_0}= exp(\\int_{x_0}^{x}\\mathrm { \\frac{\\partial f(x,{\\varphi})}{\\partial y}}\\mathrm{d}x)$$"
   ]
  },
  {
   "cell_type": "markdown",
   "metadata": {},
   "source": [
    "** 2.假设函数$P(x)$和$Q(x)$于区间$[\\alpha,\\beta]$上连续，$y=\\varphi(x,x_0,y_0)$是方程\n",
    "$$\\frac{dy}{dx}=P(x)y+Q(x)$$\n",
    "得解，$y_0=\\varphi(x_0,x_0,y_0)$，试求$\\frac{\\partial {\\varphi}}{\\partial x_0},\\frac{\\partial {\\varphi}}{\\partial y_0},\\frac{\\partial {\\varphi}}{\\partial x}$并从解的表达式出发，利用对参数求导的方法，检验所得结果**"
   ]
  },
  {
   "cell_type": "markdown",
   "metadata": {},
   "source": [
    "**解：**$f(x,y)=P(x)y+Q(x),\\frac{\\partial f}{\\partial y}=P(x),初始条件为y_0=\\varphi(x_0,x_0,y_0)，\\frac{\\partial f}{\\partial y}=P(x)$.\n",
    "\n",
    "根据解对初值的可微性定理得到\n",
    "$$\\begin{aligned}\\frac{\\partial {\\varphi}}{\\partial x_0}&=-f(x_0,y_0)exp(\\int_{x_0}^x\\mathrm {\\frac{\\partial {f(s,{\\varphi)}}}{\\partial y}}\\mathrm{d}x)\\\\&=-(P(x_0)y_0+Q(x_0))exp(\\int_{x_0}^x\\mathrm P(x)\\mathrm{d}x)\\end{aligned}$$\n",
    "$$\\frac{\\partial {\\varphi}}{\\partial y_0}=exp(\\int_{x_0}^x\\mathrm {\\frac{\\partial {f(s,{\\varphi})}}{\\partial y}}\\mathrm{d}x)\n",
    "=exp(\\int_{x_0}^x\\mathrm P(x)\\mathrm{d}x)$$\n",
    "$$\\frac{\\partial {\\varphi}}{\\partial x}=f(x,{\\varphi}(x,x_0,y_0))=P(x){\\varphi}(x,x_0,y_0)+Q(x)$$\n",
    "\n",
    "故方程$\\frac{dy}{dx}=P(x)y+Q(x)$的通解为\n",
    "$$y=e^{\\int\\mathrm P(x)\\mathrm{d}x}(\\int\\mathrm Q(x)e^{\\int\\mathrm -P(x)\\mathrm{d}x}\\mathrm{d}x+c$$.\n",
    "\n",
    "于是$$y=\\varphi(x,x_0,y_0)=y_0e^{\\int_{x_0}^x\\mathrm P(s)\\mathrm{d}s}+\\int_{x_0}^x\\mathrm Q(t)e^{\\int_{x_0}^x\\mathrm P(s)\\mathrm{d}s}\\mathrm{d}t$$.\n",
    "\n",
    "对参数求导得\n",
    "\n",
    "$\\begin{aligned}\\frac{\\partial \\varphi}{\\partial x_0}&=e^{\\int_{x_0}^x\\mathrm P(s)\\mathrm{d}s}(-P(x_0))(\\int_{x_0}^x\\mathrm Q(t)e^{\\int_{x_0}^x\\mathrm -P(s)\\mathrm{d}s}\\mathrm{d}t+y_0)+e^{\\int_{x_0}^x\\mathrm -P(s)\\mathrm{d}s}[-Q(x_0)e^{\\int_{x_0}^x\\mathrm P(s)\\mathrm{d}s}+(\\int_{x_0}^x\\mathrm Q(t)e^{\\int_{x_0}^x\\mathrm -P(s)\\mathrm{d}s}\\mathrm{d}t)P(x_0)]\n",
    "\\\\&=-(P(x_0)y_0+Q(x_0))e^{\\int_{x_0}^x\\mathrm P(s)\\mathrm{d}s}\\end{aligned}$\n",
    "\n",
    "$\\frac{\\partial \\varphi}{\\partial y_0}=e^{\\int_{x_0}^x\\mathrm P(s)\\mathrm{d}s}$\n",
    "\n",
    "$\\begin{aligned}\\frac{\\partial \\varphi}{\\partial x}&=e^{\\int_{x_0}^x\\mathrm P(s)\\mathrm{d}s}P(x)(\\int_{x_0}^x\\mathrm Q(t)e^{\\int_{x_0}^x\\mathrm -P(s)\\mathrm{d}s}\\mathrm{d}t+y_0)+e^{\\int_{x_0}^x\\mathrm P(s)\\mathrm{d}s}Q(x)e^{\\int_{x_0}^x\\mathrm -P(s)\\mathrm{d}s}\n",
    "\\\\&=P(x)\\varphi+Q(x)\\end{aligned}$\n",
    "\n",
    "与结论一致"
   ]
  },
  {
   "cell_type": "markdown",
   "metadata": {},
   "source": [
    "** 3.给定方程$$\\frac{dy}{dx}=\\sin (\\frac{y}{x})$$\n",
    "试求$\\frac{\\partial y(x,x_0,y_0)}{\\partial x_0},\\frac{\\partial y(x,x_0,y_0)}{\\partial y_0}$在$x_0=1,y_0=0$时的表达式**"
   ]
  },
  {
   "cell_type": "markdown",
   "metadata": {},
   "source": [
    "**解：**设$f(x,y)=\\sin (\\frac{y}{x}),则\\frac{\\partial f}{\\partial y}={\\frac{1}{x}}\\cos (\\frac{y}{x})$,\n",
    "\n",
    "由解对初值的可微性定理的证明可得\n",
    "$$\\frac{\\partial y(x,x_0,y_0)}{\\partial x_0}=-f(x_0,y_0)exp(\\int_{x_0}^x\\mathrm {\\frac{\\partial f(x,{\\varphi})}{\\partial y}}\\mathrm{d}x)\n",
    "=-\\sin (\\frac{y_0}{x_0})exp(\\int_{x_0}^x\\mathrm {\\frac{1}{x}\\cos \\frac{y}{x}}\\mathrm{d}x)$$\n",
    "$$\\frac{\\partial y(x,x_0,y_0)}{\\partial y_0}=exp(\\int_{x_0}^x\\mathrm {\\frac{\\partial f(x,{\\varphi})}{\\partial y}}\\mathrm{d}x)\n",
    "=exp(\\int_{x_0}^x\\mathrm {\\frac{1}{x}\\cos \\frac{y}{x}}\\mathrm{d}x)$$\n",
    "当$x_0=1,y_0=0$时得到\n",
    "$$\\frac{\\partial y(x,x_0,y_0)}{\\partial x_0}|_{x_0=1,y_0=0}=0$$\n",
    "$$\\frac{\\partial y(x,x_0,y_0)}{\\partial y_0}|_{x_0=1,y_0=0}=exp(\\int_1^x\\mathrm {\\frac{1}{x}}\\mathrm{d}x)=|x|$$\n",
    "所以，在$x_0=1,y_0=0$时的表达式为，$\\frac{\\partial y}{\\partial x_0}=0,\\frac{\\partial y}{\\partial y_0}=|x|$"
   ]
  },
  {
   "cell_type": "markdown",
   "metadata": {},
   "source": [
    "** 4.设$y=\\varphi(x,x_0,y_0,\\lambda)$是初值问题\n",
    "$$\\frac{dy}{dx}=\\sin ({\\lambda}xy),\\varphi(x_0,x_0,y_0,\\lambda)=y_0$$\n",
    "的饱和解，这里$\\lambda$是参数，求$\\frac{\\partial \\varphi}{\\partial x_0},\\frac{\\partial \\varphi}{\\partial y_0}在(x,0,0,1)$处的表达式**"
   ]
  },
  {
   "cell_type": "markdown",
   "metadata": {},
   "source": [
    " **解：**$f(x,y)=\\sin ({\\lambda}xy),\\frac{\\partial f}{\\partial y}={\\lambda}x\\cos ({\\lambda}xy)$\n",
    "由解对初值的可微性定理可得\n",
    "$$\\begin{aligned} \\frac{\\partial {\\varphi}}{\\partial x_0}&=-f(x_0,y_0)exp(\\int_{x_0}^x\\mathrm {\\frac{\\partial f(x,{\\varphi})}{\\partial y}}\\mathrm{d}x)\n",
    "\\\\&=-\\sin ({\\lambda}x_0,y_0)exp(\\int_{x_0}^x\\mathrm {\\lambda}x\\cos ({\\lambda}x\\cos ({\\lambda}x{\\varphi})\\mathrm{d}x)\\end{aligned}$$\n",
    "$$\\begin{aligned}\\frac{\\partial {\\varphi}}{\\partial {y_0}}&=exp(\\int_{x_0}^x\\mathrm {\\frac{\\partial f(x,{\\varphi})}{\\partial y}}\\mathrm{d}x)\n",
    "\\\\&=exp(\\int_{x_0}^x\\mathrm {{\\lambda}x\\cos ({\\lambda}x{\\varphi})}\\mathrm{d}x)\\end{aligned}$$\n",
    "当$x_0=1,y_0=0,\\lambda=1$时，有\n",
    "$$\\frac{\\partial {\\varphi}}{\\partial {x_0}}|_{x,0,0,1}=0$$\n",
    "$$\\frac{\\partial {\\varphi}}{\\partial {y_0}}|_{x,0,0,1}=exp(\\int_0^x\\mathrm x\\cos 0\\mathrm{d}x)=exp(\\frac{x^2}{x})$$"
   ]
  },
  {
   "cell_type": "markdown",
   "metadata": {},
   "source": [
    "**$A^-$**"
   ]
  },
  {
   "cell_type": "markdown",
   "metadata": {},
   "source": []
  }
 ],
 "metadata": {
  "kernelspec": {
   "display_name": "SageMath 7.3",
   "language": "",
   "name": "sagemath"
  },
  "language_info": {
   "codemirror_mode": {
    "name": "ipython",
    "version": 2
   },
   "file_extension": ".py",
   "mimetype": "text/x-python",
   "name": "python",
   "nbconvert_exporter": "python",
   "pygments_lexer": "ipython2",
   "version": "2.7.10"
  }
 },
 "nbformat": 4,
 "nbformat_minor": 0
}
