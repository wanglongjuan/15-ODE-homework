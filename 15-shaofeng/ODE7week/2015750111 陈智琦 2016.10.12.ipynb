{
 "cells": [
  {
   "cell_type": "markdown",
   "metadata": {},
   "source": [
    "一、假设函数$f(x,y)$及$\\frac{\\partial f}{\\partial y}$都在区域$G$内连续，又$y=\\varphi(x,x_0,y_0)$是方程$\\frac{dy}{dx}=f(x,y)$满足初值条件$\\varphi(x_0,x_0,y_0)=y_0$的解，试证$\\frac{\\partial \\varphi}{\\partial y_0}$存在且连续，并写出其表达式。"
   ]
  },
  {
   "cell_type": "markdown",
   "metadata": {
    "collapsed": true
   },
   "source": [
    "解：仿照对初值可微性定理的证明"
   ]
  },
  {
   "cell_type": "markdown",
   "metadata": {
    "collapsed": true
   },
   "source": [
    "若$f(x,y)$及${\\partial f \\over \\partial y}$都在区域$G$内连续，则方程$\\frac{dy}{dx}=f(x,y)$的解$y=\\varphi(x,x_0,y_0)$作为$x,x_0,y_0$的函数在它的存在范围内是连续可微的，且$\\frac{\\partial \\varphi}{\\partial x_0}=-f(x_0,y_0)exp([\\int_{x_0}^x {\\partial f(x,\\varphi) \\over \\partial y }{d}x])$是初值问题$\\frac{dz}{dx}={\\partial f(x,\\varphi) \\over \\partial y }z$ , $z(x_0)=-f(x_0,y_0)$的解"
   ]
  },
  {
   "cell_type": "markdown",
   "metadata": {
    "collapsed": true
   },
   "source": [
    "因此$\\frac{\\partial \\varphi}{\\partial y_0}=exp([\\int_{x_0}^x {\\partial f(x,\\varphi) \\over \\partial y }{d}x)$"
   ]
  },
  {
   "cell_type": "markdown",
   "metadata": {},
   "source": [
    "二、假设函数$P(x)$和$Q(x)$于区间$[\\alpha,\\beta]$上连续，$y=\\varphi(x,x_0,y_0)$是方程\n",
    "$$\\frac{dy}{dx}=P(x)y+Q(x)$$\n",
    "的解，$y_0=\\varphi(x_0,x_0,y_0)$.\n",
    "试求$\\frac{\\partial \\varphi}{\\partial x_0}$  ,  $\\frac{\\partial \\varphi}{\\partial y_0}$  及  $\\frac{\\partial \\varphi}{\\partial x} $\n",
    "，并从解的表达式出发，利用对参数求导数的方法检验所得结果。"
   ]
  },
  {
   "cell_type": "markdown",
   "metadata": {
    "collapsed": true
   },
   "source": [
    "解：由解对初值的可微性定理可得\n",
    "$$\\frac{\\partial \\varphi}{\\partial x_0}=-f(x_0,y_0)exp[\\int_{x_0}^x {\\partial f(x,\\varphi) \\over \\partial y }{d}x]$$\n",
    "$$=-(P(x_0)y_0+Q(x_0))exp[\\int_{x_0}^x {P(x) }{d}x]$$"
   ]
  },
  {
   "cell_type": "markdown",
   "metadata": {
    "collapsed": true
   },
   "source": [
    "$$\\frac{\\partial \\varphi}{\\partial y_0}=exp\\int_{x_0}^x {\\partial f(x,\\varphi) \\over \\partial y }{d}x$$\n",
    "$$=exp\\int_{x_0}^x P(x){d}x$$"
   ]
  },
  {
   "cell_type": "markdown",
   "metadata": {
    "collapsed": true
   },
   "source": [
    "$$\\frac{\\partial \\varphi}{\\partial x}=f(x,\\varphi(x,x_0,y_0))$$\n",
    "$$=P(x)\\varphi(x,x_0,y_0)+Q(x)$$"
   ]
  },
  {
   "cell_type": "markdown",
   "metadata": {
    "collapsed": true
   },
   "source": [
    "方程$\\frac{dy}{dx}=P(x)y+Q(x)$的通解为\n",
    "$$y=e^{\\int P(x){d}x}(\\int Q(x)e^{-\\int P(x){d}x}+c)$$"
   ]
  },
  {
   "cell_type": "markdown",
   "metadata": {
    "collapsed": true
   },
   "source": [
    "同时，当$y(x_0)=y_0$时有\n",
    "$$y=e^{\\int_{x_0}^x P(s){d}s}(\\int_{x_0}^x Q(t)e^{-\\int_{x_0}^x  P(s){d}s}+y_0)$$"
   ]
  },
  {
   "cell_type": "markdown",
   "metadata": {
    "collapsed": true
   },
   "source": [
    "参数法\n"
   ]
  },
  {
   "cell_type": "markdown",
   "metadata": {
    "collapsed": true
   },
   "source": [
    "$${\\partial \\varphi \\over \\partial x_0}=-(P(x_0) e^{\\int_{x_0}^x P(s){d}s}(\\int_{x_0}^x Q(t)e^{-\\int_{x_0}^x  P(s){d}s}+y_0)  +Q(x_0))exp[\\int_{x_0}^x {P(x) }{d}x]$$"
   ]
  },
  {
   "cell_type": "markdown",
   "metadata": {
    "collapsed": true
   },
   "source": [
    "$$=-P(x_0) e^{\\int_{x_0}^x P(s){d}s}(\\int_{x_0}^x Q(t) e^{\\int_{x_0}^x -P(s){d}s}y_0)+e^{\\int_{x_0}^x P(s){d}s}[-Q(x_0)e^{\\int_{x_0}^x -P(s){d}s}+(\\int_{x_0}^x Q(t) e^{\\int_{x_0}^x -P(s){d}s}{d}t)P(x_0)]$$"
   ]
  },
  {
   "cell_type": "markdown",
   "metadata": {
    "collapsed": true
   },
   "source": [
    "$$=-(P(x_0)y_0+Q(x_0)e^{\\int_{x_0}^x P(s){d}s})$$"
   ]
  },
  {
   "cell_type": "markdown",
   "metadata": {
    "collapsed": true
   },
   "source": [
    "$$\\frac{\\partial \\varphi}{\\partial y_0}=exp\\int_{x_0}^x P(x){d}x$$"
   ]
  },
  {
   "cell_type": "markdown",
   "metadata": {
    "collapsed": true
   },
   "source": [
    "$$\\frac{\\partial \\varphi}{\\partial x}=e^{\\int_{x_0}^x P(s){d}s}P(x)(\\int_{x_0}^x Q(t)e^{-\\int_{x_0}^x  P(s){d}s}+y_0)+e^{\\int_{x_0}^x }Q(x)e^{\\int_{x_0}^x -P(s){d}s }$$"
   ]
  },
  {
   "cell_type": "markdown",
   "metadata": {
    "collapsed": true
   },
   "source": [
    "$$=P(x)\\varphi+Q(x)$$"
   ]
  },
  {
   "cell_type": "markdown",
   "metadata": {},
   "source": [
    "三、给定方程\n",
    "$${dy \\over dx}=sin({ y \\over x})$$\n",
    "试求$\\frac{\\partial y(x,x_0,y_0)}{\\partial x_0}$ , $\\frac{\\partial y(x,x_0,y_0)}{\\partial y_0}$在$x_0=1$ , $y_0=0$的表达式。"
   ]
  },
  {
   "cell_type": "markdown",
   "metadata": {
    "collapsed": true
   },
   "source": [
    "解：设$f(x,y)=sin({ y \\over x})$，则${\\partial f \\over \\partial y}={1\\over x}cos{y\\over x}$"
   ]
  },
  {
   "cell_type": "markdown",
   "metadata": {
    "collapsed": true
   },
   "source": [
    "$$\\frac{\\partial y(x,x_0,y_0)}{\\partial x_0}=-f(x_0,y_0)exp(\\int_{x_0}^x {\\partial f(x,\\varphi) \\over \\partial y }{d}x)$$"
   ]
  },
  {
   "cell_type": "markdown",
   "metadata": {
    "collapsed": true
   },
   "source": [
    "$$=-sin({y_0 \\over x_0})exp(\\int_{x_0}^x {1\\over x}cos{y\\over x}{d}x)=0$$"
   ]
  },
  {
   "cell_type": "markdown",
   "metadata": {
    "collapsed": true
   },
   "source": [
    "$$\\frac{\\partial y(x,x_0,y_0)}{\\partial y_0}=exp\\int_{x_0}^x {\\partial f(x,\\varphi) \\over \\partial y }{d}x$$"
   ]
  },
  {
   "cell_type": "markdown",
   "metadata": {
    "collapsed": true
   },
   "source": [
    "$$=exp(\\int_{x_0}^x {1\\over x}cos{y\\over x}{d}x)$$"
   ]
  },
  {
   "cell_type": "markdown",
   "metadata": {},
   "source": [
    "四、设$y=\\varphi(x,x_0,y_0,\\lambda)$是初值问题\n",
    "$${dy \\over dx}=sin(\\lambda xy)$$\n",
    "$$\\varphi (x_0,x_0,y_0,\\lambda)=y_0$$\n",
    "的饱和解，这里$\\lambda$是参数，求${\\partial \\varphi \\over \\partial x_0}$ , ${\\partial \\varphi \\over \\partial y_0}$在$(x,0,0,1)$处的表达式"
   ]
  },
  {
   "cell_type": "markdown",
   "metadata": {
    "collapsed": true
   },
   "source": [
    "解：设$f(x,y)=sin(\\lambda xy)$\n",
    "\n",
    "则${\\partial f \\over \\partial y}=\\lambda x cos(\\lambda xy)$"
   ]
  },
  {
   "cell_type": "markdown",
   "metadata": {},
   "source": [
    "$${\\partial \\varphi \\over \\partial x_0}=-f(x_0,y_0)exp(\\int_{x_0}^x {\\partial f(x,\\varphi) \\over \\partial y }{d}x)$$"
   ]
  },
  {
   "cell_type": "markdown",
   "metadata": {},
   "source": [
    "$$=-sin(\\lambda x_0 y_0)exp(\\int_{x_0}^x {\\lambda x cos(\\lambda x \\varphi)}{d}x)=0$$"
   ]
  },
  {
   "cell_type": "markdown",
   "metadata": {},
   "source": [
    "$${\\partial \\varphi \\over \\partial y_0}=exp\\int_{x_0}^x {\\partial f(x,\\varphi) \\over \\partial y }{d}x$$"
   ]
  },
  {
   "cell_type": "markdown",
   "metadata": {},
   "source": [
    "$$=exp\\int_{x_0}^x \\lambda x cos(\\lambda x \\varphi){d}x$$"
   ]
  },
  {
   "cell_type": "markdown",
   "metadata": {},
   "source": [
    "$$=exp\\int_0^x xcos0 {d}x$$"
   ]
  },
  {
   "cell_type": "markdown",
   "metadata": {},
   "source": [
    "$$=exp({1\\over 2}x^2)$$"
   ]
  },
  {
   "cell_type": "markdown",
   "metadata": {},
   "source": [
    "$B$"
   ]
  },
  {
   "cell_type": "code",
   "execution_count": null,
   "metadata": {
    "collapsed": true
   },
   "outputs": [],
   "source": []
  }
 ],
 "metadata": {
  "kernelspec": {
   "display_name": "SageMath 7.3",
   "language": "",
   "name": "sagemath"
  },
  "language_info": {
   "codemirror_mode": {
    "name": "ipython",
    "version": 2
   },
   "file_extension": ".py",
   "mimetype": "text/x-python",
   "name": "python",
   "nbconvert_exporter": "python",
   "pygments_lexer": "ipython2",
   "version": "2.7.10"
  }
 },
 "nbformat": 4,
 "nbformat_minor": 0
}
