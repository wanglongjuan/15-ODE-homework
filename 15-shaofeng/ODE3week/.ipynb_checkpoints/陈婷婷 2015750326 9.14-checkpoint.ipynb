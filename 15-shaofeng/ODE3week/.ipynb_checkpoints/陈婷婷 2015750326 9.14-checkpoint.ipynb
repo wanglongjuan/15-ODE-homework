{
 "cells": [
  {
   "cell_type": "markdown",
   "metadata": {},
   "source": [
    "1、验证下列方程是恰当微分方程，并求出方程的解："
   ]
  },
  {
   "cell_type": "markdown",
   "metadata": {},
   "source": [
    "**（5）$（\\frac{1}{y}sin\\frac{x}{y}-\\frac{y}{x^2}cos\\frac{y}{x}+1）{\\mathrm d x}+（\\frac{1}{x}cos\\frac{y}{x}-\\frac{x}{y^2}sin\\frac{x}{y}+\\frac{1}{y^2}）{\\mathrm d y}=0$**"
   ]
  },
  {
   "cell_type": "markdown",
   "metadata": {},
   "source": [
    "验证：$$M=\\frac{1}{y}sin\\frac{x}{y}-\\frac{y}{x^2}cos\\frac{y}{x}+1$$\n",
    "\n",
    "$$N=\\frac{1}{x}cos\\frac{y}{x}-\\frac{x}{y^2}sin\\frac{x}{y}+\\frac{1}{y^2}$$\n",
    "\n",
    "$$\\frac{\\partial M}{\\partial y}=-\\frac{1}{y^2}sin\\frac{x}{y}-\\frac{x}{y^3}cos\\frac{x}{y}-\\frac{1}{x^2}cos\\frac{y}{x}+\\frac{y}{x^3}sin\\frac{y}{x}$$\n",
    "\n",
    "$$\\frac{\\partial N}{\\partial x}=-\\frac{1}{y^2}sin\\frac{x}{y}-\\frac{x}{y^3}cos\\frac{x}{y}-\\frac{1}{x^2}cos\\frac{y}{x}+\\frac{y}{x^3}sin\\frac{y}{x}$$\n",
    "\n",
    "因此$$\\frac{\\partial M}{\\partial y}=\\frac{\\partial N}{\\partial x}$$\n",
    "\n",
    "**故原方程为恰当微分方程**\n"
   ]
  },
  {
   "cell_type": "markdown",
   "metadata": {},
   "source": [
    "由于$$\\frac{1}{y}sin\\frac{x}{y}{\\mathrm d x}-\\frac{y}{x^2}cos\\frac{y}{x}{\\mathrm d x}+{\\mathrm d x}+\\frac{1}{x}cos\\frac{y}{x}{\\mathrm d y}-\\frac{x}{y^2}sin\\frac{x}{y}{\\mathrm d y}+\\frac{1}{y^2}{\\mathrm d y}=0$$\n",
    "\n",
    "即$$[\\frac{1}{y}sin\\frac{x}{y}{\\mathrm d x}-\\frac{x}{y^2}sin\\frac{x}{y}{\\mathrm d y}]+[\\frac{1}{x}cos\\frac{y}{x}{\\mathrm d y}-\\frac{y}{x^2}cos\\frac{y}{x}{\\mathrm d x}]+{\\mathrm d x}+\\frac{1}{y^2}{\\mathrm d y}=0$$\n",
    "\n",
    "从而知$${\\mathrm d (-cos\\frac{x}{y})}+{\\rm d}(sin\\frac{y}{x})+{\\rm d}x+{\\mathrm d (-\\frac{1}{y})}=0$$\n",
    "\n",
    "即$${\\rm d}(sin\\frac{y}{x}-cos\\frac{x}{y}+x-\\frac{1}{y})=0$$\n",
    "\n",
    "**故方程的解为$$sin\\frac{y}{x}-cos\\frac{x}{y}+x-\\frac{1}{y}=c,(c为任意常数）$$**"
   ]
  },
  {
   "cell_type": "markdown",
   "metadata": {},
   "source": [
    "2、求下列方程的解："
   ]
  },
  {
   "cell_type": "markdown",
   "metadata": {},
   "source": [
    "**（10）$(ycosx-xsinx){\\mathrm d x}+(ysinx+xcosx){\\mathrm d y}=0$** "
   ]
  },
  {
   "cell_type": "markdown",
   "metadata": {
    "collapsed": true
   },
   "source": [
    "解：$$M=ycosx-xsinx，N=ysinx+xcosx$$\n",
    "\n",
    "$$\\frac{\\partial M}{\\partial y}=cosx\\ne\\frac{\\partial N}{\\partial x}=ycosx+cosx-xsinx$$\n",
    "\n",
    "$$\\frac{\\frac{\\partial M}{\\partial y}-\\frac{\\partial N}{\\partial x}}{-M}=1$$\n",
    "\n",
    "方程有积分因子：$$\\mu=e^{\\int {\\rm d}y}=e^y$$\n",
    "\n",
    "方程两边同时乘以$\\mu$得$$e^y(ycosx-xsinx){\\rm d}x+e^y(ysinx+xcosx){\\rm d}y=0$$\n",
    "\n",
    "此方程为恰当方程，因此经化简整理得通解为$$e^y[sinx(y-1)+cosx]=c，(c为任意常数）$$"
   ]
  },
  {
   "cell_type": "markdown",
   "metadata": {},
   "source": [
    "\n",
    "**(11)$x(4y{\\mathrm d x}+2x{\\mathrm d y})+y^3(3y{\\mathrm d x}+5x{\\mathrm d y})=0$**"
   ]
  },
  {
   "cell_type": "markdown",
   "metadata": {},
   "source": [
    "解：在方程两边同时乘以$x^2y$得$$(4x^3y^2{\\rm d}x+2x^4y{\\rm d}y)+(3x^2y^5{\\rm d}x+5x^3y{\\rm d}y)=0$$\n",
    "\n",
    "即$${\\rm d}(x^4y^2)+{\\rm d}(x^3y^5)=0$$\n",
    "\n",
    "从而得方程的通解为$$x^4y^2+x^3y^5=c，（c为任意常数）$$"
   ]
  },
  {
   "cell_type": "markdown",
   "metadata": {
    "collapsed": true
   },
   "source": [
    "**$A$**"
   ]
  },
  {
   "cell_type": "code",
   "execution_count": null,
   "metadata": {
    "collapsed": true
   },
   "outputs": [],
   "source": []
  }
 ],
 "metadata": {
  "kernelspec": {
   "display_name": "SageMath 7.3",
   "language": "",
   "name": "sagemath"
  },
  "language_info": {
   "codemirror_mode": {
    "name": "ipython",
    "version": 2
   },
   "file_extension": ".py",
   "mimetype": "text/x-python",
   "name": "python",
   "nbconvert_exporter": "python",
   "pygments_lexer": "ipython2",
   "version": "2.7.10"
  }
 },
 "nbformat": 4,
 "nbformat_minor": 0
}
