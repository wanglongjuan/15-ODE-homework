{
 "cells": [
  {
   "cell_type": "markdown",
   "metadata": {},
   "source": [
    "### 1.求下列方程的解："
   ]
  },
  {
   "cell_type": "markdown",
   "metadata": {},
   "source": [
    "(4)$\\frac{\\mathrm{d}y}{\\mathrm{d}x}-\\frac{n}{x}y=e^xx^n$($n$为常数);\n",
    "\n",
    "解：首先求$$\\frac{\\mathrm{d}y}{\\mathrm{d}x}-\\frac{n}{x}y=0$$\n",
    "得$$y=cx^n$$\n",
    "将$c$变为$c(x)$,令$$y=c(x)x^n$$\n",
    "微分得$$\\frac{\\mathrm{d}y}{\\mathrm{d}x}=\\frac{\\mathrm{d}c(x)}{\\mathrm{d}x}x^n+c(x)nx^{n-1}$$\n",
    "代入原式得$$\\frac{\\mathrm{d}c(x)}{\\mathrm{d}x}=e^x$$\n",
    "积分得$$c(x)=e^x+c$$\n",
    "所以方程通解为$$y=x^n(e^x+c)$$"
   ]
  },
  {
   "cell_type": "markdown",
   "metadata": {},
   "source": [
    "(15)$\\frac{\\mathrm{d}y}{\\mathrm{d}x}=\\frac{1}{xy+x^3y^3}$;\n",
    "\n",
    "解：令$u=y^{2}$,得$$\\frac{2y\\mathrm dy}{\\mathrm dx}=\\frac{2}{x+x^{3}y^{2}}$$\n",
    "即$$\\frac{\\mathrm du}{\\mathrm dx}=\\frac{2}{xy+x^{3}u}$$\n",
    "把u看做自变量，x看做函数变量时得$$\\frac{\\mathrm dx}{\\mathrm du}=\\frac{x}{2}+\\frac{u}{2}x^{3}$$\n",
    "令$$z=x^{-2},$$ \n",
    "得$$\\frac{\\mathrm dz}{\\mathrm du}=-2x^{-3}\\frac{\\mathrm dx}{\\mathrm du},$$  \n",
    "代入$\\frac{\\mathrm dz}{\\mathrm du}$的表达式,得$$\\frac{\\mathrm dz}{\\mathrm du}=-z-u.$$\n",
    "这是一阶线性微分方程，根据公式可得它的通解为\n",
    "$$y=e^{\\int -1\\,\\mathrm{d}u}(\\int{-u} e^{-\\int 1\\,\\mathrm{d}u}\\mathrm{d}u+c),$$ \n",
    "即$$z=ce^{-u}-u+1$$\n",
    "把$z=x^{-2},u=y^{2}$代入得\n",
    "$$\\frac{1}{x^2}=ce^{-y^{2}}-y^{2}+1$$ \n",
    "即$$x^{2}(ce^{-y^{2}}-y^{2}+1)=1,$$  即为原方程的通解。"
   ]
  },
  {
   "cell_type": "markdown",
   "metadata": {},
   "source": [
    "(16)$y=e^x+\\int_0^xy(t)\\mathrm{d}t$.\n",
    "\n",
    "解：对方程$$y=e^x+\\int_0^xy(t)\\mathrm{d}t$$两端关于x求导得\n",
    "$$\\frac{\\mathrm dy}{\\mathrm dx}=e^{x}+y$$\n",
    "为一阶线性微分方程，跟据公式可得通解为\n",
    "$$y=e^{x}(\\int e^{x}e^{-x}\\mathrm dx+c)$$\n",
    "即$$y=e^{x}(x+c)$$ \n",
    "又当x=0时,由原方程可得\n",
    "$$y(0)=e^{0}+\\int0^0 y(t)\\mathrm dt=1,$$\n",
    "而$$y(0)=e^{0}(0+c)=c$$\n",
    "故得c=1 \n",
    "综上，原方程的解为$y=e^{x}(x+1).$"
   ]
  },
  {
   "cell_type": "markdown",
   "metadata": {},
   "source": [
    "7.（3）$y^\\prime\\sin{x}\\cos{x}-y-\\sin^3{x}=0$.\n",
    "\n",
    "解：将方程写成如下形式\n",
    "$$\\frac{\\mathrm dy}{\\mathrm dx}=\\frac{1}{sinxcosx}y+\\frac{sin^{2}x}{cosx}(sinx\\neq0,cosx\\neq0)$$\n",
    "根据课本公式，可以得到它的通解为\n",
    "$$y=e^{\\int \\frac{1}{sinxcosx}\\mathrm dx}(\\int \\frac{sin^{2}x}{cosx}e^{\\int \\frac{1}{sinxcosx}\\mathrm dx}\\mathrm dx+c)$$\n",
    "即$$y=tanx(\\int \\frac{sin^{2}x}{cosx}cotx\\mathrm dx+c)$$\n",
    "化简为$$y=tanx(-cosx+c),$$\n",
    "即$$y=ctanx-sinx,$$  \n",
    "当sinx=0时,原方程化为y=0.\n",
    "当cosx=0时,原方程化为$y=-sin^{3}x=\\pm 1$,\n",
    "即曲线变成一系列的点:\n",
    "$$(2k\\pi+\\frac{\\pi}{2},-1),(2k\\pi-\\frac{\\pi}{2},-1),k=0,\\pm 1,\\pm 2,···.$$\n",
    "综上，原方程的解为\n",
    "$$y=ctanx-sinx,(x\\neq k\\pi \\pm\\pi/2)$$\n",
    "或点$$(2k\\pi+\\frac{\\pi}{2},-1),(2k\\pi-\\frac{\\pi}{2},-1),k=0,\\pm 1,\\pm 2,···.$$"
   ]
  },
  {
   "cell_type": "markdown",
   "metadata": {},
   "source": [
    "### 1.验证下列方程是恰当微分方程，并求出方程的解："
   ]
  },
  {
   "cell_type": "markdown",
   "metadata": {},
   "source": [
    "(5)$(\\frac{1}{y}\\sin\\frac{x}{y}-\\frac{y}{x^2}\\cos\\frac{y}{x}+1)\\mathrm{d}x+(\\frac{1}{x}\\cos\\frac{y}{x}-\\frac{x}{y^2}\\sin\\frac{x}{y}+\\frac{1}{y^2})\\mathrm{d}y=0$.\n",
    "\n",
    "解：因为$$\\frac{\\partial M}{\\partial y}=-\\frac{1}{y^{2}}sin\\frac{x}{y}+\\frac{1}{y}cos\\frac{x}{y}\\frac{-x}{y^{2}}-\\frac{1}{x^{2}}cos\\frac{x}{y}+\\frac{y}{x^{2}}\\frac{1}{x}sin\\frac{y}{x},$$\n",
    "$$\\frac{\\partial N}{\\partial x}=-\\frac{1}{x^{2}}cos\\frac{y}{x}+\\frac{1}{x}\\frac{y}{x^{2}}sin\\frac{y}{x}-\\frac{1}{y^{2}}sin\\frac{x}{y}-\\frac{1}{y}\\frac{x}{y^{2}}cos\\frac{x}{y},$$\n",
    "故方程是恰当方程，把方程化为\n",
    "$$(\\frac{1}{y}sin\\frac{x}{y}\\mathrm dx-\\frac{x}{y}sin\\frac{x}{y}\\mathrm dy)-(-\\frac{y}{x^{2}}cos\\frac{y}{x}\\mathrm dx+\\frac{1}{x}cos\\frac{y}{x}\\mathrm dy)+\\mathrm dx+\\frac{1}{y^{2}\\mathrm dy}=0,$$\n",
    "即$$\\mathrm d(-cos\\frac{x}{y}+sin\\frac{y}{x}+x-\\frac{1}{y})=0.$$\n",
    "于是,方程的通解为$$sin\\frac{x}{y}-cos\\frac{y}{x}+x-\\frac{1}{y}=c,$$\n",
    "这里c是任意常数。"
   ]
  },
  {
   "cell_type": "markdown",
   "metadata": {},
   "source": [
    "### 2求解"
   ]
  },
  {
   "cell_type": "markdown",
   "metadata": {},
   "source": [
    "(10)$(y\\cos x-x\\sin x)\\mathrm{d}x+(y\\sin x+x\\cos x)\\mathrm{d}y=0$;\n",
    "\n",
    "解：(1)这里$$M=ycosx-xsinx,N=ysinx+xcosx,\\frac{\\partial M}{\\partial y}=cosx,\\frac{\\partial N}{\\partial x}=ycosxcosx-xsinx,$$方程不是恰当的.因为\n",
    "$$\\frac{\\frac{\\partial M}{\\partial y}-\\frac{\\partial N}{\\partial x}}{-M}=1$$，\n",
    "所以方程有积极分子$$\\mu=e^{\\int 1 \\mathrm dy}=e^{y}.$$\n",
    "以$\\mu=e^{y}$乘方程两边得\n",
    "$$(ye^{y}cosx\\mathrm dx+ye^{y}sinx\\mathrm dy)+(e^{y}xcosx\\mathrm dy-e^{y}xsinx\\mathrm dx)=0,$$\n",
    "即$$\\mathrm d[(y-1)sinx+e^{y}xcosx]=0,$$\n",
    "于是方程的通解为$$(y-1)sinx+xcosx=ce^{-y}.$$"
   ]
  },
  {
   "cell_type": "markdown",
   "metadata": {},
   "source": [
    "(11)$x(4y\\mathrm{d}x+2x\\mathrm{d}y)+y^3(3y\\mathrm{d}x+5x\\mathrm{d}y)=0$.\n",
    "\n",
    "解：由原方程易得:\n",
    "$$x(4y\\mathrm dx+2x\\mathrm dy)=\\mathrm d(2x^{2}y).$$\n",
    "对于方程$$y^(3)(3y\\mathrm dx+5x\\mathrm dy)=0,$$\n",
    "有$$M=3y^{4},N=5xy^{3}，\\frac{\\partial M}{\\partial y}=12y^{3},\\frac{\\partial N}{\\partial x}=5y^{3},$$\n",
    "因为$$\\frac{\\frac{\\partial M}{\\partial y}-\\frac{\\partial N}{\\partial x}}{5xy^{3}}=\\frac{7}{5x},$$\n",
    "所以方程有积分因子$$\\mu=2e^{\\int \\frac{7}{5x}\\mathrm dx}=x^{\\frac{7}{5}}.$$\n",
    "以$\\mu=x^{\\frac{7}{5}}$乘以方程$y^{3}(3y\\mathrm dx+5x\\mathrm dy)=0 $两边得\n",
    "$$3y^{4}x^{\\frac{7}{5}}\\mathrm dx+5x^{\\frac{12}{5}}y^{3}\\mathrm dy=0,$$\n",
    "即$$\\mathrm d(\\frac{5}{4}x^{\\frac{12}{5}}y^{4})=0.$$\n",
    "综上，得到原方程的通解为$$2x^{2}y+\\frac{5}{4}x^{\\frac{12}{5}}y^{4}=c,$$\n",
    "或$$8x^{2}y+5x^{\\frac{12}{5}}y{4}=c.$$"
   ]
  },
  {
   "cell_type": "markdown",
   "metadata": {
    "collapsed": true
   },
   "source": [
    "**$A$**"
   ]
  }
 ],
 "metadata": {
  "kernelspec": {
   "display_name": "SageMath 7.3",
   "language": "",
   "name": "sagemath"
  },
  "language_info": {
   "codemirror_mode": {
    "name": "ipython",
    "version": 2
   },
   "file_extension": ".py",
   "mimetype": "text/x-python",
   "name": "python",
   "nbconvert_exporter": "python",
   "pygments_lexer": "ipython2",
   "version": "2.7.10"
  }
 },
 "nbformat": 4,
 "nbformat_minor": 0
}
