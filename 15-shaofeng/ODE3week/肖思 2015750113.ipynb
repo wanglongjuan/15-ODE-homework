{
 "cells": [
  {
   "cell_type": "markdown",
   "metadata": {},
   "source": [
    "#  0912\n"
   ]
  },
  {
   "cell_type": "markdown",
   "metadata": {},
   "source": [
    "**1.求下列方程的解:**\n",
    "\n",
    "$(1)\\frac {\\mathrm d y}{\\mathrm d x} -\\frac {n}{x}y = e^{x}x^{n};$\n",
    "\n",
    "$(2)\\frac {\\mathrm d y}{\\mathrm d x}=\\frac{1}{xy+x^3y^3}$\n",
    "\n",
    "$(3)y=e^x+\\int_0^x y(t)\\mathrm d t$"
   ]
  },
  {
   "cell_type": "markdown",
   "metadata": {},
   "source": [
    "**解:**\n",
    "$(1)$变形:$$\\frac {\\mathrm d y}{\\mathrm d x}=\\frac {n}{x}y + e^{x}x^{n}  <1>$$\n",
    "\n",
    "求解齐次线性微分方程:$$\\frac {\\mathrm d y}{\\mathrm d x}=\\frac {n}{x}y $$\n",
    "\n",
    "的通解,从$$\\frac {\\mathrm d y}{y}=\\frac {n}{y} \\mathrm d x$$得到通解\n",
    "$$y=cx^n$$\n",
    "\n",
    "把上式中的$c$看成是$x$的待定函数$c(x)$,即$$y=c(x)x^n           <2>  $$\n",
    "\n",
    "微分得$$\\frac {\\mathrm d y}{\\mathrm d x}=\\frac {\\mathrm d c(x)}{\\mathrm d x}x^n +nc(x)x^{n-1}    <3>$$\n",
    "\n",
    "将<2>,<3>代入<1>并化简得$$\\frac {\\mathrm d c(x) }{\\mathrm d x}=e^x$$\n",
    "\n",
    "求积分$$c(x)=\\int e^x \\mathrm d x = e^x + c $$\n",
    "\n",
    "所以$$ y = (e^x + c)x^n $$\n",
    "\n",
    "$(2)$将原式改写$$\\frac{\\mathrm d x}{\\mathrm d y}= xy + x^3y^3  $$\n",
    "\n",
    "把$x$看成是未知函数,等式两边同时乘以$x^{-3}$得$$x^{-3}\\frac {\\mathrm d x}{\\mathrm d y}=x^{-2}y+y^3   <1>$$\n",
    "\n",
    "令$$z=x^{-2}  <2>$$\n",
    "\n",
    "则$$\\frac {\\mathrm d z}{\\mathrm d y}=-2x^{-3}\\frac{\\mathrm d x}{\\mathrm d y} <3>$$\n",
    "\n",
    "将<2>,<3>代入<1>中并化简得$$\\frac {\\mathrm d z}{\\mathrm d y}=-2zy-2y^3$$\n",
    "\n",
    "直接代入公式得$$z=e^{\\int -2y \\mathrm d y}(\\int -2y^3e^{\\int 2y \\mathrm d y}\\mathrm d y +\\tilde{c})$$\n",
    "\n",
    "$\\because \\int -2y \\mathrm d y =e^{-y^2},\\int -2y^3e^{\\int 2y \\mathrm d y}\\mathrm d y = -\\int y^2e^{y^2}\\mathrm d y=(1-y^2)e^{y^2}$\n",
    "\n",
    "$\\therefore x^{-2}=e^{-y^2}[(1-y^2)e^{y^2}+\\tilde{c}]$\n",
    "\n",
    "化简得$$cx^2=e^{y^2}(x^2y^2-x^2+1)$$\n",
    "\n",
    "$(3)$变形$$\\int_0^xy(t)\\mathrm d t = y - e^x$$\n",
    "\n",
    "微分得$$y(x)=y^\\prime - e^x$$\n",
    "\n",
    "变形$$\\frac {\\mathrm d y}{\\mathrm d x}=y^\\prime = y + e^x$$\n",
    "\n",
    "代入公式得$$ y = e^{\\int 1 \\mathrm d x}(\\int e^xe^{\\int -1 \\mathrm d x} \\mathrm d x + \\tilde {c})$$\n",
    "\n",
    "化简得$$ y =e^x (x+ \\tilde {c})$$\n",
    "\n",
    "将$ y =e^x (x+ \\tilde {c})$代入原式可求解$$ c = 1$$\n",
    "\n",
    "所以解为$$ y =　e^x (x+ 1)　$$\n",
    "\n",
    "\n"
   ]
  },
  {
   "cell_type": "markdown",
   "metadata": {},
   "source": [
    "**2.求解下列方程**\n",
    "\n",
    "$y^\\prime \\sin x \\cos x - y -\\sin^3 x = 0$\n",
    "\n",
    "**解:** \n",
    "\n",
    "化简$$ \\frac {\\mathrm d y}{\\mathrm d x}=\\frac {1}{\\cos x \\sin x}y + \\frac {\\sin^2 x}{\\cos x}$$\n",
    "\n",
    "代入公式得$$ y = e^{\\int \\frac{1}{\\cos x \\sin x}}  (\\int \\frac {\\sin^2 x}{\\cos x}e^{\\int -\\frac{1}{\\cos x \\sin x}}  \\mathrm d x + \\tilde{c})$$\n",
    "\n",
    "$\\because  <1>$ 如果$\\cos x \\neq 0$,即$ x \\neq \\frac {\\pi}{2} + k\\pi ,k \\in Z$\n",
    "\n",
    "$\\int \\frac{1}{\\cos x \\sin x}\\mathrm d x = \\int \\frac {1}{\\cos^2 x \\tan x}\\mathrm d x =\\int \\frac {\\mathrm d \\tan x}{\\tan x}=\\ln |\\tan x| ,$\n",
    "\n",
    "$ \\int \\frac {\\sin^2 x}{\\cos x}e^{\\int -\\frac{1}{\\cos x \\sin x}} \\mathrm d x = \\int \\sin x \\mathrm d x = -\\cos x$\n",
    "\n",
    "$\\therefore  y = \\tan x (-\\cos x + \\tilde{c}) = c\\tan x - \\sin x$\n",
    "\n",
    "$<2>$ 如果$\\cos x = 0$,即$ x = \\frac {\\pi}{2} + k\\pi ,k \\in Z$\n",
    "则$ y = (-1)^{k+1}, k \\in Z$\n",
    "\n",
    "所以解为\n",
    "$$\\begin{cases}\n",
    " y = c\\tan x - \\sin x ,x \\neq \\frac {\\pi}{2} + k\\pi ,k \\in Z \\\\\n",
    " y = (-1)^{k+1},x = \\frac {\\pi}{2} + k\\pi , k \\in Z\n",
    " \\end{cases}$$"
   ]
  },
  {
   "cell_type": "markdown",
   "metadata": {
    "collapsed": true
   },
   "source": [
    "#  0914"
   ]
  },
  {
   "cell_type": "markdown",
   "metadata": {},
   "source": [
    "**1.验证下列方程是恰当微分方程,并求出方程的解:**\n",
    "\n",
    "$(\\frac {1}{y} \\sin \\frac{x}{y} - \\frac {y}{x^2} \\cos \\frac {y}{x} + 1 ) \\mathrm d x + (\\frac {1}{x} \\cos \\frac {y}{x} - \\frac {x}{y^2} \\sin \\frac {x}{y} + \\frac {1}{y^2}) \\mathrm d y = 0 $ \n",
    "\n",
    "**解:**\n",
    "\n",
    "$ M = \\frac {1}{y} \\sin \\frac{x}{y} - \\frac {y}{x^2} \\cos \\frac {y}{x} + 1 ;$\n",
    "\n",
    "$ N = \\frac {1}{x} \\cos \\frac {y}{x} - \\frac {x}{y^2} \\sin \\frac {x}{y} + \\frac {1}{y^2} $\n",
    "\n",
    "$ \\because $ $$ \\frac {\\partial M}{\\partial y} = -\\frac {1}{y^2} \\sin \\frac {x}{y} - \\frac {x^2}{y^3} \\cos \\frac {x}{y} - \\frac {1}{x^2} \\cos \\frac {y}{x} + \\frac {y}{x^3} \\sin \\frac {y}{x}$$\n",
    "\n",
    "$$ \\frac {\\partial N}{\\partial x} = -\\frac {1}{y^2} \\sin \\frac {x}{y} - \\frac {x^2}{y^3} \\cos \\frac {x}{y} - \\frac {1}{x^2} \\cos \\frac {y}{x} + \\frac {y}{x^3} \\sin \\frac {y}{x}$$\n",
    "\n",
    "$\\therefore$ $$ \\frac {\\partial M}{\\partial y} = \\frac {\\partial N}{\\partial x} $$\n",
    "\n",
    "$\\therefore$ 此为恰当微分方程\n",
    "\n",
    "则 $$ (\\frac {1}{y} \\sin \\frac{x}{y}\\mathrm d x - \\frac {x}{y^2} \\sin \\frac {x}{y}\\mathrm d y) + (- \\frac {y}{x^2} \\cos \\frac {y}{x}\\mathrm d x + \\frac {1}{x} \\cos \\frac {y}{x}\\mathrm d y) + (1\\mathrm d x + \\frac {1}{y^2}\\mathrm d y) = 0 $$\n",
    "\n",
    "即 $$ \\mathrm d (- \\cos \\frac {x}{y}) + \\mathrm d (\\sin \\frac {x}{y}) +\\mathrm d (x -\\frac {1}{y}) = 0 $$\n",
    "\n",
    "所以方程的解为 $$ \\sin \\frac {y}{x} - cos \\frac {x}{y} + x - \\frac {1}{y} = c $$"
   ]
  },
  {
   "cell_type": "markdown",
   "metadata": {},
   "source": [
    "**2.求下列方程的解:**\n",
    "\n",
    "$ (1) (y \\cos x -x \\sin x)\\mathrm d x + (y \\sin x + x \\cos x)\\mathrm d y = 0 ;$\n",
    "\n",
    "$ (2) x (4y \\mathrm d x +2x \\mathrm d y) + y^3 (3y \\mathrm d x +5x \\mathrm d y) = 0 .$"
   ]
  },
  {
   "cell_type": "markdown",
   "metadata": {},
   "source": [
    "**解:**\n",
    "\n",
    "$(1)$ $$ M = y \\cos x -x \\sin x ; N = y \\sin x + x \\cos x $$\n",
    "\n",
    "$$ \\begin {cases}\n",
    "\\frac {\\partial M}{\\partial y} = \\cos x \\\\\n",
    "\\frac {\\partial N}{\\partial y} = y \\cos x + \\cos x -x \\sin x  \n",
    " \\end {cases}$$\n",
    " \n",
    "$\\because$ $$ \\frac {\\frac {\\partial M}{\\partial y} - \\frac {\\partial N}{\\partial y}}{- M} = 1$$\n",
    "\n",
    "$\\therefore$ 积分因子为 $$ \\mu = e^y $$ \n",
    "\n",
    "等式两边同乘以 $ \\mu $ 得:$$ e^y(y \\cos x -x \\sin x)\\mathrm d x + e^y(y \\sin x + x \\cos x)\\mathrm d y = 0 $$\n",
    "\n",
    "此为恰当微分方程\n",
    "\n",
    "则通解为:$$ \\int e^y(y \\cos x -x \\sin x)\\mathrm d x + \\int  [e^y(y \\sin x + x \\cos x) - \\frac {\\partial }{\\partial y} \\int e^y(y \\cos x -x \\sin x)\\mathrm d x ]\\mathrm d y = c $$\n",
    "\n",
    "即 $$ e^y \\sin x (y-1) + e^y \\cos x = c $$\n",
    "\n",
    "$(2)$ $\\because x (4y \\mathrm d x +2x \\mathrm d y) = \\mathrm d (2x^2y) $\n",
    "\n",
    "令$ y^3 (3y \\mathrm d x +5x \\mathrm d y) = 3 y^4 \\mathrm d x + 5xy^3 \\mathrm d y = 0 $\n",
    "\n",
    "则 $ M = 3 y^4 ; N = 5xy^3 $\n",
    "\n",
    "$ \\frac {\\partial M}{\\partial y} = 12y^3 ; \\frac {\\partial N}{\\partial x} = 5y^3 $\n",
    "\n",
    "若等式两边同时乘以 $ \\mu = x^2y $ ,则 $ \\frac {\\partial \\mu M}{\\partial y} = 15x^2y^2 ;\\frac {\\partial \\mu N}{\\partial x} = 15x^2y^2 $\n",
    "\n",
    "$ \\frac {\\partial \\mu M}{\\partial y} = \\frac {\\partial \\mu N}{\\partial x} $ \n",
    "\n",
    "此为一个恰当微分方程\n",
    "\n",
    "且 $\\mu [x (4y \\mathrm d x +2x \\mathrm d y)] = \\mathrm d (x^4y^2)$\n",
    "\n",
    "$ \\therefore $ $$ \\mu [x (4y \\mathrm d x +2x \\mathrm d y) + y^3 (3y \\mathrm d x +5x \\mathrm d y)] = 0 $$\n",
    "\n",
    "即 $$ \\mathrm d (x^4y^2) + \\mathrm d (x^3y^5) = 0 $$\n",
    "\n",
    "所以通解为:$$ x^4y^2 + x^3y^5 = c $$"
   ]
  },
  {
   "cell_type": "markdown",
   "metadata": {
    "collapsed": true
   },
   "source": [
    "**$A^+$**"
   ]
  },
  {
   "cell_type": "code",
   "execution_count": null,
   "metadata": {
    "collapsed": true
   },
   "outputs": [],
   "source": []
  }
 ],
 "metadata": {
  "kernelspec": {
   "display_name": "SageMath 7.3",
   "language": "",
   "name": "sagemath"
  },
  "language_info": {
   "codemirror_mode": {
    "name": "ipython",
    "version": 2
   },
   "file_extension": ".py",
   "mimetype": "text/x-python",
   "name": "python",
   "nbconvert_exporter": "python",
   "pygments_lexer": "ipython2",
   "version": "2.7.10"
  }
 },
 "nbformat": 4,
 "nbformat_minor": 0
}
