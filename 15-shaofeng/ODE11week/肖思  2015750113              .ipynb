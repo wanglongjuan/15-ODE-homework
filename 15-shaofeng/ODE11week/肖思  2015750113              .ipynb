{
 "cells": [
  {
   "cell_type": "markdown",
   "metadata": {},
   "source": [
    "# 1107"
   ]
  },
  {
   "cell_type": "markdown",
   "metadata": {},
   "source": [
    "**求解下列常系数线性微分方程:**\n",
    "\n",
    "**(1)$ x'' + 6x' + 5x = e^{2t} $ ;**\n",
    "\n",
    "**(2)$ x'' + x = \\sin t - \\cos 2t $;**\n",
    "\n",
    "**(3)$ x'' + 9x = t \\sin 3t $.**\n"
   ]
  },
  {
   "cell_type": "markdown",
   "metadata": {},
   "source": [
    "**解:**"
   ]
  },
  {
   "cell_type": "markdown",
   "metadata": {},
   "source": [
    "(1)齐次微分方程的特征方程为:\n",
    "\n",
    "$$ \\lambda^2 + 6 \\lambda + 5 = 0 $$\n",
    "\n",
    "解得: $ \\lambda_1 = -5 ,\\quad \\lambda_2 = -1 $"
   ]
  },
  {
   "cell_type": "markdown",
   "metadata": {},
   "source": [
    "所以齐次微分方程的通解为: $$ x = c_1 e^{-5t} + c_2 e^{-t} $$ \n",
    "\n",
    "其中 $ c_1,c_2 $ 为任意常数."
   ]
  },
  {
   "cell_type": "markdown",
   "metadata": {},
   "source": [
    "现在求原方程的一个特解,\n",
    "\n",
    "因为 $ 2 $ 不是特征方程的根\n",
    "\n",
    "所以令 $ \\bar {x} = A e^{2t} $\n",
    "\n",
    "代入原方程中可得: $$ 21 A e^{2t} = e^{2t} $$\n",
    "\n",
    "则 $ A = \\frac{1}{24}$\n"
   ]
  },
  {
   "cell_type": "markdown",
   "metadata": {},
   "source": [
    "所以原方程的通解为:$$ x = c_1 e^{-5t} + c_2 e^{-t} + \\frac {1}{24} e^{2t} $$\n",
    "\n",
    "其中 $ c_1,c_2 $ 为任意常数.\n"
   ]
  },
  {
   "cell_type": "markdown",
   "metadata": {},
   "source": [
    "粗心"
   ]
  },
  {
   "cell_type": "markdown",
   "metadata": {},
   "source": [
    "(2)其齐次线性微分方程的特征方程为:$$ \\lambda^2 + 1 = 0 $$\n",
    "\n",
    "解得: $ \\lambda_1 = i ,\\quad \\lambda_2 = -i $\n",
    "\n",
    "所以齐次微分方程的通解为: $$ x = c_1 \\cos t + c_2 \\sin t $$\n",
    "\n",
    "其中 $ c_1,c_2 $ 为任意常数\n"
   ]
  },
  {
   "cell_type": "markdown",
   "metadata": {},
   "source": [
    "分别求解方程 $$ x'' + x = \\sin t   \\quad  [1]$$\n",
    "\n",
    "和 $$ x'' + x = - \\cos 2t  \\quad  [2]$$\n"
   ]
  },
  {
   "cell_type": "markdown",
   "metadata": {},
   "source": [
    "求解[1]:令特解 $ \\bar {x_1} = t(A \\cos t + B \\sin t )$\n",
    "\n",
    "代入[1]中可知:$$ 2B \\cos t - 2A \\sin t = \\sin t $$\n",
    "\n",
    "所以: $ A = -\\frac{1}{2} ,\\quad B = 0 $\n",
    "\n",
    "所以 $$ \\bar {x_1} = -\\frac {1}{2}t \\cos t $$\n"
   ]
  },
  {
   "cell_type": "markdown",
   "metadata": {},
   "source": [
    "求解[2]:令特解 $ \\bar{x_2} = A \\cos 2t + B \\sin 2t $\n",
    "\n",
    "代入[2]中可得:$$ -3A \\cos 2t - 3B \\sin 2t = - \\cos 2t $$\n",
    "\n",
    "所以: $ A = \\frac{1}{3} \\quad B = 0 $\n",
    "\n",
    "所以 $$ \\bar {x_2} = \\frac {1}{3} \\cos 2t $$"
   ]
  },
  {
   "cell_type": "markdown",
   "metadata": {},
   "source": [
    "所以原方程的通解为:$$ x = c_1 \\cos t + c_2 \\sin t - \\frac {1}{2}t \\cos t + \\frac{1}{3} \\cos 2t $$\n",
    "\n",
    "其中 $ c_1,c_2 $ 为任意常数.\n"
   ]
  },
  {
   "cell_type": "markdown",
   "metadata": {},
   "source": [
    "(3)其齐次线性微分方程的特征方程为:$$ \\lambda^2 + 9 = 0 $$\n",
    "\n",
    "解得:$ \\lambda_1 = 3 i \\quad  \\lambda_2 = -3 i $\n",
    "\n",
    "齐次方程的通解为:$$ x = c_1 \\sin 3t + c_2 \\cos 3t $$\n"
   ]
  },
  {
   "cell_type": "markdown",
   "metadata": {},
   "source": [
    "令原方程的特解为:$$ \\bar{x} = t[(At + B) \\cos 3t + (Ct + D) \\sin 3t] $$\n",
    "\n",
    "将其代入原方程,可得:$$ -12A t \\sin 3t + 9C t \\cos 3t +(2C - 6B) \\sin 3t + (6D + 2A) \\cos 3t = t \\sin 3t $$   \n",
    "\n",
    "解得:$ A = -\\frac{1}{12} \\quad B = 0 \\quad C = 0 \\quad D = \\frac{1}{36} $\n",
    "\n",
    "所以 $$ \\bar{x} = t(\\frac{1}{12}t \\cos 3t + \\frac{1}{36} \\sin 3t) $$"
   ]
  },
  {
   "cell_type": "markdown",
   "metadata": {},
   "source": [
    "所以原方程的通解为:$$ x = c_1 \\sin 2t + c_2 \\cos 3t - \\frac{1}{12}t^2 \\cos 3t + \\frac{1}{36}t \\sin 3t $$\n",
    "\n",
    "其中 $ c_1,c_2 $ 为任意常数."
   ]
  },
  {
   "cell_type": "markdown",
   "metadata": {
    "collapsed": true
   },
   "source": [
    "# 1109"
   ]
  },
  {
   "cell_type": "markdown",
   "metadata": {},
   "source": [
    "**求解下列方程的通解:**\n",
    "\n",
    "**(1)$ x'' + 9x = 6 e^{3t} ,\\quad x(0) = x'(0) = 0 $ ; **\n",
    "\n",
    "**(2)$ x^{(4)} + x = 2e^t ,\\quad x(0) = x'(0) = x''(0) = x'''(0) = 1 .$ **"
   ]
  },
  {
   "cell_type": "markdown",
   "metadata": {},
   "source": [
    "** 解:**"
   ]
  },
  {
   "cell_type": "markdown",
   "metadata": {},
   "source": [
    "(1)对方程两边进行拉普拉斯变换得:\n",
    "\n",
    "$$ ( s^2 + 9 ) X(s) = \\frac{6}{ s - 3 } $$\n",
    "\n",
    "所以 $$ X(s) = \\frac{1}{3( s - 3 )} - \\frac{s}{3(s^2 + 9 )} - \\frac{1}{3(s^2 + 9)} $$\n",
    "\n",
    "则根据拉普拉斯反变化可知: $$ x(t) = \\frac{1}{3}(e^{3t} - \\cos 3t - \\sin 3t ) $$\n",
    "\n",
    "\n"
   ]
  },
  {
   "cell_type": "markdown",
   "metadata": {},
   "source": [
    "(2) 对方程两边进行拉普拉斯变换得: $$ s^4 X(s) - s^3 - s^2 - s - 1 + X(s) = \\frac{2}{s - 1} $$\n",
    "\n",
    "所以 $$ X(s) = \\frac{1}{s - 1} $$\n",
    "\n",
    "则根据拉普拉斯反变换可知: $$ x(t) = e^t $$"
   ]
  },
  {
   "cell_type": "markdown",
   "metadata": {
    "collapsed": true
   },
   "source": [
    "$A$"
   ]
  }
 ],
 "metadata": {
  "kernelspec": {
   "display_name": "SageMath 7.3",
   "language": "",
   "name": "sagemath"
  },
  "language_info": {
   "codemirror_mode": {
    "name": "ipython",
    "version": 2
   },
   "file_extension": ".py",
   "mimetype": "text/x-python",
   "name": "python",
   "nbconvert_exporter": "python",
   "pygments_lexer": "ipython2",
   "version": "2.7.10"
  }
 },
 "nbformat": 4,
 "nbformat_minor": 0
}
