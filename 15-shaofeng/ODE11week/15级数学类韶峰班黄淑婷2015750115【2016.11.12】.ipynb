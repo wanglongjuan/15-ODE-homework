{
 "cells": [
  {
   "cell_type": "markdown",
   "metadata": {},
   "source": [
    "# 常微分作业——15数学类韶峰班黄淑婷（2015750115）"
   ]
  },
  {
   "cell_type": "markdown",
   "metadata": {},
   "source": [
    "2.求解下列常系数线性微分方程。"
   ]
  },
  {
   "cell_type": "markdown",
   "metadata": {},
   "source": [
    "(12) $x''+6x'+5x=e^{2t}$ "
   ]
  },
  {
   "cell_type": "markdown",
   "metadata": {},
   "source": [
    "解：\n",
    "特征方程为： $$\\lambda^2+6\\lambda+5=0$$\n",
    "\n",
    "得到特征根为: $$\\lambda_1=-1,\\lambda_2=-5$$\n",
    "\n",
    "令方程的一个特解为：$x^*=Ae^{2t}$ ,代入方程得到 $A=\\frac{1}{21}$\n",
    "\n",
    "从而得到特解为：$$x^*=\\frac{1}{21}e^{2t}$$\n",
    "\n",
    "从而有方程的通解为：$$x=c_1e^{-t}+c_2e^{-5t}+\\frac{1}{21}e^{2t}$$"
   ]
  },
  {
   "cell_type": "markdown",
   "metadata": {},
   "source": [
    "(14) $x''+x=\\sin t-\\cos 2t$"
   ]
  },
  {
   "cell_type": "markdown",
   "metadata": {},
   "source": [
    "解：\n",
    "方程的特征方程为： $$\\lambda^2+1=0$$\n",
    "\n",
    "从而得到方程的特征根为： $$\\lambda_1=i,\\lambda_2=-i$$\n",
    "\n",
    "对方程 $x''+x=\\sin t$ ,设特解为 $x^*=t(A\\sin t+B\\cos t)$ ,代入方程得到 $A=0,B=-\\frac{1}{2}$\n",
    "\n",
    "从而得到方程 $x''+x=\\sin t$ 的一个特解为 $$x^*=-\\frac{1}{2}t\\cos t$$\n",
    "\n",
    "对方程 $x''+x=-\\cos 2t$ ,设特解为 $x^*=A\\cos 2t+B\\sin 2t$ ,代入方程得到 $A=\\frac{1}{3},B=0$\n",
    "\n",
    "从而得到方程 $x''+x=-\\cos 2t$ 的一个特解为 $$x^*=\\frac{1}{3}\\cos 2t$$\n",
    "\n",
    "从而有方程的通解为：$$x=c_1\\cos t+c_2\\sin t-\\frac{1}{2}t\\cos t+\\frac{1}{3}\\cos 2t$$"
   ]
  },
  {
   "cell_type": "markdown",
   "metadata": {},
   "source": [
    "(16) $x''+9x=t\\sin 3t$"
   ]
  },
  {
   "cell_type": "markdown",
   "metadata": {},
   "source": [
    "解：特征方程为：$$\\lambda^2+9=0$$\n",
    "\n",
    "得到特征根为：$$\\lambda_1=3i,\\lambda_2=-3i$$\n",
    "\n",
    "令方程的一个特解为：$x^*=t[(At+B)\\cos 3t+(Et+F)\\sin 3t]$ ,代入方程，得到 $A=-\\frac{1}{12},F=\\frac{1}{36},B=E=0$\n",
    "\n",
    "从而得到方程的一个特解为 $$x^*=-\\frac{1}{12}t^2\\cos 3t+\\frac{1}{36}t\\sin 3t$$\n",
    "\n",
    "从而得到方程的通解为： $$x=c_1\\cos 3t+c_2\\sin 3t-\\frac{1}{12}t^2\\cos 3t+\\frac{1}{36}t\\sin 3t$$"
   ]
  },
  {
   "cell_type": "markdown",
   "metadata": {},
   "source": [
    "4.求下组初值问题的解。"
   ]
  },
  {
   "cell_type": "markdown",
   "metadata": {},
   "source": [
    "（1）$x''+9x=6e^{3t},x(0)=x'(0)=0$"
   ]
  },
  {
   "cell_type": "markdown",
   "metadata": {},
   "source": [
    "解：对方程两边施行拉普拉斯变换得: $$(s^2+9)X(s)=\\frac{6}{s-3}$$\n",
    "\n",
    "得到： $$X(s)=\\frac{1}{3}[\\frac{1}{s-3}-\\frac{s}{s^2+9}]-\\frac{1}{s^2+9}$$\n",
    "\n",
    "从而得到解为： $$x(t)=\\frac{1}{3}(e^{3t}-\\cos 3t-\\sin 3t)$$"
   ]
  },
  {
   "cell_type": "markdown",
   "metadata": {},
   "source": [
    "(2) $x^{(4)}+x=2e^t,x(0)=x'(0)=x''(0)=x'''(0)=1$"
   ]
  },
  {
   "cell_type": "markdown",
   "metadata": {},
   "source": [
    "解：对方程两边施行拉普拉斯变换得： $$s^4X(s)-s^3-s^2-s-1+X(s)=\\frac{2}{s-1}$$\n",
    "\n",
    "得到： $$X(s)=\\frac{1}{s-1}$$\n",
    "\n",
    "从而得到解为： $$x(t)=e^t$$"
   ]
  },
  {
   "cell_type": "markdown",
   "metadata": {},
   "source": [
    "$A$"
   ]
  }
 ],
 "metadata": {
  "kernelspec": {
   "display_name": "SageMath 7.3",
   "language": "",
   "name": "sagemath"
  },
  "language_info": {
   "codemirror_mode": {
    "name": "ipython",
    "version": 2
   },
   "file_extension": ".py",
   "mimetype": "text/x-python",
   "name": "python",
   "nbconvert_exporter": "python",
   "pygments_lexer": "ipython2",
   "version": "2.7.10"
  }
 },
 "nbformat": 4,
 "nbformat_minor": 0
}
