{
 "cells": [
  {
   "cell_type": "markdown",
   "metadata": {},
   "source": [
    "# 1. 求解下列常系数线性微分方程. #"
   ]
  },
  {
   "cell_type": "markdown",
   "metadata": {},
   "source": [
    "## (1)$x''+6x'+5x=e^{2t}$"
   ]
  },
  {
   "cell_type": "markdown",
   "metadata": {},
   "source": [
    "解 ： 先求对应的齐次线性微分方程$x''+6x'+5x=0$的通解。\n",
    "\n",
    "   这里的特征方程 $ \\lambda^2+6 \\lambda+5=0 $ 有两个根$ \\lambda_1=-1,\\lambda_2=-5$ \n",
    "\n",
    "   因此通解为$x=c_1e^{-t}+c_2e^{-5t}$,其中$c_1,c_2$为常数。\n",
    "\n",
    "   再求非齐次线性微分方程的一个特解，这里$f(t)=e^{2t}$,$\\lambda=2$.\n",
    "     \n",
    "   因为$\\lambda=2$不是特征根，所以可取特解形如$x=Ae^{2t}$,A为待定常数。\n",
    "\n",
    "   为了确定A,将$x=Ae^{2t}$带入原方程，得到$4A+6*2A+5A=1$,\n",
    "\n",
    "   解得$A=\\frac{1}{21}$,即方程特解$x= \\frac{1}{21}e^{2t}$.\n",
    "\n",
    "   因此，原方程的通解为$x=c_1e^{-t}+c_2e^{-5t}+\\frac{1}{21}e^{2t}$."
   ]
  },
  {
   "cell_type": "markdown",
   "metadata": {},
   "source": [
    "## (2)$x''+x=sin t - cos 2t $ ##"
   ]
  },
  {
   "cell_type": "markdown",
   "metadata": {},
   "source": [
    "解：先求对应的齐次线性微分方程$x''+x=0$的通解。\n",
    "\n",
    "特征方程$\\lambda^2+1=0$有两个根$ \\lambda_1=i,\\lambda_2=-i$\n",
    "\n",
    "因此通解为$x=c_1cos t+c_2sin t$，其中$c_1，c_2$为常数。\n",
    "\n",
    "* 1 对于方程$x''+x=sin t$,设其特解为$x=t(A_1sin t+B_1cos t)$\n",
    "\n",
    "代入方程可得$A_1=0,B_1=-\\frac{1}{2}$,即此方程的一个特解为$x=\\frac{-1}{2}tcos t$\n",
    "\n",
    "\n",
    "* 2 对于方程$x''+x=-cos 2t$设其特解为$x=A_2cos 2t+B_2sin 2t$\n",
    "\n",
    "代入方程可得$ A_2=\\frac{1}{3},B_2=0$,即此方程的一个特解为$x=\\frac{1}{3}cos 2t$\n",
    "\n",
    "\n",
    "所以原方程的通解为$x=c_1cos t+c_2sint-\\frac{1}{2}tcos t+\\frac{1}{3}cos 2t$"
   ]
  },
  {
   "cell_type": "markdown",
   "metadata": {},
   "source": [
    "## (3)$ x''+9x=tsin 3t $ ##"
   ]
  },
  {
   "cell_type": "markdown",
   "metadata": {},
   "source": [
    "解：先求对应的齐次线性微分方程$x''+9x=0$的通解。\n",
    "\n",
    "特征方程$  \\lambda ^2+9=0$有两个根$ \\lambda_1=3i, \\lambda_2=-3i$\n",
    "\n",
    "因此通解为$x=c_1cos 3t+c_2sin 3t$,$c_1，c_2$为常数。\n",
    "\n",
    "再求非齐次线性微分方程的一个特解，在这里$f(t)=tsin 3t$\n",
    "\n",
    "设其特解为$x=t[(At+B)sin 3t+(Ct+D)cos 3t]$，\n",
    "\n",
    "带入原方程得$A=- \\frac{1}{12},D=\\frac{1}{36},B=C=0$,\n",
    "\n",
    "所以方程特解为$x=-\\frac{1}{12}t^2sin 3t+\\frac{1}{36}tcos 3t$.\n",
    "\n",
    "所以原方程的通解为$x=c_1cos 3t+c_2sin3t-\\frac{1}{12}t^2sin3t+\\frac{1}{36}tcos 3t$"
   ]
  },
  {
   "cell_type": "markdown",
   "metadata": {},
   "source": [
    "# 2.求下组初值问题的解.#"
   ]
  },
  {
   "cell_type": "markdown",
   "metadata": {},
   "source": [
    "## (1) $x''+9x=6e^{3t}$ ,$x(0)=x'(0）=0$##"
   ]
  },
  {
   "cell_type": "markdown",
   "metadata": {},
   "source": [
    "解： 对方程左右两边进行拉普拉斯变换得：$s^2X(s)-sx(0)-x'(0)+9X(s)=6*\\frac{1}{s-3}$\n",
    "\n",
    "=>$X(s）=6*\\frac{1}{s-3}*\\frac{1}{s^2+9}$\n",
    "\n",
    "=>$X(s)=\\frac{1}{3}*(\\frac{1}{s-3}-\\frac{1}{s^2+9}-\\frac{s}{s^2+9})$\n",
    "\n",
    "对上式右端各项分别求其原函数，则它们的和函数就是$X（s）$原函数的解\n",
    "\n",
    "$x(t)=\\frac{1}{3}(e^{3t}-cos 3t-sin3t)$\n",
    "\n"
   ]
  },
  {
   "cell_type": "markdown",
   "metadata": {},
   "source": [
    "## (2) $x^{(4)}+x=2e^t$, $ x(0)=x'(0)=x''(0)=x'''(0)=1$ ##"
   ]
  },
  {
   "cell_type": "markdown",
   "metadata": {},
   "source": [
    "解：对方称左右两边进行拉普拉斯变换得：$s^4X(s)-s^3x(0)-s^2x'(0)-sx''(0)-1+X(s)=2*\\frac{1}{s-1}$\n",
    "\n",
    "=>$(s^4+1)X(s）=2*\\frac{1}{s-1}+s^3+s^2+s+1$\n",
    "\n",
    "=>$X(s)=\\frac{1}{s-1}$\n",
    "\n",
    "对上式右端求其原函数得到$x(t)=e^t$"
   ]
  },
  {
   "cell_type": "markdown",
   "metadata": {
    "collapsed": true
   },
   "source": [
    "A"
   ]
  }
 ],
 "metadata": {
  "kernelspec": {
   "display_name": "SageMath 7.3",
   "language": "",
   "name": "sagemath"
  },
  "language_info": {
   "codemirror_mode": {
    "name": "ipython",
    "version": 2
   },
   "file_extension": ".py",
   "mimetype": "text/x-python",
   "name": "python",
   "nbconvert_exporter": "python",
   "pygments_lexer": "ipython2",
   "version": "2.7.10"
  }
 },
 "nbformat": 4,
 "nbformat_minor": 0
}
