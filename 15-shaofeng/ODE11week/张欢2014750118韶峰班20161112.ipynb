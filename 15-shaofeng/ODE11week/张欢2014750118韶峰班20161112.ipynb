{
 "cells": [
  {
   "cell_type": "markdown",
   "metadata": {},
   "source": [
    "# 1.求解下列方程的通解"
   ]
  },
  {
   "cell_type": "markdown",
   "metadata": {},
   "source": [
    "## （1）$x^{(2)}+6x^{\\prime}+5x=e^{2t}$"
   ]
  },
  {
   "cell_type": "markdown",
   "metadata": {},
   "source": [
    "**解：**先求齐次方程的通解：\n",
    "齐次方程的特征方程为$$ \\lambda^2+6\\lambda+5=0$$\n",
    "\n",
    "解得$$\\lambda=-1或\\lambda=-5$$\n",
    "\n",
    "此处$f(t)=e^{2t}$,而$\\lambda=2$不是特征根\n",
    "\n",
    "故设特解为$$x=ae^{2t}$$\n",
    "\n",
    "代入原方程得$$a= \\frac{1}{21}$$\n",
    "\n",
    "所以原方程通解为$$x=c_1e^{-1}+c_2e^{-5}+ \\frac{1}{21}e^{2t}$$"
   ]
  },
  {
   "cell_type": "markdown",
   "metadata": {},
   "source": [
    "## （2）$x^{(2)}+x= \\mathrm sint-cos2t$"
   ]
  },
  {
   "cell_type": "markdown",
   "metadata": {},
   "source": [
    "**解：**先求齐次方程的通解：\n",
    "齐次方程的特征方程为$$ \\lambda^2+1=0$$\n",
    "\n",
    "解得$$\\lambda=i或\\lambda=-i$$\n",
    "\n",
    "此处$f(t)= \\mathrm sint-cos2t$\n",
    "\n",
    "对于$x^{(2)}+x= \\mathrm sint$设特解为$$x_1=t(a \\mathrm sint+b \\mathrm cost)$$\n",
    "\n",
    "代入原方程得$$x_1=- \\frac{1}{2}t \\mathrm cost$$\n",
    "\n",
    "对于$x^{(2)}+x=- \\mathrm cos2t$设特解为$$x_2=a \\mathrm sin2t+b \\mathrm cos2t$$\n",
    "\n",
    "代入原方程得$$x_2= \\frac{1}{3} \\mathrm cos2t$$\n",
    "\n",
    "所以原方程通解为$$x=c_1\\mathrm cost +c_2\\mathrm sint- \\frac{1}{2}t\\mathrm cost+ \\frac{1}{3}\\mathrm cos2t$$"
   ]
  },
  {
   "cell_type": "markdown",
   "metadata": {},
   "source": [
    "## （3）$x^{(2)}+9x=t\\mathrm sin3t$"
   ]
  },
  {
   "cell_type": "markdown",
   "metadata": {},
   "source": [
    "**解：**先求齐次方程的通解：\n",
    "齐次方程的特征方程为$$ \\lambda^2+9=0$$\n",
    "\n",
    "解得$$\\lambda=3i或\\lambda=-3i$$\n",
    "\n",
    "此处$f(t)=t\\mathrm sin3t$,$\\lambda=3i$是特征方程的单根\n",
    "\n",
    "设特解为$$x=t[(at+c)\\mathrm sin3t+(bt+d)\\mathrm cos3t]$$\n",
    "\n",
    "代入原方程得$$x=- \\frac{1}{12}t^2 \\mathrm cos3t+ \\frac{1}{36}t\\mathrm sin3t$$\n",
    "\n",
    "所以原方程通解为$$x=c_1\\mathrm cos3t +c_2\\mathrm sin3t- \\frac{1}{12}t^2\\mathrm cos3t+ \\frac{1}{36}t\\mathrm sin3t$$"
   ]
  },
  {
   "cell_type": "markdown",
   "metadata": {},
   "source": [
    "## (4):$x^{(2)}+9x=6e^{3t},x(0)={x(0)}^{\\prime}=0$"
   ]
  },
  {
   "cell_type": "markdown",
   "metadata": {},
   "source": [
    "**解：**\n",
    "对方程两端做laplace变换，得像函数方程$$(s^{2}+9)X(s)=\\frac{6}{s-3}$$\n",
    "\n",
    "则$$X(s)=\\frac{6}{(s^{2}+9)(s-3)}=\\frac{1}{3}[\\frac{1}{s-3}-\\frac{s}{s^2+9}]-\\frac{1}{s^2+9}$$\n",
    "\n",
    "所以原方程解为$$x(t)=\\frac{1}{3}e^{3t}-\\frac{1}{3}\\cos 3t-\\frac{1}{3}\\sin 3t$$"
   ]
  },
  {
   "cell_type": "markdown",
   "metadata": {},
   "source": [
    "## (5)$x^{(4)}+x=2e^{t},x(0)={x(0)}^{\\prime}={x(0)}^2={x(0)}^3=1$"
   ]
  },
  {
   "cell_type": "markdown",
   "metadata": {},
   "source": [
    "**解：**\n",
    "对方程两端做laplace变换，得像函数方程$$(s^{4}+1)X(s)=\\frac{2}{s-1}+s^3+s^2+s+1$$\n",
    "\n",
    "则$$X(s)=\\frac{1}{s-1}$$\n",
    "\n",
    "所以原方程解为$$x(t)=e^{t}$$"
   ]
  },
  {
   "cell_type": "markdown",
   "metadata": {},
   "source": [
    "$A$"
   ]
  },
  {
   "cell_type": "code",
   "execution_count": null,
   "metadata": {
    "collapsed": true
   },
   "outputs": [],
   "source": []
  }
 ],
 "metadata": {
  "kernelspec": {
   "display_name": "SageMath 7.3",
   "language": "",
   "name": "sagemath"
  },
  "language_info": {
   "codemirror_mode": {
    "name": "ipython",
    "version": 2
   },
   "file_extension": ".py",
   "mimetype": "text/x-python",
   "name": "python",
   "nbconvert_exporter": "python",
   "pygments_lexer": "ipython2",
   "version": "2.7.10"
  }
 },
 "nbformat": 4,
 "nbformat_minor": 0
}
