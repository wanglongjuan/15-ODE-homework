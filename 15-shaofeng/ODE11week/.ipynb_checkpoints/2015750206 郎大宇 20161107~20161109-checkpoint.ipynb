{
 "cells": [
  {
   "cell_type": "markdown",
   "metadata": {},
   "source": [
    "#### 1.求解下列常系数线性微分方程\n",
    " $(1)x''+6x'+5x=e^{2t};$\n",
    " \n",
    " $(2)x''+x=\\sin{t} -\\cos2t;$\n",
    " \n",
    " $(3)x''+9x=t\\sin3t;$"
   ]
  },
  {
   "cell_type": "markdown",
   "metadata": {},
   "source": [
    "#### 解：\n",
    "（1）\n",
    "$$\\frac{d^{2}x}{dt^2}+6\\frac{dx}{dt}+5x=0$$\n",
    "\n",
    "特征方程$$\\lambda^2+6\\lambda+5=0$$有两个根-5，-1.\n",
    "\n",
    "因此，通解为$$x=c_1e^{-5t}+c_2e^{-t},$$这里$c_1,c_2$为任意常数。\n",
    "\n",
    "现在求原方程的一个特解，这里$$f(t)=e^{2t}$$  \n",
    "\n",
    "方程有特解$\\tilde x=Ae^{2t}$,代入原方程\n",
    "\n",
    "得：$$4Ae^{2t}+12Ae^{2t}+5e^{2t}=e^{2t}$$\n",
    "\n",
    "解得$A=\\frac{1}{21}$,\n",
    "\n",
    "故$$\\tilde x=\\frac{1}{21}e^{2t}$$  \n",
    "\n",
    "故原方程的通解为$$x=c_1e^{-5t}+c_2e^{-t}+\\frac{1}{21}e^{2t}.$$\n"
   ]
  },
  {
   "cell_type": "markdown",
   "metadata": {},
   "source": [
    "（2）$$\\frac{d^{2}x}{dt^{2}}+x=\\sin t-\\cos 2t.$$\n",
    " \n",
    " 特征方程为$$\\lambda^2+1=0,$$  \n",
    " \n",
    " 解得两根为$\\lambda=\\pm i.$\n",
    " \n",
    " 因此对应齐次线性微分方程的通解为\n",
    " \n",
    " $$x=c_1cost+c_2sint$$   \n",
    " \n",
    " 其中$c_1,c_2$为任意常数.\n",
    " \n",
    " 设特解一为$\\tilde x=t(Acost+Bsint)$ ，代入方程$$x''+x=sint$$\n",
    " \n",
    " 解得$A=-\\frac{1}{2},B=0,$故此方程的一个特解为$\\tilde x=-\\frac{1}{2}tcost$     \n",
    " \n",
    " 同理，设特解二为$\\tilde x=Acos 2t+Bsin 2t$ ，代入方程$$x''+x=cos 2t$$  中，解得   \n",
    " \n",
    " 解得$A=\\frac{1}{3},B=0,$\n",
    " \n",
    "  故此方程的一个特解为$\\tilde x=\\frac{1}{3} cos2t$;\n",
    " \n",
    " 故原方程的通解为$$x=c_1cost+c_2sint-\\frac{1}{2}tcost+\\frac{1}{3}cos2t$$"
   ]
  },
  {
   "cell_type": "markdown",
   "metadata": {},
   "source": [
    "(3)特征方程为$$\\lambda^2+9=0,$$\n",
    "\n",
    " 解得两根为$\\lambda=\\pm 3i.$\n",
    "\n",
    "故对应齐次线性微分方程的通解为$$x=c_1cos3t+c_2sin3t$$\n",
    "\n",
    "为求原方程的一个特解，利用复数法，先求方程\n",
    "\n",
    "$$\\frac{d^{2}x}{dx^2}+9x=-it(isin3t+cos3t)=-ite^{3it}$$的特解.  \n",
    "\n",
    "设其特解为$$\\tilde x=t(At+B)e^{3it}$$\n",
    "\n",
    "代入上面方程，求得$A=-\\frac{1}{12},B=-\\frac{1}{36}i$\n",
    "\n",
    "故\n",
    "$$\n",
    "\\begin{aligned}\n",
    "\\tilde x&=t(-\\frac{1}{12}t-\\frac{1}{36}i)e^{3it}\\\\\n",
    "&=t(-\\frac{1}{12}t-\\frac{1}{36}i)(isin3t+cost)\\\\\n",
    "\\end{aligned}\n",
    "$$\n",
    "\n",
    "再取其实部,即$$\\tilde x'=-\\frac{1}{12}t^2cos3t+\\frac{1}{36}tsin3t，$$\n",
    "\n",
    "即为原方程的一个特解.\n",
    "\n",
    "故原方程的通解为$$x=c_1cos3t+c_2sin3t-\\frac{1}{12}t^2cos3t+\\frac{1}{36}tsin3t$$"
   ]
  },
  {
   "cell_type": "markdown",
   "metadata": {},
   "source": [
    "#### 2.求下列初值问题的解\n",
    "$(1)x''+9x=6e^{3t},x(0)=x'(0)=0;$\n",
    "\n",
    "$(2)x^{(4)}+x=2e^t,x(0)=x'(0)=x''(0)=x'''(0)=1;$"
   ]
  },
  {
   "cell_type": "markdown",
   "metadata": {},
   "source": [
    "#### 解：\n",
    "\n",
    "(1)$$\\frac{d^{2}x}{dt^2}+9x=6e^{3t}$$\n",
    "\n",
    "进行拉普拉斯变换，得：\n",
    "\n",
    "$$s^2X(s)-sX'(0)-X''(0)+9X(s)=\\frac{6}{s-3};$$\n",
    "\n",
    "由$x(0)=x'(0)=0$，代入即得：\n",
    "\n",
    "$$\n",
    "\\begin{aligned}\n",
    "X(s)&=\\frac{6}{(s-3)(s^2+9)}\\\\\n",
    "&=\\frac{1}{3(s-3)}-\\frac{1}{3(s^2+9)}-\\frac{1}{(s^2+9)}\n",
    "\\end{aligned}\n",
    "$$\n",
    "\n",
    "对照拉普拉斯变换表得方程的解为:\n",
    "\n",
    "$$x(t)=\\frac{1}{3}(e^{3t}-cos3t-sin3t)$$"
   ]
  },
  {
   "cell_type": "markdown",
   "metadata": {},
   "source": [
    "(2)$$\\frac{d^{4}x}{dt^4}+x=2e^t$$\n",
    "\n",
    "进行拉普拉斯变换，结合$x(0)=x'(0)=x''(0)=x'''(0)=1$，得：\n",
    "\n",
    "$$s^4X(s)-s^3-s^2-s-1+X(s)=2·\\frac{1}{s-1}$$\n",
    "\n",
    "即$$X(s)=\\frac{1}{s-1}$$\n",
    "\n",
    "对照拉普拉斯变换表得方程的解为:\n",
    "\n",
    "$$X(s)=e^t.$$"
   ]
  },
  {
   "cell_type": "markdown",
   "metadata": {},
   "source": [
    "$A^+$"
   ]
  }
 ],
 "metadata": {
  "kernelspec": {
   "display_name": "SageMath 7.3",
   "language": "",
   "name": "sagemath"
  },
  "language_info": {
   "codemirror_mode": {
    "name": "ipython",
    "version": 2
   },
   "file_extension": ".py",
   "mimetype": "text/x-python",
   "name": "python",
   "nbconvert_exporter": "python",
   "pygments_lexer": "ipython2",
   "version": "2.7.10"
  }
 },
 "nbformat": 4,
 "nbformat_minor": 0
}
