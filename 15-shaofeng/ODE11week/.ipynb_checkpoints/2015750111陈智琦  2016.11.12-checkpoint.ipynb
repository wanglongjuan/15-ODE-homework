{
 "cells": [
  {
   "cell_type": "markdown",
   "metadata": {},
   "source": [
    "一、求解下列常系数线性微分方程。"
   ]
  },
  {
   "cell_type": "markdown",
   "metadata": {},
   "source": [
    "（1）$x''+6x'+5x=r^{2t}$\n",
    "\n",
    "解：该方程对应的其次线性微分方程的特征方程为\n",
    "$$\n",
    "\\lambda^2+6\\lambda+5=0\n",
    "$$\n",
    "解得$\\lambda_1=-1$  ,  $\\lambda_2=-5$\n",
    "\n",
    "因此该方程对应的其次线性微分方程的特征方程的通解为\n",
    "$$\n",
    "x=c_1e^{-t}+c_2t^{-5t}\n",
    "$$\n",
    "$c_1$和$c_2$均为任意常数"
   ]
  },
  {
   "cell_type": "markdown",
   "metadata": {},
   "source": [
    "这里$f(t)=e^{2t}$因为$\\lambda=2$不是方程的特征根，因此可设特解形如$x=Ae^{2t}$的特解，带入方程可得\n",
    "$$\n",
    "4Ae^{2t}+12Ae{2t}+5A=e^{2t}\n",
    "$$\n",
    "解得$x={1\\over 21}e^{2t}$\n",
    "\n",
    "于是方程的通解为\n",
    "$$\n",
    "x=c_1e^{-t}+c_2t^{-5t}+{1\\over 21}e^{2t}\n",
    "$$\n",
    "$c_1$和$c_2$均为任意常数"
   ]
  },
  {
   "cell_type": "markdown",
   "metadata": {},
   "source": [
    "（2）$x''+x=sint-cos2t$"
   ]
  },
  {
   "cell_type": "markdown",
   "metadata": {},
   "source": [
    "解：该方程对应的其次线性微分方程的特征方程为\n",
    "$$\n",
    "\\lambda^2+1=0\n",
    "$$\n",
    "解得$\\lambda_1=-i$  ,  $\\lambda_2=i$\n",
    "因此原方程对应的其次线性微分方程的特征方程的通解为\n",
    "$$\n",
    "x=c_1cost+c_2sint\n",
    "$$\n",
    "$c_1$和$c_2$均为任意常数\n"
   ]
  },
  {
   "cell_type": "markdown",
   "metadata": {},
   "source": [
    "对于方程$x''+x=sint$\n",
    "设其一个特解为$x=t(Asint+Bcost)$\n",
    "\n",
    "带入方程可得$A=0$  ,  $B=-{1\\over 2}$\n",
    "\n",
    "方程$x''+x=sint$的特解为$x=-{1\\over 2}tcost$"
   ]
  },
  {
   "cell_type": "markdown",
   "metadata": {},
   "source": [
    "对于方程$x''+x=cos2t$\n",
    "设其一个特解为$x=Asint+Bcost$\n",
    "\n",
    "带入方程可得$A={1 \\over 3}$  ,  $B=0$\n",
    "\n",
    "方程$x''+x=cos2t$的特解为$x={1\\over 3}cos2t$"
   ]
  },
  {
   "cell_type": "markdown",
   "metadata": {},
   "source": [
    "因此原方程的通解为\n",
    "$$\n",
    "x=c_1cost+c_2sint-{1\\over 2}tcost+{1\\over 3}cos2t\n",
    "$$"
   ]
  },
  {
   "cell_type": "markdown",
   "metadata": {},
   "source": [
    "（3）$x''+9x=tsin3t$"
   ]
  },
  {
   "cell_type": "markdown",
   "metadata": {},
   "source": [
    "解：该方程对应的其次线性微分方程的特征方程为\n",
    "$$\n",
    "\\lambda^2+9=0\n",
    "$$\n",
    "解得$\\lambda_1=-3i$  ,  $\\lambda_2=3i$\n",
    "\n",
    "设方程的一个特解为\n",
    "$$\n",
    "x=t[(At+B)cos3t+(Et+F)sin3t]\n",
    "$$\n",
    "带入原方程可得\n",
    "$$\n",
    "A=-{1\\over 12} ,  B=E=0  ,  F={1 \\over 36}\n",
    "$$\n",
    "即原方程的通解为\n",
    "$$\n",
    "x=-{1 \\over 12}t^2cos3t+{1 \\over 36}tsin3t\n",
    "$$"
   ]
  },
  {
   "cell_type": "markdown",
   "metadata": {},
   "source": [
    "解错误：齐次线性方程的解没写"
   ]
  },
  {
   "cell_type": "markdown",
   "metadata": {},
   "source": [
    "二、求下列初值问题的解。"
   ]
  },
  {
   "cell_type": "markdown",
   "metadata": {},
   "source": [
    "（1）$x''+9x=6e^{3t}$  ,  $x(0)=x'(0)=0$"
   ]
  },
  {
   "cell_type": "markdown",
   "metadata": {},
   "source": [
    "解：对方称两边施行Laplace变换\n",
    "$$\n",
    "s^2X(s)-sX(0)-X'(0)+9X(s)={6 \\over s-3}\n",
    "$$\n",
    "解得\n",
    "$$\n",
    "X(s)=6{1 \\over s-3}{1\\over s^2+9}\n",
    "$$\n",
    "$$\n",
    "={1 \\over 3}[{1 \\over s-3}-{s\\over s^2+9}]-{1\\over s^2+9}\n",
    "$$\n",
    "因此原方程的通解为\n",
    "$$\n",
    "X(t)={1 \\over 3}(e^{3t}-cos3t-sin3t)\n",
    "$$"
   ]
  },
  {
   "cell_type": "markdown",
   "metadata": {},
   "source": [
    "（2）$x^{(4)}+x=2e^t  ,  x(0)=x'(0)=x'''(0)=1$"
   ]
  },
  {
   "cell_type": "markdown",
   "metadata": {},
   "source": [
    "解：对方称两边施行Laplace变换\n",
    "$$\n",
    "s^{(4)}-s^3-s^2-s-1+X(s)={2 \\over s-1}\n",
    "$$\n",
    "解得\n",
    "$$\n",
    "X(s)={1 \\over s-1}\n",
    "$$\n",
    "因此原方程的通解为\n",
    "$$\n",
    "X(t)=e^t\n",
    "$$"
   ]
  },
  {
   "cell_type": "markdown",
   "metadata": {},
   "source": [
    "$B$"
   ]
  },
  {
   "cell_type": "code",
   "execution_count": null,
   "metadata": {
    "collapsed": true
   },
   "outputs": [],
   "source": []
  }
 ],
 "metadata": {
  "kernelspec": {
   "display_name": "SageMath 7.3",
   "language": "",
   "name": "sagemath"
  },
  "language_info": {
   "codemirror_mode": {
    "name": "ipython",
    "version": 2
   },
   "file_extension": ".py",
   "mimetype": "text/x-python",
   "name": "python",
   "nbconvert_exporter": "python",
   "pygments_lexer": "ipython2",
   "version": "2.7.10"
  }
 },
 "nbformat": 4,
 "nbformat_minor": 0
}
