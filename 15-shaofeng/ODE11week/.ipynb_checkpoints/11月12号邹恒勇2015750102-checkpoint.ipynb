{
 "cells": [
  {
   "cell_type": "markdown",
   "metadata": {},
   "source": [
    "#  (1) 求解下列常系数线性微分方程. "
   ]
  },
  {
   "cell_type": "markdown",
   "metadata": {},
   "source": [
    "## 1.$x^{\\prime\\prime}+6x^{\\prime}+5x=e^{2t}$"
   ]
  },
  {
   "cell_type": "markdown",
   "metadata": {},
   "source": [
    "### 解\n",
    "\n",
    "寻求其齐次形式方程的形式解$x=t^K$,得到得到确定K的方程\n",
    "$$(K+5)(K+1)=0$$\n",
    "即$K_=-1,K_2=-5$，所以有两个根，则齐次形式方程通解为\n",
    "$$x=c_1e^{-t}+c_2e^{-5t}$$\n",
    "我们设方程特解为$f(t)=e^{2t},\\lambda=2$,又$\\lambda$不是特征根\n",
    "\n",
    "故特解可以写成$$\\hat{x}=Ae^{2t}$$\n",
    "代入原式容易解出$A=\\frac{1}{21}$,故特解为$\\hat{x}=\\frac{1}{21}e^{2t}$\n",
    "\n",
    "微分方程的解为$$x=c_1e^{-t}+c_2e^{-5t}+\\frac{1}{21}e^{2t}$$"
   ]
  },
  {
   "cell_type": "markdown",
   "metadata": {},
   "source": [
    "##  2.$x^{\\prime\\prime}+x=sin t - cos 2t $"
   ]
  },
  {
   "cell_type": "markdown",
   "metadata": {},
   "source": [
    "### 解\n",
    "\n",
    "寻求其齐次形式方程的形式解$x=t^K$,得到得到确定K的方程\n",
    "$$K^2+1=0$$\n",
    "即$K_1=i,K_2=-i$,所以有两个根，则齐次方程通解为\n",
    "$$x=c_1cost+c_2sint$$\n",
    "我们先分析方程$x^{\\prime\\prime}+x=\\sin t$\n",
    "设特解为$\\hat{x}=t(Asin t+Bsin t)$,代入方程\n",
    "\n",
    "解出$A=0,B=-\\frac{1}{2}$\n",
    "\n",
    "再看方程$x^{\\prime\\prime}+x=-cos2t$\n",
    "设特解为$\\hat{x}=t(A'sin2t+B'cos2t)$,代入方程\n",
    "\n",
    "解出$A'=0,B'=\\frac{1}{3}$\n",
    "\n",
    "微分方程的解为$x=c_1cost+c_2sint-\\frac{1}{2}tcost+\\frac{1}{3}cos2t$"
   ]
  },
  {
   "cell_type": "markdown",
   "metadata": {},
   "source": [
    "## 3.$x^{\\prime\\prime}+9x=tsin3t$"
   ]
  },
  {
   "cell_type": "markdown",
   "metadata": {},
   "source": [
    "### 解\n",
    "\n",
    "寻求其齐次形式方程的形式解$x=t^K$,得到得到确定K的方程\n",
    "$$K^2+9=0$$\n",
    "    即$K_1=3i,K_2=-3i$,所以有两个根，则齐次方程的通解为\n",
    "    $$x=c_1cos3t+c_2sin3t$$\n",
    "先设特解方程为$f(t)=t\\sin 3t$\n",
    "\n",
    "设出特解为$\\hat{x}=t[(A+Bt）sin 3t+(C+Dt)cos 3t]$,代入原方程\n",
    "\n",
    "解出$A=0,B=-\\frac{1}{12},C=\\frac{1}{36},D=0$\n",
    "特解为$$\\hat{x}=t(-\\frac{1}{12}tsin 3t+\\frac{1}{36}cos 3t)$$\n",
    "\n",
    "微分方程为$c_1cos3t+c_2sin3t+t(-\\frac{1}{12}tsin 3t+\\frac{1}{36}cos 3t)$"
   ]
  },
  {
   "cell_type": "markdown",
   "metadata": {},
   "source": [
    "#  2.求下组初值问题的解.\n"
   ]
  },
  {
   "cell_type": "markdown",
   "metadata": {},
   "source": [
    "## (1) $x''+9x=6e^{3t}$ ,$x(0)=x'(0）=0$"
   ]
  },
  {
   "cell_type": "markdown",
   "metadata": {},
   "source": [
    "### 解\n",
    "\n",
    "对方程两端施行拉普拉斯变换，得到方程的解的像函数所满足的方程\n",
    "$$s^2X(s)+9X(s)=\\frac{6}{s-3}$$\n",
    "所以$X(s)=\\frac{6}{(s-3)(s^2+9)}$\n",
    "$=>X(s)=\\frac{1}{3}*\\frac{1}{s-3}-\\frac{1}{3}*\\frac{1}{s^2+9}-\\frac{1}{3}*\\frac{s}{s^2+9}$\n",
    "\n",
    "查拉普拉斯变换表可得\n",
    "$$X(s)=\\frac{1}{3}(e^{3s}-sin 3s -cos 3s)$$"
   ]
  },
  {
   "cell_type": "markdown",
   "metadata": {},
   "source": [
    "## (2) $x^{(4)}+x=2e^t$, $ x(0)=x'(0)=x''(0)=x'''(0)=1$"
   ]
  },
  {
   "cell_type": "markdown",
   "metadata": {},
   "source": [
    "### 解\n",
    "\n",
    "对方程两端施行拉普拉斯变换，得到方程的解的像函数所满足的方程\n",
    "$$s^4X(s)-(x_0s^3+x_0's^2+x_0''s+x_0)+X(s)=\\frac{2}{s-1}$$\n",
    "又$x(0)=x'(0)=x''(0)=x'''(0)=1$\n",
    "\n",
    "所以$X(s)=\\frac{2+s^4-s^3+s^3-s^2+s^2-s+s-1}{(s-1)(s^4+1)}$\n",
    "\n",
    "$=>X(s)=\\frac{1}{s-1}$\n",
    "\n",
    "查拉普拉斯变换表得\n",
    "$$X(s)=e^t$$"
   ]
  },
  {
   "cell_type": "markdown",
   "metadata": {
    "collapsed": true
   },
   "source": [
    "$A$"
   ]
  }
 ],
 "metadata": {
  "kernelspec": {
   "display_name": "SageMath 7.3",
   "language": "",
   "name": "sagemath"
  },
  "language_info": {
   "codemirror_mode": {
    "name": "ipython",
    "version": 2
   },
   "file_extension": ".py",
   "mimetype": "text/x-python",
   "name": "python",
   "nbconvert_exporter": "python",
   "pygments_lexer": "ipython2",
   "version": "2.7.10"
  }
 },
 "nbformat": 4,
 "nbformat_minor": 0
}
