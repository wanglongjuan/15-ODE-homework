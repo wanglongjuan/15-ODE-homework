{
 "cells": [
  {
   "cell_type": "markdown",
   "metadata": {},
   "source": [
    "# 《常系数线性微分方程的解法》"
   ]
  },
  {
   "cell_type": "markdown",
   "metadata": {},
   "source": [
    "## 一.求解下列常系数线性微分方程："
   ]
  },
  {
   "cell_type": "markdown",
   "metadata": {},
   "source": [
    "### (1):$x''+6x'+5x=e^{2t}$"
   ]
  },
  {
   "cell_type": "markdown",
   "metadata": {},
   "source": [
    "**解**：先考察齐次线性微分方程$x''+6x'+5x=0$,其特征方程为$\\lambda^{2}+6\\lambda+5=(\\lambda+1)(\\lambda+5)=0$,其特征根为$-1$,$-5$$\\implies$基本解组为 $\\{e^{-t},e^{-5t}\\}$.\n",
    "\n",
    "再考察原方程，由比较系数法可知有特解形为$\\tilde {x}=Be^{2t}$,代入原方程，得$B=\\frac{1}{21}$$\\implies \\tilde {x}=\\frac{1}{21}e^{2t}$.\n",
    "\n",
    "$\\implies$通解为$x=c_1e^{-t}+c_2e^{-5t}+\\frac{1}{21}e^{2t}$.($c_1,c_2$为任意常数)。"
   ]
  },
  {
   "cell_type": "markdown",
   "metadata": {},
   "source": [
    "### (2):$x''+x=\\sin t-\\cos 2t$"
   ]
  },
  {
   "cell_type": "markdown",
   "metadata": {},
   "source": [
    "**解**:先考察齐次线性微分方程$x''+x=0$,其特征方程为$\\lambda^2+1=(\\lambda+i)(\\lambda-i)=0$,其特征根为$\\pm i$$\\implies$基本解组为$\\{\\cos t,\\sin t\\}$\n",
    "\n",
    "考察方程$x''+x=\\sin t$与$x''+x=-\\cos 2t$，已知前者有形为$t(A\\cos t+B\\sin t)$的特解，求得为$-\\frac{1}{2}t\\cos t$，后者有形为$A\\cos 2t+B\\cos 2t$的特解，求得为$\\frac{1}{3}\\cos 2t$.于是根据线性微分方程的解的叠加原理，可知$\\tilde x=-\\frac{1}{2}t\\cos t+\\frac{1}{3}\\cos 2t$.\n",
    "\n",
    "综上：$\\implies$通解为$x=c_1\\cos t+c_2\\sin t-\\frac{1}{2}t\\cos t+\\frac{1}{3}\\cos 2t$($c_1,c_2$为任意常数)。"
   ]
  },
  {
   "cell_type": "markdown",
   "metadata": {},
   "source": [
    "### (3):$x''+9x=t\\sin 3t$"
   ]
  },
  {
   "cell_type": "markdown",
   "metadata": {},
   "source": [
    "**解**:先考察齐次线性微分方程$x''+9x=0$，其特征方程为$\\lambda^2+9=(\\lambda+3i)(\\lambda-3i)=0$,其特征根为$\\pm3i$$\\implies$基本解组为$\\{\\cos 3t,\\sin 3t\\}$\n",
    "\n",
    "考察原方程，可知已有形如$t((At+C)\\cos 3t+(Bt+D)\\sin 3t)$的特解，求得为$\\tilde x=-\\frac{1}{12}t^2\\cos 3t+\\frac{1}{36}t\\sin 3t$\n",
    "\n",
    "综上:$\\implies$通解为$x=c_1\\cos 3t+c_2\\sin 3t-\\frac{1}{12}t^2\\cos 3t+\\frac{1}{36}t\\sin 3t$($c_1,c_2$为任意常数)。"
   ]
  },
  {
   "cell_type": "markdown",
   "metadata": {},
   "source": [
    "## 二.求下组初值问题的解："
   ]
  },
  {
   "cell_type": "markdown",
   "metadata": {},
   "source": [
    "### (1):$x''+9x=6e^{3t},x(0)=x'(0)=0$;"
   ]
  },
  {
   "cell_type": "markdown",
   "metadata": {},
   "source": [
    "**解**:对方程两端施行laplace变换，得到方程的解的像函数应满足方程$(s^{2}+9)X(s)=\\frac{6}{s-3}$\n",
    "\n",
    "$\\implies X(s)=\\frac{6}{(s^{2}+9)(s-3)}=\\frac{1}{3}[\\frac{1}{s-3}-\\frac{s}{s^2+9}]-\\frac{1}{s^2+9}$,施行laplace逆变换，得通解$x(t)=\\frac{1}{3}e^{3t}-\\frac{1}{3}\\cos 3t-\\frac{1}{3}\\sin 3t$."
   ]
  },
  {
   "cell_type": "markdown",
   "metadata": {},
   "source": [
    "### (2):$x^{(4)}+x=2e^{t},x(0)=x'(0)=x''(0)=x'''(0)=1$;"
   ]
  },
  {
   "cell_type": "markdown",
   "metadata": {},
   "source": [
    "**解**：对方程两端施行laplace变换，得到方程的解的像函数应满足方程$(s^{4}+1)X(s)=\\frac{2}{s-1}+s^3+s^2+s+1$\n",
    "\n",
    "$\\implies X(s)=\\frac{1}{s-1}$,施行laplace逆变换，得通解$x(t)=e^{t}$."
   ]
  },
  {
   "cell_type": "markdown",
   "metadata": {},
   "source": [
    "$B^+$"
   ]
  }
 ],
 "metadata": {
  "kernelspec": {
   "display_name": "SageMath 7.3",
   "language": "",
   "name": "sagemath"
  },
  "language_info": {
   "codemirror_mode": {
    "name": "ipython",
    "version": 2
   },
   "file_extension": ".py",
   "mimetype": "text/x-python",
   "name": "python",
   "nbconvert_exporter": "python",
   "pygments_lexer": "ipython2",
   "version": "2.7.10"
  }
 },
 "nbformat": 4,
 "nbformat_minor": 0
}
