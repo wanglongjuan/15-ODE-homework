{
 "cells": [
  {
   "cell_type": "markdown",
   "metadata": {},
   "source": [
    "# The homework of ODE"
   ]
  },
  {
   "cell_type": "markdown",
   "metadata": {},
   "source": [
    "## 1. Solve the linear differential equation with constant coefficients as following"
   ]
  },
  {
   "cell_type": "markdown",
   "metadata": {},
   "source": [
    "### (1) $x'' + 6x' + 5x = e^{2t}$"
   ]
  },
  {
   "cell_type": "markdown",
   "metadata": {},
   "source": [
    "solve the equation $\\quad$ $\\lambda ^2 + 6\\lambda + 5 = 0$ $\\quad$ we get $\\quad$ $\\lambda = -1$ $\\quad$ or $\\quad$ $\\lambda = -5$ \n",
    "\n",
    "let $\\quad$ $\\tilde{x} = ce^{2t}$ $\\quad$ we get $\\tilde{x} = {1 \\over 21}e^{2t}$\n",
    "\n",
    "so, the general solution is :\n",
    "$$\n",
    "x = c_1e^{-t} + c_2e^{-5t} + {1 \\over 21}e^{2t} \n",
    "$$"
   ]
  },
  {
   "cell_type": "markdown",
   "metadata": {},
   "source": [
    "### (2) $x'' + x = \\sin t - \\cos 2t$"
   ]
  },
  {
   "cell_type": "markdown",
   "metadata": {},
   "source": [
    "solve the equation $\\quad$ $\\lambda ^2 + 1 = 0$ $\\quad$ we get $\\quad$ $\\lambda = \\pm i$ \n",
    "\n",
    "let $\\quad$ $\\tilde{x} = t(c_1\\sin t + c_2\\cos t)$ $\\quad$ we get $\\quad$ $\\tilde{x} = -{1 \\over 2}t\\cos t$\n",
    "\n",
    "let $\\quad$ $\\tilde{x} = c_1\\sin 2t + c_2\\cos 2t$ $\\quad$ we get $\\quad$ $\\tilde{x} = -\\cos 2t$\n",
    "\n",
    "so, the general solution is :\n",
    "$$\n",
    "x = c_1\\cos t + c_2\\sin t - {1 \\over 2}t\\cos t - \\cos 2t\n",
    "$$"
   ]
  },
  {
   "cell_type": "markdown",
   "metadata": {},
   "source": [
    "通解错误"
   ]
  },
  {
   "cell_type": "markdown",
   "metadata": {},
   "source": [
    "### (3) $x'' + 9x = t\\sin 3t$"
   ]
  },
  {
   "cell_type": "markdown",
   "metadata": {},
   "source": [
    "solve the equation $\\quad$ $\\lambda ^2 + 9 = 0$ $\\quad$ we get $\\quad$ $\\lambda = \\pm 3i$ \n",
    "\n",
    "let $\\quad$ $\\tilde{x} = t[(a_1t + a_0)\\sin 3t + (b_1t + b_0)\\cos 3t]$ $\\quad$ we get $\\quad$ $\\tilde{x} = -{1 \\over 12}t^2\\cos 3t + {1 \\over 36}t\\sin 3t$\n",
    "\n",
    "\n",
    "so, the general solution is :\n",
    "$$\n",
    "x = c_1\\cos 3t + c_2\\sin 3t  - {1 \\over 12}t^2\\cos 3t + {1 \\over 36}t\\sin 3t\n",
    "$$"
   ]
  },
  {
   "cell_type": "markdown",
   "metadata": {},
   "source": [
    "## Solve the following initial value problem "
   ]
  },
  {
   "cell_type": "markdown",
   "metadata": {},
   "source": [
    "### $x'' + 9x = 6e^{3t}$, $\\quad$ $x(0) = x'(0) = 0$"
   ]
  },
  {
   "cell_type": "markdown",
   "metadata": {},
   "source": [
    "solve the equation $\\quad$ $\\lambda ^2 + 9 = 0$ $\\quad$ we get $\\quad$ $\\lambda = \\pm 3i$ \n",
    "\n",
    "let $\\quad$ $\\tilde{x} = ce^{3t}$ $\\quad$ we get $\\quad$ $\\tilde{x} = {1 \\over 3}e^{3t}$\n",
    "\n",
    "so, the general solution is :\n",
    "$$\n",
    "x = c_1\\cos 3t + c_2\\sin 3t + {1 \\over 3}e^{3t}\n",
    "$$\n",
    "\n",
    "we can easy get : \n",
    "$\\quad$ $c_1 = -{1 \\over 3}$ $\\quad$ $c_2 = -{1 \\over 3}$\n",
    "\n",
    "$$\n",
    "x = -{1 \\over 3}\\cos 3t - {1 \\over 3}\\sin 3t + {1 \\over 3}e^{3t}\n",
    "$$"
   ]
  },
  {
   "cell_type": "markdown",
   "metadata": {
    "collapsed": true
   },
   "source": [
    "少题"
   ]
  },
  {
   "cell_type": "markdown",
   "metadata": {},
   "source": [
    "$B$"
   ]
  }
 ],
 "metadata": {
  "kernelspec": {
   "display_name": "SageMath 7.3",
   "language": "",
   "name": "sagemath"
  },
  "language_info": {
   "codemirror_mode": {
    "name": "ipython",
    "version": 2
   },
   "file_extension": ".py",
   "mimetype": "text/x-python",
   "name": "python",
   "nbconvert_exporter": "python",
   "pygments_lexer": "ipython2",
   "version": "2.7.10"
  }
 },
 "nbformat": 4,
 "nbformat_minor": 0
}
