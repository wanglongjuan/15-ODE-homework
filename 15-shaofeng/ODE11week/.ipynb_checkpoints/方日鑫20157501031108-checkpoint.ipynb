{
 "cells": [
  {
   "cell_type": "markdown",
   "metadata": {},
   "source": [
    "# 1.求解下列常系数线性微分方程"
   ]
  },
  {
   "cell_type": "markdown",
   "metadata": {},
   "source": [
    "(1)$$x''+6x'+5x=e^{2t}$$"
   ]
  },
  {
   "cell_type": "markdown",
   "metadata": {},
   "source": [
    "解：\n",
    "对应的齐次微分方程为$$x''+6x'+5x=0\\\\$$\n",
    "其特征根为$\\lambda_1=-5,\\lambda_2=-1$\n",
    "故原方程有特解形如$x=Ae^{2t}$\n",
    "\n",
    "代入原方程可得$A=\\frac{1}{21}$\n",
    "\n",
    "因此方程通解为$$x=c_1e^{-5t}+c_2e^{-t}\\frac{1}{21}e^{2t}$$"
   ]
  },
  {
   "cell_type": "markdown",
   "metadata": {},
   "source": [
    "(2)$$x''+x=\\sin t-\\cos 2t$$"
   ]
  },
  {
   "cell_type": "markdown",
   "metadata": {},
   "source": [
    "解：\n",
    "我们求$$x''+x=e^{t}\\quad(1)\\\\以及x''+x=-\\cos 2t \\quad(2)$$的特解\n",
    "\n",
    "特征方程为$$\\lambda ^2+1=0$$特征根为$$\\lambda_{1,2}=\\pm i\\\\$$\n",
    "对于$(1)$式我们来求形如$$x=t(A\\cos t+B\\sin t)的解\\\\$$\n",
    "将其代入可得\n",
    "$$2B\\cos t-2A\\sin t=\\sin t$$则得到特解为$x=-\\frac{1}{2}t\\cos t\\\\$\n",
    "同样地得到$(2)式的一个特解为x=\\frac{1}{3}\\cos 2t$\n",
    "因此原方程的通解为$$x=c_1\\cos t+c_2\\sin t+\\frac{1}{3}\\cos 2t-\\frac{1}{2}t\\cos t$$"
   ]
  },
  {
   "cell_type": "code",
   "execution_count": 1,
   "metadata": {
    "collapsed": false
   },
   "outputs": [
    {
     "data": {
      "text/html": [
       "<html><script type=\"math/tex; mode=display\">\\newcommand{\\Bold}[1]{\\mathbf{#1}}-3 \\, a \\cos\\left(2 \\, t\\right) - 3 \\, b \\sin\\left(2 \\, t\\right)</script></html>"
      ],
      "text/plain": [
       "-3*a*cos(2*t) - 3*b*sin(2*t)"
      ]
     },
     "metadata": {},
     "output_type": "display_data"
    }
   ],
   "source": [
    "var('t a b')\n",
    "x1=a*cos(2*t)+b*sin(2*t)\n",
    "j=diff(x1,t,2)+x1\n",
    "show(j)"
   ]
  },
  {
   "cell_type": "markdown",
   "metadata": {},
   "source": [
    "(3)$$x''+9x=t\\sin 3t$$"
   ]
  },
  {
   "cell_type": "markdown",
   "metadata": {},
   "source": [
    "解：\n",
    "特征根为$\\lambda=\\pm 3i$\n",
    "先求方程$$x''+9x=te^{3it}$$\n",
    "可设特解为$x=t(At+B)e^{3it}\\\\$\n",
    "代入化简可得\n",
    "$$12A it+(2A+6Bi)=t$$\n",
    "所以特解为$$\n",
    "\\begin{align}\n",
    "x  =(-\\frac{i}{12}t^2+\\frac{1}{36}t)e^{3it} & =(-\\frac{i}{12}t^2+\\frac{1}{36}t)\\cos 3t+(-\\frac{i}{12}t^2+\\frac{1}{36}t)i\\sin 3t\\\\\n",
    "&=(\\frac{1}{36}t\\cos 3t+\\frac{1}{12}t^2\\sin 3t)+(-\\frac{1}{12}t^2 \\cos 3t+\\frac{1}{36}t \\sin 3t)i\\\\\n",
    "\\end{align}\n",
    "$$\n",
    "分出虚部得特解为$$\n",
    "x=-\\frac{1}{12}t^2 \\cos 3t+\\frac{1}{36}t \\sin 3t$$\n",
    "因此通解为$$x=c_1\\cos 3t +c_2\\sin 3t-\\frac{1}{12}t^2 \\cos 3t+\\frac{1}{36}t \\sin 3t$$"
   ]
  },
  {
   "cell_type": "code",
   "execution_count": 34,
   "metadata": {
    "collapsed": false
   },
   "outputs": [
    {
     "data": {
      "text/html": [
       "<html><script type=\"math/tex; mode=display\">\\newcommand{\\Bold}[1]{\\mathbf{#1}}9 \\, {\\left(a t^{2} + b t\\right)} i^{2} e^{\\left(3 \\, i t\\right)} + 6 \\, {\\left(2 \\, a t + b\\right)} i e^{\\left(3 \\, i t\\right)} + 9 \\, {\\left(a t^{2} + b t\\right)} e^{\\left(3 \\, i t\\right)} + 2 \\, a e^{\\left(3 \\, i t\\right)}</script></html>"
      ],
      "text/plain": [
       "9*(a*t^2 + b*t)*i^2*e^(3*i*t) + 6*(2*a*t + b)*i*e^(3*i*t) + 9*(a*t^2 + b*t)*e^(3*i*t) + 2*a*e^(3*i*t)"
      ]
     },
     "metadata": {},
     "output_type": "display_data"
    }
   ],
   "source": [
    "var('t a b t')\n",
    "x=(a*t*t+b*t)*exp(3*i*t)\n",
    "r=diff(x,t,2)+9*x\n",
    "show(r)"
   ]
  },
  {
   "cell_type": "markdown",
   "metadata": {},
   "source": [
    "# 2.求下组初值问题的解："
   ]
  },
  {
   "cell_type": "markdown",
   "metadata": {},
   "source": [
    "(1)$$x''+9x=6e^{3t},x(0)=x'(0)=0;$$"
   ]
  },
  {
   "cell_type": "markdown",
   "metadata": {},
   "source": [
    "解：\n",
    "作Laplace变换有\n",
    "$$(s^2+9)X(s)=\\frac{6}{s-3}$$\n",
    "故$$\\begin{align}\n",
    "X(s) &=\\frac{6}{(s-3)(s^2+9)}\\\\\n",
    "&=\\frac{1}{3}(\\frac{1}{s-3}-\\frac{s}{s^2+3^2}-\\frac{3}{s^2 +3^2})\\\\\n",
    "\\end{align}\n",
    "$$\n",
    "所以\n",
    "$$x(t)=\\frac{1}{3}(e^{3t}-\\sin 3t-\\cos 3t)$$"
   ]
  },
  {
   "cell_type": "markdown",
   "metadata": {},
   "source": [
    "(2)$$x^{(4)}+x=2e^t,x(0)=x'(0)=x''(0)=x'''(0)=1$$"
   ]
  },
  {
   "cell_type": "markdown",
   "metadata": {},
   "source": [
    "作Laplace变换有\n",
    "$$(s^4+1)X(s)=\\frac{2}{s-1}+s^3+s^2+s+1$$\n",
    "故$$\n",
    "X(s)=\\frac{1}{s-1}\\\\\n",
    "$$\n",
    "所以$$x(t)=e^t$$"
   ]
  },
  {
   "cell_type": "markdown",
   "metadata": {},
   "source": [
    "$A^+$"
   ]
  }
 ],
 "metadata": {
  "kernelspec": {
   "display_name": "SageMath 7.3",
   "language": "",
   "name": "sagemath"
  },
  "language_info": {
   "codemirror_mode": {
    "name": "ipython",
    "version": 2
   },
   "file_extension": ".py",
   "mimetype": "text/x-python",
   "name": "python",
   "nbconvert_exporter": "python",
   "pygments_lexer": "ipython2",
   "version": "2.7.10"
  }
 },
 "nbformat": 4,
 "nbformat_minor": 0
}
