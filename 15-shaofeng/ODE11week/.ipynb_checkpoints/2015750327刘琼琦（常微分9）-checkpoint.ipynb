{
 "cells": [
  {
   "cell_type": "markdown",
   "metadata": {},
   "source": [
    "# 姓名：刘琼琦\n",
    "# 学号：2015750327"
   ]
  },
  {
   "cell_type": "markdown",
   "metadata": {},
   "source": [
    "# $$作业一（11月7日）$$"
   ]
  },
  {
   "cell_type": "markdown",
   "metadata": {},
   "source": [
    "## 习题4.2"
   ]
  },
  {
   "cell_type": "markdown",
   "metadata": {},
   "source": [
    "## 2.求解下列常系数线性微分方程："
   ]
  },
  {
   "cell_type": "markdown",
   "metadata": {},
   "source": [
    "## $（12）x^{\\prime\\prime}+6x^\\prime+5x=e^{2t}$"
   ]
  },
  {
   "cell_type": "markdown",
   "metadata": {},
   "source": [
    "**解**\n",
    "\n",
    "依题意特征方程为$$\\lambda^2+6\\lambda+5=0$$\n",
    "\n",
    "解得其根为$\\lambda_1=-1,\\lambda_2=-5$\n",
    "\n",
    "所以对应的齐次线性微分方程的通解为$$x=c_1e^{-t}+c_2e^{-5t}$$其中$c_1,c_2$为任意常数\n",
    "\n",
    "再求非齐次线性微分方程的一个特解\n",
    "\n",
    "这里$f(t)=e^{2t}，\\lambda=2,$\n",
    "\n",
    "又因为$\\lambda=2$不是特征根，所以$k=0$\n",
    "\n",
    "所以可取特解形如$$\\tilde x=ce^{2t}$$\n",
    "\n",
    "将它代入原方程得到$4c+12c+5c=1$\n",
    "\n",
    "所以$c=\\frac{1}{21}$\n",
    "\n",
    "所以$$\\tilde x=\\frac{1}{21}e^{2t}$$\n",
    "\n",
    "因此原方程的通解为$$x=c_1e^{-t}+c_2e^{-5t}+\\frac{1}{21}e^{2t}$$其中$c_1,c_2$为任意常数"
   ]
  },
  {
   "cell_type": "markdown",
   "metadata": {},
   "source": [
    "## $(14)x^{\\prime\\prime}+x=\\sin t-\\cos 2t$"
   ]
  },
  {
   "cell_type": "markdown",
   "metadata": {
    "collapsed": true
   },
   "source": [
    "**解**\n",
    "\n",
    "依题意特征方程为$$\\lambda+1=0$$\n",
    "\n",
    "解得其根为$\\lambda_{1,2}=±i$\n",
    "\n",
    "所以对应的齐次线性微分方程的通解为$$x=c_1\\cos t+c_2\\sin t$$其中$c_1,c_2$为任意常数\n",
    "\n",
    "再求非齐次线性微分方程的一个特解\n",
    "\n",
    "这里$f(t)=\\sin t-\\cos 2t$\n",
    "\n",
    "先来讨论$f_1(t)=\\sin t$,此时$\\lambda=-i$\n",
    "\n",
    "又因为$\\lambda=-i$是特征根的单根，所以$k=1$\n",
    "\n",
    "所以可取特解形如$$\\tilde x_1=t(a\\cos t+b\\sin t)$$\n",
    "\n",
    "将它代入方程$x^{\\prime\\prime}+x=\\sin t$得到$$-2a\\sin t+2b\\cos t=\\sin t$$\n",
    "\n",
    "所以$a=-\\frac{1}{2},b=0$\n",
    "\n",
    "所以$$\\tilde x_1=-\\frac{1}{2}t\\cos t$$\n",
    "\n",
    "再来讨论$f_2(t)=-\\cos 2t$,此时$\\lambda=2i$\n",
    "\n",
    "又因为$\\lambda=2i$不是特征根，所以$k=0$\n",
    "\n",
    "所以可取特解形如$$\\tilde x_2=c\\cos 2t+d\\sin 2t$$\n",
    "\n",
    "将它代入方程$x^{\\prime\\prime}+x=-\\cos 2t$得到$$-3c\\cos 2t-3d\\sin 2t=-\\cos 2t$$\n",
    "\n",
    "所以$c=\\frac{1}{3},d=0$\n",
    "\n",
    "所以$$\\tilde x_2=\\frac{1}{3}\\cos 2t$$\n",
    "\n",
    "因此原方程的通解为$$x=c_1\\cos t+c_2\\sin t-\\frac{1}{2}t\\cos t+\\frac{1}{3}\\cos 2t$$其中$c_1,c_2$为任意常数\n"
   ]
  },
  {
   "cell_type": "markdown",
   "metadata": {},
   "source": [
    "## $(16)x^{\\prime\\prime}+9x=t\\sin 3t$"
   ]
  },
  {
   "cell_type": "markdown",
   "metadata": {
    "collapsed": true
   },
   "source": [
    "**解**\n",
    "\n",
    "依题意特征方程为$$\\lambda^2+9=0$$\n",
    "\n",
    "解得其根为$\\lambda_{1,2}=±3i$\n",
    "\n",
    "所以对应的齐次线性微分方程的通解为$$x=c_1\\cos 3t+c_2\\sin 3t$$其中$c_1,c_2$为任意常数\n",
    "\n",
    "再求非齐次线性微分方程的一个特解\n",
    "\n",
    "这里$f(t)=t\\sin 3t，\\lambda=-3i,m=1$\n",
    "\n",
    "又因为$\\lambda=-3i$是特征方程的单根，所以$k=1$\n",
    "\n",
    "所以可取特解形如$$\\tilde x=t[(a+bt)\\cos 3t+(c+dt)\\sin 3t]$$\n",
    "\n",
    "将它代入原方程得到$$-12bt\\sin 3t+12dt\\cos 3t+(2d-6a)\\sin 3t+(2b+6c)\\cos 3t=t\\sin 3t$$\n",
    "\n",
    "所以\n",
    "$$\n",
    "\\begin{cases}\n",
    "-12b=1\\\\\n",
    "12d=0\\\\\n",
    "2d-6a=0\\\\\n",
    "2b+6c=0\\\\\n",
    "\\end{cases}\n",
    "$$\n",
    "所以$a=d=0,b=-\\frac{1}{12},c=\\frac{1}{36}$\n",
    "\n",
    "所以$$\\tilde x=-\\frac{1}{12}t^2\\cos 3t+\\frac{1}{36}t\\sin 3t$$\n",
    "\n",
    "因此原方程的通解为$$x=c_1\\cos 3t+c_2\\sin 3t-\\frac{1}{12}t^2\\cos 3t+\\frac{1}{36}t\\sin 3t$$其中$c_1,c_2$为任意常数\n"
   ]
  },
  {
   "cell_type": "markdown",
   "metadata": {},
   "source": [
    "# $$作业二（11月9日）$$"
   ]
  },
  {
   "cell_type": "markdown",
   "metadata": {
    "collapsed": true
   },
   "source": [
    "## 4.求下组初值问题的解 "
   ]
  },
  {
   "cell_type": "markdown",
   "metadata": {},
   "source": [
    "## $（1）x^{\\prime\\prime}+9x=6e^{3t},x(0)=x^\\prime(0)=0$"
   ]
  },
  {
   "cell_type": "markdown",
   "metadata": {},
   "source": [
    "**解**\n",
    "\n",
    "对方程两边施行拉普拉斯变换,得到方程的解的像函数所应满足的方程$$s^2X(s)-sx^\\prime(0)-x(0)+9X(s)=\\frac{6}{s-3}$$\n",
    "\n",
    "又因为$x(0)=x^\\prime(0)=0$,得\n",
    "$$\n",
    "\\begin{aligned}\n",
    "X(s)&=\\frac{6}{(s-3)(s^2+9)}\\\\&=\\frac{1}{3}(\\frac{1}{s-3}-\\frac{s+3}{s^2+9})\\\\&=\\frac{1}{3}\\frac{1}{s-3}-\\frac{1}{3}\\frac{s}{s^2+9}-\\frac{1}{3}\\frac{3}{s^2+9}\n",
    "\\end{aligned}\n",
    "$$\n",
    "\n",
    "直接查拉普拉斯变换表，可知$\\frac{1}{s-3}$,$\\frac{s}{s^2+9}$,$\\frac{3}{s^2+9}$的原函数分别为$e^{3t}$,$\\cos 3t$和$\\sin 3t$\n",
    "\n",
    "所以，利用线性性质，就得到$X(s)$的原函数为$$x(t)=\\frac{1}{3}(e^{3t}-\\cos 3t-\\sin 3t)$$\n",
    "此即为所要求的解"
   ]
  },
  {
   "cell_type": "markdown",
   "metadata": {},
   "source": [
    "## $(2)x^{(4)}+x=2e^t,x(0)=x^\\prime(0)=x^{\\prime\\prime}(0)=x^{\\prime\\prime\\prime}(0)=1$"
   ]
  },
  {
   "cell_type": "markdown",
   "metadata": {},
   "source": [
    "**解**\n",
    "\n",
    "对方程两边施行拉普拉斯变换，得到$$s^4X(s)-s^3x(0)-s^2x^\\prime(0)-sx^{\\prime\\prime\\prime}(0)-x^{\\prime\\prime\\prime\\prime}（0）+X(s)=\\frac{2}{s-1}$$\n",
    "\n",
    "因为$x(0)=x^\\prime(0)=x^{\\prime\\prime}(0)=x^{\\prime\\prime\\prime}(0)=1$,所以\n",
    "$$\n",
    "\\begin{aligned}\n",
    "s^4X(s)+X(s)-(s^3+s^2+s+1)&=\\frac{2}{s-1}\\\\(s^4+1)X(s)-(s^2+1)(s+1)&=\\frac{2}{s-1}\\\\X(s)&=\\frac{\\frac{2}{s-1}+(s^2+1)(s+1)}{s^4+1}\\\\X(s)&=\\frac{\\frac{2+(s^2+1)(s^2-1)}{s-1}}{s^4+1}\\\\X(s)&=\\frac{\\frac{s^4+1}{s-1}}{s^4+1}\\\\X(s)&=\\frac{1}{s-1}\n",
    "\\end{aligned}\n",
    "$$\n",
    "\n",
    "查拉普拉斯变换表可得$$x(t)=e^t$$\n",
    "这就是所要求的解"
   ]
  },
  {
   "cell_type": "markdown",
   "metadata": {},
   "source": [
    "$A^+$"
   ]
  }
 ],
 "metadata": {
  "kernelspec": {
   "display_name": "SageMath 7.3",
   "language": "",
   "name": "sagemath"
  },
  "language_info": {
   "codemirror_mode": {
    "name": "ipython",
    "version": 2
   },
   "file_extension": ".py",
   "mimetype": "text/x-python",
   "name": "python",
   "nbconvert_exporter": "python",
   "pygments_lexer": "ipython2",
   "version": "2.7.10"
  }
 },
 "nbformat": 4,
 "nbformat_minor": 0
}
