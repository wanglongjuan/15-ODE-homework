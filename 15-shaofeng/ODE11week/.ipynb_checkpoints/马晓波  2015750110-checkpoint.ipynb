{
 "cells": [
  {
   "cell_type": "markdown",
   "metadata": {},
   "source": [
    "# 11月7日"
   ]
  },
  {
   "cell_type": "markdown",
   "metadata": {
    "collapsed": true
   },
   "source": [
    "**求下列常系数线性微分方程**"
   ]
  },
  {
   "cell_type": "markdown",
   "metadata": {},
   "source": [
    "** $(12)\\quad x^{\\prime\\prime}+6x^\\prime+5x=e^{2t}$ **"
   ]
  },
  {
   "cell_type": "markdown",
   "metadata": {},
   "source": [
    "**解：**\n",
    "\n",
    "由题得特征方程为$$\\lambda^2+6\\lambda+5=0$$\n",
    "\n",
    "解得$$\\lambda=-1,-5$$\n",
    "\n",
    "所以齐次线性微分方程的通解为$$x=c_1e^{-t}+c_2e^{-5t}$$\n",
    "\n",
    "因为 $2$ 不是特征根，所以可设原方程的一个特解为$$\\tilde x=Ae^{2t}$$\n",
    "\n",
    "代入原方程得$$21A=1$$\n",
    "\n",
    "所以$$A=\\frac{1}{21}$$\n",
    "\n",
    "因此通解为$$x=c_1e^{-t}+c_2e^{-5t}+\\frac{1}{21}e^{2t}$$"
   ]
  },
  {
   "cell_type": "markdown",
   "metadata": {},
   "source": [
    "** $(14)\\quad x^{\\prime\\prime}+x=sint-cos2t$ **"
   ]
  },
  {
   "cell_type": "markdown",
   "metadata": {},
   "source": [
    "**解：**\n",
    "\n",
    "由题得特征方程为$$\\lambda^2+1=0$$\n",
    "\n",
    "解得$$\\lambda=\\pm i$$\n",
    "\n",
    "所以齐次线性微分方程的通解为$$x=c_1cost+c_2sint$$\n",
    "\n",
    "因为特征根 $\\pm i$ 为一重， $2$ 不是特征根，所以可设原方程的一个特解为\n",
    "\n",
    "$$\\tilde x=t(A_1sint+B_1cost)+(A_2sin2t+B_2cos2t)$$\n",
    "\n",
    "所以\n",
    "$$\\tilde x^\\prime=A_1sint+B_1cost+t(A_1cost-B_1sint)+2(A_2cos2t+B_2sin2t)$$\n",
    "\n",
    "$$\\tilde x^{\\prime\\prime}=2A_1cost-2B_1sint-t(A_1sint+B_1cost)-4(A_2sin2t+B_2cos2t)$$\n",
    "\n",
    "代入原方程得$$2A_1cost-2B_1sint-3(A_2sin2t+B_2cos2t)=sint-cos2t$$\n",
    "\n",
    "所以$$A_1=A_2=0,B_1=-\\frac{1}{2},B_2=\\frac{1}{3}$$\n",
    "\n",
    "所以$$\\tilde x=-\\frac{1}{2}tcost+\\frac{1}{3}cos2t$$\n",
    "\n",
    "因此通解为$$x=c_1cost+c_2sint-\\frac{1}{2}tcost+\\frac{1}{3}cos2t$$"
   ]
  },
  {
   "cell_type": "markdown",
   "metadata": {},
   "source": [
    "** $(16)\\quad x^{\\prime\\prime}+9x=tsin3t$ **"
   ]
  },
  {
   "cell_type": "markdown",
   "metadata": {},
   "source": [
    "**解：**\n",
    "\n",
    "由题得特征方程为$$\\lambda^2+9=0$$\n",
    "\n",
    "解得$$\\lambda=\\pm 3i$$\n",
    "\n",
    "所以齐次线性微分方程的通解为$$x=c_1cos3t+c_2sin3t$$\n",
    "\n",
    "因为 $\\pm 3i$ 是一重特征根，所以可设原方程的一个特解为\n",
    "\n",
    "$$\\tilde x=t[(A_1t+A_0)sin3t+(B_1t+B_0)cos3t]$$\n",
    "\n",
    "所以$$\\tilde x^\\prime=(2A_1t+A_0)sin3t+3(A_1t^2+A_0)cos3t+(2B_1t+B_0)cos3t-3(B_1t^2+B_0)sin3t$$\n",
    "\n",
    "所以$$\\tilde x^{\\prime\\prime}=2A_1sin3t+6(2A_1t+A_0)cos3t+3(A_1t+A_0)cos3t-9(A_1t^2+A_0t)sin3t     \\quad\\quad\\quad  +2B_1cos3t-3(2B_1t+B_0)sin3t-3(2B_1t+B_0)sin3t-9(B_1t^2+B_0)cos3t$$\n",
    "\n",
    "代入原方程得$$(6A_0+2B_1)cos3t+(2A_1-6B_0)sin3t-12B_1tcos3t+12A_1tsin3t=tsin3t$$\n",
    "\n",
    "$$\n",
    "\\begin{cases}\n",
    "6A_0+2B_1&=0\\\\\n",
    "2A_1-6B_0&=0\\\\\n",
    "-12B_1&=1\\\\\n",
    "12A_1=0\n",
    "\\end{cases}\n",
    "$$\n",
    "\n",
    "解得$$A_1=0,A_0=\\frac{1}{36},B_1=-\\frac{1}{12},B_0=0$$\n",
    "\n",
    "所以$$\\tilde x=c_1cos3t+c_2sin3t+\\frac{1}{36}tsin3t-\\frac{1}{12}t^2cos3t$$\n",
    "\n",
    "因此通解为$$x=c_1e^{-t}+c_2e^{-5t}+\\frac{1}{21}e^{2t}$$\n",
    "\n"
   ]
  },
  {
   "cell_type": "markdown",
   "metadata": {},
   "source": [
    "通解写错了"
   ]
  },
  {
   "cell_type": "markdown",
   "metadata": {},
   "source": [
    "# 11月9号"
   ]
  },
  {
   "cell_type": "markdown",
   "metadata": {},
   "source": [
    "**4.求下列方程的通解**"
   ]
  },
  {
   "cell_type": "markdown",
   "metadata": {},
   "source": [
    "**$(1)\\quad x^{\\prime\\prime}+9x=6e^{3t},\\quad x(0)=x^\\prime(0)=0$**"
   ]
  },
  {
   "cell_type": "markdown",
   "metadata": {},
   "source": [
    "**解：**\n",
    "对方称两边实行拉普拉斯变换得$$(s^2+9)X(s)=\\frac{6}{3-s}$$\n",
    "\n",
    "由此得$$X(s)=\\frac{6}{(3-s)(s^2+9)}=\\frac{1}{3}(\\frac{1}{3-s}+\\frac{3}{s^2+9}+\\frac{s}{s^2+9}$$\n",
    "\n",
    "由拉普拉斯变换表得$$x(t)=\\frac{1}{3}(-e^{3t}+sin3t+cos3t)$$\n",
    "\n",
    "此即为所要求的解\n"
   ]
  },
  {
   "cell_type": "markdown",
   "metadata": {},
   "source": [
    "**$(2)\\quad x^{(4)}+x=2e^t,\\quad x(0)=x^\\prime(0)=x^{\\prime\\prime}(0)=x^{\\prime\\prime\\prime}(0)=1$**"
   ]
  },
  {
   "cell_type": "markdown",
   "metadata": {},
   "source": [
    "**解：**\n",
    "对方称两边实行拉普拉斯变换得$$(s^4+1)X(s)-s^3-s^2-s-1=\\frac{2}{s-1}$$\n",
    "\n",
    "由此得$$(s^4+1)X(s)=\\frac{2}{(s-1)}-\\frac{s^4-1)}{s-1}$$\n",
    "\n",
    "所以$$X(s)=\\frac{1}{s-1}$$\n",
    "\n",
    "由拉普拉斯变换表得$$x(t)=e^t$$\n",
    "\n",
    "此即为所要求的解"
   ]
  },
  {
   "cell_type": "markdown",
   "metadata": {},
   "source": [
    "$A$"
   ]
  }
 ],
 "metadata": {
  "kernelspec": {
   "display_name": "SageMath 7.3",
   "language": "",
   "name": "sagemath"
  },
  "language_info": {
   "codemirror_mode": {
    "name": "ipython",
    "version": 2
   },
   "file_extension": ".py",
   "mimetype": "text/x-python",
   "name": "python",
   "nbconvert_exporter": "python",
   "pygments_lexer": "ipython2",
   "version": "2.7.10"
  }
 },
 "nbformat": 4,
 "nbformat_minor": 0
}
