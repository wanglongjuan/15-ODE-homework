{
 "cells": [
  {
   "cell_type": "markdown",
   "metadata": {},
   "source": [
    "## 题二：求解下列常系数线性微分方程"
   ]
  },
  {
   "cell_type": "markdown",
   "metadata": {},
   "source": [
    "### (12)$\\frac{d^2x}{dt^2}+5\\frac{dx}{dt}+5x=e^{2t}$"
   ]
  },
  {
   "cell_type": "markdown",
   "metadata": {},
   "source": [
    "解：其特征方程为$F(\\lambda)=\\lambda^2+6\\lambda+5=0\\implies \\lambda_1=-1,\\lambda_2=-5$\n",
    "\n",
    "∴该方程的基本解组为$e^{-t};e^{-5t}$\n",
    "\n",
    "∵$2$不为特征方程的根\n",
    "\n",
    "∴$\\tilde x(t)=Ae^{2t}$代入原方程$\\implies 4Ae^{2t}+12Ae^{2t}+5Ae^{2t}=e^{2t}\\implies 15A=1\\implies A=\\frac{1}{15}$\n",
    "\n",
    "∴原方程的通解为$x(t)=c_1e^{-t}+c_2e^{-5t}+\\frac{1}{15}e^{2t}$"
   ]
  },
  {
   "cell_type": "markdown",
   "metadata": {},
   "source": [
    "* \n",
    "通解为$$x=c_1e^{-t}+c_2e^{-5t}+\\frac{1}{21}e^{2t}$$"
   ]
  },
  {
   "cell_type": "markdown",
   "metadata": {},
   "source": [
    "## (14)$\\frac{d^2x}{dt^2}+x=\\sin t-\\cos2t$"
   ]
  },
  {
   "cell_type": "markdown",
   "metadata": {},
   "source": [
    "解：其特征方程为$F(\\lambda)=\\lambda^2+1=0\\implies \\lambda_1=i,\\lambda_2=-i$\n",
    "\n",
    "∴该方程的基本解组为$e^{it};e^{-it}$\n",
    "\n",
    "$\\frac{d^2x}{dt^2}+x=\\sin t$（1）与$\\frac{d^2x}{dt^2}+x=-\\cos2t$（2）解之和即为此方程解，设它们的通解分别为$\\tilde x_1(t),\\tilde x_2(t)$\n",
    "\n",
    "为求（1）的特解，我们先求$\\frac{d^2x}{dt^2}+x=e^{it}$\n",
    "\n",
    "∵$1$为特征方程的单根∴将$x(t)=Ate^{it}$代入原方程\n",
    "\n",
    "$\\implies A(2ie^{it}-te^{it})+Ate^{it}=e^{it}\\implies A=\\frac{-i}{2}$\n",
    "\n",
    "∴$\\tilde x(t)=-\\frac{ite^{it}}{2}\\implies \\tilde x_1(t)=Im\\{\\tilde x(t)\\}=-\\frac{t\\cos t}{2}$\n",
    "\n",
    "为求（2）的特解，我们先求$\\frac{d^2x}{dt^2}+x=-e^{2it}$\n",
    "\n",
    "∵$2i$不为特征方程的根∴将$x(t)=Be^{2it}$代入原方程\n",
    "\n",
    "∴$-4Be^{2it}+Be{2it}=-e{2it}\\implies B=-\\frac{1}{3}$\n",
    "\n",
    "∴$\\tilde x_2(t)=Re\\{\\tilde x(t)\\}=\\frac{\\cos 2t}{3}$\n",
    "\n",
    "∴原方程的解为$x(t)=\\frac{\\cos 2t}{3}-\\frac{t \\cos t}{2}+c_1e^{it}+c_2e^{-it}$"
   ]
  },
  {
   "cell_type": "markdown",
   "metadata": {},
   "source": [
    "## (16)$\\frac{d^2x}{dt^2}+9x=t\\sin 3t$"
   ]
  },
  {
   "cell_type": "markdown",
   "metadata": {},
   "source": [
    "解：其特征方程为$F(\\lambda)=\\lambda^2+9=0\\implies \\lambda_1=3i,\\lambda_2=-3i$\n",
    "\n",
    "∴该方程的基本解组为$e^{3it};e^{-3it}$\n",
    "\n",
    "为求（1）的特解，我们先求$\\frac{d^2x}{dt^2}+9x=te^{3it}$\n",
    "\n",
    "∵$\\pm3i$为特征方程的单根\n",
    "\n",
    "∴$\\tilde x(t)=t(At+B)e^{3it}$代入\n",
    "\n",
    "$9t（At+B）+(-9At^2-9Bt+6Ai+2A+6Ai+6Bi)=t$\n",
    "\n",
    "$\\begin{cases}12Ai=1\\\\2A+6Bi=0\\end{cases}$\n",
    "\n",
    "∴$\\tilde x(t)=t(-\\frac{i}{12}t+\\frac{1}{36})e^{3it}$\n",
    "\n",
    "∴$x(t)=Re\\{\\tilde x(t)\\}+c_1e^{3it}+c_2e^{-3it}=\\frac{t\\sin 3t}{36}-\\frac{t^2\\cos 3t}{12}+c_1e^{3it}+c_2e^{-3it}$"
   ]
  },
  {
   "cell_type": "markdown",
   "metadata": {},
   "source": [
    "## 题四：求下列初值问题的解"
   ]
  },
  {
   "cell_type": "markdown",
   "metadata": {},
   "source": [
    "### (1)$\\frac{d^2x}{dt^2}+9x=6e^{3t};x(0)=x\\prime(0)=0$"
   ]
  },
  {
   "cell_type": "markdown",
   "metadata": {},
   "source": [
    "解：对方程两边施行Laplace变换得$s^2X(s)+9X(s)=\\frac{6}{s-3}$\n",
    "\n",
    "$\\begin{cases}A+C=0\\\\B-3A=0\\\\9C-3B=6\\end{cases}$\n",
    "\n",
    "解得$\\begin{cases}A=-\\frac{1}{3}\\\\B=-1\\\\C=\\frac{1}{3}\\end{cases}$\n",
    "\n",
    "∴$X(s)=-\\frac{1}{3}(\\frac{s}{s^2+9}+\\frac{3}{s^2+9}-\\frac{1}{s-3})$\n",
    "\n",
    "其原函数为$x(t)=-\\frac{1}{3}(\\cos 3t+\\sin 3t+e{3t})$"
   ]
  },
  {
   "cell_type": "markdown",
   "metadata": {},
   "source": [
    "### (2)$\\frac{d^4x}{dt^4}+x=6e^{3t};x(0)=x\\prime(0)=x\\prime\\prime(0)=x\\prime\\prime\\prime(0)=0$"
   ]
  },
  {
   "cell_type": "markdown",
   "metadata": {},
   "source": [
    "解：对方程两边施行Laplace变换得$s^4X(s)-s^3-s^2-s-1+X(s)=\\frac{2}{s-1}\n",
    "\\\\\\implies(s^4+1)X(s)=\\frac{s^4+1}{s-1}\\\\\\implies X(s)=\\frac{1}{s-1}$\n",
    "\n",
    "∴其原函数为$x(t)=e^t$"
   ]
  },
  {
   "cell_type": "markdown",
   "metadata": {
    "collapsed": true
   },
   "source": [
    "$B$"
   ]
  },
  {
   "cell_type": "code",
   "execution_count": null,
   "metadata": {
    "collapsed": true
   },
   "outputs": [],
   "source": []
  }
 ],
 "metadata": {
  "kernelspec": {
   "display_name": "SageMath 7.3",
   "language": "",
   "name": "sagemath"
  },
  "language_info": {
   "codemirror_mode": {
    "name": "ipython",
    "version": 2
   },
   "file_extension": ".py",
   "mimetype": "text/x-python",
   "name": "python",
   "nbconvert_exporter": "python",
   "pygments_lexer": "ipython2",
   "version": "2.7.10"
  }
 },
 "nbformat": 4,
 "nbformat_minor": 0
}
