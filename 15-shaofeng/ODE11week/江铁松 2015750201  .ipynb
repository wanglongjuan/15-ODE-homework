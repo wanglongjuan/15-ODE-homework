{
 "cells": [
  {
   "cell_type": "markdown",
   "metadata": {},
   "source": [
    "## 求解下列常系数线性微分方程。"
   ]
  },
  {
   "cell_type": "markdown",
   "metadata": {},
   "source": [
    "$(12)x''+6x'+5x=e^{2t}$"
   ]
  },
  {
   "cell_type": "markdown",
   "metadata": {},
   "source": [
    "**解**\n",
    "\n",
    "$原方程对应的齐次方程的特征方程为\\lambda^2+6\\lambda+5=0$\n",
    "\n",
    "$解得\\lambda _1=-1,\\lambda _2=-5$\n",
    "\n",
    "$方程有形如\\tilde{x}=Ae^{2t}的特解$\n",
    "\n",
    "$代入微分方程得21A=1$\n",
    "\n",
    "$所以\\tilde{x}=\\frac{1}{21}e^{2t}$\n",
    "\n",
    "$所以通解为x=c_1e^{-t}+c_2e^{-5t}+\\frac{1}{21}e^{2t}$\n"
   ]
  },
  {
   "cell_type": "markdown",
   "metadata": {},
   "source": [
    "$(14)x''+x=sint -cos 2t;$"
   ]
  },
  {
   "cell_type": "markdown",
   "metadata": {},
   "source": [
    "**解**\n",
    "\n",
    "$原方程对应的齐次方程的特征方程为\\lambda ^2+1=0$\n",
    "\n",
    "$解得\\lambda_1=-i,\\lambda_2=i$\n",
    "\n",
    "$对应的两解为\\cos t ,\\sin t.$\n",
    "\n",
    "$设特解为\\tilde{x}=c_1(t)\\cos t+c_(t)\\sin t$\n",
    "\n",
    "$则\\begin{cases}\n",
    "c'_1(t)\\cos t+c'_(t)\\sin t=0\\\\\n",
    "-c'_1(t)sin t+c'_2(t)cos t=sint -cos 2t\\\\\n",
    " \\end{cases}$\n",
    " \n",
    " $解得c'_1(t)=(cos 2t-sint)sint$\n",
    " \n",
    " $c'_2(t)=(sint-cos2t)cos2t$\n",
    " \n",
    " $所以c_1(t)=-\\frac{2}{3}cos^3 t+cos t-\\frac{t}{2}+\\frac{1}{4}sin 2t$\n",
    " \n",
    " $c_2(t)=\\frac{1}{2}sin^2 t-sin t+\\frac{2}{3}sin ^3 t$\n",
    " \n",
    " $所以\\tilde{x}=-\\frac{2}{3}cos^4 t+cos^2 t-\\frac{t}{2}cos t+\\frac{1}{4}sin 2t cos2t+\\frac{1}{2}sin^3 t-sin^2 t+\\frac{2}{3}sin^4 t$\n",
    " \n",
    " $=-\\frac{t}{2}cost-\\frac{1}{3}(sin^2 t-cos^2 t)+\\frac{1}{2}sin t$\n",
    " \n",
    " $=-\\frac{t}{2}cos t+\\frac{1}{3}cos 2t+\\frac{1}{2}sin t$\n",
    " \n",
    " $所以方程的解为$\n",
    " \n",
    " $x=c_1cos t+c_2sin t-\\frac{t}{2}cos t+\\frac{1}{3}cos 2t+\\frac{1}{2}sin t$\n",
    " \n",
    " $=c_1cos t+c_3sin t-\\frac{t}{2}cos t+\\frac{1}{3}cos 2t$\n",
    " \n"
   ]
  },
  {
   "cell_type": "markdown",
   "metadata": {},
   "source": [
    "$(16)x''+9x=tsin 3t;$"
   ]
  },
  {
   "cell_type": "markdown",
   "metadata": {},
   "source": [
    "**解**\n",
    "$原方程对应的齐次方程的特征方程为\\lambda^2+9=0$\n",
    "\n",
    "$解得\\lambda_1=3i,\\lambda_2=-3i$\n",
    "\n",
    "$以下求方程x''+9x=te^{3it}的特解，则它的虚部即为原方程的特解$\n",
    "\n",
    "$方程x''+9x=te^{3it}有特解形如\\tilde{x}=t(At+B)e^{3it}=(At^2+Bt)e^{3it}$\n",
    "\n",
    "$将特解带入原方程得\\begin{cases}\n",
    "2A+6Bi=0\\\\\n",
    "12Ai=1\\\\\n",
    "\\end{cases}$\n",
    "\n",
    "$所以\\tilde{x}=(-\\frac{1}{12}it^2+\\frac{1}{36}t)e^{3it}$\n",
    "\n",
    "$=(-\\frac{1}{12}it^2+\\frac{1}{36}t(cos 3t+sin 3t)$\n",
    "\n",
    "$所以虚部为-\\frac{1}{12}t^2cos 3t+\\frac{1}{36}tsin 3t$\n",
    "\n",
    "$所以原微分方程的一个特解为-\\frac{1}{12}t^2cos 3t+\\frac{1}{36}tsin 3t$\n",
    "\n",
    "$所以方程的同届为x=c_1cos3t+c_2sin 3t-\\frac{1}{12}t^2cos 3t+\\frac{1}{36}tsin 3t$\n"
   ]
  },
  {
   "cell_type": "markdown",
   "metadata": {},
   "source": [
    "## 求下列初值问题的解。"
   ]
  },
  {
   "cell_type": "markdown",
   "metadata": {},
   "source": [
    "$(1)x''+9x=6e^{3t},x(0)=x'(0)=0$"
   ]
  },
  {
   "cell_type": "markdown",
   "metadata": {},
   "source": [
    "**解**\n",
    "\n",
    "$对方程两边进行拉普拉斯变换得到像函数满足s^2X(s)-sx_0-x'_0+9X(s)=\\frac{6}{s-3}$\n",
    "\n",
    "$X(s)=\\frac{6}{(s-3)(s^2+9)}$\n",
    "\n",
    "$=\\frac{1}{3}\\frac{1}{s-3}-\\frac{1}{3}\\frac{s}{s^2+9}-\\frac{s}{s^2+9}$\n",
    "\n",
    "$则对应的原函数为x=\\frac{1}{3}(e^{3t}-cos3t-sin3t)$\n",
    "\n"
   ]
  },
  {
   "cell_type": "markdown",
   "metadata": {},
   "source": [
    "$(2)x^{(4)}+x=2e^{t},x(0)=x'(0)=x''(0)=x'''(0)=1$"
   ]
  },
  {
   "cell_type": "markdown",
   "metadata": {},
   "source": [
    "**解**\n",
    "\n",
    "$对方程两边进行拉普拉斯变换得到像函数满足s^4X(s)-s^3x_0-s^2x'_0-sx''_0-x'''_0+X(s)=\\frac{2}{s-1}$\n",
    "\n",
    "$X(s)=\\frac{\\frac{2}{s-1}+s^3+s^2+s+1}{s^4+1}$\n",
    "\n",
    "$分子分母同乘以s-1得$\n",
    "\n",
    "$X(s)=\\frac{1}{s-1}$\n",
    "\n",
    "$则对应的原函数为x=e^t$\n",
    "\n"
   ]
  },
  {
   "cell_type": "markdown",
   "metadata": {
    "collapsed": true
   },
   "source": [
    "$B^+$"
   ]
  }
 ],
 "metadata": {
  "kernelspec": {
   "display_name": "SageMath 7.3",
   "language": "",
   "name": "sagemath"
  },
  "language_info": {
   "codemirror_mode": {
    "name": "ipython",
    "version": 2
   },
   "file_extension": ".py",
   "mimetype": "text/x-python",
   "name": "python",
   "nbconvert_exporter": "python",
   "pygments_lexer": "ipython2",
   "version": "2.7.10"
  }
 },
 "nbformat": 4,
 "nbformat_minor": 0
}
