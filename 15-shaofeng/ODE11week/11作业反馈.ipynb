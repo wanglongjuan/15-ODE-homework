{
 "cells": [
  {
   "cell_type": "markdown",
   "metadata": {},
   "source": [
    "本周作业反馈如下：\n",
    "\n",
    "* 本周作业是习题4.2的 2.(12)(14)(16),4\n",
    "* 本周作业完成情况如下：\n",
    "   * (1)本周作业是做与常系数线性微分方程解法相关题目的题, 大家都按时交作业;\n",
    "   * (2)本周作业做的较好的是刘琼琦、方日鑫、曾玲\n",
    "   * (3)郭晨亮未交作业"
   ]
  },
  {
   "cell_type": "code",
   "execution_count": null,
   "metadata": {
    "collapsed": true
   },
   "outputs": [],
   "source": []
  }
 ],
 "metadata": {
  "kernelspec": {
   "display_name": "SageMath 7.3",
   "language": "",
   "name": "sagemath"
  },
  "language_info": {
   "codemirror_mode": {
    "name": "ipython",
    "version": 2
   },
   "file_extension": ".py",
   "mimetype": "text/x-python",
   "name": "python",
   "nbconvert_exporter": "python",
   "pygments_lexer": "ipython2",
   "version": "2.7.10"
  }
 },
 "nbformat": 4,
 "nbformat_minor": 0
}
