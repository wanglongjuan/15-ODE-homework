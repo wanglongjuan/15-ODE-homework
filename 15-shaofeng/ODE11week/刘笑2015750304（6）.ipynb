{
 "cells": [
  {
   "cell_type": "markdown",
   "metadata": {},
   "source": [
    "##  （作业6）"
   ]
  },
  {
   "cell_type": "markdown",
   "metadata": {},
   "source": [
    "## 姓名：刘笑\n",
    "## 学号：2015750304"
   ]
  },
  {
   "cell_type": "markdown",
   "metadata": {},
   "source": [
    "\n",
    "##  2求下列常系数微分方程：\n"
   ]
  },
  {
   "cell_type": "markdown",
   "metadata": {},
   "source": [
    "### （12）\n",
    "**解**\n",
    "对应的齐次线性特征方程为\n",
    "$$\\lambda^2+6\\lambda+5=0\\\\\n",
    "\\lambda_1=-1\\quad \\lambda_2=-5$$\n",
    "$又因为\\lambda=2不是特征方程的根令方程的一个特解x^{1}=Ae^t带入方程$\n",
    "$$21Ae^t=e^{2t}\\\\\n",
    "A=\\frac{1}{21}$$\n",
    "即方程的通解为\n",
    "$$x=c_1*e^{-t}+c_2*e^{-5t}+\\frac{1}{21}e^{2t}$$\n",
    "\n"
   ]
  },
  {
   "cell_type": "markdown",
   "metadata": {},
   "source": [
    "###  (14)\n",
    "**解**对应齐次线性特征方程为\n",
    "$$\\lambda^2+1=0\\\\\n",
    "\\lambda_1=-i\\quad\\lambda_2=i$$\n",
    "$\\lambda=-1x\"+x=sint方程的一个特解x^1=t(Asint+Bcost)$\n",
    "$$2Acost-2Bsint=sint\\\\\n",
    "A=0\\quad B=-\\frac{1}{2}$$\n",
    "$即方程的一个特解为x_1=-\\frac{1}{2}tcost\\\\\n",
    "对于方程x\"+x=-cos2t,可以设方程的特解x_2=Acos2t+Bsin2t\n",
    "$\n",
    "$$-3Acos(2t)-3Asin(2t)=-cost\\\\\n",
    "A=\\frac{1}{3}\\quad B=0$$\n",
    "$即方程的一个特解为x_2=\\frac{1}{3}cos(2t)\\\\\n",
    "于是原方程的通解为$\n",
    "$$x=c_1cost+c_2sint-\\frac{1}{2}tcost+\\frac{1}{3}cos2t$$\n",
    "\n",
    "\n"
   ]
  },
  {
   "cell_type": "markdown",
   "metadata": {},
   "source": [
    "### (16)\n",
    "**解**对应得齐次线性特征方程为\n",
    "$$\\lambda^2+9=0\\\\\n",
    "\\lambda_1=3i\\quad \\lambda_2=-3i$$\n",
    "设方程的一个特解为$x_1=t[(At+B)cos3t+（Ct+D）sint]代入方程$\n",
    "\n",
    "$$A=-\\frac{1}{12}\\quad B=C=0\\quad D=\\frac{1}{36}$$\n",
    "即方程的特解为$\\tilde{x}=-\\frac{1}{12}t^2cos3t+\\frac{1}{36}tsint$\n",
    "于是方程解$$x=c_1cos3t+c_2sint-\\frac{1}{12}t^2cos3t+\\frac{1}{36}tsint$$\n"
   ]
  },
  {
   "cell_type": "markdown",
   "metadata": {},
   "source": [
    "## 4求下组初值问题的通解"
   ]
  },
  {
   "cell_type": "markdown",
   "metadata": {},
   "source": [
    "### (1)\n",
    "**解**\n",
    "对方程的两边进行laplace变换\n",
    "$$(s^2+9)X(s)=\\frac{6}{s-3}\\\\\n",
    "X(s)=\\frac{1}{3}*[\\frac{1}{s-3}-\\frac{s}{s^2+9}]-\\frac{1}{t^2+9}$$\n",
    "对上面求原函数\n",
    "$$x(t)=\\frac{1}{3}*(e^{3t}-cos3t-sin3t)$$\n"
   ]
  },
  {
   "cell_type": "markdown",
   "metadata": {},
   "source": [
    "### (2)\n",
    "**解**\n",
    "对方程两边进行laplace变换\n",
    "$$s^4X(t)-s^3-s^2-s^1-1+X(t)=\\frac{2}{s-1}$$\n",
    "\n",
    "$$X(s)=\\frac{1}{s-1}$$\n",
    "即原函数w为\n",
    "\n",
    "$$x(t)=e^t$$"
   ]
  },
  {
   "cell_type": "markdown",
   "metadata": {
    "collapsed": true
   },
   "source": [
    "$B^+$"
   ]
  },
  {
   "cell_type": "code",
   "execution_count": null,
   "metadata": {
    "collapsed": true
   },
   "outputs": [],
   "source": []
  }
 ],
 "metadata": {
  "kernelspec": {
   "display_name": "SageMath 7.3",
   "language": "",
   "name": "sagemath"
  },
  "language_info": {
   "codemirror_mode": {
    "name": "ipython",
    "version": 2
   },
   "file_extension": ".py",
   "mimetype": "text/x-python",
   "name": "python",
   "nbconvert_exporter": "python",
   "pygments_lexer": "ipython2",
   "version": "2.7.10"
  }
 },
 "nbformat": 4,
 "nbformat_minor": 0
}
