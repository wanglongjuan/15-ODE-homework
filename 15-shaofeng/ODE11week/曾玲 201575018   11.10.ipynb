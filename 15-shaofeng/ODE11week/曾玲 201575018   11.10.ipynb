{
 "cells": [
  {
   "cell_type": "markdown",
   "metadata": {},
   "source": [
    "###  2.求解下列常系数线性微分方程："
   ]
  },
  {
   "cell_type": "markdown",
   "metadata": {},
   "source": [
    "###  $（12）x^{\\prime\\prime}+6x^\\prime+5x=e^{2t}$"
   ]
  },
  {
   "cell_type": "markdown",
   "metadata": {},
   "source": [
    "齐次方程的特征方程为$\\lambda^2+6\\lambda+5=0，其根为\\lambda_1=-1,\\lambda_2=-5$\n",
    "\n",
    "因为$\\lambda=2$不是特征方程的根，所以非齐次方程的一个特解可以设为$\\tilde x=Ae^{2t}$\n",
    "\n",
    "代入原方程得$A=\\frac{1}{21}$\n",
    "\n",
    "因此原方程的通解为$x=c_1e^{-t}+c_2e^{-5t}+\\frac{1}{21}e^{2t}其中c_1,c_2$为任意常数"
   ]
  },
  {
   "cell_type": "markdown",
   "metadata": {},
   "source": [
    "### $(14)x^{\\prime\\prime}+x=\\sin t-\\cos 2t$"
   ]
  },
  {
   "cell_type": "markdown",
   "metadata": {},
   "source": [
    "原方程的解为$x^{\\prime\\prime}+x=\\sin t$ [1]的解和$x^{\\prime\\prime}+x=cos 2t [2]的解之和$\n",
    "\n",
    "原齐次方程的特征方程为${\\lambda}^2+1=0$,解之得$\\lambda_1=i，\\lambda_2=-i$\n",
    "\n",
    "可得到两个实解为$\\cos t和\\sin t$\n",
    "\n",
    "因此，原方程对应的齐次线性微分方程的通解为$x=c_1\\cos t+c_2\\sin t$\n",
    "\n",
    "对于方程[1]，因为$\\lambda=-i$是特征根的单根，所以$k=1$\n",
    "\n",
    "可设方程[1]的一个特解为$\\tilde x_1=t(A\\cos t+B\\sin t)$\n",
    "\n",
    "代入方程[1]得得$A=-\\frac{1}{2},B=0$\n",
    "\n",
    "所以$\\tilde x_1=-\\frac{1}{2}t\\cos t$\n",
    "\n",
    "因为$\\lambda=2i$不是特征根所以可设方程[2]的一个特解为$\\tilde x_2=C\\cos 2t+D\\sin 2t$\n",
    "\n",
    "代入方程[2]得$C=\\frac{1}{3},D=0$\n",
    "\n",
    "那么原方程的通解为$x=c_1\\cos t+c_2\\sin t-\\frac{1}{2}t\\cos t+\\frac{1}{3}\\cos 2t,c_1,c_2$为任意常数"
   ]
  },
  {
   "cell_type": "markdown",
   "metadata": {},
   "source": [
    "### $(16)x^{\\prime\\prime}+9x=t\\sin 3t$"
   ]
  },
  {
   "cell_type": "markdown",
   "metadata": {},
   "source": [
    "原方程的特征方程为$\\lambda^2+9=0$，解之得$\\lambda_1=3i，\\lambda_2=-3i$\n",
    "\n",
    "因为$\\lambda=3i$是特征方程的单根，\n",
    "\n",
    "所以可设原方程的特解为$\\tilde x=t[(a+bt)\\cos 3t+(c+dt)\\sin 3t]$\n",
    "\n",
    "代入原方程得$-12bt\\sin 3t+12dt\\cos 3t+(2d-6a)\\sin 3t+(2b+6c)\\cos 3t=t\\sin 3t$，\n",
    "\n",
    "解得$a=d=0,b=-\\frac{1}{12},c=\\frac{1}{36}$\n",
    "\n",
    "因此原方程的通解为$x=c_1\\cos 3t+c_2\\sin 3t-\\frac{1}{12}t^2\\cos 3t+\\frac{1}{36}t\\sin 3t$\n",
    "\n",
    "其中$c_1,c_2$为任意常数\n"
   ]
  },
  {
   "cell_type": "markdown",
   "metadata": {},
   "source": [
    "## 4.求下组初值问题的解"
   ]
  },
  {
   "cell_type": "markdown",
   "metadata": {},
   "source": [
    "### $（1）x^{\\prime\\prime}+9x=6e^{3t},x(0)=x^\\prime(0)=0$"
   ]
  },
  {
   "cell_type": "markdown",
   "metadata": {},
   "source": [
    "对原方程两边做拉普拉斯变换得到$s^2X(s)-sx^\\prime(0)-x(0)+9X(s)=\\frac{6}{s-3}$\n",
    "\n",
    "由题意，$x(0)=x^\\prime(0)=0$\n",
    "\n",
    "所以$X(s)=\\frac{6}{(s-3)(s^2+9)}=\\frac{1}{3}(\\frac{1}{s-3}-\\frac{s+3}{s^2+9})=\\frac{1}{3}\\frac{1}{s-3}-\\frac{1}{3}\\frac{s}{s^2+9}-\\frac{1}{3}\\frac{3}{s^2+9}$\n",
    "\n",
    "通过拉普拉斯变换表得到$x(t)=\\frac{1}{3}(e^{3t}-\\cos 3t-\\sin 3t)$"
   ]
  },
  {
   "cell_type": "markdown",
   "metadata": {},
   "source": [
    "### $(2)x^{(4)}+x=2e^t,x(0)=x^\\prime(0)=x^{\\prime\\prime}(0)=x^{\\prime\\prime\\prime}(0)=1$"
   ]
  },
  {
   "cell_type": "markdown",
   "metadata": {},
   "source": [
    "对原方程两边同时做拉普拉斯变换得到$s^4X(s)-s^3x(0)-s^2x^\\prime(0)-sx^{\\prime\\prime}(0)-x^{\\prime\\prime\\prime}（0）+X(s)=\\frac{2}{s-1}$\n",
    "\n",
    "由题意，$x(0)=x^\\prime(0)=x^{\\prime\\prime}(0)=x^{\\prime\\prime\\prime}(0)=1$,所以\n",
    "\n",
    "$s^4X(s)-(s^3+s^2+s+1)+X(s)=\\frac{2}{s-1}$\n",
    "\n",
    "$X(s)=\\frac{\\frac{2}{s-1}+(s^2+1)(s+1)}{s^4+1}=\\frac{\\frac{s^4+1}{s-1}}{s^4+1}=\\frac{1}{s-1}$\n",
    "\n",
    "通过拉普拉斯变换表得到$x(t)=e^t$"
   ]
  },
  {
   "cell_type": "markdown",
   "metadata": {
    "collapsed": true
   },
   "source": [
    "$A^+$"
   ]
  }
 ],
 "metadata": {
  "kernelspec": {
   "display_name": "SageMath 7.3",
   "language": "",
   "name": "sagemath"
  },
  "language_info": {
   "codemirror_mode": {
    "name": "ipython",
    "version": 2
   },
   "file_extension": ".py",
   "mimetype": "text/x-python",
   "name": "python",
   "nbconvert_exporter": "python",
   "pygments_lexer": "ipython2",
   "version": "2.7.10"
  }
 },
 "nbformat": 4,
 "nbformat_minor": 0
}
