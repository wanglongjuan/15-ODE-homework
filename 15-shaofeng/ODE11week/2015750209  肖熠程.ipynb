{
 "cells": [
  {
   "cell_type": "markdown",
   "metadata": {
    "collapsed": true
   },
   "source": [
    "## 习题4.2 ##"
   ]
  },
  {
   "cell_type": "markdown",
   "metadata": {},
   "source": [
    "2.解下列常系数线性微分方程"
   ]
  },
  {
   "cell_type": "markdown",
   "metadata": {},
   "source": [
    "（12）$x''+6x'+5x=\\mathrm e^{2t};$"
   ]
  },
  {
   "cell_type": "markdown",
   "metadata": {},
   "source": [
    "解：该方程对应的齐次线性微分方程的特征方程为\n",
    "$$\\lambda^2+6\\lambda+5=0$$\n",
    "解得$$\\lambda_1=-1,\\lambda_2=-5$$\n",
    "所以该齐次线性微分方程的解为$$x=c_1\\mathrm e^{-t}+c_2\\mathrm e^{-5t}$$\n",
    "该方程有形如$x=A\\mathrm e^{2t}$的特解，代入方程得\n",
    "$$4A+12A+5A=1$$解得$$A=\\frac{1}{21}$$\n",
    "所以该方程的解为$$x=c_1\\mathrm e^{-t}+c_2\\mathrm e^{-5t}+\\frac{1}{21}\\mathrm e^{2t}$$\n",
    "这里$c_1,c_2$为任意常数."
   ]
  },
  {
   "cell_type": "markdown",
   "metadata": {},
   "source": [
    "（14）$x''+x=\\sin t-\\cos {2t};$"
   ]
  },
  {
   "cell_type": "markdown",
   "metadata": {},
   "source": [
    "解：该方程对应的齐次线性微分方程的特征方程为\n",
    "$$\\lambda^2+1=0$$\n",
    "解得$$\\lambda_{1,2}=\\pm \\mathrm i$$\n",
    "所以该齐次线性微分方程的解为$$x=c_1\\cos t+c_2\\sin t$$\n",
    "该方程有形如$x=t(A\\cos t+B\\sin t)+(C\\cos {2t}+D\\sin {2t})$的特解，代入方程整理得\n",
    "$$A=-\\frac{1}{2}，B=0,C=\\frac{1}{3},D=0$$\n",
    "所以该方程的解为$$x=c_1\\cos t+c_2\\sin t-\\frac{1}{2}t\\cos t+\\frac{1}{3}\\cos {2t}$$\n",
    "这里$c_1,c_2$为任意常数."
   ]
  },
  {
   "cell_type": "markdown",
   "metadata": {},
   "source": [
    "（16）$x''+9x=t\\sin {3t};$"
   ]
  },
  {
   "cell_type": "markdown",
   "metadata": {},
   "source": [
    "解：该方程对应的齐次线性微分方程的特征方程为\n",
    "$$\\lambda^2+9=0$$\n",
    "解得$$\\lambda_{1,2}=\\pm 3\\mathrm i$$\n",
    "所以该齐次线性微分方程的解为$$x=c_1\\cos {3t}+c_2\\sin {3t}$$\n",
    "该方程有形如$x=t[(At+B)\\cos {3t}+(Ct+D)\\sin {3t}]$的特解，代入方程整理解得\n",
    "$$A=-\\frac{1}{12}，B=0,C=0,D=\\frac{1}{36}$$\n",
    "所以该方程的解为$$x=c_1\\cos {3t}+c_2\\sin {3t}-\\frac{1}{12}t^2\\cos {3t}+\\frac{1}{36}t\\sin {3t}$$\n",
    "这里$c_1,c_2$为任意常数."
   ]
  },
  {
   "cell_type": "markdown",
   "metadata": {},
   "source": [
    "4.求下组初值问题的解："
   ]
  },
  {
   "cell_type": "markdown",
   "metadata": {},
   "source": [
    "（1）$x''+9x=6\\mathrm e^{3t},x(0)=x'(0)=0;$"
   ]
  },
  {
   "cell_type": "markdown",
   "metadata": {},
   "source": [
    "解：对方程两端实施拉普拉斯变换，得到方程的解的像函数所应满足的方程\n",
    "$$s^2X(s)+9X(s)=6\\frac{1}{s-3}$$\n",
    "解得$$X(s)=6\\frac{1}{(s^2+9)(s-3)}=\\frac{1}{3}\\left(\\frac{1}{s-3}-\\frac{s}{s^2+9}-\\frac{3}{s^2+9}\\right)$$\n",
    "根据拉普拉斯变换表得到$X(s)$的原函数为\n",
    "$$x(t)=\\frac{1}{3}\\left(\\mathrm e^{3t}-\\cos {3t}-\\sin {3t}\\right)$$"
   ]
  },
  {
   "cell_type": "markdown",
   "metadata": {},
   "source": [
    "（2）$x^{(4)}+x=2\\mathrm e^t,x(0)=x'(0)=x''(0)=x'''(0)=1.$"
   ]
  },
  {
   "cell_type": "markdown",
   "metadata": {},
   "source": [
    "解：对方程两端实施拉普拉斯变换，得到方程的解的像函数所应满足的方程\n",
    "$$s^4X(s)-s^3-s^2-s-1+X(s)=2\\frac{1}{s-1}$$\n",
    "解得$$X(s)=\\frac{1}{s-1}$$\n",
    "根据拉普拉斯变换表得到$X(s)$的原函数为\n",
    "$$x(t)=\\mathrm e^t$$"
   ]
  },
  {
   "cell_type": "markdown",
   "metadata": {
    "collapsed": true
   },
   "source": [
    "$B$"
   ]
  },
  {
   "cell_type": "code",
   "execution_count": null,
   "metadata": {
    "collapsed": true
   },
   "outputs": [],
   "source": []
  }
 ],
 "metadata": {
  "kernelspec": {
   "display_name": "SageMath 7.3",
   "language": "",
   "name": "sagemath"
  },
  "language_info": {
   "codemirror_mode": {
    "name": "ipython",
    "version": 2
   },
   "file_extension": ".py",
   "mimetype": "text/x-python",
   "name": "python",
   "nbconvert_exporter": "python",
   "pygments_lexer": "ipython2",
   "version": "2.7.10"
  }
 },
 "nbformat": 4,
 "nbformat_minor": 0
}
