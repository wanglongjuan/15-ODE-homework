{
 "cells": [
  {
   "cell_type": "markdown",
   "metadata": {},
   "source": [
    "1.求下列方程的解\n",
    "\n",
    "$(6)x\\frac{dy}{dx}-y+\\sqrt{x^2-y^2}=0$\n",
    "\n",
    "$(7)tany dx-cotx dy=0$\n",
    "\n",
    "(6)移项，两边同除以x,得：$\\frac{dy}{dx}=\\frac{y}{x}+\\sqrt{1+\\frac{y^2}{x^2}}$\n",
    "\n",
    "令$u=\\frac{y}{x}$,所以$y=ux$,$\\frac{dy}{dx}=u\\frac{du}{dx}+u$\n",
    "\n",
    "代入上述方程，华健得：\n",
    "\n",
    "$\\frac{dx}{x}=\\frac{1}{\\sqrt{1-u^2}}du$\n",
    "\n",
    "两边同时积分，得：$ln|x|=arcsinu+C$\n",
    "\n",
    "化简得：$y=xsin(ln|x|-C)$\n",
    "\n",
    "(7)移项，两边同除以tany和cotx:$\\frac{1}{tany}dy=\\frac{1}{cotx}dx$\n",
    "\n",
    "两边同时积分，得：$ln|siny|=-ln|cosx|+C$\n",
    "\n",
    "2.作适当的变量变换求解下列方程\n",
    "\n",
    "(6)$\\frac{dy}{dx}=\\frac{y^6-2x^2}{2xy^5+x^2y^2}$\n",
    "\n",
    "(7)$\\frac{dy}{dx}=\\frac{2x^3+3xy^2+x}{3x^2y+2y^3-y}$\n",
    "\n",
    "(6)$\\frac{dy}{dx}=\\frac{(y^3)^2-2x^2}{y^2(2xy^3+x^2)}$\n",
    "\n",
    "两边同乘$3y^2$，可得：$\\frac{dy^3}{dx}=\\frac{3y^3-6x^2}{2xy^3+x^2}$\n",
    "\n",
    "令$u=y^3$,所以，$\\frac{du}{dx}=\\frac{3u^2-6x^2}{2xu+x^2}=\\frac{\\frac{3u^2}{x^2}-6}{\\frac{2u}{x}-1}$\n",
    "\n",
    "令$z=\\frac{u}{x}$，所以$\\frac{du}{dx}=x\\frac{dz}{dx}+z$,原方程可化为$z+x\\frac{dz}{dx}=\\frac{3z^2-6}{2z+1}$\n",
    "\n",
    "移项化简得：$x\\frac{dz}{dx}=\\frac{z^2-z-6}{2z+1}$\n",
    "\n",
    "1>.若$z^2-z-6=0$,则方程的解为：z=3或z=-2,即：$y^3=3x或$y^3=-2x$\n",
    "\n",
    "2>.若$z^2-z-6$不为0，化简得，$\\frac{dx}{x}=\\frac{2z+1}{z^2-z-6}dz$\n",
    "\n",
    "两边同时积分，化简得：$x^5(z-3)^7(z+3)^3=C$,最后得：$(y^3-3x)^7(y^3+2x)^3=x^5C$\n",
    "\n",
    "又$y^3=3x,y^3=-2x$均满足2>中等式，综上所述，方程的解为：$(y^3-3x)^7(y^3+2x)^3=x^5C$\n",
    "\n",
    "(7)$\\frac{dy}{dx}=\\frac{x}{y}\\frac{2x^2+3y^2+1}{3x^2+2y^2-1}$\n",
    "\n",
    "两边同乘$\\frac{y}{x}$,得：$\\frac{dy^2}{dx^2}=\\frac{2x^2+3y^2+1}{3x^2+2y^2-1}$\n",
    "\n",
    "令$u=y^2,v=x^2$,得$\\frac{du}{dv}=\\frac{2v+3u+1}{3v+2v-1}$,解方程组：\n",
    "$\n",
    "\\begin{cases}\n",
    "2v+3u+1=0\\\\\n",
    "3v+2u-1=0\n",
    "\\end{cases}\n",
    "$解得：\n",
    "$\n",
    "\\begin{cases}\n",
    "v=1\\\\\n",
    "u=-1\n",
    "\\end{cases}\n",
    "$令：\n",
    "$\n",
    "\\begin{cases}\n",
    "v=V+1\\\\\n",
    "u=U-1\n",
    "\\end{cases}\n",
    "$\n",
    "\n",
    "可得：$\\frac{du}{dv}=\\frac{2v+3u}{3v+2u}=\\frac{2+\\frac{3u}{x}}{3+\\frac{2u}{x}}$\n",
    "\n",
    "令$m=\\frac{u}{v}$，所以：$u=mv,\\frac{du}{dv}=v\\frac{dm}{dv}+m$\n",
    "\n",
    "得：$m+v\\frac{dm}{dv}=\\frac{2+3m}{3+2m},\\frac{dm}{dv}=\\frac{2-2m^2}{3+2m}$\n",
    "\n",
    "1>.若$2-2m^2=0,m=\\pm1$为方程的解，即：$y^2=x^2-2$或$y^2=-x^2$为方程的解\n",
    "\n",
    "2>.若$2-2m^2\\neq0$\n",
    "\n",
    "移项化简得：$\\frac{1}{v}dv=\\frac{3+2m}{2-2m^2}$\n",
    "\n",
    "两边同时积分，化简得：$y^2+x^2=(y^2-x^2+2)^5C$\n",
    "\n",
    "又$y^2=x^2-2，y^2=-x^2$符合上述表达式，故方程的解为：$y^2+x^2=(y^2-x^2+2)^5C$"
   ]
  },
  {
   "cell_type": "markdown",
   "metadata": {
    "collapsed": true
   },
   "source": [
    "<font color =\"red\">格式不正确，解题过程不正确，以后做完仔细检查"
   ]
  },
  {
   "cell_type": "code",
   "execution_count": null,
   "metadata": {
    "collapsed": true
   },
   "outputs": [],
   "source": []
  }
 ],
 "metadata": {
  "kernelspec": {
   "display_name": "SageMath 7.3",
   "language": "",
   "name": "sagemath"
  },
  "language_info": {
   "codemirror_mode": {
    "name": "ipython",
    "version": 2
   },
   "file_extension": ".py",
   "mimetype": "text/x-python",
   "name": "python",
   "nbconvert_exporter": "python",
   "pygments_lexer": "ipython2",
   "version": "2.7.10"
  }
 },
 "nbformat": 4,
 "nbformat_minor": 0
}
