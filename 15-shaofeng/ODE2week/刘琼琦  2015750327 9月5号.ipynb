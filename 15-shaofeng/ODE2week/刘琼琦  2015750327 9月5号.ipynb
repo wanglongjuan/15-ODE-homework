{
 "cells": [
  {
   "cell_type": "markdown",
   "metadata": {},
   "source": [
    "# 1.说明“有理整式”的概念"
   ]
  },
  {
   "cell_type": "markdown",
   "metadata": {},
   "source": [
    "**答**\n",
    " 有理整式，是对变数字母与仅限于有限次加，减，乘，乘方运算的代数式。"
   ]
  },
  {
   "cell_type": "markdown",
   "metadata": {},
   "source": [
    "# 2.通解中，解对常数的独立性是指？"
   ]
  },
  {
   "cell_type": "markdown",
   "metadata": {},
   "source": [
    "**答**\n",
    "对函数f及其它的n-1阶偏导数关于n个常数c_1,c_2,...,c_n的雅可比行列式不等于0\n"
   ]
  },
  {
   "cell_type": "markdown",
   "metadata": {},
   "source": [
    "<font color=\"red\">**格式不对**"
   ]
  },
  {
   "cell_type": "markdown",
   "metadata": {},
   "source": [
    "# 3.设$y_1(t)$是 $\\frac{d y}{d t}=f(y),y(0)=y_0$的解,证明$y_0(t)=y_1(t-t_0)$是$\\frac{d y}{d x}=f(y),y(t_0)=y_0$的解"
   ]
  },
  {
   "cell_type": "markdown",
   "metadata": {},
   "source": [
    " **证:** \n",
    " 依题意$\\frac{d y_0(t)}{d t}=\\frac{d y_1(t-t_0)}{d t}$ "
   ]
  },
  {
   "cell_type": "markdown",
   "metadata": {},
   "source": [
    "又$\\frac{d y_1(t-t_0)}{d t}=\\frac{d y_1(t-t_0)}{d (t-t_0)}=f(y_1(t-t_0))=f(y_0(t))$"
   ]
  },
  {
   "cell_type": "markdown",
   "metadata": {},
   "source": [
    "所以$\\frac{d y_0(t)}{d t}=f(y_0)$"
   ]
  },
  {
   "cell_type": "markdown",
   "metadata": {},
   "source": [
    "而$y(t_0)=y_1(o)=y_0$"
   ]
  },
  {
   "cell_type": "markdown",
   "metadata": {},
   "source": [
    "所以$y_0(t)=y_1(t-t_0)$是$\\frac{d y}{d x}=f(y),y(t_0)=y_0$的解"
   ]
  },
  {
   "cell_type": "markdown",
   "metadata": {},
   "source": [
    "<font color=\"red\">**正确**"
   ]
  },
  {
   "cell_type": "markdown",
   "metadata": {},
   "source": [
    "\n",
    "# 课后习题作业："
   ]
  },
  {
   "cell_type": "markdown",
   "metadata": {},
   "source": [
    "# $$习题1.2$$\n",
    "\n",
    "# 3.验证下列各函数是相应微分方程的解:"
   ]
  },
  {
   "cell_type": "markdown",
   "metadata": {},
   "source": [
    "# (7)$y=x^2+1,y^\\prime=y^2-(x^2+1)y+2x$"
   ]
  },
  {
   "cell_type": "markdown",
   "metadata": {},
   "source": [
    "**解**\n",
    "\n",
    "将$y=x^2+1$代入\n",
    "\n",
    "左边$y^\\prime=2x$\n",
    "\n",
    "右边$y^2-(x^2+1)y+2x=(x^2+1)^2-(x^2+1)^2+2x=2x$\n",
    "\n",
    "左边=右边，证毕"
   ]
  },
  {
   "cell_type": "markdown",
   "metadata": {},
   "source": [
    "<font color=\"red\">**正确**"
   ]
  },
  {
   "cell_type": "markdown",
   "metadata": {
    "collapsed": true
   },
   "source": [
    "\n",
    "# (8)$y=-\\frac{g(x)}{f(x)},y^\\prime=\\frac{f^\\prime(x)}{g(x)}y^2-\\frac{g^\\prime(x)}{f(x)}$"
   ]
  },
  {
   "cell_type": "markdown",
   "metadata": {
    "collapsed": true
   },
   "source": [
    "**解**\n",
    "\n",
    "将$y=-\\frac{g(x)}{f(x)}$代入\n",
    "\n",
    "左边$y^\\prime=-\\frac{g^\\prime(x)}{f(x）}+\\frac{g(x)f^\\prime(x)}{f(x)^2}$\n",
    "\n",
    "右边$\\frac{f^\\prime(x)}{g(x)}y^2-\\frac{g^\\prime(x)}{f(x)}=\\frac{g(x)f^\\prime(x)}{f(x)^2}-\\frac{g^\\prime(x)}{f(x）}$\n",
    "\n",
    "左边=右边，证毕"
   ]
  },
  {
   "cell_type": "markdown",
   "metadata": {},
   "source": [
    "<font color=\"red\">**正确**"
   ]
  },
  {
   "cell_type": "markdown",
   "metadata": {},
   "source": [
    "\n",
    "# 4.给定一阶微分方程$\\frac{dy}{dx}=2x$,"
   ]
  },
  {
   "cell_type": "markdown",
   "metadata": {},
   "source": [
    "# (1)求出它的通解；"
   ]
  },
  {
   "cell_type": "markdown",
   "metadata": {},
   "source": [
    "**解**\n",
    "\n",
    "通解为$y=x^2+c(c为常数）$"
   ]
  },
  {
   "cell_type": "markdown",
   "metadata": {
    "collapsed": true
   },
   "source": [
    "\n",
    "# (2)求通过点（1,4）的特解;"
   ]
  },
  {
   "cell_type": "markdown",
   "metadata": {},
   "source": [
    "**解**\n",
    "\n",
    "将（1,4）代入$y=x^2+c$\n",
    "\n",
    "得$c=3$\n",
    "\n",
    "所以特解为$y=x^2+3$"
   ]
  },
  {
   "cell_type": "markdown",
   "metadata": {},
   "source": [
    "\n",
    "# （3）求出与直线$y=2x+3$相切的解"
   ]
  },
  {
   "cell_type": "markdown",
   "metadata": {},
   "source": [
    "**解**\n",
    "\n",
    "依题意直线$y=x^2+c(c为常数）$与直线$y=2x+3$只有一个交点\n",
    "\n",
    "即$x^2-2x+(c-3)=0$只有一个解\n",
    "\n",
    "根据求根公式得$c=4$\n",
    "\n",
    "所以解为$y=x^2+4$"
   ]
  },
  {
   "cell_type": "markdown",
   "metadata": {},
   "source": [
    "\n",
    "# (4)求出满足条件$\\int_0^1y\\mathrm dx=2$的解；"
   ]
  },
  {
   "cell_type": "markdown",
   "metadata": {},
   "source": [
    "**解**\n",
    "\n",
    "因为$\\int_0^1y\\mathrm dx=\\int_0^1(x^2+c)\\mathrm dx=(\\frac{x^3}{3}+cx)|_0^1=\\frac{1}{3}+c$\n",
    "\n",
    "所以$c=2-\\frac{1}{3}=\\frac{5}{3}$\n",
    "\n",
    "于是解为$y=x^2+\\frac{5}{3}$"
   ]
  },
  {
   "cell_type": "markdown",
   "metadata": {},
   "source": [
    "\n",
    "# (5)绘出（2）（3）（4）中的解的图形。"
   ]
  },
  {
   "cell_type": "code",
   "execution_count": 4,
   "metadata": {
    "collapsed": false
   },
   "outputs": [
    {
     "data": {
      "image/png": "[encoded data removed]",
      "text/plain": [
       "Graphics object consisting of 1 graphics primitive"
      ]
     },
     "execution_count": 4,
     "metadata": {},
     "output_type": "execute_result"
    }
   ],
   "source": [
    "var('x y_1')\n",
    "y_1=x^2+3\n",
    "plot(y_1,x)"
   ]
  },
  {
   "cell_type": "code",
   "execution_count": 6,
   "metadata": {
    "collapsed": false
   },
   "outputs": [
    {
     "data": {
      "image/png": "[encoded data removed]",
      "text/plain": [
       "Graphics object consisting of 1 graphics primitive"
      ]
     },
     "execution_count": 6,
     "metadata": {},
     "output_type": "execute_result"
    }
   ],
   "source": [
    "var('x y_2')\n",
    "y_2=x^2+4\n",
    "plot(y_2,x)"
   ]
  },
  {
   "cell_type": "code",
   "execution_count": 8,
   "metadata": {
    "collapsed": false
   },
   "outputs": [
    {
     "data": {
      "image/png": "[encoded data removed]",
      "text/plain": [
       "Graphics object consisting of 1 graphics primitive"
      ]
     },
     "execution_count": 8,
     "metadata": {},
     "output_type": "execute_result"
    }
   ],
   "source": [
    "var('x y_3')\n",
    "y_3=x^2+(5/3)\n",
    "plot(y_3,x)"
   ]
  },
  {
   "cell_type": "markdown",
   "metadata": {},
   "source": [
    "<font color=\"red\">**正确**"
   ]
  },
  {
   "cell_type": "markdown",
   "metadata": {},
   "source": [
    "\n",
    "\n",
    "\n",
    "# $$习题2.1$$"
   ]
  },
  {
   "cell_type": "markdown",
   "metadata": {},
   "source": [
    "# 1.求下列方程的解"
   ]
  },
  {
   "cell_type": "markdown",
   "metadata": {},
   "source": [
    "# (6)$x\\frac{d y}{d x}-y+\\sqrt{x^2-y^2}=0$\n",
    "\n",
    "\n",
    "**解**\n",
    "\n",
    "两边同除以x得$\\frac{dy}{dx}=\\frac{y}{x}-\\sqrt{1-(\\frac{y}{x})^2}$\n",
    "\n",
    "令$u=\\frac{y}{x}$\n",
    "\n",
    "则$\\frac{\\mathrm d y}{\\mathrm d x}=x\\frac{\\mathrm d u}{\\mathrm d x}+u$\n",
    "\n",
    "所以$x\\frac{\\mathrm d u}{\\mathrm d x}+\\sqrt{1-u^2}=0$\n",
    "\n",
    "整理化简为$-\\frac{\\mathrm d x}{x}=\\frac{\\mathrm d u}{\\sqrt{1-u^2}}$\n",
    "\n",
    "两边积分得$arcsinu=ln|x|+c$，代入$u=\\frac{y}{x}$得$arcsin\\frac{y}{x}=ln|x|+c,c是任意常数$\n",
    "\n",
    "此外，当$\\sqrt{1-(u)^2)=0}$时，方程还有解，即$y^2=x^2$\n",
    "\n",
    "综上，方程的解为$arcsin\\frac{y}{x}=ln|x|+c  , y^2=x^2$"
   ]
  },
  {
   "cell_type": "markdown",
   "metadata": {},
   "source": [
    "<font color=\"red\">**正确**"
   ]
  },
  {
   "cell_type": "markdown",
   "metadata": {},
   "source": [
    "\n",
    "# (7)$\\tan ydx-\\cot{x}dy=o$\n",
    "\n",
    "\n",
    "**解**\n",
    "\n",
    "化简得$\\frac{\\mathrm d y}{dx}=\\tan y\\tan x,\\frac{d y}{\\tan y}=\\tan xdx$\n",
    "\n",
    "两边积分得$\\ln siny=-\\ln cosx+c,c是任意正常数$\n",
    "\n",
    "此外$\\tan y=0也为方程的解，即y=k\\pi,k是任意整数$\n",
    "\n",
    "综上，方程的解为$\\ln siny=-\\ln cosx+c，y=k\\pi,k是任意整数$"
   ]
  },
  {
   "cell_type": "markdown",
   "metadata": {},
   "source": [
    "\n",
    "# 2.做适当的变量变换求解下列方程"
   ]
  },
  {
   "cell_type": "markdown",
   "metadata": {},
   "source": [
    "# (6)$\\frac{d y}{d x}=\\frac{y^6-2x^2}{2xy^5+x^2y^2}$\n",
    "\n",
    "**解**\n",
    "\n",
    "$\\frac{dy}{dx}=\\frac{(y^3)^2-2x^2}{y^2(2xy^3+x^2)}$\n",
    "\n",
    "所以$\\frac{dy^3}{dx}=\\frac{3[(y^3)^2-2x^2]}{2xy^3+x^2}$\n",
    "\n",
    "令$u=y^3$,原方程变成$\\frac{du}{dx}=\\frac{3u^2-6x^2}{2ux+x^2}=\\frac{\\frac{3u^2}{x^2}-6}{2\\frac{u}{x}+1}$\n",
    "\n",
    "令$z=\\frac{u}{x}$\n",
    "\n",
    "则$\\frac{du}{dx}=z+x\\frac{dz}{dx}$\n",
    "\n",
    "所以$\\frac{3z^2-6}{2z+1}=z+x\\frac{dz}{dx},x\\frac{dz}{dx}=\\frac{z^2-z-6}{2z+1}$\n",
    "\n",
    "当$\\frac{z^2-z-6}{2z+1}$等于0，得$z=3$或$z=-2，y^3=3x$或$y^3=-2x$是方程的解\n",
    "\n",
    "当$\\frac{z^2-z-6}{2z+1}$不等于0，将变量分离得：$\\frac{2z+1}{z^2-z-d}dz=\\frac{1}{x}dx$\n",
    "\n",
    "两边积分得$z-3)^7(z+2)^3=cx^5$,代入y为$（y^3-3x）^7(y^3+2x)^3=cx^{15}$\n",
    "                      \n",
    "又因为$y^3=3x$或$y^3=-2x$包含在通解中\n",
    "\n",
    "综上，原方程的解为$（y^3-3x）(y^3+2x)^3=cx^{5}$\n"
   ]
  },
  {
   "cell_type": "markdown",
   "metadata": {},
   "source": [
    "<font color=\"red\">**结果不正确**"
   ]
  },
  {
   "cell_type": "markdown",
   "metadata": {},
   "source": [
    "\n",
    "# (7)$\\frac{d y}{d x}=\\frac{2x^3+3xy^2+x}{3x^2y+2y^3-y}$"
   ]
  },
  {
   "cell_type": "markdown",
   "metadata": {},
   "source": [
    "**解**\n",
    "$\\frac{dy}{dx}=\\frac{x(2x^2+3y^2+1}{y3x^2+2y^2-1},\\frac{dy^2}{dx^2}=\\frac{2x^2+3y^2+1}{3x^2+2y^2-1}$\n",
    "\n",
    "令$y^2=u,x^2=v$,则$\\frac{du}{dx}=\\frac{2v+3u+1}{3v+2u-1}$\n",
    "\n",
    "由方程$2v+3u+1=0$和$3v+2u-1=0$组成的方程组的解为（1，-1）\n",
    "\n",
    "令$z=v-1,w=u+1$,则有由$2z+3w=0$和$3z+2w=0$的方程组，化简为$\\frac{dw}{dz}=\\frac{2+3\\frac{w}{z}}{3+2\\frac{w}{z}}$\n",
    "\n",
    "令$t=\\frac{w}{z}$,则有$\\frac{dw}{dz}=t+z\\frac{dt}{dz}$,所以$t+z\\frac{dt}{dz}=\\frac{2+3t}{3+2t},z\\frac{dt}{dz}=\\frac{2-2t^2}{3+2t^2}$\n",
    "\n",
    "当$2-2t^2$等于0，即t等于正负一，得$y^2=x^2-2$或$y^2=-x^2$是方程的解\n",
    "\n",
    "当$2-2t^2$不等于0，将变量分离得$\\frac{3+2t}{2-2t^2}dt=\\frac{1}{z}dz$\n",
    "\n",
    "两边积分得$y^2+x^2=c(y^2-x^2+2)^5$\n",
    "\n",
    "因为$y^2=x^2-2$或$y^2=-x^2$包含在通解中\n",
    "\n",
    "综上，原方程的解为$y^2+x^2=(y^2-x^2+2)^5c$\n"
   ]
  },
  {
   "cell_type": "markdown",
   "metadata": {},
   "source": [
    "<font color=\"red\">**正确**"
   ]
  },
  {
   "cell_type": "markdown",
   "metadata": {
    "collapsed": true
   },
   "source": [
    "<font color=\"red\">**$B$**"
   ]
  },
  {
   "cell_type": "code",
   "execution_count": null,
   "metadata": {
    "collapsed": true
   },
   "outputs": [],
   "source": []
  }
 ],
 "metadata": {
  "kernelspec": {
   "display_name": "SageMath 7.3",
   "language": "",
   "name": "sagemath"
  },
  "language_info": {
   "codemirror_mode": {
    "name": "ipython",
    "version": 2
   },
   "file_extension": ".py",
   "mimetype": "text/x-python",
   "name": "python",
   "nbconvert_exporter": "python",
   "pygments_lexer": "ipython2",
   "version": "2.7.10"
  }
 },
 "nbformat": 4,
 "nbformat_minor": 0
}
