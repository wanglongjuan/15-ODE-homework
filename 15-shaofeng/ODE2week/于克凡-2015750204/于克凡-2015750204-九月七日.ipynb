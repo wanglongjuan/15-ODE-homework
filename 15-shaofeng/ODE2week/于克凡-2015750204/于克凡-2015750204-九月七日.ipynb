{
 "cells": [
  {
   "cell_type": "markdown",
   "metadata": {},
   "source": [
    "## 课堂习题：$设y_1 (t)$是$\\frac{dy}{dt}=f(y),y(0)=y_0$的解，证明$y_2 (t)=y_1 (t-t_0)$是$\\frac{dy}{dt}=f(y),y(t_0)=y_0$的解"
   ]
  },
  {
   "cell_type": "markdown",
   "metadata": {},
   "source": [
    "解：因为$y_1 (t)$是$\\frac{dy}{dt}=f(y),y(0)=y_0$的解,所以成立$\\frac{dy_1（t）}{dt}=f(y_1 (t)),y_1(0)=y_0$"
   ]
  },
  {
   "cell_type": "markdown",
   "metadata": {},
   "source": [
    "因为$y_2 (t_0)=y_1 (t_0-t_0)=y_1(0)=y_0,\\frac{dy_2}{dt}=\\frac{dy_1 (t-t_0)\\times 1}{dt}=f(y_1(t-t_0))=f(y_2 (t))$"
   ]
  },
  {
   "cell_type": "markdown",
   "metadata": {},
   "source": [
    "所以$y_2 (t)$是$\\frac{dy}{dt}=f(y),y(0)=y_0$的解"
   ]
  },
  {
   "cell_type": "markdown",
   "metadata": {},
   "source": [
    "<font color=\"red\">正确"
   ]
  },
  {
   "cell_type": "markdown",
   "metadata": {},
   "source": [
    "# 习题2.1"
   ]
  },
  {
   "cell_type": "markdown",
   "metadata": {},
   "source": [
    "# 1.求下列方程的解"
   ]
  },
  {
   "cell_type": "markdown",
   "metadata": {},
   "source": [
    "## （6）$x\\frac{dy}{dx}-y+\\sqrt{x^2-y^2}=0$;"
   ]
  },
  {
   "cell_type": "markdown",
   "metadata": {},
   "source": [
    "解：$x^2-y^2=0\\implies y^2=x^2$,"
   ]
  },
  {
   "cell_type": "markdown",
   "metadata": {},
   "source": [
    "x>0时，原方程两边同除x$\\implies \\frac{dy}{dx}-\\frac{y}{x}+\\sqrt{1-(\\frac{y}{x})^2}=0$"
   ]
  },
  {
   "cell_type": "markdown",
   "metadata": {},
   "source": [
    "令$u=\\frac{y}{x}\\implies \\frac{dy}{dx}=\\frac{dux}{dx}=x\\frac{du}{dx}+u=u-\\sqrt{1-u^2}$"
   ]
  },
  {
   "cell_type": "markdown",
   "metadata": {},
   "source": [
    "$\\implies x\\frac{du}{dx}=-\\sqrt{1-u^2}\\implies -\\frac{du}{\\sqrt{1-u^2}}=\\frac{dx}{x}$"
   ]
  },
  {
   "cell_type": "markdown",
   "metadata": {},
   "source": [
    "两边积分，有$\\int\\frac{du}{\\sqrt{1-u^2}}=\\int\\frac{dx}{x}\\implies -\\arcsin u=\\ln x+c$,\n",
    "即$-\\arcsin \\frac{y}{x}=\\ln x+c$"
   ]
  },
  {
   "cell_type": "markdown",
   "metadata": {},
   "source": [
    "x<0时，原方程两边同除-x$\\implies -\\frac{dy}{dx}+\\frac{y}{x}+\\sqrt{1-(\\frac{y}{x})^2}=0$"
   ]
  },
  {
   "cell_type": "markdown",
   "metadata": {},
   "source": [
    "令$u=\\frac{y}{x}$同以上过程得$\\frac{du}{\\sqrt{1-u^2}}=\\frac{dx}{x}\\implies \\int-\\frac{du}{\\sqrt{1-u^2}}=\\int-\\frac{dx}{x}\\implies -\\arcsin u=\\ln (-x)+c$"
   ]
  },
  {
   "cell_type": "markdown",
   "metadata": {},
   "source": [
    "即$-\\arcsin \\frac{y}{x}=\\ln (-x)+c$\\\\综上，方程解为即$-\\arcsin\\frac{y}{x}=\\ln|x|+c$且$x^2-y^2=0\\implies y^2=x^2$"
   ]
  },
  {
   "cell_type": "markdown",
   "metadata": {},
   "source": [
    "<font color=\"red\">正确"
   ]
  },
  {
   "cell_type": "markdown",
   "metadata": {},
   "source": [
    "## (7)$\\tan y\\mathrm dx-\\cot x\\mathrm dy=0$;"
   ]
  },
  {
   "cell_type": "markdown",
   "metadata": {},
   "source": [
    "解：由题知$\\tan ydx=\\cot xdy\\implies \\tan xdx=\\cot ydy$"
   ]
  },
  {
   "cell_type": "markdown",
   "metadata": {},
   "source": [
    "等式两边积分$\\implies \\int\\tan xdx=\\int\\cot ydy\\implies -\\ln|\\cos x|=\\ln|\\sin x|+c$"
   ]
  },
  {
   "cell_type": "markdown",
   "metadata": {},
   "source": [
    "$\\implies \\ln|\\sin y\\cos x|=c$($c$为任意正实数)$\\implies \\sin y\\cos x=c$"
   ]
  },
  {
   "cell_type": "markdown",
   "metadata": {},
   "source": [
    "当$y=k\\pi（k=0,1,2,\\cdots）$时,易验证上式亦成立"
   ]
  },
  {
   "cell_type": "markdown",
   "metadata": {},
   "source": [
    "<font color=\"red\">正确"
   ]
  },
  {
   "cell_type": "markdown",
   "metadata": {},
   "source": [
    "# 2.做适当的变量变化求解下列方程"
   ]
  },
  {
   "cell_type": "markdown",
   "metadata": {},
   "source": [
    "## （6）$\\frac{dy}{dx}=\\frac{y^6-2x^2}{2xy^5+x^2y^2}$;"
   ]
  },
  {
   "cell_type": "markdown",
   "metadata": {},
   "source": [
    "解：令$x=uy^3代入原方程\\implies\\frac{dx}{dy}=\\frac{2uy^8+u^2y^8}{y^6-2u^2y^6}\\implies \n",
    "\\frac{y^3du+3y^2udy}{dy}=\\frac{y^2(2u+u^2)}{1-2u^2}\\\\\\implies y\\frac{du}{dy}+3u=\\frac{2u+u^2}{1-2u^2}\\implies\\frac{1-2u^2}{6u^3+u^2-u}du=\\frac{dy}{y}\\\\\\implies\n",
    "\\frac{1}{6u^3+u^2-u}du-\\frac{2u}{6u^2+u-1}du=\\frac{dy}{y}\\implies\\frac{1}{u(2u+1)(3u-1)}du-\\frac{2u}{(2u+1)(3u-1)}du=\\frac{dy}{y}\\\\\\implies-\\frac{1}{u}du+\\frac{2}{5(2u+1)}du+\\frac{7}{5(3u-1)}du=\\frac{dy}{y}$"
   ]
  },
  {
   "cell_type": "markdown",
   "metadata": {},
   "source": [
    "对此方程两边积分$\\implies-\\ln|u|+\\frac{1}{5}\\ln|2u+1|+\\frac{7}{15}\\ln|3u-1|+c=\\ln|y|\\\\\\implies\\ln(\\frac{1}{|u|}\\times|2u+1|^\\frac{1}{5}\\times|3u-1|^\\frac{7}{15})+c=\\ln|y|\\\\\\implies |y|=\\frac{1}{|u|}\\times|2u+1|^\\frac{1}{5}\\times|3u-1|^\\frac{7}{15}\\times c$"
   ]
  },
  {
   "cell_type": "markdown",
   "metadata": {},
   "source": [
    "两边开15次方$\\implies |x|^{15}=|2x+y^3||3x-y^3|^7\\times c$"
   ]
  },
  {
   "cell_type": "markdown",
   "metadata": {},
   "source": [
    "<font color=\"red\">是些格式不正确，答案错误"
   ]
  },
  {
   "cell_type": "markdown",
   "metadata": {},
   "source": [
    "## (7)$\\frac{dy}{dx}=\\frac{2x^3+3xy^2+x}{3x^2y+2y^3-y}$;"
   ]
  },
  {
   "cell_type": "markdown",
   "metadata": {},
   "source": [
    "解：由题知$\\frac{ydy}{xdx}=\\frac{2x^2+3y^2+1}{3x^2+2y^2-1}\\implies\\frac{dy^2}{dx^2}=\\frac{2x^2+3y^2+1}{3x^2+2y^2-1}$"
   ]
  },
  {
   "cell_type": "markdown",
   "metadata": {},
   "source": [
    "$\\begin{cases}\n",
    "2x^2+3y^2+1=0\\\\\n",
    "3x^2+2y^2-1=0\n",
    "\\end{cases}$"
   ]
  },
  {
   "cell_type": "markdown",
   "metadata": {},
   "source": [
    "解出其解，令$\\begin{cases}\n",
    "X=x^2-1\\\\\n",
    "Y=y^2+1\n",
    "\\end{cases}$"
   ]
  },
  {
   "cell_type": "markdown",
   "metadata": {},
   "source": [
    "$\\implies\\frac{dy^2}{dx^2}=\\frac{dY}{dX}=\\frac{2X+3Y}{3X+2Y}$,令$u=\\frac{Y}{X}$"
   ]
  },
  {
   "cell_type": "markdown",
   "metadata": {},
   "source": [
    "$\\implies\\frac{2+3u}{3+2u}-u=X\\frac{du}{dX}\\implies X\\frac{du}{dX}=\\frac{2-2u^2}{3+2u}\\\\\\implies 2\\frac{dX}{X}=\\frac{3+2u}{1-u^2}du$"
   ]
  },
  {
   "cell_type": "markdown",
   "metadata": {},
   "source": [
    "$c+4\\ln |X|=-5\\ln|1-u|+\\ln|1+u|\\implies c(X-Y)^5=(X+Y)\\implies c(x^2-y^2-2)^5=x^2+y^2$"
   ]
  },
  {
   "cell_type": "markdown",
   "metadata": {},
   "source": [
    "<font color=\"red\">正确，但是应标明C是常数。"
   ]
  },
  {
   "cell_type": "markdown",
   "metadata": {
    "collapsed": true
   },
   "source": [
    "<font color=\"red\">**$A$**"
   ]
  },
  {
   "cell_type": "code",
   "execution_count": null,
   "metadata": {
    "collapsed": true
   },
   "outputs": [],
   "source": []
  }
 ],
 "metadata": {
  "kernelspec": {
   "display_name": "SageMath 7.3",
   "language": "",
   "name": "sagemath"
  },
  "language_info": {
   "codemirror_mode": {
    "name": "ipython",
    "version": 2
   },
   "file_extension": ".py",
   "mimetype": "text/x-python",
   "name": "python",
   "nbconvert_exporter": "python",
   "pygments_lexer": "ipython2",
   "version": "2.7.10"
  }
 },
 "nbformat": 4,
 "nbformat_minor": 0
}
