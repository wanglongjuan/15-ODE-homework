{
 "cells": [
  {
   "cell_type": "markdown",
   "metadata": {},
   "source": [
    "### 课堂习题：$$设y_1 (t)$$是$$\\frac{dy}{dt}=f(y),y(0)=y_0$$的解， 证明$$y_2 (t)=y_1 (t-t_0)$$是$$\\frac{dy}{dt}=f(y),y(t_0)=y_0$$的解"
   ]
  },
  {
   "cell_type": "markdown",
   "metadata": {},
   "source": [
    "解：$y_1 (t)是\\frac{dy}{dt}=f(y),y(0)=y_0$的解,所以成立$\\frac{dy_1（t）}{dt}=f(y_1 (t)),y_1(0)=y_0$"
   ]
  },
  {
   "cell_type": "markdown",
   "metadata": {},
   "source": [
    "解：$$因为y_1 (t)是\\frac{dy}{dt}=f(y),y(0)=y_0的解,$$ $$所以成立\\frac{dy_1（t）}{dt}=f(y_1 (t)),y_1(0)=y_0$$"
   ]
  },
  {
   "cell_type": "markdown",
   "metadata": {},
   "source": [
    "$$因为y_2 (t_0)=y_1 (t_0-t_0)=y_1(0)=y_0,$$$$\\frac{dy_2}{dt}=\\frac{dy_1 (t-t_0)\\times 1}{dt}=f(y_1(t-t_0))=f(y_2 (t))$$"
   ]
  },
  {
   "cell_type": "markdown",
   "metadata": {},
   "source": [
    "$$所以y_2 (t)$是$\\frac{dy}{dt}=f(y),y(0)=y_0的解$$ # <font color=\"red\">**格式错误**"
   ]
  },
  {
   "cell_type": "markdown",
   "metadata": {},
   "source": [
    "### 1、求下列方程的解。###"
   ]
  },
  {
   "cell_type": "markdown",
   "metadata": {},
   "source": [
    "（6）$$x\\frac{dy}{dx}-y+\\sqrt{x^2-y^2}=0;$$"
   ]
  },
  {
   "cell_type": "markdown",
   "metadata": {},
   "source": [
    "(7)$$tanydx-cotxdy=0;$$\n"
   ]
  },
  {
   "cell_type": "markdown",
   "metadata": {},
   "source": [
    "解：（6）$$\\frac{dy}{dx}-\\frac{y}{x}+\\sqrt{1-(\\frac{y}{x})^2}=0$$"
   ]
  },
  {
   "cell_type": "markdown",
   "metadata": {},
   "source": [
    "令$$u=\\frac{y}{x}$$"
   ]
  },
  {
   "cell_type": "markdown",
   "metadata": {},
   "source": [
    "则$$dy=u+x\\frac{du}{dx}$$"
   ]
  },
  {
   "cell_type": "markdown",
   "metadata": {},
   "source": [
    "$$当y^2\\neq{x^2}时$$\n",
    "$$u+x\\frac{du}{dx}-u+\\sqrt{1-u^2}=0$$"
   ]
  },
  {
   "cell_type": "markdown",
   "metadata": {},
   "source": [
    "$$\\frac{1}{x}dx=-\\frac{1}{\\sqrt{1-u^2}}du$$"
   ]
  },
  {
   "cell_type": "markdown",
   "metadata": {},
   "source": [
    "两边积分得$$ln|x|+\\arcsin{u}+c=0$$\n"
   ]
  },
  {
   "cell_type": "markdown",
   "metadata": {},
   "source": [
    "$$当y^2=x^2时，也成立$$"
   ]
  },
  {
   "cell_type": "markdown",
   "metadata": {},
   "source": [
    "所以解为$$ln|x|+\\arcsin{u}+c=0和y^2=x^2$$"
   ]
  },
  {
   "cell_type": "markdown",
   "metadata": {},
   "source": [
    "<font color=\"red\">**正确**"
   ]
  },
  {
   "cell_type": "markdown",
   "metadata": {},
   "source": [
    "(7)$$当tany\\neq{0}时，即y\\neq{k\\pi}时，k=0,\\pm1,\\pm2,\\pm3,...$$"
   ]
  },
  {
   "cell_type": "markdown",
   "metadata": {},
   "source": [
    "$$tanxdx=coyydy$$\n",
    "两边积分得$$lns|inx|+ln|cosx|+c=0$$ # <font color=\"red\">**书写格式错误，过程也不对**\n"
   ]
  },
  {
   "cell_type": "markdown",
   "metadata": {},
   "source": [
    "$$y=k\\pi，k=0,\\pm1,\\pm2,\\pm3,...,也是方程的解$$\n",
    "所以解为$$lns|inx|+ln|cosx|+c=0$$\n",
    "$$y=k\\pi，k=0,\\pm1,\\pm2,\\pm3,...$$ #<font color=\"red\">**不对**\n"
   ]
  },
  {
   "cell_type": "markdown",
   "metadata": {},
   "source": [
    "### 2、作适当的变量变换求解下列方程。"
   ]
  },
  {
   "cell_type": "markdown",
   "metadata": {},
   "source": [
    "(6)$\\frac{dy}{dx}=\\frac{y^6-2x^2}{2xy^5+x^2y^2}$"
   ]
  },
  {
   "cell_type": "markdown",
   "metadata": {},
   "source": [
    "(7)$\\frac{dy}{dx}=\\frac{2x^3+3xy^2+x}{3x^2y+2y^3-y}$;"
   ]
  },
  {
   "cell_type": "markdown",
   "metadata": {},
   "source": [
    "解：(6)$$\\frac{dy}{dx}=\\frac{1}{y^2}\\frac{y^6-2x^2}{2y^3+x}$$\n",
    "$$令u=\\frac{y^3}{x}$$\n",
    "得$$\\frac{1}{3}(u^\\frac{1}{3}x^\\frac{-2}{3}+u^\\frac{-2}{3}\\frac{du}{dx})=(ux)^\\frac{-2}{3}\\frac{u^2-2}{2u+1}$$\n",
    "$$\\frac{1}{3}x\\frac{du}{dx}=\\frac{u^2-2}{2u+1}-\\frac{u}{3}$$\n",
    "整理得$$\\frac{1}{x}dx=\\frac{2u+1}{(u+2)(u-3)}du$$"
   ]
  },
  {
   "cell_type": "markdown",
   "metadata": {},
   "source": [
    "两边积分得$$ln|x|=\\frac{3}{5}ln|u+2|+\\frac{7}{5}ln|u-3|$$\n",
    "化简整理得结果$$|x|^{15}=|y^3-3x|^7|y^3+2x|^3$$"
   ]
  },
  {
   "cell_type": "markdown",
   "metadata": {},
   "source": [
    "<font color=\"red\">**答案缺少常数C，但是书写格式不正确**"
   ]
  },
  {
   "cell_type": "markdown",
   "metadata": {},
   "source": [
    "(7)由题知$\\frac{dy^2}{dx^2}=\\frac{2x^2+3y^2+1}{3x^2+2y^2-1}$"
   ]
  },
  {
   "cell_type": "markdown",
   "metadata": {},
   "source": [
    "$\\begin{cases}\n",
    "2x^2+3y^2+1=0\\\\\n",
    "3x^2+2y^2-1=0\n",
    "\\end{cases}$"
   ]
  },
  {
   "cell_type": "markdown",
   "metadata": {},
   "source": [
    "$\\frac{dy^2}{dx^2}=\\frac{dY}{dX}=\\frac{2X+3Y}{3X+2Y}$,令$u=\\frac{Y}{X}$"
   ]
  },
  {
   "cell_type": "markdown",
   "metadata": {},
   "source": [
    "$\\frac{2+3u}{3+2u}-u=X\\frac{du}{dX} X\\frac{du}{dX}=\\frac{2-2u^2}{3+2u}\\\\ 2\\frac{dX}{X}=\\frac{3+2u}{1-u^2}du$"
   ]
  },
  {
   "cell_type": "markdown",
   "metadata": {},
   "source": [
    "$c+4\\ln |X|=-5\\ln|1-u|+\\ln|1+u|\\\\ c(X-Y)^5=(X+Y)\\\\c(x^2-y^2-2)^5=x^2+y^2$"
   ]
  },
  {
   "cell_type": "markdown",
   "metadata": {
    "collapsed": true
   },
   "source": [
    "<font color=\"red\">**正确**"
   ]
  },
  {
   "cell_type": "code",
   "execution_count": null,
   "metadata": {
    "collapsed": true
   },
   "outputs": [],
   "source": []
  }
 ],
 "metadata": {
  "kernelspec": {
   "display_name": "SageMath 7.3",
   "language": "",
   "name": "sagemath"
  },
  "language_info": {
   "codemirror_mode": {
    "name": "ipython",
    "version": 2
   },
   "file_extension": ".py",
   "mimetype": "text/x-python",
   "name": "python",
   "nbconvert_exporter": "python",
   "pygments_lexer": "ipython2",
   "version": "2.7.10"
  }
 },
 "nbformat": 4,
 "nbformat_minor": 0
}
