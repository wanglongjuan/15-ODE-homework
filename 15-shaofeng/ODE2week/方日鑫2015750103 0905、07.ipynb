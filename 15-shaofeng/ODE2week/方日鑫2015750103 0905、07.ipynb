{
 "cells": [
  {
   "cell_type": "markdown",
   "metadata": {},
   "source": [
    "# 1.试验证下列各函数是相应微分方程的解"
   ]
  },
  {
   "cell_type": "markdown",
   "metadata": {},
   "source": [
    "### 注：以下 RS和LS分别代表等式右边和等式左边"
   ]
  },
  {
   "cell_type": "markdown",
   "metadata": {},
   "source": [
    "1.y=$x^2+1,y'=y^2-(x^2+1)y+2x$\n",
    "\n",
    "2.y=$-\\frac{g（x）}{f(x)}$,y'=$\\frac{f'(x)}{g(x)} y^2-\\frac{g'(x)}{f(x)}$"
   ]
  },
  {
   "cell_type": "markdown",
   "metadata": {},
   "source": [
    "解："
   ]
  },
  {
   "cell_type": "markdown",
   "metadata": {},
   "source": [
    "1.$y'=2x$\n",
    "\n",
    "RS=$$y(y-x^2-1)+2x=(x^2+1)0+2x=2x$$=LS\n",
    "\n",
    "于是得到验证"
   ]
  },
  {
   "cell_type": "code",
   "execution_count": 16,
   "metadata": {
    "collapsed": false
   },
   "outputs": [
    {
     "data": {
      "text/html": [
       "<html><script type=\"math/tex; mode=display\">\\newcommand{\\Bold}[1]{\\mathbf{#1}}\\left[2 \\, x, 0\\right]</script></html>"
      ],
      "text/plain": [
       "[2*x, 0]"
      ]
     },
     "metadata": {},
     "output_type": "display_data"
    }
   ],
   "source": [
    "var('x')\n",
    "y = x^2+1\n",
    "g=diff(y,x)\n",
    "h=g-y^2+(x^2+1)*y-2*x\n",
    "show([g,h])"
   ]
  },
  {
   "cell_type": "markdown",
   "metadata": {},
   "source": [
    "2.\n",
    "$\\large{y'=-\\frac{g'(x) f(x)}{f^{2}(x)}+\\frac{g(x) f'(x)}{f^{2}(x)}=-\\frac{g'(x)}{f(x)}+\\frac{g(x) f'(x)}{f^{2}(x)}}$\n",
    "\n",
    "RS$\\large{=\\frac{g(x)f'(x)}{f^{2}(x)}-\\frac{g'(x)}{f(x)}}=$LS\n",
    "\n",
    "于是得到验证"
   ]
  },
  {
   "cell_type": "markdown",
   "metadata": {},
   "source": [
    "# 2.给定一阶微分方程\n",
    "$$\\frac{dy}{dx}=2x$$"
   ]
  },
  {
   "cell_type": "markdown",
   "metadata": {},
   "source": [
    "## 1.求出它的通解"
   ]
  },
  {
   "cell_type": "markdown",
   "metadata": {},
   "source": [
    "## 2.求通过点（1,4）的特解"
   ]
  },
  {
   "cell_type": "markdown",
   "metadata": {},
   "source": [
    "## 3.求出与直线y=2x+3相切的解"
   ]
  },
  {
   "cell_type": "markdown",
   "metadata": {},
   "source": [
    "## 4.求出满足条件 \n",
    "$$\\int_0^1 y dx=2$$\n",
    "## 的解"
   ]
  },
  {
   "cell_type": "markdown",
   "metadata": {},
   "source": [
    "## 5.绘出2,3,4中的解的图形"
   ]
  },
  {
   "cell_type": "markdown",
   "metadata": {},
   "source": [
    "解："
   ]
  },
  {
   "cell_type": "markdown",
   "metadata": {},
   "source": [
    "1.分离变量\n",
    "$$dy=2xdx$$\n",
    "两边积分得\n",
    "$$y=\\int2x dx$$\n",
    "$$y=x^2+c$$"
   ]
  },
  {
   "cell_type": "markdown",
   "metadata": {},
   "source": [
    "2.将（1,4）带入1中所求的通解得$4=1+c$\n",
    "故$c=3$所求解为$y=x^2+3$"
   ]
  },
  {
   "cell_type": "markdown",
   "metadata": {},
   "source": [
    "3.考虑到直线$y=2x+3$的斜率恒为2，又$\\frac{dy}{dx}=2x$\n",
    "故$x=1,y=5$ 于是求得切点为（1,5），带入通解求得$c=4$所求解为$y=x^2+4$"
   ]
  },
  {
   "cell_type": "markdown",
   "metadata": {},
   "source": [
    "4.$\\int ydx=\\frac{1}{3} \\, x^{3} + c x$,故$\\int_0^1 ydx=c+\\frac{1}{3}$容易求得$c=\\frac{5}{3}$\n",
    "所以所求为$y=x^2+\\frac{5}{3}$"
   ]
  },
  {
   "cell_type": "code",
   "execution_count": 31,
   "metadata": {
    "collapsed": false
   },
   "outputs": [
    {
     "data": {
      "text/html": [
       "<html><script type=\"math/tex; mode=display\">\\newcommand{\\Bold}[1]{\\mathbf{#1}}\\frac{1}{3} \\, x^{3} + c x</script></html>"
      ],
      "text/plain": [
       "1/3*x^3 + c*x"
      ]
     },
     "metadata": {},
     "output_type": "display_data"
    },
    {
     "data": {
      "text/html": [
       "<html><script type=\"math/tex; mode=display\">\\newcommand{\\Bold}[1]{\\mathbf{#1}}c + \\frac{1}{3}</script></html>"
      ],
      "text/plain": [
       "c + 1/3"
      ]
     },
     "metadata": {},
     "output_type": "display_data"
    }
   ],
   "source": [
    "var('x,c')\n",
    "y=x^2+c\n",
    "i=integral(y,x)\n",
    "show(i)\n",
    "latex(i)\n",
    "e=integral(y,(x,0,1))\n",
    "show(e)\n"
   ]
  },
  {
   "cell_type": "code",
   "execution_count": 11,
   "metadata": {
    "collapsed": false
   },
   "outputs": [
    {
     "data": {
      "image/png": "[encoded data removed]",
      "text/plain": [
       "Graphics object consisting of 1 graphics primitive"
      ]
     },
     "execution_count": 11,
     "metadata": {},
     "output_type": "execute_result"
    }
   ],
   "source": [
    "5.\n",
    "var('x')\n",
    "y1=x^2+3\n",
    "y2=x^2+4\n",
    "y3=x^2+5/3\n",
    "plot(y1,x,color=\"blue\")"
   ]
  },
  {
   "cell_type": "code",
   "execution_count": 13,
   "metadata": {
    "collapsed": false,
    "scrolled": true
   },
   "outputs": [
    {
     "data": {
      "image/png": "[encoded data removed]",
      "text/plain": [
       "Graphics object consisting of 1 graphics primitive"
      ]
     },
     "execution_count": 13,
     "metadata": {},
     "output_type": "execute_result"
    }
   ],
   "source": [
    "5.\n",
    "var('x')\n",
    "y2=x^2+4\n",
    "plot(y2,x,color=\"red\")"
   ]
  },
  {
   "cell_type": "code",
   "execution_count": 1,
   "metadata": {
    "collapsed": false
   },
   "outputs": [
    {
     "data": {
      "image/png": "[encoded data removed]",
      "text/plain": [
       "Graphics object consisting of 1 graphics primitive"
      ]
     },
     "execution_count": 1,
     "metadata": {},
     "output_type": "execute_result"
    }
   ],
   "source": [
    "5.\n",
    "var('x')\n",
    "y3=x^2+5/3\n",
    "plot(y3,x,color=\"green\")"
   ]
  },
  {
   "cell_type": "markdown",
   "metadata": {},
   "source": [
    "# 3.求下列方程的解"
   ]
  },
  {
   "cell_type": "markdown",
   "metadata": {},
   "source": [
    "$$1.\\large{x\\frac{d y}{dx}-y+\\sqrt{x^2-y^2}=0};\\\\\n",
    "2.\\large{\\tan{y}dx-\\cot{x}dy=0}\n",
    "$$"
   ]
  },
  {
   "cell_type": "markdown",
   "metadata": {},
   "source": [
    "解："
   ]
  },
  {
   "cell_type": "markdown",
   "metadata": {},
   "source": [
    "1. 当$x^2>y^2$时$x^2>y^2\\ge0,x^2>0$我们再等式两边同乘以$\\frac{1}{x}$就得到\n",
    "时我们再等式两边同乘以$\\frac{1}{x}$就得到\n",
    "$$\\frac{dy}{dx}=\\frac{y}{x}-\\sqrt{1-(\\frac{y}{x})^2}$$\n",
    "我们令$\\frac{y}{x}=u$,方程可化为\n",
    "$$x\\frac{\\mathrm d u}{\\mathrm d x}+u=u-\\sqrt{1-u^2}$$\n",
    "即\n",
    "$$x\\frac{\\mathrm d u}{\\mathrm d x}=-\\sqrt{1-u^2}$$\n",
    "分离变量\n",
    "$$-\\frac{d u}{\\sqrt{1-u^2}}=\\frac{d x}{x}$$\n",
    "两边积分得\n",
    "$$-\\arcsin{(u)}=\\log{（x）}+c$$\n",
    "于是通解即为\n",
    "$$\\arcsin{\\frac{y}{x}}+\\log{（x）}+c=0(x^2>y^2)$$以及\n",
    "$$x^2=y^2$$"
   ]
  },
  {
   "cell_type": "code",
   "execution_count": 1,
   "metadata": {
    "collapsed": false
   },
   "outputs": [
    {
     "data": {
      "text/html": [
       "<html><script type=\"math/tex; mode=display\">\\newcommand{\\Bold}[1]{\\mathbf{#1}}\\left[\\log\\left(x\\right), -\\arcsin\\left(u\\right)\\right]</script></html>"
      ],
      "text/plain": [
       "[log(x), -arcsin(u)]"
      ]
     },
     "metadata": {},
     "output_type": "display_data"
    }
   ],
   "source": [
    "var('x u')\n",
    "y=1/x\n",
    "g=-1/sqrt(1-u^2)\n",
    "Y=integral(y,x)\n",
    "G=integral(g,u)\n",
    "show([Y ,G])"
   ]
  },
  {
   "cell_type": "code",
   "execution_count": 2,
   "metadata": {
    "collapsed": false,
    "scrolled": true
   },
   "outputs": [
    {
     "data": {
      "text/html": [
       "<html><script type=\"math/tex; mode=display\">\\newcommand{\\Bold}[1]{\\mathbf{#1}}x = C e^{\\left(-\\frac{x \\arcsin\\left(\\frac{x y\\left(x\\right)}{\\sqrt{x^{4}}}\\right)}{\\sqrt{x^{2}}}\\right)}</script></html>"
      ],
      "text/plain": [
       "x == _C*e^(-x*arcsin(x*y(x)/sqrt(x^4))/sqrt(x^2))"
      ]
     },
     "metadata": {},
     "output_type": "display_data"
    }
   ],
   "source": [
    "var('x')\n",
    "y=function('y')(x)\n",
    "e=diff(y,x)*x-y+sqrt(x^2-y^2)==0\n",
    "show(desolve(e,y))"
   ]
  },
  {
   "cell_type": "markdown",
   "metadata": {},
   "source": [
    "2.分离变量\n",
    "$$\\frac{d y}{\\tan{y}}=\\tan{x}dx$$这里要求$$\\tan{y}\\ne0$$\n",
    "两边积分得\n",
    "$$\\ln|\\sin{y}|=\\ln|\\sec{x}|+c$$\n",
    "故\n",
    "$$ \\sin y\\cos x=c$$以及\n",
    "\n",
    "$$\\tan y=0$$即\n",
    "$$y=k \\pi,k=0,1,2,\\cdots$$"
   ]
  },
  {
   "cell_type": "code",
   "execution_count": 3,
   "metadata": {
    "collapsed": false
   },
   "outputs": [
    {
     "data": {
      "text/html": [
       "<html><script type=\"math/tex; mode=display\">\\newcommand{\\Bold}[1]{\\mathbf{#1}}\\left[\\log\\left(\\sec\\left(x\\right)\\right), \\log\\left(\\sin\\left(x\\right)\\right)\\right]</script></html>"
      ],
      "text/plain": [
       "[log(sec(x)), log(sin(x))]"
      ]
     },
     "metadata": {},
     "output_type": "display_data"
    }
   ],
   "source": [
    "var('x')\n",
    "y1=tan(x)\n",
    "y2=1/tan(x)\n",
    "Y1=integral(y1,x)\n",
    "Y2=integral(y2,x)\n",
    "show([Y1,Y2])"
   ]
  },
  {
   "cell_type": "markdown",
   "metadata": {},
   "source": [
    "## 4.作适当的变量变换求解下列方程"
   ]
  },
  {
   "cell_type": "markdown",
   "metadata": {},
   "source": [
    "$$1.\\large{\\frac{dy}{dx}=\\frac{y^6-2x^2}{2xy^5+x^2y^2}};\\\\\n",
    "2.\\large{\\frac{dy}{dx}=\\frac{2x^3+3xy^2+x}{3x^2y+2y^3-y}}\n",
    "$$"
   ]
  },
  {
   "cell_type": "markdown",
   "metadata": {},
   "source": [
    "解："
   ]
  },
  {
   "cell_type": "markdown",
   "metadata": {},
   "source": [
    "1.\n",
    "$$\\frac{dy}{dx}=\\frac{(y^3)^2-2x^2}{xy^2(2y^3+x)}\\\\\n",
    "$$\n",
    "作变量代换\n",
    "$$u=y^3$$\n",
    "则\n",
    "$$\\frac{dy}{dx}=\\frac{(u)^2-2x^2}{xy^2(2u+x)}\\\\$$\n",
    "$$\\frac{du}{dx}\\frac{1}{3y^2}=\\frac{(u)^2-2x^2}{xy^2(2u+x)}\\\\$$\n",
    "所以\n",
    "$$\\frac{du}{dx}=\\frac{3u^2-6x^2}{2ux+x^2}\\\\$$\n",
    "$$\\frac{du}{dx}=\\frac{3u^2-6x^2}{2ux+x^2}\\\\$$\n",
    "作变量代换\n",
    "$$v=\\frac{u}{x}\\\\$$\n",
    "则\n",
    "$$\\frac{dv}{dx}=\\frac{\\frac{3v^2-6}{2v+1}-v}{x}$$\n",
    "整理\n",
    "$$\\frac{v^2-v-6}{2v+1} dv=\\frac{dx}{x}$$\n",
    "积分可得\n",
    "$$(y^3-3x)^7(y^2+2x)^3=cx^15$$\n"
   ]
  },
  {
   "cell_type": "code",
   "execution_count": 4,
   "metadata": {
    "collapsed": false
   },
   "outputs": [
    {
     "data": {
      "text/html": [
       "<html><script type=\"math/tex; mode=display\">\\newcommand{\\Bold}[1]{\\mathbf{#1}}x = C e^{\\left(\\frac{3}{5} \\, \\log\\left(\\frac{y\\left(x\\right)^{3} + 2 \\, x}{x}\\right) + \\frac{7}{5} \\, \\log\\left(\\frac{y\\left(x\\right)^{3} - 3 \\, x}{x}\\right)\\right)}</script></html>"
      ],
      "text/plain": [
       "x == _C*e^(3/5*log((y(x)^3 + 2*x)/x) + 7/5*log((y(x)^3 - 3*x)/x))"
      ]
     },
     "metadata": {},
     "output_type": "display_data"
    }
   ],
   "source": [
    "var('x')\n",
    "y=function('y')(x)\n",
    "e=diff(y,x)-((y^6-2*x^2)/(2*x*y^5+x^2*y^2))==0\n",
    "show(desolve(e,y))"
   ]
  },
  {
   "cell_type": "markdown",
   "metadata": {},
   "source": [
    "2.整理得\n",
    "$$\\frac{dy}{dx}=\\frac{x}{y}\\frac{2x^2+3y^2+1}{3x^2+2y^2-1}$$\n",
    "故\n",
    "$$\\frac{d y^2}{d x^2}=\\frac{2x^2+3y^2+1}{3x^2+2y^2-1}$$\n",
    "作变量代换\n",
    "$$a=x^2,b=y^2$$\n",
    "$$\\frac{db}{da}=\\frac{2a+3b+1}{3a+2b-1}$$\n",
    "作变量代换\n",
    "$$u=a-1,v=b+1$$\n",
    "则\n",
    "$$\\frac{dv}{du}=\\frac{2u+3v}{3u+2v}$$\n",
    "再作代换\n",
    "$$z=\\frac{v}{u}$$\n",
    "这里就是我们熟悉的变量分离方程了\n",
    "于是可求得\n",
    "$$x^2+y^2=c(y^2-x^2+2)^5$$"
   ]
  },
  {
   "cell_type": "markdown",
   "metadata": {},
   "source": [
    "<font color=\"red\">$A^+$"
   ]
  },
  {
   "cell_type": "code",
   "execution_count": null,
   "metadata": {
    "collapsed": true
   },
   "outputs": [],
   "source": []
  }
 ],
 "metadata": {
  "kernelspec": {
   "display_name": "SageMath 7.3",
   "language": "",
   "name": "sagemath"
  },
  "language_info": {
   "codemirror_mode": {
    "name": "ipython",
    "version": 2
   },
   "file_extension": ".py",
   "mimetype": "text/x-python",
   "name": "python",
   "nbconvert_exporter": "python",
   "pygments_lexer": "ipython2",
   "version": "2.7.10"
  }
 },
 "nbformat": 4,
 "nbformat_minor": 0
}
