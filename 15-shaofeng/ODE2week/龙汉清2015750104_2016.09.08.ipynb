{
 "cells": [
  {
   "cell_type": "markdown",
   "metadata": {
    "collapsed": true
   },
   "source": [
    "# The homework of ODE"
   ]
  },
  {
   "cell_type": "markdown",
   "metadata": {},
   "source": [
    "## First homework(Sep.5)"
   ]
  },
  {
   "cell_type": "markdown",
   "metadata": {},
   "source": [
    "### 1. Explain what is \"Rational integral expression\""
   ]
  },
  {
   "cell_type": "markdown",
   "metadata": {},
   "source": [
    "Rational integral expression is also called \"Algebraic expression\".\n",
    "In mathematics,an *algebraic expression* is an expression built up from integer contants,variables,and the algebraic operations ( addition, subtraction, multiplication, division, and exponentiation by an exponent that is a rational number). (From Wikipedia)"
   ]
  },
  {
   "cell_type": "markdown",
   "metadata": {},
   "source": [
    "### 2. Explain the independence of constant on the general solutions"
   ]
  },
  {
   "cell_type": "markdown",
   "metadata": {},
   "source": [
    "If the n constants which is $ c_1,c_2,\\cdots ,c_n $ is independent,the Jacobian which is build by $ \\varphi $ and it's n-1 order partial derivative of the n constants is not identically equal to 0."
   ]
  },
  {
   "cell_type": "markdown",
   "metadata": {},
   "source": [
    "### 3. Suppose $ y_1(t) $ is the solution of \n",
    "$$\n",
    "\\begin{cases}\n",
    "\\frac{\\mathrm d u}{\\mathrm d t} = f(y)\\\\\n",
    "y(0) = y_0\n",
    "\\end{cases}\n",
    "$$\n",
    "proof: $\\quad$ $y_2(t) = y_1(t-t_0)$ is the solution of\n",
    "$$\n",
    "\\begin{cases}\n",
    "\\frac{\\mathrm d u}{\\mathrm d t} = f(y)\\\\\n",
    "y(t_0) = y_0\n",
    "\\end{cases}\n",
    "$$"
   ]
  },
  {
   "cell_type": "markdown",
   "metadata": {},
   "source": [
    "**proof:**  \n",
    "First step:\n",
    "$$y_2(t_0) = y_1(t_0-t_0) = y_0$$\n",
    "Second step:\n",
    "$$\n",
    "f(y_2) = f(y_1(t-t_0)) = \\frac{\\mathrm d y_1(t-t_0)}{\\mathrm d t} = \\frac{\\mathrm d y_2}{\\mathrm d t}\n",
    "$$\n",
    "\n"
   ]
  },
  {
   "cell_type": "markdown",
   "metadata": {},
   "source": [
    "### 4. Verify that following functions are the solutions of the corresponding differential equation"
   ]
  },
  {
   "cell_type": "markdown",
   "metadata": {},
   "source": [
    "#### (1) $y = x^2 + 1 ,\\quad  y' = y^2 - (x^2 + 1)y + 2x$"
   ]
  },
  {
   "cell_type": "markdown",
   "metadata": {},
   "source": [
    "**verify:**  \n",
    "$$y' = 2x$$\n",
    "$$y^2 - (x^2 + 1)y + 2x = (x^2 + 1)^2 - (x^2 + 1)^2 + 2x = 2x = y'$$"
   ]
  },
  {
   "cell_type": "markdown",
   "metadata": {},
   "source": [
    "#### (2) $y = -\\frac{g(x)}{f(x)},\\quad y' = \\frac{f'(x)}{g(x)}y^2 - \\frac {g'(x)}{f(x)}$"
   ]
  },
  {
   "cell_type": "markdown",
   "metadata": {},
   "source": [
    "**verify:**  \n",
    "$$y' = - \\frac{g'(x)f(x) - f'(x)g(x)}{f^2(x)}$$"
   ]
  },
  {
   "cell_type": "markdown",
   "metadata": {},
   "source": [
    "$$\\frac{f'(x)}{g(x)}y^2 - \\frac{g'(x)}{f(x)} =  - \\frac{g'(x)f(x) - f'(x)g(x)}{f^2(x)} = y'$$"
   ]
  },
  {
   "cell_type": "markdown",
   "metadata": {},
   "source": [
    "### 5. Given a first-order differential equation $\\frac{\\mathrm d y}{\\mathrm d x} = 2x$,"
   ]
  },
  {
   "cell_type": "markdown",
   "metadata": {},
   "source": [
    "#### (1) find the general solution of this  differential equation"
   ]
  },
  {
   "cell_type": "markdown",
   "metadata": {},
   "source": [
    "$$y = x^2 + c$$"
   ]
  },
  {
   "cell_type": "markdown",
   "metadata": {},
   "source": [
    "#### (2) find the particular solution of this differential equation which through the point (1 . 4)"
   ]
  },
  {
   "cell_type": "markdown",
   "metadata": {},
   "source": [
    "$$y = x^2 + 3$$"
   ]
  },
  {
   "cell_type": "markdown",
   "metadata": {},
   "source": [
    "#### (3) find the solution of this differential equation which is tangent with the straight line y = 2x + 3"
   ]
  },
  {
   "cell_type": "markdown",
   "metadata": {},
   "source": [
    "suppose the point of tangency is $(x_0 , y_0)$\n",
    "$$k = 2x_0 = 2$$\n",
    "$$x_0 = 1$$\n",
    "$$y_0 = 2x_0 + 3 = 5$$\n",
    "$$c = y_0 - x_0^2 = 4$$\n",
    "$$y = x^2 + 4$$"
   ]
  },
  {
   "cell_type": "markdown",
   "metadata": {},
   "source": [
    "#### (4) find the general solution which satisf the condition $\\int_0^1 y  \\mathrm d x = 2$"
   ]
  },
  {
   "cell_type": "markdown",
   "metadata": {},
   "source": [
    "$$\\int_0^1 (x^2 + 3) \\mathrm d x = \\left.(\\frac{x^3}{3} + cx)\\right|_0^1 = \\frac{1}{3} + c$$\n",
    "$$ c = \\frac{5}{3} $$\n",
    "$$ y = x^2 + \\frac{5}{3} $$"
   ]
  },
  {
   "cell_type": "markdown",
   "metadata": {},
   "source": [
    "#### (5) draw the function graphics  in the (2),(3),(4)"
   ]
  },
  {
   "cell_type": "code",
   "execution_count": 5,
   "metadata": {
    "collapsed": false
   },
   "outputs": [
    {
     "name": "stdout",
     "output_type": "stream",
     "text": [
      "y2\n"
     ]
    },
    {
     "data": {
      "image/png": "[encoded data removed]",
      "text/plain": [
       "Graphics object consisting of 1 graphics primitive"
      ]
     },
     "metadata": {},
     "output_type": "display_data"
    },
    {
     "name": "stdout",
     "output_type": "stream",
     "text": [
      "y3\n"
     ]
    },
    {
     "data": {
      "image/png": "[encoded data removed]",
      "text/plain": [
       "Graphics object consisting of 1 graphics primitive"
      ]
     },
     "metadata": {},
     "output_type": "display_data"
    },
    {
     "name": "stdout",
     "output_type": "stream",
     "text": [
      "y4\n"
     ]
    },
    {
     "data": {
      "image/png": "[encoded data removed]",
      "text/plain": [
       "Graphics object consisting of 1 graphics primitive"
      ]
     },
     "metadata": {},
     "output_type": "display_data"
    }
   ],
   "source": [
    "var('x')\n",
    "y2 = x^2 + 3\n",
    "y3 = x^2 + 4\n",
    "y4 = x^2 + 5/3\n",
    "print('y2')\n",
    "show(plot(y2,(x, -1,1)),aspect_ratio = 3)\n",
    "print('y3')\n",
    "show(plot(y3,(x, -1,1)),aspect_ratio = 3)\n",
    "print('y4')\n",
    "show(plot(y4,(x, -1,1)),aspect_ratio = 3)"
   ]
  },
  {
   "cell_type": "markdown",
   "metadata": {
    "collapsed": true
   },
   "source": [
    "## Second homework(Sep.7)"
   ]
  },
  {
   "cell_type": "markdown",
   "metadata": {},
   "source": [
    "### 1. Solve the following differential equations"
   ]
  },
  {
   "cell_type": "markdown",
   "metadata": {},
   "source": [
    "#### (1) $x\\frac{\\mathrm d y}{\\mathrm d x} - y + \\sqrt{x^2 - y^2} = 0$"
   ]
  },
  {
   "cell_type": "markdown",
   "metadata": {},
   "source": [
    "**case 1.**$\\quad$ $y^2 \\neq x^2$"
   ]
  },
  {
   "cell_type": "markdown",
   "metadata": {},
   "source": [
    "$$\\frac{\\mathrm d y}{\\mathrm d x} = \\frac{y}{x} - \\sqrt{1 - (\\frac{y}{x})^2}$$  "
   ]
  },
  {
   "cell_type": "markdown",
   "metadata": {},
   "source": [
    "let $\\quad$ $u = \\frac{y}{x}$  $\\quad$than "
   ]
  },
  {
   "cell_type": "markdown",
   "metadata": {},
   "source": [
    "$$\\frac{\\mathrm d y}{\\mathrm d x} = x\\frac{\\mathrm d u}{\\mathrm d x} + u$$\n",
    "$$x\\frac{\\mathrm d u}{\\mathrm d x} + u = u - \\sqrt{1 - u^2}$$\n",
    "$$\\frac{\\mathrm d u}{\\sqrt{1 - u^2}} = - \\frac{\\mathrm d x}{x}$$\n",
    "$$\\int\\frac{\\mathrm d u}{\\sqrt{1 - u^2}} = - \\int\\frac{\\mathrm d x}{x}$$\n",
    "answer  \n",
    "$$arcsin\\frac{y}{x} = - ln|x| + c$$  "
   ]
  },
  {
   "cell_type": "markdown",
   "metadata": {},
   "source": [
    "**case 2.** $\\quad$ $y^2 = x^2$ "
   ]
  },
  {
   "cell_type": "markdown",
   "metadata": {},
   "source": [
    "**In summary:**  \n",
    "$$arcsin\\frac{y}{x} = - ln|x| + c \\quad or \\quad y^2 = x^2$$"
   ]
  },
  {
   "cell_type": "markdown",
   "metadata": {},
   "source": [
    "#### (2) $tany\\mathrm d x - cotx\\mathrm d y = 0$"
   ]
  },
  {
   "cell_type": "markdown",
   "metadata": {},
   "source": [
    "**case 1.** $\\quad$ $y = k\\pi (k = 0, \\pm1, \\pm2,\\cdots )$"
   ]
  },
  {
   "cell_type": "markdown",
   "metadata": {},
   "source": [
    "**case 2.** $\\quad$ $y \\neq k\\pi $ and $x = \\frac{\\pi}{2} + k\\pi (k = 0, \\pm1, \\pm2,\\cdots )$"
   ]
  },
  {
   "cell_type": "markdown",
   "metadata": {},
   "source": [
    "**case 3.** $\\quad$ $y \\neq k\\pi $ and $x \\neq \\frac{\\pi}{2} + k\\pi (k = 0, \\pm1, \\pm2,\\cdots )$"
   ]
  },
  {
   "cell_type": "markdown",
   "metadata": {},
   "source": [
    "$$\\frac{\\mathrm d x}{cotx} = \\frac{\\mathrm d y}{tany}$$"
   ]
  },
  {
   "cell_type": "markdown",
   "metadata": {},
   "source": [
    "$$\\int\\frac{\\mathrm d x}{cotx} = \\int\\frac{\\mathrm d y}{tany}$$"
   ]
  },
  {
   "cell_type": "markdown",
   "metadata": {},
   "source": [
    "answer  \n",
    "$$sinycosx = c$$"
   ]
  },
  {
   "cell_type": "markdown",
   "metadata": {},
   "source": [
    "**In summary:**  \n",
    "$$sinycosx = c \\quad or \\quad y = k\\pi (k = 0, \\pm1, \\pm2,\\cdots )$$"
   ]
  },
  {
   "cell_type": "markdown",
   "metadata": {},
   "source": [
    "### 2. Solve the following differential equations by making  appropriate variable transformation"
   ]
  },
  {
   "cell_type": "markdown",
   "metadata": {},
   "source": [
    "#### (1) $\\frac{\\mathrm d y}{\\mathrm d x} = \\frac{y^6 - 2x^2}{2xy^5 + x^2y^2}$"
   ]
  },
  {
   "cell_type": "markdown",
   "metadata": {},
   "source": [
    "first  \n",
    "$$\\frac{\\mathrm d y}{\\mathrm d x} = \\frac{y^6 - 2x^2}{2xy^5 + x^2y^2} = \\frac{y}{x}\\frac{1 - 2(\\frac{x}{y^3})^2}{2 + \\frac{x}{y^3}}$$"
   ]
  },
  {
   "cell_type": "markdown",
   "metadata": {},
   "source": [
    "let $\\quad$ $u = \\frac{y^3}{x}$ $\\quad$ $y^3 = ux$ $\\quad$ than"
   ]
  },
  {
   "cell_type": "markdown",
   "metadata": {},
   "source": [
    "$$\\frac{y^2\\mathrm d y}{\\mathrm d 3x} = \\frac{\\mathrm d y^3}{3\\mathrm d x} = \\frac{\\mathrm d ux}{3\\mathrm d x} = \\frac{x\\mathrm d u}{3\\mathrm d x} + \\frac{u}{3}$$"
   ]
  },
  {
   "cell_type": "markdown",
   "metadata": {},
   "source": [
    "we can easily find  \n",
    "$$\\frac{x\\mathrm d u}{3\\mathrm d x} + \\frac{u}{3} = \\frac{y^2}{3}\\frac{y}{x}\\frac{1 - 2(\\frac{x}{y^3})^2}{2 + \\frac{x}{y^3}} = u\\frac{1 - 2(\\frac{1}{u})^2}{3(2 + \\frac{1}{u})} = \\frac{u^2 - 2}{3(2u+1)}$$"
   ]
  },
  {
   "cell_type": "markdown",
   "metadata": {},
   "source": [
    "after the simplified  \n",
    "$$\\frac{3(2u + 1)\\mathrm d u}{(u - 3)(u + 2)} = \\frac{3\\mathrm d x}{x}$$"
   ]
  },
  {
   "cell_type": "markdown",
   "metadata": {},
   "source": [
    "$$\\int\\frac{3(2u + 1)\\mathrm d u}{(u - 3)(u + 2)} = \\int\\frac{3\\mathrm d x}{x}$$"
   ]
  },
  {
   "cell_type": "markdown",
   "metadata": {},
   "source": [
    "than we can calculate the answer\n",
    "$$ln(u - 3)^7 + ln(u + 2)^3 = 5lnx + c$$"
   ]
  },
  {
   "cell_type": "markdown",
   "metadata": {},
   "source": [
    "take u to the above equation and simplify it \n",
    "$$(y^3 - 3x)^7(y^3 + 2)^3 = cx^{15}$$"
   ]
  },
  {
   "cell_type": "markdown",
   "metadata": {},
   "source": [
    "#### (2) $\\frac{\\mathrm d y}{\\mathrm d x} = \\frac{2x^3 + 3xy^2 + x}{3x^2y + 2y^3 - y}$"
   ]
  },
  {
   "cell_type": "markdown",
   "metadata": {},
   "source": [
    "the above equation can be charged as following\n",
    "$$\\frac{y\\mathrm d y}{x\\mathrm d x} = \\frac{2x^2 + 3y^2 + 1}{3x^2 + 2y^2 - 1}$$"
   ]
  },
  {
   "cell_type": "markdown",
   "metadata": {},
   "source": [
    "$$\\frac{\\mathrm d y^2}{\\mathrm d x^2} = \\frac{2x^2 + 3y^2 + 1}{3x^2 + 2y^2 - 1}$$"
   ]
  },
  {
   "cell_type": "markdown",
   "metadata": {},
   "source": [
    "let $\\quad$ $x^2 =X + 1 \\quad y^2 = Y- 1$ $\\quad$ than "
   ]
  },
  {
   "cell_type": "markdown",
   "metadata": {},
   "source": [
    "$$\\frac{\\mathrm d Y}{\\mathrm d X} = \\frac{2X + 3Y}{3X + 2Y}$$"
   ]
  },
  {
   "cell_type": "markdown",
   "metadata": {},
   "source": [
    "let $\\quad$ $u = \\frac{Y}{X}$  $\\quad$ than we can calculate the answer"
   ]
  },
  {
   "cell_type": "markdown",
   "metadata": {},
   "source": [
    "$$ln(u + 1) - 5ln(u - 1) = 4lnX + c$$"
   ]
  },
  {
   "cell_type": "markdown",
   "metadata": {},
   "source": [
    "after the simplified\n",
    "$$(x^2 + y^2) = c(y^2 - x^2 + 2)^5 $$"
   ]
  },
  {
   "cell_type": "markdown",
   "metadata": {},
   "source": [
    "<font color=\"red\">**$A^+$**"
   ]
  },
  {
   "cell_type": "markdown",
   "metadata": {
    "collapsed": true
   },
   "source": []
  }
 ],
 "metadata": {
  "kernelspec": {
   "display_name": "SageMath 7.3",
   "language": "",
   "name": "sagemath"
  },
  "language_info": {
   "codemirror_mode": {
    "name": "ipython",
    "version": 2
   },
   "file_extension": ".py",
   "mimetype": "text/x-python",
   "name": "python",
   "nbconvert_exporter": "python",
   "pygments_lexer": "ipython2",
   "version": "2.7.10"
  }
 },
 "nbformat": 4,
 "nbformat_minor": 0
}
