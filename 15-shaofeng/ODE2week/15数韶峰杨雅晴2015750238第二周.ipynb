{
 "cells": [
  {
   "cell_type": "markdown",
   "metadata": {},
   "source": [
    "# 1.有理整式"
   ]
  },
  {
   "cell_type": "markdown",
   "metadata": {},
   "source": [
    "### 相当于有理多项式。"
   ]
  },
  {
   "cell_type": "markdown",
   "metadata": {},
   "source": [
    "# 2.常数的独立性"
   ]
  },
  {
   "cell_type": "markdown",
   "metadata": {},
   "source": [
    "**$y=\\omega(x,c_1,c_2\\cdots c_n)$**"
   ]
  },
  {
   "cell_type": "markdown",
   "metadata": {},
   "source": [
    "### 对该方程及其n-1阶偏导数关于n个常数的雅可比行列式不为零。"
   ]
  },
  {
   "cell_type": "markdown",
   "metadata": {},
   "source": [
    "# 3.验证"
   ]
  },
  {
   "cell_type": "markdown",
   "metadata": {},
   "source": [
    "### 设 $y_1(t)$是$\\frac{dy} {dt}=f(y)$,$y(0)=y_0$的解，证明$y_2(t)=y_1(t-t_0)$是$\\frac{dy} {dt}=f(y)$,$y(t_0)=y_0$的解。"
   ]
  },
  {
   "cell_type": "markdown",
   "metadata": {},
   "source": [
    "**解：** 由题意知，y是以t为自变量的函数，且由$y'=f(y)$可得，$y_1'(t)=f(y_1(t))$"
   ]
  },
  {
   "cell_type": "markdown",
   "metadata": {},
   "source": [
    "t作为自变量可以取任意常数，即$t-t_0$也符合上式"
   ]
  },
  {
   "cell_type": "markdown",
   "metadata": {},
   "source": [
    "所以，$y_1'(t-t_0)=f(y_1(t-t_0))$,即$y_2'(t)=f(y_2(t))$也是方程$\\frac{dy} {dt}=f(y)$的解"
   ]
  },
  {
   "cell_type": "markdown",
   "metadata": {},
   "source": [
    "已知$y(0)=y_0$，即y函数中自变量取0时值为$y_0$"
   ]
  },
  {
   "cell_type": "markdown",
   "metadata": {},
   "source": [
    "所以，对函数$y_2(t)$来说，当$t=t_0$时上式成立，即$y(t_0)=y_0$"
   ]
  },
  {
   "cell_type": "markdown",
   "metadata": {},
   "source": [
    "# 4.验证下列各函数是相应微分方程的解"
   ]
  },
  {
   "cell_type": "markdown",
   "metadata": {},
   "source": [
    "### (1) **$y=x^2+1$  ** &    **  $ y'=y^2-(x^2+1)y+2x$**"
   ]
  },
  {
   "cell_type": "markdown",
   "metadata": {},
   "source": [
    "**解:** $y=x^2+1$"
   ]
  },
  {
   "cell_type": "markdown",
   "metadata": {},
   "source": [
    "$y'=2x$"
   ]
  },
  {
   "cell_type": "markdown",
   "metadata": {},
   "source": [
    "$(x^2+1)^2-(x^2+1)(x^2+1)+2x=2x$"
   ]
  },
  {
   "cell_type": "markdown",
   "metadata": {},
   "source": [
    "$ y'=y^2-(x^2+1)y+2x$"
   ]
  },
  {
   "cell_type": "markdown",
   "metadata": {},
   "source": [
    "<font color=\"red\">**正确**"
   ]
  },
  {
   "cell_type": "markdown",
   "metadata": {},
   "source": [
    "### (2)**$y=-\\frac{g(x)} {f(x)}$** & **$y'=\\frac{f'(x)} {g(x)}y^2-\\frac{g'(x)} {f(x)}$**"
   ]
  },
  {
   "cell_type": "markdown",
   "metadata": {},
   "source": [
    "**解:** $y=-\\frac{g(x)} {f(x)}$"
   ]
  },
  {
   "cell_type": "markdown",
   "metadata": {},
   "source": [
    "$y'=\\frac{g(x)f'(x)} {f^2(x)}-\\frac{g'(x)} {f(x)}$"
   ]
  },
  {
   "cell_type": "markdown",
   "metadata": {},
   "source": [
    "$\\frac{f'(x)} {g(x)}y^2-\\frac{g'(x)} {f(x)}=\\frac{f'(x)} {g(x)}(-\\frac{g(x)} {f(x)})^2-\\frac{g'(x)} {f(x)}=\\frac{g(x)f'(x)} {f^2(x)}-\\frac{g'(x)} {f(x)}$"
   ]
  },
  {
   "cell_type": "markdown",
   "metadata": {},
   "source": [
    "$y'=\\frac{f'(x)} {g(x)}y^2-\\frac{g'(x)} {f(x)}$"
   ]
  },
  {
   "cell_type": "markdown",
   "metadata": {},
   "source": [
    "<font color=\"red\">**正确**"
   ]
  },
  {
   "cell_type": "markdown",
   "metadata": {},
   "source": [
    "# 5.给定一阶微分方程 $\\frac{dy} {dx}=2x$\n",
    "### (1)求出它的通解\n",
    "### (2)求通过点（1，4）的特解\n",
    "### (3)求出与直线$y=2x+3$相切的点\n",
    "### (4)求出满足条件$\\int_0^1\\mathrm y\\,\\mathrm{d}x=2$的解\n",
    "### (5)绘出(2),(3),(4)中的解的图形"
   ]
  },
  {
   "cell_type": "markdown",
   "metadata": {},
   "source": [
    "**解：**（1）由**$\\frac{dy} {dx}=2x$**得$dy=2xdx$"
   ]
  },
  {
   "cell_type": "markdown",
   "metadata": {},
   "source": [
    "方程两边积分得$y=x^2+c$(c为任意常数)，即为通解"
   ]
  },
  {
   "cell_type": "markdown",
   "metadata": {},
   "source": [
    "（2）把$x=1,y=4$代入$y=x^2+c$"
   ]
  },
  {
   "cell_type": "markdown",
   "metadata": {},
   "source": [
    "得$c=3$，即特解为$y=x+3$"
   ]
  },
  {
   "cell_type": "markdown",
   "metadata": {},
   "source": [
    "（3）因为与直线相切所以得到方程组\n",
    "\\begin{cases}\n",
    "y=x^2+c\\\\y=2x+3\n",
    "\\end{cases}"
   ]
  },
  {
   "cell_type": "markdown",
   "metadata": {},
   "source": [
    "且方程组只有唯一解，即$x^2-2x+c-3=0$只有唯一解"
   ]
  },
  {
   "cell_type": "markdown",
   "metadata": {},
   "source": [
    "所以，$c=4$"
   ]
  },
  {
   "cell_type": "markdown",
   "metadata": {},
   "source": [
    "所以，与直线相切的解是$y=x^2+4$"
   ]
  },
  {
   "cell_type": "markdown",
   "metadata": {},
   "source": [
    "（4）因为$\\int_0^1\\mathrm y\\,\\mathrm{d}x=\\int_0^1\\mathrm (x^2+c)\\,\\mathrm{d}x=\\frac{1} {3}+c=2$"
   ]
  },
  {
   "cell_type": "markdown",
   "metadata": {},
   "source": [
    "所以，$c=\\frac{5} {3}$"
   ]
  },
  {
   "cell_type": "markdown",
   "metadata": {},
   "source": [
    "所以，满足条件的解为$y=x^2+\\frac{5} {3}$"
   ]
  },
  {
   "cell_type": "markdown",
   "metadata": {},
   "source": [
    "（5）下面分别是图一，图二，图三"
   ]
  },
  {
   "cell_type": "code",
   "execution_count": 2,
   "metadata": {
    "collapsed": false
   },
   "outputs": [
    {
     "data": {
      "image/png": "[encoded data removed]",
      "text/plain": [
       "Graphics object consisting of 1 graphics primitive"
      ]
     },
     "execution_count": 2,
     "metadata": {},
     "output_type": "execute_result"
    }
   ],
   "source": [
    "var('x')\n",
    "y=x^2+3\n",
    "plot(y,(x,-2,2))"
   ]
  },
  {
   "cell_type": "code",
   "execution_count": 8,
   "metadata": {
    "collapsed": false
   },
   "outputs": [
    {
     "data": {
      "image/png": "[encoded data removed]",
      "text/plain": [
       "Graphics object consisting of 1 graphics primitive"
      ]
     },
     "execution_count": 8,
     "metadata": {},
     "output_type": "execute_result"
    }
   ],
   "source": [
    "var('x')\n",
    "y=x^2+4\n",
    "plot(y,(x,-3,3))"
   ]
  },
  {
   "cell_type": "code",
   "execution_count": 13,
   "metadata": {
    "collapsed": false
   },
   "outputs": [
    {
     "data": {
      "image/png": "[encoded data removed]",
      "text/plain": [
       "Graphics object consisting of 1 graphics primitive"
      ]
     },
     "execution_count": 13,
     "metadata": {},
     "output_type": "execute_result"
    }
   ],
   "source": [
    "var('x')\n",
    "y=x^2+5/3\n",
    "plot(y,(x,-1,1))"
   ]
  },
  {
   "cell_type": "markdown",
   "metadata": {
    "collapsed": true
   },
   "source": [
    "# 6.求下列方程的解"
   ]
  },
  {
   "cell_type": "markdown",
   "metadata": {},
   "source": [
    "### （1）$x\\frac{dy} {dx}-y+\\sqrt{x^2-y^2}=0$\n"
   ]
  },
  {
   "cell_type": "markdown",
   "metadata": {},
   "source": [
    "**解：**将方程变形为 $xdy-ydx+\\sqrt{x^2-y^2}dx=0$"
   ]
  },
  {
   "cell_type": "markdown",
   "metadata": {},
   "source": [
    "* 1 .当$y^2\\not=x^2$时"
   ]
  },
  {
   "cell_type": "markdown",
   "metadata": {},
   "source": [
    "易验证$y^2=x^2$是方程的解"
   ]
  },
  {
   "cell_type": "markdown",
   "metadata": {},
   "source": [
    "将方程变形为\n",
    "$$\n",
    "\\frac{xdy-ydx}{\\sqrt{x^2-y^2}}+dx=0\n",
    "$$"
   ]
  },
  {
   "cell_type": "markdown",
   "metadata": {},
   "source": [
    "再变形为\n",
    "$$\n",
    "\\frac{d(\\frac{y} {x})} {\\sqrt{1-(\\frac{y} {x})^2}}+\\frac{1} {x}dx=0\n",
    "$$"
   ]
  },
  {
   "cell_type": "markdown",
   "metadata": {},
   "source": [
    "对上式两边积分得$\\arcsin(\\frac{y} {x})+ln|x|=c$，c为任意常数"
   ]
  },
  {
   "cell_type": "markdown",
   "metadata": {},
   "source": [
    "* 2.当$y^2=x^2$时，易验证$y^2=x^2$也是方程的解"
   ]
  },
  {
   "cell_type": "markdown",
   "metadata": {},
   "source": [
    "综上所述，原方程的解为$y^2=x^2$或$\\arcsin(\\frac{y} {x})+ln|x|=c$"
   ]
  },
  {
   "cell_type": "markdown",
   "metadata": {},
   "source": [
    "<font color=\"red\">**正确**"
   ]
  },
  {
   "cell_type": "markdown",
   "metadata": {},
   "source": [
    "### (2)$\\tan y dx-\\cot x dy=0$"
   ]
  },
  {
   "cell_type": "markdown",
   "metadata": {},
   "source": [
    "**解：** 当$\\tan \\not=0$时，即$y\\not=k\\pi$(k为整数或零)时"
   ]
  },
  {
   "cell_type": "markdown",
   "metadata": {},
   "source": [
    "分离变量得$\\cot y dy=\\tan x dx$"
   ]
  },
  {
   "cell_type": "markdown",
   "metadata": {},
   "source": [
    "两边同时积分得$ln|\\sin x|=-ln|\\cos x|+c_1$，$c_1$为任意常数"
   ]
  },
  {
   "cell_type": "markdown",
   "metadata": {},
   "source": [
    "即$\\sin y \\cos x=c$，c为任意正常数"
   ]
  },
  {
   "cell_type": "markdown",
   "metadata": {},
   "source": [
    "另外，当$\\tan=0$时，即$y=k\\pi$(k为整数或零)时,易验证也为方程的解"
   ]
  },
  {
   "cell_type": "markdown",
   "metadata": {},
   "source": [
    "综上所述，原方程的解为$\\sin y \\cos x=c$或$y=k\\pi$(k为整数或零)"
   ]
  },
  {
   "cell_type": "markdown",
   "metadata": {},
   "source": [
    "<font color=\"red\">**正确**但是 $\\tan$后面缺少变量"
   ]
  },
  {
   "cell_type": "markdown",
   "metadata": {},
   "source": [
    "# 7.作适当的变量变换求解下列方程"
   ]
  },
  {
   "cell_type": "markdown",
   "metadata": {},
   "source": [
    "### （1）$\\frac{dy} {dx}=\\frac{y^6-2x^2} {2xy^5+x^2y^2}$"
   ]
  },
  {
   "cell_type": "markdown",
   "metadata": {},
   "source": [
    "**解：** 令$u=y^3$，则方程变为\n",
    "$$\n",
    "\\frac{du} {dx}=\\frac{3u^2-6x^2} {2xu+x^2}\n",
    "$$"
   ]
  },
  {
   "cell_type": "markdown",
   "metadata": {},
   "source": [
    "令$v=\\frac{u} {x}$，则上面的方程化为\n",
    "$$\n",
    "x\\frac{dv} {dx}+v=\\frac{3v^2-6} {2v+1}\n",
    "$$"
   ]
  },
  {
   "cell_type": "markdown",
   "metadata": {},
   "source": [
    "移项并两边积分得$(v-3)^7(v+2)^3=cx^5$，c为任意正常数"
   ]
  },
  {
   "cell_type": "markdown",
   "metadata": {},
   "source": [
    "因此，原方程的解为$(y^3-3x)^7(y^3+2x)=cx^{15}$"
   ]
  },
  {
   "cell_type": "markdown",
   "metadata": {},
   "source": [
    "<font color=\"red\">**正确**"
   ]
  },
  {
   "cell_type": "markdown",
   "metadata": {},
   "source": [
    "### (2)$\\frac{dy} {dx}=\\frac{2x^3+3xy^2+x} {3x^2y+2y^3-y}$"
   ]
  },
  {
   "cell_type": "markdown",
   "metadata": {},
   "source": [
    "**解：**原方程变形为"
   ]
  },
  {
   "cell_type": "markdown",
   "metadata": {},
   "source": [
    "$$\n",
    "\\frac{ydy} {xdx}=\\frac{2x^2+3y^2+1} {3x^2+2y^2-1}\n",
    "$$"
   ]
  },
  {
   "cell_type": "markdown",
   "metadata": {},
   "source": [
    "即\n",
    "$$\n",
    "\\frac{dy^2} {dx^2}=2x^2+3y\n",
    "$$"
   ]
  },
  {
   "cell_type": "markdown",
   "metadata": {},
   "source": [
    "令$u=x^2-1$,$v=y^2+1$，则上面的方程为"
   ]
  },
  {
   "cell_type": "markdown",
   "metadata": {},
   "source": [
    "$$\n",
    "\\frac{dv} {du}+\\omega=\\frac{2+3\\omega} {3+2\\omega}\n",
    "$$"
   ]
  },
  {
   "cell_type": "markdown",
   "metadata": {},
   "source": [
    "分离变量并两边积分，得方程解为\n",
    "$$\n",
    "c(1+\\omega)=u^4(1-\\omega)^5\n",
    "$$"
   ]
  },
  {
   "cell_type": "markdown",
   "metadata": {},
   "source": [
    "因此，原方程解为$c(x^2+y^2)=y^2-x^2+2$，c为任意常数"
   ]
  },
  {
   "cell_type": "markdown",
   "metadata": {
    "collapsed": true
   },
   "source": [
    "<font color=\"red\">**结果不对**$$c(x^2+y^2)=(y^2-x^2+2)^5$$"
   ]
  },
  {
   "cell_type": "code",
   "execution_count": null,
   "metadata": {
    "collapsed": true
   },
   "outputs": [],
   "source": []
  }
 ],
 "metadata": {
  "kernelspec": {
   "display_name": "SageMath 7.3",
   "language": "",
   "name": "sagemath"
  },
  "language_info": {
   "codemirror_mode": {
    "name": "ipython",
    "version": 2
   },
   "file_extension": ".py",
   "mimetype": "text/x-python",
   "name": "python",
   "nbconvert_exporter": "python",
   "pygments_lexer": "ipython2",
   "version": "2.7.10"
  }
 },
 "nbformat": 4,
 "nbformat_minor": 0
}
