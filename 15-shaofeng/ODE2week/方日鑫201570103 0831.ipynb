{
 "cells": [
  {
   "cell_type": "markdown",
   "metadata": {},
   "source": [
    "# 一次有理整式"
   ]
  },
  {
   "cell_type": "markdown",
   "metadata": {
    "collapsed": true
   },
   "source": [
    "所谓有理整式，即指只通过加减乘除得到的一些表达式。而“一次”是指，对于$y$或$\\frac{\\mathrm d y}{\\mathrm d x},...,\\frac{ d^{n}y}{d x ^{n}}$\n",
    "，我们将某一个，比方$\\frac{\\mathrm d^{m} y}{\\mathrm d x^{m}}$,视作变量，其他视为常数，则$\\frac{\\mathrm d^{m} y}{\\mathrm d x^{m}}$必须是一次的，然后由很多这些一次的单式相加而成"
   ]
  },
  {
   "cell_type": "markdown",
   "metadata": {},
   "source": [
    "# 通解中常数的独立性"
   ]
  },
  {
   "cell_type": "markdown",
   "metadata": {},
   "source": [
    "关于解对于常数的独立性是指，对$\\varphi$及其n-1阶导数关于$c_1,c_2,\\cdots,c_n$的Jacobi行列式\n",
    "$$\n",
    "\\begin{vmatrix}\n",
    "    \\frac{\\partial \\varphi}{\\partial c_1}  & \\frac{\\partial \\varphi}{\\partial c_2} & \\cdots &\\frac{\\partial \\varphi}{\\partial c_n} \\\\\n",
    "    \\frac{\\partial ^{2} \\varphi}{\\partial c_1^{2}}  & \\frac{\\partial^{2} \\varphi}{\\partial c_2^{2}} & \\cdots &\\frac{\\partial^{2} \\varphi}{\\partial c_n^{2}} \\\\\n",
    "    \\vdots                                 & \\vdots                                & \\ddots &\\vdots                                \\\\\n",
    "    \\frac{\\partial^{n} \\varphi}{\\partial c_1^{n}}  & \\frac{\\partial^{n} \\varphi}{\\partial c_2^{n}} & \\cdots &\\frac{\\partial^{n} \\varphi}{\\partial c_n^{n}}\n",
    "\\end{vmatrix}\n",
    "$$\n",
    "不为零。"
   ]
  },
  {
   "cell_type": "markdown",
   "metadata": {},
   "source": [
    " 设 $\\mathbf y_1(t)$ 是\n",
    "\n",
    " $$\\frac{d\\mathbf y}{dt}=\\mathbf f(\\mathbf y), \\mathbf y(0) = \\mathbf y_0$$\n",
    " \n",
    "解, 则 $\\mathbf y_2(t)= \\mathbf y_1(t - t_0)$ 是\n",
    "$$\\frac{d\\mathbf y}{dt}=\\mathbf f(\\mathbf y), \\mathbf y(t_0) = \\mathbf y_0$$\n",
    "的解."
   ]
  },
  {
   "cell_type": "markdown",
   "metadata": {},
   "source": [
    "### 我们可以轻松地发现，$\\mathbf y_2$只是相对于$\\mathbf y_1(t)$作了一个时间上的平移，我们可以强烈地感觉到这是对的，下面我们着手验证"
   ]
  },
  {
   "cell_type": "markdown",
   "metadata": {},
   "source": [
    "由于$\\mathbf y_2$是向量值函数，我们只需考虑每个分量相等即可，故此，下面只需考虑一元函数即可。\n"
   ]
  },
  {
   "cell_type": "markdown",
   "metadata": {},
   "source": [
    "$$\\frac{d y_2}{d t}=\\frac{ y_1(t-t_0)}{d (t-t_0)} \\frac{d(t-t_0)}{dt}=f(y_1(t-t_0))=f(y_2(t))$$\n",
    "对于初值，$\\mathbf y_2(t_0)=\\mathbf y_1(t_0-t_0)=\\mathbf y_1(0)=\\mathbf y_0$\n",
    "\n",
    "于是得到验证"
   ]
  }
 ],
 "metadata": {
  "kernelspec": {
   "display_name": "SageMath 7.3",
   "language": "",
   "name": "sagemath"
  },
  "language_info": {
   "codemirror_mode": {
    "name": "ipython",
    "version": 2
   },
   "file_extension": ".py",
   "mimetype": "text/x-python",
   "name": "python",
   "nbconvert_exporter": "python",
   "pygments_lexer": "ipython2",
   "version": "2.7.10"
  }
 },
 "nbformat": 4,
 "nbformat_minor": 0
}
