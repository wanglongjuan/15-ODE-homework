{
 "cells": [
  {
   "cell_type": "markdown",
   "metadata": {},
   "source": [
    "常微分作业-2015750408"
   ]
  },
  {
   "cell_type": "markdown",
   "metadata": {},
   "source": [
    "题目3\n",
    "  \n",
    "  (1)设x=t^k,代入得:\n",
    "\n",
    "$$k^2-1=0$$\n",
    "\n",
    "$解得k_1=1,k_2=-1$\n",
    "\n",
    "即方程的通解为$$x=c_1t+c_2\\frac{1}{t}(c_1,c_2为任意常数)$$"
   ]
  },
  {
   "cell_type": "markdown",
   "metadata": {},
   "source": [
    "(2)设x=t^k,代入得\n",
    "\n",
    "$$(k-2)(k-3)=0$$\n",
    "\n",
    "$解得:k_1=2,k_2=3$\n",
    "\n",
    "$所以方程的通解为：x=c_1t^2+c_2t^3$\n",
    "\n",
    "$利用常数变易法可得：$\n",
    "\n",
    "$$\n",
    "\\begin{cases}\n",
    "t^2c_1'(t)+t^3c_2'(t)=0\\\\\n",
    "2tc_1'(t)+3t^2c_2'(t)=\\frac{1}{t}\\\\\n",
    "\\end{cases}\n",
    "$$\n",
    "求得\n",
    "$$\n",
    "\\begin{cases}\n",
    "c_1'(t)=-\\frac{1}{t^2}\\\\\n",
    "c_2'(t)=\\frac{1}{t^3}\\\\\n",
    "\\end{cases}\n",
    "$$\n",
    "\n",
    "对两边同时积分，得\n",
    "\n",
    "$$c_1(t)=\\frac{1}{t}+c_1,c_2(t)=-\\frac{1}{2t^2}+c_2$$\n",
    "\n",
    "则方程的通解为：$$x=c_1t^2+c_2t^3+\\frac{1}{2}t$$"
   ]
  },
  {
   "cell_type": "markdown",
   "metadata": {
    "collapsed": true
   },
   "source": [
    "# <font color='red'>A  8/11"
   ]
  },
  {
   "cell_type": "code",
   "execution_count": null,
   "metadata": {
    "collapsed": true
   },
   "outputs": [],
   "source": []
  }
 ],
 "metadata": {
  "kernelspec": {
   "display_name": "SageMath 7.3",
   "language": "",
   "name": "sagemath"
  },
  "language_info": {
   "codemirror_mode": {
    "name": "ipython",
    "version": 2
   },
   "file_extension": ".py",
   "mimetype": "text/x-python",
   "name": "python",
   "nbconvert_exporter": "python",
   "pygments_lexer": "ipython2",
   "version": "2.7.10"
  }
 },
 "nbformat": 4,
 "nbformat_minor": 0
}
