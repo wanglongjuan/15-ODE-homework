{
 "cells": [
  {
   "cell_type": "markdown",
   "metadata": {
    "collapsed": true
   },
   "source": [
    "P165\n",
    "3.求下列方程的通解:"
   ]
  },
  {
   "cell_type": "markdown",
   "metadata": {},
   "source": [
    "(1)$t^2x''+tx'-x=0$;"
   ]
  },
  {
   "cell_type": "markdown",
   "metadata": {},
   "source": [
    "(2)$t^2x''-4tx'+6x=t$."
   ]
  },
  {
   "cell_type": "markdown",
   "metadata": {},
   "source": [
    "解：(1)设$x=t^k$，代入可得："
   ]
  },
  {
   "cell_type": "markdown",
   "metadata": {},
   "source": [
    "$k(k-1)+k-1=0$"
   ]
  },
  {
   "cell_type": "markdown",
   "metadata": {},
   "source": [
    "∴$k_1=1,k_2=-1$"
   ]
  },
  {
   "cell_type": "markdown",
   "metadata": {},
   "source": [
    "∴原方程的通解为：$x=c_1t+c_2\\frac{\\mathrm 1}{\\mathrm t}$"
   ]
  },
  {
   "cell_type": "markdown",
   "metadata": {},
   "source": [
    "(2)先求$t^2x''-4tx'+6x=0$的通解："
   ]
  },
  {
   "cell_type": "markdown",
   "metadata": {},
   "source": [
    "设$x=t^k$，代入可得："
   ]
  },
  {
   "cell_type": "markdown",
   "metadata": {},
   "source": [
    "$k(k-1)-4k+6=0$"
   ]
  },
  {
   "cell_type": "markdown",
   "metadata": {},
   "source": [
    "∴$k_1=2,k_2=3$"
   ]
  },
  {
   "cell_type": "markdown",
   "metadata": {},
   "source": [
    "∴该方程的通解为：$x=c_1t^2+c_2t^3$  "
   ]
  },
  {
   "cell_type": "markdown",
   "metadata": {},
   "source": [
    "可将原方程改为：$x''-4\\frac{\\mathrm x'}{\\mathrm t}+6\\frac{\\mathrm x}{\\mathrm t^2}=\\frac{\\mathrm 1}{\\mathrm t}$ "
   ]
  },
  {
   "cell_type": "markdown",
   "metadata": {},
   "source": [
    "则由常数变易法可得：$\\begin{cases}t^2c_1'(t)+t^3c_2'(t)=0\\\\2tc_1'(t)+3t^2c_2'(t)=\\frac{\\mathrm 1}{\\mathrm t}\\\\\\end{cases}$"
   ]
  },
  {
   "cell_type": "markdown",
   "metadata": {},
   "source": [
    "∴可以解得：$c_1'(t)=-\\frac{\\mathrm 1}{\\mathrm t^2},c_2'(t)=\\frac{\\mathrm 1}{\\mathrm t^3}$ "
   ]
  },
  {
   "cell_type": "markdown",
   "metadata": {},
   "source": [
    "求积分可得到：$c_1(t)=\\frac{\\mathrm 1}{\\mathrm t},c_2(t)=-\\frac{\\mathrm 1}{\\mathrm 2t^2}$"
   ]
  },
  {
   "cell_type": "markdown",
   "metadata": {},
   "source": [
    "代入可得：$x^{*}=t-\\frac{\\mathrm 1}{\\mathrm 2}$"
   ]
  },
  {
   "cell_type": "markdown",
   "metadata": {},
   "source": [
    "∴原方程的通解为：$x=c_1t^2+c_2t^3+\\frac{\\mathrm t}{\\mathrm 2}$"
   ]
  },
  {
   "cell_type": "markdown",
   "metadata": {
    "collapsed": true
   },
   "source": [
    "# <font color='red'>A  8/11"
   ]
  },
  {
   "cell_type": "code",
   "execution_count": null,
   "metadata": {
    "collapsed": true
   },
   "outputs": [],
   "source": []
  }
 ],
 "metadata": {
  "kernelspec": {
   "display_name": "SageMath 7.3",
   "language": "",
   "name": "sagemath"
  },
  "language_info": {
   "codemirror_mode": {
    "name": "ipython",
    "version": 2
   },
   "file_extension": ".py",
   "mimetype": "text/x-python",
   "name": "python",
   "nbconvert_exporter": "python",
   "pygments_lexer": "ipython2",
   "version": "2.7.10"
  }
 },
 "nbformat": 4,
 "nbformat_minor": 0
}
