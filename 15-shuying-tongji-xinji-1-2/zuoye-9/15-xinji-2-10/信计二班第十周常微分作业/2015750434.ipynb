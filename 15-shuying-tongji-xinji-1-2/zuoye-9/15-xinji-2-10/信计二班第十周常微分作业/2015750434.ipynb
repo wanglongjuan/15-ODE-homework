{
 "cells": [
  {
   "cell_type": "markdown",
   "metadata": {},
   "source": [
    "3.求下列方程的通解：\n",
    "\n",
    "\n",
    "（1）$t^2x''+tx'-x=0$;\n",
    "\n",
    "\n",
    "（2）$t^2x''-4tx'+6x=t$;"
   ]
  },
  {
   "cell_type": "markdown",
   "metadata": {},
   "source": [
    "解：(1)设$x=t^k$，得到k应满足的方程$k(k-1)+k-1=0或k^2-1=0$，因此$k_1=1,k_2=-1$,而方程的通解为$x=c_1t+c_2\\cdot \\frac{1}{t}$.\n",
    "\n",
    "(2)先求方程$t^2x''-4tx'+6x=0$的通解，设$x=t^k$,则得到k应满足的方程$k(k-1)-4k+6=0 或(k-2)(k-3)=0$,\n",
    "\n",
    "因此$k_1=2,k_2=3$,方程的通解为$x=c_1t^2+c_2t^3$.利用常数变易法，求得$c_1'(t)=-\\frac{1}{t^2},c_1(t)=\\frac{1}{t},c_2'(t)=\\frac{1}{t^3},c_2(t)=-\\frac{1}{2t^2},$\n",
    "\n",
    "所以方程的通解为$x=c_1t^2+c_2t^3+t-\\frac{1}{2}t$,$化简得x=c_1t^2+c_2t^3+\\frac{1}{2}t$."
   ]
  },
  {
   "cell_type": "markdown",
   "metadata": {
    "collapsed": true
   },
   "source": [
    "# <font color='red'>A  8/11"
   ]
  },
  {
   "cell_type": "code",
   "execution_count": null,
   "metadata": {
    "collapsed": true
   },
   "outputs": [],
   "source": []
  }
 ],
 "metadata": {
  "kernelspec": {
   "display_name": "SageMath 7.3",
   "language": "",
   "name": "sagemath"
  },
  "language_info": {
   "codemirror_mode": {
    "name": "ipython",
    "version": 2
   },
   "file_extension": ".py",
   "mimetype": "text/x-python",
   "name": "python",
   "nbconvert_exporter": "python",
   "pygments_lexer": "ipython2",
   "version": "2.7.10"
  }
 },
 "nbformat": 4,
 "nbformat_minor": 0
}
