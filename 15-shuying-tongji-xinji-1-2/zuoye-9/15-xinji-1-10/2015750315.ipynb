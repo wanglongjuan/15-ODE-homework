{
 "cells": [
  {
   "cell_type": "markdown",
   "metadata": {},
   "source": [
    "1.\n",
    "令 $ x=t^k $ 代入方程得\n",
    "$$\n",
    "k(k-1)t^k+kt^k-t^k = 0 \n",
    "$$,得到 $ k^2 =1 $ ,$ k=1,-1 $\n",
    "所以方程的通解为 \n",
    "$$\n",
    "x=c_1t+c_2\\frac{1}{t}\n",
    "$$\n",
    "$c_1,c_2 $为任意常数."
   ]
  },
  {
   "cell_type": "markdown",
   "metadata": {},
   "source": [
    "2.\n",
    "设$x=t^k$\n",
    "\n",
    "带入方程得$k(k-1)-4k+6=0$,得$k_1=2,k_2=3$\n",
    "\n",
    "\n",
    "即原方程通解为$x=c_1t^2+c_2t^3$\n",
    "\n",
    "\n",
    "用常数变异法,求$x_1c_1(t)\\cdot t^2+c_2(t)\\cdot t^3$的一个特解，得\n",
    "\n",
    "$$\n",
    "\\begin{cases}t^2{c'}_1(t)t^3{c'}_2(t)=0\\\\\n",
    "2t{c'}_1(t)+3t^2{c'}_2(t)=\\frac{1}{t}\\\\\\end{cases}\n",
    "$$\n",
    "\n",
    "解得\n",
    "\n",
    "$$\n",
    "\\begin{cases}c'_1(t)=-\\frac{1}{t^2}\\\\c'_2(t)=\\frac{1}{t^3}\\\\\\end{cases}\n",
    "$$\n",
    "积分得\n",
    "\n",
    "$$\n",
    "c_1(t)=\\frac{1}{t}+c_1,c_2(t)=-\\frac{1}{2t^2}+c_2\n",
    "$$\n",
    "\n",
    "得通解为\n",
    "\n",
    "$$\n",
    "x=c_1t^2+c_2t^3+\\frac{1}{2}t\n",
    "$$"
   ]
  },
  {
   "cell_type": "markdown",
   "metadata": {
    "collapsed": true
   },
   "source": [
    "# <font color='red'>A  8/11"
   ]
  },
  {
   "cell_type": "code",
   "execution_count": null,
   "metadata": {
    "collapsed": true
   },
   "outputs": [],
   "source": []
  }
 ],
 "metadata": {
  "kernelspec": {
   "display_name": "SageMath 7.3",
   "language": "",
   "name": "sagemath"
  },
  "language_info": {
   "codemirror_mode": {
    "name": "ipython",
    "version": 2
   },
   "file_extension": ".py",
   "mimetype": "text/x-python",
   "name": "python",
   "nbconvert_exporter": "python",
   "pygments_lexer": "ipython2",
   "version": "2.7.10"
  }
 },
 "nbformat": 4,
 "nbformat_minor": 0
}
