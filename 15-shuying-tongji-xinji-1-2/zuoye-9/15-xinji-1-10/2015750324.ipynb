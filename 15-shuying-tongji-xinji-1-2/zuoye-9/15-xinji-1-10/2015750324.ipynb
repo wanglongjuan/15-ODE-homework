{
 "cells": [
  {
   "cell_type": "markdown",
   "metadata": {},
   "source": [
    "3.求下列方程的通解：\n",
    "\n",
    "（1）$t^2x''+tx'-x=0$\n",
    "\n",
    "（2）$t^2x''-4tx'+6x=t$"
   ]
  },
  {
   "cell_type": "markdown",
   "metadata": {},
   "source": [
    "（1）\n",
    "\n",
    "解：设$x=t^k$,得到方程$$k(k-1)+k-1=0$$\n",
    "\n",
    "即$$k^2-1=0$$\n",
    "\n",
    "得到$k_1=1,k_2=-1$,所以，通解为$$x=c_1t+c_2 \\cdot \\frac1t$$"
   ]
  },
  {
   "cell_type": "markdown",
   "metadata": {},
   "source": [
    "（2）\n",
    "\n",
    "解：求方程$t^2x''-4tx'+6x=0$的通解.\n",
    "\n",
    "设$x=t^k$,得到方程$$k(k-1)-4k+6=0$$\n",
    "\n",
    "即$$(k-2)(k-3)=0$$\n",
    "\n",
    "得到$k_1=2,k_2=3$,所以，通解为$$x=c_1t^2+c_2t^3$$\n",
    "\n",
    "由常数变易法可得已知方程的形如$$x_1=c_1(t)t^2+t^3c_2(t)$$\n",
    "\n",
    "的一个特解，得到$c_1'(t)和c_2'(t)$满足代数方程组\n",
    "$$\n",
    "\\begin{cases} \n",
    "t^2c_1'(t)+t^3c_2'(t)=0 \\\\\n",
    "2tc_1'(t)+3t^1c_2'(t)=\\frac1t\n",
    "\\end{cases}\n",
    "$$\n",
    "\n",
    "解得$$c_1'(t)=-\\frac{1}{t^2},c_1(t)=\\frac1t$$\n",
    "\n",
    "$$c_2'(t)=\\frac{1}{t^3},c_2(t)=-\\frac{1}{2t^2}$$\n",
    "\n",
    "得到通解$$x=c_1t^2+c_2t^3+\\frac12t$$"
   ]
  },
  {
   "cell_type": "markdown",
   "metadata": {
    "collapsed": true
   },
   "source": [
    "# <font color='red'>A  8/11"
   ]
  },
  {
   "cell_type": "code",
   "execution_count": null,
   "metadata": {
    "collapsed": true
   },
   "outputs": [],
   "source": []
  }
 ],
 "metadata": {
  "kernelspec": {
   "display_name": "SageMath 7.3",
   "language": "",
   "name": "sagemath"
  },
  "language_info": {
   "codemirror_mode": {
    "name": "ipython",
    "version": 2
   },
   "file_extension": ".py",
   "mimetype": "text/x-python",
   "name": "python",
   "nbconvert_exporter": "python",
   "pygments_lexer": "ipython2",
   "version": "2.7.10"
  }
 },
 "nbformat": 4,
 "nbformat_minor": 0
}
