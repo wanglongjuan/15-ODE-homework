{
 "cells": [
  {
   "cell_type": "markdown",
   "metadata": {},
   "source": [
    "**3(1)**"
   ]
  },
  {
   "cell_type": "markdown",
   "metadata": {},
   "source": [
    "设$x=t^k,代入方程得到关于k的方程$\n",
    "\n",
    "$k(k-1)+k-1=0$即$k^2-1=0$\n",
    "\n",
    "因此$k_1=1,k_2=-1,从而方程的通解为x = c_1t+c_2 \\frac{1}{t}$，$其中c_1,c_2为任意常数$"
   ]
  },
  {
   "cell_type": "markdown",
   "metadata": {},
   "source": [
    "**3(2)**"
   ]
  },
  {
   "cell_type": "markdown",
   "metadata": {},
   "source": [
    "先求方程$t^2 {x^{\\prime}}^{\\prime}-4tx^{\\prime}+6x=0$的通解，设$x=t^k$,代入方程得到$k(k-1)-4k+6=0$\n",
    "\n",
    "即$(k-2)(k-3)=0$,因此$k_1=2,k_2=3$\n",
    "\n",
    "则通解为$x=c_1t^2+c_2t^3$\n",
    "\n",
    "利用常数变易法，求已知方程形如$x=c_1(t)t^2+c_2(t)t^3$的一个特解，可以得到关于$c^{\\prime}_1(t),c^{\\prime}_2(t)的方程组\n",
    "\n",
    "$\\begin{cases}\n",
    "t^2c^{\\prime}_1(t)+t^3c^{\\prime}_2(t)=0,\\\\\n",
    "2tc^{\\prime}_1(t)+3t^2c^{\\prime}_2(t)=\\frac{1}{t},\n",
    "\\end{cases}\n",
    "$解之得\n",
    "\n",
    "$\\begin{cases}\n",
    "c^{\\prime}_1(t)=-\\frac{1}{t^2}\\\\\n",
    "c^{\\prime}_2(t)=\\frac{1}{t^3}\n",
    "\\end{cases}\n",
    "$\n",
    "\n",
    "积分得到$c_1(t)=\\frac{1}{t}+c_1,c_2(t)=-\\frac{1}{2t^2}+c_2$,\n",
    "\n",
    "故方程的解为$x=c_1t^2+c_2t^3+\\frac{1}{2}t$"
   ]
  },
  {
   "cell_type": "markdown",
   "metadata": {},
   "source": [
    "# <font color='red'>A  8/11"
   ]
  },
  {
   "cell_type": "code",
   "execution_count": null,
   "metadata": {
    "collapsed": true
   },
   "outputs": [],
   "source": []
  }
 ],
 "metadata": {
  "kernelspec": {
   "display_name": "SageMath 7.3",
   "language": "",
   "name": "sagemath"
  },
  "language_info": {
   "codemirror_mode": {
    "name": "ipython",
    "version": 2
   },
   "file_extension": ".py",
   "mimetype": "text/x-python",
   "name": "python",
   "nbconvert_exporter": "python",
   "pygments_lexer": "ipython2",
   "version": "2.7.10"
  }
 },
 "nbformat": 4,
 "nbformat_minor": 0
}
