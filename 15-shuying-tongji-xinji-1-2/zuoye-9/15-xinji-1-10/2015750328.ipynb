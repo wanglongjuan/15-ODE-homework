{
 "cells": [
  {
   "cell_type": "markdown",
   "metadata": {},
   "source": [
    "求下列方程的通解：  \n",
    "\n",
    "（1）$t^2x''+tx'-x=0$\n"
   ]
  },
  {
   "cell_type": "markdown",
   "metadata": {},
   "source": [
    "解：设$x=t^k$,得到k应满足的方程：$$k(k-1)+k-1=0或k^2-1=0$$\n",
    "\n",
    "解得$$k_1=1,k_2=-1$$\n",
    "\n",
    "从而方程的通解为$$x=c_1t+c_2\\frac{1}{t},其中c_1,c_2为任意常数$$\n"
   ]
  },
  {
   "cell_type": "markdown",
   "metadata": {},
   "source": [
    "（2）$t^2x''-4tx'+6x=t$"
   ]
  },
  {
   "cell_type": "markdown",
   "metadata": {},
   "source": [
    "解：先求齐次线性微分方程$t^2x''-4tx'+6x=0$的通解：\n",
    "\n",
    "设$x=t^k$,则得到k应满足的方程$$k(k-1)-4k+6=0或(k-2)(k-3)=0$$\n",
    "\n",
    "解得$$k_1=2,k_2=3$$\n",
    "\n",
    "从而方程$t^2x''-4tx'+6x=0$的通解为$$x=c_1t^2+c_2t^3,其中c_1,c_2为任意常数$$\n",
    "再利用常数变易法，求形如$x_1=c_1(t)t^2+c_2(t)t^3$的一个特解，\n",
    "\n",
    "可得方程组\n",
    "$$\n",
    "\\begin{cases}\n",
    "t^2c'_1(t)+t^3c'_2(t)=0\\\\\n",
    "2tc'_1(t)+3t^2c'_2(t)=\\frac{1}{t}\n",
    "\\end{cases}\n",
    "$$\n",
    "\n",
    "解得$$\n",
    "\\begin{cases}\n",
    "c'_1(t)=-\\frac{1}{t^2}\\\\\n",
    "c_1(t)=\\frac{1}{t}\\\\\n",
    "c'_2(t)=\\frac{1}{t^3}\\\\\n",
    "c_2(t)=-\\frac{1}{2t^2}\n",
    "\\end{cases}\n",
    "$$\n",
    "\n",
    "从而方程的通解为$x=c_1t^2+c_2t^3+t-\\frac{1}{2}t$\n",
    "\n",
    "即通解为$$x=c_1t^2+c_2t^3+\\frac{1}{2}t,其中c_1,c_2为任意常数$$\n"
   ]
  },
  {
   "cell_type": "markdown",
   "metadata": {
    "collapsed": true
   },
   "source": [
    "# <font color='red'>A  8/11"
   ]
  },
  {
   "cell_type": "code",
   "execution_count": null,
   "metadata": {
    "collapsed": true
   },
   "outputs": [],
   "source": []
  }
 ],
 "metadata": {
  "kernelspec": {
   "display_name": "SageMath 7.3",
   "language": "",
   "name": "sagemath"
  },
  "language_info": {
   "codemirror_mode": {
    "name": "ipython",
    "version": 2
   },
   "file_extension": ".py",
   "mimetype": "text/x-python",
   "name": "python",
   "nbconvert_exporter": "python",
   "pygments_lexer": "ipython2",
   "version": "2.7.10"
  }
 },
 "nbformat": 4,
 "nbformat_minor": 0
}
