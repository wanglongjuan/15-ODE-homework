{
 "cells": [
  {
   "cell_type": "markdown",
   "metadata": {},
   "source": [
    "4.2  3\n",
    "\n",
    "（1）$设x=t^k,得到k应满足的方程$\n",
    "$$k(k-1)+k-1=0或k^2-1=0$$\n",
    "$故k_1=1,k_2=-1,而方程的通解为$\n",
    "$$x=c_1t+c_2\\frac{1}{t}$$"
   ]
  },
  {
   "cell_type": "markdown",
   "metadata": {},
   "source": [
    "(2)$先求方程t^2x''-4tx'+6x=0的通解$\n",
    "$设x=t^k,则得到k应满足的方程$\n",
    "$$k(k-1)-4k+6=0或（k-2）(k-3)=0$$\n",
    "$故k_1=2,k_2=3,而方程t^2x''-4tx'+6x=0的通解为$\n",
    "$$x=c_1t^2+c_2t^3$$\n",
    "$故利用常数变易法，求已知方程的形如x_1=c_1(t)t^2+t^3c_2(t)的一个特解，可得到c'_1(t)和c'_2(t)满足的代数方程组$\n",
    "$$\\begin{cases}\n",
    "  t^2c_1'(t)+t^3c'_2(t)=0\\\\2tc_1'(t)+3tc'_2(t)=\\frac{1}{t}\n",
    "  \\end{cases}$$\n",
    "解得$$c'_1(t)=-\\frac{1}{t^2},c_1(t)=\\frac{1}{t}$$\n",
    "$$c'_2(t)=\\frac{1}{t^3},c_2(t)=\\frac{1}{2t^2}$$\n",
    "故方程的通解为\n",
    "$$x=c_1t^2+c_2t^3+t-\\frac{1}{2}t$$\n",
    "化简得\n",
    "$$x=c_1t^2+c_2t^3+\\frac{1}{2}t$$"
   ]
  },
  {
   "cell_type": "markdown",
   "metadata": {},
   "source": [
    "# <font color='red'>A  8/11"
   ]
  },
  {
   "cell_type": "code",
   "execution_count": null,
   "metadata": {
    "collapsed": true
   },
   "outputs": [],
   "source": []
  }
 ],
 "metadata": {
  "kernelspec": {
   "display_name": "SageMath 7.3",
   "language": "",
   "name": "sagemath"
  },
  "language_info": {
   "codemirror_mode": {
    "name": "ipython",
    "version": 2
   },
   "file_extension": ".py",
   "mimetype": "text/x-python",
   "name": "python",
   "nbconvert_exporter": "python",
   "pygments_lexer": "ipython2",
   "version": "2.7.10"
  }
 },
 "nbformat": 4,
 "nbformat_minor": 0
}
