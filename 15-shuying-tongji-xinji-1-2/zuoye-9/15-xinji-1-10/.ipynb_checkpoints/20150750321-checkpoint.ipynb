{
 "cells": [
  {
   "cell_type": "markdown",
   "metadata": {
    "collapsed": false
   },
   "source": [
    " **$p_{165}$**"
   ]
  },
  {
   "cell_type": "markdown",
   "metadata": {},
   "source": [
    "3.求下列方程的通解."
   ]
  },
  {
   "cell_type": "markdown",
   "metadata": {},
   "source": [
    "（1）$t^2x''+tx' -x =0 ;$\n",
    "\n",
    "\n",
    "解：设(1)$x=t^k$代入方程，得到关于k的方程$k(k-1)+k-1=0 或k^2 -1 =0,$\n",
    "\n",
    "因此$k_1=1,k_2=-1,从而方程的通解为x=c_1t+c_2 \\frac{1}{t},其中c_1,c_2为任意常数。$"
   ]
  },
  {
   "cell_type": "markdown",
   "metadata": {},
   "source": [
    "（2）$t^2t''-4tx'+6x=t;$\n",
    "\n",
    "解:先求方程$t^2x''-4tx'+6x=0的通解，设x=t^k 代入方程则得到关于k的方程k(k-1)-4k+6=0.$\n",
    "\n",
    "$即(k-2)(k-3)=0,因此k_1=2,k_2=3,故方程t^2x''-4tx'+6x=0的通解x=c_1t^2+c_2t^3.$\n",
    "\n",
    "故利用常数变易法，求已知方程形如$x_1=c_1(t)·t^2+c_2(t)·t^3的一个特解，可得到关于的c_1'(t),c_2'(t)方程组$\n",
    "\n",
    "$$\\begin{cases} t^2c_1'(t)+t^3 c_2'(t)=0 \\\\ 2tc_1'(t)+3t^2c_2'(t)= \\frac{1}{t},\\end{cases}$$\n",
    "\n",
    "解之得$$\\begin{cases}c_1'(t)=-\\frac{1}{t^2} ,\\\\ c_2'(t)=\\frac{1}{t^3} \\end{cases}$$\n",
    "\n",
    "积分得$c_1(t)=\\frac{1}{t}+c_1 ,c_2(t)=-\\frac{1}{2t^2}+c_2,$\n",
    "\n",
    "故方程的通解为$x=c_1t^2 +c_2t^3 +\\frac{1}{2}t.$"
   ]
  },
  {
   "cell_type": "markdown",
   "metadata": {
    "collapsed": true
   },
   "source": [
    "# <font color='red'>A  8/11"
   ]
  },
  {
   "cell_type": "code",
   "execution_count": null,
   "metadata": {
    "collapsed": true
   },
   "outputs": [],
   "source": []
  }
 ],
 "metadata": {
  "kernelspec": {
   "display_name": "Python 2",
   "language": "python",
   "name": "python2"
  },
  "language_info": {
   "codemirror_mode": {
    "name": "ipython",
    "version": 2
   },
   "file_extension": ".py",
   "mimetype": "text/x-python",
   "name": "python",
   "nbconvert_exporter": "python",
   "pygments_lexer": "ipython2",
   "version": "2.7.10"
  }
 },
 "nbformat": 4,
 "nbformat_minor": 0
}
