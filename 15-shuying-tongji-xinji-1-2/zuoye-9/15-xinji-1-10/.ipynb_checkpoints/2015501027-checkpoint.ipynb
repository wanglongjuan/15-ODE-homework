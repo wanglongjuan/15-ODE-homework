{
 "cells": [
  {
   "cell_type": "markdown",
   "metadata": {},
   "source": [
    "3.求下列方程的通解。"
   ]
  },
  {
   "cell_type": "markdown",
   "metadata": {},
   "source": [
    "(1)$t^2x''+tx'-x=0$"
   ]
  },
  {
   "cell_type": "markdown",
   "metadata": {},
   "source": [
    "解：设$x=t^k$得$k(k-1)+k-1=0$    \n",
    "$k^2-1=0$得 $k_1=1,k_2=-1$    \n",
    "所以方程通解为：$x=c_1t+c_2\\cdot \\frac{1}{t}$"
   ]
  },
  {
   "cell_type": "markdown",
   "metadata": {},
   "source": [
    "(2)$t^3x''-4tx'+6x=t$"
   ]
  },
  {
   "cell_type": "markdown",
   "metadata": {},
   "source": [
    "解：设$x=t^k$得$k(k-1)-4k+6=0$   \n",
    "$(k-2)(k-3)=0$，   $k_1=2,k_2=3$\n",
    "方程$t^3x''-4tx'+6x=0$的通解为$x=c_1t^2+c_2t^3$  \n",
    "再求方程的一个特解，设该特解为：$x_1=c_1(t)t^2+c_2(t)t^3$得  \n",
    "\\begin{cases}\n",
    "c_1'(t)t^2+c_2'(t)t^3=0\\\\\n",
    "2tc_1'(t)+3t^2c_2'(t)=\\frac{1}{t}\n",
    "\\end{cases}  \n",
    "解得$c_1'(t)=-\\frac{1}{t^2},c_2'(t)=\\frac{1}{t^3}$  \n",
    "则 $c_1(t)=\\frac{1}{t},c_2(t)=-\\frac{1}{2t^2}$  \n",
    "故方程的通解为$x=c_1t^2+c_2t^3+\\frac{t}{2}$"
   ]
  },
  {
   "cell_type": "markdown",
   "metadata": {
    "collapsed": true
   },
   "source": [
    "# <font color='red'>A  8/11"
   ]
  },
  {
   "cell_type": "code",
   "execution_count": null,
   "metadata": {
    "collapsed": true
   },
   "outputs": [],
   "source": []
  }
 ],
 "metadata": {
  "kernelspec": {
   "display_name": "SageMath 7.3",
   "language": "",
   "name": "sagemath"
  },
  "language_info": {
   "codemirror_mode": {
    "name": "ipython",
    "version": 2
   },
   "file_extension": ".py",
   "mimetype": "text/x-python",
   "name": "python",
   "nbconvert_exporter": "python",
   "pygments_lexer": "ipython2",
   "version": "2.7.10"
  }
 },
 "nbformat": 4,
 "nbformat_minor": 0
}
