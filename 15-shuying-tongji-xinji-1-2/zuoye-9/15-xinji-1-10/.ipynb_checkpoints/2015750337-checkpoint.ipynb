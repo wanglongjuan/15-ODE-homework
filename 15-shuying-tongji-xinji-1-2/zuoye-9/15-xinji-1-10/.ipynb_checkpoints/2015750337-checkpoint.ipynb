{
 "cells": [
  {
   "cell_type": "markdown",
   "metadata": {
    "collapsed": false
   },
   "source": [
    "# P165\n",
    "## 3.\n",
    "### (1)\n",
    "解：\n"
   ]
  },
  {
   "cell_type": "markdown",
   "metadata": {},
   "source": [
    "令$x=t^k$有：\n",
    "$$k(k-1)t^k+kt^k-t^k=0$$\n",
    "解得$$k_1=1,k_2=-1$$\n",
    "$\\therefore$通解为$$x=c_1t+c_2t^{-1}$$"
   ]
  },
  {
   "cell_type": "markdown",
   "metadata": {},
   "source": [
    "### (2)\n",
    "解：\n"
   ]
  },
  {
   "cell_type": "markdown",
   "metadata": {},
   "source": [
    "令$x=t^k$解得：$$k_1=2,k_2=3$$\n",
    "$\\because$通解$x=c_1t^2+c_2t^3$\n",
    "$\\therefore$有：\n",
    "$$\\begin{cases}t^2c_1^{\\prime}{t}+t^3c_2^{\\prime}(t)=0\\\\2tc_1^{\\prime}(t)+3t^2c_2^{\\prime}(t)=\\frac{1}{t}\\end{cases}$$"
   ]
  },
  {
   "cell_type": "markdown",
   "metadata": {},
   "source": [
    "$\\therefore$通解为：\n",
    "$$x=c_1t^2+c_2t^3+0.5t$$"
   ]
  },
  {
   "cell_type": "markdown",
   "metadata": {
    "collapsed": true
   },
   "source": [
    "# <font color='red'>A  8/11"
   ]
  },
  {
   "cell_type": "code",
   "execution_count": null,
   "metadata": {
    "collapsed": true
   },
   "outputs": [],
   "source": []
  }
 ],
 "metadata": {
  "kernelspec": {
   "display_name": "Python 2",
   "language": "python",
   "name": "python2"
  },
  "language_info": {
   "codemirror_mode": {
    "name": "ipython",
    "version": 2
   },
   "file_extension": ".py",
   "mimetype": "text/x-python",
   "name": "python",
   "nbconvert_exporter": "python",
   "pygments_lexer": "ipython2",
   "version": "2.7.10"
  }
 },
 "nbformat": 4,
 "nbformat_minor": 0
}
