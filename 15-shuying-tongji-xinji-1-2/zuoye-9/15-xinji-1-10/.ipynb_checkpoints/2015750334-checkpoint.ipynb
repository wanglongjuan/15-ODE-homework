{
 "cells": [
  {
   "cell_type": "markdown",
   "metadata": {},
   "source": [
    "3.求下列方程的通解(1)$$t^2 x''+t x'-x=0$$解：设$x=t^k$,则有：$$k(k-1)+k-1=0$$$$(k+1)(k-1)=0$$$$k_1=-1,k_2=1$$因此方程的通解是：$$x=c_1 t+c_2 \\frac{1}{t}$$"
   ]
  },
  {
   "cell_type": "markdown",
   "metadata": {},
   "source": [
    "3.(2)求通解：$$t^2 x''-4 t x'+6 x=t$$解：先求方程$t^2 x''-4 t x'+6 x=0$的通解，设$x=t^k$,则有：$$k(k-1)-4 k+6=0$$$$(k-2)(k-3)=0$$$$k_1=2,k_2=3$$这个非齐次线性方程的通解是：$$x=c_1 t^2+c_2 t^3$$利用常数变易法，求方程形如$x_1=c_1(t) t^2+c_2(t)t^3$的特解，则有：$$t^2 c_1'(t)+t^3 c_2'(t)=0  (1)$$$$2 t c_1'(t)+3 t^2 c_2'(t)=\\frac{1}{t}  (2)$$$$c_1'(t)=-\\frac{1}{t^2}  c_1(t)=\\frac{1}{t}$$$$c_2'(t)=\\frac{1}{t^3}  c_2(t)=-\\frac{1}{2 t^2}$$则方程的通解为$$x=c_1 t^2+c_2 t^3+t-\\frac{1}{2}t$$"
   ]
  },
  {
   "cell_type": "markdown",
   "metadata": {},
   "source": [
    "# <font color='red'>A+  8/11"
   ]
  },
  {
   "cell_type": "code",
   "execution_count": null,
   "metadata": {
    "collapsed": true
   },
   "outputs": [],
   "source": []
  }
 ],
 "metadata": {
  "kernelspec": {
   "display_name": "SageMath 7.3",
   "language": "",
   "name": "sagemath"
  },
  "language_info": {
   "codemirror_mode": {
    "name": "ipython",
    "version": 2
   },
   "file_extension": ".py",
   "mimetype": "text/x-python",
   "name": "python",
   "nbconvert_exporter": "python",
   "pygments_lexer": "ipython2",
   "version": "2.7.10"
  }
 },
 "nbformat": 4,
 "nbformat_minor": 0
}
