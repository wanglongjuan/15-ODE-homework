{
 "cells": [
  {
   "cell_type": "markdown",
   "metadata": {},
   "source": [
    "## P165 3.(1) $t^2 x''+t x'-x =0$"
   ]
  },
  {
   "cell_type": "markdown",
   "metadata": {},
   "source": [
    "**解：**"
   ]
  },
  {
   "cell_type": "markdown",
   "metadata": {},
   "source": [
    "**令$x=t^K$,得到K应该满足的方程为：**"
   ]
  },
  {
   "cell_type": "markdown",
   "metadata": {},
   "source": [
    "**$t^2 K(K-1)t^{K-2}+t K t^{K-1}-t^K=0$**"
   ]
  },
  {
   "cell_type": "markdown",
   "metadata": {},
   "source": [
    "**$K(K-1)+K-1=0$**"
   ]
  },
  {
   "cell_type": "markdown",
   "metadata": {},
   "source": [
    "**$K^2-1=0$**"
   ]
  },
  {
   "cell_type": "markdown",
   "metadata": {},
   "source": [
    "**即可得到：$K=1$或$K=-1$**"
   ]
  },
  {
   "cell_type": "markdown",
   "metadata": {},
   "source": [
    "**所以基本解组为：$x=t$和$x=\\frac{1}{t}$**"
   ]
  },
  {
   "cell_type": "markdown",
   "metadata": {},
   "source": [
    "**所以通解为：$x=c_1 t+c_2 \\frac{1}{t}$,其中$c_1,c_2$为任意常数**"
   ]
  },
  {
   "cell_type": "markdown",
   "metadata": {},
   "source": [
    "## (2) $t^2 x'' -4t x'+6x=t$"
   ]
  },
  {
   "cell_type": "markdown",
   "metadata": {},
   "source": [
    "**先来考虑$t^2 x''-4t x'+6x=0$的基本解组**"
   ]
  },
  {
   "cell_type": "markdown",
   "metadata": {},
   "source": [
    "**令$x=t^K$**"
   ]
  },
  {
   "cell_type": "markdown",
   "metadata": {},
   "source": [
    "**$t^2 K(K-1) t^{K-2}-4t K t^{K-1}+6 t^K=0$**"
   ]
  },
  {
   "cell_type": "markdown",
   "metadata": {},
   "source": [
    "**$K(K-1)-4K+6=0$**"
   ]
  },
  {
   "cell_type": "markdown",
   "metadata": {},
   "source": [
    "**$K^2-5K+6=0$**"
   ]
  },
  {
   "cell_type": "markdown",
   "metadata": {},
   "source": [
    "**$(K-2)(K-3)=0$**"
   ]
  },
  {
   "cell_type": "markdown",
   "metadata": {},
   "source": [
    "**$K_1=2,K_2=3$**"
   ]
  },
  {
   "cell_type": "markdown",
   "metadata": {},
   "source": [
    "**$x_1=c_1 t^2+c_2 t^3$**"
   ]
  },
  {
   "cell_type": "markdown",
   "metadata": {},
   "source": [
    "**利用常数变易法，设原方程的通解为:$x=c_1(t)t^2+c_2(t)t^3$**"
   ]
  },
  {
   "cell_type": "markdown",
   "metadata": {},
   "source": [
    "**$x'=c_1'(t)t^2+c_1(t)2t+c_2'(t)t^3+3t^2c_2(t)=c_1(t)2t+3t^2c_2(t)+c_1'(t)t^2+c_2'(t)t^3$**"
   ]
  },
  {
   "cell_type": "markdown",
   "metadata": {},
   "source": [
    "**令$c_1'(t)t^2+c_2'(t)t^3=0$**"
   ]
  },
  {
   "cell_type": "markdown",
   "metadata": {},
   "source": [
    "**所以$x'=c_1(t)2t+3t^2c_2(t)$**"
   ]
  },
  {
   "cell_type": "markdown",
   "metadata": {},
   "source": [
    "**$x''=c_1'(t)2t+2c_1(t)+c_2'(t)3t^2+6tc_2(t)$**"
   ]
  },
  {
   "cell_type": "markdown",
   "metadata": {},
   "source": [
    "**代入原方程中,即得：**\n",
    "\n",
    "$c_1'(t)2t^3+c_2'(t)3t^4=t$\n",
    "\n",
    "$c_1'(t)2t+c_2'(t)3t^2=\\frac{1}{t}$"
   ]
  },
  {
   "cell_type": "markdown",
   "metadata": {},
   "source": [
    "**可以得到两个条件：**\n",
    "\n",
    "$c_1'(t)t^2+c_2'(t)t^3=0$\n",
    "\n",
    "$c_1'(t)2t+c_2'(t)3t^2=\\frac{1}{t}$"
   ]
  },
  {
   "cell_type": "markdown",
   "metadata": {},
   "source": [
    "**经过求解可以得到：$c_1'(t)=-\\frac{1}{t^2}$,$c_2'(t)=\\frac{1}{t^3}$**"
   ]
  },
  {
   "cell_type": "markdown",
   "metadata": {},
   "source": [
    "**通过积分可以求得：**\n",
    "\n",
    "$c_1(t)=\\frac{1}{t}+c_1$\n",
    "\n",
    "$c_2(t)=-\\frac{1}{2t^2}+c_2$"
   ]
  },
  {
   "cell_type": "markdown",
   "metadata": {},
   "source": [
    "**代入原方程解中可得：**\n",
    "\n",
    "$x=c_1t^2+c_2t^3+\\frac{t}{2}$"
   ]
  },
  {
   "cell_type": "markdown",
   "metadata": {},
   "source": [
    "# <font color='red'>A+  8/11"
   ]
  },
  {
   "cell_type": "code",
   "execution_count": null,
   "metadata": {
    "collapsed": true
   },
   "outputs": [],
   "source": []
  }
 ],
 "metadata": {
  "kernelspec": {
   "display_name": "SageMath 7.3",
   "language": "",
   "name": "sagemath"
  },
  "language_info": {
   "codemirror_mode": {
    "name": "ipython",
    "version": 2
   },
   "file_extension": ".py",
   "mimetype": "text/x-python",
   "name": "python",
   "nbconvert_exporter": "python",
   "pygments_lexer": "ipython2",
   "version": "2.7.10"
  }
 },
 "nbformat": 4,
 "nbformat_minor": 0
}
