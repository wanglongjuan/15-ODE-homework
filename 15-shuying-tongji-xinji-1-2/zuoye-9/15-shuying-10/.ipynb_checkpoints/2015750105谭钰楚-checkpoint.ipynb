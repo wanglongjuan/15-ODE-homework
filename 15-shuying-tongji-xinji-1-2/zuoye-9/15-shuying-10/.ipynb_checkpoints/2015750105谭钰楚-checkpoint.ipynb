{
 "cells": [
  {
   "cell_type": "markdown",
   "metadata": {
    "collapsed": false
   },
   "source": [
    "求下列方程的通解\n",
    "（1）$t^2x''+tx'-x=0$\n",
    "（2）$t^2x''-4tx'+6x=t$\n",
    "\n",
    " \n",
    "\n",
    " \n",
    " \n",
    "\n",
    "\n",
    "\n",
    "\n",
    "\n",
    "\n",
    "\n",
    "\n",
    "\n",
    "\n",
    "\n"
   ]
  },
  {
   "cell_type": "markdown",
   "metadata": {
    "collapsed": true
   },
   "source": [
    "解（1）设$x=t^k$,带入原方程得$$k(k-1)+k-1=o$$,得$$k_1=1,k_2=-1$$\n",
    "则方程的通解为$$x=c_1t+c_2\\frac{1}{t}$$ 其中$c_1,c_2$为常数\n"
   ]
  },
  {
   "cell_type": "markdown",
   "metadata": {},
   "source": [
    "\n",
    "\n"
   ]
  },
  {
   "cell_type": "markdown",
   "metadata": {
    "collapsed": true
   },
   "source": [
    "解（2）先求$t^2x''-4tx'+6x=0$的通解，设$x=t^k$,带入shang上述方程得$$k(k-1)-4k+6=0$$,解得$k_1=2,k_2=3$则$t^2x''-4tx'+6x=0$的通解为$$x=c_1t^2+c_2t^3$$\n",
    "则可知方程的一个特解$$x_1=c_1(t)t^2+c_2(t)t^3$$可得方程组\n",
    "$$\n",
    "\\begin{cases}\n",
    "t^2c'1(t)+t^3c'_2(t)=0\\\\\n",
    "2tc'_1(t)+3t^2c'_2(t)=\\frac{1}{t}\n",
    "\\end{cases}\n",
    "$$\n",
    "解得$$c'_1(t)=-\\frac{1}{t^2},c'_2(t)=\\frac{1}{t^3}$$\n",
    "故方程的通解为$$x=c_1t^2+c_2t^3+\\frac{1}{2}t$$\n",
    "  \n",
    "\n",
    "\n",
    "\n",
    "\n",
    "\n",
    "\n"
   ]
  },
  {
   "cell_type": "markdown",
   "metadata": {
    "collapsed": true
   },
   "source": [
    "# <font color='red'>A 8/11"
   ]
  },
  {
   "cell_type": "code",
   "execution_count": null,
   "metadata": {
    "collapsed": true
   },
   "outputs": [],
   "source": []
  }
 ],
 "metadata": {
  "kernelspec": {
   "display_name": "Python 2",
   "language": "python",
   "name": "python2"
  },
  "language_info": {
   "codemirror_mode": {
    "name": "ipython",
    "version": 2
   },
   "file_extension": ".py",
   "mimetype": "text/x-python",
   "name": "python",
   "nbconvert_exporter": "python",
   "pygments_lexer": "ipython2",
   "version": "2.7.10"
  }
 },
 "nbformat": 4,
 "nbformat_minor": 0
}
