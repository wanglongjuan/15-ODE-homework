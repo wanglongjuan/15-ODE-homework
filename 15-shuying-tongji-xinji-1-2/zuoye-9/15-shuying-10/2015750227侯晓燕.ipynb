{
 "cells": [
  {
   "cell_type": "markdown",
   "metadata": {
    "collapsed": false
   },
   "source": [
    "求下列方程的通解：\n",
    "\n",
    "（1）$t^2x''+tx'-x=0$\n",
    "\n",
    "（2）$t^2x''-4tx'+6x=t$"
   ]
  },
  {
   "cell_type": "markdown",
   "metadata": {},
   "source": [
    "解：\n",
    " (1)寻找方程的形式解$x=t^K$\n",
    " \n",
    "  将$x=t^K$代入方程，整理得到\n",
    "  \n",
    "  得到确定K的方程$$K(K-1)+K-1=0$$\n",
    "  \n",
    "  $$K^2-1=0$$\n",
    "  \n",
    "  $$K_1=1,K_2=-1$$\n",
    "  \n",
    "  因此方程的通解为$$y=c_1t+c_2\\frac{1}{t},其中c_1,c_2为任意常数$$"
   ]
  },
  {
   "cell_type": "markdown",
   "metadata": {
    "collapsed": true
   },
   "source": [
    "（2）先求对应的齐次线性微分方程\n",
    "\n",
    "$$t^2x''-4tx'+6x=0$$\n",
    "\n",
    "的通解\n",
    "\n",
    "令$x=t^K$\n",
    "\n",
    "将$x=t^K$代入原方程，得到\n",
    "\n",
    "$$K(K-1)-4K+6=0$$\n",
    "\n",
    "$$(K-2)(K-3)=0$$\n",
    "\n",
    "$$K_1=2,K_2=3$$\n",
    "\n",
    "得到了$$x=c_1t^2+c_2t^3$$\n",
    "\n",
    "利用了常数变易法\n",
    "\n",
    "得到$$x=c_1(t)t^2+c_2(t)t^3$$\n",
    "\n",
    "将原方程变为\n",
    "$$x''-4 \\frac{1}{t}x'+6\\frac{1}{t^2}x= \\frac{1}{t}$$\n",
    "\n",
    "得到方程组\n",
    "\n",
    "$$\n",
    "\\begin{cases}\n",
    "c'_1(t)t^2+c'_2(t)t^3=0\\\\\n",
    "c'_1(t)2t+c'_2(t)3t^2=\\frac{1}{t}\\\\\n",
    "\\end{cases}\n",
    "$$\n",
    "\n",
    "解方程组，得到\n",
    "$$c'_1(t)=-\\frac{1}{t^2},c'_2(t)=\\frac{1}{t^3},c_1(t)=\\frac{1}{t},c_2(t)=-\\frac{1}{2t^2}$$\n",
    "\n",
    "故方程的通解为$$x=c_1t^2+c_2t^3+\\frac{1}{2}t,其中c_1,c_2为任意常数$$"
   ]
  },
  {
   "cell_type": "markdown",
   "metadata": {
    "collapsed": true
   },
   "source": [
    "# <font color='red'>A+  8/11"
   ]
  },
  {
   "cell_type": "code",
   "execution_count": null,
   "metadata": {
    "collapsed": true
   },
   "outputs": [],
   "source": []
  }
 ],
 "metadata": {
  "kernelspec": {
   "display_name": "Python 2",
   "language": "python",
   "name": "python2"
  },
  "language_info": {
   "codemirror_mode": {
    "name": "ipython",
    "version": 2
   },
   "file_extension": ".py",
   "mimetype": "text/x-python",
   "name": "python",
   "nbconvert_exporter": "python",
   "pygments_lexer": "ipython2",
   "version": "2.7.10"
  }
 },
 "nbformat": 4,
 "nbformat_minor": 0
}
