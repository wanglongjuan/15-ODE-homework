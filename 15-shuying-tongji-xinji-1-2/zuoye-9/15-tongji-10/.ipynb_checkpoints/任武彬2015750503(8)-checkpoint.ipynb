{
 "cells": [
  {
   "cell_type": "markdown",
   "metadata": {},
   "source": [
    "3.$（1）解：设x=t^k,代入得方程k^2-1=0,所以k_1=1,k_2=-1,方程的通解为x=c_1t+c_2(1/t),其中c_1，c_2是任意常数。$\n",
    " "
   ]
  },
  {
   "cell_type": "markdown",
   "metadata": {},
   "source": [
    "$（2）解：求t^2x''-4tx'+6x=0的通解，设x=t^k,代入方程得k(k-1)-4K+6=0,所以k_1=2,k_2=3,所以方程t^2x''-4tx'+6x=0的解为 x=c_1t^2+_2t^3.利用常数变易法，可求方程x_1=c_1（t）t^2+c_2(t)t^3的一个特解，得关于c'_1(t),c'_2(t)的方程组 t^2c'_1(t)+t^3c'_2(t)=0;2tc'_1(t)+3t^2c'_2(t)=1/t.解得c'_1(t)=1/-t^2,c'_2(t)=1/t^3,积分得到c_1（t）=1/t+c_1,c_2(t)=-1/2t^2+c_2, 所以方程的通解为x=c_1t^2+c_2t^3+t/2.$"
   ]
  },
  {
   "cell_type": "markdown",
   "metadata": {
    "collapsed": true
   },
   "source": [
    "# <font color='red'>A  8/11\n"
   ]
  },
  {
   "cell_type": "code",
   "execution_count": null,
   "metadata": {
    "collapsed": true
   },
   "outputs": [],
   "source": []
  }
 ],
 "metadata": {
  "kernelspec": {
   "display_name": "SageMath 7.3",
   "language": "",
   "name": "sagemath"
  },
  "language_info": {
   "codemirror_mode": {
    "name": "ipython",
    "version": 2
   },
   "file_extension": ".py",
   "mimetype": "text/x-python",
   "name": "python",
   "nbconvert_exporter": "python",
   "pygments_lexer": "ipython2",
   "version": "2.7.10"
  }
 },
 "nbformat": 4,
 "nbformat_minor": 0
}
