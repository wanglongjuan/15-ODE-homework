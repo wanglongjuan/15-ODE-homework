{
 "cells": [
  {
   "cell_type": "markdown",
   "metadata": {},
   "source": [
    "# 班级：15统计     姓名张玲玲       学号：2015750528\n",
    "## $3.求下列方程的通解。$"
   ]
  },
  {
   "cell_type": "markdown",
   "metadata": {},
   "source": [
    "### $(1)t^2x''+tx'-x=0$"
   ]
  },
  {
   "cell_type": "markdown",
   "metadata": {},
   "source": [
    "## $解：$\n",
    "## $设x=t^k,代入方程，得到关于k的方程$\n",
    "## $ k(k-1)+k-1=0,即k^2-1=0$\n",
    "## $因此k_1=1,k_2=-1,从而方程的通解为x=c_1t+c_2\\frac{1}{t},其中c_1,c_2为任意常数。$\n"
   ]
  },
  {
   "cell_type": "markdown",
   "metadata": {},
   "source": [
    "### $(2)t^2x''-4tx'+6x=t$"
   ]
  },
  {
   "cell_type": "markdown",
   "metadata": {},
   "source": [
    "## $解：$\n",
    "## $先求方程t^2x''-4tx'+6x=0的通解，设x=t^k,代入方程则得到关于k的方程k(k-1)-4k+6=0$\n",
    "## $即(k-2)(k-3)=0,因此k_1=2,k_2=3$\n",
    "## $故方程t^2x''-4tx'+6x=0的通解为x=c_1t^2+c_2t^3.$\n",
    "## $故利用常数变易法，求已知方程形如x_1=c_1(t)t^2+c_2(t)t^3的一个特解，可得关于c'_1(t),c'_2(t)的方程组$\n",
    "## $$ \\begin {cases}\n",
    "t^2c_1'(t)+t^3c_2'(t)=0\\\\\n",
    "2tc_1'(t)+3t^2c_2(t)=\\frac{1}{t}\n",
    "\\end {cases}$$\n",
    "## $解之得：$\n",
    "## $$ \\begin {cases}\n",
    " c_1'(t)=-\\frac{1}{t^2}\\\\\n",
    " c_2(t)=\\frac{1}{t^3}\n",
    "\\end {cases}$$\n",
    "## $积分得c_1(t)=\\frac{1}{t}+c_1,c_2(t)=-\\frac{1}{2t^2}+c_2$\n",
    "## $故方程的通解为x=c_1t^2+c_2t^3+\\frac{1}{2}t$"
   ]
  },
  {
   "cell_type": "markdown",
   "metadata": {
    "collapsed": true
   },
   "source": [
    "# <font color='red'>A  8/11"
   ]
  },
  {
   "cell_type": "code",
   "execution_count": null,
   "metadata": {
    "collapsed": true
   },
   "outputs": [],
   "source": []
  }
 ],
 "metadata": {
  "kernelspec": {
   "display_name": "Python 2",
   "language": "python",
   "name": "python2"
  },
  "language_info": {
   "codemirror_mode": {
    "name": "ipython",
    "version": 2
   },
   "file_extension": ".py",
   "mimetype": "text/x-python",
   "name": "python",
   "nbconvert_exporter": "python",
   "pygments_lexer": "ipython2",
   "version": "2.7.10"
  }
 },
 "nbformat": 4,
 "nbformat_minor": 0
}
