{
 "cells": [
  {
   "cell_type": "markdown",
   "metadata": {},
   "source": [
    "$$常微分作业$$\n",
    "\n",
    "$3.求下列方程的通解:$\n",
    "\n",
    "$(1)t^2x\"+tx'-x=0;$\n",
    "\n",
    "$解：$\n",
    "\n",
    "$这是一个x关于t的欧拉方程，令:$\n",
    "\n",
    "$$x=t^K$$\n",
    "\n",
    "$代入方程，并约去因子t^K,得$\n",
    "\n",
    "$$(K-1)(K+1)=0$$\n",
    "\n",
    "$解得：$\n",
    "\n",
    "$$K=1或K=-1.$$\n",
    "\n",
    "$得到方程的基本解组:$\n",
    "\n",
    "$$t^1   \\quad\\quad t^{-1}$$\n",
    "\n",
    "$从而方程的通解为:$\n",
    "\n",
    "$$x=c_1t+c_2\\frac{1}{t}.$$"
   ]
  },
  {
   "cell_type": "markdown",
   "metadata": {},
   "source": [
    "$(2)t^2x\"-4tx'+6x=t;$\n",
    "\n",
    "$解：$\n",
    "\n",
    "$先求方程t^2x\"-4tx'+6x=0的通解$\n",
    "\n",
    "$假设x=t^K,代入方程，并约去因子t^K,得$\n",
    "\n",
    "$$K(K-1)-4K+6=0.$$\n",
    "\n",
    "$即$\n",
    "\n",
    "$$(K-2)(K-3)=0.$$\n",
    "\n",
    "$解出K:$\n",
    "\n",
    "$$K=2或者K=3.$$\n",
    "\n",
    "$$得到方程的基本解组:$\n",
    "\n",
    "$$t^2   \\quad\\quad t^3$$\n",
    "\n",
    "$从而方程的通解为:$\n",
    "\n",
    "$$x=c_1t^2+c_2t^3\\frac{1}{t}.$$\n",
    "\n",
    "$再利用常数变异法，求已知方程形如:$\n",
    "\n",
    "$$x_1=c_1t^2+c_2t^3\\frac{1}{t}.$$\n",
    "\n",
    "$的特解.可得关于c'_1(t),c'_2(t)的方程组:$\n",
    "\n",
    "$$\\begin{cases}\n",
    " t^2c'_1(t)+t^3c'_2(t)=0,\\\\\n",
    " 2tc'_1(t)+3t^2c'_2(t)=\\frac{1}{t},\n",
    "\\end{cases}$$\n",
    "\n",
    "$解之，得:$\n",
    "\n",
    "$$\\begin{cases}\n",
    " c'_1(t)=-\\frac{1}{t^2},\\\\\n",
    "c'_2(t)=\\frac{1}{t^3},\n",
    "\\end{cases}$$\n",
    "\n",
    "$积分，得$\n",
    "\n",
    "$$c_1(t)=\\frac{1}{t}+c_1,c_2(t)=-\\frac{1}{2t^2}+c_2,$$\n",
    "\n",
    "$故方程的通解为:$\n",
    "\n",
    "$$x=c_1t^2+c_2t^3\\frac{1}{t}+\\frac{1}{2}.$$"
   ]
  },
  {
   "cell_type": "markdown",
   "metadata": {
    "collapsed": true
   },
   "source": [
    "# <font color='red'>A  8/11"
   ]
  },
  {
   "cell_type": "code",
   "execution_count": null,
   "metadata": {
    "collapsed": true
   },
   "outputs": [],
   "source": []
  }
 ],
 "metadata": {
  "kernelspec": {
   "display_name": "SageMath 7.3",
   "language": "",
   "name": "sagemath"
  },
  "language_info": {
   "codemirror_mode": {
    "name": "ipython",
    "version": 2
   },
   "file_extension": ".py",
   "mimetype": "text/x-python",
   "name": "python",
   "nbconvert_exporter": "python",
   "pygments_lexer": "ipython2",
   "version": "2.7.10"
  }
 },
 "nbformat": 4,
 "nbformat_minor": 0
}
