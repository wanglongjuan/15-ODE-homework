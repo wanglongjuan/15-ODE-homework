{
 "cells": [
  {
   "cell_type": "markdown",
   "metadata": {},
   "source": [
    "# 常微分作业八\n",
    "**$姓名：郭秋菊  ~~~~班级：15统计班~~~~~学号：2015750535$**\n",
    "\n",
    "\n",
    "**P165**\n",
    "\n",
    "**第三题**\n",
    "\n",
    "$求下列方程的通解：$\n",
    "\n",
    "$(1)t^2x''+tx'-x=0$\n",
    "\n",
    "$解：其为欧拉方程。令x=t^k,则原方程可化为：$\n",
    "\n",
    "$k(k-1)+k-1=0,可得k=+1,-1.$\n",
    "\n",
    "$可得到方程的通解为：x=c_1t+c_2t^{-1}.$\n",
    "\n",
    "$(2)t^2x''-4tx'+6x=t$\n",
    "\n",
    "$解:令t=e^s,s=lnt，因为\\frac{\\mathrm dx}{\\mathrm dt}=\\frac{\\mathrm dx}{\\mathrm ds}\\frac{\\mathrm ds}{\\mathrm dt}=e^{-s}\\frac{\\mathrm dx}{\\mathrm ds}则原方程可化为：$\n",
    "\n",
    "$\\frac{\\mathrm d^{2}x}{\\mathrm ds^2}-5\\frac{\\mathrm dx}{\\mathrm ds}+6x=e^s$\n",
    "\n",
    "$可得其特征方程为：\\lambda^2-5\\lambda+6=0,解得\\lambda的值为：2，3.$\n",
    "\n",
    "$因为f(s)=e^s,\\lambda=1不是特征方程的根，所以设\\tilde{x}=Ae^s,带入原方程得：$\n",
    "\n",
    "$A=\\frac{1}{2},则其通解为：x=c_1e^{2s}+c_2e^{3s}+\\frac{1}{2}e^s,即得到其通解为：x=c_1t^2+c_2t^3+\\frac{1}{2}t$"
   ]
  },
  {
   "cell_type": "markdown",
   "metadata": {
    "collapsed": true
   },
   "source": [
    "# <font color='red'>A  8/11"
   ]
  },
  {
   "cell_type": "code",
   "execution_count": null,
   "metadata": {
    "collapsed": true
   },
   "outputs": [],
   "source": []
  }
 ],
 "metadata": {
  "kernelspec": {
   "display_name": "SageMath 7.3",
   "language": "",
   "name": "sagemath"
  },
  "language_info": {
   "codemirror_mode": {
    "name": "ipython",
    "version": 2
   },
   "file_extension": ".py",
   "mimetype": "text/x-python",
   "name": "python",
   "nbconvert_exporter": "python",
   "pygments_lexer": "ipython2",
   "version": "2.7.10"
  }
 },
 "nbformat": 4,
 "nbformat_minor": 0
}
