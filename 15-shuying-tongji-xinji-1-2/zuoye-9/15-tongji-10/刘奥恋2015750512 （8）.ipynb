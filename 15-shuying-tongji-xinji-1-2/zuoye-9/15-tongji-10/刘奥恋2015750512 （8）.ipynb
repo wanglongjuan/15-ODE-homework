{
 "cells": [
  {
   "cell_type": "markdown",
   "metadata": {},
   "source": [
    "### 第八次常微分作业 2015750512 刘奥恋###"
   ]
  },
  {
   "cell_type": "markdown",
   "metadata": {},
   "source": [
    "$$（1）t^2x''+tx'-x=0$$\n",
    "\n",
    "$解：设x=t^k，代入方程，得到方程关于k的方程$\n",
    "\n",
    "$k(k-1)+k-1=0$\n",
    "\n",
    "$可得k_1=1\\quad k_2=-1，可得方程的通解为x=c_1t+c_2\\frac{1}{t}$\n",
    "\n",
    "$c_1,c_2为任意常数$"
   ]
  },
  {
   "cell_type": "markdown",
   "metadata": {},
   "source": [
    "$$t^2x''-4tx'+6x=t$$\n",
    "\n",
    "$解：先求方程t^2x''-4tx'+6x=0的通解，设x=t^k$\n",
    "\n",
    "$代入方程则得到关于k的方程k(k-1)+4k+6=0$\n",
    "\n",
    "$即(k-2)(k-3)=0，因此k_1=2,k_2=3$\n",
    "\n",
    "$故方程t^2x''-4tx'+6x=0的通解为x=c_1t^2+c_2t^3$\n",
    "\n",
    "$利用常数变易法，求已知方程形如x_1=c_1t^2+c_2t^3的一个特解，可得关于c'_1(t),c'_2(t)的方程组：$\n",
    "\n",
    "$$\\left\\{\\begin{array}\\\\t^2x''-4tx'+6x=0\\\\2tc'_1(t)+3t^2c_2'(t)=\\frac{1}{c} \\end{array}\\right.$$\n",
    "\n",
    "$$\\left\\{\\begin{array}\\\\c_1'(t)=-\\frac{1}{t^2}\\\\c_2'(t)=\\frac{1}{t^3} \\end{array}\\right.$$\n",
    "\n",
    "$积分得c_1(t)=\\frac{1}{t}+c)_1,c_2(t)=-\\frac{1}{2t^2}+c_2$\n",
    "\n",
    "$故方程的通解为x=c_1t^2+c_2t^3+\\frac{1}{2}t$\n"
   ]
  },
  {
   "cell_type": "markdown",
   "metadata": {},
   "source": [
    "# <font color='red'>A  8/11"
   ]
  },
  {
   "cell_type": "code",
   "execution_count": null,
   "metadata": {
    "collapsed": true
   },
   "outputs": [],
   "source": []
  }
 ],
 "metadata": {
  "kernelspec": {
   "display_name": "SageMath 7.3",
   "language": "",
   "name": "sagemath"
  },
  "language_info": {
   "codemirror_mode": {
    "name": "ipython",
    "version": 2
   },
   "file_extension": ".py",
   "mimetype": "text/x-python",
   "name": "python",
   "nbconvert_exporter": "python",
   "pygments_lexer": "ipython2",
   "version": "2.7.10"
  }
 },
 "nbformat": 4,
 "nbformat_minor": 0
}
