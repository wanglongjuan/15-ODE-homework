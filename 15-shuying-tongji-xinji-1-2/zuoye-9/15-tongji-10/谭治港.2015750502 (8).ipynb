{
 "cells": [
  {
   "cell_type": "markdown",
   "metadata": {},
   "source": [
    "                                            常微分作业\n",
    "                                    姓名：谭治港    学号：2015750502\n",
    "                                    "
   ]
  },
  {
   "cell_type": "markdown",
   "metadata": {},
   "source": [
    "$P165T3$\n",
    "\n",
    "$（1）设x=t^k,代入方程,得到关于k的方程k^2-1=0,所以k_1=1,k_2=-1$\n",
    "\n",
    "$从而方程的通解为x=c_1t+c_2\\frac{1}{t},\\quad 其中c_1，c_2是任意的常数$"
   ]
  },
  {
   "cell_type": "markdown",
   "metadata": {},
   "source": [
    "$(2)先求t^2x''-4tx'+6x=0的通解，设x=t^k,代入方程得到关于k的方程k(k-1)-4K+6=0$\n",
    "\n",
    "$则有k_1=2,k_2=3,\\quad 所以方程t^2x''-4tx'+6x=0的通解为x=c_1t^2+c_2t^3$\n",
    "\n",
    "$利用常数变易法，可得x_1=c_1(t)t^2+c_2(t)t^3的一个特解$\n",
    "\n",
    "$可得关于c'_1(t),c'_2(t)的方程组t^2c'_1(t)+t^3c'_2(t)=0，\\quad 2tc'_1(t)+3t^2c'_2(t)=\\frac{1}{t}$\n",
    "\n",
    "$从而有c'_1(t)=\\frac{1}{-t^2},c'_2(t)=\\frac{1}{t^3},\\quad积分得到c_1(t)=\\frac{1}{t}+c_1,c_2(t)=\\frac{-1}{2t^2}+c_2$\n",
    "\n",
    "$故方程的通解为x=c_1t^2+c_2t^3+\\frac{t}{2}$\n"
   ]
  },
  {
   "cell_type": "markdown",
   "metadata": {
    "collapsed": true
   },
   "source": [
    "# <font color='red'>A  8/11"
   ]
  },
  {
   "cell_type": "code",
   "execution_count": null,
   "metadata": {
    "collapsed": true
   },
   "outputs": [],
   "source": []
  }
 ],
 "metadata": {
  "kernelspec": {
   "display_name": "SageMath 7.3",
   "language": "",
   "name": "sagemath"
  },
  "language_info": {
   "codemirror_mode": {
    "name": "ipython",
    "version": 2
   },
   "file_extension": ".py",
   "mimetype": "text/x-python",
   "name": "python",
   "nbconvert_exporter": "python",
   "pygments_lexer": "ipython2",
   "version": "2.7.10"
  }
 },
 "nbformat": 4,
 "nbformat_minor": 0
}
