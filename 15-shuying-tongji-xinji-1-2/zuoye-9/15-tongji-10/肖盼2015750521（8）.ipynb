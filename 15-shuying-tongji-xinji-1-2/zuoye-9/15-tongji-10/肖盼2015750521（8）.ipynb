{
 "cells": [
  {
   "cell_type": "markdown",
   "metadata": {
    "collapsed": false
   },
   "source": [
    "# $$作业八$$"
   ]
  },
  {
   "cell_type": "markdown",
   "metadata": {},
   "source": [
    "## 3.求下列方程的通解"
   ]
  },
  {
   "cell_type": "markdown",
   "metadata": {},
   "source": [
    "### (1)$t^2x^{''}+tx^{'}-x=0;$"
   ]
  },
  {
   "cell_type": "markdown",
   "metadata": {},
   "source": [
    "解：设$x=t^k$，得到$k$满足的方程：\n",
    "$$k(k-1)+k-1=0$$\n",
    "$$k^2-1=0$$\n",
    "解得：\n",
    "$$k_1=1,k_2=-1$$\n",
    "方程的通解：\n",
    "$$x=c_1t+c_2 \\frac{\\mathrm 1}{\\mathrm t} \\ln|t|$$\n",
    "其中$c_1,c_2$是任意常数"
   ]
  },
  {
   "cell_type": "markdown",
   "metadata": {},
   "source": [
    "### (2)$t^2x^{''}-4tx^{'}+6x=0;$"
   ]
  },
  {
   "cell_type": "markdown",
   "metadata": {},
   "source": [
    "解：设$x=t^k$，得到$k$满足的方程：\n",
    "$$k(k-1)-4k+6=0$$\n",
    "$$k^2-5k+6=0$$\n",
    "解得：\n",
    "$$k_1=2,k_2=3$$\n",
    "方程的通解：\n",
    "$$x=c_1t^2+c_2t^3 $$\n",
    "其中$c_1,c_2$是任意常数\n",
    "利用常数变易法，则方程变为：\n",
    "$$x=c_1(t)t^2+c_2(t)t^3$$\n",
    "则有：\n",
    "$$\n",
    "\\begin{cases}\n",
    "c^{'}_1(t)t^2+c^{'}_2(t)t^3=0     \\\\\n",
    "2c^{'}_1(t)t+3c^{'}_2(t)t^2=\\frac{\\mathrm 1}{\\mathrm t}\n",
    "\\end{cases}\n",
    "$$\n",
    "解得：$$c^{'}_1(t)=-\\frac{\\mathrm 1}{\\mathrm t^2},c^{'}_2(t)=\\frac{\\mathrm 1}{\\mathrm t^3}$$\n",
    "积分得：\n",
    "$$c_1(t)=\\frac{\\mathrm 1}{\\mathrm t},c_2(t)=-\\frac{\\mathrm 1}{\\mathrm 2t^2}$$\n",
    "方程的通解：\n",
    "$$x=c_1t^2+c_2t^3+\\frac{\\mathrm 1}{\\mathrm 2}t $$\n",
    "其中$c_1,c_2$是任意常数"
   ]
  },
  {
   "cell_type": "markdown",
   "metadata": {},
   "source": [
    "# <font color='red'>A  8/11"
   ]
  },
  {
   "cell_type": "code",
   "execution_count": null,
   "metadata": {
    "collapsed": true
   },
   "outputs": [],
   "source": []
  }
 ],
 "metadata": {
  "kernelspec": {
   "display_name": "Python 2",
   "language": "python",
   "name": "python2"
  },
  "language_info": {
   "codemirror_mode": {
    "name": "ipython",
    "version": 2
   },
   "file_extension": ".py",
   "mimetype": "text/x-python",
   "name": "python",
   "nbconvert_exporter": "python",
   "pygments_lexer": "ipython2",
   "version": "2.7.10"
  }
 },
 "nbformat": 4,
 "nbformat_minor": 0
}
