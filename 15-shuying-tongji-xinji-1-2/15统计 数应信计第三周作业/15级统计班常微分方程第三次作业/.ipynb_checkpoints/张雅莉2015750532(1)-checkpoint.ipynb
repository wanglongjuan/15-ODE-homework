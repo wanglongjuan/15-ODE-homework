{
 "cells": [
  {
   "cell_type": "markdown",
   "metadata": {},
   "source": [
    "$P48 页1、求下列方程的解。$\n",
    "\n",
    "$（4）\\frac{dy}{dx}-\\frac{n}{x}y=e^xx^n$\n",
    "\n",
    "$（15）\\frac{dy}{dx}=\\frac{1}{xy+x^3y^3}$\n",
    "\n",
    "$（16）y=e^x+\\int_0^x\\mathrm y(t)\\,\\mathrm{d}t$\n",
    "\n",
    "$解：（4）先求齐次方程\\frac{dy}{dx}-\\frac{n}{x}y=0的通解$\n",
    "\n",
    "$因为\\frac{dy}{dx}=\\frac{n}{x}y，所以\\frac{dy}{y}=n\\frac{dx}{x}$\n",
    "\n",
    "$两边积分，得y=cx^n$\n",
    "\n",
    "$设所求方程的通解为y=c(x）x^n$\n",
    "\n",
    "$求导后代入原方程，得\\frac{dy}{dx}=\\frac{d(c(x))}{dx}x^n=e^xx^n$\n",
    "\n",
    "$c(x)=e^x+c_1$\n",
    "\n",
    "$原方程得通解为y=e^xx^n+c_1x^n（其中c_1为任意常数）$\n",
    "\n",
    "$（15）将原方程改写为y\\frac{dy}{dx}=\\frac{1}{x+x^3y^2}$\n",
    "\n",
    "$令u=y^2,则\\frac{du}{dx}=\\frac{2}{x+x^3u}$\n",
    "\n",
    "$视u为自变量，x为因变量，则\\frac{dx}{du}=\\frac{x}{2}+\\frac{u}{2}x^3$\n",
    "\n",
    "$两边同时乘以{x}^{-3}，得{x}^{-3}\\frac{dx}{du}=\\frac{{x}^{-2}}{2}+\\frac{u}{2}$\n",
    "\n",
    "$令z={x}^{-3},则\\frac{dz}{du}=-z-u$\n",
    "\n",
    "$应用一阶线性方程的求解，得z={e}^{\\int\\mathrm (-1)\\,\\mathrm{d}u}(\\int\\mathrm (-u){e}^{\\int\\mathrm 1\\,\\mathrm{d}u}\\mathrm{d}u+c)=c{e}^{-u}-u+1$\n",
    "\n",
    "$代回原变量，则原方程得解为得（1-x^2+x^2y^2）{e}^{y^2}=cx^2（其中c为任意常数）$\n",
    "\n",
    "$（16）对方程y=e^x+\\int_0^x\\mathrm y(t)\\,\\mathrm{d}t两边关于x求导，得\\frac{dy}{dx}=e^x+y$\n",
    "\n",
    "$先求齐次方程\\frac{dy}{dx}-y=0的通解$\n",
    "\n",
    "$\\frac{dy}{y}=dx$\n",
    "\n",
    "$y=e^xc$\n",
    "\n",
    "$设所求方程的通解为y=c(x）e^x$\n",
    "\n",
    "$求导后代入原方程，得\\frac{dy}{dx}=e^x\\frac{d(c(x))}{dx}=e^x$\n",
    "\n",
    "$c(x)=x+c_1$\n",
    "\n",
    "$所以原方程的解为y=e^x(x+c_1)（其中c_1为任意常数）$"
   ]
  },
  {
   "cell_type": "markdown",
   "metadata": {},
   "source": [
    "# <font color='red'>特解？？"
   ]
  },
  {
   "cell_type": "markdown",
   "metadata": {},
   "source": [
    "$P50页7、求下列方程的解。$\n",
    "\n",
    "$（3）y'\\sin x\\cos x-y-\\sin^3x=0$\n",
    "\n",
    "$解：\\frac{dy}{dx}=\\frac{1}{\\sin x\\cos x}y+\\frac{\\sin^2 x}{\\cos x}(\\sin x≠0，\\cos x≠0）$\n",
    "\n",
    "$应用一阶线性方程的求解，得y={e}^{\\int\\mathrm (\\frac{1}{\\sin x\\cos x})\\,\\mathrm{d}x}(\\int\\mathrm (\\frac{\\sin^2 x}{\\cos x}){e}^{\\int\\mathrm (\\frac{-1}{\\sin x\\cos x})\\,\\mathrm{d}x}\\mathrm{d}x+c)$\n",
    "\n",
    "$y=\\tan x(\\int\\mathrm (\\frac{\\sin^2}{\\cos x})\\cot x\\mathrm{d}x+c)$\n",
    "\n",
    "$求积分并化简，得y=\\tan x(c-\\cos x),y=c\\tan x-\\sin x$\n",
    "\n",
    "$当\\sin x=0时，y=0$\n",
    "\n",
    "$当\\cos x=0时，y=±1,所以曲线为无数个点（2kπ+\\frac{π}{2},-1）和（2kπ-\\frac{π}{2},1),k=0,±1,±2,...$\n",
    "\n",
    "$综上所述，原方程得解为y=c\\tan x-\\sin x（x≠kπ+\\frac{π}{2}）(c为任意常数),或者点（2kπ+\\frac{π}{2},-1）和（2kπ-\\frac{π}{2},1),k=0,±1,±2,...$"
   ]
  },
  {
   "cell_type": "markdown",
   "metadata": {},
   "source": [
    "$P60页1、验证下列方程是恰当微分方程，并求出方程的解。$\n",
    "\n",
    "$(1)(x^2+y)dx+(x-2y)dy=0$\n",
    "\n",
    "$(2)(y-3x^2)dx-(4y-x)dy=0$\n",
    "\n",
    "$解：(1)M=x^2+y,N=x-2y$\n",
    "\n",
    "$\\frac{∂M}{∂y}=1,\\frac{∂N}{∂x}=1$\n",
    "\n",
    "$所以此方程为恰当微分方程$\n",
    "\n",
    "$因此此方程同时满足\\frac{∂u}{∂x}=x^2+y,\\frac{∂u}{∂y}=x-2y$\n",
    "\n",
    "$对方程\\frac{∂u}{∂x}=x^2+y积分，得u=\\frac{1}{3}x^3+xy+φ(y)$\n",
    "\n",
    "$对求出的u对y求偏导，得\\frac{∂u}{∂y}=x+\\frac {d(φ(y))}{y}=x-2y$\n",
    "\n",
    "$\\frac {d(φ(y))}{y}=-2y$\n",
    "\n",
    "$φ(y)=-y^2$\n",
    "\n",
    "$所以u=\\frac{1}{3}x^3+xy-y^2$\n",
    "\n",
    "$原方程的解为\\frac{1}{3}x^3+xy-y^2=c(c为任意常数)$\n",
    "\n",
    "$(2)M=y-3x^2,N=x-4y$\n",
    "\n",
    "$\\frac{∂M}{∂y}=1,\\frac{∂N}{∂x}=1$\n",
    "\n",
    "$所以此方程为恰当微分方程$\n",
    "\n",
    "$因此此方程同时满足\\frac{∂u}{∂x}=y-3x^2,\\frac{∂u}{∂y}=x-4y$\n",
    "\n",
    "$对方程\\frac{∂u}{∂x}=y-3x^2积分，得u=xy-x^3+φ(y)$\n",
    "\n",
    "$对求出的u对y求偏导，得\\frac{∂u}{∂y}=x+\\frac {d(φ(y))}{y}=x-4y$\n",
    "\n",
    "$\\frac {d(φ(y))}{y}=-4y$\n",
    "\n",
    "$φ(y)=-2y^2$\n",
    "\n",
    "$所以u=xy-x^3-2y^2$\n",
    "\n",
    "$原方程的解为xy-x^3-2y^2=c（c为任意常数）$"
   ]
  },
  {
   "cell_type": "markdown",
   "metadata": {
    "collapsed": true
   },
   "source": [
    "$补：对F(x)=\\int_{x_0}^{x}\\mathrm f(t)\\,\\mathrm{d}t求导。$\n",
    "\n",
    "$由定积分的区间可加性，得F(x+△x)-F(x)=\\int_{a}^{x+△x}\\mathrm f(t)\\,\\mathrm{d}t-\\int_{a}^{x}\\mathrm f(t)\\,\\mathrm{d}t=\\int_x^{x+△x}\\mathrm f(t)\\,\\mathrm{d}t$\n",
    "\n",
    "$当△x趋于0时，F'(x)=lim\\frac{F(x+△x)-F(x)}{△x}=f(x)$"
   ]
  },
  {
   "cell_type": "markdown",
   "metadata": {
    "collapsed": true
   },
   "source": [
    "# <font color='red'>A  19/9 "
   ]
  },
  {
   "cell_type": "code",
   "execution_count": null,
   "metadata": {
    "collapsed": true
   },
   "outputs": [],
   "source": []
  }
 ],
 "metadata": {
  "kernelspec": {
   "display_name": "SageMath 7.3",
   "language": "",
   "name": "sagemath"
  },
  "language_info": {
   "codemirror_mode": {
    "name": "ipython",
    "version": 2
   },
   "file_extension": ".py",
   "mimetype": "text/x-python",
   "name": "python",
   "nbconvert_exporter": "python",
   "pygments_lexer": "ipython2",
   "version": "2.7.10"
  }
 },
 "nbformat": 4,
 "nbformat_minor": 0
}
