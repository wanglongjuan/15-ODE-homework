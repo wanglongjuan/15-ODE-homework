{
 "cells": [
  {
   "cell_type": "markdown",
   "metadata": {},
   "source": [
    "## 常微分作业\n",
    "## 统计学 郭萱轩  \n",
    "## 学号：2015750514\n",
    "\n",
    "\n",
    "## 1.求下列方程的解\n",
    "\n",
    "（4）$ \\frac{dy}{dx}-\\frac{n}{x}y=e^xx^n $ (n为常数)；"
   ]
  },
  {
   "cell_type": "markdown",
   "metadata": {},
   "source": [
    "解;移项，即得：\n",
    "\n",
    "$$\\frac{dy}{dx}=\\frac{n}{x}y+e^xx^n;$$\n",
    "求得齐次线性微分方程\\frac{dy}{dx}-\\frac{n}{x}y=0的通解并分离变量得：\n",
    "$$\\frac{dy}{y}=\\frac{n}{x}dx$$\n",
    "对两边求积分，得：$$ln|y|=nln|x|+c;$$\n",
    "$化简可得通解y=cx^n.$\n",
    "$其次用常数变易法求非齐次线性方程的通解，将c看成为x的待定函数c（x),即：$\n",
    "$$y=c(x)x^n.$$\n",
    "$两边对x求导，得到：$\n",
    "$$\\frac{dy}{dx}=\\frac{dc(x)}{dx}x^n+c(x)nx^（n-1);$$\n",
    "综合可得：\n",
    "$$\\frac{dc(x)}{dx}x^n+c(x)nx^(n-1)=\\frac{n}{x}c(x)x^n+e^xx^n;$$\n",
    "$$\\frac{dc(x)}{dx}=e^x;$$\n",
    "$两边积分，求得c（x）=e^x+c_1.$\n",
    "$将c（x）=e^x+c_1代入y=c(x)x^n，即得原方程的通解：$\n",
    "$$y=（e^x+c_1）x^n.（其中c_1为任意常数）.$$"
   ]
  },
  {
   "cell_type": "markdown",
   "metadata": {},
   "source": [
    "$(15)\\frac{dy}{dx}=\\frac{1}{xy+x^3y^3};$"
   ]
  },
  {
   "cell_type": "markdown",
   "metadata": {},
   "source": [
    "解：显然原方程不是y关于x的线性微分方程，则将x看作y的函数，变形为：\n",
    "$$\\frac{dx}{dy}=\\frac{xy+x^3y^3}{1};$$\n",
    "$这是一个x关于y,\\frac{dx}{dy}的伯努利微分方程,利用变量变换将它化为线性微分方程:$\n",
    "$y不等于0时，两边同时乘以\\frac{1}{x^3}，得到:$\n",
    "$$\\frac{1}{x^3}\\frac{dx}{dy}=\\frac{1}{x^2}y+y^3,$$\n",
    "$引入变量变换z=\\frac{1}{x^2},两边求导有:$\n",
    "$$\\frac{dz}{dy}=-2\\frac{1}{x^3}\\frac{dx}{dy};$$\n",
    "$综合可得;$\n",
    "$$\\frac{dz}{dy}=-2yz-2y^3.$$\n",
    "$这是一个z关于y、\\frac{dz}{dy}的线性微分方程.$\n",
    "$利用线性微分的求解方法，先求\\frac{dz}{dy}+2yz=0的通解，得:$\n",
    "$$z=e^(c-y^2).$$\n",
    "$令c=c（y），即z=e^[c（y)-y^2],$\n",
    "$求微分可得:$\n",
    "$$\\frac{dz}{dy}=e^[c（y)-y^2][\\frac{dc(y)}{dy}-2y];$$\n",
    "$综合，得原方程的解为：$\n",
    "$$（1-x^2+x^2y^2)e^ye^y=cx^2.(其中c为任意常数).$$"
   ]
  },
  {
   "cell_type": "markdown",
   "metadata": {},
   "source": [
    "$(16)y=e^x+\\int_0^x\\mathrm y（t）\\,\\mathrm{d}t.$\n",
    "\n",
    "解：首先两边关于x求导，得：\n",
    "$$\\frac{dy}{dx}=e^x+y.$$\n",
    "$先求其次线性微分方程\\frac{dy}{dx}-y=0,得;$\n",
    "$$y=ce^x.$$\n",
    "$令c=c(x)，代入上式，两边求导：$\n",
    "$$\\frac{dy}{dx}=c(x)e^x+\\frac{dc(x)}{dx}e^x,$$\n",
    "$综上可得:$\n",
    "$$\\frac{dc(x)}{dx}=1$$\n",
    "$求出c(x)=x+c_1$\n",
    "$所以y=e^x(x+c_1).$\n",
    "$特别地，当x=0时，原方程为y=1，此时c_1=1.所以原方程的解为:$\n",
    "$$y=e^x(x+1).$$"
   ]
  },
  {
   "cell_type": "markdown",
   "metadata": {},
   "source": [
    "## 7.求解下列方程\n",
    "\n",
    "$（3）y'\\sin x\\cos x-y-\\sin^3 x=0$"
   ]
  },
  {
   "cell_type": "markdown",
   "metadata": {},
   "source": [
    "$解：化简移项得：$\n",
    "$$\\frac{dy}{dx}=\\frac{1}{\\sin x\\cos x}y+\\frac{\\sin^2 x}{\\cos x}$$\n",
    "\n",
    "先求其次线性微分方程\\frac{dy}{dx}-\\frac{1}{\\sin x\\cos x}y=0的通解：$\n",
    "$$y=c\\tan x.$$\n",
    "\n",
    "$求非齐次线性微分方程的通解得：$\n",
    "$$y=c(x)\\tan x$$\n",
    "\n",
    "$对两边求导可得：$\n",
    "$$\\frac{dy}{dx}=\\frac{dc(x)}{dx}\\tan x+c(x)\\sec^2 xc(x)$$\n",
    "\n",
    "$联立以上方程有\\frac{1}{\\sin x\\cos x}c(x)\\tan x+\\frac{\\sin^2 x}{\\cos x}=\\frac{dc(x)}{dx}\\tan x+c(x)\\sec^2 xc(x)$\n",
    "$化简，得：$\n",
    "$$\\frac{dc(x)}{dx}=\\sin x$$\n",
    "\n",
    "$两边求积分，有：$\n",
    "$$c(x)=-\\cos x$$\n",
    "\n",
    "$所以原方程的解为：$\n",
    "$$y=c\\tan x-\\sin x$$\n",
    "$当\\sin x=0时，原方程为y=0.$\n",
    "$当\\cos x=0时，原方程化为y=±1，曲线退化成（2kπ+π/2,-1)和（2kπ-π/2,1)，k=0，±1，±2.....$\n",
    "$综上所述，原方程的解为:$\n",
    "$$y=c\\tan x-\\sin x,(x≠kπ±π/2),c为任意常数，或者点（2kπ+π/2,-1)，（2kπ-π/2,1)，k=0，±1，±2.....$$"
   ]
  },
  {
   "cell_type": "markdown",
   "metadata": {},
   "source": [
    "## 1.验证下列方程是恰当微分方程，并求出方程的解\n",
    "\n",
    "$(1).(x^2+y)dx+（x-2y)dy=0;$\n",
    "\n",
    "解：\n",
    "$$M=x^2+y, N=x-2y$$\n",
    "$因为\\frac{∂M}{∂y}=1,\\frac{∂N}{∂x}=1.$\n",
    "$$\\frac{∂M}{∂y}=\\frac{∂N}{∂x}$$\n",
    "$所以方程是恰当微分方程.$\n",
    "$把方程重新“分项组合”，得到：$\n",
    "$$x^2dx-2ydy+(ydx+xdy)=0$$\n",
    "$$d(\\frac{x^3}{3}+xy-y^2)=0$$\n",
    "$所以方程的通解为：$\n",
    "$$\\frac{x^3}{3}+xy-y^2=c (其中c为任意常数）$$"
   ]
  },
  {
   "cell_type": "markdown",
   "metadata": {},
   "source": [
    "$(2).(y-3x^2)dx-(4y-x)dy=0;$\n",
    "\n",
    "$解:$\n",
    "\n",
    "$$M=y-3x^2 N=x-4y$$\n",
    "\n",
    "$因为\\frac{∂M}{∂y}=1,\\frac{∂N}{∂x}=1.$\n",
    "\n",
    "$$\\frac{∂M}{∂y}=\\frac{∂N}{∂x}$$\n",
    "\n",
    "$所以方程是恰当微分方程.$\n",
    "\n",
    "$把方程重新“分项组合”，得到：$\n",
    "\n",
    "$$(xdy+ydx)-3x^2dx-4ydy=0$$\n",
    "\n",
    "$$d(xy-x^3-2y^2)=0$$\n",
    "\n",
    "$所以方程的通解为：$\n",
    "\n",
    "$$xy-x^3-2y^2=c (其中c为任意常数）$$"
   ]
  },
  {
   "cell_type": "markdown",
   "metadata": {},
   "source": [
    "## 补充题：\n",
    "\n",
    "$对P(t)=\\int_{x_0}^x \\mathrm p(t)\\,\\mathrm{d}t求导.$\n",
    "\n",
    "$解：$\n",
    "\n",
    "$由区间的可加性，有：$\n",
    "\n",
    "$$P(x+△x)-P(x)=\\int_{x_0}^{x+△x} \\mathrm p(t)\\,\\mathrm{d}t-\\int_{x_0}^x \\mathrm p(t)\\,\\mathrm{d}t=\\int_x^{x+△x} \\mathrm p(t)\\,\\mathrm{d}t$$\n",
    "\n",
    "$由积分第一中值定理，有：$\n",
    "\n",
    "$$P(x+△x)-P(x)=η△x或P(ξ)△x$$\n",
    "\n",
    "$不管在哪种情况下，当△x→0时都有P(x+△x)-P(x)→0，即P(x)在（x_0,x)上连续。$\n",
    "\n",
    "$若P(x)在（x_0,x)上连续，当△x→0时有ξ→x,因而P(ξ)-P(x)，于是;$\n",
    "\n",
    "$$P'(x)=lim\\frac{P(x+△x)-P(x)}{△x}=limP(ξ)=P(x).$$"
   ]
  },
  {
   "cell_type": "markdown",
   "metadata": {
    "collapsed": true
   },
   "source": [
    "# <font color='red'>A + 19/9 "
   ]
  },
  {
   "cell_type": "code",
   "execution_count": null,
   "metadata": {
    "collapsed": true
   },
   "outputs": [],
   "source": []
  }
 ],
 "metadata": {
  "kernelspec": {
   "display_name": "SageMath 7.3",
   "language": "",
   "name": "sagemath"
  },
  "language_info": {
   "codemirror_mode": {
    "name": "ipython",
    "version": 2
   },
   "file_extension": ".py",
   "mimetype": "text/x-python",
   "name": "python",
   "nbconvert_exporter": "python",
   "pygments_lexer": "ipython2",
   "version": "2.7.10"
  }
 },
 "nbformat": 4,
 "nbformat_minor": 0
}
