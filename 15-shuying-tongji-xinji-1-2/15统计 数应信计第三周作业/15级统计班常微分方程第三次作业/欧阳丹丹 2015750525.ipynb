{
 "cells": [
  {
   "cell_type": "markdown",
   "metadata": {},
   "source": [
    "# $9月13日$"
   ]
  },
  {
   "cell_type": "markdown",
   "metadata": {},
   "source": [
    "# $1.求下列方程的解。$"
   ]
  },
  {
   "cell_type": "markdown",
   "metadata": {},
   "source": [
    "## $(4)\\frac{\\mathrm dy}{\\mathrm dx}-\\frac{\\mathrm n}{\\mathrm x}y=e^xx^n$"
   ]
  },
  {
   "cell_type": "markdown",
   "metadata": {},
   "source": [
    "### $解：上式可化为：\\frac{\\mathrm dy}{\\mathrm dx}=\\frac{\\mathrm n}{\\mathrm x}y+e^xx^n$"
   ]
  },
  {
   "cell_type": "markdown",
   "metadata": {},
   "source": [
    "### $故有：P(x)=\\frac{\\mathrm n}{\\mathrm x},Q(x)=e^xx^n$"
   ]
  },
  {
   "cell_type": "markdown",
   "metadata": {},
   "source": [
    "### $所以有：y=e^{\\int P(x)\\,\\mathrm{d}x}(\\int Q(x)e^{\\int -P(x)\\,\\mathrm{e^d}x}\\,\\mathrm{d}x+c )$"
   ]
  },
  {
   "cell_type": "markdown",
   "metadata": {},
   "source": [
    "### $进一步化简得：y=e^{\\int {\\mathrm n}{\\mathrm x}\\,\\mathrm {d}x}(\\int Q(x)e^{\\int -P(x)\\,\\mathrm {d}x}\\,\\mathrm {d}x+c)$"
   ]
  },
  {
   "cell_type": "markdown",
   "metadata": {},
   "source": [
    "### $解得：y=x^n(e^x+c)$"
   ]
  },
  {
   "cell_type": "markdown",
   "metadata": {},
   "source": [
    "## $(15)\\frac{\\mathrm dy}{\\mathrm dx}=1/(xy+x^3y^3)$"
   ]
  },
  {
   "cell_type": "markdown",
   "metadata": {},
   "source": [
    "### $解：原式可化为：\\frac{\\mathrm dx}{\\mathrm dy}=xy+x^3y^3  ......      (1)$"
   ]
  },
  {
   "cell_type": "markdown",
   "metadata": {},
   "source": [
    "### $对于y\\neq0,两边同时乘以x^(-3)得：x^{-3}\\frac{\\mathrm dx}{\\mathrm dy}=x^{-3}y+y^3$\n",
    "### $引入变量交换：z=x^{-3}则有\\frac{\\mathrm dz}{\\mathrm dy}=-2x^{-3}\\frac{\\mathrm dx}{\\mathrm dy}......(2)$\n",
    "### $将（1）式代入（2）式中得：\\frac{\\mathrm dz}{\\mathrm dy}=-2yz-2y^3$\n",
    "### $求齐次线性微分方程$$\\frac{\\mathrm dz}{\\mathrm dy}=-2yz的通解为：z=ce^{-y^2}$$ $\n",
    "### $视c=c(x)可得：$$\\frac{\\mathrm dz}{\\mathrm dy}=\\frac{\\mathrm dc(y)}{\\mathrm dy}e^{-y^2}-2yc(y)e^{-y^2}$$ $\n",
    "### $代入（2）得：$$\\frac{\\mathrm dc(y)}{\\mathrm dy}=-2y^3e^{y^2}$$ $\n",
    "### $两边积分得：$$c(y)=(1-y^2)e^{y^2}+c1$$ $\n",
    "### $方程的通解为：$$z=ce^{-y^2}((1-y^2)ey^2+c1)$$ $\n",
    "### $代入z=x^{-2}得方程的解为：$\n",
    "### $$x^{-2}=ce^{-y^2}(1-y^2)e^{y^2}+c1$$\n",
    "### $$e^{-y^2}(1-x^2+x^2y^2)=c1x^2$$\n",
    "\n",
    "\n",
    "\n",
    "\n"
   ]
  },
  {
   "cell_type": "markdown",
   "metadata": {},
   "source": [
    "## $(16)y=e^x+\\int_0^x y(t)\\,\\mathrm {d}t$"
   ]
  },
  {
   "cell_type": "markdown",
   "metadata": {},
   "source": [
    "### $解：上式可化为：$$\\frac{\\mathrm dy}{\\mathrm dx}=e^x+y......(1)$$ $\n",
    "### $求齐次线性微分方程：$$\\frac{\\mathrm dy}{\\mathrm dx}=y$$ $\n",
    "### $的通解为：$$y=ce^x$$ $\n",
    "### $视c=c(x)，可得：$$\\frac{\\mathrm dy}{\\mathrm dx}=\\frac{\\mathrm dc(x)}{\\mathrm dx}e^x+c(x)e^x$$ $\n",
    "### $将（1）代入得:$$\\frac{\\mathrm dc(x)}{\\mathrm dx}==1$$ $\n",
    "### $两边求积分得：$$c(x)=x+c1$$ $\n",
    "### $所以方程的通解为：$$y=e^x(x+c1)$$ $"
   ]
  },
  {
   "cell_type": "markdown",
   "metadata": {},
   "source": [
    "# <font color='red'>特解？？"
   ]
  },
  {
   "cell_type": "markdown",
   "metadata": {},
   "source": [
    "# $7.求解下列方程$"
   ]
  },
  {
   "cell_type": "markdown",
   "metadata": {},
   "source": [
    "## $(3)y’sin(x)*cos(x)-y-sin^3(x)==0$\n",
    "### $方程可化为：$$\\frac{\\mathrm dy}{\\mathrm dx}=\\frac{\\mathrm y+sin^3(x)}{\\mathrm sin^3(x)*cos(x)}=\\frac{\\mathrm y}{\\mathrm sin(x)*cos(x)}+\\frac{\\mathrm sin^2(x)}{\\mathrm cos(x)}$$ $ \n",
    "### $所以有：$$P(x)=\\frac{\\mathrm 1}{\\mathrm sin(x)*cos(x) },Q(x)=\\frac{\\mathrm sin^2(x)}{\\mathrm cos(x)}$$ $\n",
    "### $又由微分方程：$$y=e^{\\int P(x)\\,\\{mathrm {d}x}(\\int Q(xe^{\\int -P(x)\\,\\mathrm {d}x}\\,\\mathrm {d}x)+c1)$$ $\n",
    "### $$y=e^{\\int {\\frac{\\mathrm 1}{\\mathrm (sin(x)*cos(x))}}\\,\\mathrm {d}x}(\\int \\frac{\\mathrm sin^2(x)}{\\mathrm cos(x)}e^{\\int {-\\frac{\\mathrm 1}{\\mathrm sin（x）*cos(x)\\,\\mathrm {d}x}}\\,\\mathrm {d}x}+c1)$$\n",
    "\n"
   ]
  },
  {
   "cell_type": "markdown",
   "metadata": {},
   "source": [
    "### $$y=\\frac{\\mathrm sin(x)}{\\mathrm cos(x)}(\\int sin(x)\\,\\mathrm {d}x+c1)$$\n",
    "### $$y=\\frac{\\mathrm sin(x)}{\\mathrm cos（x）}(-cos(x)+c2)$$\n",
    "### $$y=tan(x)-sin(x)$$\n"
   ]
  },
  {
   "cell_type": "markdown",
   "metadata": {},
   "source": [
    "# <font color='red'>特解？？"
   ]
  },
  {
   "cell_type": "markdown",
   "metadata": {},
   "source": [
    "# $1.验证下列方程是恰当微分方程，并求出方程的解：$"
   ]
  },
  {
   "cell_type": "markdown",
   "metadata": {},
   "source": [
    "## $(1)(x^2+y)dx+(x-2y)dy=0；$\n",
    "### $解：\\frac{\\partial M}{\\partial y}==1,\\frac{\\partial N}{\\partial x}=1;$\n",
    "### $所以方程是恰当微分方程$\n",
    "### $又可知：$$d(\\frac{\\mathrm 1}{\\mathrm 3}x^3+2xy-y^2)=0$$ $\n",
    "### $所以方程的通解为：$$\\frac{\\mathrm 1}{\\mathrm 3}x^3+2xy-y^2=c$$ $\n"
   ]
  },
  {
   "cell_type": "markdown",
   "metadata": {},
   "source": [
    "## $(2)(y-3x^2)dx-(4y-x)dy=0；$\n",
    "### $解：由\\frac{\\partial M}{\\partial y}=1,\\frac{\\partial N}{\\partial x}=1$\n",
    "### $可知方程是恰当微分方程。$\n",
    "### $由$$d(2xy-x^3-2y^2)=0$\n",
    "### $得方程的通解为：$$2xy-x^3-2y^2=c$$ $"
   ]
  },
  {
   "cell_type": "markdown",
   "metadata": {},
   "source": [
    "# $附加题：对\\int_{x_0}^x P(t)\\,\\mathrm {d}t求上限求导$"
   ]
  },
  {
   "cell_type": "markdown",
   "metadata": {},
   "source": [
    "### $解：（\\int_{x_0}^x P(t)\\,\\mathrm {d}t)’=P(x)$"
   ]
  },
  {
   "cell_type": "markdown",
   "metadata": {
    "collapsed": true
   },
   "source": [
    "# <font color='red'>A  19/9 "
   ]
  },
  {
   "cell_type": "code",
   "execution_count": null,
   "metadata": {
    "collapsed": true
   },
   "outputs": [],
   "source": []
  }
 ],
 "metadata": {
  "kernelspec": {
   "display_name": "SageMath 7.3",
   "language": "",
   "name": "sagemath"
  },
  "language_info": {
   "codemirror_mode": {
    "name": "ipython",
    "version": 2
   },
   "file_extension": ".py",
   "mimetype": "text/x-python",
   "name": "python",
   "nbconvert_exporter": "python",
   "pygments_lexer": "ipython2",
   "version": "2.7.10"
  }
 },
 "nbformat": 4,
 "nbformat_minor": 0
}
