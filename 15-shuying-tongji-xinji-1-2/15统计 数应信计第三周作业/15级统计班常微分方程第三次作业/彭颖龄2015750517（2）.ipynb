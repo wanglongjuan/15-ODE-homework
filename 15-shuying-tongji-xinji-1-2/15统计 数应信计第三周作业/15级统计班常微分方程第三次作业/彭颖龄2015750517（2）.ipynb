{
 "cells": [
  {
   "cell_type": "raw",
   "metadata": {},
   "source": [
    "2015750517彭颖龄  常微分方程作业第二次"
   ]
  },
  {
   "cell_type": "markdown",
   "metadata": {},
   "source": [
    "1.求下列方程的解：  \n",
    " (4)$\\frac{dy}{dx}-\\frac{n}{x}y=e^xx^n(n为常数);$  \n",
    "（15）$\\frac{dy}{dx}=\\frac{1}{xy+x^3y^3}$；  \n",
    "（16）$$y=e^x+\\int_0^xy(t)dt$$.\n"
   ]
  },
  {
   "cell_type": "markdown",
   "metadata": {},
   "source": [
    "解：$解：（4）首先求线性齐次方程\\frac{dy}{dx}-\\frac{n}{x}y=0的通解.$  \n",
    "$分离变量，得\\frac{dy}{y}=\\frac{n}{x}dx,$  \n",
    "$两边积分得y=cx^n.$  \n",
    "$设所求通解为y=c(x)x^n,$  \n",
    "$代入原方程，化简后得\\frac{dc(x)}{dx}=e^x,$  \n",
    "$积分得c(x)=e^x+c_1.$  \n",
    "$于是，原方程的通解为y=c_1x^n+e^xx^n,其中c_1为任意常数.$  \n",
    "（15）令$u=y^2$,则原方程变为  \n",
    "$\\frac{du}{dx}=\\frac{2}{x+x^3u}$.  \n",
    "当把u看成自变量，x看成函数变量时，上式为  \n",
    "$\\frac{dx}{du}=\\frac{2}{x}+\\frac{2}{u}x^3$,  \n",
    "这是n=3时的努伯利方程。  \n",
    "令z=x^(-2),得  \n",
    "$\\frac{dz}{du}=-2x^(-3)\\frac{dx}{du}$,  \n",
    "代入$\\frac{dx}{du}$的表达式得到  \n",
    "$\\frac{dz}{du}=-z-u$.  \n",
    "这是一阶线性微分方程，解得它的通解为  \n",
    "$$z=e^(\\int-1du){\\int(-u)e^[\\int(1du)]du+c}$$,  \n",
    "即$z=ce^(-u)-u+1$.  \n",
    "把$z=x^(-2),u=y^2$代入得：  \n",
    "$\\frac{1}{x^2}=ce^(-y^2)-y^2+1$  \n",
    "或$x^2[ce^(-y^2)-y^2+1]=1$  \n",
    "这就是原方程的通解。  \n",
    "  \n",
    "  （16）对方程$y=e^x+\\int_0^xy(t)dt$两端关于与x求导得：  \n",
    "  $\\frac{dy}{dx}=e^x+y$.  \n",
    "  这是一阶线性微分方程，可求得通解为  \n",
    "  $y=e^x[\\int e^xe^(-x)dx+c]$，  \n",
    "  即 $y=e^x(x+c)$。  \n",
    "  当x=0时，可由原方程得  \n",
    "  $y=e^0+\\int_0^0y(t)dt=1$,  \n",
    "  由此可求出c=1。  \n",
    "  因此，原方程的解为$y=e^x(x+1)$。\n"
   ]
  },
  {
   "cell_type": "markdown",
   "metadata": {},
   "source": [
    "1.验证下列方程是恰当微分方程，并求出方程的解：  \n",
    "（1）$(x^2+y)dx+(x-2y)dy=0$;  \n",
    "（2）$(y-3x^2)dx-(4y-x)dy=0$ 。\n"
   ]
  },
  {
   "cell_type": "markdown",
   "metadata": {},
   "source": [
    "解：  \n",
    "（1）这里$M=x^2+y,N=x-2y$,这时  \n",
    "$\\frac{\\partial{M}}{\\partial{y}}=1$  \n",
    "$\\frac{\\partial{N}}{\\partial{x}}=1$  \n",
    "因此方程是恰当微分方程。现在求u，使它同时满足以下两个方程：  \n",
    "$\\frac{\\partial{u}}{\\partial{x}}=x^2+y,\\frac{\\partial{u}}{\\partial{y}}=x-2y$。  \n",
    "第一个方程对x积分，得：  \n",
    "$u=\\frac{1}{3}x^3+xy+φ（y）$，  \n",
    "对此等式两边关于y求导，得:  \n",
    "$\\frac{\\partial{u}}{\\partial{y}}=x+φ'(y)$  \n",
    "与$\\frac{\\partial{u}}{\\partial{y}}=x-2y$比较得：  \n",
    "$φ'(y)=-2y$,积分后得到$φ(y)=-y^2$，  \n",
    "所以$u=\\frac{1}{3}x^3+xy-y^2$.  \n",
    "即得到原方程的通解为  \n",
    "$\\frac{1}{3}x^3+xy-y^2=c$,这里c是任意常数。  \n",
    "  \n",
    "（2）这里$M=y-3x^2,N=x-4y$,这时  \n",
    "$\\frac{\\partial{M}}{\\partial{y}}=1/\\frac{\\partial{N}}{\\partial{x}}=1$,  \n",
    "现在求u,使它同时满足以下两个方程：  \n",
    "$\\frac{\\partial{u}}{\\partial{x}}=y-3x^2,\\frac{\\partial{u}}{\\partial{y}}=x-4y$.  \n",
    "对第一个式子关于x积分,得  \n",
    "$u=xy-x^3+φ(y)$.  \n",
    "为了确定φ(y),将上式对y求导，并使它满足第二个方程，即得：  \n",
    "$\\frac{\\partial{u}}{\\partial{y}}=x+φ'(y)=x-4y$  \n",
    "于是$φ'(y)=-4y$,积分后可得$φ(y)=-2y^2$.  \n",
    "整理上式得 $u=xy-x^3-2y^2$.  \n",
    "因此方程的通解为 $xy-x^3-2y^2=c$,这里c是任意常数。\n"
   ]
  },
  {
   "cell_type": "markdown",
   "metadata": {},
   "source": [
    "思考题：  \n",
    "$\\int_{x0}^xp(t)dt$变上限求导。\n"
   ]
  },
  {
   "cell_type": "markdown",
   "metadata": {},
   "source": [
    "解：$y=\\int^x_{x_0}{p(t)}{dt}$  \n",
    "$y'=(P（x）-P（x_0）)'$  \n",
    "$y'=p(x)$\n"
   ]
  },
  {
   "cell_type": "markdown",
   "metadata": {},
   "source": [
    "$7.求解下列方程：$  \n",
    "$(3)y'\\sin x·\\cos x-y-\\sin^3x=0.$  \n",
    "解：\n",
    "此方程可以变形为  \n",
    "dydx=1sinxcosxy+sin2xcosx(sinx≠0，cosx≠0）  \n",
    "可知其通解为  \n",
    "y=e(∫1sinxcosxdx)(∫sin2xcosxe(−∫1sinxcosxdx)dx+c),  \n",
    "即 y=tanx(∫sin2xcosxcotxd+c),  \n",
    "化简得y=tanx(-cosx+c),  \n",
    "或y=ctanx-sinx，  \n",
    "当sinx=0时，原方程化为y=0.  \n",
    "当cosx=0时，原方程化为y=−sin3x=±1，  \n",
    "即曲线退化为（2kπ+π2,−1）和（2kπ−π2,1）,k=0,±1，±2，…。  \n",
    "综上所述，原方程的解为y=ctanx−sinx,(x≠kπ±π2)  \n",
    "或点$（2kπ+\\frac{π}{2},-1）,(2kπ-\\frac{π}{2},1),k=0,±1，±2….  \n"
   ]
  },
  {
   "cell_type": "markdown",
   "metadata": {
    "collapsed": true
   },
   "source": [
    "# <font color='red'>A 24/10"
   ]
  },
  {
   "cell_type": "code",
   "execution_count": null,
   "metadata": {
    "collapsed": true
   },
   "outputs": [],
   "source": []
  }
 ],
 "metadata": {
  "kernelspec": {
   "display_name": "SageMath 7.3",
   "language": "",
   "name": "sagemath"
  },
  "language_info": {
   "codemirror_mode": {
    "name": "ipython",
    "version": 2
   },
   "file_extension": ".py",
   "mimetype": "text/x-python",
   "name": "python",
   "nbconvert_exporter": "python",
   "pygments_lexer": "ipython2",
   "version": "2.7.10"
  }
 },
 "nbformat": 4,
 "nbformat_minor": 0
}
