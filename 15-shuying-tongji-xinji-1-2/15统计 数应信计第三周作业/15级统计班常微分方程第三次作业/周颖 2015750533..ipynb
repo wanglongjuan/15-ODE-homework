{
 "cells": [
  {
   "cell_type": "markdown",
   "metadata": {},
   "source": [
    "# 常微分方程作业（2）"
   ]
  },
  {
   "cell_type": "markdown",
   "metadata": {},
   "source": [
    "$P49.T1$\n",
    "\n",
    "$求下列方程的解$\n"
   ]
  },
  {
   "cell_type": "markdown",
   "metadata": {},
   "source": [
    "$(4)$\n",
    "$\\frac{dy}{dx}-\\frac{n}{x}y=e^xx^n(n为常数）$"
   ]
  },
  {
   "cell_type": "markdown",
   "metadata": {},
   "source": [
    "$解：$\n",
    "\n",
    "$将方程改写为$\n",
    "$$\\frac{dy}{dx}=\\frac{n}{x}y+e^xx^n$$\n",
    "$求齐次线性微分方程$\n",
    "$$\\frac{dy}{dx}-\\frac{n}{x}y=0$$\n",
    "$的通解.$\n",
    "\n",
    "$由\\frac{dy}{y}=\\frac{n}{x}dx 两边同时积分,得齐次线性微分方程的通解为$\n",
    "$$y=cx^n$$\n",
    "$应用常数变易法把c看成为x的待定函数c(x),得$\n",
    "$$y=c(x)x^n $$ \n",
    "$$\\frac{dy}{dx}=\\frac{dc(x)}{dx}x^n+c(x)n{x}^{n-1}$$\n",
    "$将y=c(x)x^n和\\frac{dy}{dx}=\\frac{dc(x)}{dx}x^n+c(x)n{x}^{n-1}$\n",
    "$代入原方程化简得$\n",
    "$$\\frac{dc(x)}{dx}=e^x$$\n",
    "$两边积分得$\n",
    "$$c(x)=e^x+c$$\n",
    "$所以原方程的通解为$\n",
    "$$y=(e^x+c)(x^n)$$"
   ]
  },
  {
   "cell_type": "markdown",
   "metadata": {},
   "source": [
    "$(15)$\n",
    "$\\frac{dy}{dx}=\\frac{1}{xy+x^3y^3}$\n"
   ]
  },
  {
   "cell_type": "markdown",
   "metadata": {},
   "source": [
    "$解:$\n",
    "\n",
    "$原方程可变为$\n",
    "$$y\\frac{dy}{dx}=\\frac{1}{x+x^3y^2}$$\n",
    "$令u=y^2$\n",
    "$$\\frac{du}{dx}=\\frac{2}{x+x^3u}$$\n",
    "$此时方程并不是未知函数y的线性微分方程,可改写为$\n",
    "$$\\frac{dx}{du}=\\frac{x+x^3u}{2}$$\n",
    "$方程两边同时乘{x}^{-3}$\n",
    "$$\\frac{1}{x^3}\\frac{dx}{du}=\\frac{1}{2}\\frac{1}{x^2}+\\frac{1}{2}u$$\n",
    "$令z=\\frac{1}{x^2}$\n",
    "$$\\frac{dz}{du}=-z-u$$\n",
    "$方程为一阶线性微分方程$\n",
    "$求解得$\n",
    "$$z={e}^{\\int\\mathrm{-1}\\,\\mathrm{d}u}(\\int\\mathrm{-u{e}^{\\int\\mathrm{1}\\,\\mathrm{d}u}\\,\\mathrm{d}u}+c)=c{e}^{-u}-u+1$$\n",
    "$又因为z=\\frac{1}{x^2},u=y^2$\n",
    "$所以$\n",
    "$$\\frac{1}{x^2}=c{e}^{-y^2}-y^2+1$$\n",
    "$为原方程的解$\n",
    "\n",
    "\n"
   ]
  },
  {
   "cell_type": "markdown",
   "metadata": {},
   "source": [
    "\n",
    "$(16)$\n",
    "$y=e^x+\\int_0^x\\mathrm y(t)\\,\\mathrm{d}t$"
   ]
  },
  {
   "cell_type": "markdown",
   "metadata": {},
   "source": [
    "$解:$\n",
    "\n",
    "$方程两边同时关于x求导$\n",
    "$$\\frac{dy}{dx}=e^x+y$$\n",
    "$由一阶线性方程的求解公式得$\n",
    "$$y=e^x(\\int\\mathrm e^x\\frac{1}{e^x}\\,\\mathrm{d}x+c)=e^x(x+c)$$\n",
    "$当x=0时，得y=1,c=1,所以$\n",
    "$$y=e^x(x+1）$$\n"
   ]
  },
  {
   "cell_type": "markdown",
   "metadata": {},
   "source": [
    "$P50.T7$\n",
    "\n",
    "$求解下列方程$"
   ]
  },
  {
   "cell_type": "markdown",
   "metadata": {},
   "source": [
    "$(3)y'\\sin x\\cos x-y-\\sin^3 x=0$\n",
    "$解：此方程可变形为$\n",
    "$$\\frac{dy}{dx}=\\frac{1}{\\sin x\\cos x}y+\\frac{sin^2 x}{\\cos x}$$\n",
    "$由一阶线性方程的求解公式得$\n",
    "$$y={e}^{\\int\\mathrm{\\frac{1}{\\sin x\\cos x}}\\,\\mathrm{d}x}(\\int\\mathrm{\\frac{\\sin^2 x}{\\cos x}}{e}^{\\int\\mathrm{\\frac{-1}{\\sin x\\cos x}\\,\\mathrm{d}x}}\\,\\mathrm{d}x+c)$$\n",
    "${e}^{\\int\\mathrm{\\frac{1}{\\sin x\\cos x}}\\,\\mathrm{d}x}=\\tan x$\n",
    "\n",
    "${e}^{-{\\int\\mathrm{\\frac{1}{\\sin x\\cos x}}\\,\\mathrm{d}x}}=\\cot x$\n",
    "\n",
    "$积分化简后y=\\tan x(c-\\cos x)=c\\tan x-\\sin x$\n",
    "\n",
    "$当\\sin x=0时，原方程y=0$\n",
    "\n",
    "$当\\cos x=0时，原方程y=1,-1$\n",
    "\n",
    "$故原方程的解为$\n",
    "$$y=c\\tan x-\\sin x,(x不等于k\\pi±\\frac{\\pi}{2})$$\n",
    "\n"
   ]
  },
  {
   "cell_type": "markdown",
   "metadata": {
    "collapsed": true
   },
   "source": [
    "$P60.T1$\n",
    "\n",
    "$验证下列方程是恰当微分方程,并求出方程的解$"
   ]
  },
  {
   "cell_type": "markdown",
   "metadata": {},
   "source": [
    "$（1）$\n",
    "$(x^2+y)dx+(x-2y)dy=0$\n",
    "\n",
    "$解:$\n",
    "\n",
    "$$\\frac{∂M}{∂y}=1,\\frac{∂N}{∂x}=1$$\n",
    "$故方程式恰当微分方程$\n",
    "$方程化为$\n",
    "$$d(\\frac{1}{3}x^3+xy-y^2)=0$$\n",
    "$方程的通解为$\n",
    "$$\\frac{1}{3}x^3+xy-y^2=c.（c为任意常数）$$\n",
    "\n"
   ]
  },
  {
   "cell_type": "markdown",
   "metadata": {},
   "source": [
    "$(2)$\n",
    "$(y-3x^2)dx-(4y-x)dy=0$\n",
    "\n",
    "$解：$\n",
    "\n",
    "$$\\frac{∂M}{∂y}=1,\\frac{∂N}{∂x}=1$$\n",
    "$相等，故方程式恰当微分方程$\n",
    "$方程可化为$\n",
    "$$d(xy-x^3-2y^2)=0$$\n",
    "$方程的通解为$\n",
    "$$xy-x^3-2y^2=c.(c为任意常数）$$\n"
   ]
  },
  {
   "cell_type": "markdown",
   "metadata": {
    "collapsed": true
   },
   "source": [
    "$ 补：$\n",
    "\n",
    "$\\int_{x_0}^x \\mathrm P(t)\\,\\mathrm{d}t积分上限求导$"
   ]
  },
  {
   "cell_type": "markdown",
   "metadata": {},
   "source": [
    "$解：$\n",
    "\n",
    "$设F(x）=\\int_{x_0}^x \\mathrm P(t)\\,\\mathrm{d}t,$\n",
    "$x_0∈[a,b]$\n",
    "\n",
    "$F(x+Δx)-F(x)=\\int_{x_0}^{x+Δx} \\mathrm P(t)\\,\\mathrm{d}t-\\int_{x_0}^x \\mathrm P(t)\\,\\mathrm{d}t=\\int_x^{x+Δx} \\mathrm P(t)\\,\\mathrm{d}t$\n",
    "\n",
    "$记m,M分别为P(t)在[a,b]的上确界下确界$\n",
    "\n",
    "$F(x+Δx)-F(x)=ηΔx或f(ξ)Δx$\n",
    "\n",
    "$当Δx趋近0时,ξ趋近x$\n",
    "\n",
    "$F'(x)=\\lim{\\frac{F(x+Δx)-F(x)}{Δx}}(Δx趋近0)=\\lim f(ξ)=f(x)$\n"
   ]
  },
  {
   "cell_type": "markdown",
   "metadata": {
    "collapsed": true
   },
   "source": [
    "# <font color='red'>A + 19/9 "
   ]
  },
  {
   "cell_type": "code",
   "execution_count": null,
   "metadata": {
    "collapsed": true
   },
   "outputs": [],
   "source": []
  }
 ],
 "metadata": {
  "kernelspec": {
   "display_name": "SageMath 7.3",
   "language": "",
   "name": "sagemath"
  },
  "language_info": {
   "codemirror_mode": {
    "name": "ipython",
    "version": 2
   },
   "file_extension": ".py",
   "mimetype": "text/x-python",
   "name": "python",
   "nbconvert_exporter": "python",
   "pygments_lexer": "ipython2",
   "version": "2.7.10"
  }
 },
 "nbformat": 4,
 "nbformat_minor": 0
}
