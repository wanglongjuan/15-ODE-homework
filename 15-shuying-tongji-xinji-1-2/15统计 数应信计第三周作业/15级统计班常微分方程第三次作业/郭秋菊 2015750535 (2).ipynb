{
 "cells": [
  {
   "cell_type": "markdown",
   "metadata": {},
   "source": [
    "\n",
    "# 常微分作业二\n",
    "\n",
    "**第49面**  \n",
    "$(4)\\frac{\\mathrm d y}{\\mathrm d x}-\\frac{\\mathrm n}{\\mathrm x}y=e^xx^n(n为常数）$\n",
    "\n",
    "$解：令P(x)=\\frac{\\mathrm n}{\\mathrm x},Q(x)=e^xx^n$\n",
    "\n",
    "$然后直接利用一阶线性方程的求解公式y=e^(\\int P(x)dx)[\\int Q(x)e^(-\\int P(x)dx）+c]$\n",
    "\n",
    "$可得：y=e^(\\int\\frac{\\mathrm n}{\\mathrm x} dx)[\\int e^xx^n)e^(-\\int\\frac{\\mathrm n}{\\mathrm x}dx）+c]$\n",
    "\n",
    "$求解得到原方程的解为：y=x^n(e^x+c)$\n",
    "\n",
    "\n",
    "$(15)\\frac{\\mathrm d y}{\\mathrm d x}=\\frac{\\mathrm 1}{\\mathrm xy+x^3y^3}$  \n",
    "\n",
    "$解：\\frac{\\mathrm d x}{\\mathrm d y}=xy+x^3y^3$  \n",
    "\n",
    "$然后两边都除以x^3,得x^(-3) \\frac{\\mathrm d x}{\\mathrm d y}=x^(-2)y+y^3$\n",
    "\n",
    "$令z=x^(-2),\\frac{\\mathrm d z}{\\mathrm d y}=-2x^(-3)\\frac{\\mathrm d x}{\\mathrm d y}$  \n",
    "\n",
    "$所以\\frac{\\mathrm d z}{\\mathrm d y}=-2zy-2y^3$\n",
    "\n",
    "$令P(y)=-2y,Q(y)=-2y^3$\n",
    "\n",
    "$由一阶线性方程的求解公式y=e^(\\int P(x)dx)[\\int Q(x)e^(-\\int P(x)dx）+c]$  \n",
    "\n",
    "$z=e^(\\int -2ydy)[\\int -2y^3 e^(-\\int -2ydy）dy+c]$ \n",
    "\n",
    "$z=-y^2+1+ce^(-y^2）$\n",
    "\n",
    "$又因为z=x^(-2)，所以cx^2=e(y^2)(1-x^2+x^2y^2)$\n",
    "\n",
    "\n",
    "\n",
    "\n",
    "$(16）y=e^x+\\int_0^xy(t）dt$\n",
    "\n",
    "$解：两边对x求导得\\frac{\\mathrm d y}{\\mathrm d x}=e^x+y(x)$\n",
    "\n",
    "$P(x)=1,Q(x)=e^x$\n",
    "\n",
    "$由一阶线性方程的求解公式y=e^(\\int P(x)dx)[\\int Q(x)e^(-\\int P(x)dx）+c]$\n",
    "\n",
    "$得y=e^x(x+c)$\n",
    "\n",
    "$e^x(x+c)=e^x+\\int_0^xe^x(x+c)dx$\n",
    "\n",
    "$c=1,即y=e^x(x+c)$\n",
    "\n",
    "**第50面**\n",
    "\n",
    "$7.求解下列方程：$\n",
    "\n",
    "$(3)y'sinx cosx-y-(sinx)^3=0$\n",
    "\n",
    "$解：两边除以sinxcosx得$\n",
    "\n",
    "$\\frac{\\mathrm d y}{\\mathrm d x}=\\frac{\\mathrm y}{\\mathrm sinxcosx}+\\frac{\\mathrm (sinx)^2}{\\mathrm cosx}$\n",
    "\n",
    "$由一阶线性方程的求解公式y=e^(\\int P(x)dx)[\\int Q(x)e^(-\\int P(x)dx）+c]$\n",
    "\n",
    "$求解得y=\\frac{\\mathrm sinx}{\\mathrm cosx}(-cosx+c)$\n",
    "\n",
    "\n",
    "**第60面**\n",
    "\n",
    "$1.验证下列方程是恰当微分方程，并求出方程的解：$\n",
    "\n",
    "$(1)(x^2+y)dx+(x-2y)dy=0;$\n",
    "\n",
    "$解：令M=(x^2+y),N=（x-2y)$\n",
    "\n",
    "$\\frac{\\partial M}{\\partial y}=1$\n",
    "\n",
    "$\\frac{\\partial N}{\\partial x}=1$\n",
    "\n",
    "$所以\\frac{\\partial M}{\\partial y}=\\frac{\\partial N}{\\partial x}$\n",
    "\n",
    "$即可证明其为恰当微分方程$\n",
    "\n",
    "$再利用凑微分法得：x^2dx-2ydy+(xdy+ydx)=0$\n",
    "\n",
    "$分别对两边求积分，即得：\\frac{\\mathrm 1}{\\mathrm 3}x^3-y^2+xy=c$\n",
    "\n",
    "\n",
    "$(2)(y-3x^2)dx-(4y-x)dy=0$\n",
    "\n",
    "$解：令M=（y-3x^2),N=(x-4y)$\n",
    "\n",
    "$\\frac{\\partial M}{\\partial y}=1$\n",
    "\n",
    "$\\frac{\\partial N}{\\partial x}=1$\n",
    "\n",
    "$所以\\frac{\\partial M}{\\partial y}=\\frac{\\partial N}{\\partial x}$\n",
    "\n",
    "$即可证明其为恰当微分方程$\n",
    "\n",
    "$再利用凑微分法得：-3x^2dx-4ydy+(ydx+xdy)=0$\n",
    "\n",
    "$分别对两边求积分，即得：-x^3-2y^2+xy=c$\n",
    "\n",
    "**补充题**  \n",
    "$对$$\\int_(x_0)^x P(t)dt$$求导。$\n",
    "\n",
    "解：由定积分的区间可加性，可以得到$$F(x+Δx)-F(x)=\\int_a^(x+Δx)f(t)dt-\\int_a^xf(t)dt=\\int_x^(x+Δx)f(t)dt$$\n",
    "\n",
    "由定积分第一中值定理可得$$F(x+Δx)-F(x）=f(m)Δx$$\n",
    "\n",
    "当Δx趋于0时，有$$F(x+Δx)-F(x)=0$$\n",
    "\n",
    "即是F(x)连续，若f(x)也连续，当Δx趋于0时，则有m趋于x,即是f(m)趋于f(x),即$$lim\\frac{\\mathrm F(x+Δx)-F(x)}{\\mathrm Δx}=f(m)=f(x)$$\n",
    "\n",
    "$所以对F(x)=\\int_(x_0)^x P(t)dt求导,可得F'(x)=P(x)$\n",
    "\n",
    "\n",
    "\n",
    "\n"
   ]
  },
  {
   "cell_type": "markdown",
   "metadata": {},
   "source": [
    "# <font color='red'>A  19/9  7（3）特解？？"
   ]
  },
  {
   "cell_type": "code",
   "execution_count": 9,
   "metadata": {
    "collapsed": false
   },
   "outputs": [
    {
     "name": "stdout",
     "output_type": "stream",
     "text": [
      "\u001b[H\u001b[2J"
     ]
    }
   ],
   "source": [
    "\n"
   ]
  },
  {
   "cell_type": "code",
   "execution_count": null,
   "metadata": {
    "collapsed": true
   },
   "outputs": [],
   "source": []
  }
 ],
 "metadata": {
  "kernelspec": {
   "display_name": "SageMath 7.3",
   "language": "",
   "name": "sagemath"
  },
  "language_info": {
   "codemirror_mode": {
    "name": "ipython",
    "version": 2
   },
   "file_extension": ".py",
   "mimetype": "text/x-python",
   "name": "python",
   "nbconvert_exporter": "python",
   "pygments_lexer": "ipython2",
   "version": "2.7.10"
  }
 },
 "nbformat": 4,
 "nbformat_minor": 0
}
