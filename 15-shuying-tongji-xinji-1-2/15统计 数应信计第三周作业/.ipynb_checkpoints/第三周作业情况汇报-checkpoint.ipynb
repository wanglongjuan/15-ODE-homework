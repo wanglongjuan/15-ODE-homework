{
 "cells": [
  {
   "cell_type": "markdown",
   "metadata": {},
   "source": [
    "常微分第三周作业情况"
   ]
  },
  {
   "cell_type": "markdown",
   "metadata": {},
   "source": [
    "数应用班：陶昊、丁羽作业未交，黄宇、周灿作业打不开;张路平和汤晓作业一致，互为抄袭\n",
    "付蓉、孙若琪作业做的优秀"
   ]
  },
  {
   "cell_type": "markdown",
   "metadata": {},
   "source": [
    "信计一班：熊明皇、王金钟作业未交，"
   ]
  },
  {
   "cell_type": "markdown",
   "metadata": {},
   "source": [
    "统计班：高宏宇、任武彬、彭颖龄作业未交，賀志华作业格式有问题"
   ]
  },
  {
   "cell_type": "markdown",
   "metadata": {},
   "source": [
    "信计二班：王香洋、肖鑫、刘铨、廖涛、李盼、詹云昭 、2015750435王婷作业未交，李贤玉作业打不开，徐彬玉不知道给我在哪复制粘贴的文档，可以打开但是有问题？？"
   ]
  },
  {
   "cell_type": "markdown",
   "metadata": {},
   "source": [
    "作业中主要出现的问题有，过程比简单，积分过程没有，有的做题，不是少题解，只有一个同学多做了道题目。\n",
    "还有其中彭9页1题（16），和7题（3）小题多数人没有考虑特解,还有积分能比较差，有的直接积错。"
   ]
  },
  {
   "cell_type": "code",
   "execution_count": null,
   "metadata": {
    "collapsed": true
   },
   "outputs": [],
   "source": []
  }
 ],
 "metadata": {
  "kernelspec": {
   "display_name": "SageMath 7.3",
   "language": "",
   "name": "sagemath"
  },
  "language_info": {
   "codemirror_mode": {
    "name": "ipython",
    "version": 2
   },
   "file_extension": ".py",
   "mimetype": "text/x-python",
   "name": "python",
   "nbconvert_exporter": "python",
   "pygments_lexer": "ipython2",
   "version": "2.7.10"
  }
 },
 "nbformat": 4,
 "nbformat_minor": 0
}
