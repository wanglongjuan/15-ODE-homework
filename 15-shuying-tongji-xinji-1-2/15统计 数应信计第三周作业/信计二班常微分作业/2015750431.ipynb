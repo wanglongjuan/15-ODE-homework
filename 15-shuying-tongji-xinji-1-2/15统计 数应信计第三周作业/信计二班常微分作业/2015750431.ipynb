{
 "cells": [
  {
   "cell_type": "markdown",
   "metadata": {
    "collapsed": false
   },
   "source": [
    "# 常微分作业"
   ]
  },
  {
   "cell_type": "markdown",
   "metadata": {},
   "source": [
    "## （9月13号）"
   ]
  },
  {
   "cell_type": "markdown",
   "metadata": {
    "collapsed": true
   },
   "source": [
    "### P48.1.求下列方程的解："
   ]
  },
  {
   "cell_type": "markdown",
   "metadata": {},
   "source": [
    "#### (4)$\\frac{\\mathrm d y}{\\mathrm d x}-\\frac{n}{x}y=e^{x}x^{n}$(n为常数)；"
   ]
  },
  {
   "cell_type": "markdown",
   "metadata": {},
   "source": [
    "解：用常数变易法可以求解\n",
    "\n",
    "$\\frac{\\mathrm d y}{\\mathrm d x}=P(x)y+Q(x)$\n",
    "\n",
    "$P(x)=\\frac{n}{x},Q(x)=e^{x}x^{n}$\n",
    "\n",
    "令$y=c(x)e^{\\int P(x)\\mathrm d x}$\n",
    "\n",
    "\\begin{aligned}\n",
    "\\frac{\\mathrm d y}{\\mathrm d x}&=\\frac{\\mathrm d c(x)}{\\mathrm d x}e^{\\int P(x)\\mathrm d x}+c(x)P(x)e^{\\int P(x)\\mathrm d x}\\\\\n",
    "&=P(x)c(x)e^{\\int P(x)\\mathrm d x}+Q(x)\\\\\n",
    "\\end{aligned}\n",
    "\n",
    "化简得：\n",
    "\n",
    "$$\\frac{\\mathrm d c(x)}{\\mathrm d x}=Q(x)e^{-\\int P(x)\\mathrm d x}$$\n",
    "\n",
    "两边同时积分得：\n",
    "\n",
    "$$c(x)=\\int Q(x)e^{-\\int P(x)\\mathrm d x}+c$$\n",
    "\n",
    "解得\n",
    "\n",
    "$y=x^n(e^x+c)$;"
   ]
  },
  {
   "cell_type": "markdown",
   "metadata": {},
   "source": [
    "#### (15) $\\frac{\\mathrm d y}{\\mathrm d x}=\\frac{1}{xy+x^3y^3}$;"
   ]
  },
  {
   "cell_type": "markdown",
   "metadata": {},
   "source": [
    "解：将$x$视为因变量，$y$视为自变量。\n",
    "\n",
    "$\\frac{\\mathrm d x}{\\mathrm d y}=xy+x^3y^3$\n",
    "\n",
    "此方程为伯努利微分方程，$P(y)=y,Q(y)=y^3,n=3$，\n",
    "\n",
    "两边同时乘以$x^{-n}$，\n",
    "\n",
    "令$z=x^{-n}$，\n",
    "\n",
    "$$\\frac{\\mathrm d z}{\\mathrm d y}=(1-n)x^{-n}\\frac{\\mathrm d x}{\\mathrm d y}$$\n",
    "\n",
    "$$\\frac{\\mathrm d z}{\\mathrm d y}=(1-n)P(y)z+(1-n)Q(y)$$\n",
    "\n",
    "$$\\frac{\\mathrm d z}{\\mathrm d y}=-2yz-2y^3$$\n",
    "\n",
    "解得：\n",
    "\n",
    "$(1-x^2+x^2y^2)e^{y^2}=cx^2$"
   ]
  },
  {
   "cell_type": "markdown",
   "metadata": {},
   "source": [
    "#### (16)$y=e^x+\\int_0^x y(t)\\mathrm d t$."
   ]
  },
  {
   "cell_type": "markdown",
   "metadata": {},
   "source": [
    "解：此方程两边微分后可化简为：\n",
    "\n",
    "$\\frac{\\mathrm d y}{\\mathrm d x}=e^x+y$\n",
    "\n",
    "$P(x)=1,Q(x)=e^{x}$\n",
    "\n",
    "用常数变易法解有：\n",
    "\n",
    "$c(x)=\\int Q(x)e^{-\\int P(x)\\mathrm d x}+c$\n",
    "\n",
    "$c(x)=x+c$\n",
    "\n",
    "又因为$x=0时，y=1,所以c=1$\n",
    "\n",
    "最后解得\n",
    "\n",
    "$y=e^x(x+1)$"
   ]
  },
  {
   "cell_type": "markdown",
   "metadata": {},
   "source": [
    "### P50.7.求解下列方程："
   ]
  },
  {
   "cell_type": "markdown",
   "metadata": {},
   "source": [
    "#### (3)$y'\\sin x\\cos x-y-\\sin^3 x=0$"
   ]
  },
  {
   "cell_type": "markdown",
   "metadata": {},
   "source": [
    "解：移项后，两边同时除以$\\sin x\\cos x$有：\n",
    "\n",
    "$y'=\\frac{1}{\\sin x\\cos x}y+\\frac{\\sin^2 x}{\\cos x}$\n",
    "\n",
    "用常数变易法可以求得\n",
    "\n",
    "$c(x)=\\int \\frac{\\sin^2 x}{\\cos x}e^{-\\int \\frac{1}{\\sin x\\cos x}\\mathrm d x}+c=-\\cos x$\n",
    "\n",
    "$y=\\tan x(c-\\cos x)$ $(x\\neq k\\pi+\\frac{\\pi}{2}$)\n",
    "\n",
    "此外，$(x,y)=(k \\pi+\\frac{\\pi}{2},(-1)^k+1)$也是方程的解。"
   ]
  },
  {
   "cell_type": "markdown",
   "metadata": {},
   "source": [
    "### 求对积分上限求导的结果"
   ]
  },
  {
   "cell_type": "markdown",
   "metadata": {},
   "source": [
    "$(\\int_{x_0}^x p(t)\\mathrm d t)'$"
   ]
  },
  {
   "cell_type": "markdown",
   "metadata": {},
   "source": [
    "解：设$P(x)$是$[x_0,x]$上的连续函数；\n",
    "\n",
    "由定积分的区间可加性，\n",
    "\n",
    "$P(x+\\Delta x)-P(x)=\\int_{x_0}^{x+\\Delta x}p(t)\\mathrm d t-\\int_{x_0}^{x}p(t)\\mathrm d t=\\int_{x}^{x+\\Delta x}p(t)\\mathrm d t$\n",
    "\n",
    "$P'(x)=\\lim_{\\Delta x \\to 0}\\frac{P(x+\\Delta x)-P(x)}{\\Delta x}=\\lim_{\\Delta x \\to 0}P(\\xi)=P(x)$\n",
    "\n",
    "即$(\\int_{x_0}^x p(t)\\mathrm d t)'=P(x)$；"
   ]
  },
  {
   "cell_type": "markdown",
   "metadata": {},
   "source": [
    "## （9月14号）"
   ]
  },
  {
   "cell_type": "markdown",
   "metadata": {},
   "source": [
    "### P60.1.验证下列方程是恰当微分方程，并求出方程的解。"
   ]
  },
  {
   "cell_type": "markdown",
   "metadata": {},
   "source": [
    "#### (1).$(x^2+y)\\mathrm d x+(x-2y)\\mathrm d y=0$;"
   ]
  },
  {
   "cell_type": "markdown",
   "metadata": {},
   "source": [
    "解：$M(x,y)=x^2+y,N(x,y)=x-2y$;\n",
    "\n",
    "$\\frac{\\partial M}{\\partial y}=1,\\frac{\\partial N}{\\partial x}=1$;\n",
    "\n",
    "所以此方程为恰当微分方程。用分项组合的方法有\n",
    "\n",
    "$$x^2\\mathrm dx+y\\mathrm dx+x\\mathrm dy+2y\\mathrm dy=0$$\n",
    "\n",
    "$$\\mathrm d \\frac{1}{3}x^3+y\\mathrm d x+x\\mathrm d y+\\mathrm d y^2=0$$\n",
    "\n",
    "$$\\mathrm d(\\frac{1}{3}x^3+y^2+xy)=0$$\n",
    "\n",
    "故此方程的通解为$\\frac{1}{3}x^3+y^2+xy=c.$"
   ]
  },
  {
   "cell_type": "markdown",
   "metadata": {},
   "source": [
    "#### (2)$(y-3x^2)\\mathrm d x-(4y-x)\\mathrm d y=0$;"
   ]
  },
  {
   "cell_type": "markdown",
   "metadata": {},
   "source": [
    "解：$M(x,y)=y-3x^2,N(x,y)=x-4y$;\n",
    "\n",
    "$\\frac{\\partial M}{\\partial y}=1,\\frac{\\partial N}{\\partial x}=1$;\n",
    "\n",
    "所以此方程为恰当微分方程。用分项组合的方法有\n",
    "\n",
    "$$-3x^2\\mathrm dx+y\\mathrm dx+x\\mathrm dy-4y\\mathrm dy=0$$\n",
    "\n",
    "$$-\\mathrm d x^3+y\\mathrm d x+x\\mathrm d y-2\\mathrm d y^2=0$$\n",
    "\n",
    "$$\\mathrm d(-x^3-2y^2+xy)=0$$\n",
    "\n",
    "故此方程的通解为$-x^3-2y^2+xy=c.$"
   ]
  },
  {
   "cell_type": "markdown",
   "metadata": {},
   "source": [
    "# <font color='red'>A  19/9 "
   ]
  },
  {
   "cell_type": "code",
   "execution_count": null,
   "metadata": {
    "collapsed": true
   },
   "outputs": [],
   "source": []
  }
 ],
 "metadata": {
  "kernelspec": {
   "display_name": "SageMath 7.3",
   "language": "",
   "name": "sagemath"
  },
  "language_info": {
   "codemirror_mode": {
    "name": "ipython",
    "version": 2
   },
   "file_extension": ".py",
   "mimetype": "text/x-python",
   "name": "python",
   "nbconvert_exporter": "python",
   "pygments_lexer": "ipython2",
   "version": "2.7.10"
  }
 },
 "nbformat": 4,
 "nbformat_minor": 0
}
