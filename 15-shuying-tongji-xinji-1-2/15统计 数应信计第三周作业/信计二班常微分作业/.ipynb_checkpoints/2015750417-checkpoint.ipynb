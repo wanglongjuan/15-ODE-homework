{
 "cells": [
  {
   "cell_type": "markdown",
   "metadata": {},
   "source": [
    "$1.求解下列方程的解$\n",
    "\n",
    "\n",
    "$（4)$"
   ]
  },
  {
   "cell_type": "markdown",
   "metadata": {},
   "source": [
    "$$首先求线性齐次方程\\frac{dy}{dx}-\\frac{n}{x}y=0的通解$$\n",
    "$$分离变量，得\\frac{dy}{dx}=\\frac{n}{x}dx$$\n",
    "$$两边积分得y=cx^n$$\n",
    "$$设所求通解为y=c(x)x^n$$\n",
    "$$带入原方程，化简得\\frac{dc(x)}{dx}=e^x$$\n",
    "$$积分得c(x)=e^x+c_1$$\n",
    "$$于是，原方程的通解为y=c_1x^n+e^xx^n,其中c_1为任意常数$$\n"
   ]
  },
  {
   "cell_type": "markdown",
   "metadata": {},
   "source": [
    "$(15)$\n",
    "$$原方程可化为\\frac{ydy}{dx}=\\frac{1}{x+x^3y^2}$$\n",
    "$$令u=y^2,则有\\frac{du}{dx}=\\frac{2}{x+x^3u}$$\n",
    "$$当我们视u为自变量x为应变量时，上述方程为\\frac{dx}{du}=\\frac{x}{2}+\\frac{u}{x}x^3,这是n=3的伯努利方程$$\n",
    "$$令z=x^-2，则经整理得，\\frac{dz}{du}=-z-u$$\n",
    "$$易知\\frac{1}{x^2}=ce^-y^2-y^2+1,其中c味任意常数$$\n"
   ]
  },
  {
   "cell_type": "markdown",
   "metadata": {},
   "source": [
    "$（16）$\n",
    "\n",
    "$$对方程两端关于x求导得\\frac{dy}{dx}=e^x+y$$\n",
    "\n",
    "$$应用一阶线性方程的求解公式，得y=e^x(x+c)$$\n",
    "\n",
    "$$注意到当x=0时，由原方程可得y=1，所以可求出c=1.因此，原方程的解为y=e^x(x+1)$$\n",
    "\n"
   ]
  },
  {
   "cell_type": "markdown",
   "metadata": {},
   "source": [
    "$$习题2.3 第一题$$\n",
    "\n",
    "\n",
    "\n",
    "$$(1)$$\n",
    "$$由于M=X^2+Y,N=x-2y$$\n",
    "$$又\\frac{\\partial M}{\\partial y}=1,\\frac{\\partial N}{\\partial x}=1,因此方程是恰当微分方程$$\n",
    "$$现在求u，使它同事满足如下两个方程：\\frac{\\partial u}{\\partial x}=x^2+y,\\frac{\\partial u}{\\partial y}=x-2y$$\n",
    "$$第一个方程对x积分，得到u=\\frac{1}{3}x^3+xy+c(x)$$\n",
    "$$对此等式两端关于y求导，得\\frac{\\partial u}{\\partial y}=x+c'(x),与\\frac{\\partial u}{\\partial y}=x-2y相比较得到$$\n",
    "$$c'(x)=-2y,积分后得到c(y)=-y^2 所以u=\\frac{1}{3}x^3+xy-y^2$$\n",
    "$$所以原方程的通解为\\frac{1}{3}+xy-y^2=c 其中c为任意常数$$\n"
   ]
  },
  {
   "cell_type": "markdown",
   "metadata": {},
   "source": [
    "$（2)$\n",
    "$$由于M=y-3x^2,N=x-4y$$\n",
    "$$又\\frac{\\partial M}{\\partial y}=1,\\frac{\\partial N}{\\partial x}=1,因此此方程是恰当微分方程$$\n",
    "$$把方程重新分项组合，得到(ydx+xdy)-3x^2dx-4ydy=0$$\n",
    "$$即d(xy-x^3-2y^2)=0$$\n",
    "$$于是，方程的通解为xy-x^3-2y^2=0 其中c为任意常数$$\n"
   ]
  },
  {
   "cell_type": "markdown",
   "metadata": {},
   "source": [
    "\"$$变上限求导\\int_{x0}^xp(t)dt$$,\n",
    "    $$设P（x）是p（x）的原函数，则\\int_{x0}^xp(t)dt=P(x)-P(x0)$$,\n",
    "    $$因为P（x0）是常数，所以对\\int_{xo}{x}p(t)dt求导即为对P(x)求导$$,\n",
    "    $$因为P'(x)=p(x),所以p(x)即为解$$\n",
    "   ]\n",
    "   \n"
   ]
  },
  {
   "cell_type": "markdown",
   "metadata": {
    "collapsed": true
   },
   "source": [
    "# <font color='red'>A  19/9  少做一道题"
   ]
  },
  {
   "cell_type": "code",
   "execution_count": null,
   "metadata": {
    "collapsed": true
   },
   "outputs": [],
   "source": []
  }
 ],
 "metadata": {
  "kernelspec": {
   "display_name": "SageMath 7.3",
   "language": "",
   "name": "sagemath"
  },
  "language_info": {
   "codemirror_mode": {
    "name": "ipython",
    "version": 2
   },
   "file_extension": ".py",
   "mimetype": "text/x-python",
   "name": "python",
   "nbconvert_exporter": "python",
   "pygments_lexer": "ipython2",
   "version": "2.7.10"
  }
 },
 "nbformat": 4,
 "nbformat_minor": 0
}
