{
 "cells": [
  {
   "cell_type": "markdown",
   "metadata": {
    "collapsed": true
   },
   "source": [
    "#  9月13日 #"
   ]
  },
  {
   "cell_type": "markdown",
   "metadata": {},
   "source": [
    "\n",
    "1.求下列方程的解"
   ]
  },
  {
   "cell_type": "markdown",
   "metadata": {},
   "source": [
    "（4）$ \\frac{\\mathrm dy}{\\mathrm dx} -\\frac{n}{x}y=e^xx^n $\n",
    "\n",
    "因为$ \\frac{\\mathrm dy}{\\mathrm dx}=e^xx^n+\\frac{n}{x}y $\n",
    "\n",
    "先考虑$ \\frac{\\mathrm dy}{\\mathrm dx}=\\frac{n}{x}y $\n",
    "\n",
    "$ 将c变易为x的待定函数c（x），令y=c（x）x^n $\n",
    "\n",
    "$ \\frac{\\mathrm dy}{\\mathrm dx}=\\frac{\\mathrm dc(x)}{\\mathrm dx}x^n+c(x)nx^{n-1}-\\frac{n}{x}cx^n=e^xx^n $\n",
    "\n",
    "得$ \\frac{\\mathrm dc(x)}{\\mathrm dx}=e^x $\n",
    "\n",
    "所以解为$ y=(e^x+c)x^n $"
   ]
  },
  {
   "cell_type": "markdown",
   "metadata": {},
   "source": [
    "（15）$ \\frac{\\mathrm dy}{\\mathrm dx}=\\frac{1}{xy+x^3y^3} $\n",
    "\n",
    "因为$ \\frac{\\mathrm dx}{\\mathrm dy}=xy+x^3y^3 $\n",
    "\n",
    "$ z=x^{-2},则\\frac{\\mathrm dz}{\\mathrm dy}=-2x^{-3}\\frac{\\mathrm dx}{\\mathrm dy} $\n",
    "\n",
    "所以$ -\\frac{1}{2}\\frac{\\mathrm dz}{\\mathrm dy}=y^3+x^{-2}y $\n",
    "\n",
    "$ \\frac{\\mathrm dz}{\\mathrm dy}=-2y^3-2x^{-2}y=-2y^3-2zy $\n",
    "\n",
    "$ z=e^{\\int -2y\\mathrm dy}(\\int{-2y^3e^{-\\int{-2y}\\mathrm dy}\\mathrm dy}+c) $\n",
    "\n",
    "即$ e^{y^2}(1-x^2+x^2y^2)=cx^2 $"
   ]
  },
  {
   "cell_type": "markdown",
   "metadata": {},
   "source": [
    "（16）$ y=e^x=\\int{y(t)}\\mathrm dt $\n",
    "\n",
    "$ \\frac{\\mathrm dy}{\\mathrm dx}=e^x+y(x) $\n",
    "\n",
    "$ P(x)=1， Q(x)=e^x $\n",
    "\n",
    "$ y=e^{\\int{1}\\mathrm dx}(\\int e^xe^{\\int{-1}\\mathrm dx}\\mathrm dx+c) $\n",
    "\n",
    "$ 当x=0时，y=1\n",
    "\n",
    "$ 所以c=1 $"
   ]
  },
  {
   "cell_type": "markdown",
   "metadata": {},
   "source": [
    "7.求解下列方程。\n",
    "\n",
    "（3）\n",
    "\n",
    "$ y^{\\prime}\\sin x\\cos x=y+{\\sin}^3x $\n",
    "\n",
    " 两边同除$ \\sin x\\cos x $\n",
    "\n",
    "$ \\frac{\\mathrm dy}{\\mathrm dx}=\\frac{1}{\\sin x\\cos x}y+\\frac{{\\sin}^2x}{\\cos x} $\n",
    "\n",
    "$ y=e^{\\int{\\frac{1}{\\sin x\\cos x}\\mathrm dx}}(\\int{\\frac{{\\sin}^2x}{\\cos x}}e^{-\\int{\\frac{1}{\\sin x\\cos x}\\mathrm dx}}\\mathrm dx+c) $\n",
    "\n",
    "$ =c\\tan x-\\sin x $"
   ]
  },
  {
   "cell_type": "markdown",
   "metadata": {},
   "source": [
    "# <font color='red'>特解？"
   ]
  },
  {
   "cell_type": "markdown",
   "metadata": {
    "collapsed": true
   },
   "source": [
    "## 9月14日 ##"
   ]
  },
  {
   "cell_type": "markdown",
   "metadata": {},
   "source": [
    "P60\n",
    "\n",
    "1.验证下列方程是恰当微分方程，并求出方程的解"
   ]
  },
  {
   "cell_type": "markdown",
   "metadata": {},
   "source": [
    "（1）$ (x^2+y)\\mathrm dx+(x-2y)\\mathrm dy=0 $\n",
    "\n",
    "$ M(x,y)=x^2+y ,N(x,y)=x-2y $\n",
    "\n",
    "$ 求u使其同时满足如下两个方程 $\n",
    "\n",
    "$  \\frac{\\partial u}{\\partial x}=x^2+y(1) , \\frac{\\partial u}{\\partial y}=x-2y(2) $\n",
    "\n",
    "$ 在（1）中对x积分，得 $\n",
    "\n",
    "$ u=\\frac{1}{3}x^3+xy+\\varphi(y)(3) $ \n",
    "\n",
    "$ 在（3）中，再对y求导数，使其满足（2） $\n",
    "\n",
    "$ \\frac{\\partial u}{\\partial y}=x+\\frac{\\mathrm d\\varphi(y)}{\\mathrm dy}=x-2y $\n",
    "\n",
    "$ \\varphi(y)=-y^2 $\n",
    "\n",
    "代入，得\n",
    "\n",
    "$ u=\\frac{1}{3}x^3+xy-y^2 $\n",
    "\n",
    "$ 所以通解为\\frac{1}{3}x^3+xy-y^2=c $"
   ]
  },
  {
   "cell_type": "markdown",
   "metadata": {},
   "source": [
    "（2）$ (y-3x^2)\\mathrm dx-(4y-x)\\mathrm dy=0 $\n",
    "\n",
    "$ M(x,y)=y-3x^2,N(x,y)=x-4y $\n",
    "\n",
    "$ \\frac{\\partial M}{\\partial y}=1,\\frac{\\partial N}{\\partial y}=1 $\n",
    "\n",
    "所以该方程是恰当微分方程 \n",
    " \n",
    "$ 求u使其同时满足如下两个方程 $\n",
    "\n",
    "$ \\frac{\\partial u}{\\partial x}=y-3x^2(1) , \\frac{\\partial u}{\\partial y}=x-4y(2) $\n",
    "\n",
    "$ 在（1）中对x积分，得 $\n",
    "\n",
    "$ u=xy-x^3+\\varphi(y)(3) $ \n",
    "\n",
    "$ \\frac{\\partial u}{\\partial y}=x+\\frac{\\mathrm d\\varphi(y)}{\\mathrm dy}=x-4y $\n",
    "\n",
    "$ \\varphi(y)=-2y^2 $\n",
    "\n",
    "$ 所以通解xy-x^3-2y^2=c $"
   ]
  },
  {
   "cell_type": "markdown",
   "metadata": {
    "collapsed": true
   },
   "source": [
    "# <font color='red'>A  19/9 "
   ]
  },
  {
   "cell_type": "code",
   "execution_count": null,
   "metadata": {
    "collapsed": true
   },
   "outputs": [],
   "source": []
  }
 ],
 "metadata": {
  "kernelspec": {
   "display_name": "SageMath 7.3",
   "language": "",
   "name": "sagemath"
  },
  "language_info": {
   "codemirror_mode": {
    "name": "ipython",
    "version": 2
   },
   "file_extension": ".py",
   "mimetype": "text/x-python",
   "name": "python",
   "nbconvert_exporter": "python",
   "pygments_lexer": "ipython2",
   "version": "2.7.10"
  }
 },
 "nbformat": 4,
 "nbformat_minor": 0
}
