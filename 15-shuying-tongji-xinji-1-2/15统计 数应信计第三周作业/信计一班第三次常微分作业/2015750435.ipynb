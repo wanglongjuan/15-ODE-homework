{
 "cells": [
  {
   "cell_type": "markdown",
   "metadata": {},
   "source": [
    "**1.求下列方程的解：**"
   ]
  },
  {
   "cell_type": "markdown",
   "metadata": {},
   "source": [
    "(4)$\\frac{\\mathrm dy}{\\mathrm dx}-\\frac{n}{x}y=e^xx^n(n为常数）$"
   ]
  },
  {
   "cell_type": "markdown",
   "metadata": {},
   "source": [
    "解：原方程可化为：$\\frac{\\mathrm dy}{\\mathrm dx}=\\frac{n}{x}y+e^xx^n$"
   ]
  },
  {
   "cell_type": "markdown",
   "metadata": {},
   "source": [
    "$y=e^{\\int\\limits\\frac{n}{x}{\\mathrm dx}}(\\int\\limits{e^xx^n}e^{-\\int\\limits\\frac{n}{x}{\\mathrm dx}}dx+c)$"
   ]
  },
  {
   "cell_type": "markdown",
   "metadata": {},
   "source": [
    "$y=x^n(e^x+c)$"
   ]
  },
  {
   "cell_type": "markdown",
   "metadata": {},
   "source": [
    "(15)$\\frac{\\mathrm dy}{\\mathrm dx}=\\frac{1}{xy+x^3y^3}$"
   ]
  },
  {
   "cell_type": "markdown",
   "metadata": {},
   "source": [
    "解：原式可写为：$\\frac{\\mathrm dx}{\\mathrm dy}=yx+y^3x^3$这是n=3时的伯努利方程"
   ]
  },
  {
   "cell_type": "markdown",
   "metadata": {},
   "source": [
    "两边同时除以x^3得:$\\frac{1}{x^3}\\frac{\\mathrm dx}{\\mathrm dy}=\\frac{y}{x^2}+y^3$"
   ]
  },
  {
   "cell_type": "markdown",
   "metadata": {},
   "source": [
    "令$x^{-2}=z$,有$\\frac{\\mathrm dz}{\\mathrm dy}=-2x^{-3}\\frac{\\mathrm dx}{\\mathrm dy}$"
   ]
  },
  {
   "cell_type": "markdown",
   "metadata": {},
   "source": [
    "$\\frac{\\mathrm dz}{\\mathrm dy}=-\\frac{2y}{x^2}-2y^3=-2yz-2y^3    \\\\P(y)=-2y   \\\\Q(y)=-2y^3$"
   ]
  },
  {
   "cell_type": "markdown",
   "metadata": {},
   "source": [
    "由一阶线性方程的求解公式得："
   ]
  },
  {
   "cell_type": "markdown",
   "metadata": {},
   "source": [
    "$z=e^{\\int\\limits-2y{\\mathrm dy}}(\\int\\limits-2y^3e^{-\\int\\limits-2ydy}dy+c)$\n"
   ]
  },
  {
   "cell_type": "markdown",
   "metadata": {},
   "source": [
    "$z=e^{-y^2}(-\\int\\limits2y^3e^{y^2}dy+c)=-y^2+1+ce^{-y^2}$"
   ]
  },
  {
   "cell_type": "markdown",
   "metadata": {},
   "source": [
    "$x^2(-y^2+1+ce^{-y^2})=1$\n"
   ]
  },
  {
   "cell_type": "markdown",
   "metadata": {},
   "source": [
    "$x^2e^{y^2}(-y^2+1+ce^{-y^2})=e^{y^2}$"
   ]
  },
  {
   "cell_type": "markdown",
   "metadata": {},
   "source": [
    "$e^{y^2}(1-x^2+x^2y^2)=cx^2$"
   ]
  },
  {
   "cell_type": "markdown",
   "metadata": {},
   "source": [
    "(16)$y=e^x+\\int\\limits_0^xy(t)dt$"
   ]
  },
  {
   "cell_type": "markdown",
   "metadata": {},
   "source": [
    "解：$\\frac{\\mathrm dy}{\\mathrm dx}=e^x+y(x)$"
   ]
  },
  {
   "cell_type": "markdown",
   "metadata": {},
   "source": [
    "$\\frac{\\mathrm dy}{\\mathrm dx}=y+e^x$"
   ]
  },
  {
   "cell_type": "markdown",
   "metadata": {},
   "source": [
    "P(x)=1"
   ]
  },
  {
   "cell_type": "markdown",
   "metadata": {},
   "source": [
    "Q(x)=e^x"
   ]
  },
  {
   "cell_type": "markdown",
   "metadata": {},
   "source": [
    "由一阶线性方程的求解公式得："
   ]
  },
  {
   "cell_type": "markdown",
   "metadata": {},
   "source": [
    "$y=e^{\\int\\limits1dx}(\\int\\limits{e^x}e^{-\\int\\limits1dx}dx+c)$"
   ]
  },
  {
   "cell_type": "markdown",
   "metadata": {},
   "source": [
    "$y=e^x(\\int\\limits{e^x}e^{-x}dx+c)$"
   ]
  },
  {
   "cell_type": "markdown",
   "metadata": {},
   "source": [
    "$y=e^x(x+c)$"
   ]
  },
  {
   "cell_type": "markdown",
   "metadata": {},
   "source": [
    "$e^x(x+c)=e^x+\\int\\limits_0^xe^x(x+c)dx$\n",
    "\n",
    "$c=1$"
   ]
  },
  {
   "cell_type": "markdown",
   "metadata": {},
   "source": [
    "$y=e^x(x+c)$"
   ]
  },
  {
   "cell_type": "markdown",
   "metadata": {},
   "source": [
    "# <font color='red'>特解？？"
   ]
  },
  {
   "cell_type": "markdown",
   "metadata": {},
   "source": [
    "**7.求解下列方程：**"
   ]
  },
  {
   "cell_type": "markdown",
   "metadata": {},
   "source": [
    "(3)$y'sinxcosx-y-sin^3x=0$"
   ]
  },
  {
   "cell_type": "markdown",
   "metadata": {},
   "source": [
    "解：$\\frac{\\mathrm dy}{\\mathrm dx}=\\frac{y}{sinxcosx}+\\frac{sin^2x}{cosx}$"
   ]
  },
  {
   "cell_type": "markdown",
   "metadata": {},
   "source": [
    "$P(x)=\\frac{1}{sinxcosx}$"
   ]
  },
  {
   "cell_type": "markdown",
   "metadata": {},
   "source": [
    "$Q(x)=\\frac{sin^2x}{cosx}$"
   ]
  },
  {
   "cell_type": "markdown",
   "metadata": {},
   "source": [
    "由一阶线性方程的求解公式得："
   ]
  },
  {
   "cell_type": "markdown",
   "metadata": {},
   "source": [
    "$y=e^{\\int \\frac{1}{\\sin x \\cos x}\\mathrm d x}(\\int\\frac{\\sin^{2}x}{\\cos x}e^{-\\int\\frac{1}{\\sin x \\cos x}\\mathrm d x}\\mathrm d x+c)$"
   ]
  },
  {
   "cell_type": "markdown",
   "metadata": {},
   "source": [
    "$y=\\frac{sinx}{cosx}(\\int\\limits{sinx}{\\mathrm dx}+c)$"
   ]
  },
  {
   "cell_type": "markdown",
   "metadata": {},
   "source": [
    "$y=\\frac{sinx}{cosx}(-cosx+c)$"
   ]
  },
  {
   "cell_type": "markdown",
   "metadata": {},
   "source": [
    "$y=tanxc-sinx$"
   ]
  },
  {
   "cell_type": "markdown",
   "metadata": {},
   "source": [
    "# <font color='red'>特解？？"
   ]
  },
  {
   "cell_type": "markdown",
   "metadata": {},
   "source": [
    "**验证下列方程是恰当微分方程，并求出方程的解：**"
   ]
  },
  {
   "cell_type": "markdown",
   "metadata": {},
   "source": [
    "(1)$(x^2+y)\\mathrm dx+(x-2y)\\mathrm dy=0$"
   ]
  },
  {
   "cell_type": "markdown",
   "metadata": {},
   "source": [
    "解：$\\frac{\\partial M}{\\partial y}=1$，$\\frac{\\partial N}{\\partial x}=1$"
   ]
  },
  {
   "cell_type": "markdown",
   "metadata": {},
   "source": [
    "则$\\frac{\\partial M}{\\partial y}=\\frac{\\partial N}{\\partial x}$"
   ]
  },
  {
   "cell_type": "markdown",
   "metadata": {},
   "source": [
    "所以此方程是恰当方程"
   ]
  },
  {
   "cell_type": "markdown",
   "metadata": {},
   "source": [
    "凑微分得：$x^2dx-2ydy+(ydx+xdy)=0$"
   ]
  },
  {
   "cell_type": "markdown",
   "metadata": {},
   "source": [
    "得：$\\frac{1}{3}x^3+xy-y^2=C$"
   ]
  },
  {
   "cell_type": "markdown",
   "metadata": {},
   "source": [
    "(2)$(y-3x^2)dx-(4y-x)dy=0$"
   ]
  },
  {
   "cell_type": "markdown",
   "metadata": {},
   "source": [
    "解：$\\frac{\\partial M}{\\partial y}=1$，$\\frac{\\partial N}{\\partial x}=1$"
   ]
  },
  {
   "cell_type": "markdown",
   "metadata": {},
   "source": [
    "则$\\frac{\\partial M}{\\partial y}=\\frac{\\partial N}{\\partial x}$"
   ]
  },
  {
   "cell_type": "markdown",
   "metadata": {},
   "source": [
    "所以此方程是恰当方程"
   ]
  },
  {
   "cell_type": "markdown",
   "metadata": {},
   "source": [
    "凑微分得：$ydx+xdy-3x^2dx-4ydy=0$"
   ]
  },
  {
   "cell_type": "markdown",
   "metadata": {},
   "source": [
    "得：$x^3-xy+2y^2=C$"
   ]
  },
  {
   "cell_type": "markdown",
   "metadata": {
    "collapsed": true
   },
   "source": [
    "# <font color='red'>A  19/9"
   ]
  },
  {
   "cell_type": "code",
   "execution_count": null,
   "metadata": {
    "collapsed": true
   },
   "outputs": [],
   "source": []
  }
 ],
 "metadata": {
  "kernelspec": {
   "display_name": "SageMath 7.3",
   "language": "",
   "name": "sagemath"
  },
  "language_info": {
   "codemirror_mode": {
    "name": "ipython",
    "version": 2
   },
   "file_extension": ".py",
   "mimetype": "text/x-python",
   "name": "python",
   "nbconvert_exporter": "python",
   "pygments_lexer": "ipython2",
   "version": "2.7.10"
  }
 },
 "nbformat": 4,
 "nbformat_minor": 0
}
