{
 "cells": [
  {
   "cell_type": "markdown",
   "metadata": {},
   "source": [
    "**常微分方程第二次作业**\n",
    "\n",
    "                       信计一班 唐梦圆 2015710823\n",
    "\n",
    "1.求下列微分方程的解。"
   ]
  },
  {
   "cell_type": "markdown",
   "metadata": {},
   "source": [
    "（4）$\\frac{\\mathrm d y}{\\mathrm d x}-\\frac{n}{x} y=e^x x^n(n为常数）$"
   ]
  },
  {
   "cell_type": "markdown",
   "metadata": {},
   "source": [
    "解：移项得：$\\frac{\\mathrm d y}{\\mathrm d x}=\\frac{n}{x} y+e^x x^n$"
   ]
  },
  {
   "cell_type": "markdown",
   "metadata": {},
   "source": [
    "可知：$P(x)=\\frac{n}{x}\\\\\n",
    "Q(x)=e^x x^n$"
   ]
  },
  {
   "cell_type": "markdown",
   "metadata": {},
   "source": [
    "由一阶线性微分方程通解公式得到："
   ]
  },
  {
   "cell_type": "markdown",
   "metadata": {},
   "source": [
    "$y=e^{\\int \\frac{n}{x}\\, \\mathrm{d}x}[\\int e^x x^n e^{-\\int \\frac{n}{x}\\, \\mathrm{d}x}\\mathrm{d}x+c]\\\\\n",
    "解得 y=x^n (e^x+c)是原方程的解。(c为任意常数）$"
   ]
  },
  {
   "cell_type": "markdown",
   "metadata": {},
   "source": [
    "（15）$\\frac{\\mathrm d y}{\\mathrm d x}=\\frac{1}{x y+x^3 y^3}$"
   ]
  },
  {
   "cell_type": "markdown",
   "metadata": {},
   "source": [
    "解：$\\frac{\\mathrm d x}{\\mathrm d y}=x y+x^3 y^3$这是一个伯努利方程。"
   ]
  },
  {
   "cell_type": "markdown",
   "metadata": {},
   "source": [
    "两边同乘以$x^{-3}$,得到："
   ]
  },
  {
   "cell_type": "markdown",
   "metadata": {},
   "source": [
    "$\\frac{1}{x^3} \\frac{\\mathrm d x}{\\mathrm d y}=\\frac{y}{x^2}+y^3$"
   ]
  },
  {
   "cell_type": "markdown",
   "metadata": {},
   "source": [
    "令$z=x^{-2}\\\\\n",
    "\\frac{1}{x^3} \\frac{\\mathrm d z}{\\mathrm d y}=-2 x^{-3} \\frac{1}{x^3} \\frac{\\mathrm d x}{\\mathrm d y}\\\\\n",
    "\\frac{1}{x^3} \\frac{\\mathrm d z}{\\mathrm d y}=-2 y z-2 y^3\\\\\n",
    "P(y)=-2 y,Q(y)=-2 y^3$"
   ]
  },
  {
   "cell_type": "markdown",
   "metadata": {},
   "source": [
    "由一阶线性微分方程通解公式得到："
   ]
  },
  {
   "cell_type": "markdown",
   "metadata": {},
   "source": [
    "$z=e^{\\int -2 y\\, \\mathrm{d}y}[\\int -2 y^3 e^{-\\int -2 y\\, \\mathrm{d}y}\\mathrm{d}y+c]\\\\\n",
    "z=1-y^2+c e^{-y^2}\\\\\n",
    "x^{-2}=1-y^2+c e^{-y^2}\\\\\n",
    "e^{y^2}=\\frac{c x^2}{1-x^2+x^2 y^2}为原方程的解。(c为任意常数）$"
   ]
  },
  {
   "cell_type": "markdown",
   "metadata": {},
   "source": [
    "(16)$y=e^x+\\int_0^x y(t)\\ \\mathrm{d}t$"
   ]
  },
  {
   "cell_type": "markdown",
   "metadata": {},
   "source": [
    "解：两边同时对x求导：$\\frac{\\mathrm d y}{\\mathrm d x}=e^x+y(x)\\\\\n",
    "P(x)=1,Q(x)=e^x$"
   ]
  },
  {
   "cell_type": "markdown",
   "metadata": {},
   "source": [
    "由一阶线性微分方程通解公式得到："
   ]
  },
  {
   "cell_type": "markdown",
   "metadata": {},
   "source": [
    "$y=e^x [\\int e^x e^{-x}\\ \\mathrm{d}x+c]\\\\\n",
    "所以y=e^x (x+c)为原方程的解。(c为任意常数）$"
   ]
  },
  {
   "cell_type": "markdown",
   "metadata": {},
   "source": [
    "# <font color='red'>特解？"
   ]
  },
  {
   "cell_type": "markdown",
   "metadata": {},
   "source": [
    "7.求解下列方程："
   ]
  },
  {
   "cell_type": "markdown",
   "metadata": {},
   "source": [
    "（3）$y' sinx·cosx-y-sin^3 x=0$"
   ]
  },
  {
   "cell_type": "markdown",
   "metadata": {},
   "source": [
    "解：$\\frac{\\mathrm d y}{\\mathrm d x}=\\frac{y}{sinxcosx}+\\frac{sin^2 x}{cosx}\\\\\n",
    "P(x)=\\frac{1}{sinxcosx},Q(x)=\\frac{sin^2 x}{cosx}$"
   ]
  },
  {
   "cell_type": "markdown",
   "metadata": {},
   "source": [
    "由一阶线性微分方程通解公式得到："
   ]
  },
  {
   "cell_type": "markdown",
   "metadata": {},
   "source": [
    " $y=e^{\\int \\frac{1}{sinxcosx}\\, \\mathrm{d}x}[\\int \\frac{sin^2 x}{cosx} e^{-\\int \\frac{1}{sinxcosx}\\, \\mathrm{d}x}\\mathrm{d}x+c]\\\\\n",
    " y=tanx(\\int sinx\\ \\mathrm{d}x+c)\\\\\n",
    " y=ctanx-sinx为原方程的解。(c为任意常数）$"
   ]
  },
  {
   "cell_type": "markdown",
   "metadata": {},
   "source": [
    "# <font color='red'>特解？"
   ]
  },
  {
   "cell_type": "markdown",
   "metadata": {},
   "source": [
    "三、求变上限积分$\\int_{x_0}^x y(t) \\mathrm{d}t$的导数。"
   ]
  },
  {
   "cell_type": "markdown",
   "metadata": {},
   "source": [
    "解：$\\frac{\\mathrm d (\\int_{x_0}^x y(t) \\mathrm{d}t)}{\\mathrm d x}=y(x)$"
   ]
  },
  {
   "cell_type": "markdown",
   "metadata": {
    "collapsed": true
   },
   "source": [
    "1.验证下列方程是恰当微分方程，并求出方程的解。"
   ]
  },
  {
   "cell_type": "markdown",
   "metadata": {},
   "source": [
    "（1）$(x^2+y) dx+(x-2y) dy=0;$"
   ]
  },
  {
   "cell_type": "markdown",
   "metadata": {},
   "source": [
    "解：令$M=x^2+y\\\\\n",
    "N=x-2y\\\\\n",
    "\\frac {\\partial M}{\\partial y}=1\\\\\n",
    "\\frac {\\partial N}{\\partial x}=1\\\\\n",
    "得，\\frac {\\partial M}{\\partial y}=\\frac {\\partial N}{\\partial x}=1\\\\\n",
    "故该方程为恰当微分方程。$"
   ]
  },
  {
   "cell_type": "markdown",
   "metadata": {},
   "source": [
    "$现在求原函数u,使它同时满足：\\\\\n",
    "\\frac {\\partial u}{\\partial x}=x^2+y\\\\\n",
    "\\frac {\\partial u}{\\partial y}=x-2y\\\\\n",
    "前一式对x积分得，u=\\frac{x^3}{3}+y x+\\varphi(y)\\\\\n",
    "对y求导：\\frac {\\partial u}{\\partial y}=x+\\varphi'(y)=x-2y\\\\\n",
    "\\varphi'(y)=-2y\\\\\n",
    "\\varphi(y)=-y^2\\\\\n",
    "u=\\frac{x^3}{3}+y x-y^2\\\\\n",
    "通解为：c=\\frac{x^3}{3}+x y-y^2$"
   ]
  },
  {
   "cell_type": "markdown",
   "metadata": {},
   "source": [
    "(2)$(y-3x^2)dx-(4y-x)dy=0$"
   ]
  },
  {
   "cell_type": "markdown",
   "metadata": {},
   "source": [
    "解:原式化为：$(y-3x^2)dx+(x-4y)dy=0\\\\\n",
    "令M=y-3x^2\\\\\n",
    "N=4y-x\\\\\n",
    "\\frac {\\partial M}{\\partial y}=1\\\\\n",
    "\\frac {\\partial N}{\\partial x}=1\\\\\n",
    "得到：\\frac {\\partial M}{\\partial y}=\\frac {\\partial N}{\\partial x}=1\\\\\n",
    "故该方程为恰当微分方程。$"
   ]
  },
  {
   "cell_type": "markdown",
   "metadata": {},
   "source": [
    "$现在求原函数u,使它同时满足：\\\\\n",
    "\\frac {\\partial u}{\\partial x}=y-3x^2\\\\\n",
    "\\frac {\\partial u}{\\partial y}=x-4y\\\\\n",
    "前一式对x积分得，u=yx-x^3+\\varphi(y)\\\\\n",
    "对y求导：\\frac {\\partial u}{\\partial y}=x+\\varphi'(y)=x-4y\\\\\n",
    "\\varphi'(y)=-4y\\\\\n",
    "\\varphi(y)=-2y^2\\\\\n",
    "u=xy-x^3-\\frac{y^5}{5}\\\\\n",
    "通解为：c=xy-x^3-2y^2$"
   ]
  },
  {
   "cell_type": "markdown",
   "metadata": {
    "collapsed": true
   },
   "source": [
    "# <font color='red'>A  19/9"
   ]
  },
  {
   "cell_type": "code",
   "execution_count": null,
   "metadata": {
    "collapsed": true
   },
   "outputs": [],
   "source": []
  }
 ],
 "metadata": {
  "kernelspec": {
   "display_name": "SageMath 7.3",
   "language": "",
   "name": "sagemath"
  },
  "language_info": {
   "codemirror_mode": {
    "name": "ipython",
    "version": 2
   },
   "file_extension": ".py",
   "mimetype": "text/x-python",
   "name": "python",
   "nbconvert_exporter": "python",
   "pygments_lexer": "ipython2",
   "version": "2.7.10"
  }
 },
 "nbformat": 4,
 "nbformat_minor": 0
}
