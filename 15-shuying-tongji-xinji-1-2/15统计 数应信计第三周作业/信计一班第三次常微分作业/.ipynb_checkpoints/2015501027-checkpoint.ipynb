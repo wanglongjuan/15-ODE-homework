{
 "cells": [
  {
   "cell_type": "markdown",
   "metadata": {},
   "source": [
    "**习题2.2**       \n",
    "1.求下列方程的解"
   ]
  },
  {
   "cell_type": "markdown",
   "metadata": {},
   "source": [
    "（4）$\\frac{{\\mathrm d}y}{{\\mathrm d}x}-\\frac{n}{x}y=e^xx^n$（n为常数）"
   ]
  },
  {
   "cell_type": "markdown",
   "metadata": {},
   "source": [
    "解：原式可化成$\\frac{\\mathrm d y}{\\mathrm d x}=\\frac{n}{x}y-e^xx^n$         \n",
    "可以解得$y=e^{\\int\\frac{n}{x}{\\mathrm d x}}(\\int e^xx^ne^{-\\int-\\frac{n}{x}{\\mathrm d x}}{\\mathrm d x}+c$     \n",
    "即$y=x^n(e^x+c)$"
   ]
  },
  {
   "cell_type": "markdown",
   "metadata": {},
   "source": [
    "（15）$\\frac{{\\mathrm d}y}{{\\mathrm d}x}=\\frac{1}{xy+x^3y^3}$"
   ]
  },
  {
   "cell_type": "markdown",
   "metadata": {},
   "source": [
    "解：原式可化成$\\frac{\\mathrm d x}{\\mathrm d y}=xy+x^3y^3$      \n",
    "即$\\frac{1}{x^3}\\frac{\\mathrm d x}{\\mathrm d y}=\\frac{y}{x^2}+y^3$\n",
    "令$z=x^{-2}$    \n",
    "得到$\\frac{\\mathrm d z}{\\mathrm d y}=-\\frac{2y}{x^2}-2y^3$    \n",
    "$\\frac{\\mathrm d z}{\\mathrm d y}=-2yz-2y^3$    \n",
    "$z=e^{\\int -2ydy}(\\int -2y^3e^{-\\int -2ydy}dx+c)$       \n",
    "$z=-y^2+1+ce^{-y^2}$         \n",
    "代回$z=x^{-2}$    \n",
    "$x^2(-y^2+1+ce^{-y^2})=1$"
   ]
  },
  {
   "cell_type": "markdown",
   "metadata": {},
   "source": [
    "（16）$y=e^x+\\int^x_0y(t){\\mathrm d}t$"
   ]
  },
  {
   "cell_type": "markdown",
   "metadata": {},
   "source": [
    "解：原式可化成$\\frac{\\mathrm d y}{\\mathrm d x}=y+e^x$       \n",
    " 即$P(x)=1$  ,  $Q(x)=e^x$     \n",
    " $y=e^{\\int dx}(\\int e^xe^{-\\int \\mathrm d x}\\mathrm d x+c)$   \n",
    " $y=e^x(x+c)$       \n",
    " 由等式得$c=1$   \n",
    " $y=e^x(x+1)$"
   ]
  },
  {
   "cell_type": "markdown",
   "metadata": {},
   "source": [
    "7.求解下列方程"
   ]
  },
  {
   "cell_type": "markdown",
   "metadata": {},
   "source": [
    "（3）$y\\prime \\sin x \\cos x-y-sin^3x=0$"
   ]
  },
  {
   "cell_type": "markdown",
   "metadata": {},
   "source": [
    "解：可将方程化成$\\frac{\\mathrm d y}{\\mathrm d x}=\\frac{y}{\\sin x \\cos x}+\\frac{\\sin^2 x}{\\cos x}$   \n",
    "即$P(x)=\\frac{1}{\\sin x\\cos x}$  ,   $Q(x)=\\frac{\\sin^2 x}{\\cos x}$    \n",
    "解得$y=e^{\\int \\frac{1}{\\sin x \\cos x}\\mathrm d x}(\\int \\frac{\\sin^2 x}{\\cos x}\\mathrm d x e^{-\\int \\frac{1}{\\sin x \\cos x}\\mathrm d x}\\mathrm d x+c)$       \n",
    "又$\\int \\frac{1}{\\sin x \\cos x}\\mathrm d x=In\\frac{\\sin x}{\\cos x}$    \n",
    "得到$y=\\frac{\\sin x}{\\cos x}(\\int \\sin x \\mathrm d x+c)$    \n",
    "$y=-\\sin x+\\tan c$"
   ]
  },
  {
   "cell_type": "markdown",
   "metadata": {},
   "source": [
    "## <font color='red'>特解？？？"
   ]
  },
  {
   "cell_type": "markdown",
   "metadata": {},
   "source": [
    "**习题2.3**"
   ]
  },
  {
   "cell_type": "markdown",
   "metadata": {},
   "source": [
    "1.验证下列方程是恰当微分方程，并求出方程的解 "
   ]
  },
  {
   "cell_type": "markdown",
   "metadata": {},
   "source": [
    "(1)$(x^2+y)\\mathrm d x+(x-2y)\\mathrm d y=0$"
   ]
  },
  {
   "cell_type": "markdown",
   "metadata": {},
   "source": [
    "解：由题意：    \n",
    "令$M=x^2+y$  ,  $N=x-2y$        \n",
    "$\\frac{\\partial M}{\\partial y}=1$,$\\frac{\\partial N}{\\partial x}=1$    \n",
    "则$\\frac{\\partial M}{\\partial y}=\\frac{\\partial N}{\\partial x}$ ,此方程是恰当方程   \n",
    "现在求u,使它同时满足以下两个方程    \n",
    "$\\frac{\\partial u}{\\partial x}=x^2+y$  \n",
    "$\\frac{\\partial u}{\\partial y}=x-2y$    \n",
    "对$\\frac{\\partial u}{\\partial x}$积分得到$u=\\frac{1}{3}x^3+xy+f(y)$   \n",
    "使u满足$\\frac{\\partial u}{\\partial x}$得到$f(y)=-y^2$   \n",
    "即$u=\\frac{1}{3}x^3+xy-y^2$       \n",
    "$\\frac{1}{3}x^3+xy-y^2=c$"
   ]
  },
  {
   "cell_type": "markdown",
   "metadata": {},
   "source": [
    "(2)$(y-3x^2)\\mathrm d x-(4y-x)\\mathrm d y=0$"
   ]
  },
  {
   "cell_type": "markdown",
   "metadata": {},
   "source": [
    "解：由题意：    \n",
    "令$M=y-3x^2$,$N=x-4y$   \n",
    "$\\frac{\\partial M}{\\partial y}=1$,$\\frac{\\partial M}{\\partial x}=1$   \n",
    "则$\\frac{\\partial M}{\\partial y}=\\frac{\\partial N}{\\partial x}$ ,此方程是恰当方程  \n",
    "现在求u，使它同时满足以下两个方程  \n",
    "$\\frac{\\partial u}{\\partial x}=y-3x^2$  \n",
    "$\\frac{\\partial u}{\\partial y}=x-4y$  \n",
    "对$\\frac{\\partial u}{\\partial x}$积分得到$u=-x^3+xy+f(y)$   \n",
    "使u满足$\\frac{\\partial u}{\\partial x}$得到$f(y)=-2y^2$    \n",
    "即$u=-x^3+xy-2y^2$  \n",
    "$-x^3+xy-2y^2=c$"
   ]
  },
  {
   "cell_type": "markdown",
   "metadata": {
    "collapsed": true
   },
   "source": [
    "# <font color='red'>A  19/9"
   ]
  },
  {
   "cell_type": "code",
   "execution_count": null,
   "metadata": {
    "collapsed": true
   },
   "outputs": [],
   "source": []
  }
 ],
 "metadata": {
  "kernelspec": {
   "display_name": "SageMath 7.3",
   "language": "",
   "name": "sagemath"
  },
  "language_info": {
   "codemirror_mode": {
    "name": "ipython",
    "version": 2
   },
   "file_extension": ".py",
   "mimetype": "text/x-python",
   "name": "python",
   "nbconvert_exporter": "python",
   "pygments_lexer": "ipython2",
   "version": "2.7.10"
  }
 },
 "nbformat": 4,
 "nbformat_minor": 0
}
