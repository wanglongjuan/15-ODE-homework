{
 "cells": [
  {
   "cell_type": "markdown",
   "metadata": {},
   "source": [
    "$2.2习题$"
   ]
  },
  {
   "cell_type": "markdown",
   "metadata": {},
   "source": [
    "4.\n",
    "$${dy \\over dx}={n \\over x}y+e^xx^n$$\n",
    "\n",
    "$${dy \\over dx}={n \\over x}y$$\n",
    "\n",
    "$${dy \\over y}={n \\over x}dx$$\n",
    "\n",
    "$$令y=c(x)e^{\\int {n \\over x}dx}$$\n",
    "\n",
    "$${dy \\over dx}={dc(x) \\over dx}e^{\\int {n \\over x}dx}+c(x)e^{\\int {n \\over x}dx}{n \\over x}$$\n",
    "\n",
    "$${dc(x) \\over dx}e^{\\int {n \\over x}dx}+c(x)e^{\\int {n \\over x}dx}{n \\over x}={n \\over x}c(x)e^{\\int {n \\over x}dx}+e^xx^n$$\n",
    "\n",
    "$${dc(x) \\over dx}e^{\\int {n \\over x}dx}=e^xx^n$$\n",
    "\n",
    "$${dc(x) \\over dx}={e^xx^n \\over e^{\\int {n \\over x}dx}}dx$$\n",
    "\n",
    "$$c(x)=\\int e^xx^ne^{-\\int {n \\over x}dx}dx+c'$$\n",
    "\n",
    "所以\n",
    "$$y=(\\int x^ne^{x-\\int {n \\over x}dx}dx+c')e^{\\int {n \\over x}dx}$$"
   ]
  },
  {
   "cell_type": "markdown",
   "metadata": {},
   "source": [
    "15.\n",
    "$${dy \\over dx}={1 \\over xy+x^3y^3}$$\n",
    "\n",
    "$${dx \\over dy}=yx+y^3x^3$$\n",
    "\n",
    "$n=3$时的伯努利方程\n",
    "$${1 \\over x^3}{dx \\over dy}={y \\over x^2}+y^3$$\n",
    "\n",
    "令$x^{-2}=z$\n",
    "$${dz \\over dy}=-2x^{-3}{dx \\over dy}$$\n",
    "\n",
    "$${dz \\over dy}=-2yz-2y^3$$\n",
    "\n",
    "由一阶线性方程求解公式\n",
    "\n",
    "$$z=e^{\\int -2ydy}(\\int -2y^3e^{-\\int -2ydy}dy+c)=e^{-y^2}(-\\int 2y^3e^{y^2}dy+c)=-y^2+1+ce^{-y^2}$$\n",
    "\n",
    "方程通解为\n",
    "$${e^{y^2} \\over x^2}+y^2e^{y^2}-e^{y^2}=c$$"
   ]
  },
  {
   "cell_type": "markdown",
   "metadata": {},
   "source": [
    "16.\n",
    "$$y=e^x+\\int_0^xy(t)dt$$\n",
    "\n",
    "$${dy \\over dx}=e^x+y$$\n",
    "\n",
    "由一阶线性方程的求解公式\n",
    "$$y=e^{\\int 1dx}(\\int e^xe^{\\int 1dx}dx+c)=e^x(\\int e^xe^{-x}dx+c)=e^x(x+c)$$\n",
    "\n",
    "$$e^x(x+c)=e^x+\\int_0^xe^x(x+c)dx$$\n",
    "\n",
    "$$y=e^x(x+c)$$"
   ]
  },
  {
   "cell_type": "markdown",
   "metadata": {},
   "source": [
    "# <font color='red'>特解？？\n"
   ]
  },
  {
   "cell_type": "markdown",
   "metadata": {},
   "source": [
    "7.(3)\n",
    "$$y'sinxcosx-y-sin^3x=0$$\n",
    "\n",
    "$${dy \\over dx}={y \\over sinxcosx}+{sin^2x \\over cosx}$$\n",
    "\n",
    "$$P(x)={1 \\over sinxcosx},Q(x)={sin^2x \\over cosx}$$\n",
    "\n",
    "由一阶微分求解公式可以得到\n",
    "$$y=e^{\\int {1 \\over sinxcosx}dx}(\\int {sin^2x \\over cosx}e^{\\int {1 \\over sinxcosx}dx}dx+c)$$\n",
    "\n",
    "$$=ctanx-sinx$$"
   ]
  },
  {
   "cell_type": "markdown",
   "metadata": {},
   "source": [
    "# <font color='red'>特解？？"
   ]
  },
  {
   "cell_type": "markdown",
   "metadata": {},
   "source": [
    "1.(2)\n",
    "$$(y-3x^2)dx-(4y-x)dy$$\n",
    "\n",
    "$${\\partial u \\over \\partial y}=1,{\\partial N \\over \\partial x}=1$$\n",
    "\n",
    "因为\n",
    "$${\\partial M \\over \\partial y}={\\partial N \\over \\partial x}$$\n",
    "\n",
    "所以此方程为恰当方程，原方程可化为\n",
    "$$ydx+xdy-3x^2dx-4ydy=0$$\n",
    "\n",
    "解得\n",
    "$$x^3-xy+2y^2=c$$"
   ]
  },
  {
   "cell_type": "markdown",
   "metadata": {
    "collapsed": true
   },
   "source": [
    "# <font color='red'>B  19/9少一道题？？"
   ]
  },
  {
   "cell_type": "code",
   "execution_count": null,
   "metadata": {
    "collapsed": true
   },
   "outputs": [],
   "source": []
  }
 ],
 "metadata": {
  "kernelspec": {
   "display_name": "Python 2",
   "language": "python",
   "name": "python2"
  },
  "language_info": {
   "codemirror_mode": {
    "name": "ipython",
    "version": 2
   },
   "file_extension": ".py",
   "mimetype": "text/x-python",
   "name": "python",
   "nbconvert_exporter": "python",
   "pygments_lexer": "ipython2",
   "version": "2.7.10"
  }
 },
 "nbformat": 4,
 "nbformat_minor": 0
}
