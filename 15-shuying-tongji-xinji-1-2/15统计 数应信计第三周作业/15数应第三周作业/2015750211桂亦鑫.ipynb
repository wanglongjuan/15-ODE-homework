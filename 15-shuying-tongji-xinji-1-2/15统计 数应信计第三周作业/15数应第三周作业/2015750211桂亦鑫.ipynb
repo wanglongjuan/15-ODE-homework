{
 "cells": [
  {
   "cell_type": "markdown",
   "metadata": {},
   "source": [
    "# 常微分方程      第三周作业    学号：2015750211"
   ]
  },
  {
   "cell_type": "markdown",
   "metadata": {},
   "source": [
    "## P49.1.求下列方程的解。\n"
   ]
  },
  {
   "cell_type": "markdown",
   "metadata": {},
   "source": [
    "### (4)$\\frac{\\mathrm d y}{\\mathrm d x}-\\frac{n}{x}y=e^xx^n$(n为常数)\n"
   ]
  },
  {
   "cell_type": "markdown",
   "metadata": {},
   "source": [
    "### (15)$\\frac{\\mathrm d y}{\\mathrm d x}=\\frac{1}{xy+x^3y^3}$"
   ]
  },
  {
   "cell_type": "markdown",
   "metadata": {},
   "source": [
    "### (16)$y=e^x+\\int ^x_0y(t)dt$"
   ]
  },
  {
   "cell_type": "markdown",
   "metadata": {},
   "source": [
    "(4)解:先求解方程$$\\frac{\\mathrm d y}{\\mathrm d x}=\\frac{n}{x}y$$\n",
    "\n",
    "由分离变量的求解法解得通解为$$y=cx^n,(c\\neq 0)$$\n",
    "\n",
    "然后利用常数变易法，把$c$看成$c(x)$,微分后可得$$\\frac{\\mathrm d y}{\\mathrm d x}=x^n\\frac{\\mathrm d c(x)}{\\mathrm d x}+c(x)nx^{n-1}$$\n",
    "\n",
    "将其带入原方程可得$$\\frac{\\mathrm d c(x)}{\\mathrm d x}=e^x$$\n",
    "\n",
    "容易解得$$c(x)=e^x+c,(c\\neq 0)$$\n",
    "\n",
    "所以原方程的通解为$$y=x^n(e^x+c),(c为任意常数)$$\n"
   ]
  },
  {
   "cell_type": "markdown",
   "metadata": {},
   "source": [
    "(15)解:我们把x看做未知函数，y视为自变量,有$$\\frac{\\mathrm d x}{\\mathrm d y}=xy+x^3y^3$$\n",
    "\n",
    "对于$x\\neq 0$，用$x^{-3}$乘两边，得到$$\\frac{\\mathrm d x^{-2}}{\\mathrm d y}=-2x^{-2}y-2y^3$$\n",
    "\n",
    "令$u=x^{-2}$,从而$$\\frac{\\mathrm d u}{\\mathrm d y}=-2uy-2y^3$$\n",
    "\n",
    "先求解方程$$\\frac{\\mathrm d u}{\\mathrm d y}=-2uy$$\n",
    "\n",
    "容易解得$$u=ce^{-y^2}$$\n",
    "\n",
    "然后把$c$看成$c(y)$,微分后可得$$\\frac{\\mathrm d u}{\\mathrm d y}=e^{-y^2}\\frac{\\mathrm d c(y)}{\\mathrm d y}-2yc(y)e^{-y^2}$$\n",
    "\n",
    "将其带入原方程可得$$\\frac{\\mathrm d c(y)}{\\mathrm d y}=-2y^3e^{y^2}$$\n",
    "\n",
    "所以$$c(y)=\\int -2y^3e^{y^2}dy=-y^2e^{y^2}+e^{y^2}+c$$\n",
    "\n",
    "所以原方程的通解为$$(-y^2e^{y^2}+e^{y^2}+c)e^{-y^2}=x^{-2}$$\n",
    "\n",
    "亦即$$(1-x^2+x^2y^2)e^{y^2}=cx^2$$"
   ]
  },
  {
   "cell_type": "markdown",
   "metadata": {},
   "source": [
    "(16)解:对方程两边求导可得$$y'=e^x+y$$\n",
    "\n",
    "可化为$$\\frac{\\mathrm d y}{\\mathrm d x}=e^x+y$$\n",
    "\n",
    "先求解方程$$\\frac{\\mathrm d y}{\\mathrm d x}=y$$\n",
    "\n",
    "容易解得$$y=ce^x,(c为常数)$$\n",
    "\n",
    "然后把$c$看成$c(x)$,微分后可得$$\\frac{\\mathrm d y}{\\mathrm d x}=e^x\\frac{\\mathrm d c(x)}{\\mathrm d x}+c(x)e^x$$\n",
    "\n",
    "将其带入原方程可得$$\\frac{\\mathrm d c(x)}{\\mathrm d x}=1$$\n",
    "\n",
    "所以$$c(x)=x+c$$\n",
    "\n",
    "所以原方程的通解为$$y=(x+c)e^x$$\n",
    "\n",
    "将其通解带入原方程可以解得$c=1$\n",
    "\n",
    "所以原方程的特解为$$y=(x+1)e^x$$\n",
    "\n"
   ]
  },
  {
   "cell_type": "markdown",
   "metadata": {},
   "source": [
    "## 7.求下列方程"
   ]
  },
  {
   "cell_type": "markdown",
   "metadata": {},
   "source": [
    "### (3)$y'\\sin x \\cos x-y-\\sin^3 x=0$"
   ]
  },
  {
   "cell_type": "markdown",
   "metadata": {},
   "source": [
    "(3)解:我们先将方程化为$$\\frac{\\mathrm d y}{\\mathrm d x}=\\frac{y}{\\sin x\\cos x}+\\frac{\\sin^2 x}{\\cos x}$$\n",
    "\n",
    "先求解方程$$\\frac{\\mathrm d y}{\\mathrm d x}=\\frac{y}{\\sin x\\cos x}$$\n",
    "\n",
    "容易解得$$y=c\\tan x$$\n",
    "\n",
    "然后把$c$看成$c(x)$,微分后可得$$\\frac{\\mathrm d y}{\\mathrm d x}=\\tan x\\frac{\\mathrm d c(x)}{\\mathrm d x}+c(x)\\sec^2x$$\n",
    "\n",
    "将其带入原方程可得$$\\frac{\\mathrm d c(x)}{\\mathrm d x}=\\sin x$$\n",
    "\n",
    "所以$$c(x)=-\\cos x+c$$\n",
    "\n",
    "所以原方程的通解为$$y=c\\tan x-\\sin x,(x\\neq k\\pi+\\frac{\\pi}{2})$$\n",
    "\n",
    "另外，当$\\cos x=0$，方程变为$$y=-\\sin^3x=\\pm 1$$\n",
    "\n",
    "所以原方程的通解为$$y=c\\tan x-\\sin x,(x\\neq k\\pi+\\frac{\\pi}{2}),或者(k\\pi+\\frac{\\pi}{2},(-1))^{k+1})$$\n"
   ]
  },
  {
   "cell_type": "markdown",
   "metadata": {
    "collapsed": true
   },
   "source": [
    "## p60.1.验证下列方程是恰当微分方程，并求出方程的解："
   ]
  },
  {
   "cell_type": "markdown",
   "metadata": {},
   "source": [
    "### (1) $(x^2+y)\\mathrm d x+(x-2y)\\mathrm d y=0$\n"
   ]
  },
  {
   "cell_type": "markdown",
   "metadata": {
    "collapsed": true
   },
   "source": [
    "### (2)$(y-3x^2)\\mathrm d x-(4y-x)\\mathrm d y=0$"
   ]
  },
  {
   "cell_type": "markdown",
   "metadata": {},
   "source": [
    "(1)解:这里有$$M(x,y)=x^2+y,N(x,y)=x-2y$$\n",
    "\n",
    "分别对其求y的偏导，x的偏导,有$$\\frac{\\partial M}{\\partial y}=1=\\frac{\\partial N}{\\partial x}$$\n",
    "\n",
    "所以该方程为恰当微分方程.所以有$$ u(x,y)=\\int^x_{x_0} (x^2+y) \\mathrm d x+\\int ^y_{y_0} (x_0-2y)\\mathrm d y=c$$\n",
    "\n",
    "为了方便计算，我们取$x_0=0,y_0=0$\n",
    "\n",
    "可得$$x^3+3xy-3y^2=c,(c为任意常数)$$"
   ]
  },
  {
   "cell_type": "markdown",
   "metadata": {
    "collapsed": true
   },
   "source": [
    "(1)解:这里有$$M(x,y)=y-3x^2,N(x,y)=-(4y-x)$$\n",
    "\n",
    "分别对其求y的偏导，x的偏导,有$$\\frac{\\partial M}{\\partial y}=1=\\frac{\\partial N}{\\partial x}$$\n",
    "\n",
    "所以该方程为恰当微分方程.所以有$$ u(x,y)=\\int^x_{x_0} (y-3x^2) \\mathrm d x+\\int ^y_{y_0} (x_0-4y)\\mathrm d y=c$$\n",
    "\n",
    "为了方便计算，我们取$x_0=0,y_0=0$\n",
    "\n",
    "可得$$x^3-xy+2y^2=c,(c为任意常数)$$"
   ]
  },
  {
   "cell_type": "markdown",
   "metadata": {
    "collapsed": true
   },
   "source": [
    "# <font color='red'>A  19/9 "
   ]
  },
  {
   "cell_type": "code",
   "execution_count": null,
   "metadata": {
    "collapsed": true
   },
   "outputs": [],
   "source": []
  }
 ],
 "metadata": {
  "kernelspec": {
   "display_name": "SageMath 7.3",
   "language": "",
   "name": "sagemath"
  },
  "language_info": {
   "codemirror_mode": {
    "name": "ipython",
    "version": 2
   },
   "file_extension": ".py",
   "mimetype": "text/x-python",
   "name": "python",
   "nbconvert_exporter": "python",
   "pygments_lexer": "ipython2",
   "version": "2.7.10"
  }
 },
 "nbformat": 4,
 "nbformat_minor": 0
}
