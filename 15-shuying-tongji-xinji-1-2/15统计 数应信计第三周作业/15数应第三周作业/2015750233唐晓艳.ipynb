{
 "cells": [
  {
   "cell_type": "markdown",
   "metadata": {},
   "source": [
    "1.  求下列方程的解：\n",
    "(15)$\\frac{dy}{dx}=\\frac{1}{xy+x^3y^3}$;\n",
    "(16)$y=e^x+\\int_0^x\\mathrm y(t)\\,\\mathrm{d}t$."
   ]
  },
  {
   "cell_type": "markdown",
   "metadata": {
    "collapsed": true
   },
   "source": [
    "解：（15）令$u=y^2$,则原方程化为$$\\frac{du}{dx}=\\frac{2}{x+x^3u}$$\n",
    "          把$u$看作自变量，$x$看作因变量得$$\\frac{dx}{du}=\\frac{x}{2}+\\frac{u}{2}x^3$$\n",
    "          这是$n=3$的伯努利里方程，则令$$z=x^{-2}$$\n",
    "          得$$\\frac{dz}{du}={-2}x^{-3}\\frac{dx}{du}$$\n",
    "          代入$\\frac{dx}{du}$的表达式得$$\\frac{dz}{du}=-z-u$$\n",
    "          所以它的通解为$$z=e^{\\int\\mathrm -1\\,\\mathrm{d}u}(\\int\\mathrm (-u)e^{\\int\\mathrm 1\\,\\mathrm{d}u}\\,\\mathrm{d}u+c)$$\n",
    "          即$$z=ce^{-u}-u+1$$\n",
    "          代入$z=x^{-2},u=y^2$得$$\\frac{1}{x^2}=ce^{-u}-y^2+1$$\n",
    "      (16)对原方程两端关于$x$求导得$$\\frac{dy}{dx}=e^x+y$$\n",
    "          它的通解为$$y=e^x(\\int\\mathrm e^xe^{-x}\\,\\mathrm{d}x+c)$$\n",
    "          即$$y=e^x(x+c)$$\n",
    "          当$x=0$时，$$y=e^0+\\int_0^0\\mathrm y(t)\\,\\mathrm{d}t=1$$\n",
    "          解得$c=1$\n",
    "          所以，原方程的解为$y=e^x(x+1)$"
   ]
  },
  {
   "cell_type": "markdown",
   "metadata": {},
   "source": [
    "7.求解下列方程：\n",
    "（3)$y'sinxcosx-y-(sinx)^3=0$.\n"
   ]
  },
  {
   "cell_type": "markdown",
   "metadata": {},
   "source": [
    " 解： 方程变形为$$\\frac{dy}{dx}=\\frac{y}{sinxcosx}+\\frac{sinx^2}{cosx}(sinx≠0，cosx≠0)$$\n",
    "      其通解为$$e^{\\int\\mathrm {\\frac{1}{sinxcosx}}\\,\\mathrm{d}x}(\\int\\mathrm {\\frac{(sinx)^2}{cosx}e^{-\\int\\mathrm {\\frac{1}{sinxcosx}}\\,\\mathrm{d}x}}\\,\\mathrm{d}x+c)$$\n",
    "      化简得$$y=ctanx-sinx$$\n",
    "      当$sinx=0$时，原方程化为$y=0$\n",
    "      当$cosx=0$时，原方程化为$y=-(sinx)^3=1或-1$，即方程退化成点$(2kπ+ \\frac{π}{2}，-1）和（2kπ-\\frac{π}{2},1),k为非负整数$\n",
    "      综上所述，原方程的解为$$y=ctanx-sinx(x≠kπ+\\frac{π}{2}且x≠kπ-\\frac{π}{2})$$\n",
    "      或点$$-(kπ+\\frac{π}{2},(-1)^{k+1}),k为非负整数$$"
   ]
  },
  {
   "cell_type": "markdown",
   "metadata": {},
   "source": [
    "3.验证下列方程是恰当微分方程，并求出方程的解：\n",
    "（1）$（x^2+y)dx+(x-2y)dy=0$;\n",
    "(2)$(y-3x^2)dx-(4y-x)dy=0$;"
   ]
  },
  {
   "cell_type": "markdown",
   "metadata": {},
   "source": [
    "解：（1）令$M=x^2+y,N=x-2y$,则$$\\frac{\\partial M}{\\partial y}=1,\\frac{\\partial N}{\\partial x}=1$$\n",
    "         所以方程是恰当微分方程。\n",
    "         使$u$同时满足$$\\frac{\\partial u}{\\partial x}=x^2+y,\\frac{\\partial u}{\\partial y}=x-2y$$\n",
    "         对第一个方程积分得$$u=\\frac{1}{3}x^3+xy+t(y)$$\n",
    "         对上式$y$求导得$$\\frac{\\partial u}{\\partial y}=x+{t(y)}'$$\n",
    "         对比得$${t(y)}'=-2y$$ \n",
    "         两边积分得$$t(y)=-y^2$$\n",
    "         所以$$u=\\frac{1}{3}x^3+xy-y^2$$\n",
    "         即原方程的通解为$$x^3+3xy-3y^2=c,c为任意常数$$\n",
    "    （2）这里$M=y-3x^2,N=x-4y$,则$$\\frac{\\partial M}{\\partial y}=1,\\frac{\\partial N}{\\partial x}=1$$\n",
    "         所以方程是恰当微分方程。\n",
    "         使$u$满足$$\\frac{\\partial u}{\\partial x}=y-3x^2,\\frac{\\partial u}{\\partial y}=x-4y$$\n",
    "         对第一式关于$x$积分得$$u=xy-x^3+t(y)$$\n",
    "         对上式$y$求导并联合第二式得$$\\frac{\\partial u}{\\partial y}=x+{t(y)}'=x-4y$$\n",
    "         有$${t(y)}'=-4y$$\n",
    "         积分得$$t(y)=-2y^2$$\n",
    "         所以$$u=xy-x^3-2y^2$$\n",
    "         即原方程的通解为$$xy-x^3-2y^2=c,c为任意常数$$"
   ]
  },
  {
   "cell_type": "markdown",
   "metadata": {
    "collapsed": true
   },
   "source": [
    "# <font color='red'>A  19/9 缺第一题"
   ]
  },
  {
   "cell_type": "code",
   "execution_count": null,
   "metadata": {
    "collapsed": true
   },
   "outputs": [],
   "source": []
  }
 ],
 "metadata": {
  "kernelspec": {
   "display_name": "SageMath 7.3",
   "language": "",
   "name": "sagemath"
  },
  "language_info": {
   "codemirror_mode": {
    "name": "ipython",
    "version": 2
   },
   "file_extension": ".py",
   "mimetype": "text/x-python",
   "name": "python",
   "nbconvert_exporter": "python",
   "pygments_lexer": "ipython2",
   "version": "2.7.10"
  }
 },
 "nbformat": 4,
 "nbformat_minor": 0
}
