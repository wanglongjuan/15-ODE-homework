{
 "cells": [
  {
   "cell_type": "markdown",
   "metadata": {},
   "source": [
    "$（1）对y=x^2+1求导$\n",
    "$\\diff y==2x\\$\n",
    "$将其带入diff y=y^2-(x^2+1)y+2x$\n",
    "$得到 2x=x^2+1-(x^2+1)*(x^2+1)+2x$\n",
    "$(2)$\n",
    "$\\y=-\\frac{g(x)}{f(x)}$\n",
    "$\\a=\\diff y=\\frac{-diff g(x)*f(x)+g(x)*\\diff f(x)}\\$\n",
    "$带入\\a=\\frac{\\diff f(x)}{\\diff g(x)}*y^2-\\frac{\\diff g(x)}{ f(x)}$\n",
    "$4(1)$\n",
    "$\\int\\mathrm{2x}\\,\\mathrm{d}x$\n",
    "$y=x^2+c$\n",
    "$(2)$\n",
    "$y=4 x=1$\n",
    "$c=3$\n",
    "$y=x^2+3$\n",
    "$(3)$\n",
    "$x^2+c=2x+3$\n",
    "$△=b^2-4ac=0$\n",
    "$c=4$\n",
    "$y=x^2+4$\n",
    "$1(6)$\n",
    "$\\int\\1/y \\mathrm{d}y-1/x、\\mathrm{d}x+(1/y^2-1/x^2)^(1/2)\\mathrm{d}x=0$\n",
    "$(7)$\n",
    "$\\1/\\cot x \\mathrm{d}x-1/\\tan y \\mathrm{d}y=0$\n",
    "$2(6)$\n",
    "$\\int\\frac{1/3\\mathrm{d}y^3}{\\mathrm{d}x}=\\frac{(y^3/x)^2-2}{2*y^3/x+1}$\n",
    "$u=y^3/x$\n",
    "$\\frac{\\mathrm{d}y^3}{\\mathrm{d}x}=\\frac{x\\mathrm{d}u}{\\mathrm{d}x}+u$\n",
    "$(7)$\n",
    "$\\frac{2x^2+3y^2+1}{3x^2+2y^2-1}=\\frac{\\mathrm{d}y^2}{\\mathrm{d}x^2}$\n",
    "$u=x^2 v=y^2$\n",
    "${[2u+3v+1=0][3u+2v-1=0]}$\n",
    "${[U=u-1][V=v+1]}$\n",
    "${[2U+3V=0][3U+2V]}$\n",
    "$\\frac{\\mathrm{d}U{\\mathrm{d}V}}=\\frac{[2U+3V=0][3U+2V]}=g(\\frac{U}{V})$"
   ]
  },
  {
   "cell_type": "markdown",
   "metadata": {
    "collapsed": true
   },
   "source": [
    "# <font color='red'>D 12/9"
   ]
  },
  {
   "cell_type": "code",
   "execution_count": null,
   "metadata": {
    "collapsed": true
   },
   "outputs": [],
   "source": []
  }
 ],
 "metadata": {
  "kernelspec": {
   "display_name": "SageMath 7.3",
   "language": "",
   "name": "sagemath"
  },
  "language_info": {
   "codemirror_mode": {
    "name": "ipython",
    "version": 2
   },
   "file_extension": ".py",
   "mimetype": "text/x-python",
   "name": "python",
   "nbconvert_exporter": "python",
   "pygments_lexer": "ipython2",
   "version": "2.7.10"
  }
 },
 "nbformat": 4,
 "nbformat_minor": 0
}
