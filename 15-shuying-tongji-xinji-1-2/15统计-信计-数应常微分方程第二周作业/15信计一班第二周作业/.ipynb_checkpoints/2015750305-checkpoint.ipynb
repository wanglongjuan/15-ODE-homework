{
 "cells": [
  {
   "cell_type": "markdown",
   "metadata": {},
   "source": [
    "# 有理整式的概念\n"
   ]
  },
  {
   "cell_type": "markdown",
   "metadata": {},
   "source": [
    "1有理式,包括分式和整式.这种代数式中对于字母只进行有限次加、减、乘、除和整数次乘方这些运算.例如2x + 2y等都是有理式.在代数式的分类中,所指的运算都是针对字母的.如代数式的开方运算没有针对字母,所以仍属有理式,不算无理式.\n",
    "整式\n",
    "　　除数中不含有字母的有理式,叫做整式.　　例如:　　20 　　a 　　2a/3 + b 　　a^2 * b^3\n",
    "分式\n",
    "　　除数中含有字母且除数不为0的有理式,叫做分式.　　例如:　　a / b 　　2 * a^3 / b^2 　　5 * a * b^-1 (=5 * a / b) 有理式包括整式和分式两种,其中整式包括单项式和多项式,如单个数,单个字以及数与字母的积(象1/2,-7a,∏等)都是单项式,而几个单项式的和构成了多项式\n",
    "(如5-x,57+8a/8等),而分式则必须满足两个条件:一是分母中含有字母,二是分子\n",
    "和分母都是整式.如1/a,7-3/y,x^2/x等都是分式.现在你能区分有理式,整式 ,有理式 \n",
    "rational expression \n",
    "代数式的一种.包括分式和整式.这种代数式中对于字母只进行有限次加、减、乘、除和正整数次乘方这些运算.例如x2 + y2,等都是有理式.在代数式的分类中,所指的运算都是针对字母的.如代数式,开方运算没有针对字母,所以仍属有理式,不算无理式.另外,分类是就形式而说的.如代数式,虽然恒等于有理式（x+1）2,但仍不能看作有理式（应属无理式）.\n",
    "有理式的次数可以是任何整数,但一般不可以是小数或分数（平方数、立方数等除外）"
   ]
  },
  {
   "cell_type": "markdown",
   "metadata": {
    "collapsed": true
   },
   "source": [
    "$*例如$"
   ]
  },
  {
   "cell_type": "markdown",
   "metadata": {
    "collapsed": true
   },
   "source": [
    "$\\frac{\\mathrm d^2 y}{\\mathrm d^2 x} \\quad {\\mathrm d y \\over \\mathrm d x}$"
   ]
  },
  {
   "cell_type": "markdown",
   "metadata": {},
   "source": [
    "$\\frac{d^3 y}{d^3 x}\\quad ......\\frac{d^n y}{d^n x}$"
   ]
  },
  {
   "cell_type": "markdown",
   "metadata": {},
   "source": [
    "$为一次有理式的微分方程$"
   ]
  },
  {
   "cell_type": "markdown",
   "metadata": {},
   "source": [
    "\n"
   ]
  },
  {
   "cell_type": "markdown",
   "metadata": {},
   "source": [
    "# 通解中，解对常数的独立性？"
   ]
  },
  {
   "cell_type": "markdown",
   "metadata": {},
   "source": [
    "我们把含有n个独立的常数$ c_1 c_2 c_3 .......c_n$的解"
   ]
  },
  {
   "cell_type": "markdown",
   "metadata": {},
   "source": [
    " $y=\\varphi(x,c_1,c_2, ....c_n)$\n"
   ]
  },
  {
   "cell_type": "markdown",
   "metadata": {},
   "source": [
    "关于解对常数的独立性来说对$\\varphi$及其n-1阶偏导数关于$c_1....c_n$的雅可比不等式的行列式不等于0。而对于函数$y_i=f_i(x_1,x_2....x_n)一阶偏导函数在某开集 \\subset R^n上连续，在D内f_1,....f_m不能表示为其余函数的函数，我们称在D独立 $"
   ]
  },
  {
   "cell_type": "markdown",
   "metadata": {},
   "source": [
    "# 设$y_1(t)$是$\\frac{d  y}{d t}=f(y)$,$y(0)=y_0$的解，证明$y_2(t)=y_1(t-t_0)$是$\\frac{d y} {d t}=f(y),y(t_0)=y_0$的解"
   ]
  },
  {
   "cell_type": "markdown",
   "metadata": {
    "collapsed": true
   },
   "source": [
    "$y=x^2+1,y^{\\prime}=y^2-(x^2+1)y+2x;$"
   ]
  },
  {
   "cell_type": "markdown",
   "metadata": {},
   "source": [
    "1 $ y=x^2+1    \\quad           y^{\\prime}=2x$"
   ]
  },
  {
   "cell_type": "markdown",
   "metadata": {
    "collapsed": true
   },
   "source": [
    "2  $y^2-(x^2+1)+2x$=2x"
   ]
  },
  {
   "cell_type": "markdown",
   "metadata": {},
   "source": [
    "3  令x=1$\\quad y=1 \\quad  y{\\prime}=2$"
   ]
  },
  {
   "cell_type": "markdown",
   "metadata": {},
   "source": [
    "4  $2=1-1+2$"
   ]
  },
  {
   "cell_type": "markdown",
   "metadata": {},
   "source": [
    "所以$y=x^2+1$"
   ]
  },
  {
   "cell_type": "markdown",
   "metadata": {},
   "source": [
    "$y=-\\frac{g(x)}{f(x)} \\quad  y^{\\prime}=\\frac{f^{\\prime}(x)}{g(x)}y^2-\\frac{g^{\\prime}(x)}{f(x)}$"
   ]
  },
  {
   "cell_type": "markdown",
   "metadata": {},
   "source": [
    "*解*"
   ]
  },
  {
   "cell_type": "markdown",
   "metadata": {},
   "source": [
    "1  $y^{\\prime} =\\frac{g^{\\prime}(x)f(x)-g(x)f^{\\prime}(x)}{f^2(x)}$"
   ]
  },
  {
   "cell_type": "markdown",
   "metadata": {},
   "source": [
    "2  $\\frac{f^{\\prime}(x)y^2}{g(x)}-\\frac{g^{\\prime}(x)}{f(x)}=  y^{\\prime} =\\frac{g^{\\prime}(x)f(x)-g(x)f^{\\prime}(x)}{f^2(x)}$"
   ]
  },
  {
   "cell_type": "markdown",
   "metadata": {},
   "source": [
    "给定一阶微分方程$\\frac{d y}{d x}=2x$"
   ]
  },
  {
   "cell_type": "markdown",
   "metadata": {},
   "source": [
    "$(1)求出它的通解$"
   ]
  },
  {
   "cell_type": "markdown",
   "metadata": {},
   "source": [
    "$y=x^2+c$"
   ]
  },
  {
   "cell_type": "markdown",
   "metadata": {},
   "source": [
    "$(2)求通过（1，4）的特解$"
   ]
  },
  {
   "cell_type": "markdown",
   "metadata": {},
   "source": [
    "$x=1  \\quad   y=4   \\quad  c=3$"
   ]
  },
  {
   "cell_type": "markdown",
   "metadata": {},
   "source": [
    "$y=x^2+3$"
   ]
  },
  {
   "cell_type": "markdown",
   "metadata": {},
   "source": [
    "$（3）求出与直线y=x^2+3相切的解$"
   ]
  },
  {
   "cell_type": "markdown",
   "metadata": {},
   "source": [
    "$与y=2x+3相切 即\\quad2x^2-2x+c-3=0只有一个解$"
   ]
  },
  {
   "cell_type": "markdown",
   "metadata": {},
   "source": [
    "$4-8(c-3)=0$"
   ]
  },
  {
   "cell_type": "markdown",
   "metadata": {},
   "source": [
    "$c=4$"
   ]
  },
  {
   "cell_type": "markdown",
   "metadata": {},
   "source": [
    "$(4)求出满足条件 \\int_0^1 ydx=2的解$"
   ]
  },
  {
   "cell_type": "markdown",
   "metadata": {},
   "source": [
    "$\\int_0^1 (x^2+c)dx=2$ $ \\quad 1/3x^3+cx$"
   ]
  },
  {
   "cell_type": "markdown",
   "metadata": {},
   "source": [
    "$ \\quad 1/3x^3+cx   \\quad   x=1$"
   ]
  },
  {
   "cell_type": "markdown",
   "metadata": {},
   "source": [
    "$1/3+c=2   \\quad  c=5/3$"
   ]
  },
  {
   "cell_type": "markdown",
   "metadata": {},
   "source": [
    "$(5)绘出图形$"
   ]
  },
  {
   "cell_type": "code",
   "execution_count": 13,
   "metadata": {
    "collapsed": false
   },
   "outputs": [
    {
     "data": {
      "image/png": "[encoded data removed]",
      "text/plain": [
       "Graphics object consisting of 1 graphics primitive"
      ]
     },
     "metadata": {},
     "output_type": "display_data"
    }
   ],
   "source": [
    "var('x')\n",
    "y=x^2+3\n",
    "show(plot(y,x),aspect_ratio = 3)"
   ]
  },
  {
   "cell_type": "code",
   "execution_count": 2,
   "metadata": {
    "collapsed": false
   },
   "outputs": [
    {
     "data": {
      "image/png": "[encoded data removed]",
      "text/plain": [
       "Graphics object consisting of 1 graphics primitive"
      ]
     },
     "execution_count": 2,
     "metadata": {},
     "output_type": "execute_result"
    }
   ],
   "source": [
    "var('x')\n",
    "y=x^2+4\n",
    "plot(y,x)"
   ]
  },
  {
   "cell_type": "code",
   "execution_count": 18,
   "metadata": {
    "collapsed": false
   },
   "outputs": [
    {
     "data": {
      "image/png": "[encoded data removed]",
      "text/plain": [
       "Graphics object consisting of 1 graphics primitive"
      ]
     },
     "execution_count": 18,
     "metadata": {},
     "output_type": "execute_result"
    }
   ],
   "source": [
    "var('x')\n",
    "y=x^2+5/3\n",
    "plot(y,x)"
   ]
  },
  {
   "cell_type": "markdown",
   "metadata": {
    "collapsed": true
   },
   "source": [
    "$x \\frac{d y}{dx}-y+\\sqrt{x^2-y^2}=0$"
   ]
  },
  {
   "cell_type": "markdown",
   "metadata": {},
   "source": [
    "$解$\n"
   ]
  },
  {
   "cell_type": "markdown",
   "metadata": {},
   "source": [
    "1   $x \\frac{d y}{dx}-y+\\sqrt{x^2-y^2}=0$ $\\quad  等式两边除以x$"
   ]
  },
  {
   "cell_type": "markdown",
   "metadata": {},
   "source": [
    "2 $ \\quad \\frac{d y}{dx}-\\frac{y}{x}+\\sqrt{\\frac{x^2}{x^2}-\\frac{y^2}{x^2}}=0$"
   ]
  },
  {
   "cell_type": "markdown",
   "metadata": {},
   "source": [
    "3$\\quad u=y/x$"
   ]
  },
  {
   "cell_type": "markdown",
   "metadata": {},
   "source": [
    "4$\\quad  \\frac{d ux}{d x}-u+\\sqrt{1-u^2}=0$"
   ]
  },
  {
   "cell_type": "markdown",
   "metadata": {},
   "source": [
    "5$\\quad  \\frac{d u}{$x \\frac{d y}{dx}-y+\\sqrt{x^2-y^2}=0$d x}+\\sqrt{1-u^2}=0$"
   ]
  },
  {
   "cell_type": "markdown",
   "metadata": {},
   "source": [
    "$\\frac{1}{dx}x=-\\frac{d u}{\\sqrt{x^2-y^2}}$"
   ]
  },
  {
   "cell_type": "markdown",
   "metadata": {},
   "source": [
    "$ln|x|=-arcsinu$"
   ]
  },
  {
   "cell_type": "markdown",
   "metadata": {},
   "source": [
    "$arcsin\\frac{y}{x}=ln|x|+c$"
   ]
  },
  {
   "cell_type": "markdown",
   "metadata": {},
   "source": [
    "$y^2=x^2$"
   ]
  },
  {
   "cell_type": "markdown",
   "metadata": {},
   "source": [
    "$tan ydx-cot xdy=0$"
   ]
  },
  {
   "cell_type": "markdown",
   "metadata": {},
   "source": [
    "$解$"
   ]
  },
  {
   "cell_type": "markdown",
   "metadata": {},
   "source": [
    "$\\frac{d y}{tan y}dy=tanxdx$"
   ]
  },
  {
   "cell_type": "markdown",
   "metadata": {},
   "source": [
    "$\\frac{cos y}{sin y}dy=\\frac{sinx}{cosx}dx$"
   ]
  },
  {
   "cell_type": "markdown",
   "metadata": {},
   "source": [
    "$siny cosy=c ,y=k\\pi\\quad k=0,\\pm1.....$"
   ]
  },
  {
   "cell_type": "markdown",
   "metadata": {},
   "source": [
    "$\\frac{dy}{dx}$=$\\frac{y^6-2x^2}{2xy^5+x^2y^2}$"
   ]
  },
  {
   "cell_type": "markdown",
   "metadata": {},
   "source": [
    "$解$"
   ]
  },
  {
   "cell_type": "markdown",
   "metadata": {},
   "source": [
    "$2xy^5dy+x^2y^2dy=y^6dx-2x^2dx$"
   ]
  },
  {
   "cell_type": "markdown",
   "metadata": {},
   "source": [
    "$\\int2x y^5 \\mathrm{d}y$+$\\int x^2y^2 \\mathrm{d}y$=$\\int y^6 \\mathrm{d}x$+$\\int2x^2\\mathrm{d}x$"
   ]
  },
  {
   "cell_type": "markdown",
   "metadata": {},
   "source": [
    "$(y^3-3x)^7(y^3+2x)^3=cx^{15}$"
   ]
  },
  {
   "cell_type": "markdown",
   "metadata": {},
   "source": [
    "$\\frac{dy}{dx}$=$\\frac{2x^3+3xy^2+x}{3x^2y+2y^3-y}$"
   ]
  },
  {
   "cell_type": "markdown",
   "metadata": {},
   "source": [
    "$解  \\quad(3x^2y+2x^3-y)dy=(2x^3+3xy^2+x)dx$"
   ]
  },
  {
   "cell_type": "markdown",
   "metadata": {},
   "source": [
    "$\\int {3x^2y+2x^3-y}\\mathrm {d}y=\\int {2x^3+3xy^2+x}\\mathrm {d}x$"
   ]
  },
  {
   "cell_type": "markdown",
   "metadata": {},
   "source": [
    "$(y^2-x^2+2)^5=c(x^2+y^2)$"
   ]
  },
  {
   "cell_type": "markdown",
   "metadata": {
    "collapsed": true
   },
   "source": [
    "# <font color='red'>A 12/9"
   ]
  },
  {
   "cell_type": "code",
   "execution_count": null,
   "metadata": {
    "collapsed": true
   },
   "outputs": [],
   "source": []
  }
 ],
 "metadata": {
  "kernelspec": {
   "display_name": "SageMath 7.3",
   "language": "",
   "name": "sagemath"
  },
  "language_info": {
   "codemirror_mode": {
    "name": "ipython",
    "version": 2
   },
   "file_extension": ".py",
   "mimetype": "text/x-python",
   "name": "python",
   "nbconvert_exporter": "python",
   "pygments_lexer": "ipython2",
   "version": "2.7.10"
  }
 },
 "nbformat": 4,
 "nbformat_minor": 0
}
