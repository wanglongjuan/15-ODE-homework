{
 "cells": [
  {
   "cell_type": "markdown",
   "metadata": {
    "collapsed": true
   },
   "source": [
    "验证下例各函数是相应各方程的解：\n",
    "（7）y+x^2+1，y'=Y^2-(X^2+1)y+2x\n",
    "(8)y=-g(x)/f(x),y'=f'(x)/g(x)y^2-g'(x)/f（x)\n",
    "解：(7)因为y=x^2+1,y,=2x所以y^2-(x^2+1)y+2x=(x^2+1)^2-(x^2+1))(x^2+1)+2x+2x+y'\n",
    "   (8)：$因为y=-g（x）/f（x）$\n",
    "\n",
    "   $所以y'=[g'(x)f(x)-g(x)f'(x)]/f^2(x)=g(x)f'(x)/f^2(x)-g'(x)/f(x)$\n",
    "   \n",
    "   $又y^2f'(x)/g(x)-g'(x)/f(x)=f'(x)/g(x)[-g(x)/f(x)]^2-g'(x)/f(x)=g(x)f'(x)/f^2(x)-g'(x)/f(x)=y'$\n",
    "   \n",
    "   $所以，y=-g(x)/f(x)是y'=y^2f'(x)/g(x)-g'(x)/f(x)的解。$\n",
    "27页 4题\n",
    "（1）$由dy=2x，得dy=2xdx，方程两边同时积分，即得y=x^2+c,c为常数$\n",
    "\n",
    "   $所以，方程dy=2x的通解为y=x^2+c,c为任意常数$\n",
    "（2）$把点（1，4）代入y=x^2+c得c=3$\n",
    "\n",
    "  $所以过点（1，4）的特解为y=x^2+3$\n",
    "（3）$因为与直线相切，所以方程组有且只有唯一解，即x^2=2x+3有唯一解，因此c=4$\n",
    " \n",
    " $所以，与直线y=2x+3相切的解是y=x^2+4$\n",
    "（4）$由题意可知c=5/3$\n",
    "\n",
    "  $所以，y=x^2+5/3$\n",
    "（5）\n",
    "    p42  1题第7小题 \n",
    "    tanydx-cotxdy=0\n",
    "    解：将方程变为1/tangydy=1/cotxdx\n",
    "    两边求积分得ln|siny|=ln|cosx|+c_1(c_1为常数）\n",
    "    即sinycosxc其中c=±e^c_1为非0常数\n",
    "    另外，y=kπ,k=0,±1,±2.......也是方程的解。\n",
    "    p43 2题第6小题\n",
    "    dy/dx=(y^6-2x^2)/(2xy^5+x^2y^2)\n",
    "    解：令u=y^3,则方程可以变行为du/dx=(3u^2-6x^2)/(2xu+u^2)\n",
    "    再令w=v/u,即v=uw,则上面方程可化为xdv/dx+v=(3v^2-6)/(2v+1)\n",
    "    得7/5*dv/(v-3)+3/5*dv/(v+2)=dx/x\n",
    "    两边积分得(v-3)^7(v+2)^3=c*x^5\n",
    "    代回原变量，化简得（y^3-3x)^7(y^3+2x)^3=c*x^15\n",
    "    p43 2题第7小题\n",
    "    dy/dx=(2x^3+3xy^2+x)/(3x^2y+2y^3-y）\n",
    "   解：原方程可化为ydy/xdx=(2x^2+3y^2+1)/3x^2+2y^2-1)\n",
    "   令 u=x^2-1，v=y^2+1,则化为dv/du=(2u+3v)/(3u+2v)\n",
    "   令w=v/u,即v=uw,则有dv/du=w+udw/du,从而，udw/du=(2-2w^2)/(3+2w)\n",
    "   分离变量得4/udu=(5/(1-w)+1/(1+w)dw\n",
    "   两边积分得u^4(1-w)^5=c(1+w)\n",
    "   代回原变量得\n",
    "   （x^@-y^2-2)^5=c(x^2+y^2)\n",
    "   \n",
    "    \n",
    "    \n",
    "    "
   ]
  },
  {
   "cell_type": "markdown",
   "metadata": {},
   "source": [
    "# <font color='red'>c 12/9"
   ]
  },
  {
   "cell_type": "code",
   "execution_count": null,
   "metadata": {
    "collapsed": true
   },
   "outputs": [],
   "source": []
  }
 ],
 "metadata": {
  "kernelspec": {
   "display_name": "SageMath 7.3",
   "language": "",
   "name": "sagemath"
  },
  "language_info": {
   "codemirror_mode": {
    "name": "ipython",
    "version": 2
   },
   "file_extension": ".py",
   "mimetype": "text/x-python",
   "name": "python",
   "nbconvert_exporter": "python",
   "pygments_lexer": "ipython2",
   "version": "2.7.10"
  }
 },
 "nbformat": 4,
 "nbformat_minor": 0
}
