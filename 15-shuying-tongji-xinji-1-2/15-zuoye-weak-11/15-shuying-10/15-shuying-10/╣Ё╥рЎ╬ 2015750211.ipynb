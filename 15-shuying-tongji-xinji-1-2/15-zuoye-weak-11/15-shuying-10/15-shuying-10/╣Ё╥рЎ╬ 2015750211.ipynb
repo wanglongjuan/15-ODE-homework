{
 "cells": [
  {
   "cell_type": "markdown",
   "metadata": {},
   "source": [
    "# 第十一周 常微分方程作业  2015750211"
   ]
  },
  {
   "cell_type": "markdown",
   "metadata": {},
   "source": [
    "## P.165\n",
    "## 2.求解下列常系数线性微分方程\n",
    "**(桂亦鑫2015750211)**"
   ]
  },
  {
   "cell_type": "markdown",
   "metadata": {},
   "source": [
    "### (12)$x''+6x'+5x=e^{2t};$\n",
    "### (14)$x''+x=\\sin t-\\cos 2t;$\n",
    "### (16)$x''+9x=t\\sin 3t;$\n",
    "**(桂亦鑫2015750211)**"
   ]
  },
  {
   "cell_type": "markdown",
   "metadata": {},
   "source": [
    "### (12)解:先求对应的齐次线性方程$$x''+6x'+5x=0$$的通解.这里特征方程$\\lambda^2+6\\lambda+5=0$有两个根$\\lambda_1=-1,\\lambda_2=-5.$因此该方程的通解为$$x=c_1e^{-t}+c_2e^{-5t},(其中c_1,c_2为任意常数)$$\n",
    "\n",
    "### 再求非齐次线性微分方程的一个特解.这里为$f(t)=e^{2t}$,但$\\lambda=2$并不是特征方程的根,所以方程有形如$$x=B_me^{2t}$$的特解.\n",
    "\n",
    "### 将$x=B_me^{2t}$代入原方程比较系数可得$$(4B_m+12B_m+5B_m)e^{2t}=e^{2t}$$从而$B_m=\\frac{1}{21},$所以原方程的一个特解为$$x=\\frac{1}{21}e^{2t}$$\n",
    "\n",
    "### 所以原方程的通解为$$x=c_1e^{-t}+c_2e^{-5t}+\\frac{1}{21}e^{2t},(其中c_1,c_2为任意常数)$$\n",
    "**(桂亦鑫2015750211)**"
   ]
  },
  {
   "cell_type": "markdown",
   "metadata": {},
   "source": [
    "### (14)解:先求对应的齐次线性方程$$x''+x=0$$的通解.这里特征方程$\\lambda^2+1=0$有两个根$\\lambda_1=-i,\\lambda_2=i.$因此该方程的通解为$$x=c_1e^{-it}+c_2e^{it},(其中c_1,c_2为任意常数)$$  \n",
    "\n",
    "### 对于此通解我们只取实部有$$x=c_1\\cos t+c_2\\sin t,(其中c_1,c_2为任意常数)$$\n",
    "\n",
    "### 再求非齐次线性微分方程的一个特解.我们分别求当$f_1(t)=-\\cos 2t和f_2(t)=\\sin t$时的特解.\n",
    "\n",
    "### 我们知道$$x=A\\cos 2t+B\\sin 2t以及x=Ct\\cos t$$分别为当$f_1(t)=-\\cos 2t和f_2(t)=\\sin t$时的形式特解.\n",
    "\n",
    "### 将$x=A\\cos 2t+B\\sin 2t以及x=Ct\\cos t$分别代入原方程比较系数可得$A=\\frac{1}{3},B=0，C=-\\frac{1}{2}$所以原方程的一个特解为$$x=\\frac{1}{3}\\cos 2t-\\frac{1}{2}t\\cos t$$\n",
    "\n",
    "### 所以原方程的通解为$$x=c_1\\cos t+c_2\\sin t+\\frac{1}{3}\\cos 2t-\\frac{1}{2}t\\cos t,(其中c_1,c_2为任意常数)$$\n",
    "**(桂亦鑫2015750211)**"
   ]
  },
  {
   "cell_type": "markdown",
   "metadata": {},
   "source": [
    "### (16)解:先求对应的齐次线性方程$$x''+9x=0$$的通解.这里特征方程$\\lambda^2+9=0$有两个根$\\lambda_1=3i,\\lambda_2=-3i.$因此该方程的通解为$$x=c_1e^{3t}+c_2e^{-3t},(其中c_1,c_2为任意常数)$$\n",
    "\n",
    "### 对于此通解我们只取实部有$$x=c_1\\cos 3t+c_2\\sin 3t,(其中c_1,c_2为任意常数)$$\n",
    "\n",
    "### 再求非齐次线性微分方程的一个特解.这里方程有形如$$x=t(A+Bt)\\cos 3t+t(C+Dt)\\sin 3t$$的特解.\n",
    "\n",
    "### 将$x=t(A+Bt)\\cos 3t+t(C+Dt)\\sin 3t$代入原方程比较系数可得原方程的一个特解为$$x=-\\frac{1}{12}t^2\\cos 3t+\\frac{1}{36}t\\sin 3t$$\n",
    "\n",
    "### 所以原方程的通解为$$x=c_1\\cos 3t+c_2\\sin 3t-\\frac{1}{12}t^2\\cos 3t+\\frac{1}{36}t\\sin 3t,(其中c_1,c_2为任意常数)$$\n",
    "**(桂亦鑫2015750211)**"
   ]
  },
  {
   "cell_type": "markdown",
   "metadata": {
    "collapsed": true
   },
   "source": [
    "## P165."
   ]
  },
  {
   "cell_type": "markdown",
   "metadata": {},
   "source": [
    "### 4.求下组初值问题的解\n",
    "### (1)$x''+9x=6e^{3t},x(0)=x'(0)=0;$\n",
    "### (2)$x^{(4)}+x=2e^{t},x(0)=x'(0)=x''(0)=x'''(0)=1;$\n",
    "**(桂亦鑫2015750211)**"
   ]
  },
  {
   "cell_type": "markdown",
   "metadata": {},
   "source": [
    "### (1)解:对方程两边施行拉普拉斯变换,得到方程的解的像函数所应满足的方程$$s^2X(s)-sx(0)-x'0(0)+9X(s)=6\\frac{1}{s-3}$$由此,并注意到$x(0)=x'(0)=0,$得$$X(s)=\\frac{6}{(s-3)(s^2+9)}=\\frac{1}{3(s-3)}-\\frac{s}{3(s^2+9)}-\\frac{1}{s^2+9}$$\n",
    "### 直接查拉普拉斯变换表可得$\\frac{1}{3(s-3)},\\frac{s}{3(s^2+9)}和\\frac{1}{s^2+9}$的原函数分别为$\\frac{1}{3}e^{3t},\\frac{1}{3}\\cos 3t,\\frac{1}{3}\\sin 3t$因此利用线性性质,就求得$X(s)$的原函数为$$x(t)=\\frac{1}{3}e^{3t}-\\frac{1}{3}\\cos 3t-\\frac{1}{3}\\sin 3t$$这就是所要求的解\n",
    "**(桂亦鑫2015750211)**"
   ]
  },
  {
   "cell_type": "markdown",
   "metadata": {},
   "source": [
    "### (2)解:对方程两边施行拉普拉斯变换,得到方程的解的像函数所应满足的方程$$s^4X(s)-s^3x(0)-s^2x'(0)-sx''(0)-x'''(0)+X(s)=2\\frac{1}{s-1}$$由此,并注意到$x(0)=x'(0)=x''(0)=x'''(0)=1,$得$$X(s)=\\frac{1}{(s-1)}=\\frac{1}{(s-1)}$$\n",
    "### 直接查拉普拉斯变换表可得$\\frac{1}{s-1}$的原函数分别为$e^t$因此利用线性性质,就求得$X(s)$的原函数为$$x(t)=e^t$$这就是所要求的解\n",
    "**(桂亦鑫2015750211)**"
   ]
  },
  {
   "cell_type": "markdown",
   "metadata": {
    "collapsed": true
   },
   "source": [
    "# <font color='red'>A+  18/11"
   ]
  },
  {
   "cell_type": "code",
   "execution_count": null,
   "metadata": {
    "collapsed": true
   },
   "outputs": [],
   "source": []
  }
 ],
 "metadata": {
  "kernelspec": {
   "display_name": "SageMath 7.3",
   "language": "",
   "name": "sagemath"
  },
  "language_info": {
   "codemirror_mode": {
    "name": "ipython",
    "version": 2
   },
   "file_extension": ".py",
   "mimetype": "text/x-python",
   "name": "python",
   "nbconvert_exporter": "python",
   "pygments_lexer": "ipython2",
   "version": "2.7.10"
  }
 },
 "nbformat": 4,
 "nbformat_minor": 0
}
