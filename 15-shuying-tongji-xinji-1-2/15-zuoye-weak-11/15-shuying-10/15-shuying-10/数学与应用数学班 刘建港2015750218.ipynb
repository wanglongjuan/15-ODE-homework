{
 "cells": [
  {
   "cell_type": "markdown",
   "metadata": {},
   "source": [
    "**数学与应用数学班**"
   ]
  },
  {
   "cell_type": "markdown",
   "metadata": {},
   "source": [
    "**刘建港 2015750218**"
   ]
  },
  {
   "cell_type": "markdown",
   "metadata": {},
   "source": [
    "**P165——2**"
   ]
  },
  {
   "cell_type": "markdown",
   "metadata": {},
   "source": [
    "（12）$x''+6x'+5x=e^{2t}$"
   ]
  },
  {
   "cell_type": "markdown",
   "metadata": {},
   "source": [
    "**解：**该方程所对应齐次方程的特征方程为$$\\lambda^2+6\\lambda+5=0$$解得其特征根为$$\\lambda_1=-1,\\lambda_2=-5$$令方程的一个特解为$\\overline x=Ae^{2t}$,带入方程中，得：$$A=\\frac{1}{21}$$即，特解应为：$$\\overline x=\\frac{1}{2}e^{2t}$$$\\therefore$方程通解为$$x=c_1e^{-1t}+c_2e^{-5t}$$$c_1,c_2$为任意常数"
   ]
  },
  {
   "cell_type": "markdown",
   "metadata": {},
   "source": [
    "(14)$x''+x=sint-cos2t$"
   ]
  },
  {
   "cell_type": "markdown",
   "metadata": {},
   "source": [
    "**解：**该方程所对应齐次方程的特征方程为$$\\lambda^2+1=0$$解得其特征根为：$$\\lambda_1=i,\\lambda_2=-i$$"
   ]
  },
  {
   "cell_type": "markdown",
   "metadata": {},
   "source": [
    "关于方程$x''+x=sint$，设其特解为$\\overline x=t(Asint+Bcost)$带入前面方程得到$$A=0,B=-\\frac{1}{2}$$即前面方程的一个特解为$$\\overline x=\\frac{1}{2}tcost$$"
   ]
  },
  {
   "cell_type": "markdown",
   "metadata": {},
   "source": [
    "关于方程$x''+x=-cos2t$，设其特解为$\\overline x=Acos2t+Bsin2t$带入前面方程得到$$A=\\frac{1}{3},B=0$$即前面方程的一个特解为$$\\overline x=\\frac{1}{3}cos2t$$"
   ]
  },
  {
   "cell_type": "markdown",
   "metadata": {},
   "source": [
    "$\\therefore$原方程的通解为$$x=c_1cost+c_2sint-\\frac{1}{2}tcost+\\frac{1}{3}cos2t$$$c_1,c_2$为任意常数"
   ]
  },
  {
   "cell_type": "markdown",
   "metadata": {},
   "source": [
    "(16)$x''+9x=tsin3t$"
   ]
  },
  {
   "cell_type": "markdown",
   "metadata": {},
   "source": [
    "**解:**该方程所对应齐次方程的特征方程为$$\\lambda^2+9=0$$解得其特征根为$$\\lambda_1=3i,\\lambda_2=-3i$$设方程的一个特解为$\\overline x=t[(At+B)cos3t+(Et+F)sin3t]$将其代入方程，得：$$A=-\\frac{1}{12},F=\\frac{1}{36},B=0,E=0$$即方程的一个特解为$$\\overline x=-\\frac{1}{12}t^2cos3t+\\frac{1}{36}tsin3t$$"
   ]
  },
  {
   "cell_type": "markdown",
   "metadata": {},
   "source": [
    "$\\therefore$方程的通解为$$x=c_1cos3t+c_2sin3t-\\frac{1}{12}t^2cos3t+\\frac{1}{36}tsin3t$$$c_1,c_2$为任意常数"
   ]
  },
  {
   "cell_type": "markdown",
   "metadata": {},
   "source": [
    "**P165——4**"
   ]
  },
  {
   "cell_type": "markdown",
   "metadata": {},
   "source": [
    "（1）$x''+9x=6e^{3t},x(0)=x'(0)=0$"
   ]
  },
  {
   "cell_type": "markdown",
   "metadata": {},
   "source": [
    "**解：**对原方程两边做拉普拉斯变换：$$(x^2+9)X(s)=\\frac{6}{s-3}$$$$X(s)=\\frac{1}{3}\\left[\\frac{1}{s-3}-\\frac{s}{s^2+9}\\right]-\\frac{1}{s^3+9}$$对上式两端分别求其原函数并求和，得到$X(s)$的原函数即方程的解：$$x(t)=\\frac{1}{3}(e^3t-cos3t-sin3t)$$"
   ]
  },
  {
   "cell_type": "markdown",
   "metadata": {},
   "source": [
    "（2）$x^{(4)}+x=2e^t,x'(0)=x''(0)=x'''(0)=1$"
   ]
  },
  {
   "cell_type": "markdown",
   "metadata": {},
   "source": [
    "**解：**对方程两边做拉普拉斯变换：$$s^4X(s)-s^3-s^2-s-1+X(s)=\\frac{2}{s-1}$$$$X(s)=\\frac{1}{s-1}$$对上式两端分别求其原函数并求和，得到$X(s)$的原函数即方程的解：$$x(t)-e^t$$"
   ]
  },
  {
   "cell_type": "markdown",
   "metadata": {
    "collapsed": true
   },
   "source": [
    "# <font color='red'>A  18/11"
   ]
  },
  {
   "cell_type": "code",
   "execution_count": null,
   "metadata": {
    "collapsed": true
   },
   "outputs": [],
   "source": []
  }
 ],
 "metadata": {
  "kernelspec": {
   "display_name": "SageMath 7.3",
   "language": "",
   "name": "sagemath"
  },
  "language_info": {
   "codemirror_mode": {
    "name": "ipython",
    "version": 2
   },
   "file_extension": ".py",
   "mimetype": "text/x-python",
   "name": "python",
   "nbconvert_exporter": "python",
   "pygments_lexer": "ipython2",
   "version": "2.7.10"
  }
 },
 "nbformat": 4,
 "nbformat_minor": 0
}
