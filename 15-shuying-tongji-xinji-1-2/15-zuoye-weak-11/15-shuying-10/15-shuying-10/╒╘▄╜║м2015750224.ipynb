{
 "cells": [
  {
   "cell_type": "markdown",
   "metadata": {
    "collapsed": false
   },
   "source": [
    "$2.(12)$"
   ]
  },
  {
   "cell_type": "markdown",
   "metadata": {},
   "source": [
    "$对应齐次方程的特征方程,{\\lambda}^2+6{\\lambda}+5=0,它的根{\\lambda}1=-1,{\\lambda}2=-5,故齐次线性方程组的通解为x=c1e^{-t}+c2e^{-5t}$"
   ]
  },
  {
   "cell_type": "markdown",
   "metadata": {},
   "source": [
    "$由于{\\lambda}=2不是特征方程的根，故方程有形如x=Ae^{2t}的特解，带入原方程解得A=/frac{1}{21},于是方程的通解为x=c1e^{-t}+c2e^{-5t}+/frac{1}{21}e^{2t}$"
   ]
  },
  {
   "cell_type": "markdown",
   "metadata": {},
   "source": [
    "$(14).对应齐次方程的特征方程为{\\lambda}^2+1=0，即特征根{\\lambda}1=i,{\\lambda}2=-i,故齐次线性方程的通解为x=c1cos{t}+c2sin{t}$"
   ]
  },
  {
   "cell_type": "markdown",
   "metadata": {},
   "source": [
    "$1.对于方程x\"+x=sin{t}，取特解形如x=t(Acos{t}+Bsin{t}),代入原方程解得$"
   ]
  },
  {
   "cell_type": "markdown",
   "metadata": {},
   "source": [
    "$A=/frac{-1}{2},B=0故x=/frac{-1}{2}tcos{t}$"
   ]
  },
  {
   "cell_type": "markdown",
   "metadata": {},
   "source": [
    "$2.对于方程x\"+x=-cos{2t},特解形如x=Acos{2t}+Bsin{2t},代入原方程解得$"
   ]
  },
  {
   "cell_type": "markdown",
   "metadata": {},
   "source": [
    "$A=/frac{1}{3},B=0,故x=/frac{1}{3}cos{2t}$"
   ]
  },
  {
   "cell_type": "markdown",
   "metadata": {},
   "source": [
    "$故方程的通解为x=c1cos{t}+c2sin{t}-/frac{-1}{2}tcos{t}+/frac{1}{3}cos{2t}$"
   ]
  },
  {
   "cell_type": "markdown",
   "metadata": {},
   "source": [
    "$(16).对应齐次方程的特征方程为{\\lambda}^2+9=0，即得到特征根为{\\lambda}1=3i,{\\lambda}2=-3i$"
   ]
  },
  {
   "cell_type": "markdown",
   "metadata": {},
   "source": [
    "$设方程的一个特解为x=t[(At+b)cos{3t}+(Et+F)sin{3t}],带入方程，得到，A=/frac{-1}{12}，F=/frac{1}{36}，B=E=0$"
   ]
  },
  {
   "cell_type": "markdown",
   "metadata": {},
   "source": [
    "$即方程的一个特解为x=/frac{-1}{12}t^2cos{3t}+/frac{1}{36}tsin{3t}$"
   ]
  },
  {
   "cell_type": "markdown",
   "metadata": {},
   "source": [
    "$于是方程的通解为x=c1cos{3t}+c2sin{3t}+/frac{-1}{12}t^2cos{3t}+/frac{1}{36}tsin{3t},其中c1.c2为任意常数$"
   ]
  },
  {
   "cell_type": "markdown",
   "metadata": {},
   "source": [
    "$4.(1).对于方程两边进行拉普拉斯变换得，（s^2+9）X(s)=/frac{6}{s-3}$"
   ]
  },
  {
   "cell_type": "markdown",
   "metadata": {},
   "source": [
    "$由此得到X（s）=/frac{1}{3}[/frac{1}{s-3}-/frac{s}{s^2+9}]-/frac{1}{s^2+9}$"
   ]
  },
  {
   "cell_type": "markdown",
   "metadata": {},
   "source": [
    "$施行拉普拉斯反变换，查表解得x(t)=/frac{1}{3}e^{2t}-/frac{1}{3}cos{3t}-/frac{1}{3}sin{3t}，此即为所求初值问题的解$"
   ]
  },
  {
   "cell_type": "markdown",
   "metadata": {},
   "source": [
    "$（2）.对方程的两边施加拉普拉斯变换得到，s^4X(s)-s^3-s^2-s-1+X(s)=/frac{2}{s-1}\n",
    "由此得到X(s)=/frac{1}{s-1}\n",
    "实施拉普拉斯变反变换，查表解得x(t)=e^{t},就是所求的解$"
   ]
  },
  {
   "cell_type": "markdown",
   "metadata": {},
   "source": []
  },
  {
   "cell_type": "markdown",
   "metadata": {},
   "source": []
  },
  {
   "cell_type": "markdown",
   "metadata": {},
   "source": []
  },
  {
   "cell_type": "markdown",
   "metadata": {},
   "source": [
    "# <font color='red'>A-  18/11"
   ]
  },
  {
   "cell_type": "code",
   "execution_count": null,
   "metadata": {
    "collapsed": true
   },
   "outputs": [],
   "source": []
  }
 ],
 "metadata": {
  "kernelspec": {
   "display_name": "Python 2",
   "language": "python",
   "name": "python2"
  },
  "language_info": {
   "codemirror_mode": {
    "name": "ipython",
    "version": 2
   },
   "file_extension": ".py",
   "mimetype": "text/x-python",
   "name": "python",
   "nbconvert_exporter": "python",
   "pygments_lexer": "ipython2",
   "version": "2.7.10"
  }
 },
 "nbformat": 4,
 "nbformat_minor": 0
}
