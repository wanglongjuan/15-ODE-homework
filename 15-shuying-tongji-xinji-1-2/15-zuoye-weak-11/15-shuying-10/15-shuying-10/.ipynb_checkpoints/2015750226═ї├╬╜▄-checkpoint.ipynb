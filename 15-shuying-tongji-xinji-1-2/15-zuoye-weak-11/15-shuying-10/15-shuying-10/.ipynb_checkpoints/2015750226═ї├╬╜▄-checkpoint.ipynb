{
 "cells": [
  {
   "cell_type": "markdown",
   "metadata": {},
   "source": [
    "$(12)x''+6x'+5x=e^{2t}$\n",
    "\n",
    "$(14)x''+x=sint-cos2t$\n",
    "\n",
    "$(16)x''+9x=tsin3t$\n"
   ]
  },
  {
   "cell_type": "markdown",
   "metadata": {},
   "source": [
    "解 （12）由题可知\n",
    "\n",
    "方程对应的齐次方程对应的特征方程为\n",
    "\n",
    "$$\n",
    "\\lambda^2+6\\lambda+5=0\n",
    "$$\n",
    "\n",
    "解得 \n",
    "$$\n",
    "\\lambda_1=-1,\\lambda_2=-5\n",
    "$$\n",
    "因此齐次线性微分方程对应的通解为\n",
    "\n",
    "$$\n",
    "x=c_1e^{-t}+c_2e^{-5t}\n",
    "$$\n",
    "\n",
    "因$2不是特征根$\n",
    "故可设特解为$\\overline{x}=Ae^{2t}$\n",
    "将它代入方程可得\n",
    "\n",
    "$$\n",
    "4Ae^{2t}+12Ae^{2t}+5Ae^{2t}=e^{2t}\n",
    "$$\n",
    "\n",
    "解得\n",
    "$$\n",
    "A=\\frac{1}{21}\n",
    "$$\n",
    "于是原方程的通解为\n",
    "\n",
    "$$\n",
    "x=c_1e^{-t}+c_2e^{-5t}+\\frac{1}{21}e^{2t}\n",
    "$$\n"
   ]
  },
  {
   "cell_type": "markdown",
   "metadata": {},
   "source": [
    "(14)解 由题可知\n",
    "\n",
    "方程对应的齐次方程对应的特征方程为\n",
    "$$\n",
    "\\lambda^2+1=0\n",
    "$$\n",
    "\n",
    "解得\n",
    "$$\n",
    "\\lambda_1=i,\\lambda_2=-i\n",
    "$$\n",
    "\n",
    "对于$sint$可得方程\n",
    "$$x''+x=sint$$的特解为$\\overline{x}=t(Asint+Bcost)$\n",
    "\n",
    "将之代入方程得\n",
    "\n",
    "$$\n",
    "2(Acost-Bsint)+t(-Asint+Bcost)+t(Asint+Bcost)=sint\n",
    "$$\n",
    "\n",
    "解得\n",
    "$$\n",
    "A=0,B=-\\frac{1}{2}\n",
    "$$\n",
    "\n",
    "方程$$x''+x=sint$$的特解为$\\overline{x}=-\\frac{1}{2}tcost$\n",
    "\n",
    "对于$$x''+x=-cos2t$$的特解为$\\overline{x}=Asin2t+Bcos2t$\n",
    "\n",
    "将之带入方程得\n",
    "\n",
    "$$\n",
    "-4Asin2t-4Bcos2t+Asin2t+Bcos2t=-cos2t\n",
    "$$\n",
    "\n",
    "解得\n",
    "$$\n",
    "A=0,B=\\frac{1}{3}\n",
    "$$\n",
    "方程$$x''+x=sint$$的特解为$\\overline{x}=\\frac{1}{3}cos2t$\n",
    "\n",
    "于是原方程的通解为\n",
    "$$\n",
    "x=c_1sint+c_2cost-\\frac{1}{2}tcost+\\frac{1}{3}cos2t\n",
    "$$\n"
   ]
  },
  {
   "cell_type": "markdown",
   "metadata": {},
   "source": [
    "(16)解 由题可知\n",
    "\n",
    "方程对应的齐次方程对应的特征方程为\n",
    "$$\n",
    "\\lambda^2+9=0\n",
    "$$\n",
    "\n",
    "解得\n",
    "$$\n",
    "\\lambda_1=3i,\\lambda_2=-3i\n",
    "$$\n",
    "方程$$x''+9x=tsin3t$$的特解为$\\overline{x}=t[（At+B）cos3t+(Ct+D)sin3t)]$\n",
    "\n",
    "将之代入方程得\n",
    "\n",
    "$$A=-\\frac{1}{12},B=C=0,D=\\frac{1}{36}$$\n",
    "\n",
    "方程的特解为$\\overline{x}=-\\frac{1}{12}t^2cos3t+\\frac{1}{36}tsin3t$\n",
    "\n",
    "则方程的通解为\n",
    "\n",
    "$$\n",
    "x=c_1cos3t+c_2sin3t-\\frac{1}{12}t^2cos3t+\\frac{1}{36}tsin3t\n",
    "$$"
   ]
  },
  {
   "cell_type": "markdown",
   "metadata": {},
   "source": [
    "求下组初值问题的解"
   ]
  },
  {
   "cell_type": "markdown",
   "metadata": {},
   "source": [
    "$(1)x''+9x=6e^{3t},x(0)=x'(0)=0$\n",
    "\n",
    "$(2)x_{(4)}+x=2e^t,x(0)=x'(0)=x''(0)=x'''(0)$"
   ]
  },
  {
   "cell_type": "markdown",
   "metadata": {},
   "source": [
    "(1)解 由题可知\n",
    "\n",
    "对方程两边进行拉普拉斯变换得\n",
    "\n",
    "$$\n",
    "s^2X(s)+9X(s)=\\frac{6}{s-3}\n",
    "$$\n",
    "\n",
    "解得\n",
    "\n",
    "$$\n",
    "X(s)=\\frac{6}{(s-3)(s^2+9)}=\\frac{1}{3}[\\frac{1}{s-3}-\\frac{s}{s^2+9}]-\\frac{1}{s^2+9}\n",
    "$$\n",
    "\n",
    "根据拉普拉斯表可得\n",
    "\n",
    "$$\n",
    "x(t)=\\frac{1}{3}(e^{3t}-cos3t-sin3t)\n",
    "$$"
   ]
  },
  {
   "cell_type": "markdown",
   "metadata": {},
   "source": [
    "(2)根据拉普拉斯变换得\n",
    "\n",
    "$$\n",
    "s^4X(s)-s^3-s^2-s-1+X(s)=\\frac{2}{s-1}\n",
    "$$\n",
    "\n",
    "解得\n",
    "\n",
    "$$\n",
    "X(s)=\\frac{1}{s-1}\n",
    "$$\n",
    "\n",
    "根据拉普拉斯表可得\n",
    "\n",
    "$$\n",
    "x(t)=e^t\n",
    "$$"
   ]
  },
  {
   "cell_type": "markdown",
   "metadata": {
    "collapsed": true
   },
   "source": [
    "# <font color='red'>A  18/11"
   ]
  },
  {
   "cell_type": "code",
   "execution_count": null,
   "metadata": {
    "collapsed": true
   },
   "outputs": [],
   "source": []
  }
 ],
 "metadata": {
  "kernelspec": {
   "display_name": "SageMath 7.3",
   "language": "",
   "name": "sagemath"
  },
  "language_info": {
   "codemirror_mode": {
    "name": "ipython",
    "version": 2
   },
   "file_extension": ".py",
   "mimetype": "text/x-python",
   "name": "python",
   "nbconvert_exporter": "python",
   "pygments_lexer": "ipython2",
   "version": "2.7.10"
  }
 },
 "nbformat": 4,
 "nbformat_minor": 0
}
