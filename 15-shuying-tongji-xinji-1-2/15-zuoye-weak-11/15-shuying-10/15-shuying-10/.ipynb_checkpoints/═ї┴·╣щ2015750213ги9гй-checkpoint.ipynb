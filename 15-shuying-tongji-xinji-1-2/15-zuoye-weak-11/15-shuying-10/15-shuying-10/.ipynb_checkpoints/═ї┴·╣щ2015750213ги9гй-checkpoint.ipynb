{
 "cells": [
  {
   "cell_type": "markdown",
   "metadata": {},
   "source": [
    "## 求解下列常系数线性微分方程"
   ]
  },
  {
   "cell_type": "markdown",
   "metadata": {},
   "source": [
    "（12）:$x''+6x'+5x=e^{2t}$"
   ]
  },
  {
   "cell_type": "markdown",
   "metadata": {},
   "source": [
    "解：首先考虑其次线性微分方程$$x''+6x'+5x=0$$"
   ]
  },
  {
   "cell_type": "markdown",
   "metadata": {},
   "source": [
    "特征方程为$$\\lambda^2+6\\lambda+5=0$$  \n",
    "∴$\\lambda=-1,\\lambda=-5$  \n",
    "可得其通解为$t=c_1e^{-t}+c_2e^{-2t}$"
   ]
  },
  {
   "cell_type": "markdown",
   "metadata": {},
   "source": [
    "又∵$f(t)=e^{2t},\\lambda=2,\\lambda=2$不是方程的特征根  \n",
    "所以方程具有特解$t=Be^{2t}$  \n",
    "代入原方程可得$B=\\frac{1}{21}$ \n",
    "所以原方程的通解为$t=c_1e^{-t}+c_2e^{-2t}+\\frac{1}{21}e^{2t}$"
   ]
  },
  {
   "cell_type": "markdown",
   "metadata": {},
   "source": [
    "(14)$x''+x=sint-cos2t$  "
   ]
  },
  {
   "cell_type": "markdown",
   "metadata": {},
   "source": [
    "首先考虑其次线性微分方程$$x''+x=0$$\n",
    "特征方程为$\\lambda^2+1=0$  \n",
    "∴$\\lambda=±i,\\beta=±1$"
   ]
  },
  {
   "cell_type": "markdown",
   "metadata": {},
   "source": [
    "所以其通解为$t=c_1cost+c_2sint$  \n",
    "又根据方程解的叠加原理可得原方程的两个分方程  \n",
    "其表达式分别为$$x''+x=sint$$  \n",
    "$$x''+x=cos2t$$\n",
    "所以两方程分别具有形式为$$t=t(A_1cost+B_1sint)$$  \n",
    "以及$$t=A_2cos2t+B_2sin2t$$的特解"
   ]
  },
  {
   "cell_type": "markdown",
   "metadata": {},
   "source": [
    "分别代入方程可得其特解分比为$t=-\\frac{1}{2}tcost,t=-\\frac{1}{3}cos2t$"
   ]
  },
  {
   "cell_type": "markdown",
   "metadata": {},
   "source": [
    "由解得叠加原理可得原方程的通解为$t=c_1cost+c_2sint-\\frac{1}{2}tcost+\\frac{1}{3}cos2t$"
   ]
  },
  {
   "cell_type": "markdown",
   "metadata": {},
   "source": [
    "(18)x''+2x'+5x=4e^{-t}+17sin2t$"
   ]
  },
  {
   "cell_type": "markdown",
   "metadata": {},
   "source": [
    "先将其拆解为两个独立的线性方程可得  \n",
    "$$x''+2x'+5x=4e^{-t}$$  \n",
    "$$x''+2x'+5x=17sin2t$$"
   ]
  },
  {
   "cell_type": "markdown",
   "metadata": {},
   "source": [
    "考虑其次线性微分方程$x''+2x'+5x=0$  \n",
    "特征方程为$$\\lambda^2+2\\lambda+5=0$$ \n",
    "$\\lambda=-1±2i$ "
   ]
  },
  {
   "cell_type": "markdown",
   "metadata": {},
   "source": [
    "所以原方程的通解为$t=c_1e^{-t}cos2t+c_2e^{-t}sin2t$"
   ]
  },
  {
   "cell_type": "markdown",
   "metadata": {},
   "source": [
    "又∵由$f(t)=4e^{-t}$和$f(t)=17sin2t$可以得到其分别具有形式为  \n",
    "$$Ae^{-t}$$\n",
    "$$Bcos2t+Csin2t$$的解"
   ]
  },
  {
   "cell_type": "markdown",
   "metadata": {},
   "source": [
    "将其分别代会两独立的线性微分方程可求得其特解分别为  \n",
    "$t=e^{-t},t=-4cos2t+sin2t$"
   ]
  },
  {
   "cell_type": "markdown",
   "metadata": {},
   "source": [
    "所以原方程的通解为$t=c_1e^{-t}cos2t+c_2e^{-t}sin2t+e^{-t}-4cos2t+sin2t$"
   ]
  },
  {
   "cell_type": "markdown",
   "metadata": {
    "collapsed": true
   },
   "source": [
    "##  4.求下列初值问题的解："
   ]
  },
  {
   "cell_type": "markdown",
   "metadata": {},
   "source": [
    "（1）.$x''+9x=6e^{3t},x(0)=x'(0)=0$"
   ]
  },
  {
   "cell_type": "markdown",
   "metadata": {},
   "source": [
    "解；对方程两端进行拉普拉斯变换，得到其像函数满足的方程为  \n",
    "$$s^2X(s)+9X(s)-sx_0-x'_{(0)}-x_0=\\frac{6}{s-3}$$  \n",
    "又因为$x(0)=x'(0)=0$  \n",
    "所以$$s^2X(s)+9X(s)=\\frac{6}{s-3}$$"
   ]
  },
  {
   "cell_type": "markdown",
   "metadata": {},
   "source": [
    "也即$$X(s)=\\frac{6}{(s-3)(s^2+9)}$$"
   ]
  },
  {
   "cell_type": "markdown",
   "metadata": {},
   "source": [
    "变形可得$$X(s)=-\\frac{1}{18}(\\frac{s}{s^2+9})-\\frac{1}{18}\\frac{3}{s^2+9}+\\frac{1}{18}e^3t$$"
   ]
  },
  {
   "cell_type": "markdown",
   "metadata": {},
   "source": [
    "对照拉普拉斯变换表可得$$x(t)=\\frac{1}{18}(e^3t-sin3t-cos3t)$$"
   ]
  },
  {
   "cell_type": "markdown",
   "metadata": {},
   "source": [
    "(2).$x^{(4)}+x=2e^t,x(0)=x'(0)=x''(0)=x'''(0)=1$"
   ]
  },
  {
   "cell_type": "markdown",
   "metadata": {},
   "source": [
    "解；对方程两边进行拉普拉斯变换可得原方程的像函数满足的条件  \n",
    "$$s^4X(s)-s^3x(0)-x^2x'(0)-sx''(0)-x'''(0)=\\frac{2}{s-1}$$"
   ]
  },
  {
   "cell_type": "markdown",
   "metadata": {},
   "source": [
    "也即$$X(s)=\\frac{1+s^4}{(s-1)(s^4+1)}$$"
   ]
  },
  {
   "cell_type": "markdown",
   "metadata": {},
   "source": [
    "继续可得$$X(s)=\\frac{1}{s-1}$$"
   ]
  },
  {
   "cell_type": "markdown",
   "metadata": {},
   "source": [
    "所以原方程的解为$$t=e^t$$"
   ]
  },
  {
   "cell_type": "markdown",
   "metadata": {
    "collapsed": true
   },
   "source": [
    "# <font color='red'>A  18/11"
   ]
  },
  {
   "cell_type": "code",
   "execution_count": null,
   "metadata": {
    "collapsed": true
   },
   "outputs": [],
   "source": []
  }
 ],
 "metadata": {
  "kernelspec": {
   "display_name": "SageMath 7.3",
   "language": "",
   "name": "sagemath"
  },
  "language_info": {
   "codemirror_mode": {
    "name": "ipython",
    "version": 2
   },
   "file_extension": ".py",
   "mimetype": "text/x-python",
   "name": "python",
   "nbconvert_exporter": "python",
   "pygments_lexer": "ipython2",
   "version": "2.7.10"
  }
 },
 "nbformat": 4,
 "nbformat_minor": 0
}
