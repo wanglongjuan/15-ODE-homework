{
 "cells": [
  {
   "cell_type": "markdown",
   "metadata": {},
   "source": [
    "# $$常微分作业<九>$$\n",
    "\n",
    "## 姓名：李卓洁\n",
    "## 学号：2015750116"
   ]
  },
  {
   "cell_type": "markdown",
   "metadata": {},
   "source": [
    "## 2.求解下列常系数线性微分方程：\n",
    "\n",
    "## $（12）x^{\\prime\\prime}+6x^\\prime+5x=e^{2t}$\n",
    "\n",
    "## $(14)x^{\\prime\\prime}+x=\\sin t-\\cos 2t$\n",
    "\n",
    "## $(16)x^{\\prime\\prime}+9x=t\\sin 3t$"
   ]
  },
  {
   "cell_type": "markdown",
   "metadata": {},
   "source": [
    "(12）解：依题意特征方程为$\\lambda^2+6\\lambda+5=0$,解得其根为$\\lambda_1=-1,\\lambda_2=-5$\n",
    "\n",
    "所以对应的齐次线性微分方程的通解为$x=c_1e^{-t}+c_2e^{-5t}$其中$c_1,c_2$为任意常数\n",
    "\n",
    "再求非齐次线性微分方程的一个特解,$f(t)=e^{2t}，\\lambda=2,$\n",
    "\n",
    "又因为$\\lambda=2$不是特征根，所以$k=0$,所以可取特解形如$\\tilde x=ce^{2t}$\n",
    "\n",
    "将它代入原方程得到$4c+12c+5c=1$,所以$c=\\frac{1}{21}$,解得：$\\tilde x=\\frac{1}{21}e^{2t}$\n",
    "\n",
    "因此原方程的通解为$x=c_1e^{-t}+c_2e^{-5t}+\\frac{1}{21}e^{2t}$其中$c_1,c_2$为任意常数"
   ]
  },
  {
   "cell_type": "markdown",
   "metadata": {},
   "source": [
    "（14）解:原方程的解为$x^{\\prime\\prime}+x=\\sin t ①的解和x^{\\prime\\prime}+x=cos 2t ②的解$\n",
    "\n",
    "原齐次方程的特征方程为$\\lambda+1=0,解之得\\lambda_1=i，\\lambda_2=-i$\n",
    "\n",
    "可得到两个实解为$\\cos t和\\sin t$\n",
    "\n",
    "对于方程①，因为$\\lambda=-i是特征根的单根，所以k=1$\n",
    "\n",
    "可设方程①的一个特解为$\\tilde x_1=t(a_1\\cos t+a_2\\sin t)$\n",
    "\n",
    "代入方程①得$-2a_1\\sin t+2a_2\\cos t=\\sin t,解之得a_1=-\\frac{1}{2},a_2=0$\n",
    "\n",
    "所以$\\tilde x_1=-t\\frac{1}{2}\\cos t$\n",
    "\n",
    "因为$\\lambda=2i不是特征根所以可设方程②的一个特解为\\tilde x_2=b_1\\cos 2t+b_2\\sin 2t$\n",
    "\n",
    "代入方程②得$-3b_1\\cos 2t-3b_2\\sin 2t=-\\cos 2t,解之得b_1=\\frac{1}{3},b_2=0$\n",
    "\n",
    "综上所述原方程得通解为$x=c_1\\cos t+c_2\\sin t-\\frac{1}{2}t\\cos t+\\frac{1}{3}\\cos 2t,c_1,c_2$为任意常数"
   ]
  },
  {
   "cell_type": "markdown",
   "metadata": {},
   "source": [
    "(16)解:原方程的特征方程为$\\lambda^2+9=0，解之得\\lambda_1=3i，\\lambda_2=-3i$\n",
    "\n",
    "因为$\\lambda=3i$是特征方程的单根，所以$k=1$\n",
    "\n",
    "所以可设特解为$\\tilde x=t[(a+bt)\\cos 3t+(c+dt)\\sin 3t]$\n",
    "\n",
    "代入原方程得$-12bt\\sin 3t+12dt\\cos 3t+(2d-6a)\\sin 3t+(2b+6c)\\cos 3t=t\\sin 3t，解之得a=d=0,b=-\\frac{1}{12},c=\\frac{1}{36}$\n",
    "\n",
    "因此原方程的通解为$x=c_1\\cos 3t+c_2\\sin 3t-\\frac{1}{12}t^2\\cos 3t+\\frac{1}{36}t\\sin 3t其中c_1,c_2$为任意常数"
   ]
  },
  {
   "cell_type": "markdown",
   "metadata": {},
   "source": [
    "## 4.求下组初值问题的解\n",
    "\n",
    "## $（1）x^{\\prime\\prime}+9x=6e^{3t},x(0)=x^\\prime(0)=0$\n",
    "\n",
    "## $(2)x^{(4)}+x=2e^t,x(0)=x^\\prime(0)=x^{\\prime\\prime}(0)=x^{\\prime\\prime\\prime}(0)=1$"
   ]
  },
  {
   "cell_type": "markdown",
   "metadata": {},
   "source": [
    "（1）解：对原方程两边做拉普拉斯变换得到$s^2X(s)-sx^\\prime(0)-x(0)+9X(s)=\\frac{6}{s-3}$\n",
    "\n",
    "因为$x(0)=x^\\prime(0)=0$\n",
    "\n",
    "所以$X(s)=\\frac{6}{(s-3)(s^2+9)}=\\frac{1}{3}(\\frac{1}{s-3}-\\frac{s+3}{s^2+9})=\\frac{1}{3}\\frac{1}{s-3}-\\frac{1}{3}\\frac{s}{s^2+9}-\\frac{1}{3}\\frac{3}{s^2+9}$\n",
    "\n",
    "又因为$x(0)=x^\\prime(0)=0$\n",
    "\n",
    "通过拉普拉斯变换表得到$x(t)=\\frac{1}{3}(e^{3t}-\\cos 3t-\\sin 3t)$"
   ]
  },
  {
   "cell_type": "markdown",
   "metadata": {},
   "source": [
    "（2）解：对原方程两边同时做拉普拉斯变换得到$s^4X(s)-s^3x(0)-s^2x^\\prime(0)-sx^{\\prime\\prime\\prime}(0)-x^{\\prime\\prime\\prime\\prime}（0）+X(s)=\\frac{2}{s-1}$\n",
    "因为$x(0)=x^\\prime(0)=x^{\\prime\\prime}(0)=x^{\\prime\\prime\\prime}(0)=1$,所以\n",
    "\n",
    "$s^4X(s)+X(s)-(s^3+s^2+s+1)=\\frac{2}{s-1}$\n",
    "\n",
    "$(s^4+1)X(s)-(s^2+1)(s+1)=\\frac{2}{s-1}$\n",
    "\n",
    "$X(s)=\\frac{\\frac{2}{s-1}+(s^2+1)(s+1)}{s^4+1}=\\frac{\\frac{2+(s^2+1)(s^2-1)}{s-1}}{s^4+1}=\\frac{\\frac{s^4+1}{s-1}}{s^4+1}=\\frac{1}{s-1}$\n",
    "\n",
    "通过拉普拉斯变换表得到$x(t)=e^t$"
   ]
  },
  {
   "cell_type": "markdown",
   "metadata": {
    "collapsed": true
   },
   "source": [
    "# <font color='red'>A  18/11"
   ]
  },
  {
   "cell_type": "code",
   "execution_count": null,
   "metadata": {
    "collapsed": true
   },
   "outputs": [],
   "source": []
  }
 ],
 "metadata": {
  "kernelspec": {
   "display_name": "SageMath 7.3",
   "language": "",
   "name": "sagemath"
  },
  "language_info": {
   "codemirror_mode": {
    "name": "ipython",
    "version": 2
   },
   "file_extension": ".py",
   "mimetype": "text/x-python",
   "name": "python",
   "nbconvert_exporter": "python",
   "pygments_lexer": "ipython2",
   "version": "2.7.10"
  }
 },
 "nbformat": 4,
 "nbformat_minor": 0
}
