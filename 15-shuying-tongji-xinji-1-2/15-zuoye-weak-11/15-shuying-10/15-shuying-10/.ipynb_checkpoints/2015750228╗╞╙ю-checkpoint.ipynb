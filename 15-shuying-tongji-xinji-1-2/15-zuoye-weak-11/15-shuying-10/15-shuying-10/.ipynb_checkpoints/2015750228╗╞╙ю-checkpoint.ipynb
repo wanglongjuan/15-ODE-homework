{
 "cells": [
  {
   "cell_type": "markdown",
   "metadata": {
    "collapsed": false
   },
   "source": [
    "# 2.求解下列常系数线性微分方程\n",
    "\n",
    "\n",
    "（12）$x''+6x'+5x=e^{2t}$\n",
    "\n",
    "对应齐次方程的特征方程为$\\lambda^2+6\\lambda+5=0$,它有根$\\lambda_1=-1,\\lambda_2=-5$\n",
    "\n",
    "故齐次线性方程的为通解$x=c_1e{-t}+c_2e^{-5t}$\n",
    "\n",
    "由于$\\lambda=2$不是特征方程的根，故方程有形如$\\overline{x}=Ae^{2t}$的特解，\n",
    "代入原方程解得$A=\\frac{1}{21}$\n",
    "于是方程的通解为$x=c_1e^{-t}+c_2e^{-5t}+\\frac{1}{21}e^{2t}$\n",
    "\n",
    "其中$c_1,c_2$为任意常数"
   ]
  },
  {
   "cell_type": "markdown",
   "metadata": {},
   "source": [
    "(14)$x''+x'=sint-cos2t$\n",
    "对应齐次方程的特征方程为$\\lambda^2+1=0$,它有根$\\lambda_1=i,\\lambda_2=-i$\n",
    "\n",
    "故齐次线性方程的为通解$x=c_1cost+c_2sint$\n",
    "\n",
    "\n",
    "\n",
    "对于$x''+x'=sint$，有形如$\\overline{x}=t（Acost+Bsint）$的特解，\n",
    "代入原方程解得$A=-\\frac{1}{2},B=0$\n",
    "故$\\overline{x}=-\\frac{1}{2}tcost$\n",
    "\n",
    "\n",
    "对于$x''+x'=--cos2t$，有形如$\\overline{x}=Acos2t+Bsin2t$的特解，\n",
    "代入原方程解得$A=\\frac{1}{3},B=0$\n",
    "故$\\overline{x}=\\frac{1}{3}cos2t$\n",
    "\n",
    "\n",
    "\n",
    "于是方程的通解为$x=c_1cost+c_2sint-\\frac{1}{2}tcost+\\frac{1}{3}cos2t$\n",
    "\n",
    "其中$c_1,c_2$为任意常数\n"
   ]
  },
  {
   "cell_type": "markdown",
   "metadata": {
    "collapsed": true
   },
   "source": [
    "（16）$x''+9x'=tsit3t$\n",
    "\n",
    "对应齐次方程的特征方程为$\\lambda^2+9=0$,它有根$\\lambda_1=3i,\\lambda_2=-3i$\n",
    "\n",
    "\n",
    "\n",
    "方程有形如$\\overline{x}=t[(At+B)cos3t+(Et+F)sin3t]$的特解，\n",
    "代入原方程解得$A=-\\frac{1}{12},F=\\frac{1}{36},B=E=0$\n",
    "\n",
    "\n",
    "即方程的一个特解为$\\overline{x}=-\\frac{1}{12}t^2cos3t+\\frac{1}{36}tsin3t$\n",
    "\n",
    "于是方程的通解为$x=c_1cos3t+c_2sin3t-\\frac{1}{12}t^2cos3t+\\frac{1}{36}tsin3t$\n",
    "\n",
    "其中$c_1,c_2$为任意常数\n",
    "\n",
    "\n"
   ]
  },
  {
   "cell_type": "markdown",
   "metadata": {},
   "source": [
    "# 4. 求下列初值问题的解\n",
    "\n",
    "\n",
    "（1）\n",
    "$x''+9x=6e^{3t}$  \n",
    "$x(0)=x'(0)=0$\n",
    "\n",
    "\n",
    "\n",
    "对方程两边施行拉普拉斯变换得\n",
    "$(s^2+9)X(s)=\\frac{6}{s-3}$\n",
    "\n",
    "由此得$X(s)=\\frac{1}{3}[\\frac{1}{s-3}-\\frac{s}{s^2+9}]-\\frac{1}{s^2+9}$\n",
    "施行拉普拉斯反变换，查表得解$x(t)=\\frac{1}{3}e^{3t}-\\frac{1}{3}cos3t-\\frac{1}{3}sin3t$\n",
    "\n",
    "\n",
    "此即为所求初值问题的解\n",
    "\n",
    "(2)\n",
    "$x^{(4)}+x=2e^{t}$  \n",
    "$x(0)=x'(0)=x''(0)=x'''(0)=1$\n",
    "\n",
    "\n",
    "\n",
    "对方程两边施行拉普拉斯变换得\n",
    "$s^4X(s)-s^3-s^2-s-1+X(s)=\\frac{2}{s-1}$\n",
    "\n",
    "由此得$X(s)=\\frac{1}{s-1}$\n",
    "\n",
    "施行拉普拉斯反变换，查表得解$x(t)=e^t$ 此即为要求的解"
   ]
  },
  {
   "cell_type": "markdown",
   "metadata": {
    "collapsed": true
   },
   "source": [
    "# <font color='red'>A  18/11"
   ]
  },
  {
   "cell_type": "code",
   "execution_count": null,
   "metadata": {
    "collapsed": true
   },
   "outputs": [],
   "source": []
  }
 ],
 "metadata": {
  "kernelspec": {
   "display_name": "Python 2",
   "language": "python",
   "name": "python2"
  },
  "language_info": {
   "codemirror_mode": {
    "name": "ipython",
    "version": 2
   },
   "file_extension": ".py",
   "mimetype": "text/x-python",
   "name": "python",
   "nbconvert_exporter": "python",
   "pygments_lexer": "ipython2",
   "version": "2.7.10"
  }
 },
 "nbformat": 4,
 "nbformat_minor": 0
}
