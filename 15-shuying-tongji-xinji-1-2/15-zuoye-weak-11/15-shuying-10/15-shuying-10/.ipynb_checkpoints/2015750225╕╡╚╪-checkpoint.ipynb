{
 "cells": [
  {
   "cell_type": "markdown",
   "metadata": {},
   "source": [
    "## 2.(12) $x''+6x'+5x=e^{2t}$"
   ]
  },
  {
   "cell_type": "markdown",
   "metadata": {},
   "source": [
    "**先求$ \\frac{\\mathrm d^2 x}{\\mathrm d t^2}+6 \\frac{\\mathrm d x}{\\mathrm d t}+5x=0$的特征根。**"
   ]
  },
  {
   "cell_type": "markdown",
   "metadata": {},
   "source": [
    "$\\lambda^2+6\\lambda+5=0$\n",
    "\n",
    "$(\\lambda+5)(\\lambda+1)=0$\n",
    "\n",
    "$\\lambda_1=-5,\\lambda_2=-1$\n",
    "\n",
    "**即对应的齐次线性微分方程的通解为$x=c_1 e^{-5t}+c_2 e^{-t}$**"
   ]
  },
  {
   "cell_type": "markdown",
   "metadata": {},
   "source": [
    "**现在来求原方程的特解，由于$\\lambda=2$不是特征方程的根，故可取特征解形如$x_0=A e^{2t}$**\n",
    "\n",
    "**代回原方程中，**\n",
    "\n",
    "$4A e^{2t}+6 2A e^{2t}+5A e^{2t}=e^{2t}$\n",
    "\n",
    "$A=\\frac{1}{21}$\n",
    "\n",
    "**所以$x_0=\\frac{1}{21}e^{2t}$**"
   ]
  },
  {
   "cell_type": "markdown",
   "metadata": {},
   "source": [
    "**所以原方程的通解为$x=c_1 e^{-5t}+c_2 e^{-t}+\\frac{1}{21} e^{2t}$,其中$c_1,c_2$为任意常数**"
   ]
  },
  {
   "cell_type": "markdown",
   "metadata": {},
   "source": [
    "## （14）$x''+x=\\sin t-\\cos 2t$"
   ]
  },
  {
   "cell_type": "markdown",
   "metadata": {},
   "source": [
    "**先求齐次线性微分方程的同解**\n",
    "\n",
    "$\\frac{\\mathrm d^2 x}{\\mathrm d t^2}+x=0$\n",
    "\n",
    "$\\lambda^2+1=0$\n",
    "\n",
    "$\\lambda=\\pm i$"
   ]
  },
  {
   "cell_type": "markdown",
   "metadata": {},
   "source": [
    "**即对应的通解为$x=c_1 \\cos t+c_2 \\sin t$**"
   ]
  },
  {
   "cell_type": "markdown",
   "metadata": {},
   "source": [
    "**现在来求原方程的特解：**\n",
    "\n",
    "**（1）对于$x''+x=\\sin t$**\n",
    "\n",
    "**可取特解$x_0=t[A\\cos t+B\\sin t]$代入原方程中**\n",
    "\n",
    "$-2A\\sin t+2B \\cos t=\\sin t$\n",
    "\n",
    "$A=-\\frac{1}{2}$\n",
    "\n",
    "$B=0$\n",
    "\n",
    "**所以$x_0=-\\frac{1}{2}t \\cos t$**"
   ]
  },
  {
   "cell_type": "markdown",
   "metadata": {},
   "source": [
    "**(2)对于$x''+x=- \\cos 2t$**"
   ]
  },
  {
   "cell_type": "markdown",
   "metadata": {},
   "source": [
    "**可取特解：$x_1=A \\cos 2t+B \\sin 2t$,代入原方程中，**\n",
    "\n",
    "$-4A \\cos 2t -4B \\sin 2t+A \\cos 2t+B \\sin 2t =- \\cos 2t$\n",
    "\n",
    "$A=\\frac{1}{3}$\n",
    "\n",
    "$B=0$\n",
    "\n",
    "**所以$x_1=\\frac{1}{3} \\cos 2t$**"
   ]
  },
  {
   "cell_type": "markdown",
   "metadata": {},
   "source": [
    "**所以原方程的通解为$x=c_1 \\cos t+c_2 \\sin t-\\frac{1}{2}t \\cos t+\\frac{1}{3} \\cos 2t$，其中$c_1,c_2$为任意常数**"
   ]
  },
  {
   "cell_type": "markdown",
   "metadata": {},
   "source": [
    "## (16) $x''+9x=t \\sin 3t$"
   ]
  },
  {
   "cell_type": "markdown",
   "metadata": {},
   "source": [
    "**先求齐次线性微分方程的通解：**\n",
    "\n",
    "$\\frac{\\mathrm d^2 x}{\\mathrm d t^2}+9x=0$\n",
    "\n",
    "$\\lambda^2+9=0$\n",
    "\n",
    "$\\lambda=\\pm 3i$\n",
    "\n",
    "**即通解为$x=c_1 \\sin 3t+c_2 \\cos 3t$,其中$c_1,c_2$为任意常数**"
   ]
  },
  {
   "cell_type": "markdown",
   "metadata": {},
   "source": [
    "**现在来求原方程的特解：**\n",
    "\n",
    "**取$x_0=t[(A+Bt)\\cos 3t+(C+Dt)\\sin 3t]$带回原方程中，**\n",
    "\n",
    "$\\sin 3t(-6A-6Bt+2D)+\\cos 3t(2B+6C+6Dt)+t[\\sin 3t(-6B-9C-9Dt)+\\cos 3t(6D-9A-9Bt)]+9t[(A+Bt)\\cos 3t+(C+Dt)\\sin 3t]=t \\sin 3t$\n",
    "\n",
    "**通过求解可以得到：**\n",
    "\n",
    "$A=D=0$\n",
    "\n",
    "$B=-\\frac{1}{12},C=\\frac{1}{36}$\n",
    "\n",
    "**所以$x_0=t[-\\frac{1}{12}t \\cos 3t+\\frac{1}{36} \\sin 3t]$**\n",
    "\n",
    "**于是方程的通解为：$x=c_1 \\sin 3t+c_2 \\cos 3t-\\frac{1}{12}t^2 \\cos 3t+\\frac{1}{36}t \\sin 3t$**"
   ]
  },
  {
   "cell_type": "markdown",
   "metadata": {},
   "source": [
    "## 4.(1)$x''+9x=6 e^{3t},x(0)=x'(0)=0$"
   ]
  },
  {
   "cell_type": "markdown",
   "metadata": {},
   "source": [
    "**对两边施行拉普拉斯变换，即**\n",
    "\n",
    "$s^2X(s)-sx(0)-x'(0)+9X(s)=\\frac{6}{s-3}$\n",
    "\n",
    "**又因为$x(0)=x'(0)=0$**\n",
    "\n",
    "**所以$(s^2+9)X(s)=\\frac{6}{s-3}$**\n",
    "\n",
    "**所以$X(s)=\\frac{6}{(s^2+9)(s-3)}=\\frac{1}{3}[\\frac{1}{s-3}-\\frac{s}{s^2+9}]-\\frac{1}{s^2+9}$**\n",
    "\n",
    "**经过查表可以知道：**\n",
    "\n",
    "$x=\\frac{1}{3}[e^{3t}-\\cos 3t-\\sin 3t]$即为所要求得解。"
   ]
  },
  {
   "cell_type": "markdown",
   "metadata": {},
   "source": [
    "## (2)$x^{(4)}+x=2e^t,x(0)=x'(0)=x''(0)=x'''(0)=1$"
   ]
  },
  {
   "cell_type": "markdown",
   "metadata": {},
   "source": [
    "**对两边进行拉普拉斯变换，即可以得到：**\n",
    "\n",
    "$s^4X(s)-s^3x(0)-s^2x'(0)-sx''(0)-x'''(0)+X(s)=\\frac{2}{s-1}$\n",
    "\n",
    "**又因为$x(0)=x'(0)=x''(0)=x'''(0)=1$**\n",
    "\n",
    "$s^4X(s)-s^3-s^2-s-1+X(s)=\\frac{2}{s-1}$\n",
    "\n",
    "$(s^4+1)X(s)=\\frac{s^4+1}{s-1}$\n",
    "\n",
    "$X(s)=\\frac{1}{s-1}$\n",
    "\n",
    "**所以$x(t)=e^t$即为所要求的**"
   ]
  },
  {
   "cell_type": "markdown",
   "metadata": {},
   "source": [
    "# <font color='red'>A  18/11"
   ]
  },
  {
   "cell_type": "code",
   "execution_count": null,
   "metadata": {
    "collapsed": true
   },
   "outputs": [],
   "source": []
  }
 ],
 "metadata": {
  "kernelspec": {
   "display_name": "SageMath 7.3",
   "language": "",
   "name": "sagemath"
  },
  "language_info": {
   "codemirror_mode": {
    "name": "ipython",
    "version": 2
   },
   "file_extension": ".py",
   "mimetype": "text/x-python",
   "name": "python",
   "nbconvert_exporter": "python",
   "pygments_lexer": "ipython2",
   "version": "2.7.10"
  }
 },
 "nbformat": 4,
 "nbformat_minor": 0
}
