{
 "cells": [
  {
   "cell_type": "markdown",
   "metadata": {
    "collapsed": false
   },
   "source": [
    "习题4.2"
   ]
  },
  {
   "cell_type": "markdown",
   "metadata": {
    "collapsed": true
   },
   "source": [
    "2.求解下列常系数线性微分方程："
   ]
  },
  {
   "cell_type": "markdown",
   "metadata": {},
   "source": [
    "（12）$x''+6x'+5x=e^{2t};$\n"
   ]
  },
  {
   "cell_type": "markdown",
   "metadata": {},
   "source": [
    "$(14)x''+x=sint-cos2t;$\n"
   ]
  },
  {
   "cell_type": "markdown",
   "metadata": {},
   "source": [
    "(16)$x''+9x=tsin3t;$\n",
    "\n"
   ]
  },
  {
   "cell_type": "markdown",
   "metadata": {},
   "source": [
    "（12）解：$x''+6x'+5x=e^{2t};$的特征方程为$${\\lambda}^2+6{\\lambda}+5=0$$\n",
    "\n"
   ]
  },
  {
   "cell_type": "markdown",
   "metadata": {},
   "source": [
    "它的根为${\\lambda}_1=-1,{\\lambda}_2=-5  $则方程的通解为 $$\\tilde{x}=c_1e^{-t}+c_2e^{-5t}$$\n"
   ]
  },
  {
   "cell_type": "markdown",
   "metadata": {},
   "source": [
    " 又 ${\\lambda}=2$ 不是方程的特征根，将  $\\overline{x}=Ae^{-2t}代入原方程，得到：A=\\frac{1}{21}$\n",
    " "
   ]
  },
  {
   "cell_type": "markdown",
   "metadata": {
    "collapsed": true
   },
   "source": [
    " 于是方程的通解为：$$x=\\tilde{x}+\\overline{x}=c_1e^{-t}+c_2e^{-5t}+\\frac{1}{21}e^{-2t}$$"
   ]
  },
  {
   "cell_type": "markdown",
   "metadata": {},
   "source": [
    "(14)解：$求原方程x''+x=sint-cos2t 的解可化为求方程（1）x''+x=sint和方程（2)x''+x=-cos2t的解 $\n",
    "  "
   ]
  },
  {
   "cell_type": "markdown",
   "metadata": {},
   "source": [
    "\n",
    " $方程（1）和（2）的特征方程为{\\lambda}^2+1=0,有特征根{\\lambda}_1=i,{\\lambda}_2=-i,$"
   ]
  },
  {
   "cell_type": "markdown",
   "metadata": {},
   "source": [
    "故此齐次线性微分方程的通解为$$x=c_1cost+c_2sint$$, 再取方程（1）特解形式为\n",
    " $$\\tilde{x}=t(Acost+Bsint)$$,代入原方程，解得$A= -\\frac{1}{2},B=0$,"
   ]
  },
  {
   "cell_type": "markdown",
   "metadata": {},
   "source": [
    "故$$\\tilde{x}=-\\frac{1}{2}tcost.$$\n",
    "\n"
   ]
  },
  {
   "cell_type": "markdown",
   "metadata": {},
   "source": [
    "$方程（2)x''+x=-cos2t$的特解形式为$$\\tilde{x}=Acos2t+Bsin2t$$,代入原方程解得$A= \\frac{1}{3},B=0,$ 故$$\\tilde{x}=\\frac{1}{3}cos2t$$\n"
   ]
  },
  {
   "cell_type": "markdown",
   "metadata": {},
   "source": [
    "  故方程的通解为   $$x=c_1cost+c_2sint-\\frac{1}{2}tcost+\\frac{1}{3}cos2t$$"
   ]
  },
  {
   "cell_type": "markdown",
   "metadata": {},
   "source": [
    "(16)对应齐次线性微分方程的特征方程为${\\lambda}^2+9=0,即得特征根为{\\lambda}_1=3i,{\\lambda}_2=-3i$"
   ]
  },
  {
   "cell_type": "markdown",
   "metadata": {},
   "source": [
    "设方程的一个特解为$\\overline{x}=t[(At+B)cos3t+(Et+F)sin3t],$ 代入原方程，得到$$A=-\\frac{1}{12},B=E=0,F=\\frac{1}{36}$$\n",
    "即方程的一个特解为$$\\overline{x}=-\\frac{1}{12}t^2cos3t+\\frac{1}{36}tsin3t$$\n"
   ]
  },
  {
   "cell_type": "markdown",
   "metadata": {},
   "source": [
    "于是方程的通解为 $x=c_1cos3t+c_2sin3t-\\frac{1}{12}t^2cos3t+\\frac{1}{36}tsin3t,$"
   ]
  },
  {
   "cell_type": "markdown",
   "metadata": {},
   "source": [
    "4.求下组初值问题的解：\n"
   ]
  },
  {
   "cell_type": "markdown",
   "metadata": {},
   "source": [
    "（1）$x''+9x=6e^{3t},x(0)=x'(0)=0;$\n"
   ]
  },
  {
   "cell_type": "markdown",
   "metadata": {},
   "source": [
    "(2)$x^{4}+x=2e^t,x(0)=x'(0)=x''(0)=x'''(0)=1$\n"
   ]
  },
  {
   "cell_type": "markdown",
   "metadata": {},
   "source": [
    " 解：（1）对方程两边施行拉普拉斯变换的：$$(s^2+9)X(s)=\\frac{6}{s-3}$$,\n",
    "    由此得$X(s)=\\frac{1}{3}[\\frac{1}{s-3}-\\frac{s}{s^2+9}]-\\frac{1}{s^2+9}]$"
   ]
  },
  {
   "cell_type": "markdown",
   "metadata": {},
   "source": [
    "施行拉普拉斯反变换，查表得解$$x(t)=\\frac{1}{3}e^{3t}-\\frac{1}{3}cos3t-\\frac{1}{3}sin3t$$\n",
    " 此即为所求初值问题的解"
   ]
  },
  {
   "cell_type": "markdown",
   "metadata": {},
   "source": [
    "（2) 对方程两边施行拉普拉斯变换得$$s^4X(s)-s^3-s^3-s-1+X(s)=\\frac{2}{s-1},$$\n",
    "由此解得$X(s)=\\frac{1}{s-1}$"
   ]
  },
  {
   "cell_type": "markdown",
   "metadata": {},
   "source": [
    "施行拉普拉斯反变换，查表得解$x(t)=e^t,此即为所要求的解$"
   ]
  },
  {
   "cell_type": "markdown",
   "metadata": {
    "collapsed": true
   },
   "source": [
    "# <font color='red'>A+  18/11"
   ]
  },
  {
   "cell_type": "code",
   "execution_count": null,
   "metadata": {
    "collapsed": true
   },
   "outputs": [],
   "source": []
  }
 ],
 "metadata": {
  "kernelspec": {
   "display_name": "Python 2",
   "language": "python",
   "name": "python2"
  },
  "language_info": {
   "codemirror_mode": {
    "name": "ipython",
    "version": 2
   },
   "file_extension": ".py",
   "mimetype": "text/x-python",
   "name": "python",
   "nbconvert_exporter": "python",
   "pygments_lexer": "ipython2",
   "version": "2.7.10"
  }
 },
 "nbformat": 4,
 "nbformat_minor": 0
}
