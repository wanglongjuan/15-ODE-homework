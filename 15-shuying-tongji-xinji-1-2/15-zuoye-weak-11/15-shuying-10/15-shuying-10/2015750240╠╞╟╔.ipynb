{
 "cells": [
  {
   "cell_type": "markdown",
   "metadata": {},
   "source": [
    "第十一周作业"
   ]
  },
  {
   "cell_type": "markdown",
   "metadata": {
    "collapsed": true
   },
   "source": [
    "2.求解下列常系数线性微分方程."
   ]
  },
  {
   "cell_type": "markdown",
   "metadata": {},
   "source": [
    "(12)$x\"+6x'+5x=e^{2t}$"
   ]
  },
  {
   "cell_type": "code",
   "execution_count": null,
   "metadata": {
    "collapsed": true
   },
   "outputs": [],
   "source": []
  },
  {
   "cell_type": "markdown",
   "metadata": {},
   "source": [
    "解：特征方程为$$\\lambda^2+6\\lambda+5=0$$\n",
    "\n",
    "解得$\\lambda_1=-1,\\lambda_2=-5$\n",
    "\n",
    "因此，对应的齐次线性方程的通解为$$x=c_1e^{-t}+c_2e^{5t}$$\n",
    "\n",
    "令原方程的一个特解为$x_1=Ae^{2t}$,代入原方程中得到\n",
    "\n",
    "$$4Ae^{2t}+12Ae^{2t}+5Ae^{2t}=e^{2t}$$\n",
    "\n",
    "得到$A=\\frac{1}{21}$,因此特解为$x_1=\\frac{1}{21}e^{2t}$\n",
    "\n",
    "故原方程的解为\n",
    "\n",
    "$$x=c_1e^{-t}+c_2e^{-5}+\\frac{1}{21}e^{2t}$$"
   ]
  },
  {
   "cell_type": "markdown",
   "metadata": {},
   "source": [
    "(14)$x\"+x=\\sin t-\\cos2t$"
   ]
  },
  {
   "cell_type": "markdown",
   "metadata": {},
   "source": [
    "解：齐次方程的特征方程为$$\\lambda^2+1=0$$\n",
    "\n",
    "解得特征根为$\\lambda_1=-i,\\lambda_2=i$\n",
    "\n",
    "对应方程$x\"+x=\\sin t$,设其特解为$$x_1=t(A\\sin t+B\\cos t)$$\n",
    "\n",
    "代入方程得到$A=0,B=-\\frac{1}{2}$\n",
    "\n",
    "因此方程$x\"+x=\\sin t$的一个特解为$$x_1=-\\frac{1}{2}t\\cos t$$\n",
    "\n",
    "对应方程$x\"+x=-\\cos2t$,设其特解为$$x_2=A\\cos2t+B\\sin2t$$\n",
    "\n",
    "代入方程得到$A=\\frac{1}{3},B=0$\n",
    "\n",
    "因此方程$x\"+x=-\\cos2t$的一个特解为$$x_2=\\frac{1}{3}\\cos2t$$\n",
    "\n",
    "故原方程的解为\n",
    "\n",
    "$$x=c_1\\cos t+c_2\\sin t-\\frac{1}{2}t\\cos t+\\frac{1}{3}\\cos2t$$"
   ]
  },
  {
   "cell_type": "markdown",
   "metadata": {},
   "source": [
    "(16)$x\"+9x=t\\sin3t$"
   ]
  },
  {
   "cell_type": "markdown",
   "metadata": {},
   "source": [
    "解：齐次方程的特征方程为$$\\lambda^2+9=0$$\n",
    "\n",
    "解得特征根为$\\lambda_1=3i,\\lambda_2=-3i$\n",
    "\n",
    "设原方程的一个特解为$$x_1=t[(At+B)\\cos3t+(Ct+D)\\sin3t]$$\n",
    "\n",
    "代入方程得到$A=-\\frac{1}{12},B=0,C=0,D=\\frac{1}{36}$\n",
    "\n",
    "因此方程的特解为$$x_1=t[(-\\frac{1}{12}t\\cos3t+\\frac{1}{36}\\sin3t]=-\\frac{1}{12}t^2\\cos3t+\\frac{1}{36}t\\sin3t$$\n",
    "\n",
    "故方程的解为\n",
    "\n",
    "$$x=c_1\\cos3t+c_2\\sin3t-\\frac{1}{12}t^2\\cos3t+\\frac{1}{36}t\\sin3t$$\n"
   ]
  },
  {
   "cell_type": "markdown",
   "metadata": {},
   "source": [
    "4.求下列初值问题的解."
   ]
  },
  {
   "cell_type": "markdown",
   "metadata": {},
   "source": [
    "(1)$x\"+9x=6e^{3t},x(0)=x'(0)=0$"
   ]
  },
  {
   "cell_type": "markdown",
   "metadata": {},
   "source": [
    "解：对方程施行拉普拉斯变换，得到\n",
    "\n",
    "$$(s^2+9s)X(s)=\\frac{6}{s-3}$$\n",
    "\n",
    "得到$$X(s)=\\frac{6}{(s-3)(s^2+9s)}=\\frac{1}{3}[\\frac{1}{s-3}-\\frac{s}{s^2+9}]-\\frac{1}{s^2+9}$$\n",
    "\n",
    "由拉普拉斯变换表可求得\n",
    "\n",
    "$$x(t)=\\frac{1}{3}(e^{3t}-\\cos3t-\\sin3t)$$\n",
    "\n",
    "此即为所要求的解."
   ]
  },
  {
   "cell_type": "markdown",
   "metadata": {},
   "source": [
    "(2)$x^{(4)}+x=2e^t,x(0)=x'(0)=x\"(0)=x{'''}(0)=1$"
   ]
  },
  {
   "cell_type": "markdown",
   "metadata": {},
   "source": [
    "解：对方程施行拉普拉斯变换，得到\n",
    "\n",
    "$$s^4X(s)-s^3-s^2-s-1+X(s)=\\frac{2}{s-1}$$\n",
    "\n",
    "解得$$X(s)=\\frac{1}{s-1}$$\n",
    "\n",
    "由拉普拉斯变换表求得$$x(t)=e^t$$\n",
    "\n",
    "此即为所要求的解."
   ]
  },
  {
   "cell_type": "markdown",
   "metadata": {},
   "source": [
    "# <font color='red'>A+  18/11"
   ]
  },
  {
   "cell_type": "code",
   "execution_count": null,
   "metadata": {
    "collapsed": true
   },
   "outputs": [],
   "source": []
  }
 ],
 "metadata": {
  "kernelspec": {
   "display_name": "SageMath 7.3",
   "language": "",
   "name": "sagemath"
  },
  "language_info": {
   "codemirror_mode": {
    "name": "ipython",
    "version": 2
   },
   "file_extension": ".py",
   "mimetype": "text/x-python",
   "name": "python",
   "nbconvert_exporter": "python",
   "pygments_lexer": "ipython2",
   "version": "2.7.10"
  }
 },
 "nbformat": 4,
 "nbformat_minor": 0
}
