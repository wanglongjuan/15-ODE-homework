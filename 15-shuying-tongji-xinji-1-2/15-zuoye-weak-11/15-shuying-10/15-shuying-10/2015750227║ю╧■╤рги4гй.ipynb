{
 "cells": [
  {
   "cell_type": "markdown",
   "metadata": {
    "collapsed": false
   },
   "source": [
    "2.求解下列常系数线性微分方程：\n",
    "\n",
    "（12）$x''+6x'+5x=e^{2t}$\n",
    "\n",
    " (14)$x''+x=sint-cos2t$\n",
    " \n",
    " (16)$x''+9x'=tsin3t$\n"
   ]
  },
  {
   "cell_type": "markdown",
   "metadata": {},
   "source": [
    "解：\n",
    "（12）特征方程为：\n",
    "$$\\lambda^2+6\\lambda+5=0$$\n",
    "解得$$\\lambda_1=-1,\\lambda_2=-5$$\n",
    "对应的齐次方程的通解为$$x=c_1e^{-t}+c_2e^{-5t}$$\n",
    "有特解形如$$\\overline{x}=Ate^{2t}$$\n",
    "将它代入原方程，得\n",
    "$$4Ae^{2t}+4Ate^{2t}=e^{2t}$$\n",
    "从而得到\n",
    "$$A=\\frac{1}{21}$$\n",
    "于是$$\\overline{x}=\\frac{1}{21}te^{2t}$$\n",
    "故原方程的通解为\n",
    "$$x=c_1e^{-t}+c_2e^{-5t}+\\frac{1}{21}te^{2t},c_1,c_2为任意常数$$\n"
   ]
  },
  {
   "cell_type": "markdown",
   "metadata": {},
   "source": [
    "（14）特征方程为：\n",
    "$$\\lambda^2+1=0$$\n",
    "解得\n",
    "$$\\lambda_1=i,\\lambda_2=-i$$\n",
    "因此，对应得齐次线性微分方程的通解为\n",
    "$$x=c_1cost+c_2sint,其中c_1,c_2为任意常数$$\n",
    "对于方程$x''+x=sint$\n",
    "我们求形如$\\overline{x}=Atcost+Btsint$的特解\n",
    "将它代入原方程并化简得到\n",
    "$$2Bsint=-sint$$\n",
    "$$B=-\\frac{1}{2}$$\n",
    "方程$x''+x=sint$的特解为$$\\overline{x}=-\\frac{1}{2}sint$$\n",
    "对于方程$x''+x=cos2t$\n",
    "我们求形如$x=Acos2t+Bsin2t$的特解\n",
    "将它代入原方程并化简得到\n",
    "$$A=\\frac{1}{3}$$\n",
    "$$B=0$$\n",
    "方程$x''+x=cos2t$的特解为$$\\overline{x}=\\frac{1}{3}cos2t$$\n",
    "故方程$x''+x=sint-cos2t$的解为\n",
    "$$x=c_1cost+c_2sint+\\frac{1}{3}cos2t,其中c_1,c_2为任意常数$$\n"
   ]
  },
  {
   "cell_type": "markdown",
   "metadata": {},
   "source": [
    "（16）特征方程为\n",
    "$$\\lambda^2+9=0$$\n",
    "解得\n",
    "$$\\lambda_1=3i,\\lambda_2=-3i$$\n",
    "因此，对应得齐次线性微分方程的通解为\n",
    "$$x=c_1cos3t+c_2sin3t,其中c_1,c_2为任意常数$$\n",
    "我们求形如$$\\overline{x}=t[(At+B)cos3t+(Ct+D)sin3t]$$\n",
    "将它代入原方程并化简得到\n",
    "$$A=-\\frac{1}{12},B=C=0,D=\\frac{1}{36}$$\n",
    "故方程的特解为$$\\overline{x}=-\\frac{1}{12}t^2cos3t+\\frac{1}{36}tin3t$$\n",
    "方程的通解为$$x=c_1cos3t+c_2sin3t-\\frac{1}{12}t^2cos3t+\\frac{1}{36}tin3t$$\n"
   ]
  },
  {
   "cell_type": "markdown",
   "metadata": {},
   "source": [
    "4.求下组初值问题的解：\n",
    " \n",
    " （1）$x''+9x=6e^{3t},x(0)=x'(0)=0$\n",
    " \n",
    " (2)$x^{(4)}+x=2e^{t},x(0)=x'(0)=x''(0)=x'''(0)=1$\n"
   ]
  },
  {
   "cell_type": "markdown",
   "metadata": {},
   "source": [
    "解：\n",
    "(1)对方程两边施行拉普拉斯变换，得到方程的解的像函数所应满足的方程\n",
    "$$s^2X(s)-s'x(0)-x'(0)+9X(s)=\\frac{6}{s-3}$$\n",
    "由此，并注意到$x(0)=0$,得到\n",
    "$$X(s)=\\frac{6}{(s^2+9)(s-3)}=\\frac{1}{3}(\\frac{1}{s-3}-\\frac{s}{s^2+9}-\\frac{3}{s^2+9}）$$\n",
    "\n",
    "由拉普拉斯变换表，可得\n",
    "\n",
    "$$\\frac{1}{s-3},\\frac{s}{s^2+9},\\frac{3}{s^2+9}的原函数分别是e^{3t},cos3t,sin3t$$\n",
    "\n",
    "因此，利用线性性质，就求得X（s）的原函数为\n",
    "$$x=\\frac{1}{3}(e^{3t}-cos3t-sin3t)$$"
   ]
  },
  {
   "cell_type": "markdown",
   "metadata": {},
   "source": [
    "（2）对方程两边施行拉普拉斯变换，得到方程的解的像函数所应满足的方程\n",
    "$$s^4X(s)-s^3x(0)-s^2x'(0)-sx''(0)-x'''(0)+X(s)=\\frac{2}{s-1}$$\n",
    "由此，并注意到$x(0)=0$,得到\n",
    "$$X(s)=\\frac{s^3(s^4+1)-s^2(s^4+1)-s(s^4+1)-(s^4+1)+2}{(s^4+1)(s-1)}=\\frac{1}{s-1}$$\n",
    "\n",
    "由拉普拉斯变换表，可得\n",
    "\n",
    "$$\\frac{1}{s-1}的原函数分别是e^{t}$$\n",
    "\n",
    "因此，利用线性性质，就求得X（s）的原函数为\n",
    "$$x=e^{t}$$"
   ]
  },
  {
   "cell_type": "markdown",
   "metadata": {
    "collapsed": true
   },
   "source": [
    "# <font color='red'>A  18/11"
   ]
  },
  {
   "cell_type": "code",
   "execution_count": null,
   "metadata": {
    "collapsed": true
   },
   "outputs": [],
   "source": []
  }
 ],
 "metadata": {
  "kernelspec": {
   "display_name": "Python 2",
   "language": "python",
   "name": "python2"
  },
  "language_info": {
   "codemirror_mode": {
    "name": "ipython",
    "version": 2
   },
   "file_extension": ".py",
   "mimetype": "text/x-python",
   "name": "python",
   "nbconvert_exporter": "python",
   "pygments_lexer": "ipython2",
   "version": "2.7.10"
  }
 },
 "nbformat": 4,
 "nbformat_minor": 0
}
