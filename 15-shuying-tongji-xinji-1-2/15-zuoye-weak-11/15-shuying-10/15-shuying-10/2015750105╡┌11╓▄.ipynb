{
 "cells": [
  {
   "cell_type": "markdown",
   "metadata": {
    "collapsed": false
   },
   "source": [
    "求解下列常系数微分方程\n",
    "（12）$x''+6x'+5x=e^{2t}$\n",
    " (14)$x''+x=sint-cos2t$\n",
    " (16)$x''+9x=tsin3t$ "
   ]
  },
  {
   "cell_type": "markdown",
   "metadata": {},
   "source": [
    "解（12)易得特征方程为$$\\lambda^2+6\\lambda+5=0$$的两个根为$\\lambda_1=-1,\\lambda_2=-5$\n",
    "故$x''+6x'+5x=0$的通解为$$x=c_1e^{-t}+c_2e^{-5t}$$\n",
    "又有$\\lambda=2$不是特征方程的根故将$x=Ae^{2t}$带入原方程，解得$A=\\frac{1}{21}$\n",
    "则原方程的通解为$$x=c_1e^{-t}+c_2e^{-5t}+\\frac{1}{21}e^{2t}$$\n",
    "\n"
   ]
  },
  {
   "cell_type": "markdown",
   "metadata": {},
   "source": [
    "（14）特征方程为$$\\lambda^2+1=0$$,其根为$\\lambda_1=i,\\lambda_2=-i$\n",
    "则$x''+x=0$的通解为$$x=c_1cost+c_2sint$$\n",
    "又考虑方程$x''+x=sint$,其有形状为$x=t(Acost+Bsint)$的特解，代入并解得$A=-\\frac{1}{2},B=0$故特解为$$x=-\\frac{1}{2}tcost$$\n",
    "同理 另一个特解为$$x=\\frac{1}{3}cos2t$$\n",
    "则通解为$$x=c_1cost+c_2sint-\\frac{1}{2}tcost+\\frac{1}{3}cos2t$$\n",
    "\n",
    "\n",
    "\n"
   ]
  },
  {
   "cell_type": "markdown",
   "metadata": {
    "collapsed": true
   },
   "source": [
    "(16)特征方程为$$\\lambda^2+=0$$，其解为$$\\lambda_1=-3i,\\lambda_2=3i$$\n",
    "则$x''+9x=0$ 有通解$$x=c_1sin3t+c_2cos3t$$\n",
    "原方程有形状如$$x=t(Asin3t+Btcos3t)$$代入解得 \n",
    "$A=\\frac{1}{36}.B=-\\frac{1}{12}$\n",
    "则原方程的通解为$$x=c_1sin3t+c_2cos3t-\\frac{1}{12}t^2cos3t+\\frac{1}{36}tsin3t$$\n",
    "\n",
    "\n",
    "\n",
    "\n",
    "\n",
    "\n",
    "\n"
   ]
  },
  {
   "cell_type": "markdown",
   "metadata": {},
   "source": [
    "4.求下组初值问题的解\n",
    "(1)$x''+9x=6e^{3t},x(0)=x'(0)=0$\n",
    "(2)$x''''+x=2e^t,x(0)=x'(0)=x''(0)=x'''(0)=1$"
   ]
  },
  {
   "cell_type": "markdown",
   "metadata": {},
   "source": [
    "解(1)对方程实行拉普拉斯变换，得到$s^2X(s)+9X(s)=\\frac{6}{s-3}$\n",
    "即$$X(s)=\\frac{6}{(s^2+9)(s-3)}$$即$$X(s)=\\frac{1}{3}（\\frac{1}{s-3}-\\frac{3}{9+s^2}-\\frac{s}{s^2+9})$$\n",
    "则原函数为$$x=\\frac{1}{3}(e^{3t}-cos3t-sin3t)$$"
   ]
  },
  {
   "cell_type": "markdown",
   "metadata": {},
   "source": [
    "解(2)对方程实行拉普拉斯变换，得到$$s^4X(s)-s^3-s^2-s-1+X(s)=\\frac{2}{s-1}$$\n",
    "即$$X(s)=\\frac{1}{s-1}$$\n",
    "则原函数为$$x=e^t$$\n",
    "\n",
    "\n",
    "\n",
    "\n",
    "\n",
    "\n"
   ]
  },
  {
   "cell_type": "markdown",
   "metadata": {
    "collapsed": true
   },
   "source": [
    "# <font color='red'>A  18/11"
   ]
  },
  {
   "cell_type": "code",
   "execution_count": null,
   "metadata": {
    "collapsed": true
   },
   "outputs": [],
   "source": []
  }
 ],
 "metadata": {
  "kernelspec": {
   "display_name": "Python 2",
   "language": "python",
   "name": "python2"
  },
  "language_info": {
   "codemirror_mode": {
    "name": "ipython",
    "version": 2
   },
   "file_extension": ".py",
   "mimetype": "text/x-python",
   "name": "python",
   "nbconvert_exporter": "python",
   "pygments_lexer": "ipython2",
   "version": "2.7.10"
  }
 },
 "nbformat": 4,
 "nbformat_minor": 0
}
