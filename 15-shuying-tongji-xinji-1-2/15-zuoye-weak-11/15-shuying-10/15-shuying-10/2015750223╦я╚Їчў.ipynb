{
 "cells": [
  {
   "cell_type": "markdown",
   "metadata": {
    "collapsed": false
   },
   "source": [
    "$4.2$"
   ]
  },
  {
   "cell_type": "markdown",
   "metadata": {},
   "source": [
    "$2.(12)x\"+6x'+5x=e^{2t}$"
   ]
  },
  {
   "cell_type": "markdown",
   "metadata": {},
   "source": [
    "$解：对应齐次方程的特征方程为{\\lambda}^2+6\\lambda+5=0,它有根\\lambda1=-1,\\lambda2=-5$"
   ]
  },
  {
   "cell_type": "markdown",
   "metadata": {},
   "source": [
    "$故齐次线性方程的通解为x=c1e^{-t}+c2e^{-5t}$"
   ]
  },
  {
   "cell_type": "markdown",
   "metadata": {},
   "source": [
    "$由于\\lambda=2不是特征方程的根，所以假设方程的特解为x=Ae^{2t},代入原方程，解得A=\\frac{1}{21}。$"
   ]
  },
  {
   "cell_type": "markdown",
   "metadata": {},
   "source": [
    "$于是，方程的通解为x=c1e^{-t}+c2e^{-5t}+\\frac{1}{21}e^{2t},其中c1,c2为任意常数$"
   ]
  },
  {
   "cell_type": "markdown",
   "metadata": {},
   "source": [
    "$(14)x\"+x=\\sin t-\\cos 2t$"
   ]
  },
  {
   "cell_type": "markdown",
   "metadata": {},
   "source": [
    "$解：对应齐次方程的特征方程为{\\lambda}^2+1=0。它有根\\lambda1=i,\\lambda2=-i$"
   ]
  },
  {
   "cell_type": "markdown",
   "metadata": {},
   "source": [
    "$故齐次线性方程的通解为x=c1\\cos t+c2\\sin t$"
   ]
  },
  {
   "cell_type": "markdown",
   "metadata": {},
   "source": [
    "$①对于方程x\"+x=\\sin t，假设方程的特解为x=t(A\\cos t+B\\sin t).代入原方程，解得A=-\\frac{1}{2},B=0。所以x=-\\frac{1}{2}t\\cos t$"
   ]
  },
  {
   "cell_type": "markdown",
   "metadata": {},
   "source": [
    "$②对于方程x\"+x=-\\cos 2t，假设方程的特解为x=A\\cos 2t+B\\sin 2t.代入原方程，解得A=\\frac{1}{3},B=0。所以x=\\frac{1}{3}t\\cos 2t$"
   ]
  },
  {
   "cell_type": "markdown",
   "metadata": {},
   "source": [
    "$故原方程的通解为x=c1\\cos t+c2\\sin t-\\frac{1}{2}t\\cos t+\\frac{1}{3}t\\cos 2t。其中c1,c2为任意常数$"
   ]
  },
  {
   "cell_type": "markdown",
   "metadata": {},
   "source": [
    "$(16)x\"+9x=t\\sin 3t$"
   ]
  },
  {
   "cell_type": "markdown",
   "metadata": {},
   "source": [
    "$解：对应齐次方程的特征方程为{\\lambda}^2+9=0。它有根\\lambda1=3i,\\lambda2=-3i$"
   ]
  },
  {
   "cell_type": "markdown",
   "metadata": {},
   "source": [
    "$假设方程的特解为x=t[(At+B)\\cos 3t+(Et+F)\\sin 3t].代入原方程，解得A=-\\frac{1}{12},F=\\frac{1}{36},B=E=0$"
   ]
  },
  {
   "cell_type": "markdown",
   "metadata": {},
   "source": [
    "$于是，方程的通解为x=-\\frac{1}{12}t^2\\cos 3t+\\frac{1}{36}t\\sin 3t$"
   ]
  },
  {
   "cell_type": "markdown",
   "metadata": {},
   "source": [
    "$故原方程的通解为x=c1\\cos 3t+c2\\sin 3t-\\frac{1}{12}t^2\\cos 3t+\\frac{1}{36}t\\sin 3t。其中c1,c2为任意常数$"
   ]
  },
  {
   "cell_type": "markdown",
   "metadata": {},
   "source": [
    "$4.(1)x\"+9x=6e^{3t},x(0)=x'(0)=0$"
   ]
  },
  {
   "cell_type": "markdown",
   "metadata": {},
   "source": [
    "$解：对方程两边施行拉普拉斯变换得：(s^2+9)X(s)=\\frac{6}{s-3},$"
   ]
  },
  {
   "cell_type": "markdown",
   "metadata": {},
   "source": [
    "$由此得：X(s)=\\frac{1}{3}[\\frac{1}{s-3}-\\frac{s}{s^2+9}]-\\frac{1}{s^2+9}.$"
   ]
  },
  {
   "cell_type": "markdown",
   "metadata": {},
   "source": [
    "$施行拉普拉斯变换,查表得解x(t)=\\frac{1}{3}e^{3t}-\\frac{1}{3}\\cos 3t-\\frac{1}{3}\\sin 3t.此即为所求初值问题的解$"
   ]
  },
  {
   "cell_type": "markdown",
   "metadata": {},
   "source": [
    "$(2)解：对方程两边施行拉普拉斯变换得：s^4X(s)-s^3-s^2-s-1+X(s)=\\frac{2}{s-1}$"
   ]
  },
  {
   "cell_type": "markdown",
   "metadata": {},
   "source": [
    "$由此得X(s)=\\frac{1}{s-1}$"
   ]
  },
  {
   "cell_type": "markdown",
   "metadata": {},
   "source": [
    "$施行拉普拉斯变换,查表得解x(t)=e^t.此即为所求初值问题的解$"
   ]
  },
  {
   "cell_type": "markdown",
   "metadata": {},
   "source": [
    "# <font color='red'>A+  18/11"
   ]
  },
  {
   "cell_type": "code",
   "execution_count": null,
   "metadata": {
    "collapsed": true
   },
   "outputs": [],
   "source": []
  }
 ],
 "metadata": {
  "kernelspec": {
   "display_name": "Python 2",
   "language": "python",
   "name": "python2"
  },
  "language_info": {
   "codemirror_mode": {
    "name": "ipython",
    "version": 2
   },
   "file_extension": ".py",
   "mimetype": "text/x-python",
   "name": "python",
   "nbconvert_exporter": "python",
   "pygments_lexer": "ipython2",
   "version": "2.7.10"
  }
 },
 "nbformat": 4,
 "nbformat_minor": 0
}
