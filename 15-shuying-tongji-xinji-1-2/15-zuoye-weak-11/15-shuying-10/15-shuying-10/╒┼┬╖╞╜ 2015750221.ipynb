{
 "cells": [
  {
   "cell_type": "markdown",
   "metadata": {},
   "source": [
    "**P165（2）**"
   ]
  },
  {
   "cell_type": "markdown",
   "metadata": {},
   "source": [
    "**（12）**"
   ]
  },
  {
   "cell_type": "markdown",
   "metadata": {},
   "source": [
    "$x''+6x'+5x=e^{2t}$\n",
    "\n",
    "该方程所对应齐次方程的特征方程为\n",
    "\n",
    "$k^2+6k+5=0$\n",
    "\n",
    "解得其特征根为\n",
    "\n",
    "$k_1=-1,k_2=-5$\n",
    "\n",
    "令方程的一个特解\n",
    "\n",
    "$\\overline x=ke^{2t}$,\n",
    "\n",
    "带入方程中，得：\n",
    "\n",
    "$k=\\frac{1}{21}$\n",
    "\n",
    "即，特解应为：\n",
    "\n",
    "$\\overline x=\\frac{1}{2}e^{2t}$\n",
    "\n",
    "则方程通解为\n",
    "$$x=c_1e^{-1t}+c_2e^{-5t}$$\n",
    "\n",
    "$c_1,c_2$\n",
    "\n",
    "为任意常数"
   ]
  },
  {
   "cell_type": "markdown",
   "metadata": {},
   "source": [
    "**(14)**"
   ]
  },
  {
   "cell_type": "markdown",
   "metadata": {},
   "source": [
    "$x''+x=sint-cos2t$\n",
    "该方程所对应齐次方程的特征方程为\n",
    "\n",
    "$k^2+1=0$\n",
    "\n",
    "解得其特征根为：\n",
    "\n",
    "$k_1=i,k_2=-i$\n",
    "关于方程\n",
    "\n",
    "\n",
    "$x''+x=sint$\n",
    "\n",
    "设其特解为\n",
    "\n",
    "$\\overline x=t(Asint+Bcost)$\n",
    "\n",
    "带入前面方程得到\n",
    "\n",
    "$A=0,B=-\\frac{1}{2}$\n",
    "\n",
    "即前面方程的一个特解为\n",
    "\n",
    "$\\overline x=\\frac{1}{2}tcost$\n",
    "\n",
    "关于于方程\n",
    "\n",
    "$x''+x=-cos2t$，\n",
    "\n",
    "设其特解为\n",
    "\n",
    "$\\overline x=Acos2t+Bsin2t$\n",
    "\n",
    "带入前面方程得\n",
    "\n",
    "$A=\\frac{1}{3},B=0$\n",
    "\n",
    "即前面方程的一个特解为\n",
    "\n",
    "$\\overline x=\\frac{1}{3}cos2t$\n",
    "\n",
    "原方程的通解为\n",
    "$$x=c_1cost+c_2sint-\\frac{1}{2}tcost+\\frac{1}{3}cos2t$$\n",
    "\n",
    "$c_1,c_2$\n",
    "\n",
    "为任意常数"
   ]
  },
  {
   "cell_type": "markdown",
   "metadata": {},
   "source": [
    "**(16)**"
   ]
  },
  {
   "cell_type": "markdown",
   "metadata": {},
   "source": [
    "该方程所对应齐次方程的特征方程为\n",
    "\n",
    "$k^2+9=0$$解得其特征根为$\n",
    "\n",
    "$k_1=3i,k_2=-3i$\n",
    "设方程的一个特解为\n",
    "\n",
    "$\\overline x=t[(At+B)cos3t+(Et+F)sin3t]$将其代入方程，得：\n",
    "\n",
    "$A=-\\frac{1}{12},F=\\frac{1}{36},B=0,E=0$\n",
    "\n",
    "即方程的一个特解为\n",
    "\n",
    "$\\overline x=-\\frac{1}{12}t^2cos3t+\\frac{1}{36}tsin3t$\n",
    "\n",
    "方程的通解\n",
    "\n",
    "$x=c_1cos3t+c_2sin3t-\\frac{1}{12}t^2cos3t+\\frac{1}{36}tsin3t$\n",
    "\n",
    "$c_1,c_2$为任意常数"
   ]
  },
  {
   "cell_type": "markdown",
   "metadata": {},
   "source": [
    "**P165(4)**"
   ]
  },
  {
   "cell_type": "markdown",
   "metadata": {},
   "source": [
    "**（1）**"
   ]
  },
  {
   "cell_type": "markdown",
   "metadata": {},
   "source": [
    "$x''+9x=6e^{3t},x(0)=x'(0)=0$\n",
    "对原方程两边做拉普拉斯变换：\n",
    "$(x^2+9)X(s)=\\frac{6}{s-3}$\n",
    "\n",
    "$X(s)=\\frac{1}{3}\\left[\\frac{1}{s-3}-\\frac{s}{s^2+9}\\right]-\\frac{1}{s^3+9}$\n",
    "对上式两端求其原函数并求和，得到X(s)的原函数即方程的解\n",
    "\n",
    "$x(t)=\\frac{1}{3}(e^3t-cos3t-sin3t)$"
   ]
  },
  {
   "cell_type": "markdown",
   "metadata": {},
   "source": [
    "**（2）**"
   ]
  },
  {
   "cell_type": "markdown",
   "metadata": {},
   "source": [
    "$x^{(4)}+x=2e^t,x'(0)=x''(0)=x'''(0)=1$\n",
    "对方程两边做拉普拉斯变换：\n",
    "\n",
    "$s^4X(s)-s^3-s^2-s-1+X(s)=\\frac{2}{s-1}$\n",
    "\n",
    "$X(s)=\\frac{1}{s-1}$\n",
    "\n",
    "对上式两端分别求其原函数并求和，得到$X(s)$的原函数即方程的解\n",
    "\n",
    "$x(t)-e^t$"
   ]
  },
  {
   "cell_type": "markdown",
   "metadata": {},
   "source": [
    "# <font color='red'>A  18/11"
   ]
  },
  {
   "cell_type": "code",
   "execution_count": null,
   "metadata": {
    "collapsed": true
   },
   "outputs": [],
   "source": []
  }
 ],
 "metadata": {
  "kernelspec": {
   "display_name": "SageMath 7.3",
   "language": "",
   "name": "sagemath"
  },
  "language_info": {
   "codemirror_mode": {
    "name": "ipython",
    "version": 2
   },
   "file_extension": ".py",
   "mimetype": "text/x-python",
   "name": "python",
   "nbconvert_exporter": "python",
   "pygments_lexer": "ipython2",
   "version": "2.7.10"
  }
 },
 "nbformat": 4,
 "nbformat_minor": 0
}
