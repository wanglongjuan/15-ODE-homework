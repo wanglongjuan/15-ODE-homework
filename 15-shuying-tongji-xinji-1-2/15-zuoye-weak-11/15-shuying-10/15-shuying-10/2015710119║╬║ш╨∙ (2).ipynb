{
 "cells": [
  {
   "cell_type": "markdown",
   "metadata": {
    "collapsed": false
   },
   "source": [
    "## 2.求解下列常系数线性微分方程："
   ]
  },
  {
   "cell_type": "markdown",
   "metadata": {},
   "source": [
    "(12)$x''+6x'+5x=e^{2t}$"
   ]
  },
  {
   "cell_type": "markdown",
   "metadata": {},
   "source": [
    "解：特征方程：$$\\lambda^2+6\\lambda+5=0$$\n",
    "\n",
    "$$\\lambda_1=-1,\\lambda_2=-5$$\n",
    "\n",
    "齐次方程通解：$$c_1e^{-t}+c_2e^{-5t}$$\n",
    "\n",
    "所以$\\lambda=2$不是特征方程的根\n",
    "\n",
    "令$x=ye^{2t}$\n",
    "\n",
    "$$y''+10y'+21y=1$$\n",
    "\n",
    "设$\\breve{y}=B_0$\n",
    "\n",
    "$$B_0=\\frac{1}{21}$$\n",
    "\n",
    "特解$$\\breve{x}=\\frac{1}{21}e^{2t}$$\n",
    "\n",
    "解为$$x=c_1e^{-t}+c_2e^{-5t}+\\frac{1}{21}e^{2t}$$"
   ]
  },
  {
   "cell_type": "markdown",
   "metadata": {},
   "source": [
    "(14)$x''+x=\\sin t-\\cos 2t$"
   ]
  },
  {
   "cell_type": "markdown",
   "metadata": {},
   "source": [
    "解：特征方程：$$\\lambda^2+1=0$$\n",
    "\n",
    "$$\\lambda=\\pm i$$\n",
    "\n",
    "齐次方程通解：$$x=c_1\\cos t+c_2\\sin t$$\n",
    "\n",
    "对方程$x''+x=\\sin t,\\lambda=i$是特征方程的根\n",
    "\n",
    "所以设$\\breve{x_1}=t(A\\cos t+B\\sin t)$\n",
    "\n",
    "得$$\\breve{x''_1}=-2A\\sin t+2B\\cos t+t(-A\\cos t-B\\sin t)$$\n",
    "\n",
    "$$\\breve{x''_1}+\\breve{x_1}=-2A\\sin t+2B\\cos t=\\sin t$$\n",
    "\n",
    "$$A=-\\frac{1}{2},B=0$$\n",
    "\n",
    "得解$$\\breve{x_1}=-\\frac{1}{2}t\\cos t$$\n",
    "\n",
    "对方程$x''+x=-\\cos 2t,\\lambda=2i$不是特征方程的根\n",
    "\n",
    "所以设$\\breve{x_2}=A\\cos 2t+B\\sin 2t$\n",
    "\n",
    "$$\\breve{x''_2}=-4A\\cos 2t-4B\\sin 2t$$\n",
    "\n",
    "$$\\breve{x''_2}+\\breve{x_2}=-3A\\cos 2t-3B\\sin 2t=-\\cos 2t$$\n",
    "\n",
    "$$A=\\frac{1}{3},B=0$$\n",
    "\n",
    "得解$$\\breve{x_2}=\\frac{1}{3}\\cos 2t$$\n",
    "\n",
    "综上所述：$$x=(c_1-\\frac{1}{2}t)\\cos t+c_2\\sin t+\\frac{1}{3}\\cos 2t$$"
   ]
  },
  {
   "cell_type": "markdown",
   "metadata": {},
   "source": [
    "(16）$x''+9x=t\\sin 3t$"
   ]
  },
  {
   "cell_type": "markdown",
   "metadata": {},
   "source": [
    "解：特征方程：$$\\lambda^2+9=0$$\n",
    "\n",
    "$$\\lambda=\\pm 3i$$\n",
    "\n",
    "∴通解：$$c_1\\cos 3t+c_2\\sin 3t$$\n",
    "\n",
    "求特解：$$x''+9x=te^{3it}$$\n",
    "\n",
    "$\\lambda=3i$是特征方程的根\n",
    "\n",
    "令$x=ye^{3it}$\n",
    "\n",
    "$$x''=y''e^{3it}+6iy'e^{3it}-9ye^{3it}$$\n",
    "\n",
    "$$x''+9x=y''e^{3it}+6iy'e^{3it}=te^{3it}$$\n",
    "\n",
    "设$y=t(tB_0+B_1)$\n",
    "\n",
    "$$2B_0+(2tB_0+B_1)6i=t$$\n",
    "\n",
    "$$\\begin{cases}\n",
    "2B_0+6B_1i=0\\\\\n",
    "12B_0i=1\\\\\n",
    "\\end{cases}$$\n",
    "\n",
    "$$\\begin{cases}\n",
    "B_0=-\\frac{i}{12}\\\\\n",
    "B_1=\\frac{1}{36}\\\\\n",
    "\\end{cases}$$\n",
    "\n",
    "$$∴y=-\\frac{i}{12}t^2+\\frac{1}{36}t$$\n",
    "\n",
    "$$x=(-\\frac{i}{12}t^2+\\frac{1}{36}t)e^{3it}$$\n",
    "\n",
    "$$=(-\\frac{t^2}{12}\\cos 3t+\\frac{t}{36}\\sin 3t)i+\\frac{t^2}{12}\\sin 3t+\\frac{t}{36}\\cos 3t$$\n",
    "\n",
    "取虚部得特解$$x=-\\frac{t^2}{12}\\cos 3t+\\frac{t}{36}\\sin 3t$$\n",
    "\n",
    "$$∴x=c_1\\cos 3t+c_2\\sin 3t-\\frac{t^2}{12}\\cos 3t+\\frac{t}{36}\\sin 3t$$"
   ]
  },
  {
   "cell_type": "markdown",
   "metadata": {
    "collapsed": true
   },
   "source": [
    "## 4.求下组初值问题的解："
   ]
  },
  {
   "cell_type": "markdown",
   "metadata": {},
   "source": [
    "###  $(1) x''+9x=6e^{3t},x(0)=x'(0)=0;\\\\(2)x^{(4)}+x=2e^t,x(0)=x'(0)=x''(0)=x'''(0)=1.$"
   ]
  },
  {
   "cell_type": "markdown",
   "metadata": {},
   "source": [
    "(1)解：做拉普拉斯变换：\n",
    "\n",
    "$$ s^2X(s)-sx_0-x_0'+9X(s)=\\frac{6}{s-3}$$\n",
    "\n",
    "$$X(s)=\\frac{6}{(s^2+9)(s-3)}$$\n",
    "\n",
    "$$=\\frac{1}{3}(\\frac{-s-3}{s^2+9}+\\frac{1}{s-3})$$\n",
    "\n",
    "所以根据拉普拉斯变换表得解：$$x=\\frac{1}{3}(e^{3t}-\\cos 3t-\\sin 3t)$$"
   ]
  },
  {
   "cell_type": "markdown",
   "metadata": {},
   "source": [
    "(2)解：做拉普拉斯变换：\n",
    "\n",
    "$$s^4X(s)-s^3x_0-s^2x_0'-sx_0''-x_0'''+X(s)=\\frac{2}{s-1}$$\n",
    "\n",
    "$$\\begin{aligned}\n",
    "X(s) &=\\frac{2}{(s-1)(s^4+1)}+\\frac{s^3+s^2+s+1}{s^4+1}\\\\\n",
    "&=\\frac{1}{s-1}+\\frac{-s^3-s^2-s-1}{s^4+1}+\\frac{s^3+s^2+s+1}{s^4+1}\\\\\n",
    "&=\\frac{1}{s-1}\\\\\n",
    "\\end{aligned}$$\n",
    "\n",
    "根据拉普拉斯变换表得解：$$x=e^t$$"
   ]
  },
  {
   "cell_type": "markdown",
   "metadata": {
    "collapsed": true
   },
   "source": [
    "# <font color='red'>A  18/11"
   ]
  },
  {
   "cell_type": "code",
   "execution_count": null,
   "metadata": {
    "collapsed": true
   },
   "outputs": [],
   "source": []
  }
 ],
 "metadata": {
  "kernelspec": {
   "display_name": "SageMath 7.3",
   "language": "",
   "name": "sagemath"
  },
  "language_info": {
   "codemirror_mode": {
    "name": "ipython",
    "version": 2
   },
   "file_extension": ".py",
   "mimetype": "text/x-python",
   "name": "python",
   "nbconvert_exporter": "python",
   "pygments_lexer": "ipython2",
   "version": "2.7.10"
  }
 },
 "nbformat": 4,
 "nbformat_minor": 0
}
