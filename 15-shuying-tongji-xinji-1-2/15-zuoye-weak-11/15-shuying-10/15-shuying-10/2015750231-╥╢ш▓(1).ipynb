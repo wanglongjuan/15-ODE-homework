{
 "cells": [
  {
   "cell_type": "markdown",
   "metadata": {
    "collapsed": true
   },
   "source": [
    "一，求解下列常系数微分方程。\n",
    "\n",
    "$(1)x\"+6x'+5x=e^{2t}$\n",
    "\n",
    "解：先对$x\"+6x'+5x=0$求通解\n",
    "\n",
    "这里特征方程为$$\\lambda^2+6\\lambda+5=0$$\n",
    "$$==>\\lambda_1=-1,\\lambda_2=-5$$\n",
    "因此，通解为$$x=c_1e^{-t}+c_2e^{-5t}  ………………其中c_1,c_2为任意常数$$\n",
    "再求非齐次线性微分方程的一个特解.\n",
    "$$\n",
    "f(t)=e^{2t},\\lambda=2\n",
    "$$\n",
    "又因为$\\lambda=2$不是特征根，故可取特解形如$x_1=Ae^{2t}$代入原方程可得\n",
    "$$4Ae^{2t}+12Ae^{2t}+5Ae^{2t}=e^{2t}$$\n",
    "$$==>A=\\frac{1}{21}$$\n",
    "即特解为$$x_1=\\frac{1}{21}e^{2t}$$\n",
    "因此，原方程的通解为$$x=c_1e^{-t}+c_2e^{-5t}+\\frac{1}{21}e^{2t}$$"
   ]
  },
  {
   "cell_type": "markdown",
   "metadata": {
    "collapsed": false
   },
   "source": [
    "$(2)x\"+x=sint-cos2t$\n",
    "\n",
    "解：特征方程$\\lambda^2+1=0$有两个解\n",
    "$$\\lambda=-i,\\lambda=i$$\n",
    "因此，对应的齐次线性微分方程的通解为：\n",
    "$$x=c_1cost+c_2sint…………其中c_1,c_2为任意常数$$\n",
    "1.在方程$x\"+x=sint$\n",
    "现求非齐次线性微分的一个特解为：\n",
    "$$x_1=t(Asint+Bcost)$$\n",
    "代入原方程可得：$$A=0,B=-\\frac{1}{2}$$\n",
    "即可求得特解为$$x_1=-\\frac{1}{2}tcost$$\n",
    "同理可求得$x\"+x=-cos2t$的一个特解为：$$x_1=\\frac{1}{3}cos2t$$\n",
    "综上原方程的通解为$$x=c_1cost+c_2sint-\\frac{1}{2}tcost+\\frac{1}{3}cos2t$$\n"
   ]
  },
  {
   "cell_type": "markdown",
   "metadata": {
    "collapsed": true
   },
   "source": [
    "$(3)x\"+9x=tsin3t$\n",
    "\n",
    "解：特征方程$\\lambda^2+9=0$得到特征根为$$\\lambda=3i,\\lambda=-3i$$\n",
    "因此，对应的齐次线性微分方程的通解为：\n",
    "$$x=c_1cos3t+c_2sin3t$$\n",
    "再求非齐次线性微分方程的一个特解为\n",
    "$$x_1=t[(At+B)cos3t+(Et+F)sin3t]$$\n",
    "代入原方程可得：\n",
    "$$A=-\\frac{1}{12},B=E=0,F=\\frac{1}{36}$$\n",
    "即方程的一个特解为\n",
    "$$x_1=-\\frac{1}{12}t^2cos3t+\\frac{1}{36}tsin3t$$\n",
    "综上方程的通解：\n",
    "$$x=c_1cos3t+c_2sin3t-\\frac{1}{12}t^2cos3t+\\frac{1}{36}tsin3t$$\n"
   ]
  },
  {
   "cell_type": "markdown",
   "metadata": {
    "collapsed": true
   },
   "source": [
    "二、求下组初值问题的解。\n",
    "$1、x\"+9x=6e^{3t},x(0)=x’(0)=0$\n",
    "\n",
    "解：对方程两端实行拉普拉斯变换，得方程的解的像函数所应满足的方程\n",
    "$$(s^2+9)X(s)=\\frac{6}{-3+s}$$\n",
    "由此得$$X(s)=\\frac{1}{3(s-3)}-\\frac{1}{3(s^2+9)}-\\frac{1}{s^2+9}$$\n",
    "对上式直接查拉普拉斯变换表，可得它们的和就是$X(s)$的原函数为\n",
    "$$x(t)=\\frac{1}{3}(e^{3t}-cos3t-sin3t)$$\n",
    "这就是所要求的解。\n",
    "\n",
    "$2、x^{(4)}+x=2e^t,x(0)=x’(0)=x\"(0)=x\"'(0)=1$\n",
    "\n",
    "解：对方程两端实行拉普拉斯变换，得方程的解的像函数所应满足的方程\n",
    "$$s^4X(s)-s^3-s^2-s-1+X(s)=\\frac{2}{s-1}$$\n",
    "由此得$$X(s)=\\frac{1}{s-1}$$\n",
    "对上式直接查拉普拉斯变换表，可得$X(s)$的原函数为\n",
    "$$x(t)=e^t$$\n",
    "这就是所要求的解。\n"
   ]
  },
  {
   "cell_type": "markdown",
   "metadata": {
    "collapsed": true
   },
   "source": [
    "# <font color='red'>A  18/11"
   ]
  },
  {
   "cell_type": "code",
   "execution_count": null,
   "metadata": {
    "collapsed": true
   },
   "outputs": [],
   "source": []
  }
 ],
 "metadata": {
  "kernelspec": {
   "display_name": "Python 2",
   "language": "python",
   "name": "python2"
  },
  "language_info": {
   "codemirror_mode": {
    "name": "ipython",
    "version": 2
   },
   "file_extension": ".py",
   "mimetype": "text/x-python",
   "name": "python",
   "nbconvert_exporter": "python",
   "pygments_lexer": "ipython2",
   "version": "2.7.10"
  }
 },
 "nbformat": 4,
 "nbformat_minor": 0
}
