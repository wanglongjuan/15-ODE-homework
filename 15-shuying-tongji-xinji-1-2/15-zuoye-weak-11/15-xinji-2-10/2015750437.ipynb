{
 "cells": [
  {
   "cell_type": "markdown",
   "metadata": {},
   "source": [
    "#常微分方程作业 2015750437 李玉贤\n",
    "\n",
    "##P165.2.(12).(14).(16).4.(1).(2)."
   ]
  },
  {
   "cell_type": "markdown",
   "metadata": {},
   "source": [
    "**$2.求下列常系数线性微分方程：$**"
   ]
  },
  {
   "cell_type": "markdown",
   "metadata": {},
   "source": [
    "**$（12）x''+6x'+5x=e^{2t};$**"
   ]
  },
  {
   "cell_type": "markdown",
   "metadata": {},
   "source": [
    "**$ 解:$**\n",
    "$对应齐次方程的特征方程为$\n",
    "$$\\lambda^2+6\\lambda+5=0,\\\\\n",
    "特征根为：\\lambda_1=-1,\\quad \\lambda_2=-5\\\\\n",
    "令方程的一个特解为\\bar{x}=Ae^{2t},代入方程得A=\\frac{1}{21}\n",
    "特解为：\\bar{x}=\\frac{1}{2}e^{2t}$$"
   ]
  },
  {
   "cell_type": "markdown",
   "metadata": {},
   "source": [
    "**$（14）x''+x=\\sin t-\\cos {2t};$**"
   ]
  },
  {
   "cell_type": "markdown",
   "metadata": {},
   "source": [
    "**$ 解:$**\n",
    "$对应齐次方程的特征方程为$\n",
    "$$\\lambda^2+1=0,\\\\\n",
    "特征根为：\\lambda_1=i,\\lambda_2=-i $$\n",
    "$ i)对方程x''+x=\\sin t，设其特解为\\bar{x}=t(A\\sin t+B\\cos t),代入方程得$\n",
    "$$ A=0,\\quad B=-\\frac{1}{2},\\\\\n",
    "方程x''+x=\\sin t的一个特解为\\bar{x}=-\\frac{1}{2}t\\cos t $$\n",
    "$ ii)对方程x''+x=-\\cos {2t}，设其特解为\\bar{x}=A\\sin {2t}+B\\cos {2t},代入方程得$\n",
    "$$ A=\\frac{1}{3},\\quad B=0,\\\\\n",
    "方程x''+x=-\\cos {2t}的一个特解为\\bar{x}=\\frac{1}{3}t\\cos {2t}\\\\\n",
    "原方程的通解为：x=c_1 \\cos t+c_2 \\sin t-\\frac{1}{2}t\\cos t+\\frac{1}{3}\\cos {2t}$$"
   ]
  },
  {
   "cell_type": "markdown",
   "metadata": {},
   "source": [
    "**$（16）x''+9x=t\\sin{3t};$**"
   ]
  },
  {
   "cell_type": "markdown",
   "metadata": {},
   "source": [
    "**$ 解:$**\n",
    "$对应齐次线性方程的特征方程为$\n",
    "$$\\lambda^2+9=0,\\\\\n",
    "特征根为：\\lambda_1=3i,\\quad \\lambda_2=-3i\\\\\n",
    "设方程的一个特解为\\bar{x}=t[(At+B)\\cos {3t}+(Et+F)\\sin {3t}],\\\\\n",
    "代入方程得A=-\\frac{1}{12},\\quad F=\\frac{1}{36},B=E=0\\\\\n",
    "方程的一个特解为\\bar{x}=-\\frac{1}{12}t^2\\cos {3t}+\\frac{1}{36}t\\sin {3t}]\\\\\n",
    "方程的通解为：x=c_1\\cos {3t}+c_2 \\sin {3t}-\\frac{1}{12}t^2\\cos {3t}+\\frac{1}{36}t\\sin {3t}]$$"
   ]
  },
  {
   "cell_type": "markdown",
   "metadata": {},
   "source": [
    "**$4.求下列初值问题的解：$**"
   ]
  },
  {
   "cell_type": "markdown",
   "metadata": {},
   "source": [
    "**$（1）x''+9x=6e^{3t}，x(0)=x'(0)=0;$**"
   ]
  },
  {
   "cell_type": "markdown",
   "metadata": {},
   "source": [
    "**$ 解:$**\n",
    "$对方程两边进行拉普拉斯变换得：$\n",
    "$$(s^2+9)X(s)=\\frac{6}{s-3}\\\\\n",
    "X(s)=\\frac{1}{3}[\\frac{1}{s-3}-\\frac{s}{s^2+9}]-\\frac{1}{s^3+9}\\\\\n",
    "对上式右端各项求原函数，其和为X(s)的原函数，所要求的解为：\\\\\n",
    "x(t)=\\frac{1}{3}(e^{3t}-\\cos{3t}-\\sin{3t})$$\n"
   ]
  },
  {
   "cell_type": "markdown",
   "metadata": {},
   "source": [
    "**$（2）x^{(4)}+x=2e^t，x(0)=x'(0)=x''(0)=x'''(0)=1;$**"
   ]
  },
  {
   "cell_type": "markdown",
   "metadata": {},
   "source": [
    "**$ 解:$**\n",
    "$对方程两边进行拉普拉斯变换得：$\n",
    "$$s^4X(s)-s^3-s^2-s-1+X(s)=\\frac{2}{s-1}\\\\\n",
    "X(s)=\\frac{1}{s-1}\\\\\n",
    "对上式右端各项求原函数，其和为X(s)的原函数，所要求的解为：\\\\\n",
    "x(t)=e^t$$\n"
   ]
  },
  {
   "cell_type": "markdown",
   "metadata": {
    "collapsed": true
   },
   "source": [
    "# <font color='red'>A  18/11"
   ]
  },
  {
   "cell_type": "code",
   "execution_count": null,
   "metadata": {
    "collapsed": true
   },
   "outputs": [],
   "source": []
  }
 ],
 "metadata": {
  "kernelspec": {
   "display_name": "SageMath 7.3",
   "language": "",
   "name": "sagemath"
  },
  "language_info": {
   "codemirror_mode": {
    "name": "ipython",
    "version": 2
   },
   "file_extension": ".py",
   "mimetype": "text/x-python",
   "name": "python",
   "nbconvert_exporter": "python",
   "pygments_lexer": "ipython2",
   "version": "2.7.10"
  }
 },
 "nbformat": 4,
 "nbformat_minor": 0
}
