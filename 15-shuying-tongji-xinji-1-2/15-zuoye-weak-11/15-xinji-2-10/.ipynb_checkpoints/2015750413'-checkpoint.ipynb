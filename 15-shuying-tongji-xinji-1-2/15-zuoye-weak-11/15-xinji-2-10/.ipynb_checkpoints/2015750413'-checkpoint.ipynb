{
 "cells": [
  {
   "cell_type": "markdown",
   "metadata": {},
   "source": [
    "**一.求解下列常系数线性微分方程**"
   ]
  },
  {
   "cell_type": "markdown",
   "metadata": {},
   "source": [
    "$(1).x''+6x'+5x=e^{2t}$"
   ]
  },
  {
   "cell_type": "markdown",
   "metadata": {},
   "source": [
    "解：先求对应的齐次线性微分方程\n",
    "$x''+6x'+5x=0$\n",
    "的通解。\n",
    " \n",
    "这里特征方程$\\lambda^2+6\\lambda+5=0$有两个根$\\lambda_1=1,\\lambda_2=5$\n",
    " \n",
    "因此，通解为$x=c_1e^{t}+c_2e^{5t}$,其中$c_1,c_2$为任意常数.再求非齐次线性微分方程的一个特解。\n",
    " \n",
    "这里$f(t)=e^{2t},\\lambda=2$\n",
    "\n",
    "取特解形如$X=Ae^{2t}$,其中A为待定常数,将$X=Ae^{2t}$代入原方程，得到\n",
    "\n",
    "$21Ae^{2t}=e^{2t}$,从而$A=\\frac{1}{21}$\n",
    "\n",
    "于是$X=\\frac{1}{21}te^{2t}$\n",
    "\n",
    "而原方程的通解为$x=c_1e^{-2t}+c_2e^{-3t}+\\frac{1}{21}te^{2t}$\n",
    "\n"
   ]
  },
  {
   "cell_type": "markdown",
   "metadata": {},
   "source": [
    "$(2).x''+x=sint-cos2t$"
   ]
  },
  {
   "cell_type": "markdown",
   "metadata": {},
   "source": [
    "解：先求对应的齐次线性微分方程\n",
    "$x''+x=0$\n",
    "的通解。\n",
    " \n",
    "这里特征方程$\\lambda^2+1=0$有两个根$\\lambda_1=-i,\\lambda_2=i$\n",
    " \n",
    "因此，通解为$x=c_1cost+c_2sint$,其中$c_1,c_2$为任意常数.再求非齐次线性微分方程的一个特解。\n",
    "\n",
    "对方程右端$sint$项属于II型k=0,m=0,\n",
    "\n",
    "取特解形如$X=t(acost+bsint)$,得$a=-\\frac{1}{2},b=0$\n",
    "\n",
    "对方程右端$-cos2t$项属于II型k=0,m=0,\n",
    "\n",
    "取特解形如$X=c\\cos2t+d\\sin2t$,得$c=\\frac{1}{3},d=0$\n",
    "\n",
    "方程通解为：\n",
    "\n",
    "$x=c_1cost+c_2sint-\\frac{1}{2}tcost+\\frac{1}{3}cos2t$"
   ]
  },
  {
   "cell_type": "markdown",
   "metadata": {},
   "source": [
    "$(3).x''+9x=tsin3t$"
   ]
  },
  {
   "cell_type": "markdown",
   "metadata": {},
   "source": [
    "解：先求对应的齐次线性微分方程\n",
    "$x''+x=0$\n",
    "的通解。\n",
    " \n",
    "这里特征方程$\\lambda^2+1=0$有两个根$\\lambda_1=-3i,\\lambda_2=3i$\n",
    " \n",
    "因此，通解为$x=c_1cos3t+c_2sin3t$,其中$c_1,c_2$为任意常数.再求非齐次线性微分方程的一个特解。\n",
    "\n",
    "对方程右端$sint$项属于II型k=1,m=0,\n",
    "\n",
    "取特解形如$X=t[(at+c)cost+(bt+d)sin3t]$,代入得\n",
    "\n",
    "$b=c=0,a=-\\frac{1}{12},d=\\frac{1}{36}$\n",
    "\n",
    "方程通解为：\n",
    "\n",
    "$x=c_1cos3t+c_2sin3t-\\frac{1}{12}t^2cos3t+\\frac{1}{36}tcos3t$"
   ]
  },
  {
   "cell_type": "markdown",
   "metadata": {},
   "source": [
    "**二.求下组初值问题的解**"
   ]
  },
  {
   "cell_type": "markdown",
   "metadata": {},
   "source": [
    "$(1).x''+9x=6e^{3t},x(0)=x'(0)=0$"
   ]
  },
  {
   "cell_type": "markdown",
   "metadata": {},
   "source": [
    "解;对方程的两端施行拉普拉斯变换，得到方程的解的像函数所应满足的方程\n",
    "\n",
    "$s^2X(s)+9X(s)=\\frac{6}{s-3}$\n",
    "\n",
    "由此，注意到$x(0)=x'(0)=0$，得\n",
    "\n",
    "$X(s)=\\frac{6}{(s-3)(s^2+9)}=\\frac{1}{3(s-3)}-\\frac{\\frac{1}{3}s}{s^2+9}-\\frac{1}{s^2+9}$\n",
    "\n",
    "根据拉普拉斯变换表，可得$\\frac{1}{3(s-3)},\\frac{\\frac{1}{3}s}{s^2+9},\\frac{1}{s^2+9}$的原函数分别为，\n",
    "\n",
    "$\\frac{1}{3}e^{3t},\\frac{1}{3}cos3t，\\frac{1}{3}sin3t$\n",
    "\n",
    "因此，利用线性性质，就求得X(s)的原函数为\n",
    "\n",
    "$x(t)=\\frac{1}{3}(e^{3t}-cos3t-sin3t)$\n",
    "\n",
    "这就是所要求的解"
   ]
  },
  {
   "cell_type": "markdown",
   "metadata": {},
   "source": [
    "$(2).x^{(4)}+x=2e^t,x(0)=x'(0)=x''(0)=x'''(0)=1$"
   ]
  },
  {
   "cell_type": "markdown",
   "metadata": {},
   "source": [
    "解;对方程的两端施行拉普拉斯变换，得到方程的解的像函数所应满足的方程\n",
    "\n",
    "$s^4X(s)-s^3-s^2-s-1+X(s)=\\frac{2}{s-1}$\n",
    "\n",
    "由此，注意到x(0)=x'(0)=x''(0)=x'''(0)=1$，得\n",
    "\n",
    "$X(s)=\\frac{1}{s-1}$\n",
    "\n",
    "根据拉普拉斯变换表，可得$\\frac{1}{s-1}$的原函数分别为，\n",
    "\n",
    "$e^t$\n",
    "\n",
    "因此，利用线性性质，就求得X(s)的原函数为\n",
    "\n",
    "$x(t)=e^t$\n",
    "\n",
    "这就是所要求的解"
   ]
  }
 ],
 "metadata": {
  "kernelspec": {
   "display_name": "SageMath 7.3",
   "language": "",
   "name": "sagemath"
  },
  "language_info": {
   "codemirror_mode": {
    "name": "ipython",
    "version": 2
   },
   "file_extension": ".py",
   "mimetype": "text/x-python",
   "name": "python",
   "nbconvert_exporter": "python",
   "pygments_lexer": "ipython2",
   "version": "2.7.10"
  }
 },
 "nbformat": 4,
 "nbformat_minor": 0
}
