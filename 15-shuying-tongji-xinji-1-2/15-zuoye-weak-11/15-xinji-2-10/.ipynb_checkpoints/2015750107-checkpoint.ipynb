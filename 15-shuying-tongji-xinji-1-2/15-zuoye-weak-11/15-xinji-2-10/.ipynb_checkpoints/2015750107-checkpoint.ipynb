{
 "cells": [
  {
   "cell_type": "markdown",
   "metadata": {},
   "source": [
    "# 习题4.2"
   ]
  },
  {
   "cell_type": "markdown",
   "metadata": {},
   "source": [
    "2.求解下列常系数线性微分方程：\n",
    "\n",
    "（12）$x''+6x'+5x=e^{2t}$\n",
    "\n",
    "（14）$x''+x=\\sin t-\\cos 2t$\n",
    "\n",
    "（16）$x''+9x=t\\sin 3t$"
   ]
  },
  {
   "cell_type": "markdown",
   "metadata": {},
   "source": [
    "解：\n",
    "\n",
    "（12）\n",
    "\n",
    "对应齐次方程的特征方程为，$\\lambda^2+6\\lambda+5=0$\n",
    "\n",
    "特征根为：$\\lambda_1=-1,\\lambda_2=-5$\n",
    "\n",
    "设其一个特解为，$X=Ae^{2t}$\n",
    "\n",
    "代入方程，可得，$A=\\frac{1}{21}$\n",
    "\n",
    "即特解为，$X=\\frac1{21}e^{2t}$\n",
    "\n",
    "方程的通解为，$x=c_1e^{-t}+c_2e^{-5t}+\\frac1{21}e^{2t}$"
   ]
  },
  {
   "cell_type": "markdown",
   "metadata": {},
   "source": [
    "（14）\n",
    "\n",
    "对应的齐次方程的特征方程为，$\\lambda^2+1=0$\n",
    "\n",
    "特征根为$\\lambda_1=i,\\lambda_2=-i$\n",
    "\n",
    "①对方程$x''+x=\\sin t$\n",
    "\n",
    "设其一个特解为，$X=t(A\\sin t+B\\cos t)$\n",
    "\n",
    "代入方程,可得，$A=0,B=-\\frac12$\n",
    "\n",
    "即方程$x''+x=\\sin t$的一个特解为，$X=-\\frac12t\\cos t$\n",
    "\n",
    "②对于方程$x''+x=-\\cos 2t$\n",
    "\n",
    "设其一个特解为，$X=A\\cos 2t+B\\sin 2t$\n",
    "\n",
    "代入方程，可得，$A=\\frac13,B=0$\n",
    "\n",
    "即方程$x''+x=-\\cos2t$的一个特解为，$X=\\frac13\\cos 2t$\n",
    "\n",
    "综上，原方程的通解为，$x=c_1\\cos t+c_2\\sin t-\\frac12t\\cos t+\\frac13cos2t$"
   ]
  },
  {
   "cell_type": "markdown",
   "metadata": {},
   "source": [
    "（16）\n",
    "\n",
    "对应线性齐次方程的特征方程为，$\\lambda^2+9=0$\n",
    "\n",
    "特征根为，$\\lambda_1=3i,\\lambda_2=-3i$\n",
    "\n",
    "设其一个特解为，$X=t[(At+B)\\cos3t+(Ct+D)\\sin 3t]$\n",
    "\n",
    "代入方程，可得，$A=-\\frac1{12},C=\\frac1{36},B=D=0$\n",
    "\n",
    "即方程$x''+9x=t\\sin 3t$的一个特解为，$X=\\frac1{36}t\\sin3t-\\frac1{12}t^2\\cos 3t$\n",
    "\n",
    "方程的通解为，$x=c_1\\sin3t+c_2\\cos3t+\\frac1{36}t\\sin3t-\\frac1{12}t^2\\cos 3t$"
   ]
  },
  {
   "cell_type": "markdown",
   "metadata": {
    "collapsed": true
   },
   "source": [
    "4.求下组初值问题的解：\n",
    "\n",
    "（1）$x''+9x=6e^{3t},x(0)=x'(0)=0$\n",
    "\n",
    "（2）$x^{(4)}+x=2e^t,x(0)=x'(0)=x''(0)=x'''(0)=1$"
   ]
  },
  {
   "cell_type": "markdown",
   "metadata": {},
   "source": [
    "解：\n",
    "\n",
    "（1）\n",
    "\n",
    "对方程两边施行拉普拉斯变换得：\n",
    "\n",
    "$(s^2+9)X(s)=\\frac6 {s-3}$\n",
    "\n",
    "可得，$X(s)=\\frac1 3[\\frac1 {s-3}-\\frac s {s^2+9}-\\frac3 {s^2+9}]$\n",
    "\n",
    "其原函数为，$x(t)=\\frac13(e^{3t}-\\cos3t-\\sin3t)$"
   ]
  },
  {
   "cell_type": "markdown",
   "metadata": {},
   "source": [
    "（2）\n",
    "\n",
    "对方程两边施行拉普拉斯变换得：\n",
    "\n",
    "$s^4X(s)-s^3-s^2-s-1+X(s)=\\frac2 {s-1}$\n",
    "\n",
    "可得，$X(s)=\\frac1 {s-1}$\n",
    "\n",
    "其原函数为，$x(t)=e^t$"
   ]
  },
  {
   "cell_type": "markdown",
   "metadata": {
    "collapsed": true
   },
   "source": [
    "# <font color='red'>A  18/11"
   ]
  },
  {
   "cell_type": "code",
   "execution_count": null,
   "metadata": {
    "collapsed": true
   },
   "outputs": [],
   "source": []
  }
 ],
 "metadata": {
  "kernelspec": {
   "display_name": "SageMath 7.3",
   "language": "",
   "name": "sagemath"
  },
  "language_info": {
   "codemirror_mode": {
    "name": "ipython",
    "version": 2
   },
   "file_extension": ".py",
   "mimetype": "text/x-python",
   "name": "python",
   "nbconvert_exporter": "python",
   "pygments_lexer": "ipython2",
   "version": "2.7.10"
  }
 },
 "nbformat": 4,
 "nbformat_minor": 0
}
