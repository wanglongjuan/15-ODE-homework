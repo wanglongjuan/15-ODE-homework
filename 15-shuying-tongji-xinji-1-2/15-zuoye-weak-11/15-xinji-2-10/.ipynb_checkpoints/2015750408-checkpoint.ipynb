{
 "cells": [
  {
   "cell_type": "markdown",
   "metadata": {
    "collapsed": true
   },
   "source": [
    "常微分作业   15信计二班丁飞勇"
   ]
  },
  {
   "cell_type": "markdown",
   "metadata": {},
   "source": [
    "题目1： (1)、齐次线性微分方程为：$$x''+6x'+5x=0$$\n",
    "\n",
    "特征方程为：$$\\lambda^2+6\\lambda+5=0$$\n",
    "\n",
    "所以两根为：$$\\lambda_1=1,\\lambda_2=5$$\n",
    " \n",
    "则齐次线性微分方程通解为：$$x=c_1e^{t}+c_2e^{5t}（c_1,c_2为任意常数）$$\n",
    "\n",
    "再求特解:$f(t)=e^{2t},\\lambda=2$,取特解形如$X=Ae^{2t}$,其中A为待定常数\n",
    "\n",
    "代入原方程：$$21Ae^{2t}=e^{2t}$$\n",
    "\n",
    "解得：$$A=\\frac{1}{21}$$，$$X=\\frac{1}{21}te^{2t}$$\n",
    "\n",
    "则原方程的通解为：$$x=c_1e^{-2t}+c_2e^{-3t}+\\frac{1}{21}te^{2t}$$"
   ]
  },
  {
   "cell_type": "markdown",
   "metadata": {},
   "source": [
    "(2)、其齐次线性微分方程为：$$x''+x=0$$\n",
    "\n",
    "特征方程为：$$\\lambda^2+1=0$$\n",
    "\n",
    "所以两根为：$$\\lambda_1=-i,\\lambda_2=i$$\n",
    " \n",
    "则齐次线性微分方程通解为：$$x=c_1cost+c_2sint（c_1,c_2为任意常数）$$\n",
    "\n",
    "再求特解，对方程右端$sint$项属于II型k=0,m=0,取特解形如：$X=t(acost+bsint)$\n",
    "\n",
    "解得：$$a=-\\frac{1}{2},b=0$$\n",
    "\n",
    "对方程右端$-cos2t$项属于II型k=0,m=0,取特解形如：$X=c\\cos2t+d\\sin2t$\n",
    "\n",
    "解得：$$c=\\frac{1}{3},d=0$$\n",
    "\n",
    "则原方程通解为：$$x=c_1cost+c_2sint-\\frac{1}{2}tcost+\\frac{1}{3}cos2t$$"
   ]
  },
  {
   "cell_type": "markdown",
   "metadata": {},
   "source": [
    "(3)、齐次线性微分方程为：$$x''+x=0$$\n",
    "\n",
    "所以特征方程为：$$\\lambda^2+1=0$$\n",
    "\n",
    "则两根为：$$\\lambda_1=-3i,\\lambda_2=3i$$\n",
    " \n",
    "则通解为：$$x=c_1cos3t+c_2sin3t（其中c_1,c_2为任意常数）$$\n",
    "\n",
    "再求特解，对方程右端$sint$项属于II型k=1,m=0,取特解形如：$X=t[(at+c)cost+(bt+d)sin3t]$\n",
    "\n",
    "解得：$$b=c=0,a=-\\frac{1}{12},d=\\frac{1}{36}$$\n",
    "\n",
    "所以原方程通解为：$$x=c_1cos3t+c_2sin3t-\\frac{1}{12}t^2cos3t+\\frac{1}{36}tcos3t$$"
   ]
  },
  {
   "cell_type": "markdown",
   "metadata": {},
   "source": [
    "题目2：(1)、对方程的两边实行拉普拉斯变换得：$$s^2X(s)+9X(s)=\\frac{6}{s-3}$$\n",
    "\n",
    "又$x(0)=x'(0)=0$，得：\n",
    "\n",
    "$$X(s)=\\frac{6}{(s-3)(s^2+9)}=\\frac{1}{3(s-3)}-\\frac{\\frac{1}{3}s}{s^2+9}-\\frac{1}{s^2+9}$$\n",
    "\n",
    "而$\\frac{1}{3(s-3)},\\frac{\\frac{1}{3}s}{s^2+9},\\frac{1}{s^2+9}$的原函数分别为：\n",
    "\n",
    "$$\\frac{1}{3}e^{3t},\\frac{1}{3}cos3t，\\frac{1}{3}sin3t$$\n",
    "\n",
    "则X(s)的原函数为：$$x(t)=\\frac{1}{3}(e^{3t}-cos3t-sin3t)$$"
   ]
  },
  {
   "cell_type": "markdown",
   "metadata": {},
   "source": [
    "(2)、对方程的两边实行拉普拉斯变换得：\n",
    "\n",
    "$$s^4X(s)-s^3-s^2-s-1+X(s)=\\frac{2}{s-1}$$\n",
    "\n",
    "又$x(0)=x'(0)=x''(0)=x'''(0)=1$，得:$$X(s)=\\frac{1}{s-1}$$\n",
    "\n",
    "而$\\frac{1}{s-1}$的原函数为：$$e^t$$\n",
    "\n",
    "则X(s)的原函数为：$$x(t)=e^t$$"
   ]
  },
  {
   "cell_type": "markdown",
   "metadata": {
    "collapsed": true
   },
   "source": [
    "# <font color='red'>A  18/11"
   ]
  },
  {
   "cell_type": "code",
   "execution_count": null,
   "metadata": {
    "collapsed": true
   },
   "outputs": [],
   "source": []
  }
 ],
 "metadata": {
  "kernelspec": {
   "display_name": "SageMath 7.3",
   "language": "",
   "name": "sagemath"
  },
  "language_info": {
   "codemirror_mode": {
    "name": "ipython",
    "version": 2
   },
   "file_extension": ".py",
   "mimetype": "text/x-python",
   "name": "python",
   "nbconvert_exporter": "python",
   "pygments_lexer": "ipython2",
   "version": "2.7.10"
  }
 },
 "nbformat": 4,
 "nbformat_minor": 0
}
