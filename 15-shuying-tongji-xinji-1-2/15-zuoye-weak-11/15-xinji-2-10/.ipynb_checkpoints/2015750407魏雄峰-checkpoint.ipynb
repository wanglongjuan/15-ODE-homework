{
 "cells": [
  {
   "cell_type": "markdown",
   "metadata": {},
   "source": [
    "$2015750407魏雄峰常微分第十一周作业$"
   ]
  },
  {
   "cell_type": "markdown",
   "metadata": {},
   "source": [
    "$P165\\quad2.$"
   ]
  },
  {
   "cell_type": "markdown",
   "metadata": {},
   "source": [
    "$(12)解：对应齐次方程的特征方程为\\lambda^2+6\\lambda+5=0,又根\\lambda_1=-1,\\lambda_2=-5$\n",
    "\n",
    "$\\therefore齐次线性方程的通解为：x=c_1e^{-t}+c_2e^{-5t}$\n",
    "\n",
    "$\\because \\lambda=2不是特征方程的根，\\therefore方程有形如x=Ae^{2t}的特解，得A=\\frac{1}{21}$\n",
    "\n",
    "$\\therefore方程的通解为x=c_1e^{-t}+c_2e^{-5t}+\\frac{1}{21}e^{2t},其中c_1,c_2为任意常数$"
   ]
  },
  {
   "cell_type": "markdown",
   "metadata": {},
   "source": [
    "$(14)解：对应齐次方程的特征方程为\\lambda^2+1=0,即特征根为\\lambda_1=i,\\lambda_2=-i$\n",
    "\n",
    "$\\therefore齐次线性方程的通解为 x=c_1 \\cos t+c_2 \\sin t$\n",
    "\n",
    "$对于方程x\"+x=\\sin t，取特解x=t(A \\cos t+B \\sin t),解得A=-\\frac{1}{2},B=0,\\therefore x=-\\frac{1}{2}t \\cos t$\n",
    "\n",
    "$对于方程x\"+x=-\\cos 2t，取特解x=A \\cos 2t+B \\sin 2t,解得A=\\frac{1}{3},B=0,\\therefore x=\\frac{1}{3} \\cos 2t$\n",
    "\n",
    "$\\therefore 原方程的通解为x=c_1 \\cos t+c_2 \\sin t-\\frac{1}{2}t \\cos t+\\frac{1}{3} \\cos 2t,其中c_1,c_2为任意常数$"
   ]
  },
  {
   "cell_type": "markdown",
   "metadata": {},
   "source": [
    "$(16)解：对应齐次方程的特征方程为\\lambda^2+9=0,即特征根为\\lambda_1=3i,\\lambda_2=-3i$\n",
    "\n",
    "$设方程的一个特解为x=t[(At+B) \\cos 3t+(Et+F) \\sin 3t],代入方程，得A=-\\frac{1}{12},B=E=0,F=\\frac{1}{36}$\n",
    "\n",
    "$\\therefore方程的一个特解为x=-\\frac{1}{12}t^2 \\cos 3t+\\frac{1}{36}t \\sin 3t$\n",
    "\n",
    "$\\therefore方程的通解为x=c_1 \\cos 3t+c_2 \\sin 3t-\\frac{1}{12}t^2 \\cos 3t+\\frac{1}{36}t \\sin 3t,其中c_1,c_2为任意常数$"
   ]
  },
  {
   "cell_type": "markdown",
   "metadata": {},
   "source": [
    "$P165\\quad4.$"
   ]
  },
  {
   "cell_type": "markdown",
   "metadata": {},
   "source": [
    "$(1)解：进行拉普拉斯变换，有(s^2+9)X(s)=\\frac{6}{s-3},即X(s)=\\frac{1}{3}[\\frac{1}{s-3}-\\frac{s}{s^2+9}]-\\frac{1}{s^2+9}$\n",
    "\n",
    "$查表可知道，x(t)=\\frac{1}{3}e^{3t}-\\frac{1}{3} \\cos 3t-\\frac{1}{3} \\sin 3t$"
   ]
  },
  {
   "cell_type": "markdown",
   "metadata": {},
   "source": [
    "$(2)解：进行拉普拉斯变换，有s^4X(s)-s^3-s^2-s-1+X(s)=\\frac{2}{s-1},即X(s)=\\frac{1}{s-1}$\n",
    "\n",
    "$查表可知道，x(t)=e^t$"
   ]
  }
 ],
 "metadata": {
  "kernelspec": {
   "display_name": "SageMath 7.3",
   "language": "",
   "name": "sagemath"
  },
  "language_info": {
   "codemirror_mode": {
    "name": "ipython",
    "version": 2
   },
   "file_extension": ".py",
   "mimetype": "text/x-python",
   "name": "python",
   "nbconvert_exporter": "python",
   "pygments_lexer": "ipython2",
   "version": "2.7.10"
  }
 },
 "nbformat": 4,
 "nbformat_minor": 0
}
