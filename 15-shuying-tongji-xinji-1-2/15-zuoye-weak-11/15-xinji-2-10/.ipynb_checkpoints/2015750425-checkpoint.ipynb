{
 "cells": [
  {
   "cell_type": "markdown",
   "metadata": {},
   "source": [
    "常微分方程第九次作业"
   ]
  },
  {
   "cell_type": "markdown",
   "metadata": {},
   "source": [
    "书P165"
   ]
  },
  {
   "cell_type": "markdown",
   "metadata": {},
   "source": [
    "2.求解下列常系数线性微分方程\n",
    "\n",
    "(12)$x''+6x'+5x=e^{2t}$\n",
    "\n",
    "解：先求对应的齐次线性微分方程\n",
    "$x''+6x'+5x=0$\n",
    "的通解。\n",
    " \n",
    "其特征方程为$\\lambda^2+6\\lambda+5=0$\n",
    "\n",
    "解得其特征根为$\\lambda_1=-1,\\lambda_2=-5$\n",
    " \n",
    "因此，通解为$x=c_1e^{t}+c_2e^{5t}$,其中$c_1,c_2$为任意常数.\n",
    "\n",
    "下求非齐次线性微分方程的一个特解。\n",
    "\n",
    "令方程的一个特解为$X=Ae^{2t}$,其中A为待定常数\n",
    "\n",
    "将$X=Ae^{2t}$代入原方程，得到\n",
    "\n",
    "$21Ae^{2t}=e^{2t}$,从而$A=\\frac{1}{21}$\n",
    "\n",
    "于是$X=\\frac{1}{21}e^{2t}$\n",
    "\n",
    "所以原方程的通解为$x=c_1e^{-2t}+c_2e^{-3t}+\\frac{1}{21}e^{2t}$，其中$c_1,c_2$为任意常数。"
   ]
  },
  {
   "cell_type": "markdown",
   "metadata": {},
   "source": [
    "（14）$x''+x=sint-cos2t$\n",
    "\n",
    "解：其对应的齐次线性微分方程的特征方程为\n",
    "\n",
    "$\\lambda^2+1=0$\n",
    "\n",
    "解得两个特征根为$\\lambda_1=-i,\\lambda_2=i$\n",
    " \n",
    "因此，通解为$x=c_1cost+c_2sint$,其中$c_1,c_2$为任意常数.\n",
    "\n",
    "再求非齐次线性微分方程的一个特解。\n",
    "\n",
    "①对方程$x''+x=sint$\n",
    "\n",
    "设特解为$X=t(Acost+Bsint)$\n",
    "\n",
    "解得$A=-\\frac{1}{2},B=0$\n",
    "\n",
    "②对方程$x''+x=-cos2t$\n",
    "\n",
    "设特解形如$X=C\\cos2t+D\\sin2t$,得$C=\\frac{1}{3},D=0$\n",
    "\n",
    "则方程通解为：\n",
    "\n",
    "$x=c_1cost+c_2sint-\\frac{1}{2}tcost+\\frac{1}{3}cos2t$"
   ]
  },
  {
   "cell_type": "markdown",
   "metadata": {},
   "source": [
    "（16）$x''+9x=tsin3t$\n",
    "\n",
    "解：其对应的齐次线性微分方程的特征方程为\n",
    "\n",
    "$\\lambda^2+9=0$\n",
    "\n",
    "解得两个特征根$\\lambda_1=-3i,\\lambda_2=3i$\n",
    " \n",
    "因此，通解为$x=c_1cos3t+c_2sin3t$,其中$c_1,c_2$为任意常数.\n",
    "\n",
    "再求非齐次线性微分方程的一个特解。\n",
    "\n",
    "设特解为$X=t[(At+B)cost+(Et+F)sin3t]$,代入得\n",
    "\n",
    "$B=E=0,A=-\\frac{1}{12},F=\\frac{1}{36}$\n",
    "\n",
    "于是方程通解为：\n",
    "\n",
    "$x=c_1cos3t+c_2sin3t-\\frac{1}{12}t^2cos3t+\\frac{1}{36}tsin3t$"
   ]
  },
  {
   "cell_type": "markdown",
   "metadata": {},
   "source": [
    "4.求下组初值问题的解"
   ]
  },
  {
   "cell_type": "markdown",
   "metadata": {},
   "source": [
    "$(1)x''+9x=6e^{3t},x(0)=x'(0)=0$\n",
    "\n",
    "解;对方程的两端施行拉普拉斯变换，得到方程的解的像函数应满足的方程\n",
    "\n",
    "$（s^2+9）X(s)=\\frac{6}{s-3}$\n",
    "\n",
    "注意到$x(0)=x'(0)=0$，得\n",
    "\n",
    "$X(s)=\\frac{6}{(s-3)(s^2+9)}=\\frac{1}{3(s-3)}-\\frac{\\frac{1}{3}s}{s^2+9}-\\frac{1}{s^2+9}$\n",
    "\n",
    "查表可得$\\frac{1}{3(s-3)},\\frac{\\frac{1}{3}s}{s^2+9},\\frac{1}{s^2+9}$的原函数分别为，\n",
    "\n",
    "$\\frac{1}{3}e^{3t},\\frac{1}{3}cos3t，\\frac{1}{3}sin3t$\n",
    "\n",
    "因此，求得X(s)的原函数为\n",
    "\n",
    "$x(t)=\\frac{1}{3}(e^{3t}-cos3t-sin3t)$\n",
    "\n",
    "这就是所要求的解"
   ]
  },
  {
   "cell_type": "markdown",
   "metadata": {},
   "source": [
    "$(2)x^{(4)}+x=2e^t,x(0)=x'(0)=x''(0)=x'''(0)=1$\n",
    "\n",
    "解;对方程的两端施行拉普拉斯变换，得到方程的解的像函数所应满足的方程\n",
    "\n",
    "$s^4X(s)-s^3-s^2-s-1+X(s)=\\frac{2}{s-1}$\n",
    "\n",
    "注意到x(0)=x'(0)=x''(0)=x'''(0)=1$，得\n",
    "\n",
    "$X(s)=\\frac{1}{s-1}$\n",
    "\n",
    "查表可得$\\frac{1}{s-1}$的原函数为$e^t$\n",
    "\n",
    "则X(s)的原函数为\n",
    "\n",
    "$x(t)=e^t$\n",
    "\n",
    "这就是所要求的解"
   ]
  },
  {
   "cell_type": "markdown",
   "metadata": {
    "collapsed": true
   },
   "source": [
    "# <font color='red'>A  18/11"
   ]
  },
  {
   "cell_type": "code",
   "execution_count": null,
   "metadata": {
    "collapsed": true
   },
   "outputs": [],
   "source": []
  }
 ],
 "metadata": {
  "kernelspec": {
   "display_name": "SageMath 7.3",
   "language": "",
   "name": "sagemath"
  },
  "language_info": {
   "codemirror_mode": {
    "name": "ipython",
    "version": 2
   },
   "file_extension": ".py",
   "mimetype": "text/x-python",
   "name": "python",
   "nbconvert_exporter": "python",
   "pygments_lexer": "ipython2",
   "version": "2.7.10"
  }
 },
 "nbformat": 4,
 "nbformat_minor": 0
}
