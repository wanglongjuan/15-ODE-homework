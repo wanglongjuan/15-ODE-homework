{
 "cells": [
  {
   "cell_type": "markdown",
   "metadata": {},
   "source": [
    "第十一周常微分作业      夏德涛  学号：2015750422"
   ]
  },
  {
   "cell_type": "markdown",
   "metadata": {},
   "source": [
    "2.求解下列常系数线性微分方程。"
   ]
  },
  {
   "cell_type": "markdown",
   "metadata": {},
   "source": [
    "（12）.$$x''+6x'+5x=e^{2t}$$\n",
    "先求$$\\frac{d^2x}{dt^2}+6\\frac{dx}{dt}+5x=0$$\n",
    "方程的特征方程为：$$\\lambda^2+6\\lambda+5=0$$\n",
    "解得：$\\lambda=-1,-5$\n",
    "所以方程有形如$x=c_1e^{-t}+c_2e^{-5t}$的通解,其中$c_1,c_2$是任意常数，\n",
    "$\\lambda=2$不是特征根，则原方程有形如$\\overline x=Ae^2t$的特解，带入原方程得$4Ae^{2t}+12Ae^{2t}+5Ae^{2t}=e^{2t}$\n",
    "解得：$$A=\\frac{1}{21}$$\n",
    "所以原方程的通解为：$x=c_1e^{-t}+c_2e^{-5t}+\\frac{1}{21}e^{2t}$"
   ]
  },
  {
   "cell_type": "markdown",
   "metadata": {},
   "source": [
    "(14).$$x''+x=sint-cos2t$$\n",
    "先求$\\frac{d^2x}{dt^2}+x=0$\n",
    "方程的特征方程为$$\\lambda^2+1=0$$\n",
    "解得：$$\\lambda_1=i,\\lambda_2=-i$$\n",
    "对于方程$x''+x=sint$,设其特解为：$\\overline x=t(Asint+Bcost)$,代入方程有：$$A=0,B=-\\frac{1}{2}$$\n",
    "即方程$x''+x=sinx$的一个特解为$\\overline x=-\\frac{1}{2}tcost$\n",
    "对于方程$x''+x=-cos2t$,设其特解为$\\overline x=Acos2t+Bsin2t$,代入方程有：$$A=\\frac{1}{3},B=0,$$\n",
    "即方程$x''+x=-cos2t$的一个特解为$\\overline x=\\frac{1}{3}cos2t$\n",
    "于是原方程的通解为：$$x=c_1cost+c_2cost-\\frac{1}{2}cost+\\frac{1}{3}cos2t$$"
   ]
  },
  {
   "cell_type": "markdown",
   "metadata": {
    "collapsed": true
   },
   "source": [
    "(16).$$x''+9x=tsin3t$$\n",
    "先求$$x''+9x=0$$\n",
    "方程的特征方程为：$$\\lambda^2+9=0$$\n",
    "解得特征方程的根为;$$\\lambda_1=3i,\\lambda_2=-3i$$\n",
    "则方程有形如：$x=c_1cos3t+c_2sin3t$的通解\n",
    "则设方程的一个特解为：$$\\overline x=x=t[(At+B) \\cos 3t+(Et+F) \\sin 3t]$$代入原方程得：$$A=-\\frac{1}{12},B=E=0,F=\\frac{1}{36}$$\n",
    "则方程的一个特解为：$\\overline x=-\\frac{1}{12}t^2 \\cos 3t+\\frac{1}{36}t \\sin 3t$\n",
    "于是方程的通解为：$x=c_1 \\cos 3t+c_2 \\sin 3t-\\frac{1}{12}t^2 \\cos 3t+\\frac{1}{36}t \\sin 3t$,其中$c_1,c_2$为任意常数"
   ]
  },
  {
   "cell_type": "markdown",
   "metadata": {},
   "source": [
    "4,求下列初值问题的解"
   ]
  },
  {
   "cell_type": "markdown",
   "metadata": {},
   "source": [
    "(1).$$x''+9x=6e^{3t},x(0)=x'(0)=0$$\n",
    "解：(1)对方程两边施行拉普拉斯变换得\n",
    "$$(s^2+9)X(s)=\\frac{6}{s-3},$$\n",
    "于是得\n",
    "$$X(s)=\\frac{1}{3}[\\frac{1}{s-3}-\\frac{s}{s^2+9}]-\\frac{1}{s^2+9}.$$\n",
    "对上式右端各项分别求出其原函数，则他们的和就是$X(s)$的原函数，\n",
    "即初值问题的解为$$x(t)=\\frac{1}{3}(e^{3t}-cos3t-sin3t)$$\n",
    "(2)$$x^{(4)}+x=2e^t,x(0)=x'(0)=x''(0)=x'''(0)=1$$\n",
    "(2)对方程两边施行拉普拉斯变换得\n",
    "$$s^4X(s)-s^3-s^2-s-1+X(s)=\\frac{2}{s-1},$$\n",
    "于是得\n",
    "$$X(s)=\\frac{1}{s-1}$$\n",
    "对上式右端各项分别求出其原函数，则它们的和就是$X(s)$的原函数，即初值问题的解为\n",
    "$$x(t)=e^t$$"
   ]
  },
  {
   "cell_type": "markdown",
   "metadata": {
    "collapsed": true
   },
   "source": [
    "# <font color='red'>A  18/11"
   ]
  },
  {
   "cell_type": "code",
   "execution_count": null,
   "metadata": {
    "collapsed": true
   },
   "outputs": [],
   "source": []
  }
 ],
 "metadata": {
  "kernelspec": {
   "display_name": "SageMath 7.3",
   "language": "",
   "name": "sagemath"
  },
  "language_info": {
   "codemirror_mode": {
    "name": "ipython",
    "version": 2
   },
   "file_extension": ".py",
   "mimetype": "text/x-python",
   "name": "python",
   "nbconvert_exporter": "python",
   "pygments_lexer": "ipython2",
   "version": "2.7.10"
  }
 },
 "nbformat": 4,
 "nbformat_minor": 0
}
