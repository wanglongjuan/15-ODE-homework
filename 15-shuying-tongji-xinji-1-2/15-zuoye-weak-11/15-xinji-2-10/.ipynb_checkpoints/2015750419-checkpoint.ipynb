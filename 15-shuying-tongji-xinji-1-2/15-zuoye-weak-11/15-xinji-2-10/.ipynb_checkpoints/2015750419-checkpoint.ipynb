{
 "cells": [
  {
   "cell_type": "markdown",
   "metadata": {},
   "source": [
    "$$1(12)x''+6x'+5x=e^{2t}\n",
    "解：齐次线性微分方程的特征方程为\\lambda^2+6\\lambda+5=0,解得\\lambda_1=-2,\\lambda_2=-3,所以其通解x=c_1e^{-2t}+c_2e^{-3t}\n",
    "f(t)=e^{2t},\\lambda=2不是特征根，所以k=0，则特解X=Be^{2t},代入原方程得B=\\frac{1}{21},所以原方程的通解为x=c_1e^{-2t}+c_2e^{-3t}+\\frac{e^{2t}}{21}\n",
    "$$"
   ]
  },
  {
   "cell_type": "markdown",
   "metadata": {},
   "source": [
    "$$1(14)x''+x=\\sin t-\\cos 2t\n",
    "解：方程的齐次线性微分方程的特征方程为\\lambda^2+1=0，解得\\lambda_1=i,\\lambda_2=-i，所以其通解为x=c_1\\cos t+c_2\\sin t\n",
    "f(t)=\\sin t-\\cos 2t ，对x''+x=\\sin t，\\lambda=i所以k=1则特解形式为X=t(A\\sin t+B\\cos t)代入原方程得A=-\\frac{1}{2} B=0,对x''+x=\\cos t,\\lambda=2i\n",
    "所以k=0则特解形式为X=C\\sin 2t+D\\cos 2t,代入原方程解得C=\\frac{1}{3} D=0则方程的通解为x=c_1\\cos t+c_2\\sin t-t\\frac{1}{2}\\sin t+\\frac{1}{3}\\sin 2t\n",
    "$$"
   ]
  },
  {
   "cell_type": "markdown",
   "metadata": {},
   "source": [
    "$$1(16)x''+9x=t\\sin 3t\n",
    "解:方程的齐次线性微分方程的特征方程为\\lambda^2+9=0,解得\\lambda_1=3i,\\lambda_2=-3i,所以其通解为x=c_1\\cos 3t-c_2\\sin 3t\n",
    "f(t)=t\\sin 3t,\\lambda=3i,所以k=1则特解形式为X=t(A\\cos 3t+B\\sin 3t)代入原方程得A=-\\frac{t}{6},B=0,则方程的通解为x=c_1\\cos 3t-c_2\\sin 3t-\\frac{t^2}{6}\\cos 3t\n",
    "$$"
   ]
  },
  {
   "cell_type": "markdown",
   "metadata": {},
   "source": [
    "$$4(1)x''+9x=6e^{3t}\n",
    "解：方程两边同时进行laplace变换，得s^2X(s)-sx_0-x_0'+9X(s)=\\frac{6}{s-3}化简后有X(s)=\\frac{6}{(s-3)(9+s^2)}=\\frac{1}{3}(\\frac{1}{s-3}-frac{s}{s^2+9}-\\frac{3}{s^2+9})利用拉普拉斯变换表知x(t)=\\frac{1}{3}(e^{3t}-\\cos 3t-\\sin 3t)\n",
    "$$\n",
    "$$(2)x''''+x=2e^t\n",
    "解：方程两边同时进行laplace变换得，s^4X(s)+X(s)=\\frac{2}{s-1}化简后有X(s)=\\frac{1}{s-1}利用拉普拉斯变换表知x(t)=e^t\n",
    "$$"
   ]
  },
  {
   "cell_type": "markdown",
   "metadata": {
    "collapsed": true
   },
   "source": [
    "# <font color='red'>A-  18/11"
   ]
  },
  {
   "cell_type": "code",
   "execution_count": null,
   "metadata": {
    "collapsed": true
   },
   "outputs": [],
   "source": []
  }
 ],
 "metadata": {
  "kernelspec": {
   "display_name": "SageMath 7.3",
   "language": "",
   "name": "sagemath"
  },
  "language_info": {
   "codemirror_mode": {
    "name": "ipython",
    "version": 2
   },
   "file_extension": ".py",
   "mimetype": "text/x-python",
   "name": "python",
   "nbconvert_exporter": "python",
   "pygments_lexer": "ipython2",
   "version": "2.7.10"
  }
 },
 "nbformat": 4,
 "nbformat_minor": 0
}
