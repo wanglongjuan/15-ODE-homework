{
 "cells": [
  {
   "cell_type": "markdown",
   "metadata": {},
   "source": [
    "# 常微分作业"
   ]
  },
  {
   "cell_type": "markdown",
   "metadata": {},
   "source": [
    "## （11月8号）"
   ]
  },
  {
   "cell_type": "markdown",
   "metadata": {},
   "source": [
    "### P165.2.求解下列常系数线性微分方程："
   ]
  },
  {
   "cell_type": "markdown",
   "metadata": {},
   "source": [
    "(12) $x''+6x'+5x=e^{2t};$"
   ]
  },
  {
   "cell_type": "markdown",
   "metadata": {},
   "source": [
    "解：此方程对应的齐次常系数线性微分方程的特征方程为\n",
    "$$\\lambda^2+6\\lambda+5=0$$\n",
    "解得特征根为$$\\lambda_1=-5,\\lambda_2=-1.$$\n",
    "设方程的特解为$\\overline x=Ae^{2t},$代入方程得到\n",
    "$$A=\\frac{1}{21},$$\n",
    "方程的特解为$$\\overline x=\\frac{1}{21}e^{2t},$$\n",
    "最终的通解为\n",
    "$$x=c_1e^{-5t}+c_2e^{-t}+\\frac{1}{21}e^{2t}.$$\n",
    "$c_1,c_2$为任意常数。"
   ]
  },
  {
   "cell_type": "markdown",
   "metadata": {},
   "source": [
    "(14) $x''+x=\\sin t-\\cos 2t;$"
   ]
  },
  {
   "cell_type": "markdown",
   "metadata": {},
   "source": [
    "解：此方程对应的齐次常系数线性微分方程的特征方程为\n",
    "$$\\lambda^2+1=0$$\n",
    "解得特征根为$$\\lambda_1=i,\\lambda_2=-i.$$\n",
    "对于方程$x''+x=\\sin t$，可以设方程的特解为$\\overline x=t(A\\sin t+B\\cos t),$\n",
    "代入方程得到\n",
    "$$A=0,B=-\\frac{1}{2},$$\n",
    "方程的特解为$$\\overline x=-\\frac{1}{2}t\\cos t,$$\n",
    "对于方程$x''+x=-\\cos 2t$，可以设方程的特解为$\\overline x=A\\sin 2t+B\\cos 2t,$\n",
    "代入方程得到\n",
    "$$A=0,B=\\frac{1}{3},$$\n",
    "方程的特解为$$\\overline x=\\frac{1}{3}\\cos 2t,$$\n",
    "最终的通解为\n",
    "$$x=c_1\\cos t+c_2\\sin t-\\frac{1}{2}t\\cos t+\\frac{1}{3}\\cos 2t.$$\n",
    "$c_1,c_2$为任意常数。"
   ]
  },
  {
   "cell_type": "markdown",
   "metadata": {},
   "source": [
    "(16) $x''+9x=t\\sin 3t;$"
   ]
  },
  {
   "cell_type": "markdown",
   "metadata": {},
   "source": [
    "解：此方程对应的齐次常系数线性微分方程的特征方程为\n",
    "$$\\lambda^2+9=0$$\n",
    "解得特征根为$$\\lambda_1=3i,\\lambda_2=-3i.$$\n",
    "设方程的特解为$\\overline x=t[(At+B)\\cos 3t+(Et+F)\\sin 3t],$代入方程得到\n",
    "$$A=-\\frac{1}{12},F=\\frac{1}{36},B=E=0,$$\n",
    "方程的特解为$$\\overline x=-\\frac{1}{12}t^2\\cos 3t+\\frac{1}{36}t\\sin 3t,$$\n",
    "最终的通解为\n",
    "$$x=c_1\\cos 3t+c_2\\sin 3t-\\frac{1}{12}t^2\\cos 3t+\\frac{1}{36}t\\sin 3t.$$\n",
    "$c_1,c_2$为任意常数。"
   ]
  },
  {
   "cell_type": "markdown",
   "metadata": {},
   "source": [
    "## (11月9号)"
   ]
  },
  {
   "cell_type": "markdown",
   "metadata": {},
   "source": [
    "### P165.4.求下组初值问题的解："
   ]
  },
  {
   "cell_type": "markdown",
   "metadata": {},
   "source": [
    "(1)  $x''+9x=6e^{3t},x(0)=x'(0)=0;$"
   ]
  },
  {
   "cell_type": "markdown",
   "metadata": {},
   "source": [
    "解：对方程两边作拉普拉斯变换，得到\n",
    "\n",
    "$s^2X(s)+9X(s)=\\frac{6}{s-3},$\n",
    "\n",
    "由此得$$X(s)=\\frac{1}{3}[\\frac{1}{s-3}-\\frac{s}{s^2+9}]-\\frac{1}{s^3+9}$$\n",
    "\n",
    "再对上式进行拉普拉斯逆变换求出原函数，其为\n",
    "\n",
    "$$x(t)=\\frac{1}{3}(e^{3t}-\\cos 3t-\\sin 3t)$$"
   ]
  },
  {
   "cell_type": "markdown",
   "metadata": {},
   "source": [
    "(2) $x^{(4)}+x=2e^t,x(0)=x'(0)=x''(0)=x'''(0)=1.$"
   ]
  },
  {
   "cell_type": "markdown",
   "metadata": {},
   "source": [
    "解：对方程两边作拉普拉斯变换，得到\n",
    "\n",
    "$s^4X(s)-s^3-s^2-s-1+X(s)=\\frac{2}{s-1},$\n",
    "\n",
    "由此得$$X(s)=\\frac{1}{s-1}.$$\n",
    "\n",
    "在对上式进行拉普拉斯逆变换求出原函数，其为\n",
    "\n",
    "$$x(t)=e^t$$"
   ]
  },
  {
   "cell_type": "markdown",
   "metadata": {},
   "source": [
    "# <font color='red'>A  18/11"
   ]
  },
  {
   "cell_type": "code",
   "execution_count": null,
   "metadata": {
    "collapsed": true
   },
   "outputs": [],
   "source": []
  }
 ],
 "metadata": {
  "kernelspec": {
   "display_name": "SageMath 7.3",
   "language": "",
   "name": "sagemath"
  },
  "language_info": {
   "codemirror_mode": {
    "name": "ipython",
    "version": 2
   },
   "file_extension": ".py",
   "mimetype": "text/x-python",
   "name": "python",
   "nbconvert_exporter": "python",
   "pygments_lexer": "ipython2",
   "version": "2.7.10"
  }
 },
 "nbformat": 4,
 "nbformat_minor": 0
}
