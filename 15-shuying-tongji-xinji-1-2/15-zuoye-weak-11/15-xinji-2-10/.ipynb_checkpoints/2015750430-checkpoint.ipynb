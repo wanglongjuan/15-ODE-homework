{
 "cells": [
  {
   "cell_type": "markdown",
   "metadata": {},
   "source": [
    "**11月8日**"
   ]
  },
  {
   "cell_type": "markdown",
   "metadata": {},
   "source": [
    "**1.求解下列常系数线性微分方程：**"
   ]
  },
  {
   "cell_type": "markdown",
   "metadata": {},
   "source": [
    "**（12）.$x''+6x'+5x=e^{2t}$**"
   ]
  },
  {
   "cell_type": "markdown",
   "metadata": {
    "collapsed": true
   },
   "source": [
    "**解：**\n",
    "\n",
    "**特征方程：**\n",
    "\n",
    "$$\\lambda^2+6\\lambda+5=0$$\n",
    "$$\\lambda_1=-1,\\lambda_2=-5$$"
   ]
  },
  {
   "cell_type": "markdown",
   "metadata": {},
   "source": [
    "**方程特解为：**\n",
    "\n",
    "$x^{*}=Ae^{2t}$**，代入方程：**"
   ]
  },
  {
   "cell_type": "markdown",
   "metadata": {},
   "source": [
    "\\begin{aligned}\n",
    "4Ae^{2t}+12Ae^{2t}+5Ae^{2t}&=e^{2t}\\\\\n",
    "21A&=1\\\\\n",
    "A&=\\frac{\\mathrm 1}{\\mathrm 21}\\\\\n",
    "\\end{aligned}"
   ]
  },
  {
   "cell_type": "markdown",
   "metadata": {},
   "source": [
    "**则方程的通解为：**\n",
    "\n",
    "**$$x=c_1e^{-t}+c_2e^{-5t}+\\frac{\\mathrm 1}{\\mathrm 21}e^{2t}$$**"
   ]
  },
  {
   "cell_type": "markdown",
   "metadata": {},
   "source": [
    "**（14）.$x''+x=\\sin t-\\cos 2t$**"
   ]
  },
  {
   "cell_type": "markdown",
   "metadata": {},
   "source": [
    "**特征方程为：**\n",
    "\n",
    "$$\\lambda^2+1=0$$\n",
    "\n",
    "$$\\lambda=\\pm i$$"
   ]
  },
  {
   "cell_type": "markdown",
   "metadata": {},
   "source": [
    "**方程$x''+x=\\sin t$ 的特解为：**\n",
    "\n",
    "$x^{*}=t(A\\sin t+B\\cos t)$**，代入方程得：**"
   ]
  },
  {
   "cell_type": "markdown",
   "metadata": {},
   "source": [
    "\\begin{aligned}\n",
    "{x^{*}}''+x^{*}&=\\sin t\\\\\n",
    "[t(A\\sin t+B\\cos t)]''+t(A\\sin t+B\\cos t)&=\\sin t\\\\\n",
    "2(A\\cos t-B \\sin t)&=\\sin t \\\\\n",
    "\\end{aligned}"
   ]
  },
  {
   "cell_type": "markdown",
   "metadata": {},
   "source": [
    "**则**$$A=0,B=-\\frac{\\mathrm 1}{\\mathrm 2}$$"
   ]
  },
  {
   "cell_type": "markdown",
   "metadata": {},
   "source": [
    "**方程$x''+x=-\\cos 2t$的特解为：**\n",
    "\n",
    "$x^{*}=C\\cos 2t+D\\sin 2t$**，代入方程得：**"
   ]
  },
  {
   "cell_type": "markdown",
   "metadata": {},
   "source": [
    "\\begin{aligned}\n",
    "{x^{*}}''+x^{*}&=-\\cos 2t\\\\\n",
    "(C\\cos 2t+D \\sin 2t)''+(C\\cos 2t+D\\sin 2t)&=-\\cos 2t\\\\\n",
    "-3C\\cos 2t-3D \\sin 2t&=-\\cos 2t\\\\\n",
    "\\end{aligned}"
   ]
  },
  {
   "cell_type": "markdown",
   "metadata": {},
   "source": [
    "**则：**\n",
    "\n",
    "$$C=\\frac{\\mathrm 1}{\\mathrm 3},D=0$$"
   ]
  },
  {
   "cell_type": "markdown",
   "metadata": {},
   "source": [
    "**则方程的通解为：**\n",
    "\n",
    "**$$x=c_1\\cos t+c_2\\sin t-\\frac{\\mathrm 1}{\\mathrm 2}t\\cos t+\\frac{\\mathrm 1}{\\mathrm 3}\\cos 2t$$**"
   ]
  },
  {
   "cell_type": "markdown",
   "metadata": {},
   "source": [
    "**（16）.$x''+9x=t\\sin 3t$**"
   ]
  },
  {
   "cell_type": "markdown",
   "metadata": {},
   "source": [
    "**解：**\n",
    "\n",
    "**特征方程：**\n",
    "\n",
    "$$\\lambda^2+9=0$$\n",
    "$$\\lambda=\\pm 3i$$"
   ]
  },
  {
   "cell_type": "markdown",
   "metadata": {},
   "source": [
    "**方程特解为：**\n",
    "\n",
    "$x^{*}=t[(At+B)\\cos 3t+(Ct+D)\\sin 3t]$**，代入方程得：**"
   ]
  },
  {
   "cell_type": "markdown",
   "metadata": {},
   "source": [
    "\\begin{aligned}\n",
    "{t[(At+B)\\cos 3t+(Ct+D)\\sin 3t]}''+8t[(At+B)\\cos 3t+(Ct+D)\\sin 3t]&=t\\sin 3t\\\\\n",
    "(-12At-6B+2C)\\sin 3t +(2A+6Ct+6D)\\cos 3t&=t\\sin 3t\\\\\n",
    "\\end{aligned}"
   ]
  },
  {
   "cell_type": "markdown",
   "metadata": {},
   "source": [
    "**则：**\n",
    "$$A=-\\frac{\\mathrm 1}{\\mathrm 12},D=\\frac{\\mathrm 1}{\\mathrm 36},B=C=0;$$"
   ]
  },
  {
   "cell_type": "markdown",
   "metadata": {},
   "source": [
    "**则方程的通解为：**\n",
    "\n",
    "$$x=c_1\\cos 3t+c_2\\sin 3t-\\frac{\\mathrm 1}{\\mathrm 12}t^2\\cos 3t+\\frac{\\mathrm 1}{\\mathrm 36}t\\sin 3t$$"
   ]
  },
  {
   "cell_type": "markdown",
   "metadata": {},
   "source": [
    "**11月9日**"
   ]
  },
  {
   "cell_type": "markdown",
   "metadata": {},
   "source": [
    "**（4）.求下组初值问题的解。**"
   ]
  },
  {
   "cell_type": "markdown",
   "metadata": {},
   "source": [
    "**（1）.$x''+9x=6e^{3t},x(0)=x'(0)=0$;**"
   ]
  },
  {
   "cell_type": "markdown",
   "metadata": {},
   "source": [
    "**解：**\n",
    "\n",
    "**对等式两边进行拉普拉斯变化：**\n",
    "\n",
    "\\begin{aligned}\n",
    "s^2X(s)+9X(s)&=\\frac{\\mathrm 6}{\\mathrm s-3}\\\\\n",
    "X(s)&=\\frac{\\mathrm 6}{\\mathrm (s^2+9)(s-3)}\\\\\n",
    "X(s)&=\\frac{\\mathrm 1}{\\mathrm 3}(\\frac{\\mathrm -s-3}{\\mathrm s^2+9}+\\frac{\\mathrm 1}{\\mathrm s-3})\\\\\n",
    "&=\\frac{\\mathrm 1}{\\mathrm 3}(\\frac{\\mathrm -s}{\\mathrm s^2+9}-\\frac{\\mathrm 3}{\\mathrm s^2+9}+\\frac{\\mathrm 1}{\\mathrm s-3})\\\\\n",
    "\\end{aligned}"
   ]
  },
  {
   "cell_type": "markdown",
   "metadata": {},
   "source": [
    "**参照表格：**\n",
    "\n",
    "**$X(s)$的原函数为：**\n",
    "\n",
    "$$x(t)=\\frac{\\mathrm 1}{\\mathrm 3}(-\\cos 3t-\\sin 3t+e^{3t})$$"
   ]
  },
  {
   "cell_type": "markdown",
   "metadata": {},
   "source": [
    "**（2）.$x^{(4)}+x=2e^t,x(0)=x'(0)=x''(0)=x'''(0)=1$**"
   ]
  },
  {
   "cell_type": "markdown",
   "metadata": {},
   "source": [
    "**解：**\n",
    "\n",
    "**对等式两边进行拉普拉斯变化：**\n",
    "\n",
    "\\begin{aligned}\n",
    "s^4X(s)-s^3-s^2-s-1+X(s)&=\\frac{\\mathrm 2}{\\mathrm s-1}\\\\\n",
    "X(s)&=\\frac{\\mathrm 2+s^3+s^2+s+1}{\\mathrm (s^4+1)(s-1)}\\\\\n",
    "&=\\frac{\\mathrm s^4-1}{\\mathrm (s^4-1)(s-1)}\\\\\n",
    "&=\\frac{\\mathrm 1}{\\mathrm s-1}\\\\\n",
    "\\end{aligned}"
   ]
  },
  {
   "cell_type": "markdown",
   "metadata": {},
   "source": [
    "**参照表格：**\n",
    "\n",
    "**$X(s)$的原函数是：**\n",
    "\n",
    "$$x(t)=e^t$$"
   ]
  },
  {
   "cell_type": "markdown",
   "metadata": {},
   "source": [
    "# <font color='red'>A-  18/11"
   ]
  },
  {
   "cell_type": "code",
   "execution_count": null,
   "metadata": {
    "collapsed": true
   },
   "outputs": [],
   "source": []
  }
 ],
 "metadata": {
  "kernelspec": {
   "display_name": "SageMath 7.3",
   "language": "",
   "name": "sagemath"
  },
  "language_info": {
   "codemirror_mode": {
    "name": "ipython",
    "version": 2
   },
   "file_extension": ".py",
   "mimetype": "text/x-python",
   "name": "python",
   "nbconvert_exporter": "python",
   "pygments_lexer": "ipython2",
   "version": "2.7.10"
  }
 },
 "nbformat": 4,
 "nbformat_minor": 0
}
