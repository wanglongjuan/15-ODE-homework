{
 "cells": [
  {
   "cell_type": "markdown",
   "metadata": {
    "collapsed": true
   },
   "source": [
    "2.求解下列常系数线性微分方程："
   ]
  },
  {
   "cell_type": "markdown",
   "metadata": {},
   "source": [
    "(12)$x''+6x'+5x=e^2t$"
   ]
  },
  {
   "cell_type": "markdown",
   "metadata": {},
   "source": [
    "(14)$x''+x=sint-cos2t$"
   ]
  },
  {
   "cell_type": "markdown",
   "metadata": {},
   "source": [
    "(16)$x''+9x=tsin3t$"
   ]
  },
  {
   "cell_type": "markdown",
   "metadata": {},
   "source": [
    "（12）解：特征方程为：$\\lambda''+6\\lambda'+5=0$\n",
    "\n",
    "解得特征根为：$\\lambda _{1}=-1,\\lambda _{2}=-5$"
   ]
  },
  {
   "cell_type": "markdown",
   "metadata": {},
   "source": [
    "令方程的一个特解为$x=Ae^{2t}$,代入方程得：$A=\\frac{\\mathrm 1}{\\mathrm 21}$\n",
    "\n",
    "即特解为：$x=\\frac{\\mathrm 1}{\\mathrm 21}e^{2t}$\n"
   ]
  },
  {
   "cell_type": "markdown",
   "metadata": {},
   "source": [
    "则方程的通解为：\n",
    "$x=c_{1}e^{-t}+c_{2}e^{-5t}+\\frac{\\mathrm 1}{\\mathrm 21}e^{2t}$"
   ]
  },
  {
   "cell_type": "markdown",
   "metadata": {},
   "source": [
    "（14）特征方程为：$$\\lambda''+1=0$$\n",
    "\n",
    "解得特征根为：$\\lambda _{1}=i,\\lambda _{2}=-i$\n"
   ]
  },
  {
   "cell_type": "markdown",
   "metadata": {},
   "source": [
    "①对于方程$x''+x=sint$,\n",
    "\n",
    "令其的一个特解为：$x=t(Asint+Bcost)$,带入方程得：$A=0,B=-\\frac{\\mathrm 1}{\\mathrm 2}$\n",
    "\n",
    "即方程$x''+x=sint$的一个特解为：$x=-\\frac{\\mathrm 1}{\\mathrm 2}tcost$\n"
   ]
  },
  {
   "cell_type": "markdown",
   "metadata": {},
   "source": [
    "②对于方程$x''+x=-cos2t$,\n",
    "\n",
    "令其的一个特解为：$x=Acos2t+Bsin2t$,代入方程得：$A=\\frac{\\mathrm 1}{\\mathrm 3}，B=0$\n",
    "\n",
    "即方程$x''+x=-cos2t$的一个特解为：$x=\\frac{\\mathrm 1}{\\mathrm 3}cos2t$\n",
    "\n",
    "所以原方程的通解为：$x=c_{1}cost+c_{2}sint-\\frac{\\mathrm 1}{\\mathrm 2}tcost+\\frac{\\mathrm 1}{\\mathrm 3}cos2t$"
   ]
  },
  {
   "cell_type": "markdown",
   "metadata": {},
   "source": [
    "（16）特征方程为：$\\lambda''+9=0$\n",
    "解得特征根为：$\\lambda _{1}=3i,\\lambda _{2}=-3i$\n"
   ]
  },
  {
   "cell_type": "markdown",
   "metadata": {},
   "source": [
    "取方程的一个特解为：$x=t[(At+B)cos3t+(Ct+D)sin3t]$,代入方程得：$A=-\\frac{\\mathrm 1}{\\mathrm 12},D=\\frac{\\mathrm 1}{\\mathrm 36},B=C=0$\n",
    "\n",
    "即方程的一个特解为：$x=-\\frac{\\mathrm 1}{\\mathrm 12}t^{2}cos3t+\\frac{\\mathrm 1}{\\mathrm 36}tsin3t$"
   ]
  },
  {
   "cell_type": "markdown",
   "metadata": {},
   "source": [
    "所以方程的通解为：$x=c_{1}cos3t+c_{2}sin3t-\\frac{\\mathrm 1}{\\mathrm 12}t^{2}cos3t+\\frac{\\mathrm 1}{\\mathrm 36}tsin3t \\quad c_{1},c_{2}为任意常数。$"
   ]
  },
  {
   "cell_type": "markdown",
   "metadata": {},
   "source": [
    "4.求下组初值问题的解。"
   ]
  },
  {
   "cell_type": "markdown",
   "metadata": {},
   "source": [
    "（1）$x''+9x=6e^{3t},x(0)=x'(0)=0;$"
   ]
  },
  {
   "cell_type": "markdown",
   "metadata": {},
   "source": [
    "（2）$x^{(4)}+x=2e^t,x(0)=x'(0)=x''(0)=x'''(0)=1$"
   ]
  },
  {
   "cell_type": "markdown",
   "metadata": {},
   "source": [
    "（1）解：对方程两边进行拉普拉斯变换得：$(s^2+9)X(s)=\\frac{\\mathrm 6}{\\mathrm s-3}$\n",
    "\n",
    "由此得:$X(s)=\\frac{\\mathrm 1}{\\mathrm 3}[\\frac{\\mathrm 1}{\\mathrm s-3}-\\frac{\\mathrm s}{\\mathrm s^2+9}]-\\frac{\\mathrm 1}{\\mathrm s^2+9}$"
   ]
  },
  {
   "cell_type": "markdown",
   "metadata": {},
   "source": [
    "对上式右端各项查拉普拉斯变换表，得X(s)的原函数为：$$x(t)=\\frac{\\mathrm 1}{\\mathrm 3}(e^{3t}-cos3t-sin3t)$$\n",
    "    \n",
    "这就是所要求的解。"
   ]
  },
  {
   "cell_type": "markdown",
   "metadata": {},
   "source": [
    "（2）对方程两边进行拉普拉斯变换得：$$s^{4}X(s)-s^3-s^2-s-1+X(s)=\\frac{\\mathrm 2}{\\mathrm s-1}$$\n",
    "\n",
    "由此得：$$X(s)=\\frac{\\mathrm 1}{\\mathrm s-1}$$\n"
   ]
  },
  {
   "cell_type": "markdown",
   "metadata": {},
   "source": [
    "对上式右端查拉普拉斯变换表，得X（s）的原函数为：$$x(t)=e^t$$\n",
    "\n",
    "这就是所要求的解。"
   ]
  },
  {
   "cell_type": "markdown",
   "metadata": {
    "collapsed": true
   },
   "source": [
    "# <font color='red'>A  18/11"
   ]
  },
  {
   "cell_type": "code",
   "execution_count": null,
   "metadata": {
    "collapsed": true
   },
   "outputs": [],
   "source": []
  }
 ],
 "metadata": {
  "kernelspec": {
   "display_name": "SageMath 7.3",
   "language": "",
   "name": "sagemath"
  },
  "language_info": {
   "codemirror_mode": {
    "name": "ipython",
    "version": 2
   },
   "file_extension": ".py",
   "mimetype": "text/x-python",
   "name": "python",
   "nbconvert_exporter": "python",
   "pygments_lexer": "ipython2",
   "version": "2.7.10"
  }
 },
 "nbformat": 4,
 "nbformat_minor": 0
}
