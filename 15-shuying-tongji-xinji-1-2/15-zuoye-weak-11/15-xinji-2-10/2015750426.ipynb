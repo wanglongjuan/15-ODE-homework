{
 "cells": [
  {
   "cell_type": "markdown",
   "metadata": {},
   "source": [
    "**2016.11.8**"
   ]
  },
  {
   "cell_type": "markdown",
   "metadata": {},
   "source": [
    "**2.求解下列常系数线性微分方程：**\n",
    "\n",
    "（12）$x''+6x'+5x=e^{2t}$\n",
    "\n",
    "（14）$x''+x=\\sin t - \\cos (2t)$\n",
    "\n",
    "（16）$x''+9x=t\\sin (3t)$"
   ]
  },
  {
   "cell_type": "markdown",
   "metadata": {},
   "source": [
    "**解：**"
   ]
  },
  {
   "cell_type": "markdown",
   "metadata": {},
   "source": [
    "（12）令 $x=e^{\\lambda t}$"
   ]
  },
  {
   "cell_type": "markdown",
   "metadata": {},
   "source": [
    "先求对应齐次方程的通解：$\\lambda^2+6\\lambda+5=0$"
   ]
  },
  {
   "cell_type": "markdown",
   "metadata": {},
   "source": [
    "得 $\\lambda_1=-1,\\lambda_2=-5$"
   ]
  },
  {
   "cell_type": "markdown",
   "metadata": {},
   "source": [
    "即齐次方程的通解为：$x=c_1e^{-t}+c_2e^{-5t}$"
   ]
  },
  {
   "cell_type": "markdown",
   "metadata": {},
   "source": [
    "取 $\\overline x=Ae^{2t}$,由于 2 不是特征根，则将 $\\overline x=Ae^{2t}$ 代入原方程得："
   ]
  },
  {
   "cell_type": "markdown",
   "metadata": {},
   "source": [
    "$ 4Ae^{2t}+12Ae^{2t}+5Ae^{2t}=e^{2t}$,得 $A=\\frac{1}{21}$"
   ]
  },
  {
   "cell_type": "markdown",
   "metadata": {},
   "source": [
    "则 $\\overline x=\\frac{1}{21}e^{2t}$"
   ]
  },
  {
   "cell_type": "markdown",
   "metadata": {},
   "source": [
    "原方程的通解为：$x=c_1e^{-t}+c_2e^{-5t}+\\frac{1}{21}e^{2t}$"
   ]
  },
  {
   "cell_type": "markdown",
   "metadata": {},
   "source": [
    "（14）先求对应齐次方程的通解：$\\lambda^2+1=0$"
   ]
  },
  {
   "cell_type": "markdown",
   "metadata": {},
   "source": [
    "得 $\\lambda_1=i,\\lambda_2=-i$"
   ]
  },
  {
   "cell_type": "markdown",
   "metadata": {},
   "source": [
    "齐次线性微分的通解为：$x=c_1\\cos t +c_2\\sin t$"
   ]
  },
  {
   "cell_type": "markdown",
   "metadata": {},
   "source": [
    "当 $x''+x=\\sin t $ 时,取 $\\overline x=t(A\\cos t +B \\sin t)$"
   ]
  },
  {
   "cell_type": "markdown",
   "metadata": {},
   "source": [
    "得到 $-2A\\sin t +2B\\cos t =\\sin t$,得 $A=-\\frac{1}{2},B=0 \\to \\overline x=-\\frac{1}{2}t\\cos t$"
   ]
  },
  {
   "cell_type": "markdown",
   "metadata": {},
   "source": [
    "当 $x''+x=-\\cos(2t) $ 时,取 $\\overline x=t(A\\cos 2t +B \\sin 2t) $"
   ]
  },
  {
   "cell_type": "markdown",
   "metadata": {},
   "source": [
    "得到 $-3A\\cos(2t)-3B\\sin(2t)=-\\cos(2t)$,得 $A=\\frac{1}{3},B=0 \\to \\overline x=\\frac{1}{3}\\cos(2t)$"
   ]
  },
  {
   "cell_type": "markdown",
   "metadata": {},
   "source": [
    "即原方程的通解为：$x=c_1\\cos t +c_2\\sin t-\\frac{1}{2}t\\cos t+\\frac{1}{3}\\cos(2t)$"
   ]
  },
  {
   "cell_type": "markdown",
   "metadata": {},
   "source": [
    "（16）先求齐次线性微分方程的通解：$\\lambda^2+9=0$"
   ]
  },
  {
   "cell_type": "markdown",
   "metadata": {},
   "source": [
    "得 $\\lambda_1=3i,\\lambda_2=-3i$"
   ]
  },
  {
   "cell_type": "markdown",
   "metadata": {},
   "source": [
    "齐次线性微分方程的通解为：$x=c_1\\cos 3t +c_2 \\sin 3t$"
   ]
  },
  {
   "cell_type": "markdown",
   "metadata": {},
   "source": [
    "取 $\\overline x=t[(At+B)\\cos 3t +(Et+F)\\sin 3t]$"
   ]
  },
  {
   "cell_type": "markdown",
   "metadata": {},
   "source": [
    "得到 $(2A+6F)\\cos 3t+12Et\\cos 3t -12At\\sin 3t +(-6B+E)\\sin 3t=t\\sin 3t$"
   ]
  },
  {
   "cell_type": "markdown",
   "metadata": {},
   "source": [
    "得到 $A=-\\frac{1}{12},F=\\frac{1}{36},B=E=0 \\to \\overline x=t(-\\frac{t}{12}\\cos 3t +\\frac{1}{36}\\sin 3t)$"
   ]
  },
  {
   "cell_type": "markdown",
   "metadata": {},
   "source": [
    "即原方程的通解为：$x=c_1\\cos 3t +c_2 \\sin 3t-\\frac{t^2}{12}\\cos 3t +\\frac{t}{36}\\sin 3t$"
   ]
  },
  {
   "cell_type": "markdown",
   "metadata": {
    "collapsed": true
   },
   "source": [
    "**2016.11.9**"
   ]
  },
  {
   "cell_type": "markdown",
   "metadata": {},
   "source": [
    "**4.求下列初值问题的解：**"
   ]
  },
  {
   "cell_type": "markdown",
   "metadata": {},
   "source": [
    "（1）$x''+9x=6e^{3t},x(0)=x'(0)=0$\n",
    "\n",
    "（2）$x^{(4)}+x=2e^t,x(0)=x'(0)=x''(0)=x'''(0)=0$"
   ]
  },
  {
   "cell_type": "markdown",
   "metadata": {},
   "source": [
    "**解：**"
   ]
  },
  {
   "cell_type": "markdown",
   "metadata": {},
   "source": [
    "（1）对方程两端进行拉普拉斯变换，得到方程的解的像函数所应满足的方程：$s^2 X(s)+ 9X(s)=6 \\frac{1}{s-3}$"
   ]
  },
  {
   "cell_type": "markdown",
   "metadata": {},
   "source": [
    "且 $x(0)=x'(0)=0$,得到"
   ]
  },
  {
   "cell_type": "markdown",
   "metadata": {},
   "source": [
    "$$X(s)=\\frac{6}{(s^2+9)(s-3)}=\\frac{1}{3}(\\frac{1}{s-3}-\\frac{s}{s^2+9}-\\frac{3}{s^2+9})$$"
   ]
  },
  {
   "cell_type": "markdown",
   "metadata": {},
   "source": [
    "$$x(t)=L^{-1}[\\frac{1}{3}(\\frac{1}{s-3}-\\frac{s}{s^2+9}-\\frac{3}{s^2+9})]$$"
   ]
  },
  {
   "cell_type": "markdown",
   "metadata": {},
   "source": [
    "即原方程的解为：$$x(t)=\\frac{1}{3}(e^{3t}-\\cos 3t -\\sin 3t)$$"
   ]
  },
  {
   "cell_type": "markdown",
   "metadata": {},
   "source": [
    "（2）对方程两端进行拉普拉斯变换。得到方程的解的像函数所应满足的方程：$s^4X(s)-s^3-s^2-s-1+X(s)=2\\frac{1}{s-1}$"
   ]
  },
  {
   "cell_type": "markdown",
   "metadata": {},
   "source": [
    "且 $x(0)=x'(0)=x''(0)=x'''(0)=0$,得到"
   ]
  },
  {
   "cell_type": "markdown",
   "metadata": {},
   "source": [
    "$$X(s)=\\frac{2\\frac{1}{s-1}+s^3+s^2+s+1}{s^4+1}=\\frac{1}{s-1}$$"
   ]
  },
  {
   "cell_type": "markdown",
   "metadata": {},
   "source": [
    "\n",
    "$$x(t)=L^{-1}[\\frac{1}{s-1}]$$"
   ]
  },
  {
   "cell_type": "markdown",
   "metadata": {},
   "source": [
    "即原方程的解为：$$x(t)=e^t$$"
   ]
  },
  {
   "cell_type": "markdown",
   "metadata": {
    "collapsed": true
   },
   "source": [
    "# <font color='red'>A  18/11"
   ]
  },
  {
   "cell_type": "code",
   "execution_count": null,
   "metadata": {
    "collapsed": true
   },
   "outputs": [],
   "source": []
  }
 ],
 "metadata": {
  "kernelspec": {
   "display_name": "SageMath 7.3",
   "language": "",
   "name": "sagemath"
  },
  "language_info": {
   "codemirror_mode": {
    "name": "ipython",
    "version": 2
   },
   "file_extension": ".py",
   "mimetype": "text/x-python",
   "name": "python",
   "nbconvert_exporter": "python",
   "pygments_lexer": "ipython2",
   "version": "2.7.10"
  }
 },
 "nbformat": 4,
 "nbformat_minor": 0
}
