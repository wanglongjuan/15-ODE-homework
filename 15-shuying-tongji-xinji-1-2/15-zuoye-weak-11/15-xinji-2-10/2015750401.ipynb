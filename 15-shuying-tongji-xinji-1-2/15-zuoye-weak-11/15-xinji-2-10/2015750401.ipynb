{
 "cells": [
  {
   "cell_type": "markdown",
   "metadata": {},
   "source": [
    "第十一次常微分作业\n",
    "\n",
    "2015750401"
   ]
  },
  {
   "cell_type": "markdown",
   "metadata": {},
   "source": [
    "$(12)解;特征方程\\lambda ^2+6\\lambda+5=0 有根；\\lambda_1=-1,\\lambda_2=-5$\n",
    "\n",
    "$故齐线性方程的通解为x=c_1e^{-t}+c_2e^{-5t}$\n",
    "\n",
    "$\\lambda=2不是特征方程的根，故\\hat{x}=Ae^{2t}代入原方程解得A=\\frac{1}{21}$\n",
    "\n",
    "$故通解为x=c_1e^{-t}+c_2e^{-5t}+\\frac{1}{21}e^{2t}$"
   ]
  },
  {
   "cell_type": "markdown",
   "metadata": {},
   "source": [
    "$(14)解;特征方程\\lambda^2+1=0有根;\\lambda_1=i,\\lambda_2=-i$\n",
    "\n",
    "$故齐线性方程的通解为x=c_1cost+c_2sint$\n",
    "\n",
    "$x''+x=sint,\\lambda_1=i,是方程的解\\hat{x}=t(Acost+Bsint)代入原方程解得:$\n",
    "\n",
    "$A=-\\frac{1}{2}B=0故x''+x=-cos2t   \\hat{x}=Acos2t+Bsin2t代入原方程得:$\n",
    "\n",
    "$A=\\frac{1}{3}B=0故\\hat{x}=\\frac{1}{3}cos2t$\n",
    "\n",
    "$故通解为x=c_1cost+c_2sint-\\frac{1}{2}tcost+\\frac{1}{3}cos2t$"
   ]
  },
  {
   "cell_type": "markdown",
   "metadata": {},
   "source": [
    "$(16)特征方程\\lambda^2+9=0,特征根为共轭复根\\lambda=\\pm3i$\n",
    "\n",
    "$特解可设为\\hat{x}=t[(at+c)cos3t+(bt+d)sin3t],代入得$\n",
    "\n",
    "$2a+6d=0,12d=0,2b-6c=0,-12a=1$\n",
    "\n",
    "$a=-\\frac{1}{12},b=c=0,d=\\frac{1}{36}$\n",
    "\n",
    "$解为x=c_1cos3t+c_2sin3t-\\frac{1}{12}t^2cos3t+\\frac{1}{36}tsin3t$"
   ]
  },
  {
   "cell_type": "markdown",
   "metadata": {},
   "source": [
    "$4.(1)两边取拉普拉斯变换得;s^2X(s)+9X(s)=\\frac{6}{s-3}$\n",
    "\n",
    "$解得X(s)=\\frac{6}{(s^2+9)(s-3)}=\\frac{1}{3}\\frac{1}{s-3}-\\frac{1}{3}\\frac{s}{s^2+9}-\\frac{1}{s^2+9}$\n",
    "\n",
    "$\\therefore x(t)=\\frac{1}{3}e^{3t}-\\frac{1}{3}cos3t-\\frac{1}{3}sin3t$"
   ]
  },
  {
   "cell_type": "markdown",
   "metadata": {},
   "source": [
    "$(2).利用拉普拉斯变换得;s^4X-s^3-s^2-s-1+X=\\frac{2}{s-1}$\n",
    "\n",
    "$即X=\\frac{1}{s-1}\\therefore x=e^t$"
   ]
  },
  {
   "cell_type": "markdown",
   "metadata": {
    "collapsed": true
   },
   "source": [
    "# <font color='red'>A  18/11"
   ]
  },
  {
   "cell_type": "code",
   "execution_count": null,
   "metadata": {
    "collapsed": true
   },
   "outputs": [],
   "source": []
  }
 ],
 "metadata": {
  "kernelspec": {
   "display_name": "SageMath 7.3",
   "language": "",
   "name": "sagemath"
  },
  "language_info": {
   "codemirror_mode": {
    "name": "ipython",
    "version": 2
   },
   "file_extension": ".py",
   "mimetype": "text/x-python",
   "name": "python",
   "nbconvert_exporter": "python",
   "pygments_lexer": "ipython2",
   "version": "2.7.10"
  }
 },
 "nbformat": 4,
 "nbformat_minor": 0
}
