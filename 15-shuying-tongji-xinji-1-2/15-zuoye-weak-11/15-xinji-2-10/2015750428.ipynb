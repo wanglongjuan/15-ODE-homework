{
 "cells": [
  {
   "cell_type": "markdown",
   "metadata": {},
   "source": [
    "1.求解下列常系数线性微分方程。"
   ]
  },
  {
   "cell_type": "markdown",
   "metadata": {},
   "source": [
    "$(1)x''+6x'+5x=e^{2t};$\n",
    "\n",
    "解：由于其对应的齐次方程的特征方程为$$\\lambda^2+6\\lambda+5=0,$$\n",
    "\n",
    "所以特征根为$$\\lambda_1=-1,\\lambda_2=-5$$  令方程的一个特解为$x_0=Ae^{2t}$,代入得$$A=\\frac{1}{21}$$即方程的一个特解为$$x_0=\\frac{1}{21}\n",
    "e^{2t},$$于是方程的通解为$$x=c_1e^{-t}+c_2e^{-5t}+\\frac{1}{21}e^{2t}$$这里$c_1,c_2$是任意常数."
   ]
  },
  {
   "cell_type": "markdown",
   "metadata": {},
   "source": [
    "$(2)x''+x'=sint-cos2t;$\n",
    "\n",
    "解：由于其对应的齐次方程的特征方程为$$\\lambda^2+1=0,$$\n",
    "\n",
    "所以特征根为$$\\lambda_1=i,\\lambda_2=-i$$  ①对于方程$x''+x=sint$,设其特解为x_0=t(Asint+Bcost),代入得$$A=0,B=-\\frac{1}{2}$$即一个特解为$$x_0=-\\frac{1}{2}tcost.$$②对于方程为$x''+x=-cos2t$,设其特解为$x_0=Acos2t+Bsin2t$,代入得$$A=\\frac{1}{3},B=0$$即一个特解为$x_0=\\frac{1}{3}cos2t$\n",
    "\n",
    "于是原方程的通解为$$x=c_1cost+c_2sint-\\frac{1}{2}tcost+\\frac{1}{3}cos2t.$$这里$c_1,c_2$是任意常数."
   ]
  },
  {
   "cell_type": "markdown",
   "metadata": {},
   "source": [
    "$(3)x''+9x=tsin3t;$\n",
    "\n",
    "解：由于其对应的齐次方程的特征方程为$$\\lambda^2+9=0,$$\n",
    "\n",
    "所以特征根为$$\\lambda_1=3i,\\lambda_2=-3i$$  设方程的一个特解为$x_0=t[(At+B)cos3t+(Et+F)sin3t]$,代入得$$A=-\\frac{1}{12},F=\\frac{1}{36},B=E=0,$$即方程的一个特解为$$x_0=-\\frac{1}{12}\n",
    "t^2cos3t+\\frac{1}{36}tsin3t,$$于是方程的通解为$$x=c_1cos3t+c_2sin3t-\\frac{1}{12}t^2cos3t+\\frac{1}{36}tsin3t$$这里$c_1,c_2$是任意常数.\n"
   ]
  },
  {
   "cell_type": "markdown",
   "metadata": {},
   "source": [
    "2.求下组初值问题的解:\n",
    "\n",
    "$(1)x''+9x=6e^{3t},x(0)=x'(0)=0$;\n",
    "\n",
    "$(2)x^{(4)}+x=2e^t,x(0)=x'(0)=x''(0)=x'''(0)=1$"
   ]
  },
  {
   "cell_type": "markdown",
   "metadata": {},
   "source": [
    "解：$(1)$对方程两边施行拉普拉斯变换得$$(s^2+9)X(s)=\\frac{6}{s-3},$$于是得$$X(s)=\\frac{1}{3}[\\frac{1}{s-3}-\\frac{s}{s^2+9}]-\\frac{1}{s^2+9}.$$对上式右端各项分别求出其原函数，则他们的和就是$X(s)$的原函数，即初值问题的解为$$x(t)=\\frac{1}{3}(e^{3t}-cos3t-sin3t)$$\n",
    "\n",
    "$(2)$对方程两边施行拉普拉斯变换得$$s^4X(s)-s^3-s^2-s-1+X(s)=\\frac{2}{s-1},$$于是得$$X(s)=\\frac{1}{s-1}$$对上式右端各项分别求出其原函数，则它们的和就是$X(s)$的原函数，即初值问题的解为$$x(t)=e^t$$"
   ]
  },
  {
   "cell_type": "markdown",
   "metadata": {},
   "source": []
  },
  {
   "cell_type": "markdown",
   "metadata": {},
   "source": [
    "# <font color='red'>A  18/11"
   ]
  },
  {
   "cell_type": "code",
   "execution_count": null,
   "metadata": {
    "collapsed": true
   },
   "outputs": [],
   "source": []
  }
 ],
 "metadata": {
  "kernelspec": {
   "display_name": "SageMath 7.3",
   "language": "",
   "name": "sagemath"
  },
  "language_info": {
   "codemirror_mode": {
    "name": "ipython",
    "version": 2
   },
   "file_extension": ".py",
   "mimetype": "text/x-python",
   "name": "python",
   "nbconvert_exporter": "python",
   "pygments_lexer": "ipython2",
   "version": "2.7.10"
  }
 },
 "nbformat": 4,
 "nbformat_minor": 0
}
