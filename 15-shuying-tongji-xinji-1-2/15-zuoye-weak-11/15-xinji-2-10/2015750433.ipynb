{
 "cells": [
  {
   "cell_type": "markdown",
   "metadata": {},
   "source": [
    "**11.08**\n",
    "\n",
    "$2.求解下列常系数线性微分方程：$\n",
    "\n",
    "$(12)x''+6x'+5x=e^{2t};$\n",
    "\n",
    "$(14)x''+x=\\sin t-\\cos 2t;$\n",
    "\n",
    "$(16)x''+9x=t\\sin 3t.$\n",
    "\n",
    "$解：（12）对应齐次方程的特征方程为{\\lambda}^2+6\\lambda+5=0$\n",
    "\n",
    "$特征根为{\\lambda}_1=-1,{\\lambda}_2=-5$\n",
    "\n",
    "$令方程的一个特解为\\overline x=Ae^{2t},代入得A=\\frac{1}{21}$\n",
    "\n",
    "$即特解为\\overline x=\\frac{1}{21}e^{2t}$\n",
    "\n",
    "$∴方程的通解为x=c_1e^{-t}+c_2e^{-5t}+\\frac{1}{21}e^{2t}$\n",
    "\n",
    "$（14）对应的齐次方程的特征方程为{\\lambda}^2+1=0,即特征根为{\\lambda}_1=i,{\\lambda}_2=-i$\n",
    "\n",
    "$设方程x''+x=\\sin t的特解为\\overline x=t(A\\sin t+B\\cos t)$\n",
    "\n",
    "$代入得A=0,B=-\\frac{1}{2}$\n",
    "\n",
    "$即其特解为\\overline x=-\\frac{1}{2}t\\cos t$\n",
    "\n",
    "$设方程x''+x=-\\cos 2t的特解为\\overline x=\\frac{1}{3}\\cos 2t，代入得A=\\frac{1}{3},B=0$\n",
    "\n",
    "$即方程的一个特解为\\overline x=\\frac{1}{3}\\cos 2t$\n",
    "\n",
    "$∴原方程的通解为x=c_1\\cos t+c_2\\sin t-\\frac{1}{2}t\\cos t+\\frac{1}{3}\\cos 2t$\n",
    "\n",
    "$（16）对应线性齐次方程的特征方程为{\\lambda}^2+9=0,∴特征根为{\\lambda}_1=3i,{\\lambda}_2=-3i$\n",
    "\n",
    "$设方程的一个特解为\\overline x=t[(At+B)\\cos 3t+(Et+F)\\sin 3t],代入得A=-\\frac{1}{12},F=\\frac{1}{36},B=E=0$\n",
    "\n",
    "$即方程的一个特解为\\overline x=-\\frac{1}{12}t^2\\cos 3t+\\frac{1}{36}t\\sin 3t$\n",
    "\n",
    "$∴方程的通解为x=c_1\\cos 3t+c_2\\sin 3t-\\frac{1}{12}t^2\\cos 3t+\\frac{1}{36}t\\sin 3t,c_1,c_2为任意常数$"
   ]
  },
  {
   "cell_type": "markdown",
   "metadata": {},
   "source": [
    "**11.09**\n",
    "\n",
    "$4.求下组初值问题的解：$\n",
    "\n",
    "$（1）x''+9x=6e^{3t},x(0)=x'(0)=0;$\n",
    "\n",
    "$（2）x^{(4)}+x=2e^t,x(0)=x'(0)=x''(0)=x'''(0)=1.$\n",
    "\n",
    "$解：（1）对方程两边进行拉普拉斯变换，得(s^2+9)X(s)=\\frac{6}{s-3}$\n",
    "\n",
    "$∴X(s)=\\frac{1}{3}[\\frac{1}{s-3}-\\frac{s}{s^2+9}]-\\frac{1}{s^2+9}$\n",
    "\n",
    "$则X(s)的原函数x(t)=\\frac{1}{3}(e^{3t}-\\cos 3t-\\sin 3t),即为解$\n",
    "\n",
    "$（2）对方程两边进行拉普拉斯变换，得s^4X(s)-s^3-s^2-s-1+X(s)=\\frac{2}{s-1}$\n",
    "\n",
    "$∴X(s)=\\frac{1}{s-1}$\n",
    "\n",
    "$则X(s)的原函数x(t)=e^t,即为解$"
   ]
  },
  {
   "cell_type": "markdown",
   "metadata": {},
   "source": [
    "# <font color='red'>A  18/11"
   ]
  },
  {
   "cell_type": "code",
   "execution_count": null,
   "metadata": {
    "collapsed": true
   },
   "outputs": [],
   "source": []
  }
 ],
 "metadata": {
  "kernelspec": {
   "display_name": "SageMath 7.3",
   "language": "",
   "name": "sagemath"
  },
  "language_info": {
   "codemirror_mode": {
    "name": "ipython",
    "version": 2
   },
   "file_extension": ".py",
   "mimetype": "text/x-python",
   "name": "python",
   "nbconvert_exporter": "python",
   "pygments_lexer": "ipython2",
   "version": "2.7.10"
  }
 },
 "nbformat": 4,
 "nbformat_minor": 0
}
