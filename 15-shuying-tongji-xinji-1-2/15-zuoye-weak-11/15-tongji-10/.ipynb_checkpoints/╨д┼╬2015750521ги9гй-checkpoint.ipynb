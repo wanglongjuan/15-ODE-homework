{
 "cells": [
  {
   "cell_type": "markdown",
   "metadata": {},
   "source": [
    "# $$作业九$$"
   ]
  },
  {
   "cell_type": "markdown",
   "metadata": {},
   "source": [
    "## 2、求解下列常系数微分方程"
   ]
  },
  {
   "cell_type": "markdown",
   "metadata": {},
   "source": [
    "### $(12)x''+6x'+5x=e^{2t}$"
   ]
  },
  {
   "cell_type": "markdown",
   "metadata": {},
   "source": [
    " 解：特征方程为$$\\lambda ^2+6\\lambda+5=0$$\n",
    " 解得：$$\\lambda _1=-1,\\lambda_2=-5$$\n",
    " \n",
    " 故齐次线性方程的方程的通解为$$x=c_1e^{-t}+c_2e^{-5t}.$$\n",
    " \n",
    " 由于$\\lambda=2$不是特征方程的根，故方程有形如$x^{*}=Ae^t$的特解\n",
    " \n",
    " 代入原方程解得:$$A=\\frac {\\mathrm 1}{\\mathrm 21}.$$\n",
    "\n",
    "方程的通解为$$x=c_1e^{-t}+c_2e^{-5t}+\\frac {\\mathrm 1}{\\mathrm 21}e^{2t}$$\n",
    "\n",
    "其中$c_1,c_2$为任意常数"
   ]
  },
  {
   "cell_type": "markdown",
   "metadata": {},
   "source": [
    "### $(14)x''+x=\\sin t-\\cos {2t}$"
   ]
  },
  {
   "cell_type": "markdown",
   "metadata": {},
   "source": [
    "解：特征方程为$$\\lambda^2+1=0$$\n",
    "解得：$$\\lambda_1=i,\\lambda_2=-i$$\n",
    "\n",
    "故齐次线性方程的通解为$$x=c_1\\cos t+c_2\\sin t.$$\n",
    "\n",
    "对于方程$x''+x=\\sin t$,取特解形如$x^{*}=t(A\\cos t+B\\sin t)$\n",
    "\n",
    "代入原方程解得:\n",
    "\n",
    "$$A=-\\frac{\\mathrm 1}{\\mathrm 2},B=0$$\n",
    "\n",
    "故$$x^{*}=-\\frac {\\mathrm 1}{\\mathrm 2}t\\cos t.$$\n",
    "\n",
    "对于方程$x''+x=-\\cos 2t$,取特解形如$x^{*}=A\\cos 2t+B\\sin 2t$\n",
    "\n",
    "代入原方程解得:$$A=\\frac {\\mathrm 1}{\\mathrm 3},B=0$$,\n",
    "\n",
    "故原方程的通解为\n",
    "$$\n",
    "x=c_1\\cos t+c_2\\sin t-\\frac {\\mathrm 1}{\\mathrm 2}t\\cos t+\\frac {\\mathrm 1}{\\mathrm 3}\\cos 2t$$\n",
    "\n",
    "其中$c_1,c_2$为任意常数"
   ]
  },
  {
   "cell_type": "markdown",
   "metadata": {},
   "source": [
    "### $(16)x''+9x=t\\sin {3t}$"
   ]
  },
  {
   "cell_type": "markdown",
   "metadata": {},
   "source": [
    "解：特征方程为$$\\lambda ^2+9=0$$\n",
    "解得：$$\\lambda_1=3i,\\lambda_2=-3i.$$\n",
    "\n",
    "设特解:$$x^{*}=t[(At+B)\\cos 3t+(Et+F)\\sin 3t]$$\n",
    "\n",
    "代入方程得:$$A=-\\frac{\\mathrm 1}{\\mathrm 12},F=\\frac{\\mathrm 1}{\\mathrm 36},B=E=0$$\n",
    "\n",
    "通解:$$x^{*}=-\\frac {\\mathrm 1}{\\mathrm 12}t^2\\cos 3t+\\frac{\\mathrm 1}{\\mathrm 36}t\\sin 3t.$$\n",
    "\n",
    "方程的通解为$$x=c_1\\cos 3t+c_2\\sin 3t-\\frac{\\mathrm 1}{\\mathrm 12}t^2\\cos 3t+\\frac {\\mathrm 1}{\\mathrm 36}t\\sin 3t$$\n",
    "\n",
    "其中$c_1,c_2$是任意常数"
   ]
  },
  {
   "cell_type": "markdown",
   "metadata": {},
   "source": [
    "## 4、求下列初值问题的解."
   ]
  },
  {
   "cell_type": "markdown",
   "metadata": {},
   "source": [
    "### $(1)x''+9x=6e^{3t},x(0)=x'(0)=0$"
   ]
  },
  {
   "cell_type": "markdown",
   "metadata": {},
   "source": [
    "解：对方程两边施行拉普拉斯变换得:\n",
    "\n",
    "$$(s^2+9)X(s)=\\frac {\\mathrm 6}{\\mathrm s-3}$$\n",
    "\n",
    "解得：\n",
    "\n",
    "$$X(s)={\\frac{\\mathrm 1}{\\mathrm 3}}\\frac{\\mathrm 1}{\\mathrm s-3}-{\\frac{\\mathrm 1}{\\mathrm 3}}\\frac{ \\mathrm s}{\\mathrm s^2+9}-\\frac {\\mathrm 1}{\\mathrm s^2+9}$$\n",
    "\n",
    "查表拉普拉斯变换得:\n",
    "\n",
    "$$x(t)=\\frac {\\mathrm 1}{\\mathrm 3}(e^{3t}-\\cos 3t-\\sin t)$$\n",
    "\n",
    "此即为所求初值问题的解"
   ]
  },
  {
   "cell_type": "markdown",
   "metadata": {},
   "source": [
    "### $(2)x^{4}+x=2e^t,x(0)=x'(0)=x''(0)=x'''(0)=1$"
   ]
  },
  {
   "cell_type": "markdown",
   "metadata": {},
   "source": [
    "解：对方程两边施加拉普拉斯变换得:\n",
    "\n",
    "$$(s^4+1)X(s)=\\frac{\\mathrm 2}{\\mathrm s-1}+s^3+s^2+s+1$$\n",
    "\n",
    "解得：$$X(s)=\\frac{\\mathrm 1}{\\mathrm s-1}.$$\n",
    "\n",
    "查拉普拉斯变换表得:\n",
    "\n",
    "$$x(t)=e^t$$\n",
    "\n",
    "此即为所要求的解"
   ]
  },
  {
   "cell_type": "markdown",
   "metadata": {},
   "source": [
    "# <font color='red'>A  18/11"
   ]
  },
  {
   "cell_type": "code",
   "execution_count": null,
   "metadata": {
    "collapsed": true
   },
   "outputs": [],
   "source": []
  }
 ],
 "metadata": {
  "kernelspec": {
   "display_name": "Python 2",
   "language": "python",
   "name": "python2"
  },
  "language_info": {
   "codemirror_mode": {
    "name": "ipython",
    "version": 2
   },
   "file_extension": ".py",
   "mimetype": "text/x-python",
   "name": "python",
   "nbconvert_exporter": "python",
   "pygments_lexer": "ipython2",
   "version": "2.7.10"
  }
 },
 "nbformat": 4,
 "nbformat_minor": 0
}
