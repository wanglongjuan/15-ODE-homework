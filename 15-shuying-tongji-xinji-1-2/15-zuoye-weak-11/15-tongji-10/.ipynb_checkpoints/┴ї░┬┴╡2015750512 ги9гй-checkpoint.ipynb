{
 "cells": [
  {
   "cell_type": "markdown",
   "metadata": {},
   "source": [
    "###  第九次常微分作业 2015750512 刘奥恋 15统计学班 ##3"
   ]
  },
  {
   "cell_type": "markdown",
   "metadata": {},
   "source": [
    "$$(12)x''+6x'+3x=e^{-t}cost$$\n",
    "\n",
    "$解：题目特征根方程为{\\lambda}^2+6\\lambda+5=0，方程的根为\\lambda_1=-1\\quad\\lambda_2=-5：$\n",
    "\n",
    "$得到齐次线性微分方程的通解为：x=c_1e^{-t}+c_2e^{-5t}$\n",
    "\n",
    "$由于\\lambda=2不是方程的特征根，设方程有形为\\tilde{x}=Ae^{2t}的特解$\n",
    "\n",
    "$代入原方程可得A=\\frac{1}{21}$\n",
    "\n",
    "$得到方程的通解为 x=c_1e^{-t}+c_2e^{-5t}+\\frac{1}{21}e^{2t},其中c_2,c_1是常数$\n"
   ]
  },
  {
   "cell_type": "markdown",
   "metadata": {},
   "source": [
    "$$(14）x''+x=sint-\\cos 2t$$\n",
    "\n",
    "$解：方程对应特征方程为：{\\lambda}^2+1=0\\quad对应的特征根为\\lambda_1=i\\quad\\lambda_2=-i：$\n",
    "\n",
    "$可得齐次线性微分方程的通解为：x=c_1cost+c_2sint$\n",
    "\n",
    "$①对于方程x''+x=sint，取形如\\tilde{x}=t(Acost+Bsint)的特解$\n",
    "\n",
    "$代入原方程，由比较系数法可得：A=-\\frac{1}{2} B=0$\n",
    "\n",
    "$②对于方程x''+x=-cos2t，取形如\\tilde{x}=Acos2t+Bsin2t的特解：$\n",
    "\n",
    "$代入原方程，由比较系数法可得：A=\\frac{1}{3},B=0$\n",
    "\n",
    "$综上可知，方程的通解为x==c_1cost+c_2sint-\\frac{1}{2}tcost+\\frac{1}{3}cos2t$"
   ]
  },
  {
   "cell_type": "markdown",
   "metadata": {},
   "source": [
    "$$(16)x''+9x=tsins3t$$\n",
    "\n",
    "$解：方程对应的特征方程为{\\lambda}^2+9=0：\\quad有特征根\\lambda_1=3i\\quad\\lambda_2=-3i：$\n",
    "\n",
    "$所以方程的通解为：x=c_1cos3t+c_2sin3t$\n",
    "\n",
    "$设方程的一个特解为\\tilde{x}=t[(At+B)cos3t+(Et+F)sin3t]，代入方程$\n",
    "\n",
    "$由比较系数法可得：A=-\\frac{1}{12}\\quad F=\\frac{1}{36}\\quad B=E=0$\n",
    "\n",
    "$即方程的一个特解为：\\tilde{x}=-\\frac{1}{12}t^2cos3t+\\frac{1}{36}tsin3t$\n",
    "\n",
    "$方程的通解为：x=c_1cos3t+c_2sin3t-\\frac{1}{12}t^2cos3t+\\frac{1}{36}tsin3t$"
   ]
  },
  {
   "cell_type": "markdown",
   "metadata": {},
   "source": [
    "$$求下列方程的解（1）t^2x''+tx'-x=0$$\n",
    "\n",
    "$解：设x=t^k，代入方程得到关于k的方程k(k-1)+k-1=0$\n",
    "\n",
    "$因此可得k_1=1,k_2=-1，从而方程的通解为x=c_1t+c_2\\frac{1}{t}$"
   ]
  },
  {
   "cell_type": "markdown",
   "metadata": {},
   "source": [
    "$$(2)t^2x''-4tx'+6x=t$$\n",
    "\n",
    "$解：先求方程t^2x''-4yx'+6x=0的通解，设x=t^k，代入方程则得到关于k的方程k(k-1)-4k+6=0$\n",
    "\n",
    "$可得k_1=2\\quad k_2=3$\n",
    "\n",
    "$故方程的通解为x=c_1t^2+c_2t^3$\n",
    "\n",
    "$利用常数变易法，求已知方程形如x=c_1(t)t^2+c_2(t)t^3的一个特解，可得关于c_1'(t),c_2'(t)的方程组$\n",
    "\n",
    "$$\\left\\{\\begin{array}\\\\t^2c_1'(t)+t^3c_2'(t)=0\\\\2tc_1'(t)+3t^2c_2'(t)=\\frac{1}{t} \\end{array}\\right.\n",
    "$$\n",
    "\n",
    "$$解得\\left\\{\\begin{array}\\\\c_1'(t)=-\\frac{1}{t^2}\\\\c_2'(t)=\\frac{1}{t^3} \\end{array}\\right.\n",
    "$$\n",
    "\n",
    "$积分得c_1(t)=\\frac{1}{t}+c_1,c_2(t)=-\\frac{1}{2t^2}+c_2$\n",
    "\n",
    "$故方程的解为x=c_1t^2+c_2t^3+\\frac{1}{2}t$"
   ]
  },
  {
   "cell_type": "markdown",
   "metadata": {},
   "source": [
    "$$求解下列初值问题（1）x''+9x=5e^{3t}\\quad x(0)=x'(0)=0$$\n",
    "\n",
    "$解：对方程两边做laplace变换得(s^2+9)X(s)=\\frac{6}{s-3}$\n",
    "\n",
    "$由此得X(s)=\\frac{1}{3}[\\frac{1}{s-3}-\\frac{s}{s^2+9}]-\\frac{1}{s^2+9}$\n",
    "\n",
    "$查表可得，方程的解为：x(t)=\\frac{1}{3}e^{3t}-\\frac{1}{3cos3t}-\\frac{1}{3}sin3t$"
   ]
  },
  {
   "cell_type": "markdown",
   "metadata": {},
   "source": [
    "$$(2)x^{(4)}+x=2e^t\\quad x(0)=x'(0)=x''(0)=x'''(0)=0$$\n",
    "\n",
    "$解：对方程两边实行laplace变换，可得：s^4X(s)-s^3-s^2-s-1+X(s)=\\frac{2}{s-1}$\n",
    "\n",
    "$解得X(s)=\\frac{1}{s-1}$\n",
    "\n",
    "$查表可得方程的通解为：x(t)=e^t$"
   ]
  },
  {
   "cell_type": "markdown",
   "metadata": {},
   "source": [
    "# <font color='red'>A  18/11"
   ]
  },
  {
   "cell_type": "code",
   "execution_count": null,
   "metadata": {
    "collapsed": true
   },
   "outputs": [],
   "source": []
  }
 ],
 "metadata": {
  "kernelspec": {
   "display_name": "SageMath 7.3",
   "language": "",
   "name": "sagemath"
  },
  "language_info": {
   "codemirror_mode": {
    "name": "ipython",
    "version": 2
   },
   "file_extension": ".py",
   "mimetype": "text/x-python",
   "name": "python",
   "nbconvert_exporter": "python",
   "pygments_lexer": "ipython2",
   "version": "2.7.10"
  }
 },
 "nbformat": 4,
 "nbformat_minor": 0
}
