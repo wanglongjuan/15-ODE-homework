{
 "cells": [
  {
   "cell_type": "markdown",
   "metadata": {},
   "source": [
    "# 2\n",
    "\n",
    "## (12)\n",
    "\n",
    "**解：**\n",
    "\n",
    "对应齐次线性方程的特征方程为 $$ \\lambda^2+6\\lambda+5=0 $$ 它有根 $ \\lambda_1=-1,\\lambda_2=-5 $\n",
    "\n",
    "因为 $$ x=c_1e^{-t}+c_2e^{-5t} $$\n",
    "\n",
    "所以 $ \\lambda=2 $ 不是特征方程的根 \n",
    "\n",
    "则方程有形如 $ x=Ae^{2t} $ 的特解，代入原方程，解得 $ A=\\frac{1}{21} $ \n",
    "\n",
    "则方程的通解为 $$ x=c_1e^{-t}+c_2e^{-5t}+\\frac{1}{21}e^{2t} $$, $ c_1,c_2 $ 为任意常数\n",
    "\n",
    "## (14)\n",
    "\n",
    "**解：**\n",
    "\n",
    "对应齐次线性方程的特征方程为 $$ \\lambda^2+1=0 $$ 它有根 $ \\lambda_1=i,\\lambda_2=-i $\n",
    "\n",
    "则齐次线性方程的通解为 $$ x=c_1cost+c_2sint $$\n",
    "\n",
    "①对于方程 $ x''+x=sint $ ,取特解形如 $ x=t(Acost+Bsint) $ ,代入原方程，解得 $$ A=-\\frac{1}{2},B=0 $$\n",
    "\n",
    "则 $ x=-\\frac{1}{2}tcost $\n",
    "\n",
    "②对于方程 $ x''+x=-cos2t $ ,取特解形如 $ x=Acos2t+Bsin2t $ ,代入原方程，解得 $$ A=\\frac{1}{3},B=0 $$\n",
    "\n",
    "则 $ x=-\\frac{1}{3}cos2t $\n",
    "\n",
    "则方程的通解为 $$ x=c_1cost+c_2sint-\\frac{1}{2}tcost+\\frac{1}{3}cos2t $$, $ c_1,c_2 $ 为任意常数\n",
    "\n",
    "\n",
    "## (16)\n",
    "\n",
    "**解：**\n",
    "\n",
    "对应齐次线性方程的特征方程为 $$ \\lambda^2+9=0 $$ 它有根 $ \\lambda_1=3i,\\lambda_2=-3i $\n",
    "\n",
    "设方程的一个特解为 $ x=t[(At+B)cos3t+(Et+F)sin3t] $ ,代入原方程，解得 $$ A=-\\frac{1}{12},B=E=0,F=\\frac{1}{36} $$\n",
    "\n",
    "则方程的一个特解为 $ x=-\\frac{1}{12}t^2cos3t+\\frac{1}{36}tsin3t $\n",
    "\n",
    "则方程的通解为 $$ x=c_1cos3t+c_2sin3t-\\frac{1}{12}t^2cos3t+\\frac{1}{36}sin3t $$, $ c_1,c_2 $ 为任意常数\n",
    "\n",
    "\n",
    "# 4.\n",
    "\n",
    "## (1)\n",
    "\n",
    "**解：**\n",
    "\n",
    "对于方程两边施行拉普拉斯变换，得\n",
    "\n",
    "$$ (s^2+9)X(s)=\\frac{6}{s-3} $$\n",
    "\n",
    "由此，得 $$ X(s)=\\frac{1}{3}[\\frac{1}{s-3}-\\frac{s}{s^2+9}]-\\frac{1}{s^2+9} $$\n",
    "\n",
    "施行拉普拉斯反变换，查表得 $$ x(t)=\\frac{1}{3}e^{3t}-\\frac{1}{3}cos3t-\\frac{1}{3}sin3t $$\n",
    "\n",
    "即为所求初值问题的解\n",
    "\n",
    "\n",
    "## (2)\n",
    "\n",
    "**解：**\n",
    "\n",
    "对于方程两边施行拉普拉斯变换，得\n",
    "\n",
    "$$ s^4X(s)-s^3-s^2-s-1+X(s)=\\frac{2}{s-1} $$\n",
    "\n",
    "由此，得 $$ X(s)={1}{s-1} $$\n",
    "\n",
    "施行拉普拉斯反变换，查表得 $$ x(t)=e^2 $$\n",
    "\n",
    "即为所求初值问题的解"
   ]
  },
  {
   "cell_type": "markdown",
   "metadata": {
    "collapsed": true
   },
   "source": [
    "# <font color='red'>A  18/11"
   ]
  },
  {
   "cell_type": "code",
   "execution_count": null,
   "metadata": {
    "collapsed": true
   },
   "outputs": [],
   "source": []
  }
 ],
 "metadata": {
  "kernelspec": {
   "display_name": "SageMath 7.3",
   "language": "",
   "name": "sagemath"
  },
  "language_info": {
   "codemirror_mode": {
    "name": "ipython",
    "version": 2
   },
   "file_extension": ".py",
   "mimetype": "text/x-python",
   "name": "python",
   "nbconvert_exporter": "python",
   "pygments_lexer": "ipython2",
   "version": "2.7.10"
  }
 },
 "nbformat": 4,
 "nbformat_minor": 0
}
