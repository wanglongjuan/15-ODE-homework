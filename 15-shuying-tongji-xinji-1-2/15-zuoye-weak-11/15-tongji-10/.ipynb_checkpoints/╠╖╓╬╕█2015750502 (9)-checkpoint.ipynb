{
 "cells": [
  {
   "cell_type": "markdown",
   "metadata": {},
   "source": [
    "                                            常微分作业\n",
    "                                   姓名：谭治港     学号：2015750502   "
   ]
  },
  {
   "cell_type": "markdown",
   "metadata": {},
   "source": [
    "$P165T2$\n",
    "\n",
    "$(12)特征方程为λ^2+6λ+5=0,即有λ_1=-1,λ_2=-5,\\quad x=c_1e^{-t}+c_2e^{-5t}$\n",
    "\n",
    "$由于λ=2不是特征方程的根，故方程有形如x'=Ae^{2t}的特解，代入方程即得A=\\frac{1}{21}$\n",
    "\n",
    "$则方程的通解为x=c_1e^{-t}+c_2e^{-5t}+\\frac{1}{21}e^{2t}，\\quad c_1、c_2为任意常数$\n",
    "\n"
   ]
  },
  {
   "cell_type": "markdown",
   "metadata": {},
   "source": [
    "$(14)特征方程为λ^2+1=0，\\quad λ_1=i,λ_2=-i,\\quad 即有x=c_1cost+c_2sint$\n",
    "\n",
    "$对于方程x''+x=sint取特解x_1=t(Acost+Bsint),\\quad即得A=-\\frac{1}{2},B=0,从而x_1=-\\frac{1}{2}tcost$\n",
    "\n",
    "$对于x''+x=-cos2t,同样有x_2=\\frac{1}{3}cos2t$\n",
    "\n",
    "$则方程的通解为x=c_1cost+c_2sint-\\frac{1}{2}tcost+\\frac{1}{3}cos2t,\\quad c_1、c_2为任意常数 $"
   ]
  },
  {
   "cell_type": "markdown",
   "metadata": {},
   "source": [
    "$(16)特征方程为λ^2+9=0,即有λ_1=3i,λ_2=-3i，\\quad x'=t[(At+B)cos3t+(Et+F)sin3t]$\n",
    "\n",
    "$代入方程求解得x'=-\\frac{1}{12}t^2cos3t+\\frac{1}{36}tsin3t$\n",
    "\n",
    "$则方程的通解为x=c_1cos3t+c_2sin3t-\\frac{1}{12}t^2cos3t+\\frac{1}{36}tsin3t  \\quad c_1、c_2为任意常数$"
   ]
  },
  {
   "cell_type": "markdown",
   "metadata": {},
   "source": [
    "$T4(1)对两边施行拉普拉斯变换得(s^2+9)X(s)=\\frac{6}{s-3}，\\quad有X(t)=\\frac{1}{3}[\\frac{1}{s-3}-\\frac{s}{s^2+9}]-\\frac{1}{s^2+9}$\n",
    "\n",
    "$查表得解x(t)=\\frac{1}{3}e^{3t}-\\frac{1}{3}cos3t-\\frac{1}{3}sin3t$"
   ]
  },
  {
   "cell_type": "markdown",
   "metadata": {},
   "source": [
    "$(2)对两边施行拉普拉斯变换得s^4X(s)-s^3-s^2-s-1+X(s)=\\frac{2}{s-1}$\n",
    "\n",
    "$从而得X(s)=\\frac{1}{s-1}$\n",
    "\n",
    "$查表得x(t)=e^t$"
   ]
  },
  {
   "cell_type": "markdown",
   "metadata": {
    "collapsed": true
   },
   "source": [
    "# <font color='red'>A  18/11"
   ]
  },
  {
   "cell_type": "code",
   "execution_count": null,
   "metadata": {
    "collapsed": true
   },
   "outputs": [],
   "source": []
  }
 ],
 "metadata": {
  "kernelspec": {
   "display_name": "SageMath 7.3",
   "language": "",
   "name": "sagemath"
  },
  "language_info": {
   "codemirror_mode": {
    "name": "ipython",
    "version": 2
   },
   "file_extension": ".py",
   "mimetype": "text/x-python",
   "name": "python",
   "nbconvert_exporter": "python",
   "pygments_lexer": "ipython2",
   "version": "2.7.10"
  }
 },
 "nbformat": 4,
 "nbformat_minor": 0
}
