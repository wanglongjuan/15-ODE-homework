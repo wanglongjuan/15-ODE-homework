{
 "cells": [
  {
   "cell_type": "markdown",
   "metadata": {},
   "source": [
    "# 常微分方程作业（9）"
   ]
  },
  {
   "cell_type": "markdown",
   "metadata": {},
   "source": [
    "$\\bf P164.T2$\n",
    "\n",
    "求解下列常系数线性微分方程\n"
   ]
  },
  {
   "cell_type": "markdown",
   "metadata": {},
   "source": [
    "$\\bf (12)$\n",
    "\n",
    "$x\"+6x'+5x=e^{2t}$\n",
    "\n",
    "$\\bf解：$\n",
    "\n",
    "特征方程：\n",
    "$$ \\lambda^2+6\\lambda+5=0$$\n",
    "$\\lambda_1=-1,\\lambda_2=-5$\n",
    "$$齐次线性微分方程的通解为x=c_1e^{-t}+c_2e^{-5t}$$\n",
    "\n",
    "$ f(t)=e^{2t}$\n",
    "\n",
    "$\\lambda=2,k=0$\n",
    "$$方程有形如\\tilde{x}=Ae^{2t}的特解$$\n",
    "$带入原方程$\n",
    "$$A=\\frac{1}{21}$$\n",
    "$$方程的通解为x=c_1e^{-t}+c_2e^{-5t}+\\frac{1}{21}e^{2t}$$\n",
    "\n",
    "$(c_1,c_2为任意常数)$\n"
   ]
  },
  {
   "cell_type": "markdown",
   "metadata": {},
   "source": [
    "$\\bf(14)$\n",
    "\n",
    "$x\"+x=\\sin t-\\cos 2t$"
   ]
  },
  {
   "cell_type": "markdown",
   "metadata": {},
   "source": [
    "$\\bf解：$\n",
    "\n",
    "特征方程：\n",
    "$$\\lambda ^2+1=0$$\n",
    "$\\lambda=\\pm i$\n",
    "\n",
    "$x=c_1\\cos t+c_2\\sin t$\n",
    "\n",
    "$$对方程x\"+x=\\sin t$$\n",
    "\n",
    "$\\alpha =0,k=1,\\beta=1$\n",
    "\n",
    "$$有形如\\tilde{x}=t(A\\cos t+B\\sin t)的特解$$\n",
    "\n",
    "$带入原方程$\n",
    "\n",
    "$A=-\\frac{1}{2},B=0$\n",
    "\n",
    "$$\\tilde{x}=-\\frac{1}{2}t\\cos t$$\n",
    "\n",
    "$$对方程x\"+x=-\\cos 2t$$\n",
    "\n",
    "$\\alpha =0,k=0,\\beta=1$\n",
    "\n",
    "$$有形如\\tilde{x}=A\\cos 2t+B\\sin 2t的特解$$\n",
    "\n",
    "$带入原方程$\n",
    "\n",
    "$A=\\frac{1}{3},B=0$\n",
    "\n",
    "$$\\tilde{x}=\\frac{1}{3}\\cos 2t$$\n",
    "\n",
    "$\\therefore 原方程的通解为$\n",
    "\n",
    "$$x=c_1\\cos t+c_2\\sin t-\\frac{1}{2}t\\cos t+\\frac{1}{3}\\cos 2t$$\n",
    "\n",
    "$(c_1,c_2为任意常数)$\n",
    "\n",
    "\n"
   ]
  },
  {
   "cell_type": "markdown",
   "metadata": {},
   "source": [
    "$\\bf (16)$\n",
    "\n",
    "$x\"+9x=t\\sin 3t$"
   ]
  },
  {
   "cell_type": "markdown",
   "metadata": {},
   "source": [
    "$\\bf解：$\n",
    "\n",
    "特征方程：\n",
    "$$\\lambda^2+9=0$$\n",
    "\n",
    "$\\lambda_1=3i,\\lambda_2=-3i$\n",
    "\n",
    "$f(t)=t\\sin 3t$\n",
    "\n",
    "$k=1,\\beta=2$\n",
    "\n",
    "$$方程有形如\\tilde{x}=t[(At+B)\\cos 3t+(Et+F)\\sin 3t]的特解$$\n",
    "\n",
    "$带入原方程$\n",
    "\n",
    "$A=-\\frac{1}{12},F=\\frac{1}{36},B=E=0$\n",
    "\n",
    "$$特解为\\tilde{x}=-\\frac{1}{12}t^2\\cos 3t+\\frac{1}{36}t\\sin 3t$$\n",
    "\n",
    "$$方程通解为x=c_1\\cos 3t+c_2\\sin 3t--\\frac{1}{12}t^2\\cos 3t+\\frac{1}{36}t\\sin 3t$$\n",
    "\n",
    "$(c_1,c_2为任意常数)$"
   ]
  },
  {
   "cell_type": "markdown",
   "metadata": {},
   "source": [
    "$\\bf P165.T4$\n",
    "\n",
    "求下列初值问题的解"
   ]
  },
  {
   "cell_type": "markdown",
   "metadata": {},
   "source": [
    "(1)\n",
    "\n",
    "$x\"+9x=6e^{3t},x(0)=x'(0)=0$\n",
    "\n",
    "$\\bf解：$\n",
    "\n",
    "$$s^2X(s)-sx_0-x_0'+9X(s)=\\frac{6}{s-3}$$\n",
    "\n",
    "$(s^2+9)X(s)=\\frac{6}{s-3}$\n",
    "\n",
    "$$X(s)=\\frac{1}{3}[\\frac{1}{s-3}-\\frac{s}{s^2+9}]-\\frac{1}{s^2+9}$$\n",
    "\n",
    "$查表得$\n",
    "\n",
    "$x(t)=\\frac{1}{3}e^{3t}-\\frac{1}{3}\\cos 3t-\\frac{1}{3}\\sin 3t$"
   ]
  },
  {
   "cell_type": "markdown",
   "metadata": {},
   "source": [
    "(2)\n",
    "\n",
    "$x^{(4)}+x=2e^t,x(0)=x'(0)=x\"(0)=x\"'(0)=1$\n",
    "\n",
    "$\\bf解：$\n",
    "\n",
    "$$s^4X(s)-s^3-s^2-s-1+X(s)=\\frac{2}{s-1}$$\n",
    "\n",
    "$X(s)=\\frac{\\frac{2}{s-1}+s^3+s^2+s+1}{s^4+1}=\\frac{1}{s-1}$\n",
    "\n",
    "$查表得$\n",
    "\n",
    "$x(t)=e^t$"
   ]
  },
  {
   "cell_type": "markdown",
   "metadata": {},
   "source": [
    "# <font color='red'>A  18/11"
   ]
  },
  {
   "cell_type": "code",
   "execution_count": null,
   "metadata": {
    "collapsed": true
   },
   "outputs": [],
   "source": []
  }
 ],
 "metadata": {
  "kernelspec": {
   "display_name": "SageMath 7.3",
   "language": "",
   "name": "sagemath"
  },
  "language_info": {
   "codemirror_mode": {
    "name": "ipython",
    "version": 2
   },
   "file_extension": ".py",
   "mimetype": "text/x-python",
   "name": "python",
   "nbconvert_exporter": "python",
   "pygments_lexer": "ipython2",
   "version": "2.7.10"
  }
 },
 "nbformat": 4,
 "nbformat_minor": 0
}
