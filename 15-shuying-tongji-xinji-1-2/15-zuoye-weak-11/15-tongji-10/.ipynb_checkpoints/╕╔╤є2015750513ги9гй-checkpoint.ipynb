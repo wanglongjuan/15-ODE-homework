{
 "cells": [
  {
   "cell_type": "markdown",
   "metadata": {},
   "source": [
    "## 常微分第九次作业\n",
    "## 干洋 2015750513\n",
    "## 第165页第2题：\n",
    "## 求解下列常系数线性微分方程：\n",
    "## (12)$ x^{\\prime \\prime}+6x^{\\prime}+5x=e^{2t} $\n",
    "## (14)$ x^{\\prime \\prime}-2x^{\\prime}+3x=e^{-t}\\cos t $\n",
    "## (16)$ x^{\\prime \\prime}+9x=t\\sin 3t $\n",
    "## 解：(12)先求$x^{\\prime \\prime}+6x^{\\prime}+5x=0$的通解,由特征方程$\\lambda^2+6\\lambda+5=0$,得$\\lambda_1=-1,\\lambda_2=-5$,所以通解为$x=c_1e^{-t}+c_2e^{-5t},c_1,c_2$为任意常数, $ f(t)=e^{2t},\\lambda=2$,不是特征根 .\n",
    "## 取特解形如$x=Ae^{2t} $\n",
    "## 将$x=Ae^{2t}$代入原方程，得$ 21Ae^{2t}=e^{2t}$,所以$A=\\frac{1}{21} $\n",
    "## 所以原方程通解为$x=c_1e^{-t}+c_2e^{-5t}+\\frac{1}{21}e^{2t} $\n",
    "## （14）特征方程$\\lambda^2-2\\lambda+3=0,\\lambda_1=1-\\sqrt2 i,\\lambda_2=1+\\sqrt2 i $\n",
    "## 所以通解为$x=c_1e^t\\cos \\sqrt2 t+c_2e^t\\sin \\sqrt2 t $\n",
    "## 因为$\\lambda=-1$不是特征根\n",
    "## 所以$x=(A\\cos t+B\\sin t)e^{-t} $代入得$A=\\frac{5}{41},B=-\\frac{4}{41} $\n",
    "## 所以通解为$x=(c_1\\cos \\sqrt2 t+c_2\\sin \\sqrt2 t)e^t+(\\frac{5}{41}\\cos t-\\frac{4}{41}\\sin t)e^{-t} $\n",
    "## （16）特征方程$\\lambda^2+9=0$,得$\\lambda=±3i $.设特解为$x=t[(at+c)\\cos 3t+(bt+d)\\sin 3t]$,代入得$ 2a+6d=0,12b=0,2b-6c=0,-12a=1 $,所以$b=c=0,a=-\\frac{1}{12},d=\\frac{1}{36} $\n",
    "## 所以解为$x=c_1\\cos 3t+c_2\\sin 3t-\\frac{1}{12}t^2\\cos 3t+\\frac{1}{36}t\\sin 3t $"
   ]
  },
  {
   "cell_type": "markdown",
   "metadata": {},
   "source": [
    "## 第165页第4题：\n",
    "## 求下列初值问题的解：\n",
    "## （1）$ x^{\\prime \\prime}+9x=6e^{3t},x(0)=x^{\\prime}(0)=0 $\n",
    "## （2）$ x^{(4)}+x=2e^t,x(0)=x^{\\prime}(0)=x^{\\prime \\prime}=x^{\\prime \\prime \\prime}(0)=1 $\n",
    "## 解：（1）特征方程为$\\lambda^2+9=0$,特征根$\\lambda=±3i $.设特解为$x=ce^{3t}$,代入得$c=\\frac{1}{3} $.\n",
    "## 所以通解为$x=c_1\\cos 3t+c_2\\sin 3t+\\frac{1}{3}e^{3t} $.代入初值条件有$c_1=-\\frac{1}{3},c_2=-\\frac{1}{3} $\n",
    "## 所以初值问题的解为$x=\\frac{1}{3}(e^{3t}-\\cos 3t-\\sin 3t) $"
   ]
  },
  {
   "cell_type": "markdown",
   "metadata": {
    "collapsed": true
   },
   "source": [
    "# <font color='red'>A  18/11"
   ]
  },
  {
   "cell_type": "code",
   "execution_count": null,
   "metadata": {
    "collapsed": true
   },
   "outputs": [],
   "source": []
  }
 ],
 "metadata": {
  "kernelspec": {
   "display_name": "SageMath 7.3",
   "language": "",
   "name": "sagemath"
  },
  "language_info": {
   "codemirror_mode": {
    "name": "ipython",
    "version": 2
   },
   "file_extension": ".py",
   "mimetype": "text/x-python",
   "name": "python",
   "nbconvert_exporter": "python",
   "pygments_lexer": "ipython2",
   "version": "2.7.10"
  }
 },
 "nbformat": 4,
 "nbformat_minor": 0
}
