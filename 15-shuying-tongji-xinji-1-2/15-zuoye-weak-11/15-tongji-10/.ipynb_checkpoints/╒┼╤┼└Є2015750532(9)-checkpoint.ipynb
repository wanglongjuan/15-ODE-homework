{
 "cells": [
  {
   "cell_type": "markdown",
   "metadata": {},
   "source": [
    "$P164页2、求解下列常系数线性微分方程。$\n",
    "\n",
    "$(12)x''+6x'+5x=e^{2t}$\n",
    "\n",
    "$(14)x''+x=\\sin t-\\cos 2t$\n",
    "\n",
    "$(16)x''+9x=t\\sin 3t$\n",
    "\n",
    "$(12)解:先求齐次线性方程x''+6x'+5x=0的解$\n",
    "\n",
    "$特征方程为λ^2+6λ+5=0,求得根λ_1=-1,λ_2=-5$\n",
    "\n",
    "$所以齐次线性方程的通解为x=c_1e^{-t}+c_2e{-5t}$\n",
    "\n",
    "$由于λ=2不是特征方程的根,故方程有形如x_1=Ae^{2t}的特解，代入原方程可得A=\\frac{1}{21}$\n",
    "\n",
    "$于是方程的通解为x=c_1e^{-t}+c_2e^{-5t}+\\frac{1}{21}e^{2t},其中c_1,c_2为任意常数.$\n",
    "\n",
    "$(14)解:先求齐次线性方程x''+x=0的解$\n",
    "\n",
    "$特征方程为λ^2+1=0,求得根λ_1=i,λ_2=-i$\n",
    "\n",
    "$所以齐次线性方程的通解为x=c_1\\cos t+c_2\\sin t$\n",
    "\n",
    "$a、对于方程x''+x=\\sin t,有特解形如x_1=t(A\\cos t+B\\sin t),代入原方程解得,A=-\\frac{1}{2},B=0,故x_1=-\\frac{1}{2}t\\cos t$\n",
    "\n",
    "$b、对于方程x''+x=-\\cos 2t,有特解形如x_2=A\\cos 2t+B\\sin 2t,代入原方程解得,A=\\frac{1}{3},B=0,故x_2=\\frac{1}{3}\\cos 2t$\n",
    "\n",
    "$故原方程的通解为x=c_1\\cos t+c_2\\sin t-\\frac{1}{2}t\\cos t+\\frac{1}{3}\\cos 2t,其中c_1,c_2为任意常数.$\n",
    "\n",
    "$(16)解:先求齐次线性方程x''+9x=0的解$\n",
    "\n",
    "$特征方程为λ^2+9=0,求得根λ_1=3i,λ_2=-3i$\n",
    "\n",
    "$所以齐次线性方程的通解为x=c_1\\cos 3t+c_2\\sin 3t$\n",
    "\n",
    "$设方程有形如x_1=t[(At+B)\\cos 3t+(Et+F)\\sin 3t]的特解，代入原方程可得A=-\\frac{1}{12},F=\\frac{1}{36},B=E=0$\n",
    "\n",
    "$于是方程的通解为x=c_1\\cos 3t+c_2\\sin 3t-\\frac{1}{12}t^2\\cos 3t+\\frac{1}{36}t\\sin 3t,其中c_1,c_2为任意常数.$"
   ]
  },
  {
   "cell_type": "markdown",
   "metadata": {},
   "source": [
    "$4、求下组初值问题的解。$\n",
    "\n",
    "$(1)x''+9x=6e^{3t},x(0)=x'(0)=0$\n",
    "\n",
    "$(2)x^{(4)}+x=2e^{t},x(0)=x'(0)=x''(0)=x'''(0)=0$\n",
    "\n",
    "$(1)解:对方程两边进行拉普拉斯变换，得(s^2+9)X(s)=\\frac{6}{s-3}$\n",
    "\n",
    "$解得X(s)=\\frac{1}{3}[\\frac{1}{s-3}-\\frac{s}{s^2+9}]-\\frac{1}{s^2+9}$\n",
    "\n",
    "$查找拉普拉斯变换表，初值问题的解为x(t)=\\frac{1}{3}e^{3t}-\\frac{1}{3}\\cos 3t-\\frac{1}{3}\\sin 3t$\n",
    "\n",
    "$(2)解:对方程两边进行拉普拉斯变换，得s^4X(s)-s^3-s^2-s-1+X(s)=\\frac{2}{s-1}$\n",
    "\n",
    "$解得X(s)=\\frac{1}{s-1}$\n",
    "\n",
    "$查找拉普拉斯变换表，初值问题的解为x(t)=e^{t}$"
   ]
  },
  {
   "cell_type": "markdown",
   "metadata": {},
   "source": [
    "# <font color='red'>A  18/11"
   ]
  },
  {
   "cell_type": "code",
   "execution_count": null,
   "metadata": {
    "collapsed": true
   },
   "outputs": [],
   "source": []
  }
 ],
 "metadata": {
  "kernelspec": {
   "display_name": "SageMath 7.3",
   "language": "",
   "name": "sagemath"
  },
  "language_info": {
   "codemirror_mode": {
    "name": "ipython",
    "version": 2
   },
   "file_extension": ".py",
   "mimetype": "text/x-python",
   "name": "python",
   "nbconvert_exporter": "python",
   "pygments_lexer": "ipython2",
   "version": "2.7.10"
  }
 },
 "nbformat": 4,
 "nbformat_minor": 0
}
