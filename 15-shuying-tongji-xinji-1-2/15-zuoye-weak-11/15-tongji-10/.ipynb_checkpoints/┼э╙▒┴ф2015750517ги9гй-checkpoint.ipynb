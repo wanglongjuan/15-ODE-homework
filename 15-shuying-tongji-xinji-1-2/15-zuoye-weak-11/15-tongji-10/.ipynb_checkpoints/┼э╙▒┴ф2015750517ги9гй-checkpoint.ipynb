{
 "cells": [
  {
   "cell_type": "markdown",
   "metadata": {},
   "source": [
    "2.求解下列常系数线性微分方程：  \n",
    "（12）$x''+6x'+5x=e^{2t}$;  \n",
    "（14）$x''+x=\\sin t-\\cos 2t$;  \n",
    "（16）$x''+9x=t\\sin 3t$."
   ]
  },
  {
   "cell_type": "markdown",
   "metadata": {},
   "source": [
    "解：  \n",
    "（12）对应齐次方程的特征方程为  \n",
    "$\\lambda^2+6\\lambda+5=0$,  \n",
    "即得特征根为$\\lambda_1=-1,\\lambda_2=-5$,  \n",
    "令方程的一个特解为  \n",
    "$X=Ae^{2t}$,代入方程则得到  \n",
    "$A=\\frac{1}{21}$,  \n",
    "即特解为$X=\\frac1{21}e^{2t}$,  \n",
    "于是方程的通解为  \n",
    "$x=c_1e^{-t}+c_2e^{-5t}+\\frac1{21}e^{2t}$.  \n",
    "（14）对应的齐次方程的特征方程为  \n",
    "$\\lambda^2+1=0$,  \n",
    "即特征根为  \n",
    "$\\lambda_1=i,\\lambda_2=-i$.  \n",
    "①对于方程$x''+x=\\sin t$，可以设其特解为  \n",
    "$X=t(A\\sin t+B\\cos t)$,代入方程则得到  \n",
    "$A=0,B=-\\frac12$,\n",
    "即方程$x''+x=\\sin t$的一个特解为$X=-\\frac12t\\cos t$.  \n",
    "②对于方程$x''+x=-\\cos 2t$,可以设其特解为$X=A\\cos 2t+B\\sin 2t$,代入方程，则得到  \n",
    "$A=\\frac13,B=0$,  \n",
    "即方程$x''+x=-\\cos2t$的一个特解为$X=\\frac13\\cos 2t$。  \n",
    "于是原方程的通解为  \n",
    "$x=c_1\\cos t+c_2\\sin t-\\frac12t\\cos t+\\frac13cos2t$。  \n",
    "（16）对应线性齐次方程的特征方程为  \n",
    "$\\lambda^2+9=0$,  \n",
    "即得到的特征根为  \n",
    "$\\lambda_1=3i,\\lambda_2=-3i$.  \n",
    "设方程的一个特解为$X=t[(At+B)\\cos3t+(Et+F)\\sin 3t]$，代入方程，得到  \n",
    "$A=-\\frac1{12},F=\\frac1{36},B=E=0，$  \n",
    "即方程的一个特解为$X=-\\frac1{12}t^2\\cos 3t+\\frac1{36}t\\sin3t$,  \n",
    "于是方程的通解为  \n",
    "$x=c_1\\cos 3t+c_2\\sin 3t-\\frac1{12}t^2\\cos 3t+\\frac1{36}t\\sin3t$.  \n",
    "这里$c_1,c_2$是任意常数。"
   ]
  },
  {
   "cell_type": "markdown",
   "metadata": {
    "collapsed": true
   },
   "source": [
    "4.求下组初值问题的解：  \n",
    "（1）$x''+9x=6e^{3t},x(0)=x'(0)=0$;  \n",
    "（2）$x^{(4)}+x=2e^t,x(0)=x'(0)=x''(0)=x'''(0)=1$."
   ]
  },
  {
   "cell_type": "markdown",
   "metadata": {},
   "source": [
    "解：  \n",
    "（1）  \n",
    "对方程两边施行拉普拉斯变换得：  \n",
    "$(s^2+9)X(s)=\\frac6{s-3}$,  \n",
    "由此得  \n",
    "$X(s)=\\frac13[\\frac1{s-3}-\\frac s{s^2+9}]-\\frac1{s^2+9}$  \n",
    "对上式右端各项分别求出（查表）其原函数，则它们的和就是X(s)的原函数  \n",
    "$x(t)=\\frac13(e^{3t}-\\cos3t-\\sin3t)$,  \n",
    "上式即所要求的解。  \n",
    "（2）  \n",
    "对方程两边施行拉普拉斯变换得  \n",
    "$s^4X(s)-s^3-s^2-s-1+X(s)=\\frac2{s-1}$,  \n",
    "由此得  \n",
    "$X(s)=\\frac1{s-1}$.  \n",
    "对上式右端查表求出其原函数，则X(s)的原函数为  \n",
    "$x(t)=e^t$."
   ]
  },
  {
   "cell_type": "markdown",
   "metadata": {
    "collapsed": true
   },
   "source": [
    "# <font color='red'>A  18/11"
   ]
  },
  {
   "cell_type": "code",
   "execution_count": null,
   "metadata": {
    "collapsed": true
   },
   "outputs": [],
   "source": []
  }
 ],
 "metadata": {
  "kernelspec": {
   "display_name": "SageMath 7.3",
   "language": "",
   "name": "sagemath"
  },
  "language_info": {
   "codemirror_mode": {
    "name": "ipython",
    "version": 2
   },
   "file_extension": ".py",
   "mimetype": "text/x-python",
   "name": "python",
   "nbconvert_exporter": "python",
   "pygments_lexer": "ipython2",
   "version": "2.7.10"
  }
 },
 "nbformat": 4,
 "nbformat_minor": 0
}
