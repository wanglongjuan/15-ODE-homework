{
 "cells": [
  {
   "cell_type": "markdown",
   "metadata": {},
   "source": [
    "$\\bf1.求下列常系数线性微分方程：$\n",
    "\n",
    "$\\bf(12)x\"+6x'+5x=e^2t$\n",
    "\n",
    "解：特征方程为$$\\lambda^2+6\\lambda+5=0$$\n",
    "\n",
    "$d得特征根为\\lambda_1=-1，\\lambda_2=-5$\n",
    "\n",
    "$令\\breve{x}=Ae^2t位方程的一个特解,代入方程得A=\\frac{1}{21}$\n",
    "\n",
    "所以方程的通解为:$$x=c_1e^{-t}+c_2e^{-5t}+\\frac{1}{21}e^2t$$\n",
    "\n",
    "$\\bf(14)x\"+x=sint-cos2t$\n",
    "\n",
    "$解：特征方程为\\lambda^2+1=0\\\\得\\lambda_1=i,\\lambda_2=-i$\n",
    "\n",
    "对于方程x\"+x=sint,设其特征解为\\breve{x}=t(Asint+Bcost),代入方程得$$A=0,B=-\\frac{1}{2}$$\n",
    "\n",
    "$所以方程x\"+x=sint的一个特解为\\breve{x}=-\\frac{1}{2}tcost.$\n",
    "\n",
    "对于方程x\"+x=-cos2t,设其特解为\\breve{x}=Acos2t+Bsin2t,代入方程得：$$A=\\frac{1}{3},B=0$$\n",
    "\n",
    "$所以方程x\"+x=-cos2t的一个特解为\\breve{x}=\\frac{1}{3}cos2t$\n",
    "\n",
    "所以原方程得通解为：$$x=c_1cost+c_2sint-\\frac{1}{2}tcost+\\frac{1}{3}cos2t$$\n",
    "\n",
    "$\\bf(16)x\"+9x=tsin3t$\n",
    "\n",
    "$解：特征方程为\\lambda^2+9=0$\n",
    "\n",
    "$特征根为\\lambda_1=3i,\\lambda_2=-3i.$\n",
    "\n",
    "设方程的一各特解为\\breve{x}=t[(At+B)cos3t+(Et+F)sin3t],代入方程得：$$A=-\\frac{1}{12},F=\\frac{1}{36},B=E=0,$$\n",
    "\n",
    "$所以方程的一个特解为：\\breve{x}=-\\frac{1}{12}t^2cos3t+\\frac{1}{36}tsint3t,$\n",
    "\n",
    "所以方程得通解为$$x=c_1cos3t+c_2sin3t-\\frac{1}{12}t^2cos3t+\\frac{1}{36}tsin3t.$$\n",
    "\n",
    "\n"
   ]
  },
  {
   "cell_type": "markdown",
   "metadata": {
    "collapsed": true
   },
   "source": [
    "$\\bf4.求下组初值问题的解.$\n",
    "\n",
    "$\\bf(1)x\"+9x=6e^3t,x(0)=x'(0)=0;$\n",
    "\n",
    "解：对方程两边同时进行拉普拉斯变化得：$$(s^2+9)X(x)=\\frac{6}{s-3}$$\n",
    "\n",
    "得：$$X(x)=\\frac{1}{3}[\\frac{1}{s-3}-\\frac{s}{s^2+9}]-\\frac{1}{s^3+9}$$\n",
    "\n",
    "$查拉普拉斯变化表得\\frac{1}{s-3},\\frac{1}{s^2+9},\\frac{1}{s^3+9}的原函数为e^3t,cos3t,sin3t.$\n",
    "\n",
    "$从而x(t)=\\frac{1}{3}(e^3t-cos3t-sin3t).\\\\这就是所要求的解.$\n",
    "\n",
    "$\\bf(2)x^{(4)}+x=2e^t,x(0)=x'(0)=x\"(0)=1.$\n",
    "\n",
    "解：对方程两边同时拉普拉斯变化得：$$sX^4(s)-s^3-s^2-s-1+X(s)=\\frac{2}{s-1}$$\n",
    "\n",
    "得：$$X(s)=\\frac{1}{s-1}$$\n",
    "\n",
    "$查拉普拉斯变化表得\\frac{1}{s-1}$\n",
    "\n",
    "$从而x(t)=e^t\\\\这就是所要求的解.$\n",
    "\n"
   ]
  },
  {
   "cell_type": "markdown",
   "metadata": {},
   "source": [
    "# <font color='red'>A  18/11"
   ]
  },
  {
   "cell_type": "code",
   "execution_count": null,
   "metadata": {
    "collapsed": true
   },
   "outputs": [],
   "source": []
  }
 ],
 "metadata": {
  "kernelspec": {
   "display_name": "SageMath 7.3",
   "language": "",
   "name": "sagemath"
  },
  "language_info": {
   "codemirror_mode": {
    "name": "ipython",
    "version": 2
   },
   "file_extension": ".py",
   "mimetype": "text/x-python",
   "name": "python",
   "nbconvert_exporter": "python",
   "pygments_lexer": "ipython2",
   "version": "2.7.10"
  }
 },
 "nbformat": 4,
 "nbformat_minor": 0
}
