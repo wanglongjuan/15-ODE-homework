{
 "cells": [
  {
   "cell_type": "markdown",
   "metadata": {},
   "source": [
    "# 常微分方程第九次\n",
    "             2015750515 李戴叶子\n",
    "## 2.求解下列常系数线性微分方程。\n",
    "(1) $ x^{\\prime \\prime}+6x^{\\prime}+5x=e^{2t} $<br>\n",
    "** 解：**<br>\n",
    "$ 先求x^{\\prime \\prime}+6x^{\\prime}+5x=0的通解 $<br>\n",
    "$ 由特征方程\\lambda^2+6\\lambda+5=0,得\\lambda_1=-1,\\lambda_2=-5 $<br>\n",
    "$ 所以通解为x=c_1e^{-t}+c_2e^{-5t},c_1,c_2为任意常数 $<br>\n",
    "$ f(t)=e^{2t},\\lambda=2,不是特征根 $<br>\n",
    "$ 取特解形如x=Ae^{2t} $<br>\n",
    "$ 将x=Ae^{2t}代入原方程，得 $<br>\n",
    "$ 21Ae^{2t}=e^{2t},所以A=\\frac{1}{21} $<br>\n",
    "$ 所以原方程通解为x=c_1e^{-t}+c_2e^{-5t}+\\frac{1}{21}e^{2t} $<br>\n",
    "(2) $ x^{\\prime \\prime}-2x^{\\prime}+3x=e^{-t}\\cos t $<br>\n",
    "** 解：**<br>\n",
    "$ 特征方程\\lambda^2-2\\lambda+3=0,\\lambda_1=1-\\sqrt2 i,\\lambda_2=1+\\sqrt2 i $<br>\n",
    "$ 所以通解为x=c_1e^t\\cos \\sqrt2 t+c_2e^t\\sin \\sqrt2 t $<br>\n",
    "$ 因为\\lambda=-1不是特征根 $<br>\n",
    "$ 所以x=(A\\cos t+B\\sin t)e^{-t} $<br>\n",
    "$ 代入得A=\\frac{5}{41},B=-\\frac{4}{41} $<br>\n",
    "$ 所以通解为x=(c_1\\cos \\sqrt2 t+c_2\\sin \\sqrt2 t)e^t+(\\frac{5}{41}\\cos t-\\frac{4}{41}\\sin t)e^{-t} $<br>\n",
    "(16)$ x^{\\prime \\prime}+9x=t\\sin 3t $<br>\n",
    "** 解：**<br>\n",
    "$ 特征方程\\lambda^2+9=0,得\\lambda=±3i $<br>\n",
    "$ 设特解为x=t[(at+c)\\cos 3t+(bt+d)\\sin 3t],代入得 $<br>\n",
    "$ 2a+6d=0,12b=0,2b-6c=0,-12a=1 $<br>\n",
    "$ 所以b=c=0,a=-\\frac{1}{12},d=\\frac{1}{36} $<br>\n",
    "$ 所以解为x=c_1\\cos 3t+c_2\\sin 3t-\\frac{1}{12}t^2\\cos 3t+\\frac{1}{36}t\\sin 3t $\n",
    "## 4.求下列初值问题的解 \n",
    "(1)$ x^{\\prime \\prime}+9x=6e^{3t},x(0)=x^{\\prime}(0)=0 $<br>\n",
    "** 解：**<br>\n",
    "$ 特征方程为\\lambda^2+9=0,特征根\\lambda=±3i $<br>\n",
    "$ 设特解为x=ce^{3t},代入得c=\\frac{1}{3} $<br>\n",
    "$ 所以通解为x=c_1\\cos 3t+c_2\\sin 3t+\\frac{1}{3}e^{3t} $<br>\n",
    "$ 代入初值条件有c_1=-\\frac{1}{3},c_2=-\\frac{1}{3} $<br>\n",
    "$ 所以初值问题的解为x=\\frac{1}{3}(e^{3t}-\\cos 3t-\\sin 3t) $<br>\n",
    "(2)$ x^{(4)}+x=2e^t,x(0)=x^{\\prime}(0)=x^{\\prime \\prime}=x^{\\prime \\prime \\prime}(0)=1 $<br>\n",
    "** 解：**<br>\n",
    "$ 利用拉普拉斯变换法，有s^4X-s^3-s^2-s-1+X=\\frac{2}{s-1},即X=\\frac{1}{s-1} $<br>\n",
    "$ 施行拉普拉斯反变换，查表得解x=e^t $"
   ]
  },
  {
   "cell_type": "markdown",
   "metadata": {
    "collapsed": true
   },
   "source": [
    "# <font color='red'>A  18/11"
   ]
  },
  {
   "cell_type": "code",
   "execution_count": null,
   "metadata": {
    "collapsed": true
   },
   "outputs": [],
   "source": []
  }
 ],
 "metadata": {
  "kernelspec": {
   "display_name": "SageMath 7.3",
   "language": "",
   "name": "sagemath"
  },
  "language_info": {
   "codemirror_mode": {
    "name": "ipython",
    "version": 2
   },
   "file_extension": ".py",
   "mimetype": "text/x-python",
   "name": "python",
   "nbconvert_exporter": "python",
   "pygments_lexer": "ipython2",
   "version": "2.7.10"
  }
 },
 "nbformat": 4,
 "nbformat_minor": 0
}
