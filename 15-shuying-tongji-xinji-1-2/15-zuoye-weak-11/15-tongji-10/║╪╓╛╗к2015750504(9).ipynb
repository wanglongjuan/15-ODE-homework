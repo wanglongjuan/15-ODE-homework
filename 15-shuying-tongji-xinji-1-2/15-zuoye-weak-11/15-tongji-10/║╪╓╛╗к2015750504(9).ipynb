{
 "cells": [
  {
   "cell_type": "markdown",
   "metadata": {},
   "source": [
    "（12） 解：对应齐次方程的特征方程为\\lambda^2+6\\lambda+5=0,它有根\\lambda_1=-1,\\lambda_2=-5.故其次线性方程的通解为x=c_1e^（-t）+c_2e^(-5t).所以\\lambda=2不是特征方程的根，故方程有形如x=Ae^2t的特解，代入原方程解得A=1/21.于是方程的通解为x=c_1e^-t+c_2e^-5t+(1/21)e^2t,其中c_1,c_2是任意的常数。\n",
    "\n"
   ]
  },
  {
   "cell_type": "markdown",
   "metadata": {},
   "source": [
    "（14）解：对应齐次方程的特征方程为\\lambda^2+1=0,即特征根为\\lambda_1=i,\\lambda_2=-i,故其次线性方程的通解为x=c_1cost+c_2sint.当x''+x=sint时候，令特解形如x=t(Acost+Bsint),代入原方程解得A=-1/2，B=0，所以x=(-1/2)tcost.\n",
    "当x''+x=-cos2t时候，令特解为x=Acos2t+Bsin2t,代入原方程解得A=1/3，B=0，所以x=(1/3)cos2t.故原方程的通解x=c_1cost+c_2sint-(1/2)tsint+(1/3)cos2t,其中c_1，c_2为任意的常数。"
   ]
  },
  {
   "cell_type": "markdown",
   "metadata": {},
   "source": [
    "（16）解：对应齐次方程的特征方程为\\lambda^2+9=0,即特征根为\\lambda_1=3i,\\lambda_2=-3i.设方程的一个特解为x=t[（At+B）cos3t+(Et+F）sin3t],代入方程，得到A=-1/12，F=1/36，B=E=0，\n",
    "即方程的特解x=(-1/12)t^2coos3t+(1/36)tsin3t.于是方程的通解为x=c_1cos3t+c_2sin3t-(1/12)t^2cos3t+(1/36)tsin3t,其中c_1，c_2是任意的常数。"
   ]
  },
  {
   "cell_type": "markdown",
   "metadata": {},
   "source": [
    "4.求下列初值问题的解\n",
    "（1）解：对方程两边实行拉普拉斯变换得到（s^2+9）X(s)=6/(s-3).\n",
    " 由此得X(s)=(1/3)[1/(s-3)-s/(s^2+9)]-1/(s^2+9).\n",
    " 再实行拉普拉斯反变换，查表解得x(t)=e^3t/3-cos3t-sin3t/3.\n",
    " （2）解：对方程两边实行拉普拉斯变换得到s^4X(s)-s^3-s^2-s-1+X(s）=2/(s-1),由此得X(s)=1/(s-1).再实行拉普拉斯反变换，查表得到x(t)=e^t,这就是初值问题的解。 \n",
    " \n",
    " "
   ]
  },
  {
   "cell_type": "markdown",
   "metadata": {},
   "source": [
    "# <font color='red'>A  18/11"
   ]
  },
  {
   "cell_type": "code",
   "execution_count": null,
   "metadata": {
    "collapsed": true
   },
   "outputs": [],
   "source": []
  }
 ],
 "metadata": {
  "kernelspec": {
   "display_name": "SageMath 7.3",
   "language": "",
   "name": "sagemath"
  },
  "language_info": {
   "codemirror_mode": {
    "name": "ipython",
    "version": 2
   },
   "file_extension": ".py",
   "mimetype": "text/x-python",
   "name": "python",
   "nbconvert_exporter": "python",
   "pygments_lexer": "ipython2",
   "version": "2.7.10"
  }
 },
 "nbformat": 4,
 "nbformat_minor": 0
}
