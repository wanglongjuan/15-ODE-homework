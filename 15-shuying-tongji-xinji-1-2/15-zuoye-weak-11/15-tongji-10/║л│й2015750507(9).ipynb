{
 "cells": [
  {
   "cell_type": "markdown",
   "metadata": {},
   "source": [
    "$P165  习题4.2$    \n",
    "$2.求解下列常系数线性微分方程$  \n",
    "$(12).x''+6x'+5x=e^{2t}$    \n",
    "$          \\quad 解：对应齐次方程的特征方程为 \\lambda ^2+6 \\lambda +5=0$  \n",
    "$              \\quad 即得特征根为\\lambda_1=-1,\\lambda_2=-5$  \n",
    "$              \\quad 令方程的一个特解为 \\overline x=Ae^{2t}$  \n",
    "$              \\quad 代入方程得到A=\\frac{1}{21}$  \n",
    "$              \\quad 即特解为 \\overline x=\\frac{1}{2}e^{2t}$  "
   ]
  },
  {
   "cell_type": "markdown",
   "metadata": {},
   "source": [
    "$(14).x''+x=\\sin t-\\cos 2t$  \n",
    "$\\quad 解：对应的齐次方程的特征方程为 \\lambda ^2+1=0$  \n",
    "$\\quad 即特征根为 \\lambda_1=i,\\lambda_2=-i$  \n",
    "$\\quad ①对于方程x''+x=\\sin t,可以设其特解为\\overline x=t(A \\sin t +B \\cos t)$  \n",
    "$\\quad 代入方程即得到A=0，B=-\\frac{1}{2}$  \n",
    "$\\quad 即方程x''+x=\\sin t的一个特解为\\overline x=-\\frac{1}{2}t \\cos t$  \n",
    "$\\quad ②对于方程x''+x=-2 \\cos 2t,可以设其特解为\\overline x=A\\cos 2t+B\\sin 2t$  \n",
    "$\\quad 代入方程得到A=\\frac{1}{3},B=0$  \n",
    "$\\quad 即方程x''+x=-\\cos 2t的一个特解为\\overline x=\\frac{1}{3}\\cos 2t$  \n",
    "$\\quad 于是原方程的通解为x=c_1\\cos t+c_2\\sin t-\\frac{1}{2}t\\cos t+\\frac{1}{3}\\cos 2t$  "
   ]
  },
  {
   "cell_type": "markdown",
   "metadata": {},
   "source": [
    "$(16).x''+9x=t \\sin 3t$  \n",
    "$         \\quad 解：对应线性齐次方程的特征方程为 \\lambda ^2+9=0$  \n",
    "$             \\quad 即得到特征根为\\lambda _1=3i,\\lambda _2=-3i$  \n",
    "$             \\quad 设方程的一个特解为 \\overline x=t[(At+B)\\cos 3t+(Et+F)\\sin 3t]$  \n",
    "$             \\quad 代入方程即得到A=-\\frac{1}{12},F=\\frac{1}{36}，B=E=0$  \n",
    "$             \\quad 即方程的一个特解为 \\overline x=-\\frac{1}{12}t^2 \\cos 3t+\\frac{1}{36}t \\sin 3t$  \n",
    "$             \\quad 于是方程的通解为x=c_1 \\cos 3t+c_2 \\sin 3t-\\frac{1}{12}t^2 \\cos 3t +\\frac{1}{36}t \\sin 3t,c_1,c_2为任意常数$  "
   ]
  },
  {
   "cell_type": "markdown",
   "metadata": {},
   "source": [
    "$4.求下组初值问题的解$  \n",
    "$(1).x''+9x=6e^{3t},x(0)=x'(0)=0;$  \n",
    "$         \\quad 解：对方程两边进行拉普拉斯变换$  \n",
    "$             \\quad 得(s^2+9)X(s)=\\frac{6}{s-3}$  \n",
    "$             \\quad 由此得 X(s)=\\frac{1}{3}[\\frac{1}{s-3}-\\frac{s}{s^2+9}]-\\frac{1}{s^3+9}$  \n",
    "$             \\quad 对上式右端各项分别求出其原函数，则它们的和就是X(s)的原函数$  \n",
    "$             \\quad x(t)=\\frac{1}{3}(e^{3t}-\\cos 3t-\\sin 3t),这就是所要求的解$  "
   ]
  },
  {
   "cell_type": "markdown",
   "metadata": {
    "collapsed": true
   },
   "source": [
    "$(2).x^{(4)}+x=2e^t,x(0)=x'(0)=x''(0)=x'''(0)=1$  \n",
    "$         \\quad 解：对方程两边进行拉普拉斯变换$  \n",
    "$             \\quad 得s^4X(s)-s^3-s^2-s-1+X(s)=\\frac{2}{s-1}$  \n",
    "$             \\quad 由此得X(s)=\\frac{1}{s-1}$  \n",
    "$             \\quad 对上式右端查表求出其原函数，则X（s）的原函数为$  \n",
    "$             \\quad x(t)=e^t,这就是所要求的解$  "
   ]
  },
  {
   "cell_type": "markdown",
   "metadata": {
    "collapsed": true
   },
   "source": [
    "# <font color='red'>A  18/11"
   ]
  },
  {
   "cell_type": "code",
   "execution_count": null,
   "metadata": {
    "collapsed": true
   },
   "outputs": [],
   "source": []
  }
 ],
 "metadata": {
  "kernelspec": {
   "display_name": "SageMath 7.3",
   "language": "",
   "name": "sagemath"
  },
  "language_info": {
   "codemirror_mode": {
    "name": "ipython",
    "version": 2
   },
   "file_extension": ".py",
   "mimetype": "text/x-python",
   "name": "python",
   "nbconvert_exporter": "python",
   "pygments_lexer": "ipython2",
   "version": "2.7.10"
  }
 },
 "nbformat": 4,
 "nbformat_minor": 0
}
