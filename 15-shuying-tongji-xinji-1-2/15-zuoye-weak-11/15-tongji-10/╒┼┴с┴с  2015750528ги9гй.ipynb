{
 "cells": [
  {
   "cell_type": "markdown",
   "metadata": {},
   "source": [
    "# $$常微分作业$$ #\n",
    "# 班级：统计班   \n",
    "# 姓名：张玲玲   \n",
    "# 学号：2015750528\n",
    "\n",
    "## 2.求解下列常系数线性微分方程\n",
    "\n",
    "### **(12)** $ x^{\\prime \\prime}+6x^{\\prime}+5x=e^{2t} $\n",
    "\n",
    "** 解：**\n",
    "\n",
    "$ 先求x^{\\prime \\prime}+6x^{\\prime}+5x=0的通解. $\n",
    "\n",
    " 由特征方程\n",
    "\n",
    "$$\\lambda^2+6\\lambda+5=0$$\n",
    "\n",
    "得\n",
    "\n",
    "$$\\lambda_1=-1,\\lambda_2=-5 $$\n",
    "\n",
    " 所以通解为\n",
    "    \n",
    "$$ x=c_1e^{-t}+c_2e^{-5t},c_1,c_2为任意常数 $$\n",
    "\n",
    "$ f(t)=e^{2t},\\lambda=2,不是特征根 $\n",
    "\n",
    "取特解形如\n",
    "         \n",
    "$$x=Ae^{2t} $$\n",
    "\n",
    "$ 将x=Ae^{2t}代入原方程，得 $\n",
    "\n",
    "$$21Ae^{2t}=e^{2t}$$\n",
    "\n",
    "所以\n",
    "\n",
    "$$A=\\frac{1}{21} $$\n",
    "\n",
    " 所以原方程通解为\n",
    " \n",
    " $$x=c_1e^{-t}+c_2e^{-5t}+\\frac{1}{21}e^{2t} $$"
   ]
  },
  {
   "cell_type": "markdown",
   "metadata": {},
   "source": [
    "### **(14)** $ x^{\\prime \\prime}-2x^{\\prime}+3x=e^{-t}\\cos t $\n",
    "\n",
    "** 解：**\n",
    "\n",
    "特征方程\n",
    "\n",
    "$$\\lambda^2-2\\lambda+3=0,\\lambda_1=1-\\sqrt2 i,\\lambda_2=1+\\sqrt2 i $$\n",
    "\n",
    "所以通解为\n",
    "\n",
    "$$x=c_1e^t\\cos \\sqrt2 t+c_2e^t\\sin \\sqrt2 t $$\n",
    "\n",
    "$ 因为\\lambda=-1不是特征根 $\n",
    "\n",
    "所以\n",
    "\n",
    "$$x=(A\\cos t+B\\sin t)e^{-t} $$\n",
    "\n",
    "代入得\n",
    "\n",
    "$$A=\\frac{5}{41},B=-\\frac{4}{41} $$\n",
    "\n",
    "所以通解为\n",
    "\n",
    "$$x=(c_1\\cos \\sqrt2 t+c_2\\sin \\sqrt2 t)e^t+(\\frac{5}{41}\\cos t-\\frac{4}{41}\\sin t)e^{-t} $$"
   ]
  },
  {
   "cell_type": "markdown",
   "metadata": {},
   "source": [
    "### **(16)**$ x^{\\prime \\prime}+9x=t\\sin 3t $\n",
    "\n",
    "** 解：**\n",
    "\n",
    "特征方程\n",
    "\n",
    "$$\\lambda^2+9=0$$\n",
    "\n",
    "得\n",
    "\n",
    "$$\\lambda=±3i $$\n",
    "\n",
    "设特解为\n",
    "\n",
    "$$x=t[(at+c)\\cos 3t+(bt+d)\\sin 3t]$$\n",
    "\n",
    "代入得\n",
    "\n",
    "$$ 2a+6d=0,12b=0,2b-6c=0,-12a=1 $$\n",
    "\n",
    "所以\n",
    "\n",
    "$$b=c=0,a=-\\frac{1}{12},d=\\frac{1}{36} $$\n",
    "\n",
    "所以解为\n",
    "\n",
    "$$x=c_1\\cos 3t+c_2\\sin 3t-\\frac{1}{12}t^2\\cos 3t+\\frac{1}{36}t\\sin 3t $$"
   ]
  },
  {
   "cell_type": "markdown",
   "metadata": {},
   "source": [
    "## 4.求下列初值问题的解 \n",
    "\n",
    "### **(1)**$ x^{\\prime \\prime}+9x=6e^{3t},x(0)=x^{\\prime}(0)=0 $\n",
    "\n",
    "** 解：**\n",
    "\n",
    "特征方程为\n",
    "\n",
    "$$\\lambda^2+9=0,特征根\\lambda=±3i $$\n",
    "\n",
    "设特解为\n",
    "\n",
    "$$x=ce^{3t}$$\n",
    "\n",
    "代入得\n",
    "\n",
    "$$c=\\frac{1}{3} $$\n",
    "\n",
    "所以通解为\n",
    "\n",
    "$$x=c_1\\cos 3t+c_2\\sin 3t+\\frac{1}{3}e^{3t} $$\n",
    "\n",
    "代入初值条件有\n",
    "\n",
    "$$c_1=-\\frac{1}{3},c_2=-\\frac{1}{3} $$\n",
    "\n",
    "所以初值问题的解为\n",
    "\n",
    "$$x=\\frac{1}{3}(e^{3t}-\\cos 3t-\\sin 3t) $$"
   ]
  },
  {
   "cell_type": "markdown",
   "metadata": {},
   "source": [
    "### **(2)**$ x^{(4)}+x=2e^t,x(0)=x^{\\prime}(0)=x^{\\prime \\prime}=x^{\\prime \\prime \\prime}(0)=1 $\n",
    "\n",
    "** 解：**\n",
    "\n",
    "利用拉普拉斯变换法，有\n",
    "\n",
    "$$s^4X-s^3-s^2-s-1+X=\\frac{2}{s-1}$$\n",
    "\n",
    "即\n",
    "\n",
    "$$X=\\frac{1}{s-1} $$\n",
    "\n",
    "施行拉普拉斯反变换，查表得解\n",
    "\n",
    "$$x=e^t $$"
   ]
  },
  {
   "cell_type": "markdown",
   "metadata": {
    "collapsed": true
   },
   "source": [
    "# <font color='red'>A  18/11"
   ]
  },
  {
   "cell_type": "code",
   "execution_count": null,
   "metadata": {
    "collapsed": true
   },
   "outputs": [],
   "source": []
  }
 ],
 "metadata": {
  "kernelspec": {
   "display_name": "SageMath 7.3",
   "language": "",
   "name": "sagemath"
  },
  "language_info": {
   "codemirror_mode": {
    "name": "ipython",
    "version": 2
   },
   "file_extension": ".py",
   "mimetype": "text/x-python",
   "name": "python",
   "nbconvert_exporter": "python",
   "pygments_lexer": "ipython2",
   "version": "2.7.10"
  }
 },
 "nbformat": 4,
 "nbformat_minor": 0
}
