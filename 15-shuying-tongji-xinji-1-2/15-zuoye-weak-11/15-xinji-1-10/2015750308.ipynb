{
 "cells": [
  {
   "cell_type": "markdown",
   "metadata": {},
   "source": [
    "（12）$x\"+6x'+5x=e^{2t}$"
   ]
  },
  {
   "cell_type": "markdown",
   "metadata": {},
   "source": [
    "解：特征方程为${\\lambda}@+6\\lambda+5=0$  ${\\lambda}_1=-1,{\\lambda}_2=-5$\n",
    "\n",
    "故齐次方程的通解为$x=c_1e^{-t}+c_2e{-5t}$\n",
    "\n",
    "$\\lambda=2$不是特征方程的根，故得通解为\n",
    "\n",
    "$$x=c_1e^{-t}+c_2e^{-5t}+\\frac{1}{21}e^{2t}$$"
   ]
  },
  {
   "cell_type": "markdown",
   "metadata": {},
   "source": [
    "(14)$x\"+x=\\sin t-\\cos 2t$"
   ]
  },
  {
   "cell_type": "markdown",
   "metadata": {},
   "source": [
    "解：特征方程为${\\lambda}^2+1=0$  ${\\lambda}_1=i  {\\lambda}_2=-i$\n",
    "\n",
    "故齐次线性方程的通解为$x=c_1\\cos t+c_2\\sin t$\n",
    "\n",
    "对于方程$x\"+x+\\sin t=0$取$\\bar{x}=t(A\\cos t+B\\sin t)$,代入原方程解得$$\n",
    "A=-\\frac{1}{2},B=0$$故$\\bar{x}=-\\frac{1}{2}t\\cos t$\n",
    "\n",
    "对于$x\"+x=-\\cos 2t$,取$\\bar{x}=A\\cos 2t+B\\sin 2t$，带入得$A=\\frac{1}{3},B=0$,即$\\bar{x}=\\frac{1}{3}\\cos 2t$"
   ]
  },
  {
   "cell_type": "markdown",
   "metadata": {
    "collapsed": true
   },
   "source": [
    "故通解为$x=c_1\\cos t+c_2\\sin t-\\frac{1}{2}t\\cos t+\\frac{1}{3}\\cos 2t$"
   ]
  },
  {
   "cell_type": "markdown",
   "metadata": {},
   "source": [
    "(16)$x\"+9x=t\\sin 3t$"
   ]
  },
  {
   "cell_type": "markdown",
   "metadata": {},
   "source": [
    "解：特征方程为${\\lambda}^2=-9$      、      ${\\lambda}_1=9i   {\\lambda}_2=-3i$"
   ]
  },
  {
   "cell_type": "markdown",
   "metadata": {},
   "source": [
    "设方程的一个特解为$\\bar{x}=t[(At+B)\\cos 3t+(Et+F)\\sin 3t]$解得$A=-\\frac{1}{12},F=\\frac{1}{36},B=E=0$\n",
    "特解为$$\\bar{x}=-\\frac{1}{12}t^2\\cos 3t+\\frac{1}{36}t\\sin 3t$$"
   ]
  },
  {
   "cell_type": "markdown",
   "metadata": {},
   "source": [
    "即通解为$$x=c_1\\cos 3t+c_2\\sin 3t-\\frac{1}{12}t^2\\cos 3t+\\frac{1}{36}t\\sin 3t$$"
   ]
  },
  {
   "cell_type": "markdown",
   "metadata": {
    "collapsed": true
   },
   "source": [
    "4.求下列初值问题的解"
   ]
  },
  {
   "cell_type": "markdown",
   "metadata": {},
   "source": [
    "（1）$x\"+9x=6e^{3t},x(0)=x'(0)=0$"
   ]
  },
  {
   "cell_type": "markdown",
   "metadata": {},
   "source": [
    "对方程进行拉普拉斯变换$$(s^2+9)X(s)=\\frac{6}{s-3},$$\n",
    "\n",
    "得$X(s)=\\frac{1}{3}[\\frac{1}{s-3}-\\frac{s}{s^2+9}]-\\frac{1}{s^2-9}$\n",
    "\n",
    "进行拉普拉斯变换得解为$$x(t)=\\frac{1}{3}e^{3t}-\\frac{1}{3}\\cos 3t-\\frac{1}{3}\\sin 3t$$"
   ]
  },
  {
   "cell_type": "markdown",
   "metadata": {},
   "source": [
    "(2)$x^{(4)}+x=2e^t,x(0)=x'(0)=x\"(0)=x\"'(0)=1$"
   ]
  },
  {
   "cell_type": "markdown",
   "metadata": {},
   "source": [
    "对方程进行拉普拉斯变换得$$s^4X(s)-s^3-s^2-s-1+X(s)=\\frac{2}{s-1}$$\n",
    "\n",
    "得$X(s)=\\frac{1}{s-1}$\n",
    "\n",
    "通解为$$x(t)=e^t$$"
   ]
  },
  {
   "cell_type": "markdown",
   "metadata": {
    "collapsed": true
   },
   "source": [
    "# <font color='red'>A  18/11"
   ]
  },
  {
   "cell_type": "code",
   "execution_count": null,
   "metadata": {
    "collapsed": true
   },
   "outputs": [],
   "source": []
  }
 ],
 "metadata": {
  "kernelspec": {
   "display_name": "SageMath 7.3",
   "language": "",
   "name": "sagemath"
  },
  "language_info": {
   "codemirror_mode": {
    "name": "ipython",
    "version": 2
   },
   "file_extension": ".py",
   "mimetype": "text/x-python",
   "name": "python",
   "nbconvert_exporter": "python",
   "pygments_lexer": "ipython2",
   "version": "2.7.10"
  }
 },
 "nbformat": 4,
 "nbformat_minor": 0
}
