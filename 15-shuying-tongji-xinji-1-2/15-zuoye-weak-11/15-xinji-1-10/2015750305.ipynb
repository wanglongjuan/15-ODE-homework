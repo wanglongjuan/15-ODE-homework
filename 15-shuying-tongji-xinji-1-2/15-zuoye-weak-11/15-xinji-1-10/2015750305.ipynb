{
 "cells": [
  {
   "cell_type": "markdown",
   "metadata": {},
   "source": [
    "$一\\quad 求解下列常系数线性微分方程$"
   ]
  },
  {
   "cell_type": "markdown",
   "metadata": {},
   "source": [
    "$1\\quad x^{{\\prime}{\\prime}}+6x^{\\prime}+5x=e^{2t};$"
   ]
  },
  {
   "cell_type": "markdown",
   "metadata": {},
   "source": [
    "$解\\quad 对应齐次方程的特征方程为$\n",
    "$$\\lambda^2+6\\lambda+5=0$$\n",
    "$即得特征根为\\lambda_1=-1,\\lambda_2=-5.$"
   ]
  },
  {
   "cell_type": "markdown",
   "metadata": {},
   "source": [
    "$令方程的一个特解为\\overline{x}=Ae^2t,代入方程则得到A=\\frac{1}{21},即特解为\\overline{x}=\\frac {1}{21}e^2t,$"
   ]
  },
  {
   "cell_type": "markdown",
   "metadata": {},
   "source": [
    "$于是方程的通解为$\n",
    "$$x=c_1e^{-t}+c_2e^{-5t}+\\frac {1}{21}e^{2t}$$"
   ]
  },
  {
   "cell_type": "markdown",
   "metadata": {},
   "source": [
    "$2\\quad x^{{\\prime}{\\prime}}+x=sint-cos2t;$"
   ]
  },
  {
   "cell_type": "markdown",
   "metadata": {},
   "source": [
    "$解\\quad 对应的齐次方程的特征方程为$\n",
    "$$\\lambda^2+1=0$$\n",
    "$即特征根为\\lambda_1=i,\\lambda_2=-i.$"
   ]
  },
  {
   "cell_type": "markdown",
   "metadata": {},
   "source": [
    "$a\\quad 对于方程x^{{\\prime}{\\prime}}+x=sint，可以设其特解为\\overline{x}=t(Asint+Bcost),代入方程则得到A=0，B=-\\frac {1}{2},$\n",
    "\n",
    "$即方程x^{{\\prime}{\\prime}}+x=sint的一个特解为\\overline{x}=-\\frac {1}{2}tcost.$"
   ]
  },
  {
   "cell_type": "markdown",
   "metadata": {},
   "source": [
    "$b\\quad对于方程x^{{\\prime}{\\prime}}+x=-cos2t，可以设其特解为\\overline{x}=Acos2t+Bsin2t,代入方程，则得到A=\\frac{1}{3},B=0,$\n",
    "\n",
    "$即方程x^{{\\prime}{\\prime}}+x=-cos2t的一个特解为\\overline{x}=\\frac{1}{3}cos2t.$\n",
    "\n",
    "$于是原方程的通解为$\n",
    "$$x=c_1cost+c_2sint-\\frac {1}{2}tcost+\\frac{1}{3}cos2t.$$"
   ]
  },
  {
   "cell_type": "markdown",
   "metadata": {},
   "source": [
    "$3\\quad x^{{\\prime}{\\prime}}+9x=tsin3t$"
   ]
  },
  {
   "cell_type": "markdown",
   "metadata": {},
   "source": [
    "$解\\quad 对应线性齐次方程的特征方程为$\n",
    "$$\\lambda^2+9=0$$\n",
    "$即得到特征根为\\lambda_1=3i,\\lambda_2=-3i.$"
   ]
  },
  {
   "cell_type": "markdown",
   "metadata": {},
   "source": [
    "$设方程的一个特解为\\overline{x}=t[(At+B)cos3t+(Et+F)sin3t],代入方程得到A=-\\frac{1}{12},F=\\frac{1}{36},B=E=0,$\n",
    "\n",
    "$即方程的一个特解为\\overline{x}=-\\frac{1}{12}t^2cos3t+\\frac{1}{36}tsin3t.$\n",
    "\n",
    "$于是方程的通解为$\n",
    "$$x=c_1cos3t+c_2sin3t-\\frac{1}{12}t^2cos3t+\\frac{1}{36}tsin3t,这里c_1,c_2是任意常数$$"
   ]
  },
  {
   "cell_type": "markdown",
   "metadata": {},
   "source": [
    "$二\\quad 求下组初值问题的解:$"
   ]
  },
  {
   "cell_type": "markdown",
   "metadata": {},
   "source": [
    "$1\\quad x^{{\\prime}{\\prime}}+9x=6e^{3t},x(0)=x^{\\prime}(0)=0;$"
   ]
  },
  {
   "cell_type": "markdown",
   "metadata": {},
   "source": [
    "$解\\quad对方程两边施行拉普拉斯变换得$\n",
    "$$(s^2+9)X(s)=\\frac{6}{s-3},$$\n",
    "$由此得$\n",
    "$$X(s)=\\frac{1}{3}[\\frac{1}{s-3}-\\frac{s}{s^2+9}]-\\frac{1}{s^2+9}.$$"
   ]
  },
  {
   "cell_type": "markdown",
   "metadata": {},
   "source": [
    "$对上式两端各项分别求出其原函数，则它们的和就是X(s)的原函数$\n",
    "$$x(t)=\\frac{1}{3}(e^{3t}-cos3t-sin3t)$$\n",
    "$这就是所要求的解$"
   ]
  },
  {
   "cell_type": "markdown",
   "metadata": {},
   "source": [
    "$2\\quad {x^{(4)}}+x=2e^t,x(0)=x^{\\prime}(0)=x^{{\\prime}{\\prime}}(0)=x^{{\\prime}{\\prime}{\\prime}}(0)=1$"
   ]
  },
  {
   "cell_type": "markdown",
   "metadata": {},
   "source": [
    "$解\\quad 对方程两边施行拉普拉斯变换得$\n",
    "$$s^4X(s)-s^3-s^2-s-1+X(s)=\\frac{2}{s-1},$$\n",
    "$由此得$\n",
    "$$X(s)=\\frac{1}{s-1}$$\n",
    "$对上式右端求出其原函数，则X(s)的原函数为$\n",
    "$$x(t)=e^t$$\n",
    "$这就是所要求的解$"
   ]
  },
  {
   "cell_type": "markdown",
   "metadata": {
    "collapsed": true
   },
   "source": [
    "# <font color='red'>A  18/11"
   ]
  },
  {
   "cell_type": "code",
   "execution_count": null,
   "metadata": {
    "collapsed": true
   },
   "outputs": [],
   "source": []
  }
 ],
 "metadata": {
  "kernelspec": {
   "display_name": "SageMath 7.3",
   "language": "",
   "name": "sagemath"
  },
  "language_info": {
   "codemirror_mode": {
    "name": "ipython",
    "version": 2
   },
   "file_extension": ".py",
   "mimetype": "text/x-python",
   "name": "python",
   "nbconvert_exporter": "python",
   "pygments_lexer": "ipython2",
   "version": "2.7.10"
  }
 },
 "nbformat": 4,
 "nbformat_minor": 0
}
