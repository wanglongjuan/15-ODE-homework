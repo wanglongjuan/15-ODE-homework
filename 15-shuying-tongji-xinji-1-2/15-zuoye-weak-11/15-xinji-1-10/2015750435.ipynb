{
 "cells": [
  {
   "cell_type": "markdown",
   "metadata": {
    "collapsed": false
   },
   "source": [
    "**$p_{165}$**"
   ]
  },
  {
   "cell_type": "markdown",
   "metadata": {},
   "source": [
    "2.解下列常系数线性微分方程。\n",
    "$$$$\n",
    "（12）$x''+6x'+5x=e^{2t};$\n",
    "\n",
    "解:对应齐次方程的特征方程为$\\lambda^2+6\\lambda+5=0,它有根\\lambda_1=-1,\\lambda_2=-5.$故齐次线性方程的通解为$x=c_1e^{-t}+c_2e^{-5t}.$\n",
    "由于$\\lambda =2不是特征方程的根，故方程有形如\\overline x =Ae^{2t}的特解，代入原方程解得A=\\frac{1}{21}.$\n",
    "$于是方程的通解为x=c_1e^{-1}+c_2e^{-5t}+\\frac{1}{21}e^{2t},其中c_1,c_2为任意常数.$"
   ]
  },
  {
   "cell_type": "markdown",
   "metadata": {},
   "source": [
    "(14)$x''+x=\\sin t -\\cos2t$\n",
    "\n",
    "解：对应齐次方程的特征方程为$\\lambda^2+1=0,即特征根\\lambda_1=i,\\lambda_2=-1,故齐次线性方程的通解为x=c_1 \\cos t +c_2\\sin t.$\n",
    "对于方程$x''+x=\\sin t,取特解形如\\overline x =t(A\\cos t+B\\sin t),代入原方程解得A=-\\frac{1}{2},B=0,故\\overline x =-\\frac{1}{2} t\\cos t.$\n",
    "$对于方程x''+x=-\\cos 2t,取特解形如\\overline x= A\\cos 2t+B\\sin 2t,代入原方程解得A=\\frac{1}{3},b=0,故\\overline x=\\frac{1}{3}\\cos 2t$\n",
    "\n",
    "$故原方程的通解为x=c_1\\cos t+c_2\\sin t-\\frac{1}{2}t\\cos t+\\frac{1}{3}\\cos 2t,其中c_1,c_2为任意常数.$"
   ]
  },
  {
   "cell_type": "markdown",
   "metadata": {},
   "source": [
    "(16)$x''+9x =t\\sin 3t;$\n",
    "$$$$\n",
    "解：对应齐次线性方程的特征方程为$\\lambda^2+9=0,即得特征根为\\lambda_1=3i,\\lambda_2=-3i.$\n",
    "$设方程的一个特解为\\overline x=t[(At+B)\\cos 3t +(Et+F)\\sin 3t],代入方程得到A=-\\frac{1}{12},F=\\frac{1}{36},B=E=0,$\n",
    "$即方程的一个特解为\\overline x=-\\frac{1}{12}t^2 \\cos 3t+\\frac{1}{36}t \\sin 3t.$\n",
    "于是方程的通解为$x=c_1\\cos 3t +c_2\\sin 3t -\\frac{1}{12}t^2\\cos 3t+\\frac{1}{36}t \\sin 3t.其中c_1,c_2为任意常数.$"
   ]
  },
  {
   "cell_type": "markdown",
   "metadata": {},
   "source": [
    "4.求下列初值为题的解：\n",
    "（1）$x''+9x=6e^{3t},x(0)=x'(0)=0;$\n",
    "$$$$\n",
    "解:对方称两边施行拉普拉斯变换得到$$(s^2+9)X(s)=\\frac{6}{s-3.}$$\n",
    "\n",
    "\n",
    "由此得$$X(s)=\\frac{1}{3}[\\frac{1}{s-3}-\\frac{s}{s^2+9}]-\\frac{1}{s^+9}.$$\n",
    "\n",
    "\n",
    "施行拉普拉斯反变换，得$$x(t)=\\frac{1}{3}e^{3t}-\\frac{1}{3}\\cos 3t -\\frac{1}{3}\\sin 3t.$$\n",
    "\n",
    "\n",
    "此即为所求初值问题的解."
   ]
  },
  {
   "cell_type": "markdown",
   "metadata": {},
   "source": [
    "(2)$x^{(4)}+x=2e^t,x(0)=x'(0)=x''(0)=x'''(0)=1.$\n",
    "$$$$\n",
    "$对方称两边施行拉普拉斯变换得$$$s^4X(s)-s^3-s^2-s-1+X(s)=\\frac{2}{s-1},$$\n",
    "\n",
    "\n",
    "由此得$$x(s)=\\frac{1}{s-1}.$$\n",
    "\n",
    "施行拉普拉斯反变换得解$x(t)=e^t,此解为所要求的解.$"
   ]
  },
  {
   "cell_type": "markdown",
   "metadata": {
    "collapsed": true
   },
   "source": [
    "# <font color='red'>A  18/11"
   ]
  },
  {
   "cell_type": "code",
   "execution_count": null,
   "metadata": {
    "collapsed": true
   },
   "outputs": [],
   "source": []
  }
 ],
 "metadata": {
  "kernelspec": {
   "display_name": "Python 2",
   "language": "python",
   "name": "python2"
  },
  "language_info": {
   "codemirror_mode": {
    "name": "ipython",
    "version": 2
   },
   "file_extension": ".py",
   "mimetype": "text/x-python",
   "name": "python",
   "nbconvert_exporter": "python",
   "pygments_lexer": "ipython2",
   "version": "2.7.10"
  }
 },
 "nbformat": 4,
 "nbformat_minor": 0
}
