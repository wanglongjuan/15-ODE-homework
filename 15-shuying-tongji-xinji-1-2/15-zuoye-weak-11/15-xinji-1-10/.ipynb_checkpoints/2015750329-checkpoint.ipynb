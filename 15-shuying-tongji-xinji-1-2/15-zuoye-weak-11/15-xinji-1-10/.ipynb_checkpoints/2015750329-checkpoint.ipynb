{
 "cells": [
  {
   "cell_type": "markdown",
   "metadata": {},
   "source": [
    "## 第九次常微分作业"
   ]
  },
  {
   "cell_type": "markdown",
   "metadata": {},
   "source": [
    "## P.164\n",
    "## 2.求解下列常系数线性微分方程"
   ]
  },
  {
   "cell_type": "markdown",
   "metadata": {},
   "source": [
    "## (12).$x''+6x'+5x=e^{2t}$"
   ]
  },
  {
   "cell_type": "markdown",
   "metadata": {},
   "source": [
    "**解**\n",
    "\n",
    "$$ 方程的特征根方程为：\\lambda ^2+6\\lambda +5=0 $$\n",
    "\n",
    "$$ 解得：\\lambda _1=-1,\\lambda _2=-5 $$\n",
    "\n",
    "$$ 故齐次线性微分方程的通解为 x=c_1e^{-t}+c_2e^{-5t}$$\n",
    "\n",
    "$$ 又因为\\lambda =2不是特征方程的根,故 x=Ae^{2t}代入原方程解得 A=\\frac{1}{21} $$\n",
    "\n",
    "$$ 故通解为   x=c_1e^{-t}+c_2e^{-5t}+\\frac{1}{21}e^{2t}$$"
   ]
  },
  {
   "cell_type": "markdown",
   "metadata": {},
   "source": [
    "## (14).$x''+x=\\sin t-\\cos 2t;$"
   ]
  },
  {
   "cell_type": "markdown",
   "metadata": {},
   "source": [
    "**解**\n",
    "\n",
    "$$ 特征根方程为：\\lambda ^2+1=0 $$\n",
    "\n",
    "$$ 解得\\lambda _1=i,\\lambda _2=-i $$\n",
    "\n",
    "$$ 故齐次线性微分方程的通解为 x=c_1\\cos t+c_2\\sin t $$\n",
    "\n",
    "$$ x''+x=\\sin t,\\lambda _1=i 是方程的解，x=t(A\\cos t+B\\sin t)代入原方程解得:A=\\frac{1}{3},B=0 $$\n",
    "\n",
    "$$ 即一个特解为\\bar{x}=-\\frac{1}{2}t\\cos t$$\n",
    "\n",
    "$$ 对于方程x''+x=-\\cos 2t,设其特解为\\bar{x}=A\\cos 2t +B\\sin 2t,代入方程得A=\\frac{1}{3},B=0 $$\n",
    "\n",
    "$$ 即一个特解为\\bar{x}=\\frac{1}{3}\\cos 2t  $$\n",
    "\n",
    "$$所以方程通解为x=c_1\\cos t+c_2\\sin t-\\frac{1}{2}t\\cos t+\\frac{1}{3}\\cos 2t$$"
   ]
  },
  {
   "cell_type": "markdown",
   "metadata": {},
   "source": [
    "## (16).$x''+9x=t\\sin 3t ;$"
   ]
  },
  {
   "cell_type": "markdown",
   "metadata": {},
   "source": [
    "**解**\n",
    "\n",
    "$$对应线性其次方程的特征方程为\\lambda^2+9=0$$\n",
    "\n",
    "$$特征根为\\lambda_1=3i,\\lambda_2+-3i $$\n",
    "\n",
    "$$设方程的的一个特解为\\bar{x}=t[(At+B)\\cos 3t +(Et+F)\\sin 3t]$$\n",
    "\n",
    "$$代入方程得A=-\\frac{1}{12},F=\\frac{1}{36},B=E=0$$\n",
    "\n",
    "$$即方程的一个特解为\\bar{x}=-\\frac{1}{12}t^2\\cos 3t+\\frac{1}{36}t\\sin 3t $$\n",
    "\n",
    "$$于是方程的通解为x=c_1\\cos 3t+c_2\\sin 3t-\\frac{1}{12}t^2\\cos 3t +\\frac{1}{36}t\\sin 3t，（c_1,c_2为任意常数）$$"
   ]
  },
  {
   "cell_type": "markdown",
   "metadata": {},
   "source": [
    "## 4.求下列初值问题的解"
   ]
  },
  {
   "cell_type": "markdown",
   "metadata": {},
   "source": [
    "## (1).$x''+9x=6e^{3t},x(0)=x'(0)=0$"
   ]
  },
  {
   "cell_type": "markdown",
   "metadata": {},
   "source": [
    "**解**\n",
    "\n",
    "$$ 对方程两边进行拉普拉斯变换得(s^2+9)X(s)=\\frac{6}{s-3}$$\n",
    "\n",
    "$$ 有此得X(s)=\\frac{1}{3}[\\frac{1}{s-3}-\\frac{s}{s^2+9}]-\\frac{1}{s^3+9}$$\n",
    "\n",
    "$$ 对上式右端各项分别求出其原函数，则它们的和就是X(s)的原函数x(t)=\\frac{1}{3}(e^{3t}-\\cos 3t-\\sin 3t)为所求解$$\n"
   ]
  },
  {
   "cell_type": "markdown",
   "metadata": {},
   "source": [
    "## (2).$x^{(4)}+x=2e^t,x(0)=x'(0)=x''(0)=x''''(0)=1$"
   ]
  },
  {
   "cell_type": "markdown",
   "metadata": {},
   "source": [
    "**解**\n",
    "\n",
    "$$ 对方程两边进行拉普拉斯变换得s^4 X(s)-s^3-s^2-s-1+X(s)=\\frac{2}{s-1} $$\n",
    "$$由此得X(s)=\\frac{1}{s-1}$$\n",
    "$$ 对上式右端各项分别求出其原函数，则X(s)的原函数为$$x(t)=e^t$$为所求解。$$"
   ]
  },
  {
   "cell_type": "markdown",
   "metadata": {},
   "source": [
    "# <font color='red'>A  18/11"
   ]
  },
  {
   "cell_type": "code",
   "execution_count": null,
   "metadata": {
    "collapsed": true
   },
   "outputs": [],
   "source": []
  }
 ],
 "metadata": {
  "kernelspec": {
   "display_name": "SageMath 7.3",
   "language": "",
   "name": "sagemath"
  },
  "language_info": {
   "codemirror_mode": {
    "name": "ipython",
    "version": 2
   },
   "file_extension": ".py",
   "mimetype": "text/x-python",
   "name": "python",
   "nbconvert_exporter": "python",
   "pygments_lexer": "ipython2",
   "version": "2.7.10"
  }
 },
 "nbformat": 4,
 "nbformat_minor": 0
}
