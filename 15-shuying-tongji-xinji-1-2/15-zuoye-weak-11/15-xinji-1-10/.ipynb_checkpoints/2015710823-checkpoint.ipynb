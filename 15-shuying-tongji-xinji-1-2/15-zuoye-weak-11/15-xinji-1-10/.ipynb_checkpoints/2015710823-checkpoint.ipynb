{
 "cells": [
  {
   "cell_type": "markdown",
   "metadata": {},
   "source": [
    "**常微分方程第九次作业**\n",
    "\n",
    "                信计一班  唐梦圆  2015710823\n",
    "\n",
    "2.求解下列常系数微分方程。"
   ]
  },
  {
   "cell_type": "markdown",
   "metadata": {},
   "source": [
    "(12)$x''+6x'+5x=e^{2t}$\n",
    "\n",
    "解：$特征方程为：\\lambda^2+6\\lambda+5=0\\\\\n",
    "根\\lambda_1=-1,\\lambda_2=-5\\\\\n",
    "故对应的齐次线性微分方程的通解为：x=c_1e^{-t}+c_2e^{-5t},其中c_1,c_2为任意常数。\\\\\n",
    "现求非齐次线性微分方程的一个特解：\\\\\n",
    "由于\\lambda=2不是特征方程的根，故设特解为：\\tilde{x}=Ae^{2t}\\\\\n",
    "代入：21A=1,A=\\frac{1}{21}\\\\\n",
    "故原方程的通解为：x=c_1e^{-t}+c_2e^{-5t}+\\frac{e^{2t}}{21}$"
   ]
  },
  {
   "cell_type": "markdown",
   "metadata": {},
   "source": [
    "(14)$x''+x=sint-cos2t$\n",
    "\n",
    "解:$特征方程为：\\lambda^2+1=0,\\lambda=\\pm i\\\\\n",
    "故对应的齐次线性微分方程的通解为：x=c_1cost+c_2sint\\\\\n",
    "(1)对于方程x''+x=sint，设其特解为：\\tilde{x}=t(Asint+Bcost),\\\\\n",
    "代入：A=0,B=-\\frac{1}{2}\\\\\n",
    "则该特解为：\\tilde{x}=-\\frac{1}{2}tcost\\\\\n",
    "(2)对于方程x''+x=-cos2t,设其特解为：\\tilde{x}=Acos2t+Bsin2t,\\\\\n",
    "代入：A=\\frac{1}{3},B=0\\\\\n",
    "则该特解为：\\tilde{x}=\\frac{1}{3}cos2t\\\\\n",
    "于是原方程的通解为：x=c_1cost+c_2sint-\\frac{1}{2}tcost+\\frac{1}{3}cos2t$"
   ]
  },
  {
   "cell_type": "markdown",
   "metadata": {
    "collapsed": true
   },
   "source": [
    "(16)$x''+9x=tsin3t$\n",
    "\n",
    "解：$特征方程为：\\lambda^2+9=0,\\lambda_1=3i,\\lambda_2=-3i.\\\\\n",
    "故对应的齐次线性微分方程的通解为：x=c_1cos3t+c_2sin3t\\\\\n",
    "设方程的一个特解为：\\tilde{x}=t[(At+B)cos3t+(Et+F)sin3t],\\\\\n",
    "代入：A=-\\frac{1}{12},F=\\frac{1}{36},B=E=0,\\\\\n",
    "故方程的一个特解为：\\tilde{x}=-\\frac{1}{12}t^2cos3t+\\frac{1}{36}tsin3t.\\\\\n",
    "于是原方程的通解为：x=c_1cos3t+c_2sin3t-\\frac{1}{12}t^2cos3t+\\frac{1}{36}tsin3t.$"
   ]
  },
  {
   "cell_type": "markdown",
   "metadata": {},
   "source": [
    "4.求下组初值问题的解。"
   ]
  },
  {
   "cell_type": "markdown",
   "metadata": {},
   "source": [
    "(1)$x''+9x=6e^{3t},x(0)=x'(0)=0;$\n",
    "\n",
    "解：$对方程两端施行拉普拉斯变换得，(s^2+9)X(s)=\\frac{6}{s-3}\\\\\n",
    "由此得，X(s)=\\frac{1}{3}[\\frac{1}{s-3}-\\frac{s}{s^2+9}]-\\frac{1}{s^2+9}\\\\\n",
    "故解为：x(t)=\\frac{1}{3}(e^{3t}-cos3t-sin3t).$"
   ]
  },
  {
   "cell_type": "markdown",
   "metadata": {},
   "source": [
    "(2)$x^{(4)}+x=2e^t,x(0)=x'(0)=x''(0)=x'''(0)=1$\n",
    "\n",
    "解：$对方程两端施行拉普拉斯变换得，s^4X(s)-s^3-s^2-s-1+X(s)=\\frac{2}{s-1}\\\\\n",
    "由此得，X(s)=\\frac{1}{s-1}\\\\\n",
    "故解为：x(t)=e^t$"
   ]
  },
  {
   "cell_type": "markdown",
   "metadata": {
    "collapsed": true
   },
   "source": [
    "# <font color='red'>A  18/11"
   ]
  },
  {
   "cell_type": "code",
   "execution_count": null,
   "metadata": {
    "collapsed": true
   },
   "outputs": [],
   "source": []
  }
 ],
 "metadata": {
  "kernelspec": {
   "display_name": "SageMath 7.3",
   "language": "",
   "name": "sagemath"
  },
  "language_info": {
   "codemirror_mode": {
    "name": "ipython",
    "version": 2
   },
   "file_extension": ".py",
   "mimetype": "text/x-python",
   "name": "python",
   "nbconvert_exporter": "python",
   "pygments_lexer": "ipython2",
   "version": "2.7.10"
  }
 },
 "nbformat": 4,
 "nbformat_minor": 0
}
