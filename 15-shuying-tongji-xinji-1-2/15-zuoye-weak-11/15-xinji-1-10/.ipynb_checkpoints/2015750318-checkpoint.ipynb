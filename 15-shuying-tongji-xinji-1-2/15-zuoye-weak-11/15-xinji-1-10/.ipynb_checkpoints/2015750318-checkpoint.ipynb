{
 "cells": [
  {
   "cell_type": "markdown",
   "metadata": {},
   "source": [
    "P165 2.求解下列常系数微分方程:\n",
    "\n",
    "$(12)x\\prime\\prime+6x\\prime+5x=e^{2t}$;\n",
    "\n",
    "$(14)x\\prime\\prime+x=sin t-cos 2t$;\n",
    "\n",
    "$(16)x\\prime+9x=tsin 3t$."
   ]
  },
  {
   "cell_type": "markdown",
   "metadata": {},
   "source": [
    "解：(12)对应齐次方程的特征方程为$$\\lambda^2+6\\lambda+5=0,$$\n",
    "即得方程的特征根为$\\lambda_1=-1,\\lambda_2.$\n",
    "\n",
    "令方程的一个特解为$\\bar{x}=Ae^{2t}.$代入方程得到\n",
    "$$A=\\frac{1}{21},$$\n",
    "即特解为$x=\\frac{1}{2}e^{2t}.$"
   ]
  },
  {
   "cell_type": "markdown",
   "metadata": {},
   "source": [
    "(14)对应的齐次方程的特征方程为$$\\lambda^2+1=0$$\n",
    "即得特征根为$\\lambda_1=i,\\lambda_2=-i$\n",
    "\n",
    "$1^。对于方程x\\prime\\prime+x=sin t,可设其特解为\\bar{x}=t(Asint+Bcos t),代入方程得到$\n",
    "$$A=0,B=-\\frac{1}{2},$$\n",
    "$即方程x\\prime\\prime+x=sin t的特解为\\bar{x}=-\\frac{1}{2}tcos t.$\n",
    "$2^。对于方程x\\prime\\prime+x=-cos 2t,可设其特解为\\bar{x}=Acos 2t+Bsin 2t,代入方程得到$\n",
    "$$A=\\frac{1}{3},B=0,$$\n",
    "即方程$x\\prime\\prime+x=-cos 2t的一个特解为\\bar{x}=\\frac{1}{3}cos 2t.$\n",
    "\n",
    "于是原方程的通解为$$x=c_1cos t+c_2sin t-\\frac{1}{2}tcos t+\\frac{1}{3}cos 2t.$$"
   ]
  },
  {
   "cell_type": "markdown",
   "metadata": {},
   "source": [
    "(16)对应原方程的特征方程为$$\\lambda^2+9=0,$$\n",
    "即得到特征根为$\\lambda_1=3i,\\lambda_2=-3i.$\n",
    "\n",
    "设方程的一个特解为$\\bar{x}=t[(At+B)cos 3t+(Et+F)sin 3t],代入方程得到$\n",
    "$$A=-\\frac{1}{12},F=\\frac{1}{36},B=E=0,$$\n",
    "即得到方程的一个特解为$$\\bar{x}=-\\frac{1}{12}t^2cos 3t+\\frac{1}{36}tsin 3t,$$\n",
    "所以方程的通解为$$x=c_1cos 3t+x_2sin 3t-\\frac{1}{12}t^2cos 3t+\\frac{1}{36}tsin 3t,$$\n",
    "这里$c_1,c_2$是任意常数."
   ]
  },
  {
   "cell_type": "markdown",
   "metadata": {},
   "source": [
    "4.求下列初值问题的解\n",
    "\n",
    "(1)$x\\prime\\prime+9x=6^{3t},x(0)=x\\prime(0)=0;$\n",
    "\n",
    "(2)$x^{(4)}+x=2e^t,x(0)=x\\prime(0)=x\\prime\\prime(0)=x\\prime\\prime\\prime(0)=1.$"
   ]
  },
  {
   "cell_type": "markdown",
   "metadata": {},
   "source": [
    "解:(1)对方程两边进行拉普拉斯变换得$$(s^2+9)X(s)=\\frac{6}{s-3},$$\n",
    "由此得$X(s)=\\frac{1}{3}[\\frac{1}{s-3}]-\\frac{1}{s^3+9}.$\n",
    "\n",
    "对上式右端；各项分别求出其原函数，则它们的和就是$X(s)$的原函数\n",
    "\n",
    "所以原初值问题的解为$$x(t)=\\frac{1}{3}(e^{3t}-cos 3t-sin 3t),$$"
   ]
  },
  {
   "cell_type": "markdown",
   "metadata": {},
   "source": [
    "(2)对方程两边进行拉普拉斯变换得$$s^4X(s)-s^3-s^2-s-1+X(s)=\\frac{2}{s-1},$$\n",
    "由此得$X(s)=\\frac{1}{s-1}.$\n",
    "\n",
    "$\\because上式右端的原函数为x(t)=e^t,\\therefore X(s)的原函数为x(t)=e^t$\n",
    "$\\therefore 原初值问题的解为x(t)=e^t$"
   ]
  },
  {
   "cell_type": "markdown",
   "metadata": {},
   "source": [
    "# <font color='red'>A  18/11"
   ]
  },
  {
   "cell_type": "code",
   "execution_count": null,
   "metadata": {
    "collapsed": true
   },
   "outputs": [],
   "source": []
  }
 ],
 "metadata": {
  "kernelspec": {
   "display_name": "SageMath 7.3",
   "language": "",
   "name": "sagemath"
  },
  "language_info": {
   "codemirror_mode": {
    "name": "ipython",
    "version": 2
   },
   "file_extension": ".py",
   "mimetype": "text/x-python",
   "name": "python",
   "nbconvert_exporter": "python",
   "pygments_lexer": "ipython2",
   "version": "2.7.10"
  }
 },
 "nbformat": 4,
 "nbformat_minor": 0
}
