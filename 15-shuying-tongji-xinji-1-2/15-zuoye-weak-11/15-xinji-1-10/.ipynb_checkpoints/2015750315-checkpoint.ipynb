{
 "cells": [
  {
   "cell_type": "markdown",
   "metadata": {},
   "source": [
    "1.(1)\n",
    "其特征方程的解为，$ \\lambda = -1,-5 $ 故 通解为\n",
    "\n",
    "$$ x = c_1e^{-1}+c_2e^{-5} $$\n",
    "\n",
    "因为 $ \\lambda =2 $不是特征根 ，故有特解为 $ \\tilde{x} = Ae^{2t} $将它代入原方程得到 $ A = \\frac{1}{21} $ 于是 $ \\tilde{x} =\\frac{1}{21}e^{2t} $ ，从而原方程的通解为 \n",
    "\n",
    "$$ x = c_1e^{-1}+c_2e^{-5}+\\frac{1}{21}e^{2t} $$ , $c_1,c_2$ 为任意常数。\n"
   ]
  },
  {
   "cell_type": "markdown",
   "metadata": {},
   "source": [
    "(2).其特征方程的解为，$ \\lambda = \\pm i $ 故通解为\n",
    "\n",
    "$$\n",
    "x = c_1\\cos t +c_2\\sin t\n",
    "$$\n",
    "\n",
    "① 对于 $ \\sin t $ 有, $ \\lambda = \\pm i $ 是特征根，则有形如 $ \\tilde{x} = t(A\\cos t+B\\sin t) $ 的特解 , 将它代入原方程得到，\n",
    "\n",
    "$$\n",
    "2(A\\cos t-B\\sin t) =\\sin t\n",
    "$$\n",
    "\n",
    "则 $ A=0 ,B= -\\frac{1}{2} $ , 则 $ \\tilde{x} = -\\frac{1}{2}t\\sin t $\n",
    "\n",
    "② 对于 $ -\\cos 2t $ 有 ， $ \\lambda = \\pm i $ 不是特征根， 则有形如 $ \\tilde{x} = A\\cos 2t +B\\sin 2t $的特解 ，将它代入原方程得到，\n",
    "\n",
    "$$-3A\\cos 2t -3B\\sin 2t = -\\cos 2t $$ ，得到 $ A = \\frac{1}{3} ,B =0 $ ， 则 $ \\tilde{x} = \\frac{1}{3}\\cos 2t $ \n",
    "\n",
    "综上，得原方程通解为， \n",
    "\n",
    "$$ x= c_1\\cos t+c_2\\sin t- \\frac{1}{2}t\\sin t +\\frac{1}{3}\\cos 2t $$ ,$ c_1 ,c_2 $ 为任意常数。"
   ]
  },
  {
   "cell_type": "markdown",
   "metadata": {},
   "source": [
    "(3).其特征方程的解为，$ \\lambda = \\pm 3i $  故通解为\n",
    "\n",
    "$$\n",
    "x = c_1\\cos 3t +c_2 \\sin 3t \n",
    "$$ \n",
    "\n",
    " $ \\lambda = \\pm 3i $ 是特征根，故方程的特解为  $ \\tilde{x} =  t[(At+B)\\cos 3t +(Ct+D)\\sin 3t] $,代入原方程得到，\n",
    " \n",
    " $ A =-\\frac{1}{12},D =\\frac{1}{36},B=C=0 $  则方程的特解为 ，\n",
    " \n",
    " $$ \\tilde{x} = -\\frac{1}{12}t^2 \\cos 3t +\\frac{1}{36} \\sin 3t $$\n",
    " \n",
    " 所以原方程的通解为， \n",
    " \n",
    " $$x = c_1\\cos 3t +c_2 \\sin 3t -\\frac{1}{12}t^2 \\cos 3t +\\frac{1}{36} \\sin 3t $$ , $ c_1,c_2 $ 为任意常数。"
   ]
  },
  {
   "cell_type": "markdown",
   "metadata": {
    "collapsed": true
   },
   "source": [
    "2.\n",
    "(1).\n",
    "对方程两边做拉普拉斯变换，得到方程的解的像函数所应满足的方程\n",
    "\n",
    "$$\n",
    "(s^2+9)X(s) = \\frac{6}{s-3}\n",
    "$$,得到\n",
    "\n",
    "$$\n",
    "X(s) = \\frac{6}{(s^2+9)(s-3)}\n",
    "$$\n",
    "\n",
    "拆分后得到，\n",
    "\n",
    "$$\n",
    "X(s) = \\frac{1}{3}(\\frac{1}{s-3}-\\frac{s}{s^2+9})-\\frac{1}{s^2+9}\n",
    "$$,由拉普拉斯变化表得，\n",
    "\n",
    "$$\n",
    "x(t) = \\frac{1}{3}e^{3t} - \\frac{1}{3}\\cos 3t - \\frac{1}{3}\\sin 3t\n",
    "$$"
   ]
  },
  {
   "cell_type": "markdown",
   "metadata": {},
   "source": [
    "(2).\n",
    "对方程两边做拉普拉斯变换，得到方程的解的像函数所应满足的方程\n",
    "\n",
    "$$\n",
    "s^4X(s)-s^3-s^2-s-1+X(s) =\\frac{2}{s-1}\n",
    "$$,化解得，\n",
    "\n",
    "$$\n",
    "(s^4+1)X(s) = \\frac{s^4+1}{s-1}\n",
    "$$\n",
    "\n",
    "即\n",
    "\n",
    "$$\n",
    "X(s) = \\frac{1}{s-1}\n",
    "$$,由拉普拉斯变换表得\n",
    "\n",
    "$$\n",
    "x(t) = e^t\n",
    "$$即为解。"
   ]
  },
  {
   "cell_type": "markdown",
   "metadata": {
    "collapsed": true
   },
   "source": [
    "# <font color='red'>A  18/11"
   ]
  },
  {
   "cell_type": "code",
   "execution_count": null,
   "metadata": {
    "collapsed": true
   },
   "outputs": [],
   "source": []
  }
 ],
 "metadata": {
  "kernelspec": {
   "display_name": "SageMath 7.3",
   "language": "",
   "name": "sagemath"
  },
  "language_info": {
   "codemirror_mode": {
    "name": "ipython",
    "version": 2
   },
   "file_extension": ".py",
   "mimetype": "text/x-python",
   "name": "python",
   "nbconvert_exporter": "python",
   "pygments_lexer": "ipython2",
   "version": "2.7.10"
  }
 },
 "nbformat": 4,
 "nbformat_minor": 0
}
