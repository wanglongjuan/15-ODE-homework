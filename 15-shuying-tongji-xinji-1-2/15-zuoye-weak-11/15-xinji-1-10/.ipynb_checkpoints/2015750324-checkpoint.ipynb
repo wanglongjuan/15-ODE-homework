{
 "cells": [
  {
   "cell_type": "markdown",
   "metadata": {},
   "source": [
    "2.求解下列常系数线性微分方程：\n",
    "\n",
    "（12）$x''+6x'+5x=e^{2t}$\n",
    "\n",
    "（14）$x''+x=\\sin t-\\cos 2t$\n",
    "\n",
    "（16）$x''+9x=t\\sin 3t$"
   ]
  },
  {
   "cell_type": "markdown",
   "metadata": {},
   "source": [
    "（12）\n",
    "\n",
    "解：\n",
    "\n",
    "对应齐次方程的特征方程为$$\\lambda^2+6\\lambda+5=0$$\n",
    "\n",
    "可得特征根为$$\\lambda_1=-1,\\lambda_2=-5$$\n",
    "\n",
    "令方程的一个特解为$\\overline{x}=Ae^{2t}$，代入得到：\n",
    "$$A=\\frac{1}{21}$$\n",
    "\n",
    "即特解为$$\\overline{x}=\\frac{1}{21}e^{2t}$$\n",
    "\n",
    "得到通解$$x=c_1e^{-t}+c_2e^{-5t}+\\frac{1}{21}e^{2t}$$"
   ]
  },
  {
   "cell_type": "markdown",
   "metadata": {},
   "source": [
    "（14）\n",
    "\n",
    "解：\n",
    "\n",
    "对应的齐次方程的特征方程为$$\\lambda^2+1=0$$\n",
    "\n",
    "可得特征根为$$\\lambda_1=i,\\lambda_2=-i$$\n",
    "\n",
    "①对于方程$x''+x=\\sin t$:\n",
    "\n",
    "令方程的一个特解为$\\overline{x}=t(A\\sin t+B\\cos t)$，代入得到：\n",
    "$$A=0,B=-\\frac12$$\n",
    "\n",
    "即特解为$$\\overline{x}=-\\frac12t\\cos t$$\n",
    "\n",
    "②对于方程$x''+x=-\\cos 2t$:\n",
    "\n",
    "令方程的一个特解为$\\overline{x}=A\\cos 2t+B\\sin 2t$，代入得到：\n",
    "$$A=\\frac13,B=0$$\n",
    "\n",
    "即特解为$$\\overline{x}=\\frac13t\\cos 2t$$\n",
    "\n",
    "得到原方程的通解$$x=c_1\\cos t+c_2\\sin t-\\frac12t\\cos t+\\frac13t\\cos 2t$$"
   ]
  },
  {
   "cell_type": "markdown",
   "metadata": {},
   "source": [
    "（16）\n",
    "\n",
    "解：\n",
    "\n",
    "对应齐次方程的特征方程为$$\\lambda^2+9=0$$\n",
    "\n",
    "可得特征根为$$\\lambda_1=3i,\\lambda_2=-3i$$\n",
    "\n",
    "令方程的一个特解为$\\overline{x}=t[(At+B)\\cos 3t+(Ct+D)\\sin 3t]$，代入得到：\n",
    "$$A=-\\frac{1}{12},B=0,C=0,D=\\frac{1}{36}$$\n",
    "\n",
    "即特解为$$\\overline{x}=-\\frac{1}{12}t^2\\cos 3t+\\frac{1}{36}t\\sin 3t$$\n",
    "\n",
    "得到通解$$x=c_1\\cos 3t+c_2\\sin 3t-\\frac{1}{12}t^2\\cos 3t+\\frac{1}{36}t\\sin 3t$$"
   ]
  },
  {
   "cell_type": "markdown",
   "metadata": {},
   "source": [
    "4.求下组初值问题的解：\n",
    "\n",
    "（1）$x''+9x=6e^{3t},x(0)=x'(0)=0$\n",
    "\n",
    "（2）$x^{(4)}+x=2e^t,x(0)=x'(0)=x''(0)=x'''(0)=0$"
   ]
  },
  {
   "cell_type": "markdown",
   "metadata": {},
   "source": [
    "（1）\n",
    "\n",
    "解：\n",
    "\n",
    "对方程两边用拉普拉斯变换得$$(s^2+9)X(s)=\\frac{6}{s-3}$$\n",
    "\n",
    "可得$$X(s)=\\frac13[\\frac{1}{s-3}-\\frac{s}{s^2+9}]-\\frac{1}{s^2+9}$$\n",
    "\n",
    "得到其原函数$$x(t)=\\frac13(e^{3t}-\\cos 3t-\\sin 3t)$$\n",
    "\n",
    "即为所求的解."
   ]
  },
  {
   "cell_type": "markdown",
   "metadata": {},
   "source": [
    "（2）\n",
    "\n",
    "解：\n",
    "\n",
    "对方程两边用拉普拉斯变换得$$是s^4X(s)-s^3-s^2-s-1+X(s)=\\frac{2}{s-1}$$\n",
    "\n",
    "可得$$X(s)=\\frac{1}{s-1}$$\n",
    "\n",
    "得到其原函数$$x(t)=e^t$$\n",
    "\n",
    "即为所求的解."
   ]
  },
  {
   "cell_type": "markdown",
   "metadata": {
    "collapsed": true
   },
   "source": [
    "# <font color='red'>A  18/11"
   ]
  },
  {
   "cell_type": "code",
   "execution_count": null,
   "metadata": {
    "collapsed": true
   },
   "outputs": [],
   "source": []
  }
 ],
 "metadata": {
  "kernelspec": {
   "display_name": "SageMath 7.3",
   "language": "",
   "name": "sagemath"
  },
  "language_info": {
   "codemirror_mode": {
    "name": "ipython",
    "version": 2
   },
   "file_extension": ".py",
   "mimetype": "text/x-python",
   "name": "python",
   "nbconvert_exporter": "python",
   "pygments_lexer": "ipython2",
   "version": "2.7.10"
  }
 },
 "nbformat": 4,
 "nbformat_minor": 0
}
