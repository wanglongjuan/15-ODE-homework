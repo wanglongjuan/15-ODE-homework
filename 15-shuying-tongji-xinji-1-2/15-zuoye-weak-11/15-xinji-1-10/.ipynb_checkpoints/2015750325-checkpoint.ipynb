{
 "cells": [
  {
   "cell_type": "markdown",
   "metadata": {},
   "source": [
    "焦畅  2015750325"
   ]
  },
  {
   "cell_type": "markdown",
   "metadata": {},
   "source": [
    "4.2   \n",
    "2（12）\n",
    "对应齐次方程的特征方程为\n",
    "$$\\lambda^2=6\\lambda +5=0$$\n",
    "$即得特征根为\\lambda_1=-1,\\lambda_2=-5$\n",
    "\n",
    "令方程的一个特解为 $\\overline{x}=Ae^{2t} $代入方程得到$A=\\frac {1}{21}$\n",
    "\n",
    "故通解为$x= c_1e^{-t}+c_2e^{-5t}+\\frac {1}{21}e^{2t}$\n",
    "\n",
    "$这里c_1,c_2是任意常数$"
   ]
  },
  {
   "cell_type": "markdown",
   "metadata": {},
   "source": [
    "（14）\n",
    "对应齐次方程的特征方程为\n",
    "$$\\lambda^2+1=0$$\n",
    "$及特征根为\\lambda_1=i,\\lambda_2=-i$\n",
    "\n",
    "$对于方程x''+x=sint,可以设其特解为\\overline{x}=t(Asint+Bcost),代入方程得到$\n",
    "$$A=0.B=-\\frac{1}{2}$$\n",
    "$即方程x''+x=sint.的一个特解为\\overline{x}=-\\frac{1}{2}tcost$\n",
    "\n",
    "$对于方程x''+x=-cos2t,可以设其特解为\\overline{x}=Acos2t+Bsin2t,代入方程得到$\n",
    "$$A=\\frac{1}{3},B=0$$\n",
    "$即方程x''+x=-cos2t的一个特解为\\overline{x}=\\frac{1}{3}cos2t$\n",
    "\n",
    "$于是原方程的通解为x=c_1cost+c_2sint-\\frac{1}{2}tcost+\\frac{1}{3}cos2t$\n",
    "\n",
    "$这里c_1,c_2是任意常数$"
   ]
  },
  {
   "cell_type": "markdown",
   "metadata": {},
   "source": [
    "(16)\n",
    "对应齐次方程的特征方程为\n",
    "$$\\lambda^2+9=0$$\n",
    "$及特征根为\\lambda_1=3i,\\lambda_2=-3i$\n",
    "\n",
    "$设方程的一个特解为\\overline{x}=t[(At+B)cos3t+(Et+F)sin3t]代入方程得到$\n",
    "$$A=-\\frac{1}{12}，F=\\frac{1}{36},B=E=0$$\n",
    "$即方程的一个特解为\\overline{x}=-\\frac{1}{12}t^2cos3t+\\frac{1}{36}tsin3t$\n",
    "\n",
    "$于是原方程的通解为x=c_1cos3t+c_2sin3t-\\frac{1}{12}t^2cos3t+\\frac{1}{36}tsin3t$\n",
    "\n",
    "$这里c_1,c_2是任意常数$"
   ]
  },
  {
   "cell_type": "markdown",
   "metadata": {},
   "source": [
    "4(1)对方程两边进行拉普拉斯变换得\n",
    "$$(s^2+9)X(s)=\\frac{6}{s-3}$$\n",
    "由此得$$X(s)=\\frac{1}{3}[\\frac{1}{s-3}-\\frac{s}{s^2+9}]-\\frac{1}{s^2+9}$$\n",
    "对上式右端各项分别求出其原函数，则它们的和就是X(s)的原函数\n",
    "$$x(t)=\\frac{1}{3}(e^{3t}-cos3t-sin3t)$$\n",
    "这就是所要求的解。"
   ]
  },
  {
   "cell_type": "markdown",
   "metadata": {},
   "source": [
    "(2)对方程两边进行拉普拉斯变换得\n",
    "$$s^4X(s)-s^3-s^2-s-1+X(s)=\\frac{2}{s-1}$$\n",
    "由此得$$X(s)=\\frac{1}{s-1}$$\n",
    "对上式右端各项分别求出其原函数，则X(s)的原函数为\n",
    "$$x(t)=e^t$$\n",
    "这就是所要求的解。"
   ]
  },
  {
   "cell_type": "markdown",
   "metadata": {},
   "source": [
    "# <font color='red'>A  18/11"
   ]
  },
  {
   "cell_type": "code",
   "execution_count": null,
   "metadata": {
    "collapsed": true
   },
   "outputs": [],
   "source": []
  }
 ],
 "metadata": {
  "kernelspec": {
   "display_name": "SageMath 7.3",
   "language": "",
   "name": "sagemath"
  },
  "language_info": {
   "codemirror_mode": {
    "name": "ipython",
    "version": 2
   },
   "file_extension": ".py",
   "mimetype": "text/x-python",
   "name": "python",
   "nbconvert_exporter": "python",
   "pygments_lexer": "ipython2",
   "version": "2.7.10"
  }
 },
 "nbformat": 4,
 "nbformat_minor": 0
}
