{
 "cells": [
  {
   "cell_type": "markdown",
   "metadata": {},
   "source": [
    "1.求解下列常系数线性微分方程"
   ]
  },
  {
   "cell_type": "markdown",
   "metadata": {},
   "source": [
    "（12）$x''+6x'+5x=e^{2t}$"
   ]
  },
  {
   "cell_type": "markdown",
   "metadata": {},
   "source": [
    "解：特征方程$\\lambda^2+6\\lambda+5=0$有两个根：$$\\lambda_1=-1,\\lambda_2=-5$$\n",
    "对应齐次方程的通解$$x=c_1e^{-t}+c_2e^{-5t}$$\n",
    "再求非齐次线性微分方程的一个特解，这里$$f(t)=e^{2t},\\lambda =2\\neq0$$\n",
    "令方程的一个特解为$$\\overline x=Ae^{2t}$$\n",
    "代入方程得$$4Ae^{2t}+12Ae^{2t}+5Ae^{2t}=21Ae^{2t}=e^{2t}$$\n",
    "即得$$A=\\frac{1}{21}$$\n",
    "从而特解为$$\\overline x=\\frac{1}{21}e^{2t}$$\n",
    "通解为$$x=c_1e^{-t}+c_2e^{-5t}+\\frac{1}{21}e^{2t}$$"
   ]
  },
  {
   "cell_type": "markdown",
   "metadata": {},
   "source": [
    "(14)$x''+x=sint-cos2t$"
   ]
  },
  {
   "cell_type": "markdown",
   "metadata": {},
   "source": [
    "解：对应的齐次方程的特征方程为$$\\lambda^2+1=0$$\n",
    "特征根$$\\lambda_1=i,\\lambda_2=-i$$\n",
    "对于方程$x''+x=sint$,设其特解为$\\overline x=t(Asint+Bcost)$\n",
    "代入方程得$$A=0,B=-\\frac{1}{2}$$\n",
    "即方程$x''+x=sint$特解为$$\\overline x=-\\frac{1}{2}tcost$$\n",
    "对于方程$x''+x=-cos2t$,设其特解为$\\overline x=Acos2t+Bsin2t$\n",
    "代入方程得$$A=\\frac{1}{3},B=0$$\n",
    "即方程$x''+x=-cos2t$特解为$$\\overline x=\\frac{1}{3}cos2t$$\n",
    "故通解为$$x=c_1cost+c_2sint-\\frac{1}{2}tcost+\\frac{1}{3}cos2t$$"
   ]
  },
  {
   "cell_type": "markdown",
   "metadata": {},
   "source": [
    "(16)$x''+9x=tsin3t$"
   ]
  },
  {
   "cell_type": "markdown",
   "metadata": {},
   "source": [
    "解：对应齐次方程的特征方程为$$\\lambda^2+9=0$$\n",
    "特征根为：$$\\lambda_1=3i,\\lambda_2=-3i$$\n",
    "设方程的一个特解为$$\\overline x=t[(At+B)cos3t+(Ct+D)sin3t]$$\n",
    "代入方程得$$A=-\\frac{1}{12},B=C=0,D=\\frac{1}{36}$$\n",
    "即方程的一个特解为$$\\overline x=-\\frac{1}{12}t^2cos3t+\\frac{1}{36}tsin3t$$\n",
    "故方程的通解为$$x=c_1cos3t+c_2sin3t-\\frac{1}{12}t^2cos3t+\\frac{1}{36}tsin3t$$"
   ]
  },
  {
   "cell_type": "markdown",
   "metadata": {},
   "source": [
    "2.求下组初值问题的解："
   ]
  },
  {
   "cell_type": "markdown",
   "metadata": {},
   "source": [
    "(1)$x''+9x=6e^{3t},x(0)=x'(0)=0$"
   ]
  },
  {
   "cell_type": "markdown",
   "metadata": {},
   "source": [
    "解:对方程两边进行拉普拉斯变换得$$（s^2+9）X(s)=\\frac{6}{s-3}$$\n",
    "即$$X(s)=\\frac{1}{3}\\big[\\frac{1}{s-3}-\\frac{s}{s^2+9}\\big]-\\frac{1}{s^3+9}$$\n",
    "查表得各项原函数，则它们的和即为X(s)的原函数\n",
    "即解为$$x(t)=\\frac{1}{3}(e^{3t}-cos3t-sin3t)$$"
   ]
  },
  {
   "cell_type": "markdown",
   "metadata": {},
   "source": [
    "(2)$x^{(4)}+x=2e^t,x(0)=x'(0)=x''(0)=x'''(0)=1$"
   ]
  },
  {
   "cell_type": "markdown",
   "metadata": {},
   "source": [
    "解:对方程两边进行拉普拉斯变换得$$s^4X(s)-s^3-s^2-s-1+X(s)=\\frac{2}{s-1}$$\n",
    "即$$X（s）=\\frac{1}{s-1}$$\n",
    "查表得各项原函数，则它们的和即为X(S)的原函数\n",
    "即解为$$x(t)=e^{t}$$"
   ]
  },
  {
   "cell_type": "markdown",
   "metadata": {},
   "source": [
    "# <font color='red'>A  18/11"
   ]
  },
  {
   "cell_type": "code",
   "execution_count": null,
   "metadata": {
    "collapsed": true
   },
   "outputs": [],
   "source": []
  }
 ],
 "metadata": {
  "kernelspec": {
   "display_name": "SageMath 7.3",
   "language": "",
   "name": "sagemath"
  },
  "language_info": {
   "codemirror_mode": {
    "name": "ipython",
    "version": 2
   },
   "file_extension": ".py",
   "mimetype": "text/x-python",
   "name": "python",
   "nbconvert_exporter": "python",
   "pygments_lexer": "ipython2",
   "version": "2.7.10"
  }
 },
 "nbformat": 4,
 "nbformat_minor": 0
}
