{
 "cells": [
  {
   "cell_type": "markdown",
   "metadata": {},
   "source": [
    "# 1、$x''+6x'+5x=e^{2t}$"
   ]
  },
  {
   "cell_type": "markdown",
   "metadata": {},
   "source": [
    "解：对应齐次线性微分方程的特征方程为\n",
    "$$\\lambda^2+6\\lambda+5=0$$\n",
    "解得特征根为$\\lambda_1=-1,\\lambda_2=-5.$\n",
    "\n",
    "因此，通解为$x=c_1e^{-t}+c_2e^{-5t},$其中$c_1,c_2$为任意常数\n",
    "\n",
    "故有特解形如$\\overline x=Ae^{2t},$代入方程得\n",
    "$$A=\\frac{1}{21}$$\n",
    "所以得\n",
    "$$\\overline x=\\frac{1}{21}e^{2t}$$\n",
    "所以原方程的通解为\n",
    "$$x=c_1e^{-t}+c_2e^{-5t}+\\frac{1}{21}e^{2t}$$\n"
   ]
  },
  {
   "cell_type": "markdown",
   "metadata": {},
   "source": [
    "# 2、$x''+x=\\sin t-\\cos 2t$"
   ]
  },
  {
   "cell_type": "markdown",
   "metadata": {},
   "source": [
    "解：对应齐次线性微分方程的特征方程为\n",
    "$$\\lambda^2+1=0$$\n",
    "解得特征根为$\\lambda_1=i,\\lambda_2=-i$\n",
    "\n",
    "所以通解为\n",
    "$$x=c_1\\cos t+c_2\\sin t$$\n",
    "(1)$x''+x=\\sin t,$设其特解为$\\overline x=t(A\\sin t+B\\cos t),$代入得\n",
    "$$A=0,B=-\\frac{1}{2}$$\n",
    "所以得特解\n",
    "$$\\overline x=-\\frac{t\\cos t}{2}$$\n",
    "(2)$x''+x=-\\cos 2t,$设其特解为$\\overline x=(A\\sin 2t+B\\cos 2t),$代入得\n",
    "$$A=0,B=\\frac{1}{3}$$\n",
    "所以得特解\n",
    "$$\\overline x=\\frac{\\cos 2t}{3}$$\n",
    "所以原方程通解为\n",
    "$$x=c_1\\cos t+c_2\\sin t-\\frac{t\\cos t}{2}+\\frac{\\cos 2t}{3}$$"
   ]
  },
  {
   "cell_type": "markdown",
   "metadata": {},
   "source": [
    "# 3、$x''+9x=t\\sin 3t$"
   ]
  },
  {
   "cell_type": "markdown",
   "metadata": {},
   "source": [
    "解：对应齐次线性微分方程的特征方程为\n",
    "$$\\lambda^2+9=0$$\n",
    "解得特征根为$\\lambda_1=3i,\\lambda_2=-3i$\n",
    "\n",
    "所以通解为\n",
    "$$x=c_1\\cos 3t+c_2\\sin 3t$$\n",
    "(1)$x''+x=\\sin t,$设其特解为$\\overline x=t[(At+B)\\sin 3t+(Et+F)\\cos 3t)],$代入得\n",
    "$$A=\\frac{1}{36},B=E=0,F=-\\frac{1}{12}$$\n",
    "所以得特解\n",
    "$$\\overline x=-\\frac{1}{12}t^2\\cos 3t+\\frac{1}{36}t\\sin 3t$$\n",
    "所以原方程通解为\n",
    "$$x=c_1\\cos 3t+c_2\\sin 3t-\\frac{1}{12}t^2\\cos 3t+\\frac{1}{36}t\\sin 3t$$"
   ]
  },
  {
   "cell_type": "markdown",
   "metadata": {},
   "source": [
    "# 4、求下列方程的通解"
   ]
  },
  {
   "cell_type": "markdown",
   "metadata": {},
   "source": [
    "## （1）、$x''+9x=6e^{3t},x(0)=x'(0)=0$"
   ]
  },
  {
   "cell_type": "markdown",
   "metadata": {},
   "source": [
    "解：对方程两边施行拉普拉斯变换，得到方程的解的像函数所应满足的方程\n",
    "$$\n",
    "s^2X(s)-sx_0+9X(s)=\\frac{6}{s-3}\n",
    "$$\n",
    "即\n",
    "$$\n",
    "(s^2+9)X(s)=\\frac{6}{s-3}\n",
    "$$\n",
    "解得$X(s)=\\frac{1}{3}[\\frac{1}{s-3}-\\frac{s}{s^2+9}]-\\frac{1}{s^2+9}$\n",
    "\n",
    "所以解为\n",
    "$$\n",
    "x(t)=\\frac{1}{3}(e^{3t}-\\cos3t=\\sin3t)\n",
    "$$"
   ]
  },
  {
   "cell_type": "markdown",
   "metadata": {},
   "source": [
    "## （2）、$x^{(4)}+x=2e^t,x(0)=x'(0)=x''(0)=x'''(0)=1$"
   ]
  },
  {
   "cell_type": "markdown",
   "metadata": {},
   "source": [
    "解：解：对方程两边施行拉普拉斯变换，得到方程的解的像函数所应满足的方程\n",
    "$$\n",
    "s^4X(s)-s^3x_0-s^2x_0'-sx_0''-x_0'''+X(s)=\\frac{2}{s-1}\n",
    "$$\n",
    "即\n",
    "$$\n",
    "(s^4+1)X(s)-s^3-s^2-s-1=\\frac{2}{s-1}\n",
    "$$\n",
    "解得$X(s)=\\frac{1}{s-1}$\n",
    "\n",
    "所以解为\n",
    "$$\n",
    "x(t)=e^t\n",
    "$$"
   ]
  },
  {
   "cell_type": "markdown",
   "metadata": {
    "collapsed": true
   },
   "source": [
    "# <font color='red'>A  18/11"
   ]
  },
  {
   "cell_type": "code",
   "execution_count": null,
   "metadata": {
    "collapsed": true
   },
   "outputs": [],
   "source": []
  }
 ],
 "metadata": {
  "kernelspec": {
   "display_name": "SageMath 7.3",
   "language": "",
   "name": "sagemath"
  },
  "language_info": {
   "codemirror_mode": {
    "name": "ipython",
    "version": 2
   },
   "file_extension": ".py",
   "mimetype": "text/x-python",
   "name": "python",
   "nbconvert_exporter": "python",
   "pygments_lexer": "ipython2",
   "version": "2.7.10"
  }
 },
 "nbformat": 4,
 "nbformat_minor": 0
}
