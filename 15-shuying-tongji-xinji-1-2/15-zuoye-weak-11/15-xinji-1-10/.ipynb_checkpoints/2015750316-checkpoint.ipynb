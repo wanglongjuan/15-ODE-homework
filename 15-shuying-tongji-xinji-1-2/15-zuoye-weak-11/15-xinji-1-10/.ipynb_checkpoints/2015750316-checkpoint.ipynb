{
 "cells": [
  {
   "cell_type": "markdown",
   "metadata": {},
   "source": [
    "1.求解下列常系数线性微分方程："
   ]
  },
  {
   "cell_type": "markdown",
   "metadata": {},
   "source": [
    "（1）$x''+6x'+5x=\\mathrm e ^{2t}$"
   ]
  },
  {
   "cell_type": "markdown",
   "metadata": {},
   "source": [
    "解：先解$x''+6x'+5x=0$\n",
    "$$\\lambda^2+6\\lambda+5=0$$,则\n",
    "$$\\lambda_1=-1,\\lambda_2=-5$$\n",
    "$$x=c_1\\mathrm e^{-t}+c_2\\mathrm e^{-5t} (c_1,c_2为常数）$$\n",
    "现求特解，$\\widetilde{x}=A\\mathrm e^{2t}$代入原方程得：\n",
    "$$A=\\frac{1}{21}$$则，$\\widetilde{x}=\\frac{1}{21}\\mathrm e ^{2t}$\n",
    "原方程解为：$x=c_1\\mathrm e ^{-2t}+c_2\\mathrm e ^{-3t}+\\frac{1}{21}\\mathrm e ^{2t}$"
   ]
  },
  {
   "cell_type": "markdown",
   "metadata": {},
   "source": [
    "(2)$x''+x=\\sin t-\\cos 2t$"
   ]
  },
  {
   "cell_type": "markdown",
   "metadata": {},
   "source": [
    "解：$$x''+x=0$$\n",
    "$$\\lambda^2+1=1$$得：\n",
    "$$\\lambda_1=\\mathrm i,\\lambda_2=-\\mathrm i$$\n",
    "$$x=c_1\\cos t+c_2\\sin t(c_1,c_2为常数$$\n",
    "对$x''+x=\\sin t$求特解,\n",
    "$$\\widetilde{x}=t(A\\cos t+B\\sin t)$$代入原方程得：\n",
    "$$A=-\\frac{1}{2},B=0,\\widetilde{x}=-\\frac{1}{2}t\\cos t$$\n",
    "对$x''+x=-\\cos 2t$求特解\n",
    "$$A=\\frac{1}{3},B=0,\\widetilde{x}=\\frac{1}{3}\\cos 2t$$\n",
    "原方程的解为：$$x=c_1\\cos t+c_2\\sin t-\\frac{1}{2}t\\cos t+\\frac{1}{3}\\cos 2t$$"
   ]
  },
  {
   "cell_type": "markdown",
   "metadata": {},
   "source": [
    "(3)$x''+9x=t\\sin 3t$"
   ]
  },
  {
   "cell_type": "markdown",
   "metadata": {},
   "source": [
    "解：$$x''+9x=0$$\n",
    "$$\\lambda^2+9=0$$\n",
    "$$\\lambda_1=3\\mathrm i,\\lambda_2=-3\\mathrm i$$\n",
    "$$x=c_1\\cos 3t+c_2\\sin 3t (c_1,c_2为常数）$$\n",
    "求特解：\n",
    "$$\\widetilde{x}=t[(At+B)\\cos 3t+Et+F)\\sin 3t]$$代入原方程，得：\n",
    "$$A=-\\frac{1}{12},F=\\frac{1}{36}B=E=0,\\widetilde{x}=-\\frac{1}{12}t^2\\cos 3t+\\frac{1}{36}t\\sin 3t$$\n",
    "原方程的解为：$$x=c_1\\cos 3t +c_2\\sin 3t-\\frac{1}{12}t^2\\cos 3t+\\frac{1}{36}t\\sin 3t$$"
   ]
  },
  {
   "cell_type": "markdown",
   "metadata": {},
   "source": [
    "2.求下组初值问题的解：\n"
   ]
  },
  {
   "cell_type": "markdown",
   "metadata": {},
   "source": [
    "（1）$x''+9x=6\\mathrm e ^{3t},x(0)=x'(0)=0$"
   ]
  },
  {
   "cell_type": "markdown",
   "metadata": {},
   "source": [
    "解：对两边拉普拉斯变换得：\n",
    "$$(s^2+9)X(s)=\\frac{6}{s-3}$$得：\n",
    "$$X(s)=\\frac{1}{3}(\\frac{1}{s-3}-\\frac{s}{s^2+9})-\\frac{1}{s^2+9}$$\n",
    "拉普拉斯反变换得：\n",
    "$$x(t)=\\frac{1}{3}\\mathrm e ^{3t}-\\frac{1}{3}\\cos 3t -\\frac{1}{3}\\sin 3t$$"
   ]
  },
  {
   "cell_type": "markdown",
   "metadata": {},
   "source": [
    "(2)$x^{(4)}+x=2\\mathrm e ^t,x(0)=x'(0)=x''(0)=x'''(0)=1$"
   ]
  },
  {
   "cell_type": "markdown",
   "metadata": {},
   "source": [
    "解：对方程两边拉普拉斯变换得：\n",
    "$$s^4X(s)-s^3-s^2-s-1+X(s)=\\frac{2}{s-1}$$\n",
    "又此得：\n",
    "$$X(s)=\\frac{1}{s-1}$$\n",
    "拉普拉斯反变换得：$$x(t)=\\mathrm e ^t$$"
   ]
  },
  {
   "cell_type": "markdown",
   "metadata": {
    "collapsed": true
   },
   "source": [
    "# <font color='red'>A  18/11"
   ]
  },
  {
   "cell_type": "code",
   "execution_count": null,
   "metadata": {
    "collapsed": true
   },
   "outputs": [],
   "source": []
  }
 ],
 "metadata": {
  "kernelspec": {
   "display_name": "SageMath 7.3",
   "language": "",
   "name": "sagemath"
  },
  "language_info": {
   "codemirror_mode": {
    "name": "ipython",
    "version": 2
   },
   "file_extension": ".py",
   "mimetype": "text/x-python",
   "name": "python",
   "nbconvert_exporter": "python",
   "pygments_lexer": "ipython2",
   "version": "2.7.10"
  }
 },
 "nbformat": 4,
 "nbformat_minor": 0
}
