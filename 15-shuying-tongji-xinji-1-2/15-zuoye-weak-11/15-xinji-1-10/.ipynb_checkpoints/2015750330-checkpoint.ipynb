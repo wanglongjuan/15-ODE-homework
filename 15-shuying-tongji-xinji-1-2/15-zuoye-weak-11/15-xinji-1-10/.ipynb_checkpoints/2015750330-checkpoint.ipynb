{
 "cells": [
  {
   "cell_type": "markdown",
   "metadata": {},
   "source": [
    "1.求解下列常系数线性微分方程"
   ]
  },
  {
   "cell_type": "markdown",
   "metadata": {},
   "source": [
    "(1)$x''+6x'+5x=e^{2t}$"
   ]
  },
  {
   "cell_type": "markdown",
   "metadata": {},
   "source": [
    "解：特征方程$\\lambda^2+6\\lambda+5=0$有两个根：$$\\lambda_1=-1,\\lambda_2=-5$$"
   ]
  },
  {
   "cell_type": "markdown",
   "metadata": {},
   "source": [
    "对应齐次方程的通解$$x=c_1e^{-t}+c_2e^{-5t}$$"
   ]
  },
  {
   "cell_type": "markdown",
   "metadata": {},
   "source": [
    "再求非齐次线性微分方程的一个特解，这里$$f(t)=e^{2t},\\lambda =2\\neq0$$"
   ]
  },
  {
   "cell_type": "markdown",
   "metadata": {},
   "source": [
    "令方程的一个特解为$$\\overline x=Ae^{2t}$$"
   ]
  },
  {
   "cell_type": "markdown",
   "metadata": {},
   "source": [
    "代入方程得$$4Ae^{2t}+12Ae^{2t}+5Ae^{2t}=21Ae^{2t}=e^{2t}$$"
   ]
  },
  {
   "cell_type": "markdown",
   "metadata": {},
   "source": [
    "即得$$A=\\frac{1}{21}$$"
   ]
  },
  {
   "cell_type": "markdown",
   "metadata": {},
   "source": [
    "从而特解为$$\\overline x=\\frac{1}{21}e^{2t}$$"
   ]
  },
  {
   "cell_type": "markdown",
   "metadata": {},
   "source": [
    "通解为$$x=c_1e^{-t}+c_2e^{-5t}+\\frac{1}{21}e^{2t}$$"
   ]
  },
  {
   "cell_type": "markdown",
   "metadata": {},
   "source": [
    "(2)$x''+x=\\sin t-\\cos 2t$"
   ]
  },
  {
   "cell_type": "markdown",
   "metadata": {},
   "source": [
    "解：对应的齐次方程的特征方程为$$\\lambda^2+1=0$$"
   ]
  },
  {
   "cell_type": "markdown",
   "metadata": {},
   "source": [
    "特征根$$\\lambda_1=i,\\lambda_2=-i$$"
   ]
  },
  {
   "cell_type": "markdown",
   "metadata": {},
   "source": [
    "对于方程$x''+x=sint$,设其特解为$\\overline x=t(Asint+Bcost)$"
   ]
  },
  {
   "cell_type": "markdown",
   "metadata": {},
   "source": [
    "代入方程得$$A=0,B=-\\frac{1}{2}$$"
   ]
  },
  {
   "cell_type": "markdown",
   "metadata": {},
   "source": [
    "即方程$x''+x=sint$特解为$$\\overline x=-\\frac{1}{2}tcost$$"
   ]
  },
  {
   "cell_type": "markdown",
   "metadata": {},
   "source": [
    "对于方程$x''+x=-cos2t$,设其特解为$\\overline x=Acos2t+Bsin2t$"
   ]
  },
  {
   "cell_type": "markdown",
   "metadata": {},
   "source": [
    "代入方程得$$A=\\frac{1}{3},B=0$$"
   ]
  },
  {
   "cell_type": "markdown",
   "metadata": {},
   "source": [
    "即方程$x''+x=-cos2t$特解为$$\\overline x=\\frac{1}{3}cos2t$$"
   ]
  },
  {
   "cell_type": "markdown",
   "metadata": {},
   "source": [
    "故通解为$$x=c_1cost+c_2sint-\\frac{1}{2}tcost+\\frac{1}{3}cos2t$$"
   ]
  },
  {
   "cell_type": "markdown",
   "metadata": {},
   "source": [
    "(3)$x''+9x=t\\sin 3t$"
   ]
  },
  {
   "cell_type": "markdown",
   "metadata": {},
   "source": [
    "解：对应齐次方程的特征方程为$$\\lambda^2+9=0$$"
   ]
  },
  {
   "cell_type": "markdown",
   "metadata": {},
   "source": [
    "特征根为：$$\\lambda_1=3i,\\lambda_2=-3i$$"
   ]
  },
  {
   "cell_type": "markdown",
   "metadata": {},
   "source": [
    "设方程的一个特解为$$\\overline x=t[(At+B)cos3t+(Ct+D)sin3t]$$"
   ]
  },
  {
   "cell_type": "markdown",
   "metadata": {},
   "source": [
    "代入方程得$$A=-\\frac{1}{12},B=C=0,D=\\frac{1}{36}$$"
   ]
  },
  {
   "cell_type": "markdown",
   "metadata": {},
   "source": [
    "即方程的一个特解为$$\\overline x=-\\frac{1}{12}t^2cos3t+\\frac{1}{36}tsin3t$$"
   ]
  },
  {
   "cell_type": "markdown",
   "metadata": {},
   "source": [
    "故方程的通解为$$x=c_1cos3t+c_2sin3t-\\frac{1}{12}t^2cos3t+\\frac{1}{36}tsin3t$$"
   ]
  },
  {
   "cell_type": "markdown",
   "metadata": {},
   "source": [
    "2.求下组初值问题的解"
   ]
  },
  {
   "cell_type": "markdown",
   "metadata": {},
   "source": [
    "(1)$x''+9x=6e^{3t},x(0)=x'(0)=0$"
   ]
  },
  {
   "cell_type": "markdown",
   "metadata": {},
   "source": [
    "解:对方程两边进行拉普拉斯变换得$$（s^2+9）X(s)=\\frac{6}{s-3}$$"
   ]
  },
  {
   "cell_type": "markdown",
   "metadata": {},
   "source": [
    "即$$X(s)=\\frac{1}{3}\\big[\\frac{1}{s-3}-\\frac{s}{s^2+9}\\big]-\\frac{1}{s^3+9}$$"
   ]
  },
  {
   "cell_type": "markdown",
   "metadata": {},
   "source": [
    "查表得各项原函数，则它们的和即为X(s)的原函数"
   ]
  },
  {
   "cell_type": "markdown",
   "metadata": {},
   "source": [
    "即解为$$x(t)=\\frac{1}{3}(e^{3t}-cos3t-sin3t)$$"
   ]
  },
  {
   "cell_type": "markdown",
   "metadata": {},
   "source": [
    "(2)$x^{(4)}+x=2e^t,x(0)=x'(0)=x''(0)=x'''(0)=1$"
   ]
  },
  {
   "cell_type": "markdown",
   "metadata": {},
   "source": [
    "解:对方程两边进行拉普拉斯变换得$$s^4X(s)-s^3-s^2-s-1+X(s)=\\frac{2}{s-1}$$"
   ]
  },
  {
   "cell_type": "markdown",
   "metadata": {},
   "source": [
    "即$$X（s）=\\frac{1}{s-1}$$"
   ]
  },
  {
   "cell_type": "markdown",
   "metadata": {},
   "source": [
    "查表得各项原函数，则它们的和即为X(S)的原函数"
   ]
  },
  {
   "cell_type": "markdown",
   "metadata": {},
   "source": [
    "即解为$$x(t)=e^{t}$$"
   ]
  },
  {
   "cell_type": "markdown",
   "metadata": {},
   "source": [
    "# <font color='red'>A  18/11"
   ]
  },
  {
   "cell_type": "code",
   "execution_count": null,
   "metadata": {
    "collapsed": true
   },
   "outputs": [],
   "source": []
  }
 ],
 "metadata": {
  "kernelspec": {
   "display_name": "SageMath 7.3",
   "language": "",
   "name": "sagemath"
  },
  "language_info": {
   "codemirror_mode": {
    "name": "ipython",
    "version": 2
   },
   "file_extension": ".py",
   "mimetype": "text/x-python",
   "name": "python",
   "nbconvert_exporter": "python",
   "pygments_lexer": "ipython2",
   "version": "2.7.10"
  }
 },
 "nbformat": 4,
 "nbformat_minor": 0
}
