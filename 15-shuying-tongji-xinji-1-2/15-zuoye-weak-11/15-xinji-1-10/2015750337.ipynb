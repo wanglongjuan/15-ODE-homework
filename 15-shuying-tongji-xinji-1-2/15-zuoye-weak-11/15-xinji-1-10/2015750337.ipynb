{
 "cells": [
  {
   "cell_type": "markdown",
   "metadata": {
    "collapsed": false
   },
   "source": [
    "# P165 \n",
    "## 2 \n",
    "### (12) \n",
    "$x^\"+6x'+5x=e^{2t}$\n",
    "解："
   ]
  },
  {
   "cell_type": "markdown",
   "metadata": {},
   "source": [
    "特征方程为：$$\\lambda^2-2\\lambda+3=0$$\n",
    "\n",
    "解得：$\\lambda_1=-1$ $\\lambda_2=-5$\n",
    "\n",
    "可知对应的齐次方程的通解为：$x=c_1e^{-1t}+c_2e^{-5t}$\n",
    "\n",
    "对原式右端 $\\lambda=2$ 并不是特征方程的解 \n",
    "\n",
    "所以可取特解形为：$x=Ae^t$\n",
    "\n",
    "代入原方程有：$A=\\frac{1}{21}$\n",
    "\n",
    "可知 方程通解为：$$x=c_1e^{-1}+c_2e^{-5}+\\frac{1}{21}e^{2t}$$"
   ]
  },
  {
   "cell_type": "markdown",
   "metadata": {},
   "source": [
    "### (14)\n",
    "$x^\"+x=\\sin t-\\cos2t$"
   ]
  },
  {
   "cell_type": "markdown",
   "metadata": {},
   "source": [
    "解：对特征方程$\\lambda^2+1=0$\n",
    "\n",
    "解得：$\\lambda_1=i$ $\\lambda_2=-i$\n",
    "\n",
    "故齐次方程通解为：$x=c_1\\cos t+c_2\\sin t$\n",
    "\n",
    "1)对方程 $x^\"+x=sint$\n",
    "\n",
    "可知右端 $\\lambda=i$ 亦是特征方程的解\n",
    "\n",
    "所以取特解为：$\\overline x =t(A\\cos t+B\\sin t)$\n",
    "\n",
    "代入原方程有：$A=-0.5，B=0$\n",
    "\n",
    "$\\overline x=-0.5t\\cos t$\n",
    "\n",
    "2)对方程$x^\"+x=-\\cos 2t$,$\\lambda=i$不是特征方程的解\n",
    "\n",
    "所以取特解为：$\\overline x=A\\cos 2t+B\\sin 2t$\n",
    "\n",
    "解得$A=\\frac{1}{3}$ $B=0$\n",
    "\n",
    "$\\overline x=\\frac{1}{3}\\cos 2t $\n",
    "\n",
    "综上所述 方程的通解为：\n",
    "$$x=c_1\\cos t+c_2 sint -0.5t\\cos t+\\frac{1}{3}\\cos 2t$$"
   ]
  },
  {
   "cell_type": "markdown",
   "metadata": {},
   "source": [
    "### (16)\n",
    "$x^\"+9x=t\\sin 3t$"
   ]
  },
  {
   "cell_type": "markdown",
   "metadata": {},
   "source": [
    "解：对特征方程：$\\lambda^2+9=0$\n",
    "\n",
    "可解得$\\lambda_1=3i$ $\\lambda_2=-3i$\n",
    "\n",
    "故齐次方程的通解为：$x=\\cos 3t+\\sin 3t$\n",
    "\n",
    "设方程特解为 $ x=t[(At+B)cos3t+(Et+F)sin3t] $ \n",
    "\n",
    "解得 $A=-\\frac{1}{12},B=0，E=0,F=\\frac{1}{36} $\n",
    "\n",
    "故方程的通解为 \n",
    "\n",
    "$$ x=c_1cos3t+c_2sin3t-\\frac{1}{12}t^2cos3t+\\frac{1}{36}sin3t $$"
   ]
  },
  {
   "cell_type": "markdown",
   "metadata": {},
   "source": [
    "## 4 \n",
    "### （1）\n",
    "解："
   ]
  },
  {
   "cell_type": "markdown",
   "metadata": {},
   "source": [
    "对方程两边，拉普拉斯变换有：$ (s^2+9)X(s)=\\frac{6}{s-3} $\n",
    "\n",
    "故有$$ X(s)=\\frac{1}{3}[\\frac{1}{s-3}-\\frac{s}{s^2+9}]-\\frac{1}{s^2+9} $$\n",
    "解为：$$ x(t)=\\frac{1}{3}e^{3t}-\\frac{1}{3}cos3t-\\frac{1}{3}sin3t $$\n",
    "\n"
   ]
  },
  {
   "cell_type": "markdown",
   "metadata": {},
   "source": [
    "### （2）\n",
    "解"
   ]
  },
  {
   "cell_type": "markdown",
   "metadata": {},
   "source": [
    "对方程两边，拉普拉斯变换有$ s^4X(s)-s^3-s^2-s-1+X(s)=\\frac{2}{s-1} $\n",
    "\n",
    "故$$ X(s)={1}{s-1} $$\n",
    "\n",
    "解为 $$ x(t)=e^2 $$\n",
    "\n"
   ]
  },
  {
   "cell_type": "markdown",
   "metadata": {
    "collapsed": true
   },
   "source": [
    "# <font color='red'>A  18/11"
   ]
  },
  {
   "cell_type": "code",
   "execution_count": null,
   "metadata": {
    "collapsed": true
   },
   "outputs": [],
   "source": []
  }
 ],
 "metadata": {
  "kernelspec": {
   "display_name": "Python 2",
   "language": "python",
   "name": "python2"
  },
  "language_info": {
   "codemirror_mode": {
    "name": "ipython",
    "version": 2
   },
   "file_extension": ".py",
   "mimetype": "text/x-python",
   "name": "python",
   "nbconvert_exporter": "python",
   "pygments_lexer": "ipython2",
   "version": "2.7.10"
  }
 },
 "nbformat": 4,
 "nbformat_minor": 0
}
