{
 "cells": [
  {
   "cell_type": "markdown",
   "metadata": {},
   "source": [
    "2.（12）求解下列常系数线性微分方程$$x''+6 x'+5x=e^{2 t}$$"
   ]
  },
  {
   "cell_type": "markdown",
   "metadata": {},
   "source": [
    "解：先求原方程对应的齐次线性微分方程的通解，写出其特征方程:$$\\lambda^2+6\\lambda+5=0$$\n",
    "解得：$$\\lambda_1=-1 \\lambda_2=-5$$\n",
    "齐次线性微分方程的通解为$$x=c_1 e^{-t}+c_2 e^{-5 t}(c_1、c_2是任意常数)$$\n",
    "现在求非齐次线性方程的一个特解，有：$$f(t)=e^{2 t}$$\n",
    "其中$\\lambda=2$不是特征根，\n",
    "所以方程有形如$\\tilde{x}=e^{2 t}A$的特解，\n",
    "将其带入原方程，得到：$$4 A e^{2 t}+12 A e^{2 t}+5 A e^{2 t}=e^{2 t}$$$$A=\\frac{1}{21}$$\n",
    "原方程的一个特解为:$$\\tilde{x}=\\frac{1}{21}e^{2 t}$$\n",
    "原方程的通解为$$x=\\frac{1}{21}e^{2 t}+c_1 e^{-t}+c_2 e^{-5 t}(c_1、c_2是任意常数)$$"
   ]
  },
  {
   "cell_type": "markdown",
   "metadata": {},
   "source": [
    "2.（14）求解下列常系数线性微分方程$$x''+x=sin t-cos 2 t$$"
   ]
  },
  {
   "cell_type": "markdown",
   "metadata": {},
   "source": [
    "解：先求原方程对应的齐次线性微分方程的通解，写出其特征方程:$$\\lambda^2+1=0$$\n",
    "解得：$$\\lambda_1=-i \\lambda_2=-i$$\n",
    "齐次线性微分方程的通解为$$x=c_1 cos t+c_2 sin t(c_1、c_2是任意常数)$$\n",
    "\n",
    "1)现在求非齐次线性方程$x''+x=sin t$的一个特解，有：$$f(t)=sint$$\n",
    "其中$\\alpha=0,\\beta=1$是特征根，\n",
    "所以方程有形如$\\tilde{x}=t[A cos t+B sin t]$的特解，\n",
    "将其带入方程，得到：$$2 B cos t-2 A sint=sint$$$$A=-\\frac{1}{2},B=0$$\n",
    "方程的一个特解为:$$\\tilde{x_1}=-\\frac{1}{2} t cost$$\n",
    "\n",
    "2)现在求非齐次线性方程$x''+x=-cos 2 t$的一个特解，有：$$f(t)=-cos 2 t$$\n",
    "其中$\\alpha=0,\\beta=2$不是特征根，\n",
    "所以方程有形如$\\tilde{x}=A cos 2 t+B sin 2 t$的特解，\n",
    "将其带入方程，得到：$$3 A cos 2 t+3 B sin 2 t=cos 2 t$$$$A=\\frac{1}{3},B=0$$\n",
    "方程的一个特解为:$$\\tilde{x}=\\frac{1}{3}cos 2 t$$\n",
    "\n",
    "原方程的通解为$$x=\\frac{1}{3}cos 2 t-\\frac{1}{2} t cost+c_1 cos t+c_2 sin t(c_1、c_2是任意常数)$$"
   ]
  },
  {
   "cell_type": "markdown",
   "metadata": {},
   "source": [
    "2.（16）求解下列常系数线性微分方程$$x''+9 x=t sin 3 t$$"
   ]
  },
  {
   "cell_type": "markdown",
   "metadata": {},
   "source": [
    "解：先求原方程对应的齐次线性微分方程的通解，写出其特征方程:$$\\lambda^2+9=0$$\n",
    "解得：$$\\lambda_1=-3 i \\lambda_2=3 i$$\n",
    "齐次线性微分方程的通解为$$x=c_1 cos 3 t+c_2 sin 3 t(c_1、c_2是任意常数)$$\n",
    "\n",
    "现在求非齐次线性方程的一个特解，有：$$f(t)=t sin 3 t$$\n",
    "其中$\\alpha=0,\\beta=3$是特征根，\n",
    "所以方程有形如$\\tilde{x}=t[(a t+b)sin 3 t+(c t+d)cos 3 t]$的特解，\n",
    "将其带入原方程，得到：$$(2 a-6 d-12 c t)sin3t+(12 a t+6 b+2 c)cos 3 t=t sin 3 t$$\n",
    "$$a=0,b=\\frac{1}{36},c=-\\frac{1}{12},d=0$$\n",
    "原方程的一个特解为:$$\\tilde{x}=t[\\frac{1}{36}sin 3 t-\\frac{1}{12}t cos 3 t]$$\n",
    "原方程的通解为$$x=\\frac{1}{36}t sin 3 t-\\frac{1}{12}t^2 cos 3 t+c_1 cos 3 t+c_2 sin 3 t(c_1、c_2是任意常数)$$"
   ]
  },
  {
   "cell_type": "markdown",
   "metadata": {},
   "source": [
    "4（1）求下列初值问题的解$$x''+9 x=6 e^{3 t} x(0)=x'(0)=0$$\n",
    "\n",
    "解：对方程左右两边进行拉普拉斯变换得：$$s^2 X(s)-s x_0-x_0'+9 X(s)=\\frac{6}{s-3}$$\n",
    "$$X(s)=\\frac{1}{3(s-3)}-\\frac{s}{3(s^2+9}-\\frac{1}{s^2+9}$$\n",
    "求其原函数得：$$x(t)=\\frac{1}{3}(e^{3t}-cos 3 t-sin 3 t)$$\n",
    "这就是方程的解\n",
    "\n",
    "4（2）求下列初值问题的解$$x^{(4)}+x=2 e^t x(0)=x'(0)=x''(0)=x'''(0)=0$$\n",
    "\n",
    "解：对方程左右两边进行拉普拉斯变换得：$$s^4 X(s)-s^3 x_0-s^2 x_0'-s x_0''-x_0'''+X(s)=\\frac{2}{s-1}$$\n",
    "$$X(s)=\\frac{1}{s-1}$$\n",
    "求其原函数得：$$x(t)=e^t$$\n",
    "这就是方程的解\n",
    "\n"
   ]
  },
  {
   "cell_type": "markdown",
   "metadata": {},
   "source": [
    "# <font color='red'>A  18/11"
   ]
  },
  {
   "cell_type": "code",
   "execution_count": null,
   "metadata": {
    "collapsed": true
   },
   "outputs": [],
   "source": []
  }
 ],
 "metadata": {
  "kernelspec": {
   "display_name": "SageMath 7.3",
   "language": "",
   "name": "sagemath"
  },
  "language_info": {
   "codemirror_mode": {
    "name": "ipython",
    "version": 2
   },
   "file_extension": ".py",
   "mimetype": "text/x-python",
   "name": "python",
   "nbconvert_exporter": "python",
   "pygments_lexer": "ipython2",
   "version": "2.7.10"
  }
 },
 "nbformat": 4,
 "nbformat_minor": 0
}
