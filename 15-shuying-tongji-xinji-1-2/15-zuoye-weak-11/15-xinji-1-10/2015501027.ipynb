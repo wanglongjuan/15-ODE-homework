{
 "cells": [
  {
   "cell_type": "markdown",
   "metadata": {},
   "source": [
    "2.求解下列常系数线性微分方程"
   ]
  },
  {
   "cell_type": "markdown",
   "metadata": {},
   "source": [
    "（12）$x''+6x'+5x=e^{-t}\\cos t$"
   ]
  },
  {
   "cell_type": "markdown",
   "metadata": {},
   "source": [
    " 解：对应齐次方程的特征方程为：$\\lambda^2+6\\lambda+5=0$,解得$\\lambda_1=-1,\\lambda_2=-5$    \n",
    " 令方程的一个特解为:$\\tilde{x}=Ae^{2t}$,代入方程得到$a=\\frac{1}{21}$    \n",
    " 则特解为$\\tilde{x}=\\frac{1}{21}e^{2t}$  \n",
    " \n",
    "\n",
    " 得到方程的通解为$x=c_1e^{-t}+c_2e^{-5t}+\\frac{1}{21}e^{2t}$"
   ]
  },
  {
   "cell_type": "markdown",
   "metadata": {},
   "source": [
    "（14）$x''+x=\\sin t -\\cos 2t$"
   ]
  },
  {
   "cell_type": "markdown",
   "metadata": {},
   "source": [
    "解：对应齐次方程的特征方程为：$\\lambda^2+1=0$,解得$\\lambda_1=-i,\\lambda_2=i$    \n",
    "\n",
    "对于$x''+x=\\sin t$,设其特解为$\\tilde{x}=t(A\\sin t+B \\cos t)$ \n",
    " 带入方程得到$A=0,B=-\\frac{1}{2}$  , 则原方程的一个特解为$\\tilde{x}=-\\frac{1}{2}t\\cos t$  \n",
    " \n",
    " 对于$x''+x=-\\cos 2t$,设其特解为$\\tilde{x}=A\\cos 2t+B \\sin 2t$ \n",
    " 带入方程得到$A=\\frac{1}{3},B=0$  , 则原方程的一个特解为$\\tilde{x}=\\frac{1}{3}\\cos 2t$    \n",
    "     \n",
    " 得到原方程的通解为 \n",
    " $x=c_1\\cos t+c_2\\sin t-\\frac{1}{2}t\\cos t+\\frac{1}{3}\\cos 2t$"
   ]
  },
  {
   "cell_type": "markdown",
   "metadata": {},
   "source": [
    "（16）$x''+9x=t\\sin 3t$"
   ]
  },
  {
   "cell_type": "markdown",
   "metadata": {},
   "source": [
    "解：对应齐次方程的特征方程为：$\\lambda^2+9=0$,解得$\\lambda_1=-3i,\\lambda_2=3i$    \n",
    "令方程的一个特解为$\\tilde{x}=(At+B)\\cos 3t+(Et+F)\\sin t$ \n",
    " 带入方程得到$A=-\\frac{1}{12},F=\\frac{1}{36},B=E=0$   \n",
    " 则原方程的一个特解为$\\tilde{x}=-\\frac{1}{12}t^2\\cos 3t+\\frac{1}{36}t\\sin t$     \n",
    "     \n",
    " 得到原方程的通解为 \n",
    " $x=c_1\\cos 3t+c_2\\sin 3t-\\frac{1}{12}t^2\\cos 3t+\\frac{1}{36}t\\sin 3t$"
   ]
  },
  {
   "cell_type": "markdown",
   "metadata": {},
   "source": [
    "4.求下列初值问题的解"
   ]
  },
  {
   "cell_type": "markdown",
   "metadata": {},
   "source": [
    "（1）$x''+9x=6e^{3t},x(0)=x'(0)=0$"
   ]
  },
  {
   "cell_type": "markdown",
   "metadata": {},
   "source": [
    "解：对方程两边实施拉普拉斯变换得：$s^2X(s)+9X(s)=\\frac{6}{s-3}$   \n",
    "即$X(s)=\\frac{6}{(s-3)(s^2-9)}=\\frac{1}{3}[\\frac{1}{s-3}-\\frac{s}{s^2-9}]-\\frac{1}{s^2+9}$  \n",
    "对上式右端各项分别求出原函数，则他们的和就是$X(s)$的原函数$x(t)=\\frac{1}{3}(e^{3t}-\\cos 3t-\\sin 3t)$"
   ]
  },
  {
   "cell_type": "markdown",
   "metadata": {},
   "source": [
    "（2）$x^{(4)}+x=2e^t,x(0)=x'(0)=x''(0)=x'''(0)=1$"
   ]
  },
  {
   "cell_type": "markdown",
   "metadata": {},
   "source": [
    "解：对方程两边实施拉普拉斯变换得：$s^4X(s)-s^3-s^2-s-1+X(s)=\\frac{2}{s-1}$   \n",
    "即$X(s)=\\frac{1}{s-1}$  \n",
    "对上式右端各项分别求出原函数，则原函数$x(t)=e^t$"
   ]
  },
  {
   "cell_type": "markdown",
   "metadata": {
    "collapsed": true
   },
   "source": [
    "# <font color='red'>A  18/11"
   ]
  },
  {
   "cell_type": "code",
   "execution_count": null,
   "metadata": {
    "collapsed": true
   },
   "outputs": [],
   "source": []
  }
 ],
 "metadata": {
  "kernelspec": {
   "display_name": "SageMath 7.3",
   "language": "",
   "name": "sagemath"
  },
  "language_info": {
   "codemirror_mode": {
    "name": "ipython",
    "version": 2
   },
   "file_extension": ".py",
   "mimetype": "text/x-python",
   "name": "python",
   "nbconvert_exporter": "python",
   "pygments_lexer": "ipython2",
   "version": "2.7.10"
  }
 },
 "nbformat": 4,
 "nbformat_minor": 0
}
