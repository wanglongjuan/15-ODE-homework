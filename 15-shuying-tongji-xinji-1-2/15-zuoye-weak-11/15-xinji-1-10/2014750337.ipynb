{
 "cells": [
  {
   "cell_type": "markdown",
   "metadata": {
    "collapsed": false
   },
   "source": [
    "# 作业9\n",
    "**P165**  \n",
    "**2.求解下列常系数线性微分方程**"
   ]
  },
  {
   "cell_type": "markdown",
   "metadata": {},
   "source": [
    "**(12)$x''+6x'+5x=e^{2t}$**  \n",
    "**解：**先求对应的齐次线性微分方程$$x''+6x'+5x=e^{2t}$$的通解.这里特征方程$\\lambda^2+6\\lambda+5=0$有两个根$\\lambda_1=-1,\\lambda_2=-5$  \n",
    "因此，其次线性微分方程的通解为$x=c_1e^{-t}+c_2e^{-5t}$，其中$c_1,c_2$为常数.  \n",
    "再求非齐次线性微分方程的一个特解.这里$f(t)=e^{2t},\\lambda=2$，  \n",
    "又因为$\\lambda=2$不是特征根，所以取特解$x=Ae^{2t}$代入原方程，解得$A=\\frac{1}{21}$  \n",
    "所以方程的通解是$x=c_1e^{-t}+c_2e^{-5t}+\\frac{1}{21}e^{2t}$"
   ]
  },
  {
   "cell_type": "markdown",
   "metadata": {},
   "source": [
    "**(14)$x''+x=sint-cos2t$**  \n",
    "**解：**特征方程$\\lambda^2+1=0$有两个根$\\lambda_1=i,\\lambda_2=-i$  \n",
    "因此，其次线性微分方程的通解为$x=c_1cost+c_2sint$，其中$c_1,c_2$为常数.  \n",
    "对方称右端$sint$项属于类型II,设特解为$x=t(Acost+Bsint)$,代入原方程解得  \n",
    "$A=-\\frac{1}{2},B=0$,所以$x=-\\frac{1}{2}tcost$  \n",
    "对方称右端$-cos2t$项属于类型II,设特解为$x=Ccos2t+Dsint$,代入原方程解得  \n",
    "$C=\\frac{1}{3},D=0$,所以$x=\\frac{1}{3}cos2t$  \n",
    "所以通解是$x=c_1cost+c_2sint-\\frac{1}{2}tcost+\\frac{1}{3}cos2t$"
   ]
  },
  {
   "cell_type": "markdown",
   "metadata": {},
   "source": [
    "**(16)$x''+9x=tsin3t$**  \n",
    "**解：**特征方程$\\lambda^2+9=0$,特征根为$\\lambda_1=3i,\\lambda_2=-3i$  \n",
    "因此，其次线性微分方程的通解为$x=c_1cos3t+c_2sin3t$，其中$c_1,c_2$为常数.  \n",
    "对方称右端$tsin3t$项属于类型II,设特解为$x=t[(At+C)cos3t+(Bt+D)sin3t]$,代入原方程得$$2A+6D=0,12B=0,2B-6C=0,-12A=1,$$\n",
    "所以$$B=C=0,A=-\\frac{1}{12},D=\\frac{1}{36}.$$\n",
    "原方程的解为$x=c_1cos3t+c_2sin3t-\\frac{1}{12}t^2cos3t+\\frac{1}{36}tsin3t,c_1,c_2$为常数.  "
   ]
  },
  {
   "cell_type": "markdown",
   "metadata": {},
   "source": [
    "**4.求下组初值问题的解**  \n",
    "**(1)$x''+9x=6e^{3t},x(0)=x'(0)=0$**"
   ]
  },
  {
   "cell_type": "markdown",
   "metadata": {},
   "source": [
    "**解：**对方称两边施行拉普拉斯变换，得到$$s^2X(s)+9X(s)=\\frac{6}{s-3}$$\n",
    "因此\n",
    "\\begin{align}\n",
    "X(s)&=\\frac{6}{(s-3)(s^2+9)}\\\\\n",
    "&=\\frac{1}{3}(\\frac{1}{s-3}-\\frac{s+3}{s^2+9})\\\\\n",
    "&=\\frac{1}{3}(\\frac{1}{s-3}-\\frac{s}{s^2+9}-\\frac{3}{s^2+9})\n",
    "\\end{align}\n",
    "由拉普拉斯变换表，可得$\\frac{1}{s-3},\\frac{s}{s^2+9},\\frac{3}{s^2+9}$的原函数分别为$e^{3t},cos3t,sin3t$  \n",
    "所以$X(s)$的原函数为$$x(t)=\\frac{1}{3}(e^{3t}-cos3t-sin3t)$$这就是所要求的解."
   ]
  },
  {
   "cell_type": "markdown",
   "metadata": {},
   "source": [
    "**(2).$x^{(4)}+x=2e^t,x(0)=x'(0)=x''(0)=x'''(0)=1$**  \n",
    "**解：**对方程施行拉普拉斯变换，得到$$s^4X(s)-s^3-s^2-s-1+X(s)=\\frac{2}{s-1},$$  \n",
    "因此  \n",
    "\\begin{align}\n",
    "X(s)&=\\frac{\\frac{2}{s-1}+s^3+s^2+s+1}{s^4+1}\\\\\n",
    "&=\\frac{2+(s^3+s^2+s+1)(s-1)}{(s^4+1)(s-1)}\\\\\n",
    "&=\\frac{1}{s-1}\n",
    "\\end{align}\n",
    "由拉普拉斯变换表，得$\\frac{1}{s-1}$的原函数为$e^t$  \n",
    "所以$X(s)$的原函数为$$x(t)=e^t$$这就是所要求的解."
   ]
  },
  {
   "cell_type": "markdown",
   "metadata": {},
   "source": [
    "# <font color='red'>A  18/11"
   ]
  },
  {
   "cell_type": "code",
   "execution_count": null,
   "metadata": {
    "collapsed": true
   },
   "outputs": [],
   "source": []
  }
 ],
 "metadata": {
  "kernelspec": {
   "display_name": "Python 2",
   "language": "python",
   "name": "python2"
  },
  "language_info": {
   "codemirror_mode": {
    "name": "ipython",
    "version": 2
   },
   "file_extension": ".py",
   "mimetype": "text/x-python",
   "name": "python",
   "nbconvert_exporter": "python",
   "pygments_lexer": "ipython2",
   "version": "2.7.10"
  }
 },
 "nbformat": 4,
 "nbformat_minor": 0
}
