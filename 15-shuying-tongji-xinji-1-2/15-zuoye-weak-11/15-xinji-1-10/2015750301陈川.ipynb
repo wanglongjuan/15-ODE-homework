{
 "cells": [
  {
   "cell_type": "markdown",
   "metadata": {},
   "source": [
    "$p164.2.(12)$"
   ]
  },
  {
   "cell_type": "markdown",
   "metadata": {},
   "source": [
    "$该方程对应的其次特征方程为\\lambda^2+6\\lambda+5=0,它的解为\\lambda_1=-1,\\lambda_2=5,所以齐次方程的通解为x=c_1x^{-t}+c_2x^{-5t}$"
   ]
  },
  {
   "cell_type": "markdown",
   "metadata": {},
   "source": [
    "$因为\\lambda=2不是方程的根，所以x-=Ae^{2t}带入得A=\\frac{1}{21},因为\\lambda=2不是方程的根，所以x-=Ae^{2t}带入得A=\\frac{1}{21},$"
   ]
  },
  {
   "cell_type": "markdown",
   "metadata": {},
   "source": [
    "$所以方程通解为x=c_1x^{-t}+c_2x^{-5t}+\\frac{1}{21}e^{2t}$"
   ]
  },
  {
   "cell_type": "markdown",
   "metadata": {},
   "source": [
    "$（14）$"
   ]
  },
  {
   "cell_type": "markdown",
   "metadata": {},
   "source": [
    "$齐次方程的特征方程为\\lambda^2+1=0，所以它的特征根为\\lambda_1=i,\\lambda_2=-i,齐次方程的通解为x=c_1cost+c_2sint$"
   ]
  },
  {
   "cell_type": "markdown",
   "metadata": {},
   "source": [
    "$设x=t(Acost+Bsint)代入原方程得到A=-\\frac{1}{2},B=0，x=-\\frac{1}{2}tcost$"
   ]
  },
  {
   "cell_type": "markdown",
   "metadata": {},
   "source": [
    "$当x''+x=-cos2t，取x=Acos2t+Bsin2t,带入的A=\\frac{1}{3},B=0,x=\\frac{1}{3}cos2t,所以方程通解为x=c_1cost+c_2sint-\\frac{1}{2}tcost+\\frac{1}{3}cos2t$"
   ]
  },
  {
   "cell_type": "markdown",
   "metadata": {},
   "source": [
    "$(16)$"
   ]
  },
  {
   "cell_type": "markdown",
   "metadata": {},
   "source": [
    "$对应的齐次方程的特征方程为\\lambda^2+9=0,所以特征根为\\lambda_1=3i,\\lambda_2=-3i$"
   ]
  },
  {
   "cell_type": "markdown",
   "metadata": {},
   "source": [
    "$设方程的特解为x=t[(At+B)cos3t+(Et+F)sin3t]得到A=-\\frac{1}{12},B=\\frac{1}{36},B=E=0,所以方程的特解为x=-\\frac{1}{12}t^2cos3t+\\frac{1}{36}tsin3t$"
   ]
  },
  {
   "cell_type": "markdown",
   "metadata": {},
   "source": [
    "$4.(1)$"
   ]
  },
  {
   "cell_type": "markdown",
   "metadata": {},
   "source": [
    "$对方程实行啦普拉斯变换得到（s^2+9）X(s)=\\frac{6}{s-3}$"
   ]
  },
  {
   "cell_type": "markdown",
   "metadata": {},
   "source": [
    "$X(s)=\\frac{1}{3}[\\frac{1}{s-3}-\\frac{s}{s^2+9}]-\\frac{1}{s^2+9}$"
   ]
  },
  {
   "cell_type": "markdown",
   "metadata": {},
   "source": [
    "$x(t)=\\frac{1}{3}e^{3t}-\\frac{1}{3}cos3t-\\frac{1}{3}sin3t$"
   ]
  },
  {
   "cell_type": "markdown",
   "metadata": {},
   "source": [
    "$对方程实行啦普拉斯变换得到s^4X(s)-s^3-s^2-s+X(s)=\\frac{2}{s-1}$"
   ]
  },
  {
   "cell_type": "markdown",
   "metadata": {},
   "source": [
    "$X(s)=\\frac{1}{s-1}$"
   ]
  },
  {
   "cell_type": "markdown",
   "metadata": {},
   "source": [
    "$x(t)=e^t$"
   ]
  },
  {
   "cell_type": "code",
   "execution_count": null,
   "metadata": {
    "collapsed": true
   },
   "outputs": [],
   "source": []
  }
 ],
 "metadata": {
  "kernelspec": {
   "display_name": "SageMath 7.2",
   "language": "",
   "name": "sagemath"
  },
  "language_info": {
   "codemirror_mode": {
    "name": "ipython",
    "version": 2
   },
   "file_extension": ".py",
   "mimetype": "text/x-python",
   "name": "python",
   "nbconvert_exporter": "python",
   "pygments_lexer": "ipython2",
   "version": "2.7.10"
  }
 },
 "nbformat": 4,
 "nbformat_minor": 0
}
