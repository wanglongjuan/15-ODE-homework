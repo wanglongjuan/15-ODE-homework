{
 "cells": [
  {
   "cell_type": "markdown",
   "metadata": {},
   "source": [
    "**1.设$x(t)$和$y(t)$是区间$a≤t≤b$上的连续函数，证明：如果在区间$a≤t≤b$上有$\\frac{x(t)}{y(t)}\\neq常数$或$\\frac{y(t)}{x(t）}\\neq常数$，则$x(t)$和$y(t)$在区间$a≤t≤b$上线性无关。（提示：用反证法）**"
   ]
  },
  {
   "cell_type": "markdown",
   "metadata": {},
   "source": [
    "证明：采用反证法。设某个t_0$a≤t_0≤b$,使得$x(t_0),y(t_0）$线性相关。\n",
    "\n",
    "即存在不全为零的数$c_1,c_2$使得$c_1x(t_0)+c_2y(t_0)=0$，\n",
    "\n",
    "则$\\frac{x(t_0)}{y(t_0)}=-\\frac{c_2}{c_1}$或$\\frac{y(t_0)}{x(t_0)}=-\\frac{c_1}{c_2}$,\n",
    "\n",
    "（$-\\frac{c_1}{c_2}，-\\frac{c_2}{c_1}$为常数。）\n",
    "\n",
    "与已知条件相矛盾。所以$x(t)$和$y(t)$在区间$a≤t≤b$上线性无关。"
   ]
  },
  {
   "cell_type": "markdown",
   "metadata": {},
   "source": [
    "**2.证明非齐次线性微分方程的叠加原理：设$x_1(t),x_2(t)$分别是非齐次线性微分方程**\n",
    "$$\\frac{d^nx}{dt^n}+a_1(t)\\frac{d^{n-1}x}{dt^{n-1}}+...+a_n(t)x=f_1（t）,——（1）$$\n",
    "$$\\frac{d^nx}{dt^n}+a_1(t)\\frac{d^{n-1}x}{dt^{n-1}}+...+a_n(t)x=f_2（t）,——（2）$$\n",
    "的解，则$x_1（t）+x_2(t)$是方程\n",
    "$$\\frac{d^nx}{dt^x}+a_1(t)\\frac{d^{n-1}x}{dt^{n-1}}+\\cdots+a_n(t)x=f_1(t)+f_2（t）$$\n",
    "的解"
   ]
  },
  {
   "cell_type": "markdown",
   "metadata": {},
   "source": [
    "证明：方程（1）的解$x_1=\\varphi(t)$满足\n",
    "$$\\varphi(t)=x_1,\\frac{d\\varphi(t)}{dt}=x_1^{(1)},...,\\frac{d^{n}\\varphi(t)}{dt^{n}}=x_1^{(n)}$$\n",
    "方程（2）的解$x_2=\\varphi(t)$满足\n",
    "$$\\varphi(t)=x_2,\\frac{d\\varphi(t)}{dt}=x_2^{(1)},...,\\frac{d^{n}\\varphi(t)}{dt^{n}}=x_2^{(n)}$$\n"
   ]
  },
  {
   "cell_type": "markdown",
   "metadata": {},
   "source": [
    "**3.已知齐次线性微分方程的基本解组$x_1,x_2$,球下列对应的非齐次线性微分方程的通解;**"
   ]
  },
  {
   "cell_type": "markdown",
   "metadata": {},
   "source": [
    "$(1).x''-x=\\cos t,x_1=e^t,x_2=e^{-t}$"
   ]
  },
  {
   "cell_type": "markdown",
   "metadata": {},
   "source": [
    "$(2).x''+4x=tsin2t,x_1=cos2t,x_2=sin2t$"
   ]
  },
  {
   "cell_type": "markdown",
   "metadata": {},
   "source": [
    "$t^2x''-tx'+x=6t+34t^2,x_1=t,x_2=t\\ln t$"
   ]
  },
  {
   "cell_type": "markdown",
   "metadata": {},
   "source": [
    "**6.假设$x_1(t)\\neq0$是二阶齐次线性微分方程**\n",
    "$$x''+a_1（t）x'+a_2(t)x=0$$\n",
    "**的解，这里$a_1(t)$和$a_2（t）$于区间[a,b]上连续，试证：**\n",
    "**（1）x_2(t)为方程的解的充要条件是：**\n",
    "$$W'[x_1,x_2]+a_1W[x_1,x_2]=0;$$\n",
    "**(2)方程的通解可表为**\n",
    "$$x=x_1[c_1\\int\\frac{1}{x_1^2}exp(-\\int_{t_0}^{t}a_1(s)ds)dt+c_2]$$,\n",
    "**其中$c_1,c_2$为任意常数，$t_0,t∈[a,b]$**"
   ]
  },
  {
   "cell_type": "markdown",
   "metadata": {
    "collapsed": true
   },
   "source": [
    "# <font color='red'>C 26/10 少题，没做完？？"
   ]
  },
  {
   "cell_type": "code",
   "execution_count": null,
   "metadata": {
    "collapsed": true
   },
   "outputs": [],
   "source": []
  }
 ],
 "metadata": {
  "kernelspec": {
   "display_name": "SageMath 7.3",
   "language": "",
   "name": "sagemath"
  },
  "language_info": {
   "codemirror_mode": {
    "name": "ipython",
    "version": 2
   },
   "file_extension": ".py",
   "mimetype": "text/x-python",
   "name": "python",
   "nbconvert_exporter": "python",
   "pygments_lexer": "ipython2",
   "version": "2.7.10"
  }
 },
 "nbformat": 4,
 "nbformat_minor": 0
}
