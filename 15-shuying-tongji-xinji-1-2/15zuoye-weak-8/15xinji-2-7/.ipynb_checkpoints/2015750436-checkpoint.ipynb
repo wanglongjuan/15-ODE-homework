{
 "cells": [
  {
   "cell_type": "markdown",
   "metadata": {
    "collapsed": true
   },
   "source": [
    "p131  1.设x(t)和y(t)是区间a≤t≤b上的连续函数，证明：如果在区间a≤t≤b上有$\\frac{\\mathrm x(t)}{\\mathrm  y(t)}≠$常数或$\\frac{\\mathrm y(t)}{\\mathrm x(t)}≠$常数,则x(t)和y(t)在区间a≤t≤b上线性无关。（提示：用反证法）"
   ]
  },
  {
   "cell_type": "markdown",
   "metadata": {
    "collapsed": true
   },
   "source": [
    "证：  用反证法  \n",
    "假设x(t)和y(t)在区间[a,b]上线性相关，则存在不全为零的常数$C_1和C_2$使得$$C_1x(t)+C_2y(t)≡0,t∈[a,b]$$  \n",
    "若$C_2≠0$,则$$\\frac{\\mathrm y(t)}{\\mathrm x(t)}=-\\frac{\\mathrm C_1}{\\mathrm C_2}=常数$$   \n",
    "若$C_1≠0$,则$$\\frac{\\mathrm x(t)}{\\mathrm y(t)}=-\\frac{\\mathrm C_2}{\\mathrm C_1}=常数$$  \n",
    "两种情况下，都与已知条件$\\frac{\\mathrm x(t)}{\\mathrm  y(t)}≠$常数或$\\frac{\\mathrm y(t)}{\\mathrm x(t)}≠$常数矛盾   \n",
    "所以，假设不成立  \n",
    "即证明了x(t)和y(t)在区间[a,b]上是线性无关的"
   ]
  },
  {
   "cell_type": "markdown",
   "metadata": {},
   "source": [
    "2.证明非齐次线性微分方程的叠加原理：设$x_1(t),x_2(t)$分别是非齐次线性微分方程  \n",
    "$$\\frac{\\mathrm d^nx}{\\mathrm dt^n}+a_1(t)\\frac{\\mathrm d^{n-1}x}{\\mathrm dt^{n-1}}+……+a_n(t)x=f_1(t)$$   \n",
    "$$\\frac{\\mathrm d^nx}{\\mathrm dt^n}+a_1(t)\\frac{\\mathrm d^{n-1}x}{\\mathrm dt^{n-1}}+……+a_n(t)x=f_2(t)$$  \n",
    "的解，则$x_1(t)+x_2(t)$是方程\n",
    "$$\\frac{\\mathrm d^nx}{\\mathrm dt^n}+a_1(t)\\frac{\\mathrm d^{n-1}x}{\\mathrm dt^{n-1}}+……+a_n(t)x=f_1(t)+f_2(t)$$\n",
    "的解"
   ]
  },
  {
   "cell_type": "markdown",
   "metadata": {},
   "source": [
    "证：因为$x_1(t),x_2(t)$分别是非齐次线性微分方程  \n",
    "$$\\frac{\\mathrm d^nx}{\\mathrm dt^n}+a_1(t)\\frac{\\mathrm d^{n-1}x}{\\mathrm dt^{n-1}}+……+a_n(t)x=f_1(t)$$   \n",
    "$$\\frac{\\mathrm d^nx}{\\mathrm dt^n}+a_1(t)\\frac{\\mathrm d^{n-1}x}{\\mathrm dt^{n-1}}+……+a_n(t)x=f_2(t)$$  \n",
    "的解，所以：\n",
    "$$\\frac{\\mathrm d^nx_1(t)}{\\mathrm dt^n}+a_1(t)\\frac{\\mathrm d^{n-1}x_1(t)}{\\mathrm dt^{n-1}}+……+a_n(t)x_1(t)=f_1(t)$$   \n",
    "$$\\frac{\\mathrm d^nx_2(t)}{\\mathrm dt^n}+a_1(t)\\frac{\\mathrm d^{n-1}x_2(t)}{\\mathrm dt^{n-1}}+……+a_n(t)x_2(t)=f_2(t)$$  \n",
    "两式相加可得到：  \n",
    "$$\\frac{\\mathrm d^n(x_1(t)+x_2(t))}{\\mathrm dt^n}+a_1(t)\\frac{\\mathrm d^{n-1}(x_1(t)+x_2(t))}{\\mathrm dt^{n-1}}+……a_n(t)(x_1(t)+x_2(t))=f_1(t)+f_2(t)$$\n",
    "即$x_1(t)+x_2(t)$是方程$\\frac{\\mathrm d^nx}{\\mathrm dt^n}+a_1(t)\\frac{\\mathrm d^{n-1}x}{\\mathrm dt^{n-1}}+……+a_n(t)x=f_1(t)+f_2(t)$的解   \n",
    "得证"
   ]
  },
  {
   "cell_type": "markdown",
   "metadata": {},
   "source": [
    "3.已知齐次线性微分方程的基本解组$x_1,x_2$.求下列方程对应的非齐次线性微分方程的通解："
   ]
  },
  {
   "cell_type": "markdown",
   "metadata": {},
   "source": [
    "（1）$x\"-x=cost,x_1=e^t,x_2=e^{-t}$"
   ]
  },
  {
   "cell_type": "markdown",
   "metadata": {},
   "source": [
    "解：用常数变易法，令$x=C_1(t)e^t+C_2(t)e^{-t}$  \n",
    "带入方程可得：  \n",
    "$$e^tC_1'(t)+e^{-t}C_2'(t)=0$$\n",
    "$$e^tC_1'(t)-e^{-t}C_2'(t)=cost$$\n",
    "解得：$$C_1'(t)=0.5cost·e^{-t},C_2'(t)=-0.5e^tcost$$\n",
    "由此可得：$$C_1(t)=\\frac{\\mathrm sint-cost}{\\mathrm 4}·e^{-t}+γ_1,C_2(t)=-\\frac{\\mathrm sint+cost}{\\mathrm 4}·e^t+γ_2$$\n",
    "所以原方程的通解为$$x=γ_1e^t+γ_2e^{-t}-\\frac{\\mathrm cost}{\\mathrm 2}$$"
   ]
  },
  {
   "cell_type": "markdown",
   "metadata": {},
   "source": [
    "(3)$x\"+4x=tsin2t,x_1=cos2t,x_2=sin2t$"
   ]
  },
  {
   "cell_type": "markdown",
   "metadata": {},
   "source": [
    "解：令$x=C_1(t)cos2t+C_2(t)sin2t$  \n",
    "带入方程可得：\n",
    "$$cos2t·C_1'(t)+sin2t·C_2'(t)=0$$\n",
    "$$-2sin2t·C_1'(t)+2cos2t·C_2'(t)=tsint$$\n",
    "解得：$$C_1'(t)=-0.5tsintsin2t,C_2'(t)=0.5tsintcos2t$$\n",
    "由此可得：\n",
    "$$C_1(t)=\\frac{\\mathrm 1}{\\mathrm 4}[\\frac{\\mathrm 1}{\\mathrm 3}tsin3t+\\frac{\\mathrm 1}{\\mathrm 9}cos3t-tsint-cost]+C_1$$\n",
    "$$C_2(t)=\\frac{\\mathrm 1}{\\mathrm 4}[-\\frac{\\mathrm 1}{\\mathrm 3}tcos3t+\\frac{\\mathrm 1}{\\mathrm 9}sin3t+tcost-sint]+C_2$$\n",
    "所以原方程的通解为$$x=C_1cos2t+C_2sin2t+\\frac{\\mathrm t}{\\mathrm 3}sint-\\frac{\\mathrm 2}{\\mathrm 9}cost$$"
   ]
  },
  {
   "cell_type": "markdown",
   "metadata": {},
   "source": [
    "（5）$t^{2}x\"-tx'+x=6t+34t^2,x_1=t,x_2=tlnt$"
   ]
  },
  {
   "cell_type": "markdown",
   "metadata": {},
   "source": [
    "解：令$x=C_1(t)·t+C_2(t)·tlnt$   \n",
    "带入方程可得：\n",
    "$$t·C'_1(t)+tlnt·C'_2(t)=0$$\n",
    "$$C'_1(t)+(lnt+1)C'_2(t)=\\frac{\\mathrm 6}{\\mathrm t}+34$$\n",
    "解得：\n",
    "$$C'_1(t)=-lnt(\\frac{\\mathrm 6}{\\mathrm t}+34)$$\n",
    "$$C'_2(t)=\\frac{\\mathrm 6}{\\mathrm t}+34$$\n",
    "由此可得\n",
    "$$C_1(t)=-34(tlnt-t)-3(lnt)^2+C_1$$\n",
    "$$C_2(t)=34t+6lnt+C_2$$\n",
    "所以方程的通解为：$$x=C_1t+C_2tlnt+34t^2+3t(lnt)^2$$"
   ]
  },
  {
   "cell_type": "markdown",
   "metadata": {},
   "source": [
    "6.假设$x_1(t)≠0$是二阶齐次线性微分方程$x\"+a_1(t)x'+a_2(t)x=0$的解，这里$a_1(t)$和$a_2(t)$于区间[a,b]上连续，试证：\n",
    "\n",
    "（1）$x_2(t)$为方程的解的充要条件是：$W'[x_1,x_2]+a_1W[x_1,x_2]=0$\n",
    "\n",
    "(2)方程的通解可表为：\n",
    "$x=x_1[c_1\\int{\\frac{\\mathrm 1}{\\mathrm x_1^2} \\mathrm exp(-\\int_{t_0}^t{\\mathrm a_1(s) \\mathrm ds}) \\mathrm dt}+c_2]$\n",
    "其中$c_1,c_2$为任意常数，$t_0,t∈[a,b]$"
   ]
  },
  {
   "cell_type": "markdown",
   "metadata": {},
   "source": [
    "解：（1）充分性。\n",
    "因为：\n",
    "$$W'[x_1,x_2]=\\begin{vmatrix}x'_1&x'_2\\\\x'_1&x'_2\\\\\\end{vmatrix}+\\begin{vmatrix}x_1&x_2\\\\x\"_1&x\"_2\\\\\\end{vmatrix}=\\begin{vmatrix}x_1&x_2\\\\x\"_1&x\"_2\\\\\\end{vmatrix}$$\n",
    "$$W'[x_1,x_2]+a_1（t）W[x_1,x_2]=\\begin{vmatrix}x_1&x_2\\\\x\"_1&x\"_2\\\\\\end{vmatrix}+a_1(t)\\begin{vmatrix}x_1&x_2\\\\x'_1&x'_2\\\\\\end{vmatrix}=\\begin{vmatrix}x_1&x_2\\\\x\"_1+a_1(t)x'_1&x\"_2+a_1(t)x'_2\\\\\\end{vmatrix}=0$$\n",
    "而$x_1(t)≠0$是已知方程的解，所以\n",
    "$$\\begin{vmatrix}x_1&x_2\\\\-a_2(t)x_{1}&x\"_2+a_1(t)x'_2\\\\\\end{vmatrix}=x_1\\begin{vmatrix}1&x_2\\\\-a_2(t)&x\"_2+a_1(t)x'_2\\\\\\end{vmatrix}=0$$\n",
    "所以：\n",
    "$$x\"_2+a_1(t)x'_2+a_2(t)x_2=0$$\n",
    "即$x_2(t)$是已知方程的解。 \n",
    "  \n",
    "必要性。  \n",
    "因为$W[x_1,x_2]$是方程的解$x_1(t), x_2(t)$的朗斯基行列式，所以\n",
    "$$W'[x_1,x_2]=\\begin{vmatrix}x_1&x_2\\\\x\"_1&x\"_2\\\\\\end{vmatrix}=\\begin{vmatrix}x_1&x_2\\\\x\"_1+a_2(t)x_1&x\"_2+a_2(t)x_2\\\\\\end{vmatrix}=\\begin{vmatrix}1&x_2\\\\-a_1(t)x'_{1}&a_1(t)x'_2\\\\\\end{vmatrix}=-a_1(t)\\begin{vmatrix}x_1&x_2\\\\x'_1&x'_2\\\\\\end{vmatrix}=-a_1(t)W[x_1,x_2]$$\n",
    "即$W[x_1,x_2]$满足$W'[x_1,x_2]+a_1(t)W[x_1,x_2]=0$"
   ]
  },
  {
   "cell_type": "markdown",
   "metadata": {},
   "source": [
    "(2)因为$x_1,x_2$为方程的解，则由刘维尔公式\n",
    "$$\\begin{vmatrix}x_1&x_2\\\\x'_1&x'_2\\\\\\end{vmatrix}=W(t_0)e^{-\\int_{t_0}^t{\\mathrm a_1(s) \\mathrm ds}}$$\n",
    "即$$x_1x'_2-x'_1x_2=W(t_0)e^{-\\int_{t_0}^t{\\mathrm a_1(s) \\mathrm ds}}$$\n",
    "两边都乘以$\\frac{\\mathrm 1}{\\mathrm x_1^2}$则有\n",
    "$$\\frac{\\mathrm d(\\frac{\\mathrm x_2}{\\mathrm x_1})}{\\mathrm dt}=\\frac{\\mathrm W(t_0)}{\\mathrm x_1^2}e^{-\\int_{t_0}^t{\\mathrm a_1(s) \\mathrm ds}}$$ \n",
    "于是\n",
    "$$\\frac{\\mathrm x_2}{\\mathrm x_1}=c_1\\int{\\frac{\\mathrm 1}{\\mathrm x_1^2} \\mathrm e^{-\\int_{t_0}^t{\\mathrm a_1(s) \\mathrm ds}} \\mathrm dt}+c_2\n",
    "$$\n",
    "即\n",
    "$$x_2=（c_1\\int{\\frac{\\mathrm 1}{\\mathrm x_1^2} \\mathrm e^{-\\int_{t_0}^t{\\mathrm a_1(s) \\mathrm ds}} \\mathrm dt}+c_2）x_1$$\n",
    "取$c_1=1,c_2=0$得\n",
    "$$x_2=（\\int{\\frac{\\mathrm 1}{\\mathrm x_1^2} \\mathrm e^{-\\int_{t_0}^t{\\mathrm a_1(s) \\mathrm ds}} \\mathrm dt}）·x_1$$\n",
    "又\n",
    "$$W(t)=\\begin{vmatrix}x_1&x_2\\\\x'_1&x'_2\\\\\\end{vmatrix}=e^{-\\int_{t_0}^t{\\mathrm a_1(s) \\mathrm ds}} ≠0$$\n",
    "从而原方程的通解可表示为\n",
    "$$x=x_1[c_1\\int{\\frac{\\mathrm 1}{\\mathrm x_1^2} \\mathrm exp(-\\int_{t_0}^t{\\mathrm a_1(s) \\mathrm ds}) \\mathrm dt}+c_2]$$\n",
    "其中$c_1,c_2$为常数，$t_0,t∈[a,b]$."
   ]
  },
  {
   "cell_type": "markdown",
   "metadata": {
    "collapsed": true
   },
   "source": [
    "# <font color='red'>A 26/10"
   ]
  },
  {
   "cell_type": "code",
   "execution_count": null,
   "metadata": {
    "collapsed": true
   },
   "outputs": [],
   "source": []
  }
 ],
 "metadata": {
  "kernelspec": {
   "display_name": "SageMath 7.3",
   "language": "",
   "name": "sagemath"
  },
  "language_info": {
   "codemirror_mode": {
    "name": "ipython",
    "version": 2
   },
   "file_extension": ".py",
   "mimetype": "text/x-python",
   "name": "python",
   "nbconvert_exporter": "python",
   "pygments_lexer": "ipython2",
   "version": "2.7.10"
  }
 },
 "nbformat": 4,
 "nbformat_minor": 0
}
