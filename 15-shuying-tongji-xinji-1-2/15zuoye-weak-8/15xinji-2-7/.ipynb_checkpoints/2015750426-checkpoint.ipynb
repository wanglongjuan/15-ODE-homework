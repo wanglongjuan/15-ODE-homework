{
 "cells": [
  {
   "cell_type": "markdown",
   "metadata": {},
   "source": [
    "**2016.10.18**"
   ]
  },
  {
   "cell_type": "markdown",
   "metadata": {},
   "source": [
    "**1.设 $x(t)$ 和 $y(t)$ 是区间 $a \\leq t \\leq b$ 上的连续函数，证明：如果在区间 $a \\leq t \\leq b$ 上有 $\\frac{x(t)}{y(t)} \\neq$ 常数或 $\\frac{y(t)}{x(t)} \\neq$ 常数,则 $x(t)$ 和 $y(t)$ 在区间 $a \\leq t \\leq b$ 上线性无关。（提示：用反证法）**"
   ]
  },
  {
   "cell_type": "markdown",
   "metadata": {},
   "source": [
    "**解：**"
   ]
  },
  {
   "cell_type": "markdown",
   "metadata": {},
   "source": [
    "假设 $x(t)$ 和 $y(t)$ 在区间 $a \\leq t \\leq b$ 上线性相关，则存在不全等于零的 $c_1,c_2$,满足\n",
    "\n",
    "$$c_1x(t)+c_2y(t)=0$$"
   ]
  },
  {
   "cell_type": "markdown",
   "metadata": {},
   "source": [
    "当 $c_1 \\neq 0$ 时，$\\frac{x(t)}{y(t)}=-\\frac{c_2}{c_1}=$ 常数"
   ]
  },
  {
   "cell_type": "markdown",
   "metadata": {},
   "source": [
    "当 $c_2 \\neq 0$ 时，$\\frac{y(t)}{x(t)}=-\\frac{c_1}{c_2}=$ 常数"
   ]
  },
  {
   "cell_type": "markdown",
   "metadata": {},
   "source": [
    "易知，在区间 $a \\leq t \\leq b$ 上，此与已知 $\\frac{x(t)}{y(t)} \\neq$ 常数或 $\\frac{y(t)}{x(t)} \\neq$ 常数 矛盾\n"
   ]
  },
  {
   "cell_type": "markdown",
   "metadata": {},
   "source": [
    "假设不成立，即$x(t)$ 和 $y(t)$ 在区间 $a \\leq t \\leq b$ 上线性无关"
   ]
  },
  {
   "cell_type": "markdown",
   "metadata": {},
   "source": [
    "**2.证明非齐次线性微分方程的叠加原理：设 $x_1(t),x_2(t)$ 分别是非齐次线性微分方程**\n",
    "\n",
    "$$\\frac{\\mathrm d^n x}{\\mathrm d t^n}+a_1(t)\\frac{\\mathrm d^{n-1} x}{\\mathrm d t^{n-1}}+ \\cdots +a_n(t)x=f_1(t)$$\n",
    "\n",
    "$$\\frac{\\mathrm d^n x}{\\mathrm d t^n}+a_1(t)\\frac{\\mathrm d^{n-1} x}{\\mathrm d t^{n-1}}+ \\cdots +a_n(t)x=f_2(t)$$\n",
    "\n",
    "**的解，则 $x_1(t)+x_2(t)$ 是方程**\n",
    "\n",
    "$$\\frac{\\mathrm d^n x}{\\mathrm d t^n}+a_1(t)\\frac{\\mathrm d^{n-1} x}{\\mathrm d t^{n-1}}+ \\cdots +a_n(t)x=f_1(t)+f_2(t)$$\n",
    "\n",
    "**的解。**"
   ]
  },
  {
   "cell_type": "markdown",
   "metadata": {},
   "source": [
    "**解：**"
   ]
  },
  {
   "cell_type": "markdown",
   "metadata": {},
   "source": [
    "已知，$x_1(t),x_2(t)$ 分别是非齐次线性微分方程\n",
    "\n",
    "$$\\frac{\\mathrm d^n x}{\\mathrm d t^n}+a_1(t)\\frac{\\mathrm d^{n-1} x}{\\mathrm d t^{n-1}}+ \\cdots +a_n(t)x=f_1(t)$$\n",
    "\n",
    "$$\\frac{\\mathrm d^n x}{\\mathrm d t^n}+a_1(t)\\frac{\\mathrm d^{n-1} x}{\\mathrm d t^{n-1}}+ \\cdots +a_n(t)x=f_2(t)$$\n",
    "\n",
    "的解"
   ]
  },
  {
   "cell_type": "markdown",
   "metadata": {},
   "source": [
    "则有"
   ]
  },
  {
   "cell_type": "markdown",
   "metadata": {},
   "source": [
    "$$\\frac{\\mathrm d^n x_1(t)）}{\\mathrm d t^n}+a_1(t)\\frac{\\mathrm d^{n-1} x_1(t)}{\\mathrm d t^{n-1}}+ \\cdots +a_n(t)x_1(t)=f_1(t)$$\n",
    "\n",
    "$$\\frac{\\mathrm d^n x_2(t)}{\\mathrm d t^n}+a_1(t)\\frac{\\mathrm d^{n-1} x_2(t)}{\\mathrm d t^{n-1}}+ \\cdots +a_n(t)x_2(t)=f_2(t)$$"
   ]
  },
  {
   "cell_type": "markdown",
   "metadata": {},
   "source": [
    "两式相加得"
   ]
  },
  {
   "cell_type": "markdown",
   "metadata": {},
   "source": [
    "$$\\frac{\\mathrm d^n (x_1(t)+x_2(t))}{\\mathrm d t^n}+a_1(t)\\frac{\\mathrm d^{n-1} (x_1(t)+x_2(t))}{\\mathrm d t^{n-1}}+ \\cdots +a_n(t)(x_1(t)+x_2(t))=f_1(t)+f_2(t)$$"
   ]
  },
  {
   "cell_type": "markdown",
   "metadata": {},
   "source": [
    "易知，$x_1(t)+x_2(t)$ 是方程\n",
    "\n",
    "$$\\frac{\\mathrm d^n x}{\\mathrm d t^n}+a_1(t)\\frac{\\mathrm d^{n-1} x}{\\mathrm d t^{n-1}}+ \\cdots +a_n(t)x=f_1(t)+x_2(t)$$\n",
    "\n",
    "的解"
   ]
  },
  {
   "cell_type": "markdown",
   "metadata": {
    "collapsed": true
   },
   "source": [
    "**2016.10.19**"
   ]
  },
  {
   "cell_type": "markdown",
   "metadata": {},
   "source": [
    "**3.已知齐次线性微分方程的基本解组 $x_1,x_2$ ,求下列方程对应的非齐次线性微分方程的通解：**\n",
    "\n",
    "（1）$x''-x=\\cos t,x_1=e^t,x_2=e^{-t}$\n",
    "\n",
    "（3）$x''+4x=t \\sin t,x_1=\\cos 2t,x_2=\\sin 2t$\n",
    "\n",
    "（5）$t^2x''-tx'+x=6t+34t^2,x_1=t,x_2=t ln t$"
   ]
  },
  {
   "cell_type": "markdown",
   "metadata": {},
   "source": [
    "**解：**"
   ]
  },
  {
   "cell_type": "markdown",
   "metadata": {},
   "source": [
    "**（1）**\n"
   ]
  },
  {
   "cell_type": "markdown",
   "metadata": {},
   "source": [
    "应用常数变易法，令\n",
    " \n",
    "$$x=c_1(t)e^t+c_2(t)e^{-t}$$"
   ]
  },
  {
   "cell_type": "markdown",
   "metadata": {},
   "source": [
    "对上式求导得"
   ]
  },
  {
   "cell_type": "markdown",
   "metadata": {},
   "source": [
    "$$x'=c_1'(t)e^t+c_1(t)e^t+c_2'(t)e^{-t}-c_2(t)e^{-t}$$"
   ]
  },
  {
   "cell_type": "markdown",
   "metadata": {},
   "source": [
    "令 $c_1'(t)e^t+c_2'(t)e^{-t}=0$，则 $x'=c_1(t)e^t-c_2(t)e^{-t}\\cdots①$"
   ]
  },
  {
   "cell_type": "markdown",
   "metadata": {},
   "source": [
    "对①式求导得 \n",
    "\n",
    "$$x'=c_1'(t)e^t+c_1(t)e^t-c_2'(t)e^{-t}+c_2(t)e^{-t}$$"
   ]
  },
  {
   "cell_type": "markdown",
   "metadata": {},
   "source": [
    "则 $x''-x=c_1'(t)-c_2'(t)e^{-t}=\\cos t$ "
   ]
  },
  {
   "cell_type": "markdown",
   "metadata": {},
   "source": [
    "得到 $$c_1'(t)=\\frac{\\cos t}{2e^t}$$\n",
    "\n",
    "$$c_2'(t)=-\\frac{\\cos t}{2e^{-t}}$$"
   ]
  },
  {
   "cell_type": "markdown",
   "metadata": {},
   "source": [
    "积分得到 $$c_1(t)=\\frac{\\sin t -\\cos t}{4e^t}+\\gamma_1$$\n",
    "\n",
    "$$c_2(t)=-\\frac{e^t(\\sin t +\\cos t)}{4}+\\gamma_2$$"
   ]
  },
  {
   "cell_type": "markdown",
   "metadata": {},
   "source": [
    "得到原方程的通解为 $$x=\\frac{\\sin t -\\cos t}{4}-\\frac{\\sin t +\\cos t}{4}+e^t\\gamma_1+e^{-t}\\gamma_2$$\n",
    "\n",
    "即 $$x=e^t\\gamma_1+e^{-t}\\gamma_2+\\frac{1}{2}\\cos t$$"
   ]
  },
  {
   "cell_type": "markdown",
   "metadata": {},
   "source": [
    "**（3）**"
   ]
  },
  {
   "cell_type": "markdown",
   "metadata": {},
   "source": [
    "应用常数变易法，令 $$x=c_1(t)\\cos 2t+c_2(t) \\sin 2t$$"
   ]
  },
  {
   "cell_type": "markdown",
   "metadata": {},
   "source": [
    "对上式求导得 $$x'=c_1'(t)\\cos t-2c_1(t)\\sin 2t+c_2'(t)\\sin 2t+2c_2'(t)\\cos 2t$$"
   ]
  },
  {
   "cell_type": "markdown",
   "metadata": {},
   "source": [
    "令 $c_1'(t)\\cos t+c_2'(t)\\sin 2t=0$,则 $$x'=-2c_1(t)\\sin 2t+2c_2'(t)\\cos 2t\\cdots①$$"
   ]
  },
  {
   "cell_type": "markdown",
   "metadata": {},
   "source": [
    "对①式求导得到 $$x''=2c_2'(t)\\cos 2t-4c_2(t)\\sin 2t-2c_1'(t)\\sin 2t-4c_1(t)\\cos 2t$$"
   ]
  },
  {
   "cell_type": "markdown",
   "metadata": {},
   "source": [
    "则 $x''+4x=2c_2'(t)\\cos 2t-2c_1'(t)\\sin 2t=t\\sin 2t$"
   ]
  },
  {
   "cell_type": "markdown",
   "metadata": {},
   "source": [
    "解得 $$c_1'(t)=-\\frac{1}{2}t\\sin^2 2t$$\n",
    "\n",
    "$$c_2'(t)=\\frac{1}{2}t\\sin 2t \\cos 2t$$"
   ]
  },
  {
   "cell_type": "markdown",
   "metadata": {},
   "source": [
    "积分得 $$c_1(t)=-\\frac{1}{8}t^2+\\frac{1}{16}t\\sin 4t+\\frac{1}{64}\\cos 4t+\\gamma_1$$\n",
    "\n",
    "$$c_2(t)=-\\frac{1}{16}t\\cos 4t+\\frac{1}{64}\\sin 4t+\\gamma_2$$"
   ]
  },
  {
   "cell_type": "markdown",
   "metadata": {},
   "source": [
    "即原方程的通解为 $$x=-\\frac{t^2}{8}\\cos 2t+\\frac{t}{16}\\sin 2t+\\gamma_1\\cos 2t+\\gamma_2\\sin 2t$$"
   ]
  },
  {
   "cell_type": "markdown",
   "metadata": {},
   "source": [
    "**（5）**"
   ]
  },
  {
   "cell_type": "markdown",
   "metadata": {},
   "source": [
    "应用常数变易法，可设 $$x=c_1(t)t+c_2(t)t \\ln t$$"
   ]
  },
  {
   "cell_type": "markdown",
   "metadata": {},
   "source": [
    "对上式求导得 $$x'=c_1'(t)t+c_1(t)+c_2'(t）t \\ln t+c_2(t)\\ln t+c_2(t)$$"
   ]
  },
  {
   "cell_type": "markdown",
   "metadata": {},
   "source": [
    "令 $c_1'(t)t+c_2'(t)t \\ln t=0$,则 $$x'=c_1(t)+c_2(t)+c_2(t) \\ln t \\cdots①$$"
   ]
  },
  {
   "cell_type": "markdown",
   "metadata": {},
   "source": [
    "对①式求导得 $$x''=c_1'(t)+c_2'(t)+c_2'(t)\\ln t+c_2(t)\\frac{1}{t}$$\n"
   ]
  },
  {
   "cell_type": "markdown",
   "metadata": {},
   "source": [
    "可得 $$c_1'(t)=-\\frac{(6+34t)\\ln t}{t}$$\n",
    "\n",
    "$$c_2'(t)=\\frac{6t+34t^2}{t^2}$$"
   ]
  },
  {
   "cell_type": "markdown",
   "metadata": {},
   "source": [
    "积分得 $$c_1(t)=-3\\ln^2 t-34t \\ln t+34t+\\gamma_1$$\n",
    "\n",
    "$$c_2(t)=6\\ln t+34t+\\gamma_2$$"
   ]
  },
  {
   "cell_type": "markdown",
   "metadata": {},
   "source": [
    "即原方程的通解为 $$x=3t\\ln^2 t+34t^2+t\\gamma_1+t\\ln t \\gamma_2$$"
   ]
  },
  {
   "cell_type": "markdown",
   "metadata": {
    "collapsed": true
   },
   "source": [
    "**6.假设 $x_1(t)\\neq 0$ 是二阶齐次线性微分方程 **\n",
    "\n",
    "$$x''+a_1(t)x'+a_2(t)x=0$$ \n",
    "\n",
    "**的解，这里 $a_1(t)$ 和 $a_2(t)$ 于区间 $[a,b]$ 上连续，试证：**\n",
    "\n",
    "**（1）$x_2(t)$ 为方程的解的冲要条件是 $$W'[x_1,x_2]+a_1W[x_1,x_2]=0$$**\n",
    "\n",
    "**（2）方程的通解可表为 $$x=x_1[c_1 \\int \\frac{1}{x^2}exp(-\\int_{t_0}^t a_1(s) \\mathrm d s)\\mathrm d t+c_2]$$ 其中 $c_1,c_2$ 为任意常数，$t_0,t \\in [a,b]$**"
   ]
  },
  {
   "cell_type": "markdown",
   "metadata": {},
   "source": [
    "证明："
   ]
  },
  {
   "cell_type": "markdown",
   "metadata": {},
   "source": [
    "**（1）充分性：**"
   ]
  },
  {
   "cell_type": "markdown",
   "metadata": {},
   "source": [
    "已知\n",
    "\n",
    "$W[x_1,x_2]=\\begin{vmatrix}\n",
    "                x_1 & x_2\\\\\n",
    "                x_1' & x_2'\n",
    "               \\end{vmatrix}$"
   ]
  },
  {
   "cell_type": "markdown",
   "metadata": {},
   "source": [
    "$W'[x_1,x_2]=\\begin{vmatrix}\n",
    "                x_1' & x_2'\\\\\n",
    "                x_1' & x_2'\n",
    "               \\end{vmatrix}\n",
    "           +  \\begin{vmatrix}\n",
    "                 x_1 & x_2\\\\\n",
    "                 x_1'' & x_2''\n",
    "               \\end{vmatrix}$\n",
    "               \n",
    "             \n",
    "               "
   ]
  },
  {
   "cell_type": "markdown",
   "metadata": {},
   "source": [
    "即 $W'[x_1,x_2]=\\begin{vmatrix}\n",
    "                 x_1 & x_2\\\\\n",
    "                 x_1'' & x_2''\n",
    "               \\end{vmatrix}$\n",
    "               "
   ]
  },
  {
   "cell_type": "markdown",
   "metadata": {},
   "source": [
    "则$W'[x_1,x_2]+a_1W[x_1,x_2]=\\begin{vmatrix}\n",
    "                             x_1 & x_2\\\\\n",
    "                             x_1'' & x_2''\n",
    "                           \\end{vmatrix}\n",
    "                          +a_1(t)\\begin{vmatrix}\n",
    "                                  x_1 & x_2 \\\\\n",
    "                                  x_1' & x_2'\n",
    "                                 \\end{vmatrix}\n",
    "                          =\\begin{vmatrix}\n",
    "                            x_1 & x_2\\\\\n",
    "                            x_1''+a_1(t)x_1' & x_2''+a_1(t)x_2'\n",
    "                           \\end{vmatrix}$\n",
    "               "
   ]
  },
  {
   "cell_type": "markdown",
   "metadata": {},
   "source": [
    "已知 $x_1(t)$ 是已知方程的解，则有\n",
    "\n",
    "$\\begin{vmatrix}\n",
    "  x_1 & x_2\\\\\n",
    "  x_1''+a_1(t)x_1' & x_2''+a_1(t)x_2'\n",
    "  \\end{vmatrix}\n",
    "  =\\begin{vmatrix}\n",
    "     x_1 & x_2\\\\\n",
    "     -a_2(t)x_1(t) & x_2''+a_1(t)x_2'\n",
    "   \\end{vmatrix}\n",
    "  =x_1\\begin{vmatrix}\n",
    "        1 & x_2\\\\\n",
    "        -a_2(t) & x_2''+a_1(t)x_2'\n",
    "       \\end{vmatrix}=0$"
   ]
  },
  {
   "cell_type": "markdown",
   "metadata": {},
   "source": [
    "因此，$x_2''+a_1(t)x_2'+a_2(t)x_2$\n",
    "\n",
    "即 $x_2(t)$ 是方程的解"
   ]
  },
  {
   "cell_type": "markdown",
   "metadata": {},
   "source": [
    "**必要性：**"
   ]
  },
  {
   "cell_type": "markdown",
   "metadata": {},
   "source": [
    "$W[x_1,x_2]$ 是方程的解 $x_1(t),x_2(t)$ 的朗斯基行列式，得到"
   ]
  },
  {
   "cell_type": "markdown",
   "metadata": {},
   "source": [
    "$W'[x_1,x_2]=\\begin{vmatrix}\n",
    "                x_1 & x_2\\\\\n",
    "                x_1'' & x_2''\n",
    "                \\end{vmatrix}\n",
    "             =\\begin{vmatrix}\n",
    "               x_1 & x_2\\\\\n",
    "               x_1''+a_2(t)x_1 & x_2''+a_2(t)x_2\n",
    "               \\end{vmatrix}\n",
    "              =\\begin{vmatrix}\n",
    "               x_1 & x_2\\\\\n",
    "               -a_1(t)x_1' & -a_1(t)x_2'\n",
    "               \\end{vmatrix}\n",
    "              =-a_1(t)\\begin{vmatrix}\n",
    "                        x_1 & x_2\\\\\n",
    "                        x_1' & x_2'\n",
    "                        \\end{vmatrix}\n",
    "               =-a_1(t)W[x_1,x_2]$\n"
   ]
  },
  {
   "cell_type": "markdown",
   "metadata": {},
   "source": [
    "即 $W[x_1.x_2]$ 满足 $W'[x_1,x_2]+a_1W[x_1,x_2]=0$"
   ]
  },
  {
   "cell_type": "markdown",
   "metadata": {},
   "source": [
    "**（2）**"
   ]
  },
  {
   "cell_type": "markdown",
   "metadata": {},
   "source": [
    "因为 $x_1,x_2$ 为方程的解，则由刘维尔公式得\n",
    "\n",
    "$\\begin{vmatrix}\n",
    "     x_1 & x_2\\\\\n",
    "     x_1' & x_2'\n",
    "  \\end{vmatrix}\n",
    " =W(t_0)e^{-\\int_{t_0}^t a_1(s) \\mathrm d s}$\n",
    "         "
   ]
  },
  {
   "cell_type": "markdown",
   "metadata": {},
   "source": [
    "即 $x_1x_2'-x_1'x_2=W(t_0)e^{-\\int_{t_0}^t a_1(s) \\mathrm d s}$"
   ]
  },
  {
   "cell_type": "markdown",
   "metadata": {},
   "source": [
    "方程两边同乘以 $\\frac{1}{x^2}$,则有 $\\frac{\\mathrm d(\\frac{x_2}{x_1})}{\\mathrm d t}=\\frac{W(t_0)}{x_1^2}e^{-\\int_{t_0}^t a_1(s) \\mathrm d s}$"
   ]
  },
  {
   "cell_type": "markdown",
   "metadata": {},
   "source": [
    "得到 $\\frac{x_2}{x_1}=c_1\\int \\frac{1}{x_1^2}exp(-\\int_{t_0}^t a_1(s) \\mathrm d s)\\mathrm d t+c_2$\n",
    "\n",
    "即 $x_2=x_1(c_1\\int \\frac{1}{x_1^2}exp(-\\int_{t_0}^t a_1(s) \\mathrm d s)\\mathrm d t+c_2)$\n",
    "\n",
    "取 $c_1=1,c_2=0$ 得到 $$x_2=x_1\\int \\frac{1}{x_1^2}exp(-\\int_{t_0}^t a_1(s) \\mathrm d s)\\mathrm d t$$"
   ]
  },
  {
   "cell_type": "markdown",
   "metadata": {},
   "source": [
    "又 $W(t)=\\begin{vmatrix}\n",
    "                x_1 & x_2\\\\\n",
    "                x_1' & x_2'\n",
    "           \\end{vmatrix}\n",
    "         =exp(-\\int_{t_0}^t a_1(s)\\mathrm d s)\\neq 0$\n",
    "          "
   ]
  },
  {
   "cell_type": "markdown",
   "metadata": {},
   "source": [
    "因此原方程的通解可以表示为 $$x=x_1[c_1\\int \\frac{1}{x_1^2}exp(-\\int_{t_0}^t a_1(s) \\mathrm d s)\\mathrm d t+c_2]$$\n",
    "\n",
    "其中 $c_1,c_2$为常数，$t_0.t \\in [a,b]$"
   ]
  },
  {
   "cell_type": "markdown",
   "metadata": {
    "collapsed": true
   },
   "source": [
    "# <font color='red'>A+ 26/10"
   ]
  },
  {
   "cell_type": "code",
   "execution_count": null,
   "metadata": {
    "collapsed": true
   },
   "outputs": [],
   "source": []
  }
 ],
 "metadata": {
  "kernelspec": {
   "display_name": "SageMath 7.3",
   "language": "",
   "name": "sagemath"
  },
  "language_info": {
   "codemirror_mode": {
    "name": "ipython",
    "version": 2
   },
   "file_extension": ".py",
   "mimetype": "text/x-python",
   "name": "python",
   "nbconvert_exporter": "python",
   "pygments_lexer": "ipython2",
   "version": "2.7.10"
  }
 },
 "nbformat": 4,
 "nbformat_minor": 0
}
