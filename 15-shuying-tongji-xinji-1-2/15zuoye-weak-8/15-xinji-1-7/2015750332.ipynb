{
 "cells": [
  {
   "cell_type": "markdown",
   "metadata": {},
   "source": [
    "$$第六次常微分作业$$"
   ]
  },
  {
   "cell_type": "markdown",
   "metadata": {},
   "source": [
    "1.设x(t)和y(t)是区间$a\\leq t \\leq b$上的连续函数，证明：如果在区间$a\\leq t \\leq b$上有$\\frac{x(t)}{y(t)}\\neq 常数$或$\\frac{y(t)}{x(t)}\\neq 常数$,则x(t)和y(t)在区间$a\\leq t \\leq b$上线性无关"
   ]
  },
  {
   "cell_type": "markdown",
   "metadata": {},
   "source": [
    "$$证明：假设x(t)，y(t)在区间a \\leq t \\leq b上线性相关$$\n",
    "\n",
    "$$则存在不全为零的常数c_1,c_2，使得$$\n",
    "\n",
    "$$ c_1x(t)+c_2 y(t) \\equiv 0,t \\in [a,b]$$\n",
    "\n",
    "$$不妨设x(t)不为零，则有$$\n",
    "\n",
    "$$\\frac{y(t)}{x(t)}=-\\frac{c_1}{c_2}$$\n",
    "\n",
    "$$显然-\\frac{c_1}{c_2}为常数，矛盾,即得证。$$"
   ]
  },
  {
   "cell_type": "markdown",
   "metadata": {},
   "source": [
    "2.证明非齐次线性微分方程的叠加原理：设$x_1(t),x_2(t)$分别是非齐次线性微分方程\n",
    "\n",
    "$\\frac{d^{n}x}{\\mathrm d t^n}+a_1(t)\\frac{d^{n-1}x}{\\mathrm d t^{n-1}}+\\cdots+a_n(t)x=f_1(t)$，\n",
    "$\\frac{d^{n}x}{\\mathrm d t^n}+a_1(t)\\frac{d^{n-1}x}{\\mathrm d t^{n-1}}+\\cdots+a_n(t)x=f_2(t)$的解，\n",
    "\n",
    "则$x_1(t)+x_2(t)$\n",
    "是方程$\\frac{d^{n}x}{\\mathrm d t^n}+a_1(t)\\frac{d^{n-1}x}{\\mathrm d t^{n-1}}+\\cdots+a_n(t)x=f_1(t)+f_2(t)$的解\n"
   ]
  },
  {
   "cell_type": "markdown",
   "metadata": {},
   "source": [
    "$$证明：由题设条件可知x_1(t)、x_2(t)分别是方程(1)，(2)的解,$$\n",
    "\n",
    "\n",
    "$$则\\frac{d^{n}x_1(t)}{\\mathrm d t^n}+a_1(t)\\frac{d^{n-1}x_1(t)}{\\mathrm d t^{n-1}}+\\cdots+a_n(t)x_1(t)=f_1(t)$$\n",
    "\n",
    "$$\\frac{d^{n}x_2(t)}{\\mathrm d t^n}+a_1(t)\\frac{d^{n-1}x_2(t)}{\\mathrm d t^{n-1}}+\\cdots+a_n(t)x_2(t)=f_2(t)$$\n",
    "\n",
    "$$两式相加，得$$\n",
    "\n",
    "$$\\frac{d^{n}(x_1(t)+x_2(t))}{\\mathrm d t^n}+a_1(t)\\frac{d^{n-1}(x_1(t)+x_2(t))}{\\mathrm d t^{n-1}}+\\cdots+a_n(t)(x_1(t)+x_2(t))=f_1(t)+f_2(t)$$\n",
    "\n",
    "$$说明(x_1(t)+x_2(t))是上式的解。$$"
   ]
  },
  {
   "cell_type": "markdown",
   "metadata": {},
   "source": [
    "3.已知齐次线性微分方程的基本解组$x_1,x_2$,求下列方程对应的非齐次线性微分方程的通解:"
   ]
  },
  {
   "cell_type": "markdown",
   "metadata": {},
   "source": [
    "(1)$x''-x=\\ cost,x_1=e^t,x_2=e^{-t};$\n",
    "\n",
    "解：$$令x(t)=c_1(t)e^t+c_2(t)e^{-t},$$\n",
    "\n",
    "$$将其代入方程，则有$$\n",
    "\n",
    "$$\\begin{cases}c'_1(t)e^t+c'_2(t)e^{-t}=0\\\\c'_1(t)e^t-c'_2(t)e^{-t}=\\cos t\\end{cases}$$\n",
    "\n",
    "解得\n",
    "\n",
    "$$\\begin{cases}c'_1(t)=\\frac{1}{2}e^{-t}\\cos t\\\\c'_2(t)=-\\frac{1}{2}e^t\\cos t\\end{cases}$$\n",
    "\n",
    "积分得\n",
    "\n",
    "$$\\begin{cases}c_1(t)=-\\frac{1}{4}e^{-t}(\\cos t - \\sin t)+c_1\\\\c_2(t)=-\\frac{1}{4}e^t(\\cos t + \\sin t)+c_2\\end{cases}$$\n",
    "\n",
    "故通解为\n",
    "$$x(t)=c_1e^t +c_2e^{-t}-\\frac{1}{2}\\cos t$$"
   ]
  },
  {
   "cell_type": "markdown",
   "metadata": {},
   "source": [
    "（3）$x''+4x=t\\ sin2t,x_1=\\cos 2t,x_2=\\sin 2t;$"
   ]
  },
  {
   "cell_type": "markdown",
   "metadata": {},
   "source": [
    "解：$$令x(t)=c_1(t)\\cos 2t+c_2(t)\\sin 2t,$$\n",
    "\n",
    "$$将其代入方程，则有$$\n",
    "\n",
    "$$\\begin{cases}c'_1(t)\\cos 2t+c'_2(t)\\sin 2t=0\\\\-2c'_1(t)\\sin 2t+2c'_2(t)\\cos 2t=t\\sin 2t\\end{cases}$$\n",
    "\n",
    "解得\n",
    "\n",
    "$$\\begin{cases}c'_1(t)=\\frac{1}{4}(\\cos 4t -1)\\\\c'_2(t)=\\frac{1}{4}\\sin 4t\\end{cases}$$\n",
    "\n",
    "积分得\n",
    "\n",
    "$$\\begin{cases}c_1(t)=\\frac{1}{64}\\cos 4t + \\frac{1}{16}t\\sin 4t - \\frac{1}{8}t^2 + \\gamma_1\\\\c_2(t)=\\frac{1}{64}\\sin 4t - \\frac{1}{16}t\\cos4t + \\gamma_2\\end{cases}$$\n",
    "\n",
    "所以通解为$$c_1\\cos 2t+c_2\\sin 2t-\\frac{1}{8}t^2\\cos 2t+\\frac{1}{16}t\\sin 2t$$"
   ]
  },
  {
   "cell_type": "markdown",
   "metadata": {},
   "source": [
    "(5)$t^2x''-tx'+x=6t+34t^2,x_1=t,x_2=tlnt;$"
   ]
  },
  {
   "cell_type": "markdown",
   "metadata": {},
   "source": [
    "解：原方程可化为\n",
    "$$x''-\\frac{1}{t}x'+\\frac{1}{t^2}x=\\frac{6}{t}+34$$\n",
    "令方程组的解为\n",
    "$$x=t \\bullet c_1(t)+t\\ln t \\bullet c_2(t)$$\n",
    "可得\n",
    "\n",
    "$$\\begin{cases}t \\bullet c'_1(t)+t\\ln t \\bullet c'_2(t)=0\\\\c'_1(t)+(\\ln t +1)c'_2(t)=\\frac{6}{t}+34\\end{cases}$$\n",
    "\n",
    "解得\n",
    "\n",
    "$$\\begin{cases}c'_1(t)=-\\ln t(\\frac{6}{t}+34)\\\\c'_2(t)=\\frac{6}{t}+34\\end{cases}$$\n",
    "\n",
    "积分得\n",
    "\n",
    "$$\\begin{cases}c_1(t)=-34(t\\ln t-t)-3(\\ln t)^2 +c_1\\\\c_2(t)=34t+6\\ln t+c_2\\end{cases}$$\n",
    "\n",
    "所以通解为\n",
    "$$c_1 \\bullet t+c_2 t\\ln t+34t^2+3t(\\ln t)^2$$"
   ]
  },
  {
   "cell_type": "markdown",
   "metadata": {},
   "source": [
    "6.假设$x_1(t)\\neq 0$是二阶齐次线性微分方程$x''+a_1(t)x'+a_2(t)x=0$的解，这里$a_1(t)$和$a_2(t)$于区间[a,b]上连续，\n",
    "\n",
    "试证：\n",
    "（1）$x_2(t)$为方程解的充要条件是$W'[x_1，x_2]+a_1W[x_1，x_2]=0$;\n",
    "\n",
    "(2)方程的通解可表示为$x=x_1[c_1\\int_\\frac{1}{{x_1}^2}exp(-\\int_{t_0}^ta_1(s)ds)dt+c_2],$\n",
    " 其中$c_1,c_2$为任意常数，$t_0，t$属于[a,b]."
   ]
  },
  {
   "cell_type": "markdown",
   "metadata": {},
   "source": [
    "解(1)证明：$$W'[x_1,x_2]+a_1W[x_1,x_2]=0$$\n",
    "\n",
    "$$\\Leftrightarrow x_1x''_2-x''_1x_2+a_1x_1x'_2-a_1x'_1x_2=0$$\n",
    "\n",
    "$$\\Leftrightarrow x_1x''_2-x''_1x_2+a_1x_1x'_2-a_1x'_1x_2+a_2x_1x_2-a_1x_1x_2=0$$\n",
    "\n",
    "$$\\Leftrightarrow x_1(x''_2+a_1x'_2+a_2x_2)=0$$\n",
    "\n",
    "$$\\Leftrightarrow x''_2+a_1x'_2+a_2x_2=0   (x_1 \\neq 0)$$\n",
    "\n",
    "$$即x_2为解$$\n",
    "\n",
    "\n",
    "(2)因为$x_1,x_2$为方程的解，则由刘维尔公式得\n",
    "\n",
    "$$\\begin{vmatrix}x_1 & x_2 \\\\x'_1 & x'_2\\\\\\end{vmatrix}=W(t_0)e^{-\\int_{t_0}^t a_1(s)\\mathrm d s}$$\n",
    "\n",
    "即\n",
    "\n",
    "$$x_1x'_2-x'_1x_2=W(t_0)e^{-\\int_{t_0}^t a_1(s)\\mathrm d s}$$\n",
    "\n",
    "两边乘$\\frac{1}{x^2_1}$,则有\n",
    "\n",
    "$$\\frac{\\mathrm d (\\frac{x_2}{x_1})}{\\mathrm d t}=\\frac{W(t_0)}{x^2_1}e^{-\\int_{t_0}^t a_1(s)\\mathrm d s}$$\n",
    "\n",
    "则\n",
    "\n",
    "$$\\frac{x_2}{x_1}=c_1 \\int \\frac{1}{x^2_1}e^{-\\int_{t_0}^t a_1(s)\\mathrm d s}\\mathrm d t +c_2$$\n",
    "\n",
    "即\n",
    "\n",
    "$$x_2=x_1\\int \\frac{1}{x^2_1}e^{-\\int_{t_0}^t a_1(s)\\mathrm d s}\\mathrm d t$$\n",
    "\n",
    "又\n",
    "$$W(t)=\\begin{vmatrix}x_1 & x_2 \\\\x'_1 & x'_2\\\\\\end{vmatrix}=e^{-\\int_{t_0}^t a_1(s)\\mathrm d s} \\neq 0$$\n",
    "\n",
    "所以通解为\n",
    "$$x=x_1[c_1 \\int \\frac{1}{x^2_1} \\exp(-\\int_{t_0}^t a_1(s)\\mathrm d s)\\mathrm d t +c_2 ]$$"
   ]
  },
  {
   "cell_type": "markdown",
   "metadata": {
    "collapsed": true
   },
   "source": [
    "# <font color='red'>A －24/10"
   ]
  },
  {
   "cell_type": "code",
   "execution_count": null,
   "metadata": {
    "collapsed": true
   },
   "outputs": [],
   "source": []
  }
 ],
 "metadata": {
  "kernelspec": {
   "display_name": "SageMath 7.3",
   "language": "",
   "name": "sagemath"
  },
  "language_info": {
   "codemirror_mode": {
    "name": "ipython",
    "version": 2
   },
   "file_extension": ".py",
   "mimetype": "text/x-python",
   "name": "python",
   "nbconvert_exporter": "python",
   "pygments_lexer": "ipython2",
   "version": "2.7.10"
  }
 },
 "nbformat": 4,
 "nbformat_minor": 0
}
