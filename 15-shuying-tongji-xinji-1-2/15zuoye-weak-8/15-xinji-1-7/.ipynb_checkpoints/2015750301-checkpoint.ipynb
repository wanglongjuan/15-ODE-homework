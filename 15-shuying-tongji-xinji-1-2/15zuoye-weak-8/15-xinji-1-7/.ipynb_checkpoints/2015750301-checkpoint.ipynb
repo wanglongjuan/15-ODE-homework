{
 "cells": [
  {
   "cell_type": "markdown",
   "metadata": {},
   "source": [
    "$p131.1$"
   ]
  },
  {
   "cell_type": "markdown",
   "metadata": {},
   "source": [
    "$假设x（t）与y（t）在区间a\\leq t\\leq b上线性相关，则有不全为0的常数\\alpha 与\\beta使得其\\alpha x(t)+\\beta y(t)\\neq 0$"
   ]
  },
  {
   "cell_type": "markdown",
   "metadata": {},
   "source": [
    "$设x(t)不为0，则有\\frac{y(t)}{x(t)}=-\\frac{\\alpha}{\\beta}与其矛盾，不合题意，所以假设不成立，其x(t)与y(t)线性相关$"
   ]
  },
  {
   "cell_type": "markdown",
   "metadata": {},
   "source": [
    "$p131.1$"
   ]
  },
  {
   "cell_type": "markdown",
   "metadata": {},
   "source": [
    "$因为由题意得到\\frac{d^nx_1(t)}{dt^n}+a_1\\frac{d^{n-1}x_1(t)}{dt^{n-1}}+......+an(t)x_1(t)=f_1(t)$"
   ]
  },
  {
   "cell_type": "markdown",
   "metadata": {},
   "source": [
    "$\\frac{d^nx_2(t)}{dt^n}+a_1\\frac{d^{n-1}x_2(t)}{dt^{n-1}}+......+an(t)x_2(t)=f_2(t),将两个式子相加求导得到$"
   ]
  },
  {
   "cell_type": "markdown",
   "metadata": {},
   "source": [
    "$\\frac{d^n(x_1(t)+x_2(t))}{dt^n}+a_1(t)\\frac{d^{n-1}(x_1(t)+x_2(t))}{dt^{n-1}}+......+a_n(t)(x_1(t)+x_2(t))=f_1(t)+f_2(t)$"
   ]
  },
  {
   "cell_type": "markdown",
   "metadata": {},
   "source": [
    "$s所以方程x_1(t)+x_2(t)为方程的解$"
   ]
  },
  {
   "cell_type": "markdown",
   "metadata": {},
   "source": [
    "$p131.3.(1)$"
   ]
  },
  {
   "cell_type": "markdown",
   "metadata": {},
   "source": [
    "$令x(t)=c_1(t)e^t+c_2(t)e^{-t}带入方程则有 c'_1(t)e^t+c'_2(t)e^{-t}=0 ,c'_1(t)e^t+c'_2(t)e^{-t}=cost$"
   ]
  },
  {
   "cell_type": "markdown",
   "metadata": {},
   "source": [
    "$c'_1(t)=\\frac{1}{2}e^{-t}cost,c'_2(t)=\\frac{-1}{2}e^tcost将两边同时积分得到，所求通解x(t)=c_1e^t+c_2e^{-t}-\\frac{-1}{2}cost$"
   ]
  },
  {
   "cell_type": "markdown",
   "metadata": {},
   "source": [
    "$(3)$"
   ]
  },
  {
   "cell_type": "markdown",
   "metadata": {},
   "source": [
    "$令x=c_1(t)cos2t+c_2(t)sin2t，带入方程得c'_1(t)cos2t+c'_2(t)sin2t=0,-2c'_1(t)sin2t+2c'_2(t)cos2t=tsin2t$"
   ]
  },
  {
   "cell_type": "markdown",
   "metadata": {},
   "source": [
    "$所以有c'_1(t)=\\frac{1}{4}t(cos4t-1),c'_2(t)=\\frac{1}{4}tsin4t,将两边积分得到方程的通解为x=c_1cos2t+c_2sin2t-\\frac{t^2cos2t}{8}+\\frac{tsin2t}{16}$"
   ]
  },
  {
   "cell_type": "markdown",
   "metadata": {},
   "source": [
    "$(5)$"
   ]
  },
  {
   "cell_type": "markdown",
   "metadata": {},
   "source": [
    "$原方程可化为x''-\\frac{1}{t}x'+\\frac{1}{t^2}x=\\frac{6}{t}+34令方程解为x=tc_1(t)+tlintc_2(t)带入方程得到tc'_1(t)+tlntc'_2(t)=0,c'_1(t)+(lnt+1)c'_2(t)=\\frac{6}{t}+34$"
   ]
  },
  {
   "cell_type": "markdown",
   "metadata": {},
   "source": [
    "$c'_1(t)=-lnt(\\frac{6}{t}+34),c'_2(t)=\\frac{6}{t}+34$"
   ]
  },
  {
   "cell_type": "markdown",
   "metadata": {},
   "source": [
    "$将两边同时积分得到x通解为x=c_1t+c_2tlnt+34t^2+3t{lnt}^2$"
   ]
  },
  {
   "cell_type": "markdown",
   "metadata": {},
   "source": [
    "$6(1)$"
   ]
  },
  {
   "cell_type": "markdown",
   "metadata": {},
   "source": [
    "$W'[x_1 x_2]+a_1W[x_1 x_2]=0$"
   ]
  },
  {
   "cell_type": "markdown",
   "metadata": {},
   "source": [
    "$x_1x''_2-x''_1x2+a_1x_1x'_2-a_1x'_1x_2=0$"
   ]
  },
  {
   "cell_type": "markdown",
   "metadata": {},
   "source": [
    "$x_1(x''_2+a_1x'_2+a_2x2)=0$"
   ]
  },
  {
   "cell_type": "markdown",
   "metadata": {},
   "source": [
    "$x''_2+a_1x'_2+a_2x_2=0,所以x_2为其解$"
   ]
  },
  {
   "cell_type": "markdown",
   "metadata": {},
   "source": [
    "$(2)$"
   ]
  },
  {
   "cell_type": "markdown",
   "metadata": {},
   "source": [
    "$\\begin{matrix}\n",
    " x_1 & x_2  \\\\\n",
    " x'_1 & x'_2  \\\\\n",
    "\\end{matrix}$"
   ]
  },
  {
   "cell_type": "markdown",
   "metadata": {},
   "source": [
    "$==W(t_0)e^{-\\int_{t_0}^t{a_1(s) d s}}$"
   ]
  },
  {
   "cell_type": "markdown",
   "metadata": {},
   "source": [
    "$x_1x'_2-x'_1x_2=W(t_0)e^{-\\int_{t_0}^t{a_1(s) d s}} 方程两边同时乘\\frac{1}{x_1^2}有\\frac{d(\\frac{x_2}{x_1})}{dt}=\\frac{W(t_0)}{x_1^2}e^{-\\int_{t_0}^t{a_1(s) d s}}$"
   ]
  },
  {
   "cell_type": "markdown",
   "metadata": {},
   "source": [
    "$所以\\frac{x_2}{x_1}=c_1\\int \\frac{1}{x_1^2}e^{-\\int_{t_0}^t{a_1(s) d s}}\\,\\mathrm{d}t+c_2$"
   ]
  },
  {
   "cell_type": "markdown",
   "metadata": {},
   "source": [
    "$令c_1=1,c_2=0有x_2=x_1\\int \\frac{1}{x_1^2}e^{-\\int_{t_0}^t{a_1(s) d s}}\\,\\mathrm{d}t,W(t)\\neq 0$"
   ]
  },
  {
   "cell_type": "markdown",
   "metadata": {},
   "source": [
    "$方程的通解可以表示为x=x_1[c_1\\int \\frac{x}{x_1^2}e^{-\\int_{t_0}^t{a_1(s) d s}}\\,\\mathrm{d}t+c_2]$"
   ]
  },
  {
   "cell_type": "markdown",
   "metadata": {
    "collapsed": true
   },
   "source": [
    "# <font color='red'>A- 24/10"
   ]
  },
  {
   "cell_type": "code",
   "execution_count": null,
   "metadata": {
    "collapsed": true
   },
   "outputs": [],
   "source": []
  }
 ],
 "metadata": {
  "kernelspec": {
   "display_name": "SageMath 7.3",
   "language": "",
   "name": "sagemath"
  },
  "language_info": {
   "codemirror_mode": {
    "name": "ipython",
    "version": 2
   },
   "file_extension": ".py",
   "mimetype": "text/x-python",
   "name": "python",
   "nbconvert_exporter": "python",
   "pygments_lexer": "ipython2",
   "version": "2.7.10"
  }
 },
 "nbformat": 4,
 "nbformat_minor": 0
}
