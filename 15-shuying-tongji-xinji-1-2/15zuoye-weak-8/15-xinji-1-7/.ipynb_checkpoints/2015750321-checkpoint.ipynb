{
 "cells": [
  {
   "cell_type": "markdown",
   "metadata": {
    "collapsed": false
   },
   "source": [
    "$1.设x(t)和y(t)是区间a \\leq t \\leq b 上的连续函数，证明：如果在区间a \\leq t \\leq b 上有\\frac{x(t)}{y(t)} \\neq 常数或\\frac{y(t)}{x(t)}\\neq 常数，则x(t)和y（t）在区间a \\leq t \\leq b上线性无关。$"
   ]
  },
  {
   "cell_type": "markdown",
   "metadata": {},
   "source": [
    "证明：假设x(t),y(t)在区间$a\\leq t \\leq b$上线性相关 则存在不全为零的常数 $\\alpha , \\beta 使得 \\alpha x(t)+ \\beta y(t)\\equiv 0 ,t \\in [a,b].$\n",
    "那么不妨设x（t）不为零 ，则有 $\\frac{y(t)}{x(t)}= -\\frac{\\alpha}{\\beta},显然-\\frac{\\alpha}{\\beta}为常数$，与题设矛盾，所以假设不成立，即证明了$x(t),y(t)在区间 a \\leq t \\leq b上线性无关。$"
   ]
  },
  {
   "cell_type": "markdown",
   "metadata": {
    "collapsed": true
   },
   "source": [
    "2.证明非齐次线性微分方程的叠加原理，设$x_1(t),x_2(t)分别是非齐次线性微分方程$ $$\\frac{d^n x}{dt^n}+a_1(t)\\frac{d^{n-1}x}{dt^{n-1}}+···+a_n(t)x=f_1(t) ----  (1)    $$ $$\\frac{d^n x}{dt^n}+a_1(t)\\frac{d^{n-1}x}{dt^{n-1}}+···+a_n(t)x=f_2(t)  ---- (2)$$\n",
    "的解，则$x_1(t)+x_2(t)$是方程$$\\frac{d^n x}{dt^n}+a_1(t)\\frac{d^{n-1}x}{dt^{n-1}}+···+a_n(t)x=f_1(t)+f_2(t)$$的解."
   ]
  },
  {
   "cell_type": "markdown",
   "metadata": {},
   "source": [
    "证明：由题设条件可知$x_1(t),x_2(t)$分别是方程 （1）（2）的解，则$$\\frac{d^n x_1(t)}{dt^n}+a_1(t)\\frac{d^{n-1}x_1(t)}{dt^{n-1}}+···+a_n(t)x_1(t)=f_1(t) ----(3) $$ $$\\frac{d^n x_2(t)}{dt^n}+a_1(t)\\frac{d^{n-1}x_2(t)}{dt^{n-1}}+···+a_n(t)x_2(t)=f_2(t)----(4)$$\n",
    "那么由（3）和（4）相加，并利用导数的运算法则得：\n",
    "$$\\frac{d^n （x_1(t)+x_2(t)）}{dt^n}+a_1(t)\\frac{d^{n-1}(x_1(t)+x_2(t))}{dt^{n-1}}+···+a_n(t)(x_1(t)+x_2(t))=f_1(t)+f_2(t)$$\n",
    "\n",
    "此即说明$x_1(t)+x_2(t)是方程\\frac{d^n x}{dt^n}+a_1(t)\\frac{d^{n-1}x}{dt^{n-1}}+···+a_n(t)x=f_1(t)+f_2(t)的解.$"
   ]
  },
  {
   "cell_type": "markdown",
   "metadata": {},
   "source": [
    "3.已知齐次线性微分方程的基本解组$x_1,x_2$求下列方程对应的非齐次线性微分方程的通解."
   ]
  },
  {
   "cell_type": "markdown",
   "metadata": {},
   "source": [
    "（1）$x''-x =\\cos t ,x_1 =e',x_2=e^{-t};$\n",
    "解：应用常数变易法，令$x(t)=c_1(t)e^t + c_2(t)e^{-t}$将它代入方程，则有\\begin{cases} c_1'(t)e^t + c_2'(t)e^{-t}=0,\\\\c_1(t)e^t - c_2(t)e^{-t}=\\cos t,\\end{cases}\n",
    "\n",
    "\n",
    "解之得$$\\begin{cases} c_1'(t)=\\frac{1}{2}e^{-t} \\cos t,\\\\c_2'(t)=-\\frac{1}{2}e^t \\cos t, \\end{cases}$$\n",
    "\n",
    "积分得$c_1(t)=-\\frac{1}{4}e^{-t}(\\cos t - \\sin t)+ c_1;;c_2(t)=-\\frac{1}{4}e^t( \\cos t + \\sin t)+c_2,$故所求的通解为$x(t)=c_1 e^t+c_2e^{-t}-\\frac{1}{2} \\cos t.$\n",
    "$$ $$\n",
    "$$ $$\n",
    "\n",
    "(3)$x''+4x=t\\sin 2t,x_1 =\\cos 2t,x_2=\\sin 2t$\n",
    "解令$x=c_1(t)\\cos 2t +c_2(t)\\sin(2t)  ，将它代入方程，可得关于c_1'(t)和c_2'(t)的方程组$   \n",
    "$$\\begin{cases} c_1'(t) \\cos 2t + c_2'(t) \\sin 2t =0 \\\\-2c_1'(t) \\sin 2t +2c_2'(t)\\cos 2t =t\\sin 2t \\end{cases}$$\n",
    "\n",
    "\n",
    "解得$$\\begin{cases}c_1'(t)=\\frac{1}{4}t(cos 4t -1),\\\\c_2'(t)=\\frac{1}{4} t sin 4t \\end{cases} $$\n",
    "\n",
    "积分得$$\\begin{cases} c_1(t)=\\frac{1}{64}\\cos 4t  +\\frac{1}{16} t \\sin 4t \\frac{1}{8}t^2 + \\gamma_1 \\\\c_2(t)=\\frac{1}{64}\\sin 4t- \\frac{1}{16} t \\cos 4t +\\gamma _2 \\end{cases}$$\n",
    "\n",
    "\n",
    "\n",
    "于是方程的通解为$x=c_1 \\cos 2t +c_2\\sin 2t-\\frac{1}{8}t^2 \\cos2t +\\frac{1}{16}t \\sin 2t ,其中c_1,c_2为任意常数$\n",
    "\n",
    "\n",
    "$$$$\n",
    "$$$$\n",
    "\n",
    "(5)$t^2x''-tx'+x=6t+34t^2,x_1=t,x_2=t \\ln t; $\n",
    "\n",
    "解：原方程可化为$x''- \\frac{1}{t}x'+\\frac{1}{t^2}x=\\frac{6}{t}+34.$\n",
    "令方程的解为$x=t·c_1(t)+t \\ln t ·c_2(t)将它代入方程得\n",
    "\n",
    "$$\\begin{cases} t·c_1'(t)+t \\ln t ·c_2'（t）=0.\\\\ c_1'(t)+(\\ln t +1) c_2'(t)=\\frac{6}{t}+34,\\end{cases}$$\n",
    "\n",
    "解得，再积分得  \n",
    "$$\\begin{cases} c_1(t) =-34(t \\ln t -t) -3t(ln t)^2+c_1 \\\\ c_2(t)=34t+ 6\\ln t +c_2 \\end{cases}$$\n",
    "\n",
    "于是方程的通解为$x=c_1·t+c_2 t \\ln t +34 t^2 +3t (\\ln t)^2,其中c_1,c_2为任意常数. $"
   ]
  },
  {
   "cell_type": "markdown",
   "metadata": {},
   "source": [
    "（6）假设$x_1(t) \\neq 0是二阶齐次线性微分方程x''+a_1(t)x'+a_2(t) x=0 $----$ (*)$的解，这里$a_1(t)和a_2(t)与区间[a,b]上连续，试证：$\n",
    "\n",
    "（1）$x_2(t)为方程的解的充要条件是$$$W'[x_1,x_2]+a_1 W[x_1,x_2] =0,$$\n",
    "\n",
    "(2)方程的通解可表示为$$x=x_1[c_1 \\int \\frac{1}{x_1^2} exp(-\\int_{t_0}^t a_1(s)\\,\\mathrm{d}s) \\,\\mathrm{d}t  +c_2]$$$q其中c_1,c_2,为任意常数，t_0,t  \\in [a,b].$"
   ]
  },
  {
   "cell_type": "markdown",
   "metadata": {},
   "source": [
    "证明:$W‘[x_1,x_2]+a_1 W[x_1,x_2]=0$\n",
    "\n",
    "\n",
    "$ \\Leftrightarrow x_1x_2''-x_1''x_2+a_1 x_1 x_2'-a_1 x_1'x_2=0;$\n",
    "\n",
    "$\\Leftrightarrow x_2''+a_1 x_2' +a_2 x_2+0,(x_1\\neq 0)$\n",
    "\n",
    "即$x_2为(*)的解.$"
   ]
  },
  {
   "cell_type": "markdown",
   "metadata": {
    "collapsed": true
   },
   "source": [
    "$(2)因为x_1,x_2为方程的解$，则由刘维尔公式$$\\begin{vmatrix}x_1 & x_2\\\\ x_1^{\\prime} & x_2^{\\prime}\\\\ \\end{vmatrix}=\n",
    "W(t_o)e^{-\\int_{t_o}^{t} a_1(s)ds},$$\n",
    "\n",
    "$$即x_1x_2^{\\prime}-x^{\\prime}x^2=W(t_o)e^{\\int_{t_o}^{t} a_1(s)ds}.$$\n",
    "\n",
    "\n",
    "解得 $$x_2=(c_1{\\int \\frac {1}{x^2} e^{-\\int_{t_o}^{t} a_1(s) ds }dt}+c_2)x_1$$\n",
    "\n",
    "$取c_1=1,c_2=0,得x_2=x_1{\\int \\frac {1}{x^2}e^{\\int_{t_o}^{t} a_1(s)ds }dt},$\n",
    "\n",
    "又$$W(t)=\\begin{vmatrix}x_1 & x_2\\\\ x_1^{\\prime} & x_2^{\\prime}\\\\\\end{vmatrix}=e^{-\\int_{t_o}^{t} a_1(s)ds} \\neq 0,$$    \n",
    "\n",
    "$从而原方程的通解可表示为x=x_1[c_1\\int \\frac {1}{x^2}exp(-\\int_{t_o}^{t} a_1(s) ds )dt+c_2],其中c_1,c_2为常数，t_0,t \\in[a,b].$"
   ]
  },
  {
   "cell_type": "markdown",
   "metadata": {
    "collapsed": true
   },
   "source": [
    "# <font color='red'>A 24/10"
   ]
  },
  {
   "cell_type": "code",
   "execution_count": null,
   "metadata": {
    "collapsed": true
   },
   "outputs": [],
   "source": []
  }
 ],
 "metadata": {
  "kernelspec": {
   "display_name": "Python 2",
   "language": "python",
   "name": "python2"
  },
  "language_info": {
   "codemirror_mode": {
    "name": "ipython",
    "version": 2
   },
   "file_extension": ".py",
   "mimetype": "text/x-python",
   "name": "python",
   "nbconvert_exporter": "python",
   "pygments_lexer": "ipython2",
   "version": "2.7.10"
  }
 },
 "nbformat": 4,
 "nbformat_minor": 0
}
