{
 "cells": [
  {
   "cell_type": "markdown",
   "metadata": {},
   "source": [
    "                                                  常微分作业\n",
    "                                         姓名：谭治港      学号：2015750502"
   ]
  },
  {
   "cell_type": "markdown",
   "metadata": {},
   "source": [
    "$P131T1$\n",
    "\n",
    "$反证法：假设x(t)和y(t)在区间a \\leq t \\leq b线性相关,则存在不全等于零的c_1,c_2,\\quad 成立c_1x(t)+c_2y(t)=0$\n",
    "\n",
    "$当c_1 \\neq 0时\\quad     \\frac{x(t)}{y(t)}=-\\frac{c_2}{c_1}为常数$\n",
    "\n",
    "$而与题干 \\frac{x(t)}{y(t)} \\neq 常数矛盾$\n",
    "\n",
    "$所以x(t)和y(t)在区间a \\leq t \\leq b上线性无关。$"
   ]
  },
  {
   "cell_type": "markdown",
   "metadata": {},
   "source": [
    "$T2$\n",
    "\n",
    "$因为x_1(t),x_2(t)是非齐次线性微分方程的解，从而分别代入其中$\n",
    "\n",
    "$则有\\frac{\\mathrm d^n x_1(t)）}{\\mathrm d t^n}+a_1(t)\\frac{\\mathrm d^{n-1} x_1(t)}{\\mathrm d t^{n-1}}+ \\cdots +a_n(t)x_1(t)=f_1(t)$\n",
    "\n",
    "$\\frac{\\mathrm d^n x_2(t)}{\\mathrm d t^n}+a_1(t)\\frac{\\mathrm d^{n-1} x_2(t)}{\\mathrm d t^{n-1}}+ \\cdots +a_n(t)x_2(t)=f_2(t)$\n",
    "\n",
    "$两式相加得\\quad \\frac{\\mathrm d^n [x_1(t)+x_2(t)]}{\\mathrm d t^n}+a_1(t)\\frac{\\mathrm d^{n-1} [x_1(t)+x_2(t)]}{\\mathrm d t^{n-1}}+ \\cdots +a_n(t)[x_1(t)+x_2(t)]=f_1(t)+f_2(t)$\n",
    "\n",
    "$从而得证$\n",
    "\n"
   ]
  },
  {
   "cell_type": "markdown",
   "metadata": {},
   "source": [
    "$T3(1)$\n",
    "\n",
    "$利用常数变易法，\\quad 令x=c_1(t)e^t+c_2(t)e^{-t}\\quad 得x'=c_1'(t)e^t+c_1(t)e^t+c_2'(t)e^{-t}-c_2(t)e^{-t}$\n",
    "\n",
    "$令c_1'(t)e^t+c_2'(t)e^{-t}=0\\quad\\quad 则x\"=c_1'(t)e^t+c_1(t)e^t-c_2'(t)e^{-t}+c_2(t)e^{-t}$\n",
    "\n",
    "$所以c_1'(t)e^{t}-c_2'(t)e^{-t}=\\cos t，则 c_1'(t)=\\frac{\\cos t}{2e^t},c_2'(t)=-\\frac{\\cos t}{2e^{-t}}$\n",
    "\n",
    "$积分得c_1(t)=\\frac{\\sin t -\\cos t}{4e^t}+\\gamma_1,\\quad c_2(t)=-\\frac{e^t(\\sin t +\\cos t)}{4}+\\gamma_2$\n",
    "\n",
    "$所以原方程的通解为x(t)=e^t\\gamma_1+e^{-t}\\gamma_2-\\frac{1}{2}\\cos t$"
   ]
  },
  {
   "cell_type": "markdown",
   "metadata": {},
   "source": [
    "$(3)$\n",
    "\n",
    "$令x=c_1(t) \\cos 2t+c_2(t) \\sin 2t$\n",
    "\n",
    "$对x求导得c_1'(t) \\cos 2t+c_2'(t) \\sin 2t=0，\\quad -2c_1'(t) \\sin 2t+2c_2'(t) \\cos 2t=t \\sin 2t$\n",
    "\n",
    "$联立两个方程，求解得c_1'(t)=\\frac{1}{4}t(\\cos 4t-1),\\quad c_2'(t)=\\frac{1}{4}t \\sin 4t$\n",
    "\n",
    "$两边积分得c_1(t)=\\frac{1}{64} \\cos 4t+\\frac{1}{16}t \\sin 4t-\\frac{1}{8}t^2+ \\lambda_1,\\quad c_2(t)=\\frac{1}{64} \\sin 4t-\\frac{1}{16}t \\cos 4t+ \\lambda_2$\n",
    "\n",
    "$所以方程的通解为x=c_1 \\cos 2t+c_2 \\sin 2t-\\frac{1}{8}t^2 \\cos 2t+\\frac{1}{16}t \\sin 2t（其中c_1,c_2为任意常数）$"
   ]
  },
  {
   "cell_type": "markdown",
   "metadata": {},
   "source": [
    "$(5)$\n",
    "\n",
    "$x\"-\\frac{1}{t}x'+\\frac{1}{t^2}x=\\frac{6}{t}+34,则令方程的解为x=tc_1(t)+t \\ln t c_2(t),将它代入方程，求导$\n",
    "\n",
    "$得tc_1'(t)+t \\ln t c_2'(t)=0,\\quad c_1'(t)+(\\ln t+1)c_2'(t)=\\frac{6}{t}+34$\n",
    "\n",
    "$联立方程求解得c_1'(t)=-\\ln t(\\frac{6}{t}+34),\\quad c_2'(t)=\\frac{6}{t}+34$\n",
    "\n",
    "$两边积分得c_1(t)=-34(t \\ln t -t)-3(\\ln t)^2+c_1,\\quad c_2(t)=34t+6 \\ln t +c_2$\n",
    "\n",
    "$所以方程的通解为x=c_1t+c_2t \\ln t +34t^2+3t(\\ln t)^2，其中c_1,c_2为任意常数$"
   ]
  },
  {
   "cell_type": "markdown",
   "metadata": {},
   "source": [
    "$T6$\n",
    "\n",
    "$（1)w'[x_1,x_2]+a_1w[x_1,x_2]=0$\n",
    "\n",
    "$从而 x_1x_2\"-x_1\"x_2'+a_1x_1x_2'-a_1x_1'x_2=0，\\quad x_1x_2\"+a_1x_1'x_2+z_1x_1x_2+a_1x_1x_2'-a_1x_1'x_2=0$\n",
    "\n",
    "$即会有x_1(x_2\"+a_1x_2'+a_1x_2)=0, \\quad 从而x_2\"+a_1x_2'+a_1x_2=0,(x_1 \\not= 0)$\n",
    "\n",
    "$则x_2为方程的解$\n",
    "\n",
    "$(2)因为x_1,x_2为方程的解，则有\n",
    "$$\\begin{vmatrix} \n",
    "x_1 & x_2 \\\\ \n",
    "x_1' & x_2'\\\\ \n",
    "\\end{vmatrix} \n",
    "=w(t_0)e^{-\\int\\limits_{t_0}^t a_1(s) d s}$\n",
    " \n",
    "$即x_1x_2'-x_1'x_2=w(t_0)e^{-\\int\\limits_{t_0}^t a_1(s) d s},\\quad 两边同乘以\\frac{1}{x_1^2}，则有\\frac{d\\frac{x_2}{x_1}}{dt}=\\frac{w(t_0)}{x-1^2}e^{-\\int\\limits_{t_0}^t a_1(s) d s}$\n",
    "\n",
    "$从而\\frac{x_2}{x_1}=c_1\\int \\frac{1}{x_1^2}e^{-\\int\\limits_{t_0}^t a_1(s) d s} d t +c_2，\\quad即x_2=(c_1\\int \\frac{1}{x_1^2}e^{-\\int\\limits_{t_0}^t a_1(s) d s} d t +c_2)x_1$\n",
    "\n",
    "$取c_1=1,c_2=0得x_2=x_1\\int \\frac{1}{x_1^2}e^{-\\int\\limits_{t_0}^t a_1(s) d s} d t $\n",
    "$ \n",
    "w(t)=\n",
    "\\begin{vmatrix} \n",
    "x_1 & x_2 \\\\ \n",
    "x_1' & x_2'\\\\ \n",
    "\\end{vmatrix} \n",
    "=w(t_0)e^{-\\int\\limits_{t_0}^t a_1(s) d s} \\not= 0\n",
    "$\n",
    "\n",
    "$从而方程的通解可表示为：x=x_1[c_1\\int \\frac{1}{x_1^2}exp(-\\int\\limits_{t_0}^t a_1(s) d s) d t =c_2]（其中c_1,c_2为常数，t_0 ,t\\in [a,b]）$"
   ]
  },
  {
   "cell_type": "markdown",
   "metadata": {
    "collapsed": true
   },
   "source": [
    "# <font color='red'>A  24/10"
   ]
  },
  {
   "cell_type": "code",
   "execution_count": null,
   "metadata": {
    "collapsed": true
   },
   "outputs": [],
   "source": []
  }
 ],
 "metadata": {
  "kernelspec": {
   "display_name": "SageMath 7.3",
   "language": "",
   "name": "sagemath"
  },
  "language_info": {
   "codemirror_mode": {
    "name": "ipython",
    "version": 2
   },
   "file_extension": ".py",
   "mimetype": "text/x-python",
   "name": "python",
   "nbconvert_exporter": "python",
   "pygments_lexer": "ipython2",
   "version": "2.7.10"
  }
 },
 "nbformat": 4,
 "nbformat_minor": 0
}
