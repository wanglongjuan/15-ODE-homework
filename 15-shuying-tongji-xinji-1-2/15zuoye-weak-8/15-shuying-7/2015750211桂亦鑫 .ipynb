{
 "cells": [
  {
   "cell_type": "markdown",
   "metadata": {},
   "source": [
    "# 第八周    常微分方程作业   2015750211 "
   ]
  },
  {
   "cell_type": "markdown",
   "metadata": {},
   "source": [
    "## P.131"
   ]
  },
  {
   "cell_type": "markdown",
   "metadata": {},
   "source": [
    "### 1.设$x(t)$和$y(t)$是区间$[a,b]$上的连续函数,证明:如果在区间$[a,b]$上有$\\frac{x(t)}{y(t)}\\neq $常数或$\\frac{y(t)}{x(t)}\\neq$常数,则$x(t)$和$y(t)$在区间$[a,b]$上线性无关.(提示:用反证法)\n",
    "\n",
    "**(桂亦鑫 2015750211)**"
   ]
  },
  {
   "cell_type": "markdown",
   "metadata": {},
   "source": [
    "### 解:假设$x(t)$和$y(t)$在区间$[a,b]$上线性相关,那么存在不全为零的常数$c_1,c_2$使得等式$$c_1x(t)+c_2y(t)\\equiv0,t\\in[a,b]$$成立."
   ]
  },
  {
   "cell_type": "markdown",
   "metadata": {},
   "source": [
    "### 如果函数$x(t)=0$且$y(t)=0$同时成立,否则$\\frac{x(t)}{y(t)}$和$\\frac{y(t)}{x(t)}$就不存在,矛盾.而如果函数$x(t)=0,y(t)=0$其中之一成立,则$\\frac{x(t)}{y(t)},\\frac{y(t)}{x(t)}$其中之一为常数成立,与已知条件矛盾,故不成立.\n",
    "\n",
    "### 排除上述情况后,经过移项可得$$\\frac{x(t)}{y(t)}=-\\frac{c_2}{c_1}$$或$$\\frac{y(t)}{x(t)}=-\\frac{c_1}{c_2}$$与题设条件矛盾,所以$x(t)$和$y(t)$在区间$[a,b]$上线性无关.\n",
    "**(桂亦鑫 2015750211)**"
   ]
  },
  {
   "cell_type": "markdown",
   "metadata": {},
   "source": [
    "### 2.证明非齐次线性微分方程的叠加原理:设$x_1(t),x_2(t)$分别是非齐次线性微分方程$$\\frac{\\mathrm d^nx}{\\mathrm d t^n}+a_1(t)\\frac{\\mathrm d^{n-1}x}{\\mathrm d t^{n-1}}+\\cdots+a_n(t)x=f_1(t)$$,$$\\frac{\\mathrm d^nx}{\\mathrm d t^n}+a_1(t)\\frac{\\mathrm d^{n-1}x}{\\mathrm d t^{n-1}}+\\cdots+a_n(t)x=f_2(t)$$的解,则$x_1(t)+x_2(t)$是方程$$\\frac{\\mathrm d^nx}{\\mathrm d t^n}+a_1(t)\\frac{\\mathrm d^{n-1}x}{\\mathrm d t^{n-1}}+\\cdots+a_n(t)x=f_1(t)+f_2(t)$$的解.\n",
    "**(桂亦鑫 2015750211)**"
   ]
  },
  {
   "cell_type": "markdown",
   "metadata": {},
   "source": [
    "### 解:由题知$$\\frac{\\mathrm d^nx_1(t)}{\\mathrm d t^n}+a_1(t)\\frac{\\mathrm d^{n-1}x_1(t)}{\\mathrm d t^{n-1}}+\\cdots+a_n(t)x_1(t)=f_1(t)$$以及$$\\frac{\\mathrm d^nx_2(t)}{\\mathrm d t^n}+a_1(t)\\frac{\\mathrm d^{n-1}x_2(t)}{\\mathrm d t^{n-1}}+\\cdots+a_n(t)x_2(t)=f_2(t)$$成立"
   ]
  },
  {
   "cell_type": "markdown",
   "metadata": {},
   "source": [
    "### 所以有$$\\frac{\\mathrm d^nx_1(t)}{\\mathrm d t^n}+\\frac{\\mathrm d^nx_2(t)}{\\mathrm d t^n}+a_1(t)\\frac{\\mathrm d^{n-1}x_1(t)}{\\mathrm d t^{n-1}}+a_1(t)\\frac{\\mathrm d^{n-1}x_2(t)}{\\mathrm d t^{n-1}}+\\cdots+a_n(t)x_1(t)+a_n(t)x_2(t)=f_1(t)+f_2(t)$$"
   ]
  },
  {
   "cell_type": "markdown",
   "metadata": {},
   "source": [
    "### 由数学分析的知识可知上式可化为$$\\frac{\\mathrm d^n[x_1(t)+x_2(t)]}{\\mathrm d t^n}+a_1(t)\\frac{\\mathrm d^{n-1}[x_1(t)+x_2(t)}{\\mathrm d t^{n-1}}+\\cdots+a_n(t)[x_1(t)+x_2(t)]=f_1(t)+f_2(t)$$"
   ]
  },
  {
   "cell_type": "markdown",
   "metadata": {},
   "source": [
    "### 即知$x_1(t),x_2(t)$是方程$$\\frac{\\mathrm d^nx}{\\mathrm d t^n}+a_1(t)\\frac{\\mathrm d^{n-1}x}{\\mathrm d t^{n-1}}+\\cdots+a_n(t)x=f_1(t)+f_2(t)$$的解."
   ]
  },
  {
   "cell_type": "markdown",
   "metadata": {},
   "source": [
    "**(桂亦鑫2015750211)**"
   ]
  },
  {
   "cell_type": "markdown",
   "metadata": {
    "collapsed": true
   },
   "source": [
    "### 3.已知齐次线性微分方程的基本解组$x_1,x_2$,求下列方程对应的非齐次线性微分方程的通解:\n",
    "### $$(1)x''-x=\\cos t,x_1=e^t,x_2=e^{-t}$$\n",
    "### $$(3)x''+4x=t\\sin 2t,x_1=\\cos 2t,x_2=\\sin 2t$$\n",
    "### $$(5)t^2x''-tx'+x=6t+34t^2,x_1=t,x_2=t\\ln t$$ \n",
    "**(桂亦鑫 2015750211)**"
   ]
  },
  {
   "cell_type": "markdown",
   "metadata": {},
   "source": [
    "### (1)解:应用常数变易法,令$$x(t)=c_1(t)e^t+c_2(t)e^{-t},$$\n",
    "### 将它代入方程,则可得决定$c'_1(t)$和$c'_2(t)$的两个方程$$e^{t}c'_1(t)+e^{-t}c'_2(t)=0$$\n",
    "### $$e^{t}c'_1(t)-e^{-t}c'_2(t)=\\cos t$$"
   ]
  },
  {
   "cell_type": "markdown",
   "metadata": {},
   "source": [
    "### 解得$$c'_1(t)=\\frac{\\cos t}{2e^t}$$\n",
    "### $$c'_2(t)=-\\frac{\\cos te^{t}}{2}$$"
   ]
  },
  {
   "cell_type": "markdown",
   "metadata": {},
   "source": [
    "### 由此即可解得$$c_1(t)=\\frac{\\sin t-\\cos t}{4}e^{-t}+\\gamma_1$$\n",
    "### $$c_2(t)=-\\frac{\\sin t+\\cos t}{4}e^{t}+\\gamma_2$$"
   ]
  },
  {
   "cell_type": "markdown",
   "metadata": {},
   "source": [
    "### 于是原方程的通解为$$x(t)=\\frac{\\sin t-\\cos t}{4}-\\frac{\\sin t+\\cos t}{4}+\\gamma_1e^{t}+\\gamma_2e^{-t}=\\gamma_1e^{t}+\\gamma_2e^{-t}-\\frac{\\cos t}{2},(其中\\gamma_1,\\gamma_2为任意常数)$$\n",
    "**(桂亦鑫 2015750211)**"
   ]
  },
  {
   "cell_type": "markdown",
   "metadata": {},
   "source": [
    "### (3)解:)解:应用常数变易法,令$$x(t)=c_1(t)\\cos 2t+c_2(t)\\sin 2t,$$\n",
    "### 将它代入方程,则可得决定$c'_1(t)$和$c'_2(t)$的两个方程$$\\cos 2tc'_1(t)+\\sin 2tc'_2(t)=0$$\n",
    "### $$-2\\sin 2tc'_1(t)+2\\cos 2tc'_2(t)=t\\sin 2t$$"
   ]
  },
  {
   "cell_type": "markdown",
   "metadata": {},
   "source": [
    "### 解得$$c'_1(t)=-\\frac{t\\sin^2{2t}}{2}$$\n",
    "### $$c'_2(t)=\\frac{t\\sin 2t\\cos 2t}{2}$$"
   ]
  },
  {
   "cell_type": "markdown",
   "metadata": {
    "collapsed": true
   },
   "source": [
    "### 由此即可解得$$c_1(t)=\\frac{1}{16}(t\\sin 4t+\\frac{1}{4}\\cos 4t)-\\frac{1}{8}t^2+\\gamma_1$$\n",
    "### $$c_2(t)=\\frac{1}{16}(\\frac{1}{4}\\sin 4t-t\\cos 4t)+\\gamma_2$$"
   ]
  },
  {
   "cell_type": "markdown",
   "metadata": {},
   "source": [
    "### 于是原方程的通解为$$x(t)=\\gamma_1\\cos 2t+\\gamma_2\\sin 2t-\\frac{1}{8}t^2\\cos 2t+\\frac{1}{16}t\\sin 2t+\\frac{1}{64}\\cos 2t,(其中\\gamma_1,\\gamma_2为任意常数)$$\n",
    "**(桂亦鑫 2015750211)**"
   ]
  },
  {
   "cell_type": "markdown",
   "metadata": {},
   "source": [
    "### 当然我们可以合并$\\gamma_1\\cos 2t+\\frac{1}{64}\\cos 2t$."
   ]
  },
  {
   "cell_type": "markdown",
   "metadata": {},
   "source": [
    "### (5) (3)解:)解:应用常数变易法,令$$x(t)=c_1(t)t+c_2(t)t\\ln t,$$\n",
    "### 将它代入方程,则可得决定$c'_1(t)$和$c'_2(t)$的两个方程$$tc'_1(t)+t\\ln tc'_2(t)=0$$\n",
    "### $$c'_1(t)+(1+\\ln t)c'_2(t)=\\frac{6}{t}+34$$"
   ]
  },
  {
   "cell_type": "markdown",
   "metadata": {},
   "source": [
    "### 解得$$c'_1(t)=-\\frac{6}{t}\\ln t-34\\ln t$$\n",
    "### $$c'_2(t)=\\frac{6}{t}+34$$"
   ]
  },
  {
   "cell_type": "markdown",
   "metadata": {},
   "source": [
    "### 由此即可解得$$c_1(t)=34t-34t\\ln t-3\\ln^2 t+\\gamma_1$$\n",
    "### $$c_2(t)=34t+6\\ln t+\\gamma_2$$"
   ]
  },
  {
   "cell_type": "markdown",
   "metadata": {},
   "source": [
    "### 于是原方程的通解为$$x(t)=\\gamma_1t+\\gamma_2t\\ln t+34t^2+3t\\ln^2 t,(其中\\gamma_1,\\gamma_2为任意常数)$$\n",
    "**(桂亦鑫 2015750211)**"
   ]
  },
  {
   "cell_type": "markdown",
   "metadata": {},
   "source": [
    "### 6.假设$x_1(t)\\neq 0$是二阶齐次线性微分方程$$x''+a_1(t)x'+a_2(t)x=0$$的解,这里$a_1(t)$和$a_2(t)$于区间$[a,b]$上连续,试证:"
   ]
  },
  {
   "cell_type": "markdown",
   "metadata": {},
   "source": [
    "### (1)$x_2(t)$为方程的解的充要条件是$$W'+a_1(t)W=0$$\n",
    "### (2)方程的通解可表示为$$x=x_1[c_1\\int \\frac{1}{x^2_1}e^{-\\int ^t_{t_0}a_1(s)\\mathrm d s}\\mathrm d t+c_2],(其中c_1,c_2为任意常数,t_0,t\\in [a,b])$$\n",
    "**(桂亦鑫2015750211)**"
   ]
  },
  {
   "cell_type": "markdown",
   "metadata": {},
   "source": [
    "### (1)解:\n",
    "### 必要性:因为$x_2(t)$也是方程的解,所以由数学分析的知识可知$$W'(t)=\\begin{vmatrix}x_1(t)  &x_2(t)\\\\x''_1(t)&  x''_2(t)\\end{vmatrix}+0=\\begin{vmatrix}x_1(t)  &x_2(t)\\\\-a_1(t)x'_1(t)-a_2(t)x_1(t)&  -a_1(t)x'_1(t)-a_2(t)x_1(t)\\end{vmatrix}=\\begin{vmatrix}x_1(t)  &x_2(t)\\\\-a_1(t)x'_1(t)&  -a_1(t)x'_1(t)\\end{vmatrix}+\\begin{vmatrix}x_1(t)  &x_2(t)\\\\-a_2(t)x_1(t)& -a_2(t)x_1(t)\\end{vmatrix}=-a_1(t)W$$"
   ]
  },
  {
   "cell_type": "markdown",
   "metadata": {},
   "source": [
    "### 所以$$W'+a_1(t)W=0$$固命题必要性成立."
   ]
  },
  {
   "cell_type": "markdown",
   "metadata": {},
   "source": [
    "### 充分性:因为$W'+a_1(t)W$,所以将其展开得$$x_1(t)x''_2(t)-x_2(t)x''_1(t)+a_1(t)[x_1(t)x'_2(t)-x_2(t)x'_1(t)]=0$$.\n",
    "### 亦即$$x_1(t)[x''_2(t)+a_1(t)x'_2(t)]=x_2(t)[x''_1(t)+a_1(t)x'_1(t)]=x_2(t)(-a_2(t)x_1(t))$$\n",
    "### 可以看出$$x_1(t)[x''_2(t)+a_1(t)x'_2(t)+a_2(t)x_2(t)]=0$$.又因为$x_1(t\\neq0)$,所以$$x''_2(t)+a_1(t)x'_2(t)+a_2(t)x_2(t)=0$$即$x_2(t)$是方程的解.\n",
    "**(桂亦鑫 2015750211)**"
   ]
  },
  {
   "cell_type": "markdown",
   "metadata": {},
   "source": [
    "### (2)解:将$x_1(t)\\int\\frac{1}{x^2_1(t)}e^{-\\int^t_{t_0}a_1(s)\\mathrm d s}\\mathrm d t$代入方程$$x''+a_1(t)x'+a_2(t)x=0$$中,知其满足方程,而$$W(t)=[x_1(t),x_1(t)\\int\\frac{1}{x^2_1(t)}e^{-\\int^t_{t_0}a_1(s)\\mathrm d s}\\mathrm d t]\\neq0$$.所以两者线性无关.则得通解$$x=x_1[c_1\\int \\frac{1}{x^2_1}e^{-\\int ^t_{t_0}a_1(s)\\mathrm d s}\\mathrm d t+c_2]$$"
   ]
  },
  {
   "cell_type": "markdown",
   "metadata": {},
   "source": [
    "### 另解:上述验证麻烦.在此我们应用第五题结论有$$W(t)=W(t_0)e^{-\\int^t_{t_0}a_1(s)\\mathrm d s}$$\n",
    "### 即$$x_1(t)x'_2(t)-x_2(t)x'_1(t)=W(t_0)e^{-\\int^t_{t_0}a_1(s)\\mathrm d s}$$两边同时除以$x^2_1(t)$可得$$\\frac{\\mathrm d(\\frac{x_2(t)}{x_1(t)})}{\\mathrm d t}=\\frac{c_1e^{-\\int^t_{t_0}a_1(s)\\mathrm d s}}{x_1(t)},(其中c_1=W(t_0))$$"
   ]
  },
  {
   "cell_type": "markdown",
   "metadata": {},
   "source": [
    "### 所以得$$x_2(t)=x_1(t)[c_1\\int\\frac{1}{x^2_1(t)}e^{-\\int^t_{t_0}a_1(s)\\mathrm d s}\\mathrm d t+c_2]$$\n"
   ]
  },
  {
   "cell_type": "markdown",
   "metadata": {},
   "source": [
    "### 又由朗斯基行列式知$W[x_1(t),x_2(t)]\\neq0$,所以方程通解为$$x=x_1[c_1\\int \\frac{1}{x^2_1}e^{-\\int ^t_{t_0}a_1(s)\\mathrm d s}\\mathrm d t+c_2]$$"
   ]
  },
  {
   "cell_type": "markdown",
   "metadata": {
    "collapsed": true
   },
   "source": [
    "# <font color='red'>A 26/10"
   ]
  },
  {
   "cell_type": "code",
   "execution_count": null,
   "metadata": {
    "collapsed": true
   },
   "outputs": [],
   "source": []
  }
 ],
 "metadata": {
  "kernelspec": {
   "display_name": "SageMath 7.3",
   "language": "",
   "name": "sagemath"
  },
  "language_info": {
   "codemirror_mode": {
    "name": "ipython",
    "version": 2
   },
   "file_extension": ".py",
   "mimetype": "text/x-python",
   "name": "python",
   "nbconvert_exporter": "python",
   "pygments_lexer": "ipython2",
   "version": "2.7.10"
  }
 },
 "nbformat": 4,
 "nbformat_minor": 0
}
