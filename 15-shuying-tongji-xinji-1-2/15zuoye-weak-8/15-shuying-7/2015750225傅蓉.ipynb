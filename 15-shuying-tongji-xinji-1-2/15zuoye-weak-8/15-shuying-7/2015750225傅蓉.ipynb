{
 "cells": [
  {
   "cell_type": "markdown",
   "metadata": {},
   "source": [
    "## P131 1.设$x(t)和y(t)是区间a \\leq t \\leq b上的连续函数$证明：如果在区间$a \\leq t \\leq b$上有$ \\frac{x(t)}{y(t)} \\neq 常数或\\frac{y(t)}{x(t)} \\neq 常数,$则$x(t)和y(t)$在区间$a \\leq t \\leq b$上线性无关。"
   ]
  },
  {
   "cell_type": "markdown",
   "metadata": {},
   "source": [
    "**证明：运用反证法**"
   ]
  },
  {
   "cell_type": "markdown",
   "metadata": {},
   "source": [
    "**假设$x(t)和y(t)$在区间$t \\in [a,b]$上线性相关，则存在一组不全为0的常数c1和c2使得$c_1 x(t)+c_2 y(t)=0$.**"
   ]
  },
  {
   "cell_type": "markdown",
   "metadata": {},
   "source": [
    "**即得到：$c_1 x(t) =-c_2 y(t)$**"
   ]
  },
  {
   "cell_type": "markdown",
   "metadata": {},
   "source": [
    "**所以$ \\frac{x(t)}{y(t)} = - \\frac{c_2}{c_1}=常数$**\n",
    "\n",
    "\n",
    "**或者$ \\frac{y(t)}{x(t)} = - \\frac{c_1}{c_2}=常数$**"
   ]
  },
  {
   "cell_type": "markdown",
   "metadata": {},
   "source": [
    "**即与条件不符，即$x(t),y(t)在t \\in [a,b]$上线性无关。**"
   ]
  },
  {
   "cell_type": "markdown",
   "metadata": {},
   "source": [
    "## 2.证明非齐次线性微分方程的叠加原理：设$x_1(t),x_2(t)$分别是非齐次线性微分方程:$$\\frac{\\mathrm d^{n} x}{\\mathrm d t^{n}}+a_1(t)\\frac{\\mathrm d^{n-1} x}{\\mathrm d t^{n-1}}+ \\cdots+a_n(t)x=f_1(t),\\frac{\\mathrm d^{n} x}{\\mathrm d t^{n}}+a_1(t)\\frac{\\mathrm d^{n-1} x}{\\mathrm d t^{n-1}}+ \\cdots+a_n(t)x=f_2(t),$$的解，则$x_1(t)+x_2(t)$是方程:$$\\frac{\\mathrm d^{n} x}{\\mathrm d t^{n}}+a_1(t)\\frac{\\mathrm d^{n-1} x}{\\mathrm d t^{n-1}}+ \\cdots+a_n(t)x=f_1(t)+f_2(t)$$的解.\n"
   ]
  },
  {
   "cell_type": "markdown",
   "metadata": {},
   "source": [
    "**因为$x_1(t)是\\frac{\\mathrm d^{n} x}{\\mathrm d t^{n}}+a_1(t)\\frac{\\mathrm d^{n-1} x}{\\mathrm d t^{n-1}}+ \\cdots+a_n(t)x=f_1(t)$的解，则可以得到：$\\frac{\\mathrm d^{n} (x_1(t))}{\\mathrm d t^{n}}+a_1(t)\\frac{\\mathrm d^{n-1} (x_1(t))}{\\mathrm d t^{n-1}}+ \\cdots+a_n(t) x_1(t)=f_1(t)$** "
   ]
  },
  {
   "cell_type": "markdown",
   "metadata": {},
   "source": [
    "**同样的：因为$x_2(t)是\\frac{\\mathrm d^{n} x}{\\mathrm d t^{n}}+a_1(t)\\frac{\\mathrm d^{n-1} x}{\\mathrm d t^{n-1}}+ \\cdots+a_n(t)x=f_2(t)$的解，则可以得到：$\\frac{\\mathrm d^{n} (x_2(t))}{\\mathrm d t^{n}}+a_1(t)\\frac{\\mathrm d^{n-1} (x_2(t))}{\\mathrm d t^{n-1}}+ \\cdots+a_n(t) x_2(t)=f_2(t)$** "
   ]
  },
  {
   "cell_type": "markdown",
   "metadata": {},
   "source": [
    "**根据导数相加法则，即可得到：$\\frac{\\mathrm d^{n} (x_1(t)+x_2(t))}{\\mathrm d t^{n}}+a_1(t)\\frac{\\mathrm d^{n-1}  (x_1(t)+x_2(t))}{\\mathrm d t^{n-1}}+ \\cdots+a_n(t)  (x_1(t)+x_2(t))=f_1(t)+f_2(t)$**"
   ]
  },
  {
   "cell_type": "markdown",
   "metadata": {},
   "source": [
    "**即说明$x_1(t)+x_2(t)$是方程$\\frac{\\mathrm d^{n} x}{\\mathrm d t^{n}}+a_1(t)\\frac{\\mathrm d^{n-1} x}{\\mathrm d t^{n-1}}+ \\cdots+a_n(t)x=f_1(t)+f_2(t)$的解。**"
   ]
  },
  {
   "cell_type": "markdown",
   "metadata": {},
   "source": [
    "## 3.已知齐次线性微分方程的基本解组$x_1,x_2$，求下列方程对应的非齐次线性微分方程的同解。"
   ]
  },
  {
   "cell_type": "markdown",
   "metadata": {},
   "source": [
    "**(1)$x''-x=\\cos t,x_1=e^t,x_2=e^{-t};$**"
   ]
  },
  {
   "cell_type": "markdown",
   "metadata": {},
   "source": [
    "**解：设通解为$x(t)=c_1(t) e^t+c_2(t)e^{-t}$**"
   ]
  },
  {
   "cell_type": "markdown",
   "metadata": {},
   "source": [
    "$x'(t)=c_1(t) e^t+c_2(t)e^{-t} (-1)+c_1'(t)e^t+c_2'(t)e^{-t}=c_1(t) e^t-c_2(t)e^{-t}+c_1'(t)e^t+c_2'(t)e^{-t}$"
   ]
  },
  {
   "cell_type": "markdown",
   "metadata": {},
   "source": [
    "**令$c_1'(t)e^t+c_2'(t)e^{-t}=0$,即可得到：**\n",
    "\n",
    "$x'(t)=c_1(t) e^t-c_2(t)e^{-t}$  **(1)**\n",
    "\n",
    "$x''(t)=c_1(t)e^t-c_2(t)e^{-t} (-1)+c_1'(t)e^t-c_2'(t)e^{-t}=c_1(t)e^t+c_2(t)e^{-t} +c_1'(t)e^t-c_2'(t)e^{-t}$  **(2)**"
   ]
  },
  {
   "cell_type": "markdown",
   "metadata": {},
   "source": [
    "**将（1）和（2）代入原式中，即得到：**"
   ]
  },
  {
   "cell_type": "markdown",
   "metadata": {},
   "source": [
    "$c_1'(t)e^t-c_2'(t)e^{-t}=\\cos t$"
   ]
  },
  {
   "cell_type": "markdown",
   "metadata": {},
   "source": [
    "即可得到两个条件：$c_1'(t)e^t+c_2'(t)e^{-t}=0;c_1'(t)e^t-c_2'(t)e^{-t}=\\cos t$"
   ]
  },
  {
   "cell_type": "markdown",
   "metadata": {},
   "source": [
    "所以可以求得：$ c_1'(t)=\\frac{\\cos t}{2 e^t} ;c_2'(t)=-\\frac{e^t \\cos t}{2}$"
   ]
  },
  {
   "cell_type": "markdown",
   "metadata": {},
   "source": [
    "通过积分可以得到：$c_1'(t)=\\frac{e^{-t}(\\sin t -\\cos t)}{4}+r_1;c_2'(t)=-\\frac{1}{4}(\\sin t +\\cos t)e^t+r_2$"
   ]
  },
  {
   "cell_type": "markdown",
   "metadata": {},
   "source": [
    "于是可以得到通解为：\n",
    "$x=-\\frac{1}{2}\\cos t+r_1 e^t+r_2 e^{-t}$"
   ]
  },
  {
   "cell_type": "markdown",
   "metadata": {},
   "source": [
    "**(3)$x''+4x=t \\sin 2t,x_1=\\cos 2t ,x_2=\\sin 2t$**"
   ]
  },
  {
   "cell_type": "markdown",
   "metadata": {},
   "source": [
    "**解：设$x(t)=c_1(t)\\cos 2t+c_2(t)\\sin 2t$ (1)**"
   ]
  },
  {
   "cell_type": "markdown",
   "metadata": {},
   "source": [
    "**即可得到：$x'(t)=-c_1(t)\\sin 2t 2+2c_2(t)\\cos 2t +c_1'(t)\\cos 2t +c_2'(t)\\sin 2t=-2c_1(t)\\sin 2t +2c_2(t)\\cos 2t+c_1'(t)\\cos 2t+c_2'(t) \\sin 2t$**"
   ]
  },
  {
   "cell_type": "markdown",
   "metadata": {},
   "source": [
    "**令$c_1'(t)\\cos 2t+c_2'(t) \\sin 2t=0$**"
   ]
  },
  {
   "cell_type": "markdown",
   "metadata": {},
   "source": [
    "**即可得到：$x'(t)=-2c_1(t)\\sin 2t +2c_2(t)\\cos 2t$**"
   ]
  },
  {
   "cell_type": "markdown",
   "metadata": {},
   "source": [
    "$x''(t)=-2c_1(t)\\cos 2t 2+2c_2(t)\\sin 2t (-2)-2c_1'(t)\\sin 2t+2c_2'(t)\\cos 2t$ **(2)**"
   ]
  },
  {
   "cell_type": "markdown",
   "metadata": {},
   "source": [
    "**将（1），（2）代入原式子中即可得到两个条件**"
   ]
  },
  {
   "cell_type": "markdown",
   "metadata": {},
   "source": [
    "$-2c_1'(t)\\sin 2t+2c_2'(t)\\cos 2t=t \\sin 2t;c_1'(t) \\cos 2t+c_2'(t)\\sin 2t=0$"
   ]
  },
  {
   "cell_type": "markdown",
   "metadata": {},
   "source": [
    "**求得$c_1'(t)=\\frac{t \\cos 4t-t}{4};c_2'(t)=\\frac{t \\sin 4t}{4}$**"
   ]
  },
  {
   "cell_type": "markdown",
   "metadata": {},
   "source": [
    "**两边积分可以求得**"
   ]
  },
  {
   "cell_type": "markdown",
   "metadata": {},
   "source": [
    "$c_1(t)=\\frac{1}{16}t \\sin 4t+\\frac{1}{64}\\cos 4t-\\frac{1}{8}t^2+r_1;c_2(t)=-\\frac{1}{16}t \\cos 4t+\\frac{1}{64}\\sin 4t+r_2$"
   ]
  },
  {
   "cell_type": "markdown",
   "metadata": {},
   "source": [
    "**代入原式子中可以求得$x(t)=r_1 \\cos 2t+r_2 \\sin 2t+\\frac{1}{16}t \\sin 2t -\\frac{1}{8}t^2 \\cos 2t$**"
   ]
  },
  {
   "cell_type": "markdown",
   "metadata": {},
   "source": [
    "**(5)$t^2x''-tx'+x=6t+34t^2,x_1=t,x_2=tlnt$**"
   ]
  },
  {
   "cell_type": "markdown",
   "metadata": {},
   "source": [
    "**解：设$x(t)=c_1(t)t+c_2(t)tlnt$**"
   ]
  },
  {
   "cell_type": "markdown",
   "metadata": {},
   "source": [
    "$x'(t)=c_1(t)+c_2(t)[lnt+1]+c_1'(t)t+c_2'(t)tlnt$"
   ]
  },
  {
   "cell_type": "markdown",
   "metadata": {},
   "source": [
    "**令$c_1'(t)t+c_2'(t)tlnt=0$**"
   ]
  },
  {
   "cell_type": "markdown",
   "metadata": {},
   "source": [
    "**即可得到:$x'(t)=c_1(t)+c_2(t)[lnt+1]$**"
   ]
  },
  {
   "cell_type": "markdown",
   "metadata": {},
   "source": [
    "$x''(t)=c_1'(t)+c_2'(t)[lnt+1]+c_2(t) \\frac{1}{t}$"
   ]
  },
  {
   "cell_type": "markdown",
   "metadata": {},
   "source": [
    "**即代入原式子中，可以得到两个条件**"
   ]
  },
  {
   "cell_type": "markdown",
   "metadata": {},
   "source": [
    "$tc_1'(t)+tln(t)c_2'(t)+tc_2'(t)=6+34t;c_1'(t)t+c_2'(t)tlnt=0$"
   ]
  },
  {
   "cell_type": "markdown",
   "metadata": {},
   "source": [
    "**通过求解可以得到：$c_1'(t)=-\\frac{6lnt}{t}-34lnt;c_2'(t)=\\frac{6}{t}+34t$**"
   ]
  },
  {
   "cell_type": "markdown",
   "metadata": {},
   "source": [
    "**通过积分可以求得：$c_1(t)=-3(lnt)^2-34(tlnt-t)+r_1;c_2(t)=6lnt+34t+r_2$**"
   ]
  },
  {
   "cell_type": "markdown",
   "metadata": {},
   "source": [
    "**代入原式中可以得到：$x(t)=3t(lnt)^2+34t^2+r_1t+r_2tlnt$**"
   ]
  },
  {
   "cell_type": "markdown",
   "metadata": {
    "collapsed": true
   },
   "source": [
    "## 6.假设$x_1(t)\\not=0$是二阶齐次线性微分方程$x''+a_1(t)x'+a_2(t)x=0$的解，这里$a_1(t)$和$a_2(t)$于区间[a,b]上连续，试证： （1）$x_2(t)$为方程的解的充要条件是 $W'[x_1,x_2]+a_1W[x_1,x_2]=0$(2)方程的通解可表为 $x=x_1[c_1\\int\\mathrm {\\frac{1}{x^2}exp(-\\int_{t_0}{t}\\mathrm a_1(s)\\,\\mathrm{d}s)}\\,\\mathrm {d}t+c_2]$ 其中$c_1,c_2$为任意常数，$t_0,t\\in[a,b]$"
   ]
  },
  {
   "cell_type": "markdown",
   "metadata": {},
   "source": [
    "**证明：**（1）充分性：由于\n",
    "\n",
    "$W'[x_1,x_2]=\\begin{vmatrix}x_1'&x_2'\\\\x_1'&x_2'\\\\ \\end{vmatrix} +\\begin{vmatrix}x_1&x_2\\\\x_1''&x_2''\\\\ \\end{vmatrix}=\\begin{vmatrix}x_1&\n",
    "x_2\\\\x_1''&x_2''\\\\ \\end{vmatrix}$"
   ]
  },
  {
   "cell_type": "markdown",
   "metadata": {},
   "source": [
    "$\\begin{aligned}W'[x_1,x_2]+a_1(t)W[x_1,x_2]\\\\&=\\begin{vmatrix}x_1&x_2\\\\x_1''&x_2''\\\\ \\end{vmatrix}+a_1(t)\\begin{vmatrix}x_1&x_2\\\\x_1'&x_2'\\\\ \\end{vmatrix}\\\\&=\\begin{vmatrix}x_1&x_2\\\\x_1''+a_1(t)x_1'&x_2''+a_1(t)x_2'\\\\ \\end{vmatrix}=0\\end{aligned}$\n"
   ]
  },
  {
   "cell_type": "markdown",
   "metadata": {},
   "source": [
    "而$x_1(t)\\not=0$是已知方程的解，有\n",
    "\n",
    "$\\begin{vmatrix}x_1&x_2\\\\-a_2(t)x_1&x_2''+a_1(t)x_2'\\\\ \\end{vmatrix}=x_1{\\begin{vmatrix}1&x_2\\\\-a_2(t)&x_2''+a_1(t)x_2'\\\\ \\end{vmatrix}}=0$\n",
    "\n",
    "即$x_2(t)$是已知方程的解"
   ]
  },
  {
   "cell_type": "markdown",
   "metadata": {},
   "source": [
    "必要性：\n",
    "\n",
    "$W[x_1,x_2]$是方程的解$x_1(t),x_2(t)$的朗斯基行列式，则\n",
    "\n",
    "$\\begin{aligned}W'[x_1,x_2]=\\begin{vmatrix}x_1&x_2\\\\x_1''&x_2''\\\\ \\end{vmatrix}\\\\&=\\begin{vmatrix}x_1&x_2\\\\x_1''+a_2(t)x_1&x_2''+a_2(t)x_2\\\\ \\end{vmatrix}\\\\&=\\begin{vmatrix}1&x_2\\\\-a_1(t)x_1'&a_1(t)x_2'\\\\ \\end{vmatrix}\\\\&=-a_1(t)\\begin{vmatrix}x_1&\n",
    "x_2\\\\x_1'&x_2'\\\\ \\end{vmatrix}\\\\&=-a_1(t)W[x_1,x_2]\\end{aligned}$\n",
    "\n",
    "即$W[x_1,x_2]满足W'[x_1,x_2]+a_1(t)W[x_1,x_2]=0$"
   ]
  },
  {
   "cell_type": "markdown",
   "metadata": {},
   "source": [
    "**(2)**因为$x_1,x_2$为方程解，则有刘维尔公式\n",
    "\n",
    "$\\begin{vmatrix}x_1&x_2\\\\x_1'&x_2'\\\\ \\end{vmatrix}=W(t_0)e^{-\\int_{t_0}^{t}\\mathrm a_1(s)\\,\\mathrm{d}s}$\n",
    "\n",
    "即$x_1x_2'-x_1'x_2=W(t_0）e^{-\\int_{t_0}^{t}\\mathrm a_1(s)\\,\\mathrm{d}s}$\n"
   ]
  },
  {
   "cell_type": "markdown",
   "metadata": {},
   "source": [
    "方程两边同乘以$\\frac{1}{x_1^2}$,得到\n",
    "\n",
    "$\\frac{d(\\frac{x_2}{x_1})}{dt}=\\frac{W(t_0)}{x_1^2}e^{-\\int_{t_0}^{t}\\mathrm a_1(s)\\,\\mathrm{d}s}$\n",
    "\n",
    "于是$\\frac{x_2}{x_1}c_1\\int\\mathrm {\\frac{1}{x^2}e^{-\\int_{t_0}^{t}\\mathrm a_1(s)\\,\\mathrm{d}s}\\,\\mathrm{d}t}+c_2$\n",
    "\n",
    "即$x_2=(c_1\\int\\mathrm {\\frac{1}{{x_1}^2}e^{-\\int_{t_0}^{t}\\mathrm a_1(s)\\,\\mathrm{d}s}}\\,\\mathrm{d}t+c_2)x_1$\n",
    "\n",
    "取$c_1=1,c_2=0$得到\n",
    "\n",
    "$x_2=x_1{\\int\\mathrm {\\frac{1}{{x_1}^2}e^{-\\int_{t_0}^{t}\\mathrm a_1(s)\\,\\mathrm{d}s}}\\,\\mathrm{d}t}$"
   ]
  },
  {
   "cell_type": "markdown",
   "metadata": {},
   "source": [
    "又有$W(t)=\\begin{vmatrix}x_1&x_2\\\\x_1'&x_2'\\\\ \\end{vmatrix}=e^{-\\int_{t_0}^{t}\\mathrm a_1(s)\\,\\mathrm{d}s}\\not=0$\n",
    "\n",
    "则原方程的通解为\n",
    "\n",
    "$x=x_1[c_1\\int\\mathrm {\\frac{1}{x^2}exp(-\\int_{t_0}{t}\\mathrm a_1(s)\\,\\mathrm{d}s)}\\,\\mathrm {d}t+c_2]$\n",
    "\n",
    "其中$c_1,c_2$为任意常数，$t_0,t\\in[a,b]$"
   ]
  },
  {
   "cell_type": "markdown",
   "metadata": {
    "collapsed": true
   },
   "source": [
    "# <font color='red'>A＋ 26/10"
   ]
  },
  {
   "cell_type": "code",
   "execution_count": null,
   "metadata": {
    "collapsed": true
   },
   "outputs": [],
   "source": []
  }
 ],
 "metadata": {
  "kernelspec": {
   "display_name": "SageMath 7.3",
   "language": "",
   "name": "sagemath"
  },
  "language_info": {
   "codemirror_mode": {
    "name": "ipython",
    "version": 2
   },
   "file_extension": ".py",
   "mimetype": "text/x-python",
   "name": "python",
   "nbconvert_exporter": "python",
   "pygments_lexer": "ipython2",
   "version": "2.7.10"
  }
 },
 "nbformat": 4,
 "nbformat_minor": 0
}
