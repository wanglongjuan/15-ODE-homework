{
 "cells": [
  {
   "cell_type": "code",
   "execution_count": null,
   "metadata": {
    "collapsed": false
   },
   "outputs": [],
   "source": [
    "习题4.1"
   ]
  },
  {
   "cell_type": "markdown",
   "metadata": {
    "collapsed": true
   },
   "source": [
    "1.$设x(t)和y(t)是区间a≤x≤b上的连续函数，证明：如果在区间a≤x≤b上有\\frac{x(t)}{y(t)}≠常数或\\frac{y(t)}{x(t)}≠常数，则x(t)和y(t)在区间a≤x≤b上线性无关\n",
    "（提示：用反证法)$\n"
   ]
  },
  {
   "cell_type": "markdown",
   "metadata": {},
   "source": [
    "解：用反证法。 假设x(t)和y(t)在区间a≤x≤b上线性相关，即存在不全为零的常数c，d使得\n",
    "   $$cx(t)+dy(t)=0，t∈[a，b]．$$\n",
    "   显然，因y(t)≠0故c≠0(否则有d=0，与c，d不全为零矛盾)，则$\\frac{x(t)}{y(t)}=常数$  与假设矛盾\n",
    "   $\\\\故x(t)和y(t)在区间a≤t≤b上线性无关．$\n",
    "   \n",
    "   同样可证，如果在区间a≤t≤b上有≠常数，则x(t)和y(t)在区间a≤t≤b上线性无关．"
   ]
  },
  {
   "cell_type": "markdown",
   "metadata": {},
   "source": [
    "2.证明非齐次线性微分方程的叠加原理：$ 设x_1（t),x_2(t)分别是非齐次线性微分方程\n",
    "$$\\frac{d^n{x}}{dt^n}+a_1(t)\\frac{d^(n-1)x}{dt^(n-1)}+...+a_n(t)x=f_1(t)\n",
    "\\\\\\frac{d^n{x}}{dt^n}+a_1(t)\\frac{d^(n-1)x}{dt^(n-1)}+...+a_n(t)x=f_2(t)$$ $的解\n",
    "\n"
   ]
  },
  {
   "cell_type": "markdown",
   "metadata": {},
   "source": [
    "$则 x_1(t)+x_2(t)是方程\\frac{d^n{x}}{dt^n}+a_1(t)\\frac{d^(n-1)x}{dt^(n-1)}+...+a_n(t)x=f_1(t)+f_2(t)的解 $\n",
    "\n"
   ]
  },
  {
   "cell_type": "markdown",
   "metadata": {},
   "source": [
    "解：$因为x_1（t),x_2(t)$分别是非齐次线性微分方程\n",
    "$$\\frac{d^n{x}}{dt^n}+a_1(t)\\frac{d^(n-1)x}{dt^(n-1)}+...+a_n(t)x=f_1(t)\n",
    "\\\\\\frac{d^n{x}}{dt^n}+a_1(t)\\frac{d^(n-1)x}{dt^(n-1)}+...+a_n(t)x=f_2(t)$$ 的解  故有： \n",
    "\n",
    "$$\\frac{d^n{x_1}}{dt^n}+a_1(t)\\frac{d^(n-1)x_1}{dt^(n-1)}+...+a_n(t)x_1=f_1(t)\n",
    "\\\\\\frac{d^n{x_2}}{dt^n}+a_1(t)\\frac{d^(n-1)x_2}{dt^(n-1)}+...+a_n(t)x_2=f_2(t)$$ \n",
    "\n",
    "\n",
    "\n"
   ]
  },
  {
   "cell_type": "markdown",
   "metadata": {},
   "source": [
    "则\n",
    "$$\\frac{d^n{(x_1+x_2)}}{dt^n}+a_1(t)\\frac{d^(n-1)(x_1+x_2)}{dt^(n-1)}+...+a_n(t)(x_1+x_2)=f_1(t)+f_2(t)$$  即证 //\n"
   ]
  },
  {
   "cell_type": "markdown",
   "metadata": {},
   "source": [
    "3. 已知齐次线性微分方程的基本解组$x_1,x_2$ 求下列方程对应的非齐次线性微分方程的通解：\n"
   ]
  },
  {
   "cell_type": "markdown",
   "metadata": {},
   "source": [
    " $(1).x''-x=cost,x_1=e^t,x_2=e^{-t};$"
   ]
  },
  {
   "cell_type": "markdown",
   "metadata": {},
   "source": [
    "$(3).x''+4x=tsin2t,x_1=cos2t,x_2=sin2t;$"
   ]
  },
  {
   "cell_type": "markdown",
   "metadata": {},
   "source": [
    "$(5).t^2x''-tx'+6x=36\\frac{lnt}{t},x_1=t^2,x_2=t^3;$\n"
   ]
  },
  {
   "cell_type": "markdown",
   "metadata": {},
   "source": [
    "$ 解：(1)应用常数变易法：令$$x= c_1(t)e^t+c_2(t)e^{-t}$$ 将它代入方程，则可得决定$$c'_1(t),c'_2(t)$\n",
    "\n",
    "的两个方程"
   ]
  },
  {
   "cell_type": "markdown",
   "metadata": {},
   "source": [
    "$$e^tc'_1(t)+e^{-t}c'_2(t）=0 及e^tc'_1(t)-e^{-t}c'_2(t)=cost$$\n",
    "                        "
   ]
  },
  {
   "cell_type": "markdown",
   "metadata": {},
   "source": [
    "于是$$c'_1(t)=-\\frac{1}{2}coste^{-t}+γ_1, c'_2(t)=-\\frac{1}{2}coste^t+γ_2$$"
   ]
  },
  {
   "cell_type": "markdown",
   "metadata": {},
   "source": [
    "$故得原方程的通解为:γ_1e^t+γ_2e^{-t}-\\frac{cost}{2}$\n",
    "    "
   ]
  },
  {
   "cell_type": "markdown",
   "metadata": {
    "collapsed": true
   },
   "source": [
    "(3).令 x=$c_1(t)cos2t+c_2(t)sin2t \\ $将它代入方程，则可得决定$c'_1(t),c'_2(t)$ 的两个方程"
   ]
  },
  {
   "cell_type": "markdown",
   "metadata": {
    "collapsed": true
   },
   "source": [
    "$-2c_1(t)sin2t+2c_2(t)cos2t=0,及-2c'_1(t)sin2t+2c'_2(t)cos2t=tsin2t$ "
   ]
  },
  {
   "cell_type": "markdown",
   "metadata": {
    "collapsed": true
   },
   "source": [
    "解得：$$c'_1(t)=-\\frac{1}{2}sintsin2t\\\\,c'_2(t)=\\frac{1}{2}sintcos2t$$"
   ]
  },
  {
   "cell_type": "markdown",
   "metadata": {
    "collapsed": true
   },
   "source": [
    " 由此：$$c_1(t)=\\frac{1}{4}[\\frac{1}{3}tsin3t+\\frac{1}{9}cos3t-tsint-cost]+γ_1\\\\,\n",
    "    c_2(t)=\\frac{1}{4}[-\\frac{1}{3}tcos3t+\\frac{1}{9}sin3t+tcost-sint]+γ_2$$\n",
    "                                                                                                   "
   ]
  },
  {
   "cell_type": "markdown",
   "metadata": {
    "collapsed": true
   },
   "source": [
    "于是方程的通解为$$x=γ_1cos2t+γ_2sin2t+\\frac{t}{3}sint-\\frac{2}{9}cost$$"
   ]
  },
  {
   "cell_type": "markdown",
   "metadata": {
    "collapsed": true
   },
   "source": [
    "(5).方程可变形为$x''-\\frac{1}{t}x'+\\frac{1}{t^2}x=\\frac{6}{t}+34$"
   ]
  },
  {
   "cell_type": "markdown",
   "metadata": {
    "collapsed": true
   },
   "source": [
    "令方程的解为x=$tc_1(t)+tlntc_2(t)$将它代入方程，则可得决定$c'_1(t),c'_2(t)$的两个方程\n",
    "$$tc'_1(t)+tlntc'_2(t)=0\\\\,c'_1(t)+(lnt+1)c'_2(t)=\\frac{6}{t}+34 \\\\ 及c'_2(t)=\\frac{6}{t}+34$$"
   ]
  },
  {
   "cell_type": "markdown",
   "metadata": {},
   "source": [
    " 由此：$$c_1(t)=-34(tlnt)-3(lnt)^2+γ_1\\\\c_2(t)=34t+6lnt+γ_2$$\n",
    " "
   ]
  },
  {
   "cell_type": "markdown",
   "metadata": {},
   "source": [
    " 于是方程的通解为：$$x=γ_1t+γ_2tlnt+34t^2+3t(lnt)^2$$"
   ]
  },
  {
   "cell_type": "markdown",
   "metadata": {},
   "source": [
    "6.假设$x_1(t)\\neq0$是二阶齐次线性微分方程$$x''(t)+a_1(t)x'+a_2(t)x=0$$的解，这里$a_1(t)和a_2(t)$在区间[a,b] 上连续，试证：\n",
    "\n",
    "\\(1).$x_2(t)$为方程的解的充要条件是$$W'[x_1,x_2]+a_1W[x_1,x_2]=0$$\n",
    "\n",
    "\\(2).方程的通解可表示为$$x=x_1[c_1\\int\\frac{1}{(x_1)^2}exp(-\\int{t_0}^{t}a_1(s)ds)dt+c_2]$$\n"
   ]
  },
  {
   "cell_type": "markdown",
   "metadata": {},
   "source": [
    " 证明：（1）充分性；由于"
   ]
  },
  {
   "cell_type": "markdown",
   "metadata": {},
   "source": [
    "$$\n",
    "W'[x_1 x_2]=\n",
    "\\begin{vmatrix}\n",
    "x_1' & x_2'\\\\\n",
    "x_1' & x_2'\\\\\n",
    "\\end{vmatrix}\n",
    "+\n",
    "\\begin{vmatrix}\n",
    "x_1 & x_2\\\\\n",
    "x_1'' &x_2''\\\\\n",
    "\\end{vmatrix}\n",
    "$$"
   ]
  },
  {
   "cell_type": "markdown",
   "metadata": {
    "collapsed": true
   },
   "source": [
    "# <font color='red'>A 26/10"
   ]
  },
  {
   "cell_type": "code",
   "execution_count": null,
   "metadata": {
    "collapsed": true
   },
   "outputs": [],
   "source": []
  }
 ],
 "metadata": {
  "kernelspec": {
   "display_name": "Python 2",
   "language": "python",
   "name": "python2"
  },
  "language_info": {
   "codemirror_mode": {
    "name": "ipython",
    "version": 2
   },
   "file_extension": ".py",
   "mimetype": "text/x-python",
   "name": "python",
   "nbconvert_exporter": "python",
   "pygments_lexer": "ipython2",
   "version": "2.7.10"
  }
 },
 "nbformat": 4,
 "nbformat_minor": 0
}
