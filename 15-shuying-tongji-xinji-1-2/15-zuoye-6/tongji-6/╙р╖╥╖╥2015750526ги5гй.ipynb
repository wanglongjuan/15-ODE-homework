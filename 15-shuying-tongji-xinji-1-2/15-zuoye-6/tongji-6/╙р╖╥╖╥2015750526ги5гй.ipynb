{
 "cells": [
  {
   "cell_type": "markdown",
   "metadata": {},
   "source": [
    "$1.假设函数f(x,y)及\\frac{\\partial f}{\\partial y}都在区域G内连续，又y=\\varphi(x,x_0,y_0)是方程\\frac{dy}{dx}=f(x,y,\\lambda)的满足初始条件\\varphi(x_0,x_0,y_0)的解，试证\\frac{\\partial\\varphi}{\\partial y_0}存在且连续，并写出其表达式.$  \n",
    "$解：记初值为(x_0,y_0+\\Delta y_0)的解为y=\\psi(x,x_0,y_0+\\Delta),其中|\\Delta y_0|\\leq\\alpha,\\alpha足够小，则有$  \n",
    "$$\n",
    "\\varphi=y_0+\\int_{x_0}^xf(s,\\varphi(s))ds,\\psi=y_0+\\Delta y_0+\\int_{x_0}^xf(s,\\psi(s))ds.\n",
    "$$  \n",
    "$\\psi-\\varphi=\\Delta y_0+\\int_{x_0}^x[f(s,\\varphi(s)-f(s,\\varphi(s))]ds=\\Delta y_0+\\int_{x_0}^x\\frac{\\partial f(s,\\varphi+\\theta(\\psi-\\varphi))}{\\partial y}(\\psi(s)-\\varphi(s))ds,其中\\theta\\in[0,1],$  \n",
    "$由\\frac{\\partial f}{\\partial y}及\\varphi,\\psi的连续性，有\\frac{\\partial f(s,\\varphi+\\theta(\\psi-\\varphi))}{\\partial y}=\\frac{\\partial f(s,\\varphi)}{\\partial y}+r,$  \n",
    "$其中r满足：\\Delta y_0\\to 0时r\\to 0,\\Delta y_0=0时r=0.$  \n",
    "$即对\\Delta y_0\\neq 0有$  \n",
    "$$\n",
    "\\frac{\\psi-\\varphi}{\\Delta y_0}=1+\\int_{x_0}^x[\\frac{\\partial f(s,\\varphi)}{\\partial y}+r]\\frac{\\psi-\\varphi}{\\Delta y_0}ds,\n",
    "$$  \n",
    "$即z=\\frac{\\psi-\\varphi}{\\Delta y_0}是微分方程初值问题\\begin{cases}\n",
    "\\frac{dz}{dx}=[\\frac{\\partial f(x,\\varphi)}{\\partial y}+r]z,\\\\\n",
    "z(x_0)=1\\\\\n",
    "\\end{cases}的解,$  \n",
    "$即\\frac{\\psi-\\varphi}{\\Delta y_0}=z=\\exp\\{{\\int_{x_0}^x[\\frac{\\partial f(s,\\varphi)]}{\\partial y}]ds}\\},$  \n",
    "$于是$\n",
    "$$\n",
    "\\frac{\\partial\\varphi}{\\partial y_0}=\\lim_{\\Delta\\to 0}\\frac{\\psi-\\varphi}{\\Delta y_0}=\\exp\\{\\int_{x_0}^x[\\frac{\\partial f(s,\\varphi)}{\\partial y}]ds\\},\n",
    "$$  \n",
    "$它是x,x_0,y_0的连续函数.$  \n",
    "\n",
    "$2.假设函数P(x)和Q(x)于区间[\\alpha,\\beta]上连续,y=\\varphi(x,x_0,y_0)是方程\\frac{dy}{dx}=P(x)y+Q(x)的解，y_0=\\varphi(x_0,x_0,y_0).试求\\frac{\\partial\\varphi}{\\partial x_0},\\frac{\\partial\\varphi}{\\partial y_0}及\\frac{\\partial\\varphi}{\\partial x},并从解的表达式出发，利用对参数求导数的方法，检验所得结果.$  \n",
    "$解：由于f(x,y)=P(x)y+Q(x),所以,\\frac{\\partial f}{\\partial y}=P(x).$  \n",
    "$由解对初值的可微性定理得$  \n",
    "$\\frac{\\partial\\varphi}{\\partial x_0}=-f(x_0,y_0)\\exp[\\int_{x_0}^x\\frac{\\partial f(s,\\varphi)}{\\partial y}ds]=-[P(x_0){y_0}+Q(x_0)]\\exp[\\int_{x_0}^xP(s)ds]$  \n",
    "$\\frac{\\partial\\varphi}{\\partial y_0}=\\exp[\\int_{x_0}^x\\frac{\\partial f(s,\\varphi)}{\\partial y}ds]=\\exp[\\int_{x_0}^xP(s)ds],$  \n",
    "$\\frac{\\partial\\varphi}{\\partial x}=f(x,\\varphi(x,x_0,y_0))=P(x)\\varphi(x,x_0,y_0)+Q(x).$  \n",
    "$因为非齐次线性方程有解的表达式为$  \n",
    "$$\n",
    "y=e^{\\int P(x)ds}[\\int Q(x)e^{-\\int P(x)dx}dx+c],\n",
    "$$\n",
    "$于是\\varphi(x,x_0,y_0)=y_0·e^{\\int_{x_0}^xP(x)dx}+\\int_{x_0}^xQ(s)e^{\\int_s^xP(t)dt}ds.$  \n",
    "$直接对参数求导可得$  \n",
    "$\\frac{\\partial\\varphi(x,x_0,y_0)}{\\partial x_0}=-P(x_0)y_0e^{\\int_{x_0}^xP(s)ds}-Q(x_0)e^{\\int_{x_0}^xP(s)ds}=-[P(x_0)y_0+Q(x_0)]e^{\\int_{x_0}^xP(s)ds},$  \n",
    "$\\frac{\\partial\\varphi(x,x_0,y_0)}{\\partial y_0}=e^{\\int_{x_0}^xP(s)ds},$  \n",
    "$\\frac{\\partial\\varphi(x,x_0,y_0)}{\\partial x}=P(x)y_0e^{\\int_{x_0}^xP(s)ds+Q(x)}+\\int_{x_0}^xP(x)Q(s)e^{\\int_s^xP(t)dt}ds$  \n",
    "$=P(x)[y_0e^{\\int_{x_0}^xP(s)ds}+\\int_{x_0}^xQ(s)e^{\\int_s^xP(t)dt}ds]+Q(x)=P(x)\\varphi(x,x_0,y_0)+Q(x).$  \n",
    "$经检验，与解对初值的可微性定理中的公式一致.$  \n",
    "\n",
    "$3.给定方程$  \n",
    "$$\n",
    "\\frac{dy}{dx}=\\sin(\\frac{y}{x}),\n",
    "$$\n",
    "$试求\\frac{\\partial y(x,x_0,y_0)}{\\partial x_0},\\frac{\\partial y(x,x_0,y_0)}{\\partial y_0}在x_0=1,y_0=0时的表达式.$  \n",
    "$解：设f(x,y)=\\sin(\\frac{y}{x}),则\\frac{\\partial f}{\\partial y}=\\frac{1}{x}\\cos(\\frac{y}{x}).$  \n",
    "$由解对初值的可微性定理的证明可知,$  \n",
    "$\\frac{\\partial y(x,x_0,y_0)}{\\partial x_0}=-f(x_0,y_0)\\exp(\\int_{x_0}^x\\frac{\\partial f(s,y)}{\\partial y}ds)=-\\sin(\\frac{y_0}{x_0})\\exp(\\int_{x_0}^x\\frac{1}{s}\\cos\\frac{y}{s}ds),$  \n",
    "$\\frac{\\partial y(x,x_0,y_0}{\\partial y_0}=\\exp(\\int_{x_0}^x\\frac{\\partial f(s,y)}{\\partial y}ds)=\\exp(\\int_{x_0}^x\\frac{1}{s}\\cos\\frac{y}{s}ds).$  \n",
    "$当x_0=1,y_0=0时，对应地得到\\frac{\\partial y(x,x_0,y_0)}{\\partial x_0}|_{x_0=1,y_0=0}=0,$  \n",
    "$\\frac{\\partial(x,x_0,y_0)}{\\partial y_0}|_{x_0=1,y_0=0}=\\exp(\\int_1^x\\frac{1}{s}ds)=|x|.$  \n",
    "$所以在x_0=1,y_0=0时，\\frac{\\partial y}{\\partial x_0}=0,\\frac{\\partial y}{\\partial y_0}=|x|.$  \n",
    "\n",
    "$4.设y=\\varphi(x,x_0,y_0,\\lambda)是初值问题$  \n",
    "$$\n",
    "\\frac{dy}{dx}=\\sin(\\lambda xy),\\varphi(x_0,x_0,y_0,\\lambda)=y_0\n",
    "$$\n",
    "$的饱和解，这里\\lambda是参数，求\\frac{\\partial\\varphi}{\\partial x_0},\\frac{\\partial\\varphi}{\\partial y_0}在(x,0,0,1)处的表达式.$  \n",
    "$解：这里f(x,y)=\\sin(\\lambda xy),\\frac{\\partial f}{\\partial y}=\\lambda x\\cos(\\lambda xy).$  \n",
    "$由解对初值的可微性定理得$  \n",
    "$\\frac{\\partial\\varphi}{\\partial x_0}=-f(x_0,y_0)\\exp(\\int_{x_0}^x\\frac{\\partial f(s,\\varphi)}{\\partial y}ds)=-\\sin(\\lambda x_0y_0)\\exp(\\int_{x_0}^x\\lambda s\\cos(\\lambda s\\varphi)ds),$  \n",
    "$\\frac{\\partial\\varphi}{\\partial y_0}=\\exp(\\int_{x_0}^x\\frac{\\partial f(s,\\varphi)}{\\partial y}ds)=\\exp(\\int_{x_0}^x\\lambda s\\cos(\\lambda s\\cos(\\lambda s\\varphi)ds).$  \n",
    "$当x_0=0,y_0=0,\\lambda=1时，则有\\frac{\\partial\\varphi}{\\partial x_0}|_{(x,0,0,1)}=0,$  \n",
    "$\\frac{\\partial\\varphi}{\\partial y_0}|_{(x,0,0,1)}=\\exp(\\int_0^xs\\cos 0ds)=\\exp(\\frac{x^2}{2}).$"
   ]
  },
  {
   "cell_type": "markdown",
   "metadata": {
    "collapsed": true
   },
   "source": [
    "# <font color='red'>A  20/10\n"
   ]
  },
  {
   "cell_type": "code",
   "execution_count": null,
   "metadata": {
    "collapsed": true
   },
   "outputs": [],
   "source": []
  }
 ],
 "metadata": {
  "kernelspec": {
   "display_name": "SageMath 7.3",
   "language": "",
   "name": "sagemath"
  },
  "language_info": {
   "codemirror_mode": {
    "name": "ipython",
    "version": 2
   },
   "file_extension": ".py",
   "mimetype": "text/x-python",
   "name": "python",
   "nbconvert_exporter": "python",
   "pygments_lexer": "ipython2",
   "version": "2.7.10"
  }
 },
 "nbformat": 4,
 "nbformat_minor": 0
}
