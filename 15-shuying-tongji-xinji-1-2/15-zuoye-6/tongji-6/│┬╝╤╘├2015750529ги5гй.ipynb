{
 "cells": [
  {
   "cell_type": "markdown",
   "metadata": {},
   "source": [
    "## 10月11日 ##"
   ]
  },
  {
   "cell_type": "markdown",
   "metadata": {},
   "source": [
    "P103"
   ]
  },
  {
   "cell_type": "markdown",
   "metadata": {},
   "source": [
    "$ 2.假设函数P(x)和Q(x)于区间[\\alpha,\\beta]上连续，y=\\varphi(x,x_0,y_0)是方程\\frac{\\mathrm dy}{\\mathrm dx}=P(x)y+Q(x)的解，\\varphi(x_0,y_0,y_0)=y_0.试求\\frac{\\partial \\varphi}{\\partial x_0},\\frac{\\partial \\varphi}{\\partial y_0}及\\frac{\\partial \\varphi}{\\partial x},并从解的表达式出发，利用对参数求导的方法，检验所得结果。 $"
   ]
  },
  {
   "cell_type": "markdown",
   "metadata": {},
   "source": [
    "$ 由f(x,y)=P(x)y+Q(x)及有关公式，可得 $\n",
    "\n",
    "$ \\begin{aligned}\n",
    "\\frac{\\partial \\varphi}{\\partial x_0}&=-f(x,y)exp[\\int \\limits_{x_0}^x \\frac{\\partial f(x,\\varphi)}{\\partial y}\\mathrm dx]\\\\\n",
    "&=-[P(x_0)y_0+Q(x_0)+Q(x_0)]exp[\\int \\limits_{x_0}^x P(x)\\mathrm dx]\n",
    "\\end{aligned} $\n",
    "\n",
    "$ \\frac{\\partial \\varphi}{\\partial y_0}=exp[\\int \\limits_{x_0}^x \\frac{\\partial f(x,\\varphi)}{\\partial y}\\mathrm dx]=exp[\\int \\limits_{x_0}^x P(x)\\mathrm dx] $\n",
    "\n",
    "$ \\frac{\\partial \\varphi}{\\partial x}=f(x,\\varphi(x,x_0,y_0))=P(x)\\varphi(x,x_0,y_0)+Q(x) $\n",
    "\n",
    "$ 因为非齐次线性方程有解的表达式y=e^{\\int P(x)\\mathrm dx}[\\int Q(x)e^{-\\int P(x)\\mathrm dx}\\mathrm dx+c] $\n",
    "\n",
    "$ 于是\\varphi(x,x_0,y_0)=y_0*e^{\\int \\limits_{x_0}^x P(x)\\mathrm dx}+\\int \\limits_{x_0}^x Q(s)e^{\\int \\limits_s^x P(x)\\mathrm dx}\\mathrm ds $\n",
    "\n",
    "直接对参数求导，此时\n",
    "\n",
    "$ \\begin{aligned}\n",
    "\\frac{\\partial \\varphi(x,x_0,y_0)}{\\partial x_0}&=-P(x_0)y_0*e^{\\int \\limits_{x_0}^x P(x)\\mathrm dx}-Q(x_0)e^{\\int \\limits_{x_0}^x P(x)\\mathrm dx}\\\\\n",
    "&=-[P(x_0)y_0+Q(x_0)]e^{\\int \\limits_{x_0}^x P(x)\\mathrm dx}\n",
    "\\end{aligned} $\n",
    "\n",
    "$ \\frac{\\partial \\varphi(x,x_0,y_0)}{\\partial y_0}=e^{\\int \\limits_{x_0}^x P(x)\\mathrm dx} $\n",
    "\n",
    "$ \\begin{aligned}\n",
    "\\frac{\\partial \\varphi(x,x_0,y_0)}{\\partial x}&=P(x)y_0*e^{\\int \\limits_{x_0}^xP(x)\\mathrm dx}+Q(x)+\\int \\limits_{x_0}^x Q(s)P(x)e^{\\int \\limits_s^x P(x)\\mathrm dx}\\mathrm ds\\\\\n",
    "&=P(x)[y_0e^{\\int \\limits_{x_0}^x P(x)\\mathrm dx}+\\int \\limits_{x_0}^x Q(s)e^{\\int \\limits_s^x P(x)\\mathrm dx}\\mathrm ds]+Q(x)\\\\\n",
    "&=P(x)\\varphi(x,x_0,y_0)+Q(x)\n",
    "\\end{aligned} $\n",
    "\n",
    "与直接应用公式相同"
   ]
  },
  {
   "cell_type": "markdown",
   "metadata": {
    "collapsed": true
   },
   "source": [
    "$ 3.给定方程\\frac{\\mathrm dy}{\\mathrm dx}=\\sin(\\frac{y}{x}),试求\\frac{\\partial y(x,x_0,y_0)}{\\partial x_0},\\frac{\\partial y(x,x_0,y_0)}{\\partial y_0}在x_0=1,y_0=0时的表达式。 $"
   ]
  },
  {
   "cell_type": "markdown",
   "metadata": {},
   "source": [
    "$ 这是f(x,y)=\\frac{\\mathrm dy}{\\mathrm dx}=\\sin(\\frac{y}{x})在(1,0)某邻域内满足对初值可微性定理条件， $\n",
    "\n",
    "$ 由公式 $\n",
    "\n",
    "$ \\left.\\frac{\\partial y(x,x_0,y_0)}{\\partial x_0}\\right|_{(1,0)}=\\left.-f(x_0,y_0)exp[\\int \\limits_{x_0}^x\\frac{\\partial f(x,y)}{\\partial y}\\mathrm dx]\\right|_{(1,0)}=0 $\n",
    "\n",
    "$ \\begin{aligned}\n",
    "\\left.\\frac{\\partial y(x,x_0,y_0)}{\\partial y_0}\\right|_{(1,0)}&=\\left.exp[\\int \\limits_{x_0}^x \\frac{\\partial f(x,y)}{\\partial y}\\mathrm dx]\\right|_{(1,0)}=\\left.exp\\int \\limits_{x_0}^x\\frac{1}{x}\\cos \\frac{y}{x}\\mathrm dx\\right|_{(1,0)}\\\\\n",
    "&=exp\\int \\limits_{x_0}^x\\frac{1}{x}\\cos \\frac{y(x,1,0)}{x}\\mathrm dx\n",
    "\\end{aligned} $\n",
    "\n",
    "易见$ y=0是原方程满足初始条件y(1)=0 $的解\n",
    "\n",
    "$ 所以y(x,1,0)=0 $\n",
    "\n",
    "$ 所以\\cos \\frac{y(x,1,0)}{x}=\\cos 0=1 $\n",
    "\n",
    "$ 所以\\left.\\frac{\\partial y(x,x_0,y_0)}{\\partial y_0}\\right|_{x_0=1,y=0}=exp\\int \\limits_1^x \\frac{1}{x}\\mathrm dx=|x|$"
   ]
  },
  {
   "cell_type": "markdown",
   "metadata": {},
   "source": [
    "## 10月12日 ##"
   ]
  },
  {
   "cell_type": "markdown",
   "metadata": {},
   "source": [
    "P102"
   ]
  },
  {
   "cell_type": "markdown",
   "metadata": {},
   "source": [
    "$ 1.假设函数f(x,y)及\\frac{\\partial f}{\\partial y}都在区域G内连续，又y=\\varphi(x,x_0,y_0)是方程\\frac{\\mathrm dy}{\\mathrm dx}=f(x,y)满足初值条件\\varphi(x_0,x_0,y_0)=y_0的解，试证\\frac{\\partial \\varphi}{\\partial y_0}存在且连续，并写出其表达式 $"
   ]
  },
  {
   "cell_type": "markdown",
   "metadata": {},
   "source": [
    "$ 记初值为(x_0,y_0+\\Delta y_0)的解为y=\\psi(x,x_0,y_0+\\Delta y_0),其中|\\Delta y_0|\\leq \\alpha,\\alpha足够小，则有 $\n",
    "\n",
    "$ \\varphi=y_0+\\int \\limits_{x_0}^x f(x,\\varphi)\\mathrm dx,\\psi=y_0+\\Delta y_0+\\int \\limits_{x_0}^x f(x,\\psi)\\mathrm dx $\n",
    "\n",
    "$ \\begin{aligned}\n",
    "于是\\psi-\\varphi&=\\Delta y_0+\\int \\limits_{x_0}^x [f(x,\\psi)-f(x,\\varphi)]\\mathrm dx\\\\\n",
    "&=\\Delta y_0+\\int \\limits_{x_0}^x[\\frac{\\partial f(x,\\varphi+\\theta(\\psi-\\varphi))}{\\partial y}(\\psi-\\varphi)]\\mathrm dx \n",
    "\\end{aligned} $\n",
    "\n",
    "$ 其中0\\leq \\theta \\leq 1.由\\frac{\\partial f}{\\partial y}及\\psi,\\varphi的连续性，有 $\n",
    "\n",
    "$ \\frac{\\partial f(x,\\varphi+\\theta(\\psi-\\varphi))}{\\partial y}=\\frac{\\partial f(x,\\varphi)}{\\partial y}+r $\n",
    "\n",
    "$ 其中r有性质：\\Delta y_0 \\to 0时r \\to 0,\\Delta y_0=0时r=0.即对\\Delta y_0\\neq 0有 $\n",
    "\n",
    "$ \\frac{\\psi-\\varphi}{\\Delta y_0}=1+\\int \\limits_{x_0}^x[\\frac{\\partial f(x,\\varphi)}{\\partial y}+r]\\frac{\\psi-\\varphi}{\\Delta y_0}\\mathrm dx $\n",
    "\n",
    "$ 即z=\\frac{\\psi-\\varphi}{\\Delta y_0}是微分方程的初值问题 $\n",
    "\n",
    "$ \\begin{cases}\n",
    "\\frac{\\mathrm dz}{\\mathrm dx}=[\\frac{\\partial f(x,\\varphi)}{\\partial y}+r]z\\\\\n",
    "z(x_0)=1\n",
    "\\end{cases} $\n",
    "\n",
    "的解，即\n",
    "\n",
    "$ \\frac{\\psi-\\varphi}{\\Delta y_0}=z=exp\\{ \\int \\limits_{x_0}^x [\\frac{\\partial f(x,\\varphi)}{\\partial y}+r]\\mathrm dx\\} $\n",
    "\n",
    "$ 于是\\frac{\\partial \\varphi}{\\partial y_0}=\\lim \\limits_{\\Delta y_0 \\to 0}\\frac{\\psi-\\varphi}{\\Delta y_0}=exp\\{ \\int \\limits_{x_0}^x \\frac{\\partial f(x,\\varphi)}{\\partial y}\\mathrm dx\\} $\n",
    "\n",
    "$ 它是x,x_0,y_0的连续函数 $"
   ]
  },
  {
   "cell_type": "markdown",
   "metadata": {},
   "source": [
    "$ 4.设y=\\varphi(x,x_0,y_0,\\lambda)是初值问题\\frac{\\mathrm dy}{\\mathrm dx}\\sin(xy\\lambda),\\varphi(x_0,x_0,y_0,\\lambda)=y_0的饱和解，这里\\lambda是参数，求\\frac{\\partial \\varphi}{\\partial x_0},\\frac{\\partial \\varphi}{\\partial y_0}在(x,0,0,1)处的表达式 $"
   ]
  },
  {
   "cell_type": "markdown",
   "metadata": {},
   "source": [
    "$ \\frac{\\partial \\varphi}{\\partial x_0}=-f(x_0,y_0,\\lambda)exp[\\int \\limits_{x_0}^x \\frac{\\partial f(x,\\varphi,\\lambda)}{\\partial y}\\mathrm dx]=0 $\n",
    "\n",
    "$ \\begin{aligned}\n",
    "\\frac{\\partial \\varphi}{\\partial y_0}&=exp[\\int \\limits_{x_0}^x \\frac{\\partial f(x,\\varphi,\\lambda)}{\\partial y}\\mathrm dx]\\\\\n",
    "&=exp[\\int \\limits_{x_0}^x \\left.cos(\\lambda x\\varphi)\\right|_{\\varphi=0},\\lambda x\\mathrm dx]\\\\\n",
    "&=exp[\\frac{\\lambda}{2}(x^2-{x_0}^2)]\\\\\n",
    "&=exp(\\frac{x^2}{2}) \n",
    "\\end{aligned} $"
   ]
  },
  {
   "cell_type": "markdown",
   "metadata": {
    "collapsed": true
   },
   "source": [
    "# <font color='red'>A  20/10"
   ]
  },
  {
   "cell_type": "code",
   "execution_count": null,
   "metadata": {
    "collapsed": true
   },
   "outputs": [],
   "source": []
  }
 ],
 "metadata": {
  "kernelspec": {
   "display_name": "SageMath 7.3",
   "language": "",
   "name": "sagemath"
  },
  "language_info": {
   "codemirror_mode": {
    "name": "ipython",
    "version": 2
   },
   "file_extension": ".py",
   "mimetype": "text/x-python",
   "name": "python",
   "nbconvert_exporter": "python",
   "pygments_lexer": "ipython2",
   "version": "2.7.10"
  }
 },
 "nbformat": 4,
 "nbformat_minor": 0
}
