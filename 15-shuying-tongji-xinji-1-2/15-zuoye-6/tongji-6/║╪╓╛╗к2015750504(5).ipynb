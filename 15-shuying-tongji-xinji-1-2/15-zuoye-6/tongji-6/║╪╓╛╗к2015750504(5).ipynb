{
 "cells": [
  {
   "cell_type": "markdown",
   "metadata": {},
   "source": [
    "1.解：记初值为（x_0,y_0+deta y_0）的解为y=\\aleph（x,x_0,y_0+deta y_0）,其中|deta y_0|\\neq alpha,alpha足够小时，\n",
    "有phi=y_0+\\int\\limits_{x_0}^{x}f(s,phi(s))ds,\\aleph=y_0+deta y_0+\\int\\limits_{x_0}^{x}f(s,phi(s))ds.\n",
    "alphe-phi=deta y_0+\\int\\limits_{x_0}^{x}[f(s,aleph(s)-f(s,phi(s))]ds=deta y_0 +\\int\\limits_{x_0}^{x}((aleph(s)-phi(s))*\\pal{f(s,phi+sita(aleph-phi))/\\pal{y})ds.又由f对y的偏导数，及phi和aleph的连续性知道，有\n",
    "\\pal{f(s,phi+sita(aleph-phi))/\\pal{y}-\\pal{f(s,phi)/\\pal{y}+r,其中deta y_0趋近于0时，r趋近于0，deta y_0趋近于0时，r=0.即deta y_0不等于0时，有z=(aleph-phi)/deta y_0是微分初值问题的解，于\\pal{phi}/y_0=exp{\\int\\limits_{x_0}^{x}[\\pal{f(s,phi)/y]ds},它是x,x_0,y_0的连续函数。\n",
    "\n"
   ]
  },
  {
   "cell_type": "markdown",
   "metadata": {},
   "source": [
    "2.解：由于f(x,y)=P(x)y+Q(x),所以、\\pal{f}/\\pal{y}=P(x）.由解对初值的可微性定理得到\n",
    "      \\pal{phi}{x_0}=-[P(x_0)y_0+Q(x_0)]exp[\\int\\limits_{x_0}^{x}P(s)ds]\n",
    "      \\pal{phi}{y_0}=exp[\\int\\limits_{x_0}^{x}P(s)ds] \n",
    "      \\pal{phi}{x}=f(x,phi(x,x_0,y_0))=P(x)phi(x,x_0,y_0)+Q(x).\n",
    "                     \n",
    "  因为非齐次线性方程有解的表达式为y=\\sqrt[\\int{P(x)dx}]{e}[\\int{Q(x)\\sqrt[-\\int{P（x）dx]{e}+c],\n",
    "   直接对参数求导可得\\pal{x,x_0,y_0)}{x_0}=-[P(x_0)y_0+Q(x_0)]\\sqrt[\\int\\limits_{x_0}^{x}P(s)ds,\n",
    "   \\pal{phi(x,x_0,y_0}{y_0}=\\sqrt[\\int{x_0}^{x}P(s)ds].\n",
    "   \\pal{x,x_0,y_0)}{x}=P(x)phi(x,x_0,y_0)+Q(x).经过检验可知，与解多初值的可微性定理中的公式一致。"
   ]
  },
  {
   "cell_type": "markdown",
   "metadata": {},
   "source": [
    "3.解：设f(x,y)=sin(y/x),则f对y的偏导数为cos（y/x）/x.由解对初值的可微性定理的证明可知，\n",
    "\\pal{y(x,x_0,y_0)}{x_0}=-f(x_0,y_0)exp(\\int{x_0}^{x}\\pal{f(s,y）}{y}ds)=-sin(y_0/x-0）exp（\\int{x_0}^{x}(cos(y/s）/s)ds.\n",
    "\\pal{y(x,x_0,y_0)}{y_0}=exp(\\int{x_0}{x}(cos(y/x)/s)ds.\n",
    "当x_0=1,y_0=0时，得到\\pal{y(x,x_0,y_0}{x_0}=0,\\pal{y(x,x_0,y_0}{y_0}=|x|.所以在x_0=1，y_0=0时当x_0=1,y_0=0时，得到\\pal{y(x,x_0,y_0}{x_0}=0,\\pal{y(x,x_0,y_0}{y_0}=|x|。\n"
   ]
  },
  {
   "cell_type": "markdown",
   "metadata": {},
   "source": [
    "4.这里f(x,y)=sin(lambda(xy)),\\pal{f}{y}=lanbda(x)cos(lambda(xy))\n",
    "由解对初值的可微性定理得到\\pal{phi}{x_0}=-sin(lambda(x_0y_0))exp(\\int{x_0}^{x}lambda(s)cos(lambda（lambda（sphi)））ds,\n",
    "\\pal{phi}{y_0}=exp(\\int{x_0}^{x}lambda(s)cos(lambda（lambda（sphi)））ds.\n",
    "当x_0=0,y_0=0，lambda=1时 ，则有\\pal{phi}{x_0}=0,\\pal{phi}{y_0}=exp(xx/2).\n",
    "\n",
    "\n",
    "\n",
    "\n"
   ]
  },
  {
   "cell_type": "markdown",
   "metadata": {},
   "source": [
    "# <font color='red'>B 20/10　你写的格式不会？？？？下来找我？？？？"
   ]
  },
  {
   "cell_type": "code",
   "execution_count": null,
   "metadata": {
    "collapsed": true
   },
   "outputs": [],
   "source": []
  }
 ],
 "metadata": {
  "kernelspec": {
   "display_name": "SageMath 7.3",
   "language": "",
   "name": "sagemath"
  },
  "language_info": {
   "codemirror_mode": {
    "name": "ipython",
    "version": 2
   },
   "file_extension": ".py",
   "mimetype": "text/x-python",
   "name": "python",
   "nbconvert_exporter": "python",
   "pygments_lexer": "ipython2",
   "version": "2.7.10"
  }
 },
 "nbformat": 4,
 "nbformat_minor": 0
}
