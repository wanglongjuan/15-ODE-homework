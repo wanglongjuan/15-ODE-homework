{
 "cells": [
  {
   "cell_type": "markdown",
   "metadata": {},
   "source": [
    "## 1.假设函数f(x,y)及$\\frac {\\partial f}{\\partial y}$都在区域内连续，又$y=\\varphi (x,x_0,y_0)$是方程（3.1）满足初值条件$\\varphi (x,x_0,y_0)=y_0$的解，试证$\\frac {\\partial \\varphi}{\\partial y_0}$存在且连续，并写出其表达式。"
   ]
  },
  {
   "cell_type": "markdown",
   "metadata": {},
   "source": [
    "**解**\n",
    "\n",
    "记初值为$(x_0,y_0+\\Delta y_0)$的解为$y=\\psi(x,x_0,y_0+\\Delta y_0)$，其中$|\\Delta y_0| \\leq \\alpha$，则有\n",
    "\n",
    "$$\\varphi = y_0 +\\int_{x_0}^x f(s,\\varphi(s))\\mathrm d s,\\psi=y_0+\\Delta y_0+ \\int_{x_0}^x f(s,\\psi(s))\\mathrm d s$$\n",
    "\n",
    "$$\\psi-\\varphi=\\Delta y_0+\\int_{x_0}^x [f(s,\\psi(s))-f(s,\\varphi(s))]\\mathrm d s=\\Delta y_0+\\int_{x_0}^x \\frac{\\partial f(s,\\varphi +\\theta(\\psi-\\varphi))}{\\partial y} (\\psi(s)-\n",
    "\\varphi(s))\\mathrm d s$$\n",
    "\n",
    "由$\\frac{\\partial f}{\\partial y}$及$\\varphi,\\psi$的连续性，有$$\\frac{\\partial f(s,\\varphi +\\theta(\\psi-\\varphi))}{\\partial y}=\\frac{\\partial f(s,\\varphi)}{\\partial y}+r$$\n",
    "\n",
    "其中$r$满足：$\\Delta y_0 \\to 0$时$r \\to 0,\\Delta y_0 = 0$时$r=0$\n",
    "\n",
    "即对$\\Delta y_0 \\neq 0$有\n",
    "\n",
    "$$\\frac{\\psi-\\varphi}{\\Delta y_0}=1+\\int_{x_0}^x[\\frac{\\partial f(s,\\varphi)}{\\partial y}+r]\\frac{\\psi-\\varphi}{\\Delta y_0}\\mathrm d s$$\n",
    "\n",
    "即$z=\\frac{\\psi-\\varphi}{\\Delta y_0}$是微分方程初值问题\n",
    "\n",
    "$$\\begin{cases}\n",
    "\\frac{\\mathrm d z}{\\mathrm d x}=[\\frac{\\partial f(s,\\varphi)}{\\partial y}]z \\\\\n",
    "z(x_0)=1\n",
    "\\end{cases}$$的解\n",
    "\n",
    "即$$\\frac{\\psi-\\varphi}{\\Delta y_0}=z=\\exp\\{\\int_{x_0}^x[\\frac{\\partial f(s,\\varphi)}{\\partial y}+r]\\mathrm d s\\}$$\n",
    "\n",
    "∴$$\\frac{\\partial \\varphi}{\\partial y_0}=\\lim \\limits_{\\Delta y_0 \\to 0}\\frac{\\psi-\\varphi}{\\Delta y_0}=\\exp\\{\\int_{x_0}^x[\\frac{\\partial f(s,\\varphi)}{\\partial y}]\\mathrm d s\\}$$\n",
    "\n",
    "它是$x,x_0,y_0$的连续函数\n"
   ]
  },
  {
   "cell_type": "markdown",
   "metadata": {},
   "source": [
    "## 2.假设函数P(x)和Q(x)于区间$[\\alpha,\\beta]$上连续，$y=\\varphi (x,x_0,y_0)$是方程\n",
    "## $$\\frac{dy}{dx}=P(x)y+Q(x)$$\n",
    "## 的解，$y_0=\\varphi (x_0,x_0,y_0)$,试求$\\frac {\\partial \\varphi}{\\partial x_0}$,$\\frac {\\partial \\varphi}{\\partial y_0}$,$\\frac {\\partial \\varphi}{\\partial x}$,并从解的表达式出发，利用对参数求导数的方法，检验所得结果。"
   ]
  },
  {
   "cell_type": "markdown",
   "metadata": {},
   "source": [
    "**解**\n",
    "\n",
    "由于$f(x,y)=P(x)y+Q(x)$,∴$\\frac{\\partial f}{\\partial y}=P(x)$\n",
    "\n",
    "由解对初值的可微性定理得\n",
    "\n",
    "$$\\frac{\\partial \\varphi}{\\partial x_0}=-f(x_0,y_0)\\exp[\\int_{x_0}^x \\frac{\\partial f(s,\\varphi)}{\\partial y}\\mathrm d s]=-[P(x_0)y_0+Q(x_0)]\\exp[\\int_{x_0}^x P(s)\\mathrm d s]$$\n",
    "\n",
    "$$\\frac{\\partial \\varphi}{\\partial y_0}=\\exp[\\int_{x_0}^x \\frac{\\partial f(s,\\varphi)}{\\partial y}\\mathrm d s]=\\exp[\\int_{x_0}^x P(s)\\mathrm d s]$$\n",
    "\n",
    "$$\\frac{\\partial \\varphi}{\\partial x}=f(x,\\varphi(x,x_0,y_0))=P(x)\\varphi(x,x_0,y_0)+Q(x)$$\n",
    "\n",
    "因为非齐次线性方程组有解得表达式为\n",
    "\n",
    "$$y=e^{\\int P(x)\\mathrm d x}[\\int Q(x)e^{-\\int P(x)\\mathrm d x}+c]$$\n",
    "\n",
    "于是$\\varphi(x,x_0,y_0)=y_0 e^{\\int_{x_0}^x P(s)\\mathrm d s}+\\int_{x_0}^x Q(s)e^{\\int_s^x P(t)\\mathrm d t}\\mathrm d s$\n",
    "\n",
    "直接对参数求导得\n",
    "\n",
    "$$\\frac{\\partial \\varphi(x,x_0,y_0)}{\\partial x_0}=-P(x_0)y_0 e^{\\int_{x_0}^x P(s)\\mathrm d s}-Q(x)e^{\\int_{x_0}^x P(s)\\mathrm d s}=-[P(x_0)y_0+Q(x)]e^{\\int_{x_0}^x P(s)\\mathrm d s}$$\n",
    "\n",
    "$$\\frac{\\partial \\varphi(x,x_0,y_0)}{\\partial y_0}=e^{\\int_{x_0}^x P(s)\\mathrm d s}$$\n",
    "\n",
    "$$\\frac{\\partial \\varphi(x,x_0,y_0)}{\\partial x}=P(x)y_0 e^{\\int_{x_0}^x P(s)\\mathrm d s}+Q(x)+\\int_{x_0}^x P(x)Q(s)e^{\\int_s^x P(t)\\mathrm d t}\\mathrm d s$$\n",
    "\n",
    "$$=P(x)[y_0 e^{\\int_{x_0}^x P(s)\\mathrm d s}+\\int_{x_0}^x Q(s)e^{\\int_s^x P(t)\\mathrm d t}\\mathrm d s]+Q(x)$$\n",
    "\n",
    "$$=P(x)\\varphi(x,x_0,y_0)+Q(x)$$\n",
    "\n",
    "经检验，公式一致\n"
   ]
  },
  {
   "cell_type": "markdown",
   "metadata": {},
   "source": [
    "## 3.给定方程$\\frac{dy}{dx}=\\sin (\\frac{y}{x})$\n",
    "## 试求$\\frac {\\partial y(x,x_0,y_0)}{\\partial x_0}$,$\\frac {\\partial y(x,x_0,y_0)}{\\partial y_0}$在$x_0=1$,$y_0=0$时的表达式。"
   ]
  },
  {
   "cell_type": "markdown",
   "metadata": {},
   "source": [
    "**解**\n",
    "\n",
    "设$f(x,y)=\\sin(\\frac{y}{x})$,则$$\\frac{\\partial f}{\\partial y}=\\frac{1}{x}\\cos (\\frac{y}{x})$$\n",
    "\n",
    "由解对初值的可微性定理得\n",
    "\n",
    "$$\\frac{\\partial \\varphi(x,x_0,y_0)}{\\partial x_0}=-f(x_0,y_0)\\exp[\\int_{x_0}^x \\frac{\\partial f(s,\\varphi)}{\\partial y}\\mathrm d s]=-\\sin(\\frac{y_0}{x_0})\\exp[\\int_{x_0}^x\\frac{1}{s}\\cos (\\frac{y}{s})\\mathrm d s]$$\n",
    "\n",
    "$$\\frac{\\partial \\varphi(x,x_0,y_0)}{\\partial y_0}=\\exp[\\int_{x_0}^x \\frac{\\partial f(s,\\varphi)}{\\partial y}\\mathrm d s]=\\exp[\\int_{x_0}^x\\frac{1}{s}\\cos (\\frac{y}{s})\\mathrm d s]$$\n",
    "\n",
    "当$x_0=1,y_0=0$时，对应得到$\\frac{\\partial \\varphi(x,x_0,y_0)}{\\partial x_0}$在$(1,0)$为0，$\\frac{\\partial \\varphi(x,x_0,y_0)}{\\partial y_0}在$(1,0)$为$$ \\exp(\\int_1^x \\frac{1}{s} \\mathrm d s)=|x|$\n",
    "\n",
    "所以在$(1,0)$时$$\\frac{\\partial y}{\\partial x_0}=0,\\frac{\\partial y}{\\partial y_0}=|x|$$"
   ]
  },
  {
   "cell_type": "markdown",
   "metadata": {},
   "source": [
    "## 4.设$y=\\varphi (x,x_0,y_0，\\lambda)$是初值问题\n",
    "## $$\\frac {dy}{dx}=\\sin (\\lambda xy),y=\\varphi (x_0,x_0,y_0，\\lambda)=y_0$$ \n",
    "## 的饱和解，这里$\\lambda$是参数，求$\\frac {\\partial \\varphi}{\\partial x_0}$,$\\frac {\\partial \\varphi}{\\partial y_0}$在(x,0,0,1)处的表达式。"
   ]
  },
  {
   "cell_type": "markdown",
   "metadata": {},
   "source": [
    "**解**\n",
    "\n",
    "这里$$f(x,y)=\\sin(\\lambda xy),\\frac{\\partial f}{\\partial y}=\\lambda x\\cos(\\lambda xy)$$\n",
    "\n",
    "由解对初值的可微性定理得\n",
    "\n",
    "$$\\frac{\\partial \\varphi}{\\partial x_0}=-f(x_0,y_0)\\exp[\\int_{x_0}^x \\frac{\\partial f(s,\\varphi)}{\\partial y}\\mathrm d s]=-\\sin(\\lambda x_0 y_0)\\exp(\\int_{x_0}^x \\lambda s\\cos(\\lambda s\\varphi)\\mathrm d s)$$\n",
    "\n",
    "$$\\frac{\\partial \\varphi}{\\partial y_0}=\\exp[\\int_{x_0}^x \\frac{\\partial f(s,\\varphi)}{\\partial y}\\mathrm d s]=\\exp(\\int_{x_0}^x \\lambda s\\cos(\\lambda s\\varphi)\\mathrm d s)$$\n",
    "\n",
    "当$x_0=0,y_0=0,\\lambda=1$时，则有\n",
    "\n",
    "$$\\left.\\frac{\\partial \\varphi}{\\partial x_0} \\right|_{(x,0,0,1)} =0$$\n",
    "\n",
    "$$\\left.\\frac{\\partial \\varphi}{\\partial y_0} \\right|_{(x,0,0,1)}=\\exp(\\int_0^x s\\cos0 \\mathrm d s)=\\exp(\\frac{x^2}{2})$$"
   ]
  },
  {
   "cell_type": "markdown",
   "metadata": {
    "collapsed": true
   },
   "source": [
    "# <font color='red'>A  20/10"
   ]
  },
  {
   "cell_type": "code",
   "execution_count": null,
   "metadata": {
    "collapsed": true
   },
   "outputs": [],
   "source": []
  }
 ],
 "metadata": {
  "kernelspec": {
   "display_name": "SageMath 7.3",
   "language": "",
   "name": "sagemath"
  },
  "language_info": {
   "codemirror_mode": {
    "name": "ipython",
    "version": 2
   },
   "file_extension": ".py",
   "mimetype": "text/x-python",
   "name": "python",
   "nbconvert_exporter": "python",
   "pygments_lexer": "ipython2",
   "version": "2.7.10"
  }
 },
 "nbformat": 4,
 "nbformat_minor": 0
}
