{
 "cells": [
  {
   "cell_type": "markdown",
   "metadata": {},
   "source": [
    "# 常微分作业五\n",
    "\n",
    "**第42面**\n",
    "\n",
    "**第一题**\n",
    "\n",
    "$假设函数f(x,y)及\\frac{\\partial f}{\\partial y}都在区域G内连续，又y=\\varphi(x,x_0,y_0)是方程（3.1）满足初值条件\\varphi(x_0,x_0,y_O)=y_0的解，试证\\frac{\\partial \\varphi}{\\partial y_0}存在且连续，并写出其表达式。$\n",
    " \n",
    "$证：设由初值(x_0,y_0)和(x_0,y_0+\\Delta y_0)(\\mid \\Delta y_0  \\mid \\leq \\alpha,\\alpha为足够小的正数）所确定的方程的解分别为：$\n",
    "\n",
    "$y=\\varphi(x,x_0,y_0)=\\varphi和y=\\varphi(x,x_0,y_0+\\Delta y_0)=\\psi,即$\n",
    "\n",
    "$\\varphi=y_0+\\int_{x_0}^x f(x,\\varphi)dx和\\psi=y_0+\\Delta y_0+\\int_{x_0}^x f(x,\\psi)dx,于是$\n",
    "\n",
    "$\\psi-\\varphi=\\Delta y_0+\\int_{x_0}^x [f(x,\\psi)-f(x,\\varphi)]dx$\n",
    "\n",
    "$由微分中值定理可将该式化为：\\psi-\\varphi=\\Delta y_0+\\int_{x_0}^x \\frac{\\partial f(x,\\varphi+\\theta(\\psi-\\varphi)}{\\partial y}(\\psi-\\varphi)dx$\n",
    "\n",
    "$其中0<\\theta<1,注意到\\frac{\\partial f}{\\partial y}及\\varphi和\\psi的连续性有：$\n",
    "\n",
    "$\\frac {\\partial f(x,\\varphi+\\theta(\\psi-\\varphi))}{\\partial y}=\\frac{\\partial f(x,\\varphi)}{\\partial y}+r$\n",
    "\n",
    "$当\\Delta y_0\\to 0时r \\to 0,且当\\Delta y_0=0时，r=0,所以当\\Delta y_0\\neq 0时，则有：$\n",
    "\n",
    "$\\frac{\\psi-\\varphi}{\\Delta y_0}=1+\\int_{x_0}^x [\\frac {\\partial f(x,\\varphi)}{\\partial y}]\\frac{\\psi-\\varphi}{\\Delta y_0}dx$\n",
    "\n",
    "令$\\frac{\\psi-\\varphi}{\\Delta y_0}=z$,则有：$$z=1+\\int_{x_0}^x (\\frac{\\partial f(x,\\varphi)}{\\partial y}+r)zdx$$\n",
    "\n",
    "$即可得\\left\\{\\begin{array}\\ \\frac{\\mathrm dz}{\\mathrm dx}=(\\frac{\\partial f(x,\\varphi)}{\\partial y}+r)z,\\\\z(x_0)=1 \\end{array}\\right.$\n",
    "\n",
    "$由格朗沃尔不等式可得z=exp \\int_{x_0}^x (\\frac{\\partial f(x,\\varphi)}{\\partial y}+r)dx$\n",
    "\n",
    "$于是有：\\frac{\\partial \\varphi}{\\partial y_0}=\\lim_{\\Delta y_0 \\to o} \\frac{\\psi-\\varphi}{y_0}=exp\\int_{x_0}^x \\frac{\\partial f(x,\\varphi)}{\\partial y} \\mathrm{dx}$\n",
    "\n",
    "$即可证证\\frac{\\partial \\varphi}{\\partial y_0}存在且连续，其表达式为exp\\int_{x_0}^x \\frac{\\partial f(x,\\varphi)}{\\partial y} \\mathrm{dx}$\n",
    "\n",
    "**第二题**\n",
    "\n",
    "$假设函数P(x)和Q(x)于区间[\\alpha,\\beta]上连续，y=\\varphi(x,x_0,y_0)$是方程$$\\frac{\\mathrm dy}{\\mathrm dx}=P(x)y+Q(x)$$\n",
    "\n",
    "$的解，y_0=\\varphi(x_0,x_0,y_0),试求\\frac{\\partial \\varphi}{\\partial x_0},\\frac{\\partial \\varphi}{\\partial y_0},\\frac{\\partial \n",
    "\\varphi}{\\partial x},并从解的表达式出发，利用参数求导数的方法，检验所得结果.$\n",
    "\n",
    "$解：利用公式\\frac{\\partial \\varphi}{\\partial x_0}=-f(x_0,y_0)exp[\\int_{x_0}^x \\frac{\\partial f(x,\\varphi)}{\\partial y} \\mathrm{dx}]可求得\\frac{\\partial \\varphi}{\\partial x_0}=-[P(x_0)y_0+Q(x_0)]exp[\\int_{x_0}^x P(x) \\mathrm{dx}]$\n",
    "\n",
    "$利用公式\\frac{\\partial \\varphi}{\\partial y_0}=exp[\\int_{x_0}^x \\frac{\\partial f(x,\\varphi)}{\\partial y} \\mathrm{dx}]可求得\\frac{\\partial \\varphi}{\\partial y_0}=exp[\\int_{x_0}^x P(x) \\mathrm{dx}]$\n",
    "\n",
    "$\\frac{\\partial \\varphi}{\\partial x}=f(x,\\varphi(x,x_0,y_0)=P(x)\\varphi(x,x_0,y_0)+Q(x)$\n",
    "\n",
    "$又因为\\frac{\\mathrm dy}{\\mathrm dx}=P(x)y+Q(x)有通解:y=e^{\\int P(x)dx}(\\int Q(x)e^{-\\int P(x)dx}+C),所以有\\varphi(x,x_0,y_0)=y_0 e^{\\int_{x_0}^x P(x)dx}+\\int_{x_0}^x Q(s)e^{\\int_s^x P(x)dx} ds$\n",
    "\n",
    "$则验证：\\frac{\\partial \\varphi}{\\partial x_0}=-P(x_0)y_0e^{\\int_{x_0}^x P(x) \\mathrm {dx}}-Q(x_0)e^{\\int_{x_0}^x P(x)\\mathrm{dx}}=-[P(x_0)y_0+Q(x_0)]exp[\\int_{x_0}^x P(x) \\mathrm{dx}]$\n",
    "\n",
    "$\\frac{\\partial \\varphi}{\\partial y_0}=exp[\\int_{x_0}^x P(x) \\mathrm{dx}]$\n",
    "\n",
    "$\\frac{\\partial \\varphi}{\\partial x}=P(x)y_0e^{\\int_{x_0}^x P(x)\\mathrm{dx}}+Q(x)+\\int_{x_0}^xQ(s)P(x)e^{\\int_s^x P(x) \\mathrm{dx} \\mathrm{ds}}=P(x)\\varphi(x,x_0,y_0)+Q(x)$\n",
    "\n",
    "$即表达式与对式子求导数所求答案一致$\n",
    "\n",
    "**第三题**\n",
    "\n",
    "给定方程$$\\frac{\\mathrm dy}{\\mathrm dx}=\\sin(\\frac{y}{x})$$\n",
    "\n",
    "$试求\\frac{\\partial y(x,x_0,y_0)}{\\partial x_0},\\frac{\\partial y(x,x_0,y_0)}{\\partial y_0}在x_0=1,y_0=0时的表达式。$\n",
    "\n",
    "$解：根据表达式\\frac{\\partial \\varphi}{\\partial x_0}=-f(x_0,y_0)exp[\\int_{x_0}^x \\frac{\\partial f(x,\\varphi)}{\\partial y} \\mathrm{dx}]，带入可得：\\frac{\\partial y(x,x_0,y_0)}{\\partial x_0}=-\\sin(\\frac{y_0}{x_0})exp\\int_{x_0}^x \\frac{1}{y}cos\\frac{y}{x}\\mathrm{dx}$\n",
    "\n",
    "$因为x_0=1,y_0=0,所以\\frac{\\partial y(x,x_0,y_0)}{\\partial x_0}=0$\n",
    "\n",
    "$\\frac{\\partial \\varphi}{\\partial y_0}=exp[\\int_{x_0}^x P(x) \\mathrm{dx}]=exp\\int_{x_0}^x \\frac{1}{y}cos\\frac{y}{x}|_{y_0=0}\\mathrm{dx}$\n",
    "\n",
    "$所以\\frac{\\partial \\varphi}{\\partial y_0}=exp\\int_{x_0}^x \\frac{1}{y}\\mathrm{dx}=\\mid x\\mid$\n",
    "\n",
    "**第四题**\n",
    "\n",
    "$设y=\\varphi(x,x_0,y_0,\\lambda)是初值问题$,$$\\frac{\\mathrm dy}{\\mathrm dx}=\\sin(\\lambda xy),\\varphi(x_0,x_0,y_0,\\lambda)=y_0$$\n",
    "\n",
    "$的饱和解，这里\\lambda是参数，求\\frac{\\partial \\varphi}{\\partial x_0},\\frac{\\partial \\varphi}{\\partial y_0}在(x,0,0,1)处的表达式。$\n",
    "\n",
    "$解：根据表达式\\frac{\\partial \\varphi}{\\partial x_0}=-f(x_0,y_0)exp[\\int_{x_0}^x \\frac{\\partial f(x,\\varphi)}{\\partial y} \\mathrm{dx}]，带入可得：\\frac{\\partial \\varphi}{\\partial x_0}=-\\sin(\\lambda {y_0}{x_0})exp\\int_{x_0}^x \\lambda{x}cos\\lambda{x}{y}\\mathrm{dx}$\n",
    "\n",
    "$因为x_0=0,y_0=0,所以\\frac{\\partial \\varphi}{\\partial x_0}=0$\n",
    "\n",
    "$\\frac{\\partial \\varphi}{\\partial y_0}=exp[\\int_{x_0}^x P(x) \\mathrm{dx}]=exp\\int_{x_0}^x\\lambda{x}cos\\lambda{x}{y}|_y=0\\mathrm{dx}=exp\\int_{x_0}^x\\lambda{x}\\mathrm{dx}=exp\\frac{\\lambda}{2}(x^2-{x_0}^2)$\n",
    "\n",
    "$又因为x_0=0,\\lambda=1,所以\\frac{\\partial \\varphi}{\\partial y_0}=e^\\frac{x^2}{2}$\n",
    "\n",
    "$所以\\frac{\\partial \\varphi}{\\partial x_0},\\frac{\\partial \\varphi}{\\partial y_0}在(x,0,0,1)处的表达式分别为：\\frac{\\partial \\varphi}{\\partial x_0}=0，\\frac{\\partial \\varphi}{\\partial y_0}=e^\\frac{x^2}{2}$\n"
   ]
  },
  {
   "cell_type": "markdown",
   "metadata": {
    "collapsed": true
   },
   "source": [
    " # <font color='red'>A  20/10"
   ]
  },
  {
   "cell_type": "code",
   "execution_count": null,
   "metadata": {
    "collapsed": true
   },
   "outputs": [],
   "source": []
  }
 ],
 "metadata": {
  "kernelspec": {
   "display_name": "SageMath 7.3",
   "language": "",
   "name": "sagemath"
  },
  "language_info": {
   "codemirror_mode": {
    "name": "ipython",
    "version": 2
   },
   "file_extension": ".py",
   "mimetype": "text/x-python",
   "name": "python",
   "nbconvert_exporter": "python",
   "pygments_lexer": "ipython2",
   "version": "2.7.10"
  }
 },
 "nbformat": 4,
 "nbformat_minor": 0
}
