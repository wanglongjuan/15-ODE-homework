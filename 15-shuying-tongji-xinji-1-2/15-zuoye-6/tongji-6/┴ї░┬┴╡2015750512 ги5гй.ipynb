{
 "cells": [
  {
   "cell_type": "markdown",
   "metadata": {},
   "source": [
    "## 第五次常微分作业 2015750512 刘奥恋 15统计学班##"
   ]
  },
  {
   "cell_type": "markdown",
   "metadata": {},
   "source": [
    "$$假设函数f（x,y）及\\frac{\\partial f}{\\partial y}都在区域G内连续，又y=\\varphi (x,x_0,y_0)是方程\\frac{\\mathrm dy}{\\mathrm dx}=f(x,y,\\lambda)的满足初始条件\\varphi (x_0,x_0,y_0)的解，试证\\frac{\\partial \\varphi}{\\partial y_0}存在且连续，并写出其表达式。$$"
   ]
  },
  {
   "cell_type": "markdown",
   "metadata": {},
   "source": [
    "$证明：记初值为（x_0,y_0+\\Delta y_0）的解为y=\\phi (x,x_0,y_0+\\Delta y_0)，其中\\mid\\Delta y_0\\mid\\leq\\alpha，\\alpha足够小，则有:$\n",
    "\n",
    "$$\\varphi=y_0+\\int_{x_0}^x f(s,\\varphi (s))ds,\\psi=y_0+\\Delta y_0+\\int_{x_0}^xf(s,\\psi(s))ds$$\n",
    "\n",
    "$$\\begin{aligned}\\psi-\\varphi & =\\Delta y_0+\\int_{x_0}^x[f(s,\\psi(s))ds-f(x,\\varphi(s))]ds \\\\\n",
    "& =\\Delta y_0+\\int_{x_0}^x\\frac{\\partial f(s,\\varphi+\\theta(\\psi-\\varphi))}{\\partial y}(\\psi(x)-\\varphi(s))ds\\end{aligned}，其中\\theta\\in[0,1]$$\n",
    "\n",
    "$由\\frac{\\partial f}{\\partial y}及\\varphi,\\psi的连续性，有\\frac{\\partial f(s,\\varphi+\\theta(\\psi-\\varphi))}{\\partial y}=\\frac{\\partial f(s,\\varphi)}{\\partial y}+r$\n",
    "\n",
    "$其中r满足:\\Delta y_0\\to 0/时，\\Delta y_0=0时.r=0$\n",
    "\n",
    "$即对\\Delta\\neq 0，有\\frac{\\varphi-\\psi}{\\Delta y_0}=1+\\int_{x_0}^x [\\frac{\\partial f(s,\\varphi)}{\\partial y}+r]\\frac{\\psi-\\varphi}{\\Delta y_0}ds$\n",
    "\n",
    "$即z=\\frac{\\psi-\\varphi}{\\Delta y_0}是微分方程初值问题\\left\\{\\begin{array}\\ \\frac{\\mathrm dz}{\\mathrm dx}=[\\frac{\\partial f(x,\\varphi)}{\\partial y}+r]z\\\\ z(x_0)=1 \\end{array}\\right.的解$\n",
    "\n",
    "$即\\frac{\\psi-\\varphi}{\\Delta y_0}=z=exp｛\\int_{x_0}^x[\\frac{\\partial f(s,\\varphi)}{\\partial y}]ds｝$\n",
    "\n",
    "$于是\\frac{\\partial \\varphi}{\\partial y_0}=\\lim_{\\Delta y_0\\to0}\\frac{\\psi-\\varphi}{\\Delta y_0}=exp｛\\int_{x_0}^x[\\frac{\\partial f(s,\\varphi)}{\\partial y}]ds｝$\n",
    "\n",
    "$它是x,x_0,y_0的连续函数$\n"
   ]
  },
  {
   "cell_type": "markdown",
   "metadata": {},
   "source": [
    "$$假设函数P（x）和Q（x）于区间[\\alpha,\\beta]上连续，y=\\varphi(x,x_0,y_p)是方程\\frac{\\mathrm dy}{\\mathrm dx}=P(x)y+Q(x)的解，试求\\frac{\\partial\\varphi}{\\partial x_0},\\frac{\\partial\\varphi}{\\partial y_0},\\frac{\\partial\\varphi}{\\partial x}，并从解的表达式出发，利用对参数求导数的方程，检验所得结果.$$\n",
    "\n",
    "$解：由于f(x,y)=P(x)y+Q(x)，所以\\frac{\\partial f}{\\partial y}=P(x)$\n",
    "\n",
    "$由解对初值的可微性定理可得$\n",
    "\n",
    "$\\frac{\\partial\\varphi}{\\partial x_0}=-f(x_0,y_0)exp[\\int_{x_0}^x \\frac{\\partial f(s,\\varphi)}{\\partial y}ds]=exp[\\int_{x_0}^x P(s)ds]$\n",
    "\n",
    "$\\frac{\\partial\\varphi}{\\partial y_0}=exp[\\int_{x_0}^x \\frac{\\partial f(s,\\varphi)}{\\partial y}ds]=exp[\\int_{x_0}^x P(s)ds]$\n",
    "\n",
    "$\\frac{\\partial\\varphi}{\\partial x}=f(x,\\varphi(x,x_0,y_0))=P(x)\\varphi(x,x_0,y_0)+Q(x)$\n",
    "\n",
    "$因为非齐性线性方程有解的表达式为y=e^{\\int P(x)dx}[\\int Q(x)e^{-\\int P(x)dx}dx+c],$\n",
    "\n",
    "$于是\\varphi(x,x_0,y_0)=y_0e^{\\int_{x_0}^xP(s）ds}+\\int_{x_0}^xQ(s)e^{\\int_s^xP(t)dt}ds$\n",
    "\n",
    "$直接对参数求导可得\\frac{\\varphi(x,x_0,y_0)}{\\partial x_0}=-P(x_0)y_0e^{\\int_{x_0}^xP(s）ds}-Q(x_0)e^{\\int_{x_0}^xP(s）ds}$\n",
    "\n",
    "$\\frac{\\varphi(x,x_0,y_0)}{\\partial y_0}=e^{\\int_{x_0}^xP(s）ds}$\n",
    "\n",
    "$\\begin{aligned}\\frac{\\varphi(x,x_0,y_0)}{\\partial x} & =P(x)y_0e^{\\int_{x_0}^x P(s)ds}+Q(x)+\\int_{x_0}^xP(x)Q(s)e^{\\int_{x_0}^xP(t)dt}ds\\\\\n",
    "& =P(x)[y_0e^{\\int_{x_0}^x P(s)ds}+Q(x)+\\int_{x_0}^xP(x)Q(s)e^{\\int_{x_0}^xP(t)dt}ds]+Q(x)\\\\\n",
    "& =P(x)\\varphi(x,x_0,y_0)+Q(x)\\end{aligned}$\n",
    "\n",
    "$经检验，与解对初值的可微性定理中的公式一致$\n"
   ]
  },
  {
   "cell_type": "markdown",
   "metadata": {},
   "source": [
    "$$给定方程\\frac{\\mathrm dy}{\\mathrm dx}=\\sin(\\frac{y}{x})，试求\\frac{\\partial y(x,x_0,y_0)}{\\partial x_0},\\frac{\\partial y(x,x_0,y_0)}{\\partial y_0}在x_0=1,y_0=0时的表达式$$\n",
    "\n",
    "$设f(x,y)=\\sin(\\frac{y}{x})则\\frac{\\partial f}{\\partial y}=\\frac{1}{x}\\cos(\\frac({y}{x})，由解对初值的可微性定理的证明可知$\n",
    "\n",
    "$\\begin{aligned}\\frac{\\partial y(x,x_0,y_0)}{\\partial x_0} & =-f(x_0,y_0)exp(\\int_{x_0}^x \\frac{\\partial f(s,y)}{\\partial y}ds)\\\\\n",
    "& =-\\sin(\\frac{y_0}{x_0})exp(\\int_{x_0}^x \\frac{1}{s}\\cos{\\frac{y}{s}}ds) \\end{aligned}$\n",
    "\n",
    "$\\frac{\\partial y(x,x_0,y_0)}{\\partial y_0}=exp(\\int_{x_0}^x \\frac{\\partial f(s,y)}{\\partial y}ds)=exp(\\int_{x_0}^x \\frac{1}{s}\\cos{\\frac{y}{s}}ds)$\n",
    "\n",
    "$当x_0=1,y_0=1时，对应地得到\\frac{\\partial y(x,x_0,y_0)}{\\partial x_0}|_{x_0=1,y_0=0}=0\\quad\\frac{\\partial y(x,x_0,y_0)}{\\partial y_0}|_{x_0=1,y_0=0}=exp(\\int_1^x \\frac{1}{s}ds)=\\mid x\\mid$\n",
    "\n",
    "$所以在x_0=1,y_0=1时,\\frac{\\partial y}{\\partial x_0}=0,\\frac{\\partial y}{\\partial y_0}=\\mid x\\mid$"
   ]
  },
  {
   "cell_type": "markdown",
   "metadata": {},
   "source": [
    "$$设y=\\varphi(x,x_0,y_0,\\lambda)是初值问题\\frac{\\mathrm dy}{\\mathrm dx}=\\sin(\\lambda xy),\\varphi(x_0,,x_0,y_0,\\lambda)=y_0的饱合解，这里\\lambda是参数，求\\frac{\\partial\\varphi}{\\partial x_0},\\frac{\\partial\\varphi}{\\partial y_0}在(x,0,0,1)处的表达式$$\n",
    "\n",
    "$这里f(x,y)=\\sin(\\lambda xy),\\frac{\\partial f}{\\partial y}=\\lambda x\\cos(\\lambda xy)$\n",
    "\n",
    "$由解对初值的可微性定理得$\n",
    "\n",
    "$\\frac{\\partial\\varphi}{\\partial x_0}=-f(x_0,y_0)exp(\\int_{x_0}^x \\frac{\\partial f(x,\\varphi)}{\\partial y}ds)=-\\sin(\\lambda x_0y_0)exp(\\int_{x_0}^x\\lambda s\\cos(\\lambda s\\varphi)ds)$\n",
    "\n",
    "$\\frac{\\partial\\varphi}{\\partial y_0}=exp(\\int_{x_0}^x \\frac{\\partial f(x,\\varphi)}{\\partial y}ds)=exp(\\int_{x_0}^x\\lambda s\\cos(\\lambda s\\varphi)ds)$\n",
    "\n",
    "$当x_0=0,y_0=0,\\lambda=1时，则有\\frac{\\partial\\varphi}{\\partial x_0}|_{(x,0,0,1)}=0$\n",
    "\n",
    "$\\frac{\\partial\\varphi}{\\partial y_0}|_{(x,0,0,1)}=exp(\\int_0^x s\\cos0ds)=exp(\\frac{x^2}{2})$"
   ]
  },
  {
   "cell_type": "markdown",
   "metadata": {},
   "source": [
    "# <font color='red'>A  20/10"
   ]
  },
  {
   "cell_type": "code",
   "execution_count": null,
   "metadata": {
    "collapsed": true
   },
   "outputs": [],
   "source": []
  }
 ],
 "metadata": {
  "kernelspec": {
   "display_name": "SageMath 7.3",
   "language": "",
   "name": "sagemath"
  },
  "language_info": {
   "codemirror_mode": {
    "name": "ipython",
    "version": 2
   },
   "file_extension": ".py",
   "mimetype": "text/x-python",
   "name": "python",
   "nbconvert_exporter": "python",
   "pygments_lexer": "ipython2",
   "version": "2.7.10"
  }
 },
 "nbformat": 4,
 "nbformat_minor": 0
}
