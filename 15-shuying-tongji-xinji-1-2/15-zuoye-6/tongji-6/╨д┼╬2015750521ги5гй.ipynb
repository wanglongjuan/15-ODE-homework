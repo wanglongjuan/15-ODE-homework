{
 "cells": [
  {
   "cell_type": "markdown",
   "metadata": {},
   "source": [
    "# $$作业五(习题3.3)$$"
   ]
  },
  {
   "cell_type": "markdown",
   "metadata": {},
   "source": [
    "## 1.假设函数$f(x,y)$及$\\frac{\\partial f}{\\partial y}$都在区域$G$内连续,又$y=\\phi(x,x_0,y_0)$是方程$\\frac{\\partial y}{\\partial x}=f(x,y,\\lambda)$的满足初始条件$\\phi(x_0,x_0,y_0)=y_0$的解,佐证$\\frac{\\partial \\phi}{\\partial y_0}$存在且连续,并写出其表达式."
   ]
  },
  {
   "cell_type": "markdown",
   "metadata": {},
   "source": [
    "解:记初值为$(x_0,y_0+\\Delta y_0)$的解为$y=\\psi(x,x_0,y_0+\\Delta y_0)$,其中$|\\Delta y_0|\\leq \\alpha$,$\\alpha$足够小,则有$$\\phi=y_0+\\int_{x_0}^x f(s,\\psi(s))\\,\\mathrm{d}s,\\phi=y_0+\\Delta y_0+\\int_{x_0}^x f(s,\\phi(s))\\,\\mathrm{d}s$$\n",
    "$$\\psi-\\phi=\\Delta y_0+\\int_{x_0}^x [f(s,\\psi(s))\\,\\mathrm{d}s-\\int_{x_0}^x f(s,\\phi(s))\\,\\mathrm{d}s]$$\n",
    "$$=\\Delta y_0+\\int_{x_0}^x [\\frac{\\partial f(s,\\phi+\\theta(\\psi-\\phi))}{\\partial y}(\\psi(s)-\\phi(s))]\\,\\mathrm{d}s(\\theta \\in [0,1])$$\n",
    "由$\\frac{\\partial f}{\\partial y}$及$\\psi,\\phi$的连续性,有:$$\\frac{\\partial f(s,\\phi+\\theta(\\psi-\\phi))}{\\partial y}=\\frac{\\partial f(s,\\phi)}{\\partial y}+r$$\n",
    "$r$应满足$\\Delta y_0 \\to 0$时$r \\to 0$,$\\Delta y_0 =0$时$r = 0$.\n",
    "对$\\Delta y_0 \\neq 0$ \n",
    "\n",
    "$$\\frac{\\mathrm \\psi-\\phi}{\\mathrm \\Delta y_0}=1+\\int_{x_0}^x [\\frac{\\partial f(s,\\phi)}{\\partial y}+r]\\frac{\\mathrm \\psi-\\phi}{\\mathrm \\Delta y_0}\\,\\mathrm{d}s$$\n",
    "即$z=\\frac{\\mathrm \\psi-\\phi}{\\mathrm \\Delta y_0}$是微分方程初值问题$ \\begin{cases}\n",
    "      \\frac{\\mathrm dz}{\\mathrm  dx}=[\\frac{\\partial f(s,\\phi)}{\\partial y}+r]z,\\\\\n",
    "      z(x_0)=1\n",
    "      \\end{cases}$的解.\n",
    "即$$z=\\Delta y_0=exp{\\int_{x_0}^x [\\frac{\\partial f(s,\\phi)}{\\partial y}+r]\\,\\mathrm{d}s}$$\n",
    "$$\\frac{\\partial \\phi}{\\partial y_0}=\\lim_{\\Delta y_0\\to 0}\\ \\frac{\\mathrm \\psi-\\phi}{\\mathrm \\Delta y_0}=exp{\\int_{x_0}^x [\\frac{\\partial f(s,\\phi)}{\\partial y}]\\,\\mathrm{d}s}$$\n",
    "∴它是的连续函数."
   ]
  },
  {
   "cell_type": "markdown",
   "metadata": {},
   "source": [
    "# 2.假设函数$P(x)$和$Q(x)$于区间$[\\alpha,\\beta]$上连续,$y=\\phi(x,x_0,y_0)$是方程$$\\frac{\\mathrm dy}{\\mathrm  dx}=P(x)y+Q(x)$$的解,$y_0=\\phi(x_0,x_0,y_0)$.试求$\\frac{\\partial \\phi}{\\partial x_0}$,$\\frac{\\partial \\phi}{\\partial y_0}$,$\\frac{\\partial \\phi}{\\partial x}$,并从解的表达式出发,利用对参数求导数的方法,检证所得结果."
   ]
  },
  {
   "cell_type": "markdown",
   "metadata": {},
   "source": [
    "解：$f(x,y)=P(x)y+Q(x)$则$\\frac{\\partial f}{\\partial y}=P(x)$\n",
    "$$\\frac{\\partial \\phi}{\\partial x_0}=-f(x_0,y_0)exp{\\int_{x_0}^x [\\frac{\\partial f(s,\\phi)}{\\partial y}]\\,\\mathrm{d}s}=-[P(x_0)y_0+Q(x_0)]exp[\\int_{x_0}^x P(s)\\,\\mathrm{d}s]$$\n",
    "$$\\frac{\\partial \\phi}{\\partial y_0}=exp{\\int_{x_0}^x [\\frac{\\partial f(s,\\phi)}{\\partial y}]\\,\\mathrm{d}s}=exp[\\int_{x_0}^x P(s)\\,\\mathrm{d}s]$$\n",
    "$$\\frac{\\partial \\phi}{\\partial x}=f(x,\\phi(x,x_0,y_0))=P(x)\\phi(x,x_0,y_0)+Q(x)$$\n",
    "因为非齐次线性方程有解的表达式为$$y=e^{\\int P(x)\\,\\mathrm{d}x}[\\int Q(x)e^{-\\int P(x)\\,\\mathrm{d}x}\\,\\mathrm{d}x+c]$$\n",
    "$$\\phi(x,x_0,y_0)=y_0e^{\\int_{x_0}^x P(s)\\,\\mathrm{d}s}+\\int_{x_0}^x Q(s)e^{-\\int_{x}^t P(t)\\,\\mathrm{d}t}\\,\\mathrm{d}s$$\n",
    "对 $x_0$求导得：\n",
    "$$\\frac{\\partial \\phi(x,x_0,y_0)}{\\partial x_0}=-P(x_0)y_0e^{\\int_{x_0}^x P(s)\\,\\mathrm{d}s}-Q(x_0)e^{-\\int_{x_0}^x P(s)\\,\\mathrm{d}s}=-[P(x_0)y_0+Q(x_0)]e^{\\int_{x_0}^x P(s)\\,\\mathrm{d}s}$$\n",
    "$$\\frac{\\partial \\phi(x,x_0,y_0)}{\\partial y_0}=e^{\\int_{x_0}^x P(s)\\,\\mathrm{d}s}$$\n",
    "$$\\frac{\\partial \\phi(x,x_0,y_0)}{\\partial x}=P(x)y_0e^{\\int_{x_0}^x P(s)\\,\\mathrm{d}s}+Q(x)+\\int_{x_0}^x P(x)Q(s)e^{-\\int_{x}^t P(t)\\,\\mathrm{d}t}\\,\\mathrm{d}s$$\n",
    "$$=P(x)[y_0e^{\\int_{x_0}^x P(s)\\,\\mathrm{d}s}+\\int_{x_0}^x Q(s)e^{-\\int_{x}^t P(t)\\,\\mathrm{d}t}\\,\\mathrm{d}s]+Q(x)$$\n",
    "$$=P(x)\\phi(x,x_0,y_0)+Q(x)$$\n",
    "经检验与解对初值的可微性定理中公式一致"
   ]
  },
  {
   "cell_type": "markdown",
   "metadata": {},
   "source": [
    "# 3.给定方程$$\\frac{\\mathrm dy}{\\mathrm dx}=\\sin(\\frac{\\mathrm y}{\\mathrm x})$$,试求$\\frac{\\partial \\phi(x,x_0,y_0)}{\\partial x_0}$,$\\frac{\\partial \\phi(x,x_0,y_0)}{\\partial y_0}$在$x_0=1$,$y_0=0$时的表达式."
   ]
  },
  {
   "cell_type": "markdown",
   "metadata": {},
   "source": [
    "解：$f(x,y)=\\sin(\\frac{\\mathrm y}{\\mathrm x})$则$\\frac{\\partial f}{\\partial y}=\\frac{\\mathrm 1}{\\mathrm x}\\cos(\\frac{\\mathrm y}{\\mathrm x})$\n",
    "从解对初值的可微性定理证明得:\n",
    "$$\\frac{\\partial \\phi(x,x_0,y_0)}{\\partial x_0}=-f(x_0,y_0)exp{\\int_{x_0}^x [\\frac{\\partial f(s,\\phi)}{\\partial y}]\\,\\mathrm{d}s}$$\n",
    "$$=-\\sin(\\frac{\\mathrm y_0}{\\mathrm x_0})exp[\\int_{x_0}^x \\frac{\\mathrm 1}{\\mathrm s}\\cos(\\frac{\\mathrm y}{\\mathrm s})\\,\\mathrm{d}s]$$\n",
    "$$\\frac{\\partial \\phi(x,x_0,y_0)}{\\partial y_0}=exp{\\int_{x_0}^x [\\frac{\\partial f(s,\\phi)}{\\partial y}]\\,\\mathrm{d}s}=exp[\\int_{x_0}^x \\frac{\\mathrm 1}{\\mathrm s}\\cos(\\frac{\\mathrm y}{\\mathrm s})\\,\\mathrm{d}s]$$\n",
    "当$x_0=1$,$y_0=0$时,对应得：$\\frac{\\partial \\phi(x,x_0,y_0)}{\\partial x_0}|_{x_0=1,y_0=0}=0$ $\\frac{\\partial \\phi(x,x_0,y_0)}{\\partial y_0}|_{x_0=1,y_0=0}=exp[\\int_{1}^x \\frac{\\mathrm 1}{\\mathrm s}\\,\\mathrm{d}s]=|x|$\n",
    "\n",
    "在$x_0=1$,$y_0=0$时,$\\frac{\\partial y}{\\partial x_0}=0,\\frac{\\partial y}{\\partial y_0}=|x|$"
   ]
  },
  {
   "cell_type": "markdown",
   "metadata": {},
   "source": [
    "# 4.设$y=\\phi(x,x_0,y_0,\\lambda)$是初值问题$$\\frac{\\mathrm dy}{\\mathrm dx}=\\sin(\\lambda xy),\\phi(x_0,x_0,y_0,\\lambda)=y_0$$的饱和解,这里$\\lambda$是参数,求$\\frac{\\partial y}{\\partial x_0},\\frac{\\partial y}{\\partial y_0}$在$(x,0,0,1)$处的表达式."
   ]
  },
  {
   "cell_type": "markdown",
   "metadata": {},
   "source": [
    "解：$f(x,y)=\\sin(\\lambda xy)$则$\\frac{\\partial f}{\\partial y}=\\lambda x\\cos(\\lambda xy)$\n",
    "从解对初值的可微性定理证明得:\n",
    "$$\\frac{\\partial y}{\\partial x_0}=-f(x_0,y_0)exp{\\int_{x_0}^x [\\frac{\\partial f(s,\\phi)}{\\partial y}]\\,\\mathrm{d}s}$$\n",
    "$$=-\\sin(\\lambda x_0y_0)exp[\\int_{x_0}^x \\lambda s\\cos(\\lambda s\\phi)\\,\\mathrm{d}s]$$\n",
    "$$\\frac{\\partial y}{\\partial y_0}=exp{\\int_{x_0}^x [\\frac{\\partial f(s,\\phi)}{\\partial y}]\\,\\mathrm{d}s}=exp[\\int_{x_0}^x \\lambda s\\cos(\\lambda s\\phi)\\,\\mathrm{d}s]$$\n",
    "当$x_0=1$,$y_0=0$时,对应得：$\\frac{\\partial y}{\\partial x_0}|_{(x,0,0,1)}=0$ $\\frac{\\partial y}{\\partial y_0}|_{(x,0,0,1)}=exp[\\int_{0}^x  s\\cos(0)\\,\\mathrm{d}s]=exp(\\frac{\\mathrm x^2}{\\mathrm 2})$"
   ]
  },
  {
   "cell_type": "markdown",
   "metadata": {
    "collapsed": true
   },
   "source": [
    " # <font color='red'>A  20/10"
   ]
  },
  {
   "cell_type": "code",
   "execution_count": null,
   "metadata": {
    "collapsed": true
   },
   "outputs": [],
   "source": []
  }
 ],
 "metadata": {
  "kernelspec": {
   "display_name": "SageMath 7.3",
   "language": "",
   "name": "sagemath"
  },
  "language_info": {
   "codemirror_mode": {
    "name": "ipython",
    "version": 2
   },
   "file_extension": ".py",
   "mimetype": "text/x-python",
   "name": "python",
   "nbconvert_exporter": "python",
   "pygments_lexer": "ipython2",
   "version": "2.7.10"
  }
 },
 "nbformat": 4,
 "nbformat_minor": 0
}
