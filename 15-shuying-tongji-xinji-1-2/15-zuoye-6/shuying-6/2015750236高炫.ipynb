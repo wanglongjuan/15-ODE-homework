{
 "cells": [
  {
   "cell_type": "markdown",
   "metadata": {},
   "source": [
    "# 1.假设函数f(x,y)及$\\frac{\\partial f} {\\partial y}$都在区域G内连续，又$y=\\varphi(x,x_0,y_0)$是方程（3.1）满足初值条件$\\varphi(x,x_0,y_0)=y_0$的解，试证$\\frac{\\partial \\varphi} {\\partial y_0}$存在且连续，并写出其表达式."
   ]
  },
  {
   "cell_type": "markdown",
   "metadata": {},
   "source": [
    "证：设$y=\\varphi(x,x_0,y_0+\\Delta y_0)=\\psi$为初值$(x_0,y_0+\\Delta y_0)(|\\Delta y_0|\\leq \\alpha)$所确定的解，通过推演可证$\\frac{\\psi-\\varphi} {\\Delta y_0}$是初值问题\n",
    "$$\n",
    "\\begin{cases}\n",
    "\\frac{dz} {dx}=[\\frac{\\partial f(x,\\varphi)} {\\partial y}+r_3]z\\\\z(x_0)=1\n",
    "\\end{cases}\n",
    "$$\n",
    "的解，因而\n",
    "$$\\frac{\\psi-\\varphi} {\\Delta y_0}=exp(\\int_{x_0}^x \\mathrm[{\\frac{\\partial f(x,\\varphi)} {\\partial y}}+r_3]\\,\\mathrm{d}x)$$\n",
    "其中$r_3$具有性质：当$\\Delta y_0\\longrightarrow0时r_3\\longrightarrow0,且\\Delta y_0=0时r_3=0$,固有\n",
    "$$\\frac{\\partial \\varphi} {\\partial y_0}=\\lim\\limits_{\\Delta y_0\\longrightarrow0}{\\frac{\\psi-\\varphi} {\\Delta y_0}}=exp(\\int_{x_0}^x \\mathrm{\\frac{\\partial f(x,\\varphi)} {\\partial y}}\\,\\mathrm{d}x)$$\n",
    "它是$x,x_0,y_0$的连续函数,\n",
    "其表达式为$$\\frac{\\partial \\varphi} {\\partial y_0}=exp(\\int_{x_0}^x \\mathrm{\\frac{\\partial f(x,\\varphi)} {\\partial y}}\\,\\mathrm{d}x)$$"
   ]
  },
  {
   "cell_type": "markdown",
   "metadata": {},
   "source": [
    "# 2.假设函数P(x)和Q(x)于区间$[\\alpha,\\beta]$上连续，$y=\\varphi(x,x_0,y_0)$是方程$\\frac{dy} {dx}=P(x)y+Q(x)$的解，$y_0=\\varphi(x,x_0,y_0）$.试求$\\frac{\\partial \\varphi} {\\partial x_0}$,$\\frac{\\partial \\varphi} {\\partial y_0}$,$\\frac{\\partial \\varphi} {\\partial x}$,并从解的表达式出发，利用对参数求导的方法，检验所得结果."
   ]
  },
  {
   "cell_type": "markdown",
   "metadata": {},
   "source": [
    "这里$f(x,y)=P(x)y+Q(x)$,$\\frac{\\partial f} {\\partial y}=P(x)$,初始条件为$y_0=\\varphi(x,x_0,y_0）$。根据解对初值的可微性定理可得$$\\frac{\\partial \\varphi} {\\partial x_0}=-f(x_0,y_0)exp(\\int_{x_0}^x \\mathrm{\\frac{\\partial f(s,\\varphi)} {\\partial y}}\\,\\mathrm{d}x)=-(P(x_0)y_0+Q(x_0)exp(\\int_{x_0}^x \\mathrm{P(x)}\\,\\mathrm{d}x)$$\n",
    "$$\\frac{\\partial \\varphi} {\\partial y_0}=exp(\\int_{x_0}^x \\mathrm{\\frac{\\partial f(s,\\varphi)} {\\partial y}}\\,\\mathrm{d}x)=exp(\\int_{x_0}^x \\mathrm{P(x)}\\,\\mathrm{d}x)$$\n",
    "$$\\frac{\\partial \\varphi} {\\partial x_0}=f(x,\\varphi(x,x_0,y_0))=P(x)\\varphi(x,x_0,y_0)+Q(x)$$\n",
    "又可知方程$\\frac{dy} {dx}=P(x)y+Q(x)$的通解为$$y=e^{\\int\\mathrm{P(x)}\\,\\mathrm{d}x}({\\int\\mathrm{Q(x){e^{\\int\\mathrm{-P(x)}\\,\\mathrm{d}x}}}\\,\\mathrm{d}x}+c)$$\n",
    "而方程$\\frac{dy} {dx}=P(x)y+Q(x)$的具有初始条件$y(x_0)=x_0$的特解可以写成\n",
    "$$y=\\varphi(x,x_0,y_0）=e^{\\int_{x_0}^x \\mathrm{P(s)}\\,\\mathrm{d}s}({\\int{x_0}^x \\mathrm{Q(t){e^{\\int_{x_0}^x \\mathrm{-P(s)}\\,\\mathrm{d}s}}}\\,\\mathrm{d}t}+{y_0})$$\n",
    "利用可得参数导数的方法可得$$\\begin{aligned}\\frac{\\partial \\varphi} {\\partial x_0}&=e^{\\int_{x_0}^x \\mathrm{P(s)}\\,\\mathrm{d}s}（-P（X))({\\int{x_0}^x \\mathrm{Q(t){e^{\\int_{x_0}^x \\mathrm{-P(s)}\\,\\mathrm{d}s}}}\\,\\mathrm{d}t}+{y_0})+e^{\\int_{x_0}^x \\mathrm{P(s)}\\,\\mathrm{d}s}[-Q(xe^{\\int_{x_0}^x \\mathrm{-P(s)}\\,\\mathrm{d}s})+({\\int{x_0}^x \\mathrm{Q(t){e^{\\int_{x_0}^x \\mathrm{-P(s)}\\,\\mathrm{d}s}}}\\,\\mathrm{d}t})P(x_0)]\\\\&=-(P(x_0)y_0+Q(x_0))e^{\\int_{x_0}^x \\mathrm{P(s)}\\,\\mathrm{d}s}\\end{aligned}$$\n",
    "$$\\begin{aligned}\\frac{\\partial \\varphi} {\\partial y_0}&=e^{\\int_{x_0}^x \\mathrm{P(s)}\\,\\mathrm{d}s}\\end{aligned}$$\n",
    "$$\\begin{aligned}\\frac{\\partial \\varphi} {\\partial x}&=e^{\\int_{x_0}^x \\mathrm{P(s)}\\,\\mathrm{d}s}P(x)({\\int{x_0}^x \\mathrm{Q(t){e^{\\int_{x_0}^x \\mathrm{-P(s)}\\,\\mathrm{d}s}}}\\,\\mathrm{d}t}+{y_0})+e^{\\int_{x_0}^x \\mathrm{P(s)}\\,\\mathrm{d}s}Q(x)e^{\\int_{x_0}^x \\mathrm{-P(s)}\\,\\mathrm{d}s}\\\\&=P(x)\\varphi+Q(x)\\end{aligned}$$\n",
    "则与前面解出的结论一致"
   ]
  },
  {
   "cell_type": "markdown",
   "metadata": {},
   "source": [
    "# 3.给定方程$$\\frac{dy} {dx}=\\sin (\\frac{y} {x}),$$试求$\\frac{\\partial y(x,x_0,y_0)} {\\partial x_0}$,$\\frac{\\partial y(x,x_0,y_0)} {\\partial y_0}$在$x_0=1$,$y_0=0$时的表达式."
   ]
  },
  {
   "cell_type": "markdown",
   "metadata": {},
   "source": [
    "设$f(x,y)=\\sin (\\frac{y} {x})$,则$\\frac{\\partial f} {\\partial y}={\\frac{1} {x}}{\\cos (\\frac{y} {x}）}$,由解对初值的可微性定理的证明可得\n",
    "$$\\begin{aligned}\\frac{\\partial y(x,x_0,y_0)} {\\partial x_0}&=-f(x_0,y_0)exp(\\int_{x_0}^x \\mathrm{\\frac{\\partial f(s,\\varphi)} {\\partial y}}\\,\\mathrm{d}x)\\\\&=-\\sin (\\frac{y_0} {x_0})exp(\\int{x_0}^x \\mathrm{{\\frac{1} {x}}{\\cos (\\frac{y} {x}）}}\\,\\mathrm{d}x)\\end{aligned}$$\n",
    "$$\\begin{aligned}\\frac{\\partial y(x,x_0,y_0)} {\\partial y_0}&=exp(\\int_{x_0}^x \\mathrm{\\frac{\\partial f(s,\\varphi)} {\\partial y}}\\,\\mathrm{d}x)\\\\&=exp(\\int{x_0}^x \\mathrm{{\\frac{1} {x}}{\\cos (\\frac{y} {x}）}}\\,\\mathrm{d}x)\\end{aligned}$$\n",
    "当$x_0=1$,$y_0=0$时，对应得到\n",
    "$$\\frac{\\partial y(x,x_0,y_0)} {\\partial x_0}|_{x_0=1,y_0=0}=0$$\n",
    "$$\\frac{\\partial y(x,x_0,y_0)} {\\partial y_0}|_{x_0=1,y_0=0}=|x|$$\n"
   ]
  },
  {
   "cell_type": "markdown",
   "metadata": {},
   "source": [
    "# 4.设$y=\\varphi(x,x_0,y_0,\\lambda)$是初值问题$$\\frac{dy} {dx}=\\sin (\\lambda xy),\\varphi(x_0,x_0,y_0,\\lambda)=y_0$$的饱和解，这里$\\lambda$是参数，求$\\frac{\\partial \\varphi} {\\partial x_0},\\frac{\\partial \\varphi} {\\partial y_0}$在(x,0,0,1)处的表达式"
   ]
  },
  {
   "cell_type": "markdown",
   "metadata": {},
   "source": [
    "这里$f(x,y)=\\sin (\\lambda xy),\\frac{\\partial f} {\\partial y}=\\lambda x \\cos (\\lambda xy)$,根据解对初值的可微性定理可得，\n",
    "$$\\begin{aligned}\\frac{\\partial \\varphi} {\\partial x_0}&=-f(x_0,y_0)exp(\\int_{x_0}^x \\mathrm{\\frac{\\partial f(s,\\varphi)} {\\partial y}}\\,\\mathrm{d}x)\\\\&=-\\sin (\\lambda x_0,y_0)exp(\\int_{x_0}^x \\mathrm{\\lambda x \\cos (\\lambda x \\varphi)}\\,\\mathrm{d}x)\\end{aligned}$$\n",
    "$$\\begin{aligned}\\frac{\\partial \\varphi} {\\partial y_0}&=exp(\\int_{x_0}^x \\mathrm{\\frac{\\partial f(s,\\varphi)} {\\partial y}}\\,\\mathrm{d}x)\\\\&=exp(\\int_{x_0}^x \\mathrm{\\lambda x \\cos (\\lambda x \\varphi)}\\,\\mathrm{d}x)\\end{aligned}$$\n",
    "当$x_0=0,y_0=0,\\lambda=1$时，则有\n",
    "$$\\frac{\\partial \\varphi} {\\partial x_0}|_{x,0,0,1}=0$$\n",
    "$$\\frac{\\partial \\varphi} {\\partial y_0}|_{x,0,0,1}=exp(\\frac{x^2} {2})$$"
   ]
  },
  {
   "cell_type": "markdown",
   "metadata": {
    "collapsed": true
   },
   "source": [
    " # <font color='red'>A  20/10"
   ]
  },
  {
   "cell_type": "code",
   "execution_count": null,
   "metadata": {
    "collapsed": true
   },
   "outputs": [],
   "source": []
  }
 ],
 "metadata": {
  "kernelspec": {
   "display_name": "SageMath 7.3",
   "language": "",
   "name": "sagemath"
  },
  "language_info": {
   "codemirror_mode": {
    "name": "ipython",
    "version": 2
   },
   "file_extension": ".py",
   "mimetype": "text/x-python",
   "name": "python",
   "nbconvert_exporter": "python",
   "pygments_lexer": "ipython2",
   "version": "2.7.10"
  }
 },
 "nbformat": 4,
 "nbformat_minor": 0
}
