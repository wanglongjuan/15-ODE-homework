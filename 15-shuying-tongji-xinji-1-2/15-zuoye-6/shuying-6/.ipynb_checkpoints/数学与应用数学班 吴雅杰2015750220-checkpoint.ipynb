{
 "cells": [
  {
   "cell_type": "markdown",
   "metadata": {},
   "source": [
    "**数学与应用数学班**"
   ]
  },
  {
   "cell_type": "markdown",
   "metadata": {},
   "source": [
    "吴雅杰 2015750220"
   ]
  },
  {
   "cell_type": "markdown",
   "metadata": {},
   "source": [
    "**1**"
   ]
  },
  {
   "cell_type": "markdown",
   "metadata": {},
   "source": [
    "**证明：\n",
    "**设由初值$(x_0,y_0+\\Delta y_0)(\\mid\\Delta y_0\\mid\\leq\\alpha)$和$(x_0,y_0)$所确定的解分别为$$y=\\varphi(x,x_0,y_0+\\Delta y_0)=\\psi$$$$y=\\varphi(x,x_0,y_0)=\\varphi$$"
   ]
  },
  {
   "cell_type": "markdown",
   "metadata": {},
   "source": [
    "即：$$\\varphi=y_0+\\int_{x_0}^x f(x,\\varphi){d}x$$"
   ]
  },
  {
   "cell_type": "markdown",
   "metadata": {},
   "source": [
    "$$\\psi=y_0+\\Delta y_0+\\int_{x_0}^x f(x,\\psi){d}x$$"
   ]
  },
  {
   "cell_type": "markdown",
   "metadata": {},
   "source": [
    "$\\therefore$ $$\\varphi-\\psi=\\Delta y_0+\\int_{x_0}^x f(x,\\psi){d}x-\\int_{x_0}^x f(x,\\varphi){d}x$$"
   ]
  },
  {
   "cell_type": "markdown",
   "metadata": {},
   "source": [
    "$$\\psi-\\varphi=\\Delta y_0+\\int_{x_0}^x\\left[\\frac{\\partial f(x,\\varphi)}{\\partial y}+r_1\\right](\\psi-\\varphi){d}x$$"
   ]
  },
  {
   "cell_type": "markdown",
   "metadata": {},
   "source": [
    "$$\\frac{\\psi-\\varphi}{\\Delta y_0}=1+\\int_{x_0}^x\\left[\\frac{\\partial f(x,\\varphi)}{\\partial y}+r_1\\right]\\frac{\\psi-\\varphi}{\\Delta y_0}{d}x$$"
   ]
  },
  {
   "cell_type": "markdown",
   "metadata": {},
   "source": [
    "即$\\frac{\\psi-\\varphi}{\\Delta y_0}$是初值问题$$\\left\\{\\begin{array}{c}\\frac{dz}{dx}=\\left[\\frac{\\partial f(x,\\varphi)}{\\partial y}+r_1\\right]z\\\\z(x_0)=1\\end{array}\\right.$$"
   ]
  },
  {
   "cell_type": "markdown",
   "metadata": {},
   "source": [
    "的解，所以$$\\frac{\\psi-\\varphi}{\\Delta y_0}=exp\\left(\\int_{x_0}^x\\left[\\frac{\\partial f(x,\\varphi)}{\\partial y}+r_1\\right]{d}x\\right)$$"
   ]
  },
  {
   "cell_type": "markdown",
   "metadata": {},
   "source": [
    "其中r具有性质：当$\\Delta y_0\\rightarrow0$时$r\\rightarrow0$，且$\\Delta y_0=0$时$r=0$"
   ]
  },
  {
   "cell_type": "markdown",
   "metadata": {},
   "source": [
    "$\\therefore$ $$\\frac{\\partial \\varphi}{\\partial {y_0}}=\\lim_{\\Delta y_0\\rightarrow0}\\frac{\\psi-\\varphi}{\\Delta y_0}=exp\\left(\\int_{x_0}^x\\frac{\\partial f(x,\\varphi)}{\\partial y}{d}x\\right)$$"
   ]
  },
  {
   "cell_type": "markdown",
   "metadata": {},
   "source": [
    "它是$x,x_0,y_0$的连续函数"
   ]
  },
  {
   "cell_type": "markdown",
   "metadata": {},
   "source": [
    "**2**"
   ]
  },
  {
   "cell_type": "markdown",
   "metadata": {},
   "source": [
    "**解：**"
   ]
  },
  {
   "cell_type": "markdown",
   "metadata": {},
   "source": [
    "由解对初值的可微性定理得：$$\\frac{\\partial\\varphi}{\\partial x_0}=-(P(x_0)y_0+Q(x_0))exp\\left(\\int_{x_0}^x P(x){d}x\\right)$$"
   ]
  },
  {
   "cell_type": "markdown",
   "metadata": {},
   "source": [
    "$$\\frac{\\partial\\varphi}{\\partial y_0}=exp\\left(\\int_{x_0}^x P(x){d}x\\right)$$"
   ]
  },
  {
   "cell_type": "markdown",
   "metadata": {},
   "source": [
    "$$\\frac{\\partial\\varphi}{\\partial x}=f(x,\\varphi(x,x_0,y_0))=P(x)\\varphi(x,x_0,y_0)+Q(x)$$"
   ]
  },
  {
   "cell_type": "markdown",
   "metadata": {},
   "source": [
    "验：易知方程$\\frac{dy}{dx}=P(x)y+Q(x)$的通解为$$y=e^{\\int P(x){d}x}\\left(\\int Q(x)\\cdot e^{\\int-P(x){d}x}+c\\right)$$"
   ]
  },
  {
   "cell_type": "markdown",
   "metadata": {},
   "source": [
    "而方程$\\frac{dy}{dx}=P(x)y+Q(x)$的具有初始条件$y(x_0)=x_0$的特解可以写成$$y=\\varphi(x,x_0,y_0)=e^{\\int_{x_0}^x P(u){d}u\n",
    "}\\left(\\int_{x_0}^x Q(t)\\cdot e^{\\int_{x_0}^x-P(u){d}u}\\cdot{d}u+y_0\\right)$$"
   ]
  },
  {
   "cell_type": "markdown",
   "metadata": {},
   "source": [
    "利用可得参数导数的方法可得：$$\\frac{\\partial\\varphi}{\\partial x_0}=-(P(x_0)y_0+Q(x_0))e^{\\int_{x_0}^x P(u){d}u}$$"
   ]
  },
  {
   "cell_type": "markdown",
   "metadata": {},
   "source": [
    "$$\\frac{\\partial\\varphi}{\\partial y_0}=e^{\\int_{x_0}^x P(u){d}u}$$"
   ]
  },
  {
   "cell_type": "markdown",
   "metadata": {},
   "source": [
    "$$\\frac{\\partial\\varphi}{\\partial x}=P(x)\\varphi+Q(x)$$"
   ]
  },
  {
   "cell_type": "markdown",
   "metadata": {},
   "source": [
    "与前面解出的结论一致。"
   ]
  },
  {
   "cell_type": "markdown",
   "metadata": {},
   "source": [
    "**3**"
   ]
  },
  {
   "cell_type": "markdown",
   "metadata": {},
   "source": [
    "**解：**设$f(x,y)=sin(\\frac{y}{x})$，则$\\frac{\\partial f}{\\partial y}=\\frac{1}{x}cos(\\frac{y}{x})$，由解对初值的可微性定理可得：$$\\frac{\\partial y(x,x_0,y_0)}{\\partial x_0}=-sin(\\frac{y_0}{x_0})exp\\left(\\int_{x_0}^x \\frac{1}{x}cos\\frac{y}{x}{d}x\\right)$$"
   ]
  },
  {
   "cell_type": "markdown",
   "metadata": {},
   "source": [
    "$$\\frac{\\partial y(x,x_0,y_0)}{\\partial y_0}=exp\\left(\\int_{x_0}^x\\frac{1}{x}cos\\frac{y}{x}{d}x\\right)$$"
   ]
  },
  {
   "cell_type": "markdown",
   "metadata": {},
   "source": [
    "当$x_0=1,y_0=0$时，对应得到：$$\\left.\\frac{\\partial y(x,x_0,y_0)}{\\partial x_0}\\right|_{x_0=1,y_0=0}=0$$"
   ]
  },
  {
   "cell_type": "markdown",
   "metadata": {},
   "source": [
    "$$\\left.\\frac{\\partial y(x,x_0,y_0)}{\\partial y_0}\\right|_{x_0=1,y_0=0}=\\mid x\\mid$$"
   ]
  },
  {
   "cell_type": "markdown",
   "metadata": {},
   "source": [
    "所以在$x_0=1,y_0=0$时，$\\frac{\\partial y}{x_0}=0,\\frac{\\partial y}{\\partial y_0}=\\mid x\\mid$"
   ]
  },
  {
   "cell_type": "markdown",
   "metadata": {},
   "source": [
    "**4**"
   ]
  },
  {
   "cell_type": "markdown",
   "metadata": {},
   "source": [
    "**解：**"
   ]
  },
  {
   "cell_type": "markdown",
   "metadata": {},
   "source": [
    "$f(x,y)=sin(\\lambda xy),\\frac{\\partial f}{\\partial y}=\\lambda xcos(\\lambda xy)$"
   ]
  },
  {
   "cell_type": "markdown",
   "metadata": {},
   "source": [
    "由初值的可微性定理可得：$$\\frac{\\partial\\varphi}{\\partial x_0}=-sin(\\lambda x_0,y_0)exp\\left(\\int_{x_0}^x\\lambda xcos(\\lambda x\\varphi){d}x\\right)$$"
   ]
  },
  {
   "cell_type": "markdown",
   "metadata": {},
   "source": [
    "$$\\frac{\\partial\\varphi}{\\partial y_0}=exp\\left(\\int_{x_0}^x\\lambda xcos(\\lambda x\\varphi){d}x\\right)$$"
   ]
  },
  {
   "cell_type": "markdown",
   "metadata": {},
   "source": [
    "当$x_0=0,y_0=0,\\lambda=1$时，有$$\\left.\\frac{\\partial\\varphi}{\\partial x_0}\\right|_{x,0,0,1}=0$$"
   ]
  },
  {
   "cell_type": "markdown",
   "metadata": {},
   "source": [
    "$$\\left.\\frac{\\partial\\varphi}{\\partial y_0}\\right|_{x,0,0,1}=exp\\left(\\int_0^x xcos0{d}x\\right)=exp\\left(\\frac{x^2}{2}\\right)$$"
   ]
  },
  {
   "cell_type": "markdown",
   "metadata": {},
   "source": [
    " # <font color='red'>A  20/10"
   ]
  },
  {
   "cell_type": "code",
   "execution_count": null,
   "metadata": {
    "collapsed": true
   },
   "outputs": [],
   "source": []
  }
 ],
 "metadata": {
  "kernelspec": {
   "display_name": "SageMath 7.3",
   "language": "",
   "name": "sagemath"
  },
  "language_info": {
   "codemirror_mode": {
    "name": "ipython",
    "version": 2
   },
   "file_extension": ".py",
   "mimetype": "text/x-python",
   "name": "python",
   "nbconvert_exporter": "python",
   "pygments_lexer": "ipython2",
   "version": "2.7.10"
  }
 },
 "nbformat": 4,
 "nbformat_minor": 0
}
