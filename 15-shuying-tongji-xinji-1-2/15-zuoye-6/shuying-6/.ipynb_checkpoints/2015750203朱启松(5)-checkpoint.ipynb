{
 "cells": [
  {
   "cell_type": "markdown",
   "metadata": {
    "collapsed": true
   },
   "source": [
    "##  $1.假设函数f(x,y)及\\frac{\\partial f}{\\partial y}都在区域G内连续,又y=\\varphi(x,x_0,y_0)是方程(3.1)满足初值条件\\varphi(x_0,x_0,y_0)=y_0的解,试证\\frac{\\partial \\varphi}{\\partial y_0}存在且连续,并写出其表达式.$"
   ]
  },
  {
   "cell_type": "markdown",
   "metadata": {},
   "source": [
    "$$ 解:设初值为(x_0,y_0+\\Delta y_0)的解为y=\\psi=\\varphi(x,x_0,y_0+\\Delta y_0),其中|\\Delta y_0|\\leq \\alpha,\\alpha足够小.$$\n",
    "\n",
    "$$所以\\varphi=y_0+\\int^x_{x_0 }f(x,\\varphi)\\mathrm d x,\\psi=y_0+\\Delta y_0+\\int^x_{x_0 }f(x,\\psi)\\mathrm d x $$\n",
    "\n",
    "$$所以\\psi-\\varphi=\\Delta y_0+\\int^x_{x_0}\\frac{\\partial f(x,\\varphi+\\theta(\\psi-\\varphi))}{\\partial y}(\\psi-\\varphi)\\mathrm d x(其中\\theta\\in[0,1]) $$\n",
    "\n",
    "$$ 由\\frac{\\partial f}{\\partial y}以及\\varphi,\\psi的连续性 $$\n",
    "\n",
    "$$\\frac{\\partial f(x,\\varphi+\\theta(\\psi-\\varphi))}{\\partial y}=\\frac{\\partial f(x,\\varphi)}{\\partial  y}+r(其中r具有性质:当\\Delta y_0\\to 0，r\\to 0;\\Delta y_0=0时r\\to 0)$$\n",
    "\n",
    "$$ 则有\\frac{\\psi-\\varphi}{\\Delta y_0}=1+\\int^x_{x_0}[\\frac{\\partial f(x,\\varphi+\\theta(\\psi-\\varphi))}{\\partial y}+r]\\frac{(\\psi-\\varphi)}{\\Delta y_0}\\mathrm d x$$\n",
    "\n",
    "$$ 即z=\\frac{\\psi-\\varphi}{\\Delta y_0}是微分方程初值问题\\begin{cases}\\frac{\\mathrm d z}{\\mathrm d x}=[\\frac{\\partial f(x,\\varphi)}{\\partial y}+r]z,\\\\z(x_0)=1\\end{cases}的解$$\n",
    "\n",
    "$$所以\\mathop{\\lim}_{\\Delta y_0\\to 0}\\frac{\\psi-\\varphi}{\\Delta y_0}=\\frac{\\partial \\varphi}{\\partial y_0}$$\n",
    "\n",
    "$$所以\\frac{\\partial \\varphi}{\\partial y_0}=e^{\\int ^x_{x_0}\\frac{\\partial f(x,\\varphi)}{\\partial y} \\mathrm d x},而且关于x,x_0,y_0连续.$$"
   ]
  },
  {
   "cell_type": "markdown",
   "metadata": {},
   "source": [
    "## $ 2.假设函数P(x)和Q(x)于区间[\\alpha,\\beta]上连续,y=\\varphi(x,x_0,y_0)是方程\\frac{\\mathrm d y}{\\mathrm d x}=P(x)y+Q(x)的解,y_0=\\varphi(x_0,x_0,y_0).试求\\frac{\\partial \\varphi}{\\partial x_0},\\frac{\\partial \\varphi}{\\partial y_0},\\frac{\\partial \\varphi}{\\partial x},并从解的表达式出发,利用对参数求导的方法,验证所得结果.$"
   ]
  },
  {
   "cell_type": "markdown",
   "metadata": {},
   "source": [
    "$$ 解:由题目条件可得P(x)y+Q(x)在所给的区域G内连续$$\n",
    "\n",
    "$$ 同时\\frac{\\partial f}{\\partial y}=P(x)也在区域G内连续(其中G是以x\\in [\\alpha,\\beta]为界的带域)$$\n",
    "\n",
    "\n",
    "$$则由解对初值的可微性定理可得:$$\n",
    "\n",
    "\n",
    "$$\\frac{\\partial \\varphi}{\\partial x_0}=-f(x_0,y_0)e^{\\int^x_{x_0}\\frac{\\partial f(x,\\varphi)}{\\partial y}\\mathrm d x},\\frac{\\partial \\varphi}{\\partial y_0}=e^{\\int^x_{x_0}\\frac{\\partial f(x,\\varphi)}{\\partial y}\\mathrm d x},\\frac{\\partial \\varphi}{\\partial x}=f(x,\\varphi(x,x_0,y_0))$$\n",
    "\n",
    " $$代入P(x)y+Q(x)=f(x,y),y=\\varphi(x,x_0,y_0)可得 \\frac{\\partial \\varphi}{\\partial x_0}=-[P(x_0)y_0+Q(x_0)]e^{\\int^x_{x_0}P(t)\\mathrm d t}$$\n",
    " \n",
    "\n",
    " $$\\frac{\\partial \\varphi}{\\partial y_0}=e^{\\int^x_{x_0}P(x)\\mathrm d x},\\frac{\\partial \\varphi}{\\partial x}=P(x)\\varphi(x,x_0,y_0)+Q(x)$$\n",
    " \n",
    " \n",
    " $$由常数变易法可知,该微分方程的解为y=e^{\\int P(x)\\mathrm d x}(\\int Q(x)e^{-\\int P(x)\\mathrm d x}\\mathrm d x +c) $$\n",
    " \n",
    "\n",
    " $$因为 y=\\varphi(x,x_0,y_0),有满足初值条件y_0=\\varphi(x_0,x_0,y_0).$$\n",
    " \n",
    " \n",
    " $$ y=e^{\\int^x_{x_0} P(t)\\mathrm d t}(\\int^x_{x_0} Q(t)e^{-\\int^x_{x_0} P(t)\\mathrm d t}\\mathrm d t +y_0)=y_0e^{\\int^x_{x_0} P(t)\\mathrm d t}+\\int^x_{x_0} Q(t)e^{\\int^x_t P(t)\\mathrm d t}\\mathrm d t $$\n",
    " \n",
    "\n",
    " $$依次对上述方程求偏导得:\\frac{\\partial \\varphi}{\\partial x_0}=-P(x_0)y_0e^{\\int^x_{x_0} P(t)\\mathrm d t}-Q(x_0)e^{\\int^x_{x_0} P(t)\\mathrm d t}=\\frac{\\partial \\varphi}{\\partial x_0}=-[P(x_0)y_0+Q(x_0)]e^{\\int^x_{x_0}P(t)\\mathrm d x};$$\n",
    " \n",
    "\n",
    " $$\\frac{\\partial \\varphi}{\\partial y_0}=e^{\\int ^x_{x_0}P(t)\\mathrm d t}; $$\n",
    " \n",
    "\n",
    " $$\\frac{\\partial \\varphi}{\\partial x}=y_0P(x)e^{\\int ^x_{x_0}P(t)\\mathrm d t}+Q(x)+P(x)\\int^x_{x_0} Q(t)e^{\\int^x_t P(t)\\mathrm d t}\\mathrm d t =P(x)[y_0e^{\\int^x_{x_0} P(t)\\mathrm d t}+\\int^x_{x_0} Q(t)e^{\\int^x_t P(t)\\mathrm d t}\\mathrm d t] +Q(x)=P(x)\\varphi(x,x_0,y_0)+Q(x)$$"
   ]
  },
  {
   "cell_type": "markdown",
   "metadata": {},
   "source": [
    " ##  $3.给定方程\\frac{\\mathrm d y}{\\mathrm d x}=sin(\\frac{y}{x}),试求\\frac{\\partial y(x,x_0,y_0)}{\\partial x_0},\\frac{\\partial y(x,x_0,y_0)}{\\partial y_0}在x_0=1,y_0=0时的表达式.$"
   ]
  },
  {
   "cell_type": "markdown",
   "metadata": {},
   "source": [
    " $$ 解:由题可知P(x)y+Q(x)在所给的区域G内连续;同时\\frac{\\partial f}{\\partial y}=\\frac{1}{x}\\cos (\\frac{y}{x})也在区域G内连续.$$\n",
    " \n",
    " $$由解对初值的可微性定理可得:\\frac{\\partial y}{\\partial x_0}=-f(x_0,y_0)e^{\\int^x_{x_0}\\frac{\\partial f(x,\\varphi)}{\\partial y}\\mathrm d x}，\\frac{\\partial y}{\\partial y_0}=e^{\\int^x_{x_0}\\frac{\\partial f(x,\\varphi)}{\\partial y}\\mathrm d x}$$\n",
    "\n",
    "\n",
    "$$f(x,y)=\\sin (\\frac{y}{x}),x_0=1,y_0=0,代入上式可得\\frac{\\partial y}{\\partial x_0}=0$$\n",
    "\n",
    "\n",
    " $$所以\\frac{\\partial y}{\\partial y_0}=e^{\\int^x_{x_0}\\frac{1}{x}\\mathrm d x}=|x|$$"
   ]
  },
  {
   "cell_type": "markdown",
   "metadata": {},
   "source": [
    "## $4.设y=\\varphi(x,x_0,y_0,\\lambda)是初值问题\\frac{\\mathrm d y}{\\mathrm d x}=\\sin(\\lambda xy),\\varphi(x_0,x_0,y_0,\\lambda)=y_0的饱和解,这里\\lambda是参数,求\\frac{\\partial \\varphi}{\\partial x_0},\\frac{\\partial \\varphi}{\\partial y_0}在(x,0,0,1)处的表达式.$"
   ]
  },
  {
   "cell_type": "markdown",
   "metadata": {},
   "source": [
    "$$ 解:由题可知\\sin(\\lambda xy)在所给区域G内连续;同时\\frac{\\partial f}{\\partial y}=\\lambda x\\cos(\\lambda xy)也在区域G内连续.$$\n",
    "\n",
    "$$则由解对初值的可微性定理可得:\\frac{\\partial y}{\\partial x_0}=-f(x_0,y_0)e^{\\int^x_{x_0}\\frac{\\partial f(x,\\varphi)}{\\partial y}\\mathrm d x}=0$$\n",
    "\n",
    "$$\\frac{\\partial y}{\\partial y_0}=e^{\\int^x_{x_0}\\frac{\\partial f(x,\\varphi)}{\\partial y}\\mathrm d x}=e^{\\frac{x^2}{2}}$$"
   ]
  },
  {
   "cell_type": "markdown",
   "metadata": {
    "collapsed": true
   },
   "source": [
    " # <font color='red'>A  20/10"
   ]
  },
  {
   "cell_type": "code",
   "execution_count": null,
   "metadata": {
    "collapsed": true
   },
   "outputs": [],
   "source": []
  }
 ],
 "metadata": {
  "kernelspec": {
   "display_name": "SageMath 7.3",
   "language": "",
   "name": "sagemath"
  },
  "language_info": {
   "codemirror_mode": {
    "name": "ipython",
    "version": 2
   },
   "file_extension": ".py",
   "mimetype": "text/x-python",
   "name": "python",
   "nbconvert_exporter": "python",
   "pygments_lexer": "ipython2",
   "version": "2.7.10"
  }
 },
 "nbformat": 4,
 "nbformat_minor": 0
}
