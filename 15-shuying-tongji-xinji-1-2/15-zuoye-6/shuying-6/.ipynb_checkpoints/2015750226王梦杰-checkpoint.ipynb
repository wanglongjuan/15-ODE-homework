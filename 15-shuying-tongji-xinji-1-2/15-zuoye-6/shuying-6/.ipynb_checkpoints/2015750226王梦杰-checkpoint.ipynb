{
 "cells": [
  {
   "cell_type": "markdown",
   "metadata": {},
   "source": [
    "2 假设函数P(x)和Q（x）于区间$[\\alpha,\\beta]$上连续，$y=\\varphi(x,x_0,y_0)$是方程\n",
    "$$\n",
    "\\frac{dy}{dx}=P(x)y+Q(x)\n",
    "$$\n",
    "的解，$y=\\varphi(x_0,x_0,y_0)$.试求$$\\frac{\\partial \\varphi}{\\partial x_0},\\frac{\\partial \\varphi}{\\partial y_0}及\\frac{\\partial \\varphi}{\\partial x}$$,并从解的表达式出发，利用对参数求导的方法，检验所得结果。"
   ]
  },
  {
   "cell_type": "markdown",
   "metadata": {},
   "source": [
    "解  设方程为$$\\frac{dy}{dx}=f(x,y)$$即$$f(x,y)=P(x)y+Q(x)$$\n",
    "则$$\n",
    "\\frac{\\partial \\varphi}{\\partial x_0}=-f(x_0,y_0)exp[\\int_{x_0}^x\\mathrm {\\frac{\\partial f(s,\\varphi)}{\\partial y}}\\,\\mathrm {d}x]\n",
    "$$\n",
    "$$\n",
    "=-(P(x_0)y_0+Q(x_0))exp[\\int_{x_0}^x\\mathrm P(x)\\,\\mathrm {d}x]\n",
    "$$\n",
    "$$\n",
    "\\frac{\\partial \\varphi}{\\partial y_0}=exp[\\int_{x_0}^x\\mathrm {\\frac{\\partial f(s,\\varphi)}{\\partial y}}\\,\\mathrm {d}x]\n",
    "$$\n",
    "$$\n",
    "=exp[\\int_{x_0}^x\\mathrm {P(x)}\\,\\mathrm {d}x]\n",
    "$$\n",
    "$$\n",
    "\\frac{\\partial \\varphi}{\\partial x}=f(x,\\varphi(x,x_0,y_0))=P(x)\\varphi(x,x_0,y_0)+Q(x)\n",
    "$$\n",
    "\n",
    "验证结果\n",
    "求出方程的解，再分别对$x_0,y_0,x$求偏导数\n",
    "\n",
    "$$\n",
    "\\frac{dy}{dx}=P(x)y+Q(x)\n",
    "$$\n",
    "的通解为\n",
    "$$\n",
    "y=e^{\\int \\mathrm P(x)\\,\\mathrm {d}x}({\\int \\mathrm {Q(x) e^{\\int \\mathrm -P(x)\\,\\mathrm {d}x}\\,}\\mathrm {d}x}+c)\n",
    "$$\n",
    "则方程在$y(x_0)=x_0$的特解为\n",
    "$$\n",
    "y=\\varphi(x,x_0,y_0)=e^{\\int_{x_0}^x \\mathrm P(s)\\,\\mathrm {d}s}({\\int_{x_0}^x \\mathrm {Q(t) e^{\\int_{x_0}^x \\mathrm -P(s)\\,\\mathrm {d}s}\\,}\\mathrm {d}t}+y_0)\n",
    "$$\n",
    "利用求参数导数可得"
   ]
  },
  {
   "cell_type": "markdown",
   "metadata": {
    "collapsed": true
   },
   "source": [
    "$$\n",
    "\\frac{\\partial \\varphi}{\\partial x_0}=e^{\\int_{x_0}^x \\mathrm P(s)\\,\\mathrm {d}s}(-P(x))({\\int_{x_0}^x \\mathrm {Q(t) e^{\\int_{x_0}^x \\mathrm -P(s)\\,\\mathrm {d}s}\\,}\\mathrm {d}t}+y_0)\n",
    "$$\n",
    "\n",
    "$$\n",
    "+e^{\\int_{x_0}^x \\mathrm P(s)\\,\\mathrm {d}s}[-Q(x_0)e^{\\int_{x_0}^x \\mathrm -P(s)\\,\\mathrm {d}s}+({\\int_{x_0}^x \\mathrm {Q(t) e^{\\int_{x_0}^x \\mathrm -P(s)\\,\\mathrm {d}s}\\,}\\mathrm {d}t})×P(x_0)]\n",
    "$$\n",
    "\n",
    "$$\n",
    "=-(P(x_0)y_0+Q(x_0))e^{\\int_{x_0}^x \\mathrm P(s)\\,\\mathrm {d}s}\n",
    "$$\n",
    "\n",
    "$$\n",
    "\\frac{\\partial \\varphi}{\\partial y_0}=e^{\\int_{x_0}^x \\mathrm P(s)\\,\\mathrm {d}s}\n",
    "$$\n",
    "\n",
    "$$\n",
    "\\frac{\\partial \\varphi}{\\partial x}=e^{\\int_{x_0}^x \\mathrm P(s)\\,\\mathrm {d}s}P(x)({\\int_{x_0}^x \\mathrm {Q(t) e^{\\int_{x_0}^x \\mathrm -P(s)\\,\\mathrm {d}s}\\,}\\mathrm {d}t}+y_0)+e^{\\int_{x_0}^x \\mathrm P(s)\\,\\mathrm {d}s}Q(x)e^{\\int_{x_0}^x \\mathrm {-P(s)}\\,\\mathrm {d}s}\n",
    "$$\n",
    "\n",
    "$$\n",
    "=P(x)\\varphi+Q(x)\n",
    "$$\n",
    "与结论一致"
   ]
  },
  {
   "cell_type": "markdown",
   "metadata": {},
   "source": [
    "3 给定方程$$\\frac{dy}{dx}=sin(\\frac{y}{x})$$\n",
    "试求$$\\frac{\\partial y(x,x_0,y_0)}{\\partial x_0}  \\frac{\\partial y(x,x_0,y_0)}{\\partial y_0}$$在$$x_0=1,y_0=0$$时的表达式"
   ]
  },
  {
   "cell_type": "markdown",
   "metadata": {},
   "source": [
    "解 设$$f(x,y)=sin(\\frac{y}{x})$$,则$$\\frac{\\partial f}{\\partial y}=\\frac{1}{x}cos(\\frac{y}{x})$$\n",
    "由解对初值可微性定理可知\n",
    "$$\n",
    "\\frac{\\partial y(x,x_0,y_0)}{\\partial x_0} =-f(x_0,y_0)exp(\\int_{x_0}^x \\mathrm {\\frac{\\partial f(x_0,y_0)}{\\partial y} }\\,\\mathrm {d}x)\n",
    "$$\n",
    "$$\n",
    "=-sin(\\frac{y}{x})exp(\\int_{x_0}^x \\mathrm {\\frac{1}{x}cos(\\frac{y}{x}) }\\,\\mathrm {d}x)\n",
    "$$\n",
    "$$\n",
    " \\frac{\\partial y(x,x_0,y_0)}{\\partial y_0}=e^{\\int_{x_0}^x \\mathrm {\\frac{1}{x}cos{\\frac{y}{x}}}\\,\\mathrm {d}x}\n",
    "$$\n",
    "\n",
    "当$x_0=1,y_0=0时，即将x_0,y_0分别代入上式得$\n",
    "$$\n",
    "\\frac{\\partial y(x,x_0,y_0)}{\\partial x_0} =0\n",
    "$$\n",
    "$$\n",
    " \\frac{\\partial y(x,x_0,y_0)}{\\partial y_0}=exp(\\int_1^x \\mathrm {\\frac{1}{x} }\\,\\mathrm {d}x)=|x|\n",
    "$$\n"
   ]
  },
  {
   "cell_type": "markdown",
   "metadata": {},
   "source": [
    "1 假设函数$f(x,y)及\\frac{\\partial f}{\\partial y}$都在区域G内连续，又$y=\\varphi(x,x_0,y_0)$是教材中方程（3.1）满足初始条件$$\\varphi(x_0,x_0,y_0)=y_0$$的解，试证$\\frac{\\partial \\varphi}{\\partial y_0}$存在且连续，并写出其表达式"
   ]
  },
  {
   "cell_type": "markdown",
   "metadata": {},
   "source": [
    "解 \n",
    "先证明$\\frac{\\varphi(x,x_0,y_0)}{y_0}$存在且连续。\n",
    "设由初值$(x_0,y_0)$和$(x_0,y_0+\\Delta y_0)$  $(|\\Delta y_0|\\leq \\alpha)$\n",
    "所确定的方程的解为\n",
    "$$\n",
    "y=\\varphi(x,x_0,y_0)=\\varphi 和y=\\varphi(x,x_0,y_0+\\Delta y_0)=\\psi\n",
    "$$\n",
    "于是\n",
    "$$\n",
    "\\psi-\\varphi=\\int_{{x_0}+\\Delta x_0}^{x_0} \\mathrm {f(x,\\psi)}\\,\\mathrm {d}x-\\int_{x_0}^x \\mathrm {f(x,\\psi)}\\,\\mathrm {d}x\n",
    "$$\n",
    "$$\n",
    "=-\\int_{x_0}^{{x_0}+\\Delta x_0} \\mathrm {f(x,\\psi)}\\,\\mathrm {d}x+\\int_{x_0}^x \\mathrm {\\frac{\\partial f(x,\\varphi+\\theta(\\psi-\\varphi))}{\\partial y}(\\psi-\\varphi)}\\,\\mathrm {d}x\n",
    "$$\n",
    "\n",
    "$$\n",
    "\\frac{\\partial f(x,\\varphi+\\theta(\\psi-\\varphi))}{\\partial y}=\\frac{\\partial {f(x,\\varphi)}}{\\partial y}+r_1\n",
    "$$\n",
    "\n",
    "$$\n",
    "-\\int_{x_0}^{{x_0}+\\Delta x_0} \\mathrm {f(x,\\psi)}\\,\\mathrm {d}x=-f(x_0,y_0)+r_3=1+r_3\n",
    "$$\n",
    "\n",
    "$$frac{\\psi-\\varphi}{\\Delta y_0}$$是初值问题\n",
    "$$\n",
    "\\begin{cases}\n",
    "\\frac{\\mathrm d z}{\\mathrm d x}=[\\frac{\\partial f(x,\\varphi)}{\\partial y}+r_3]z\\\\\n",
    "z(x_0)=1\\\\\n",
    "\\end{cases}\n",
    "$$\n",
    "\n",
    "的解.因而\n",
    "$$\n",
    "\\frac{\\bar{\\psi}-\\varphi}{\\Delta y_0}=\\exp\\left(\\int_{x_0}^{x}[\\frac{\\partial f(x,\\varphi)}{\\partial y}+r_3]{\\mathrm d x}\\right)\n",
    "$$\n",
    "其中 $r_3$ 具有性质：当 $\\Delta y_0\\to 0$ 时 $r_3\\to0$ , 且当 $\\Delta y_0=0$ 时 $r_3 = 0$\n",
    "\n",
    "故有\n",
    "\n",
    "$$\n",
    "\\frac{\\partial \\varphi}{\\partial y_0}=\\lim_{\\Delta y_0 \\to 0} \\frac{\\bar{\\psi}-\\varphi}{\\Delta y_0}=exp\\left(\\int_{x_0}^{x}\\frac{\\partial f(x,\\varphi)}{\\partial y}{\\mathrm d x}\\right)\n",
    "$$\n",
    "\n",
    "表达式为\n",
    "$$\\frac{\\varphi(x,x_0,y_0)}{y_0}=exp(\\int_{x_0}^x \\mathrm {\\frac{\\partial f(x,\\varphi)}{\\partial y}\\,\\mathrm {d}x})\n",
    "$$\n"
   ]
  },
  {
   "cell_type": "markdown",
   "metadata": {},
   "source": [
    "4 设$y=\\varphi(x,x_0,y_0,\\lambda)$是初值问题\n",
    "$$\n",
    "\\frac{dy}{dx}=sin(\\lambda xy),\\varphi(x,x_0,y_0,\\lambda)=y_0\n",
    "$$\n",
    "的饱和解，这里$\\lambda$是参数，求$$\n",
    "\\frac{\\partial \\varphi }{\\partial x_0} ，\\frac{\\partial \\varphi }{\\partial y_0}在（x,0,0,1）处的表达式$$"
   ]
  },
  {
   "cell_type": "markdown",
   "metadata": {},
   "source": [
    "解 设$f(x,y)=sin(\\lambda xy),\\frac{\\partial f}{\\partial y}=\\lambda xcos(\\lambda xy)$\n",
    "由解对初值可微性定理可知\n",
    "$$\n",
    "\\frac{\\partial y(x,x_0,y_0)}{\\partial x_0} =-f(x_0,y_0)exp(\\int_{x_0}^x \\mathrm {\\frac{\\partial f(x_0,y_0)}{\\partial y} }\\,\\mathrm {d}x)\n",
    "$$\n",
    "$$\n",
    "=-sin(\\lambda x_0y_0)exp(\\int_{x_0}^x \\mathrm {\\lambda xcos(\\lambda xy)}\\,\\mathrm {d}x)\n",
    "$$\n",
    "$$\n",
    "\\frac{\\partial \\varphi}{\\partial y_0}=exp[\\int_{x_0}^x\\mathrm {\\frac{\\partial f(x,\\varphi)}{\\partial y}}\\,\\mathrm {d}x]\n",
    "$$\n",
    "$$\n",
    "=exp[\\int_{x_0}^x\\mathrm {\\lambda xcos(\\lambda x \\varphi)}\\,\\mathrm {d}x]\n",
    "$$\n",
    "将$x_0=0,y_0=0,\\lambda=1$时，则有\n",
    "$$\n",
    "\\frac{\\partial \\varphi }{\\partial x_0}=0\n",
    "$$\n",
    "$$\n",
    "\\frac{\\partial \\varphi }{\\partial y_0}=exp(\\frac{x^2}{2})\n",
    "$$"
   ]
  },
  {
   "cell_type": "markdown",
   "metadata": {
    "collapsed": true
   },
   "source": [
    " # <font color='red'>A  20/10"
   ]
  },
  {
   "cell_type": "code",
   "execution_count": null,
   "metadata": {
    "collapsed": true
   },
   "outputs": [],
   "source": []
  }
 ],
 "metadata": {
  "kernelspec": {
   "display_name": "SageMath 7.3",
   "language": "",
   "name": "sagemath"
  },
  "language_info": {
   "codemirror_mode": {
    "name": "ipython",
    "version": 2
   },
   "file_extension": ".py",
   "mimetype": "text/x-python",
   "name": "python",
   "nbconvert_exporter": "python",
   "pygments_lexer": "ipython2",
   "version": "2.7.10"
  }
 },
 "nbformat": 4,
 "nbformat_minor": 0
}
