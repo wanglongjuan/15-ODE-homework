{
 "cells": [
  {
   "cell_type": "markdown",
   "metadata": {
    "collapsed": true
   },
   "source": [
    "## 1、假设函数f(x,y)及$ \\frac{\\partial f}{\\partial y}$都在区域G内连续，又$y=\\varphi(x,x_0,y_0)$是方程（3.1)满足初值条件$\\varphi(x_0,x_0,y_0)=y_0$的解，试证$\\frac{\\partial \\varphi}{\\partial y_0}$存在且连续，并写出其表达式。"
   ]
  },
  {
   "cell_type": "markdown",
   "metadata": {},
   "source": [
    "由$\\frac{\\partial f}{\\partial y}$在区域G连续，所以$f(x,y)$在G内满足局部的利普希茨条件，因此，解对初值连续定理成立。即$y=\\varphi (x,x_0,y_0)$在解得存在范围内关于$x,x_0,y_0$连续。"
   ]
  },
  {
   "cell_type": "markdown",
   "metadata": {},
   "source": [
    "现设由初值$（x_0,y_0）和（x_o，y_0+\\Delta y）(|\\Delta y_0| \\leq \\alpha ,\\alpha为足够小正数)$所确定的方程的解分别为  \n",
    "$y=\\varphi(x,x_0,y_0)=\\varphi 和 y=\\varphi(x,x_0,y_0+\\Delta y_0)=\\psi$"
   ]
  },
  {
   "cell_type": "markdown",
   "metadata": {},
   "source": [
    "则方程的解分别对应等价的积分函数$$\\varphi=y_0+\\int_{x_0}^x f(x,\\varphi)dx$$以及$$\\psi=y_0+\\Delta y_0+\\int_{x_0}^x f(x,\\psi)dx$$"
   ]
  },
  {
   "cell_type": "markdown",
   "metadata": {},
   "source": [
    "两函数做差可得$$\\varphi-\\psi=\\Delta y_0+\\int_{x_0}^x  f(x,\\varphi)-f(x,\\psi)dx$$"
   ]
  },
  {
   "cell_type": "markdown",
   "metadata": {},
   "source": [
    "再根据连续偏导数的微分中值定理可得$\\varphi-\\psi=\\Delta y_0 +\\int_{x_0}^{x}\\  \\frac{\\partial f(x,\\varphi+\\theta(\\psi -\\varphi)}{\\partial y}(\\psi-\\varphi)\\,\\mathrm d x$其中，$0< \\theta < 1$"
   ]
  },
  {
   "cell_type": "markdown",
   "metadata": {},
   "source": [
    "再由$ \\frac{\\partial f}{\\partial y}$的连续性，在区域G内存在$$ \\frac{\\partial f(x,\\varphi+\\theta(\\psi -\\varphi)}{\\partial y}=\\frac {\\partial f(x,\\varphi)}{\\partial y}+r_1$$"
   ]
  },
  {
   "cell_type": "markdown",
   "metadata": {},
   "source": [
    "当$\\Delta y \\to 0$时，$r_1\\to 0$并且$\\Delta y=0$时，$r_1=0$"
   ]
  },
  {
   "cell_type": "markdown",
   "metadata": {},
   "source": [
    "于是$$\\frac{\\varphi-\\psi}{\\Delta y}=1+\\int_{x_0}^{x}\\  \\frac{\\partial f(x,\\varphi+\\theta(\\psi -\\varphi)}{\\partial y}\\frac{(\\psi-\\varphi)}{\\Delta y}dx$$"
   ]
  },
  {
   "cell_type": "markdown",
   "metadata": {},
   "source": [
    "令$z=\\frac{\\varphi-\\psi}{\\Delta y}$  \n",
    "∴该方程是初值问题$\n",
    "\\begin{cases}\n",
    "\\frac{dz}{dx}=[\\frac{\\partial f(x,\\varphi)}{\\partial y}+r_1]z\\\\\n",
    "z(x_0)=1\n",
    "\\end{cases}$的解"
   ]
  },
  {
   "cell_type": "markdown",
   "metadata": {},
   "source": [
    "又∵$y=\\varphi (x,x_0,y_0)$在解得存在范围内关于$x,x_0,y_0$连续"
   ]
  },
  {
   "cell_type": "markdown",
   "metadata": {},
   "source": [
    "所以$\\displaystyle \\lim_{\\Delta y_0\\to 0}\\frac{\\varphi-\\psi}{\\Delta y_0}=\\frac{\\partial \\varphi}{\\partial y_0}$"
   ]
  },
  {
   "cell_type": "markdown",
   "metadata": {},
   "source": [
    "所以$\\frac{\\partial \\varphi}{\\partial y_0}$是初值问题  \n",
    "$\\begin{cases}\n",
    "\\frac{dz}{dx}=\\frac{\\partial f(x,\\varphi)}{\\partial y}z\\\\\n",
    "z(x_0)=1\n",
    "\\end{cases}$的解"
   ]
  },
  {
   "cell_type": "markdown",
   "metadata": {},
   "source": [
    "所以$$\\frac{\\partial \\varphi}{\\partial y_0}= e^{\\int_{x_0}^{x}\\ \\frac{\\partial f(x,\\varphi)}{\\partial y}\\,\\mathrm d x}$$"
   ]
  },
  {
   "cell_type": "markdown",
   "metadata": {},
   "source": [
    "## 2.假设函数$P(x)$和$Q(x)$在区间$[\\alpha,\\beta]$上连续，$y=\\varphi(x,x_0,y_0)$是方程  $$\\frac{dy}{dx}=P(x)y+Q（x）$$的解，$y_0=\\varphi(x，x_0,y_0)$试求$\\frac{\\partial \\varphi}{\\partial x_0},\\frac{\\partial \\varphi}{\\partial y_0},\\frac{\\partial \\varphi}{\\partial x}$,并从解得表达式出发，利用参数求导数的方法检验结果"
   ]
  },
  {
   "cell_type": "markdown",
   "metadata": {},
   "source": [
    "$\\frac{\\partial \\varphi}{\\partial x_0}=-f(x_0,y_0) e^{\\int_{x_0}^{x}\\ \\frac{\\partial f(x,\\varphi)}{\\partial y}\\,\\mathrm d x}=-(P(x_0)y_0+Q(x_0))e^{\\int_{x_0}^{x}\\ P(x)\\,\\mathrm d x}$"
   ]
  },
  {
   "cell_type": "markdown",
   "metadata": {},
   "source": [
    "$\\frac{\\partial \\varphi}{\\partial y_0}=e^{\\int_{x_0}^{x}\\ \\frac{\\partial f(x,\\varphi)}{\\partial y}\\,\\mathrm d x}=e^{\\int_{x_0}^{x}\\ P(x)\\,\\mathrm d x}$"
   ]
  },
  {
   "cell_type": "markdown",
   "metadata": {},
   "source": [
    "$\\frac{\\partial \\varphi}{\\partial x}=f(x,\\varphi(x,x_0,y_0))=P(x)\\varphi(x,x_0,y_0)+Q(x)$"
   ]
  },
  {
   "cell_type": "markdown",
   "metadata": {},
   "source": [
    "又方程$\\frac{dy}{dx}=P(x)y+Q（x）$的通解是  $$y=e^{\\int\\ P(x)\\,\\mathrm d x}(\\int\\ Q(x) e^{ - \\int\\ P(x) \\,\\mathrm d x}+c)$$"
   ]
  },
  {
   "cell_type": "markdown",
   "metadata": {},
   "source": [
    "将通解转化成具备初始条件$y(x_0)=x_0$的通解可得  \n",
    "$$y=e^{\\int_{x_0}^x P(x)\\,\\mathrm d x}(\\int_{x_0}^x Q(x) e^{ - \\int_{x_0}^xP(x) \\,\\mathrm d x}+y_0)$$"
   ]
  },
  {
   "cell_type": "markdown",
   "metadata": {},
   "source": [
    "再对上式求偏导数可得$$\\frac{\\partial \\varphi}{\\partial x_0}=e^{ \\int_{x_0}^{x}\\ P(s)\\,\\mathrm d s}(-P(x_0))(\\int_{x_0}^{x}\\ Q(t) e^{\\int_{x_0}^{x}\\ -P(s)\\,\\mathrm d s} \\,\\mathrm d t +y_0)+e^{\\int_{x_0}^{x}\\ P(s) \\,\\mathrm d s} [ -Q(x_0) e^{\\int_{x_0}^{x}\\ -P(s)\\,\\mathrm d s +(\\int_{x_0}^{x}\\ Q(t) e^{\\int_{x_0}^{x}\\ -P(s)}\\,\\mathrm d s)\\,\\mathrm d t})p(x_0)]$$  \n",
    "$$=-(P(x_0)y_0+Q(x_0)) e^{\\int_{x_0}^{x}\\ P(s) \\,\\mathrm d s} $$"
   ]
  },
  {
   "cell_type": "markdown",
   "metadata": {},
   "source": [
    "$\\frac{\\partial \\varphi}{\\partial y_0}=e^{\\int_{x_0}^{x}\\ \\frac{\\partial f(x,\\varphi)}{\\partial y}\\,\\mathrm d x}=e^{\\int_{x_0}^{x}\\ P(x)\\,\\mathrm d x}$"
   ]
  },
  {
   "cell_type": "markdown",
   "metadata": {},
   "source": [
    "$\\frac{\\partial \\varphi}{\\partial x}=f(x,\\varphi(x,x_0,y_0))=P(x)\\varphi(x,x_0,y_0)+Q(x)$"
   ]
  },
  {
   "cell_type": "markdown",
   "metadata": {},
   "source": [
    "与之前的式子一样，所以结果验证"
   ]
  },
  {
   "cell_type": "markdown",
   "metadata": {},
   "source": [
    "## 3.给定方程$$\\frac{dy}{dx}=sin(frac{y}{x})$$  \n",
    "##  试求$\\frac{\\partial y(x,x_0,y_0}{\\partial x_0},\\frac{\\partial y(x,x_0,y_0}{\\partial y_0}$在x_0=1,y_0=0时的表达式"
   ]
  },
  {
   "cell_type": "markdown",
   "metadata": {},
   "source": [
    "∵$\\frac{\\partial \\varphi}{\\partial x_0}=-f(x_0,y_0) e^{\\int_{x_0}^{x}\\ \\frac{\\partial f(x,\\varphi)}{\\partial y}}dx$  \n",
    "代入公式可得"
   ]
  },
  {
   "cell_type": "markdown",
   "metadata": {},
   "source": [
    "$$\\frac{\\partial y(x,x_0,y_0）}{\\partial x_0}=- \\sin (\\frac{y_0}{x_0})e^{\\int_{x_0}^{x}\\ \\frac{1}{x} \\cos(\\frac{y}{x}) }dx$$  \n",
    "同理可得$$\\frac{\\partial y(x,x_0,y_0)}{\\partial y_0}=e^{\\int_{x_0}^{x}\\ \\frac{1}{x} \\cos(\\frac{y}{x}) d x}$$"
   ]
  },
  {
   "cell_type": "markdown",
   "metadata": {},
   "source": [
    "当$$x_0=1,y_0=0时\\frac{\\partial y(x,x_0,y_0）}{\\partial x_0}|_{x_0=1,y_0=0}=0$$  \n",
    "\n",
    "$$\\frac{\\partial y(x,x_0,y_0)}{\\partial y_0}=|x|$$\n"
   ]
  },
  {
   "cell_type": "markdown",
   "metadata": {},
   "source": [
    "## 4、设$y=\\varphi(x,x_0,y_0,\\lambda)$是初值问题$\\frac{\\mathrm d y}{\\mathrm d x}=\\sin(\\lambda xy),\\varphi(x_0,x_0,y_0,\\lambda)=y_0$的饱和解，这里$\\lambda$是参数，求$\\frac{\\partial \\varphi}{\\partial x_0},\\frac{\\partial \\varphi}{\\partial y_0}$在$(x,0,0,1)$处的表达式。"
   ]
  },
  {
   "cell_type": "markdown",
   "metadata": {},
   "source": [
    "∵$$\\frac{\\partial \\varphi}{\\partial x_0}=-f(x_0,y_0,\\lambda) e^{\\int_{x_0}^{x}\\ \\frac{\\partial f(x,\\varphi,\\lambda)}{\\partial y}}dx$$\n",
    "\n",
    "∴$$=- \\sin (\\lambda x_0 y_0)e^{\\int_{x_0}^{x}\\ \\lambda x \\cos (\\lambda xy)\\,\\mathrm d x}$$"
   ]
  },
  {
   "cell_type": "markdown",
   "metadata": {},
   "source": [
    "同理$\\frac{\\partial \\varphi}{\\partial y_0}=e^{\\int_{x_0}^{x}\\ \\frac{\\partial f(x,\\varphi,\\lambda)}{\\partial y}\\,\\mathrm d x}$  \n",
    "所以$$\\frac{\\partial \\varphi}{\\partial y_0}=e^{\\int_{x_0}^{x}\\ \\lambda x \\cos (\\lambda xy)\\,\\mathrm d x}$$"
   ]
  },
  {
   "cell_type": "markdown",
   "metadata": {},
   "source": [
    "将初值条件代入可得$$\\frac{\\partial \\varphi}{\\partial x_0}=0$$  \n",
    "$$\\frac{\\partial \\varphi}{\\partial y_0}=e^{\\frac{x^2}{2}}$$\n"
   ]
  },
  {
   "cell_type": "markdown",
   "metadata": {
    "collapsed": true
   },
   "source": [
    " # <font color='red'>A  20/10"
   ]
  },
  {
   "cell_type": "code",
   "execution_count": null,
   "metadata": {
    "collapsed": true
   },
   "outputs": [],
   "source": []
  }
 ],
 "metadata": {
  "kernelspec": {
   "display_name": "SageMath 7.3",
   "language": "",
   "name": "sagemath"
  },
  "language_info": {
   "codemirror_mode": {
    "name": "ipython",
    "version": 2
   },
   "file_extension": ".py",
   "mimetype": "text/x-python",
   "name": "python",
   "nbconvert_exporter": "python",
   "pygments_lexer": "ipython2",
   "version": "2.7.10"
  }
 },
 "nbformat": 4,
 "nbformat_minor": 0
}
