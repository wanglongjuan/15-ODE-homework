{
 "cells": [
  {
   "cell_type": "markdown",
   "metadata": {
    "collapsed": false
   },
   "source": [
    "1、假设函数$f(x,y)$及$\\frac{\\partial f}{\\partial y}$都在区域G内连续，又$y=\\varphi(x,x_0,y_0)$是教材中方程（3.1）满足初始条件$\\varphi(x_0,x_0,y_0)=y_0$的解，试证$\\frac{\\partial \\varphi}{\\partial y_0}$存在且连续，并写出其表达式。"
   ]
  },
  {
   "cell_type": "markdown",
   "metadata": {},
   "source": [
    "解：$教材中解对初值的可微性定理证明了若f(x,y)及\\frac{\\partial f}{\\partial y}都在区域G内连续时，\\\\ 方程（3.1）的解 y=\\varphi(x,x_0,y_0) 作为 x,x_0,y_0 的函数在它的存在范围内是连续可微的，\\\\ 这里所谓“连续可微”指的是导函数存在且连续，\\\\ 即 \\frac{\\partial \\varphi}{\\partial x},\\frac{\\partial \\varphi}{\\partial x_0},\\frac{\\partial \\varphi}{\\partial y_0} 都存在，且在解存在范围内是联系的。\\\\ 本题的已知条件与该定理一致，故完全如定理证明过程一样，可以证明本题中 \\frac{\\partial \\varphi}{\\partial y_0} 存在连续，$\n",
    "\n",
    "并且其表达式为$$\\frac{\\partial \\varphi}{\\partial y_0}=exp(\\int_{x_0}^x \\frac{\\partial f(x,\\varphi)}{\\partial y} {\\rm d}x)$$或者$$\\frac{\\partial \\varphi}{\\partial y_0}=exp(\\int_{s_0}^s \\frac{\\partial f(s,\\varphi)}{\\partial y} {\\rm d}s)$$"
   ]
  },
  {
   "cell_type": "markdown",
   "metadata": {},
   "source": [
    "2、假设函数$P(x)和Q(x)$于区间$[\\alpha,\\beta]$上连续，$y=\\varphi(x,x_0,y_0)$是方程$$\\frac{dy}{dx}=P(x)y+Q(x)$$的解，$y_0=\\varphi(x_0，x_0,y_0)$,试求$\\frac{\\partial \\varphi}{\\partial x_0},\\frac{\\partial \\varphi}{\\partial y_0}及 \\frac{\\partial \\varphi}{\\partial x}$，并从解的表达式出发，利用对参数求导数的方法，检验所得结果。"
   ]
  },
  {
   "cell_type": "markdown",
   "metadata": {},
   "source": [
    "解：这里$f(x,y)=P(x)y+Q(x),\\frac{\\partial f}{\\partial y}=P(x)$,初始条件为$y_0=\\varphi(x_0,x_0,y_0)$,根据教材中对初值的可微性定理得$$\\begin{align} \\frac{\\partial \\varphi}{\\partial y_0} &=-f(x_0,y_0)exp(\\int_{x_0}^x \\frac{\\partial f(x,\\varphi)}{\\partial y} {\\rm d}x) \\\\ &=-(P(x_0)y_0+Q(x_0))exp(\\int_{x_0}^xP(x) {\\rm d}x) \\\\  \\frac{\\partial \\varphi}{\\partial y_0} &=exp(\\int_{x_0}^x \\frac{\\partial f(x,\\varphi)}{\\partial y} {\\rm d}x) \\\\ &=exp(\\int_{x_0}^xP(x) {\\rm d}x) \\\\  \\frac{\\partial \\varphi}{\\partial x} &=-f(x,\\varphi(x,x_0,y_0)) \\\\ &=P(x)\\varphi(x,x_0,y_0)+Q(x) \\end{align}$$我们知道方程$\\frac{dy}{dx}=P(x)y+Q(x)$的通解为$$y=e^{\\int P(x) {\\rm d}x}(\\int Q(x)e^{-\\int P(x) {\\rm d}x} {\\rm d}x+c)$$.而方程$\\frac{dy}{dx}=P(x)y+Q(x)$的具有初始条件$y(x_0)=x_0$的特解可以写成$$y=\\varphi(x,x_0,y_0)=e^{\\int_{x_0}^x P(t) {\\rm d}t}(\\int_{x_0}^x Q(t)e^{-\\int_{x_0}^x P(t) {\\rm d}t} {\\rm d}t+y_0)$$利用对参数求导数的方法可得$$ \\begin{align} \\frac{\\partial \\varphi}{\\partial x_0} &=e^{\\int_{x_0}^x P(t) {\\rm d}t}(-P(x_0))(\\int_{x_0}^x Q(t)e^{-\\int_{x_0}^x P(t) {\\rm d}t} {\\rm d}t+y_0)+e^{\\int_{x_0}^x P(t) {\\rm d}t}[-Q(x_0)e^{\\int_{x_0}^x -P(t) {\\rm d}t}+(\\int_{x_0}^x Q(t)e^{\\int_{x_0}^x -P(t) {\\rm d}t} {\\rm d}t)P(x_0)] \\\\ &=-(P(x_0)y_0+Q(x_0))e^{\\int_{x_0}^x P(t) {\\rm d}t} \\end{align}$$,$$\\frac{\\partial \\varphi}{\\partial y_0}=e^{\\int_{x_0}^x P(t) {\\rm d}t}$$,$$\\begin{align} \\frac{\\partial \\varphi}{\\partial x} &=e^{\\int_{x_0}^x P(t) {\\rm d}t}P(x)(\\int_{x_0}^x Q(t)e^{\\int_{x_0}^x -P(t) {\\rm d}t} {\\rm d}t+y_0)+e^{\\int_{x_0}^x P(t) {\\rm d}t}Q(x)e^{\\int_{x_0}^x -P(t) {\\rm d}t} \\\\ &=P(x)\\varphi+Q(x) \\end{align}$$经验证，与前面解出的结论一致。"
   ]
  },
  {
   "cell_type": "markdown",
   "metadata": {},
   "source": [
    "3、给定方程$$\\frac{dy}{dx}=sin(\\frac{y}{x})$$，试求$\\frac{\\partial y(x,x_0,y_0)}{\\partial x_0},\\frac{\\partial y(x,x_0,y_0)}{\\partial y_0}$在$x_0=1,y_0=0$时的表达式。"
   ]
  },
  {
   "cell_type": "markdown",
   "metadata": {},
   "source": [
    "解：设$f(x,y)=sin(\\frac{y}{x})$,则$\\frac{\\partial f}{\\partial y}=\\frac{1}{x}cos(\\frac{y}{x})$,\n",
    "  由教材中解对初值的可微性定理的证明可得$$\\begin{align} \\frac{\\partial y(x,x_0,y_0)}{\\partial x_0} &=-f(x_0,y_0)exp(\\int_{x_0}^x \\frac{\\partial f(x,\\varphi)}{\\partial y} {\\rm d}x) \\\\ &=-sin(\\frac{y_0}{x_0})exp(\\int_{x_0}^x \\frac{1}{x}cos\\frac{y}{x} {\\rm d}x) \\\\ \\frac{\\partial y(x,x_0,y_0)}{\\partial y_0} &=exp(\\int_{x_0}^x \\frac{\\partial f(x,\\varphi)}{\\partial y} {\\rm d}x) \\\\ &=exp(\\int_{x_0}^x \\frac{1}{x}cos\\frac{y}{x} {\\rm d}x) \\end{align}$$\n",
    "  当$x_0=1,y_0=0$时，对应地得到$$\\begin{align} \\left. \\frac{\\partial y(x,x_0,y_0)}{\\partial x_0} \\right|_{x_0=1,y_0=0} &=0 \\\\ \\left. \\frac{\\partial y(x,x_0,y_0)}{\\partial y_0} \\right|_{x_0=1,y_0=0} &=exp(\\int_1^x \\frac{1}{x} {\\rm d}x)=|x| \\end{align}$$\n",
    "  所以，在$x_0=1,y_0=0$时，$\\frac{\\partial y}{\\partial x_0}=0,\\frac{\\partial y}{\\partial y_0}=|x|$"
   ]
  },
  {
   "cell_type": "markdown",
   "metadata": {},
   "source": [
    "4、设$y=\\varphi(x,x_0,y_0,\\lambda)$是初值问题$$\\frac{dy}{dx}=sin(\\lambda xy),\\varphi(x,x_0,y_0,\\lambda)=y_0$$的饱和解，这里$\\lambda$是参数，求$\\frac{\\partial \\varphi}{\\partial x_0},\\frac{\\partial \\varphi}{\\partial y_0}$在$(x,0,0,1)$处的表达式。"
   ]
  },
  {
   "cell_type": "markdown",
   "metadata": {},
   "source": [
    "解：我们可以把这里的参数$\\lambda$看成普通的常数。这里$$f(x,y)=sin(\\lambda xy),\\frac{\\partial f}{\\partial y}=\\lambda xcos(\\lambda xy)$$，根据教材中解对初值的可微性定理可得，$$ \\begin{align} \\frac{\\partial \\varphi}{\\partial x_0} &=-f(x_0,y_0)exp(\\int_{x_0}^x \\frac{\\partial f(x,\\varphi)}{\\partial y} {\\rm d}x) \\\\ &=-sin(\\lambda x_0y_0)exp(\\int_{x_0}^x \\lambda xcos(\\lambda x\\varphi) {\\rm d}x) \\\\ \\frac{\\partial \\varphi}{\\partial y_0} &=exp(\\int_{x_0}^x \\frac{\\partial f(x,\\varphi)}{\\partial y} {\\rm d}x) \\\\ &=exp(\\int_{x_0}^x \\lambda xcos(\\lambda x\\varphi) {\\rm d}x)  \\end{align}$$当$x_0=0,y_0=0,\\lambda=1$时，则有$$\\begin{align} \\left. \\frac{\\partial \\varphi}{\\partial x_0} \\right|_{(x,0,0,1)} &=0 \\\\ \\left. \\frac{\\partial \\varphi}{\\partial y_0} \\right|_{(x,0,0,1)} &=exp(\\int_0^x xcos0 {\\rm d}x)=exp(\\frac{x^2}{2}) \\end{align}$$"
   ]
  },
  {
   "cell_type": "markdown",
   "metadata": {},
   "source": [
    "# <font color='red'>A  20/10"
   ]
  },
  {
   "cell_type": "code",
   "execution_count": null,
   "metadata": {
    "collapsed": true
   },
   "outputs": [],
   "source": []
  }
 ],
 "metadata": {
  "kernelspec": {
   "display_name": "Python 2",
   "language": "python",
   "name": "python2"
  },
  "language_info": {
   "codemirror_mode": {
    "name": "ipython",
    "version": 2
   },
   "file_extension": ".py",
   "mimetype": "text/x-python",
   "name": "python",
   "nbconvert_exporter": "python",
   "pygments_lexer": "ipython2",
   "version": "2.7.10"
  }
 },
 "nbformat": 4,
 "nbformat_minor": 0
}
