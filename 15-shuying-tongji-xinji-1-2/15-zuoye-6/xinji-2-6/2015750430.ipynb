{
 "cells": [
  {
   "cell_type": "markdown",
   "metadata": {},
   "source": [
    "**10月11日**"
   ]
  },
  {
   "cell_type": "markdown",
   "metadata": {},
   "source": [
    "**2.假设函数 P(x）和 Q(x) 于区间[$\\alpha.\\beta$]上连续，$y=\\varphi(x,x_0,y_0)$是方程**\n",
    "\n",
    "$$\\frac{\\mathrm dy}{\\mathrm dx}=P(x)y+Q(x)$$\n",
    "\n",
    "**的解，$y_0=\\varphi(x_0,x_0,y_0).$试求$\\frac{\\mathrm \\partial\\varphi}{\\partial{x_0}}$,$\\frac{\\mathrm \\partial\\varphi}{\\mathrm \\partial{y_0}}$及$\\frac{\\mathrm \\partial\\varphi}{\\mathrm \\partial x}$，并从解的表达式出发，利用对参数求导数的方法，检验所得结果。**"
   ]
  },
  {
   "cell_type": "markdown",
   "metadata": {},
   "source": [
    "**解：**\n",
    "\n",
    "$$f(x,y)=P(x)y+Q(x),$$\n",
    "\n",
    "$$\\frac{\\mathrm \\partial f}{\\mathrm \\partial y}=P(x)$$"
   ]
  },
  {
   "cell_type": "markdown",
   "metadata": {},
   "source": [
    "**则：**\n",
    "\n",
    "\\begin{aligned}\n",
    "\\frac{\\mathrm \\partial\\varphi}{\\mathrm \\partial x_0}&=-f(x_0,y_0)exp(\\int_{x_0}^x \\frac{\\mathrm \\partial f(s,\\varphi)}{\\mathrm \\partial y} dx)\\\\\n",
    "&=-(P(x_0)y_0+Q(x_0))exp(\\int_{x_0}^x P(x)dx)\\\\\n",
    "\\end{aligned}"
   ]
  },
  {
   "cell_type": "markdown",
   "metadata": {},
   "source": [
    "$$\\frac{\\mathrm \\partial\\varphi}{\\mathrm \\partial {y_0}}=exp(\\int_{x_0}^x \\frac{\\mathrm \\partial f(s,\\varphi)}{\\mathrm \\partial y}dx=exp(\\int_{x_0}^x P(x)dx)$$"
   ]
  },
  {
   "cell_type": "markdown",
   "metadata": {},
   "source": [
    "$$\\frac{\\mathrm \\partial\\varphi}{\\mathrm \\partial x}=f(x,\\varphi(x,x_0,y_0))=P(x)\\varphi(x,x_0,y_0)+Q(x)$$"
   ]
  },
  {
   "cell_type": "markdown",
   "metadata": {},
   "source": [
    "**检验：**"
   ]
  },
  {
   "cell_type": "markdown",
   "metadata": {},
   "source": [
    "$$\n",
    "\\begin{aligned}\n",
    "\\frac{\\mathrm \\partial\\varphi}{\\mathrm \\partial x_0}&=e^{\\int_{x_0}^x p(s)ds}·(-P(x_0))(\\int_{x^0}^xQ(t)·e^{\\int_{x_0}^x -P(s)ds}·dt+y_0+e^{\\int_{x^0}^x P(s)ds}+[-Q(x_0)e^{\\int_{x_0}^x -P(s)ds}+(\\int_{x_0}^x Q(t)e^{\\int_{x_0}^x -P(s)ds}·dt)*P(x_0)]\\\\\n",
    "&=-(P(x_0)y_0+Q(x_0))exp(\\int_{x_0}^x P(x)dx)\\\\\n",
    "\\end{aligned}\n",
    "$$"
   ]
  },
  {
   "cell_type": "markdown",
   "metadata": {},
   "source": [
    "$$\\frac{\\mathrm \\partial\\varphi}{\\mathrm \\partial {y_0}}=e^{\\int_{x_0}^x P(x)dx}$$"
   ]
  },
  {
   "cell_type": "markdown",
   "metadata": {},
   "source": [
    "\\begin{aligned}\n",
    "\\frac{\\mathrm \\partial\\varphi}{\\mathrm \\partial x}&=e^{\\int_{x_0}^x P(s)ds}·P(x）·(\\int_{x_0}^x Q(t)·e^{\\int_{x_0}^x -P9s)ds} dt+y_0+e^{\\int_{x_0}^x P(s)ds}·Q(x）·e^{\\int_{x_0}^x -P(s)ds}\\\\\n",
    "&=P(x)\\varphi+Q(x)=P(x)\\varphi(x,x_0,y_0)+Q(x）\\\\\n",
    "\\end{aligned}\n"
   ]
  },
  {
   "cell_type": "markdown",
   "metadata": {},
   "source": [
    "**3.给定方程**\n",
    "\n",
    "$$\\frac{\\mathrm dy}{\\mathrm dx}=\\sin(\\frac{\\mathrm y}{\\mathrm x})$$"
   ]
  },
  {
   "cell_type": "markdown",
   "metadata": {
    "collapsed": true
   },
   "source": [
    "**试求：$\\frac{\\mathrm \\partial y(x,x_0,y_0)}{\\mathrm \\partial x_0}$,$\\frac{\\mathrm \\partial y(x,x_0,y_0)}{\\mathrm \\partial y_0}$在$x_0=1,y_0=0$时的表达式。**"
   ]
  },
  {
   "cell_type": "markdown",
   "metadata": {},
   "source": [
    "$$f(x,y)=\\sin(\\frac{\\mathrm y}{\\mathrm x}),$$"
   ]
  },
  {
   "cell_type": "markdown",
   "metadata": {},
   "source": [
    "$$\\frac{\\mathrm \\partial f}{\\mathrm \\partial y}=\\frac{\\mathrm 1}{\\mathrm x}\\cos(\\frac{\\mathrm y}{\\mathrm x})$$"
   ]
  },
  {
   "cell_type": "markdown",
   "metadata": {},
   "source": [
    "\\begin{aligned}\n",
    "\\frac{\\mathrm \\partial y(x,x_0,y_0)}{\\mathrm \\partial x_0}&=-f(x_0,y_0)exp(\\int_{x_0}^x \\frac{\\mathrm \\partial f(x,\\varphi)}{\\mathrm \\partial y} dx)\\\\\n",
    "&=-\\sin(\\frac{\\mathrm y_0}{\\mathrm x_0})exp(\\int_{x_0}^x \\frac{\\mathrm 1}{\\mathrm x}\\cos(\\frac{\\mathrm y}{\\mathrm x})dx)\\\\\n",
    "\\end{aligned}"
   ]
  },
  {
   "cell_type": "markdown",
   "metadata": {},
   "source": [
    "\\begin{aligned}\n",
    "\\frac{\\mathrm \\partial y(x,x_0,y_0)}{\\mathrm \\partial y_0}&=exp(\\int_{x_0}^x \\frac{\\mathrm \\partial f(x,\\varphi)}{\\mathrm \\partial y} dx)\\\\\n",
    "&=exp(\\int_{x_0}^x \\frac{\\mathrm 1}{\\mathrm x}\\cos(\\frac{\\mathrm y}{\\mathrm x})dx)\\\\\n",
    "\\end{aligned}"
   ]
  },
  {
   "cell_type": "markdown",
   "metadata": {},
   "source": [
    "**当$x_0=1,y_1=0$时，对应得到：**"
   ]
  },
  {
   "cell_type": "markdown",
   "metadata": {},
   "source": [
    "\\begin{aligned}\n",
    "\\frac{\\mathrm \\partial y(x,x_0,y_0)}{\\mathrm \\partial x_0}&=0\\\\\n",
    "\\frac{\\mathrm \\partial y(x,x_0,y_0)}{\\mathrm \\partial y_0}&=exp(\\int_1^x \\frac{\\mathrm 1}{\\mathrm x} dx)=|x|\\\\\n",
    "\\end{aligned}"
   ]
  },
  {
   "cell_type": "markdown",
   "metadata": {},
   "source": [
    "**10月12日**"
   ]
  },
  {
   "cell_type": "markdown",
   "metadata": {},
   "source": [
    "**1.假设函数$f(x,y)$及$\\frac{\\mathrm \\partial f}{\\mathrm \\partial y}$都在区域G内连续，又$y=\\varphi(x,x_0,y_0)$是方程**\n",
    "$$\\frac{\\mathrm dy}{\\mathrm dx}=f(x,y)$$\n",
    "\n",
    "**满足初值条件$\\varphi(x_0,x_0,y_0)=y_0$的解，试证$\\frac{\\mathrm \\partial \\varphi}{\\mathrm \\partial y_0}$存在且连续，并写出表达式**"
   ]
  },
  {
   "cell_type": "markdown",
   "metadata": {},
   "source": [
    "**$\\frac{\\mathrm \\partial f}{\\mathrm \\partial y}$在区域G内连续，则f(x,y)满足局部利普西茨条件。则解对初值的连续定理成立。**\n",
    "\n",
    "\n",
    "**设由初值$(x_0,y_0)$和$(x_0,y_0+\\bigtriangleup y_0)$所确定方程的解分别为：**"
   ]
  },
  {
   "cell_type": "markdown",
   "metadata": {},
   "source": [
    "$$y=\\varphi(x,x_0,y_0)=\\varphi,即\\varphi=y_0+\\int_{x_0}^x f(x,\\varphi)dx$$"
   ]
  },
  {
   "cell_type": "markdown",
   "metadata": {},
   "source": [
    "$$y=\\varphi(x,x_0,y_0+\\triangle y_0)=\\psi,即\\psi=y_0+\\triangle y_0+\\int_{x_0}^ {x} f(x,\\psi)dx$$"
   ]
  },
  {
   "cell_type": "markdown",
   "metadata": {},
   "source": [
    "\\begin{aligned}\n",
    "\\psi-\\varphi&=\\triangle y_0+\\int_{x_0}^ {x} f(x,\\psi)dx-\\int_{x_0}^x f(x,\\varphi)dx\\\\\n",
    "&=\\triangle y_0+\\int_{x_0}^x (\\frac{\\mathrm \\partial f(x,\\varphi+\\theta(\\psi-\\varphi))}{\\mathrm \\partial y})(\\psi-\\varphi)dx\\\\\n",
    "\\end{aligned}"
   ]
  },
  {
   "cell_type": "markdown",
   "metadata": {},
   "source": [
    "$$\\frac{\\mathrm \\partial f(x,\\varphi+\\theta(\\psi-\\varphi))}{\\mathrm \\partial y}=\\frac{\\mathrm \\partial f(x,\\varphi)}{\\mathrm \\partial y}+r_1$$"
   ]
  },
  {
   "cell_type": "markdown",
   "metadata": {},
   "source": [
    "$$\\frac{\\mathrm \\psi-\\varphi}{\\mathrm \\triangle y_0}=1+\\int_{x_0}^x [\\frac{\\mathrm \\partial f(x,\\varphi)}{\\mathrm \\partial y}+r_1]\\frac{\\mathrm \\psi-\\varphi}{\\mathrm \\triangle y_0} dx$$"
   ]
  },
  {
   "cell_type": "markdown",
   "metadata": {},
   "source": [
    "**令$z=\\frac{\\mathrm \\psi-\\varphi}{\\mathrm \\triangle y_0}$**"
   ]
  },
  {
   "cell_type": "markdown",
   "metadata": {},
   "source": [
    "**是初值问题：**"
   ]
  },
  {
   "cell_type": "markdown",
   "metadata": {},
   "source": [
    "\\begin{cases}\n",
    "\\frac{\\mathrm dz}{\\mathrm dx}=[\\frac{\\mathrm \\partial f(x,\\varphi)}{\\mathrm \\partial y}+r_1]z\\\\\n",
    "z(x_0)=1\\\\\n",
    "\\end{cases}\n",
    "\n",
    "**的解，因而**"
   ]
  },
  {
   "cell_type": "markdown",
   "metadata": {},
   "source": [
    "$$\\frac{\\mathrm \\psi-\\varphi}{\\mathrm \\triangle y_0}=exp(\\int_{x_0}^x [\\frac{\\mathrm \\partial f(x,\\varphi)}{\\mathrm \\partial y+}+r_1]dx$$"
   ]
  },
  {
   "cell_type": "markdown",
   "metadata": {},
   "source": [
    "**又$\\triangle y_0 \\to 0$时，$r_1 \\to 0$,且$\\triangle y_0=0$时，$r_1=0$**"
   ]
  },
  {
   "cell_type": "markdown",
   "metadata": {},
   "source": [
    "$$\\frac{\\mathrm \\partial\\varphi}{\\mathrm \\partial {y_0}}=exp(\\int_{x_0}^x \\frac{\\mathrm \\partial f(x,\\varphi)}{\\mathrm \\partial y}dx$$"
   ]
  },
  {
   "cell_type": "markdown",
   "metadata": {},
   "source": [
    "**4.设$y= \\varphi(x,x_0,y_0,\\lambda)$是初值问题**"
   ]
  },
  {
   "cell_type": "markdown",
   "metadata": {},
   "source": [
    "$$\\frac{\\mathrm dy}{\\mathrm dx}=\\sin(\\lambda xy),\\quad \\quad \\varphi(x_0,x_0,y_0,\\lambda)=y_0$$\n",
    "\n",
    "**的饱和解，这里$\\lambda$是参数，求$\\frac{\\mathrm \\partial\\varphi}{\\mathrm \\partial x_0},\\frac{\\mathrm \\partial \\varphi}{\\mathrm \\partial y_0}$在（x,0,0,1）处的表达式。**"
   ]
  },
  {
   "cell_type": "markdown",
   "metadata": {},
   "source": [
    "$$f(x,y)=\\sin(\\lambda xy),\\frac{\\mathrm \\partial f}{\\mathrm \\partial y}=\\lambda x\\cos(\\lambda xy)$$"
   ]
  },
  {
   "cell_type": "markdown",
   "metadata": {},
   "source": [
    "\\begin{aligned}\n",
    "\\frac{\\mathrm \\partial y(x,x_0,y_0)}{\\mathrm \\partial x_0}&=-f(x_0,y_0)exp(\\int_{x_0}^x \\frac{\\mathrm \\partial f(x,\\varphi)}{\\mathrm \\partial y} dx)\\\\\n",
    "&=-\\sin(\\lambda x_0y_0)exp(\\int_{x_0}^x \\lambda x\\cos(\\lambda x\\varphi))\\\\\n",
    "\\end{aligned}"
   ]
  },
  {
   "cell_type": "markdown",
   "metadata": {},
   "source": [
    "\\begin{aligned}\n",
    "\\frac{\\mathrm \\partial y(x,x_0,y_0)}{\\mathrm \\partial y_0}&=exp(\\int_{x_0}^x \\frac{\\mathrm \\partial f(x,\\varphi)}{\\mathrm \\partial y} dx)\\\\\n",
    "&=exp(\\int_{x_0}^x \\lambda x\\cos(\\lambda x\\varphi))\\\\\n",
    "\\end{aligned}"
   ]
  },
  {
   "cell_type": "markdown",
   "metadata": {},
   "source": [
    "**当$x_0=0$,$y_0=0$,$\\lambda =1$时，则有：**"
   ]
  },
  {
   "cell_type": "markdown",
   "metadata": {},
   "source": [
    "\\begin{aligned}\n",
    "\\frac{\\mathrm \\partial\\varphi}{\\mathrm \\partial x_0}&=0\\\\\n",
    "\\frac{\\mathrm \\partial\\varphi}{\\mathrm \\partial y_0}&=exp(\\int_{x_0}^x x\\cos{0} dx)=exp(\\frac{\\mathrm x^2}{\\mathrm 2})\\\\\n",
    "\\end{aligned}"
   ]
  },
  {
   "cell_type": "markdown",
   "metadata": {},
   "source": [
    "# <font color='red'>A  20/10"
   ]
  },
  {
   "cell_type": "code",
   "execution_count": null,
   "metadata": {
    "collapsed": true
   },
   "outputs": [],
   "source": []
  }
 ],
 "metadata": {
  "kernelspec": {
   "display_name": "SageMath 7.3",
   "language": "",
   "name": "sagemath"
  },
  "language_info": {
   "codemirror_mode": {
    "name": "ipython",
    "version": 2
   },
   "file_extension": ".py",
   "mimetype": "text/x-python",
   "name": "python",
   "nbconvert_exporter": "python",
   "pygments_lexer": "ipython2",
   "version": "2.7.10"
  }
 },
 "nbformat": 4,
 "nbformat_minor": 0
}
