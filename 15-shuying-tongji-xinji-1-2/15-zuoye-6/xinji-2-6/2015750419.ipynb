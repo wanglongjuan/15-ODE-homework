{
 "cells": [
  {
   "cell_type": "markdown",
   "metadata": {},
   "source": [
    "$$1.因为f，\\frac{\\partial f}{\\partial y}在G内连续，所以必存在δ，使|y1-y2|<δ时，|f(x,y1)-f(x,y2)|<ε$$\n",
    "$$所以必有L，使|\\frac{\\partial f}{\\partial y}|<L，所以f满足对y的利普希茨条件$$\n",
    "$$由解对初值的可微性定理知，|\\frac{\\partial f}{\\partial y}|可微且连续$$\n",
    "$$\\frac{\\partial f}{\\partial y}=e^{\\int_{x0}^{x}{|\\frac{\\partial f(x,φ)}{\\partial y}|}dx}$$"
   ]
  },
  {
   "cell_type": "markdown",
   "metadata": {},
   "source": [
    "$$2.先求\\frac{\\partial φ}{\\partial x0},设由初值（x0,y0）（x0+Δ，y0）分别决定的解y=φ（x,x0,y0）,y=Φ（x，x0+Δ，y0），所以有φ=y0+\\int_{x0}^{x}{f(x,φ)}dx,Φ=y0+\\int_{x0+Δ}^{x}{f(x,φ)},Φ-φ=\\int_{x0+Δ}^{x}{f(x,φ)}dx-\\int_{x0}^{x}{f(x,φ)}=\\int_{x0+Δ}^{x}{f(x,Φ)}dx+{\\int_{x0}^{x}{\\frac{\\partial f(x,φ+θ(Φ-φ))}{\\partial y}}(Φ-φ)dx}$$\n",
    "$$由\\frac{\\partial f}{\\partial y},Φ,φ的连续性知\\frac{\\partial f(x,φ+θ(Φ-φ))}{\\partial y}=\\frac{\\partial f(x,φ))}{\\partial y}+r1,\\frac{1}{Δ}\\int_{x0+Δ}^{x}{f(x,Φ)}dx=f(x0,y0)+r2,所以\\frac{Φ-φ}{Δ}=f(x0,y0)+r2+\\int_{x0}^{x}({\\frac{\\partial f(x,φ))}{\\partial y}+r1}){\\frac{Φ-φ}{Δ}}dx$$\n",
    "$$设z=\\frac{Φ-φ}{Δ}是初值问题\\frac{dz}{dx}=z(\\frac{\\partial f(x,φ)}{partial y}+r1),z(x0)=-f(x0,y0)+r2=z0解得\\frac{\\partial φ}{\\partial x0}=-f(x0,y0)e^{\\int_{x0}^{x}{\\frac{\\partial f(x,φ)}{\\partial y}}dx}$$,$$同理得\\frac{\\partial φ}{\\partial y0}=e^{\\int_{x0}^{x}(\\frac{\\partial f(x,φ)}{\\partial y})dx},\\frac{\\partial φ}{\\partial x}=f(x,φ(x,x0,y0))$$\n",
    "$$所以\\frac{\\partial φ}{\\partial x0}=(-P(x0)y0-Q(x0))e^{\\int_{x0}^{x}{P(x)}dx},\\frac{\\partial φ}{\\partial y0}=e^{\\int_{x0}^{x}{P(x)}dx},\\frac{\\partial φ}{\\partial x}=P(x)φ(x,x0,y0)+Q(x)$$\n",
    "$$一阶线性微分方程\\frac{dy}{dx}=P(x)y+Q(x)的通解为y=e^{\\int{P(x)}dx}(\\int{Q(x)e^{-\\int{P(x)}dx}dx}+c)$$\n",
    "$$将初值（x0,y0）代入到c=\\frac{y0}{e^{\\int{P(x)}dx}}-\\int{Q(x)e^{-\\int{P(x)}dx}dx+c}$$\n",
    "$$所以y=φ(x,x0,y0)=e^{\\int{P(x)}dx}(\\int{Q(x)e^{-\\int{P(x)}dx}dx}+y0)$$\n",
    "$$\\frac{\\partial φ}{\\partial x0}=\n",
    "-P(x0)e^{\\int_{x0}^{x}{P(x)}dx}(\\int{Q(x)e^{-\\int{P(x)}dx}dx}+y0)\n",
    "+[-Q(x0)+P(x0)]e^{\\int_{x0}^{x}{P(x)}}dx\n",
    "{\\int_{x0}^{x}{Q(x)e^{-\\int_{x0}^{x}{P(x)}dx}}dx}\n",
    "=(-P(x0)y0-Q(x0))e^{\\int_{x0}^{x}{P(x)}dx}$$\n",
    "$$\\frac{\\partial φ}{\\partial y0}=\\frac{\\partial e^{\\int{P(x)}dx}(\\int{Q(x)e^{-\\int{P(x)}dx}dx}+y0)}{\\partial y0}=e^{\\int_{x0}^{x}{P(x)}dx},\\frac{\\partial φ}{\\partial x}=\\frac{\\partial y0}{\\partial x}=P(x)y0+Q(x),证毕$$\n",
    "$$3.由题目2知\\frac{\\partial φ}{\\partial x0}=-f(x0,y0)e^{\\int_{x0}^{x}{\\frac{\\partial f(x,φ)}{\\partial y}}dx}，\\frac{\\partial φ}{\\partial y0}=e^{\\int_{x0}^{x}(\\frac{\\partial f(x,φ)}{\\partial y})dx},\\frac{\\partial φ}{\\partial x}=f(x,φ(x,x0,y0))$$\n",
    "$$\\frac{\\partial y}{\\partial x0}=-\\sin\\frac{y0}{x0}exp(\\int_{x0}^{x}{\\frac{\\partial f(x,φ)}{\\partial y}}dx)=0$$\n",
    "$$\\frac{\\partial y}{\\partial y0}=\\frac{\\partial φ}{\\partial y0}=e^{\\int_{x0}^{x}(\\frac{\\partial f(x,φ)}{\\partial y})dx}=e^{\\int_{x0}^{x}{\\frac{1}{x}cos\\frac{y}{x}}dx}$$\n",
    "$$y(1)=0,所以\\frac{\\partial y}{\\partial y0}=\\frac{\\partial φ}{\\partial y0}=e^{\\int_{x0}^{x}(\\frac{\\partial f(x,φ)}{\\partial y})dx}==e^{\\int_{x0}^{x}{\\frac{1}{x}}dx}=|x|$$\n"
   ]
  },
  {
   "cell_type": "markdown",
   "metadata": {},
   "source": [
    "$$4.\\frac{\\partial φ}{\\partial x0}=-f(x0,y0)e^{\\int_{x0}^{x}{\\frac{\\partial f(x,φ)}{\\partial y}}dx}=0，\\frac{\\partial φ}{\\partial y0}=e^{\\int_{x0}^{x}(\\frac{\\partial f(x,φ)}{\\partial y})dx}=e^{\\int_{0}^{x}{x\\lambda\\cos(xy\\lambda)}dx}=,$$\n",
    "$$y(x,0,0,1)=0,所以\\cos(xy\\lambda)=1所以\\frac{\\partial φ}{\\partial y0}=e^{\\frac{x^2}{2}}$$\n"
   ]
  },
  {
   "cell_type": "markdown",
   "metadata": {
    "collapsed": true
   },
   "source": [
    "# <font color='red'>A  20/10"
   ]
  },
  {
   "cell_type": "code",
   "execution_count": null,
   "metadata": {
    "collapsed": true
   },
   "outputs": [],
   "source": []
  }
 ],
 "metadata": {
  "kernelspec": {
   "display_name": "SageMath 7.3",
   "language": "",
   "name": "sagemath"
  },
  "language_info": {
   "codemirror_mode": {
    "name": "ipython",
    "version": 2
   },
   "file_extension": ".py",
   "mimetype": "text/x-python",
   "name": "python",
   "nbconvert_exporter": "python",
   "pygments_lexer": "ipython2",
   "version": "2.7.10"
  }
 },
 "nbformat": 4,
 "nbformat_minor": 0
}
