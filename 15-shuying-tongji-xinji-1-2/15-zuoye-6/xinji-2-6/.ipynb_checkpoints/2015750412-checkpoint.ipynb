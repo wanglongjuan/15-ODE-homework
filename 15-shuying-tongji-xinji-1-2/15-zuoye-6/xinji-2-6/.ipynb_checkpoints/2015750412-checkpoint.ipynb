{
 "cells": [
  {
   "cell_type": "markdown",
   "metadata": {},
   "source": [
    "1.\n",
    "\n",
    "设由$（x_0,y_0）$和$（x_0,y_0+\\delta{y_0}）(|\\delta{y_0}|\\leq\\alpha|$所确定的方程分别为$\\phi=y_0+\\int_{x_0}^{x} f(x,\\phi)dx ,\\psi=y_0+\\delta{y_0}+\\int_{x_0}^{x} f(x,\\psi)dx$\n",
    "\n",
    "于是$$\\psi-\\phi=\\delta{y_0}+\\int_{x_0}^{x} \\frac{\\partial(f(x,\\phi+\\theta(\\psi-\\phi))}{\\partial y}(\\psi-\\phi)dx$$  因$\\frac{\\partial{f}}{\\partial{y}}及\\phi,\\psi$连续，因此$$\\frac{\\partial(f(x,\\phi+\\theta(\\psi-\\phi))}{\\partial y}=\\frac{\\partial f(x,\\phi)}{\\partial y}+r_1$$  其中$r_1$满足：当$\\delta{y_0}\\rightarrow 0$时，$r_1\\rightarrow 0$且当$\\delta{y_0}=0时，r_1=0$\n",
    "\n",
    "①$\\delta{y_0}\\neq 0$时,有$$\\frac{\\psi-\\phi}{\\delta{y_0}}=1+\\int_{x_0}^{x} (\\frac{\\partial(f(x,\\phi)}{\\partial y}+r_1)\\frac{\\psi-\\phi}{\\delta{y_0}}dx$$所以$z=\\frac{\\psi-\\phi}{\\delta{y_0}}$是初值问题\n",
    "$$\n",
    "\\begin{cases}\n",
    "\\frac{dz}{dy}=[\\frac{\\partial(f(x,\\phi)}{\\partial y}+r_1]z\\\\\n",
    "z(x_0)=1=z_0\\\\\n",
    "\\end{cases}\n",
    "$$的解\n",
    "\n",
    "②$\\delta{y_0}=0$时,易得初值问题仍有解。\n",
    "\n",
    "又因为$\\frac{\\psi-\\phi}{\\delta{y_0}}$是$x,x_0,z_0,\\delta{y_0}$的连续函数，从而存在$\\lim_{\\delta{y_0} \\rightarrow 0}=\\frac{\\partial{\\phi}}{\\partial{y_0}}$\n",
    "\n",
    "即$\\frac{\\partial{\\phi}}{\\partial{y_0}}$是初值问题\n",
    "$$\n",
    "\\begin{cases}\n",
    "\\frac{dz}{dy}=\\frac{\\partial(f(x,\\phi)}{\\partial y}z\\\\\n",
    "z(x_0)=1\\\\\n",
    "\\end{cases}\n",
    "$$的解，且$$\\frac{\\partial{\\phi}}{\\partial{y_0}}=exp\\int_{x_0}^{x} \\frac{\\partial(f(x,\\phi)}{\\partial y}dx$$是$x,x_0,y_0$的连续函数"
   ]
  },
  {
   "cell_type": "markdown",
   "metadata": {},
   "source": [
    "2.\n",
    "\n",
    "由题可知$$\n",
    "\\begin{aligned}\n",
    "\\frac{\\partial{\\phi}}{\\partial{x_0}}&=-f(x_0,y_0)exp(\\int_{x_0}^{x} \\frac{\\partial(f(x,\\phi)}{\\partial y}dx)\\\\\n",
    "&=-(P(x_0)y_0+Q(x_0))exp(\\int_{x_0}^{x} P(x)dx)\\\\\n",
    "\\frac{\\partial{\\phi}}{\\partial{y_0}}&=exp(\\int_{x_0}^{x} P(x)dx)\\\\\n",
    "\\end{aligned}\n",
    "$$所以\n",
    "\n",
    "$$\\frac{\\partial{\\phi}}{\\partial{x}}=f(x,\\phi(x,x_0,y_0))=P(x)\\phi(x,x_0,y_0)+Q(x)$$由于方程$\\frac{dy}{dx}=P(x)y+Q(x)$的通解为\n",
    "\n",
    "$$y=e^{\\int P（x）dx}(Q(x).e^{-\\int P（x）dx}dx+c)$$由初始条件$y(x_0)=x_0$可得特解\n",
    "\n",
    "$$y=e^{\\int_{x_0}^{x} P(s)ds}(\\int_{x_0}^{x}Q(t).e^{\\int_{x_0}^{t} -P(s)ds}.dt+y_0)$$求导\n",
    "\n",
    "$$\\frac{\\partial{\\phi}}{\\partial{x_0}}=e^{\\int_{x_0}^{x} P(s)ds}.(-P（x_0）)(\\int_{x_0}^{x}Q(t).e^{\\int_{x_0}^{t} -P(s)ds}.dt+y_0)+e^{\\int_{x_0}^{x} P(s)ds}[-Q(x_0)e^{\\int_{x_0}^{x} -P(s)ds}+(\\int_{x_0}^{x}Q(t).e^{\\int_{x_0}^{t} -P(s)ds}.dt).P(x_0)]=-(P(x_0)y_0+Q(x_0))e^{\\int_{x_0}^{x} P(s)ds}$$\n",
    "\n",
    "$$\\frac{\\partial{\\phi}}{\\partial{y_0}}=e^{\\int_{x_0}^{x} P(s)ds}$$\n",
    "\n",
    "$$\\frac{\\partial{\\phi}}{\\partial{x}}=e^{\\int_{x_0}^{x} P(s)ds}.P（x）.(\\int_{x_0}^{x}Q(t).e^{\\int_{x_0}^{t} -P(s)ds}.dt+y_0)+e^{\\int_{x_0}^{x} P(s)ds}.Q(x).e^{\\int_{x_0}^{x} -P(s)ds}=P(x)\\phi+Q(x)$$\n",
    "\n",
    "经验证，与前面解出的结论一致"
   ]
  },
  {
   "cell_type": "markdown",
   "metadata": {},
   "source": [
    "3.\n",
    "\n",
    "设$f(x,y)=sin(\\frac{y}{x} )$,则$\\frac{\\partial f}{\\partial y}=\\frac{1}{x}cos(\\frac{y}{x} )$\n",
    "\n",
    "由解对初值的可微性定理可证明得\n",
    "\n",
    "$$\n",
    "\\begin{aligned}\n",
    "\\frac{\\partial y(x,x_0,y_0)}{\\partial x_0}\n",
    "&=-sin(\\frac{y_0}{x_0} )exp(\\int_{x_0}^{x}\\frac{1}{x}cos{\\frac{y}{x} }dx)\\\\\n",
    "\\frac{\\partial y(x,x_0,y_0)}{\\partial y_0}\n",
    "&=exp(\\int_{x_0}^{x}\\frac{1}{x}cos{\\frac{y}{x} } dx)\\\\\n",
    "\\end{aligned}\n",
    "$$\n",
    "\n",
    "\n",
    "将$x_0=1,y_0=0$代入,得:\n",
    "\n",
    "$$\\frac{\\partial y(x,x_0,y_0)}{\\partial x_0}|_{x_0=1,y_0=0}=0$$\n",
    "\n",
    "$$\\frac{\\partial y(x,x_0,y_0)}{\\partial y_0}|_{x_0=1,y_0=0}=exp(\\int_{1}^{x}\\frac{1}{x}dx)=|x|.$$\n",
    "\n",
    "所以，在$x_0=1,y_0=0$时，$\\frac{\\partial y}{\\partial x_0}=0,\\frac{\\partial y}{\\partial y_0}=|x|$\n"
   ]
  },
  {
   "cell_type": "markdown",
   "metadata": {},
   "source": [
    "4.\n",
    "\n",
    "易得\n",
    "\n",
    "$$\n",
    "\\begin{aligned}\n",
    "\\frac{\\partial \\phi}{\\partial x_0}\n",
    "&=-sin(\\lambda{x_0y_0})exp(\\int_{x_0}^{x} {\\lambda}{xcos({\\lambda}{x\\phi}}dx)\\\\\n",
    "\\frac{\\partial \\phi}{\\partial y_0}\n",
    "&=exp(\\int_{x_0}^{x} {\\lambda}{xcos({\\lambda}{x{\\phi}}}dx)\\\\\n",
    "\\end{aligned}\n",
    "$$\n",
    "\n",
    "\n",
    "将$x_0=0,y_0=0,\\lambda=1$代入,得\n",
    "\n",
    "$$\\frac{\\partial \\phi}{\\partial x_0}|_{(x,0,0,1)}=0，$$\n",
    "\n",
    "$$\\frac{\\partial \\phi}{\\partial y_0}|_{(x,0,0,1)}=exp(\\int_{x}^{0} xcos{0}dx)=exp(\\frac{x^2}{2})$$\n"
   ]
  },
  {
   "cell_type": "markdown",
   "metadata": {
    "collapsed": true
   },
   "source": [
    "# <font color='red'>A  20/10"
   ]
  },
  {
   "cell_type": "code",
   "execution_count": null,
   "metadata": {
    "collapsed": true
   },
   "outputs": [],
   "source": []
  }
 ],
 "metadata": {
  "kernelspec": {
   "display_name": "SageMath 7.3",
   "language": "",
   "name": "sagemath"
  },
  "language_info": {
   "codemirror_mode": {
    "name": "ipython",
    "version": 2
   },
   "file_extension": ".py",
   "mimetype": "text/x-python",
   "name": "python",
   "nbconvert_exporter": "python",
   "pygments_lexer": "ipython2",
   "version": "2.7.10"
  }
 },
 "nbformat": 4,
 "nbformat_minor": 0
}
