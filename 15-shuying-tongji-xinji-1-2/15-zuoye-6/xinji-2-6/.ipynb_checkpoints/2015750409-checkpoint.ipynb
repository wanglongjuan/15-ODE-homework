{
 "cells": [
  {
   "cell_type": "markdown",
   "metadata": {},
   "source": [
    "常微分第七次作业"
   ]
  },
  {
   "cell_type": "markdown",
   "metadata": {},
   "source": [
    "2015750409"
   ]
  },
  {
   "cell_type": "markdown",
   "metadata": {},
   "source": [
    "$1.记初值为(x_0,y_0+\\Delta y_0)的解为y=\\psi(x,x_0,y_0+\\Delta y_0),其中|\\delta y_0|\\leq\\alpha,\\alpha足够小，则有$"
   ]
  },
  {
   "cell_type": "markdown",
   "metadata": {},
   "source": [
    "$\\varphi=y_0+\\int_{x_0}^x f(s,\\varphi(s))ds,\\psi=y_0+\\Delta y_0+\\int_{x_0}^x f(s,\\psi(s))ds$"
   ]
  },
  {
   "cell_type": "markdown",
   "metadata": {},
   "source": [
    "$\\psi-\\varphi=\\Delta y_0+\\int_{x_0}^x [f(s,\\varphi(s))-f(s,\\psi(s))]ds$"
   ]
  },
  {
   "cell_type": "markdown",
   "metadata": {},
   "source": [
    "$=\\Delta y_0+\\int_{x_0}^x \\frac{∂f(s,\\varphi+\\theta(\\psi-\\varphi))}{∂y}(\\psi(s)-\\varphi(s))ds,其中\\theta\\in[0,1]$"
   ]
  },
  {
   "cell_type": "markdown",
   "metadata": {},
   "source": [
    "$由\\frac{∂f}{∂y}及\\varphi,\\psi的连续性，有\\frac{∂f(s,\\varphi+\\theta(\\psi-\\varphi))}{∂y}=\\frac{∂f(s,\\varphi)}{∂y}+r$"
   ]
  },
  {
   "cell_type": "markdown",
   "metadata": {},
   "source": [
    "$其中r满足:\\Delta y_0\\rightarrow0时r\\rightarrow0,\\Delta y_0=0时r=0$"
   ]
  },
  {
   "cell_type": "markdown",
   "metadata": {},
   "source": [
    "$即对\\Delta y_0\\not=0有:\\frac{\\psi-\\varphi}{\\Delta y_0}=1+\\int_{x_0}^x [\\frac{∂f(s,\\varphi)}{∂y}+r]\\frac{\\psi-\\varphi}{\\Delta y_0}ds$"
   ]
  },
  {
   "cell_type": "markdown",
   "metadata": {},
   "source": [
    "$即z=\\frac{\\psi-\\varphi}{\\Delta y_0}是微分方程初值问题:(\\frac{dz}{dx}=[\\frac{∂f(x,\\varphi)}{∂y}+r]z,z(x_0)=1)的解$"
   ]
  },
  {
   "cell_type": "markdown",
   "metadata": {},
   "source": [
    "$即\\frac{\\psi-\\varphi}{\\Delta y_0}=z=exp{\\int_{x_0}^x[\\frac{∂f(s,\\varphi)}{\\Delta y_0}+r]ds}$"
   ]
  },
  {
   "cell_type": "markdown",
   "metadata": {},
   "source": [
    "$于是\\frac{∂\\varphi}{∂\\Delta y_0}=lim_{\\Delta y_0\\rightarrow0}\\frac{\\psi-\\varphi}{\\Delta y_0}=exp\\int_{x_0}^x[\\frac{∂f(s,\\varphi)}{∂y}]ds$"
   ]
  },
  {
   "cell_type": "markdown",
   "metadata": {},
   "source": [
    "$它是x,x_0,y_0的连续函数$"
   ]
  },
  {
   "cell_type": "markdown",
   "metadata": {},
   "source": [
    "$2. 由于f(x,y)=P(x)y+Q(x),所以，\\frac{∂f}{∂y}=P(s)$"
   ]
  },
  {
   "cell_type": "markdown",
   "metadata": {},
   "source": [
    "$由解对初值的可微性定理得$"
   ]
  },
  {
   "cell_type": "markdown",
   "metadata": {},
   "source": [
    "$\\frac{∂\\varphi}{∂x_0}=-f(x_0,y_0)exp[\\int_{x_0}^x\\frac{∂f(s,\\varphi)}{∂y}ds]=-[P(x_0)y_0+Q(x_0)]exp[\\int_{x_0}^xP(s)ds]$"
   ]
  },
  {
   "cell_type": "markdown",
   "metadata": {},
   "source": [
    "$\\frac{∂\\varphi}{∂y_0}=exp[\\int_{x_0}^x\\frac{∂f(s,\\varphi)}{∂y}ds]=exp[\\int_{x_0}^xP(s)ds]$"
   ]
  },
  {
   "cell_type": "markdown",
   "metadata": {},
   "source": [
    "$\\frac{∂\\varphi}{∂x}=f(x,\\varphi(x,x_0,y_0))=P(x)\\varphi(x,x_0,y_0)+Q(x)$"
   ]
  },
  {
   "cell_type": "markdown",
   "metadata": {},
   "source": [
    "$因为非齐次线性方程组有解的表达式为$"
   ]
  },
  {
   "cell_type": "markdown",
   "metadata": {},
   "source": [
    "$y=e^{\\int P(x)dx}[\\int Q(x)e^{\\int P(x)dx}dx+c]$\n",
    "\n",
    "$于是\\varphi(x,x_0,y_0)=y_0*e^{\\int_{x_0}^xP(x)dx}+\\int_{x_0}^xQ(s)e^{\\int_s^xP(t)dt}ds$"
   ]
  },
  {
   "cell_type": "markdown",
   "metadata": {},
   "source": [
    "$直接对参数求导得$\n",
    "\n",
    "$\\frac{∂\\varphi(x,x_0,y_0)}{∂x_0}=-P(x_0)y_0e^{\\int_{x_0}^xP(s)ds}-Q(x_0)e^{\\int_{x_0}^sP(s)ds}$"
   ]
  },
  {
   "cell_type": "markdown",
   "metadata": {},
   "source": [
    "$=-[P(x_0)y_0+Q(x_0)]e^{\\int_{x_0}^xP(s)ds}$\n",
    "\n",
    "$\\frac{∂\\varphi(x,x_0,y_0)}{∂y_0}=e^{\\int_{x_0}^xP(s)ds}$"
   ]
  },
  {
   "cell_type": "markdown",
   "metadata": {},
   "source": [
    "$\\frac{∂\\varphi(x,x_0,y_0)}{∂x}=P(x)y_0e^{\\int_{x_0}^xP(s)ds}+Q(x)+\\int_{x_0}^xP(x)Q(s)e^{\\int_s^xP(t)dt}$\n",
    "\n",
    "$=P(x)[y_0e^{\\int_{x_0}^xP(s)ds}+\\int_{x_0}^xQ(s)e^{\\int_s^xP(t)dt}ds]+Q(x)$"
   ]
  },
  {
   "cell_type": "markdown",
   "metadata": {},
   "source": [
    "$=P(x)\\varphi(x,x_0,y_0)+Q(x)$\n",
    "\n",
    "$经检验，与解对初值的可微性定理中的公式一致$"
   ]
  },
  {
   "cell_type": "markdown",
   "metadata": {},
   "source": [
    "$3.设f(x,y)=sin(\\frac{y}{x}),则\\frac{∂f}{∂y}=\\frac{1}{x}cos(\\frac{y}{x})$\n",
    "\n",
    "$由解对初值的可微性定理的证明可知$\n",
    "\n",
    "$\\frac{∂y（x,x_0,y_0)}{∂x_0}=-f(x_0,y_0)exp(\\int_{x_0}^x\\frac{∂f(s,y)}{∂y}ds)$\n",
    "\n",
    "$=-sin(\\frac{y_0}{x_0})exp(\\int_{x_0}^x\\frac{1}{s}cos\\frac{y}{s}ds)$"
   ]
  },
  {
   "cell_type": "markdown",
   "metadata": {},
   "source": [
    "$\\frac{∂y(x,x_0,y_0)}{∂y_0}=exp(\\int_{x_0}^x\\frac{∂f(s,y)}{∂y}ds)=exp(\\int_{x_0}^x\\frac{1}{s}cos\\frac{y}{x}ds)$\n",
    "\n",
    "$当x_0=1,y_0=0时，对应地得到\\frac{∂y(x,x_0,y_0)}{∂x_0}|_{{x_0}=1,{y_0}=0}=0$\n",
    "\n",
    "$\\frac{∂y(x,x_0,y_0)}{∂x_0}|_{{x_0}=1,{y_0}=0}=exp(\\int_1^x\\frac{1}{s}ds)=|x|$\n",
    "\n",
    "$所以在x_0=1,y_0=0时\\frac{∂y}{∂x_0}=0,\\frac{∂y}{∂y_0}=|x|$"
   ]
  },
  {
   "cell_type": "markdown",
   "metadata": {},
   "source": [
    "$4.这里f(x,y)=sin(\\lambda xy),\\frac{∂y}{∂x}=\\lambda xcos(\\lambda xy)$"
   ]
  },
  {
   "cell_type": "markdown",
   "metadata": {},
   "source": [
    "$由解对初值的可微性定理得$"
   ]
  },
  {
   "cell_type": "markdown",
   "metadata": {},
   "source": [
    "$\\frac{∂\\varphi}{∂x}=-f(x_0,y_0)exp(\\int_{x_0}^x\\frac{∂f(s,\\varphi)}{∂y}ds)=-sin(\\lambda x_0y_0)exp(\\int_{x_0}^x\\lambda scos(\\lambda s\\varphi)ds)$"
   ]
  },
  {
   "cell_type": "markdown",
   "metadata": {},
   "source": [
    "$\\frac{∂\\varphi}{∂y_0}=exp(\\int_{x_0}^x\\frac{∂f(s,\\varphi)}{∂y}ds)=exp(\\int_{x_0}^x\\lambda scos(\\lambda s\\varphi)ds))$"
   ]
  },
  {
   "cell_type": "markdown",
   "metadata": {},
   "source": [
    "$当x_0=0,y_0=0,\\lambda =1时,则有\\frac{∂\\varphi}{∂x_0}|_{(x,0,0,1)}=0$"
   ]
  },
  {
   "cell_type": "markdown",
   "metadata": {},
   "source": [
    "$\\frac{∂\\varphi}{∂y_0}|_{(x,0,0,1)}=exp(\\int_0^x scos0ds)=exp(\\frac{x^2}{2})$"
   ]
  },
  {
   "cell_type": "markdown",
   "metadata": {
    "collapsed": true
   },
   "source": [
    "# <font color='red'>A  20/10"
   ]
  },
  {
   "cell_type": "code",
   "execution_count": null,
   "metadata": {
    "collapsed": true
   },
   "outputs": [],
   "source": []
  }
 ],
 "metadata": {
  "kernelspec": {
   "display_name": "SageMath 7.3",
   "language": "",
   "name": "sagemath"
  },
  "language_info": {
   "codemirror_mode": {
    "name": "ipython",
    "version": 2
   },
   "file_extension": ".py",
   "mimetype": "text/x-python",
   "name": "python",
   "nbconvert_exporter": "python",
   "pygments_lexer": "ipython2",
   "version": "2.7.10"
  }
 },
 "nbformat": 4,
 "nbformat_minor": 0
}
