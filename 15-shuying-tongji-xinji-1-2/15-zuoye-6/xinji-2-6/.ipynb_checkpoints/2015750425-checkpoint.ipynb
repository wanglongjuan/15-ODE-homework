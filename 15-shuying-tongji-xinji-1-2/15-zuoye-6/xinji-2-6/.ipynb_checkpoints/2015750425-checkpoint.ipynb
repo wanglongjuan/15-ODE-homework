{
 "cells": [
  {
   "cell_type": "markdown",
   "metadata": {},
   "source": [
    "**2016.10.11**"
   ]
  },
  {
   "cell_type": "markdown",
   "metadata": {},
   "source": [
    "**2.假设函数 $P(x)$ 和 $Q(x)$ 于区间 $[\\alpha,\\beta]$ 上连续， $y=\\varphi(x,x_0,y_0)$ 是方程**\n",
    "\n",
    "$$\\frac{\\mathrm d y}{\\mathrm d x}=P(x)y+Q(x)$$\n",
    "\n",
    "**的解，$y_0=\\varphi(x_0,x_0,y_0)$.试求 $\\frac{\\partial \\varphi}{\\partial x_0},\\frac{\\partial \\varphi}{\\partial y_0},\\frac{\\partial \\varphi}{\\partial x}$,并从解的表达式出发，利用对参数求导的方法，检验所得结果。**"
   ]
  },
  {
   "cell_type": "markdown",
   "metadata": {},
   "source": [
    "**解：**"
   ]
  },
  {
   "cell_type": "markdown",
   "metadata": {},
   "source": [
    "这里 $f(x,y)=P(x)y+Q(x),\\frac{\\partial f}{\\partial y}=P(x)$，初始条件为 $y_0=\\varphi(x_0,x_0,y_0)$"
   ]
  },
  {
   "cell_type": "markdown",
   "metadata": {},
   "source": [
    "根据解对初值的可微性定理得"
   ]
  },
  {
   "cell_type": "markdown",
   "metadata": {},
   "source": [
    "$$\n",
    "\\begin{aligned}\n",
    "\\frac{\\partial \\varphi}{\\partial x_0} &=-f(x_0,y_0)e^{\\int_{x_0}^x \\frac{\\partial  f (x,\\varphi)}{\\partial  y} \\mathrm d x}\\\\\n",
    "&=-(P(x_0)y_0+Q(x_0))e^{\\int_{x_0}^x P(x) \\mathrm d x}\\\\\n",
    "\\frac{\\partial \\varphi}{\\partial y_0} &=e^{\\int_{x_0}^x \\frac{\\partial f(x,\\varphi)}{\\partial y} \\mathrm d x}\\\\\n",
    "&=e^{\\int_{x_0}^x P(x) \\mathrm d x}\\\\\n",
    "\\frac{\\partial \\varphi}{\\partial x} &=f(x,\\varphi(x,x_0,y_0))\\\\\n",
    "&=P(x) \\varphi(x,x_0,y_0)+Q(x)\n",
    "\\end{aligned}\n",
    "$$"
   ]
  },
  {
   "cell_type": "markdown",
   "metadata": {},
   "source": [
    "又知方程 $\\frac{\\mathrm d y}{\\mathrm d x}=P(x)y+Q(x)$ 的通解为\n",
    "\n",
    "$$y=e^{\\int P(x) \\mathrm d x}(\\int Q(x) e^{-\\int P(x) \\mathrm d x} \\mathrm d x+c)$$"
   ]
  },
  {
   "cell_type": "markdown",
   "metadata": {},
   "source": [
    "方程 $\\frac{\\mathrm d y}{\\mathrm d x}=P(x)y+Q(x)$ 满足初值条件 $y(x_0)=y_0$的特解可写成\n",
    "\n",
    "$$y=\\varphi(x,x_0,y_0)=e^{\\int_{x_0}^x P(s) \\mathrm d s}(\\int_{x_0}^x Q(t) \\bullet e^{-\\int_{x_0}^x P(s) \\mathrm d s} \\mathrm d t+y_0)$$"
   ]
  },
  {
   "cell_type": "markdown",
   "metadata": {},
   "source": [
    "\n",
    "利用对参数求导的方法可得"
   ]
  },
  {
   "cell_type": "markdown",
   "metadata": {},
   "source": [
    "$$\n",
    "\\begin{aligned}\n",
    "\\frac{\\partial \\varphi}{\\partial x_0} &=e^{\\int_{x_0}^x P(s) \\mathrm d s} \\bullet (-P(x_0)) (\\int_{x_0}^x Q(t) \\bullet  e^{\\int_{x_0}^x -P(s) \\mathrm d s} \\bullet \\mathrm d t+y_0)+ e^{\\int_{x_0}^x P(s) \\mathrm d s} [-Q(x_0)e^{\\int_{x_0}^x - P(s) \\mathrm d s}+(\\int_{x_0}^x Q(t) e^{\\int_{x_0}^x -P(s) \\mathrm d s} \\bullet \\mathrm d t) \\times P(x_0)]\\\\\n",
    "&=-(P(x_0)y_0+Q(x_0))e^{\\int_{x_0}^x P(s) \\mathrm d s}\\\\\n",
    "\\frac{\\partial \\varphi}{\\partial y_0} &=e^{\\int_{x_0}^x P(s) \\mathrm d s}\\\\\n",
    "\\frac{\\partial \\varphi}{\\partial x} &=e^{\\int_{x_0}^x P(s) \\mathrm d s} \\bullet P(x) \\bullet (\\int_{x_0}^x Q(t) \\bullet  e^{\\int_{x_0}^x -P(s) \\mathrm d s} \\mathrm d t+y_0)+e^{\\int_{x_0}^x P(s) \\mathrm d s} \\bullet Q(x)\\bullet e^{\\int_{x_0}^x -P(s) \\mathrm d s}\n",
    "\\end{aligned}\n",
    "$$"
   ]
  },
  {
   "cell_type": "markdown",
   "metadata": {},
   "source": [
    "易知，与前面的结果一致"
   ]
  },
  {
   "cell_type": "markdown",
   "metadata": {},
   "source": [
    "**3.给定方程**\n",
    "\n",
    "$$\\frac{\\mathrm d y}{\\mathrm d x}=\\sin(\\frac{y}{x})$$,\n",
    "\n",
    "**试求 $\\frac{\\partial y(x,x_0,y_0)}{\\partial x_0},\\frac{\\partial y(x,x_0,y_0)}{\\partial y_0}$ 在 $x_0=1,y_0=0$ 时的表达式。**"
   ]
  },
  {
   "cell_type": "markdown",
   "metadata": {},
   "source": [
    "**解：**"
   ]
  },
  {
   "cell_type": "markdown",
   "metadata": {},
   "source": [
    "设 $f(x,y)=\\sin(\\frac{y}{x})$,则 $\\frac{\\partial f}{\\partial y}=\\frac{1}{x}\\cos(\\frac{y}{x})$"
   ]
  },
  {
   "cell_type": "markdown",
   "metadata": {},
   "source": [
    "根据解对初值的可微性定理得"
   ]
  },
  {
   "cell_type": "markdown",
   "metadata": {},
   "source": [
    "$$\n",
    "\\begin{aligned}\n",
    "\\frac{\\partial y(x,x_0,y_0)}{\\partial x_0} &=-f(x_0,y_0)e^{\\int_{x_0}^x \\frac{\\partial  f (x,\\varphi)}{\\partial  y} \\mathrm d x}\\\\\n",
    "&=-\\sin(\\frac{y_0}{x_0})e^{\\int_{x_0}^x \\frac{1}{x}\\cos(\\frac{y}{x}) \\mathrm d x}\\\\\n",
    "\\frac{\\partial y(x,x_0,y_0)}{\\partial y_0} &=e^{\\int_{x_0}^x \\frac{\\partial f(x,\\varphi)}{\\partial y} \\mathrm d x}\\\\\n",
    "&=e^{\\int_{x_0}^x \\frac{1}{x}\\cos(\\frac{y}{x}) \\mathrm d x}\\\\\n",
    "\\end{aligned}\n",
    "$$\n"
   ]
  },
  {
   "cell_type": "markdown",
   "metadata": {},
   "source": [
    "当 $x_0=1,y_0=0$ 时，对应得到"
   ]
  },
  {
   "cell_type": "markdown",
   "metadata": {},
   "source": [
    "$$\n",
    "\\begin{aligned}\n",
    "\\frac{\\partial y(x,x_0,y_0)}{\\partial x_0} \\mid _{x_0=1,y_0=0} &=0\\\\\n",
    "\\frac{\\partial y(x,x_0,y_0)}{\\partial y_0} \\mid _{x_0=1,y_0=0} &=e^{\\int_1^x \\frac{1}{x}\\mathrm d x}\\\\\n",
    "&=\\mid x \\mid \n",
    "\\end{aligned}\n",
    "$$\n",
    "\n"
   ]
  },
  {
   "cell_type": "markdown",
   "metadata": {},
   "source": [
    "所以，在 $x_0=1,y_0=0$ 时，$\\frac{\\partial y}{\\partial x_0}=0,\\frac{\\partial y}{\\partial y_0}=\\mid x \\mid$"
   ]
  },
  {
   "cell_type": "markdown",
   "metadata": {
    "collapsed": true
   },
   "source": [
    "**2016.10.12**"
   ]
  },
  {
   "cell_type": "markdown",
   "metadata": {},
   "source": [
    "**1.假设函数 $f(x,y)$ 及 $\\frac{\\partial f}{\\partial y}$ 都在区域 G 内连续，又 $y=\\varphi(x,x_0,y_0)$ 是方程 $\\frac{\\mathrm d y}{\\mathrm d x}=f(x,y)$ 满足初值条件 $\\varphi(x_0,x_0,y_0)=y_0$ 的解，试证 $\\frac{\\partial \\varphi}{\\partial y_0}$ 存在且连续，并写出表达式。**"
   ]
  },
  {
   "cell_type": "markdown",
   "metadata": {},
   "source": [
    "**解：**"
   ]
  },
  {
   "cell_type": "markdown",
   "metadata": {},
   "source": [
    "设 $y=\\varphi(x,x_0,y_0)=\\varphi,y=\\varphi(x,x_0,y_0+\\bigtriangleup y_0)=\\phi$ 分别为初值 $(x_0,y_0),(x_0,y_0+\\bigtriangleup y_0)$ 所确定方程的解 $（\\mid \\bigtriangleup y_0 \\mid \\leq \\alpha,\\alpha 为足够小正数 ）$"
   ]
  },
  {
   "cell_type": "markdown",
   "metadata": {},
   "source": [
    "即 $$\\varphi=y_0+\\int_{x_0}^x f(x,\\varphi) \\mathrm d x \\quad \\phi=y_0+\\int_{x_0+\\bigtriangleup x _0}^x f(x,\\phi) \\mathrm d x$$"
   ]
  },
  {
   "cell_type": "markdown",
   "metadata": {},
   "source": [
    "$$\n",
    "\\begin{aligned}\n",
    "\\phi - \\varphi &=\\int_{x_0+\\bigtriangleup x _0}^{x} f(x,\\phi) \\mathrm d x - \\int_{x_0}^x f(x,\\varphi) \\mathrm d x \\\\\n",
    "&=-\\int_{x_0}^{x_0+\\bigtriangleup x_0} f(x,\\phi) \\mathrm d x +\\int_{x_0}^x \\frac{\\partial f(x,\\varphi +\\theta(\\phi - \\varphi))}{\\partial y} (\\phi - \\varphi)\\mathrm d x \n",
    "\\end{aligned}\n",
    "$$\n",
    "\n"
   ]
  },
  {
   "cell_type": "markdown",
   "metadata": {},
   "source": [
    "其中 $0<\\theta<1$ 注意到 $\\frac{\\partial f}{\\partial y}$ 及 $\\varphi,\\phi$ 的连续性，有"
   ]
  },
  {
   "cell_type": "markdown",
   "metadata": {},
   "source": [
    "$$\\frac{\\partial f(x,\\varphi +\\theta(\\phi - \\varphi))}{\\partial y}= \\frac{\\partial f(x,\\varphi)}{\\partial y}+r_3$$"
   ]
  },
  {
   "cell_type": "markdown",
   "metadata": {},
   "source": [
    "其中，当 $\\bigtriangleup x _0 \\to 0$ 时， $r_3 \\to 0$ 且当 $\\bigtriangleup x _0 = 0$ 时， $r_3 = 0$"
   ]
  },
  {
   "cell_type": "markdown",
   "metadata": {},
   "source": [
    "同时，有 $-\\frac{1}{\\bigtriangleup y_0}\\int_{x_0}^{x_0+\\bigtriangleup x_0} f(x,\\phi) \\mathrm d x =1 +r_4$"
   ]
  },
  {
   "cell_type": "markdown",
   "metadata": {},
   "source": [
    "其中，$r_4 与 r_3$ 的性质相同，因此对 $\\bigtriangleup y_0 \\neq 0$ 时"
   ]
  },
  {
   "cell_type": "markdown",
   "metadata": {},
   "source": [
    "$$\\frac{\\phi - \\varphi}{\\bigtriangleup y_0}=[1+r_4]+\\int_{x_0}^x [\\frac{\\partial f(x,\\varphi)}{\\partial y}+r_3] \\frac{\\phi - \\varphi}{\\bigtriangleup y_0} \\mathrm d x$$"
   ]
  },
  {
   "cell_type": "markdown",
   "metadata": {},
   "source": [
    "即 $z=\\frac{\\phi - \\varphi}{\\bigtriangleup y_0}$ 是初值问题\n",
    "\n",
    "$$\n",
    "\\begin{cases}\n",
    "\\frac{\\mathrm d z}{\\mathrm d x}=[\\frac{\\partial f(x,\\varphi)}{\\partial y}+r_3]z\\\\\n",
    "z(x_0)=1\n",
    "\\end{cases}\n",
    "$$"
   ]
  },
  {
   "cell_type": "markdown",
   "metadata": {},
   "source": [
    "的解，因而 $$\\frac{\\phi - \\varphi}{\\bigtriangleup y_0}=e^{\\int_{x_0}^x \\frac{\\partial f(x,\\varphi)}{\\partial y} \\mathrm d x}$$"
   ]
  },
  {
   "cell_type": "markdown",
   "metadata": {},
   "source": [
    "故有 $$\\frac{\\partial \\varphi}{\\partial y_0}=\\lim_{\\bigtriangleup y_0 \\to 0} \\frac{\\phi - \\varphi}{\\bigtriangleup y_0}=e^{\\int_{x_0}^x \\frac{\\partial f(x,\\varphi)}{\\partial y} \\mathrm d x}$$"
   ]
  },
  {
   "cell_type": "markdown",
   "metadata": {},
   "source": [
    "**4.设 $y=\\varphi(x,x_0,y_0,\\lambda)$ 是初值问题**\n",
    "\n",
    "$$\\frac{\\mathrm d y}{\\mathrm d x}=\\sin(\\lambda xy),\\varphi(x_0,x_0,y_0,\\lambda)=y_0$$\n",
    "\n",
    "**的饱和解，这里 $\\lambda$ 是参数，求 $\\frac{\\partial \\varphi}{\\partial x_0},\\frac{\\partial \\varphi}{\\partial y_0}$ 在 （x,0,0,1）处的表达式**"
   ]
  },
  {
   "cell_type": "markdown",
   "metadata": {},
   "source": [
    "**解：**"
   ]
  },
  {
   "cell_type": "markdown",
   "metadata": {},
   "source": [
    "这里 $f(x,y)=\\sin(\\lambda xy),\\frac{\\partial f}{\\partial y}=\\lambda x\\cos(\\lambda xy)$"
   ]
  },
  {
   "cell_type": "markdown",
   "metadata": {},
   "source": [
    "根据解对初值的可微性定理得"
   ]
  },
  {
   "cell_type": "markdown",
   "metadata": {},
   "source": [
    "$$\n",
    "\\begin{aligned}\n",
    "\\frac{\\partial \\varphi}{\\partial x_0} &=-f(x_0,y_0)e^{\\int_{x_0}^x \\frac{\\partial  f (x,\\varphi)}{\\partial  y} \\mathrm d x}\\\\\n",
    "&=-\\sin(\\lambda x_0 y_0)e^{\\int_{x_0}^x\\lambda x\\cos(\\lambda xy) \\mathrm d x}\\\\\n",
    "\\frac{\\partial \\varphi}{\\partial y_0} &=e^{\\int_{x_0}^x \\frac{\\partial f(x,\\varphi)}{\\partial y} \\mathrm d x}\\\\\n",
    "&=e^{\\int_{x_0}^x\\lambda x\\cos(\\lambda xy) \\mathrm d x}\n",
    "\\end{aligned}\n",
    "$$"
   ]
  },
  {
   "cell_type": "markdown",
   "metadata": {},
   "source": [
    "当 $x_0=0,y_0=0,\\lambda =1$ 时，有 \n",
    "\n",
    "$$\\frac{\\partial \\varphi}{\\partial x_0} \\mid _{x,0,0,1}=0$$\n",
    "\n",
    "$$\\frac{\\partial \\varphi}{\\partial y_0} \\mid _{x,0,0,1}=e^{\\int_0^x x\\cos 0 \\mathrm d x}=e^{\\frac{x^2}{2}}$$"
   ]
  },
  {
   "cell_type": "markdown",
   "metadata": {
    "collapsed": true
   },
   "source": [
    "# <font color='red'>A  20/10"
   ]
  },
  {
   "cell_type": "code",
   "execution_count": null,
   "metadata": {
    "collapsed": true
   },
   "outputs": [],
   "source": []
  }
 ],
 "metadata": {
  "kernelspec": {
   "display_name": "SageMath 7.3",
   "language": "",
   "name": "sagemath"
  },
  "language_info": {
   "codemirror_mode": {
    "name": "ipython",
    "version": 2
   },
   "file_extension": ".py",
   "mimetype": "text/x-python",
   "name": "python",
   "nbconvert_exporter": "python",
   "pygments_lexer": "ipython2",
   "version": "2.7.10"
  }
 },
 "nbformat": 4,
 "nbformat_minor": 0
}
