{
 "cells": [
  {
   "cell_type": "markdown",
   "metadata": {},
   "source": [
    "1.假设函数$f(x,y)$及$\\frac{\\partial f}{\\partial y}$都在区域G内连续，又$y=φ(x,x_0,y_0)$是教材中方程(3.1)满足初始条件$y_0=φ(x_0,x_0,y_0)$\n",
    "的解，试证$\\frac{\\partial φ}{\\partial y_0}$存在且连续，并写出其表达式。"
   ]
  },
  {
   "cell_type": "markdown",
   "metadata": {},
   "source": [
    "解：由解对初值的可微性定理证明:\n",
    "\n",
    "若f（x,y）及$\\frac{\\partial f}{\\partial y}$都在区域G内连续时，\n",
    "方程（3.1）的解$y=φ(x,x_0,y_0)作为$x,x_0,y_0$的函数在它的存在范围内是连续可微的。\n",
    "\n",
    "即导函数存在且连续，即$\\frac{\\partial φ}{\\partial y_0}$,$\\frac{\\partial φ}{\\partial x_0}$,$\\frac{\\partial φ}{\\partial x}$都存在，\n",
    "且在解的存在范围内是连续的。\n",
    "\n",
    "所以得证$\\frac{\\partial φ}{\\partial y_0}$存在且连续。\n",
    "表达式为：\n",
    "$$\\frac{\\mathrm φ}{\\mathrm y_0}=exp(\\int_{x_0}^x{\\mathrm {\\frac{\\partial f(x,φ)}{\\partial y}} \\mathrm dx})$$"
   ]
  },
  {
   "cell_type": "markdown",
   "metadata": {},
   "source": [
    "2.假设函数P（x）和Q(x)于区间$[α,β]$上连续，$y=φ(x,x_0,y_0)$是方程$\\frac{\\mathrm dy}{\\mathrm dx}=P(x)y+Q(x)$的解，$y_0=φ(x_0,x_0,y_0)$.\n",
    "试求$\\frac{\\partial φ}{\\partial x_0},\\frac{\\partialφ}{\\partial y_0},\\frac{\\partial φ}{\\partial x}$,并从解的表达式出发，利用对参数求导数的\n",
    "方法，检验所得结果。"
   ]
  },
  {
   "cell_type": "markdown",
   "metadata": {},
   "source": [
    "解：因为$f(x,y)=P(x)y+Q(x),\\frac{\\partial f}{\\partial y}=P(x)$且$y_0=φ(x_0,x_0,y_0)$\n",
    "又由初值的可微性定理得：\n",
    "$$\\frac{\\mathrm φ}{\\mathrm {x_0}}=-f(x_0,y_0)exp(\\int_{x_0}^x{\\mathrm {\\frac{\\partial f(x,φ)}{\\partial y}} \\mathrm dx})=-（P（x_0）{y_0}+Q(x_0)exp(\\int_{x_0}^x{\\mathrm P(x) \\mathrm dx})$$   \n",
    "$$\\frac{\\mathrm φ}{\\mathrm y_0}=exp(\\int_{x_0}^x{\\mathrm {\\frac{\\partial f(x,φ)}{\\partial y}} \\mathrm dx})=exp(\\int_{x_0}^x{\\mathrm P(x) \\mathrm dx})$$   \n",
    "$$\\frac{\\partial φ}{\\partial x}=f(x,φ(x,x_0,y_0))=P(x)φ(x,x_0,y_0)+Q(x)$$    \n",
    "又因为 $\\frac{\\mathrm dy}{\\mathrm dx}=P(x)y+Q(x)$的通解为：$$y=e^{\\int{\\mathrm P(x) \\mathrm dx}}(\\int{\\mathrm Q(x)e^{-\\int{\\mathrm P(x) \\mathrm dx}}\\mathrm dx}+c)$$   \n",
    "又对于有$y(x_0)=x_0$的特解为：$$y=φ(x,x_0,y_0)=e^{\\int_{x_0}^x{\\mathrm P(s) \\mathrm ds}}(\\int_{x_0}^x{\\mathrm Q(t)e^{\\int_{x_0}^t{\\mathrm -P(s) \\mathrm ds}}\\mathrm dt}+y_0)$$   \n",
    "利用对参数求导的方法可得：\n",
    "$$\\frac{\\partial φ}{\\partial {x_0}}=e^{\\int_{x_0}^x{\\mathrm P(s) \\mathrm ds}}(-P(x_0))(\\int_{x_0}^x{\\mathrm Q(t)e^{\\int_{x_0}^t{\\mathrm -P(s) \\mathrm ds}}\\mathrm dt}+y_0)+e^{\\int_{x_0}^x{\\mathrm P(s) \\mathrm ds}}[-Q(x_0)e^{\\int_{x_0}^x{\\mathrm -P(s) \\mathrm ds}}+(\\int_{x_0}^x{\\mathrm Q(t)e^{\\int_{x_0}^t{\\mathrm -P(s) \\mathrm ds}}\\mathrm dt})P(x_0)]=-(P(x_0)y_0+Q(x_0))e^{\\int_{x_0}^x{\\mathrm P(s) \\mathrm ds}}$$   \n",
    "$$\\frac{\\partial φ}{\\partial y_0}=e^{\\int_{x_0}^x{\\mathrm P(s) \\mathrm ds}}$$   \n",
    "$$\\frac{\\partial φ}{\\partial x}= e^{\\int_{x_0}^x{\\mathrm P(s) \\mathrm ds}}P(x)(\\int_{x_0}^x{\\mathrm Q(t) \\mathrm e^{\\int_{x_0}^t{\\mathrm -P(s) \\mathrm ds}}\\mathrm dt}+y_0)+e^{\\int_{x_0}^t{\\mathrm P(s) \\mathrm ds}}Q(x)e^{\\int_{x_0}^t{\\mathrm -P(s) \\mathrm ds}}=P(x)φ+Q(x)$$\n",
    "   得证"
   ]
  },
  {
   "cell_type": "markdown",
   "metadata": {},
   "source": [
    "3.给定方程$\\frac{\\mathrm dy}{\\mathrm dx}=sin(\\frac{\\mathrm y}{\\mathrm x})$  ，试求$\\frac{\\partial y(x,x_0,y_0)}{\\partial x_0},\\frac{\\partial y(x,x_0,y_0)}{\\partial y_0}$在$x_0=1,y_0=0$时的表达式。"
   ]
  },
  {
   "cell_type": "markdown",
   "metadata": {},
   "source": [
    "解：设$f(x,y)=sin(\\frac{\\mathrm y}{\\mathrm x})$,则$\\frac{\\partial f}{\\partial y}=\\frac{\\mathrm 1}{\\mathrm x}cos(\\frac{\\mathrm y}{\\mathrm x})$"
   ]
  },
  {
   "cell_type": "markdown",
   "metadata": {},
   "source": [
    "又由解对初值的可微性定理得证明得：$$\\frac{\\partial y(x,x_0,y_0)}{\\partial x_0}=-f(x_0,y_0)exp (\\int_{x_0}^x{\\frac{\\partial f(x,φ)}{\\partial y} \\mathrm dx})=-sin(\\frac{\\mathrm y_0}{\\mathrm x_0})exp(\\int_{x_0}^x{ \\frac{\\mathrm 1}{\\mathrm x} \\mathrm cos(\\frac{\\mathrm y}{\\mathrm x}) \\mathrm dx})$$ "
   ]
  },
  {
   "cell_type": "markdown",
   "metadata": {},
   "source": [
    "$$\\frac{\\partial y(x,x_0,y_0)}{\\partial y_0}=exp (\\int_{x_0}^x{\\frac{\\partial f(x,φ)}{\\partial y} \\mathrm dx})$$  \n",
    "$$=exp(\\int_{x_0}^x{ \\frac{\\mathrm 1}{\\mathrm x} \\mathrm cos(\\frac{\\mathrm y}{\\mathrm x}) \\mathrm dx})$$"
   ]
  },
  {
   "cell_type": "markdown",
   "metadata": {},
   "source": [
    "将$x_0=1,y_0=0$代入上式的方程得：$$\\frac{\\partial y(x,x_0,y_0)}{\\partial x_0}=0$$   \n",
    "$$\\frac{\\partial y(x,x_0,y_0)}{\\partial y_0}=exp(\\int_1^x{\\frac{\\mathrm 1}{\\mathrm x} \\mathrm dx})=|x|$$ "
   ]
  },
  {
   "cell_type": "markdown",
   "metadata": {},
   "source": [
    "所以当$x_0=1,y_0=0$时：$$\\frac{\\partial y}{\\partial x_0}=0$$   \n",
    "$$\\frac{\\partial y}{\\partial y_0}=|x|$$"
   ]
  },
  {
   "cell_type": "markdown",
   "metadata": {},
   "source": [
    "4.设$y=φ(x,x_0,y_0,λ)$是初值问题$\\frac{\\mathrm dy}{\\mathrm dx}=sin(λxy)$且$φ(x_0,x_0,y_0,λ)=y_0$的饱和解，这里λ是参数，         求$\\frac{\\partial φ}{\\partial x_0},\\frac{\\partial φ}{\\partial y_0}$在（x,0,0,1）处的表达式。"
   ]
  },
  {
   "cell_type": "markdown",
   "metadata": {},
   "source": [
    "解：设$f(x,y)=sin(λxy)$则$\\frac{\\partial f}{\\partial y}=λxcos(λxy)$又由解对初值的可微性定理得证明得：$$\\frac{\\partial φ}{\\partial x_0}=-f(x_0,y_0)exp (\\int_{x_0}^x{\\frac{\\partial f(x,φ)}{\\partial y} \\mathrm dx})=sin(λ{x_0}{y_0})exp (\\int_{x_0}^x{\\mathrm λx \\mathrm cos(λxφ) \\mathrm dx})$$ "
   ]
  },
  {
   "cell_type": "markdown",
   "metadata": {},
   "source": [
    "$$\\frac{\\partial φ}{\\partial y_0}=exp (\\int_{x_0}^x{\\frac{\\partial f(x,φ)}{\\partial y} \\mathrm dx})=exp (\\int_{x_0}^x{\\mathrm λx \\mathrm cos(λxφ) \\mathrm dx})$$   "
   ]
  },
  {
   "cell_type": "markdown",
   "metadata": {},
   "source": [
    "将$x_0=0,y_0=0,λ=1$代入上式的方程得：$$\\frac{\\partial φ}{\\partial x_0}=0$$    \n",
    "$$\\frac{\\partial φ}{\\partial y_0}=exp(\\int_0^x{\\mathrm x \\mathrm cos0 \\mathrm dx})=exp(\\frac{\\mathrm x^2}{\\mathrm 2})$$"
   ]
  },
  {
   "cell_type": "markdown",
   "metadata": {},
   "source": [
    "# <font color='red'>A  20/10"
   ]
  },
  {
   "cell_type": "code",
   "execution_count": null,
   "metadata": {
    "collapsed": true
   },
   "outputs": [],
   "source": []
  }
 ],
 "metadata": {
  "kernelspec": {
   "display_name": "SageMath 7.3",
   "language": "",
   "name": "sagemath"
  },
  "language_info": {
   "codemirror_mode": {
    "name": "ipython",
    "version": 2
   },
   "file_extension": ".py",
   "mimetype": "text/x-python",
   "name": "python",
   "nbconvert_exporter": "python",
   "pygments_lexer": "ipython2",
   "version": "2.7.10"
  }
 },
 "nbformat": 4,
 "nbformat_minor": 0
}
