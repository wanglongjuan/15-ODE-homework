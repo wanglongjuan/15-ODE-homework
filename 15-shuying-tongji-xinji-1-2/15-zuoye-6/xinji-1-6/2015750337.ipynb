{
 "cells": [
  {
   "cell_type": "markdown",
   "metadata": {
    "collapsed": false
   },
   "source": [
    "# P102\n",
    "## 1、"
   ]
  },
  {
   "cell_type": "markdown",
   "metadata": {},
   "source": [
    "解：设$y=\\psi(x,x_0,y_0+\\Delta)$的初值为$（x_0,y_0+ \\Delta)$,$|\\Delta y_0|$足够小\n",
    "$\\therefore$\n",
    "$$\\phi = y_0+ \\int _{x_0}^x f(x,\\phi)dx$$\n",
    "$$\\psi =y_0+ \\Delta y_0+\\int_{x_0}^x f(x,\\psi)dx$$"
   ]
  },
  {
   "cell_type": "markdown",
   "metadata": {},
   "source": [
    "$\\therefore$\n",
    "$$\\psi -\\phi =\\Delta y_0+ \\int_{x_0}^x [ \\frac{\\partial f(x,\\phi+\\theta(\\psi-\\phi))}{\\partial y} (\\psi-\\phi)]dx$$"
   ]
  },
  {
   "cell_type": "markdown",
   "metadata": {},
   "source": [
    "$0\\leq \\theta \\leq 1$\n",
    "$\\therefore$$$\\frac{\\partial f(x,\\phi+\\theta(\\psi-\\phi))}{\\partial y}=\\frac{\\partial f(x,\\phi)}{\\partial y}+ t$$\n",
    "当$\\Delta y_0$趋于0时，$t$趋于0\n",
    "$\\therefore$\n",
    "$$\n",
    "1+ \\int_{x_0}^x (\\frac{\\partial f(x,\\phi)}{\\partial y}+ t )\\frac{\\psi-\\phi}{\\Delta y_0} dx\n",
    " = \\frac{\\psi-\\phi}{\\Delta y_0}\n",
    "$$"
   ]
  },
  {
   "cell_type": "markdown",
   "metadata": {},
   "source": [
    "$\\therefore $\n",
    "$$\\frac{\\psi-\\phi}{\\Delta y_0}=exp(\\int_{x_0}^x \\frac{\\partial (f(x,\\phi)}{\\partial y}+ t) dx$$\n",
    "$\\therefore$\n",
    "$\\frac{\\partial \\phi}{\\partial y_0} $是$x$,$x_0$,$y_0$的连续函数。"
   ]
  },
  {
   "cell_type": "markdown",
   "metadata": {},
   "source": [
    "## 2、"
   ]
  },
  {
   "cell_type": "markdown",
   "metadata": {},
   "source": [
    "解：\n",
    "由题意可知：\n",
    "$$\\frac{\\partial \\phi}{\\partial x_0}=-f(x_0,y_0) exp[\\int_{x_0}^x \\frac{\\partial f(x,\\phi)}{\\partial y} dx]$$\n",
    "\n",
    "\n",
    "$$\\frac{\\partial \\phi}{\\partial y_0}=exp[\\int_{x_0}^x \\frac{\\partial f(x,\\phi)}{\\partial y} dx]$$\n",
    "\n",
    "$$\\frac{\\partial \\phi}{\\partial x}= f(x,\\phi(x,x_0,y_0))=P(x)\\phi(x,x_0,y_0)+Q(x)$$\n",
    "$\\therefore$\n",
    "$$\\phi (x,x_0,y_0)=y_0e^{\\int_{x_0}^x P(x) dx}+\\int_{x_0}^x Q(s)e^{\\int_s^x P(x)dx}ds$$\n",
    "\n",
    "$$\n",
    "\\frac{\\partial \\phi(x,x_0,y_0)}{\\partial y_0}=e^{\\int_{x_0}^x P(x)dx}$$\n",
    "$\\therefore$\n",
    "$$\n",
    "\\frac{\\partial \\phi(x,x_0,y_0)}{\\partial x}=P(x)[y_0e^{\\int_{x_0}^x P(x)dx}+\\int_{x_0}^x Q(s)e^{int_s^x P(x)dx} ds]+Q(x)$$\n",
    "$$=P(x)\\phi(x,x_0,y_0)+Q(x)$$"
   ]
  },
  {
   "cell_type": "markdown",
   "metadata": {},
   "source": [
    "\n",
    "\n",
    "\n",
    "## 3、"
   ]
  },
  {
   "cell_type": "markdown",
   "metadata": {},
   "source": [
    "解;由题意可知：\n",
    "$$\\frac{\\partial y}{\\partial x_0}=-f(x_0,y_0)exp[\\int_{x_0}^x \\frac{\\partial f(x,y)}{\\partial y} dx]=0$$"
   ]
  },
  {
   "cell_type": "markdown",
   "metadata": {},
   "source": [
    "$$\\frac{\\partial y}{\\partial y_0}=exp(\\int_{x_0}^x \\cos \\frac{y}{x}|_{y=0} \\frac{1}{x} dx)$$\n",
    "$$=exp(ln|x|-ln|x_0|)=|x|$$"
   ]
  },
  {
   "cell_type": "markdown",
   "metadata": {},
   "source": [
    "## 4、"
   ]
  },
  {
   "cell_type": "markdown",
   "metadata": {},
   "source": [
    "解;\n",
    "$$\\frac{\\partial \\phi}{\\partial y_0}=-f(x_0,y_0,\\lambda)exp[\\int_{x_0}^x \\frac{\\partial f(x,\\phi,\\lambda)}{\\partial y} dx]=0$$\n",
    "\n",
    "$$\n",
    "\\frac{\\partial \\phi}{\\partial y_0}=exp[\\int_{x_0}^x \\frac{\\partial f(x,\\phi,\\lambda)}{\\partial y} dx]\n",
    "$$\n",
    "$$=exp[\\frac{\\lambda}{2}(x^2-x_0^2)]=exp(\\frac{x^2}{2}$$"
   ]
  },
  {
   "cell_type": "markdown",
   "metadata": {
    "collapsed": true
   },
   "source": [
    " # <font color='red'>A＋  20/10"
   ]
  },
  {
   "cell_type": "code",
   "execution_count": null,
   "metadata": {
    "collapsed": true
   },
   "outputs": [],
   "source": []
  }
 ],
 "metadata": {
  "kernelspec": {
   "display_name": "Python 2",
   "language": "python",
   "name": "python2"
  },
  "language_info": {
   "codemirror_mode": {
    "name": "ipython",
    "version": 2
   },
   "file_extension": ".py",
   "mimetype": "text/x-python",
   "name": "python",
   "nbconvert_exporter": "python",
   "pygments_lexer": "ipython2",
   "version": "2.7.10"
  }
 },
 "nbformat": 4,
 "nbformat_minor": 0
}
