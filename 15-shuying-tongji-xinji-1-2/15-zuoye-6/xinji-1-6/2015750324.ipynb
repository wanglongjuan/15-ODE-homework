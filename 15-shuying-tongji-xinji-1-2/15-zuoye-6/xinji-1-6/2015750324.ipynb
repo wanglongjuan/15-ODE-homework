{
 "cells": [
  {
   "cell_type": "markdown",
   "metadata": {},
   "source": [
    "1.假设函数$f(x,y)及\\frac{\\partial f}{\\partial y}$都在区域G内连续，又$y=\\phi(x,x_0,y_0)$是教材中方程（3.1）满足初始条件$\\phi(x_0,x_0,y_0)=y_0$的解，试证明$\\frac{\\partial \\phi}{\\partial y_0}$存在且连续，并写出其表达式."
   ]
  },
  {
   "cell_type": "markdown",
   "metadata": {},
   "source": [
    "解：\n",
    "\n",
    "由可微性定理可知，若$f(x,y)及\\frac{\\partial f}{\\partial y}$都在区域G内连续时，方程（3.1）的解$y=\\phi(x,x_0,y_0)$作为$x,x_0,y_0$的函数在存在范围内是连续可微的.即$\\frac{\\partial \\phi}{\\partial x},\\frac{\\partial \\phi}{\\partial x_0}\\frac{\\partial \\phi}{\\partial y_0}$都存在，且在存在范围内连续.\n",
    "\n",
    "同理，即可证明本题中$\\frac{\\partial \\phi}{\\partial y_0}$存在且连续.其表达式为\n",
    "$$\\frac{\\partial \\phi}{\\partial y_0}=exp(\\int_{x_0}^x\\frac{\\partial f(x,\\phi)}{\\partial y}dx)$$"
   ]
  },
  {
   "cell_type": "markdown",
   "metadata": {},
   "source": [
    "2.假设函数$P(x)和Q(x)于区间[\\alpha \\beta]$上连续，$y=\\phi(x,x_0,y_0)$是方程\n",
    "$$\\frac{dy}{dx}=P(x)y+Q(x)$$的解，$y_0=\\phi(x_0,,x_0,y_0).试求\\frac{\\partial \\phi}{\\partial x_0},\\frac{\\partial \\phi}{\\partial y_0},\\frac{\\partial \\phi}{\\partial x}$并从解的表达式出发，利用对参数求导数的方法，检验所得结果."
   ]
  },
  {
   "cell_type": "markdown",
   "metadata": {},
   "source": [
    "解：\n",
    "\n",
    "这里$f(x,y)=P(x)y+Q(x),\\frac{\\partial f}{\\partial y}=P(x)$初始条件为$y_0=\\phi(x_0,x_0,y_0)$\n",
    "\n",
    "由可微性定理可得\n",
    "$$\n",
    "\\begin{aligned}\n",
    "\\frac{\\partial \\phi}{\\partial x_0}&=-f(x_0,y_0)exp(\\int_{x_0}^x\\frac{\\partial f(x,\\phi)}{\\partial y}dx)\\\\\\\n",
    "&=-(P(x_0)y_0+Q(x_0))exp(\\int_{x_0}^xP(x)dx),\\\\\\\n",
    "\\frac{\\partial \\phi}{\\partial y_0}&=exp(\\int_{x_0}^x\\frac{\\partial f(x,\\phi)}{\\partial y}dx)\\\\\\\n",
    "&=exp(\\int_{x_0}^xP(x)dx),\\\\\\\n",
    "\\end{aligned}\n",
    "$$\n",
    "\n",
    "$$\\frac{\\partial \\phi}{\\partial x}=f(x,\\phi(x,x_0,y_0))=P(x)\\phi(x,x_0,y_0)+Q(x)$$\n",
    "\n",
    "因为方程$\\frac{dy}{dx}=P(x)y+Q(x)的通解为$$y=e^{\\int P(x)dx}(\\int Q(x)\\cdot e^{-\\int P(x)dx}dx+c)$$\n",
    "\n",
    "所以，方程$\\frac{dy}{dx}=P(x)y\n",
    "Q(x)$的具有初始条件$y(x_0)=x_0$的特解可以写成\n",
    "$$y=\\phi(x,x_0,y_0)=e^{\\int_{x_0}^x P(s)ds}(\\int_{x_0}^x Q(t)\\cdot e^{-\\int{x_0}^t -P(s)ds} \\cdot dt+y_0)$$\n",
    "\n",
    "利用对参数求导数的方法可得\n",
    "$$\n",
    "\\begin{aligned}\n",
    "\\frac{\\partial \\phi}{\\partial x_0}  &=e^{\\int_{x_0}^x P(s)ds}\\cdot (-P(x_0))(\\int_{x_0}^x Q(t)\\cdot e^{-\\int{x_0}^t -P(s)ds} \\cdot dt+y_0)+e^{\\int_{x_0}^x P(s)ds}[-Q(x_0)e^{\\int_{x_0}^x P(s)ds}+(\\int_{x_0}^x Q(t)e^{\\int_{x_0}^t -P(s)ds}dt × P(x_0)] \\\\\\\n",
    "&=-(P(x_0)y_0+Q(x_0))e^{\\int_{x_0}^x P(s)ds},\\\\\\\n",
    "\\frac{\\partial \\phi}{\\partial y_0}&=e^{\\int_{x_0}^x P(s)ds}\n",
    "\\end{aligned}\n",
    "$$\n",
    "\n",
    "$$\n",
    "\\begin{aligned}\n",
    "\\frac{\\partial \\phi}{\\partial x}&=e^{\\int_{x_0}^x P(s)ds} \\cdot P(x) \\cdot (\\int_{x_0}^x Q(t)\\cdot e^{-\\int{x_0}^t(-P(s))ds} \\cdot dt+y_0)+e^{\\int_{x_0}^t P(s)ds}\\cdot Q(x) \\cdot e^{\\int_{x_0}^t -P(s)ds}\\\\\\\n",
    "&=P(x)\\phi +Q(x)\n",
    "\\end{aligned}\n",
    "$$\n",
    "\n",
    "与前面结论一致."
   ]
  },
  {
   "cell_type": "markdown",
   "metadata": {},
   "source": [
    "3.给定方程\n",
    "$$\\frac{dy}{dx}=sin(\\frac{y}{x}),$$试求$\\frac{\\varphi(x,x_0,y_0)}{\\varphi x_0},\\frac{\\varphi(x,x_0,y_0)}{\\varphi y_0}在x_0=1,y_0=0时的表达式.$"
   ]
  },
  {
   "cell_type": "markdown",
   "metadata": {},
   "source": [
    "解：\n",
    "\n",
    "设$f(x,y)=sin(\\frac{y}{x}),则\\frac{\\partial f}{\\partial y}=\\frac{1}{x}cos(\\frac{y}{x})$,\n",
    "\n",
    "由解对初值的可微性可得\n",
    "\n",
    "$$\n",
    "\\begin{aligned}\n",
    "\\frac{\\partial y(x,x_0,y_0)}{\\partial x_0}&=-f(x_0,y_0)exp(\\int_{x_0}^x \\frac{\\partial f(x,\\varphi)}{\\partial y}dx)\\\\\\\n",
    "&=-sin(\\frac{y_0}{x_0})exp(\\int_{x_0}^x \\frac{1}{x}cos\\frac{y}{x}dx)\n",
    "\\end{aligned}\n",
    "$$\n",
    "\n",
    "$$\n",
    "\\begin{aligned}\n",
    "\\frac{\\partial y(x,x_0,y_0)}{\\partial y_0}&=exp(\\int_{x_0}^x \\frac{\\partial f(x,\\varphi)}{\\partial y}dx)\\\\\\\n",
    "&=exp(\\int_{x_0}^x \\frac{1}{x}cos\\frac{y}{x}dx)\n",
    "\\end{aligned}\n",
    "$$\n",
    "\n",
    "当$x_0=1,y_0=0时$，对应地得到\n",
    "\n",
    "$\\left. \\frac{\\partial y(x,x_0,y_0)}{\\partial x_0} \\right| _{x_0=1,y_0=0}=0$\n",
    "\n",
    "$\\left. \\frac{\\partial y(x,x_0,y_0)}{\\partial y_0} \\right| _{x_0=1,y_0=0}=exp(\\int_1^x \\frac{1}{x}dx)=|x|$.\n",
    "\n",
    "所以，在$x_0=1,y_0=0时，\\frac{\\partial y}{\\partial x_0}=0,\\frac{\\partial y}{\\partial y_0}=|x|$"
   ]
  },
  {
   "cell_type": "markdown",
   "metadata": {},
   "source": [
    "4.设$y=\\varphi(x,x_0,y_0,\\lambda)=y_0$是初值问题\n",
    "$$\\frac{dy}{dx}=\\sin{\\lambda x y}，\\phi{x_0,x_0,y_0,\\lambda}=y_0$$\n",
    "的饱和解，这里$\\lambda$是参数，求$\\frac{\\partial \\varphi}{\\partial x_0},\\frac{\\partial \\varphi}{\\partial y_0}$在（x,0,0,1）处的表达式."
   ]
  },
  {
   "cell_type": "markdown",
   "metadata": {},
   "source": [
    "解：\n",
    "\n",
    "把参数$\\lambda$看成常数，\n",
    "\n",
    "$f(x,y)=sin(\\lambda xy),\\ \\ \\frac{\\partial f}{\\partial y}=\\lambda xcos(\\lambda xy)$,\n",
    "\n",
    "由解对初值的可微性定理可得\n",
    "\n",
    "$$\n",
    "\\begin{aligned}\n",
    "\\frac{\\partial \\varphi}{\\partial x_0}&=-f(x_0,y_0)exp(\\int_{x_0}^x \\frac{\\partial f(x,\\varphi)}{\\partial y}dx)\\\\\\\n",
    "&=-sin(\\lambda x_0y_0)exp(\\int_{x_0}^x \\lambda xcos(\\lambda x \\varphi)dx)\n",
    "\\end{aligned}\n",
    "$$\n",
    "\n",
    "$$\n",
    "\\begin{aligned}\n",
    "\\frac{\\partial \\varphi}{\\partial y_0}=exp(\\int_{x_0}^x \\frac{\\partial f(x,\\varphi)}{\\partial y}dx)\\\\\\\n",
    "&=exp(\\int_{x_0}^x \\lambda xcos(\\lambda x \\varphi)dx)\n",
    "\\end{aligned}\n",
    "$$\n",
    "\n",
    "$当x_0=0,y_0=0,\\lambda=1$时，则有\n",
    "\n",
    "$$\\left. \\frac{\\partial \\varphi}{\\partial x_0} \\right| _{(x,0,0,1)}=0$$\n",
    "\n",
    "$$\\left. \\frac{\\partial \\varphi}{\\partial y_0} \\right| _{(x,0,0,1)}=exp(\\int_0^x xcos0dx)=exp(\\frac{x^2}{2})$$"
   ]
  },
  {
   "cell_type": "markdown",
   "metadata": {
    "collapsed": true
   },
   "source": [
    " # <font color='red'>A  20/10"
   ]
  },
  {
   "cell_type": "code",
   "execution_count": null,
   "metadata": {
    "collapsed": true
   },
   "outputs": [],
   "source": []
  }
 ],
 "metadata": {
  "kernelspec": {
   "display_name": "SageMath 7.3",
   "language": "",
   "name": "sagemath"
  },
  "language_info": {
   "codemirror_mode": {
    "name": "ipython",
    "version": 2
   },
   "file_extension": ".py",
   "mimetype": "text/x-python",
   "name": "python",
   "nbconvert_exporter": "python",
   "pygments_lexer": "ipython2",
   "version": "2.7.10"
  }
 },
 "nbformat": 4,
 "nbformat_minor": 0
}
