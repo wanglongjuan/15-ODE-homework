{
 "cells": [
  {
   "cell_type": "markdown",
   "metadata": {
    "collapsed": false
   },
   "source": [
    "$P_(102)$"
   ]
  },
  {
   "cell_type": "markdown",
   "metadata": {},
   "source": [
    "1.假设函数f(x,y)及$\\frac {\\partial f}{\\partial y}$都在区域G内连续，又$y=\\varphi (x,x_0,y_0)是方程\\frac{dy}{dx}=f(x,y,\\lambda)$的满足初始条件$\\varphi (x_0,x_0,y_0)=y_0$的解，试证$\\frac{\\partial \\varphi}{\\partial y_0}$存在且连续，并写出其表达式."
   ]
  },
  {
   "cell_type": "markdown",
   "metadata": {},
   "source": [
    "解：记初值为$（x_0,y_0+\\Delta y_0）的解为y=\\psi (x,x_0,y_0+\\Delta y_0),其中\\mid \\Delta y_0 \\mid \\leq \\alpha,\\alpha足够小$，则有\n",
    "$$\\varphi= y_0 +\\int_{x_0}^x \\mathrm f(s,\\varphi (s)) \\,\\mathrm{d}s,\\psi= y_0+  \\Delta y_0 + \\int_{x_0}^x \\mathrm f(s,\\psi (s))\\,\\mathrm{d}s.$$\n",
    "\n",
    "$$\\phi - \\varphi =\\Delta y_0+\\int_{x_0}^x \\mathrm[f(s,\\psi(s))-f(s,\\varphi(s))]\\,\\mathrm{d}s $$\n",
    "\n",
    "$$=\\Delta y_0+\\int_{x_0}^x \\mathrm {\\frac{\\partial f(s,\\varphi + \\theta( \\psi - \\varphi))}{\\partial y}(\\psi (s)-\\varphi(s))}\\,\\mathrm{d}s ,其中\\theta \\in [0,1]$$\n",
    "\n",
    "由$\\frac{\\partial f}{\\partial y}及\\varphi \\psi 的连续性，有$\n",
    "$$\\frac{\\partial f(s,\\varphi +\\theta(\\psi -\\varphi))}{\\partial y}=\\frac{\\partial f(s,\\varphi)}{\\partial y}+ r,$$\n",
    "\n",
    "即对$\\Delta y_0 \\neq 0有$\n",
    "$$\\frac{\\psi - \\varphi}{\\Delta_0}=1+\\int_{x_0}^x \\mathrm {[\\frac{\\partial f(s,\\varphi)}{\\partial y}+r]\\frac{\\psi-\\varphi}{\\Delta y_0}}\\,\\mathrm{d}s$$\n",
    "\n",
    "即$z=\\frac{\\psi-\\varphi}{\\Delta y_0}$是微分方程初值问题\n",
    "$$\\begin{cases}\\frac{dz}{dx}=[\\frac{\\partial f(x,\\varphi)}{\\partial y}+r]· z \\\\ z(x_0)=1 \\end{cases} 的解，$$\n",
    "\n",
    "即$$\\frac{\\psi-\\varphi}{\\Delta y_0}=z= exp·   \\int_{x_0}^x [\\frac{\\partial f(s, \\varphi)}{ \\partial y}+r] \\, \\mathrm{d}s$$\n",
    "\n",
    "于是$$\\frac{\\partial \\varphi}{\\partial y_0}= \\lim_{{\\Delta y_0} \\to 0} \\frac{\\phi -\\varphi}{\\Delta y_0}= exp ·\\int_{x_0}^x \\frac{\\partial f(s,\\varphi)}{\\partial y}\\,\\mathrm{d}s$$\n",
    "\n",
    "它$是x，x_0，y_0的连续函数$"
   ]
  },
  {
   "cell_type": "markdown",
   "metadata": {},
   "source": [
    "2.假设函数P（x）和Q(X)于区间$[\\alpha ,\\beta]$上连续，$y=\\varphi(x,x_0,y_0)$是方程$\\frac{dy}{dx}=P(x)y+Q(x)的解，y_0=\\varphi(x_0,x_0,y_0).试求\\frac{\\partial \\varphi}{\\partial x_0},\\frac{\\partial \\varphi}{\\partial y_0}及\\frac{\\partial \\varphi}{\\partial x},并从解得表达式出发，利用对参数求导数的方法，检验所得的结果。$"
   ]
  },
  {
   "cell_type": "markdown",
   "metadata": {
    "collapsed": true
   },
   "source": [
    "解：$由于f(x,y）=P(x)y+Q(x),所以\\frac{\\partial f}{\\partial y}=P(x)$.\n",
    "由结对初值的可微行定理得$$\\frac{\\partial \\varphi}{\\partial x_0}=-f(x_0,y_0) exp [\\int_{x_0}^x  \\frac{\\partial f(s,\\varphi)}{\\partial y}\\,\\mathrm{d}s=-[P(x_0)y_0 +Q(x_0)]exp[\\int_{x_0}^x P(s)\\,\\mathrm{d}s]$$\n",
    "\n",
    "$$\\frac{\\partial \\varphi}{\\partial y_0}=exp[\\int_{x_0}^x \\frac{\\partial f(s,\\varphi)}{\\partial y}\\,\\mathrm{d}x]=exp[\\int_{x_o}^x P(s)\\,\\mathrm{d}s].$$\n",
    "\n",
    "$$\\frac{\\partial \\varphi}{\\partial x}=f=(x,\\varphi(x,x_0,y_0))=P(x)\\varphi(x,x_0,y_0)+Q(x).$$\n",
    "\n",
    "因为非齐次线性方程有解的表达式$$y=e^{\\int p(x)\\,\\mathrm{d}x} [\\int {Q(x) e^{- \\int p(x)\\,\\mathrm{d}x}}\\,\\mathrm{d}x +c,$$\n",
    "\n",
    "于是$$\\varphi (x,x_0,y_0)=y_0 ·e^{\\int_{x_0}^x P(x)\\,\\mathrm{d}x} + \\int_{x_0}^x {Q(s) e^{\\int_s^x P(t)\\,\\mathrm{d}t}}.$$\n",
    "\n",
    "直接对参数求导可得$$\\frac{\\partial \\varphi(x,x_0,y_0)}{\\partial x_0}=-P(x_0)y_0 e^{\\int_{x_0}^x P(x)\\,\\mathrm{d}s} -Q(x_0)e^{\\int_{x_0}^x P(x)\\,\\mathrm{d}s}=-[P(x_0)y_0 +Q(x_0)e^{\\int_{x_0}^x P(x)\\,\\mathrm{d}s}]$$\n",
    "\n",
    "$$\\frac{\\partial \\varphi(x,x_0,y_0)}{\\partial y_0}=e^{\\int_{x_0}^x P(x)\\,\\mathrm{d}s}$$\n",
    "\n",
    "$$\\frac{\\partial \\varphi(x,x_0,y_0)}{\\partial x}= P(x)y_0 e^{\\int_{x_0}^x P(x)\\,\\mathrm{d}s}+Q(x)+  \\int_{x_0}^x P(x)Q（s）e^{\\int_s^x P(t)\\,\\mathrm{d}t}\\,\\mathrm{d}s $$\n",
    "$$=P(x)\\varphi(x,x_0,y_0)+Q(x).$$\n",
    "经检验，与解对初值的可微行定理中的公式一致。"
   ]
  },
  {
   "cell_type": "markdown",
   "metadata": {},
   "source": [
    "3.给定方程$$\\frac{dy}{dx}=sin（\\frac{y}{x}）$$,试求$\\frac{\\partial \\varphi(x,x_0,y_0)}{\\partial x_0},\\frac{\\partial \\varphi(x,x_0,y_0)}{\\partial y_0}在x_0=1, y_0=0时的表达式。$"
   ]
  },
  {
   "cell_type": "markdown",
   "metadata": {},
   "source": [
    "解：设$f(x,y)=\\sin(\\frac{y}{x}),则\\frac{\\partial f}{\\partial y}=\\frac{1}{x} \\cos(\\frac{y}{x})$.\n",
    "\n",
    "有解对初值的可微行定理的证明可知\n",
    "$$\\frac{\\partial \\varphi(x,x_0,y_0)}{\\partial x_0}=-f(x_0,y_0) exp(\\int_{x_0}^x \\frac{\\partial f(x,y)}{\\partial y}\\,\\mathrm{d}s)$$\n",
    "\n",
    "$$=-\\sin(\\frac{y_0}{x_0}) xp(\\int_{x_0}^x \\frac{1}{x} \\cos(\\frac{y}{s}) \\,\\mathrm{d}s),$$\n",
    "\n",
    "$$\\frac{\\partial \\varphi(x,x_0,y_0)}{\\partial y_0}=exp(\\int_{x_0}^x \\frac{\\partial f(s,y)}{\\partial y}\\,\\mathrm{d}s)=exp(\\int_{x_0}^x \\frac{1}{s} \\cos(\\frac{y}{s}))$$\n",
    "\n",
    "\n",
    "\n",
    "当$x_0=1,y_0=0时，对应得到\\left.\\frac{\\partial \\varphi(x,x_0,y_0)}{\\partial x_0} \\right|_{x_0=1,y_0=0} = exp(\\int_1^x \\frac{1}{s}\\,\\mathrm{d}s)=\\mid x \\mid$\n",
    "\n",
    "$所以在x_0=1，y_0=0时， \\frac{\\partial y}{\\partial x_0} =0,\\frac{\\partial y}{\\partial y_0}=\\mid x\\mid$"
   ]
  },
  {
   "cell_type": "markdown",
   "metadata": {},
   "source": [
    "4.$设y=\\varphi（x,x_0,y_0,\\lambda）是初值问题$ $$\\frac{dy}{dx}=\\sin(\\lambda xy) ,\\varphi(x_0,x_0,y_0,\\lambda)=y_0$$的饱和解，这里$\\lambda 是参数，求\\frac{\\partial \\varphi}{\\partial x_0},\\frac{\\partial \\varphi}{\\partial y_0}在(x,0,0,1)处的表达式$"
   ]
  },
  {
   "cell_type": "markdown",
   "metadata": {},
   "source": [
    "解：这里$f（x,y）= \\sin(\\lambda xy),\\frac{f}{y}=\\lambda x \\cos(\\lambda xy).$\n",
    "由解对初值可微行定理得$$\\frac{\\partial \\varphi}{\\partial x_0}=-f(x_0,y_0)  exp(\\int_{x_0}^x  \\frac{\\partial f(s,\\varphi)}{\\partial y}\\,\\mathrm{d}s)=-sin(\\lambda x_0 y_0)exp(\\int_{x_0}^x \\lambda s \\cos(\\lambda s \\varphi)\\,\\mathrm{d}s)$$\n",
    "\n",
    "$$\\frac{\\partial \\varphi}{\\partial y_0}=exp(\\int_{x_0}^x \\frac{\\partial f(s,\\varphi)}{\\partial y} \\,\\mathrm{d}s)=exp(\\int_{x_0}^x\\lambda s \\cos(\\lambda s \\varphi)\\,\\mathrm{d}s).$$\n",
    "\n",
    "当$x_0=0,y_0=0,\\lambda =1时，则有\\left. \\frac{\\partial \\varphi}{\\partial x_0} \\right|_{(x,0,0,1)} =0,$\n",
    "\n",
    "$\\left. \\frac{\\partial \\varphi}{\\partial x_0} \\right|_{(x,0,0,1)} =exp(\\int_0^x s \\cos(0)\\,\\mathrm{d}s)=exp(\\frac{x^2}{2}).$"
   ]
  },
  {
   "cell_type": "markdown",
   "metadata": {},
   "source": [
    " # <font color='red'>A  20/10"
   ]
  },
  {
   "cell_type": "code",
   "execution_count": null,
   "metadata": {
    "collapsed": true
   },
   "outputs": [],
   "source": []
  }
 ],
 "metadata": {
  "kernelspec": {
   "display_name": "Python 2",
   "language": "python",
   "name": "python2"
  },
  "language_info": {
   "codemirror_mode": {
    "name": "ipython",
    "version": 2
   },
   "file_extension": ".py",
   "mimetype": "text/x-python",
   "name": "python",
   "nbconvert_exporter": "python",
   "pygments_lexer": "ipython2",
   "version": "2.7.10"
  }
 },
 "nbformat": 4,
 "nbformat_minor": 0
}
