{
 "cells": [
  {
   "cell_type": "markdown",
   "metadata": {},
   "source": [
    "焦畅  2015750325"
   ]
  },
  {
   "cell_type": "markdown",
   "metadata": {},
   "source": [
    "3.3\n",
    "\n",
    "1.由初值为$(x_0,y_0+\\Delta y_0)$的解为\n",
    "$y=\\psi(x,x_0,y_0+\\Delta y_0)$，其中$|\\Delta y_0| \\leq \\alpha$，则有\n",
    "$$\\phi = y_0 +\\int_{x_0}^x f(s,\\phi(s))\\mathrm d s,\\psi=y_0+\\Delta y_0+ \\int_{x_0}^x f(s,\\psi(s))\\mathrm d s$$\n",
    "$$\\psi-\\phi=\\Delta y_0+\\int_{x_0}^x [f(s,\\psi(s))-f(s,\\phi(s))]\\mathrm d s=\\Delta y_0+\\int_{x_0}^x \\frac{\\partial f(s,\\phi +\\theta(\\psi-\\phi))}{\\partial y} (\\psi(s)-\\phi(s))\\mathrm d s$$\n",
    "\n",
    "$由\\frac{\\partial f}{\\partial y}$及$\\phi,\\psi$的连续性，\n",
    "有$$\\frac{\\partial f(s,\\varphi +\\theta(\\psi-\\phi))}{\\partial y}=\\frac{\\partial f(s,\\phi)}{\\partial y}+r$$\n",
    "其中$r$满足：$\\Delta y_0 \\to 0$时$r \\to 0,\\Delta y_0 = 0$时$r=0$\n",
    "即对$\\Delta y_0 \\neq 0$有\n",
    "$$\\frac{\\psi-\\phi}{\\Delta y_0}=1+\\int_{x_0}^x[\\frac{\\partial f(s,\\phi)}{\\partial y}+r]\\frac{\\psi-\\phi}{\\Delta y_0}\\mathrm d s$$\n",
    "即$z=\\frac{\\psi-\\phi}{\\Delta y_0}$是微分方程初值问题\n",
    "$$\\begin{cases}\n",
    "\\frac{\\mathrm d z}{\\mathrm d x}=[\\frac{\\partial f(s,\\phi)}{\\partial y}]z \\\\\n",
    "z(x_0)=1\n",
    "\\end{cases}$$的解\n",
    "\n",
    "即$$\\frac{\\psi-\\phi}{\\Delta y_0}=z=exp(\\int_{x_0}^x[\\frac{\\partial f(s,\\phi)}{\\partial y}+r]\\mathrm d s)$$\n",
    "于是$$\\frac{\\partial \\phi}{\\partial y_0}=\\lim \\limits_{\\Delta y_0 \\to 0}\\frac{\\psi-\\phi}{\\Delta y_0}=exp(\\int_{x_0}^x[\\frac{\\partial f(s,\\phi)}{\\partial y}]\\mathrm d s)$$\n",
    "它是$x,x_0,y_0$的连续函数  \n"
   ]
  },
  {
   "cell_type": "markdown",
   "metadata": {},
   "source": [
    "2\n",
    "\n",
    "$这里f(x,y)=P(x)y+Q(x),\\frac{\\partial f}{\\partial y}=P(x),初始条件为y_0=\\phi(x_0,x_0,y_0),根据解对初值的可微性定理可得$\n",
    "\n",
    "$$\\frac{\\partial \\phi}{\\partial x_0}=-f(x_0,y_0)exp(\\int_{x_0}^x \\frac{\\partial f(x,\\phi)}{\\partial y}dx)=-(P(x_0)y_0+Q(x_0))exp(\\int_{x_0}^x  P(x)dx),$$\n",
    "$$\\frac{\\partial \\phi}{\\partial y_0}=exp(\\int_{x_0}^x \\frac{\\partial f(x,\\phi)}{\\partial y}dx)=exp(\\int_{x_0}^x  P(x)dx),$$\n",
    "$$\\frac{\\partial \\phi}{\\partial x_0}=f(x,\\phi (x,x_0,y_0))=P(x)\\phi (x,x_0,y_0)+Q(x)$$\n",
    "$又可知方程\\frac {dy}{dx}=P(x)y+Q(x)的通解为y=e^{\\int p(x)dx}(\\int Q(x)e^{-\\int p(x)dx}dx+c)$\n",
    "\n",
    "$而方程\\frac {dy}{dx}=P(x)y+Q(x)的具有初始条件y(x_0)=x_0的特解可以写成y=\\phi (x,x_0,y_0)=e^{\\int_{x_0}^x P(s)ds}(\\int_{x_0}^x Q(t)e^{\\int_{x_0}^x -P(s)ds}dt+y_0)$\n",
    "\n",
    "$利用可得参数导数的方法可得$\n",
    "\n",
    "$$\\frac{\\partial \\phi}{\\partial x_0}=e^{\\int_{x_0}^x P(s)ds}(-P(x_0))(\\int_{x_0}^x Q(t)e^{\\int_{x_0}^x (-P(s))ds}dt+y_0)+e^{\\int_{x_0}^x }[-Q(x_0)e^{\\int_{x_0}^x -P(s)ds}+(\\int_{x_0}^x Q(t)e^{\\int_{x_0}^x -P(s)ds}dt)P(x_0)]=-(P(x_0)y_0+Q(x_0))e^{\\int_{x_0}^x P(s)ds}$$\n",
    "\n",
    "$$\\frac{\\partial \\phi}{\\partial y_0}e^{\\int_{x_0}^x P(s)ds}$$\n",
    "\n",
    "$$\\frac{\\partial \\phi}{\\partial x}=e^{\\int_{x_0}^x P(s)ds}P(x)(\\int_{x_0}^x Q(t)e^{\\int_{x_0}^x -P(s)ds}dt+y_0)+e^{\\int_{x_0}^x P(s)ds}Q(x)e^{\\int_{x_0}^x -P(s)ds}=P(x)\\phi+Q(x)$$\n",
    "\n",
    "$与前面解出的结论一致。$"
   ]
  },
  {
   "cell_type": "markdown",
   "metadata": {},
   "source": [
    "3\n",
    "\n",
    "$设f(x,y)=sin(\\frac{y}{x}),则\\frac{\\partial f}{\\partial y}=\\frac{1}{x}=cos(\\frac{y}{x}),由解对初值的可微性定理的证明可得$\n",
    "$$\\frac{\\partial y(x,x_0,y_0)}{\\partial x_0}=-f(x_0,y_0)exp(\\int_{x_0}^x \\frac{\\partial f(x,\\phi)}{\\partial y}dx)=-sin(\\frac {y_0}{x_0})exp(\\int_{x_0}^x \\frac{1}{x}cos{\\frac {y}{x}}dx),$$\n",
    "$$\\frac {\\partial y(x,x_0,y_0)}{\\partial y_0}=exp(\\int_{x_0}^x \\frac{\\partial f(x,\\phi)}{\\partial y}dx)=exp(\\int_{x_0}^x \\frac{1}{x}cos{\\frac {y}{x}}dx)$$\n",
    "$当x_0=1,y_0=0时，对应得到$\n",
    "\n",
    "$$\\frac {\\partial y(x,x_0,y_0)}{\\partial x_0}|_{x_0=1,y_0=0}=0 $$\n",
    "$$\\frac {\\partial y(x,x_0,y_0)}{\\partial y_0}|_{x_0=1,y_0=0}=esp(\\int_1^x\\frac {1}{x}dx)=|x|$$\n",
    "\n",
    "$所以在x_0=1,y_0=0时，\\frac {\\partial y}{\\partial x_0}=0,\\frac{\\partial y}{\\partial y_0}=|x|$"
   ]
  },
  {
   "cell_type": "markdown",
   "metadata": {},
   "source": [
    "4\n",
    "\n",
    "$这里f(x,y)=sin(\\lambda xy),\\frac{\\partial f}{\\partial y}=\\lambda xcos(\\lambda xy)由解对初值的可微性定理的证明可得$\n",
    "\n",
    "$$\\frac {\\partial \\phi}{\\partial x_0}=-f(x_0,y_0)exp(\\int_{x_0}^x \\frac{\\partial f(x,\\phi)}{\\partial y}dx)=-sin(\\lambda x_0,_0)exp(\\int_{x_0}^x \\lambda x cos(\\lambda x\\phi)dx)$$\n",
    "$$\\frac {\\partial \\phi}{\\partial y_0}=exp(\\int_{x_0}^x \\frac{\\partial f(x,\\phi)}{\\partial y}dx)=exp(\\int_{x_0}^x \\lambda x cos(\\lambda x\\phi)dx)$$\n",
    "$当x_0=0y_0=0,\\lambda=1时，有$\n",
    "\n",
    "$$\\frac {\\partial \\phi}{\\partial x_0}|_{x,0,0,1}=0$$\n",
    "\n",
    "$$\\frac {\\partial \\phi}{\\partial y_0}|_{x,0,0,1}=exp(\\int_0^xxcos0dx)=exp(\\frac{x^2}{2})$$\n"
   ]
  },
  {
   "cell_type": "markdown",
   "metadata": {},
   "source": [
    " # <font color='red'>A  20/10"
   ]
  },
  {
   "cell_type": "code",
   "execution_count": null,
   "metadata": {
    "collapsed": true
   },
   "outputs": [],
   "source": []
  }
 ],
 "metadata": {
  "kernelspec": {
   "display_name": "SageMath 7.3",
   "language": "",
   "name": "sagemath"
  },
  "language_info": {
   "codemirror_mode": {
    "name": "ipython",
    "version": 2
   },
   "file_extension": ".py",
   "mimetype": "text/x-python",
   "name": "python",
   "nbconvert_exporter": "python",
   "pygments_lexer": "ipython2",
   "version": "2.7.10"
  }
 },
 "nbformat": 4,
 "nbformat_minor": 0
}
