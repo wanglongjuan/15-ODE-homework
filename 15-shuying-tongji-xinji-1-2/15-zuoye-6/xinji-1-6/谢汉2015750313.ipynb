{
 "cells": [
  {
   "cell_type": "markdown",
   "metadata": {},
   "source": [
    "               "
   ]
  },
  {
   "cell_type": "markdown",
   "metadata": {},
   "source": [
    "一。\n",
    "记初值为 $ (x_0,y_0 + \\Delta y_0) $ 的解为 $ y = \\psi (x ,x_0 ,y_0 + \\Delta y_0) $ ，其中 $ |\\Delta y_0| \\leq \\alpha , \\alpha $ 足够小 ，则有\n",
    "\n",
    "$$\n",
    "\\phi = y_0 + \\int_{x_0}^xf(s ,\\phi(s))\\mathrm ds , \\psi = y_0 + \\Delta y_0 \\int_{x_0}^x f(s ,\\psi (s))\\mathrm ds\n",
    "$$\n",
    "\n",
    "$$\n",
    "\\psi - \\phi = \\Delta y_0 + \\int_{x_0}^x[f(s ,\\psi(s)) - f(s ,\\phi(s))]\\mathrm ds = \\Delta y_0 + \\int _{x_0}^x \\frac{\\partial f(s ,\\phi + \\theta(\\psi - \\phi))}{\\partial y}(\\psi(s) - \\phi(s)) \\mathrm ds\n",
    "$$ \n",
    "\n",
    "其中 $ \\theta \\in [0 ,1] $ , 由 $ \\frac{\\partial f}{\\partial y} $ 及 $ \\phi,\\psi $ 的连续性 ， 有 \n",
    "\n",
    "$$\n",
    "\\frac{\\partial f(s ,\\phi + \\theta(\\psi - \\phi))}{\\partial y} = \\frac{\\partial f(s ,\\phi)}{\\partial y} + r \n",
    "$$ \n",
    "\n",
    "其中 r 满足 ： $ \\Delta y_0 \\to 0 $ 时 $ r \\to 0 , \\Delta y_0 = 0 $ 时 $ r = 0. $  \n",
    "\n",
    "即对 $ \\Delta y_0 \\neq 0 $ 有\n",
    "\n",
    "$$\n",
    "\\frac{\\psi -\\phi}{\\Delta y_0} = 1 + \\int _{x_0}^x[\\frac{\\partial f(s ,\\phi)}{\\partial y} + r]\\frac{\\psi -\\phi}{\\Delta y_0}\\mathrm ds\n",
    "$$\n",
    "\n",
    "即 $ z = \\frac{\\psi -\\phi}{\\Delta y_0} $ 是微分方程初值问题 \n",
    "\n",
    "$$\n",
    "\\begin {cases}\n",
    "\\frac{\\mathrm dx}{\\mathrm dz} = [\\frac{\\partial f(x ,\\phi)}{\\partial y} + r]\\\\\n",
    "z(x_0) = 1\n",
    "\\end {cases}\n",
    "$$\n",
    "\n",
    "即 $ \\frac{\\psi -\\phi }{\\Delta y_0} = z = \\exp {[\\frac{\\partial f(s ,\\phi)}{\\partial y} + r]\\mathrm ds} $\n",
    "\n",
    "于是 \n",
    "\n",
    "$$\n",
    "\\ frac{\\partial \\phi}{\\partial y_0} = \\lim_{\\Delta y_0 \\to 0} \\frac{\\psi -\\phi}{\\Delta y_0} = \\exp{\\int_{x_0}^x[\\frac{\\partial f(s ,\\phi)}{\\partial y}] \\mathrm ds}\n",
    "$$\n",
    "\n",
    "它是 $ x , x_0 ,y_0 $ 的连续函数。"
   ]
  },
  {
   "cell_type": "markdown",
   "metadata": {},
   "source": [
    "二。\n",
    "由于 $ f(x ,y) = P(x)y + Q(x) $ , 所以 ， $ \\frac{\\partial f}{\\partial y} = P(x) $ .\n",
    "\n",
    "由解对初值的可微性定理得\n",
    "\n",
    "$$\n",
    "\\frac{\\partial \\varphi}{\\partial x_0} = -f(x_0 ,y_0) \\exp [\\int_{x_0}^x\\frac{\\partial f(s ,\\varphi)}{\\partial y}\\mathrm ds] = -[P(x_0)y_0 + Q(x_0)] \\exp [\\int_{x_0}^xP(s)\\mathrm ds]\n",
    "$$\n",
    "\n",
    "$$\n",
    "\\frac{\\partial \\varphi}{\\partial y_0} = \\exp [\\int_{x_0}^x\\frac{\\partial f(s ,\\varphi)}{\\partial y}\\mathrm ds] = \\exp [\\int_{x_0}^xP(s)\\mathrm ds]\n",
    "$$\n",
    "\n",
    "$$\n",
    "\\frac{\\partial \\varphi}{\\partial x} = f(x ,\\varphi(x ,x_0 ,y_0)) = P(x) \\varphi(x ,x_0 ,y_0) +Q(x)\n",
    "$$\n",
    "\n",
    "因为非齐次线性方程有解的表达式为\n",
    "\n",
    "$$\n",
    "y = e^{\\int P(x)\\mathrm dx}[\\int Q(x)e^{-\\int P(x)\\mathrm dx}+ c]\n",
    "$$\n",
    "\n",
    "于是 $ \\varphi(x ,x_0 ,y_0) = y_0*e^{\\int_{x_0}^xP(s)\\mathrm ds} + \\int_{x_0}^xQ(s)e^{\\int_s^xP(t)\\mathrm dt}\\mathrm ds$\n",
    "\n",
    "直接对参数求导可得\n",
    "\n",
    "$$\n",
    "\\frac{\\partial \\varphi(x ,x_0,y_0)}{\\partial x_0} = -P(x_0)y_0e^{\\int_{x_0}^xP(x)\\mathrm ds} - Q(x_0)e^{\\int_{x_0}^x}P(s)\\mathrm ds = -[P(x_0)y_0 + Q(x_0)]e^{\\int_{x_0}^x}P(s)\\mathrm ds\n",
    "$$\n",
    "\n",
    "$$\n",
    "\\frac{\\partial \\varphi(x ,x_0 ,y_0)}{\\partial y_0} = e^{\\int_{x_0}^xP(s)\\mathrm ds}\n",
    "$$\n",
    "\n",
    "$$\n",
    "\\frac{\\partial \\varphi(x ,x_0 ,y_0)}{\\partial x} = P(x)y_0e^{\\int_{x_0}^xP(s)\\mathrm ds} + Q(x) + \\int_{x_0}^xP(x)Q(s) e^{\\int_{x_0}^xP(t)\\mathrm dt}\\mathrm ds = P(x)[y_0e^{\\int_{x_0}^xP(s)\\mathrm ds} + \\int_{x_0}^xQ(s)e^{\\int_s^xP(t)\\mathrm dt}\\mathrm ds] + Q(x) = P(x)\\varphi(x ,x_0 ,y_0) + Q(x)\n",
    "$$"
   ]
  },
  {
   "cell_type": "markdown",
   "metadata": {},
   "source": [
    "三。\n",
    "设 $ f(x ,y) = \\sin(\\frac{y}{x}) ,$ 则  $ \\frac{\\partial f}{\\partial y} = \\frac{1}{x}\\cos(\\frac{y}{x}) $\n",
    "\n",
    "由解对初值的可微性定理的证明可知，\n",
    "\n",
    "$$\n",
    "\\frac{\\partial y(x ,x_0 ,y_0)}{\\partial x_0} = -f(x_0 ,y_0)\\exp(\\int_{x_0}^x\\frac{\\partial f(s ,y)}{\\partial y} \\mathrm ds) = -\\sin(\\frac{y_0}{x_0})\\exp(\\int_{x_0}{x}\\frac{1}{s}\\cos\\frac{y}{s}\\mathrm ds)\n",
    "$$\n",
    "\n",
    "$$\n",
    "\\frac{\\partial y(x ,x_0 ,y_0)}{\\partial y_0} = \\exp(\\int_{x_0}^x\\frac{\\partial f(s ,y)}{\\partial y}) = \\exp (\\int_{x_0}^x\\frac{1}{s}\\cos{y}{s}\\mathrm ds)\n",
    "$$\n",
    "\n",
    "当 $ x_0 = 1 ,y_0 = 0 $ 时 ，对应地得到  $\\frac{\\partial y(x ,x_0 y_0)}{\\partial x_0}|_{x_0 = 1 ,y_0 =0} = 0$\n",
    "\n",
    "$$\n",
    "\\frac{\\partial y(x ,x_0 y_0)}{\\partial y_0}|_{x_0 = 1 ,y_0 =0} = \\exp(\\int_1^x\\frac{1}{s}\\mathrm ds) = |x|\n",
    "$$\n",
    "\n",
    "所以在 $ x_0 = 1 ,y_0 = 0 $ 时 ， $ \\frac{\\partial y}{\\partial x_0} = 0 ,\\frac{\\partial y}{\\partial y_0} = |x| $"
   ]
  },
  {
   "cell_type": "markdown",
   "metadata": {},
   "source": [
    "四。\n",
    "这里  $ f(x ,y) = \\sin(\\lambda xy),\\frac{\\partial f}{\\partial y} = \\lambda x\\cos(\\lambda xy) $\n",
    "\n",
    "$$\n",
    "\\frac{\\partial \\varphi}{\\partial x_0} = -f(x_0 ,y_0)\\exp(\\int_{x_0}^x\\frac{\\partial f(s ,\\varphi)}{\\partial y}\\mathrm ds) = -\\sin (\\lambda x_0 y_0) \\exp (\\int_{x_0}^x \\lambda\\cos(\\lambda s\\varphi)\\mathrm ds)\n",
    "$$\n",
    "\n",
    "$$\n",
    "\\frac{\\partial \\varphi}{\\partial y_0} = \\exp(\\int_{x_0}^x\\frac{\\partial f(s ,\\varphi)}{\\partial y}\\mathrm ds) = \\exp (\\int_{x_0}^x \\lambda\\cos(\\lambda s\\varphi)\\mathrm ds)\n",
    "$$\n",
    "\n",
    "当  $ x_0 = 0, y_0 =0 , \\lambda =1 $ 时 ，则有  $\\frac{\\partial \\varphi}{\\partial x_0}|_{(x ,0 ,0 ,1)} = 0 $\n",
    "\n",
    "$$\n",
    "\\frac{\\partial \\varphi}{\\partial x_0}|_{(x ,0 ,0 ,1)} = \\exp (\\int_0^xs\\cos 0\\mathrm ds) = \\exp (\\frac{x^2}{2})\n",
    "$$"
   ]
  },
  {
   "cell_type": "markdown",
   "metadata": {
    "collapsed": true
   },
   "source": [
    " # <font color='red'>A  20/10"
   ]
  },
  {
   "cell_type": "code",
   "execution_count": null,
   "metadata": {
    "collapsed": true
   },
   "outputs": [],
   "source": []
  }
 ],
 "metadata": {
  "kernelspec": {
   "display_name": "SageMath 7.3",
   "language": "",
   "name": "sagemath"
  },
  "language_info": {
   "codemirror_mode": {
    "name": "ipython",
    "version": 2
   },
   "file_extension": ".py",
   "mimetype": "text/x-python",
   "name": "python",
   "nbconvert_exporter": "python",
   "pygments_lexer": "ipython2",
   "version": "2.7.10"
  }
 },
 "nbformat": 4,
 "nbformat_minor": 0
}
