{
 "cells": [
  {
   "cell_type": "raw",
   "metadata": {},
   "source": []
  },
  {
   "cell_type": "markdown",
   "metadata": {},
   "source": [
    "1.假设函数$f\\left(x,y\\right)$及$\\frac{\\partial f}{\\partial y}$都在区域G内连续，又$y=\\varphi\\left(x,x_0,y_0\\right)$是方程$\\frac{\\mathrm d y}{\\mathrm d x}=f\\left(x,y,\\lambda\\right)$的满足初始条件$\\varphi\\left(x_0,x_0,y_0\\right)=y_0$的解，试证$\\frac{\\partial\\varphi}{\\partial y_)}$存在且连续，并写出其表达式。"
   ]
  },
  {
   "cell_type": "markdown",
   "metadata": {},
   "source": [
    "解：记初值为$\\left(x_0,y_0+\\Delta y_0\\right)$的解为$y=\\psi\\left(x,x_0,y_0+\\Delta y_0\\right)$,其中$|\\Delta y_0|\\leq\\alpha,\\alpha$足够小，则有$$\\varphi=y_0+\\int_{x_0}^xf\\left(s,\\varphi\\left(s\\right)\\right)\\mathrm d s,\\psi=y_0+\\Delta y_0+\\int_{x_0}^xf\\left(s,\\psi\\left(s\\right)\\right)\\mathrm d s$$\n",
    "\n",
    "$\\psi-\\varphi=\\Delta y_0+\\int_{x_0}^x[f\\left(s,\\psi\\left(x\\right)\\right)-f\\left(s,\\varphi\\left(s\\right)\\right)]\\mathrm d s=\\Delta y_0+\\int_{x_0}^x\\frac{\\partial f\\left(s,\\psi\\left(s\\right)\\right)}{\\partial y}\\left(\\psi\\left(s\\right)-\\varphi\\left(s\\right)\\right)\\mathrm d s$，其中$\\theta\\in[0,1]$,\n",
    "\n",
    "由$\\frac{\\partial f}{\\partial y}及\\varphi,\\psi$的连续性，有$\\frac{\\partial f\\left(s,\\varphi+\\theta\\left(\\psi-\\varphi\\right)\\right)}{\\partial y}=\\frac{\\partial f\\left(s,\\varphi\\right)}{\\partial y}+y$,\n",
    "\n",
    "其中r满足：$\\Delta y_0\\rightarrow 0时r\\rightarrow 0,\\Delta y_0=0时r=0$"
   ]
  },
  {
   "cell_type": "markdown",
   "metadata": {},
   "source": [
    "即对$\\Delta y_0\\neq0$有$$\\frac{\\psi-\\varphi}{\\Delta y_0}=1+\\int_{x_0}^x[\\frac{\\partial f\\left(s,\\varphi\\right)}{\\partial y}+r]\\frac{\\psi-\\varphi}{\\Delta y_0}\\mathrm d s$$,\n",
    "\n",
    "即$z=\\frac{\\psi-\\varphi}{\\Delta y_0}$是微分方程初值问题的解\n",
    "\n",
    "即$\\frac{\\psi-\\varphi}{\\Delta y_0}=z=e^{\\int_{x_0}^x\\frac{\\partial f\\left(x,\\varphi\\right)}{\\partial y}+r\\mathrm d s}$\n",
    "\n",
    "于是$\\frac{\\partial\\varphi}{\\partial y_0}=\\lim_{\\Delta y_0\\to 0}\\frac{\\psi-\\varphi}{\\Delta y_0}=e^{\\int_{x_0}^x[\\frac{\\partial f\\left(s,\\varphi\\right)}{\\partial y}]\\mathrm d s}$\n",
    "\n",
    "即为$x,x_0,y_0$的连续函数"
   ]
  },
  {
   "cell_type": "markdown",
   "metadata": {},
   "source": [
    "2.假设函数$P\\left(x\\right)和Q\\left(x\\right)$于区间$[\\alpha,\\beta]$上连续，$y=\\varphi\\left(x,x_0,y_0\\right)$是方程$$\\frac{\\mathrm d y}{\\mathrm d x}=P\\left(x\\right)y+Q\\left(x\\right)$$\n",
    "\n",
    "的解，$y_0=\\varphi\\left(x_0,x_0,y_0\\right)$.试求$\\frac{\\partial\\varphi}{\\partial x_0},\\frac{\\partial\\varphi}{\\partial y_0},即\\frac{\\partial\\varphi}{\\partial x}$，并从解的表达式出发，利用对参数求导数的方法，检验所得结果。"
   ]
  },
  {
   "cell_type": "markdown",
   "metadata": {},
   "source": [
    "解：由于$f\\left(x,y\\right)=P\\left(x\\right)y+Q\\left(x\\right),所以\\frac{\\partial f}{\\partial y}=P\\left(x\\right).$\n",
    "\n",
    "由解对初值的可微性定理得\n",
    "\n",
    "$\\frac{\\partial\\varphi}{\\partial x_0}=-[P\\left(x_0\\right)y_0+Q\\left(x_0\\right)]e^{\\int_{x_0}^xP\\left(s\\right)\\mathrm d s}$\n",
    "\n",
    "$\\frac{\\partial\\varphi}{\\partial y}=e^{\\int_{x_0}^xP\\left(x\\right)\\mathrm d s}$\n",
    "\n",
    "$\\frac{\\partial\\varphi}{\\partial x}=f\\left(x,\\varphi\\left(x,x_0,y_0\\right)\\right)+Q\\left(x\\right)$"
   ]
  },
  {
   "cell_type": "markdown",
   "metadata": {},
   "source": [
    "因为解的表达式为$$y=e^{\\int P\\left(x\\right)\\mathrm d x}[\\int Q\\left(x\\right)e^{-\\int P\\left(x\\right)\\mathrm d x}\\mathrm d x+c]$$\n",
    "\n",
    "于是$\\varphi\\left(x,x_0,y_0\\right)=y_0\\cdot e^{\\int_{x_0}^xP\\left(s\\right)\\mathrm d s}-\\int_{x_0}^xQ\\left(s_0\\right)e^{\\int_s^xP\\left(t\\right)\\mathrm d t}$"
   ]
  },
  {
   "cell_type": "markdown",
   "metadata": {},
   "source": [
    "对参数求导得\n",
    "\n",
    "$\\frac{\\partial\\varphi\\left(x,x_0,y_0\\right)}{\\partial x_0}=-P\\left(x_0\\right)y_0e^{\\int_{x_0}^xP\\left(s\\right)\\mathrm d s}-Q\\left(x_0\\right)e^{\\int_{x_0}^xP\\left(s\\right)\\mathrm d s}=-[P\\left(x_0\\right)y_0+Q\\left(x_0\\right)]e^{\\int_{x_0}^XP\\left(s\\right)\\mathrm d s}$\n",
    "\n",
    "$\\frac{\\partial\\varphi\\left(x,x_0,y_0\\right)}{\\partial y_0}=e^{\\int_{x_0}^xP\\left(s\\right)\\mathrm d s}$\n",
    "\n",
    "$\\frac{\\partial\\varphi\\left(x,x_0,y_0\\right)}{\\partial x}=P\\left(x\\right)\\varphi\\left(x,x_0,y_0\\right)+Q\\left(x\\right)$\n",
    "\n",
    "可知与解对初值的可微性定理中的公式一致"
   ]
  },
  {
   "cell_type": "markdown",
   "metadata": {},
   "source": [
    "3.给定方程$$\\frac{\\mathrm d y}{\\mathrm d y}=\\sin\\left(\\frac{y}{x}\\right),$$\n",
    "\n",
    "试求$\\frac{\\partial y\\left(x,x_0,y_0\\right)}{\\partial x_0},\\frac{\\varphi\\left(x,x_0,y_0\\right)}{\\partial y_0}$在$x_0=1,y_0=0$时的表达式"
   ]
  },
  {
   "cell_type": "markdown",
   "metadata": {},
   "source": [
    "解:设$f\\left(x,y\\right)=\\sin\\left(\\frac{y}{x}\\right),则\\frac{\\partial f}{\\partial y}=\\frac{1}{x}\\cos\\left(\\frac{y}{x}\\right).$\n",
    "\n",
    "由解对初值的可微性定理的证明可知，\n",
    "\n",
    "$\\frac{\\partial y\\left(x,x_0,y_0\\right)}{\\partial x_0}=-\\sin\\left(\\frac{y_0}{x_0}\\right)e^{\\int_{x_0}^x\\frac{1}{s}\\cos\\frac{y}{s}\\mathrm d s},$\n",
    "\n",
    "$\\frac{\\partial y\\left(x,x_0,y_0\\right)}{\\partial y_0}=e^{\\int_{x_0}^x\\frac{1}{s}\\cos\\frac{y}{s}\\mathrm d s}$\n",
    "\n",
    "当$x_0=1,y_0=0$时，对应的$\\frac{\\partial y\\left(x,x_0,y_0\\right)}{\\partial x_0}|_{x_0=1,y_0=0}=0,\\frac{\\partial y\\left(x,x_0,y_0\\right)}{\\partial y_0}|_{x_0=1,y_0=0}=|x|$\n",
    "\n",
    "所以在$x_0=1,y_0=0$时，$\\frac{\\partial y}{\\partial x_0}=0,\\frac{\\partial y}{\\partial y_0}=|x|$"
   ]
  },
  {
   "cell_type": "markdown",
   "metadata": {},
   "source": [
    "4.设$y=\\varphi\\left(x,x_0,y_0,\\lambda\\right)$是初值问题$$\\frac{\\mathrm d y}{\\mathrm d x}=\\sin\\left(\\lambda xy\\right),\\varphi\\left(x_0,x_0,y_0,\\lambda\\right)=y_0$$"
   ]
  },
  {
   "cell_type": "markdown",
   "metadata": {},
   "source": [
    "解:$f\\left(x,y\\right)=\\sin\\left(\\lambda xy\\right),\\frac{\\partial f}{\\partial y}=\\lambda x\\cos\\left(\\lambda xy\\right)$\n",
    "\n",
    "由解对初值的可微性定理可得\n",
    "\n",
    "$\\frac{\\partial\\varphi}{\\partial x_0}=-\\sin\\left(\\lambda x_0y_0\\right)e^{\\int_{x_0}^x\\lambda s\\cos\\left(\\lambda s\\varphi\\right)\\mathrm d s}$\n",
    "\n",
    "$\\frac{\\partial\\varphi}{\\partial y_0}=e^{\\int_{x_0}^x\\lambda s\\cos\\left(\\lambda s\\varphi\\right)\\mathrm d s}$\n",
    "\n",
    "当$x-0=0，y_0=0,\\lambda+1$时，则有$\\frac{\\partial\\varphi}{\\partial x_0}|_{\\left(x,0,0,1\\right)}=0$\n",
    "\n",
    "$\\frac{\\partial\\varphi}{\\partial y_0}|_{\\left(x,0,0.1\\right)}=e^{\\int_0^x s\\cos 0\\mathrm d s}=e^{\\frac{x^2}{2}}$"
   ]
  },
  {
   "cell_type": "markdown",
   "metadata": {
    "collapsed": true
   },
   "source": [
    " # <font color='red'>A  20/10"
   ]
  },
  {
   "cell_type": "code",
   "execution_count": null,
   "metadata": {
    "collapsed": true
   },
   "outputs": [],
   "source": []
  }
 ],
 "metadata": {
  "kernelspec": {
   "display_name": "SageMath 7.3",
   "language": "",
   "name": "sagemath"
  },
  "language_info": {
   "codemirror_mode": {
    "name": "ipython",
    "version": 2
   },
   "file_extension": ".py",
   "mimetype": "text/x-python",
   "name": "python",
   "nbconvert_exporter": "python",
   "pygments_lexer": "ipython2",
   "version": "2.7.10"
  }
 },
 "nbformat": 4,
 "nbformat_minor": 0
}
