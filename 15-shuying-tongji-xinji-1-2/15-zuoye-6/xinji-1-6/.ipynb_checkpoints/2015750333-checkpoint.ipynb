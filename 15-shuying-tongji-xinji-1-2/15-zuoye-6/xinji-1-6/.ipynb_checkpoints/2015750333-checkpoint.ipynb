{
 "cells": [
  {
   "cell_type": "markdown",
   "metadata": {},
   "source": [
    "# 1、假设函数$f(x,y)$及$\\frac{\\partial f}{\\partial y}$都在区域$G$内连续，又$y=\\varphi(x,x_0,y_0)$是方程(3,1)满足初值条件$\\varphi(x_0,x_0,y_0)$的解，试证$\\frac{\\partial \\varphi}{\\partial y_0}$存在且连续，并写出其表达式"
   ]
  },
  {
   "cell_type": "markdown",
   "metadata": {},
   "source": [
    "证明：设由初值$(x_0,y_0)$和$(x_0,y_0+\\Delta y_0)(\\mid \\Delta y_0\\mid \\leq \\alpha,\\alpha$为足够小的正数)所确定的方程的解分别为\n",
    "$$\n",
    "y=\\varphi(x,x_0,y_0)=\\varphi \\quad \\quad \\quad y=\\varphi(x,x_0,y_0+\\Delta y_0)=\\psi\n",
    "$$\n",
    "即\n",
    "$$\n",
    "\\varphi=y_0+\\int_{x_0}^xf(x,\\varphi)\\mathrm dx \\quad \\quad \\quad \\psi=y_0+\\Delta y_0+\\int_{x_0}^xf(x,\\psi)\\mathrm dx\n",
    "$$\n",
    "于是\n",
    "$$\n",
    "\\psi-\\varphi=\\Delta y_0+\\int_{x_0}^x \\frac{\\partial f(x,\\varphi+\\theta(\\psi-\\varphi))}{\\partial y}(\\psi-\\varphi)\\mathrm dx\n",
    "$$\n",
    "\n",
    "其中$0<\\theta<1.$注意到$\\frac{\\partial f}{\\partial y}$及$\\varphi,\\psi$的连续性，我们有\n",
    "$$\n",
    "\\frac{\\partial f(x,\\varphi+\\theta(\\psi-\\varphi))}{\\partial y}(\\psi-\\varphi)=\\frac{\\partial f(x,\\varphi)}{\\partial y}+r_1,\n",
    "$$\n",
    "这里$r_1$具有性质：当$\\Delta y_0\\rightarrow0$时$r_1\\rightarrow0,$且当$\\Delta y_0=0$时$r_1=0.$\n",
    "\n",
    "对$\\Delta y_0\\neq0$有\n",
    "$$\n",
    "\\frac{\\psi-\\varphi}{\\Delta y_0}=1+\\int_{x_0}^x [\\frac{\\partial f(x,\\varphi)}{\\partial y}+r_1]\\frac{\\psi-\\varphi}{\\Delta y_0}\\mathrm dx\n",
    "$$\n",
    "\n",
    "即\n",
    "$$z=\\frac{\\psi-\\varphi}{\\Delta y_0}$$\n",
    "是初值问题\n",
    "$$\n",
    "\\begin{cases}\n",
    "\\frac{\\mathrm dz}{\\mathrm dx}=[\\frac{\\partial f(x,\\varphi)}{\\partial y}+r_1]z\\\\\n",
    "z(x_0)=1=z_0\n",
    "\\end{cases}\n",
    "$$\n",
    "的解，在这里$\\Delta y_0\\neq 0$看成参数，显然当$\\Delta y_0=0$时，上述初值问题仍然有解，根据解对初值和参数的连续性定理，知$\\frac{\\psi-\\varphi}{\\Delta y_0}$是$x,x_0,z_0,\\Delta y_0$的连续函数，从而存在\n",
    "$$\\lim_{\\Delta y_0\\rightarrow 0}\\frac{\\psi-\\varphi}{\\Delta y_0}=\\frac{\\partial \\varphi}{\\partial y_0}$$\n",
    "\n",
    "而$\\frac{\\partial \\varphi}{\\partial y_0}$是初值问题\n",
    "$$\n",
    "\\begin{cases}\n",
    "\\frac{\\mathrm dz}{\\mathrm dx}=\\frac{\\partial f(x,\\varphi)}{\\partial y}z\\\\\n",
    "z(x_0)=1=z_0\n",
    "\\end{cases}\n",
    "$$\n",
    "的解，不难求得\n",
    "$$\\frac{\\partial f}{\\partial y_0}=e^{\\int_{x_0}^x\\frac{\\partial f(x,\\varphi)}{\\partial y}\\mathrm dx}$$\n",
    "它显然是$x,x_0,y_0$的连续函数"
   ]
  },
  {
   "cell_type": "markdown",
   "metadata": {},
   "source": [
    "# 2、假设函数$P(x)$和$Q(x)$于区间$[\\alpha,\\beta]$上连续，$y=\\varphi(x,x_0,y_0)$是方程$$\\frac{\\mathrm dy}{\\mathrm dx}=P(x)y+Q(x)$$的解，$y_0=\\varphi(x_0,x_0,y_0).$试求$\\frac{\\partial\\varphi}{\\partial x_0},\\frac{\\partial \\varphi}{\\partial y_0}$及$\\frac{\\partial \\varphi}{\\partial x}$并从解的表达式出发，利用对参数求导的方法，检验所得结果"
   ]
  },
  {
   "cell_type": "markdown",
   "metadata": {},
   "source": [
    "证明：令$f(x,y)=P(x)y+Q(x)$\n",
    "则$f(x,y)$满足解对初值的可微性定理条件\n",
    "\n",
    "所以\n",
    "$$\n",
    "\\begin{aligned}\n",
    "\\frac{\\partial \\varphi}{\\partial x_0}&=-f(x_0,y_0)e^{\\int_{x_0}^x\\frac{\\partial f(x,\\varphi)}{\\partial y}\\mathrm dx}\\\\\n",
    "&=-(P(x_0)y_0+Q(x_0))e^{\\int_{x_0}^xP(x)\\mathrm dx}\\\\\n",
    "\\frac{\\partial \\varphi}{\\partial y_0}&=e^{\\int_{x_0}^x\\frac{\\partial f(x,\\varphi)}{\\partial y}\\mathrm dx}\\\\\n",
    "&=e^{\\int_{x_0}^xP(x)\\mathrm dx}\\\\\n",
    "\\frac{\\partial \\varphi}{\\partial x}&=f(x,\\varphi(x,x_0,y_0))\\\\\n",
    "&=P(x)\\varphi(x,x_0,y_0)+Q(x)\n",
    "\\end{aligned}\n",
    "$$\n",
    "方程$\\frac{\\mathrm dy}{\\mathrm dx}=P(x)y+Q(x)$的解为\n",
    "$$y=e^{\\int_{x_0}^xP(x)\\mathrm dx}(\\int_{x_0}^xQ(x)e^{-\\int_{x_0}^xP(x)\\mathrm dx}\\mathrm dx+y_0)$$\n",
    "\n",
    "所以\n",
    "$$\n",
    "\\begin{aligned}\n",
    "\\frac{\\partial \\varphi}{\\partial x_0}&=P(x_0)e^{\\int_{x_0}^xP(x)\\mathrm dx}(\\int_{x_0}^xQ(x)e^{\\int_{x_0}^x-P(x)\\mathrm dx}\\mathrm dx+y_0)\\\\\n",
    "&\\quad +e^{\\int_{x_0}^xP(x)\\mathrm dx}[-Q(x_0)e^{\\int_{x_0}^xP(x)\\mathrm dx}+P(x_0)(\\int_{x_0}^xQ(x)e^{\\int_{x_0}^x-P(x)\\mathrm dx}\\mathrm dx)]\\\\\n",
    "&=-(P(x_0)y_0+Q(x_0))e^{\\int_{x_0}^xP(x)\\mathrm dx}\\\\\n",
    "\\frac{\\partial \\varphi}{\\partial y_0}&=e^{\\int_{x_0}^xP(x)\\mathrm dx}\\\\\n",
    "\\frac{\\partial \\varphi}{\\partial x}&=P(x)e^{\\int_{x_0}^xP(x)\\mathrm dx}(\\int_{x_0}^xQ(x)e^{\\int_{x_0}^x-P(x)\\mathrm dx}\\mathrm dx+y_0)\\\\\n",
    "&\\quad +e^{\\int_{x_0}^xP(x)\\mathrm dx}Q(x)e^{\\int_{x_0}^xP(x)\\mathrm dx}\\\\\n",
    "&=P(x)\\varphi(x,x_0,y_0)+Q(x)\n",
    "\\end{aligned}\n",
    "$$\n"
   ]
  },
  {
   "cell_type": "markdown",
   "metadata": {},
   "source": [
    "# 3、给定方程$$\\frac{\\mathrm dy}{\\mathrm dx}=\\sin(\\frac{y}{x}),$$试求$\\frac{\\partial y(x,x_0,y_0)}{\\partial x_0},\\frac{\\partial y(x,x_0,y_0)}{\\partial y_0}$在$x_0=1,y_0=0$时的表达式"
   ]
  },
  {
   "cell_type": "markdown",
   "metadata": {},
   "source": [
    "解：令$f(x,y)=\\sin(\\frac{y}{x})$\n",
    "\n",
    "$\\therefore \\quad \\frac{\\partial f}{\\partial y}=\\frac{1}{x}\\cos(\\frac{y}{x})$\n",
    "\n",
    "$\\therefore \\quad f(x,y)$满足解对初值的可微性定理\n",
    "\n",
    "$\\therefore \\quad \\frac{\\partial y(x,x_0,y_0)}{\\partial x_0}\\mid_{(1,0)}=\n",
    "-f(x_0,y_0)e^{\\int_{x_0}^x\\frac{\\partial f(x,\\varphi)}{\\partial y}\\mathrm dx}\\mid_{(1,0)}=0$\n",
    "\n",
    "$\\frac{\\partial \\varphi}{\\partial y_0}\\mid_{(1,0)}=e^{\\int_{x_0}^xP(x)\\mathrm dx}\\mid_{(1,0)}=e^{\\int_1^x\\frac{1}{x}\\cos\\frac{y(x,1,0)}{x}\\mathrm dx}$\n",
    "\n",
    "易得$y=0$是原方程满足初值条件的解\n",
    "\n",
    "$\\because y(x,1,0)=0\\\\\n",
    "\\therefore \\cos\\frac{y(x,1,0)}{x}\\mathrm dx=1\\\\\n",
    "\\therefore \\quad \\frac{\\partial y(x,x_0,y_0)}{\\partial x_0}\\mid_{(1,0)}=e^{\\int_1^x\\frac{1}{x}\\mathrm dx}=\\mid x \\mid$"
   ]
  },
  {
   "cell_type": "markdown",
   "metadata": {},
   "source": [
    "# 4、设$y=\\varphi(x,x_0,y_0,\\lambda)$是初值问题$$\\frac{\\mathrm dy}{\\mathrm dx}=\\sin(\\lambda x y),\\varphi(x_0,x_0,y_0,\\lambda)=y_0$$的饱和解，这里$\\lambda$是参数，求$\\frac{\\partial \\varphi}{\\partial x_0},\\frac{\\partial \\varphi}{\\partial y_0}$在$(x,0,0,1)$处的表达式"
   ]
  },
  {
   "cell_type": "markdown",
   "metadata": {},
   "source": [
    "解：令$f(x,y)=\\sin(\\lambda xy)$\n",
    "\n",
    "$\\therefore \\quad \\frac{\\partial f}{\\partial y}=\\lambda x\\cos(\\lambda xy),\\lambda$是参数\n",
    "\n",
    "$\\therefore \\quad f(x,y)$满足解对初值和参数的可微性定理\n",
    "\n",
    "$\\therefore \\quad \\frac{\\partial \\varphi}{\\partial x_0}=\n",
    "-f(x_0,y_0)e^{\\int_{x_0}^x\\frac{\\partial f(x,\\varphi)}{\\partial y}\\mathrm dx}=\n",
    "-\\sin(\\lambda x_0 y_0)e^{\\int_{x_0}^x \\lambda x\\cos(\\lambda xy)\\mathrm dx}\\\\\n",
    "\\quad \\quad \\frac{\\partial \\varphi}{\\partial y_0}=\n",
    "e^{\\int_{x_0}^x\\frac{\\partial f(x,\\varphi)}{\\partial y}\\mathrm dx}=\n",
    "e^{\\int_{x_0}^x \\lambda x\\cos(\\lambda xy)\\mathrm dx}\\\\\n",
    "$\n",
    "\n",
    "当$x_0=0,y_0=0,\\lambda=1$时，则有\n",
    "$$\\frac{\\partial \\varphi}{\\partial x_0}\\mid_{(x,0,0,1)}=0\\\\\n",
    "\\frac{\\partial \\varphi}{\\partial y_0}\\mid_{(x,0,0,1)}=e^{\\frac{x^2}{2}}$$"
   ]
  },
  {
   "cell_type": "markdown",
   "metadata": {
    "collapsed": true
   },
   "source": [
    " # <font color='red'>A  20/10"
   ]
  },
  {
   "cell_type": "code",
   "execution_count": null,
   "metadata": {
    "collapsed": true
   },
   "outputs": [],
   "source": []
  }
 ],
 "metadata": {
  "kernelspec": {
   "display_name": "SageMath 7.3",
   "language": "",
   "name": "sagemath"
  },
  "language_info": {
   "codemirror_mode": {
    "name": "ipython",
    "version": 2
   },
   "file_extension": ".py",
   "mimetype": "text/x-python",
   "name": "python",
   "nbconvert_exporter": "python",
   "pygments_lexer": "ipython2",
   "version": "2.7.10"
  }
 },
 "nbformat": 4,
 "nbformat_minor": 0
}
