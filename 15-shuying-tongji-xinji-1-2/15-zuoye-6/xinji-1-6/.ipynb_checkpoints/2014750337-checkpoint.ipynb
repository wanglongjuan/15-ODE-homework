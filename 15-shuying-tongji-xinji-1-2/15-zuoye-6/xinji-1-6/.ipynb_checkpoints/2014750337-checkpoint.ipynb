{
 "cells": [
  {
   "cell_type": "markdown",
   "metadata": {
    "collapsed": false
   },
   "source": [
    "# 作业5\n",
    "**P103**  \n",
    "**1.假设函数$f(x,y)$及$\\frac{\\partial f}{\\partial y}$都在区域G内连续.又$y=\\phi(x,x_0,y_0)$是方程$$\\frac{\\mathrm d y}{\\mathrm d x}=f(x,y)$$满足初值条件$\\phi(x_0,x_0,y_0)=y_0$的解,$y_0=\\phi(x_0,x_0,y_0)$.试证$\\frac{\\partial \\phi}{\\partial y_0}$存在且连续,并写出其表达式.**"
   ]
  },
  {
   "cell_type": "markdown",
   "metadata": {},
   "source": [
    "**解：**记初值为$(x_0,y_0+\\Delta y_0)$的解为$y=\\psi(x,x_0,y_0+\\Delta y_0)$,其中$\\mid\\Delta y_0\\mid\\leq\\alpha$,$\\alpha$足够小.则有\n",
    "$$\\phi=y_0+\\int_{x_0}^x{f(x,\\phi)\\,\\mathrm d x},\\psi=y_0+\\Delta y_0+\\int_{x_0}^x{f(x,\\psi)\\,\\mathrm d x}.$$于是\n",
    "\\begin{align}\n",
    "\\psi-\\phi&=\\Delta y_0+\\int_{x_0}^x{[f(x,\\psi)-f(x,\\phi)\\,\\mathrm d x}\\\\\n",
    "&=\\Delta y_0+\\int_{x_0}^x{[\\frac{\\partial f(x,\\phi+\\theta(\\psi-\\phi))}{\\partial y}(\\psi-\\phi)]\\,\\mathrm d x},\n",
    "\\end{align}\n",
    "其中$0\\leq\\theta\\leq1.$由$\\frac{\\partial f}{\\partial y}$及$\\phi,\\psi$的连续性,有\n",
    "$$\\frac{\\partial f(x,\\phi+\\theta(\\psi-\\phi))}{\\partial y}=\\frac{\\partial f(x,\\phi)}{\\partial y}+r$$\n",
    "其中r有性质:$\\Delta y_0\\to0$时$r\\to0$,$\\Delta y_0=0$时$r=0$.即对$\\Delta y_0\\neq0$时有\n",
    "$$\\frac{\\psi-\\phi}{\\Delta y_0}=1+\\int_{x_0}^x{[\\frac{\\partial f(x,\\phi)}{\\partial y}+r]\\frac{\\psi-\\phi}{\\Delta y_0}\\,\\mathrm d x},$$\n",
    "即$z=\\frac{\\psi-\\phi}{\\Delta y_0}$是微分方程初值问题\n",
    "\\begin{cases}\n",
    "\\frac{\\mathrm d z}{\\mathrm d x}=[\\frac{\\partial f(x,\\phi)}{\\partial y}+r]z,\\\\\n",
    "z(x_0)=1\n",
    "\\end{cases}\n",
    "的解,即\n",
    "$$\\frac{\\psi-\\phi}{\\Delta y_0}=z=e^{\\int_{x_0}^x{[\\frac{\\partial f(x,\\phi)}{\\partial y}+r]\\,\\mathrm d x}}$$\n",
    "于是\n",
    "$$\\frac{\\partial\\phi}{y_0}=\\lim_{\\Delta y_0\\to0}{\\frac{\\psi-\\phi}{\\Delta y_0}}=e^{\\int_{x_0}^x{\\frac{\\partial f(x,\\phi)}{\\partial y}\\,\\mathrm d x}}$$\n",
    "它是$x,x_0,y_0$的连续函数."
   ]
  },
  {
   "cell_type": "markdown",
   "metadata": {},
   "source": [
    "**2.假设函数$P(x)$和$Q(x)$于区间$[\\alpha,\\beta]$上连续,$y=\\phi(x,x_0,y_0)$是方程$$\\frac{\\mathrm d y}{\\mathrm d x}=P(x)y+Q(x)$$的解,$y_0=\\phi(x_0,x_0,y_0)$.试求$\\frac{\\partial \\phi}{\\partial x_0}$,$\\frac{\\partial \\phi}{\\partial y_0}$及$\\frac{\\partial \\phi}{\\partial x}$,并从解的表达式出发,利用对参数求导的方法,检验所得结果.**"
   ]
  },
  {
   "cell_type": "markdown",
   "metadata": {},
   "source": [
    "**解：**由$f(x,y)=P(x)y+Q(x)$，可得\n",
    "\\begin{align}\n",
    "\\frac{\\partial \\phi}{\\partial x_0}&=-f(x_0,y_0)e^{\\int_{x_0}^x {\\frac{\\partial f(x,\\phi)}{\\partial y}\\,\\mathrm d x}}\\\\\n",
    "&=-[P(x_0)y_0+Q(x_0)]e^{\\int_{x_0}^x {P(x)\\,\\mathrm d x}}\\\\\n",
    "\\frac{\\partial \\phi}{\\partial y_0}&=e^{\\int_{x_0}^x {\\frac{\\partial f(x,\\phi)}{\\partial y}\\,\\mathrm d x}}=e^{\\int_{x_0}^x {P(x)\\,\\mathrm d x}}\\\\\n",
    "\\frac{\\partial \\phi}{\\partial x_0}&=f(x,\\phi(x,x_0,y_0))=P(x)\\phi(x,x_0,y_0)+Q(x)\n",
    "\\end{align}\n",
    "因齐次线性方程有解的表达式$$y=e^{\\int{P(x)\\,\\mathrm d x}}[\\int{Q(x)e^{-\\int{P(x)\\,\\mathrm d x}}\\,\\mathrm d x}],$$\n",
    "于是$$\\phi(x,x_0,y_0)=y_0\\centerdot e^{\\int_{x_0}^x {P(s)\\,\\mathrm d s}}+\\int_{x_0}^x{Q(s)e^{\\int_s^x{P(x)\\,\\mathrm d x}}\\,\\mathrm d s}$$\n",
    "直接对参数求导,此时有\n",
    "\\begin{align}\n",
    "\\frac{\\partial \\phi(x,x_0,y_0)}{\\partial x_0}&=-P(x_0)y_0\\centerdot e^{\\int_{x_0}^x {P(x)\\,\\mathrm d x}}-Q(x_0)\\centerdot e^{\\int_{x_0}^x {P(x)\\,\\mathrm d x}}\\\\\n",
    "&=-[P(x_0)y_0+Q(x_0)]e^{\\int_{x_0}^x {P(x)\\,\\mathrm d x}}\\\\\n",
    "\\frac{\\partial \\phi(x,x_0,y_0)}{\\partial y_0}&=e^{\\int_{x_0}^x {P(x)\\,\\mathrm d x}}\\\\\n",
    "\\frac{\\partial \\phi(x,x_0,y_0)}{\\partial x_0}&=P(x)y_0\\centerdot e^{\\int_{x_0}^x {P(s)\\,\\mathrm d s}}+Q(x)+\\int_{x_0}^x{Q(s)P(x)e^{\\int_s^x{P(x)\\,\\mathrm d x}}\\,\\mathrm d s}\\\\\n",
    "&=P(x)[y_0\\centerdot e^{\\int_{x_0}^x {P(s)\\,\\mathrm d s}}+\\int_{x_0}^x{Q(s)e^{\\int_s^x{P(x)\\,\\mathrm d x}}\\,\\mathrm d s}]+Q(x)\\\\\n",
    "&=P(x)\\phi(x,x_0,y_0)+Q(x)\n",
    "\\end{align}\n",
    "结果与直接使用公式相同."
   ]
  },
  {
   "cell_type": "markdown",
   "metadata": {},
   "source": [
    "**3.给定方程$$\\frac{\\mathrm d y}{\\mathrm d x}=sin(\\frac{y}{x}),$$试求$\\frac{\\partial y(x,x_0,y_0)}{\\partial x_0}$,$\\frac{\\partial y(x,x_0,y_0)}{\\partial y_0}$在$x_0=1,y_0=0$时的表达式.**"
   ]
  },
  {
   "cell_type": "markdown",
   "metadata": {},
   "source": [
    "**解：**\n",
    "\\begin{align}\n",
    "\\frac{\\partial y(x,x_0,y_0)}{\\partial x_0}&=-f(x_0,y_0)e^{\\int_{x_0}^x {\\frac{\\partial f(x,\\phi)}{\\partial y}\\,\\mathrm d x}}=0\\\\\n",
    "\\frac{\\partial y(x,x_0,y_0)}{\\partial y_0}&=e^{\\int_{x_0}^x {P(x)\\,\\mathrm d x}}=e^{\\ln\\mid x\\mid-\\ln\\mid x_0\\mid}=x\n",
    "\\end{align}"
   ]
  },
  {
   "cell_type": "markdown",
   "metadata": {},
   "source": [
    "**4.设$y=\\phi(x,x_0,y_0,\\lambda)$是初值问题$$\\frac{\\mathrm d y}{\\mathrm d x}=sin(\\lambda xy),\\phi(x_0,x_0,y_0,\\lambda)=y_0$$\n",
    "的饱和解,这里$\\lambda$是参数,求$\\frac{\\partial\\phi}{\\partial x_0},\\frac{\\partial\\phi}{\\partial y_0}$在$(x,0,0,1)处的表达式$.**"
   ]
  },
  {
   "cell_type": "markdown",
   "metadata": {},
   "source": [
    "**解：**\n",
    "\\begin{align}\n",
    "\\frac{\\partial\\phi}{\\partial x_0}&=-f(x_0,y_0,\\lambda)e^[\\int_{x_0}^x{\\frac{\\partial f(x,\\phi,\\lambda)}{\\partial y}\\,\\mathrm d x}]=0\\\\\n",
    "\\frac{\\partial\\phi}{\\partial y_0}&=e^[\\int_{x_0}^x{\\frac{\\partial f(x,\\phi,\\lambda)}{\\partial y}\\,\\mathrm d x}]\\\\\n",
    "&=e^{\\frac{\\lambda}{2}(x^2-x_0^2)}\\\\\n",
    "&=e^{\\frac{x^2}{2}}\n",
    "\\end{align}"
   ]
  },
  {
   "cell_type": "markdown",
   "metadata": {},
   "source": [
    " # <font color='red'>A+  20/10"
   ]
  },
  {
   "cell_type": "code",
   "execution_count": null,
   "metadata": {
    "collapsed": true
   },
   "outputs": [],
   "source": []
  }
 ],
 "metadata": {
  "kernelspec": {
   "display_name": "Python 2",
   "language": "python",
   "name": "python2"
  },
  "language_info": {
   "codemirror_mode": {
    "name": "ipython",
    "version": 2
   },
   "file_extension": ".py",
   "mimetype": "text/x-python",
   "name": "python",
   "nbconvert_exporter": "python",
   "pygments_lexer": "ipython2",
   "version": "2.7.10"
  }
 },
 "nbformat": 4,
 "nbformat_minor": 0
}
