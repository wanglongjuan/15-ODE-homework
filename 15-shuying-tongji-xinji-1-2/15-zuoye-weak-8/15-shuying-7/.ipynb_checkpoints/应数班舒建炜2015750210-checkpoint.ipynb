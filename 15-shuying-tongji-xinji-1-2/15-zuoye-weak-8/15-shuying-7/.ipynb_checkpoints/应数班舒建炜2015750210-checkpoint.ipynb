{
 "cells": [
  {
   "cell_type": "markdown",
   "metadata": {},
   "source": []
  },
  {
   "cell_type": "markdown",
   "metadata": {},
   "source": [
    "**应数班\n",
    "舒建炜2015750210**"
   ]
  },
  {
   "cell_type": "markdown",
   "metadata": {},
   "source": [
    "P131——1"
   ]
  },
  {
   "cell_type": "markdown",
   "metadata": {},
   "source": [
    "**证明：**"
   ]
  },
  {
   "cell_type": "markdown",
   "metadata": {},
   "source": [
    "假设$x(t)$和$y(t)$在$[a,b]$上线性相关，则存在不全为零的常数$C_1$和$C_2$使得：$$C_1x(t)+C_2y(t)\\equiv0,t\\in[a,b]$$"
   ]
  },
  {
   "cell_type": "markdown",
   "metadata": {},
   "source": [
    "若$C_1\\neq0$，则$\\frac{y(t)}{x(t)}=-\\frac{C_1}{C_2}=$常数"
   ]
  },
  {
   "cell_type": "markdown",
   "metadata": {},
   "source": [
    "若$C_2\\neq0$则$\\frac{x(t)}{y(t)}=-\\frac{C_2}{C_1}=$常数"
   ]
  },
  {
   "cell_type": "markdown",
   "metadata": {},
   "source": [
    "$\\therefore$与“$\\frac{x(t)}{y(t)}\\neq$常数”和“$\\frac{y(t)}{x(t)}\\neq$常数”矛盾，所以原假设不成立"
   ]
  },
  {
   "cell_type": "markdown",
   "metadata": {},
   "source": [
    "即$x(t)$和$y(t)$在$[a,b]$上线性无关"
   ]
  },
  {
   "cell_type": "markdown",
   "metadata": {},
   "source": [
    "P131——2"
   ]
  },
  {
   "cell_type": "markdown",
   "metadata": {},
   "source": [
    "**证明：**"
   ]
  },
  {
   "cell_type": "markdown",
   "metadata": {},
   "source": [
    "$\\because x_1(t)x_2(t)$分别是非齐次线性微分方程$$\\frac{d^nx}{dt^n}+\\cdots+a_n(t)x=f_1(t)$$"
   ]
  },
  {
   "cell_type": "markdown",
   "metadata": {},
   "source": [
    "$$\\frac{d^nx}{dt^n}+a_1(t)\\frac{d^{n-1}x}{dt^{n-1}}+\\cdots+a_n(t)x=f_2(t)$$的解，所以满足$$\\frac{d^nx_1(t)}{dt^n}+\\cdots+a_n(t)x_1(t)=f_1(t)$$$$\\frac{d^nx_2(t)}{dt^n}+a_1(t)\\frac{d^{n-1}x_2(t)}{dt^{n-1}}+\\cdots+a_n(t)x_2(t)=f_1(t)$$"
   ]
  },
  {
   "cell_type": "markdown",
   "metadata": {},
   "source": [
    "上述两式相加得$$\\frac{d^n(x_1(t)+x_2(t))}{dt^n}+a_1(t)\\frac{d^{n-1}(x_1(t)+x_2(t))}{dt^{n-1}}+\\cdots+a_n(t)(x_1(t)+x_2(t))=f_1(t)+f_2(t)$$"
   ]
  },
  {
   "cell_type": "markdown",
   "metadata": {},
   "source": [
    "即$x_1(t)+x_2(t)$是方程$$\\frac{d^nx}{dt^n}+a_1(t)\\frac{d^{n-1}x}{dt^{n-1}}+\\cdots+a_n(t)x=f_1(t)+f_2(t)$$的解"
   ]
  },
  {
   "cell_type": "markdown",
   "metadata": {},
   "source": [
    "P131——3"
   ]
  },
  {
   "cell_type": "markdown",
   "metadata": {},
   "source": [
    "**(1)**$x''-x=cost,x_1=e',x_2=e^{-t}$"
   ]
  },
  {
   "cell_type": "markdown",
   "metadata": {},
   "source": [
    "**解：**令$x=C_1(t)e^t+C_2(t)e^{-t}$带入方程中，得到：$$e'C_1'(t)+e^{-t}C_2'(t)=0$$$$e'C_1'(t)-e^{-t}C_2'(t)=cost$$"
   ]
  },
  {
   "cell_type": "markdown",
   "metadata": {},
   "source": [
    "解得：$$C_1'(t)=cost$$"
   ]
  },
  {
   "cell_type": "markdown",
   "metadata": {},
   "source": [
    "$\\therefore$$$C_1(t)=\\frac{xint-cost}{4}\\cdot e^{-t}+\\gamma_1$$$$C_2(t)=-\\frac{xint+cost}{4}\\cdot e^t+\\gamma_2$$"
   ]
  },
  {
   "cell_type": "markdown",
   "metadata": {},
   "source": [
    "$\\therefore$原方程通解为:$x=\\gamma_1e^t+\\gamma_2e^{-t}-\\frac{1}{2}cost$"
   ]
  },
  {
   "cell_type": "markdown",
   "metadata": {},
   "source": [
    "**(3)**$x''+4x=tsint,x_1=cos2t,x_2=sin2t$"
   ]
  },
  {
   "cell_type": "markdown",
   "metadata": {},
   "source": [
    "令$x=C_1(t)cos2t+C_2(t)sin2t$带入原方程，得：$$cos2t\\cdot C_1'(t)+sin2t\\cdot C_2'(t)=0$$$$-2sin2t\\cdot C_1'(t)+2cos2t\\cdot C_2'(t)=tsint$$"
   ]
  },
  {
   "cell_type": "markdown",
   "metadata": {},
   "source": [
    "解得：$$C_1'(t)=-\\frac{1}{2}tsintsin2t$$"
   ]
  },
  {
   "cell_type": "markdown",
   "metadata": {},
   "source": [
    "$$C_2'(t)=\\frac{1}{2}tsintcos2t$$"
   ]
  },
  {
   "cell_type": "markdown",
   "metadata": {},
   "source": [
    "$\\therefore$$$C_1'(t)=\\frac{1}{4}\\left[\\frac{1}{3}tsin3t+\\frac{1}{9}cos3t-tsint-cost\\right]+C_1$$$$C_2'(t)=\\frac{1}{4}\\left[-\\frac{1}{3}tcos3t+\\frac{1}{9}sin3t-tcost-sint\\right]+C_2$$"
   ]
  },
  {
   "cell_type": "markdown",
   "metadata": {},
   "source": [
    "$\\therefore$原方程的通解为：$x=C_1'cos2t+C_2sin2t+\\frac{1}{3}sint-\\frac{2}{9}cost$"
   ]
  },
  {
   "cell_type": "markdown",
   "metadata": {},
   "source": [
    "P132——6"
   ]
  },
  {
   "cell_type": "markdown",
   "metadata": {},
   "source": [
    "**证明：**"
   ]
  },
  {
   "cell_type": "markdown",
   "metadata": {},
   "source": [
    "（1）充分性："
   ]
  },
  {
   "cell_type": "markdown",
   "metadata": {},
   "source": [
    "$\\because$$$W'[X_1,X_2]=\\left|\\begin{matrix}x_1'&x_2'\\\\x_1'&x_2'\\\\\\end{matrix}\\right|+\\left|\\begin{matrix}x_1&x_2\\\\x_1''&x_2''\\\\\\end{matrix}\\right|=\\left|\\begin{matrix}x_1&x_2\\\\x_1''&x_2''\\\\\\end{matrix}\\right|$$"
   ]
  },
  {
   "cell_type": "markdown",
   "metadata": {},
   "source": [
    "$$W'[x_1,x_2]+a_1(t)W[x_1,x_2]=\\left|\\begin{matrix}x_1&x_2\\\\x_1''&x_2''\\\\\\end{matrix}\\right|+a_1(t)\\left|\\begin{matrix}x_1&x_2\\\\x_1'&x_2'\\\\\\end{matrix}\\right|=\\left|\\begin{matrix}x_1&x_2\\\\x_1''+a_1(t)x_1'&x_2''+a_1(t)x_2'\\\\\\end{matrix}\\right|=0$$"
   ]
  },
  {
   "cell_type": "markdown",
   "metadata": {},
   "source": [
    "又$x_1(t)\\neq0$是已知方程的解，所以$$\\left|\\begin{matrix}x_1&x_2\\\\-a_2(t)x_1&x_2''+a_1(t)x_2'\\\\\\end{matrix}\\right|=x_1\\left|\\begin{matrix}1&x_2\\\\-a_2(t)&x_2''+a_1(t)x_2'\\\\\\end{matrix}\\right|=0$$"
   ]
  },
  {
   "cell_type": "markdown",
   "metadata": {},
   "source": [
    "$\\therefore x_2''+a_1(t)x_2'+a_2(t)=0$"
   ]
  },
  {
   "cell_type": "markdown",
   "metadata": {},
   "source": [
    "必要性："
   ]
  },
  {
   "cell_type": "markdown",
   "metadata": {},
   "source": [
    "$\\because W[x_1,x_2]$是方程的解$x_(t),x_2(t)$的朗斯基行列式"
   ]
  },
  {
   "cell_type": "markdown",
   "metadata": {},
   "source": [
    "$\\therefore W'[x_1,x_2]=\\left|\\begin{matrix}x_1&x_2\\\\x_1''&x_2''\\\\\\end{matrix}\\right|=\\left|\\begin{matrix}x_1&x_2\\\\x_1''+a_1(t)x_1'&x_2''+a_1(t)x_2'\\\\\\end{matrix}\\right|=\\left|\\begin{matrix}1&x_2\\\\-a_1(t)x_1'&+a_1(t)x_2'\\\\\\end{matrix}\\right|=-a_1(t)W[x_1,x_2]$"
   ]
  },
  {
   "cell_type": "markdown",
   "metadata": {},
   "source": [
    "即$W[x_1,x_2]$满足$W'[x_1,x_2]+a_1(t)W[x_1,x_2]=0$"
   ]
  },
  {
   "cell_type": "markdown",
   "metadata": {},
   "source": [
    "(2)$\\because x_1,x_2$为方程解，则$$\\left|\\begin{matrix}x_1&x_2\\\\x_1'&x_2'\\\\\\end{matrix}\\right|=W(t_0)e^{-\\int_{t_0}^t a_1(s){d}s}$$"
   ]
  },
  {
   "cell_type": "markdown",
   "metadata": {},
   "source": [
    "即$x_1x_2'-x_1'x_2=W(t_0)e^{-\\int_{t_0}^t a_1(s){d}s}$"
   ]
  },
  {
   "cell_type": "markdown",
   "metadata": {},
   "source": [
    "$x_2=\\left(c_1\\int\\frac{1}{x_1^2}e^{-\\int_{t_0}^t a_1(s){d}s}{d}t+c_2\\right)$"
   ]
  },
  {
   "cell_type": "markdown",
   "metadata": {},
   "source": [
    "令$c_1=1,c_2=0$得：$$x_2=x_1c_1\\int\\frac{1}{x_1^2}e^{-\\int_{t_0}^t a_1(s){d}s}{d}t$$"
   ]
  },
  {
   "cell_type": "markdown",
   "metadata": {},
   "source": [
    "又$\\because$$$W(t)=\\left|\\begin{matrix}x_1&x_2\\\\x_1'&x_2'\\\\\\end{matrix}\\right|=e^{-\\int_{t_0}^t a_1(s){d}s}\\neq0$$"
   ]
  },
  {
   "cell_type": "markdown",
   "metadata": {},
   "source": [
    "$\\therefore$原方程可以写为：$$x=x_1\\left[c_1\\int\\frac{1}{x_1^2}exp\\left(-\\int_{t_0}^t a_1(s){d}s\\right){d}t+c_2\\right]$$"
   ]
  },
  {
   "cell_type": "markdown",
   "metadata": {},
   "source": [
    "# <font color='red'>A－ 26/10"
   ]
  },
  {
   "cell_type": "code",
   "execution_count": null,
   "metadata": {
    "collapsed": true
   },
   "outputs": [],
   "source": []
  }
 ],
 "metadata": {
  "kernelspec": {
   "display_name": "SageMath 7.3",
   "language": "",
   "name": "sagemath"
  },
  "language_info": {
   "codemirror_mode": {
    "name": "ipython",
    "version": 2
   },
   "file_extension": ".py",
   "mimetype": "text/x-python",
   "name": "python",
   "nbconvert_exporter": "python",
   "pygments_lexer": "ipython2",
   "version": "2.7.10"
  }
 },
 "nbformat": 4,
 "nbformat_minor": 0
}
