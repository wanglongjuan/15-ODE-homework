{
 "cells": [
  {
   "cell_type": "markdown",
   "metadata": {
    "collapsed": false
   },
   "source": [
    "**1.**\n",
    "$x_(t),y_(t)$是在区间 $a\\leq t\\leq b$ 上的连续函数 ，证明在区间$a\\leq t\\leq b$上$\\frac{x_(t)}{y_(t)}\\neq 常数$或$\\frac{y_(t)}{x_(t)}\\neq 常数$,\n",
    "则$x_(t),y_(t)$在区间 $a\\leq t\\leq b$ 上线性无关"
   ]
  },
  {
   "cell_type": "markdown",
   "metadata": {},
   "source": [
    "**证明**假设$x_(t),y_(t)$在区间 $a\\leq t\\leq b$ 上线性相关\n",
    "则存在不全为零的常数$\\alpha,\\beta$,使得$\\alpha x_(t)+\\beta y_(t)\\equiv 0(a\\leq t\\leq b)$ ,\n",
    "那么不妨设$x_(t)$不为零，则有$\\frac{y_(t)}{x_(t)}=-\\frac{\\alpha}{\\beta}$为常数，与题设矛盾，所以假设不成立，即证明$x_(t),y_(t)$在区间 $a\\leq t\\leq b$ 上线性无关"
   ]
  },
  {
   "cell_type": "markdown",
   "metadata": {},
   "source": [
    "**2.**证明非齐次线性微分方程的叠加原理：设$x_1(t),x_2(t)$分别是非齐次线性微分方程\n",
    "\n",
    "$$\n",
    "\\frac{\\mathrm {d^n}x}{\\mathrm dt^n}+a_1(t)\\frac{{d^{n-1}}x}{\\mathrm dt^{n-1}}+\\cdots+a_{n-1}(t)\\frac{\\mathrm dx}{\\mathrm dt}+a_n(t)x=f_1(t)\n",
    "$$    （1）\n",
    "\n",
    "\n",
    "$$\n",
    "\\frac{\\mathrm {d^n}x}{\\mathrm dt^n}+a_1(t)\\frac{{d^{n-1}}x}{\\mathrm dt^{n-1}}+\\cdots+a_{n-1}(t)\\frac{\\mathrm dx}{\\mathrm dt}+a_n(t)x=f_2(t)\n",
    "$$    （2）\n",
    "\n",
    "\n",
    "的解，则$x_1(t)+x_2(t)$是方程\n",
    "\n",
    "\n",
    "$$\n",
    "\\frac{\\mathrm {d^n}x}{\\mathrm dt^n}+a_1(t)\\frac{{d^{n-1}}x}{\\mathrm dt^{n-1}}+\\cdots+a_{n-1}(t)\\frac{\\mathrm dx}{\\mathrm dt}+a_n(t)x=f_1(t)+f_2(t)\n",
    "$$\n",
    "\n",
    "的解"
   ]
  },
  {
   "cell_type": "markdown",
   "metadata": {},
   "source": [
    "**证明**$x_1(t),x_2(t)$分别是非齐次线性微分方程的解，则\n",
    "\n",
    "$$\n",
    "\\frac{\\mathrm {d^n}x_1(t)}{\\mathrm dt^n}+a_1(t)\\frac{{d^{n-1}}x_1(t)}{\\mathrm dt^{n-1}}+\\cdots+a_{n-1}(t)\\frac{\\mathrm dx_1(t)}{\\mathrm dt}+a_n(t)x=f_1(t)\n",
    "$$    （3）\n",
    "\n",
    "\n",
    "$$\n",
    "\\frac{\\mathrm {d^n}x_2(t)}{\\mathrm dt^n}+a_1(t)\\frac{{d^{n-1}}x_2(t)}{\\mathrm dt^{n-1}}+\\cdots+a_{n-1}(t)\\frac{\\mathrm dx_2(t)}{\\mathrm dt}+a_n(t)x=f_2(t)\n",
    "$$    （4）\n",
    "\n",
    "\n",
    "那么由（3）和（4）相加，并利用导数的运算法则得\n",
    "\n",
    "\n",
    "$$\n",
    "\\frac{\\mathrm {d^n}(x_1(t)+x_2(t))}{\\mathrm dt^n}+a_1(t)\\frac{{d^{n-1}}(x_1(t)+x_2(t))}{\\mathrm dt^{n-1}}+\\cdots+a_{n-1}(t)\\frac{\\mathrm d(x_1(t)+x_2(t))}{\\mathrm dt}+a_n(t)x=f_1(t)+f_2(t)\n",
    "$$    \n",
    "\n",
    "说明$x_1(t)+x_2(t)$是方程\n",
    "\n",
    "\n",
    "$$\n",
    "\\frac{\\mathrm {d^n}x}{\\mathrm dt^n}+a_1(t)\\frac{{d^{n-1}}x}{\\mathrm dt^{n-1}}+\\cdots+a_{n-1}(t)\\frac{\\mathrm dx}{\\mathrm dt}+a_n(t)x=f_1(t)+f_2(t)\n",
    "$$\n",
    "\n",
    "的解"
   ]
  },
  {
   "cell_type": "markdown",
   "metadata": {},
   "source": [
    "#   3.已知齐次线性微分方程的基本解组$x_1,x_2$,求下列方程对应的非齐次线性微分方程的通解："
   ]
  },
  {
   "cell_type": "markdown",
   "metadata": {},
   "source": [
    "#### (1)\n",
    "\n",
    "\n",
    "$$\n",
    "x''-x=cost,x_1=e^t,x_2=e^{-t}\n",
    "$$\n",
    "\n",
    "应用常数变易法\n",
    "令\n",
    " $x_(t)=c_1(t)e^t+c_2(t)e^{-t}$ ,代入，可得\n",
    "\n",
    "$\n",
    "c'_1(t)e^t+c'_2(t)e^{-t}=0$ 及 $\n",
    "c'_1(t)e^t-c'_2(t)e^{-t}=cost$ \n",
    "\n",
    "\n",
    "于是\n",
    "\n",
    "$$\n",
    "c_1'(t)=\\frac{1}{2}e^{-t}cost,c_2'(t)=-\\frac{1}{2}e^tcost\n",
    "$$\n",
    "\n",
    "积分得\n",
    "\n",
    "\n",
    "$$\n",
    "c_1(t)=-\\frac{1}{4}e^{-t}（cost-sint)+c_1,c_2(t)=-\\frac{1}{4}e^t(cost+sint)+c_2\n",
    "$$\n",
    "\n",
    "所求通解为 $x_(t)=c_1(t)e^t+c_2(t)e^{-t}-\\frac{1}{2}cost$"
   ]
  },
  {
   "cell_type": "markdown",
   "metadata": {},
   "source": [
    "#### (3)\n",
    "\n",
    "\n",
    "\n",
    "$$\n",
    "x''+4x=tsin2t,x_1=cos2t,x_2=sin2t\n",
    "$$\n",
    "\n",
    "\n",
    "令\n",
    " $x_(t)=c_1(t)cos2t+c_2(t)sin2t$ ,代入，可得\n",
    "\n",
    "$\n",
    "c'_1(t)cos2t+c'_2(t)sin2t=0$ 及 $\n",
    "-2c'_1(t)sin2t+2c'_2(t)cos2t=tsin2t$ \n",
    "\n",
    "\n",
    "于是\n",
    "\n",
    "$$\n",
    "c_1'(t)=\\frac{1}{4}t(cos4t-1),c_2'(t)=\\frac{1}{4}tsin4t\n",
    "$$\n",
    "\n",
    "积分得\n",
    "\n",
    "\n",
    "$$\n",
    "c_1(t)=\\frac{1}{64}cos4t+\\frac{1}{16}tsin4t-\\frac{1}{8}t^2+\\lambda_1,c_2(t)=\\frac{1}{64}sin4t-\\frac{1}{16}tcos4t+\\lambda_2\n",
    "$$\n",
    "\n",
    "所求通解为 $x=c_1cos2t+c_2sin2t-\\frac{1}{8}t^2cos2t+\\frac{1}{16}tsin2t$\n",
    "\n"
   ]
  },
  {
   "cell_type": "markdown",
   "metadata": {},
   "source": [
    "#### (5)$$\n",
    "t^2x''-tx'+x=6t+34t^2,x_1=t,x_2=tInt\n",
    "$$\n",
    "\n",
    "原方程可化为$x''-\\frac{1}{t}x'+\\frac{1}{t^2}x=\\frac{6}{t}+34$\n",
    "令\n",
    " $x_(t)=c_1(t)t+c_2(t)tInt$ ,代入，可得\n",
    "\n",
    "$\n",
    "c'_1(t)t+c'_2(t)tInt=0$ 及 $\n",
    "c'_1(t)+c'_2(t)(Int+1)=\\frac{6}{t}+34$ \n",
    "\n",
    "\n",
    "于是\n",
    "\n",
    "$$\n",
    "c_1'(t)=-Int(\\frac{6}{t}+34),c_2'(t)=\\frac{6}{t}+34\n",
    "$$\n",
    "\n",
    "积分得\n",
    "\n",
    "\n",
    "$\n",
    "c_1(t)=-34(tInt-t)-3(Int)^2+c_1,c_2(t)=34t+6Int+c_2$\n",
    "\n",
    "\n",
    "所求通解为 $x=c_1t+c_2tInt+34t^2+3t(Int)^2$\n",
    "\n",
    "\n"
   ]
  },
  {
   "cell_type": "markdown",
   "metadata": {},
   "source": [
    "# 6.假设$x_1(t)\\neq o$ 是二阶齐次线性微分方程$x''+a_1(t)x'+a_2(t)x=0$的解，这里$a_1(t)和a_2(t)$于区间上连续，试证\n",
    "\n",
    "**（1）**$x_2(t)$是方程的解的充要条件是$W'[x_1,x_2]+a_1W[x_1,x_2]=0$\n",
    "**(2)**方程的通解可表为$x=x_1[c_1\\int \\frac{1}{x^2}exp(-\\int_{t_0}^t\n",
    "a_1(s)  \\mathrm ds)\\mathrm dt+c_2]$\n",
    "\n",
    "其中$c_1,c_2$为任意常数，$t_0,t\\in[a,b]$"
   ]
  },
  {
   "cell_type": "markdown",
   "metadata": {
    "collapsed": true
   },
   "source": [
    "证明\n",
    "（1）$W'[x_1,x_2]+a_1W[x_1,x_2]=0$\n",
    "\n",
    "\n",
    "$x_1x_2''-x_1''x_2+a_1x_1x_2'-a_1x_1'x_2=0$\n",
    "\n",
    "\n",
    "\n",
    "$x_1x_2''-x_1''x_2+a_1x_1x_2'-a_1x_1'x_2+a_2x_1x_2-a_2x_1x_2=0$\n",
    "\n",
    "\n",
    "$x_1(x_2''+a_1x_2+a_2x_2)+0$\n",
    "\n",
    "$x_2''+a_1x_2'+a_2x_2=0(x_1\\neq 0)$     \n",
    "\n",
    "即$x_2$为方程的解"
   ]
  },
  {
   "cell_type": "markdown",
   "metadata": {},
   "source": [
    "（2）由刘维尔公式\n",
    "\n",
    "\n",
    "$$\n",
    "\\begin{vmatrix}\n",
    "x_1& x_2\\\\\n",
    "x_1'& x_2'\\\\\n",
    "\\end{vmatrix}\n",
    "=W（t_0）e^{-\\int_{t_0}^t a_1(s)\\mathrm ds}\n",
    "$$\n",
    "\n",
    "\n",
    "两边同乘以$\\frac{1}{x^2}$则有$\\frac{d\\frac{x_2}{x_1}}{dt}=\\frac{W（t_0）}{x^2_1}e^{-\\int_{t_0}^t a_1(s)\\mathrm ds}$\n",
    "\n",
    "\n",
    "\n",
    "\n",
    "即$x_2=x_1[\\int \\frac{1}{x^2}e^(-\\int_{t_0}^t\n",
    "a_1(s)  \\mathrm ds)\\mathrm dt+c_2]$\n",
    "\n",
    "\n",
    "\n",
    "从而方程的通解\n",
    "$$x=x_1[c_1\\int \\frac{1}{x^2}exp(-\\int_{t_0}^t\n",
    "a_1(s)  \\mathrm ds)\\mathrm dt+c_2]$$"
   ]
  },
  {
   "cell_type": "markdown",
   "metadata": {},
   "source": [
    "# <font color='red'>A 26/10"
   ]
  },
  {
   "cell_type": "code",
   "execution_count": null,
   "metadata": {
    "collapsed": true
   },
   "outputs": [],
   "source": []
  }
 ],
 "metadata": {
  "kernelspec": {
   "display_name": "Python 2",
   "language": "python",
   "name": "python2"
  },
  "language_info": {
   "codemirror_mode": {
    "name": "ipython",
    "version": 2
   },
   "file_extension": ".py",
   "mimetype": "text/x-python",
   "name": "python",
   "nbconvert_exporter": "python",
   "pygments_lexer": "ipython2",
   "version": "2.7.10"
  }
 },
 "nbformat": 4,
 "nbformat_minor": 0
}
