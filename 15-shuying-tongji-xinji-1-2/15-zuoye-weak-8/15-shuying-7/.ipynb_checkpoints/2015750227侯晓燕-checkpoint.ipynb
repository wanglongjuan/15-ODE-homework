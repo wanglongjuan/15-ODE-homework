{
 "cells": [
  {
   "cell_type": "markdown",
   "metadata": {
    "collapsed": false
   },
   "source": [
    "1.设x(t)和y(t)是区间a$\\leq$ t $\\leq$b上的连续函数，证明：如果在区间a$\\leq$ t $\\leq$b上有$\\frac{x(t)}{y(t)}\\neq$常数或$\\frac{y(t)}{x(t)}\\neq$常数，则x(t)和y(t)在区间a$\\leq$ t $\\leq$b上线性无关。"
   ]
  },
  {
   "cell_type": "markdown",
   "metadata": {},
   "source": [
    "解：$$若x(t)和y(t)在区间a\\leq t \\leq b上线性相关$$\n",
    "\n",
    "$$则在区间a\\leq t \\leq b上$$\n",
    "\n",
    "$$存在不全为0的常数c_1,c_2$$\n",
    "\n",
    "$$使得恒等式c_1x(t)+c_2y(t)\\equiv0对于所有的t\\in [a,b]都成立$$\n",
    "\n",
    "$$由于常数c_1,c_2不全为0$$\n",
    "\n",
    "$$当c_1\\neq 0$$\n",
    "\n",
    "$$\\frac{x(t)}{y(t)}=常数$$\n",
    "\n",
    "$$当c_2\\neq 0$$\n",
    "\n",
    "$$\\frac{y(t)}{x(t)}=常数$$\n"
   ]
  },
  {
   "cell_type": "markdown",
   "metadata": {},
   "source": [
    "2.证明非齐次线性微分方程的叠加原理：设$x_1(t),x_2(t)$分别是非齐次线性微分方程\n",
    "\n",
    "$$\\frac{d^nx}{dt^n}+a_1(t)\\frac{d^{n-1}x}{dt^{t-1}}+…+a_n(t)x=f_1(t)$$\n",
    "\n",
    "$$\\frac{d^nx}{dt^n}+a_1(t)\\frac{d^{n-1}x}{dt^{t-1}}+…+a_n(t)x=f_2(t)$$\n",
    "\n",
    "的解，\n",
    "\n",
    "则$x_1(t)+x_2(t)$是方程\n",
    "\n",
    "$$\\frac{d^nx}{dt^n}+a_1(t)\\frac{d^{n-1}x}{dt^{t-1}}+…+a_n(t)x=f_1(t)+f_2(t)$$\n",
    "\n",
    "的解"
   ]
  },
  {
   "cell_type": "markdown",
   "metadata": {},
   "source": [
    "解：由于$x_1(t),x_2(t)$分别是非齐次线性微分方程\n",
    "\n",
    "$$\\frac{d^nx}{dt^n}+a_1(t)\\frac{d^{n-1}x}{dt^{t-1}}+…+a_n(t)x=f_1(t)$$\n",
    "\n",
    "$$\\frac{d^nx}{dt^n}+a_1(t)\\frac{d^{n-1}x}{dt^{t-1}}+…+a_n(t)x=f_2(t)$$\n",
    "\n",
    "的解\n",
    "\n",
    "则将$x_1(t),x_2(t)$分别是代入非齐次线性微分方程\n",
    "\n",
    "$$\\frac{d^n{x_1}}{dt^n}+a_1(t)\\frac{d^{n-1}{x_1}}{dt^{t-1}}+…+a_n(t){x_1}=f_1(t)$$\n",
    "\n",
    "$$\\frac{d^n{x_2}}{dt^n}+a_1(t)\\frac{d^{n-1}{x_2}}{dt^{t-1}}+…+a_n(t){x_2}=f_2(t)$$\n",
    "\n",
    "将上面两式相加，得到\n",
    "\n",
    "$$\\frac{d^n{x_1}}{dt^n}+a_1(t)\\frac{d^{n-1}{x_1}}{dt^{t-1}}+…+a_n(t){x_1}+\\frac{d^n{x_2}}{dt^n}+a_1(t)\\frac{d^{n-1}{x_2}}{dt^{t-1}}+…+a_n(t){x_2}=f_1(t)+f_2(t)$$\n",
    "\n",
    "整理得\n",
    "\n",
    "$$\\frac{d^n（{x_1}+{x_2}）}{dt^n}+a_1(t)\\frac{d^{n-1}（{x_1}+{x_2}）}{dt^{t-1}}+…+a_n(t)({x_1}+{x_2})=f_1(t)+f_2(t)$$\n",
    "\n",
    "故$x_1(t)+x_2(t)$是方程\n",
    "\n",
    "$$\\frac{d^nx}{dt^n}+a_1(t)\\frac{d^{n-1}x}{dt^{t-1}}+…+a_n(t)x=f_1(t)+f_2(t)$$\n",
    "\n",
    "的解"
   ]
  },
  {
   "cell_type": "markdown",
   "metadata": {},
   "source": [
    "3.已知齐次线性微分方程组的基本解组$x_1,x_2$,求下列方程对应的非齐次线性微分方程的通解：\n",
    "\n",
    " (1)$x''-x=cost,x_1=e^t,x_2=e^{-t}$\n",
    "\n",
    " (3)$x''+4x=tsin{2t},x_1=cos{2t},x_2=sin{2t}$\n",
    " \n",
    " (5)$t^2x''-tx'+x=6t+34t^2,x_1=t,x_2=tlnt;$\n"
   ]
  },
  {
   "cell_type": "markdown",
   "metadata": {},
   "source": [
    "解： (1)$x''-x=cost,x_1=e^t,x_2=e^{-t}$\n",
    "\n",
    "则令$x=c_1(x)e^t+c_2(x)e^{-t}$\n",
    "\n",
    "把它代入方程，可得到决定c_1'(x),c_2'(x)的两个方程\n",
    "\n",
    "$$c_1'(x)e^t+c_2'(x)e^{-t}=0$$\n",
    "\n",
    "$$及c_1'(x)e^t-c_2'(x)e^{-t}=cost$$\n",
    "\n",
    "解得$$c_1'(x)=\\frac{cost}{2e^t},c_2'(x)=-\\frac{cost}{2e^{-t}}$$\n",
    "\n",
    "由此\n",
    "$$c_1(x)=\\frac{sint-cost}{4}e^{-t}+\\gamma_1,c_2(x)=\\frac{-1}{4}（sint+cost）e^t+\\gamma_2$$\n",
    "\n",
    "$$故原方程的通解为x=\\frac{-1}{2}cost+\\gamma_1e^t+\\gamma_2e^{-t}\n",
    ",其中\\gamma_1,\\gamma_2为任意常数$$"
   ]
  },
  {
   "cell_type": "markdown",
   "metadata": {},
   "source": [
    "(3)$x''+4x=tsin{2t},x_1=cos{2t},x_2=sin{2t}$\n",
    "\n",
    "则令$x=c_1(x)cos{2t}+c_2(x)sin{2t}$\n",
    "\n",
    "把它代入方程，可得到决定c_1'(x),c_2'(x)的两个方程\n",
    "\n",
    "$$c_1'(x)cos{2t}+c_2'(x)sin{2t}=0$$\n",
    "\n",
    "$$及-2c_1'(x)sin{2t}+c_2'(x)cos{2t}=tsin{2t}$$\n",
    "\n",
    "解得$$c_1'(x)=\\frac{-1}{2}tsintsin2t,c_2'(x)=\\frac{1}{2}tsintcos2t$$\n",
    "\n",
    "由此\n",
    "$$c_1(x)=\\frac{1}{4}[\\frac{1}{3}tsin3t+\\frac{1}{9}cos3t-tsint-cost]+\\gamma_1,c_2(x)=\\frac{1}{4}[-\\frac{1}{3}tcos3t+\\frac{1}{9}sin3t+tcost-sint]+\\gamma_2$$\n",
    "\n",
    "$$故原方程的通解为x=\\gamma_1cos2t+\\gamma_sin2t+\\frac{t}{3}sint-\\frac{2}{9}cost\n",
    ",其中\\gamma_1,\\gamma_2为任意常数$$"
   ]
  },
  {
   "cell_type": "markdown",
   "metadata": {},
   "source": [
    "(5)$t^2x''-tx'+x=6t+34t^2,x_1=t,x_2=tlnt;$\n",
    "\n",
    "则令$x=c_1(x)t+c_2(x)tlnt$\n",
    "\n",
    "把它代入方程，可得到决定c_1'(x),c_2'(x)的两个方程\n",
    "\n",
    "$$c_1'(x)t+c_2'(x)tlnt=0$$\n",
    "\n",
    "$$及c_1'(x)+c_2'(x)(lnt+1)=6t+34t^2$$\n",
    "\n",
    "解得$$c_1'(x)=\\frac{\\frac{6}{t}+34}{2+lnt},c_2'(x)=\\frac{6}{t}+34$$\n",
    "\n",
    "由此\n",
    "$$c_1(x)=-34(tlnt)-3(lnt)^2+\\gamma_1,c_2(x)=34t+6lnt+\\gamma_2$$\n",
    "\n",
    "$$故原方程的通解为x=\\gamma_1t+\\gamma_2tlnt+34t^2+3t(lnt)^2\n",
    ",其中\\gamma_1,\\gamma_2为任意常数$$"
   ]
  },
  {
   "cell_type": "markdown",
   "metadata": {},
   "source": [
    "6.假设$x_1(t)\\neq$0是二阶齐次线性微分方程组\n",
    "\n",
    "$$x''+a_1(t)x'+a_2(t)x=0$$\n",
    "\n",
    "的解，这里的$a_1(t)和a_2(t)$于区间[a,b]上连续，试证：\n",
    "\n",
    "（1）$x_2(t)$为方程的解得充要条件是$W'[x_1,x_2]+a_1W[x_1，x_2]=0$;\n",
    "\n",
    "(2)方程的通解可表为\n",
    "$x=x_1[c_1 \\int \\mathrm {\\frac{1}{x^2}exp(-\\int_{t_0}^t \\mathrm a_1(s)\\,\\mathrm {d}s)}\\,\\mathrm {d}t +c_2]$\n",
    "$其中c_1,c_2为任意常数，t_0,t\\in[a,b].$"
   ]
  },
  {
   "cell_type": "markdown",
   "metadata": {},
   "source": [
    "解：\n",
    "（1）\n",
    "证充分性\n",
    "已知$x_2(t)$是方程的解\n",
    "则\n",
    "$${x_1}''+a_1(t){x_1}'+a_2(t){x_1}''=0$$\n",
    "$${x_2}''+a_1(t){x_2}'+a_2(t){x_2}''=0$$\n",
    "又\n",
    "$$\n",
    "W’[x_1，x_2]=\\begin{vmatrix}\n",
    "x_1’&x_2'\\\\\n",
    "x_1'&x_2\\\\\n",
    "\\end{vmatrix}\n",
    "+\n",
    "\\begin{vmatrix}\n",
    "x_1&x_2\\\\\n",
    "x_1''&x_2''\\\\\n",
    "\\end{vmatrix}\n",
    "$$\n",
    "$$\n",
    "W[x_1，x_2]=\\begin{vmatrix}\n",
    "x_1&x_2\\\\\n",
    "x_1'&x_2'\\\\\n",
    "\\end{vmatrix}\n",
    "$$\n",
    "$$W'[x_1,x_2]+a_1(t)W[x_1，x_2]=\n",
    "\\begin{vmatrix}\n",
    "x_1&x_2\\\\\n",
    "x_1''&x_2''\\\\\n",
    "\\end{vmatrix}\n",
    "+a_1\n",
    "\\begin{vmatrix}\n",
    "x_1&x_2\\\\\n",
    "x_1''&x_2''\\\\\n",
    "\\end{vmatrix}\n",
    "$$\n",
    "$$=\n",
    "\\begin{vmatrix}\n",
    "x_1&x_2\\\\\n",
    "x_1''+a_1(t) x_1''&x_2''+a_1(t) x_2''\\\\\n",
    "\\end{vmatrix}\n",
    "$$\n",
    "$$\n",
    "=\n",
    "\\begin{vmatrix}\n",
    "x_1&x_2\\\\\n",
    "-a_2(t) x_1'&-a_2(t) x_2'\\\\\n",
    "\\end{vmatrix}\n",
    "$$\n",
    "$$=x_1 x_2\n",
    "\\begin{vmatrix}\n",
    "1&1\\\\\n",
    "-a_2(t)&-a_2(t)\\\\\n",
    "\\end{vmatrix}\n",
    "$$\n",
    "$$=0$$\n",
    "必要性\n",
    "$W'[x_1,x_2]+a_1W[x_1，x_2]=0$\n",
    "$$W'[x_1,x_2]+a_1W[x_1，x_2]=\n",
    "\\begin{vmatrix}\n",
    "x_1&x_2\\\\\n",
    "x_1''&x_2''\\\\\n",
    "\\end{vmatrix}\n",
    "+a_1\n",
    "\\begin{vmatrix}\n",
    "x_1&x_2\\\\\n",
    "x_1''&x_2''\\\\\n",
    "\\end{vmatrix}\n",
    "$$\n",
    "$$=\n",
    "\\begin{vmatrix}\n",
    "x_1&x_2\\\\\n",
    "x_1''+a_1(t) x_1''&x_2''+a_1(t) x_2''\\\\\n",
    "\\end{vmatrix}\n",
    "$$\n",
    "$$\n",
    "=\n",
    "\\begin{vmatrix}\n",
    "x_1&x_2\\\\\n",
    "-a_2(t) x_1''&x_2''+a_1(t) x_2''\\\\\n",
    "\\end{vmatrix}\n",
    "$$\n",
    "$$\n",
    "=x_1 \n",
    "\\begin{vmatrix}\n",
    "1& x_2\\\\\n",
    "-a_2(t)'&x_2''+a_1(t) x_2''\\\\\n",
    "\\end{vmatrix}\n",
    "$$\n",
    "$$=0$$\n",
    "故$${x_2}''+a_1(t){x_2}'+a_2(t){x_2}''=0$$\n",
    "故$x_2是方程的解$"
   ]
  },
  {
   "cell_type": "markdown",
   "metadata": {
    "collapsed": true
   },
   "source": [
    "（2）由刘维尔公式\n",
    "$$\n",
    "W（t_0）e^{-\\int_{t_0}^t \\mathrm a_1(s)\\,\\mathrm {d}s}\n",
    "=\\begin{vmatrix}\n",
    "x_1&x_2\\\\\n",
    "x_1'&x_2'\\\\\n",
    "\\end{vmatrix}\n",
    "$$\n",
    "整理得\n",
    "$$W（t_0）e^{-\\int_{t_0}^t \\mathrm a_1(s)\\,\\mathrm {d}s}=x_1 x_2'-x_1' x_2$$\n",
    "两边同时除以$x_1^2$,得\n",
    "$$\\frac{W（t_0）}{(x_1)^2}e^{-\\int_{t_0}^t \\mathrm a_1(s)\\,\\mathrm {d}s}=\\frac{x_1 x_2'-x_1' x_2}{(x_1)^2}$$\n",
    "整理得，$$\\frac{x_2}{x_1}=c_2 \\int \\mathrm {\\frac{1}{x^2}e^{-\\int_{t_0}^t \\mathrm a_1(s)\\,\\mathrm {d}s}\\,\\mathrm {d}t }+c_1$$\n",
    "$$x_2=(c_2 \\int \\mathrm {\\frac{1}{x^2}e^{-\\int_{t_0}^t \\mathrm a_1(s)\\,\\mathrm {d}s}\\,\\mathrm {d}t }+c_1)x_1$$\n",
    "令$c_1=0,c_2=1$,得\n",
    "$$x_2=(\\int \\mathrm {\\frac{1}{x^2}e^{-\\int_{t_0}^t \\mathrm a_1(s)\\,\\mathrm {d}s}\\,\\mathrm {d}t })x_1$$\n",
    "原方程的通解为$$x=x_1[c_1 \\int \\mathrm {\\frac{1}{x^2}exp(-\\int_{t_0}^t \\mathrm a_1(s)\\,\\mathrm {d}s)}\\,\\mathrm {d}t +c_2]\n",
    ",其中c_1,c_2为任意常数，t_0,t\\in[a,b].$$\n",
    "证毕"
   ]
  },
  {
   "cell_type": "markdown",
   "metadata": {
    "collapsed": true
   },
   "source": [
    "# <font color='red'>A 26/10"
   ]
  },
  {
   "cell_type": "code",
   "execution_count": null,
   "metadata": {
    "collapsed": true
   },
   "outputs": [],
   "source": []
  }
 ],
 "metadata": {
  "kernelspec": {
   "display_name": "Python 2",
   "language": "python",
   "name": "python2"
  },
  "language_info": {
   "codemirror_mode": {
    "name": "ipython",
    "version": 2
   },
   "file_extension": ".py",
   "mimetype": "text/x-python",
   "name": "python",
   "nbconvert_exporter": "python",
   "pygments_lexer": "ipython2",
   "version": "2.7.10"
  }
 },
 "nbformat": 4,
 "nbformat_minor": 0
}
