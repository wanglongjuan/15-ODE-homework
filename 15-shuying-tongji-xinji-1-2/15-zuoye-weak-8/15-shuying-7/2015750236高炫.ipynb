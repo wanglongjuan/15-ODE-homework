{
 "cells": [
  {
   "cell_type": "markdown",
   "metadata": {},
   "source": [
    "# 1.设x(t)和y(t)是区间$a\\le t\\le b$上的连续函数，证明：如果在区间$a\\le t\\le b$上有$\\frac{x(t)} {y(t)}\\not=常数或\\frac{y(t)} {x(t)}\\not=常数$，则x(t)和y(t)在区间$a\\le t\\le b$上线性无关."
   ]
  },
  {
   "cell_type": "markdown",
   "metadata": {},
   "source": [
    "证明：用反证法证明.假设x(t)和y(t)在区间[a,b]上线性相关，则存在不全为零上的常数$C_1和C_2$使得\n",
    "$$C_1x(t)+C_2y(t)\\equiv 0,t\\in[a,b]$$\n",
    "若$C_1\\not=0$,则$$\\frac{y(t)} {x(t)}=-\\frac{C_1} {C_2}=常数$$;\n",
    "若$C_2\\not=0$,则$$\\frac{x(t)} {y(t)}=-\\frac{C_2} {C_1}=常数$$.\n",
    "可见在两种情况下，都与已知条件$\\frac{x(t)} {y(t)}\\not=常数或\\frac{y(t)} {x(t)}\\not=常数$矛盾，所以假设不成立，即证明了x(t)和y(t)在区间$a\\le t\\le b$上是线性无关的."
   ]
  },
  {
   "cell_type": "markdown",
   "metadata": {},
   "source": [
    "# 2.证明非齐次线性微分方程的叠加原理：设$x_1(t),x_2(t)$分别是非齐次线性微分方程\n",
    "$$\\frac{d^n x} {dt^n}+a_1(t)\\frac{d^{n-1} x} {dt^{n-1}}+\\cdots+a_n(t)x=f_1(t)$$\n",
    "$$\\frac{d^n x} {dt^n}+a_1(t)\\frac{d^{n-1} x} {dt^{n-1}}+\\cdots+a_n(t)x=f_2(t)$$\n",
    "# 的解，则$x_1(t)+x_2(t)$是方程\n",
    "$$\\frac{d^n x} {dt^n}+a_1(t)\\frac{d^{n-1} x} {dt^{n-1}}+\\cdots+a_n(t)x=f_1(t)+f_2(t)$$\n",
    "# 的解"
   ]
  },
  {
   "cell_type": "markdown",
   "metadata": {},
   "source": [
    "证：$x_1(t),x_2(t)$分别是# 2.证明非齐次线性微分方程\n",
    "$$\\frac{d^n x} {dt^n}+a_1(t)\\frac{d^{n-1} x} {dt^{n-1}}+\\cdots+a_n(t)x=f_1(t)$$\n",
    "$$\\frac{d^n x} {dt^n}+a_1(t)\\frac{d^{n-1} x} {dt^{n-1}}+\\cdots+a_n(t)x=f_2(t)$$\n",
    "的解,所以满足\n",
    "$$\\frac{d^n x_1(t)} {dt^n}+a_1(t)\\frac{d^{n-1} x_1(t)} {dt^{n-1}}+\\cdots+a_n(t)x_1(t)=f_1(t)$$\n",
    "$$\\frac{d^n x_2(t)} {dt^n}+a_1(t)\\frac{d^{n-1} x_2(t)} {dt^{n-1}}+\\cdots+a_n(t)x_2(t)=f_2(t)$$\n",
    "将以上两式相加，并且利用导数的运算法则有\n",
    "$$\\frac{d^n (x_1(t)+x_2(t))} {dt^n}+a_1(t)\\frac{d^{n-1} (x_1(t)+x_2(t))} {dt^{n-1}}+\\cdots+a_n(t)(x_1(t)+x_2(t))=f_1(t)+f_2(t)$$\n",
    "即$x_1(t)+x_2(t)$是方程\n",
    "$$\\frac{d^n x} {dt^n}+a_1(t)\\frac{d^{n-1} x} {dt^{n-1}}+\\cdots+a_n(t)x=f_1(t)+f_2(t)$$\n",
    "的解"
   ]
  },
  {
   "cell_type": "markdown",
   "metadata": {},
   "source": [
    "# 3.已知齐次线性微分方程的基本解组$x_1,x_2$,求下列方程对应的非齐次线性微分方程的通解："
   ]
  },
  {
   "cell_type": "markdown",
   "metadata": {},
   "source": [
    "## (1)$x''-x=\\cos t,x_1=e^t,x_2=e^{-t}$;"
   ]
  },
  {
   "cell_type": "markdown",
   "metadata": {},
   "source": [
    "## (2).$x''+4x=t\\sin t,x_1=\\cos 2t,x_2=\\sin 2t$"
   ]
  },
  {
   "cell_type": "markdown",
   "metadata": {},
   "source": [
    "## (2).$x''+4x=t\\sin t,x_1=\\cos 2t,x_2=\\sin 2t$"
   ]
  },
  {
   "cell_type": "markdown",
   "metadata": {},
   "source": [
    "## (2).$x''+4x=t\\sin t,x_1=\\cos 2t,x_2=\\sin 2t$"
   ]
  },
  {
   "cell_type": "markdown",
   "metadata": {},
   "source": [
    "令$x_1=C_1(t)\\cos 2t+C_2(t)\\sin 2t$,将它代入方程，则可得决定$C'_1(t)和C'_2(t)$的两个方程\n",
    "$$C'_1(t)\\cos 2t+C'_2(t)\\sin 2t=0$$\n",
    "及$$-2\\sin 2tC'_1(t)+2\\cos 2tC'_2(t)=t\\sin t$$\n",
    "解得$$C'_1(t)=-\\frac{1} {2}t\\sin t\\sin 2t,C'_2(t)=-\\frac{1} {2}t\\sin t\\cos 2t$$\n",
    "由此$$C_1(t)=\\frac{1} {4}[\\frac{1} {3}t\\sin 3t+\\frac{1} {9}\\cos 3t-t\\sin t-\\cos t]+C_1$$\n",
    "和$$C_2(t)=\\frac{1} {4}[-\\frac{1} {3}t\\cos 3t+\\frac{1} {9}\\sin 3t-t\\cos t-\\sin t]+C_2$$\n",
    "于是方程的通解是$x=C_1\\cos 2t+C_2\\sin 2t+\\frac{t} {3}\\sin t-\\frac{2} {9}\\cos t$"
   ]
  },
  {
   "cell_type": "markdown",
   "metadata": {},
   "source": [
    "## (3)$t^2 x''-t x'+x=6t+34t^2,x_1=t,x_2=t\\ln t$"
   ]
  },
  {
   "cell_type": "markdown",
   "metadata": {},
   "source": [
    "方程可以变形为$x''-\\frac{1} {t}x'+\\frac{1} {t^2}x=\\frac{6} {t}+34$\n",
    "令方程的解为$x=tC_1(t)+t\\ln t C_2(t)$,将它代入方程，则可得决定$C'_1(t)和C'_2(t)$的两个方程\n",
    "$$tC'_1(t)+t\\ln t C'_2(t)=0$$\n",
    "及$$C'_1(t)+（\\ln t+1） C'_2(t)=（\\frac{6} {t}+34)$$\n",
    "$$C'_2(t)=\\frac{6} {t}+34$$\n",
    "由此$$C_1(t)=-34(t\\ln t)-3(\\ln t)^2+C_1$$,$$C_2(t)=34t+6\\ln t+C_2$$\n",
    "于是方程的通解为$x=C_1 t+C_2 t\\ln t+34t^2+3t(\\ln t)^2$"
   ]
  },
  {
   "cell_type": "markdown",
   "metadata": {},
   "source": [
    "# 4.假设$x_1(t)\\not=0$是二阶齐次方程线性微分方程$$x''+a_1(t)x'+a_2(t)x=0$$的解，这里$a_1(t)和a_2(t)$于区间[a,b]上连续，试证：（1）x_2(t)为方程的解的充分必要条件是$$W'[x_1,x_2]+a_1W[x_1,x_2]=0$$(2)方程的通解可表示为$$x=x_1[c_1\\int\\mathrm{\\frac{1} {x^2} exp(-\\int_{t_0}^t \\mathrm{a_1(s)}\\,\\mathrm{d}s)}\\,\\mathrm{d}t+c_2]$$其中$c_1,c_2$为任意常数，$t_0,t\\in[a,b]$"
   ]
  },
  {
   "cell_type": "markdown",
   "metadata": {},
   "source": [
    "证明：（1）充分性：由于\n",
    "$$W'[x_1,x_2]=\\left|\\begin{array}{cccc}\n",
    "x'_1& x'_2\\\\\n",
    "x'_1& x'_2\\\\\n",
    "\\end{array}\\right|\n",
    "+\\left|\\begin{array}{cccc}\n",
    "x_1& x_2\\\\\n",
    "x''_1& x''_2\\\\\n",
    "\\end{array}\\right|\n",
    "=\\left|\\begin{array}{cccc}\n",
    "x_1& x_2\\\\\n",
    "x''_1& x''_2\\\\\n",
    "\\end{array}\\right|,$$\n",
    "$$\\begin{aligned}W'[x_1,x_2]+a_1(t)W[x_1,x_2]&=\\left|\\begin{array}{cccc}\n",
    "x_1& x_2\\\\\n",
    "x''_1& x''_2\\\\\n",
    "\\end{array}\\right|\n",
    "+a_1(t)\\left|\\begin{array}{cccc}\n",
    "x_1& x_2\\\\\n",
    "x'_1& x'_2\\\\\n",
    "\\end{array}\\right|\n",
    "\\\\&=\\left|\\begin{array}{cccc}\n",
    "x_1& x_2\\\\\n",
    "x''_1+a_1(t)x'_1& x''_2+a_1(t)x'_2\\\\\n",
    "\\end{array}\\right|=0\\end{aligned}$$\n",
    "而$x_1(t)=0$是已知方程的解，则有\n",
    "$$\n",
    "\\left|\\begin{array}{cccc}\n",
    "x_1& x_2\\\\\n",
    "-a_2(t)x_1& x''_2+a_1(t)x'_2\\\\\n",
    "\\end{array}\\right|\n",
    "=x_1{\\left|\\begin{array}{cccc}\n",
    "1& x_2\\\\\n",
    "-a_2(t)& x''_2+a_1(t)x'_2\\\\\n",
    "\\end{array}\\right|}\n",
    "=0$$\n",
    "故有$$x''_2+a_1(t)x'_2+a_2(t)x_2=0$$\n",
    "即$x_2(t)$是已知方程的解\n",
    "\n",
    "\n",
    "必要性：$W[x_1,x_2]$是方程的解$x_1(t),x_2(t)$的朗斯基行列式，所以\n",
    "$$\\begin{aligned}W'[x_1,x_2]&=\\left|\\begin{array}{cccc}\n",
    "x_1& x_2\\\\\n",
    "x''_1& x''_2\\\\\n",
    "\\end{array}\\right|\n",
    "=\\left|\\begin{array}{cccc}\n",
    "x_1& x_2\\\\\n",
    "x''_1+a_1(t)x_1& x''_2+a_1(t)x_2\\\\\n",
    "\\end{array}\\right|\n",
    "\\\\&=\\left|\\begin{array}{cccc}\n",
    "1& x_2\\\\\n",
    "-a_1(t)+x'_1& a_1(t)x'_2\\\\\n",
    "\\end{array}\\right|\n",
    "\\\\&=-a_1(t){\\left|\\begin{array}{cccc}\n",
    "x_1& x_2\\\\\n",
    "x'_1& x'_2\\\\\n",
    "\\end{array}\\right|}\n",
    "=-a_1(t)W[x_1,x_2]\\end{aligned}$$\n",
    "即$W[x_1,x_2]满足W'[x_1,x_2]+a_1(t)W[x_1,x_2]=0$"
   ]
  },
  {
   "cell_type": "markdown",
   "metadata": {
    "collapsed": true
   },
   "source": [
    "(2)因为$x_1,x_2$为方程解，则由刘维尔公式\n",
    "$$\\left|\\begin{array}{cccc}\n",
    "x_1& x_2\\\\\n",
    "x'_1& x'_2\\\\\n",
    "\\end{array}\\right|\n",
    "=W(t_0)e^{-\\int_{t_0}^t\\mathrm{a_1(s)}\\,\\mathrm{d}s}$$\n",
    "即$$x_1x'_2-x'_1x_2=W(t_0))e^{-\\int_{t_0}^t\\mathrm{a_1(s)}\\,\\mathrm{d}s}$$\n",
    "方程两边同乘以$\\frac{1} {x^2_1}$，则有$\\frac{d(\\frac{x_2} {x_1})} {dt}=\\frac{W(t_0)} {x^2_1} e^{-\\int_{t_0}^t\\mathrm{a_1(s)}\\,\\mathrm{d}s}$,于是$$x_2=(c_1{\\int\\mathrm{\\frac{1} {x^2_1} e^{-\\int_{t_0}^t\\mathrm{a_1(s)}\\,\\mathrm{d}s}}\\,\\mathrm{d}t}+c_2) x_1$$\n",
    "取$c_1=1,c_2=0$,得$$x_2=x_1{\\int\\mathrm{\\frac{1} {x^2_1} e^{-\\int_{t_0}^t\\mathrm{a_1(s)}\\,\\mathrm{d}s}}\\,\\mathrm{d}t}$$\n",
    "又$$W(t)=\\left|\\begin{array}{cccc}\n",
    "x_1& x_2\\\\\n",
    "x'_1& x'_2\\\\\n",
    "\\end{array}\\right|\n",
    "=e^{-\\int_{t_0}^t\\mathrm{a_1(s)}\\,\\mathrm{d}s}\\not=0$$\n",
    "从而原方程的通解可以表示为\n",
    "$$x=x_1[c_1{\\int\\mathrm{\\frac{1} {x^2_1} exp(-\\int_{t_0}^t\\mathrm{a_1(s)}\\,\\mathrm{d}s)}\\,\\mathrm{d}t}+c_2]$$\n",
    "其中$c_1,c_2为常数，t_0,t\\in[a,b]$"
   ]
  },
  {
   "cell_type": "markdown",
   "metadata": {
    "collapsed": true
   },
   "source": [
    "# <font color='red'>A 26/10"
   ]
  },
  {
   "cell_type": "code",
   "execution_count": null,
   "metadata": {
    "collapsed": true
   },
   "outputs": [],
   "source": []
  }
 ],
 "metadata": {
  "kernelspec": {
   "display_name": "SageMath 7.3",
   "language": "",
   "name": "sagemath"
  },
  "language_info": {
   "codemirror_mode": {
    "name": "ipython",
    "version": 2
   },
   "file_extension": ".py",
   "mimetype": "text/x-python",
   "name": "python",
   "nbconvert_exporter": "python",
   "pygments_lexer": "ipython2",
   "version": "2.7.10"
  }
 },
 "nbformat": 4,
 "nbformat_minor": 0
}
