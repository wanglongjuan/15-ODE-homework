{
 "cells": [
  {
   "cell_type": "markdown",
   "metadata": {},
   "source": [
    "**常微分方程第六次作业**\n",
    "\n",
    "                     信计一班 唐梦圆 2015710823\n",
    "                         "
   ]
  },
  {
   "cell_type": "markdown",
   "metadata": {},
   "source": [
    "1.$设x(t)、y(t)是区间a\\leq t\\leq b上的连续函数，证明：如果在区间a\\leq t\\leq b上有\\frac{x(t)}{y(t)} \\neq常数或\\frac{y(t)}{x(t)}\\neq常数，则x(t)和y(t)在区间a \\leq t \\leq b上线性无关。(提示：用反证法）$"
   ]
  },
  {
   "cell_type": "markdown",
   "metadata": {},
   "source": [
    "$证:假设x(t)和y(t)在区间a \\leq t \\leq b上线性相关\\\\    \n",
    "   则存在不全为零的两个数C_1、C_2使得   C_1x(t)+C_2y(t)\\equiv 0(t \\in [a,b])  \\\\\n",
    "   当C_1 \\neq 0时，有    \\frac{x(t)}{y(t)}=-\\frac{C_2}{C_1} =常数\\\\   \n",
    "   当C_2 \\neq 0时，有    \\frac{y(t)}{x(t)}=-\\frac{C_1}{C_2} =常数  \\\\\n",
    "   此时与题目中\\frac{x(t)}{y(t)} \\neq常数或\\frac{y(t)}{x(t)}\\neq常数产生矛盾 ，那么假设不成立\\\\     \n",
    "   即:x(t)和y(t)在区间a \\leq t \\leq b上线性无关.$"
   ]
  },
  {
   "cell_type": "markdown",
   "metadata": {},
   "source": [
    "2.$证明非齐次线性微分方程的叠加原理：设x_1(t),x_2(t)分别是非齐次线性方程\\\\  \n",
    "\\frac{\\mathrm d^n x}{\\mathrm d t^n}+a_1(t)\\frac{\\mathrm d^{n-1} x}{\\mathrm d t^{n-1}}+ \\ldots +a_n(t)x=f_1(t)\\\\\n",
    "\\frac{\\mathrm d^n x}{\\mathrm d t^n}+a_1(t)\\frac{\\mathrm d^{n-1} x}{\\mathrm d t^{n-1}}+\\ldots+a_n(t)x=f_2(t) \\\\  \n",
    "的解，则x_1(t)+x_2(t)为方程\\\\   \n",
    "\\frac{\\mathrm d^n x}{\\mathrm d t^n}+a_1(t)\\frac{\\mathrm d^{n-1} x}{\\mathrm d t^{n-1}}+\\ldots+a_n(t)x=f_1(t)+f_2(t)\\\\\n",
    "的解。$"
   ]
  },
  {
   "cell_type": "markdown",
   "metadata": {
    "collapsed": true
   },
   "source": [
    "$证：  \n",
    " x_1(t)是\\frac{\\mathrm d^n x}{\\mathrm d t^n}+a_1(t)\\frac{\\mathrm d^{n-1} x}{\\mathrm d t^{n-1}}+ \\ldots +a_n(t)x=f_1(t)的解，\\\\\n",
    " 即：\\frac{\\mathrm d^n x_1}{\\mathrm d t^n}+a_1(t)\\frac{\\mathrm d^{n-1} x_1}{\\mathrm d t^{n-1}}+ \\ldots +a_n(t)x_1=f_1(t)\\\\   \n",
    "x_2(t)是\\frac{\\mathrm d^n x}{\\mathrm d t^n}+a_1(t)\\frac{\\mathrm d^{n-1} x}{\\mathrm d t^{n-1}}+\\ldots+a_n(t)x=f_2(t)的解，\\\\\n",
    "即：\\frac{\\mathrm d^n x_2}{\\mathrm d t^n}+a_1(t)\\frac{\\mathrm d^{n-1} x_2}{\\mathrm d t^{n-1}}+\\ldots+a_n(t)x_2=f_2(t)\\\\       \n",
    "将两式子相加并利用导数的运算法则得到：\\\\\n",
    "\\frac{\\mathrm d^n (x_1+x_2)}{\\mathrm d t^n}+a_1(t)\\frac{\\mathrm d^{n-1} (x_1+x_2)}{\\mathrm d t^{n-1}}+\\ldots+a_n(t)(x_1+x_2)=f_1(t)+f_2(t)\\\\     \n",
    "即：x_1(t)+x_2(t)是方程\\frac{\\mathrm d^n x}{\\mathrm d t^n}+a_1(t)\\frac{\\mathrm d^{n-1} x}{\\mathrm d t^{n-1}}+\\ldots+a_n(t)x=f_1(t)+f_2(t) 的解。$"
   ]
  },
  {
   "cell_type": "markdown",
   "metadata": {},
   "source": [
    "3.已知齐次线性微分方程的基本解组$x_1,x_2$，求下列方程对应的非齐次线性方程的通解。"
   ]
  },
  {
   "cell_type": "markdown",
   "metadata": {},
   "source": [
    "（1）$x''-x=\\cos t,x_1=e^t,x_2=e^{-t}$"
   ]
  },
  {
   "cell_type": "markdown",
   "metadata": {},
   "source": [
    "$解： \n",
    "  由常数变易法得到 \\\\\n",
    "  x=C_1(t)x_1+C_2(t)x_2\\\\  \n",
    "  x=C_1(t)e^t+C_2(t)e^{-t}\\\\  \n",
    "   将它带入方程，则可得决定C_1(t)和C_2(t)的两个方程\\\\  \n",
    "   C'_1 (t)e^t+C'_2(t)e^{-t}=0及C'_1 (t)e^t-C'_2(t)e^{-t}=\\cos t\\\\ \n",
    "   解得\\\\ \n",
    "   C'_1(t)=\\frac{1}{2}\\cos t\\cdot e^{-t} ,C'_2(t)=-\\frac{1}{2}\\cos t\\cdot e^t \n",
    "   所以\\\\  \n",
    "   C_1(t)=\\frac{\\sin t -\\cos t}{4}\\cdot e^{-t}+\\gamma_1,C_2(t)=-\\frac{\\sin t +\\cos t}{4}\\cdot e^t+\\gamma_2   \n",
    "   得到原方程的通解为\\\\\n",
    "   x=\\gamma_1 e^t+\\gamma_2 e^{-t}-\\frac{1}{2}\\cos t$"
   ]
  },
  {
   "cell_type": "markdown",
   "metadata": {},
   "source": [
    "（3）$x''+4x=t\\sin{2t},x_1=\\cos{2t},x_2=sin{2t}$"
   ]
  },
  {
   "cell_type": "markdown",
   "metadata": {},
   "source": [
    "解：$由常数变易法得到\\\\\n",
    "x=C_1(t)x_1+C_2(t)x_2\\\\ \n",
    "x=C_1(t)\\cos 2t+C_2(t)\\sin 2t\\\\  \n",
    "   将它代入方程，则可得 ：\\\\   \n",
    "   C'_1 (t)\\cos 2t+C'_2(t)\\sin 2t=0及-2C'_1(t)\\sin 2t+2C'_2(t)\\cos 2t=t\\sin{2t}\\\\  \n",
    "   解得\\\\\n",
    "   C'_1(t)=-\\frac{1}{2}t \\sin t \\sin{2t},C'_2(t)=\\frac{1}{2}t\\sin t \\cos{2t}\\\\    \n",
    "   由此\\\\  \n",
    "   C_1(t)=\\frac{1}{4}[\\frac{1}{3}t\\sin{3t}+\\frac{1}{9}\\cos{3t}-t\\sin t-\\cos t]+C_1\\\\   \n",
    "   C_2(t)=\\frac{1}{4}[-\\frac{1}{3}t\\cos{3t}+\\frac{1}{9}\\sin{3t}-t\\cos t-\\sin t]+C_2\\\\  \n",
    "   得到原方程的通解为\\\\\n",
    "   x=C_1\\cos{2t}+C_2\\sin{2t}+\\frac{t}{3}\\sin t-\\frac{2}{9}\\cos t$"
   ]
  },
  {
   "cell_type": "markdown",
   "metadata": {},
   "source": [
    "(5)$t^2x''-tx'+x=6t+34t^2,x_1=t,x_2=t lnt$"
   ]
  },
  {
   "cell_type": "markdown",
   "metadata": {},
   "source": [
    "解：$方程可以变形为：\\\\\n",
    "x''-\\frac{1}{t}x'+\\frac{1}{t^2}x=\\frac{6}{t}+34\\\\  \n",
    "令方程的解为x=t\\cdot C_1(t)+tInt\\cdot C_2(t)\\\\ \n",
    "将其代入方程，则可得\\\\  \n",
    "t\\cdot C'_1(t)+tlnt\\cdot C'_2(t)=0及C'_1(t)+(lnt+1)C'_2(t)=\\frac{6}{t}+34\\\\  \n",
    "所以 \\\\ \n",
    "C_1(t)=-34(tlnt-t)-3(lnt)^2+C_1 \\\\\n",
    "C_2(t)=34t+6lnt+C_2\\\\  \n",
    "得到原方程的通解为\\\\\n",
    "x=C_1\\cdot t+C_2 tlnt+34t^2+3t(lnt)^2$"
   ]
  },
  {
   "cell_type": "markdown",
   "metadata": {},
   "source": [
    "6.假设$x_1 \\neq 0$是二阶齐次线性微分方程$x\\prime\\prime+a_1(t)x\\prime+a_2(t)x=0$的解，这里$a_1(t)$和$a_2(t)$于区间$[a,b]$上连续，试证：   "
   ]
  },
  {
   "cell_type": "markdown",
   "metadata": {},
   "source": [
    "$（1）x_2(t)为方程的解的充要条件是W'[x_1,x_2]+a_1W[x_1,x_2]=0\\\\\n",
    "（2）方程的通解可表为x=x_1[c_1 \\int \\frac{1}{x^2}e^{-\\int_{t_0}^t a_1(s) \\mathrm d s} \\mathrm d t+c_2],其中c_1,c_2为任意常数，t_0,t \\in [a,b]$"
   ]
  },
  {
   "cell_type": "markdown",
   "metadata": {},
   "source": [
    "(1)$证：  \n",
    "   先证充分性：\\\\ \n",
    "   由于 W'[x_1,x_2]=\\begin{vmatrix} x'_1 & x'_2 \\\\x'_1 & x'_2\\\\ \\end{vmatrix}+\\begin{vmatrix} x_1 & x_2 \\\\x''_1 & x''_2\\\\ \\end{vmatrix}=\\begin{vmatrix} x_1 & x_2 \\\\x''_1 & x''_2\\\\ \\end{vmatrix}\\\\      \n",
    "   W'[x_1,x_2]+a_1(t)W[x_1,x_2]=\\begin{vmatrix} x_1 & x_2 \\\\x''_1 & x''_2\\\\ \\end{vmatrix}+a_1(t)\\begin{vmatrix} x_1 & x_2 \\\\x'_1 & x'_2\\\\ \\end{vmatrix}=\\begin{vmatrix} x_1 & x_2 \\\\x''_1 +a_1(t)x'_1 & x''_2+a_1(t)x'_2\\\\ \\end{vmatrix}=0\\\\     \n",
    "   又x_1(t) \\neq 0是已知方程的解，所以 \\\\ \n",
    "   \\begin{vmatrix} x_1 & x_2 \\\\-a_2(t)x'_1 & x''_2+a_1(t)x'_2\\\\ \\end{vmatrix}=x_1\\begin{vmatrix} 1 & x_2 \\\\-a_2(t) +a_1(t)x'_1 &     x''_2+a_1(t)x'_2\\\\ \\end{vmatrix}=0\\\\      \n",
    "   故有x''_2+a_1(t)x'_2+a_2(t)x_2=0\\\\       \n",
    "   再证必要:\\\\\n",
    "   由于W[x_1,x_2]是方程的解x_1(t),x_2(t)的朗斯基行列式，所以\\\\  \n",
    "   W'[x_1,x_2]=\\begin{vmatrix} x_1 & x_2 \\\\x''_1 & x''_2\\\\ \\end{vmatrix}=\\begin{vmatrix} x_1 & x_2 \\\\x''_1 +a_2(t)x_1 & x''_2+a_2(t)x_2\\\\ \\end{vmatrix}=\\begin{vmatrix} x_1 & x_2 \\\\-a_1(t)x'_1 & -a_1(t)x'_2\\\\ \\end{vmatrix}=-a_1(t)\\begin{vmatrix} x_1 & x_2 \\\\x'_1 & x'_2\\\\ \\end{vmatrix}=-a_1(t)W[x_1,x_2]\\\\       \n",
    "   即W[x_1,x_2]满足W'[x_1,x_2]+a_1(t)W[x_1,x_2]=0$"
   ]
  },
  {
   "cell_type": "markdown",
   "metadata": {},
   "source": [
    "（2）$证：\\\\\n",
    "因为x_1,x_2为方程的解，则有\\\\\n",
    "\\begin{vmatrix} x_1 & x_2 \\\\x'_1 & x'_2\\\\ \\end{vmatrix}=W(t_0)e^{- \\int_{t_0}^t a_1(s)\\mathrm ds}\\\\ \n",
    "即  x_1x'_2-x'_1x_2=W(t_0)e^{- \\int_{t_0}^t a_1(s)\\mathrm ds},\\\\\n",
    "两边都乘以\\frac{1}{x_1^2},得到\\\\\n",
    "\\frac{\\mathrm d (\\frac{x_2}{x_1})}{\\mathrm d t}=\\frac{W(t_0)}{x_1^2}e^{- \\int_{t_0}^t a_1(s)\\mathrm ds}\\\\ \n",
    "得到x_2=(c_1 \\int \\frac{1}{x_1^2}e^{- \\int_{t_0}^t a_1(s)\\mathrm ds}\\mathrm d t+c_2)x_1\\\\    \n",
    "取c_1=1,c_2=0得到\\\\ \n",
    "x_2=x_1 \\int \\frac{1}{x_1^2}e^{- \\int_{t_0}^t a_1(s)\\mathrm ds}\\mathrm d t\\\\  \n",
    "又W(t)=\\begin{vmatrix} x_1 & x_2 \\\\x'_1 & x'_2\\\\ \\end{vmatrix}=e^{- \\int_{t_0}^t a_1(s)\\mathrm ds}\\neq 0\\\\    \n",
    "原方程的通解为\\\\\n",
    "x=x_1[c_1 \\int \\frac{1}{x^2}e^{- \\int_{t_0}^t a_1(s)\\mathrm ds}\\mathrm d t+c_2],其中c_1,c_2是常数，t_0,t \\in[a,b]$"
   ]
  },
  {
   "cell_type": "markdown",
   "metadata": {},
   "source": [
    "# <font color='red'>A 24/10"
   ]
  },
  {
   "cell_type": "markdown",
   "metadata": {},
   "source": []
  }
 ],
 "metadata": {
  "kernelspec": {
   "display_name": "SageMath 7.3",
   "language": "",
   "name": "sagemath"
  },
  "language_info": {
   "codemirror_mode": {
    "name": "ipython",
    "version": 2
   },
   "file_extension": ".py",
   "mimetype": "text/x-python",
   "name": "python",
   "nbconvert_exporter": "python",
   "pygments_lexer": "ipython2",
   "version": "2.7.10"
  }
 },
 "nbformat": 4,
 "nbformat_minor": 0
}
