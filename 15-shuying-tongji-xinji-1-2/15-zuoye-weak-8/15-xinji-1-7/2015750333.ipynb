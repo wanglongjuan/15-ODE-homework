{
 "cells": [
  {
   "cell_type": "markdown",
   "metadata": {},
   "source": [
    "# 1/131、设$x(t)$和$y(t)$是区间$a\\leq t\\leq b$上的连续函数，证明：如果在区间$a\\leq t\\leq b$上有$\\frac{x(t)}{y(t)}\\neq$常数或$\\frac{y(t)}{x(t)}$常数，则$x(t)$和$y(t)$在区间$a\\leq t\\leq b$上线性无关"
   ]
  },
  {
   "cell_type": "markdown",
   "metadata": {},
   "source": [
    "解：假设在区间$a\\leq t\\leq b$上有$\\frac{x(t)}{y(t)}≠$常数，而$x(t)$和$y(t$)在区间$a\\leq t\\leq b$上线性相关。\n",
    "\n",
    "即存在不全为零的常数$c，d$使得\n",
    "$$\n",
    "cx(t)+dy(t)\\equiv 0，t∈[a，b]\n",
    "$$\n",
    "因为 $y(t)\\neq 0$\n",
    "\n",
    "如果$c=0$，则$d=0$\n",
    "\n",
    "与$c，d$不全为零矛盾\n",
    "\n",
    "即有$\\frac{x(t)}{y(t)}$为常数，与假设矛盾\n",
    "\n",
    "故$x(t)$和$y(t)$在区间$a\\leq t\\leq b$上线性无关\n",
    "   \n",
    "同理可证，如果在区间$a\\leq t\\leq b$上有$\\frac{y(t)}{x(t)}$≠常数，则$x(t)$和$y(t)$在区间$a\\leq t\\leq b$上线性无关．\n"
   ]
  },
  {
   "cell_type": "markdown",
   "metadata": {},
   "source": [
    "# 2/131、证明非齐次线性微分方程的叠加原理：设$x_1(t),x_2(t)$分别是非齐次线性微分方程\n",
    "# $$\n",
    "\\frac{\\mathrm d^nx}{\\mathrm dt^n}+a_1(t)\\frac{\\mathrm d^{n-1}x}{\\mathrm dt^{n-1}}+\\cdots +a_n(t)x=f_1(t),\\\\\n",
    "\\frac{\\mathrm d^nx}{\\mathrm dt^n}+a_1(t)\\frac{\\mathrm d^{n-1}x}{\\mathrm dt^{n-1}}+\\cdots +a_n(t)x=f_2(t)\n",
    "$$\n",
    "# 的解，则$x_1(t)+x_2(t)$是方程\n",
    "# $$\n",
    "\\frac{\\mathrm d^nx}{\\mathrm dt^n}+a_1(t)\\frac{\\mathrm d^{n-1}x}{\\mathrm dt^{n-1}}+\\cdots +a_n(t)x=f_1(t)+f_2(t)\n",
    "$$\n",
    "# 的解"
   ]
  },
  {
   "cell_type": "markdown",
   "metadata": {},
   "source": [
    "解：由题可得$x_1(t),x_2(t)$满足\n",
    "$$\n",
    "\\frac{\\mathrm d^nx_1(t)}{\\mathrm dt^n}+a_1(t)\\frac{\\mathrm d^{n-1}x_1(t)}{\\mathrm dt^{n-1}}+\\cdots +a_n(t)x_1(t)=f_1(t)\\\\\n",
    "\\frac{\\mathrm d^nx_2(t)}{\\mathrm dt^n}+a_1(t)\\frac{\\mathrm d^{n-1}x_2(t)}{\\mathrm dt^{n-1}}+\\cdots +a_n(t)x_2(t)=f_2(t)\n",
    "$$\n",
    "将上面两式相加，得\n",
    "$$\n",
    "\\frac{\\mathrm d^n(x_1(t)+x_2(t))}{\\mathrm dt^n}+a_1(t)\\frac{\\mathrm d^{n-1}(x_1(t)+x_2(t))}{\\mathrm dt^{n-1}}+\\cdots +a_n(t)(x_1(t)+x_2(t))=f_1(t)+f_2(t)\n",
    "$$\n",
    "由上式得出$(x_1(t)+x_2(t))$是方程\n",
    "$$\n",
    "\\frac{\\mathrm d^nx}{\\mathrm dt^n}+a_1(t)\\frac{\\mathrm d^{n-1}x}{\\mathrm dt^{n-1}}+\\cdots +a_n(t)x=f_1(t)+f_2(t)\n",
    "$$\n",
    "的解"
   ]
  },
  {
   "cell_type": "markdown",
   "metadata": {},
   "source": [
    "# 3/131、已知齐次线性微分方程的基本解组$x_1,x_2,$求下列方程对应的非齐次线性微分方程的通解："
   ]
  },
  {
   "cell_type": "markdown",
   "metadata": {},
   "source": [
    "## (1) $x''-x=\\cos t,x_1=e^t,x_2=e^{-t}$"
   ]
  },
  {
   "cell_type": "markdown",
   "metadata": {},
   "source": [
    "解：应用常数变易法，令\n",
    "$$\n",
    "x=c_1(t)e^t+c_2(t)e^{-t}\n",
    "$$\n",
    "将它代入方程，则可得决定$c'_1(t)$和$c_2'(t)$的两个方程\n",
    "$$\n",
    "e^tc_1'(t)+e^{-t}c_2'(t)=0\\\\\n",
    "e^tc_1'(t)-e^{-t}c_2'(t)=\\cos t\n",
    "$$\n",
    "解得$$c_1'(t)=\\frac{\\cos t}{2e^t},c_2'(t)=-\\frac{e^t\\cos t}{2}$$\n",
    "\n",
    "所以$$c_1(t)=\\frac{\\sin t-\\cos t}{4}e^{-t}+\\gamma_1\\\\\n",
    "c_2(t)=-\\frac{\\sin t+\\cos t}{4}e^t+\\gamma_2$$\n",
    "于是原方程的通解为$$x=\\gamma_1e^t+\\gamma_2e^{-t}-\\frac{\\cos t}{2}$$"
   ]
  },
  {
   "cell_type": "markdown",
   "metadata": {},
   "source": [
    "## (3) $x''+4x=t\\sin 2t,x_1=\\cos 2t,x_2=\\sin 2t$"
   ]
  },
  {
   "cell_type": "markdown",
   "metadata": {},
   "source": [
    "解：应用常数变易法，令\n",
    "$$\n",
    "x=c_1(t)\\cos{2t}+c_2(t)\\sin{2t}\n",
    "$$\n",
    "将它代入方程，则可得决定$c'_1(t)$和$c_2'(t)$的两个方程\n",
    "$$\n",
    "\\cos{2t} c_1'(t)+\\sin{2t}c_2'(t)=0\\\\\n",
    "-2\\sin{2t} c_1'(t)+2\\cos{2t}c_2'(t)=t\\sin{2t}\n",
    "$$\n",
    "解得$$c_1'(t)=-\\frac{t\\sin t\\sin2t}{2},c_2'(t)=\\frac{t\\sin t\\cos2t}{2}$$\n",
    "\n",
    "所以$$c_1(t)=\\frac{t\\sin3t}{12}+\\frac{\\cos3t}{36}-\\frac{t\\sin t}{4}-\\frac{\\cos t}{4}+\\gamma_1\\\\\n",
    "c_2(t)=-\\frac{t\\cos3t}{12}-\\frac{\\sin3t}{36}-\\frac{t\\cos t}{4}+\\frac{\\sin t}{4}+\\gamma_2$$\n",
    "于是原方程的通解为$$x=\\gamma_1\\cos2t+\\gamma_2\\sin2t-\\frac{t\\sin t}{3}-\\frac{2\\cos t}{9}$$"
   ]
  },
  {
   "cell_type": "markdown",
   "metadata": {},
   "source": [
    "## (5)$t^2x''-tx'+x=6t+34t^2,x_1=t,x_2=t\\ln t$"
   ]
  },
  {
   "cell_type": "markdown",
   "metadata": {},
   "source": [
    "解：方程可化为\n",
    "$$\n",
    "x''-\\frac{1}{t}x'+\\frac{1}{t^2}x=6\\frac{1}{t}+34\n",
    "$$\n",
    "应用常数变易法，令\n",
    "$$\n",
    "x=c_1(t)t+c_2(t)t\\ln t\n",
    "$$\n",
    "将它代入方程，则可得决定$c'_1(t)$和$c_2'(t)$的两个方程\n",
    "$$\n",
    "tc_1'(t)+t\\ln tc_2'(t)=0\\\\\n",
    "c_1'(t)+(\\ln t+1)c_2'(t)=\\frac{6}{t}+34\n",
    "$$\n",
    "解得$$c_1'(t)=-\\frac{6\\ln t}{t}-34\\ln t,c_2'(t)=-\\frac{6}{t}+34$$\n",
    "\n",
    "所以$$c_1(t)=-34(t\\ln t-t)+\\gamma_1\\\\\n",
    "c_2(t)=6\\ln t+34t+\\gamma_2$$\n",
    "于是原方程的通解为$$x=\\gamma_1t+\\gamma_2t\\ln t+3t(\\ln t)^2+34t^2$$"
   ]
  },
  {
   "cell_type": "markdown",
   "metadata": {},
   "source": [
    "# 假设$x_1(t)\\neq 0$是二阶其次线性微分方程$$x''+a_1(t)x'+a_2(t)x=0$$的解，这里$a_1(t)$和$a_2(t)$于区间$[a,b]$上连续，试证："
   ]
  },
  {
   "cell_type": "markdown",
   "metadata": {},
   "source": [
    "## (1)$x_(t)$为方程的解的充要条件是$$W'[x_1,x_2]+a_1W[x_1,x_2]=0$$"
   ]
  },
  {
   "cell_type": "markdown",
   "metadata": {},
   "source": [
    "证明：充分性：\n",
    "$$\n",
    "W'[x_1,x_2]=\n",
    "\\begin{vmatrix}\n",
    " x_1' & x_2'\\\\\n",
    " x_1' & x_2'\n",
    "\\end{vmatrix}\n",
    "+\\begin{vmatrix}\n",
    " x_1 & x_2\\\\\n",
    " x_1'' & x_2''\n",
    "\\end{vmatrix}\n",
    "=\\begin{vmatrix}\n",
    " x_1 & x_2\\\\\n",
    " x_1'' & x_2''\n",
    "\\end{vmatrix}\n",
    "$$\n",
    "所以$$\n",
    "W'[x_1,x_2]+a_1(t)W[x_1,x_2]=\n",
    "\\begin{vmatrix}\n",
    " x_1 & x_2\\\\\n",
    " x_1'' & x_2''\n",
    "\\end{vmatrix}\n",
    "+a_1(t)\\begin{vmatrix}\n",
    " x_1 & x_2\\\\\n",
    " x_1' & x_2'\n",
    "\\end{vmatrix}=\n",
    "\\begin{vmatrix}\n",
    " x_1 & x_2\\\\\n",
    " x_1''+a_1(t)x_1' & x_2''+a_1(t)x_2'\n",
    "\\end{vmatrix}\n",
    "=0\n",
    "$$\n",
    "\n",
    "因为$x_1$是方程的解，所以$x_1''+a_1(t)x_1'=-a_2(t)x_1(t)$\n",
    "\n",
    "所以$$\n",
    "\\begin{vmatrix}\n",
    " x_1 & x_2\\\\\n",
    " x_1''+a_1(t)x_1' & x_2''+a_1(t)x_2'\n",
    "\\end{vmatrix}\n",
    "=\\begin{vmatrix}\n",
    " x_1 & x_2\\\\\n",
    " -a_2(t)x_1(t) & x_2''+a_1(t)x_2'\n",
    "\\end{vmatrix}\n",
    "=x_1\\begin{vmatrix}\n",
    " 1 & x_2\\\\\n",
    " -a_2(t) & x_2''+a_1(t)x_2'\n",
    "\\end{vmatrix}=0\n",
    "$$\n",
    "\n",
    "所以$x_2''+a_1(t)x_2'+a_2(t)x_2=0$\n",
    "\n",
    "即证充分性\n",
    "\n",
    "必要性：\n",
    "$$\n",
    "a_1(t)W[x_1,x_2]=\n",
    "\\begin{vmatrix}\n",
    " x_1 & x_2\\\\\n",
    " a_1(t)x_1' & a_1(t)x_2'\n",
    "\\end{vmatrix}=\n",
    "\\begin{vmatrix}\n",
    " x_1 & x_2\\\\\n",
    " x_1''+a_2x_1 & x_2''+a_2x_2\n",
    "\\end{vmatrix}=\n",
    "\\begin{vmatrix}\n",
    " x_1 & x_2\\\\\n",
    " x_1'' & x_2''\n",
    "\\end{vmatrix}=W'[x_1.x_2]\n",
    "$$"
   ]
  },
  {
   "cell_type": "markdown",
   "metadata": {},
   "source": [
    "## (2)方程的通解可表为$$x=x_1[c_1\\int \\frac{1}{x^2}e^{-\\int_{t_0}^ta_1(s)\\mathrm ds}\\mathrm dt+c_2]$$其中$c_1,c_2$为任意常数，$t_0,t\\in [a,b]$"
   ]
  },
  {
   "cell_type": "markdown",
   "metadata": {},
   "source": [
    "证明：因为$x_1$是齐次线性微分方程的解\n",
    "\n",
    "所以$W'+a_1(t)W=0$\n",
    "\n",
    "所以$W(t)=W(t_0)e^{-\\int_{t_0}^t a_1(t)\\mathrm dt}$\n",
    "\n",
    "所以$$\n",
    "\\begin{vmatrix}\n",
    " x_1 & x_2\\\\\n",
    " x_1' & x_2'\n",
    "\\end{vmatrix}=W(t_0)e^{-\\int_{t_0}^t a_1(s)\\mathrm ds}\n",
    "$$\n",
    "\n",
    "上式两边同乘$\\frac{1}{x_1^2}$,得\n",
    "$$(\\frac{x_2}{x_1})'=\\frac{W(t_0)e^{-\\int_{t_0}^t a_1(s)\\mathrm ds}}{x_1^2}$$\n",
    "\n",
    "即$$\\frac{\\mathrm d(\\frac{x_2}{x_1})}{\\mathrm dt}=\\frac{W(t_0)e^{-\\int_{t_0}^t a_1(s)\\mathrm ds}}{x_1^2}$$\n",
    "\n",
    "所以$$\\frac{x_2}{x_1}=W(t_0)\\int \\frac{1}{x^2}e^{-\\int_{t_0}^ta_1(s)\\mathrm ds}\\mathrm dt+c_2$$\n",
    "\n",
    "令$W(t_0)=c_1$，则\n",
    "$$\\frac{x_2}{x_1}=c_1\\int \\frac{1}{x^2}e^{-\\int_{t_0}^ta_1(s)\\mathrm ds}\\mathrm dt+c_2$$\n",
    "\n",
    "所以通解为$$x=x_1[c_1\\int \\frac{1}{x^2}e^{-\\int_{t_0}^ta_1(s)\\mathrm ds}\\mathrm dt+c_2]$$"
   ]
  },
  {
   "cell_type": "markdown",
   "metadata": {
    "collapsed": true
   },
   "source": [
    "# <font color='red'>A 24/10"
   ]
  },
  {
   "cell_type": "code",
   "execution_count": null,
   "metadata": {
    "collapsed": true
   },
   "outputs": [],
   "source": []
  }
 ],
 "metadata": {
  "kernelspec": {
   "display_name": "SageMath 7.3",
   "language": "",
   "name": "sagemath"
  },
  "language_info": {
   "codemirror_mode": {
    "name": "ipython",
    "version": 2
   },
   "file_extension": ".py",
   "mimetype": "text/x-python",
   "name": "python",
   "nbconvert_exporter": "python",
   "pygments_lexer": "ipython2",
   "version": "2.7.10"
  }
 },
 "nbformat": 4,
 "nbformat_minor": 0
}
