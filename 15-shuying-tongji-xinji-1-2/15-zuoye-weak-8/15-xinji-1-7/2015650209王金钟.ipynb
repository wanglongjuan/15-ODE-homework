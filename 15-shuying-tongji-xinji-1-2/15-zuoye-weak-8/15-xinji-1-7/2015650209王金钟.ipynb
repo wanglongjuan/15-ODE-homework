{
 "cells": [
  {
   "cell_type": "markdown",
   "metadata": {},
   "source": [
    "1.假设$x(t),y(t)在区间a\\leq t \\leq b上线性相关$\n",
    "\n",
    "则存在不全为零的常数$\\alpha,\\beta$使得$$\\alpha x(t)+\\beta y(t) \\equiv 0,t \\in [a,b]$$.\n",
    "\n",
    "不妨设x(t)不为零，则有$$\\frac{y(t)}{x(t)}=-\\frac{\\alpha}{\\beta},显然-\\frac{\\alpha}{\\beta}$$为常数，与题设矛盾。\n",
    "\n",
    "所以假设不成立，即证明了$$x(t),y(t)在区间a\\leq t \\leq b$$上线性无关."
   ]
  },
  {
   "cell_type": "markdown",
   "metadata": {
    "collapsed": true
   },
   "source": [
    "2.由题设条件可知$x_1(t),x_2(t)分别是方程（1），（2）的解，$$\n",
    "\n",
    " 则$$\\frac{d^n x}{d t^n}+a_1(t)\\frac{d^{n-1}x}{d t^{n-1}}+…+a_n(t)x=f_1(t)\\,\\,\\,\\,\\,\\,\\,\\,\\,\\,\\,\\,\\,\\,\\,\\,\\,\\,\\,\\,\\,\\,\\,\\,\\,\\,\\,\\,\\,\\,\\,\\,\\,\\,\\,\\,\\,\\,\\,\\,\\,\\,\\,\\,\\,\\,\\,\\,\\,\\,\\,\\,\\,\\,\\,\\,\\,(3)$$\n",
    " \n",
    " $$\\frac{d^n x}{d t^n}+a_1(t)\\frac{d^{n-1}x}{d t^{n-1}}+…+a_n(t)x=f_2(t)\\,\\,\\,\\,\\,\\,\\,\\,\\,\\,\\,\\,\\,\\,\\,\\,\\,\\,\\,\\,\\,\\,\\,\\,\\,\\,\\,\\,\\,\\,\\,\\,\\,\\,\\,\\,\\,\\,\\,\\,\\,\\,\\,\\,\\,\\,\\,\\,\\,\\,\\,\\,\\,\\,\\,\\,\\,(4)$$\n",
    " \n",
    "那么由（3）和（4）相加，并利用导数的运算法则得：\n",
    " \n",
    "$$\\frac{d^n（x_1(t)+x_2(t)）}{d t^n}+a_1(t)\\frac{d^{n-1}（x_1(t)+x_2(t)）}{d t^{n-1}}+…+a_n(t)（x_1(t)+x_2(t)）=f_1(t)+f_2(t)$$\n",
    "\n",
    "此即说明$x_1(t)+x_2(t）是方程\\frac{d^n x}{d t^n}+a_1(t)\\frac{d^{n-1}x}{d t^{n-1}}+…+a_n(t)x=f_1(t)+f_2(t）$的解"
   ]
  },
  {
   "cell_type": "markdown",
   "metadata": {},
   "source": [
    "3(1)应用常数变易法，令$x(t)=c_1(t)e^t+c_2(t)e^{-t}$,将它代入方程，则有\n",
    "$\\begin{cases}\n",
    "c^{\\prime}_1(t)e^t+c^{\\prime}_2e^{-1}=0,\\\\c^{\\prime}_1(t)e^t+c^{\\prime}_2e^{-1}=cos t,\n",
    "\\end{cases}\n",
    "$\n",
    "\n",
    "解之得$\\begin{cases}\n",
    "c^{\\prime}_1(t)=\\frac{1}{2}e^{-t}cos t,\\\\c^{\\prime}_2(t)=-\\frac{1}{2}e^t cos t,\n",
    "\\end{cases}\n",
    "$\n",
    "\n",
    "积分得$c_1(t)=-\\frac{1}{4}e^{-t}(cos t-sin t)+c_1;c_2(t)=-\\frac{1}{4}e^t(cos t+sin t)+c_2,$\n",
    "\n",
    "故通解为$x(t)=c_1e^t+c_2e^{-t}-\\frac{1}{2}cos t.$\n"
   ]
  },
  {
   "cell_type": "markdown",
   "metadata": {},
   "source": [
    "(3)令$x=c_1(t)cos2t+c_2(t)sin2t$,将它代入方程，，可得关于$$c^{\\prime}_1(t)和c^{\\prime}_2(t)$的方程组\n",
    "\n",
    "$\\begin{cases}\n",
    "c^{\\prime}_1(t)cos2t+c^{\\prime}_2(t)sin2t=0\\\\-2c^{\\prime}_1(t)sin2t+2c^{\\prime}_2(t)cos2t=tsin2t,\n",
    "\\end{cases}\n",
    "$\n",
    "\n",
    "解得$\\begin{cases}\n",
    "c^{\\prime}_1(t)=\\frac{1}{4}t(cos4t-1),\\\\c^{\\prime}_2(t)=\\frac{1}{4}tsin4t,\n",
    "\\end{cases}\n",
    "$\n",
    "\n",
    "积分得$\\begin{cases}\n",
    "c^{\\prime}_1(t)=\\frac{1}{64}cos4t+\\frac{1}{16}sin4t-\\frac{1}{8}t^2+\\gamma_1,\\\\\n",
    "c^{\\prime}_2(t)=\\frac{1}{64}sin4t+\\frac{1}{16}cos4t+\\gamma_2,\n",
    "\\end{cases}\n",
    "$\n",
    "\n",
    "于是方程的通解为$x=c_1cos2t+c_2sin2t-\\frac{1}{8}t^2cos2t+\\frac{1}{16}tsin2t$,其中$c_1，c_2为任意常数"
   ]
  },
  {
   "cell_type": "markdown",
   "metadata": {},
   "source": [
    "（5）原方程可化为${x^{\\prime}}^{\\prime}-\\frac{1}{t}x^{\\prime}+\\frac{1}{t^2}x=\\frac{6}{t}+34$\n",
    "\n",
    "令方程的解为$x=tc_1(t)+t\\lntc_2(t),将它代入方程，则可得关于c^{\\prime}_1(t)和c^{\\prime}_2(t)的方程组\n",
    "\n",
    "$\\begin{cases}\n",
    "tc^{\\prime}_1(t)+t\\ln tc^{\\prime}_2(t)=0,\\\\c^{\\prime}_1(t)+(\\ln t+1)c^{\\prime}_2(t)=\\frac{6}{t}+34,\n",
    "\\end{cases}\n",
    "$\n",
    "\n",
    "解得$\\begin{cases}\n",
    "c^{\\prime}_1(t)=-\\ln t(\\frac{6}{t}+34),\\\\c^{\\prime}_2(t)=\\frac{6}{t}+34,\n",
    "\\end{cases}\n",
    "$\n",
    "积分得$\\begin{cases}\n",
    "c_1(t)=-34(t\\ln t-t)-3(\\int)^2+c_1'\\\\c_2(t)=34t+6\\ln t+c_2,\n",
    "\\end{cases}\n",
    "$\n",
    "\n",
    "于是方程的通解为$x=c_1t+c_2t\\ln t+34t^2+3t(\\ln t)^2$,其中$c_1,c_2$为任意常数。"
   ]
  },
  {
   "cell_type": "markdown",
   "metadata": {},
   "source": [
    "6(1)$W^{\\prime}[x_1,x_2]+a_1W[x_1,x_2]=0\\iff x_1{x^{\\prime}}^{\\prime}_2-{x^{\\prime}}^{\\prime}_1x_2+a_1x_1x^{\\prime}_2-a_1x^{\\prime}_1x_2=0$\n",
    "\n",
    "$\\iff x_1{x^{\\prime}}^{\\prime}_2-{x^{\\prime}}^{\\prime}_1x_2+a_1x_1x^{\\prime}_2-a_1x^{\\prime}_1x_2+a_2x_1x_2-a_2x_1x_2=0$\n",
    "\n",
    "$\\iff x_1({x^{\\prime}}^{\\prime}_2+a_1x^{\\prime}_2+a_2x_2)=0$\n",
    "\n",
    "$\\iff {x^{\\prime}}^{\\prime}_2+a_1x^{\\prime}_2+a_2x_2=0,(x_1 \\neq 0)$\n",
    "\n",
    "即$x_2$为（$*$）的解"
   ]
  },
  {
   "cell_type": "markdown",
   "metadata": {},
   "source": [
    "(2)因为$x_1,x_2$为方程的解，则由刘维尔公式\n",
    "\n",
    "$\\begin{bmatrix} x_1&x_2 \\\\ x^{\\prime}_1 & x^{\\prime}_2 \\\\   \\end {bmatrix} =W(t_0）e^{\\int_{t_0}^{t}a_1(s)ds}$,\n",
    "\n",
    "即$x_1x^{\\prime}_2-x^{\\prime}_1x_2=W(t_0）e^{\\int_{t}^{t_0}a_1(s)ds}$。\n",
    "\n",
    "两边都乘以$\\frac{1}{x^2_1}则有\\frac{d(\\frac{x_2}{x_1})}{dt}=\\frac{W(t_0)}{x^2_1}e^{\\int_{t}^{t_0}a_1(s)ds}$,\n",
    "\n",
    "于是$\\frac{x_2}{x_1}=c_1\\int{\\frac{1}{x^2_1}e^{\\int_{t}^{t_0}a_1(s)ds}dt}+c_2$\n",
    "\n",
    "即$x_2=(c_1\\int{\\frac{1}{x^2_1}e^{\\int_{t}^{t_0}a_1(s)ds}dt}+c_2)x_1$,\n",
    "\n",
    "取$c_1=1,c_2=0得x_2=x_1 \\int{\\frac{1}{x^2_1}e^{-\\int_{t_0}^{t}a_1(s)ds}dt}$,\n",
    "\n",
    "又$W(t)=\\begin{bmatrix} x_1&x_2 \\\\ x^{\\prime}_1 & x^{\\prime}_2 \\\\   \\end {bmatrix}=e^{\\int_{t_0}^{t}a_1(s)ds} \\neq 0$,\n",
    "\n",
    "从而方程的通解可表示为：\n",
    "\n",
    "$x=x_1[c_1 \\int{\\frac{1}{x^2_1}exp(-\\int_{t_0}^{t}a_1(s)ds)dt}+c_2],其中c_1,c_2为常数，t_0,t \\in [a,b]$."
   ]
  },
  {
   "cell_type": "markdown",
   "metadata": {},
   "source": [
    "# <font color='red'>A 24/10"
   ]
  },
  {
   "cell_type": "code",
   "execution_count": null,
   "metadata": {
    "collapsed": true
   },
   "outputs": [],
   "source": []
  }
 ],
 "metadata": {
  "kernelspec": {
   "display_name": "SageMath 7.3",
   "language": "",
   "name": "sagemath"
  },
  "language_info": {
   "codemirror_mode": {
    "name": "ipython",
    "version": 2
   },
   "file_extension": ".py",
   "mimetype": "text/x-python",
   "name": "python",
   "nbconvert_exporter": "python",
   "pygments_lexer": "ipython2",
   "version": "2.7.10"
  }
 },
 "nbformat": 4,
 "nbformat_minor": 0
}
