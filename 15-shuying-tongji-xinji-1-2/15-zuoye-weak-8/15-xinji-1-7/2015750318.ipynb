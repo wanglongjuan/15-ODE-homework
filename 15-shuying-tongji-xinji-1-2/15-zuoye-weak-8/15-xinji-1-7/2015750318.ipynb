{
 "cells": [
  {
   "cell_type": "markdown",
   "metadata": {},
   "source": [
    "P131 \n",
    "1. 设x(t)和y(t)是区间$a\\leq t \\leq b$上的如果在区间连续函数，证明：$a\\leq t \\leq b$上有$\\frac{x(t)}{y(t)}\\neq 常数或\\frac{y(t)}{x(t)}\\neq 常数$,则x(t)和y(t)在区间$a\\leq t \\leq b$上线性无关。(提示：用反证法.)"
   ]
  },
  {
   "cell_type": "markdown",
   "metadata": {},
   "source": [
    "证：用反证法证明.假设x(t)和y(t)在区间[a,b]上线性相关，则存在不全为零的常数$C_1和C_2$使得$$C_1x(t)+C_2x(t)\\equiv0,t\\in [a,b].$$"
   ]
  },
  {
   "cell_type": "markdown",
   "metadata": {},
   "source": [
    "若$C_1\\neq 0,则\\frac{y(t)}{x(t)}=-\\frac {C_1}{C_2}=常数；$\n",
    "\n",
    "若$C_2\\neq 0,则\\frac{x(t)}{y(t)}=-\\frac{C_2}{C_1}=常数.$\n",
    "\n",
    "可见在两种情况下，都与已知条件$\\frac{x(t)}{y(t}\\neq 常数或\\frac{y(t)}{x(t)}\\neq $常数矛盾，所以假设不成立,即证明了x(t)和y(t)在区间[a,b]上是线性无关的."
   ]
  },
  {
   "cell_type": "markdown",
   "metadata": {},
   "source": [
    "2.证明非齐次线性微分方程的叠加原理：设$x_1(t),x_2(t)分别是非齐次线性微分方程$\n",
    " $$\\frac{\\mathrm d^n x}{\\mathrm d t^n}+a_1(t)\\frac{\\mathrm d^{n-1} x}{\\mathrm d t^{n-1}}+\\cdots +a_n (x)=f_1(x),$$\n",
    " $$\\frac{\\mathrm d^n x}{\\mathrm d t^n}+a_1(t)\\frac{\\mathrm d^{n-1} x}{\\mathrm d t^{n-1}}+\\cdots +a_n (x)=f_2(x)$$\n",
    " 的解，则$x_1(t)+x_2(t)$是方程\n",
    " $$\\frac{\\mathrm d^n x}{\\mathrm d t^n}+a_1(t)\\frac{\\mathrm d^{n-1} x}{\\mathrm d t^{n-1}}+\\cdots +a_n (x)=f_1(x)+f_2(x)$$\n",
    " 的解."
   ]
  },
  {
   "cell_type": "markdown",
   "metadata": {},
   "source": [
    "证：因为$x_1(t),x_2(t)分别是非齐次线性微分方程$\n",
    " $$\\frac{\\mathrm d^n x}{\\mathrm d t^n}+a_1(t)\\frac{\\mathrm d^{n-1} x}{\\mathrm d t^{n-1}}+\\cdots +a_n (x)=f_1(x),$$\n",
    " $$\\frac{\\mathrm d^n x}{\\mathrm d t^n}+a_1(t)\\frac{\\mathrm d^{n-1} x}{\\mathrm d t^{n-1}}+\\cdots +a_n (x)=f_2(x)$$\n",
    " 的解，所以满足\n",
    " $x_1(t),x_2(t)分别是非齐次线性微分方程$\n",
    " $$\\frac{\\mathrm d^n x_1(t)}{\\mathrm d t^n}+a_1(t)\\frac{\\mathrm d^{n-1} x_1(t)}{\\mathrm d t^{n-1}}+\\cdots +a_n x(t)=f_1(x),$$\n",
    " $$\\frac{\\mathrm d^n x_2(t)}{\\mathrm d t^n}+a_1(t)\\frac{\\mathrm d^{n-1} x_2(t)}{\\mathrm d t^{n-1}}+\\cdots +a_n x(t)=f_2(x)$$\n",
    "将上两式相加，并且利用导数得运算法则有\n",
    "$$\\frac{\\mathrm d^n x_1(t)+x_2(t)}{\\mathrm d t^n}+a_1(t)\\frac{\\mathrm d^{n-1} x_1(t)+x_2(t)}{\\mathrm d t^{n-1}}+\\cdots +a_n x(t)=f_1(x)+f_2(t),$$\n",
    "即$x_1(t)+x_2(t)是方程\n",
    "$$\\frac{\\mathrm d^n x}{\\mathrm d t^n}+a_1(t)\\frac{\\mathrm d^{n-1} x}{\\mathrm d t^{n-1}}+\\cdots +a_n (x)=f_1(x)+f_2(x)$$\n",
    " 的解."
   ]
  },
  {
   "cell_type": "markdown",
   "metadata": {},
   "source": [
    "3.已知齐次线性微分方程的基本解组$x_1,x_2$,求下列方程对应的非齐次线性微分方程的通解：\n",
    "\n",
    "(1)$x\\prime \\prime-x=cos t,x_1=e^t,x_2=e^{-t};$\n",
    "\n",
    "(3)$x\\prime \\prime+4x=tsin 2t,x_1=cos 2t, x_2=sin 2t$;\n",
    "\n",
    "(5)$t^2x\\prime \\prime-tx\\prime +x=6t+34t^2,x_1=t,x_2=tlnt.$"
   ]
  },
  {
   "cell_type": "markdown",
   "metadata": {},
   "source": [
    "解：(1)运用常数变易法，令$$x=C_1(t)e^t+C_2(t)e^{-t},$$\n",
    "   并将它代入方程，则可得关于$C\\prime_1$和$C\\prime_2$的两个方程\n",
    "   $$e\\prime C\\prime_1(t)+e^{-t}C_2\\prime(t)=0$$\n",
    "   $$e\\prime C\\prime_1(t)-e^{-t}C_2\\prime(t)=cos t$$\n",
    "   联立方程组后解得$C_1\\prime(t)=\\frac{1}{2}cost e^(-t),C_2\\prime(t)=-\\frac{1}{2}e^tcos t$\n",
    "   \n",
    "   则$C_1(t)=\\frac{sint- cost}{4}e^{-t}+\\gamma_1,C_2=-\\frac{sint+cost}{4}e^t+\\gamma_2.$\n",
    "   \n",
    "   于是原方程的通解为$x=\\gamma_1e^t+\\gamma_2e^t-\\frac{1}{2}cost$"
   ]
  },
  {
   "cell_type": "markdown",
   "metadata": {},
   "source": [
    "(3)令$x=C_1(t)cos2t+C_2sin2t$,将它代入方程，则可得关于$C\\prime_1和C\\prime_2$的两个方程\n",
    "   $$cos2t*C\\prime_1(t)+sin2t*C\\prime_2(t)=0$$\n",
    "   及\n",
    "   $$-sin2t*C\\prime_1(t)+2cos2t*C\\prime_2(t)=tsint$$\n",
    "   \n",
    "   解得$C\\prime_1(t)=-\\frac{1}{2}tsintsin2t,C\\prime_2(t)={1}{2}tsintcos2t$,\n",
    "   \n",
    "   由此可得$C_1(t)=\\frac{1}{4}[\\frac{1}{3}tsin3t+\\frac{1}{9}cos 3t-tsin t-cos t]+C_1,C_2(t)=\\frac{1}{4}[-\\frac{1}{3}tcos 3t+\\frac{1}{9}sin 3t+tcost-sin t]+C_2.$\n",
    "   \n",
    "   于是方程的通解是$$x=C_1cos2t+C_2sin 2t+\\frac{t}{3}sin t-\\frac{2}{9}cos t.$$"
   ]
  },
  {
   "cell_type": "markdown",
   "metadata": {},
   "source": [
    "(5)方程可以变形为$$x\\prime\\prime-\\frac{1}{t}x\\prime+\\frac{1}{t^2}x=\\frac{6}{t}+34$$\n",
    "   设方程的解为$x=tC_1(t)+tlntC_2(t),将它代入方程，则可决定C\\prime_1和C\\prime_2的两个方程tC\\prime_1(t)+tlntC\\prime_2(t)=0$,\n",
    "   可得$$C\\prime_1(t)+(lnt+1)C\\prime_2(t)=\\frac{6}{t}+34,$$\n",
    "   及$$C\\prime_2(t)=\\frac{6}{t}+34$$,\n",
    "   由此\n",
    "   $$C_1(t)=-34tln t-3(ln t)^2+C_1$$,\n",
    "   $$C_2(t)=34t+6ln t+C_2$$.\n",
    "   \n",
    "   于是方程的通解为$$x=C_1 t+C_2tln t+34t^2+3t(ln t)^2.$$"
   ]
  },
  {
   "cell_type": "markdown",
   "metadata": {},
   "source": [
    "6.假设$x_1(t)\\neq 0$是二阶齐次线性微分方程$$x\\prime\\prime+a_1(x)x\\prime+a_2(t)x=0$$\n",
    "\n",
    "的解，这里$a_1(t)和a_2(t)于区间[a,b]上连续$,试证\n",
    "\n",
    "  (1)$x_2(t)$为方程的解的充要条件是$$W\\prime [x_1,x_2]+a_2W[x_1,x_2]=0$$\n",
    "  (2)方程通解可表为$$x=x_1[c_1\\int \\frac{1}{x^2}\\exp(-\\int_{t_0}{t} a_1(s)\\mathrm d s)\\mathrm d t+c_2],$$其中$c_1,c_2为任意常数，t_0,t\\in[a,b].$"
   ]
  },
  {
   "cell_type": "markdown",
   "metadata": {},
   "source": [
    "证:(1)充分性：由于$$W\\prime[x_1,x_2]=\\begin{vmatrix} x\\prime_1 & x\\prime_2\\\\ x\\prime_1 & x\\prime_2\\\\ \\end {vmatrix}+\\begin{vmatrix} x_1&x_2\\\\x\\prime\\prime_1&x\\prime\\prime_2\\\\ \\end{vmatrix}$$\n",
    "$$W\\prime[x_1,x_2]+a_tW[x_1，x_2]=\\begin {vmatrix} x_1&x_2 \\\\ x\\prime\\prime_1 &x\\prime\\prime_2\\\\ \\end{vmatrix}+a_1(t)\\begin{vmatrix} x_1&x_2\\\\x\\prime_1&x\\prime_2\\\\ \\end {vmatrix}=\\begin {vmatrix} x_1&x_2\\\\x\\prime\\prime_1+a_1(t)x\\prime_1&x\\prime\\prime_2+a_1(t)x\\prime_2\\\\ \\end {vmatrix}=0$$\n",
    "所以有$x\\prime\\prime_2+a_1(t)x\\prime_2+a_2(t)=0,即x_2(t)是已知方程的解.$"
   ]
  },
  {
   "cell_type": "markdown",
   "metadata": {},
   "source": [
    "必要性：因为$W[x_1,x_2]$是方程的解$x_1(t),x_2(t)$的朗斯基行列式，所以\n",
    "$$W'[x_1,x_2]=\\begin{vmatrix} x_1&x_2\\\\x_1'&x_2'\\\\\\end{vmatrix}=\\begin{vmatrix}1&x_2\\\\-a_1(t)x_1'&a_1(t)x_2'\\\\\\end{vmatrix}=-a_1(t)W[x_1,x_2]$$\n",
    "\n",
    "即$W[x_1,x_2]$满足条件$W'[x_1,x_2]a_1(t)W[x_1,x_2]=0$"
   ]
  },
  {
   "cell_type": "markdown",
   "metadata": {},
   "source": [
    "(2)因为$x_1,x_2$为方程解，则由公式$$\\begin{vmatrix} x_1&x_2\\\\ x\\prime_1&x\\prime_2\\\\ \\end{vmatrix}=W(t_0)e^{-\\int_{t_0}^{t}a_1(s)\\mathrm d s}$$,\n",
    "对上式两边同乘$\\frac{1}{x_2 ^2}，则有\\frac{\\mathrm d \\frac{x_2}{x_1}}{\\mathrm d t}=\\frac{W(t_0)}{x_1 ^2}e^{-\\int_{t_0}^{t}a_1(s)\\mathrm d s}$\n",
    "\n",
    "两边积分得$\\frac{x_2}{x_1}=(c_1 \\int{\\frac{1}{x^2}e^{-\\int_{t_0}^{t}a_1(s)\\mathrm d s}}\\mathrm d t+c_2)x_1$\n",
    "\n",
    "$取c_1=1,c_2=0,得$\n",
    "$$x_2=x_1\\int{\\frac{1}{x_1^2}e^{-\\int_{t_0}^{t}a_1(s)\\mathrm d s}}\\mathrm d t,$$\n",
    "$又因为W(t)=-{\\int_{t_0}^{t}a_1(s)\\mathrm d s}\\neq 0$,\n",
    "\n",
    "从而原方程的通解可表示为$x=x_1[c_1\\int\\frac{1}{x_1^2}e^{-\\int_{t_0}^ta_1(s)\\mathrm d s}\\mathrm d t+c_2].(c_1,c_2$为常数，$t_0,t\\in[a,b])$\n"
   ]
  },
  {
   "cell_type": "markdown",
   "metadata": {},
   "source": [
    "# <font color='red'>A 24/10"
   ]
  },
  {
   "cell_type": "code",
   "execution_count": null,
   "metadata": {
    "collapsed": true
   },
   "outputs": [],
   "source": []
  }
 ],
 "metadata": {
  "kernelspec": {
   "display_name": "SageMath 7.3",
   "language": "",
   "name": "sagemath"
  },
  "language_info": {
   "codemirror_mode": {
    "name": "ipython",
    "version": 2
   },
   "file_extension": ".py",
   "mimetype": "text/x-python",
   "name": "python",
   "nbconvert_exporter": "python",
   "pygments_lexer": "ipython2",
   "version": "2.7.10"
  }
 },
 "nbformat": 4,
 "nbformat_minor": 0
}
