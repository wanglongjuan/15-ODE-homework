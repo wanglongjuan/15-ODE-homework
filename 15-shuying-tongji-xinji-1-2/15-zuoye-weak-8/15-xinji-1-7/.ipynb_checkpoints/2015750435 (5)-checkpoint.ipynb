{
 "cells": [
  {
   "cell_type": "markdown",
   "metadata": {},
   "source": [
    "1.设$x(t)$和$y(t)$是区间$a\\leq t\\leq b$上的连续函数，证明：如果在区间$a\\leq t\\leq b$上有$\\frac{x(t)}{y(t)}\\neq$常数或$\\frac{y(t)}{x(t)}\\neq$常数，则$x(t)$和$y(t)$在区间$a\\leq t\\leq b$上线性无关.(提示：用反证法)"
   ]
  },
  {
   "cell_type": "markdown",
   "metadata": {},
   "source": [
    "证明：假设$x(t)$和$y(t)$在区间[a,b]上线性相关，则存在不全为零的常数$C_1$和$C_2$使得$C_1x(t)+C_2y(t)=0$，$t\\in[a,b]$"
   ]
  },
  {
   "cell_type": "markdown",
   "metadata": {},
   "source": [
    "若$C_1\\neq0$,则$\\frac{y(t)}{x(t)}=-\\frac{C_1}{C_2}$=常数"
   ]
  },
  {
   "cell_type": "markdown",
   "metadata": {},
   "source": [
    "若$C_1\\neq0$,则$\\frac{x(t)}{y(t)}=-\\frac{C_2}{C_1}$=常数"
   ]
  },
  {
   "cell_type": "markdown",
   "metadata": {},
   "source": [
    "可见在两种情况下，都与已知条件$\\frac{x(t)}{y(t)}\\neq$常数或$\\frac{y(t)}{x(t)}\\neq$常数矛盾，所以假设不成立，即证明了$x(t)$和$y(t)$在区间[a,b]上是线性无关的."
   ]
  },
  {
   "cell_type": "markdown",
   "metadata": {},
   "source": [
    "2.证明非齐次线性微分方程的叠加原理：设$x_1(t)$,$x_2(t)$分别是非齐次线性微分方程$\\frac{d^nx}{dt^n}+a_1(t)\\frac{d^{n-1}x}{dt^{n-1}}+…+a_n(t)x=f_1(t)$."
   ]
  },
  {
   "cell_type": "markdown",
   "metadata": {},
   "source": [
    "$\\frac{d^nx}{dt^n}+a_1(t)\\frac{d^{n-1}x}{dt^{n-1}}+…+a_n(t)x=f_2(t)$的解，则$x_1(t)+x_2(t)$是方程$\\frac{d^nx}{dt^n}+a_1(t)\\frac{d^{n-1}x}{dt^{n-1}}+…+a_n(t)x=f_1(t)+f_2(t)$的解."
   ]
  },
  {
   "cell_type": "markdown",
   "metadata": {},
   "source": [
    "证明：$x_1(t),x_2(t)$分别是非齐次线性微分方程"
   ]
  },
  {
   "cell_type": "markdown",
   "metadata": {},
   "source": [
    "$\\frac{d^nx}{dt^n}+a_1(t)\\frac{d^{n-1}x}{dt^{n-1}}+…+a_n(t)x=f_1(t)$"
   ]
  },
  {
   "cell_type": "markdown",
   "metadata": {},
   "source": [
    "$\\frac{d^nx}{dt^n}+a_1(t)\\frac{d^{n-1}x}{dt^{n-1}}+…+a_n(t)x=f_2(t)$的解，所以满足"
   ]
  },
  {
   "cell_type": "markdown",
   "metadata": {},
   "source": [
    "$\\frac{d^nx_1(t)}{dt^n}+a_1(t)\\frac{d^{n-1}x_1(t)}{dt^{n-1}}+…+a_n(t)x_1(t)=f_1(t)$"
   ]
  },
  {
   "cell_type": "markdown",
   "metadata": {},
   "source": [
    "$\\frac{d^nx_2(t)}{dt^n}+a_2(t)\\frac{d^{n-1}x_2(t)}{dt^{n-1}}+…+a_n(t)x_2(t)=f_2(t)$"
   ]
  },
  {
   "cell_type": "markdown",
   "metadata": {},
   "source": [
    "将以上两式相加，并且利用导数的运算法则有"
   ]
  },
  {
   "cell_type": "markdown",
   "metadata": {},
   "source": [
    "$\\frac{d^n(x_1(t)+x_2(t))}{dt^n}+a_1(t)\\frac{d^{n-1}(x_1(t)+x_2(t))}{dt^{n-1}}+…+a_n(t)(x_1(t)+x_2(t))=f_1(t)+f_2(t)$"
   ]
  },
  {
   "cell_type": "markdown",
   "metadata": {},
   "source": [
    "即$x_1(t)+x_2(t)$是方程$\\frac{d^nx}{dt^n}+a_1(t)\\frac{d^{n-1}x}{dt^{n-1}}+…+a_n(t)x=f_1(t)+f_2(t)$的解."
   ]
  },
  {
   "cell_type": "markdown",
   "metadata": {},
   "source": [
    "3.已知齐次线性微分方程的基本解组$x_1,x_2$,求下列方程对应的非齐次线性微分方程的通解："
   ]
  },
  {
   "cell_type": "markdown",
   "metadata": {},
   "source": [
    "(1)$x’’-x=cost,x_1=e^t,x_2=e^{-t}$"
   ]
  },
  {
   "cell_type": "markdown",
   "metadata": {},
   "source": [
    "应用常数变易法，令"
   ]
  },
  {
   "cell_type": "markdown",
   "metadata": {},
   "source": [
    "$x=C_1(t)e^t+C_2(t)e^{-t}$"
   ]
  },
  {
   "cell_type": "markdown",
   "metadata": {},
   "source": [
    "并将它代入方程，则可得决定$C_1'(t)$和$C_2'(t)$的两个方程"
   ]
  },
  {
   "cell_type": "markdown",
   "metadata": {},
   "source": [
    "$e'C_1'(t)+e^{-1}C_2'(t)=0$"
   ]
  },
  {
   "cell_type": "markdown",
   "metadata": {},
   "source": [
    "及$e'C_1'(t)-e^{-t}C_2'(t)=cost$"
   ]
  },
  {
   "cell_type": "markdown",
   "metadata": {},
   "source": [
    "解得$C_1'(t)=\\frac{1}{2}coste^{-t}$,$C_2'=\\frac{-1}{2}e^tcost$"
   ]
  },
  {
   "cell_type": "markdown",
   "metadata": {},
   "source": [
    "则$C_1(t)=\\frac{sint-cost}{4}e^{-t}+γ_1$"
   ]
  },
  {
   "cell_type": "markdown",
   "metadata": {},
   "source": [
    "$C_2(t)=-\\frac{1}{4}(sint+cost)e^t+γ_2$"
   ]
  },
  {
   "cell_type": "markdown",
   "metadata": {},
   "source": [
    "于是原方程的通解为"
   ]
  },
  {
   "cell_type": "markdown",
   "metadata": {},
   "source": [
    "$x=γ_1e^t+γ_2e^{-t}-\\frac{1}{2}cost$"
   ]
  },
  {
   "cell_type": "markdown",
   "metadata": {},
   "source": [
    "(3)$x’’+4x=tsin2t,x_1=cos2t,x_2=sin2t$"
   ]
  },
  {
   "cell_type": "markdown",
   "metadata": {},
   "source": [
    "令$x=C_1(t)cos2t+C_2(t)sin2t$,将它代入方程，则可得决定$C_1'(t)$和$C_2'(t)$的两个方程"
   ]
  },
  {
   "cell_type": "markdown",
   "metadata": {},
   "source": [
    "$cos2tC_1'(t)+sin2tC_2'(t)=0$"
   ]
  },
  {
   "cell_type": "markdown",
   "metadata": {},
   "source": [
    "及$-2sin2tC_1'(t)+2cos2tC_2'(t)=tsint$"
   ]
  },
  {
   "cell_type": "markdown",
   "metadata": {},
   "source": [
    "解得$C_1'(t)=-\\frac{1}{2}tsintsin2t$"
   ]
  },
  {
   "cell_type": "markdown",
   "metadata": {},
   "source": [
    "$C_2'(t)=\\frac{1}{2}tsintcos2t$"
   ]
  },
  {
   "cell_type": "markdown",
   "metadata": {},
   "source": [
    "由此$C_1(t)=\\frac{1}{4}[\\frac{1}{3}tsin3t+\\frac{1}{9}cos3t-tsint-cost]+C_1$"
   ]
  },
  {
   "cell_type": "markdown",
   "metadata": {},
   "source": [
    "$c_2(t)=\\frac{1}{4}[-\\frac{1}{3}tcos3t+\\frac{1}{9}sin3t+tcost-sint]+C_2$"
   ]
  },
  {
   "cell_type": "markdown",
   "metadata": {},
   "source": [
    "于是方程的通解是"
   ]
  },
  {
   "cell_type": "markdown",
   "metadata": {},
   "source": [
    "$x=C_1cos2t+C_2sin2t+\\frac{t}{3}sint-\\frac{2}{9}cost$"
   ]
  },
  {
   "cell_type": "markdown",
   "metadata": {},
   "source": [
    "(5)$t^2x’’-tx'+x=6t+34t^2,x_1=t,x_2=tlnt$"
   ]
  },
  {
   "cell_type": "markdown",
   "metadata": {},
   "source": [
    "方程可以变形为"
   ]
  },
  {
   "cell_type": "markdown",
   "metadata": {},
   "source": [
    "$x''-\\frac{1}{t}x'+\\frac{1}{t^2}x=\\frac{6}{t}+34$"
   ]
  },
  {
   "cell_type": "markdown",
   "metadata": {},
   "source": [
    "令方程的解为$x=tC_1(t)+tlntC_2(t)$,将它代入方程，则可得决定$C_1'(t)$和$C_2'(t)$的两个方程"
   ]
  },
  {
   "cell_type": "markdown",
   "metadata": {},
   "source": [
    "$tC_1'(t)+tlntC_2'(t)=0$"
   ]
  },
  {
   "cell_type": "markdown",
   "metadata": {},
   "source": [
    "及$C_1'(t)+(lnt+1)C_2'(t)=(\\frac{6}{t}+34)$"
   ]
  },
  {
   "cell_type": "markdown",
   "metadata": {},
   "source": [
    "$C_2'(t)=\\frac{6}{t}+34$"
   ]
  },
  {
   "cell_type": "markdown",
   "metadata": {},
   "source": [
    "由此$C_1(t)=-34(tlnt)-3(lnt)^2+C_1$"
   ]
  },
  {
   "cell_type": "markdown",
   "metadata": {},
   "source": [
    "$C_2(t)=34t+6lnt+C_2$"
   ]
  },
  {
   "cell_type": "markdown",
   "metadata": {},
   "source": [
    "于是方程的通解为"
   ]
  },
  {
   "cell_type": "markdown",
   "metadata": {},
   "source": [
    "$x=C_1t+C_2tlnt+34t^2+3t(lnt)^2$"
   ]
  },
  {
   "cell_type": "markdown",
   "metadata": {},
   "source": [
    "6.假设$x_1(t)\\neq0$是二阶齐次线性微分方程$x''+a_1(t)x'+a_2(t)x=0$的解，这里$a_1(t)$和$a_2(t)$于区间[a,b]上连续，试证："
   ]
  },
  {
   "cell_type": "markdown",
   "metadata": {},
   "source": [
    "(1)$x_2(t)$为方程的解的充要条件是$W'[x_1,x_2]+a_1W[x_1,x_2]=0$"
   ]
  },
  {
   "cell_type": "markdown",
   "metadata": {},
   "source": [
    "充分性：由于$W'[X_1,X_2]=\\begin{vmatrix}x_1'&x_2'\\\\x_1'&x_2'\\end{vmatrix}+\\begin{vmatrix}x_1&x_2\\\\x_1''&x_2''\\end{vmatrix}=\\begin{vmatrix}x_1&x_2\\\\x_1''&x_2''\\end{vmatrix}$"
   ]
  },
  {
   "cell_type": "markdown",
   "metadata": {},
   "source": [
    "$W'[x_1,x_2]+a_1(t)W[x_1,x_2]=\\begin{vmatrix}x_1&x_2\\\\x_1''&x_2''\\end{vmatrix}+a_1(t)\\begin{vmatrix}x_1&x_2\\\\x_1'&x_2'\\end{vmatrix}=\\begin{vmatrix}x_1&x_2\\\\x_1''+a_1(t)x_1'&x_2''+a_1(t)x_2'\\end{vmatrix}=0$"
   ]
  },
  {
   "cell_type": "markdown",
   "metadata": {},
   "source": [
    "而$x_1(t)\\neq0$是已知方程的解，则有"
   ]
  },
  {
   "cell_type": "markdown",
   "metadata": {},
   "source": [
    "$\\begin{vmatrix}x_1&x_2\\\\-a_2(t)x_1&x''_2+a_1(t)x_2’\\end{vmatrix}=x_1\\begin{vmatrix}1&x_2\\\\-a_2(t)&x''_2+a_1(t)x_2'\\end{vmatrix}=0$"
   ]
  },
  {
   "cell_type": "markdown",
   "metadata": {},
   "source": [
    "故有$x_2''+a_1(t)x_2'+a_2(t)x_2=0$"
   ]
  },
  {
   "cell_type": "markdown",
   "metadata": {},
   "source": [
    "即$x_2(t)$是已知方程的解"
   ]
  },
  {
   "cell_type": "markdown",
   "metadata": {},
   "source": [
    "必要性：$W[x_1,x_2]$是方程的解$x_1(t)$,$x_2(t)$的朗斯基行列式，所以"
   ]
  },
  {
   "cell_type": "markdown",
   "metadata": {},
   "source": [
    "$W'[x_1,x_2]=\\begin{vmatrix}x_1&x_2\\\\x_1''&x_2''\\end{vmatrix}=\\begin{vmatrix}x_1&x_2\\\\x_1''+a_2(t)x_1&x_2'’+a_2(t)x_2\\end{vmatrix}=\\begin{vmatrix}x_1&x_2\\\\-a_1(t)x_1'&-a_1(t)x_2'\\end{vmatrix}=-a_1(t)\\begin{vmatrix}x_1&x_2\\\\x_1'&x_2'\\end{vmatrix}=-a_1(t)W[x_1,x_2]$"
   ]
  },
  {
   "cell_type": "markdown",
   "metadata": {},
   "source": [
    "即$W[x_1,x_2]$满足$W'[x_1,x_2]+a_1(t)W[x_1,x_2]=0$"
   ]
  },
  {
   "cell_type": "markdown",
   "metadata": {},
   "source": [
    "(2)方程的通解可表为$x=x_1[c_1\\int\\frac{1}{x_1^2}exp(-\\int_{t_0}^ta_1(s)ds)\\mathrm dt+c_2]$，其中$c_1,c_2$为任意常数，$t_0,t\\in[a,b]$"
   ]
  },
  {
   "cell_type": "markdown",
   "metadata": {},
   "source": [
    "因为$x_1,x_2$为方程解，则由刘维尔公式"
   ]
  },
  {
   "cell_type": "markdown",
   "metadata": {},
   "source": [
    "$\\begin{vmatrix}x_1&x_2\\\\x_1'&x_2'\\end{vmatrix}=W(t_0)e^{-\\int_{t_0}^ta_1(s)\\mathrm ds}$"
   ]
  },
  {
   "cell_type": "markdown",
   "metadata": {},
   "source": [
    "即$x_1x_2'-x_1'x_2=W(t_0)e^{-\\int_{t_0}^ta_1(s)\\mathrm ds}$"
   ]
  },
  {
   "cell_type": "markdown",
   "metadata": {},
   "source": [
    "方程两边同乘以$\\frac{1}{x^2_1}$,则有$\\frac{d(\\frac{x_2}{x_1})}{\\mathrm dt}=\\frac{W(t_0)}{x^2_1}e^{-\\int_{t_0}^ta_1(s)\\mathrm ds}$,于是"
   ]
  },
  {
   "cell_type": "markdown",
   "metadata": {},
   "source": [
    "$\\frac{x_2}{x_1}c_1\\int\\frac{1}{x^2_1}e^{-\\int_{t_0}^ta_1(s)\\mathrm ds}\\mathrm dt+c_2$"
   ]
  },
  {
   "cell_type": "markdown",
   "metadata": {},
   "source": [
    "即$x_2=(c_1\\int\\frac{1}{x^2}e^{-\\int_{t_0}^ta_1(s)\\mathrm ds}\\mathrm dt+c_2)x_1$"
   ]
  },
  {
   "cell_type": "markdown",
   "metadata": {},
   "source": [
    "取$c_1=1,c_2=0$,得"
   ]
  },
  {
   "cell_type": "markdown",
   "metadata": {},
   "source": [
    "$x_2=x_1\\int\\frac{1}{x^2_1}e^{-\\int_{t_0}^ta_1(s)\\mathrm ds}\\mathrm dt$"
   ]
  },
  {
   "cell_type": "markdown",
   "metadata": {},
   "source": [
    "又$W(t)=\\begin{vmatrix}x_1&x_2\\\\x_1'&x_2'\\end{vmatrix}=e^{-\\int_{t_0}^ta_1(s)\\mathrm ds}\\neq0$"
   ]
  },
  {
   "cell_type": "markdown",
   "metadata": {},
   "source": [
    "从而原方程的通解可以表示为"
   ]
  },
  {
   "cell_type": "markdown",
   "metadata": {},
   "source": [
    "$x=x_1[c_1\\int\\frac{1}{x^2_1}exp(-\\int_{t_0}^ta_1(s)\\mathrm ds)\\mathrm dt+c_2]$"
   ]
  },
  {
   "cell_type": "markdown",
   "metadata": {},
   "source": [
    "其中$c_1,c_2$为常数，$t_0,t\\in[a,b]$"
   ]
  },
  {
   "cell_type": "markdown",
   "metadata": {
    "collapsed": true
   },
   "source": [
    "# <font color='red'>A＋ 24/10"
   ]
  },
  {
   "cell_type": "code",
   "execution_count": null,
   "metadata": {
    "collapsed": true
   },
   "outputs": [],
   "source": []
  }
 ],
 "metadata": {
  "kernelspec": {
   "display_name": "SageMath 7.3",
   "language": "",
   "name": "sagemath"
  },
  "language_info": {
   "codemirror_mode": {
    "name": "ipython",
    "version": 2
   },
   "file_extension": ".py",
   "mimetype": "text/x-python",
   "name": "python",
   "nbconvert_exporter": "python",
   "pygments_lexer": "ipython2",
   "version": "2.7.10"
  }
 },
 "nbformat": 4,
 "nbformat_minor": 0
}
