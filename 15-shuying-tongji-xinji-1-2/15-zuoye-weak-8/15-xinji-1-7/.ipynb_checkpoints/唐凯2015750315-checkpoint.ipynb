{
 "cells": [
  {
   "cell_type": "markdown",
   "metadata": {},
   "source": [
    "                             计一  2015750315   唐凯  "
   ]
  },
  {
   "cell_type": "markdown",
   "metadata": {},
   "source": [
    "1.\n",
    "若 $x(t) $ 和 $ y(t) $在区间 $ a \\leq t \\leq b $ 上线性相关. 则有有不全为0的常数$ a_1 ,a_2 $ 使得 $ a_1x(t) + a_2y(t) = 0 $ 这 $ \\frac{x(t)}{y(t)} = -\\frac{a_1}{a_2}， \\frac{y(t)}{x(t)} = -\\frac{a_2}{a_1} $ 因为 $ -\\frac{a_1}{a_2}， \\frac{a_2}{a_1} $ 为常数， 矛盾。所以 $x(t) $ 和 $ y(t) $在区间 $ a \\leq t \\leq b $ 上线性无关。"
   ]
  },
  {
   "cell_type": "markdown",
   "metadata": {},
   "source": [
    "2.\n",
    "由已知可知，将 $ x_1(t) + x_2(t) $ 代入 $ \\frac{\\mathrm d^n x}{\\mathrm d^n t} + a_1(t)\\frac{\\mathrm d^{n -1} x}{\\mathrm t^{n- 1}} + \\ldots + a_n(t) x  $ 得   \n",
    "\n",
    "$$\n",
    "\\frac{\\mathrm d^n [x_1(t) +x_2(t)]}{\\mathrm d^n t} + a_1(t)\\frac{\\mathrm d^{n -1} [x_1(t) +x_2(t)]}{\\mathrm t^{n- 1}} + \\ldots + a_n(t) [x_1(t) +x_2(t)]  \n",
    "$$ 由导数的性质可以知， 上式可变为，\n",
    "\n",
    "$$\n",
    "\\frac{\\mathrm d^n x_1(t)}{\\mathrm d^n t} +\\frac{\\mathrm d^n +x_2(t)}{\\mathrm d^n t} + a_1(t)\\frac{\\mathrm d^{n -1} x_1(t)}{\\mathrm t^{n- 1}} + a_1(t)\\frac{\\mathrm d^{n -1} x_2(t)}{\\mathrm t^{n- 1}} + \\ldots + a_n(t) x_1(t) +a_n(t) x_2(t) = f_1(t) +f_2(t) \n",
    "$$\n",
    "\n",
    "所以 $x_1(t) +x_2(t) $是方程的解"
   ]
  },
  {
   "cell_type": "markdown",
   "metadata": {},
   "source": [
    "3.(1)\n",
    "应用常数变易法，令 $ x = c_1(t)e^t +c_2(t)e^{-t} $ ,将它代入方程 ，可得决定 $ c_1^{\\prime}(t) $ 和 $ c_2^{\\prime}(t) $ 的两个方程,\n",
    "\n",
    "$$\n",
    "\\begin {cases}\n",
    "e^tc_1^{\\prime}(t) +e^{-t}c_2^{\\prime}(t) =0 \\\\\n",
    "e^tc_1^{\\prime}(t) - e^{-t}c_2^{\\prime}(t) =\\cos t\n",
    "\\end{cases}\n",
    "$$\n",
    "\n",
    "解得，$ c_1^{\\prime} = \\frac{\\cos t}{2e^t} $ , $ c_2^{\\prime} = -\\frac{1}{2}e^t\\cos t $\n",
    "\n",
    "积分得，\n",
    "\n",
    "$ c_1 =-\\frac{1}{4}e^{-t}(\\cos t -\\sin t) +\\gamma_1 $ , $ c_2 = -\\frac{1}{4}e^t(\\cos t +\\sin t) +\\gamma_2 $\n",
    "\n",
    "故通解为 $ x(t) = \\gamma_1(t)e^t + \\gamma_2(t)e^{-t} - \\frac{1}{2}\\cos t $"
   ]
  },
  {
   "cell_type": "markdown",
   "metadata": {},
   "source": [
    "(2).\n",
    "应用常数变易法，令 $ x = c_1(t)\\cos 2t +c_2(t)\\sin 2t $ ,将它代入方程 ，可得决定 $ c_1^{\\prime}(t) $ 和 $ c_2^{\\prime}(t) $ 的两个方程,\n",
    "\n",
    "$$\n",
    "\\begin {cases}\n",
    "\\cos 2tc_1^{\\prime}(t) +\\sin 2tc_2^{\\prime}(t) =0 \\\\\n",
    "-2\\sin 2tc_1^{\\prime}(t) +\\cos 2tc_2^{\\prime}(t) =t \\sin 2t\n",
    "\\end{cases}\n",
    "$$\n",
    "\n",
    "解得，\n",
    "\n",
    "$$\n",
    "\\begin {cases}\n",
    "c_1^{\\prime} = \\frac{1}{4}t(\\cos 4t -1)\\\\\n",
    "c_2^{\\prime} = \\frac{1}{4}t\\sin 4t\n",
    "\\end {cases}\n",
    "$$\n",
    "\n",
    "积分得，\n",
    "\n",
    "$$\n",
    "\\begin {cases}\n",
    "c_1 = \\frac{1}{64}\\cos 4t + \\frac{1}{16}t\\sin 4t - \\frac{1}{8}t^2 + \\gamma_1\\\\\n",
    "c_2 = \\frac{1}{64}\\sin 4t -\\frac{1}{16}t\\cos 4t + \\gamma_2\n",
    "\\end {cases}\n",
    "$$\n",
    "\n",
    "方程通解为，$ x = \\gamma_1\\cos 2t + \\gamma_2\\sin 2t - \\frac{1}{8}t^2\\cos 2t + \\frac{1}{16}t\\sin 2t $, $ \\gamma_1 , \\gamma_2 $ 为任意常数。\n"
   ]
  },
  {
   "cell_type": "markdown",
   "metadata": {},
   "source": [
    "(3).\n",
    "应用常数变易法，令 $ x = c_1(t)t +c_2(t)t\\ln t $ ,将它代入方程 ，可得决定 $ c_1^{\\prime}(t) $ 和 $ c_2^{\\prime}(t) $ 的两个方程,\n",
    "\n",
    "$$\n",
    "\\begin{cases}\n",
    "tc_1^{\\prime}(t) +t\\ln tc_2^{\\prime}(t) =0\\\\\n",
    "c_1^{\\prime}(t) +(\\ln t +1)c_2^{\\prime}(t) =\\frac{6}{t} + 34 \n",
    "\\end {cases}\n",
    "$$\n",
    "\n",
    "解得，\n",
    "\n",
    "$$\n",
    "\\begin {cases}\n",
    "c_1^{\\prime}(t) = -\\ln t(\\frac{6}{t} + 34)\\\\\n",
    "c_2^{\\prime}(t) = \\frac{6}{t} + 34\n",
    "\\end {cases}\n",
    "$$\n",
    "\n",
    "积分得\n",
    "\n",
    "$$\n",
    "\\begin {cases}\n",
    "c_1(t) = -34(t\\ln t - t) - 3(\\ln t)^2 +\\gamma_1\n",
    "c_2(t) = 34t + 6\\ln t +\\gamma \n",
    "\\end {cases}\n",
    "$$\n",
    "\n",
    "于是方程的通解为 $ x = \\gamma_1t + \\gamma_2t\\ln t +34t^2 + 3t(\\ln t^2) $ , 其中 $ \\gamma_1 , \\gamma_2 $ 为任意常数。\n"
   ]
  },
  {
   "cell_type": "markdown",
   "metadata": {},
   "source": [
    "4.\n",
    "(1).$$\n",
    "W^{\\prime}[x_1,x_2] + a_1W[x_1,x_2] = 0\n",
    "\\iff (x_1x_2^{\\prime} -x_1^{\\prime}x_2)^{\\prime} +a_1x_1x_2^{\\prime} -a_1x_1^{\\prime}x_2 =0\n",
    "\\iff x_1{x_2^{\\prime}}^{\\prime} - {x_1^{\\prime}}^{\\prime}x_2 +a_1x_1x_2^{\\prime} -a_1x_1^{\\prime}x_2 =0\n",
    "\\iff  x_1{x_2^{\\prime}}^{\\prime} - {x_1^{\\prime}}^{\\prime}x_2 +a_1x_1x_2^{\\prime} -a_1x_1^{\\prime}x_2 +a_2x_1x_2 -ax_1x_2 =0\n",
    "\\iff x_1({x_2^{\\prime}}^{\\prime} +a_1x_2^{\\prime} +a_2x_2) =0\n",
    "\\iff {x_2^{\\prime}}^{\\prime} + a_1x_2^{\\prime} +a_2 x_2 =0 ,(x_1 \\neq 0)\n",
    "$$\n",
    "即 $x_2 $ 为方程的解。\n",
    "\n",
    " "
   ]
  },
  {
   "cell_type": "markdown",
   "metadata": {},
   "source": [
    "(2).\n",
    "因为 $ x_1 , x_2 $ 为方程的解 ，则由刘维尔公式\n",
    "\n",
    "$$\n",
    "\\begin{vmatrix} x_1 & x_2 \\\\ x_1^{\\prime} &x_2^{\\prime} \\end{vmatrix} =W(t_0)e^{-\\int_{t_0}^ta_1(s)\\mathrm ds}\n",
    "$$\n",
    "\n",
    "即 \n",
    "\n",
    "$$ \n",
    "x_1x_2^{\\prime} -x_1^{\\prime}x_2 = W(t_0)e^{-\\int_{t_0}^ta_1(s)\\mathrm ds} \n",
    "$$\n",
    "\n",
    "两边都乘以 $ \\frac{1}{X^2} $ 则有  $\\frac{\\mathrm d(\\frac{x_2}{x_1})}{\\mathrm dt} = \\frac{W(t_0)}{x_1^2}e^{-\\int_{t_0}^ta_1(s)\\mathrm ds} $\n",
    "于是  \n",
    "\n",
    "$$\n",
    "\\frac{x_2}{x_1} = c_1\\int \\frac{1}{x_1^2}e^{-\\int_{t_0}^ta_1(s)\\mathrm ds}\\mathrm dt +c_2\n",
    "$$\n",
    "\n",
    "则\n",
    "$$ \n",
    "x_2 = (c_1 \\int \\frac{1}{x_1^2}e^{-\\int_{t_0}^ta_1(s)\\mathrm ds}\\mathrm dt +c_2)x_1\n",
    "$$\n",
    "\n",
    "取 $ c_1 = 1 ,c_2 = 0 $, 得 \n",
    "\n",
    "$$\n",
    "x_2 = x_1\\int \\frac{1}{x_1^2}e^{-\\int_{t_0}^ta_1(s)\\mathrm ds}\\mathrm dt \n",
    "$$\n",
    "\n",
    "又 $ W(t) = \\begin{vmatrix} x_1 & x_2 \\\\ x_1^{\\prime} &x_2^{\\prime} \\end{vmatrix} =W(t_0)e^{-\\int_{t_0}^ta_1(s)\\mathrm ds} \\neq 0 $\n",
    "从而方程的通解可表示为：\n",
    "\n",
    "$$\n",
    "x = x_1[c_1\\int\\frac{1}{x_1^2}\\exp(-\\int_{t_0}{t}a_1(s)\\mathrm ds)\\mathrm dt +c_2]\n",
    "$$ ,其中  $ c_1 ,c_2 $ 为常数 ，$ t_0 ,t \\in [a ,b] $\n"
   ]
  },
  {
   "cell_type": "markdown",
   "metadata": {
    "collapsed": true
   },
   "source": [
    "# <font color='red'>A－ 24/10"
   ]
  },
  {
   "cell_type": "code",
   "execution_count": null,
   "metadata": {
    "collapsed": true
   },
   "outputs": [],
   "source": []
  }
 ],
 "metadata": {
  "kernelspec": {
   "display_name": "SageMath 7.3",
   "language": "",
   "name": "sagemath"
  },
  "language_info": {
   "codemirror_mode": {
    "name": "ipython",
    "version": 2
   },
   "file_extension": ".py",
   "mimetype": "text/x-python",
   "name": "python",
   "nbconvert_exporter": "python",
   "pygments_lexer": "ipython2",
   "version": "2.7.10"
  }
 },
 "nbformat": 4,
 "nbformat_minor": 0
}
