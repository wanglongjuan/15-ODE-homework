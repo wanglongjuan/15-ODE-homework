{
 "cells": [
  {
   "cell_type": "markdown",
   "metadata": {},
   "source": [
    "1.设$x(t)$和$y(t)$是区间$a\\leq t\\leq b$上的连续函数，证明：如果在区间$a\\leq t\\leq b$上有$\\frac{x(t)}{y(t)}\\neq$常数或$\\frac{y(t)}{x(t)}\\neq$常数，则$x(t)$和$y(t)$在区间$a\\leq t\\leq b$上线性无关（提示：用反证法）"
   ]
  },
  {
   "cell_type": "markdown",
   "metadata": {},
   "source": [
    "证 $\\quad\\quad$反证法。假设在区间$a\\leq t\\leq b$上有$\\frac{x(t)}{y(t)}\\neq$常数,而$x(t)$和$y(t)$在区间$a\\leq t\\leq b$上线性相关，即存在不全为零的常数$c,d$使得$$cx(t)+dy(t)\\equiv 0,t\\in[a,b]$$\n",
    "显然，因为$y(t)\\neq 0$所以$c\\neq 0$，即有$\\frac{x(t)}{y(t)}=-\\frac{d}{c}$为常数，与假设矛盾，所以$x(t)$和$y(t)$在区间$a\\leq t\\leq b$上线性无关。同理可证，如果在区间$a\\leq t\\leq b$上有$\\frac{y(t)}{x(t)}\\neq$常数，则$x(t)$和$y(t)$在区间$a\\leq t\\leq b$上线性无关。"
   ]
  },
  {
   "cell_type": "markdown",
   "metadata": {},
   "source": [
    "2.证明非齐次线性微分方程的叠加原理：设$x_1(t),x_2(t)$分别是非齐次线性微分方程$$\\frac{d^n x}{d t^n}+a_1(t)\\frac{d^{n-1} x}{d t^{n-1}}+ \\cdots +a_n(t)x=f_1(t)$$\n",
    "$$\\frac{d^n x}{d t^n}+a_1(t)\\frac{d^{n-1} x}{d t^{n-1}}+ \\cdots +a_n(t)x=f_2(t)$$\n",
    "的解，则$x_1(t),x_2(t)$是方程$$\\frac{d^n x}{d t^n}+a_1(t)\\frac{d^{n-1} x}{d t^{n-1}}+ \\cdots +a_n(t)x=f_1(t)+f_2(t)$$的解。"
   ]
  },
  {
   "cell_type": "markdown",
   "metadata": {},
   "source": [
    "证明 $\\quad$因为$$\\frac{d^n x_1(t)}{d t^n}+a_1(t)\\frac{d^{n-1} x_1(t)}{d t^{n-1}}+ \\cdots +a_n(t)x_1(t)\\equiv f_1(t)$$\n",
    "$$\\frac{d^n x_2(t)}{d t^n}+a_1(t)\\frac{d^{n-1} x_2(t)}{d t^{n-1}}+ \\cdots +a_n(t)x_2(t)\\equiv f_2(t)$$\n",
    "有$$\\begin{aligned}&\\frac{d^n [x_1(t)+x_2(t)]}{d t^n}+a_1(t)\\frac{d^{n-1} [x_1(t)+x_2(t)]}{d t^{n-1}}+ \\cdots +a_n(t)[x_1(t)+x_2(t)]\\\\\n",
    "\\equiv&\\frac{d^n x_1(t)}{d t^n}+a_1(t)\\frac{d^{n-1} x_1(t)}{d t^{n-1}}+ \\cdots +a_n(t)x_1(t)+\\\\\n",
    "&\\frac{d^n x_2(t)}{d t^n}+a_1(t)\\frac{d^{n-1} x_2(t)}{d t^{n-1}}+ \\cdots +a_n(t)x_2(t)\\\\\n",
    "\\equiv& f_1(t)+f_2(t)\\end{aligned}$$\n",
    "即$x_1(t),x_2(t)$是方程$$\\frac{d^n x}{d t^n}+a_1(t)\\frac{d^{n-1} x}{d t^{n-1}}+ \\cdots +a_n(t)x=f_1(t)+f_2(t)$$的解。"
   ]
  },
  {
   "cell_type": "markdown",
   "metadata": {},
   "source": [
    "3.已知齐次线性微分方程的基本解组$x_1,x_2$,求下列方程对应的非齐次线性微分方程的通解："
   ]
  },
  {
   "cell_type": "markdown",
   "metadata": {},
   "source": [
    "1)$$x^n-x=cos t,x_1=e^t,x_2=e^{-t}$$"
   ]
  },
  {
   "cell_type": "markdown",
   "metadata": {},
   "source": [
    "解$\\quad$设$x=acost+bsint$为非齐次线性微分方程的一个特解，因为$$x'=-asint+bcost,x''=-acost-bsint,$$代入非齐次方程得$$x''-x=-2acost-2bsint=cost,a=-\\frac{1}{2},b=0$$\n",
    "即特解为$x=-\\frac{1}{2}cost$，非齐次线性微分方程的通解为$x=c_1e^t+c_2e^{-t}-\\frac{1}{2}cost$"
   ]
  },
  {
   "cell_type": "markdown",
   "metadata": {},
   "source": [
    "3)$$x''+4x=tsin 2t,x_1=cos 2t,x_2=sin 2t$$"
   ]
  },
  {
   "cell_type": "markdown",
   "metadata": {},
   "source": [
    "解$\\quad$$\\begin{pmatrix} \\cos 2t & \\sin 2t \\\\ -2\\sin 2t & 2\\cos 2t \\\\ \\end{pmatrix} $$ \\begin{pmatrix} c_1' \\\\ c_2' \\\\ \\end{pmatrix} $=$ \\begin{pmatrix} 0 \\\\ t\\sin 2t \\\\ \\end{pmatrix} $  \n",
    "\n",
    "$ \\begin{pmatrix} c_1' \\\\ c_2' \\\\ \\end{pmatrix} = \\begin{pmatrix} \\frac{1}{4}t(\\cos 4t-1) \\\\ \\frac{1}{4}t\\sin 4t \\\\ \\end{pmatrix} $  \n",
    "\n",
    "$ \\begin{pmatrix} c_1 \\\\ c_2 \\\\ \\end{pmatrix} = \\begin{pmatrix} \\frac{1}{64}\\cos 4t+\\frac{1}{16}t\\sin 4t-\\frac{1}{8}t^2+\\alpha_1 \\\\ \\frac{1}{64}\\sin 4t-\\frac{1}{16}t\\cos 4t+\\alpha_2 \\\\ \\end{pmatrix} $  \n",
    "\n",
    "通解为$$x=\\alpha_1\\cos 2t+\\alpha_2\\sin 2t-\\frac{1}{8}t^2\\cos 2t+\\frac{1}{16}t\\sin 2t$$"
   ]
  },
  {
   "cell_type": "markdown",
   "metadata": {},
   "source": [
    "5)$$t^2x''-tx'+x=6t+34t^2,x_1=t,x_2=tln t$$"
   ]
  },
  {
   "cell_type": "markdown",
   "metadata": {},
   "source": [
    "解$\\quad$令$x=c_1(t)t+c_2(t)tlnt$,解方程组\n",
    "$$\n",
    "\\begin{cases}\n",
    "c_1'(t)t+c_2'(t)tlnt=0,\\\\\n",
    "c_1'(t)t^2+c_2'(t)t^2(1+lnt)=6t+34t^2\n",
    "\\end{cases}\n",
    "$$\n",
    "得$c_2'(t)=6t^{-1}+34,c_1'(t)=-6t^{-1}lnt-34lnt.$积分得$$c_1(t)=34t-34tlnt-3ln^2t+\\alpha_1,c_2(t)=34t+6lnt+\\alpha_2$$通解为$x=\\alpha_1t+\\alpha_2tlnt+34t^2+3tln^2t$"
   ]
  },
  {
   "cell_type": "markdown",
   "metadata": {},
   "source": [
    "6.假设$x_1(t)\\neq 0是二阶齐次线性微分方程$$x''+a_1(t)x'+a_2(t)x=0$的解，这里$a_1(t),a_2(t)$于区间$[a,b]$上连续，试证："
   ]
  },
  {
   "cell_type": "markdown",
   "metadata": {},
   "source": [
    "(1)$x_2(t)为方程的解的充要条件是$$W'[x_1,x_2]+a_1(t)W[x_1,x_2]=0$"
   ]
  },
  {
   "cell_type": "markdown",
   "metadata": {},
   "source": [
    "解$\\quad$微分朗基斯行列式，有$$\\begin{aligned}W'[x_1(t),x_2(t)]&=\\frac{d}{d t} \n",
    "\\begin{vmatrix} \n",
    "x_1(t) & x_2(t) \\\\ \n",
    "x_1'(t) & x_2'(t)\\\\ \n",
    "\\end{vmatrix}\\\\\n",
    "&= \n",
    "\\begin{vmatrix} \n",
    "x_1'(t) & x_2'(t) \\\\ \n",
    "x_1'(t) & x_2'(t)\\\\ \n",
    "\\end{vmatrix}\n",
    "+\n",
    "\\begin{vmatrix} \n",
    "x_1(t) & x_2(t) \\\\ \n",
    "x_1'(t) & x_2'(t)\\\\ \n",
    "\\end{vmatrix}\\\\\n",
    "&=\n",
    "\\begin{vmatrix} \n",
    "x_1(t) & x_2(t) \\\\ \n",
    "x_1''(t) & x_2''(t)\\\\ \n",
    "\\end{vmatrix}\\\\\n",
    "&= \n",
    "\\begin{vmatrix} \n",
    "x_1(t) & x_2(t) \\\\ \n",
    "-a_1(t)x_1'(t)-a_2(t)x_1(t) & -a_1(t)x_2'(t)-a_2(t)x_2(t)\\\\ \n",
    "\\end{vmatrix}\\\\\n",
    "&= \n",
    "\\begin{vmatrix} \n",
    "x_1(t) & x_2(t) \\\\\n",
    "-a_1(t)x_1'(t) &  -a_1(t)x_2'(t)\\\\ \n",
    "\\end{vmatrix}\\\\\n",
    "&=-a_1(t)\n",
    "\\begin{vmatrix} \n",
    "x_1(t) & x_2(t) \\\\ \n",
    "x_1'(t) & x_2'(t)\\\\ \n",
    "\\end{vmatrix}\\\\ \n",
    "&=-a_1(t)W[x_1(t),x_2(t)]\\\\\n",
    "W'[x_1,x_2]+a_1(t)W[x_1,x_2]&=0\\end{aligned}$$ \n",
    "反之，满足关系式$W'[x_1,x_2]+a_1(t)W[x_1,x_2]=0$时，由$$\\begin{aligned}&\\frac{d}{d t} \n",
    "\\begin{vmatrix} \n",
    "x_1(t) & x_2(t) \\\\ \n",
    "x_1'(t) & x_2'(t)\\\\ \n",
    "\\end{vmatrix}\n",
    "+a_1(t) \n",
    "\\begin{vmatrix} \n",
    "x_1(t) & x_2(t) \\\\ \n",
    "x_1'(t) & x_2'(t)\\\\ \n",
    "\\end{vmatrix}\\\\\n",
    "=&\\frac{d}{d t}[x_1(t)x_2'(t)-x_2(t)x_1'(t)]+a_1(t)[x_1(t)x_2'(t)-x_2(t)x_1'(t)]\\\\\n",
    "=&x_1(t)[x_2''(t)+a_1(t)x_2'(t)+a_2(t)x_2(t)]-x_2(t)[x_1''(t)+a_1(t)x_1'(t)+a_2(t)x_1(t)]\\\\\n",
    "=&x_1(t)[x_2''(t)+a_1(t)x_2'(t)+a_2(t)x_2(t)]=0\\end{aligned}$$  \n",
    "\n",
    "假设$x_1(t)\\neq 0$有$$x_2''(t)+a_1(t)x_2'(t)+a_2(t)x_2(t)=0$$即$x_2(t)$是方程的解"
   ]
  },
  {
   "cell_type": "markdown",
   "metadata": {},
   "source": [
    "(2)方程的通解可表为$$x=x_1[c_1\\int \\frac{1}{x_1^2}exp(-\\int_{t_0}^{t}a_1(s)d s)d t+c_2]$$其中$c_1,c_2$为任意常数，$t_0,t\\in[a,b]$"
   ]
  },
  {
   "cell_type": "markdown",
   "metadata": {},
   "source": [
    "设$x=c(t)x_1$为方程的解，代入方程得\n",
    "$$\\begin{aligned}&c''x_1+2c'x_1'+cx_1''+a_1(c'x_1+cx_1')+a_2cx_1\\\\=&c''x_1+c'(2x_1'+a_1x_1)+c(x_1''+a_1x_1'+a_2x_1)\\\\\n",
    "=&c''x_1+c'(2x_1'+a_1x_1)\\\\\n",
    "=&0\\end{aligned}$$\n",
    "令$y=c'$,可得$y'x_1+y(2x_1'+a_1x_1)=0,y'=-(\\frac{2x_1'}{x_1}+a_1)y$有解\n",
    "$$\\begin{aligned}c'=y&=c_1exp[-\\int_{t_0}^{t}(\\frac{2x_1'}{x_1}+a_1)d t]\\\\&=c_1exp(-2\\ln x_1-\\int_{t_0}^{t}a_1d t)\\\\&=\\frac{c_1}{{x_1}^2}exp[-\\int_{t_0}^{t}a_1(s)d s]\\\\\n",
    "c&=\\int \\frac{c_1}{{x_1}^2}exp[-\\int_{t_0}^{t}a_1(s)d s]d t+c_2\\\\\n",
    "&=c_1\\int \\frac{1}{{x_1}^2}exp[-\\int_{t_0}^{t}a_1(s)d s]d t+c_2\\end{aligned}$$\n",
    "$$x=x_1[c_1\\int \\frac{1}{{x_1}^2}exp[-\\int_{t_0}^{t}a_1(s)d s]d t+c_2$$\n",
    "其中$c_1,c_2$为任意常数，$t_0,t\\in[a,b]$,因为解有两个独立的任意常数，所以解为二阶齐次线性微分方程的通解。"
   ]
  },
  {
   "cell_type": "markdown",
   "metadata": {},
   "source": [
    "# <font color='red'>A 24/10"
   ]
  },
  {
   "cell_type": "code",
   "execution_count": null,
   "metadata": {
    "collapsed": true
   },
   "outputs": [],
   "source": []
  }
 ],
 "metadata": {
  "kernelspec": {
   "display_name": "SageMath 7.3",
   "language": "",
   "name": "sagemath"
  },
  "language_info": {
   "codemirror_mode": {
    "name": "ipython",
    "version": 2
   },
   "file_extension": ".py",
   "mimetype": "text/x-python",
   "name": "python",
   "nbconvert_exporter": "python",
   "pygments_lexer": "ipython2",
   "version": "2.7.10"
  }
 },
 "nbformat": 4,
 "nbformat_minor": 0
}
