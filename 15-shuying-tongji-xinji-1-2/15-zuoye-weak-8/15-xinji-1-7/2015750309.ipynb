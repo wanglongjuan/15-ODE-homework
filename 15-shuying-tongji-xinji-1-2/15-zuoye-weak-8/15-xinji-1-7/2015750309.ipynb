{
 "cells": [
  {
   "cell_type": "markdown",
   "metadata": {},
   "source": [
    " 1.设$x(t)$和$y(t)$是区间$a\\leq t\\leq b$上的连续函数，证明：如果在区间$a\\leq t\\leq b$上有$\\frac{x(t)}{y(t)}\\neq$常数或$\\frac{y(t)}{x(t)}\\neq$常数，则$x(t)$和$y(t)$在区间$a\\leq t\\leq b$上线性无关"
   ]
  },
  {
   "cell_type": "markdown",
   "metadata": {},
   "source": [
    "证明：假设$x(t)、y(t)$线性相关，则存在$\\alpha\\cdot\\beta\\neq 0$使得$\\alpha x(t)+\\beta y(t)=0$ 设$x(t)\\neq 0$,则$\\frac{y(t)}{x(t)}=-\\frac{\\alpha}{\\beta}$为常数。所以$x(t)、y(t)$在区间$a\\leq t\\leq b$上线性无关。"
   ]
  },
  {
   "cell_type": "markdown",
   "metadata": {},
   "source": [
    "2.证明非齐次线性微分方程的叠加原理：设$x_1(t)、x_2(t)$分别是非齐次线性微分方程。\n",
    "\n",
    "$\n",
    "\\frac{\\mathrm d^n x}{\\mathrm d t_n}+a_1(t)\\frac{\\mathrm d^{n-1} x}{\\mathrm d t^{n-1}}+\\cdots +a_n(t)x=f_1(x),\n",
    "$\n",
    "$\n",
    "\\frac{\\mathrm d^n x}{\\mathrm d t^n}+a_1(t)\\frac{\\mathrm d^{n-1} x}{\\mathrm d t^{n-1}}+\\cdots+a_n(t)x=f_2(x)\n",
    "$\n",
    "的解，则$x_1(t)、x_2(t)$是方程\n",
    "$\\frac{\\mathrm d^n x}{\\mathrm d t^n}+a_1(t)\\frac{\\mathrm d^{n-1} x}{\\mathrm d t^{n-1}}+\\cdots+a_n(t)x=f_1(t)+f_2(t)\n",
    "$\n",
    "的解"
   ]
  },
  {
   "cell_type": "markdown",
   "metadata": {},
   "source": [
    "证明：因为$x_1(t)、x_2(t)$是方程组的解。\n",
    "\n",
    "$\\frac{\\mathrm d^n x_1(t)}{\\mathrm d t^n}+a_1(t)\\frac{\\mathrm d^{n-1} x_1(t)}{\\mathrm d t^{n-1}}+\\cdots+a_n(t)x_1(t)=f_1(t)$\n",
    "$\\frac{\\mathrm d^n x_2(t)}{\\mathrm d t^n}+a_1(t)\\frac{\\mathrm d^{n-1}x_2(t)}{\\mathrm d t^{n-1}}+\\cdots+a_n(t)x_2(t)=f_2(t)$\n",
    "\n",
    "那么$\\frac{\\mathrm d^n(x_1(t)+x_2(t))}{\\mathrm d t^n}+a_1(t)\\frac{\\mathrm d^{n-1}(x_1(t)+x_2(t))}{\\mathrm d t^{n-1}}+\\cdots+a_n(t)(x_1(t)+x_2(t))=f_1(t)+f_2(t)$\n",
    "\n",
    "即$x_1(t)+x_2(t)$为方程的解"
   ]
  },
  {
   "cell_type": "markdown",
   "metadata": {},
   "source": [
    "3.已知齐次线性微分方程的基本解组$x_1、x_2$，求下列方程对应的非齐次线性微分方程的通解："
   ]
  },
  {
   "cell_type": "markdown",
   "metadata": {},
   "source": [
    "（1）$x\"-x=\\cos t,x_1=e^t,x_2=e^{-t}$;"
   ]
  },
  {
   "cell_type": "markdown",
   "metadata": {
    "collapsed": true
   },
   "source": [
    "解：由题可设通解为：$x(t)=c_1(t)e^t+c_2(t)e^{-t}$,则\n",
    "$\\begin{cases}\n",
    "{c_1}^{\\prime}(t)e^t+{c_2}^{\\prime}(t)e^{-t}=0\\\\{c_1}^{\\prime}(t)e^t-{c_2}^{\\prime}(t)e^{-t}=\\cos t\\\\\n",
    "\\end{cases}$\n",
    "\n",
    "得：$c_1(t)=-\\frac{1}{4}e^{-t}9\\cos t-\\sin t)+c_1; c_2(t)=-\\frac{1}{4}e^t(\\cos t+\\sin t)+c_2$\n",
    "\n",
    "通解为:$x(t)=c_1e^t+c_2e^{-t}-\\frac{1}{2}\\cos t$"
   ]
  },
  {
   "cell_type": "markdown",
   "metadata": {},
   "source": [
    "(3):$x\"+4x=t\\sin 2t,x_1=\\cos 2t,x_2=\\sin 2t$"
   ]
  },
  {
   "cell_type": "markdown",
   "metadata": {},
   "source": [
    "解：令$x=C_1(t)\\cos 2t+C_2（t)\\sin 2t$，带入方程得\n",
    "$\\cos 2t\\cdot C^{\\prime}_1(t)+\\sin 2t\\cdot C^{\\prime}_2(t)=0$\n",
    "$-2\\sin 2tC^{\\prime}_2(t)+2\\cos 2t\\cdot C^{\\prime}_2(t)=t\\sin t$\n",
    "\n",
    "解得$C^{\\prime}_1(t)=-\\frac{1}{2}t\\sin t\\sin 2t$\n",
    "$C^{\\prime}_2(t)=\\frac{1}{2}t\\sin t\\cos 2t$"
   ]
  },
  {
   "cell_type": "markdown",
   "metadata": {},
   "source": [
    "得:$C_1(t)=\\frac{1}{4}[\\frac{1}{3}t\\sin 3t+\\frac{1}{9}\\cos 3t-t\\sin t-\\cos t]+C_1$\n",
    "$C_2(t)=\\frac{1}{4}[-\\frac{1}{3}t\\cos 3t+\\frac{1}{9}\\sin 3t+t\\cos t-\\sin t]+C_2$\n",
    "即通解为$x=C_1\\cos 2t+C_2\\sin 2t+\\frac{t}{3}\\sin t-\\frac{2}{9}\\cos t$"
   ]
  },
  {
   "cell_type": "markdown",
   "metadata": {},
   "source": [
    "(5):$t^2x\"-3tx^{\\prime}+x=6t+34t^2,x_1=t,x_2=t\\ln t;$"
   ]
  },
  {
   "cell_type": "markdown",
   "metadata": {},
   "source": [
    "解：原方程为$x\"-\\frac{1}{t}x^{\\prime}+\\frac{1}{t^2}=\\frac{6}{t}+34$\n",
    "令解为$x=t\\cdot C_1(t)+t\\ln t\\cdot C_2(t)$，带入,得\n",
    "$$t\\cdot C^{\\prime}_1(t)+t\\ln t\\cdot C^{\\prime}_2(t)=0$$\n",
    "$$c^{\\prime}_1(t)+(\\ln t+1)C^{\\prime}_2(t)=\\frac{6}{t}+34$$\n",
    "解得\n",
    "$$C^{\\prime}_1(t)=-\\ln t(\\frac{6}{t}+34)$$\n",
    "$$C^{\\prime}_2(t)=\\frac{6}{t}+34$$\n",
    "即$$C_1(t)=-34(t\\ln t-t)-3(\\ln t)^2+C_1$$\n",
    "$$C_2(t)=34t+6\\ln t+C_2$$\n",
    "\n",
    "解得 通解为:$$x=C_1\\cdot t+C_2t\\ln t+34t^2+3t(\\ln t)^2$$"
   ]
  },
  {
   "cell_type": "markdown",
   "metadata": {},
   "source": [
    "6.假设$x_1(t)\\neq 0$是二阶齐次线性微分方程$$x\"+a_1(t)x^{\\prime}+a_2(t)x+0$$\n",
    "的解，这里$a_1(t)和a_2(t)$于区间[a,b]上连续，试证：\n",
    "\n",
    "（1）$x_2(t)$为方程的解的充要条件是$W^{\\prime}[x_1,x_2]+a_1W[x_1,x_2];$"
   ]
  },
  {
   "cell_type": "markdown",
   "metadata": {},
   "source": [
    "证明：充分性  因为\n",
    "$W^{\\prime}[x_1,x_2]= \n",
    "\\begin{vmatrix} \n",
    "x_1' & x_2' \\\\ \n",
    "x_1' & x_2'\\\\ \n",
    "\\end{vmatrix} +\\begin{vmatrix}\n",
    "x_1 & x_2\\\\\n",
    "x_1\" &x_2\"\\\\\n",
    "\\end{vmatrix}=\\begin{vmatrix}x_1&x_2\\\\\n",
    "x_1\"&x_2\"\\\\ \\end{vmatrix}$\n"
   ]
  },
  {
   "cell_type": "markdown",
   "metadata": {},
   "source": [
    "$W'[x_1,x_2]+a_1(t)W[x_1,x_2]=0$"
   ]
  },
  {
   "cell_type": "markdown",
   "metadata": {},
   "source": [
    "又因为$x_1(t)\\neq 0$是方程的解，所以\n",
    "$$x_1\\begin{vmatrix}1&x_2\\\\-a_2(t)&x_2\"+a_1(t)x_2'\\\\\\end{vmatrix}=0$$"
   ]
  },
  {
   "cell_type": "markdown",
   "metadata": {},
   "source": [
    "即$$x_2\"+a_1(t)x_2'+a_2(t)x_2=0$$ 所以$x_2(t)$是方程的解"
   ]
  },
  {
   "cell_type": "markdown",
   "metadata": {},
   "source": [
    "必要性  因为$W[x_1,x_2]$是方程的解$x_1(t),x_2(t)$的朗斯基行列式，所以\n",
    "$$W'[x_1,x_2]=\\begin{vmatrix} x_1&x_2\\\\x_1'&x_2'\\\\\\end{vmatrix}=\\begin{vmatrix}1&x_2\\\\-a_1(t)x_1'&a_1(t)x_2'\\\\\\end{vmatrix}=-a_1(t)W[x_1,x_2]$$\n",
    "\n",
    "即$W[x_1,x_2]$满足$W'[x_1,x_2]a_1(t)W[x_1,x_2]=0$"
   ]
  },
  {
   "cell_type": "markdown",
   "metadata": {},
   "source": [
    "(2)方程的通解可表为$$x=x_1[c_1\\int\\frac{1}{x_1^2}e^{-\\int_{t_0}^t a_1(s)\\mathrm d s}\\mathrm d t+c_2]$$\n",
    "\n",
    "$c_1,c_2$为任意常数，$t_0\\in[a,b]$"
   ]
  },
  {
   "cell_type": "markdown",
   "metadata": {},
   "source": [
    "又因为$x_1,x_2$为方程的解，则由公式$$ \n",
    "\\begin{vmatrix} \n",
    "x_1 & x_2 \\\\ \n",
    "x_1' & x_2'\\\\ \n",
    "\\end{vmatrix} \n",
    "=w(t_0)e^{-\\int\\limits_{t_0}^t a_1(s) d s}\n",
    "$$ \n",
    "\n",
    "即$$x_1x_2'-x_1'x_2=W(t_0)e^{-\\int_{t_0}^ta_1(s)\\mathrm d s}$$"
   ]
  },
  {
   "cell_type": "markdown",
   "metadata": {},
   "source": [
    "两边乘$\\frac{1}{x_1^2}$得\n",
    "$$\\frac{x_2}{x_1}=c_1\\int\\frac{1}{x_2^2}e^{-\\int_{t_0}^ta_1(s)\\mathrm d s}\\mathrm d t+c_2$$\n",
    "取$c_1=1,c_2=0$得\n",
    "$$x_2=x_1\\int\\frac{1}{x_1^2}e^{-\\int_{t_0}^ta_1(s)\\mathrm d s}\\mathrm d t$$"
   ]
  },
  {
   "cell_type": "markdown",
   "metadata": {},
   "source": [
    "又$$W(t)=e^{-\\int_{t_0}^ta_1(s)\\mathrm d s}\\neq 0$$\n",
    "所以通解可表示为$$x=x_1[c_1\\int\\frac{1}{x_1^2}e^{-\\int_{t_0}^ta_1(s)\\mathrm d s}\\mathrm d t+c_2]，$$\n",
    "其中$c_1,c_2$为常数，$t_0,t\\in[a,b].$"
   ]
  },
  {
   "cell_type": "markdown",
   "metadata": {
    "collapsed": true
   },
   "source": [
    "# <font color='red'>A 24/10"
   ]
  },
  {
   "cell_type": "code",
   "execution_count": null,
   "metadata": {
    "collapsed": true
   },
   "outputs": [],
   "source": []
  }
 ],
 "metadata": {
  "kernelspec": {
   "display_name": "SageMath 7.3",
   "language": "",
   "name": "sagemath"
  },
  "language_info": {
   "codemirror_mode": {
    "name": "ipython",
    "version": 2
   },
   "file_extension": ".py",
   "mimetype": "text/x-python",
   "name": "python",
   "nbconvert_exporter": "python",
   "pygments_lexer": "ipython2",
   "version": "2.7.10"
  }
 },
 "nbformat": 4,
 "nbformat_minor": 0
}
