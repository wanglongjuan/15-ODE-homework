{
 "cells": [
  {
   "cell_type": "markdown",
   "metadata": {},
   "source": [
    "常微分第八次作业\n",
    "\n",
    "201550411"
   ]
  },
  {
   "cell_type": "markdown",
   "metadata": {},
   "source": [
    "$1.证明:假设在x(t),y(t)在区间a\\leq t\\leq b上线形相关$\n",
    "\n",
    "$则存在不全为0的常数\\alpha，\\beta,使得\\alpha x(t)+\\beta y(t)=0$\n",
    "\n",
    "$那么不妨x(t)不为0,则有\\frac{y(t)}{x(t)}=-\\frac{\\alpha}{\\beta}$\n",
    "\n",
    "$显然-\\frac{\\alpha}{\\beta}为常数，与题矛盾，即假设不成立x(t),y(t)在区间a\\leq t\\leq b上线形无关$"
   ]
  },
  {
   "cell_type": "markdown",
   "metadata": {},
   "source": [
    "$2.证明:由题可知x_1(t),x_2(t)分别是两个方程的解$\n",
    "\n",
    "$则:\\frac{d^nx_1(t)}{dt^n}+a_1(t)\\frac{d^{n-1}x_1(t)}{dt^{n-1}}+\\cdots+a_n(t)x_1(t)=f_1(t)   (1)$\n",
    "\n",
    "$\\frac{d^nx_2(t)}{dt^n}+a_1(t)\\frac{d^{n-1}x_2(t)}{dt^{n-1}}+\\cdots+a_n(t)x_2(t)=f_1(t)     (2)$\n",
    "\n",
    "$那么由(1)+(2)得:$\n",
    "\n",
    "$\\frac{d^n(x_1(t)+x_2(t))}{dt^n}+a_1(t)\\frac{d^{n-1}(x_1(t)+x_2(t))}{dt^{n-1}}+\\cdots+a_n(t)(x_1(t)+x_2(t))=f_1(t)+f_2(t)$\n",
    "\n",
    "$即x_1(t)+x_2(t)是方程\\frac{d^nx}{dt^n}+a_1(t)\\frac{d^{n-1}x}{dt^{n-1}}+\\cdots+a_n(t)x=f_1(t)+f_2(t)的解$"
   ]
  },
  {
   "cell_type": "markdown",
   "metadata": {},
   "source": [
    "$3.1)应用常数变易法,令x(t)=c_1(t)e^t+c_2(t)e^{-t},将它代入方程则有;$\n",
    "\n",
    "\\begin{cases}c'_1(t)e^t+c'_2(t)e^{-t}=0\\\\c'_1(t)e^t-c'_2(t)e^{-t}=cost\\end{cases}\n",
    "\n",
    "解得\\begin{cases}c'_1(t)=\\frac{1}{2}e^{-t}cost\\\\c'_2(t)=\\frac{1}{2}e^{-t}cost\\end{cases}\n",
    "\n",
    "$积分得\\begin{cases}c_1(t)=-\\frac{1}{4}e^{-t}(cos t-sin t)+c_1\\\\c_2(t)=\\frac{1}{4}e^{-t}(cos t+sin t)+c_2\\end{cases}$\n",
    "\n",
    "$故所求通解为x(t)=c_1e^t+c_2e^{-t}-\\frac{1}{2}cost,其中c_1,c_2为任意常数$"
   ]
  },
  {
   "cell_type": "markdown",
   "metadata": {
    "collapsed": true
   },
   "source": [
    "$3)应用常数变易法,令x(t)=c_1(t)cos2t+c_2(t)sin2t,将它代入方程则有;$\n",
    "\n",
    "$\\begin{cases}c'_1(t)cos2t+c'_2(t)sin2t=0\\\\-2c'_1(t)sin2t+2c'_2(t)cos2t=tsin2t\\end{cases}$\n",
    "\n",
    "$解得\\begin{cases}c'_1(t)=\\frac{1}{4}t(cos4t-1)\\\\c'_2(t)=\\frac{1}{4}tsin4t\\end{cases}$\n",
    "\n",
    "$积分得\\begin{cases}c_1(t)=\\frac{1}{64}cos4t+\\frac{1}{16}tsin4t-\\frac{1}{8}t^2+c_1\\\\c_2(t)=\\frac{1}{64}sin4t-\\frac{1}{16}tcos4t+c_2\\end{cases}$\n",
    "\n",
    "$故所求通解为x(t)=c_1cos2t+c_2sin2t-\\frac{1}{8}t^2cos2t+\\frac{1}{16}tsin2t,其中c_1,c_2为任意常数$"
   ]
  },
  {
   "cell_type": "markdown",
   "metadata": {
    "collapsed": true
   },
   "source": [
    "$5)原方程可化为:x''-\\frac{1}{t}x'+\\frac{1}{t^2}x=\\frac{6}{t}+34$\n",
    "\n",
    "$应用常数变易法,令x(t)=c_1(t)t+c_2(t)tlnt,将它代入方程则有;$\n",
    "\n",
    "\\begin{cases}c'_1(t)t+c'_2(t)tlnt=0\\\\c'_1(t)-c'_2(t)(lnt+1)=\\frac{6}{t}+34\\end{cases}\n",
    "\n",
    "解得\\begin{cases}c'_1(t)=-lnt(\\frac{6}{t}+34)\\\\c'_2(t)=\\frac{6}{t}+34\\end{cases}\n",
    "\n",
    "$积分得\\begin{cases}c_1(t)=-34(tlnt-t)-3(lnt)^2+c_1\\\\c_2(t)=34t+6lnt+c_2\\end{cases}$\n",
    "\n",
    "$故所求通解为x(t)=c_1t+c_2tlnt+34t^2+3t(lnt)^2,其中c_1,c_2为任意常数$"
   ]
  },
  {
   "cell_type": "markdown",
   "metadata": {},
   "source": [
    "$6.证:(1)w'[x_1,x_2]+a_1w[x_1,x_2]=0$\n",
    "\n",
    "$<=>x_1x_2''-x_1''x_2'+a_1x_1x_2'-a_1x_1'x_2=0$\n",
    "\n",
    "$<=>x_1x_2''+a_1x_1'x_2+a_1x_1x_2+a_1x_1x_2'-a_1x_1'x_2=0$\n",
    "\n",
    "$<=>x_1(x_2''+a_1x_2'+a_1x_2)=0$\n",
    "\n",
    "$<=>x_2''+a_1x_2'+a_1x_2=0(x_1\\not=0)$\n",
    "\n",
    "$即x_2为方程的解$\n",
    "\n",
    "$(2)\\because x_1,x_2为方程的解,则由刘维尔公式$\n",
    "\n",
    "$\\begin{vmatrix}\n",
    "x_1&x_2\\\\\n",
    "x_1'&x_2'\\\\\n",
    "\\end{vmatrix}=w(t_0)e^{-\\int_{t_0}^ta_1(s)ds},即$\n",
    "\n",
    "$x_1x_2'-x_1'x_2=w(t_0)e^{-\\int_{t_0}^ta_1(s)ds}$\n",
    "\n",
    "$都乘以\\frac{1}{x_1^2}有:\\frac{d(\\frac{x_2}{x_1})}{dt}=\\frac{w(t_0)}{x_1^2}e^{-\\int_{t_0}^ta_1(s)ds}是:$"
   ]
  },
  {
   "cell_type": "markdown",
   "metadata": {},
   "source": [
    "$\\frac{x_2}{x_1}=c_1\\int\\frac{1}{x_1^2}e^{-\\int_{t_0}^ta_1(s)ds}dt+c_2$\n",
    "\n",
    "$即:x_2=(c_1\\int\\frac{1}{x_1^2}e^{-\\int_{t_0}^ta_1(s)ds}dt+c_2)x_1$\n",
    "\n",
    "$取c_1=1,c_2=0,得:x_2=x_1\\int\\frac{1}{x_1^2}e^{-\\int_{t_0}^ta_1(s)ds}dt,$\n",
    "\n",
    "$又w(t)=\\begin{vmatrix}\n",
    "x_1&x_2\\\\\n",
    "x_1'&x_2'\\\\\n",
    "\\end{vmatrix}=e^{-\\int_{t_0}^ta_1(s)ds}\\not=0$"
   ]
  },
  {
   "cell_type": "markdown",
   "metadata": {},
   "source": [
    "$从而方程的通解可表示为:x=x_1[c_1\\int\\frac{1}{x_1^2}exp(-\\int_{t_0}^ta_1(s)ds)dt+c_2],$\n",
    "\n",
    "$其中c_1,c_2为常数,t_0,t\\in[a,b].$"
   ]
  },
  {
   "cell_type": "markdown",
   "metadata": {
    "collapsed": true
   },
   "source": [
    "# <font color='red'>A 26/10"
   ]
  },
  {
   "cell_type": "code",
   "execution_count": null,
   "metadata": {
    "collapsed": true
   },
   "outputs": [],
   "source": []
  }
 ],
 "metadata": {
  "kernelspec": {
   "display_name": "SageMath 7.3",
   "language": "",
   "name": "sagemath"
  },
  "language_info": {
   "codemirror_mode": {
    "name": "ipython",
    "version": 2
   },
   "file_extension": ".py",
   "mimetype": "text/x-python",
   "name": "python",
   "nbconvert_exporter": "python",
   "pygments_lexer": "ipython2",
   "version": "2.7.10"
  }
 },
 "nbformat": 4,
 "nbformat_minor": 0
}
