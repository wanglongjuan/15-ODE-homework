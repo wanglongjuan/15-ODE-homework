{
 "cells": [
  {
   "cell_type": "markdown",
   "metadata": {},
   "source": [
    "1.$x(t)和y(t)是区 a\\leq t\\leq b上的连续函数，证明：如果在区间a\\leq t\\leq b上有\\frac{x()t}{y(t)}\\neq常数或\\frac{y(t)}{x(t)}\\neq常数，则x(t)和y(t)在区间a\\leq t\\leq b上线性无关。（提示：用反证法）$"
   ]
  },
  {
   "cell_type": "markdown",
   "metadata": {},
   "source": [
    "证明：假设$x(t),y(t)$在区间$a\\leq t\\leq b$上线性相关，则存在不全为零的常数$\\alpha,\\beta$,使得$\\alpha x(t)+\\beta y(t)=0$,那么不妨设x(t)不为零，则有$\\frac{y(t)}{x(t)}=-\\frac{\\alpha}{\\beta}$,显然$-\\frac{\\alpha}{\\beta}$为常数，与题矛盾，即假设不成立x(t),y(t)在区间$a\\leq t\\leq b$上线性无关。"
   ]
  },
  {
   "cell_type": "markdown",
   "metadata": {},
   "source": [
    "2.证明非齐次线性微分方程的叠加原理：设$x_1(t),x_2(t)$分别是非齐次线性微分方程$$\\frac{d^nx}{dt^n}+a_1(t)\\frac{d^{n-1}x}{dt^{n-1}}+\\cdot \\cdot \\cdot +a_n(t)x=f_1(t)\\ \\ \\ \\ \\ (1)$$\n",
    "$$\\frac{d^nx}{dt^n}+a_1(t)\\frac{d^{n-1}x}{dt^{n-1}}+\\cdot \\cdot \\cdot +a_n(t)x=f_2(t)\\ \\ \\ \\ \\ (2)$$\n",
    "的解，则$x_1(t)+x_2(t)$是方程$$\\frac{d^nx}{dt^n}+a_1(t)\\frac{d^{n-1}x}{dt^{n-1}}+\\cdot \\cdot \\cdot +a_n(t)x=f_1(t)+f_2(t)$$的解。"
   ]
  },
  {
   "cell_type": "markdown",
   "metadata": {},
   "source": [
    "证明：由题知$x_1(t),x_2(t)$分别是方程（1），（2）的解，\n",
    "\n",
    "则$$\\frac{d^nx_1(t)}{dt^n}+a_1(t)\\frac{d^{n-1}x_1(t)}{dt^{n-1}}+\\cdot \\cdot \\cdot +a_n(t)x_1(t)=f_1(t)\\ \\ \\ \\ \\ (3)$$\n",
    "$$\\frac{d^nx_2(t)}{dt^n}+a_1(t)\\frac{d^{n-1}x_2(t)}{dt^{n-1}}+\\cdot \\cdot \\cdot +a_n(t)x_2(t)=f_2(t)\\ \\ \\ \\ \\ (4)$$\n",
    "（3）+（4）得：\n",
    "$$\\frac{d^n(x_1(t)+x_2(t))}{dt^n}+a_1(t)\\frac{d^{n-1}(x_1(t)+x_2(t))}{dt^{n-1}}+\\cdot \\cdot \\cdot +a_n(t)(x_1(t)+x_2(t))=f_1(t)+f_2(t)$$\n",
    "即$x_1(t)+x_2(t)$是方程的解。"
   ]
  },
  {
   "cell_type": "markdown",
   "metadata": {},
   "source": [
    "3.已知齐次线性微分方程的基本解组$x_1,x_2$,求下列方程对应的非线性微分方程的通解。\n",
    "\n",
    "(1)$x''-x=cost,x_1=e^t,x_2=e^{-t}$;\n",
    "\n",
    "(3)$x''+4x=tsin2t,x_1=cos2t,x_2=sin2t$;\n",
    "\n",
    "(5)$t^2x''-tx'+x=6t+34t^2,x_1=t,x_2=tlnt$"
   ]
  },
  {
   "cell_type": "markdown",
   "metadata": {},
   "source": [
    "解：(1)由常数变易法，令$x=C_1(t)e^t+C_2(t)e^{-t}$\n",
    "将其带入方程，得$$e^tC'_1(t)+e^{-t}C'_2(t)=0\\ \\ \\ \\ \\ \\ (1)$$\n",
    "$$e^tC'_1(t)-e^{-t}C'_2(t)=\\cos t\\ \\ \\ \\ \\ \\ (2)$$\n",
    "联立（1）（2）解得$$C'_1(t)=\\frac12 \\cos t \\cdot e^{-t}$$,\n",
    "$$C'_2(t)=\\frac{-1}{2}e^t\\cos t$$\n",
    "得$$C_1(t)=\\frac{\\sin t-\\cos t}{4}+\\gamma_1$$,\n",
    "$$C_2(t)=-\\frac14(\\sin t+\\cos t)e^t+\\gamma_2$$\n",
    "原方程通解为$x=\\gamma_1e^t+\\gamma_2e^{-t}-\\frac12\\cos t$\n",
    "\n",
    "(3)令$x=C_1(t)\\cos 2t+C_2(t)\\sin 2t$\n",
    "带入方程得$$\\cos 2t\\cdot C'_1(t)+\\sin 2t \\cdot C'_2(t)=0\\ \\ \\ \\ \\ （1）\\\\ -2\\sin 2t C'_1(t)+x\\cos 2t \\cdot C'_2(t)=t\\sin t\\ \\ \\ \\ \\ （2）$$\n",
    "解得$C'_1(t)=-\\frac12 t\\sin t \\sin 2t,\\\\ C'_2(t)=\\frac12t\\sin t\\cos 2t$\n",
    "得$$C_1(t)=\\frac14(\\frac13t\\sin 3t+\\frac19\\cos 3t-t\\sin t-\\cos t)+C_1$$,\n",
    "$$C_2(t)=\\frac14(-\\frac13t\\cos 3t+\\frac19\\sin 3t+t\\cos t-\\sin t)+C_2$$\n",
    "原方程通解为$x=C_1\\cos 2t+C_2\\sin 2t+\\frac t3\\sin t-\\frac29\\cos t$\n",
    "\n",
    "(5)方程变形为$x''-\\frac{1}{t}x'+\\frac{1}{t^2}x=\\frac{6}{t}+34$\n",
    "\n",
    "令方程的解为$x=t\\cdot C_1'(t)+tlnt\\cdot C_2(t)$,代入方程，可得\n",
    "\n",
    "$$t\\cdot C_1'(t)+tlnt\\cdot C_2(t=0$$,\n",
    "和$$C_1'(t)+(lnt+1)C_2'(t)=\\frac{6}{t}+34$$\n",
    "解得$$C_1'(t)=-lnt(\\frac{6}{t}+34),\\\\ C_2'(t)=\\frac{6}{t}+34$$\n",
    "所以，$C_1(t)=-34(tlnt-t)-3(lnt)^2+C_1,\\\\ C_2(t)=34t+6lnt+C_2$\n",
    "\n",
    "原方程的通解为$x=C_1\\cdot t+C_2tlnt+34t^2+3t(lnt)^2$"
   ]
  },
  {
   "cell_type": "markdown",
   "metadata": {},
   "source": [
    "6.假设$x_1(t)\\neq0$是二阶齐次线性微分方程$x''+a_1(t)x'+a_2(t)x=0$的解，这里$a_1(t)和a_2(t)$于区间[a,b]上连续，试证：\n",
    "\n",
    "(1)$x_2(t)$为方程的解的充要条件是$$W'[x_1,x_2]+a_1W[x_1,x_2]=0$$;\n",
    "(2)方程的通解可表为$x=x_1[c_1\\int \\frac{1}{{x_1}^2}exp(-\\int_{t_0}^t a_1(s)ds)dt+c_2]$,式中$c_1,c_2为任意常数，t_0,t\\in[a,b]$"
   ]
  },
  {
   "cell_type": "markdown",
   "metadata": {},
   "source": [
    "证明：(1)充分性\n",
    "因为$$W'[x_1,x_2]= \\begin{vmatrix} x_1' & x_2' \\\\ x_3' & x_4' \\\\ \\end{vmatrix} + \\begin{vmatrix} x_1 & x_2 \\\\ x_1'' & x_2'' \\\\ \\end{vmatrix} = \\begin{vmatrix} x_1 & x_2 \\\\ x_1'' & x_2'' \\\\ \\end{vmatrix} $$,\n",
    "$$W'[x_1,x_2]+a_1(t)W[x_1,x_2]= \\begin{vmatrix} x_1 & x_2 \\\\ x_1'' & x_2'' \\\\ \\end{vmatrix}+a_1(t) \\begin{vmatrix} x_1 & x_2 \\\\ x_1' & x_2' \\\\ \\end{vmatrix}= \\begin{vmatrix} x_1 & x_2 \\\\ x_1''+a_1(t)x_1' & x_2''+a_1(t)x_2' \\\\ \\end{vmatrix}=0$$\n",
    "而$x_1(t)\\neq0$是已知方程的解,\n",
    "所以$$ \\begin{vmatrix} x_1 & x_2 \\\\ -a_2(t)x_1 & x_2''+a_1(t)x_2' \\\\ \\end{vmatrix}=x_3 \\begin{vmatrix} 1 & x_2 \\\\ -a_2(t) & x_2''+a_1(t)x_2' \\\\ \\end{vmatrix}=0$$\n",
    "故有$\\ \\ \\ \\ \\ \\  x_2''+a_1(t)x_2'+a_2(t)x_2=0$,\n",
    "\n",
    "即$x_2(t)是已知方程的解$\n",
    "必要性 \n",
    "因为$W[x_1,x_2]$是方程的解$x_1(t),x_2(t)$的朗斯基行列式，所以\n",
    "$$W'[x_1,x_2]= \\begin{vmatrix} x_1 & x_2 \\\\ x_1'' & x_2'' \\\\ \\end{vmatrix}= \\begin{vmatrix} x_1 & x_2 \\\\ x_1''+a_2(t)x_1 & x_2''+a_2(t)x_2 \\\\ \\end{vmatrix}= \\begin{vmatrix} 1 & x_2 \\\\ -a_1(t)x_1' & a_1(t)x_2' \\\\ \\end{vmatrix}=-a_1(t) \\begin{vmatrix} x_1 & x_2 \\\\ x_1' & x_2' \\\\ \\end{vmatrix}=-a_1(t)W[x_1,x_2],$$\n",
    "即$W[x_1,x_2]满足W'[x_1,x_2]+a_1(t)W[x_1,x_2]=0$\n",
    "\n",
    "(2)因为$x_1,x_2$为方程的解，，则由刘维尔公式$$ \\begin{vmatrix} x_1 & x_2 \\\\ x_1' & x_2' \\\\ \\end{vmatrix}=W(t_0)e^{-\\int_{t_0}^t a_1(s)ds}$$,\n",
    "即$$\\ \\ \\ \\ \\ \\  x_1x_2'-x_1'x_2=W(t_0)e^{-\\int_{t_0}^t a_1(s)ds}$$,\n",
    "两边都乘$\\frac{1}{x^2}$,则有$$\\frac{d(\\frac{x_2}{x_2})}{dt}=\\frac{W(t_0)}{x_1^2}e^{-\\int_{t_0}^t a_1(s)ds}$$,于是\n",
    "$$\\frac{x_2}{x_1}=c_1\\int \\frac{1}{x_1^2}e^{-\\int_{t_0}^t a_1(s)ds}dt+c_2$$\n",
    "即$x_2=(c_1\\int \\frac{1}{x_1^2}e^{-\\int_{t_0}^t a_1(s)ds}dt+c_2)x_1.$\n",
    "取$c_1=1,c_2=0$,得$$x_2=x_1\\int \\frac{1}{x_1^2}e^{-\\int_{t_0}^t a_1(s)ds}dt,$$\n",
    "又$$\\ \\ \\ \\ \\  W(t)= \\begin{vmatrix} x_1 & x_2 \\\\ x_1' & x_2' \\\\ \\end{vmatrix}=e^{-\\int_{t_0}^t a_1(s)ds}\\neq0$$,\n",
    "从而原方程的通解可表示为\n",
    "$$x=x_1[c_1\\int] \\frac{1}{x_1^2}exp(-\\int_{t_0}^t a_1(s)ds)dt+c_2,$$\n",
    "其中$c_1,c_2为常数，t_0，t\\in[a,b].$"
   ]
  },
  {
   "cell_type": "markdown",
   "metadata": {
    "collapsed": true
   },
   "source": [
    "# <font color='red'>A 26/10"
   ]
  },
  {
   "cell_type": "markdown",
   "metadata": {},
   "source": []
  }
 ],
 "metadata": {
  "kernelspec": {
   "display_name": "SageMath 7.3",
   "language": "",
   "name": "sagemath"
  },
  "language_info": {
   "codemirror_mode": {
    "name": "ipython",
    "version": 2
   },
   "file_extension": ".py",
   "mimetype": "text/x-python",
   "name": "python",
   "nbconvert_exporter": "python",
   "pygments_lexer": "ipython2",
   "version": "2.7.10"
  }
 },
 "nbformat": 4,
 "nbformat_minor": 0
}
