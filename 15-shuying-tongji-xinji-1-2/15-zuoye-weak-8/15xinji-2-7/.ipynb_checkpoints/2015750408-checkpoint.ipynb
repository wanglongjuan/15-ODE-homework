{
 "cells": [
  {
   "cell_type": "markdown",
   "metadata": {},
   "source": [
    "第8周常微分作业-信计二班-丁飞勇"
   ]
  },
  {
   "cell_type": "markdown",
   "metadata": {},
   "source": [
    "题目1：\n",
    "设 $x(t)$ 和 $y(t)$ 是区间 $a \\leq t \\leq b$ 上的连续函数，证明：如果在区间 $a \\leq t \\leq b$ 上有 $\\frac{x(t)}{y(t)} \\neq$ 常数或 $\\frac{y(t)}{x(t)} \\neq$ 常数,则 $x(t)$ 和 $y(t)$ 在区间 $a \\leq t \\leq b$ 上线性无关。（提示：用反证法）"
   ]
  },
  {
   "cell_type": "markdown",
   "metadata": {},
   "source": [
    "解：\n",
    "\n",
    "假设 $x(t)$ 和 $y(t)$ 在区间 $a \\leq t \\leq b$ ,所以存在不全等于零的 $c_1,c_2$,满足\n",
    "\n",
    "$$c_1x(t)+c_2y(t)=0$$\n",
    "\n",
    "当 $c_1 \\neq 0$ 时  $$\\frac{x(t)}{y(t)}=-\\frac{c_2}{c_1}= 常数$$\n",
    "\n",
    "当 $c_2 \\neq 0$ 时  $$\\frac{y(t)}{x(t)}=-\\frac{c_1}{c_2}= 常数$$\n",
    "\n",
    "易知在区间 $a \\leq t \\leq b$ 上，与已知 $\\frac{x(t)}{y(t)} \\neq$ 常数或 $\\frac{y(t)}{x(t)} \\neq$ 常数矛盾\n",
    "\n",
    "假设不成立，则$x(t)$ 和 $y(t)$ 在区间 $a \\leq t \\leq b$ 上线性无关。"
   ]
  },
  {
   "cell_type": "markdown",
   "metadata": {},
   "source": [
    "题目2：证明非齐次线性微分方程的叠加原理：设 $x_1(t),x_2(t)$ 分别是非齐次线性微分方程\n",
    "\n",
    "$$\\frac{\\mathrm d^n x}{\\mathrm d t^n}+a_1(t)\\frac{\\mathrm d^{n-1} x}{\\mathrm d t^{n-1}}+ \\cdots +a_n(t)x=f_1(t)$$\n",
    "\n",
    "$$\\frac{\\mathrm d^n x}{\\mathrm d t^n}+a_1(t)\\frac{\\mathrm d^{n-1} x}{\\mathrm d t^{n-1}}+ \\cdots +a_n(t)x=f_2(t)$$\n",
    "\n",
    "$$的解，则 $x_1(t)+x_2(t)$ 是方程$$\n",
    "\n",
    "$$\\frac{\\mathrm d^n x}{\\mathrm d t^n}+a_1(t)\\frac{\\mathrm d^{n-1} x}{\\mathrm d t^{n-1}}+ \\cdots +a_n(t)x=f_1(t)+f_2(t)$$\n",
    "\n",
    "$$的解$$"
   ]
  },
  {
   "cell_type": "markdown",
   "metadata": {},
   "source": [
    "解：已知，$x_1(t),x_2(t)$ 分别是非齐次线性微分方程\n",
    "\n",
    "$$\\frac{\\mathrm d^n x}{\\mathrm d t^n}+a_1(t)\\frac{\\mathrm d^{n-1} x}{\\mathrm d t^{n-1}}+ \\cdots +a_n(t)x=f_1(t)$$\n",
    "\n",
    "$$\\frac{\\mathrm d^n x}{\\mathrm d t^n}+a_1(t)\\frac{\\mathrm d^{n-1} x}{\\mathrm d t^{n-1}}+ \\cdots +a_n(t)x=f_2(t)$$\n",
    "\n",
    "的解\n",
    "\n",
    "则有$$\\frac{\\mathrm d^n x_1(t)）}{\\mathrm d t^n}+a_1(t)\\frac{\\mathrm d^{n-1} x_1(t)}{\\mathrm d t^{n-1}}+ \\cdots +a_n(t)x_1(t)=f_1(t)$$\n",
    "\n",
    "$$\\frac{\\mathrm d^n x_2(t)}{\\mathrm d t^n}+a_1(t)\\frac{\\mathrm d^{n-1} x_2(t)}{\\mathrm d t^{n-1}}+ \\cdots +a_n(t)x_2(t)=f_2(t)$$\n",
    "\n",
    "两式相加后易知$x_1(t)+x_2(t)$ 是方程\n",
    "\n",
    "$$\\frac{\\mathrm d^n x}{\\mathrm d t^n}+a_1(t)\\frac{\\mathrm d^{n-1} x}{\\mathrm d t^{n-1}}+ \\cdots +a_n(t)x=f_1(t)+x_2(t)$$\n",
    "\n",
    "的解。"
   ]
  },
  {
   "cell_type": "markdown",
   "metadata": {},
   "source": [
    "题目3：已知齐次线性微分方程的基本解组 $x_1,x_2$ ,求下列方程对应的非齐次线性微分方程的通解：\n",
    "\n",
    "（1）$x''-x=\\cos t,x_1=e^t,x_2=e^{-t}$\n",
    "\n",
    "（3）$x''+4x=t \\sin t,x_1=\\cos 2t,x_2=\\sin 2t$\n",
    "\n",
    "（5）$t^2x''-tx'+x=6t+34t^2,x_1=t,x_2=t ln t$"
   ]
  },
  {
   "cell_type": "markdown",
   "metadata": {},
   "source": [
    "（1）解：应用常数变易法。令$x=c_1(t)e^t+c_2(t)e^{-t}$，对上式求导得\n",
    "\n",
    "$$x'=c_1'(t)e^t+c_1(t)e^t+c_2'(t)e^{-t}-c_2(t)e^{-t}$$\n",
    "\n",
    "令 $c_1'(t)e^t+c_2'(t)e^{-t}=0$，则 $x'=c_1(t)e^t-c_2(t)e^{-t}\\cdots①$，对①式求导得 \n",
    "\n",
    "$$x'=c_1'(t)e^t+c_1(t)e^t-c_2'(t)e^{-t}+c_2(t)e^{-t}$$\n",
    "\n",
    "所以$x''ux=c_1'(t)-c_2'(t)e^{-t}=\\cos t$ ，则 $$c_1'(t)=\\frac{\\cos t}{2e^t}$$\n",
    "\n",
    "$$c_2'(t)=-\\frac{\\cos t}{2e^{-t}}$$\n",
    "\n",
    "积分得$$c_1(t)=\\frac{\\sin t -\\cos t}{4e^t}+\\gamma_1$$\n",
    "\n",
    "$$c_2(t)=-\\frac{e^t(\\sin t +\\cos t)}{4}+\\gamma_2$$\n",
    "\n",
    "得到原方程的通解为：$$x=\\frac{\\sin t -\\cos t}{4}-\\frac{\\sin t +\\cos t}{4}+e^t\\gamma_1+e^{-t}\\gamma_2$$\n",
    "\n",
    "所以 $$x=e^t\\gamma_1+e^{-t}\\gamma_2+\\frac{1}{2}\\cos t$$"
   ]
  },
  {
   "cell_type": "markdown",
   "metadata": {},
   "source": [
    "（3）解：令x=c_1(t) \\cos 2t+c_2(t) \\sin 2t,代入方程，可得：\n",
    "\n",
    "$$\n",
    "\\begin{cases}\n",
    "c_1'(t) \\cos 2t+c_2'(t) \\sin 2t=0\\\\\n",
    "-2c_1'(t) \\sin 2t+2c_2'(t) \\cos 2t=t \\sin 2t\\\\\n",
    "\\end{cases}\n",
    "$$\n",
    "\n",
    "$$\n",
    "解得\n",
    "\\begin{cases}\n",
    "c_1'(t)=\\frac{1}{4}t(\\cos 4t-1)\\\\\n",
    "c_2'(t)=\\frac{1}{4}t \\sin 4t\\\\\n",
    "\\end{cases}\n",
    "$$\n",
    "\n",
    "$$\n",
    "积分得\n",
    "\\begin{cases}\n",
    "c_1(t)=\\frac{1}{64} \\cos 4t+\\frac{1}{16}t \\sin 4t-\\frac{1}{8}t^2+ \\lambda_1\\\\\n",
    "c_2(t)=\\frac{1}{64} \\sin 4t-\\frac{1}{16}t \\cos 4t+ \\lambda_2\\\\\n",
    "\\end{cases}\n",
    "$$\n",
    "\n",
    "$\\therefore方程的通解为x=c_1 \\cos 2t+c_2 \\sin 2t-\\frac{1}{8}t^2 \\cos 2t+\\frac{1}{16}t \\sin 2t（其中c_1,c_2为任意常数）$"
   ]
  },
  {
   "cell_type": "markdown",
   "metadata": {},
   "source": [
    "(5)解：$原方程可化为x\"-\\frac{1}{t}x'+\\frac{1}{t^2}x=\\frac{6}{t}+34$\n",
    "\n",
    "$设方程的解为x=tc_1(t)+t \\ln t c_2(t),将它代入方程，所以可得关于c_1'(t)和c_2'(t)的方程组$\n",
    "\n",
    "$$\n",
    "\\begin{cases}\n",
    "tc_1'(t)+t \\ln t c_2'(t)=0\\\\\n",
    "c_1'(t)+(\\ln t+1)c_2'(t)=\\frac{6}{t}+34\\\\\n",
    "\\end{cases}\n",
    "$$\n",
    "\n",
    "$$\n",
    "解得\n",
    "\\begin{cases}\n",
    "c_1'(t)=-\\ln t(\\frac{6}{t}+34)\\\\\n",
    "c_2'(t)=\\frac{6}{t}+34\\\\\n",
    "\\end{cases}\n",
    "$$\n",
    "\n",
    "$$\n",
    "积分\n",
    "\\begin{cases}\n",
    "c_1(t)=-34(t \\ln t -t)-3(\\ln t)^2+c_1\\\\\n",
    "c_2(t)=34t+6 \\ln t +c_2\\\\\n",
    "\\end{cases}\n",
    "$$\n",
    "\n",
    "$\\therefore方程的通解为x=c_1t+c_2t \\ln t +34t^2+3t(\\ln t)^2（其中c_1,c_2为任意常数）$"
   ]
  },
  {
   "cell_type": "markdown",
   "metadata": {},
   "source": [
    "题目6：假设 $x_1(t)\\neq 0$ 是二阶齐次线性微分方程 \n",
    "\n",
    "$$x''+a_1(t)x'+a_2(t)x=0$$ \n",
    "\n",
    "的解，这里 $a_1(t)$ 和 $a_2(t)$ 于区间 $[a,b]$ 上连续，试证：\n",
    "\n",
    "（1）$x_2(t)$ 为方程的解的冲要条件是 $$W'[x_1,x_2]+a_1W[x_1,x_2]=0$$\n",
    "\n",
    "（2）方程的通解可表为 $$x=x_1[c_1 \\int \\frac{1}{x^2}exp(-\\int_{t_0}^t a_1(s) \\mathrm d s)\\mathrm d t+c_2]（其中 c_1,c_2 为任意常数，t_0,t \\in [a,b]）$$"
   ]
  },
  {
   "cell_type": "markdown",
   "metadata": {},
   "source": [
    "(1)证明:$$w'[x_1,x_2]+a_1w[x_1,x_2]=0$$\n",
    "\n",
    "$$\\Leftarrow\\Rightarrow x_1x_2\"-x_1\"x_2'-a_1x_1'x_2=0$$\n",
    "\n",
    "$$\\Leftarrow\\Rightarrow x_1x_2\"+a_1x_1'x_2+z_1x_1x_2+a_1x_1x_2'-a_1x_1'x_2=0$$\n",
    "\n",
    "$$\\Leftarrow\\Rightarrow x_1(x_2\"+a_1x_2'+a_1x_2)=0$$\n",
    "\n",
    "$$\\Leftarrow\\Rightarrow x_1(x_2\"+a_1x_2'+a_1x_2)=0,(x_1 \\not= 0)$$\n",
    "\n",
    "$$则x_2为方程的解$$"
   ]
  },
  {
   "cell_type": "markdown",
   "metadata": {},
   "source": [
    "(2)证明：$\\because x_1,x_2为方程的解，则有$\n",
    "\n",
    "$$ \n",
    "\\begin{vmatrix} \n",
    "x_1 & x_2 \\\\ \n",
    "x_1' & x_2'\\\\ \n",
    "\\end{vmatrix} \n",
    "=w(t_0)e^{-\\int\\limits_{t_0}^t a_1(s) d s}\n",
    "$$ \n",
    "\n",
    "$即x_1x_2'-x_1'x_2=w(t_0)e^{-\\int\\limits_{t_0}^t a_1(s) d s}$\n",
    "\n",
    "$两边同乘以\\frac{1}{x_1^2}，所以frac{d\\frac{x_2}{x_1}}{dt}=\\frac{w(t_0)}{x-1^2}e^{-\\int\\limits_{t_0}^t a_1(s) d s}$\n",
    "\n",
    "$\\therefore \\frac{x_2}{x_1}=c_1\\int \\frac{1}{x_1^2}e^{-\\int\\limits_{t_0}^t a_1(s) d s} d t +c_2$\n",
    "\n",
    "$则x_2=(c_1\\int \\frac{1}{x_1^2}e^{-\\int\\limits_{t_0}^t a_1(s) d s} d t +c_2)x_1$\n",
    "\n",
    "$令c_1=1,c_2=0。得x_2=x_1\\int \\frac{1}{x_1^2}e^{-\\int\\limits_{t_0}^t a_1(s) d s} d t $\n",
    "\n",
    "$$\n",
    "又\\because \n",
    "w(t)=\n",
    "\\begin{vmatrix} \n",
    "x_1 & x_2 \\\\ \n",
    "x_1' & x_2'\\\\ \n",
    "\\end{vmatrix} \n",
    "=w(t_0)e^{-\\int\\limits_{t_0}^t a_1(s) d s} \\not= 0\n",
    "$$\n",
    "\n",
    "$\\therefore方程的通解为：x=x_1[c_1\\int \\frac{1}{x_1^2}exp(-\\int\\limits_{t_0}^t a_1(s) d s) d t =c_2]（其中c_1,c_2为常数，t,t_0 \\in [a,b]）$"
   ]
  },
  {
   "cell_type": "markdown",
   "metadata": {
    "collapsed": true
   },
   "source": [
    "# <font color='red'>A 26/10"
   ]
  },
  {
   "cell_type": "code",
   "execution_count": null,
   "metadata": {
    "collapsed": true
   },
   "outputs": [],
   "source": []
  }
 ],
 "metadata": {
  "kernelspec": {
   "display_name": "SageMath 7.3",
   "language": "",
   "name": "sagemath"
  },
  "language_info": {
   "codemirror_mode": {
    "name": "ipython",
    "version": 2
   },
   "file_extension": ".py",
   "mimetype": "text/x-python",
   "name": "python",
   "nbconvert_exporter": "python",
   "pygments_lexer": "ipython2",
   "version": "2.7.10"
  }
 },
 "nbformat": 4,
 "nbformat_minor": 0
}
