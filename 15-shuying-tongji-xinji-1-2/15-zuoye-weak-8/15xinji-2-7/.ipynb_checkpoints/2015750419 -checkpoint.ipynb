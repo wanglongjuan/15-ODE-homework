{
 "cells": [
  {
   "cell_type": "markdown",
   "metadata": {},
   "source": [
    "$$1.设x(t),y(t)在区间a\\leq t \\leq b上线性相关，则存在不全为零的常数m，n使得mx(t)+ny(t)=0，所以\\frac{x(t)}{(t)}=-\\frac{n}{m},\\frac{y(t)}{x(t)}=-\\frac{m}{n},因为m，n至少有一个不为零，所以-\\frac{n}{m},-\\frac{m}{n}中至少有一个是常数，因为题设条件为其中至少有一个常数，所以x(t)，y(t)线性无关。$$"
   ]
  },
  {
   "cell_type": "markdown",
   "metadata": {},
   "source": [
    "$$2.因为x_1(t),x_2(t)分别为\\frac{d^nx}{dt^n}+a_1(t)\\frac{d^{n-1}x}{dt^{n-1}}+……+a_n(t)x=f_1(t),\\frac{d^nx}{dt^n}+a_1(t)\\frac{d^{n-1}x}{dt^{n-1}}+……+a_n(t)x=f_2(t)的解$$\n",
    "$$将x_1(t),x_2(t)分别代入上面两个方程中得\\frac{d^nx_1}{dt^n}+a_1(t)\\frac{d^{n-1}x_1}{dt^{n-1}}+……+a_n(t)x_1=f_1(t),\\frac{d^nx_2}{dt^n}+a_1(t)\\frac{d^{n-1}x_2}{dt^{n-1}}+……+a_n(t)x_2=f_2(t）$$\n",
    "$$将上面两个所得方程相加得\\frac{d^n(x_1+x_2)}{dt^n}+a_1(t)\\frac{d^{n-1}(x_1+x_2)}{dt^{n-1}}+……+a_n(t)(x_1+x_2)=f_1(t)+f_2(t),所以解x=x_1(t)+x_2(t)是方程\\frac{d^nx}{dt^n}+a_1(t)\\frac{d^{n-1}x}{dt^{n-1}}+……+a_n(t)x=f_1(t)+f_2(t)的解$$|"
   ]
  },
  {
   "cell_type": "markdown",
   "metadata": {},
   "source": [
    "$$3(1).应用常数变易法得x=c_1(t)e^t+c_2(t)e^{-t},将它代入方程x＇＇－x＇ =\\cos t可得c＇_1(t)e^t+c＇_2(t)e^{-t}=0,c＇_1(t)e^t-c＇_2(t)e^{-t}=\\cos t解得c_1(t)=-\\frac{1}{4}e^{-t}(\\cos t-\\sin t)+\\lambda_1  c_2(t)=-\\frac{1}{4}e^{-t}(\\cos t +\\sin t)+\\lambda_2,通解x=\\lambda_1e^t+\\lambda_2e^{-t}-\\frac{\\cos t}{2}$$\n",
    "$$(3)应用常数变易法x=c_1(t)\\cos 2t+c_2(t)\\sin 2t代入方程x＇＇+4x=t\\sin 2t得c＇_1(t)\\cos 2t+c＇_2(t)\\sin 2t=0,-2c＇_1(t)\\sin 2t+2c＇_2(t)\\cos 2t=t\\sin 2t$$\n",
    "$$解得c_2(t)=\\frac{1}{64}\\sin 4t-\\frac{1}{16}t\\cos 4t+\\lambda_2  c_1=\\frac{1}{64}\\cos 4t+\\frac{1}{16}t\\sin 4t-\\frac{t^2}{8}+\\lambda_1$$\n",
    "$$通解为x=\\lambda_1\\cos 2t+\\lambda_2\\sin 2t-\\frac{t^2}{8}\\cos 2t+\\frac{t}{16}\\sin 2t$$\n",
    "$$(5)应用常数变易法x=c_1(t)t+c_2(t)t\\ln t,将它代入方程t^2x＇＇－tx＇+x =6t+34t^2可得c＇_1(t)t+c＇_2(t)t\\ln t=0,c＇_1(t)+c＇_2(t)(\\ln t+1)=6t+34t^2$$\n",
    "$$解得c_1(t)=34t-34tlnt-3ln^2t+\\lambda_1    c_2(t)=34t+6\\ln t+\\lambda_2  所以通解为x=\\lambda_1t+\\lambda_2t\\ln t+34t^2+3t\\ln^2t$$"
   ]
  },
  {
   "cell_type": "markdown",
   "metadata": {},
   "source": [
    "$$6.(1)W'[x_1,x_2]+a_1)W[x_1,x_2]=0等价于x_1x''_2-x''_1x_2+a_1(x_1x'_2-x'_1x_2)=0，将x''_1=-a_1(t)x'-a_2(t)x代入得x_1(t)[x''_2+a_1(t)x'+a_2(t)x]=0,所以x_2是方程的解，证毕。$$\n",
    "$$(2)利用常数变易法设x=c(t)x_1是方程的解，代入方程得c''x_1+c'(2x'_1+a_1x_1)=0,令y=c' 可得y'x_1+y(2x'_1+a_1x_1)=0,y'=-(\\frac{2x'_1}{x_1}+a1)y.$$\n",
    "$$有解c'=\\frac{c1}{x^2_1}exp{-\\int_{t0}^{t}{a_1(s)}ds}再积分得c=c_1\\int{\\frac{1}{x^2_1}exp[-\\int_{t0}^{t}{a_1(s)}ds]}dt+c_2$$\n",
    "$$方程的解为x=x_1[c_1\\int{\\frac{1}{x^2_1}exp[-\\int_{t0}^{t}{a_1(s)}ds]dt}+c_2]$$"
   ]
  },
  {
   "cell_type": "markdown",
   "metadata": {
    "collapsed": true
   },
   "source": [
    "# <font color='red'>A－ 26/10"
   ]
  },
  {
   "cell_type": "code",
   "execution_count": null,
   "metadata": {
    "collapsed": true
   },
   "outputs": [],
   "source": []
  }
 ],
 "metadata": {
  "kernelspec": {
   "display_name": "SageMath 7.3",
   "language": "",
   "name": "sagemath"
  },
  "language_info": {
   "codemirror_mode": {
    "name": "ipython",
    "version": 2
   },
   "file_extension": ".py",
   "mimetype": "text/x-python",
   "name": "python",
   "nbconvert_exporter": "python",
   "pygments_lexer": "ipython2",
   "version": "2.7.10"
  }
 },
 "nbformat": 4,
 "nbformat_minor": 0
}
