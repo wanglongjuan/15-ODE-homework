{
 "cells": [
  {
   "cell_type": "markdown",
   "metadata": {},
   "source": [
    "## $1、设x(t)和y(t)是区间a≤t≤b上的连续函数，证明：如果在区间a≤t≤b上有\\frac{x(t)}{y(t)}≠常数，或者\\frac{y(t)}{x(t)}≠常数，则x(t)和y(t)在区间a≤t≤b上线性无关。$"
   ]
  },
  {
   "cell_type": "markdown",
   "metadata": {},
   "source": [
    "### $证明：$\n",
    "### $假设x(t),y(t)在区间a≤t≤b上线性相关，那么：$\n",
    "### $存在不全为0的常数：\\alpha,\\beta，使得\\alpha x(t)+\\beta y(t)=0，t\\in [a,b].$\n",
    "### $那么不妨设：x(t)不为0，故有：\\frac{y(t)}{x(t)}=-\\frac{\\alpha}{\\beta},$\n",
    "### $显然-\\frac{\\alpha}{\\beta}为常数，与题设矛盾，所以假设不成立。$\n",
    "### $所以证明了x(t),y(t)在区间a≤t≤b上线性无关。$"
   ]
  },
  {
   "cell_type": "markdown",
   "metadata": {},
   "source": [
    "## $2、证明非齐次方程线性微分方程的叠加原理：设x_1(t),x_2(t)分别是非齐次线性微分方程$\n",
    "## $$\\frac {d^nx}{dt^n}+a_1(t) \\frac{d^{n-1}x} {dt^{n-1}}+...+a_n(t)x=f_1(t)$$\n",
    "## $$\\frac {d^nx}{dt^n}+a_1(t)\\frac{d^{n-1}x}{dt^{n-1}}+...+a_n(t)x=f_2(t)$$\n",
    "## $的解，则x_1(t)+x_2(t)是方程$$\\frac {d^nx}{dt^n}+a_1(t) \\frac{d^{n-1}x} {dt^{n-1}}+...+a_n(t)x=f_1(t)+f_2(t)$$的解。$"
   ]
  },
  {
   "cell_type": "markdown",
   "metadata": {},
   "source": [
    "### $证明：$\n",
    "### $由题设条件可知x_1(t),x_2(t)分别是方程（1），（2）的解，则:$\n",
    "### $\\frac {d^nx_1(t)}{dt^n}+a_1(t) \\frac{d^{n-1}x_1(t)} {dt^{n-1}}+...+a_n(t)x_1(t)=f_1(t)   .......            (3)$\n",
    "### $\\frac {d^nx_2(t)}{dt^n}+a_1(t)\\frac{d^{n-1}x_2(t)}{dt^{n-1}}+...+a_n(t)x_2(t)=f_2(t)   ......    (4)$\n",
    "### $那么由（3）和（4）相加，并利用导数的运算法则可得：$\n",
    "### $\\frac {d^n(x_1(t)+x_2(t))}{dt^n}+a_1(t) \\frac{d^{n-1}(x_1(t)+x_2(t))} {dt^{n-1}}+...+a_n(t)(x_1(t)+x_2(t))=f_1(t)+f_2(t)$\n",
    "### $此即说明x_1(t)+x_2(t)是方程\\frac {d^nx}{dt^n}+a_1(t) \\frac{d^{n-1}x} {dt^{n-1}}+...+a_n(t)x=f_1(t)+f_2(t)的解。$"
   ]
  },
  {
   "cell_type": "markdown",
   "metadata": {},
   "source": [
    "## $3、已知齐次线性微分方程的基本解组x_1,x_2,求下列方程对应的非齐次线性方程的通解.$"
   ]
  },
  {
   "cell_type": "markdown",
   "metadata": {},
   "source": [
    "### $(1)x''-x=\\cos t,x_1=e^t,x_2=e^{-t};$"
   ]
  },
  {
   "cell_type": "markdown",
   "metadata": {},
   "source": [
    "### $解：$\n",
    "### $应用常数变易法，令x(t)=c_1(t)e^t+c_2(t)e^{-t},将它代入方程，则有：$\n",
    "### $\\begin{cases}\n",
    "            c_1'(t)e^t+c_2'(t)e^{-t}=0,\\\\\n",
    "             c_1'(t)e^t+c_2'(t)e^{-t}=\\cos t,\n",
    "            \\end{cases} $\n",
    "### $解得： \\begin{cases}\n",
    "            c_1'(t)=\\frac{1}{2}e^{-t}\\cos t,\\\\\n",
    "             c_2'(t)=-\\frac{1}{2}e^{-t}\\cos t,\n",
    "            \\end{cases} $\n",
    "### $积分可得：c_1(t)=-\\frac{1}{4}e^{-t}(\\cos t-\\sin t)+c_1;c_2(t)=-\\frac{1}{4}e^t(\\cos t+\\sin t)+c_2,$\n",
    "### $所以所求通解为：x(t)=c_1e^t+c_2e^{-t}-\\frac {1}{2}\\cos t.$"
   ]
  },
  {
   "cell_type": "markdown",
   "metadata": {},
   "source": [
    "### $(3)x''+4x=t\\sin 2t,x_1=\\cos 2t,x_2=\\sin 2t;$"
   ]
  },
  {
   "cell_type": "markdown",
   "metadata": {},
   "source": [
    "### $解：$\n",
    "### $令x=c_1(t)\\cos {2t}+c_2(t)\\sin {2t},代入方程，可得：关于c_1'(t)和c_2'(t)的方程组$\n",
    "### $\\begin{cases}\n",
    "            c_1'(t)\\cos {2t}+c_2'(t)\\sin {2t}=0,\\\\\n",
    "            -2 c_1'(t)\\sin {2t}+2c_2'(t)\\cos {2t}=t\\sin{2t},\n",
    "            \\end{cases} $\n",
    "### $解得：$\n",
    "### $ \\begin{cases}\n",
    "            c_1'(t)=\\frac{1}{4}t(\\cos {4t}-1),\\\\\n",
    "             c_2'(t)=\\frac{1}{4}t\\sin {4t},\n",
    "            \\end{cases} $\n",
    "### $积分可得：c_1(t)=-\\frac{1}{64}\\cos {4t}+\\frac {1}{16}t\\sin {4t}-\\frac {1}{8}t^2+\\gamma_1;c_2(t)=-\\frac{1}{64}\\sin {4t}-\\frac{1}{16}t\\cos {4t}+\\gamma_2$  \n",
    "### $故方程的通解为：x=c_1\\cos {2t}+c_2\\sin {2t}-\\frac{1}{8}t^2\\cos {2t}+\\frac{1}{16}t\\sin {2t},其中c_1、c_2为任意常数。$"
   ]
  },
  {
   "cell_type": "markdown",
   "metadata": {},
   "source": [
    "### $(5)t^2x''-tx'+x=6t+34t^2,x_1=t,x_2=t\\ln t;$"
   ]
  },
  {
   "cell_type": "markdown",
   "metadata": {},
   "source": [
    "### $解：$\n",
    "### $原方程可化为 :x''-\\frac{1}{t}x'+\\frac{1}{t^2}x=\\frac{6}{t}+34.$\n",
    "### $令方程的解为:x=tc_1(t)+t\\ln tc_2(t),代入方程，则:关于c'_1(t)和c'_2(t)的方程组$\n",
    "### $\\begin{cases}\n",
    "           t c_1'(t)+t\\ln tc'_2(t)=0,\\\\\n",
    "             c_1'(t)+(\\ln t+1)c'_2(t)=\\frac {6}{t}+34,\n",
    "            \\end{cases}$\n",
    "### $解得：\\begin{cases}\n",
    "            c_1'(t)= -34(t\\ln t-t)-3(\\ln t)^2+c_1\\\\\n",
    "             c_2'(t)= 34t+6\\ln t+c_2,\n",
    "            \\end{cases}$\n",
    "### $所以方程的通解为：x=c_1t+c_2t\\ln t+34t^2+3t(\\ln t)^2,其中c_1,c_2为任意常数。$"
   ]
  },
  {
   "cell_type": "markdown",
   "metadata": {},
   "source": [
    "## $6、假设x_1(t)≠0是二阶齐次线性微分方程x''+a_1(t)x'+a_2(t)x=0的解，这里a_1(t)和a_2(t)于区间[a,b]上连续，试证：$\n",
    "## $(1)x_2(t)为方程的解的充要条件是W'[x_1,x_2]+a_1W[x_1,x_2]=0;$\n",
    "## $(2)方程的通解可表为x=x_1[c_1\\int \\frac {1}{x^2}exp(\\int_{t_0} ^ta_1(s)\\,\\mathrm{d}s)\\,\\mathrm{d}t+c_2]\n",
    "其中，c_1,c_2为任意常数，t_0,t\\in [a,b].$"
   ]
  },
  {
   "cell_type": "markdown",
   "metadata": {},
   "source": [
    "### $证明：$\n",
    "### $(1)W'[x_1,x_2]+a_1W[x_1,x_2]=0。$\n",
    "###  $→x_1x_2''-x_1''x_2+a_1x_1x_2'-a_1x_1'x_2=0。$\n",
    "### $→x_1x_2''-x_1''x_2+a_1x_1x_2'-a_1x_1'x_2+a_2x_1x_2-a_2x_1x_2=0。$\n",
    "### $→x_1(x_2''+a_1x_2'+a_2x_2)=0。$\n",
    "###  $→x_2''+a_1x_2'+a_2x_2=0,(x_1≠0)。$\n",
    "### $即：x_2为(*)的解。$"
   ]
  },
  {
   "cell_type": "markdown",
   "metadata": {},
   "source": [
    "### $因为：x_1,x_2为方程的解，则由刘伟尔公式，可知：$\n",
    "### $\n",
    "      \\begin{vmatrix}\n",
    "      x_1&x_2\\\\\n",
    "      x_1'&x_2'\\\\\n",
    "      \\end{vmatrix}\n",
    "      =w(t_0)e^{-\\int\\limits_{t_0}^ta_1(s)ds}\n",
    "      $\n",
    "### $即：x_1x_2'-x_1'x_2=W(t_0)e^{-\\int\\limits_{t_0}^ta_1(s)ds}.$\n",
    "### $两边都乘以\\frac{1}{{x_1}^2}则有：\\frac {d(\\frac{x_2}{x_1})}{dt}=\\frac {w(t_0)e^{-\\int\\limits_{t_0}^ta_1(s)ds}}{{x_1}^2},$\n",
    "### $所以：\\frac{x_2}{x_1}=c_1\\int\\limits \\frac{1}{{x_1}^2}e^{-\\int\\limits_{t_0}^ta_1(s)ds}dt+c_2$\n",
    "### $即：x_2=(c_1\\int\\limits \\frac{1}{{x_1}^2}e^{-\\int\\limits_{t_0}^ta_1(s)ds}dt+c_2)x_1$\n",
    "### $ 取c_1=1,c_2=0,得：$\n",
    "### $x_2=x_1\\int\\limits \\frac{1}{{x_1}^2}e^{-\\int\\limits_{t_0}^ta_1(s)ds}dt,$\n",
    "### $又W(t)=$\n",
    "### $      \n",
    "     \\begin{vmatrix}\n",
    "      x_1&x_2\\\\\n",
    "      x_1'&x_2'\\\\\n",
    "      \\end{vmatrix}\n",
    "      =w(t_0)e^{-\\int\\limits_{t_0}^ta_1(s)ds}\n",
    "      $\n",
    "### $=e^{-\\int\\limits_{t_0}^ta_1(s)ds}≠0，$\n",
    "      \n",
    "### $从而方程的通解可表示为：$\n",
    "### $x=x_1[c_1 \\int\\limits\\frac{1}{{x_1}^2}exp(-\\int\\limits_{t_0}^ta_1(s)ds)dt+c_2],其中c_1,c_2为常数，t_0,t \\in[a,b].$"
   ]
  },
  {
   "cell_type": "markdown",
   "metadata": {
    "collapsed": true
   },
   "source": [
    "# <font color='red'>A  24/10\n"
   ]
  },
  {
   "cell_type": "code",
   "execution_count": null,
   "metadata": {
    "collapsed": true
   },
   "outputs": [],
   "source": []
  }
 ],
 "metadata": {
  "kernelspec": {
   "display_name": "Python 2",
   "language": "python",
   "name": "python2"
  },
  "language_info": {
   "codemirror_mode": {
    "name": "ipython",
    "version": 2
   },
   "file_extension": ".py",
   "mimetype": "text/x-python",
   "name": "python",
   "nbconvert_exporter": "python",
   "pygments_lexer": "ipython2",
   "version": "2.7.10"
  }
 },
 "nbformat": 4,
 "nbformat_minor": 0
}
