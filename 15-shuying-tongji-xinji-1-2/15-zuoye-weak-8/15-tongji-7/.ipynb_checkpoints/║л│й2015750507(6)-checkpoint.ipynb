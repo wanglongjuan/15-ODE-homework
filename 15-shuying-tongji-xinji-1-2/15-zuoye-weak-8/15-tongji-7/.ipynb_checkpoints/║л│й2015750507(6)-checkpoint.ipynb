{
 "cells": [
  {
   "cell_type": "markdown",
   "metadata": {},
   "source": [
    "$P131.习题4.1$  \n",
    "$1.设x(t)和y(t)是区间a \\leq t \\leq b上的连续函数，证明：如果在区间a \\leq t \\leq b上有\\frac{x(t)}{y(t)} \\neq 常数或\\frac{y(t)}{x(t)} \\neq 常数，则x(t)和y(t)在区间a \\leq t \\leq b上线性无关.(提示：用反证法）$  \n",
    "$证明：用反证法$  \n",
    "$  \\quad 假设x(t)和y(t)在区间[a,b]上线性无关，则存在不全为零的常数C_1和C_2使得C_1x(t)+C_2x(t) \\equiv 0,t \\in [a,b]$  \n",
    "$  \\quad 若C_1 \\neq 0,则\\frac{y(t)}{x(t)}=-\\frac{C_1}{C_2}=常数；$  \n",
    "$  \\quad 若C_1 \\neq 0,则\\frac{x(t)}{y(t)}=-\\frac{C_2}{C_1}=常数；$  \n",
    "$  \\quad可见在两种情况下，都与已知条件\\frac{x(t)}{y(t)} \\neq 常数或\\frac{y(t)}{x(t)} \\neq 常数矛盾，所以假设不成立，即证明了x(t)和y(t)在区间[a,b]上是线性无关的$  "
   ]
  },
  {
   "cell_type": "markdown",
   "metadata": {},
   "source": [
    "$2.证明非齐次线性微分方程的叠加原理：设x_1(t),x_2(t)分别是非齐次线性微分方程$  \n",
    "$                    \\quad \\frac{(dx)^n}{dt^n}+a_1(t)\\frac{(dx)^{n-1}}{dt^{n-1}}+\\cdots+a_n(t)x=f_1(t)$  \n",
    "$                    \\quad \\frac{(dx)^n}{dt^n}+a_1(t)\\frac{(dx)^{n-1}}{dt^{n-1}}+\\cdots+a_n(t)x=f_2(t)$  \n",
    "$的解，则x_1(t)+x_2(t)是方程\\frac{(dx)^n}{dt^n}+a_1(t)\\frac{(dx)^{n-1}}{dt^{n-1}}+\\cdots+a_n(t)x=f_1(t)+f_2(t)的解$  \n",
    "$证明：x_1(t),x_2(t)分别是非齐次线性微分方程$  \n",
    "$                    \\quad \\frac{(dx)^n}{dt^n}+a_1(t)\\frac{(dx)^{n-1}}{dt^{n-1}}+\\cdots+a_n(t)x=f_1(t)$  \n",
    "$                    \\quad \\frac{(dx)^n}{dt^n}+a_1(t)\\frac{(dx)^{n-1}}{dt^{n-1}}+\\cdots+a_n(t)x=f_2(t)$  \n",
    "$的解，所以满足$  \n",
    "$                    \\quad \\frac{(dx_1(t)^n}{dt^n}+a_1(t)\\frac{(dx_1(t))^{n-1}}{dt^{n-1}}+\\cdots+a_n(t)x_1(t)=f_1(t)$  \n",
    "$                    \\quad \\frac{(dx_2(t)^n}{dt^n}+a_1(t)\\frac{(dx_2(t))^{n-1}}{dt^{n-1}}+\\cdots+a_n(t)x_2(t)=f_2(t)$  \n",
    "$将以上两式相加，并且利用导数的运算法则有$  \n",
    "$                    \\quad \\frac{(d(x_1(t)+x_2(t))^n}{dt^n}+a_1(t)\\frac{d(x_1(t)+x_2(t))^{n-1}}{dt^{n-1}}+\\cdots+a_n(t)(x_1(t)+x_2(t))=f_1(t)+f_2(t)$  \n",
    "$即x_1(t）+x_2(t)是方程\\frac{(dx)^n}{dt^n}+a_1(t)\\frac{(dx)^{n-1}}{dt^{n-1}}+\\cdots+a_n(t)x=f_1(t)+f_2(t)的解$  "
   ]
  },
  {
   "cell_type": "markdown",
   "metadata": {},
   "source": [
    "$3.已知齐次线性微分方程的基本解组x_1,x_2，求下列方程对应的非齐次线性微分方程的通解:$  \n",
    "$(1)x''-x=\\cos t,x_1=e^t,x_2=e^{-t};$  \n",
    "$              \\quad 解：应用常数变易法，令x=C_1(t)e^t+C_2(t)e^{-t}$  \n",
    "$              \\quad 并将它代入方程，则可得决定C_1'(t)+C_2'(t)的两个方程e'C_1'(t)+e^{-t}C_2'(t)=0及e'C_1'(t)-e^{-t}C_2'(t)= \\cos t$  \n",
    "$              \\quad 解得C_1'(t)=\\frac{1}{2}e^{-t} \\cos t,C_2'(t)=\\frac{-1}{2}e^t \\cos t$  \n",
    "$              \\quad 则C_1(t)=\\frac{\\sin t-\\cos t}{4}e^{-t}+\\gamma_1$  \n",
    "$                \\quad C_2(t)=-\\frac{1}{4}(\\sin t+\\cos t)e^t+\\gamma_2$  \n",
    "$              \\quad 于是原方程的通解为x=\\gamma_1e^t+\\gamma_2e^{-t}-\\frac{1}{2}\\cos t$  "
   ]
  },
  {
   "cell_type": "markdown",
   "metadata": {},
   "source": [
    "$(3)x''+4x=t\\sin 2t,x_1=\\cos 2t,x_2=\\sin 2t$  \n",
    "$              \\quad 解：令C_1(t)\\cos 2t+C_2(t)\\sin 2t,将它代入方程，则可得决定C_1'(t)和C_2'(t)的两个方程C_1'(t)\\cos 2t+C_2'(t)\\sin 2t=0及-2\\sin 2tC_1'(t)+2\\cos 2t C_2'(t)=t \\sin t$  \n",
    "$              \\quad 解得C_1'(t)=-\\frac{1}{2}t \\sin t \\sin 2t,C_2'(t)=\\frac{1}{2}t \\sin t \\cos 2t$  \n",
    "$              \\quad 由此C_1(t)=\\frac{1}{4}[\\frac{1}{3}t \\sin 3t +\\frac{1}{9}\\cos 3t -t \\sin t -\\cos t]+C_1$  \n",
    "$                  \\quad C_2(t)=\\frac{1}{4}[-\\frac{1}{3}t \\cos 3t +\\frac{1}{9}\\sin 3t +t \\cos t -\\sin t]+C_2$  \n",
    "$于是方程的通解为x=C_1 \\cos 2t +C_2 \\sin 2t +\\frac{t}{3}\\sin t -\\frac{2}{9}\\cos t$  "
   ]
  },
  {
   "cell_type": "markdown",
   "metadata": {},
   "source": [
    "$(5)t^2x''-tx'+x=6t+34t^2,x_1=t,x_2=tlnt$  \n",
    "$             \\quad 解：方程可变形为x''-\\frac{1}{t}x'+\\frac{1}{t^2}x=\\frac{6}{t}+34$  \n",
    "$             \\quad 令方程的解为x=tC_1(t)+tlnt+C_2(t),将它代入方程，则可得决定C_1'(t)和C_2'(t)的两个方程tC_1'(t)+tlntC_2'(t)=0及C_1'(t)+(lnt+1)C_2'(t)=\\frac{6}{t}+34，$  \n",
    "$             \\quad C_2'(t)=\\frac{6}{t}+34$  \n",
    "$             \\quad 由此，C_1(t)=-34(tlnt)-3(lnt)^2+C_1$  \n",
    "$                   \\quad C_2(t)=34t+6lnt+C_2$  \n",
    "$             \\quad 于是方程的通解为x=C_1t+C_2tlnt+34t^2+3t(lnt)^2$  "
   ]
  },
  {
   "cell_type": "markdown",
   "metadata": {
    "collapsed": true
   },
   "source": [
    "$6.假设x(t) \\neq 0是二阶齐次方程线性微分方程x''+a_1(t)x'+a_2(t)x=0的解，这里a_1(t)和a_2(t)于区间[a,b]上连续，试证：$  \n",
    "$            \\quad (1)x_2(t)为方程的解的充要条件是W'[x_1,x_2]+a_1W[x_1,x_2]=0;$  \n",
    "$            \\quad (2)方程的通解可表示为x=x_1[c_1 \\int \\frac{1}{(x_1)^2}exp(-\\int t_0^t a_1(s)ds)dt+c_2],其中c_1,c_2,为任意常数，t_0,t \\in [a,b]$  \n",
    "$             \\quad 证明：(1)充分性：$  \n",
    "$                             \\quad 由于$   \n",
    "$$  \n",
    "W'[x_1,x_2]\n",
    "=\n",
    "\\begin{vmatrix}\n",
    "x_1'&x_2'\\\\\n",
    "x_1'&x_2'\\\\\n",
    "\\end{vmatrix}\n",
    "+\n",
    "\\begin{vmatrix}\n",
    "x_1&x_2\\\\\n",
    "x_1''&x_2''\\\\\n",
    "\\end{vmatrix}\n",
    "=\n",
    "\\begin{vmatrix}\n",
    "x_1&x_2\\\\\n",
    "x_1''&x_2''\\\\\n",
    "\\end{vmatrix}\n",
    "$$  \n",
    "$$\n",
    "W'[x_1,x_2]\n",
    "+\n",
    "a_1(t)W[x_1,x_2]\n",
    "=\n",
    "\\begin{vmatrix}\n",
    "x_1&x_2\\\\\n",
    "X-1''&x_2''\\\\\n",
    "\\end{vmatrix}\n",
    "+\n",
    "a_1(t)\n",
    "\\begin{vmatrix}\n",
    "x_1&x_2\\\\\n",
    "x-1'&x_2'\\\\\n",
    "\\end{vmatrix}\n",
    "=\n",
    "\\begin{vmatrix}\n",
    "x_1&x_2\\\\\n",
    "x_1''+a_1(t)x_1'&x_2''+a_1(t)x_2'\\\\\n",
    "\\end{vmatrix}\n",
    "=\n",
    "0\n",
    "$$  \n",
    "$          \\quad 而x_1(t) \\neq 0是方程的解，则有$  \n",
    "$$\n",
    "\\begin{vmatrix}\n",
    "x_1&x_2\\\\\n",
    "-a_2(t)x_1&x_2''+a_1(t)x_2'\\\\\n",
    "\\end{vmatrix}\n",
    "=\n",
    "x_1\n",
    "\\begin{vmatrix}\n",
    "1&x_2\\\\\n",
    "-a_2(t)&x_2''+a_1(t)x_2'\\\\\n",
    "\\end{vmatrix}\n",
    "=0\n",
    "$$\n",
    "$         \\quad 故有x_2''+a_1(t)x_2'+a_2(t)x_2=0$  \n",
    "$         \\quad 即x_2(t)是已知方程的解$  \n",
    "$         \\quad 必要性：W[x_1,x_2]是方程的解x_1(t),x_2(t)的朗斯基行列式，所以$  \n",
    "$$\n",
    "W'[x_1,x_2]\n",
    "=\n",
    "\\begin{vmatrix}\n",
    "x_1&x_2\\\\\n",
    "x_1''&x_2''\\\\\n",
    "\\end{vmatrix}\n",
    "=\n",
    "\\begin{vmatrix}\n",
    "x_1&x_2\\\\\n",
    "x_1''+a_2(t)x_1&x_2''+a_2(t)x_2\\\\\n",
    "\\end{vmatrix}\n",
    "=\n",
    "\\begin{vmatrix}\n",
    "1&x_2\\\\\n",
    "-a_1(t)x_1'&a_1(t)x_2'\\\\\n",
    "\\end{vmatrix}\n",
    "=-a_1(t)\n",
    "\\begin{vmatrix}\n",
    "x_1&x_2\\\\\n",
    "x_1'&x_2'\\\\\n",
    "\\end{vmatrix}\n",
    "=\n",
    "-a_1(t)W[x_1,x_2]\n",
    "$$  \n",
    "$        \\quad 即W[x_1,x_2]满足W'[x_1,x_2]+a_1(t)W[x_1,x_2]=0$  \n",
    "$        \\quad 因为x_1,x_2为方程解，则由刘维尔公式$  \n",
    "$$\n",
    "\\begin{vmatrix}\n",
    "x_1&x_2\\\\\n",
    "x_1'&x_2'\\\\\n",
    "\\end{vmatrix}\n",
    "=\n",
    "W(t_0)e^{- \\int t_0^t a_1(s)ds}\n",
    "$$\n",
    "$       \\quad 即x_1x_2'-x_1'x_2=W(t_0)e^{- \\int t_0^t a_1(s)ds}$  \n",
    "$       \\quad 方程两边同乘以\\frac{1}{(x_1)^2},则有\\frac{d(\\frac{x_2}{x_1})}{dt}=\\frac{W(t_0)}{(x_1)^2}e^{- \\int t_0^t a_1(s)ds}$  \n",
    "$       \\quad 于是\\frac{x_2}{x_1}c_1\\int \\frac{1}{(x_1)^2}e^{- \\int t_0^t a_1(s)ds}dt+c_2$  \n",
    "$       \\quad 取c_1=1,c_2=0,得$  \n",
    "$       \\quad x_2=x_1\\int \\frac{1}{(x_1)^2}e^{- \\int t_0^t a_1(s)ds}dt$  \n",
    "$       \\quad 又$  \n",
    "$$\n",
    "\\begin{vmatrix}\n",
    "x_1&x_2\\\\\n",
    "x_1'&x_2'\\\\\n",
    "\\end{vmatrix}\n",
    "=e^{- \\int t_0^t a_1(s)ds} \\neq 0\n",
    "$$\n",
    "$      \\quad 从而原方程的通解可表示为$  \n",
    "$      \\quad x=x_1[c_1 \\int \\frac{1}{(x_1)^2}exp(-\\int t_0^t a_1(s)ds)dt+c_2],其中c_1,c_2为常数，t_0,t \\in [a,b]$  "
   ]
  },
  {
   "cell_type": "markdown",
   "metadata": {
    "collapsed": true
   },
   "source": [
    "# <font color='red'>A+ 24/10"
   ]
  },
  {
   "cell_type": "code",
   "execution_count": null,
   "metadata": {
    "collapsed": true
   },
   "outputs": [],
   "source": []
  }
 ],
 "metadata": {
  "kernelspec": {
   "display_name": "SageMath 7.3",
   "language": "",
   "name": "sagemath"
  },
  "language_info": {
   "codemirror_mode": {
    "name": "ipython",
    "version": 2
   },
   "file_extension": ".py",
   "mimetype": "text/x-python",
   "name": "python",
   "nbconvert_exporter": "python",
   "pygments_lexer": "ipython2",
   "version": "2.7.10"
  }
 },
 "nbformat": 4,
 "nbformat_minor": 0
}
