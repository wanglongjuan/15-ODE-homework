{
 "cells": [
  {
   "cell_type": "markdown",
   "metadata": {},
   "source": [
    "## 第六次常微分方程作业  2015750512 刘奥恋 15统计学班##"
   ]
  },
  {
   "cell_type": "markdown",
   "metadata": {},
   "source": [
    "#### $$设x(t)和y(t)是a\\leq t\\leq b区间上的连椟函数，证明：如果在区间a\\leq t\\leq b上有常数\\frac{x(t)}{y(t)}\\neq或\\frac{y(t)}{x(t)}\\neq常数，则x(t)和y(t)在区间a\\leq t\\leq b上线性载关（提示：用反证法）$$"
   ]
  },
  {
   "cell_type": "markdown",
   "metadata": {},
   "source": [
    "$证明：假设x(t),y(t)在区间a\\leq t\\leq b上线性相关$\n",
    "\n",
    "$则存在不全为零的常数\\alpha,\\beta，使得\\alpha x(t)+\\beta y(t)\\equiv 0,t\\in[a,b]$\n",
    "\n",
    "$设x(t)不为零，则有\\frac{y(t)}{x(t)}=-\\frac{\\alpha}{\\beta}，显然-\\frac{\\alpha}{\\beta}为常数，与题矛盾$\n",
    "\n",
    "$所以徦设不成立，得证$"
   ]
  },
  {
   "cell_type": "markdown",
   "metadata": {},
   "source": [
    "#### 证明非齐次线性微分方程的叠加原理：设$x_1(t),x_2(t)$分别是非齐次线性方程微分方程\n",
    "$$\\frac{\\mathrm d^n(x)}{\\mathrm d(t)^n}+a_1t\\frac{\\mathrm d^{n-1}x}{dt^{n-1}}+\\cdots+a_n(t)x=f_1(t)$$ \n",
    "#### $$\\frac{\\mathrm d^n(x)}{\\mathrm d(t)^n}+a_1t\\frac{\\mathrm d^{n-1}x}{dt^{n-1}}+\\cdots+a_n(t)x=f_2(t)$$\n",
    "#### 的解，###\n",
    "#### 则$x_1(t)+x_2(t)$是方程\n",
    "####$$\\frac{\\mathrm d^n(x)}{\\mathrm d(t)^n}+a_1t\\frac{\\mathrm d^{n-1}x}{dt^{n-1}}+\\cdots+a_n(t)x=f_1(t)+f_2(t)$$\n",
    "#### 的解\n"
   ]
  },
  {
   "cell_type": "markdown",
   "metadata": {},
   "source": [
    "$证明：由题可知x_1(t),x_2(t)分别是方程（1），（2）的解$\n",
    "$则：$\n",
    "$$\\frac{\\mathrm d^nx_1（t）}{\\mathrm d(t)^n}+a_1t\\frac{\\mathrm d^{n-1}x_1(t)}{dt^{n-1}}+\\cdots+a_n(t)x_1(t)=f_1(t)\\quad\\quad (3)\n",
    "$$\n",
    "$$\\frac{\\mathrm d^nx_2(t)}{\\mathrm d(t)^n}+a_1t\\frac{\\mathrm d^{n-1}x_2(t)}{dt^{n-1}}+\\cdots+a_n(t)x_2(t)=f_2(t)\\quad\\quad (4)\n",
    "$$\n",
    "$由（3），（4）相加，利用导数运算法则：$\n",
    "$$\\frac{\\mathrm d^n(x_1(t)+x_2(t))}{dt^n}+a_1(t)\\frac{d^{n-1}(x_1(t)+x_2(t))}{d^{n-1}}+\\cdots+a_n(t)(x_1(t)+x_2(t))=f_1(t)+f_2(t)\n",
    "$$\n",
    "$说明x_1(t)+x_2(t)是方程$\n",
    "$$\\frac{\\mathrm d^n(x)}{\\mathrm d(t)^n}+a_1t\\frac{\\mathrm d^{n-1}x}{dt^{n-1}}+\\cdots+a_n(t)x=f_1(t)+f_2(t)$$\n",
    "的解 \n"
   ]
  },
  {
   "cell_type": "markdown",
   "metadata": {},
   "source": [
    "#### 已知齐次线性方程的基本解组，求下列方程对应的非应的非齐次线性微分方程的通解###"
   ]
  },
  {
   "cell_type": "markdown",
   "metadata": {},
   "source": [
    "#### $（1）x''-x=cost,x_1=e^t,x_2=e^{-t}$###"
   ]
  },
  {
   "cell_type": "markdown",
   "metadata": {},
   "source": [
    "$令x(t)=c_1(t)e^t+c_2(t)e^{-t}，代入方程得$\n",
    "\n",
    "$$\\left\\{\\begin{array}\\\\c'_1(t)e^t+c'_2(t)e^{-t}=0\\\\c'_1(t)e^t-c'_2(t)e^{-t}=\\cos t \\end{array}\\right.$$\n",
    "\n",
    "$$解得\\left\\{\\begin{array}\\\\c'_1(t)=\\frac{1}{2}e^{-t}\\cos t\\\\c'2（t）=-\\frac{1}{2}e^t\\cos t \\end{array}\\right.$$\n",
    "\n",
    "$积分得c_1(t)=-\\frac{1}{4}e^{-t}(\\cos t-\\sin t)+c_1;c_2(t)=-\\frac{1}{4}e^t(\\cos t+\\sin t+c_2)$\n",
    "\n",
    "$故所求通解为x(t)=c_1e^t+c_2r^{-t}-\\frac{1}{2}\\cos t$"
   ]
  },
  {
   "cell_type": "markdown",
   "metadata": {},
   "source": [
    "#### $(3)x''+4x=t\\sin 2t,x_1=\\cos 2t,x_2=sin 2t;$ ####"
   ]
  },
  {
   "cell_type": "markdown",
   "metadata": {},
   "source": [
    "$令x=c_1(t)cos2t+c_2(t)sin2t，代入方程得到$\n",
    "\n",
    "$$\\left\\{\\begin{array}\\\\c'_1(t)\\cos 2t+c'_2(t)sin2t=0\\\\-2c'_1(t)sin2t+3c'_2(t)\\cos 2t=-t\\sin 2t \\end{array}\\right.\n",
    "$$\n",
    "\n",
    "$$解得\\left\\{\\begin{array}\\\\c'_1(t)=\\frac{1}{4}t(cos4t-1)\\\\c'_2(t)=\\frac{1}{4}tsin4t \\end{array}\\right.$$\n",
    "\n",
    "$$积分得\\left\\{\\begin{array}\\\\c_1(t)=\\frac{1}{64}\\cos 4t+\\frac{1}{16}t\\sin{4t}-\\frac{1}{8}t^2+\\gamma_1\\\\c_2(t)=\\frac{1}{64}\\sin{4t}-\\frac{1}{16}t\\cos{4t}+\\gamma_2  \\end{array}\\right.$$\n",
    "\n",
    "$于是方程的通解为x=c_1\\cos{2t}+c_2\\sin{2t}-\\frac{1}{8}t^2cos{2t}+\\frac{1}{16}t\\sin{2t},其中c_1,c_2为任意常数$\n"
   ]
  },
  {
   "cell_type": "markdown",
   "metadata": {},
   "source": [
    "#### $(5)t^2x''-tx'+x=6t+34t^2,x_1=t,x_2=tlnt$"
   ]
  },
  {
   "cell_type": "markdown",
   "metadata": {},
   "source": [
    "$原方程可化为x''-\\frac{1}{t}x'+\\frac{1}{t^2}x=\\frac{6}{t}+34$\n",
    "\n",
    "$令方程的解为x=tc_1(t)+tlntc_2(t)=0，代入方程可得$\n",
    "\n",
    "$$\\left\\{\\begin{array}\\\\tc'_1(t)+tlntc_2(t)=0\\\\ c'_1(t)+(lnt+1)c'_2(t)=\\frac{6}{t}+34 \\end{array}\\right.$$\n",
    "\n",
    "$$解得\\left\\{\\begin{array}\\\\c'_1(t)=-lnt(\\frac{6}{t}+34)\\\\c'_2(t)=\\frac{6}{t}+34\\end{array}\\right.$$\n",
    "\n",
    "$积分得$\n",
    "\n",
    "$$\\left\\{\\begin{array}\\\\c_1(t)=-34(tlnt-t)-3(lnt)^2+c_1\\\\c_2(t)=34t+6lnt+c_2 \\end{array}\\right.\n",
    "$$\n",
    "\n",
    "$于是方程的通解为x=c_1t+c_2tlnt+34t^2+3t(lnt)^2$\n",
    "\n",
    "$其中c_1,c_2为任意常数$\n",
    "\n"
   ]
  },
  {
   "cell_type": "markdown",
   "metadata": {},
   "source": [
    "#### $假设x_1(t)\\neq0是二阶齐次线性微分方程x''+a_1(y)x'+a_2(t)x=0的解，这里a_1(t)和a_2(t)于区间[a,b]上连续，试证\n",
    "$\n",
    "$$(1)x_2(t)为方程的解的充要条件是W'[x_1,x_2]+a_1W[x_1.x_2]=0;$$\n",
    "$$（2）方程的通解为x=x_1[c_1\\int \\frac{1}{{x_1}^2}exp(-\\int_{t_0}^t a_1(s)ds)dt+c_2]，其中为c_1.c_2常数,t_0,t\\in[a,b]$$\n"
   ]
  },
  {
   "cell_type": "markdown",
   "metadata": {},
   "source": [
    "$证明：（1）：$\n",
    "\n",
    "$W'[x_1,x_2]+a_1W[x_1,x_2]=0$\n",
    "\n",
    "$\\Leftrightarrow x_1x_2''-x_1''x_2+a_1x_1x_2'-a_1x_1'x_2=0$\n",
    "\n",
    "$\\Leftrightarrow x_1x_2''-x_1''x_2+a_1x_1x'_2-a_1x_1'x_2+a_2x_1x_2-a_2x_1x_2=0$\n",
    "\n",
    "$\\Leftrightarrow x_1(x_2''+a_1x_2'+a_2x_2)=0$\n",
    "\n",
    "$\\Leftrightarrow x_2''+a_1x_2'+a_2x_2=0.(x_1)\\neq0$\n",
    "\n",
    "$即x_2为解$"
   ]
  },
  {
   "cell_type": "markdown",
   "metadata": {},
   "source": [
    "$(2)$\n",
    "$因为x_1,x_2为方程的解，则由刘维尔公式$\n",
    "$$\\begin{bmatrix}x_1 & x_2\\\\ x_1^{\\prime} & x_2^{\\prime}\\\\ \\end{bmatrix}=W(t_o)e^{-\\int_{t_o}^{t} a_1(s)ds},$$\n",
    "即$$x_1x_2^{\\prime}-x^{\\prime}x^2=W(t_o)e^{\\int_{t_o}^{t} a_1(s)ds}.$$\n",
    "\n",
    "得 $$x_2=(c_1{\\int \\frac {1}{x^2} e^{-\\int_{t_o}^{t} a_1(s) ds }dt}+c_2)x_1$$\n",
    "\n",
    "$取c_1=1,c_2=0,得x_2=x_1{\\int \\frac {1}{x^2}e^{\\int_{t_o}^{t} a_1(s)ds }dt},$\n",
    "\n",
    "$$又W(t)=\\begin{bmatrix}x_1 & x_2\\\\ x_1^{\\prime} & x_2^{\\prime}\\\\\n",
    "\\end{bmatrix}=e^{-\\int_{t_o}^{t} a_1(s)ds} \\neq 0,$$\n",
    "\n",
    "$从而原方程的通解可表示为$\n",
    "\n",
    "$$x=x_1[c_1\\int \\frac {1}{x^2}exp(-\\int_{t_o}^{t} a_1(s) ds )dt+c_2],$$\n",
    "\n",
    "$其中c_1,c_2为常数，t_0,t \\in[a,b]$"
   ]
  },
  {
   "cell_type": "markdown",
   "metadata": {},
   "source": [
    "# <font color='red'>A  24/10"
   ]
  },
  {
   "cell_type": "code",
   "execution_count": null,
   "metadata": {
    "collapsed": true
   },
   "outputs": [],
   "source": []
  }
 ],
 "metadata": {
  "kernelspec": {
   "display_name": "SageMath 7.3",
   "language": "",
   "name": "sagemath"
  },
  "language_info": {
   "codemirror_mode": {
    "name": "ipython",
    "version": 2
   },
   "file_extension": ".py",
   "mimetype": "text/x-python",
   "name": "python",
   "nbconvert_exporter": "python",
   "pygments_lexer": "ipython2",
   "version": "2.7.10"
  }
 },
 "nbformat": 4,
 "nbformat_minor": 0
}
