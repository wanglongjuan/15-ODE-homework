{
 "cells": [
  {
   "cell_type": "markdown",
   "metadata": {},
   "source": [
    "# 第六次常微分作业#\n"
   ]
  },
  {
   "cell_type": "markdown",
   "metadata": {},
   "source": [
    "## 1.设x(t)和y(t)是区间$a\\leq t \\leq b$上的连续函数，证明：如果在区间$a\\leq t \\leq b$上有$\\frac {x(t)}{y(t)}\\neq $常数或$\\frac {y(t)}{x(t)}\\neq $常数,则x(t)和y(t)在区间$a\\leq t \\leq b$上线性无关。（提示：用反证法）"
   ]
  },
  {
   "cell_type": "markdown",
   "metadata": {},
   "source": [
    "**解**\n",
    "\n",
    "用反证法证明。假设x(t)和y(t)在区间[a,b]上线性相关，则存在不全为零的常数$C_1$和$C_2$使得\n",
    "\n",
    "$$ C_1x(t)+ C_2y(t)\\equiv 0,t\\in [a,b].$$\n",
    "\n",
    "$$ 若C_2 \\neq 0,则\\frac {y(t)}{x(t)}= -\\frac {C_1}{C_2}=常数 $$\n",
    "\n",
    "$$ 若C_1 \\neq 0,则\\frac {x(t)}{y(t)}= -\\frac {C_2}{C_1}=常数 $$\n",
    "\n",
    "可见在两种情况下，都与已知条件$\\frac {x(t)}{y(t)}\\neq $常数或$\\frac {y(t)}{x(t)}\\neq $常数矛盾，所以假设不成立\n",
    "即证明了x(t)和y(t)在区间$a\\leq t \\leq b$上线性无关"
   ]
  },
  {
   "cell_type": "markdown",
   "metadata": {},
   "source": [
    "## 2.证明非齐次线性微分方程的叠加原理：设$x_1(t),x_2(t)$分别是非齐次线性微分方程\n",
    "## $$\\frac{d^nx}{dt^n}+a_1(t)\\frac {d^{n-1}x}{dt^{n-1}}+…+a_n(t)x=f_1(t) $$\n",
    "##  $$\\frac{d^nx}{dt^n}+a_1(t)\\frac {d^{n-1}x}{dt^{n-1}}+…+a_n(t)x=f_2(t) $$的解，则$x_1(t)+x_2(t)$是方程\n",
    "## $$ \\frac{d^nx}{dt^n}+a_1(t)\\frac {d^{n-1}x}{dt^{n-1}}+…+a_n(t)x=f_1(t)+f_2(t)$$的解"
   ]
  },
  {
   "cell_type": "markdown",
   "metadata": {},
   "source": [
    "**证**\n",
    "\n",
    "$x_1(t),x_2(t)$分别是非齐次线性微分方程\n",
    "\n",
    "$$\\frac{d^nx}{dt^n}+a_1(t)\\frac {d^{n-1}x}{dt^{n-1}}+…+a_n(t)x=f_1(t) $$\n",
    "\n",
    "$$\\frac{d^nx}{dt^n}+a_1(t)\\frac {d^{n-1}x}{dt^{n-1}}+…+a_n(t)x=f_2(t) $$的解，所以满足\n",
    "\n",
    "$$\\frac{d^nx_1(t)}{dt^n}+a_1(t)\\frac {d^{n-1}x_1(t)}{dt^{n-1}}+…+a_n(t)x_1(t)=f_1(t) $$\n",
    "\n",
    "$$\\frac{d^nx_2(t)}{dt^n}+a_1(t)\\frac {d^{n-1}x_2(t)}{dt^{n-1}}+…+a_n(t)x_2(t)=f_2(t) $$\n",
    "\n",
    "将以上两式相加，并且利用导数的运算法则有\n",
    "\n",
    "$$\\frac{d^n(x_1(t)+x_2(t))}{dt^n}+a_1(t)\\frac {d^{n-1}(x_1(t)+x_2(t))}{dt^{n-1}}+…+a_n(t)(x_1(t)+x_2(t))=f_1(t)+f_2(t)$$\n",
    "\n",
    "即$x_1(t)+x_2(t)$是方程\n",
    "\n",
    "$$ \\frac{d^nx}{dt^n}+a_1(t)\\frac {d^{n-1}x}{dt^{n-1}}+…+a_n(t)x=f_1(t)+f_2(t)$$的解"
   ]
  },
  {
   "cell_type": "markdown",
   "metadata": {},
   "source": [
    "## 3.已知齐次线性微分方程的基本解组$x_1, x_2$，求下列方程对应的非齐次线性微分方程的通解\n"
   ]
  },
  {
   "cell_type": "markdown",
   "metadata": {},
   "source": [
    "### (1)$x^\"-x=\\cos t,x_1=e^t，x_2=e^{-t}；$"
   ]
  },
  {
   "cell_type": "markdown",
   "metadata": {},
   "source": [
    "**解**\n",
    "\n",
    "应用常数便易法，令\n",
    "\n",
    "$$ x=C_1(t)e^t+C_2(t)e^{-t} $$\n",
    "\n",
    "并将它代入方程，则可得决定$C_1'(t)$和$C_2'(t)$的两个方程\n",
    "\n",
    "$$ \n",
    "\\begin{cases}\n",
    "e^tC_1'(t)+e^{-t}C_2'(t)=0\\\\\n",
    "e^tC_1'(t)-e^{-t}C_2'(t)=\\cos t\\\\\n",
    "\\end{cases}\n",
    "$$\n",
    "\n",
    "解得\n",
    "\n",
    "$$\n",
    "\\begin{cases}\n",
    "c_1'(t)=\\frac{1}{2}e^{-t}\\cos t\\\\\n",
    "c_2'(t)=-\\frac{1}{2}e^t\\cos t\\\\\n",
    "\\end{cases}\n",
    "$$\n",
    "\n",
    "积分得\n",
    "\n",
    "$$\n",
    "\\begin{cases}\n",
    "c_1(t)=-\\frac{1}{4}e^{-t}(\\cos t-\\sin t)+c_1\\\\\n",
    "c_2(t)=-\\frac{1}{4}e^t(\\cos t+\\sin t)+c_2\\\\\n",
    "\\end{cases}\n",
    "$$\n",
    "\n",
    "故通解为\n",
    "\n",
    "$$ x(t)=c_1e^t+c_2e^{-t}-\\frac{1}{2}\\cos t $$"
   ]
  },
  {
   "cell_type": "markdown",
   "metadata": {},
   "source": [
    "### (3).$x\"+4x=t\\sin 2t,x_1=\\cos 2t,x_2=\\sin 2t;$"
   ]
  },
  {
   "cell_type": "markdown",
   "metadata": {},
   "source": [
    "**解**\n",
    "\n",
    "$$令x=c_1(t)\\cos 2t+c_2(t)\\cos 2t$$代入方程\n",
    "\n",
    "$$\n",
    "\\begin{cases}\n",
    "\\cos 2t C_1'(t)+\\sin 2t c_2'(t)=0\\\\\n",
    "-2\\sin 2t C_1'(t)+2\\cos 2t c_2'(t)=t\\sin 2t\\\\\n",
    "\\end{cases}\n",
    "$$\n",
    "\n",
    "解得\n",
    "\n",
    "$$\n",
    "\\begin{cases}\n",
    "c_1'(t)=-\\frac{1}{2}t\\sin t\\sin 2t\\\\\n",
    "c_2'(t)=\\frac{1}{2}t\\sin t\\cos 2t\\\\\n",
    "\\end{cases}\n",
    "$$\n",
    "\n",
    "积分得\n",
    "\n",
    "$$\n",
    "\\begin{cases}\n",
    "c_1(t)=\\frac{1}{4}[\\frac{1}{3}t\\sin 3t+\\frac{1}{9}\\cos 3t-t\\sin t-\\cos t]+c_1\\\\\n",
    "c_2(t)=\\frac{1}{4}[-\\frac{1}{3}t\\cos 3t+\\frac{1}{9}\\sin 3t+t\\cos t-\\sin t]+c_2\\\\\n",
    "\\end{cases}\n",
    "$$\n",
    "\n",
    "故通解为\n",
    "\n",
    "$$ x=c_1\\cos 2t+c_2\\sin 2t +\\frac{t}{3}\\sin t-\\frac{2}{9}\\cos t$$"
   ]
  },
  {
   "cell_type": "markdown",
   "metadata": {},
   "source": [
    "### (5).$t^2x\"-tx'+x=6t+34t^2,x_1=t,x_2=t^3;$"
   ]
  },
  {
   "cell_type": "markdown",
   "metadata": {},
   "source": [
    "**解**\n",
    "\n",
    "方程可变形为$$x\"-\\frac{1}{t}x'+\\frac{1}{t^2}x=\\frac{6}{t}+34$$\n",
    "\n",
    "$$令x=c_1(t)t+c_2(t)t\\ln t $$\n",
    "\n",
    "代入方程，得\n",
    "$$\n",
    "\\begin{cases}\n",
    "tc_1(t)+t\\ln t c_1'=0\\\\\n",
    "c_2(t)+(\\ln t+1)c_2'(t)=\\frac{1}{6}+34\\\\\n",
    "\\end{cases}\n",
    "$$\n",
    "\n",
    "解得\n",
    "$$\n",
    "\\begin{cases}\n",
    "c'_1(t)=-\\ln t(\\frac{6}{t}+34)\n",
    "\\\\\n",
    "\\\\\n",
    "c'_2(t)=\\frac{6}{t}+34\n",
    "\\end{cases}\n",
    "$$\n",
    "\n",
    "积分得\n",
    "\n",
    "$$\n",
    "\\begin{cases}\n",
    "c_1(t)=-34(t\\ln t-t)-3(\\ln t)^2 +c_1\n",
    "\\\\\n",
    "\\\\\n",
    "c_2(t)=34t+6\\ln t+c_2\n",
    "\\end{cases}\n",
    "$$\n",
    "\n",
    "通解为\n",
    "$$x=c_1 \\bullet t+c_2 t\\ln t+34t^2+3t(\\ln t)^2$$"
   ]
  },
  {
   "cell_type": "markdown",
   "metadata": {},
   "source": [
    "## 6.假设$x_1(t)\\neq 0$是二阶齐次线性微分方程$x\"+a_1(t)x'+a_2(t)x=0$的解，这里$a_1(t)$和$a_2(t)$于区间[a,b]上连续，试证：\n",
    "## (1)$x_2(t)$为方程的解的充分必要条件是$$W'[x_1,x_2]+a_1W[X_1,X_2]=0$$\n",
    "## (2)方程的通解可表为$$x=x_1[c_1\\int  \\frac{1}{x^2}exp(-\\int_{t_o}^t a_1(s)ds)dt+c_2]$$"
   ]
  },
  {
   "cell_type": "markdown",
   "metadata": {},
   "source": [
    "**证**\n",
    "\n",
    "(1)\n",
    "\n",
    "$$W'[x_1,x_2]+a_1W[x_1,x_2]=0$$\n",
    "\n",
    "$$\\Leftrightarrow x_1x''_2-x''_1x_2+a_1x_1x'_2-a_1x'_1x_2=0$$\n",
    "\n",
    "$$\\Leftrightarrow x_1x''_2-x''_1x_2+a_1x_1x'_2-a_1x'_1x_2+a_2x_1x_2-a_1x_1x_2=0$$\n",
    "\n",
    "$$\\Leftrightarrow x_1(x''_2+a_1x'_2+a_2x_2)=0$$\n",
    "\n",
    "$$\\Leftrightarrow x''_2+a_1x'_2+a_2x_2=0   (x_1 \\neq 0)$$\n",
    "\n",
    "即$x_2$为解\n",
    "\n",
    "(2)\n",
    "\n",
    "因为$x_1,x_2$为方程的解，则由刘维尔公式得\n",
    "\n",
    "$$\n",
    "\\begin{vmatrix}\n",
    "x_1 & x_2 \\\\\n",
    "x'_1 & x'_2\\\\\n",
    "\\end{vmatrix}\n",
    "=W(t_0)e^{-\\int_{t_0}^t a_1(s)\\mathrm d s}\n",
    "$$\n",
    "\n",
    "即\n",
    "\n",
    "$$\n",
    "x_1x'_2-x'_1x_2=W(t_0)e^{-\\int_{t_0}^t a_1(s)\\mathrm d s}\n",
    "$$\n",
    "\n",
    "两边乘$\\frac{1}{x^2_1}$,则有\n",
    "\n",
    "$$\n",
    "\\frac{\\mathrm d (\\frac{x_2}{x_1})}{\\mathrm d t}=\\frac{W(t_0)}{x^2_1}e^{-\\int_{t_0}^t a_1(s)\\mathrm d s}\n",
    "$$\n",
    "\n",
    "则\n",
    "\n",
    "$$\n",
    "\\frac{x_2}{x_1}=c_1 \\int \\frac{1}{x^2_1}e^{-\\int_{t_0}^t a_1(s)\\mathrm d s}\\mathrm d t +c_2\n",
    "$$\n",
    "\n",
    "即\n",
    "\n",
    "$$\n",
    "x_2=x_1\\int \\frac{1}{x^2_1}e^{-\\int_{t_0}^t a_1(s)\\mathrm d s}\\mathrm d t\n",
    "$$\n",
    "\n",
    "又\n",
    "$$W(t)=\n",
    "\\begin{vmatrix}\n",
    "x_1 & x_2 \\\\\n",
    "x'_1 & x'_2\\\\\n",
    "\\end{vmatrix}\n",
    "=e^{-\\int_{t_0}^t a_1(s)\\mathrm d s} \\neq 0\n",
    "$$\n",
    "\n",
    "通解为\n",
    "$$\n",
    "x=x_1[c_1 \\int \\frac{1}{x^2_1} \\exp(-\\int_{t_0}^t a_1(s)\\mathrm d s)\\mathrm d t +c_2 ]\n",
    "$$"
   ]
  },
  {
   "cell_type": "markdown",
   "metadata": {
    "collapsed": true
   },
   "source": [
    "# <font color='red'>A  24/10"
   ]
  },
  {
   "cell_type": "code",
   "execution_count": null,
   "metadata": {
    "collapsed": true
   },
   "outputs": [],
   "source": []
  }
 ],
 "metadata": {
  "kernelspec": {
   "display_name": "SageMath 7.3",
   "language": "",
   "name": "sagemath"
  },
  "language_info": {
   "codemirror_mode": {
    "name": "ipython",
    "version": 2
   },
   "file_extension": ".py",
   "mimetype": "text/x-python",
   "name": "python",
   "nbconvert_exporter": "python",
   "pygments_lexer": "ipython2",
   "version": "2.7.10"
  }
 },
 "nbformat": 4,
 "nbformat_minor": 0
}
