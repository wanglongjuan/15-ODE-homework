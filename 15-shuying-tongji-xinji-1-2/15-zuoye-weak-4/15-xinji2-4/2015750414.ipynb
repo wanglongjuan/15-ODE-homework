{
 "cells": [
  {
   "cell_type": "markdown",
   "metadata": {},
   "source": [
    "常微分方程第三次作业"
   ]
  },
  {
   "cell_type": "markdown",
   "metadata": {},
   "source": [
    "2015750414"
   ]
  },
  {
   "cell_type": "markdown",
   "metadata": {},
   "source": [
    "$(8)M=x+y,N=x,\\frac{∂M}{∂y}=2,\\frac{∂N}{∂x}=1,\\therefore方程不是恰当的$"
   ]
  },
  {
   "cell_type": "markdown",
   "metadata": {},
   "source": [
    "$\\because\\frac{\\frac{∂M}{∂y}-\\frac{∂N}{∂x}}{N}=\\frac{1}{x}只与x有关，故方程有只与x有关的积分因子$"
   ]
  },
  {
   "cell_type": "markdown",
   "metadata": {},
   "source": [
    "$μ=e^{\\int\\frac{1}{x}dx}=x$"
   ]
  },
  {
   "cell_type": "markdown",
   "metadata": {},
   "source": [
    "$以μ=x乘方程两边得：x^2dx+2xydx+x^2dx=0$"
   ]
  },
  {
   "cell_type": "markdown",
   "metadata": {},
   "source": [
    "$\\therefore通解为\\frac{1}{3}x^3+x^2y=c$"
   ]
  },
  {
   "cell_type": "markdown",
   "metadata": {
    "collapsed": true
   },
   "source": [
    "$(9))M=xcos(x+y)+sin(x+y),N=xcos(x+y),\\frac{∂M}{∂y}=-xsin(x+y)+cos(x+y),\\frac{∂N}{∂x}=-xsin(x+y)+cos(x+y),方程是恰当的$"
   ]
  },
  {
   "cell_type": "markdown",
   "metadata": {},
   "source": [
    "$[xcos(x+y)+sin(x+y)]dx+xcos(x+y)dy=d[xsin(x+y)]=0$"
   ]
  },
  {
   "cell_type": "markdown",
   "metadata": {},
   "source": [
    "$\\therefore通解为xsin(x+y)=c$"
   ]
  },
  {
   "cell_type": "markdown",
   "metadata": {
    "collapsed": true
   },
   "source": [
    "$(10)M=ycosx+xsinx,N=ysinx+xcosx,\\frac{∂M}{∂y}=cosx,\\frac{∂N}{∂x}=ycosx+cosx-xsinx,方程不是恰当的$"
   ]
  },
  {
   "cell_type": "markdown",
   "metadata": {},
   "source": [
    "$\\because\\frac{\\frac{∂M}{∂y}-\\frac{∂N}{∂x}}{N}=1方程有积分因子:μ=e^{\\int1dy}=e^y$"
   ]
  },
  {
   "cell_type": "markdown",
   "metadata": {},
   "source": [
    "$两边乘以μ得:e^y(ycosx-xsinx)dx+e^y(ysinx+xcosx)dx=0$"
   ]
  },
  {
   "cell_type": "markdown",
   "metadata": {},
   "source": [
    "$故通解为:\\int{e^y(ycosx-xsinx)dx}+\\int{[N-\\frac{∂}{∂y}\\int{e^y(ysinx+xcosx)dx]}}=c$"
   ]
  },
  {
   "cell_type": "markdown",
   "metadata": {},
   "source": [
    "$即:e^ysinx(y-1)+e^ycosx=c$"
   ]
  },
  {
   "cell_type": "markdown",
   "metadata": {},
   "source": [
    "$(11)两边同乘以x^2y得:(4x^3y^2dx+2x^4ydy)+(3x^2y^5dx+5x^3ydy)=0$"
   ]
  },
  {
   "cell_type": "markdown",
   "metadata": {},
   "source": [
    "$即d(x^4y^2)+d(x^3y^5)=0$"
   ]
  },
  {
   "cell_type": "markdown",
   "metadata": {},
   "source": [
    "$故方程的通解为:x^4y^2+x^3y^5=c$"
   ]
  },
  {
   "cell_type": "markdown",
   "metadata": {},
   "source": [
    "$5.令y=ux,M(x,y)dx+N(x,y)dy=M(x,ux)dx+N(x,ux)d(ux)=0$"
   ]
  },
  {
   "cell_type": "markdown",
   "metadata": {
    "collapsed": true
   },
   "source": [
    "$x^mM(1,u)dx+x^mN(1,u)(xdu+udx)=0$"
   ]
  },
  {
   "cell_type": "markdown",
   "metadata": {},
   "source": [
    "$(x^mM(1,u)+x^muN(1,u))dx+x^{m+1}N(1,u)du=0$\n"
   ]
  },
  {
   "cell_type": "markdown",
   "metadata": {},
   "source": [
    "$有积分因子 U=\\frac{1}{[x^{m}1)(M(1,u)+uN(1,u))]}\n",
    "(\\frac{1}{x})dx+\\frac{N(1,u)}{(M(1,u)+uN(1,u))}du=0\n",
    "$"
   ]
  },
  {
   "cell_type": "markdown",
   "metadata": {},
   "source": [
    "$而U=\\frac{1}\n",
    "{x^{m+1}(M(1,u)+uN(1,u))}\n",
    "=\\frac{1}{xM(x,y)+yN(x,y)}$"
   ]
  },
  {
   "cell_type": "markdown",
   "metadata": {},
   "source": [
    "$8.已知伯努利方程为:\\frac{dy}{dx}=P(x)y+Q(x)y^n,y\\not=0$"
   ]
  },
  {
   "cell_type": "markdown",
   "metadata": {},
   "source": [
    "$两边同乘以y^(-n),令z=y^(-n),\\frac{dz}{dx}=(1-n)P(x)z+(1-n)Q(x)$"
   ]
  },
  {
   "cell_type": "markdown",
   "metadata": {},
   "source": [
    "$线性方程有积分因子:μ=e^{-\\int{(1-n)P(x)dx}}=e^{(n-1)\\int{P(x)dx}}$"
   ]
  },
  {
   "cell_type": "markdown",
   "metadata": {},
   "source": [
    "$故原方程积分因子为:μ=e^{(n-1)\\int{P(x)dx}},证毕$"
   ]
  },
  {
   "cell_type": "markdown",
   "metadata": {},
   "source": [
    "$1.(1)令\\frac{dy}{dx}=y'=p=\\frac{1}{t},则x=(1+\\frac{1}{t})t^3=t^3+t^2$"
   ]
  },
  {
   "cell_type": "markdown",
   "metadata": {},
   "source": [
    "$从而y=\\int{pdx}+c=\\int\\frac{1}{t}d(t^3+t^2)+c=\\int(3t+2)dt+c=\\frac{3}{2}t^2+2t+c$"
   ]
  },
  {
   "cell_type": "markdown",
   "metadata": {},
   "source": [
    "$于是求得方程参数形式得通解为:x=t^3+t^2,y=\\frac{3}{2}t^2+2t+c$"
   ]
  },
  {
   "cell_type": "markdown",
   "metadata": {},
   "source": [
    "$(2)令\\frac{dy}{dx}=y'=p=tx,则(tx)^3-x^3(1-tx)=0，即x=\\frac{t^3-1}{t}=t^2-\\frac{1}{t}$"
   ]
  },
  {
   "cell_type": "markdown",
   "metadata": {},
   "source": [
    "$从而y=\\int{pdx}+c=\\int{t(t^2-\\frac{1}{t})d(t^2-\\frac{1}{t})}+c=\\int(t^3-1)(2t+\\frac{1}{t^2})dt+c=\\int(2t^4-t-\\frac{1}{t^2})dt+c=\\frac{2}{5}t^5-\\frac{1}{2}t^2+\\frac{1}{t}+c$"
   ]
  },
  {
   "cell_type": "markdown",
   "metadata": {},
   "source": [
    "$于是求得方程参数形式通解为，x=t^2-\\frac{1}{t},y=\\frac{2}{5}t^5-\\frac{1}{2}t^2+\\frac{1}{t}+c$"
   ]
  },
  {
   "cell_type": "markdown",
   "metadata": {},
   "source": [
    "$(3)令\\frac{dy}{dx}=y'=p,则y=p^2e^p,从而x=\\int{\\frac{1}{p}d(p^2e^p)}+c=\\int{\\frac{1}{p}(2pe^p+p^2e^p)dp+c}=\\int(2e^p+pe^p)dp+c=(1+p)e^p+c$"
   ]
  },
  {
   "cell_type": "markdown",
   "metadata": {},
   "source": [
    "$于是求得方程参数形式通解为:x=(1+p)e^p+c，y=p^2e^p,另外y=0也是方程的解$"
   ]
  },
  {
   "cell_type": "markdown",
   "metadata": {},
   "source": [
    "$(4)令\\frac{dy}{dx}=y'=tanθ,则y=\\frac{2a}{1+tan^2θ}=\\frac{2a}{sec^2θ}=2acos^2θ$"
   ]
  },
  {
   "cell_type": "markdown",
   "metadata": {},
   "source": [
    "$从而x=\\int{\\frac{1}{p}dy}+c=\\int{\\frac{1}{tanθ}}d(2acos^2θ)+c=-a(2θ+sin2θ)+c$"
   ]
  },
  {
   "cell_type": "markdown",
   "metadata": {},
   "source": [
    "$于是求得方程参数形式的通解为:x=-a(2θ+sin2θ)+c,y=2acos^2θ$"
   ]
  },
  {
   "cell_type": "markdown",
   "metadata": {},
   "source": [
    "$(5)令\\frac{dy}{dx}=y'=p=cost,则x=\\sqrt{1-cos^2t}=sint$"
   ]
  },
  {
   "cell_type": "markdown",
   "metadata": {},
   "source": [
    "$从而y=\\int{cost}d(sint)+c=\\int{cos^2t}dt+c=\\int{\\frac{1+cos2t}{2}}dt+c=\\frac{1}{2}t+\\frac{1}{4}sin2t+c$"
   ]
  },
  {
   "cell_type": "markdown",
   "metadata": {},
   "source": [
    "$于是求得方程参数形式的通解为:x=sinx,y=\\frac{1}{2}t+\\frac{1}{4}sin2t+c$"
   ]
  },
  {
   "cell_type": "markdown",
   "metadata": {},
   "source": [
    "$(6)令2-y'=yt,则1-y'=ty-1,得y=t+\\frac{1}{t},$"
   ]
  },
  {
   "cell_type": "markdown",
   "metadata": {},
   "source": [
    "$\\therefore dx=\\frac{dy}{y'}=\\frac{dy}{2-ty}=\\frac{d(t+\\frac{1}{t})}{2-t(t+\\frac{1}{t})}=\\frac{(1-t^{-2})dt}{1-t^2}=\\frac{t^2-1}{t^2(1-t^2)}dt=-\\frac{1}{t^2}dt$"
   ]
  },
  {
   "cell_type": "markdown",
   "metadata": {},
   "source": [
    "$从而x=\\int{-\\frac{1}{t^2}}dt+c=\\frac{1}{t}+c$"
   ]
  },
  {
   "cell_type": "markdown",
   "metadata": {},
   "source": [
    "$于是求得方程参数形式的通解为;x=\\frac{1}{t}+c,y=t+\\frac{1}{t}$"
   ]
  },
  {
   "cell_type": "markdown",
   "metadata": {},
   "source": [
    "$因此方程的通解为y=\\frac{1}{x-c}+x-c$"
   ]
  },
  {
   "cell_type": "markdown",
   "metadata": {},
   "source": [
    "# <font color='red'>A 26/9  缺第四题，后面的以后写成参数形式"
   ]
  },
  {
   "cell_type": "code",
   "execution_count": null,
   "metadata": {
    "collapsed": true
   },
   "outputs": [],
   "source": []
  }
 ],
 "metadata": {
  "kernelspec": {
   "display_name": "SageMath 7.3",
   "language": "",
   "name": "sagemath"
  },
  "language_info": {
   "codemirror_mode": {
    "name": "ipython",
    "version": 2
   },
   "file_extension": ".py",
   "mimetype": "text/x-python",
   "name": "python",
   "nbconvert_exporter": "python",
   "pygments_lexer": "ipython2",
   "version": "2.7.10"
  }
 },
 "nbformat": 4,
 "nbformat_minor": 0
}
