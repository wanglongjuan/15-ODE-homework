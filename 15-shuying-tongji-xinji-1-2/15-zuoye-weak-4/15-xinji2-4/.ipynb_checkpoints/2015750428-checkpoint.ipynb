{
 "cells": [
  {
   "cell_type": "markdown",
   "metadata": {},
   "source": [
    "1.求下列方程的解："
   ]
  },
  {
   "cell_type": "markdown",
   "metadata": {},
   "source": [
    "(1)$(x+2y)dx+xdy=0$"
   ]
  },
  {
   "cell_type": "markdown",
   "metadata": {},
   "source": [
    "解：这里$M=x+2y,N=x,\\frac{\\partial M}{\\partial y}=2，\\frac{\\partial N}{\\partial x}=1$，方程不是恰当的\n",
    "\n",
    "因为$\\frac{\\frac{\\partial M}{\\partial y}-\\frac{\\partial N}{\\partial x}}{N}=\\frac{1}{x}$只与x有关，故方程有只与x有关的积分因子$$\\mu=e^{\\int{\\frac{1}{x}}dx}=x$$以$\\mu=x$乘方程两边得到$$x^2dx+2xydx+x^2dy=0$$所以通解为$$\\frac{1}{3}x^3+x^2y=c$$"
   ]
  },
  {
   "cell_type": "markdown",
   "metadata": {},
   "source": [
    "(2)$[xcos(x+y)+sin(x+y)]dx+xcos(x+y)dy=0$"
   ]
  },
  {
   "cell_type": "markdown",
   "metadata": {},
   "source": [
    "解：这里$M=xcos(x+y)+sin(x+y),N=xcos(x+y),\\frac{\\partial M}{\\partial y}=-xsin(x+y)+cos(x+y),\\frac{\\partial N}{\\partial x}=cos(x+y)-xsin(x+y)$方程是恰当的\n",
    "\n",
    "把方程重新分项组合得到$$xcos(x+y)dx+sin(x+y)dx+xcos(x+y)dy=0$$所以方程的通解为$$xsin(x+y)=c$$"
   ]
  },
  {
   "cell_type": "markdown",
   "metadata": {},
   "source": [
    "(3)$(ycosx-xsinx)dx+(ysinx+xcosx)dy=0$"
   ]
  },
  {
   "cell_type": "markdown",
   "metadata": {},
   "source": [
    "解：这里$M=ycosx-xsinx,N=ysinx+xcosx,\\frac{\\partial M}{\\partial y}=cosx,\\frac{\\partial N}{\\partial x}=ycosx+cosx-xsinx$方程不是恰当的\n",
    "\n",
    "因为$\\frac{\\frac{\\partial M}{\\partial y}-\\frac{\\partial N}{\\partial x}}{-M}=1,方程有积分因子$$\\mu=e^{\\int{dy}}=e^y$$\n",
    "\n",
    "方程两边乘以$\\mu$得$$e^y(ycosx-xsinx)dx+e^y(ysinx+xcosx)dy=0,为恰当方程$$所以方程的通解为$$e^ysin(y-1)+e^ycosx=c$$"
   ]
  },
  {
   "cell_type": "markdown",
   "metadata": {},
   "source": [
    "(4)$x(4ydx+2xdy)+y^3(3ydx+5xdy)=0$"
   ]
  },
  {
   "cell_type": "markdown",
   "metadata": {},
   "source": [
    "解：观察方程可知方程两边可同时乘以$x^2y$得$$(4x^3y^2dx+2x^4ydy)+(3x^2y^5dx+5x^3ydy)=0$$即$$d(x^4y^2)+d(x^3y^5)=0$$所以方程的通解为$$x^4y^2+x^3y^5=c$$"
   ]
  },
  {
   "cell_type": "markdown",
   "metadata": {},
   "source": [
    "2.求解下列方程："
   ]
  },
  {
   "cell_type": "markdown",
   "metadata": {},
   "source": [
    "(1)$xy'^3=1+y'$\n",
    "\n",
    "解：令$\\frac{dy}{dx}=y'=p=\\frac{1}{t},则x=(1+\\frac{1}{t})t^3=t^3+t^2$从而$$y=\\int{p}dx+c=\\int{\\frac{1}{t}}d(t^3+t^2)+c=\\int{(3t+2)}dt+c=\\frac{3}{2}t^2+2t+c$$于是求得方程参数形式的通解为$$\\begin{cases}x=t^3+t^2\\\\y=\\frac{3}{2}t^2+2t+c\\end{cases}$$"
   ]
  },
  {
   "cell_type": "markdown",
   "metadata": {},
   "source": [
    "(2)$y'^3-x^3(1-y')=0$\n",
    "\n",
    "解：令$\\frac{dy}{dx}=y'=p=tx,则(tx)^3-x^3(1-tx)=0,即x=t^2-\\frac{1}{t}$从而\n",
    "\n",
    "$\\begin{aligned}\n",
    "y&=\\int{p}dx+c=\\int{t(t^2-\\frac{1}{t})}d(t^2-\\frac{1}{t})+c\\\\\n",
    "y&=\\int{(t^3-1)(2t+\\frac{1}{t^2})}dt+c\\\\\n",
    "y&=\\int{(2t^4-t-\\frac{1}{t^2})}dt+c\\\\\n",
    "y&=\\frac{2}{5}t^5-\\frac{1}{2}t^2+\\frac{1}{t}+c\n",
    "\\end{aligned}$\n",
    "\n",
    "于是求得方程参数形式的通解为$$\\begin{cases}x=t^2-\\frac{1}{t}\\\\y=\\frac{2}{5}t^5-\\frac{1}{2}t^2+\\frac{1}{t}+c\\end{cases}$$"
   ]
  },
  {
   "cell_type": "markdown",
   "metadata": {},
   "source": [
    "(3)$y=y'^2e^y$"
   ]
  },
  {
   "cell_type": "markdown",
   "metadata": {},
   "source": [
    "解：令$\\frac{dy}{dx}=y'=p,则y=p^2e^p$,从而\n",
    "\n",
    "$\\begin{aligned}\n",
    "x&=\\int{\\frac{1}{p}}d(p^2e^p)+c\\\\\n",
    "&=\\int{\\frac{1}{p}}(2pe^p+p^2e^p)dp+c\\\\\n",
    "&=\\int{2e^p+pe^p}dp+c\\\\\n",
    "&=(1+p)e^p+c\n",
    "\\end{aligned}$\n",
    "\n",
    "于是求得方程参数形式的通解为$$\\begin{cases}x=(1+p)e^p+c\\\\y=p^2e^p+c\\end{cases}或y=0$$"
   ]
  },
  {
   "cell_type": "markdown",
   "metadata": {},
   "source": [
    "(4)$y(1+y'^2）=2a(a为常数)$"
   ]
  },
  {
   "cell_type": "markdown",
   "metadata": {},
   "source": [
    "解：令$\\frac{dy}{dx}=y'=tg\\phi,则y=\\frac{2a}{1+tg^2\\phi}=\\frac{2a}{sec^2\\phi}=2acos^2\\phi$,从而\n",
    "\n",
    "$\\begin{aligned}\n",
    "x&=\\int{\\frac{1}{p}}dy+c=\\int{\\frac{1}{tg\\phi}}d(2acos^2\\phi)+c\\\\\n",
    "&=-4a\\int{cos^2\\phi}d\\phi+c=-4a\\int{\\frac{1+cos2\\phi}{2}}+c\\\\\n",
    "&=-a(2\\phi+sin2\\phi)+c\n",
    "\\end{aligned}$\n",
    "\n",
    "于是求得方程参数形式的通解为$$\\begin{cases}x=-a(2\\phi+sin2\\phi)+c\\\\y=2acos^2\\phi\\end{cases}$$"
   ]
  },
  {
   "cell_type": "markdown",
   "metadata": {},
   "source": [
    "(5)$x^2+y'^2=1$\n",
    "\n",
    "解：令$\\frac{dy}{dx}=y'=cost,则x=\\sqrt{1-cos^2t}=sint$,从而\n",
    "\n",
    "$\\begin{aligned}\n",
    "y&=\\int{cost}d(sint)+c\\\\\n",
    "&=\\int{cos^2t}dt+c=-4a\\int{\\frac{1+cos2t}{2}}+c\\\\\n",
    "&=\\frac{1}{2}t+\\frac{1}{4}sin2t+c\n",
    "\\end{aligned}$\n",
    "\n",
    "\n",
    "\n",
    "\n",
    "于是求得方程参数形式的通解为$$\\begin{cases}x=sint\\\\y=\\frac{1}{2}t+\\frac{1}{4}sin2t+c\\end{cases}$$"
   ]
  },
  {
   "cell_type": "markdown",
   "metadata": {},
   "source": [
    "(6)$y^2(y'-1)=(2-y')^2$\n",
    "\n",
    "解：令$2-y'=yt,则1-y'=yt-1,得y=t+\\frac{1}{t}$\n",
    "\n",
    "所以$$dx=\\frac{dy}{y'}=\\frac{dy}{2-yt}=\\frac{d(t+\\frac{1}{t})}{2-t(t+\\frac{1}{t})}=\\frac{(1-t^{-2})dt}{1-t^2}=\\frac{t^2-1}{t^2(1-t^2)}dt=-\\frac{1}{t^2}dt$$\n",
    "\n",
    "从而$$x=\\int{-\\frac{1}{t^2}}dt+c=\\frac{1}{t}+c$$\n",
    "\n",
    "于是求得方程参数形式的通解为$$\\begin{cases}x=\\frac{1}{t}+c\\\\y=t+\\frac{1}{t}\\end{cases}$$\n",
    "\n",
    "因此方程的通解为$$y=\\frac{1}{x-c}+x-c$$"
   ]
  },
  {
   "cell_type": "markdown",
   "metadata": {
    "collapsed": true
   },
   "source": [
    "# <font color='red'>B 26/9   缺4,8,题，，？？"
   ]
  },
  {
   "cell_type": "code",
   "execution_count": null,
   "metadata": {
    "collapsed": true
   },
   "outputs": [],
   "source": []
  }
 ],
 "metadata": {
  "kernelspec": {
   "display_name": "SageMath 7.3",
   "language": "",
   "name": "sagemath"
  },
  "language_info": {
   "codemirror_mode": {
    "name": "ipython",
    "version": 2
   },
   "file_extension": ".py",
   "mimetype": "text/x-python",
   "name": "python",
   "nbconvert_exporter": "python",
   "pygments_lexer": "ipython2",
   "version": "2.7.10"
  }
 },
 "nbformat": 4,
 "nbformat_minor": 0
}
