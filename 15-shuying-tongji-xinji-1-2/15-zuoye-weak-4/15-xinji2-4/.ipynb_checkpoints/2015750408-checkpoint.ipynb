{
 "cells": [
  {
   "cell_type": "markdown",
   "metadata": {},
   "source": [
    "二、求下列方程的解：  \n",
    "$（8）(x+2y)dx+xdy=0$"
   ]
  },
  {
   "cell_type": "markdown",
   "metadata": {},
   "source": [
    "$$因为M=x+2y,N=x,\\frac{\\partial M}{\\partial y}=2,\\frac{\\partial N}{\\partial x}=1$$\n",
    "$则方程不是恰当的$ 因为$$\\frac{\\frac{\\partial M}{\\partial y}-\\frac{\\partial N}{\\partial x}}{N}=\\frac{1}{x}$$\n",
    "\n",
    "$方程有积分因子μ=x,$  $两边同时乘以μ得2xydx+x^2dy+x^2dx=0$\n",
    "\n",
    "则$$d(x^2y+x^3\\frac{1}{3})$$\n",
    "\n",
    "所以方程的通解为:$$x^3+3x^2y=c (c为任意常数)$$"
   ]
  },
  {
   "cell_type": "markdown",
   "metadata": {},
   "source": [
    "$（9）[xcos(x+y)+sin(x+y)]dx+xcos(x+y)dy=0$"
   ]
  },
  {
   "cell_type": "markdown",
   "metadata": {},
   "source": [
    "因为$$M=xcos(x+y)+sin(x+y)，N=xcos(x+y)$$\n",
    "\n",
    "$$\\frac{\\partial M}{\\partial y}=-xsin(x+y)+cos(x+y),\\frac{\\partial N}{\\partial x}=-xsin(x+y)+cos(x+y)$$\n",
    "\n",
    "所以方程是恰当，可写成$$d(xsin(x+y))=0$$\n",
    "\n",
    "则原方程的通解：$$xsin(x+y)=c(c为任意常数)$$"
   ]
  },
  {
   "cell_type": "markdown",
   "metadata": {},
   "source": [
    "$(10)     (ycos x-xsin x)dx+(ysin x+xcos y)dy=0$"
   ]
  },
  {
   "cell_type": "markdown",
   "metadata": {},
   "source": [
    "由$$M=ycos x-xsin x,N=ysin x+xcos y,\\frac{\\partial M}{\\partial y}=cos x,\\frac{\\partial N}{\\partial x}=cos x+cos x-xsin x$$\n",
    "\n",
    "因$$\\frac{\\frac{\\partial M}{\\partial y}-\\frac{\\partial N}{\\partial x}}{-N}=1$$\n",
    "\n",
    "所以方程不恰当\n",
    "\n",
    "则方程的积分因子为μ=e^y,方程两边同乘以μ得\n",
    "\n",
    "$$(ye^ycos x d x+ye^ysin x d y)+(e^yxcos x d y-e^yxsin x d x)=0$$\n",
    "\n",
    "即$$d[(y-1)e^ysin x+e^yxcos x]=0$$\n",
    "\n",
    "则方程的通解：$$(y-1)e^ysin x+e^yxcos x=c(c为任意常数)$$"
   ]
  },
  {
   "cell_type": "markdown",
   "metadata": {},
   "source": [
    "$(11)x(4ydx+2xdy)+y^3(3ydx+5xdy)=0$"
   ]
  },
  {
   "cell_type": "markdown",
   "metadata": {},
   "source": [
    "由$$M=4xy+3y^4,N=2x^2+5xy^3,\\frac{\\partial M}{\\partial y}=4x^2+12y^3,\\frac{\\partial N}{\\partial x}=4x+5y^3$$\n",
    "\n",
    "则该方程不恰当，因为M,N为多项式，设积分因子的形式为$$μ=x^my^n$$\n",
    "\n",
    "方程两边同乘以积分因子$$（4x^mxy^ny^4+3x^my^ny^4）dx+（2x^mx^2y^n+5x^mxy^ny^3）dy=0$$\n",
    "\n",
    "所以它是恰当方程的充要条件是$$4(n+1)xx^my^n+3(n+4)x^my^3y^n=2(m+2)xx^my^3y^n+5(m+1)x^my^3y^n$$\n",
    "\n",
    "$$\n",
    "\\begin{cases}\n",
    "4n-2m=0\\\\\n",
    "3n-5m+7=0\n",
    "\\end{cases}\n",
    "$$\n",
    "\n",
    "$$解得：\n",
    "\\begin{cases}\n",
    "m=2\\\\\n",
    "n=1\n",
    "\\end{cases}\n",
    "$$\n",
    "\n",
    "即$$μ=x^2y$$\n",
    "方程两边同乘以μ$$4x^3y^2dx+3x^2y^5dx+2x^4ydy+5x^3y^4dy=d(x^4y^2)+d(x^3y^5)=0$$\n",
    "\n",
    "所以方程的通解为:$$x^4y^2+x^3y^5=c(c为任意常数，x=0,y-0也是方程的解)$$"
   ]
  },
  {
   "cell_type": "markdown",
   "metadata": {},
   "source": [
    "四、证：\n",
    "必要性:设方程dy-f(x,y)dx=0是线性微分方程，则存在g(x)和h(x)使$$f(x,y)=yg(x)+h(x)$$\n",
    "\n",
    "所以$$M=-f(x,y)=-yg(x)-h(x),N=1$$\n",
    "\n",
    "$$\\frac{\\frac{\\partial M}{\\partial y}-\\frac{\\partial N}{\\partial x}}{N}=\\frac{-g(x)}{1}=-g(x)$$\n",
    "\n",
    "$$则方程具有仅依赖于x的积分因子$$\n",
    "\n",
    "充分性：设dy-f(x,y)dx=0有只依赖于x的积分因子\n",
    "\n",
    "因为积分因子之依赖于x，则存在φ(x)满足$$\\frac{\\frac{\\partial M}{\\partial y}-\\frac{\\partial N}{\\partial x}}{N}=\\frac{-\\frac{\\partial f}{\\partial y}-0}{1}=φ(x),即\\frac{\\partial f}{\\partial y}=-φ(x)$$\n",
    "\n",
    "积分得$$f(x,y)=-φ(x)y+C$$\n",
    "\n",
    "所以$$\\frac{dy}{dx}=-φ(x)y+C$$\n",
    "\n",
    "$$即dy-f(x,y)dx=0是线性微分方程$$"
   ]
  },
  {
   "cell_type": "markdown",
   "metadata": {},
   "source": [
    "8.求出伯努利微分方程的积分因子"
   ]
  },
  {
   "cell_type": "markdown",
   "metadata": {},
   "source": [
    "$将\\frac{dy}{dx}=P(x)y+Q(x)y^n整理为dy-P(x)ydx-Q(x)y^ndx=0$\n",
    "\n",
    "方程两边同乘以\\frac{1}{y^n}得$$\\frac{dy}{y^n}-P(x)\\frac{y}{y^n}dx-Q(x)dx=0$$\n",
    "\n",
    "即$$d(\\frac{y}{y^n})-(1-n)P(x)\\frac{y}{y^n}dx-(1-n)Q(x)dx=0$$\n",
    "\n",
    "若将此方程整理为全微分方程，则需乘以e^{-(1-n)\\int P(x)\\ dx}\n",
    "\n",
    "所以要求的积分因子为$$\\frac{1}{y^n}e^{-(1-n)\\int P(x)\\ dx}$$"
   ]
  },
  {
   "cell_type": "markdown",
   "metadata": {},
   "source": [
    "一、求解下列方程：  \n",
    "$(1)xy'^3=1+y'$"
   ]
  },
  {
   "cell_type": "markdown",
   "metadata": {},
   "source": [
    "令y'=\\frac{1}{n} ， 则方程可化为$$\\frac{x}{n^3}=1+\\frac{1}{n},x=n^3+n^2,dy=\\frac{dx}{n}=(3n+2)dn$$\n",
    "\n",
    "则$$y=\\frac{3n^2}{2}+2n+c$$\n",
    "\n",
    "所以，$$方程的通解为\n",
    "\\begin{cases}\n",
    "x=n^3+n^2\\\\\n",
    "y=\\frac{3n^2}{2}+2n+c\n",
    "\\end{cases}\n",
    "$$\n",
    "\n",
    "$$（n为参数，c为任意常数）$$"
   ]
  },
  {
   "cell_type": "markdown",
   "metadata": {},
   "source": [
    "$(2)y'^3-x^3(1-y')=0$\n",
    "\n",
    "设y'=nx,所以方程可化为$$(n^3-(1-nx))x^3=0$$\n",
    "\n",
    "解得$$x=\\frac{1}{n}-n^2$$\n",
    "\n",
    "方程两边同时对y求导$$\\frac{1}{1-n^2}=(-\\frac{1}{n^2}-2n)\\frac{dn}{dy}$$\n",
    "\n",
    "$$dy=[(1-n^2)(-\\frac{1}{n^2}-2n)]dn$$\n",
    "\n",
    "积分$$y=-\\frac{n^2}{2}+\\frac{2n^5}{5}+\\frac{1}{n}+c$$\n",
    "\n",
    "所以，$$方程的通解为\n",
    "\\begin{cases}\n",
    "x=\\frac{1}{n}-n^2\\\\\n",
    "y=-\\frac{n^2}{2}+\\frac{2n^5}{5}+\\frac{1}{n}+c \n",
    "\\end{cases}\n",
    "$$\n",
    " $$(n为参数，c为任意常数)$$"
   ]
  },
  {
   "cell_type": "markdown",
   "metadata": {},
   "source": [
    "$(3)y=y'^2e^{y'}$\n",
    "\n",
    "设y'=p,则原方程可化为$$y=p^2e^p$$\n",
    "\n",
    "对x求导数，则$$p=(2p+p^2)e^p\\frac{dp}{dx},即dx=(p+2)e^pdp$$\n",
    "\n",
    "积分得$$x=(p+1)e^p+c$$\n",
    "\n",
    "所以，$$方程的通解为\n",
    "\\begin{cases}\n",
    "x=(p+1)e^p+c\\\\\n",
    "y=p^2e^p  \n",
    "\\end{cases}\n",
    "$$\n",
    "$$(p为参数，c为任意常数,y=0也是方程的解)$$"
   ]
  },
  {
   "cell_type": "markdown",
   "metadata": {},
   "source": [
    "$(4)y(1+y'^2)=2a  (a为常数)$\n",
    "设y'=tan t,则原方程化为$$y=2a(cost)^2$$\n",
    "\n",
    "两端关于x求导可得$$tan t=-2axin 2t\\frac{dt}{dx},即dx=-4a(cos t)^2dt$$\n",
    "\n",
    "积分$$x=-a(2t+sin 2t)+c$$\n",
    "\n",
    "则$$方程的通解为\n",
    "\\begin{cases}\n",
    "x=-a(2t+sin 2t)+c\\\\\n",
    "y=2a(cos t)^2    \n",
    "\\end{cases}\n",
    "$$ \n",
    "$$(t为参数，c为任意常数,y=2a也是方程的解)$$"
   ]
  },
  {
   "cell_type": "markdown",
   "metadata": {},
   "source": [
    "$(5)x^2+y'^2=1$\n",
    "\n",
    "设y'=cos t,则方程可化为$$x=sin t$$\n",
    "\n",
    "对y求导,dy=cos^2tdt,积分得$$y=\\frac{t}{2}+\\frac{sin 2t}{4}+c$$\n",
    "\n",
    "所以，$$方程的通解为\n",
    "\\begin{cases}\n",
    "x=sin t\\\\\n",
    "y=\\frac{t}{2}+\\frac{sin 2t}{4}+c  \n",
    "\\end{cases}\n",
    "$$\n",
    "$$(t为参数，c为任意常数)$$"
   ]
  },
  {
   "cell_type": "markdown",
   "metadata": {},
   "source": [
    "$(6)y^2(y'-1）=（2-y'）^2$\n",
    "令2-y'=ty,原方程化为$$y^2(1-yt)=y^2t^2$$\n",
    "\n",
    "由此得$$y=\\frac{1}{t}-t,且y'=1+t^2$$\n",
    "\n",
    "则$$dx=\\frac{dy}{y'}=\\frac{-\\frac{1}{t^2}-1}{1+t^2}dt=\\frac{-dt}{t^2}$$\n",
    "\n",
    "积分$$x=\\frac{1}{t}+c$$\n",
    "\n",
    "则$$原方程的参数形式的通解为\n",
    "\\begin{cases}\n",
    "x=\\frac{1}{t}+c\\\\\n",
    "y=\\frac{1}{t}-c\n",
    "\\end{cases}\n",
    "$$  \n",
    "$$(c为任意常数)$$"
   ]
  },
  {
   "cell_type": "markdown",
   "metadata": {
    "collapsed": true
   },
   "source": [
    "# <font color='red'>A 26/9"
   ]
  },
  {
   "cell_type": "code",
   "execution_count": null,
   "metadata": {
    "collapsed": true
   },
   "outputs": [],
   "source": []
  }
 ],
 "metadata": {
  "kernelspec": {
   "display_name": "SageMath 7.3",
   "language": "",
   "name": "sagemath"
  },
  "language_info": {
   "codemirror_mode": {
    "name": "ipython",
    "version": 2
   },
   "file_extension": ".py",
   "mimetype": "text/x-python",
   "name": "python",
   "nbconvert_exporter": "python",
   "pygments_lexer": "ipython2",
   "version": "2.7.10"
  }
 },
 "nbformat": 4,
 "nbformat_minor": 0
}
