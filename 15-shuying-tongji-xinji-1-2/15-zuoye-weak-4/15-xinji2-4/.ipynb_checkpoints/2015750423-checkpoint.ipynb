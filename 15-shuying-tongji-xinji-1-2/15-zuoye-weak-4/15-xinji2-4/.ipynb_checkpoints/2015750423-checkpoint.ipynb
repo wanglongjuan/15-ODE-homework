{
 "cells": [
  {
   "cell_type": "markdown",
   "metadata": {},
   "source": [
    "# 9月20日"
   ]
  },
  {
   "cell_type": "markdown",
   "metadata": {},
   "source": [
    "2.求下列方程的解:"
   ]
  },
  {
   "cell_type": "markdown",
   "metadata": {},
   "source": [
    "$（8）（x+2y）\\mathrm d x+x\\mathrm d y=0$"
   ]
  },
  {
   "cell_type": "markdown",
   "metadata": {},
   "source": [
    "$M=x+2y,N=x，\\frac{\\partial M}{\\partial y}=2,\\frac{\\partial N}{\\partial x}=1.$"
   ]
  },
  {
   "cell_type": "markdown",
   "metadata": {},
   "source": [
    "$∵\\frac{\\partial M}{\\partial y}\\neq \\frac{\\partial N}{\\partial x},∴方程不是恰当微分方程.$"
   ]
  },
  {
   "cell_type": "markdown",
   "metadata": {},
   "source": [
    "$∵\\frac{\\frac{\\partial M}{\\partial y}-\\frac{\\partial N}{\\partial x}}{N}=\\frac{1}{x}，∴方程有积分因子μ=e^{\\int \\frac{1}{x}\\mathrm d x}=x.$"
   ]
  },
  {
   "cell_type": "markdown",
   "metadata": {},
   "source": [
    "$以μ=x乘以方程两边得到x^2\\mathrm d x+2xy\\mathrm d x+x^2\\mathrm d y=0,即\\mathrm d (x^2y+\\frac{1}{3}x^3)=0.$"
   ]
  },
  {
   "cell_type": "markdown",
   "metadata": {},
   "source": [
    "$∴方程的通解为x^3+3x^2y=c$"
   ]
  },
  {
   "cell_type": "markdown",
   "metadata": {},
   "source": [
    "$（9）[x\\cos (x+y)+\\sin (x+y)]\\mathrm d x+x\\cos (x+y)\\mathrm d y=0$"
   ]
  },
  {
   "cell_type": "markdown",
   "metadata": {},
   "source": [
    "$M=x\\cos (x+y)+\\sin (x+y),N=x\\cos (x+y)$"
   ]
  },
  {
   "cell_type": "markdown",
   "metadata": {},
   "source": [
    "$\\frac{\\partial M}{\\partial y}=-x\\sin (x+y)+\\cos (x+y),\\frac{\\partial N}{\\partial x}=\\cos (x+y)-x\\sin (x+y).$"
   ]
  },
  {
   "cell_type": "markdown",
   "metadata": {},
   "source": [
    "$∵\\frac{\\partial M}{\\partial y}= \\frac{\\partial N}{\\partial x},∴方程是恰当微分方程.$"
   ]
  },
  {
   "cell_type": "markdown",
   "metadata": {},
   "source": [
    "$∵方程可化为\\mathrm d (x\\sin (x+y))=0,$"
   ]
  },
  {
   "cell_type": "markdown",
   "metadata": {},
   "source": [
    "$∴方程的通解为x\\sin (x+y)=c$"
   ]
  },
  {
   "cell_type": "markdown",
   "metadata": {},
   "source": [
    "$（10）(y\\cos x-x\\sin x)\\mathrm dx+(y\\sin x+x\\cos x)\\mathrm d y$"
   ]
  },
  {
   "cell_type": "markdown",
   "metadata": {},
   "source": [
    "$M=y\\cos x-x\\sin x,N=y\\sin x+x\\cos x$"
   ]
  },
  {
   "cell_type": "markdown",
   "metadata": {},
   "source": [
    "$\\frac{\\partial M}{\\partial y}=\\cos x,\\frac{\\partial N}{\\partial x}=y\\cos x+\\cos x-x\\sin x.$"
   ]
  },
  {
   "cell_type": "markdown",
   "metadata": {},
   "source": [
    "$∵\\frac{\\partial M}{\\partial y}\\neq \\frac{\\partial N}{\\partial x},∴方程不是恰当微分方程.$"
   ]
  },
  {
   "cell_type": "markdown",
   "metadata": {},
   "source": [
    "$∵\\frac{\\frac{\\partial M}{\\partial y}-\\frac{\\partial N}{\\partial x}}{-M}=1,∴方程有积分因子μ=e^{\\int 1\\mathrm d y}=e^y.$"
   ]
  },
  {
   "cell_type": "markdown",
   "metadata": {},
   "source": [
    "$以μ=x乘以方程两边得到(ye^y\\cos x\\mathrm d x+ye^y\\sin x\\mathrm d y)+(e^y\\cos x\\mathrm d y-e^yx\\sin x\\mathrm d x)=0$"
   ]
  },
  {
   "cell_type": "markdown",
   "metadata": {},
   "source": [
    "$即\\mathrm d [(y-1)e^y\\sin x+e^yx\\cos x]=0$"
   ]
  },
  {
   "cell_type": "markdown",
   "metadata": {},
   "source": [
    "$∴方程的通解为e^yx\\cos x+e^y(y-1)\\sin x=c$"
   ]
  },
  {
   "cell_type": "markdown",
   "metadata": {},
   "source": [
    "$（11）x(4y\\mathrm d x+2x\\mathrm d y)+y^3(3y\\mathrm d x+5x\\mathrm d y)=0$"
   ]
  },
  {
   "cell_type": "markdown",
   "metadata": {},
   "source": [
    "$x(4y\\mathrm d x+2x\\mathrm d y=\\mathrm d (2x^2y)$"
   ]
  },
  {
   "cell_type": "markdown",
   "metadata": {},
   "source": [
    "$对于方程y^3(3y\\mathrm d x+5x\\mathrm d y)=0，M=3y^4,N=5xy^3$"
   ]
  },
  {
   "cell_type": "markdown",
   "metadata": {},
   "source": [
    "$\\frac{\\partial M}{\\partial y}=12y^3,\\frac{\\partial N}{\\partial x}=5y^3$"
   ]
  },
  {
   "cell_type": "markdown",
   "metadata": {},
   "source": [
    "$∵\\frac{\\partial M}{\\partial y}\\neq \\frac{\\partial N}{\\partial x},∴方程不是恰当微分方程.$"
   ]
  },
  {
   "cell_type": "markdown",
   "metadata": {},
   "source": [
    "$∵\\frac{\\frac{\\partial M}{\\partial y}-\\frac{\\partial N}{\\partial x}}{N}=\\frac{7}{5x},∴方程有积分因子μ=e^{\\int \\frac{7}{5x}\\mathrm d x}=x^{\\frac{7}{5}}.$"
   ]
  },
  {
   "cell_type": "markdown",
   "metadata": {},
   "source": [
    "$以μ=x^{\\frac{7}{5}}乘以方程y^3(3y\\mathrm d x+5x\\mathrm d y)=0两边得到3y^4x^{\\frac{7}{5}}\\mathrm d x+5x^{\\frac{12}{5}}y^3\\mathrm d y=0$"
   ]
  },
  {
   "cell_type": "markdown",
   "metadata": {},
   "source": [
    "$即\\mathrm d (\\frac{5}{4}x^{\\frac{12}{5}}y^4)=0$"
   ]
  },
  {
   "cell_type": "markdown",
   "metadata": {},
   "source": [
    "$∴原方程的通解为2x^2y+\\frac{5}{4}x^{\\frac{12}{5}}y^4=c$"
   ]
  },
  {
   "cell_type": "markdown",
   "metadata": {},
   "source": [
    "4.设$f(x,y)$及$\\frac{\\partial f}{\\partial y}$连续，试证方程$\\mathrm d y-f(x,y)\\mathrm d x=0$为线性微分方程的充要条件是它有仅依赖于x的积分因子."
   ]
  },
  {
   "cell_type": "markdown",
   "metadata": {},
   "source": [
    "$充分性：设方程\\mathrm d y-f(x,y)\\mathrm d x=0有仅依赖于x的积分因子。$"
   ]
  },
  {
   "cell_type": "markdown",
   "metadata": {},
   "source": [
    "$由于积分因子依赖于x,∴存在\\varphi (x)满足\\frac{\\frac{\\partial M}{\\partial y}-\\frac{\\partial N}{\\partial x}}{N}=\\frac{-\\frac{\\partial f}{\\partial y}-0}{1}=\\varphi (x)$"
   ]
  },
  {
   "cell_type": "markdown",
   "metadata": {},
   "source": [
    "$即\\frac{\\partial f}{\\partial y}=-\\varphi (x)$"
   ]
  },
  {
   "cell_type": "markdown",
   "metadata": {},
   "source": [
    "$对上式两边积分后得f(x,y)=-\\varphi (x)y+h(x),h(x)是关于x的任意可微函数.$"
   ]
  },
  {
   "cell_type": "markdown",
   "metadata": {},
   "source": [
    "$∴原方程可化为\\frac {\\mathrm d y}{\\mathrm d x}=-\\varphi (x)y+h(x)$"
   ]
  },
  {
   "cell_type": "markdown",
   "metadata": {},
   "source": [
    "$即方程\\mathrm d y-f(x,y)\\mathrm d x=0是线性微分方程.$"
   ]
  },
  {
   "cell_type": "markdown",
   "metadata": {},
   "source": [
    "$必要性：设方程\\mathrm d y-f(x,y)\\mathrm d x=0是线性微分方程，$"
   ]
  },
  {
   "cell_type": "markdown",
   "metadata": {},
   "source": [
    "$即存在函数g(x),h(x)使得f(x,y)=yg(x)+h(x).$"
   ]
  },
  {
   "cell_type": "markdown",
   "metadata": {},
   "source": [
    "$M=-f(x,y)=-yg(x)-h(x),N=1$"
   ]
  },
  {
   "cell_type": "markdown",
   "metadata": {},
   "source": [
    "$\\frac{\\partial M}{\\partial y}=-g(x), \\frac{\\partial N}{\\partial x}=0$"
   ]
  },
  {
   "cell_type": "markdown",
   "metadata": {},
   "source": [
    "$∵\\frac{\\partial M}{\\partial y}\\neq \\frac{\\partial N}{\\partial x},∴方程不是恰当微分方程.$"
   ]
  },
  {
   "cell_type": "markdown",
   "metadata": {},
   "source": [
    "$∵\\frac{\\frac{\\partial M}{\\partial y}-\\frac{\\partial N}{\\partial x}}{N}=-\\frac{g(x)}{1}=-g(x),∴方程有积分因子μ=e^{\\int {-g(x)}\\mathrm d x}$"
   ]
  },
  {
   "cell_type": "markdown",
   "metadata": {},
   "source": [
    "$即方程有仅依赖于x的积分因子.$"
   ]
  },
  {
   "cell_type": "markdown",
   "metadata": {},
   "source": [
    "8.求出伯努利微分方程的积分因子."
   ]
  },
  {
   "cell_type": "markdown",
   "metadata": {},
   "source": [
    "$伯努利方程为\\frac{\\mathrm d y}{\\mathrm d x}=p(x)y+q(x)y^n$"
   ]
  },
  {
   "cell_type": "markdown",
   "metadata": {},
   "source": [
    "$可化为\\mathrm d y-p(x)y\\mathrm d x-q(x)y^n\\mathrm d x=0$"
   ]
  },
  {
   "cell_type": "markdown",
   "metadata": {},
   "source": [
    "$方程两边同乘以y^{-n}得:y^{-n}\\mathrm d y-p(x)y^{1-n}\\mathrm d x-q(x)\\mathrm d x=0$"
   ]
  },
  {
   "cell_type": "markdown",
   "metadata": {},
   "source": [
    "$即\\mathrm d (y^{1-n})-(1-n)p(x)y^{1-n}\\mathrm d x-(1-n)q(x)\\mathrm d x=0$"
   ]
  },
  {
   "cell_type": "markdown",
   "metadata": {},
   "source": [
    "$再乘以e^{-(1-n)\\int p(x)\\mathrm d x}得$"
   ]
  },
  {
   "cell_type": "markdown",
   "metadata": {},
   "source": [
    "$e^{-(1-n)\\int p(x)\\mathrm d x}[\\mathrm d (y^{1-n})-(1-n)p(x)y^{1-n}\\mathrm d x]-e^{-(1-n)\\int p(x)\\mathrm d x}(1-n)q(x)\\mathrm d x=0$"
   ]
  },
  {
   "cell_type": "markdown",
   "metadata": {},
   "source": [
    "$即\\mathrm d [y^{1-n}e^{-(1-n)\\int p(x)\\mathrm d x}]-\\mathrm d [\\int{(1-n)q(x)e^{-(1-n)\\int p(x)\\mathrm d x}(1-n)q(x)}\\mathrm dx]=0$"
   ]
  },
  {
   "cell_type": "markdown",
   "metadata": {},
   "source": [
    "$∴积分因子为μ=y^{-n}e^{(1-n)\\int p(x)\\mathrm d x}.$"
   ]
  },
  {
   "cell_type": "markdown",
   "metadata": {},
   "source": [
    "# 9月21日"
   ]
  },
  {
   "cell_type": "markdown",
   "metadata": {},
   "source": [
    "1.求解下列方程："
   ]
  },
  {
   "cell_type": "markdown",
   "metadata": {},
   "source": [
    "$（1）x{y^\\prime}^3=1+y^\\prime;$"
   ]
  },
  {
   "cell_type": "markdown",
   "metadata": {},
   "source": [
    "$原方程可化为x=\\frac{1+y^\\prime}{{y^\\prime}^3}$"
   ]
  },
  {
   "cell_type": "markdown",
   "metadata": {},
   "source": [
    "$令\\frac{\\mathrm d y}{\\mathrm d x}=p,得到x=\\frac{1}{p^3}+\\frac{1}{p^2}\\neq 0$"
   ]
  },
  {
   "cell_type": "markdown",
   "metadata": {},
   "source": [
    "$对上式两边同时对y求导，得到\\frac{1}{p}=(-\\frac{3}{p^4}-\\frac{2}{p^3})\\frac{\\mathrm d p}{\\mathrm d y}$\n"
   ]
  },
  {
   "cell_type": "markdown",
   "metadata": {},
   "source": [
    "$两边积分，得到y=\\frac{3}{2p^2}+\\frac{2}{p}+c$"
   ]
  },
  {
   "cell_type": "markdown",
   "metadata": {},
   "source": [
    "$∴方程的通解为\\begin{cases}x=\\frac{1}{p^3}+\\frac{1}{p^2}\\\\y=\\frac{1}{2p^2}+\\frac{2}{p}+c\\end{cases},p\\neq 0.$"
   ]
  },
  {
   "cell_type": "markdown",
   "metadata": {},
   "source": [
    "$（2）{y^\\prime}^3-x^3(1-y^\\prime)=0;$"
   ]
  },
  {
   "cell_type": "markdown",
   "metadata": {},
   "source": [
    "$令y^\\prime=tx,则原方程可化为x^3(t^3-1+tx)=0$"
   ]
  },
  {
   "cell_type": "markdown",
   "metadata": {},
   "source": [
    "$即得x=\\frac{1}{t}-t^2$"
   ]
  },
  {
   "cell_type": "markdown",
   "metadata": {},
   "source": [
    "$两边对y求导得\\frac{1}{1-t^3}=(-\\frac{1}{t^2}-2t)\\frac{\\mathrm d t}{\\mathrm d y}$"
   ]
  },
  {
   "cell_type": "markdown",
   "metadata": {},
   "source": [
    "$即\\mathrm d y=[(1-t^3)(-\\frac{1}{t^2}-2]\\mathrm d t$"
   ]
  },
  {
   "cell_type": "markdown",
   "metadata": {},
   "source": [
    "$两边积分得y=-\\frac{1}{2}t^2+\\frac{2}{5}t^5+\\frac{1}{t}+c$"
   ]
  },
  {
   "cell_type": "markdown",
   "metadata": {},
   "source": [
    "$∴方程的通解为\\begin{cases}x=\\frac{1}{t}-t^2\\\\y=-\\frac{1}{2}t^2+\\frac{2}{5}t^5+\\frac{1}{t}+c\\end{cases}$"
   ]
  },
  {
   "cell_type": "markdown",
   "metadata": {},
   "source": [
    "$（3）y={y^\\prime}^2e^{y^\\prime};$"
   ]
  },
  {
   "cell_type": "markdown",
   "metadata": {},
   "source": [
    "$令y^\\prime=p,则原方程可化为y=p^2e^p$"
   ]
  },
  {
   "cell_type": "markdown",
   "metadata": {},
   "source": [
    "$对x求导得到p=(2p+p^2)e^p\\frac{\\mathrm d p}{\\mathrm d x}$"
   ]
  },
  {
   "cell_type": "markdown",
   "metadata": {},
   "source": [
    "$两边积分得x=(p+1)e^p+c$"
   ]
  },
  {
   "cell_type": "markdown",
   "metadata": {},
   "source": [
    "$∴方程的通解为\\begin{cases}x=(p+1)e^p+c\\\\y=p^2e^p\\end{cases}$"
   ]
  },
  {
   "cell_type": "markdown",
   "metadata": {},
   "source": [
    "$（4）y(1+{y^\\prime}^2)=2a(a为常数);$"
   ]
  },
  {
   "cell_type": "markdown",
   "metadata": {},
   "source": [
    "$令y^\\prime=\\tan t,则原方程可化为y=2a\\cos ^2t$"
   ]
  },
  {
   "cell_type": "markdown",
   "metadata": {},
   "source": [
    "$两边对x求导得\\tan t=-2a\\sin 2t\\frac{\\mathrm d t}{\\mathrm d x}$"
   ]
  },
  {
   "cell_type": "markdown",
   "metadata": {},
   "source": [
    "$两边积分得x=-a(2t+\\sin 2t+c)$"
   ]
  },
  {
   "cell_type": "markdown",
   "metadata": {},
   "source": [
    "$∴方程的通解为\\begin{cases}x=-a(2t+\\sin 2t+c)\\\\y=2a\\cos ^2t\\end{cases}$"
   ]
  },
  {
   "cell_type": "markdown",
   "metadata": {},
   "source": [
    "$（5）x^2+{y^\\prime}^2=1;$"
   ]
  },
  {
   "cell_type": "markdown",
   "metadata": {},
   "source": [
    "$令y^\\prime=\\cos t,则方程可化为x^2+\\cos ^2t=1$"
   ]
  },
  {
   "cell_type": "markdown",
   "metadata": {},
   "source": [
    "$解得x=\\sin t$"
   ]
  },
  {
   "cell_type": "markdown",
   "metadata": {},
   "source": [
    "$对y求导得\\frac{1}{\\cos t}=\\cos \\frac{\\mathrm d t}{\\mathrm d y}$"
   ]
  },
  {
   "cell_type": "markdown",
   "metadata": {},
   "source": [
    "$两边积分得y=\\frac{t}{2}+\\frac{\\sin 2t}{4}+c$"
   ]
  },
  {
   "cell_type": "markdown",
   "metadata": {},
   "source": [
    "$∴方程的通解为\\begin{cases}x=\\sin t\\\\y=\\frac{t}{2}+\\frac{\\sin 2t}{4}+c\\end{cases}$"
   ]
  },
  {
   "cell_type": "markdown",
   "metadata": {},
   "source": [
    "$（6）y^2(y^\\prime-1)=(2-y^\\prime)^2.$"
   ]
  },
  {
   "cell_type": "markdown",
   "metadata": {
    "collapsed": true
   },
   "source": [
    "$令2-y^\\prime=yt,则原方程可化为y^2(1-yt)=y^2t^2$"
   ]
  },
  {
   "cell_type": "markdown",
   "metadata": {},
   "source": [
    "$得y=\\frac{1}{t}-t,y^\\prime=1+t^2$"
   ]
  },
  {
   "cell_type": "markdown",
   "metadata": {},
   "source": [
    "$\\mathrm d x=\\frac{\\mathrm d y}{y^\\prime}=\\frac{(-\\frac{1}{t^2}-1)\\mathrm d t}{1+t^2}=-\\frac{1}{t^2}\\mathrm d t$"
   ]
  },
  {
   "cell_type": "markdown",
   "metadata": {},
   "source": [
    "$两边积分得x=\\frac{1}{t}+c$"
   ]
  },
  {
   "cell_type": "markdown",
   "metadata": {},
   "source": [
    "$∴方程的通解为\\begin{cases}x=\\frac{1}{t}+c\\\\y=\\frac{1}{t}-t\\end{cases}$"
   ]
  },
  {
   "cell_type": "markdown",
   "metadata": {
    "collapsed": true
   },
   "source": [
    "# <font color='red'>A 26/9"
   ]
  },
  {
   "cell_type": "code",
   "execution_count": null,
   "metadata": {
    "collapsed": true
   },
   "outputs": [],
   "source": []
  }
 ],
 "metadata": {
  "kernelspec": {
   "display_name": "SageMath 7.3",
   "language": "",
   "name": "sagemath"
  },
  "language_info": {
   "codemirror_mode": {
    "name": "ipython",
    "version": 2
   },
   "file_extension": ".py",
   "mimetype": "text/x-python",
   "name": "python",
   "nbconvert_exporter": "python",
   "pygments_lexer": "ipython2",
   "version": "2.7.10"
  }
 },
 "nbformat": 4,
 "nbformat_minor": 0
}
