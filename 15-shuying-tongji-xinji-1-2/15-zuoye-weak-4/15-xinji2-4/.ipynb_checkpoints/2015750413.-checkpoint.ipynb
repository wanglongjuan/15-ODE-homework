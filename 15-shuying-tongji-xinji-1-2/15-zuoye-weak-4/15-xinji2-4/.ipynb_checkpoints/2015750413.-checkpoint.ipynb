{
 "cells": [
  {
   "cell_type": "markdown",
   "metadata": {},
   "source": [
    "**一.求下列方程的解**\n",
    "$$(1).(y-x^2)dx+xdy=0$$\n",
    "$$\\frac{\\partial(y-x^2)}{\\partial y}=1,\\frac{\\partial(x)}{\\partial x}=1$$\n",
    "$$所以（1）为恰当微分方程$$\n",
    "$$现在求u,使其满足如下两方程：$$\n",
    "$$\\frac{\\partial u}{\\partial x}=y-x^2......(1)$$\n",
    "$$\\frac{\\partial u}{\\partial y}=x    ......(2)$$\n",
    "$$由（1）对x积分得：$$\n",
    "$$u=xy-\\frac{1}{3}x^3+\\phi(y)......(3)$$\n",
    "$$为了确定\\phi(y),将（3）对y求导数，并使其满足（2），即得$$\n",
    "$$\\frac{\\partial u}{\\partial y}=x+\\frac{d(\\phi(y)}{dy}=x$$\n",
    "$$于是\\frac{d(\\phi(y)}{dy}=0$$\n",
    "$$积分后\\phi(y)=k (k为任意常数）$$\n",
    "$$将\\phi(y)代入（3），得到：$$\n",
    "$$u=xy-\\frac{1}{3}x^3+k$$\n",
    "$$通解为：xy-\\frac{1}{3}x^3=c  (c为任意常数）$$"
   ]
  },
  {
   "cell_type": "markdown",
   "metadata": {},
   "source": [
    "$$(2).[xcos(x+y)+sin(x+y)]dx+xcos(x+y)dy=0$$\n",
    "$$\\frac{\\partial[xcos(x+y)+sin(x+y)]}{\\partial y}=cos(x+y)+xsin(x+y),\\frac{\\partial[xcos(x+y)]}{\\partial x}=cos(x+y)+xsin(x+y)$$\n",
    "$$所以（2）为恰当微分方程$$\n",
    "$$现在求u,使其满足如下两方程：$$\n",
    "$$\\frac{\\partial u}{\\partial x}=xcos(x+y)+sin(x+y)......(1)$$\n",
    "$$\\frac{\\partial u}{\\partial y}= xcos(x+y)  ......(2)$$\n",
    "$$由（1）对x积分得：$$\n",
    "$$u=xsin(x+y)+\\phi(y)......(3)$$\n",
    "$$为了确定\\phi(y),将（3）对y求导数，并使其满足（2），即得$$\n",
    "$$\\frac{\\partial u}{\\partial y}=xcos(x+y)+\\frac{d(\\phi(y)}{dy}=xcos(x+y)$$\n",
    "$$于是\\frac{d(\\phi(y)}{dy}=0$$\n",
    "$$积分后\\phi(y)=k (k为任意常数）$$\n",
    "$$将\\phi(y)代入（3），得到：$$\n",
    "$$u=xsin(x+y)+k$$\n",
    "$$通解为：xsin(x+y)=c  (c为任意常数）$$"
   ]
  },
  {
   "cell_type": "markdown",
   "metadata": {},
   "source": [
    "$$(3).(ycosx-xsinx)dx+(ysinx+xcosx)dy=0$$\n",
    "$$\\frac{\\partial(ycosx-xsinx)}{\\partial y}=cosx,\\frac{\\partial(ysinx+xcosx)}{\\partial x}=（y+1）cosx-xsinx$$\n",
    "$$所以（1）不是恰当微分方程$$\n",
    "$$对于方程（3），如果存在只与x有关的积分因子\\mu=\\mu(x),则\\frac{\\partial \\mu}{\\partial y}=0,$$\n",
    "$$这时方程（3）变为$$\n",
    "$$(ysinx+xcosx)\\frac{d\\mu}{dx}=(\\frac{\\partial (ycosx-xsinx)}{\\partial y}-\\frac{\\partial (ysinx+xcosx)}{\\partial x})\\mu$$\n",
    "$$令\\psi(x)=\\frac{\\frac{\\partial (ycosx-xsinx)}{\\partial y}-\\frac{\\partial (ysinx+xcosx)}{\\partial x}}{(ysinx+xcosx)}$$\n",
    "$$\\psi(x)=1$$\n",
    "$$\\mu=e^{\\int \\psi(x) \\mathrm d y}=e^y$$\n",
    "$$方程两边同时乘以积分因子y得：$$\n",
    "$$(y^2\\cos x-xy\\sin x)\\mathrm d x+(y^2\\sin x+xy\\cos x)\\mathrm d y=0$$\n",
    "$$用恰当微分方程的解法可以求得：$$\n",
    "$$y^2\\sin x+xy\\cos x-y\\sin x=c是方程的解。$$"
   ]
  },
  {
   "cell_type": "markdown",
   "metadata": {},
   "source": [
    "$$(4).x(4ydx+2xdy)+y^3(3ydx+5xdy)=0$$\n",
    "$$4xydx+2x^2dy+3y^4dx+5xy^3dy=0$$\n",
    "$$d(2x^2y)+d(2x^2y)+d(3y^4x)+d(\\frac{5}{4}xy^4)=0$$\n",
    "$$通解为：4x^2y+3y^4x+\\frac{5}{4}xy^4=c  (c为任意常数）$$"
   ]
  },
  {
   "cell_type": "markdown",
   "metadata": {},
   "source": [
    "**二.设f(x,y)及\\frac{\\partial f}{\\partial y}连续，试证方程dy-f(x,y)dx=0为线性微分方程的充分必要条件是它有仅依赖于x的积分因子**\n",
    "$$证明：充分性$$\n",
    "\n",
    "$$已知\\mathrm d y-f(x,y)\\mathrm d x=0有仅依赖于x的积分因子，即存在某个\\varphi(x)满足$$\n",
    "\n",
    "$$\\frac{\\frac{\\partial M}{\\partial y}-\\frac{\\partial N}{\\partial x}}{N}=\\frac{-\\frac{\\partial f}{\\partial y}-0}{1}=\\varphi(x)$$\n",
    "\n",
    "$$及\\frac{\\partial f}{\\partial y}=-\\varphi(x)$$\n",
    "\n",
    "$$对其积分有f(x,y)=-\\varphi(x)y+h(x)$$\n",
    "\n",
    "$$\\frac{\\mathrm d y}{\\mathrm d x}=-\\varphi(x)y+h(x)这里h(x)是关于x的任意可微函数。$$\n",
    "\n",
    "$$即证方程\\mathrm d y-f(x,y)\\mathrm d x=0为线性微分方程。$$\n",
    "\n",
    "$$必要性$$\n",
    "\n",
    "$$设方程\\mathrm d y-f(x,y)\\mathrm d x=0为线性微分方程，即存在g(x),h(x)使得$$\n",
    "\n",
    "$$f(x,y)=g(x)y+h(x)$$\n",
    "\n",
    "$$M=-f(x,y)=-yg(x)-h(x),N=1$$\n",
    "\n",
    "$$\\frac{\\frac{\\partial M}{\\partial y}-\\frac{\\partial N}{\\partial x}}{N}=\\frac{-g(x)}{1}=-g(x)$$\n",
    "\n",
    "$$所以方程有仅依赖x的积分因子。$$"
   ]
  },
  {
   "cell_type": "markdown",
   "metadata": {},
   "source": [
    "**三.求出伯努利微分方程的积分因子**\n",
    "$$伯努利微分方程:$$\n",
    "$$\\frac{\\mathrm d y}{\\mathrm d x}=P(x)y+Q(x)y^n$$\n",
    "$$将伯努利方程化简为线性微分方程，令z=y^{1-n}即得:$$\n",
    "\n",
    "$$\\frac{\\mathrm d z}{\\mathrm d x}=(1-n)P(x)z+(1-n)Q(x)$$\n",
    "\n",
    "$$M=(1-n)P(x)z+(1-n)Q(x),N=-1$$\n",
    "\n",
    "$$\\frac{\\frac{\\partial M}{\\partial z}-\\frac{\\partial N}{\\partial x}}{N}=(n-1)P(x)$$\n",
    "\n",
    "$$积分因子为\\mu=e^{\\int (n-1)P(x)}$$"
   ]
  },
  {
   "cell_type": "markdown",
   "metadata": {},
   "source": [
    "**四.求解下列方程**\n",
    "$$（1）.xy'^3=1+y';$$\n",
    "$$记y'=\\frac{dy}{dx}=t,则有：$$\n",
    "$$x=\\frac{1+t}{t^3}$$\n",
    "$$于是dy=\\frac{-3-2t}{t^3}dt$$\n",
    "$$\\begin{cases}\n",
    "x=\\frac{1+t}{t^3}\\\\\n",
    "y=\\frac{3+4t}{2t^2}\n",
    "\\end{cases}$$"
   ]
  },
  {
   "cell_type": "markdown",
   "metadata": {},
   "source": [
    "$$(2).y'^3-x^3(1-y')=0;$$\n",
    "$$记y'=\\frac{dy}{dx}=tx,x=t^{-1}-t^2,则有：$$\n",
    "$$t^3-(1-tx)=0,y=t^{-1}-\\frac{1}{2}t^2+\\frac{2}{5}t^5+c,$$\n",
    "$$又有：dy=txdx=t(t^{-1}-t^2)d(t^{-1}-t^2)$$\n",
    "$$=(-t^{-2}-t+2t^4)dt$$\n",
    "$$积分得：$$\n",
    "$$y=t^{-1}-\\frac{1}{2}t^2+\\frac{2}{5}t^5+c$$\n",
    "$$解得：$$\n",
    "$$\\begin{cases}\n",
    "x=t^{-1}-t^2\\\\\n",
    "y=t^{-1}-\\frac{1}{2}t^2+\\frac{2}{5}t^5+c\n",
    "\\end{cases}$$"
   ]
  },
  {
   "cell_type": "markdown",
   "metadata": {},
   "source": [
    "$$(3).y=y'^2e^{y'};$$\n",
    "$$令y'=p,有y=p^2e^p及dx=\\frac{1}{p}dy=(p+2)e^pdp$$\n",
    "$$解为：y=p^2e^p,x=(p+1)e^p+c,$$\n",
    "$$另外有解y=0$$"
   ]
  },
  {
   "cell_type": "markdown",
   "metadata": {},
   "source": [
    "$$(4).y(1+y'^2)=2a$$\n",
    "$$记p=y'=\\frac{dy}{dx}=t,则有：$$\n",
    "$$y=\\frac{2a}{1+t^2}$$\n",
    "$$则有：dx=\\frac{-4a}{(1+t^2)^2}dt$$\n",
    "$$积分得x=-\\frac{2at}{1+t^2}-2aarctant+c$$\n",
    "$$通解为：\\begin{cases}\n",
    "x=-\\frac{2at}{1+t^2}-2aarctant+c\\\\\n",
    "y=\\frac{2a}{1+t^2}\n",
    "\\end{cases}$$"
   ]
  },
  {
   "cell_type": "markdown",
   "metadata": {},
   "source": [
    "$$(5).x^2+y'^2=1$$\n",
    "$$记y'=\\frac{dy}{dx}=tx,则有：$$\n",
    "$$x=\\sqrt{\\frac{1}{1+t^2}}$$\n",
    "$$于是dy=\\sqrt{\\frac{1}{(1+t^2)^3}}\\sqrt{\\frac{t^2}{1+t^2}}dt$$\n",
    "$$积分得：$$\n",
    "$$y=\\frac{1}{2(1+t^2)}$$\n",
    "$$\\begin{cases}\n",
    "x=\\sqrt{\\frac{1}{1+t^2}}\\\\\n",
    "y=\\frac{1}{2(1+t^2)}\n",
    "\\end{cases}$$"
   ]
  },
  {
   "cell_type": "markdown",
   "metadata": {},
   "source": [
    "$$(6).y^2(y'-1)=(2-y')^2$$\n",
    "$$令2-y'=yt,原方程消去y'有：$$\n",
    "$$y^2(1-yt)=y^2t^2$$\n",
    "$$y=\\frac{1}{t}-t$$\n",
    "$$并且y'=1+t^2$$\n",
    "$$dx=\\frac{dy}{y'}=-\\frac{1}{t^2}dt$$\n",
    "$$积分之，得：$$\n",
    "$$x=\\frac{1}{t}+c$$\n",
    "$$通解为：$$\n",
    "$$\\begin{cases}\n",
    "x=\\frac{1}{t}+c\\\\\n",
    "y=\\frac{1}{t}-t\n",
    "\\end{cases}$$"
   ]
  },
  {
   "cell_type": "markdown",
   "metadata": {
    "collapsed": true
   },
   "source": [
    "# <font color='red'>A 26/9"
   ]
  },
  {
   "cell_type": "code",
   "execution_count": null,
   "metadata": {
    "collapsed": true
   },
   "outputs": [],
   "source": []
  }
 ],
 "metadata": {
  "kernelspec": {
   "display_name": "SageMath 7.3",
   "language": "",
   "name": "sagemath"
  },
  "language_info": {
   "codemirror_mode": {
    "name": "ipython",
    "version": 2
   },
   "file_extension": ".py",
   "mimetype": "text/x-python",
   "name": "python",
   "nbconvert_exporter": "python",
   "pygments_lexer": "ipython2",
   "version": "2.7.10"
  }
 },
 "nbformat": 4,
 "nbformat_minor": 0
}
