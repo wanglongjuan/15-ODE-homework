{
 "cells": [
  {
   "cell_type": "markdown",
   "metadata": {},
   "source": [
    "**9月20日**"
   ]
  },
  {
   "cell_type": "markdown",
   "metadata": {},
   "source": [
    "**2 . 求下列方程的解：**\n",
    "\n",
    "**（8）.** $$(x+2y)dx+xdy=0$$"
   ]
  },
  {
   "cell_type": "markdown",
   "metadata": {},
   "source": [
    "**解;**"
   ]
  },
  {
   "cell_type": "markdown",
   "metadata": {},
   "source": [
    "设$M(x,y)=x+2y$, $N(x,y)=x$"
   ]
  },
  {
   "cell_type": "markdown",
   "metadata": {},
   "source": [
    "$$ \\frac{\\mathrm {\\partial M}}{\\mathrm {\\partial y}}=2 , \\frac{\\mathrm {\\partial N}}{\\mathrm {\\partial x}}=1$$"
   ]
  },
  {
   "cell_type": "markdown",
   "metadata": {},
   "source": [
    "**即方程不是恰当方程。**"
   ]
  },
  {
   "cell_type": "markdown",
   "metadata": {},
   "source": [
    "又：\n",
    "\n",
    "$$\\begin{equation}\n",
    "\\cfrac{\\frac {\\partial M}{\\partial y}-\\frac {\\partial N}{\\partial x}}{-M}=1\\\\\n",
    "\\end{equation}$$"
   ]
  },
  {
   "cell_type": "markdown",
   "metadata": {},
   "source": [
    "**则：方程积分因子$u$为：**\n",
    "\n",
    "$$u=e^{\\int \\frac{\\mathrm 1}{\\mathrm x}d x }=x$$"
   ]
  },
  {
   "cell_type": "markdown",
   "metadata": {},
   "source": [
    "**两边 同时乘以$u$**"
   ]
  },
  {
   "cell_type": "markdown",
   "metadata": {},
   "source": [
    "$$\\begin{aligned}\n",
    "x(x+2y)dx+x^2dy&=0\\\\\n",
    "d(\\frac{\\mathrm 1}{\\mathrm 3}x^3+x^2y）&=0\\\\\n",
    "\\end{aligned}\n",
    "$$"
   ]
  },
  {
   "cell_type": "markdown",
   "metadata": {},
   "source": [
    "**于是方程的通解为：**\n",
    "\n",
    "$$\\frac{\\mathrm 1}{\\mathrm 3}x^3+x^2y=c$$"
   ]
  },
  {
   "cell_type": "markdown",
   "metadata": {},
   "source": [
    "**(9).**$$[x\\cos(x+y)+\\sin(x+y)]dx+x\\cos(x+y)dy=0$$"
   ]
  },
  {
   "cell_type": "markdown",
   "metadata": {},
   "source": [
    "**解：**\n",
    "\n",
    "设$M(x,y)=x\\cos(x+y)+\\sin(x+y) $ , $ N(x,y)=x\\cos(x+y)$"
   ]
  },
  {
   "cell_type": "markdown",
   "metadata": {},
   "source": [
    "$$ \\frac{\\mathrm {\\partial M}}{\\mathrm {\\partial y}}=\\frac{\\mathrm {\\partial N}}{\\mathrm {\\partial x}}=cos(x+y)-x\\sin(x+y)$$"
   ]
  },
  {
   "cell_type": "markdown",
   "metadata": {},
   "source": [
    "**则方程是恰当方程，**\n",
    "\n",
    "$$\\begin{aligned}\n",
    "\\int M(x,y)dx+\\int[(N(x,y)-\\frac{\\partial  }{\\partial y}\\int M(x,y)dx]dy&=0\\\\\n",
    "\\int d(x\\sin(x+y)&=0\\\\\n",
    "x\\sin(x+y)&=c\\\\\n",
    "\\end{aligned}$$\n"
   ]
  },
  {
   "cell_type": "markdown",
   "metadata": {},
   "source": [
    "**则：方程的通解为 $ x\\sin(x+y)=c$.**"
   ]
  },
  {
   "cell_type": "markdown",
   "metadata": {},
   "source": [
    "**(10).** $$(y\\cos{x}-x\\sin{x})dx+(y\\sin{x}+x\\cos{x})dy=0$$"
   ]
  },
  {
   "cell_type": "markdown",
   "metadata": {},
   "source": [
    "**解：**\n",
    "\n",
    "设$M(x,y)=y\\cos{x}-x\\sin{x}$, $N(x,y)=y\\sin{x}+x\\cos{x}$\n",
    "\n",
    "$$\n",
    "\\begin{aligned}\n",
    "\\frac{\\mathrm {\\partial M}}{\\mathrm {\\partial y}}&=\\cos{x}\\\\\n",
    "\\frac{\\mathrm {\\partial N}}{\\mathrm {\\partial x}}&=y\\cos{x}+\\cos{x}-x\\sin{x}\\\\\n",
    "\\end{aligned}\n",
    "$$"
   ]
  },
  {
   "cell_type": "markdown",
   "metadata": {},
   "source": [
    "**则方程不是恰当方程.**"
   ]
  },
  {
   "cell_type": "markdown",
   "metadata": {},
   "source": [
    "又\n",
    "$$\\begin{equation}\n",
    "\\cfrac{\\frac{\\mathrm {\\partial M}}{\\mathrm {\\partial y}}-\\frac{\\mathrm {\\partial N}}{\\mathrm {\\partial x}}}{-M}=1\n",
    "\\end{equation}$$"
   ]
  },
  {
   "cell_type": "markdown",
   "metadata": {},
   "source": [
    "$$u=e^{\\int 1 d y }=e^y$$"
   ]
  },
  {
   "cell_type": "markdown",
   "metadata": {},
   "source": [
    "**方程两边同时乘以 $ e^y $:**"
   ]
  },
  {
   "cell_type": "markdown",
   "metadata": {},
   "source": [
    " $$e^y(y\\cos{x}-x\\sin{x})dx+e^y(y\\sin{x}+x\\cos{x})dy=0$$"
   ]
  },
  {
   "cell_type": "markdown",
   "metadata": {},
   "source": [
    "$$\\begin{aligned}\n",
    "e^y(y\\cos{x}-x\\sin{x})dx&=0\\\\\n",
    "e^y(y-1)\\sin{x}+e^yx\\cos{x}&=c\\\\\n",
    "\\end{aligned}$$\n",
    "又：$$\n",
    "e^yN-\\frac{\\mathrm \\partial}{\\mathrm \\partial{y}}\\int {e^yM} dx=0\n",
    "$$"
   ]
  },
  {
   "cell_type": "markdown",
   "metadata": {},
   "source": [
    "**因此，恰当微分方程得通解为：**"
   ]
  },
  {
   "cell_type": "markdown",
   "metadata": {},
   "source": [
    "$$e^y(y-1)\\sin{x}+e^yx\\cos{x}=c$$"
   ]
  },
  {
   "cell_type": "markdown",
   "metadata": {},
   "source": [
    "**(11)**\n",
    "\n",
    "$$x(4yd x+2xd y)+y^3(3yd x+5xd y)=0$$"
   ]
  },
  {
   "cell_type": "markdown",
   "metadata": {},
   "source": [
    "**解：**"
   ]
  },
  {
   "cell_type": "markdown",
   "metadata": {},
   "source": [
    "**原方程的前半部分是恰当方程：**\n",
    "$$4xydx+2x^2dy=d(2x^2y)$$"
   ]
  },
  {
   "cell_type": "markdown",
   "metadata": {},
   "source": [
    "**设**$M(x,y)=3y^4 $ , $N(x,y)=5xy^3$"
   ]
  },
  {
   "cell_type": "markdown",
   "metadata": {},
   "source": [
    "$$\\begin{equation}\n",
    "\\cfrac{\\frac{\\mathrm {\\partial M}}{\\mathrm {\\partial y}}-\\frac{\\mathrm {\\partial N}}{\\mathrm {\\partial x}}}{N}=\\frac{\\mathrm 7}{\\mathrm 5x}\n",
    "\\end{equation}$$"
   ]
  },
  {
   "cell_type": "markdown",
   "metadata": {},
   "source": [
    "$$u=e^{\\int {\\frac{7}{5x}dx}}=x^{\\frac{\\mathrm 7}{\\mathrm 5}}$$"
   ]
  },
  {
   "cell_type": "markdown",
   "metadata": {},
   "source": [
    "**方程**$y^3(3ydx+5xdy)=0$**乘以**$x^{\\frac{\\mathrm 7}{\\mathrm 5}}$"
   ]
  },
  {
   "cell_type": "markdown",
   "metadata": {},
   "source": [
    "$$\\begin{aligned}\n",
    "\\int x^{\\frac{\\mathrm 7}{\\mathrm 5}}Mdx+\\int N-({\\frac{\\partial}{\\partial y}\\int x^{\\frac{7}{5}}Mdx})dy&=c\\\\\n",
    "\\frac{\\mathrm 5}{\\mathrm 4}x^{\\frac{\\mathrm 12}{\\mathrm 5}}y^4&=c\\\\\n",
    "\\end{aligned}$$"
   ]
  },
  {
   "cell_type": "markdown",
   "metadata": {},
   "source": [
    "**则原方程的通解为：**\n",
    "$$2x^2y+\\frac{\\mathrm 5}{\\mathrm 4}x^{\\frac{\\mathrm 12}{\\mathrm 5}}y^4=c$$"
   ]
  },
  {
   "cell_type": "markdown",
   "metadata": {},
   "source": [
    "**4. 设**$f(x,y)$**及**$\\frac{\\partial f}{\\partial y}$**连续，试证明方程**$dy-f(x,y)dx=0$**为线性微分方程的充要条件是它有仅依赖于**$x$**的积分因子。**"
   ]
  },
  {
   "cell_type": "markdown",
   "metadata": {},
   "source": [
    "**证明：**\n",
    "\n",
    "**充分性：**若方程有仅依赖于$x$的积分因子。\n",
    "\n",
    "设有关于$x$的方程$\\varphi (x) $ , $ h(x)$ 则：$$\\frac{\\mathrm -\\frac{\\partial f}{\\partial y}-0}{\\mathrm 1}=\\varphi(x)$$"
   ]
  },
  {
   "cell_type": "markdown",
   "metadata": {},
   "source": [
    "两边同时积分得：\n",
    "\n",
    "$$f(x,y)=-\\varphi (x)y+h(x)$$"
   ]
  },
  {
   "cell_type": "markdown",
   "metadata": {},
   "source": [
    "代入原方程：$$\\frac{\\mathrm dy}{\\mathrm dx}=-\\varphi(x)y+h(x)$$** 是线性微分方程。**"
   ]
  },
  {
   "cell_type": "markdown",
   "metadata": {},
   "source": [
    "**必要性：**若方程为线性微分方程。同理存在关于$x$的函数$g(x) $ , $h(x)$.使得："
   ]
  },
  {
   "cell_type": "markdown",
   "metadata": {},
   "source": [
    "$$f(x,y)=-g (x)y+h(x)$$"
   ]
  },
  {
   "cell_type": "markdown",
   "metadata": {},
   "source": [
    "设$M=-f(x,y) $ , $N(x,y)=1$"
   ]
  },
  {
   "cell_type": "markdown",
   "metadata": {},
   "source": [
    "$$\\begin{equation}\n",
    "\\cfrac{\\frac {\\partial M}{\\partial y}-\\frac {\\partial N}{\\partial x}}{N}=-g(x)\\\\\n",
    "\\end{equation}$$"
   ]
  },
  {
   "cell_type": "markdown",
   "metadata": {},
   "source": [
    "则方程有仅依赖于$x$的积分因子$u=e^{\\int -g(x)}dx$"
   ]
  },
  {
   "cell_type": "markdown",
   "metadata": {},
   "source": [
    "**8.求出伯努利微分方程的积分因子.**"
   ]
  },
  {
   "cell_type": "markdown",
   "metadata": {},
   "source": [
    "**解：**\n",
    "\n",
    "伯努利方程为$$\\frac {\\mathrm dy}{\\mathrm dx}=P(x)y+Q(x)y^n$$移项为：\n",
    "$$(P(x)y+Q(x)y^n)dx-dy=0$$"
   ]
  },
  {
   "cell_type": "markdown",
   "metadata": {},
   "source": [
    "设$M=(P(x)y+Q(x)y^n)$ , $N(x,y)=-1$"
   ]
  },
  {
   "cell_type": "markdown",
   "metadata": {},
   "source": [
    "$$\\frac {\\partial M}{\\partial y}-\\frac {\\partial N}{\\partial x}=p(x)+ny^{n-1}Q(x)$$"
   ]
  },
  {
   "cell_type": "markdown",
   "metadata": {},
   "source": [
    "**取** $f(x)=(n-1)p(x) $ , $g(y)=-\\frac{\\mathrm n}{\\mathrm y}$"
   ]
  },
  {
   "cell_type": "markdown",
   "metadata": {},
   "source": [
    "**则满足于** $$\\frac {\\partial M}{\\partial y}-\\frac {\\partial N}{\\partial x}=Nf(x)-Mg(y)$$"
   ]
  },
  {
   "cell_type": "markdown",
   "metadata": {},
   "source": [
    "**则有积分因子：**\n",
    "\n",
    "\\begin{aligned}\n",
    "u&=e^{\\int f(x) dx+\\int g(y) dy}\\\\\n",
    "u&=y^{-n}e^{\\int (n+1)p(x) dx}\\\\\n",
    "\\end{aligned}"
   ]
  },
  {
   "cell_type": "markdown",
   "metadata": {
    "collapsed": true
   },
   "source": [
    "**9月21日**"
   ]
  },
  {
   "cell_type": "markdown",
   "metadata": {},
   "source": [
    "**1. 求解下列方程。**"
   ]
  },
  {
   "cell_type": "markdown",
   "metadata": {},
   "source": [
    "**（1）.**\n",
    "\n",
    "$$xy'^3=1+y'$$"
   ]
  },
  {
   "cell_type": "markdown",
   "metadata": {},
   "source": [
    "**解：**\n",
    "\n",
    "**设**$y'=p$；"
   ]
  },
  {
   "cell_type": "markdown",
   "metadata": {},
   "source": [
    "$$x=\\frac{\\mathrm 1+p}{\\mathrm p^3}$$"
   ]
  },
  {
   "cell_type": "markdown",
   "metadata": {},
   "source": [
    "**对上式中**$x$**求导**"
   ]
  },
  {
   "cell_type": "markdown",
   "metadata": {},
   "source": [
    "$$dx=\\frac{\\mathrm -2p^3-3p^2}{\\mathrm p^5}$$"
   ]
  },
  {
   "cell_type": "markdown",
   "metadata": {},
   "source": [
    "又\n",
    "\n",
    "$$\n",
    "\\begin{aligned}\n",
    "y&=\\int {p}dx\\\\\n",
    "y&=\\frac{\\mathrm 2}{\\mathrm p}+\\frac{\\mathrm 3}{\\mathrm 2p^2}+c\\\\\n",
    "\\end{aligned}$$"
   ]
  },
  {
   "cell_type": "markdown",
   "metadata": {},
   "source": [
    "**令** $ t=\\frac{\\mathrm 1}{\\mathrm p}$"
   ]
  },
  {
   "cell_type": "markdown",
   "metadata": {},
   "source": [
    "则方程的通解为： $$\n",
    "\\begin{cases}\n",
    "x=t^3+t^2\\\\\n",
    "y=2t+\\frac{\\mathrm 3}{\\mathrm 2}t^2+c\\\\\n",
    "\\end{cases}$$"
   ]
  },
  {
   "cell_type": "markdown",
   "metadata": {},
   "source": [
    "**(2).**\n",
    "\n",
    "$$y'^3-x^3(1-y')=0$$"
   ]
  },
  {
   "cell_type": "markdown",
   "metadata": {},
   "source": [
    "**解：**\n",
    "\n",
    "**设** $ y'=xt$"
   ]
  },
  {
   "cell_type": "markdown",
   "metadata": {},
   "source": [
    "$$\n",
    "\\begin{aligned}\n",
    "x^3t^3-x^3(1-xt)&=0\\\\\n",
    "t^3-1+xt&=0\\\\\n",
    "x&=\\frac{\\mathrm t^3-1}{\\mathrm t}\\\\\n",
    "\\end{aligned}\n",
    "$$"
   ]
  },
  {
   "cell_type": "markdown",
   "metadata": {},
   "source": [
    "$$\\begin{aligned}\n",
    "y&=\\int xt dx\\\\\n",
    "y&=\\int (1-t^3)\\frac{\\mathrm -2t^3-1}{\\mathrm t^2}dt\\\\\n",
    "y&=-\\frac{\\mathrm 1}{\\mathrm 2}t^2+\\frac{\\mathrm 1}{\\mathrm t}+\\frac{\\mathrm 2}{\\mathrm 5}t^5+c\\\\\n",
    "\\end{aligned}\n",
    "$$"
   ]
  },
  {
   "cell_type": "markdown",
   "metadata": {},
   "source": [
    "则方程的通解为：\n",
    "\\begin{cases}\n",
    "x=\\frac{\\mathrm t^3-1}{\\mathrm t}\\\\\n",
    "y=-\\frac{\\mathrm 1}{\\mathrm 2}t^2+\\frac{\\mathrm 1}{\\mathrm t}+\\frac{\\mathrm 2}{\\mathrm 5}t^5+c\\\\\n",
    "\\end{cases}"
   ]
  },
  {
   "cell_type": "markdown",
   "metadata": {},
   "source": [
    "**(3).**\n",
    "\n",
    "$$y=y'^2e^{y'}$$"
   ]
  },
  {
   "cell_type": "markdown",
   "metadata": {},
   "source": [
    "**解：**\n",
    "\n",
    "**设** $ y'=p$"
   ]
  },
  {
   "cell_type": "markdown",
   "metadata": {},
   "source": [
    "$$y=p^2e^p$$"
   ]
  },
  {
   "cell_type": "markdown",
   "metadata": {},
   "source": [
    "**对上式中**$x$**求导：**\n",
    "\n",
    "$$\n",
    "\\begin{aligned}\n",
    "p&=(2p+p^2)e^p\\frac{\\mathrm dp}{\\mathrm dx}\\\\\n",
    "dx&=e^p(2+p) dp \\\\\n",
    "x&=(p+1)e^p+c\\\\\n",
    "\\end{aligned}\n",
    "$$"
   ]
  },
  {
   "cell_type": "markdown",
   "metadata": {},
   "source": [
    "**又：**"
   ]
  },
  {
   "cell_type": "markdown",
   "metadata": {},
   "source": [
    "$$y=p^2e^p$$\n",
    "\n",
    "**又**$y'=0$**时，**$y=0$**也是方程的通解。**"
   ]
  },
  {
   "cell_type": "markdown",
   "metadata": {},
   "source": [
    "**则方程的通解为：**\n",
    "\n",
    "\\begin{cases}\n",
    "x=(p+1)e^p+c\\\\\n",
    "y=p^2e^p\\\\\n",
    "\\end{cases}\n",
    "\n",
    "，$$y=0$$"
   ]
  },
  {
   "cell_type": "markdown",
   "metadata": {},
   "source": [
    "**（4）.**\n",
    "\n",
    "$$y(1+y'^2)=2a$$"
   ]
  },
  {
   "cell_type": "markdown",
   "metadata": {},
   "source": [
    "**解：**\n",
    "\n",
    "**设** $ y'=\\tan{t}$"
   ]
  },
  {
   "cell_type": "markdown",
   "metadata": {},
   "source": [
    "$$\n",
    "\\begin{aligned}\n",
    "y&=\\frac{\\mathrm 2a}{\\mathrm 1+\\tan^2 {t}}\\\\\n",
    "y&=2a\\cos^2{t}\\\\\n",
    "\\end{aligned}\n",
    "$$"
   ]
  },
  {
   "cell_type": "markdown",
   "metadata": {},
   "source": [
    "**则：**\n",
    "\n",
    "$$\n",
    "\\begin{aligned}\n",
    "\\tan {t}&=-2a\\sin{2t}\\frac{\\mathrm dt}{\\mathrm dx}\\\\\n",
    "dx&=-4a\\cos^2 {t} dt\\\\\n",
    "x&=-2at+a\\sin {2t}+c\\\\\n",
    "\\end{aligned}\n",
    "$$\n",
    "\n",
    "$\\tan{t}=0$**时，$y=2a$也是方程的通解。**"
   ]
  },
  {
   "cell_type": "markdown",
   "metadata": {},
   "source": [
    "**则方程的通解为：**\n",
    "\\begin{cases}\n",
    "x=-2at+a\\sin {2t}+c\\\\\n",
    "y=2a\\cos^2{t}\\\\\n",
    "\\end{cases}\n",
    "\n",
    "，$$y=2a$$"
   ]
  },
  {
   "cell_type": "markdown",
   "metadata": {},
   "source": [
    "**（5）.**\n",
    "\n",
    "$$ x^2+y'^2=1$$"
   ]
  },
  {
   "cell_type": "markdown",
   "metadata": {},
   "source": [
    "**解：**\n",
    "\n",
    "**设** $ y'=\\cos {t}$"
   ]
  },
  {
   "cell_type": "markdown",
   "metadata": {},
   "source": [
    "\\begin{aligned}\n",
    "x^2+\\cos^2 {t}&=1\\\\\n",
    "x&=\\sin {t}\\\\\n",
    "\\end{aligned}"
   ]
  },
  {
   "cell_type": "markdown",
   "metadata": {},
   "source": [
    "**则：**\n",
    "\n",
    "\\begin{aligned}\n",
    "dy&=\\cos {t}dx\\\\\n",
    "dy&=\\cos^2{t}\\\\\n",
    "y&=\\frac{\\mathrm \\sin {2t}}{\\mathrm 4}+\\frac{\\mathrm t}{\\mathrm 2}+c\\\\\n",
    "\\end{aligned}"
   ]
  },
  {
   "cell_type": "markdown",
   "metadata": {},
   "source": [
    "\\begin{cases}\n",
    "x=\\sin {t}\\\\\n",
    "y=\\frac{\\mathrm \\sin {2t}}{\\mathrm 4}+\\frac{\\mathrm t}{\\mathrm 2}+c\\\\\n",
    "\\end{cases}"
   ]
  },
  {
   "cell_type": "markdown",
   "metadata": {},
   "source": [
    "**(6).**\n",
    "\n",
    "$$y^2(y'-1)=(2-y')^2$$"
   ]
  },
  {
   "cell_type": "markdown",
   "metadata": {},
   "source": [
    "**解：**\n",
    "\n",
    "**设** $2-y'=yt$"
   ]
  },
  {
   "cell_type": "markdown",
   "metadata": {
    "collapsed": true
   },
   "source": [
    "\\begin{aligned}\n",
    "y^2(1-yt)&=y^2t^2\\\\\n",
    "y&=\\frac {\\mathrm 1-t^2}{\\mathrm t}\\\\\n",
    "\\end{aligned}"
   ]
  },
  {
   "cell_type": "markdown",
   "metadata": {},
   "source": [
    "又：\n",
    "\n",
    "\\begin{aligned}\n",
    "2-\\frac{\\mathrm dy}{\\mathrm dx}&=yt\\\\\n",
    "dx&=\\frac{\\mathrm dy}{\\mathrm 2-yt}\\\\\n",
    "\\end{aligned}"
   ]
  },
  {
   "cell_type": "markdown",
   "metadata": {},
   "source": [
    "且 $ \\frac{\\mathrm dy}{\\mathrm 2-yt}=-\\frac{\\mathrm 1}{\\mathrm t^2} dt$\n",
    "\n",
    "**对两边同时积分：**\n",
    "\n",
    "$$ x=\\frac{\\mathrm 1}{\\mathrm t}+c$$"
   ]
  },
  {
   "cell_type": "markdown",
   "metadata": {},
   "source": [
    "**则方程的通解为：**\n",
    "\n",
    "\\begin{cases}\n",
    "x=\\frac{\\mathrm 1}{\\mathrm t}+c\\\\\n",
    "y=\\frac {\\mathrm 1-t^2}{\\mathrm t}\\\\\n",
    "\\end{cases}"
   ]
  },
  {
   "cell_type": "markdown",
   "metadata": {},
   "source": [
    "**消去** $ t $ **通解为：**\n",
    "\n",
    "$$y=x-\\frac{\\mathrm 1}{\\mathrm x-c}-c$$"
   ]
  },
  {
   "cell_type": "markdown",
   "metadata": {
    "collapsed": true
   },
   "source": [
    "# <font color='red'>A 26/9"
   ]
  },
  {
   "cell_type": "code",
   "execution_count": null,
   "metadata": {
    "collapsed": true
   },
   "outputs": [],
   "source": []
  }
 ],
 "metadata": {
  "kernelspec": {
   "display_name": "SageMath 7.3",
   "language": "",
   "name": "sagemath"
  },
  "language_info": {
   "codemirror_mode": {
    "name": "ipython",
    "version": 2
   },
   "file_extension": ".py",
   "mimetype": "text/x-python",
   "name": "python",
   "nbconvert_exporter": "python",
   "pygments_lexer": "ipython2",
   "version": "2.7.10"
  }
 },
 "nbformat": 4,
 "nbformat_minor": 0
}
