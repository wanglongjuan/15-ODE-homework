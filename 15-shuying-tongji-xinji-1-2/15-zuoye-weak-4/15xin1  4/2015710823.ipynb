{
 "cells": [
  {
   "cell_type": "markdown",
   "metadata": {},
   "source": [
    "常微分方程作业\n",
    "                姓名：唐梦圆  班级：信息与计算科学一班 学号：2015710823\n",
    "\n",
    "2.求下列方程的解。"
   ]
  },
  {
   "cell_type": "markdown",
   "metadata": {},
   "source": [
    "(8)$(x+2y)\\mathrm dx+x\\mathrm dy=0$"
   ]
  },
  {
   "cell_type": "markdown",
   "metadata": {},
   "source": [
    "解：$M=x+2y,N=x\\\\\n",
    "\\frac {\\partial M}{\\partial y}=2\\\\\n",
    "\\frac {\\partial N}{\\partial x}=1\\\\\n",
    "\\frac {\\partial M}{\\partial y}\\neq \\frac {\\partial N}{\\partial x},所以该方程不是恰当方程。\\\\\n",
    "\\frac{\\frac {\\partial M}{\\partial y}-\\frac {\\partial N}{\\partial x}}{N}=\\frac{1}{x}\\\\\n",
    "积分因子\\mu =e^{\\int \\frac{1}{x} \\mathrm dx}=x\\\\\n",
    "在原方程两边同乘以积分因子，得，(x^2+2xy)\\mathrm dx+x\\mathrm dy=0为恰当方程。\\\\\n",
    "得，d(\\frac{x^3}{3}+x^2 y)=0\\\\\n",
    "得，该方程的通解为\\frac{x^3}{3}+x^2 y=c$"
   ]
  },
  {
   "cell_type": "markdown",
   "metadata": {},
   "source": [
    "(9)$[x\\cos (x+y)+\\sin (x+y)]\\mathrm dx+x\\cos (x+y)\\mathrm dy=0;$"
   ]
  },
  {
   "cell_type": "markdown",
   "metadata": {},
   "source": [
    "解：$M=x\\cos (x+y)+\\sin (x+y),N=x\\cos (x+y)\\\\\n",
    "\\frac {\\partial M}{\\partial y}=-xsin(x+y)+cos(x+y)=\\frac {\\partial N}{\\partial x}\\\\\n",
    "所以该方程为恰当方程。\\\\\n",
    "原方程可化为：d(xsin(x+y))=0\\\\\n",
    "所以通解为：c=xsin(x+y)$"
   ]
  },
  {
   "cell_type": "markdown",
   "metadata": {},
   "source": [
    "(10)$(ycosx-xsinx)\\mathrm dx+(ysinx+xcosx)\\mathrm dy=0$"
   ]
  },
  {
   "cell_type": "markdown",
   "metadata": {},
   "source": [
    "解：$M=ycosx-xsinx,N=ysinx+xcosx\\\\\n",
    "\\frac {\\partial M}{\\partial y}\\neq \\frac {\\partial N}{\\partial x},所以该方程不是恰当方程。\\\\\n",
    "\\frac{\\frac {\\partial M}{\\partial y}-\\frac {\\partial N}{\\partial x}}{-M}=1\\\\\n",
    "积分因子\\mu =e^{\\int 1 \\mathrm dy}=e^y\\\\\n",
    "在原方程两边同乘以积分因子，得，e^y(ycosx-xsinx)\\mathrm dx+e^y(ysinx+xcosx)\\mathrm dy=0\\\\\n",
    "原方程可化为：d(e^ysinx(y-1)+e^ycosx)=0\\\\\n",
    "通解为：e^ysinx(y-1)+e^ycosx=c$"
   ]
  },
  {
   "cell_type": "markdown",
   "metadata": {},
   "source": [
    "(11)$x(4ydx+2xdy)+y^3(3ydx+5xdy)=0$"
   ]
  },
  {
   "cell_type": "markdown",
   "metadata": {},
   "source": [
    "解：$两边同乘以x^2y得，\\\\\n",
    "4x^3y^2\\mathrm dx+2x^4y\\mathrm dy+3x^2y^5\\mathrm dx+5x^3y^4\\mathrm dy=0\\\\\n",
    "d(x^4y^2+x^3y^5)=0\\\\\n",
    "所以原方程的通解为：x^4y^2+x^3y^5=c$"
   ]
  },
  {
   "cell_type": "markdown",
   "metadata": {},
   "source": [
    "\n",
    "4.设$f(x,y)$及$\\frac {\\partial f}{\\partial y}$连续，试证方程$dy-f(x,y)dx=0$为线性微分方程的充要条件为它有仅依赖于x的积分因子。"
   ]
  },
  {
   "cell_type": "markdown",
   "metadata": {},
   "source": [
    "证：$先证必要性：\\\\\n",
    "若该方程为线性方程，\\\\\n",
    "则\\frac{\\mathrm d y}{\\mathrm d x}=P(x)y+Q(x)\\\\\n",
    "所以积分因子为\\mu =e^{-\\int P(x) \\mathrm dx}只与x有关。\\\\\n",
    "再证充分性：\\\\\n",
    "若该方程只有与x有关的积分因子\\mu (x),\\\\\n",
    "则\\mu (x)dy-\\mu (x)f(x,y)dx=0为恰当方程，\\\\\n",
    "令M=-\\mu (x)f(x,y)，\\frac {\\partial M}{\\partial y}=\\frac {\\partial (-\\mu (x)f(x,y))}{\\partial y}=\\frac{d\\mu (x)}{x}\\\\\n",
    "\\frac {\\partial f}{\\partial y}=\\frac{-\\mu '(x)}{\\mu (x)}\\\\\n",
    "f=-\\int {\\frac{\\mu '(x)}{\\mu (x)}}\\mathrm dy+Q(x)=P(x)y+Q(x)\\\\\n",
    "其中P(x)=-\\frac{\\mu '(x)}{\\mu (x)},于是方程化为：\\frac{\\mathrm d y}{\\mathrm d x}=P(x)y+Q(x)，为线性方程。\n",
    "即证。$"
   ]
  },
  {
   "cell_type": "markdown",
   "metadata": {},
   "source": [
    "8.求出伯努利微分方程的积分因子。"
   ]
  },
  {
   "cell_type": "markdown",
   "metadata": {},
   "source": [
    "解：$伯努利方程为：\\frac{\\mathrm d y}{\\mathrm d x}=P(x)y+Q(x)y^n\\\\\n",
    "两边同除以y^n,\\\\\n",
    "y^{-n}\\frac{\\mathrm d y}{\\mathrm d x}=P(x)y^{1-n}+Q(x)\\\\\n",
    "令z=y^{-n},\\frac{\\mathrm d z}{\\mathrm d x}=(1-n)P(x)z+(1-n)Q(x),\\\\\n",
    "积分因子\\mu =e^{-\\int (1-n)P(x) \\mathrm d x}=e^{\\int (n-1)P(x) \\mathrm d x}$"
   ]
  },
  {
   "cell_type": "markdown",
   "metadata": {},
   "source": [
    "1.求解下列方程。"
   ]
  },
  {
   "cell_type": "markdown",
   "metadata": {},
   "source": [
    "(1)$xy'^3=1+y'$"
   ]
  },
  {
   "cell_type": "markdown",
   "metadata": {},
   "source": [
    "解：$令\\frac{\\mathrm d y}{\\mathrm d x}=\\frac{1}{t},\\\\\n",
    "x=t^3+t^2\\\\\n",
    "所以y=\\int {\\frac{1}{t}}\\mathrm d x+c=\\int (3t+2) \\mathrm d t\\\\\n",
    "原方程通解为：\n",
    "\\begin{cases}\n",
    "y=\\frac{3t^2}{2}+2t+c\\\\\n",
    "x=t^3+t^2\n",
    "\\end{cases}\n",
    "$"
   ]
  },
  {
   "cell_type": "markdown",
   "metadata": {},
   "source": [
    "(2)$y'^3-x^3(1-y')=0$"
   ]
  },
  {
   "cell_type": "markdown",
   "metadata": {
    "collapsed": true
   },
   "source": [
    "解：$令\\frac{\\mathrm d y}{\\mathrm d x}=p=tx\\\\\n",
    "则(tx)^3-x^3(1-tx)=0\\\\\n",
    "x=t^2-\\frac{1}{t}\\\\\n",
    "y=\\int p dx+c\\\\\n",
    " =\\int t(t^2-\\frac{1}{t})d(t^2-\\frac{1}{t})+c\\\\\n",
    " =\\int (2t^4-t-\\frac{1}{t^2})+c\\\\\n",
    " =\\frac{2t^5}{5}-\\frac{t^2}{2}+\\frac{1}{t}+c\\\\\n",
    "所以通解为：\\begin{cases}\n",
    "x=t^2-\\frac{1}{t}\\\\\n",
    "y==\\frac{2t^5}{5}-\\frac{t^2}{2}+\\frac{1}{t}+c\n",
    "\\end{cases}\n",
    "$"
   ]
  },
  {
   "cell_type": "markdown",
   "metadata": {},
   "source": [
    "(3)$y=y'^2 e^{y'}$"
   ]
  },
  {
   "cell_type": "markdown",
   "metadata": {},
   "source": [
    "解：$令\\frac{\\mathrm d y}{\\mathrm d x}=p\\\\\n",
    "y=p^2 e^p\\\\\n",
    "x=\\int \\frac{1}{p}dy+c\\\\\n",
    " =\\int (2e^p+pe^p)dp+c\\\\\n",
    " =(1+p)e^p+c\\\\\n",
    "通解为：\\begin{cases}\n",
    "x=(1+p)e^p+c\\\\\n",
    "y=p^2 e^p\n",
    "\\end{cases}\n",
    "y=0也是方程的解。\n",
    "$"
   ]
  },
  {
   "cell_type": "markdown",
   "metadata": {},
   "source": [
    "(4)$y(1+y'^2)=2a（a为常数）$"
   ]
  },
  {
   "cell_type": "markdown",
   "metadata": {},
   "source": [
    "解：$令\\frac{\\mathrm d y}{\\mathrm d x}=p=tg \\varphi\\\\\n",
    "则y=\\frac{2a}{1+tg^2\\varphi}=2acos^2\\varphi\\\\\n",
    "x=\\int \\frac{1}{p}dy+c\\\\\n",
    " =-4a\\int cos^2\\varphi d\\varphi+c\\\\\n",
    " =-a(\\varphi+sin2\\varphi0+c\\\\\n",
    "通解为：\\begin{cases}\n",
    "x= =-a(\\varphi+sin2\\varphi)+c\\\\\n",
    "y=2acos^2\\varphi\n",
    "\\end{cases}\n",
    "$"
   ]
  },
  {
   "cell_type": "markdown",
   "metadata": {},
   "source": [
    "(5)$x^2+y'^2=1$"
   ]
  },
  {
   "cell_type": "markdown",
   "metadata": {},
   "source": [
    "解：$令\\frac{\\mathrm d y}{\\mathrm d x}=p=\\frac{1}{t}\\\\\n",
    "x=sint\\\\\n",
    "y=\\int costd(sint)+c\\\\\n",
    " =\\int cos^2tdt+c\\\\\n",
    " =\\frac{t}{2}+\\frac{sin2t}{4}+c\\\\\n",
    "通解为：\\begin{cases}\n",
    "x=sint\\\\\n",
    "y=\\frac{t}{2}+\\frac{sin2t}{4}+c\n",
    "\\end{cases}\n",
    "$"
   ]
  },
  {
   "cell_type": "markdown",
   "metadata": {},
   "source": [
    "(6)$y^2(y'-1)=(2-y')^2$"
   ]
  },
  {
   "cell_type": "markdown",
   "metadata": {},
   "source": [
    "解：$令2-y'=yt,则1-y'=yt-1,y=t+\\frac{1}{t}\\\\\n",
    "所以dx=\\frac{dy}{y'}=\\frac{dy}{2-yt}=\\frac{1-t^{-2}}{1-t^2}dt=-\\frac{1}{t^2}dt\\\\\n",
    "x=\\int -\\frac{1}{t^2}\\mathrm t\\\\\n",
    " =\\frac{1}{t}+c\\\\\n",
    "通解为：\\begin{cases}\n",
    "x=\\frac{1}{t}+c\\\\\n",
    "y=t+\\frac{1}{t}\n",
    "\\end{cases}\n",
    "$"
   ]
  },
  {
   "cell_type": "markdown",
   "metadata": {
    "collapsed": true
   },
   "source": [
    "# <font color='red'>A 26/9"
   ]
  },
  {
   "cell_type": "code",
   "execution_count": null,
   "metadata": {
    "collapsed": true
   },
   "outputs": [],
   "source": []
  }
 ],
 "metadata": {
  "kernelspec": {
   "display_name": "SageMath 7.3",
   "language": "",
   "name": "sagemath"
  },
  "language_info": {
   "codemirror_mode": {
    "name": "ipython",
    "version": 2
   },
   "file_extension": ".py",
   "mimetype": "text/x-python",
   "name": "python",
   "nbconvert_exporter": "python",
   "pygments_lexer": "ipython2",
   "version": "2.7.10"
  }
 },
 "nbformat": 4,
 "nbformat_minor": 0
}
