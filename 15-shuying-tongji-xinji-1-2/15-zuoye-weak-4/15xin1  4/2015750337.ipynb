{
 "cells": [
  {
   "cell_type": "markdown",
   "metadata": {},
   "source": [
    "# P61 \n",
    "## 2.(8)\n",
    "$$(x+2y)dx+dy=0$$"
   ]
  },
  {
   "cell_type": "markdown",
   "metadata": {},
   "source": [
    "$\\because$$$\\frac{\\partial M}{\\partial y} \\neq \\frac{\\partial N}{\\partial x}$$\n",
    "$\\therefore$$$\\frac{\\partial (\\mu M)}{\\partial y} = \\frac{\\partial (\\mu N)}{\\partial x}$$\n",
    "$if  $  $\\mu$  $ just$ $  related$ $to$ $ x$\n",
    "$\\therefore$$$\\frac{1}{N}(\\frac{\\partial M}{\\partial y} - \\frac{\\partial N}{\\partial x})=\\psi (x)$$\n",
    "$\\therefore$$$ \\mu =e^{\\int \\psi (x)dx}$$\n",
    "$\\because$$$ \\psi(x)=\\frac{1}{x}dx$$\n",
    "$\\therefore$$$\\mu=x$$\n",
    "$\\therefore$$$(x^2+2yx)dx+x^2dy=0$$\n",
    "$\\therefore$$$ \\int^x_0(x^2+2yx)dx+ \\int^y_0 0dy=0$$\n",
    "$\\therefore$$$x^3+3x^2y=c$$"
   ]
  },
  {
   "cell_type": "markdown",
   "metadata": {},
   "source": [
    "## 2.(9)\n",
    "\n",
    "$$[xcos(x+y)+sin(x+y)]dx+(ysin x+xcos x)dy=0$$"
   ]
  },
  {
   "cell_type": "markdown",
   "metadata": {},
   "source": [
    "$\\because$$$\\frac{\\partial M}{\\partial y} = \\frac{\\partial N}{\\partial x}$$\n",
    "$\\therefore$$$ \\int^x_0[xcos(x+y)+sin(x+y)]dx+ \\int^y_0 0dy=0$$\n",
    "$\\therefore$$$xsin (x+y)=c$$"
   ]
  },
  {
   "cell_type": "markdown",
   "metadata": {},
   "source": [
    "## 2.(10)\n",
    "\n",
    "$$(ycos x-xsin x)dx+(ysin x+xcos x)dy=0$$"
   ]
  },
  {
   "cell_type": "markdown",
   "metadata": {},
   "source": [
    "$\\because$$$\\frac{\\partial M}{\\partial y} \\neq \\frac{\\partial N}{\\partial x}$$\n",
    "$\\therefore$$$\\frac{\\partial (\\mu M)}{\\partial y} = \\frac{\\partial (\\mu N)}{\\partial x}$$\n",
    "$\\therefore$$$\\frac{1}{N}(\\frac{\\partial M}{\\partial y} - \\frac{\\partial N}{\\partial x})=\\psi (x)$$\n",
    "$\\therefore$$$\\psi(x)=\\frac{xsinx-ycosx}{ysinx+xcosx}$$\n",
    "$\\therefore$$$\\mu=e^{\\int dy}=e^y$$\n",
    "$\\therefore$$$e^y sin x(y-1)+e^y cos x=c$$\n"
   ]
  },
  {
   "cell_type": "markdown",
   "metadata": {
    "collapsed": true
   },
   "source": [
    "## 2.(11)\n",
    "\n",
    "$$x(4ydx+2xdy)+y^3(3ydx+5xdy)=0$$"
   ]
  },
  {
   "cell_type": "markdown",
   "metadata": {},
   "source": [
    "$$\\frac{1}{N}(\\frac{\\partial M}{\\partial y} - \\frac{\\partial N}{\\partial x})=\\psi (x)$$\n",
    "$\\therefore$$$\\mu=x^2y$$\n",
    "$\\therefore$\n",
    "$$x^4+y^2+x^3y^5=c$$"
   ]
  },
  {
   "cell_type": "markdown",
   "metadata": {},
   "source": [
    "# 4."
   ]
  },
  {
   "cell_type": "markdown",
   "metadata": {},
   "source": [
    "$necessity$: \n",
    "\n",
    "$\\because$$$\\frac{dy}{dx}=M(x)y+N(x)$$\n",
    "$\\therefore$$$\\mu(x)=e^{-\\int M(x)dx}$$\n",
    "$\\mu(x)$  $is$  $only$  $related$ $to$ $x$"
   ]
  },
  {
   "cell_type": "markdown",
   "metadata": {},
   "source": [
    "$sufficiency$:\n",
    "\n",
    "$\\because$$$\\mu(x)dy-\\mu(x)f(x,y)dx=0$$ $is$ $exact$ $ODE$\n",
    "$\\therefore$$$ \\frac{\\partial f}{\\partial y}=-\\frac{\\mu\\prime(x)}{\\mu(x)}$$\n",
    "$\\therefore$$$f=\\int\\frac{\\mu\\prime(x)}{\\mu(x)}dy+N(x)=-\\frac{\\mu\\prime(x)}{\\mu(x)}y+N(x)=M(x)y+N(x)$$\n",
    "$$M(x)=-\\frac{\\mu\\prime(x)}{\\mu(x)}$$\n",
    "$\\therefore$$$dy-(M(x)y+Q(x))dx=0$$\n",
    "$\\therefore$$the$ $equation$ $is$ $a$ $first$ $order$ $linear$ $equation$"
   ]
  },
  {
   "cell_type": "markdown",
   "metadata": {},
   "source": [
    "# 8."
   ]
  },
  {
   "cell_type": "markdown",
   "metadata": {},
   "source": [
    "$the$ $Bernoulli$ $equation$ $is$:\n",
    "$$\\frac{dy}{dx}=P(x)y+Q(x)y^n, y\\neq 0$$\n",
    "$\\therefore$$ put$ $ z=y^{-n}$\n",
    "$$\\frac{dz}{dx}=(1-n)P(x)z+(1-n)Q(x)$$\n",
    "$\\therefore$$$\\mu=e^{-\\int(1-n)P(x)dx}=e^{(n-1)\\int(P(x)dx}$$"
   ]
  },
  {
   "cell_type": "markdown",
   "metadata": {
    "collapsed": true
   },
   "source": [
    "# P70 \n",
    "## 1.(1)\n",
    "$$xy\\prime^3=1+y\\prime$$"
   ]
  },
  {
   "cell_type": "markdown",
   "metadata": {},
   "source": [
    "put $\\frac{dy}{dx}=\\frac{1}{t}$\n",
    "$\\therefore$$$x=(1+\\frac{1}{t}t^3=t^3+t^2$$\n",
    "$\\therefore$$$y=\\int\\frac{1}{t}dx+c=\\frac{3}{2}t^2+2t+c$$\n",
    "$\\therefore$$$x=t^3+t^2$$$$y=\\frac{3}{2}t^2+2t+c$$"
   ]
  },
  {
   "cell_type": "markdown",
   "metadata": {},
   "source": [
    "## (2)\n",
    "$$y\\prime^3-x^3(1-y\\prime)=0$$\n",
    "put$\\frac{dy}{dx}=tx$\n",
    "$\\therefore$$$x=t^2-\\frac{1}{t}$$\n",
    "$\\therefore$$$y=\\int(2t^4-t^2-\\frac{1}{t^2})dt+c$$\n",
    "$$x=t^2-\\frac{1}{t}$$\n",
    "$$y=\\frac{2}{5}t^5-\\frac{1}{2}t^2+\\frac{1}{t}+c$$"
   ]
  },
  {
   "cell_type": "markdown",
   "metadata": {},
   "source": [
    "## (3)\n",
    "$$y=y\\prime^2e^{y\\prime}$$"
   ]
  },
  {
   "cell_type": "markdown",
   "metadata": {},
   "source": [
    "put $\\frac{dy}{dx}=p$\n",
    "$\\therefore$$$y=p^2e^p$$\n",
    "$$x=\\int \\frac{1}{p}d(p^2e^p)+c$$\n",
    "$$x=(1+p)e^p+c$$\n",
    "$$y=y^2e^p$$"
   ]
  },
  {
   "cell_type": "markdown",
   "metadata": {},
   "source": [
    "## (4)\n",
    "$$y(1+y\\prime^2)=2a$$"
   ]
  },
  {
   "cell_type": "markdown",
   "metadata": {},
   "source": [
    "put$\\frac{dy}{dx}=tan\\phi$\n",
    "$\\therefore$$$y=2acos^2\\phi$$  \n",
    "\n",
    "$$x=\\int\\frac{1}{p}dy+c=\\int\\frac{1}{tan\\phi}d(2acos^2\\phi)+c$$\n",
    "\n",
    "$$x=-a(2\\phi+sin2\\phi)+c$$\n",
    "$$y=2acos^2\\phi$$"
   ]
  },
  {
   "cell_type": "markdown",
   "metadata": {},
   "source": [
    "## (5)\n",
    "$$x^2+y\\prime^2=1$$\n",
    "\n",
    "put$\\frac{dy}{dx}=cost$\n",
    "\n",
    "$\\therefore$$$x=sint$$\n",
    "\n",
    "$$y=\\int costd(sint)+c$$\n",
    "\n",
    "$\\therefore$$$x=sint$$\n",
    "$$y=\\frac{1}{2}t+\\frac{1}{4}sin2t+c$$"
   ]
  },
  {
   "cell_type": "markdown",
   "metadata": {},
   "source": [
    "## (6)\n",
    "$$y^2(y\\prime-1)=(2-y\\prime)^2$$"
   ]
  },
  {
   "cell_type": "markdown",
   "metadata": {},
   "source": [
    "put$2-y\\prime=yt$\n",
    "$\\therefore$$$y=t+\\frac{1}{t}$$\n",
    "\n",
    "$$dx=\\frac{dy}{2-yt}=-\\frac{1}{t^2}dt$$\n",
    "\n",
    "$$x=\\frac{1}{t}+c$$\n",
    "$\\therefore$$$y=\\frac{1}{x-c}+x-c$$"
   ]
  },
  {
   "cell_type": "markdown",
   "metadata": {
    "collapsed": true
   },
   "source": [
    "# <font color='red'>A 26/9  （4.8.）8题有问题"
   ]
  },
  {
   "cell_type": "code",
   "execution_count": null,
   "metadata": {
    "collapsed": true
   },
   "outputs": [],
   "source": []
  }
 ],
 "metadata": {
  "kernelspec": {
   "display_name": "SageMath 7.3",
   "language": "",
   "name": "sagemath"
  },
  "language_info": {
   "codemirror_mode": {
    "name": "ipython",
    "version": 2
   },
   "file_extension": ".py",
   "mimetype": "text/x-python",
   "name": "python",
   "nbconvert_exporter": "python",
   "pygments_lexer": "ipython2",
   "version": "2.7.10"
  }
 },
 "nbformat": 4,
 "nbformat_minor": 0
}
