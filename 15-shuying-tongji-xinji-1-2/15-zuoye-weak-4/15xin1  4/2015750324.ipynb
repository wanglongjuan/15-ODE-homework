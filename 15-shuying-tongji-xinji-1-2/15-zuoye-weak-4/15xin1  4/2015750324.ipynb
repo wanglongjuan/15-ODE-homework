{
 "cells": [
  {
   "cell_type": "markdown",
   "metadata": {},
   "source": [
    "2.求下列方程的解：\n",
    "\n",
    "（8）$(x+2y)dx+xdy=0$\n",
    "\n",
    "（9）$[x\\cos(x+y)+\\sin(x+y)]dx+x\\cos(x+y)dy=0$\n",
    "\n",
    "（10）$(y\\cos x-x\\sin x)dx+(y\\sin x+x\\cos x)dy=0$\n",
    "\n",
    "（11）$x(4ydx+2xdy)+y^3(3ydx+5xdy)=0$"
   ]
  },
  {
   "cell_type": "markdown",
   "metadata": {},
   "source": [
    "（8）\n",
    "\n",
    "解：\n",
    "\n",
    "由$M=x+2y$,$N=x$,$\\frac{\\partial M}{\\partial y}=2$,$\\frac{\\partial N}{\\partial x}=1$,\n",
    "\n",
    "可知方程不是恰当的。\n",
    "\n",
    "因为$\\frac{\\frac{\\partial M}{\\partial y}-\\frac{\\partial N}{\\partial x}}{N}=\\frac1x$,得到积分因子$$\\mu=e^{\\int\\frac1xdx}=x$$\n",
    "\n",
    "以$\\mu=x$乘方程两边得到$$2xydx+x^2dy+x^2dx=0$$\n",
    "\n",
    "即$$d(x^2y+\\frac13x^3)=0$$\n",
    "\n",
    "得到方程的通解为$$x^3+3x^2y=c$$"
   ]
  },
  {
   "cell_type": "markdown",
   "metadata": {},
   "source": [
    "（9）\n",
    "\n",
    "解：\n",
    "\n",
    "由$M=x\\cos(x+y)+\\sin(x+y)$,$N=x\\cos(x+y)$\n",
    "\n",
    "$\\frac{\\partial M}{\\partial y}=-x\\sin(x+y)+\\cos(x+y)$\n",
    "\n",
    "$\\frac{\\partial N}{\\partial x}=\\cos(x+y)-x\\sin(x+y)$\n",
    "\n",
    "可知方程为恰当的。\n",
    "\n",
    "且方程变换得到$$d(x\\sin(x+y))=0$$\n",
    "\n",
    "得到方程通解为$$xsin(x+y)=c$$"
   ]
  },
  {
   "cell_type": "markdown",
   "metadata": {},
   "source": [
    "（10）\n",
    "\n",
    "解：\n",
    "\n",
    "由$M=y\\cos x-x\\sin x$,$N=y\\sin x+x\\cos x$\n",
    "\n",
    "$\\frac{\\partial M}{\\partial y}=\\cos x$,\n",
    "$\\frac{\\partial N}{\\partial x}=y\\cos x=\\cos x-x\\sin x$\n",
    "\n",
    "因为$\\frac{\\frac{\\partial M}{\\partial y}-\\frac{\\partial N}{\\partial x}}{-M}=1$,得到积分因子$$\\mu=e^{\\int1dy}=e^y$$\n",
    "\n",
    "以$\\mu=e^y$乘两边方程，得到\n",
    "$$(ye^y\\cos xdx+ye^y\\sin xdy)+(e^ycos xdy-e^yx\\sin xdx)=0$$\n",
    "\n",
    "即方程的通解为$$(y-1)\\sin x+x\\cos x={c}\\cdot{e^{-y}}$$\n"
   ]
  },
  {
   "cell_type": "markdown",
   "metadata": {},
   "source": [
    "（11）\n",
    "\n",
    "解：\n",
    "\n",
    "由$x(4ydx+2xdy)=d(2x^2y)$\n",
    "\n",
    "对于$y^3(3ydx+5xdy)=0$,有$M=3y^4$,$N=5xy^3$\n",
    "\n",
    "$\\frac{\\partial M}{\\partial y}=12y^3$,$\\frac{\\partial N}{\\partial x}=5y^3$\n",
    "\n",
    "因为$\\frac{\\frac{\\partial M}{\\partial y}-\\frac{\\partial N}{\\partial x}}{5xy^3}=\\frac{7}{5x}$\n",
    "\n",
    "得到积分因子$$\\mu=e^{\\int\\frac{7}{5x}dx}=x^{\\frac75}$$\n",
    "\n",
    "以$\\mu=x^{\\frac75}$乘以方程两边得到\n",
    "\n",
    "$$d(\\frac54x^{\\frac{12}{5}}y^4)=0$$\n",
    "\n",
    "得到方程通解为$$2x^2y+\\frac54x^{\\frac{12}{5}}y^4=c$$\n"
   ]
  },
  {
   "cell_type": "markdown",
   "metadata": {},
   "source": [
    "4.设$f(x,y)$及$\\frac{\\partial f}{\\partial y}$连续，试证方程$dy-f(x,y)dx=0$为线性微分方程的充分必要条件是它有且仅有依赖于x的积分因子。"
   ]
  },
  {
   "cell_type": "markdown",
   "metadata": {},
   "source": [
    "证明：\n",
    "\n",
    "充分性\n",
    "\n",
    "设$dy-f(x,y)dx=0$有仅依赖于x的积分因子，则存在某个$\\phi(x)$满足\n",
    "$$\\frac{\\frac{\\partial M}{\\partial y}-\\frac{\\partial N}{\\partial x}}{N}=\\frac{-\\frac{\\partial f}{\\partial y}-0}{1}=\\phi(x)$$\n",
    "\n",
    "即$$\\frac{\\partial f}{\\partial y}=-\\phi(x)$$\n",
    "\n",
    "积分后，得到$$f(x,y)=-\\phi(x)y+h(x)$$\n",
    "\n",
    "其中$h(x)$是关于x的任意可微函数，可得到原方程为\n",
    "$$\\frac{\\partial y}{\\partial x}=-\\phi(x)y+h(x)$$\n",
    "\n",
    "方程为线性的。\n",
    "\n",
    "必要性\n",
    "\n",
    "设$dy-f(x,y)dx=0$是线性微分方程，则存在$g(x)$、$h(x)$使得\n",
    "$$f(x,y)={y}\\cdot{g(x)}+h(x)$$\n",
    "\n",
    "这样$M=-f(x,y)=-yg(x)-h(x),\\ \\ N=1$\n",
    "$\\frac{\\frac{\\partial M}{\\partial y}-\\frac{\\partial N}{\\partial x}}{N}=\\frac{-g(x)}{1}=-g(x)$\n",
    "\n",
    "所以，有积分因子\n",
    "$$\\mu=e^{\\int-g(x)dx}$$\n",
    "\n",
    "即证明了方程有仅依赖于x的积分因子"
   ]
  },
  {
   "cell_type": "markdown",
   "metadata": {},
   "source": [
    "8.求出伯努利微分方程的积分因子。"
   ]
  },
  {
   "cell_type": "markdown",
   "metadata": {},
   "source": [
    "解：\n",
    "\n",
    "伯努利方程为$$\\frac{\\partial y}{\\partial x}=p(x)y+q(x)y^n$$\n",
    "\n",
    "改写为$$dy-p(x)ydx-q(x)y^ndx=0$$\n",
    "\n",
    "乘以$y^{-n}$,整理得到$$d(y^{1-n})-(1-n)p(x)y^{1-n}dx-(1-n)q(x)dx=0$$\n",
    "\n",
    "在乘以$e^{-(1-n)\\int p(x)dx}$,整理得到\n",
    "\n",
    "$$d[y^{1-n}e^{-(1-n)\\int p(x)dx}]-d[\\int(1-n)q(x)e^{-(1-n)\\int p(x)dx}dx]=0$$\n",
    "\n",
    "这是全微分方程，得到积分因子$$\\mu=y^{-n}e^{-(1-n)\\int p(x)dx}$$"
   ]
  },
  {
   "cell_type": "markdown",
   "metadata": {},
   "source": [
    "1.求解下列方程：\n",
    "\n",
    "（1）$xy'^3=1+y'$;\n",
    "\n",
    "（2）$y'^3-x^3(1-y')=0$;\n",
    "\n",
    "（3）$y=y'^2e^{y'}$;\n",
    "\n",
    "（4）$y(1+y'^2)=2a(a为常数)$;\n",
    "\n",
    "（5）$x^2+y^2=1$;\n",
    "\n",
    "（6）$y^2(y'-1)=(2-y')^2$."
   ]
  },
  {
   "cell_type": "markdown",
   "metadata": {},
   "source": [
    "（1）\n",
    "\n",
    "令$\\frac{dy}{dx}=y'=\\frac1t$,则\n",
    "$$x=t^3+t^2$$,\n",
    "\n",
    "对y求导数，得到$$dy=(3t+2)dt$$\n",
    "\n",
    "积分，得到$$y=\\frac32t^2+2t+c$$\n",
    "\n",
    "得到方程通解\n",
    "$$\\begin{cases}x=t^3+t^2;\\\\y=\\frac32t^2+2t+c \\end{cases}$$"
   ]
  },
  {
   "cell_type": "markdown",
   "metadata": {},
   "source": [
    "（2）令$y'=tx$,则原方程化为$$x^3(t^3-1+tx)=0$$\n",
    "\n",
    "解得$$x=\\frac1t-t^2$$\n",
    "\n",
    "两边对y求导得到$$\\frac{1}{1-t^2}=(-\\frac{1}{t^2}-2t)\\cdot{\\frac{dt}{dy}}$$\n",
    "\n",
    "积分得到$$y=-\\frac12t^2+\\frac25t^5+\\frac1t+c$$\n",
    "\n",
    "得到方程通解\n",
    "$$\\begin{cases}x=\\frac1t-t^2\\\\y=-\\frac12t^2+\\frac25t^5+\\frac1t+c \\end{cases}$$"
   ]
  },
  {
   "cell_type": "markdown",
   "metadata": {},
   "source": [
    "（3）\n",
    "\n",
    "解：\n",
    "\n",
    "令$y'=p$,则原方程为$$y=p^2e^p$$\n",
    "\n",
    "对x求导，得到$$dx={(p+2)}\\cdot{e^p}\\cdot{dp}$$\n",
    "\n",
    "积分得到$$x=(p+1)e^p$$\n",
    "\n",
    "得到方程通解\n",
    "$$\\begin{cases}x=(p+1)e^p \\\\y=p^2e^p \\end{cases}$$"
   ]
  },
  {
   "cell_type": "markdown",
   "metadata": {},
   "source": [
    "（4）\n",
    "\n",
    "解：\n",
    "\n",
    "令$y'=p$,则原方程为$y(1+p^2)=2a$$$\n",
    "\n",
    "对x求导，得到$$dx=\\frac{-4a}{(1+p^2)^2}dp$$\n",
    "\n",
    "积分得到$$x=-a(2\\arctan p+\\frac{2p}{1+p^2}+c)$$\n",
    "\n",
    "得到方程通解\n",
    "$$\\begin{cases}x=-a(2\\arctan p+\\frac{2p}{1+p^2}+c) \\\\ y=\\frac{2a}{(1+p^2)} \\end{cases}$$"
   ]
  },
  {
   "cell_type": "markdown",
   "metadata": {},
   "source": [
    "（5）\n",
    "\n",
    "解：\n",
    "\n",
    "令$y'=cost$，原方程化为$$x^2+cos^2t=1$$\n",
    "\n",
    "解得$$x=sint$$\n",
    "\n",
    "对y求导数，得到$$dy=cos^tdt$$\n",
    "\n",
    "积分得到$$y=\\frac t2+\\frac14sin2t+c$$\n",
    "\n",
    "得到方程通解\n",
    "$$\\begin{cases}x=sint \\\\ y=\\frac t2+\\frac14sin2t+c \\end{cases}$$"
   ]
  },
  {
   "cell_type": "markdown",
   "metadata": {},
   "source": [
    "（6）\n",
    "\n",
    "解：\n",
    "\n",
    "令$2-y'=yt$,原方程化为$$y^2(1-yt)=y^2t^2$$\n",
    "\n",
    "得到$$y=\\frac 1t-t$$\n",
    "\n",
    "并且$$y'=1+t^2$$\n",
    "\n",
    "得到$$dx=\\frac{dy}{y'}=\\frac{(-\\frac{1}{t^2}-1)dt}{1+t^2}=-\\frac{1}{t^2}dt$$\n",
    "\n",
    "积分得到$$x=\\frac1t+c$$\n",
    "\n",
    "得到方程的通解为\n",
    "$$\\begin{cases}x=\\frac1t+c \\\\ y=\\frac 1t-t \\end{cases}$$\n",
    "\n",
    "消去t，得到$$y=x-\\frac{1}{x-c}-c$$"
   ]
  },
  {
   "cell_type": "markdown",
   "metadata": {},
   "source": [
    "# <font color='red'>A 26/9"
   ]
  },
  {
   "cell_type": "code",
   "execution_count": null,
   "metadata": {
    "collapsed": true
   },
   "outputs": [],
   "source": []
  }
 ],
 "metadata": {
  "kernelspec": {
   "display_name": "SageMath 7.3",
   "language": "",
   "name": "sagemath"
  },
  "language_info": {
   "codemirror_mode": {
    "name": "ipython",
    "version": 2
   },
   "file_extension": ".py",
   "mimetype": "text/x-python",
   "name": "python",
   "nbconvert_exporter": "python",
   "pygments_lexer": "ipython2",
   "version": "2.7.10"
  }
 },
 "nbformat": 4,
 "nbformat_minor": 0
}
