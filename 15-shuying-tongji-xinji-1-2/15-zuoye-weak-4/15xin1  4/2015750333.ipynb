{
 "cells": [
  {
   "cell_type": "markdown",
   "metadata": {},
   "source": [
    "# 1、$(x+2y)\\mathrm dx+x\\mathrm dy=0$"
   ]
  },
  {
   "cell_type": "markdown",
   "metadata": {},
   "source": [
    "解：因为$M=x+2y,N=y-x,\\frac{\\partial M}{\\partial y}=2,\\frac{\\partial N}{\\partial x}=1$，方程不是恰当的\n",
    "\n",
    "因为$\\frac{\\frac{\\partial M}{\\partial y}-\\frac{\\partial N}{\\partial x}}{N}=\\frac{1}{x}$只与$x$有关,故方程有只与$x$有关的积分因子$$\\mu =e^{\\int(\\frac{1}{x}\\mathrm dy)}=e^{lnx}=x$$\n",
    "\n",
    "以$\\mu=x$乘方程两边，得到$$x^2\\mathrm dx+2xy\\mathrm dx+x^2\\mathrm dy=0$$即$\\mathrm d(x^2y+\\frac{1}{3}x^3)=0$\n",
    "\n",
    "所以，通解为$x^2y+\\frac{1}{3}x^3=c$"
   ]
  },
  {
   "cell_type": "markdown",
   "metadata": {},
   "source": [
    "# 2、$[xcos(x+y)+sin(x+y)]\\mathrm dx+xcos(x+y)\\mathrm dy=0$\n"
   ]
  },
  {
   "cell_type": "markdown",
   "metadata": {},
   "source": [
    "解：因为$M=xcos(x+y)+sin(x+y),N=xcos(x+y)$$$\\frac{\\partial M}{\\partial y}=-xsin(x+y)+cos(x+y),\n",
    "\\frac{\\partial N}{\\partial x}=cos(x+y)-xsin(x+y)$$方程为恰当微分方程\n",
    "\n",
    "所以，原方程可写成$$\\mathrm d(xsin(x+y))=0$$\n",
    "\n",
    "通解为$$xsin(x+y)=c$$"
   ]
  },
  {
   "cell_type": "markdown",
   "metadata": {},
   "source": [
    "# 3、$(y\\cos x-x\\sin x)\\mathrm dx+(y\\sin x+x\\cos x)\\mathrm dy=0$"
   ]
  },
  {
   "cell_type": "markdown",
   "metadata": {},
   "source": [
    "解：因为$M=y\\cos x-x\\sin x,N=y\\sin x+x\\cos x$$$\\frac{\\partial M}{\\partial y}=\\cos x$$,$$\\frac{\\partial N}{\\partial y}=y\\cos x+\\cos x-x\\sin x$$\n",
    "方程不是恰当的\n",
    "\n",
    "因为$\\frac{\\frac{\\partial M}{\\partial y}-\\frac{\\partial N}{\\partial x}}{-M}=1$，所以方程有积分因子$$\\mu=e^{\\int1\\mathrm dy}=e^y$$\n",
    "以$\\mu=e^y$乘以方程两边得$$(ye^y\\cos x-xe^y\\sin x)\\mathrm dx+(ye^y\\sin x+x\\cos x)\\mathrm dy=0$$\n",
    "即$\\mathrm d[(y-1)e^y\\sin x+e^yx\\cos x]=0$，\n",
    "\n",
    "通解为，$(y-1)e^y\\sin x+e^yx\\cos x=c$"
   ]
  },
  {
   "cell_type": "markdown",
   "metadata": {},
   "source": [
    "# 4、$x(4y\\mathrm dx+2x\\mathrm dy)+y^3(3y\\mathrm dx+5x\\mathrm dy)=0$"
   ]
  },
  {
   "cell_type": "markdown",
   "metadata": {},
   "source": [
    "解：因为$x(4y\\mathrm dx+2x\\mathrm dy)=d(2x^2y)$，\n",
    "所以，对$y^3(3y\\mathrm dx+5x\\mathrm dy)=0\\\\\n",
    "M=3y^4,N=5xy^3\\\\\n",
    "\\frac{\\partial M}{\\partial y}=12y^3,\\frac{\\partial N}{\\partial x}=5y^3$\n",
    "\n",
    "不是恰当微分方程\n",
    "\n",
    "因为$\\frac{\\frac{\\partial M}{\\partial y}-\\frac{\\partial N}{\\partial x}}{N}=\\frac{7}{5x}$，所以有积分因子$$\\mu=e^{\\int\\frac{7}{5x}\\mathrm dy}=y^{\\frac{7}{5}}$$用$\\mu=y^{frac{7}{5}}$乘以方程两边得$$y^{\\frac{21}{5}}(3y\\mathrm dx+5x\\mathrm dy)=0$$\n",
    "即$\\mathrm d(\\frac{5}{4}x^{\\frac{12}{5}}x^4=0)$\n",
    "\n",
    "所以通解为$2x^2y+\\frac{5}{4}x^{\\frac{12}{5}}y^4=c$"
   ]
  },
  {
   "cell_type": "markdown",
   "metadata": {},
   "source": [
    " # 5、设$f(x,y)$及$\\frac{\\partial f}{\\partial y}$连续，试证方程$\\mathrm dy-f(x,y)\\mathrm dx=0$为线性微分方程得充要条件是它有仅依赖于$x$的积分因子"
   ]
  },
  {
   "cell_type": "markdown",
   "metadata": {},
   "source": [
    "证明：充分性：因为方程有仅依赖于$x$的积分因子，所以$$\\frac{\\frac{\\partial M}{\\partial y}-\\frac{\\partial N}{\\partial x}}{N}=\\frac{-\\frac{\\partial f}{\\partial y}-0}{1}=\\varphi(x)$$即$$\\frac{\\partial f}{\\partial y}=-\\varphi(x)$$积分后得$$f(x,y)=-\\varphi(x)y+\\psi(x)$$将上式带入原方程得$$\\frac{\\mathrm dy}{\\mathrm dx}=-\\varphi(x)y+\\psi(x)$$\n",
    "所以原方程是线性的\n",
    "\n",
    "必要性：将$\\mathrm dy-f(x,y)\\mathrm dx=0$化为$\\frac{\\mathrm dy}{\\mathrm dx}=f(x,y)$\n",
    "\n",
    "因为方程是线性的，所以必存在$P(x),Q(x)$使得$f(x,y)=P(x)y+Q(x)$\n",
    "\n",
    "所以原方程可写为$\\mathrm dy-(P(x)y+Q(x))\\mathrm dx=0$\n",
    "\n",
    "所以$M=-(P(x)y+Q(x)),N=1$\n",
    "\n",
    "因为$f(x,y)$连续，所以$$\\frac{\\partial M}{\\partial y}=-P(x),\\frac{\\partial N}{\\partial x}=0$$\n",
    "所以$$\\frac{\\frac{\\partial M}{\\partial y}-\\frac{\\partial N}{\\partial x}}{N}=-P(x)$$\n",
    "所以积分因子$$\\mu=e^{\\int-P(x)\\mathrm dx}$$\n",
    "即证方程有仅依赖于$x$的积分因子"
   ]
  },
  {
   "cell_type": "markdown",
   "metadata": {},
   "source": []
  },
  {
   "cell_type": "markdown",
   "metadata": {},
   "source": [
    "# 6、求出伯努利微分方程的积分因子"
   ]
  },
  {
   "cell_type": "markdown",
   "metadata": {},
   "source": [
    "解：$\\frac{\\mathrm dy}{\\mathrm dx}=P(x)y+Q(x)y^n\\\\\n",
    "\\mathrm dy-(P(x)y+Q(x)y^n)\\mathrm dx=0\\\\\n",
    "\\mathrm dy-P(x)y\\mathrm dx+Q(x)y^n\\mathrm dx=0$\n",
    "\n",
    "两边同时乘$y^{-n}$得$$y^{-n}\\mathrm dy-P(x)y^{1-n}\\mathrm dx-Q(x)\\mathrm dx=0$$即$$\\mathrm d(y^{1-n})-(1-n)P(x)y^{1-n}\\mathrm dx-(1-n)Q(x)\\mathrm dx=0$$\n",
    "再两边同乘$e^{-(1-n)\\int P(x)\\mathrm dx}$得$$e^{-(1-n)\\int P(x)\\mathrm dx}[\\mathrm d(y^{1-n})-(1-n)P(x)y^{1-n}\\mathrm dx]-e^{-(1-n)\\int P(x)\\mathrm dx}(1-n)Q(x)\\mathrm dx=0$$\n",
    "即$$\\mathrm d[y^{1-n}e^{-(1-n)\\int P(x)\\mathrm dx}]-\\mathrm d[\\int (1-n)Q(x)e^{-(1-n)\\int P(x)\\mathrm dx}(1-n)Q(x)\\mathrm dx]=0$$\n",
    "所以，积分因子为$$\\mu=y^{-n}e^{-(1-n)\\int P(x)\\mathrm dx}$$"
   ]
  },
  {
   "cell_type": "markdown",
   "metadata": {},
   "source": [
    "# 7、$xy'^3=1+y'$"
   ]
  },
  {
   "cell_type": "markdown",
   "metadata": {},
   "source": [
    "解：$x=\\frac{1}{y'^3}+\\frac{1}{y'^2}\\\\\n",
    "x=(\\frac{\\mathrm dx}{\\mathrm dy})^3+(\\frac{\\mathrm dx}{\\mathrm dy})^2$\n",
    "\n",
    "令$\\frac{\\mathrm dy}{\\mathrm dx}=p$代入上式，得$$x=\\frac{1}{p^3}+\\frac{1}{p^2}\\neq 0$$\n",
    "两边同时对$y$求导，得$$\\frac{1}{p}=(-\\frac{3}{p^4}-\\frac{2}{p^3})\\frac{\\mathrm dp}{\\mathrm dy}$$\n",
    "两边积分，得$$y=\\frac{3}{2p^2}+\\frac{2}{p}+c$$\n",
    "则通解为$\n",
    "\\begin{cases}\n",
    "x=x=\\frac{1}{p^3}+\\frac{1}{p^2}\\\\\n",
    "y=\\frac{3}{2p^2}+\\frac{2}{p}+c\n",
    "\\end{cases}\n",
    "$"
   ]
  },
  {
   "cell_type": "markdown",
   "metadata": {},
   "source": [
    "# 8、$y'^3-x^3(1-y')=0$"
   ]
  },
  {
   "cell_type": "markdown",
   "metadata": {},
   "source": [
    "解：令$y'=tx^3$，则$$x^3(t^3-1+tx)=0$$\n",
    "解得$x=\\frac{1}{t}-t^2$\n",
    "\n",
    "两边同时对$y$求导得$$\\frac{1}{t(\\frac{1}{t}-t^2)}=(-\\frac{1}{t^2}-2t)\\frac{\\mathrm dt}{\\mathrm dy}$$即$$\\mathrm dy=[(1-t^3)(-frac{1}{t^2}-2)]\\mathrm dt$$\n",
    "两边积分，得$$y=-\\frac{1}{2}t^2+\\frac{2}{5}t^5+\\frac{1}{t}+c$$\n",
    "所以通解为$\n",
    "\\begin{cases}\n",
    "x=\\frac{1}{t}-t^2\\\\\n",
    "y=-\\frac{1}{2}t^2+\\frac{2}{5}t^2+\\frac{1}{t}+c\n",
    "\\end{cases}\n",
    "$"
   ]
  },
  {
   "cell_type": "markdown",
   "metadata": {},
   "source": [
    "# 9、$y=y'^2e^{y'}$"
   ]
  },
  {
   "cell_type": "markdown",
   "metadata": {},
   "source": [
    "解：令$y'=p$则，\n",
    "$$y=p^2e^p$$\n",
    "两边对$x$求导，得$$p=(2p+p^2)e^p\\frac{\\mathrm dp}{\\mathrm dx}$$\n",
    "则$$\\mathrm dx=(p+2)e^p\\frac{\\mathrm dp}{\\mathrm dx}$$\n",
    "两边积分，得$$x=(p+1)e^p+c$$\n",
    "所以，通解为$\n",
    "\\begin{cases}\n",
    "x=(p+1)e^p+c\\\\\n",
    "y=p^2e^p\n",
    "\\end{cases}$"
   ]
  },
  {
   "cell_type": "markdown",
   "metadata": {},
   "source": [
    "# 10、$y(1+y'^2)=2a(a为常数)$"
   ]
  },
  {
   "cell_type": "markdown",
   "metadata": {},
   "source": [
    "解：令$y'=tant$，得$$y==\\frac{2a}{\\sec^2 x}$$\n",
    "对等式两边关于$x$求导，得$$tant=-4a\\cos x\\sin x\\frac{\\mathrm dt}{\\mathrm dx}$$\n",
    "两边积分，得$x=-a(2t+sin2t)+c$\n",
    "\n",
    "所以通解为$\n",
    "\\begin{cases}\n",
    "x=-a(2t+sin2t)+c\\\\\n",
    "y=-4asintcost\n",
    "\\end{cases}$"
   ]
  },
  {
   "cell_type": "markdown",
   "metadata": {},
   "source": [
    "# 11、$x^2+y'^2=1$"
   ]
  },
  {
   "cell_type": "markdown",
   "metadata": {},
   "source": [
    "解：令$y'=\\sin^2 t$，则$$x=\\cos t$$\n",
    "对两边关于$y$求导，得$$\\frac{1}{\\sin t}=-\\sin t\\frac{\\mathrm dt}{\\mathrm dy}$$\n",
    "两边积分，得$y=\\frac{1}{2}t-\\frac{1}{4}sin2t+c$\n",
    "\n",
    "通解为$\n",
    "\\begin{cases}\n",
    "x=\\cos t\\\\\n",
    "y=\\frac{1}{2}t-\\frac{1}{4}sin2t+c\n",
    "\\end{cases}$"
   ]
  },
  {
   "cell_type": "markdown",
   "metadata": {},
   "source": [
    "# 12、$y^2(y'-1)=(2-y')^2$"
   ]
  },
  {
   "cell_type": "markdown",
   "metadata": {},
   "source": [
    "解：令$2-y'=yt$，则与原微分方程削去$y'$后，有$$y^2(1-yt)=y^2t^2$$\n",
    "由此得$$y=\\frac{1}{t}-t$$\n",
    "并且$$y'=1+t^2$$\n",
    "这是原方程参数形式。因此$$\\mathrm dx=\\frac{\\mathrm dy}{y'}=-\\frac{1}{t^2}\\mathrm dt$$\n",
    "两边积分，得$$x=\\frac{1}{t}+c$$\n",
    "所以，通解为$\n",
    "\\begin{cases}\n",
    "x=\\frac{1}{t}+c\\\\\n",
    "y=\\frac{1}{t}-t\n",
    "\\end{cases}$"
   ]
  },
  {
   "cell_type": "markdown",
   "metadata": {},
   "source": [
    "# <font color='red'>A 26/9"
   ]
  },
  {
   "cell_type": "code",
   "execution_count": null,
   "metadata": {
    "collapsed": true
   },
   "outputs": [],
   "source": []
  }
 ],
 "metadata": {
  "kernelspec": {
   "display_name": "SageMath 7.3",
   "language": "",
   "name": "sagemath"
  },
  "language_info": {
   "codemirror_mode": {
    "name": "ipython",
    "version": 2
   },
   "file_extension": ".py",
   "mimetype": "text/x-python",
   "name": "python",
   "nbconvert_exporter": "python",
   "pygments_lexer": "ipython2",
   "version": "2.7.10"
  }
 },
 "nbformat": 4,
 "nbformat_minor": 0
}
