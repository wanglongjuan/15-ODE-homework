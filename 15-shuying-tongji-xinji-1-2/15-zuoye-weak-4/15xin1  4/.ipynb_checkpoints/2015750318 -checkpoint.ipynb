{
 "cells": [
  {
   "cell_type": "markdown",
   "metadata": {},
   "source": [
    "P60 2. 求下列方程的解：\n",
    "\n",
    "(8)$(x+2y)dx+xdy=0$;\n",
    "\n",
    "(9)$[xcos(x+y)+sin(x+y)]dx+(ysinx+xcosx)dy=0$;\n",
    "\n",
    "(10)$(ycosx-xsinx)dx+(ysinx+xcosx)dy=0$;\n",
    "\n",
    "(11)$x(4ydx+2xdy)+y^3(3ydx+5xdy)=0$"
   ]
  },
  {
   "cell_type": "markdown",
   "metadata": {},
   "source": [
    "解：(8)M=x+2y,N=x,所以$\\frac{\\partial M}{\\partial y}=2,\\frac{\\partial N}{\\partial x}=1$"
   ]
  },
  {
   "cell_type": "markdown",
   "metadata": {},
   "source": [
    "     所以方程不是恰当微分方程.\n",
    "     \n",
    "  因为   "
   ]
  },
  {
   "cell_type": "markdown",
   "metadata": {},
   "source": [
    " $\\frac{\\frac{\\partial M}{\\partial y}-\\frac{\\partial N}{\\partial x}}{N}=\\frac{1}{x}$,所以方程的积分因子为$μ=e^{\\int x dx}=x$."
   ]
  },
  {
   "cell_type": "markdown",
   "metadata": {},
   "source": [
    "原方程两边同时乘以积分因子μ可得："
   ]
  },
  {
   "cell_type": "markdown",
   "metadata": {},
   "source": [
    "$2xydx+x^2dy+x^2dx=0$,即$d(\\frac{1}{3}x^3+yx^2)=0$"
   ]
  },
  {
   "cell_type": "markdown",
   "metadata": {},
   "source": [
    "所以方程的通解为$x^3+3x^2y=c$."
   ]
  },
  {
   "cell_type": "markdown",
   "metadata": {},
   "source": [
    "(9)原方程中：$M=xcos(x+y)+sin(x+y),N=xcos(x+y),$\n",
    "\n",
    " 因为"
   ]
  },
  {
   "cell_type": "markdown",
   "metadata": {},
   "source": [
    "$\\frac{\\partial M}{\\partial y}=-xsin(x+y)+cos(x+y)$,\n",
    "          \n",
    "$\\frac{\\partial N}{\\partial x}=cos(x+y)-xsin(x+y)$，\n",
    "         "
   ]
  },
  {
   "cell_type": "markdown",
   "metadata": {},
   "source": [
    "方程是恰当的，且方程可写成"
   ]
  },
  {
   "cell_type": "markdown",
   "metadata": {},
   "source": [
    "$d(xsin(x+y))=0$,"
   ]
  },
  {
   "cell_type": "markdown",
   "metadata": {},
   "source": [
    "所以方程的通解为：$xsin(x+y)=c.$"
   ]
  },
  {
   "cell_type": "markdown",
   "metadata": {},
   "source": [
    "(10)原方程中：$M=ycosx-xsinx,N=ysinx+xcosx$"
   ]
  },
  {
   "cell_type": "markdown",
   "metadata": {},
   "source": [
    "$\\frac{\\partial M}{\\partial y}=cosx,\\frac{\\partial N}{\\partial x}=ycosx+cosx-xsinx,$方程不是恰当微分方程."
   ]
  },
  {
   "cell_type": "markdown",
   "metadata": {},
   "source": [
    "因为\n",
    "$\\frac{\\frac{\\partial M}{\\partial y}-\\frac{\\partial N}{\\partial x}}{-M}=1$"
   ]
  },
  {
   "cell_type": "markdown",
   "metadata": {},
   "source": [
    "所以方程有积分因子\n",
    "\n",
    "$μ=e^\\int{1}dy=e^y$\n",
    "\n",
    "方程两边同时乘以积分因子\n"
   ]
  },
  {
   "cell_type": "markdown",
   "metadata": {},
   "source": [
    "\n",
    "$ye^ycosxdx+ye^xsinxdy+xe^ycosxdy-ye^ysinxdx=0$\n",
    "                     "
   ]
  },
  {
   "cell_type": "markdown",
   "metadata": {},
   "source": [
    "则有\n",
    "$d[(y-1)e^ysinx+e^yxcosx]=0$"
   ]
  },
  {
   "cell_type": "markdown",
   "metadata": {},
   "source": [
    "于是方程的通解为\n",
    "$\n",
    "(y-1)sinx+xcosx=ce^(-y)$."
   ]
  },
  {
   "cell_type": "markdown",
   "metadata": {},
   "source": [
    "(11)$x(4ydx+2xdy)=d(2x^2y).$"
   ]
  },
  {
   "cell_type": "markdown",
   "metadata": {},
   "source": [
    "对于方程\n",
    "$y^3(3ydx+5xdy)=0$,有"
   ]
  },
  {
   "cell_type": "markdown",
   "metadata": {},
   "source": [
    "$M=3y^3,N=5xy^3$"
   ]
  },
  {
   "cell_type": "markdown",
   "metadata": {},
   "source": [
    "则有$\\frac{\\partial M}{\\partial y}=12y^3,\\frac{\\partial N}{\\partial x}=5y^3,$\n",
    "\n",
    "因为"
   ]
  },
  {
   "cell_type": "markdown",
   "metadata": {},
   "source": [
    "$\\frac{\\frac{\\partial M}{\\partial y}-\\frac{\\partial N}{\\partial x}}{5xy^3}=\\frac{7}{5x}$\n",
    "\n",
    "所以方程有积分因子"
   ]
  },
  {
   "cell_type": "markdown",
   "metadata": {},
   "source": [
    "$μ=e^\\int{\\frac{7}{5x}dx}=x^\\frac{7}{5}$"
   ]
  },
  {
   "cell_type": "markdown",
   "metadata": {},
   "source": [
    "方程$y^3(3ydx+5xdy)=0$两边同时乘以积分因子μ，得"
   ]
  },
  {
   "cell_type": "markdown",
   "metadata": {},
   "source": [
    "$3y^4x^\\frac{7}{5}dx+5x^\\frac{12}{5}y^3dy=0$\n",
    "\n",
    "$d(\\frac{5}{4}x^{12}{5}y^4)=0$"
   ]
  },
  {
   "cell_type": "markdown",
   "metadata": {},
   "source": [
    "综上可得，方程的通解为：\n",
    "\n",
    "$2x^2y+\\frac{5}{4}x^\\frac{12}{5}y^4=c$"
   ]
  },
  {
   "cell_type": "markdown",
   "metadata": {},
   "source": [
    "4.设f(x,y)及$\\frac{\\partial f}{\\partial y}$连续，试证方程$dy-f(x,y)dx=0$为线性微分方程的充要条件是它有仅依赖于x的积分因子."
   ]
  },
  {
   "cell_type": "markdown",
   "metadata": {},
   "source": [
    "证：先证明充分性"
   ]
  },
  {
   "cell_type": "markdown",
   "metadata": {},
   "source": [
    "设$dy-f(x,y)dx=0$有仅依赖于x的积分因子，我们应证明该方程是线性的。"
   ]
  },
  {
   "cell_type": "markdown",
   "metadata": {},
   "source": [
    "由于积分因子只依赖于x，所以存在某个ψ(x)满足"
   ]
  },
  {
   "cell_type": "markdown",
   "metadata": {},
   "source": [
    "$\\frac{\\frac{\\partial M}{\\partial y}-\\frac{\\partial N}{\\partial x}}{N}=\\frac{-\\frac{\\partial f}{\\partial y}-0}{1}=ψ(x)$"
   ]
  },
  {
   "cell_type": "markdown",
   "metadata": {},
   "source": [
    "即$\\frac{\\partial f}{\\partial y}=-ψ(x),$"
   ]
  },
  {
   "cell_type": "markdown",
   "metadata": {},
   "source": [
    "上式积分后可得$f(x,y)=-ψ(x)y+h(x),$"
   ]
  },
  {
   "cell_type": "markdown",
   "metadata": {},
   "source": [
    "(h(x)为关于x的任意可微函数，所以原方程可改写为"
   ]
  },
  {
   "cell_type": "markdown",
   "metadata": {},
   "source": [
    "$\\frac{dy}{dx}=-ψ(x)y+h(x),$"
   ]
  },
  {
   "cell_type": "markdown",
   "metadata": {},
   "source": [
    "所以原方程是线性的。"
   ]
  },
  {
   "cell_type": "markdown",
   "metadata": {},
   "source": [
    "再证必要性  若方程$dy-f(x,y)dx=0$是线性微分方程，即存在g(x),h(x)使得"
   ]
  },
  {
   "cell_type": "markdown",
   "metadata": {},
   "source": [
    "$f(x,y)=yg(x)+h(x).$"
   ]
  },
  {
   "cell_type": "markdown",
   "metadata": {},
   "source": [
    "则有$M=-f(x,y)=-yg(x)-h(x),N=1,$"
   ]
  },
  {
   "cell_type": "markdown",
   "metadata": {},
   "source": [
    "$\\frac{\\frac{\\partial M}{\\partial y}-\\frac{\\partial N}{\\partial x}}{N}=\\frac{-g(x)}{1}=-g(x),$"
   ]
  },
  {
   "cell_type": "markdown",
   "metadata": {},
   "source": [
    "所以，方程具有积分因子$μ=e^\\int{-g(x)dx}$"
   ]
  },
  {
   "cell_type": "markdown",
   "metadata": {},
   "source": [
    "此即证明了方程有仅依赖于x的积分因子。"
   ]
  },
  {
   "cell_type": "markdown",
   "metadata": {},
   "source": [
    "8.求出伯努利方程的积分因子.\n",
    "  \n",
    "  解：伯努利方程可设为\n",
    "  \n",
    "$\\frac{dy}{dx}=p(x)y+q(x)y^n,(n≠0,1)$"
   ]
  },
  {
   "cell_type": "markdown",
   "metadata": {},
   "source": [
    "改写为\n",
    "$dy-p(x)ydx-q(x)y^ndx=0$,\n",
    "\n",
    "乘以$y^(-n)$得\n",
    "\n",
    "$y^(-n)dy-p(x)y^(1-n)dx-(1-n)dx=0$\n",
    "\n",
    "即$d(y^(1-n))-(1-n)p(x)y^(1-n)dx-(1-n)q(x)dx=0$\n"
   ]
  },
  {
   "cell_type": "markdown",
   "metadata": {},
   "source": [
    "对上式等式两边同时乘以$e^(1-n)\\int{p(x)dx}$，并对其两边微分，得\n",
    "\n",
    "$d[y^(1-n)e^-(1-n)\\int{p(x)dx}]-d[\\int{(1-n)q(x)e^-(1-n)\\int{p(x)dx}}]dx=0$"
   ]
  },
  {
   "cell_type": "markdown",
   "metadata": {},
   "source": [
    "上式是全微分方程，因此所求的积分因子是\n",
    "$μ=y^(-n)e^(1-n)\\int{p(x)dx}$\n"
   ]
  },
  {
   "cell_type": "markdown",
   "metadata": {},
   "source": [
    "P69 1.求解下列方程："
   ]
  },
  {
   "cell_type": "markdown",
   "metadata": {},
   "source": [
    "(1)$xy\\prime^3=1+y\\prime;$\n",
    "\n",
    "(2)$y\\prime ^3-x^3(1-y\\prime);$\n",
    "\n",
    "(3)$y=y\\prime ^2e^y\\prime$;\n",
    "\n",
    "(4)y$(1+y\\prime^2)=2a$;\n",
    "\n",
    "(5)$x^2+y\\prime^2=1;$\n",
    "\n",
    "(6)$y^2(y\\prime-1)=(2-y\\prime)^2$"
   ]
  },
  {
   "cell_type": "markdown",
   "metadata": {},
   "source": [
    "解：(1)解出x,并以$\\frac{dy}{dx}=p$代入，得到\n",
    "\n",
    "$x=\\frac{1}{p^3}+\\frac{1}{p^2},p≠0，$\n",
    "\n",
    "对y求导数，得到\n",
    "\n",
    "$\\frac{1}{p}=-(\\frac{3}{p^4}+\\frac{2}{p^3})\\frac{dp}{dy}$\n"
   ]
  },
  {
   "cell_type": "markdown",
   "metadata": {},
   "source": [
    "对等式两边积分得\n",
    "$y=\\frac{3}{2p^3}+\\frac{2}{p}+c$\n",
    "\n",
    "所以方程的通解为\n",
    "\n",
    "$\\begin{cases} x=\\frac{1}{p^3}+\\frac{1}{p^2}\\\\ y=\\frac{1}{2p^2}+\\frac{2}{p}+c\\end {cases}，p≠0$"
   ]
  },
  {
   "cell_type": "markdown",
   "metadata": {},
   "source": [
    "(2)令$y\\prime=tx$,则原方程化为\n",
    "\n",
    "$x^3(t^3-1+tx)=0$\n",
    "\n",
    "解出x得\n",
    "\n",
    "$x=\\frac{1}{t}-t^2,$\n",
    "\n",
    "两边对y求导得\n",
    "\n",
    "$\\frac{1}{1-t^3}=-(\\frac{1}{t^2}+2t)\\frac{dt}{dy}$\n",
    "\n",
    "积分得$y=\\frac{-1}{2}t^2+\\frac{2}{5}t^5+\\frac{1}{t}+c$\n",
    "\n",
    "所以方程的通解为$x=\\frac{1}{t}-t^2,y=\\frac{-1}{2}t^2+\\frac{2}{5}t^5+\\frac{1}{t}+c$\n"
   ]
  },
  {
   "cell_type": "markdown",
   "metadata": {},
   "source": [
    "(3)令$y\\prime=p$,则原方程化为$y=p^2e^p$,"
   ]
  },
  {
   "cell_type": "markdown",
   "metadata": {},
   "source": [
    "对x求导数，即得$p=(2p+p^2)e^p\\frac{dp}{dx},$\n",
    "\n",
    "对上式两边求积分得\n",
    "\n",
    "$x=(p+1)e^p$\n"
   ]
  },
  {
   "cell_type": "markdown",
   "metadata": {},
   "source": [
    "所以方程的通解为\n",
    "\n",
    "$\\begin{cases} x=(p+1)e^p\\\\y=p^2e^p\\end {cases}$"
   ]
  },
  {
   "cell_type": "markdown",
   "metadata": {},
   "source": [
    "(4)令$y=\\prime=p,$则原方程化为$y(1+p^2)=2a,$\n",
    "\n",
    "对x求导数，可得\n",
    "\n",
    "$p(1+p^2)^2+4ap\\frac{dp}{dx}=0$\n",
    "\n",
    "积分得\n",
    "\n",
    "$x=-a(\\frac{2p}{1+p^2}+2arctanp+c).$\n",
    "\n",
    "所以，方程的通解为\n",
    "\n",
    "$\\begin{cases} x=-a(\\frac{2p}{1+p^2}+2arctanp+c)\\\\y=\\frac{2a}{p^2+1}\\end {cases}$"
   ]
  },
  {
   "cell_type": "markdown",
   "metadata": {},
   "source": [
    "（5）令$y\\prime=cost,$则方程化为\n",
    "\n",
    "\n",
    "$(cost)^2+x^2=1$,\n",
    "\n",
    "对y求导数,得\n",
    "\n",
    "$x>0,x=sint$.\n",
    "\n",
    "积分之，得\n",
    "\n",
    "$y=\\frac{t}{2}+\\frac{1}{4}sin2t+c$\n",
    "\n",
    "所以方程的通解\n",
    "\n",
    "$\\begin{cases} x=sint\\\\y=\\frac{t}{2}+\\frac{1}{4}sin2t+c\\end {cases}$"
   ]
  },
  {
   "cell_type": "markdown",
   "metadata": {},
   "source": [
    "(6)令$2-y\\prime=yt$,则原方程可化为\n",
    "\n",
    "$y^2t^2=y^2(1-yt)$\n",
    "\n",
    "\n",
    "$y=\\frac{1}{t}-t$                                       ①\n",
    "\n",
    "\n",
    "并且\n",
    "$y\\prime=t^2+1$.\n",
    "\n"
   ]
  },
  {
   "cell_type": "markdown",
   "metadata": {},
   "source": [
    "因为$y\\prime=\\frac{dy}{dx}$\n",
    "\n",
    "所以$dx=\\frac{dy}{y\\prime}=\\frac{1}{t^2}dt$\n",
    "\n",
    "\n",
    "积分得$x=\\frac{1}{t}+c$                              ②\n",
    "\n",
    "①②两式联立方程组并消去参数t得到原方程的通解为\n",
    "\n",
    "$y=x-\\frac{1}{x-c}-c$"
   ]
  },
  {
   "cell_type": "markdown",
   "metadata": {
    "collapsed": true
   },
   "source": [
    "# <font color='red'>A 26/9"
   ]
  },
  {
   "cell_type": "code",
   "execution_count": null,
   "metadata": {
    "collapsed": true
   },
   "outputs": [],
   "source": []
  }
 ],
 "metadata": {
  "kernelspec": {
   "display_name": "SageMath 7.3",
   "language": "",
   "name": "sagemath"
  },
  "language_info": {
   "codemirror_mode": {
    "name": "ipython",
    "version": 2
   },
   "file_extension": ".py",
   "mimetype": "text/x-python",
   "name": "python",
   "nbconvert_exporter": "python",
   "pygments_lexer": "ipython2",
   "version": "2.7.10"
  }
 },
 "nbformat": 4,
 "nbformat_minor": 0
}
