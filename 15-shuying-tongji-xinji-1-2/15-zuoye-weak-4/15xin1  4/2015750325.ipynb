{
 "cells": [
  {
   "cell_type": "markdown",
   "metadata": {},
   "source": [
    "焦畅  2015750325"
   ]
  },
  {
   "cell_type": "markdown",
   "metadata": {},
   "source": [
    "P61\n",
    "2（8）\n",
    "\n",
    "$M=x+2y,N=-x,\\frac{\\partial M}{\\partial y}=2,\\frac{\\partial N}{\\partial x}=1,方程不是恰当的,$\n",
    "\n",
    "$\\frac{\\frac{\\partial M}{\\partial y}-\\frac{\\partial N}{\\partial x}}{N}=\\frac{1}{x},所以方程有积分因子\\mu =e^{\\int\\frac{1}{x}{\\rm d}x}=x$\n",
    "\n",
    "$\\mu M=x乘以方程两边得$\n",
    "\n",
    "$2xy{\\rm d}x+x^2{\\rm d}y+x^2{\\rm d}x=0$\n",
    "\n",
    "$方程通解为x^3+3x^2y=c$"
   ]
  },
  {
   "cell_type": "markdown",
   "metadata": {},
   "source": [
    "(9)\n",
    "\n",
    "$M=xcos(x+y)+sin(x+y),N=xcos(x+y)$\n",
    "\n",
    "$\\frac{\\partial M}{\\partial y}=-xsin(x+y)+cos(x+y),\\frac{\\partial N}{\\partial x}=cos(x+y)-xsin(x+y),$\n",
    "\n",
    "$方程是恰当的，并且方程可以写成{\\rm d}(xsin(x+y))=0$\n",
    "\n",
    "$方程通解为xsin(x+y)=c$"
   ]
  },
  {
   "cell_type": "markdown",
   "metadata": {},
   "source": [
    "(10)\n",
    "\n",
    "$M=ycosx-xsinx,N=ysinx+xcosx,\\frac{\\partial M}{\\partial y}=cosx,\\frac{\\partial N}{\\partial x}=ycos+cosx-xsinx,方程不是恰当的,$\n",
    "\n",
    "$\\frac{\\frac{\\partial M}{\\partial y}-\\frac{\\partial N}{\\partial x}}{M}=1,所以方程有积分因子\\mu =e^{\\int1{\\rm d}y}=e^y$\n",
    "\n",
    "$\\mu =e^y乘以方程两边得$\n",
    "\n",
    "$(ye^ycosxdx+ye^ysinxdy)+(e^ycoxdy-e^yxsinxdx)=0$\n",
    "\n",
    "$方程通解为e^yxcox+e^y(y-1)sinx=c$"
   ]
  },
  {
   "cell_type": "markdown",
   "metadata": {},
   "source": [
    "(11)\n",
    "\n",
    "$x(4ydx+2xdy)=d(2x^2y),则对于y^3(3ydx+5xdy)=0,有$\n",
    "\n",
    "$M=3y^4,N=5xy^3,\\frac{\\partial M}{\\partial y}=12y^3,\\frac{\\partial N}{\\partial x}=5y^3,$\n",
    "\n",
    "$\\frac{\\frac{\\partial M}{\\partial y}-\\frac{\\partial N}{\\partial x}}{5xy^3}=\\frac{7}{5x},所以方程有积分因子\\mu =e^{\\int\\frac{7}{5x}{\\rm d}x}=x^{\\frac{7}{5x}}$\n",
    "\n",
    "$\\mu =x^{\\frac{7}{5}}乘以方程两边得$\n",
    "\n",
    "$3y^4x^{\\frac{7}{5}}{\\rm d}x+5x^{\\frac{12}{5}y^3}{\\rm d}y=0$\n",
    "\n",
    "$d(\\frac{5}{4}x^{\\frac{12}{5}y^4})=0$\n",
    "\n",
    "$综上，原方程通解为8x^2y+5x^{\\frac{12}{5}}y^4=c$"
   ]
  },
  {
   "cell_type": "markdown",
   "metadata": {},
   "source": [
    "8\n",
    "\n",
    "$伯努利方程为 \\frac{dy}{dx}=p(x)y+q(x)y^n$\n",
    "\n",
    "$可化为  dy-p(x)ydx-q(x)y^ndx=0$\n",
    "\n",
    "$两边同时，乘以y^{-n}得$\n",
    "\n",
    "$$y^{-n}dy-p(x)y^{1-n}dx-q(x)dx=0$$\n",
    "\n",
    "$$d(y^{1-n})-(1-n)p(x)y^{1-n}dx-(1-n)q(x)dx=0$$\n",
    "\n",
    "$再乘e^{-(1-n)\\int p(x)dx}得$\n",
    "\n",
    "$$e^{-(1-n)\\int p(x)dx}[d(y^{1-n})-(1-n)p(x)y^{1-n}dx]-e^{-(1-n)\\int p(x)dx}(1-n)q(x)dx=0$$\n",
    "\n",
    "$$d[y^{1-n}e^{-(1-n)\\int p(x)dx}]-d[\\int (1-n)q(x)e^{-(1-n)\\int p(x)dx}(1-n)q(x)dx]=0$$\n",
    "\n",
    "$$所求积分因子为\\mu =y^{-n}e^{(n-1)\\int p(x)dx}$$"
   ]
  },
  {
   "cell_type": "markdown",
   "metadata": {},
   "source": [
    "P70\n",
    "\n",
    "(1)\n",
    "\n",
    "$令\\frac{dy}{dx}=p,得到x=\\frac{1}{p^3}+{1}{p^2}\\neq 0$\n",
    "\n",
    "$$同时对y求导，得，\\frac{1}{p}=(-\\frac{3}{p^4}-\\frac{2}{p^3})\\frac{dp}{dy}$$\n",
    "\n",
    "$$(3+2p)dp+p^3dy=0$$\n",
    "\n",
    "$$y=\\frac{3}{2p^2}+\\frac{2}{p}+c$$\n",
    "\n",
    "$方程的通解为$\n",
    "\n",
    "$$\\begin{cases}\n",
    "  x=\\frac{1}{p^3}+\\frac{1}{p^2}\\\\y=\\frac{1}{2p^2}+\\frac{2}{p}+c\n",
    "  \\end{cases}$$"
   ]
  },
  {
   "cell_type": "markdown",
   "metadata": {},
   "source": [
    "(2)\n",
    "\n",
    "$令y'=tx,得x^3(t^3-1+tx)=0$\n",
    "\n",
    "$$x=\\frac{1}{t}-t^2$$\n",
    "\n",
    "$对y求导\\frac{1}{1-t^3}=(-\\frac{1}{t^2}-2t)*\\frac{dt}{dy}$\n",
    "\n",
    "$$dy=[(1-t^3)(-\\frac{1}{t^2}-2)]dt$$\n",
    "\n",
    "$$y=-\\frac{1}{2}t^2+\\frac{2}{5}t^5+\\frac{1}{t}+c$$\n",
    "\n",
    "$则通解为$\n",
    "\n",
    "$$\\begin{cases}x=\\frac{1}{t}-t^2\\\\y=-\\frac{1}{2}t^2+\\frac{2}{5}t^5+\\frac{1}{t}+c\n",
    "\\end{cases}$$"
   ]
  },
  {
   "cell_type": "markdown",
   "metadata": {},
   "source": [
    "(3)\n",
    "\n",
    "$令y'=p则原方程化为y=p^2e^p$\n",
    "\n",
    "$对x求导，p=(2p+p^2）e^p\\frac{dp}{dx}$\n",
    "\n",
    "$$dx=(p+2)e^pdp$$\n",
    "\n",
    "$$x=(p+1)e^p+c$$\n",
    "\n",
    "$则方程的通解为$\n",
    "\n",
    "$$\\begin{cases}x=(p+1)e^p+c\\\\y=p^2e^p\\end{cases}$$"
   ]
  },
  {
   "cell_type": "markdown",
   "metadata": {},
   "source": [
    "(4)\n",
    "\n",
    "$令y'=tant,则原方程化为y=2acox^2t$\n",
    "\n",
    "$对x求导，tant=-2asin2t\\frac{dt}{dx}$\n",
    "\n",
    "$$dx=-4acox^2t dt$$\n",
    "\n",
    "$$x=-a(2t+sin2t+c)$$\n",
    "\n",
    "$则方程的通解为$\n",
    "\n",
    "$$\\begin{cases}x=-a(2t+sin2t+c)\\\\y=2a{coxt}^2\\end{cases}$$"
   ]
  },
  {
   "cell_type": "markdown",
   "metadata": {},
   "source": [
    "(5)\n",
    "\n",
    "$令y'=cost,则原方程化为x^2+cos^2t=1,x=sint$\n",
    "\n",
    "$对y求导，\\frac{1}{cost}=\\frac{dt}{dy}$\n",
    "\n",
    "$$dy=cox^2tdt$$\n",
    "\n",
    "$$y=\\frac{t}{2}+\\frac{1}{4}sin2t+c$$\n",
    "\n",
    "$则方程的通解为$\n",
    "\n",
    "$$\\begin{cases}x=sint\\\\y=\\frac{t}{2}+\\frac{1}{4}sin2t+c\\end{cases}$$"
   ]
  },
  {
   "cell_type": "markdown",
   "metadata": {},
   "source": [
    "(6)\n",
    "\n",
    "$令2-y'=yt,原方程化为y^2(1-yt)=y^2t^2$\n",
    "\n",
    "$得y=\\frac{1}{t}-t,且y'=1+t^2$\n",
    "\n",
    "$$dx=\\frac{dy}{y'}=\\frac{(-\\frac{1}{t^2}-1)dt}{1+t^2}=-\\frac{1}{t^2}dt$$\n",
    "\n",
    "$积分，得x=\\frac{1}{t}+c$\n",
    "\n",
    "$求得方程的通解$\n",
    "\n",
    "$$\\begin{cases}x=\\frac{1}{t}+c\\\\y=\\frac{1}{t}-t\\end{cases}$$\n",
    "\n",
    "$消去t，得y=x-\\frac{1}{x-c}-c$\n",
    "\n",
    "$其中c为任意常数$\n",
    "\n",
    "$当y'=0时，原方程变为-y^2=4,此时方程无解$"
   ]
  },
  {
   "cell_type": "markdown",
   "metadata": {},
   "source": [
    "# <font color='red'>A 26/9  缺4题"
   ]
  },
  {
   "cell_type": "code",
   "execution_count": null,
   "metadata": {
    "collapsed": true
   },
   "outputs": [],
   "source": []
  }
 ],
 "metadata": {
  "kernelspec": {
   "display_name": "SageMath 7.3",
   "language": "",
   "name": "sagemath"
  },
  "language_info": {
   "codemirror_mode": {
    "name": "ipython",
    "version": 2
   },
   "file_extension": ".py",
   "mimetype": "text/x-python",
   "name": "python",
   "nbconvert_exporter": "python",
   "pygments_lexer": "ipython2",
   "version": "2.7.10"
  }
 },
 "nbformat": 4,
 "nbformat_minor": 0
}
