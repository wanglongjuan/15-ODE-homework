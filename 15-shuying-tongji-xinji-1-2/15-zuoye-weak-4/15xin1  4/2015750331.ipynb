{
 "cells": [
  {
   "cell_type": "markdown",
   "metadata": {},
   "source": [
    "$Tage:61  $ $ $ $ T2   $ $ (8)$\n",
    "\n",
    "$$(x+2y)\\mathrm d x+x\\mathrm d y=0$$\n",
    "\n",
    "$$首先把\\frac{ y}{ x}=u$$\n",
    "\n",
    "$$y=ux$$\n",
    "\n",
    "$$\\frac{\\mathrm d y }{\\mathrm d x}=u+x\\frac{\\mathrm d u}{\\mathrm d x}$$\n",
    "\n",
    "$$-1-3u=x\\frac{\\mathrm d u}{\\mathrm d x}$$\n",
    "\n",
    "$$所以\\frac{1}{x}\\mathrm d x=\\frac{1}{-1-3u}\\mathrm d u$$\n",
    "\n",
    "$$两边同时积分$$\n",
    "\n",
    "$$(-3)\\int \\mathrm{\\frac{1}{x}\\mathrm d x}=\\int \\mathrm{\\frac{1}{1+3u}\\mathrm (3u+1)}$$\n",
    "\n",
    "$$\\frac{1}{x^3}=\\frac{3y}{x}+1$$\n",
    "\n",
    "$$1=3x^2y+x^3$$"
   ]
  },
  {
   "cell_type": "markdown",
   "metadata": {},
   "source": [
    "$Tage:61  $ $ $ $ T2   $ $ (9)$\n",
    "\n",
    "$$[xcos(x+y)+sin(x+y)]\\mathrm d x+xcos(x+y)\\mathrm d y=0$$\n",
    "\n",
    "$$[xcos(x+y)+sin(x+y)]=M$$   \n",
    "\n",
    "$$xcos(x+y)=N$$\n",
    "\n",
    "$$\\frac{\\partial M}{\\partial y }=-xsinx(x+y)+cos(x+y)$$\n",
    "\n",
    "$$\\frac{\\partial N}{\\partial x }=-xsinx(x+y)+cos(x+y)$$\n",
    "\n",
    "$$\\frac{\\partial M}{\\partial y }=\\frac{\\partial N}{\\partial x } $$\n",
    "\n",
    "$$原方程为恰当方程$$\n",
    "\n",
    "$$\\mathrm d(xsin(x+y))=0$$\n",
    "\n",
    "$$\\mathrm xsin(x+y)=c$$"
   ]
  },
  {
   "cell_type": "markdown",
   "metadata": {},
   "source": [
    "$Tage:61  $ $ $ $ T2   $ $ (10)$\n",
    "\n",
    "$$(ycosx-xsinx)\\mathrm d x+(ysinx+xcosx)\\mathrm d y=0$$\n",
    "\n",
    "$$(ycosx-xsinx)=M$$\n",
    "\n",
    "$$(ysinx+xcosx)=N$$\n",
    "\n",
    "$$\\frac{\\partial M}{\\partial y }=cosx$$\n",
    "\n",
    "$$\\frac{\\partial N}{\\partial x }=ycosx+cosx-xsinx$$\n",
    "\n",
    "$$\\frac{\\partial M}{\\partial y } \\neq \\frac{\\partial N}{\\partial x } $$\n",
    "\n",
    "$$此方程非恰当方程$$\n",
    "\n",
    "$$\\frac{\\frac{\\partial M}{\\partial y }-\\frac{\\partial N}{\\partial x }}{-M}=1$$\n",
    "\n",
    "$$\\mu =e^{\\int \\mathrm {1}\\mathrm d y}=e^y$$\n",
    "\n",
    "$$两边同乘一个\\mu得到最后的结果为$$\n",
    "\n",
    "$$e^ysinx(y-1)+e^ycosy=c$$"
   ]
  },
  {
   "cell_type": "markdown",
   "metadata": {},
   "source": [
    "$Tage:61  $ $ $ $ T2   $ $ (11)$\n",
    "\n",
    "$$x(4y\\mathrm d y +2x \\mathrm  d y )+y^3(3y\\mathrm d x +5x\\mathrm d y )=0$$\n",
    "\n",
    "$$两边同乘一个x^2y$$\n",
    "\n",
    "$$(4x^3y^2\\mathrm d x+2x^4y\\mathrm d y)+(3x^2x^5\\mathrm d x+5x^3y^4\\mathrm d y)=0$$\n",
    "\n",
    "$$\\mathrm d (x^4y^2)+\\mathrm d (x^3y^5)=0$$\n",
    "\n",
    "$$两边同时积分$$\n",
    "\n",
    "$$x^4y^2+x^3y^5=c$$\n",
    "\n",
    "$Tage:  61$ $ $ $T4  $ \n",
    "\n",
    "$$证明：必要性：若该方程为线性方程，有\\frac{\\mathrm d y}{\\mathrm d x}=P(x)y+Q(x)$$\n",
    "\n",
    "$$此方程积分因子只与x有关$$\n",
    "\n",
    "$$充分性：若只有与x有关的积分因子\\mu(x)$$\n",
    "\n",
    "$$则\\mu(x)\\mathrm d y -\\mu(x) f(x,y)\\mathrm d x=0为恰当方程$$\n",
    "\n",
    "$$从而\\frac{\\partial -\\mu(x) f(x,y)}{\\partial y}=\\frac{\\mathrm d \\mu(x)}{\\mathrm d x}$$\n",
    "\n",
    "$$\\frac{\\partial f}{\\partial y}$$\n",
    "\n",
    "$$f=-\\frac{\\mu'(x)}{\\mu (x)}y+Q(x)=P(x)y+Q(x)$$\n",
    "\n",
    "$$其中P(x)==-\\frac{\\mu'(x)}{\\mu (x)}，方程可化为\\mathrm d y -(P(x)y+Q(x))\\mathrm d x=0$$\n",
    "\n",
    "$$为一阶线性方程$$"
   ]
  },
  {
   "cell_type": "markdown",
   "metadata": {},
   "source": [
    "$Tage:61  $ $ $ $ T8$\n",
    "\n",
    "\n",
    "$$\\frac{\\mathrm d y}{\\mathrm d x}=P(x)y+Q(x)y^n,y \\neq 0;$$\n",
    "\n",
    "\n",
    "$$两边同乘一个y^{-n}$$\n",
    "\n",
    "$$\\frac{\\mathrm d y}{\\mathrm d x}=(1-n)P(x)z+(1-n)Q(x)$$\n",
    "\n",
    "$$此线性方程拥有积分因子$$\n",
    "\n",
    "$$\\mu =e^{-\\int \\mathrm {(1-n)P(x)}\\mathrm d x}=e^{-\\int \\mathrm {(n-1)P(x)}\\mathrm d x}$$\n",
    "\n",
    "$$由此可以得到答案$$\n"
   ]
  },
  {
   "cell_type": "markdown",
   "metadata": {},
   "source": [
    "$Tage: 70 $ $ $ T1  $ $$ (1)$\n",
    "\n",
    "$$首先把xy'^3=1+y'$$\n",
    "\n",
    "$$y'=t$$\n",
    "\n",
    "$$可以得到x=\\frac{1+t}{t^3}$$\n",
    "\n",
    "$$\\mathrm d y =y'\\mathrm d x$$\n",
    "\n",
    "$$\\mathrm d y =t \\mathrm d(\\frac{1+t}{t^3})$$\n",
    "\n",
    "$$\\mathrm d y =\\frac{-3-2t}{t^3}\\mathrm d t$$\n",
    "\n",
    "$$两边同时积分可以得到$$\n",
    "\n",
    "$$y=\\frac{9+4t}{t^4}+c$$\n",
    "\n",
    "$$所以最后的答案为$$\n",
    "\n",
    "$$\\begin {cases}\n",
    "   x=\\frac{1+t}{t^3}\\\\\n",
    "   y=\\frac{9+4t}{t^4}+c\n",
    "   \\end{cases}$$"
   ]
  },
  {
   "cell_type": "markdown",
   "metadata": {},
   "source": [
    "$Tage: 70 $ $ $ T1 $ $ $ (2)$\n",
    "\n",
    "$$y'^3-x^3(1-y')=0$$\n",
    "\n",
    "$$首先把p=tx$$\n",
    "\n",
    "$$x=\\frac{t^3-1}{t}=t^2-\\frac{1}{t}$$\n",
    "\n",
    "$$mathrm d y=y'\\mathrm d x$$\n",
    "\n",
    "$$两边同时积分可以得到$$\n",
    "\n",
    "$$y=\\int \\mathrm {2t^4-t-\\frac{1}{t^2}}\\mathrm d t+c$$\n",
    "\n",
    "$$y=\\frac{2t^5}{5}-\\frac{t^2}{2}+\\frac{1}{t}+c$$\n",
    "\n",
    "$$所以最后的答案为$$\n",
    "\n",
    "$$\\begin {cases}\n",
    "  x=\\frac{t^3-1}{t}=t^2-\\frac{1}{t}\\\\\n",
    "   y=\\frac{2t^5}{5}-\\frac{t^2}{2}+\\frac{1}{t}+c\n",
    "   \\end{cases}$$"
   ]
  },
  {
   "cell_type": "markdown",
   "metadata": {},
   "source": [
    "$Tage: 70 $ $ $ T1 $ $ $ (3)$\n",
    "\n",
    "$$y=y'^2e^{y'}$$\n",
    "\n",
    "$$首先把y'=t$$\n",
    "\n",
    "$$y=t^2e^t$$\n",
    "\n",
    "$$\\mathrm d x=\\frac{1}{y'}\\mathrm d y$$\n",
    "\n",
    "$$\\mathrm d x=\\frac{1}{y'}(2te^t+t^2e^t)\\mathrm d t$$\n",
    "\n",
    "$$两边同时积分可以得到$$\n",
    "\n",
    "$$x=(t+1)e^t+c$$\n",
    "\n",
    "$$所以最后的答案为$$\n",
    "\n",
    "$$\\begin {cases}\n",
    "  x=(t+1)e^t+c\\\\\n",
    "   y=t^2e^t\n",
    "   \\end{cases}$$"
   ]
  },
  {
   "cell_type": "markdown",
   "metadata": {},
   "source": [
    "$Tage: 70 $ $ $ T1  $ $ $ (4)$\n",
    "\n",
    "$$y(1+y'^2)=2a$$\n",
    "\n",
    "$$首先把y'=t$$\n",
    "\n",
    "$$y=\\frac{2a}{1+t}$$\n",
    "\n",
    "$$\\mathrm d x=\\frac{1}{y'}\\mathrm d y$$\n",
    "\n",
    "$$两边同时积分可以得到$$\n",
    "\n",
    "$$x=-2aln|t|+2aln|t+1|-4a\\frac{1}{(1+t)^3}+c$$\n",
    "\n",
    "$$所以最后的答案为$$\n",
    "\n",
    "$$\\begin {cases}\n",
    "   x=-2aln|t|+2aln|t+1|-4a\\frac{1}{(1+t)^3}+c\\\\\n",
    "  y=\\frac{2a}{1+t}\n",
    "   \\end{cases}$$"
   ]
  },
  {
   "cell_type": "markdown",
   "metadata": {},
   "source": [
    "$Tage: 70 $ $ $ T1  $ $ $ (5)$\n",
    "\n",
    "$$x^2+y'^2=1$$\n",
    "\n",
    "$$首先把y'=sint$$\n",
    "\n",
    "$$x=cost$$\n",
    "\n",
    "$$\\mathrm d y =y'\\mathrm d t$$\n",
    "\n",
    "$$两边同时积分可以得到$$\n",
    "\n",
    "$$y=\\int \\mathrm {\\frac{1-cos(2t)}{2}}$$\n",
    "\n",
    "$$y=\\frac{t}{2}-\\frac{sin2t}{4}+c$$\n",
    "\n",
    "$$所以最后的答案为$$\n",
    "\n",
    "$$\\begin {cases}\n",
    "  x=cost\\\\\n",
    "y=\\frac{t}{2}-\\frac{sin2t}{4}+c\n",
    "   \\end{cases}$$"
   ]
  },
  {
   "cell_type": "markdown",
   "metadata": {},
   "source": [
    "$Tage: 70 $ $ $ T1  $ $ $(6)$\n",
    "\n",
    "$$y^2(y'-1)=(2-y')^2$$\n",
    "\n",
    "$$首先把2-y'=yt$$\n",
    "\n",
    "$$y=t+\\frac{1}{t}$$\n",
    "\n",
    "$$\\mathrm d x=\\frac{\\mathrm d y}{y'}$$$$\\\\=-\\frac{1}{t^2}\\mathrm d t$$\n",
    "\n",
    "$$两边同时积分可以得到$$\n",
    "\n",
    "$$x=\\frac{1}{t}+c$$\n",
    "\n",
    "$$所以最后的答案为$$\n",
    "\n",
    "$$\\begin {cases}\n",
    "   x=\\frac{1}{t}+c\\\\\n",
    " y=t+\\frac{1}{t}\n",
    "   \\end{cases}$$"
   ]
  },
  {
   "cell_type": "markdown",
   "metadata": {},
   "source": [
    " $$time:2016.9.24$$"
   ]
  },
  {
   "cell_type": "markdown",
   "metadata": {
    "collapsed": true
   },
   "source": []
  },
  {
   "cell_type": "markdown",
   "metadata": {
    "collapsed": true
   },
   "source": [
    "# <font color='red'>A 26/9\n"
   ]
  },
  {
   "cell_type": "code",
   "execution_count": null,
   "metadata": {
    "collapsed": true
   },
   "outputs": [],
   "source": []
  }
 ],
 "metadata": {
  "kernelspec": {
   "display_name": "SageMath 7.3",
   "language": "",
   "name": "sagemath"
  },
  "language_info": {
   "codemirror_mode": {
    "name": "ipython",
    "version": 2
   },
   "file_extension": ".py",
   "mimetype": "text/x-python",
   "name": "python",
   "nbconvert_exporter": "python",
   "pygments_lexer": "ipython2",
   "version": "2.7.10"
  }
 },
 "nbformat": 4,
 "nbformat_minor": 0
}
