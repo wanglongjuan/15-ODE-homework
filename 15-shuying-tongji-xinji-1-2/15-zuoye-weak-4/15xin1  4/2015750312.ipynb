{
 "cells": [
  {
   "cell_type": "markdown",
   "metadata": {},
   "source": [
    "**2.解:**(8)∵ $$ A=x+2y,B=x,\\frac{\\partial{A}}{\\partial{y}}=2,\\frac{\\partial{B}}{\\partial{x}}=1 $$\n",
    "\n",
    "∴方程不是恰当的\n",
    "\n",
    "又∵ $$ \\frac{\\frac{\\partial{A}}{\\partial{y}}-\\frac{\\partial{B}}{\\partial{x}}}{B}=\\frac{1}{x} $$\n",
    "\n",
    "∴方程有积分因子 $$ u=e^{\\int \\frac{1}{x}\\,\\mathrm{d}x}=x $$\n",
    "\n",
    "$ u=x $ 乘以方程两边，得 $$ 2xydx+x^2dy+x^2dx=0 $$\n",
    "\n",
    "即 $$ d(x^2y+\\frac{1}{3}x^3)=0 $$\n",
    "\n",
    "∴方程的通解为 $$ x^3+3x^2y=c $$ $c$为任意常数"
   ]
  },
  {
   "cell_type": "markdown",
   "metadata": {},
   "source": [
    "(9)∵ $$ C=xcos(x+y)+sin(x+y),D=xcos(x+y),\\frac{\\partial{C}}{\\partial{y}}=-sin(x+y)+cos(x+y),\\frac{\\partial{D}}{\\partial{x}}=-xsin(x+y)+cos(x+y) $$\n",
    "\n",
    "∴方程是恰当的，且可写为 $$ d(xsin(x+y))=0 $$\n",
    "\n",
    "∴方程的通解为 $$ xsin(x+y)=c $$ $c$为任意常数"
   ]
  },
  {
   "cell_type": "markdown",
   "metadata": {},
   "source": [
    "(10)∵ $$ E=ycosx-xsinx,F=ysinx+xcosx,\\frac{\\partial{E}}{\\partial{y}}=cosx,\\frac{\\partial{F}}{\\partial{x}}=ycosx+cosx-xsinx $$\n",
    "\n",
    "∴方程不是恰当的\n",
    "\n",
    "又∵ $$ \\frac{\\frac{\\partial{E}}{\\partial{y}}-\\frac{\\partial{F}}{\\partial{x}}}{-E}=1 $$\n",
    "\n",
    "∴方程有积分因子 $$ u=e^{\\int 1\\,\\mathrm{d}y}=e^y $$\n",
    "\n",
    "$ u=e^y $ 乘以两边方程，得 $$ (ye^ycosxdx+ye^ysinxdy)+(e^yxcosxdy-e^yxsinxdx)=0 $$\n",
    "\n",
    "即 $$ d[(y-1)e^ysinx+e^yxcosx]=0 $$\n",
    "\n",
    "∴方程的通解为 $$ (y-1)e^ysinx+e^yxcosx=c $$ $c$为任意常数"
   ]
  },
  {
   "cell_type": "markdown",
   "metadata": {},
   "source": [
    "(11) $$ G=4xy+3y^4,H=2x^2+5xy^3,\\frac{\\partial{G}}{\\partial{y}}=4x+12y^3,\\frac{\\partial{H}}{\\partial{x}}=4x+5y^3 $$\n",
    "\n",
    "∴方程不是恰当的\n",
    "\n",
    "又∵ $ G、H $ 为多项式，设积分因子的形式为 $$ u=x^my^n $$\n",
    "\n",
    "把它乘以两边方程，得 $$ (4x^{m+1}y^{n+1}+3x^my^{n+4})dx+(2x^{m+2}y^n+5x^{m+1}y^{n+3})dy=0 $$\n",
    "\n",
    "∴它是恰当方程的充要条件为 $$ 4(n+1)x^{m+1}y^n+3(n+4)x^my^{n+3}=2(m+2)x^{m+1}y^n+5(m+1)x^my^{n+3} $$\n",
    "\n",
    "对比系数得 \n",
    "\n",
    "$$\n",
    "\\begin{cases}\n",
    "4n-2m=0\\\\\n",
    "3n-5m+7=0\n",
    "\\end{cases}\n",
    "$$\n",
    "\n",
    "解，得\n",
    "\n",
    "$$\n",
    "\\begin{cases}\n",
    "m=2\\\\\n",
    "n=1\n",
    "\\end{cases}\n",
    "$$\n",
    "\n",
    "即积分因子为 $ u=x^2y $\n",
    "\n",
    "把它乘以两边方程，得 $$ 4x^3y^2dx+3x^2y^5dx+2x^4ydy+5x^3y^4dy=d(x^4y^2)+d(x^3y^5)=0 $$\n",
    "\n",
    "\n",
    "∴ 方程的通解为 $$ x^4y^2+x^3y^5=c $$\n",
    "\n",
    "方程的解还有 $$ x=0,y=0 $$"
   ]
  },
  {
   "cell_type": "markdown",
   "metadata": {},
   "source": [
    "**4.证明:**充分性：\n",
    "\n",
    "设 $ dy-f(x,y)dx=0 $ 有仅依赖于 $ x $ 的积分因子，证该方程是线性的\n",
    "\n",
    "∵积分因子只依赖于 $ x $ \n",
    "\n",
    "∴存在某个 $ \\varphi(x) $ 满足 $$ \\frac{\\frac{\\partial{M}}{\\partial{y}}-\\frac{\\partial{N}}{\\partial{x}}}{N}=\\frac{-\\frac{\\partial{f}}{\\partial{y}}-0}{1}=\\varphi(x) $$\n",
    "\n",
    "即 $$ \\frac{\\partial{f}}{\\partial{y}}=-\\varphi(x) $$\n",
    "\n",
    "积分，得 $$ f(x,y)=-\\varphi(x)y+h(x) $$\n",
    "\n",
    "其中 $ h(x) $是关于 $ x $ 的任意可微函数\n",
    "\n",
    "∴原方程便为 $$ \\frac{dy}{dx}=-\\varphi(x)y+h(x) $$\n",
    "\n",
    "充分性得证\n",
    "\n",
    "必要性：\n",
    "\n",
    "设方程 $$ dy-f(x,y)dx=0 $$ 是线性微分方程\n",
    "\n",
    "即存在 $ g(x),h(x) $ 使 $$ f(x,y)=y*g(x)+h(x) $$\n",
    "\n",
    "这样 $$ M=-f(x,y)=-yg(x)-h(x) $$\n",
    "\n",
    "$$ N=1,\\frac{\\frac{\\partial{M}}{\\partial{y}}-\\frac{\\partial{N}}{\\partial{x}}}{N}=\\frac{-g(x)}{1}=-g(x) $$\n",
    "\n",
    "∴方程具有积分因子 $$ u=e^{\\int -g(x)\\,\\mathrm{d}x} $$\n",
    "\n",
    "即方程有仅依赖于 $ x $ 的积分因子\n"
   ]
  },
  {
   "cell_type": "markdown",
   "metadata": {},
   "source": [
    "**8.解：**伯努利方程为 $$ \\frac{dy}{dx}=P(x)+Q(x)y^n(n\\neq0,1) $$\n",
    "\n",
    "改写为 $$ dy-P(x)ydy-Q(x)y^ndx=0 $$\n",
    "\n",
    "乘以 $ y^{-n} $ 得 $$ d(y^{1-n})-P(x)y^{1-n}dx-Q(x)dx=0 $$\n",
    "\n",
    "即 $$ d(y^{1-n})-(1-n)P(x)y^{1-n}dx-(1-n)Q(x)dx=0 $$\n",
    "\n",
    "再乘以 $ e^{-(1-n)\\int P(x)\\,\\mathrm{d}x} $ 得\n",
    "\n",
    "$$ e^{-(1-n)\\int P(x)\\,\\mathrm{d}x}[d(y^{1-n})-(1-n)P(x)y^{1-n}dx]-e^{-(1-n)\\int P(x)\\,\\mathrm{d}x}P(x)y^{1-n}dx-Q(x)dx=0 $$\n",
    "\n",
    "即 $$ d[y^{1-n}e^{-(1-n)\\int P(x)\\,\\mathrm{d}x}]-d[-(1-n)\\int (1-n)Q(x)e^{-(1-n)\\int P(x)\\,\\mathrm{d}x}\\,\\mathrm{d}]=0 $$\n",
    "\n",
    "∵这为全微分\n",
    "\n",
    "∴所求的积分因子是 $$ y^{-n}e^{-(1-n)\\int P(x)\\,\\mathrm{d}x} $$"
   ]
  },
  {
   "cell_type": "markdown",
   "metadata": {
    "collapsed": true
   },
   "source": [
    "**1.解：**(1)不显 $ y $ ,记 $$ y^{\\prime}=\\frac{1}{t} $$\n",
    "\n",
    "则方程化为 $$ xt^{-3}=1+t^{-1},x=t^3+t^2 $$\n",
    "\n",
    "和 $$ dy=\\frac{dx}{t}=t^{-1}d(t^3+t^2)=(3t+2)dt $$\n",
    "\n",
    "∴ $$ y=\\frac{3}{2}t^2+2t+c $$\n",
    "\n",
    "∴方程的通解为\n",
    "\n",
    "$$\n",
    "\\begin{cases}\n",
    "x=t^3+t^2\\\\\n",
    "y=\\frac{3}{2}t^3+2t+c\n",
    "\\end{cases}\n",
    "$$\n",
    "\n",
    "其中 $ t $为参数， $ c $为任意常数\n"
   ]
  },
  {
   "cell_type": "markdown",
   "metadata": {},
   "source": [
    "(2)方程不含 $ y $ , 记 $$ y^{\\prime}=tx $$\n",
    "\n",
    "则方程化为 $$ (t^3-(1-tx))x^3=0 $$\n",
    "\n",
    "解出 $ x $ 得 $$ x=\\frac{1}{t}-t^2 $$\n",
    "\n",
    "两边对 $ y $ 求导，得 $$ \\frac{1}{1-t^3}=(-\\frac{1}{t}-2t)*\\frac{dt}{dy} $$\n",
    "\n",
    "即 $$ dy=[(1-t^3)(-\\frac{1}{t}-2t)]dt $$\n",
    "\n",
    "积分，得 $$ y=-\\frac{1}{2}t^2+\\frac{2}{5}t^5+\\frac{1}{t}+c $$\n",
    "\n",
    "∴方程的\\\\通解为\n",
    "\n",
    "$$\n",
    "\\begin{cases}\n",
    "x=\\frac{1}{t}-t^2\\\\\n",
    "y=-\\frac{1}{2}t^2+\\frac{2}{5}t^5+\\frac{1}{t}+c\n",
    "\\end{cases}\n",
    "$$\n",
    "\n",
    "其中 $ t $为参数， $ c $为任意常数"
   ]
  },
  {
   "cell_type": "markdown",
   "metadata": {
    "collapsed": true
   },
   "source": [
    "(3)已解出 $ y $ ,不显含 $ x $ , 令 $$ y^{\\prime}=p $$\n",
    "\n",
    "则原方程化为 $$ y=p^2e^p $$\n",
    "\n",
    "对 $ x $ 求导，得 $$ p=(2p+p^2)e^p\\frac{dp}{dx} $$\n",
    "\n",
    "即 $$ dx=(p+2)e^pdp $$\n",
    "\n",
    "积分，得 $$ x=(p+1)e^p+c $$\n",
    "\n",
    "∴方程的通解为\n",
    "\n",
    "$$\n",
    "\\begin{cases}\n",
    "x=(p+1)e^p+c\\\\\n",
    "y=p^2e^p\n",
    "\\end{cases}\n",
    "$$\n",
    "\n",
    "其中 $ p $为参数， $ c $为任意常数\n",
    "\n",
    "此外， $ y=0 $ 也是方程的解"
   ]
  },
  {
   "cell_type": "markdown",
   "metadata": {},
   "source": [
    "(4)方程不显含 $ x $ , 令 $$ y^{\\prime}=tant $$\n",
    "\n",
    "则方程化为 $$ y=2axos^2t $$\n",
    "\n",
    "两端对 $ x $ 求导，得 $$ tant=-2asin2t*\\frac{dt}{dx} $$\n",
    "\n",
    "即 $$ dx=-4acos^2tdt $$\n",
    "\n",
    "积分，得 $$ x=-a(2t+sin2t)+c $$\n",
    "\n",
    "∴方程的通解为\n",
    "\n",
    "$$\n",
    "\\begin{cases}\n",
    "x=-a(2t+sin2t)+c\\\\\n",
    "y=2acos^2t\n",
    "\\end{cases}\n",
    "$$\n",
    "\n",
    "\n",
    "其中 $ t $为参数， $ c $为任意常数\n",
    "\n",
    "此外， $ y=2a $ 也是方程的解"
   ]
  },
  {
   "cell_type": "markdown",
   "metadata": {},
   "source": [
    "(5)方程不显含 $ y $ , 令 $$ y^{\\prime}=cost $$\n",
    "\n",
    "则方程化为 $$ x=sint $$\n",
    "\n",
    "对 $ y $ 求导，得 $$ dy=cos^2tdt $$\n",
    "\n",
    "积分，得 $$ y=\\frac{t}{2}+\\frac{1}{4}sin2t+c $$\n",
    "\n",
    "∴方程的通解为\n",
    "\n",
    "$$\n",
    "\\begin{cases}\n",
    "x=sint\\\\\n",
    "y=\\frac{t}{2}+\\frac{1}{4}sin2t+c\n",
    "\\end{cases}\n",
    "$$\n",
    "\n",
    "其中 $ t $为参数， $ c $为任意常数"
   ]
  },
  {
   "cell_type": "markdown",
   "metadata": {},
   "source": [
    "(6)方程不显含 $ x $ , 令 $$2-y^{\\prime}=ty $$\n",
    "\n",
    "则方程化为 $$ y^2(1-yt)=y^2t^2 $$\n",
    "\n",
    "由此，得 $$ y=\\frac{1}{t}-t $$\n",
    "\n",
    "且 $$ y^{\\prime}=1+t^2 $$\n",
    "\n",
    "∴ $$ dx=\\frac{dy}{y^{\\prime}}=\\frac{(-\\frac{1}{t^2}-1)}{1+t^2}dt=-\\frac{1}{t^2}dt $$\n",
    "\n",
    "积分，得 $$ x=\\frac{1}{t}+c $$\n",
    "\n",
    "∴方程的通解为\n",
    "\n",
    "$$\n",
    "\\begin{cases}\n",
    "x=\\frac{1}{t}+c\\\\\n",
    "y=\\frac{1}{t}-t\n",
    "\\end{cases}\n",
    "$$\n",
    "\n",
    "$ c $为任意常数"
   ]
  },
  {
   "cell_type": "markdown",
   "metadata": {
    "collapsed": true
   },
   "source": [
    "# <font color='red'>A+ 26/9"
   ]
  },
  {
   "cell_type": "code",
   "execution_count": null,
   "metadata": {
    "collapsed": true
   },
   "outputs": [],
   "source": []
  }
 ],
 "metadata": {
  "kernelspec": {
   "display_name": "SageMath 7.3",
   "language": "",
   "name": "sagemath"
  },
  "language_info": {
   "codemirror_mode": {
    "name": "ipython",
    "version": 2
   },
   "file_extension": ".py",
   "mimetype": "text/x-python",
   "name": "python",
   "nbconvert_exporter": "python",
   "pygments_lexer": "ipython2",
   "version": "2.7.10"
  }
 },
 "nbformat": 4,
 "nbformat_minor": 0
}
