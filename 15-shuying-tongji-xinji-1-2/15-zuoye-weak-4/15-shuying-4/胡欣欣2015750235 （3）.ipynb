{
 "cells": [
  {
   "cell_type": "markdown",
   "metadata": {},
   "source": [
    "胡欣欣  数学与应用数学   2015750235 \n",
    "P60\n",
    "\n",
    "\n",
    "2.求下列方程的解\n",
    "\n",
    "\n",
    "\n",
    "（8）$(x+2y)\\mathrm d x+x\\mathrm d y=0$"
   ]
  },
  {
   "cell_type": "markdown",
   "metadata": {},
   "source": [
    "解：令$M=x+2y$     ,$N=x$"
   ]
  },
  {
   "cell_type": "markdown",
   "metadata": {},
   "source": [
    "则可以得到 $\\frac{\\partial M}{\\partial y}=2$  ,   $\\frac{\\partial N}{\\partial x}=1$"
   ]
  },
  {
   "cell_type": "markdown",
   "metadata": {},
   "source": [
    "算得$$\\frac{\\frac{\\partial M}{\\partial y}-\\frac{\\partial N}{\\partial x}}{N}=\\frac{1}{x}$$"
   ]
  },
  {
   "cell_type": "markdown",
   "metadata": {},
   "source": [
    "则$u=e^{\\int\\frac{1}{x}\\mathrm d x}=x$     ,将u乘上式两端，得到：$$x^2\\mathrm d x+2xy\\mathrm d x+x^2\\mathrm d y=0$$"
   ]
  },
  {
   "cell_type": "markdown",
   "metadata": {},
   "source": [
    " 化简得：$$\\mathrm d (\\frac{x^3}{3})+\\mathrm d (x^2y)=0$$"
   ]
  },
  {
   "cell_type": "markdown",
   "metadata": {},
   "source": [
    "即得到方程的解：$$\\frac{x^3}{3}+x^2y=c$$"
   ]
  },
  {
   "cell_type": "markdown",
   "metadata": {},
   "source": [
    "（9）$[xcos(x+y）+sin(x+y)]\\mathrm d x+xcos(x+y)\\mathrm d y=0$"
   ]
  },
  {
   "cell_type": "markdown",
   "metadata": {},
   "source": [
    "解：$M=xcos(x+y)+sin(x+y)$  ,$N=xcos(x+y)$"
   ]
  },
  {
   "cell_type": "markdown",
   "metadata": {},
   "source": [
    "解得：$$\\frac{\\partial M}{\\partial y}=-xsin(x+y)+cos(x+y)$$  ,$$\\frac{\\partial N}{\\partial x}=-xsin(x+y)+cos(x+y)$$  "
   ]
  },
  {
   "cell_type": "markdown",
   "metadata": {},
   "source": [
    "所以$$\\frac{\\partial M}{\\partial y}=\\frac{\\partial N}{\\partial x}$$"
   ]
  },
  {
   "cell_type": "markdown",
   "metadata": {},
   "source": [
    "由此可知，此式为微分恰当方程，则得到：$$xcos(x+y)\\mathrm d (x+y)+sin(x+y)\\mathrm d x=0$$\n",
    "则解得该方程的解为：$$sin(x+y)x=c$$"
   ]
  },
  {
   "cell_type": "markdown",
   "metadata": {},
   "source": [
    "（10）.$(ycosx-xsinx)\\mathrm d x+(ysinx+xcosx)\\mathrm d y=0$"
   ]
  },
  {
   "cell_type": "markdown",
   "metadata": {},
   "source": [
    "解：令$M=ycosx-xsinx$,\n",
    "$N=ysinx+xcosx$"
   ]
  },
  {
   "cell_type": "markdown",
   "metadata": {},
   "source": [
    "由上得到$$\\frac{\\partial M}{\\partial y}=cosx$$,$$\\frac{\\partial N}{\\partial x}=ycosx+cosx-xsinx$$"
   ]
  },
  {
   "cell_type": "markdown",
   "metadata": {},
   "source": [
    "∵$$\\frac{\\frac{\\partial M}{\\partial y}-\\frac{\\partial N}{\\partial x}}{-M}=1$$\n",
    "则$u=e^{\\int1\\mathrm d y}=e^y$"
   ]
  },
  {
   "cell_type": "markdown",
   "metadata": {},
   "source": [
    "将u乘以原式左右两端，得到：$$e^y(ycosx-xsinx)\\mathrm d x+e^y(ysinx+xcosx)\\mathrm d y=0$$,此式为恰当方程"
   ]
  },
  {
   "cell_type": "markdown",
   "metadata": {},
   "source": [
    "积分得到该方程的通解，为：$$e^ysinx(y-1)+e^ycosx=c$$"
   ]
  },
  {
   "cell_type": "markdown",
   "metadata": {},
   "source": [
    "（11）.$x(4y\\mathrm d x+2x\\mathrm d y)+y^3（3y\\mathrm d x+5x\\mathrm d y）$"
   ]
  },
  {
   "cell_type": "markdown",
   "metadata": {},
   "source": [
    "解：将左右两端同时乘以$x^2y$,得到：$$（y^2\\mathrm d x^4+x^4\\mathrm d y^2）+(y^5\\mathrm d x^3+x^3\\mathrm d y^5)=0$$"
   ]
  },
  {
   "cell_type": "markdown",
   "metadata": {},
   "source": [
    "即：$$\\mathrm d (x^4y^2）+\\mathrm d (x^3y^5)=0$$"
   ]
  },
  {
   "cell_type": "markdown",
   "metadata": {},
   "source": [
    "则该方程的通解为：$$x^4y^2+x^3y^5=c$$"
   ]
  },
  {
   "cell_type": "markdown",
   "metadata": {},
   "source": [
    "4.设$f(x,y)$及$\\frac{\\partial f}{\\partial x}$连续，试证方程$\\mathrm d y-f(x,y)\\mathrm d x=0$为线性微分方程的充要条件是它有依赖于x的积分因子。"
   ]
  },
  {
   "cell_type": "markdown",
   "metadata": {},
   "source": [
    "$证：必要性：如果方程是线性微分方程，则有\\frac{\\mathrm d y}{\\mathrm d x}=P(x)y+Q(x)$\n",
    "\n",
    "\n",
    "$则由上显然可知此方程有积分因子u(x)=e^{-\\int P(x)dx}$,u(x)只跟x有关\n",
    "\n",
    "\n",
    "\n",
    "$充分性：如果方程只有与x有关的积分因子u(x)$\n",
    "\n",
    "\n",
    "$则那么u(x)\\mathrm d y-u(x)f(x,y)\\mathrm d x=0为恰当方程$\n",
    "\n",
    "\n",
    "$从而\\frac{\\partial(-u(x)f(x,y))}{\\partial y}=\\frac{\\mathrm d u(x)}{\\mathrm d x}$  $$\\frac{\\partial f}{\\partial y}=-\\frac{u'(x)}{u(x)}$$\n",
    "\n",
    "\n",
    "$F=-\\int \\frac{u'(x)}{u(x)}\\mathrm d y+Q(x)=\\frac{u'(x)}{u(x)}y+Q(x)=P(x)y+Q(x)$\n",
    "\n",
    "\n",
    "$其中P(x)= -\\frac{u'(x)}{u(x)},于是方程可化为\\mathrm d y-(P(x)y+Q(x))\\mathrm d x=0$"
   ]
  },
  {
   "cell_type": "markdown",
   "metadata": {},
   "source": [
    "8.求出伯努利微分方程的积分因子"
   ]
  },
  {
   "cell_type": "markdown",
   "metadata": {},
   "source": [
    "$解：已知伯努利方程为：\\frac{\\mathrm d y}{\\mathrm d x}=P(x)y+Q(x)y^n,y≠0;$\n",
    "\n",
    "\n",
    "$两边同时乘以y^{-n},令z=y^{-n}$,$$\\frac{\\mathrm d z}{\\mathrm d x}=(1-n)P(x)z+(1-n)Q(x)$$,\n",
    "\n",
    "\n",
    "$线性方程有积分因子：u=e^{-\\int (1-n)P(x)\\mathrm d x}=e^{(n-1)\\int p(x)\\mathrm d x}$,\n",
    "\n",
    "$故原方程的积分因子为：u=e^{-\\int (1-n)P(x)\\mathrm d x}=e^{(n-1)\\int p(x)\\mathrm d x}$\n",
    "\n",
    "\n",
    "证毕"
   ]
  },
  {
   "cell_type": "markdown",
   "metadata": {},
   "source": [
    "# <font color='red'>未写完"
   ]
  },
  {
   "cell_type": "markdown",
   "metadata": {},
   "source": [
    "1.求解下列方程：\n",
    "\n",
    "\n",
    "\n",
    "（1）.$xy^3=1+y'$;\n",
    "\n",
    "\n",
    "\n",
    "$(2)y’^3-x^3(1-y')=0$\n",
    "\n",
    "\n",
    "\n",
    "$(3)y=y'^2e^{y'}$\n",
    "\n",
    "\n",
    "\n",
    "$(4)y(1+y'^2)=2a(a为常数）$；\n",
    "\n",
    "\n",
    "\n",
    "$(5)x^2+y'^2=1$\n",
    " \n",
    " \n",
    " \n",
    " $(6)y^2(y'-1)=(2-y')^2$"
   ]
  },
  {
   "cell_type": "markdown",
   "metadata": {},
   "source": [
    "$解：（1）令\\frac{\\mathrm d y}{\\mathrm d x}=y'=p=\\frac{1}{t},则x=(1+\\frac{1}{t})t^3=t^3+t^2$,\n",
    "\n",
    "\n",
    "\n",
    "$从而y=\\int p\\mathrm d x+c= \\int \\frac{1}{t}\\mathrm d (t^3+t^2)+c=\\int (3t+2)\\mathrm d t+c=\\frac{3}{2}t^3+2t+c$\n",
    "\n",
    "\n",
    "\n",
    "$于是求得方程通解为：$$x=t^3+t^2$$  $$y=\\frac{3}{2}t^2+2t+c$"
   ]
  },
  {
   "cell_type": "markdown",
   "metadata": {},
   "source": [
    "$(2)令\\frac{\\mathrm d y}{\\mathrm d x}=y'=p=tx,则(tx)^3-x^3(1-tx)=0,即x=\\frac{t^3-1}{t}=t^2-\\frac{1}{t},$\n",
    "\n",
    "\n",
    "$从而$$y=\\int p\\mathrm d x+c=\\int t(t^2-\\frac{1}{t})\\mathrm d (t^2-\\frac{1}{t})+c=\\int (t^3-1)(2t+\\frac{1}{t^2}\\mathrm d t+c=\\frac{2}{5}t^5-\\frac{1}{2}t^2+\\frac{1}{t}+c$"
   ]
  },
  {
   "cell_type": "markdown",
   "metadata": {},
   "source": [
    "于是求得方程通解得;$$x=t^2-\\frac{1}{t}$$   \n",
    "\n",
    "\n",
    "\n",
    "\n",
    "$$y=\\frac{2}{5}t^5-\\frac{1}{2}t^2+\\frac{1}{t}+c$$"
   ]
  },
  {
   "cell_type": "markdown",
   "metadata": {},
   "source": [
    "$(3)令\\frac{\\mathrm d y}{\\mathrm d x}=y'=p，则y=p^2e^p$\n",
    "\n",
    "\n",
    "$从而x=\\int \\frac{1}{p}\\mathrm d (p^2e^p)+c=\\int \\frac{1}{p}(2pe^p+p^2e^p)\\mathrm d p+c=\\int (2e^p+pe^p)\\mathrm d p+c=(1+p)e^p+c$\n",
    "\n",
    "\n",
    "于是求得该方程的通解为:$$x=(1+p)e^p+c$$\n",
    "\n",
    "\n",
    "$$y=y^2e^p$$"
   ]
  },
  {
   "cell_type": "markdown",
   "metadata": {},
   "source": [
    "$(4)令\\frac{\\mathrm d y}{\\mathrm d x}=y'=tg \\varphi$,则$y=\\frac{2a}{1+tg^2 \\varphi}=\\frac{2a}{sec^2 \\varphi}=2acos^2 \\varphi$\n",
    "\n",
    "\n",
    "\n",
    "$从而x=\\int \\frac{1}{p}\\mathrm d y+c=\\int \\frac{1}{tg \\varphi}\\mathrm d (2acos^2 \\varphi)+c=-4a\\int cos^2 \\varphi\\mathrm d \\varphi+c=-4a\\int \\frac{1+cos 2\\varphi}{2}+c=-a(2\\varphi+sin 2\\varphi)+c$,\n",
    "\n",
    "\n",
    "\n",
    "于是求得该方程的通解为：$$x=-a(2\\varphi+sin 2\\varphi)+c$$\n",
    "$$y=2acos^2 \\varphi$$"
   ]
  },
  {
   "cell_type": "markdown",
   "metadata": {},
   "source": [
    "$(5)令\\frac{\\mathrm d y}{\\mathrm d x}=y'=p=cos t,则x=\\sqrt{1-cos^2t}=sin t$\n",
    "\n",
    "\n",
    "$y=\\int cos t\\mathrm d (sin t)+c=\\int cos^2t\\mathrm d t+c=\\frac{1}{2}t+\\frac{1}{4}sin 2t+c,$\n",
    "\n",
    "\n",
    "$于是求得该方程的通解为:\n",
    "\n",
    "$$x=sin t$$\n",
    "\n",
    "$$y=\\frac{1}{2}t+\\frac{1}{4}sin 2t+c$$"
   ]
  },
  {
   "cell_type": "markdown",
   "metadata": {},
   "source": [
    "(6)$令2-y'=yt，则1-y'=yt-1,得y=t+\\frac{1}{t}$\n",
    "\n",
    "\n",
    "$所以\\mathrm d x=\\frac{\\mathrm d y}{y'}=\\frac{\\mathrm d y}{2-yt}=\\frac{\\mathrm d (t+\\frac{1}{t})}{2-(t+\\frac{1}{t})}=\\frac{(1-t^2)\\mathrm d t}{1-t^2}=-\\frac{1}{t^2}\\mathrm d t$\n",
    "\n",
    "\n",
    "\n",
    "于是求得该方程的通解为:\n",
    "$$x=\\frac{1}{t}+c$$\n",
    "\n",
    "\n",
    "$$y=t+\\frac{1}{t}$$"
   ]
  },
  {
   "cell_type": "markdown",
   "metadata": {
    "collapsed": true
   },
   "source": [
    "# <font color='red'>A 28/9"
   ]
  },
  {
   "cell_type": "code",
   "execution_count": null,
   "metadata": {
    "collapsed": true
   },
   "outputs": [],
   "source": []
  }
 ],
 "metadata": {
  "kernelspec": {
   "display_name": "SageMath 7.3",
   "language": "",
   "name": "sagemath"
  },
  "language_info": {
   "codemirror_mode": {
    "name": "ipython",
    "version": 2
   },
   "file_extension": ".py",
   "mimetype": "text/x-python",
   "name": "python",
   "nbconvert_exporter": "python",
   "pygments_lexer": "ipython2",
   "version": "2.7.10"
  }
 },
 "nbformat": 4,
 "nbformat_minor": 0
}
