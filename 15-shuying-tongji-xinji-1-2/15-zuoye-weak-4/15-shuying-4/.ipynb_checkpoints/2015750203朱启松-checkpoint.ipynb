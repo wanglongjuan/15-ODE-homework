{
 "cells": [
  {
   "cell_type": "markdown",
   "metadata": {
    "collapsed": true
   },
   "source": [
    "## P61.2.求下列方程的解:\n",
    " (8)$(x+2y)\\mathrm d y+x \\mathrm d y=0$;\n",
    "\n",
    " (9)$[x\\cos (x+y)+\\sin(x+y)]\\mathrm d x+x\\cos(x+y)\\mathrm d y=0$\n",
    "\n",
    " (10)$(y\\cos x -x\\sin x)\\mathrm d x+(y\\sin x+x \\cos x)\\mathrm d y=0$\n",
    "\n",
    " (11)$x(4y\\mathrm d x+2x\\mathrm d y)+y^3(3y\\mathrm d x+5x\\mathrm d y)=0$"
   ]
  },
  {
   "cell_type": "markdown",
   "metadata": {},
   "source": [
    "$$(8)解:M=(x+2y),N=x$$\n",
    "\n",
    "$$\\frac{\\partial M}{\\partial y}=2，\\frac{\\partial N}{\\partial x}=1$$\n",
    "\n",
    "$$所以该方程为非恰当微分方程$$\n",
    "\n",
    "$$\\frac{\\frac{\\partial M}{\\partial y}-\\frac{\\partial N}{\\partial x}}{N}=\\frac{1}{x}$$\n",
    "\n",
    "$$此方程仅为x的函数，所以积分因子为\\mu(x,y)=x$$.\n",
    "\n",
    "$$方程两边同乘以x，得(x^2+2xy)\\mathrm d y+x^2 \\mathrm d y=0为恰当微分方程$$.\n",
    "\n",
    "$$得通解为x^{3}+3x^{2}y=c  （c为任意常数）$$"
   ]
  },
  {
   "cell_type": "markdown",
   "metadata": {},
   "source": [
    "$$(9)解:M=x\\cos (x+y)+\\sin(x+y),N=x\\cos(x+y)$$\n",
    "\n",
    "$$而\\frac{\\partial M}{\\partial y}=-x\\sin(x+y)+\\cos(x+y)，\\frac{\\partial N}{\\partial x}=\\cos(x+y)-x\\sin(x+y)$$\n",
    "\n",
    "$$所以该方程为恰当微分方程$$\n",
    "\n",
    "$$可得通解为x\\sin(x+y)=c,(c为任意常数)$$\n"
   ]
  },
  {
   "cell_type": "markdown",
   "metadata": {},
   "source": [
    "$$(10)解:M=(y\\cos x -x\\sin x),N=(y\\sin x+x \\cos x)$$\n",
    "\n",
    "$$\\frac{\\partial M}{\\partial y}=\\cos x，\\frac{\\partial N}{\\partial x}=y\\cos x+\\cos x-x\\sin x$$\n",
    "\n",
    "$$所以该方程为非恰当微分方程$$\n",
    "\n",
    "$$\\frac{\\frac{\\partial M}{\\partial y}-\\frac{\\partial N}{\\partial x}}{-M}=1$$\n",
    "\n",
    "$$因与此方程有只与y有关的积分因子\\mu(x,y)=e^y$$.\n",
    "\n",
    "$$ 方程两边同乘以e^y，e^2(y\\cos x -x\\sin x)\\mathrm d y+(y\\sin x+x \\cos x)\\mathrm d y=0为恰当微分方程$$\n",
    "\n",
    "$$得通解为e^y(x\\cos x+y\\sin x-\\sin x)=c,(c为任意常数)$$"
   ]
  },
  {
   "cell_type": "markdown",
   "metadata": {},
   "source": [
    "$$(11)解:将x(4y\\mathrm d x+2x\\mathrm d y)+y^3(3y\\mathrm d x+5x\\mathrm d y)=0 看成两部分.$$\n",
    "\n",
    "$$第一部分为x(4y\\mathrm d x+2x\\mathrm d y)，其积分因子为\\mu_1 (x,y)=1$$\n",
    "\n",
    "$$第二部分为y^3(3y\\mathrm d x+5x\\mathrm d y)$$\n",
    "\n",
    "$$而\\frac{\\partial M}{\\partial y}=12y^3，\\frac{\\partial N}{\\partial x}=5y^3$$\n",
    "\n",
    "$$所以该方程为非恰当微分方程$$\n",
    "\n",
    "$$解得该方程仅与x有关的积分因子\\mu_2(x,y)=x^{\\frac{7}{5}}$$\n",
    "\n",
    "$$现在要寻找函数f_1(x,y)和f_2(x,y),使\\mu_1 f_1(x,y)=\\mu_2f_2(x,y)$$\n",
    "\n",
    "$$即f_1(2x^{2}y)=x^{\\frac{7}{5}}f_2(\\frac{5}{4}y^{4}x^{\\frac{12}{5}})$$\n",
    "\n",
    "$$得\\mu(x,y)=2x^{2}y，方程两边同时乘以\\mu(x,y)得恰当微分方程$$\n",
    "\n",
    "$$通解为x^4y^2+x^3y^5=c,(c为任意常数)$$"
   ]
  },
  {
   "cell_type": "markdown",
   "metadata": {},
   "source": [
    "# <font color='red'>正确"
   ]
  },
  {
   "cell_type": "markdown",
   "metadata": {},
   "source": [
    "## 4.设$f(x,y)$及$\\frac{\\partial f}{\\partial y}$连续，试证方程$\\mathrm d y-f(x,y)\\mathrm d x=0$为线性微分方程的充要条件是它有仅仅依赖于$x$的积分因子"
   ]
  },
  {
   "cell_type": "markdown",
   "metadata": {},
   "source": [
    "$$证明：充分性：由于积分因子依赖于x，所以存在\\varphi(x)使\\frac{\\frac{\\partial M}{\\partial y}-\\frac{\\partial N}{\\partial x}}{N}=\\varphi(x)$$\n",
    "$$即\\frac{\\partial f}{\\partial y}=\\varphi(x)$$\n",
    "\n",
    "$$对上式积分得f(x,y)=-\\varphi(x)y+h(x)$$\n",
    "\n",
    "$$所以方程为线性微分方程$$\n",
    "\n",
    "$$必要性：已知方程dy-f(x,y)dx=0是线性微分方程$$\n",
    "\n",
    "$$f(x,y)=\\varphi(x)y+h(x),M=-\\varphi(x)y-h(x),N=1$$\n",
    "\n",
    "$$\\frac{\\frac{\\partial M}{\\partial y}-\\frac{\\partial N}{\\partial x}}{N}=-\\varphi(x)$$\n",
    "\n",
    "$$所以方程有依赖于x的积分因子u=e^{\\int -\\varphi(x)dx}$$"
   ]
  },
  {
   "cell_type": "markdown",
   "metadata": {},
   "source": [
    "## 8.求出伯努利方程的积分因子.\n",
    "\n",
    "$$解:伯努利方程为\\frac{\\mathrm d y}{\\mathrm d x}=P(x)y+Q(x)y^n$$\n",
    "\n",
    "$$化为(P(x)y+Q(x)y^n)\\mathrm d x-\\mathrm d y=0$$\n",
    "\n",
    "$$方程两边同时乘以y^{-n},得(P(x)y^{1-n}+Q(x))\\mathrm d x-y^{-n}\\mathrm d y=0$$\n",
    "\n",
    "$$得[(1-n)y^{1-n}P(x)+(1-n)Q(x)]\\mathrm d x-\\mathrm d y^{1-n}=0$$\n",
    "\n",
    "$$\\frac{\\partial M}{\\partial y}=(1-n)y^{-n}P(x)，\\frac{\\partial N}{\\partial x}=0$$\n",
    "\n",
    "$$\\frac{\\frac{\\partial M}{\\partial y}-\\frac{\\partial N}{\\partial x}}{N}=-(1-n)P(x)$$\n",
    "\n",
    "$$因与此方程有只与有关的积分因子\\mu(x,y)=e^{\\int -(1-n)P(x)\\mathrm d x}$$.\n",
    "\n",
    "$$我们可得伯努利方程积分因子\\mu(x,y)=y^{-n}e^{\\int -(1-n)P(x)\\mathrm d x}$$\n"
   ]
  },
  {
   "cell_type": "markdown",
   "metadata": {},
   "source": [
    "## 1.求解下列方程："
   ]
  },
  {
   "cell_type": "markdown",
   "metadata": {},
   "source": [
    "(1)$xy'^3=1+y'$;\n",
    "\n",
    "(2)$y'^3-x^3(1-y')=0$;\n",
    "\n",
    "(3)$y=y'^2e^{y'}$;\n",
    "\n",
    "(4)$y(1+y'^2)=2a$;\n",
    "\n",
    "(5)$x^2+y'^2=1$;\n",
    "\n",
    "(6)$y^2(y'-1)=(2-y')^2$;"
   ]
  },
  {
   "cell_type": "markdown",
   "metadata": {},
   "source": [
    "$$(1)解：令y'=p=\\frac{1}{t}得到x=t^{3}+t^{2}$$\n",
    "\n",
    "$$dy=pdx=\\frac{1}{t}(3t^{2}+2t)dt$$\n",
    "\n",
    "$$积分得y=\\frac{3}{2}t^{2}+2t+c$$\n",
    "\n",
    "$$则方程的通解为\\begin{cases}x=t^{3}+t^{2}\\\\y=\\frac{3}{2}t^{2}+2t+c\\end{cases}$$\n"
   ]
  },
  {
   "cell_type": "markdown",
   "metadata": {},
   "source": [
    "$$(2)解：令y'=tx,解得x=\\frac{1}{t}-t^{2}$$\n",
    "\n",
    "$$dy=pdx=t(\\frac{1}{t}-t^{2})(-\\frac{1}{t^{2}}-2t)dt$$\n",
    "\n",
    "$$积分得y=\\frac{2}{5}t^5-\\frac{1}{2}t^2+\\frac{1}{t}+c$$\n",
    "\n",
    "$$所以方程的通解为\\begin{cases}x=\\frac{1}{t}-t^2\\\\y=\\frac{2}{5}t^5-\\frac{1}{2}t^2+\\frac{1}{t}+c\\end{cases}$$"
   ]
  },
  {
   "cell_type": "markdown",
   "metadata": {},
   "source": [
    "$$(3)解：令y'=p=t,解得y=p^{2}e^{p}$$\n",
    "\n",
    "$$dx=\\frac{1}{t}dy=\\frac{1}{t}(t^{2}e^{t})dt$$\n",
    "\n",
    "$$积分得x=(p+1)e^p+c$$\n",
    "\n",
    "$$当p=0时，y=0$$\n",
    "\n",
    "$$方程的通解为\\begin{cases}x=(p+1)e^p+c\\\\y=p^{2}e^{p}\\end{cases}$$\n",
    "\n",
    "$$同时y=0也为方程的解$$\n"
   ]
  },
  {
   "cell_type": "markdown",
   "metadata": {},
   "source": [
    "$$(4)解：令y'=tant,解得y=2acos^{2}t$$\n",
    "\n",
    "$$dx=\\frac{1}{p}dy=-4acos^{2}tdt$$\n",
    "\n",
    "$$积分得x=-a(2t+sin2t+c)$$\n",
    "\n",
    "$$方程的通解为\\begin{cases}x=-a(2t+sin2t+c)\\\\y=2acos^{2}t\\end{cases}$$"
   ]
  },
  {
   "cell_type": "markdown",
   "metadata": {},
   "source": [
    "$$（5）解：令y'=cost,得x=sint$$\n",
    "\n",
    "$$dy=pdx=cos^{2}tdt$$\n",
    "\n",
    "$$积分得y=\\frac{t}{2}+\\frac{1}{4}\\sin 2t+c$$\n",
    "\n",
    "$$方程的通解为\\begin{cases}x=\\sin t\\\\y=\\frac{t}{2}+\\frac{1}{4}\\sin 2t+c\\end{cases}$$\n"
   ]
  },
  {
   "cell_type": "markdown",
   "metadata": {},
   "source": [
    "$$（6）解：令2-y'=yt,得y'=p=t^{2}+1$$\n",
    "$$y=\\frac{1}{t}-t$$\n",
    "$$dx=\\frac{1}{p}dy=(-\\frac{1}{t^2})dt$$\n",
    "$$x=\\frac{1}{t}+c$$\n",
    "$$得方程通解为\\begin{cases}x=\\frac{1}{t}+c\\\\y=\\frac{1}{t}-t\\end{cases}$$"
   ]
  },
  {
   "cell_type": "markdown",
   "metadata": {
    "collapsed": true
   },
   "source": [
    "# <font color='red'>A  28/9"
   ]
  },
  {
   "cell_type": "code",
   "execution_count": null,
   "metadata": {
    "collapsed": true
   },
   "outputs": [],
   "source": []
  }
 ],
 "metadata": {
  "kernelspec": {
   "display_name": "SageMath 7.3",
   "language": "",
   "name": "sagemath"
  },
  "language_info": {
   "codemirror_mode": {
    "name": "ipython",
    "version": 2
   },
   "file_extension": ".py",
   "mimetype": "text/x-python",
   "name": "python",
   "nbconvert_exporter": "python",
   "pygments_lexer": "ipython2",
   "version": "2.7.10"
  }
 },
 "nbformat": 4,
 "nbformat_minor": 0
}
