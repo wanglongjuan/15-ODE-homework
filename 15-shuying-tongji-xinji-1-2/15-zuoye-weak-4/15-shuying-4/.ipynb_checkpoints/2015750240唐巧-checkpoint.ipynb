{
 "cells": [
  {
   "cell_type": "markdown",
   "metadata": {},
   "source": [
    "第四周作业\n",
    "\n"
   ]
  },
  {
   "cell_type": "markdown",
   "metadata": {},
   "source": [
    "P61.2.求下列方程的解"
   ]
  },
  {
   "cell_type": "markdown",
   "metadata": {
    "collapsed": true
   },
   "source": [
    "(8)$(x+2y)dx+xdy=0$\n",
    "\n",
    "\n",
    "\n"
   ]
  },
  {
   "cell_type": "markdown",
   "metadata": {
    "collapsed": true
   },
   "source": [
    "解：令$M=x+2y,N=x$则可以得到\n",
    "$$\\frac{\\partial M}{\\partial y}=2,\\frac{\\partial N}{\\partial x}=1$$\n",
    "可知$\\frac{\\partial M}{\\partial y}\\neq\\frac{\\partial N}{\\partial x}$\n",
    "因此原方程为非恰当方程，算得\n",
    "$$\\frac{\\frac{\\partial M}{\\partial y}-\\frac{\\partial N}{\\partial x}}{N}=\\frac{2-1}{x}=\\frac{1}{x}$$\n",
    "取积分因子$\\mu=e^{\\int\\frac{1}{x}dx}=x$\n",
    "将原方程的两边分别乘上积分因子，就可以得到\n",
    "$$x(x+2y)dx+x^2dy=0$$\n",
    "得到$$d(\\frac{1}{3}x^3+x^2y)=0$$\n",
    "两边求积分得到$\\frac{1}{3}x^3+x^2y=c$\n",
    "即方程的解为$x^3+3x^2y=c$\n"
   ]
  },
  {
   "cell_type": "markdown",
   "metadata": {},
   "source": [
    "(9)$[xcos(x+y)+sin(x+y)]dx+xcos(x+y)dy=0$"
   ]
  },
  {
   "cell_type": "markdown",
   "metadata": {},
   "source": [
    "解：令$M=xcos(x+y)+sin(x+y),N=xcos(x+y)$\n",
    "得到$$\\frac{\\partial M}{\\partial y}=-xsin(x+y)+cos(x+y),\\frac{\\partial N}{\\partial x}=cos(x+y)-xsin(x+y)$$\n",
    "因此有$$\\frac{\\partial M}{\\partial y}=\\frac{\\partial N}{\\partial x}$$\n",
    "即原方程为恰当方程\n",
    "现在求u使得它满足以下两个方程：\n",
    "$$\\frac{\\partial u}{\\partial x}=xcos(x+y)+sin(x+y)$$$$\\frac{\\partial u}{\\partial y}=xcos(x+y)$$\n",
    "对第一个方程关于x进行积分得到$u=xsin(x+y)+\\phi(y)$\n",
    "\n",
    "对y进行求导得$\\frac{\\partial u}{\\partial y}=xcos(x+y)+\\frac{\\partial \\phi(y)}{\\partial y}$\n",
    "又有$\\frac{\\partial u}{\\partial y}=xcos(x+y）$\n",
    "\n",
    "因此有$\\frac{\\partial u}{\\partial y}=xcos(x+y)+\\frac{\\partial \\phi(y)}{\\partial y}=xcos(x+y)$\n",
    "\n",
    "得到$$\\frac{\\partial \\phi(y)}{\\partial y}=2xcos(x+y)$$\n",
    "即$$\\phi(y)=2xsin(x+y)$$\n",
    "即$u=xsin(x+y)+\\phi(y)=3xsin(x+y)$\n",
    ",因此方程的解为$xsin(x+y)=c$\n",
    "\n",
    "\n"
   ]
  },
  {
   "cell_type": "markdown",
   "metadata": {},
   "source": [
    "(10)$(ycosx-xsinx)dx+(ysinx+xcosx)dy=0$"
   ]
  },
  {
   "cell_type": "markdown",
   "metadata": {},
   "source": [
    "解:令$M=ycosx-xsinx,N=ysinx+xcosx$\n",
    "则可以得到$$\\frac{\\partial M}{\\partial y}=cosx,\\frac{\\partial N}{\\partial x}=ycosx+cosx-xsinx$$\n",
    "可知$\\frac{\\partial M}{\\partial y}\\neq\\frac{\\partial N}{\\partial x}$\n",
    ",因此可知原方程为非恰当方程，算得\n",
    "$$\\frac{\\frac{\\partial N}{\\partial x}-\\frac{\\partial M}{\\partial y}}{M}=\\frac{ycosx-xsinx}{ycosx-xsinx}=1$$\n",
    "取积分因子$\\mu=e^{\\int1dy}=e^y$\n",
    "以积分因子$\\mu=e^{\\int1dy}=e^y$乘以原方程的两边,\n",
    "得到$$e^y(ycosx-xsinx)dx+e^y(ysinx+xcosx)dy=0$$\n",
    "即$$e^yycosxdx+e^yysinxdy+(-e^yxsinxdx+e^yxcosxdy)=o$$\n",
    "可知$$d(e^y(y-1)sinx+e^yxcosx)=0$$\n",
    "因此方程的解为$e^y(y-1)sinx+e^yxcosx=c$\n",
    "\n",
    "\n",
    "\n",
    "\n",
    "\n",
    "\n",
    "\n"
   ]
  },
  {
   "cell_type": "markdown",
   "metadata": {},
   "source": [
    "(11)$x(4ydx+2xdy)+y^3(3ydx+5xdy)=0$\n"
   ]
  },
  {
   "cell_type": "markdown",
   "metadata": {},
   "source": [
    "解：原方程可分开考虑，其中$x(4ydx+2xdy)=4xydx+2x^2dy=d(2x^2y)$\n",
    "\n",
    "而$y^3(3ydx+5xdy)=3y^4dx+5xy^3dy=0$,则有$M=3y^4,N=5xy^3$\n",
    "即可得到$$\\frac{\\partial M}{\\partial y}=12y^3,\\frac{\\partial N}{\\partial x}=5y^3$$\n",
    "可知$\\frac{\\partial M}{\\partial y}\\neq\\frac{\\partial N}{\\partial x}$\n",
    ",因此可知原方程为非恰当方程，算得\n",
    "$$\\frac{\\frac{\\partial M}{\\partial y}-\\frac{\\partial N}{\\partial x}}{N}=\\frac{7y^3}{5xy^3}=\\frac{7}{5x}$$\n",
    "取积分因子$\\mu=e^{\\int\\frac{7}{5x}dx}=x^{\\frac{7}{5}}$\n",
    "以积分因子$\\mu=x^{\\frac{7}{5}}$乘以方程$3y^4dx+5xy^3dy=0$的两边,得到$$3y^4x^{\\frac{7}{5}}dx+5y^3x^{\\frac{12}{5}}dy=o$$\n",
    "即可得到$$d(\\frac{5}{4}x^{\\frac{12}{5}}y^4)=o$$\n",
    "因此原方程的解为$2x^2y+\\frac{5}{4}x^{\\frac{12}{5}}y^4=c$\n",
    "\n",
    "\n",
    "\n"
   ]
  },
  {
   "cell_type": "markdown",
   "metadata": {},
   "source": [
    "# <font color='red'>不正确？？"
   ]
  },
  {
   "cell_type": "markdown",
   "metadata": {},
   "source": [
    "4.设$f(x,y)$及$\\frac{\\partial f}{\\partial x}$连续，试证$dy-f(x,y)dx=0$为线性微分方程的充要条件是它有依赖于x的积分因子。\n"
   ]
  },
  {
   "cell_type": "markdown",
   "metadata": {},
   "source": [
    "证明：必要性：已知方程$dy-f(x,y)dx=0$为线性微分方程\n",
    "\n",
    "则有$M=-f(x,y),N=1,即可以得到$$\\frac{\\partial M}{\\partial y}=-\\frac{\\partial f(x,y)}{\\partial y},\\frac{\\partial N}{\\partial x}=0$$\n",
    "\n",
    "\n",
    "所以有$$\\frac{\\frac{\\partial M}{\\partial y}-\\frac{\\partial N}{\\partial x}}{N}=-\\frac{\\partial f(x,y)}{\\partial y}$$\n",
    "\n",
    "则可以取积分因子$\\mu=e^{\\int-\\frac{\\partial f(x,y)}{\\partial y}dx}$，\n",
    "令$\\frac{\\partial f(x,y)}{\\partial y}=g(x)$\n",
    "即可以$\\mu=e^{\\int-g(x)dx}$,就证明了它有依赖于x的积分因子\n",
    "\n",
    "充分性：已知方程$dy-f(x,y)dx=0$有依赖于x的积分因子，要证明该方程为线性方程\n",
    "因为积分因子依赖于x，所以存在P(x)满足\n",
    "\n",
    "$$\\frac{\\frac{\\partial M}{\\partial y}-\\frac{\\partial N}{\\partial x}}{N}=-\\frac{\\partial f(x,y)}{\\partial y}=P(x)$$\n",
    "因此有$$\\frac{\\partial f}{\\partial y}=-P(x)$$\n",
    "对上式两边进行积分可以得到$f(x,y)=-P(x)y+\\phi(x)$,\n",
    "其中$\\phi(x)$是关于x的任意可微函数\n",
    "\n",
    "又已知原方程可以化为$\\frac{dy}{dx}=f(x,y)$\n",
    "即就是$$\\frac{dy}{dx}=-P(x)y+\\phi(x)$$\n",
    "因此就证明了$dy-f(x,y)dx=0$为线性微分方程\n",
    "\n",
    "\n",
    "\n",
    "\n",
    "\n",
    "\n",
    "\n",
    "\n",
    "\n",
    "\n",
    "\n",
    "\n",
    "\n",
    "\n"
   ]
  },
  {
   "cell_type": "markdown",
   "metadata": {},
   "source": [
    "8.求出伯努利微分方程的积分因子。"
   ]
  },
  {
   "cell_type": "markdown",
   "metadata": {},
   "source": [
    "解：伯努利微分方程为$\\frac{dy}{dx}=P(x)y+Q(x)y^n$\n",
    "\n",
    "则可以化为$$(P(x)y+Q(x)y^n)dx-dy=0$$\n",
    "对于$y\\neq0$,可以用y^{-n}乘以上面方程的两边,\n",
    "\n",
    "得到$$(P(x)y^{1-n}+Q(x))dx-y^{-n}dy=0$$\n",
    "即$d(y^{1-n})-(1-n)P(x)y^{1-n}dx-(1-n)Q(x)dx=0$\n",
    "\n",
    "方程两边乘以$e^{-\\int P(x)dx}$\n",
    "得到$$e^{-\\int P(x)dx}[d(y^{1-n})-(1-n)P(x)y^{1-n}dx]-e^{-\\int P(x)dx}(1-n)Q(x)dx=0$$\n",
    "\n",
    "即得$$d[y^{1-n}e^{-(1-n)\\int P(x)dx}-d[\\int(1-n)Q(x)e^{-(1-n)\\int P(x)dx}(1-n)Q(x)dx]=0$$\n",
    "\n",
    "因此所求的积分因子为$\\mu=y^{-n}e^{(n-1)\\int P(x)dx}$\n",
    "\n",
    "\n",
    "\n",
    "\n",
    "\n",
    "\n",
    "\n",
    "\n",
    "\n",
    "\n",
    "\n",
    "\n"
   ]
  },
  {
   "cell_type": "markdown",
   "metadata": {},
   "source": [
    "P69.1、求解下列方程\n",
    "\n",
    "\n",
    "\n"
   ]
  },
  {
   "cell_type": "markdown",
   "metadata": {},
   "source": [
    "(1)$xy{'^3}=1+y'$\n"
   ]
  },
  {
   "cell_type": "markdown",
   "metadata": {},
   "source": [
    "解：令$\\frac{dy}{dx}=t$可得$dy=tdx$可得到$y=tx+c$\n",
    "\n",
    "将$\\frac{dy}{dx}=t$代入原方程中，得$$xt^3=1+t$$\n",
    "解出x，得到$$x=\\frac{1+t}{t^3}$$\n",
    "可以求出$dx=\\frac{t^3-3t^2(t+1)}{t^6}=\\frac{-2t-3}{t^4}$\n",
    "又有$y=\\int tdx=\\int{\\frac{-2t-3}{t^3}}dt$，即得$$y=\\frac{3}{2t^2}+\\frac{2}{t}+c$$\n",
    "\n",
    "因此得到方程的参数通解为\n",
    "$$\\begin{cases}x=\\frac{1+t}{t^3}\\\\y=\\frac{3}{2t^2}+\\frac{2}{t}+c\\end{cases}$$\n",
    "\n",
    "\n",
    "\n",
    "\n"
   ]
  },
  {
   "cell_type": "markdown",
   "metadata": {},
   "source": [
    "(2)$y{'^3}-x^3(1-y')=0$"
   ]
  },
  {
   "cell_type": "markdown",
   "metadata": {
    "collapsed": true
   },
   "source": [
    "解：令$y'=tx$代入上式方程则有$(tx)^3-x^3(1-tx)=0$\n",
    "\n",
    "即$t^3-1+tx=0$得，$$x=\\frac{1-t^3}{t}=\\frac{1}{t}-t^2$$\n",
    "\n",
    "得$$dx=(-\\frac{1}{t^2}-2t)dt$$\n",
    "又已知$\\frac{dy}{dx}=tx$，即可以得到\n",
    "\n",
    "$dy=txdx=t*\\frac{1-t^3}{t}*(-\\frac{1}{t^2}-2t)dt$\n",
    "\n",
    "$=(1-t^3)(-\\frac{1+2t^3}{t^2})dt$\n",
    "\n",
    "$=\\frac{-2t^3-1+2t^6+t^3}{t^2}dt$\n",
    "\n",
    "$=\\frac{2t^6-t^3-1}{t^2}dt$\n",
    "\n",
    "$=(2t^4-t-\\frac{1}{t^2})dt$\n",
    "\n",
    "对上式进行积分得到$$y=\\frac{2}{5}t^5-\\frac{1}{2}t^2+\\frac{1}{t}+c$$\n",
    "\n",
    "因此得到方程的参数通解为\n",
    "$$\\begin{cases}x=\\frac{1}{t}-t^2\\\\y=\\frac{2}{5}t^5-\\frac{1}{2}t^2+\\frac{1}{t}+c\\end{cases}$$\n",
    "\n",
    "\n"
   ]
  },
  {
   "cell_type": "markdown",
   "metadata": {},
   "source": [
    "(3)$y=y{'^2}e^{y'}$\n",
    "\n",
    "\n"
   ]
  },
  {
   "cell_type": "markdown",
   "metadata": {},
   "source": [
    "解：令$y'=t$代入方程得到$y=t^2e^t$\n",
    "\n",
    "则可以得到$$dy=(2te^t+t^2e^t)dt=e^t(2t+t^2)dt$$\n",
    "又因为$\\frac{dy}{dx}=t$,可以得到\n",
    "\n",
    "$dx=\\frac{dy}{t}$\n",
    "$=\\frac{e^t(2t+t^2)}{t}dt$\n",
    "$=e^t(2+t)dt$\n",
    "\n",
    "对上式求积分得到\n",
    "$x=\\int(t+2)e^tdt$\n",
    "$=(t+2)e^t-\\int e^tdt$\n",
    "$=(t+2)e^t-e^t+c$\n",
    "$=(t+1)e^t+c$\n",
    "\n",
    "因此得到方程的参数通解为\n",
    "$$\\begin{cases}x=(t+1)e^t+c\\\\y=t^2e^t\\end{cases}$$"
   ]
  },
  {
   "cell_type": "markdown",
   "metadata": {},
   "source": [
    "(4)$y(1+y{'^2})=2a(a为常数）$\n"
   ]
  },
  {
   "cell_type": "markdown",
   "metadata": {},
   "source": [
    "解;令$y'=tant$代入原方程得到$y(1+tan^2t)=2a$\n",
    "\n",
    "即就是$ysec^2t=2a,y=2acos^2t$\n",
    "\n",
    "又因为$\\frac{dy}{dx}=tant$,则有\n",
    "\n",
    "$dx=\\frac{dy}{tant}=\\frac{4acost(-sint)}{tant}dt=-4acos^2tdt$\n",
    "\n",
    "对上式求积分得到$x=\\int(-4acos^2t)dt=-a(2t+sin2t+c)$\n",
    "\n",
    "因此得到方程的参数通解为\n",
    "$\\begin{cases}x=-a(2t+sin2t+c)\\\\y=2acos^2t\\end{cases}$\n",
    "\n",
    "\n"
   ]
  },
  {
   "cell_type": "markdown",
   "metadata": {},
   "source": [
    "(5)$x^2+y{'^2}=1$"
   ]
  },
  {
   "cell_type": "markdown",
   "metadata": {},
   "source": [
    "解：令$y'=cost$代入上式得到$x^2+cos^2t=1$\n",
    "\n",
    "即$x=sint,dx=costdt$\n",
    "\n",
    "又因为$\\frac{dy}{dx}=cost$,则$dy=costdx=cos^2tdt$，对该式求积分得到\n",
    "\n",
    "$y=\\int cos^2tdt$\n",
    "\n",
    "$=tcos^2t-\\int(-2costsint*t)dt$\n",
    "\n",
    "$=tcos^2t+\\int tsin2tdt$\n",
    "\n",
    "$=tcos^2t-\\frac{1}{2}tcos2t+\\frac{1}{4}sin2t+c$\n",
    "\n",
    "$=tcos^2t-\\frac{1}{2}t(2cos^2t-1)+\\frac{1}{4}sin2t+c$\n",
    "\n",
    "$=\\frac{1}{2}t+\\frac{1}{4}sin2t+c$\n",
    "\n",
    "因此得到方程的参数通解为\n",
    "$\\begin{cases}x=sint\\\\y=\\frac{1}{2}t+\\frac{1}{4}sin2t+c\\end{cases}$\n"
   ]
  },
  {
   "cell_type": "markdown",
   "metadata": {},
   "source": [
    "(6)$y^2(y'-1)=(2-y')^2$"
   ]
  },
  {
   "cell_type": "markdown",
   "metadata": {},
   "source": [
    "解：令$2-y'=yt$,则$y'=2-yt$代入原方程得到\n",
    "$$y^2(1-yt)=(yt)^2$$\n",
    "即$$1-yt=t^2$$\n",
    "则$y=\\frac{1-t^2}{t}=\\frac{1}{t}-t$\n",
    "\n",
    "$dy=\\frac{-2t^2-1+t^2}{t^2}=\\frac{-t^2-1}{t^2}$\n",
    "\n",
    "又因为$\\frac{dy}{dx}=2-yt=2-\\frac{1-t^2}{t}t=1+t^2$\n",
    "\n",
    "得到$dx=\\frac{dy}{2-yt}=\\frac{\\frac{-t^2-1}{t^2}}{1+t^2}=-\\frac{1+t^2}{t^2(1+t^2)}=-\\frac{1}{t^2}$\n",
    "\n",
    "对上式求积分得到$$x=\\int(-\\frac{1}{t^2})dt=\\frac{1}{t}+c$$\n",
    "因此得到方程的参数通解为\n",
    "$$\\begin{cases}x=\\frac{1}{t}+c\\\\y=\\frac{1}{t}-t\\end{cases}$$\n",
    "\n",
    "或者消去参数t得$$y=x-\\frac{1}{x-c}-c$$\n",
    "其中c为任意c常数.\n",
    "\n",
    "此外，$y'=0$时原方程变为$-y^2=4$,此时方程无解。\n",
    "\n",
    "\n",
    "\n"
   ]
  },
  {
   "cell_type": "markdown",
   "metadata": {
    "collapsed": true
   },
   "source": [
    "# <font color='red'>A 28/9"
   ]
  },
  {
   "cell_type": "code",
   "execution_count": null,
   "metadata": {
    "collapsed": true
   },
   "outputs": [],
   "source": []
  }
 ],
 "metadata": {
  "kernelspec": {
   "display_name": "SageMath 7.3",
   "language": "",
   "name": "sagemath"
  },
  "language_info": {
   "codemirror_mode": {
    "name": "ipython",
    "version": 2
   },
   "file_extension": ".py",
   "mimetype": "text/x-python",
   "name": "python",
   "nbconvert_exporter": "python",
   "pygments_lexer": "ipython2",
   "version": "2.7.10"
  }
 },
 "nbformat": 4,
 "nbformat_minor": 0
}
