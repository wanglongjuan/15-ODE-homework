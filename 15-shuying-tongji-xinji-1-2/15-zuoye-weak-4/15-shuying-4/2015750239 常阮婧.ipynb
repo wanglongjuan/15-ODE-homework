{
 "cells": [
  {
   "cell_type": "markdown",
   "metadata": {},
   "source": [
    "# 2.求下列方程的解"
   ]
  },
  {
   "cell_type": "markdown",
   "metadata": {},
   "source": [
    "### （8）$(x+2y)dx+xdy=0$"
   ]
  },
  {
   "cell_type": "markdown",
   "metadata": {},
   "source": [
    "**解：**这里$M=x+2y,N=x,\\frac{\\partial M}{\\partial y}=2,\\frac{\\partial N}{\\partial x}=1，\\frac{\\partial M}{\\partial y}\\not=\\frac{\\partial N}{\\partial x}$,方程不是恰当的\n",
    "\n",
    "因为$\\frac{\\frac{\\partial M}{\\partial y}-\\frac{\\partial N}{\\partial x}}{N}=\\frac{1}{x}$只与x有关，故方程可求得只有与x有关的积分因子\n",
    "$$~~\\mu=e^{\\int\\mathrm\\ {\\frac{1}{x}}\\,\\mathrm{d}x}=e^{ln|x|}=x$$\n",
    "以$~~\\mu=x$乘方程两边，得到\n",
    "$$2xydx+x^2dy+x^2dx=0$$\n",
    "于是，方程的通解为\n",
    "$$x^3+3x^2y=c$$\n"
   ]
  },
  {
   "cell_type": "markdown",
   "metadata": {},
   "source": [
    "### (9)$[x\\cos (x+y)+\\sin (x+y)]dx+x\\cos(x+y)dy=0$"
   ]
  },
  {
   "cell_type": "markdown",
   "metadata": {},
   "source": [
    "**解：**这里$M=x\\cos (x+y)+\\sin (x+y),N=x\\cos (x+y)$\n",
    "$$\\frac{\\partial M}{\\partial y}=-x\\sin (x+y)+\\cos (x+y),\\frac{\\partial N}{\\partial x}=\\cos (x+y)-x\\sin (x+y)$$\n",
    "$\\frac{\\partial M}{\\partial y}=\\frac{\\partial N}{\\partial x}$\n",
    "方程是恰当的,把方程重新组合，得到\n",
    "$$d(x\\sin (x+y)=0$$\n",
    "于是，方程的通解为\n",
    "$$x\\sin (x+y)=c$$\n",
    "这里，c为任意常数\n",
    "\n"
   ]
  },
  {
   "cell_type": "markdown",
   "metadata": {},
   "source": [
    "### (10)$(y\\cos x-x\\sin x)dx+(y\\sin x+x\\cos x)dy=0$"
   ]
  },
  {
   "cell_type": "markdown",
   "metadata": {},
   "source": [
    "**解：**这里$M=y\\cos x-x\\sin x,N=y\\sin x+x\\cos x$\n",
    "$$\\frac{\\partial M}{\\partial y}=\\cos x,\\frac{\\partial N}{\\partial x}=y\\cos x+\\cos x-x\\sin x$$\n",
    "$\\frac{\\partial M}{\\partial y}\\not=\\frac{\\partial N}{\\partial x}$方程不是恰当的\n",
    "\n",
    "因为$\\frac{\\frac{\\partial M}{\\partial y}-\\frac{\\partial N}{\\partial x}}{M}={1}$只与y有关，故方程只有与y有关的积分因子\n",
    "$$~~\\mu=e^{\\int\\mathrm\\ {1}\\,\\mathrm{d}y}=e^y$$\n",
    "以$~~\\mu=e^y$乘两边方程得\n",
    "$$(ye^y\\cos xdx+ye^y\\sin xdy)+(e^y\\cos xdy-e^yx\\sin xdy)=0$$\n",
    "即\n",
    "$$d[(y-1)e^y\\sin x+e^yx\\cos x]=0$$\n",
    "因而，通解为\n",
    "$$e^yx\\cos x+e^y(y-1)\\sin x=c$$"
   ]
  },
  {
   "cell_type": "markdown",
   "metadata": {},
   "source": [
    "### (11)$x(4ydx+2xdy)+y^3(3ydx+5xdy)=0$"
   ]
  },
  {
   "cell_type": "markdown",
   "metadata": {},
   "source": [
    "**解：**由题可知，$x(4ydx+2xdy)=d(2x^2y)$,所以只用考虑方程$y^3(3ydx+5xdy)=0$,有\n",
    "$$M=3y^4,N=5xy^3,\\frac{\\partial M}{\\partial y}=12y^3,\\frac{\\partial N}{\\partial x}=5y^3$$\n",
    "$\\frac{\\partial M}{\\partial y}\\not=\\frac{\\partial N}{\\partial x}$方程不是恰当的\n",
    "\n",
    "因为$\\frac{\\frac{\\partial M}{\\partial y}-\\frac{\\partial N}{\\partial x}}{5xy^3}=\\frac{7}{5x}$只与x有关，故方程只有与x有关的积分因子\n",
    "$$~~\\mu=e^{\\int\\mathrm\\ \\frac{7}{5x}\\,\\mathrm{d}x}=e^{ln{\\frac{7}{5}}}=e^\\frac{7}{5}$$\n",
    "以$~~\\mu=e^\\frac{7}{5}$乘两边方程得\n",
    "$$3y^4x^\\frac{7}{5}dx+5x^\\frac{12}{5}y^3dy=0$$\n",
    "即$$d(\\frac{5}{4}x^\\frac{12}{5}y^4)=0$$\n",
    "因而，通解为\n",
    "$$2x^2y+\\frac{5}{4}x^\\frac{12}{5}y^4=c$$"
   ]
  },
  {
   "cell_type": "markdown",
   "metadata": {},
   "source": [
    "# <font color='red'>错误？？"
   ]
  },
  {
   "cell_type": "markdown",
   "metadata": {},
   "source": [
    "### 4.设$f(x,y)$及$\\frac{\\partial f}{\\partial y}$连续，试证明方程$dy-f(x,y)dx=0$为线性微分方程的充要条件是它有仅依赖于x的积分因子"
   ]
  },
  {
   "cell_type": "markdown",
   "metadata": {},
   "source": [
    "**解：**充分性：设$dy-f(x,y)dx=0$它有仅依赖于x的积分因子，证明其为线性的\n",
    "因为积分因子依赖于x，所以存在$\\varphi(x)$使得\n",
    "$$\\frac{\\frac{\\partial M}{\\partial y}-\\frac{\\partial N}{\\partial x}}{N}=\\frac{\\frac{-\\partial f}{\\partial y}-0}{1}=\\varphi(x)$$\n",
    "对上式两边积分得$f(x,y)=-\\varphi(x)y+h(x)$(h(x)为任意可微函数)\n",
    "即原方程为\n",
    "\n",
    "$$\\frac{dy}{dx}=-\\varphi(x)y+h(x)$$ \n",
    "充分性得证\n",
    "\n",
    "必要性：方程$dy-f(x,y)dx=0$是线性微分方程\n",
    "存在$g(x),h(x)$使得\n",
    "$$f(x,y)=yg(x)+h(x)$$\n",
    "得到$M=-f(x,y)=-yg(x)-h(x),N=1\n",
    "有$$\\frac{\\frac{\\partial M}{\\partial y}-\\frac{\\partial N}{\\partial x}}{N}={-g(x)}$$\n",
    "\n",
    "所以，方程具有积分因子，必要性得证"
   ]
  },
  {
   "cell_type": "markdown",
   "metadata": {},
   "source": [
    "### 8求出伯努利微分方程的积分因子"
   ]
  },
  {
   "cell_type": "markdown",
   "metadata": {},
   "source": [
    "**解：**伯努利微分方程为$$\\frac{dy}{dx}=p(x)y+q（x)y^n$$\n",
    "化为$$dy-p(x)ydx-q(x)y^ndx=0$$\n",
    "两边同时乘以$y^{-n}$得\n",
    "$$y^{(-n)}dy-p(x)y^{(1-n)}dx-q(x)dx=0$$\n",
    "即$$d(y^{1-n})-(1-n)p(x)y^{1-n}dx-(1-n)q(x)dx=0$$\n",
    "乘以$e^{-(1-n){\\int\\mathrm\\ {p(x)}\\,\\mathrm{d}x}}$得\n",
    "$$e^{-(1-n){\\int\\mathrm\\ {p(x)}\\,\\mathrm{d}x}}[d(y^{1-n})-(1-n)p(x)y^{1-n}dx]-e^{-(1-n){\\int\\mathrm\\ {p(x)}\\,\\mathrm{d}x}}(1-n)q(x)dx=0$$\n",
    "即$$d[y^{1-n}e^{-(1-n){\\int\\mathrm\\ {p(x)}\\,\\mathrm{d}x}}]-d[\\int\\mathrm\\ (1-n)q(x){e^{-(1-n){{\\int\\mathrm\\ {p(x)}\\,\\mathrm{d}x}}}(1-n)q(x)}\\,\\mathrm{d}x]=0$$\n",
    "因此，积分因子为\n",
    "$$~~\\mu=y^{-n}e^{(n-1){\\int\\mathrm\\ {p(x)}\\,\\mathrm{d}x}}$$"
   ]
  },
  {
   "cell_type": "markdown",
   "metadata": {},
   "source": [
    "# 1.求解下列方程"
   ]
  },
  {
   "cell_type": "markdown",
   "metadata": {},
   "source": [
    "### （1）$xy'^3=1+y'$"
   ]
  },
  {
   "cell_type": "markdown",
   "metadata": {},
   "source": [
    "**解：**解出x，并令$\\frac{dy}{dx}=p$,得到\n",
    "$$x=\\frac{1}{p^3}+\\frac{1}{p^2}$$\n",
    "两边对y求导，得到\n",
    "$$\\frac{1}{p}=(\\frac{-3}{p^4}-\\frac{2}{p^3})\\frac{dp}{dy}$$\n",
    "\n",
    "$$(3+2p)dp+p^3dy=0$$\n",
    "积分之，得到\n",
    "$$y=\\frac{3}{2p^2}+\\frac{2}{p}+c$$\n",
    "因此，得到方程的参数形式的通解\n",
    "$$\\begin{cases}x=\\frac{1}{p^3}+\\frac{1}{p^2}\\\\y=\\frac{1}{2p^2}+\\frac{2}{p}+c\\end{cases}  p\\not=0$$"
   ]
  },
  {
   "cell_type": "markdown",
   "metadata": {},
   "source": [
    "### (2)$y'^3-x^3(1-y')=0$"
   ]
  },
  {
   "cell_type": "markdown",
   "metadata": {},
   "source": [
    "**解：**令$y'=tx$带入原方程中得到\n",
    "$$x^3(t^3-1+tx)=0$$\n",
    "则由方程得 \n",
    "$$x=\\frac{1}{t}-t^2$$\n",
    "\n",
    "两边对y求导，于是\n",
    "$$dy=[(1-t^3)(\\frac{-1}{t^2}-2)]dt$$\n",
    "\n",
    "积分之，得到\n",
    "\n",
    "$$y=\\int\\mathrm\\ [(1-t^3)(\\frac{-1}{t^2}-2)]\\,\\mathrm{d}t=\\frac{-1}{2}t^2+\\frac{2}{5}t^5+\\frac{1}{t}+c$$\n",
    "因此，得到方程的参数形式的通解\n",
    "$$\\begin{cases}x=\\frac{1}{t}-t^2\\\\y=\\frac{-1}{2}t^2+\\frac{2}{5}t^5+\\frac{1}{t}+c\\end{cases}  $$"
   ]
  },
  {
   "cell_type": "markdown",
   "metadata": {},
   "source": [
    "### (3)$y=y'^2e^{y'}$"
   ]
  },
  {
   "cell_type": "markdown",
   "metadata": {},
   "source": [
    "**解：**令$y'=p$,原方程化为\n",
    "$$y=p^2e^p$$\n",
    "\n",
    "两边对x求导得\n",
    "$$p=(2pe^p+p^2e^p)\\frac{dp}{dx}$$\n",
    "\n",
    "$$dx=（p+2)e^pdp$$\n",
    "积分之，得到\n",
    "$$x=\\int\\mathrm （p+2)e^p\\,\\mathrm{d}p=(p+1)e^p+c$$\n",
    "因此，得到方程的参数形式的通解\n",
    "$$\\begin{cases}x=(p+1)e^p+c\\\\y=p^2e^p\\end{cases}$$\n"
   ]
  },
  {
   "cell_type": "markdown",
   "metadata": {},
   "source": [
    "### (4)$y(1+y'^2)=2a(a为常数）$"
   ]
  },
  {
   "cell_type": "markdown",
   "metadata": {},
   "source": [
    "**解：**令$y'=\\tan t$,原方程化为\n",
    "$$y=2a\\cos^2t$$\n",
    "两边对x求导得\n",
    "$$\\tan t=-2a\\sin 2t\\frac{dt}{dx}$$\n",
    "$$dx=-4a\\cos ^2tdt$$\n",
    "积分之，得到\n",
    "$$x=\\int\\mathrm -4a\\cos ^2t\\,\\mathrm{d}t=-a(2t+\\sin 2t+c)$$\n",
    "因此，得到方程的参数形式的通解\n",
    "$$\\begin{cases}x=-a(2t+\\sin 2t+c)\\\\y=2a\\cos^2t\\end{cases}$$"
   ]
  },
  {
   "cell_type": "markdown",
   "metadata": {},
   "source": [
    "### (5)$x^2+y'^2=1$"
   ]
  },
  {
   "cell_type": "markdown",
   "metadata": {},
   "source": [
    "**解：**令$y'=\\cos t$,原方程化为\n",
    "$$x^2+\\cos ^2t=1$$\n",
    "则由方程得\n",
    "$$x=\\sin t$$\n",
    "两边对y求导得\n",
    "$$\\frac{1}{\\cos t}=\\cos \\frac{dt}{dy}$$\n",
    "\n",
    "$$dy=\\cos ^2tdt$$\n",
    "积分之，得到\n",
    "$$y=\\int\\mathrm \\cos ^2t\\,\\mathrm{d}t=\\int\\mathrm {\\frac{\\cos 2t+1}{2}}\\,\\mathrm{d}t=\\frac{t}{2}+\\frac{1}{4}\\sin 2t+c$$\n",
    "因此，得到方程的参数形式的通解\n",
    "$$\\begin{cases}x=\\sin t\\\\y=\\frac{t}{2}+\\frac{1}{4}\\sin 2t+c\\end{cases}$$"
   ]
  },
  {
   "cell_type": "markdown",
   "metadata": {},
   "source": [
    "### (6)$y^2(y'-1)=(2-y')^2$"
   ]
  },
  {
   "cell_type": "markdown",
   "metadata": {},
   "source": [
    "**解：**令$2-y'=yt$,则与原微分方程消去$y'$后，有\n",
    "$$y^2(1-yt)=y^2t^2$$\n",
    "由此得\n",
    "$$y=\\frac{1}{t}-t$$\n",
    "并且\n",
    "$$y'=1+t^2$$\n",
    "这是原微分方程的参数形式，因此\n",
    "$$dx=\\frac{dy}{y'}=\\frac{-1}{t^2}dt$$\n",
    "积分之，得到\n",
    "$$x=\\frac{1}{t}+c$$\n",
    "于是求得方程的参数形式的通解为\n",
    "$$\\begin{cases}x=\\frac{1}{t}+c\\\\y=\\frac{1}{t}-t\\end{cases}$$\n",
    "或者消去参数t得\n",
    "$$y=x-\\frac{1}{x-c}-c$$\n",
    "其中，c为任意常数\n",
    "   此外，当$y'=0$时原方程变为$-y^2=4$，此时方程无解"
   ]
  },
  {
   "cell_type": "markdown",
   "metadata": {
    "collapsed": true
   },
   "source": [
    "# <font color='red'>A 28/9"
   ]
  },
  {
   "cell_type": "code",
   "execution_count": null,
   "metadata": {
    "collapsed": true
   },
   "outputs": [],
   "source": []
  }
 ],
 "metadata": {
  "kernelspec": {
   "display_name": "SageMath 7.3",
   "language": "",
   "name": "sagemath"
  },
  "language_info": {
   "codemirror_mode": {
    "name": "ipython",
    "version": 2
   },
   "file_extension": ".py",
   "mimetype": "text/x-python",
   "name": "python",
   "nbconvert_exporter": "python",
   "pygments_lexer": "ipython2",
   "version": "2.7.10"
  }
 },
 "nbformat": 4,
 "nbformat_minor": 0
}
