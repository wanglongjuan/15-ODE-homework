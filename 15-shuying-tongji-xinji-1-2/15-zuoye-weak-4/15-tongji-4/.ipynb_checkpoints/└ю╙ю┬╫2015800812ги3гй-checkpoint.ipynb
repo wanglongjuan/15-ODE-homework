{
 "cells": [
  {
   "cell_type": "markdown",
   "metadata": {},
   "source": [
    "61.2.(8)\n",
    "$$(x+2y)\\mathrm d x+x\\mathrm d y=0$$\n",
    "$$\\frac{\\frac{x+2y}{\\mathrm d y}-\\frac{x}{\\mathrm d x}}{x}=\\frac{1}{x}$$\n",
    "$$u=e^{\\int \\frac{1}{x} \\mathrm d x}=x$$\n",
    "$$x(x+2y)\\mathrm d x+x^2\\mathrm d y=0$$\n",
    "$$\\mathrm d \\frac{x^3}{3}+\\mathrm d yx^2=0$$\n",
    "$$\\frac{x^3}{3}+yx^2=c$$"
   ]
  },
  {
   "cell_type": "markdown",
   "metadata": {},
   "source": [
    "(9)\n",
    "$$xcos(x+y)+sin(x+y) \\mathrm d y=cos(x+y)-sin(y+x)$$\n",
    "$$xcos(x+y)\\mathrm d x=cos(x+y)-xsin(x+y)$$\n",
    "$$u=xsin(x+y)+A(x)$$\n",
    "$$\\frac{u}{\\mathrm d x}=sin(x+y)+xcos(x+y)+A'(x)$$\n",
    "$$A'(x)=0$$\n",
    "$$u=xsin(x+y)$$\n",
    "$$xsin(x+y)=c$$"
   ]
  },
  {
   "cell_type": "markdown",
   "metadata": {},
   "source": [
    "(10)\n",
    "$$(ysinx+xcosx)\\mathrm d y+(ycosx-xsinx)\\mathrm d x=0$$\n",
    "$$(ycosx-xsinx)\\mathrm d y=cosx$$\n",
    "$$(ysinx+xcosx)\\mathrm d x=ycosx+cosx-xsinx$$\n",
    "$$\\frac{cosx-ycosx-cosx+xsinx}{-ycosx+xsinx}=1$$\n",
    "$$u=e^{\\int \\mathrm d y}=e^y$$\n",
    "$$e^y(ycosx-xsinx)\\mathrm d x+e^y(ysinx+xcosx)\\mathrm d y=0$$\n",
    "$$u=\\int e^y(ycosx-xsinx)\\mathrm d x+A(y)=e^yysinx+e^yxcosx-e^ycosx+A(y)$$\n",
    "$$u\\mathrm d y=e^yysinx+e^ysinx+e^yxcosx-e^ycosx+A'(y)=e^y(ysinx+xcosx)$$\n",
    "$$A'(y)=e^ycosx-e^ysinx$$\n",
    "$$e^yysinx+e^yxcosx-e^ysinx+e^ycosx-e^ysinx=u$$\n",
    "$$e^yysinx+e^yxcosx-e^ysinx=u$$"
   ]
  },
  {
   "cell_type": "markdown",
   "metadata": {},
   "source": [
    "(11)\n",
    "$$x(4y\\mathrm d x+2x\\mathrm d y)+y^3(3y\\mathrm d x+5x\\mathrm d y)=0$$\n",
    "$$u=x^my^n$$\n",
    "$$x^my^n(4y\\mathrm d x+2x\\mathrm d y)+x^my^{3+n}(3y\\mathrm d x+5x\\mathrm d y)=0$$\n",
    "$$so$$\n",
    "$$4(n+1)x^{m+1}y^n+3(n+4)x^my^{n+3}=2(m+2)x^{m+1}y^n+5(m+1)x^my^{n+3}$$\n",
    "$$m=2,n=1$$\n",
    "$$so$$\n",
    "$$u=x^2y$$\n",
    "$$4x^3y^2\\mathrm d x+3x^2y^3\\mathrm d x+2x^4y\\mathrm d y+5x^3y^4\\mathrm d y=0$$\n",
    "$$x^4y^2+x^3y^5=c$$\n",
    "$$and x=0,y=0$$"
   ]
  },
  {
   "cell_type": "markdown",
   "metadata": {},
   "source": [
    "4.\n",
    "$$\\frac{\\partial f}{\\partial y}=-A(x)$$\n",
    "$$f(x,y)=-A(x)y+h(x)$$\n",
    "prove it linear differential equation:$$ \\mathrm d y-f(x,y)\\mathrm d x=0 $$\n",
    "$$f(x,y)=yg(x)+h(x)$$\n",
    "$$\\frac{\\frac{\\partial m}{y}-\\frac{\\partial n}{x}}{n}=-B(x)$$\n",
    "so$$u=e^{\\int-g(x)\\mathrm x}$$"
   ]
  },
  {
   "cell_type": "markdown",
   "metadata": {
    "collapsed": true
   },
   "source": [
    "8.\n",
    "$$\\frac{\\mathrm d y}{\\mathrm d x}=p(x)y+q(x)y^n$$\n",
    "$$\\mathrm d y-p(x)y\\mathrm d x-q(x)y^n\\mathrm d x=0$$\n",
    "$$\\mathrm y^{1-n}-(1-n)p(x)y^{1-n}\\mathrm d x-(1-n)q(x)\\mathrm d x=0$$\n",
    "$$e^{(n-1)\\int p(x)\\mathrm d x}[\\mathrm d y^{1-n}-(1-n)p(x)y^{1-n}\\mathrm d x]-e^{(n-1)\\int p(x)\\mathrm d x}(1-n)q(x)\\mathrm d x$$\n",
    "$$\\mathrm d [y^{1-n}e^{(n-1)\\int p(x)\\mathrm d x}]-\\mathrm d [\\int(1-n)q(x)e^{(n-1)\\int p(x)\\mathrm d x}\\mathrm d x]=0$$\n",
    "so\n",
    "$$y^{-n}e^{(n-1)\\int p(x)\\mathrm d x}$$"
   ]
  },
  {
   "cell_type": "markdown",
   "metadata": {},
   "source": [
    "70.1.(1)\n",
    "$$xy'^3=1+y'$$\n",
    "$$y'=\\frac{1}{t}$$\n",
    "$$x=t^2+t^3$$\n",
    "$$y=\\frac{3}{2}t^2+2t+c$$"
   ]
  },
  {
   "cell_type": "markdown",
   "metadata": {},
   "source": [
    "(2)\n",
    "$$y'^3-x^3(1-y')=0$$\n",
    "$$y'=tx$$\n",
    "$$x=\\frac{1}{t}-t^2$$\n",
    "$$\\mathrm d y=[(1-t^3)(-\\frac{1}{t^2}-2t)]$$\n",
    "$$y=-\\frac{1}{2}t^2+\\frac{2}{5}t^5+\\frac{1}{t}+C$$\n",
    "$$x=\\frac{1}{t}-t^2$$"
   ]
  },
  {
   "cell_type": "markdown",
   "metadata": {},
   "source": [
    "(3)\n",
    "$$y=y'^2e^{y'}$$\n",
    "$$y'=p$$\n",
    "$$y=p^2e^p$$\n",
    "$$\\mathrm d x=(p+2)e^p\\mathrm d p$$\n",
    "$$x=(p+1)e^p+c$$\n",
    "$$y=p^2e^p$$\n",
    "and$$y=0$$"
   ]
  },
  {
   "cell_type": "markdown",
   "metadata": {},
   "source": [
    "(4)\n",
    "$$y(1+y'^2)=2a$$\n",
    "$$y'=tant$$\n",
    "$$y=2acos^2t$$\n",
    "$$\\mathrm d x=-4acos^2t\\mathrm d t$$\n",
    "$$x=-a(2t+sin2t)+c$$\n",
    "$$y=2acos^2t$$\n",
    "and$$y=2a$$"
   ]
  },
  {
   "cell_type": "markdown",
   "metadata": {},
   "source": [
    "(5)\n",
    "$$x^2+y'^2=1$$\n",
    "$$x=sint$$\n",
    "$$\\mathrm d y=cos^2t\\mathrm d t$$\n",
    "$$y=\\frac{t}{2}+\\frac{1}{4}sin2t+c$$\n",
    "$$x=sint$$"
   ]
  },
  {
   "cell_type": "markdown",
   "metadata": {},
   "source": [
    "(6)\n",
    " $$y^2(y'-1)=(2-y')^2$$\n",
    " $$2-y'=ty$$\n",
    " $$y=\\frac{1}{t}-t$$\n",
    " $$\\mathrm d x=-\\frac{1}{t^2}\\mathrm d t$$\n",
    " $$x=\\frac{1}{t}+c$$\n",
    " $$y=\\frac{1}{t}-t$$"
   ]
  },
  {
   "cell_type": "markdown",
   "metadata": {
    "collapsed": true
   },
   "source": [
    "# <font color='red'>A 28/9  后面写成括号参数形式，4题，过程太简单"
   ]
  },
  {
   "cell_type": "code",
   "execution_count": null,
   "metadata": {
    "collapsed": true
   },
   "outputs": [],
   "source": []
  }
 ],
 "metadata": {
  "kernelspec": {
   "display_name": "SageMath 7.3",
   "language": "",
   "name": "sagemath"
  },
  "language_info": {
   "codemirror_mode": {
    "name": "ipython",
    "version": 2
   },
   "file_extension": ".py",
   "mimetype": "text/x-python",
   "name": "python",
   "nbconvert_exporter": "python",
   "pygments_lexer": "ipython2",
   "version": "2.7.10"
  }
 },
 "nbformat": 4,
 "nbformat_minor": 0
}
