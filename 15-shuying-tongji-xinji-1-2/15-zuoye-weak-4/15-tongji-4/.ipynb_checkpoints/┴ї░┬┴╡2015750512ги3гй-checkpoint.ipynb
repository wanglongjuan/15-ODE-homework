{
 "cells": [
  {
   "cell_type": "markdown",
   "metadata": {},
   "source": [
    "## 常微分方程作业（3） 2015750512  刘奥恋 ##"
   ]
  },
  {
   "cell_type": "markdown",
   "metadata": {},
   "source": [
    "### 求下列方程的解 ###"
   ]
  },
  {
   "cell_type": "markdown",
   "metadata": {},
   "source": [
    "$$(x+2y)\\mathrm dx+x\\mathrm dy=0$$"
   ]
  },
  {
   "cell_type": "markdown",
   "metadata": {},
   "source": [
    "$解：由题可知：M=(x+2y)与 N=x$\n",
    "\n",
    "$\\frac{\\partial M}{\\partial y}=2与\\frac{\\partial N}{\\partial x}=1$\n",
    "\n",
    "$\\psi(x)=\\frac{\\frac{\\partial M}{\\partial y}-\\frac{\\partial N}{\\partial x}}{N}=\\frac{1}{x}$\n",
    "\n",
    "$可得方程的积分因子{\\mu}=e^{\\int{\\frac{1}{x}}dx}=e^{lnx}=x$\n",
    "\n",
    "$两边同时乘以x，得x(x+2y)\\mathrm dx+x^2\\mathrm dy=0$\n",
    "\n",
    "$得经x^2\\mathrm dx+2xy\\mathrm dy+x^2\\mathrm dy=0$\n",
    "\n",
    "$\\mathrm d(x^3)+\\mathrm 2d(x^2y)=0$\n",
    "\n",
    "$得到方程的解即2x^2y+\\frac{1}{3}x^3=c$"
   ]
  },
  {
   "cell_type": "markdown",
   "metadata": {},
   "source": [
    "$$[x\\cos(x+y)+\\sin(x+y)]\\mathrm dx+x\\cos(x+y)\\mathrm dy=0$$"
   ]
  },
  {
   "cell_type": "markdown",
   "metadata": {},
   "source": [
    "$由方程可知M=x\\cos(x+y)+\\sin(x+y)与N=x\\cos(x+y）$\n",
    "\n",
    "$\\frac{\\partial M}{\\partial y}=-xsin(x+y)+\\cos(x+y),\\frac{\\partial N}{\\partial x}=-x\\sin(x+y)+cos(x+y)$\n",
    "\n",
    "$可知方程是恰当方程，将方程拆分后进行组合有：\\mathrm d(x\\sin(x+y))=0$\n",
    "\n",
    "$解得方程的解为x\\sin(x+y)=c$"
   ]
  },
  {
   "cell_type": "markdown",
   "metadata": {
    "collapsed": true
   },
   "source": [
    "$$ (y\\cos x-x\\sin x)\\mathrm dx+(y\\sin x+x\\cos x)\\mathrm dy=0 $$"
   ]
  },
  {
   "cell_type": "markdown",
   "metadata": {},
   "source": [
    "$解：由方程可知：M=ycosx-xsinx,N=ysinx+xcosx$\n",
    "\n",
    "$\\frac{\\partial M}{\\partial y}=\\cos x,\\frac{\\partial N}{\\partial x}=y\\cos x+cosx-xsinx.$\n",
    "\n",
    "$可知方程非恰当方程，\\frac{\\frac{\\partial M}{\\partial y}-\\frac{\\partial N}{\\partial x}}{-M}=1$\n",
    "\n",
    "$可知方程的积分因子为e^{\\int 1dy}=e^y$\n",
    "\n",
    "$方程两边同乘e^y得e^y(y\\cos x-x\\sin x)\\mathrm dx+e^y(y\\sin x+x\\cos x)\\mathrm dy=0$\n",
    "\n",
    "$拆分组合得d[(y-1)e^ysinx+e^yxcosx]=0$\n",
    "\n",
    "$可得方程的解为e^y(y-1)sinx+e^yxcosx=c$"
   ]
  },
  {
   "cell_type": "markdown",
   "metadata": {},
   "source": [
    "$$设f（x，y）及\\frac{\\partial f}{\\partial y}连续，试证方程dy-f(x,y)dx=0为线性微分方程的充要条件是它有仅依赖于x的积分因子 $$"
   ]
  },
  {
   "cell_type": "markdown",
   "metadata": {},
   "source": [
    "证明：（充分性）：\n",
    "$y-f(x,y)dx=0有仅依赖于x的积分因子，若其成立，所以存在某个\\psi 满足\\frac{\\frac{\\partial M}{\\partial y}-\\frac{\\partial N}{\\partial x}}{N}=\\frac{\\frac{-\\partial f}{\\partial y}-0}{1}=\\psi x$\n",
    "\n",
    "$即得到\\frac{\\partial f}{\\partial y}=-\\psi x，对两边积分得f(x,y)=-\\psi xy+h(x),$\n",
    "\n",
    "$即证明了dy-f（x，y）dx=0是线性微分方程$\n",
    "\n",
    "$（必要性）：设方程dy-f（x，y）dx=0是线性微分方程，即存在g(x),h(x),使得地（x,y）=y*g(x)+h(x).$\n",
    "\n",
    "$可得M=-f(x,y)=-yg(x)-h(x),N=1,\\frac{\\frac{\\partial M}{\\partial y}-\\frac{\\partial N}{\\partial x}}{N}=-\\frac{g(x)}{1}=-g(x)$\n",
    "\n",
    "$所以，方程具有积分因子{\\mu}=e^{\\int{-g(x)}dx},即方程有仅依赖于x的积分因子$\n",
    "\n",
    "得证"
   ]
  },
  {
   "cell_type": "markdown",
   "metadata": {},
   "source": [
    "### 求出伯努利方程的积分因子###"
   ]
  },
  {
   "cell_type": "markdown",
   "metadata": {},
   "source": [
    "$伯努利方程为\\frac{dy}{dx}=P(x)+Q(x)y^n(n\\neq0,1)改写为dy-P(x)ydx-Q(x)y^ndx=0$\n",
    "\n",
    "乘以$y^{-n}$得$y^{-n}dy-P(x)y+Q(x)y^{1-n}dx-Q(x)=0$\n",
    "\n",
    "$即d(y^{1-n})-(1-n)P(x)y^{1-n}dx-(1-n)Q(x)dx=0$\n",
    "\n",
    "$再乘以e^{-(1-n){\\int P(x)}dx}得e^{-(1-n){\\int P(x)}dx}[d(y^{1-n})-(1-n)P(x)y^{1-n}dx-(1-n)Q(x)dx]-e^{-(1-n){\\int P(x)}dx}(1-n)Q(x)dx=0$\n",
    "\n",
    "即$d[e^{-(1-n){\\int P(x)}dx}]-d[\\int {(1-n)Q(x)e^{-(1-n){\\int P(x)}dx}}dx]$\n",
    "\n",
    "$这是全微分方程，因此所求积分因子是y^{-n}e^{-(1-n){\\int P(x)}dx}$"
   ]
  },
  {
   "cell_type": "markdown",
   "metadata": {},
   "source": [
    "### 求解下列方程 ###"
   ]
  },
  {
   "cell_type": "markdown",
   "metadata": {},
   "source": [
    "$$xy'^3=1+y'$$"
   ]
  },
  {
   "cell_type": "markdown",
   "metadata": {},
   "source": [
    "$解：记y=\\frac{1}{t},则方程可化为xt^{-3}=1+t^{-1},x=t^3+t^2$\n",
    "\n",
    "$及dy=\\frac{dx}{t}=t^{-1}d(t^3+t^2)=(3t+2)dt$\n",
    "\n",
    "$所以y=\\frac{3}{2}t^2+2t+c$\n",
    "\n",
    "$因此方程的通解为\\left\\{\\begin{array}\\\\x=t^3+t^2\\\\{y=\\frac{3}{2}t^2+2t+c} \\end{array}\\right.t为参数，c为任意常数$\n"
   ]
  },
  {
   "cell_type": "markdown",
   "metadata": {},
   "source": [
    "$$y'^3-x^3(1-y')=0\n",
    "$$"
   ]
  },
  {
   "cell_type": "markdown",
   "metadata": {},
   "source": [
    "$方程不显含y，记y’=tx，则方程可以化为（t^3-(1-tx)x^3）x^3=0$\n",
    "\n",
    "$解得x=\\frac{1}{t}-t^2$\n",
    "\n",
    "$两边对y求导得\\frac{1}{1-t^2}=(-\\frac{1}{t^2}-2t)\\frac{dt}{dy}$\n",
    "\n",
    "即$dy=[(1-t^3)(-\\frac{1}{t^2}-2t)]dt$\n",
    "\n",
    "积分得$y=-\\frac{1}{2}t^2+\\frac{2}{5}t^5+\\frac{1}{t}+c$\n",
    "\n",
    "所以方程的通解为$\\left\\{\\begin{array}\\\\x=\\frac{1}{t}-t^2\\\\{y=-\\frac{1}{2}t^2+\\frac{2}{5}t^5+\\frac{1}{t}+c} \\end{array}\\right. $"
   ]
  },
  {
   "cell_type": "markdown",
   "metadata": {},
   "source": [
    "$$y=y'^2e^{y'}$$"
   ]
  },
  {
   "cell_type": "markdown",
   "metadata": {},
   "source": [
    "$解:已解出y，不显含x，令y’=p则得方程化为y=p^2e^p$\n",
    "\n",
    "$对x求导数，即得p=(2p+p^2)e^p\\frac{dp}{dx}，即dx=(p+2)d^pdp$\n",
    "\n",
    "$积分得x=(p+1)e^p+c$\n",
    "\n",
    "$所以，方程的通解为\\left\\{\\begin{array}\\\\x=(p+1)e^p+c\\\\{y=p^2e^p} \\end{array}\\right.$\n",
    "\n",
    "$y=0也是方程的解$"
   ]
  },
  {
   "cell_type": "markdown",
   "metadata": {},
   "source": [
    "$$y(1+y')=2a(a为常数)$$"
   ]
  },
  {
   "cell_type": "markdown",
   "metadata": {},
   "source": [
    "$方程不显含x，令y'=tant，则原方程可化为y=2acos^2t$\n",
    "\n",
    "$两端关于x求导，可得tant=-2asin2t（\\frac{dt}{dx}）即dx=-4acos^2tdt$\n",
    "\n",
    "$积分得x=-a(2t+sin2t)+c$\n",
    "$所以方程的通解为\\left\\{\\begin{array}\\\\x=-a(2t+sin2t)+c\\\\y=2acos^2t \\end{array}\\right.t是参数，c为行意常数，$\n",
    "\n",
    "$y=2a也是方程的解$"
   ]
  },
  {
   "cell_type": "markdown",
   "metadata": {},
   "source": [
    "$$x^2+y'^2=1$$"
   ]
  },
  {
   "cell_type": "markdown",
   "metadata": {},
   "source": [
    "$方程不显含y，令y'=cost，则方程化为x=sint，$\n",
    "\n",
    "$对y求导得dy=cos^2tdt$\n",
    "\n",
    "$积分得y=\\frac{t}{2}+\\frac{1}{4}sin2t+c$\n",
    "\n",
    "$所以方程的通解为\\left\\{\\begin{array}\\\\x=sint\\\\{y=\\frac{t}{2}+\\frac{1}{4}sin2t+c} \\end{array}\\right.，t是参数，c\n",
    "是任意常数$"
   ]
  },
  {
   "cell_type": "markdown",
   "metadata": {},
   "source": [
    "$$y^2(y'-1)=(2-y')$$"
   ]
  },
  {
   "cell_type": "markdown",
   "metadata": {},
   "source": [
    "$方程不显含x，令2-y'=ty，则原方程可化为y^2(1-yt)=y^2t^2,$\n",
    "\n",
    "$由此得y=\\frac{1}{t}-t,且y'=1+t^2$\n",
    "\n",
    "$因此dx=\\frac{dy}{y'}=\\frac{(-\\frac{1}{t^2}-1)}{1+t^2}dt=-\\frac{1}{t^2}dt$\n",
    "\n",
    "$积分得x=\\frac{1}{t}+c$\n",
    "$可得，方程的通解为\\left\\{\\begin{array}\\\\y=\\frac{1}{t}-t\\\\{x=\\frac{1}{t}+c} \\end{array}\\right.t是参数，c是任意常数$"
   ]
  },
  {
   "cell_type": "markdown",
   "metadata": {
    "collapsed": true
   },
   "source": [
    "# <font color='red'>A 28/9"
   ]
  },
  {
   "cell_type": "code",
   "execution_count": null,
   "metadata": {
    "collapsed": true
   },
   "outputs": [],
   "source": []
  }
 ],
 "metadata": {
  "kernelspec": {
   "display_name": "SageMath 7.3",
   "language": "",
   "name": "sagemath"
  },
  "language_info": {
   "codemirror_mode": {
    "name": "ipython",
    "version": 2
   },
   "file_extension": ".py",
   "mimetype": "text/x-python",
   "name": "python",
   "nbconvert_exporter": "python",
   "pygments_lexer": "ipython2",
   "version": "2.7.10"
  }
 },
 "nbformat": 4,
 "nbformat_minor": 0
}
