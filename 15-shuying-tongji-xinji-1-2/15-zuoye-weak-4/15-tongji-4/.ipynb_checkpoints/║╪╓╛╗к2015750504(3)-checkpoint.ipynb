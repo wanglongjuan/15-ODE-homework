{
 "cells": [
  {
   "cell_type": "markdown",
   "metadata": {},
   "source": [
    "2.求解下列方程\n",
    "（8）（x+2y）dx+xdy=0;\n",
    "解：M=(x+2y),N=x.所以pal M/pal y =2,pal N /pal x =1,所以方程不是恰当微分方程。 \\ palM/paly-palN/pal x)/N=1/X.只与x有关，\n",
    "积分因子为u=e^ \\int(1/x)dx=x.同乘方程的两边得到x^2dx+2xydx+x^2dy=0.所以方程的通解为（1/3)x^3+x^2y=c.其中c为任意常数。\n",
    "\n",
    "\n"
   ]
  },
  {
   "cell_type": "markdown",
   "metadata": {},
   "source": [
    "（9）[xcos(x+y)+sin(x+y)]dx+xcos(x+y)dy=0\n",
    "解：M=xcos(x+y)+sin(x+y),N=xcos(x+y)\n",
    "    \\pal{M}{y}=-xsin(x+y),\\pal{N}{x}=cos(x+y-xsin(x+y)\n",
    "     所以方程是恰当微分方程\n",
    "    原方程等于d(xsin(x+y))=0\n",
    "     所以方程的通解为xsin(x+y)=c,其中c为任意的常数。                                    "
   ]
  },
  {
   "cell_type": "markdown",
   "metadata": {},
   "source": [
    "（10ycosx-xsinx）dx+(ysinx+xcosx)dy=0\n",
    "解：M=ycosx-xsinx,N=ysinx+xcosx。\\pal{M}{y}=cosx,\\pal{N}{x}=ycosx+cosx-xsinx\n",
    "   所以方程不是恰当微分方程\n",
    "（\\pal{M}{y}-\\pal{N}{x}）/-M=1，所以积分因子为u=\\sqrt[\\int1dy]{e},将u乘以方程得到d[(y-1)e^y*sinx+e^y*xcosx]=0\n",
    " 所以方程的通解为e^y（y-1）sinx+e^y(xcosx)=c.\n",
    "   这里c为任意的常数。"
   ]
  },
  {
   "cell_type": "markdown",
   "metadata": {},
   "source": [
    "（11）x(4ydx+2xdy)+y^3(3ydx+5xdy)=0\n",
    "解：原方程等于（4xy+3y^4）dx+(2x^2+5xy^3)dy=0\n",
    "    M=4xy+3y^4,N=2x^2+5xy^3,所以偏导数不同，故不是恰当微分方程。设积分因子为x^m*yn,同乘以方程得到最后解得m=2,n=1.将此积分因子乘以方程\n",
    "    解得通解为x^4*y^2+x^3*y^5=c,这里c 为任意的常数。"
   ]
  },
  {
   "cell_type": "markdown",
   "metadata": {},
   "source": [
    "4.设f（x,y）及\\pal{f}{y}连续，试证明方程dy-f(x,y)dx=0为线性微分方程的充要条件是它有仅依赖于x的积分因子。\n",
    "      证明：充分性：设dy-f(x,y)dx=0有仅依赖于x的积分因子是线性的。\n",
    "                dy-f(x,y)dx=0,M=f(x,y),N=1.必存在一个g(x)满足(\\pal{M}{y}-\\pal{N}{x})/N=-\\pal{f}{y}=g(X)   \n",
    "                积分得f(x,y)=-g(x)y+h(x),其中h(x)是关于x的任意可微函数。所以原方程为dy/dx=-g(x)y+h(x)，证明了原方程是线性微分方程。\n",
    "            必要性：设方程dy-f(x,y)dx=0是线性微分方程。即存在g(x),h(x),使得方程f(x,y)=y*g(x)+h(x).\n",
    "            这样M=-f(x,y)=-yg(x)-h(x),N=1,(\\pal{M}{y}-\\pal{N}{x})/N=-g(x/1=-g(x..所以，方程具有积分因子u=e^\\int -g(x)dx,证明了方程是有仅依   赖于x的积分因子。                                                                \n",
    "\n",
    "\n"
   ]
  },
  {
   "cell_type": "markdown",
   "metadata": {},
   "source": [
    "8.求出伯努利方程的积分因子\n",
    "      伯努利方程为dy/dx=P(x)y+Q(x)y^n（n不等于0,1），改写为dy-P(x)ydx-Q(x)y^ndx=0\n",
    "      乘以y^-n得到(y^-n)dy-P(x)(y^1-n)dx-Q(x)dx=0,\n",
    "        即d(y^(1-n)-(1-n)P(x)y^(1-n)dx-(1-n)Q(x)dx=0再乘以e的\\int -（1-n）P(x)dx最后解得\n",
    "           d(y^(1-n)*e^(\\int -（1-n）P(x)dx))-d(\\int (1-n)Q(x)e\\int (n+1)P(x)dx)=0,这就是全微分方程，积分因子为y^(-n)*e^(-(1-n))*\\int P(x)dx\n",
    "    "
   ]
  },
  {
   "cell_type": "markdown",
   "metadata": {},
   "source": [
    "1.求解下列方程。\n",
    "（1）xy'^3=1+y';\n",
    "解：记y'=1/t,则方程为xt^(-3)=1+t^(-1),x=t^3+t^2及dy=dx/t=t^(-1)d(t^3+t^2)=(3t+2)dt,所以y=(3/2)t^2+2t+c.\n",
    "    方程的通解为x=t^3+t^2,y=(3/2)t^2+2t+c,t为参数，c为任意常数。\n",
    "\n"
   ]
  },
  {
   "cell_type": "markdown",
   "metadata": {},
   "source": [
    "（2）y'^3-x^3（1-y'）=0;\n",
    "   解：方程不含y，记y'=tx,代入方程解得x=(1/t)-t^2,两边对y求导得到1/(1-t^3)=(-1/t^2-2t)*dt/dy,\n",
    "   即dy=[(1-t^3)(-1/t^2-2t)]dt,积分得到y=(-1/2)t^2+(2/5)t^5+1/t+c,所以方程的通解为x=1/t-t^2,y=-(1/2)t^2+（2/5）t^5+1/t+c.t为参数，c是任意的常数。\n",
    "   \n",
    "     "
   ]
  },
  {
   "cell_type": "markdown",
   "metadata": {},
   "source": [
    "（3）y=y'^2*e^y'\n",
    "解：令y'=p,原方程化为y=p^2*p,\n",
    "     对x求导数，即得p=(2p+p^2)(e^p)dp/dx,即dx=(p+2)e^pdp\n",
    "     积分得x=(p+1)e^+p+c.所以方程的通解为x=(p+1)e^p+c,y=p^2*e^p,其中p为参数，c为任意的常数。"
   ]
  },
  {
   "cell_type": "markdown",
   "metadata": {},
   "source": [
    "（4）y(1+y'^2)=2a(a为常数）\n",
    "解：方程不显含x,令y'=tant,则原方程化为y=2a(cost)^2,两端对x求导，得到tant=-2asin2t*(dt/dx),即dx=-4a(cost)^2*dt,积分得到\n",
    "     x=-a(2t+sin2t)+c,所以方程的通解为x=-a(2t+sin2t)+c,y=2a(cost)^2,其中t为参数，c为任意的常数。y=2a也是方程的解。\n",
    "\n",
    "\n",
    "\n",
    "\n"
   ]
  },
  {
   "cell_type": "markdown",
   "metadata": {},
   "source": [
    "（5)x^2+y'^2=1;\n",
    "解：方程不显含y,令y'=cost,则方程可化为x=sint,对y求导得到dy=((cost)^2 )dt,\n",
    "     积分得y=t/2+(1/4)sin2t+c,所以方程的通解为x=sint,y=t/2+(1/4)sin2t+c,这里t为参数，c为任意的常数\n",
    "\n",
    "\n"
   ]
  },
  {
   "cell_type": "markdown",
   "metadata": {},
   "source": [
    "（6)y^2(y'-1)=(2-y')^2.\n",
    "  解：方程不显含x，令2-y'=ty,则原方程化为y^2(1-yt)=y^2*t^2,\n",
    "     得到y=1/t-t,且y'=1+t^2.因此dx=dy/y'=[(-1/t^2-1)/1+t^2]dt=(-1/t^2)dt,积分得到x=1/t+c,于是解得原方程的通解为y=x-[1/(x-c)]-c,其中c为任意的常数。\n",
    "\n",
    "\n"
   ]
  },
  {
   "cell_type": "markdown",
   "metadata": {},
   "source": [
    "# <font color='red'>A 28/9      注意下次书写格式"
   ]
  },
  {
   "cell_type": "code",
   "execution_count": null,
   "metadata": {
    "collapsed": true
   },
   "outputs": [],
   "source": []
  }
 ],
 "metadata": {
  "kernelspec": {
   "display_name": "SageMath 7.3",
   "language": "",
   "name": "sagemath"
  },
  "language_info": {
   "codemirror_mode": {
    "name": "ipython",
    "version": 2
   },
   "file_extension": ".py",
   "mimetype": "text/x-python",
   "name": "python",
   "nbconvert_exporter": "python",
   "pygments_lexer": "ipython2",
   "version": "2.7.10"
  }
 },
 "nbformat": 4,
 "nbformat_minor": 0
}
