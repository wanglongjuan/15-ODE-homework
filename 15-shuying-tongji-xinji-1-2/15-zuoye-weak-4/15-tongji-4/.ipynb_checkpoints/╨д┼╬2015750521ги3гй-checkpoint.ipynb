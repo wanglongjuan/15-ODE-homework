{
 "cells": [
  {
   "cell_type": "markdown",
   "metadata": {},
   "source": [
    "# $$作业三$$"
   ]
  },
  {
   "cell_type": "markdown",
   "metadata": {},
   "source": [
    "## 2.求下列方程的解 （P60~P61）"
   ]
  },
  {
   "cell_type": "markdown",
   "metadata": {},
   "source": [
    "### $(8)(x+2y)dx+xdy=0;$\n",
    "解：$$M=x+2y,N=x$$\n",
    "$$\\frac{\\partial M}{\\partial y}=2,\\frac{\\partial N}{\\partial x}=1$$\n",
    "$$\\frac{\\mathrm {\\frac{\\partial M}{\\partial y}-\\frac{\\partial N}{\\partial x}}}{\\mathrm N}= \\frac{\\mathrm 1}{\\mathrm x}$$\n",
    "积分因子：$$µ=e^{\\int {\\frac{\\mathrm 1}{\\mathrm x}}\\,\\mathrm{d}x}= x$$\n",
    "以$ µ=x $乘方程两边,得：$$x^2dx+ydx^2+x^2dy=0$$\n",
    "$$d(\\frac{\\mathrm 1}{\\mathrm 3}x^3+x^2y)=0$$\n",
    "通解为：$$\\frac{\\mathrm 1}{\\mathrm 3}x^3+x^2y=c$$"
   ]
  },
  {
   "cell_type": "markdown",
   "metadata": {
    "collapsed": true
   },
   "source": [
    "### $(9)[x*cos(x+y)+sin(x+y)]dx+x*cos(x+y)dy=0;$\n",
    "解：$$M=x*cos(x+y)+sin(x+y),N=x*cos(x+y)$$\n",
    "$$\\frac{\\partial M}{\\partial y}=\\frac{\\partial N}{\\partial x}=cos(x+y)-x*sin(x+y)$$\n",
    "是恰当微分方程\n",
    "求u,使之满足:$$\\frac{\\partial u}{\\partial x}=x*cos(x+y)+sin(x+y)…………（1）$$\n",
    "$$\\frac{\\partial u}{\\partial y}=x*cos(x+y)…………(2)$$\n",
    "通解为：$$\\int {[x*cos(x+y)+sin(x+y)]}\\,\\mathrm{d}x+\\int {[x*cos(x+y)-\\frac{\\partial }{\\partial y}\\int {[x*cos(x+y)+sin(x+y)]}\\,\\mathrm{d}x]}\\,\\mathrm{d}y=c$$"
   ]
  },
  {
   "cell_type": "markdown",
   "metadata": {},
   "source": [
    "$$x*sin(x+y)=c$$"
   ]
  },
  {
   "cell_type": "markdown",
   "metadata": {},
   "source": [
    "### $(10)(y*cos(x)-x*sin(x))dx+(y*sin(x)+x*cos(x))dy=0;$"
   ]
  },
  {
   "cell_type": "markdown",
   "metadata": {},
   "source": [
    "解：$$M=y*cos(x)-x*sin(x),N=y*sin(x)+x*cos(x)$$\n",
    "$$\\frac{\\partial M}{\\partial y}=cos(x),\\frac{\\partial N}{\\partial x}=y*cos(x)+cos(x)-x*sin(x)$$\n",
    "$$\\frac{\\mathrm {\\frac{\\partial M}{\\partial y}-\\frac{\\partial N}{\\partial x}}}{\\mathrm -M}=1$$\n",
    "积分因子：$$µ=e^{\\int {1}\\,\\mathrm{d}y}= e^y$$\n",
    "以$ µ=e^y $乘方程两边,得：$$e^y(y*cos(x)-x*sin(x))dx+e^y(y*sin(x)+x*cos(x))dy=0$$\n",
    "通解为：$$\\int {[e^y(y*cos(x)-x*sin(x))]}\\,\\mathrm{d}x+\\int {[e^y(y*sin(x)+x*cos(x))-\\frac{\\partial }{\\partial y}\\int {[e^y(y*cos(x)-x*sin(x))]}\\,\\mathrm{d}x]}\\,\\mathrm{d}y=c$$"
   ]
  },
  {
   "cell_type": "markdown",
   "metadata": {},
   "source": [
    "$$e^y*sin(x)(y-1)+e^y*cos(x)=c$$"
   ]
  },
  {
   "cell_type": "markdown",
   "metadata": {
    "collapsed": true
   },
   "source": [
    "### $(11)x(4ydx+2xdy)+y^3(3ydx+5xdy)=0;$\n",
    "解：两边同时乘以$x^2y$，得：$$(4x^3y^2dx+2x^4ydy)+(3x^2y^5dx+5x^3y^4dy)=c$$\n",
    "$$d(x^4y^2)+d(x^3y^5)=0$$\n",
    "通解为：$$x^4y^2+x^3y^5=c$$"
   ]
  },
  {
   "cell_type": "markdown",
   "metadata": {},
   "source": [
    "## 4.设$f(x,y)$及$\\frac{\\partial f}{\\partial x}$连续，试证方程$dy-f(x,y)dx=0$为线性微分方程的充要条件是它有仅依赖于$x$的积分因子."
   ]
  },
  {
   "cell_type": "markdown",
   "metadata": {},
   "source": [
    "解：必要性，线性微分方程$f(x,y)=P(x)y+Q(x)$\n",
    "$dy-f(x,y)dx=0$的积分因子为：$$µ=e^{-\\int {P(x)}\\,\\mathrm{d}x}$$\n",
    "故，方程$dy-f(x,y)dx=0$有仅依赖于$x$的积分因子.\n",
    "\n",
    "充分性，方程$dy-f(x,y)dx=0$有仅依赖于$x$的积分因子$$µ(x)$$\n",
    "则$µ(x)dy-µ(x)f(x,y)dx=0$为恰当微分方程\n",
    "因为$$\\frac{\\partial M}{\\partial y}=\\frac{\\partial N}{\\partial x}$$\n",
    "有：$$\\frac{\\partial (-µ(x)f(x,y))}{\\partial y}=\\frac{\\partial µ(x)}{\\partial x}$$\n",
    "$$\\frac{\\partial f}{\\partial y}=-\\frac{\\mathrm µ’(x)}{\\mathrm µ(x)}$$\n",
    "两边积分，得：$$f=\\int {-\\frac{\\mathrm µ’(x)}{\\mathrm µ(x)}}\\,\\mathrm{d}y+Q(x)$$\n",
    "$$=-\\frac{\\mathrm µ’(x)}{\\mathrm µ(x)}y+Q(x)$$\n",
    "故，方程$dy-f(x,y)dx=0$为线性微分方程"
   ]
  },
  {
   "cell_type": "markdown",
   "metadata": {},
   "source": [
    "## 8.求出伯努利微分方程的积分因子."
   ]
  },
  {
   "cell_type": "markdown",
   "metadata": {},
   "source": [
    "解：伯努利微分方程可化为：$$[P(x)y+Q(x)y^n]dx-dy=0$$\n",
    "$$M=P(x)y+Q(x)y^n,N=-1$$\n",
    "$$\\frac{\\partial M}{\\partial y}=P(x)+nQ(x)y^{n-1},\\frac{\\partial N}{\\partial x}=0$$\n",
    "$$\\frac{\\mathrm {\\frac{\\partial M}{\\partial y}-\\frac{\\partial N}{\\partial x}}}{\\mathrm N}=-[P(x)+nQ(x)y^{n-1}] $$\n",
    "积分因子：$$µ=e^{-\\int {[P(x)+nQ(x)y^{n-1}]}\\,\\mathrm{d}x}$$"
   ]
  },
  {
   "cell_type": "markdown",
   "metadata": {},
   "source": [
    "## 1.求解下列方程"
   ]
  },
  {
   "cell_type": "markdown",
   "metadata": {},
   "source": [
    "### $（1）xy’^3=1+y’;$"
   ]
  },
  {
   "cell_type": "markdown",
   "metadata": {},
   "source": [
    "解：令$y’=p=t-1$,则由方程得：$$x=\\frac{\\mathrm t}{\\mathrm {(t-1)^3}}$$\n",
    "$$dy=\\frac{\\mathrm -1}{\\mathrm {(t-1)^3}}$$\n",
    "积分，得：$$y=\\int {\\frac{\\mathrm -1}{\\mathrm {(t-1)^3}}}\\,\\mathrm{d}t=\\frac{\\mathrm 1}{\\mathrm {4(t-1)^4}}$$\n",
    "方程的通解表成参数形式：$ \n",
    "                         \\begin{cases}\n",
    "                         x=\\frac{\\mathrm t}{\\mathrm {(t-1)^3}}\\\\\n",
    "                         y=\\frac{\\mathrm 1}{\\mathrm {4(t-1)^4}}\n",
    "                         \\end{cases}\n",
    "                        $"
   ]
  },
  {
   "cell_type": "markdown",
   "metadata": {},
   "source": [
    "### $ (2)y’^3-x^3(1-y’)=0;$"
   ]
  },
  {
   "cell_type": "markdown",
   "metadata": {},
   "source": [
    "解：令$y’=p=1-t$,则由方程得：$$x=\\frac{\\mathrm 1-t}{\\mathrm {(t)^{\\frac{\\mathrm 1}{\\mathrm 3}}}}$$\n",
    "$$dy=-\\frac{\\mathrm 1}{\\mathrm {3}}t^{-\\frac{\\mathrm 4}{\\mathrm {3}}}$$\n",
    "$$y=\\int {-\\frac{\\mathrm 1}{\\mathrm {3}}t^{-\\frac{\\mathrm 4}{\\mathrm {3}}}}\\,\\mathrm{d}t=t^{-\\frac{\\mathrm 1}{\\mathrm {3}}}$$\n",
    "方程的通解表成参数形式：$ \n",
    "                         \\begin{cases}\n",
    "                         x=\\frac{\\mathrm 1-t}{\\mathrm {(t)^{\\frac{\\mathrm 1}{\\mathrm 3}}}}\\\\\n",
    "                         y=t^{-\\frac{\\mathrm 1}{\\mathrm {3}}}\n",
    "                         \\end{cases}\n",
    "                        $"
   ]
  },
  {
   "cell_type": "markdown",
   "metadata": {},
   "source": [
    "### $(3)y=y’^2e^{y’};$"
   ]
  },
  {
   "cell_type": "markdown",
   "metadata": {},
   "source": [
    "解：令$y’=t$，则$$y=t^2e^t$$\n",
    "这是原微分方程的参数形式.所以$$dx=\\frac{\\mathrm dy}{\\mathrm {y’}}=(t+2)e^tdt$$\n",
    "$$x=\\int {(t+2)e^t}\\,\\mathrm{d}t=(t+2)e^t+c$$\n",
    "方程的通解表成参数形式：$ \n",
    "                         \\begin{cases}\n",
    "                         x=(t+2)e^t+c\\\\\n",
    "                         y=t^2e^t\n",
    "                         \\end{cases}\n",
    "                        $"
   ]
  },
  {
   "cell_type": "markdown",
   "metadata": {},
   "source": [
    "### $(4)y(1+y’^2)=2a;$"
   ]
  },
  {
   "cell_type": "markdown",
   "metadata": {
    "collapsed": true
   },
   "source": [
    "解：令$y’=tan(t)$,则$$y=2acos^2(t)$$\n",
    "这是原微分方程的参数形式.所以$$dx=-4acos^2(t)dt$$\n",
    "$$x=\\int {-4acos^2(t)}\\,\\mathrm{d}t=-a(2t+sin(2t))+c$$\n",
    "方程的通解表成参数形式：$ \n",
    "                         \\begin{cases}\n",
    "                         x=-a(2t+sin(2t))+c\\\\\n",
    "                         y=2acos^2(t)\n",
    "                         \\end{cases}\n",
    "                        $"
   ]
  },
  {
   "cell_type": "markdown",
   "metadata": {},
   "source": [
    "### $(5)x^2+y’^2=1;$"
   ]
  },
  {
   "cell_type": "markdown",
   "metadata": {
    "collapsed": true
   },
   "source": [
    "令$y’=cos(t)$,则$$x=sin(t)$$\n",
    "则有：$$dy=cos^2(t)dt$$\n",
    "两边积分，得：$$y=\\int {cos^2(t)}\\,\\mathrm{d}t=\\frac{\\mathrm 1}{\\mathrm 2}t+\\frac{\\mathrm sin(x)}{\\mathrm 4}+c$$\n",
    "方程的通解表成参数形式：$ \n",
    "                         \\begin{cases}\n",
    "                         x=sin(t)\\\\\n",
    "                        \\frac{\\mathrm 1}{\\mathrm 2}t+\\frac{\\mathrm sin(x)}{\\mathrm 4}+c\n",
    "                         \\end{cases}\n",
    "                        $"
   ]
  },
  {
   "cell_type": "markdown",
   "metadata": {},
   "source": [
    "### $(6)y^2(y’-1)=(2-y’)^2;$"
   ]
  },
  {
   "cell_type": "markdown",
   "metadata": {
    "collapsed": true
   },
   "source": [
    "解：令$2-y’=yt$，则$$y=\\frac{\\mathrm 1}{\\mathrm t}-t$$\n",
    "$$y’=1+t^2$$\n",
    "这是原微分方程的参数形式.所以$$dx=-\\frac{\\mathrm 1}{\\mathrm {t^2}}$$\n",
    "$$x=\\int {-\\frac{\\mathrm 1}{\\mathrm {t^2}}}\\,\\mathrm{d}t=\\frac{\\mathrm 1}{\\mathrm {t}}+c$$\n",
    "方程的通解表成参数形式：$ \n",
    "                         \\begin{cases}\n",
    "                         x=\\frac{\\mathrm 1}{\\mathrm {t}}+c\\\\\n",
    "                         y=\\frac{\\mathrm 1}{\\mathrm t}-t\n",
    "                         \\end{cases}\n",
    "                        $"
   ]
  },
  {
   "cell_type": "markdown",
   "metadata": {},
   "source": [
    "# <font color='red'>A 28/9"
   ]
  },
  {
   "cell_type": "code",
   "execution_count": null,
   "metadata": {
    "collapsed": true
   },
   "outputs": [],
   "source": []
  }
 ],
 "metadata": {
  "kernelspec": {
   "display_name": "SageMath 7.3",
   "language": "",
   "name": "sagemath"
  },
  "language_info": {
   "codemirror_mode": {
    "name": "ipython",
    "version": 2
   },
   "file_extension": ".py",
   "mimetype": "text/x-python",
   "name": "python",
   "nbconvert_exporter": "python",
   "pygments_lexer": "ipython2",
   "version": "2.7.10"
  }
 },
 "nbformat": 4,
 "nbformat_minor": 0
}
