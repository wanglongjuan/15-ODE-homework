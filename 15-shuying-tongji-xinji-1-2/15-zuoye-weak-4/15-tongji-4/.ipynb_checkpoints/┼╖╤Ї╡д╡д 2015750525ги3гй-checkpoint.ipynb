{
 "cells": [
  {
   "cell_type": "markdown",
   "metadata": {},
   "source": [
    "# $$第三次作业$$\n"
   ]
  },
  {
   "cell_type": "markdown",
   "metadata": {},
   "source": [
    "## $2.求下列方程的解：$\n",
    "### $(8)(x+2y)d(x)+xd(x)=0;$\n",
    "#### $解：M=x+2y,N=x,$"
   ]
  },
  {
   "cell_type": "markdown",
   "metadata": {},
   "source": [
    "#### $所以有:\\frac{\\partial M}{\\partial y}==2;\\frac{\\partial N}{\\partial x}==1$\n",
    "#### $故方程不是恰当的$\n",
    "#### $又\\frac{\\mathrm (\\frac{\\partial M}{\\partial y}-\\frac{\\partial N}{\\partial x})}{\\mathrm N}=\\frac{\\mathrm 1}{\\mathrm x}.所以方程有积分因子：$\n"
   ]
  },
  {
   "cell_type": "markdown",
   "metadata": {},
   "source": [
    "#### $u=e^{\\int \\frac{\\mathrm 1}{\\mathrm x}\\mathrm dx}=x$\n"
   ]
  },
  {
   "cell_type": "markdown",
   "metadata": {},
   "source": [
    "#### $以u乘以方程两边得到：2xyd(x)+x^2d(y)+x^2d(x)==0,即有：d(x^2y+\\frac{\\mathrm 1}{\\mathrm 3}x^3)==0$"
   ]
  },
  {
   "cell_type": "markdown",
   "metadata": {},
   "source": [
    "#### $所以方程的解为：x^3+3x^2y=c$"
   ]
  },
  {
   "cell_type": "markdown",
   "metadata": {},
   "source": [
    "### $(9)[xcos(x+y)+sin(x+y)]d(x)+xcos(x+y)d(y)==o；$\n",
    "#### $M=xcos(x+y)+sin(x+y),N=xcos(x+y).$\n",
    "#### $所以就有：\\frac{\\partial M}{\\partial y}==-xsin(x+y)+cos(x+y),\\frac{\\partial N}{\\partial x}=cos(x+y)-xsin(x+y).$\n",
    "#### $所以方程是恰当的，并且方程可以写成：d(xsin(x+y))==0.$\n",
    "#### $所以方程的通解为：xsin(x+y)==c.$"
   ]
  },
  {
   "cell_type": "markdown",
   "metadata": {},
   "source": [
    "### $(10)(ycos(x)-xsin(x))d(x)+(ysin(x)+xcos(x))d(y)==0;$\n",
    "#### $M=ycos(x)-xsin(x),N=ysin(x)+xcos(x)$\n",
    "#### $所以就有：\\frac{\\mathrm (\\frac{\\partial M}{\\partial y}-\\frac{\\partial N}{\\partial x})}{\\mathrm M}==1，$\n",
    "#### $所以方程有积分因子：u=e^{\\int 1\\mathrm dy}=e^y.$\n",
    "#### $所以方程两边同乘以u得：（ye^ycos(x)d(x)+ye^ysin(x)d(y))+(e^ycos(x)d(y)-e^yxsin(x)d(x))==0,$\n",
    "#### $即有：d[(y-1)e^ysin(x)+e^yxcos(x)]==0$\n",
    "#### $于是方程的通解；e^yxcos(x)+e^y(y-1)sin(x)==c.$"
   ]
  },
  {
   "cell_type": "markdown",
   "metadata": {},
   "source": [
    "### $(11)x(4y\\mathrm dx+2x\\mathrm dy)+y^3(3y\\mathrm dx+5x\\mathrm dy)=0 $\n",
    "\n",
    "#### $ (4xy+3y^4)\\mathrm dx+(2x^2+5xy^3)\\mathrm dy=0 $\n",
    "\n",
    "#### $ M(x,y)= (4xy+3y^4),N(x,y)= (2x^2+5xy^3) $\n",
    "\n",
    "#### $ \\frac{\\partial M}{\\partial y}-\\frac{\\partial N}{\\partial x}=4x+12y^3-4x+5y^3=7y^3=(2x^2+5xy^3)\\frac{2}{x}-(4xy+5y^3)\\frac{1}{y} $\n",
    "\n",
    "#### $ 令f(x)=\\frac{2}{x},g(y)=\\frac{1}{y} $\n",
    "\n",
    "#### $所以通解为 \\int \\mu M\\mathrm dx+\\int(\\mu N-\\frac{\\partial}{\\partial y}\\int \\mu M\\mathrm dx)\\mathrm dy=c $\n",
    "\n",
    "$ x^4y^2+x^3y^5+\\int[2x^4y+5x^3y^4-(2x^4y+5x^3y^4)]\\mathrm dx=c $\n",
    "\n",
    "即$ x^4y^2+x^3y^5=c,x=0,y=0也为解 $"
   ]
  },
  {
   "cell_type": "markdown",
   "metadata": {},
   "source": [
    "## $4. 设f(x,y)及\\frac{\\partial f}{\\partial y}连续，试证方程\\mathrm dy-f(x,y)\\mathrm dx=0为线性微分方程的充要条件是它有仅依赖于x的积分因子 $\n",
    "\n",
    "#### $(1)充分性$\n",
    "\n",
    "#### $ 设方程为线性微分方程\\frac{\\mathrm dy}{\\mathrm dx}=P(x)y+Q(x) $\n",
    "\n",
    "#### $ 可化为\\mathrm dy-f(x,y)\\mathrm dx=0 $\n",
    "\n",
    "#### $ f(x,y)= P(x)y+Q(x)=-M(x,y),N(x,y)=1 $\n",
    "\n",
    "#### $所以 \\frac{\\frac{\\partial M}{\\partial y}-\\frac{\\partial N}{\\partial x}}{N}=-P(x) $\n",
    "\n",
    "#### $ 所以有仅依赖于x的积分因子\\mu =e^{\\int P(x)\\mathrm dx} $\n",
    "\n",
    "#### $(2)必要性$\n",
    "\n",
    "#### $ 设方程有仅依赖于x的积分因子\\mu =e^{\\int P(x)\\mathrm dx} $\n",
    "\n",
    "#### $ 即\\mu(x)\\mathrm dy-\\mu(x)f(x,y)\\mathrm dx=0为恰当方程 $\n",
    "\n",
    "#### $ 即\\frac{\\partial \\mu(x)}{\\partial x}=-\\frac{\\partial (\\mu (x)f(x,y))}{\\partial y}=-\\mu(x)\\frac{f(x,y)}{\\partial y} $\n",
    "\n",
    "#### $ \\frac{f(x,y)}{\\partial y}=-\\frac{1}{\\mu(x)}\\frac{\\partial \\mu(x)}{\\partial y} $\n",
    "\n",
    "#### $因为方程右端仅与x有关,设\\frac{1}{\\mu(x)}\\frac{\\partial \\mu(x)}{\\partial y}=P(x) $\n",
    "\n",
    "#### $所以 \\frac{f(x,y)}{\\partial y}=P(x) $\n",
    "\n",
    "#### $ 积分得f(x,y)=\\int P(x,y)\\mathrm dy+Q(x)=P(x)y+Q(x) $\n",
    "\n",
    "#### $即 \\mathrm dy-f(x,y)\\mathrm dx=\\mathrm dy-[P(x)y+Q(x)]\\mathrm dx=0 $\n",
    "\n",
    "#### $\\frac{\\mathrm dy}{\\mathrm dx}=P(x)y+Q(x) 为线性微分方程$"
   ]
  },
  {
   "cell_type": "markdown",
   "metadata": {},
   "source": [
    "## $8.求出伯努利微分方程的积分因子$\n",
    "\n",
    "#### $ 伯努利方程：\\frac{\\mathrm dy}{\\mathrm dx}=P(x)y+Q(x)y^n,y≠0 $\n",
    "\n",
    "#### $ 两边同乘以y^{-n},令z=y^{-n} ，得：$\n",
    "\n",
    "#### $\\frac{\\mathrm dz}{\\mathrm dy}=(1-n)y^{-n} $\n",
    "\n",
    "#### $ 即有：\\frac{\\mathrm dz}{\\mathrm dx}=(1-n)P(x)z+(1-n)Q(x) $\n",
    "\n",
    "#### $ 积分因子为：\\mu=e^{-\\int (1-n)P(x)\\mathrm dx} $\n",
    "\n",
    "#### $所以原方程有积分因子 \\mu=y^{-n} e^{-\\int (1-n)P(x)\\mathrm dx} $"
   ]
  },
  {
   "cell_type": "markdown",
   "metadata": {},
   "source": [
    "## $1.求下列方程：$"
   ]
  },
  {
   "cell_type": "markdown",
   "metadata": {},
   "source": [
    "#### $(1)x(y`)^3=1+y`；$\n",
    "#### $解：令y^=p=\\frac{\\mathrm dy}{\\mathrm dx} $\n",
    "\n",
    "#### $代入方程得：xp^3=1+p $\n",
    "\n",
    "#### $ 所以就有：x=\\frac{1+p}{p^3} $\n",
    "\n",
    "#### $ \\frac{\\mathrm dx}{\\mathrm dy}=\\frac{1}{p}=\\frac{p^3-3p^2(1+p)}{p^6}\\frac{\\mathrm dp}{\\mathrm dy}=\\frac{-3-2p}{p^4}\\frac{\\mathrm dp}{\\mathrm dy} $\n",
    "\n",
    "#### $ \\mathrm dy=\\frac{-3-2p}{p^3}\\mathrm dp $\n",
    "\n",
    "#### $两边积分，得: y=\\frac{3}{2p^2}+\\frac{2}{p}+c $\n",
    "\n",
    "#### $所以方程的通解为 \\begin{cases}\n",
    "           x=\\frac{1}{p^3}+\\frac{1}{p^2}\\\\\n",
    "           y=\\frac{3}{2p^2}+\\frac{2}{p}+c\n",
    "            \\end{cases} $"
   ]
  },
  {
   "cell_type": "markdown",
   "metadata": {},
   "source": [
    "### $（2）{y^{\\prime}}^3-x^3(1-y^{\\prime})=0 $\n",
    "\n",
    "#### $ 令:y^{\\prime}=p=tx $\n",
    "\n",
    "#### $ 则有：x=\\frac{1-t^3}{t} $\n",
    "\n",
    "##### $ p=1-t^3 $\n",
    "\n",
    "#### $ \\mathrm dy=tx\\mathrm dx=(1-t^3)\\frac{-2t^3-1}{t^2}\\mathrm dt=(-\\frac{1}{t^2}-t+2t^4)\\mathrm dt $\n",
    "\n",
    "#### $ 积分可得：y=\\frac{1}{t}-\\frac{1}{2}t^2+\\frac{2}{5}t^5+c $\n",
    "\n",
    "#### $所以通解为:\\begin{cases}\n",
    "           x=\\frac{1}{t}-t^2\\\\\n",
    "           y=\\frac{1}{t}-\\frac{1}{2}t^2+\\frac{2}{5}t^5+c\n",
    "            \\end{cases} $"
   ]
  },
  {
   "cell_type": "markdown",
   "metadata": {},
   "source": [
    "### $（4） y(1+{y^{\\prime}}^2)=2a $\n",
    "\n",
    "#### $ 令:y^{\\prime}=p $\n",
    "\n",
    "#### $ y=\\frac{2a}{1+p^2} $\n",
    "\n",
    "#### $ p=-\\frac{4app^{\\prime}}{(1+p^2)^2} $\n",
    "\n",
    "#### $ 即：p=0和\\mathrm dx=-\\frac{4a}{(1+p^2)^2}\\mathrm dp $\n",
    "\n",
    "#### $ 由p=0，得：y=2a $\n",
    "\n",
    "#### $ 两边积分可得：x=\\frac{-2ap}{1+p^2}-2a\\arctan p+c $\n",
    "\n",
    "#### $所以通解为:\\begin{cases}\n",
    "           x=\\frac{-2ap}{1+p^2}-2a\\arctan p+c\\\\\n",
    "           y=\\frac{2a}{1+p^2}\n",
    "            \\end{cases} $\n",
    "            \n",
    "#### $故： y=2a也为解 $"
   ]
  },
  {
   "cell_type": "markdown",
   "metadata": {},
   "source": [
    "### $（5）x^2+{y^{\\prime}}^2=1 $\n",
    "\n",
    "#### $ 令:y^{\\prime}=p=\\frac{\\mathrm dy}{\\mathrm dx} $\n",
    "\n",
    "#### $ x=\\pm \\sqrt{1-p^2} $\n",
    "\n",
    "#### $ \\frac{\\mathrm dx}{\\mathrm dy}=\\frac{1}{p}=\\frac{\\mp p}{\\sqrt{1-p^2}}\\frac{\\mathrm dp}{\\mathrm dy} $\n",
    "\n",
    "#### $ \\mathrm dy=\\frac{\\mp p^2}{\\sqrt{1-p^2}}\\mathrm dp $\n",
    "\n",
    "#### $所以通解为: \\begin{cases}\n",
    "           x=\\pm \\sqrt{1-p^2}\\\\\n",
    "           y=\\pm \\frac{p}{2}\\sqrt{1-p^2}\\mp \\frac{1}{2}\\arcsin p+c\n",
    "            \\end{cases} $"
   ]
  },
  {
   "cell_type": "markdown",
   "metadata": {},
   "source": [
    "### $（6）y^2(y^{\\prime}-1)=(2-y^{\\prime})^2 $\n",
    "\n",
    "#### $ 令：2-y^{\\prime}=yt $\n",
    "\n",
    "#### $ y=\\frac{1-t^2}{t} $\n",
    "\n",
    "#### $ p=y^{\\prime}=2-ty=1+t^2 $\n",
    "\n",
    "#### $ \\frac{-t^2-1}{t^2}\\mathrm dt=(1+t^2)\\mathrm dx $\n",
    "\n",
    "#### $ \\mathrm dx=-\\frac{1}{t^2}\\mathrm dt $\n",
    "\n",
    "#### $ x=\\frac{1}{t}+c $\n",
    "\n",
    "#### $所以通解为: \\begin{cases}\n",
    "           x=\\frac{1}{t}+c\\\\\n",
    "           y=\\frac{1}{t}-t\n",
    "            \\end{cases} $\n",
    "            \n",
    "#### $ 消去t可得：y=x-c-\\frac{1}{x-c} $"
   ]
  },
  {
   "cell_type": "markdown",
   "metadata": {},
   "source": [
    "### $(3)y={y^{\\prime}}^2e^{y^{\\prime}}$"
   ]
  },
  {
   "cell_type": "markdown",
   "metadata": {},
   "source": [
    "#### $令：y`=p,则：y=p^2e^p$\n",
    "#### $p=(2p+p^2)e^p\\frac{\\mathrm {d}p}{\\mathrm {d}x}，或者d(x)=(p+2)e^pd(p)$\n",
    "#### $两边积分可得：x=(p+1)e^p+c$\n",
    "#### $所以方程的通解为：\\begin{cases}\n",
    "                 x=(p+1)e^p+c\\\\\n",
    "                 y=p^2e^p\n",
    "                 \\end{cases}$"
   ]
  },
  {
   "cell_type": "markdown",
   "metadata": {},
   "source": [
    "#### $令：y^{\\prime}=tant(t)$\n",
    "#### $则原方程乐化为：y=2acos^2(t)$\n",
    "#### $所以就有：tan(t)=-2asin(2t)\\frac{\\mathrm {d}t}{\\mathrm {d}x},或者，d(x)=-4acos^2(t)d(t)$\n",
    "#### $两边积分可得：x=-a(2t+sin(2t)+c)$\n",
    "#### $所以方程的通解为：\\begin{cases}\n",
    "                 x=-asin(2t+sin(2t)+c)\\\\\n",
    "                  y=2acos^2(t)\n",
    "                 \\end{cases}$"
   ]
  },
  {
   "cell_type": "markdown",
   "metadata": {
    "collapsed": true
   },
   "source": [
    "# <font color='red'>A 28/9"
   ]
  },
  {
   "cell_type": "code",
   "execution_count": null,
   "metadata": {
    "collapsed": true
   },
   "outputs": [],
   "source": []
  }
 ],
 "metadata": {
  "kernelspec": {
   "display_name": "SageMath 7.3",
   "language": "",
   "name": "sagemath"
  },
  "language_info": {
   "codemirror_mode": {
    "name": "ipython",
    "version": 2
   },
   "file_extension": ".py",
   "mimetype": "text/x-python",
   "name": "python",
   "nbconvert_exporter": "python",
   "pygments_lexer": "ipython2",
   "version": "2.7.10"
  }
 },
 "nbformat": 4,
 "nbformat_minor": 0
}
