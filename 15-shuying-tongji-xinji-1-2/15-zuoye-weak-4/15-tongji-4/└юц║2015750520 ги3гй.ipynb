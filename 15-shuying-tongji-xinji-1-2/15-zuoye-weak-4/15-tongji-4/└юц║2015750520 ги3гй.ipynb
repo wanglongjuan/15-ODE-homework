{
 "cells": [
  {
   "cell_type": "markdown",
   "metadata": {},
   "source": [
    "#  $$第三次作业$$"
   ]
  },
  {
   "cell_type": "markdown",
   "metadata": {},
   "source": [
    "## 2.求下列方程的解"
   ]
  },
  {
   "cell_type": "markdown",
   "metadata": {},
   "source": [
    "#### (8)$(x+2y)\\mathrm dx+x\\mathrm dy=0$"
   ]
  },
  {
   "cell_type": "markdown",
   "metadata": {},
   "source": [
    "#### 解;"
   ]
  },
  {
   "cell_type": "markdown",
   "metadata": {},
   "source": [
    "#### $原来的方程可以化为$ $$2y\\mathrm dx+x\\mathrm dy=- x\\mathrm dx$$"
   ]
  },
  {
   "cell_type": "markdown",
   "metadata": {},
   "source": [
    "#### $由右边只与x有关，猜测x为其一个积分因子，带入得$ $$2yx\\mathrm dx+x^2\\mathrm dy=-x^2\\mathrm dx$$\n",
    "#### $即$ $$\\mathrm d(yx^2)=-\\mathrm d(\\frac{1}{3}x^3)$$"
   ]
  },
  {
   "cell_type": "markdown",
   "metadata": {},
   "source": [
    "#### $即原来方程的解为$ $$yx^2 +\\frac{1}{3}x^3=c$$"
   ]
  },
  {
   "cell_type": "markdown",
   "metadata": {},
   "source": [
    "#### $ (9)[x\\cos(x+y)+\\sin(x+y)]\\mathrm dx+x\\cos(x+y)\\mathrm dy=0$"
   ]
  },
  {
   "cell_type": "markdown",
   "metadata": {},
   "source": [
    "#### 解："
   ]
  },
  {
   "cell_type": "markdown",
   "metadata": {},
   "source": [
    "#### $设$ $$M(x,y)=x\\cos(x+y)+\\sin(x+y),  N(x,y)=x\\cos(x+y)$$"
   ]
  },
  {
   "cell_type": "markdown",
   "metadata": {},
   "source": [
    "#### $易得$ $$\\frac{\\partial M}{\\partial y}=\\frac{\\partial N}{\\partial x}=\\cos(x+y)-x\\sin(x+y)$$\n",
    "####  $即原方程为恰当方程$"
   ]
  },
  {
   "cell_type": "markdown",
   "metadata": {},
   "source": [
    "#### $又，由原方程可化为$     $$ \\mathrm d (x \\sin(x+y))==0$$\n",
    "#### $知，所求方程的通解为$  $$x \\sin(x+y)=c$$"
   ]
  },
  {
   "cell_type": "markdown",
   "metadata": {},
   "source": [
    "#### (10) $(y\\cos x-x\\sin x)\\mathrm dx+（y\\sin x +x\\cos x）\\mathrm dy=0$"
   ]
  },
  {
   "cell_type": "markdown",
   "metadata": {},
   "source": [
    "#### 解："
   ]
  },
  {
   "cell_type": "markdown",
   "metadata": {},
   "source": [
    "#### $令$ $$M(x,y)=y\\cos x-x\\sin x,N(x,y)=y\\sin x+x|cos x$$\n",
    "#### $由$ $$\\frac{\\partial M}{\\partial y}= \\cos  x $$ $$\\frac{\\partial N}{\\partial x}=y\\cos x+\\cos x-x\\sin x$$\n",
    "#### $可知原方程不是恰当的$"
   ]
  },
  {
   "cell_type": "markdown",
   "metadata": {},
   "source": [
    "#### $由$ $$-\\frac{\\frac{\\partial M}{\\partial y}-\\frac{\\partial N}{\\partial x}}{M}=1$$ \n",
    "####  $知，方程有只与y有关的积分因子$\n",
    "#### $$ \\mu =e^{\\int \\mathrm dy}=e^y$$"
   ]
  },
  {
   "cell_type": "markdown",
   "metadata": {},
   "source": [
    "#### $将积分因子\\mu 乘入原方程两端， 得$ $$e^y（y\\cos x-x\\sin x）\\mathrm dx+e^y（y\\sin x+x\\cos x）\\mathrm dy=0$$"
   ]
  },
  {
   "cell_type": "markdown",
   "metadata": {},
   "source": [
    "#### $可得$ $$ \\mathrm d[(y-1)e^y\\cos x+ye^y\\sin x]=0$$"
   ]
  },
  {
   "cell_type": "markdown",
   "metadata": {},
   "source": [
    "#### $故，所求通解为$ $$ (y-1)e^y\\cos x+ye^y\\sin x=c$$"
   ]
  },
  {
   "cell_type": "markdown",
   "metadata": {},
   "source": [
    "#### (11)$x(4y\\mathrm dx+2x\\mathrm dy)+y^3(3y\\mathrm dx+5x\\mathrm dy)=0$"
   ]
  },
  {
   "cell_type": "markdown",
   "metadata": {},
   "source": [
    "#### 解："
   ]
  },
  {
   "cell_type": "markdown",
   "metadata": {},
   "source": [
    "#### $易知$ $$x(4y\\mathrm dx+2x\\mathrm dy)=\\mathrm d(x^2y)$$"
   ]
  },
  {
   "cell_type": "markdown",
   "metadata": {},
   "source": [
    "#### $对于方程 y^3(3y\\mathrm dx+5x\\mathrm dy)=0$ $令M(x,y)=3y^4,N(x,y)=5xy^3$ $则有$ $$\\frac{\\partial M}{\\partial y}=12y^3,N(x,y)=\\frac{\\partial N}{\\partial y}=5y^3$$"
   ]
  },
  {
   "cell_type": "markdown",
   "metadata": {},
   "source": [
    "#### $由$ $$ \\frac{\\frac{\\partial M}{\\partial y}-\\frac{\\partial N}{\\partial x}}{M}=\\frac{7}{5x}$$"
   ]
  },
  {
   "cell_type": "markdown",
   "metadata": {},
   "source": [
    "#### $有积分因子$ $$\\mu=e^{\\int \\frac{7}{5x} \\mathrm dx}=x^{\\frac{7}{5}}$$"
   ]
  },
  {
   "cell_type": "markdown",
   "metadata": {},
   "source": [
    "#### $得通解为$ $$8x^2y+5x^{\\frac{12}{5}}y^4=c$$"
   ]
  },
  {
   "cell_type": "markdown",
   "metadata": {},
   "source": [
    "#### $将\\mu乘如方程 y^3(3y\\mathrm dx+5x\\mathrm dy)=0$\n",
    "#### $得$ $$3y^4x^{\\frac{7}{5}}\\mathrm dx+5x^\\frac{12}{5}y^3=0$$\n",
    "#### $即$ $$\\mathrm d(\\frac{5}{4}x^{\\frac{12}{5}}y^4)=0$$"
   ]
  },
  {
   "cell_type": "markdown",
   "metadata": {},
   "source": [
    "# <font color='red'>不正确？？"
   ]
  },
  {
   "cell_type": "markdown",
   "metadata": {},
   "source": [
    "## 4.设$f(x,y)$及$\\frac{\\partial f}{\\partial y}$连续，试证方程$\\mathrm dy-f(x,y)\\mathrm dx=0$为线性微分方程的充要条件是它有仅依赖于x的积分因子"
   ]
  },
  {
   "cell_type": "markdown",
   "metadata": {},
   "source": [
    "#### 证明："
   ]
  },
  {
   "cell_type": "markdown",
   "metadata": {},
   "source": [
    "#### (1)充分性："
   ]
  },
  {
   "cell_type": "markdown",
   "metadata": {},
   "source": [
    "#### 假设有仅依赖于x的积分因子$\\mu=g(x)$,则有 $$\\frac{\\frac{\\partial M}{\\partial y}-\\frac{\\partial N}{\\partial y}}{N}=\\mu=g(x)$$"
   ]
  },
  {
   "cell_type": "markdown",
   "metadata": {},
   "source": [
    "#### 由$$\\frac{\\partial M}{\\partial y}=-\\frac{\\partial f}{\\partial y},\\frac{\\partial N}{\\partial y}=0$$  $$N=1$$"
   ]
  },
  {
   "cell_type": "markdown",
   "metadata": {},
   "source": [
    "#### 知 $$\\frac{\\partial f}{\\partial y}=-\\mu=-g(x)$$"
   ]
  },
  {
   "cell_type": "markdown",
   "metadata": {},
   "source": [
    "#### 两边积分得 $$f(x,y)=-g(x)y+m(x)$$\n",
    "#### 其中$m(x)$是关于$x$的可微函数，故原方程可以写成$$\\frac{\\mathrm dy}{\\mathrm dx}=-g(x)y+m(x)$$"
   ]
  },
  {
   "cell_type": "markdown",
   "metadata": {},
   "source": [
    "#### (2)必要性："
   ]
  },
  {
   "cell_type": "markdown",
   "metadata": {},
   "source": [
    "#### 假设原方程为线性微分方程，则存在函数$n(x),l(x)$使得 $$f(x,y)=y n(x)+l(x)$$"
   ]
  },
  {
   "cell_type": "markdown",
   "metadata": {},
   "source": [
    "####  则有$M(x,y)=-f(x,y)=-yn(x)-l(x),N=1$\n",
    "####  即有$$\\frac{\\frac{\\partial M}{\\partial y}-\\frac{\\partial N}{\\partial x}}{N}=-n(x)$$"
   ]
  },
  {
   "cell_type": "markdown",
   "metadata": {},
   "source": [
    "#### 所以方程有积分因子$$\\mu=e^{\\int -n(x) \\mathrm dx}$$\n",
    "#### 即证"
   ]
  },
  {
   "cell_type": "markdown",
   "metadata": {},
   "source": [
    "## 8.求出伯鲁克利微分方程的积分因子"
   ]
  },
  {
   "cell_type": "markdown",
   "metadata": {},
   "source": [
    "#### 解："
   ]
  },
  {
   "cell_type": "markdown",
   "metadata": {},
   "source": [
    "####  伯鲁克利方程为 $$\\frac{\\mathrm dy}{\\mathrm dx}=p(x)y+q(x)y^n$$"
   ]
  },
  {
   "cell_type": "markdown",
   "metadata": {},
   "source": [
    "#### 转化为 $$\\mathrm dy-(p(x)y+q(x)y^n)\\mathrm dx=0$$"
   ]
  },
  {
   "cell_type": "markdown",
   "metadata": {},
   "source": [
    "#### 令方程两边同时乘以$y^{-n}$ 得 $$y^{-n}\\mathrm dy-(p(x)y^{1-n}+q(x))\\mathrm dx=0$$"
   ]
  },
  {
   "cell_type": "markdown",
   "metadata": {},
   "source": [
    "#### 即 $$\\mathrm d(y^{1-n})-(1-n)p(x)y^{1-n}\\mathrm dx-(1-n)q(x)\\mathrm dx=0$$"
   ]
  },
  {
   "cell_type": "markdown",
   "metadata": {},
   "source": [
    "#### 对两边乘以$e^{-(1-n)\\int p(x)\\mathrm dy}$得  $$e^{-(1-n) \\int p(x) \\mathrm dy}[\\mathrm d(y^{1-n})-(1-n)p(x)y^{1-n}\\mathrm dx]-e^{-(1-n)\\int p(x)\\mathrm dy}(1-n)q(x)\\mathrm dx=0$$"
   ]
  },
  {
   "cell_type": "markdown",
   "metadata": {},
   "source": [
    "#### 即 $$\\mathrm[y^{1-n}e^{-(1-n)\\int p(x) \\mathrm dx}]-\\mathrm d[\\int (1-n)q(x)e^{-(1-n)\\int p(x)\\mathrm dx}(1-n)q(x)\\mathrm dx]$$"
   ]
  },
  {
   "cell_type": "markdown",
   "metadata": {},
   "source": [
    "#### 这是全微分方程，故而所求的积分因子是   \n",
    " ####  $$ \\mu=y^{-n}e^{(n-1)\\int p(x) \\mathrm dx}$$"
   ]
  },
  {
   "cell_type": "markdown",
   "metadata": {},
   "source": [
    "## 求解下列方程："
   ]
  },
  {
   "cell_type": "markdown",
   "metadata": {},
   "source": [
    "#### （1）$xy'^3=1+y^2$"
   ]
  },
  {
   "cell_type": "markdown",
   "metadata": {},
   "source": [
    "#### 解："
   ]
  },
  {
   "cell_type": "markdown",
   "metadata": {},
   "source": [
    "#### 由原式可得 $$x=\\frac{1+y^2}{y'^2}......(1)$$\n",
    "#### 令$$\\frac{\\partial dy}{\\partial dx}=p,$$ $代入(1)式，得到$ $$x=\\frac{1}{p^3}+\\frac{1}{p^2}\\neq0$$"
   ]
  },
  {
   "cell_type": "markdown",
   "metadata": {},
   "source": [
    "#### 对两边求积分，可得 $$y=\\frac{3}{2p^2}+\\frac{2}{p}+c$$"
   ]
  },
  {
   "cell_type": "markdown",
   "metadata": {},
   "source": [
    "#### 则，方程的解为 $$\\begin {cases}\n",
    "x=\\frac{1}{p^3}+\\frac{1}{p^2},& \\quad \\text {p}\\neq \\text {0} \\\\y=\\frac{1}{2p^2}+{1}{p}+c\\\\ \\end{cases}$$"
   ]
  },
  {
   "cell_type": "markdown",
   "metadata": {},
   "source": [
    "#### (2)$y'^3-x^3(1-y')=0$"
   ]
  },
  {
   "cell_type": "markdown",
   "metadata": {},
   "source": [
    "#### 解："
   ]
  },
  {
   "cell_type": "markdown",
   "metadata": {},
   "source": [
    "#### 令$y'=tx$,则原式可化为 $$x^3(t^3)-x^3(1-xt)=0$$\n",
    "#### 可得 $$x=\\frac{1}{t}-t^2$$"
   ]
  },
  {
   "cell_type": "markdown",
   "metadata": {},
   "source": [
    "#### 对两边关于$y$求导得 $$\\frac{1}{1-t^3}=(\\frac{-1}{t^2}-2t)*\\frac{\\mathrm dt}{\\mathrm dy}$$\n",
    "#### 即 $$\\mathrm dy=[(1-t^3)(-\\frac{1}{t^2}-2)]\\mathrm dt$$"
   ]
  },
  {
   "cell_type": "markdown",
   "metadata": {},
   "source": [
    "#### 两边积分得 $$y=-\\frac{1}{2}t^2+\\frac{2}{5}t^5+\\frac{1}{t}+c$$"
   ]
  },
  {
   "cell_type": "markdown",
   "metadata": {},
   "source": [
    "#### 所以方程的解是 $$\\begin {cases}\n",
    "x=\\frac{1}{t}-t^2 \\\\y=-\\frac{1}{2}t^2+\\frac{2}{5}t^5+\\frac{1}{t}+c \\\\ \\end{cases} $$"
   ]
  },
  {
   "cell_type": "markdown",
   "metadata": {},
   "source": [
    "#### (3) $y=y'^2e^{y'}$"
   ]
  },
  {
   "cell_type": "markdown",
   "metadata": {},
   "source": [
    "#### 解"
   ]
  },
  {
   "cell_type": "markdown",
   "metadata": {},
   "source": [
    "#### 令y'=p则有 $$y=p^2e^p$$"
   ]
  },
  {
   "cell_type": "markdown",
   "metadata": {},
   "source": [
    "#### 对两边关于x求导 $$p=(2p+p^2)e^p\\frac{\\mathrm dp}{\\mathrm dx}$$"
   ]
  },
  {
   "cell_type": "markdown",
   "metadata": {},
   "source": [
    "#### 两边积分得 $$x=(p+1)e^p+c$$"
   ]
  },
  {
   "cell_type": "markdown",
   "metadata": {},
   "source": [
    "#### 所以，方程的解为 $$ \\begin{cases}\n",
    "x=(p+1)e^p+c \\\\y=p^2e^p \\\\ \\end{cases} $$"
   ]
  },
  {
   "cell_type": "markdown",
   "metadata": {},
   "source": [
    "(4)$y(1+y'^2)=2a(a为常数)$"
   ]
  },
  {
   "cell_type": "markdown",
   "metadata": {},
   "source": [
    "#### 解："
   ]
  },
  {
   "cell_type": "markdown",
   "metadata": {},
   "source": [
    "#### 令$y'=\\tan t$,则原方程化为 $$y=2a\\cos^2t $$"
   ]
  },
  {
   "cell_type": "markdown",
   "metadata": {},
   "source": [
    "#### 两端对x求导，可得 $$\\tan t=-4a\\sin t\\cos t\\frac{\\mathrm dt}{\\mathrm dx}$$"
   ]
  },
  {
   "cell_type": "markdown",
   "metadata": {},
   "source": [
    "#### 两边积分得  $$x=-a(2t+\\sin 2t +c)$$"
   ]
  },
  {
   "cell_type": "markdown",
   "metadata": {},
   "source": [
    "#### 故而，通解为 $$\\begin{cases} \n",
    "x=-a(2t+\\sin 2t+c) \\\\ y=2a\\cos^2t \\\\ \\end{cases}$$"
   ]
  },
  {
   "cell_type": "markdown",
   "metadata": {},
   "source": [
    "#### (5)$x^2+y'^2=1$"
   ]
  },
  {
   "cell_type": "markdown",
   "metadata": {},
   "source": [
    "解："
   ]
  },
  {
   "cell_type": "markdown",
   "metadata": {},
   "source": [
    "#### 令$y'=\\cos t$ ,方程可以化为 $$x^2+\\cos^2t=1$$"
   ]
  },
  {
   "cell_type": "markdown",
   "metadata": {},
   "source": [
    "#### 可得$$x=\\sin t$$"
   ]
  },
  {
   "cell_type": "markdown",
   "metadata": {},
   "source": [
    "#### 两边关于y求导得 $$\\frac{1}{\\cos t}=\\cos t \\frac{\\mathrm dt}{\\mathrm dy}$$"
   ]
  },
  {
   "cell_type": "markdown",
   "metadata": {},
   "source": [
    "#### 两边积分得 $$y=\\frac{1}{2}t+\\frac{1}{4}\\sin 2t+c$$"
   ]
  },
  {
   "cell_type": "markdown",
   "metadata": {},
   "source": [
    "#### 所以，方程的通解为 $$\\begin{cases}\n",
    "x=\\sin t  \\\\ y=\\frac{1}{2}t+\\frac{1}{4}\\sin 2t+c \\\\ \\end{cases} $$"
   ]
  },
  {
   "cell_type": "markdown",
   "metadata": {},
   "source": [
    "#### (6)$y^2(y'-1)=(2-y')^2$"
   ]
  },
  {
   "cell_type": "markdown",
   "metadata": {},
   "source": [
    "#### 解："
   ]
  },
  {
   "cell_type": "markdown",
   "metadata": {},
   "source": [
    "#### 令$2-y'=yt$,原方程化作\n",
    "#### $$y^2(1-yt)=y^2t^2$$\n",
    "#### 由此得 $$y=\\frac{1}{t}-t$$"
   ]
  },
  {
   "cell_type": "markdown",
   "metadata": {},
   "source": [
    "####  且 $y'=1+t^2$\n",
    "#### 这是参数形式，因而 $$\\mathrm dx=\\frac{\\mathrm dy}{y'=\\frac{-1(\\mathrm (t^2}-1)dt}{1+t^2}=-\\frac{1}{t^2}\\mathrm dt$$"
   ]
  },
  {
   "cell_type": "markdown",
   "metadata": {},
   "source": [
    "#### 两边积分有 $$x=\\frac{1}{t}+c$$"
   ]
  },
  {
   "cell_type": "markdown",
   "metadata": {},
   "source": [
    "#### 故而，通解为 $$\\begin{cases}\n",
    " x=\\frac{1}{t}+c  \\\\ y=\\frac{1}{t}-t \\\\ \\end{cases} $$"
   ]
  },
  {
   "cell_type": "markdown",
   "metadata": {},
   "source": [
    "#### 当$y'=o$ 方程化为$y^2=-4 $ 即无解"
   ]
  },
  {
   "cell_type": "markdown",
   "metadata": {
    "collapsed": true
   },
   "source": [
    "# <font color='red'>A 28/9"
   ]
  },
  {
   "cell_type": "code",
   "execution_count": null,
   "metadata": {
    "collapsed": true
   },
   "outputs": [],
   "source": []
  }
 ],
 "metadata": {
  "kernelspec": {
   "display_name": "SageMath 7.3",
   "language": "",
   "name": "sagemath"
  },
  "language_info": {
   "codemirror_mode": {
    "name": "ipython",
    "version": 2
   },
   "file_extension": ".py",
   "mimetype": "text/x-python",
   "name": "python",
   "nbconvert_exporter": "python",
   "pygments_lexer": "ipython2",
   "version": "2.7.10"
  }
 },
 "nbformat": 4,
 "nbformat_minor": 0
}
