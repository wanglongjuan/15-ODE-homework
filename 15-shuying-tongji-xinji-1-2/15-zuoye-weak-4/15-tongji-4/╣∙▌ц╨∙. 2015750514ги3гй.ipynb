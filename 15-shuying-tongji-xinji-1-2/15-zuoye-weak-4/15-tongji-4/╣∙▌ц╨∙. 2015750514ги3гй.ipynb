{
 "cells": [
  {
   "cell_type": "markdown",
   "metadata": {},
   "source": [
    "#  姓名：郭萱轩     班级：统计班     学号：2015750514 # "
   ]
  },
  {
   "cell_type": "markdown",
   "metadata": {},
   "source": [
    "# 一、求下列方程组的解# "
   ]
  },
  {
   "cell_type": "markdown",
   "metadata": {},
   "source": [
    "## $(8)(x+2y)dx+dy=0$##\n",
    "解：$\\frac{\\partial M}{\\partial y}=2,\\frac{\\partial N}{\\partial x}=1$,\n",
    "\n",
    "$$\\frac{\\partial M}{\\partial y}≠\\frac{\\partial N}{\\partial x}$$\n",
    "\n",
    "\n",
    "所以它不是恰当微分方程。\n",
    "\n",
    "$\\frac{\\frac{\\partial M}{\\partial y}-\\frac{\\partial N}{\\partial x}}{N}=\\frac{1}{x}只与x有关$,\n",
    "\n",
    "得\n",
    "\n",
    "\n",
    "$$(x^2+2xy)dx+x^2dy=0$$\n",
    "\n",
    "\n",
    "得方程组的解为\n",
    "\n",
    "$$\\frac{1}{3}x^3+x^2y=c$$\n"
   ]
  },
  {
   "cell_type": "markdown",
   "metadata": {},
   "source": [
    "## $(9){x\\cos (x+y)+\\sin (x+y)}dx+x\\cos (x+y)dy=0$##\n",
    "解：$\\frac{\\partial M}{\\partial y}=\\cos(x+y)-x\\sin(x+y),\\frac{\\partial N}{\\partial x}=\\cos(x+y)-x\\sin(x+y)$\n",
    "\n",
    "\n",
    "所以为恰当微分方程。\n",
    "\n",
    "$\\frac{\\partial u}{\\partial x}={x\\cos(x+y)+\\sin(x+y)},\\frac{[\\partial u}{\\partial y}=x\\cos(x+y)$\n",
    "\n",
    "\n",
    "方程的解为\n",
    "\n",
    "$$x\\sin(x+y)=c$$"
   ]
  },
  {
   "cell_type": "markdown",
   "metadata": {},
   "source": [
    "## $(10)(y\\cos x-x\\sin x)dx+(y\\sin x+x\\cos x)dy=0$##\n",
    "解：$\\frac{\\partial M}{\\partial y}=cos x,\\frac{\\partial N}{\\partial x}=y\\cos x+\\cos x-x\\sin x$,\n",
    "\n",
    "$$\\frac{\\partial M}{\\partial y}≠\\frac{\\partial N}{\\partial x}$$\n",
    "\n",
    "\n",
    "所以不是恰当微分方程。\n",
    "\n",
    "$\\frac{\\frac{\\partial M}{\\partial y}-\\frac{\\partial N}{\\partial x}}{-M}=1$\n",
    "\n",
    "$${e^y(y\\cos x-x\\sin x)dx+e^yy\\sin x dy}+x\\cos x dy=0$$\n",
    "\n",
    "\n",
    "方程的解为\n",
    "\n",
    "$$e^y(y-1)\\sin x+xe^y\\cos x=c$$\n"
   ]
  },
  {
   "cell_type": "markdown",
   "metadata": {},
   "source": [
    "## $(11)x(4ydx+2xdy)+y^3(3ydx+5xdy)=0$##\n",
    "解：$\\frac{\\partial M}{\\partial y}≠\\frac{\\partial N}{\\partial x}$\n",
    "\n",
    "\n",
    "所以不是恰当微分方程。\n",
    "\n",
    "\n",
    "设积分因子的形式为$u=x^my^n$.\n",
    "\n",
    "得：\n",
    "\n",
    "$$(4x^{m+1}y{n+1}+3x^my^{n+4})dx+(2x^{m+2}y^n+5x^{m+1}y^{n+3}dy=0$$\n",
    "\n",
    "\n",
    "所以它是恰当微分方程的充要条件是\n",
    "\n",
    "$$4(n+1)x^{m+1}y^n+3(n+4)x^my^{n+3}=2(m+2)x^{m+1}y^n+5(m+1)x^my^{n+3}$$\n",
    "\n",
    "\n",
    "所以积分因子为\n",
    "\n",
    "$$u=x^2y$$\n",
    "\n",
    "\n",
    "所以方程的解为\n",
    "\n",
    "$$x^4y^2+x^3y^5=c,并且x=0,y=0也是方程的解。$$"
   ]
  },
  {
   "cell_type": "markdown",
   "metadata": {},
   "source": [
    "## 四、设$f(x,y)及\\frac{\\partial f}{\\partial y}$连续，试证方程$dy-f(x,y)=0$为线性微分方程的充要条件是它仅依赖x的积分因子.##\n",
    "\n",
    "## 解:\n",
    "\n",
    "充分性：设它有依赖于x的积分因子,\n",
    "\n",
    "$$\\frac{\\partial f}{\\partial y}=-∅（x）$$\n",
    "\n",
    "\n",
    "积分得\n",
    "\n",
    "$$f(x,y)=-∅(x)+h(x）$$\n",
    "\n",
    "\n",
    "原方程为\n",
    "\n",
    "$$\\frac{dy}{dx}=-∅(x)y+h(x)$$\n",
    "\n",
    "\n",
    "证明了$dy-f(x,y)dx=0$是线性可微方程.\n",
    "\n",
    "\n",
    "必要性：存在g(x)h(x)使得$f(x,y)=yg(x)+h(x)$,\n",
    "\n",
    "\n",
    "$$M=-yg(x)-h(x) ,N=1$$\n",
    "\n",
    "$\\frac{\\frac{\\partial M}{\\partial y}-\\frac{\\partial N}{\\partial y}}{N}=-g(x)$只与x有关\n",
    "\n",
    "结论成立"
   ]
  },
  {
   "cell_type": "markdown",
   "metadata": {},
   "source": [
    "# $八、求出伯努利方程的积分因子$ #\n",
    "\n",
    "\n",
    "## 解：\n",
    "\n",
    "\\frac{ dy}{dx}=P(x)y+Q(x)y^n$\n",
    "\n",
    "$改为dy-P(x)ydx-Q(x)y^ndx=0$\n",
    "\n",
    "$d(y^{1-n})-(1-n)P(x))y^{1-n}dx-(1-n)Q(x)dx=0$\n",
    "\n",
    "$所求积分因子为y^{-n}e^{-(1-n)\\int\\mathrm P(x)\\,\\mathrm{d}x}$"
   ]
  },
  {
   "cell_type": "markdown",
   "metadata": {},
   "source": [
    "# 一、求解下列方程.#\n",
    "\n",
    " (1)$xy’^3=1+y'$\n",
    "\n",
    " (2)$y’3-x^3(1-y’)=0$\n",
    "\n",
    " (3)$y=y’^2e^{y’}$\n",
    "\n",
    " (4)$y(1+y’^2)=1$\n",
    "\n",
    " (5)$x^2+y’^2=1$\n",
    " \n",
    " (6)$y^2(y’-1)=(2-y’)^2$"
   ]
  },
  {
   "cell_type": "markdown",
   "metadata": {},
   "source": [
    "1）解：令$\\frac{dy}{dx}=p$\n",
    "\n",
    "则方程为：\n",
    "\n",
    "$$y^2(p-1)=(2-p)^2,x=\\frac{1}{p^3}+\\frac{1}{p^2},\\\\\\frac{dy}{dx}=-\\frac{3}{p^3}-\\frac{2}{p^2},y=\\frac{3}{2p^2}+\\frac{2}{p}+c.$$\n",
    "\n",
    "方程的解为：\n",
    "\n",
    "$$\\begin{cases}x=\\frac{1}{p^3}+\\frac{1}{p^2}\\\\y=\\frac{3}{2p^2}+\\frac{2}{p}+c\\end{cases}$$"
   ]
  },
  {
   "cell_type": "markdown",
   "metadata": {},
   "source": [
    "2)解：令\n",
    "$$\\frac{dy}{dx}=p,$$\n",
    "\n",
    "则方程为\n",
    "\n",
    "$$p^3-x^3(1-p)=0$$\n",
    "\n",
    "令p=tx得\n",
    "\n",
    "$$x=\\frac{1}{t}-t^2$$\n",
    "\n",
    "$$p=1-t^3$$\n",
    "\n",
    "$y=\\frac{1}{t}-\\frac{1}{2}t^2+\\frac{2}{5}t^5+c$\n",
    "\n",
    "方程的解为\n",
    "\n",
    "$$\\begin{cases}x=\\frac{1}{t}-t^2\\\\y=\\frac{1}{t}-\\frac{1}{2}t^2+\\frac{2}{5}t^5+c\\end{cases}$$"
   ]
  },
  {
   "cell_type": "markdown",
   "metadata": {},
   "source": [
    "3）解：令\n",
    "\n",
    "$$\\frac{dy}{dx}=p$$\n",
    "\n",
    "则方程为\n",
    "\n",
    "$$y=p^2e^p$$\n",
    "\n",
    "对x求导积分得\n",
    "\n",
    "$$x=(p+1)e^p(2+p)$$\n",
    "\n",
    "方程的解为\n",
    "\n",
    "$$\\begin{cases}x=(p+1)e^p+\\\\y=p^2e^p\\end{cases}$$\n",
    "\n",
    "（另外y=0也是方程的解）"
   ]
  },
  {
   "cell_type": "markdown",
   "metadata": {},
   "source": [
    "4)解：令\n",
    "\n",
    "$$\\frac{dy}{dx}=p,$$\n",
    "\n",
    "则方程为\n",
    "\n",
    "$$y(1+p^2)=2a$$\n",
    "令\n",
    "\n",
    "$$p=\\tan t,$$\n",
    "\n",
    "$$y=2a\\cos^2t$$\n",
    "\n",
    "$$dx=\\frac{dy}{p}=-4a\\cos^2tdt$$\n",
    "\n",
    "方程的解为\n",
    "\n",
    "$$\\begin{cases}x=-a(2t+sin 2t)+c\\\\y=2a\\cos^2t\\end{cases}$$\n",
    "\n",
    "另外y=2a也是方程的解"
   ]
  },
  {
   "cell_type": "markdown",
   "metadata": {},
   "source": [
    "5)解：令\n",
    "\n",
    "$$\\frac{dy}{dx}=p$$\n",
    "\n",
    "方程为\n",
    "\n",
    "$$x^2p+p^2=1$$\n",
    "\n",
    "令\n",
    "\n",
    "$$p=cos t\\\\x=\\sin t$$\n",
    "\n",
    "又$dy=\\cos^2tdt$,\n",
    "\n",
    "积分$y=\\frac{t}{2}+\\frac{1}{4}\\sin 2t+c$\n",
    "\n",
    "方程的解为\n",
    "\n",
    "$$\\begin{cases}x=\\sin t\\\\y=\\frac{t}{2}+\\frac{1}{4}\\sin 2t+c\\end{cases}$$"
   ]
  },
  {
   "cell_type": "markdown",
   "metadata": {},
   "source": [
    "6)解：令\n",
    "$$\\frac{dy}{dx}=p$$\n",
    "\n",
    "则方程为\n",
    "\n",
    "$$y^2(p-1)=(2-p)^2$$\n",
    "令\n",
    "\n",
    "$$2-p=ty$$\n",
    "\n",
    "方程为\n",
    "\n",
    "$$y=\\frac{1}{t}-t,p=1+t^2$$\n",
    "\n",
    "$dx=\\frac{dy}{p}=-\\frac{1}{t^2}dt$\n",
    "\n",
    "得\n",
    "\n",
    "$$x=\\frac{1}{t}+c$$\n",
    "\n",
    "方程的解为\n",
    "\n",
    "$$\\begin{cases}x=\\frac{1}{t}+c\\\\y=\\frac{1}{t}-t\\end{cases}$$"
   ]
  },
  {
   "cell_type": "markdown",
   "metadata": {
    "collapsed": true
   },
   "source": [
    "# <font color='red'>A 28/9"
   ]
  },
  {
   "cell_type": "code",
   "execution_count": null,
   "metadata": {
    "collapsed": true
   },
   "outputs": [],
   "source": []
  }
 ],
 "metadata": {
  "kernelspec": {
   "display_name": "SageMath 7.3",
   "language": "",
   "name": "sagemath"
  },
  "language_info": {
   "codemirror_mode": {
    "name": "ipython",
    "version": 2
   },
   "file_extension": ".py",
   "mimetype": "text/x-python",
   "name": "python",
   "nbconvert_exporter": "python",
   "pygments_lexer": "ipython2",
   "version": "2.7.10"
  }
 },
 "nbformat": 4,
 "nbformat_minor": 0
}
