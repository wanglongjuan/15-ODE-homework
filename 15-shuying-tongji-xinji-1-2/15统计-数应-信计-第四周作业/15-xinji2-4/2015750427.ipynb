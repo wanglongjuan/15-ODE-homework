{
 "cells": [
  {
   "cell_type": "markdown",
   "metadata": {
    "collapsed": false
   },
   "source": [
    "1、求下列方程的解\n",
    "$（1）(x+2y)dx+xdy=0 \\\\（2）[xcos(x+y)+sin(x+y)]dx+xcos(x+y)dy=0 \\\\ （3）(ycosx-xsinx)dx+(ysinx+xcosx)dy=0 \\\\ （4）x(4ydx+2xdy)+y^3(3ydx+5xdy)=0$\n",
    "\n",
    "解：（1）$这里M=x+2y,N=x,\\frac{\\partial M}{\\partial y}\\neq\\frac{\\partial N}{\\partial x} \\\\ \\frac{\\frac{\\partial M}{\\partial y}-\\frac{\\partial N}{\\partial x}}{N}=\\frac{1}{x} \\ \\ 方程有积分因子 \\mu=e^{\\int \\frac{1}{x} {\\rm d}x}=x \\\\ 两边同乘以 \\ \\mu \\ 得：\\ 方程 \\ x(x+2y)dx+x^2dy=0 \\ 是恰当方程 \\\\ 故方程的通解为： \\  \\int (x^2+2xy) {\\rm d}x+\\int [x^2-\\frac{\\partial}{\\partial y}\\int (x^2+2xy) {\\rm d}x] {\\rm d}y=c \\\\ \\frac{x^3}{3}+x^3y=c \\\\ 即：\\ \\ x^3+3x^2y=c $\n",
    "\n",
    "（2）$这里M=xcos(x+y)+siin(x+y),N=xcos(x+y) \\\\ 因为 \\ \\frac{\\partial M}{\\partial y}=\\frac{\\partial N}{\\partial x}=cos(x+y)-xsin(x+y) \\\\ 故方程的通解为：\\\\ \\int [xcos(x+y)+xsin(x+y)] {\\rm d}x+\\int[xcos(x+y)-\\frac{\\partial}{\\partial y}\\int [xcos(x+y)+sin(x+y)] {\\rm d}x] {\\rm d}y=c \\\\ 即：\\ xsin(x+y)=c$\n",
    "\n",
    "（3）$这里M=ycosx-xsinx,N=ysinx+xcosx,\\frac{\\partial M}{\\partial y}\\neq\\frac{\\partial N}{\\partial x} \\\\  \\frac{\\frac{\\partial M}{\\partial y}-\\frac{\\partial N}{\\partial x}}{-M}=1 \\ 方程有积分因子：\\ \\mu=e^{\\int {\\rm d}y}=e^y \\\\ 两边乘以 \\ \\mu \\ 得： \\\\ 方程 \\ e^y(ycosx-xsinx)dx+e^y(ysinx+xcosx)dy=0 \\ 为恰当方程 \\\\ 故通解为： \\ \\int e^y(ycosx-xsinx) {\\rm d}x+\\int(N-\\frac{\\partial}{\\partial y}\\int e^y(ycosx-xsinx) {\\rm d}x) {\\rm d}y= c \\\\ 即： \\ e^ysinx(y-1)+e^ycosx=c $\n",
    "\n",
    "（4）$两边同乘以 \\ x^2y \\ 得：\\\\ (4x^3y^2dx+2xdy)+(3x^2y^5dx+5x^3ydy)=0 \\\\ d(x^4y^2)+d(x^3y^5)=0 \\\\ 故方程的通解为： \\ x^4y^2+x^3y^5=c$\n",
    "\n",
    "2、求解下列方程：（1）$xy'^3=1+y'；\\\\（2）y'^3-x^3(1-y')=0；\\\\（3）y=y'^2e^y； \\\\ （4）y(1+y'^2)=2a（a为常数）；\\\\（5）x^2+y'^2=1；\\\\（6）y^2(y'-1)=(2-y')^2.$\n",
    "\n",
    "解：（1）$\\frac{dx}{dy}=y'=p=\\frac{1}{t}, \\ 则 \\ x=(1+\\frac{1}{t})t^3=t^3+t^2,\\\\从而 \\ y=\\int p {\\rm d}x+c=\\int_t^1 {\\rm d}{t^3+2}+c=\\int (3t+2) {\\rm d}t+c=\\frac{3}{2}t^2+2t+c,\\\\于是求得方程参数形式的通解为 \\ \\ \\begin{cases} x=t^3+t^2,\\\\ y=\\frac{3}{2}t^2+2t+c \\end{cases}$\n",
    "\n",
    "（2）$令\\frac{dy}{dx}=y'=p=tx,\\ 则 \\ (tx)^3-x^3(1-tx)=0,\\ 即 \\ x=\\frac{t^3-1}{t}=t^2-\\frac{1}{t},\\\\从而 \\ \\ \\begin{align}y & =\\int p {\\rm d}x+c=\\int t(t^2-\\frac{1}{t}) {\\rm d}(t^2-\\frac{1}{t})+c \\\\ & =\\int (t^3-1)(2t+\\frac{1}{t^2}) {\\rm d}t+c \\\\ & =\\int (2t^4-t-\\frac{1}{t^2}) {\\rm d}t+c \\\\ & =\\frac{2}{5}t^5-\\frac{1}{2}t^2+\\frac{1}{t}+c \\end{align},\\\\ 于是求得方程参数形式的通解为 \\ \\begin{cases} x=t^2-\\frac{1}{t},\\\\ y=\\frac{2}{5}t^5-\\frac{1}{2}t^2+\\frac{1}{t}+c \\end{cases}$\n",
    "\n",
    "（3）$令 \\ \\frac{dy}{dx}=y'=p,\\ 则 \\ y=p^2e^p,\\\\ 从而 \\ \\begin{align}x & =\\int_p^1 {\\rm d}(p^2e^p)+c \\\\ & =\\int_p^1 (2pe^p+p^2e^p) {\\rm d}p+c \\\\ & =\\int (2e^p+pe^p) {\\rm d}p+c \\\\ & =(1+p)e^p+c \\end{align},\\\\ 于是求得方程参数形式的通解为 \\ \\begin{cases} x=(1+p)e^p+c,\\\\ y=y^2e^p \\end{cases}$\n",
    "\n",
    "（4）$令 \\ \\frac{dy}{dx}=y'=tg\\phi, \\ 则 \\ y=\\frac{2a}{1+tg^2\\phi} =\\frac{2a}{sec^2\\phi}=2acos^2\\phi,\\\\ 从而 \\ \\begin{align}x & =\\int_p^1 {\\rm d}y+c=\\int_{tg\\phi}^1 {\\rm d}(2acos^\\phi)+c \\\\ & =-4a\\int cos^2\\phi {\\rm d}\\phi+c \\\\ & =-4a\\int_2^{1+cos2\\phi}+c \\\\ & =-a(2\\phi+sin2\\phi)+c \\end{align},\\\\ 于是求得方程参数形式的通解为： \\ \\ \\begin{cases} x=-a(2\\phi+sin2\\phi)+c,\\\\ y=2acos^2\\phi \\end{cases}$\n",
    "\n",
    "（5）$令 \\ \\frac{dy}{dx}=y'=p=cost, \\ 则 \\ x=1-cos^2t=sint,\\\\ 从而 \\ \\begin{align}y & =\\int cost {\\rm d}(sint)+c \\\\ & =\\int cos^2t {\\rm d}t+c \\\\ & =\\int_2^{1+cos2t} {\\rm d}t+c \\\\ & =\\frac{1}{2}t+\\frac{1}{4}sin2t+c \\end{align},\\\\\n",
    "于是求得方程参数形式的通解为 \\ \\ \\begin{cases}x=sint,\\\\ y=\\frac{1}{2}t+\\frac{1}{4}sin2t+c \\end{cases}$\n",
    "\n",
    "（6）$令 \\ 2-y'=yt,\\ 则 \\ 1-y'=yt-1, \\ 得 \\ y=t+\\frac{1}{t},\\\\ dx=\\frac{dy}{y'}=\\frac{dy}{2-yt}=\\frac{d(t+\\frac{1}{t})}{2-t(t+\\frac{1}{t})}=\\frac{(1-t^{-2})dt}{1-t^2}=\\frac{t^2-1}{t^2(1-t^2)}dt=-\\frac{1}{t^2}dt,\\\\ 从而 \\ x=\\int (-\\frac{1}{t^2}) {\\rm d}t+c=\\frac{1}{t}+c,\\\\ 于是求得方程参数形式的通解为 \\ \\ \\begin{cases}x=\\frac{1}{t}+c,\\\\ y=t+\\frac{1}{t} \\end{cases},\\\\ 因此方程的通解为 \\ y=\\frac{1}{x-c}+x-c.$"
   ]
  },
  {
   "cell_type": "markdown",
   "metadata": {
    "collapsed": true
   },
   "source": [
    "# <font color='red'>A 26/9"
   ]
  },
  {
   "cell_type": "code",
   "execution_count": null,
   "metadata": {
    "collapsed": true
   },
   "outputs": [],
   "source": []
  }
 ],
 "metadata": {
  "kernelspec": {
   "display_name": "Python 2",
   "language": "python",
   "name": "python2"
  },
  "language_info": {
   "codemirror_mode": {
    "name": "ipython",
    "version": 2
   },
   "file_extension": ".py",
   "mimetype": "text/x-python",
   "name": "python",
   "nbconvert_exporter": "python",
   "pygments_lexer": "ipython2",
   "version": "2.7.10"
  }
 },
 "nbformat": 4,
 "nbformat_minor": 0
}
