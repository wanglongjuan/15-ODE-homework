{
 "cells": [
  {
   "cell_type": "markdown",
   "metadata": {
    "collapsed": true
   },
   "source": [
    "2016-9-20   P61 "
   ]
  },
  {
   "cell_type": "markdown",
   "metadata": {},
   "source": [
    "1.解下列的方程的解。"
   ]
  },
  {
   "cell_type": "markdown",
   "metadata": {},
   "source": [
    "（8）$(x+2y)dx+xdy=0$"
   ]
  },
  {
   "cell_type": "markdown",
   "metadata": {},
   "source": [
    "解：因为$M=x+2y, N=x$并且$\\frac{\\partial M}{\\partial y}=2  ,\\frac{\\partial N}{\\partial x}=1$"
   ]
  },
  {
   "cell_type": "markdown",
   "metadata": {},
   "source": [
    "又因为$\\frac{{\\frac{\\partial M}{\\partial y}-\\frac{\\partial N}{\\partial x}}}{\\mathrm N}=\\frac{\\mathrm 1}{\\mathrm x}$"
   ]
  },
  {
   "cell_type": "markdown",
   "metadata": {},
   "source": [
    "所以积分因子为：$$u=e^{\\int \\mathrm {\\frac { \\mathrm 1}{\\mathrm x}\\mathrm dx}}=x$$"
   ]
  },
  {
   "cell_type": "markdown",
   "metadata": {},
   "source": [
    "方程两边同乘$u=x$得：$$2xydx+x^2dy+x^2dx=0$$"
   ]
  },
  {
   "cell_type": "markdown",
   "metadata": {},
   "source": [
    "即$$d(x^2y+ {\\frac {\\mathrm 1}{\\mathrm 3}}x^3)=0$$"
   ]
  },
  {
   "cell_type": "markdown",
   "metadata": {},
   "source": [
    "所以方程的通解为：$$x^2y+ {\\frac {\\mathrm 1}{\\mathrm 3}}x^3=c$$"
   ]
  },
  {
   "cell_type": "markdown",
   "metadata": {},
   "source": [
    "(9)$[xcos(x+y)+sin(x+y)]dx+xcos(x+y)dy=0$"
   ]
  },
  {
   "cell_type": "markdown",
   "metadata": {},
   "source": [
    "解：因为$M=xcos(x+y)+sin(x+y),N=xcos(x+y)$并且$ \\frac{\\partial M}{\\partial y}=-xsin(x+y)+cos(x+y)$ ,$ \\frac{\\partial N}{\\partial x}=cos(x+y)-xsin(x+y)$即$ \\frac{\\partial M}{\\partial y}=\\frac{\\partial N}{\\partial x}$"
   ]
  },
  {
   "cell_type": "markdown",
   "metadata": {},
   "source": [
    "所以方程是恰当的，有积分因子。方程为：$$d(xsin(x+y))=0$$"
   ]
  },
  {
   "cell_type": "markdown",
   "metadata": {},
   "source": [
    "所以通解为：$$xsin(x+y)=c$$"
   ]
  },
  {
   "cell_type": "markdown",
   "metadata": {},
   "source": [
    "(10)$(ycosx-xsinx)dx+(ysinx+xcosx)dy=0$"
   ]
  },
  {
   "cell_type": "markdown",
   "metadata": {},
   "source": [
    "解：因为$M=ycosx-xsinx,N=ysinx+xcosx$并且$ \\frac{\\partial M}{\\partial y}=cosx, \\frac{\\partial N}{\\partial x}=ycosx+cosx-xsinx$"
   ]
  },
  {
   "cell_type": "markdown",
   "metadata": {},
   "source": [
    "所以方程不是恰当的，又$$\\frac{{\\frac{\\partial M}{\\partial y}-\\frac{\\partial N}{\\partial x}}}{\\mathrm -M}=1$$"
   ]
  },
  {
   "cell_type": "markdown",
   "metadata": {},
   "source": [
    "所以积分因子为$$u=e^{\\int \\mathrm 1 \\mathrm dy}=e^y$$"
   ]
  },
  {
   "cell_type": "markdown",
   "metadata": {},
   "source": [
    "原方程两边同乘$u=e^y$得$$d[(y-1)e^ysinx+e^yxcosx]=0$$"
   ]
  },
  {
   "cell_type": "markdown",
   "metadata": {},
   "source": [
    "所以通解为$$(y-1)e^ysinx+e^yxcosx=c$$"
   ]
  },
  {
   "cell_type": "markdown",
   "metadata": {},
   "source": [
    "(11)$x(4ydx+2xdy)+y^3(3ydx+5xdy)=0$"
   ]
  },
  {
   "cell_type": "markdown",
   "metadata": {},
   "source": [
    "因为$x(4ydx+2xdy)=d(2x^2y)$,所以只用对$y^3(3ydx+5xdy)=0$求积分因子。"
   ]
  },
  {
   "cell_type": "markdown",
   "metadata": {},
   "source": [
    "因为$M=3y^4,N=5xy^3$并且 $\\frac{\\partial M}{\\partial y}=12y^3,\\frac{\\partial N}{\\partial x}=5y^3$"
   ]
  },
  {
   "cell_type": "markdown",
   "metadata": {},
   "source": [
    "所以方程不是恰当的，又$$\\frac{{\\frac{\\partial M}{\\partial y}-\\frac{\\partial N}{\\partial x}}}{\\mathrm M}=\\frac{\\mathrm 7}{\\mathrm 3} \\frac{\\mathrm 1}{\\mathrm y}$$"
   ]
  },
  {
   "cell_type": "markdown",
   "metadata": {},
   "source": [
    "所以积分因子为$$u=e^{\\int \\frac{\\mathrm 7}{\\mathrm 3} \\frac{\\mathrm 1}{\\mathrm y} \\mathrm dy}=y^\\frac{\\mathrm 7}{\\mathrm 3}$$"
   ]
  },
  {
   "cell_type": "markdown",
   "metadata": {},
   "source": [
    "两边同乘$u=y^\\frac{\\mathrm 7}{\\mathrm 3}$得$$3y^{\\frac{\\mathrm 28}{\\mathrm 3}}dx+5xy^7dy=0$$"
   ]
  },
  {
   "cell_type": "markdown",
   "metadata": {},
   "source": [
    "即$$d(\\frac{\\mathrm 5}{\\mathrm 8}xy^8)=0$$"
   ]
  },
  {
   "cell_type": "markdown",
   "metadata": {},
   "source": [
    "所以通解为$$\\frac{\\mathrm 5}{\\mathrm 8}xy^8+2x^2y=c$$"
   ]
  },
  {
   "cell_type": "markdown",
   "metadata": {},
   "source": [
    "4.设$f(x,y)$及$\\frac{\\partial f}{\\partial y}$连续，试证明方程$dy-f(x,y)dx=0$为线性微分方程的充要条件是它有仅依赖于x的积分因子。"
   ]
  },
  {
   "cell_type": "markdown",
   "metadata": {},
   "source": [
    "证：必要性  "
   ]
  },
  {
   "cell_type": "markdown",
   "metadata": {},
   "source": [
    "设方程$dy-f(x,y)dx=0$是线性微分方程。即存在h(x),g(x)使$$f(x,y)=yh(x)+g(x)$$则$$M=-f(x,y)=-yh(x)-g(x),N=1$$即\n",
    "$$\\frac{{\\frac{\\partial M}{\\partial y}-\\frac{\\partial N}{\\partial x}}}{\\mathrm N}=-h(x)$$\n",
    "所以积分因子为$$u=e^{\\int \\mathrm -h(x) \\mathrm dx}$$\n",
    "得证\n",
    "$dy-f(x,y)dx=0$有仅依赖于x的积分因子。"
   ]
  },
  {
   "cell_type": "markdown",
   "metadata": {},
   "source": [
    "充分性"
   ]
  },
  {
   "cell_type": "markdown",
   "metadata": {},
   "source": [
    "因为积因分子仅依赖于x，所以存在g(x)使得$$\\frac{{\\frac{\\partial M}{\\partial y}-\\frac{\\partial N}{\\partial x}}}{\\mathrm N}=g(x)$$\n",
    "即$$\\frac {\\partial f}{\\partial y}=-g(x)$$\n",
    "对$\\frac {\\partial f}{\\partial y}=-g(x)$求积分得$$f(x,y)=-yg(x)+h(x),(h(x)是关于x的任意可微函数。)$$\n",
    "即$$ \\frac{\\mathrm dy}{\\mathrm dx}=-yg(x)+h(x)$$\n",
    "得证\n",
    "$dy-f(x,y)dx=0$是线性微分方程。"
   ]
  },
  {
   "cell_type": "markdown",
   "metadata": {},
   "source": [
    "8.求出伯努利微分方程的积分因子。"
   ]
  },
  {
   "cell_type": "markdown",
   "metadata": {},
   "source": [
    "解：方程为：$$\\frac{\\mathrm dy}{\\mathrm dx}=p(x)y+q(x)y^n,（n≠0,1）$$\n",
    "变式得：$$dy-p(x)ydx-q(x)y^ndx=0$$两边同乘$y^{-n}$得$$y^{-n}dy-p(x)y^{1-n}dx-q(x)dx=0$$\n",
    "所以$$M=-p(x)y^{1-n}-q(x),N=y^{-n}$$并且$$\\frac {\\partial M}{\\partial y}=-p(x)(1-n)y^{-n},\\frac {\\partial N}{\\partial x}=0$$\n",
    "又$$\\frac{{\\frac{\\partial M}{\\partial y}-\\frac{\\partial N}{\\partial x}}}{\\mathrm N}=-p(x)(1-n)$$\n",
    "所以积因分子为$$u=y^{-n}e^{-（1-n）\\int \\mathrm p（x） \\mathrm dx}$$"
   ]
  },
  {
   "cell_type": "markdown",
   "metadata": {
    "collapsed": true
   },
   "source": [
    "P70"
   ]
  },
  {
   "cell_type": "markdown",
   "metadata": {
    "collapsed": true
   },
   "source": [
    "1.求解下列方程："
   ]
  },
  {
   "cell_type": "markdown",
   "metadata": {
    "collapsed": true
   },
   "source": [
    "（1）$xy'^3=1+y'$"
   ]
  },
  {
   "cell_type": "markdown",
   "metadata": {
    "collapsed": true
   },
   "source": [
    "解：令$y'=p=\\frac{\\mathrm dy}{\\mathrm dx}$代入原方程得\n",
    "$$x=\\frac{\\mathrm 1}{\\mathrm p^3}+\\frac{\\mathrm 1}{\\mathrm p^2},(p≠0)$$\n",
    "对y求导得：$$\\frac{\\mathrm 1}{\\mathrm p}=（-\\frac{\\mathrm 3}{\\mathrm p^4}-\\frac{\\mathrm 2}{\\mathrm p^3}）\\frac{\\mathrm dp}{\\mathrm dy}$$\n",
    "积分之得：$$y=\\frac{\\mathrm 1}{\\mathrm p^2}+\\frac{\\mathrm 1}{\\mathrm p}+c$$\n",
    "所以方程的通解为：$$x=\\frac{\\mathrm 1}{\\mathrm p^3}+\\frac{\\mathrm 1}{\\mathrm p^2},(p≠0)$$\n",
    "$$y=\\frac{\\mathrm 1}{\\mathrm p^2}+\\frac{\\mathrm 1}{\\mathrm p}+c,(p≠0)$$"
   ]
  },
  {
   "cell_type": "markdown",
   "metadata": {
    "collapsed": true
   },
   "source": [
    "（2）$y'^3-x^3(1-y')=0$"
   ]
  },
  {
   "cell_type": "markdown",
   "metadata": {},
   "source": [
    "解：令$y'=xt$代入原方程得$$(xt)^3-x^3(1-xt)=0$$即$$x=\\frac{\\mathrm 1}{\\mathrm t}-t^2$$对y求导得：\n",
    "$$dy=[(1-t^3)(-\\frac{\\mathrm 1}{\\mathrm t^2}-2)]dt$$积分得\n",
    "$$y=-\\frac{\\mathrm 1}{\\mathrm 2}t^2+\\frac{\\mathrm 2}{\\mathrm 5}t^5+\\frac{\\mathrm 1}{\\mathrm t}+c$$所以方程的通解为：\n",
    "$$x=\\frac{\\mathrm 1}{\\mathrm t}-t^2$$\n",
    "$$y=-\\frac{\\mathrm 1}{\\mathrm 2}t^2+\\frac{\\mathrm 2}{\\mathrm 5}t^5+\\frac{\\mathrm 1}{\\mathrm t}+c$$"
   ]
  },
  {
   "cell_type": "markdown",
   "metadata": {},
   "source": [
    "(3)$y=y'^{2} e^{y'}$"
   ]
  },
  {
   "cell_type": "markdown",
   "metadata": {},
   "source": [
    "解：令$y’=p$代入原方程得$$y=p^{2}e^p$$对x求导得：\n",
    "$$p=2pe^{p}\\frac{\\mathrm dp}{\\mathrm dx}+p^{2}e^p\\frac{\\mathrm dp}{\\mathrm dx}$$\n",
    "积分得：$$x=(p+1)e^p$$所以方程的通解为：$$y=p^{2}e^p$$\n",
    "$$x=(p+1)e^p$$"
   ]
  },
  {
   "cell_type": "markdown",
   "metadata": {
    "collapsed": true
   },
   "source": [
    "（4）$y(1+y'^2)=2a,(a为常数)$"
   ]
  },
  {
   "cell_type": "markdown",
   "metadata": {
    "collapsed": true
   },
   "source": [
    "解：令有$y'=p$带入原方程得：$$y(1+p^2)=2a$$对x求导得\n",
    "$$dx=\\frac {\\mathrm -4a}{\\mathrm (1+p^2)^2}dp$$\n",
    "积分得$$x=-a(2arctanp+ \\frac{\\mathrm 2p}{\\mathrm (1+p^2)}+c)$$\n",
    "所以通解为：$$x=-a(2arctanp+ \\frac{\\mathrm 2p}{\\mathrm (1+p^2)}+c)$$\n",
    "$$y=\\frac{\\mathrm 2a}{\\mathrm (1+p^2)}$$"
   ]
  },
  {
   "cell_type": "markdown",
   "metadata": {
    "collapsed": true
   },
   "source": [
    "(5)$x^2+y'^2=1$"
   ]
  },
  {
   "cell_type": "markdown",
   "metadata": {
    "collapsed": true
   },
   "source": [
    "解：令$y'=cost$带入原方程得：$$x=sint$$\n",
    "对y求导得：$$\\frac{\\mathrm 1}{\\mathrm cost}=cost \\frac{\\mathrm dt}{\\mathrm dy}$$求积分得：\n",
    "$$y= \\frac{\\mathrm t}{\\mathrm 2}+ \\frac{\\mathrm 1}{\\mathrm 4}sin2t+c$$\n",
    "所以通解为：$$x=sint$$\n",
    "$$y= \\frac{\\mathrm t}{\\mathrm 2}+ \\frac{\\mathrm 1}{\\mathrm 4}sin2t+c$$"
   ]
  },
  {
   "cell_type": "markdown",
   "metadata": {},
   "source": [
    "（6）$y^2(y'-1)=（2-y'）^2$"
   ]
  },
  {
   "cell_type": "markdown",
   "metadata": {},
   "source": [
    "解：令$y'=2-yt$带入原方程得：$$y= \\frac{\\mathrm 1}{\\mathrm t}-t$$\n",
    "即$$y'=\\frac{\\mathrm dy}{\\mathrm dx}=1+t^2$$结合上式求积分得：$$x= \\frac{\\mathrm 1}{\\mathrm t}+c，（c为任意常数）$$\n",
    "所以通解为：$$x= \\frac{\\mathrm 1}{\\mathrm t}+c,   (c为任意常数）$$\n",
    "$$y= \\frac{\\mathrm 1}{\\mathrm t}-t$$"
   ]
  },
  {
   "cell_type": "markdown",
   "metadata": {
    "collapsed": true
   },
   "source": [
    "# <font color='red'>A 26/9"
   ]
  },
  {
   "cell_type": "code",
   "execution_count": null,
   "metadata": {
    "collapsed": true
   },
   "outputs": [],
   "source": []
  }
 ],
 "metadata": {
  "kernelspec": {
   "display_name": "SageMath 7.3",
   "language": "",
   "name": "sagemath"
  },
  "language_info": {
   "codemirror_mode": {
    "name": "ipython",
    "version": 2
   },
   "file_extension": ".py",
   "mimetype": "text/x-python",
   "name": "python",
   "nbconvert_exporter": "python",
   "pygments_lexer": "ipython2",
   "version": "2.7.10"
  }
 },
 "nbformat": 4,
 "nbformat_minor": 0
}
