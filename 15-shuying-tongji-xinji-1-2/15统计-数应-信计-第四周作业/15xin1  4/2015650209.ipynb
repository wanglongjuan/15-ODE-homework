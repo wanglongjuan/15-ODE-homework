{
 "cells": [
  {
   "cell_type": "markdown",
   "metadata": {},
   "source": [
    "# <font color='red'>缺（8）题"
   ]
  },
  {
   "cell_type": "markdown",
   "metadata": {},
   "source": [
    "p61.2.(9). (xcos(x+y)+sin(x+y))dx+xcos(x+y)dy=0"
   ]
  },
  {
   "cell_type": "markdown",
   "metadata": {},
   "source": [
    "$M=(xcos(x+y)+sin(x+y))$\n",
    "$N=xcos(x+y)$\n",
    "$\\frac{\\partial M}{\\partial y}=-xsin(x+y)+sin(x+y)$\n",
    "$\\frac{\\partial N}{\\partial x}=-xsin(x+y)+cos(x+y)\n",
    "所以方程式恰当的且方程可以改写为\n",
    "d(xsin(x+y))=0\n",
    "所以原方程解\n",
    "为xsin(x+y)=c$\n",
    "其中C为任意常数\n"
   ]
  },
  {
   "cell_type": "markdown",
   "metadata": {},
   "source": [
    "$(10).(ycosx-xsinx)dx+(ysinx+xcosx)dy=0$"
   ]
  },
  {
   "cell_type": "markdown",
   "metadata": {
    "collapsed": true
   },
   "source": [
    "由于$M=ycosx-xsinx,N=ysinx+xcosx$，\n",
    "$\\frac{\\partial M}{\\partial y}=cosx,$"
   ]
  },
  {
   "cell_type": "markdown",
   "metadata": {},
   "source": [
    "$\\frac{\\partial N}{\\partial x}=ycosx+cosx-xsinx$"
   ]
  },
  {
   "cell_type": "markdown",
   "metadata": {},
   "source": [
    "方程不恰当"
   ]
  },
  {
   "cell_type": "markdown",
   "metadata": {},
   "source": [
    "$所以需要给方程两边同时乘以e^y得到(ye^ycosxdx+ye^ysinxdy)+(e^yxcosxdy-e^yxsinxdx)=0所以有即e^y(y-1)sinx+e^yxcosx=c$"
   ]
  },
  {
   "cell_type": "markdown",
   "metadata": {},
   "source": [
    "$(11).由于x(4dydx+2xdy)+y^3(3dydx+5xdy)=0$\n",
    "$M=4xy+3y^4,N=2x^2+5xy^3$"
   ]
  },
  {
   "cell_type": "markdown",
   "metadata": {},
   "source": [
    "$\\frac{\\partial M}{\\partial y}=4x+12y^3,\\frac{\\partial N}{\\partial x}=4x+5y^3,$"
   ]
  },
  {
   "cell_type": "markdown",
   "metadata": {},
   "source": [
    "$该方程不恰当，方程两边同时乘以x^2y得到$"
   ]
  },
  {
   "cell_type": "markdown",
   "metadata": {},
   "source": [
    "$4x^3y^2dx+3x^2y^5+2x^4ydy+5x^3y^4dy=d(x^4y^2)+d(x^3y^5)=0所以方程通解x^4y^2+x^3y^5=0$"
   ]
  },
  {
   "cell_type": "markdown",
   "metadata": {},
   "source": [
    "$4.$"
   ]
  },
  {
   "cell_type": "markdown",
   "metadata": {},
   "source": [
    "$充分性\n",
    "设dy-f(x,y)dx=0,有仅依赖于X的基因分子下证该方程是线性的\n",
    "由于积分因子只依赖于X，所以存在某个.................$"
   ]
  },
  {
   "cell_type": "markdown",
   "metadata": {},
   "source": [
    "# <font color='red'>缺道4题"
   ]
  },
  {
   "cell_type": "markdown",
   "metadata": {},
   "source": [
    "$8.$"
   ]
  },
  {
   "cell_type": "markdown",
   "metadata": {},
   "source": [
    "$伯努利方程为\\frac{dy}{dx}=P(x)y+Q(x)y^n$"
   ]
  },
  {
   "cell_type": "markdown",
   "metadata": {},
   "source": [
    "$dy-P(x)y+Q(x)y^ndx=0,两边同时乘以y^-n得到y^-ndy-P(x)y^1-ndx-Q(x)dx=0$"
   ]
  },
  {
   "cell_type": "markdown",
   "metadata": {},
   "source": [
    "$乘以y^-n该方程积分因子为y^-ne^{-(1-n)\\int P(x)dx}$"
   ]
  },
  {
   "cell_type": "markdown",
   "metadata": {},
   "source": [
    "$p69.1(1)$"
   ]
  },
  {
   "cell_type": "markdown",
   "metadata": {},
   "source": [
    "$令y'=p,x=\\frac{1}{p^2}+\\frac{1}{p^3}所以\\frac{1}{p}=\\frac{dp}{dy}(\\frac{-3}{p^4}-\\frac{2}{p^3})所以y=\\frac{3}{2p^3}+\\frac{2}{p}+c$"
   ]
  },
  {
   "cell_type": "markdown",
   "metadata": {},
   "source": [
    "$(2)$"
   ]
  },
  {
   "cell_type": "markdown",
   "metadata": {},
   "source": [
    "$令y'=tx,方程变为（t^3-(1-tx)）x^3,x=\\frac{1}{t}-t^2$"
   ]
  },
  {
   "cell_type": "markdown",
   "metadata": {},
   "source": [
    "$dy=((1-t^3)(\\frac{1}{-t^2}-2t))dt,得到y=\\frac{-1}{2t^2}+\\frac{2t^2}{5}+\\frac{1}{t}+c所以通解为x=\\frac{1}{t},y=\\frac{-t^2}{2}+\\frac{2t^5}{5}+\\frac{1}{t}+c$"
   ]
  },
  {
   "cell_type": "markdown",
   "metadata": {},
   "source": [
    "# <font color='red'>上面抄下来抄错了"
   ]
  },
  {
   "cell_type": "markdown",
   "metadata": {},
   "source": [
    "$(3)$"
   ]
  },
  {
   "cell_type": "markdown",
   "metadata": {},
   "source": [
    "$令y'=p原方程为y=p^2e^p,两边对于x求导得到p=(2p+p^2)e^p\\frac{dp}{dx}$"
   ]
  },
  {
   "cell_type": "markdown",
   "metadata": {},
   "source": [
    "$x=(p+1)e^p+c$"
   ]
  },
  {
   "cell_type": "markdown",
   "metadata": {},
   "source": [
    "$(4)$"
   ]
  },
  {
   "cell_type": "markdown",
   "metadata": {},
   "source": [
    "$令y'=tant,原方程为y=2acost^2,两边求导得到tant=-2asin2t\\frac{dt}{dx},dx=-4acos^2tdt$"
   ]
  },
  {
   "cell_type": "markdown",
   "metadata": {},
   "source": [
    "$x=-2at-asin2t+c$"
   ]
  },
  {
   "cell_type": "markdown",
   "metadata": {},
   "source": [
    "# <font color='red'>写参数形式"
   ]
  },
  {
   "cell_type": "markdown",
   "metadata": {},
   "source": [
    "$(5)$"
   ]
  },
  {
   "cell_type": "markdown",
   "metadata": {},
   "source": [
    "$令y'=cost方程可化为x=sint,两边对y求导得到dy=cos^2tdt,积分得到y=\\frac{t}{2}+\\frac{1}{4}sin2t+c$"
   ]
  },
  {
   "cell_type": "markdown",
   "metadata": {},
   "source": [
    "$(6)$"
   ]
  },
  {
   "cell_type": "markdown",
   "metadata": {},
   "source": [
    "$令2-y'=ty,原方程化为y^2(1-ty),则原方程化为y^2(1-yt)=y^2t^2,所以有y=\\frac{1}{t}-t,y'=1+t^2,dx=\\frac{-1}{t^2}dt,所以x=\\frac{1}{t}+c$"
   ]
  },
  {
   "cell_type": "markdown",
   "metadata": {
    "collapsed": true
   },
   "source": [
    "# <font color='red'>B 26/9  下次作业把题目写着，把作业题目记清楚，该写参数形式就正常写，"
   ]
  },
  {
   "cell_type": "code",
   "execution_count": null,
   "metadata": {
    "collapsed": true
   },
   "outputs": [],
   "source": []
  }
 ],
 "metadata": {
  "kernelspec": {
   "display_name": "Python 2",
   "language": "python",
   "name": "python2"
  },
  "language_info": {
   "codemirror_mode": {
    "name": "ipython",
    "version": 2
   },
   "file_extension": ".py",
   "mimetype": "text/x-python",
   "name": "python",
   "nbconvert_exporter": "python",
   "pygments_lexer": "ipython2",
   "version": "2.7.10"
  }
 },
 "nbformat": 4,
 "nbformat_minor": 0
}
