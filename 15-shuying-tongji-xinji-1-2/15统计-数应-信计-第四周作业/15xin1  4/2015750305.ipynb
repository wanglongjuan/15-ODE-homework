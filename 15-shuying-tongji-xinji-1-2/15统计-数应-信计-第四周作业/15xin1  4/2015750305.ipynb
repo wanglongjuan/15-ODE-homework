{
 "cells": [
  {
   "cell_type": "markdown",
   "metadata": {},
   "source": [
    "$一 \\quad求下列方程的解：$"
   ]
  },
  {
   "cell_type": "markdown",
   "metadata": {},
   "source": [
    "$1\\quad(x+2y)dx+xdy=0$"
   ]
  },
  {
   "cell_type": "markdown",
   "metadata": {},
   "source": [
    "$解$"
   ]
  },
  {
   "cell_type": "markdown",
   "metadata": {},
   "source": [
    "$由M=x+2y,N=x,\\frac{\\partial M}{\\partial y}=2,\\frac{\\partial N}{\\partial x}=1$\n",
    "\n",
    "$从而方程不是恰当的$"
   ]
  },
  {
   "cell_type": "markdown",
   "metadata": {},
   "source": [
    "$又\\frac{\\frac{\\partial M}{\\partial y}-\\frac{\\partial N}{\\partial x}}N=\\frac1x$\n",
    "$所以方程有积分因子$\n",
    "\n",
    "$u=e^{\\int\\frac1x\\mathrm d(x)}=x$"
   ]
  },
  {
   "cell_type": "markdown",
   "metadata": {},
   "source": [
    "$两边同时乘u=x得$"
   ]
  },
  {
   "cell_type": "markdown",
   "metadata": {},
   "source": [
    "$2xydx+x^2dy+x^2dx=0$"
   ]
  },
  {
   "cell_type": "markdown",
   "metadata": {},
   "source": [
    "$即  d（x^2y+\\frac1 3x^3)=0$\n",
    "$故方程的通解为$\n",
    " $$x^3+3x^2y=c$$"
   ]
  },
  {
   "cell_type": "markdown",
   "metadata": {},
   "source": [
    "$2\\quad[xcos(x+y)+sin(x+y)]dx+xcos(x+y)dy=0$\n",
    "\n",
    "$解$"
   ]
  },
  {
   "cell_type": "markdown",
   "metadata": {},
   "source": [
    "$由M=xcos(x+y)+sin(x+y),N=xcos(x+y)$\n",
    "\n",
    "$\\frac{\\partial M}{\\partial y}=-xsin(x+y)+cos(x+y)$\n",
    "\n",
    "$\\frac{\\partial N}{\\partial x}=cos(x+y)-xsin(x+y)$"
   ]
  },
  {
   "cell_type": "markdown",
   "metadata": {},
   "source": [
    "$故方程是恰当的，改写成：$\n",
    "$d(xsin(x+y))=0$\n",
    "$于是方程的通解为$$$ xsin(x+y)=c$$"
   ]
  },
  {
   "cell_type": "markdown",
   "metadata": {
    "collapsed": true
   },
   "source": [
    "$3\\quad (ycosx-xsinx)dx+(ysinx+xcosx)dy=0$"
   ]
  },
  {
   "cell_type": "markdown",
   "metadata": {},
   "source": [
    "$解$"
   ]
  },
  {
   "cell_type": "markdown",
   "metadata": {},
   "source": [
    "$由M=ycos-xsinx,N=ysinx+xcosx$\n",
    "\n",
    "$\\frac{\\partial M}{\\partial y}=cosx,\\frac{\\partial N}{\\partial x}=ycosx+cosx-xsinx$\n",
    "\n",
    "$故方程不是恰当的$"
   ]
  },
  {
   "cell_type": "markdown",
   "metadata": {},
   "source": [
    "$又由于\\frac{\\frac{\\partial M}{\\partial y}-\\frac{\\partial N}{\\partial x}}{-M}=1$\n",
    "\n",
    "$所以方程有积分因子$"
   ]
  },
  {
   "cell_type": "markdown",
   "metadata": {},
   "source": [
    "$方程两边同乘以u=e^y得$\n",
    "\n",
    "$(ye^ycosxdx+ye^ysinxdy)+(e^yxcosxdy-e^yxsinxdx)=0$"
   ]
  },
  {
   "cell_type": "markdown",
   "metadata": {},
   "source": [
    "$即d[(y-1)e^ysinx+e^yxcosx]=0$\n",
    "\n",
    "$于是方程的通解为$\n",
    "\n",
    "$(y-1)sinx+xcosx=ce^{-y}$"
   ]
  },
  {
   "cell_type": "markdown",
   "metadata": {},
   "source": [
    "$4\\quad x(4ydx+2xdy)+y^3(3ydx+5xdy)=0$\n",
    "\n",
    "$解$"
   ]
  },
  {
   "cell_type": "markdown",
   "metadata": {},
   "source": [
    "$显然x(4ydx+2xdy）=d(2x^2y)$\n",
    "\n",
    "$对于方程y^3(3ydx+5xdy)=0,有$"
   ]
  },
  {
   "cell_type": "markdown",
   "metadata": {},
   "source": [
    "$M=3y^4,N=5xy^3,\\frac{\\partial M}{\\partial y}=12y^3,\\frac {\\partial N}{\\partial x}=5y^3$\n",
    "\n",
    "$因为\\frac{\\frac{\\partial M}{\\partial y}-\\frac{\\partial N}{\\partial x}}{5xy^3}=\\frac7 {5x}$\n",
    "$所以方程有积分因子$"
   ]
  },
  {
   "cell_type": "markdown",
   "metadata": {},
   "source": [
    "$u=e^{\\int\\frac7 {5x}dx}=x^{\\frac7 5}$"
   ]
  },
  {
   "cell_type": "markdown",
   "metadata": {},
   "source": [
    "$用u=x^{\\frac7 5}乘以方程y^3(3ydx+5xdy)=0两边得$\n",
    "\n",
    "$d({\\frac5 4} x^{\\frac{12}5} y^4)=0$"
   ]
  },
  {
   "cell_type": "markdown",
   "metadata": {},
   "source": [
    "得到原方程的通解为\n",
    "$$2x^2y+{\\frac5 4}x^{\\frac{12} 5}y^4=c$$"
   ]
  },
  {
   "cell_type": "markdown",
   "metadata": {},
   "source": [
    "# <font color='red'>结果？？"
   ]
  },
  {
   "cell_type": "markdown",
   "metadata": {},
   "source": [
    "$二\\quad设f(x,y)及\\frac{\\partial f}{\\partial y}连续，试证方程dy-f(x,y)dx=0为线性微分方程的充要条件是它有仅依赖于x的积分因子$ "
   ]
  },
  {
   "cell_type": "markdown",
   "metadata": {},
   "source": [
    "证明：充分性 设dy-f(x,y)dx=0有仅依赖于x的积分因子，将说明该方程是线性的\n"
   ]
  },
  {
   "cell_type": "markdown",
   "metadata": {},
   "source": [
    "由于积分因子只依赖于x，所以存在某个p(x)满足\n",
    "\n",
    "$\\frac{\\frac{\\partial M}{\\partial y}-\\frac{\\partial N}{\\partial x}}N=\\frac{-{\\frac{\\partial f}{\\partial y}}-0}1=p(x)$"
   ]
  },
  {
   "cell_type": "markdown",
   "metadata": {},
   "source": [
    "即$\\frac {\\partial f}{\\partial y}=-p(x)$"
   ]
  },
  {
   "cell_type": "markdown",
   "metadata": {},
   "source": [
    "对上式积分后得$f(x,y)=-p(x)y+h(x)$"
   ]
  },
  {
   "cell_type": "markdown",
   "metadata": {},
   "source": [
    "这里h（x)是关于x的任意可微函数，于是原方程可以写成"
   ]
  },
  {
   "cell_type": "markdown",
   "metadata": {},
   "source": [
    "$\\frac{dy} {dx}=-p(x)y+h(x)$\n",
    "\n",
    "$即证明了dy-f(x,y)dx=0是线性的$"
   ]
  },
  {
   "cell_type": "markdown",
   "metadata": {},
   "source": [
    "$必要性 设方程dy-f(x,y)dx=0是线性微分方程.即存在g(x),h(x)使得$\n",
    "\n",
    "$f(x,y)=yg(x)+h(x)$\n",
    "\n",
    "$于是有M=-f(x,y)=-yg(x)-h（x),N=1$"
   ]
  },
  {
   "cell_type": "markdown",
   "metadata": {
    "collapsed": true
   },
   "source": [
    "$\\frac{\\frac{\\partial M}{\\partial y}-\\frac{\\partial N}{\\partial x}}N=\\frac{-g(x)}1=-g(x)$\n",
    "\n",
    "$所以方程有积分因子$"
   ]
  },
  {
   "cell_type": "markdown",
   "metadata": {},
   "source": [
    "$u=e^{\\int-g(x)dx}$\n",
    "\n",
    "$即证方程有仅依赖于x的积分因子$"
   ]
  },
  {
   "cell_type": "markdown",
   "metadata": {},
   "source": [
    "$三\\quad求出伯努利微分方程的积分因子$"
   ]
  },
  {
   "cell_type": "markdown",
   "metadata": {},
   "source": [
    "解 伯努利微分方程为\n",
    "$\\frac {dy} {dx}=p(x)y+q(x)y^n,(n\\neq0,1)$\n",
    "\n",
    "$改写为 dy-p(x)ydx-q(x)y^ndx=0$\n",
    "\n",
    "$乘以y^{-n}得 y^{-n}dy-p(x)y^{1-n}dx-q(x)dx=0$"
   ]
  },
  {
   "cell_type": "markdown",
   "metadata": {},
   "source": [
    "$即d(y^{1-n})-(1-n)p(x)y^(1-n)dx-(1-n)q(x)dx=0$\n",
    "\n",
    "$再乘以e^{-(1-n)\\int p(x)dx}得$\n",
    "\n",
    "$e^{-(1-n)\\int p(x)dx}[d(y^{1-n})-(1-n)p(x)y^{1-n}dx]-e^{-(1-n)\\int p(x)dx}（1-n)q(x)dx=0$"
   ]
  },
  {
   "cell_type": "markdown",
   "metadata": {},
   "source": [
    "$即d[y^{1-n}e^{-(1-n)\\int p(x)dx}]-d[\\int (1-n)q(x)e^{-(1-n)\\int p(x)dx}dx]=0$\n",
    "\n",
    "$这是全微分方程，因此所求的积分因子是$\n",
    "$$u=y^{-n}e^{-(1-n)\\int p(x)dx}$$"
   ]
  },
  {
   "cell_type": "markdown",
   "metadata": {},
   "source": [
    "$四\\quad求解下列方程$\n",
    "\n",
    "$1\\quad x{y\\prime}^3=1+y\\prime$\n",
    "\n",
    "解  $令\\frac {dy} {dx}=y\\prime=\\frac 1 t,则$\n",
    "\n",
    "$x=t^3+t^2$\n",
    "\n",
    "$对y求导数，则有$$t=(3t^2+2t)\\frac {dt} {dy}$\n",
    "\n",
    "$或者dy=(3t+2)dt$"
   ]
  },
  {
   "cell_type": "markdown",
   "metadata": {},
   "source": [
    "$积分之，即有y=\\frac {3} {2}t^2+2t+c$\n",
    "\n",
    "$所以方程的通解为$\n",
    "$$x=t^3+t^2,$$\n",
    "$$y=\\frac 3 {2}t^2+2t+c.$$"
   ]
  },
  {
   "cell_type": "markdown",
   "metadata": {},
   "source": [
    "$2\\quad {y\\prime}^3-x^3（1-y\\prime)=0$\n",
    "\n",
    "解"
   ]
  },
  {
   "cell_type": "markdown",
   "metadata": {},
   "source": [
    "$令y\\prime=tx,则原方程化为$\n",
    "\n",
    "$x^3(t^3-1+tx)=o$\n",
    "\n",
    "$解出x得x=\\frac 1 t-t^2$"
   ]
  },
  {
   "cell_type": "markdown",
   "metadata": {},
   "source": [
    "两边对y求导得\n",
    "  $\\frac {1} {1-t^3}=(-\\frac {1} {t^2}-2t)\\frac {dt} {dy}$"
   ]
  },
  {
   "cell_type": "markdown",
   "metadata": {},
   "source": [
    "积分之得\n",
    "\n",
    "$y=-\\frac 1 {2}t^2+\\frac 2 {5}t^5+\\frac 1 t+c$"
   ]
  },
  {
   "cell_type": "markdown",
   "metadata": {},
   "source": [
    "于是方程的通解为\n",
    "$$x=\\frac 1 t-t^2$$\n",
    "$$y=-\\frac 1 {2}t^2+\\frac 2 {5}t^5+\\frac 1 t+c$$"
   ]
  },
  {
   "cell_type": "markdown",
   "metadata": {},
   "source": [
    "$3\\quad y={y\\prime}^2e^{y\\prime}$\n",
    "\n",
    "解"
   ]
  },
  {
   "cell_type": "markdown",
   "metadata": {},
   "source": [
    "令$y\\prime=p,则原方程化为$\n",
    "\n",
    "$y=p^2e^p$\n",
    "\n",
    "$对x求导数即得p=(2p+p^2)e^p\\frac {dp} {dx}$"
   ]
  },
  {
   "cell_type": "markdown",
   "metadata": {},
   "source": [
    "积分之即得\n",
    "\n",
    "$x=(p+1)e^p$\n",
    "\n",
    "所以方程的通解为\n",
    "$$x=(p+1)e^p$$\n",
    "$$y=p^2e^p$$"
   ]
  },
  {
   "cell_type": "markdown",
   "metadata": {},
   "source": [
    "$4\\quad y(1+{y\\prime}^2)=2a$\n",
    "\n",
    "解"
   ]
  },
  {
   "cell_type": "markdown",
   "metadata": {},
   "source": [
    "$y\\prime=tant,则原方程化为y=2a{cos^2t}$\n",
    "\n",
    "$两边对x求导数可得$\n",
    "\n",
    "$tant=-2asin2t \\frac {dt}{dx}$"
   ]
  },
  {
   "cell_type": "markdown",
   "metadata": {},
   "source": [
    "所以方程的通解为\n",
    "$$x=-a(2t+sin2t+c)$$\n",
    "$$y=2a{cos^2t}$$"
   ]
  },
  {
   "cell_type": "markdown",
   "metadata": {},
   "source": [
    "$5\\quad x^2+{y\\prime}^2=1$\n",
    "\n",
    "解"
   ]
  },
  {
   "cell_type": "markdown",
   "metadata": {},
   "source": [
    "$令y\\prime=cost,则原方程化为$\n",
    "\n",
    "$x^2+cos^2t=1$\n",
    "\n",
    "$解出x得x=sint$\n",
    "\n",
    "$对y求导数得\\frac 1 {cost}=cost\\frac {dt}{dy}$"
   ]
  },
  {
   "cell_type": "markdown",
   "metadata": {},
   "source": [
    "积分之得\n",
    "\n",
    "$y=\\frac t 2+\\frac 1 {4}sin2t+c$\n",
    "\n",
    "所以方程的通解为\n",
    "$$x=sint$$\n",
    "$$y=\\frac t 2+\\frac {sin2t}{4}+c$$"
   ]
  },
  {
   "cell_type": "markdown",
   "metadata": {},
   "source": [
    "$6\\quad y^2(y\\prime-1)=(2-y\\prime)^2$\n",
    "\n",
    "解"
   ]
  },
  {
   "cell_type": "markdown",
   "metadata": {},
   "source": [
    "$令2-y\\prime=yt原方程化为$\n",
    "\n",
    "$y^2(1-yt)=y^2t^2$\n",
    "\n",
    "$故得y=\\frac 1 t-t且y\\prime=1+t^2即为原微分方程的参数形式$"
   ]
  },
  {
   "cell_type": "markdown",
   "metadata": {},
   "source": [
    "$因此dx=\\frac {dy}{y\\prime}=\\frac {(-\\frac 1 t^2-1)dt}{1+t^2}=-\\frac 1 {t^2}dt$\n",
    "\n",
    "积分之可得$x=\\frac 1 t+c$\n",
    "\n",
    "$于是方程的参数形式的通解为$\n",
    "$$x=\\frac 1 t+c$$\n",
    "$$y=\\frac 1 t-t$$\n",
    "$此外当y\\prime=0时原方程变为-y^2=4,此时方程无解$"
   ]
  },
  {
   "cell_type": "markdown",
   "metadata": {
    "collapsed": true
   },
   "source": [
    "# <font color='red'>A 26/9"
   ]
  },
  {
   "cell_type": "code",
   "execution_count": null,
   "metadata": {
    "collapsed": true
   },
   "outputs": [],
   "source": []
  }
 ],
 "metadata": {
  "kernelspec": {
   "display_name": "Python 2",
   "language": "python",
   "name": "python2"
  },
  "language_info": {
   "codemirror_mode": {
    "name": "ipython",
    "version": 2
   },
   "file_extension": ".py",
   "mimetype": "text/x-python",
   "name": "python",
   "nbconvert_exporter": "python",
   "pygments_lexer": "ipython2",
   "version": "2.7.10"
  }
 },
 "nbformat": 4,
 "nbformat_minor": 0
}
