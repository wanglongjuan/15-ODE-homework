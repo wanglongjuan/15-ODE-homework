{
 "cells": [
  {
   "cell_type": "markdown",
   "metadata": {},
   "source": [
    "**2.求下列方程的解：**"
   ]
  },
  {
   "cell_type": "markdown",
   "metadata": {},
   "source": [
    "(8).$(x+2y)\\mathrm dx+x\\mathrm dy=0$"
   ]
  },
  {
   "cell_type": "markdown",
   "metadata": {},
   "source": [
    "解：$M=x+2y,N=x,\\frac{\\partial M}{\\partial y}\\neq\\frac{\\partial N}{\\partial x}$"
   ]
  },
  {
   "cell_type": "markdown",
   "metadata": {},
   "source": [
    "$\\frac{\\frac{\\partial M}{\\partial y}-\\frac{\\partial N}{\\partial x}}{N}=\\frac{1}{x}$,积分因子$u=e^{\\int\\frac{1}{x}\\mathrm dx}=x$"
   ]
  },
  {
   "cell_type": "markdown",
   "metadata": {},
   "source": [
    "原方程两边乘以u得：$x(x+2y)\\mathrm dx+x^2\\mathrm dy=0$是恰当方程"
   ]
  },
  {
   "cell_type": "markdown",
   "metadata": {},
   "source": [
    "故方程的通解为：$\\int(x^2+2xy)\\mathrm dx+\\int[x^2-\\frac{\\partial\\int(x^2+2xy)\\mathrm dx}{\\partial y}]\\mathrm dy=c$"
   ]
  },
  {
   "cell_type": "markdown",
   "metadata": {},
   "source": [
    "$\\frac{x^3}{3}+x^3y=c$"
   ]
  },
  {
   "cell_type": "markdown",
   "metadata": {},
   "source": [
    "即得：$x^3+3x^2y=c$"
   ]
  },
  {
   "cell_type": "markdown",
   "metadata": {
    "collapsed": true
   },
   "source": [
    "(9)$[xcos(x+y)+sin(x+y)]\\mathrm dx+xcos(x+y)\\mathrm dy=0$"
   ]
  },
  {
   "cell_type": "markdown",
   "metadata": {},
   "source": [
    "解：$M=xcos(x+y)+sin(x+y)$,$N=xcos(x+y)$"
   ]
  },
  {
   "cell_type": "markdown",
   "metadata": {},
   "source": [
    "因为：$\\frac{\\partial M}{\\partial y}=\\frac{\\partial N}{\\partial x}=cos(x+y)-xsin(x+y)$"
   ]
  },
  {
   "cell_type": "markdown",
   "metadata": {},
   "source": [
    "故方程的通解为：$c=\\int[xcos(x+y)+sin(x+y)]\\mathrm dx+\\int[xcos(x+y)-\\frac{\\partial}{\\partial y}\\int[xcos(x+y)+sin(x+y)]\\mathrm dx]\\mathrm dy$"
   ]
  },
  {
   "cell_type": "markdown",
   "metadata": {},
   "source": [
    "即：$xsin(x+y)=c$"
   ]
  },
  {
   "cell_type": "markdown",
   "metadata": {},
   "source": [
    "(10)$(ycosx-xsinx)\\mathrm dx+(ysinx+xcosx)\\mathrm dy=0$"
   ]
  },
  {
   "cell_type": "markdown",
   "metadata": {},
   "source": [
    "解：$M=ycosx-xsinx$,$N=ysinx+xcosx$,$\\frac{\\partial M}{\\partial y}\\neq\\frac{\\partial N}{\\partial x}$"
   ]
  },
  {
   "cell_type": "markdown",
   "metadata": {},
   "source": [
    "$\\frac{\\frac{\\partial M}{\\partial y}-\\frac{\\partial N}{\\partial x}}{-M}=1$,所以方程的积分因子为$u=e^{\\int\\mathrm dy}=e^y$"
   ]
  },
  {
   "cell_type": "markdown",
   "metadata": {},
   "source": [
    "两边乘以u得：$e^y(ycosx-xsinx)\\mathrm dx+e^y(ysinx+xcosx)\\mathrm dy=0$为恰当方程"
   ]
  },
  {
   "cell_type": "markdown",
   "metadata": {},
   "source": [
    "故通解为：$\\int e^y(ycosx-xsinx)\\mathrm dx+\\int(N-\\frac{\\partial}{\\partial y}\\int e^y(ycosx-xsinx)\\mathrm dx)\\mathrm dy=c$"
   ]
  },
  {
   "cell_type": "markdown",
   "metadata": {},
   "source": [
    "即：$e^ysinx(y-1)+e^ycosx=c$"
   ]
  },
  {
   "cell_type": "markdown",
   "metadata": {},
   "source": [
    "(11)$x(4y\\mathrm dx+2x\\mathrm dy)+y^3(3y\\mathrm dx+5x\\mathrm dy)=0$"
   ]
  },
  {
   "cell_type": "markdown",
   "metadata": {},
   "source": [
    "解：两边同乘以$x^2y$得："
   ]
  },
  {
   "cell_type": "markdown",
   "metadata": {},
   "source": [
    "$(4x^3y^2\\mathrm dx+2x^4y\\mathrm dy)+(3x^2y^5\\mathrm dx+5x^3y\\mathrm dy)=0$"
   ]
  },
  {
   "cell_type": "markdown",
   "metadata": {},
   "source": [
    "$\\mathrm d(x^4y^2)+\\mathrm d(x^3y^5)=0$"
   ]
  },
  {
   "cell_type": "markdown",
   "metadata": {},
   "source": [
    "所以方程的解为：$x^4y^2+x^3y^5=c$"
   ]
  },
  {
   "cell_type": "markdown",
   "metadata": {},
   "source": [
    "4.设$f(x,y)$及$\\frac{\\partial f}{\\partial y}$连续，试证方程$\\mathrm dy-f(x,y)\\mathrm dx=0$为线性微分方程的充要条件是它有仅依赖于x的积分因子."
   ]
  },
  {
   "cell_type": "markdown",
   "metadata": {},
   "source": [
    "证：必要性："
   ]
  },
  {
   "cell_type": "markdown",
   "metadata": {},
   "source": [
    "若该方程为线性方程，则有$\\frac{\\mathrm dy}{\\mathrm dx}=P(x)y+Q(x)$"
   ]
  },
  {
   "cell_type": "markdown",
   "metadata": {},
   "source": [
    "此方程有积分因子$u(x)=e^{-\\int P(x)\\mathrm dx}$,$u(x)$只与$x$有关"
   ]
  },
  {
   "cell_type": "markdown",
   "metadata": {},
   "source": [
    "充分性："
   ]
  },
  {
   "cell_type": "markdown",
   "metadata": {},
   "source": [
    "若该方程有只与$x$有关的积分因子$u(x)$"
   ]
  },
  {
   "cell_type": "markdown",
   "metadata": {
    "collapsed": true
   },
   "source": [
    "则$u(x)\\mathrm dy-u(x)f(x,y)\\mathrm dx=0$为恰当方程"
   ]
  },
  {
   "cell_type": "markdown",
   "metadata": {},
   "source": [
    "从而$\\frac{\\partial (-u(x)f(x,y))}{\\partial y}=\\frac{\\mathrm du(x)}{\\mathrm dx}$,$\\frac{\\partial f}{\\partial y}=-\\frac{u'(x)}{u(x)}$"
   ]
  },
  {
   "cell_type": "markdown",
   "metadata": {},
   "source": [
    "$f=-\\int\\frac{u'(x)}{u(x)}\\mathrm dy+Q(x)=-\\frac{u'(x)}{u(x)}y+Q(x)=P(x)y+Q(x)$"
   ]
  },
  {
   "cell_type": "markdown",
   "metadata": {},
   "source": [
    "其中$P(X)=-\\frac{u'(x)}{u(x)}.$"
   ]
  },
  {
   "cell_type": "markdown",
   "metadata": {},
   "source": [
    "于是方程可化为$\\mathrm dy-(P(x)y+Q(x))\\mathrm dx=0$,即方程为一阶线性方程."
   ]
  },
  {
   "cell_type": "markdown",
   "metadata": {},
   "source": [
    "**8.求出伯努利微分方程的积分因子**"
   ]
  },
  {
   "cell_type": "markdown",
   "metadata": {},
   "source": [
    "解：已知伯努利方程为：$\\frac{\\mathrm dy}{\\mathrm dx}=P(x)y+Q(x)y^n,y\\neq 0$"
   ]
  },
  {
   "cell_type": "markdown",
   "metadata": {},
   "source": [
    "两边同乘以$y^{-n}$,令$z=y^{-n}$"
   ]
  },
  {
   "cell_type": "markdown",
   "metadata": {},
   "source": [
    "$\\frac{\\mathrm dz}{\\mathrm dx}=(1-n)P(x)z+(1-n)Q(x)$,线性方程有积分因子"
   ]
  },
  {
   "cell_type": "markdown",
   "metadata": {},
   "source": [
    "$u=e^{-\\int(1-n)P(x)\\mathrm dx}=e^{(n-1)\\int P(x)\\mathrm dx}$,故原方程的积分因子为："
   ]
  },
  {
   "cell_type": "markdown",
   "metadata": {},
   "source": [
    "$u=e^{-\\int (1-n)P(x)\\mathrm dx}=e^{(n-1)\\int P(x)\\mathrm dx}$,证毕"
   ]
  },
  {
   "cell_type": "markdown",
   "metadata": {},
   "source": [
    "**1.求解下列方程**"
   ]
  },
  {
   "cell_type": "markdown",
   "metadata": {},
   "source": [
    "(1)$xy'^3=1+y'$"
   ]
  },
  {
   "cell_type": "markdown",
   "metadata": {},
   "source": [
    "解：令$\\frac{\\mathrm dy}{\\mathrm dx}=y'=P=\\frac{1}{t}$,则$x=(1+\\frac{1}{t})t^3=t^3+t^2$"
   ]
  },
  {
   "cell_type": "markdown",
   "metadata": {},
   "source": [
    "从而$y=\\int P\\mathrm dx+c=\\int\\frac{1}{t}\\mathrm d(t^3+t^2)+c=\\int(3t+2)\\mathrm dt+c=\\frac{3}{2}t^2+2t+c$"
   ]
  },
  {
   "cell_type": "markdown",
   "metadata": {},
   "source": [
    "于是求得方程参数形式的通解为：$\\begin{cases}x=t^3+t^2\\\\y=\\frac{3}{2}t^2+3t+c\\end{cases}$"
   ]
  },
  {
   "cell_type": "markdown",
   "metadata": {},
   "source": [
    "(2).$y'^3-x^3(1-y')=0$"
   ]
  },
  {
   "cell_type": "markdown",
   "metadata": {},
   "source": [
    "解：令$\\frac{\\mathrm dy}{\\mathrm dx}=y'=P=tx$,则$(tx)^3-x^3(1-tx)=0$,即$x=\\frac{t^3-1}{t}=t^2-\\frac{1}{t}$"
   ]
  },
  {
   "cell_type": "markdown",
   "metadata": {},
   "source": [
    "从而$y=\\int P\\mathrm dx+c=\\int t(t^2-\\frac{1}{t})\\mathrm d(t^2-\\frac{1}{t})+c$"
   ]
  },
  {
   "cell_type": "markdown",
   "metadata": {},
   "source": [
    "=$\\int (t^3-1)(2t+\\frac{1}{t^2})\\mathrm dt+c$"
   ]
  },
  {
   "cell_type": "markdown",
   "metadata": {},
   "source": [
    "=$\\int (2t^4-t-\\frac{1}{t^2})\\mathrm dt+c$"
   ]
  },
  {
   "cell_type": "markdown",
   "metadata": {},
   "source": [
    "=$\\frac{2}{5}t^5-\\frac{1}{2}t^2+\\frac{1}{t}+c$"
   ]
  },
  {
   "cell_type": "markdown",
   "metadata": {},
   "source": [
    "于是求得方程参数形式的通解为$\\begin{cases}x=t^2-\\frac{1}{t}\\\\y=\\frac{2}{5}t^5-\\frac{1}{2}t^2+\\frac{1}{t}+c\\end{cases}$"
   ]
  },
  {
   "cell_type": "markdown",
   "metadata": {},
   "source": [
    "(3).$y=y'^2e^{y'}$"
   ]
  },
  {
   "cell_type": "markdown",
   "metadata": {},
   "source": [
    "解：令$\\frac{\\mathrm dy}{\\mathrm dx}=y'=P$,则$y=P^2e^P$,"
   ]
  },
  {
   "cell_type": "markdown",
   "metadata": {},
   "source": [
    "从而$x=\\int \\frac{1}{P}\\mathrm d(P^2e^P)+c$"
   ]
  },
  {
   "cell_type": "markdown",
   "metadata": {},
   "source": [
    "=$\\int \\frac{1}{P}(2Pe^P+P^2e^P)\\mathrm dP+C$ "
   ]
  },
  {
   "cell_type": "markdown",
   "metadata": {},
   "source": [
    "=$\\int (2e^P+Pe^P)\\mathrm dP+c$"
   ]
  },
  {
   "cell_type": "markdown",
   "metadata": {},
   "source": [
    "=$(1+P)e^P+c$"
   ]
  },
  {
   "cell_type": "markdown",
   "metadata": {},
   "source": [
    "于是求得方程参数形式的通解为$\\begin{cases}x=(1+P)e^P+c\n",
    "\\\\y=y^2e^P\\end{cases}$"
   ]
  },
  {
   "cell_type": "markdown",
   "metadata": {},
   "source": [
    "另外，$y=0$也是方程的解"
   ]
  },
  {
   "cell_type": "markdown",
   "metadata": {},
   "source": [
    "(4).$y(1+y'^2)=2a$(a为常数)"
   ]
  },
  {
   "cell_type": "markdown",
   "metadata": {},
   "source": [
    "解：令$\\frac{\\mathrm dy}{\\mathrm dx}=y'=tgφ$,则$y=\\frac{2a}{1+tg^2φ}=\\frac{2a}{sec^2φ}=2acos^2φ$"
   ]
  },
  {
   "cell_type": "markdown",
   "metadata": {},
   "source": [
    "从而$x=\\int\\frac{1}{p}\\mathrm dy+c=\\int\\frac{1}{tgφ}\\mathrm d(2acos^2φ)+c$"
   ]
  },
  {
   "cell_type": "markdown",
   "metadata": {},
   "source": [
    "=$-4a\\int cos^2φ\\mathrm dφ+c=-4a\\int\\frac{1+cos2φ}{2}+c$"
   ]
  },
  {
   "cell_type": "markdown",
   "metadata": {},
   "source": [
    "=$-a(2φ+sin2φ)+c$"
   ]
  },
  {
   "cell_type": "markdown",
   "metadata": {},
   "source": [
    "于是求得方程参数形式的通解为$\\begin{cases}x=-a(2φ+sin2φ)+c\\\\y=2acos^2φ\\end{cases}$"
   ]
  },
  {
   "cell_type": "markdown",
   "metadata": {},
   "source": [
    "(5).$x^2+y'^2=1$"
   ]
  },
  {
   "cell_type": "markdown",
   "metadata": {},
   "source": [
    "解：令$\\frac{\\mathrm dy}{\\mathrm dx}=y'=p=cost$,则$x=\\sqrt{1-cos^2t}=sint$"
   ]
  },
  {
   "cell_type": "markdown",
   "metadata": {},
   "source": [
    "从而$y=\\int cost\\mathrm d(sint)+c$"
   ]
  },
  {
   "cell_type": "markdown",
   "metadata": {},
   "source": [
    "=$\\int cos^2t\\mathrm dt+c=\\int \\frac{1+cos2t}{2}\\mathrm dt+c$"
   ]
  },
  {
   "cell_type": "markdown",
   "metadata": {},
   "source": [
    "=$\\frac{1}{2}t+\\frac{1}{4}sin2t+c$"
   ]
  },
  {
   "cell_type": "markdown",
   "metadata": {},
   "source": [
    "于是求得方程参数形式的通解为$\\begin{cases}x=sint\\\\y=\\frac{1}{2}t+\\frac{1}{4}sin2t+c\\end{cases}$"
   ]
  },
  {
   "cell_type": "markdown",
   "metadata": {},
   "source": [
    "(6).$y^2(y'-1)=(2-y')^2$"
   ]
  },
  {
   "cell_type": "markdown",
   "metadata": {},
   "source": [
    "解：令$2-y'=yt$,则$1-y'=yt-1$,得$y=t+\\frac{1}{t}$"
   ]
  },
  {
   "cell_type": "markdown",
   "metadata": {},
   "source": [
    "所以$\\mathrm dx=\\frac{\\mathrm dy}{y'}=\\frac{\\mathrm dy}{2-yt}=\\frac{\\mathrm d(t+\\frac{1}{t})}{2-t(t+\\frac{1}{t})}=\\frac{(1-t^{-2})\\mathrm dt}{1-t^2}=\\frac{t^2-1}{t^2(1-t^2)}\\mathrm dt=-\\frac{1}{t^2}\\mathrm dt$"
   ]
  },
  {
   "cell_type": "markdown",
   "metadata": {},
   "source": [
    "从而$x=\\int(-\\frac{1}{t^2})\\mathrm dt+c=\\frac{1}{t}+c$"
   ]
  },
  {
   "cell_type": "markdown",
   "metadata": {},
   "source": [
    "于是求得方程参数形式的通解为$\\begin{cases}x=\\frac{1}{t}+c\\\\y=t+\\frac{1}{t}\\end{cases}$"
   ]
  },
  {
   "cell_type": "markdown",
   "metadata": {},
   "source": [
    "因此方程的通解为：$y=\\frac{1}{x-c}+x-c$"
   ]
  },
  {
   "cell_type": "markdown",
   "metadata": {
    "collapsed": true
   },
   "source": [
    "# <font color='red'>A 26/9"
   ]
  },
  {
   "cell_type": "code",
   "execution_count": null,
   "metadata": {
    "collapsed": true
   },
   "outputs": [],
   "source": []
  }
 ],
 "metadata": {
  "kernelspec": {
   "display_name": "SageMath 7.3",
   "language": "",
   "name": "sagemath"
  },
  "language_info": {
   "codemirror_mode": {
    "name": "ipython",
    "version": 2
   },
   "file_extension": ".py",
   "mimetype": "text/x-python",
   "name": "python",
   "nbconvert_exporter": "python",
   "pygments_lexer": "ipython2",
   "version": "2.7.10"
  }
 },
 "nbformat": 4,
 "nbformat_minor": 0
}
