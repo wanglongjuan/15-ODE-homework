{
 "cells": [
  {
   "cell_type": "markdown",
   "metadata": {},
   "source": [
    "2.求下列方程的："
   ]
  },
  {
   "cell_type": "markdown",
   "metadata": {},
   "source": [
    "（8）$\\left({x+2y}\\right)\\mathrm d x+x\\mathrm d y =0$"
   ]
  },
  {
   "cell_type": "markdown",
   "metadata": {},
   "source": [
    "解：令$M=x+2y$,$N=x$\n",
    "\n",
    "则$\\frac{\\partial M}{\\partial y}=2$ $\\frac{\\partial N}{\\partial x}=1$"
   ]
  },
  {
   "cell_type": "markdown",
   "metadata": {},
   "source": [
    "$\\frac{\\mathrm d  u}{u}=\\frac{\\frac{\\partial M}{\\partial y}-\\frac{\\partial N }{\\partial x}}{N}\\mathrm d x$"
   ]
  },
  {
   "cell_type": "markdown",
   "metadata": {},
   "source": [
    "即$x^3+3yx^2=c$其中c为常数"
   ]
  },
  {
   "cell_type": "markdown",
   "metadata": {},
   "source": [
    "(9)$\\left( x\\cos \\left(x+y\\right)+\\sin\\left(x+y\\right）\\right)\\mathrm d x+x\\cos\\left(x+y\\right)\\mathrm d y=0$"
   ]
  },
  {
   "cell_type": "markdown",
   "metadata": {},
   "source": [
    "解：$M=x\\cos\\left(x+y\\right)+\\sin\\left(x+y\\right)$\n",
    "\n",
    "$N=x\\cos\\left(x+y\\right)$"
   ]
  },
  {
   "cell_type": "markdown",
   "metadata": {},
   "source": [
    "因为$\\frac{\\partial M}{\\partial y}=\\frac{\\partial N}{\\partial x}$"
   ]
  },
  {
   "cell_type": "markdown",
   "metadata": {},
   "source": [
    "所以$$x\\sin\\left(x+y\\right)=c$$     c为常数"
   ]
  },
  {
   "cell_type": "markdown",
   "metadata": {},
   "source": [
    "(10)$\\left(y\\cos x-x\\sin x\\right)\\mathrm d x+\\left(y\\sin x+x\\cos x\\right)\\mathrm d y=0$"
   ]
  },
  {
   "cell_type": "markdown",
   "metadata": {},
   "source": [
    "解：令$M=y\\cos x-x\\sin x$ $N=y\\sin x+x\\cos x$"
   ]
  },
  {
   "cell_type": "markdown",
   "metadata": {},
   "source": [
    "因为$\\frac{\\partial M}{\\partial y}\\neq\\frac{\\partial N}{\\partial x}$"
   ]
  },
  {
   "cell_type": "markdown",
   "metadata": {},
   "source": [
    "又因为$\\frac{\\frac{\\partial M}{\\partial x}-\\frac{\\partial N}{\\partial y}}{-M}=1$,所以积分因子$\\mathrm u=e^y$"
   ]
  },
  {
   "cell_type": "markdown",
   "metadata": {},
   "source": [
    "即通解为$$e^y\\left(y-1\\right)\\sin x+e^y\\cos x=c$$c为常数"
   ]
  },
  {
   "cell_type": "markdown",
   "metadata": {},
   "source": [
    "（11）$x\\left(4y\\mathrm d x+2x\\mathrm d y\\right)+y^3\\left(3y\\mathrm d x+5x\\mathrm d y\\right)$"
   ]
  },
  {
   "cell_type": "markdown",
   "metadata": {},
   "source": [
    "解：$M=4xy+3y^4$\n",
    "\n",
    "$N=2x^2+5xy^3$\n",
    "\n",
    "$\\frac{\\partial M}{\\partial y}=4x+12y^3$\n",
    "\n",
    "$\\frac{\\partial N}{\\partial x}=4x+5y^3$"
   ]
  },
  {
   "cell_type": "markdown",
   "metadata": {},
   "source": [
    "设$\\mathrm u=x^my^n$\n",
    "于是$\\left(4x^{m+1}y^{n+1}+3x^my^{n+4}\\right)\\mathrm d x+\\left(x^{m+2}y^n+5x^{m+1}y^n\\right)\\mathrm d y=0$"
   ]
  },
  {
   "cell_type": "markdown",
   "metadata": {},
   "source": [
    "即通解为$$x^4y^2+x^3y^5=c$$和$x=0$$y=0$"
   ]
  },
  {
   "cell_type": "markdown",
   "metadata": {},
   "source": [
    "4.设$f\\left(x,y\\right)$及$\\frac{\\partial f}{\\partial y}$连续，试证方程$\\mathrm d y-f\\left(x,y\\right)\\mathrm d x=0$为线性微分方程的充分必要条件是它有仅依赖于$x$的积分因子。"
   ]
  },
  {
   "cell_type": "markdown",
   "metadata": {},
   "source": [
    "解：充分性\n",
    "\n",
    "设$\\mathrm d y-f\\left(x,y\\right)\\mathrm d x=0$有仅依赖于$x$的积分因子，即存在某个$g\\left(x\\right)$满足$$\\frac{\\frac{\\partial M}{\\partial y}-\\frac{\\partial N}{\\partial x}}{N}=g\\left(x\\right)$$"
   ]
  },
  {
   "cell_type": "markdown",
   "metadata": {},
   "source": [
    "即$\\frac{\\partial f}{\\partial y}=-g\\left(x\\right)$"
   ]
  },
  {
   "cell_type": "markdown",
   "metadata": {},
   "source": [
    "积分得$\\frac{\\mathrm d y}{\\mathrm d x}=-g\\left(x\\right)y+h\\left(x\\right)$"
   ]
  },
  {
   "cell_type": "markdown",
   "metadata": {},
   "source": [
    "所以证明了原方程为线性微分方程"
   ]
  },
  {
   "cell_type": "markdown",
   "metadata": {},
   "source": [
    "必要性"
   ]
  },
  {
   "cell_type": "markdown",
   "metadata": {},
   "source": [
    "设方程为线性微分方程，即存在$g\\left(x\\right),h\\left(x\\right)$使得$f\\left(x,y\\right)=y\\cdot g\\left(x\\right)+h\\left(x\\right)$."
   ]
  },
  {
   "cell_type": "markdown",
   "metadata": {},
   "source": [
    "这样$M=-f\\left(x,y\\right)=-yg\\left(x\\right)-h\\left(x\\right)$,\n",
    "\n",
    "$N=1$,$\\frac{\\frac{\\partial M}{\\partial y}-\\frac{\\partial N}{\\partial x}}{N}=-g\\left(x\\right)$"
   ]
  },
  {
   "cell_type": "markdown",
   "metadata": {},
   "source": [
    "所以方程具有仅依赖于$x$的积分因子"
   ]
  },
  {
   "cell_type": "markdown",
   "metadata": {},
   "source": [
    "8.求出伯努利微分方程的积分因子"
   ]
  },
  {
   "cell_type": "markdown",
   "metadata": {},
   "source": [
    "解：伯努利方程为$\\frac{\\mathrm d y}{\\mathrm d x}=P\\left(x\\right)+Q\\left(x\\right)y^n\\left(n\\neq 0,1\\right)$,改写为$$\\mathrm d y-P\\left(x\\right)y\\mathrm d x-Q\\left(x\\right)y^n\\mathrm d x=0$$\n",
    "\n",
    "乘以$y^{-n}$即$\\mathrm d \\left(y^{1-n}\\right)-\\left(1-n\\right)P\\left(x\\right)y^{1-n}\\mathrm d x-\\left(1-n\\right)Q\\left(x\\right)\\mathrm d x=0$"
   ]
  },
  {
   "cell_type": "markdown",
   "metadata": {},
   "source": [
    "再乘以$e^{-\\left(1-n\\right)\\int P\\left(x\\right)\\mathrm d x}$"
   ]
  },
  {
   "cell_type": "markdown",
   "metadata": {},
   "source": [
    "即$\\mathrm d \\left(y^{1-n}e^{-\\left(1-n\\right)\\int P\\left(x\\right)\\mathrm d x}\\right)-\\mathrm d \\left(\\int\\left(1-n\\right)Q\\left(x\\right)e^{-\\left(1-n\\right)\\int P\\left(x\\right)\\mathrm d x}\\mathrm d x\\right)=0$\n",
    "\n",
    "即所求的积分因子为$y^{-n}e^{-\\left(1-n\\right)\\int P\\left(x\\right)\\mathrm d x }$"
   ]
  },
  {
   "cell_type": "markdown",
   "metadata": {},
   "source": [
    "1.求解下列方程"
   ]
  },
  {
   "cell_type": "markdown",
   "metadata": {},
   "source": [
    "（1）$xy^{\\prime 3}=1+y^{\\prime}$"
   ]
  },
  {
   "cell_type": "markdown",
   "metadata": {},
   "source": [
    "解：记$y^{\\prime}=\\frac{1}{t}$,\n",
    "\n",
    "则方程化为$xt^{-3}=1+t^{-1}$,$x=t^3+t^2$\n",
    "\n",
    "即$y=\\frac{3}{2}t^2+2t+c$\n",
    "\n",
    "所以通解为$\\begin{cases}x=t^3+t^2\\\\y=\\frac{3}{2}t^2+2t+c\\\\\n",
    "\\end{cases}$其中$t$为参数，$c$为任意常数。"
   ]
  },
  {
   "cell_type": "markdown",
   "metadata": {},
   "source": [
    "（2）$y^{\\prime 3}-x^3\\left(1-y^{\\prime}\\right)=0$"
   ]
  },
  {
   "cell_type": "markdown",
   "metadata": {},
   "source": [
    "方程不含$y$,记$y^{\\prime}=tx$，则得出$x=\\frac{1}{t}-t^2$,两边对$y$求导得$\\mathrm d y =\\left(\\left(1-t^2\\right)\\left(-\\frac{1}{t^2}-2t\\right)\\right)\\mathrm d t$\n",
    "\n",
    "积分得$y=-\\frac{1}{2}t^2+\\frac{2}{5}t^5+\\frac{1}{t}+c$\n",
    "\n",
    "\n",
    "即通解为$\\begin{cases}x=\\frac{1}{t}-t^2\\\\y=-\\frac{1}{2}t^+\\frac{2}{5}t^5+\\frac{1}{t}+c,\\\\\n",
    "\\end{cases}$  $t$为参数 $c$为常熟。"
   ]
  },
  {
   "cell_type": "markdown",
   "metadata": {},
   "source": [
    "（3）$y=y^{\\prime 2}e^{y^{\\prime}}$"
   ]
  },
  {
   "cell_type": "markdown",
   "metadata": {},
   "source": [
    "令$y^{\\prime}=p$.对$x$求导，即$p=\\left(2p+p^2\\right)e^p\\frac{\\mathrm d p}{\\mathrm d x}$，即$\\mathrm d x=\\left(p+2\\right)e^p\\mathrm d p$\n",
    "\n",
    "积分，得通解为,$\\begin{cases}x=\\left(p+1\\right)e^p+c\\\\y=p^2e^p\\\\\n",
    "\\end{cases}$其中$p$为参数$c$为常数。且$y=0$也是方程的解."
   ]
  },
  {
   "cell_type": "markdown",
   "metadata": {},
   "source": [
    "（4）$y\\left(1+y^{\\prime 2}\\right)=2a\\left(a为常数\\right)$"
   ]
  },
  {
   "cell_type": "markdown",
   "metadata": {},
   "source": [
    "解：令$y^{\\prime}=\\tan t$.即$y=2a\\cos^2t$,对$x$求导，得$\\mathrm d x=-4acos^2t\\mathrm d t$\n",
    "\n",
    "积分得$x=-a\\left(2t+\\sin {2t}\\right)+c$\n",
    "\n",
    "即通解为$$\\begin{cases}x=-a\\left(2t+\\sin{2t}\\right)+c\\\\y=2a\\cos^2t\\\\\n",
    "\\end{cases}$$\n",
    "\n",
    "$t$为参数$c$为常数"
   ]
  },
  {
   "cell_type": "markdown",
   "metadata": {},
   "source": [
    "（5）$x^2+y^{\\prime 2}=1$"
   ]
  },
  {
   "cell_type": "markdown",
   "metadata": {},
   "source": [
    "解：令$y^{\\prime}=\\cos t$,求导得$\\mathrm d y=\\cos^2t\\mathrm dt$.\n",
    "\n",
    "积分得$y=\\frac{t}{2}+\\frac{1}{4}\\sin {2t}+c$\n",
    "即通解为$$\\begin{cases}x=\\sin t\\\\y=\\frac{t}{2}+\\frac{1}{4}\\sin{2t}+c\\\\\n",
    "\\end{cases}$$其中$t$为参数，$c$为常数."
   ]
  },
  {
   "cell_type": "markdown",
   "metadata": {},
   "source": [
    "(6)$y^2\\left(y^{\\prime}-1\\right)={\\left(2-y^{\\prime}\\right)}^2$"
   ]
  },
  {
   "cell_type": "markdown",
   "metadata": {},
   "source": [
    "解：令$2-y^{\\prime}=ty$,得$y=\\frac{1}{t}-t$,且$y^{\\prime}=1+t^2$\n",
    "即$\\mathrm dx=\\frac{\\left(-\\frac{1}{t^2}-1\\right)}{1+t^2}\\mathrm d t=-\\frac{1}{t^2}\\mathrm d t$"
   ]
  },
  {
   "cell_type": "markdown",
   "metadata": {},
   "source": [
    "积分得$x=\\frac{1}{t}+c$\n",
    "\n",
    "得$$y=x-\\frac{1}{x-c}_c$$,$C$为常数"
   ]
  },
  {
   "cell_type": "markdown",
   "metadata": {
    "collapsed": true
   },
   "source": [
    "# <font color='red'>A 26/9"
   ]
  },
  {
   "cell_type": "code",
   "execution_count": null,
   "metadata": {
    "collapsed": true
   },
   "outputs": [],
   "source": []
  },
  {
   "cell_type": "code",
   "execution_count": null,
   "metadata": {
    "collapsed": true
   },
   "outputs": [],
   "source": []
  },
  {
   "cell_type": "code",
   "execution_count": null,
   "metadata": {
    "collapsed": true
   },
   "outputs": [],
   "source": []
  },
  {
   "cell_type": "code",
   "execution_count": null,
   "metadata": {
    "collapsed": true
   },
   "outputs": [],
   "source": []
  },
  {
   "cell_type": "code",
   "execution_count": null,
   "metadata": {
    "collapsed": true
   },
   "outputs": [],
   "source": []
  },
  {
   "cell_type": "code",
   "execution_count": null,
   "metadata": {
    "collapsed": true
   },
   "outputs": [],
   "source": []
  }
 ],
 "metadata": {
  "kernelspec": {
   "display_name": "SageMath 7.3",
   "language": "",
   "name": "sagemath"
  },
  "language_info": {
   "codemirror_mode": {
    "name": "ipython",
    "version": 2
   },
   "file_extension": ".py",
   "mimetype": "text/x-python",
   "name": "python",
   "nbconvert_exporter": "python",
   "pygments_lexer": "ipython2",
   "version": "2.7.10"
  }
 },
 "nbformat": 4,
 "nbformat_minor": 0
}
