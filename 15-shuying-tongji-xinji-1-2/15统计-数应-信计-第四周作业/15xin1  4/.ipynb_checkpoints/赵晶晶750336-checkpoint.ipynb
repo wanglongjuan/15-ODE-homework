{
 "cells": [
  {
   "cell_type": "markdown",
   "metadata": {},
   "source": [
    "一。求解下列方程。\n",
    "（1）$(x+2y){\\mathrm dx}+x{\\mathrm dy}=0$"
   ]
  },
  {
   "cell_type": "markdown",
   "metadata": {},
   "source": [
    "解:M=x+2y,N=x\n",
    "因为$\\frac{\\partial M}{\\partial y}\\neq \\frac{\\partial N}{\\partial x}$\n",
    "所以此方程不是恰当微分方程。\n",
    "$$\\frac{\\frac{\\partial M}{\\partial y}-\\frac{\\partial N}{\\partial x}}{N}=\\frac{1}{x}$$只与x有关，所以积分因子$u=e^{\\int \\frac{1}{x}\\,\\mathrm{d}x}$=x\n",
    "将积分因子乘入原式得$x^2{\\mathrm dx}+2xy{\\mathrm dx}+x^2{\\mathrm dy}=0$\n",
    "则$x^2{\\mathrm dx}+y{\\mathrm dx^2}+x^2{\\mathrm dy}=0$\n",
    "$$所以{\\mathrm d\\frac{x^3}{3}}+{\\mathrm d{x^2y}}=0$$\n",
    "$$两边同时求积分得方程解为\\frac{1}{3}x^3+x^2y=c$$"
   ]
  },
  {
   "cell_type": "markdown",
   "metadata": {},
   "source": [
    "（2）$[x\\cos(x+y)+\\sin(x+y)]{\\mathrm dx}+x\\cos(x+y){\\mathrm dy}=0$"
   ]
  },
  {
   "cell_type": "markdown",
   "metadata": {},
   "source": [
    "解:$M=x\\cos(x+y)+\\sin(x+y),N=x\\cos(x+y)$\n",
    "因为$\\frac{\\partial M}{\\partial y}=\\frac{\\partial N}{\\partial x}=\\cos(x+y)-x\\sin(x+y)$\n",
    "所以此微分方程是恰当微分方程。令u=u(x,y)\n",
    "$$所以\\frac{\\partial u}{\\partial x}=x\\cos(x+y)+\\sin(x+y)$$,$u=x\\sin(x+y)+\\varphi(y)<1>$\n",
    "$$\\frac{\\partial u}{partial y}=x\\cos(x+y)$$,$u=x\\sin(x+y)<2>$\n",
    "<1>对y求偏导应等于<2>则$x\\cos(x+y)+\\varphi'(y)=x\\sin(x+y)$,求出$\\varphi(y)=-x\\cos(x+y)-\\sin(x+y)$代入u中得$$u=-x\\cos(x+y)$$\n",
    "所以$$-x\\cos(x+y)=c$$为方程的解。"
   ]
  },
  {
   "cell_type": "markdown",
   "metadata": {},
   "source": [
    "（3）$(y\\cos x-x\\sin x){\\mathrm dx}+(y\\sin x+x\\cos x){\\mathrm dy}=0$"
   ]
  },
  {
   "cell_type": "markdown",
   "metadata": {},
   "source": [
    "解：$M=y\\cos x-x\\sin x$,$N=y\\sin x+x\\cos x$因为$\\frac{\\partial M}{\\partial y}\\neq \\frac{\\partial N}{\\partial x}$\n",
    "所以此方程不是恰当微分方程。\n",
    "$$\\frac{\\frac{\\partial M}{\\partial y}-\\frac{\\partial N}{\\partial x}}{-M}=1$$所以积分因子$u=e^{\\int 1\\,\\mathrm{d}y}=e^y$\n",
    "将积分因子乘到原式得$e^y(y\\cos x-x\\sin x){\\mathrm dx}+e^y(y\\sin x+x\\cos x){\\mathrm dy}=0$\n",
    "$$通解为\\int e^y(y\\cos x-x\\sin x)\\,\\mathrm{d}x+\\int(N-\\frac{\\partial \\int e^y(y\\cos x-x\\sin x)\\,\\mathrm{d}x}{\\partial y})\\,\\mathrm{d}y=c$$\n",
    "$$即e^y\\sin x(y-1)+e^y\\cos x=c$$"
   ]
  },
  {
   "cell_type": "markdown",
   "metadata": {},
   "source": [
    "（4）$x(4y{\\mathrm dx}+2x{\\mathrm dy})+y^3(3y{\\mathrm dx}+5x{\\mathrm dy})=0$"
   ]
  },
  {
   "cell_type": "markdown",
   "metadata": {},
   "source": [
    "解:两边同乘以x^2y得$(4x^3y^2{\\mathrm dx}+2x^4y{\\mathrm dy})+(3x^2y^5{\\mathrm dx}+5x^3y^5{\\mathrm dy})=0$,即${\\mathrm dx^4y^2}+{\\mathrm dx^3y^5}=0$.\n",
    "$$两边求积分得解为x^4y^2+x^3y^5=c$$"
   ]
  },
  {
   "cell_type": "markdown",
   "metadata": {},
   "source": [
    "  二。设f(x,y)及$\\frac{\\partial f}{\\partial y}$连续，试证方程${\\mathrm dy}-f(x,y)=0$为线性微分方程的充要条件是它仅有依赖于x的积分因子。"
   ]
  },
  {
   "cell_type": "markdown",
   "metadata": {},
   "source": [
    "证明：必要性：若它为线性方程，则有积分因子$u=e^{-\\int P(x)\\,\\mathrm{d}x}$且只与x有关。\n",
    "充分性：若该方程有只与x有关的积分因子u(x),则$u(x){\\mathrm dy}-u(x)f(x,y){\\mathrm dx}=0$为恰当方程。\n",
    "$$所以\\frac{\\partial(-u(x)f(x,y))}{\\partial y}=\\frac{{\\mathrm du(x)}}{{\\mathrm dx}},\\frac{\\partial f}{\\partial y}=-\\frac{u'(x)}{u(x)}$$\n",
    "$f=-\\int \\frac{u'(x)}{u(x)}\\,\\mathrm{d}y+Q(x)=-\\frac{u'(x)}{u(x)}+Q(x)=P(x)y+Q(x)$,其中$P(x)=-\\frac{u'(x)}{u(x)}$\n",
    "于是方程可化为${\\mathrm dy}-(P(x)y+Q(x)){\\mathrm dx}=0$.即证。"
   ]
  },
  {
   "cell_type": "markdown",
   "metadata": {},
   "source": [
    "三。求出伯努利微分方程的积分因子。"
   ]
  },
  {
   "cell_type": "markdown",
   "metadata": {},
   "source": [
    "解：伯努利微分方程为$\\frac{\\mathrm dy}{\\mathrm dx}=P(x)y+Q(x)y^n,y\\neq 0$\n",
    "两边同乘以y^(-n),令z=y^(-n),$\\frac{\\mathrm dz}{\\mathrm dx}=(1-n)P(x)z+(1-n)Q(x)$\n",
    "$$线性方程有积分因子u=e^{-\\int (1-n)P(x)\\,\\mathrm{d}x}=e^{(n-1)\\int P(x)\\,\\mathrm{d}x},证毕$$"
   ]
  },
  {
   "cell_type": "markdown",
   "metadata": {},
   "source": [
    "# <font color='red'>、结果没写完"
   ]
  },
  {
   "cell_type": "markdown",
   "metadata": {},
   "source": [
    "四。求解下列方程。\n",
    "（1）$xy'^3=1+y'$"
   ]
  },
  {
   "cell_type": "markdown",
   "metadata": {},
   "source": [
    "解：令$\\frac{\\mathrm dy}{\\mathrm dx}=y'=p=\\frac{1}{t}$,则$x=(1+\\frac{1}{t})t^3=t^3+t^2$.\n",
    "$$所以y=\\int p\\,\\mathrm{d}x+c=\\int \\frac{1}{t}\\,\\mathrm{d}(t^3+t^2)+c=\\int 3t+2\\,\\mathrm{d}t+c=\\frac{3}{2}t^3+2t+c$$\n",
    "所以方程参数形式通解为\n",
    "$$\n",
    "\\begin{cases}\n",
    "x=t^3+t^2\\\\\n",
    "y=\\frac{3}{2}t^2+2t+c\\\\\n",
    "\\end{cases}\n",
    "$$"
   ]
  },
  {
   "cell_type": "markdown",
   "metadata": {},
   "source": [
    "（2）$y'^3-x^3(1-y')=0$"
   ]
  },
  {
   "cell_type": "markdown",
   "metadata": {},
   "source": [
    "解:令$\\frac{\\mathrm dy}{\\mathrm dx}=y'=p=tx$,则$(tx)^3-x^3(1-tx)=0$,即$x=\\frac{t^3-1}{t}=t^2-\\frac{1}{t}$\n",
    "$$所以y=\\int p\\,\\mathrm{d}x+c=\\int t(t^2-\\frac{1}{t})\\,\\mathrm{d}(t^2-\\frac{1}{t})+c=\\int (t^3-1)(2t+\\frac{1}{t^2})\\,\\mathrm{d}t+c$$\n",
    "所以方程参数形式通解为\n",
    "$$\n",
    "\\begin{cases}\n",
    "x=t^2-\\frac{1}{t}\\\\\n",
    "y=\\frac{2}{5}t^5-\\frac{1}{2}t^2+\\frac{1}{t}+c\\\\\n",
    "\\end{cases}\n",
    "$$"
   ]
  },
  {
   "cell_type": "markdown",
   "metadata": {},
   "source": [
    "（3）$y=y'^2e^(y')$"
   ]
  },
  {
   "cell_type": "markdown",
   "metadata": {},
   "source": [
    "解：令$\\frac{\\mathrm dy}{\\mathrm dx}=y'=p$,则$y=p^2e^p$\n",
    "$$所以x=\\int \\frac{1}{p}\\,\\mathrm{d}(p^2e^p)+c=\\int \\frac{1}{p}(2pe^p+p^2e^p)\\,\\mathrm{d}t+c=\\int 2e^p+pe^p\\,\\mathrm{d}p+c=(1+p)e^p+c$$\n",
    "所以方程参数形式通解为\n",
    "$$\n",
    "\\begin{cases}\n",
    "x=(1+p)e^p+c\\\\\n",
    "y=y^2e^p\\\\\n",
    "\\end{cases}\n",
    "$$"
   ]
  },
  {
   "cell_type": "markdown",
   "metadata": {},
   "source": [
    "（4）$y(1+y'^2)=2a$"
   ]
  },
  {
   "cell_type": "markdown",
   "metadata": {},
   "source": [
    "解：令$\\frac{\\mathrm dy}{\\mathrm dx}=y'=\\tan \\varphi$,则$y=\\frac{2a}{1+(\\tan \\varphi)^2}=\\frac{2a}{(\\sec\\varphi)^2}=2a(\\cos\\varphi)^2$\n",
    "$$所以x=\\int \\frac{1}{p}\\,\\mathrm{d}y+c=\\int \\frac{1}{\\tan \\varphi}\\,\\mathrm{d}[2a(\\cos\\varphi)^2]+c=-4a\\int (\\cos\\varphi)^2\\,\\mathrm{d}(\\varphi)+c=-4a\\int \\frac{1+\\cos 2\\varphi}{2}+c=-a(2\\varphi+\\sin 2\\varphi)+c$$\n",
    "所以方程参数形式通解为\n",
    "$$\n",
    "\\begin{cases}\n",
    "x=-a(2\\varphi+\\sin 2\\varphi)+c\\\\\n",
    "y=2a(\\cos\\varphi)^2\\\\\n",
    "\\end{cases}\n",
    "$$"
   ]
  },
  {
   "cell_type": "markdown",
   "metadata": {},
   "source": [
    "（5）$x^2+y'^2=1$"
   ]
  },
  {
   "cell_type": "markdown",
   "metadata": {},
   "source": [
    "解：令$\\frac{\\mathrm dy}{\\mathrm dx}=y'=p=\\cos t$,则$x=[1-(\\cos t)^2]^{\\frac{1}{2}}=\\sin t$\n",
    "$$所以y=\\int \\cos t\\,\\mathrm{d}(\\sin t)+c=\\int (\\cos t)^2\\,\\mathrm{d}t+c=\\int \\frac{1+\\cos 2t}{2}\\,\\mathrm{d}t+c=\\frac{1}{2}t+\\frac{1}{4}\\sin 2t+c$$\n",
    "所以方程参数形式通解为\n",
    "$$\n",
    "\\begin{cases}\n",
    "x=\\sin t\\\\\n",
    "y=\\frac{1}{2}t+\\frac{1}{4}\\sin 2t+c\\\\\n",
    "\\end{cases}\n",
    "$$"
   ]
  },
  {
   "cell_type": "markdown",
   "metadata": {},
   "source": [
    "（6）$y^2(y'-1)=(2-y')^2$"
   ]
  },
  {
   "cell_type": "markdown",
   "metadata": {},
   "source": [
    "解：令$2-y'=yt$,则$1-y'=yt-1$,则$y=t+\\frac{1}{t}$\n",
    "则$\\frac{\\mathrm dy}{\\mathrm dx}=\\frac{\\mathrm du}{\\mathrm dx}-1=u$,$\\frac{\\mathrm du}{u+1}=\\mathrm{d}x$,则ln(u+1)=(x+c)\n",
    "$$则解为ln(x+y+1)=x+c$$"
   ]
  },
  {
   "cell_type": "markdown",
   "metadata": {},
   "source": [
    "# <font color='red'>A 26/9（6）？？"
   ]
  },
  {
   "cell_type": "code",
   "execution_count": null,
   "metadata": {
    "collapsed": true
   },
   "outputs": [],
   "source": []
  }
 ],
 "metadata": {
  "kernelspec": {
   "display_name": "SageMath 7.3",
   "language": "",
   "name": "sagemath"
  },
  "language_info": {
   "codemirror_mode": {
    "name": "ipython",
    "version": 2
   },
   "file_extension": ".py",
   "mimetype": "text/x-python",
   "name": "python",
   "nbconvert_exporter": "python",
   "pygments_lexer": "ipython2",
   "version": "2.7.10"
  }
 },
 "nbformat": 4,
 "nbformat_minor": 0
}
