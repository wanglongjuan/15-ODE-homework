{
 "cells": [
  {
   "cell_type": "markdown",
   "metadata": {},
   "source": [
    "$2(8)$"
   ]
  },
  {
   "cell_type": "markdown",
   "metadata": {},
   "source": [
    "因为$M=x+2y,N=x,且\\frac{\\partial {M}}{\\partial {y}}=2,\\frac{\\partial {N}}{\\partial {x}}=1$\n",
    "\n",
    "所以方程不是恰当的\n",
    "\n",
    "因为$\\frac{\\frac{\\partial {M}}{\\partial {y}}-\\frac{\\partial {N}}{\\partial {x}}}{N}=\\frac{1}{x}$\n",
    "\n",
    "则有$\\mu$=$e^{\\int{\\frac{1}{x} dx}}=x$.\n",
    "\n",
    "方程两边同时乘以$\\mu$得到$2xydx+x^2dy+x^2dx=0$\n",
    "\n",
    "得到$d(x^2y+\\frac{1}{3}x^3)=0$"
   ]
  },
  {
   "cell_type": "markdown",
   "metadata": {},
   "source": [
    "$2(9)$"
   ]
  },
  {
   "cell_type": "markdown",
   "metadata": {},
   "source": [
    "$\\frac{\\partial {M}}{\\partial {y}}=-xsin(x+y)+cos(x+y),\\frac{\\partial {N}}{\\partial {x}}=-xsin(x+y)+cos(x+y)$,\n",
    "\n",
    "所以方程恰当，则得到$d(xsin(x+y))=0$,\n",
    "\n",
    "则通解为$xsin(x+y)=c$,c为任意常数"
   ]
  },
  {
   "cell_type": "markdown",
   "metadata": {},
   "source": [
    "$2(10)$"
   ]
  },
  {
   "cell_type": "markdown",
   "metadata": {},
   "source": [
    "$\\frac{\\partial {M}}{\\partial {y}}=cosx,\\frac{\\partial {N}}{\\partial {x}}=ycosx+cosx-xsinx$\n",
    "\n",
    "方程不是恰当方程，则因为$\\frac{\\frac{\\partial {M}}{\\partial {y}}-\\frac{\\partial {N}}{\\partial {x}}}{-M}=1$\n",
    "\n",
    "$\\mu=e^y$,两边同时乘$\\mu$得到$(ye^ycosxdx+ye^ysinxdy)+(e^yxcosxdy-e^yxsinxdx)=0$\n",
    "\n",
    "即$d[(y-1)e^ysinx+e^yxcosx]=0$\n",
    "\n",
    "则通解为$e^y(y-1)sinx+e^yxcosx=c$,c为任意常数"
   ]
  },
  {
   "cell_type": "markdown",
   "metadata": {},
   "source": [
    "$2(11)$"
   ]
  },
  {
   "cell_type": "markdown",
   "metadata": {},
   "source": [
    "$\\frac{\\partial {M}}{\\partial {y}}=4x+12y^3,\\frac{\\partial {N}}{\\partial {x}}=4x+5y^3$\n",
    "\n",
    "方程不恰当，设$\\mu=x^my^n$两边乘以$\\mu$得到\n",
    "\n",
    "$(4x^{m+1}y^{n+1}+3x^my^{n+4})dx+(2x^{m+2}y^n+5x^{m+1}y^{n+3})dy=0$\n",
    "\n",
    "它是恰当方程的充要条件是\n",
    "\n",
    "$4(n+1)x^{m+1}y^n+3(n+4)x^my^{n+3}=2(m+2)x^{m+1}y^n+5(m+1)x^my^{n+3}$\n",
    "\n",
    "得到$\\mu=x^2y$可得\n",
    "\n",
    "$4x^3y^2dx+3x^2y^5dx+2x^4ydy+5x^3y^4dy=d(x^4y^2)+d(x^3y^5）=0$\n",
    "\n",
    "方程的通解为$x^4y^2+x^3y^5=c$,$x=0,y=0$也是方程的解"
   ]
  },
  {
   "cell_type": "markdown",
   "metadata": {},
   "source": [
    "$4$"
   ]
  },
  {
   "cell_type": "markdown",
   "metadata": {},
   "source": [
    "充分性\n",
    "\n",
    "设$dy-f(x,y)dx=0$有仅依赖于x的积分因子，由于积分因子只依赖于x，所以存在某个$\\varphi(x)$满足\n",
    "\n",
    "$\\frac{\\frac{\\partial {M}}{\\partial {y}}-\\frac{\\partial {N}}{\\partial {x}}}{N}=\\frac{-\\frac{\\partial {f}}{\\partial {y}}-0}{1}=\\varphi(x)$\n",
    "\n",
    "即$\\frac{\\partial {f}}{\\partial {y}}=-\\varphi(x)$积分得到\n",
    "\n",
    "$f(x,y)=-\\varphi(x)y+h(x)$,其中h（x）是关于x的任意可谓函数\n",
    "\n",
    "原方程可化为$\\frac{dy}{dx}=-\\varphi(x)y+h(x)$,\n",
    "\n",
    "证明了$dy-f(x,y)dx=0$是线性微分方程\n",
    "\n",
    "必要性\n",
    "\n",
    "设$dy-f(x,y)dx=0$是线性微分方程，即存在g(x),h(x)使得$f(x,y)=yg(x)+h(x)$.\n",
    "\n",
    "这样$M=-f(x,y)=-yg(x)-h(x)$,\n",
    "\n",
    "$N=1,\\frac{\\frac{\\partial {M}}{\\partial {y}}-\\frac{\\partial {N}}{\\partial {x}}}{N}=\\frac{-g(x)}{1}=-g(x)$,\n",
    "\n",
    "所以方程具有积分因子$\\mu=e^{\\int{-g(x)dx}}$,即方程有仅依赖于x的积分因子"
   ]
  },
  {
   "cell_type": "markdown",
   "metadata": {},
   "source": [
    "$8$"
   ]
  },
  {
   "cell_type": "markdown",
   "metadata": {},
   "source": [
    "伯努利方程为$\\frac{dy}{dx}=P(x)y+Q(x)y^n(n\\neq0,1)$,改写为\n",
    "\n",
    "$dy-P(x)ydx-Q(x)y^ndx=0$乘以$y^{-n}$得到\n",
    "\n",
    "$y^{-n}dy-P(x)y^{1-n}dx-Q(x)y^ndx=0$\n",
    "\n",
    "即$d(y^{1-n})-(1-n)P(x)y^{1-n}dx-(1-n)Q(x)dx=0$\n",
    "\n",
    "然后乘以$e^{-(1-n)\\int{P(x)dx}}$得到\n",
    "\n",
    "$e^{-(1-n)\\int{P(x)dx}}[d(y^{1-n})-(1-n)P(x)y^{1-n}dx]-e^{-(1-n)\\int{P(x)dx}}(1-n)Q(x)dx=0$\n",
    "\n",
    "即得$d[y^{1-n}e^{-(1-n)\\int{P(x)dx}}]-d[\\int{(1-n)Q(x)e^{-(1-n)\\int{P(x)dx}}dx}]=0$\n",
    "\n",
    "因此所求的积分因子是$y^(-n)e^{-(1-n)\\int{P(x)dx}}$"
   ]
  },
  {
   "cell_type": "markdown",
   "metadata": {},
   "source": [
    "$1(1)$"
   ]
  },
  {
   "cell_type": "markdown",
   "metadata": {},
   "source": [
    "令$y^{\\prime}=\\frac{1}{t}$,\n",
    "\n",
    "则方程可以化为$xt^{-3}=1+t^{-1},x=t^3+t^2$\n",
    "\n",
    "及$dy=\\frac{dx}{t}=t^{-1}d(t^3+t^2)=(3t+2)dt$,\n",
    "\n",
    "所以$y=3/2t^2+2t+c$.\n",
    "\n",
    "因此方程的通解为$\\begin{cases}\n",
    "x=t^3+t^2\\\\\n",
    "y=y=3/2t^2+2t+c\n",
    "\\end{cases}$其中t为参数，c为任意常数"
   ]
  },
  {
   "cell_type": "markdown",
   "metadata": {},
   "source": [
    "$1(2)$"
   ]
  },
  {
   "cell_type": "markdown",
   "metadata": {},
   "source": [
    "令$y^{\\prime}=tx$则方程可以化为\n",
    "\n",
    "$(t^3-(1-tx))x^3=0$.\n",
    "\n",
    "解出得到$x=\\frac{1}{t}-t^2$,\n",
    "\n",
    "两边对y求导的到$\\frac{1}{1-t^3}=(-\\frac{q}{t^2}-2t)\\frac{dt}{dy}$,\n",
    "\n",
    "即$dy=[(1-t^3)(-\\frac{1}{t^2}-2t)]dt$\n",
    "\n",
    "积分得到$y=-1/2t^2+2/5t^5+\\frac{1}{t}+c$.\n",
    "\n",
    "所以方程的通解为$\\begin{cases}\n",
    "x=\\frac{1}{t}-t^2\\\\\n",
    "y=-1/2t^2+2/5t^5+\\frac{1}{t}+c\n",
    "\\end{cases}$其中t为参数，c为任意常数"
   ]
  },
  {
   "cell_type": "markdown",
   "metadata": {},
   "source": [
    "$1(3)$"
   ]
  },
  {
   "cell_type": "markdown",
   "metadata": {},
   "source": [
    "令$y^{\\prime}=p,则原方程可化为y=p^2e^p$,\n",
    "\n",
    "对x求导可得到$p=(2p+p^2)e^p\\frac{dp}{dx}$,即$dx=(p+2)e^pdp$,\n",
    "\n",
    "积分得到$x=(p+1)e^p+c$\n",
    "\n",
    "所以方程的通解为$\\begin{cases}\n",
    "x=(p+1)e^p+c\\\\\n",
    "y=p^2e^p\n",
    "\\end{cases}$其中t为参数，c为任意常数"
   ]
  },
  {
   "cell_type": "markdown",
   "metadata": {},
   "source": [
    "$1(4)$"
   ]
  },
  {
   "cell_type": "markdown",
   "metadata": {},
   "source": [
    "令$y^{\\prime}=tant,则原方程化为2acos^2t$,\n",
    "\n",
    "两边关于x求导，可得到$tant=-2asin2t\\frac{dt}{dx}$,即$dx=-4acos^2tdt$,\n",
    "\n",
    "积分得到$x=-a(2t+sin2t)+c$,\n",
    "\n",
    "所以方程的通解为$\\begin{cases}\n",
    "x=-a(2t+sin2t)+c\\\\\n",
    "y=2acos^2t\n",
    "\\end{cases}$其中t为参数，c为任意常数\n",
    "\n",
    "另外$y=2a$也是方程的解"
   ]
  },
  {
   "cell_type": "markdown",
   "metadata": {},
   "source": [
    "$1(5)$"
   ]
  },
  {
   "cell_type": "markdown",
   "metadata": {},
   "source": [
    "令$y^{\\prime}=cost,则方程可化为x=sint$,\n",
    "\n",
    "对y求导得到$dy=cos^2tdt$\n",
    "\n",
    "积分得到$y=\\frac{t}{2}+1/4sin2t+c$\n",
    "\n",
    "所以方程的通解为$\\begin{cases}\n",
    "x=sint\\\\\n",
    "y=\\frac{t}{2}+1/4sin2t+c\n",
    "\\end{cases}$其中t为参数，c为任意常数"
   ]
  },
  {
   "cell_type": "markdown",
   "metadata": {},
   "source": [
    "$1(6)$"
   ]
  },
  {
   "cell_type": "markdown",
   "metadata": {},
   "source": [
    "令$2-y^{\\prime}=ty,则原方程可化为y^2(1-yt)=y^2t^2$,\n",
    "\n",
    "由此可得到$y=\\frac{1}{t}-t,且y^{\\prime}=1+t^2$.\n",
    "\n",
    "因此$dx=\\frac{dy}{y^{\\prime}}=\\frac{(-\\frac{1}{t^2}-1)}{1+t^2}dt=-\\frac{1}{t^2}dt$,\n",
    "\n",
    "积分得到$x=\\frac{1}{t}+c$.\n",
    "\n",
    "于是原方程的参数形式的通解为$\\begin{cases}\n",
    "x=\\frac{1}{t}+c\\\\\n",
    "y=\\frac{1}{t}-t\n",
    "\\end{cases}$或者消去参数t，得到$y=x-\\frac{1}{x-c}-c$,其中c为任意常数"
   ]
  },
  {
   "cell_type": "markdown",
   "metadata": {},
   "source": [
    "# <font color='red'>A 26/9"
   ]
  },
  {
   "cell_type": "code",
   "execution_count": null,
   "metadata": {
    "collapsed": true
   },
   "outputs": [],
   "source": []
  }
 ],
 "metadata": {
  "kernelspec": {
   "display_name": "SageMath 7.3",
   "language": "",
   "name": "sagemath"
  },
  "language_info": {
   "codemirror_mode": {
    "name": "ipython",
    "version": 2
   },
   "file_extension": ".py",
   "mimetype": "text/x-python",
   "name": "python",
   "nbconvert_exporter": "python",
   "pygments_lexer": "ipython2",
   "version": "2.7.10"
  }
 },
 "nbformat": 4,
 "nbformat_minor": 0
}
