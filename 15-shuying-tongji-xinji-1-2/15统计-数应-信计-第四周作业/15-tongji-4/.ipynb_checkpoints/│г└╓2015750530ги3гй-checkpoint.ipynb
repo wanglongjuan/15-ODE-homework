{
 "cells": [
  {
   "cell_type": "markdown",
   "metadata": {},
   "source": [
    "$常微分第三次作业$\n",
    "\n",
    "$常乐      2015750530$\n",
    "\n",
    "$P60页$\n",
    "\n",
    "$2.求下列方程的解$\n",
    "\n",
    "$（8）（x+2y)dx+xdy=0$\n",
    "\n",
    "$(9){x\\cos(x+y)+\\sin（x+y)}dx+x\\cos(x+y)dy=0$\n",
    "\n",
    "$(10)(y\\cos x-x\\sin x)dx+(y\\sin x+x\\cos x)dy=0$\n",
    "\n",
    "$(11)x(4ydx+2xdy)+y^3(3ydx+5xdy)=0$\n",
    "\n",
    "$解：(8)\\frac{\\partial M}{\\partial y}=2,\\frac{\\partial N}{\\partial x}=1$\n",
    "\n",
    "$\\frac{\\partial M}{\\partial y}≠\\frac{\\partial N}{\\partial x}$\n",
    "\n",
    "$所以它不是恰当微分方程$\n",
    "\n",
    "$\\frac{\\frac{\\partial M}{\\partial y}-\\frac{\\partial N}{\\partial x}}{N}=\\frac{1}{x}只与x有关$\n",
    "\n",
    "$得(x^2+2xy)dx+x^2dy=0$\n",
    "\n",
    "$得方程的解为\\frac{1}{3}x^3+x^2y=c$"
   ]
  },
  {
   "cell_type": "markdown",
   "metadata": {},
   "source": [
    "$解：(9)\\frac{\\partial M}{\\partial y}=\\cos(x+y)-x\\sin(x+y),\\frac{\\partial N}{\\partial x}=\\cos(x+y)-x\\sin(x+y)$\n",
    "\n",
    "$所以为恰当微分方程$\n",
    "\n",
    "$\\frac{\\partial u}{\\partial x}={x\\cos(x+y)+\\sin(x+y)},\\frac{[\\partial u}{\\partial y}=x\\cos(x+y)$\n",
    "\n",
    "$所以方程的解为x\\sin (x+y)=c$"
   ]
  },
  {
   "cell_type": "markdown",
   "metadata": {},
   "source": [
    "$解：（10）\\frac{\\partial M}{\\partial y}=\\cos x,\\frac{\\partial N}{\\partial x}=y\\cos x+\\cos x-x\\sin x$\n",
    "\n",
    "$\\frac{\\partial M}{\\partial y}≠\\frac{\\partial N}{\\partial x}$\n",
    "\n",
    "$所以此方程不是恰当微分方程$\n",
    "\n",
    "$\\frac{\\frac{\\partial M}{\\partial y}-\\frac{\\partial N}{\\partial x}}{-M}=1$\n",
    "\n",
    "${e^y(y\\cos x-x\\sin x)dx+e^yy\\sin xdy}+x\\cos xdy=0$\n",
    "\n",
    "$此方程的解为e^y(y-1)\\sin x+xe^y\\cos x=c$"
   ]
  },
  {
   "cell_type": "markdown",
   "metadata": {},
   "source": [
    "$解：（11）\\frac{\\partial M}{\\partial y}≠\\frac{\\partial N}{\\partial x}$\n",
    "\n",
    "$所以此方程不是恰当微分方程$\n",
    "\n",
    "$设积分因子的形式为u=x^my^n$\n",
    "\n",
    "$得：(4x^{m+1}y{n+1}+3x^my^{n+4})dx+(2x^{m+2}y^n+5x^{m+1}y^{n+3}dy=0$\n",
    "\n",
    "$所以它是恰当微分方程的充要条件为4(n+1)x^{m+1}y^n+3(n+4)x^my^{n+3}=2(m+2)x^{m+1}y^n+5(m+1)x^my^{n+3}$\n",
    "\n",
    "$所以积分因子为u=x^2y$\n",
    "\n",
    "$所以方程的解为x^4y^2+x^3y^5=c,并且x=0,y=0也是方程的解。$"
   ]
  },
  {
   "cell_type": "markdown",
   "metadata": {},
   "source": [
    "$P61页$\n",
    "\n",
    "$4.设f(x,y)及\\frac{\\partial f}{\\partial y}连续，试证方程dy-f(x,y)=0为线性微分方程的充要条件是它仅依赖x的积分因子$\n",
    "\n",
    "$解:充分性：$\n",
    "\n",
    "$设它有依赖于x的积分因子$\n",
    "\n",
    "$\\frac{\\partial f}{\\partial y}=-∅（x）$\n",
    "\n",
    "$积分可得f(x,y)=-∅(x)+h(x）$\n",
    "\n",
    "$这样原方程为\\frac{dy}{dx}=-∅(x)y+h(x)$\n",
    "\n",
    "$即证明了dy-f(x,y)dx=0是线性可微方程$\n",
    "\n",
    "$必要性：存在g(x)h(x)使得f(x,y)=yg(x)+h(x)$\n",
    "\n",
    "$M=-yg(x)-h(x) ,N=1$\n",
    "\n",
    "$\\frac{\\frac{\\partial M}{\\partial y}-\\frac{\\partial N}{\\partial y}}{N}=-g(x)只与x有关$\n",
    "\n",
    "$所以得证$\n"
   ]
  },
  {
   "cell_type": "markdown",
   "metadata": {},
   "source": [
    "$8.求出伯努利方程的积分因子$\n",
    "\n",
    "$解：\\frac{ dy}{dx}=P(x)y+Q(x)y^n$\n",
    "\n",
    "$改为dy-P(x)ydx-Q(x)y^ndx=0$\n",
    "\n",
    "$d(y^{1-n})-(1-n)P(x))y^{1-n}dx-(1-n)Q(x)dx=0$\n",
    "\n",
    "\n",
    "$所求积分因子为y^{-n}e^{-(1-n)\\int\\mathrm P(x)\\,\\mathrm{d}x}$"
   ]
  },
  {
   "cell_type": "markdown",
   "metadata": {},
   "source": [
    "$P69页$\n",
    "\n",
    "1.求解下列方程$\n",
    "\n",
    "$(1)xy’^3=1+y’$\n",
    "\n",
    "$(2)y’3-x^3(1-y’)=0$\n",
    "\n",
    "$(3)y=y’^2e^{y’}$\n",
    "\n",
    "$(4)y(1+y’^2)=1$\n",
    "\n",
    "$(5)x^2+y’^2=1$\n",
    "\n",
    "$(6)y^2(y’-1)=(2-y’)^2$\n",
    "\n"
   ]
  },
  {
   "cell_type": "markdown",
   "metadata": {},
   "source": [
    "$解：（1）令\\frac{dy}{dx}=p$\n",
    "\n",
    "$则方程为y^2(p-1)=(2-p)^2$\n",
    "\n",
    "$x=\\frac{1}{p^3}+\\frac{1}{p^2}$\n",
    "\n",
    "$\\frac{dy}{dp}=-\\frac{3}{p^3}-\\frac{2}{p^2}$\n",
    "\n",
    "$y=\\frac{3}{2p^2}+\\frac{2}{p}+c$\n",
    "\n",
    "$所以方程的解为\\begin{cases}x=\\frac{1}{p^3}+\\frac{1}{p^2}\\\\y=\\frac{3}{2p^2}+\\frac{2}{p}+c\\end{cases}$"
   ]
  },
  {
   "cell_type": "markdown",
   "metadata": {},
   "source": [
    "$解：(2)令\\frac{dy}{dx}=p,$\n",
    "\n",
    "$则方程为p^3-x^3(1-p)=0$\n",
    "\n",
    "$令p=tx得x=\\frac{1}{t}-t^2则p=1-t^3$\n",
    "\n",
    "$y=\\frac{1}{t}-\\frac{1}{2}t^2+\\frac{2}{5}t^5+c$\n",
    "\n",
    "$所以方程的解为\\begin{cases}x=\\frac{1}{t}-t^2\\\\y=\\frac{1}{t}-\\frac{1}{2}t^2+\\frac{2}{5}t^5+c\\end{cases}$"
   ]
  },
  {
   "cell_type": "markdown",
   "metadata": {},
   "source": [
    "$解：（3）令\\frac{dy}{dx}=p$\n",
    "\n",
    "$则方程为y=p^2e^p$\n",
    "\n",
    "$对x求导积分得x=(p+1)e^p(2+p)$\n",
    "\n",
    "$所以方程的解为\\begin{cases}x=(p+1)e^p+c\\\\y=p^2e^p\\end{cases}$\n",
    "\n",
    "$另外y=0也是方程的解$"
   ]
  },
  {
   "cell_type": "markdown",
   "metadata": {},
   "source": [
    "$解（4）令\\frac{dy}{dx}=p,则方程为y(1+p^2)=2a$\n",
    "\n",
    "$令p=\\tan t,则y=2a\\cos^2t$\n",
    "\n",
    "$dx=\\frac{dy}{p}=-4a\\cos^2tdt$\n",
    "\n",
    "$方程的解为\\begin{cases}x=-a(2t+sin2t)+c\\\\y=2a\\cos^2t\\end{cases}$\n",
    "\n",
    "$另外y=2a也是方程的解$"
   ]
  },
  {
   "cell_type": "markdown",
   "metadata": {},
   "source": [
    "$解：（5）令\\frac{dy}{dx}=p$\n",
    "\n",
    "$方程为x^2p+p^2=1$\n",
    "\n",
    "$令p=cos t,x=\\sin t$\n",
    "\n",
    "$dy=\\cos^2 tdt$\n",
    "\n",
    "$积分y=\\frac{t}{2}+\\frac{1}{4}\\sin 2t+c$\n",
    "\n",
    "$方程的解为\\begin{cases}x=\\sin t\\\\y=\\frac{t}{2}+\\frac{1}{4}\\sin 2t+c\\end{cases}$"
   ]
  },
  {
   "cell_type": "markdown",
   "metadata": {},
   "source": [
    "$解：（6）令\\frac{dy}{dx}=p$\n",
    "\n",
    "$则方程为y^2(p-1)=(2-p)^2$\n",
    "\n",
    "$令2-p=ty$\n",
    "\n",
    "$方程为y=\\frac{1}{t}-t,p=1+t^2$\n",
    "\n",
    "$dx=\\frac{dy}{p}=-\\frac{1}{t^2}dt$\n",
    "\n",
    "$x=\\frac{1}{t}+c$\n",
    "\n",
    "$所以方程的解为\\begin{cases}x=\\frac{1}{t}+c\\\\y=\\frac{1}{t}-t\\end{cases}$"
   ]
  },
  {
   "cell_type": "markdown",
   "metadata": {
    "collapsed": true
   },
   "source": [
    "# <font color='red'>A +28/9"
   ]
  },
  {
   "cell_type": "code",
   "execution_count": null,
   "metadata": {
    "collapsed": true
   },
   "outputs": [],
   "source": []
  }
 ],
 "metadata": {
  "kernelspec": {
   "display_name": "SageMath 7.3",
   "language": "",
   "name": "sagemath"
  },
  "language_info": {
   "codemirror_mode": {
    "name": "ipython",
    "version": 2
   },
   "file_extension": ".py",
   "mimetype": "text/x-python",
   "name": "python",
   "nbconvert_exporter": "python",
   "pygments_lexer": "ipython2",
   "version": "2.7.10"
  }
 },
 "nbformat": 4,
 "nbformat_minor": 0
}
