{
 "cells": [
  {
   "cell_type": "markdown",
   "metadata": {},
   "source": [
    "                                         常微分第三次作业\n",
    "                               姓名：谭治港     学号：2015750502\n",
    "\n",
    "$P61T2(8)$\n",
    "\n",
    "$因为\\frac{\\partial M}{\\partial y}不等于\\frac{\\partial N}{\\partial x}$\n",
    "\n",
    "$而积分因子为μ=x$\n",
    "\n",
    "$得（2xydx+x^2dy）+x^2dx=0$\n",
    "\n",
    "$所以方程的解为x^3+3x^2y=c,       其中c为任意常数$"
   ]
  },
  {
   "cell_type": "markdown",
   "metadata": {},
   "source": [
    "$(9)$\n",
    "\n",
    "$因为M=N=xcos(x+y)$\n",
    "\n",
    "$而d(xsin(x+y))=0$\n",
    "\n",
    "$所以原方程的解为xsin(x+y)=c,          其中c为任意常数$"
   ]
  },
  {
   "cell_type": "markdown",
   "metadata": {},
   "source": [
    "$(10）$\n",
    "\n",
    "$因为\\frac{\\frac{\\partial M}{\\partial y}-\\frac{\\partial N}{\\partial x}}{-N}=1$\n",
    "\n",
    "$所以方程的积分因子为μ=e^y$\n",
    "\n",
    "$(ye^ycos x d x+ye^ysin x d y)+(e^yxcos x d y-e^yxsin x d x)=0$\n",
    "\n",
    "$所以方程的解为ye^ysin x+e^yxcos x-e^ysin x=c，其中c为任意常数$"
   ]
  },
  {
   "cell_type": "markdown",
   "metadata": {},
   "source": [
    "$(11)$\n",
    "\n",
    "$\\frac{\\partial M}{\\partial y}与\\frac{\\partial N}{\\partial x}不相等$\n",
    "\n",
    "$此处设积分因子的形式为μ=x^my^n$\n",
    "\n",
    "$即（4x^mxy^ny^4+3x^my^ny^4）dx+（2x^mx^2y^n+5x^mxy^ny^3）dy=0$\n",
    "\n",
    "即$\n",
    "\\begin{cases}\n",
    "4n-2m=0\\\\\n",
    "3n-5m+7=0\n",
    "\\end{cases}$\n",
    "$解得：\n",
    "\\begin{cases}\n",
    "m=2\\\\\n",
    "n=1\n",
    "\\end{cases}$\n",
    "\n",
    "$即μ=x^2y$\n",
    "\n",
    "$4x^3y^2dx+3x^2y^5dx+2x^4ydy+5x^3y^4dy=d(x^4y^2)+d(x^3y^5)=0$\n",
    "\n",
    "$所以方程的解为x^4y^2+x^3y^5=c,c为任意常数$\n",
    "\n",
    "$x=0,y=0也是方程的解$"
   ]
  },
  {
   "cell_type": "markdown",
   "metadata": {},
   "source": [
    "\n",
    "\n",
    "$T4$\n",
    "\n",
    "$充分性$\n",
    "$证方程是线性的$\n",
    "\n",
    "$因为积分因子只依赖于x，所以存在φ(x)满足\\frac{\\frac{\\partial M}{\\partial y}-\\frac{\\partial N}{\\partial x}}{N}=\\frac{-\\frac{\\partial f}{\\partial y}-0}{1}=φ(x)$\n",
    "\n",
    "$即\\frac{\\partial f}{\\partial y}=-φ(x)$\n",
    "\n",
    "$积分得f(x,y)=-φ(x)y+c,所以\\frac{dy}{dx}=-φ(x)y+c$\n",
    "\n",
    "$即证明了方程dy-f(x,y)dx=0是线性微分方程$\n",
    "\n",
    "$必要性$\n",
    "\n",
    "$设方程dy-f(x,y)dx=0是线性微分方程，即存在g(x)和h(x)使得f(x,y)=yg(x)+h(x)$\n",
    "\n",
    "$这样M=-f(x,y)=-yg(x)-h(x),N=1$\n",
    "\n",
    "$\\frac{\\frac{\\partial M}{\\partial y}-\\frac{\\partial N}{\\partial x}}{N}=\\frac{-g(x)}{1}=-g(x)$\n",
    "\n",
    "$所以，方程有仅依赖于x的积分因子$"
   ]
  },
  {
   "cell_type": "markdown",
   "metadata": {},
   "source": [
    "$T8$\n",
    "\n",
    ".$伯努利方程为\\frac{dy}{dx}=P(x)y+Q(x)y^n (n不为0,1)$\n",
    "\n",
    "$改写为dy-P(x)ydx-Q(x)y^ndx=0$\n",
    "\n",
    "$方程两边同乘以\\frac{1}{y^n}得\\frac{dy}{y^n}-P(x)\\frac{y}{y^n}dx-Q(x)dx=0$\n",
    "\n",
    "$即d(\\frac{y}{y^n})-(1-n)P(x)\\frac{y}{y^n}dx-(1-n)Q(x)dx=0$\n",
    "\n",
    "$再乘以e^{-(1-n)\\int P(x)\\ dx}$\n",
    "\n",
    "$所以积分因子为\\frac{1}{y^n}e^{-(1-n)\\int P(x)\\ dx}$"
   ]
  },
  {
   "cell_type": "markdown",
   "metadata": {},
   "source": [
    "$P70T1(1)$\n",
    "\n",
    "$令y'=p,得x=\\frac{1}{p^3}+\\frac{1}{p^2}$\n",
    "\n",
    "$关于y 求导\\frac{1}{p}=(\\frac{-3}{p^4}+\\frac{-2}{p^2})\\frac{dp}{dy}$\n",
    "\n",
    "$所以通解为\\begin{cases}x=\\frac{1}{p^3}+\\frac{1}{p^2}\\\\\n",
    "y=\\frac{3}{2p^2}+\\frac{2}{p}+c\n",
    "\\end{cases}$\n",
    "\n",
    "$其中p不为0，c为任意常数$\n"
   ]
  },
  {
   "cell_type": "markdown",
   "metadata": {},
   "source": [
    "$（2）$\n",
    "\n",
    "$设y'=tx$\n",
    "\n",
    "$解得x=\\frac{1}{t}-t^2$\n",
    "\n",
    "$对方程两边同时关于y求导$\n",
    "\n",
    "$得\\frac{1}{1-t^3}=(-\\frac{1}{t^2}-2t)\\frac{dt}{dy}$\n",
    "\n",
    "$积分得y=-\\frac{t^2}{2}+\\frac{2t^5}{5}+\\frac{1}{t}+c$\n",
    "\n",
    "所以，方程的通解为\n",
    "\n",
    "$\n",
    "\\begin{cases}\n",
    "x=\\frac{1}{t}-t^2\\\\\n",
    "y=-\\frac{t^2}{2}+\\frac{2t^5}{5}+\\frac{1}{t}+c \n",
    "\\end{cases}\n",
    "$\n",
    "\n",
    "其中t为参数，c为任意常数"
   ]
  },
  {
   "cell_type": "markdown",
   "metadata": {},
   "source": [
    "$(3)$\n",
    "\n",
    "$设y'=p,则原方程可化为y=p^2e^p$\n",
    "\n",
    "$对x求导数$\n",
    "\n",
    "$得p=(2p+p^2)e^p\\frac{dp}{dx}$\n",
    "\n",
    "$积分后得x=(p+1)e^p+c$\n",
    "\n",
    "$所以，方程的通解为\n",
    "\\begin{cases}\n",
    "x=(p+1)e^p+c\\\\\n",
    "y=p^2e^p\n",
    "\\end{cases}\n",
    "$\n",
    "\n",
    "其中p为参数，c为任意常数"
   ]
  },
  {
   "cell_type": "markdown",
   "metadata": {},
   "source": [
    "$(4)$\n",
    "\n",
    "$设y'=tan t,则原方程化为y=2a(cost)^2$\n",
    "\n",
    "$关于x求导,可得tan t=-2axin 2t\\frac{dt}{dx}$\n",
    "\n",
    "$积分得x=-a(2t+sin 2t)+c$\n",
    "\n",
    "$所以方程的通解为\n",
    "\\begin{cases}\n",
    "x=-a(2t+sin 2t)+c\\\\\n",
    "y=2acos^2 t\n",
    "\\end{cases}\n",
    "$\n",
    "\n",
    "其中t为参数，c为任意常数\n",
    "\n",
    "另外，y=2a也是方程的解"
   ]
  },
  {
   "cell_type": "markdown",
   "metadata": {},
   "source": [
    "$(5)$\n",
    "\n",
    "$令y'=cos t,则方程可化为x=sin t$\n",
    "\n",
    "$对y求导得dy=cos^2tdt,积分得y=\\frac{t}{2}+\\frac{sin 2t}{4}+c$\n",
    "\n",
    "所以，方程的通解为\n",
    "\n",
    "$\n",
    "\\begin{cases}\n",
    "x=sin t\\\\\n",
    "y=\\frac{t}{2}+\\frac{sin 2t}{4}+c\n",
    "\\end{cases}\n",
    "$\n",
    "\n",
    "\n",
    "其中t为参数，c为任意常数"
   ]
  },
  {
   "cell_type": "markdown",
   "metadata": {},
   "source": [
    "$（6）$\n",
    "\n",
    "$令2-y'=ty,则原方程可化为y^2(1-yt)=y^2t^2$\n",
    "\n",
    "$由此得y=\\frac{1}{t}-t,且y'=1+t^2$\n",
    "\n",
    "$所以dx=\\frac{dy}{y'}=\\frac{-\\frac{1}{t^2}-1}{1+t^2}dt=\\frac{-dt}{t^2}$\n",
    "\n",
    "$积分得x=\\frac{1}{t}+c$\n",
    "\n",
    "$所以，原方程的参数形式的通解为\n",
    "\\begin{cases}\n",
    "x=\\frac{1}{t}+c\\\\\n",
    "y=\\frac{1}{t}-t  \n",
    "\\end{cases}\n",
    "$\n",
    "\n",
    "$或消去参数t得y=x-\\frac{1}{x-c}-c,其中c为任意常数$"
   ]
  },
  {
   "cell_type": "markdown",
   "metadata": {
    "collapsed": true
   },
   "source": [
    "# <font color='red'>A 28/9"
   ]
  },
  {
   "cell_type": "code",
   "execution_count": null,
   "metadata": {
    "collapsed": true
   },
   "outputs": [],
   "source": []
  }
 ],
 "metadata": {
  "kernelspec": {
   "display_name": "SageMath 7.3",
   "language": "",
   "name": "sagemath"
  },
  "language_info": {
   "codemirror_mode": {
    "name": "ipython",
    "version": 2
   },
   "file_extension": ".py",
   "mimetype": "text/x-python",
   "name": "python",
   "nbconvert_exporter": "python",
   "pygments_lexer": "ipython2",
   "version": "2.7.10"
  }
 },
 "nbformat": 4,
 "nbformat_minor": 0
}
