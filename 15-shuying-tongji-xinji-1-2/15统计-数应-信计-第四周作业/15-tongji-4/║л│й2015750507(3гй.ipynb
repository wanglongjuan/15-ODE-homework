{
 "cells": [
  {
   "cell_type": "markdown",
   "metadata": {},
   "source": [
    "$P61 习题2.3$   \n",
    "$2.求下列方程的解：$  \n",
    "$(8)(x+2y)dx+xdy=0$  \n",
    "$解：方程可变形为\\frac{dy}{dx}=-\\frac{2y}{x}-1$  \n",
    "$令M=x+2y,N=x$  \n",
    "$则\\frac{\\partial M}{\\partial y}=2,\\frac{\\partial N}{\\partial x}=1$  \n",
    "$\\because \\frac{\\partial M/\\partial y-\\partial N/\\partial x}{N}=\\frac{1}{x}$  \n",
    "$\\therefore 方程有只与x有关的积分因子μ=e^\\int \\frac{1}{x}dx=x$  \n",
    "$以μ=x乘方程两边得到$  \n",
    "$2xydx+x^2dy+x^2dx=0$  \n",
    "$即d(x^2y+\\frac{x^3}{3})=0$  \n",
    "$于是方程的通解为x^3+3x^2y=c$  "
   ]
  },
  {
   "cell_type": "markdown",
   "metadata": {},
   "source": [
    "$(9)[x\\cos (x+y)+\\sin (x+y)]dx+x\\cos (x+y)dy=0$  \n",
    "$解：令M=x\\cos (x+y)+\\sin (x+y),N=x\\cos (x+y)$  \n",
    "$\\frac{\\partial M}{\\partial y}=-\\sin (x+y)+\\cos (x+y)$  \n",
    "$\\frac{\\partial N}{\\partial x}=\\cos (x+y)-x\\sin (x+y)$  \n",
    "$方程为恰当方程，并且可写为d(x\\sin (x+y))=0$  \n",
    "$\\therefore x\\sin (x+y)=c$  "
   ]
  },
  {
   "cell_type": "markdown",
   "metadata": {},
   "source": [
    "$(10)(y\\cos x-x\\sin x)dx+(y\\sin x+x\\cos x)=0$  \n",
    "$解：令M=y\\cos x-x\\sin x,N=y\\sin x+x\\cos x$  \n",
    "$\\frac{\\partial M}{\\partial y}=\\cos x,\\frac{\\partial N}{\\partial x}=y\\cos x+\\cos x-x\\sin x$  \n",
    "$方程不是恰当的$  \n",
    "$\\because \\frac{\\frac{\\partial M}{\\partial y}-\\frac{\\partial N}{\\partial x}}{M}=1$  \n",
    "$\\therefore 方程有积分因子μ=e\\int 1dy=e^y$ \n",
    "$以μ=e^y乘以方程两边，$  \n",
    "$得到(ye^y\\cos xdx+ye^y\\sin xdy)+(e^y\\cos xdx-e^yx\\sin xdx)=0$  \n",
    "$即d[(y-1)e^y\\sin x=e^yx\\cos x]=0$  \n",
    "$于是方程的通解为e^yx\\cos x+e^y(y-1)\\sin x=c$  "
   ]
  },
  {
   "cell_type": "markdown",
   "metadata": {},
   "source": [
    "$(11)x(4ydx+2xdy)+y^3(3ydx+5xdy)=0$  \n",
    "$解：显然知x(4ydx+2xdy)=d(2x^2y)$  \n",
    "$对于方程y^3(3ydx+5xdy)=0,有$  \n",
    "$M=3y^4,N=5xy^3,\\frac{\\partial M}{\\partial y}=12y^3,\\frac{\\partial N}{\\partial x}=5y^3$  \n",
    "$\\because  \\frac{\\frac{\\partial M}{\\partial y}-\\frac{\\partial N}{\\partial x}}{5xy^3}=\\frac{7}{5x}$  \n",
    "$\\therefore 方程有积分因子μ=e\\int \\frac{7}{5x}dx=x^\\frac{7}{5}$  \n",
    "$用μ=x^\\frac{7}{5}乘以方程y^3(3ydx+5xdy)=0两边得$  \n",
    "$3y^4x^\\frac{7}{5}dx+5x^\\frac{12}{5}y^3dy=0$  \n",
    "$即d(\\frac{5}{4}x^\\frac{12}{5}y^4)=0$  \n",
    "$综上所述，即得原方程的通解为8x^2y+5x^\\frac{12}{5}=c$  "
   ]
  },
  {
   "cell_type": "markdown",
   "metadata": {},
   "source": [
    "# <font color='red'>错误"
   ]
  },
  {
   "cell_type": "markdown",
   "metadata": {},
   "source": [
    "$4.设f(x,y)及\\frac{\\partial f}{\\partial y}连续，试证方程dy-f(x,y)dx=0为线性微分方程的充分必要条件是它有仅依赖于x的积分因子$  \n",
    "$证明：充分性$  \n",
    "$设方程dy-f(x,y)dx=0有仅依赖于x的积分因子，欲证该方程是线性的。$  \n",
    "$由于积分因子依赖于x,所以存在某个ψ(x)满足$  \n",
    "$\\frac{\\frac{\\partial M}{\\partial y}-\\frac{\\partial N}{\\partial x}}{N}=\\frac{\\frac{\\partial f}{\\partial y}-0}{1}=ψ(x)$  \n",
    "$即\\frac{\\partial f}{\\partial y}=-ψ(x)$  \n",
    "$对上式两边积分后得f(x,y)=-ψ(x)y+h(x),h(x)是关于x的任意可微函数$  \n",
    "$\\therefore 原方程可写成\\frac{dy}{dx}=-ψ(x)y+h(x)$  \n",
    "$这就证明了dy-f(x,y)dx=0是线性的$  \n",
    "$必要性$  \n",
    "$设方程dy-f(x,y)dx=0是线性微分方程$  \n",
    "$即存在函数g(x),h(x)使得f(x,y)=yg(x)+h(x)$  \n",
    "$M=-f(x,y)=-yg(x)-h(x),N=1,$  \n",
    "$\\frac{\\frac{\\partial M}{\\partial y}-\\frac{\\partial N}{\\partial x}}{N}=\\frac{-g(x)}{1}=-g(x)$  \n",
    "$\\therefore 方程有积分因子μ=e^\\int -g(x)dx$  \n",
    "$这就证明了方程有仅依赖于x的积分因子$  "
   ]
  },
  {
   "cell_type": "markdown",
   "metadata": {},
   "source": [
    "$8.求出伯努利微分方程的积分因子$  \n",
    "$解：伯努利方程为\\frac{dy}{dx}=p(x)y=q(x)y^n,(n≠0,1)$  \n",
    "$可化为dy-p(x)ydx-q(x)y^ndx=0$  \n",
    "$两边同时乘以y^-n得，y^-ndy-p(x)y^(1-n)dx-q(x)dx=0,$  \n",
    "$即d^(1-n)-(1-n)p(x)y^(1-n)dx-(1-n)q(x)dx=0$  \n",
    "$再乘以e^(1-n)\\int p(x)dx得$  \n",
    "$e^-(1-n)\\int p(x)dx[d(y^(1-n))-(1-n)p(x)y^(1-n)dx-e^-(1-n)\\int p(x)dx(1-n)q(x)dx=0$  \n",
    "$即d[y^(1-n)e^-(1-n)\\int p(x)dx]-d[\\int (1-n)q(x)e^-(1-n)\\int p(x)dx(1-n)q(x)dx]=0$  \n",
    "$这就是全微分方程，因此所求的积分因子是μ=y^(-n)e^(n-1)\\int p(x)dx$  \n"
   ]
  },
  {
   "cell_type": "markdown",
   "metadata": {},
   "source": [
    "$P69 习题2.4$  \n",
    "$1.求解下列方程：$  \n",
    "$(1)xy'^3=1+y'$  \n",
    "$解：解出x=\\frac{1+y'}{y'^3}$  \n",
    "$将\\frac{dy}{dx}=p代入，得到x=\\frac{1}{p^3}+\\frac{1}{p^2}≠0$  \n",
    "$上式两边同时对y求导，得到\\frac{1}{p}=(-\\frac{3}{p^4}-\\frac{2}{p^3})\\frac{dp}{dy}$  \n",
    "$两边积分，即得y=\\frac{3}{2p^2}+\\frac{2}{p}+c$  \n",
    "$则方程的通解为\\begin{cases}x=\\frac{1}{p^3}+\\frac{1}{p^2}\\\\y=\\frac{1}{2p^2}+\\frac{2}{p}+c\\end{cases},(p≠0)$    "
   ]
  },
  {
   "cell_type": "markdown",
   "metadata": {},
   "source": [
    "$(2)y'^3-x^3(1-y')=0$  \n",
    "$解：令y'=tx,则原方程化为x^3(t^3-1+tx)=0$  \n",
    "$解出x，得x=\\frac{1}{t}-t^2$  \n",
    "$两边对y求导得到\\frac{1}{1-t^3}=(-\\frac{1}{t^2}\\frac{dt}{dy}$  \n",
    "$dy=[(1-t^3)(-\\frac{1}{t^2}-2)]dt$  \n",
    "$两边积分得到y=-\\frac{t^2}{2}+\\frac{2t^5}{5}+\\frac{1}{t}+c$  \n",
    "$故方程的通解为\\begin{cases}x=\\frac{1}{t}-t^2\\\\y=-\\frac{t^2}{2}+\\frac{2t^5}{5}+\\frac{1}{t}+c\\end{cases}$   "
   ]
  },
  {
   "cell_type": "markdown",
   "metadata": {
    "collapsed": true
   },
   "source": [
    "$(3)y=y'^2e^y$  \n",
    "$解：令y'=p,则原方程化为y=p^2e^p$  \n",
    "$对x求导数，即得p=(2p+p^2)e^p\\frac{dp}{dx}$  \n",
    "$两边积分，即得x=(p+1)e^p+c$  \n",
    "$因此，方程的通解为\\begin{cases}x=(p+1)e^p+c\\\\y=p^2e^p\\end{cases}$  "
   ]
  },
  {
   "cell_type": "markdown",
   "metadata": {},
   "source": [
    "$(4)y(1+y'^2)=2a$  \n",
    "$解：令y'=\\tan t,则原方程化为y=2a(\\cos t)^2$  \n",
    "$两端对x求导数，可得dx=-4a(\\cos t)^2dt$  \n",
    "$两边积分得x=-a(2t+\\sin 2t+c)$  \n",
    "$因此方程的通解为\\begin{cases}x=-a(2t+\\sin 2t+c)\\\\y=2a(\\cos t)^2\\end{cases}$  "
   ]
  },
  {
   "cell_type": "markdown",
   "metadata": {},
   "source": [
    "$(5)x^2+y'^2=1$  \n",
    "$解：令y'=\\cos t,则方程化为x^2+(\\cos t)^2=1$  \n",
    "$解出x得，x=\\sin t$  \n",
    "$对y求导数得\\frac{1}{\\cos t}=\\cos \\frac{dt}{dy}$  \n",
    "$两边积分,得y=\\frac{t}{2}+\\frac{1}{4}\\sin 2t+c$  \n",
    "$因此，方程的通解为\\begin{cases}x=\\sin t\\\\y=\\frac{t}{2}+\\frac{1}{4}\\sin 2t+c\\end{cases}$  "
   ]
  },
  {
   "cell_type": "markdown",
   "metadata": {},
   "source": [
    "$(6)y^2(y'-1)=(2-y')^2$  \n",
    "$解：令2-y'=yt,则原方程化为y^2(1-yt)y^2t^2$  \n",
    "$由此可得y=\\frac{1}{t}-t,并且y'=1+t^2$  \n",
    "$因此dx=\\frac{dy}{y'}=\\frac{(-dt/t^2-1)}{1+t^2}=-\\frac{dt}{t^2}$  \n",
    "$两边积分，得到x=\\frac{1}{t}+c$  \n",
    "$因此方程的通解为y=x-\\frac{1}{x-c}-c,其中c为任意常数$  \n",
    "$当y'=0时，原方程变为-y^2=4,此时方程无解$  "
   ]
  },
  {
   "cell_type": "markdown",
   "metadata": {
    "collapsed": true
   },
   "source": [
    "# <font color='red'>A 28/9"
   ]
  },
  {
   "cell_type": "code",
   "execution_count": null,
   "metadata": {
    "collapsed": true
   },
   "outputs": [],
   "source": []
  }
 ],
 "metadata": {
  "kernelspec": {
   "display_name": "SageMath 7.3",
   "language": "",
   "name": "sagemath"
  },
  "language_info": {
   "codemirror_mode": {
    "name": "ipython",
    "version": 2
   },
   "file_extension": ".py",
   "mimetype": "text/x-python",
   "name": "python",
   "nbconvert_exporter": "python",
   "pygments_lexer": "ipython2",
   "version": "2.7.10"
  }
 },
 "nbformat": 4,
 "nbformat_minor": 0
}
