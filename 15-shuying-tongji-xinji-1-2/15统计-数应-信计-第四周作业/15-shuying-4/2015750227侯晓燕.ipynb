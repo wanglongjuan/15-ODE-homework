{
 "cells": [
  {
   "cell_type": "markdown",
   "metadata": {},
   "source": [
    "2.求下列方程的解：\n",
    "\n",
    "（8）$(x+2y)dx+xdy=0$\n",
    "\n",
    " (9)$[xcos(x+y)+sin(x+y)]dx+xcos(x+y)dy=0$\n",
    " \n",
    " (10)$(ycosx-xcosx)dx+(ysinx+xcosx)dy=0$\n",
    " \n",
    " (11)$x(4ydy+2xdy)+y^3(3ydx+5xdy)=0$"
   ]
  },
  {
   "cell_type": "markdown",
   "metadata": {},
   "source": [
    "解：（8)$$M=x+2y,N=x$$\n",
    "$$\\frac{\\partial M}{\\partial y}=2,\\frac{\\partial N}{\\partial x}=1$$\n",
    "    $$\\frac{\\frac{\\partial M}{\\partial y}-\\frac{\\partial N}{\\partial x}}{N}=\\frac{1}{x}$$\n",
    "    线性方程有只与x有关的积分因子$$u=e^{\\int \\frac{1}{x}\\,\\mathrm {d}x}$$\n",
    "    方程两边同时乘以u\n",
    "    $$xe^{\\int \\frac{1}{x}\\,\\mathrm {d}x}dx+2ye^{\\int \\frac{1}{x}\\,\\mathrm {d}x}dx+xdy=0$$\n",
    "    因此方程的通解为$x^3+3x^2y=c$,c为任意常数"
   ]
  },
  {
   "cell_type": "markdown",
   "metadata": {},
   "source": [
    "(9)$$M=xcos(x+y)+sin(x+y),N=xcos(x+y)$$\n",
    "$$\\frac{\\partial M}{\\partial y}=-xsin(x+y)+cos(x+y),\\frac{\\partial N}{\\partial x}=cos(x+y)-xsin(x+y)$$\n",
    "则方程为恰当微分方程\n",
    "$$\\frac{\\partial u}{\\partial x}=xcos(x+y)+sin(x+y),\\frac{\\partial M}{\\partial y}=xcos(x+y)$$\n",
    "得到$$d(xsin(x+y))=0$$\n",
    "$$故方程的解为xsin(x(x+y))=c，c为任意常数$$"
   ]
  },
  {
   "cell_type": "markdown",
   "metadata": {},
   "source": [
    "(10)$$M=ycosx-xcosx,N=ysinx+xcosx$$\n",
    "$$\\frac{\\partial M}{\\partial y}=cosx,\\frac{\\partial N}{\\partial x}=ycosx+cosx-xsinx$$\n",
    "$$\\frac{\\frac{\\partial M}{\\partial y}-\\frac{\\partial N}{\\partial x}}{N}=1$$\n",
    "故方程有积分因子\n",
    "$$u=e^{\\int 1\\,\\mathrm {d}y}$$\n",
    "方程两边同时乘以u\n",
    "$$ycosxe^{\\int 1\\,\\mathrm {d}y}dx-xcosxe^{\\int 1\\,\\mathrm {d}y}dx+ysinxe^{\\int 1\\,\\mathrm {d}y}dy+xcosxe^{\\int 1\\,\\mathrm {d}y}dy=0$$\n",
    "故$$d[(y-1)e^ysinx+e^yxcosx]=0$$\n",
    "$$所以方程的解为(y-1)e^ysinx+e^yxcosx=c,c为任意常数$$"
   ]
  },
  {
   "cell_type": "markdown",
   "metadata": {},
   "source": [
    "(11)\n",
    "由于$x(4ydy+2xdy)=d（2x^2y）$\n",
    "求方程$y^3(3ydx+5xdy)=0$的解\n",
    "$$M=3y^4,N=5xy^3$$\n",
    "$$\\frac{\\partial M}{\\partial y}=12y^3,\\frac{\\partial N}{\\partial x}=5y^3$$\n",
    " $$\\frac{\\frac{\\partial M}{\\partial y}-\\frac{\\partial N}{\\partial x}}{M}=\\frac{7}{5x}$$\n",
    " 故方程有积分因子\n",
    " $$u=e^{\\int \\frac{7}{5x}\\,\\mathrm {d}x}$$\n",
    " 把方程两边同时乘以u\n",
    " $$3y^4e^{\\int \\frac{7}{5x}\\,\\mathrm {d}x}dx+5xy^3e^{\\int \\frac{7}{5x}\\,\\mathrm {d}x}dy=0$$\n",
    " 可以写成$$d(\\frac{5y^4x^{\\frac{12}{5}}}{4})=0$$\n",
    " 故方程的通解为$$\\frac{5y^4x^{\\frac{12}{5}}}{4}=c,c为任意常数$$"
   ]
  },
  {
   "cell_type": "markdown",
   "metadata": {},
   "source": [
    "# <font color='red'>不正确？？"
   ]
  },
  {
   "cell_type": "markdown",
   "metadata": {},
   "source": [
    "4.设f(x,y)及$\\frac{\\partial f}{\\partial y}$连续，试证方程$dy-f(x,y)dx=0$为线性微分方程组的充要条件是它有仅依赖于x的积分因子的充要条件。"
   ]
  },
  {
   "cell_type": "markdown",
   "metadata": {},
   "source": [
    "必要性：当$dy-f(x,y)dx=0$为线性微分方程时\n",
    "存在两个函数F(x),G(x)\n",
    "$$f(x,y)=yF(x)+G(x)$$\n",
    "$$M=-f(x,y),N=1$$\n",
    " $$\\frac{\\frac{\\partial M}{\\partial y}-\\frac{\\partial N}{\\partial x}}{N}=-f(x,y)$$\n",
    " 故方程有仅依赖于x的积分因子\n",
    " 充分性：方程$dy-f(x,y)dx=0$有仅依赖于x的积分因子u\n",
    " $$M=-f(x,y),N=1$$\n",
    " $$\\frac{\\frac{\\partial M}{\\partial y}-\\frac{\\partial N}{\\partial x}}{N}=\\frac{\\frac{\\partial -f(x,y)}{\\partial y}-\\frac{\\partial 1}{\\partial x}}{N}u$$\n",
    " $$\\frac{\\partial -f(x,y)}{\\partial y}=u$$\n",
    " 对两边积分后，$$f(x,y)=-uy+F(x)$$\n",
    " F(x)是关于x的任意可微函数\n",
    " 所以原方程可化为$dy--uy+F(x)=0$\n",
    " 故原方程为线性微分方程"
   ]
  },
  {
   "cell_type": "markdown",
   "metadata": {},
   "source": [
    "8.求出伯努利微分方程的积分因子\n",
    "伯努利方程为$$\\frac{dy}{dx}=P(x)y+Q(x)y^n$$\n",
    "两边同时乘以$y^{-n}$$$y^{-n}\\frac{dy}{dx}=y^{1-n}P(x)+Q(x)$$\n",
    "两边同时乘以dx$$y^{-n}dy=y^{1-n}P(x)dx+Q(x)dx$$\n",
    "$$M=y^{1-n}P(x)+Q(x),N=y^{-n}$$\n",
    "$$\\frac{\\partial M}{\\partial y}=(1-n)y^{-n}P（x）,\\frac{\\partial N}{\\partial x}=0$$\n",
    "$$\\frac{\\frac{\\partial M}{\\partial y}-\\frac{\\partial N}{\\partial x}}{N}=(1-n)P(x)$$\n",
    "因而线性方程有只有与x有关的积分因子$u=e^{\\int (1-n)P（x）\\,\\mathrm{d}x}$\n",
    "$$\\frac{\\partial uM}{\\partial y}=(1-n)y^{-n}P（x）e^{\\int \\(1-n)P（x）\\,\\mathrm{d}x},\\frac{\\partial uN}{\\partial x}=y^{-n}(1-n)P（x）e^{\\int \\(1-n)P（x）\\,\\mathrm{d}x}$$\n",
    "所以$$\\frac{\\partial uM}{\\partial y}=\\frac{\\partial uN}{\\partial x}$$\n",
    "故伯努利微分方程的积分因子为$u=e^{\\int (1-n)P（x）\\,\\mathrm{d}x}$"
   ]
  },
  {
   "cell_type": "markdown",
   "metadata": {},
   "source": [
    "# <font color='red'>积分因子不正确？？"
   ]
  },
  {
   "cell_type": "markdown",
   "metadata": {
    "collapsed": true
   },
   "source": [
    "1.求解下列方程：\n",
    "\n",
    "（1）$xy'^3=1+y’$\n",
    "\n",
    "（2）$y'^3-x^3(1-y')=0$\n",
    "\n",
    "（3）$y=y'^2e^{y'}$\n",
    "\n",
    "（4）$y(1+y'^2)=2a$\n",
    "\n",
    "（5）$x^2+y'^2=1$\n",
    "\n",
    "（6）$y^2(y'-1)=(2-y')^2$"
   ]
  },
  {
   "cell_type": "markdown",
   "metadata": {},
   "source": [
    "解：（1）令y'=p(p≠0)\n",
    "$$xp^3=1+p$$\n",
    "$$x=\\frac{1+p}{p^3}$$\n",
    "两边同时对y求导$$\\frac{1}{p}=-\\frac{3+2p}{p^4}\\frac{dp}{dy}$$\n",
    "两边同时乘以dy,$$\\frac{1}{p}dy=-\\frac{3+2p}{p^4}dp$$\n",
    "两边同时积分$$y=\\frac{3}{2p^2}+\\frac{2}{p}+c$$\n",
    "所以方程的通解为\n",
    "$$\n",
    "\\begin{cases}\n",
    "x=\\frac{1}{p^3}+\\frac{1}{p^2}\\\\\n",
    "y=\\frac{1}{2p^2}+\\frac{2}{p}+c\\\\\n",
    "\\end{cases}\n",
    "$$\n",
    "c为任意常数"
   ]
  },
  {
   "cell_type": "markdown",
   "metadata": {},
   "source": [
    "（2）令y'=p=tx,则$$（tx）^3-x^3(1-y)=0$$\n",
    "整理得，$$x=\\frac{1-t^3}{t}$$\n",
    "由$\\frac{dy}{dx}=p$，得到$$dy=pdx=txdx=[(1-t^3)(-\\frac{1}{t^2}-2)]dt$$\n",
    "对两边同时积分，得$$y=-\\frac{1}{2}t^2+\\frac{2}{5}t^5+\\frac{1}{t}+c$$\n",
    "故方程的通解为\n",
    "$$\n",
    "\\begin{cases}\n",
    "x=\\frac{1-t^3}{t}\\\\\n",
    "y=-\\frac{1}{2}t^2+\\frac{2}{5}t^5+\\frac{1}{t}+c\\\\\n",
    "\\end{cases}\n",
    "$$\n",
    "c为任意常数"
   ]
  },
  {
   "cell_type": "markdown",
   "metadata": {},
   "source": [
    "（3）记$p=y'$,得$$y=p^2e^{p}$$\n",
    "同时对两边x求导，$$p=2pe^{p}\\frac{dp}{dx}+p^2e^{p}\\frac{dp}{dx}$$\n",
    "同时对两边积分，$$x=(p+1)e^{p}+c$$\n",
    "所以方程的通解为\n",
    "$$\n",
    "\\begin{cases}\n",
    "x=(p+1)e^{p}+c\\\\\n",
    "y=p^2e^{p}\\\\\n",
    "\\end{cases}\n",
    "$$\n",
    "c为任意常数"
   ]
  },
  {
   "cell_type": "markdown",
   "metadata": {},
   "source": [
    "（4）记y'=tant,得$$y(1+tan^2t)=2a$$\n",
    "同时对x求导$$tant=-2asin2t\\frac{dt}{dx}$$\n",
    "整理得$$dx=-4acos^2tdt$$\n",
    "两边同时积分$$x=-a(2t+sin2t+c)$$\n",
    "所以方程的通解为\n",
    "$$\n",
    "\\begin{cases}\n",
    "x=-a(2t+sin2t+c)\\\\\n",
    "y=\\frac{2a}{(1+tan^2t)}\n",
    "\\end{cases}\n",
    "$$\n",
    "c为任意常数"
   ]
  },
  {
   "cell_type": "markdown",
   "metadata": {},
   "source": [
    "(5)令$y'=cost$,得到$$x^2+cos^2t=1$$\n",
    "∴$$x=sint$$\n",
    "两边同时对y求导，$$dy=costdt$$\n",
    "两边同时积分，$$y=\\frac{1}{4}sin2t+\\frac{t}{2}+c$$\n",
    "所以方程的通解为\n",
    "$$\n",
    "\\begin{cases}\n",
    "x=sint\\\\\n",
    "y=\\frac{1}{4}sin2t+\\frac{t}{2}+c\\\\\n",
    "\\end{cases}\n",
    "$$"
   ]
  },
  {
   "cell_type": "markdown",
   "metadata": {},
   "source": [
    "(6)令2-y'=yt,得到\n",
    "$$y^2(1-y't)=y^2t^2$$\n",
    "整理得，$y=\\frac{1}{t}-t$\n",
    "将$y=\\frac{1}{t}-t$代入$y^2(1-y't)=y^2t^2$\n",
    "dx=\\frac{dy}{y'}=\\frac{-1}{t^2}dt\n",
    "两边积分得，$$x=\\frac{1}{t}+c$$\n",
    "方程的通解为\n",
    "$$\n",
    "\\begin{cases}\n",
    "x=\\frac{1}{t}+c\\\\\n",
    "y=\\frac{1}{t}-t\\\\\n",
    "\\end{cases}\n",
    "$$\n",
    "c为任意常数"
   ]
  },
  {
   "cell_type": "markdown",
   "metadata": {
    "collapsed": true
   },
   "source": [
    "# <font color='red'>A 28/9"
   ]
  },
  {
   "cell_type": "code",
   "execution_count": null,
   "metadata": {
    "collapsed": true
   },
   "outputs": [],
   "source": []
  }
 ],
 "metadata": {
  "kernelspec": {
   "display_name": "SageMath 7.3",
   "language": "",
   "name": "sagemath"
  },
  "language_info": {
   "codemirror_mode": {
    "name": "ipython",
    "version": 2
   },
   "file_extension": ".py",
   "mimetype": "text/x-python",
   "name": "python",
   "nbconvert_exporter": "python",
   "pygments_lexer": "ipython2",
   "version": "2.7.10"
  }
 },
 "nbformat": 4,
 "nbformat_minor": 0
}
