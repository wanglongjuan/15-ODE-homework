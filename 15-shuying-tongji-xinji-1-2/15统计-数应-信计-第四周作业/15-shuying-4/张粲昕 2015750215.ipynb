{
 "cells": [
  {
   "cell_type": "markdown",
   "metadata": {
    "collapsed": false
   },
   "source": [
    "P61 2.求下列方程的解：  \n",
    "(8)$(x+2y)\\mathrm{d}+x\\mathrm{d}y=0$"
   ]
  },
  {
   "cell_type": "markdown",
   "metadata": {},
   "source": [
    " (9)$[x\\cos{x+y}+\\sin{x+y}]\\mathrm{d}x+x\\cos{x+y}\\mathrm{d}y=0$"
   ]
  },
  {
   "cell_type": "markdown",
   "metadata": {},
   "source": [
    "(10)$(y\\cos{x}-x\\sin{x})\\mathrm{x}+(y\\sin{x}+x\\cos{x})\\mathrm{d}y=0$"
   ]
  },
  {
   "cell_type": "markdown",
   "metadata": {},
   "source": [
    "(11)$x(4y\\mathrm{d}x+2x\\mathrm{d})+y^3(3y\\mathrm{d}x+5x\\mathrm{d}y)=0$"
   ]
  },
  {
   "cell_type": "markdown",
   "metadata": {},
   "source": [
    "**解:**  \n",
    "(8)令$\\mu=x$  \n",
    "   则原式等于$(x^2+2yx)\\mathrm{d}x+x^2\\mathrm{d}y=0$  \n",
    "   验证发现该方程式恰当微分方程，求积分得解为  \n",
    "   $\\frac{1}{3}x^3+x^2y=c$"
   ]
  },
  {
   "cell_type": "markdown",
   "metadata": {},
   "source": [
    "(9)首先验证其是否为恰当微分方程  \n",
    "   $\\frac{\\partial{M}}{\\partial{y}}=\\frac{\\partial{N}}{\\partial{x}}=\\cos{(x+y)}-x\\sin{(x+y)}$  \n",
    "   显然这是一个恰当微分方程  \n",
    "   那么其通解易知为  \n",
    "   $x\\sin{(x+y)}=c$"
   ]
  },
  {
   "cell_type": "markdown",
   "metadata": {},
   "source": [
    "(10)首先验证其是否为恰当微分方程  \n",
    "$\\frac{\\partial{M}}{\\partial{y}}=\\cos{x}$    \n",
    "$\\frac{\\partial{N}}{\\partial{x}}=y\\cos{x}+\\cos{x}-x\\sin{x}$  \n",
    "这不是一个恰当微分方程  \n",
    "$\\frac{\\frac{\\partial{M}}{\\partial{y}}-\\frac{\\partial{N}}{\\partial{x}}}{-M}=1$  \n",
    "从而$\\mu=e^{\\int1\\mathrm{d}y}=e^y$  \n",
    "求得其通解为$e^yx\\cos(x)+e^y(y-1)\\sin(x)=c$"
   ]
  },
  {
   "cell_type": "markdown",
   "metadata": {},
   "source": [
    "(11)将方程化成  \n",
    "$(4xy+3y^4)\\mathrm{d}x+(2x^2+5xy^3)\\mathrm{d}y=0$的形式  \n",
    "$\\because \\frac{\\partial{M}}{\\partial{y}}=12 \\, y^{3} + 4 \\, x$  \n",
    "$\\frac{\\partial{N}}{\\partial{x}}=5 \\, y^{3} + 4 \\, x$  \n",
    "$\\therefore$该方程不是一个恰当方程,通过观察，发现求导后的函数是齐次函数  \n",
    "令$\\mu=x^ay^b$乘进原式得  \n",
    "$4x^{a+1}y^{b+1}+3y^{b+4}x^{a}$  \n",
    "$2x^{a+2}y^{b}+5x^{a+1}y^{a+3}$\n",
    "可以列出方程  \n",
    "$\n",
    "\\begin {cases}\n",
    "  4(b+1)=2(a+2)\\\\  \n",
    "  3(b+4)=5(a+1)\n",
    "\\end   {cases}\n",
    "$  \n",
    "解得  \n",
    "$\n",
    "\\begin {cases}\n",
    "  a=2\\\\  \n",
    " b=1\n",
    "\\end   {cases}\n",
    "$  \n",
    "带入积分得$x^4y^2+x^3y^5=0$"
   ]
  },
  {
   "cell_type": "markdown",
   "metadata": {
    "collapsed": false
   },
   "source": [
    "4  \n",
    "**证**:$$\\frac{\\frac{\\partial{M}}{\\partial{y}}-\\frac{\\partial{N}}{\\partial{x}}}{N}=\\frac{\\frac{\\partial{f}(x,y)}{\\partial{y}}}{1}$$  \n",
    "若该式是仅关于x的函数，那么$f(x,y)$就是仅关于y的一次和x的函数  \n",
    "变换原式得  \n",
    "$$\\frac{\\mathrm{d}y}{\\mathrm{d}x}=f(x,y)$$\n",
    "显然，由以上条件，方程是线性微分方程"
   ]
  },
  {
   "cell_type": "markdown",
   "metadata": {
    "collapsed": false
   },
   "source": [
    "8  \n",
    "**解**：  \n",
    "变换伯努利方程的形式为:\n",
    "$$(P(x)y+Q(x)y^n)\\mathrm{d}x-\\mathrm{d}y=0$$ \n",
    "两边同时除以$y^n$得  \n",
    "$$(P(x)y^{1-n}+Q(x))\\mathrm{d}x-\\frac{1}{1-n}\\mathrm{d}y^{1-n}=0$$  \n",
    "$$\\frac{\\frac{\\partial{M}}{\\partial{y}}-\\frac{\\partial{N}}{\\partial{x}}}{N}=P(x)(1-n)$$  \n",
    "由线性方程积分因子公式求得$\\mu=e^{(1-n)\\int P(x)\\mathrm{d}x}$\n",
    "因为一开始原式两边同时除以$y^n$所以积分因子为  \n",
    "$$\\mu=y^{-n}e^{(1-n)\\int P(x)\\mathrm{d}x}$$"
   ]
  },
  {
   "cell_type": "markdown",
   "metadata": {
    "collapsed": true
   },
   "source": [
    "P70  \n",
    "1.(1)$xy'^3=1+y'$  \n",
    "$~~$ (2)$y'^3-x^3(1-y')=0$  \n",
    "$~~$ (3)$y=y'^2e^{y'}$  \n",
    "$~~$ (4)$y(1+y'^2)=2a$(a为常数)  \n",
    "$~~$ (5)$x^2+y'^2=1$   \n",
    "$~~$ (6)$y^2(y'-1)=(2-y')^2$"
   ]
  },
  {
   "cell_type": "markdown",
   "metadata": {},
   "source": [
    "**解**:  \n",
    "(1) 令$y'=p=1-t$  \n",
    "   解得$x=\\frac{t}{(t-1)^3}$  \n",
    "   那么$y=\\int 1-t\\mathrm{d}\\frac{t}{(t-1)^3}=-\\frac{4 \\, t - 1}{2 \\, {\\left(t^{2} - 2 \\, t + 1\\right)}}$"
   ]
  },
  {
   "cell_type": "markdown",
   "metadata": {},
   "source": [
    "(2)令$y'=p=tx$解得$t^2-\\frac{1}{t}=x$  \n",
    "那么$y=\\int tx\\mathrm{d}t^2-\\frac{1}{t}=\\frac{2}{5} \\, t^{5} - \\frac{1}{2} \\, t^{2} + \\frac{1}{t}\n",
    "$"
   ]
  },
  {
   "cell_type": "markdown",
   "metadata": {},
   "source": [
    "(3)令$y'=p=\\ln{t}$  \n",
    "那么$y=t\\ln^2{t}$  \n",
    "套入公式得$\\mathrm{d}x=t\\ln^2{t}$  \n",
    "积分得出$x=\\frac{1}{2} \\, t^{2} \\log\\left(t\\right) - \\frac{1}{4} \\, t^{2}$"
   ]
  },
  {
   "cell_type": "markdown",
   "metadata": {},
   "source": [
    "(4)令y'=p=t  \n",
    "带入原式得$y=\\frac{2a}{1+t^2}$  \n",
    "两边求导得$y'=-\\frac{4 \\, a t}{{\\left(t^{2} + 1\\right)}^{2}}$  \n",
    "带入公式得$\\mathrm{d}x=-\\frac{4 \\, a }{{\\left(t^{2} + 1\\right)}^{2}}$   \n",
    "求积分得$x=-2 \\, a {\\left(\\frac{t}{t^{2} + 1} + \\arctan\\left(t\\right)\\right)}$"
   ]
  },
  {
   "cell_type": "markdown",
   "metadata": {},
   "source": [
    "(5)令$y'=\\cos(t)$  \n",
    "则$x=\\sin(t)$  \n",
    "因为$y=\\int y'\\mathrm{d}x$ 将$x$和$y'$带入方程得  \n",
    "$y=\\frac{1}{4}\\sin{2t}+\\frac{1}{2}t$"
   ]
  },
  {
   "cell_type": "code",
   "execution_count": 15,
   "metadata": {
    "collapsed": false
   },
   "outputs": [
    {
     "data": {
      "text/html": [
       "<html><script type=\"math/tex; mode=display\">\\newcommand{\\Bold}[1]{\\mathbf{#1}}\\frac{1}{2} \\, t^{2} \\log\\left(t\\right) - \\frac{1}{4} \\, t^{2}</script></html>"
      ],
      "text/plain": [
       "1/2*t^2*log(t) - 1/4*t^2"
      ]
     },
     "metadata": {},
     "output_type": "display_data"
    },
    {
     "data": {
      "text/plain": [
       "\\frac{1}{2} \\, t^{2} \\log\\left(t\\right) - \\frac{1}{4} \\, t^{2}"
      ]
     },
     "execution_count": 15,
     "metadata": {},
     "output_type": "execute_result"
    }
   ],
   "source": [
    "var('t')\n",
    "m=integral(t*ln(t),t)\n",
    "show(m)\n",
    "latex(m)"
   ]
  },
  {
   "cell_type": "code",
   "execution_count": 29,
   "metadata": {
    "collapsed": false
   },
   "outputs": [
    {
     "data": {
      "text/html": [
       "<html><script type=\"math/tex; mode=display\">\\newcommand{\\Bold}[1]{\\mathbf{#1}}-2 \\, a {\\left(\\frac{t}{t^{2} + 1} + \\arctan\\left(t\\right)\\right)}</script></html>"
      ],
      "text/plain": [
       "-2*a*(t/(t^2 + 1) + arctan(t))"
      ]
     },
     "metadata": {},
     "output_type": "display_data"
    },
    {
     "data": {
      "text/plain": [
       "-2 \\, a {\\left(\\frac{t}{t^{2} + 1} + \\arctan\\left(t\\right)\\right)}"
      ]
     },
     "execution_count": 29,
     "metadata": {},
     "output_type": "execute_result"
    }
   ],
   "source": [
    "var('t','a')\n",
    "m=diff(2*a/(t^2+1),t)\n",
    "n=integral(m/t,t)\n",
    "show(n)\n",
    "latex(n)"
   ]
  },
  {
   "cell_type": "markdown",
   "metadata": {
    "collapsed": true
   },
   "source": [
    "# <font color='red'>A 28/9  还有个题未作完"
   ]
  },
  {
   "cell_type": "code",
   "execution_count": null,
   "metadata": {
    "collapsed": true
   },
   "outputs": [],
   "source": []
  }
 ],
 "metadata": {
  "kernelspec": {
   "display_name": "Python 2",
   "language": "python",
   "name": "python2"
  },
  "language_info": {
   "codemirror_mode": {
    "name": "ipython",
    "version": 2
   },
   "file_extension": ".py",
   "mimetype": "text/x-python",
   "name": "python",
   "nbconvert_exporter": "python",
   "pygments_lexer": "ipython2",
   "version": "2.7.10"
  }
 },
 "nbformat": 4,
 "nbformat_minor": 0
}
