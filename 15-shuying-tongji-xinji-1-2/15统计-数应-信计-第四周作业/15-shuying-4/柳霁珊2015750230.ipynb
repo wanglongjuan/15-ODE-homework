{
 "cells": [
  {
   "cell_type": "markdown",
   "metadata": {},
   "source": [
    "$柳霁珊2015750230$\n",
    "\n",
    "$2.求下列方程的解$\n",
    "\n",
    "$(8)(x+2y)dx+xdy=0$\n",
    "\n",
    "$(9)[xcos(x+y)+sin(x+y)]dx+xcos(x+y)$\n",
    "\n",
    "$(10)(ycosx-xsinx)dx+(ysinx+xcosx)dy=0$\n",
    "\n",
    "$(11)x(4ydx+2xdy)+y^3(3ydx+5xdy)=0$"
   ]
  },
  {
   "cell_type": "markdown",
   "metadata": {},
   "source": [
    "$解：（8）设x+2y=M,x=N$\n",
    "\n",
    "$因为$$$\\frac{\\partial M}{\\partial y}≠\\frac{\\partial N}{\\partial x}$$\n",
    "\n",
    "$$\\frac{\\frac{\\partial M}{\\partial y}-\\frac{\\partial N}{\\partial x}}{N}=\\frac{1}{x}$$\n",
    "\n",
    "$所以方程有关于x的积分因子$$$\\mu=e^{\\int\\frac{1}{x}}dx=x$$\n",
    "\n",
    "$所以(x^2+2xy)dx+x^2dy=0为恰当微分方程$\n",
    "\n",
    "$设$$$\\frac{\\partial u}{\\partial x}=x^2+2y (1)$$\n",
    "\n",
    "$$\\frac{\\partial u}{\\partial y}=x^2 (2)$$\n",
    "\n",
    "$由(1)对x积分得$$$u=\\frac{x^3}{3}+x^2y+\\varphi(y) （3）$$\n",
    "\n",
    "$由（3）对y求导$$$\\frac{\\partial u}{\\partial y}=x^2+\\frac{\\varphi(y）}{dy}=x^2$$\n",
    "\n",
    "$所以\\varphi(y)=0$\n",
    "\n",
    "$所以该方程通解为\\frac{x^3}{3}+x^2y=c$"
   ]
  },
  {
   "cell_type": "markdown",
   "metadata": {},
   "source": [
    "$（9）设xcos(x+y)+sin(x+y)=M,sin(x+y)=N$\n",
    "\n",
    "$因为$$$\\frac{\\partial M}{\\partial y}=\\frac{\\partial N}{\\partial x}$$\n",
    "\n",
    "$所以该方程为恰当微分方程$\n",
    "\n",
    "$设$$$\\frac{\\partial u}{\\partial x}=xcos(x+y)+sin(x+y) (1)$$\n",
    "\n",
    "$$\\frac{\\partial u}{\\partial y}=xcos(x+y) (2)$$\n",
    "\n",
    "$由(1)对x积分得$$$u=xsin(x+y)+\\varphi(y) （3）$$\n",
    "\n",
    "$由（3）对y求导$$$\\frac{\\partial u}{\\partial y}=xcos(x+y)+\\frac{\\varphi(y)}{dx}=xcos(x+y)$$\n",
    "\n",
    "$所以\\varphi(y)=0$\n",
    "\n",
    "$所以该方程通解为xsin(x+y)=c$"
   ]
  },
  {
   "cell_type": "markdown",
   "metadata": {},
   "source": [
    "$（10）设ycosx-xsinx=M,ysinx+xcosx=N$\n",
    "\n",
    "$因为$$$\\frac{\\partial M}{\\partial y}=\\frac{\\partial N}{\\partial x}$$\n",
    "\n",
    "$$\\frac{\\frac{\\partial M}{\\partial y}-\\frac{\\partial N}{\\partial x}}{-M}=1$$\n",
    "\n",
    "$所以方程有关于y的积分因子$$$\\mu=e^{\\int dy}=e^y$$\n",
    "\n",
    "$所以e^y(ycosx-xsinx)dx+e^y(ysinx+xcosx)dy=0为恰当微分方程$\n",
    "\n",
    "$设$$$\\frac{\\partial u}{\\partial x}=e^y(ycosx-xsinx)(1)$$\n",
    "\n",
    "$$\\frac{\\partial u}{\\partial y}= e^y(ysinx+xcosx)(2)$$\n",
    "\n",
    "$由(1)对x积分得$$$u=e^y(xcosx+ysinx-sinx)+\\varphi(y)（3）$$\n",
    "\n",
    "$由（3）对y求导$$$e^y(ysinx+xcosx)+\\varphi(y)=e^y(ysinx+xcosx)$$\n",
    "\n",
    "$所以\\varphi(y)=0$\n",
    "\n",
    "$所以该方程通解为e^ysinx(y-1)+e^ycosx=c$"
   ]
  },
  {
   "cell_type": "markdown",
   "metadata": {},
   "source": [
    "$(11)方程两边同乘以x^2y得$\n",
    "\n",
    "$$(4x^3y^2dx+2x^4ydy)+(3x^2y^5dx+5x^3ydy)=0$$\n",
    "\n",
    "$$d(x^4y^2)+d(x^3y^5)=0$$\n",
    "\n",
    "$所以方程的通解为$$$x^4y^2+x^3y^5=c$$"
   ]
  },
  {
   "cell_type": "markdown",
   "metadata": {},
   "source": [
    "$4.设f(x,y)及\\frac{\\varphi f}{\\varphi y}连续，试证明方程dy-f(x,y)dx=0为线性微分方程的充要条件是他有仅依赖x的积分因子$"
   ]
  },
  {
   "cell_type": "markdown",
   "metadata": {},
   "source": [
    "$解：必要性：若此方程为线性微分方程，则有\\frac{dy}{dx}=P(x)+Q(x)$"
   ]
  },
  {
   "cell_type": "markdown",
   "metadata": {},
   "source": [
    "$则此方程有积分因子\\mu(x)=e^{-\\int P(x)dx},只与x有关$\n",
    "\n",
    "$充分性：若只有与x有关的\\mu(x),则\\mu(x)dy-\\mu(x)f(x,y)dx=0为恰当微分方程$\n",
    "\n",
    "$\\frac{\\partial (-\\mu(x)f(x,y)}{\\partial y}=\\frac{d\\mu(x)}{dx},\\frac{\\partial f}{\\partial y}=-\\frac{\\mu'(x)}{\\mu(x)}$\n",
    "\n",
    "$f=-\\int\\mathrm{\\frac{\\mu'(x)}{\\mu(x)}}dy+Q(x)=\\frac{\\mu'(x)}{\\mu(x)}y+Q(x)=P(x)y+Q(x)$\n",
    "\n",
    "$其中P(x)=-\\frac{\\mu'(x)}{\\mu(x)},于是可化为dy-(P(x）+Q(x))dx=0$\n",
    "\n",
    "$所以该方程即为线性微分方程$"
   ]
  },
  {
   "cell_type": "markdown",
   "metadata": {},
   "source": [
    "$8.求出伯努利微分方程的积分因子$\n",
    "\n",
    "$解：已知伯努利方程为\\frac{dy}{dx}=P(x)y+Q(x)y^n,y≠0$\n",
    "\n",
    "$令z=y^{-n}，方程两边同时乘以z$\n",
    "\n",
    "$得$$$\\frac{dz}{dx}=(1-n)P(x)z+(1-n)Q(x)$$\n",
    "\n",
    "$所以有积分因子$$$\\mu=e^{-\\int(1-n)P(x)dx}$$"
   ]
  },
  {
   "cell_type": "markdown",
   "metadata": {},
   "source": [
    "# <font color='red'>错误"
   ]
  },
  {
   "cell_type": "markdown",
   "metadata": {},
   "source": [
    "$1.求解下列方程$\n",
    "\n",
    "$(1)xy'^3=1+y'$\n",
    "\n",
    "$(2)y'^3-x^3(1-y')=0$\n",
    "\n",
    "$(3)y=y'^2e^y$\n",
    "\n",
    "$(4)y(1+y'^2)=2a(a为常数）$\n",
    "\n",
    "$(5)x^2+y'^2=1$\n",
    "\n",
    "$(6)y^2(y-1)=(2-y')^2$"
   ]
  },
  {
   "cell_type": "markdown",
   "metadata": {},
   "source": [
    "$解：(1)令\\frac{dy}{dx}=p=\\frac{1}{t}，则x=(1+\\frac{1}{t}）t^3=t^3+t^2$\n",
    "\n",
    "$所以y=\\int pdx+c=\\int{\\frac{1}{t}}d(t^3+t^2)+c=1.5t^2+2t+c$\n",
    "\n",
    "$所以该方程通解为$\n",
    "\n",
    "$$x=t^3+t^2$$\n",
    "\n",
    "$$y=1.5t^2+2t+c$$"
   ]
  },
  {
   "cell_type": "markdown",
   "metadata": {},
   "source": [
    "$(2)令\\frac{\\mathrm dy}{\\mathrm dx}=p=tx$\n",
    "\n",
    "$则$$$tx^3-x^3(1-tx)=0$$\n",
    "\n",
    "$即$$$x=\\frac{t^3-1}{t}=t^2-\\frac{1}{t}$$\n",
    "$从而$$$y=\\int p \\mathrm d x+c=\\int t(t^2-\\frac{1}{t})\\mathrm d (t^2-\\frac{1}{t})+c=\\int (2t^4-t-\\frac{1}{t^2})\\mathrm d t+c$$"
   ]
  },
  {
   "cell_type": "markdown",
   "metadata": {},
   "source": [
    "$则得到该方程的通解：$$$x=t^2-\\frac{1}{t}$$ $$y=\\frac{2}{5}t^5-\\frac{1}{2}t^2+\\frac{1}{t}+c$$"
   ]
  },
  {
   "cell_type": "markdown",
   "metadata": {},
   "source": [
    "$（3）令\\frac{dy}{dx}=p.则y=p^2e^p$\n",
    "\n",
    "$从而$$$x=\\int \\frac{1}{p}d (p^2e^p)+c=\\int (2e^p+pe^p)d p+c=(1+p)e^p+c$$\n",
    "\n",
    "$则可以得到该方程的通解：$$$x=(1+p)e^p+c$$\n",
    "\n",
    "$$y=y^2e^p$$"
   ]
  },
  {
   "cell_type": "markdown",
   "metadata": {},
   "source": [
    "$另外y=0也是方程的解$"
   ]
  },
  {
   "cell_type": "markdown",
   "metadata": {},
   "source": [
    "$(4)令\\frac{dy}{dx}=y'=tg\\varphi$\n",
    "\n",
    " $则$$$y=\\frac{2a}{1+tg\\varphi^2}=2a{cos\\varphi}^2$$\n",
    "\n",
    "$所以$$$x={\\int \\limits_{p}^1dy}+c=-4a{\\int {cos\\varphi}^2d \\varphi}+c=-a(2\\varphi+sin2\\varphi)+c$$\n",
    "\n",
    "$所以该方程通解为$$$x=-a(2\\varphi+sin2 \\varphi)+c$$\n",
    "\n",
    "$$y=2a{cos \\varphi}^2$$"
   ]
  },
  {
   "cell_type": "markdown",
   "metadata": {},
   "source": [
    "$（5）令\\frac{dy}{dx}=p=cost,则x=sint$\n",
    "\n",
    "$从而$$$y=\\int cost d(sint)+c=\\int(cost)^2dt+c=\\int{\\frac{1+cos2t}{2}}dt+c=0.5t+0.25sin2t+c$$\n",
    "\n",
    "$所以参数方程的通解为$$$x=sint$$\n",
    "\n",
    "$$y=0.5t+0.25sin2t+c$$"
   ]
  },
  {
   "cell_type": "markdown",
   "metadata": {},
   "source": [
    "$(6)令2-y'=yt,则1-y'=yt-1,$\n",
    "\n",
    "$得$$$y=t+\\frac{1}{t}$$\n",
    "\n",
    "$所以$$$dx=\\frac{dy}{y'}=\\frac{dy}{2-yt}=\\frac{d(t+\\frac{1}{t})}{2-t(t+\\frac{1}{t}）}=-\\frac{1}{t^2}dt$$\n",
    "\n",
    "$所以$$$x=\\int(-\\frac{1}{t^2})dt+c=\\frac{1}{t}+c$$\n",
    "\n",
    "$所以该参数方程的通解为$$$x=\\frac{1}{t}+c$$\n",
    "\n",
    "$$y=t+\\frac{1}{t}$$\n",
    "\n",
    "$所以$$$y=\\frac{1}{x-c}+x-c$$"
   ]
  },
  {
   "cell_type": "markdown",
   "metadata": {
    "collapsed": true
   },
   "source": [
    "# <font color='red'>A 28/9"
   ]
  },
  {
   "cell_type": "code",
   "execution_count": null,
   "metadata": {
    "collapsed": true
   },
   "outputs": [],
   "source": []
  }
 ],
 "metadata": {
  "kernelspec": {
   "display_name": "SageMath 7.3",
   "language": "",
   "name": "sagemath"
  },
  "language_info": {
   "codemirror_mode": {
    "name": "ipython",
    "version": 2
   },
   "file_extension": ".py",
   "mimetype": "text/x-python",
   "name": "python",
   "nbconvert_exporter": "python",
   "pygments_lexer": "ipython2",
   "version": "2.7.10"
  }
 },
 "nbformat": 4,
 "nbformat_minor": 0
}
