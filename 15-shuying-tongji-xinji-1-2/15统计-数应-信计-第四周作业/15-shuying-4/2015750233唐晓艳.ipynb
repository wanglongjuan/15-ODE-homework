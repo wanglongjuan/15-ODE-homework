{
 "cells": [
  {
   "cell_type": "markdown",
   "metadata": {},
   "source": [
    "2.求下列方程的解：\n",
    "（8）$( x+2y)dx+xdy=0$;\n",
    " (9)$[xcos(x+y)+sin(x+y)]dx+xcos(x+y)dy=0$;\n",
    " (10)$(ycosx-xsinx)dx+(ysinx+xcosx)dy=0$;\n",
    " (11)$x(4ydx+2xdy)+y^3(3ydx+5xdy)=0$."
   ]
  },
  {
   "cell_type": "markdown",
   "metadata": {},
   "source": [
    "解：（8）这里$M=x+2y,N=x,\\frac{\\partial N}{\\partial x}=1$\n",
    "         方程不是恰当的。\n",
    "         $$\\frac{\\frac{\\partial M}{\\partial y}-\\frac{\\partial N}{\\partial x}}{N}=\\frac{1}{x}$$\n",
    "         所以方程有积分因子$$u=e^{\\int \\frac{1}{x}\\,\\mathrm{d}x}=x$$\n",
    "         以$u=x$乘以方程两边得$$2xydx+x^2dy+x^2dx=0$$\n",
    "         即$$d(x^2y+\\frac{1}{3}x^3)=0$$\n",
    "         所以，方程的通解为$$x^3+3x^2y=c$$\n",
    "     \n",
    "     (9)这里$M=xcos(x+y)+sin(x+y),N=xcos(x+y)$,有$$\\frac{\\partial M}{\\partial y}=-xsin(x+y)+cos(x+y)$$\n",
    "        $$\\frac{\\partial N}{\\partial x}=cos(x+y)-xsin(x+y)$$\n",
    "        方程是恰当的。\n",
    "        方程写为$$d(xsin(x+y))=0$$\n",
    "        所以，方程的通解为$$xsin(x+y)=c$$ \n",
    "    \n",
    "    (10)这里$M=ycosx-xsinx,N=ysinx+xcosx$,有$$\\frac{\\partial M}{\\partial y}=cosx$$         \n",
    "        $$\\frac{\\partial N}{\\partial x}=ycosx+cosx-xsinx$$\n",
    "        方程不是恰当的。\n",
    "        $$\\frac{\\frac{\\partial M}{\\partial y}-\\frac{\\partial N}{\\partial x}}{M}=1$$\n",
    "        所以方程有积分因子$$u=e^{\\int 1\\,\\mathrm{d}y}=e^y$$\n",
    "        以$u=e^y$乘以方程两边得$$(ye^ycosxdx+ye^ysinxdy)+(e^ycosxdy-e^yxsinxdx)=0$$\n",
    "        即$$d[(y-1)e^ysinx+e^yxcosx]=0$$\n",
    "        所以，方程的通解为$$(y-1)e^ysinx+e^yxcosx=c$$\n",
    "    \n",
    "    (11)显然$x(4ydx+2xdy)=d(2x^2y)$.\n",
    "        对方程$y^3(3ydx+5xdy)=0$有$M=3y^4,N=5xy^3$\n",
    "        $$\\frac{\\partial M}{\\partial y}=12y^3,\\frac{\\partial N}{\\partial x}=5y^3$$\n",
    "        因$$\\frac{\\frac{\\partial M}{\\partial y}-\\frac{\\partial N}{\\partial x}}{5xy^3}=\\frac{7}{5x}$$\n",
    "        所以，方程有积分因子$$u=e^{\\int \\frac{7}{5x}\\,\\mathrm{d}x}=x^{\\frac{7}{5}}$$\n",
    "        以$u=x^{\\frac{7}{5}}$乘以方程$y^3(3ydx+5xdy)=0$两边得$$3y^4x^{\\frac{7}{5}}dx+5x^{\\frac{12}{5}}y^3dy=0$$\n",
    "        即$$d(\\frac{5}{4}x^{\\frac{12}{5}}y^4)=0$$\n",
    "        综上，方程的通解为$$\\frac{5}{4}x^{\\frac{12}{5}}y^4=c$$       "
   ]
  },
  {
   "cell_type": "markdown",
   "metadata": {},
   "source": [
    "4.设$f(x,y)$及$\\frac{\\partial f}{\\partial y}$连续，试证方程$dy-f(x,y)dx=0$为线性微分方程的充要条件是它有仅依赖于$x$的积分因子。"
   ]
  },
  {
   "cell_type": "markdown",
   "metadata": {},
   "source": [
    "解：充分性：设方程$dy-f(x,y)dx=0$有仅依赖于$x$的积分因子。\n",
    "    由于积分因子仅依赖于$x$，所以存在某个$t(x)$满足$$\\frac{\\frac{\\partial M}{\\partial y}-\\frac{\\partial N}{\\partial x}}{N}=\\frac{\\frac{-\\partial f}{\\partial y}-0}{1}=t(x)$$\n",
    "    即$$\\frac{\\partial f}{\\partial y}=-t(x)$$\n",
    "    对上式两边积分得$$f(x,y)=-t(x)y+h(x),h(x)是关于x的任意可微函数$$\n",
    "    所以，原方程可化为$$\\frac{dy}{dx}=-t(x)y+h(x)$$\n",
    "    即$dy-f(x,y)dx=0$为线性的。充分性得证。\n",
    "    必要性：设方程$dy-f(x,y)dx=0$是线性微分方程。即存在函数$g(x),h(x)$ 使得$$f(x,y)=yg(x)+h(x)$$\n",
    "    这样，$M=-f(x,y)=-yg(x)-h(x),N=1$,$$\\frac{\\frac{\\partial M}{\\partial y}-\\frac{\\partial N}{\\partial x}}{N}=\\frac{-g(x)}{1}=-g(x)$$\n",
    "    所以，方程有积分因子$$u=e^{\\int -g(x)\\,\\mathrm{d}x}$$\n",
    "    即方程有仅依赖于$x$的积分因子。必要性得证。"
   ]
  },
  {
   "cell_type": "markdown",
   "metadata": {},
   "source": [
    "8.求出伯努利微分方程的积分因子。"
   ]
  },
  {
   "cell_type": "markdown",
   "metadata": {},
   "source": [
    "解：伯努利方程$\\frac{dy}{dx}=p(x)y+q(x)y^n$化为$$dy-p(x)ydx-q(x)y^ndx=0$$\n",
    "    两边同时乘以$y^{-n}$得$$y^{-n}dy-p(x)y^{1-n}dx-q(x)dx=0$$\n",
    "    即$$d(y^{1-n})-(1-n)p(x)y^{1-n}dx-(1-n)q(x)dx=0$$\n",
    "    再乘以$e^{-(1-n)\\int p(x)\\,\\mathrm{d}x}$化简得$$d[y^{1-n}e^{-(1-n)\\int p(x)\\,\\mathrm{d}x}-d[\\int (1-n)q(x)e^{-(1-n)\\int p(x)\\,\\mathrm{d}x}(1-n)q(x)\\,\\mathrm{d}x]=0$$\n",
    "    故所求积分因子为$$u=y^{-n}e^{(n-1)\\int p(x)\\,\\mathrm{d}x}$$"
   ]
  },
  {
   "cell_type": "markdown",
   "metadata": {},
   "source": [
    "4.求解下列方程：\n",
    "（1）$xy'^3=1+y'$;\n",
    " (2)$y'^3-x^3(1-y')=0$;\n",
    " (3)$y=y'^2e^{y'}$;\n",
    " (4)$y(1+y'^2)=2a(a为常数）$;\n",
    " (5)$x^2+y'^2=1$;\n",
    " (6)$y^2(y'-1)=(2-y')^2$."
   ]
  },
  {
   "cell_type": "markdown",
   "metadata": {},
   "source": [
    "解：（1）解出$x$,并将$\\frac{dy}{dx}=p$代入得$$x=\\frac{1}{p^3}+\\frac{1}{p^2}不等于0$$\n",
    "         上式两边同时对$y$求导得$$\\frac{1}{p}=(-\\frac{3}{p^4}-\\frac{2}{p^3})\\frac{dp}{dy}$$\n",
    "         或$$(3+2p)dp+p^3dy=0$$\n",
    "         两边积分得$$y=\\frac{3}{2p^2}+\\frac{2}{p}+c$$\n",
    "         则方程的通解为\n",
    "         $$\n",
    "         \\begin{cases}\n",
    "         x=\\frac{1}{p^3}+\\frac{1}{p^2}\\\\\n",
    "         y=\\frac{3}{2p^2}+\\frac{2}{p}+c\\\\\n",
    "         \\end{cases}\n",
    "         $$\n",
    "         其中$p$不等于0"
   ]
  },
  {
   "cell_type": "markdown",
   "metadata": {},
   "source": [
    "（2）令$y'=tx$, 则原方程化为$$x^3(t^3-1+tx)=0$$\n",
    "     解出$x$得$$x=\\frac{1}{t}-t^2$$\n",
    "     上式两边同时对$y$求导得$$\\frac{1}{1-t^3}=(-\\frac{1}{t^2}-2t)\\frac{dt}{dy}$$\n",
    "     $$dy=[(1-t^3)(-\\frac{1}{t^2}-2t)]dt$$\n",
    "     两边积分得$$y=-\\frac{1}{2}t^2+\\frac{2}{5}t^5+\\frac{1}{t}+c$$\n",
    "     则方程的通解为\n",
    "         $$\n",
    "         \\begin{cases}\n",
    "         x=\\frac{1}{t}-t^2\\\\\n",
    "         y=-\\frac{1}{2}t^2+\\frac{2}{5}t^5+\\frac{1}{t}+c\\\\\n",
    "         \\end{cases}\n",
    "         $$"
   ]
  },
  {
   "cell_type": "markdown",
   "metadata": {},
   "source": [
    "(3)令$y'=p$, 则原方程化为$$y=p^2e^p$$\n",
    "   对$x$求导得$$p=(2p+p^2)e^p\\frac{dp}{dx}$$\n",
    "   或$$dx=(p+2)e^pdp$$\n",
    "   两边积分得$$x=(p+1)e^p+c$$\n",
    "   则方程的通解为\n",
    "         $$\n",
    "         \\begin{cases}\n",
    "         x=(p+1)e^p+c\\\\\n",
    "         y=y=p^2e^p\\\\\n",
    "         \\end{cases}\n",
    "         $$"
   ]
  },
  {
   "cell_type": "markdown",
   "metadata": {},
   "source": [
    "(4)令$y'=tant$, 则原方程化为$$y=2a(cost)^2$$\n",
    "   上式两边同时对$x$求导得$$tant=-2asin(2t)\\frac{dt}{dx}$$\n",
    "   或$$dx=-4a(cost)^2dt$$\n",
    "   两边积分得$$x=-a(2t+sin(2t)+c)$$\n",
    "   则方程的通解为\n",
    "         $$\n",
    "         \\begin{cases}\n",
    "         x=-a(2t+sin(2t)+c)\\\\\n",
    "         y=2a(cost)^2\\\\\n",
    "         \\end{cases}\n",
    "         $$"
   ]
  },
  {
   "cell_type": "markdown",
   "metadata": {},
   "source": [
    "（5）令$y'=cost$, 则原方程化为$$x^2+(cost)^2=1$$\n",
    "     解出$x$得$$x=sint$$     \n",
    "     上式两边同时对$y$求导得$$\\frac{1}{cost}=cos{\\frac{dt}{dy}}$$\n",
    "     或$$dy=(cost)^2dt$$\n",
    "     两边积分得$$y=\\frac{t}{2}+\\frac{1}{4}sin{2t}+c$$\n",
    "     则方程的通解为\n",
    "         $$\n",
    "         \\begin{cases}\n",
    "         x=sint\\\\\n",
    "         y=\\frac{t}{2}+\\frac{1}{4}sin{2t}+c\\\\\n",
    "         \\end{cases}\n",
    "         $$"
   ]
  },
  {
   "cell_type": "markdown",
   "metadata": {},
   "source": [
    "(6)令$2-y'=yt$, 则原方程化为$$y^2(1-yt)=y^2t^2$$\n",
    "   有$$y=\\frac{1}{t}-t$$\n",
    "   且$$y'=1+t^2$$\n",
    "   因此$$dx=\\frac{dy}{y'}=(\\frac{-\\frac{1}{t^2}-1)dt}{1+t^2}=-\\frac{1}{t^2}dt$$\n",
    "   两边积分得$$x=\\frac{1}{t}+c$$\n",
    "   求得方程的参数形式的通解为\n",
    "        $$\n",
    "         \\begin{cases}\n",
    "         x=\\frac{1}{t}+c\\\\\n",
    "         y=\\frac{1}{t}-t\\\\\n",
    "         \\end{cases}\n",
    "         $$\n",
    "     消去$t$得$$y=x-\\frac{1}{x-c}-c,c为任意常数$$\n",
    "     又，当$y'=0$时，原方程变为$-y^2=4$，方程无解。"
   ]
  },
  {
   "cell_type": "markdown",
   "metadata": {
    "collapsed": true
   },
   "source": [
    "# <font color='red'>A 28/9"
   ]
  },
  {
   "cell_type": "code",
   "execution_count": null,
   "metadata": {
    "collapsed": true
   },
   "outputs": [],
   "source": []
  }
 ],
 "metadata": {
  "kernelspec": {
   "display_name": "SageMath 7.3",
   "language": "",
   "name": "sagemath"
  },
  "language_info": {
   "codemirror_mode": {
    "name": "ipython",
    "version": 2
   },
   "file_extension": ".py",
   "mimetype": "text/x-python",
   "name": "python",
   "nbconvert_exporter": "python",
   "pygments_lexer": "ipython2",
   "version": "2.7.10"
  }
 },
 "nbformat": 4,
 "nbformat_minor": 0
}
