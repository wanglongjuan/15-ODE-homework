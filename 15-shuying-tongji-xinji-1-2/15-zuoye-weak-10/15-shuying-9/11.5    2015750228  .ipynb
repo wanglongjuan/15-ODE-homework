{
 "cells": [
  {
   "cell_type": "markdown",
   "metadata": {
    "collapsed": false
   },
   "source": [
    "# 3求下列方程的通解\n",
    "\n",
    "# （1）   $ t^2x''+tx'-x=0$\n",
    "设$x=t^k$\n",
    "代入方程，得到关于k的方程$k(k-1)+k-1=0$\n",
    "即$k^2-1=0$\n",
    "因此$k_1=1,k_2=-1$\n",
    "从而方程的通解为$x=c_1t+\n",
    "\n",
    "\n",
    "\n",
    "# （2）$t^2x''-4tx'+6x=t$\n",
    "# 解   \n",
    "先求方程$t^2x''-4tx'+6x=0$的通解，设$x=t^k$,代入方程则得到关于k的方程$k(k-1)-4k+6=0$\n",
    "即$(k-2)(k-3)=0$因此$k_1=2,k_2=3$\n",
    "故方程$t^2x''-4tx'+6x=0$的通解为$x=c_1t^2+c_2t^3$\n",
    "\n",
    "利用常数变易法，求已知方程形如$x_1=c_{1}(t)t^2+c_{2}(t)t^3$的一个特解，\n",
    "可得关于\n",
    "\n",
    "$$\n",
    "\\begin{cases}\n",
    "c_{1}'(t)t^2+c_{2}'(t)t^3=0\\\\\n",
    "2c_{1}'(t)t+3c_{2}'(t)t^2=\\frac{1}{t}\n",
    "\\end{cases}\n",
    "$$\n",
    "解得 $B=-1,A=-\\frac{1}{3}$\n",
    "\n",
    "\n",
    "解得\n",
    "$$\n",
    "\\begin{cases}\n",
    "c_{1}'(t)=-\\frac{1}{t^2}\\\\\n",
    "c_{2}'(t)=\\frac{1}{t^3}\n",
    "\\end{cases}\n",
    "$$\n",
    "\n",
    "\n",
    "积分得$c_{1}(t)=\\frac{1}{t}+c_1\\\\\n",
    "c_{2}(t)=-\\frac{1}{2t^2}+c_2$\n",
    "\n",
    "故方程通解为$x=c_1t^2+c_2t^3+\\frac{1}{2}t$\n",
    "\n"
   ]
  },
  {
   "cell_type": "markdown",
   "metadata": {
    "collapsed": true
   },
   "source": [
    "# <font color='red'>A8/11"
   ]
  },
  {
   "cell_type": "code",
   "execution_count": null,
   "metadata": {
    "collapsed": true
   },
   "outputs": [],
   "source": []
  }
 ],
 "metadata": {
  "kernelspec": {
   "display_name": "Python 2",
   "language": "python",
   "name": "python2"
  },
  "language_info": {
   "codemirror_mode": {
    "name": "ipython",
    "version": 2
   },
   "file_extension": ".py",
   "mimetype": "text/x-python",
   "name": "python",
   "nbconvert_exporter": "python",
   "pygments_lexer": "ipython2",
   "version": "2.7.10"
  }
 },
 "nbformat": 4,
 "nbformat_minor": 0
}
