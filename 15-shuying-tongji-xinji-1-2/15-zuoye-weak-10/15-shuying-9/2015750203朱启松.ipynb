{
 "cells": [
  {
   "cell_type": "markdown",
   "metadata": {
    "collapsed": true
   },
   "source": [
    "## 2.求解下列常系数线性微分方程:\n",
    "### (2)$x'''-3ax''+3a^2x'-a^3x=0;$\n",
    "### (3)$x^{(5)}-4x'''=0;$\n",
    " $$(2)解:特征方程\\lambda^3-3a\\lambda^2+3a^2\\lambda-a^3=(\\lambda-a)^3=0解得其特征根为\\lambda=a,为方程的三重根.$$\n",
    " \n",
    " $$所以微分方程有线性无关的解:e^{at},te^{at},t^2e^{at}$$\n",
    " \n",
    " $$故原方程的通解为x=c_1e^{at}+c_2te^{at}+c_3t^2e^{at},(c_1,c_2,c_3为任意常数)$$\n",
    " \n",
    " $$(3)解:特征方程\\lambda^5-4\\lambda^3=\\lambda^3(\\lambda+2)(\\lambda-2)=0解得其特征根为\\lambda_1=0,为方程的三重根,\\lambda_2=2以及\\lambda_3=-2.$$\n",
    " \n",
    " $$所以微分方程有线性无关的解:1,t,t^2,e^{2t,e^{-2t}}$$\n",
    " \n",
    " $$故原方程的通解为x=c_1+c_2t+c_3t^2+c_4e^{2t}+c_5e^{-2t},(c_1,c_2,c_3,c_4,c_5为任意常数)$$"
   ]
  },
  {
   "cell_type": "markdown",
   "metadata": {
    "collapsed": true
   },
   "source": [
    "# <font color='red'>A  8/11"
   ]
  },
  {
   "cell_type": "code",
   "execution_count": null,
   "metadata": {
    "collapsed": true
   },
   "outputs": [],
   "source": []
  }
 ],
 "metadata": {
  "kernelspec": {
   "display_name": "SageMath 7.3",
   "language": "",
   "name": "sagemath"
  },
  "language_info": {
   "codemirror_mode": {
    "name": "ipython",
    "version": 2
   },
   "file_extension": ".py",
   "mimetype": "text/x-python",
   "name": "python",
   "nbconvert_exporter": "python",
   "pygments_lexer": "ipython2",
   "version": "2.7.10"
  }
 },
 "nbformat": 4,
 "nbformat_minor": 0
}
