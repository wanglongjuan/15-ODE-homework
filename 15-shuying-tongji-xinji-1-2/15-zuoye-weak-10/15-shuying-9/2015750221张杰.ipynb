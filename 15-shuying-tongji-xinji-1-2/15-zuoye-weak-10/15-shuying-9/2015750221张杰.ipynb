{
 "cells": [
  {
   "cell_type": "markdown",
   "metadata": {},
   "source": [
    "**数学与应用数学班**"
   ]
  },
  {
   "cell_type": "markdown",
   "metadata": {},
   "source": [
    "**张杰 2015750221**"
   ]
  },
  {
   "cell_type": "markdown",
   "metadata": {},
   "source": [
    "P165——3"
   ]
  },
  {
   "cell_type": "markdown",
   "metadata": {},
   "source": [
    "（1）$t^2x''+tx'-x=0$"
   ]
  },
  {
   "cell_type": "markdown",
   "metadata": {},
   "source": [
    "**解：**设$x=t^k$，则$k$应满足方程$$k(k-1)+k-1=0 或 k^2-1=0$$"
   ]
  },
  {
   "cell_type": "markdown",
   "metadata": {},
   "source": [
    "$\\therefore k_1=1,k_2=-1$"
   ]
  },
  {
   "cell_type": "markdown",
   "metadata": {},
   "source": [
    "$\\therefore$方程的通解为$$x=c_1t+c_2\\cdot\\frac{1}{t}$$"
   ]
  },
  {
   "cell_type": "markdown",
   "metadata": {},
   "source": [
    "(2)$t^2x''-4tx'+6x=t$"
   ]
  },
  {
   "cell_type": "markdown",
   "metadata": {},
   "source": [
    "**解：**应先求出齐次方程$t^2x''-4tx'+6x=0$的通解"
   ]
  },
  {
   "cell_type": "markdown",
   "metadata": {},
   "source": [
    "$\\therefore$令$x=t^k$则$k$应满足方程$$k(k-1)-4k+6=0 或 (k-2)(k-3)=0$$"
   ]
  },
  {
   "cell_type": "markdown",
   "metadata": {},
   "source": [
    "$\\therefore k_1=2,k_2=3$"
   ]
  },
  {
   "cell_type": "markdown",
   "metadata": {},
   "source": [
    "$\\therefore$齐次方程$t^2x''-4tx'+6x=0$的通解为$$x=c_1t^2+c_2t^3$$"
   ]
  },
  {
   "cell_type": "markdown",
   "metadata": {},
   "source": [
    "然后利用常数变易法求已知方程的形如$x=c_1(t)t^2+c_2(t)t^3$的一个特解，易得"
   ]
  },
  {
   "cell_type": "markdown",
   "metadata": {},
   "source": [
    "$$\\left\\{\\begin{array}{c}c_1'(t)t^2+c_2'(t)t^3=0\\\\2c_1'(t)t+3c_2'(t)t^2=\\frac{1}{t}\\end{array}\\right.$$"
   ]
  },
  {
   "cell_type": "markdown",
   "metadata": {},
   "source": [
    "解得$$c_1'(t)=-\\frac{1}{t^2},c_1(t)=\\frac{1}{t}$$$$c_2'(t)=\\frac{1}{t^3},c_2(t)=-\\frac{1}{2t^2}$$"
   ]
  },
  {
   "cell_type": "markdown",
   "metadata": {},
   "source": [
    "$\\therefore$方程的通解为$$x=c_1t^2+c_2t^3+\\frac{1}{2}t$$"
   ]
  },
  {
   "cell_type": "markdown",
   "metadata": {
    "collapsed": true
   },
   "source": [
    "# <font color='red'>A  8/11"
   ]
  },
  {
   "cell_type": "code",
   "execution_count": null,
   "metadata": {
    "collapsed": true
   },
   "outputs": [],
   "source": []
  }
 ],
 "metadata": {
  "kernelspec": {
   "display_name": "SageMath 7.3",
   "language": "",
   "name": "sagemath"
  },
  "language_info": {
   "codemirror_mode": {
    "name": "ipython",
    "version": 2
   },
   "file_extension": ".py",
   "mimetype": "text/x-python",
   "name": "python",
   "nbconvert_exporter": "python",
   "pygments_lexer": "ipython2",
   "version": "2.7.10"
  }
 },
 "nbformat": 4,
 "nbformat_minor": 0
}
