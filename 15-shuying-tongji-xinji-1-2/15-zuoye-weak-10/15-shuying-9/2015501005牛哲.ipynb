{
 "cells": [
  {
   "cell_type": "markdown",
   "metadata": {
    "collapsed": false
   },
   "source": [
    "3.求下列方程的通解\n",
    "（2）t^2x''-4tx'+6x=t\n",
    "解：先求通解。设x=t^k,带入方程则有\n",
    "k(k-1)-4k=6=\n",
    "则（k-2）(k-3)=0,k1=2,k2=3\n",
    "所以方程通解为x=c1t^2+c2t^3\n",
    "利用常数变易法，求特解，列方程：\n",
    "t^2c'1(t)+t^3c'2(t)=0\n",
    "2tc'1(t)+3t^2c'2(t)=1/t\n",
    "解，得：\n",
    "c'1(t)=-1/t^2\n",
    "c'2(t)=1/t^3\n",
    "积分，故方程通解为\n",
    "x=c1t^2+c2t^3+t/2"
   ]
  },
  {
   "cell_type": "markdown",
   "metadata": {
    "collapsed": true
   },
   "source": [
    "# <font color='red'>A- 8/11"
   ]
  },
  {
   "cell_type": "code",
   "execution_count": null,
   "metadata": {
    "collapsed": true
   },
   "outputs": [],
   "source": []
  }
 ],
 "metadata": {
  "kernelspec": {
   "display_name": "Python 2",
   "language": "python",
   "name": "python2"
  },
  "language_info": {
   "codemirror_mode": {
    "name": "ipython",
    "version": 2
   },
   "file_extension": ".py",
   "mimetype": "text/x-python",
   "name": "python",
   "nbconvert_exporter": "python",
   "pygments_lexer": "ipython2",
   "version": "2.7.10"
  }
 },
 "nbformat": 4,
 "nbformat_minor": 0
}
