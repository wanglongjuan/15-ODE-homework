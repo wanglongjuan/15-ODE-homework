{
 "cells": [
  {
   "cell_type": "markdown",
   "metadata": {
    "collapsed": false
   },
   "source": [
    "3.求下列方程的通解  \n",
    "(1)$t^2x''+tx'-x=0$  \n",
    "(2)$t^2x''-4tx'+6x=t$"
   ]
  },
  {
   "cell_type": "markdown",
   "metadata": {},
   "source": [
    "**解：**  \n",
    "(1)寻找方程的形式解$y=x^K$,得到确定K的方程$K(K-1)+K-1=0$  \n",
    "那么$K_1=-1 ~~~~K_2=1$  \n",
    "则其通解为$x=c_1t+c_2t^{-1}$\n",
    "其中$c_1 c_2$为任意常数"
   ]
  },
  {
   "cell_type": "markdown",
   "metadata": {},
   "source": [
    "(2)寻找方程的形式解$y=x^K$,得到确定K的方程$K(K-1)-4K+6=0$  \n",
    "那么$K_1=2  ~~~  K_2=3$  \n",
    "则其通解为$x=c_1^3+c_2^2$"
   ]
  },
  {
   "cell_type": "markdown",
   "metadata": {
    "collapsed": true
   },
   "source": [
    "# <font color='red'>A  8/11"
   ]
  },
  {
   "cell_type": "code",
   "execution_count": null,
   "metadata": {
    "collapsed": true
   },
   "outputs": [],
   "source": []
  }
 ],
 "metadata": {
  "kernelspec": {
   "display_name": "SageMath 7.4",
   "language": "",
   "name": "sage-7.4"
  },
  "language_info": {
   "codemirror_mode": {
    "name": "ipython",
    "version": 2
   },
   "file_extension": ".py",
   "mimetype": "text/x-python",
   "name": "python",
   "nbconvert_exporter": "python",
   "pygments_lexer": "ipython2",
   "version": "2.7.10"
  }
 },
 "nbformat": 4,
 "nbformat_minor": 0
}
