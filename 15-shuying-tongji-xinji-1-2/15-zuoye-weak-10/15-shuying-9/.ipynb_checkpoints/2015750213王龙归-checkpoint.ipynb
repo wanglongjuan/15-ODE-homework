{
 "cells": [
  {
   "cell_type": "markdown",
   "metadata": {},
   "source": [
    "## 3.求下列方程的通解\n",
    "(1).$t^2x''+tx'-x=0$"
   ]
  },
  {
   "cell_type": "markdown",
   "metadata": {},
   "source": [
    "解：寻找方程的形式解为$y=x^k$,所以确定K的方程为  \n",
    "$$K(K-1)+K-1=0$$  \n",
    "也$$(K-1)(K+1)=0$$  \n",
    "∴方程的通解为$x=c_1t+c_2t^{-1}（c_1,c_2是任意常数）$"
   ]
  },
  {
   "cell_type": "markdown",
   "metadata": {},
   "source": [
    "(2).$t^2x''-4tx'+6x=t$"
   ]
  },
  {
   "cell_type": "markdown",
   "metadata": {},
   "source": [
    "解:先求其次线性微分方程$t^2x''-4tx'+6x=0$的通解  \n",
    "寻找通解的特征方程为$$K(K-1)-4K+6=0$$  \n",
    "也即$$(K-2)(K-3)=0$$  \n",
    "所以方程的通解为$x=c_1t^2+c_2t^3(c_1,c_2）为任意常数$  \n",
    "现令原方程的解为$x=c_1(t)t^2+c_2(t)t^3$"
   ]
  },
  {
   "cell_type": "markdown",
   "metadata": {},
   "source": [
    "由通解可以得到确定决定$c_1(t),c_2(t)$的两个方程  \n",
    "$$c_1'(t)t^2+c_2'(t)t^3=0$$  \n",
    "$$c_1'(t)2t+c_2'(t)3t^2=t$$"
   ]
  },
  {
   "cell_type": "markdown",
   "metadata": {},
   "source": [
    "∴$c_1'(t)=-1,c_2'(t)=\\frac{1}{t}(t\\neq  0)$"
   ]
  },
  {
   "cell_type": "markdown",
   "metadata": {},
   "source": [
    "所以$c_1(t)=-t+\\lambda_1,c_2(t)=lnt+\\lambda_2,(\\lambda_1,\\lambda_2)为任意常数$"
   ]
  },
  {
   "cell_type": "markdown",
   "metadata": {},
   "source": [
    "所以原方程的通解为$x=(-t+\\lambda_1)t^2+(lnt+\\lambda_2)t^3$"
   ]
  },
  {
   "cell_type": "markdown",
   "metadata": {
    "collapsed": true
   },
   "source": [
    "# <font color='red'>A  8/11"
   ]
  },
  {
   "cell_type": "code",
   "execution_count": null,
   "metadata": {
    "collapsed": true
   },
   "outputs": [],
   "source": []
  }
 ],
 "metadata": {
  "kernelspec": {
   "display_name": "SageMath 7.3",
   "language": "",
   "name": "sagemath"
  },
  "language_info": {
   "codemirror_mode": {
    "name": "ipython",
    "version": 2
   },
   "file_extension": ".py",
   "mimetype": "text/x-python",
   "name": "python",
   "nbconvert_exporter": "python",
   "pygments_lexer": "ipython2",
   "version": "2.7.10"
  }
 },
 "nbformat": 4,
 "nbformat_minor": 0
}
