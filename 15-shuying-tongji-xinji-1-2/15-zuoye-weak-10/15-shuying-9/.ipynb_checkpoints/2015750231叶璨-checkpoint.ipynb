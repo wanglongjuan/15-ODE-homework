{
 "cells": [
  {
   "cell_type": "code",
   "execution_count": null,
   "metadata": {
    "collapsed": true
   },
   "outputs": [],
   "source": []
  },
  {
   "cell_type": "markdown",
   "metadata": {
    "collapsed": false
   },
   "source": [
    "一、求下列方程的通解。\n",
    "\n",
    "1、$t^2x+tx'-x=0$\n",
    "\n",
    "解：令x=t^k,带入方程得到属于k的方程为：\n",
    "$$k(k-1)+k-1=0$$\n",
    "$$==>k^2-1=0$$\n",
    "得到$$k=1或k=-1$$\n",
    "故方程的通解为$$x=c_1t+c_2\\frac{1}{t}$$\n",
    "2、$t^2x\"-4tx'+6x=t$\n",
    "\n",
    "解：令x=t^k,带入方程$t^2x\"-4tx'+6x=0$得到属于k的方程为：\n",
    "$$k(k-1)-4k+6=0$$\n",
    "$$==>(k-2)(k-3)=0$$\n",
    "故得到$$k=2或k=3$$\n",
    "方程$t^2x\"-4tx'+6x=0$的通解为：\n",
    "$$x=c_1t^2=c_2t^3$$\n",
    "由常数变易法可将形如\n",
    "$$x_1=c_1(t)t^2+t^3c_2(t)$$\n",
    "化为：\n",
    "$$c_1'(t)t^2+t^3c_2'(t)=0$$\n",
    "$$2tc_1'(t)+3t^2c_2'(t)=\\frac{1}{t}$$\n",
    "$$解得：c_1'(t)=-\\frac{1}{t^2},c_1=\\frac{1}{t}\n",
    "c_2'(t)=\\frac{1}{t^3},c_2=-\\frac{1}{2t^2}$$\n",
    "综上原方程的通解为\n",
    "$$x=c_1t^2=c_2t^3+\\frac{t}{2}$$\n",
    "\n"
   ]
  },
  {
   "cell_type": "markdown",
   "metadata": {
    "collapsed": true
   },
   "source": [
    "# <font color='red'>A  8/11"
   ]
  },
  {
   "cell_type": "code",
   "execution_count": null,
   "metadata": {
    "collapsed": true
   },
   "outputs": [],
   "source": []
  },
  {
   "cell_type": "code",
   "execution_count": null,
   "metadata": {
    "collapsed": true
   },
   "outputs": [],
   "source": []
  }
 ],
 "metadata": {
  "kernelspec": {
   "display_name": "Python 2",
   "language": "python",
   "name": "python2"
  },
  "language_info": {
   "codemirror_mode": {
    "name": "ipython",
    "version": 2
   },
   "file_extension": ".py",
   "mimetype": "text/x-python",
   "name": "python",
   "nbconvert_exporter": "python",
   "pygments_lexer": "ipython2",
   "version": "2.7.10"
  }
 },
 "nbformat": 4,
 "nbformat_minor": 0
}
