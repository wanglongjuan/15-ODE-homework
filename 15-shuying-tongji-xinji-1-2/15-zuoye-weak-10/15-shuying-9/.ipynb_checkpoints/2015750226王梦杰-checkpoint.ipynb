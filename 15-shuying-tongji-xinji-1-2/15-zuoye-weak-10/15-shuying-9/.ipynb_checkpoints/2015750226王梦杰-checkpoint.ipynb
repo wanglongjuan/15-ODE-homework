{
 "cells": [
  {
   "cell_type": "markdown",
   "metadata": {},
   "source": [
    "求下列方程的通解"
   ]
  },
  {
   "cell_type": "markdown",
   "metadata": {},
   "source": [
    "$$(1)t^2x''-tx'-x=0$$\n",
    "$$(2)t^2x''-4tx'+6x=t$$"
   ]
  },
  {
   "cell_type": "markdown",
   "metadata": {},
   "source": [
    "解（1）由题可知\n",
    "$令x=t^k$可得\n",
    "$$\n",
    "k(k-1)+k-1=0\n",
    "$$\n",
    "\n",
    "解得\n",
    "\n",
    "$$\n",
    "k_1=1,k_2=-1\n",
    "$$\n",
    "\n",
    "方程通解为\n",
    "\n",
    "$$\n",
    "x=c_1t+c_2\\frac{1}{t}(c_1 c_2为任意常数)\n",
    "$$\n"
   ]
  },
  {
   "cell_type": "markdown",
   "metadata": {},
   "source": [
    "解（2）由题可知\n",
    "$令x=t^k$可得\n",
    "$$\n",
    "k(k-1)-4k+6=0\n",
    "$$\n",
    "\n",
    "解得\n",
    "\n",
    "$$\n",
    "k_1=2,k_2=3\n",
    "$$\n",
    "\n",
    "$$\n",
    "方程t^2x''-4tx'+6x=0的通解为x=c_1t^2+c_2t^3\n",
    "$$\n",
    "\n",
    "通过常数变异法，通解为\n",
    "$$\n",
    "x=c_1(t)t^2+c_2(t)t^3\n",
    "$$\n",
    "\n",
    "可得\n",
    "\n",
    "$$\n",
    "\\begin{cases}\n",
    "c_1(t)'t^2+c_2(t)'t^3=0\\\\\n",
    "c_1(t)'2t+c_2(t)'3t^2=\\frac{1}{t}\n",
    "\\end{cases}\n",
    "$$\n",
    "\n",
    "解得\n",
    "$$\n",
    "\\begin{cases}\n",
    "c_1(t)'=-\\frac{1}{t^2}\\\\\n",
    "c_2(t)'=\\frac{1}{t^3}\n",
    "\\end{cases}\n",
    "$$\n",
    "\n",
    "则\n",
    "$$\n",
    "c_1(t)=\\frac{1}{t}\n",
    "c_2(t)=-\\frac{1}{2t^2}\n",
    "$$\n",
    "故方程的通解为\n",
    "$$\n",
    "x=c_1t^2+c_2t^3+\\frac{1}{2}t\n",
    "$$"
   ]
  },
  {
   "cell_type": "markdown",
   "metadata": {
    "collapsed": true
   },
   "source": [
    "# <font color='red'>A  8/11"
   ]
  },
  {
   "cell_type": "code",
   "execution_count": null,
   "metadata": {
    "collapsed": true
   },
   "outputs": [],
   "source": []
  }
 ],
 "metadata": {
  "kernelspec": {
   "display_name": "SageMath 7.3",
   "language": "",
   "name": "sagemath"
  },
  "language_info": {
   "codemirror_mode": {
    "name": "ipython",
    "version": 2
   },
   "file_extension": ".py",
   "mimetype": "text/x-python",
   "name": "python",
   "nbconvert_exporter": "python",
   "pygments_lexer": "ipython2",
   "version": "2.7.10"
  }
 },
 "nbformat": 4,
 "nbformat_minor": 0
}
