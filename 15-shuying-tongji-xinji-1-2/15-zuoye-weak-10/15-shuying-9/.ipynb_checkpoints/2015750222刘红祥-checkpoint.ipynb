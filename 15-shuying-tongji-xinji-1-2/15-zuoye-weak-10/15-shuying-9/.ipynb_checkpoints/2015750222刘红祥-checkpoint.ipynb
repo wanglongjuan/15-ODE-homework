{
 "cells": [
  {
   "cell_type": "markdown",
   "metadata": {},
   "source": [
    "**第七次作业**\n",
    "\n",
    "2.（2）\n",
    "\n",
    "$$x'''-3ax''+3a^2x'-a^3x=0$$\n",
    "\n",
    "解：特征方程$\\lambda^3-3a\\lambda^2+3a^2\\lambda-a^3=0$\n",
    "\n",
    "有三重根$\\lambda=a$\n",
    "\n",
    "故通解为$$x=c_1e^{at}+c_2te^{at}+c_3t^2e^{at}$$"
   ]
  },
  {
   "cell_type": "markdown",
   "metadata": {
    "collapsed": true
   },
   "source": [
    "(3)$$X^{(5)}-4X'''=0$$\n",
    "\n",
    "解：特征方程$\\lambda^5-4\\lambda^3=0$\n",
    "\n",
    "有三重根$\\lambda=0,\\lambda_4=2,\\lambda_5=-2$\n",
    "\n",
    "故通解为$$x=c_1e^{2t}+c_2e^{-2t}+c_3t^2+c_4t+c_5$$\n",
    "\n",
    "**老师，不好意思，上星期忘记交了，这是补交的上周作业**"
   ]
  },
  {
   "cell_type": "markdown",
   "metadata": {
    "collapsed": true
   },
   "source": [
    "**第八次作业**"
   ]
  },
  {
   "cell_type": "markdown",
   "metadata": {},
   "source": [
    "3,求下列方程的通解\n",
    "\n",
    "$$（1）t^2x''+tx'-x=0$$\n",
    "\n",
    " 解：设$x=t^k$,得到k应该满足的方程\n",
    " \n",
    " $$k(k-1)+k-1=0或k^2-1=0$$\n",
    " \n",
    " $$因此k_1=1,k_2=-1  而方程的通解为x=c_1t+c_2\\frac{1}{t}$$"
   ]
  },
  {
   "cell_type": "markdown",
   "metadata": {},
   "source": [
    "$$(2)t^2x''-4tx'+6x=t$$\n",
    "\n",
    "解：先求$$t^2x''-4tx'+6x=0$$的通解\n",
    "\n",
    "设$x=t^k$,得到k应该满足的方程\n",
    "\n",
    "$$k(k-1)-4k+6=0或(k-2)(k-3)=0$$\n",
    "\n",
    "$$k_1=2,k_2=3$$  \n",
    "\n",
    "而方程$$t^2x''-4tx'+6x=0的通解为x=c_1t^2+c_2t^3$$\n",
    "\n",
    "故利用常数变易法，求已知方程的形如$$x1=c_1(t)t^2+c_2(t)t^3的一个特解$$\n",
    "\n",
    "可得到$$c_1'(t)和c_2't满足的代数方程组$$\n",
    "\n",
    "$$\\begin{cases}t^2c_1't+t^3c_2't=0\\\\2tc_1't+3t^2c_2't=\\frac{1}{t}\\end{cases}$$的解\n",
    "\n",
    "$$c_1't=-\\frac{1}{t^2},c_1t=\\frac{1}{t}$$\n",
    "\n",
    "$$c_2't=\\frac{1}{t^3},c_2t=-\\frac{1}{2t^2}$$\n",
    "\n",
    "方程的通解为$$x=c_1t^2+c_2t^3+\\frac{1}{2}t$$\n"
   ]
  },
  {
   "cell_type": "markdown",
   "metadata": {
    "collapsed": true
   },
   "source": [
    "# <font color='red'>A  8/11"
   ]
  },
  {
   "cell_type": "code",
   "execution_count": null,
   "metadata": {
    "collapsed": true
   },
   "outputs": [],
   "source": []
  }
 ],
 "metadata": {
  "kernelspec": {
   "display_name": "SageMath 7.3",
   "language": "",
   "name": "sagemath"
  },
  "language_info": {
   "codemirror_mode": {
    "name": "ipython",
    "version": 2
   },
   "file_extension": ".py",
   "mimetype": "text/x-python",
   "name": "python",
   "nbconvert_exporter": "python",
   "pygments_lexer": "ipython2",
   "version": "2.7.10"
  }
 },
 "nbformat": 4,
 "nbformat_minor": 0
}
