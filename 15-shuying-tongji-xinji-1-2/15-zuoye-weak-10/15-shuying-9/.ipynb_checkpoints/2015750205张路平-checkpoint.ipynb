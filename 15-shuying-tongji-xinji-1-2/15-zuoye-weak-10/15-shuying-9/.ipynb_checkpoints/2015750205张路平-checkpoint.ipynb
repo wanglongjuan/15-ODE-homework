{
 "cells": [
  {
   "cell_type": "markdown",
   "metadata": {},
   "source": [
    "**P165 (3)**"
   ]
  },
  {
   "cell_type": "markdown",
   "metadata": {},
   "source": [
    "（1）$k^2x''+kx'-x=0$"
   ]
  },
  {
   "cell_type": "markdown",
   "metadata": {},
   "source": [
    "设$x=k^t$\n",
    "\n",
    "则$t$\n",
    "\n",
    "应满足方程\n",
    "\n",
    "$$t(t-1)+t-1=0 或 t^2-1=0$$"
   ]
  },
  {
   "cell_type": "markdown",
   "metadata": {},
   "source": [
    "$t_1=1,t_2=-1$"
   ]
  },
  {
   "cell_type": "markdown",
   "metadata": {},
   "source": [
    "方程的通解为\n",
    "\n",
    "$$x=c_1k+c_2\\cdot\\frac{1}{k}$$"
   ]
  },
  {
   "cell_type": "markdown",
   "metadata": {},
   "source": [
    "(2)$k^2x''-4kx'+6x=k$"
   ]
  },
  {
   "cell_type": "markdown",
   "metadata": {},
   "source": [
    "求出齐次方程\n",
    "\n",
    "$k^2x''-4kx'+6x=0$\n",
    "\n",
    "的通解"
   ]
  },
  {
   "cell_type": "markdown",
   "metadata": {},
   "source": [
    "令$x=k^t$则$t$应满足方程$$t(t-1)-4t+6=0 或 (t-2)(t-3)=0$$"
   ]
  },
  {
   "cell_type": "markdown",
   "metadata": {},
   "source": [
    "$t_1=2,t_2=3$"
   ]
  },
  {
   "cell_type": "markdown",
   "metadata": {},
   "source": [
    "齐次方程$k^2x''-4kx'+6x=0$的通解为$$x=c_1k^2+c_2k^3$$"
   ]
  },
  {
   "cell_type": "markdown",
   "metadata": {},
   "source": [
    "$x=c_1(k)k^2+c_2(k)k^3$"
   ]
  },
  {
   "cell_type": "markdown",
   "metadata": {},
   "source": [
    "$$\\{\\begin{array}{c}c_1'(k)k^2+c_2'(k)k^3=0\\\\2c_1'(k)k+3c_2'(k)k^2=\\frac{1}{k}\\end{array}$$"
   ]
  },
  {
   "cell_type": "markdown",
   "metadata": {},
   "source": [
    "解得\n",
    "\n",
    "$$c_1'(k)=-\\frac{1}{k^2},c_1(k)=\\frac{1}{k}$$\n",
    "\n",
    "$$c_2'(k)=\\frac{1}{k^3},c_2(k)=-\\frac{1}{2k^2}$$"
   ]
  },
  {
   "cell_type": "markdown",
   "metadata": {},
   "source": [
    "方程的通解为$$x=c_1k^2+c_2k^3+\\frac{1}{2}k$$"
   ]
  },
  {
   "cell_type": "markdown",
   "metadata": {
    "collapsed": true
   },
   "source": [
    "# <font color='red'>A  8/11"
   ]
  },
  {
   "cell_type": "code",
   "execution_count": null,
   "metadata": {
    "collapsed": true
   },
   "outputs": [],
   "source": []
  }
 ],
 "metadata": {
  "kernelspec": {
   "display_name": "SageMath 7.3",
   "language": "",
   "name": "sagemath"
  },
  "language_info": {
   "codemirror_mode": {
    "name": "ipython",
    "version": 2
   },
   "file_extension": ".py",
   "mimetype": "text/x-python",
   "name": "python",
   "nbconvert_exporter": "python",
   "pygments_lexer": "ipython2",
   "version": "2.7.10"
  }
 },
 "nbformat": 4,
 "nbformat_minor": 0
}
