{
 "cells": [
  {
   "cell_type": "markdown",
   "metadata": {},
   "source": [
    "# $$常微分作业<八>$$\n",
    "\n",
    "## 姓名：李卓洁\n",
    "\n",
    "## 学号：2015750116"
   ]
  },
  {
   "cell_type": "markdown",
   "metadata": {},
   "source": [
    "## 3.求下列方程的通解\n",
    "\n",
    "## （1）$t^2x^{\\prime\\prime}+tx^\\prime-x=0$\n",
    "\n",
    "## (2)$t^2x^{\\prime\\prime}-4tx^\\prime+6x=t$"
   ]
  },
  {
   "cell_type": "markdown",
   "metadata": {},
   "source": [
    "(1)$解:设x=t^K$,\n",
    "\n",
    "$所以可知：K应满足的方程K(k-1)+K-1=0即(K+1)(K-1)=0$\n",
    "\n",
    "$解得：K_{1,2}=±1$\n",
    "\n",
    "$从而方程的通解为x=c_1t+c_2\\frac{1}{t},其中c_1,c_2为任意常数$\n",
    "\n",
    "(2)$解:设x=t^K,代入其所对应的齐次方程$\n",
    "   \n",
    "   $可得：K(k-1)-4K+6=0即(k-2)(K-3)=0$\n",
    "\n",
    "$解得：K_{1,2}=2,3,从而齐次方程的通解为x=c_1t^2+c_2t^3$\n",
    "\n",
    "令非齐次方程的特解为$\\tilde x=at$，代入原方程得$-4at+6at=t$\n",
    "\n",
    "所以$t=\\frac{1}{2}$,所以$\\tilde x=\\frac{1}{2}t$\n",
    "\n",
    "因此原方程的通解为$x=c_1t^2+c_2t^3+\\frac{1}{2}t其中c_1,c_2为任意常数$\n"
   ]
  },
  {
   "cell_type": "markdown",
   "metadata": {
    "collapsed": true
   },
   "source": [
    "# <font color='red'>A  8/11"
   ]
  },
  {
   "cell_type": "code",
   "execution_count": null,
   "metadata": {
    "collapsed": true
   },
   "outputs": [],
   "source": []
  }
 ],
 "metadata": {
  "kernelspec": {
   "display_name": "SageMath 7.3",
   "language": "",
   "name": "sagemath"
  },
  "language_info": {
   "codemirror_mode": {
    "name": "ipython",
    "version": 2
   },
   "file_extension": ".py",
   "mimetype": "text/x-python",
   "name": "python",
   "nbconvert_exporter": "python",
   "pygments_lexer": "ipython2",
   "version": "2.7.10"
  }
 },
 "nbformat": 4,
 "nbformat_minor": 0
}
