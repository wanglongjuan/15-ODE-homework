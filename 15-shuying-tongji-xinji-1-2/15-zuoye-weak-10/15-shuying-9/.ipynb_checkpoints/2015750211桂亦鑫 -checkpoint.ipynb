{
 "cells": [
  {
   "cell_type": "markdown",
   "metadata": {},
   "source": [
    "# 第十周 常微分方程作业  2015750211"
   ]
  },
  {
   "cell_type": "markdown",
   "metadata": {},
   "source": [
    "## P165"
   ]
  },
  {
   "cell_type": "markdown",
   "metadata": {},
   "source": [
    "### 3.求下列方程的通解.\n",
    "### (1)$t^2x''+tx'-x=0;$\n",
    "### (2)$t^2x''-4tx'+6x=t;$\n",
    "**(桂亦鑫2015750211)**"
   ]
  },
  {
   "cell_type": "markdown",
   "metadata": {},
   "source": [
    "## (1)解:寻找方程的形式解$x=t^{K}$,得到确定$K$的方程$$K(K-1)+K-1=0.$$解得$$K_1=1,K_2=-1.$$\n",
    "### 因此方程的通解为$$x=c_1t+c_2\\frac{1}{t},(其中c_1,c_2为任意常数)$$\n",
    "**(桂亦鑫2015750211)**"
   ]
  },
  {
   "cell_type": "markdown",
   "metadata": {},
   "source": [
    "### (2)解:先计算方程$t^2x''-4tx'+6x=0$的基本解组,寻找方程的形式解$x=t^{K}.$得到确定$K$的方程$$K(K-1)-4K+6=0$$\n",
    "### 解得$$K_1=2,K_2=3$$\n",
    "### 所以方程的基本解组为$$x=t^2,x=t^3$$\n",
    "### 令$t=e^y$,则有$$\\frac{\\mathrm d^2x}{\\mathrm d y^2}-5\\frac{\\mathrm d x}{\\mathrm d y}+6y=e^y$$\n",
    "### 由比较系数法可得方程有形如$$x=Ae^y$$的特解,比较系数可得$$A=\\frac{1}{2}$$\n",
    "### 所以方程的特解为$$x=\\frac{1}{2}e^y=\\frac{1}{2}t$$\n",
    "### 故方程的通解为$$x=c_1t^2+c_2t^3+\\frac{1}{2}t,(其中c_1,c_2为任意常数)$$\n",
    "\n",
    "**(桂亦鑫2015750211)**"
   ]
  },
  {
   "cell_type": "markdown",
   "metadata": {
    "collapsed": true
   },
   "source": [
    "# <font color='red'>A+  8/11"
   ]
  },
  {
   "cell_type": "code",
   "execution_count": null,
   "metadata": {
    "collapsed": true
   },
   "outputs": [],
   "source": []
  }
 ],
 "metadata": {
  "kernelspec": {
   "display_name": "SageMath 7.3",
   "language": "",
   "name": "sagemath"
  },
  "language_info": {
   "codemirror_mode": {
    "name": "ipython",
    "version": 2
   },
   "file_extension": ".py",
   "mimetype": "text/x-python",
   "name": "python",
   "nbconvert_exporter": "python",
   "pygments_lexer": "ipython2",
   "version": "2.7.10"
  }
 },
 "nbformat": 4,
 "nbformat_minor": 0
}
