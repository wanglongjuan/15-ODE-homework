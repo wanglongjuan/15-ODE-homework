{
 "cells": [
  {
   "cell_type": "markdown",
   "metadata": {},
   "source": [
    "$3.求下列方程的通解：$\n",
    "\n",
    "$(1)t^2x''+tx'-x=0;$\n",
    "\n",
    "$解：设x=t^K,得到K应该满足的方程$$K(K-1)+K-1=0$$\n",
    "或者K^2-1=0$\n",
    "\n",
    "$因此，K_1=1,K_2=-1,方程的通解为:\n",
    "$$x=c_1t+c_2\\frac{1}{t}$$,其中c_1，c_2为常数.$"
   ]
  },
  {
   "cell_type": "markdown",
   "metadata": {},
   "source": [
    "$(2)t^2x''-4tx'+6x=t$\n",
    "\n",
    "解：先求对应的欧拉方程t^2x''-4tx'+6x=0的通解。设x=t^K,得到K应该满足的方程$$K(K-1)-4K+6=0$$\n",
    "\n",
    "解得$K_1=2,K_2=3$，得到通解为$x=c_1t^2+c_2t^3$，其中$c_1，c_2为常数$\n",
    "\n",
    "再求非齐次线性微分方程的一个特解。这里$f(t)=t,\\lambda=0不是特征根，则特解形如~x=A+Bt$代入原方程，得到$$-4tB+6(A+Bt)=t$$,比较系数得$A=0,B=\\frac{1}{2}$,则原方程的通解为$$x=c_1t^2+c_2t^3+\\frac{1}{2}t$$."
   ]
  },
  {
   "cell_type": "markdown",
   "metadata": {},
   "source": [
    "$2015750230 柳霁珊$"
   ]
  },
  {
   "cell_type": "markdown",
   "metadata": {
    "collapsed": true
   },
   "source": [
    "# <font color='red'>A  8/11"
   ]
  },
  {
   "cell_type": "code",
   "execution_count": null,
   "metadata": {
    "collapsed": true
   },
   "outputs": [],
   "source": []
  }
 ],
 "metadata": {
  "kernelspec": {
   "display_name": "SageMath 7.3",
   "language": "",
   "name": "sagemath"
  },
  "language_info": {
   "codemirror_mode": {
    "name": "ipython",
    "version": 2
   },
   "file_extension": ".py",
   "mimetype": "text/x-python",
   "name": "python",
   "nbconvert_exporter": "python",
   "pygments_lexer": "ipython2",
   "version": "2.7.10"
  }
 },
 "nbformat": 4,
 "nbformat_minor": 0
}
