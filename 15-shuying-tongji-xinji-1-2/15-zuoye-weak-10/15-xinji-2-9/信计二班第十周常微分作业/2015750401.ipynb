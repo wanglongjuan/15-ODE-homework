{
 "cells": [
  {
   "cell_type": "markdown",
   "metadata": {},
   "source": [
    "常微分方程第十次作业\n",
    "\n",
    "2015750401"
   ]
  },
  {
   "cell_type": "markdown",
   "metadata": {},
   "source": [
    "$3.(1)解:特征方程:t^2\\lambda ^2+t\\lambda-1=0$\n",
    "\n",
    "$\\lambda_1=\\frac{\\sqrt5-1}{2t}  \\lambda_2=\\frac{-\\sqrt5-1}{2t}$\n",
    "\n",
    "$故通解为x=c_1e^{\\frac{\\sqrt5-1}{2}}+c_2e^{\\frac{-\\sqrt5-1}{2}}$"
   ]
  },
  {
   "cell_type": "markdown",
   "metadata": {},
   "source": [
    "$(2)解:特征方程:t^2\\lambda ^2-4t\\lambda+6=0$\n",
    "\n",
    "$\\lambda_1=\\frac{2+\\sqrt2 i}{t}  \\lambda_2=\\frac{2-\\sqrt2 i}{t}$\n",
    "\n",
    "$故通解为x=c_1e^2cos\\sqrt2+c_2e^2sin\\sqrt2$"
   ]
  },
  {
   "cell_type": "markdown",
   "metadata": {
    "collapsed": true
   },
   "source": [
    "# <font color='red'>A  8/11"
   ]
  },
  {
   "cell_type": "code",
   "execution_count": null,
   "metadata": {
    "collapsed": true
   },
   "outputs": [],
   "source": []
  }
 ],
 "metadata": {
  "kernelspec": {
   "display_name": "SageMath 7.3",
   "language": "",
   "name": "sagemath"
  },
  "language_info": {
   "codemirror_mode": {
    "name": "ipython",
    "version": 2
   },
   "file_extension": ".py",
   "mimetype": "text/x-python",
   "name": "python",
   "nbconvert_exporter": "python",
   "pygments_lexer": "ipython2",
   "version": "2.7.10"
  }
 },
 "nbformat": 4,
 "nbformat_minor": 0
}
