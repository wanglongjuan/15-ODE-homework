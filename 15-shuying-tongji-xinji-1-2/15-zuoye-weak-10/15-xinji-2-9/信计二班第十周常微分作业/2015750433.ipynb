{
 "cells": [
  {
   "cell_type": "markdown",
   "metadata": {},
   "source": [
    "$3.求下列方程的通解：$\n",
    "\n",
    "$(1)t^2x''+tx'-x=0;$\n",
    "\n",
    "$(2)t^2x''-4tx'+6x=t.$\n",
    "\n",
    "$解：(1)设x=t^k,则k(k-1)+k-1=0或k^2-1=0$\n",
    "\n",
    "$∴k_1=1,k_2=-1,方程的通解为x=c_1t+c_2\\bullet \\frac{1}{t}$\n",
    "\n",
    "$(2)设x=t^k,求t^2x''-4tx'+6x=0的通解$\n",
    "\n",
    "$则k(k-1)-4k+6=0或(k-2)(k-3)=0$\n",
    "\n",
    "$∴k_1=2,k_2=3,方程t^2x''-4tx'+6x=0的通解为x=c_1t^2+c_2t^3$\n",
    "\n",
    "$由常数易变法，求x_1=c_1(t)t^2+t^3c_2(t)的一个特解，可得方程组$\n",
    "\n",
    "$\\begin{aligned}t^2c'_1(t)+t^3c'_2(t)=0\\\\2tc'_1(t)+3t^2c'_2(t)=\\frac{1}{t}\\\\ \\end{aligned}$\n",
    "\n",
    "$解得c'_1(t)=-\\frac{1}{t^2},c_1(t)=\\frac{1}{t},c'_2(t)=\\frac{1}{t^3},c_2(t)=-\\frac{1}{2t^2}$\n",
    "\n",
    "$∴方程的通解为x=c_1t^2+c_2t^3+\\frac{1}{2}t$"
   ]
  },
  {
   "cell_type": "markdown",
   "metadata": {
    "collapsed": true
   },
   "source": [
    "# <font color='red'>A  8/11"
   ]
  },
  {
   "cell_type": "code",
   "execution_count": null,
   "metadata": {
    "collapsed": true
   },
   "outputs": [],
   "source": []
  }
 ],
 "metadata": {
  "kernelspec": {
   "display_name": "SageMath 7.3",
   "language": "",
   "name": "sagemath"
  },
  "language_info": {
   "codemirror_mode": {
    "name": "ipython",
    "version": 2
   },
   "file_extension": ".py",
   "mimetype": "text/x-python",
   "name": "python",
   "nbconvert_exporter": "python",
   "pygments_lexer": "ipython2",
   "version": "2.7.10"
  }
 },
 "nbformat": 4,
 "nbformat_minor": 0
}
