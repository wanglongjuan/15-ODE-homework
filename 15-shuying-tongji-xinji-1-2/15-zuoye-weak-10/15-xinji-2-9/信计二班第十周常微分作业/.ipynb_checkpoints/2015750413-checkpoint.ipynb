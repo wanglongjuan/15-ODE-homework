{
 "cells": [
  {
   "cell_type": "markdown",
   "metadata": {},
   "source": [
    "**求下列方程的通解**"
   ]
  },
  {
   "cell_type": "markdown",
   "metadata": {},
   "source": [
    "$（1）t^2x''+tx'-x=0$\n",
    "\n",
    "解：引入自变量的变换\n",
    "\n",
    "$t=e^k,k=\\ln{t}$\n",
    "\n",
    "计算得：\n",
    "\n",
    "$\\frac{dx}{dt}=\\frac{dx}{dk}\\cdot\\frac{dk}{dt}=e^{-k}\\frac{dx}{dk}$\n",
    "\n",
    "$\\frac{d^2x}{dt^2}=e^{-k}\\frac{d}{dk}(e^{-k}\\frac{dx}{dk})=e^{-2k}(\\frac{d^2x}{dk^2}-\\frac{dx}{dk})$\n",
    "\n",
    "$t^2x''+tx'-x=\\frac{d^2x}{dk^2}-x=0$\n",
    "\n",
    "特征方程$\\lambda^2-1=0$,解得$\\lambda=1$或$\\lambda=-1$\n",
    "\n",
    "所以方程的通解为：\n",
    "\n",
    "$x=c_1e^k+c_2e^{-k}$\n",
    "\n",
    "即$x=c_1t+c_2t6{-1}$\n",
    "\n",
    "$c_1,c_2$为任意常数"
   ]
  },
  {
   "cell_type": "markdown",
   "metadata": {},
   "source": [
    "$(2)t^2x''-4tx'+6x=t$\n",
    "\n",
    "解：引入自变量的变换\n",
    "\n",
    "$t=e^k,k=\\ln{t}$\n",
    "\n",
    "计算得：\n",
    "\n",
    "$\\frac{dx}{dt}=\\frac{dx}{dk}\\cdot\\frac{dk}{dt}=e^{-k}\\frac{dx}{dk}$\n",
    "\n",
    "$\\frac{d^2x}{dt^2}=e^{-k}\\frac{d}{dk}(e^{-k}\\frac{dx}{dk})=e^{-2k}(\\frac{d^2x}{dk^2}-\\frac{dx}{dk})$\n",
    "\n",
    "先求齐次线性微分方程\n",
    "\n",
    "$t^2x''-4tx'+6x=0$\n",
    "\n",
    "$t^2x''-4tx'+6x=\\frac{d^2x}{dk^2}-5\\frac{dx}{dk}+6x=0$\n",
    "\n",
    "特征方程$\\lambda^2-5\\lambda+6=0$,解得$\\lambda=2$或$\\lambda=3$\n",
    "\n",
    "右端属于I型，特解为**x**=$\\frac{1}{2}e^k$\n",
    "\n",
    "通解为：$x=c_1e^{2k}+c_2e^{3k}+\\frac{1}{2}e^k$,\n",
    "\n",
    "即$x=c_1t^2+c_2t^3+\\frac{1}{2}t$\n",
    "\n",
    "其中$c_1,c_2$为任意数。"
   ]
  },
  {
   "cell_type": "markdown",
   "metadata": {
    "collapsed": true
   },
   "source": [
    "# <font color='red'>A  8/11"
   ]
  },
  {
   "cell_type": "code",
   "execution_count": null,
   "metadata": {
    "collapsed": true
   },
   "outputs": [],
   "source": []
  }
 ],
 "metadata": {
  "kernelspec": {
   "display_name": "SageMath 7.3",
   "language": "",
   "name": "sagemath"
  },
  "language_info": {
   "codemirror_mode": {
    "name": "ipython",
    "version": 2
   },
   "file_extension": ".py",
   "mimetype": "text/x-python",
   "name": "python",
   "nbconvert_exporter": "python",
   "pygments_lexer": "ipython2",
   "version": "2.7.10"
  }
 },
 "nbformat": 4,
 "nbformat_minor": 0
}
