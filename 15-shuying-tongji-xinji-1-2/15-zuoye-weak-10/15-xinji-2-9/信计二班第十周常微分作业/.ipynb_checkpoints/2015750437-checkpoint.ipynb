{
 "cells": [
  {
   "cell_type": "markdown",
   "metadata": {},
   "source": [
    "#常微分方程作业 2015750437 李玉贤\n",
    "\n",
    "##P165.3.(1).(2)."
   ]
  },
  {
   "cell_type": "markdown",
   "metadata": {},
   "source": [
    "**$3.求下列常的通解：$**"
   ]
  },
  {
   "cell_type": "markdown",
   "metadata": {},
   "source": [
    "**$（1）t^2x''+tx'-x=0;$**"
   ]
  },
  {
   "cell_type": "markdown",
   "metadata": {},
   "source": [
    "**$ 解:$**\n",
    "$设x=t^k，k应满足方程$\n",
    "$$k(k-1)+k-1=0或k^2-1=0,\\\\\n",
    "k_1=1 \\quad k_2=-1\\\\\n",
    "方程的通解为：x=c_1t+c_2\\frac{1}{t}$$"
   ]
  },
  {
   "cell_type": "markdown",
   "metadata": {},
   "source": [
    "**$（2）t^2x''-4tx'+6x=t;$**"
   ]
  },
  {
   "cell_type": "markdown",
   "metadata": {},
   "source": [
    "**$ 解:$**\n",
    "$先求t^2x''-4tx'+6x=0的通解，设x=t^k，k应满足方程$\n",
    "$$k(k-1)-4k+6=0或(k-2)(k-3)=0,\\\\\n",
    "k_1=2 \\quad k_2=3\\\\\n",
    "方程t^2x''-4tx'+6x=0的通解为：\\\\\n",
    "x=c_1t^2+c_2t^3\\\\\n",
    "由常数变易法，方程一特解x_1=c_1(t)t^2+c_2(t)t^3中c_1'(t) \\quad c_2'(t)满足$$\n",
    "$$\n",
    "\\begin{cases}\n",
    "c_1'(t)t^2+c_2'(t)t^3=0,\\\\\n",
    "2c_1'(t)t+3c_2'(t)t^2=\\frac{1}{t},\\\\\n",
    "\\end{cases}\n",
    "$$\n",
    "$$解得：c_1'(t)=-\\frac{1}{t^2} ,\\quad c_1(t)=\\frac{1}{t}\\\\\n",
    "c_2'(t)=\\frac{1}{t^3} ,\\quad c_2(t)=-\\frac{1}{2t^2}\\\\\n",
    "方程的通解为：x=c_1t^2+c_2t^3+\\frac{1}{2}t$$"
   ]
  },
  {
   "cell_type": "markdown",
   "metadata": {},
   "source": [
    "# <font color='red'>A  8/11"
   ]
  },
  {
   "cell_type": "code",
   "execution_count": null,
   "metadata": {
    "collapsed": true
   },
   "outputs": [],
   "source": []
  }
 ],
 "metadata": {
  "kernelspec": {
   "display_name": "SageMath 7.3",
   "language": "",
   "name": "sagemath"
  },
  "language_info": {
   "codemirror_mode": {
    "name": "ipython",
    "version": 2
   },
   "file_extension": ".py",
   "mimetype": "text/x-python",
   "name": "python",
   "nbconvert_exporter": "python",
   "pygments_lexer": "ipython2",
   "version": "2.7.10"
  }
 },
 "nbformat": 4,
 "nbformat_minor": 0
}
