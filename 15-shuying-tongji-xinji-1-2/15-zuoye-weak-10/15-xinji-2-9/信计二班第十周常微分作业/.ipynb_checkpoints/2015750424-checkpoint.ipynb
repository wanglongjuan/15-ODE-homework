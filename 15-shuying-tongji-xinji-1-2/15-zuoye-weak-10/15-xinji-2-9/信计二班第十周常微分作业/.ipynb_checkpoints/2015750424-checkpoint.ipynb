{
 "cells": [
  {
   "cell_type": "markdown",
   "metadata": {},
   "source": [
    "P165.\n",
    "\n",
    "3.求下列方程的通解。"
   ]
  },
  {
   "cell_type": "markdown",
   "metadata": {},
   "source": [
    "（1）. $\\quad t^2x''+tx'-x=0$"
   ]
  },
  {
   "cell_type": "markdown",
   "metadata": {},
   "source": [
    "解：设$x=t^k$，代入得\n",
    "\n",
    "$$k(k-1)+k-1=0 $$ $$k^2-1=0$$\n",
    "\n",
    "$$k_1=1,k_2=-1$$\n",
    "\n",
    "所以方程的通解为：\n",
    "\n",
    "$$x=c_1t+c_2\\frac{\\mathrm 1}{\\mathrm t}$$"
   ]
  },
  {
   "cell_type": "markdown",
   "metadata": {},
   "source": [
    "（2）.$\\quad t^2x''-4tx'+6x=t$"
   ]
  },
  {
   "cell_type": "markdown",
   "metadata": {},
   "source": [
    "解：先求$t^2x''-4tx'+6x=0$的通解：\n",
    "\n",
    "如上设$x=t^k$,代入方程得：\n",
    "\n",
    "$$k(k-1)-4k+6=0$$\n",
    "$$(k-2)(k-3)=0$$\n",
    "\n",
    "即$$k_1=2,k_2=3$$\n",
    "\n",
    "即方程的通解为：\n",
    "\n",
    "$$x=c_1t^2+c_2t^3$$"
   ]
  },
  {
   "cell_type": "markdown",
   "metadata": {},
   "source": [
    "由常数变易法得："
   ]
  },
  {
   "cell_type": "markdown",
   "metadata": {},
   "source": [
    "$$x_1=c_1(t)t^2+c_2(t)t^3$$"
   ]
  },
  {
   "cell_type": "markdown",
   "metadata": {},
   "source": [
    "即\n",
    "\\begin{cases}\n",
    "t^2c_1'(t)+t^3c_2'(t)=0\\\\\n",
    "2tc_1'(t)+3t^2c_2'(t)=\\frac{\\mathrm 1}{\\mathrm t}\\\\\n",
    "\\end{cases}"
   ]
  },
  {
   "cell_type": "markdown",
   "metadata": {},
   "source": [
    "求解得：$$c_1'(t)=-\\frac{\\mathrm 1}{\\mathrm t^2},c_2'(t)=\\frac{\\mathrm 1}{\\mathrm t^3}$$\n",
    "$$c_1(t)=\\frac{\\mathrm 1}{\\mathrm t},c_2(t)=-\\frac{\\mathrm 1}{\\mathrm 2t^2}$$"
   ]
  },
  {
   "cell_type": "markdown",
   "metadata": {},
   "source": [
    "代入方程得通解为：\n",
    "\n",
    "$$x=c_1t^2+c_2t^3+\\frac{\\mathrm 1}{\\mathrm 2}t$$"
   ]
  },
  {
   "cell_type": "markdown",
   "metadata": {
    "collapsed": true
   },
   "source": [
    "# <font color='red'>A  8/11"
   ]
  },
  {
   "cell_type": "code",
   "execution_count": null,
   "metadata": {
    "collapsed": true
   },
   "outputs": [],
   "source": []
  }
 ],
 "metadata": {
  "kernelspec": {
   "display_name": "SageMath 7.3",
   "language": "",
   "name": "sagemath"
  },
  "language_info": {
   "codemirror_mode": {
    "name": "ipython",
    "version": 2
   },
   "file_extension": ".py",
   "mimetype": "text/x-python",
   "name": "python",
   "nbconvert_exporter": "python",
   "pygments_lexer": "ipython2",
   "version": "2.7.10"
  }
 },
 "nbformat": 4,
 "nbformat_minor": 0
}
