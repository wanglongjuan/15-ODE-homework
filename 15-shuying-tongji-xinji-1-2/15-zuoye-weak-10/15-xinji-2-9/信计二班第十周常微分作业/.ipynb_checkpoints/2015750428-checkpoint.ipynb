{
 "cells": [
  {
   "cell_type": "markdown",
   "metadata": {},
   "source": [
    "$1.$求解下列方程的通解："
   ]
  },
  {
   "cell_type": "markdown",
   "metadata": {},
   "source": [
    "$(1)t^2x''+tx'-x=0$\n",
    "\n",
    "解：设$x=t^k$,则$k$应该满足的方程为$$k(k-1)+k-1=0或k^2-1=0$$  所以$k_1=1,k_2=-1$,所以方程的通解为$$x=c_1t+c_2.\\frac{1}{t}$$"
   ]
  },
  {
   "cell_type": "markdown",
   "metadata": {},
   "source": [
    "$(2)t^2x''-4tx'+6x=t$\n",
    "\n",
    "解：设$x=t^k$,则$k$应该满足的方程为$$k(k-1)-4k+6=0或(k-2)(k-3)=0$$  所以$k_1=2,k_2=3$,所以方程的通解为$$x=c_1t^2+c_2t^3$$\n",
    "\n",
    "利用常数变易法，求已知方程的形如$$x_1=c_1(t)t^2+c_2(t)t^3$$的一个特解，可以得到$c_1'(t),c_2'(t)$满足的代数方程组\n",
    "\n",
    "$$\n",
    "\\begin{cases}\n",
    "c_1'(t)t^2+c_2'(t)t^3=0\\\\\n",
    "2tc_1'(t)+3t^2c_2(t)=\\frac{1}{t}\n",
    "\\end{cases}\n",
    "$$\n",
    "解得$$c_1'(t)=-\\frac{1}{t^2},c_1(t)=\\frac{1}{t}$$\n",
    "\n",
    "$$c_2'(t)=\\frac{1}{t^3},c_2(t)=-\\frac{1}{2t^2}$$\n",
    "所以方程的通解为$$x=c_1t^2+c_2t^3+\\frac{1}{2}t$$"
   ]
  },
  {
   "cell_type": "markdown",
   "metadata": {
    "collapsed": true
   },
   "source": [
    "# <font color='red'>A  8/11"
   ]
  },
  {
   "cell_type": "code",
   "execution_count": null,
   "metadata": {
    "collapsed": true
   },
   "outputs": [],
   "source": []
  }
 ],
 "metadata": {
  "kernelspec": {
   "display_name": "SageMath 7.3",
   "language": "",
   "name": "sagemath"
  },
  "language_info": {
   "codemirror_mode": {
    "name": "ipython",
    "version": 2
   },
   "file_extension": ".py",
   "mimetype": "text/x-python",
   "name": "python",
   "nbconvert_exporter": "python",
   "pygments_lexer": "ipython2",
   "version": "2.7.10"
  }
 },
 "nbformat": 4,
 "nbformat_minor": 0
}
