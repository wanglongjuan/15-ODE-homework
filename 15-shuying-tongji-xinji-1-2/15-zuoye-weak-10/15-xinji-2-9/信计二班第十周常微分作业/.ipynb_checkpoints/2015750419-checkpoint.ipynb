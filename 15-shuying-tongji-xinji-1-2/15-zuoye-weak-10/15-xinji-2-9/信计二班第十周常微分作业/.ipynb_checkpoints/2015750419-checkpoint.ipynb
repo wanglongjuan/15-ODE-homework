{
 "cells": [
  {
   "cell_type": "markdown",
   "metadata": {},
   "source": [
    "$$3(1).设方程的解为x=t^K,则方程的特征方程为K(K-1)+K-1=0解得(K+1)(K-1)=0,K=1或K=-1$$\n",
    "$$所以方程的通解为x=c_1t+c_2t^{-1}$$\n",
    "$$3(2).方程的齐次线性方程的特征方程为K(K-1)-4K+6=0解得(K-2)(K-3)=0所以K=2或K=3$$\n",
    "$$所以齐次方程的通解为x=c_1t^2+c_2t^3,令原方程有特解x=at,代入得a=\\frac{1}{2},所以原方程的通解为x=c_1t^2+c_2t^3+\\frac{t}{2}\n",
    "$$"
   ]
  },
  {
   "cell_type": "markdown",
   "metadata": {
    "collapsed": true
   },
   "source": [
    "# <font color='red'>A  8/11"
   ]
  },
  {
   "cell_type": "code",
   "execution_count": null,
   "metadata": {
    "collapsed": true
   },
   "outputs": [],
   "source": []
  }
 ],
 "metadata": {
  "kernelspec": {
   "display_name": "SageMath 7.3",
   "language": "",
   "name": "sagemath"
  },
  "language_info": {
   "codemirror_mode": {
    "name": "ipython",
    "version": 2
   },
   "file_extension": ".py",
   "mimetype": "text/x-python",
   "name": "python",
   "nbconvert_exporter": "python",
   "pygments_lexer": "ipython2",
   "version": "2.7.10"
  }
 },
 "nbformat": 4,
 "nbformat_minor": 0
}
