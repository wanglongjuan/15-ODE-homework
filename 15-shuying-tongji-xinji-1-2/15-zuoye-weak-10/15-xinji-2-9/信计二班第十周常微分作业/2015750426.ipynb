{
 "cells": [
  {
   "cell_type": "markdown",
   "metadata": {},
   "source": [
    "**2016.11.2**"
   ]
  },
  {
   "cell_type": "markdown",
   "metadata": {},
   "source": [
    "**3.求下列方程的通解：**\n",
    "\n",
    "（1）$t^2x''+tx'-x=0$\n",
    "\n",
    "（2）$t^2x''-4tx'+6x=t$"
   ]
  },
  {
   "cell_type": "markdown",
   "metadata": {},
   "source": [
    "**解：**"
   ]
  },
  {
   "cell_type": "markdown",
   "metadata": {},
   "source": [
    "（1）寻找方程的形式解 $y=x^K$,得到确定 $K$ 的方程 $$K(K-1)+K-1=0$$\n"
   ]
  },
  {
   "cell_type": "markdown",
   "metadata": {},
   "source": [
    "化简得 $$K^2-1=0$$"
   ]
  },
  {
   "cell_type": "markdown",
   "metadata": {},
   "source": [
    "求得 $K_1=1,K_2=-1$"
   ]
  },
  {
   "cell_type": "markdown",
   "metadata": {},
   "source": [
    "即原方程的通解为：$x=c_1t+c_2t^{-1}$"
   ]
  },
  {
   "cell_type": "markdown",
   "metadata": {},
   "source": [
    "（2）先求对应的齐次线性微分方程 $$t^2x''-4tx'+6x=0\\cdots①$$ 的通解"
   ]
  },
  {
   "cell_type": "markdown",
   "metadata": {},
   "source": [
    "方程①可化简为 $$(K-2)(K-3)=0$$"
   ]
  },
  {
   "cell_type": "markdown",
   "metadata": {},
   "source": [
    "求得 $K_1=2,K_2=3$"
   ]
  },
  {
   "cell_type": "markdown",
   "metadata": {},
   "source": [
    "又有 $f(t)=t,K=0$ 不是特征根"
   ]
  },
  {
   "cell_type": "markdown",
   "metadata": {},
   "source": [
    "取特解为 $\\tilde{x}=Bt$,将其代入原方程得 $ 0-4tB+6tB=t $"
   ]
  },
  {
   "cell_type": "markdown",
   "metadata": {},
   "source": [
    "比较等式两边得系数可知 $B=\\frac{1}{2}$"
   ]
  },
  {
   "cell_type": "markdown",
   "metadata": {},
   "source": [
    "所以 $\\tilde{x}=\\frac{1}{2}t$"
   ]
  },
  {
   "cell_type": "markdown",
   "metadata": {},
   "source": [
    "即原方程的通解为：$x=c_1t^2+c_2t^3+\\frac{1}{2}t$"
   ]
  },
  {
   "cell_type": "markdown",
   "metadata": {
    "collapsed": true
   },
   "source": [
    "# <font color='red'>A  8/11"
   ]
  },
  {
   "cell_type": "code",
   "execution_count": null,
   "metadata": {
    "collapsed": true
   },
   "outputs": [],
   "source": []
  }
 ],
 "metadata": {
  "kernelspec": {
   "display_name": "SageMath 7.3",
   "language": "",
   "name": "sagemath"
  },
  "language_info": {
   "codemirror_mode": {
    "name": "ipython",
    "version": 2
   },
   "file_extension": ".py",
   "mimetype": "text/x-python",
   "name": "python",
   "nbconvert_exporter": "python",
   "pygments_lexer": "ipython2",
   "version": "2.7.10"
  }
 },
 "nbformat": 4,
 "nbformat_minor": 0
}
