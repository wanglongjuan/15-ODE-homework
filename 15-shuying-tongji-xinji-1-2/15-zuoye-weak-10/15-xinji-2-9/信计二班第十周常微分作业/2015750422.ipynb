{
 "cells": [
  {
   "cell_type": "markdown",
   "metadata": {},
   "source": [
    "求下列方程的解"
   ]
  },
  {
   "cell_type": "markdown",
   "metadata": {},
   "source": [
    "（1).$t^2x''+tx'-x=0$\n",
    "$$令x=t^k,$$\n",
    "$$得k(k-1)+k-1=0$$\n",
    "解得：$$k=1,-1$$\n",
    "所以原方程的解为：$$x=c_1t+c_2\\frac{1}{t}$$"
   ]
  },
  {
   "cell_type": "markdown",
   "metadata": {},
   "source": [
    "(2).$t^2x''-4tx'+6x=t$\n",
    "解：$先求方程t^2x''-4tx'+6x=0的解$\n",
    "$$令x=t^k$$\n",
    "$$得k(k-1)-4k+6=0$$\n",
    "推出$$k=2,k=3,$$\n",
    "所以方程$t^2x''-4tx'+6x=1$的解为：$x=c_1t^2+c_2t^3$\n",
    "应用常数变易法，求已知方程的形如$x_1=c_1(t)t^2+c_2(t)t^3$的一个特解，可得到$c_1'(t)$和$c_2't^3$满足方程组：\n",
    "$$\\begin{cases}\n",
    "t^2c_1'(t)+c_2'(t)t^3=0\\\\\n",
    "2tc_1'(t)+3c_2'(t)t^2=\\frac{1}{t}\\\\\n",
    "\\end{cases}\n",
    "$$\n",
    "$$解得：c_1'(t)=-\\frac{1}{t^2},c_2'(t)=\\frac{1}{t^3},$$\n",
    "$$积分得：c_1(t)=\\frac{1}{t},c_2(t)=-\\frac{1}{2t^2}$$\n",
    "故方程的通解为：$$x=c_1t^2+c_2t^3+\\frac{1}{2}t$$"
   ]
  },
  {
   "cell_type": "markdown",
   "metadata": {
    "collapsed": true
   },
   "source": [
    "# <font color='red'>A  8/11"
   ]
  },
  {
   "cell_type": "code",
   "execution_count": null,
   "metadata": {
    "collapsed": true
   },
   "outputs": [],
   "source": []
  }
 ],
 "metadata": {
  "kernelspec": {
   "display_name": "SageMath 7.3",
   "language": "",
   "name": "sagemath"
  },
  "language_info": {
   "codemirror_mode": {
    "name": "ipython",
    "version": 2
   },
   "file_extension": ".py",
   "mimetype": "text/x-python",
   "name": "python",
   "nbconvert_exporter": "python",
   "pygments_lexer": "ipython2",
   "version": "2.7.10"
  }
 },
 "nbformat": 4,
 "nbformat_minor": 0
}
