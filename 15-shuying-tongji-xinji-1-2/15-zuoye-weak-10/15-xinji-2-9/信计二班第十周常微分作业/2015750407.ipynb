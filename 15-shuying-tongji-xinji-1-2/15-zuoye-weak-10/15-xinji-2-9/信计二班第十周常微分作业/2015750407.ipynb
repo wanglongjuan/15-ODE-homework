{
 "cells": [
  {
   "cell_type": "markdown",
   "metadata": {},
   "source": [
    "$2015750407魏雄峰常微分第十周作业$"
   ]
  },
  {
   "cell_type": "markdown",
   "metadata": {},
   "source": [
    "$P165\\quad3.$"
   ]
  },
  {
   "cell_type": "markdown",
   "metadata": {},
   "source": [
    "$(1)解：设x=t^k,代入方程，得k(k-1)+k-1=0,即k^2-1=0$\n",
    "\n",
    "$\\therefore k_1=1,k_2=-1,即方程的通解为x=c_1t+c_2\\frac{1}{t},c_1,c_2为任意常数$"
   ]
  },
  {
   "cell_type": "markdown",
   "metadata": {},
   "source": [
    "$(2)解：设x=t^k,代入方程，得k(k-1)-4k+6=0,即(k-2)(k-3)$\n",
    "\n",
    "$\\therefore k_1=2,k_2=3$\n",
    "\n",
    "$\\therefore方程的通解为x=c_1t^2+c_2t^3$\n",
    "\n",
    "$由常数变易法求方程的特解，可得$\n",
    "\n",
    "$$\n",
    "\\begin{cases}\n",
    "t^2c_1'(t)+t^3c_2'(t)=0\\\\\n",
    "2tc_1'(t)+3t^2c_2'(t)=\\frac{1}{t}\\\\\n",
    "\\end{cases}\n",
    "$$"
   ]
  },
  {
   "cell_type": "markdown",
   "metadata": {},
   "source": [
    "解得\n",
    "$$\n",
    "\\begin{cases}\n",
    "c_1'(t)=-\\frac{1}{t^2}\\\\\n",
    "c_2'(t)=\\frac{1}{t^3}\\\\\n",
    "\\end{cases}\n",
    "$$\n",
    "\n",
    "$积分得c_1(t)=\\frac{1}{t}+c_1,c_2(t)=-\\frac{1}{2t^2}+c_2$\n",
    "\n",
    "$\\therefore方程的通解为x=c_1t^2+c_2t^3+\\frac{1}{2}t$"
   ]
  },
  {
   "cell_type": "markdown",
   "metadata": {},
   "source": [
    "# <font color='red'>A  8/11"
   ]
  },
  {
   "cell_type": "code",
   "execution_count": null,
   "metadata": {
    "collapsed": true
   },
   "outputs": [],
   "source": []
  }
 ],
 "metadata": {
  "kernelspec": {
   "display_name": "SageMath 7.3",
   "language": "",
   "name": "sagemath"
  },
  "language_info": {
   "codemirror_mode": {
    "name": "ipython",
    "version": 2
   },
   "file_extension": ".py",
   "mimetype": "text/x-python",
   "name": "python",
   "nbconvert_exporter": "python",
   "pygments_lexer": "ipython2",
   "version": "2.7.10"
  }
 },
 "nbformat": 4,
 "nbformat_minor": 0
}
