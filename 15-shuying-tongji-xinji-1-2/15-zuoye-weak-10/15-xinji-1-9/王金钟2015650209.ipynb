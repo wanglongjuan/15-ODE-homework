{
 "cells": [
  {
   "cell_type": "markdown",
   "metadata": {},
   "source": [
    "1.求下列方程的通解"
   ]
  },
  {
   "cell_type": "markdown",
   "metadata": {},
   "source": [
    "（1）$t^2x\"+tx'-x=0$\n",
    "解：设$x=t^k$,带入方程，得到关于k的方程\n",
    "\n",
    "$k^2=1$\n",
    "\n",
    "即$k_1=1,k_2=-1$从而方程的解为\n",
    "\n",
    "$$x=c_1t+c_2\\frac{1}{t}$$,其中$$c_1,c_2$$为常数"
   ]
  },
  {
   "cell_type": "markdown",
   "metadata": {},
   "source": [
    "（2）$t^2x\"+4tx'+6x=t$"
   ]
  },
  {
   "cell_type": "markdown",
   "metadata": {},
   "source": [
    "解：设$$x=t^k$$带入方程得$$$k(k-1)-4k+6=0$$,得$$k_1=2,k_2=3$$\n",
    "\n",
    "\n",
    "即原方程通解为$x=c_1t^2+c_2t^3$\n",
    "\n",
    "\n",
    "用常数变异法,求$x_1c_1(t)\\cdot t^2+c_2(t)\\cdot t^3$的一个特解，得\n",
    "\n",
    "$$\\begin{cases}t^2{c'}_1(t)t^3{c'}_2(t)=0\\\\\n",
    "2t{c'}_1(t)+3t^2{c'}_2(t)=\\frac{1}{t}\\\\\\end{cases}$$"
   ]
  },
  {
   "cell_type": "markdown",
   "metadata": {},
   "source": [
    "解得$$\n",
    "\\begin{cases}c'_1(t)=-\\frac{1}{t^2}\\\\c'_2(t)=\\frac{1}{t^3}\\\\\\end{cases}$$"
   ]
  },
  {
   "cell_type": "markdown",
   "metadata": {},
   "source": [
    "积分得$c_1(t)=\\frac{1}{t}+c_1,c_2(t)=-\\frac{1}{2t^2}+c_2$\n",
    "\n",
    "得通解为$$x=c_1t^2+c_2t^3+\\frac{1}{2}t$$"
   ]
  },
  {
   "cell_type": "markdown",
   "metadata": {
    "collapsed": true
   },
   "source": [
    "# <font color='red'>A 8/11"
   ]
  },
  {
   "cell_type": "code",
   "execution_count": null,
   "metadata": {
    "collapsed": true
   },
   "outputs": [],
   "source": []
  }
 ],
 "metadata": {
  "kernelspec": {
   "display_name": "SageMath 7.3",
   "language": "",
   "name": "sagemath"
  },
  "language_info": {
   "codemirror_mode": {
    "name": "ipython",
    "version": 2
   },
   "file_extension": ".py",
   "mimetype": "text/x-python",
   "name": "python",
   "nbconvert_exporter": "python",
   "pygments_lexer": "ipython2",
   "version": "2.7.10"
  }
 },
 "nbformat": 4,
 "nbformat_minor": 0
}
