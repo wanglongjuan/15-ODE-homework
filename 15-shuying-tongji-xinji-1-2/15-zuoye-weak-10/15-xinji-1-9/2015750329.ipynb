{
 "cells": [
  {
   "cell_type": "markdown",
   "metadata": {},
   "source": [
    "计算下列通解。"
   ]
  },
  {
   "cell_type": "markdown",
   "metadata": {},
   "source": [
    "（1）$t^2 x''+tx'-x=0$\n",
    "\n",
    "解：设$x=t^k$,得到k应满足的方程为$$k(k-1)+k-1或k^2-1=0$$\n",
    "$故k_1=1,k_2=-1$\n",
    "所以方程通解为$$x=c_1 t+c_2 \\frac{1}{t}$$"
   ]
  },
  {
   "cell_type": "markdown",
   "metadata": {},
   "source": [
    "（2）$t^2 x''-4tx'+6x=t$\n",
    "\n",
    "解：设$x=t^k$,得到k应满足的方程为$$k(k-1)-4k+6=0或(k-2)(k-3)=0$$\n",
    "$故k_1=2,k_2=3$\n",
    "而方程$t^2 x''-4tx'+6x=0$的通解为$$x=c_1 t^2+c_2 t^3$$\n",
    "则利用常数变易法求已知方程的形如$x=c_1(t)t^2+c_2(t)t^3$的一个特解，可得$c'_1(t)和c'_2(t)$满足的代数方程组\n",
    "$$\n",
    "\\begin{cases}\n",
    "t^2c'_1(t)+t^3 c'_2(t)=0\\\\\n",
    "2tc'_1(t)+3t^2c'_2(t)=\\frac{1}{t}\\\\\n",
    "\\end{cases}\n",
    "$$\n",
    "解得$$c'_1(t)=-\\frac{1}{t^2},c_1(t)=\\frac{1}{t}$$\n",
    "$$c'_2(t)=\\frac{1}{t^3},c_2(t)=-\\frac{1}{2t^2}$$\n",
    "所以方程的通解为$$x=c_1 t^2+c_2 t^3+\\frac{1}{2}t$$"
   ]
  },
  {
   "cell_type": "markdown",
   "metadata": {},
   "source": [
    "# <font color='red'>A  8/11"
   ]
  },
  {
   "cell_type": "code",
   "execution_count": null,
   "metadata": {
    "collapsed": true
   },
   "outputs": [],
   "source": []
  }
 ],
 "metadata": {
  "kernelspec": {
   "display_name": "SageMath 7.3",
   "language": "",
   "name": "sagemath"
  },
  "language_info": {
   "codemirror_mode": {
    "name": "ipython",
    "version": 2
   },
   "file_extension": ".py",
   "mimetype": "text/x-python",
   "name": "python",
   "nbconvert_exporter": "python",
   "pygments_lexer": "ipython2",
   "version": "2.7.10"
  }
 },
 "nbformat": 4,
 "nbformat_minor": 0
}
