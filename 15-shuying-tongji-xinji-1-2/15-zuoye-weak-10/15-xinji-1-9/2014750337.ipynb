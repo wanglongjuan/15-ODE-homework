{
 "cells": [
  {
   "cell_type": "markdown",
   "metadata": {
    "collapsed": false
   },
   "source": [
    "# 作业8  \n",
    "**P165**  \n",
    "**3.求下列方程的同解**  "
   ]
  },
  {
   "cell_type": "markdown",
   "metadata": {},
   "source": [
    "**(1)$t^2x^{''}+tx'-x=0$**  \n",
    "**解：**设方程有解$x=t^K$,代入得$$K(K-1)+K-1=K^2-1=0,K=\\pm1.$$\n",
    "所以方程的通解为$x=c_1t+c_2t^{-1}$"
   ]
  },
  {
   "cell_type": "markdown",
   "metadata": {},
   "source": [
    "**(2)$t^2x^{''}-4tx'+6x=0$**  \n",
    "**解：**设方程有解$x=t^K$,代入得$$K(K-1)-4K+6=(K-2)(K-3)=0,k=2,3.$$\n",
    "所以齐次方程的通解为$x=c_1t^2+c_2t^3$  \n",
    "再令非齐次线性方程的特解有形式$x=at$，代入得特解$x=\\frac{1}{2}t$.  \n",
    "所以方程的通解为$x=c_1t^2+c_2t^3+x=\\frac{1}{2}t$"
   ]
  },
  {
   "cell_type": "markdown",
   "metadata": {},
   "source": [
    "# <font color='red'>A  8/11"
   ]
  },
  {
   "cell_type": "code",
   "execution_count": null,
   "metadata": {
    "collapsed": true
   },
   "outputs": [],
   "source": []
  }
 ],
 "metadata": {
  "kernelspec": {
   "display_name": "Python 2",
   "language": "python",
   "name": "python2"
  },
  "language_info": {
   "codemirror_mode": {
    "name": "ipython",
    "version": 2
   },
   "file_extension": ".py",
   "mimetype": "text/x-python",
   "name": "python",
   "nbconvert_exporter": "python",
   "pygments_lexer": "ipython2",
   "version": "2.7.10"
  }
 },
 "nbformat": 4,
 "nbformat_minor": 0
}
