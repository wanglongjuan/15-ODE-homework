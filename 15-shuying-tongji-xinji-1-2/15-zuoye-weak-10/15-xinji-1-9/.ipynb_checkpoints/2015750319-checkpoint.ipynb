{
 "cells": [
  {
   "cell_type": "markdown",
   "metadata": {},
   "source": [
    "3.(1)设$x=t^k$.带入方程，得到\n",
    "$$\n",
    "k(k-1)+k-1=0\n",
    "$$\n",
    "即\n",
    "$$k^2=1$$\n",
    "因此$$k_1=1,k_2=-1$$\n",
    "通解为$$x=c_1 t+c_2\\frac{1}{t}$$"
   ]
  },
  {
   "cell_type": "markdown",
   "metadata": {},
   "source": [
    "(2)设$x=t^k$，带入方程，得到\n",
    "$$\n",
    "k(k-1)-4k+6=0\n",
    "$$\n",
    "即\n",
    "$$(k-2)(k-3)=0$$\n",
    "因此$$k_1=2,k_2=3$$\n",
    "故方程$t^2x''-4tx'+6x=0$的通解为$$x=c_1 t^2+c_2t^3$$\n",
    "利用常数变易法，求形如$x_1=c_1(t)t^2+c_2(t)t^3$的一个特解，可得方程\n",
    "\n",
    "$$\n",
    "\\begin{cases}\n",
    "t^2c'_1(t)+t^3c'_2(t)=0\\\\\n",
    "2tc'_1(t)+3t^2c'_2(t)=\\frac{1}{t}\n",
    "\\end{cases}\n",
    "$$\n",
    "\n",
    "解得\n",
    "\n",
    "$$\n",
    "\\begin{cases}\n",
    "c'_1(t)=-\\frac{1}{t^2}\\\\\n",
    "c'_2(t)=\\frac{1}{t^3}\n",
    "\\end{cases}\n",
    "$$"
   ]
  },
  {
   "cell_type": "markdown",
   "metadata": {},
   "source": [
    "# <font color='red'>A  8/11"
   ]
  },
  {
   "cell_type": "code",
   "execution_count": null,
   "metadata": {
    "collapsed": true
   },
   "outputs": [],
   "source": []
  }
 ],
 "metadata": {
  "kernelspec": {
   "display_name": "SageMath 7.3",
   "language": "",
   "name": "sagemath"
  },
  "language_info": {
   "codemirror_mode": {
    "name": "ipython",
    "version": 2
   },
   "file_extension": ".py",
   "mimetype": "text/x-python",
   "name": "python",
   "nbconvert_exporter": "python",
   "pygments_lexer": "ipython2",
   "version": "2.7.10"
  }
 },
 "nbformat": 4,
 "nbformat_minor": 0
}
