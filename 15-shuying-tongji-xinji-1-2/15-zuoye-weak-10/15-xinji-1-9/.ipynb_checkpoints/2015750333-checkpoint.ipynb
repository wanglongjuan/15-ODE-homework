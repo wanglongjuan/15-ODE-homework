{
 "cells": [
  {
   "cell_type": "markdown",
   "metadata": {},
   "source": [
    "# 1、$t^2x''+tx'-x=0$"
   ]
  },
  {
   "cell_type": "markdown",
   "metadata": {},
   "source": [
    "解：设$x=t^K,$得到$K$应满足的方程\n",
    "$$\n",
    "K(K-1)+K-1=0\n",
    "$$\n",
    "因此$K_1=1,K_2=-1,$而方程的通解为\n",
    "$$\n",
    "x=c_1t+c_2\\frac{1}{t}\n",
    "$$"
   ]
  },
  {
   "cell_type": "markdown",
   "metadata": {},
   "source": [
    "# 2、$t^2x''-4tx'+6x=t$"
   ]
  },
  {
   "cell_type": "markdown",
   "metadata": {},
   "source": [
    "解：先求对应的齐次线性微分方程\n",
    "$$\n",
    "t^2x''-4tx'+6x=0\n",
    "$$\n",
    "的通解.\n",
    "设$x=t^K,$得到$K$应满足的方程\n",
    "$$\n",
    "K(K-1)-4K+6=0\n",
    "$$\n",
    "因此$K_1=2,K_2=3,$而方程的通解为\n",
    "$$\n",
    "x=c_1t^2+c_2t^3\n",
    "$$\n",
    "其中$c_1,c_2$为任意常数.现求原方程的一个特解.\n",
    "\n",
    "将原式化为\n",
    "$$x''-\\frac{4}{t}x'+\\frac{6}{t^2}x=\\frac{1}{t}$$\n",
    "令$x=c_1(t)t^2+c_2(t)t^3,$利用常数变易法，得\n",
    "$$\n",
    "\\begin{cases}\n",
    "t^2c_1'(t)+t^3c_2'(t)=0\\\\\n",
    "2tc_1'(t)+3t^2c_2'(t)=\\frac{1}{t}\n",
    "\\end{cases}\n",
    "$$\n",
    "解得\n",
    "$c_1'(t)=-\\frac{1}{t^2},c_2'(t)=\\frac{1}{t^3}$\n",
    "\n",
    "所以\n",
    "$c_1(t)=\\frac{1}{t}+\\gamma_1,c_2=-\\frac{1}{2t^2}+\\gamma_2$\n",
    "\n",
    "所以通解为\n",
    "$$\n",
    "x=\\gamma_1t^2+\\gamma_2t^3+t-\\frac{1}{2}t\n",
    "$$"
   ]
  },
  {
   "cell_type": "markdown",
   "metadata": {
    "collapsed": true
   },
   "source": [
    "# <font color='red'>A  8/11"
   ]
  },
  {
   "cell_type": "code",
   "execution_count": null,
   "metadata": {
    "collapsed": true
   },
   "outputs": [],
   "source": []
  }
 ],
 "metadata": {
  "kernelspec": {
   "display_name": "SageMath 7.3",
   "language": "",
   "name": "sagemath"
  },
  "language_info": {
   "codemirror_mode": {
    "name": "ipython",
    "version": 2
   },
   "file_extension": ".py",
   "mimetype": "text/x-python",
   "name": "python",
   "nbconvert_exporter": "python",
   "pygments_lexer": "ipython2",
   "version": "2.7.10"
  }
 },
 "nbformat": 4,
 "nbformat_minor": 0
}
