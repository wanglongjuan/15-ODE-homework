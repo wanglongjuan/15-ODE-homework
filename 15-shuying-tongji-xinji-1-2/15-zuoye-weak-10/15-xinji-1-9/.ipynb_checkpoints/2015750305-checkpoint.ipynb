{
 "cells": [
  {
   "cell_type": "markdown",
   "metadata": {},
   "source": [
    "$一\\quad 求下列方程的通解：$"
   ]
  },
  {
   "cell_type": "markdown",
   "metadata": {},
   "source": [
    "$1\\quad t^2x^{{\\prime}{\\prime}}+t x^{\\prime}-x=0;$"
   ]
  },
  {
   "cell_type": "markdown",
   "metadata": {},
   "source": [
    "$解\\quad 设x=t^k,得到k应满足的方程$\n",
    "\n",
    "$$k(k-1)+k-1=0或k^2-1=0$$\n",
    "\n",
    "$因此k_1=1,k_2=-1,而方程的通解为$\n",
    "$$x=c_1t+c_2 \\frac {1}{t}$$"
   ]
  },
  {
   "cell_type": "markdown",
   "metadata": {},
   "source": [
    "$2\\quad t^2x^{{\\prime}{\\prime}}-4t x^{\\prime}+6x=t;$"
   ]
  },
  {
   "cell_type": "markdown",
   "metadata": {},
   "source": [
    "$解\\quad 先求方程t^2x^{{\\prime}{\\prime}}-4t x^{\\prime}+6x=0的通解.$\n",
    "\n",
    "$设x=t^k,则得到k应满足的方程$\n",
    "$$k(k-1)-4k+6=0或(k-2)(k-3)=0$$\n",
    "\n",
    "$因此k_1=2,k_2=3,而方程t^2x^{{\\prime}{\\prime}}-4t x^{\\prime}+6x=0的通解为$\n",
    "$$x=c_1 t^2+c_2 t^3$$"
   ]
  },
  {
   "cell_type": "markdown",
   "metadata": {},
   "source": [
    "$故利用常数变易法，求已知方程的形如$\n",
    "$$x_1=c_1(t) t^2+c_2(t) t^3$$\n",
    "$的一个特解，可得到c_1^{\\prime}(t)和c_2^{\\prime}(t)满足的代数方程组$\n",
    "$$\\begin{cases} t^2 c_1^{\\prime}(t)+t^3 c_2^{\\prime}(t)=0 \\\\ 2t c_1^{\\prime}(t)+3t^2 c_2^{\\prime}(t)=\\frac {1}{t} \\end {cases}$$"
   ]
  },
  {
   "cell_type": "markdown",
   "metadata": {},
   "source": [
    "$故方程的通解为$\n",
    "$$x=c_1 t^2+c_2 t^3+t-\\frac {1}{2}t,$$\n",
    "$化简得x=c_1t^2+c_2 t^3+\\frac {1}{2}t$"
   ]
  },
  {
   "cell_type": "markdown",
   "metadata": {
    "collapsed": true
   },
   "source": [
    "# <font color='red'>A  8/11"
   ]
  },
  {
   "cell_type": "code",
   "execution_count": null,
   "metadata": {
    "collapsed": true
   },
   "outputs": [],
   "source": []
  }
 ],
 "metadata": {
  "kernelspec": {
   "display_name": "SageMath 7.3",
   "language": "",
   "name": "sagemath"
  },
  "language_info": {
   "codemirror_mode": {
    "name": "ipython",
    "version": 2
   },
   "file_extension": ".py",
   "mimetype": "text/x-python",
   "name": "python",
   "nbconvert_exporter": "python",
   "pygments_lexer": "ipython2",
   "version": "2.7.10"
  }
 },
 "nbformat": 4,
 "nbformat_minor": 0
}
