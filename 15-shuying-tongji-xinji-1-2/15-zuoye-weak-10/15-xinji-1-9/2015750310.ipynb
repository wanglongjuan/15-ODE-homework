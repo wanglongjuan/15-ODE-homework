{
 "cells": [
  {
   "cell_type": "markdown",
   "metadata": {},
   "source": [
    "1 解：$$=t^k,代入方程得到关于k的方程k(k-1)+k-1=0即k^2-1=0,因此k_1=1,k_2=-1,从而方程的通解为x=c_1t+c_2\\frac{1}{t},其中c_1,c_2为任意常数$$"
   ]
  },
  {
   "cell_type": "markdown",
   "metadata": {},
   "source": [
    "2 解：$$先求方程t^2x''-4tx'+6x=0的通解，设x=t^k，代入方程则得到关于k的方程k(k-1)-4k+6=0，即(k-2)(k-3)=0,因此k_1=2,k_2=3$$\n",
    "$$故方程t^2x''-4tx'+6x=0的通解为x=c_1t^2+c_2t^3.故利用常数变易法，求已知方程形如x_1=c_1t^2+c_2t^3的一个特解$$\n",
    "$$得t^2c'_1(t)+t^3c'_2(t)=0,2tc'_1(t)+3t^2c'_2(t)=\\frac{1}{t}$$\n",
    "$$，得c'_1(t)=\\frac{-1}{t^2},c'_2(t)=\\frac{1}{t^3}$$\n",
    "$$故方程的通解为x=c_1t^2+c_2t^3+\\frac{1}{2}t$$"
   ]
  },
  {
   "cell_type": "markdown",
   "metadata": {
    "collapsed": true
   },
   "source": [
    "# <font color='red'>A  8/11"
   ]
  },
  {
   "cell_type": "code",
   "execution_count": null,
   "metadata": {
    "collapsed": true
   },
   "outputs": [],
   "source": []
  }
 ],
 "metadata": {
  "kernelspec": {
   "display_name": "SageMath 7.3",
   "language": "",
   "name": "sagemath"
  },
  "language_info": {
   "codemirror_mode": {
    "name": "ipython",
    "version": 2
   },
   "file_extension": ".py",
   "mimetype": "text/x-python",
   "name": "python",
   "nbconvert_exporter": "python",
   "pygments_lexer": "ipython2",
   "version": "2.7.10"
  }
 },
 "nbformat": 4,
 "nbformat_minor": 0
}
