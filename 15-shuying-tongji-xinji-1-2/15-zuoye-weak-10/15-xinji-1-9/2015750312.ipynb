{
 "cells": [
  {
   "cell_type": "markdown",
   "metadata": {},
   "source": [
    "**3.解：（1）**设 $ x=t^k $ ,代入方程，得关于 $ y $ 的方程\n",
    "\n",
    "$$ k(k-1)+k-1=0 $$ 即 $$ k^2-1=0 $$\n",
    "\n",
    "∴ $ k_1=1,k_2=-1 $ 得方程的通解为 $$ x=c_1t+c_2\\frac{1}{t} $$ $ c_1,c_2 $ 为任意常数\n"
   ]
  },
  {
   "cell_type": "markdown",
   "metadata": {},
   "source": [
    "**（2）**先求方程 $$ t^2x''-4tx'+6x=0 $$ 的通解，设 $ x=t^k $ ,代入方程得到关于 $ k $ 的方程 $$ k(k-1)-4k+6=0 $$\n",
    "\n",
    "即 $$ (k-2)(k-3)=0 $$ \n",
    "\n",
    "∴ $ k_1=2,k_2=3 $\n",
    "\n",
    "∴ 方程 $$ t^2x''-4tx'+6x=0 $$ 的通解为 $$ x=c_1t^2+c_2 $$\n",
    "\n",
    "\n",
    "∴利用常数变易法，求已知方程形如 $$ x_1=c_1(t)·t^2+c_2(t)·t^3 $$ 的一个特解\n",
    "\n",
    "得关于 $ c'_1(t),c'_2(t) $ 的方程组\n",
    "\n",
    "$$\n",
    "\\begin{cases}\n",
    "t^2c'_1(t)+t^3c'_2(t)=0\\\\\n",
    "2tc'_1(t)-3t^2c'_2(t)=\\frac{1}{t}\n",
    "\\end{cases}\n",
    "$$\n",
    "\n",
    "解，得\n",
    "\n",
    "$$\n",
    "\\begin{cases}\n",
    "c'_1(t)=-\\frac{1}{t^2}\\\\\n",
    "c'_2(t)=\\frac{1}{t^3}\n",
    "\\end{cases}\n",
    "$$\n",
    "\n",
    "积分，得 $ c_1(t)=\\frac{1}{t}+c_1,c_2(t)=-\\frac{1}{2t^2}+c_2 $\n",
    "\n",
    "∴方程的通解为 $$ x=c_1t^2+c_2t^3+\\frac{1}{2}t $$"
   ]
  },
  {
   "cell_type": "markdown",
   "metadata": {
    "collapsed": true
   },
   "source": [
    "# <font color='red'>A  8/11"
   ]
  },
  {
   "cell_type": "code",
   "execution_count": null,
   "metadata": {
    "collapsed": true
   },
   "outputs": [],
   "source": []
  }
 ],
 "metadata": {
  "kernelspec": {
   "display_name": "SageMath 7.3",
   "language": "",
   "name": "sagemath"
  },
  "language_info": {
   "codemirror_mode": {
    "name": "ipython",
    "version": 2
   },
   "file_extension": ".py",
   "mimetype": "text/x-python",
   "name": "python",
   "nbconvert_exporter": "python",
   "pygments_lexer": "ipython2",
   "version": "2.7.10"
  }
 },
 "nbformat": 4,
 "nbformat_minor": 0
}
