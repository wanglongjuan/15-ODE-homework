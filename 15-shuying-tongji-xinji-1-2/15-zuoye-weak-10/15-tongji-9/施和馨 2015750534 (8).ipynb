{
 "cells": [
  {
   "cell_type": "markdown",
   "metadata": {},
   "source": [
    "$\\bf3.求下列方程的通解.$\n",
    "\n",
    "$\\bf(1)t^2x\"+tx'-x=0;$\n",
    "\n",
    "$解：令x=t^k,得到k应满足的方程为：$\n",
    "\n",
    "$k(k-1)+k-1=0$\n",
    "\n",
    "$解得k=1，-1$\n",
    "\n",
    "$所以方程的通解为：x=c_1t+c_2\\frac{1}{t}$\n",
    "\n",
    "$\\bf(2)t^2x'-4tx'+6x=t;$\n",
    "\n",
    "$解：令x=t^k,得到k应满足的方程为：$\n",
    "\n",
    "$k(k-1)-4k+6=0$\n",
    "\n",
    "$解得:k_1=2,k_2=3$\n",
    "\n",
    "$所以t^2x'-4tx'+6x=0的通解为：$\n",
    "\n",
    "$x=c_1t^2+c_2t^3$\n",
    "\n",
    "$将其代入方程可得决定c'_1(t),c'_2(t)的两个方程:$\n",
    "\n",
    "$$t^2c'_1+t^3c'_2=0\\\\2tc'_1(t)+3t^2c'_2=\\frac{1}{t}$$\n",
    "\n",
    "$解得：c'_1(t)=-\\frac{1}{t},c_1=\\frac{1}{t};\\\\c'_2=\\frac{1}{t^3},c_2=-\\frac{1}{2t^2}$\n",
    "\n",
    "$所以方程的通解为：x=c_1t^2+c_2t^3+\\frac{1}{2}t$"
   ]
  },
  {
   "cell_type": "markdown",
   "metadata": {},
   "source": [
    "# <font color='red'>A  8/11"
   ]
  },
  {
   "cell_type": "code",
   "execution_count": null,
   "metadata": {
    "collapsed": true
   },
   "outputs": [],
   "source": []
  }
 ],
 "metadata": {
  "kernelspec": {
   "display_name": "SageMath 7.3",
   "language": "",
   "name": "sagemath"
  },
  "language_info": {
   "codemirror_mode": {
    "name": "ipython",
    "version": 2
   },
   "file_extension": ".py",
   "mimetype": "text/x-python",
   "name": "python",
   "nbconvert_exporter": "python",
   "pygments_lexer": "ipython2",
   "version": "2.7.10"
  }
 },
 "nbformat": 4,
 "nbformat_minor": 0
}
