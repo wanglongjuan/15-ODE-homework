{
 "cells": [
  {
   "cell_type": "markdown",
   "metadata": {},
   "source": [
    "# 常微分方程作业（8）\n"
   ]
  },
  {
   "cell_type": "markdown",
   "metadata": {},
   "source": [
    "$\\bf P165.T3$\n",
    "\n",
    "$求下列方程的通解$"
   ]
  },
  {
   "cell_type": "markdown",
   "metadata": {},
   "source": [
    "$(1)$\n",
    "\n",
    "$ t^2x\"+tx'-x=0$\n",
    "\n",
    "解：\n",
    "\n",
    "$令x=t^k,带入原方程$\n",
    "$$t^2k(k-1)t^{k-2}+tkt^{k-1}-t^k=0$$\n",
    "$$k^2-1=0$$\n",
    "\n",
    "$k_1=1,k_2=-1$\n",
    "\n",
    "$\\therefore x=c_1t+c_2\\frac{1}{t}$\n",
    "\n",
    "$(c_1,c_2为任意常数)$"
   ]
  },
  {
   "cell_type": "markdown",
   "metadata": {},
   "source": [
    "$(2)$\n",
    "\n",
    "$t^2x\"-4tx'+6x=t$\n",
    "\n",
    "解：\n",
    "\n",
    "$令x=t^k,带入方程$\n",
    "$$t^2k(k-1)t^{k-2}-4tkt^{k-1}+6t^k=0$$\n",
    "$$k^2-5k+6=0$$\n",
    "\n",
    "$k_1=2,k_2=3$\n",
    "\n",
    "$故方程t^2x\"-4tx'+6x=0的通解为x=c_1t^2+c_2t^3$\n",
    "\n",
    "$利用常数变易法,求x_1=c_1(t)t^2+c_2(t)t^3的一个特解,得方程组$\n",
    "\n",
    "$$\\begin {cases}\n",
    "  c_1'(t)t^2+c_2'(t)t^3=0\\\\\n",
    "   c_1'(t)2t+c_2'(t)3t^2=\\frac{1}{t}\n",
    "   \\end{cases} $$\n",
    "   \n",
    "   $c_1'(t)=-\\frac{1}{t^2},c_2'(t)=\\frac{1}{t^3}$\n",
    "   \n",
    "   $积分得：c_1(t)=\\frac{1}{t}+c_1,c_2(t)=-\\frac{1}{2t^2}+c_2$\n",
    "   \n",
    "   $\\therefore 方程通解为x=c_1t^2+c_2t^3+\\frac{1}{2}t$"
   ]
  },
  {
   "cell_type": "markdown",
   "metadata": {
    "collapsed": true
   },
   "source": [
    "# <font color='red'>A  8/11"
   ]
  },
  {
   "cell_type": "code",
   "execution_count": null,
   "metadata": {
    "collapsed": true
   },
   "outputs": [],
   "source": []
  }
 ],
 "metadata": {
  "kernelspec": {
   "display_name": "SageMath 7.3",
   "language": "",
   "name": "sagemath"
  },
  "language_info": {
   "codemirror_mode": {
    "name": "ipython",
    "version": 2
   },
   "file_extension": ".py",
   "mimetype": "text/x-python",
   "name": "python",
   "nbconvert_exporter": "python",
   "pygments_lexer": "ipython2",
   "version": "2.7.10"
  }
 },
 "nbformat": 4,
 "nbformat_minor": 0
}
