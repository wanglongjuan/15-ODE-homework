{
 "cells": [
  {
   "cell_type": "markdown",
   "metadata": {},
   "source": [
    "3.求下列方程的通解。   \n",
    "\n",
    "（1）$t^2x''+tx'-x=0$  \n",
    "解：设$x=t^k$，得到$k$应满足的方程为  \n",
    "$$k(k-1)+k-1=0  或  k^2-1=0$$  \n",
    "故$$k_1=1,k_2=-1$$  \n",
    "而方程的通解为  \n",
    "$$x=c_1t+c_2\\frac{1}{t}$$"
   ]
  },
  {
   "cell_type": "markdown",
   "metadata": {},
   "source": [
    "（2）$t^2x''-4tx'+6x=t$  \n",
    "解：先求方程$t^2x''-4tx'+6x=0$的通解.  \n",
    "设$x=t^k$,则得到$k$应满足的方程为  \n",
    "$$k(k-1)-4k+6=0或(k-2)(k-3)=0$$\n",
    "故$$k_1=2,k_2=3$$  \n",
    "而方程$t^2x''-4tx'+6x=0$的通解为  \n",
    "$$x=c_1t^2+c_2t^3$$  \n",
    "故利用常数变易法，求已知方程的形如\n",
    "$$x_1=c_1(t)t^2+t^3c_2(t)$$  \n",
    "的一个特解，可得到$c'_1(t)$和$c'_2(t)$满足的代数方程组为  \n",
    "$$\\begin{cases}  \n",
    "t^2c'_1(t)+t^3c'_2(t)=0,\\\\    \n",
    "2tc'_1(t)+3t^2c\"_2(t)=\\frac{1}{t}  \n",
    "\\end{cases}$$ \n",
    "解得  \n",
    "$$c'_1(t)=-\\frac{1}{t^2},c_1(t)=\\frac{1}{t}$$  \n",
    "$$c'_2(t)=\\frac{1}{t^3},c_2(t)=-\\frac{1}{2t^2}$$  \n",
    "故方程的通解为  \n",
    "$$x=c_1t^2+c_2t^3+t-\\frac{1}{2}t,$$  \n",
    "化简得  \n",
    "$$x=c_1t^2+c_2t^3+\\frac{1}{2}t$$"
   ]
  },
  {
   "cell_type": "markdown",
   "metadata": {
    "collapsed": true
   },
   "source": [
    "# <font color='red'>A  8/11"
   ]
  },
  {
   "cell_type": "code",
   "execution_count": null,
   "metadata": {
    "collapsed": true
   },
   "outputs": [],
   "source": []
  }
 ],
 "metadata": {
  "kernelspec": {
   "display_name": "SageMath 7.3",
   "language": "",
   "name": "sagemath"
  },
  "language_info": {
   "codemirror_mode": {
    "name": "ipython",
    "version": 2
   },
   "file_extension": ".py",
   "mimetype": "text/x-python",
   "name": "python",
   "nbconvert_exporter": "python",
   "pygments_lexer": "ipython2",
   "version": "2.7.10"
  }
 },
 "nbformat": 4,
 "nbformat_minor": 0
}
