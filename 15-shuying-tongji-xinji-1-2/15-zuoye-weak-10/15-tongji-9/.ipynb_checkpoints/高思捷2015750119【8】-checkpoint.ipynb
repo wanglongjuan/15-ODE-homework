{
 "cells": [
  {
   "cell_type": "markdown",
   "metadata": {},
   "source": [
    "# $$常微分作业8$$\n",
    "## 班级：统计学\n",
    "## 姓名：高思捷\n",
    "## 学号：2015750119"
   ]
  },
  {
   "cell_type": "markdown",
   "metadata": {},
   "source": [
    "## 求解下列方程的通解。"
   ]
  },
  {
   "cell_type": "markdown",
   "metadata": {},
   "source": [
    "## （1）$ t^2x''+tx'-x=0 $|\n",
    "\n",
    "## （2）$ t^2x''-4tx'+6x=t $"
   ]
  },
  {
   "cell_type": "markdown",
   "metadata": {},
   "source": [
    "（1）解：\n",
    "\n",
    "设$x=t^k$,则有：\n",
    "\n",
    "$k^2-1=0$\n",
    "\n",
    "即得$k_1=1,k_2=-1$"
   ]
  },
  {
   "cell_type": "markdown",
   "metadata": {},
   "source": [
    "则\n",
    "方程的通解为："
   ]
  },
  {
   "cell_type": "markdown",
   "metadata": {
    "collapsed": true
   },
   "source": [
    "$x=c_1t+c_2\\frac{1}{t}$"
   ]
  },
  {
   "cell_type": "markdown",
   "metadata": {},
   "source": [
    "（2）解："
   ]
  },
  {
   "cell_type": "markdown",
   "metadata": {},
   "source": [
    "对方程$t^2x''-4tx'+6x=0$求通解"
   ]
  },
  {
   "cell_type": "markdown",
   "metadata": {},
   "source": [
    "设$x=t^k$，则有"
   ]
  },
  {
   "cell_type": "markdown",
   "metadata": {},
   "source": [
    "(k-2)(k-3）=0"
   ]
  },
  {
   "cell_type": "markdown",
   "metadata": {},
   "source": [
    "所以$k_1=2,k_2=3$"
   ]
  },
  {
   "cell_type": "markdown",
   "metadata": {},
   "source": [
    "即得$t^2x''-4tx'+6x=0的通解为:$"
   ]
  },
  {
   "cell_type": "markdown",
   "metadata": {},
   "source": [
    "$x=c_1t^2+c_2t^3$"
   ]
  },
  {
   "cell_type": "markdown",
   "metadata": {},
   "source": [
    "即由常数变易法，求形如：$x_1=c_1(t)t^2+c_2(t)t^3$的一个特解"
   ]
  },
  {
   "cell_type": "markdown",
   "metadata": {},
   "source": [
    "即得$c_1'(t)、c_2'(t)，满足：$"
   ]
  },
  {
   "cell_type": "markdown",
   "metadata": {},
   "source": [
    "$\\begin{cases}\n",
    "         t^2c_1'(t)+t^3c_2'(t)=0\\\\\n",
    "          2tc_1'(t)+3t^2c_2'(t)=\\frac{1}{t}\\\\\n",
    "          \\end{cases}$"
   ]
  },
  {
   "cell_type": "markdown",
   "metadata": {},
   "source": [
    "解得："
   ]
  },
  {
   "cell_type": "markdown",
   "metadata": {},
   "source": [
    " $c_1'(t)=-\\frac{1}{t^2},c_1(t)=\\frac{1}{t}$"
   ]
  },
  {
   "cell_type": "markdown",
   "metadata": {},
   "source": [
    "$c_2'(t)=\\frac{1}{t^3},c_2(t)=-\\frac{1}{2t^2}$"
   ]
  },
  {
   "cell_type": "markdown",
   "metadata": {},
   "source": [
    "所以方程通解为："
   ]
  },
  {
   "cell_type": "markdown",
   "metadata": {},
   "source": [
    "$x=c_1t^2+c_2t^3+\\frac{1}{2}t$"
   ]
  },
  {
   "cell_type": "markdown",
   "metadata": {},
   "source": [
    "# <font color='red'>A  8/11"
   ]
  },
  {
   "cell_type": "code",
   "execution_count": null,
   "metadata": {
    "collapsed": true
   },
   "outputs": [],
   "source": []
  }
 ],
 "metadata": {
  "kernelspec": {
   "display_name": "SageMath 7.3",
   "language": "",
   "name": "sagemath"
  },
  "language_info": {
   "codemirror_mode": {
    "name": "ipython",
    "version": 2
   },
   "file_extension": ".py",
   "mimetype": "text/x-python",
   "name": "python",
   "nbconvert_exporter": "python",
   "pygments_lexer": "ipython2",
   "version": "2.7.10"
  }
 },
 "nbformat": 4,
 "nbformat_minor": 0
}
