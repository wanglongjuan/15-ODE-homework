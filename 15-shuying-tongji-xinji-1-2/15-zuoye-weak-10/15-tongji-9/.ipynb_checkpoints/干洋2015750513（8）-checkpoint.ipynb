{
 "cells": [
  {
   "cell_type": "markdown",
   "metadata": {},
   "source": [
    "## 常微分第八次作业\n",
    "## 干洋 2015750513\n",
    "## 第165页第3题：\n",
    "## 求下列方程的通解：\n",
    "## （1）$t^2x''+tx'-x=0$\n",
    "## （2）$t^2x''-4tx'+6x=t$"
   ]
  },
  {
   "cell_type": "markdown",
   "metadata": {},
   "source": [
    "## 解：（1）设$x=t^k$,得到k应满足的方程\n",
    "$$\n",
    "k(k-1)+k-1=0或k^2-1=0\n",
    "$$\n",
    "## 故$k_1=1,k_2=-1$，而方程的通解为\n",
    "$$\n",
    "x=c_1t+c_2 \\frac{1}{t}\n",
    "$$"
   ]
  },
  {
   "cell_type": "markdown",
   "metadata": {},
   "source": [
    "## （2）先求方程$t^2x''-4tx'+6x=0$的通解。\n",
    "## 设$x=t^k$，则得到k应满足的方程\n",
    "$$\n",
    "k(k-1)-4k+6=0或(k-2)(k-3)=0\n",
    "$$\n",
    "## 故$k_1=2,k_2=3$，而方程的通解为\n",
    "$$\n",
    "x=c_1t^2+c_2t^3\n",
    "$$\n",
    "## 故利用常数变易法，求已知方程的形如\n",
    "$$\n",
    "x=c_1(t)t^2+c_2(t)t^3\n",
    "$$\n",
    "## 的一个特解，可得到$c'_1(t)和c'_2(t)$满足的代数方程组\n",
    "$$\n",
    "\\begin{cases}\n",
    "c'_1(t)t^2+c'_2(t)t^3=0\\\\\n",
    "2tc'_1(t)+3t^2c'_2(t)=\\frac{1}{t}\\\\\n",
    "\\end{cases}\n",
    "$$\n",
    "## 解得$c'_1(t)=-\\frac{1}{t},c_1(t)=\\frac{1}{t},c'_2(t)=\\frac{1}{t^3},c_1(t)=-\\frac{1}{2t^2}$\n",
    "## 故方程的通解为\n",
    "$$\n",
    "x=c_1t^2+c_2t^3+t-\\frac{1}{2}t\n",
    "$$\n",
    "## 化简得$x=c_1t^2+c_2t^3+\\frac{1}{2}t$"
   ]
  },
  {
   "cell_type": "markdown",
   "metadata": {
    "collapsed": true
   },
   "source": [
    "# <font color='red'>A  8/11"
   ]
  },
  {
   "cell_type": "code",
   "execution_count": null,
   "metadata": {
    "collapsed": true
   },
   "outputs": [],
   "source": []
  }
 ],
 "metadata": {
  "kernelspec": {
   "display_name": "SageMath 7.3",
   "language": "",
   "name": "sagemath"
  },
  "language_info": {
   "codemirror_mode": {
    "name": "ipython",
    "version": 2
   },
   "file_extension": ".py",
   "mimetype": "text/x-python",
   "name": "python",
   "nbconvert_exporter": "python",
   "pygments_lexer": "ipython2",
   "version": "2.7.10"
  }
 },
 "nbformat": 4,
 "nbformat_minor": 0
}
