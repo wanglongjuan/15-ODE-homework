{
 "cells": [
  {
   "cell_type": "markdown",
   "metadata": {},
   "source": [
    "## 姓名：龙嵛葭\n",
    "## 学号：2015750112"
   ]
  },
  {
   "cell_type": "markdown",
   "metadata": {},
   "source": [
    "## 一.求下列方程的通解"
   ]
  },
  {
   "cell_type": "markdown",
   "metadata": {},
   "source": [
    "## （1）$t^2x^{\\prime\\prime}+tx^\\prime-x=0$"
   ]
  },
  {
   "cell_type": "markdown",
   "metadata": {},
   "source": [
    "设$x=t^K$,得到关于k的方程\n",
    "$$K(k-1)+K-1=0$$即$$(K+1)(K-1)=0$$\n",
    "\n",
    "则$K_{1,2}=±1$,方程的通解为$$x=c_1t+c_2\\frac{1}{t},$$其中$c_1,c_2$为R"
   ]
  },
  {
   "cell_type": "markdown",
   "metadata": {},
   "source": [
    "## (2)$t^2x^{\\prime\\prime}-4tx^\\prime+6x=t$"
   ]
  },
  {
   "cell_type": "markdown",
   "metadata": {},
   "source": [
    "设$x=t^K$,代入其所对应的齐次方程，得$$K(k-1)-4K+6=0$$即$$(k-2)(K-3)=0$$\n",
    "\n",
    "所以$K_{1,2}=2,3$,从而齐次方程的通解为$$x=c_1t^2+c_2t^3$$\n",
    "\n",
    "不妨设非齐次方程的特解为$\\tilde x=at$，代入程$$-4at+6at=t$$\n",
    "则$t=\\frac{1}{2}$,所以$$\\tilde x=\\frac{1}{2}t$$\n",
    "\n",
    "因此原方的通解为$$x=c_1t^2+c_2t^3+\\frac{1}{2}t,$$其中$c_1,c_2$为R\n"
   ]
  },
  {
   "cell_type": "markdown",
   "metadata": {},
   "source": [
    "# <font color='red'>A  8/11"
   ]
  },
  {
   "cell_type": "code",
   "execution_count": null,
   "metadata": {
    "collapsed": true
   },
   "outputs": [],
   "source": []
  }
 ],
 "metadata": {
  "kernelspec": {
   "display_name": "SageMath 7.3",
   "language": "",
   "name": "sagemath"
  },
  "language_info": {
   "codemirror_mode": {
    "name": "ipython",
    "version": 2
   },
   "file_extension": ".py",
   "mimetype": "text/x-python",
   "name": "python",
   "nbconvert_exporter": "python",
   "pygments_lexer": "ipython2",
   "version": "2.7.10"
  }
 },
 "nbformat": 4,
 "nbformat_minor": 0
}
