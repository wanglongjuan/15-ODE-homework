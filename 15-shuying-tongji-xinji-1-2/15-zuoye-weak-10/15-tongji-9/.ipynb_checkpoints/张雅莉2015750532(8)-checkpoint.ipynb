{
 "cells": [
  {
   "cell_type": "markdown",
   "metadata": {},
   "source": [
    "$P165页3、求下列方程的解。$\n",
    "\n",
    "$(1)t^2x''+tx'-x=0$\n",
    "\n",
    "$(2)t^2x''-4tx'+6x=t$\n",
    "\n",
    "$(1)解：设x=t^k,代入方程，得到关于k的方程k(k-1)+k-1=0,整理得k^2-1=0$\n",
    "\n",
    "$解得k_1=1,k_2=-1$\n",
    "\n",
    "$所以方程的通解为x=c_1t+c_2\\frac{1}{t},其中c_1,c_2为任意常数。$\n",
    "\n",
    "$(2)解：先求t^2x''-4tx'+6x=0的通解$\n",
    "\n",
    "$设x=t^k,代入方程，得到关于k的方程k(k-1)-4k+6=0,整理得(k-2)(k-3)=0$\n",
    "\n",
    "$解得k_1=2,k_2=3$\n",
    "\n",
    "$所以方程t^2x''-4tx'+6x=0的通解为x=c_1t^2+c_2t^2,其中c_1,c_2为任意常数。$\n",
    "\n",
    "$利用常数变易法，求x=c_1(t)t^2+c_2(t)t^2得一个特解，可得关于c'_1(t),c'_2(t)的方程组$\n",
    "\n",
    "$\\begin{cases}t^2c'_1(t)+t^3c'_2(t)=0\\\\2tc'_1(t)-3t^2c'_2(t)=\\frac{1}{t}\\end{cases}$\n",
    "\n",
    "$求解，得\\begin{cases}c'_1(t)=-\\frac{1}{t^2}\\\\c'_2(t)=\\frac{1}{t^3}\\end{cases}$\n",
    "\n",
    "$积分，得\\begin{cases}c_1(t)=\\frac{1}{t}+c_1\\\\c_2(t)=-\\frac{1}{2t^2}+c_2\\end{cases}$\n",
    "\n",
    "$所以方程的通解为x=c_1t^2+c_2t^3+\\frac{1}{2}t.$"
   ]
  },
  {
   "cell_type": "markdown",
   "metadata": {},
   "source": [
    "# <font color='red'>A  8/11"
   ]
  },
  {
   "cell_type": "code",
   "execution_count": null,
   "metadata": {
    "collapsed": true
   },
   "outputs": [],
   "source": []
  }
 ],
 "metadata": {
  "kernelspec": {
   "display_name": "SageMath 7.3",
   "language": "",
   "name": "sagemath"
  },
  "language_info": {
   "codemirror_mode": {
    "name": "ipython",
    "version": 2
   },
   "file_extension": ".py",
   "mimetype": "text/x-python",
   "name": "python",
   "nbconvert_exporter": "python",
   "pygments_lexer": "ipython2",
   "version": "2.7.10"
  }
 },
 "nbformat": 4,
 "nbformat_minor": 0
}
