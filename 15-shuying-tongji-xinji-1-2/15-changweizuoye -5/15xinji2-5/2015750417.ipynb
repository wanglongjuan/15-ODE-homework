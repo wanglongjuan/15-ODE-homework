{
 "cells": [
  {
   "cell_type": "markdown",
   "metadata": {
    "collapsed": false
   },
   "source": [
    "1、讨论方程$$\\frac{dy}{dx}=\\frac{3}{2}y^{\\frac{1}{3}}$$在怎样的区域中满足解的存在唯一性定理的条件，并求通过点（0,0）的一切解。"
   ]
  },
  {
   "cell_type": "markdown",
   "metadata": {},
   "source": [
    " 解：$因为 \\frac{\\partial f(x,y)}{\\partial y}=\\frac{1}{2}y^{\\frac{-2}{3}}在 \\ y\\neq0 \\ 上存在且连续；\\\\ 而 \\frac{3}{2}y^{\\frac{1}{3}} \\ 在 \\ |y|\\ge\\sigma>0 \\ 上连续， \\\\ 由 \\  \\frac{dy}{dx}=\\frac{3}{2}y^{\\frac{1}{3}} \\ 有：|y|=(x+c)^{\\frac{3}{2}},\\\\ 又因为 \\ y(0)=0 \\ 所以: \\ |y|=x^{\\frac{3}{2}},\\\\ 另外 \\ y=0\\ 也是方程的解；\\\\ 故方程的解为：\\ |y|=\\begin{cases}x^{\\frac{3}{2}} &, \\text x\\ge0;\\\\ 0  &, \\text x<0 \\end{cases}$ "
   ]
  },
  {
   "cell_type": "markdown",
   "metadata": {},
   "source": [
    "# <font color='red'>题目做错？？"
   ]
  },
  {
   "cell_type": "markdown",
   "metadata": {},
   "source": [
    "2、证明格朗沃尔（Gronwall）不等式：$\\\\ 设K为非负常数，\\ f(t) \\ 和 \\ g(t) \\ 为在区间 \\alpha\\le t\\le\\beta上的连续非负函数，且满足不等式$ $$\\\\  f(t)\\le K+\\int_\\alpha^t f(s)g(s) {\\rm d}s,\\ \\alpha\\le t\\le\\beta,\\ $$ 则有 $$ f(t)\\le Kexp(\\int_\\alpha^t g(s) {\\rm d}s), \\ \\alpha\\le t\\le\\beta. \\\\ $$并由此证明教材中定理1的命题5."
   ]
  },
  {
   "cell_type": "markdown",
   "metadata": {},
   "source": [
    "证明：$令 \\ R(t)=\\int_\\alpha^t f(s)g(s) {\\rm d}s,\\ 则 \\ R'(T)=f(t)g(t) $ $$ \\begin{align}R'(T)-R(t) &=f(t)g(t)-R(t)g(t) \\\\ &\\le kg(t)R'(T)-R(t)g(t) \\\\ &\\le kg(t) \\end{align}$$ $两边同时乘以 \\ exp(-\\int_\\alpha^t g(s) {\\rm d}s) \\ \\ 则有：\\\\ R'(T) \\ exp(-\\int_\\alpha^t g(s) {\\rm d}s)-R(t)g(t) \\ exp(-\\int_\\alpha^t g(s) {\\rm d}s)\\le kg(t) \\ exp(-\\int_\\alpha^t g(s) {\\rm d}s) \\\\ 两边从\\alpha到t积分：\\\\ R(t) \\ exp(-\\int_\\alpha^t g(s){\\rm d}s)\\le-\\int_\\alpha^t kg(s) {\\rm d}s \\ exp(-\\int_\\alpha^t g(r) {\\rm d}r)ds \\\\ 即 \\ \\ \\ R(t) \\ \\le \\ \\int_\\alpha^t kg(s) {\\rm d}s \\ exp(-\\int_\\alpha^t g(r) {\\rm d}r)ds \\\\ 又 \\ \\ f(t) \\le 1 \\le k+R(t) \\le k+k \\int_\\alpha^t g(s)exp(-\\int_\\alpha^t g(r) {\\rm d}r) {\\rm d}s \\le k(1-1+exp(-\\int_\\alpha^t g(r) {\\rm d}r))=k \\ exp(\\int_\\alpha^t g(r) {\\rm d}r) \\\\ 即 \\ f(t) \\ \\le k\\int_\\alpha^t g(r) {\\rm d}r$"
   ]
  },
  {
   "cell_type": "markdown",
   "metadata": {},
   "source": [
    "3、如果函数$f(x,y)$于带域$\\alpha\\le x\\le\\beta$上连续且关于$y$满足利普希茨条件，则教材中方程$（3.1）$满足条件$y(x_0)=y_0$的解于整个区间$[\\alpha,\\beta]$上存在且唯一。试证明之。$\\\\(提示：用逐步逼近法，取M=\\max_{x\\epsilon[\\alpha,\\beta]}|f(x,y_0)|.)$"
   ]
  },
  {
   "cell_type": "markdown",
   "metadata": {},
   "source": [
    "证明：$证明方法类似于教材中定理1.由教材中命题1我们知方程（3.1）满足条件y(x_0)=y_0的解等价于求积分方程y=y_0+\\int_{x_0}^x f(x,y) {\\rm d}x,\\ x \\epsilon[\\alpha,\\beta]的连续解，因此我们只要证明上述积分方程的解的存在唯一性即可。\\\\ 现取 \\ \\ \\ \\begin{align}y_0(x) &=y_0,\\\\ y_1(x) &=y_0+\\int_{x_0}^x f(\\xi,y_0(\\xi)) {\\rm d}\\xi,\\\\ \\cdots \\\\ y_n(x) &=y_0+\\int_{x_0}^x f(\\xi,y_{n-i}(\\xi)) {\\rm d}\\xi, \\ \\ \\ \\ \\ \\ (1) \\\\ \\cdots \\end{align} \\\\ 易见 \\ y_n(x)在\\alpha\\le x\\le\\beta上存在且连续。下面证明函数列{y_n(x)}在\\alpha\\le x\\le\\beta上一致收敛。考察级数 \\\\ \\ \\ \\ \\ \\ \\  y_0(x)+\\sum_{k=1}^\\infty [y_k(x)\n",
    "-y_{k-1}(x)], \\ x\\epsilon[\\alpha,\\beta]. \\ \\ \\ \\ \\ \\ (2) \\\\ 取\\ \\  M=\\max_{x\\epsilon[\\alpha,\\beta]}|f(x,y_0)|,由(1)式有 \\\\  \\  \\\\ \\ |y_1(x)-y_0(x)|\\le\\int_{x_0}^x |f(\\xi,y_0(\\xi))| {\\rm d}\\xi\\le M|x-x_0|, \\ \\ \\ \\ \\ (3) \\\\ 及 \\ \\ |y_2(x)-y_1(x)|\\le\\int_{x_0}^x |f(\\xi,y_1(\\xi))-f(\\xi,y_0(\\xi))| {\\rm d}\\xi.\\\\ 利用利普希茨条件及(3),得到 \\\\ \\ \\ |y_2(x)-y_1(x)|\\le L\\int_{x_0}^x |y_1(\\xi)-y_0(\\xi)| {\\rm d}\\xi\\le L\\int_{x_0}^x M|\\xi-x_0| {\\rm d}\\xi=\\frac{ML}{2!}(x-x_0)^2. \\\\ 于是,由数学归纳法可知，\\\\ |y_k(x)-y_{k-1}(x)|\\le\\frac{ML^{k-1}}{k!}|x-x_0|^k\\le\\frac{ML^{k-1}}{k!}(\\beta-\\alpha)^k.\\\\ 上式右端是正项收敛级数\\sum_{k=1}^\\infty frac{ML^{k-1}}{k!}(\\beta-\\alpha)^k的一般项。由Weierstrass判别法，知级数(2)在 \\alpha\\le x\\le\\beta上一致收敛，\\\\ 因而函数列{y_n(x)}在[\\alpha,\\beta]上一致收敛。\\\\ 现设\\lim_{n \\rightarrow \\infty} y_n(x)=y(x),\\\\ 易知y(x)在[\\alpha,\\beta]上连续, \\ 且{f(x,y_n(x))}在[\\alpha,\\beta]上一致收敛于f(x,y(x)).\\\\ 因此，对(1)式两边取极限， \\\\ 即得y(x)=y_0+\\int_{x_0}^x f(\\xi,y(\\xi)) {\\rm d}\\xi, \\ 解的存在唯一性得证。$"
   ]
  },
  {
   "cell_type": "markdown",
   "metadata": {},
   "source": [
    "# <font color='red'>唯一性？？"
   ]
  },
  {
   "cell_type": "markdown",
   "metadata": {},
   "source": [
    "4、$给定积分方程 \\\\ \\ \\ \\ \\ \\varphi(x)=f(x)+\\lambda\\int_a^b K(x,\\xi)\\varphi(\\xi) {\\rm d}\\xi,\\ \\ \\ \\ \\ \\ \\ (*) \\\\ 其中f(x)是[a,b]上的已知连续函数，K(x,\\xi)是a\\le x\\le b,a\\le\\xi\\le b上的已知连续函数。证明当|\\lambda|足够小时（\\lambda是常数），(*)在[a,b]上存在唯一的连续解。\\\\ \\ \\ (提示：作逐步逼近函数序列 \\\\ \\ \\ \\ \\varphi_0(x)=f(x), \\\\ \\varphi_{n+1}(x)=f(x)+\\lambda\\int_a^b K(x,\\xi)\\varphi_n(\\xi) {\\rm d}\\xi(n=0,1,2,\\cdots).)$"
   ]
  },
  {
   "cell_type": "markdown",
   "metadata": {},
   "source": [
    "证明：$作逐次逼近序列，取 \\\\ \\varphi_0(x)=f(x),\\\\令 \\ \\ \\varphi_{n+1}(x)=f(x)+\\lambda\\int_a^b k(x,\\xi)\\varphi(\\xi) {\\rm d}\\xi,\\\\ \\ \\ \\ \\ \\ \\ \\ \\ \\ \\ \\ \\cdots \\\\ \\ \\ \\ \\ \\ \\ \\varphi_{n+1}(x)=f(x)+\\lambda\\int_a^b k(x,\\xi)\\varphi_n(\\xi) {\\rm d}\\xi,\\\\ \\ \\ \\ \\ \\ \\ \\ \\ \\ \\ \\ \\cdots \\\\ 令M=\\max_{x\\epsilon[a,b]}|f(x)|,L=\\max_{x\\epsilon[a,b],\\xi\\epsilon[a,b]}|k(x,\\xi)|>0,\\\\ \\ \\begin{align}|\\varphi_1(x)-\\varphi_0(x)| &=|\\lambda\\int_a^b k(x,\\xi)\\varphi_0(\\xi) {\\rm d}\\xi| \\\\ &\\le|\\lambda|\\int_a^b |k(x,\\xi)||f(\\xi)| {\\rm d}\\xi \\\\ &\\le|\\lambda|ML(b-a), \\end{align} $ $\\\\假设|\\varphi_k(x)-\\varphi_{k-1}(x)|\\le|\\lambda|^kL^kM(b-a)^k成立，则有 \\\\ \\ \\ \\begin{align}|\\varphi_{k+1}(x)-\\varphi_k(x)| &=|\\lambda\\int_a^b k(x,\\xi)(\\varphi_k(\\xi)-\\varphi_{k-1}(\\xi)) {\\rm d}\\xi| \\\\ &\\le|\\lambda|\\int_a^b |k(x,\\xi)||\\varphi_k(\\xi)-\\varphi_{k-1}(\\xi)| {\\rm d}\\xi \\\\ &\\le\\int_a^b L^{k+1}|\\lambda|^kM(b-a)^k {\\rm d}\\xi \\\\ &=|\\lambda|^{k+1}L^{k+1}M(b-a)^{k+1}, \\end{align} 由归纳法知，对任意n\\epsilon N,有 \\\\ \\ \\ \\ |\\varphi_n(x)-\\varphi_{k-1}(x)|\\le ML^n|\\lambda|^n(b-a)^n,\\\\ 下证{\\varphi_n(x)}在[a,b]上一致连续，考虑级数 \\\\  \\ \\ \\ \\varphi_0(x)+\\sum_{k=1}^\\infty (\\varphi_k(x)-\\varphi_{k-1}(x)), \\ \\ \\ \\ (2) \\\\ 该级数的前n项和为 \\\\ \\ \\ \\ \\ \\ \\varphi_0(x)+\\sum_{k=1}^\\infty (\\varphi_k(x)-\\varphi_{k-1}(x))=\\varphi_n(x). \\\\ 所以要证序列{\\varphi_n(x)}在[a,b]上一致收敛，只须证级数(2)在[a,b]上一致收敛即可，由于 \\\\ \\ \\ \\ \\ |\\varphi_k(x)-\\varphi_{k-1}(x)|\\le ML^k|\\lambda|^k(b-a)^k,\\\\ \\ \\ 当|\\lambda|<\\frac{1}{(b-a)L}时，级数\\sum_{k=1}^\\infty ML^k|\\lambda|^k(b-a)^k收敛，\\\\ 由此可知当|\\lambda|<\\frac{1}{(b-a)L}时，级数(2)在[a,b]上一致收敛。\\\\ 设极限函数为\\varphi^*(x),即x\\epsilon[a,b]时,当n \\rightarrow \\infty时，\\varphi_n(x)一致收敛于\\varphi^*(x),且由\\varphi_n(x)的连续性知\\varphi^*(x)在[a,b]上连续，对迭代列(1)，当n \\rightarrow \\infty时，两边取极限，得 \\\\ \\ \\ \\ \\ \\varphi^*(x)=f(x)+\\lambda\\int_a^b k(z,\\xi)\\varphi^*(\\xi) {\\rm d}\\xi.\\ \\ \\ (|\\lambda|<\\frac{1}{(b-a)L}) \\\\ 这就证明了当|\\lambda|<\\frac{1}{(b-a)L}时，积分方程必存在连续解。\\\\ 下证当|\\lambda|<\\frac{1}{(b-a)L}时，（*）方程的解的唯一性。用反证法。\\\\ 设另有解\\overline{\\varphi}(x)且\\overline{\\varphi}(x)\\neq \\varphi^*(x),即 \\\\ \\overline{\\varphi}(x)=f(x)+\\lambda\\int_a^b k(x,\\xi)\\overline\\varphi(\\xi) {\\rm d}\\xi $ $\\\\ 记Q=\\max_{x\\epsilon[a,b]} |\\varphi^*(x)-\\overline{\\varphi}(x)|>0. \\\\ \\begin{align} |\\varphi^*(x)-\\overline{\\varphi}(x)| &=|\\lambda\\int_a^b k(x,\\xi)(\\varphi^*(x)-\\overline{\\varphi}(x)) {\\rm d}\\xi| \\\\ &\\le|\\lambda|\\int_a^b L|\\varphi^*(x)-\\overline{\\varphi}(x)| {\\rm d}\\xi \\\\ &=|\\lambda|QL(b-a) \\end{align}, \\\\ 即有 \\ Q\\le|\\lambda|QL(b-a),\\\\ 由于Q>0,所以|\\lambda|\\ge\\frac{a}{(b-a)L},与\\lambda|<\\frac{a}{(b-a)L}矛盾。唯一性得证。$"
   ]
  },
  {
   "cell_type": "markdown",
   "metadata": {},
   "source": [
    "# <font color='red'>A  11/10"
   ]
  },
  {
   "cell_type": "code",
   "execution_count": null,
   "metadata": {
    "collapsed": true
   },
   "outputs": [],
   "source": []
  }
 ],
 "metadata": {
  "kernelspec": {
   "display_name": "Python 2",
   "language": "python",
   "name": "python2"
  },
  "language_info": {
   "codemirror_mode": {
    "name": "ipython",
    "version": 2
   },
   "file_extension": ".py",
   "mimetype": "text/x-python",
   "name": "python",
   "nbconvert_exporter": "python",
   "pygments_lexer": "ipython2",
   "version": "2.7.10"
  }
 },
 "nbformat": 4,
 "nbformat_minor": 0
}
