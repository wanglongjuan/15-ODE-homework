{
 "cells": [
  {
   "cell_type": "markdown",
   "metadata": {
    "collapsed": false
   },
   "source": [
    "**2016.9.27**"
   ]
  },
  {
   "cell_type": "markdown",
   "metadata": {},
   "source": [
    "**3.求初值问题**\n",
    "\n",
    "$$\n",
    "\\begin{cases}\n",
    "\\frac{\\mathrm d y}{\\mathrm d x}=x^2-y^2,R:|x+1|\\leq1；|y|\\leq1，\\\\\n",
    "y(-1)=0\n",
    "\\end{cases}\n",
    "$$"
   ]
  },
  {
   "cell_type": "markdown",
   "metadata": {},
   "source": [
    "**的解得存在区间，并求第二次近似解，给出在解的存在区间的误差估计。**"
   ]
  },
  {
   "cell_type": "markdown",
   "metadata": {},
   "source": [
    "**解：**"
   ]
  },
  {
   "cell_type": "markdown",
   "metadata": {},
   "source": [
    "易知，$x_0=-1,y_0=0,a=1,b=1$,得到 $M=max(|x^2-y^2|)=4,h=min(a,\\frac{b}{M})=\\frac{1}{4}$\n",
    "\n",
    "解的存在区间 \n",
    "\n",
    "$$|x=x_0|\\leq h$$\n",
    "$$|x-(-1)|=|x+1|\\leq \\frac{1}{4}$$\n",
    "\n"
   ]
  },
  {
   "cell_type": "markdown",
   "metadata": {},
   "source": [
    "令 $\\varphi_0(x)=y_0=0$ 则\n",
    "\n",
    "$$\n",
    "\\begin{aligned}\n",
    "\\varphi_1(x) &=y_0+\\int_{x_0}^x f(x,\\varphi_0(x)) \\mathrm d x\\\\\n",
    "&=\\int_{-1}^x x^2 \\mathrm d x\\\\\n",
    "&=\\frac{1}{3}x^3+\\frac{1}{3}\n",
    "\\end{aligned}\n",
    "$$\n"
   ]
  },
  {
   "cell_type": "markdown",
   "metadata": {},
   "source": [
    "$$\n",
    "\\begin{aligned}\n",
    "\\varphi_2(x) &=y_0+\\int_{x_0}^x f(x,\\varphi_1(x)) \\mathrm d x\\\\\n",
    "             &=\\int_{-1}^x (x^2-(\\frac{1}{3}x^3+\\frac{1}{3})^2)\\mathrm d x\\\\\n",
    "             &=\\frac{1}{3}x^3-\\frac{1}{63}x^7-\\frac{1}{18}x^4-\\frac{1}{9}+\\frac{11}{42}\n",
    "\\end{aligned}\n",
    "$$"
   ]
  },
  {
   "cell_type": "markdown",
   "metadata": {},
   "source": [
    "在解的存在区间的误差估计\n"
   ]
  },
  {
   "cell_type": "markdown",
   "metadata": {},
   "source": [
    "$$\n",
    "\\begin{aligned}\n",
    "|\\frac{\\partial f(x,y)}{\\partial y}| &=|-2y|\\\\\n",
    "& \\leq 2 =L\\\\\n",
    "|\\varphi_2(x)-\\varphi(x)| & \\leq \\frac{ML^2}{(n+1)!}h^{n+1}\\\\\n",
    "|\\varphi_2(x)-\\varphi(x)| & \\leq \\frac{4 \\times 2^2}{(2+1)!}\\times(\\frac{1}{4})^3\\\\\n",
    "& =\\frac{1}{24}\n",
    "\\end{aligned}\n",
    "$$"
   ]
  },
  {
   "cell_type": "markdown",
   "metadata": {},
   "source": [
    "**8.如果函数 $f(x,y)$ 与带域 $\\alpha \\leq x \\leq \\beta$ 上连续且关于 $y$ 满足利普希茨条件，则方程 $\\frac{\\mathrm d y}{\\mathrm d x}=f(x,y)$ 满足条件**\n",
    "\n",
    "**$y(x_0)=y_0$ 的解于整个区间 $[\\alpha,\\beta]$ 上存在且唯一。试证明之.**"
   ]
  },
  {
   "cell_type": "markdown",
   "metadata": {},
   "source": [
    "**解：**"
   ]
  },
  {
   "cell_type": "markdown",
   "metadata": {},
   "source": [
    "已知 $\\frac{\\mathrm d y}{\\mathrm d x}=f(x,y)$ ，$x\\in[\\alpha,\\beta]$ ,取 $x_0=\\frac{\\alpha+\\beta}{2},h=\\frac{\\beta-\\alpha}{2},M=\\max \\limits_{x\\in[\\alpha,\\beta]}(|f(x,y_0)|)$ \n",
    "\n",
    "则 在区间 $|x-x_0|\\leq h$ ,有\n",
    "\n",
    "$$y=y_0+\\int_{x_0}^x f(x,y)\\mathrm d x$$"
   ]
  },
  {
   "cell_type": "markdown",
   "metadata": {},
   "source": [
    "任取一连续函数 $y=\\varphi_0(x)$ 代入上述等式右边替代 $y$ ，有\n",
    "\n",
    "$$\\varphi_1(x)=y_0+\\int_{x_0}^x f(x,\\varphi_0(x))\\mathrm d x$$\n",
    "\n"
   ]
  },
  {
   "cell_type": "markdown",
   "metadata": {},
   "source": [
    "显然，$\\varphi_1(x)$ 也是连续函数，若 $\\varphi_1(x)=\\varphi_0(x)$ ,那么 $\\varphi_0(x)$ 就是方程的解\n",
    "\n",
    "否则，把 $\\varphi_1(x)$ 代入积分方程右端的 $\\varphi_0(x)$ ,得到\n",
    "\n",
    "$$\\varphi_2(x)=y_0+\\int_{x_0}^x f(x,\\varphi_1(x))\\mathrm d x$$"
   ]
  },
  {
   "cell_type": "markdown",
   "metadata": {},
   "source": [
    "继续此步骤，一般作函数 $$\\varphi_n(x)=y_0+\\int_{x_0}^x f(x,\\varphi_{n-1}(x))\\mathrm d x \\cdots①$$"
   ]
  },
  {
   "cell_type": "markdown",
   "metadata": {},
   "source": [
    "如此，得到一连续函数序列 $$\\varphi_0(x)，\\varphi_1(x)，\\cdots,\\varphi_n(x),\\cdots$$"
   ]
  },
  {
   "cell_type": "markdown",
   "metadata": {},
   "source": [
    "若 $\\varphi_{n+1}(x)=\\varphi_n(x)$ ,则 $\\varphi_n(x)$ 为积分方程的解\n",
    "\n",
    "否则，利用数学归纳法可证得上述连续函数序列有一极限函数 $\\varphi(x)$ ,即 \n",
    "\n",
    "$$\\lim_{n \\to \\infty} \\varphi_n(x)=\\varphi(x)$$"
   ]
  },
  {
   "cell_type": "markdown",
   "metadata": {},
   "source": [
    "对①式两边取极限，得到\n",
    "\n",
    "$$\n",
    "\\begin{aligned}\n",
    "\\lim_{n \\to \\infty} \\varphi_n(x) &=y_0+\\lim_{n \\to \\infty} \\int_{x_0}^x f(x,\\varphi_{n-1}(x))\\mathrm d x \\\\\n",
    "&=y_0+ \\int_{x_0}^x \\lim_{n \\to \\infty} f(x,\\varphi_{n-1}(x))\\mathrm d x \\\\\n",
    "&=y_0+\\int_{x_0}^x  f(x,\\varphi(x))\\mathrm d x \n",
    "\\end{aligned}\n",
    "$$"
   ]
  },
  {
   "cell_type": "markdown",
   "metadata": {},
   "source": [
    "即存在满足 $y(x_0)=y_0$ 的解为 $$\\varphi(x)=y_0+\\int_{x_0}^x f(x,\\varphi(x))\\mathrm d x$$"
   ]
  },
  {
   "cell_type": "markdown",
   "metadata": {
    "collapsed": true
   },
   "source": [
    "假设 $\\psi(x)$ 也是积分方程 $y=y_0+\\int_{x_0}^x f(x,y)\\mathrm d x$ 定义于 $[\\alpha,\\beta]$ 的另一个连续解\n",
    "\n",
    "\n"
   ]
  },
  {
   "cell_type": "markdown",
   "metadata": {},
   "source": [
    "$$\n",
    "\\begin{aligned}\n",
    "\\varphi_0(x) &=y_0 \\\\\n",
    "\\varphi_n(x) &=y_0+\\int_{x_0}^x f( \\xi,\\varphi_{n-1}(\\xi))\\mathrm d \\xi \\\\\n",
    "\\psi(x) &=y_0+\\int_{x_0}^x f( \\xi,\\psi(\\xi))\\mathrm d \\xi\n",
    "\\end{aligned}\n",
    "$$"
   ]
  },
  {
   "cell_type": "markdown",
   "metadata": {},
   "source": [
    "可进行如下估计\n",
    "\n",
    "$$\n",
    "\\begin{aligned}\n",
    "|\\varphi_0(x)-\\psi(x)|&\\leq \\int_{x_0}^x |f(\\xi,\\psi(\\xi))|\\mathrm d \\xi \\leq M(x-x_0)\\\\\n",
    "|\\varphi_1(x)-\\psi(x)|&\\leq \\int_{x_0}^x |f(\\xi,\\varphi_0(\\xi))-f(\\xi,\\psi(\\xi))|\\mathrm d \\xi\\\\\n",
    "& \\leq L\\int_{x_0}^x |\\varphi_0(\\xi)-\\psi(\\xi)| \\mathrm d \\xi\\\\\n",
    "& \\leq M L\\int_{x_0}^x (\\xi-x_0)\\mathrm d \\xi\\\\\n",
    "& = \\frac{M L}{2!}(x-x_0)^2\n",
    "\\end{aligned}\n",
    "$$"
   ]
  },
  {
   "cell_type": "markdown",
   "metadata": {},
   "source": [
    "现设 $|\\varphi_{n-1}(\\xi)-\\psi(\\xi)|\\leq \\frac{M L^{n-1}}{n!}(x-x_0)^n$ ,则有\n",
    "\n"
   ]
  },
  {
   "cell_type": "markdown",
   "metadata": {},
   "source": [
    "$$\n",
    "\\begin{aligned}\n",
    "|\\varphi_{n}(\\xi)-\\psi(\\xi)| &\\leq \\int_{x_0}^x |f(\\xi,\\varphi_{n-1}(\\xi))-f(\\xi,\\psi(\\xi))|\\mathrm d \\xi\\\\\n",
    "& \\leq L\\int_{x_0}^x |\\varphi_{n-1}(\\xi)-\\psi(\\xi)| \\mathrm d \\xi\\\\\n",
    "& = \\frac{M L^n}{n!} \\int_{x_0}^x (\\xi-x_0)^n \\mathrm d \\xi\\\\\n",
    "&=\\frac{M L^n}{(n+1)!}(x-x_0)^{n+1}\n",
    "\\end{aligned}\n",
    "$$"
   ]
  },
  {
   "cell_type": "markdown",
   "metadata": {},
   "source": [
    "由数学归纳法得知，对所有的正整数 $n$ ，有下面的估计式\n",
    "\n",
    "$$|\\varphi_{n}(\\xi)-\\psi(\\xi)| \\leq \\frac{M L^n}{(n+1)!}(x-x_0)^{n+1}$$\n",
    "\n",
    "因此，在 $|x-x_0|\\leq h$ ,有\n",
    "\n",
    "$$|\\varphi_{n}(\\xi)-\\psi(\\xi)| \\leq \\frac{M L^n}{(n+1)!}h^{n+1}$$"
   ]
  },
  {
   "cell_type": "markdown",
   "metadata": {},
   "source": [
    "易知，当 $x\\to\\infty$ 时，$\\frac{M L^n}{(n+1)!}h^{n+1}\\to 0$\n",
    "\n",
    "因而，${\\varphi_n(x)}$ 在 $|x-x_0|\\leq h$ 上一致收敛于 $\\psi(x)$ ,根据极限的唯一性，即得\n",
    "\n",
    "\n",
    "$$\\varphi(x)=\\psi(x)\\quad |x-x_0|\\leq h$$"
   ]
  },
  {
   "cell_type": "markdown",
   "metadata": {},
   "source": [
    "**2016.9.28**"
   ]
  },
  {
   "cell_type": "markdown",
   "metadata": {},
   "source": [
    "**6.** 证明格朗沃尔不等式：\n",
    "\n",
    "设 K 为非负常数，f(t) 和 g(t) 为在区间 $\\alpha \\leq t \\leq \\beta$ 上的连续非负函数，且满足不等式 \n",
    "\n",
    "$$f(t) \\leq K+\\int_{\\alpha}^t f(s)g(s)\\mathrm d s \\quad \\alpha \\leq t \\leq \\beta$$ "
   ]
  },
  {
   "cell_type": "markdown",
   "metadata": {},
   "source": [
    "则有 $$f(t) \\leq K exp(\\int_{\\alpha}^t g(s)\\mathrm d s) \\quad \\alpha \\leq t \\leq \\beta$$"
   ]
  },
  {
   "cell_type": "markdown",
   "metadata": {},
   "source": [
    "并由此证明定理1的命题5"
   ]
  },
  {
   "cell_type": "markdown",
   "metadata": {},
   "source": [
    "**证明：**"
   ]
  },
  {
   "cell_type": "markdown",
   "metadata": {},
   "source": [
    "令 $R(t)=\\int_{\\alpha}^t f(s)g(s)\\mathrm d s $ ,则 $R'(t)=f(t)g(t)$ ,得到 $f(t)=kR'(t)$"
   ]
  },
  {
   "cell_type": "markdown",
   "metadata": {},
   "source": [
    "$$\n",
    "\\begin{aligned}\n",
    "R'(t)-R(t)g(t) &=f(t)g(t)-R(t)g(t)\\\\\n",
    "&\\leq kR'(t)g(t)-R(t)g(t)\\\\\n",
    "& \\leq kg(t)\n",
    "\\end{aligned}\n",
    "$$"
   ]
  },
  {
   "cell_type": "markdown",
   "metadata": {},
   "source": [
    "两边同乘以 $exp(-\\int_{\\alpha}^t g(s)\\mathrm d s)$ 则有"
   ]
  },
  {
   "cell_type": "markdown",
   "metadata": {},
   "source": [
    "$R'(t)exp(-\\int_{\\alpha}^t g(s)\\mathrm d s）-R(t)g(t) exp(-\\int_{\\alpha}^t g(s)\\mathrm d s） \\leq  kg(t) exp(-\\int_{\\alpha}^t g(s)\\mathrm d s）$"
   ]
  },
  {
   "cell_type": "markdown",
   "metadata": {},
   "source": [
    "两边从 $\\alpha$ 到 $t$ 积分："
   ]
  },
  {
   "cell_type": "markdown",
   "metadata": {},
   "source": [
    "$ R(t)exp(-\\int_{\\alpha}^t g(s)\\mathrm d s）\\leq  -k\\int_{\\alpha}^t g(s)\\mathrm d s ~exp(-\\int_{\\alpha}^t g(r)\\mathrm d r）\\mathrm d s$"
   ]
  },
  {
   "cell_type": "markdown",
   "metadata": {},
   "source": [
    "即 \n",
    "$R(t)\\leq k\\int_{\\alpha}^t g(s)\\mathrm d s~exp(-\\int_{\\alpha}^t g(r)\\mathrm d r）\\mathrm d s$"
   ]
  },
  {
   "cell_type": "markdown",
   "metadata": {},
   "source": [
    "又 \n",
    "$$\n",
    "\\begin{aligned}\n",
    "f(t) &\\leq 1\\leq k+R(t)\\leq k+ k\\int_{\\alpha}^t g(s)\\mathrm d s~exp(-\\int_{\\alpha}^t g(r)\\mathrm d r）\\mathrm d s\\\\\n",
    "&\\leq k(1-1+exp(-\\int_{\\alpha}^t g(r)\\mathrm d r）\\\\\n",
    "&= k~exp(\\int_t^s g(r)\\mathrm d r)\n",
    "\\end{aligned}\n",
    "$$"
   ]
  },
  {
   "cell_type": "markdown",
   "metadata": {},
   "source": [
    "即 $f(t)\\leq k\\int_{\\alpha}^t g(r)\\mathrm d r$"
   ]
  },
  {
   "cell_type": "markdown",
   "metadata": {},
   "source": [
    "**10.** 给定积分方程 $$\\varphi(x)=f(x)+\\lambda \\int_a^b K(x,\\xi)\\varphi(\\xi)\\mathrm d \\xi \\quad(*)$$"
   ]
  },
  {
   "cell_type": "markdown",
   "metadata": {},
   "source": [
    "其中 $f(x)$ 是区间[a,b]上的已知连续函数，$K(x,\\xi)$ 是 $a \\leq x \\leq b,a \\leq \\xi \\leq b$ 上的已知连续函数。证明当 $|\\lambda|$ 足够小时\n",
    "\n",
    "（$\\lambda$ 是常数），$（*）$ 在 $[a,b]$ 上存在唯一的连续解"
   ]
  },
  {
   "cell_type": "markdown",
   "metadata": {},
   "source": [
    "**证：**"
   ]
  },
  {
   "cell_type": "markdown",
   "metadata": {},
   "source": [
    "（一）构造逼近函数序列\n",
    "\n",
    "$$\\varphi_0(x)=f(x)$$\n",
    "\n",
    "$$\\varphi_{n+1}(x)=f(x)+\\lambda \\int_a^b K(x,\\xi) \\varphi_n(\\xi)\\mathrm d \\xi \\quad(n=0,1,2,\\cdots)\\cdots①$$"
   ]
  },
  {
   "cell_type": "markdown",
   "metadata": {},
   "source": [
    "由于 f(x) 是 [a,b] 上的连续函数，可得 $\\varphi_0(x)$ 在 [a,b] 上连续"
   ]
  },
  {
   "cell_type": "markdown",
   "metadata": {},
   "source": [
    "又因为 $K(x,\\xi)$ 是 $a \\leq x \\leq b,a \\leq \\xi \\leq b$ 上的连续函数,可得 $\\varphi_1(x)$ 在 [a,b] 上连续"
   ]
  },
  {
   "cell_type": "markdown",
   "metadata": {},
   "source": [
    "由数学归纳法知，$\\varphi_n(x)$ 在 [a,b] 上连续"
   ]
  },
  {
   "cell_type": "markdown",
   "metadata": {},
   "source": [
    "（二）证明函数序列 $\\varphi_n(x)$ 在 [a,b] 上一致收敛"
   ]
  },
  {
   "cell_type": "markdown",
   "metadata": {},
   "source": [
    "考虑级数 $\\varphi_0(x)+\\sum_{k=1}^\\infty [\\varphi_k(x)-\\varphi_{k-1}(x)]\\cdots②$"
   ]
  },
  {
   "cell_type": "markdown",
   "metadata": {},
   "source": [
    "其部分和为 $\\varphi_0(x)+\\sum_{k=1}^\\infty [\\varphi_k(x)-\\varphi_{k-1}(x)]=\\varphi_n(x)$ ,取 $x_0=\\frac{a+b}{2},h=\\frac{b-a}{2},M=\\max \\limits_{x\\in[a,b]}(|K(x,\\xi)|)$\n",
    "\n",
    "在区间 $x\\in[a,b]$"
   ]
  },
  {
   "cell_type": "markdown",
   "metadata": {},
   "source": [
    "由（一）可知 $$|\\varphi_1(x)-\\varphi_0(x)|\\leq \\lambda \\int_{x_0}^x |K(x,\\xi)\\varphi_0(\\xi)|\\mathrm d \\xi \\leq \\lambda M(x-x_0)$$"
   ]
  },
  {
   "cell_type": "markdown",
   "metadata": {},
   "source": [
    "$$|\\varphi_2(x)-\\varphi_1(x)|\\leq \\lambda \\int_{x_0}^x |K(x,\\xi)\\varphi_1(x)-K(x,\\xi)\\varphi_0(x)|\\mathrm d \\xi $$"
   ]
  },
  {
   "cell_type": "markdown",
   "metadata": {},
   "source": [
    "利用利普希茨条件，归纳得到 \n",
    "\n",
    "$$\n",
    "\\begin{aligned}\n",
    "|\\varphi_2(x)-\\varphi_1(x)| &\\leq \\lambda L \\int_{x_0}^x |\\varphi_1(\\xi)|-|\\varphi_0(\\xi)|\\mathrm d \\xi\\\\\n",
    "&\\leq \\lambda L\\int_{x_0}^x M(\\xi-x_0)\\mathrm d \\xi\\\\\n",
    "&=\\lambda \\frac{M L}{2!}(x-x_0)^2\n",
    "\\end{aligned}\n",
    "$$"
   ]
  },
  {
   "cell_type": "markdown",
   "metadata": {},
   "source": [
    "设对于正整数 n ，不等式 $$|\\varphi_n(x)-\\varphi_{n-1}(x)| \\leq \\lambda \\frac{M L^{n-1}}{n!}(x-x_0)^n$$ \n",
    "\n",
    "成立，则由利普希茨条件，当 $|x-x_0|\\leq h$ 时，有\n",
    "\n",
    "$$\n",
    "\\begin{aligned}\n",
    "|\\varphi_n(x)-\\varphi_{n-1}(x)| &\\leq \\lambda\\int_{x_0}^x |K(x,\\xi)\\varphi_n(\\xi)|-|K(x,\\xi)\\varphi_{n-1}(\\xi)|\\mathrm d \\xi \\\\\n",
    "&\\leq  \\lambda L \\int_{x_0}^x |\\varphi_n(\\xi)|-|\\varphi_{n-1}(\\xi)|\\mathrm d \\xi\\\\\n",
    "&\\leq \\lambda \\frac{M L^n}{n!} \\int_{x_0}^x (\\xi-x_0)\\mathrm d \\xi\\\\\n",
    "&=\\lambda \\frac{M L^n}{(n+1)!}(x-x_0)^{n+1}\n",
    "\\end{aligned}\n",
    "$$"
   ]
  },
  {
   "cell_type": "markdown",
   "metadata": {},
   "source": [
    "由数学归纳法得知，对于所有的正整数 k 有 $$|\\varphi_k(x)-\\varphi_{k-1}(x)| \\leq \\lambda \\frac{M L^{k-1}}{k!}(x-x_0)^k\\quad x\\in[a,b]$$"
   ]
  },
  {
   "cell_type": "markdown",
   "metadata": {},
   "source": [
    "从而，当 $x\\in[a,b]$ 时，$|\\varphi_k(x)-\\varphi_{k-1}(x)| \\leq \\lambda \\frac{M L^{k-1}}{k!}h^k$"
   ]
  },
  {
   "cell_type": "markdown",
   "metadata": {},
   "source": [
    "上述式子右端是正项收敛级数，由 Weierstrass 判别法可知级数②在区间 $x\\in[a,b]$ 一致收敛，即序列 $\\varphi_n(x)$ 也在区间 $x\\in[a,b]$ 一致收敛"
   ]
  },
  {
   "cell_type": "markdown",
   "metadata": {},
   "source": [
    "（三）证明 $\\lim \\limits_{n \\to \\infty} \\varphi_n(x)=\\varphi(x)$ 是 [a,b] 上的连续解"
   ]
  },
  {
   "cell_type": "markdown",
   "metadata": {},
   "source": [
    "由（一）、（二）知 $$|K(x,\\xi)\\varphi_n(x)-K(x,\\xi)\\varphi(x)|\\leq \\lambda L |\\varphi_n(x)-\\varphi(x)|$$\n",
    "\n",
    "${\\varphi_n(x)}$ 在区间 $x\\in[a,b]$ 上一致收敛于 $\\varphi(x)$"
   ]
  },
  {
   "cell_type": "markdown",
   "metadata": {},
   "source": [
    "即，序列 ${K(x,\\xi)\\varphi_n(x)}$ 在 $x\\in[a,b]$ 一致收敛于 $K(x,\\xi)\\varphi(x)$ ,对①式两边取极限，得到\n",
    "\n",
    "$$\n",
    "\\begin{aligned}\n",
    "\\lim \\limits_{n \\to \\infty} \\varphi_n(x) &=y_0+\\lim \\limits_{n \\to \\infty} \\lambda \\int_{x_0}^x K(x,\\xi)\\varphi_{n-1}(\\xi)\\mathrm d \\xi\\\\\n",
    "&=y_0+ \\lambda \\int_{x_0}^x \\lim \\limits_{n \\to \\infty} K(x,\\xi)\\varphi_{n-1}(\\xi)\\mathrm d \\xi\\\\\n",
    "\\varphi(x) &=y_0+\\lambda \\int_{x_0}^x K(x,\\xi)\\varphi(\\xi)\\mathrm d \\xi\n",
    "\\end{aligned}\n",
    "$$"
   ]
  },
  {
   "cell_type": "markdown",
   "metadata": {},
   "source": [
    "即，$\\varphi(x)$ 是积分方程 $(*)$ 在 [a,b] 上的连续解"
   ]
  },
  {
   "cell_type": "markdown",
   "metadata": {},
   "source": [
    "（四）证明 $\\varphi(x)$ 是积分方程 $(*)$ 在 [a,b] 的唯一解"
   ]
  },
  {
   "cell_type": "markdown",
   "metadata": {
    "collapsed": true
   },
   "source": [
    "假设 $\\psi(x)$ 也是积分方程 $(*)$ 定义于 $[a,b]$ 的另一个连续解"
   ]
  },
  {
   "cell_type": "markdown",
   "metadata": {},
   "source": [
    "$$\n",
    "\\begin{aligned}\n",
    "\\varphi_0(x) &=y_0 \\\\\n",
    "\\varphi_n(x) &=y_0+\\lambda \\int_{x_0}^x  K(x,\\xi)\\varphi_{n-1}(\\xi)\\mathrm d \\xi \\\\\n",
    "\\psi(x) &=y_0+\\lambda \\int_{x_0}^x  K(x,\\xi)\\psi(\\xi)\\mathrm d \\xi\n",
    "\\end{aligned}\n",
    "$$"
   ]
  },
  {
   "cell_type": "markdown",
   "metadata": {},
   "source": [
    "可进行如下估计\n",
    "\n",
    "$$\n",
    "\\begin{aligned}\n",
    "|\\varphi_0(x)-\\psi(x)|&\\leq \\lambda \\int_{x_0}^x | K(x,\\xi)\\psi(\\xi)|\\mathrm d \\xi \\leq \\lambda M(x-x_0)\\\\\n",
    "|\\varphi_1(x)-\\psi(x)|&\\leq \\lambda \\int_{x_0}^x | K(x,\\xi)\\varphi_0(\\xi)- K(x,\\xi)\\psi(\\xi)|\\mathrm d \\xi\\\\\n",
    "& \\leq \\lambda L\\int_{x_0}^x |\\varphi_0(\\xi)-\\psi(\\xi)| \\mathrm d \\xi\\\\\n",
    "& \\leq \\lambda M L\\int_{x_0}^x (\\xi-x_0)\\mathrm d \\xi\\\\\n",
    "& = \\lambda \\frac{M L}{2!}(x-x_0)^2\n",
    "\\end{aligned}\n",
    "$$"
   ]
  },
  {
   "cell_type": "markdown",
   "metadata": {},
   "source": [
    "现设 $|\\varphi_{n-1}(\\xi)-\\psi(\\xi)|\\leq \\lambda \\frac{M L^{n-1}}{n!}(x-x_0)^n$ ,则有\n"
   ]
  },
  {
   "cell_type": "markdown",
   "metadata": {},
   "source": [
    "$$\n",
    "\\begin{aligned}\n",
    "|\\varphi_{n}(\\xi)-\\psi(\\xi)| &\\leq \\lambda \\int_{x_0}^x |K(x,\\xi)\\varphi_{n-1}(\\xi)-K(x,\\xi)\\psi(\\xi)|\\mathrm d \\xi\\\\\n",
    "& \\leq \\lambda L\\int_{x_0}^x |\\varphi_{n-1}(\\xi)-\\psi(\\xi)| \\mathrm d \\xi\\\\\n",
    "& = \\lambda \\frac{M L^n}{n!} \\int_{x_0}^x (\\xi-x_0)^n \\mathrm d \\xi\\\\\n",
    "&=\\lambda\\frac{M L^n}{(n+1)!}(x-x_0)^{n+1}\n",
    "\\end{aligned}\n",
    "$$"
   ]
  },
  {
   "cell_type": "markdown",
   "metadata": {},
   "source": [
    "由数学归纳法得知，对所有的正整数 $n$ ，有下面的估计式\n",
    "\n",
    "$$|\\varphi_{n}(\\xi)-\\psi(\\xi)| \\leq \\lambda \\frac{M L^n}{(n+1)!}(x-x_0)^{n+1}$$"
   ]
  },
  {
   "cell_type": "markdown",
   "metadata": {},
   "source": [
    "因此，在 $|x-x_0|\\leq h$ ,有\n",
    "\n",
    "$$|\\varphi_{n}(\\xi)-\\psi(\\xi)| \\leq \\lambda \\frac{M L^n}{(n+1)!}h^{n+1}$$\n"
   ]
  },
  {
   "cell_type": "markdown",
   "metadata": {},
   "source": [
    "易知，$|\\lambda|$ 足够小，当 $x\\to\\infty$ 时，$\\lambda \\frac{M L^n}{(n+1)!}h^{n+1}\\to 0$\n",
    "\n",
    "因而，${\\varphi_n(x)}$ 在 $|x-x_0|\\leq h$ 上一致收敛于 $\\psi(x)$ ,根据极限的唯一性，即得\n",
    "\n",
    "\n",
    "$$\\varphi(x)=\\psi(x)\\quad |x-x_0|\\leq h$$"
   ]
  },
  {
   "cell_type": "markdown",
   "metadata": {
    "collapsed": true
   },
   "source": [
    "# <font color='red'>A  11/10"
   ]
  },
  {
   "cell_type": "code",
   "execution_count": null,
   "metadata": {
    "collapsed": true
   },
   "outputs": [],
   "source": []
  }
 ],
 "metadata": {
  "kernelspec": {
   "display_name": "SageMath 7.3",
   "language": "",
   "name": "sagemath"
  },
  "language_info": {
   "codemirror_mode": {
    "name": "ipython",
    "version": 2
   },
   "file_extension": ".py",
   "mimetype": "text/x-python",
   "name": "python",
   "nbconvert_exporter": "python",
   "pygments_lexer": "ipython2",
   "version": "2.7.10"
  }
 },
 "nbformat": 4,
 "nbformat_minor": 0
}
