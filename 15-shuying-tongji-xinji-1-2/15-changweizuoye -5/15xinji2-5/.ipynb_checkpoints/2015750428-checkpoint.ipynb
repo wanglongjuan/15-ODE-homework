{
 "cells": [
  {
   "cell_type": "markdown",
   "metadata": {},
   "source": [
    "1.求初值问题\n",
    "\n",
    "$$\n",
    "\\begin{cases}\n",
    "\\frac{\\partial y}{\\partial x}=x^2-y^2,R:|x+1|\\leq{1},|y|\\leq{1},\\\\\n",
    "y(-1)=0\n",
    "\\end{cases}\n",
    "$$的解的存在区间，并求第二次近似解，给出在解的存在区间的误差估计。\n",
    "\n",
    "解：因为$M=max{|x^2-y^2|}=4,则h=min(a,\\frac{b}{M})=\\frac{1}{4}$,所以解的区间为$|x-x_0|=|x-(-1)|=|x+1|\\leq\\frac{1}{4}$\n",
    "\n",
    "令$\\phi_0(x)=0$;\n",
    "\n",
    "$\\phi_1(x)=y_0+\\int_{x_0}^{x} (x^2-0) \\mathrm dx=\\frac{1}{3}x^3+\\frac{1}{3}$\n",
    "\n",
    "$\\phi_2(x)=y_0+\\int_{-1}^{x} [x^2-(\\frac{1}{3}x^3+\\frac{1}{3})^2] \\mathrm dx=\\frac{1}{3}x^3-\\frac{x}{9}-\\frac{x^4}{18}-\\frac{x^7}{63}+\\frac{11}{42}$\n",
    "\n",
    "又$|\\frac{\\partial f(x,y)}{\\partial y}|\\leq{2}=L$\n",
    "\n",
    "则误差估计值为：$$|\\phi_2(x)-\\phi(x)|\\leq\\frac{M*L^2}{(2+1)^2}h^3=\\frac{11}{24}$$"
   ]
  },
  {
   "cell_type": "markdown",
   "metadata": {},
   "source": [
    "2.证明格朗沃尔（Gronwall）不等式：\n",
    "\n",
    "设K为非负常数，f(t)和g(t)为区间$\\alpha\\leq\\beta$上的连续非负函数，且满足不等式$$f(t)\\leq{K}+\\int_{\\alpha}^{t}f(s)g(s)ds,\\alpha\\leq\\beta$$则有$$f(t)\\leq{Kexp}(\\int_{\\alpha}^{t}g(s)ds),\\alpha\\leq\\beta$$并由此证明定理1的命题5\n",
    "\n",
    " 证明：（1）K>0时，令$$\\omega(t)=K+\\int_{\\alpha}^{t}f(s)g(s)ds$$则$\\omega'(t)=f(t)g(t)\\leq{g(t)}\\omega(t),由\\omega(t)>0$可得$$\\frac{\\omega'(t)}{\\omega(t)}\\leq{g(t)}$$两边从$\\alpha$到t积分得$$ln\\omega(t)-ln\\omega(\\alpha)\\leq{\\int_{\\alpha}^{t}g(s)ds}$$即有$$\\frac{\\omega(t)}{\\omega(\\alpha)}\\leq{exp(\\int_{\\alpha}^{t}g(s)ds)},$$$$\\omega(\\alpha)=K>0$$所以$$\\omega(t)\\leq{K}.{exp(\\int_{\\alpha}^{t}g(s)ds)}$$即有$$f(t)\\leq{\\omega(t)}\\leq{K}{exp(\\int_{\\alpha}^{t}g(s)ds)}，\\alpha\\leq\\beta$$（2）当K=0时，对任意$\\varsigma>0$,由于$f(t)\\leq{K}+\\int_{\\alpha}^{t}f(s)g(s)ds$,所以$f(t)\\leq{\\varsigma}+\\int_{\\alpha}^{t}f(s)g(s)ds$.由（1）有$f(t)\\leq{\\varsigma}exp(\\int_{\\alpha}^{t}g(s)ds)$.当${\\varsigma}\\rightarrow{0^+}$\n",
    "时有$f(t)\\leq0$\n",
    "\n",
    "又因为$f(t)\\geq0$,即得$f(t)\\equiv0$,从而$$f(t)\\leq{K}{exp(\\int_{\\alpha}^{t}g(s)ds)}，\\alpha\\leq\\beta$$由1),2)知，格朗沃尔（Gronwall）不等式成立\n",
    "\n",
    "下面证明定理1的命题5\n",
    "\n",
    "设$\\phi(t),\\psi(t)$是初值问题$$x'=f(t,x),x(t_0)=x_0$$的两个解，则有$$\\phi(t)=x_0+\\int_{t_0}^{t}f(\\xi,\\phi(\\xi))d\\xi$$$$\\psi(t)=x_0+\\int_{t_0}^{t}f(\\xi,\\phi(\\xi))d\\xi$$于是$$|\\phi(t)-\\psi(t)|\\leq\\int_{t_0}^{t}|f(\\xi,\\phi(\\xi))-f(\\xi,\\phi(\\xi))|d\\xi\\leq{L}|\\phi(\\xi)-\\psi(\\xi)|d\\xi$$其中L为利普希茨条件.由格朗沃尔不等式知$$0\\leq{\\phi(t)-\\psi(t)}\\leq0$$因而有$$\\phi(t)=\\psi(t)$$"
   ]
  },
  {
   "cell_type": "markdown",
   "metadata": {},
   "source": [
    "3.如果函数f(x,y)于带域$\\alpha\\leq{x}\\leq\\beta$上连续且关于y满足利普希茨条件，则方程（3.1）满足条件$y(x_0)=y_0$的解于整个区间[$\\alpha,\\beta$]上存在唯一\n",
    "\n",
    "试证明之.(提示：用逐步逼近法，取$M=max|f(x,y_0)|,x\\in[\\alpha,\\beta]$)\n",
    "\n",
    "证明：方程（3.1）满足条件$y(x_0)=y_0$的解等价于求积分方程$y=y_0+\\int_{x_0}^{x}f(x,y)dx,x\\in[\\alpha,\\beta]$的连续解，因此只要我们证明上述积分方程的解的存在唯一性即可.\n",
    "\n",
    "现取$$\\begin{aligned}\n",
    "\\\\y_0(x)&=y_0\\\\\n",
    "\\\\y_1(x)&=y_0+\\int_{x_0}^{x}f(\\xi,y_0(\\xi))d\\xi\n",
    "\\\\...\n",
    "\\\\y_n(x)&=y_0+\\int_{x_0}^{x}f(\\xi,y_n-1(\\xi))d\\xi,\n",
    "\\\\...\n",
    "\\end{aligned}$$此为（1）式易见$y_n(x)在\\alpha\\leq{x}\\leq\\beta上存在且连续.下面证明函数序列{y_n(x)}在\\alpha\\leq{x}\\leq\\beta$上一致收敛.考察级数$$y_0(x)+\\sum_{k=1}^\\infty[y_k(x)-y_{k-1}(x)],x\\in[\\alpha,\\beta]此为（2）式$$\n",
    "\n",
    "取$M=max|f(x,y_0)|,x\\in[\\alpha,\\beta]$,由（1）式得$$y_1(x)-y_0(x)\\leq\\int_{x_0}^{x}|f(\\xi,y_0(\\xi))|d\\xi\\leq{M|x-x_0|}，此为（3）式$$及$$y_2(x)-y_1(x)\\leq{\\int_{x_0}^{x}|f(\\xi,y_1(\\xi))d\\xi-f(\\xi,y_0(\\xi))|}d\\xi$$利用利普希茨条件及（3）得$y_2(x)-y_1(x)\\leq{L\\int_{x_0}^{x}|y_1(\\xi)-y_0(\\xi)|}d\\xi\\leq{L\\int_{x_0}^{x}M|\\xi-x_0|}d\\xi=\\frac{ML}{2!}(x-x_0)^2$.于是，有数学归纳法可知$y_k(x)-y_k-1(x)\\leq{\\frac{ML^{k-1}}{k!}|x-x_0|^k}\\leq{\\frac{ML^{k-1}}{k!}|\\beta-\\alpha|^k}$.上式右端是正项收敛级数$\\sum_{k=1}^\\infty{\\frac{ML^{k-1}}{k!}|x-x_0|^k}\\leq\\frac{ML^{k-1}}{k!}|\\beta-\\alpha|^k$的一般项.由Weierstrass判别法，知级数（2）在$\\alpha\\leq{x}\\leq\\beta$上一致收敛，因而函数列${y_n(x)}在\\alpha\\leq{x}\\beta$上一致收敛.现设$lim_{n \\rightarrow+\\infty}y_n(x)$,易知y(x)在$\\alpha\\leq{x}\\leq\\beta$连续，且${f(x,y_n(x))}$在$\\alpha\\leq{x}\\leq\\beta$上一致收敛于$f(x,y(x))$.因而对（1）式两边取极限，即得$y(x)=y_0+\\int_{x_0}^{x}f(\\xi,y_0(\\xi))d\\xi$，证毕"
   ]
  },
  {
   "cell_type": "markdown",
   "metadata": {},
   "source": [
    "# <font color='red'>唯一性"
   ]
  },
  {
   "cell_type": "markdown",
   "metadata": {},
   "source": [
    "4.给定积分方程$$\\phi(x)=f(x)+\\lambda\\int_{a}^{b}K(x,\\xi)\\phi(\\xi)d\\xi,(*)$$\n",
    "\n",
    "其中f(x)是[a,b]上的已知连续函数，$K(x,\\xi)$是$a\\leq{x}\\leq{b},a\\leq{\\xi}\\leq{b}$上的已知连续函数.证明当$|\\lambda|$足够小时($\\lambda$是常数)，$(*)$在[a,b]上存在唯一的连续解.\n",
    "\n",
    "（提示：作逐步逼近函数序列\n",
    "\n",
    "$\\phi_0(x)=f(x)$\n",
    "\n",
    "$\\phi_n+1(x)=f(x)+\\lambda\\int_{a}^{b}K(x,\\xi)\\phi_n(\\xi)d\\xi(n=0,1,2...)$）"
   ]
  },
  {
   "cell_type": "markdown",
   "metadata": {},
   "source": [
    "证明：作逐次逼近序列，取$$\\phi_0(x)=f(x)$$,令$$\\phi_1(x)=f(x)+\\lambda\\int_{a}^{b}k(x,\\xi)\\phi_0$$ $$......$$ $$\\phi_n+1(x)=f(x)+\\lambda\\int_{a}^{b}k(x,\\xi)\\phi_n(\\xi)d\\xi,此为（1）式$$ $$......$$ 令$M=max_x\\in[a,b]|f(x)|,L=max_{x,\\xi}\\in[a,b]|k(x,\\xi)|>0$,$$|\\phi_1(x)-\\phi_0(x)|=|\\lambda\\int_{a}^{b}k(x,\\xi)\\phi_0(\\xi)d\\xi|\\leq|\\lambda|\\int_{a}^{b}|k(x,\\xi)||f(\\xi)|d\\xi$$即$$|\\phi_1(x)-\\phi_0(x)|=\\leq|\\lambda|ML(b-a)$$假设$|\\phi_k(x)-\\phi_{k-1}(x)|\\leq|\\lambda|^kML^k(b-a)^k$成立，则有$$|\\phi_{k+1}(x)-\\phi_k(x)|\\leq|\\lambda\\int_{a}^{b}k(x,\\xi)(\\phi_k(\\xi))-\\phi_{k-1}(\\xi))d\\xi|\\leq|\\lambda|\\int_{a}^{b}|k(x,\\xi)||\\phi_k(\\xi))-\\phi_{k-1}(\\xi)|d\\xi\\leq\\|\\lambda|\\int_{a}^{b}L^{k+1}|\\lambda|^kM(b-a)^kd\\xi=|\\lambda|^{k+1}L^{k+1}|M(b-a)^{k+1}$$"
   ]
  },
  {
   "cell_type": "markdown",
   "metadata": {},
   "source": [
    "由归纳法知，对任意的$n\\in{N}$,有$$|\\phi_n(x)-\\phi_{n-1}(x)\\leq{M}L^n|\\lambda|^n(b-a)^n$$下证${\\phi_n(x)}$在$[a,b]$上一致收敛.考虑级数$$\\phi_0(x)+\\sum_{k=1}^\\infty(\\phi_k(x)-\\phi_{k-1}(x)),此为（2）式$$ 该级数的前n项和为$$\\phi_0(x)+\\sum_{k=1}^n(\\phi_k(x)-\\phi_{k-1}(x))=\\phi_n(x)$$\n",
    "\n",
    "所以要证函数序列${\\phi_n(x)}$在$[a,b]$上一致收敛，只需证级数（2）在$[a,b]$上一致收敛即可.由于$$|\\phi_k(x)-\\phi_{k-1}(x)\\leq{M}L^k|\\lambda|^k(b-a)^k,$$\n",
    "\n",
    "当$|\\lambda|<\\frac{1}{(b-a)L}$时，级数$\\sum_{k=1}^\\infty{M}L^k|\\lambda|^k(b-a)^k$收敛，由此知当$|\\lambda|<\\frac{1}{(b-a)L}$时，级数（2）在$[a,b]$上一致收敛.设极限函数为$\\phi^*(x)$，即$x\\in[a,b]$时，当$n\\rightarrow{infty}$时，${\\phi_n(x)}$一致收敛于$\\phi^*(x)$，且由${\\phi_n(x)}$的连续性知$\\phi^*(x)$在$[a,b]$上连续，对迭代列（1），当$n\\rightarrow\\infty$时，两边取极限得\n",
    "\n",
    "$$\\phi^*(x)=f(x)+\\lambda$\\int_{a}^{b}k(x,\\xi)\\phi^*(\\xi)d\\xi，|\\lambda|<\\frac{1}{(b-a)L}$$\n",
    "这就证明了当$|\\lambda|<\\frac{1}{(b-a)L}$时，积分方程必存在连续解."
   ]
  },
  {
   "cell_type": "markdown",
   "metadata": {},
   "source": [
    "下证当$|\\lambda|<\\frac{1}{(b-a)L}$时，$(*)$方程的解的惟一性.用反证法.\n",
    "\n",
    "设另有解$\\phi^t(x)且\\phi^t(x)\\neq\\phi^*(x)$,即$$\\phi^t(x)=f(x)+\\lambda\\int_{a}^{b}k(x,\\xi)\\phi^t(\\xi)d\\xi$$\n",
    "记$Q=max_{x,\\xi}\\in[a,b]|\\phi^*(x)-\\phi^t(x)|>0$,\n",
    "\n",
    "$|\\phi^*(x)-\\phi^t(x)|=|\\lambda\\int_{a}^{b}k(x,\\xi)(\\phi^*(\\xi))-\\phi^t(\\xi))d\\xi|\\leq|\\lambda|\\int_{a}^{b}L(\\phi^*(\\xi))-\\phi^t(\\xi))d\\xi=|\\lambda|QL(b-a)$\n",
    "\n",
    "即有$Q\\leq|\\lambda|QL(b-a)$,由于Q>0,所以$|\\lambda|\\geq\\frac{1}{(b-a)L}$,与$|\\lambda|<\\frac{1}{(b-a)L}$矛盾.惟一性得证\n"
   ]
  },
  {
   "cell_type": "markdown",
   "metadata": {
    "collapsed": true
   },
   "source": [
    "# <font color='red'>A  11/10"
   ]
  },
  {
   "cell_type": "code",
   "execution_count": null,
   "metadata": {
    "collapsed": true
   },
   "outputs": [],
   "source": []
  }
 ],
 "metadata": {
  "kernelspec": {
   "display_name": "SageMath 7.3",
   "language": "",
   "name": "sagemath"
  },
  "language_info": {
   "codemirror_mode": {
    "name": "ipython",
    "version": 2
   },
   "file_extension": ".py",
   "mimetype": "text/x-python",
   "name": "python",
   "nbconvert_exporter": "python",
   "pygments_lexer": "ipython2",
   "version": "2.7.10"
  }
 },
 "nbformat": 4,
 "nbformat_minor": 0
}
