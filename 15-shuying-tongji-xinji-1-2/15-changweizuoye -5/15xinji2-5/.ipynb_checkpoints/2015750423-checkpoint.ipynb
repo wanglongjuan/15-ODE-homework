{
 "cells": [
  {
   "cell_type": "markdown",
   "metadata": {},
   "source": [
    "# 9月27日"
   ]
  },
  {
   "cell_type": "markdown",
   "metadata": {},
   "source": [
    "3.求初值问题$\\begin{cases}\\frac{\\mathrm d y}{\\mathrm d x}=x^2-y^2,R:|x+1|\\leq 1,|y|\\leq 1,\\\\y(-1)=0\\end{cases}$的解的存在区间，并求第二次近似解，给出在解的存在区间的误差估计."
   ]
  },
  {
   "cell_type": "markdown",
   "metadata": {},
   "source": [
    "$这里M=\\max \\limits_{(x,y)\\in R}\\mid f(x,y)\\mid=4,h是a=1及\\frac{b}{M}=\\frac{1}{4}二数中的最小者，故h=\\frac{1}{4},在R上函数f(x,y)=x^2-y^2的利普希茨常数可取为L=2，因为$"
   ]
  },
  {
   "cell_type": "markdown",
   "metadata": {},
   "source": [
    "$\\quad \\quad \\frac{\\partial f}{\\partial y}=\\mid -2y\\mid\\leq 2=L.$"
   ]
  },
  {
   "cell_type": "markdown",
   "metadata": {},
   "source": [
    "$\\quad \\quad \\varphi_0(x)=0,$"
   ]
  },
  {
   "cell_type": "markdown",
   "metadata": {},
   "source": [
    "$\\quad \\quad \\varphi_1(x)=\\int_{-1}^x (t^2-{\\varphi_0(t)}^2)\\mathrm d t=\\frac{x^3}{3}+\\frac{1}{3}$"
   ]
  },
  {
   "cell_type": "markdown",
   "metadata": {},
   "source": [
    "$\\quad \\quad \\varphi_2(x)=\\int_{-1}^x (t^2-{\\varphi_1(t)}^2)\\mathrm d t=\\frac{x^3}{3}-\\frac{x}{9}-\\frac{x^4}{18}-\\frac{x^7}{63}+\\frac{11}{42},$"
   ]
  },
  {
   "cell_type": "markdown",
   "metadata": {},
   "source": [
    "$根据公式\\mid\\varphi_n(x)-\\varphi(x)\\mid\\leq \\frac{ML^n}{(n+1)!}h^{n+1}可得$"
   ]
  },
  {
   "cell_type": "markdown",
   "metadata": {},
   "source": [
    "$\\quad \\quad\\mid\\varphi_2(x)-\\varphi(x)\\mid\\leq \\frac{4·2^2}{3!}·(\\frac{1}{4})^3=\\frac{1}{24}.$"
   ]
  },
  {
   "cell_type": "markdown",
   "metadata": {},
   "source": [
    "$∴初值问题的解的存在区间为-\\frac{5}{4}\\leq x \\leq -\\frac{3}{4},第二次近似解为y_2=\\frac{x^3}{3}-\\frac{x}{9}-\\frac{x^4}{18}-\\frac{x^7}{63}+\\frac{11}{42},$"
   ]
  },
  {
   "cell_type": "markdown",
   "metadata": {},
   "source": [
    "$\\quad在解的存在区间的误差估计为\\mid y_1-y_2\\mid\\leq \\frac{1}{24}.$"
   ]
  },
  {
   "cell_type": "markdown",
   "metadata": {
    "collapsed": true
   },
   "source": [
    "8.如果函数$f(x,y)$于带域$\\alpha \\leq x\\leq \\beta$上连续且关于$y$满足利普希茨条件，则方程$(3.1)$满足条件$y(y_0)=y_0$的解于整个区间$[\\alpha,\\beta]$上存在且唯一.试证明之."
   ]
  },
  {
   "cell_type": "markdown",
   "metadata": {},
   "source": [
    "$\\quad $(提示：用逐步逼近法，取$M=\\max \\limits_{x\\in[\\alpha,\\beta]}\\mid f(x,y_0)\\mid$.)"
   ]
  },
  {
   "cell_type": "markdown",
   "metadata": {},
   "source": [
    "$取$"
   ]
  },
  {
   "cell_type": "markdown",
   "metadata": {},
   "source": [
    "$\n",
    "\\begin{aligned}\n",
    "\\quad\\quad y_0(x) & =y_0,\\\\\n",
    "y_1(x) & =y_0+\\int_{x_0}^x f(\\xi,y_0(\\xi))\\mathrm d \\xi,\\\\\n",
    " & … \\\\\n",
    "y_n(x) & =y_0+\\int_{x_0}^x f(\\xi,y_{n-1}(\\xi))\\mathrm d \\xi,\\\\\n",
    " & …\\quad\\quad\\quad\\quad\\quad\\quad\\quad\\quad\\quad\\quad\\quad\\quad\\quad\\quad\\quad\\quad\\quad\\quad\\quad\\quad\\quad\\quad①\\\\\n",
    "\\end{aligned}\n",
    "$"
   ]
  },
  {
   "cell_type": "markdown",
   "metadata": {},
   "source": [
    "$∴y_n(x)在\\alpha\\leq x\\leq \\beta上存在且连续.$"
   ]
  },
  {
   "cell_type": "markdown",
   "metadata": {},
   "source": [
    "$对于级数y_0(x)+\\displaystyle\\sum_{k=1}^{\\infty} [y_k(x)-y_{k-1}(x)],x\\in[\\alpha,\\beta].\\quad\\quad\\quad\\quad\\quad\\quad\\quad\\quad②$"
   ]
  },
  {
   "cell_type": "markdown",
   "metadata": {},
   "source": [
    "$取M=\\max \\limits_{x\\in [\\alpha,\\beta]}\\mid f(x,y_0)\\mid,由①可得$"
   ]
  },
  {
   "cell_type": "markdown",
   "metadata": {},
   "source": [
    "$\\quad \\quad\\mid y_1(x)-y_0(x)\\mid\\leq \\int_{x_0}^x \\mid f(\\xi,y_0(\\xi))\\mid\\mathrm d \\xi\\leq M\\mid x-x_0\\mid,\\quad\\quad\\quad\\quad\\quad\\quad③$"
   ]
  },
  {
   "cell_type": "markdown",
   "metadata": {},
   "source": [
    "$及\\quad\\mid y_2(x)-y_1(x)\\mid\\leq \\int_{x_0}^x \\mid f(\\xi,y_1(\\xi))-f(\\xi,y_0(\\xi))\\mid\\mathrm d \\xi.$"
   ]
  },
  {
   "cell_type": "markdown",
   "metadata": {},
   "source": [
    "$利用利普希茨条件及③式，可得，$"
   ]
  },
  {
   "cell_type": "markdown",
   "metadata": {},
   "source": [
    "$\\quad \\quad\\mid y_2(x)-y_1(x)\\mid\\leq L\\int_{x_0}^x \\mid y_1(\\xi)-y_0(\\xi)\\mid\\mathrm d \\xi\\leq L\\int_{x_0}^x M\\mid\\xi-x_0\\mid\\mathrm d \\xi=\\frac{ML}{2!}(x-x_0)^2.$"
   ]
  },
  {
   "cell_type": "markdown",
   "metadata": {},
   "source": [
    "$由数学归纳法可得，\\mid y_k(x)-y_{k-1}(x)\\mid\\leq \\frac{ML^{k-1}}{k!}\\mid x-x_0\\mid^k\\leq \\frac{ML^{k-1}}{k!}(\\beta-\\alpha)^k.$"
   ]
  },
  {
   "cell_type": "markdown",
   "metadata": {},
   "source": [
    "$而\\frac{ML^{k-1}}{k!}(\\beta-\\alpha)^k是正项级数\\displaystyle\\sum_{k=1}^{\\infty} \\frac{ML^{k-1}}{k!}(\\beta-\\alpha)^k的一般项.$"
   ]
  },
  {
   "cell_type": "markdown",
   "metadata": {},
   "source": [
    "$根据Weierstrass判别法，可知级数②在\\alpha\\leq x\\leq\\beta上一致收敛，∴函数列\\{y_n(x)\\}在[\\alpha,\\beta]上一致收敛.$"
   ]
  },
  {
   "cell_type": "markdown",
   "metadata": {},
   "source": [
    "$设\\displaystyle\\lim_{n \\to \\infty}  y_n(x)=y(x),可知y(x)在[\\alpha,\\beta]上连续，且\\{f(x,y_n(x)\\}在[\\alpha,\\beta]上一致收敛于f(x,y(x)).$"
   ]
  },
  {
   "cell_type": "markdown",
   "metadata": {},
   "source": [
    "$∴对①两边取极限，得y(x)=y_0+\\int_{x_0}^x f(\\xi,y(\\xi))\\mathrm d \\xi,解的存在性得证.$"
   ]
  },
  {
   "cell_type": "markdown",
   "metadata": {},
   "source": [
    "$设\\varphi(x)是[\\alpha,\\beta]上的另一解，可知y(x)=\\varphi(x).类似命题5可证明唯一性.$"
   ]
  },
  {
   "cell_type": "markdown",
   "metadata": {},
   "source": [
    "# <font color='red'>唯一性证明？？"
   ]
  },
  {
   "cell_type": "markdown",
   "metadata": {},
   "source": [
    "# 9月28日"
   ]
  },
  {
   "cell_type": "markdown",
   "metadata": {},
   "source": [
    "6.证明格朗沃尔（Gronwall）不等式："
   ]
  },
  {
   "cell_type": "markdown",
   "metadata": {},
   "source": [
    "设K为非负常数，$f(t)$和$g(t)$为在区间$\\alpha \\leq t\\leq \\beta$上的连续非负函数，且满足不等式"
   ]
  },
  {
   "cell_type": "markdown",
   "metadata": {},
   "source": [
    "$\\quad \\quad f(t)\\leq K+\\int_a^t\\ f(s)g(s)\\mathrm d s,\\,\\alpha \\leq t\\leq \\beta,$"
   ]
  },
  {
   "cell_type": "markdown",
   "metadata": {
    "collapsed": true
   },
   "source": [
    "则有"
   ]
  },
  {
   "cell_type": "markdown",
   "metadata": {},
   "source": [
    "$\\quad \\quad f(t)\\leq K\\exp(\\int_a^t\\ g(s)\\mathrm d s),\\,\\alpha \\leq t\\leq \\beta,$"
   ]
  },
  {
   "cell_type": "markdown",
   "metadata": {},
   "source": [
    "并由此证明定理1的命题5."
   ]
  },
  {
   "cell_type": "markdown",
   "metadata": {},
   "source": [
    "$证:\\quad(1)K>0时$"
   ]
  },
  {
   "cell_type": "markdown",
   "metadata": {},
   "source": [
    "$令\\omega(t)=K+\\int_a^t\\ f(s)g(s)\\mathrm d s,$"
   ]
  },
  {
   "cell_type": "markdown",
   "metadata": {},
   "source": [
    "$则\\omega^\\prime(t)=f(t)g(t)\\leq g(t)\\omega(t).$"
   ]
  },
  {
   "cell_type": "markdown",
   "metadata": {},
   "source": [
    "$∵\\omega(t)>0,∴\\frac{\\omega^\\prime(t)}{\\omega(t)}\\leq g(t).$"
   ]
  },
  {
   "cell_type": "markdown",
   "metadata": {},
   "source": [
    "$对其两边积分可得$"
   ]
  },
  {
   "cell_type": "markdown",
   "metadata": {},
   "source": [
    "$\\quad\\quad \\ln{\\omega(t)}-\\ln{\\omega(\\alpha)}\\leq \\int_\\alpha^t\\ g(s)\\mathrm d s$"
   ]
  },
  {
   "cell_type": "markdown",
   "metadata": {},
   "source": [
    "$即\\quad\\frac{\\omega(t)}{\\omega(\\alpha)}\\leq \\exp(\\int_\\alpha^t\\ g(s)\\mathrm d s),\\omega(\\alpha)=K>0.$"
   ]
  },
  {
   "cell_type": "markdown",
   "metadata": {},
   "source": [
    "$∴\\quad\\omega(t)\\leq K·\\exp(\\int_\\alpha^t\\ g(s)\\mathrm d s ).$"
   ]
  },
  {
   "cell_type": "markdown",
   "metadata": {},
   "source": [
    "$即\\quad f(t)\\leq\\omega(t)\\leq K·\\exp(\\int_\\alpha^t\\ g(s)\\mathrm d s ),\\alpha \\leq t\\leq \\beta.$"
   ]
  },
  {
   "cell_type": "markdown",
   "metadata": {},
   "source": [
    "$\\quad(2)K=0时$"
   ]
  },
  {
   "cell_type": "markdown",
   "metadata": {},
   "source": [
    "$对任意\\epsilon>0,∵f(t)\\leq \\int_a^t\\ f(s)g(s)\\mathrm d s,∴f(t)\\leq \\epsilon+\\int_a^t\\ f(s)g(s)\\mathrm d s.$"
   ]
  },
  {
   "cell_type": "markdown",
   "metadata": {},
   "source": [
    "$由(1)可得，f(t)\\leq \\epsilon\\exp(\\int_a^t\\ g(s)\\mathrm d s).$"
   ]
  },
  {
   "cell_type": "markdown",
   "metadata": {},
   "source": [
    "$当\\epsilon \\to 0^+时，有f(t)\\leq 0.$"
   ]
  },
  {
   "cell_type": "markdown",
   "metadata": {},
   "source": [
    "$又∵f(t)\\geq 0,∴f(t)=0$"
   ]
  },
  {
   "cell_type": "markdown",
   "metadata": {},
   "source": [
    "$∴f(t)\\leq K·\\exp(\\int_\\alpha^t\\ g(s)\\mathrm d s ),\\alpha \\leq t\\leq \\beta.$"
   ]
  },
  {
   "cell_type": "markdown",
   "metadata": {},
   "source": [
    "$综上所述，格朗沃尔不等式成立.$"
   ]
  },
  {
   "cell_type": "markdown",
   "metadata": {},
   "source": [
    "$证：\\quad设\\varphi(t),\\psi(t)是初值问题x^\\prime=f(t,x),x(t_0)=x_0的两个解，$"
   ]
  },
  {
   "cell_type": "markdown",
   "metadata": {},
   "source": [
    "$则有$"
   ]
  },
  {
   "cell_type": "markdown",
   "metadata": {},
   "source": [
    "$\n",
    "\\begin{aligned}\n",
    "\\quad\\varphi(t)&=x_0+\\int_{t_0}^t f(\\xi,\\varphi(\\xi))\\mathrm d \\xi,\\\\\n",
    "\\quad\\psi(t)&=x_0+\\int_{t_0}^t f(\\xi,\\psi(\\xi))\\mathrm d \\xi.\\\\\n",
    "\\end{aligned}\n",
    "$"
   ]
  },
  {
   "cell_type": "markdown",
   "metadata": {},
   "source": [
    "$∴\\mid\\varphi(x)-\\psi(x)\\mid\\leq \\int_{t_0}^t \\mid f(\\xi,\\varphi(\\xi))-f(\\xi,\\psi(\\xi))\\mid\\mathrm d \\xi\\leq L\\int_{t_0}^t \\mid\\varphi(\\xi)-\\psi(\\xi)\\mid\\mathrm d \\xi,其中L为利普希茨条件.$"
   ]
  },
  {
   "cell_type": "markdown",
   "metadata": {},
   "source": [
    "$由格朗沃尔不等式可得0\\leq\\mid\\varphi(t)-\\psi(t)\\mid\\leq 0$"
   ]
  },
  {
   "cell_type": "markdown",
   "metadata": {},
   "source": [
    "$∴\\varphi(t)=\\psi(t)$"
   ]
  },
  {
   "cell_type": "markdown",
   "metadata": {},
   "source": [
    "$即定理1的命题5得证.$"
   ]
  },
  {
   "cell_type": "markdown",
   "metadata": {},
   "source": [
    "10.给定积分方程"
   ]
  },
  {
   "cell_type": "markdown",
   "metadata": {},
   "source": [
    "$\\quad \\quad \\varphi(x)=f(x)+\\lambda\\int_a^b\\ K(x,\\xi)\\varphi(\\xi)\\mathrm d \\xi,$"
   ]
  },
  {
   "cell_type": "markdown",
   "metadata": {},
   "source": [
    "其中$f(x)$是$[a,b]$上的已知连续函数，$K(x,\\xi)$是$a \\leq x\\leq b,a \\leq \\xi\\leq b$上的已知连续函数.证明当$|\\lambda|$足够小时($\\lambda$是常数),(*)在$[a,b]$上存在唯一的连续解."
   ]
  },
  {
   "cell_type": "markdown",
   "metadata": {},
   "source": [
    "$\\quad $(提示：作逐步逼近函数序列"
   ]
  },
  {
   "cell_type": "markdown",
   "metadata": {},
   "source": [
    "$\\quad \\quad \\varphi_0(x)=f(x),$"
   ]
  },
  {
   "cell_type": "markdown",
   "metadata": {},
   "source": [
    "$\\quad \\quad \\varphi_{n+1}(x)=f(x)+\\lambda\\int_a^b\\ K(x,\\xi)\\varphi_n(\\xi)\\mathrm d \\xi \\quad (n=0,1,2…).)$"
   ]
  },
  {
   "cell_type": "markdown",
   "metadata": {},
   "source": [
    "$证:\\quad作逐步逼近序列，取$"
   ]
  },
  {
   "cell_type": "markdown",
   "metadata": {},
   "source": [
    "$\n",
    "\\begin{aligned}\n",
    "\\quad \\quad \\varphi_0(x)&=f(x),\\\\\n",
    "令\\quad\\varphi_1(x)&=f(x)+\\lambda\\int_a^b\\ k(x,\\xi)\\varphi_0(\\xi)\\mathrm d \\xi,\\\\\n",
    "&…\\\\\n",
    "\\varphi_{n+1}(x)&=f(x)+\\lambda\\int_a^b\\ k(x,\\xi)\\varphi_n(\\xi)\\mathrm d \\xi,\\\\\n",
    "&…\\quad\\quad\\quad\\quad\\quad\\quad\\quad\\quad\\quad\\quad\\quad\\quad\\quad\\quad\\quad\\quad\\quad\\quad\\quad\\quad\\quad\\quad\\quad\\quad\\quad\\quad\\quad①\\\\\n",
    "\\end{aligned}\n",
    "$"
   ]
  },
  {
   "cell_type": "markdown",
   "metadata": {},
   "source": [
    "$令M=\\max \\limits_{x\\in[a,b]} \\mid f(x)\\mid，L=\\displaystyle\\max_{\\substack{x\\in[a,b]\\\\ \\xi\\in[a,b]\\\\}} \\mid k(x,\\xi)\\mid>0$"
   ]
  },
  {
   "cell_type": "markdown",
   "metadata": {},
   "source": [
    "$\\quad\\quad\\mid\\varphi_1(x)-\\varphi_0(x)\\mid=\\mid\\lambda\\int_a^b\\ k(x,\\xi)\\varphi_0(\\xi)\\mathrm d \\xi\\mid\\leq\\mid\\lambda\\mid\\int_a^b\\ \\mid k(x,\\xi)\\mid\\mid f(\\xi)\\mid\\mathrm d \\xi\\leq\\mid\\lambda\\mid ML(b-a).$"
   ]
  },
  {
   "cell_type": "markdown",
   "metadata": {},
   "source": [
    "$假设\\mid\\varphi_k(x)-\\varphi_{k-1}(x)\\mid\\leq\\mid\\lambda\\mid^k L^k M(b-a)^k成立，则有$"
   ]
  },
  {
   "cell_type": "markdown",
   "metadata": {},
   "source": [
    "$\n",
    "\\begin{aligned}\n",
    "\\quad \\quad\\mid\\varphi_{k+1}(x)-\\varphi_k(x)\\mid &=\\mid\\lambda\\int_a^b\\ k(x,\\xi)(\\varphi_k(\\xi)-\\varphi_{k-1}(\\xi))\\mathrm d \\xi\\mid\\\\\n",
    "&\\leq\\mid\\lambda\\mid \\int_a^b\\ \\mid k(x,\\xi)\\mid\\mid(\\varphi_k(\\xi)-\\varphi_{k-1}(\\xi))\\mid\\mathrm d \\xi\\\\\n",
    "&\\leq\\mid\\lambda\\mid \\int_a^b\\ L^{k+1}\\mid\\lambda\\mid^k M(b-a)^k\\mathrm d \\xi\\\\\n",
    "&=\\mid\\lambda\\mid^{k+1} L^{k+1} M(b-a)^{k+1}\\\\\n",
    "\\end{aligned}\n",
    "$"
   ]
  },
  {
   "cell_type": "markdown",
   "metadata": {},
   "source": [
    "$由数学归纳法可得，对于任意的n\\in N,有$"
   ]
  },
  {
   "cell_type": "markdown",
   "metadata": {},
   "source": [
    "$\\quad\\quad\\varphi_n(x)-\\varphi_{n-1}(x)\\mid\\leq ML^n\\mid\\lambda\\mid^n(b-a)^n.$"
   ]
  },
  {
   "cell_type": "markdown",
   "metadata": {},
   "source": [
    "$对于级数\\varphi_0(x)+\\displaystyle\\sum_{k=1}^{\\infty} (\\varphi_k(x)-\\varphi_{k-1}(x)),\\quad\\quad\\quad\\quad\\quad\\quad\\quad\\quad\\quad\\quad\\quad\\quad\\quad\\quad\\quad\\quad\\quad\\quad\\quad②$"
   ]
  },
  {
   "cell_type": "markdown",
   "metadata": {},
   "source": [
    "$该级数的前n项和为\\varphi_0(x)+\\displaystyle\\sum_{k=1}^{n} (\\varphi_k(x)-\\varphi_{k-1}(x))=\\varphi_n(x).$"
   ]
  },
  {
   "cell_type": "markdown",
   "metadata": {},
   "source": [
    "$由于\\mid\\varphi_k(x)-\\varphi_{k-1}(x)\\mid\\leq ML^k\\mid\\lambda\\mid^k(b-a)^k.$"
   ]
  },
  {
   "cell_type": "markdown",
   "metadata": {},
   "source": [
    "$\\mid\\lambda\\mid<\\frac{1}{(b-a)L}时，级数\\displaystyle\\sum_{k=1}^{\\infty} ML^k\\mid\\lambda\\mid^k(b-a)^k收敛，由此可得当\\mid\\lambda\\mid<\\frac{1}{(b-a)L}时，级数②在[a,b]上一致收敛.$"
   ]
  },
  {
   "cell_type": "markdown",
   "metadata": {},
   "source": [
    "$设极限函数为\\varphi^*(x),即x\\in[a,b]时，当n\\to\\infty时，\\varphi_n(x)一致收敛于\\varphi^*(x).由\\varphi_n(x)的连续性可得\\varphi^*(x)在[a,b]上连续，对于①，当n\\to\\infty时两边去极限得$"
   ]
  },
  {
   "cell_type": "markdown",
   "metadata": {},
   "source": [
    "$\\quad\\quad\\varphi^*(x)=f(x)+\\lambda\\int_a^b\\ k(x,\\xi)\\varphi^*(\\xi)\\mathrm d \\xi.$"
   ]
  },
  {
   "cell_type": "markdown",
   "metadata": {},
   "source": [
    "$即证明当\\mid\\lambda\\mid<\\frac{1}{(b-a)L}时，积分方程必存在连续解.$"
   ]
  },
  {
   "cell_type": "markdown",
   "metadata": {},
   "source": [
    "$设有解\\overline{\\varphi}(x)且\\overline{\\varphi}(x)\\neq\\varphi^*(x),即\\overline{\\varphi}(x)=f(x)+\\lambda\\int_a^b\\ k(x,\\xi)\\overline{\\varphi}(x)\\mathrm d \\xi$"
   ]
  },
  {
   "cell_type": "markdown",
   "metadata": {},
   "source": [
    "$记\\quad Q=\\max \\limits_{x\\in[a,b]}\\mid\\varphi^*(x)-\\overline{\\varphi}(x)\\mid>0,$"
   ]
  },
  {
   "cell_type": "markdown",
   "metadata": {},
   "source": [
    "$\n",
    "\\begin{aligned}\n",
    "\\quad\\quad\\mid\\varphi^*(x)-\\overline{\\varphi}(x)\\mid &=\\mid\\lambda\\int_a^b\\ k(x,\\xi)(\\varphi^*(\\xi)-\\overline{\\varphi}(\\xi))\\mathrm d \\xi\\mid\\\\\n",
    "&\\leq\\mid\\lambda\\mid\\int_a^b\\ L\\mid\\varphi^*(x)-\\overline{\\varphi}(x)\\mid\\mathrm d \\xi\\\\\n",
    "&=\\mid\\lambda\\mid QL(b-a).\n",
    "\\end{aligned}\n",
    "$"
   ]
  },
  {
   "cell_type": "markdown",
   "metadata": {},
   "source": [
    "$即有Q\\leq\\mid\\lambda\\mid QL(b-a).$"
   ]
  },
  {
   "cell_type": "markdown",
   "metadata": {},
   "source": [
    "$∵Q>0,∴\\mid\\lambda\\mid\\geq\\frac{1}{(b-a)L}与\\mid\\lambda\\mid<\\frac{1}{(b-a)L}矛盾.即唯一性得证.$"
   ]
  },
  {
   "cell_type": "markdown",
   "metadata": {},
   "source": [
    "# <font color='red'>A  11/10"
   ]
  },
  {
   "cell_type": "code",
   "execution_count": null,
   "metadata": {
    "collapsed": true
   },
   "outputs": [],
   "source": []
  }
 ],
 "metadata": {
  "kernelspec": {
   "display_name": "SageMath 7.3",
   "language": "",
   "name": "sagemath"
  },
  "language_info": {
   "codemirror_mode": {
    "name": "ipython",
    "version": 2
   },
   "file_extension": ".py",
   "mimetype": "text/x-python",
   "name": "python",
   "nbconvert_exporter": "python",
   "pygments_lexer": "ipython2",
   "version": "2.7.10"
  }
 },
 "nbformat": 4,
 "nbformat_minor": 0
}
