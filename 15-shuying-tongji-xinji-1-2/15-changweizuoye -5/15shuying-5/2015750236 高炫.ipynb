{
 "cells": [
  {
   "cell_type": "markdown",
   "metadata": {},
   "source": [
    "## 1.求初值问题$\\begin{cases}\n",
    "\\frac{dy} {dx}=x^2-y^2,R:|x+1|\\le1,|y|\\le1,\\\\y(-1)=0\n",
    "\\end{cases}$的解的存在区间，并求第二次近似解，给出在解的存在区间的误差估计."
   ]
  },
  {
   "cell_type": "markdown",
   "metadata": {},
   "source": [
    "### 这里$M=\\max \\limits_{(x,y)\\in R}|f(x,y)|=4$,h取a=1及$\\frac{b} {m}=\\frac{1} {4}$中的小者，故$h=\\frac{1} {4}$,在R上函数$f(x,y)=x^2-y^2$的利普西茨常数可取为L=2，因为$\\frac{\\partial f} {\\partial y}=|-2y|\\le2=L$.\n",
    "$$\\varphi_0(x)=0$$\n",
    "$$\\varphi_1(x)=\\int\\mathrm{(t^2-\\varphi_0^2(t))}\\,\\mathrm{d}t=\\frac{x^3} {3}+\\frac{1} {3}$$\n",
    "$$\\varphi_2(x)=\\int\\mathrm{(t^2-\\varphi_1^2(t))}\\,\\mathrm{d}t=\\frac{x^3} {3}-\\frac{x} {9}-\\frac{x^4} {18}-\\frac{x^7} {63}+\\frac{11} {42}$$\n",
    "### 由公式得$$|\\varphi_2(x)-\\varphi(x)|\\le\\frac{1} {24}$$\n",
    "### 因此，已知初值问题的解的存在区间为$-\\frac{5} {4}\\le x\\le-\\frac{3} {4}$,第二次近似解为$y_2=\\frac{x^3} {3}-\\frac{x} {9}-\\frac{x^4} {18}-\\frac{x^7} {63}+\\frac{11} {42}$,在解的存在区间的误差估计为$|y-y_2|\\le\\frac{1} {24}$"
   ]
  },
  {
   "cell_type": "markdown",
   "metadata": {},
   "source": [
    "## 2.如果函数f(x,y)于带域$\\alpha \\le x \\le \\beta$上连续且关于y满足利普西茨条件，则教材方程满足条件$y(x_0)=y_0$的解于整个区间$[\\alpha,\\beta]$上存在且唯一.试证明之."
   ]
  },
  {
   "cell_type": "markdown",
   "metadata": {},
   "source": [
    "证：取$$y_0(x)=y_0$$\n",
    "$$y_1(x)=y_0+\\int_{x_0}^x\\mathrm{f(\\omega,y_0(\\omega))}\\mathrm{d}\\omega$$\n",
    "$$\\cdots$$\n",
    "$$y_n(x)=y_0+\\int_{x_0}^x\\mathrm{f(\\omega,y_0(\\omega))}\\mathrm{d}\\omega$$\n",
    "$$\\cdots$$\n",
    "所以$y_n(x)$在$\\alpha \\le x\\le \\beta$上存在且连续，下证函数列${y_n(x)}$在$\\alpha \\le x\\le \\beta$一致收敛\n",
    "考察级数 $$y_0(x)+\\sum_{k=1}^{\\infty}[y_k(x)-y_{k-1}(x)]，x\\in[\\alpha,\\beta]$$\n",
    "取$=\\max \\limits_{(x,y)\\in R}|f(x,y)|$,由上式有\n",
    "$$|y_1(x)-y_0(x)|\\le \\int_{x_0}^x\\mathrm{|f(\\omega,y_0(\\omega))|}\\mathrm{d}\\omega\\le M|x-x_0|$$\n",
    "及$$|y_2(x)-y_1(x)|\\le \\int_{x_0}^x\\mathrm{|f(\\omega,y_1(\\omega))-f(\\omega,y_0(\\omega))|}\\mathrm{d}\\omega$$\n",
    "利用利普希茨条件及上式得到\n",
    "$$\n",
    "\\begin{aligned}\n",
    "|y_2(x)-y_1(x)|&\\le L\\int_{x_0}^x\\mathrm{|y_1(\\omega)-y_0(\\omega)|}\\mathrm{d}\\omega\\\\\n",
    "&\\le L\\int_{x_0}^x\\mathrm{M|\\omega-x_0|}\\mathrm{d}\\omega=\\frac{ML} {2!}(x-x_0)^2\n",
    "\\end{aligned}\n",
    "$$\n",
    "有数学归纳法得$$|y_k(x)-y_{k-1}(x)|\\le \\frac{ML^{k-1}} {k!}|x-x_0|^k\\le \\frac{ML^{k-1}} {k!}|\\beta-\\alpha|^k$$\n",
    "根据weierstrass判别法，知级数$$y_0(x)+\\sum_{k=1}^{\\infty}[y_k(x)-y_{k-1}(x)]$$\n",
    "在$\\alpha \\le x\\le \\beta$上一致收敛\n",
    "因此，函数列${y_n(x)}$在$\\alpha \\le x\\le \\beta$一致收敛\n",
    "设$$\\lim\\limits_{n \\to \\infty }{y_n(x)}=y(x)$$\n",
    "易知y(x)在$[\\alpha,\\beta]$上连续\n",
    "且${f(x,y_n(x))}$在$\\alpha \\le x\\le \\beta$上一致收敛于$f(x,y(x))$\n",
    "所以，$$y(x)=y_0+\\int_{x_0}^x\\mathrm{f(\\omega,y(\\omega))}\\mathrm{d}\\omega$$\n",
    "存在性可证"
   ]
  },
  {
   "cell_type": "markdown",
   "metadata": {},
   "source": [
    "## 3.证明格朗沃尔(Gronwall)不等式：设K为非负常数，f(x)和g(t)为在区间$\\alpha \\le t\\le \\beta$上的连续非负函数，且满足不等式$$f(t)\\le K+\\int_a^t\\mathrm{f(s)g(s)}\\mathrm{d}s,    \\alpha \\le t\\le \\beta$$,  则有$$f(t)\\le Kexp(\\int_a^t\\mathrm{f(s)g(s)}\\mathrm{d}s),  \\alpha \\le t\\le \\beta$$并由此证明教材定理1的命题5."
   ]
  },
  {
   "cell_type": "markdown",
   "metadata": {},
   "source": [
    "证：当$K>0$时令$$\\omega(t)=K+\\int_a^t\\mathrm{f(s)g(s)}\\mathrm{d}s$$\n",
    "则$$\\omega'(t)=f(t)g(t)\\le g(t)\\omega(t)$$\n",
    "由$\\omega(t)>0$可得$$\\frac{\\omega'(t)} {\\omega(t)}\\le g(t)$$\n",
    "对其两边从a到t积分得\n",
    "$$ln\\omega(t)-ln\\omega(\\alpha)\\le \\int_a^t\\mathrm{g(s)}\\mathrm{d}s$$\n",
    "所以$$\\omega(t)\\le Kexp(\\int_a^t\\mathrm{g(s)}\\mathrm{d}s)$$\n",
    "即$$f(t)\\le \\omega(t)\\le Kexp(\\int_a^t\\mathrm{g(s)}\\mathrm{d}s)，\\alpha \\le t\\le \\beta$$\n",
    "当$K=0$时，对$\\forall \\epsilon>0$，因为$f(t)\\le \\int_a^t\\mathrm{f(s)g(s)}\\mathrm{d}s$，所以$f(t)\\le \\epsilon +\\int_a^t\\mathrm{f(s)g(s)}\\mathrm{d}s$\n",
    "由上知$$f(t)\\le \\epsilon exp(\\int_a^t\\mathrm{g(s)}\\mathrm{d}s)$$\n",
    "当$\\epsilon \\rightarrow 0^{+}$时，有$f(t)\\le 0$ ， 又因为$f(t)\\ge 0$， 所以 $f(t)=0$\n",
    "从而$$f(t)\\le Kexp(\\int_a^t\\mathrm{f(s)g(s)}\\mathrm{d}s，\\alpha \\le t\\le \\beta$$\n",
    "综上所述，格朗沃尔不等式成立"
   ]
  },
  {
   "cell_type": "markdown",
   "metadata": {},
   "source": [
    "下证教材中定理1的命题5"
   ]
  },
  {
   "cell_type": "markdown",
   "metadata": {},
   "source": [
    "设$\\phi (t),\\psi(t)$是初值问题$x'=f(t,x)$ , $x(t_0)=x_0$的两个解\n",
    "则有$$\\phi(t)=x_0+\\int_{t_0}^t\\mathrm{f(\\xi,\\phi(\\xi))}\\mathrm{d}\\xi$$\n",
    "$$\\psi(t)=x_0+\\int_{t_0}^t\\mathrm{f(\\xi,\\psi(\\xi))}\\mathrm{d}\\xi$$\n",
    "那么\n",
    "$$\n",
    "\\begin{aligned}\n",
    "|\\phi(t)-\\psi(t)|&\\le \\int_{t_0}^t\\mathrm{|f(\\xi,\\phi(\\xi))-f(\\xi,\\psi(\\xi))|}\\mathrm{d}\\xi\\\\\n",
    "&\\le L\\int_{t_0}^t\\mathrm{|\\phi(\\xi)-\\psi(\\xi)|}\\mathrm{d}\\xi\n",
    "\\end{aligned}\n",
    "$$\n",
    "其中L为利普希茨条件，由格朗沃尔不等式知$$0\\le |\\phi(\\xi)-\\psi(\\xi)|\\le 0$$\n",
    "所以有$$\\phi(\\xi)=\\psi(\\xi)$$\n",
    "成立"
   ]
  },
  {
   "cell_type": "markdown",
   "metadata": {},
   "source": [
    "## 4.给定积分方程$$\\phi(x)=f(x)+\\lambda\\int_a^b\\mathrm{K(x,\\xi)\\phi(\\xi)}\\mathrm{d}\\xi$$，其中f(x)是[a,b]上的已知连续函数，$K(x,\\xi)$是$a\\le x\\le b$, $a\\le\\xi\\le b$上的已知连续函数。证明当$|\\lambda|$足够小时（$\\lambda$是常数），上式方程在[a,b]上存在唯一的连续解。"
   ]
  },
  {
   "cell_type": "markdown",
   "metadata": {},
   "source": [
    "证：作逐步逼近序列，取$$\\phi_0(x)=f(x)$$\n",
    "令$$\\phi_1(x)=f(x)+\\lambda \\int_a^b\\mathrm{k(x,\\xi)\\phi_0(\\xi)}\\mathrm{d}\\xi$$\n",
    "$$\\cdots$$\n",
    "$$\\phi_{n+1}(x)=f(x)+\\lambda \\int_a^b\\mathrm{k(x,\\xi)\\phi_n(\\xi)}\\mathrm{d}\\xi$$\n",
    "$$\\cdots$$\n",
    "令$M=\\max \\limits_{x\\in [a,b]}\\{|f(x)|\\}$  ,  $L=\\max \\limits_{x,\\xi \\in [a,b]}\\{|k(x,\\xi)|\\}>0$\n",
    "$$\n",
    "\\begin{aligned}\n",
    "|\\phi_1(x)-\\phi_0(x)|&=|\\lambda \\int_a^b\\mathrm{k(x,\\xi)(\\phi_k(\\xi)-\\phi_{k-1}(\\xi))}\\mathrm{d}\\xi|\\\\\n",
    "&\\le|\\lambda|\\int_a^b\\mathrm{|k(x,\\xi)||(\\phi_k(\\xi)-\\phi_{k-1}(\\xi))|}\\mathrm{d}\\xi\\\\\n",
    "&\\le|\\lambda|\\int_a^b\\mathrm{L^{k+1}|\\lambda|^kM(b-a)^k}\\mathrm{d}\\xi\\\\\n",
    "&=|\\lambda|^{k+1}L^{k+1}M(b-a)^{k+1}\n",
    "\\end{aligned}\n",
    "$$\n",
    "有数学归纳法知，对$\\forall n \\in N$有\n",
    "$$|\\phi_n(x)-\\phi_{n-1}|\\le ML^n|\\lambda|^n(b-a)^n$$\n",
    "下证${\\phi_n(x)}$在[a,b]上一致收敛，考虑级数(*) $$\\phi_0(x)+\\sum_{k=1}^{\\infty}(\\phi_k(x)-\\phi_{k-1}(x))$$  \n",
    "该级数的前n项和为$$\\phi_0(x)+\\sum_{k=1}^{n}(\\phi_k(x)-\\phi_{k-1}(x))=\\phi_n(x)$$\n",
    "由于$$|\\phi_k(x)-\\phi_{k-1}|\\le ML^k|\\lambda|^k(b-a)^k$$\n",
    "当$|\\lambda|<\\frac{1} {(b-a)L}$时，级数$\\sum_{k=1}^{\\infty}ML^n|\\lambda|^n(b-a)^n$收敛，所以级数（*）在[a,b]上一致收敛。"
   ]
  },
  {
   "cell_type": "markdown",
   "metadata": {},
   "source": [
    "设极限函数为$\\phi^*(x)$\n",
    "则$$\\phi^*(x)=f(x)+\\lambda \\int_a^b\\mathrm{k(x,\\xi)\\phi^*(\\xi)}\\mathrm{d}\\xi$$\n",
    "所以此情况下积分方程必存在连续解。\n",
    "下证当$|\\lambda|<\\frac{1} {(b-a)L}$时方程的解的唯一性。\n",
    "设另有解$\\phi''(x)$且$\\phi''(x)\\not=\\phi^*(x)$ 即$$\\phi''(x)=f(x)+\\lambda \\int_a^b\\mathrm{k(x,\\xi)\\phi''(\\xi)}\\mathrm{d}\\xi$$\n",
    "令$$Q=\\max\\limits_{x\\in [a,b]}\\{|\\phi''(x)-\\phi^*(x)|\\}>0$$\n",
    "$$\n",
    "\\begin{aligned}\n",
    "|\\phi''(x)-\\phi^*(x)|&=|\\lambda \\int_a^b\\mathrm{k(x,\\xi)(\\phi^*(\\xi)-\\phi''(\\xi))}\\mathrm{d}\\xi|\\\\\n",
    "&\\le |\\lambda| \\int_a^b\\mathrm{L|\\phi^*(\\xi)-\\phi''(\\xi)|}\\mathrm{d}\\xi\\\\\n",
    "&=|\\lambda|QL(b-a)\n",
    "\\end{aligned}\n",
    "$$\n",
    "得出$$Q\\le |\\lambda|QL(b-a)$$\n",
    "又因为$Q>0$，所以$|\\lambda|\\ge \\frac{1} {(b-a)L}$，与$|\\lambda|<\\frac{1} {(b-a)L}$矛盾。\n",
    "唯一性成立"
   ]
  },
  {
   "cell_type": "markdown",
   "metadata": {
    "collapsed": true
   },
   "source": [
    "# <font color='red'>A  11/10"
   ]
  },
  {
   "cell_type": "code",
   "execution_count": null,
   "metadata": {
    "collapsed": true
   },
   "outputs": [],
   "source": []
  }
 ],
 "metadata": {
  "kernelspec": {
   "display_name": "SageMath 7.3",
   "language": "",
   "name": "sagemath"
  },
  "language_info": {
   "codemirror_mode": {
    "name": "ipython",
    "version": 2
   },
   "file_extension": ".py",
   "mimetype": "text/x-python",
   "name": "python",
   "nbconvert_exporter": "python",
   "pygments_lexer": "ipython2",
   "version": "2.7.10"
  }
 },
 "nbformat": 4,
 "nbformat_minor": 0
}
