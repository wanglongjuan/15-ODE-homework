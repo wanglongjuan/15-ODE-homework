{
 "cells": [
  {
   "cell_type": "markdown",
   "metadata": {},
   "source": [
    "3 求初值问题\n",
    "$$\n",
    "\\begin{cases}\n",
    "\\frac{dy}{dx}=x^2-y^2,R:|x+1|\\leq 1,|y|\\leq 1\\\\\n",
    "y(-1)=0\\\\\n",
    "\\end{cases}\n",
    "$$\n",
    "的解存在区间，并求第二次近似解，给出解的存在区间的误差估计."
   ]
  },
  {
   "cell_type": "markdown",
   "metadata": {},
   "source": [
    "解：由题\n",
    "    $$\n",
    "    M=\\max_{\\substack{\n",
    "    (x,y)\\in R\\\\\n",
    "    }}\n",
    "    \\mid f(x,y)\\mid=4\n",
    "    $$\n",
    "    $$h=\\min {(a=1,\\frac{b}{M}=\\frac{1}{4})}=\\frac{1}{4}$$\n",
    "    因为$\\frac{\\partial f}{\\partial y}=|-2y|\\leq 2=L$.\n",
    "    所以，在$R$上函数$f(x,y)=x^2-y^2$的利普希兹常数可取为$L=2$\n",
    "    $$p_0(x)=0$$\n",
    "    $$p_1(x)=\\int_{-1}^x\\mathrm t^2-(p_o(t))^2\\,\\mathrm {d}t=\\frac{x^3}{3}+\\frac{1}{3}$$\n",
    "    $$p_2(x)=\\int_{-1}^x\\mathrm t^2-(p_1(t))^2\\,\\mathrm {d}t=\\frac{x^3}{3}-\\frac{x}{9}-\\frac{x^4}{18}-\\frac{x^7}{63}+\\frac{11}{42}$$\n",
    "    由公式得$$|p_2(x)-p(x)|\\leq \\frac{4*2^2}{3!} (\\frac{1}{4})^3=\\frac{1}{24}$$\n",
    "    故已知初值问题的解的存在区间为$$-\\frac{5}{4}\\leq x \\leq -\\frac{3}{4}$$\n",
    "    第二次近似解为$$y_2=\\frac{x^3}{3}-\\frac{x}{9}-\\frac{x^4}{18}-\\frac{x^7}{63}+\\frac{11}{42}$$\n",
    "    在解的存在区间的误差估计为$$|y-y_2|\\leq \\frac{1}{24}$$"
   ]
  },
  {
   "cell_type": "markdown",
   "metadata": {},
   "source": [
    "6 证明格朗沃尔不等式:\n",
    "设K为非负常数，f(t)和g(t)为在区间$\\alpha\\leq t\\leq \\beta$上的连续非负函数，且满足不等式\n",
    "$$\n",
    "f(t)\\leq K+\\int_\\alpha^t f(s)g(s)\\,\\mathrm ds\\\n",
    "$$\n",
    "$$\\alpha\\leq t\\leq \\beta$$\n",
    "则有\n",
    "$$\n",
    "f(t)\\leq Kexp(\\int_\\alpha^t g(s)\\,\\mathrm ds),\\alpha\\leq t\\leq \\beta\n",
    "$$\n",
    "并由此证明定理1的命题5."
   ]
  },
  {
   "cell_type": "markdown",
   "metadata": {},
   "source": [
    "证明（1）$K>0$时，\n",
    "         令$$w(t)=K+\\int_\\alpha^t\\mathrm f(s)g(s)\\,\\mathrm {d}s$$\n",
    "         则$$(w(t))'=f(t)g(t)\\leq g(t)w(t)$$\n",
    "         由$w(t)>0$可得$$\\frac{(w(t))'}{w(t)}leq g(t)$$\n",
    "         两边积分得$$ln w(t)-ln w(\\alpha)\\leq \\int_\\alpha^t\\mathrm g(s)\\,\\mathrm {d}s$$\n",
    "         即$$\\frac{w(t)}{w(\\alpha)}=exp(\\int_\\alpha^t\\mathrm g(s)\\,\\mathrm {d}s,w(\\alpha)=K>0$$\n",
    "         所以$$w(t)\\leq K*exp(\\int_\\alpha^t\\mathrm g(s)\\,\\mathrm {d}s$$\n",
    "         即$$f(t)\\leq w(t)\\leq Kexp(\\int_\\alpha^t\\mathrm g(s)\\,\\mathrm {d}s,\\alpha\\leq t\\leq \\beta$$\n",
    "      (2)当$K=0$时，\n",
    "         对任意$\\epsilon>0$,由于$$f(t)\\leq \\int_\\alpha^t\\mathrm f(s)g(s)\\,\\mathrm {d}s$$\n",
    "         所以，$$f(t)\\leq \\epsilon+\\int_\\alpha^t\\mathrm f(s)g(s)\\,\\mathrm {d}s$$\n",
    "         由（1）$$f(t)\\leq \\epsilon exp(\\int_\\alpha^t\\mathrm g(s)\\,\\mathrm {d}s)$$\n",
    "         当$\\epsilon\\to 0^+$时，有$f(t)\\leq o$\n",
    "         又因为$f(t)\\geq 0$\n",
    "         所以$f(t)=0$\n",
    "         故$$f(t)\\leq Kexp(\\int_\\alpha^t\\mathrm g(s)\\,\\mathrm {d}s,\\alpha\\leq t\\leq \\beta$$\n",
    "         综上所述，格朗沃尔不等式成立\n",
    "         \n",
    "证明 设$\\phi(x),\\psi(x)$是初值问题$x'=f(t,x),x(t_0)=x_0$的两个解\n",
    "     则$$\\phi(t)=x_0+\\int_{t_0}^t\\mathrm f(\\xi,\\phi(\\xi))\\,\\mathrm {d}\\xi$$\n",
    "     $$\\psi(t)=x_0+\\int_{t_0}^t\\mathrm f(\\xi,\\psi(\\xi))\\,\\mathrm {d}\\xi$$\n",
    "     那么$$|\\phi(t)-\\psi(t)|\\leq \\int_{t_0}^t\\mathrm |f(\\xi,\\phi(\\xi))-f(\\xi,\\psi(\\xi)|\\,\\mathrm {d}\\xi\\leq L\\int_{t_0}^t\\mathrm |\\phi(\\xi)-\\psi(\\xi)|\\,\\mathrm {d}\\xi$$\n",
    "     其中L为利普希兹条件。\n",
    "     由格朗沃尔不等式知$$0\\leq |\\phi(t)-\\psi(t)|\\leq 0$$\n",
    "     故$$\\phi(t)=\\psi(t)$$\n",
    "     定理1的命题5成立"
   ]
  },
  {
   "cell_type": "markdown",
   "metadata": {},
   "source": [
    "8 如果函数f(x,y)于带域$\\alpha\\leq x\\leq \\beta$上连续且关于y满足利普希茨条件，则方程（3.1）满足条件$y(x_0)=y_0$的解于整个区间[a,b]上存在且唯一，试证明之.\n",
    "（提示：用逐步紧逼法，取$$\n",
    "                        M=\\max_{\\substack{\n",
    "                        x\\in[\\alpha,\\beta]\\\\\n",
    "                        }}\n",
    "                        \\mid f(x,y_0)\\mid\n",
    "                        $$"
   ]
  },
  {
   "cell_type": "markdown",
   "metadata": {},
   "source": [
    "解：$$y_0(x)=y_o$$\n",
    "    $$y_1(x)=y_o+\\int_{x_0}^x\\mathrm f(\\xi,y_0(\\xi))\\,\\mathrm {d}\\xi$$\n",
    "    $$…$$\n",
    "    $$y_n(x)=y_o+\\int_{x_0}^x\\mathrm f(\\xi,y_{n-1}(\\xi))\\,\\mathrm {d}\\xi$$\n",
    "    $$…\\quad(1)$$\n",
    "    易见$y_n(x)$在$\\alpha\\leq x\\leq \\beta$上存在且连续\n",
    "    考察级数$$y_0(x)+\\sum_{k=1}^{\\infty}[y_k(x)-y_{k-1}(x)],\\alpha\\leq x\\leq \\beta\\quad(2)$$\n",
    "    取                  $$\n",
    "                        M=\\max_{\\substack{\n",
    "                        x\\in[\\alpha,\\beta]\\\\\n",
    "                        }}\n",
    "                        \\mid f(x,y_0)\\mid\n",
    "                        $$\n",
    "     由（1）式有$$|y_1(x)-y_0(x)|\\leq \\int_{x_0}^x\\mathrm f(\\xi,y_0(\\xi))\\,\\mathrm {d}\\xi\\leq  M|x-x_0|\\quad(3)$$\n",
    "     及$$|y_2(x)-y_1(x)|\\leq \\int_{x_0}^x\\mathrm |f(\\xi,y_1(\\xi))-f(\\xi,y_0(\\xi))|\\,\\mathrm {d}\\xi$$\n",
    "     利用利普希兹条件及(3)式$$|y_2(x)-y_1(x)|\\leq L\\int_{x_0}^x\\mathrm f(y_1(\\xi))-f(y_0(\\xi))\\,\\mathrm {d}\\xi\\leq L\\int_{x_0}^x\\mathrm |\\xi-x_0|\\,\\mathrm {d}\\xi=\\frac{ML}{2!}(x-x_0)^2$$\n",
    "     由数学归纳法得$$|y_k(x)-y_{k-1}(x)|\\leq \\frac{ML^{k-1}}{k!}|x-x_0|^k\\leq \\frac{ML^{k-1}}{k!}(\\beta-\\alpha)^k$$\n",
    "     上式右端是正项收敛级数$\\sum_{k=1}^{\\infty}\\frac{ML^{k-1}}{k!}(\\beta-\\alpha)^k$的一般项.\n",
    "     根据Weierstrass判别法知,级数(2)在$\\alpha\\leq x\\leq \\beta$上一致收敛.\n",
    "     因而函数列${y_n(x)}$在$[\\alpha,\\beta]$上一致收敛于$f(x,y(x))$.\n",
    "     对（1）两边取极限$$y(x)=y_0+\\int_{x_0}^x\\mathrm f(\\xi,y(\\xi))\\,\\mathrm {d}\\xi$$\n",
    "     解的存在性得证。"
   ]
  },
  {
   "cell_type": "markdown",
   "metadata": {},
   "source": [
    "10 给定积分方程\n",
    "$$\n",
    "\\varphi(x)=f(x)+\\lambda\\int_a^b K(x,\\varepsilon)\\varphi(\\varepsilon)\\,\\mathrm d\\varepsilon\\\n",
    "【*】$$\n",
    "其中f(x)是$[\\alpha,\\beta]$上的已知连续函数，$K(x,\\varepsilon)$是$a\\leq x\\leq b$,$a\\leq \\varepsilon\\leq b$上的已知连续函数。\n",
    "证明当$|\\lambda|$足够小时（$\\lambda$是常数），$（*）$在$[\\alpha,\\beta]$上存在唯一的连续解.\n",
    "(提示：作逐步逼近函数序列\n",
    "$$\n",
    "\\varphi_0(x)=f(x)\n",
    "$$\n",
    "$$\n",
    "\\varphi_{n+1}(x)=f(x)+\\lambda\\int_a^b K(x,\\varepsilon)\\varphi_n(\\varepsilon)\\,\\mathrm d\\varepsilon\\\n",
    "(n=0,1,2.....).)$$"
   ]
  },
  {
   "cell_type": "markdown",
   "metadata": {},
   "source": [
    "证明 作逐步逼近序列，取$$\\phi_0(x)=f(x)$$\n",
    "     令$$\\phi_1(x)=f(x)+\\lambda\\int_a^b\\mathrm k(x,\\xi)\\phi_0(\\xi)\\,\\mathrm {d}\\xi$$\n",
    "     $$……$$\n",
    "     $$\\phi_{n+1}(x)=f(x)+\\lambda\\int_a^b\\mathrm k(x,\\xi)\\phi_n(\\xi)\\,\\mathrm {d}\\xi$$\n",
    "     $$……\\quad(1)$$\n",
    "     令                 $$\n",
    "                        M=\\max_{\\substack{\n",
    "                        x\\in[a,b]\\\\\n",
    "                        }}\n",
    "                        \\mid f(x)\\mid\n",
    "                        $$\n",
    "                        $$\n",
    "                        L=\\max_{\\substack{\n",
    "                        x\\in[a,b]\\\\\n",
    "                        \\xi\\in[a,b]\\\\\n",
    "                        }}\n",
    "                        \\mid f(x,y)\\mid>0\n",
    "                        $$\n",
    "     $$|\\phi_1(x)-\\phi_0(x)|=|\\lambda\\int_a^b\\mathrm k(x,\\xi)\\phi_0(\\xi)\\,\\mathrm {d}\\xi|\\leq |\\lambda|\\int_a^b\\mathrm |k(x,\\xi)||f(\\xi)|\\,\\mathrm {d}\\xi\\leq |\\lambda|ML(b-a)$$     \n",
    "     假设$|\\phi_k(x)-\\phi_{k-1}(x)|\\leq |\\lambda|^kL^kM(b-a)^k$      \n",
    "     则有$$|\\phi_{k+1}(x)-\\phi_k(x)|=|\\lambda\\int_a^b\\mathrm k(x,\\xi)(\\phi_k(\\xi)-\\phi_{k-1}(\\xi))\\,\\mathrm {d}\\xi|\\leq |\\lambda|\\int_a^b\\mathrm |k(x,\\xi)||\\phi_k(\\xi)-\\phi_{k-1}(\\xi)|\\,\\mathrm {d}\\xi\\leq |\\lambda|\\int_a^b\\mathrm L^{k+1}|\\lambda|^kM(b-a)^k\\,\\mathrm {d}\\xi=|\\lambda|^{k+1}L^{k+1}M(b-a)^{k+1}$$\n",
    "     由数学归纳法，对任意整数$$|\\phi_n(x)-\\phi_{n-1}(x)|\\leq ML^n|\\lambda|^n(b-a)^n$$\n",
    "     考虑级数$$\\phi_0(x)+\\sum_{k=1}^{\\infty}(\\phi_k(x)-\\phi_{k-1}(x))\\quad(2)$$\n",
    "     该级数的前$n$项和为$$\\phi_0(x)+\\sum_{k=1}^{\\infty}(\\phi_k(x)-\\phi_{k-1}(x))=\\phi_n(x)$$\n",
    "     由于$$|\\phi_k(x)-\\phi_{k-1}(x)|\\leq ML^k|\\lambda|^k(b-a)^k$$\n",
    "     当$|\\lambda|<\\frac{1}{(b-a)L}$时，级数$\\sum_{k=1}^{\\infty}(\\phi_k(x)-\\phi_{k-1}(x))$收敛.\n",
    "     可知当$|\\lambda|<\\frac{1}{(b-a)L}$时，级数（2）在$[a,b]$上一致收敛.\n",
    "     设极限函数为$\\phi*(x)$\n",
    "     即，当$a\\leq x\\leq b$时，当$n\\to\\infty$时，$\\phi_n(x)$一致收敛于$\\phi*$\n",
    "     则由$\\phi_n(x)$的连续性知$\\phi*(x)$在[a,b]上连续\n",
    "     对（1），当$a\\leq x\\leq b$时两边取极限$$\\phi*(x)=f(x)+\\lambda\\int_a^b\\mathrm k(x,\\xi)\\phi*(\\xi)\\,\\mathrm {d}\\xi,(|\\lambda|<\\frac{1}{(b-a)L})$$\n",
    "     当$|\\lambda|<\\frac{1}{(b-a)L}$，积分方程必存在连续解得证.\n",
    "     另设$\\psi(x)$且$\\psi(x)不等于\\phi*$，即$$\\psi(x)=f(x)+\\lambda\\int_a^b\\mathrm k(x,\\xi)\\psi(\\xi)\\,\\mathrm {d}\\xi$$\n",
    "      记                $$\n",
    "                        Q=\\max_{\\substack{\n",
    "                        x\\in[a,b]\\\\\n",
    "                        }}\n",
    "                        \\mid \\phi*-\\psi(x)\\mid>0\n",
    "                        $$\n",
    "       $$|\\phi*-\\psi(x)|=|\\lambda\\int_a^b\\mathrm k(x,\\xi)(\\phi*(\\xi)-\\psi(\\xi))\\,\\mathrm{d}\\xi|\\leq |\\lambda|\\int_a^b\\mathrm L|\\phi*(\\xi)-\\psi(\\xi)|\\,\\mathrm{d}\\xi=|\\lambda|QL(b-a)$$\n",
    "       即有$Q\\leq |\\lambda|QL(b-a)$,\n",
    "       由于$Q>0$，所以$|\\lambda|\\geq \\frac{1}{(b-a)L}$,\n",
    "       与$|\\lambda|<\\frac{1}{(b-a)L}$矛盾，唯一性得证。"
   ]
  },
  {
   "cell_type": "markdown",
   "metadata": {
    "collapsed": true
   },
   "source": [
    "# <font color='red'>A  11/10"
   ]
  },
  {
   "cell_type": "code",
   "execution_count": null,
   "metadata": {
    "collapsed": true
   },
   "outputs": [],
   "source": []
  }
 ],
 "metadata": {
  "kernelspec": {
   "display_name": "SageMath 7.3",
   "language": "",
   "name": "sagemath"
  },
  "language_info": {
   "codemirror_mode": {
    "name": "ipython",
    "version": 2
   },
   "file_extension": ".py",
   "mimetype": "text/x-python",
   "name": "python",
   "nbconvert_exporter": "python",
   "pygments_lexer": "ipython2",
   "version": "2.7.10"
  }
 },
 "nbformat": 4,
 "nbformat_minor": 0
}
