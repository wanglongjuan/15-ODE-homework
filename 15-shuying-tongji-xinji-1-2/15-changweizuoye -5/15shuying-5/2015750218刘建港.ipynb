{
 "cells": [
  {
   "cell_type": "markdown",
   "metadata": {},
   "source": [
    "## P88 3.求初值问题:$\\begin{cases}\\frac{dy} {dx}=x^2-y^2 ,R:|x+1| \\leq 1,|y| \\leq 1\\\\y(-1)=0\\end{cases}$的解的存在区间，并求第二次近似解，给出在解的存在区间的误差估计."
   ]
  },
  {
   "cell_type": "markdown",
   "metadata": {},
   "source": [
    "**解： $M=\\max \\limits_{(x,y) \\in R}|f(x,y)|=4 ,h=\\min(1,\\frac{1}{4})=\\frac{1}{4}$**"
   ]
  },
  {
   "cell_type": "markdown",
   "metadata": {},
   "source": [
    "**因为$|\\frac{\\partial f}{\\partial y}|=|2y|\\leq 2 =L，即解的存在区间为|x+1| \\leq \\frac{1}{4}上，即-\\frac{5}{4} \\leq x \\leq \\frac{1}{4}$**"
   ]
  },
  {
   "cell_type": "markdown",
   "metadata": {},
   "source": [
    "$\\varphi_0 (x)=0$"
   ]
  },
  {
   "cell_type": "markdown",
   "metadata": {},
   "source": [
    "$\\varphi_1(x)=0+\\int_{-1}^x[\\xi^2-\\varphi_0(\\xi)^2]\\,\\mathrm d {\\xi}=\\int_{-1}^x\\ \\xi^2\\,\\mathrm d {\\xi}=\\frac{x^3+1}{3}$"
   ]
  },
  {
   "cell_type": "markdown",
   "metadata": {},
   "source": [
    "$\\varphi_2(x)=0+\\int_{-1}^x[\\xi^2-\\varphi_1(\\xi)^2]\\,\\mathrm d {\\xi}=\\frac{1}{3}x^3-\\frac{1}{63}x^7-\\frac{1}{18}x^4-\\frac{1}{9}x+\\frac{11}{42}$"
   ]
  },
  {
   "cell_type": "markdown",
   "metadata": {},
   "source": [
    "$|\\varphi_2(x)-\\varphi (x)| \\leq \\frac{4*2^2}{3} (\\frac{1}{4})^3=\\frac{1}{24}$"
   ]
  },
  {
   "cell_type": "markdown",
   "metadata": {},
   "source": [
    "因此，已知初值问题的解的存在区间为$-\\frac{5}{4} \\leq x \\leq \\frac{1}{4},第二次近似解为y_2=\\frac{1}{3}x^3-\\frac{1}{63}x^7-\\frac{1}{18}x^4-\\frac{1}{9}x+\\frac{11}{42},在解的存在区间的误差估计为|y-y_2| \\leq \\frac{1}{24}$"
   ]
  },
  {
   "cell_type": "markdown",
   "metadata": {},
   "source": [
    "## 8、$如果函数f(x,y)于带域\\alpha \\leq x \\leq \\beta 上连续且关于y满足利普希茨条件，则方程\\frac{\\mathrm d y}{\\mathrm d x}=f(x,y)满足条件y(x_0)=y_0的解于整个区间[\\alpha,\\beta]上存在且唯一.试证明之.$"
   ]
  },
  {
   "cell_type": "markdown",
   "metadata": {},
   "source": [
    "证：$由命题可知方程满足y(x_0)=y_0的解等价于方程y=y_0+\\int_{x_0}^x\\ f(x,y)\\,\\mathrm d x ,x \\in [\\alpha,\\beta]的连续解，因此只要证明上述积分方程的解的存在唯一性即可.$"
   ]
  },
  {
   "cell_type": "markdown",
   "metadata": {},
   "source": [
    "存在性：\n",
    "取 $$y_0(x)=y_0;$$\n",
    "    $$y_1(x)=y_0+\\int_{x_0}^x\\ f(\\xi,y_0(\\xi))\\,\\mathrm d \\xi;$$\n",
    "    $$ \\ldots$$\n",
    "    $$y_n(x)=y_0+\\int_{x_0}^x\\ f(\\xi,y_{n-1}(\\xi))\\,\\mathrm d \\xi   (\\ast)$$\n",
    "    "
   ]
  },
  {
   "cell_type": "markdown",
   "metadata": {},
   "source": [
    "易知$y_n(x)在 \\alpha \\leq x \\leq \\beta 上存在且连续，然后证明函数序列{y_n(x)}在\\alpha \\leq x \\leq \\beta上一致收敛$"
   ]
  },
  {
   "cell_type": "markdown",
   "metadata": {},
   "source": [
    "考察级数：\n",
    "$$y_0(x)+\\sum_{k=1}^{\\infty}[y_k(x)-y_{k-1}(x)] ,  x \\in [\\alpha,\\beta]$$"
   ]
  },
  {
   "cell_type": "markdown",
   "metadata": {
    "collapsed": true
   },
   "source": [
    "取M=$\\max \\limits_{x \\in [\\alpha,\\beta]}|f(x,y_0)|,由 \\ast 有$"
   ]
  },
  {
   "cell_type": "markdown",
   "metadata": {},
   "source": [
    "$$|y_1(x)-y_0(x)| \\leq \\int_{x_0}^x\\ |f( \\xi,y_0(\\xi))|\\,\\mathrm d \\xi \\leq M(x-x_0)$$"
   ]
  },
  {
   "cell_type": "markdown",
   "metadata": {},
   "source": [
    "及$|y_2(x)-y_1(x)| \\leq \\int_{x_0}^x\\ |f( \\xi,y_1(\\xi))-f(\\xi,y_0(\\xi))|\\,\\mathrm d \\xi \\leq L\\int_{x_0}^x\\ |y_1(\\xi)-y_0(\\xi)| \\,\\mathrm d \\xi \\leq L \\int_{x_0}^x \\ M|\\xi -x_0| \\,\\mathrm d \\xi =\\frac{ML}{2!}(x-x_0)^2$"
   ]
  },
  {
   "cell_type": "markdown",
   "metadata": {},
   "source": [
    "即由数学归纳法知道"
   ]
  },
  {
   "cell_type": "markdown",
   "metadata": {},
   "source": [
    "$$|y_k(x)-y_{k-1}(x)| \\leq \\frac{M L^{k-1}}{k!}(\\beta -\\alpha)^k$$"
   ]
  },
  {
   "cell_type": "markdown",
   "metadata": {},
   "source": [
    "而$$\\frac{M L^{k-1}}{k!}(\\beta -\\alpha)^k是正项收敛级数 \\sum_{k=1}^{\\infty} \\frac{M L^{k-1}}{k!}(\\beta -\\alpha)^k的一般项，即级数收敛，即{y_n(x)}一致收敛.$$"
   ]
  },
  {
   "cell_type": "markdown",
   "metadata": {},
   "source": [
    "设$$\\lim\\limits_{n \\to \\infty }{y_n(x)}=y(x)，即y(x)在[\\alpha,\\beta]上连续，且{f(x,y_n(x)}在[\\alpha,\\beta]上一致收敛于f(x,y(x)),即对(\\ast)取极限$$ "
   ]
  },
  {
   "cell_type": "markdown",
   "metadata": {},
   "source": [
    "$y(x)=y_0+\\int_{x_0}^x\\ f(\\xi,y(\\xi)) \\,\\mathrm d \\xi,即解的存在性得证。$"
   ]
  },
  {
   "cell_type": "markdown",
   "metadata": {},
   "source": [
    "唯一性："
   ]
  },
  {
   "cell_type": "markdown",
   "metadata": {},
   "source": [
    "假设$\\psi(x)是积分方程y=y_0+\\int_{x_0}^x\\ f(x,y)\\,\\mathrm d x的另一连续解，现证明\\psi(x)也是序列{y_n(x)}的一致收敛的极限函数，即从$"
   ]
  },
  {
   "cell_type": "markdown",
   "metadata": {},
   "source": [
    "$$y_0(x)=y_0$$\n",
    " $$y_n(x)=y_0+\\int_{x_0}^x \\ f(\\xi ,y_{n-1}(\\xi))\\,\\mathrm d \\xi (n \\geq 1)$$\n",
    "$$ \\psi(x)=y_0+\\int_{x_0}^x \\ f(\\xi, \\psi(\\xi))\\,\\mathrm d \\xi $$"
   ]
  },
  {
   "cell_type": "markdown",
   "metadata": {},
   "source": [
    "可进行如下估计："
   ]
  },
  {
   "cell_type": "markdown",
   "metadata": {},
   "source": [
    "$|y_0(x)-\\psi(x)| \\leq \\int_{x_0}^x \\ |f(\\xi , \\psi(\\xi))| \\,\\mathrm d \\xi \\leq M(x-x_0)$"
   ]
  },
  {
   "cell_type": "markdown",
   "metadata": {},
   "source": [
    "$|y_1(x)-\\psi(x)| \\leq \\int_{x_0}^x \\ |f(\\xi,y_0(\\xi))-f(\\xi , \\psi(\\xi))| \\,\\mathrm d \\xi \\leq L \\int_{x_0}^x \\ |y_0(\\xi)-\\psi(\\xi)|\\,\\mathrm d \\xi \\leq ML \\int_{x_0}^x \\ (\\xi -x_0)\\,\\mathrm d \\xi =\\frac{ML}{2!}(x-x_0)^2$"
   ]
  },
  {
   "cell_type": "markdown",
   "metadata": {},
   "source": [
    "现设$|y_{n-1}(x)-\\psi(x)| \\leq \\frac{ML^{n-1}}{n!}(x-x_0(x))^n,则有$"
   ]
  },
  {
   "cell_type": "markdown",
   "metadata": {},
   "source": [
    "$|y_n(x)-\\psi(x)| \\leq \\frac{ML^n}{n!}(x-x_0)^{n+1}$"
   ]
  },
  {
   "cell_type": "markdown",
   "metadata": {},
   "source": [
    "即由数学归纳法可得到，"
   ]
  },
  {
   "cell_type": "markdown",
   "metadata": {},
   "source": [
    "$$|y_n(x)-\\psi(x)| \\leq \\frac{ML^n}{(n+1)!}(\\beta -\\alpha)^{n+1}$$"
   ]
  },
  {
   "cell_type": "markdown",
   "metadata": {},
   "source": [
    "$$\\frac{M L^n}{(n+1)!}(\\beta -\\alpha)^{n+1}是收敛级数公项，即n \\to \\infty 时，\\frac{M L^n}{(n+1)!}(\\beta-\\alpha)^{n+1} \\to 0,$$\n",
    "\n",
    "$$即{y_n(x)}在[\\alpha,\\beta]上一致收敛与\\psi(x),根据极限的唯一性可得到，y(x)=\\psi(x),x \\in [\\alpha,\\beta].得证。$$"
   ]
  },
  {
   "cell_type": "markdown",
   "metadata": {},
   "source": [
    "## 6、证明格朗沃尔(Gronwall)不等式：设K为非负常数，f(t)和g(t)为在区间$\\alpha \\leq t \\leq \\beta$上的连续非负函数，且满足不等式$f(t) \\leq K+\\int_{\\alpha}^t \\ f(s)g(s) \\,\\mathrm d s ,\\alpha \\leq t \\leq \\beta ,$则有$f(t) \\leq Kexp(\\int_{\\alpha}^t \\ g(s) \\,\\mathrm d s) ,\\alpha \\leq t \\leq \\beta$并由此证明定理1的命题5.\n"
   ]
  },
  {
   "cell_type": "markdown",
   "metadata": {},
   "source": [
    "证明：当$K>0时令\\omega(t)=K+\\int_a^t\\mathrm{f(s)g(s)}\\mathrm{d}s$"
   ]
  },
  {
   "cell_type": "markdown",
   "metadata": {},
   "source": [
    "则$\\omega'(t)=f(t)g(t)\\le g(t)\\omega(t)$"
   ]
  },
  {
   "cell_type": "markdown",
   "metadata": {},
   "source": [
    "由$\\omega(t)>0可得\\frac{\\omega'(t)} {\\omega(t)}\\le g(t)$"
   ]
  },
  {
   "cell_type": "markdown",
   "metadata": {},
   "source": [
    "对其两边从a到t积分得"
   ]
  },
  {
   "cell_type": "markdown",
   "metadata": {},
   "source": [
    "$ln\\omega(t)-ln\\omega(\\alpha)\\le \\int_a^t\\mathrm{g(s)}\\mathrm{d}s$"
   ]
  },
  {
   "cell_type": "markdown",
   "metadata": {},
   "source": [
    "所以，$\\frac{\\omega(t)} {\\omega(\\alpha)}\\le exp(\\int_a^t\\mathrm{g(s)}\\mathrm{d}s)   ,\\omega(\\alpha)=K>0$"
   ]
  },
  {
   "cell_type": "markdown",
   "metadata": {},
   "source": [
    "$\\omega(t)\\le Kexp(\\int_a^t\\mathrm{g(s)}\\mathrm{d}s)$"
   ]
  },
  {
   "cell_type": "markdown",
   "metadata": {},
   "source": [
    "所以，$f(t)\\le \\omega(t)\\le Kexp(\\int_a^t\\mathrm{g(s)}\\mathrm{d}s)$"
   ]
  },
  {
   "cell_type": "markdown",
   "metadata": {},
   "source": [
    "其中  $\\alpha \\le t\\le \\beta$"
   ]
  },
  {
   "cell_type": "markdown",
   "metadata": {},
   "source": [
    "当$K>0$时，对$\\forall \\epsilon>0$"
   ]
  },
  {
   "cell_type": "markdown",
   "metadata": {},
   "source": [
    "因为$f(t)\\le \\int_a^t\\mathrm{f(s)g(s)}\\mathrm{d}s$"
   ]
  },
  {
   "cell_type": "markdown",
   "metadata": {},
   "source": [
    "所以$f(t)\\le \\epsilon +\\int_a^t\\mathrm{f(s)g(s)}\\mathrm{d}s$"
   ]
  },
  {
   "cell_type": "markdown",
   "metadata": {},
   "source": [
    "由上一种情况的结论知$f(t)\\le \\epsilon exp(\\int_a^t\\mathrm{g(s)}\\mathrm{d}s)$"
   ]
  },
  {
   "cell_type": "markdown",
   "metadata": {},
   "source": [
    "当$\\epsilon \\rightarrow 0^{+}$时，有$f(t)\\le 0$ ， 又因为$f(t)\\ge 0$， 所以 $f(t)=0$"
   ]
  },
  {
   "cell_type": "markdown",
   "metadata": {},
   "source": [
    "从而$f(t)\\le Kexp(\\int_a^t\\mathrm{f(s)g(s)}\\mathrm{d}s)$"
   ]
  },
  {
   "cell_type": "markdown",
   "metadata": {},
   "source": [
    "其中 $\\alpha \\le t\\le \\beta$"
   ]
  },
  {
   "cell_type": "markdown",
   "metadata": {},
   "source": [
    "综上所述，格朗沃尔不等式成立。下证命题5."
   ]
  },
  {
   "cell_type": "markdown",
   "metadata": {},
   "source": [
    "设$\\phi (t),\\psi(t)$是初值问题$x'=f(t,x)$ , $x(t_0)=x_0$的两个解"
   ]
  },
  {
   "cell_type": "markdown",
   "metadata": {},
   "source": [
    "则$\\phi(t)=x_0+\\int_{t_0}^t\\mathrm{f(\\xi,\\phi(\\xi))}\\mathrm{d}\\xi$"
   ]
  },
  {
   "cell_type": "markdown",
   "metadata": {},
   "source": [
    "$\\psi(t)=x_0+\\int_{t_0}^t\\mathrm{f(\\xi,\\psi(\\xi))}\\mathrm{d}\\xi$"
   ]
  },
  {
   "cell_type": "markdown",
   "metadata": {},
   "source": [
    "那么\n",
    "\n",
    "$\n",
    "\\begin{aligned}\n",
    "|\\phi(t)-\\psi(t)|&\\le \\int_{t_0}^t\\mathrm{|f(\\xi,\\phi(\\xi))-f(\\xi,\\psi(\\xi))|}\\mathrm{d}\\xi\\\\\n",
    "&\\le L\\int_{t_0}^t\\mathrm{|\\phi(\\xi)-\\psi(\\xi)|}\\mathrm{d}\\xi\n",
    "\\end{aligned}\n",
    "$"
   ]
  },
  {
   "cell_type": "markdown",
   "metadata": {},
   "source": [
    "其中L为利普希茨条件，由格朗沃尔不等式知$0\\le |\\phi(\\xi)-\\psi(\\xi)|\\le 0$"
   ]
  },
  {
   "cell_type": "markdown",
   "metadata": {},
   "source": [
    "所以$\\phi(\\xi)=\\psi(\\xi)$"
   ]
  },
  {
   "cell_type": "markdown",
   "metadata": {},
   "source": [
    "结论得证。"
   ]
  },
  {
   "cell_type": "markdown",
   "metadata": {},
   "source": [
    "## 10.给定积分方程$\\phi(x)=f(x)+\\lambda\\int_a^b\\mathrm{K(x,\\xi)\\phi(\\xi)}\\mathrm{d}\\xi$，其中f(x)是[a,b]上的已知连续函数，$K(x,\\xi)$是$a\\le x\\le b$, $a\\le\\xi\\le b$上的已知连续函数。证明当$|\\lambda|$足够小时（$\\lambda$是常数），方程在[a,b]上存在唯一的连续解。"
   ]
  },
  {
   "cell_type": "markdown",
   "metadata": {},
   "source": [
    "证明：取$\\phi_0(x)=f(x)$"
   ]
  },
  {
   "cell_type": "markdown",
   "metadata": {},
   "source": [
    "令$\\phi_1(x)=f(x)+\\lambda \\int_a^b\\mathrm{k(x,\\xi)\\phi_0(\\xi)}\\mathrm{d}\\xi$"
   ]
  },
  {
   "cell_type": "markdown",
   "metadata": {},
   "source": [
    "$\\cdots$"
   ]
  },
  {
   "cell_type": "markdown",
   "metadata": {},
   "source": [
    "$\\phi_{n+1}(x)=f(x)+\\lambda \\int_a^b\\mathrm{k(x,\\xi)\\phi_n(\\xi)}\\mathrm{d}\\xi$"
   ]
  },
  {
   "cell_type": "markdown",
   "metadata": {},
   "source": [
    "$\\cdots$"
   ]
  },
  {
   "cell_type": "markdown",
   "metadata": {},
   "source": [
    "令$M=\\max \\limits_{x\\in [a,b]}\\{|f(x)|\\}$  ,  $L=\\max \\limits_{x,\\xi \\in [a,b]}\\{|k(x,\\xi)|\\}>0$"
   ]
  },
  {
   "cell_type": "markdown",
   "metadata": {},
   "source": [
    "$$\n",
    "\\begin{aligned}\n",
    "|\\phi_1(x)-\\phi_0(x)|&=|\\lambda \\int_a^b\\mathrm{k(x,\\xi)(\\phi_k(\\xi)-\\phi_{k-1}(\\xi))}\\mathrm{d}\\xi|\\\\\n",
    "&\\le|\\lambda|\\int_a^b\\mathrm{|k(x,\\xi)||(\\phi_k(\\xi)-\\phi_{k-1}(\\xi))|}\\mathrm{d}\\xi\\\\\n",
    "&\\le|\\lambda|\\int_a^b\\mathrm{L^{k+1}|\\lambda|^kM(b-a)^k}\\mathrm{d}\\xi\\\\\n",
    "&=|\\lambda|^{k+1}L^{k+1}M(b-a)^{k+1}\n",
    "\\end{aligned}\n",
    "$$"
   ]
  },
  {
   "cell_type": "markdown",
   "metadata": {},
   "source": [
    "有数学归纳法知，对$\\forall n \\in N$有"
   ]
  },
  {
   "cell_type": "markdown",
   "metadata": {},
   "source": [
    "$|\\phi_n(x)-\\phi_{n-1}|\\le ML^n|\\lambda|^n(b-a)^n$"
   ]
  },
  {
   "cell_type": "markdown",
   "metadata": {},
   "source": [
    "下证${\\phi_n(x)}$在[a,b]上一致收敛，考虑级数(*) $\\phi_0(x)+\\sum_{k=1}^{\\infty}(\\phi_k(x)-\\phi_{k-1}(x))$"
   ]
  },
  {
   "cell_type": "markdown",
   "metadata": {},
   "source": [
    "该级数的前n项和为$\\phi_0(x)+\\sum_{k=1}^{n}(\\phi_k(x)-\\phi_{k-1}(x))=\\phi_n(x)$"
   ]
  },
  {
   "cell_type": "markdown",
   "metadata": {},
   "source": [
    "由于$|\\phi_k(x)-\\phi_{k-1}|\\le ML^k|\\lambda|^k(b-a)^k$"
   ]
  },
  {
   "cell_type": "markdown",
   "metadata": {},
   "source": [
    "当$|\\lambda|<\\frac{1} {(b-a)L}$时，级数$\\sum_{k=1}^{\\infty}ML^n|\\lambda|^n(b-a)^n$收敛，所以级数（*）在[a,b]上一致收敛。"
   ]
  },
  {
   "cell_type": "markdown",
   "metadata": {},
   "source": [
    "设极限函数为$\\phi^*(x)$"
   ]
  },
  {
   "cell_type": "markdown",
   "metadata": {},
   "source": [
    "则$\\phi^*(x)=f(x)+\\lambda \\int_a^b\\mathrm{k(x,\\xi)\\phi^*(\\xi)}\\mathrm{d}\\xi$"
   ]
  },
  {
   "cell_type": "markdown",
   "metadata": {},
   "source": [
    "所以此情况下积分方程必存在连续解。"
   ]
  },
  {
   "cell_type": "markdown",
   "metadata": {},
   "source": [
    "下证当$|\\lambda|<\\frac{1} {(b-a)L}$时方程的解的唯一性。"
   ]
  },
  {
   "cell_type": "markdown",
   "metadata": {},
   "source": [
    "设另有解$\\phi''(x)$且$\\phi''(x)\\not=\\phi^*(x)$ 即$\\phi''(x)=f(x)+\\lambda \\int_a^b\\mathrm{k(x,\\xi)\\phi''(\\xi)}\\mathrm{d}\\xi$"
   ]
  },
  {
   "cell_type": "markdown",
   "metadata": {},
   "source": [
    "令$Q=\\max\\limits_{x\\in [a,b]}\\{|\\phi''(x)-\\phi^*(x)|\\}>0$"
   ]
  },
  {
   "cell_type": "markdown",
   "metadata": {},
   "source": [
    "$$\n",
    "\\begin{aligned}\n",
    "|\\phi''(x)-\\phi^*(x)|&=|\\lambda \\int_a^b\\mathrm{k(x,\\xi)(\\phi^*(\\xi)-\\phi''(\\xi))}\\mathrm{d}\\xi|\\\\\n",
    "&\\le |\\lambda| \\int_a^b\\mathrm{L|\\phi^*(\\xi)-\\phi''(\\xi)|}\\mathrm{d}\\xi\\\\\n",
    "&=|\\lambda|QL(b-a)\n",
    "\\end{aligned}\n",
    "$$"
   ]
  },
  {
   "cell_type": "markdown",
   "metadata": {},
   "source": [
    "得出$Q\\le |\\lambda|QL(b-a)$"
   ]
  },
  {
   "cell_type": "markdown",
   "metadata": {},
   "source": [
    "又因为$Q>0$，所以$|\\lambda|\\ge \\frac{1} {(b-a)L}$，与$|\\lambda|<\\frac{1} {(b-a)L}$矛盾。"
   ]
  },
  {
   "cell_type": "markdown",
   "metadata": {},
   "source": [
    "唯一性得证。"
   ]
  },
  {
   "cell_type": "markdown",
   "metadata": {},
   "source": [
    "# <font color='red'>B  11/10 作业雷同，与周灿袁博"
   ]
  },
  {
   "cell_type": "code",
   "execution_count": null,
   "metadata": {
    "collapsed": true
   },
   "outputs": [],
   "source": []
  }
 ],
 "metadata": {
  "kernelspec": {
   "display_name": "SageMath 7.3",
   "language": "",
   "name": "sagemath"
  },
  "language_info": {
   "codemirror_mode": {
    "name": "ipython",
    "version": 2
   },
   "file_extension": ".py",
   "mimetype": "text/x-python",
   "name": "python",
   "nbconvert_exporter": "python",
   "pygments_lexer": "ipython2",
   "version": "2.7.10"
  }
 },
 "nbformat": 4,
 "nbformat_minor": 0
}
