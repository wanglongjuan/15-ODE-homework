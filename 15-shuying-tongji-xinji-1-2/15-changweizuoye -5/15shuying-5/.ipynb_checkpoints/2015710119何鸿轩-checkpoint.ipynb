{
 "cells": [
  {
   "cell_type": "markdown",
   "metadata": {
    "collapsed": false
   },
   "source": [
    " # 3.1 "
   ]
  },
  {
   "cell_type": "markdown",
   "metadata": {},
   "source": [
    "### 1.求初值问题\n",
    "\n",
    "$$\\begin{cases}\n",
    "\\frac{dy}{dx}=x^2-y^2,R:|x+1|\\leq1,|y|\\leq1,\\\\\n",
    "y(-1)=0\\\\\n",
    "\\end{cases}$$\n",
    "\n",
    "### 的解的存在区间，并求第二次近似解，给出在解的存在区间的误差估计。"
   ]
  },
  {
   "cell_type": "markdown",
   "metadata": {},
   "source": [
    "$解：$$$a=1,b=1$$\n",
    "\n",
    "$$M=4,\\frac{b}{M}=\\frac{1}{4}$$\n",
    "\n",
    "$$∴h=\\frac{1}{4}$$\n",
    "\n",
    "$$即解的存在区间为|x+1|\\leq\\frac{1}{4}$$\n",
    "\n",
    "$$\\begin{aligned}\n",
    "\\varphi_0(x) &=0\\\\\n",
    "\\varphi_1(x) &=\\int_{-1}^{x}[\\xi^2-\\varphi_0^2(\\xi)]d\\xi =\\frac{1}{3}x^3+\\frac{1}{3}\\\\\n",
    "\\varphi_2(x) &=\\int_{-1}^{x}[\\xi^2-\\varphi_1^2(\\xi)]d\\xi =\\frac{x^3}{3}-\\frac{x}{9}-\\frac{x^4}{18}-\\frac{x^7}{63}+\\frac{11}{42}\\\\\n",
    "\\end{aligned}$$\n",
    "\n",
    "$$|\\frac{\\partial f}{\\partial y}|=|-2y|\\leq2=L$$\n",
    "\n",
    "$$n=2时,\\frac{ML^n}{(n+1)!}h^{n+1}=\\frac{1}{2^n(n+1)!}=\\frac{1}{24}$$\n",
    "\n",
    "$$∴|y-y_2|\\leq\\frac{1}{24}$$"
   ]
  },
  {
   "cell_type": "markdown",
   "metadata": {},
   "source": [
    "### 2.证明格朗沃尔不等式：\n",
    "$设K为非负常数，f(t)和g(t)为在区间\\alpha\\leq t\\leq\\beta上的连续非负函数，且满足不等式$\n",
    "\n",
    "$$f(t)\\leq K +\\int_\\alpha^t f(s)g(s)ds,\\alpha\\leq t\\leq\\beta$$\n",
    "\n",
    "则有$$f(t)\\leq Kexp(\\int_\\alpha^t g(s)ds),\\alpha\\leq t\\leq\\beta$$\n",
    "\n",
    "并由此证明定理1的命题5."
   ]
  },
  {
   "cell_type": "markdown",
   "metadata": {
    "collapsed": true
   },
   "source": [
    "证明：$$令R(t)=\\int_\\alpha^t f(s)g(s)ds,则R'(T)=f(t)g(t)$$\n",
    "\n",
    "$$R'(T)-R(t)g(t)=f(t)g(t)-R(t)g(t)\\leq[K+R(t)]g(t)-R(t)g(t)\\leq Kg(t)$$\n",
    "\n",
    "$同乘exp(-\\int_\\alpha^t g(s)ds)$\n",
    "\n",
    "$$R'(T)exp(-\\int_\\alpha^t g(s)ds)-R(t)g(t)exp(-\\int_\\alpha^t g(s)ds)\\leq Kg(t)exp(-\\int_\\alpha^t g(s)ds)$$\n",
    "\n",
    "$$R(t)exp(-\\int_\\alpha^t g(s)ds)\\leq -\\int_\\alpha^t Kg(s)ds·exp(-\\int_\\alpha^t g(r)dr)ds$$\n",
    "\n",
    "$$R(t)\\leq \\int_\\alpha^t Kg(s)ds·exp(-\\int_s^t g(r)dr)ds$$\n",
    "\n",
    "$$又f(t)\\leq 1\\leq K+R(t)\\leq K+K\\int_\\alpha^t g(s)exp(-\\int_s^t g(r)dr)ds\\leq K(1-1+exp(-\\int_s^t g(r)dr)=Kexp(\\int_t^sg(r)dr)$$\n",
    "\n",
    "$$∴f(t)\\leq Kexp(\\int_\\alpha^t g(s)ds)$$"
   ]
  },
  {
   "cell_type": "markdown",
   "metadata": {},
   "source": [
    "3.$如果函数f(x,y)于带域\\alpha\\leq x\\leq\\beta上连续且关于y满足利普希茨条件，则方程（3.1）满足条件y(x_0)=y_0的解于整个区间[\\alpha,\\beta]上存在且唯一$\n",
    "$试证明之.（提示：用逐步逼近法，取M=\\max\\limits_{x\\in[\\alpha,\\beta]}|f(x,y_0)|）$"
   ]
  },
  {
   "cell_type": "markdown",
   "metadata": {},
   "source": [
    "解：$方程\\frac{dy}{dx}=f(x,y)满足初值条件y(x_0)=y_0的解等同于y=y_0+\\int_{x_0}^x f(x,y)dx,\\alpha\\leq x\\leq\\beta的连续解，所以证明该方程解的存在唯一性。$\n",
    "\n",
    "$$取y(x_0)=y_0$$\n",
    "\n",
    "$$y_1(x)=y_0+\\int_{x_0}^x f(\\xi,y_0(\\xi))d\\xi$$\n",
    "\n",
    "$$y_n(x)=y_0+\\int_{x_0}^x f(\\xi,y_{n-1}(\\xi))d\\xi$$\n",
    "\n",
    "$$可见y_n(x)在\\alpha\\leq x\\leq\\beta上存在且连续$$\n",
    "\n",
    "$$下面证明函数列\\left\\{y_n(x)\\right\\}在\\alpha\\leq x\\leq\\beta上的一致收敛$$\n",
    "\n",
    "$$级数y_0(x)+\\sum_{k=1}^{\\infty}[y_k(x)-y_{k-1}(x)],\\alpha\\leq x\\leq\\beta$$\n",
    "\n",
    "$$取M=\\max\\limits_{x\\in[\\alpha,\\beta]}|f(x,y_0)|）$$\n",
    "\n",
    "$$|y_1(x)-y_0(x)|\\leq \\int_{x_0}^x |f(\\xi,y_0(\\xi))|d\\xi\\leq M|x-x_0|$$\n",
    "\n",
    "$$及|y_2(x)-y_1(x)|\\leq \\int_{x_0}^x |f(\\xi,y_1(\\xi))-f(\\xi,y_0(\\xi))|d\\xi$$\n",
    "\n",
    "由利普希茨条件得\n",
    "\n",
    "$$\\begin{aligned}\n",
    "|y_2(x)-y_1(x)| &\\leq \\int_{x_0}^x |f(\\xi,y_1(\\xi))-f(\\xi,y_0(\\xi))|d\\xi\\\\\n",
    "&\\leq L\\int_{x_0}^x|y_1(x)-y_0(x)|d\\xi\\\\\n",
    "&\\leq L\\int_{x_0}^xM|\\xi-x_0|d\\xi\\\\\n",
    "&=\\frac{ML}{2!} (x-x_0)^2\\\\\\end{aligned}$$\n",
    "\n",
    "由数学归纳法得\n",
    "\n",
    "$$|y_k(x)-y_{k-1}(x)|\\leq \\frac{ML^{k-1}}{k!} (x-x_0)^k\\leq \\frac{ML^{k-1}}{k!} (\\beta-\\alpha)^k$$\n",
    "\n",
    "$$上式右端为级数\\sum_{k=1}^{infty}\\frac{ML^{k-1}}{k!} (\\beta-\\alpha)^k的一般项$$\n",
    "\n",
    "$$所以级数y_0(x)+\\sum_{k=1}^{\\infty}[y_k(x)-y_{k-1}(x)]在\\alpha\\leq x\\leq\\beta上一致收敛$$\n",
    "\n",
    "$$所以函数列\\left\\{y_n(x)\\right\\}在\\alpha\\leq x\\leq\\beta上的一致收敛$$\n",
    "\n",
    "$$设\\lim_{n\\to\\infty}y_n(x)=y(x)$$\n",
    "\n",
    "$$易得y(x)在区间[\\alpha,\\beta]上连续且\\left\\{f(x,y_n(x))\\right\\}在区间[\\alpha,\\beta]上一致收敛于f(x,y(x))$$\n",
    "\n",
    "$$y_n(x)=y_0+\\int_{x_0}^x f(\\xi,y_{n-1}(\\xi))d\\xi两端取极限$$\n",
    "\n",
    "$$得y(x)=y_0+\\int_{x_0}^x f(\\xi,y(\\xi))d\\xi$$\n",
    "\n",
    "$$得证$$"
   ]
  },
  {
   "cell_type": "markdown",
   "metadata": {},
   "source": [
    "# <font color='red'>唯一性？？？"
   ]
  },
  {
   "cell_type": "markdown",
   "metadata": {},
   "source": [
    "4.$设f(x)定义于-\\infty<x<+\\infty,满足条件|f(x_1)-f(x_2)|\\leq N|x_1-x_2|,其中N<1,证明方程x=f(x)存在唯一的一个解.$\n",
    "$（提示：任取x_0,做逐步逼近点列x_{n+1}=f(x_n)(n=0,1,2,…）,然后证明x_n收敛于方程的唯一解.）$"
   ]
  },
  {
   "cell_type": "markdown",
   "metadata": {},
   "source": [
    "解：$任取x_0,做逐步逼近点列x_{n+1}=f(x_n)(n=0,1,2,…）$\n",
    "\n",
    "$$x_1=f(x_0)$$\n",
    "\n",
    "$$x_2=f(x_1)$$\n",
    "\n",
    "$$x_3=f(x_2)$$\n",
    "\n",
    "$$|x_2-x_3|\\leq N|x_1-x_2|$$\n",
    "\n",
    "$$|x_3-x_4|\\leq N|x_2-x_3|\\leq N^2|x_1-x_2|$$\n",
    "\n",
    "$$\\lim\\limits_{n\\to+\\infty}|x_n-x_{n+1}|\\leq \\lim\\limits_{n\\to+\\infty}N^{n-1}|x_1-x_2|=0$$\n",
    "\n",
    "$$即\\lim\\limits_{n\\to+\\infty}x_n=\\lim\\limits_{n\\to+\\infty}x_{n+1}=\\lim\\limits_{n\\to+\\infty}f(x_n)$$\n",
    "\n",
    "$$即x_n收敛于f(x),方程存在唯一解$$"
   ]
  },
  {
   "cell_type": "markdown",
   "metadata": {
    "collapsed": true
   },
   "source": [
    "# <font color='red'>A  11/10　做错题目？？第10题？？"
   ]
  },
  {
   "cell_type": "code",
   "execution_count": null,
   "metadata": {
    "collapsed": true
   },
   "outputs": [],
   "source": []
  }
 ],
 "metadata": {
  "kernelspec": {
   "display_name": "SageMath 7.3",
   "language": "",
   "name": "sagemath"
  },
  "language_info": {
   "codemirror_mode": {
    "name": "ipython",
    "version": 2
   },
   "file_extension": ".py",
   "mimetype": "text/x-python",
   "name": "python",
   "nbconvert_exporter": "python",
   "pygments_lexer": "ipython2",
   "version": "2.7.10"
  }
 },
 "nbformat": 4,
 "nbformat_minor": 0
}
