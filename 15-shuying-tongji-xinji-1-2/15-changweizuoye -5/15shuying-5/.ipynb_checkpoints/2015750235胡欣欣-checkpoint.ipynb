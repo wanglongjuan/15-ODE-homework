{
 "cells": [
  {
   "cell_type": "markdown",
   "metadata": {},
   "source": [
    "# 胡欣欣  2015750235 \n",
    "P88\n",
    "\n",
    "3.求初值问题\n",
    "$\n",
    "\\begin {cases}\n",
    "\\frac{\\mathrm d y}{\\mathrm d x}=x^2-y^2,R;|x=1|≤1,|y|≤1\\\\\n",
    "y(-1)=0\n",
    "\\end {cases}\n",
    "$\n",
    "的解的存在区间，并求第二次近似解，给出在解的存在区间的误差估计.\n",
    " "
   ]
  },
  {
   "cell_type": "code",
   "execution_count": null,
   "metadata": {
    "collapsed": true
   },
   "outputs": [],
   "source": []
  },
  {
   "cell_type": "markdown",
   "metadata": {},
   "source": [
    "解：这里令$f（x,y）=x^2-y^2$\n",
    "$\\quad$由题可知，该方程是定义在矩形域$-2≤x≤0,-1≤y≤1$\n",
    "且$$\n",
    "M=\\max_{\\substack{(\n",
    "x,y)\\in R\\\\}}\n",
    "\\mid f(x,y)\\mid=4\n",
    "$$\n",
    "$h是a=1及\\frac{b}{m}=\\frac{1}{4}二数中的最小值$\n"
   ]
  },
  {
   "cell_type": "markdown",
   "metadata": {},
   "source": [
    "故$h=\\frac{1}{4}$\n",
    "\n",
    "\n",
    "\n",
    "\n",
    "∵$|\\frac{\\partial f}{\\partial y}|=|-2y|≤2=L$\n",
    "∴利普希茨常数可取为L=2                                                                                                                                                                                                                                                                                                                                                                                                                                                                                                                                                                                                                                                                                                                                                                                                                                                                                                                                                                                                                                                                                                                                                                                                                                                                                                      "
   ]
  },
  {
   "cell_type": "markdown",
   "metadata": {},
   "source": [
    "故存在区间为$|x+1|≤\\frac{1}{4}$\n",
    "$$∵\\psi_0(x)=y_0=0$$\n",
    "$$\\psi_1(x)=\\int\\limits _ {-1}^x[\\xi^2-\\psi_0^2(\\xi)]\\mathrm d \\xi=\\frac{x^3}{3}+\\frac{1}{3}$$\n",
    "$$\\psi_2(x)=\\int\\limits _ {-1}^x[\\xi^2-\\psi_1^2(\\xi)]\\mathrm d \\xi=\\frac{x^3}{3}-\\frac{x}{9}-\\frac{x^4}{18}-\\frac{x^7}{63}+\\frac{11}{42}$$\n",
    "则第二次近似解为$\\psi_2(x)$"
   ]
  },
  {
   "cell_type": "markdown",
   "metadata": {
    "collapsed": true
   },
   "source": [
    "$由\\mid \\psi_2(x)-\\psi_1(x) \\mid \\leq \\frac{ML^2}{3!}h^3=\\frac{1}{24}$可知\n",
    "\n",
    "\n",
    "$在区间[-\\frac{5}{4},-\\frac{3}{4}]上，这个解与真解的误差不会超过\\frac{1}{24}$"
   ]
  },
  {
   "cell_type": "markdown",
   "metadata": {},
   "source": [
    "6.证明格朗沃尔不等式：\n",
    "$设K为非负常数,f(t)和g(t)为区间\\alpha \\leq t \\leq \\beta$上的连续非负函数，则满足不等式\n",
    "$$\n",
    "f(t) \\leq K+\\int\\limits_{\\alpha}^tf(s)g(s)\\mathrm d s,\n",
    "\\alpha \\leq t \\leq \\beta\n",
    "$$\n",
    "则有\n",
    "$$\n",
    "f(t) \\leq Kexp(\\int\\limits_{\\alpha}^tg(s)\\mathrm d s),\n",
    "\\alpha \\leq t \\leq \\beta\n",
    "$$"
   ]
  },
  {
   "cell_type": "markdown",
   "metadata": {},
   "source": [
    "格朗沃尔不等式证明  先证K>0时不等式成立，再取正K→0,可得当K=0时f(t)≡0.于是不等式成立的证明有：\n",
    "$令\n",
    "$$\n",
    "\\begin {cases}\n",
    "f_0(t)=K \\\\\n",
    "f_n(t) \\leq K+\\int\\limits_{\\alpha}^tf_n-1(s)g(s)\\mathrm d s \\quad (n=1,2,...)\n",
    "\\end {cases}\n",
    "$$\n",
    "现用数学归纳法证明f_n+1(t)-f_n(t) \\leq \\frac{K}{(n+1)!}[\\int\\limits_{\\alpha}^tf_n-1(s)g(s)\\mathrm d s]^{n+1}\n",
    "$\n",
    "\n",
    "\n",
    "\n",
    "$显然，当n=0时成立。设n=m-1时成立，$\n",
    "则$$\n",
    "f_m+1(t)-f_m(t) \\leq  \\int\\limits_{\\alpha}^t[f_m(s)-f_m-1(s)]g(s)\\mathrm d s\n",
    "$$\n",
    "$$\n",
    "\\leq \\int\\limits_{\\alpha}^t\\frac {K}{m!}[\\int\\limits_{\\alpha}^sg(s)\\mathrm d s]^mg(s)\\mathrm d s$$\n",
    "$$=\\frac {K}{m!}\\int\\limits_{\\alpha}^t[\\int\\limits_{\\alpha}^sg(s)\\mathrm d s]^m\\mathrm d [\\int\\limits_{\\alpha}^sg(s)\\mathrm d s]\n",
    "$$\n",
    "$$=\\frac {K}{m!(m+1)}[\\int\\limits_{\\alpha}^sg(s)\\mathrm d s]^{m+1}\n",
    "$$\n",
    "$$=\\frac {K}{(m+1)!}[\\int\\limits_{\\alpha}^sg(s)\\mathrm d s]^{m+1}$$\n"
   ]
  },
  {
   "cell_type": "markdown",
   "metadata": {},
   "source": [
    "$即对任意n成立f_n+1(t)-f_n(t) \\leq \\frac{K}{(n+1)!}[\\int\\limits_{\\alpha}^tg(s)\\mathrm d s]^{n+1}。$\n",
    "\n",
    "\n",
    "\n",
    "$从而f_n(t)=\\sum_{k=0}^n \\frac{K}{k!}[\\int\\limits_{\\alpha}^tg(s)\\mathrm d s]^k。$\n",
    "\n",
    "\n",
    "\n",
    "$设\\mid \\int\\limits_{\\alpha}^{\\beta}g(t)\\mathrm d t \\mid \\leq M.于是对f_n(t)=f_0(t)+\\sum_{k=1}^n[f_k(t)-f_{k-1}(t)]$\n",
    "\n",
    "\n",
    "\n",
    "有$$\\mid f_n+1(t)-f_n(t) \\mid \\leq \\frac{K}{(n+1)!}[\\int\\limits_{\\alpha}^tf_n-1(s)g(s)\\mathrm d s]^{n+1}\n",
    "=\\frac{K}{(n+1)!}M^n+1 \\leq Ke^M$$\n",
    "\n",
    "\n",
    "\n",
    "$即在区间\\alpha \\leq t \\leq \\beta上{f_n(t)}一致收敛.$\n",
    "\n",
    "\n",
    "$当n \\to\\ +∞ 时有f(t)≡\\lim_{n \\to\\ ∞}f_n(t) \\leq K+\\int\\limits_{\\alpha}^t\\lim_{n \\to\\ ∞}f_n(t)f_n-1(s)g(s)\\mathrm d s,$\n",
    "\n",
    "\n",
    "$且f(t) \\leq K\\sum_{k=0}^∞\\frac{1}{k!}[\\int\\limits_{\\alpha}^tg(s)\\mathrm d s]^k=Kexp[\\int\\limits_{\\alpha}^tg(s)\\mathrm d s]$"
   ]
  },
  {
   "cell_type": "markdown",
   "metadata": {},
   "source": [
    "# 定理1命题5证明\n",
    "\n",
    "\n",
    "\n",
    "$定理1的命题5要证明\\phi(t),\\psi(t)均满足积分方程\n",
    "$$\n",
    "y=y_0+\\int\\limits_{x_0}^{x}f(x,y)\\mathrm d x,x_0 \\leq x \\leq x_0+h\n",
    "$$\n",
    "时应有\\phi(t)=\\psi(t)（x_0 \\leq x \\leq x_0+h）$\n",
    "\n",
    "因为$\\phi(x)=y_o+\\int\\limits_{x_0}^{x}f(x,\\phi(x))\\mathrm d x \\quad \\psi(x)=y_o+\\int\\limits_{x_0}^{x}f(x,\\psi(x))\\mathrm d x $   \n",
    "所以$|\\phi(x)-\\psi(x)| \\leq \\int\\limits_{x_0}^{x}|f(x,\\phi(x))-f(x,\\psi(x))|\\mathrm d x.$\n",
    "\n",
    "又由利普希茨条件$$|f(x,\\phi(x))-f(x,\\psi(x))| \\leq L|\\phi(x)-\\psi(x)|（x_0 \\leq x \\leq x_0+h）$$\n",
    "可知$$|\\phi(x)-\\psi(x)| \\leq \\int\\limits_{x_0}^{x}L|\\phi(x)-\\psi(x)|\\mathrm d x.\n",
    "$$\n",
    "\n",
    "\n",
    "\n",
    "由于上式符合格朗沃尔不等式，由此得\n",
    "$K=0,当x_0 \\leq x \\leq x_0+h时有$\n",
    "$$\n",
    "0 \\leq |\\phi(x)-\\psi(x)| \\leq Kexp[\\int\\limits_{x_0}^{x}L\\mathrm d x=0\n",
    "$$\n",
    "$由此可知，\\phi(x)=\\psi(x)（x_0 \\leq x \\leq x_0+h）.$\n",
    "\n",
    "\n"
   ]
  },
  {
   "cell_type": "markdown",
   "metadata": {},
   "source": [
    "$8.如果函数f(x,y)于带域\\alpha \\leq x \\leq \\beta上连续且关于y满足利普希茨条件，则方程（3.1）满足条件y(x_0)=y_0的解于整个区间[\\alpha,\\beta]上存在且唯一。$\n",
    "\n",
    "\n",
    "\n",
    "\n",
    "# 证\n",
    "设M=\n",
    "$\\max_{\\substack{\n",
    "x\\in[\\alpha,\\beta]\\\\\n",
    "}}\n",
    "\\mid f(x,y_0) \\mid$\n",
    "$h=\\alpha=\\beta-\\alpha$,b=Mh及有某常数L，使得在域$R={(x,y)|\\alpha \\leq x \\leq \\beta,|y-y_0| \\leq b|}$中有\n",
    "$\\mid f(x,y_1)-f(x,y_2) \\mid \\leq L\\mid y_1-y_2 \\mid \\quad (x,y_1),(x,y_2)\\in R.$\n",
    "构建逐步逼近函数序列\n",
    "$$\\phi_0(x)=y_0,\n",
    "\\phi_n(x)=y_0+\\int\\limits_{x_0}^{x}f(x,\\phi_{n-1}(x))\\mathrm d x,$$\n",
    "$\\alpha \\leq x \\leq \\beta,n=1,2...$\n",
    "\n",
    "$$因\n",
    "|\\phi_1(x)-y_0|=|\\int\\limits_{x_0}^{x}f(x,y_0)\\mathrm d x| \\\\\n",
    "\\leq \\int\\limits_{x_0}^{x}|f(x,y_0)|\\mathrm d x \\\\\n",
    "\\leq M(x-x_0) \\leq Mh \\leq b.$$\n",
    "\n",
    "可证$$|\\phi_n(x)-\\phi_{n-1}(x)| \\leq \\frac{M}{n!}L^{n-1}(\\beta-\\alpha)^n$$\n",
    "\n",
    "\n",
    "事实上，有\n",
    "$$\\mid \\phi_{n+1}(x)-\\phi_n(x) \\mid \\\\\n",
    "≤ \\mid \\int\\limits_{x_0}^{x}{\\mid f(x,\\phi_n(x))-f(x,\\phi_{n-1}(x))\\mid}\\mathrm d x \\mid  \\\\\n",
    "≤ L\\mid \\int\\limits_{x_0}^{x}L{\\mid \\phi_n(x)-\\phi_{n-1}(x) \\mid} \\mathrm d x \\mid  \\\\\n",
    "≤ L \\mid \\int\\limits_{x_0}^{x}\\frac{M}{n!}L^{n-1}|x-x_0|^n\\mathrm d x \\mid \\\\\n",
    "≤ \\frac{M}{(n+1)!}L^n|x-x_0|^{n+1} \\\\\n",
    "≤ \\frac{M}{(n+1)!}L^n|\\beta-\\alpha|^{n+1}$$\n",
    "$因为级数\\sum_{k=1}^{\\infty}\\frac{M}{k!}L^{k-1}(\\beta-\\alpha)^k收敛，$\n",
    "\n",
    "\n",
    "\n",
    "$知级数\\phi_n(x)=\\phi_0(x)+\\sum_{k=1}^n[\\phi_k(x)-\\phi_{k-1}(x)]在区间[\\alpha,\\beta]一致收敛。$\n",
    "\n",
    "\n",
    "$于是存在极限\\lim_{n \\to\\infty}\\phi_n(x)=\\phi(x),他、它在区间[\\alpha,\\beta]连续。$\n",
    "\n",
    "\n",
    "\n",
    "且\n",
    "$$\n",
    "\\phi(x)=\\lim_{n \\to\\infty}\\phi_n(x) \\\\\n",
    "=y_0+\\lim_{n \\to\\infty}\\int\\limits_{x_0}^{x}|f(x,\\phi_{n-1}(x))\\mathrm d x \\\\\n",
    "=y_0+\\int\\limits_{x_0}^{x}|f(x,\\lim_{n \\to\\infty}\\phi_{n-1}(x))\\mathrm d x \\\\\n",
    "=y_0+\\int\\limits_{x_0}^{x}|f(x,\\phi(x))\\mathrm d x\n",
    "$$\n",
    "$故\\phi(x)是积分方程也就是微分方程的解。$\n",
    "\n",
    "\n",
    "\n",
    "$设\\phi(x),\\psi(x)均满足积分方程$\n",
    "$$\n",
    "y_0+\\int\\limits_{x_0}^{x}|f(x,y)\\mathrm d x,\n",
    "\\alpha \\leq x_0,x \\leq \\beta,\n",
    "$$\n",
    "$当想x \\geq x_0时利用格朗沃尔不等式，$\n",
    "\n",
    "\n",
    "\n",
    "$$由\n",
    "|\\phi(x)-\\psi(x)| \\leq  \\int\\limits_{x_0}^{x}|f(s,\\phi(s))-f(x,\\psi(s))|\\mathrm d s\n",
    " \\leq \\int\\limits_{x_0}^{x}L|\\phi(s)-\\psi(s)|\\mathrm d s\n",
    " $$\n",
    "\n",
    "\n",
    "\n",
    "$ 有|\\phi(x)-\\psi(x)| \\leq  0,即\\phi(x)≡\\psi(x)  \\quad (\\alpha \\leq x_0 \\leq x \\leq \\beta).$\n",
    "\n",
    "\n",
    "$同样，当\\alpha \\leq x_0 \\leq x时由\n",
    " $$\n",
    " |\\phi(x)-\\psi(x)| \\leq  \\int\\limits_{x}^{x_0}|f(s,\\phi(s))-f(x,\\psi(s))|\\mathrm d s\n",
    " \\leq \\int\\limits_{x}^{x_0}L|\\phi(s)-\\psi(s)|\\mathrm d s\n",
    " $$\n",
    " 有|\\phi(x)-\\psi(x)| \\leq  0，即\\phi(x)≡\\psi(x)(\\alpha \\leq x_0 \\leq x \\leq \\beta)。$\n",
    " 于是证明了积分方程的解是唯一的。\n"
   ]
  },
  {
   "cell_type": "markdown",
   "metadata": {},
   "source": [
    "$10.给定积分方程\\phi(x)=f(x)+\\lambda\\int\\limits_{a}^{b}K(x,\\xi)\\phi(\\xi)\\mathrm d \\xi \\quad (1）$\n",
    "$其中f(x)是[a,b]上的已知连续函数，K(x,\\xi)是a \\leq x \\leq b,a \\leq \\xi \\leq b上的已知连续函数，$\n",
    "\n",
    "\n",
    "\n",
    "$证明当\\mid \\lambda \\mid足够小时（\\lambda为常数），(1)式在[a,b]上存在唯一的连续解。$"
   ]
  },
  {
   "cell_type": "markdown",
   "metadata": {},
   "source": [
    "证：首先构建一个逐步逼近函数序列\n",
    "$$\n",
    "\\begin {cases}\n",
    "\\phi_0(x)=f(x)\\\\\n",
    "\\phi(x)=f(x)+\\lambda\\int\\limits_{a}^{b}K(x,\\xi)\\phi(\\xi)\\mathrm d \\xi\n",
    "\\end {cases}\n",
    "$$"
   ]
  },
  {
   "cell_type": "markdown",
   "metadata": {},
   "source": [
    "$显然对于所有的整数n,\\phi_n(x)在区间[a,b]上都有定义且连续$\n",
    "$下面将证明\\phi_n(x)在区间[a,b]上一致收敛$\n",
    "\n",
    "\n",
    "$定义函数级数\\phi_0(x)+\\sum_{n=1}^{\\infty}[\\phi_n(x)-\\phi_{n-1}(x)],a \\leq x \\leq b$"
   ]
  },
  {
   "cell_type": "markdown",
   "metadata": {},
   "source": [
    "先证明它的部分和级数$\\phi_n(x)=\\phi_0(x)+\\sum_{k=1}^{}[\\phi_k(x)-\\phi_{k-1}(x)]$在区间[a,b]上一致收敛\n",
    "因为$f(x),K(x,\\xi)在区间[a,b]上连续，所以\\mid f(x) \\mid \\leq L \\quad \\mid K(x,\\xi) \\mid \\leq N$\n",
    "\n",
    "又令$M=\\mid \\lambda \\mid N(b-a)$\n",
    "由（1）有$$\\mid \\phi_1(x)-\\phi_0(x) \\mid \\\\\n",
    "\\leq \\mid \\lambda \\mid \\int\\limits_{a}^{b}K(x,s)f(x)\\mathrm d s \\\\\n",
    "\\leq\n",
    "\\mid \\lambda \\mid NL(b-a)=LM$$\n",
    "于是又有$$\\mid \\phi_2(x)-\\phi_1(x) \\mid \\leq \\mid \\lambda \\mid\\int\\limits_{a}^{b}K(x,s)\\mid \\phi_1(x)-\\phi_0(x) \\mid\\mathrm d s \\mid \\lambda \\mid\\int\\limits_{a}^{b}NLM\\mathrm d s=LM^2$$"
   ]
  },
  {
   "cell_type": "markdown",
   "metadata": {},
   "source": [
    "由上提出假设$$\\mid \\mid \\phi_k(x)-\\phi_{k-1}(x) \\mid \\leq LM^k$$\n",
    "又由(1)可知\n",
    "$$\\mid \\phi_{k+1}(x)-\\phi_k(x) \\mid \\leq \\mid \\lambda \\mid \\int\\limits_{a}^{b}K(x,s)[\\phi_k(x)-\\phi_{k-1}(x)] \\\\ \n",
    "\\leq \\lambda NLM^k(b-a)=LM^{k+1}$$"
   ]
  },
  {
   "cell_type": "markdown",
   "metadata": {},
   "source": [
    "则有数学归纳法，可知，上述式子对于一切k都成立\n",
    "\n",
    "\n",
    "\n",
    "在此可取$\\mid \\lambda \\mid $足够小使得$M <\\frac{1}{2}$使得级数收敛\n",
    "\n",
    "\n",
    "\n",
    "由函数项级数一致收敛的判别法则，可知${\\phi_k(x)}$在区间[a,b]上一致收敛\n",
    "\n",
    "\n",
    "\n",
    "设$$\\lim_{k \\to\\infty}\\phi_k(x)=\\phi(x)$$"
   ]
  },
  {
   "cell_type": "markdown",
   "metadata": {},
   "source": [
    "则对逐项逼近函数序列两边取极限，可得：\n",
    "$$\n",
    "\\lim_{n \\to\\infty}\\phi_n(x)=f(x)+\\lambda\\int\\limits_{a}^{b}K(x,s)\\lim_{n \\to\\infty}\\phi_{n-1}(s)\\mathrm d s\n",
    "$$\n"
   ]
  },
  {
   "cell_type": "markdown",
   "metadata": {},
   "source": [
    "$$\n",
    "\\phi(x)=f(x)+\\lambda\\int\\limits_{a}^{b}K(x,s)\\phi(s)\\mathrm d s\n",
    "$$\n",
    "$即\\phi(x)是积分方程在区间[a,b]上的连续解$"
   ]
  },
  {
   "cell_type": "markdown",
   "metadata": {},
   "source": [
    "$设\\psi(x)是积分方程在区间[a,b]上的另一个连续解$\n",
    "\n",
    "既有$$\\psi(x)=f(x)+\\lambda\\int\\limits_{a}^{b}K(x,s)\\psi(s)\\mathrm d s$$\n",
    "\n",
    "因$$\\max_{\\substack{\n",
    "a \\leq x \\leq b}}\n",
    "\\mid \\phi(x)-\\psi(x) \\mid存在，且\\mid \\lambda \\mid N(b-a)=M<\\frac{1}{2}\n",
    "$$\n",
    "\n",
    "$$\\max_{\\substack{a \\leq x \\leq b}}\n",
    "\\mid \\phi(x)-\\psi(x) \\mid \\\\\n",
    "\\leq \\max_{\\substack{a \\leq x \\leq b}}\n",
    "(\\mid \\lambda \\mid \\int\\limits_{a}^{b} \\mid K(x,s)\\phi(x)-\\psi(x) \\mid \\mathrm d s \\mid) \\\\\n",
    "\\leq \\max_{\\substack{\n",
    "a \\leq x \\leq }}\n",
    "(\\mid \\lambda \\mid \\int\\limits_{a}^{b} \\mid N \\phi(x)-\\psi(x) \\mid \\mathrm d s \\mid) \\\\\n",
    "\\leq \\mid \\lambda \\mid N(b-a)\\max_{\\substack{a \\leq x \\leq b}} \\mid \\phi(x)-\\psi(x) \\mid \\\\\n",
    "=M\\max_{\\substack{a \\leq x \\leq b}} \\mid \\phi(x)-\\psi(x) \\mid \\\\\n",
    "<\\frac{1}{2}\\max_{\\substack{a \\leq x \\leq b}} \\mid \\phi(x)-\\psi(x) \\mid\n",
    "$$"
   ]
  },
  {
   "cell_type": "markdown",
   "metadata": {},
   "source": [
    "可见$\\max_{\\substack{a \\leq x \\leq b}} \\mid \\phi(x)-\\psi(x) \\mid=0$。\n",
    "\n",
    "因此$\\phi(x)=\\psi(x),a \\leq x \\leq b,由此可知（1）在区间[a,b]上存在唯一的连续解$"
   ]
  },
  {
   "cell_type": "markdown",
   "metadata": {},
   "source": [
    "# <font color='red'>A  11/10\n"
   ]
  },
  {
   "cell_type": "code",
   "execution_count": null,
   "metadata": {
    "collapsed": true
   },
   "outputs": [],
   "source": []
  }
 ],
 "metadata": {
  "kernelspec": {
   "display_name": "SageMath 7.3",
   "language": "",
   "name": "sagemath"
  },
  "language_info": {
   "codemirror_mode": {
    "name": "ipython",
    "version": 2
   },
   "file_extension": ".py",
   "mimetype": "text/x-python",
   "name": "python",
   "nbconvert_exporter": "python",
   "pygments_lexer": "ipython2",
   "version": "2.7.10"
  }
 },
 "nbformat": 4,
 "nbformat_minor": 0
}
