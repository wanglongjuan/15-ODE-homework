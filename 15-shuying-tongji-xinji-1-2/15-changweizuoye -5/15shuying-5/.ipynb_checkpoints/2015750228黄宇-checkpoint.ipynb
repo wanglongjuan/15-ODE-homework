{
 "cells": [
  {
   "cell_type": "markdown",
   "metadata": {
    "collapsed": false
   },
   "source": [
    "**3.\n",
    "求初值问题.**\n",
    "$$ \\begin{cases} \\frac{\\mathrm dy}{\\mathrm dx}=x^2-y^2,R:|x+1| & \\leq1,|y| & \\leq1 \\\\ y(-1)=0 \\end{cases} $$\n",
    "的解的存在区间，并求第二次近似解，给出在解的存在区间的误差估计。\n",
    "\n"
   ]
  },
  {
   "cell_type": "markdown",
   "metadata": {},
   "source": [
    "解：因为 $M=\\max \\{|x^2-y^2=4| \\}$,则$h=\\min \\{a, \\frac{b}{M}\\}=\\frac{1}{4}$\n",
    "\n",
    " 则解的存在区间为$|x-x_0|=|x-(-1)|=|x+1|\\leq\\frac{1}{4}$\n",
    " 令$\\varphi_0(x)=0$\n",
    " $$ \\varphi_1(x)=y_0+\\int_{x_0}^x (x^2-0)\\mathrm {dx}=\\frac{x^3}{3}+\\frac{1}{3}$$\n",
    " $$ \\varphi_2(x)=y_0+\\int_{-1}^x [{x^2-(\\frac{x^3}{3}+\\frac{1}{3})^2}]\\mathrm {dx}=\\frac{x^3}{3}-\\frac{x}{9}-\\frac{x^4}{18}-\\frac{x^7}{63}+\\frac{11}{42}$$\n",
    " 又$\\frac{\\partial f(x,y）}{\\partial y}\n",
    " \\leq2=L$\n",
    " 则误差估计为$$ \\begin{aligned} |\\varphi_2(x)-y_0|  & \\leq \\frac{Ml^2h^3}{(2+1)^2}= \\frac{11}{24} \\end{aligned} $$"
   ]
  },
  {
   "cell_type": "markdown",
   "metadata": {},
   "source": [
    "**6.证明格朗瓦耳不等式：** \n",
    "  设K为非负整数f(t)和g(t)为区间\n",
    "  $\\alpha\\leq \n",
    "  t\\leq\\beta$的连续非负函数，且满足不等式 \n",
    "$$ f(t)\\leq{K}+\\int_\\alpha^t\n",
    "f(s)g(s)\\mathrm ds ， \\alpha\\leq \n",
    "  t\\leq\\beta$$则有$$ f(t)\\leq{K}exp(\\int_\\alpha^t\n",
    "g(s))\\mathrm ds ， \\alpha\\leq \n",
    "  t\\leq\\beta$$"
   ]
  },
  {
   "cell_type": "markdown",
   "metadata": {},
   "source": [
    "令$$R=\\int_\\alpha^t\n",
    "f(s)g(s)\\mathrm ds ， \\alpha\\leq \n",
    "  t\\leq\\beta$$,\n",
    "  则$R'（T）=f(t)g(t)，\n",
    "  \n",
    "  R'（T）-R(t)g(t)=f(t)g(t)-R(t)g(t)\\leq{kR'(T)g(t)}-R(t)g(t)\\leq{kg(t)}$\n",
    "  \n",
    "  \n",
    "  两边同乘以$exp(-\\int_\\alpha^t\n",
    "g(s))\\mathrm ds $， 则有\n",
    "  \n",
    "   $R'（T）exp(-\\int_\\alpha^t\n",
    "g(s))\\mathrm ds--R(t)g(t)exp(-\\int_\\alpha^t\n",
    "g(s))\\mathrm ds\\leq{g(t)exp(-\\int_\\alpha^t\n",
    "g(s))\\mathrm ds}$\n",
    "\n",
    "\n",
    "  两边从$\\alpha$到t积分\n",
    "  \n",
    "  $R(t)exp(-\\int_\\alpha^t\n",
    "g(s))\\mathrm ds\\leq{-\\int_\\alpha^t\n",
    "kg(s)\\mathrm ds \\exp(-\\int_\\alpha^t\n",
    "g(r)\\mathrm dr)\\mathrm ds}$\n",
    " \n",
    " \n",
    " \n",
    " 即$R(t)\\leq{-\\int_\\alpha^t\n",
    "kg(s)\\mathrm ds \\exp(-\\int_\\beta^t\n",
    "g(r)\\mathrm dr)\\mathrm ds}$\n",
    "\n",
    "\n",
    "又$f(t)\\leq1\\leq{k+g(t)}\\leq{k+k\\int_\\alpha^t\n",
    "g(s)\\mathrm ds\\exp(-\\int_\\beta^t\n",
    "g(r)\\mathrm dr)\\mathrm ds}\\leq{k(1-1+exp(\\int_\\beta^t\n",
    "g(r)\\mathrm dr)) }=kexp(\\int_t^\\beta\n",
    "g(r)\\mathrm dr)$\n",
    "\n",
    "\n",
    "即$f(t)\\leq{k\\int_\\alpha^t\n",
    "g(r)\\mathrm dr}$"
   ]
  },
  {
   "cell_type": "markdown",
   "metadata": {},
   "source": [
    "**8.**如果函数 f(x,y）于带域 $\\alpha\\leq t\\leq\\beta$上连续且关于y满足利普希茨条件，则方程（3.1）满足条件$y(x_0)=y_0$的解于整个区间$[\\alpha,\\beta]$上存在且唯一.试证明.\n",
    "\n",
    "\n",
    "(提示：用逐步逼近法，取\n",
    "$$M=\\max_{\\substack{x\\in(\\alpha,\\beta)\\\\}}\\mid f(x,y_0)\\mid$$\n",
    ")"
   ]
  },
  {
   "cell_type": "markdown",
   "metadata": {},
   "source": [
    "**证明**证明方法类似于教材中定理1.由教材中命题1我们知，方程$$\n",
    "\\frac{\\mathrm dy}{\\mathrm dx}=f(x,y)\n",
    "$$\n",
    "\n",
    "满足条件$y(x_0)=y_0的解等价于求积分方程\n",
    "$$y=y_0+\\int_{x_0}^x f(x,y)\\,\\mathrm dx$,$\\alpha\\leq x\\leq\\beta$ 的连续解，因此我们只要证明上述积\n",
    "分方程的解的存在唯一性即可。 "
   ]
  },
  {
   "cell_type": "markdown",
   "metadata": {},
   "source": [
    "现取$\\y_0(x)=0$\n",
    " $$ y_1(x)=y_0+\\int_{x_0}^x f(\\xi,\\varphi_{0}(\\xi))\\,\\mathrm d\\xi$$\n",
    "               ...\n",
    "  $$ y_n(x)=y_0+\\int_{x_0}^x f(\\xi,\\varphi_{n-1}(\\xi))\\,\\mathrm d\\xi$$   （1）\n",
    "  "
   ]
  },
  {
   "cell_type": "markdown",
   "metadata": {},
   "source": [
    "易见$y_n(x)$在$\\alpha\\leq x\\leq \\beta$上存在且连续。下列证明函数列{ $y_n(x)$}在 $\\alpha\\leq \n",
    "  x\\leq\\beta$上一致收敛。考察级数$$\n",
    "y_0(x)+\\displaystyle\\sum_{k=1}^\\infty\\left[y_k(x)-y_{k-1}(x)\\right],\\alpha\\leq x\\leq\\beta\n",
    "$$    （2）"
   ]
  },
  {
   "cell_type": "markdown",
   "metadata": {},
   "source": [
    "取 $M =\\displaystyle\\max_{x\\in (\\alpha,\\beta)}|f(x,y_0)|$.由（1）式有\n",
    "$$  |y_1(x)-\n",
    "y_0(x)|  \\leq \\int_{x_0}^x|f(\\xi,y_0(\\xi))|\\leq M(x-x_0)\\ $$    （3）\n",
    "及\n",
    "$|y_2(x)-y_1(x)|  \\leq \\int_{x_0}^x|f(\\xi,y_1(\\xi))-f(\\xi,y_0(\\xi))\\mathrm d \\xi$"
   ]
  },
  {
   "cell_type": "markdown",
   "metadata": {},
   "source": [
    "利用利普希茨条件及（3）$$ \\begin{aligned} \\ |y_2(x)-y_1(x)| & \\leq \\int_{x_0}^x |f(\\xi,y_1(\\xi))-f(\\xi,y_0(x))|\\,\\mathrm d\\xi\\\\ & \\leq L\\int_{x_0}^x |y_1(x)-y_0(x)|\\,\\mathrm d\\xi\\\\ & \\leq ML\\int_{x_0}^x(\\xi-x_0)\\,\\mathrm d \\xi\\\\ & =\\frac{ML}{2!}(x-x_0)^2 \\end{aligned} $$"
   ]
  },
  {
   "cell_type": "markdown",
   "metadata": {},
   "source": [
    "于是用数学归纳法可知：$$ |y_k(x)-y_{k-1}(x)|\\leq \\frac{ML^{k-1}}{k!}(x-x_0)^k\\leq \\frac{ML^{k-1}}{k!}(\\beta-\\alpha)^k,$$"
   ]
  },
  {
   "cell_type": "markdown",
   "metadata": {},
   "source": [
    "上式右端是正项收敛级数$$\\displaystyle\\sum_{k=1}^\\infty\\left[\\frac{ML^{k-1}}{k!}(\\beta-\\alpha)^k\\right]\n",
    "$$的一般项。   "
   ]
  },
  {
   "cell_type": "markdown",
   "metadata": {},
   "source": [
    "由weierstrass判别法，知级数（2）在$\\alpha\\leq x\\leq \\beta$上一致收敛。现设$\\lim_{n\\to \\infty}y_n (x)=y (x)$,易知$y_x$在区间$[\\alpha,\\beta]$上连续，且\n",
    "\n",
    "${f(x,y_n( x))}$在区间$[\\alpha,\\beta]$上一致收敛于${f(x,y _( x))}$\n",
    "因而对（1）式取极限，即得$$ y_(x)=y_0+\\int_{x_0}^x f(\\xi,y_(\\xi))\\,\\mathrm d\\xi$$  的解的存在唯一性得证"
   ]
  },
  {
   "cell_type": "markdown",
   "metadata": {},
   "source": [
    "# <font color='red'>唯一性"
   ]
  },
  {
   "cell_type": "markdown",
   "metadata": {},
   "source": [
    "**10.**给定积分方程\n",
    "$\\varphi(x) =f_（x）+\\lambda\\int_a^b K(x,\\xi)\\varphi(\\xi)\\, \\mathrm d\\xi$,(*)\n",
    "其中f(x)是[a，b]上的已知连续函数，K(x，ξ)是a≤x≤b，a≤ξ≤b上的已知连续函数，证明当|λ|足够小时(λ为常数)，(*)在[a，b]上存在唯一的连续解．"
   ]
  },
  {
   "cell_type": "markdown",
   "metadata": {},
   "source": [
    "证明：作逐步逼近函数序列，取$\\varphi_0(x) =f_（x）,$\n",
    "令$\\varphi_1(x) =f_（x）+\\lambda\\int_a^b K(x,\\xi)\\varphi_0(\\xi)\\, \\mathrm d\\xi,..$,\n",
    "\n",
    "\n",
    "$\\varphi_{n+1}(x )=f_（x）+\\lambda\\int_a^b K(x,\\xi)\\varphi_n(\\xi)\\, \\mathrm d\\xi...$,"
   ]
  },
  {
   "cell_type": "markdown",
   "metadata": {},
   "source": [
    "$$M=\\max_{\\substack{x\\in{\\alpha,\\beta}\\\\}}\\mid f(x,y_0)\\mid$$\n",
    ")"
   ]
  },
  {
   "cell_type": "markdown",
   "metadata": {},
   "source": [
    "$$M=\\max_{\\substack{x\\in[a,b]\\\\\n",
    "}}\\mid f(x)\\mid$$\n",
    ")\n",
    "\n",
    "$$L=\\max_{\\substack\n",
    "{x\\in[a,b]\\\\\n",
    "\\xi\\in[a,b]}}\n",
    "\\mid k(x,\\xi)\\mid$$"
   ]
  },
  {
   "cell_type": "markdown",
   "metadata": {},
   "source": [
    "$|\\varphi_1(x)-\\varphi_0(x)| =|\\lambda\\int_a^b K(x,\\xi)\\varphi_0(\\xi)\\, \\mathrm d\\xi|$,"
   ]
  },
  {
   "cell_type": "markdown",
   "metadata": {},
   "source": [
    "$\\leq{|\\lambda|\\int_a^b |K(x,\\xi)|f(\\xi)|\\mathrm d\\xi}$"
   ]
  },
  {
   "cell_type": "markdown",
   "metadata": {},
   "source": [
    "$\\leq|\\lambda|ML(b-a),$"
   ]
  },
  {
   "cell_type": "markdown",
   "metadata": {},
   "source": [
    "假设 $|\\varphi_{k}(x)-\\varphi_{k-1}(x)|\\leq{|\\lambda|^kL^kM(b-a)^k}$成立，则有\n",
    "$|\\varphi_{k+1}(x)-\\varphi_{k}(x)|=|\\lambda\\int_a^b K(x,\\xi)(\\varphi_{k}(x)-\\varphi_{k-1}(x)\\mathrm d\\xi|\\\\\n",
    "\\leq{|\\lambda|\\int_a^b |K(x,\\xi)||(\\varphi_{k}(x)-\\varphi_{k-1}(x)|\\mathrm d\\xi}$"
   ]
  },
  {
   "cell_type": "markdown",
   "metadata": {},
   "source": [
    "$\\leq{|\\lambda|\\int_a^b L^{K+1}|\\lambda|^kM(b-a)^k|\\mathrm d\\xi}=L^{K+1}|\\lambda|^{k+1}M(b-a)^{k+1}$"
   ]
  },
  {
   "cell_type": "markdown",
   "metadata": {},
   "source": [
    "由数学归纳法可知，对任意$n\\in{N}$,有\n",
    " $|\\varphi_{n}(x)-\\varphi_{n-1}(x)\\leq{L^n|\\lambda|^nM(b-a)^n}$"
   ]
  },
  {
   "cell_type": "markdown",
   "metadata": {},
   "source": [
    "下证$\\varphi_{n}(x)$在$[a,b]$上一致收敛。考虑级数$\\varphi_0(x)+\\displaystyle\\sum_{k=1}^\\infty\\left(\\varphi_k(x)-\\varphi_{k-1}(x)\\right)$,只需证该级数在$[a,b]$上一致收敛即可，\n"
   ]
  },
  {
   "cell_type": "markdown",
   "metadata": {},
   "source": [
    "由于$|\\varphi_{k}(x)-\\varphi_{k-1}(x)|\\leq{L^k|\\lambda|^kM(b-a)^k}$"
   ]
  },
  {
   "cell_type": "markdown",
   "metadata": {},
   "source": [
    "当$|\\lambda|<\\frac{1}{(b-a)L}$时，级数$$\\displaystyle\\sum_{k=1}^\\infty\\left[{ML^{k}}(b-a)^k\\right]\n",
    "$$收敛。   "
   ]
  },
  {
   "cell_type": "markdown",
   "metadata": {},
   "source": [
    "由此知当$|\\lambda|<\\frac{1}{(b-a)L}$时，级数$\\varphi_0(x)+\\displaystyle\\sum_{k=1}^\\infty\\left(\\varphi_k(x)-\\varphi_{k-1}(x)\\right)$,在$[a,b]$上一致收敛，\n"
   ]
  },
  {
   "cell_type": "markdown",
   "metadata": {},
   "source": [
    "不妨设其极限函数$\\varphi_*(x)$,即当$x\\in[a,b]$时，$\\varphi_{n}(x)$当$n\\to \\infty$"
   ]
  },
  {
   "cell_type": "markdown",
   "metadata": {},
   "source": [
    " $\\lim_{n\\to \\infty} \\varphi_n (x)=\\varphi (x)$时一致收敛于$\\varphi_*(x)$，且由$\\varphi_{n}(x)$的连续性知$\\varphi_*(x)$在$[a,b]$上连续，对迭代列（1），当时两边取极限，得"
   ]
  },
  {
   "cell_type": "markdown",
   "metadata": {},
   "source": [
    "$\\varphi*_(x )=f_（x）+\\lambda\\int_a^b K(x,\\xi)\\varphi_*(\\xi)\\mathrm d\\xi,(|\\lambda|<\\frac{1}{(b-a)L})$"
   ]
  },
  {
   "cell_type": "markdown",
   "metadata": {},
   "source": [
    "即当$|\\lambda|<\\frac{1}{(b-a)L}$时,积分方程必存在连续解"
   ]
  },
  {
   "cell_type": "markdown",
   "metadata": {},
   "source": [
    "下证当$|\\lambda|<\\frac{1}{(b-a)L}$时，（*）方程的解的唯一性。用反证法\n",
    "设另有解"
   ]
  },
  {
   "cell_type": "markdown",
   "metadata": {},
   "source": [
    "$$\\bar\n",
    "{\\varphi(x)|}$$且$$\\bar{\\varphi(x)}\\neq\\varphi*_(x )$$"
   ]
  },
  {
   "cell_type": "markdown",
   "metadata": {},
   "source": [
    "即$$\\bar\n",
    "{\\varphi(x)}=f_（x）+\\lambda\\int_a^b K(x,\\xi)\\bar\\varphi(\\xi)\\mathrm d\\xi,$$"
   ]
  },
  {
   "cell_type": "markdown",
   "metadata": {},
   "source": [
    "记$$\\bar{M}=\\max_{\\substack{x\\in(a,b)\\\\}}\\mid \\bar{\\varphi(x)}-\\varphi*_(x )\\mid>0$$"
   ]
  },
  {
   "cell_type": "markdown",
   "metadata": {},
   "source": [
    "$|\\bar{\\varphi(x)}-\\varphi*_(x )|=|\\lambda\\int_a^b K(x,\\xi)(\\bar{\\varphi(\\xi)}-\\varphi*_(\\xi )\\mathrm d\\xi|\\\\\n",
    "\\leq{|\\lambda|\\int_a^b L(\\bar{\\varphi(\\xi)}-\\varphi*_(\\xi)|\\mathrm d\\xi}$"
   ]
  },
  {
   "cell_type": "markdown",
   "metadata": {},
   "source": [
    "$=|\\lambda|\\bar{M}L(b-a)$"
   ]
  },
  {
   "cell_type": "markdown",
   "metadata": {},
   "source": [
    "即有$\\bar{M}\\leq|\\lambda|\\bar{M}L(b-a)$"
   ]
  },
  {
   "cell_type": "markdown",
   "metadata": {},
   "source": [
    "所以$|\\lambda|<\\frac{1}{(b-a)L}$与$|\\lambda|\\geq\\frac{1}{(b-a)L}$矛盾,唯一性得证"
   ]
  },
  {
   "cell_type": "markdown",
   "metadata": {
    "collapsed": true
   },
   "source": [
    "# <font color='red'>A  11/10"
   ]
  },
  {
   "cell_type": "code",
   "execution_count": null,
   "metadata": {
    "collapsed": true
   },
   "outputs": [],
   "source": []
  }
 ],
 "metadata": {
  "kernelspec": {
   "display_name": "Python 2",
   "language": "python",
   "name": "python2"
  },
  "language_info": {
   "codemirror_mode": {
    "name": "ipython",
    "version": 2
   },
   "file_extension": ".py",
   "mimetype": "text/x-python",
   "name": "python",
   "nbconvert_exporter": "python",
   "pygments_lexer": "ipython2",
   "version": "2.7.10"
  }
 },
 "nbformat": 4,
 "nbformat_minor": 0
}
