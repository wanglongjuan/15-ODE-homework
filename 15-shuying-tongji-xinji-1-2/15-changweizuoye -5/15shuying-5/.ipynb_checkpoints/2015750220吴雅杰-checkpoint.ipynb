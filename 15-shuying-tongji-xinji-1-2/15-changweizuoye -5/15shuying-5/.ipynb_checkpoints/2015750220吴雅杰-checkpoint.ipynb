{
 "cells": [
  {
   "cell_type": "markdown",
   "metadata": {},
   "source": [
    "数学与应用数学班"
   ]
  },
  {
   "cell_type": "markdown",
   "metadata": {},
   "source": [
    "吴雅杰      2015750220"
   ]
  },
  {
   "cell_type": "markdown",
   "metadata": {},
   "source": [
    "**P88。3**"
   ]
  },
  {
   "cell_type": "markdown",
   "metadata": {},
   "source": [
    "**求初值问题$$\\left\\{\\begin{array}{c}\\frac{dy}{dx}=x^2-y^2,R:\\mid{x+1}\\mid\\leq1,\\mid{y}\\mid\\leq1\\\\y(-1)=0\\end{array}\\right.$$的解得存在区间，并求第二次近似解，给出在街得存在区间的误差估计。**"
   ]
  },
  {
   "cell_type": "markdown",
   "metadata": {},
   "source": [
    "**解：**$\\because$\n",
    "$$M=\\max_{\\substack{x\\in[\\alpha,\\beta]\\\\}}\\mid{f(x,y)}\\mid=4$$\n",
    "$h$取$a=1$,$\\frac{b}{M}=\\frac{1}{4}$中较小的"
   ]
  },
  {
   "cell_type": "markdown",
   "metadata": {},
   "source": [
    "$\\therefore$$h=\\frac{1}{4}$,在R上的函数$f(x,y)=x^2-y^2$的利普希茨常数可以取为$L=2$,"
   ]
  },
  {
   "cell_type": "markdown",
   "metadata": {},
   "source": [
    "$\\because$$\\frac{\\partial f}{\\partial y}=\\mid{-2y}\\mid\\leq2=L$$$\\varphi_0(x)=0$$"
   ]
  },
  {
   "cell_type": "markdown",
   "metadata": {},
   "source": [
    "$$\\varphi_1(x)=\\int^x_{-1}(t^2-\\varphi^2_0(t)){d}t=\\frac{x^3}{3}+\\frac{1}{3}$$"
   ]
  },
  {
   "cell_type": "markdown",
   "metadata": {},
   "source": [
    "$$\\varphi_2(x)=\\int^x_{-1}(t^2-\\varphi^2_1(t)){d}t=\\frac{x^3}{3}-\\frac{x}{9}-\\frac{x^4}{18}-\\frac{x^7}{63}+\\frac{11}{42}$$"
   ]
  },
  {
   "cell_type": "markdown",
   "metadata": {},
   "source": [
    "所以可以知道：$$\\mid\\varphi_2(x)-\\varphi_(x)\\mid\\leq\\frac{4*2^2}{3!}*(\\frac{1}{4})^3=\\frac{1}{24}$$"
   ]
  },
  {
   "cell_type": "markdown",
   "metadata": {},
   "source": [
    "$\\therefore$已知初值问题的解的存在区间为$\\frac{5}{4}\\leq x\\leq\\frac{-3}{4}$，第二次近似解为$y^2=\\frac{x^3}{3}-\\frac{x}{9}-\\frac{x^4}{18}-\\frac{x^7}{63}+\\frac{11}{42}$，在解的存在区间的误差估计为$\\mid y-y_2\\mid\\leq\\frac{1}{24}$"
   ]
  },
  {
   "cell_type": "markdown",
   "metadata": {},
   "source": [
    "**P89。6**"
   ]
  },
  {
   "cell_type": "markdown",
   "metadata": {},
   "source": [
    "**证明：**(1)当$K\\geq0$时，令$\\omega (t)=K+\\int^t_{\\alpha}f(s)g(s){d}s$，则$\\omega\\prime(t)=f(t)g(t)\\leq g(t)\\omega(t)$，由$\\omega(t)>0$可得$$\\frac{\\omega\\prime(t)}{\\omega(t)}\\leq g(t)$$对其两边从$\\alpha$到$t$积分可得$$ln\\omega(t)-ln\\omega(\\alpha)\\leq\\int_\\alpha^t g(s){d}s$$"
   ]
  },
  {
   "cell_type": "markdown",
   "metadata": {},
   "source": [
    "即$$\\frac{\\omega(t)}{\\omega(\\alpha)}\\leq exp\\left(\\int_\\alpha^t g(s){d}s\\right),\\omega(\\alpha)=K>0$$"
   ]
  },
  {
   "cell_type": "markdown",
   "metadata": {},
   "source": [
    "$\\therefore$$$\\omega(t)\\leq Kexp\\left(\\int_\\alpha^t g(s){d}s\\\\right)$$"
   ]
  },
  {
   "cell_type": "markdown",
   "metadata": {},
   "source": [
    "即$$f(t)\\leq\\omega(t)\\leq Kexp\\left(\\int_\\alpha^t g(s){d}s\\right),\\alpha\\leq t\\leq\\beta$$"
   ]
  },
  {
   "cell_type": "markdown",
   "metadata": {},
   "source": [
    "**(2)**当$K=0$时，对任意$\\epsilon>0$，由于$$f(t)\\leq\\int_\\alpha f(s)g(s){d}s$$"
   ]
  },
  {
   "cell_type": "markdown",
   "metadata": {},
   "source": [
    "$\\therefore$$$f(t)\\leq\\omega+\\int_\\alpha f(s)g(s){d}s$$"
   ]
  },
  {
   "cell_type": "markdown",
   "metadata": {},
   "source": [
    "由（1）结论可得：$$f(t)\\leq\\epsilon exp\\left(\\int_\\alpha^t g(s){d}s\\right)$$"
   ]
  },
  {
   "cell_type": "markdown",
   "metadata": {},
   "source": [
    "当$\\epsilon\\rightarrow0^+$时，$f(t)\\leq0$，又$\\because f(t)\\leq0$"
   ]
  },
  {
   "cell_type": "markdown",
   "metadata": {},
   "source": [
    "$\\therefore f(t)=0$,所以可得$$f(t)\\leq Kexp\\left(\\int_\\alpha^t g(s){d}s\\right),\\alpha\\leq t\\leq\\beta$$综上所述格朗沃尔不等式成立"
   ]
  },
  {
   "cell_type": "markdown",
   "metadata": {},
   "source": [
    "**P89。8**"
   ]
  },
  {
   "cell_type": "markdown",
   "metadata": {},
   "source": [
    "**证明：**取$$y_0(x)=y_0$$$$y_1(x)=y_0+\\int_{x_0}^xf(\\xi,y_0(\\xi)){d}\\xi$$"
   ]
  },
  {
   "cell_type": "markdown",
   "metadata": {},
   "source": [
    "$$\\cdots$$"
   ]
  },
  {
   "cell_type": "markdown",
   "metadata": {},
   "source": [
    "$$y_n(x)=y_0+\\int_{x_0}^xf(\\xi,y_{n-1}(\\xi)){d}\\xi\\tag{1}$$"
   ]
  },
  {
   "cell_type": "markdown",
   "metadata": {},
   "source": [
    "由此易得$y_n(x)$在$\\alpha\\leq x\\leq\\beta$上存在且连续，考察级数$$y_0(x)+\\sum_{k=1}^\\infty[y_k(x)-y_{k-1}(x)],x\\in[\\alpha,\\beta]\\tag{2}$$"
   ]
  },
  {
   "cell_type": "markdown",
   "metadata": {},
   "source": [
    "取\n",
    "$$M=\\max_{\\substack{x\\in[\\alpha,\\beta]\\\\}}\\mid{f(x,y_0)}\\mid$$"
   ]
  },
  {
   "cell_type": "markdown",
   "metadata": {},
   "source": [
    "由（1）式可得$$\\mid y_1(x)-y_0(x)\\mid\\leq\\int_{x_0}^x\\mid f(\\xi,y_0(\\xi))\\mid{d}\\xi\\leq M\\mid x-x_0\\mid\\tag{3}$$及"
   ]
  },
  {
   "cell_type": "markdown",
   "metadata": {},
   "source": [
    "$$\\mid y_2(x)-y_1(x)\\mid\\leq\\int_{x_0}^x\\mid f(\\xi,y_1(\\xi))-f(\\xi,y_0(\\xi))\\mid{d}\\xi$$"
   ]
  },
  {
   "cell_type": "markdown",
   "metadata": {},
   "source": [
    "由利普希茨条件及（3）式可得$$\\mid y_2(x)-y_1(x)\\mid\\leq L\\int_{x_0}^xy_1(\\xi)-y_0(\\xi){d}\\xi$$"
   ]
  },
  {
   "cell_type": "markdown",
   "metadata": {},
   "source": [
    "$$\\leq L\\int_{x_0}^xM\\mid\\xi-x_0\\mid{d}\\xi=\\frac{ML}{2!}(x-x_0)^2$$"
   ]
  },
  {
   "cell_type": "markdown",
   "metadata": {},
   "source": [
    "由数学归纳法可知$$\\mid y_k(x)-y_{k-1}(x)\\mid\\leq\\frac{ML^{k-1}}{k!}\\mid x-x_0\\mid^k\\leq\\frac{ML^{k-1}}{k!}(\\beta-\\alpha)^k$$"
   ]
  },
  {
   "cell_type": "markdown",
   "metadata": {},
   "source": [
    "上式右端是正项收敛级数$$\\sum_{k=1}^\\infty\\frac{ML^{k-1}}{k!}(\\beta-\\alpha)^k$$的一般项"
   ]
  },
  {
   "cell_type": "markdown",
   "metadata": {},
   "source": [
    "又因为级数（2）在$\\alpha\\leq x\\leq\\beta$上一致收敛，所以函数列{$f(x,y_n(x))$}在$[\\alpha,\\beta]$上一致收敛，"
   ]
  },
  {
   "cell_type": "markdown",
   "metadata": {},
   "source": [
    "设$$\\lim_{n\\rightarrow\\infty}y_n(x)=y(x)$$"
   ]
  },
  {
   "cell_type": "markdown",
   "metadata": {},
   "source": [
    "易知$y(x)$在$[\\alpha,\\beta]$上连续，且{$f(x,y_n(x))$}在$[\\alpha,\\beta]$上一致收敛与$f(x,y(x))$，所以对（1）式两边去极限，得"
   ]
  },
  {
   "cell_type": "markdown",
   "metadata": {},
   "source": [
    "$$y(x)=y_0+\\int_{x_0}^xf(\\xi,y(\\xi)){d}\\xi$$"
   ]
  },
  {
   "cell_type": "markdown",
   "metadata": {},
   "source": [
    "# <font color='red'>唯一性证明？？"
   ]
  },
  {
   "cell_type": "markdown",
   "metadata": {},
   "source": [
    "**P89。10**"
   ]
  },
  {
   "cell_type": "markdown",
   "metadata": {},
   "source": [
    "**证明：**取$$\\varphi_0(x)=f(x)$$令$$\\varphi_1(x)=f(x)+\\lambda\\int_a^bk(x,\\xi)\\varphi_0(\\xi){d}\\xi$$$$\\cdots\\cdots$$$$\\varphi_{n+1}(x)=f(x)+\\lambda\\int_a^bk(x,\\xi)\\varphi_n(\\xi){d}\\xi$$$$\\cdots\\cdots\\tag{1}$$"
   ]
  },
  {
   "cell_type": "markdown",
   "metadata": {},
   "source": [
    "令$$M=\\max_{\\substack{x\\in[\\alpha,\\beta]\\\\}}\\mid f(x)\\mid,L=\\max_{\\substack{x\\in[\\alpha,\\beta]\\\\\\xi\\in[\\alpha,\\beta]}}\\mid k(x,\\xi)\\mid>0$$"
   ]
  },
  {
   "cell_type": "markdown",
   "metadata": {},
   "source": [
    "$$\\mid\\varphi_1(x)-\\varphi_0(x)\\mid=\\mid\\lambda\\int_a^bk(x,\\xi)\\varphi_n(\\xi){d}\\xi\\mid$$"
   ]
  },
  {
   "cell_type": "markdown",
   "metadata": {},
   "source": [
    "$$\\leq\\mid\\lambda\\mid\\int_a^b\\mid k(x,\\xi)\\mid\\mid f(\\xi)\\mid{d}\\xi$$"
   ]
  },
  {
   "cell_type": "markdown",
   "metadata": {},
   "source": [
    "$$\\leq\\mid\\lambda\\mid ML(b-a)$$"
   ]
  },
  {
   "cell_type": "markdown",
   "metadata": {},
   "source": [
    "假设$$\\mid\\varphi_k(x)-\\varphi_(k-1)(x)\\mid\\leq\\mid\\lambda\\mid^kL^kM(b-a)^k$$成立，那么"
   ]
  },
  {
   "cell_type": "markdown",
   "metadata": {},
   "source": [
    "$$\\mid\\varphi_{k+1}(x0-\\varphi_k(x)\\mid=\\mid\\lambda\\int_a^b k(x,\\xi)(\\varphi_k(\\xi)-\\varphi_{k-1}(\\xi)){d}\\xi\\mid$$"
   ]
  },
  {
   "cell_type": "markdown",
   "metadata": {},
   "source": [
    "$$\\leq\\mid\\lambda\\mid\\int_a^b\\mid k(x,\\xi)\\mid\\mid\\varphi_k(\\xi)-\\varphi_{k-1}(\\xi)\\mid{d}\\xi$$"
   ]
  },
  {
   "cell_type": "markdown",
   "metadata": {},
   "source": [
    "$$\\leq\\mid\\int_a^bL^{k+1}\\mid\\lambda\\mid^kM(b-a)^k{d}\\xi$$"
   ]
  },
  {
   "cell_type": "markdown",
   "metadata": {},
   "source": [
    "$$=\\mid\\lambda\\mid^{k+1}L^{k+1}M(b-a)^{k+1}$$"
   ]
  },
  {
   "cell_type": "markdown",
   "metadata": {},
   "source": [
    "有数学归纳法知，对于任意的$n\\in N$，有$$\\mid\\varphi_n(x)-\\varphi_{n-1}(x)\\leq ML^n\\mid\\varphi\\mid^n(b-a)^n$$"
   ]
  },
  {
   "cell_type": "markdown",
   "metadata": {},
   "source": [
    "考虑级数$$\\varphi_0(x)+\\sum_{k=1}^\\infty(\\varphi_k(x)-\\varphi_{k-1}(x))\\tag{2}$$"
   ]
  },
  {
   "cell_type": "markdown",
   "metadata": {},
   "source": [
    "其前$n$项和为$$\\varphi_0(x)+\\sum_{k=1}^\\infty(\\varphi_k(x)-\\varphi_{k-1}(x))=\\varphi_n(x)$$"
   ]
  },
  {
   "cell_type": "markdown",
   "metadata": {},
   "source": [
    "由于$$\\mid\\varphi_k(x)-\\varphi_{k-1}(x)\\mid\\leq ML^k\\mid\\varphi\\mid^k(b-a)^k$$"
   ]
  },
  {
   "cell_type": "markdown",
   "metadata": {},
   "source": [
    "当$\\mid\\lambda\\mid<\\frac{1}{(b-a)L}$时，级数$$\\sum_{k=1}^\\infty ML^k\\mid\\varphi\\mid^k(b-a)^k$$"
   ]
  },
  {
   "cell_type": "markdown",
   "metadata": {},
   "source": [
    "收敛，所以当$\\mid\\lambda\\mid<\\frac{1}{(b-a)L}$时，级数（2）在$[a,b]$上一致收敛"
   ]
  },
  {
   "cell_type": "markdown",
   "metadata": {},
   "source": [
    "设极限函数为$\\varphi^{*}(x)$，即$x\\in[a,b]$时，当$n\\rightarrow\\infty$时，$\\varphi_n(x)$一致收敛于$\\varphi^{*}$，所以，对于序列（1）"
   ]
  },
  {
   "cell_type": "markdown",
   "metadata": {},
   "source": [
    "当$n\\rightarrow\\infty$时，两边取极限，得：$$\\varphi^{*}=f(x)+\\lambda\\int_a^b k(x,\\xi)\\varphi^{*}(\\xi){d}\\xi$$"
   ]
  },
  {
   "cell_type": "markdown",
   "metadata": {},
   "source": [
    "所以当$\\mid\\lambda\\mid<\\frac{1}{(b-a)L}$时，方程必存在连续解"
   ]
  },
  {
   "cell_type": "markdown",
   "metadata": {},
   "source": [
    "# <font color='red'>A  11/10　作业雷同"
   ]
  },
  {
   "cell_type": "markdown",
   "metadata": {},
   "source": []
  },
  {
   "cell_type": "markdown",
   "metadata": {},
   "source": []
  },
  {
   "cell_type": "markdown",
   "metadata": {},
   "source": []
  },
  {
   "cell_type": "markdown",
   "metadata": {},
   "source": []
  }
 ],
 "metadata": {
  "kernelspec": {
   "display_name": "SageMath 7.3",
   "language": "",
   "name": "sagemath"
  },
  "language_info": {
   "codemirror_mode": {
    "name": "ipython",
    "version": 2
   },
   "file_extension": ".py",
   "mimetype": "text/x-python",
   "name": "python",
   "nbconvert_exporter": "python",
   "pygments_lexer": "ipython2",
   "version": "2.7.10"
  }
 },
 "nbformat": 4,
 "nbformat_minor": 0
}
