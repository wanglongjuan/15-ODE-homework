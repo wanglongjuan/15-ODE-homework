{
 "cells": [
  {
   "cell_type": "markdown",
   "metadata": {
    "collapsed": true
   },
   "source": [
    "## 9月27日 ##"
   ]
  },
  {
   "cell_type": "markdown",
   "metadata": {},
   "source": [
    "P88\n"
   ]
  },
  {
   "cell_type": "markdown",
   "metadata": {},
   "source": [
    " 3.求初值问题\n",
    "$ \\begin{cases}\n",
    " \\frac{\\mathrm dy}{\\mathrm dx}=x^2-y^2,R:|x+1|\\leq1,y\\leq1\\\\y(-1)=0\n",
    " \\end{cases} $\n",
    " 的解的存在区间，并求第二次近似解，给出在解的存在区间的误差估计。"
   ]
  },
  {
   "cell_type": "markdown",
   "metadata": {},
   "source": [
    "在定义域R内方程右端连续可微\n",
    "\n",
    "$ M=\\max \\limits_{(x,y)\\in R}|x^2-y^2|=4,b=1 $\n",
    "\n",
    "$ 所以解的存在区间|x+1|\\leq \\frac{b}{M}=\\frac{1}{4} $\n",
    "\n",
    "$ 令y_0(x)=0,于是 $\n",
    "\n",
    "$ y_1(x)=y_0+\\int \\limits_{-1}^x{[x^2-{y_0}^2(x)]}\\mathrm dx=0+\\int \\limits_{-1}^x(x^2-0)\\mathrm dx=\\frac{1}{3}x^3+\\frac{1}{3} $\n",
    "\n",
    "$ \\begin{aligned}\n",
    "y_2(x)&= y_0+\\int \\limits_{-1}^x{[x^2-{y_1}^2(x)]}\\mathrm dx\\\\\n",
    "&=0+\\int \\limits_{-1}^x(x^2-\\frac{1}{9}x^6-\\frac{2}{9}x^3-\\frac{1}{9})\\mathrm dx\\\\\n",
    "&=\\frac{1}{3}x^3-\\frac{1}{63}x^7-\\frac{1}{18}x^4-\\frac{1}{9}x+\\frac{11}{42} \n",
    "\\end{aligned} $\n",
    "\n",
    "$ 所以M=4,L=\\max \\limits_{(x,y)\\in R}|\\frac{\\partial f}{\\partial y}|\\leq \\max \\limits_{(x,y)\\in R}|-2y|=2 $\n",
    "\n",
    "$ h=min\\{a,\\frac{b}{M}\\}=\\frac{1}{4} $\n",
    "\n",
    "$ 所以区间|x+1|\\leq1内第二次近似解的误差估计是|y(x)-y_2(x)|\\leq \\frac{ML^2}{3!}h^3=\\frac{1}{24} $\n"
   ]
  },
  {
   "cell_type": "markdown",
   "metadata": {},
   "source": [
    "$ 8.如果函数f(x,y)于带域\\alpha \\leq  x\\leq \\beta上连续且关于y满足利普希茨条件，则方程\\frac{\\mathrm dy}{\\mathrm dx}=f(x,y)满足条件y(x_0)=y_0的解于整个区间[\\alpha,\\beta]上存在且唯一，试证明之 $"
   ]
  },
  {
   "cell_type": "markdown",
   "metadata": {},
   "source": [
    "$ 设M=\\max \\limits_{x\\in [\\alpha,\\beta]}|f(x,y_0)|,h=\\alpha=\\beta-\\alpha.b=Mh及有某常数L使得在域R=\\{|(x,y)|\\alpha \\leq x\\leq \\beta,|y-y_0|\\leq b\\}中有 $\n",
    "\n",
    "$ |f(x,y_1)-f(x,y_2)|\\leq L|y_1-y_2|,(x,y_1),(x,y_2)\\in R $\n",
    "\n",
    "构造逐步逼近函数序列\n",
    "\n",
    "$ \\begin{cases}\n",
    "\\varphi_0(x)=y_0\\\\ \n",
    "\\varphi_0(x)=y_0+\\int_{x_0}^x f(x,\\varphi_{n-1}(x))\\mathrm dx, \\alpha \\leq x \\leq \\beta,n=1,2... \\end{cases} $\n",
    "\n",
    "$ 因|\\varphi_1(x)-y_0|=|\\int _{x_0}^x f(x,y_0)\\mathrm dx|\\leq \\int_{x_0}^x |f(x,y_0)|\\mathrm dx\\leq M(x-x_0)\\leq Mh\\leq b $\n",
    "\n",
    "$ 可证|\\varphi_n(x)- \\varphi_{n-1}(x)|\\leq \\frac{M}{n!}L^{n-1}(\\beta -\\alpha)^n $\n",
    "\n",
    "事实上，有\n",
    "\n",
    "$ \\begin{aligned}\n",
    "|\\varphi_{n+1}(x)- \\varphi_n(x)|&\\leq | \\int_{x_0}^x |f(x,\\varphi_n(x))- f(x,\\varphi_{n-1}(x))|\\mathrm dx|\\\\\n",
    "&\\leq L|\\int_{x_0}^x L|\\varphi_n(x)- \\varphi_{n-1}(x)|\\mathrm dx|\\\\\n",
    "&\\leq L|\\int_{x_0}^x \\frac{M}{n!}L^{n-1}{|x-x_0|}^n\\mathrm dx|\\\\\n",
    "&\\leq \\frac{M}{(n+1)!}L^n |x-x_0|^{n+1}\\\\\n",
    "&\\leq \\frac{M}{(n+1)!}L^n(\\beta -\\alpha)^{n+1} \n",
    "\\end{aligned} $\n",
    "\n",
    "$ 因级数\\displaystyle\\sum_{k=1}^{\\infty}\\frac{M}{k!}L^{k-1}(\\beta -\\alpha)^k收敛，知级数\\varphi_n(x)= \\varphi_0(x)+ \\displaystyle\\sum_{k=1}^n[\\varphi_k(x)- \\varphi_{k-1}(x)] $\n",
    "\n",
    "$ 在区间[\\alpha,\\beta]一致收敛。于是存在极限\\lim \\limits_{n \\to \\infty}\\varphi_n(x)= \\varphi (x),它在区间[\\alpha,\\beta]连续，且 $\n",
    "\n",
    "$ \\begin{aligned}\n",
    "\\varphi (x)= \\lim \\limits_{n \\to \\infty}\\varphi_n(x)&=y_0+\\lim \\limits_{n \\to \\infty}\\int_{x_0}^x f(x, \\varphi_{n-1}(x))\\mathrm dx\\\\\n",
    "&=y_0+\\int_{x_0}^x f(x, \\lim \\limits_{n \\to \\infty}\\varphi_{n-1}(x))\\mathrm dx\\\\\n",
    "&=y_0+\\int_{x_0}^x f(x, \\varphi (x))\\mathrm dx \n",
    "\\end{aligned} $\n",
    "\n",
    "$ 故\\varphi (x)是积分方程也就是微分方程的解 $\n",
    "\n",
    "$ 设\\varphi (x),\\psi (x)均满足积分方程y=y_0+\\int_{x_0}^x f(x,y)\\mathrm dx,\\alpha \\leq x_0,x\\leq \\beta $\n",
    "\n",
    "$ 当x\\geq x_0时利用格朗沃尔不等式，由 $\n",
    "\n",
    "$ |\\varphi (x)-\\psi (x)|\\leq \\int_ x ^{x_0}|f(s, \\varphi (s))-f(s, \\psi (s))|\\mathrm ds\\leq \\int_ x ^{x_0}L|\\varphi (s)-\\psi (s)|\\mathrm ds $\n",
    "\n",
    "$ 有|\\varphi (s)-\\psi (s)|\\leq 0,即\\varphi (x)=\\psi (x)( \\alpha \\leq x\\leq x_0\\leq \\beta)。命题得证。$\n"
   ]
  },
  {
   "cell_type": "markdown",
   "metadata": {},
   "source": [
    "## 9月28日 ##"
   ]
  },
  {
   "cell_type": "markdown",
   "metadata": {},
   "source": [
    "P89"
   ]
  },
  {
   "cell_type": "markdown",
   "metadata": {},
   "source": [
    " 6.证明格朗沃尔不等式：\n",
    "\n",
    "$ 设K为非负常数，f(t)，g(t)为在区间\\alpha \\leq t\\leq \\beta上的连续非负函数，且满足不等式 $\n",
    "\n",
    "\n",
    "$ f(t)\\leq K+\\int_ \\alpha ^l f(s)g(s) \\mathrm ds, \\alpha \\leq t\\leq \\beta,$\n",
    "\n",
    "$ 则有f(t)\\leq Kexp[\\int_ \\alpha ^l g(s) \\mathrm ds], \\alpha \\leq t\\leq \\beta.$\n",
    "\n",
    "并由此证明定理1的命题5 "
   ]
  },
  {
   "cell_type": "markdown",
   "metadata": {},
   "source": [
    "$ 令\n",
    "\\begin{cases}\n",
    "f_0(t)=K,\\\\\n",
    "f_n(t)\\leq K+\\int_ \\alpha ^l f_{n-1}g(s)\\mathrm ds,(n=1,2, …)\n",
    "\\end{cases} $\n",
    "\n",
    "$ 现用数学归纳法证明f_{n+1}(t)-f_n(t)\\leq \\frac{K}{(n+1)!}[ \\int_ \\alpha ^l f_{n-1}g(s)\\mathrm ds]^{n+1} $\n",
    "\n",
    "$ 显然当n=0时成立。设n=m-1时成立，则 $\n",
    "\n",
    "$ \\begin{aligned}\n",
    "f_{m+1}(t)-f_m(t)&\\leq \\int_ \\alpha ^l[f_ m (s)-f_{m-1} (s)]g(s)\\mathrm ds\\\\\n",
    "&\\leq \\int_ \\alpha ^l \\frac{K}{m!}[ \\int_ \\alpha ^s g(s) \\mathrm ds]^mg(s) \\mathrm ds\\\\\n",
    "&= \\frac{K}{m!} \\int_ \\alpha ^l [ \\int_ \\alpha ^s g(s) \\mathrm ds]^m \\mathrm d[ \\int_ \\alpha ^s g(s) \\mathrm ds]\\\\\n",
    "&=\\frac{K}{m!(m+1)} [ \\int_ \\alpha ^s g(s) \\mathrm ds]^{m+1}\\\\\n",
    "&=\\frac{K}{(m+1)!} [ \\int_ \\alpha ^s g(s) \\mathrm ds]^{m+1}\n",
    "\\end{aligned} $\n",
    "\n",
    "$ 即对任意n均成立f_{n+1}(t)-f_n(t)\\leq \\frac{K}{(n+1)!}[ \\int_ \\alpha ^l g(s)\\mathrm ds|^{n+1} $\n",
    "\n",
    "$ 从而f_n(t)= \\displaystyle\\sum_{k=0}^n\\frac{K}{k!} [\\int_\\alpha ^l g(s)\\mathrm ds]^k $\n",
    "\n",
    "$ 设|\\int_\\alpha ^\\beta g(t)\\mathrm dt|\\leq M,于是对f_n(t)=f_0(t)+ \\displaystyle\\sum_{k=1}^n[f_k(t)-f_{k-1}(t)]有 $\n",
    "\n",
    "$ | f_{n+1}(t)-f_n(t)|\\leq \\frac{K}{(n+1)!}(| \\int_ \\alpha ^l g(s)\\mathrm ds|)^{n+1}=\\frac{K}{(n+1)!}M^{n+1}\\leq Ke^M $\n",
    "\n",
    "$ 即在区间\\alpha \\leq t\\leq \\beta上|f_n(t)|一致收敛，当n\\to \\infty时有f(t)\\equiv \\lim \\limits_{n \\to \\infty}f_n(t)\\leq K+\\int_ \\alpha ^l \\lim \\limits_{n \\to \\infty}f_{n-1}g(s)\\mathrm ds  $\n",
    "\n",
    "$ f(t)\\leq K+\\int_\\alpha ^lf(s)g(s)\\mathrm ds $\n",
    "\n",
    "$ 且f(t)\\leq K\\displaystyle\\sum_{k=0}^{\\infty}\\frac{1}{k!} [\\int_\\alpha ^l g(s)\\mathrm ds]^k=Kexp [\\int_\\alpha ^l g(s)\\mathrm ds] $\n",
    "\n",
    "下面用格朗沃尔不等式证明定理1的的命题5\n",
    "\n",
    "$ 要证当\\varphi (x),\\psi (x)均满足积分方程y=y_0+\\int_{x_0}^x f(x,y)\\mathrm dx, x_0\\leq x\\leq x_0+h $\n",
    "\n",
    "$ 时应有\\varphi (x)=\\psi (x) ( x_0\\leq x\\leq x_0+h) $\n",
    "\n",
    "由利普希茨条件\n",
    "\n",
    "$ |f(x, \\varphi (x))-f(x, \\psi (x))|\\leq L|\\varphi (x)-\\psi (x)| ( x_0\\leq x\\leq x_0+h) $\n",
    "\n",
    "得\n",
    "\n",
    "$ |\\varphi (x)-\\psi (x)|\\leq \\int_{x_0}^x|f(x, \\varphi (x))-f(x, \\psi (x))|\\mathrm dx\\leq \\int_{x_0}^xL|\\varphi (x)-\\psi (x)|\\mathrm dx $\n",
    "\n",
    "$ 利用格朗沃尔不等式，由K=0，当x_0\\leq x\\leq x_0+h时有 $\n",
    "\n",
    "$ 0\\leq |\\varphi (x)-\\psi (x)|\\leq Kexp[\\int_{x_0}^x L\\mathrm dx]=0 $\n",
    "\n",
    "$ 于是\\varphi (x)=\\psi (x) ( x_0\\leq x\\leq x_0+h) $\n",
    "\n",
    "命题5得证"
   ]
  },
  {
   "cell_type": "markdown",
   "metadata": {},
   "source": [
    "$ 10.给定积分方程\\varphi(x)=f(x)+\\lambda\\int_a^bK(x,ζ)\\varphi_n(ζ)dζ,其中f(x)是[a,b]上的已知连续函数，K(x,ζ)是a\\leq x\\leq b,a\\leq ζ\\leq b上的已知连续函数，证明当|\\lambda|足够小时（\\lambda是常数），（*）在[a,b]上存在唯一的连续解 $"
   ]
  },
  {
   "cell_type": "markdown",
   "metadata": {},
   "source": [
    "构造逐步逼近函数序列\n",
    "\n",
    "取$ \\varphi_0(x)=f(x) $\n",
    "\n",
    "令$ \\varphi_1(x)=f(x)+\\lambda \\int_a^b K(x,\\xi)\\varphi_0(\\xi)\\mathrm d \\xi,\\ldots $\n",
    "\n",
    "$ \\varphi_{n+1}(x)=f(x)+\\lambda \\int_a^b K(x,\\xi)\\varphi_n(\\xi)\\mathrm d \\xi,\\ldots $\n",
    "\n",
    "令$ M=\\max \\limits_{x \\in [a,b]}|f(x)|,L=\\max_{\\substack{x \\in [a,b]\\\\\\xi \\in [a,b]}}|K(x,\\xi)|>0 $\n",
    "\n",
    "则$ |\\varphi_1(x)-\\varphi_0(x)|=|\\lambda  \\int_a^b K(x,\\xi)\\varphi_0(\\xi)\\mathrm d \\xi| \\leq |\\lambda|\\int_a^b |K(x,\\xi)||f(\\xi)|\\mathrm d \\xi \\leq |\\lambda|ML(b-a) $\n",
    "\n",
    "假设$ |\\varphi_k(x)-\\varphi_{k-1}(x)| \\leq {|\\lambda|}^k L^k M(b-a)^k $成立，则\n",
    "\n",
    "$ \\begin{aligned}\n",
    "|\\varphi_{k+1}(x)-\\varphi_k(x)|&=|\\lambda \\int_a^b K(x,\\xi)(\\varphi_k(\\xi)-\\varphi_{k-1}(\\xi))\\mathrm d \\xi| \\\\\n",
    "&\\leq |\\lambda|\\int_a^b |K(x,\\xi)||\\varphi_k(\\xi)-\\varphi_{k-1}(\\xi)|\\mathrm d \\xi\\\\\n",
    "&\\leq |\\lambda| \\int_a^b L^{k+1} {|\\lambda|}^k M(b-a)^k \\mathrm d \\xi \\\\\n",
    "&=|\\lambda|^{k+1} L^{k+1} M(b-a)^{k+1}\\\\\n",
    "\\end{aligned} $\n",
    "\n",
    "$ 由数学归纳法可知，对任意的n \\in N,有|\\varphi_n(x)-\\varphi_{n-1}(x)| \\leq ML^n|\\lambda|^n(b-a)^n $\n",
    "\n",
    "$ 下证\\{\\varphi_n(x)\\}在[a,b]上一致收敛，考虑级数\\varphi_0(x)+\\displaystyle\\sum_{k=1}^\\infty (\\varphi_k(x)-\\varphi_{k-1}(x)).只需证该级数在[a,b]上一致收敛即可 $\n",
    "\n",
    "$ 由于|\\varphi_k(x)-\\varphi_{k-1}(x)| \\leq ML^n|\\lambda|^n(b-a)^n $\n",
    "\n",
    "当$|\\lambda|<\\frac{1}{(b-a)L}时，级数\\displaystyle\\sum_{k=1}^\\infty ML^k|\\lambda|^k(b-a)^k $收敛\n",
    "\n",
    "$ 由此可知当|\\lambda|<\\frac{1}{(b-a)L}时，级数\\varphi_0(x)+\\displaystyle\\sum_{k=1}^\\infty (\\varphi_k(x)-\\varphi_{k-1}(x))在[a,b]上一致收敛 $\n",
    "\n",
    "即$\\{\\varphi_n(x)\\}在[a,b]上一致收敛，不妨设其极限函数为\\varphi^*(x) $,\n",
    "\n",
    "即当$x \\in [a,b]时，\\varphi_n(x)当n \\to \\infty时一致收敛于\\varphi^*(x) $，\n",
    "\n",
    "且由$\\varphi_n(x)得连续性知\\varphi^*(x)在[a,b]上连续，\\varphi_{n+1}(x)=f(x)+\\lambda \\int_a^b $\n",
    "\n",
    "$ K(x,\\xi)\\varphi_n(\\xi)\\mathrm d \\xi,\\ldots，当n \\to \\infty时两边取极限，得 $\n",
    "\n",
    "$\\varphi^*(x)=f(x)+\\lambda \\int_a^b K(x,\\xi)\\varphi^*(x)\\mathrm d \\xi    (|\\lambda|<\\frac{1}{(b-a)L}) $\n",
    "\n",
    "即当$|\\lambda|<\\frac{1}{(b-a)L}$时,积分方程必存在连续解\n",
    "\n",
    "下证当$|\\lambda|<\\frac{1}{(b-a)L}时，\\varphi(x)=f(x)+\\lambda \\int_a^b K(x,\\xi)\\varphi(\\xi)\\mathrm d \\xi$的解得唯一性，用反证法\n",
    "\n",
    "设另有解$\\varphi_m(x)且\\varphi_m(x) \\neq \\varphi^*(x) $，\n",
    "\n",
    "即$ \\varphi_m(x)=f(x)+\\lambda \\int_a^b K(x,\\xi)\\varphi_m(\\xi)\\mathrm d \\xi $\n",
    "\n",
    "记$ G=\\max \\limits_{x \\in [a,b]}|\\varphi^*(x)-\\varphi_m(x)|>0 $\n",
    "\n",
    "$ \\begin{aligned}\n",
    "|\\varphi^*(x)-\\varphi_m(x)|&=|\\lambda \\int_a^b K(x,\\xi)(\\varphi^*(x)-\\varphi_m(\\xi))\\mathrm d \\xi|\\\\ \n",
    "&\\leq |\\lambda| \\int_a^b L |\\varphi^*(x)-\\varphi_m(\\xi)| \\mathrm d \\xi\\\\\n",
    "&=|\\lambda|GL(b-a) \n",
    "\\end{aligned} $\n",
    "\n",
    "即有$G \\leq |\\lambda|GL(b-a),由于G>0,所以，|\\lambda| \\geq \\frac{1}{(b-a)L},与|\\lambda|<\\frac{1}{(b-a)L}$矛盾，唯一性可证。"
   ]
  },
  {
   "cell_type": "markdown",
   "metadata": {
    "collapsed": true
   },
   "source": [
    "# <font color='red'>A  11/10"
   ]
  },
  {
   "cell_type": "code",
   "execution_count": null,
   "metadata": {
    "collapsed": true
   },
   "outputs": [],
   "source": []
  }
 ],
 "metadata": {
  "kernelspec": {
   "display_name": "SageMath 7.3",
   "language": "",
   "name": "sagemath"
  },
  "language_info": {
   "codemirror_mode": {
    "name": "ipython",
    "version": 2
   },
   "file_extension": ".py",
   "mimetype": "text/x-python",
   "name": "python",
   "nbconvert_exporter": "python",
   "pygments_lexer": "ipython2",
   "version": "2.7.10"
  }
 },
 "nbformat": 4,
 "nbformat_minor": 0
}
