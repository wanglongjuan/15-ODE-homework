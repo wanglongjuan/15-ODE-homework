{
 "cells": [
  {
   "cell_type": "markdown",
   "metadata": {},
   "source": [
    "$常微分方程第四次作业$\n",
    "\n",
    "$姓名：常乐                     学号：20157505330$\n"
   ]
  },
  {
   "cell_type": "markdown",
   "metadata": {
    "collapsed": true
   },
   "source": [
    "$$88页3.求初值问题\n",
    "\\left\\{\\begin{array}\\ \\frac{\\mathrm dy}{\\mathrm dx}=x^2-y^2,R:|x+1|≤ 1,|y|≤ 1,\\\\y(-1)=0 \\end{array}\\right.的解的存在区间，并求第二次近似解，给出在解的存在区间的误差估计。$$"
   ]
  },
  {
   "cell_type": "markdown",
   "metadata": {
    "collapsed": true
   },
   "source": [
    "解：\n",
    "$$M=\\max_{\\substack{\n",
    "(x,y)\\in R \\\\\n",
    "}}\n",
    "\\mid f(x,y)\\mid=4\\quad h=\\min｛\\frac{1}{4},1｝=\\frac{1}{4}$$\n",
    "\n",
    "$在R上函数f(x,y)的利普希茨常数L=2$\n",
    "\n",
    "$因为\\frac{\\partial f}{\\partial y}=\\mid-2y\\mid\\leq2\\quad \\varphi_0(x)=0,\\varphi_1(x)=\\int_{-1}^x(t^2-\\varphi_0^2(t))dt=\\frac{x^3}{3}+\\frac{1}{3}$\n",
    "$$\\begin{aligned}\\varphi_2(x) & =\\int_{-1}^x(t^2-\\varphi_1^2(t))dt\\\\\n",
    " & =\\int_{-1}^x(t^2-\\frac{(t^2+1)^2}{9})dt\\\\\n",
    " & =\\frac{x^3}{3}-\\frac{x}{9}-\\frac{x^4}{18}-\\frac{x^7}{63}+\\frac{11}{42}\n",
    "\\end{aligned}$$\n",
    "\n",
    "$由误差估计公式得\\mid\\varphi_2(x)-\\varphi(x)\\mid\\leq\\frac{16}{3}(\\frac{1}{4})^3=\\frac{1}{24}$\n",
    "\n",
    "$所以，已知初值问题的解的存在区间为-\\frac{5}{4}\\leq x\\leq -\\frac{3}{4}$\n",
    "\n",
    "$第二次近似解为y_2=\\frac{x^3}{3}-\\frac{x}{9}-\\frac{x^4}{18}-\\frac{x^7}{63}+\\frac{11}{42}$\n",
    "\n",
    "$在解的存在区间的误差估计为\\mid y-y_2\\mid\\leq\\frac{1}{24}$"
   ]
  },
  {
   "cell_type": "markdown",
   "metadata": {
    "collapsed": true
   },
   "source": [
    "$$89页 6.证明朗沃尔不等式：设K为非负常数，f（t）和g（t）在区间上的连续非负函数，且满足不等式f(t)≤ K+\\int_0^tf(s)g(s)ds,α≤ t≤ β$$\n",
    "$$则有f(t)≤ Kexp(\\int_α^tg(s)ds),α≤ t≤ β并由此证明定理1的命题5$$"
   ]
  },
  {
   "cell_type": "markdown",
   "metadata": {
    "collapsed": true
   },
   "source": [
    "$证明：（1）K>0时，令w(t)=K+\\int_α^tf(s)g(s)ds,$\n",
    "\n",
    "$则w'(t)=f(t)g(t)\\leq g(t)w(t)$\n",
    "\n",
    "$由w(t)>0可得\\frac{w'(t)}{w(t)}\\leq g(t)$\n",
    "\n",
    "$两边从\\alpha到t积分得\\ln w(t)-\\ln w(\\alpha)\\leq\\int_{\\alpha}^tg(s)ds，即有\\frac{w'(t)}{w(t)}\\leq exp(\\int_{\\alpha}^tg(s)ds),w(\\alpha)=K>0$\n",
    "\n",
    "$所以w(t)\\leq Kexp(\\int_{\\alpha}^tg(s)ds)$\n",
    "\n",
    "$即有f(t)\\leq w(t)\\leq Kexp(\\int_{\\alpha}^tg(s)ds)\\quad \\alpha\\leq t\\leq\\beta$\n",
    "\n",
    "$（2）K=0时，对任意 \\varepsilon <0，由于f(t)\\leq\\int_{\\alpha}^tf(s)g(s)ds$\n",
    "\n",
    "$所以f(t)\\leq\\varepsilon +\\int_{\\alpha}^tf(s)g(s)ds$\n",
    "\n",
    "$由(1)，可得f(t)\\leq\\varepsilon exp(\\int_{\\alpha}^tg(s)ds)$\n",
    "\n",
    "$当\\varepsilon\\to 0^+时，有f(t)\\leq0，又因为f(t)\\geq0，即得f(t)\\equiv0，从而f(t)\\leq Kexp(\\int_{\\alpha}^tg(s)ds) \\quad\\alpha\\leq t\\leq\\beta$\n",
    "\n",
    "$由（1）（2）知，格朗沃不等式成立$\n",
    "\n",
    "$$设\\phi(x)是积分方程y=y_0+\\int_{y_0}^xf(x,y)dx\\quad x_0\\leq x\\leq x_0+h的定义于x_0\\leq x\\leq x_0+h上的另一连续解，则\\phi(x)=\\varphi(x)()x_0\\leq x\\leq x_0+h$$\n",
    "\n",
    "$证明：设\\varphi(x),\\phi(x)是初值问题x'=f(t,x),x(t_0)=x_0的两个解，则有\\varphi(x)=x_0+\\int_{t_0}^tf(\\xi,\\varphi(\\xi))d\\xi,\\phi(t)=x_0+\\int_{t_0}^tf(\\xi,\\phi(\\xi))d\\xi$\n",
    "\n",
    "$于是\\mid\\varphi(t)-\\phi(t)\\mid\\leq\\int_{t_0}^t{\\mid f(\\xi,\\varphi(\\xi))-f(\\xi,\\phi(\\xi))\\mid}d\\xi\\leq L\\int_{t_0}^t{\\mid\\varphi(\\xi)-\\phi(\\xi0\\mid}d\\xi$\n",
    "\n",
    "$其中L为得普希茨常数$\n",
    "\n",
    "$由格朗沃不等式可知K=0$\n",
    "\n",
    "$且0\\leq\\mid\\varphi(t)-\\phi(t)\\mid\\leq Kexp(\\int_{t_0}^tLd\\xi)=0$\n",
    "\n",
    "$于是\\varphi(t)=\\phi(t)，即定理1的命题5成立\n",
    "$\n"
   ]
  },
  {
   "cell_type": "markdown",
   "metadata": {
    "collapsed": true
   },
   "source": [
    "$$89页 8.如果函数f（x，y）于带域α≤ x≤ β上连续且关于y满足得普希茨条件，则方程\\frac{\\mathrm dy}{\\mathrm dx}=f(x,y)\n",
    "$$$$满足条件y(x_0)=y_0的解于整个区间[α,β]上存在且唯一，试证明之$$"
   ]
  },
  {
   "cell_type": "markdown",
   "metadata": {
    "collapsed": true
   },
   "source": [
    "解：设$M=max｜f(x,y_0)｜,h=β-α，b=Mh及有常数L使得在域R=｛(x,y)|α≤ x≤ β,|y-y_0|≤b｝中有$\n",
    "\n",
    "$|f(x,y_1)-f(x,y_2)|≤L|y_1-y_2|,(x,y_1),(x,y_2)∈R构造逐步副近函数序列$\n",
    "\n",
    "$\\left\\{\\begin{array}\\ \\varphi_0(x)=y_0\\\\ \\varphi_0(x)=y_0+\\int_{x_0}^x f(ζ,\\varphi_{n-1}(ζ))dx,α≤ x≤ β,n=1,2... \\end{array}\\right.$\n",
    "\n",
    "$因 |\\varphi_1(x)-y_0|=|\\int_{x_0}^x f(ζ,y_0)dx|≤ \\int_{x_0}^x |f(ζ,y_0)dx| ≤M(x-x_0)≤Mh≤b$\n",
    "\n",
    "$可证 |\\varphi_n(x)-\\varphi_{n-1}(x)|≤\\frac{M}{n!}L^{n-1}(β-α)^n$\n",
    "\n",
    "\n",
    "$|\\varphi_{n+1}（x）-\\varphi_n(x)|≤|\\int_{x_0}^x|f(ζ,\\varphi_n(ζ))-f(ζ,\\varphi_{n-1}(ζ))|dζ|≤L|\\int_{x_0}^x|\\varphi_n(ζ)-\\varphi_{n-1}(ζ)|dζ|≤L|\\int_{x_0}^x \\frac{M}{n!}L^{n-1}|ζ-x_0|^ndζ|≤\\frac{M}{(n+1)!}L^n|x-x_0|^{n+1}≤\\frac{M}{(n+1)!}L^n(β-α)^{n+1}$\n",
    "\n",
    "$由于级数\\displaystyle\\sum_{k=1}^{\\infty}\\frac{M}{k!}L^{k-1}(β-α)^k收敛，知级数\\varphi_n(x)=\\varphi_0(x)+\\displaystyle\\sum_{k=1}^{\\infty}[\\varphi_k(x)-\\varphi_{k-1}(x)]在区间[α,β]一致收敛，$\n",
    "\n",
    "$于是存在极限\\lim_{n \\to \\infty} \\varphi_n(x)=\\varphi(x)$\n",
    "\n",
    "$它在区间[α,β]连续且，\\varphi(x)=\\lim_{n \\to \\infty}\\varphi_n(x)=y_0+\\lim_{n \\to \\infty}\\int_{x_0}^xf(ζ,\\varphi_{n-1}(ζ)dx=y_0+\\int_{x_0}^xf(x,\\lim_{n \\to \\infty}\\varphi_{n-1}(\\xi))dζ=y_0+\\int_{x_0}^xf(\\xi,\\varphi(\\xi))d\\xi$\n",
    "\n",
    "$故\\varphi(x)是积分方程也就是微分方程的解，设\\varphi(ζ)，\\psi(x)均满足方程y=y_0+\\int_{x_0}^xf(ζ,y(ζ))dζ,\\alpha≤ x_0≤ \\beta,\\alpha≤ x≤ \\beta$\n",
    "\n",
    "$当x≥x_0时，得用格朗沃尔不等式，由|\\varphi(ζ)-\\psi(x)|≤\\int_{x_0}^x|f(s,\\varphi(s))-f(s,\\psi(s))|ds≤L\\int_{x_0}^x|\\varphi(s)-\\psi(s)|ds$\n",
    "\n",
    "$有|\\varphi(s)-\\psi(s)|≤0，即\\varphi(x)\\equiv \\psi(x)(\\alpha≤ x_0≤ x≤ \\beta)$\n",
    "\n",
    "$同理可证，当\\alpha≤ x_0≤ x≤ \\beta时有\\varphi(x)\\equiv \\psi(x)$\n",
    "\n",
    "$即积分方程也就是微分方程的解是唯一的。$"
   ]
  },
  {
   "cell_type": "markdown",
   "metadata": {
    "collapsed": true
   },
   "source": [
    "$$89页 10.给定积分方程\\varphi(x)=f(x)+\\lambda\\int_a^bK(x,ζ)\\varphi_n(ζ)dζ,其中f(x)是[a,b]上的已知连续函数，K(x,ζ)是a≤ x≤ b,a≤ ζ≤ b上的已知连续函数，证明当|\\lambda|足够小时（\\lambda是常数），（*）在[a,b]上存在唯一的连续解。$$"
   ]
  },
  {
   "cell_type": "markdown",
   "metadata": {
    "collapsed": true
   },
   "source": [
    "$解：作逼近函数序列，取\\varphi_0(x)=f(x)$\n",
    "\n",
    "$令\\varphi_1(x)=f(x)+\\lambda\\int_a^bK(x,\\xi)\\varphi_0(ζ)dζ,......\\varphi_{n+1}=f(x)+\\lambda\\int_a^bK(x,\\xi)\\varphi_n(ζ)dζ...$\n",
    "\n",
    "$$令M=\\max_{\\substack{\n",
    "x\\in[a,b] \\\\\n",
    "}}\n",
    "\\mid f(x) \\mid \\quad L=\\max_{\\substack{\n",
    "x\\in [a,b] \\\\\n",
    "\\xi\\in[a,b]\n",
    "}}\n",
    "\\mid K(x,\\xi)\\mid $$\n",
    "\n",
    "$则|\\varphi_1(x)-\\varphi_0(x)|=|\\lambda \\int_a^b K(x,\\xi)\\varphi_0(\\xi)d\\xi|\\leq|\\lambda||\\int_a^bK(x,\\xi)||f(\\xi)|d\\xi$\n",
    "\n",
    "$假设|\\varphi_k(x)-\\varphi_{k-1}(x)|\\leq|\\lambda|^kL^kM(b-a)^{k}成立$\n",
    "\n",
    "$则有|\\varphi_{k+1}(x)-\\varphi_k(x)|=|\\lambda\\int_a^bK(x,\\xi)(\\varphi_k(\\xi)-\\varphi_{k-1}(\\xi))d\\xi|\\leq |\\lambda|\\int_a^b|K(x,\\xi)||\\varphi_k(\\xi)-\\varphi_{k-1}(\\xi))|d\\xi\\leq|\\lambda|\\int_a^bL^{k+1}|\\lambda|^kM(b-a)^kd\\xi=|\\lambda|^{k+1}L^{k+1}M(b-a)^{k+1}\n",
    "$\n",
    "\n",
    "$由数学归纳法知，对任意的n\\in N，有|\\varphi_n(x)-\\varphi_{n-1}(x)|\\leq ML^n|\\lambda|^n(b-a)^n$\n",
    "\n",
    "$下证｛\\varphi_n(x)｝在[a,b]上一致收敛，考虑级数\\varphi_0(x)+\\displaystyle\\sum_{k=1}^{\\infty}(\\varphi_k(x)-\\varphi_{k-1}(x))$\n",
    "\n",
    "$只需证明该级数在[a,b]上致收敛即可，由于|\\varphi_k(x)-\\varphi_{k-1}(x)|\\leq ML^k|\\lambda|^k(b-a)^k$\n",
    "\n",
    "$当|\\lambda|<\\frac{1}{(b-a)L}时，级数\\displaystyle\\sum_{k=1}^{\\infty} ML^k|\\lambda|^k(b-a)^k收敛，由此可知当|\\lambda|<\\frac{1}{(b-a)L}时$\n",
    "\n",
    "$级数\\varphi_0(x)+\\displaystyle\\sum_{k=1}^{\\infty}(\\varphi_k(x)-\\varphi_{k-1}(x))在[a,b]上一致收敛，即｛\\varphi_n(x)｝在[a,b]上一致收敛，不妨设其极限函数为\\varphi^*(x)，即当x\\in [a,b]时，\\varphi_n(x)当n \\to\\infty时一致收敛于\\varphi^*(x)，且由\\varphi_n(x)的连续性可知\\varphi^*(x)在[a,b]上连续，对迭代列①，当n \\to\\infty时两边取极限，得\\varphi^*(x)=f(x)+\\lambda \\int_a^b K(x,\\xi)\\varphi^*(x)d\\xi(|\\lambda|<\\frac{1}{(b-a)L})$\n",
    "\n",
    "$即\\lambda|<\\frac{1}{(b-a)L}当时，积分方程必存在连续解$\n",
    "\n",
    "$下证当\\lambda|<\\frac{1}{(b-a)L}时（*）方程的解的唯一性，用反证法$\n",
    "\n",
    "$设另有解\\varphi'(x)且，即\\varphi'(x)=f(x)+\\lambda \\int_a^b K(x,\\xi)\\varphi'(x)d\\xi$\n",
    "\n",
    "$$记M'=\\max_{\\substack{\n",
    "x\\in [a,b] \\\\\n",
    "}}\n",
    "\\mid \\varphi^*(x)-\\varphi'(x)\\mid>0\n",
    "$$\n",
    "$\\mid \\varphi^*(x)-\\varphi'(x)\\mid=\\mid\\lambda \\int_a^b K(x,\\xi)(\\varphi^*(\\xi)-\\varphi'(\\xi))\\mid\\leq|\\lambda|\\int_a^bL\\mid\\varphi^*(\\xi)-\\varphi'(\\xi)\\mid d\\xi=\\mid\\lambda\\mid M'L(b-a)$\n",
    "\n",
    "$即有M'\\leq\\mid\\lambda\\mid M'L(b-a),由于M'>0,所以\\mid\\lambda\\mid\\geq\\frac{1}{(b-a)L}$\n",
    "\n",
    "$与|\\lambda|<\\frac{1}{(b-a)L}矛盾$\n",
    "\n",
    "$所以唯一性得证。$"
   ]
  },
  {
   "cell_type": "markdown",
   "metadata": {
    "collapsed": true
   },
   "source": [
    "# <font color='red'>A+  11/10"
   ]
  },
  {
   "cell_type": "code",
   "execution_count": null,
   "metadata": {
    "collapsed": true
   },
   "outputs": [],
   "source": []
  }
 ],
 "metadata": {
  "kernelspec": {
   "display_name": "SageMath 7.3",
   "language": "",
   "name": "sagemath"
  },
  "language_info": {
   "codemirror_mode": {
    "name": "ipython",
    "version": 2
   },
   "file_extension": ".py",
   "mimetype": "text/x-python",
   "name": "python",
   "nbconvert_exporter": "python",
   "pygments_lexer": "ipython2",
   "version": "2.7.10"
  }
 },
 "nbformat": 4,
 "nbformat_minor": 0
}
