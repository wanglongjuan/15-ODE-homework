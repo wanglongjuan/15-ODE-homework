{
 "cells": [
  {
   "cell_type": "markdown",
   "metadata": {
    "collapsed": false
   },
   "source": [
    "# $$作业四$$"
   ]
  },
  {
   "cell_type": "markdown",
   "metadata": {},
   "source": [
    "## 3.求初值问题（P88~89）\n",
    "## $ \\begin{cases}\n",
    "      \\frac{\\mathrm dy}{\\mathrm dx}=x^2-y^2,R:|x+1|≤1,|y|≤1,\\\\\n",
    "      y(-1)=0\n",
    "      \\end{cases}$\n",
    "## 的解的存在区间,并求第二次近似解,给出在解的在存在区间的误差估计."
   ]
  },
  {
   "cell_type": "markdown",
   "metadata": {},
   "source": [
    "解：因为 $M=max{|x^2-y^2|}=4,则h=min(a,\\frac{\\mathrm b}{\\mathrm M})=\\frac{\\mathrm 1}{\\mathrm 4}$\n",
    "解的存在区间为：$$|x-x_0|=|x+1|≤\\frac{\\mathrm 1}{\\mathrm 4}$$\n",
    "近似表达式：\n",
    "$$φ_0(x)=0$$\n",
    "$$φ_1(x)=y_0+\\int_{x_0}^x (x^2-0)\\,\\mathrm{d}x=\\frac{\\mathrm 1}{\\mathrm 3}x^3+\\frac{\\mathrm 1}{\\mathrm 3}$$\n",
    "$$φ_2(x)=y_0+\\int_{x_0}^x (x^2-φ_1(x)^2)\\,\\mathrm{d}x=\\frac{\\mathrm 1}{\\mathrm 3}x^3-\\frac{\\mathrm x }{\\mathrm 9}-\\frac{\\mathrm x^4 }{\\mathrm 18}-\\frac{\\mathrm x^7 }{\\mathrm 63}+\\frac{\\mathrm 11 }{\\mathrm 42}$$\n",
    "$φ_2(x)$是所求的近似解\n",
    "误差估计：$|φ_2(x)-φ(x)|≤\\frac{\\mathrm M*L^2 }{\\mathrm (2+1)!}h^2=\\frac{\\mathrm 11 }{\\mathrm 24}<\\frac{\\mathrm 11 }{\\mathrm 22}=0.5 $\n",
    "\n",
    "$|\\frac{\\partial f(x,y) }{\\partial y}|≤2=L$"
   ]
  },
  {
   "cell_type": "markdown",
   "metadata": {},
   "source": [
    "## 6.证明格朗沃尔(Gronwall)不等式:\n",
    "## 设K为非负常数,$f(t)$和$g(t)$为在区间$\\alpha≤x≤\\beta$上的连续非负函数,且满足不等式$$f(t)≤K+\\int_{\\alpha}^t f(s)g(s)\\,\\mathrm{d}s,\\alpha≤x≤\\beta$$则有$$f(t)≤Kexp(\\int_{\\alpha}^t g(s)\\,\\mathrm{d}s),\\alpha≤x≤\\beta$$并由此证明定理1的命题5."
   ]
  },
  {
   "cell_type": "markdown",
   "metadata": {},
   "source": [
    "证明：令$H(t)=\\int_{\\alpha}^t f(s)g(s)\\,\\mathrm{d}s$,则$H'(t)= f(t)g(t)$\n",
    "$$H'(t)-H(t)g(t)=f(t)g(t)-H(t)g(t)$$\n",
    "$$≤kg(t)H'(t)-H(t)g(t)≤kg(t)$$\n",
    "两边同乘$exp(-\\int_{\\alpha}^t g(s)\\,\\mathrm{d}s)$,则有：\n",
    "$$H'(t)exp(-\\int_{\\alpha}^t g(s)\\,\\mathrm{d}s)-H(t)g(t)exp(-\\int_{\\alpha}^t g(s)\\,\\mathrm{d}s)≤kg(t)exp(-\\int_{\\alpha}^t g(s)\\,\\mathrm{d}s)$$\n",
    "两边从$\\alpha$到$t$积分,得：)\\,\\\n",
    "$$H(t)exp(-\\int_{\\alpha}^t g(s)\\,\\mathrm{d}s)≤-\\int_{\\alpha}^t kg(s)exp(-\\int_{\\alpha}^t g(r)\\,\\mathrm{d}r)\\,\\mathrm{d}s$$\n",
    "$$H(t)≤\\int_{\\alpha}^t kg(s)exp(-\\int_s^t g(r)\\,\\mathrm{d}r)\\,\\mathrm{d}s$$\n",
    "又$$f(t)≤1≤k+kH(t)≤k+k\\int_{\\alpha}^t g(s)exp(-\\int_s^t g(r)\\,\\mathrm{d}r)\\,\\mathrm{d}s≤kexp(\\int_t^s g(r)\\,\\mathrm{d}r)$$\n",
    "$$f(t)≤k\\int_{\\alpha}^t g(r)\\,\\mathrm{d}r$$"
   ]
  },
  {
   "cell_type": "markdown",
   "metadata": {},
   "source": [
    "## 8.如果函数f(x,y)于带域 $\\alpha≤x≤\\beta$上连续且关干y满足利普希茨条件,则方程(3.1)满足条件$y(x_0)=y_0$的解于整个区间$[\\alpha，\\beta]$上存在且唯一.试证明之."
   ]
  },
  {
   "cell_type": "markdown",
   "metadata": {},
   "source": [
    "解：取$$y_0(x)=y_0$$\n",
    "$$y_1(x)=y_0+\\int_{x_0}^x f(\\xi,y_0(\\xi))\\,\\mathrm{d}\\xi$$\n",
    "$$……$$\n",
    "$$y_n(x)=y_0+\\int_{x_0}^x f(\\xi,y_{n-1}(\\xi))\\,\\mathrm{d}\\xi$$\n",
    "$$……①$$"
   ]
  },
  {
   "cell_type": "markdown",
   "metadata": {},
   "source": [
    "易见在上存在且连续.\n",
    "级数：$$y_0(x)+\\sum_{n=1}^{ \\infty}[y_1(x)-y_0(x)],x\\in[\\alpha,\\beta]\\\\…………②$$\n",
    "取$$\n",
    "M=\\max_{\\substack{x\\in[\\alpha,\\beta]\\\\}}\n",
    "\\mid f(x,y_0)\\mid\n",
    "$$\n",
    "由①式有:$$|y_1(x)-y_0(x)|\\leq\\int_{x_0}^x |f(\\xi,y_0(\\xi))|\\,\\mathrm{d}\\xi \\leq M|x-x_0|…………③$$\n",
    "及$$|y_2(x)-y_1(x)|\\leq\\int_{x_0}^x |f(\\xi,y_1(\\xi))-f(\\xi,y_0(\\xi))|\\,\\mathrm{d}\\xi $$\n",
    "利用利普希茨条件及③式,得到:\n",
    "$$|y_2(x)-y_1(x)|\\leq L\\int_{x_0}^x |y_1(\\xi)-y_0(\\xi)|\\,\\mathrm{d}\\xi$$\n",
    "$$\\leq L\\int_{x_0}^x M|\\xi-x_0|\\,\\mathrm{d}\\xi$$\n",
    "由数学归纳法得:$$|y_k(x)-y_{k-1}(x)|\\leq \\frac{\\mathrm ML^{k-1}}{\\mathrm k!}|x-x_0|_k\\leq\\frac{\\mathrm ML^{k-1}}{\\mathrm k!}(\\beta-\\alpha)^k$$\n",
    "上式右端是正项收敛级数$\\sum_{n=1}^{ \\infty}\\frac{\\mathrm ML^{k-1}}{\\mathrm k!}(\\beta-\\alpha)^k$的一般项.\n",
    "\n",
    "根据Weierstrass判别法,知级数②在$\\alpha \\leq \\beta$上一致收敛,因此函数列${y_n(x)}$在$[\\alpha,\\beta]$上一致收敛.\n",
    "\n",
    "设$\\lim_{x\\to\\infty}\\ y_k(x)=y(x)$,易知y(x)在$[\\alpha,\\beta]$上连续,且$f(x,y_n(x))$在上一致收敛于$f(x,y(x))$.\n",
    "\n",
    "所以,对①式两边取极限,即得$y(x)=y_0+\\int_{x_0}^x f(\\xi,y(\\xi))\\,\\mathrm{d}\\xi$,解的存在性得证.解的唯一性显而易见."
   ]
  },
  {
   "cell_type": "markdown",
   "metadata": {},
   "source": [
    "# <font color='red'>唯一性整证明过程"
   ]
  },
  {
   "cell_type": "markdown",
   "metadata": {},
   "source": [
    "## 10.给定积分方程$$\\phi(x)=f(x)+\\lambda \\int_a^b K(x,\\xi)\\phi(\\xi)\\,\\mathrm{d}\\xi$$\n",
    "## 其中$f(x)$是$[a,b]$上的己知连续函数,$K(x,\\xi)$是$a≤x≤b,a≤\\xi≤b$上的己知连续函数.证明当$|\\lambda|$足够小时($\\lambda$是常数),(*)在上存在唯一的连续解."
   ]
  },
  {
   "cell_type": "markdown",
   "metadata": {
    "collapsed": true
   },
   "source": [
    "证明!作逼近序列，取：$$\\phi_0(x)=f(x)$$\n",
    "令$$\\phi_1(x)=f(x)+\\lambda \\int_a^b K(x,\\xi)\\phi_0(\\xi)\\,\\mathrm{d}\\xi,$$\n",
    "$$……$$\n",
    "$$\\phi_{n+1}(x)=f(x)+\\lambda \\int_a^b K(x,\\xi)\\phi_n(\\xi)\\,\\mathrm{d}\\xi,$$\n",
    "$$……①$$\n",
    "令$$M=\\max_{\\substack{x\\in[a,b]\\\\}}\\mid f(x)\\mid$$，$$L=\\max_{\\substack{x\\in[a,b]\\\\ \n",
    "\\xi\\in[a,b]\\\\}}\\mid k(x,\\xi)\\mid>0$$有："
   ]
  },
  {
   "cell_type": "markdown",
   "metadata": {},
   "source": [
    "$$|\\phi_1(x)-\\phi_0(x)|=|\\lambda \\int_a^b K(x,\\xi)\\phi_0(\\xi)\\,\\mathrm{d}\\xi|$$\n",
    "$$\\leq |\\lambda| \\int_a^b |K(x,\\xi)||f(\\xi)|\\,\\mathrm{d}\\xi$$\n",
    "$$\\leq |\\lambda|ML(b-a)$$"
   ]
  },
  {
   "cell_type": "markdown",
   "metadata": {},
   "source": [
    "假设$|\\phi_k(x)-\\phi_{k-1}(x)|\\leq |\\lambda|^kML(b-a)^k$成立，则有：\n",
    "$$|\\phi_{k+1}(x)-\\phi_{k}(x)|=|\\lambda \\int_a^b K(x,\\xi)(\\phi_k(\\xi)-\\phi_{k-1}(\\xi))\\,\\mathrm{d}\\xi|$$\n",
    "$$\\leq |\\lambda| \\int_a^b |K(x,\\xi)||\\phi_k(\\xi)-\\phi_{k-1}(\\xi)|\\,\\mathrm{d}\\xi$$\n",
    "$$\\leq |\\lambda|^{k+1}ML^{k+1}(b-a)^{k+1}$$\n",
    "由数学归纳法得:对于任意$n\\in N$,有：$$|\\phi_n(x)-\\phi_{n-1}(x)|\\leq |\\lambda|^nML(b-a)^n$$\n",
    "级数：$$\\phi_0(x)+\\sum_{n=1}^{ \\infty}[\\phi_k(x)-\\phi_{k-1}(x)],…………②$$\n",
    "取$$\n"
   ]
  },
  {
   "cell_type": "markdown",
   "metadata": {},
   "source": [
    "级数的前$n$项和为:\n",
    "$$\\phi_0(x)+\\sum_{n=1}^{ \\infty}[\\phi_k(x)-\\phi_{k-1}(x)]=\\phi_n(x).$$\n",
    "故而，由于：$$|\\phi_k(x)-\\phi_{k-1}(x)|\\leq |\\lambda|^kML(b-a)^k$$\n",
    "当$|\\lambda|<\\frac{\\mathrm 1}{\\mathrm L(b-a)}$时,级数$\\sum_{n=1}^{ \\infty}[|\\lambda|^kML(b-a)^k]$收敛,由此可知当$|\\lambda|<\\frac{\\mathrm 1}{\\mathrm L(b-a)}$时,级数②在$[a,b]$上一致收敛.\n",
    "设极限函数为$\\phi^*(x)$,即$x\\in[a,b]$时,当$x \\to \\infty$时,$\\phi^n(x)$一致收敛于$\\phi^*$,则由$\\phi_n(x)$的连续性知$\\phi^*(x)$在$[a,b]$上连续,对迭代序列①,当时两边取极限,得:\n",
    "$$\\phi^*(x)=f(x)+\\lambda \\int_a^b K(x,\\xi)\\phi^*(\\xi)\\,\\mathrm{d}\\xi$$\n",
    "当$|\\lambda|<\\frac{\\mathrm 1}{\\mathrm L(b-a)}$时,积分方程必存在连续解."
   ]
  },
  {
   "cell_type": "markdown",
   "metadata": {},
   "source": [
    "用反证法求解的惟一性.\n",
    "设另有解$\\phi^{,}(x)$且$\\phi^{,}(x)≠\\phi^*(x)$,即\n",
    "$$\\phi^{,}(x)=f(x)+\\lambda \\int_a^b K(x,\\xi)\\phi^{,}(\\xi)\\,\\mathrm{d}\\xi$$\n",
    "记$$Q=\\max_{\\substack{x\\in[a,b]\\\\}}\\mid |\\phi^*(x)-\\phi^{,}(x)|\\mid>0$$\n",
    "$$|\\phi^*(x)-\\phi^{,}(x)|=|\\lambda \\int_a^b K(x,\\xi)(\\phi^*(\\xi)-\\phi^{,}(\\xi))\\,\\mathrm{d}\\xi|$$\n",
    "$$=|\\lambda|QL(b-a)$$\n",
    "$$\\leq |\\lambda| \\int_a^b |K(x,\\xi)||\\phi^*(\\xi)-\\phi^{,}(\\xi)|\\,\\mathrm{d}\\xi$$\n",
    "即有$Q\\leq |\\lambda|QL(b-a)$由于$Q>0$所以$|\\lambda|\\geq \\frac{\\mathrm 1}{\\mathrm L(b-a)}$,与$|\\lambda|<\\frac{\\mathrm 1}{\\mathrm L(b-a)}$有矛盾,唯一性得证."
   ]
  },
  {
   "cell_type": "markdown",
   "metadata": {
    "collapsed": true
   },
   "source": [
    "# <font color='red'>A  11/10"
   ]
  },
  {
   "cell_type": "code",
   "execution_count": null,
   "metadata": {
    "collapsed": true
   },
   "outputs": [],
   "source": []
  }
 ],
 "metadata": {
  "kernelspec": {
   "display_name": "Python 2",
   "language": "python",
   "name": "python2"
  },
  "language_info": {
   "codemirror_mode": {
    "name": "ipython",
    "version": 2
   },
   "file_extension": ".py",
   "mimetype": "text/x-python",
   "name": "python",
   "nbconvert_exporter": "python",
   "pygments_lexer": "ipython2",
   "version": "2.7.10"
  }
 },
 "nbformat": 4,
 "nbformat_minor": 0
}
