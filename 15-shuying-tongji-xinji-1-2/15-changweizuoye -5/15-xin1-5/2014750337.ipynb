{
 "cells": [
  {
   "cell_type": "markdown",
   "metadata": {
    "collapsed": false
   },
   "source": [
    "# 作业4\n",
    "**P88**  \n",
    "**3.求初值问题**"
   ]
  },
  {
   "cell_type": "markdown",
   "metadata": {},
   "source": [
    "\\begin{cases}\n",
    "\\frac{\\mathrm d y}{\\mathrm d x}=x^2-y^2,R:|x+1|\\leq 1,|y|\\leq 1\\\\\n",
    "y(-1)=0\n",
    "\\end{cases}"
   ]
  },
  {
   "cell_type": "markdown",
   "metadata": {},
   "source": [
    "**的解得存在区间，并求第二次近似解，给出在解的存在空间的误差估计**"
   ]
  },
  {
   "cell_type": "markdown",
   "metadata": {},
   "source": [
    "**解：** 因为 $M=max(|x^2-y^2|)=4$,则$h=min(a,\\frac{b}{M})=\\frac{1}{4}$  \n",
    "所以界的存在区间为$|x-x_0|=|x-(-1)|=|x+1|\\leq \\frac{1}{4}$  \n",
    "令$\\psi(x)=0$，有  \n",
    "$\\psi_1(x)=y_0+\\int_{x_0}^x {(x^2-0)\\,\\mathrm d x}=\\frac{1}{3}x^2+\\frac{1}{3}$  \n",
    "$\\psi_2(x)=y_0+\\int_{-1}^x {[x^2-(\\frac{1}{3}x^2+\\frac{1}{3})^2]\\,\\mathrm d x}=\\frac{x^3}{3}-\\frac{x}{9}-\\frac{x^4}{18}-\\frac{x^7}{63}+\\frac{11}{42}$  \n",
    "又因为$|\\frac{\\partial f(x,y)}{\\partial y}|\\leq 2=L$  \n",
    "所以误差估计为：$|\\psi_2(x)-\\psi(x)|\\leq \\frac{M*L^2}{(2+1)^2}h^3=\\frac{11}{24}$"
   ]
  },
  {
   "cell_type": "markdown",
   "metadata": {},
   "source": [
    "**6.证明格朗沃尔（Gronwall）不等式**  \n",
    "  **设$K$为非负常数，$f(t)$和$g(t)$为在区间$\\alpha\\leq t\\leq\\beta$上的连续非负函数，且满足不等式$$f(t)\\leq K+\\int_a^t {f(s)g(s)\\,\\mathrm d s},\\alpha\\leq t\\leq\\beta,$$则有$$f(t)\\leq Kexp(\\int_a^t {g(s)\\,\\mathrm d s}),\\alpha\\leq t\\leq\\beta$$并由此证明定理1的命题5**"
   ]
  },
  {
   "cell_type": "markdown",
   "metadata": {},
   "source": [
    "**解：**不等式证明：令\n",
    "\\begin{cases}\n",
    "f_0(t)=K,\\\\\n",
    "f_n(t)\\leq K+\\int_a^t {f_{n-1}(s)g(s)\\,\\mathrm d s},\\alpha\\leq t\\leq\\beta,(n=1,2,...)\n",
    "\\end{cases}\n",
    "现在用数学归纳法证明$f_{n-1}(t)-f_n(t)\\leq\\frac{K}{(n+1)!}[\\int_a^t {g(s)\\,\\mathrm d s}]^{n+1}$:  \n",
    "当$n=0$时，设$n=m-1$时成立，则\n",
    "\\begin{align}\n",
    "f_{m+1}(t)-f_m(t)&\\leq\\int_a^t {[f_m(s)-f_{m-1}(s)]g(s)\\,\\mathrm d s}\\\\\n",
    "&\\leq\\int_a^t {\\frac{K}{m!}[\\int_a^s {g(s)\\,\\mathrm d s}]^mg(s)\\,\\mathrm d s}\\\\\n",
    "&=\\int_a^t {\\frac{K}{m!}[\\int_a^s {g(s)\\,\\mathrm d s}]^m\\,\\mathrm d {(\\int_a^s {g(s)\\,\\mathrm d s)}}}\\\\\n",
    "&=\\frac{K}{m!(m+1)}[\\int_a^s {g(s)\\,\\mathrm d s}]^{m+1}\\\\\n",
    "&=\\frac{K}{(m+1)!}[\\int_a^s {g(s)\\,\\mathrm d s}]^{m+1}\n",
    "\\end{align}\n",
    "即对任意n均成立$f_{n-1}(t)-f_n(t)\\leq\\frac{K}{(n+1)!}[\\int_a^t {g(s)\\,\\mathrm d s}]^{n+1}$，从而$$f_n(t)=\\sum_{k=0}^n{\\frac{K}{k!}[\\int_a^t {g(s)\\,\\mathrm d s}]^k}$$\n",
    "设$|\\int_{\\alpha}^{\\beta}{g(t)\\,\\mathrm d t}|\\leq M$ .于是对$$f_n(t)=f_0(t)+\\sum_{k=1}^n{[f_k(t)-f_{k-1}(t)]}$$\n",
    "有\n",
    "\\begin{align}\n",
    "|f_{n-1}(t)-f_n(t)|&\\leq\\frac{K}{(n+1)!}(|\\int_a^t {g(s)\\,\\mathrm d s}|)^{n+1}\\\\\n",
    "&=\\frac{K}{(n+1)!}M^{n+1}\n",
    "\\leq Ke^M,\n",
    "\\end{align}\n",
    "即在区间$\\alpha\\leq t\\leq\\beta$上$\\{f_n(t)\\}$一致收敛.当$n \\to +\\infty$时有\n",
    "\\begin{align}\n",
    "f(t)&\\equiv\\lim_{n\\to\\infty}{f_n(t)}\n",
    "\\leq K+\\int_a^t {\\lim_{n\\to\\infty}{f_{n-1}(s)g(s)\\,\\mathrm d s}}\\\\\n",
    "f(t)&\\leq K+\\int_a^t {f(s)g(s)\\,\\mathrm d s}\\\\\n",
    "且f(t)&\\leq K\\sum_{k=0}^{\\infty}{\\frac{1}{k!}[\\int_a^t {g(s)\\,\\mathrm d s}]^k}=Kexp(\\int_a^t {g(s)\\,\\mathrm d s})\n",
    "\\end{align}\n",
    "定理1命题5证明：要证当$\\phi(t)$、$\\psi(t)$均满足积分方程$$y=y_0+\\int_{x_0}^x {f(x,y)\\,\\mathrm d x},x_0\\leq x\\leq x_0+h$$时应有$\\phi(x)=\\psi(x)(x_0\\leq x\\leq x_0+h)$.由利普希茨条件$|f(x,\\phi(x))-f(x,\\psi(x))|\\leq L|\\phi(x)-\\psi(x)(x_0\\leq x\\leq x_0+h)|$得\n",
    "\\begin{align}\n",
    "|\\phi(x)-\\psi(x)|&\\leq\\int_{x_0}^x{|f(x,\\phi(x))-f(x,\\psi(x))|\\,\\mathrm d x}\\\\\n",
    "&\\leq\\int_{x_0}^x{L|\\phi(x)-\\psi(x)|\\,\\mathrm d x}\n",
    "\\end{align}\n",
    "利用格朗沃尔不等式，由$K=0$，当$x_0\\leq x\\leq x_0+h$时有$$0\\leq |\\phi(x)-\\psi(x)|\\leq Kexp[\\int_{x_0}^x {L\\,\\mathrm d s}]=0$$"
   ]
  },
  {
   "cell_type": "markdown",
   "metadata": {},
   "source": [
    "**8.如果函数$f(x,y)$于带域$\\alpha\\leq x\\leq\\beta$上连续且关于$y$满足利普希茨条件，则方程$(3.1)$满足条件$y(x_0)=y_0$的解于整个区间$[\\alpha,\\beta]$上存在且唯一.试证明之.**"
   ]
  },
  {
   "cell_type": "markdown",
   "metadata": {},
   "source": [
    "**解：**设$$M=\\max_{\\substack{x\\in[\\alpha,\\beta]\\\\}}\\mid f(x,y_0)\\mid,$$ $h=a=\\beta-\\alpha$,$b=Mh$以及有某常数L使得在域$R=\\{(x,y)|\\alpha\\leq x\\leq\\beta,|y-y_0|\\leq b\\}$中有$|f(x,y_1)-f(x,y_2)|\\leq L|y_1-y_2|,(x,y_1),(x,y_2)\\in R$  \n",
    "构造逐步逼近函数序列\n",
    "\\begin{cases}\n",
    "\\phi_0(x)=y_0,\\\\\n",
    "\\phi_n(x)=y_0+\\int_{x_0}^x {f(x,\\phi_{n-1}(x))\\,\\mathrm d x}，\\alpha\\leq x\\leq\\beta，n=1,2,...\n",
    "\\end{cases}\n",
    "因$$|\\phi_1(x)-y_0|=|\\int_{x_0}^x {f(x,y_0)\\,\\mathrm d x}|\\leq\\int_{x_0}^x {|f(x,y_0)|\\,\\mathrm d x}\\leq M(x-x_0)\\leq Mh\\leq b$$\n",
    "可证$$|\\phi_n(x)-\\phi_{n-1}(x)|\\leq\\frac{M}{n!}L^{n-1}(\\beta-\\alpha)^n$$\n",
    "事实上， 有\n",
    "\\begin{align}\n",
    "|\\phi_{n+1}(x)-\\phi_n(x)|&\\leq|\\int_{x_0}^x {|f(x,\\phi_n(x))-f(x,\\phi_{n-1}(x))|\\,\\mathrm d x}|\\\\\n",
    "&\\leq L\\int_{x_0}^x {L\\phi_n(x)-\\phi_{n-1}(x)\\,\\mathrm d x}|\\\\\n",
    "&\\leq L\\int_{x_0}^x {\\frac{M}{n!}L^{n-1}|x-x_0|^n\\,\\mathrm d x}|\\\\\n",
    "&\\leq\\frac{M}{(n+1)!}L^n|x-x_0|^{n+1}\\\\\n",
    "&\\leq\\frac{M}{(n+1)!}L^n(\\beta-\\alpha)^{n+1}\n",
    "\\end{align}\n",
    "因级数$$\\sum_{k-1}^{\\infty}\\frac{M}{k!}L^{k-1}(\\beta-\\alpha)^k$$收敛，可知级数$$\\phi_n(x)=\\phi_0(x)+\\sum_{k=1}^{n}{[\\phi_k(x)-\\phi_{k-1}(x)]}$$在区间一致收敛.于是存在极限$\\lim\\limits_{n\\to\\infty}{\\phi_n(x)}=\\phi(x)$，它在区间$[\\alpha,\\beta]$连续，且\n",
    "\\begin{align}\n",
    "\\phi(x)&=\\lim\\limits_{n\\to\\infty}{\\phi_n(x)}=y_0+\\lim\\limits_{n\\to\\infty}{\\int_{x_0}^x {f(x,\\phi_{n-1}(x))\\,\\mathrm d x}}\\\\\n",
    "&=y_0+\\int_{x_0}^x {f(x,\\lim\\limits_{n\\to\\infty}{\\phi_{n-1}(x))\\,\\mathrm d x}}\\\\\n",
    "&=y_0+\\int_{x_0}^x {f(x,\\phi(x))\\,\\mathrm d x}\n",
    "\\end{align}\n",
    "故$\\phi(x)$是积分方程也就是微分方程的解  \n",
    "设$\\phi(x),\\psi(x)$均满足积分方程$$y=y_0+\\int_{x_0}^x {f(x,y)\\,\\mathrm d x},\\alpha\\leq x_0,x\\leq\\beta$$\n",
    "当$x\\geq x_0$时利用格朗沃尔不等式，由\n",
    "\\begin{align}\n",
    "|\\phi(x)-\\psi(x)|&\\leq\\int_{x_0}^x{|f(x,\\phi(x))-f(x,\\psi(x))|\\,\\mathrm d x}\\\\\n",
    "&\\leq\\int_{x_0}^x{L|\\phi(x)-\\psi(x)|\\,\\mathrm d x}\n",
    "\\end{align}\n",
    "有$|\\phi(x)-\\psi(x)|\\leq0$，即$\\phi(x)\\equiv\\psi(x)(\\alpha\\leq x_0\\leq x\\leq\\beta)$.同样当$\\alpha\\leq x\\leq x_0$时由\n",
    "\\begin{align}\n",
    "|\\phi(x)-\\psi(x)|&\\leq\\int_{x_0}^x{|f(x,\\phi(x))-f(x,\\psi(x))|\\,\\mathrm d x}\\\\\n",
    "&\\leq\\int_{x_0}^x{L|\\phi(x)-\\psi(x)|\\,\\mathrm d x}\n",
    "\\end{align}\n",
    "有$|\\phi(x)-\\psi(x)|\\leq0$，即$\\phi(x)\\equiv\\psi(x)(\\alpha\\leq x\\leq x_0\\leq\\beta)$.所以积分方程也就是微分方程的解是唯一的"
   ]
  },
  {
   "cell_type": "markdown",
   "metadata": {},
   "source": [
    "**10.给定积分方程$$\\phi(x)=f(x)+\\lambda\\int_{a}^b{K(x,\\xi)\\phi(\\xi)\\,\\mathrm d {\\xi}},(*)$$其中$f(x)$是$[a,b]$上的已知连续函数，$K(x,\\xi)$是$a\\leq x \\leq b,a\\leq \\xi \\leq b$上的已知连续函数.证明当$|\\lambda|$足够小时（$\\lambda$是常数），$(*)$在[a,b]上存在唯一的连续解.**"
   ]
  },
  {
   "cell_type": "markdown",
   "metadata": {},
   "source": [
    "**解：**构造逐步逼近函数序列\n",
    "\\begin{cases}\n",
    "\\phi_0(x)=f(x),\\\\\n",
    "\\phi_n(x)=f(x)+\\lambda\\int_a^b {k(x,s)\\phi_{n-1}(s)\\,\\mathrm d s}，(n=1,2,...)\n",
    "\\end{cases}\n",
    "显然，对所有正整数n,$\\phi_n(x)$在区间$a\\leq x \\leq b$上定义且连续.  \n",
    "接下来证明函数序列$\\phi_k(x)$在区间$a\\leq x \\leq b$上一致收敛.考虑函数级数$$\\phi_0(x)+\\sum_{j=1}^{\\infty}{[\\phi_j(x)-\\phi_{j-1}(x)]},a\\leq x \\leq b.$$\n",
    "其部分和为$$\\phi_0(x)+\\sum_{j=1}^{\\infty}{[\\phi_j(x)-\\phi_{j-1}(x)]}=\\phi_k(x).$$\n",
    "因此，证明函数序列$\\{\\phi_k(x)\\}$在区间$a\\leq x \\leq b$上一致收敛即是证明级数$$\\phi_0(x)+\\sum_{j=1}^{\\infty}{[\\phi_j(x)-\\phi_{j-1}(x)]},a\\leq x \\leq b$$在区间$a\\leq x \\leq b$上一致收敛.因为$f(x)$和$k(x,\\xi)$在闭区间$x\\in[a,b]$及$x\\in[a,b],\\xi\\in[a,b]$上连续，\n",
    "因此有$$|f(x)\\leq L|,|k(x,\\xi)|\\leq K,a\\leq x \\leq b,a\\leq \\xi \\leq b$$  \n",
    "取$M=|\\lambda|K(b-a)$.由$(*)$，有\n",
    "\\begin{align}\n",
    "|\\phi_1(x)-\\phi_0(x)|&=|\\phi_1(x)-f(x)|\\leq|\\lambda|\\int_a^b{|k(x,s)||\\phi_0(s)|\\,\\mathrm d s}\\\\\n",
    "&\\leq|\\lambda| KL(b-a)=LM\n",
    "\\end{align}\n",
    "于是\n",
    "\\begin{align}\n",
    "|\\phi_2(x)-\\phi_1(x)|&\\leq|\\lambda|\\int_a^b{|k(x,s)||\\phi_1(s)-\\phi_0(s)|\\,\\mathrm d s}\\\\\n",
    "&\\leq|\\lambda|\\int_a^b{KLM\\,\\mathrm d s}=LM^2\n",
    "\\end{align}\n",
    "现在设$|\\phi_1(x)-\\phi_0(x)|\\leq LM^j$成立，  \n",
    "则由$(*)$ ，有\n",
    "\\begin{align}\n",
    "|\\phi_{j+1}(x)-\\phi_j(x)|&\\leq|\\lambda|\\int_a^b{|k(x,s)||\\phi_j(s)-\\phi_{j-1}(s)|\\,\\mathrm d s}\\\\\n",
    "&\\leq|\\lambda|KLM^j(b-a)=LM^{j+1}\n",
    "\\end{align}\n",
    "由数学归纳法，对一切j成立$|\\phi_1(x)-\\phi_0(x)|\\leq LM^j$，可取$|\\lambda|$足够小使得$M<\\frac{1}{2}$.  \n",
    "从而级数$$\\sum_{k=1}^{\\infty}{LM^k}$$.由函数项级数一致收敛的魏氏判别法，级数$$\\phi_0(x)+\\sum_{j=1}^{\\infty}{[\\phi_j(x)-\\phi_{j-1}(x)]},a\\leq x \\leq b.$$在$a\\leq x\\leq b$上一致收敛.因此函数序列$\\{\\phi_k(x)\\}$也在$a\\leq x\\leq b$上一致收敛.设$$\\lim\\limits_{k\\to+\\infty}{\\phi_k(x)}=\\phi(x)$$\n",
    "因为$\\phi(x)$是$\\phi_k(x)$的一致收敛极限函数，故$\\phi(x)$也在区间$a\\leq x\\leq b$上连续，对逐步逼近函数序列，两边取极限\n",
    "\\begin{align}\n",
    "\\lim\\limits_{n\\to\\infty}{\\phi_n(x)}&=f(x)+\\lambda\\int_a^b {k(x,s)\\lim\\limits_{n\\to\\infty}{\\phi_{n-1}(s)}\\,\\mathrm d s},\\\\\n",
    "\\phi(x)&=f(x)+\\lambda\\int_a^b {k(x,s)\\phi(s)\\,\\mathrm d s}\n",
    "\\end{align}\n",
    "即$\\phi/(x)$是积分方程$(*)$在区间$a\\leq x\\leq b$上的连续解.  \n",
    "设$\\psi(x)$是积分方程$(*)$在区间$a\\leq x\\leq b$上的另一个连续解，即$$\\psi(x)=f(x)+\\lambda\\int_a^b {k(x,s)\\psi(s)\\,\\mathrm d s}$$\n",
    "因为$$\\max_{\\substack{a\\leq x\\leq b\\\\}}\\mid\\phi(x)-\\psi(x)\\mid$$存在,  \n",
    "且$|\\lambda|K(b-a)=M<\\frac{1}{2}$,有\n",
    "\\begin{align}\n",
    "\\max_{\\substack{a\\leq x\\leq b\\\\}}\\mid\\phi(x)-\\psi(x)\\mid&\\leq\\max_{\\substack{a\\leq x\\leq b\\\\}}(\\mid\\lambda\\mid\\int_a^b {\\mid k(x,s)\\mid\\mid\\phi(x)-\\psi(x)\\mid\\psi(s)\\,\\mathrm d s})\\\\\n",
    "&\\leq\\max_{\\substack{a\\leq x\\leq b\\\\}}(\\mid\\lambda\\mid\\int_a^b {K\\mid\\phi(x)-\\psi(x)\\mid\\,\\mathrm d s})\\\\\n",
    "&\\leq\\mid\\lambda\\mid K\\max_{\\substack{a\\leq x\\leq b\\\\}}\\mid\\phi(x)-\\psi(x)\\mid\\\\\n",
    "&=M\\max_{\\substack{a\\leq x\\leq b\\\\}}|\\phi(x)-\\psi(x)|\\\\\n",
    "&<\\frac{1}{2}\\max_{\\substack{a\\leq x\\leq b\\\\}}\\phi(x)-\\psi(x)|\n",
    "\\end{align}\n",
    "所以$$\\max_{\\substack{a\\leq x\\leq b\\\\}}\\mid\\phi(x)-\\psi(x)\\mid=0,$$  即$\\phi(x)=\\psi(x),a\\leq x\\leq b$.  \n",
    "因此$(*)$在$[a,b]$上存在唯一解."
   ]
  },
  {
   "cell_type": "markdown",
   "metadata": {},
   "source": [
    "# <font color='red'>A  11/10"
   ]
  },
  {
   "cell_type": "code",
   "execution_count": null,
   "metadata": {
    "collapsed": true
   },
   "outputs": [],
   "source": []
  }
 ],
 "metadata": {
  "kernelspec": {
   "display_name": "Python 2",
   "language": "python",
   "name": "python2"
  },
  "language_info": {
   "codemirror_mode": {
    "name": "ipython",
    "version": 2
   },
   "file_extension": ".py",
   "mimetype": "text/x-python",
   "name": "python",
   "nbconvert_exporter": "python",
   "pygments_lexer": "ipython2",
   "version": "2.7.10"
  }
 },
 "nbformat": 4,
 "nbformat_minor": 0
}
