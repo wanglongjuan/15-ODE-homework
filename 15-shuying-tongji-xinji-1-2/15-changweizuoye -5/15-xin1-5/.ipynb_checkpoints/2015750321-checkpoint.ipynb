{
 "cells": [
  {
   "cell_type": "markdown",
   "metadata": {},
   "source": [
    "$P_{86}$"
   ]
  },
  {
   "cell_type": "markdown",
   "metadata": {},
   "source": [
    "3求初值问题$\\begin{cases} \\frac{dy}{dx}=x^2-y^2\\\\y(-1)=0 \\end{cases}$$R:|x+1|\\leq1,|y|\\leq1$的解存在区间，并求第二次近似解，给出在解得存在区间的误差估计。"
   ]
  },
  {
   "cell_type": "markdown",
   "metadata": {},
   "source": [
    "解：易知$M=\\max\\limits_{(x,y) \\in R} \\mid f(x,y)\\mid = 4,h= min[1,\\frac{1}{4}]=\\frac{1}{4},$\n",
    "\n",
    "在R上函数$f(x,y)=x^2-y^2的利普希茨常数L=2,$\n",
    "\n",
    "\n",
    "因为$$\\frac{\\partial f}{\\partial y}=\\mid -2y\\mid \\leq 2.$$\n",
    "\n",
    "\n",
    "$$\\varphi_0(x)=0,\\varphi_1(x)=\\int_x^{-1} \\mathrm(t^2-\\varphi_0^2(t))\\,\\mathrm{d}t=\\frac{x^3}{3}+\\frac{1}{3},$$\n",
    "\n",
    "\n",
    "$$\\varphi_2=\\int_x^{-1} \\mathrm(t^2-\\varphi_0^2(t))\\,\\mathrm{d}t=\\frac{x^3}{3}-\\frac{x}{9}-\\frac{x^4}{18}-\\frac{x^7}{63}+\\frac{11}{42}$$\n",
    "\n",
    "\n",
    "有误差公式计算得$$\\mid \\varphi_2(x)-\\varphi(x)\\mid\\leq\\frac{4·2^2}{3!}·(\\frac{1}{4})^3=\\frac{1}{24}.$$\n",
    "\n",
    "\n",
    "所以，已知初值问题的解存在区间为：$$\\frac{-5}{4}\\leq x \\leq \\frac{-3}{4},$$\n",
    "\n",
    "\n",
    "第二次近似解为$$y^2=\\frac{x^3}{3}-\\frac{x}{9}-\\frac{x^4}{18}-\\frac{x^7}{63}+\\frac{11}{42}$$\n",
    "\n",
    "\n",
    "再接的存在区间的误差估计为:$$\\mid y-y_2\\mid\\leq \\frac{1}{24}.$$\n"
   ]
  },
  {
   "cell_type": "markdown",
   "metadata": {},
   "source": [
    "6.证明格朗沃尔（Gronwall）不等式:\n",
    "设k为非负数，f（t）和g(t)为区间$α\\leq t \\leq β$上连续非负函数，且满足不等式$$f(t)\\leq K+\\int_\\alpha^t \\mathrm f(s)g(s)\\,\\mathrm{d}s,\\alpha\\leq t \\leq \\beta,$$\n",
    "\n",
    "则有$$f(t)\\leq Kexp(\\int_\\alpha^t \\mathrm g(s)\\mathrm{d}s),\\alpha \\leq t\\leq \\beta $$\n",
    "\n",
    "并由此证明定理1和定理5。"
   ]
  },
  {
   "cell_type": "markdown",
   "metadata": {},
   "source": [
    "证明：（1）$k> 0时$，令$$w(t)=K+\\int_\\alpha^t \\mathrm f(s)g(s)\\,\\mathrm{d}s,$$\n",
    "\n",
    "则$$ w'(t）=f(t)g(t)\\leq g(t)w(t),$$\n",
    "\n",
    "由w(t)>0可得$\\frac{w'(t)}{w(t)} \\leq g(t),$\n",
    "\n",
    "两边从$ \\alpha 到 t积分得lnw(t)-lnw(\\alpha)\\leq \\int_\\alpha^t g(s)\\,\\mathrm{d}s,即有$\n",
    "\n",
    "$$\\frac{w(t)}{w(\\alpha)} \\leq exp(\\int_\\alpha^t g(s)\\,\\mathrm{d}s),w(\\alpha)=K>0$$\n",
    "\n",
    "所以$$w(t)\\leq K·exp（\\int_\\alpha^t g(s)\\,\\mathrm{d}s）,$$\n",
    "\n",
    "即有$$f(t)\\leq w(t) \\leq K·exp（\\int_\\alpha^t  g(s)\\,\\mathrm{d}s）, \\alpha\\leq t \\leq \\beta$$"
   ]
  },
  {
   "cell_type": "markdown",
   "metadata": {},
   "source": [
    "8.如果函数f(x,y)于带域 $\\alpha \\leq x \\leq \\beta 上连续且关于y满足利普希茨条件$，则方程$\\frac{dy}{dx}=f(x,y)满足条件y(x_0)=y_0$的解在区间$[\\alpha,\\beta]$上存在且唯一。试证之。(提示：用逐步逼近法)"
   ]
  },
  {
   "cell_type": "markdown",
   "metadata": {},
   "source": [
    "证明：设$M=\\max\\limits_{x\\in [\\alpha,\\beta]} \\mid f(x,y_0)\\mid , h= \\beta -\\alpha , b=M h$\n",
    "\n",
    "及常数L使得在域 $ R={（x,y） \\mid \\alpha \\leq x \\leq \\beta,\\mid y-y_0 \\mid \\leq b}$ 中有$$\\mid f(x,y_1)-f(x,y_2) \\mid \\leq L \\mid y_1-y_2 \\mid ,(x, y_1),(x,y_2) \\in R.$$\n",
    "\n",
    "$$及|y_2(x)-y_1(x)|\\leq\\int_{x_o}^{x}|f(\\gamma,y_1(\\gamma))-f(\\gamma,y_o(\\gamma))|d\\gamma.$$利用利普希茨条件得到\n",
    "\n",
    "$$y_2(x)-y_1(x)|\\leq L\\int_{x_o}^{x}|y_1(\\gamma)-y_o(\\gamma)|d\\gamma\\leq L\\int_{x_o}{x}M|\\gamma-x_o|d\\gamma=\\frac{ML}{2!}(x-x_o)^2.$$\n",
    "\n",
    "于是,由数学归纳法知，$$|y_k(x)-y_{k-1}(x)|\\leq\\frac {ML^{K-1}}{k!}|x-x_o|^k\\leq\\frac {ML^{k-1}}{{k!}}(\\beta-\\alpha)^k.$$\n",
    "\n",
    "$上式右端是正项收敛级数\\displaystyle\\sum_{k=1}^{\\infty}\\frac {ML^{k-1}}{k!}(\\beta-\\alpha)^k的一般项.\n",
    "由判别法知在\\alpha\\leq x\\leq\\beta上一致收敛$\n",
    "\n",
    "$因而函数列{y_n(x)}在[\\alpha,\\beta]上一致收敛.现设\\lim\\limits_{n\\rightarrow\\infty}y_n(x)=y(x),易知y(x)在[\\alpha,\\beta]上连续，\n",
    "且{f（x,y_n(x))}在[\\alpha,\\beta]上一致收敛于f(x,y(x)).$\n",
    "\n",
    "$因而，对前式两边取极限，即得y(x)=y_o+\\int_{x_o}^{x}f(\\gamma,y(\\gamma))d\\gamma,解的存在性得证$\n"
   ]
  },
  {
   "cell_type": "markdown",
   "metadata": {},
   "source": [
    "# <font color='red'>唯一性？？"
   ]
  },
  {
   "cell_type": "markdown",
   "metadata": {
    "collapsed": true
   },
   "source": [
    "10.$\\quad给定积分方程\\varphi(x)=f(x)+C\\int_{a}^{b}K(x,\\gamma)\\varphi(\\gamma)d\\gamma,其中f(x)是[a,b]上的已知连续函数，\n",
    "K(x,\\gamma)是a\\leq x\\leq b,a\\leq \\gamma\\leq b上的已知连续函数\n",
    "$证明当|C|足够小时（C是常数），上式在[a,b]上存在唯一的连续解$"
   ]
  },
  {
   "cell_type": "markdown",
   "metadata": {
    "collapsed": true
   },
   "source": [
    "构造逐步逼近函数序列，取$\\varphi_0(x)=f(x)$\n",
    "\n",
    "令$$\\varphi_1(x)=f(x)+\\lambda \\int_a^b K(x,\\xi)\\varphi_0(\\xi)\\mathrm d \\xi,\\ldots$$\n",
    "$$\\varphi_{n+1}(x)=f(x)+\\lambda \\int_a^b K(x,\\xi)\\varphi_n(\\xi)\\mathrm d \\xi,\\ldots$$\n",
    "\n",
    "令$$M=\\max \\limits_{x \\in [a,b]}|f(x)|,L=\\max_{\\substack{x \\in [a,b]\\\\\\xi \\in [a,b]}}|K(x,\\xi)|>0$$则\n",
    "$$|\\varphi_1(x)-\\varphi_0(x)|=|\\lambda  \\int_a^b K(x,\\xi)\\varphi_0(\\xi)\\mathrm d \\xi| \\leq |\\lambda|\\int_a^b |K(x,\\xi)||f(\\xi)|\\mathrm d \\xi \\leq |\\lambda|ML(b-a)$$\n",
    "假设$|\\varphi_k(x)-\\varphi_{k-1}(x)| \\leq {|\\lambda|}^k L^k M(b-a)^k$成立，则\n",
    "$$|\\varphi_{k+1}(x)-\\varphi_k(x)|=|\\lambda \\int_a^b K(x,\\xi)(\\varphi_k(\\xi)-\\varphi_{k-1}(\\xi))\\mathrm d \\xi|$$\n",
    "$$ \\leq |\\lambda|\\int_a^b |K(x,\\xi)||\\varphi_k(\\xi)-\\varphi_{k-1}(\\xi)|\\mathrm d \\xi$$\n",
    "$$ \\leq |\\lambda| \\int_a^b L^{k+1} {|\\lambda|}^k M(b-a)^k \\mathrm d \\xi$$\n",
    "$$ =|\\lambda|^{k+1} L^{k+1} M(b-a)^{k+1}$$\n",
    "\n",
    "由数学归纳法可知，对任意的$n \\in N$,有\n",
    "$$|\\varphi_n(x)-\\varphi_{n-1}(x)| \\leq ML^n|\\lambda|^n(b-a)^n$$\n",
    "\n",
    "下证$\\{\\varphi_n(x)\\}$在$[a,b]$上一致收敛，考虑级数$\\varphi_0(x)+\\displaystyle\\sum_{k=1}^\\infty (\\varphi_k(x)-\\varphi_{k-1}(x))$\n",
    "\n",
    "只需证该级数在$[a,b]$上一致收敛即可，由于\n",
    "$$|\\varphi_k(x)-\\varphi_{k-1}(x)| \\leq ML^n|\\lambda|^n(b-a)^n$$\n",
    "\n",
    "当$|\\lambda|<\\frac{1}{(b-a)L}$时，级数$\\displaystyle\\sum_{k=1}^\\infty ML^k|\\lambda|^k(b-a)^k$收敛\n",
    "\n",
    "由此可知当$|\\lambda|<\\frac{1}{(b-a)L}$时，级数$\\varphi_0(x)+\\displaystyle\\sum_{k=1}^\\infty (\\varphi_k(x)-\\varphi_{k-1}(x))$在$[a,b]$上一致收敛\n",
    "\n",
    "即$\\{\\varphi_n(x)\\}$在$[a,b]$上一致收敛，不妨设其极限函数为$\\varphi^*(x)$,即当$x \\in [a,b]$时，$\\varphi_n(x)$当$n \\to \\infty$时一致收敛于$\\varphi^*(x)$，且由$\\varphi_n(x)$得连续性知$\\varphi^*(x)$在$[a,b]$上连续，$\\varphi_{n+1}(x)=f(x)+\\lambda \\int_a^b K(x,\\xi)\\varphi_n(\\xi)\\mathrm d \\xi,\\ldots$，当$n \\to \\infty$时两边取极限，得\n",
    "$$\\varphi^*(x)=f(x)+\\lambda \\int_a^b K(x,\\xi)\\varphi^*(x)\\mathrm d \\xi    (|\\lambda|<\\frac{1}{(b-a)L})$$\n",
    "即当$|\\lambda|<\\frac{1}{(b-a)L}$时,积分方程必存在连续解\n",
    "\n",
    "下证当$|\\lambda|<\\frac{1}{(b-a)L}$时，$\\varphi(x)=f(x)+\\lambda \\int_a^b K(x,\\xi)\\varphi(\\xi)\\mathrm d \\xi$的解得唯一性，用反证法\n",
    "\n",
    "设另有解$\\varphi_m(x)$且$\\varphi_m(x) \\neq \\varphi^*(x)$，即$$\\varphi_m(x)=f(x)+\\lambda \\int_a^b K(x,\\xi)\\varphi_m(\\xi)\\mathrm d \\xi$$\n",
    "记$$G=\\max \\limits_{x \\in [a,b]}|\\varphi^*(x)-\\varphi_m(x)|>0$$\n",
    "$$|\\varphi^*(x)-\\varphi_m(x)|=|\\lambda \\int_a^b K(x,\\xi)(\\varphi^*(x)-\\varphi_m(\\xi))\\mathrm d \\xi|$$\n",
    "$$ \\leq |\\lambda| \\int_a^b L |\\varphi^*(x)-\\varphi_m(\\xi)| \\mathrm d \\xi=|\\lambda|GL(b-a)$$\n",
    "\n",
    "即有$G \\leq |\\lambda|GL(b-a)$,由于$G>0$,所以，$|\\lambda| \\geq \\frac{1}{(b-a)L}$,与$|\\lambda|<\\frac{1}{(b-a)L}$矛盾，唯一性可证。"
   ]
  },
  {
   "cell_type": "markdown",
   "metadata": {
    "collapsed": true
   },
   "source": [
    "# <font color='red'>A  11/10"
   ]
  },
  {
   "cell_type": "code",
   "execution_count": null,
   "metadata": {
    "collapsed": true
   },
   "outputs": [],
   "source": []
  }
 ],
 "metadata": {
  "kernelspec": {
   "display_name": "SageMath 7.3",
   "language": "",
   "name": "sagemath"
  },
  "language_info": {
   "codemirror_mode": {
    "name": "ipython",
    "version": 2
   },
   "file_extension": ".py",
   "mimetype": "text/x-python",
   "name": "python",
   "nbconvert_exporter": "python",
   "pygments_lexer": "ipython2",
   "version": "2.7.10"
  }
 },
 "nbformat": 4,
 "nbformat_minor": 0
}
