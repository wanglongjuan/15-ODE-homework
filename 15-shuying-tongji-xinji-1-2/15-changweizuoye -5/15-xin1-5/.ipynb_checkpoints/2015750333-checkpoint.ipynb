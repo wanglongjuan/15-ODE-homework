{
 "cells": [
  {
   "cell_type": "markdown",
   "metadata": {},
   "source": [
    "# 3/88、求初值问题\n",
    "# $$\n",
    "\\begin{cases}\n",
    "\\frac{\\mathrm dy}{\\mathrm dx}=x^2-y^2,R:|x+1|\\leq1,|y|\\leq1,\\\\\n",
    "y(-1)=0\n",
    "\\end{cases}\n",
    "$$\n",
    "# 的解的存在区间，并求第二次近似解，给出在解的存在区间的误差估计。"
   ]
  },
  {
   "cell_type": "markdown",
   "metadata": {},
   "source": [
    "解：这里$M =\\displaystyle\\max_{(x,y)\\in R}\\mid f(x,y)\\mid=4 \\quad h=min(1,\\frac{1}{4})=\\frac{1}{4}$\n",
    "\n",
    "在$R$上函数$f(x,y)=x^2-y^2$的利普希茨常数可取为$L=2$，因为$$\\mid\\frac{\\partial f}{\\partial y}\\mid=\\mid-2y\\mid\\leq2=L$$\n",
    "\n",
    "所以$\\varphi_0(x)=0\\\\\n",
    "\\varphi_1(x)=\\int_{-1}^x[\\xi^2-\\varphi_0^2(\\xi)]\\mathrm d\\xi=\\frac{x^3}{3}+\\frac{1}{3}\\\\\n",
    "\\varphi_2(x)\\int_0^x[\\xi^2-\\varphi_1^2(\\xi)]\\mathrm d\\xi=\\frac{x^3}{3}-\\frac{x^7}{63}-\\frac{x}{9}-\\frac{x^4}{18}+\\frac{11}{42}$\n",
    "\n",
    "所以误差为$|\\varphi_2-\\varphi(x)|\\leq\\frac{ML^2}{(2+1)!}h^{2+1}=\\frac{1}{24}$"
   ]
  },
  {
   "cell_type": "markdown",
   "metadata": {},
   "source": [
    "# 6/89、证明格朗沃尔(Gronwall)不等式：\n",
    "\n",
    "# 设$k$为非负常数，$f(t)$和$g(t)$为在区间$\\alpha\\leq t\\leq\\beta$上的连续非负函数，且满足不等式$$f(t)\\leq K+\\int_\\alpha^tf(s)g(s)\\mathrm ds,\\alpha\\leq t\\leq\\beta,$$\n",
    "\n",
    "# 则有$$f(t)\\leq Kexp(\\int_\\alpha^tg(s)\\mathrm ds),\\alpha\\leq t\\leq\\beta.$$ 并由此证明定理1的命题5"
   ]
  },
  {
   "cell_type": "markdown",
   "metadata": {
    "collapsed": true
   },
   "source": [
    "解：(1)$K>0$时，令$\\phi(t)=K+\\int_{\\alpha}^tf(s)g(s)\\mathrm ds,$\n",
    "\n",
    "则$\\phi'(t)=f(t)g(t)\\phi(t),$\n",
    "\n",
    "由题可得$\\phi(t)>0$,所以$$\\frac{\\phi'(t)}{\\phi(t)}\\leq g(t),$$对上式两边从$\\alpha$到$t$积分得$$\\ln\\phi(t)-\\ln\\phi(\\alpha)\\leq\\int_\\alpha^tg(s)\\mathrm ds,$$\n",
    "即$\\frac{\\phi(t)}{\\phi(\\alpha)}\\leq exp(\\int_\\alpha^tg(s)\\mathrm ds),\\phi(\\alpha)=K>0,$\n",
    "\n",
    "所以$\\phi(t)\\leq Kexp(\\int_\\alpha^tg(s)\\mathrm ds),\\alpha\\leq t\\leq\\beta.$\n",
    "\n",
    "所以$f(t)\\leq Kexp(\\int_\\alpha^tg(s)\\mathrm ds),\\alpha\\leq t\\leq\\beta.$\n",
    "\n",
    "定理一命题五:\n",
    "\n",
    "证明：设$\\varphi(x),\\psi(x)$为$y=y_0+\\int_{x_0}^xf(x,y)\\mathrm dx$的初值问题的两个解，则\n",
    "$$\\phi(x)=y_0+\\int_{x_0}^xf(\\xi,\\phi(\\xi))\\mathrm d \\xi\\\\\n",
    "\\psi(x)=y_0+\\int_{x_0}^xf(\\xi,\\psi(\\xi))\\mathrm d \\xi$$所以$$|\\psi(x)-\\phi(x)|\\leq \\int_{x_0}^x \\mid f(\\xi,\\psi(\\xi))-f(\\xi,\\phi(\\xi))\\mid\\mathrm d \\xi\\\\\n",
    "\\leq L \\int_{x_0}^x \\mid \\psi(\\xi)-\\phi(\\xi) \\mid \\mathrm d\\xi$$\n",
    "\n",
    "由格朗沃尔不等式的$0\\leq \\mid \\psi(x)-\\phi(x)\\mid\\leq0$\n",
    "\n",
    "所以 $\\quad \\psi(x)=\\phi(x)$\n",
    "\n",
    "即证"
   ]
  },
  {
   "cell_type": "markdown",
   "metadata": {
    "collapsed": true
   },
   "source": [
    "# 8/89、如果函数$f(x,y)$于带域$\\alpha \\leq x \\leq \\beta$上连续且关于$y$满足利普西茨条件，则方程(3.1)满足条件$y(x_0)=y_0$的解于整个区间$[\\alpha,\\beta]$上存在且唯一.试证明之."
   ]
  },
  {
   "cell_type": "markdown",
   "metadata": {},
   "source": [
    "证明：存在性：取\n",
    "\n",
    "$y_0(x)=y_0\\\\\n",
    "\\ldots\\\\\n",
    "y_n(x)=y_0+\\int_{x_0}^xf(\\xi,y_{n-1}(\\xi))\\mathrm d\\xi \\\\\n",
    "\\ldots \\quad \\quad \\quad \\quad \\quad \\quad \\quad \\quad \\quad \\quad \\quad \\quad (1)$\n",
    "\n",
    "由此得$y_n(x)$在$\\alpha \\leq x \\leq \\beta$上存在且连续，考察级数\n",
    "$$y_0(x)+\\sum_{k=1}^\\infty[y_k(x)-y_{k-1}(x)],x\\in[\\alpha,\\beta]\\quad \\quad \\quad \\quad \\quad \\quad \\quad \\quad \\quad (2)$$\n",
    "取$M=\\displaystyle\\max_{x\\in[\\alpha,\\beta]}|f(x,y_0)|$,由(1)得\n",
    "$$|y_1(x)-y_0(x)|\\leq \\int_{x_0}^x\\mid f(\\xi,y_0(\\xi))\\mid\\mathrm d\\xi\\leq M|x-x_0|, \\quad \\quad \\quad(3)\\\\\n",
    "|y_2(x)-y_1(x)|\\leq \\int_{x_0}^x \\mid f(\\xi,y_1(\\xi))-f(\\xi,y_0(\\xi)) \\mid\\mathrm d, \\quad \\quad \\quad \\quad $$利用利普西茨条件及(3)得\n",
    "$$\n",
    "\\begin{aligned}\n",
    "|y_2(x)-y_1(x)| & \\leq L \\int_{x_0}^x \\mid f(\\xi,y_1(\\xi))-f(\\xi,y_0(\\xi))\\mid \\mathrm d\\xi\\\\\n",
    "& \\leq L \\int_{x_0}^xM|\\xi-x_0|\\mathrm d\\xi=\\frac{ML}{2!}(x-x_0)^2.\\\\\n",
    "\\end{aligned}\n",
    "$$\n",
    "由数学归纳法得$$\\mid y_k(x)-y_{k-1}(x)\\mid\\leq \\frac{ML^{k-1}}{k!}|x-x_0|^k \\leq \\frac{ML^{}k-1}{k!}(\\beta-\\alpha)^k.$$\n",
    "\n",
    "由weierstrass判别法知正项级数$\\sum_{k=1}^\\infty\\frac{ML^{k-1}}{k!}(\\beta-\\alpha)^k$一致收敛\n",
    "\n",
    "所以(2)在$\\alpha \\leq x \\leq \\beta$一致收敛\n",
    "\n",
    "所以${y_n(x)}$在$[\\alpha.\\beta]$上一致收敛\n",
    "\n",
    "设$lim_{x\\to \\infty}y_n(x)=y(x)$,对(1)两边取极限，得\n",
    "$$y(x)=y_0+\\int_{x_0}^xf(\\xi,y(\\xi))\\mathrm d\\xi$$\n",
    "\n",
    "唯一性：设$\\varphi(x),\\psi(x)$为$y=y_0+\\int_{x_0}^xf(x,y)\\mathrm dx$的初值问题的两个解，\n",
    "\n",
    "当$x_0\\leq x\\leq\\beta$时利用格朗沃尔不等式，由\n",
    "$$\\phi(x)=y_0+\\int_{x_0}^xf(\\xi,\\phi(\\xi))\\mathrm d \\xi\\\\\n",
    "\\psi(x)=y_0+\\int_{x_0}^xf(\\xi,\\psi(\\xi))\\mathrm d \\xi$$\n",
    "所以$$|\\psi(x)-\\phi(x)|\\leq \\int_{x_0}^x \\mid f(\\xi,\\psi(\\xi))-f(\\xi,\\phi(\\xi))\\mid\\mathrm d \\xi\\\\\n",
    "\\leq L\\int_{x_0}^x \\mid \\psi(\\xi)-\\phi(\\xi) \\mid \\mathrm d\\xi$$\n",
    "\n",
    "有$\\mid \\psi(x)-\\phi(x)\\mid\\leq0$,即$\\quad \\psi(x)=\\phi(x)(\\alpha\\leq x_0\\leq x\\leq\\beta)$\n",
    "\n",
    "同理，当$\\alpha\\leq x\\leq x_0$时有,$\\quad \\psi(x)=\\phi(x)(\\alpha\\leq x_0\\leq x\\leq\\beta)$\n"
   ]
  },
  {
   "cell_type": "markdown",
   "metadata": {},
   "source": [
    "# 10/89、给定积分方程$$\\phi(x)=f(x)+\\lambda\\int_a^bK(x,\\xi)\\phi(\\xi)\\mathrm d\\xi,\\quad \\quad \\quad (*)$$其中$f(x)$是$[a,b]$上的已知连续函数，$K(x,\\xi)$是$a\\leq x\\leq b,a\\leq \\xi \\leq b$上的已知连续函数.证明当$|\\lambda|$足够小时($\\lambda$是常数)，(*)在上存在唯一的连续解."
   ]
  },
  {
   "cell_type": "markdown",
   "metadata": {},
   "source": [
    "证明：构造逐步逼近函数序列\n",
    "    $\\phi_0(x)=f(x)\\\\\n",
    "    \\phi_1(x)=f(x)+\\lambda\\int_a^bk(x,\\xi)\\phi(\\xi)\\mathrm d\\xi,\\\\\n",
    "    \\ldots\\\\\n",
    "    \\phi_{n+1}(x)=f(x)+\\lambda\\int_a^bk(x,\\xi)\\phi_n(\\xi)\\mathrm d\\xi,\\\\\n",
    "    \\ldots$   \n",
    "    \n",
    "   显然，对所有正整数$n，\\phi_n(x)$在区间$a\\leq x\\leq b$上定义且连续．\n",
    "   \n",
    "   下证函数序列${\\phi_k(x)}$在区间$a\\leq x\\leq b$上一致收敛．\n",
    "   \n",
    "   考虑函数级数$\\phi_0(x)+\\sum_{k=1}^n(\\phi_k(x)-\\phi_{k-1}(x))\n",
    "   ，a\\leq x\\leq b    ①$\n",
    "   \n",
    "   其部分和为\n",
    "   $$\\phi_0(x)+\\sum_{k=1}^n(\\phi_k(x)-\\phi_{k-1}(x))=\\phi_n(x).$$\n",
    "   因此，证明函数序列${\\phi k_n(x)}$在区间$a\\leq x\\leq b$上一致收敛化为证明级数①在区间$a\\leq x\\leq b$上一致收敛．\n",
    "   \n",
    "   因$f(x)$和$K(x，ξ)$在闭区间$a\\leq x\\leq b$及$a\\leq x\\leq b，a\\leq \\xi\\leq b$上连续，\n",
    "   \n",
    "   因此有$|f(x)|\\leq L，|K(x，ξ)|\\leq ML^k|\\lambda|^k(b-a)^k，a\\leq x\\leq b，a\\leq \\xi\\leq b．$\n",
    "   \n",
    "   取$|\\lambda|<\\frac{1}{(b-a)L}$．\n",
    "   \n",
    "   现设成立\n",
    "  $|\\phi_j(x)-\\phi_j-1(x)|\\leq |\\lambda|^kML^k(b-a)^j,    $②\n",
    "   则由(*)，有\n",
    "   $$\n",
    "   \\begin{aligned}\n",
    "   |\\phi_j(x)-\\phi_j-1(x)| & =|\\lambda\\int_a^bk(x,\\xi)(\\phi_k(\\xi)-\\phi_{k-1}(\\xi))\\mathrm d\\xi|\\\\\n",
    "   &\\leq |\\lambda|\\int_a^b|k(x,\\xi)||\\phi_k(\\xi)-\\phi_{k-1}(\\xi)|\\mathrm d\\xi\\\\\n",
    "   &\\leq |\\lambda|\\int_a^bL^{k+1}|\\lambda|^kM(b-a)^k\\mathrm d\\xi\\\\\n",
    "   &=|\\lambda|^{k+1}L^{k+1}M(b-a)^{k+1}\n",
    "   \\end{aligned}\n",
    "   $$\n",
    "   \n",
    "   由数学归纳法知，对一切$j$成立②．可取$|\\lambda|$足够小使得．从而级数收敛．由函数项级数一致收敛的weierstrass判别法，级数①在$a\\leq x\\leq b$上一致收敛．因此函数序列${\\phi_k(x)}$也在$a\\leq x\\leq b$上一致收敛．设极限函数为$\\phi^*(x)$\n",
    "   \n",
    "   因$\\phi(x)$是$\\phi_k(x)$的一致收敛极限函数，故$\\phi(x)$也在区间$a\\leq x\\leq b$上连续．\n",
    "   \n",
    "   对逐步逼近函数序列，两边取极限，可得\n",
    "   \n",
    "   $$\\phi^*(x)=f(x)+\\lambda\\int_a^bk(x,\\xi)\\phi^*(\\xi)\\mathrm d\\xi.(|\\lambda|<\\frac{1}{(b-a)L})$$\n",
    "   \n",
    "   即\n",
    "   $\\phi(x)$\n",
    "   是积分方程(*)在区间\n",
    "   $a\\leq x\\leq b$\n",
    "   上的连续解．\n",
    "   \n",
    "   设\n",
    "   $\\psi(x)$\n",
    "   是积分方程$(*)$在区间\n",
    "   $a\\leq x\\leq b$\n",
    "   上的另一个连续解，即\n",
    "   $$\\phi^{**}=f(x)+\\lambda\\int_a^bk(x,\\xi)\\phi^{**}\\mathrm d\\xi$$\n",
    "   因存在\n",
    "   $P=\\displaystyle\\max_{x,\\in [a,b]}|\\phi^*(x)-\\phi^{**}|>0$，有\n",
    "$$\n",
    "\\begin{aligned}\n",
    "\\mid \\phi^*(x)-\\phi^{**}(x)\\mid &=\\mid \\lambda \\int_a^b k(x,\\varsigma) (\\phi^*(\\varsigma)-\\phi^{**}(\\varsigma))d\\varsigma \\mid\\\\\\\n",
    "&\\leq \\mid \\lambda \\mid \\int_a^b L \\mid\\phi^*(\\varsigma)-\\phi^{**}(\\varsigma) \\mid d\\varsigma\\\\\\\n",
    "&=\\mid \\lambda \\mid QL(b-a)\\\\\n",
    "\\end{aligned}\n",
    "$$\n",
    "   可见．\n",
    "   故$\\phi(x)=\\psi(x)，a\\leq x\\leq b．$\n",
    "   因此(*)在$[a，b]$上存在唯一的连续解．"
   ]
  },
  {
   "cell_type": "markdown",
   "metadata": {
    "collapsed": true
   },
   "source": [
    "# <font color='red'>A  11/10"
   ]
  },
  {
   "cell_type": "code",
   "execution_count": null,
   "metadata": {
    "collapsed": true
   },
   "outputs": [],
   "source": []
  }
 ],
 "metadata": {
  "kernelspec": {
   "display_name": "SageMath 7.3",
   "language": "",
   "name": "sagemath"
  },
  "language_info": {
   "codemirror_mode": {
    "name": "ipython",
    "version": 2
   },
   "file_extension": ".py",
   "mimetype": "text/x-python",
   "name": "python",
   "nbconvert_exporter": "python",
   "pygments_lexer": "ipython2",
   "version": "2.7.10"
  }
 },
 "nbformat": 4,
 "nbformat_minor": 0
}
