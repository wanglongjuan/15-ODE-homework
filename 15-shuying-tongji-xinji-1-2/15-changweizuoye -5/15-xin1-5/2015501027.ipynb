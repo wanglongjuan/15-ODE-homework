{
 "cells": [
  {
   "cell_type": "markdown",
   "metadata": {},
   "source": [
    "**$$3.1$$**  \n",
    "3.求初值问题：   \n",
    "\\begin{cases} \\frac{\\mathrm d y}{\\mathrm d x}=x^2-y^2,R:|x+1|≤1,|y|≤1  \\\\ \n",
    "y(-1)=0 \\end{cases}   \n",
    "的解的存在区间，并求第二次近似解，给出在解的存在区间的误差估计"
   ]
  },
  {
   "cell_type": "markdown",
   "metadata": {},
   "source": [
    "解：\n",
    "\n",
    "由题意得$M=max\\mid f(x,y)\\mid =4$,h是$a=1$及$\\frac{b}{M}=\\frac14$中的最小者  \n",
    "因此$h=\\frac14$处,在R上函数$f(x,y)=x^2-y^2$的利普希茨常数可取为$L=2$      \n",
    "又$\\frac{\\partial f}{\\partial y}=\\mid -2y \\mid \\leq2=L$得到：\n",
    "\n",
    "$\n",
    "\\begin{aligned}\n",
    "\\phi_0(x)&=0\\\\\\\n",
    "\\phi_1(x)&=\\int_{-1}^x(t^2-\\phi_0^2(t))dt=\\frac{x^3}{3}+\\frac13\\\\\\\n",
    "\\phi_2(x)&=\\int_{-1}^x(t^2-\\phi_1^2(t))dt\\\\\\\n",
    "&=\\frac{x^3}{3}-\\frac x9-\\frac{x^4}{18}-\\frac{x^7}{63}+\\frac{11}{42}\\\\\\\n",
    "\\end{aligned}\n",
    "$\n",
    "\n",
    "即由误差估计公式得到\n",
    "\n",
    "$\\mid \\phi_2(x)-\\phi(x)\\mid \\leq\\frac{{4}\\cdot{2^2}}{3!}\\cdot(\\frac14)^3=\\frac{1}{24}$\n",
    "\n",
    "所以，已知解的存在区间为$-\\frac54\\leq x \\leq -\\frac34$,第二次近似解为$y_2=\\frac{x^3}{3}-\\frac x9-\\frac{x^4}{18}-\\frac{x^7}{63}+\\frac{11}{42}$,解的存在区间的误差估计为$\\mid y-y_2 \\mid \\leq \\frac{1}{24}$."
   ]
  },
  {
   "cell_type": "markdown",
   "metadata": {},
   "source": [
    "6.证明格朗沃日（Gronwall）不等式：  \n",
    "设K为非负常数，$f(t)$和$g(t)$为在区间$\\alpha \\leq t \\leq \\beta$上的连续非负函数，且满足不等式\n",
    "$$f(t)\\leq K+\\int_\\alpha^tf(s)g(s)ds,\\ \\alpha \\leq t \\leq \\beta$$\n",
    "\n",
    "则有$$f(t)\\leq Kexp(\\int_\\alpha^tg(s)ds)\\ ,\\alpha \\leq t \\leq \\beta$$\n",
    "\n",
    "并由此证明教材中定理1的命题5.\n"
   ]
  },
  {
   "cell_type": "markdown",
   "metadata": {},
   "source": [
    "证明：  对$K$分两种情况：  \n",
    "\n",
    "（1）$K>0$时，令$\\omega(t)=K+\\int_\\alpha^tf(s)g(s)ds,$\n",
    "\n",
    "那么$\\omega \\prime(t)=f(t)g(t) \\leq g(t)\\omega(t)$,由$\\omega(t)>0$  \n",
    "可得到$\\frac{\\omega\\prime(t)}{\\omega(t)}\\leq g(t)$  \n",
    "\n",
    "再两边从$\\alpha 到t$积分得到\n",
    "$ln\\omega(t)-ln\\omega(\\alpha)\\leq \\int_\\alpha^tg(s)ds$\n",
    "\n",
    "即$\\frac{\\omega(t)}{\\omega(\\alpha)}\\leq exp(\\int_\\alpha^tg(s)ds)$\n",
    "\n",
    "$\\omega(\\alpha)=K>0$\n",
    "\n",
    "故$\\omega(t)\\leq K \\cdot exp(\\int_\\alpha^tg(s)ds)$\n",
    "\n",
    "即有$f(t)\\leq \\omega(t) \\leq Kexp(\\int_\\alpha^tg(s)ds),\\ \\alpha \\leq t \\leq \\beta$\n",
    "\n",
    "（2）$K=0$时，对任意$\\varepsilon >0$   \n",
    "由于$f(t)\\leq \\int_\\alpha^tf(s)g(s)ds$,故$f(t)\\leq \\varepsilon+\\int_\\alpha^tf(s)g(s)ds$.  \n",
    "由（1）可知，$f(t)\\leq \\varepsilon exp(\\int_\\alpha^tg(s)ds)$  \n",
    "\n",
    "当$\\varepsilon→0^+$时，有$f(t)\\leq 0$\n",
    "\n",
    "又$f(t)\\geq 0$,即得到$f(t)\\equiv 0$,从而  \n",
    "\n",
    "$f(t)\\leq K\\cdot exp(\\int_\\alpha^tg(s)ds),\\ \\alpha \\leq t \\leq \\beta$\n",
    "\n",
    "由（1）（2）格朗沃尔不等式成立。   \n",
    "\n",
    "   \n",
    "   \n",
    "再用格朗沃尔不等式证明教材中定理1的命题5.\n",
    "\n",
    "证明：设$\\phi(t),\\psi(t)$是初值问题$x\\prime=f(t,x),\\ x(t_0)=x_0$的两个解  \n",
    "则有\n",
    "$\\begin{aligned}\n",
    "\\phi(t)&=x_0+\\int_{t_0}^tf(\\varsigma,\\phi(\\varsigma))d\\varsigma\\\\\\\n",
    "\\psi(t)&=x_0+\\int_{t_0}^tf(\\varsigma,\\psi(\\varsigma))d\\varsigma\n",
    "\\end{aligned}$     \n",
    "于是\n",
    "$\\begin{aligned}\n",
    "\\mid \\phi(t)-\\psi(t) \\mid &\\leq \\int_{t_0}^t \\mid f(\\varsigma,\\phi(\\varsigma))-f(\\varsigma,\\psi(\\varsigma)) \\mid d\\varsigma\\\\\\\n",
    "&\\leq L\\int_{t_0}^t \\mid \\phi(\\varsigma)-\\psi(\\varsigma) \\mid d\\varsigma\n",
    "\\end{aligned}$   \n",
    "\n",
    "其中L为利普希茨条件，由格朗沃尔不等式可知\n",
    "$0 \\leq \\mid \\phi(\\varsigma)-\\psi(\\varsigma) \\mid \\leq 0$\n",
    "有$\\phi(t)=\\psi(t)$\n",
    "\n",
    "定理1的命题5得证."
   ]
  },
  {
   "cell_type": "markdown",
   "metadata": {},
   "source": [
    "8.如果函数$f(x,y)$于带域$\\alpha ≤ x ≤ \\beta$上连续且关于$y$满足利普希茨条件，则方程$\\frac{\\mathrm d y}{\\mathrm d x}=f(x,y)$满足条件$y(x_0)=y_0$的解于整个区间$[\\alpha,\\beta]$上存在唯一，试证明之"
   ]
  },
  {
   "cell_type": "markdown",
   "metadata": {},
   "source": [
    "证明：\n",
    "由定理1可知，方程（3.1）满足条件$y(x_0)=y_0$的解等价于求积分方程$y=y_0+\\int_{x_0}^xf(x,y)dx,\\ x \\in [\\alpha,\\beta]$的连续解。\n",
    "取\n",
    "$\\begin{aligned}\n",
    "y_0(x)&=y_0\\\\\\\n",
    "y_1(x)&=y_0+\\int_{x_0}^xf(\\varsigma,y_0(\\varsigma))d\\varsigma\\\\\\\n",
    "&…\\\\\\\n",
    "y_n(x)&=y_0+\\int_{x_0}^xf(\\varsigma,y_{n-1}(\\varsigma))d\\varsigma\\\\\\\n",
    "&…\\\\\\\n",
    "\\end{aligned}$   \n",
    "易得，$y_n(x)在\\alpha \\leq x \\leq \\beta $上存在且连续   \n",
    "下面证明函数列${y_n(x)}在\\alpha \\leq x \\leq \\beta$上一致连续  \n",
    "考察级数$y_0(x)+\\sum_{k=1}^\\infty[y_k(x)-y_{k-1}(x)],x\\in [\\alpha,\\beta]$    \n",
    "取$M=max_{x\\in [\\alpha,\\beta]}\\mid f(x,y_0)\\mid$\n",
    "由上式可得  \n",
    "$\\mid y_1(x)-y_0(x)\\mid \\leq \\int_{x_0}^x \\mid f(\\varsigma,y_0(\\varsigma))\\mid d\\varsigma \\leq M\\mid x-x_0 \\mid$    \n",
    "即$\\mid y_2(x)-y_1(x)\\mid \\leq \\int_{x_0}^x \\mid f(\\varsigma,y_1(\\varsigma))-f(\\varsigma,y_0(\\varsigma))\\mid$\n",
    "\n",
    "由利普希茨条件得到\n",
    "\n",
    "$\\mid y_2(x)-y_1(x)\\mid \\leq L\\int_{x_0}^x \\mid y_1(\\varsigma)-y_0(\\varsigma)\\mid d\\varsigma \\leq L\\int_{x_0}^x M\\mid \\varsigma-x_0 \\mid d\\varsigma=\\frac{ML}{2!}(x-x_0)^2$    \n",
    "于是，由数学归纳法可知$\\mid y_k(x)-y_{k-1}(x) \\mid \\leq \\frac{ML^{k-1}}{k!} \\mid (x-x_0)\\mid ^k \\leq \\frac{ML^{k-1}}{k!}(\\beta-\\alpha)^k$\n",
    "\n",
    "由Weierstrass判别法，得到$\\alpha \\leq x \\leq \\beta$上级数一致收敛  \n",
    "得到函数列${y_n(x)}在[\\alpha,\\beta]$上一致收敛   \n",
    "又设$\\lim_{n→+\\infty}y_n(x)=y(x)，因此，函数列{y_n(x)}在[\\alpha,\\beta]上一致连续$  \n",
    "因此，取极限得到$y(x)=y_0+\\int_{x_0}^xf(\\varsigma,y(\\varsigma))d\\varsigma$"
   ]
  },
  {
   "cell_type": "markdown",
   "metadata": {},
   "source": [
    "# <font color='red'>唯一性？？？？"
   ]
  },
  {
   "cell_type": "markdown",
   "metadata": {},
   "source": [
    "10.给定积分方程$$\\phi(x)=f(x)+\\lambda \\int^b_a K(x,\\xi)\\phi(\\xi)\\mathrm d \\xi$$  \n",
    "其中$f(x)$是$[a,b]$上的已知连续函数，$K(x,\\xi)$是$a≤x≤b$，$a≤\\xi≤b$上的已知连续函数，证明当$|\\lambda|$足够小时（$\\lambda$是常数），方程在$[a,b]$上存在唯一的连续解"
   ]
  },
  {
   "cell_type": "markdown",
   "metadata": {},
   "source": [
    "证明：做逐步逼近函数序列\n",
    "\n",
    "$\\phi_0=f(x),$令$\\phi_1(x)=f(x)+\\lambda \\int_a^b k(x,\\varsigma) \\phi_0(\\varsigma)d\\varsigma$   \n",
    "$……$    \n",
    "$\\phi_{n+1}(x)=f(x)+\\lambda \\int_a^b k(x,\\varsigma) \\phi_n(\\varsigma)d\\varsigma$  \n",
    "$……$\n",
    "\n",
    "令$M=max_{x \\in [a,b]} \\mid f(x) \\mid ,L=max \\mid k(x,\\varsigma) \\mid >0,$\n",
    "$\\begin{aligned}\n",
    "\\mid \\phi_1(x)-\\phi_0(x) \\mid &=\\mid \\lambda \\int_a^b k(x,\\varsigma) \\phi_0(\\varsigma)d\\varsigma \\mid\\\\\\\n",
    "& \\leq \\mid \\lambda \\mid \\int_a^b \\mid k(x,\\varsigma) \\mid \\  \\mid f(\\varsigma) \\mid d\\varsigma\\\\\\\n",
    "& \\leq \\mid \\lambda \\mid ML(b-a)\n",
    "\\end{aligned}$     \n",
    "假设$\\mid \\phi_k(x)-\\phi_{k-1}(x)\\mid \\leq {\\mid \\lambda \\mid }^kL^kM(b-a)^k$成立  \n",
    "则有   \n",
    "$\\begin{aligned}\n",
    "\\mid \\phi_{k+1}(x)-\\phi_k(x)\\mid &=\\mid \\lambda \\int_a^b k(x,\\varsigma) (\\phi_k(\\varsigma)-\\phi_{k-1}(\\varsigma))d\\varsigma \\mid\\\\\\\n",
    "&\\leq \\mid \\lambda \\mid \\int_a^b \\mid k(x,\\varsigma) \\mid \\  \\mid\\phi_k(\\varsigma)-\\phi_{k-1}(\\varsigma) \\mid d\\varsigma\\\\\\\n",
    "&\\leq \\int_a^b L^{k+1}{\\mid \\lambda \\mid }^kM(b-a)^k d\\varsigma\\\\\\\n",
    "&={\\mid \\lambda \\mid }^{k+1}L^{k+1}M(b-a)^{k+1}\n",
    "\\end{aligned}$   \n",
    "由归纳法可知，对任意的$n \\in N$,有\n",
    "$\\mid \\phi_n(x)-\\phi_{n-1}(x)\\mid \\leq {\\mid \\lambda \\mid }^nL^nM(b-a)^n$\n",
    "\n",
    "接着证明一致收敛：\n",
    "\n",
    "考虑级数$\\phi_0(x)+\\sum_{k=1}^\\infty(\\phi_k(x)-\\phi_{k-1}(x))$  \n",
    "该级数的前n项和为$\\phi_0(x)+\\sum_{k=1}^n(\\phi_k(x)-\\phi_{k-1}(x))=\\phi_n(x)$  \n",
    "要证明${\\phi_n(x)}在[a,b]$上一致收敛   \n",
    "即证明$\\phi_0(x)+\\sum_{k=1}^\\infty(\\phi_k(x)-\\phi_{k-1}(x))在[a,b]$上一致收敛\n",
    "又$\\mid \\phi_k(x)-\\phi_{k-1}(x)\\mid \\leq {\\mid \\lambda \\mid }^kL^kM(b-a)^k$\n",
    "可得：当$\\mid \\lambda \\mid<\\frac{1}{(b-a)L}时，级数\\sum{\\mid \\lambda \\mid }^kL^kM(b-a)^k$收敛  \n",
    "所以$\\mid \\lambda \\mid<\\frac{1}{(b-a)L}时,\\phi_0(x)+\\sum_{k=1}^\\infty(\\phi_k(x)-\\phi_{k-1}(x))在[a,b]上一致收敛$\n",
    "设极限函数为$\\phi^*(x)  \n",
    "即x \\in [a,b]时，当n→\\infty 时，\\phi_n(x)一致收敛于\\phi^*(x),且由\\phi_n(x)的连续性可得\\phi^*(x)在[a,b]上连续$  \n",
    "得到对于$\\phi_{n+1}(x)=f(x)+\\lambda \\int_a^b k(x,\\varsigma) \\phi_n(\\varsigma)d\\varsigma$，当n→\\infty 时   \n",
    "两边取极限得$\\phi^*(x)=f(x)+\\lambda \\int_a^b k(x,\\varsigma) \\phi^*(\\varsigma)d\\varsigma$    \n",
    "$(\\mid \\lambda \\mid<\\frac{1}{(b-a)L})$  \n",
    "即说明，当$\\mid \\lambda \\mid<\\frac{1}{(b-a)L}$时，积分方程存在连续解\n",
    "\n",
    "再证明解的唯一性，用反证法   \n",
    "设另有解$\\phi'^*(x)\\neq \\phi^*(x)$,既有\n",
    "$\\phi'^*(x)=f(x)+\\lambda \\int_a^b k(x,\\varsigma) \\phi'^*(\\varsigma)d\\varsigma$   \n",
    "记$Q=max_{x\\in [a,b]}\\mid \\phi^*(x)-\\phi'^*(x)\\mid>0$\n",
    "\n",
    "$\\begin{aligned}\n",
    "\\mid \\phi^*(x)-\\phi'^*(x)\\mid &=\\mid \\lambda \\int_a^b k(x,\\varsigma) (\\phi^*(\\varsigma)-\\phi'^*(\\varsigma))d\\varsigma \\mid\\\\\\\n",
    "&\\leq \\mid \\lambda \\mid \\int_a^b L \\mid\\phi^*(\\varsigma)-\\phi'^*(\\varsigma) \\mid d\\varsigma\\\\\\\n",
    "&=\\mid \\lambda \\mid QL(b-a)\n",
    "\\end{aligned}$\n",
    "\n",
    "即有$Q\\leq \\mid \\lambda \\mid QL(b-a)$  \n",
    "由于$Q>0，可知\\mid \\lambda \\mid \\geq \\frac{1}{(b-a)L},与\\mid \\lambda \\mid<\\frac{1}{(b-a)L}$矛盾，唯一性得证."
   ]
  },
  {
   "cell_type": "markdown",
   "metadata": {
    "collapsed": true
   },
   "source": [
    "# <font color='red'>A  11/10"
   ]
  },
  {
   "cell_type": "code",
   "execution_count": null,
   "metadata": {
    "collapsed": true
   },
   "outputs": [],
   "source": []
  }
 ],
 "metadata": {
  "kernelspec": {
   "display_name": "SageMath 7.3",
   "language": "",
   "name": "sagemath"
  },
  "language_info": {
   "codemirror_mode": {
    "name": "ipython",
    "version": 2
   },
   "file_extension": ".py",
   "mimetype": "text/x-python",
   "name": "python",
   "nbconvert_exporter": "python",
   "pygments_lexer": "ipython2",
   "version": "2.7.10"
  }
 },
 "nbformat": 4,
 "nbformat_minor": 0
}
