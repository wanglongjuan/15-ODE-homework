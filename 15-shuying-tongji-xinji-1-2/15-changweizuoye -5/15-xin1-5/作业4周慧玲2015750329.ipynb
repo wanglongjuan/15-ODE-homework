{
 "cells": [
  {
   "cell_type": "markdown",
   "metadata": {},
   "source": [
    "# 常微分第四次作业"
   ]
  },
  {
   "cell_type": "markdown",
   "metadata": {},
   "source": [
    "## P.88\n",
    "### 3.求初值$\\begin{cases}\n",
    "\\frac{\\mathrm dy}{\\mathrm dx}=x^2-y^2, R:|x+1| \\leq 1 ,|y| \\leq 1\n",
    "\\\\y(-1)=0\n",
    "\\end{cases}$\n",
    "### 的解的存在区间，并求第二次近似解，给出在解的存在区间的误差估计。"
   ]
  },
  {
   "cell_type": "markdown",
   "metadata": {},
   "source": [
    "**解**\n",
    "$$ 因为M=max{|x^2-y^2|}=4 $$\n",
    "\n",
    "$$ 则h=min(a,\\frac{b}{M})=\\frac{1}{4} $$\n",
    "\n",
    "$$ 则解的存在区间为|x-x_0|=|x-(-1)|=|x+1|\\leq\\frac{1}{4} $$\n",
    "\n",
    "$$ 令\\varphi_1(x)=0 $$\n",
    "\n",
    "$$则 \\varphi_1(x)=y_0+\\int\\limits_{x_0}^x (x^2-0)\\,\\mathrm{d}x=\\frac{1}{3}x^3+\\frac{1}{3}$$\n",
    "\n",
    "\n",
    "$$ \\varphi_2(x)=y_0+\\int\\limits_{-1}^{x} [x^2-(\\frac{1}{3}x^3+\\frac{1}{3})^2]\\,\\mathrm{d}x=\\frac{1}{3}x^3-\\frac{x}{9}-\\frac{x^4}{18}-\\frac{x^7}{63}+\\frac{11}{42}$$\n",
    "\n",
    "$$又因为|\\frac{\\partial f(x,y)}{\\partial y}|\\leq 2=L $$\n",
    "\n",
    "$$ 则误差评估为|\\varphi_2(x)-\\varphi(x)|\\leq \\frac{M*L^2}{(2+1)^2}h^3=\\frac{11}{24}$$"
   ]
  },
  {
   "cell_type": "markdown",
   "metadata": {},
   "source": [
    "### 6.证明格朗沃尔不等式：\n",
    "### 设K为非负常数，f(t)和g(t)为在区间$\\alpha\\leq t \\leq\\beta$上的连续非负函数，且满足不等式$$f(t)\\leq K+\\int\\limits_{\\alpha}^{t} f(s)g(s)\\, \\mathrm{d}s$$则有$$f(t)\\leq Kexp(\\int\\limits_{\\alpha}^{t} g(s)\\,\\mathrm{d}s),\\alpha\\leq t \\leq\\beta$$.并由此证明定理1的命题5."
   ]
  },
  {
   "cell_type": "markdown",
   "metadata": {},
   "source": [
    "**证明：**\n",
    "$$ 令R(t)=\\int\\limits_{\\alpha}^{t} f(s)g(s)\\,\\mathrm{d}s,则R(T)=f(t)g(t)$$\n",
    "\n",
    "\n",
    "$$ R(T)-R(t)g(t)=f(t)g(t)-R(t)g(t)\\leq kg(t)R(T)-R(t)g(t)\\leq kg(t)$$\n",
    "\n",
    "$$ 两边同乘以exp(-\\int\\limits_{\\alpha}^{t} g(s)\\,\\mathrm{d}s)$$\n",
    "\n",
    "$$ 则有R(T)exp(-\\int\\limits_{\\alpha}^{t} g(s)\\,\\mathrm{d}s)-R(t)g(t)exp(-\\int\\limits_{\\alpha}^{t} g(s)\\,\\mathrm{d}s)\\leq kg(t)exp(-\\int\\limits_{\\alpha}^{t} g(s)\\,\\mathrm{d}s)$$\n",
    "\n",
    "$$ 两边从\\alpha到t积分：R(t)exp(-\\int\\limits_{\\alpha}^{t} g(s)\\,\\mathrm{d}s)\\leq -\\int\\limits_{\\alpha}^{t} kg(s)\\,\\mathrm{d}s exp(-\\int\\limits_{\\alpha}^{t} g(r)\\,\\mathrm{d}r){\\mathrm ds}$$\n",
    "\n",
    "$$ 即R(t)\\leq \\int\\limits_{\\alpha}^{t} kg(s)\\,\\mathrm{d}s  exp(-\\int\\limits_{s}^{t} g(r)\\,\\mathrm{d}r){\\mathrm ds}$$\n",
    "\n",
    "\n",
    "$$ 又f(t)\\leq t \\leq k+R(t)\\leq k+k\\int\\limits_{\\alpha}^{t} g(s)\\,\\mathrm{d}s  exp(-\\int\\limits_{s}^{t} g(r)\\,\\mathrm{d}r){\\mathrm ds}\\leq k(1-1+ exp(-\\int\\limits_{s}^{t} g(r)\\,\\mathrm{d}r))=k exp(\\int\\limits_{t}^{s} g(r)\\,\\mathrm{d}r)$$\n",
    "\n",
    "$$即f(t)\\leq k\\int\\limits_{\\alpha}^{t} g(r)\\,\\mathrm{d}r $$"
   ]
  },
  {
   "cell_type": "markdown",
   "metadata": {},
   "source": [
    "### 8.如果函数f(x,y)于带域$\\alpha\\leq x\\leq\\beta$上连续且关于y满足利普希茨条件，则方程（3.1）满足条件$y(x_0)=y_0$的解\n",
    "\n",
    "###  于整个区间$[\\alpha,\\beta]$上存在且唯一,试证明。\n",
    "\n",
    "### （提示：用逐步逼近法，取$M=\\max \\limits_{x \\in[\\alpha,\\beta]} |f(x,y_0)|）$\n"
   ]
  },
  {
   "cell_type": "markdown",
   "metadata": {},
   "source": [
    "**解：**\n",
    "$$ 设M=\\max \\limits_{x\\in [a,b]}|f(x,y_0)|,h=\\beta - \\alpha,b=Mh 及有某数L使得在域R=\\{(x,y)|\\alpha \\leq x \\leq \\beta,|y-y_0| \\leq b\\}中有$$ \n",
    "\n",
    "$$|f(x,y_1)-f(x,y_2)| \\leq L|y_1-y_2|,(x,y_1),(x,y_2) \\in R$$\n",
    "\n",
    "$$构造逐步逼近函数序列$$\n",
    "$$\n",
    "\\begin{cases}\n",
    "\\varphi_0(x)=y_0\\\\\n",
    "\\varphi_n(x)=y_0+\\int\\limits_{x_0}^{x} f(\\xi,\\varphi_{n-1}(\\xi))\\,\\mathrm{d}x,\\alpha \\leq x \\leq \\beta,n=1,2,\\ldots\\\\\n",
    "\\end{cases}\n",
    "$$\n",
    "\n",
    "$$因为|\\varphi_1(x)-y_0|=|\\int_{x_0}^x f(\\xi,y_0)\\mathrm d x| \\leq \\int_{x_0}^x |f(\\xi,y_0)|\\mathrm d x \\leq M(x-x_0) \\leq Mh \\leq b$$\n",
    "\n",
    "$$可证|\\varphi_n(x)-\\varphi_{n-1}(x)| \\leq \\frac{M}{n!}L^{n-1}(\\beta - \\alpha)^n$$\n",
    "\n",
    "\n",
    "$$ 事实上有|\\varphi_{n+1}(x)-\\varphi_n(x)| \\leq |\\int_{x_0}^x |f(\\xi,\\varphi_n(\\xi))-f(\\xi,\\varphi_{n-1}(\\xi))|\\mathrm d \\xi|$$\n",
    "\n",
    "$$ \\leq L |\\int_{x_0}^x |\\varphi_n(\\xi)-\\varphi_{n-1}(\\xi)|\\mathrm d \\xi|$$\n",
    "$$ \\leq L |\\int_{x_0}^x \\frac{M}{n!}L^{n-1}|\\xi - x_0|^n \\mathrm d \\xi|$$\n",
    "$$ \\leq L \\frac{M}{(n+1)!}L^{n}|x - x_0|^{n+1}$$\n",
    "$$ \\leq L \\frac{M}{(n+1)!}L^{n}(\\beta - \\alpha)^{n+1}$$\n",
    "\n",
    "$$ 由于级数\\displaystyle\\sum_{k=1}^\\infty \\frac{M}{k!}L^{k-1}(\\beta - \\alpha)^{k}收敛$$\n",
    "\n",
    "$$知级数\\varphi_n(x)=\\varphi_0(x)+\\displaystyle\\sum_{k=1}^\\infty [\\varphi_k(x)-\\varphi_{k-1}(x)]在区间[\\alpha,\\beta]一致收敛$$\n",
    "\n",
    "$$于是存在极限\\lim \\limits_{n \\to \\infty} \\varphi_n(x)=\\varphi(x)$$\n",
    "\n",
    "$$它在区间[\\alpha,\\beta]连续且$$\n",
    "\n",
    "\n",
    "$$\\varphi(x)=\\lim \\limits_{n \\to \\infty} \\varphi_n(x)=y_0+\\lim \\limits_{n \\to \\infty} \\int_{x_0}^x f(\\xi,\\varphi_{n-1}(\\xi))\\mathrm d x$$\n",
    "\n",
    "$$=y_0+\\int_{x_0}^x f(x,\\lim \\limits_{n \\to \\infty}\\varphi_{n-1}(\\xi))\\mathrm d \\xi$$\n",
    "\n",
    "$$=y_0+\\int_{x_0}^x f(\\xi,\\varphi(\\xi))\\mathrm d \\xi$$\n",
    "\n",
    "$$故\\varphi(x)是积分方程也就是微分方程得解$$\n",
    "\n",
    "$$设\\phi(x),\\varphi(x)均满足积分方程 $$\n",
    "\n",
    "$$y=y_0+\\int_{x_0}^x f(\\xi,\\varphi(\\xi))\\mathrm d \\xi,\\alpha \\leq x_0 \\leq \\beta,\\alpha \\leq x \\leq \\beta$$\n",
    "\n",
    "$$ 当x \\geq x_0时，利用格朗沃尔不等式$$\n",
    "\n",
    "$$由|\\varphi(x)-\\phi(x)| \\leq \\int_{x_0}^x |f(s,\\varphi_{n-1}(s))-|f(s,\\phi_{n-1}(s))|\\mathrm d s $$\n",
    "\n",
    "$$ 有|\\varphi(x)-\\phi(x)| \\leq 0$即$\\varphi(x) \\equiv \\phi(x)(\\alpha \\leq x_0 \\leq x \\leq \\beta)$$\n",
    "\n",
    "$$同理可证当\\alpha \\leq x \\leq x_0 \\leq \\beta时有\\varphi(x) \\equiv \\phi(x)$$\n",
    "\n",
    "$$即积分方程也就是微分方程得解是唯一的$$"
   ]
  },
  {
   "cell_type": "markdown",
   "metadata": {},
   "source": [
    "### 10.\n",
    "给定积分方程\n",
    "$$\\varphi(x)=f(x)+\\lambda\\int\\limits_a^b K(x,\\xi)\\varphi(\\xi)\\,\\mathrm{d}\\xi$$\n",
    "$其中f(x)是[a,b]上的已知连续函数，K（x,\\xi）是a\\leq x \\leq b,a\\leq \\xi \\leq b上的已知连续函数。证明当|\\lambda|足够小时(\\lambda是常数)，在[a,b]上存在唯一的连续解$\n",
    "（提示：作逐步逼近函数序列\n",
    "$$\\varphi_0(x)=f(x)$$\n",
    "$$\\varphi_(n+1)(x)=f(x)+\\lambda\\int\\limits_a^b K(x,\\xi)\\varphi_n(\\xi)\\,\\mathrm{d}\\xi (n=0,1,2,\\dots)）$$"
   ]
  },
  {
   "cell_type": "markdown",
   "metadata": {},
   "source": [
    "**解：**\n",
    "\n",
    "$$ 构造逐步逼近函数序列，取\\varphi_0(x)=f(x)$$\n",
    "\n",
    "$$ 令\\varphi_1(x)=f(x)+\\lambda \\int_a^b K(x,\\xi)\\varphi_0(\\xi)\\mathrm d \\xi,\\ldots  $$\n",
    "\n",
    "\n",
    "$$\\varphi_{n+1}(x)=f(x)+\\lambda \\int_a^b K(x,\\xi)\\varphi_n(\\xi)\\mathrm d \\xi,\\ldots  $$\n",
    "\n",
    "$$ 令M=\\max \\limits_{x \\in [a,b]}|f(x)|,L=\\max_{\\substack{x \\in [a,b]\\ \\xi \\in [a,b]}}|K(x,\\xi)|>0 $$\n",
    "\n",
    "$$ 则|\\varphi_1(x)-\\varphi_0(x)|=|\\lambda  \\int_a^b K(x,\\xi)\\varphi_0(\\xi)\\mathrm d \\xi| \\leq |\\lambda|\\int_a^b |K(x,\\xi)||f(\\xi)|\\mathrm d \\xi \\leq |\\lambda|ML(b-a)$$\n",
    "\n",
    "$$ 假设|\\varphi_k(x)-\\varphi_{k-1}(x)| \\leq {|\\lambda|}^k L^k M(b-a)^k 成立$$\n",
    "\n",
    "$$ 则|\\varphi_{k+1}(x)-\\varphi_k(x)|=|\\lambda \\int_a^b K(x,\\xi)(\\varphi_k(\\xi)-\\varphi_{k-1}(\\xi))\\mathrm d \\xi|$$\n",
    "\n",
    "$$ \\leq |\\lambda|\\int_a^b |K(x,\\xi)||\\varphi_k(\\xi)-\\varphi_{k-1}(\\xi)|\\mathrm d \\xi$$\n",
    "\n",
    "$$ \\leq |\\lambda| \\int_a^b L^{k+1} {|\\lambda|}^k M(b-a)^k \\mathrm d \\xi =|\\lambda|^{k+1} L^{k+1} M(b-a)^{k+1}$$\n",
    "\n",
    "$$ 由数学归纳法可知，对任意的n \\in N,有$$\n",
    "\n",
    "$$|\\varphi_n(x)-\\varphi_{n-1}(x)| \\leq ML^n|\\lambda|^n(b-a)^n$$\n",
    "\n",
    "$$下证\\{\\varphi_n(x)\\}在[a,b]上一致收敛，$$\n",
    "\n",
    "$$ 考虑级数\\varphi_0(x)+\\displaystyle\\sum_{k=1}^\\infty (\\varphi_k(x)-\\varphi_{k-1}(x))$$\n",
    "\n",
    "$$ 只需证该级数在[a,b]上一致收敛即可，$$\n",
    "\n",
    "$$ 由于|\\varphi_k(x)-\\varphi_{k-1}(x)| \\leq ML^n|\\lambda|^n(b-a)^n$$\n",
    "\n",
    "$$ 当|\\lambda|<\\frac{1}{(b-a)L}时，级数 \\displaystyle\\sum_{k=1}^\\infty ML^k|\\lambda|^k(b-a)^k 收敛 $$\n",
    "\n",
    "$$ 由此可知当|\\lambda|<\\frac{1}{(b-a)L}时，级数\\varphi_0(x)+\\displaystyle\\sum_{k=1}^\\infty (\\varphi_k(x)-\\varphi_{k-1}(x))在[a,b]上一致收敛 $$\n",
    "\n",
    "$$ 即\\{\\varphi_n(x)\\}在[a,b]上一致收敛，$$\n",
    "\n",
    "$$ 不妨设其极限函数为\\varphi^*(x),即当x \\in [a,b]时，\\varphi_n(x)当n \\to \\infty时一致收敛于\\varphi^*(x)$$\n",
    "\n",
    "$$ 且由\\varphi_n(x)得连续性知\\varphi^*(x)在[a,b]上连续$$\n",
    "\n",
    "$$ \\varphi_{n+1}(x)=f(x)+\\lambda \\int_a^b K(x,\\xi)\\varphi_n(\\xi)\\mathrm d \\xi,\\ldots $$\n",
    "\n",
    "$$ 当n \\to \\infty 时两边取极限，$$\n",
    "\n",
    "$$得\\varphi^*(x)=f(x)+\\lambda \\int_a^b K(x,\\xi)\\varphi^*(x)\\mathrm d \\xi    (|\\lambda|<\\frac{1}{(b-a)L})$$\n",
    "\n",
    "$$ 即当|\\lambda|<\\frac{1}{(b-a)L}时,积分方程必存在连续解$$\n",
    "\n",
    "$$ 现在证当|\\lambda|<\\frac{1}{(b-a)L}时，\\varphi(x)=f(x)+\\lambda \\int_a^b K(x,\\xi)\\varphi(\\xi)\\mathrm d \\xi的解得唯一性$$\n",
    "\n",
    "$$ 用反证法设另有解\\varphi_m(x)且\\varphi_m(x) \\neq \\varphi^*(x)$$，\n",
    "\n",
    "$$ 即\\varphi_m(x)=f(x)+\\lambda \\int_a^b K(x,\\xi)\\varphi_m(\\xi)\\mathrm d \\xi$$\n",
    "\n",
    "$$ 记G=\\max \\limits_{x \\in [a,b]}|\\varphi^*(x)-\\varphi_m(x)|>0 $$\n",
    "\n",
    "$$|\\varphi^*(x)-\\varphi_m(x)|=|\\lambda \\int_a^b K(x,\\xi)(\\varphi^*(x)-\\varphi_m(\\xi))\\mathrm d \\xi|$$\n",
    "\n",
    "$$ \\leq |\\lambda| \\int_a^b L |\\varphi^*(x)-\\varphi_m(\\xi)| \\mathrm d \\xi=|\\lambda|GL(b-a)$$\n",
    "\n",
    "$$ 即有 G \\leq |\\lambda|GL(b-a)$$\n",
    "\n",
    "$$由于G>0,所以，|\\lambda| \\geq \\frac{1}{(b-a)L},与|\\lambda|<\\frac{1}{(b-a)L}矛盾，唯一性可证。$$"
   ]
  },
  {
   "cell_type": "markdown",
   "metadata": {},
   "source": [
    "# <font color='red'>A  11/10"
   ]
  },
  {
   "cell_type": "code",
   "execution_count": null,
   "metadata": {
    "collapsed": true
   },
   "outputs": [],
   "source": []
  }
 ],
 "metadata": {
  "kernelspec": {
   "display_name": "Python 2",
   "language": "python",
   "name": "python2"
  },
  "language_info": {
   "codemirror_mode": {
    "name": "ipython",
    "version": 2
   },
   "file_extension": ".py",
   "mimetype": "text/x-python",
   "name": "python",
   "nbconvert_exporter": "python",
   "pygments_lexer": "ipython2",
   "version": "2.7.10"
  }
 },
 "nbformat": 4,
 "nbformat_minor": 0
}
