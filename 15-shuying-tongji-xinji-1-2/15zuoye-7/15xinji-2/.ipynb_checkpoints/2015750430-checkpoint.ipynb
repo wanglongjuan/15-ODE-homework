{
 "cells": [
  {
   "cell_type": "markdown",
   "metadata": {
    "collapsed": true
   },
   "source": [
    "**10月18日**"
   ]
  },
  {
   "cell_type": "markdown",
   "metadata": {},
   "source": [
    "**1.设$x(t) $和$y(t) $是区间$a\\leq t \\leq b$上的连续函数，证明：如果在区间$a\\leq t \\leq b $ 上有$\\frac {\\mathrm x(t)}{\\mathrm y(t)}\\neq $常数，则$x(t)$和$y(t)$在区间$a\\leq t\\leq b$上线性无关。**\n",
    "\n",
    "**（提示:用反证法）**"
   ]
  },
  {
   "cell_type": "markdown",
   "metadata": {},
   "source": [
    "**若$x(t)$和$y(t)$在区间[a,b]上线性相关。**"
   ]
  },
  {
   "cell_type": "markdown",
   "metadata": {},
   "source": [
    "**则存在常数$k$,$b$使得：**"
   ]
  },
  {
   "cell_type": "markdown",
   "metadata": {},
   "source": [
    "$$k x(t)+b y(t)\\equiv 0 ,t\\in [a,b]$$"
   ]
  },
  {
   "cell_type": "markdown",
   "metadata": {},
   "source": [
    "**若**\n",
    "$$k\\neq 0时,\\quad \\frac{\\mathrm x(t)}{\\mathrm y(t)}=-\\frac{\\mathrm b}{\\mathrm k}$$\n",
    "\n",
    "$$b\\neq 0时,\\quad \\frac{\\mathrm x(t)}{\\mathrm y(t)}=-\\frac{\\mathrm k}{\\mathrm b}$$"
   ]
  },
  {
   "cell_type": "markdown",
   "metadata": {},
   "source": [
    "**与已知条件$\\frac {\\mathrm x(t)}{\\mathrm y(t)}\\neq $常数矛盾，所以假设不成立。即：**\n"
   ]
  },
  {
   "cell_type": "markdown",
   "metadata": {},
   "source": [
    "**若$x(t)$和$y(t)$在区间[a,b]上线性无关。**"
   ]
  },
  {
   "cell_type": "markdown",
   "metadata": {
    "collapsed": true
   },
   "source": [
    "**2.证明非齐次线性微分方程的叠加原理：设$x_1(t),x_2(t)$分别是非齐次线性微分方程**\n",
    "\n",
    "$$\\frac{\\mathrm d^n (x)}{\\mathrm d t^n}+a_1(t)\\frac{\\mathrm d^{n-1} x}{\\mathrm d t^{n-1}}+\\cdots+a_n(t)x=f_1(t)$$\n",
    "\n",
    "$$\\frac{\\mathrm d^n (x)}{\\mathrm d t^n}+a_1(t)\\frac{\\mathrm d^{n-1} x}{\\mathrm d t^{n-1}}+\\cdots+a_n(t)x=f_2(t)$$\n",
    "\n",
    "**的解，则$x_1(t)+x_2(t)$是方程**\n",
    "\n",
    "$$\\frac{\\mathrm d^n (x)}{\\mathrm d t^n}+a_1(t)\\frac{\\mathrm d^{n-1} x}{\\mathrm d t^{n-1}}+\\cdots+a_n(t)x=f_1(t)+f_2(t)$$\n",
    "\n",
    "**的解。**"
   ]
  },
  {
   "cell_type": "markdown",
   "metadata": {},
   "source": [
    "**解：依题目有，**\n",
    "\n",
    "$$\\frac{\\mathrm d^n x_1(t)}{\\mathrm d t^n}+a_1(t)\\frac{\\mathrm d^{n-1} x_1(t)}{\\mathrm d t^{n-1}}+\\cdots+a_n(t)x_1(t)=f_1(t)$$\n",
    "\n",
    "$$\\frac{\\mathrm d^n x_2(t)}{\\mathrm d t^n}+a_1(t)\\frac{\\mathrm d^{n-1} x_2(t)}{\\mathrm d t^{n-1}}+\\cdots+a_n(t)x_2(t)=f_2(t)$$"
   ]
  },
  {
   "cell_type": "markdown",
   "metadata": {},
   "source": [
    "**相加：**\n",
    "\n",
    "$$\\frac{\\mathrm d^n （x_1(t)+x_2(t))}{\\mathrm d t^n}+a_1(t)\\frac{\\mathrm d^{n-1} (x_1(t)+x_2(t))}{\\mathrm d t^{n-1}}+\\cdots+a_n(t)(x_1(t)+x_2(t))=f_1(t)+f_2(t)$$\n"
   ]
  },
  {
   "cell_type": "markdown",
   "metadata": {},
   "source": [
    "**则$x_1(t)+x_2(t)$是方程**\n",
    "\n",
    "$$\\frac{\\mathrm d^n (x)}{\\mathrm d t^n}+a_1(t)\\frac{\\mathrm d^{n-1} x}{\\mathrm d t^{n-1}}+\\cdots+a_n(t)x=f_1(t)+f_2(t)$$\n",
    "\n",
    "**的解。**"
   ]
  },
  {
   "cell_type": "markdown",
   "metadata": {},
   "source": [
    "**10月19日**"
   ]
  },
  {
   "cell_type": "markdown",
   "metadata": {},
   "source": [
    "**3.已知齐次线性微分方程的基本解组$x_1,x_2$,求下列方程对应的非齐次线性微分方程的通解；**\n",
    "\n",
    "**（1）.$x''-x=\\cos t,x_1=e^t,x_2=e^{-t}$**"
   ]
  },
  {
   "cell_type": "markdown",
   "metadata": {},
   "source": [
    "**解：**"
   ]
  },
  {
   "cell_type": "markdown",
   "metadata": {},
   "source": [
    "**令：**\n",
    "\n",
    "$x=C_1(t)e^t+C_2(t)e^{-t}$"
   ]
  },
  {
   "cell_type": "markdown",
   "metadata": {},
   "source": [
    "**代入：得**\n",
    "\n",
    "\\begin{cases}\n",
    "e^tC_1'(t)+e^{-t}C_2'(t)=0\\\\\n",
    "e^tC_1'(t)-e^{-t}C_2'(t)=\\cos t\\\\\n",
    "\\end{cases}"
   ]
  },
  {
   "cell_type": "markdown",
   "metadata": {},
   "source": [
    "$$C_1'(t)=\\frac{\\mathrm 1}{\\mathrm 2}\\cos t·e^{-t}；C_2'(t)=\\frac{\\mathrm -1}{\\mathrm 2}e^t\\cos t$$"
   ]
  },
  {
   "cell_type": "markdown",
   "metadata": {},
   "source": [
    "$$C_1(t)=\\frac{\\mathrm \\sin t-\\cos t}{\\mathrm 4}·e^{-t}+\\lambda_1 $$\n",
    "\n",
    "$$C_2(t)=\\frac{\\mathrm -1}{\\mathrm 4}(\\sin t+\\cos t)e^t+\\lambda_2$$"
   ]
  },
  {
   "cell_type": "markdown",
   "metadata": {},
   "source": [
    "**则通解为：**\n",
    "\n",
    "\n",
    "$x=C_1(t)e^t+C_2(t)e^{-t}=\\lambda _1e^t+\\lambda_2e^{-t}-\\frac{\\mathrm 1}{\\mathrm 2}\\cos t$"
   ]
  },
  {
   "cell_type": "markdown",
   "metadata": {},
   "source": [
    "**（3）.$x''+4x=t\\sin t,x_1=\\cos 2t,x_2=\\sin 2t;$**"
   ]
  },
  {
   "cell_type": "markdown",
   "metadata": {},
   "source": [
    "**令：**\n",
    "\n",
    "$x=C_1(t)\\cos 2t+C_2(t)\\sin 2t$"
   ]
  },
  {
   "cell_type": "markdown",
   "metadata": {},
   "source": [
    "**代入：得**\n",
    "\n",
    "\\begin{cases}\n",
    "\\cos 2t C_1'(t)+\\sin 2t C_2'(t)=0\\\\\n",
    "-2\\sin 2t C_1'(t)+2\\cos 2t C_2'(t)=t \\sin t\\\\\n",
    "\\end{cases}"
   ]
  },
  {
   "cell_type": "markdown",
   "metadata": {},
   "source": [
    "$$C_1'(t)=-\\frac{\\mathrm 1}{\\mathrm 2}t \\sin  t\\sin 2t；C_2'(t)=\\frac{\\mathrm 1}{\\mathrm 2}t \\sin t\\cos 2t$$"
   ]
  },
  {
   "cell_type": "markdown",
   "metadata": {},
   "source": [
    "**积分得：**"
   ]
  },
  {
   "cell_type": "markdown",
   "metadata": {},
   "source": [
    "$$C_1(t)=\\frac{\\mathrm 1}{\\mathrm 4}[\\frac{\\mathrm 1}{\\mathrm 3}t\\sin 3t +\\frac{\\mathrm 1}{\\mathrm 9}\\cos 3t-t\\sin t-\\cos t]+\\lambda_1 $$\n",
    "\n",
    "$$C_2(t)=\\frac{\\mathrm 1}{\\mathrm 4}[-\\frac{\\mathrm 1}{\\mathrm 3}t\\cos 3t +\\frac{\\mathrm 1}{\\mathrm 9}\\sin 3t-t\\cos t-\\sin t]+\\lambda_2 $$"
   ]
  },
  {
   "cell_type": "markdown",
   "metadata": {},
   "source": [
    "**则通解为：**\n",
    "\n",
    "$x=C_1(t)\\cos 2t+C_2(t)\\sin 2t=C_1\\cos 2t+C_2\\sin 2t+\\frac{\\mathrm t}{\\mathrm 3}\\sin t-\\frac{\\mathrm 2}{\\mathrm 9}\\cos t$"
   ]
  },
  {
   "cell_type": "markdown",
   "metadata": {},
   "source": [
    "**（5）.$t^2x''-t x'+x=6t+34t^2,x_1=t,x_2=tlnt$；**"
   ]
  },
  {
   "cell_type": "markdown",
   "metadata": {},
   "source": [
    "**令：**\n",
    "\n",
    "$x=C_1(t)t+C_2(t)tln t$"
   ]
  },
  {
   "cell_type": "markdown",
   "metadata": {},
   "source": [
    "$$t^2x''-t x'+x=6t+34t^2\\quad \\to \\quad x''-\\frac{\\mathrm 1}{\\mathrm t}x'+\\frac{\\mathrm 1}{\\mathrm t^2}x=\\frac{\\mathrm 6}{\\mathrm t}+34$$"
   ]
  },
  {
   "cell_type": "markdown",
   "metadata": {},
   "source": [
    "**代入：得**\n",
    "\n",
    "\\begin{cases}\n",
    "t C_1'(t)+t ln tC_2'(t)=0\\\\\n",
    "C_1'(t)+(lnt +1) C_2'(t)=\\frac{\\mathrm 6}{\\mathrm t}+34\\\\\n",
    "\\end{cases}"
   ]
  },
  {
   "cell_type": "markdown",
   "metadata": {},
   "source": [
    "\\begin{aligned}\n",
    "C_1(t)&=-34(tln t)-3(lnt)^2+\\lambda_1 \\\\\n",
    "C_2(t)&=34t+6ln t+\\lambda_2\\\\\n",
    "\\end{aligned}"
   ]
  },
  {
   "cell_type": "markdown",
   "metadata": {},
   "source": [
    "**则通解为：**\n",
    "\n",
    "$x=C_1(t)t+C_2(t)tln t=C_1·t+C_2t lnt+34t^2+3t(lnt)^2$"
   ]
  },
  {
   "cell_type": "markdown",
   "metadata": {},
   "source": [
    "**6.假设$x_1(t)\\neq 0$是二阶齐次线性微分方程**\n",
    "\n",
    "$$x''+a_1(t)x'+a_2(t)x=0$$\n",
    "\n",
    "**的解，这里$a_1(t)$和$a_2(t)$于区间$[a,b]$上连续，试证：**\n",
    "\n",
    "**（1）.$x_2(t)$为方程的解的充要条件是**\n",
    "\n",
    "$$W'[x_1,x_2]+a_1W[x_1,x_2]=0；$$\n",
    "\n",
    "**（2）.方程的通解可表为：**\n",
    "\n",
    "$$x=x_1[c_1\\int \\frac{\\mathrm 1}{\\mathrm {x_1}^2} exp(-\\int_{t_0}^t a_1(s)ds)dt+c_2],$$\n",
    "\n",
    "**其中，$c_1,c_2$为任意常数，$t_0,t\\in [a,b]$**"
   ]
  },
  {
   "cell_type": "markdown",
   "metadata": {},
   "source": [
    "**解：**"
   ]
  },
  {
   "cell_type": "markdown",
   "metadata": {},
   "source": [
    "**（1）.充分性;**\n",
    "\n",
    "\\begin{aligned}\n",
    "W[x_1,x_2]&=\\begin{vmatrix}x_1&x_2\\\\x_1'&x_2'\\\\\\end{vmatrix}\\\\\n",
    "W'[x_1,x_2]&=\\begin{vmatrix}{x_1}'&{x_2}'\\\\x_1'&x_2'\\\\\\end{vmatrix}+\\begin{vmatrix}x_1&x_2\\\\x_1''&x_2''\\\\\\end{vmatrix}=\\begin{vmatrix}x_1&x_2\\\\x_1''&x_2''\\\\\\end{vmatrix}\\\\\n",
    "\\end{aligned}"
   ]
  },
  {
   "cell_type": "markdown",
   "metadata": {},
   "source": [
    "\\begin{aligned}\n",
    "W'[x_1,x_2]+a_1W[x_1,x_2]&=\\begin{vmatrix}x_1&x_2\\\\x_1''&x_2''\\\\\\end{vmatrix}+a_1(t)\\begin{vmatrix}x_1&x_2\\\\x_1'&x_2'\\\\\\end{vmatrix}\\\\\n",
    "&=\\begin{vmatrix}x_1&x_2\\\\x_1''+a_1(t)x'&x_2''+a_1(t)x_2'\\\\\\end{vmatrix}\\\\\n",
    "&=0\n",
    "\\end{aligned}"
   ]
  },
  {
   "cell_type": "markdown",
   "metadata": {},
   "source": [
    "**又$x_1''+a_1(t)x'=-a_2(t)x_1 $；代入上式**"
   ]
  },
  {
   "cell_type": "markdown",
   "metadata": {},
   "source": [
    "$$\\begin{vmatrix}x_1&x_2\\\\-a_2(t)x_1&x_2''+a_1(t)x_2'\\\\\\end{vmatrix}=x_1\\begin{vmatrix}1&x_2\\\\-a_2(t)&x_2''+a_1(t)x_2'\\\\\\end{vmatrix}=0$$"
   ]
  },
  {
   "cell_type": "markdown",
   "metadata": {},
   "source": [
    "**又 $x_1\\neq 0$ 即：**\n",
    "\n",
    "$$x''+a_1(t)x'+a_2(t)x=0$$"
   ]
  },
  {
   "cell_type": "markdown",
   "metadata": {},
   "source": [
    "**必要性：已知 $x ''+a_1(t)x'+a_2(t)x=0$**"
   ]
  },
  {
   "cell_type": "markdown",
   "metadata": {},
   "source": [
    "\\begin{aligned}\n",
    "W'[x_1,x_2]&=\\begin{vmatrix}x_1&x_2\\\\x_1''&x_2''\\\\\\end{vmatrix}\\\\\n",
    "&=\\begin{vmatrix}x_1&x_2\\\\x_1''+a_1(t)x'&x_2''+a_1(t)x_2'\\\\\\end{vmatrix}\\\\\n",
    "&=\\begin{vmatrix}x_1&x_2\\\\-a_1(t){x_1}'&-a_1(t){x_2}'\\\\\\end{vmatrix}\\\\\n",
    "&=-a_1(t)\\begin{vmatrix}x_1&x_2\\\\{x_1}'&{x_2}'\\\\\\end{vmatrix}=-a_1W[x_1,x_2]\\\\\n",
    "\\end{aligned}"
   ]
  },
  {
   "cell_type": "markdown",
   "metadata": {},
   "source": [
    "**即：**\n",
    "\n",
    "$$W'[x_1,x_2]+a_1W[x_1,x_2]=0；$$"
   ]
  },
  {
   "cell_type": "markdown",
   "metadata": {},
   "source": [
    "**（2）.根据第五题：**\n",
    "\n",
    "$$W[x_1,x_2]=\\begin{vmatrix}x_1&x_2\\\\{x_1}'&{x_2}'\\\\\\end{vmatrix}=W(t_0)e^{-\\int_{t_0}^t a_1(s)ds}$$"
   ]
  },
  {
   "cell_type": "markdown",
   "metadata": {},
   "source": [
    "\\begin{aligned}\n",
    "x_1{x_2}'-{x_1}'x_2&=W(t_0)e^{-\\int_{t_0}^t a_1(s)ds}\\\\\n",
    "\\frac{\\mathrm d(\\frac {\\mathrm {x_2}}{\\mathrm {x_1}})}{\\mathrm dt}&=\\frac{\\mathrm W(t_0)}{\\mathrm {x_1}^2}e^{-\\int_{t_0}^t a_1(s)ds}\\\\\n",
    "\\end{aligned}"
   ]
  },
  {
   "cell_type": "markdown",
   "metadata": {},
   "source": [
    "**两边同时积分：**\n",
    "\n",
    "$$\\frac{\\mathrm x_2}{\\mathrm x_1}=c_1\\int\\frac{\\mathrm 1}{\\mathrm {x_1}^2}e^{-\\int_{t_0}^t a_1(s)ds}dt+c_2$$"
   ]
  },
  {
   "cell_type": "markdown",
   "metadata": {},
   "source": [
    "**则原方程的通解为：**\n",
    "\n",
    "$$x=x_1[c_1\\int\\frac{\\mathrm 1}{\\mathrm {x_1}^2}e^{-\\int_{t_0}^t a_1(s)ds}dt+c_2]$$\n",
    "\n",
    "**其中，$c_1,c_2$为任意常数，$t_0,t\\in [a,b]$**"
   ]
  },
  {
   "cell_type": "markdown",
   "metadata": {},
   "source": [
    "**证毕**"
   ]
  },
  {
   "cell_type": "markdown",
   "metadata": {},
   "source": [
    "# <font color='red'>A 26/10"
   ]
  },
  {
   "cell_type": "code",
   "execution_count": null,
   "metadata": {
    "collapsed": true
   },
   "outputs": [],
   "source": []
  }
 ],
 "metadata": {
  "kernelspec": {
   "display_name": "SageMath 7.3",
   "language": "",
   "name": "sagemath"
  },
  "language_info": {
   "codemirror_mode": {
    "name": "ipython",
    "version": 2
   },
   "file_extension": ".py",
   "mimetype": "text/x-python",
   "name": "python",
   "nbconvert_exporter": "python",
   "pygments_lexer": "ipython2",
   "version": "2.7.10"
  }
 },
 "nbformat": 4,
 "nbformat_minor": 0
}
