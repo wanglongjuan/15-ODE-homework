{
 "cells": [
  {
   "cell_type": "markdown",
   "metadata": {},
   "source": [
    "$2015750407魏雄峰常微分第八周作业$"
   ]
  },
  {
   "cell_type": "markdown",
   "metadata": {},
   "source": [
    "$P131 $\n",
    "\n",
    "$1.解：假设x(t),y(t)在区间a \\leq t \\leq b上线性相关$\n",
    "\n",
    "$则存在不全为零的常数\\alpha,\\beta,使得\\alpha x(t)+\\beta y(t) \\equiv 0,t \\in [a,b]$\n",
    "\n",
    "$设x(t)不为零，则有\\frac{y(t)}{x(t)}=-\\frac{\\beta}{\\alpha},显然-\\frac{\\beta}{\\alpha}为常数，与题设矛盾$\n",
    "\n",
    "$所以假设不成立，即证明了x(t),y(t)在区间a \\leq t \\leq b上线性无关$"
   ]
  },
  {
   "cell_type": "markdown",
   "metadata": {},
   "source": [
    "$2.证明：由题设条件可知x_1(t),x_2(t)分别是两个方程的解$\n",
    "\n",
    "$则\\frac{d^nx_1(t)}{dt^n}+a_1(t)\\frac{d^{n-1}x_1(t)}{dt^{n-1}}+\\cdots+a_n(t)x_1(t)=f_1(t)$\n",
    "\n",
    "$\\frac{d^nx_2(t)}{dt^n}+a_1(t)\\frac{d^{n-1}x_2(t)}{dt^{n-1}}+\\cdots+a_n(t)x_2(t)=f_2(t)$\n",
    "\n",
    "$两式相加，由导数的运算法则得$\n",
    "\n",
    "$\\frac{d^n(x_1(t)+x_2(t))}{dt^n}+a_1(t)\\frac{d^{n-1}(x_1(t)+x_2(t)}{dt^{n-1}}+\\cdots+a_n(t)(x_1(t)+x_2(t))=f_1(t)+f_2(t)$\n",
    "\n",
    "$即说明x_1(t)+x_2(t)是方程\\frac{d^nx}{dt^n}+a_1(t)\\frac{d^{n-1}x}{dt^{n-1}}+\\cdots+a_n(t)x=f_1(t)+f_2(t)的解$"
   ]
  },
  {
   "cell_type": "markdown",
   "metadata": {
    "collapsed": true
   },
   "source": [
    "$3.(1)解：令x(t)=c_1(t)e^t+c_2(t)e^{-t},代入方程，得$\n",
    "\n",
    "$$\n",
    "\\begin{cases}\n",
    "c_1'(t)e^t+c_2'(t)e^{-t}=0\\\\\n",
    "c_1'(t)e^t-c_2'(t)e^{-t}=\\cos t\\\\\n",
    "\\end{cases}\n",
    "$$\n",
    "\n",
    "$解得：$\n",
    "$$\n",
    "\\begin{cases}\n",
    "c_1'(t)=\\frac{1}{2}e^{-t} \\cos t\\\\\n",
    "c_2'(t)=-\\frac{1}{2}e^t \\cos t\\\\\n",
    "\\end{cases}\n",
    "$$\n",
    "\n",
    "$积分得c_1(t)=-\\frac{1}{4}e^{-t}(\\cos t -\\sin t)+c_1;c_2(t)=-\\frac{1}{4}e^t(\\cos t +\\sin t)+c_2$\n",
    "\n",
    "$\\therefore所求通解为x(t)=c_1e^t+c_2e^{-t}-\\frac{1}{2} \\cos t$"
   ]
  },
  {
   "cell_type": "markdown",
   "metadata": {},
   "source": [
    "$3.(3)解:令x=c_1(t) \\cos 2t+c_2(t) \\sin 2t,代入方程，可得$\n",
    "\n",
    "$$\n",
    "\\begin{cases}\n",
    "c_1'(t) \\cos 2t+c_2'(t) \\sin 2t=0\\\\\n",
    "-2c_1'(t) \\sin 2t+2c_2'(t) \\cos 2t=t \\sin 2t\\\\\n",
    "\\end{cases}\n",
    "$$\n",
    "\n",
    "$$\n",
    "解得：\n",
    "\\begin{cases}\n",
    "c_1'(t)=\\frac{1}{4}t(\\cos 4t-1)\\\\\n",
    "c_2'(t)=\\frac{1}{4}t \\sin 4t\\\\\n",
    "\\end{cases}\n",
    "$$\n",
    "\n",
    "$$\n",
    "积分得：\n",
    "\\begin{cases}\n",
    "c_1(t)=\\frac{1}{64} \\cos 4t+\\frac{1}{16}t \\sin 4t-\\frac{1}{8}t^2+ \\lambda_1\\\\\n",
    "c_2(t)=\\frac{1}{64} \\sin 4t-\\frac{1}{16}t \\cos 4t+ \\lambda_2\\\\\n",
    "\\end{cases}\n",
    "$$\n",
    "\n",
    "$\\therefore方程的通解为x=c_1 \\cos 2t+c_2 \\sin 2t-\\frac{1}{8}t^2 \\cos 2t+\\frac{1}{16}t \\sin 2t$\n",
    "\n",
    "$其中c_1,c_2为任意常数$"
   ]
  },
  {
   "cell_type": "markdown",
   "metadata": {},
   "source": [
    "$3.(5)解：原方程可化为x\"-\\frac{1}{t}x'+\\frac{1}{t^2}x=\\frac{6}{t}+34$\n",
    "\n",
    "$设方程的解为x=tc_1(t)+t \\ln t c_2(t),将他代入方程，则可得关于c_1'(t)和c_2'(t)的方程组$\n",
    "\n",
    "$$\n",
    "\\begin{cases}\n",
    "tc_1'(t)+t \\ln t c_2'(t)=0\\\\\n",
    "c_1'(t)+(\\ln t+1)c_2'(t)=\\frac{6}{t}+34\\\\\n",
    "\\end{cases}\n",
    "$$\n",
    "\n",
    "$$\n",
    "解得：\n",
    "\\begin{cases}\n",
    "c_1'(t)=-\\ln t(\\frac{6}{t}+34)\\\\\n",
    "c_2'(t)=\\frac{6}{t}+34\\\\\n",
    "\\end{cases}\n",
    "$$\n",
    "\n",
    "$$\n",
    "积分得\n",
    "\\begin{cases}\n",
    "c_1(t)=-34(t \\ln t -t)-3(\\ln t)^2+c_1\\\\\n",
    "c_2(t)=34t+6 \\ln t +c_2\\\\\n",
    "\\end{cases}\n",
    "$$\n",
    "\n",
    "$\\therefore方程的通解为x=c_1t+c_2t \\ln t +34t^2+3t(\\ln t)^2,其中c_1,c_2为任意常数$"
   ]
  },
  {
   "cell_type": "markdown",
   "metadata": {},
   "source": [
    "$6.(1)证明:w'[x_1,x_2]+a_1w[x_1,x_2]=0$\n",
    "\n",
    "$\\Leftarrow\\Rightarrow x_1x_2\"-x_1\"x_2'-a_1x_1'x_2=0$\n",
    "\n",
    "$\\Leftarrow\\Rightarrow x_1x_2\"+a_1x_1'x_2+z_1x_1x_2+a_1x_1x_2'-a_1x_1'x_2=0$\n",
    "\n",
    "$\\Leftarrow\\Rightarrow x_1(x_2\"+a_1x_2'+a_1x_2)=0$\n",
    "\n",
    "$\\Leftarrow\\Rightarrow x_1(x_2\"+a_1x_2'+a_1x_2)=0,(x_1 \\not= 0)$\n",
    "\n",
    "$即x_2为方程的解$"
   ]
  },
  {
   "cell_type": "markdown",
   "metadata": {},
   "source": [
    "$(2)证明：\\because x_1,x_2为方程的解，则有$\n",
    "\n",
    "$$ \n",
    "\\begin{vmatrix} \n",
    "x_1 & x_2 \\\\ \n",
    "x_1' & x_2'\\\\ \n",
    "\\end{vmatrix} \n",
    "=w(t_0)e^{-\\int\\limits_{t_0}^t a_1(s) d s}\n",
    "$$ \n",
    "\n",
    "$即：x_1x_2'-x_1'x_2=w(t_0)e^{-\\int\\limits_{t_0}^t a_1(s) d s}$\n",
    "\n",
    "$两边同时乘以\\frac{1}{x_1^2}则有\\frac{d\\frac{x_2}{x_1}}{dt}=\\frac{w(t_0)}{x-1^2}e^{-\\int\\limits_{t_0}^t a_1(s) d s}$\n",
    "\n",
    "$\\therefore \\frac{x_2}{x_1}=c_1\\int \\frac{1}{x_1^2}e^{-\\int\\limits_{t_0}^t a_1(s) d s} d t +c_2$\n",
    "\n",
    "$即x_2=(c_1\\int \\frac{1}{x_1^2}e^{-\\int\\limits_{t_0}^t a_1(s) d s} d t +c_2)x_1$\n",
    "\n",
    "$令c_1=1,c_2=0,得x_2=x_1\\int \\frac{1}{x_1^2}e^{-\\int\\limits_{t_0}^t a_1(s) d s} d t $\n",
    "\n",
    "$$\n",
    "又\\because \n",
    "w(t)=\n",
    "\\begin{vmatrix} \n",
    "x_1 & x_2 \\\\ \n",
    "x_1' & x_2'\\\\ \n",
    "\\end{vmatrix} \n",
    "=w(t_0)e^{-\\int\\limits_{t_0}^t a_1(s) d s} \\not= 0\n",
    "$$\n",
    "\n",
    "$\\therefore方程的通解为：x=x_1[c_1\\int \\frac{1}{x_1^2}exp(-\\int\\limits_{t_0}^t a_1(s) d s) d t =c_2]$\n",
    "\n",
    "$其中c_1,c_2为常数，t,t_0 \\in [a,b]$"
   ]
  },
  {
   "cell_type": "markdown",
   "metadata": {},
   "source": [
    "# <font color='red'>A 26/10\n"
   ]
  },
  {
   "cell_type": "code",
   "execution_count": null,
   "metadata": {
    "collapsed": true
   },
   "outputs": [],
   "source": []
  }
 ],
 "metadata": {
  "kernelspec": {
   "display_name": "SageMath 7.3",
   "language": "",
   "name": "sagemath"
  },
  "language_info": {
   "codemirror_mode": {
    "name": "ipython",
    "version": 2
   },
   "file_extension": ".py",
   "mimetype": "text/x-python",
   "name": "python",
   "nbconvert_exporter": "python",
   "pygments_lexer": "ipython2",
   "version": "2.7.10"
  }
 },
 "nbformat": 4,
 "nbformat_minor": 0
}
