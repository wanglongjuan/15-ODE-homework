{
 "cells": [
  {
   "cell_type": "markdown",
   "metadata": {},
   "source": [
    "# 常微分方程作业 2015750437 李玉贤 \n",
    "##P131.1.2.3.(1).(3).(5).6."
   ]
  },
  {
   "cell_type": "markdown",
   "metadata": {},
   "source": [
    "**$1.设x(t)和y(t)是区间a\\leq t\\leq b上的连续函数，证明：如果在区间a\\leq t\\leq b上有\\frac{x(t)}{y(t)}\\neq常数或\\frac{y(t)}{x(t)}\\neq常数,则x(t)和y(t)在区间a\\leq t\\leq b上线性无关（提示：用反证法）\n",
    "$**"
   ]
  },
  {
   "cell_type": "markdown",
   "metadata": {},
   "source": [
    " **$ 证明:$**\n",
    " $用反证法，假设x_1(t)和x_2(t)在区间[a,b]上线性相关,则存在不全为零的常数C_1和C_2使得：$\n",
    " $$C_1x(t)+C_2y(t)\\equiv 0,t\\in[a,b]$$\n",
    " $若C_2\\neq 0,则\\frac{y(t)}{x(t)}=-\\frac{C_1}{C_2}=常数$\n",
    " $若C_1\\neq 0,则\\frac{y(t)}{x(t)}=-\\frac{C_2}{C_1}=常数$\n",
    " $以上两种情况，都与\\frac{x(t)}{y(t)}\\neq常数或\\frac{y(t)}{x(t)}\\neq常数矛盾，所以假设不成立，x(t)和y(t)在区间[a,b]上线性无关$"
   ]
  },
  {
   "cell_type": "markdown",
   "metadata": {
    "collapsed": true
   },
   "source": [
    "**$2.证明非齐次线性微分方程的叠加原理：设x_1(t),x_2(t)分别是非齐次线性微分方程$\n",
    "$$\n",
    "\\begin{aligned}\n",
    "\\frac{d^n x}{dt^n}+a_1(t)\\frac{d^{n-1} x}{dt^{n-1}}+\\cdots+a_n(t)x&=f_1(t),\\\\\n",
    "\\frac{d^n x}{dt^n}+a_1(t)\\frac{d^{n-1} x}{dt^{n-1}}+\\cdots+a_n(t)x&=f_2(t)\n",
    "\\end{aligned}\n",
    "$$\n",
    "$的解，则x_1(t)+x_2(t)是方程$\n",
    "$$\\frac{d^n x}{dt^n}+a_1(t)\\frac{d^{n-1} x}{dt^{n-1}}+\\cdots+a_n(t)x=f_1(t)+f_2(t)$$\n",
    "$的解\n",
    "$**"
   ]
  },
  {
   "cell_type": "markdown",
   "metadata": {},
   "source": [
    " **$ 证明:$**\n",
    " $x_1(t),x_2(t)分别是非齐次线性微分方程$\n",
    " $$\n",
    "\\begin{aligned}\n",
    "\\frac{d^n x}{dt^n}+a_1(t)\\frac{d^{n-1} x}{dt^{n-1}}+\\cdots+a_n(t)x&=f_1(t),\\\\\n",
    "\\frac{d^n x}{dt^n}+a_1(t)\\frac{d^{n-1} x}{dt^{n-1}}+\\cdots+a_n(t)x&=f_2(t)\n",
    "\\end{aligned}\n",
    "$$\n",
    "$的解，所以满足$\n",
    "$$\n",
    "\\begin{aligned}\n",
    "\\frac{d^n x_1(t)}{dt^n}+a_1(t)\\frac{d^{n-1} x_1(t)}{dt^{n-1}}+\\cdots+a_n(t)x_1(t)&=f_1(t),\n",
    "\\frac{d^n x_2(t)}{dt^n}+a_1(t)\\frac{d^{n-1} x_2(t)}{dt^{n-1}}+\\cdots+a_n(t)x_2(t)&=f_2(t)\n",
    "\\end{aligned}\n",
    "$$\n",
    " $将以上两式相加$\n",
    "$$\\frac{d^n (x_1(t)+x_2(t))}{dt^n}+a_1(t)\\frac{d^{n-1}( x_1(t)+x_2(t))}{dt^{n-1}}+\\cdots+a_n(t)(x_1(t)+x_2(t))=f_1(t)+f_2(t)$$\n",
    "$则x_1(t)+x_2(t)是方程$\n",
    "$$\\frac{d^n x}{dt^n}+a_1(t)\\frac{d^{n-1} x}{dt^{n-1}}+\\cdots+a_n(t)x=f_1(t)+f_2(t)$$\n",
    "$的解$"
   ]
  },
  {
   "cell_type": "markdown",
   "metadata": {
    "collapsed": true
   },
   "source": [
    "**$3.已知齐次线性微分方程的基本解组x_1，x_2，求下列方程对应的非齐次线性微分方程的通解：$**"
   ]
  },
  {
   "cell_type": "markdown",
   "metadata": {
    "collapsed": true
   },
   "source": [
    "**$(1)x''-x=\\cos t,x_1=e^t,x_2=e^{-t};$**"
   ]
  },
  {
   "cell_type": "markdown",
   "metadata": {},
   "source": [
    " **$ 解:$**\n",
    " $$应用常数变易法，令x=C_1(t)e^t+C_2(t)e^{-t},\\\\\n",
    " 并将它代入方程，得：\\\\\n",
    " e'C_1'(t)+e^{-t}C_2'(t)=0\\\\\n",
    " e'C_1'(t)+e^{-t}C_2'(t)=\\cos t\n",
    " $$\n",
    " $$解得C_1'(t)=\\frac{1}{2}\\cos t e^{-t},C_2'(t)={-\\frac{1}{2}}\\cos t e^t\\\\\n",
    "则 C_1(t)=\\frac{\\sin t-\\cos t}{4}e^{-t}+\\gamma_1\\\\\n",
    "C_2(t)={-\\frac{1}{4}}(\\sin t+\\cos t)e^t+\\gamma_2\\\\\n",
    "原方程的通解为\\\\\n",
    "x=\\gamma_1e^t+\\gamma_2e^{-t}-\\frac{1}{2}\\cos t\n",
    "$$\n"
   ]
  },
  {
   "cell_type": "markdown",
   "metadata": {},
   "source": [
    "**$(3)x''+4x=t\\sin {2t},x_1=\\cos {2t},x_2=\\sin {2t};$**"
   ]
  },
  {
   "cell_type": "markdown",
   "metadata": {},
   "source": [
    " **$ 解:$**\n",
    " $$令x_1=C_1(t)\\cos {2t}+C_2(t)\\sin {2t}并将它代入方程，得：\\\\\n",
    " C_1'(t)\\cos {2t}+\\sin {2t}C_2'(t)=0\\\\\n",
    " -2\\sin {2t}C_1'(t)+2\\cos {2t}C_2'(t)=t\\sin {2t}\\\\\n",
    "解得C_1'(t)=-\\frac{1}{2}t\\sin ^2{2t},C_2'(t)=\\frac{1}{2}t\\sin 2t \\cos 2t\\\\\n",
    "则原方程的通解为\\\\\n",
    "x=C_1\\cos 2t+C_2\\sin 2t-\\frac{t^2}{8}\\cos 2t+\\frac{t}{16}\\sin 2t\n",
    "$$\n"
   ]
  },
  {
   "cell_type": "markdown",
   "metadata": {},
   "source": [
    "**$(5)t^2x''-tx'+x=6t+34t^2,x_1=t,x_2=tlnt;$**"
   ]
  },
  {
   "cell_type": "markdown",
   "metadata": {},
   "source": [
    "**$ 解:$**\n",
    " $$应用常数变易法，令x=c_1(t)t+c_2(t)t \\ln t,\\\\\n",
    " 对其求导得x'=c_1'(t)t+c_1(t)+c_2'(t）t \\ln t+c_2(t)\\ln t+c_2(t)\\\\\n",
    " 令 c_1'(t)t+c_2'(t)t \\ln t=0\\\\\n",
    " 则 x'=c_1(t)+c_2(t)+c_2(t) \\ln t\\\\\n",
    " x''=c_1'(t)+c_2'(t)+c_2'(t)\\ln t+c_2(t)\\frac{1}{t}\\\\\n",
    "解得c_1'(t)=-\\frac{(6+34t)\\ln t}{t},c_2'(t)=\\frac{6t+34t^2}{t^2}\\\\\n",
    "则 c_1(t)=-3\\ln^2 t-34t \\ln t+34t+\\gamma_1\\\\\n",
    "c_2(t)=6\\ln t+34t+\\gamma_2\\\\\n",
    "原方程的通解为\\\\\n",
    "x=3t\\ln^2 t+34t^2+t\\gamma_1+t\\ln t \\gamma_2\n",
    "$$\n"
   ]
  },
  {
   "cell_type": "markdown",
   "metadata": {},
   "source": [
    "$6.假设 $x_1(t)\\neq 0$ 是二阶齐次线性微分方程$ \n",
    "\n",
    "$$x''+a_1(t)x'+a_2(t)x=0$$ \n",
    "\n",
    "的解，这里 $a_1(t)$ 和 $a_2(t)$ 于区间 $[a,b]$ 上连续，试证：\n",
    "\n",
    "（1）$x_2(t)$ 为方程的解的充要条件是 $$W'[x_1,x_2]+a_1W[x_1,x_2]=0$$\n",
    "\n",
    "（2）方程的通解可表为 $$x=x_1[c_1 \\int \\frac{1}{x^2}exp(-\\int_{t_0}^t a_1(s) \\mathrm d s)\\mathrm d t+c_2]$$ 其中 $c_1,c_2$ 为任意常数，$t_0,t \\in [a,b]$"
   ]
  },
  {
   "cell_type": "markdown",
   "metadata": {},
   "source": [
    "**$ 证明:$**\n",
    "**（1）充分性：**\n",
    "已知\n",
    "$$\n",
    "\\begin{aligned}\n",
    "W[x_1,x_2]&=\\begin{vmatrix}\n",
    "                x_1 & x_2\\\\\n",
    "                x_1' & x_2'\n",
    "               \\end{vmatrix}\\\\\n",
    "W'[x_1,x_2]&=\\begin{vmatrix}\n",
    "                x_1' & x_2'\\\\\n",
    "                x_1' & x_2'\n",
    "               \\end{vmatrix}\n",
    "           +  \\begin{vmatrix}\n",
    "                 x_1 & x_2\\\\\n",
    "                 x_1'' & x_2''\n",
    "               \\end{vmatrix}\n",
    "\\end{aligned}\n",
    "$$\n",
    "即 $$W'[x_1,x_2]=\\begin{vmatrix}\n",
    "                 x_1 & x_2\\\\\n",
    "                 x_1'' & x_2''\n",
    "               \\end{vmatrix}$$\n",
    "则$$\n",
    "\\begin{aligned}\n",
    "W'[x_1,x_2]+a_1W[x_1,x_2]&=\\begin{vmatrix}\n",
    "                             x_1 & x_2\\\\\n",
    "                             x_1'' & x_2''\n",
    "                           \\end{vmatrix}\n",
    "                          +a_1(t)\\begin{vmatrix}\n",
    "                                  x_1 & x_2 \\\\\n",
    "                                  x_1' & x_2'\n",
    "                                 \\end{vmatrix}\\\\\n",
    "                          &=\\begin{vmatrix}\n",
    "                            x_1 & x_2\\\\\n",
    "                            x_1''+a_1(t)x_1' & x_2''+a_1(t)x_2'\n",
    "                           \\end{vmatrix}\n",
    "\\end{aligned}\n",
    "$$\n",
    "已知 $x_1(t)$ 是已知方程的解，则有\n",
    "$$\\begin{vmatrix}\n",
    "  x_1 & x_2\\\\\n",
    "  x_1''+a_1(t)x_1' & x_2''+a_1(t)x_2'\n",
    "  \\end{vmatrix}\n",
    "  =\\begin{vmatrix}\n",
    "     x_1 & x_2\\\\\n",
    "     -a_2(t)x_1(t) & x_2''+a_1(t)x_2'\n",
    "   \\end{vmatrix}\n",
    "  =x_1\\begin{vmatrix}\n",
    "        1 & x_2\\\\\n",
    "        -a_2(t) & x_2''+a_1(t)x_2'\n",
    "       \\end{vmatrix}=0\n",
    "       $$  \n",
    "因此，$$x_2''+a_1(t)x_2'+a_2(t)x_2$$\n",
    "即 $x_2(t)$ 是方程的解  \n",
    "**必要性：**\n",
    "$W[x_1,x_2]$ 是方程的解 $x_1(t),x_2(t)$ 的朗斯基行列式，得到\n",
    "$$\n",
    "\\begin{aligned}\n",
    "W'[x_1,x_2]&=\\begin{vmatrix}\n",
    "                x_1 & x_2\\\\\n",
    "                x_1'' & x_2''\n",
    "                \\end{vmatrix}\\\\\n",
    "             &=\\begin{vmatrix}\n",
    "               x_1 & x_2\\\\\n",
    "               x_1''+a_2(t)x_1 & x_2''+a_2(t)x_2\n",
    "               \\end{vmatrix}\\\\\n",
    "              &=\\begin{vmatrix}\n",
    "               x_1 & x_2\\\\\n",
    "               -a_1(t)x_1' & -a_1(t)x_2'\n",
    "               \\end{vmatrix}\\\\\n",
    "              &=-a_1(t)\\begin{vmatrix}\n",
    "                        x_1 & x_2\\\\\n",
    "                        x_1' & x_2'\n",
    "                        \\end{vmatrix}\\\\\n",
    "               &=-a_1(t)W[x_1,x_2]\n",
    " \\end{aligned}\n",
    "$$\n",
    "即 $W[x_1.x_2]$ 满足 $W'[x_1,x_2]+a_1W[x_1,x_2]=0$               "
   ]
  },
  {
   "cell_type": "markdown",
   "metadata": {},
   "source": [
    "**（2）**\n",
    "因为 $x_1,x_2$ 为方程的解，则由刘维尔公式得\n",
    "\n",
    "$$\\begin{vmatrix}\n",
    "     x_1 & x_2\\\\\n",
    "     x_1' & x_2'\n",
    "  \\end{vmatrix}\n",
    " =W(t_0)e^{-\\int_{t_0}^t a_1(s) \\mathrm d s}$$\n",
    " 即 $$x_1x_2'-x_1'x_2=W(t_0)e^{-\\int_{t_0}^t a_1(s) \\mathrm d s}$$\n",
    " 方程两边同乘以 $\\frac{1}{x^2}$,则有 $$\\frac{\\mathrm d(\\frac{x_2}{x_1})}{\\mathrm d t}=\\frac{W(t_0)}{x_1^2}e^{-\\int_{t_0}^t a_1(s) \\mathrm d s}$$\n",
    " 得到 $$\\frac{x_2}{x_1}=c_1\\int \\frac{1}{x_1^2}exp(-\\int_{t_0}^t a_1(s) \\mathrm d s)\\mathrm d t+c_2$$\n",
    "\n",
    "即 $x_2=x_1(c_1\\int \\frac{1}{x_1^2}exp(-\\int_{t_0}^t a_1(s) \\mathrm d s)\\mathrm d t+c_2)$\n",
    "\n",
    "取 $c_1=1,c_2=0$ 得到 $$x_2=x_1\\int \\frac{1}{x_1^2}exp(-\\int_{t_0}^t a_1(s) \\mathrm d s)\\mathrm d t$$\n",
    "又 $$W(t)=\\begin{vmatrix}\n",
    "                x_1 & x_2\\\\\n",
    "                x_1' & x_2'\n",
    "           \\end{vmatrix}\n",
    "         =exp(-\\int_{t_0}^t a_1(s)\\mathrm d s)\\neq 0$$\n",
    "因此原方程的通解可以表示为 $$x=x_1[c_1\\int \\frac{1}{x_1^2}exp(-\\int_{t_0}^t a_1(s) \\mathrm d s)\\mathrm d t+c_2]$$\n",
    "\n",
    "其中 $c_1,c_2$为常数，$t_0.t \\in [a,b]$"
   ]
  },
  {
   "cell_type": "markdown",
   "metadata": {
    "collapsed": true
   },
   "source": [
    "# <font color='red'>A 26/10"
   ]
  },
  {
   "cell_type": "code",
   "execution_count": null,
   "metadata": {
    "collapsed": true
   },
   "outputs": [],
   "source": []
  }
 ],
 "metadata": {
  "kernelspec": {
   "display_name": "SageMath 7.3",
   "language": "",
   "name": "sagemath"
  },
  "language_info": {
   "codemirror_mode": {
    "name": "ipython",
    "version": 2
   },
   "file_extension": ".py",
   "mimetype": "text/x-python",
   "name": "python",
   "nbconvert_exporter": "python",
   "pygments_lexer": "ipython2",
   "version": "2.7.10"
  }
 },
 "nbformat": 4,
 "nbformat_minor": 0
}
