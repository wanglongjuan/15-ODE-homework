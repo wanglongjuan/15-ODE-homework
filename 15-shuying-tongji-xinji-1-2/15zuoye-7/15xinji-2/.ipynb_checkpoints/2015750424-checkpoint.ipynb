{
 "cells": [
  {
   "cell_type": "markdown",
   "metadata": {},
   "source": [
    "课本P131"
   ]
  },
  {
   "cell_type": "markdown",
   "metadata": {},
   "source": [
    "1.设$x(t)$和$y(t)$是区间$a≤t≤b$上的连续函数，证明：如果在区间$a≤t≤b$上有$\\frac{\\mathrm x(t)}{\\mathrm y(t)}≠$\n",
    "常数或$\\frac{\\mathrm y(t)}{\\mathrm x(t)}≠$常数，则$x(t)$和$y(t)$在区间$a≤t≤b$上线性无关。"
   ]
  },
  {
   "cell_type": "markdown",
   "metadata": {},
   "source": [
    "证明：用反证法。假设$x(t)$和$y(t)$在区间[a,b]上线性相关，则存在不全为零的常数n,m使得$$nx(t)+my(t)≡0,x∈[a,b]$$\n",
    "\n",
    "若$n≠0$,则$$\\frac{\\mathrm x(t)}{\\mathrm y(t)}=-\\frac{\\mathrm m}{\\mathrm n}=常数$$\n",
    "\n",
    "若$m≠0$，则$$\\frac{\\mathrm y(t)}{\\mathrm x(t)}=-\\frac{\\mathrm n}{\\mathrm m}=常数$$\n",
    "\n",
    "以上两种情况均与已知条件矛盾。所以假设不成立。即$x(t)$和$y(t)$在区间[a,b]上线性无关。"
   ]
  },
  {
   "cell_type": "markdown",
   "metadata": {},
   "source": [
    "2.证明非齐次线性微分方程的叠加原理：设$x(t)$,$y(t)$分别是非其次线性微分方程\n",
    "$$\\frac{\\mathrm d^{n}x}{\\mathrm dt^{n}}+a_{1}(t)\\frac{\\mathrm d^{n-1}x}{\\mathrm dt^{n-1}}+....+a_{n}(t)x=f_{1}(t)$$\n",
    "\n",
    "$$\\frac{\\mathrm d^{n}x}{\\mathrm dt^{n}}+a_{1}(t)\\frac{\\mathrm d^{n-1}x}{\\mathrm dt^{n-1}}+....+a_{n}(t)x=f_{2}(t)$$的解，\n",
    "\n",
    "则$x_{1}(t)+x_{2}(t)$是方程\n",
    "\n",
    "$$\\frac{\\mathrm d^{n}x}{\\mathrm dt^{n}}+a_{1}(t)\\frac{\\mathrm d^{n-1}x}{\\mathrm dt^{n-1}}+....+a_{n}(t)x=f_{1}(t)+f_{2}(t)$$\n",
    "的解。"
   ]
  },
  {
   "cell_type": "markdown",
   "metadata": {},
   "source": [
    "证明：由于$x_{1}(t)$,$x_{2}(t)$分别是非齐次线性微分方程\n",
    "\n",
    "$$\\frac{\\mathrm d^{n}x}{\\mathrm dt^{n}}+a_{1}(t)\\frac{\\mathrm d^{n-1}x}{\\mathrm dt^{n-1}}+....+a_{n}(t)x=f_{1}(t)$$\n",
    "\n",
    "$$\\frac{\\mathrm d^{n}x}{\\mathrm dt^{n}}+a_{1}(t)\\frac{\\mathrm d^{n-1}x}{\\mathrm dt^{n-1}}+....+a_{n}(t)x=f_{2}(t)$$的解，所以满足\n",
    "\n",
    "$$\\frac{\\mathrm d^{n}x_{1}（t）}{\\mathrm dt^{n}}+a_{1}(t)\\frac{\\mathrm d^{n-1}x_{1}(t)}{\\mathrm dt^{n-1}}+....+a_{n}(t)x_{1}(t)=f_{1}(t)$$\n",
    "\n",
    "$$\\frac{\\mathrm d^{n}x_{2}(t)}{\\mathrm dt^{n}}+a_{1}(t)\\frac{\\mathrm d^{n-1}x_{2}(t)}{\\mathrm dt^{n-1}}+....+a_{n}(t)x_{2}(t)=f_{2}(t)$$\n",
    "以上两式相加，得：\n",
    "\n",
    "$$\\frac{\\mathrm d^{n}(x_{1}（t）+x_{2}(t))}{\\mathrm dt^{n}}+a_{1}(t)\\frac{\\mathrm d^{n-1}(x_{1}(t)+x_{2}(t))}{\\mathrm dt^{n-1}}+....+a_{n}(t)(x_{1}(t)+x_{2}(t))=f_{1}(t)+f_{2}(t)$$\n",
    "\n",
    "即：$x_{1}(t)+x_{2}(t)$是方程$$\\frac{\\mathrm d^{n}x}{\\mathrm dt^{n}}+a_{1}(t)\\frac{\\mathrm d^{n-1}x}{\\mathrm dt^{n-1}}+....+a_{n}(t)x=f_{1}(t)+f_{2}(t)$$的解。"
   ]
  },
  {
   "cell_type": "markdown",
   "metadata": {
    "collapsed": true
   },
   "source": [
    "3.已知齐次线性微分方程的基本解组${x_1},{x_2}$,求下列方程对应的非齐次线性微分方程的通解。"
   ]
  },
  {
   "cell_type": "markdown",
   "metadata": {},
   "source": [
    "（1）$x\"-x=cost,x_1=e^t,x_2=e^t;$\n",
    "\n",
    "解：应用常数变易法，令$$x=C_{1}(t)e^t+C_{2}(t)e^{-t}$$\n",
    "\n",
    "则：$x'=C_{1}(t)e^t-C_{2}(t)e^{-t}+C'_{1}（t）e^t+C'_{2}(t)e^{-t}$\n",
    "所以$$C'_{1}(t)e^t+C'_{2}(t)e^{-t}=0---------①$$\n",
    "$$x'=C_{1}(t)e^t-C_{2}(t)e^{-t}$$\n",
    "\n",
    "又$x\"=C_{1}(t)e^t+C_{2}(t)e^{-t}+C'_{1}(t)e^t-C'_{2}(t)e^{-t}$\n",
    "所以$$C'_{1}(t)e^t-C'_{2}(t)e^{-t}=cost-------②$$\n",
    "$$x\"=C_{1}(t)e^t+C_{2}(t)e^{-t}$$\n",
    "\n",
    "联立①②解得：\n",
    "$$C'_{1}(t)=\\frac{\\mathrm 1}{\\mathrm 2}coste^{-t},\\quad C'_{2}(t)=-\\frac{\\mathrm 1}{\\mathrm 2}coste^{t}$$\n",
    "\n",
    "因此\n",
    "$$\n",
    "\\begin{aligned}\n",
    "C_{1}(t)=\\frac{\\mathrm (sint-cost)}{\\mathrm 4}e^{-t}+γ_1\\\\\n",
    "C_{2}(t)=-\\frac{\\mathrm 1}{\\mathrm 4}（sint+cost）e^t+γ_2\\\\\n",
    "\\end{aligned}\n",
    "$$\n",
    "\n",
    "所以方程的通解为：\n",
    "$$x=γ_{1}e^t+γ_{2}e^{-t}-\\frac{\\mathrm 1}{\\mathrm 2}cost$$\n",
    "\n"
   ]
  },
  {
   "cell_type": "markdown",
   "metadata": {},
   "source": [
    "(3)$x\"+4x=tsint,x_1=cos2t,x_2=sin2t;$"
   ]
  },
  {
   "cell_type": "markdown",
   "metadata": {},
   "source": [
    "解：令$x=C_{1}(t)cos2t+C_{2}(t)sin2t$,将它代入方程.\n",
    "\n",
    "则可得决定$C'_{1}(t),\\quad C'_{2}(t)$的两个方程\n",
    "$$\n",
    "\\begin{aligned}\n",
    "cos2tC'_{1}(t)+sin2tC'_{2}(t)=0\\\\\n",
    "-2sin2tC'_{1}(t)+2cos2tC'_{2}(t)=tsint\\\\\n",
    "\\end{aligned}\n",
    "$$\n",
    "解得：\n",
    "$$\n",
    "\\begin{aligned}\n",
    "C'_{1}(t)=-\\frac{\\mathrm 1}{\\mathrm 2}tsintsin2t\\\\\n",
    "C'_{2}(t)=\\frac{\\mathrm 1}{\\mathrm 2}tsintcos2t\\\\\n",
    "\\end{aligned}\n",
    "$$\n",
    "因此：\n",
    "$$\n",
    "\\begin{aligned}\n",
    "C_{1}(t)=\\frac{\\mathrm 1}{\\mathrm 4}[\\frac{\\mathrm 1}{\\mathrm 3}tsin3t+\\frac{\\mathrm 1}{\\mathrm 9}cos3t-tsint-cost]+C_{1}\\\\\n",
    "C_{2}(t)=\\frac{\\mathrm 1}{\\mathrm 4}[-\\frac{\\mathrm 1}{\\mathrm 3}tcos3t+\\frac{\\mathrm 1}{\\mathrm 9}sin3t+tcost-sint]+C_{2}\\\\\n",
    "\\end{aligned}\n",
    "$$\n",
    "所以方程的通解为：\n",
    "$$\n",
    "x=C_{1}cos2t+C_{2}sin2t+\\frac{\\mathrm t}{\\mathrm 3}sint-\\frac{\\mathrm 2}{\\mathrm 9}cost\n",
    "$$"
   ]
  },
  {
   "cell_type": "markdown",
   "metadata": {
    "collapsed": true
   },
   "source": [
    "（5）$t^{2}x\"-tx'+x=6t+34t^2,\\quad x_1=t,\\quad x_2=tlnt;$"
   ]
  },
  {
   "cell_type": "markdown",
   "metadata": {},
   "source": [
    "解：令$x=C_{1}(t)t+C_{2}(t)tlnt$,将它带入方程。\n",
    "\n",
    "则可得决定$C'_{1}(t),\\quad C'_{2}(t)$的两个方程\n",
    "\n",
    "$$\n",
    "\\begin{aligned}\n",
    "tC'_{1}(t)+tlntC'_{2}(t)=0\\\\\n",
    "C'_{1}(t)+(lnt+1)C'_{2}(t)=\\frac{\\mathrm 6}{\\mathrm t}+34\\\\\n",
    "\\end{aligned}\n",
    "$$\n",
    "\n",
    "解得：\n",
    "$$\n",
    "\\begin{aligned}\n",
    "C'_{1}(t)=-lnt(\\frac{\\mathrm 6}{\\mathrm t}+34)\\\\\n",
    "C'_{2}(t)=\\frac{\\mathrm 6}{\\mathrm t}+34\\\\\n",
    "\\end{aligned}\n",
    "$$\n",
    "\n",
    "因此\n",
    "$$\n",
    "\\begin{aligned}\n",
    "C_{1}(t)=-34(tlnt-t)-3(lnt)^2+C_1\\\\\n",
    "C_{2}(t)=34t+6lnt+C_2\\\\\n",
    "\\end{aligned}\n",
    "$$\n",
    "\n",
    "所以方程的通解为：\n",
    "$$\n",
    "x=C_{1}t+C_{2}tlnt+34t^2+3t(lnt)^2\n",
    "$$"
   ]
  },
  {
   "cell_type": "markdown",
   "metadata": {},
   "source": [
    "6.假设$x_1(t)≠0$是二阶齐次线性微分方程$x\"+a_{1}(t)x'+a_{2}(t)x=0$的解，这里$a_{1}(t)$和$a_{2}(t)$于区间[a,b]上连接，试证：\n",
    "\n",
    "（1）$x_{2}(t)$为方程的解的充要条件是：$W'[x_{1},x_{2}]+a_1W[x_1,x_2]=0$\n",
    "\n",
    "(2)方程的通解可表示成：\n",
    "$x=x_1[c_{1}\\int{\\frac{\\mathrm 1}{\\mathrm x_{1}^2} \\mathrm exp(-\\int_{t_0}^t{\\mathrm a_{1}(s) \\mathrm ds}) \\mathrm dt}+c_2]$\n",
    "其中$c_1,\\quad c_2$为任意常数，$t_0,\\quad t∈[a,b]$"
   ]
  },
  {
   "cell_type": "markdown",
   "metadata": {},
   "source": [
    "解：充分性。\n",
    "\n",
    "因为：\n",
    "$$W[x_1,x_2]=\n",
    "\\begin{vmatrix}\n",
    "x_1&x_2\\\\\n",
    "x'_1&x'_2\\\\\n",
    "\\end{vmatrix}\n",
    "$$\n",
    "且\n",
    "$$W'[x_1,x_2]=\n",
    "\\begin{vmatrix}\n",
    "x_1&x_2\\\\\n",
    "x\"_1&x\"_2\\\\\n",
    "\\end{vmatrix}\n",
    "$$\n",
    "所以\n",
    "$$\n",
    "W'[x_{1},x_{2}]+a_{1}（t）W[x_1,x_2]=\n",
    "\\begin{vmatrix}\n",
    "x_1&x_2\\\\\n",
    "x\"_1&x\"_2\\\\\n",
    "\\end{vmatrix}\n",
    "+a_{1}(t)\n",
    "\\begin{vmatrix}\n",
    "x_1&x_2\\\\\n",
    "x'_1&x'_2\\\\\n",
    "\\end{vmatrix}\n",
    "=\n",
    "\\begin{vmatrix}\n",
    "x_1&x_2\\\\\n",
    "X\"_{1}+a_{1}(t)x'_{1}&x\"_{2}+a_{1}(t)x'_{2}\\\\\n",
    "\\end{vmatrix}\n",
    "=0\n",
    "$$\n",
    "而$x_{1}(t)≠0$是已知方程的解，所以\n",
    "$$\n",
    "\\begin{vmatrix}\n",
    "x_1&x_2\\\\\n",
    "-a_{2}(t)x_{1}&x\"_{2}+a_{1}(t)x'_{2}\\\\\n",
    "\\end{vmatrix}\n",
    "=x_1\n",
    "\\begin{vmatrix}\n",
    "1&x_2\\\\\n",
    "-a_{2}(t)&x\"_{2}+a_{1}(t)x'_{2}\\\\\n",
    "\\end{vmatrix}\n",
    "=0\n",
    "$$\n",
    "所以有：\n",
    "$$\n",
    "x\"_{2}+a_{1}(t)x'_{2}+a_{2}(t)x_{2}=0\n",
    "$$\n",
    "即$x_{2}(t)$是已知方程的解。"
   ]
  },
  {
   "cell_type": "markdown",
   "metadata": {
    "collapsed": true
   },
   "source": [
    "必要性。\n",
    "\n",
    "因为$W[x_1,x_2]$是方程的解$x_{1}(t),\\quad x_{2}(t)$的朗斯基行列式，所以\n",
    "$$\n",
    "W'[x_1,x_2]=\n",
    "\\begin{vmatrix}\n",
    "x_1&x_2\\\\\n",
    "x\"_1&x\"_2\\\\\n",
    "\\end{vmatrix}\n",
    "=\n",
    "\\begin{vmatrix}\n",
    "x_1&x_2\\\\\n",
    "x\"_{1}+a_{2}(t)x_{1}&x\"_{2}+a_{2}(t)x_{2}\\\\\n",
    "\\end{vmatrix}\n",
    "$$\n",
    "\n",
    "$$\n",
    "=\n",
    "\\begin{vmatrix}\n",
    "1&x_2\\\\\n",
    "-a_{1}(t)x'_{1}&a_{1}(t)x'_{2}\\\\\n",
    "\\end{vmatrix}\n",
    "=-a_{1}(t)\n",
    "\\begin{vmatrix}\n",
    "x_1&x_2\\\\\n",
    "x'_{1}&x'_{2}\\\\\n",
    "\\end{vmatrix}\n",
    "=-a_{1}(t)W[x_{1},x_{2}]\n",
    "$$\n",
    "即$W[x_{1},x_{2}]$满足$W'[x_{1},x_{2}]+a_{1}(t)W[x_1,x_2]=0$"
   ]
  },
  {
   "cell_type": "markdown",
   "metadata": {},
   "source": [
    "(2)因为$x_{1},x_{2}$为方程的解，则由刘维尔公式\n",
    "$$\n",
    "\\begin{vmatrix}\n",
    "x_1&x_2\\\\\n",
    "x'_{1}&x'_{2}\\\\\n",
    "\\end{vmatrix}\n",
    "=W(t_0)e^{-\\int_{t_0}^t{\\mathrm a_{1}(s) \\mathrm ds}}\n",
    "$$\n",
    "即\n",
    "$$\n",
    "x_{1}x'_{2}-x'_{1}x_{2}=W(t_0)e^{-\\int_{t_0}^t{\\mathrm a_{1}(s) \\mathrm ds}}\n",
    "$$\n",
    "两边都乘以$\\frac{\\mathrm 1}{\\mathrm x_{1}^2}$则有\n",
    "$\\frac{\\mathrm d(\\frac{\\mathrm x_2}{\\mathrm x_1})}{\\mathrm dt}=\n",
    "\\frac{\\mathrm W(t_0)}{\\mathrm x_{1}^2}e^{-\\int_{t_0}^t{\\mathrm a_{1}(s) \\mathrm ds}}$于是\n",
    "$$\\frac{\\mathrm x_2}{\\mathrm x_1}=c_{1}\\int{\\frac{\\mathrm 1}{\\mathrm x_{1}^2} \\mathrm e^{-\\int_{t_0}^t{\\mathrm a_{1}(s) \\mathrm ds}} \\mathrm dt}+c_2\n",
    "$$\n",
    "\n",
    "即\n",
    "$$x_2=（c_{1}\\int{\\frac{\\mathrm 1}{\\mathrm x_{1}^2} \\mathrm e^{-\\int_{t_0}^t{\\mathrm a_{1}(s) \\mathrm ds}} \\mathrm dt}+c_2）x_1$$\n",
    "取$c_{1}=1,c_{2}=0$得\n",
    "$$x_{2}=（\\int{\\frac{\\mathrm 1}{\\mathrm x_{1}^2} \\mathrm e^{-\\int_{t_0}^t{\\mathrm a_{1}(s) \\mathrm ds}} \\mathrm dt}）x_1$$\n",
    "又$$\n",
    "W(t)=\n",
    "\\begin{vmatrix}\n",
    "x_1&x_2\\\\\n",
    "x'_{1}&x'_{2}\\\\\n",
    "\\end{vmatrix}\n",
    "=e^{-\\int_{t_0}^t{\\mathrm a_{1}(s) \\mathrm ds}} \\mathrm dt\n",
    "≠0\n",
    "$$\n",
    "从而原方程的通解可表示为\n",
    "$$\n",
    "x=x_{1}[c_{1}\\int{\\frac{\\mathrm 1}{\\mathrm x_{1}^2} \\mathrm exp(-\\int_{t_0}^t{\\mathrm a_{1}(s) \\mathrm ds}) \\mathrm dt}+c_2]\n",
    "$$\n",
    "其中$c_1,c_2$为常数，$t_0,t∈[a,b]$."
   ]
  },
  {
   "cell_type": "markdown",
   "metadata": {
    "collapsed": true
   },
   "source": [
    "# <font color='red'>A 26/10"
   ]
  },
  {
   "cell_type": "code",
   "execution_count": null,
   "metadata": {
    "collapsed": true
   },
   "outputs": [],
   "source": []
  }
 ],
 "metadata": {
  "kernelspec": {
   "display_name": "SageMath 7.3",
   "language": "",
   "name": "sagemath"
  },
  "language_info": {
   "codemirror_mode": {
    "name": "ipython",
    "version": 2
   },
   "file_extension": ".py",
   "mimetype": "text/x-python",
   "name": "python",
   "nbconvert_exporter": "python",
   "pygments_lexer": "ipython2",
   "version": "2.7.10"
  }
 },
 "nbformat": 4,
 "nbformat_minor": 0
}
