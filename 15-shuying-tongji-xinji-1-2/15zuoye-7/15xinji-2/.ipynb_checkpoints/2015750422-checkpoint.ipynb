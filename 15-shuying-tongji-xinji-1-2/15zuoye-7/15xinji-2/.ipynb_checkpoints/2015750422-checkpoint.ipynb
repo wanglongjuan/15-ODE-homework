{
 "cells": [
  {
   "cell_type": "markdown",
   "metadata": {},
   "source": [
    "姓名：夏德涛                  学号：2015750422                  第八周常微分作业"
   ]
  },
  {
   "cell_type": "markdown",
   "metadata": {},
   "source": [
    "1,$$证明：若x(t)和y(t)在区间a \\leq t \\leq b线性相关，则存在常数m, n,使得有mx(t)+ny(t) \\equiv 0成立$$\n",
    "$$若x(t) \\neq 0,则有\\frac{y(t)}{x(t)}=-\\frac{m}{n}成立，与条件\\frac{y(t)}{x(t)} \\neq 常数矛盾$$\n",
    "$$若y(t) \\neq 0,则有\\frac{x(t)}{y(t)}=-\\frac{n}{m}成立，与条件\\frac{x(t)}{y(t)} \\neq 常数矛盾$$\n",
    "$$所以，x(t)和y(t)在区间a \\leq b \\leq c线性无关$$"
   ]
  },
  {
   "cell_type": "markdown",
   "metadata": {},
   "source": [
    "2.$$证明：由题意可知，x_1(t),x_2(t)分别是非其次线性微分方程的解，$$\n",
    "$$则有\\frac{d^nx_1(t)}{dt^n}+a_1(t)\\frac{d^{n-1}x_1(t)}{dt^{n-1}}+ \\cdots+a_n(t)x_1(t)=f_1(t)$$\n",
    "$$\\frac{d^nx_2(t)}{dt^n}+a_1(t)\\frac{d^{n-1}x_2(t)}{dt^{n-1}}+ \\cdots+a_n(t)x_2(t)=f_2(t)成立$$\n",
    "$$将两式相加把并应用导数的求导法则得：$$\n",
    "$$\\frac{d^n(x_1(t)+x_2(t))}{dt^n}+a_1t\\frac{d^{n-1}(x_1(t)+x_2(t))}{dt^{n-1}}+ \\cdots+a_n(t)(x_1(t)+x_2(t))=f_1(t)+f_2(t)$$\n",
    "$$所以：x_1(t)+x_2(t)是方程\\frac{d^nx}{dt^n}+a_1t\\frac{d^{n-1}x}{dt^{n-1}}+ \\cdots+a_n(t)x=f_1(t)+f_2(t)的解$$"
   ]
  },
  {
   "cell_type": "markdown",
   "metadata": {},
   "source": [
    "3.解：$$(1).应用常数变易法，令x=c_1(t)x_1+c_2(t)x_2,x_1=e^t,x_2=e^{-t}$$\n",
    "$$则有：x'=c_1'(t)e^t+c_1(t)e^t+c_2'(t)e^{-t}-c_2e^{-t}$$\n",
    "$$令c_1'(t)e^t+c_2'(t)e^{-t}=0,$$\n",
    "$$则有：x'=c_1(t)e^t-c_2(t)e^{-t}$$\n",
    "$$x''=c_1'(t)e^t+c_1(t)e^t-c_2'(t)e^{-t}+c_2(t)e^{-t}$$\n",
    "$$将x=c_1(t)e^t+c_2(t)e^{-t}代入方程得：$$\n",
    "$$c_1'(t)e^t-c_2'(t)e^{-t}=cost$$\n",
    "$$联立方程解得：c_1'(t)=\\frac{1}{2}coste^{-t},c_2'(t)=-\\frac{1}{2}e^tcost$$\n",
    "$$推出：c_1(t)=\\frac{sint-codt}{4}e^{-t}+ \\lambda_1,c_2(t)=-\\frac{1}{4}(sint+cost)e^t+ \\lambda_2$$\n",
    "$$于是原方程的解为：x= \\lambda_1e^t+\\lambda_2e^{-t}-\\frac{1}{2}cost$$"
   ]
  },
  {
   "cell_type": "markdown",
   "metadata": {},
   "source": [
    "(3)$$应用常数变易法，令x=c_1(t)cos2t+c_2(t)sin2t,代入方程可得两个关于c_1'(t),c_2'(t)的方程：$$\n",
    "$$\\begin{cases}\n",
    "cos2tc_1'(t)+sin2tc_2'(t)=0\\\\\n",
    "-2sin2tc_1'(t)+2cos2tc_2'(t)=tsint\\\\\n",
    "\\end{cases}$$\n",
    "$$解得:\\begin{cases}\n",
    "c_1'(t)=-\\frac{1}{2}t\\sin t\\sin 2t\\\\\n",
    "c_2'(t)=\\frac{-1}{2}t\\sin t\\cos 2t\\\\\n",
    "\\end{cases}$$\n",
    "$$由此\\begin{cases}\n",
    "c_1(t)=\\frac{1}{4}[\\frac{1}{3}t\\sin 3t+\\frac{1}{9}\\cos 3t-t\\sin t-\\cos t]+c_{1}\\\\\n",
    "c_2(t)=frac{1}{4}[-\\frac{1}{3}t\\cos 3t+\\frac{1}{9}\\sin 3t+t\\cos t-\\sin t]+c_{2}.\n",
    "\\end{cases}$$\n",
    "$$于是方程的通解是x=c_{1}(t)\\cos 2t+c_{2}(t)\\sin 2t+\\frac{t}{3}\\sin t-\\frac{2}{9}\\cos t.$$"
   ]
  },
  {
   "cell_type": "markdown",
   "metadata": {},
   "source": [
    "(5).$$将方程变形为：x''-\\frac{1}{t}x'+\\frac{1}{t^2}x=\\frac{6}{t}+34$$\n",
    "$$令x=c_1(t)·t+c_2(t)·t\\ln t,$$\n",
    "$$将它代入方程，则可决定c_1(t)和c_2(t)的两个方程$$\n",
    "$$\\begin{cases}\n",
    "tc_1(t)+t\\ln t·c_1(t)=0\\\\\n",
    "c_1(t)+(\\ln t+1)c_2(t)=(\\frac{6}{t}+34)\\\\\n",
    "\\end{cases}$$\n",
    "由此\n",
    "\\begin{cases}\n",
    "c_1(t)&=-34(t\\ln t)-3(\\ln t)^2+c_1,\\\\\n",
    "c_2(t)&=34t+6\\ln t+c_2\\\\\n",
    "\\end{cases}\n",
    "$$于是方程的通解是x=c_1(t)·t+c_2(t)t\\ln t+34t^2+3t(\\ln t)^2$$"
   ]
  },
  {
   "cell_type": "markdown",
   "metadata": {},
   "source": [
    "证明：（1）$$充分性：由于$$\n",
    "$$W'[x_1,x_2]=\\begin{vmatrix} x_1' & x_2'\\\\ x_1' & x_2'\\\\ \\end{vmatrix} +\\begin{vmatrix} x_1 & x_2\\\\ x_1'' & x_2''\\\\ \\end{vmatrix}=\\begin{vmatrix} x_1 & x_2\\\\ x_1'' & x_2''\\\\ \\end{vmatrix},$$\n",
    "$$W'[x_1,x_2]+a_1(t)W[x_1,x_2]=\\begin{vmatrix} x_1 & x_2\\\\ x_1'' & x_2''\\\\ \\end{vmatrix}+a_1(t)\\begin{vmatrix} x_1 & x_2\\\\ x_1' & x_2'\\\\ \\end{vmatrix}=\\begin{vmatrix} x_1 & x_2\\\\ x_1''+a_1(t)x_1' & x_2''+a_1(t)x_1'\\\\ \\end{vmatrix}=0,$$\n",
    "$$而x_1(t)\\neq0是已知方程得解$$\n",
    "$$则有\\begin{vmatrix} x_1 & x_2\\\\ -a_2(2)x_1 & x_2''+a_1(t)x_2'\\\\ \\end{vmatrix}= x_1\\begin{vmatrix} 1 & x_2\\\\ -a_2(2) & x_2''+a_1(t)x_2'\\\\ \\end{vmatrix}=0$$\n",
    "\n",
    "\n",
    "$$故有x_2''+a_1(x_2)''+a_2(t)x_2=0,$$\n",
    "\n",
    "\n",
    "$$即x_2(t)是已知方程的解$$\n",
    "\n",
    "\n",
    "$$必要性：W[x_1,x_2]是方程的解x_1(t)，x_2(t)的朗斯基行列式$$\n",
    "$$所以W'[x_1,x_2]=\\begin{vmatrix} x_1 & x_2\\\\ x_1'' & x_2''\\\\ \\end{vmatrix}=\\begin{vmatrix} x_1 & x_2\\\\ x_1'’+a_2(t)x_1 & x_2''+a_2(t)x_2\\\\ \\end{vmatrix}=\\begin{vmatrix} 1 & x_2\\\\ -a_1(t)x_1' &a_1(t)x_2'\\\\ \\end{vmatrix}= -a_1(t)\\begin{vmatrix} x_1 & x_2\\\\ x_1' & x_2'\\\\ \\end{vmatrix}=-a_1(t)W[x_1,x_2],$$\n",
    "\n",
    "\n",
    "$$即W[x_1,x_2]满足W'[x_1,x_2]+a_1(t)W[x_1,x_2]=0.$$"
   ]
  },
  {
   "cell_type": "markdown",
   "metadata": {},
   "source": [
    "(2)$$因为x_1,x_2为方程解，则由刘维尔公式$$\n",
    "\n",
    "$$\\begin{vmatrix} x_1 & x_2\\\\ x_1' & x_2'\\\\ \\end{vmatrix}=W（t_0）e^{-\\int_{t_0}^t a_1(s) d s},$$\n",
    "$$即 x_1x_2'- x_1'x_2=W（t_0）e^{-\\int_{t_0}^t a_1(s) d s}.$$\n",
    "$$方程两边同乘以\\frac{1}{x_1^2}$$\n",
    "$$则有\\frac{\\mathrm d(\\frac{x_2}{x_1})}{\\mathrm d t}=\\frac{W（t_0）}{x_1^2}e^{-\\int_{t_0}^t a_1(s) d s}$$\n",
    "$$于是\\frac{x_2}{x_1}c_1\\int\\frac{1}{x_1^2}e^{-\\int_{t_0}^t a_1(s) d s}\\mathrm d t+c_2$$\n",
    "$$即x_2=(c_1\\int\\frac{1}{x_1^2}e^{-\\int_{t_0}^t a_1(s) d s}\\mathrm d t+c_2)x_1.$$\n",
    "$$取c_1=1,c_2=0,得$$\n",
    "\n",
    "$$x_2=x_1\\int\\frac{1}{x_1^2}e^{-\\int_{t_0}^t a_1(s) d s}\\mathrm d t，$$\n",
    "\n",
    "$$ 又\n",
    "W(t)=\\begin{vmatrix} x_1 & x_2 \\\\ x_1' & x_2'\\\\ \\end{vmatrix} =e^{-\\int_{t_0}^t a_1(s) d s}\\neq0,$$ \n",
    "$$从而原方程的通解可以表示为$$\n",
    "$$x=x_1[c_1\\int\\frac{1}{x_1^2}exp(-\\int_{t_0}^t a_1(s) d s)\\mathrm d t+c_2],$$\n",
    "$$其中c_1,c_2为常数，t_0,t \\in [a,b].$$"
   ]
  },
  {
   "cell_type": "markdown",
   "metadata": {
    "collapsed": true
   },
   "source": [
    "# <font color='red'>A 26/10"
   ]
  },
  {
   "cell_type": "code",
   "execution_count": null,
   "metadata": {
    "collapsed": true
   },
   "outputs": [],
   "source": []
  }
 ],
 "metadata": {
  "kernelspec": {
   "display_name": "SageMath 7.3",
   "language": "",
   "name": "sagemath"
  },
  "language_info": {
   "codemirror_mode": {
    "name": "ipython",
    "version": 2
   },
   "file_extension": ".py",
   "mimetype": "text/x-python",
   "name": "python",
   "nbconvert_exporter": "python",
   "pygments_lexer": "ipython2",
   "version": "2.7.10"
  }
 },
 "nbformat": 4,
 "nbformat_minor": 0
}
