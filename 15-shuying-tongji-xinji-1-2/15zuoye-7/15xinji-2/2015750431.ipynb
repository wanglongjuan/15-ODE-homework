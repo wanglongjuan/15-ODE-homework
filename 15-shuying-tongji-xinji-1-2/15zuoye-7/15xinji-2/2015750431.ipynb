{
 "cells": [
  {
   "cell_type": "markdown",
   "metadata": {},
   "source": [
    "# 常微分作业"
   ]
  },
  {
   "cell_type": "markdown",
   "metadata": {},
   "source": [
    "## （10月18号）"
   ]
  },
  {
   "cell_type": "markdown",
   "metadata": {},
   "source": [
    "### P131.1.设$x(t)$和$y(t)$是区间$a\\leq t\\leq b$上的连续函数，证明：如果在区间$a\\leq t\\leq b$上有$\\frac{x(t)}{y(t)}\\neq$常数或$\\frac{y(t)}{x(t)}\\neq$常数，则$x(t)$和$y(t)$在区间$a\\leq t\\leq b$上线性无关。（提示：用反证法。）"
   ]
  },
  {
   "cell_type": "markdown",
   "metadata": {},
   "source": [
    "证明：用反证法证明。假设$x(t)$和$y(t)$在区间$a\\leq t\\leq b$上线性相关，则存在不全为零的常数$C_{1}和C_{2}$使得\n",
    "\n",
    "$$C_{1}x(t)+C_{2}y(t)\\equiv0,t \\in[a,b].$$\n",
    "若$C_{1}\\leq0$，则$\\frac{y(t)}{x(t)}=-\\frac{C_{1}}{C_{2}}=常数；$\n",
    "\n",
    "若$C_{1}\\leq0$，则$\\frac{x(t)}{y(t)}=-\\frac{C_{2}}{C_{1}}=常数.$\n",
    "\n",
    "可见在两种情况下，都与已知条件$\\frac{x(t)}{y(t)}\\neq$常数或$\\frac{y(t)}{x(t)}\\neq$常数矛盾，所以假设不成立，即证明了$x(t)$和$y(t)$在区间[a,b]上是线性无关的。"
   ]
  },
  {
   "cell_type": "markdown",
   "metadata": {},
   "source": [
    "### P131.2.证明非齐次线性微分方程的叠加原理：设$x_{1}(t),x_{2}(t)$分别是非齐次线性微分方程\\begin{aligned}\\frac{\\mathrm d^{n}x}{\\mathrm d t^{n}}+a_{1}(t)\\frac{\\mathrm d^{n-1}x}{\\mathrm d t^{n-1}}+\\dots+a_{n}(t)x&=f_{1}(t)\\\\\\frac{\\mathrm d^{n}x}{\\mathrm d t^{n}}+a_{1}(t)\\frac{\\mathrm d^{n-1}x}{\\mathrm d t^{n-1}}+\\dots+a_{n}(t)x&=f_{2}(t)\\end{aligned}的解，则$x_{1}(t)+x_{2}(t)$是方程$$\\frac{\\mathrm d^{n}x}{\\mathrm d t^{n}}+a_{1}(t)\\frac{\\mathrm d^{n-1}x}{\\mathrm d t^{n-1}}+\\dots+a_{n}(t)x=f_{1}(t)+f_{2}(t)$$的解。"
   ]
  },
  {
   "cell_type": "markdown",
   "metadata": {},
   "source": [
    "证明：由已知条件得\n",
    "\n",
    "\\begin{aligned}\n",
    "\\frac{\\mathrm d^{n}x_{1}(t)}{\\mathrm d t^{n}}+a_{1}(t)\\frac{\\mathrm d^{n-1}x_{1}(t)}{\\mathrm d t^{n-1}}+\\dots+a_{n}(t)x_{1}(t)&=f_{1}(t)\\\\\n",
    "\\frac{\\mathrm d^{n}x_{2}(t)}{\\mathrm d t^{n}}+a_{1}(t)\\frac{\\mathrm d^{n-1}x_{2}(t)}{\\mathrm d t^{n-1}}+\\dots+a_{n}(t)x_{2}(t)&=f_{2}(t)\n",
    "\\end{aligned}\n",
    "\n",
    "将以上两式相加，并利用导数的运算法则有\n",
    "\n",
    "$$\\frac{\\mathrm d^{n}(x_{1}(t)+x_{2}(t))}{\\mathrm d t^{n}}+a_{1}(t)\\frac{\\mathrm d^{n-1}(x_{1}(t)+x_{2}(t))}{\\mathrm d t^{n-1}}+\\dots+a_{n}(t)(x_{1}(t)+x_{2}(t))=f_{1}(t)+f_{2}(t),$$\n",
    "\n",
    "即$x_{1}(t)+x_{2}(t)$是方程$$\\frac{\\mathrm d^{n}x}{\\mathrm d t^{n}}+a_{1}(t)\\frac{\\mathrm d^{n-1}x}{\\mathrm d t^{n-1}}+\\dots+a_{n}(t)x=f_{1}(t)+f_{2}(t)$$的解。"
   ]
  },
  {
   "cell_type": "markdown",
   "metadata": {},
   "source": [
    "## （10月19号）"
   ]
  },
  {
   "cell_type": "markdown",
   "metadata": {},
   "source": [
    "### P131.3.已知齐次线性微分方程组的基本解组$x_{1},x_{2}$，求下列方程对应的非齐次线性微分方程的通解：\n",
    "（1）$x''-x=\\cos t,x_{1}=e^{t},x_{2}=e^{-t};$"
   ]
  },
  {
   "cell_type": "markdown",
   "metadata": {},
   "source": [
    "解：应用常数变易法，令$$x=C_{1}(t)e^{t}+C_{2}(t)e^{-t},$$并将它代入方程，则可得决定$C'_{1}(t)$和$C'_{2}(t)$的两个方程$$e'C'_{1}(t)+e^{-t}C'_{2}(t)=0$$及$$e'C'_{1}(t)-e^{-t}C'_{2}(t)=\\cos t.$$\n",
    "解得$$C'_{1}(t)=\\frac{1}{2}\\cos t·e^{-t},C'_{2}(t)=\\frac{-1}{2}e^{t}\\cos t,$$\n",
    "则\n",
    "\\begin{aligned}\n",
    "C_{1}(t)&=\\frac{\\sin t-\\cos t}{4}·e^{-t}+\\gamma_{1},\\\\\n",
    "C_{2}(t)&=-\\frac{1}{4}(\\sin t+\\cos t)e^{t}+\\gamma_{2}.\n",
    "\\end{aligned}\n",
    "于是原方程的通解为$$x=\\gamma_{1}e^{t}+\\gamma_{2}e^{-t}-\\frac{1}{2}\\cos t.$$"
   ]
  },
  {
   "cell_type": "markdown",
   "metadata": {},
   "source": [
    "（3）$x''+4x=t\\sin 2t,x_{1}=\\cos 2t,x_{2}=\\sin 2t;$"
   ]
  },
  {
   "cell_type": "markdown",
   "metadata": {},
   "source": [
    "解：令$$x=C_{1}(t)\\cos 2t+C_{2}(t)\\sin 2t,$$将它代入方程，则可决定$C'_{1}(t)$和$C'_{2}(t)$的两个方程$$\\cos 2tC'_{1}(t)+\\sin 2tC'_{2}(t)=0$$及$$-\\sin 2tC'_{1}(t)+\\cos 2tC'_{2}(t)=t\\sin t,$$\n",
    "解得$$C'_{1}(t)=-\\frac{1}{2}t\\sin t\\sin 2t,C'_{2}(t)=\\frac{-1}{2}t\\sin t\\cos 2t,$$\n",
    "由此\n",
    "\\begin{aligned}\n",
    "C_{1}(t)&=\\frac{1}{4}[\\frac{1}{3}t\\sin 3t+\\frac{1}{9}\\cos 3t-t\\sin t-\\cos t]+C_{1}\\\\\n",
    "C_{2}(t)&=frac{1}{4}[-\\frac{1}{3}t\\cos 3t+\\frac{1}{9}\\sin 3t+t\\cos t-\\sin t]+C_{2}.\n",
    "\\end{aligned}\n",
    "于是方程的通解是$$x=C_{1}(t)\\cos 2t+C_{2}(t)\\sin 2t+\\frac{t}{3}\\sin t-\\frac{2}{9}\\cos t.$$"
   ]
  },
  {
   "cell_type": "markdown",
   "metadata": {},
   "source": [
    "（5）$t^{2}x''-tx'+x=6t+34t^2,x_{1}=t,x_{2}=t\\ln t;$"
   ]
  },
  {
   "cell_type": "markdown",
   "metadata": {},
   "source": [
    "解：将方程两边同时除以$t^2$得$x''-\\frac{1}{t}x'+\\frac{1}{t^2}x=\\frac{6}{t}+34$\n",
    "\n",
    "令$$x=C_{1}(t)·t+C_{2}(t)·t\\ln t,$$将它代入方程，则可决定$C'_{1}(t)$和$C'_{2}(t)$的两个方程$$t·C'_{1}(t)+t\\ln t·C'_{2}(t)=0$$及$$ C'_{1}(t)+(\\ln t+1)C'_{2}(t)=(\\frac{6}{t}+34),$$\n",
    "\n",
    "由此\n",
    "\\begin{aligned}\n",
    "C_{1}(t)&=-34(t\\ln t)-3(\\ln t)^2+C_{1},\\\\\n",
    "C_{2}(t)&=34t+6\\ln t+C_{2}.\n",
    "\\end{aligned}\n",
    "于是方程的通解是$$x=C_{1}(t)·t+C_{2}(t)t\\ln t+34t^2+3t(\\ln t)^2.$$"
   ]
  },
  {
   "cell_type": "markdown",
   "metadata": {},
   "source": [
    "### P132.6.假设是二阶齐次线性微分方程的解，这个和于区间上连续，试证：\n",
    "\n",
    "（1）$x_{2}(t)$为方程的解的充要条件是$$W'[x_{1},x_{2}]+a_{1}W[x_{1},x_{2}]=0;$$\n",
    "\n",
    "（2）方程的通解可表为$$x=x_{1}[c_{1}\\int \\frac{1}{x_{1}^{2}}\\exp(-\\int_{t_0}^{t}a_{1}(s)\\mathrm d s)\\mathrm d t+c_{2}],$$其中$c_{1},c_{2}$为任意常数，$t_0,t \\in [a,b].$"
   ]
  },
  {
   "cell_type": "markdown",
   "metadata": {},
   "source": [
    "证明：（1）充分性：由于\n",
    "$$W'[x_1,x_2]=\\begin{vmatrix} x_1' & x_2'\\\\ x_1' & x_2'\\\\ \\end{vmatrix} +\\begin{vmatrix} x_1 & x_2\\\\ x_1'' & x_2''\\\\ \\end{vmatrix}=\\begin{vmatrix} x_1 & x_2\\\\ x_1'' & x_2''\\\\ \\end{vmatrix},$$\n",
    "$$W'[x_1,x_2]+a_1(t)W[x_1,x_2]=\\begin{vmatrix} x_1 & x_2\\\\ x_1'' & x_2''\\\\ \\end{vmatrix}+a_1(t)\\begin{vmatrix} x_1 & x_2\\\\ x_1' & x_2'\\\\ \\end{vmatrix}=\\begin{vmatrix} x_1 & x_2\\\\ x_1''+a_1(t)x_1' & x_2''+a_1(t)x_1'\\\\ \\end{vmatrix}=0,$$\n",
    "\n",
    "\n",
    "而$x_1(t)\\neq0$是已知方程得解，则有$$\\begin{vmatrix} x_1 & x_2\\\\ -a_2(2)x_1 & x_2''+a_1(t)x_2'\\\\ \\end{vmatrix}= x_1\\begin{vmatrix} 1 & x_2\\\\ -a_2(2) & x_2''+a_1(t)x_2'\\\\ \\end{vmatrix}=0,$$\n",
    "\n",
    "\n",
    "故有$$x_2''+a_1(x_2)''+a_2(t)x_2=0,$$\n",
    "\n",
    "\n",
    "即$x_2(t)$是已知方程的解。\n",
    "\n",
    "\n",
    "必要性：$W[x_1,x_2]$是方程的解$x_1(t)，x_2(t)$的朗斯基行列式，所以\n",
    "$$W'[x_1,x_2]=\\begin{vmatrix} x_1 & x_2\\\\ x_1'' & x_2''\\\\ \\end{vmatrix}=\\begin{vmatrix} x_1 & x_2\\\\ x_1'’+a_2(t)x_1 & x_2''+a_2(t)x_2\\\\ \\end{vmatrix}=\\begin{vmatrix} 1 & x_2\\\\ -a_1(t)x_1' &a_1(t)x_2'\\\\ \\end{vmatrix}= -a_1(t)\\begin{vmatrix} x_1 & x_2\\\\ x_1' & x_2'\\\\ \\end{vmatrix}=-a_1(t)W[x_1,x_2],$$\n",
    "\n",
    "\n",
    "即$W[x_1,x_2]$满足$W'[x_1,x_2]+a_1(t)W[x_1,x_2]=0.$"
   ]
  },
  {
   "cell_type": "markdown",
   "metadata": {},
   "source": [
    "(2)因为$x_1,x_2$为方程解，则由刘维尔公式\n",
    "\n",
    "$$\\begin{vmatrix} x_1 & x_2\\\\ x_1' & x_2'\\\\ \\end{vmatrix}=W（t_0）e^{-\\int_{t_0}^t a_1(s) d s},$$\n",
    "即$$ x_1x_2'- x_1'x_2=W（t_0）e^{-\\int_{t_0}^t a_1(s) d s}.$$\n",
    "方程两边同乘以$\\frac{1}{x_1^2}$,则有$\\frac{\\mathrm d(\\frac{x_2}{x_1})}{\\mathrm d t}=\\frac{W（t_0）}{x_1^2}e^{-\\int_{t_0}^t a_1(s) d s}$,于是$$\\frac{x_2}{x_1}c_1\\int\\frac{1}{x_1^2}e^{-\\int_{t_0}^t a_1(s) d s}\\mathrm d t+c_2,$$\n",
    "即$$x_2=(c_1\\int\\frac{1}{x_1^2}e^{-\\int_{t_0}^t a_1(s) d s}\\mathrm d t+c_2)x_1.$$\n",
    "取$c_1=1,c_2=0$,得\n",
    "\n",
    "$$x_2=x_1\\int\\frac{1}{x_1^2}e^{-\\int_{t_0}^t a_1(s) d s}\\mathrm d t，$$\n",
    "\n",
    "又$$ \n",
    "W(t)=\\begin{vmatrix} x_1 & x_2 \\\\ x_1' & x_2'\\\\ \\end{vmatrix} =e^{-\\int_{t_0}^t a_1(s) d s}\\neq0,$$ 从而原方程的通解可以表示为\n",
    "$$x=x_1[c_1\\int\\frac{1}{x_1^2}exp(-\\int_{t_0}^t a_1(s) d s)\\mathrm d t+c_2],$$\n",
    "其中$c_1,c_2$为常数，$t_0,t \\in [a,b].$"
   ]
  },
  {
   "cell_type": "markdown",
   "metadata": {},
   "source": [
    "# <font color='red'>A 26/10"
   ]
  },
  {
   "cell_type": "code",
   "execution_count": null,
   "metadata": {
    "collapsed": true
   },
   "outputs": [],
   "source": []
  }
 ],
 "metadata": {
  "kernelspec": {
   "display_name": "SageMath 7.3",
   "language": "",
   "name": "sagemath"
  },
  "language_info": {
   "codemirror_mode": {
    "name": "ipython",
    "version": 2
   },
   "file_extension": ".py",
   "mimetype": "text/x-python",
   "name": "python",
   "nbconvert_exporter": "python",
   "pygments_lexer": "ipython2",
   "version": "2.7.10"
  }
 },
 "nbformat": 4,
 "nbformat_minor": 0
}
