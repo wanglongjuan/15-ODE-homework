{
 "cells": [
  {
   "cell_type": "markdown",
   "metadata": {},
   "source": [
    "$1$.设$x(t)和y(t)$是区间$a\\leq t \\leq b$上的连续函数，证明：如果在区间$a\\leq t \\leq b$上有$\\frac{x(t)}{y(t)}\\neq$常数或$\\frac{y(t)}{x(t)}\\neq$常数，则$x(t)和y(t)$在区间$a\\leq t \\leq b$上线性无关.(反证法)"
   ]
  },
  {
   "cell_type": "markdown",
   "metadata": {},
   "source": [
    "证明：假设$x(t)和y(t)$在区间$a\\leq t \\leq b$上线性相关，则存在不全为零的常数$\\alpha,\\beta$使得$$\\alpha x(t)+\\beta y(t)=0$$ 那么不妨设$x(t)$为零，则有$$\\frac{y(t)}{x(t)}=-\\frac{\\alpha}{\\beta}$$ 显然$\\frac{\\alpha}{\\beta}$为常数，与题设矛盾，即假设不成立，所以$x(t)和y(t)$在区间$a\\leq t \\leq b$上线性无关."
   ]
  },
  {
   "cell_type": "markdown",
   "metadata": {},
   "source": [
    "$2$.证明非齐次线性微分方程的叠加原理:设$x_1(t),x_2(t)$分别是非齐次线性微分方程$$\\frac{d^{n}x}{dt^n}+a_1(t)\\frac{d^{n-1}x}{dt^{n-1}}+...+a_n(t)x=f_1(t),$$  $$\\frac{d^{n}x}{dt^n}+a_1(t)\\frac{d^{n-1}x}{dt^{n-1}}+...+a_n(t)x=f_2(t)$$的解，则$x_1(t)+x_2(t)$是方程 $$\\frac{d^{n}x}{dt^n}+a_1(t)\\frac{d^{n-1}x}{dt^{n-1}}+...+a_n(t)x=f_1(t)+f_2(t)$$的解"
   ]
  },
  {
   "cell_type": "markdown",
   "metadata": {},
   "source": [
    "证明：由题知$x_1(t),x_2(t)$分别是两个非齐次线性微分方程的解，那么有$$\\frac{d^{n}x_1}{dt^n}+a_1(t)\\frac{d^{n-1}x_1}{dt^{n-1}}+...+a_n(t)x_1=f_1(t) \\qquad (1)$$   $$\\frac{d^{n}x_2}{dt^n}+a_1(t)\\frac{d^{n-1}x_2}{dt^{n-1}}+...+a_n(t)x_2=f_2(t)    \\qquad (2)$$ 由$(1)+(2)$可知$$\\frac{d^{n}(x_1(t)+x_2(t))}{dt^n}+a_1(t)\\frac{d^{n-1}(x_1(t)+x_2(t))}{dt^{n-1}}+...+a_n(t)(x_1(t)+x_2(t))=f_1(t)+f_2(t)$$ 由上式知$x_1(t)+x_2(t)$是方程 $$\\frac{d^{n}x}{dt^n}+a_1(t)\\frac{d^{n-1}x}{dt^{n-1}}+...+a_n(t)x=f_1(t)+f_2(t)$$的解"
   ]
  },
  {
   "cell_type": "markdown",
   "metadata": {
    "collapsed": true
   },
   "source": [
    "$3$.已知齐次线性微分方程的基本解组$x_1,x_2$,求下列方程对应的非齐次线性微分方程的通解："
   ]
  },
  {
   "cell_type": "markdown",
   "metadata": {},
   "source": [
    "$(1)x''-x=cos t,x_1=e^t,x_2=e^{-t}$\n",
    "\n",
    "解：应用常数变易法，令$$x=c_1(t)x_1+c_2(t)x_2$$  将它代入方程即可得到决定$c_1'(t)和c_2'(t)$的两个方程 $$e^tc_1'(t)+e^{-t}c_2'(t)=0$$和 $$e^tc_1'(t)-e^{-t}c_2'(t)=cost$$ 解得$$c_1'(t)=\\frac{1}{2}e^{-t}cost,\\quad c_2'(t)=\\frac{-1}{2}e^tcost$$  由此解得$$c_1(t)=\\frac{1}{4}(sint-cost)e^{-t}+\\gamma_1$$  $$c_2(t)=-\\frac{1}{4}(sint+cost)e^t+\\gamma_2$$  所以原方程的通解为$$x=\\gamma_1e^t+\\gamma_2e^{-t}-\\frac{1}{2}cost$$"
   ]
  },
  {
   "cell_type": "markdown",
   "metadata": {},
   "source": [
    "$(2)x''+4x=tsin2t,x_1=cos2t,x_2=sin2t$\n",
    "\n",
    "解：应用常数变易法，令$$x=c_1(t)cos2t+c_2(t)sin2t$$  将它代入方程即可得到决定$c_1'(t)和c_2'(t)$的两个方程$$cos2tc_1'(t)+sin2tc_2'(t)=0$$和 $$-2sin2tc_1'(t)+2cos2tc_2'(t)=tsint$$ 解得$$c_1'(t)=-\\frac{1}{2}tsintsin2t,\\quad c_2'(t)=\\frac{1}{2}tsintcos2t$$  由此解得$$c_1(t)=\\frac{1}{4}[\\frac{1}{3}tsin3t+\\frac{1}{9}cos3t-tsint-cost]+c_1$$  $$c_2(t)=\\frac{1}{4}[-\\frac{1}{3}tcos3t+\\frac{1}{9}sin3t+tcost-sint]+c_2$$  所以原方程的通解为$$x=c_1cos2t+c_2sin2t+\\frac{t}{3}sint-\\frac{2}{9}cost$$"
   ]
  },
  {
   "cell_type": "markdown",
   "metadata": {},
   "source": [
    "$(3)t^2x''-tx'+x=6t+34t^2,x_1=t,x_2=tlnt$\n",
    "\n",
    "解：方程可变形为$$x''-\\frac{1}{t}x'+\\frac{1}{t^2}x=\\frac{6}{t}+34$$ 应用常数变易法，令$$x=t.c_1(t)+tlnt.c_2(t)$$  将它代入方程即可得到决定$c_1'(t)和c_2'(t)$的两个方程 $$t.c_1'(t)+tlnt.c_2'(t)=0$$和 $$c_1'(t)+(lnt+1)c_2'(t)=\\frac{6}{t}+34$$ 解得$$c_1'(t)=-lnt(\\frac{6}{t}+34),\\quad c_2'(t)=\\frac{6}{t}+34$$  由此解得$$c_1(t)=-34(tlnt-t)-3(lnt)^2+c_1$$  $$c_2(t)=34t+6lnt+c_2$$  所以原方程的通解为$$x=c_1t+c_2tlnt+34t^2+3t(lnt)^2$$"
   ]
  },
  {
   "cell_type": "markdown",
   "metadata": {},
   "source": [
    "$4$.假设$x_1\\neq 0$是二阶齐次线性微分方程$$x''+a_1(t)x'+a_2(t)x=0(*)$$的解，这里$a_1(t)和a_2(t)于区间[a,b]$上连续，试证：\n",
    "\n",
    "$(1)x_2(t)$为方程的解的充要条件是$$W'[x_1,x_2]+a_1W[x_1,x_2]=0;$$\n",
    "\n",
    "$(2)$方程的通解可表示为$$x=x_1[c_1 \\int {\\frac{1}{x_1^2}exp(-\\int_{t_0}^{t} a_1(s)ds)}dt+c_2],$$ 其中$c_1,c_2为任意常数，t_0,t\\in[a,b]$"
   ]
  },
  {
   "cell_type": "markdown",
   "metadata": {},
   "source": [
    "证明：\n",
    "\n",
    "$(1)$由于$$W'[x_1,x_2]+a_1W[x_1,x_2]=0$$ 既可以等价得到$$x_1x_2''-x_1''x_2'+a_1x_1x_2'-a_1x_1'x_2=0$$ 又因为$x_1x_2''-x_1''x_2'+a_1x_1x_2'-a_1x_1'x_2=0$\n",
    "\n",
    "$\\Leftrightarrow x_1x_2''+a_1x_1'x_2+a_1x_1x_2+a_1x_1x_2'-a_1x_1'x_2=0$ \n",
    "\n",
    "$\\Leftrightarrow x_1(x_2''+a_1x_2+a_1x_2')=0$  \n",
    "\n",
    "$\\Leftrightarrow x_2''+a_1x_2+a_1x_2'=0(x_1\\neq 0)$\n",
    "\n",
    "所以$x_2为(*)$的解，即$x_2(t)$为方程的解的充要条件是$$W'[x_1,x_2]+a_1W[x_1,x_2]=0$$\n",
    "\n",
    "$(2)$因为$x_1,x_2$为方程的解，则由刘维尔公式\n",
    "$$ \n",
    "\\begin{vmatrix} \n",
    "x_1 & x_2 \\\\ \n",
    "x_1' & x_2'\\\\ \n",
    "\\end{vmatrix} \n",
    "=W(t_0)e^{-\\int_{t_0}^t a_1(s) d s}\n",
    "$$  即$$x_1x_2'-x_1'x_2=W(t_0)e^{-\\int_{t_0}^t a_1(s) d s}$$ 等式两边同时乘以$\\frac{1}{x_1^2}$,则有$\\frac{d(\\frac{x_2}{x_1})}{dt}=\\frac{W(t_0)}{x_1^2}e^{-\\int_{t_0}^t a_1(s) d s}$,于是有$$ \\frac{x_2}{x_1}=c_1 \\int \\frac{1}{x_1^2}e^{-\\int_{t_0}^t a_1(s) d s}dt+c_2$$  即$$x_2=(c_1 \\int {\\frac{1}{x_1^2}e^{-\\int_{t_0}^t a_1(s) d s}dt}+c_2)x_1$$ 取$c_1=1,c_2=0,$得 $$x_2=x_1{\\int \\frac{1}{x_1^2}e^{-\\int_{t_0}^t a_1(s) d s}dt}$$ 又\n",
    "$$ \n",
    "W(t)=\n",
    "\\begin{vmatrix} \n",
    "x_1 & x_2 \\\\ \n",
    "x_1' & x_2'\\\\ \n",
    "\\end{vmatrix} \n",
    "=e^{-\\int_{t_0}^t a_1(s) d s}\\neq 0\n",
    "$$ 从而原方程的通解可表示为$$x=x_1[c_1 \\int {\\frac{1}{x_1^2}exp(-\\int_{t_0}^{t} a_1(s)ds)}dt+c_2],$$ 其中$c_1,c_2为任意常数，t_0,t\\in[a,b]$"
   ]
  },
  {
   "cell_type": "markdown",
   "metadata": {
    "collapsed": true
   },
   "source": [
    "# <font color='red'>A 26/10"
   ]
  },
  {
   "cell_type": "code",
   "execution_count": null,
   "metadata": {
    "collapsed": true
   },
   "outputs": [],
   "source": []
  }
 ],
 "metadata": {
  "kernelspec": {
   "display_name": "Python 2",
   "language": "python",
   "name": "python2"
  },
  "language_info": {
   "codemirror_mode": {
    "name": "ipython",
    "version": 2
   },
   "file_extension": ".py",
   "mimetype": "text/x-python",
   "name": "python",
   "nbconvert_exporter": "python",
   "pygments_lexer": "ipython2",
   "version": "2.7.10"
  }
 },
 "nbformat": 4,
 "nbformat_minor": 0
}
