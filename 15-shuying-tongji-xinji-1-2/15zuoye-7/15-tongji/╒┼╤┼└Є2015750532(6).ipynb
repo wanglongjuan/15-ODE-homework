{
 "cells": [
  {
   "cell_type": "markdown",
   "metadata": {},
   "source": [
    "$P131页1、设x(t)和y(t)是区间a\\leq t\\leq b上的连续函数,证明:如果在区间a\\leq t\\leq b有\\frac{x(t)}{y(t)}\\neq常数或\\frac{y(t)}{x(t)}\\neq常数，$\n",
    "$则x(t)和y(t)在区间a\\leq t\\leq b上线性无关.(提示:用反证法)$\n",
    "\n",
    "$证:假设x(t)和y(t)在区间a\\leq t\\leq b上线性相关$\n",
    "\n",
    "$则存在不全为0的常数α、β使得αx(t)+βy(t)\\equiv0,t\\in[a,b]$\n",
    "\n",
    "$不妨设x(t)\\neq0,则有\\frac{y(t)}{x(t)}=-\\frac{α}{β},显然-\\frac{α}{β}为常数，与题设矛盾，所以假设不成立，即x(t)和y(t)在区间a\\leq t\\leq b上线性无关.$"
   ]
  },
  {
   "cell_type": "markdown",
   "metadata": {},
   "source": [
    "$2、证明非齐次线性微分方程的叠加原理：设x_1(t),x_2(t)分别是非齐次线性微分方程$\n",
    "$$\\frac{d^nx}{dt^n}+a_1(t)\\frac{d^{n-1}x}{dt^{n-1}}+\\cdots+a_n(t)x=f_1(t),(1)$$\n",
    "$$\\frac{d^nx}{dt^n}+a_1(t)\\frac{d^{n-1}x}{dt^{n-1}}+\\cdots+a_n(t)x=f_2(t),(2)$$\n",
    "$的解，则x_1(t)+x_2(t)是方程\\frac{d^nx}{dt^n}+a_1(t)\\frac{d^{n-1}x}{dt^{n-1}}+\\cdots+a_n(t)x=f_1(t)+f_2(t)的解.$\n",
    "\n",
    "$证:由题设可知x_1(t)和x_2(t)分别是方程(1),(2)的解，则$\n",
    "\n",
    "$$\\frac{d^nx_1(t)}{dt^n}+a_1(t)\\frac{d^{n-1}x_1(t)}{dt^{n-1}}+\\cdots+a_n(t)x_1(t)=f_1(t),(3)$$\n",
    "$$\\frac{d^nx_2(t)}{dt^n}+a_1(t)\\frac{d^{n-1}x_2(t)}{dt^{n-1}}+\\cdots+a_n(t)x_2(t)=f_2(t),(4)$$\n",
    "\n",
    "$那么由(3)和(4)相加，并利用导数的运算法则得：$\n",
    "\n",
    "$\\frac{d^n(x_1(t)+x_2(t))}{dt^n}+a_1(t)\\frac{d^{n-1}(x_1(t)+x_2(t))}{dt^{n-1}}+\\cdots+a_n(t)(x_1(t)+x_2(t))=f_1(t)+f_2(t)$\n",
    "\n",
    "$所以x_1(t)+x_2(t)是方程\\frac{d^nx}{dt^n}+a_1(t)\\frac{d^{n-1}x}{dt^{n-1}}+\\cdots+a_n(t)x=f_1(t)+f_2(t)的解.$"
   ]
  },
  {
   "cell_type": "markdown",
   "metadata": {},
   "source": [
    "$3、已知齐次线性微分方程的基本解组x_1,x_2,求下列方程对应的非齐次线性微分方程的通解。$\n",
    "$(1)x''-x=\\cos t,x_1=e^t,x_2=e^{-t}$\n",
    "\n",
    "$(3)x''+4x=t\\sin 2t,x_1=\\cos 2t,x_2=\\sin 2t$\n",
    "\n",
    "$(5)t^2x''-tx'+x=6t+34t^2,x_1=t,x_2=tlnt$\n",
    "\n",
    "$解:(1)应用常数变易法，令x=c_1(t)e^t+c_2(t)e^{-t}$\n",
    "\n",
    "$将它代入方程，则可得决定c'_1(t)和c'_2(t)的两个方程$\n",
    "\n",
    "$\\begin{cases}e^tc'_1(t)+e^{-t}c'_2(t)=0\\\\e^tc'_1(t)-e^{-t}c'_2(t)=\\cos t\\end{cases}$\n",
    "\n",
    "$可得\\begin{cases}c'_1(t)=\\frac{1}{2}e^{-t}\\cos t\\\\c'_2(t)=-\\frac{1}{2}e^{t}\\cos t\\end{cases}$\n",
    "\n",
    "$积分，得\\begin{cases}c_1(t)=-\\frac{1}{4}e^{-t}(\\cos t-\\sin t)+γ_1\\\\c_2(t)=-\\frac{1}{4}e^{t}(\\cos t+\\sin t)+γ_2\\end{cases}$\n",
    "\n",
    "$故所求通解为:x=γ_1e^t+γ_2e^{-t}-\\frac{1}{2}\\cos t,其中γ_1、γ_2为任意常数。$\n",
    "\n",
    "$(3)应用常数变易法，令x=c_1(t)\\cos 2t+c_2(t)\\sin 2t$\n",
    "\n",
    "$将它代入方程，则可得决定c'_1(t)和c'_2(t)的两个方程$\n",
    "\n",
    "$\\begin{cases}\\cos 2tc'_1(t)+\\sin 2tc'_2(t)=0\\\\-2\\sin 2tc'_1(t)+2\\cos 2tc'_2(t)=t\\sin 2t\\end{cases}$\n",
    "\n",
    "$可得\\begin{cases}c'_1(t)=\\frac{1}{4}t(\\cos 4t-1)\\\\c'_2(t)=\\frac{1}{4}t\\sin 4t\\end{cases}$\n",
    "\n",
    "$积分，得\\begin{cases}c_1(t)=\\frac{1}{64}\\cos 4t+\\frac{1}{16}t\\sin 4t-\\frac{1}{8}t^2+γ_1\\\\c_2(t)=\\frac{1}{64}\\sin 4t-\\frac{1}{16}t\\cos 4t+γ_2\\end{cases}$\n",
    "\n",
    "$故所求通解为:x=γ_1\\cos 2t+γ_2\\sin 2t-\\frac{1}{8}t^2\\cos 2t+\\frac{1}{16}t\\sin 2t,其中γ_1、γ_2为任意常数.$\n",
    "\n",
    "$(5)原方程可化为x''-\\frac{1}{t}x'+\\frac{1}{t^2}x=\\frac{6}{x}+34$\n",
    "\n",
    "$应用常数变易法，令x=c_1(t)t+c_2(t)tlnt$\n",
    "\n",
    "$将它代入方程，则可得决定c'_1(t)和c'_2(t)的两个方程$\n",
    "\n",
    "$\\begin{cases}tc'_1(t)+tlntc'_2(t)=0\\\\c'_1(t)+(lnt+1)c'_2(t)=\\frac{6}{t}+34\\end{cases}$\n",
    "\n",
    "$可得\\begin{cases}c'_1(t)=-lnt(\\frac{6}{t}+34)\\\\c'_2(t)=\\frac{6}{t}+34\\end{cases}$\n",
    "\n",
    "$积分，得\\begin{cases}c_1(t)=-34(tlnt-t)-3(lnt)^2+γ_1\\\\c_2(t)=34t+6lnt+γ_2\\end{cases}$\n",
    "\n",
    "$故所求通解为:x=γ_1t+γ_2tlnt+34t^2+3t(lnt)^2,其中γ_1、γ_2为任意常数.$"
   ]
  },
  {
   "cell_type": "markdown",
   "metadata": {},
   "source": [
    "$6、假设x_1(t)\\neq0是二阶齐次线性微分方程x''+a_1(t)x'+a_2(t)=0的解,这里a_1(t)和a_2(t)于区间[a,b]上连续,试证$\n",
    "\n",
    "$(1)x_2(t)为方程的解的充要条件是W'[x_1,x_2]+a_1W[x_1,x_2]=0;$\n",
    "\n",
    "$(2)方程的通解可表为x=x_1[c_1\\int \\mathrm {\\frac{1}{x^2}exp(-\\int_{t_0}^{t} \\mathrm a_1(s)\\,\\mathrm{d}s)}\\,\\mathrm{d}t+c_2],其中c_1,c_2为任意常数，t_0,t\\in[a,b].$\n",
    "\n",
    "$(1)解：W'[x_1,x_2]+a_1W[x_1,x_2]=0$\n",
    "\n",
    "$x_1x''_2-x''_1x_2+a_1x_1x'_2-a_1x'_1x_2=0$\n",
    "\n",
    "$x_1x''_2-x''_1x_2+a_1x_1x'_2-a_1x'_1x_2+a_2x_1x_2-a_2x_1x_2=0$\n",
    "\n",
    "$x_1(x''_2+a_1x'_2+a_2x_2)=0$\n",
    "\n",
    "$x''_2+a_1x'_2+a_2x_2=0,(x_1\\neq0)$\n",
    "\n",
    "$故x_2为x''+a_1(t)x'+a_2(t)=0的解.$\n",
    "\n",
    "$(2)解：因为x_1,x_2为方程的解，则\\begin{vmatrix}x_1&x_2\\\\x'_1&x'_2\\\\\\end{vmatrix}=W(t_0)e^{-\\int_{t_0}^{t} \\mathrm a_1(s)\\,\\mathrm{d}s}$\n",
    "\n",
    "$即x_1x'_2-x'_1x_2=W(t_0)e^{-\\int_{t_0}^{t} \\mathrm a_1(s)\\,\\mathrm{d}s}$\n",
    "\n",
    "$两边同时乘以\\frac{1}{x^2_1},则有\\frac{d(\\frac{x_2}{x_1})}{dt}=\\frac{W(t_0)}{x^2_1}e^{-\\int_{t_0}^{t} \\mathrm a_1(s)\\,\\mathrm{d}s}$\n",
    "\n",
    "$于是\\frac{x_2}{x_1}=c_1\\int \\mathrm {\\frac{1}{x^2_1}e^{-\\int_{t_0}^{t} \\mathrm a_1(s)\\,\\mathrm{d}s}}\\,\\mathrm{d}t+c_2$\n",
    "\n",
    "$即x_2=(c_1\\int \\mathrm {\\frac{1}{x^2_1}e^{-\\int_{t_0}^{t} \\mathrm a_1(s)\\,\\mathrm{d}s}}\\,\\mathrm{d}t+c_2)x_1$\n",
    "\n",
    "$取c_1=1,c_2=0,得x_2=x_1\\int \\mathrm {\\frac{1}{x^2_1}e^{-\\int_{t_0}^{t} \\mathrm a_1(s)\\,\\mathrm{d}s}}\\,\\mathrm{d}t$\n",
    "\n",
    "$又因为W(t)=\\begin{vmatrix}x_1&x_2\\\\x'_1&x'_2\\\\\\end{vmatrix}=e^{-\\int_{t_0}^{t} \\mathrm a_1(s)\\,\\mathrm{d}s}\\neq0$\n",
    "\n",
    "$从而方程的通解可表示为x=x_1[c_1\\int \\mathrm {\\frac{1}{x^2_1}exp(-\\int_{t_0}^{t} \\mathrm a_1(s)\\,\\mathrm{d}s)}\\,\\mathrm{d}t+c_2],其中c_1,c_2为常数,t_0,t\\in[a,b].$"
   ]
  },
  {
   "cell_type": "markdown",
   "metadata": {},
   "source": [
    "# <font color='red'>A  24/10"
   ]
  },
  {
   "cell_type": "code",
   "execution_count": null,
   "metadata": {
    "collapsed": true
   },
   "outputs": [],
   "source": []
  }
 ],
 "metadata": {
  "kernelspec": {
   "display_name": "SageMath 7.3",
   "language": "",
   "name": "sagemath"
  },
  "language_info": {
   "codemirror_mode": {
    "name": "ipython",
    "version": 2
   },
   "file_extension": ".py",
   "mimetype": "text/x-python",
   "name": "python",
   "nbconvert_exporter": "python",
   "pygments_lexer": "ipython2",
   "version": "2.7.10"
  }
 },
 "nbformat": 4,
 "nbformat_minor": 0
}
