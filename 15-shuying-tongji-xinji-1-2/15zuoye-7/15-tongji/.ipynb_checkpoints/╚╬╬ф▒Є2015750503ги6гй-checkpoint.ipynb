{
 "cells": [
  {
   "cell_type": "markdown",
   "metadata": {},
   "source": [
    "1.证明：$假使x（t）和y(t）在a<=t<=b上线性相关，则存在不全为零的常数k_1，k_2，使\\equiv{k_1 x(t)+k_2 y(t)}{0},\\in{t}[a,b]. 设x(t)不为零，则有y(t)/x(t)=-k_1/k_2,显然-k_1/k_2为常数，所以与题意相矛盾，即x(t),y(t)在区间[a,b]上线性无关.$"
   ]
  },
  {
   "cell_type": "markdown",
   "metadata": {},
   "source": [
    "2.证明：$由题得x_1(t),x_2(t)分别是方程（1），（2）的解，则\n",
    "      \\frac{d^n*x_1(t)}{dt^n}+a_1(t)\\frac{d^(n-1)*x_1(t)}{dt^(n-1)}+a_1(t)+.......+a_n(t)x_1(t)=f_1(t)   (3)       \n",
    "      \\frac{d^n*x_2(t)}{dt^n}+a_1(t)\\frac{d^(n-1)*x_2(t)}{dt^(n-1)}+a_1(t)+.......+a_n(t)x_2(t)=f_2(t)   (4)    \n",
    "      将（3）和（4）相加，得到：\\frac{d^n(x_1(t)+x_2(t))}{dt^n}+a_1(t)\\frac{x_1(t)+x_2(t)}{dt6(n-1)}+.....+\n",
    "      a_n(t)(x_1(t)+x_2(t))=f_1(t)+f_2(t)\n",
    "      所以x_1(t)+x_2(t）是方程的解得证。$\n"
   ]
  },
  {
   "cell_type": "markdown",
   "metadata": {},
   "source": [
    "3.$（1）应用常数变易法，令x(t)=c_1(t)e^t+c_2(t)e^(-t),将其代入方程解得c'_1(t)=e^(-t)*cost/2,,c'_2(t)=-e^t*e^tcost/2.积分得到c_1(t)=(-e^(-t))(cost-sint)/4+c_1;c_2=-e^t(cost+sint)+c_2,故所求通解为x(t)=c_1e6t+c_2e^(-t)-cost/2.\n",
    "   "
   ]
  },
  {
   "cell_type": "markdown",
   "metadata": {},
   "source": [
    "(3)令x=c_1(t)cos2t+c_2(t)sin2t,代入方程，得到关于c'_1(t),c'_2(t)的方程组，解这个方程组得到c'_1(t)=(1/64)cos4t+(1/16)tsin4t-(1/8)t62+\\lambda_1,c_2(t)=(1/64)sin4t-(1/16)tcos4t+\\lambda_2.方程的解为x=c_1cos2t+c_2sin2t-(1/8)(t^2)cos2t+(1/16)tsin2t,c_1,c_2为任意常数。\n",
    "   "
   ]
  },
  {
   "cell_type": "markdown",
   "metadata": {},
   "source": [
    "（5）原方程化为x''-(1/t)x'+(1/t^2)x=6/t+34.令方程的解为x=t*c_1(t）+tlnt*c_2(t),将它代入方程，则可得关于c'_1(t)和c'_2(t)的方程组，解方程组得到c'_1(t)=-(lnt(6/t+34));c'_2(t)=6/t+34.积分得c_1(t)=-34(tlnt-t)-3(lnt)^2+c_1;c_2(t)=34t+6lnt+c_2.于是方程的通解为x=c_1*t+c_2tlnt+34t^2+3t(lnt)^2。$"
   ]
  },
  {
   "cell_type": "markdown",
   "metadata": {},
   "source": [
    "6.$证明（1）W'[x_1,x_2]+a_1W[x_1,x_2]=0\n",
    "            \\Longleftrightarrow x_1x''_2-x''_1x_2+a_1x_1x'_2-a_1x'_1x_2=0\n",
    "            \\Longleftrightarrow x_1x''_2-x''_1x_2+a_1x_1x'_2-a_1x'_1x_2+a_2x_1x_2-a_2x_1x_2=0        \n",
    "            \\Longleftrightarrow x_1(x''_2+a_1x'_2+a_2x_2)=0\n",
    "            \\Longleftrightarrow x''_2+a_1x'_2+a_2x_2=0,(x_1不等于0)\n",
    "             所以x_2是（*）的解\n",
    "         （2）因为x_1，x_2为方程的解，则有   \n",
    "                    [x_1 x-2；x’_1 x’_2]=W(t_0)e^\\int{t_0}^{t}a_1(s)ds,\n",
    "                    即为x_1x'_2-x'_1x_2=W(t_0)e^\\int{t_0}^{t}a_1(s)ds,两边同时乘以1/(x_1）^2得到的是d(x_2/x_1)/dt=\n",
    "                    ( W（t_0）/(x_1)^2)e^\\int{t_0}^{t}a_1(s)ds,所以x_2/x_1=c_1\\int1/(x_1)^2*e^\\int{t_0}^{t}a_1(s)ds+c_2\n",
    "                   所以x_2=  (c_1\\int1/(x_1)^2*e^\\int{t_0}^{t}a_1(s)ds+c_2 )*x_1\n",
    "                   假取c_1=1，c_2=0，得x_2=x_1 *\\int (1/(x_1)^2*e^\\int{t_0}^{t}a_1(s)ds) dt\n",
    "                    又因为W(t)=e^-\\int{t_0}{t} a_1(s)ds不等于0，故方程的通解为x=x_1[c_1 \\int1/(x_1)^2*exp(-\\int{t_0\n",
    "                  {t}a_1(s)ds)dt+c_2]                                                      \n",
    "  c_1，c_2为任意常数，t_0，t属于[a,b].$"
   ]
  },
  {
   "cell_type": "markdown",
   "metadata": {
    "collapsed": true
   },
   "source": [
    "# <font color='red'>B 24/10　　注意格式？？做题过程？？"
   ]
  },
  {
   "cell_type": "markdown",
   "metadata": {},
   "source": []
  }
 ],
 "metadata": {
  "kernelspec": {
   "display_name": "SageMath 7.3",
   "language": "",
   "name": "sagemath"
  },
  "language_info": {
   "codemirror_mode": {
    "name": "ipython",
    "version": 2
   },
   "file_extension": ".py",
   "mimetype": "text/x-python",
   "name": "python",
   "nbconvert_exporter": "python",
   "pygments_lexer": "ipython2",
   "version": "2.7.10"
  }
 },
 "nbformat": 4,
 "nbformat_minor": 0
}
