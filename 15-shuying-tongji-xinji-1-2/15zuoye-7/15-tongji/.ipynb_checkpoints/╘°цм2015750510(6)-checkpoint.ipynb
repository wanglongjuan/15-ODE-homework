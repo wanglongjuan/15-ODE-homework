{
 "cells": [
  {
   "cell_type": "markdown",
   "metadata": {},
   "source": [
    "1.设$x(t)$和$y(t)$是区间$a \\leq t \\leq b$上的连续函数，证明：如果在区间$a \\leq t \\leq b$上有$\\frac{x(t)}{y(t)}\\not=$常数或$\\frac{y(t)}{x(t)}\\not=$常数，则$x(t)$和$y(t)$在区间$a \\leq t \\leq b$上线性无关。（提示：用反证法） "
   ]
  },
  {
   "cell_type": "markdown",
   "metadata": {},
   "source": [
    "解：假设$x(t)$和$y(t)$在区间$a \\leq t \\leq b$上线性相关  \n",
    "\n",
    "则存在不完全为零的常数$α,β$，使得$αx(t)+βy(t)\\equiv 0,t\\in [a,b]$  \n",
    "\n",
    "那么不妨设$x(t)$不为零，则有$\\frac{y(t)}{x(t)}=-\\frac{α}{β}$，显然$-\\frac{α}{β}$为常数，与题设矛盾，  \n",
    "\n",
    "所以假设不成立，即证明了$x(t)$和$y(t)$在区间$a \\leq t \\leq b$上线性无关."
   ]
  },
  {
   "cell_type": "markdown",
   "metadata": {},
   "source": [
    "2.证明非齐次线性微分方程的叠加原理：设$x_1(t),x_2(t)$分别是非齐次线性微分方程  \n",
    "$$\\frac{d^nx}{dt^n}+a_1(t)\\frac{d^{n-1}x}{dt^{n-1}}+\\cdots+a_n(t)x=f_1(t)           （1）$$  \n",
    "$$\\frac{d^nx}{dt^n}+a_1(t)\\frac{d^{n-1}x}{dt^{n-1}}+\\cdots+a_n(t)x=f_2(t)           （2）$$  \n",
    "的解，则$x_1(t)+x_2(t)$是方程  \n",
    "$$\\frac{d^nx}{dt^n}+a_1(t)\\frac{d^{n-1}x}{dt^{n-1}}+\\cdots+a_n(t)x=f_1(t)+f_2(t)$$  \n",
    "的解."
   ]
  },
  {
   "cell_type": "markdown",
   "metadata": {},
   "source": [
    "解：由题设条件可知$x_1(t),x_2(t)$分别是方程（1），（2）的解，  \n",
    "则  \n",
    "$$\\frac{d^nx_1(t)}{dt^n}+a_1(t)\\frac{d^{n-1}x_1(t)}{dt^{n-1}}+\\cdots+a_n(t)x_1(t)=f_1(t)           （3）$$  \n",
    "\n",
    "$$\\frac{d^nx_2(t)}{dt^n}+a_1(t)\\frac{d^{n-1}x_2(t)}{dt^{n-1}}+\\cdots+a_n(t)x_2(t)=f_2(t)           （4）$$  \n",
    "\n",
    "那么由（3）和（4）相加，并利用导数的运算法则得：   \n",
    "\n",
    "$$\\frac{d^n(x_1(t)+x_2(t))}{dt^n}+a_1(t)\\frac{d^{n-1}(x_1(t)+x_2(t))}{dt^{n-1}}+\\cdots+a_n(t)(x_1(t)+x_2(t))=f_1(t)+f_2(t)$$  \n",
    "\n",
    "此即说明$x_1(t)+x_2(t)$是方程$\\frac{d^nx}{dt^n}+a_1(t)\\frac{d^{n-1}x}{dt^{n-1}}+\\cdots+a_n(t)x=f_1(t)+f_2(t)$的解。"
   ]
  },
  {
   "cell_type": "markdown",
   "metadata": {},
   "source": [
    "3.已知齐次线性微分方程的基本解组$x_1,x_2$，求下列方程对应的非齐次线性微分方程的通解：  "
   ]
  },
  {
   "cell_type": "markdown",
   "metadata": {},
   "source": [
    "(1)$x''-x=cost,x_1=e',x_2=e^{-t}$  \n",
    "\n",
    "解：令$x(t)=c_1(t)e^t+c_2(t)e^{-t}$,将它代入方程，则有  \n",
    "$$\\begin{cases}    \n",
    "c'_1(t)e^t+c'_2(t)e^{-t}=0,\\\\    \n",
    "c'_1(t)e^t-c'_2(t)e^{-t}=cost,  \n",
    "\\end{cases}$$  \n",
    "解之得  \n",
    "$$\\begin{cases}    \n",
    "c'_1(t)=\\frac{1}{2}e^{-t}cost,\\\\    \n",
    "c'_2(t)=-\\frac{1}{2}e^tcost,  \n",
    "\\end{cases}$$  \n",
    "积分得  \n",
    "$$c_1(t)=-\\frac{1}{4}e^{-t}(cost-sint)+c_1,$$  \n",
    "$$c_2(t)=-\\frac{1}{4}e^{t}(cost+sint)+c_2,$$  \n",
    "故所求通解为$x(t)=c_1e^t+c_2e^{-t}-\\frac{1}{2}cost$"
   ]
  },
  {
   "cell_type": "markdown",
   "metadata": {},
   "source": [
    "(3)$x''+4x=tsin{2t},x_1=cos{2t},x_2=sin{2t}$  \n",
    "\n",
    "解：令$x=c_1(t)cos{2t}+c_2(t)sin{2t}$，将它代入方程，可得关于$c'_1(t)$和$c'_2(t)$的方程组  \n",
    "\n",
    "$$\\begin{cases}    \n",
    "c'_1(t)cos2t+c'_2(t)sin2t=0,\\\\    \n",
    "-2c'_1(t)sin2t+2c'_2(t)cos2t=tsin2t,  \n",
    "\\end{cases}$$  \n",
    "解得  \n",
    "\n",
    "$$\\begin{cases}    \n",
    "c'_1(t)=\\frac{1}{4}t(cos4t-1),\\\\    \n",
    "c'_2(t)=\\frac{1}{4}tsin4t,  \n",
    "\\end{cases}$$  \n",
    "积分得  \n",
    "\n",
    "$$\\begin{cases}    \n",
    "c_1(t)=\\frac{1}{64}cos4t+\\frac{1}{16}tsin4t-\\frac{1}{8}t^2+γ_1,\\\\    \n",
    "c_2(t)=\\frac{1}{64}sin4t-\\frac{1}{16}tcos4t+γ_2,  \n",
    "\\end{cases}$$  \n",
    "\n",
    "于是方程的通解为$x=c_1cos2t+c_2(t)sin{2t}-\\frac{1}{8}t^2cos2t+\\frac{1}{16}tsin2t$，其中$c_1,c_2$为任意常数"
   ]
  },
  {
   "cell_type": "markdown",
   "metadata": {},
   "source": [
    "5.$t^2x''-tx'+x=6t+34t^2,x_1=t,x_2=tlnt$  \n",
    "\n",
    "解：原方程可化为$$x''-\\frac{1}{t}x'+\\frac{1}{t^2}x=\\frac{6}{t}+34$$  \n",
    "\n",
    "令方程的解为$x=tc_1(t)+tlntc_2(t)$,将它代入方程，则可得关于$c'_1(t)$和$c'_2(t)$的方程组  \n",
    "\n",
    "$$\\begin{cases}    \n",
    "t\\cdot c'_1(t)+tlnt\\cdot c'_2(t)=0,\\\\    \n",
    "c'_1(t)+(lnt+1)c'_2(t)=\\frac{6}{t}+34,  \n",
    "\\end{cases}$$  \n",
    "\n",
    "解得  \n",
    "$$\\begin{cases}    \n",
    "c'_1(t)=-lnt(\\frac{6}{t}+34),\\\\    \n",
    "c'_2(t)=\\frac{6}{t}+34,  \n",
    "\\end{cases}$$  \n",
    "\n",
    "积分得  \n",
    "$$\\begin{cases}    \n",
    "c_1(t)=-34(tlnt-t)-3(lnt)^2+c_1,\\\\    \n",
    "c_2(t)=34t+6lnt+c_2,  \n",
    "\\end{cases}$$  \n",
    "\n",
    "于是方程的通解为$x=c_1t+c_2tlnt+34t^2+3t(lnt)^2$，其中$c_1,c_2$为任意常数"
   ]
  },
  {
   "cell_type": "markdown",
   "metadata": {},
   "source": [
    "6.假设$x_1(t)\\not= 0$是二阶齐次线性微分方程$x''+a_1(t)x'+a_2(t)x=0     （*）$的解，这里$a_1(t)$和$a_2(t)$于区间[a,b]上连续，试证：  \n",
    "\n",
    "(1)$x_2(t)$为方程的解的充要条件是$W'[x_1,x_2]+a_1W[x_1,x_2]=0$  \n",
    "\n",
    "(2)方程的通解可表为$x=x_1[c_1\\int{\\frac{1}{{x_1}^2}exp(-\\int_{t_0}^t a_1(s)ds)dt+c_2}]$,其中$c_1,c_2$为任意常数，$t_0,t\\in[a,b]$"
   ]
  },
  {
   "cell_type": "markdown",
   "metadata": {},
   "source": [
    "证明：（1）$$W'[x_1,x_2]+a_1W[x_1,x_2]=0$$  \n",
    "$$\\Rightarrow x_1x''_2-x''_1x_2+a_1x_1x'_2-a_1x'_1x_2=0$$  \n",
    "$$\\Rightarrow x_1x''_2-x''_1x_2+a_1x_1x'_2-a_1x'_1x_2+a_2x_1x_2-a_2x_1x_2=0$$  \n",
    "$$\\Rightarrow x_1(x''_2+a_1x'_2+a_2x_2)=0$$  \n",
    "$$\\Rightarrow x''_2+a_1x'_2+a_2x_2=0,(x_1\\not=0)$$  \n",
    "即$x_2$为(*)的解"
   ]
  },
  {
   "cell_type": "markdown",
   "metadata": {},
   "source": [
    "(2)因为$x_1,x_2$为方程的解，则由刘维尔公式  \n",
    "$$  \n",
    "\\begin{vmatrix}  \n",
    "x_1&x_2 \\\\  \n",
    "x'_1&x'_2\\\\  \n",
    "\\end{vmatrix}  \n",
    "=W(t_0)e^{-\\int_{t_0}^t a_1(s)ds},  \n",
    "$$  \n",
    "即  \n",
    "$$x_1x'_2-x'_1x_2=W(t_0)e^{-\\int_{t_0}^t a_1(s)ds}$$  \n",
    "两边都乘以$\\frac{1}{{x_1}^2}$则有  \n",
    "$$\\frac{d(\\frac{x_2}{x_1})}{dt}=\\frac{W(t_0)}{{x_1}^2}e^{-\\int_{t_0}^t a_1(s)ds},$$  \n",
    "于是$$\\frac{x_2}{x_1}=c_1\\int\\frac{1}{{x_1}^2}e^{-\\int_{t_0}^t a_1(s)ds}dt+c_2$$  \n",
    "即$$x_2=(c_1\\int\\frac{1}{{x_1}^2}e^{-\\int_{t_0}^t a_1(s)ds}dt+c_2)x_1$$  \n",
    "取$c_1=1,c_2=0,$得  \n",
    "$$x_2=x_1\\int\\frac{1}{{x_1}^2}e^{-\\int_{t_0}^t a_1(s)ds}dt$$  \n",
    "又$$W(t)=\n",
    "\\begin{vmatrix}  \n",
    "x_1&x_2 \\\\  \n",
    "x'_1&x'_2\\\\  \n",
    "\\end{vmatrix} =e^{-\\int_{t_0}^t a_1(s)ds}\\not=0$$  \n",
    "从而方程的通解可表示为:  \n",
    "$$x=x_1[c_1\\int\\frac{1}{{x_1}^2}exp(-\\int_{t_0}^t a_1(s)ds)dt+c_2]$$,其中$c_1,c_2$为常数,$t_0,t\\in[a,b]$"
   ]
  },
  {
   "cell_type": "markdown",
   "metadata": {
    "collapsed": true
   },
   "source": [
    "# <font color='red'>A  24/10"
   ]
  },
  {
   "cell_type": "code",
   "execution_count": null,
   "metadata": {
    "collapsed": true
   },
   "outputs": [],
   "source": []
  }
 ],
 "metadata": {
  "kernelspec": {
   "display_name": "SageMath 7.3",
   "language": "",
   "name": "sagemath"
  },
  "language_info": {
   "codemirror_mode": {
    "name": "ipython",
    "version": 2
   },
   "file_extension": ".py",
   "mimetype": "text/x-python",
   "name": "python",
   "nbconvert_exporter": "python",
   "pygments_lexer": "ipython2",
   "version": "2.7.10"
  }
 },
 "nbformat": 4,
 "nbformat_minor": 0
}
