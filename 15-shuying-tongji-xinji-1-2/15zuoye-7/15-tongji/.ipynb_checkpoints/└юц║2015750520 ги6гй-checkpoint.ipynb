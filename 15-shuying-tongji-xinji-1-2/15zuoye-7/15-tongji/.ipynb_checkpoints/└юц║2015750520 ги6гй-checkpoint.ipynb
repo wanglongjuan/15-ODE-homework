{
 "cells": [
  {
   "cell_type": "markdown",
   "metadata": {},
   "source": [
    "# $$常微分方程第六次作业$$"
   ]
  },
  {
   "cell_type": "markdown",
   "metadata": {},
   "source": [
    "### 1.设 $x(t)$ 和 $y(t)$ 是区间 $a \\leq t \\leq b$ 上的连续函数，证明：如果在区间 $a \\leq t \\leq b$ 上有 $\\frac{x(t)}{y(t)} \\neq$ 常数或 $\\frac{y(t)}{x(t)} \\neq$ 常数,则 $x(t)$ 和 $y(t)$ 在区间 $a \\leq t \\leq b$ 上线性无关。（提示：用反证法）"
   ]
  },
  {
   "cell_type": "markdown",
   "metadata": {},
   "source": [
    "#### 解：假设$x(t),y(t)$在区间$a \\leq t \\leq b$上线性相关,则存在不全为零的常数$\\alpha,\\beta,$使得$\\alpha x(t)+\\beta y(t) = 0,t \\in [a,b]$\n",
    "#### 当$\\alpha \\neq 0$ 时，$$\\frac{x(t)}{y(t)}=-\\frac{\\beta}{\\alpha}= 常数$$\n",
    "\n",
    "#### 当 $\\beta \\neq 0$ 时，$\\frac{y(t)}{x(t)}=-\\frac{\\alpha}{\\beta}=$ 常数，这与题中条件相矛盾\n",
    "\n",
    "#### 故而假设不成立，即证得$x(t),y(t)$在区间$a \\leq t \\leq b$上线性无关"
   ]
  },
  {
   "cell_type": "markdown",
   "metadata": {},
   "source": [
    "### 2.证明非齐次线性微分方程的叠加原理：设 $x_1(t),x_2(t)$ 分别是非齐次线性微分方程\n",
    "\n",
    "### $$\\frac{\\mathrm d^n x}{\\mathrm d t^n}+a_1(t)\\frac{\\mathrm d^{n-1} x}{\\mathrm d t^{n-1}}+ \\cdots +a_n(t)x=f_1(t)$$\n",
    "\n",
    "### $$\\frac{\\mathrm d^n x}{\\mathrm d t^n}+a_1(t)\\frac{\\mathrm d^{n-1} x}{\\mathrm d t^{n-1}}+ \\cdots +a_n(t)x=f_2(t)$$\n",
    "\n",
    "### 的解，则 $x_1(t)+x_2(t)$ 是方程\n",
    "\n",
    "### $$\\frac{\\mathrm d^n x}{\\mathrm d t^n}+a_1(t)\\frac{\\mathrm d^{n-1} x}{\\mathrm d t^{n-1}}+ \\cdots +a_n(t)x=f_1(t)+f_2(t)$$\n",
    "\n",
    "### 的解。"
   ]
  },
  {
   "cell_type": "markdown",
   "metadata": {},
   "source": [
    "#### 证明：由题可知$x_1(t),x_2(t)$分别是两个方程的解\n",
    "#### 则$$\\frac{d^nx_1(t)}{dt^n}+a_1(t)\\frac{d^{n-1}x_1(t)}{dt^{n-1}}+\\cdots+a_n(t)x_1(t)=f_1(t)$$\n",
    "#### 且$$\\frac{d^nx_2(t)}{dt^n}+a_1(t)\\frac{d^{n-1}x_2(t)}{dt^{n-1}}+\\cdots+a_n(t)x_2(t)=f_2(t)$$\n",
    "#### 两式相加可得\n",
    "#### $$\\frac{d^n(x_1(t)+x_2(t))}{dt^n}+a_1(t)\\frac{d^{n-1}(x_1(t)+x_2(t)}{dt^{n-1}}+\\cdots+a_n(t)(x_1(t)+x_2(t))=f_1(t)+f_2(t)$$\n",
    "#### 即$x_1(t)+x_2(t)$是方程$\\frac{d^nx}{dt^n}+a_1(t)\\frac{d^{n-1}x}{dt^{n-1}}+\\cdots+a_n(t)x=f_1(t)+f_2(t)$的解"
   ]
  },
  {
   "cell_type": "markdown",
   "metadata": {},
   "source": [
    "### 3.已知齐次线性微分方程的基本解组 $x_1,x_2 $ ,求下列方程对应的非齐次线性微分方程的通解：\n",
    "### （1）$x''-x=\\cos t,x_1=e^t,x_2=e^{-t}$\n",
    "\n",
    "#### 解：$应用常数变易法，令x(t)=C_1(t)e^t+C_2(t)e^{-t},代入方程，得$\n",
    "\n",
    "#### $$\n",
    "\\begin{cases}\n",
    "C_1'(t)e^t+C_2'(t)e^{-t}=0\\\\\n",
    "C_1'(t)e^t-C_2'(t)e^{-t}=\\cos t\\\\\n",
    "\\end{cases}\n",
    "$$\n",
    "\n",
    "#### 解得：$$\n",
    "\\begin{cases}\n",
    "C_1'(t)=\\frac{1}{2}e^{-t} \\cos t\\\\\n",
    "C_2'(t)=-\\frac{1}{2}e^t \\cos t\\\\\n",
    "\\end{cases}\n",
    "$$\n",
    "#### 则$C_1(t)=\\frac{1}{4}e^{-t}( \\sin t-\\cos t)+C_1;C_2(t)=-\\frac{1}{4}e^t(\\cos t +\\sin t)+C_2$\n",
    "#### 于是所求通解为$x(t)=C_1e^t+C_2e^{-t}-\\frac{1}{2} \\cos t$"
   ]
  },
  {
   "cell_type": "markdown",
   "metadata": {},
   "source": [
    "### （3）$x''+4x=t \\sin t,x_1=\\cos 2t,x_2=\\sin 2t$\n",
    "\n",
    "#### 解：应用常数变易法，令 $$x=c_1(t)\\cos 2t+c_2(t) \\sin 2t$$\n",
    "#### 对上式求导得 $$x'=c_1'(t)\\cos t-2c_1(t)\\sin 2t+c_2'(t)\\sin 2t+2c_2'(t)\\cos 2t$$\n",
    "#### 令 $c_1'(t)\\cos t+c_2'(t)\\sin 2t=0$,则 $$x'=-2c_1(t)\\sin 2t+2c_2'(t)\\cos 2t\\cdots①$$\n",
    "#### 对①式求导得到 $$x''=2c_2'(t)\\cos 2t-4c_2(t)\\sin 2t-2c_1'(t)\\sin 2t-4c_1(t)\\cos 2t$$\n",
    "#### 则 $x''+4x=2c_2'(t)\\cos 2t-2c_1'(t)\\sin 2t=t\\sin 2t$\n",
    "#### 解得 $$c_1'(t)=-\\frac{1}{2}t\\sin^2 2t$$\n",
    "#### $$c_2'(t)=\\frac{1}{2}t\\sin 2t \\cos 2t$$\n",
    "#### 积分得 $$c_1(t)=-\\frac{1}{8}t^2+\\frac{1}{16}t\\sin 4t+\\frac{1}{64}\\cos 4t+\\gamma_1$$\n",
    "#### $$c_2(t)=-\\frac{1}{16}t\\cos 4t+\\frac{1}{64}\\sin 4t+\\gamma_2$$\n",
    "#### 即原方程的通解为 $$x=-\\frac{t^2}{8}\\cos 2t+\\frac{t}{16}\\sin 2t+\\gamma_1\\cos 2t+\\gamma_2\\sin 2t$$"
   ]
  },
  {
   "cell_type": "markdown",
   "metadata": {},
   "source": [
    "### $3.(5)t^2x''-tx'+x=6t+34t^2,x_1=t,x_2=t ln t$\n",
    "#### 解：原方程可化为$x\"-\\frac{1}{t}x'+\\frac{1}{t^2}x=\\frac{6}{t}+34$\n",
    "#### 设方程的解为$x=tc_1(t)+t \\ln t c_2(t)$,代入方程，得关于c_1'(t)和c_2'(t)的方程组\n",
    "#### $$\n",
    "\\begin{cases}\n",
    "tc_1'(t)+t \\ln t c_2'(t)=0\\\\\n",
    "c_1'(t)+(\\ln t+1)c_2'(t)=\\frac{6}{t}+34\\\\\n",
    "\\end{cases}\n",
    "$$\n",
    "#### 解得：\n",
    "$$ \\begin{cases}\n",
    "c_1'(t)=-\\ln t(\\frac{6}{t}+34)\\\\\n",
    "c_2'(t)=\\frac{6}{t}+34\\\\\n",
    "\\end{cases}\n",
    "$$\n",
    "#### 积分可得\n",
    "$$ \\begin{cases}\n",
    "c_1(t)=-34(t \\ln t -t)-3(\\ln t)^2+c_1\\\\\n",
    "c_2(t)=34t+6 \\ln t +c_2\\\\\n",
    "\\end{cases}\n",
    "$$\n",
    "#### $\\therefore$方程的通解为$x=c_1t+c_2t \\ln t +34t^2+3t(\\ln t)^2$,其中$c_1,c_2$为任意常数"
   ]
  },
  {
   "cell_type": "markdown",
   "metadata": {},
   "source": [
    "### 6.假设 $x_1(t)\\neq 0$ 是二阶齐次线性微分方程 $$x''+a_1(t)x'+a_2(t)x=0$$ 的解，这里 $a_1(t)$ 和 $a_2(t)$ 于区间 $[a,b]$ 上连续，试证：\n",
    "### （1）$x_2(t)$ 为方程的解的冲要条件是 $$W'[x_1,x_2]+a_1W[x_1,x_2]=0$$\n",
    "### （2）方程的通解可表为 $$x=x_1[c_1 \\int \\frac{1}{x^2}exp(-\\int_{t_0}^t a_1(s) \\mathrm d s)\\mathrm d t+c_2]$$ 其中 $c_1,c_2$ 为任意常数，$t_0,t \\in [a,b]$"
   ]
  },
  {
   "cell_type": "markdown",
   "metadata": {},
   "source": [
    "#### 证明：\n",
    "#### （1）充分性：\n",
    "#### 因为\n",
    "####          $$ W'[x_1,x_2]= \\begin{vmatrix}\n",
    "                x_1' & x_2'\\\\\n",
    "                x_1' & x_2' \n",
    "                \\end{vmatrix}\n",
    "           +  \\begin{vmatrix} \n",
    "           x_1 & x_2\n",
    "           \\\\ x_1'' & x_2''\n",
    "           \\end{vmatrix}$$\n",
    "               \n",
    "#### 即 $$W'[x_1,x_2]=\\begin{vmatrix}\n",
    "                 x_1 & x_2\\\\x_1'' & x_2'' \\end{vmatrix}$$\n",
    "               \n",
    "#### 则$W'[x_1,x_2]+a_1W[x_1,x_2]=\\begin{vmatrix}\n",
    "                             x_1 & x_2\\\\\n",
    "                             x_1'' & x_2''\n",
    "                           \\end{vmatrix}\n",
    "                          +a_1(t)\\begin{vmatrix}\n",
    "                                  x_1 & x_2 \\\\\n",
    "                                  x_1' & x_2'\n",
    "                                 \\end{vmatrix}\n",
    "                          =\\begin{vmatrix}\n",
    "                            x_1 & x_2\\\\\n",
    "                            x_1''+a_1(t)x_1' & x_2''+a_1(t)x_2'\n",
    "                           \\end{vmatrix}$\n",
    "                           \n",
    "#### 已知 $x_1(t)$ 是方程的解，所以\n",
    "#### $\\begin{vmatrix}\n",
    "  x_1 & x_2\\\\\n",
    "  x_1''+a_1(t)x_1' & x_2''+a_1(t)x_2'\n",
    "  \\end{vmatrix}\n",
    "  =\\begin{vmatrix}\n",
    "     x_1 & x_2\\\\\n",
    "     -a_2(t)x_1(t) & x_2''+a_1(t)x_2'\n",
    "   \\end{vmatrix}\n",
    "  =x_1\\begin{vmatrix}\n",
    "        1 & x_2\\\\\n",
    "        -a_2(t) & x_2''+a_1(t)x_2'\n",
    "       \\end{vmatrix}=0$\n",
    "#### 则，$x_2''+a_1(t)x_2'+a_2(t)x_2$\n",
    "#### 即 $x_2(t)$ 是方程的解      "
   ]
  },
  {
   "cell_type": "markdown",
   "metadata": {},
   "source": [
    "#### 必要性\n",
    "#### 因为$W[x_1,x_2]$ 是方程的解 $x_1(t),x_2(t)$ 的朗斯基行列式，所以\n",
    "#### $W'[x_1,x_2]=\\begin{vmatrix}\n",
    "                x_1 & x_2\\\\\n",
    "                x_1'' & x_2''\n",
    "                \\end{vmatrix}\n",
    "             =\\begin{vmatrix}\n",
    "               x_1 & x_2\\\\\n",
    "               x_1''+a_2(t)x_1 & x_2''+a_2(t)x_2\n",
    "               \\end{vmatrix}\n",
    "              =\\begin{vmatrix}\n",
    "               x_1 & x_2\\\\\n",
    "               -a_1(t)x_1' & -a_1(t)x_2'\n",
    "               \\end{vmatrix}\n",
    "              =-a_1(t)\\begin{vmatrix}\n",
    "                        x_1 & x_2\\\\\n",
    "                        x_1' & x_2'\n",
    "                        \\end{vmatrix}\n",
    "               =-a_1(t)W[x_1,x_2]$\n",
    "\n",
    "#### 即 $W[x_1.x_2]$ 满足 $W'[x_1,x_2]+a_1W[x_1,x_2]=0$"
   ]
  },
  {
   "cell_type": "markdown",
   "metadata": {},
   "source": [
    "####  $（2）$\n",
    "#### 因为 $x_1,x_2$ 为方程的解，则由刘维尔公式得\n",
    "####$$\\begin{vmatrix}\n",
    "     x_1 & x_2\\\\\n",
    "     x_1' & x_2'\n",
    "  \\end{vmatrix}\n",
    " =W(t_0)e^{-\\int_{t_0}^t a_1(s) \\mathrm d s}$$\n",
    " \n",
    "#### 即 $$x_1x_2'-x_1'x_2=W(t_0)e^{-\\int_{t_0}^t a_1(s) \\mathrm d s}$$\n",
    "#### 方程两边同乘以 $\\frac{1}{x^2}$,则有 $$\\frac{\\mathrm d(\\frac{x_2}{x_1})}{\\mathrm d t}=\\frac{W(t_0)}{x_1^2}e^{-\\int_{t_0}^t a_1(s) \\mathrm d s}$$\n",
    "#### 得 $$\\frac{x_2}{x_1}=c_1\\int \\frac{1}{x_1^2}exp(-\\int_{t_0}^t a_1(s) \\mathrm d s)\\mathrm d t+c_2$$\n",
    "#### 即 $$x_2=x_1(c_1\\int \\frac{1}{x_1^2}exp(-\\int_{t_0}^t a_1(s) \\mathrm d s)\\mathrm d t+c_2)$$\n",
    "#### 取 $c_1=1,c_2=0$ 得 $$x_2=x_1\\int \\frac{1}{x_1^2}exp(-\\int_{t_0}^t a_1(s) \\mathrm d s)\\mathrm d t$$\n",
    "#### 又 $$W(t)=\\begin{vmatrix}\n",
    "                x_1 & x_2\\\\\n",
    "                x_1' & x_2'\n",
    "           \\end{vmatrix}\n",
    "         =exp(-\\int_{t_0}^t a_1(s)\\mathrm d s)\\neq 0$$\n",
    "          \n",
    "#### 则原方程的通解可以表示为 $$x=x_1[c_1\\int \\frac{1}{x_1^2}exp(-\\int_{t_0}^t a_1(s) \\mathrm d s)\\mathrm d t+c_2]$$\n",
    "#### 其中 $c_1,c_2$为常数，$t_0.t \\in [a,b]$          "
   ]
  },
  {
   "cell_type": "markdown",
   "metadata": {
    "collapsed": true
   },
   "source": [
    "# <font color='red'>A  24/10"
   ]
  },
  {
   "cell_type": "code",
   "execution_count": null,
   "metadata": {
    "collapsed": true
   },
   "outputs": [],
   "source": []
  }
 ],
 "metadata": {
  "kernelspec": {
   "display_name": "SageMath 7.3",
   "language": "",
   "name": "sagemath"
  },
  "language_info": {
   "codemirror_mode": {
    "name": "ipython",
    "version": 2
   },
   "file_extension": ".py",
   "mimetype": "text/x-python",
   "name": "python",
   "nbconvert_exporter": "python",
   "pygments_lexer": "ipython2",
   "version": "2.7.10"
  }
 },
 "nbformat": 4,
 "nbformat_minor": 0
}
