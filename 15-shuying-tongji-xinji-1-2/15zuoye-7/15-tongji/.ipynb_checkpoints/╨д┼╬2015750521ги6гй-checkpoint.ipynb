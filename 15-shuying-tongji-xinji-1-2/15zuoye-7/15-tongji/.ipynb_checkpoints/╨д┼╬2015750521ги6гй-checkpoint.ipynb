{
 "cells": [
  {
   "cell_type": "markdown",
   "metadata": {},
   "source": [
    "# $$作业六$$"
   ]
  },
  {
   "cell_type": "markdown",
   "metadata": {},
   "source": [
    "## 1.设$x(t)$和$y(t)$是区间$a\\leq t\\leq b$上的连续函数,证明:如果在区间$a\\leq t\\leq b$上有$\\frac{\\mathrm x(t)}{\\mathrm y(t)}\\neq$常数或$\\frac{\\mathrm y(t)}{\\mathrm x(t)}\\neq$常数,则$x(t)$和$y(t)$在区间$a\\leq t\\leq b$上线性无关.(提示:用反证法)"
   ]
  },
  {
   "cell_type": "markdown",
   "metadata": {},
   "source": [
    "证明:如果在区间$a\\leq t\\leq b$上有$\\frac{\\mathrm x(t)}{\\mathrm y(t)}\\neq$常数或$\\frac{\\mathrm y(t)}{\\mathrm x(t)}\\neq$常数,则$x(t)$和$y(t)$在区间$a\\leq t\\leq b$上线性有关.\n",
    "\n",
    "存在不全为0的实数$c,d$，令$cx(t)+dy(t)=0$\n",
    "\n",
    "设$x(t)\\neq0$,有$\\frac{\\mathrm y(t)}{\\mathrm x(t)}=-\\frac{\\mathrm c}{\\mathrm d}$\n",
    "\n",
    "显然$-\\frac{\\mathrm c}{\\mathrm d}$为常数,与题目矛盾.\n",
    "\n",
    "故而,如果在区间$a\\leq t\\leq b$上有$\\frac{\\mathrm x(t)}{\\mathrm y(t)}\\neq$常数或$\\frac{\\mathrm y(t)}{\\mathrm x(t)}\\neq$常数,则$x(t)$和$y(t)$在区间$a\\leq t\\leq b$上线性无关."
   ]
  },
  {
   "cell_type": "markdown",
   "metadata": {},
   "source": [
    "## 2.证明非齐次线性微分方程的叠加原理:设$x_1(t),x_2(t)$分别是非齐次线性微分方程$$\\frac{\\mathrm d^nx}{\\mathrm dt^n}+a_1(t)\\frac{\\mathrm d^{n-1}x}{\\mathrm dt^{n-1}}+……+a_n(t)x=f_1(t)$$,$$\\frac{\\mathrm d^nx}{\\mathrm dt^n}+a_1(t)\\frac{\\mathrm d^{n-1}x}{\\mathrm dt^{n-1}}+……+a_n(t)x=f_2(t)$$的解,则$x_1(t)+x_2(t)$是方程$$\\frac{\\mathrm d^nx}{\\mathrm dt^n}+a_1(t)\\frac{\\mathrm d^{n-1}x}{\\mathrm dt^{n-1}}+……+a_n(t)x=f_1(t)+f_2(t)$$的解."
   ]
  },
  {
   "cell_type": "markdown",
   "metadata": {},
   "source": [
    "证明:\n",
    "∵$x_1(t),x_2(t)$分别是非齐次线性微分方程$$\\frac{\\mathrm d^nx}{\\mathrm dt^n}+a_1(t)\\frac{\\mathrm d^{n-1}x}{\\mathrm dt^{n-1}}+……+a_n(t)x=f_1(t)$$,$$\\frac{\\mathrm d^nx}{\\mathrm dt^n}+a_1(t)\\frac{\\mathrm d^{n-1}x}{\\mathrm dt^{n-1}}+……+a_n(t)x=f_2(t)$$的解\n",
    "∴$$\\frac{\\mathrm d^nx_1(t)}{\\mathrm dt^n}+a_1(t)\\frac{\\mathrm d^{n-1}x_1(t)}{\\mathrm dt^{n-1}}+……+a_n(t)x_1(t)=f_1(t)………(1)$$\n",
    "$$\\frac{\\mathrm d^nx_2(t)}{\\mathrm dt^n}+a_1(t)\\frac{\\mathrm d^{n-1}x_2(t)}{\\mathrm dt^{n-1}}+……+a_n(t)x_2(t)=f_2(t)………(2)$$\n",
    "(1)+(2)得：\n",
    "$$\\frac{\\mathrm d^n(x_1(t)+x_2(t))}{\\mathrm dt^n}+a_1(t)\\frac{\\mathrm d^{n-1}(x_1(t)+x_2(t))}{\\mathrm dt^{n-1}}+……+a_n(t)(x_1(t)+x_2(t))=f_1(t)+f_2(t)$$\n",
    "\n",
    "$x_1(t)+x_2(t)$是方程$$\\frac{\\mathrm d^nx}{\\mathrm dt^n}+a_1(t)\\frac{\\mathrm d^{n-1}x}{\\mathrm dt^{n-1}}+……+a_n(t)x=f_1(t)+f_2(t)$$的解."
   ]
  },
  {
   "cell_type": "markdown",
   "metadata": {},
   "source": [
    "## 3.己知齐次线性微分方程的基本解组$x_1,x_2$,,求下列方程对应的非齐次线性微分方程的通解："
   ]
  },
  {
   "cell_type": "markdown",
   "metadata": {},
   "source": [
    "### (1)$x^{''}-x=\\cos t,x_1=e^t,x_2=e^{-t}$;"
   ]
  },
  {
   "cell_type": "markdown",
   "metadata": {},
   "source": [
    "解：应用常数变异法,令:\n",
    "$$x=c_1(t)e^t+c_2(t)e^{-t}$$\n",
    "则有：\n",
    "$$\\begin{cases}\n",
    "c_1^{'}(t)e^t+c_2^{'}(t)e^{-t}=0      \\\\\n",
    "c_1^{'}(t)e^t-c_2^{'}(t)e^{-t}=\\cos t      \n",
    "\\end{cases}\n",
    "$$\n",
    "解得:\n",
    "$$c_1^{'}(t)=-\\frac{\\mathrm 1}{\\mathrm 4}e^{-t}(\\cos t-\\sin t)+c_1,c_2^{'}(t)=-\\frac{\\mathrm 1}{\\mathrm 4}e^{t}(\\cos t+\\sin t)+c_2$$\n",
    "通解:\n",
    "$$\n",
    "x(t)=c_1e^t+c_2e^{-t}-\\frac{\\mathrm 1}{\\mathrm 2}\\cos t\n",
    "$$"
   ]
  },
  {
   "cell_type": "markdown",
   "metadata": {},
   "source": [
    "### (3)$x^{''}+4x=t\\sin 2t,x_1=\\cos 2t,x_2=\\sin 2t$;"
   ]
  },
  {
   "cell_type": "markdown",
   "metadata": {},
   "source": [
    "解：应用常数变异法,令:\n",
    "$$x=c_1(t)\\cos 2t+c_2(t)\\sin 2t$$\n",
    "则有：\n",
    "$$\\begin{cases}\n",
    "c_1^{'}(t)\\cos 2t+c_2^{'}(t)\\sin 2t=0      \\\\\n",
    "-2c_1^{'}(t)\\sin 2t+2c_2^{'}(t)\\cos 2t=t\\sin 2t      \n",
    "\\end{cases}\n",
    "$$\n",
    "解得:\n",
    "$$c_1^{'}(t)=\\frac{\\mathrm 1}{\\mathrm 4}t(\\cos 4t-1),c_2^{'}(t)=\\frac{\\mathrm 1}{\\mathrm 4}t\\sin 4t$$\n",
    "积分得：\n",
    "$$c_1(t)=-\\frac{\\mathrm 1}{\\mathrm 64}\\cos 4t+\\frac{\\mathrm 1}{\\mathrm 16}t\\sin 4t-\\frac{\\mathrm 1}{\\mathrm 8}t^2+\\gamma_1,c_2(t)=-\\frac{\\mathrm 1}{\\mathrm 64}\\sin 4t+\\frac{\\mathrm 1}{\\mathrm 16}t\\cos 4t\\gamma_2$$\n",
    "通解:\n",
    "$$\n",
    "x(t)=c_1\\cos 2t+c_2\\sin 2t-\\frac{\\mathrm 1}{\\mathrm 8}t^2\\cos 2t+\\frac{\\mathrm 1}{\\mathrm 16}t\\sin 2t\n",
    "$$"
   ]
  },
  {
   "cell_type": "markdown",
   "metadata": {},
   "source": [
    "### (5)$t^2x^{''}-tx^{'}+x=6t+34t^2,x_1=t,x_2=t\\ln t$;"
   ]
  },
  {
   "cell_type": "markdown",
   "metadata": {},
   "source": [
    "解：原式可化为：$$x^{''}-\\frac{\\mathrm 1}{\\mathrm t}x^{'}+\\frac{\\mathrm 1}{\\mathrm t^2}x=\\frac{\\mathrm 1}{\\mathrm t}6+34$$\n",
    "应用常数变异法,令:\n",
    "$$x=c_1(t)t+c_2(t)t\\ln t$$\n",
    "则有：\n",
    "$$\\begin{cases}\n",
    "tc_1^{'}(t)+t\\ln tc_2^{'}(t)=0      \\\\\n",
    "c_1^{'}(t)+(\\ln t+1)c_2^{'}(t)=\\frac{\\mathrm 1}{\\mathrm t}6+34     \n",
    "\\end{cases}\n",
    "$$\n",
    "解得:\n",
    "$$c_1^{'}(t)=-34t(\\ln t-1)-3(\\ln t)^2+c_1,\n",
    "c_2^{'}(t)=34t+6\\ln t+c_2$$\n",
    "\n",
    "通解:\n",
    "$$\n",
    "x(t)=c_1t+c_2t\\ln t+34t^2+3t(\\ln t)^2\n",
    "$$"
   ]
  },
  {
   "cell_type": "markdown",
   "metadata": {},
   "source": [
    "# 6.假设$x_1(t)\\neq0$是二阶齐次线性微分方程 $$x^{''}+a_1(t)x^{'}+a_2(t)x=0$$的解,这里$a_1(t)$和$a_2(t)$于区间$[a,b]$上连续,试证:\n",
    "(1)为方程的解的充要条件是\n",
    "$$W^{'}[x_1,x_2]+a_1W[x_1,x_2]=0;$$\n",
    "(2)方程的通解可表为\n",
    "$$x=x_1[c_1\\int \\frac{\\mathrm 1}{\\mathrm {x_1}^2}exp(\\int_{t_0}^t a_1(s)\\,\\mathrm{d}s)\\,\\mathrm{d}t+c_2]$$,\n",
    "其中$c_1,c_2$为任意常数,$t_0,t \\in [a,b]$"
   ]
  },
  {
   "cell_type": "markdown",
   "metadata": {},
   "source": [
    "(1)$$W^{'}[x_1,x_2]+a_1W[x_1,x_2]=0;$$\n",
    "$$x_1{x_2}^{''}-{x_1}^{''}x_2+a_1x_1{x_2}^{'}-a_1{x_1}^{'}x_2=0$$\n",
    "$$x_1{x_2}^{''}-{x_1}^{''}x_2+a_1x_1{x_2}^{'}-a_1{x_1}^{'}x_2+a_2x_1x_2-a_2x_1x_2=0$$\n",
    "$$x_1({x_2}^{''}+a_1{x_1}+a_2x_2)=0$$\n",
    "$${x_2}^{''}+a_1{x_1}+a_2x_2=0,(x_1 \\neq 0)$$"
   ]
  },
  {
   "cell_type": "markdown",
   "metadata": {},
   "source": [
    "(2)因为$x_1,x_2$为方程的解,则由刘维尔公式\n",
    "$$\n",
    "\\begin{vmatrix}\n",
    "x_1&x_2\\\\\n",
    "{x_1}^{'}&{x_2}^{'}\\\\\n",
    "\\end{vmatrix}\n",
    "=W(t_0)e^{-\\int_{t_0}^t a_1(s)\\,\\mathrm{d}s}\n",
    "$$\n",
    "则有：\n",
    "$$x_1{x_2}^{'}-{x_1}^{'}x_2=W(t_0)e^{-\\int_{t_0}^t a_1(s)\\,\\mathrm{d}s}\n",
    "$$\n",
    "两边同乘$\\frac{\\mathrm 1}{\\mathrm {x_1}^2}$,则有:$$\\frac{\\mathrm d(\\frac{\\mathrm x_2}{\\mathrm x_1})}{\\mathrm dt}=\\frac{\\mathrm W(t_0)}{\\mathrm {x_1}^2}e^{-\\int_{t_0}^t a_1(s)\\,\\mathrm{d}s}$$\n",
    "$$\\frac{\\mathrm x_2}{\\mathrm x_1}=c_1\\int \\frac{\\mathrm 1}{\\mathrm {x_1}^2}e^{-\\int_{t_0}^t a_1(s)\\,\\mathrm{d}s}\\,\\mathrm{d}t+c_2$$\n",
    "$$\n",
    "x_2=\\big(c_1\\int \\frac{\\mathrm 1}{\\mathrm {x_1}^2}e^{-\\int_{t_0}^t a_1(s)\\,\\mathrm{d}s}\\,\\mathrm{d}t+c_2)x_1\n",
    "$$\n",
    "取$c_1=1,c_2=0$，得\n",
    "$$\n",
    "x_2=x_1\\int \\frac{\\mathrm 1}{\\mathrm {x_1}^2}e^{-\\int_{t_0}^t a_1(s)\\,\\mathrm{d}s}\\,\\mathrm{d}t\n",
    "$$\n",
    "因为\n",
    "$$\n",
    "W(t)=\n",
    "\\begin{vmatrix}\n",
    "x_1&x_2\\\\\n",
    "{x_1}^{'}&{x_2}^{'}\\\\\n",
    "\\end{vmatrix}\n",
    "=e^{-\\int_{t_0}^t a_1(s)\\,\\mathrm{d}s}\\neq 0\n",
    "$$\n",
    "通解为\n",
    "$$\n",
    "x=x_1[c_1\\int \\frac{\\mathrm 1}{\\mathrm {x_1}^2}exp(\\int_{t_0}^t a_1(s)\\,\\mathrm{d}s)\\,\\mathrm{d}t+c_2]\n",
    "$$\n",
    "其中$c_1,c_2$为任意常数,$t_0,t \\in [a,b]$"
   ]
  },
  {
   "cell_type": "markdown",
   "metadata": {
    "collapsed": true
   },
   "source": [
    "# <font color='red'>A  24/10"
   ]
  },
  {
   "cell_type": "code",
   "execution_count": null,
   "metadata": {
    "collapsed": true
   },
   "outputs": [],
   "source": []
  }
 ],
 "metadata": {
  "kernelspec": {
   "display_name": "SageMath 7.3",
   "language": "",
   "name": "sagemath"
  },
  "language_info": {
   "codemirror_mode": {
    "name": "ipython",
    "version": 2
   },
   "file_extension": ".py",
   "mimetype": "text/x-python",
   "name": "python",
   "nbconvert_exporter": "python",
   "pygments_lexer": "ipython2",
   "version": "2.7.10"
  }
 },
 "nbformat": 4,
 "nbformat_minor": 0
}
