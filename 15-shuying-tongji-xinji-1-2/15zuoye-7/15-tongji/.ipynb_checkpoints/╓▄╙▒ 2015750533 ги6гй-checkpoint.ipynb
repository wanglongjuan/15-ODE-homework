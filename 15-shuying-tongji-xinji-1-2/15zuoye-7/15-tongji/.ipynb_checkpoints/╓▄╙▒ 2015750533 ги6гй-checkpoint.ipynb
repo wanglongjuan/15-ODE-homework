{
 "cells": [
  {
   "cell_type": "markdown",
   "metadata": {},
   "source": [
    "# $常微分方程作业（6）$"
   ]
  },
  {
   "cell_type": "markdown",
   "metadata": {},
   "source": [
    "$\\bf P131.T1$"
   ]
  },
  {
   "cell_type": "markdown",
   "metadata": {},
   "source": [
    "$设x(t)和y(t)是区间a\\leq t\\leq b 上的连续函数，证明：$\n",
    "$如果在区间a\\leq t\\leq b 上有\\frac{x(t)}{y(t)}\\neq 常数或\\frac{y(t)}{x(t)}\\neq 常数$\n",
    "$则x(t)和y(t)在区间a\\leq t\\leq b 上线性无关.(提示:用反证法.)$"
   ]
  },
  {
   "cell_type": "markdown",
   "metadata": {},
   "source": [
    "$\\bf 解：$\n",
    "\n",
    "$假设x(t)和y(t)在区间a\\leq t\\leq b 上线性相关$\n",
    "$$\\therefore \\alpha x(t)+\\beta y(t)=0,(其中\\alpha,\\beta 不全为零)$$\n",
    "\n",
    "$\\therefore s设x(t)\\neq 0$\n",
    "\n",
    "$$\\frac{y(t)}{x(t)}=-\\frac{\\alpha}{\\beta}$$\n",
    "\n",
    "$而-\\frac{\\alpha}{\\beta}为常数$\n",
    "\n",
    "$与题目矛盾$\n",
    "\n",
    "$\\therefore x(t)和y(t)在区间a\\leq t\\leq b 上线性无关$ "
   ]
  },
  {
   "cell_type": "markdown",
   "metadata": {},
   "source": [
    "$\\bf P131.T2$"
   ]
  },
  {
   "cell_type": "markdown",
   "metadata": {},
   "source": [
    "$证明非齐次线性微分方程的叠加原理：设x_1(t),x_2(t)分别是非齐次线性微分方程$\n",
    "$$\\frac{d^n x}{dt^n}+a_1(t)\\frac{d^{n-1}x}{dt^{n-1}}+...+a_n(t)x=f_1(t)           \\quad(1)$$\n",
    "$$\\frac{d^n x}{dt^n}+a_1(t)\\frac{d^{n-1}x}{dt^{n-1}}+...+a_n(t)x=f_2(t)           \\quad(2)$$\n",
    "\n",
    "$的解，则x_1(t)+x_2(t)是方程$\n",
    "$$\\frac{d^n x}{dt^n}+a_1(t)\\frac{d^{n-1}x}{dt^{n-1}}+...+a_n(t)x=f_1(t)+f_2(t) $$\n",
    "\n",
    "$的解$\n"
   ]
  },
  {
   "cell_type": "markdown",
   "metadata": {},
   "source": [
    "$\\bf 解：$\n",
    "\n",
    "$因为x_1(t),x_2(t)分别为方程（1），（2）的解$\n",
    "$$\\therefore \\frac{d^n x_1(t)}{dt^n}+a_1(t)\\frac{d^{n-1}x_1(t)}{dt^{n-1}}+...+a_n(t)x_1(t)=f_1(t)$$\n",
    "$$ \\frac{d^n x_2(t)}{dt^n}+a_1(t)\\frac{d^{n-1}x_2(t)}{dt^{n-1}}+...+a_n(t)x_2(t)=f_2(t)$$\n",
    "\n",
    "$两式相加$\n",
    "\n",
    "$$\\frac{d^n (x_1(t)+x_2(t))}{dt^n}+a_1(t)\\frac{d^{n-1}(x_1(t)+x_2(t))}{dt^{n-1}}+...+a_n(t)(x_1(t)+x_2(t))=f_1(t)+f_2(t)$$\n",
    "\n",
    "$\\therefore x_1(t)+x_2(t)为方程\\frac{d^n x}{dt^n}+a_1(t)\\frac{d^{n-1}x}{dt^{n-1}}+...+a_n(t)x=f_1(t)+f_2(t) 的解$"
   ]
  },
  {
   "cell_type": "markdown",
   "metadata": {},
   "source": [
    "$\\bf P131.T3$\n",
    "\n",
    "$已知齐次线性微分方程的基本解组x_1,x_2求下列方程对应的非齐次线性微分方程的通解.$"
   ]
  },
  {
   "cell_type": "markdown",
   "metadata": {},
   "source": [
    "$\\bf（1）$\n",
    "\n",
    "$ x\"-x=\\cos t,x_1=e^t,x_2=e^{-t}$\n"
   ]
  },
  {
   "cell_type": "markdown",
   "metadata": {},
   "source": [
    "$\\bf 解：$\n",
    "\n",
    "$应用常数变易法$\n",
    "\n",
    "$令x(t)=c_1(t)e^t+c_2(t)e^{-t}$\n",
    "\n",
    "$x'(t)=c_1'(t)e^t+c_1(t)e^t+c_2'(t)e^{-t}-c_2(t)e^{-t}$\n",
    "\n",
    "$令c_1'(t)e^t+c_2'(t)e^{-t}=0$\n",
    "\n",
    "$x'(t)=c_1(t)e^t-c_2(t)e^{-t}$\n",
    "\n",
    "$x\"(t)=c_1'(t)e^t+c_1(t)e^t-c_2'(t)e^{-t}+c_2(t)e^{-t}$\n",
    "\n",
    "$带入原方程$\n",
    "\n",
    "$得c_1'(t)e^t-_2'(t)e^{-t}=\\cos t$\n",
    "\n",
    "$解方程组$\n",
    "$$\\begin {cases}\n",
    "  c_1'(t)e^t+c_2'(t)e^{-t}=0\\\\\n",
    "   c_1'(t)e^t-c_2'(t)e^{-t}=\\cos t\n",
    "   \\end{cases} $$\n",
    "   \n",
    "   $c_1'(t)=\\frac{1}{2}e^{-t}\\cos t,  \\quad  c_2'(t)=-\\frac{1}{2}e^{-t}\\cos t$\n",
    "   \n",
    "   $积分得c_1(t)=-\\frac{1}{4}e^{-t}(\\cos t-\\sin t)+c_1,\\quad c_2(t)=-\\frac{1}{4}e^t(\\cos t+\\sin t)+c_2$\n",
    "   \n",
    "   $通解x(t)=c_1e^t+c_2e^{-t}-\\frac{1}{2}\\cos t$"
   ]
  },
  {
   "cell_type": "markdown",
   "metadata": {},
   "source": [
    "$\\bf （3）$\n",
    "\n",
    "$x\"+4x=t\\sin 2t,x_1=\\cos 2t,x_2=\\sin 2t$"
   ]
  },
  {
   "cell_type": "markdown",
   "metadata": {},
   "source": [
    "$\\bf 解：$\n",
    "\n",
    "$应用常数变易法$\n",
    "\n",
    "$令x(t)=c_1(t)\\cos 2t+c_2(t)\\sin 2t$\n",
    "\n",
    "$代入方程可得决定c_1'(t),c_2'(t)的方程组$\n",
    "$$\\begin {cases}\n",
    "  c_1'(t)\\cos 2t+c_2'(t)\\sin 2t=0\\\\\n",
    "   -2c_1'(t)\\sin 2t+2c_2'(t)\\cos 2t=t\\sin 2t\\\n",
    "   \\end{cases} $$\n",
    "   \n",
    "   $解得$\n",
    "   \n",
    "   $c_1'(t)=\\frac{1}{4}t(\\cos 4t-1),\\quad   c_2'(t)=\\frac{1}{4}t\\sin 4t$\n",
    "   \n",
    "   $积分得c_1(t)=\\frac{1}{64}\\cos 4t+\\frac{1}{16}t\\sin 4t-\\frac{1}{8}t^2+c_1$\n",
    "   \n",
    "   $      \\quad \\quad c_2(t)=\\frac{1}{64}\\sin 4t-\\frac{1}{16}t\\cos 4t+c_2$\n",
    "   \n",
    "   $通解x(t)=c_1\\cos 2t+c_2\\sin 2t-\\frac{1}{8}t^2\\cos 2t+\\frac{1}{16}t\\sin 2t$"
   ]
  },
  {
   "cell_type": "markdown",
   "metadata": {},
   "source": [
    "$\\bf（5）$\n",
    "\n",
    "$t^2x\"-tx'+x=6t+34t^2,x_1=t,x_2=t lnt$\n"
   ]
  },
  {
   "cell_type": "markdown",
   "metadata": {},
   "source": [
    "$\\bf 解：$\n",
    "\n",
    "$原方程可化为$\n",
    "\n",
    "$$x\"-\\frac{1}{t}x'+\\frac{1}{t^2}x=\\frac{6}{t}+34$$\n",
    "$应用常数变易法$\n",
    "\n",
    "$令x(t)=c_1(t)t+c_2(t)t lnt$\n",
    "\n",
    "$代入方程可得决定c_1'(t),c_2'(t)的方程组$\n",
    "$$\\begin {cases}\n",
    "  c_1'(t)t+c_2'(t)tlnt=0\\\\\n",
    "   c_1'(t)+c_2'(t)(lnt+1)=\\frac{6}{t}+34\\\n",
    "   \\end{cases} $$\n",
    "\n",
    " $解得$\n",
    " \n",
    " $c_1'(t)=-lnt(\\frac{6}{t}+34),\\quad  c_2'(t)=\\frac{6}{t}+34$\n",
    " \n",
    "  $积分得$\n",
    "  \n",
    "  $c_1(t)=-34(tlnt-t)-3(lnt)^2+c_1,\\quad   c_2(t)=34t+6lnt+c_2$\n",
    "  \n",
    "  $通解x(t)=c_1t+c_2tlnt+34t^2+3t(lnt)^2$"
   ]
  },
  {
   "cell_type": "markdown",
   "metadata": {},
   "source": [
    "$\\bf T6$\n",
    "\n",
    "$假设x_1(t)\\neq 0 是二阶齐次线性微分方程$\n",
    "\n",
    "$$x\"+a_1(t)x'+a_2(t)x=0$$\n",
    "\n",
    "$的解,这里a_1(t），a_2(t)于区间[a,b]上连续，试证：$\n",
    "\n",
    "$(1)x_2(t)为方程的解的充要条件是W'[x_1,x_2]+a_1W[x_1,x_2]=0；$\n",
    "\n",
    "$(2)方程的通解为表为$\n",
    "$$x=x_1[c_1\\int\\mathrm{\\frac{1}{x_1^2}exp(-\\int_{t_0}^t \\mathrm a_1(s)\\,\\mathrm{d}s)}\\,\\mathrm{d}t+c_2],$$\n",
    "\n",
    "$其中c_1,c_2为任意常数，t_0,t\\in[a,b]$"
   ]
  },
  {
   "cell_type": "markdown",
   "metadata": {},
   "source": [
    "$\\bf 解：$\n",
    "\n",
    "$\\bf （1）$\n",
    "\n",
    "$$W[x_1,x_2]=\n",
    "\\begin{vmatrix} \n",
    "x_1 & x_2 \\\\ \n",
    "x_1' & x_2'\\\\ \n",
    "\\end{vmatrix} $$\n",
    "\n",
    "$$W'[x_1,x_2]=\n",
    "\\begin{vmatrix} \n",
    "x_1 & x_2 \\\\ \n",
    "x_1\" & x_2\"\\\\ \n",
    "\\end{vmatrix} $$\n",
    "\n",
    "$\\therefore x_1x_2\"-x_1\"x_2+a_1x_1x_2'-a_2x_1'x_2=0$\n",
    "\n",
    "$x_1x_2\"-x_1\"x_2+a_1x_1x_2'-a_2x_1'x_2+a_2x_1x_2-a_2x_1x_2=0$\n",
    "\n",
    "$x_1(x_2\"+a_1x_2'+a_2x_2)=0$\n",
    "\n",
    "$x_2\"+a_1x_2'+a_2x_2'=0$\n",
    "\n",
    "$\\therefore x_2为方程的解$\n",
    "\n",
    "$\\bf （2）$\n",
    "\n",
    "$\\because x_1,x_2为方程的解$\n",
    "\n",
    "$\\therefore $\n",
    "$$W[x_1,x_2]=\n",
    "\\begin{vmatrix} \n",
    "x_1 & x_2 \\\\ \n",
    "x_1' & x_2'\\\\ \n",
    "\\end{vmatrix}=W(t_0)e^{-\\int_{t_0}^t\\mathrm {a_1(s)}\\,\\mathrm{ d }s}  $$\n",
    "\n",
    "$x_1x_2'-x_1'x_2=W(t_0)e^{-\\int_{t_0}^t\\mathrm{a_1(s)}\\,\\mathrm{d}s }$\n",
    "\n",
    "$两边同乘\\frac{1}{x_1^2}$\n",
    "\n",
    "$\\frac{d(\\frac{x_2}{x_1})}{dt}=\\frac{W(t_0)}{x_1^2}e^{-\\int_{t_0}^t\\mathrm{a_1(s)}\\,\\mathrm{d}s }$\n",
    "\n",
    "$\\frac{x_2}{x_1}=c_1\\int\\mathrm{\\frac{1}{x_1^2}e^{(-\\int_{t_0}^t \\mathrm a_1(s)\\,\\mathrm{d}s)}}\\,\\mathrm{d}t+c_2$\n",
    "\n",
    "$x_2=x_1[c_1\\int\\mathrm{\\frac{1}{x_1^2}e^{(-\\int_{t_0}^t \\mathrm a_1(s)\\,\\mathrm{d}s)}}\\,\\mathrm{d}t+c_2]$\n",
    "\n",
    "$令c_1=1,c_2=0$\n",
    "\n",
    "$\\therefore x_2=x_1\\int\\mathrm{\\frac{1}{x_1^2}e^{(-\\int_{t_0}^t \\mathrm a_1(s)\\,\\mathrm{d}s)}}\\,\\mathrm{d}t$\n",
    "\n",
    "$$W(t)=\n",
    "\\begin{vmatrix} \n",
    "x_1 & x_2 \\\\ \n",
    "x_1' & x_2'\\\\ \n",
    "\\end{vmatrix}=e^{-\\int_{t_0}^t\\mathrm {a_1(s)}\\,\\mathrm{ d }s} \\neq 0 $$\n",
    "\n",
    "$$x=x_1[c_1\\int\\mathrm{\\frac{1}{x_1^2}exp(-\\int_{t_0}^t \\mathrm a_1(s)\\,\\mathrm{d}s)}\\,\\mathrm{d}t+c_2],$$\n",
    "\n",
    "$其中c_1,c_2为任意常数，t_0,t\\in[a,b]$"
   ]
  },
  {
   "cell_type": "markdown",
   "metadata": {},
   "source": [
    "# <font color='red'>A  24/10"
   ]
  },
  {
   "cell_type": "code",
   "execution_count": null,
   "metadata": {
    "collapsed": true
   },
   "outputs": [],
   "source": []
  }
 ],
 "metadata": {
  "kernelspec": {
   "display_name": "SageMath 7.3",
   "language": "",
   "name": "sagemath"
  },
  "language_info": {
   "codemirror_mode": {
    "name": "ipython",
    "version": 2
   },
   "file_extension": ".py",
   "mimetype": "text/x-python",
   "name": "python",
   "nbconvert_exporter": "python",
   "pygments_lexer": "ipython2",
   "version": "2.7.10"
  }
 },
 "nbformat": 4,
 "nbformat_minor": 0
}
