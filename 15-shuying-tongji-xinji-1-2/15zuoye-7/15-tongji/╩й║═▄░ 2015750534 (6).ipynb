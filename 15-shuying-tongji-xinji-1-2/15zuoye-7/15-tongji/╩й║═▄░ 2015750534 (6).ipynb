{
 "cells": [
  {
   "cell_type": "markdown",
   "metadata": {},
   "source": [
    "$\\bf1.设x(t)和y(t)是区间a≤t≤b上的连续函数，证明：如果在区间a≤t≤b上有\\frac{x(t)}{y(t)}≠常数或\\frac{y(t)}{x(t)}≠常数，则x(t)和y(t)在区间a≤t≤b上线性无关（提示：用反证法）。$\n",
    "\n",
    "$解：用反证法证明：假设x(t)和y(t)是区间a≤t≤b上线性相关，则存在不全为0的常数c1,c2使得c1x(t)+c2y(t) ≡ 0，t∈[a,b].$\n",
    "\n",
    "$若c1≠0则\\frac{y(t)}{x(t)}=-\\frac{ c1}{ c2}=常数；$\n",
    "\n",
    "$同理,若c2≠0则\\frac{x(t)}{y(t)}=-\\frac{ c2}{ c1 }=常数；$\n",
    "\n",
    "$这与已知条件矛盾，所以假设不成立，故在区间a≤t≤b上x(t)和y(t) 线性无关.$\n"
   ]
  },
  {
   "cell_type": "markdown",
   "metadata": {},
   "source": [
    "$\\bf2.证明齐次线性微分方程的叠加原理：设x_1(t),x_2(t)分别是非齐次线性微分方程$\n",
    "$$\\bf\\frac{d^nx}{dt^n}+\\frac{a_1(t)dn-1x}{dt^{n-1}}+…+a_n(t)x=f_1(t),$$\n",
    "$$\\bf\\frac{d^nx}{dt^n}+\\frac{a_1(t)d^{n-1}x}{dt^{n-1}}+…+a_n(t)x=f_2(t)$$\n",
    "\n",
    "$\\bf的解，则x_1(t)+x_2(t)是方程\\frac{d^nx}{dt^n}+\\frac{a_1(t)d^{n-1}x}{dt^{n-1}}+…+a_n(t)x=f_2(t)+ f_1(t)的解.$\n",
    "\n",
    "∵x_1(t),x_2(t)分别是非齐次线性微分方程\n",
    "$$\\frac{d^nx}{d^tn}+\\frac{a_1(t)d^{n-1}x}{dt^{n-1}}+…+a_n(t)x=f_1(t),$$\n",
    "$$\\frac{d^nx}{dt^n}+\\frac{a_1(t)d^{n-1}x}{dt^{n-1}}+…+a_n(t)x=f_2(t)$$的解；\n",
    "\n",
    "∴满足$$\\frac{d^nx_1(t)}{dt^n}+\\frac{a_1(t)d^{n-1}x_1(t)}{dt^{n-1}}+…+a_n(t)x_1(t)=f_1(t),(1)$$\n",
    "$$\\frac{d^nx_2(t)}{dt^n}+\\frac{a_1(t)d^{n-1}x_2(t)}{dt^{n-1}}+…+a_n(t)x_2(t)=f_2(t)(2）$$\n",
    "$(1)+(2)得:$\n",
    " \n",
    "$$\\frac{d^n(x_1(t)+x_2(t)}{dt^n}+\\frac{a_1(t)d^{n-1}(x_1(t)+x_2(t))}{dt^{n-1}}+…+a_n(t)(x_1(t)+x_2(t))=f_2(t)+ f_1(t)$$\n",
    "\n",
    "$也即x_1(t)+x_2(t)是方程\\frac{d^nx}{dt^n}+\\frac{a_1(t)d^{n-1}x}{dt^{n-1}}+…+a^n(t)x=f_2(t)+ f_1(t)的解。$\n"
   ]
  },
  {
   "cell_type": "markdown",
   "metadata": {},
   "source": [
    "$\\bf3.已知其次线性微分方程的基本解组x_1,x_2,求下列方程对应的非齐次线性微分方程的通解。$\n",
    "$\\bf(1).x”-x=cost,x_1=e^t,x_2=e^{-t};$\n",
    "\n",
    "$解：令x=c_1(t)e^t+c_2(t)e^{-t},$\n",
    "\n",
    "带入方程得：$$e’c_1(t)+e^{-t}c_2(t)=0;\\\\ e’c_1(t)+e^{-t}c_2(t)=cost.$$\n",
    "\n",
    "$解得：c’_1(t)=\\frac{1}{2}e^{-t}cost,c’_2=\\frac{-1}{2}e^tcost;$\n",
    "\n",
    "$c_1(t)=e^{-t}\\frac{sint-cost}{4}+r_1,c2=-e^t\\frac{1}{4}(sint+cost)+r_2.$\n",
    "\n",
    "故原方程的通解为：$$x=r_1e^t+r_2e^{-t}-\\frac{1}{2}cost.$$\n"
   ]
  },
  {
   "cell_type": "markdown",
   "metadata": {},
   "source": [
    "$\\bf(3.)x”+4x=tsint,x_1=cos2t,x_2=sin2t;$\n",
    "\n",
    "解：令x=c_1(t)cos2t+c_2(t)sin2t,将其代入方程得\n",
    "$$cos2tc’_1(t)+sin2tc’_2(t)=0,\\\\-2sin2tc’_1(t)+2cos2tc’_2(t)=tsint;$$\n",
    "\n",
    "解得：$$c’_1(t)=-\\frac{1}{2}sintsin2t,\\\\c’_2(t)=\\frac{1}{2}tsintcos2t,$$\n",
    "\n",
    "故$$c’_1(t)=\\frac{1}{4}[\\frac{1}{4}tsin3t+\\frac{1}{9}cos3t-tsint-cost]+c_1,\\\\c_2(t)=\\frac{1}{4}[-\\frac{1}{3}tcos3t+\\frac{1}{9}sin3t+tcost-sint]+c_2.$$\n",
    "\n",
    "$所以方程的通解为x=c_1cos2t+c_2sin2t+\\frac{t}{3}sint-\\frac{2}{9}cost.$\n",
    "\n"
   ]
  },
  {
   "cell_type": "markdown",
   "metadata": {},
   "source": [
    "$\\bf(5).t^2x”-tx’+x=6t+34t^2,x_1=t,x_2=tlnt;$\n",
    "\n",
    "解：将原方程化解为$$x”-\\frac{1}{2}x’+\\frac{1}{t^2}x=\\frac{6}{t}+34$$\n",
    "\n",
    "令方程的解为x=tc’_1(t)+c’_2(t)tlnt,将其代入方程得$$tc’_1(t)+c’_2(t)tlnt=0，\\\\c’_1(t)+(lnt+1)c’_2(t)=(\\frac{6}{t}+34),\\\\c’_2(t)=\\frac{6}{t}+34$$\n",
    "\n",
    "由此$$c_1(t)=-34(tlnt)-3(lnt)^2+c_1,\\\\c_2(t)=34t+6lnt+c_2.$$\n",
    "\n",
    "所以方程的通解为：$$x=tc_1+tlntc_2+34t^2+3t(lnt)^2.$$\n"
   ]
  },
  {
   "cell_type": "markdown",
   "metadata": {},
   "source": [
    "$\\bf6.假设x(t)≠是二阶齐次线性微分方程$\n",
    "$$\\bf x”+a_1(t)x’+a_2(t)x=0$$\n",
    "\n",
    "$\\bf的解，这里a_1(t)和a_2(t)于区间[a,b]上连续，试证：$\n",
    "$\\bf(1)\tX_2(t)为方程的解的充要条件是$\n",
    "\n",
    "$$\\bf W’[x_1,x_2]+a_1W[x_1,x_2]=0;$$\n",
    "\n",
    "$\\bf(2)方程的通解可以表示为$\n",
    "$$\\bf x=x_1[c_1\\int\\mathrm \\ \\frac{1}{x_1^2}exp(-\\int_{t_0}^t\\mathrm a_1(s)\\,\\mathrm{d}s)\\,\\mathrm{d}t+c_2]$$\n",
    "\n",
    "$\\bf其中c_1,c_2为任意常数，t_0,t∈[a,b].$\n",
    "\n",
    "解：（1）充分性：由于\n",
    "$$W’[x_1,x_2]=\\begin{vmatrix}x_1’&x_2’\\\\ x_1’&x_2’\\\\\\end{vmatrix}+\\begin{vmatrix}x_1&x_2\\\\ x_1”&x_2”\\\\\\end{vmatrix}=\\begin{vmatrix}x_1&x_2\\\\ x_1”&x_2”\\\\\\end{vmatrix}$$\n",
    "\n",
    "$$W’[x1,x2]+a_1(t)W[x_1,x_2]= \\begin{vmatrix}x_1&x_2\\\\ x_1\"&x_2\"\\\\\\end{vmatrix}+a_1(t) \\begin{vmatrix}x_1&x_2\\\\x_1’&x_2’\\\\\\end{vmatrix}=\\begin{vmatrix}x_1&x_2\\\\ {x_1+a_1(t)x_1’}&{x_2”a_1(t)x_2’}\\\\\\end{vmatrix}=0$$\n",
    "\n",
    "$而x_1(t)\\neq 0是方程的解，有$\n",
    "\n",
    "$$\\begin{vmatrix}x_1&x_2\\\\{-a_2(t)x_1}&{x_2”+a_1(t)x_2’}\\\\\\end{vmatrix}=x_1\\begin{vmatrix} 1&x_2\\\\{-a_2(t)x_1}&{x_2”+a_1(t)x_2’}\\\\\\end{vmatrix}=0$$\n",
    "\n",
    "$所以x_2”+a_1(t)x_2’+a_2(t)x_2=0,也即x_2(t)是已知方程的解.$\n",
    "\n",
    "必要性：W’[x_1,x_2]是方程的解x_1(t),x_(t)的朗斯基行列式，所以$$W’[x_1,x_2]= \\begin{vmatrix}x_1&x_2\\\\x_1”&x_2”\\\\\\end{vmatrix}=\\begin{vmatrix}x_1&x_2\\\\{x_1+a_2(t)x_1}&{x_2”+a_2(t)x_2}\\\\\\end{vmatrix}=\\begin{vmatrix} 1&x_2\\\\{-a_2(t)x_1}&{x_2”+a_1(t)x_2’}\\\\\\end{vmatrix}=-a_1(t)W[x_1,x_2],$$\n",
    "\n",
    "$即W[x_1,x_2]满足W’[x_1,x_2]+a_1W[x_1,x_2]=0.$\n",
    "\n",
    "$(2)因为x_1,x_2为方程的解则，x_1x_2’-x_1’x_2=W(t_0)e^{-\\int_{t_0}^t\\mathrm a_1(s)\\,\\mathrm{d}s}.$\n",
    "\n",
    "方程两边同乘以\\frac{1}{x^2},则有$$\\frac{d(\\frac{x_1}{x_2}}{dt}=\\frac{W(t_0)}{(x_1)^2} e^{-\\int_{t_0}^t\\mathrm a_1(s)\\,\\mathrm{d}s}.$$\n",
    "\n",
    "故\n",
    "$$\\frac{x_2}{x_1}c_1\\int\\mathrm\\ \\frac{1}{x^2}e^{-\\int_{t_0}^t\\mathrm a_1(s)\\,\\mathrm{d}s}\\,\\mathrm{d}t+c_2,$$\n",
    "\n",
    "即\n",
    "$$x_2=(c_1\\int\\mathrm\\ \\frac{1}{x^2}e^{-\\int_{t_0}^t\\mathrm a_1(s)\\,\\mathrm{d}s}\\,\\mathrm{d}t+c_2)x_1$$\n",
    "\n",
    "取c_1=1,c_2=0,得\n",
    "$$x_2=x_1\\int\\mathrm\\ \\frac{1}{x^2}e^{-\\int_{t_0}^t\\mathrm a_1(s)\\,\\mathrm{d}s}\\,\\mathrm{d}t$$\n",
    "\n",
    "又$W(t)= \\begin{vmatrix}x_1&x_2\\\\x_1”&x_2” \\\\\\end{vmatrix}=e^{-\\int_{t_0}^t\\mathrm a_1(s)\\,\\mathrm{d}s}≠0，$\n",
    "\n",
    "从而原方程的通解可以表示为$$ x=x_1[c_1\\int\\mathrm \\ \\frac{1}{x_1^2}exp(-\\int_{t_0}^t\\mathrm a_1(s)\\,\\mathrm{d}s)\\,\\mathrm{d}t+c_2]$$\n",
    "\n",
    "$其中c_1,c_2为任意常数，t_0,t∈[a,b]$\n",
    "\n"
   ]
  },
  {
   "cell_type": "markdown",
   "metadata": {},
   "source": [
    "# <font color='red'>A  24/10"
   ]
  },
  {
   "cell_type": "code",
   "execution_count": null,
   "metadata": {
    "collapsed": true
   },
   "outputs": [],
   "source": []
  }
 ],
 "metadata": {
  "kernelspec": {
   "display_name": "SageMath 7.3",
   "language": "",
   "name": "sagemath"
  },
  "language_info": {
   "codemirror_mode": {
    "name": "ipython",
    "version": 2
   },
   "file_extension": ".py",
   "mimetype": "text/x-python",
   "name": "python",
   "nbconvert_exporter": "python",
   "pygments_lexer": "ipython2",
   "version": "2.7.10"
  }
 },
 "nbformat": 4,
 "nbformat_minor": 0
}
