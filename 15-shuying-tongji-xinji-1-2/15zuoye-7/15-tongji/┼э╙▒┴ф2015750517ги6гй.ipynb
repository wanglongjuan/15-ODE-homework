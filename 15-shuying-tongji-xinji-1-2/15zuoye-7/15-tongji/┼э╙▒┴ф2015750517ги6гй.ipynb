{
 "cells": [
  {
   "cell_type": "markdown",
   "metadata": {},
   "source": [
    "# 习题4.1"
   ]
  },
  {
   "cell_type": "markdown",
   "metadata": {},
   "source": [
    "1.设$x(t)和y(t)$是区间$a\\leq t\\leq b$上的连续函数，证明：如果在区间$a\\leq t\\leq b$上有$\\frac{x(t)}{y(t)}\\neq$常数或$\\frac{y(t)}{x(t)}\\neq$常数，则$x(t)和y(t)$在区间$a\\leq t\\leq b$上线性无关。（提示：用反证法。）"
   ]
  },
  {
   "cell_type": "markdown",
   "metadata": {},
   "source": [
    "证明：用反证法。  \n",
    "假设x(t)和y(t)在区间[a,b]上线性相关，则存在不全为0的常数$C_1$和$C_2$使得  \n",
    "$C_1x(t)+C_2y(t)≡0,t∈[a,b]$  \n",
    "若$C_2 \\neq 0$,则$\\frac{y(t)}{x(t)}=-\\frac{C_1}{C_2}$=常数；  \n",
    "若$C_1 \\neq 0$,则$\\frac{x(t)}{y(t)}=-\\frac{C_2}{C_1}$=常数。  \n",
    "在两种情况下，都与已知条件$\\frac{x(t)}{y(t)} \\neq 常数或\\frac{y(t)}{x(t)}\\neq$常数矛盾，所以假设不成立，即证明了x(t)和y(t)在区间[a,b]上是线性无关的。"
   ]
  },
  {
   "cell_type": "markdown",
   "metadata": {},
   "source": [
    "2.证明非齐次线性微分方程的叠加原理：设$x_1(t),x_2(t)$分别是非齐次线性微分方程\n",
    "$$\n",
    "\\frac{d^nx}{dt^n}+a_1(t)\\frac{d^{n-1}x}{dt^{n-1}}+\\cdots+a_n(t)x=f_1(t),\\\\\n",
    "\\frac{d^nx}{dt^n}+a_1(t)\\frac{d^{n-1}x}{dt^{n-1}}+\\cdots+a_n(t)x=f_2(t)\n",
    "$$\n",
    "的解，则$x_1(t)+x_2(t)$是方程\n",
    "$$\n",
    "\\frac{d^nx}{dt^n}+a_1(t)\\frac{d^{n-1}x}{dt^{n-1}}+\\cdots+a_n(t)x=f_1(t)+f_2(t)\n",
    "$$\n",
    "的解。"
   ]
  },
  {
   "cell_type": "markdown",
   "metadata": {},
   "source": [
    "证明：由于$x_1(t),x_2(t)$分别是非齐次线性微分方程  \n",
    "$\\frac{d^nx}{dt^n}+a_1(t)\\frac{d^{n-1}x}{dt^{n-1}}+\\cdots+a_n(t)x=f_1(t)$,  \n",
    "$\\frac{d^nx}{dt^n}+a_1(t)\\frac{d^{n-1}x}{dt^{n-1}}+\\cdots+a_n(t)x=f_2(t)$  \n",
    "的解，所以满足  \n",
    "$\\frac{d^nx_1(t)}{dt}+a_1(t)\\frac{d^{n-1}x_1(t)}{dt}+…+a_n(t)x_1(t)=f_1(t)$,  \n",
    "$\\frac{d^nx_2(t)}{dt}+a_1(t)\\frac{d^{n-1}x_2(t)}{dt}+…+a_n(t)x_2(t)=f_2(t)$.  \n",
    "将以上两式子相加，并且利用导数的运算法则有  \n",
    "$\\frac{d^n(x_1(t)+x_2(t))}{dt^n}+a_1\\frac {d^{n-1}(x_1(t)+x_2(t))}{dt^{n-1}}+…+a_n(t)(x_1(t)+x_2(t))=f_1(t)+f_2(t)$,\n",
    "这也就是说$x_1(t)+x_2(t)$是方程  \n",
    "$\\frac{d^nx}{dt^n}+a_1(t)\\frac{d^{n-1}x}{dt^{n-1}}+\\cdots+a_n(t)x=f_1(t)+f_2(t)$  \n",
    "的解。"
   ]
  },
  {
   "cell_type": "markdown",
   "metadata": {},
   "source": [
    "3.已知齐次线性微分方程的基本解组$x_1,x_2$，求下列方程对应的非齐次线性微分方程的通解：\n",
    "\n",
    "$（1）x''-x=\\cos t,x_1=e^t,x_2=e^{-t}$；\n",
    "\n",
    "$（3）x''+4x=t\\sin 2t,x_1=\\cos 2t,x_2=\\sin 2t$；\n",
    "\n",
    "$（5）t^2x''-tx'+x=6t+34t^2,x_1=t,x_2=t\\ln t$；"
   ]
  },
  {
   "cell_type": "markdown",
   "metadata": {},
   "source": [
    "解：\n",
    "\n",
    "（1）应用常数变易法，令  \n",
    "$x=C_1(t)e^t+C_2(t)e^{-t}$,将它代入方程，则可得决定$C'_1(t)和C'_2(t)$的两个方程  \n",
    "$e^tC'_1(t)+e^{-t}C'_2(t)=0$  \n",
    "及$e^tC'_1(t)-e^{-t}C'_2(t)=\\cos t$  \n",
    "解得$C'_1(t)=\\frac{1}{2}\\cos t e^{-t},C'_2=-\\frac{1}{2}e^t\\cos t$  \n",
    "由此$C_1(t)=\\frac{\\sin t-\\cos t}{4}e^{-t}+γ_1$,  \n",
    "$C_2(t)=-\\frac{1}{4}(\\sin t+\\cos t)e^t+γ_2$.  \n",
    "于是原方程的通解为$x=γ_1e^t+γ_2e^{-t}-\\frac{1}{2}\\cos t$。"
   ]
  },
  {
   "cell_type": "markdown",
   "metadata": {},
   "source": [
    "（3）令$x=C_1(t)\\cos 2t+C_2(t)\\sin 2t$,将它代入方程，  \n",
    "则可得决定$C'_1(t)和C'(t)$的两个方程  \n",
    "$\\cos 2t C'_1(t)+\\sin 2t C'_2(t)=0$  \n",
    "及$-2\\sin 2tC'_1(t)+2\\cos 2t C'(t)=t\\sin t$,  \n",
    "解得$C'_1(t)=-\\frac{1}{2}t\\sin t\\sin 2t$  \n",
    "$C'_2(t)=\\frac{1}{2}2\\sin t\\cos 2t$,  \n",
    "由此  \n",
    "$C_1(t)=\\frac{1}{4}[\\frac{1}{3}t\\sin 3t+\\frac{1}{9}\\cos 3t-t\\sin t-\\cos t]+C_1$  \n",
    "$C_2(t)=\\frac{1}{4}[-\\frac{1}{3}t\\cos 3t+\\frac{1}{9}\\sin 3t+t\\cos t-\\sin t]+C_2$.  \n",
    "于是方程的通解为  \n",
    "$x=C_1\\cos 2t+C_2\\sin 2t+\\frac{t}{3}\\sin t-\\frac{2}{9}\\cos t$."
   ]
  },
  {
   "cell_type": "markdown",
   "metadata": {},
   "source": [
    "（5）方程可以变形为  \n",
    "$x''-\\frac{1}{t}x'+\\frac{1}{t^2}x=\\frac{6}{t}+34$.  \n",
    "令方程的解为 $x=tC_1(t)+t\\ln t C_2(t)$，  \n",
    "将它代入方程，则可得决定$C'_1(t)$和$C'_2(t)$的两个方程  \n",
    "$tC'_1(t)+t \\ln tC'_2(t)=0$,  \n",
    "及$C'_1(t)+(\\ln t+1)C'_2(t)=\\frac{6}{t}+34$,  \n",
    "解得$C'_1(t)=-\\ln t(\\frac{6}{t}+34)$,$C'_2(t)=\\frac{6}{t}+34$,  \n",
    "由此$C_1(t)=-34(t\\ln t-t)-3(\\ln t)^2+C_1$,  \n",
    "$C_2(t)=34t+6\\ln t+C_2$。  \n",
    "于是方程的通解为$x=C_1t+C_2t\\ln t+34t^2+3t(\\ln t)^2$."
   ]
  },
  {
   "cell_type": "markdown",
   "metadata": {},
   "source": [
    "6.假设$x_1(t)\\neq 0$是二阶齐次线性微分方程$$x''+a_1(t)x'+a_2(t)x=0$$的解，这里$a_1(t)和a_2(t)$于区间[a,b]上连续，试证：\n",
    "\n",
    "（1）$x_2(t)$为方程的解的充要条件是$$W'[x_1,x_2]+a_1W[x_1,x_2]=0；$$\n",
    "（2）方程的通解可表为$$x=x_1[c_1\\int{\\frac{1}{x_1^2}exp(-\\int^t_{t_0}{a_1(s)}{ds})}{dt}+c_2]$$其中$c_1,c_2$为任意常数，$t_0,t\\in [a,b]$"
   ]
  },
  {
   "cell_type": "markdown",
   "metadata": {},
   "source": [
    "证明：\n",
    "\n",
    "（1）充分性  因为  \n",
    "$$W'[x_1,x_2]=\\begin{vmatrix}\n",
    "x'_1&x'_2\\\\\n",
    "x'_1&x'_2\\end{vmatrix}\n",
    "+\\begin{vmatrix}\n",
    "x_1&x_2\\\\\n",
    "x''_1&x''_2\\end{vmatrix}\n",
    "=\\begin{vmatrix}\n",
    "x_1&x_2\\\\\n",
    "x''_1&x''_2\\end{vmatrix}$$  \n",
    "$$W'[x_1,x_2]+a_1(t)W[x_1,x_2]=\\begin{vmatrix}\n",
    "x_1&x_2\\\\x''_1&x''_2\\end{vmatrix}+a_1(t)\\begin{vmatrix}\n",
    "x_1&x_2\\\\x'_1&x'_2\\end{vmatrix}=\\begin{vmatrix}\n",
    "x_1&x_2\\\\x''_1+a_1(t)x'_1&x''_2+a_1(t)x'_2\\end{vmatrix}=0$$，  \n",
    "而$x_1(t)\\neq0$是已知方程的解，所以  \n",
    "$$\\begin{vmatrix}x_1&x_2\\\\-a_2(t)x_1&x''_2+a_1(t)x'_2\\end{vmatrix}=x_1\\begin{vmatrix}1&x_2\\\\-a_2(t)&x''_2+a_1(t)x'_2\\end{vmatrix}=0$$,  \n",
    "故有$x''_2+a_1(t)x'(t)+a_2(t)x_2=0$,\n",
    "即$x_2(t)$是已知方程的解。  \n",
    "必要性   因为$W[x_1,x_2]$是方程的解$x_1(t),x_2(t)$的朗斯基行列式，  \n",
    "所以$$W'[x_1,x_2]=\\begin{vmatrix}x_1&x_2\\\\x''_1&x''_2\\end{vmatrix}+\\begin{vmatrix}x_1&x_2\\\\x''_1+a_2(t)x-1&x''_2+a_2(t)x_2\\end{vmatrix}=\\begin{vmatrix}1&x_2\\\\-a_1(t)x'_1&a_1(t)x'_2\\end{vmatrix}=-a_1(t)\\begin{vmatrix}x_1&x_2\\\\x'_1&x'_2\\end{vmatrix}=-a_1(t)W[x_1,x_2]$$，  \n",
    "即$W[x_1,x_2]$满足$W'[x_1,x_2]+a_1(t)W[x_1,x_2]=0$。"
   ]
  },
  {
   "cell_type": "markdown",
   "metadata": {},
   "source": [
    "（2）因为$x_1,x_2$为方程的解，则由刘维尔公式  \n",
    "$$\\begin{vmatrix}x_1&x_2\\\\x'_1&x'_2\\end{vmatrix}=W(t_0)e^{-\\int^t_{t_0}a_1(s)ds}$$,  \n",
    "即$x_1x'_2-x'_1x_2=W(t_0)e^{-\\int^t_{t_0}a_1(s)ds}$，  \n",
    "两边同时乘以$\\frac{1}{x_1^2}$，则有$\\frac{d\\frac{x_2}{x_1}}{dt}=\\frac{W(t_0)}{x_1^2}e^{-\\int^t_{t_0}a_1(s)ds}$，  \n",
    "于是$\\frac{x_2}{x_1}=c_1\\int\\frac{1}{x_1^2}e^{-\\int^t_{t_0}a_1(s)ds}dt+c_2$，  \n",
    "即$x_2=(c_1\\int\\frac{1}{x^2}e^{-\\int^t_{t_0}a_1(s)ds}dt+c_2)x_1$。  \n",
    "取$c_1=1,c_2=0$,得$x_2=x_1\\int\\frac{1}{x_1^2}e^{-\\int^t_{t_0}a_1(s)ds}dt$，  \n",
    "又$$W(t)=\\begin{vmatrix}x_1&x_2\\\\x'_1&x'_2\\end{vmatrix}=e^{-\\int^t_{t_0}a_1(s)ds}\\neq0$$  \n",
    "从而原方程的通解可表示为$x=x_1[c_1\\int\\frac{1}{x_1^2}exp(-\\int^t_{t_0}a_1(s)ds)dt+c_2]$，  \n",
    "其中$c_1,c_2$为常数，$t_0,t∈[a,b]$."
   ]
  },
  {
   "cell_type": "markdown",
   "metadata": {
    "collapsed": true
   },
   "source": [
    "# <font color='red'>A  24/10"
   ]
  },
  {
   "cell_type": "code",
   "execution_count": null,
   "metadata": {
    "collapsed": true
   },
   "outputs": [],
   "source": []
  }
 ],
 "metadata": {
  "kernelspec": {
   "display_name": "SageMath 7.3",
   "language": "",
   "name": "sagemath"
  },
  "language_info": {
   "codemirror_mode": {
    "name": "ipython",
    "version": 2
   },
   "file_extension": ".py",
   "mimetype": "text/x-python",
   "name": "python",
   "nbconvert_exporter": "python",
   "pygments_lexer": "ipython2",
   "version": "2.7.10"
  }
 },
 "nbformat": 4,
 "nbformat_minor": 0
}
