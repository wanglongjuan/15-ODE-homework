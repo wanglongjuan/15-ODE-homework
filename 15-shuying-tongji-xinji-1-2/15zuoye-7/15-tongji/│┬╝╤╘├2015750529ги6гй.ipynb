{
 "cells": [
  {
   "cell_type": "markdown",
   "metadata": {
    "collapsed": true
   },
   "source": [
    "## 10月18日 ##"
   ]
  },
  {
   "cell_type": "markdown",
   "metadata": {},
   "source": [
    "P131"
   ]
  },
  {
   "cell_type": "markdown",
   "metadata": {},
   "source": [
    "$ 1.设x(t)和y(t)是区间a\\leq t\\leq b上的连续函数，证明：如果在区间a\\leq t\\leq b上有\\frac{x(t)}{y(t)}\\neq常数或\\frac{y(t)}{x(t)}\\neq常数，则x(t)和y(t)在区间a\\leq t\\leq b上线性无关。 $"
   ]
  },
  {
   "cell_type": "markdown",
   "metadata": {},
   "source": [
    "反证法\n",
    "\n",
    "$ 假设在区间a\\leq t\\leq b上有\\frac{x(t)}{y(t)}\\neq常数，而x(t)和y(t)在区间a\\leq t\\leq b上线性相关，即存在不全为零的常数c,d 使得cx(t)+dy(t)\\equiv0,t\\in[a,b] $\n",
    "\n",
    "$ 显然，因为y(t)\\neq0,故c\\neq0（否则有d=0,与c,d不全为零矛盾），即有\\frac{x(t)}{y(t)}=-\\frac{d}{c}为常数，与假设矛盾。 $\n",
    "\n",
    "$ 故x(t)和y(t)在区间a\\leq t\\leq b上线性无关 $\n",
    "\n",
    "$ 同理可证，如果在区间a\\leq t\\leq b上有\\frac{y(t)}{x(t)}\\neq常数，则x(t)和y(t)在区间a\\leq t\\leq b上线性无关 $"
   ]
  },
  {
   "cell_type": "markdown",
   "metadata": {},
   "source": [
    "2.$ 证明非齐次线性微分方程的叠加原理：设x_1(t),x_2(t)分别是非齐次线性微分方程 $\n",
    "\n",
    "$$ \\frac{d^nx}{dt^n}+a_1(t)\\frac{d^{n-1}x}{dt^{n-1}}+…+a_n(t)x=f_1(t) $$\n",
    "\n",
    "$$ \\frac{d^nx}{dt^n}+a_1(t)\\frac{d^{n-1}x}{dt^{n-1}}+…+a_n(t)x=f_2(t) $$\n",
    "\n",
    "$ 的解，则x_1(t)+x_2(t)是方程 $\n",
    "\n",
    "$$ \\frac{d^nx}{dt^n}+a_1(t)\\frac{d^{n-1}x}{dt^{n-1}}+…+a_n(t)x=f_1(t)+f_2(t) $$\n",
    "\n",
    "的解"
   ]
  },
  {
   "cell_type": "markdown",
   "metadata": {},
   "source": [
    "因为$$ \\frac{d^nx_1(t)}{dt^n}+a_1(t)\\frac{d^{n-1}x_1(t)}{dt^{n-1}}+…+a_n(t)x_1(t)\\equiv f_1(t) $$\n",
    "\n",
    "$$ \\frac{d^nx_2(t)}{dt^n}+a_1(t)\\frac{d^{n-1}x_2(t)}{dt^{n-1}}+…+a_n(t)x_2(t)\\equiv f_2(t) $$\n",
    "\n",
    "有$\\frac{d^n[x_1(t)+x_2(t)]}{dt^n}+a_1(t)\\frac{d^{n-1}[x_1(t)+x_2(t)]}{dt^{n-1}}+…+a_n(t)[x_1(t)+x_2(t)] $\n",
    "\n",
    "$\\equiv \\frac{d^nx_1(t)}{dt^n}+a_1(t)\\frac{d^{n-1}x_1(t)}{dt^{n-1}}+…+a_n(t)x_1(t)+\\frac{d^nx_2(t)}{dt^n}+a_1(t)\\frac{d^{n-1}x_2(t)}{dt^{n-1}}+…+a_n(t)x_2(t) $\n",
    "\n",
    "$ \\equiv f_1(t)+f_2(t) $\n",
    "\n",
    "即$ x_1(t)+x_2(t)是方程 $\n",
    "\n",
    "$$ \\frac{d^nx}{dt^n}+a_1(t)\\frac{d^{n-1}x}{dt^{n-1}}+…+a_n(t)x=f_1(t)+f_2(t) $$\n",
    "\n",
    "的解"
   ]
  },
  {
   "cell_type": "markdown",
   "metadata": {},
   "source": [
    "## 10月19日 ##"
   ]
  },
  {
   "cell_type": "markdown",
   "metadata": {},
   "source": [
    "P131"
   ]
  },
  {
   "cell_type": "markdown",
   "metadata": {},
   "source": [
    "$ 3.已知齐次线性微分方程的基本解组x_1,x_2,求下列方程对应的非齐次线性微分方程的通解。$"
   ]
  },
  {
   "cell_type": "markdown",
   "metadata": {},
   "source": [
    "(1)$ x^{\\prime \\prime}-x=\\cos t,x_1=e^t,x_2=e^{-t} $\n",
    "\n",
    "$ 齐次线性微分方程的通解为x=c_1e^t+c_2e^{-t} $\n",
    "\n",
    "$ 用常数变易法，设非齐次线性微分方程的通解为x=c_1(t)e^t+c_2e^{-t},微分可得 $\n",
    "\n",
    "$ x^{\\prime}=c_1(t)e^t-c_2e^{-t}+{c_1}^{\\prime}(t)e^t+{c_2}^{\\prime}(t)e^{-t} $\n",
    "\n",
    "$ 令{c_1}^{\\prime}(t)e^t+{c_2}^{\\prime}(t)e^{-t}=0，则有x^{\\prime}=c_1(t)e^t-c_2e^{-t} $\n",
    "\n",
    "再微分，得\n",
    "\n",
    "$ x^{\\prime \\prime}=c_1(t)e^t+c_2e^{-t}+{c_1}^{\\prime}(t)e^t-{c_2}^{\\prime}(t)e^{-t} $\n",
    "\n",
    "$ 将x,x^n代入非齐次方程可得 $\n",
    "\n",
    "$ {c_1}^{\\prime}(t)e^t-{c_2}^{\\prime}(t)e^{-t}=\\cos t $\n",
    "\n",
    "与前面所设联立得\n",
    "\n",
    "$ \\begin{cases}\n",
    "{c_1}^{\\prime}(t)e^t+{c_2}^{\\prime}(t)e^{-t}=0\\\\\n",
    "{c_1}^{\\prime}(t)e^t-{c_2}^{\\prime}(t)e^{-t}=\\cos t\n",
    "\\end{cases} $\n",
    "\n",
    "可得$ {c_1}^{\\prime}(t)e^t=\\frac{1}{2}e^{-t}\\cos t,{c_2}^{\\prime}(t)=-\\frac{1}{2}e^t\\cos t $\n",
    "\n",
    "积分得$ c_1(t)=\\frac{1}{4}e^{-t}(\\sin t-\\cos t)+\\gamma_1,c_2(t)=-\\frac{1}{4}e^t(\\sin t+\\cos t)+\\gamma_2 $\n",
    "\n",
    "即非齐次线性微分方程的通解为\n",
    "\n",
    "$ \\begin{aligned}\n",
    "x&=\\frac{1}{4}(\\sin t-\\cos t)+\\gamma_1e^t-\\frac{1}{4}(\\sin t+\\cos t)+\\gamma_2e^{-t}\\\\\n",
    "&=\\gamma_1e^t+\\gamma_2e^{-t}-\\frac{1}{2}\\cos t \n",
    "\\end{aligned} $"
   ]
  },
  {
   "cell_type": "markdown",
   "metadata": {},
   "source": [
    "3.$ x^{\\prime \\prime}+4x=t\\sin 2t,x_1=\\cos 2t,x_2=\\sin 2t $\n",
    "\n",
    "常数变易法，解方程组 \n",
    "\n",
    "$ \\begin{bmatrix}\n",
    "\\cos 2t & \\sin 2t\\\\\n",
    "-2\\sin 2t & 2\\cos 2t\n",
    "\\end{bmatrix} $\n",
    "$ \\begin{bmatrix}\n",
    "{c_1}^{\\prime} \\\\\n",
    "{c_2}^{\\prime}\n",
    "\\end{bmatrix} $\n",
    "=\n",
    "$ \\begin{bmatrix}\n",
    "0\\\\\n",
    "t\\sin 2t\n",
    "\\end{bmatrix} $\n",
    "\n",
    "得$ \\begin{bmatrix}\n",
    "{c_1}^{\\prime} \\\\\n",
    "{c_2}^{\\prime}\n",
    "\\end{bmatrix} $\n",
    "=\n",
    "$ \\begin{bmatrix}\n",
    "\\frac{1}{4}(\\cos 4t-1)\\\\\n",
    "\\frac{1}{4}t\\sin 4t\n",
    "\\end{bmatrix} $\n",
    "\n",
    "积分得$ \\begin{bmatrix}\n",
    "c_1\\\\\n",
    "c_2\n",
    "\\end{bmatrix} $\n",
    "=\n",
    "$ \\begin{bmatrix}\n",
    "\\frac{1}{64}\\cos 4t+\\frac{1}{16}t\\sin 4t-\\frac{1}{8}t^2+\\gamma_1\\\\\n",
    "\\frac{1}{64}\\sin 4t-\\frac{1}{16}t\\cos 4t+\\gamma_2\n",
    "\\end{bmatrix} $\n",
    "\n",
    "通解为$ x=\\gamma_1\\cos 2t+\\gamma_2\\sin 2t-\\frac{1}{8}t^2\\cos 2t+\\frac{1}{16}t\\sin 2t $"
   ]
  },
  {
   "cell_type": "markdown",
   "metadata": {},
   "source": [
    "5.$ t^2x^{\\prime \\prime}-tx^{\\prime}+x=6t+34t^2,x_1=t,x_2=t\\ln t $\n",
    "\n",
    "$ 常数变易法。令x=c_1(t)t+c_2(t)t\\ln t,解方程组 $\n",
    "\n",
    "$ \\begin{cases}\n",
    "{c_1}^{\\prime}(t)t+{c_2}^{\\prime}(t)t\\ln t=0\\\\\n",
    "{c_1}^{\\prime}(t)t^2+{c_2}^{\\prime}(t)t^2(1+\\ln t)=6t+34t^2\n",
    "\\end{cases} $\n",
    "\n",
    "$ 得{c_2}^{\\prime}(t)=6t^{-1}+34,{c_1}^{\\prime}(t)=-6t^{-1}\\ln t-34\\ln t,积分得 $\n",
    "\n",
    "$ c_1(t)=34t-34t\\ln t-3{\\ln}^2 t+\\gamma_1,c_2(t)=34t+6\\ln t+\\gamma_2 $\n",
    "\n",
    "$ 通解为x=\\gamma_1t+\\gamma_2t\\ln t+34t^2+3t{\\ln}^2 t $"
   ]
  },
  {
   "cell_type": "markdown",
   "metadata": {
    "collapsed": true
   },
   "source": [
    "6.$ 假设x_1(t)\\neq 0是二届齐次微分方程x^{\\prime \\prime}+a_1(t)x^{\\prime}+a_2(t)x=0 的解，这里a_1(t)和a_2(t)于区间[a,b]上连续,试证 $\n",
    "\n",
    "$ (1)x_(t)为方程的解的充要条件是W^{\\prime}[x_1,x_2]+a_1W[x_1,x_2]=0 $\n",
    "\n",
    "$ (2)方程的通解可表为x=x_1[c_1\\int \\frac{1}{x^2_1} \\exp(-\\int_{t_0}^t a_1(s)\\mathrm ds)\\mathrm dt +c_2],其中c_1,c_2为任意常数，t_0,t\\in[a,b] $"
   ]
  },
  {
   "cell_type": "markdown",
   "metadata": {},
   "source": [
    "(1)$W'[x_1,x_2]+a_1W[x_1,x_2]=0$\n",
    "\n",
    "$\\Leftrightarrow x_1x''_2-x''_1x_2+a_1x_1x'_2-a_1x'_1x_2=0$\n",
    "\n",
    "$\\Leftrightarrow x_1x''_2-x''_1x_2+a_1x_1x'_2-a_1x'_1x_2+a_2x_1x_2-a_1x_1x_2=0$\n",
    "\n",
    "$\\Leftrightarrow x_1(x''_2+a_1x'_2+a_2x_2)=0$\n",
    "\n",
    "$\\Leftrightarrow x''_2+a_1x'_2+a_2x_2=0   (x_1 \\neq 0)$\n",
    "\n",
    "即$x_2$为解"
   ]
  },
  {
   "cell_type": "markdown",
   "metadata": {},
   "source": [
    "（2）$ 因为x_1,x_2为方程的解，则由刘维尔公式得 $\n",
    "\n",
    "$\\begin{vmatrix}\n",
    "x_1 & x_2 \\\\\n",
    "x^{\\prime}_1 & x^{\\prime}_2\\\\\n",
    "\\end{vmatrix}\n",
    "=W(t_0)e^{-\\int_{t_0}^t a_1(s)\\mathrm ds} $\n",
    "\n",
    "即$ x_1x^{\\prime}_2-x^{\\prime}_1x_2=W(t_0)e^{-\\int_{t_0}^t a_1(s)\\mathrm ds} $\n",
    "\n",
    "$ 两边乘\\frac{1}{x^2_1},则有\\frac{\\mathrm d(\\frac{x_2}{x_1})}{\\mathrm dt}=\\frac{W(t_0)}{x^2_1}e^{-\\int_{t_0}^t a_1(s)\\mathrm ds} $\n",
    "\n",
    "则$ \\frac{x_2}{x_1}=c_1 \\int \\frac{1}{x^2_1}e^{-\\int_{t_0}^t a_1(s)\\mathrm ds}\\mathrm dt +c_2 $\n",
    "\n",
    "即$ x_2=x_1\\int \\frac{1}{x^2_1}e^{-\\int_{t_0}^t a_1(s)\\mathrm ds}\\mathrm dt $\n",
    "\n",
    "又因为\n",
    "$ W(t)=\n",
    "\\begin{vmatrix}\n",
    "x_1 & x_2 \\\\\n",
    "x^{\\prime}_1 & x^{\\prime}_2\\\\\n",
    "\\end{vmatrix}\n",
    "=e^{-\\int_{t_0}^t a_1(s)\\mathrm d s} \\neq 0 $\n",
    "\n",
    "所以通解为$ x=x_1[c_1 \\int \\frac{1}{x^2_1} \\exp(-\\int_{t_0}^t a_1(s)\\mathrm ds)\\mathrm dt +c_2 ] $"
   ]
  },
  {
   "cell_type": "markdown",
   "metadata": {
    "collapsed": true
   },
   "source": [
    "# <font color='red'>A  24/10"
   ]
  },
  {
   "cell_type": "code",
   "execution_count": null,
   "metadata": {
    "collapsed": true
   },
   "outputs": [],
   "source": []
  }
 ],
 "metadata": {
  "kernelspec": {
   "display_name": "SageMath 7.3",
   "language": "",
   "name": "sagemath"
  },
  "language_info": {
   "codemirror_mode": {
    "name": "ipython",
    "version": 2
   },
   "file_extension": ".py",
   "mimetype": "text/x-python",
   "name": "python",
   "nbconvert_exporter": "python",
   "pygments_lexer": "ipython2",
   "version": "2.7.10"
  }
 },
 "nbformat": 4,
 "nbformat_minor": 0
}
