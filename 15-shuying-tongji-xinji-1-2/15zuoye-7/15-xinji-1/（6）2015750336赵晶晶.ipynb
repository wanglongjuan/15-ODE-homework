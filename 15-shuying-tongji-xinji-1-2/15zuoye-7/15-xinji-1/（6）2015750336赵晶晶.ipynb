{
 "cells": [
  {
   "cell_type": "markdown",
   "metadata": {},
   "source": [
    "一。设x(t)和y(t)是区间$a\\leq t\\leq b$上的连续函数，证明：如果在区间$a\\leq t\\leq b$上有$\\frac{x(t)}{y(t)} \\neq 常数或\\frac{y(t)}{x(t)}\\neq 常数$,则x(t)和y(t)在区间$a\\leq t\\leq b$上线性无关。（提示：用反证法。）"
   ]
  },
  {
   "cell_type": "markdown",
   "metadata": {},
   "source": [
    "证明：假设在x(t),y(t)在区间$a\\leq t\\leq b$上线性相关，则存在不全为零的常数$\\alpha,\\beta 使得\\alpha x(t)+\\beta y(t)=0$\n",
    "那么设x(t)不为零，则有$\\frac{y(t)}{x(t)}=-\\frac{\\alpha}{\\beta}$\n",
    "显然$=-\\frac{\\alpha}{\\beta}$为常数，与题矛盾，即假设不成立。"
   ]
  },
  {
   "cell_type": "markdown",
   "metadata": {},
   "source": [
    "二。证明非齐次线性微分方程的叠加原理：设$x_1(t),x_2(t)$分别是非齐次线性微分方程\n",
    "$$\\frac{\\mathrm d^n x}{\\mathrm d t^n}+a_1(t)\\frac{\\mathrm d^{n-1}x}{\\mathrm d t^{n-1}}+\\dots +a_n(t)x=f_1(t)（1）$$\n",
    "$$\\frac{\\mathrm d^n x}{\\mathrm d t^n}+a_1(t)\\frac{\\mathrm d^{n-1}x}{\\mathrm d t^{n-1}}+\\dots +a_n(t)x=f_2(t)（2）$$\n",
    "的解，则$x_1(t)+x_2(t)$是方程\n",
    "$$\\frac{\\mathrm d^n x}{\\mathrm d t^n}+a_1(t)\\frac{\\mathrm d^{n-1}x}{\\mathrm d t^{n-1}}+\\dots +a_n(t)x=f_1(t)+f_2(t)$$的解"
   ]
  },
  {
   "cell_type": "markdown",
   "metadata": {
    "collapsed": true
   },
   "source": [
    "证明：由题可知$x_1(t),x_2(t)$分别是方程（1），（2）的解，则：\n",
    "$$\\frac{\\mathrm d^n x_1(t)}{\\mathrm d t^n}+a_1(t)\\frac{\\mathrm d^{n-1}x_1(t)}{\\mathrm d t^{n-1}}+\\dots +a_n(t)x_1(t)=f_1(t)（3）$$\n",
    "$$\\frac{\\mathrm d^n x_2(t)}{\\mathrm d t^n}+a_1(t)\\frac{\\mathrm d^{n-1}x_2(t)}{\\mathrm d t^{n-1}}+\\dots +a_n(t)x_2(t)=f_2(t)（4）$$\n",
    "由（3），（4）得：\n",
    "$$\\frac{\\mathrm d^n {x_1(t)+x_2(t)}}{\\mathrm d t^n}+a_1(t)\\frac{\\mathrm d^{n-1}{x_1(t)+x_2(t)}}{\\mathrm d t^{n-1}}+\\dots +a_n(t){x_1(t)+x_2(t)}=f_1(t)+f_2(t)$$\n",
    "即$x_1(t),x_2(t)$是方程$\\frac{\\mathrm d^n x}{\\mathrm d t^n}+a_1(t)\\frac{\\mathrm d^{n-1}x}{\\mathrm d t^{n-1}}+\\dots +a_n(t)x=f_1(t)+f_2(t)$的解"
   ]
  },
  {
   "cell_type": "markdown",
   "metadata": {},
   "source": [
    "三。已知其次线性微分方程的基本解组$x_1(t),x_2(t)$，求下列方程对应的非其次线性微分方程的通解。"
   ]
  },
  {
   "cell_type": "markdown",
   "metadata": {},
   "source": [
    "（1）$x''-x=\\cos t,x_1=e^t,x_2=e^{-t}$\n",
    "\n",
    "解：应用常数变易法，令$x=C_1(t)e^t+C_2(t)e{-t}$\n",
    "\n",
    "并将它带入方程，则可得决定$C'_1(t)和C'_2(t)$的两个方程$e'C'_1(t)+e{-t}C'_2(t)=0$和$e'C'_1(t)-e{-t}C'_2(t)=\\cos t$\n",
    "\n",
    "解得$$C'_1(t)=\\frac{1}{2}\\cos t e{-t},C'_2(t)=-\\frac{1}{2}e^t\\cos t$$\n",
    "则:\n",
    "$$\n",
    "\\begin{cases}\n",
    "C_1(t)=\\frac{\\sin t -\\cos t}{4}e{-t}+\\lambda_1\\\\\n",
    "C_2(t)=-\\frac{1}{4}(\\sin t +\\cos t)e^t+\\lambda_2\\\\\n",
    "\\end{cases}\n",
    "$$\n",
    "所以原方程通解为$x=\\lambda_1 e^t +\\lambda_2 e{-t}-\\frac{1}{2}\\cos t$"
   ]
  },
  {
   "cell_type": "markdown",
   "metadata": {},
   "source": [
    "（2）$x''+4x=t\\sin 2t,x_1=\\cos 2t,x_2=\\sin 2t$\n",
    "\n",
    "解：令$x=C_1(t)\\cos 2t +C_2(t)\\sin 2t$\n",
    "\n",
    "将它带入方程,则可得决定$C'_1(t)和C'_2(t)$的两个方程$\\cos 2t C'_1(t)+\\sin 2t C'_2(t)=0$和$-2\\sin 2t C'_1(t)+2\\cos 2t C'_2(t)=t\\sin t$\n",
    "\n",
    "解得$$C'_1(t)=-\\frac{1}{2}t\\sin t \\sin 2t,C'_2(t)=\\frac{1}{2}\\sin t \\cos 2t$$\n",
    "所以：\n",
    "$$\n",
    "\\begin{cases}\n",
    "C_1(t)=\\frac{1}{4}(\\frac{1}{3}t\\sin 2t +\\frac{1}{9}\\cos 3t -t\\sin t-\\cos t)+C_1\\\\\n",
    "C_2(t)=\\frac{1}{4}(-\\frac{1}{3}t\\cos 3t +\\frac{1}{9}\\sin 3t +t\\cos t-\\sin t)+C_2\\\\\n",
    "\\end{cases}\n",
    "$$\n",
    "于是方程通解为$x=C_1 \\cos 2t +C_2 \\sin 2t +\\frac{t}{3}\\sin t -\\frac{2}{9}\\cos t$"
   ]
  },
  {
   "cell_type": "markdown",
   "metadata": {},
   "source": [
    "（3）$t^2 x''-tx'+x=6t+34t^2,x_1=t,x_2=t\\ln t$\n",
    "\n",
    "解：方程可以变形为$x''-\\frac{1}{t}x'+\\frac{1}{t^2}x=\\frac{6}{t}+34$\n",
    "\n",
    "令方程的解为$x=t C_1(t)+t\\ln t C_2(t)$\n",
    "\n",
    "将它带入方程,则可得决定$C'_1(t)和C'_2(t)$的两个方程,解得$$C'_1(t)+(\\ln t +1)，C'_2(t)=\\frac{6}{t}+34$$\n",
    "所以\n",
    "$$\n",
    "\\begin{cases}\n",
    "C_1(t)=-34(t\\ln t)-3(\\ln t)^2+C_1\\\\\n",
    "C_2(t)=34t+6\\ln t+C_2\\\\\n",
    "\\end{cases}\n",
    "$$\n",
    "方程通解为$x=C_1+C_2t\\ln t+34t^2+3t(\\ln t)^2$"
   ]
  },
  {
   "cell_type": "markdown",
   "metadata": {},
   "source": [
    "四。假设$x_1(t)\\neq 0$是二阶其次线性微分方程$x''+a_1(t)x'+a_2(t)x=0$的解，这里$a_1(t)$和$a_2(t)$于区间[a,b]上连续，试证：\n",
    "（1）$x_2(t)为方程的解的充要条件为W'[x_1,x_2]+a_1W[x-1，x_2]=0$\n",
    "\n",
    "（2）方程的通解可表为$x=x_1[c_1\\int \\frac{1}{x^2}exp(-\\int_{t-0}^t a_1(s)),\\mathrm{d}t +c_2]$"
   ]
  },
  {
   "cell_type": "markdown",
   "metadata": {
    "collapsed": true
   },
   "source": [
    "# <font color='red'>A 24/10　　少题？？？？"
   ]
  },
  {
   "cell_type": "code",
   "execution_count": null,
   "metadata": {
    "collapsed": true
   },
   "outputs": [],
   "source": []
  }
 ],
 "metadata": {
  "kernelspec": {
   "display_name": "SageMath 7.3",
   "language": "",
   "name": "sagemath"
  },
  "language_info": {
   "codemirror_mode": {
    "name": "ipython",
    "version": 2
   },
   "file_extension": ".py",
   "mimetype": "text/x-python",
   "name": "python",
   "nbconvert_exporter": "python",
   "pygments_lexer": "ipython2",
   "version": "2.7.10"
  }
 },
 "nbformat": 4,
 "nbformat_minor": 0
}
