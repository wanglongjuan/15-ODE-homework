{
 "cells": [
  {
   "cell_type": "markdown",
   "metadata": {
    "collapsed": false
   },
   "source": [
    "# P131\n",
    "## 1.\n",
    "解："
   ]
  },
  {
   "cell_type": "markdown",
   "metadata": {},
   "source": [
    "假设在$[a,b]$上存在：$\\frac{x(t)}{y(t)} \\neq k$ (k为常数）,又由题意可知：存在不全为零的常数$c$$d$有：$cx(t)+y(t)=0$\n",
    "\n",
    "$\\because$ $y(t) \\neq 0$\n",
    "\n",
    "$\\therefore$$ c \\neq 0$\n",
    "\n",
    "所以有：$\\frac{x(t)}{y(t)}= -\\frac{d}{c}$是常数，与上假设矛盾 所以$x(t)$$y(t)$在$[a,b]$上线性无关\n",
    "\n",
    "同理可证当$x(t) \\neq 0 $的情况。\n",
    "综上所述：$x(t)$$y(t)$在$[a,b]$上线性无关"
   ]
  },
  {
   "cell_type": "markdown",
   "metadata": {},
   "source": [
    "## 2.\n",
    "解："
   ]
  },
  {
   "cell_type": "markdown",
   "metadata": {},
   "source": [
    "$\\because$$$\\frac{d^n x_1(t)}{dt^n}+ a_1(t)\\frac{d^{n-1} x_1(t)}{dt^{t-1}}+\\cdots +a_n(t)x_1(t)=f_1(t)$$\n",
    "\n",
    "$$\\frac{d^n x_2(t)}{dt^n}+ a_1(t)\\frac{d^{n-1} x_2(t)}{dt^{t-1}}+\\cdots +a_n(t)x_2(t)=f_2(t)$$"
   ]
  },
  {
   "cell_type": "markdown",
   "metadata": {},
   "source": [
    "$\\therefore$解得：\n",
    "$$ \\frac{d^n[x_1 t+x_2t]}{dt^n} +a_1(t )\\frac {d^{n-1}[x_1(t)+x_2(t)]}{dt^{n-1}}+\\cdots +a_n(t)[x_1(t)+x_2(t)]=f_1(t)+f_2(t)$$\n",
    "\n",
    "即：$x_1(t)+x_2(t)$是方程$\\frac{d^n x}{dt^n}+a_1(t)\\frac{d^{n-1}x}{dt^{n-1}}+\\cdots+a_n(t)x=f_1(t)+f_2(t)$的解"
   ]
  },
  {
   "cell_type": "markdown",
   "metadata": {},
   "source": [
    "## 3.\n",
    "### (1)\n",
    "\n",
    "解："
   ]
  },
  {
   "cell_type": "markdown",
   "metadata": {},
   "source": [
    "设$x=a\\cos t+b\\sin t$是非齐次方程的特解\n",
    "$\\because$ $x\\prime =-a\\sin t+b\\cos t$,\n",
    "解得特解为$x=-\\frac{1}{2}\\cos t$\n",
    "$\\therefore$通解为$$x=c_1e^t+c_2e^{-t}-\\frac{1}{2}\\cos t$$"
   ]
  },
  {
   "cell_type": "markdown",
   "metadata": {},
   "source": [
    "### (3)\n",
    "解：\n"
   ]
  },
  {
   "cell_type": "markdown",
   "metadata": {},
   "source": [
    "$\\because$$ \\begin{pmatrix} \\cos 2t & \\sin 2t \\\\ -2\\sin 2t &  2\\cos 2t \\\\ \\end{pmatrix} $ $ \\begin{pmatrix} c_1 \\prime \\\\ c_2 \\prime \\\\ \\end{pmatrix} $=$ \\begin{pmatrix} 0 \\\\ t\\sin 2t\\\\ \\end{pmatrix} $"
   ]
  },
  {
   "cell_type": "markdown",
   "metadata": {},
   "source": [
    "$\\therefore$\n",
    "$ \\begin{pmatrix} c_1 \\prime \\\\ c_2 \\prime \\\\ \\end{pmatrix} = \\begin{pmatrix} \\frac{1}{4}t(\\cos 4t-1) \\\\ \\frac{1}{4}t\\sin 4t \\\\ \\end{pmatrix} $\n",
    "\n",
    "$\\therefore$\n",
    "$ \\begin{pmatrix} c_1\\\\ c_2 \\\\ \\end{pmatrix} = \\begin{pmatrix} \\frac{1}{64}\\cos 4t+\\frac{1}{16}t\\sin 4t -\\frac{1}{8} t^2+\\lambda_1 \\\\ \\frac{1}{64}\\sin 4t -\\frac{1}{16}t\\cos 4t+\\lambda_2\\\\ \\end{pmatrix} $"
   ]
  },
  {
   "cell_type": "markdown",
   "metadata": {},
   "source": [
    "$\\therefore$$x=\\lambda_1\\cos 2t+\\lambda_2\\sin 2t-\\frac{1}{8}t^2\\cos2t+\\frac{1}{16}t\\sin 2t$"
   ]
  },
  {
   "cell_type": "markdown",
   "metadata": {},
   "source": [
    "### (5)\n",
    "解：\n"
   ]
  },
  {
   "cell_type": "markdown",
   "metadata": {},
   "source": [
    "令$x=c_1(t)+c_2(t)tlnt$\n",
    "\n",
    "方程组：\n",
    "$$\\begin{cases}\n",
    "c_1\\prime(t)t+c_2\\prime(t)tlnt=0\\\\\n",
    "c_1\\prime(t)t^2+c_2\\prime(t)t^2(1+lnt)=6t+34t^2\\\\\n",
    "\\end{cases}\n",
    "$$\n",
    "\n",
    "解得：$c_1(t)=34(t)-34tlnt-3ln^2t+\\lambda_1$,\n",
    "$c_2(t)=34t+6lnt+\\lambda_2$\n",
    "\n",
    "通解为：$x=\\lambda_1t+\\lambda_2tlnt+34t^2+3tln^t$"
   ]
  },
  {
   "cell_type": "markdown",
   "metadata": {},
   "source": [
    "## 6.\n",
    "### (1)\n",
    "解：\n"
   ]
  },
  {
   "cell_type": "markdown",
   "metadata": {},
   "source": [
    "$\\because$\n",
    "$$\n",
    "\\frac{d}{dt}\n",
    "\\begin{vmatrix} \n",
    "x_1 & x_2 \\\\ \n",
    "x_1\\prime & x_2\\prime\\\\ \n",
    "\\end{vmatrix} \n",
    "=W\\prime [x_1(t),x_2(t)]\n",
    "$$\n",
    "$=-a_1(t)W[x_1(t),x_2(t)]$"
   ]
  },
  {
   "cell_type": "markdown",
   "metadata": {},
   "source": [
    "$\\therefore $$W\\prime[x_1,x_2]+a_1(t)W[x_1,x_2]=0$\n",
    "\n",
    "\n",
    "$\\therefore$\n",
    "$\n",
    "\\frac{d}{dt}\n",
    "\\begin{vmatrix} \n",
    "x_1 & x_2 \\\\ x_1\\prime & x_2\\prime \\\\ \n",
    "\\end{vmatrix} +\n",
    "a_1(t)\\begin{vmatrix} \n",
    "x_1 & x_2 \\\\ x_1\\prime & x_2\\prime\\\\ \n",
    "\\end{vmatrix} =x_t[x_2\"(t)+a_1(t)x_2\\prime(t)+a_2(t)x_2(t)=0$\n",
    "$\\because$$x_1(t)\\neq 0 $\n",
    "\n",
    "$\\therefore$\n",
    "$x_2(t)$是方程的解。"
   ]
  },
  {
   "cell_type": "markdown",
   "metadata": {},
   "source": [
    "### (2)\n",
    "解：\n"
   ]
  },
  {
   "cell_type": "markdown",
   "metadata": {},
   "source": [
    "设$x=c(t)x_1是方程的解，代入有：\n",
    "$$c\"x_1+2c\\prime x_1\\prime+cx_1\"+a_1(c\\prime x_1+cx_1\\prime)+a_2cx_1=0$$\n",
    "\n",
    "设\n",
    "$y=c \\prime $\n",
    "有：\n",
    "$$y\\prime x_1+y(2x_1\\prime+a_1x_1)=0$$\n",
    "\n",
    "$\\therefore$\n",
    "$$c\\prime=\\frac{c_1}{x_1^2}exp[-\\int^t_{t_0} a_1(s)ds]$$\n",
    "$\\therefore$通解得：\n",
    "$$x=x_1[c_1\\int \\frac{1}{x_1^2} exp[-\\int^t_{t_0}a_1(s)ds]dt+c_2]$$\n"
   ]
  },
  {
   "cell_type": "markdown",
   "metadata": {
    "collapsed": true
   },
   "source": [
    "# <font color='red'>A－ 24/10"
   ]
  },
  {
   "cell_type": "code",
   "execution_count": null,
   "metadata": {
    "collapsed": true
   },
   "outputs": [],
   "source": []
  }
 ],
 "metadata": {
  "kernelspec": {
   "display_name": "Python 2",
   "language": "python",
   "name": "python2"
  },
  "language_info": {
   "codemirror_mode": {
    "name": "ipython",
    "version": 2
   },
   "file_extension": ".py",
   "mimetype": "text/x-python",
   "name": "python",
   "nbconvert_exporter": "python",
   "pygments_lexer": "ipython2",
   "version": "2.7.10"
  }
 },
 "nbformat": 4,
 "nbformat_minor": 0
}
