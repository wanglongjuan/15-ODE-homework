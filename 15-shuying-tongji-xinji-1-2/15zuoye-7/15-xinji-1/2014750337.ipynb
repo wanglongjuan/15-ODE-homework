{
 "cells": [
  {
   "cell_type": "markdown",
   "metadata": {},
   "source": [
    "# 作业6\n",
    "**P131**  \n",
    "**2.证明非齐次线性微分方程的叠加原理：设$x_1(t),x_2(t)$分别是非齐次线性微分方程\n",
    "\\begin{align}\n",
    "\\frac{\\mathrm d^n x}{\\mathrm d t^n}+a_1(t)\\frac{\\mathrm d^{n-1} x}{\\mathrm d t^{n-1}}+...+a_n(t)x&=f_1(t),\\\\\n",
    "\\frac{\\mathrm d^n x}{\\mathrm d t^n}+a_1(t)\\frac{\\mathrm d^{n-1} x}{\\mathrm d t^{n-1}}+...+a_n(t)x&=f_2(t)\n",
    "\\end{align}\n",
    "的解，则$x_1(t)+x_2(t)$是方程$$\\frac{\\mathrm d^n x}{\\mathrm d t^n}+a_1(t)\\frac{\\mathrm d^{n-1} x}{\\mathrm d t^{n-1}}+...+a_n(t)x=f_1(t)+f_2(t)$$的解.**  "
   ]
  },
  {
   "cell_type": "markdown",
   "metadata": {},
   "source": [
    "**证：**因\n",
    "\\begin{align}\n",
    "\\frac{\\mathrm d^n x_1(t)}{\\mathrm d t^n}+a_1(t)\\frac{\\mathrm d^{n-1} x_1(t)}{\\mathrm d t^{n-1}}+...+a_n(t)x_1(t)&\\equiv f_1(t),\\\\\n",
    "\\frac{\\mathrm d^n x_2(t)}{\\mathrm d t^n}+a_1(t)\\frac{\\mathrm d^{n-1} x_2(t)}{\\mathrm d t^{n-1}}+...+a_n(t)x_2(t)&\\equiv f_2(t).\n",
    "\\end{align}\n",
    "有\n",
    "\\begin{align}\n",
    "&\\frac{\\mathrm d^n [x_1(t)+x_2(t)]}{\\mathrm d t^n}+a_1(t)\\frac{\\mathrm d^{n-1} [x_1(t)+x_2(t)]}{\\mathrm d t^{n-1}}+...+a_n(t)[x_1(t)+x_2(t)]\\\\\n",
    "&\\equiv \\frac{\\mathrm d^n x_1(t)}{\\mathrm d t^n}+a_1(t)\\frac{\\mathrm d^{n-1} x_1(t)}{\\mathrm d t^{n-1}}+...+a_n(t)x_1(t)+\n",
    "\\frac{\\mathrm d^n x_2(t)}{\\mathrm d t^n}+a_1(t)\\frac{\\mathrm d^{n-1} x_2(t)}{\\mathrm d t^{n-1}}+...+a_n(t)x_2(t)\\\\\n",
    "&\\equiv f_1(t)+f_2(t),\n",
    "\\end{align}\n",
    "即$x_1(t)+x_2(t)$是方程$$\\frac{\\mathrm d^n x}{\\mathrm d t^n}+a_1(t)\\frac{\\mathrm d^{n-1} x}{\\mathrm d t^{n-1}}+...+a_n(t)x=f_1(t)+f_2(t)$$的解，证毕."
   ]
  },
  {
   "cell_type": "markdown",
   "metadata": {},
   "source": [
    "**3.已知齐次线性微分方程组的基本解组$x_1,x_2$,求下列方程对应的非齐次线性微分方程的通解：  \n",
    "(1)$x^\"-x=cos t,x_1=e^t,x_2=e^{-t};$**"
   ]
  },
  {
   "cell_type": "markdown",
   "metadata": {},
   "source": [
    "**解：**设齐次线性微分方程的通解为$x=c_1(t)e^t+c_2(t)e^{-t}.$微分可得\n",
    "$$x'=c_1(t)e^t-c_2(t)e^{-t}+c_1'(t)e^t+c_2'(t)e^{-t}$$令$c_1'(t)e^t+c_2'(t)e^{-t}=0$，则有$x'=c_1(t)e^t-c_2(t)e^{-t}.$再微分之\n",
    "$$x^\"=c_1(t)e^t+c_2(t)e^{-t}+c_1'(t)e^t-c_2'(t)e^{-t},$$将$x,x^\"$代入非齐次方程可得$$c_1'(t)e^t-c_2'(t)e^{-t}=cos t$$可得\n",
    "$$c_1'(t)=\\frac{1}{2}e^{-t}cost,c_2'(t)=-\\frac{1}{2}e^tcost$$由公式得\n",
    "$$c_1(t)=\\frac{1}{4}e^{-t}(sint-cost)+\\gamma_1,c_2(t)=-\\frac{1}{4}e^t(sint+cost)+\\gamma_2.$$\n",
    "即非齐次线性微分方程组的通解为\n",
    "\\begin{align}\n",
    "x&=\\frac{1}{4}(sint-cost)+\\gamma_1e^t-\\frac{1}{4}(sint+cost)+\\gamma_2e^{-t}\\\\\n",
    "&=\\gamma_1e^t+\\gamma_2e^{-t}-\\frac{1}{2}cost\n",
    "\\end{align}"
   ]
  },
  {
   "cell_type": "markdown",
   "metadata": {},
   "source": [
    "**(3)$x^\"+4x=tsin2t,x_1=cos2t,x_2=sin2t$**  "
   ]
  },
  {
   "cell_type": "markdown",
   "metadata": {},
   "source": [
    "**解：**设齐次线性微分方程的通解为$x=c_1(t)cos2t+c_2(t)sin2t.$代入方程，得两个方程$$cos2tc_1'(t)+sin2tc_2'(t)=0$$及$$-2sin2tc_1'(t)+2cos2tc_2'(t)=tsin2t$$\n",
    "解得$c_1'(t)=\\frac{1}{4}t(cos4t-1),c_2'(t)=\\frac{1}{4}tsin4t$  \n",
    "积分之，得$c_1(t)=\\frac{1}{64}cos4t+\\frac{1}{16}tsin4t-\\frac{1}{8}t^2+\\gamma_1,c_2(t)=\\frac{1}{64}sin4t-\\frac{1}{16}tcos4t+\\gamma_2$  \n",
    "于是原方程的通解为$x=\\gamma_1cos2t+\\gamma_2sin2t-\\frac{1}{8}t^2cos2t+\\frac{1}{16}tsin2t$"
   ]
  },
  {
   "cell_type": "markdown",
   "metadata": {},
   "source": [
    "**(5)$t^2x^\"-tx'+x=6t+34t^2,x_1=t,x_2=tlnt$**"
   ]
  },
  {
   "cell_type": "markdown",
   "metadata": {},
   "source": [
    "**解：**设齐次线性微分方程的通解为$x=c_1(t)t+c_2(t)tlnt.$代入方程，得两个方程$$tc_1'(t)+tlntc_2'(t)=0$$及$$t^2c_1'(t)+t^2(1+lnt)c_2'(t)=6t+34t^2$$\n",
    "解得$c_1'(t)=-6t^{-1}lnt-34lnt,c_2'(t)=6t^{-1}+34$  \n",
    "积分之，得$c_1(t)=34-34tlnt-3ln^2t\\gamma_1,c_2(t)=34t+6lnt+\\gamma_2$  \n",
    "于是原方程的通解为$x=\\gamma_1t+\\gamma_2tlnt+34t^2+3tln^2t$"
   ]
  },
  {
   "cell_type": "markdown",
   "metadata": {},
   "source": [
    "**6.假设$x_1(t)\\neq0$是二阶齐次行列线性微分方程$$x^\"+a_1(t)x'+a_2(t)x=0$$的解，这里$a_1(t)$和$a_2(t)$于区间$[a,b]$上连续，试证：  \n",
    "(1)$x_2(t)$为方程的解的充要条件是$$W'[x_1,x_2]+a_1W[x_1,x_2]=0;$$\n",
    "(2)方程的通解可以表示为$$x=x_1[c_1\\int{\\frac{1}{x^2}exp(-\\int_{t_0}^t{a_1(s)\\,\\mathrm d s})\\,\\mathrm d t}+c_2]$$\n",
    "**"
   ]
  },
  {
   "cell_type": "markdown",
   "metadata": {},
   "source": [
    "**证：**(1)微分朗斯基行列式，有\n",
    "\\begin{align}\n",
    "W'[x_1(t),x_2(t)]&=\\frac{\\mathrm d}{\\mathrm d t}\\left|\n",
    "\\begin{array}{cc}\n",
    "x_1(t)&x_2(t)\\\\\n",
    "x_1'(t)&x_2'(t)\n",
    "\\end{array}\n",
    "\\right|\\\\\n",
    "&=\\left|\\begin{array}{cc}\n",
    "x_1'(t)&x_2'(t)\\\\\n",
    "x_1'(t)&x_2'(t)\n",
    "\\end{array}\n",
    "\\right|\n",
    "+\\left|\\begin{array}{cc}\n",
    "x_1(t)&x_2(t)\\\\\n",
    "x_1^\"(t)&x_2^\"(t)\n",
    "\\end{array}\n",
    "\\right|\\\\\n",
    "&=\\left|\\begin{array}{cc}\n",
    "x_1'(t)&x_2'(t)\\\\\n",
    "x_1'(t)&x_2'(t)\n",
    "\\end{array}\n",
    "\\right|\\\\\n",
    "&=\\left|\\begin{array}{cc}\n",
    "x_1(t)&x_2(t)\\\\\n",
    "-a_1(t)x_1'(t)-a_2(t)x_1(t)&-a_1(t)x_2'(t)-a_2(t)x_2(t)\n",
    "\\end{array}\n",
    "\\right|\\\\\n",
    "&=\\left|\\begin{array}{cc}\n",
    "x_1(t)&x_2(t)\\\\\n",
    "-a_1(t)x_1'(t)&-a_1(t)x_2'(t)\n",
    "\\end{array}\n",
    "\\right|\\\\\n",
    "&=-a_1(t)\\left|\\begin{array}{cc}\n",
    "x_1(t)&x_2(t)\\\\\n",
    "x_1'(t)&x_2'(t)\n",
    "\\end{array}\n",
    "\\right|\\\\\n",
    "&=-a_1(t)W'[x_1(t),x_2(t)]\n",
    "\\end{align}\n",
    "即为$$W'[x_1,x_2]+a_1W[x_1,x_2]=0$$\n",
    "反之，满足关系$W'[x_1,x_2]+a_1W[x_1,x_2]=0$时，\n",
    "由$$\\frac{\\mathrm d}{\\mathrm d t}\\left|\n",
    "\\begin{array}{cc}\n",
    "x_1(t)&x_2(t)\\\\\n",
    "x_1'(t)&x_2'(t)\n",
    "\\end{array}\n",
    "\\right|\n",
    "+-a_1(t)\\left|\\begin{array}{cc}\n",
    "x_1(t)&x_2(t)\\\\\n",
    "x_1'(t)&x_2'(t)\n",
    "\\end{array}\n",
    "\\right|\n",
    "=0$$\n",
    "有$x_2^\"(t)+a_1(t)x_2'(t)+a_2(t)x_2(t)=0$  \n",
    "即$x_2(t)$是方程的解"
   ]
  },
  {
   "cell_type": "markdown",
   "metadata": {},
   "source": [
    "**(2)证：**设$x=c(t)x_1$为方程的解，代入方程得\n",
    "\\begin{align}\n",
    "&c^\"x_1+2c'x_1'+cx_1^\"+a_1(c'x_1+cx_1')+a_2cx_1\\\\\n",
    "&=c^\"x_1+c'(2x_1'+a_1x_1)+c(x_1^\"+a_1x_1'+a_2x_1)\\\\\n",
    "&=c^\"x_1+c'(2x_1'+a_1x_1)\\\\\n",
    "&=0\n",
    "\\end{align}\n",
    "令y=c',可得$y'x_1+y(2x_1'+a_1x_1)=0,y'=-(\\frac{2x_1'}{x_1}+a_1)y$.有解\n",
    "\\begin{align}\n",
    "c'&=y=c_1exp(-\\int_{t_0}^t{(\\frac{2x_1'}{x_1}+a_1)\\,\\mathrm d t})\\\\\n",
    "&=c_1exp(-2lnx_1-\\int_{t_0}^t{a_1\\,\\mathrm d t})\\\\\n",
    "&=\\frac{c_1}{x_1^2}exp(-\\int_{t_0}^t{a_1(s)\\,\\mathrm d s})\n",
    "\\end{align}\n",
    "再积分得\n",
    "$$c=\\int{\\frac{c_1}{x_1^2}exp[-\\int_{t_0}^t{a_1(s)\\,\\mathrm d s}]\\,\\mathrm d t}+c_2=c_1\\int{\\frac{1}{x_1^2}exp[-\\int_{t_0}^t{a_1(s)\\,\\mathrm d s}]\\,\\mathrm d t}+c_2$$\n",
    "方程的解为$$x=x_1[c_1\\int{\\frac{1}{x_1^2}exp[-\\int_{t_0}^t{a_1(s)\\,\\mathrm d s}]\\,\\mathrm d t}+c_2],$$\n",
    "其中$c_1,c_2$为任意常数。因为解有两个独立的任意常数，所以解为二阶微分方程的通解"
   ]
  },
  {
   "cell_type": "markdown",
   "metadata": {},
   "source": [
    "# <font color='red'>A+ 24/10"
   ]
  },
  {
   "cell_type": "code",
   "execution_count": null,
   "metadata": {
    "collapsed": true
   },
   "outputs": [],
   "source": []
  }
 ],
 "metadata": {
  "kernelspec": {
   "display_name": "Python 2",
   "language": "python",
   "name": "python2"
  },
  "language_info": {
   "codemirror_mode": {
    "name": "ipython",
    "version": 2
   },
   "file_extension": ".py",
   "mimetype": "text/x-python",
   "name": "python",
   "nbconvert_exporter": "python",
   "pygments_lexer": "ipython2",
   "version": "2.7.10"
  }
 },
 "nbformat": 4,
 "nbformat_minor": 0
}
