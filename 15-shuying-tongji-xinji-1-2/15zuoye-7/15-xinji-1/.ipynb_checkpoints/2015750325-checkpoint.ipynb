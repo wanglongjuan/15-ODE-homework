{
 "cells": [
  {
   "cell_type": "markdown",
   "metadata": {},
   "source": [
    "焦畅  2015750325"
   ]
  },
  {
   "cell_type": "markdown",
   "metadata": {},
   "source": [
    "4.1   1\n",
    "$证明：用反证法证明，假设x(t)和y(t)在区间[a,b]上线性相关，则存在不全为零的常数C_1和C_2使得$\n",
    "$$C_1x(t)+C_2y(t)\\equiv0,t\\in[a,b]$$\n",
    "\n",
    "$若C_2\\neq 0,则$\n",
    "\n",
    "$\\frac {y(t)}{x(t)}=-\\frac{C_1}{C_2}=常数；$\n",
    "\n",
    "$若C_1\\neq 0,则\\frac{x(t)}{y(t)}=-\\frac{C_2}{C_1}=常数$\n",
    "\n",
    "$在两种情况下，都与已知条件\\frac{x(t)}{y(t)}\\neq常数或 \\frac{y(t)}{x(t)}\\neq常数矛盾，$\n",
    "\n",
    "$所以假设不成立，即证明了x(t)和y(t)在区间[a,b]上是线性无关的.$"
   ]
  },
  {
   "cell_type": "markdown",
   "metadata": {
    "collapsed": true
   },
   "source": [
    "2、\n",
    "$证明\\quad由于x_1(t),x_2(t)分别是非齐次线性微分方程$\n",
    "\n",
    "$$\\frac{d^n x}{dt^n}+a_1(t)\\frac{{d^{n-1}}x}{d{t^{n-1}}}+\\cdots+a_n(t)x=f_1(t),$$\n",
    "\n",
    "$$\\frac{d^n x}{dt^n}+a_1(t)\\frac{{d^{n-1}}x}{d{t^{n-1}}}+\\cdots+a_n(t)x=f_2(t)$$\n",
    "\n",
    "$的解，所以满足$\n",
    "$$\\frac{d^n x_1(t)}{dt}+a_1(t)\\frac{{d^{n-1}}x_1(t)}{dt}+\\cdots+a_n(t)x_1(t)=f_1(t),$$\n",
    "\n",
    "$$\\frac{d^n x_2(t)}{dt}+a_1(t)\\frac{{d^{n-1}}x_2(t)}{dt}+\\cdots+a_n(t)x_2(t)=f_2(t)$$\n",
    "\n",
    "把以上两式相加，并且利用导数的运算法则有\n",
    "\n",
    "$$\\frac{d^{n}(x_1(t)+x_2(t))}{\\mathrm d t^n}+a_1(t)\\frac{d^{n-1}(x_1(t)+x_2(t))}{\\mathrm d t^{n-1}}+\\cdots+a_n(t)(x_1(t)+x_2(t))=f_1(t)+f_2(t)$$\n",
    "\n",
    "$$说明x_1(t)+x_2(t)是方程的解。$$ "
   ]
  },
  {
   "cell_type": "markdown",
   "metadata": {},
   "source": [
    "$3、$\n",
    "$(1)\\quad x^{{\\prime}{\\prime}}-x=cost,x_1=e^t,x_2=e^{-t};$\n",
    "\n",
    "解:\n",
    "$应用常数变易法，令x=C_1(t)e^t+C_2(t)e^{-t},将它代入方程，则可得决定C_1^{\\prime}(t)和C_2^{\\prime}(t)的两个方程$\n",
    "$$e^tC_1^{\\prime}(t)+e^{-t}C_2^{\\prime}(t)=0$$\n",
    "及$$e^tC_1^{\\prime}(t)-e^{-t}C_2^{\\prime}(t)=cost,$$\n",
    "解得$$C_1^{\\prime}(t)=\\frac 1 2 coste^{-t},$$\n",
    "$$C_2^{\\prime}(t)=\\frac {-1}{2}e^t cost,$$\n",
    "$$则C_1(t)=\\frac {sint-cost}{4}*e^{-t}+\\gamma_1,$$\n",
    "$$C_2(t)=-\\frac{1}{4}(sint+cost)e^t+\\gamma_2.$$\n",
    "$于是原方程的通解为$\n",
    "$$x=\\gamma_1 e^t+\\gamma_2 e^{-t}-\\frac{1}{2}cost.$$"
   ]
  },
  {
   "cell_type": "markdown",
   "metadata": {},
   "source": [
    "$(3)\\quad  x^{{\\prime}{\\prime}}+4x=tsin2t,x_1=cos2t,x_2=sin2t;$\n",
    "\n",
    "解:$令x=C_1(t)cos2t+C_2(t)sin2t,将它代入方程，则可得决定C_1^{\\prime}(t)和C_2^{\\prime}(t)的两个方程$\n",
    "$$cos2t*C_1^{\\prime}(t)+sin2t*C_2^{\\prime}(t)=0$$\n",
    "及$$-2sin2tC_1^{\\prime}(t)+2cos2t*C_2^{\\prime}(t)=tsint,$$\n",
    "解得$$C_1^{\\prime}(t)=-\\frac{1}{2}tsintsin2t,$$\n",
    "$$C_2^{\\prime}(t)=\\frac{1}{2}tsintcos2t,$$\n",
    "$由此$\n",
    "\n",
    "$$C_1(t)=\\frac{1}{4}[\\frac 1 3 tsin3t+\\frac 1 9 cos3t-tsint-cost]+C_1,$$\n",
    "$$C_2(t)=\\frac 1 4[-\\frac 1 3 tcos3t+\\frac 1 9 sin3t+tcost-sint]+C_2.$$\n",
    "$于是方程的解为$\n",
    "\n",
    "$$x=C_1cos2t+C_2sin2t+\\frac {t}{3} sint-\\frac 2 9 cost$$"
   ]
  },
  {
   "cell_type": "markdown",
   "metadata": {},
   "source": [
    "(5)$\\quad t^2x^{{\\prime}{\\prime}}-tx^{\\prime}+x=6t+34t^2,x_1=t,x_2=t\\ln t;$\n",
    "\n",
    "解:$方程可以变形为$\n",
    "$$x^{{\\prime}{\\prime}}-\\frac {1}{t}x^{\\prime}+\\frac{1}{t^2}x=\\frac t 6+34.$$\n",
    "\n",
    "$令方程的解为x=tC_1(t)+t\\ln(t)C_2(t),将它代入方程,则可得决定C_1^{\\prime}(t)和C_2^{\\prime}(t)的两个方程$\n",
    "\n",
    "$$tC_1^{\\prime}(t)+t\\ln(t)C_2^{\\prime}(t)=0$$\n",
    "及$$C_1^{\\prime}(t)+(\\ln t+1)C_2^{\\prime}(t)=\\frac 6 t +34,$$\n",
    "解得$$C_1^{\\prime}(t)=-\\ln{t(\\frac 6 t+34)},$$\n",
    "\n",
    "$$C_2^{\\prime}(t)=\\frac 6 t +34.$$\n",
    "\n",
    "由此$$C_1(t)=-34(t\\ln t-t)-3(\\ln t)^2 +C_1,$$\n",
    "$$C_2(t)=34t+6\\ln t+C_2.$$\n",
    "\n",
    "$于是方程的通解为$\n",
    "\n",
    "$$x=C_1t+C_2t\\ln t+34t^2+3t(ln t)^2.$$"
   ]
  },
  {
   "cell_type": "markdown",
   "metadata": {},
   "source": [
    "$6(1)$\n",
    "\n",
    "$证明\\quad充分性$。因为$$W^{\\prime}[x_1,x_2]=\\begin{bmatrix}x_1^{\\prime} & x_2^{\\prime}\\\\ x_1^{\\prime} & x_2^{\\prime}\\\\ \\end{bmatrix}+\n",
    "\\begin{bmatrix}x_1 & x_2\\\\x_1^{{\\prime}{\\prime}} & x_2^{{\\prime}{\\prime}}\\\\ \\end{bmatrix}=\\begin{bmatrix}x_1 & x_2\\\\x_1^{{\\prime}{\\prime}} & x_2^{{\\prime}{\\prime}}\\\\ \\end{bmatrix},$$\n",
    "$$W^{\\prime}[x_1,x_2]+a_1(t)W[x_1,x_2]=\\begin{bmatrix}x_1 & x_2\\\\x_1^{{\\prime}{\\prime}} & x_2^{{\\prime}{\\prime}}\\\\ \\end{bmatrix}+\n",
    "a_1(t)\\begin{bmatrix}x_1 & x_2\\\\ x_1^{\\prime} & x_2^{\\prime}\\\\ \\end{bmatrix}=\\begin{bmatrix}x_1 & x_2\\\\x_1^{{\\prime}{\\prime}}+a_1(t)x_1^{\\prime}& x_2^{{\\prime}{\\prime}}+a_1(t)x_2^{\\prime}\\\\ \\end{bmatrix}$$\n",
    "\n",
    "$而x_1(t)\\neq 0是已知方程的解，则有$\n",
    "$$\\begin{bmatrix}x_1 & x_2\\\\-a_2(t)x_1& x_2^{{\\prime}{\\prime}}+a_1(t)x_2^{\\prime}\\\\ \\end{bmatrix}=x_1\\begin{bmatrix} 1&x_2\\\\-a_2(t)& x_2^{{\\prime}{\\prime}}\n",
    "+a_1(t)x_2^{\\prime}\\\\ \\end{bmatrix}=0$$\n",
    "$故有$$x_2^{{\\prime}{\\prime}}+a_1(t)x_2^{\\prime}+a_2(t)x_2=0,$$\n",
    "\n",
    "即x_2(t)是已知方程的解\n",
    "\n",
    "$必要性.$\n",
    "$因为W^{\\prime}[x_1,x_2]是方程的解x_1(t),x_2(t)的朗斯基行列式，所以$\n",
    "\n",
    "$$W^{\\prime}[x_1,x_2]=\\begin{bmatrix}x_1 & x_2\\\\x_1^{{\\prime}{\\prime}}\n",
    "&x_2^{{\\prime}{\\prime}}\\\\ \\end{bmatrix}=-a_1(t)\\begin{bmatrix}x_1 & x_2\\\\ x_1^{\\prime} & x_2^{\\prime}\\\\ \\end{bmatrix}=-a_1(t)W[x_1,x_2]$$\n",
    "\n",
    "$即W[x_1,x_2]满足W^{\\prime}[x_1,x_2]+a_1(t)W[x_1,x_2]=0$\n"
   ]
  },
  {
   "cell_type": "markdown",
   "metadata": {},
   "source": [
    "$6(2)$\n",
    "$因为x_1,x_2为方程的解，则由刘维尔公式$\n",
    "$$\\begin{bmatrix}x_1 & x_2\\\\ x_1^{\\prime} & x_2^{\\prime}\\\\ \\end{bmatrix}=W(t_o)e^{-\\int_{t_o}^{t} a_1(s)ds},$$\n",
    "即$$x_1x_2^{\\prime}-x^{\\prime}x^2=W(t_o)e^{\\int_{t_o}^{t} a_1(s)ds}.$$\n",
    "\n",
    "得 $$x_2=(c_1{\\int \\frac {1}{x^2} e^{-\\int_{t_o}^{t} a_1(s) ds }dt}+c_2)x_1$$\n",
    "\n",
    "$取c_1=1,c_2=0,得x_2=x_1{\\int \\frac {1}{x^2}e^{\\int_{t_o}^{t} a_1(s)ds }dt},$\n",
    "$又W(t)=\\begin{bmatrix}x_1 & x_2\\\\ x_1^{\\prime} & x_2^{\\prime}\\\\\n",
    "\\end{bmatrix}=e^{-\\int_{t_o}^{t} a_1(s)ds} \\neq 0,$  \n",
    "\n",
    "$从而原方程的通解可表示为$\n",
    "$$x=x_1[c_1\\int \\frac {1}{x^2}exp(-\\int_{t_o}^{t} a_1(s) ds )dt+c_2],$$\n",
    "\n",
    "$其中c_1,c_2为常数，t_0,t \\in[a,b]$\n"
   ]
  },
  {
   "cell_type": "markdown",
   "metadata": {},
   "source": [
    "# <font color='red'>A 24/10"
   ]
  },
  {
   "cell_type": "code",
   "execution_count": null,
   "metadata": {
    "collapsed": true
   },
   "outputs": [],
   "source": []
  }
 ],
 "metadata": {
  "kernelspec": {
   "display_name": "SageMath 7.3",
   "language": "",
   "name": "sagemath"
  },
  "language_info": {
   "codemirror_mode": {
    "name": "ipython",
    "version": 2
   },
   "file_extension": ".py",
   "mimetype": "text/x-python",
   "name": "python",
   "nbconvert_exporter": "python",
   "pygments_lexer": "ipython2",
   "version": "2.7.10"
  }
 },
 "nbformat": 4,
 "nbformat_minor": 0
}
