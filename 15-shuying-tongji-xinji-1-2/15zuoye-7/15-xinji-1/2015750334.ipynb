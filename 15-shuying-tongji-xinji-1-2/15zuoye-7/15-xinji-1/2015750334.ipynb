{
 "cells": [
  {
   "cell_type": "markdown",
   "metadata": {},
   "source": [
    "**1**设$x(t)和y(t)$是区间$a\\leq t\\leq b上的连续函数，$证明：如果在区间$a\\leq t \\leq b上有\\frac{x（t)}{y(t)}\\neq 常数或$$\\frac{y(t)}{x(t)}\\neq 常数$，则$x(t)和y(t)$在区间$a\\leq t\\leq b$上线性无关"
   ]
  },
  {
   "cell_type": "markdown",
   "metadata": {},
   "source": [
    "**证明**：（反证法）假设$x(t)和y(t)在区间[a,b]$上线性无关，则存在不全为零的常数$C_1和C_2$使得：$$C_1 x(t）+C_2 y(t）\\equiv0,t\\in [a,b]$$$若C_2\\neq 0,则\\frac{y(t)}{x(t)}=-\\frac{C_1}{C_2}=常数\\\\若C_1\\neq 0,则\\frac{x(t)}{y(t)}=-\\frac{C_2}{C_1}=常数\\\\可见在两种情况下，都与已知条件\\frac{x(t)}{y(t)}\\neq 常数或\\frac{y(t)}{x(t)}\\neq 常数矛盾，所以假设不成立，命题得证$"
   ]
  },
  {
   "cell_type": "markdown",
   "metadata": {},
   "source": [
    "**2**证明非齐次线性微分方程的叠加原理：设$x_1(t),x_2(t)$分别是非齐次线性微分方程$$\\frac{\\mathrm d^n x}{\\mathrm d t^n}+a_1(t)\\frac{\\mathrm d^{n-1}x}{\\mathrm d t^{n-1}}+\\cdots+a_n(t)x=f_1(t)$$$$\\frac{\\mathrm d^n x}{\\mathrm d t^n}+a_1(t)\\frac{\\mathrm d^{n-1}x}{\\mathrm d t^{n-1}}+\\cdots+a_n(t)x=f_2(t)$$的解，则$x_1(t)+x_2(t)$是方程$$\\frac{\\mathrm d^n x}{\\mathrm d t^n}+a_1(t)\\frac{\\mathrm d^{n-1}x}{\\mathrm d t^{n-1}}+\\cdots+a_n(t)x=f_1(t)+f_2(t)$$的解。"
   ]
  },
  {
   "cell_type": "markdown",
   "metadata": {},
   "source": [
    "**证明：**$x_1(t),x_2(t)$分别是非齐次线性微分方程$$\\frac{\\mathrm d^n x}{\\mathrm d t^n}+a_1(t)\\frac{\\mathrm d^{n-1}x}{\\mathrm d t^{n-1}}+\\cdots+a_n(t)x=f_1(t)，$$$$\\frac{\\mathrm d^n x}{\\mathrm d t^n}+a_1(t)\\frac{\\mathrm d^{n-1}x}{\\mathrm d t^{n-1}}+\\cdots+a_n(t)x=f_2(t)$$的解，所以满足$$\\frac{\\mathrm d^n x_1}{\\mathrm d t^n}+a_1(t)\\frac{\\mathrm d^{n-1}x_1}{\\mathrm d t^{n-1}}+\\cdots+a_n(t)x_1=f_1(t)$$$$\\frac{\\mathrm d^n x_2}{\\mathrm d t^n}+a_1(t)\\frac{\\mathrm d^{n-1}x_2}{\\mathrm d t^{n-1}}+\\cdots+a_n(t)x_2=f_2(t)$$将以上两式相加，并且运用导数的运算法则，有：$$\\frac{\\mathrm d^n(x_1(t)+x_2(t))}{\\mathrm dt^n}+a_1(t)\\frac{\\mathrm d^{n-1}(x_1(t)+x_2(t))}{\\mathrm d t^{n-1}}+\\cdots+a_n(t)(x_1(t)+x_2(t))=f_1(t)+f_2(t)$$即$x_1(t)+x_2(t)$是方程$$\\frac{\\mathrm d^n x}{\\mathrm d t^n}+a_1(t)\\frac{\\mathrm d^{n-1}x}{\\mathrm d t^{n-1}}+\\cdots+a_n(t)x=f_1(t)+f_2(t)$$的解。"
   ]
  },
  {
   "cell_type": "markdown",
   "metadata": {},
   "source": [
    "**3(1)** 已知齐次线性微分方程的基本解组$x_1,x_2$,求下列方程对应的非齐次线性微分方程的通解：$x''-x=cos t,x_1=e^t,x_2=e^{-t}$"
   ]
  },
  {
   "cell_type": "markdown",
   "metadata": {},
   "source": [
    "**解：**应用常数变易法，令$$x=c_1(t)e^t+c_2(t)e^{-t}$$将它带入方程，则可得到决定$c_1'(t),c_2'(t)$的两个方程$$c_1'(t)e^t+c_2'(t)e^{-t}=0$$$$c_1'(t)e^t-c_2'(t)e^{-t}=cos t$$解得：$$c_1'(t)=\\frac{1}{2}cos t e^t,c_2'(t)=-\\frac{1}{2}e^{-t}cos t$$求积分得到：$$c_1(t)=-\\frac{1}{4}(sin t-cos t)e^t+\\gamma_1$$$$c_2(t)=\\frac{1}{4}(sin t-cos t)e^{-t}+\\gamma_2$$得到通解$$x=e^t(-\\frac{1}{4}(sin t-cos t)e^t+\\gamma_1)+e^{-t}(\\frac{1}{4}(sin t-cos t)e^{-t}+\\gamma_2)$$$$x=\\gamma_1 e^t+\\gamma_2 e^{-t}-\\frac{1}{2}cos t$$"
   ]
  },
  {
   "cell_type": "markdown",
   "metadata": {},
   "source": [
    "**3(3)** 已知齐次线性微分方程的基本解组$x_1,x_2$,求下列方程对应的非齐次线性微分方程的通解：$x''+4 x=t sin t,x_1=cos 2 t ,x_2=sin 2 t$"
   ]
  },
  {
   "cell_type": "markdown",
   "metadata": {},
   "source": [
    "**解：**应用常数变易法，令：$$x=c_1(t)cos 2 t+c_2(t) sin 2 t$$将它带入方程，可以得到决定$c_1(t),c_2(t)$的两个方程：$$c_1'(t)cos 2 t+c_2'(t)sin 2 t=0$$$$-2 c_1'(t)sin 2 t+2c_2'(t)cos 2 t=t sin t$$解得：$$c_1'(t)=-\\frac{1}{2}t sin t cos 2 t$$$$c_2'(t)=\\frac{1}{2}t sin t cos 2 t$$求积分，得到：$$c_1(t)=\\frac{1}{4}[\\frac{1}{3}t sin 3 t+\\frac{1}{9}cos 3 t-t sin t-cos t]+\\gamma_1$$$$c_2(t)=\\frac{1}{4}[-\\frac{1}{3}t sos 3 t+\\frac{1}{9}sin 3 t+t sos t-sin t]+\\gamma_2$$得到方程的通解：$$x=\\gamma_1 cos 2 t+\\gamma_2 sin 2 t+\\frac{t}{3} sin t-\\frac{2}{9}cos t$$"
   ]
  },
  {
   "cell_type": "markdown",
   "metadata": {},
   "source": [
    "**3(5)** 已知齐次线性微分方程的基本解组$x_1,x_2$,求下列方程对应的非齐次线性微分方程的通解：$$t^2 x''-t x'+x=6 t+34 t^2,x_1=t,x_2=t ln t$$"
   ]
  },
  {
   "cell_type": "markdown",
   "metadata": {},
   "source": [
    "**解：**将方程变形为：$$x''-\\frac{1}{t}x'+\\frac{1}{t^2}x=\\frac{6}{t}+34$$应用常数变易法，令：$$x=c_1(t)t+c_2(t)t ln t$$将它带入方程，可以得到决定$c_1(t),c_2(t)$的两个方程：$$c_1'(t) t+c_2'(t)t ln t=0$$$$c_1'(t)+c_2'(t)(ln t+1)=(\\frac{6}{t}+34)$$解得：$$c_1'(t)=-34ln t-334-6 ln t \\frac{1}{t}$$$$c_2'(t)=\\frac{6}{t}+34$$求积分，得到：$$c_1(t)=-34(t ln t)-3(ln t)^2\\gamma_1$$$$c_2(t)=34 t+6 ln t+\\gamma_2$$得到方程的通解：$$x=\\gamma_1 t+\\gamma_2 t ln t+34 t^2+3 t(ln t)^2$$"
   ]
  },
  {
   "cell_type": "markdown",
   "metadata": {},
   "source": [
    "**6**$假设x(t)\\neq 0是二阶齐次方程线性微分方程x''+a_1(t)x'+a_2(t)x=0的解，这里a_1(t)和a_2(t)于区间[a,b]上连续，试证：\\\\(1)x_2(t)为方程的解的充要条件是W'[x_1,x_2]+a_1 W[x_1,x_2]=0\\\\(2)方程的通解可表示为x=x_1[c_1 \\int \\frac{1}{x_1^2}exp(-\\int_{t_0}^t a_1(s)\\,\\mathrm {d}s\\}){\\mathrm dt}+c_2],其中c_1,c_2是任意常数，t_0,t\\in [a,b].$"
   ]
  },
  {
   "cell_type": "markdown",
   "metadata": {},
   "source": [
    "**证明：**（1）充分性：由于$$W'[x_1,x_2]=\\begin{vmatrix}x_1'&x_2'\\\\x_1'&x_2'\\\\ \\end{vmatrix}+\\begin{vmatrix}x_1&x_2\\\\x_1''&x_2''\\\\ \\end{vmatrix}=\\begin{vmatrix}x_1&x_2\\\\x_1''&x_2''\\\\ \\end{vmatrix}$$$$W'[x_1,x_2]+a_1(t)W[x_1,x_2]=\\begin{vmatrix}x_1&x_2\\\\x_1''&x_2''\\\\ \\end{vmatrix}+a_1(t)\\begin{vmatrix}x_1&x_2\\\\x_1''&x_2''\\\\ \\end{vmatrix}$$$$=\\begin{vmatrix}x_1&x_2\\\\x_1''+a_1(t)x_1'&x_2''+a_1(t)x_2'\\\\ \\end{vmatrix}=0$$而$x_1(t)\\neq 0$是已知方程的解，则有：$$\\begin{vmatrix}x_1&x_2\\\\-a_2(t)x_1&x_2''+a_1(t)x_2'\\\\ \\end{vmatrix}=x_1\\begin{vmatrix}1&x_2\\\\-a_2(t)&x_2''+a_1(t)x_2'\\\\ \\end{vmatrix}=0$$所以$x_2(t)$是已知方程的解。"
   ]
  },
  {
   "cell_type": "markdown",
   "metadata": {},
   "source": [
    "必要性：$W[x_1,x_2]是方程的解x_1(t),x_2(t)的朗斯基行列式，所以$$$W'[x_1,x_2]=\\begin{vmatrix}x_1&x_2\\\\x_1''&x_2''\\\\ \\end{vmatrix}$$$$=\\begin{vmatrix}1&x_2\\\\-a_1(t)x_1'&a_1(t)x_2'\\\\ \\end{vmatrix}=-a_1(t)W[x_1,x_2]$$即$W[x_1,x_2]满足W'[x_1,x_2]+a_1(t)W[x_1,x_2]=0$"
   ]
  },
  {
   "cell_type": "markdown",
   "metadata": {},
   "source": [
    "(2)因为$x_1,x_2$满足方程的解，于是有：$$x_1 x_2'-x_1' x_2=W(t_0)e^{-\\int_{t^0}^t a_1(s)\\,\\mathrm {d}s}$$方程两边同时乘上$\\frac{1}{x_1^2}$,取$c_1=1,c_2=0$得到：$$x_2=x_1 \\int \\frac{1}{x^2}e^{-\\int_{t_0}^t a_1(s)\\,\\mathrm {d}s}\\,\\mathrm {d}t$$又$$W(t)=\\begin{vmatrix}x_1&x_2\\\\x_1'&x_2'\\\\ \\end{vmatrix}=e^{\\int_{t_0}^t a_1(s)\\,\\mathrm {d}s}\\neq 0$$从而原方程的解可以表示为$$x=x_1[c_1 \\int \\frac{1}{x_1^2}exp(-\\int_{t_0}^t a_1(s)\\,\\mathrm {d}s\\}){\\mathrm dt}+c_2]$$其中$c_1,c_2是任意常数，t_0,t\\in [a,b].$"
   ]
  },
  {
   "cell_type": "markdown",
   "metadata": {},
   "source": [
    "# <font color='red'>A 24/10"
   ]
  },
  {
   "cell_type": "code",
   "execution_count": null,
   "metadata": {
    "collapsed": true
   },
   "outputs": [],
   "source": []
  }
 ],
 "metadata": {
  "kernelspec": {
   "display_name": "SageMath 7.3",
   "language": "",
   "name": "sagemath"
  },
  "language_info": {
   "codemirror_mode": {
    "name": "ipython",
    "version": 2
   },
   "file_extension": ".py",
   "mimetype": "text/x-python",
   "name": "python",
   "nbconvert_exporter": "python",
   "pygments_lexer": "ipython2",
   "version": "2.7.10"
  }
 },
 "nbformat": 4,
 "nbformat_minor": 0
}
