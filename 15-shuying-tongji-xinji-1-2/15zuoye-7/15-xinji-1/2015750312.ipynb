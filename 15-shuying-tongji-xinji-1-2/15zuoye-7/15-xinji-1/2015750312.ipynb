{
 "cells": [
  {
   "cell_type": "markdown",
   "metadata": {},
   "source": [
    "**1.证明：**若 $ x(t),y(t)在区间a\\leq t\\leq b $上线性相关\n",
    "\n",
    "则存在不全为零的常数 $ \\alpha,\\beta $ ，使 $$ \\alpha x(t)+\\beta y(t)≡0,t\\in[a,b] $$\n",
    "\n",
    "设 $ x(t) $ 不为零，则有 $ \\frac{y(t)}{x(t)}=-\\frac{\\alpha}{\\beta} $ ,显然 $ \\frac{\\alpha}{\\beta} $为常数，与题设矛盾\n",
    "\n",
    "∴假设不成立，即证得命题"
   ]
  },
  {
   "cell_type": "markdown",
   "metadata": {},
   "source": [
    "**2.证明:**由题，得 $ x_1(t),x_2(t) $ 分别是方程（1），（2）的解\n",
    "\n",
    "则 $$ \\frac{d^{n}x_1(t)}{dt^n}+a_1(t)\\frac{d^{n-1}x_1(t)}{dt^{n-1}}+…+a_n(t)x_1(t)=f_1(t)       (3) $$\n",
    "\n",
    "$$ \\frac{d^{n}x_2(t)}{dt^n}+a_2(t)\\frac{d^{n-1}x_1(t)}{dt^{n-1}}+…+a_n(t)x_2(t)=f_2(t)          (4) $$\n",
    "\n",
    "由（3）+（4），以及导数的运算法则，得 $$ \\frac{d^{n}(x_1(t)+x_2(t))}{dt^n}+a_1(t)\\frac{d^{n-1}(x_1(t)+x_2(t)}{dt^{n-1}}+…+a_n(t)(x_1(t)+x_2(t))=f_1(t)+f_2(t) $$\n",
    "\n",
    "∴可证得命题"
   ]
  },
  {
   "cell_type": "markdown",
   "metadata": {
    "collapsed": true
   },
   "source": [
    "**3.(1)解：**由常数变易法，令 $ x(t)=c_1(t)e^t+c_2(t)e^{-t} $ ,将它代入方程，得\n",
    "\n",
    "$$\n",
    "\\begin{cases}\n",
    "c'_1(t)e^t+c'_2(t)e^{-t}=0\\\\\n",
    "c'_1(t)e^t-c'_2(t)e^{-t}=cost\n",
    "\\end{cases}\n",
    "$$\n",
    "\n",
    "解得\n",
    "\n",
    "$$\n",
    "\\begin{cases}\n",
    "c'_1(t)=\\frac{1}{2}e^{-t}cost\\\\\n",
    "c'_2(t)=-\\frac{1}{2}e^t cost\n",
    "\\end{cases}\n",
    "$$\n",
    "\n",
    "积分，得 $$ c_1(t)=-\\frac{1}{4}e^{-t}(cost-sint)+c_1;c_2(t)=-\\frac{1}{4}e^t(cost+sint)+c_2 $$\n",
    "\n",
    "∴通解为 $$ x(t)=c_1e^t+c_2e^{-t}-\\frac{1}{2}cost $$"
   ]
  },
  {
   "cell_type": "markdown",
   "metadata": {},
   "source": [
    "**(3)解：**由常数变易法，令 $ x(t)=c_1(t)cos2t+c_2(t)sin2t $ ,将它代入方程，得\n",
    "\n",
    "\n",
    "$$\n",
    "\\begin{cases}\n",
    "c'_1(t)cos2t+c'_2(t)sin2t=0\\\\\n",
    "c'_1(t)cos2t-c'_2(t)sin2t=tsin2t\n",
    "\\end{cases}\n",
    "$$\n",
    "\n",
    "解得\n",
    "\n",
    "$$\n",
    "\\begin{cases}\n",
    "c'_1(t)=\\frac{1}{4}t(cos4t-1)\\\\\n",
    "c'_2(t)=-\\frac{1}{4}tsin4t\n",
    "\\end{cases}\n",
    "$$\n",
    "\n",
    "积分，得 $$ c_1(t)=\\frac{1}{64}cos4t=\\frac{1}{16}tsin4t-\\frac{1}{8}t^2+\\gamma_1;c_2(t)=\\frac{1}{64}sin4t-\\frac{1}{16}cos4t+\\gamma_2 $$\n",
    "\n",
    "∴通解为 $$ x=c_1cos2t+c_2sin2t-\\frac{1}{8}t^2cos2t+\\frac{1}{16}tsin2t $$ $ c_1,c_2 $ 是任意常数"
   ]
  },
  {
   "cell_type": "markdown",
   "metadata": {},
   "source": [
    "**6.（1）证明：** $$ W'[x_1,x_2]+a_1W[x_1,x_2]=0⇔x_1x''_2-x''_1x_2+a_1x_1x'_2-a_1x'_1x_2=0⇔x_1x''_2-x''_1x_2+a_1x_1x'_2-a_1x'_1x_2+a_2x_1x_2-a_2x_1x_2=0⇔x_1(x''_2+a_1x'_2+a_2x_2)=0⇔x''_2+a_1x'_2+a_2x_2=0,(x_1\\neq0) $$\n",
    "\n",
    "即 $ x_2 $ 为 $ (*) $ 的解\n"
   ]
  },
  {
   "cell_type": "markdown",
   "metadata": {},
   "source": [
    "**(2):**∵ $ x_1,x_1 $ 为方程的解，则由刘维尔公式\n",
    "\n",
    "$$ \n",
    "\\begin{vmatrix} \n",
    "x_1 & x_2 \\\\ \n",
    "x_1' & x_2'\\\\ \n",
    "\\end{vmatrix} \n",
    "=w(t_0)e^{-\\int\\limits_{t_0}^t a_1(s) d s}\n",
    "$$ \n",
    "\n",
    "即 $$ x_1x'_2-x'_1x_2=w(t_0)e^{-\\int\\limits_{t_0}^t a_1(s) d s} $$\n",
    "\n",
    "两边乘以 $ \\frac{1}{x_{1}^2} $ ,有 $$ \\frac{W(t_0)}{x_{1}^2} e^{-\\int\\limits_{t_0}^t a_1(s) d s} $$\n",
    "\n",
    "则 $$ \\frac{x_2}{x_1}=c_1\\int \\frac{1}{x_{1}^2} e^{-\\int\\limits_{t_0}^t a_1(s) d s} d t+c_2 $$\n",
    "\n",
    "即 $$ x_2=(c_1\\int \\frac{1}{x_{1}^2} e^{-\\int\\limits_{t_0}^t a_1(s) d s} d t+c_2)x_1 $$\n",
    "\n",
    "取 $ c_1=1,c_2=0 $ ,得 $$ x_2=x_1\\int \\frac{1}{x_{1}^2} e^{-\\int\\limits_{t_0}^t a_1(s) d s} d t $$\n",
    "\n",
    "又∵\n",
    "\n",
    "$$\n",
    "W(t)=\n",
    "\\begin{vmatrix} \n",
    "x_1 & x_2 \\\\ \n",
    "x_1' & x_2'\\\\ \n",
    "\\end{vmatrix} \n",
    "=e^{-\\int\\limits_{t_0}^t a_1(s) d s}\n",
    "$$ \n",
    "\n",
    "∴方程的通解可证得"
   ]
  },
  {
   "cell_type": "markdown",
   "metadata": {},
   "source": [
    "# <font color='red'>A 24/10"
   ]
  },
  {
   "cell_type": "code",
   "execution_count": null,
   "metadata": {
    "collapsed": true
   },
   "outputs": [],
   "source": []
  }
 ],
 "metadata": {
  "kernelspec": {
   "display_name": "SageMath 7.3",
   "language": "",
   "name": "sagemath"
  },
  "language_info": {
   "codemirror_mode": {
    "name": "ipython",
    "version": 2
   },
   "file_extension": ".py",
   "mimetype": "text/x-python",
   "name": "python",
   "nbconvert_exporter": "python",
   "pygments_lexer": "ipython2",
   "version": "2.7.10"
  }
 },
 "nbformat": 4,
 "nbformat_minor": 0
}
