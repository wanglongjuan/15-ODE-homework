{
 "cells": [
  {
   "cell_type": "markdown",
   "metadata": {
    "collapsed": false
   },
   "source": [
    "**p107**\n",
    "$用反证法，设x(t)和y(t)在区间[a,b]上线性相关则存在不全为零的常数C1和C2$\n",
    "\n",
    "$c_1x(t)+c_2y(t)==0,t\\in[a,b]$\n",
    "\n",
    "$若C1不等于0则 $\n",
    "$\\frac{y(t)}{x(t)}=-\\frac{C1}{C2}=常数$\n",
    "$C1不等于0 则\\frac{x(t)}{y(t)}=-\\frac{C2}{C1}=常数$\n",
    "\n",
    "$与已知条件矛盾所以假设不成立 所以线性无关$"
   ]
  },
  {
   "cell_type": "markdown",
   "metadata": {},
   "source": [
    "**2**\n",
    "\n",
    "$x_1(t) x_2(t)分别是非齐次线性方程组$\n",
    "\n",
    "$\\frac{\\mathrm {d}x}{\\mathrm {d}t^n}+a_1(t)\\frac{\\mathrm {d^(n-1)}x}{\\mathrm{d}t^(n-1)}+\\dot+a_n(t)x=f_1(t)$\n",
    "\n",
    "$\\frac{\\mathrm {d}x}{\\mathrm {d}t^n}+a_1(t)\\frac{\\mathrm {d^(n-1)}x}{\\mathrm{d}t^(n-1)}+\\dot+a_n(t)x=f_2(t)$\n",
    "$的解$\n",
    "\n",
    "$\\frac{\\mathrm {d}x_1(t)}{\\mathrm {d}t^n}+a_1(t)\\frac{\\mathrm {d^(n-1)}x_1(t)}{\\mathrm{d}t^(n-1)}+\\dot+a_n(t)x=f_1(t)$\n",
    "\n",
    "$\\frac{\\mathrm {d}x_1(t)}{\\mathrm {d}t^n}+a_1(t)\\frac{\\mathrm {d^(n-1)}x_1(t)}{\\mathrm{d}t^(n-1)}+\\dot+a_n(t)x=f_2(t)$\n",
    "\n",
    "$两式相加得$\n",
    "\n",
    "$\\frac{\\mathrm {d^n}(x_1(t)+x_2(t))}{\\mathrm {d}t^n}+a_1(t)\\frac{\\mathrm{d^(n-1)}(x_1(t)+x_2(t))}{\\mathrm{d}t^(n-1)}+\\dot+a_n(t)(x_1(t)+x_2(t))=f_1(t)+f_2(t)$\n",
    "\n",
    "$即x_1(t)+x_2(t)是方程$\n",
    "\n",
    "$\\frac{\\mathrm {d}x_1(t)}{\\mathrm {d}t^n}+a_1(t)\\frac{\\mathrm {d^(n-1)}x_1(t)}{\\mathrm{d}t^(n-1)}+\\dot+a_n(t)x=f_1(t)+f_2(t)$\n",
    "\n",
    "$的解$"
   ]
  },
  {
   "cell_type": "markdown",
   "metadata": {},
   "source": [
    "$3(1)$\n",
    "$令x=C_1(t)e^t+C_2(t)e^(-t)$\n",
    "\n",
    "$带入方程 得方程组$\n",
    "\n",
    "$e'C_1(t)+e^(-t)C_2'(t)=0$\n",
    "\n",
    "$e'C_1(t)-e^(-t)C_2'(t)=\\cos t$\n",
    "\n",
    "$解得$\n",
    "\n",
    "$C_1'(t)=\\frac{1}{2}\\cos t·e^(-t),C_2'=\\frac{-1}{2}e^t\\cos t$\n",
    "\n",
    "$则C_1(t)=\\frac{\\sin t-\\cos t}{4}·e^t+a_1$\n",
    "\n",
    "$C_2(t)=-\\frac{1}{4}\\frac{\\sin t+\\cos t}{4}·e^t+a_2$\n",
    "\n",
    "$于是原方程通解$\n",
    "\n",
    "$x=a_2e^t+a_2e^(-t)-\\frac{1}{2}\\cos t$"
   ]
  },
  {
   "cell_type": "markdown",
   "metadata": {},
   "source": [
    "$(3)$\n",
    "\n",
    "$令x=C_1(t)\\cos 2t+C_2\\sin 2t 带入方程$\n",
    "\n",
    "$\\cos 2t·C_2'(t)+\\sin 2t·C_2'(t)=0$\n",
    "\n",
    "$-2\\sin 2tC_1'(t)+2\\cos 2t·C_2'(t)=t\\sin t$\n",
    "\n",
    "$解得C_1'(t)=-\\frac{1}{2}t\\sin t\\sin 2t$\n",
    "\n",
    "$C_2'(t)=\\frac{1}{2}t\\sin t\\cos 2t$\n",
    "\n",
    "$C_1(t)=\\frac{1}{4} [\\frac{1}{3}t\\sin 3t+\\frac{1}{9}\\cos 3t-t\\sin t-\\cos t]+C_1$\n",
    "\n",
    "$C_2(t)=\\frac{1}{4} [-\\frac{1}{3}t\\sin 3t+\\frac{1}{9}\\cos 3t+t\\sin t-\\sin t]+C_2$\n",
    "\n",
    "$通解为x=C_1\\cos 2t+\\sin 2t+C_2\\sin 2t+\\frac{t}{3}\\sin t-\\frac{2}{9}\\cos t$"
   ]
  },
  {
   "cell_type": "markdown",
   "metadata": {},
   "source": [
    "$(5)$\n",
    "\n",
    "$变形为x''-\\frac{1}{t}x'+\\frac{1}{t^2}x=\\frac{3}{t}+34$\n",
    "\n",
    "$令方程解x=t·C_1(t)+t\\ln t·C_2'(t),代入方程决定两个解$\n",
    "\n",
    "$t·C_1(t)+t\\ln t·C_2'(t)=0$\n",
    "\n",
    "$C_1'(t)+(\\ln t+1)C_2'(t)=(\\frac{6}{t}+34)$\n",
    "\n",
    "$C_2'(t)=\\frac{6}{t}+34$\n",
    "\n",
    "$由此C_1(t)=-34(t\\ln t)-3(\\ln t)^2+C_1$\n",
    "\n",
    "$C_2(t)=34t+6\\ln t+C_2$\n",
    "\n",
    "$x=C_1·t+C_2t\\ln t+34t^2+3t(\\ln t)^2$"
   ]
  },
  {
   "cell_type": "markdown",
   "metadata": {},
   "source": [
    "$6$\n",
    "\n",
    "$充分性：$\n",
    "\n",
    "$W'{x_1.x_2}=x_1'x_2'-x_1'x_2'+x_1x_2''-x_1x_2''=x_1x_2''-x_1x_2''$\n",
    "\n",
    "$W'{x_1.x_2}+a_1(t)W'{x_1.x_2}=x_1x_2''-x_1x_2''+a_1(t)(x_1x_2''-x_1x_2'')=0$\n",
    "\n",
    "$x_1(t)\\neq 0是已知方程的解$\n",
    "\n",
    "$x_1(x_2''+a_1(t)x_2')+x_2a_2(t)x_1=x_1(x_2''+a_1(t)x_2'+x^2a_2(t))=0$\n",
    "\n",
    "$则有 x_2''+a_1(t)x_2'+a_2(t)x_2=0$\n",
    "\n",
    "$则x_2(t)是已知方程的解$\n",
    "\n",
    "$$必要性$$\n",
    "\n",
    "$W'{x_1.x_2}是方程得解x_1(t),x_2(t)的朗斯基行列式，所以$\n",
    "\n",
    "$W'{x_1.x_2}=x_1x_2''-x_1x_2''=-a_1(t)(x_1x_2'-x_1x_2')=-a_1(t)W{x_1,x_2}$\n",
    "\n",
    "$W{x_1,x_2}满足W'{x_1,x_2}+a_1(t)W{x_1,x_2}=0$\n",
    "\n",
    "*(2)*\n",
    "\n",
    "$因为x_1,x_2是方程解则$\n",
    "\n",
    "$(x_1x_2'-x_1x_2')=W(t_0)e^-(\\int_t0^t a_1(u)\\mathrm{d}u)$\n",
    "\n",
    "$同乘\\frac{1}{x_1^2}有 \\frac{\\mathrm{d}(\\frac{x_2}{x_1})}{\\mathrm{d}t}=\\frac[W(t_0][x_1^2])e^-(\\int_t2^t a_1(u)\\mathrm{d}u)$\n",
    "$\\frac{x_2}{x_1}c_1\\int \\frac{1}{x_1^2}e^-(\\int_t2^t a_1(u)\\mathrm{d}u)+c_2$\n",
    "\n",
    "$令c_1=1,c_2=0得$\n",
    "\n",
    "$x_2=x_1\\int\\frac{1}{x_1^2}e^-(\\int_t2^t a_1(u)\\mathrm{d}u)$\n",
    "\n",
    "$W（t）=e^-(\\int_t2^t a_1(u)\\mathrm{d}u)\\neq=0$\n",
    "\n",
    "$原方程通解科表示为x=x_1[c_1\\int\\frac{1}{x_1^2}\\exp(-\\int_t0^t a_1(s)\\mathrm{d}s)\\mathrm{d}t+c_2]$"
   ]
  },
  {
   "cell_type": "markdown",
   "metadata": {
    "collapsed": true
   },
   "source": [
    "# <font color='red'>A- 26/10"
   ]
  },
  {
   "cell_type": "code",
   "execution_count": null,
   "metadata": {
    "collapsed": true
   },
   "outputs": [],
   "source": []
  }
 ],
 "metadata": {
  "kernelspec": {
   "display_name": "Python 2",
   "language": "python",
   "name": "python2"
  },
  "language_info": {
   "codemirror_mode": {
    "name": "ipython",
    "version": 2
   },
   "file_extension": ".py",
   "mimetype": "text/x-python",
   "name": "python",
   "nbconvert_exporter": "python",
   "pygments_lexer": "ipython2",
   "version": "2.7.10"
  }
 },
 "nbformat": 4,
 "nbformat_minor": 0
}
