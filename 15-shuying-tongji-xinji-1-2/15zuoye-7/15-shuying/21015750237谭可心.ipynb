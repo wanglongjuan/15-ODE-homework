{
 "cells": [
  {
   "cell_type": "markdown",
   "metadata": {},
   "source": [
    "2016年10月18日  星期二\n",
    "\n",
    "$P131$\n",
    "\n",
    "1、设$x(t)$和$y(t)$是区间$a\\le t\\le b$上的连续函数，证明：如果在区间$a\\le t\\le b$上有$\\frac{x(t)}{y(t)}\\neq$常数或$\\frac{y(t)}{x(t)}\\neq$常数,则$x(t)$和$y(t)$在区间$a\\le t\\le b$上线性无关。（提示：用反证法）\n",
    "\n",
    "证明：用反证法。假设$x(t)$和$y(t)$在区间$a\\le t\\le b$上线性相关，则存在一组不全为零的常数$c_1,c_2$，使得$c_1x(t)+c_2y(t)\\equiv 0,t\\in[a,b]$\n",
    "\n",
    "当$c_1\\neq 0$,$\\frac{y(t)}{x(t)}=-\\frac{c_1}{c_2}$\n",
    "\n",
    "当$c_2\\neq 0$,$\\frac{x(t)}{y(t)}=-\\frac{c_2}{c_1}$；\n",
    "\n",
    "与题目中在区间$a\\le t\\le b$上有$\\frac{x(t)}{y(t)}\\neq$常数或$\\frac{y(t)}{x(t)}\\neq$常数矛盾\n",
    "\n",
    "因此在$a\\le t\\le b$上$x(t)$和$y(t)$是线性无关的。"
   ]
  },
  {
   "cell_type": "markdown",
   "metadata": {},
   "source": [
    "2、证明非齐次线性线性微分方程的叠加原理：设$x_1(t),x_2(t)$分别是非齐次线性微分方程\n",
    "\n",
    "$$\\frac{d^nx}{dt^n}+a_1(t)\\frac{d^{n-1}x}{dt^{n-1}}+\\cdots+a_n(t)x=f_1(t)，$$\n",
    "\n",
    "$$\\frac{d^nx}{dt^n}+a_1(t)\\frac{d^{n-1}x}{dt^{n-1}}+\\cdots+a_n(t)x=f_2(t)$$\n",
    "\n",
    "的解，则$x_1(t)+x_2(t)$是方程\n",
    "\n",
    "$$\\frac{d^nx}{dt^n}+a_1(t)\\frac{d^{n-1}x}{dt^{n-1}}+\\cdots+a_n(t)x=f_1(t)+f_2(t)$$\n",
    "\n",
    "的解。\n",
    "\n",
    "证明：由已知得$x_1(t),x_2(t)$分别是非齐次线性微分方程\n",
    "\n",
    "$\\frac{d^nx}{dt^n}+a_1(t)\\frac{d^{n-1}x}{dt^{n-1}}+\\cdots+a_n(t)x=f_1(t)$\n",
    "\n",
    "$\\frac{d^nx}{dt^n}+a_1(t)\\frac{d^{n-1}x}{dt^{n-1}}+\\cdots+a_n(t)x=f_2(t)$\n",
    "\n",
    "的解，则将$x_1(t),x_2(t)$分别代入方程得\n",
    "\n",
    "$\\frac{d^nx_1(t)}{dt^n}+a_1(t)\\frac{d^{n-1}x_1(t)}{dt^{n-1}}+\\cdots+a_n(t)x_1(t)=f_1(t)$\n",
    "\n",
    "$\\frac{d^nx_2(t)}{dt^n}+a_1(t)\\frac{d^{n-1}x_2(t)}{dt^{n-1}}+\\cdots+a_n(t)x_2(t)=f_2(t)$\n",
    "\n",
    "两个方程相加得\n",
    "\n",
    "$\\frac{d^nx_1(t)}{dt^n}+a_1(t)\\frac{d^{n-1}x_1(t)}{dt^{n-1}}+\\cdots+a_n(t)x_1(t)+\\frac{d^nx_2(t)}{dt^n}+a_1(t)\\frac{d^{n-1}x_2(t)}{dt^{n-1}}+\\cdots+a_n(t)x_2(t)=f_1(t)+f_2(t)$\n",
    "\n",
    "即$\\frac{d^n(x_1(t)+x_2(t))}{dt^n}+a_1(t)\\frac{d^{n-1}(x_1(t)+x_2(t))}{dt^{n-1}}+\\cdots+a_n(t)(x_1(t)+x_2(t))=f_1(t)+f_2(t)$\n",
    "\n",
    "因此可得$x_1(t)+x_2(t)$是方程$\\frac{d^nx}{dt^n}+a_1(t)\\frac{d^{n-1}x}{dt^{n-1}}+\\cdots+a_n(t)x=f_1(t)+f_2(t)$的解."
   ]
  },
  {
   "cell_type": "markdown",
   "metadata": {
    "collapsed": true
   },
   "source": [
    "2016年10月19日  星期三\n",
    "\n",
    "$P131$\n",
    "\n",
    "3、已知齐次线性微分方程的基本解组$x_1(t),x_2(t)$，求下列方程对应的非齐次线性微分方程的通解：\n",
    "\n",
    "(1)$x''-x=\\cos t,x_1=e^t,x_2=e^{-t}$\n",
    "\n",
    "解：应用常数变易法，令$x=c_1(t)e^t+c_2(t)e^{-t}$\n",
    "\n",
    "将它代入方程，则可得到决定$c'_1(t)$和$c'_2(t)$的两个方程\n",
    "\n",
    "$e^tc'_1(t)+e^{-t}c'_2(t)=0$\n",
    "\n",
    "及$e^tc'_1(t)-e^{-t}c'_2(t)=\\cos t$\n",
    "\n",
    "解得$c'_1(t)=\\frac{\\cos t}{2e^t},c'_2(t)=-\\frac{\\cos t}{2e^{-t}}=-\\frac{1}{2}e^t\\cos t$\n",
    "\n",
    "由此$c_1(t)=\\frac{\\sin t-\\cos t}{4}e^{-t}+\\gamma_1,c_2(t)=-\\frac{\\sin t+\\cos t}{4}e^t+\\gamma_2$\n",
    "\n",
    "于是原方程的通解为$x=\\gamma_1e^t+\\gamma_2e^{-t}-\\frac{1}{2}\\cos t$"
   ]
  },
  {
   "cell_type": "markdown",
   "metadata": {},
   "source": [
    "(3)$x''+4x=t\\sin 2t,x_1=\\cos 2t,x_2=\\sin 2t$\n",
    "\n",
    "解：应用常数变易法，令$x=c_1(t)\\cos 2t+c_2(t)\\sin 2t$\n",
    "\n",
    "将它代入方程，则可得到决定$c'_1(t)$和$c'_2(t)$的两个方程\n",
    "\n",
    "$c'_1(t)\\cos 2t+c'_2(t)\\sin 2t=0$\n",
    "\n",
    "及$-2c'_1(t)\\sin 2t+c'_2(t)\\cos 2t=t\\sin 2t$\n",
    "\n",
    "解得$c'_1(t)=-\\frac{1}{2}t\\sin t\\sin 2t,c'_2(t)=\\frac{1}{2}t\\sin t\\sin 2t$\n",
    "\n",
    "由此$c_1(t)=\\frac{1}{4}(\\frac{1}{3}t\\sin 3t+\\frac{1}{9}\\cos 3t-t\\sin t-\\cos t)+\\gamma_1,c_2(t)=\\frac{1}{4}(-\\frac{1}{3}tcos 3t+\\frac{1}{9}\\sin 3t+t\\cos t-\\sin t)+\\gamma_2$\n",
    "\n",
    "于是原方程的通解为$x=\\gamma_1\\cos 2t+\\gamma_2\\sin 2t+\\frac{t}{3}\\sin t-\\frac{2}{9}\\cos t$"
   ]
  },
  {
   "cell_type": "markdown",
   "metadata": {},
   "source": [
    "(5)$t^2x''-tx'+x=6t+34t^2,x_1=t,x_2=t\\ln t$\n",
    "\n",
    "解：原方程可以化为$x''-\\frac{1}{t}x'+\\frac{1}{t^2}=\\frac{6}{t}+34$\n",
    "\n",
    "应用常数变易法，令$x=c_1(t)t+c_2(t)t\\ln t$\n",
    "\n",
    "将它代入方程，则可得到决定$c'_1(t)$和$c'_2(t)$的两个方程\n",
    "\n",
    "$c'_1(t)t+c'_2(t)t\\ln t=0$\n",
    "\n",
    "及$c'_1(t)+c'_2(t)(1+\\ln t)=\\frac{6}{t}+34$\n",
    "\n",
    "解得$c'_1(t)=-(\\frac{6}{t}+34)\\ln t,c'_2(t)=\\frac{6}{t}+34$\n",
    "\n",
    "由此$c_1(t)=-34(t\\ln t)-3(\\ln t)^2+\\gamma_1,c_2(t)=34t+6\\ln t+\\gamma_2$\n",
    "\n",
    "于是原方程的通解为$x=\\gamma_1t+\\gamma_2t\\ln t+3t(\\ln t)^2$"
   ]
  },
  {
   "cell_type": "markdown",
   "metadata": {},
   "source": [
    "6、假设$x(t)\\neq 0$是二阶齐次线性微分方程\n",
    "\n",
    "$$x''+a_1(t)x'+a_2(t)x=0$$\n",
    "\n",
    "的解,这里$a_1(t)$和$a_2(t)$于区间[a,b]上连续，试证：\n",
    "\n",
    "(1)$x_2(t)$为方程的解的充要条件是\n",
    "\n",
    "$$W'[x_1,x_2]+a_1W[x_1,x_2]=0$$\n",
    "\n",
    "\n",
    "(2)方程的通解可表示为\n",
    "\n",
    "$$x=x_1[c_1\\int{\\frac{1}{x^2_1}exp(-\\int^t_{t_0}{a_1(s)ds})}dt+c_2]$$\n",
    "\n",
    "其中$c_1,c_2$为任意常数，$t_0,t\\in[a,b]$\n",
    "\n",
    "证明：(1)必要性：因为$W[x_1,x_2]$为方程的解$x_1(t),x_2(t)$的朗斯基行列式，因此可得到\n",
    "\n",
    "$W[x_1,x_2]=\\begin{bmatrix}x_1&x_2\\\\x^\"_1&x^\"_2\\end{bmatrix}=\\begin{bmatrix}x_1&x_2\\\\x^\"_1+a_2(t)x_1&x^\"_2+a_2(t)x_2\\end{bmatrix}=\\begin{bmatrix}1&x_2\\\\-a_1(t)x'_1&a_1(t)x'_2\\end{bmatrix}=-a_1(t)\\begin{bmatrix}x_1&x_2\\\\x'_1&x'_2\\end{bmatrix}=-a_1(t)W[x_1,x_2]$\n",
    "\n",
    "即$W[x_1,x_2]$满足$W'[x_1,x_2]+a_1W[x_1,x_2]=0$\n",
    "\n",
    "充分性：因为$W'[x_1,x_2]=\\begin{bmatrix}x_1&x_2\\\\x^\"_1&x^\"_2\\end{bmatrix}+\\begin{bmatrix}x'_1&x'_2\\\\x'_1&x'_2\\end{bmatrix}=\\begin{bmatrix}x_1&x_2\\\\x^\"_1&x^\"_2\\end{bmatrix}$\n",
    "\n",
    "$w'[x_1,x_2]+a_1(t)W[x_1,x_2]=\\begin{bmatrix}x_1&x_2\\\\x^\"_1&x^\"_2\\end{bmatrix}+a_1(t)\\begin{bmatrix}x_1&x_2\\\\x'_1&x'_2\\end{bmatrix}=\\begin{bmatrix}x_1&x_2\\\\x^\"_1+a_1(t)x_1&x^\"_2+a_1(t)x'_2\\end{bmatrix}=0$\n",
    "\n",
    "又$x_1(t)\\neq 0$是已知方程的解，则有\n",
    "\n",
    "$\\begin{bmatrix}x_1&x_2\\\\-a_2(t)x_1&x^\"_2+a_1(t)x'_2\\end{bmatrix}=x_1\\begin{bmatrix}1&x_2\\\\-a_2(t)&x^\"_2+a_1(t)x'_2\\end{bmatrix}=0$\n",
    "\n",
    "故有$x^\"_2+a_1(t)x'+a_2(t)x=0$即$x_2(t)$是已知方程的解。\n",
    "\n",
    "(2)因为$x_1,x_2$为方程的解，得到\n",
    "\n",
    "$\\begin{bmatrix}x_1&x_2\\\\x'_1&x'_2\\end{bmatrix}=W(t_0)e^{-\\int^t_{t_0}a_1(s)ds}$\n",
    "\n",
    "即$x_1x'_2-x'_1x_2=W(t_0)e^{-\\int^t_{t_0}a_1(s)ds}$\n",
    "\n",
    "方程两边同时除以$x^2_1$,则有$\\frac{d(\\frac{x_2}{x_1})}{dt}=\\frac{W(t_0)}{x^2_1}e^{-\\int^t_{t_0}a_1(s)ds}$\n",
    "\n",
    "于是$\\frac{x_2}{x_1}=c_1\\int\\frac{1}{x^2_1}e^{-\\int^t_{t_0}a_1(s)ds}dt+c_2$\n",
    "\n",
    "即$x_2=(c_1\\int\\frac{1}{x^2_1}e^{-\\int^t_{t_0}a_1(s)ds}dt+c_2)x_1$\n",
    "\n",
    "取$c_1=1,c_2=0$,得$x_2=x_1\\int\\frac{1}{x^2_1}e^{-\\int^t_{t_0}a_1(s)ds}dt$\n",
    "\n",
    "从而原方程的通解可以表示为$x=x_1[c_1\\int\\frac{1}{x^2_1}exp(-\\int^t_{t_0}a(s)ds)dt+c_2]$，其中$c_1,c_2$为任意常数，$t_0,t\\in[a,b]$"
   ]
  },
  {
   "cell_type": "markdown",
   "metadata": {},
   "source": [
    "# <font color='red'>A 26/10"
   ]
  },
  {
   "cell_type": "code",
   "execution_count": null,
   "metadata": {
    "collapsed": true
   },
   "outputs": [],
   "source": []
  }
 ],
 "metadata": {
  "kernelspec": {
   "display_name": "SageMath 7.3",
   "language": "",
   "name": "sagemath"
  },
  "language_info": {
   "codemirror_mode": {
    "name": "ipython",
    "version": 2
   },
   "file_extension": ".py",
   "mimetype": "text/x-python",
   "name": "python",
   "nbconvert_exporter": "python",
   "pygments_lexer": "ipython2",
   "version": "2.7.10"
  }
 },
 "nbformat": 4,
 "nbformat_minor": 0
}
