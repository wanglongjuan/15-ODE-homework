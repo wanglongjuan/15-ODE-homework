{
 "cells": [
  {
   "cell_type": "markdown",
   "metadata": {
    "collapsed": true
   },
   "source": [
    "###  $1.设x(t)和y(t)是区间[a,b]上的连续函数,证明:如果在区间[a,b]上有\\frac{x(t)}{y(t)}\\neq 常数或\\frac{y(t)}{x(t)}\\neq常数,则x(t)和y(t)在区间[a,b]上线性无关.(提示:用反证法)$\n"
   ]
  },
  {
   "cell_type": "markdown",
   "metadata": {},
   "source": [
    "$$ 解:假设x(t)和y(t)在区间[a,b]上线性相关,那么存在不全为零的常数c_1,c_2使得等式c_1x(t)+c_2y(t)\\equiv0,t\\in[a,b]成立.$$\n",
    "\n",
    "$$ 如果函数x(t)=0且y(t)=0同时成立,否则\\frac{x(t)}{y(t)}和\\frac{y(t)}{x(t)}就不存在,矛盾.$$\n",
    "\n",
    "$$ 而如果函数x(t)=0,y(t)=0其中之一成立,则\\frac{x(t)}{y(t)},\\frac{y(t)}{x(t)}其中之一为常数成立,与已知条件矛盾,故不成立.$$\n",
    "\n",
    "$$ 经过移项可得\\frac{x(t)}{y(t)}=-\\frac{c_2}{c_1}或\\frac{y(t)}{x(t)}=-\\frac{c_1}{c_2}$$\n",
    "\n",
    "$$ 产生矛盾,所以x(t)和y(t)在区间[a,b]上线性无关.$$\n"
   ]
  },
  {
   "cell_type": "markdown",
   "metadata": {},
   "source": [
    "## $2.证明非齐次线性微分方程的叠加原理:设x_1(t),x_2(t)分别是非齐次线性微分方程\\frac{\\mathrm d^nx}{\\mathrm d t^n}+a_1(t)\\frac{\\mathrm d^{n-1}x}{\\mathrm d t^{n-1}}+\\cdots+a_n(t)x=f_1(t),\\frac{\\mathrm d^nx}{\\mathrm d t^n}+a_1(t)\\frac{\\mathrm d^{n-1}x}{\\mathrm d t^{n-1}}+\\cdots+a_n(t)x=f_2(t)的解,则x_1(t)+x_2(t)是方程\\frac{\\mathrm d^nx}{\\mathrm d t^n}+a_1(t)\\frac{\\mathrm d^{n-1}x}{\\mathrm d t^{n-1}}+\\cdots+a_n(t)x=f_1(t)+f_2(t)的解.$"
   ]
  },
  {
   "cell_type": "markdown",
   "metadata": {},
   "source": [
    "$$ 解:由题知\\frac{\\mathrm d^nx_1(t)}{\\mathrm d t^n}+a_1(t)\\frac{\\mathrm d^{n-1}x_1(t)}{\\mathrm d t^{n-1}}+\\cdots+a_n(t)x_1(t)=f_1(t)以及\\frac{\\mathrm d^nx_2(t)}{\\mathrm d t^n}+a_1(t)\\frac{\\mathrm d^{n-1}x_2(t)}{\\mathrm d t^{n-1}}+\\cdots+a_n(t)x_2(t)=f_2(t)成立$$\n",
    "$$ 所以有\\frac{\\mathrm d^nx_1(t)}{\\mathrm d t^n}+\\frac{\\mathrm d^nx_2(t)}{\\mathrm d t^n}+a_1(t)\\frac{\\mathrm d^{n-1}x_1(t)}{\\mathrm d t^{n-1}}+a_1(t)\\frac{\\mathrm d^{n-1}x_2(t)}{\\mathrm d t^{n-1}}+\\cdots+a_n(t)x_1(t)+a_n(t)x_2(t)=f_1(t)+f_2(t)$$\n",
    "$$上式可化为\\frac{\\mathrm d^n[x_1(t)+x_2(t)]}{\\mathrm d t^n}+a_1(t)\\frac{\\mathrm d^{n-1}[x_1(t)+x_2(t)}{\\mathrm d t^{n-1}}+\\cdots+a_n(t)[x_1(t)+x_2(t)]=f_1(t)+f_2(t)$$\n",
    "$$ 即知x_1(t),x_2(t)是方程\\frac{\\mathrm d^nx}{\\mathrm d t^n}+a_1(t)\\frac{\\mathrm d^{n-1}x}{\\mathrm d t^{n-1}}+\\cdots+a_n(t)x=f_1(t)+f_2(t)的解.$$"
   ]
  },
  {
   "cell_type": "markdown",
   "metadata": {},
   "source": [
    "## $3.已知齐次线性微分方程的基本解组x_1,x_2,求下列方程对应的非齐次线性微分方程的通解:$\n",
    "## $(1)x''-x=\\cos t,x_1=e^t,x_2=e^{-t}$\n",
    "## $(3)x''+4x=t\\sin 2t,x_1=\\cos 2t,x_2=\\sin 2t$\n",
    "## $(5)t^2x''-tx'+x=6t+34t^2,x_1=t,x_2=t\\ln t$"
   ]
  },
  {
   "cell_type": "markdown",
   "metadata": {},
   "source": [
    " $$ (1)解:应用常数变易法,令x(t)=c_1(t)e^t+c_2(t)e^{-t}$$\n",
    " \n",
    " $$ 代入方程得c'_1(t)和c'_2(t)的两个方程e^{t}c'_1(t)+e^{-t}c'_2(t)=0 $$\n",
    " \n",
    " $$ e^{t}c'_1(t)-e^{-t}c'_2(t)=\\cos t$$\n",
    " \n",
    " $$ 解得c'_1(t)=\\frac{\\cos t}{2e^t}$$\n",
    " \n",
    " $$ c'_2(t)=-\\frac{\\cos te^{t}}{2}由此即可解得c_1(t)=\\frac{\\sin t-\\cos t}{4}e^{-t}+\\gamma_1 $$\n",
    " \n",
    " $$ 由此即可解得c_1(t)=\\frac{\\sin t-\\cos t}{4}e^{-t}+\\gamma_1$$\n",
    " \n",
    " $$c_2(t)=-\\frac{\\sin t+\\cos t}{4}e^{t}+\\gamma_2$$\n",
    " \n",
    " $$ 于是原方程的通解为x(t)=\\frac{\\sin t-\\cos t}{4}-\\frac{\\sin t+\\cos t}{4}+\\gamma_1e^{t}+\\gamma_2e^{-t}=\\gamma_1e^{t}+\\gamma_2e^{-t}\n",
    " -\\frac{\\cos t}{2},(其中\\gamma_1,\\gamma_2为任意常数)$$"
   ]
  },
  {
   "cell_type": "markdown",
   "metadata": {},
   "source": [
    " $$(3)解:)解:应用常数变易法,令x(t)=c_1(t)\\cos 2t+c_2(t)\\sin 2t $$\n",
    " \n",
    " $$ 将它代入方程,则可得决定c'_1(t)和c'_2(t)的两个方程\\cos 2tc'_1(t)+\\sin 2tc'_2(t)=0 $$\n",
    " \n",
    " $$ -2\\sin 2tc'_1(t)+2\\cos 2tc'_2(t)=t\\sin 2t$$\n",
    " \n",
    " $$ 解得c'_1(t)=-\\frac{t\\sin^2{2t}}{2} $$\n",
    " \n",
    " $$ c'_2(t)=\\frac{t\\sin 2t\\cos 2t}{2}由此即可解得c_1(t)=\\frac{1}{16}(t\\sin 4t+\\frac{1}{4}\\cos 4t)-\\frac{1}{8}t^2+\\gamma_1$$\n",
    " \n",
    " $$ 由此即可解得c_1(t)=\\frac{1}{16}(t\\sin 4t+\\frac{1}{4}\\cos 4t)-\\frac{1}{8}t^2+\\gamma_1 $$\n",
    " \n",
    " $$c_2(t)=\\frac{1}{16}(\\frac{1}{4}\\sin 4t-t\\cos 4t)+\\gamma_2$$\n",
    " \n",
    " $$ 于是原方程的通解为x(t)=\\gamma_1\\cos 2t+\\gamma_2\\sin 2t-\\frac{1}{8}t^2\\cos 2t+\\frac{1}{16}t\\sin 2t+\\frac{1}{64}\\cos 2t,(其中\\gamma_1,\\gamma_2为任意常数)$$"
   ]
  },
  {
   "cell_type": "markdown",
   "metadata": {},
   "source": [
    " $$ (5) 解:应用常数变易法,令x(t)=c_1(t)t+c_2(t)t\\ln t,$$\n",
    " \n",
    " $$ 将它代入方程,则可得决定c'_1(t)和c'_2(t)的两个方程tc'_1(t)+t\\ln tc'_2(t)=0 $$\n",
    " \n",
    " $$ c'_1(t)+(1+\\ln t)c'_2(t)=\\frac{6}{t}+34 $$\n",
    " \n",
    " $$ 解得c'_1(t)=-\\frac{6}{t}\\ln t-34\\ln t,c'_2(t)=\\frac{6}{t}+34$$\n",
    " \n",
    " $$ 由此即可解得c_1(t)=34t-34t\\ln t-3\\ln^2 t+\\gamma_1,c_2(t)=34t+6\\ln t+\\gamma_2 $$\n",
    " \n",
    " $$ 于是原方程的通解为x(t)=\\gamma_1t+\\gamma_2t\\ln t+34t^2+3t\\ln^2 t,(其中\\gamma_1,\\gamma_2为任意常数)$$"
   ]
  },
  {
   "cell_type": "markdown",
   "metadata": {},
   "source": [
    "## 6.假设$x_1(t)\\neq 0$是二阶齐次线性微分方程$x''+a_1(t)x'+a_2(t)x=0$的解,这里$a_1(t)$和$a_2(t)$于区间$[a,b]$上连续,试证: \n",
    "## (1)$x_2(t)$为方程的解的充要条件是$$W'+a_1(t)W=0$$\n",
    "## (2)方程的通解可表示为$$x=x_1[c_1\\int \\frac{1}{x^2_1}e^{-\\int ^t_{t_0}a_1(s)\\mathrm d s}\\mathrm d t+c_2],(其中c_1,c_2为任意常数,t_0,t\\in [a,b])$$"
   ]
  },
  {
   "cell_type": "markdown",
   "metadata": {},
   "source": [
    "$$ (1)解:必要性:因为x_2(t)也是方程的解可知W'(t)=\\begin{vmatrix}x_1(t)  &x_2(t)\\\\x''_1(t)&  x''_2(t)\\end{vmatrix}+0=\\begin{vmatrix}x_1(t)  &x_2(t)\\\\-a_1(t)x'_1(t)-a_2(t)x_1(t)&  -a_1(t)x'_1(t)-a_2(t)x_1(t)\\end{vmatrix}=\\begin{vmatrix}x_1(t)  &x_2(t)\\\\-a_1(t)x'_1(t)&  -a_1(t)x'_1(t)\\end{vmatrix}+\\begin{vmatrix}x_1(t)  &x_2(t)\\\\-a_2(t)x_1(t)& -a_2(t)x_1(t)\\end{vmatrix}=-a_1(t)W $$\n",
    "\n",
    "$$ 所以W'+a_1(t)W=0固命题必要性成立.$$\n",
    "\n",
    "$$ 充分性:因为W'+a_1(t)W,所以将其展开得x_1(t)x''_2(t)-x_2(t)x''_1(t)+a_1(t)[x_1(t)x'_2(t)-x_2(t)x'_1(t)]=0 $$.\n",
    "\n",
    "$$ 亦即x_1(t)[x''_2(t)+a_1(t)x'_2(t)]=x_2(t)[x''_1(t)+a_1(t)x'_1(t)]=x_2(t)(-a_2(t)x_1(t))$$\n",
    "\n",
    "$$ 可以看出x_1(t)[x''_2(t)+a_1(t)x'_2(t)+a_2(t)x_2(t)]=0.又因为x_1(t\\neq0),所以x''_2(t)+a_1(t)x'_2(t)+a_2(t)x_2(t)=0即x_2(t)是方程的解.$$\n",
    "\n",
    "$$  (2)解:将x_1(t)\\int\\frac{1}{x^2_1(t)}e^{-\\int^t_{t_0}a_1(s)\\mathrm d s}\\mathrm d t代入方程x''+a_1(t)x'+a_2(t)x=0中$$\n",
    "\n",
    "$$ 知其满足方程,而W(t)=[x_1(t),x_1(t)\\int\\frac{1}{x^2_1(t)}e^{-\\int^t_{t_0}a_1(s)\\mathrm d s}\\mathrm d t]\\neq0$$.\n",
    "\n",
    "$$ 两者线性无关.得通解x=x_1[c_1\\int \\frac{1}{x^2_1}e^{-\\int ^t_{t_0}a_1(s)\\mathrm d s}\\mathrm d t+c_2]$$\n",
    "\n",
    "$$ 应用第五题结论有W(t)=W(t_0)e^{-\\int^t_{t_0}a_1(s)\\mathrm d s}$$\n",
    "\n",
    "$$x_1(t)x'_2(t)-x_2(t)x'_1(t)=W(t_0)e^{-\\int^t_{t_0}a_1(s)\\mathrm d s}$$\n",
    "\n",
    "$$ 两边同时除以x^2_1(t)可得\\frac{\\mathrm d(\\frac{x_2(t)}{x_1(t)})}{\\mathrm d t}=\\frac{c_1e^{-\\int^t_{t_0}a_1(s)\\mathrm d s}}{x_1(t)},(其中c_1=W(t_0))$$"
   ]
  },
  {
   "cell_type": "markdown",
   "metadata": {
    "collapsed": true
   },
   "source": [
    "# <font color='red'>A 26/10"
   ]
  },
  {
   "cell_type": "code",
   "execution_count": null,
   "metadata": {
    "collapsed": true
   },
   "outputs": [],
   "source": []
  }
 ],
 "metadata": {
  "kernelspec": {
   "display_name": "SageMath 7.3",
   "language": "",
   "name": "sagemath"
  },
  "language_info": {
   "codemirror_mode": {
    "name": "ipython",
    "version": 2
   },
   "file_extension": ".py",
   "mimetype": "text/x-python",
   "name": "python",
   "nbconvert_exporter": "python",
   "pygments_lexer": "ipython2",
   "version": "2.7.10"
  }
 },
 "nbformat": 4,
 "nbformat_minor": 0
}
