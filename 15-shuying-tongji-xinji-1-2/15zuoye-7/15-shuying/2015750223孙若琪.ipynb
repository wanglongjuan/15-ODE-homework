{
 "cells": [
  {
   "cell_type": "markdown",
   "metadata": {},
   "source": [
    "$P131$ "
   ]
  },
  {
   "cell_type": "markdown",
   "metadata": {},
   "source": [
    "$1.设x(t)和y(t)是区间a \\leq t \\leq b上的连续函数,证明：如果在区间a \\leq t \\leq b上有 \\frac{x(t)}{y(t)} \\neq 常数或\\frac{y(t)}{x(t)} \\neq 常数,则x(t)和y(t)在区间a \\leq t \\leq b上线性无关。$"
   ]
  },
  {
   "cell_type": "markdown",
   "metadata": {},
   "source": [
    "$解：反证法。假设x(t)和y(t)在区间a \\leq t \\leq b上线性相关，则存在不全为0的常数α和β使得αx(t)+βy(t)=0，其中a \\leq t \\leq b$"
   ]
  },
  {
   "cell_type": "markdown",
   "metadata": {},
   "source": [
    "$不妨设，x(t)不为0，则 \\frac{y(t)}{x(t)}=-\\frac{α}{β}，显然-\\frac{α}{β}为常数，假设矛盾。$"
   ]
  },
  {
   "cell_type": "markdown",
   "metadata": {},
   "source": [
    "$所以假设不成立，证毕$"
   ]
  },
  {
   "cell_type": "markdown",
   "metadata": {},
   "source": [
    " $2.证明非齐次线性微分方程的叠加原理：设x_1(t),x_2(t)分别是非齐次线性微分方程:\\frac{\\mathrm d^{n} x}{\\mathrm d t^{n}}+a_1(t)\\frac{\\mathrm d^{n-1} x}{\\mathrm d t^{n-1}}+ \\cdots+a_n(t)x=f_1(t),\\frac{\\mathrm d^{n} x}{\\mathrm d t^{n}}+a_1(t)\\frac{\\mathrm d^{n-1} x}{\\mathrm d t^{n-1}}+ \\cdots+a_n(t)x=f_2(t)的解，则x_1(t)+x_2(t)是方程:\\frac{\\mathrm d^{n} x}{\\mathrm d t^{n}}+a_1(t)\\frac{\\mathrm d^{n-1} x}{\\mathrm d t^{n-1}}+ \\cdots+a_n(t)x=f_1(t)+f_2(t)的解.$"
   ]
  },
  {
   "cell_type": "markdown",
   "metadata": {},
   "source": [
    "$解：因为x_1(t),x_2(t)分别是非齐次线性微分方程的解，$"
   ]
  },
  {
   "cell_type": "markdown",
   "metadata": {},
   "source": [
    "$所以可得\\frac{d^nx_1(t)}{dt^n}+a_1(t)\\frac{d^{n-1}x_1(t)}{dt^{n-1}}+\\cdots+a_n(t)x_1(t)=f_1(t)且\\frac{d^nx_2(t)}{dt^n}+a_1(t)\\frac{d^{n-1}x_2(t)}{dt^{n-1}}+\\cdots+a_n(t)x_2(t)=f_2(t)$"
   ]
  },
  {
   "cell_type": "markdown",
   "metadata": {},
   "source": [
    "$两式相加，并利用导数的运算法则，可以得到：$"
   ]
  },
  {
   "cell_type": "markdown",
   "metadata": {},
   "source": [
    "$\\frac{d^n (x_1(t)+x_2(t))} {dt^n}+a_1(t)\\frac{d^{n-1} (x_1(t)+x_2(t))} {dt^{n-1}}+\\cdots+a_n(t)(x_1(t)+x_2(t))=f_1(t)+f_2(t)$"
   ]
  },
  {
   "cell_type": "markdown",
   "metadata": {},
   "source": [
    "$即x_1(t)+x_2(t)是方程\\frac{d^n x} {dt^n}+a_1(t)\\frac{d^{n-1} x} {dt^{n-1}}+\\cdots+a_n(t)x=f_1(t)+f_2(t)的解$"
   ]
  },
  {
   "cell_type": "markdown",
   "metadata": {},
   "source": [
    "$3.已知齐次线性微分方程的基本解组x_1,x_2，求下列方程对应的非齐次线性微分方程的通解$"
   ]
  },
  {
   "cell_type": "markdown",
   "metadata": {},
   "source": [
    "$(1)x''-x=\\cos t,x_1=e^t,x_2=e^{-t}$"
   ]
  },
  {
   "cell_type": "markdown",
   "metadata": {},
   "source": [
    "$解：应用常数变易法，令x=C_1(t)e^t+C_2(t)e^{-t},并将它代入方程$"
   ]
  },
  {
   "cell_type": "markdown",
   "metadata": {},
   "source": [
    "$e'C'_1(t)+e^{-t}C'_2(t)=0及e'C'_1(t)+e^{-t}C'_2(t)=\\cos t$"
   ]
  },
  {
   "cell_type": "markdown",
   "metadata": {},
   "source": [
    "$解得C'_1(t)=\\frac{1} {2}\\cos t e^{-t},C'_2(t)=-\\frac{1} {2}\\cos t e^t$"
   ]
  },
  {
   "cell_type": "markdown",
   "metadata": {},
   "source": [
    "$积分得到C_1(t)=\\frac{\\sin t-\\cos t} {4} e^{-t}+\\gamma_1，C_2(t)=-\\frac{\\sin t+\\cos t} {4} e^{-t}+\\gamma_2$"
   ]
  },
  {
   "cell_type": "markdown",
   "metadata": {},
   "source": [
    "$于是方程的通解为x=\\gamma_1e^t+\\gamma_2e^{-t}-\\frac{1}{2}\\cos t.其中，\\gamma_1,\\gamma_2为任意常数$"
   ]
  },
  {
   "cell_type": "markdown",
   "metadata": {},
   "source": [
    "$(3)x''+4x=t\\sin 2t,x_1=\\cos 2t,x_2=\\sin 2t$"
   ]
  },
  {
   "cell_type": "markdown",
   "metadata": {},
   "source": [
    "$解：令x=c_1(t)\\cos 2t+c_2(t)\\sin 2t，将它带入方程，则可得决定c_1'(t)$和$c_2'(t)的方程组$"
   ]
  },
  {
   "cell_type": "markdown",
   "metadata": {},
   "source": [
    "$-2c'_1(t)\\sin 2t+2c'_2(t)\\cos t=t\\sin 2t及c'_1(t)\\cos 2t+c'_2(t)\\sin 2t=0$"
   ]
  },
  {
   "cell_type": "markdown",
   "metadata": {},
   "source": [
    "$解得c'_1(t)=\\frac{t\\cos 4t-t}{4},c'_2=\\frac{t\\sin 4t}{4}$"
   ]
  },
  {
   "cell_type": "markdown",
   "metadata": {},
   "source": [
    "$积分得到c_1(t)=\\frac{1}{16}t \\sin 4t+\\frac{1}{64}\\cos 4t-\\frac{1}{8}t^2+r_1;c_2(t)=-\\frac{1}{16}t \\cos 4t+\\frac{1}{64}\\sin 4t+r_2$"
   ]
  },
  {
   "cell_type": "markdown",
   "metadata": {},
   "source": [
    "$于是方程的通解为x=r_1\\cos 2t+r_2\\sin 2t+\\frac{1}{16}t\\sin 2t-\\frac{1}{8}t^2\\cos 2t其中，r_1,r_2为任意常数$"
   ]
  },
  {
   "cell_type": "markdown",
   "metadata": {},
   "source": [
    "$(5)t^2x''-tx'+x=6t+34t^2,x_1=t,x_2=t\\ln t$"
   ]
  },
  {
   "cell_type": "markdown",
   "metadata": {},
   "source": [
    "$解：原方程可化为x''-\\frac{1}{t}x'+\\frac{1}{t^2}x=\\frac{6}{t}+34$"
   ]
  },
  {
   "cell_type": "markdown",
   "metadata": {},
   "source": [
    "$应用常数变易法，令x=c_1(t)t+c_2(t)t\\ln t。将它带入方程，$"
   ]
  },
  {
   "cell_type": "markdown",
   "metadata": {},
   "source": [
    "$tc'_1(t)+t\\ln tc'_2(t)=0及c'_1(t)+(\\ln t+1)c'_2(t)=\\frac{6}{t}+34$"
   ]
  },
  {
   "cell_type": "markdown",
   "metadata": {},
   "source": [
    "$解出值并积分得c_1(t)=-34t\\ln t-3(\\ln t)^2+r_1且c_2(t)=34t+6\\ln t+r_2$"
   ]
  },
  {
   "cell_type": "markdown",
   "metadata": {},
   "source": [
    "$于是方程的通解为x=r_1t+r_2t\\ln t+34t^2+3t(\\ln t)^2.其中，r_1,r_2为任意常数$"
   ]
  },
  {
   "cell_type": "markdown",
   "metadata": {},
   "source": [
    "$6.假设x_1(t)\\not=0是二阶齐次线性微分方程x''+a_1(t)x'+a_2(t)x=0的解，这里a_1(t)和a_2(t)于区间[a,b]上连续，试证：$"
   ]
  },
  {
   "cell_type": "markdown",
   "metadata": {},
   "source": [
    " $（1）x_2(t)为方程的解的充要条件是 W'[x_1,x_2]+a_1W[x_1,x_2]=0$"
   ]
  },
  {
   "cell_type": "markdown",
   "metadata": {},
   "source": [
    "$（1）证明：充分性：由于W'[x_1,x_2]=\\begin{vmatrix}x_1'&x_2'\\\\x_1'&x_2'\\\\ \\end{vmatrix} +\\begin{vmatrix}x_1&x_2\\\\x_1''&x_2''\\\\ \\end{vmatrix}=\\begin{vmatrix}x_1&\n",
    "x_2\\\\x_1''&x_2''\\\\ \\end{vmatrix}$"
   ]
  },
  {
   "cell_type": "markdown",
   "metadata": {},
   "source": [
    "$\\begin{aligned}W'[x_1,x_2]+a_1(t)W[x_1,x_2]\\\\&=\\begin{vmatrix}x_1&x_2\\\\x_1''&x_2''\\\\ \\end{vmatrix}+a_1(t)\\begin{vmatrix}x_1&x_2\\\\x_1'&x_2'\\\\ \\end{vmatrix}\\\\&=\\begin{vmatrix}x_1&x_2\\\\x_1''+a_1(t)x_1'&x_2''+a_1(t)x_2'\\\\ \\end{vmatrix}=0\\end{aligned}$"
   ]
  },
  {
   "cell_type": "markdown",
   "metadata": {},
   "source": [
    "而$x_1(t)\\not=0$是已知方程的解，有\n",
    "\n",
    "$\\begin{vmatrix}x_1&x_2\\\\-a_2(t)x_1&x_2''+a_1(t)x_2'\\\\ \\end{vmatrix}=x_1{\\begin{vmatrix}1&x_2\\\\-a_2(t)&x_2''+a_1(t)x_2'\\\\ \\end{vmatrix}}=0$\n",
    "\n",
    "即$x_2(t)$是已知方程的解"
   ]
  },
  {
   "cell_type": "markdown",
   "metadata": {},
   "source": [
    "必要性：\n",
    "\n",
    "$W[x_1,x_2]$是方程的解$x_1(t),x_2(t)$的朗斯基行列式，则\n",
    "\n",
    "$$\\begin{aligned}W'[x_1,x_2]=\\begin{vmatrix}x_1&x_2\\\\x_1''&x_2''\\\\ \\end{vmatrix}\\\\&=\\begin{vmatrix}x_1&x_2\\\\x_1''+a_2(t)x_1&x_2''+a_2(t)x_2\\\\ \\end{vmatrix}\\\\&=\\begin{vmatrix}1&x_2\\\\-a_1(t)x_1'&a_1(t)x_2'\\\\ \\end{vmatrix}\\\\&=-a_1(t)\\begin{vmatrix}x_1&\n",
    "x_2\\\\x_1'&x_2'\\\\ \\end{vmatrix}\\\\&=-a_1(t)W[x_1,x_2]\\end{aligned}$$\n",
    "\n",
    "即$W[x_1,x_2]满足W'[x_1,x_2]+a_1(t)W[x_1,x_2]=0$"
   ]
  },
  {
   "cell_type": "markdown",
   "metadata": {},
   "source": [
    "$(2)方程的通解可表为x=x_1[c_1\\int\\mathrm {\\frac{1}{x^2}exp(-\\int_{t_0}{t}\\mathrm a_1(s)\\,\\mathrm{d}s)}\\,\\mathrm {d}t+c_2].其中c_1,c_2为任意常数，t_0,t\\in[a,b]$"
   ]
  },
  {
   "cell_type": "markdown",
   "metadata": {},
   "source": [
    " $证明:因为x_1,x_2为方程解，则由刘维尔公式\\begin{vmatrix}x_1&x_2\\\\x_1'&x_2'\\\\ \\end{vmatrix}=W(t_0)e^{-\\int_{t_0}^{t}\\mathrm a_1(s)\\,\\mathrm{d}s}$"
   ]
  },
  {
   "cell_type": "markdown",
   "metadata": {},
   "source": [
    "$即x_1x_2'-x_1'x_2=W(t_0）e^{-\\int_{t_0}^{t}\\mathrm a_1(s)\\,\\mathrm{d}s}$"
   ]
  },
  {
   "cell_type": "markdown",
   "metadata": {},
   "source": [
    "$方程两边同乘以\\frac{1}{x_1^2},得到\\frac{d(\\frac{x_2}{x_1})}{dt}=\\frac{W(t_0)}{x_1^2}e^{-\\int_{t_0}^{t}\\mathrm a_1(s)\\,\\mathrm{d}s}$"
   ]
  },
  {
   "cell_type": "markdown",
   "metadata": {},
   "source": [
    "$于是\\frac{x_2}{x_1}c_1\\int\\mathrm {\\frac{1}{x^2}e^{-\\int_{t_0}^{t}\\mathrm a_1(s)\\,\\mathrm{d}s}\\,\\mathrm{d}t}+c_2.即x_2=(c_1\\int\\mathrm {\\frac{1}{{x_1}^2}e^{-\\int_{t_0}^{t}\\mathrm a_1(s)\\,\\mathrm{d}s}}\\,\\mathrm{d}t+c_2)x_1$"
   ]
  },
  {
   "cell_type": "markdown",
   "metadata": {},
   "source": [
    "$取c_1=1,c_2=0得到x_2=x_1{\\int\\mathrm {\\frac{1}{{x_1}^2}e^{-\\int_{t_0}^{t}\\mathrm a_1(s)\\,\\mathrm{d}s}}\\,\\mathrm{d}t}$"
   ]
  },
  {
   "cell_type": "markdown",
   "metadata": {},
   "source": [
    "$又有W(t)=\\begin{vmatrix}x_1&x_2\\\\x_1'&x_2'\\\\ \\end{vmatrix}=e^{-\\int_{t_0}^{t}\\mathrm a_1(s)\\,\\mathrm{d}s}\\not=0$"
   ]
  },
  {
   "cell_type": "markdown",
   "metadata": {},
   "source": [
    "$从而方程的通解为：x=x_1[c_1\\int\\mathrm {\\frac{1}{x^2}exp(-\\int_{t_0}{t}\\mathrm a_1(s)\\,\\mathrm{d}s)}\\,\\mathrm {d}t+c_2]其中c_1,c_2为任意常数，t_0,t\\in[a,b]$"
   ]
  },
  {
   "cell_type": "markdown",
   "metadata": {
    "collapsed": true
   },
   "source": [
    "# <font color='red'>A 26/10"
   ]
  },
  {
   "cell_type": "code",
   "execution_count": null,
   "metadata": {
    "collapsed": true
   },
   "outputs": [],
   "source": []
  }
 ],
 "metadata": {
  "kernelspec": {
   "display_name": "SageMath 7.3",
   "language": "",
   "name": "sagemath"
  },
  "language_info": {
   "codemirror_mode": {
    "name": "ipython",
    "version": 2
   },
   "file_extension": ".py",
   "mimetype": "text/x-python",
   "name": "python",
   "nbconvert_exporter": "python",
   "pygments_lexer": "ipython2",
   "version": "2.7.10"
  }
 },
 "nbformat": 4,
 "nbformat_minor": 0
}
