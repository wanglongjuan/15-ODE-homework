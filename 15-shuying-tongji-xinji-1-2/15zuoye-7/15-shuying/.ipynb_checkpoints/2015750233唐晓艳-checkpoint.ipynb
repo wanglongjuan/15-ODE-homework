{
 "cells": [
  {
   "cell_type": "markdown",
   "metadata": {},
   "source": [
    "1.设$x(t)$和$y(t)$是区间$a\\leq t\\leq b$上的连续函数，证明：如果在区间$a\\leq t\\leq b$上有$\\frac{x(t)}{y(t)}\\neq$常数或$\\frac{y(t)}{x(t)}\\neq$常数，则$x(t)$和$y(t)$在区间$a\\leq t\\leq b$上线性无关.（提示：用反证法）"
   ]
  },
  {
   "cell_type": "markdown",
   "metadata": {},
   "source": [
    "证明：反证法.\n",
    "      假设$x(t)$和$y(t)$在区间$[a,b]$上线性相关，则存在不全为零的常数$C_1$和$C_2$使$$C_1x(t)+C_2y(t)\\equiv 0,t\\in[a,b].$$\n",
    "      若$C_1\\neq 0$,则$\\frac{y(t)}{x(t)}=-\\frac{C_1}{C_2}=常数$.\n",
    "      若$C_1\\neq 0$,则$\\frac{x(t)}{y(t)}=-\\frac{C_2}{C_1}=常数$.\n",
    "      两种情况下都与$\\frac{x(t)}{y(t)}\\neq$常数或$\\frac{y(t)}{x(t)}\\neq$常数矛盾，所以假设不成立，即证明了$x(t)$和$y(t)$在区间$[a,b]$上线性无关."
   ]
  },
  {
   "cell_type": "markdown",
   "metadata": {
    "collapsed": true
   },
   "source": [
    "2.证明非齐次线性微分方程的叠加原理：设$x_1(t),x_2(t)$分别是非齐次线性微分方程 \n",
    "  $$\n",
    "  \\begin{aligned}\n",
    "  \\frac{d^nx}{dt^n}+a_1(t)\\frac{d^{n-1}x}{dt^{n-1}n}+…+a_n(t)x&=f_1(t)\\\\\n",
    "  \\frac{d^nx}{dt^n}+a_1(t)\\frac{d^{n-1}x}{dt^{n-1}n}+…+a_n(t)x&=f_2(t)\\\\\n",
    "  \\end{aligned}\n",
    "  $$\n",
    "  的解，则$x_1(t)+x_2(t)$是方程$$\\frac{d^nx}{dt^n}+a_1(t)\\frac{d^{n-1}x}{dt^{n-1}n}+…+a_n(t)x=f_1(t)+f_2(t)$$的解."
   ]
  },
  {
   "cell_type": "markdown",
   "metadata": {},
   "source": [
    "证明：$x_1(t),x_2(t)$分别是非齐次线性微分方程\n",
    "     $$\n",
    "     \\begin{aligned}\n",
    "     \\frac{d^nx}{dt^n}+a_1(t)\\frac{d^{n-1}x}{dt^{n-1}n}+…+a_n(t)x&=f_1(t)\\\\\n",
    "     \\frac{d^nx}{dt^n}+a_1(t)\\frac{d^{n-1}x}{dt^{n-1}n}+…+a_n(t)x&=f_2(t)\\\\\n",
    "     \\end{aligned}\n",
    "     $$\n",
    "     的解，所以满足\n",
    "     $$\n",
    "     \\begin{aligned}\n",
    "     \\frac{d^nx_1(t)}{dt^n}+a_1(t)\\frac{d^{n-1}x_1(t)}{dt^{n-1}n}+…+a_n(t)x_1(t)&=f_1(t)\\\\\n",
    "     \\frac{d^nx_2(t)}{dt^n}+a_1(t)\\frac{d^{n-1}x_2(t)}{dt^{n-1}n}+…+a_n(t)x_2(t)&=f_2(t)\\\\\n",
    "     \\end{aligned}\n",
    "     $$\n",
    "     两式相加并利用导数的运算法则有\n",
    "     $$\\frac{d^n（x_1(t)+x_2(t)）}{dt^n}+a_1(t)\\frac{d^{n-1}（x_1(t)+x_2(t)）}{dt^{n-1}n}+…+a_n(t)（x_1(t)+x_2(t)）=f_1(t)$$\n",
    "     即$x_1(t)+x_2(t)$是方程$$\\frac{d^nx}{dt^n}+a_1(t)\\frac{d^{n-1}x}{dt^{n-1}n}+…+a_n(t)x=f_1(t)+f_2(t)$$的解."
   ]
  },
  {
   "cell_type": "markdown",
   "metadata": {},
   "source": [
    "3.已知齐次线性微分方程的基本解组$x_1,x_2$，求下列方程对应的非齐次线性微分方程的通解：\n",
    "（1）$x^n-x=cost,x_1=e^t,x_2=e^{-t};$\n",
    "（3）$x''+4x=tsin{2t},x_1=cos{2t},x_2=sin{2t};$\n",
    "（5）$t^2x''-tx'+x=6t+34t^2,x_1=t,x_2=tlnt;$"
   ]
  },
  {
   "cell_type": "markdown",
   "metadata": {},
   "source": [
    "解：(1)令$$x=C_1(t)e^t+C_2(t)e^{-t}$$\n",
    "    得两个方程$$e'{C_1}'(t)+e^{-t}{C_2}'(t)=0$$\n",
    "    及$$e'{C_1}'(t)-e^{-t}{C_2}'(t)=cost$$\n",
    "    解得$${C_1}'(t)=\\frac{1}{2}e^{-t}cost,{C_2}'(t)=-\\frac{1}{2}e^tcost$$\n",
    "    则$$C_1(t)=\\frac{sint-cost}{4}e^{-t}+\\gamma_1$$\n",
    "    $$C_2(t)=-\\frac{sint-cost}{4}e^t+\\gamma_2$$\n",
    "    所以原方程的通解为$$x=\\gamma_1e^t+\\gamma_2e^{-t}-\\frac{1}{2}cost$$"
   ]
  },
  {
   "cell_type": "markdown",
   "metadata": {},
   "source": [
    "(3)令$$x=C_1(t)cos{2t}+C_2(t)sin{2t}$$\n",
    "   得两个方程$$cos{2t}{C_1}'(t)+sin{2t}{C_2}'(t)=0$$\n",
    "   及$$-2sin{2t}{C_1}'(t)+2cos{2t}{C_2}'(t)=tsint$$\n",
    "   解得$${C_1}'(t)=-\\frac{1}{2}tsintsin{2t},{C_2}'(t)=\\frac{1}{2}tsintcos{2t}$$\n",
    "   则$$C_1(t)=\\frac{1}{4}[\\frac{1}{3}tsin{3t}+\\frac{1}{9}cos{3t}-tsint-cost]+C_1$$\n",
    "   $$C_2(t)=\\frac{1}{4}[-\\frac{1}{3}tcos{3t}+\\frac{1}{9}sin{3t}-tcost-sint]+C_2$$\n",
    "   所以原方程的通解为$$x=C_1cos{2t}+C_2sin{2t}+\\frac{t}{3}sint-\\frac{2}{9}cost$$"
   ]
  },
  {
   "cell_type": "markdown",
   "metadata": {},
   "source": [
    "(5)方程化为$$x''-\\frac{1}{t}x'+\\frac{1}{t^2}x=\\frac{6}{t}+34$$\n",
    "   令$$x=tC_1(t)+tlntC_2(t)$$\n",
    "   得两个方程$$t{C_1}'(t)+tlnt{C_2}'(t)=0$$\n",
    "   及$${C_1}'(t)+(lnt+1){C_2}'(t)=\\frac{6}{t}+34$$\n",
    "   $${C_2}'(t)=\\frac{6}{t}+34$$\n",
    "   解得$$C_1(t)=-34tlnt-3(lnt)^2+C_1$$\n",
    "   $$C_2(t)=34t+6lnt+C_2$$\n",
    "   所以原方程的通解为$$x=C_1 t+C_2 tlnt+34t^2+3t(lnt)^2$$"
   ]
  },
  {
   "cell_type": "markdown",
   "metadata": {
    "collapsed": true
   },
   "source": [
    "6.假设$x_1(t)\\neq 0$是二次齐次线性微分方程$$x''+a_1(t)x'+a_2(t)x=0$$\n",
    "  的解，这里$a_1(t)$和$a_2(t)$于区间[a,b]上连续，试证：\n",
    "  （1）$x_2(t)$为方程的解的充要条件是$$W'[x_1,x_2]+a_1W[x_1,x_2]=0;$$\n",
    "  (2)方程的通解可表为$$x=x_1[c_1\\int {\\frac{1}{{x_1}^2}exp(-\\int_{t_0}^t\\mathrm a_1(s)\\,\\mathrm {d}s)}\\,\\mathrm {d}t+c_2],$$其中$c_1,c_2$为任意常数,$t_0,t\\in[a,b].$"
   ]
  },
  {
   "cell_type": "markdown",
   "metadata": {},
   "source": [
    "证明（1）充分性：$$W'[x_1,x_2]= \n",
    "\\begin{vmatrix} \n",
    "x_1'& x_2'\\\\ \n",
    "x_1'& x_2'\\\\ \n",
    "\\end{vmatrix} \n",
    "+\n",
    "\\begin{vmatrix} \n",
    "x_1& x_2\\\\ \n",
    "x_1''& x_2''\\\\ \n",
    "\\end{vmatrix}\n",
    "=\n",
    "\\begin{vmatrix} \n",
    "x_1& x_2\\\\ \n",
    "x_1''& x_2''\\\\ \n",
    "\\end{vmatrix}\n",
    "$$\n",
    "$$\n",
    "W'[x_1,x_2]+a_1(t)W[x_1,x_2]=\n",
    "\\begin{vmatrix} \n",
    "x_1& x_2\\\\ \n",
    "x_1''& x_2''\\\\ \n",
    "\\end{vmatrix}\n",
    "+a_1(t)\n",
    "\\begin{vmatrix} \n",
    "x_1& x_2\\\\ \n",
    "x_1'& x_2'\\\\ \n",
    "\\end{vmatrix}\n",
    "=\n",
    "\\begin{vmatrix} \n",
    "x_1& x_2\\\\ \n",
    "x_1''+a_1(t)x_1'&x_2''+a_1(t)x_2'\\\\ \n",
    "\\end{vmatrix}=0\n",
    "$$\n",
    "而$x_1(t)\\neq 0$是已知方程的解，则有\n",
    "$$\n",
    "\\begin{vmatrix} \n",
    "x_1& x_2\\\\ \n",
    "-a_2(t)x_1&x_2''+a_1(t)x_2'\\\\ \n",
    "\\end{vmatrix}\n",
    "=x_1\n",
    "\\begin{vmatrix} \n",
    "1& x_2\\\\ \n",
    "-a_2(t)&x_2''+a_1(t)x_2'\\\\ \n",
    "\\end{vmatrix}=0\n",
    "$$\n",
    "故有$$x_2''+a_1(t)x_2'+a_2(t)x=0$$\n",
    "即$x_2(t)$是已知方程的解.\n",
    "\n",
    "必要性：$W[x_1,x_2]$是方程的解$x_1(t),x_2(t)$的朗斯基行列式，所以\n",
    "$$W'[x_1,x_2]= \n",
    "\\begin{vmatrix} \n",
    "x_1& x_2\\\\ \n",
    "x_1''& x_2''\\\\ \n",
    "\\end{vmatrix}\n",
    "=\n",
    "\\begin{vmatrix} \n",
    "x_1& x_2\\\\ \n",
    "x_1''+a_2(t)x_1&x_2''+a_1(t)x_2\\\\ \n",
    "\\end{vmatrix}\n",
    "=\n",
    "\\begin{vmatrix} \n",
    "1& x_2\\\\ \n",
    "-a_1(t)&x_1'+a_1(t)x_2'\\\\ \n",
    "\\end{vmatrix}\n",
    "=-a_1(t)\n",
    "\\begin{vmatrix} \n",
    "x_1& x_2\\\\ \n",
    "x_1'& x_2'\\\\ \n",
    "\\end{vmatrix}\n",
    "=-a_1(t)W[x_1,x_2]\n",
    "$$\n",
    "即$W[x_1,x_2]$满足$W'[x_1,x_2]+a_1(t)W[x_1,x_2]=0$"
   ]
  },
  {
   "cell_type": "markdown",
   "metadata": {},
   "source": [
    "(2)因为$x_1,x_2$为方程解，由刘维尔公式\n",
    "$$\n",
    "\\begin{vmatrix} \n",
    "x_1& x_2\\\\ \n",
    "x_1'& x_2'\\\\ \n",
    "\\end{vmatrix}\n",
    "=w(t_0)e^{-\\int\\limits_{t_0}^t a_1(s) d s}\n",
    "$$\n",
    "即$$x_1 x_2'-x_1'x_2=W(t_0)e^{-\\int\\limits_{t_0}^t a_1(s) d s}$$\n",
    "两边同时乘以$\\frac{1}{x_1^2}$，\n",
    "$$\\frac{d(\\frac{x_2}{x_1})}{dt}=\\frac{W(t_0)}{x_1^2}e^{-\\int\\limits_{t_0}^t a_1(s) d s}$$\n",
    "于是$$\\frac{x_2}{x_1}=c_1\\int {\\frac{1}{x^2}e^{-\\int\\limits_{t_0}^t a_1(s) d s}}\\,\\mathrm {d}t+c_2$$\n",
    "即$$x_2=(c_1\\int {\\frac{1}{x^2}e^{-\\int\\limits_{t_0}^t a_1(s) d s}}\\,\\mathrm {d}t+c_2)x_1$$\n",
    "取$c_1=1,c_2=0$得$$x_2=x_1\\int {\\frac{1}{x^2}e^{-\\int\\limits_{t_0}^t a_1(s) d s}}\\,\\mathrm {d}t$$\n",
    "又$$W(t)=\n",
    "\\begin{vmatrix} \n",
    "x_1& x_2\\\\ \n",
    "x_1'& x_2'\\\\ \n",
    "\\end{vmatrix}\n",
    "=e^{-\\int\\limits_{t_0}^t a_1(s) d s}\\neq 0\n",
    "$$\n",
    "从而方程的通解可表为$$x=x_1[c_1\\int {\\frac{1}{{x_1}^2}exp(-\\int_{t_0}^t\\mathrm a_1(s)\\,\\mathrm {d}s)}\\,\\mathrm {d}t+c_2]$$\n",
    "\n",
    "\n",
    "\n"
   ]
  },
  {
   "cell_type": "markdown",
   "metadata": {
    "collapsed": true
   },
   "source": [
    "# <font color='red'>A 26/10"
   ]
  },
  {
   "cell_type": "code",
   "execution_count": null,
   "metadata": {
    "collapsed": true
   },
   "outputs": [],
   "source": []
  }
 ],
 "metadata": {
  "kernelspec": {
   "display_name": "SageMath 7.3",
   "language": "",
   "name": "sagemath"
  },
  "language_info": {
   "codemirror_mode": {
    "name": "ipython",
    "version": 2
   },
   "file_extension": ".py",
   "mimetype": "text/x-python",
   "name": "python",
   "nbconvert_exporter": "python",
   "pygments_lexer": "ipython2",
   "version": "2.7.10"
  }
 },
 "nbformat": 4,
 "nbformat_minor": 0
}
