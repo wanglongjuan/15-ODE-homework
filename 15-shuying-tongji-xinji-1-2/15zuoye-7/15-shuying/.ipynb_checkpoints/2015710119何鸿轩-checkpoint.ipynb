{
 "cells": [
  {
   "cell_type": "markdown",
   "metadata": {
    "collapsed": false
   },
   "source": [
    "### $1.设x(t)和y(t)是区间a\\leq t\\leq b上的连续函数，证明：如果在区间a\\leq t\\leq b上有\\frac{x(t)}{y(t)} \\neq 常数，则x(t)和y(t)在区间a\\leq t\\leq b上线性无关.$"
   ]
  },
  {
   "cell_type": "markdown",
   "metadata": {},
   "source": [
    "证明：$$假设x(t)和y(t)在区间a\\leq t\\leq b上线性相关，即存在不全为零的数c_1,c_2,使$$\n",
    "\n",
    "$$c_1x(t)+c_2y(t)=0$$\n",
    "\n",
    "$$则\\frac{y(t)}{x(t)}=-\\frac{c_1}{c_2}$$\n",
    "\n",
    "$$-\\frac{c_1}{c_2}为常数，与题设矛盾，所以x(t)和y(t)在区间a\\leq t\\leq b上线性无关$$"
   ]
  },
  {
   "cell_type": "markdown",
   "metadata": {},
   "source": [
    "### $2.证明非齐次线性微分方程的叠加原理：设x_1(t),x_2(t)分别是非齐次线性微分方程\\\\ \n",
    "\\frac{d^nx}{dt^n}+a_1(t)\\frac{d^{n-1}x}{dt^{n-1}}+ … +a_n(t)x=f_1(t)\\\\\n",
    "\\frac{d^nx}{dt^n}+a_1(t)\\frac{d^{n-1}x}{dt^{n-1}}+ … +a_n(t)x=f_2(t)\\\\\n",
    "的解，则x_1(t)+x_2(t）是方程\\\\ \\frac{d^nx}{dt^n}+a_1(t)\\frac{d^{n-1}x}{dt^{n-1}}+ … +a_n(t)x=f_1(t)+f_2(t)\\\\ 的解.$"
   ]
  },
  {
   "cell_type": "markdown",
   "metadata": {},
   "source": [
    "证明：$$由题意得\\frac{d^nx_1(t)}{dt^n}+a_1(t)\\frac{d^{n-1}x_1(t)}{dt^{n-1}}+ … +a_n(t)x_1(t)=f_1(t)$$\n",
    "\n",
    "$$\\frac{d^nx_2(t)}{dt^n}+a_1(t)\\frac{d^{n-1}x_2(t)}{dt^{n-1}}+ … +a_n(t)x_2(t)=f_2(t)$$\n",
    "\n",
    "$$两式相加\\frac{d^n(x_1(t)+x_2(t))}{dt^n}+a_1(t)\\frac{d^{n-1}(x_1(t)+x_2(t))}{dt^{n-1}}+ … +a_n(t)(x_1(t)+x_2(t))=f_1(t)+f_2(t)$$\n",
    "\n",
    "$$即x_1(t)+x_2(t）是方程 \\frac{d^nx}{dt^n}+a_1(t)\\frac{d^{n-1}x}{dt^{n-1}}+ … +a_n(t)x=f_1(t)+f_2(t)的解.$$"
   ]
  },
  {
   "cell_type": "markdown",
   "metadata": {},
   "source": [
    "### $3.已知齐次线性微分方程的基本解组x_1,x_2,求下列方程对应的非齐次线性微分方程的通解：\\\\\n",
    "(1)x''-x=\\cos t,x_1=e^t,x_2=e^{-t};\\\\\n",
    "(3)x''+4x=t\\sin 2t,x_1=\\cos 2t,x_2=\\sin 2t;\\\\\n",
    "(5)t^2x''-tx'+x=6t+34t^2,x_1=t,x_2=t\\ln t;$"
   ]
  },
  {
   "cell_type": "markdown",
   "metadata": {},
   "source": [
    "(1)解：$$应用常数变易法令\\\\x(t)=c_1(t)e^t+c_2(t)e^{-t}$$\n",
    "\n",
    "$$得到方程组\\\\ \n",
    "\\begin{cases}\n",
    "c_1'(t)e^t+c_2'(t)e^{-t}=0\\\\\n",
    "c_1'(t)e^t-c_2'(t)e^{-t}=\\cos t\\\\\n",
    "\\end{cases}$$\n",
    "\n",
    "$$解得c_1(t)=-\\frac{1}{4}e^{-t}(\\cos t-\\sin t)+\\gamma _1\\\\\n",
    "c_2(t)=-\\frac{1}{4}e^t(\\cos t+\\sin t)+\\gamma _2\\\\\n",
    "所以x=\\gamma _1 e^t+\\gamma _2 e^{-t}-\\frac{1}{2}\\cos t \\quad这里\\gamma _1 \\gamma _2为任意常数$$\n",
    "\n",
    "(3)解：$$应用常数变易法令\\\\x(t)=c_1(t)\\cos 2t+c_2(t)\\sin 2t$$\n",
    "\n",
    "$$得到方程组\\\\ \n",
    "\\begin{cases}\n",
    "c_1'(t)\\cos 2t+c_2'(t)\\sin 2t=0\\\\\n",
    "-2c_1'(t)\\sin 2t+2c_2'(t)\\cos 2t=t\\sin 2t\\\\\n",
    "\\end{cases}$$\n",
    "\n",
    "$$解得c_1'(t)=\\frac{t}{4}(\\cos 4t -1);c_2'(t)=\\frac{t}{4}\\sin 4t$$\n",
    "\n",
    "$$解得c_1(t)=\\frac{\\cos 4t}{64}+\\frac{t\\sin 4t}{16}-\\frac{t^2}{8}+\\gamma _1\\\\\n",
    "c_2(t)=\\frac{\\sin 4t}{64}-\\frac{t\\cos 4t}{16}+\\gamma _2\\\\\n",
    "所以x=\\gamma _1 \\cos 2t+\\gamma _2 \\sin 2t-\\frac{t^2}{8}\\cos 2t+\\frac{t}{16}\\sin 2t \\quad这里\\gamma _1 \\gamma _2为任意常数$$\n",
    "\n",
    "(5)解：$$应用常数变易法令\\\\x(t)=c_1(t)t+c_2(t)t\\ln t$$\n",
    "\n",
    "$$得到方程组\\\\ \n",
    "\\begin{cases}\n",
    "c_1'(t)t+c_2'(t)t\\ln t=0\\\\\n",
    "c_2'(t)t^2=6t+34t^2\\\\\n",
    "\\end{cases}$$\n",
    "\n",
    "$$解得c_1'(t)=-\\frac{6+34t}{t}\\ln t;c_2'(t)=\\frac{6+34t}{t}$$\n",
    "\n",
    "$$解得c_1(t)=-3\\ln^2t-34t\\ln t+34t+\\gamma _1\\\\\n",
    "c_2(t)=6\\ln t+34t+\\gamma _2\\\\\n",
    "所以x=\\gamma _1 t+\\gamma _2 t\\ln t+34t^2+3t\\ln^2t \\quad这里\\gamma _1 \\gamma _2为任意常数$$ "
   ]
  },
  {
   "cell_type": "markdown",
   "metadata": {},
   "source": [
    "### $6.假设x_1(t)\\neq 0是二阶齐次线性微分方程\\\\ x''+a_1(t)x'+a_2(t)x=0 \\\\的解，\n",
    "这里a_1(t)和a_2(t)于区间[a,b]上连续，\n",
    "试证：\\\\(1)x_2(t)为方程的解的充要条件是\n",
    "\\\\W'[x_1,x_2]+a_1W[x_1,x_2]=0;\\\\\n",
    "(2)方程的通解可表为\\\\\n",
    "x=x_1[c_1\\int \\frac{1}{{x_1}^2}\\exp(-\\int_{t_0}^t a_1(s)ds)dt+c_2]\\\\\n",
    "其中c_1,c_2为任意常数，t_0,t\\in[a,b].$"
   ]
  },
  {
   "cell_type": "markdown",
   "metadata": {},
   "source": [
    "解：$$W'[x_1,x_2]+a_1W[x_1,x_2]=0$$\n",
    "\n",
    "$$\\begin{aligned}\n",
    "&\\iff x_1x_2''-x_1''x_2'+a_1x_1x_2'-a_1x_1'x_2=0\\\\\n",
    "&\\iff x_1x_2''+a_1x_1'x_2+a_1x_1x_2+a_1x_1x_2'-a_1x_1'x_2=0\\\\\n",
    "&\\iff x_1(x_2''+a_1x_2'+a_1x_2)=0\\\\\n",
    "&\\iff x_2''+a_1x_2'+a_1x_2=0,(x_1 \\neq 0)\\\\\n",
    "\\end{aligned}$$\n",
    "\n",
    "$$证毕$$\n",
    "\n",
    "(2）证明：\n",
    "\n",
    "$$\\begin{vmatrix}\n",
    "x_1 & x_2\\\\\n",
    "x_1' & x_2'\\\\\n",
    "\\end{vmatrix}=w(t_0)e^{-\\int_{t_0}^t a_1(s)ds}$$\n",
    "\n",
    "$$x_1x_2'-x_1'x_2=w(t_0)e^{-\\int_{t_0}^t a_1(s)ds}$$\n",
    "\n",
    "$两边乘\\frac{1}{{x_1}^2}$\n",
    "$$\\frac{d(\\frac{x_2}{x_1})}{dt}=\\frac{w(t_0)}{{x_1}^2}e^{-\\int_{t_0}^t a_1(s)ds}$$\n",
    "\n",
    "所以$$\\frac{x_2}{x_1}=c_1\\int \\frac{1}{{x_1}^2}e^{-\\int_{t_0}^t a_1(s)ds}dt+c_2$$\n",
    "\n",
    "即$$x_2=(c_1\\int \\frac{1}{{x_1}^2}e^{-\\int_{t_0}^t a_1(s)ds}dt+c_2)x_1$$\n",
    "\n",
    "$$取c_1=1,c_2=0,得x_2=x_1\\int \\frac{1}{{x_1}^2}e^{-\\int_{t_0}^t a_1(s)ds}dt,$$\n",
    "\n",
    "$$w(t)\\neq 0$$\n",
    "\n",
    "$$所以通解可表为\\\\x=x_1[c_1\\int \\frac{1}{{x_1}^2}\\exp(-\\int_{t_0}^t a_1(s)ds)dt+c_2]\\\\其中c_1,c_2为任意常数，t_0,t\\in[a,b]$$\n",
    "\n"
   ]
  },
  {
   "cell_type": "markdown",
   "metadata": {
    "collapsed": true
   },
   "source": [
    "# <font color='red'>A 26/10"
   ]
  },
  {
   "cell_type": "code",
   "execution_count": null,
   "metadata": {
    "collapsed": true
   },
   "outputs": [],
   "source": []
  }
 ],
 "metadata": {
  "kernelspec": {
   "display_name": "SageMath 7.3",
   "language": "",
   "name": "sagemath"
  },
  "language_info": {
   "codemirror_mode": {
    "name": "ipython",
    "version": 2
   },
   "file_extension": ".py",
   "mimetype": "text/x-python",
   "name": "python",
   "nbconvert_exporter": "python",
   "pygments_lexer": "ipython2",
   "version": "2.7.10"
  }
 },
 "nbformat": 4,
 "nbformat_minor": 0
}
