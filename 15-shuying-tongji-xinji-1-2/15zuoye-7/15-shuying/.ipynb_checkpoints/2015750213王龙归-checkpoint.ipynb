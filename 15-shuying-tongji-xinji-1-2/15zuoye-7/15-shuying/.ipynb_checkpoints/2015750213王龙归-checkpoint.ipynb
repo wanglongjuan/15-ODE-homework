{
 "cells": [
  {
   "cell_type": "markdown",
   "metadata": {},
   "source": [
    "## 1.设$x(t)$和y$y(t)$是区间$a\\leq t \\leq b$上的连续函数，证明：如果在区间$a\\leq t \\leq b$上有$\\frac{x(t)}{y(t)}\\equiv $常数或者$\\frac{y(t)}{x(t)}\\equiv $常数，则$x(t)$和$y(t)$在区间$a\\leq t \\leq b$上线性无关"
   ]
  },
  {
   "cell_type": "markdown",
   "metadata": {},
   "source": [
    "证明：假设$x(t)$和$y(t)$在$a\\leq t \\leq b$上线性相关  \n",
    "也即存在不全为0的数$c_1,c_2$使得$$c_1x(t)+c_2y(t)=0$$"
   ]
  },
  {
   "cell_type": "markdown",
   "metadata": {},
   "source": [
    "不妨设$c_1\\equiv0$  \n",
    "则$$\\frac{x(t)}{y(t)}= -\\frac{c_2}{c_1}=0$$为常数  \n",
    "与原命题互为逆否命题，\n",
    "∴原命题成立"
   ]
  },
  {
   "cell_type": "markdown",
   "metadata": {},
   "source": [
    "## 2.证明非其次线性微分方程的叠加原理：设$x_1(t),x_2(t)$分别是非其次线性微分方程组  \n",
    "## $$\\frac{d^nx}{dt^n}+a_1(t)\\frac{d^{n-1}x}{dt^{n-1}}+...+a_n(t)x=f_1(t)$$  \n",
    "##  $$\\frac{d^nx}{dt^n}+a_1(t)\\frac{d^{n-1}x}{dt^{n-1}}+...+a_n(t)x=f_2(t)$$  \n",
    "## 的解，则$x_1(t)+x_2(t)$是方程$$\\frac{d^nx}{dt^n}+a_1(t)\\frac{d^{n-1}x}{dt^{n-1}}+...+a_n(t)x=f_1(t)+f_2(t)$$ 的解"
   ]
  },
  {
   "cell_type": "markdown",
   "metadata": {},
   "source": [
    "证明：$$\\frac{d^nx_1}{dt^n}+a_1(t)\\frac{d^{n-1}x_1}{dt^{n-1}}+...+a_n(t)x_1+\\frac{d^nx_2}{dt^n}+a_1(t)\\frac{d^{n-1}x_2}{dt^{n-1}}+...+a_n(t)x_2=f_1(t)+f_2(t)$$ "
   ]
  },
  {
   "cell_type": "markdown",
   "metadata": {},
   "source": [
    "又∵导数的和等于和的导数  \n",
    "也即 $$\\frac{d^n(x_1+x_2)}{dt^n}+a_1(t)\\frac{d^{n-1}(x_1+x_2)}{dt^{n-1}}+...+a_n(t)(x_1+x_2)=f_1(t)+f_2(t)$$ "
   ]
  },
  {
   "cell_type": "markdown",
   "metadata": {},
   "source": [
    "##  3.已知其次线性微分方程的基本解组$x_1,x_2,$求下列方程对应的非齐次线性微分方程的通解："
   ]
  },
  {
   "cell_type": "markdown",
   "metadata": {},
   "source": [
    "（1）$x\"-x=cost,x_1=e^t,x_2=e^{-t}$"
   ]
  },
  {
   "cell_type": "markdown",
   "metadata": {},
   "source": [
    "令$$x=c_1(t)e^t+c_2(t)e^{-t}$$  \n",
    "对方程一次求导后再求导可得一下决定$c_1(t),c_2(t)$的方程组  "
   ]
  },
  {
   "cell_type": "markdown",
   "metadata": {},
   "source": [
    "$$\n",
    "\\begin{cases}\n",
    "ec_1'(t)+e^{-t}c_2'(t)=0\\\\\n",
    "ec_1'(t)-e^{-t}c_2'(t)==cost\\\\\n",
    "\\end{cases}\n",
    "$$"
   ]
  },
  {
   "cell_type": "markdown",
   "metadata": {},
   "source": [
    "解方程组可得$$c_1'(t)=\\frac{1}{2}cost·e^{-t},c_2'(t)=-\\frac{1}{2}e^tcost$$"
   ]
  },
  {
   "cell_type": "markdown",
   "metadata": {},
   "source": [
    "再对其积分可得$$c_1(t)=\\frac{sint-cost}{4}·e^{-t}+\\alpha_1,c_2(t)=-\\frac{1}{4}(sint+cost)e^{-t}+\\alpha_2$$  \n",
    "原方程的通解为$$x=\\alpha_1e^t+\\alpha_2e^{-t}-\\frac{1}{2}cost$$"
   ]
  },
  {
   "cell_type": "markdown",
   "metadata": {},
   "source": [
    "(3)$x''+4x=tsin{2t},x_1=cos{2t},x_2=sin{2t}$"
   ]
  },
  {
   "cell_type": "markdown",
   "metadata": {},
   "source": [
    "令$$x=c_1(x)cos{2t}+c_2(x)sin{2t}$$  \n",
    "对该方程进行两次求导可得相关方程  \n",
    "\n",
    "$$\\begin{cases}\n",
    "c_1'(x)cos{2t}+c_2'(x)sin{2t}=0\\\\\n",
    "-2c_1'(x)sin{2t}+c_2'(x)cos{2t}=tsin{2t}\n",
    "\\end{cases}$$"
   ]
  },
  {
   "cell_type": "markdown",
   "metadata": {},
   "source": [
    "解得：$$c_1'(x)=\\frac{-1}{2}tsintsin2t,c_2'(x)=\\frac{1}{2}tsintcos2t$$"
   ]
  },
  {
   "cell_type": "markdown",
   "metadata": {},
   "source": [
    "再进一步求解可得$$c_1(x)=\\frac{1}{4}[\\frac{1}{3}tsin3t+\\frac{1}{9}cos3t-tsint-cost]+\\gamma_1,c_2(x)=\\frac{1}{4}[-\\frac{1}{3}tcos3t+\\frac{1}{9}sin3t+tcost-sint]+\\gamma_2$$"
   ]
  },
  {
   "cell_type": "markdown",
   "metadata": {},
   "source": [
    "(5)$t^2x''-tx'+x=6t+34t^2,x_1=t,x_2=tlnt;$"
   ]
  },
  {
   "cell_type": "markdown",
   "metadata": {},
   "source": [
    "令$x=c_1(x)t+c_2(x)tlnt$  \n",
    "对该方程二次求导可得相关方程组：\n",
    "\\begin{cases}\n",
    "c_1'(x)t+c_2'(x)tlnt=0\\\\\n",
    "c_1'(x)+c_2'(x)(lnt+1)=6t+34t^2\n",
    "\\end{cases}"
   ]
  },
  {
   "cell_type": "markdown",
   "metadata": {},
   "source": [
    "由此可得：$$c_1'(x)=\\frac{\\frac{6}{t}+34}{t}lnt,c_2'(x)=\\frac{6}{t}+34$$\n"
   ]
  },
  {
   "cell_type": "markdown",
   "metadata": {},
   "source": [
    "再进一步对$c'$求积分可得:$$c_1(x)=-34(tlnt)-3(lnt)^2+\\gamma_1,c_2(x)=34t+6lnt+\\gamma_2$$  \n",
    "所以原方程的通解为\n",
    "$$x=\\gamma_1t+\\gamma_2tlnt+34t^2+3t(lnt)^2\n",
    ",其中\\gamma_1,\\gamma_2为任意常数$$"
   ]
  },
  {
   "cell_type": "markdown",
   "metadata": {},
   "source": [
    "##  6.假设$x_1(t)\\neq$0是二阶齐次线性微分方程组  \n",
    "## $x''+a_1(t)x'+a_2(t)x=0$\n",
    "## 的解，这里的$a_1(t)和a_2(t)$于区间[a,b]上连续，试证：\n",
    "## （1）$x_2(t)$为方程的解得充要条件是$W'[x_1,x_2]+a_1W[x_1，x_2]=0$;\n",
    "## (2)方程的通解可表为\n",
    "## $x=x_1[c_1 \\int \\mathrm {\\frac{1}{x^2}exp(-\\int_{t_0}^t \\mathrm a_1(s)\\,\\mathrm {d}s)}\\,\\mathrm {d}t +c_2]$\n",
    "$其中c_1,c_2为任意常数，t_0,t\\in[a,b].$"
   ]
  },
  {
   "cell_type": "markdown",
   "metadata": {},
   "source": [
    "解：\n",
    "（1）\n",
    "证充分性\n",
    "已知$x_2(t)$是方程的解\n",
    "则\n",
    "$${x_1}''+a_1(t){x_1}'+a_2(t){x_1}＂＝0$$\n",
    "$${x_2}''+a_1(t){x_2}'+a_2(t){x_2}＂=0$$\n",
    "又\n",
    "$$\n",
    "W’[x_1，x_2]=\\begin{vmatrix}\n",
    "x_1’&x_2'\\\\\n",
    "x_1'&x_2\\\\\n",
    "\\end{vmatrix}\n",
    "+\n",
    "\\begin{vmatrix}\n",
    "x_1&x_2\\\\\n",
    "x_1''&x_2''\\\\\n",
    "\\end{vmatrix}\n",
    "$$\n",
    "$$\n",
    "W[x_1，x_2]=\\begin{vmatrix}\n",
    "x_1&x_2\\\\\n",
    "x_1'&x_2'\\\\\n",
    "\\end{vmatrix}\n",
    "$$\n",
    "$$W'[x_1,x_2]+a_1(t)W[x_1，x_2]=\n",
    "\\begin{vmatrix}\n",
    "x_1&x_2\\\\\n",
    "x_1''&x_2''\\\\\n",
    "\\end{vmatrix}\n",
    "+a_1\n",
    "\\begin{vmatrix}\n",
    "x_1&x_2\\\\\n",
    "x_1''&x_2''\\\\\n",
    "\\end{vmatrix}\n",
    "$$\n",
    "$$=\n",
    "\\begin{vmatrix}\n",
    "x_1&x_2\\\\\n",
    "x_1''+a_1(t) x_1'&x_2''+a_1(t) x_2'\\\\\n",
    "\\end{vmatrix}\n",
    "$$\n",
    "$$\n",
    "=\n",
    "\\begin{vmatrix}\n",
    "x_1&x_2\\\\\n",
    "-a_2(t) x_1&-a_2(t) x_2\\\\\n",
    "\\end{vmatrix}\n",
    "$$\n",
    "$$=x_1 x_2\n",
    "\\begin{vmatrix}\n",
    "1&1\\\\\n",
    "-a_2(t)&-a_2(t)\\\\\n",
    "\\end{vmatrix}\n",
    "$$\n",
    "$$=0$$"
   ]
  },
  {
   "cell_type": "markdown",
   "metadata": {},
   "source": [
    "必要性\n",
    "$W'[x_1,x_2]+a_1W[x_1，x_2]=0$\n",
    "$$W'[x_1,x_2]+a_1W[x_1，x_2]=\n",
    "\\begin{vmatrix}\n",
    "x_1&x_2\\\\\n",
    "x_1''&x_2''\\\\\n",
    "\\end{vmatrix}\n",
    "+a_1\n",
    "\\begin{vmatrix}\n",
    "x_1&x_2\\\\\n",
    "x_1''&x_2''\\\\\n",
    "\\end{vmatrix}\n",
    "$$\n",
    "$$=\n",
    "\\begin{vmatrix}\n",
    "x_1&x_2\\\\\n",
    "x_1''+a_1(t) x_1''&x_2''+a_1(t) x_2''\\\\\n",
    "\\end{vmatrix}\n",
    "$$\n",
    "$$\n",
    "=\n",
    "\\begin{vmatrix}\n",
    "x_1&x_2\\\\\n",
    "-a_2(t) x_1&x_2''+a_1(t) x_2''\\\\\n",
    "\\end{vmatrix}\n",
    "$$\n",
    "$$\n",
    "=x_1 \n",
    "\\begin{vmatrix}\n",
    "1& x_2\\\\\n",
    "-a_2(t)&x_2''+a_1(t) x_2''\\\\\n",
    "\\end{vmatrix}\n",
    "$$\n",
    "$$=0$$\n",
    "故$${x_2}''+a_1(t){x_2}'+a_2(t){x_2}''=0$$\n",
    "故$x_2是方程的解$"
   ]
  },
  {
   "cell_type": "markdown",
   "metadata": {},
   "source": [
    "（2）刘维尔公式\n",
    "$$\n",
    "W（t_0）e^{-\\int_{t_0}^t \\mathrm a_1(s)\\,\\mathrm {d}s}\n",
    "=\\begin{vmatrix}\n",
    "x_1&x_2\\\\\n",
    "x_1'&x_2'\\\\\n",
    "\\end{vmatrix}\n",
    "$$\n",
    "整理得\n",
    "$$W（t_0）e^{-\\int_{t_0}^t \\mathrm a_1(s)\\,\\mathrm {d}s}=x_1 x_2'-x_1' x_2$$\n",
    "两边同时除以$x_1^2$,得\n",
    "$$\\frac{W（t_0）}{(x_1)^2}e^{-\\int_{t_0}^t \\mathrm a_1(s)\\,\\mathrm {d}s}=\\frac{x_1 x_2'-x_1' x_2}{(x_1)^2}$$\n",
    "整理得，$$\\frac{x_2}{x_1}=c_2 \\int \\mathrm {\\frac{1}{x^2}e^{-\\int_{t_0}^t \\mathrm a_1(s)\\,\\mathrm {d}s}\\,\\mathrm {d}t }+c_1$$\n",
    "$$x_2=(c_2 \\int \\mathrm {\\frac{1}{x^2}e^{-\\int_{t_0}^t \\mathrm a_1(s)\\,\\mathrm {d}s}\\,\\mathrm {d}t }+c_1)x_1$$\n",
    "令$c_1=0,c_2=1$,得\n",
    "$$x_2=(\\int \\mathrm {\\frac{1}{x^2}e^{-\\int_{t_0}^t \\mathrm a_1(s)\\,\\mathrm {d}s}\\,\\mathrm {d}t })x_1$$\n",
    "原方程的通解为$$x=x_1[c_1 \\int \\mathrm {\\frac{1}{x^2}exp(-\\int_{t_0}^t \\mathrm a_1(s)\\,\\mathrm {d}s)}\\,\\mathrm {d}t +c_2]\n",
    ",其中c_1,c_2为任意常数，t_0,t\\in[a,b].$$\n",
    "证毕"
   ]
  },
  {
   "cell_type": "markdown",
   "metadata": {
    "collapsed": true
   },
   "source": [
    "# <font color='red'>A 26/10\n"
   ]
  },
  {
   "cell_type": "code",
   "execution_count": null,
   "metadata": {
    "collapsed": true
   },
   "outputs": [],
   "source": []
  }
 ],
 "metadata": {
  "kernelspec": {
   "display_name": "SageMath 7.3",
   "language": "",
   "name": "sagemath"
  },
  "language_info": {
   "codemirror_mode": {
    "name": "ipython",
    "version": 2
   },
   "file_extension": ".py",
   "mimetype": "text/x-python",
   "name": "python",
   "nbconvert_exporter": "python",
   "pygments_lexer": "ipython2",
   "version": "2.7.10"
  }
 },
 "nbformat": 4,
 "nbformat_minor": 0
}
