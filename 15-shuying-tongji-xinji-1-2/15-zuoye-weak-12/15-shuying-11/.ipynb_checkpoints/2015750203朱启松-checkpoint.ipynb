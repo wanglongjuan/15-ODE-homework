{
 "cells": [
  {
   "cell_type": "markdown",
   "metadata": {
    "collapsed": true
   },
   "source": [
    "### 1.求解下列微分方程:\n",
    "(2)$xx''-(x')^2+(x')^3=0;$\n",
    "(4)$x''+\\sqrt{1-(x')^2}=0;$\n",
    "(6)$x''-\\frac{1}{t}x'+(x')^2=0;$\n"
   ]
  },
  {
   "cell_type": "markdown",
   "metadata": {},
   "source": [
    "$$(2)解:令y=x',则有x''=\\frac{\\mathrm d y}{\\mathrm d t}=\\frac{\\mathrm d y}{\\mathrm d x}\\frac{\\mathrm d x}{\\mathrm d t}=y\\frac{\\mathrm d y}{\\mathrm d x}.带入原方程有xy\\frac{\\mathrm d y}{\\mathrm d x}-y^2+y^3=0可以直接看出来当y=0是,为方程的解.$$\n",
    "$$分离变量可得\\frac{\\mathrm d y}{y-y^2}=\\frac{\\mathrm d x}{x}$$\n",
    "$$(\\frac{1}{y}-\\frac{1}{y-1})\\mathrm d y=\\frac{1}{x}\\mathrm d x,两边同时积分有\\frac{y}{y-1}=cx$$\n",
    "$$y=x'=\\frac{\\mathrm d x}{\\mathrm d t}=\\frac{cx}{cx-1},(c\\neq 0)$$\n",
    "$$解得x-\\frac{1}{c}\\ln|x|=t+c',c_1=-\\frac{1}{c},c_2=c'$$\n",
    "$$综合上述,得方程的解为x+c_1\\ln|x|=t+c_2以及x=c,(c_1\\neq 0,c_2,c为任意常数)$$\n",
    "\n",
    "$$(4)解:令y=x',则有x''=\\frac{\\mathrm d y}{\\mathrm d t}=\\frac{\\mathrm d y}{\\mathrm d x}\\frac{\\mathrm d x}{\\mathrm d t}=y\\frac{\\mathrm d y}{\\mathrm d x}$$\n",
    "$$带入原方程有y\\frac{\\mathrm d y}{\\mathrm d x}+\\sqrt{1-y^2}=0$$\n",
    "$$分离常数可得-\\frac{y}{\\sqrt{1-y^2}}\\mathrm d y=\\mathrm d x,对方程两边同时积分可得-\\sqrt{1-y^2}=x+c$$\n",
    "$$即为\\frac{\\mathrm d (x+c)}{\\sqrt{1-(x+c)^2}}=dt$$\n",
    "$$解得t=\\arcsin(x+c)+c'令c_1=-c,c_2=-c'则有x=\\sin(t+c_2)+c_1$$\n",
    "$$同时注意到当y=1,-1时微分方程也是成立的.$$\n",
    "$$综上所述,微分方程的通解为x=\\sin(t+c_2)+c_1,x=t+c_3,x=-t+c_4,(c_1,c_2,c_3,c_4为任意常数)$$\n",
    "\n",
    "$$ (6)解:令y=x',则x''=\\frac{\\mathrm d y}{\\mathrm d t},代入原方程有\\frac{\\mathrm d y}{\\mathrm d t}-\\frac{1}{t}y+y^2=0该方程形式为伯努利方程,观察可知$y=0$为其解$$\n",
    " $$令z=y^{-1},则方程又可化为\\frac{\\mathrm d z}{\\mathrm d t}+\\frac{1}{t}z-1=0亦即t\\mathrm d z+(z-t)\\mathrm d t=0为恰当微分方程.$$\n",
    " $$故其解为zt-\\frac{t^2}{2}=c即为\\ln(t^2+2c)=x+c'$$\n",
    " $$令c_1=2c,c_2=-c'综上所述有x=\\ln(t^2+c_1)+c_2以及x=c,(其中c_1,c_2,c为任意常数)$$"
   ]
  },
  {
   "cell_type": "markdown",
   "metadata": {},
   "source": [
    "### 2.用幂级数解法求解下列方程:\n",
    "### (2)$(1-t)x''+x=0$\n",
    "\n",
    " $$(2)解:方程等价为x''+\\frac{1}{1-t}x=0则有p(x)=0,q(x)=\\frac{1}{1-t}={\\sum}^{\\infty}_{n=0}x^n收敛半径为1$$\n",
    "$$ 方程有形如y=a_0+a_1x+a_2x^2+a_3x^3+\\cdots的解.$$\n",
    "$$ 代入方程,(2a_2+6a_3t+12a_4t^2+\\cdots)-(2a_2t+6a_3t^2+\\cdots)+(a_0+a_1x+a_2x^2+a_3x^3+\\cdots)=0 $$\n",
    "$$有\\begin{cases}2a_2+a_0=0\\\\ \\ldots\\\\k(k-1)a_k-(k-1)(k-2)a_{k-1}+a_{k-2}=0\\end{cases}$$\n",
    " $$所以可得幂级数通解x=a_0(1-\\frac{1}{2!}t^2-\\frac{1}{3!}t^3-\\frac{1}{4!}t^4-\\frac{2}{5!}t^5-\\cdots)+a_1(t-\\frac{1}{3!}t^3-\\frac{2}{4!}t^4-\\frac{5}{5!}t^5-\\cdots),(a_0,a_1为任意常数)$$"
   ]
  },
  {
   "cell_type": "markdown",
   "metadata": {},
   "source": [
    "### 2.将下面的初值问题化为与之等价的一阶方程组的初值问题:\n",
    "###  (3)$\\begin{cases}x''+5y'-7x+6y=e^t,\\\\ y''-2y+13y'-15x=\\cos t,\\end{cases}$\n",
    " $x(0)=1,x'(0)=0.y(0)=0,y'(0)=1$\n",
    "$$ (3)解:令\\begin{cases}w_1=x\\\\w_2=x'\\\\w_3=y\\\\w_4=y'\\end{cases}$$\n",
    " $$上面的方程化为\\begin{cases}w_1'=w_2\\\\w_2'=7w_1-6w_3-5w_4+e^t\\\\w_3'=w_4\\\\w_4'=15w_1+2w_3-13w_4+\\cos t\\end{cases} $$\n",
    " $$令\\mathbf w=\\begin{bmatrix}w_1\\\\w_2\\\\w_3\\\\w_4\\end{bmatrix},\\mathbf A=\\begin{bmatrix}0&1&0&0\\\\7&0&-6&-5\\\\0&0&0&1\\\\15&0&2&-13\\end{bmatrix},\\mathbf f=\\begin{bmatrix}0\\\\e^t\\\\0\\\\\\cos t\\end{bmatrix}$$\n",
    " $$则\\mathbf w'=\\mathbf A\\mathbf w+\\mathbf f,\\mathbf w(0)=\\begin{bmatrix}1\\\\0\\\\0\\\\1\\end{bmatrix}$$\n",
    " $$逐步逼近法求方程组\\mathbf x'=\\begin{bmatrix}0&1\\\\-1&0\\end{bmatrix}\\mathbf x满足初值条件\\mathbf x(0)=\\begin{bmatrix}0\\\\1\\end{bmatrix}的第三次近似解$$"
   ]
  },
  {
   "cell_type": "markdown",
   "metadata": {},
   "source": [
    "$ 3.解:构造皮卡逐步逼近序列$$\\begin{cases}\\mathbf {\\varphi_0}(t)=\\mathbf {\\eta}\\\\\\mathbf {\\varphi_k}(t)=\\mathbf {\\eta}+\\int^t_{t_0}[\\mathbf {A(s)\\varphi_{k-1}(s)}+\\mathbf f(s)]\\mathrm d s\\end{cases}$\n",
    " $$有\\mathbf{\\varphi_1(t)}=\\mathbf{\\varphi_0(t)}+\\int^t_0\\mathbf{A(s)\\varphi_0(s)}\\mathrm d s=\\begin{bmatrix}0\\\\1\\end{bmatrix}+\\int^t_0\\begin{bmatrix}0&1\\\\-1&0\\end{bmatrix}\\begin{bmatrix}0\\\\1\\end{bmatrix}\\mathrm d s=\\begin{bmatrix}0\\\\1\\end{bmatrix}+\\begin{bmatrix}t\\\\0\\end{bmatrix}=\\begin{bmatrix}t\\\\1\\end{bmatrix}$$\n",
    "$$\\mathbf{\\varphi_2(t)}=\\mathbf{\\varphi_0(t)}+\\int^t_0\\mathbf{A(s)\\varphi_1(s)}\\mathrm d s=\\begin{bmatrix}0\\\\1\\end{bmatrix}+\\int^t_0\\begin{bmatrix}0&1\\\\-1&0\\end{bmatrix}\\begin{bmatrix}s\\\\1\\end{bmatrix}\\mathrm d s=\\begin{bmatrix}0\\\\1\\end{bmatrix}+\\begin{bmatrix}t\\\\-\\frac{t^2}{2}\\end{bmatrix}=\\begin{bmatrix}t\\\\1-\\frac{t^2}{2}\\end{bmatrix}$$\n",
    "$$ 最后是第三次近似解\\mathbf{\\varphi_3(t)}=\\mathbf{\\varphi_0(t)}+\\int^t_0\\mathbf{A(s)\\varphi_2(s)}\\mathrm d s=\\begin{bmatrix}0\\\\1\\end{bmatrix}+\\int^t_0\\begin{bmatrix}0&1\\\\-1&0\\end{bmatrix}\\begin{bmatrix}s\\\\1-\\frac{s^2}{2}\\end{bmatrix}\\mathrm d s=\\begin{bmatrix}0\\\\1\\end{bmatrix}+\\begin{bmatrix}t-\\frac{t^3}{3!}\\\\-\\frac{t^2}{2!}\\end{bmatrix}=\\begin{bmatrix}t-\\frac{t^3}{3!}\\\\1-\\frac{t^2}{2!}\\end{bmatrix}$$ "
   ]
  },
  {
   "cell_type": "markdown",
   "metadata": {
    "collapsed": true
   },
   "source": [
    "# <font color='red'>A  25/11"
   ]
  },
  {
   "cell_type": "code",
   "execution_count": null,
   "metadata": {
    "collapsed": true
   },
   "outputs": [],
   "source": []
  }
 ],
 "metadata": {
  "kernelspec": {
   "display_name": "SageMath 7.3",
   "language": "",
   "name": "sagemath"
  },
  "language_info": {
   "codemirror_mode": {
    "name": "ipython",
    "version": 2
   },
   "file_extension": ".py",
   "mimetype": "text/x-python",
   "name": "python",
   "nbconvert_exporter": "python",
   "pygments_lexer": "ipython2",
   "version": "2.7.10"
  }
 },
 "nbformat": 4,
 "nbformat_minor": 0
}
