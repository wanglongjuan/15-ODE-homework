{
 "cells": [
  {
   "cell_type": "markdown",
   "metadata": {},
   "source": [
    "**数学与应用数学班**"
   ]
  },
  {
   "cell_type": "markdown",
   "metadata": {},
   "source": [
    "**张杰 2015750221**"
   ]
  },
  {
   "cell_type": "markdown",
   "metadata": {},
   "source": [
    "P183——1"
   ]
  },
  {
   "cell_type": "markdown",
   "metadata": {},
   "source": [
    "（2）$xx''-(x')^2+(x')^3=0$"
   ]
  },
  {
   "cell_type": "markdown",
   "metadata": {},
   "source": [
    "**解：**令$x'=y$，则方程可以写为$$xy\\frac{dy}{dx}-y^2+y^3=0$$得：$$y=0或\\frac{dy}{dx}=\\frac{y-y^2}{x}$$积分后得：$$\\frac{y}{1-y}=c_1x,(c_1\\neq 0)$$$\\Rightarrow$$$\\frac{x'}{1-x'}=c_1x$$再次积分，得：$$x+\\frac{1}{c_1}ln|x|=t+c_2$$当$y=0$时$x'=0$所以$x=c$"
   ]
  },
  {
   "cell_type": "markdown",
   "metadata": {},
   "source": [
    "综上，原方程的解为$$x=\\frac{1}{c_1}ln|x|=t+c_2或x=c$$其中$c_1,c_2,c$是任意常数"
   ]
  },
  {
   "cell_type": "markdown",
   "metadata": {},
   "source": [
    "（4）$x''+\\sqrt{1-(x')^2}=0$"
   ]
  },
  {
   "cell_type": "markdown",
   "metadata": {},
   "source": [
    "**解：**令$x'=y$则原方程可化为$$y\\frac{dy}{dx}+\\sqrt{1-y^2}=0$$当$y=\\pm1$时，$x'=\\pm\n",
    "t+c_1$；"
   ]
  },
  {
   "cell_type": "markdown",
   "metadata": {},
   "source": [
    "当$y\\neq\\pm1$时，方程可化为$$\\frac{ydy}{\\sqrt{1-y^2}}=-dx$$积分后可得$$\\sqrt{1-y^2}=x+c$$即$$\\sqrt{1-x'^2}=x+c或x'=\\pm\\sqrt{1-(x+c)^2}$$再次积分可得:"
   ]
  },
  {
   "cell_type": "markdown",
   "metadata": {},
   "source": [
    "当$x'=\\sqrt{1-(x+c)^2}$时,$x=sin(t+c_1)-c$"
   ]
  },
  {
   "cell_type": "markdown",
   "metadata": {},
   "source": [
    "当$x'=-\\sqrt{1-(x+c)^2}$时，$x=cos(t+c_1)-c$"
   ]
  },
  {
   "cell_type": "markdown",
   "metadata": {},
   "source": [
    "综上可得原方程的解为：$$x=sin(t+c_1)-c或x=cos(t+c_1)$$以及$$x=\\pm t+c_1$$其中$c_1,c$是任意常数"
   ]
  },
  {
   "cell_type": "markdown",
   "metadata": {},
   "source": [
    "(6)$x''-\\frac{1}{t}x'+(x')^2=0$"
   ]
  },
  {
   "cell_type": "markdown",
   "metadata": {},
   "source": [
    "**解：**当$x'\\neq0$时，对方程两边同时除以$x'$可得:$$\\frac{x''}{x'}-\\frac{1}{t}+x'=0$$即$$d(ln|x'|-ln|t|+x)=0$$两边积分得：$$ln\\left|\\frac{x'}{t}\\right|+x=c_1$$解得$x'=t(e^{-x+c_1})$再次积分得：$$e^x=e^{c_1}\\left(\\frac{t^2}{2}\\right)+c_2$$即$$e^x=c_1(t^2+c_2)$$当$x'=0$时，得$x=c$易知它也是原方程的解"
   ]
  },
  {
   "cell_type": "markdown",
   "metadata": {},
   "source": [
    "综上，方程的解为$$e^x=c_1(t^2+c_2或x=c)$$"
   ]
  },
  {
   "cell_type": "markdown",
   "metadata": {},
   "source": [
    "P201——2"
   ]
  },
  {
   "cell_type": "markdown",
   "metadata": {},
   "source": [
    "(3)$\\left\\{\\begin{array}{c}x''+5y'-7x+6y=e^t\\\\y''-2y+13y'-15x=cost\\end{array}\\right.$"
   ]
  },
  {
   "cell_type": "markdown",
   "metadata": {},
   "source": [
    "$x(0)=1,x'(0)=0,y(0)=0,y'(0)=1$"
   ]
  },
  {
   "cell_type": "markdown",
   "metadata": {},
   "source": [
    "**解：**令$w_1=x,w_2=x',w_3=y,w_4=y'$则原方程组$$\\begin{pmatrix}w_1\\\\w_2\\\\w_3\\\\w_4\\\\\\end{pmatrix}=\\begin{pmatrix}0&1&0&0\\\\7&0&-6&-5\\\\0&0&0&1\\\\15&0&2&-13\\\\\\end{pmatrix}\\begin{pmatrix}w_1\\\\w_2\\\\w_3\\\\w_4\\\\\\end{pmatrix}+\\begin{pmatrix}0\\\\e^t\\\\0\\\\cost\\\\\\end{pmatrix}$$初值条件为$w_1(0)=1,w_2(0)=0,w_3(0)=0,w_4(0)=1$"
   ]
  },
  {
   "cell_type": "markdown",
   "metadata": {},
   "source": [
    "P201——3"
   ]
  },
  {
   "cell_type": "markdown",
   "metadata": {},
   "source": [
    "**解：**"
   ]
  },
  {
   "cell_type": "markdown",
   "metadata": {},
   "source": [
    "$\\varphi_0(t)=\\begin{bmatrix}0\\\\1\\\\\\end{bmatrix}$"
   ]
  },
  {
   "cell_type": "markdown",
   "metadata": {},
   "source": [
    "$\\varphi_1(t)=\\begin{bmatrix}0\\\\1\\\\\\end{bmatrix}+\\int_1^0\\begin{bmatrix}0&1\\\\-1&0\\\\\\end{bmatrix}\\begin{bmatrix}0\\\\1\\\\\\end{bmatrix}ds$"
   ]
  },
  {
   "cell_type": "markdown",
   "metadata": {},
   "source": [
    "$=\\begin{bmatrix}0\\\\1\\\\\\end{bmatrix}+\\int_0^t\\begin{bmatrix}1\\\\0\\\\\\end{bmatrix}ds$"
   ]
  },
  {
   "cell_type": "markdown",
   "metadata": {},
   "source": [
    "$=\\begin{bmatrix}0\\\\1\\\\\\end{bmatrix}+\\begin{bmatrix}t\\\\0\\\\\\end{bmatrix}$"
   ]
  },
  {
   "cell_type": "markdown",
   "metadata": {},
   "source": [
    "$=\\begin{bmatrix}t\\\\1\\\\\\end{bmatrix}$"
   ]
  },
  {
   "cell_type": "markdown",
   "metadata": {},
   "source": [
    "$\\varphi_2(t)=\\begin{bmatrix}0\\\\1\\\\\\end{bmatrix}+\\int_0^t\\begin{bmatrix}0&1\\\\-1&0\\\\\\end{bmatrix}\\begin{bmatrix}t\\\\1\\\\\\end{bmatrix}dt$"
   ]
  },
  {
   "cell_type": "markdown",
   "metadata": {},
   "source": [
    "$=\\begin{bmatrix}0\\\\1\\\\\\end{bmatrix}+\\int_0^t\\begin{bmatrix}1\\\\-t\\\\\\end{bmatrix}dt$"
   ]
  },
  {
   "cell_type": "markdown",
   "metadata": {},
   "source": [
    "$=\\begin{bmatrix}0\\\\1\\\\\\end{bmatrix}+\\begin{bmatrix}t\\\\-\\frac{1}{2}t^2\\\\\\end{bmatrix}$"
   ]
  },
  {
   "cell_type": "markdown",
   "metadata": {},
   "source": [
    "$=\\begin{bmatrix}t\\\\1-\\frac{1}{2}t^2\\\\\\end{bmatrix}$"
   ]
  },
  {
   "cell_type": "markdown",
   "metadata": {},
   "source": [
    "$\\varphi_3(t)\\begin{bmatrix}0\\\\1\\\\\\end{bmatrix}+\\int_0^t\\begin{bmatrix}0&1\\\\-1&0\\\\\\end{bmatrix}\\begin{bmatrix}s\\\\1-\\frac{1}{2}s^2\\\\\\end{bmatrix}ds$"
   ]
  },
  {
   "cell_type": "markdown",
   "metadata": {},
   "source": [
    "$=\\begin{bmatrix}0\\\\1\\\\\\end{bmatrix}+\\int_0^t\\begin{bmatrix}1-\\frac{1}{2}s^2\\\\-s\\\\\\end{bmatrix}ds$"
   ]
  },
  {
   "cell_type": "markdown",
   "metadata": {},
   "source": [
    "$=\\begin{bmatrix}0\\\\1\\\\\\end{bmatrix}+\\begin{bmatrix}t-\\frac{1}{6}t^3\\\\-\\frac{1}{2}t^2\\\\\\end{bmatrix}$"
   ]
  },
  {
   "cell_type": "markdown",
   "metadata": {},
   "source": [
    "$=\\begin{bmatrix}t-\\frac{1}{6}t^3\\\\1-\\frac{1}{2}t^2\\\\\\end{bmatrix}$"
   ]
  },
  {
   "cell_type": "markdown",
   "metadata": {},
   "source": [
    "所以满足初值条件$x(0)=\\begin{bmatrix}0\\\\1\\\\\\end{bmatrix}$第三次近似解为：$$\\varphi_3(t)=\\begin{bmatrix}t-\\frac{1}{6}t^3\\\\1-\\frac{1}{2}t^2\\\\\\end{bmatrix}$$"
   ]
  },
  {
   "cell_type": "markdown",
   "metadata": {
    "collapsed": true
   },
   "source": [
    "# <font color='red'>A  25/11"
   ]
  },
  {
   "cell_type": "code",
   "execution_count": null,
   "metadata": {
    "collapsed": true
   },
   "outputs": [],
   "source": []
  }
 ],
 "metadata": {
  "kernelspec": {
   "display_name": "SageMath 7.3",
   "language": "",
   "name": "sagemath"
  },
  "language_info": {
   "codemirror_mode": {
    "name": "ipython",
    "version": 2
   },
   "file_extension": ".py",
   "mimetype": "text/x-python",
   "name": "python",
   "nbconvert_exporter": "python",
   "pygments_lexer": "ipython2",
   "version": "2.7.10"
  }
 },
 "nbformat": 4,
 "nbformat_minor": 0
}
