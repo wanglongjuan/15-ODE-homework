{
 "cells": [
  {
   "cell_type": "markdown",
   "metadata": {},
   "source": [
    "2016年11月15日  星期二\n",
    "\n",
    "P183\n",
    "\n",
    "1、求解下列方程：\n",
    "\n",
    "(2)$xx''-(x')^2+(x')^3=0$\n",
    "\n",
    "解：令$x'=y$，直接计算可得$x''=y\\frac{dy}{dx}$\n",
    "\n",
    "于是原方程化为$xy\\frac{dy}{dx}-y^2+y^3=0$\n",
    "\n",
    "可分$y=0$和$y\\neq 0$两种情况\n",
    "\n",
    "当$y=0$即$x'=0$时易得$x=c$，$c$为任意常数\n",
    "\n",
    "当$y\\neq 0$得$x\\frac{dy}{dx}-y+y^2=0$\n",
    "\n",
    "积分后得$\\frac{y}{1-y}=c_1x,(c_1\\neq 0)$，即$x'=\\frac{c_1x}{1+c_1x}$\n",
    "\n",
    "化简得$x+c_1\\ln |x|=t+c_2$\n",
    "\n",
    "所以原方程的通解为$x=c$，$x+c_1\\ln |x|=t+c_2$"
   ]
  },
  {
   "cell_type": "markdown",
   "metadata": {},
   "source": [
    "(4)$x''+\\sqrt{1-(x')^2}=0$\n",
    "\n",
    "解：令$x'=y$，直接计算可得$x''=y\\frac{dy}{dx}$\n",
    "\n",
    "于是原方程化为$y\\frac{dy}{dx}+\\sqrt{1-y^2}=0$\n",
    "\n",
    "可分$\\sqrt{1-y^2}=0$和$\\sqrt{1-y^2}\\neq 0$两种情况\n",
    "\n",
    "当$\\sqrt{1-y^2}=0$得$y=\\pm 1$即$x'=\\pm 1$时易得$x=\\pm t+c$，$c$为任意常数\n",
    "\n",
    "当$\\sqrt{1-y^2}\\neq 0$得$\\frac{ydy}{\\sqrt{1-y^2}}=-dx$\n",
    "\n",
    "积分后得$y=\\pm{\\sqrt{1-(x+c)^2}}$，即$x'=\\pm{\\sqrt{1-(x+c)^2}}$\n",
    "\n",
    "化简得$x=\\sin(t+c_1)+c_2$或$x=\\cos(t+c_1)+c_2$\n",
    "\n",
    "所以原方程的通解为$x=\\pm t+c$，$x=\\sin(t+c_1)+c_2$或$x=\\cos(t+c_1)+c_2$"
   ]
  },
  {
   "cell_type": "markdown",
   "metadata": {},
   "source": [
    "(6)$x''-\\frac{1}{t}x'+(x')^2=0$（提示：方程两端除以$x'$）\n",
    "\n",
    "解：令$x'=y$，直接计算可得$x''=y\\frac{dy}{dx}$\n",
    "\n",
    "于是原方程化为$y\\frac{dy}{dx}-\\frac{1}{t}y+y^2=0$\n",
    "\n",
    "可分$y=0$和$y\\neq 0$两种情况\n",
    "\n",
    "当$y=0$即$x'=0$时易得$x=c$，$c$为任意常数\n",
    "\n",
    "当$y\\neq 0$得$\\frac{dy}{dx}-\\frac{1}{t}+y=0$\n",
    "\n",
    "$\\frac{\\frac{dy}{dt}}{y}+y=\\frac{1}{t}$\n",
    "\n",
    "$\\frac{dy}{ydt}+y=\\frac{1}{t}$\n",
    "\n",
    "积分后得$\\ln|y|+x=\\ln|t|+c_1$\n",
    "\n",
    "所以$e^x=\\frac{t}{\\frac{dx}{dt}}+c_1$\n",
    "\n",
    "化简得$e^x=c_2(t^2+c_1)$\n",
    "\n",
    "所以原方程的通解为$x=c$，$e^x=c_2(t^2+c_1)$"
   ]
  },
  {
   "cell_type": "markdown",
   "metadata": {},
   "source": [
    "2、用幂级数解法求解下列方程：\n",
    "\n",
    "(2)$(1-t)x''+x=0$\n",
    "\n",
    "解：设$x=a_0+a_1t+a_2t^2+\\cdots+a_nt^n+\\cdots$为方程的解，这里$a_i(i=0,1,2,\\cdots,n,\\cdots)$是待定常数\n",
    "\n",
    "将它对$t$微分两次，有$x''=2\\bullet1a_2+3\\bullet2a_3t+\\cdots+n(n-1)a_nt^{n-2}+(n+1)na_{n+1}t^{n-1}+\\cdots$\n",
    "\n",
    "将$x$、$x''$的表达式代入原方程，比较$t$的同次幂的系数，并且令各项系数均等于0，得到方程组\n",
    "\n",
    "$\\begin{cases}2a_2+a_0=0\\\\3\\bullet 2a_3-2a_2+a_1=0\\\\ \\cdots\\cdots \\\\n(n-1)a_n-(n-1)(n-2)a_{n-1}+a_{n-2}=0\\end{cases}$\n",
    "\n",
    "设$x_1(t)$和$x_2(t)$是满足初值条件$x_1(0)=0,x'_1(0)=1,x_2(0)=1,x'_2(0)=0$的两个解\n",
    "\n",
    "对于$x_1(t)$有$a_0=0,a_1=1$,将它们代入方程组中得\n",
    "\n",
    "$a_2=0,a_3=\\frac{-1}{3*2},a_4=\\frac{-1}{4*3}=\\frac{-2}{4*3*2},a_5=\\frac{-5}{5*4*3*2},\\cdots$\n",
    "\n",
    "可以得到$a_n=\\frac{(n-1)(n-2)a_{n-1}-a_{n-2}}{n(n-1)}$\n",
    "\n",
    "即$x_1(t)=t-\\frac{t^3}{3!}-\\frac{2}{4!}t^4-\\frac{5}{5!}t^5\\cdots$\n",
    "\n",
    "对于$x_2(t)$有$a_0=1,a_1=0$,同样代入方程组中得到\n",
    "\n",
    "$a_2=-\\frac{1}{2},a_3=\\frac{-1}{3*2},a_4=\\frac{-1}{4*3*2},\\cdots$\n",
    "\n",
    "$a_n=\\frac{(n-1)(n-2)a_{n-1}-a_{n-2}}{n(n-1)}$\n",
    "\n",
    "即$x_2(t)=1-\\frac{1}{2!}t^2-\\frac{1}{3!}t^3-\\frac{1}{4!}t^4-\\cdots$\n",
    "\n",
    "因此方程的通解为\n",
    "\n",
    "$x=c_1x_1(t)+c_2x_2(t)=c_1(t-\\frac{t^3}{3!}-\\frac{2}{4!}t^4-\\frac{5}{5!}t^5-\\cdots)+c_2(1-\\frac{1}{2!}t^2-\\frac{1}{3!}t^3-\\frac{1}{4!}t^4-\\cdots)$"
   ]
  },
  {
   "cell_type": "markdown",
   "metadata": {
    "collapsed": true
   },
   "source": [
    "2016年11月16日  星期三\n",
    "\n",
    "P201\n",
    "\n",
    "2、将下面的初值问题化为与之等价的一阶方程组的初值问题\n",
    "\n",
    "(3)$\\begin{cases}x''+5y'-7x+6y=e^t\\\\y''-2y+13y'-15x=\\cos t\\end{cases}$\n",
    "\n",
    "$x(0)=1,x'(0)=0,y(0)=0,y'(0)=1$（提示：令$\\omega_1=x,\\omega_2=x',\\omega_3=y,\\omega_4=y'$）\n",
    "\n",
    "解：令$\\omega_1=x,\\omega_2=x',\\omega_3=y,\\omega_4=y'$\n",
    "\n",
    "则原方程组化为\n",
    "\n",
    "$\\begin{pmatrix}\\omega_1\\\\ \\omega_2\\\\ \\omega_3\\\\ \\omega_4\\end{pmatrix}=\\begin{pmatrix}0&1&0&0&\\\\7&0&-6&-5\\\\0&0&0&1\\\\15&0&2&-13\\end{pmatrix}\\begin{pmatrix}\\omega_1\\\\ \\omega_2\\\\ \\omega_3\\\\ \\omega_4\\end{pmatrix}+\\begin{pmatrix}0\\\\e^t\\\\0\\\\ \\cos t\\end{pmatrix}$\n",
    "\n",
    "初值条件为$\\omega_1(0)=1,\\omega_2(0)=0,\\omega_3(0)=0,\\omega_4(0)=1$"
   ]
  },
  {
   "cell_type": "markdown",
   "metadata": {},
   "source": [
    "3、试用逐步逼近法求方程组$\\mathbf x'=\\begin{bmatrix}0&1\\\\-1&0\\end{bmatrix}\\mathbf x$，满足初值条件$\\mathbf x(0)=\\begin{bmatrix}0\\\\1\\end{bmatrix}$的第三次近似解。\n",
    "\n",
    "解：$\\varphi_0(t)=\\begin{bmatrix}0\\\\1\\end{bmatrix}$\n",
    "\n",
    "$\\varphi_1(t)=\\begin{bmatrix}0\\\\1\\end{bmatrix}+\\int^0_1{\\begin{bmatrix}0&1\\\\-1&0\\end{bmatrix}\\begin{bmatrix}0\\\\1\\end{bmatrix}}ds=\\begin{bmatrix}0\\\\1\\end{bmatrix}+\\int^t_0{\\begin{bmatrix}0\\\\1\\end{bmatrix}}ds=\\begin{bmatrix}0\\\\1\\end{bmatrix}+\\begin{bmatrix}t\\\\0\\end{bmatrix}=\\begin{bmatrix}t\\\\1\\end{bmatrix}$\n",
    "\n",
    "$\\varphi_2(t)=\\begin{bmatrix}0\\\\1\\end{bmatrix}+\\int^t_0{\\begin{bmatrix}0&1\\\\-1&0\\end{bmatrix}\\begin{bmatrix}t\\\\1\\end{bmatrix}}dt=\\begin{bmatrix}0\\\\1\\end{bmatrix}+\\int^t_0{\\begin{bmatrix}1\\\\-t\\end{bmatrix}}dt=\\begin{bmatrix}0\\\\1\\end{bmatrix}+\\begin{bmatrix}t\\\\-\\frac{1}{2}t^2\\end{bmatrix}=\\begin{bmatrix}t\\\\1-\\frac{1}{2}t^2\\end{bmatrix}$\n",
    "\n",
    "$\\varphi_3(t)=\\begin{bmatrix}0\\\\1\\end{bmatrix}+\\int^t_0{\\begin{bmatrix}0&1\\\\-1&0\\end{bmatrix}\\begin{bmatrix}s\\\\1-\\frac{1}{2}s^2\\end{bmatrix}}ds=\\begin{bmatrix}0\\\\1\\end{bmatrix}+\\int^t_0{\\begin{bmatrix}1-\\frac{1}{2}s^2\\\\-s\\end{bmatrix}}ds=\\begin{bmatrix}0\\\\1\\end{bmatrix}+\\begin{bmatrix}t-\\frac{1}{6}t^3\\\\-\\frac{1}{2}t^2\\end{bmatrix}=\\begin{bmatrix}t-\\frac{1}{6}t^3\\\\1-\\frac{1}{2}t^2\\end{bmatrix}$\n",
    "\n",
    "所以满足初值条件$x(0)=\\begin{bmatrix}0\\\\1\\end{bmatrix}$的第三次近似解为$\\varphi_3(t)=\\begin{bmatrix}t-\\frac{1}{6}t^3\\\\1-\\frac{1}{2}t^2\\end{bmatrix}$"
   ]
  },
  {
   "cell_type": "markdown",
   "metadata": {},
   "source": [
    "# <font color='red'>A  25/11"
   ]
  },
  {
   "cell_type": "code",
   "execution_count": null,
   "metadata": {
    "collapsed": true
   },
   "outputs": [],
   "source": []
  }
 ],
 "metadata": {
  "kernelspec": {
   "display_name": "SageMath 7.3",
   "language": "",
   "name": "sagemath"
  },
  "language_info": {
   "codemirror_mode": {
    "name": "ipython",
    "version": 2
   },
   "file_extension": ".py",
   "mimetype": "text/x-python",
   "name": "python",
   "nbconvert_exporter": "python",
   "pygments_lexer": "ipython2",
   "version": "2.7.10"
  }
 },
 "nbformat": 4,
 "nbformat_minor": 0
}
