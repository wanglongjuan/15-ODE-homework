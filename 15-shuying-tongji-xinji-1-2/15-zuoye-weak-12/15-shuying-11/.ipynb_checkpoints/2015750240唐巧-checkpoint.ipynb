{
 "cells": [
  {
   "cell_type": "markdown",
   "metadata": {},
   "source": [
    "第十二周作业"
   ]
  },
  {
   "cell_type": "markdown",
   "metadata": {},
   "source": [
    "1.求解下列方程."
   ]
  },
  {
   "cell_type": "markdown",
   "metadata": {},
   "source": [
    "(2)$xx\"-(x')^2+(x')^3=0$"
   ]
  },
  {
   "cell_type": "markdown",
   "metadata": {},
   "source": [
    "解：令$x'=y$,得到$xy\\frac{dy}{dx}-y^2+y^3=0$\n",
    "\n",
    "即$y(x\\frac{dy}{dx}-y+y^2)=0$,得到$y=0$或$x\\frac{dy}{dx}-y+y^2=0$\n",
    "\n",
    "即$x\\frac{dy}{dx}=y-y^2$,得到$\\frac{dy}{y-y^2}=\\frac{dx}{x}$\n",
    "\n",
    "积分后得到$\\frac{y}{1-y}=c_1x,(c_1\\neq 0)$\n",
    "\n",
    "即就是$\\frac{x'}{1-x'}=c_1x$\n",
    "\n",
    "$x'=\\frac{c_1x}{1+c_1x}$\n",
    "\n",
    "即$\\frac{dx}{dt}=\\frac{c_1x}{1+c_1x}$\n",
    "\n",
    "$\\frac{(1+c_1x)dx}{c_1x}=dt$\n",
    "\n",
    "积分得到$\\frac{1}{c_1}lnx+x=t+c_2$\n",
    "\n",
    "当$y=0$时，方程的解为$x=c$\n",
    "\n",
    "因此方程的解为$\\frac{1}{c_1}lnx+x=t+c_2或x=c(c_1,c_2,c为任意常数）$"
   ]
  },
  {
   "cell_type": "markdown",
   "metadata": {},
   "source": [
    "(4)$x\"+\\sqrt{1-（x')^2}=0$"
   ]
  },
  {
   "cell_type": "markdown",
   "metadata": {
    "collapsed": true
   },
   "source": [
    "解：令$x'=y$,代入原方程得到$y\\frac{dy}{dx}+\\sqrt{1-y^2}=0$\n",
    "\n",
    "若$1-y^2=0$则$y=\\pm 1$,此时有$x=\\pm t+c_1$\n",
    "\n",
    "若$1-y^2\\neq 0$,得到$\\frac{dy}{dx}=-\\frac{\\sqrt{1-y^2}}{y}$\n",
    "\n",
    "即就是$\\frac{ydy}{\\sqrt{1-y^2}}=-dx$,积分得到$\\sqrt{1-y^2}=x+c$\n",
    "\n",
    "即$y=\\pm\\sqrt{1-(x+c)^2}$\n",
    "\n",
    "又$x'=y$,即$x'=\\frac{dx}{dt}=\\pm\\sqrt{1-(x+c)^2}$\n",
    "\n",
    "当$\\frac{dx}{dt}=\\sqrt{1-(x+c)^2}$时，积分得到$\\arcsin(x+c)=t+c_1$,则有$x=\\sin(t+c_1)-c$\n",
    "\n",
    "当$\\frac{dx}{dt}=-\\sqrt{1-(x+c)^2}$时，积分得到$\\arccos(x+c)=t+c_1$,则有$x=\\cos(t+c_1)-c$\n",
    "\n",
    "因此原方程的解为$x=\\pm t+c_1,x=\\sin(t+c_1)-c,x=\\cos(t+c_1)-c$(其中$c_1,c$为任意常数）."
   ]
  },
  {
   "cell_type": "markdown",
   "metadata": {},
   "source": [
    "(6)$x\"-\\frac{1}{t}x'+(x')^2=0$（提示：方程两端除以$x'$)"
   ]
  },
  {
   "cell_type": "markdown",
   "metadata": {
    "collapsed": true
   },
   "source": [
    "解：当$x'\\neq 0$时，方程的两端同时除以$x'$,得到$\\frac{x\"}{x'}-\\frac{1}{t}+x'=0$\n",
    "\n",
    "即就是$d(ln|x'|-\\ln|t|+x)=0$\n",
    "\n",
    "两边积分得到$\\ln|x'|-\\ln|t|+x=c$\n",
    "\n",
    "解得$x'=te^{c-x}$\n",
    "\n",
    "可以得到$e^x=e^c(\\frac{t^2}{2}+c_1$,因为$c,c_1$为任意常数，\n",
    "\n",
    "则可以得到$e^x=c(t^2+c_1)$\n",
    "\n",
    "当$x'=0$时，得到方程的解为$x=c_2$\n",
    "\n",
    "因此原方程的解为$e^x=c(t^2+c_1)$或$x=c_2$(其中$c,c_1,c_2$为任意常数）."
   ]
  },
  {
   "cell_type": "markdown",
   "metadata": {},
   "source": [
    "2.用幂级数法求解下列方程；\n",
    "\n",
    "(2)$(1-t)x\"+x=0;$"
   ]
  },
  {
   "cell_type": "markdown",
   "metadata": {
    "collapsed": true
   },
   "source": [
    "解：设$x=a_0+a_1t+a_2t^2+\\dots+a_nt^n+\\dots$是方程的解，则有\n",
    "\n",
    "$$x'=a_1+2a_2t+3a_3t^2+\\dots+na_nt^{n-1}+\\dots$$\n",
    "\n",
    "$$x\"=2a_2+3\\bullet 2a_3t+\\dots+n(n-1)a_nt^{n-2}+\\dots$$\n",
    "\n",
    "将$x,x',x\"$的表达式代入原方程中，合并$t$的各同次幂的项，并且令各项系数均等于0，即可得到方程组\n",
    "\n",
    "$$\\begin{cases}2a_2+a_0=0\\\\3\\bullet 2a_3-2a_2+a_1=0\\\\n(n-1)a_n-(n-1)(n-2)a_{n-1}+a_{n-2}=0\\end{cases}$$\n",
    "\n",
    "设$x_1(t)$和$x_2(t)$是满足初值条件$x_1(0)=0,x'_1(0)=1,x_2(0)=1,x'_2(0)=0$的两个解.\n",
    "\n",
    "对于$x_1(t)$,显然有$a_0=0,a_1=1$,将它们代入方程组中，\n",
    "\n",
    "得到$a_2=0,a_3=\\frac{-1}{3*2},a_4=\\frac{-1}{4*3}=\\frac{-2}{4*3*2},a_5=\\frac{-5}{5*4*3*2},\\dots$\n",
    "\n",
    "得到$$a_n=\\frac{(n-1)(n-2)a_{n-1}-a_{n-2}}{n(n-1)}$$\n",
    "\n",
    "即$$x_1(t)=t-\\frac{t^3}{3!}-\\frac{2}{4!}t^4-\\frac{5}{5!}t^5\\dots$$\n",
    "\n",
    "对于$x_2(t)$,显然有$a_0=1,a_1=0$,同样代入方程组中得到\n",
    "\n",
    "$$a_2=-\\frac{1}{2},a_3=\\frac{-1}{3*2},a_4=\\frac{-1}{4*3*2},\\dots$$\n",
    "\n",
    "$$a_n=\\frac{(n-1)(n-2)a_{n-1}-a_{n-2}}{n(n-1)}$$\n",
    "\n",
    "即$$x_2(t)=1-\\frac{1}{2!}t^2-\\frac{1}{3!}t^3-\\frac{1}{4!}t^4-\\dots$$\n",
    "\n",
    "因此方程的通解为\n",
    "\n",
    "$$x=c_1x_1(t)+c_2x_2(t)=c_1(t-\\frac{t^3}{3!}-\\frac{2}{4!}t^4-\\frac{5}{5!}t^5\\dots)+c_2(1-\\frac{1}{2!}t^2-\\frac{1}{3!}t^3-\\frac{1}{4!}t^4-\\dots)$$\n",
    "\n"
   ]
  },
  {
   "cell_type": "markdown",
   "metadata": {},
   "source": [
    "2.将下面的初值问题化为与之等价的一阶方程组的初值问题；\n",
    "\n",
    "(3)$\\begin{cases}x\"+5y'-7x+6y=e^t,\\\\y\"-2y+13y'-15x=\\cos t',\\end{cases}$\n",
    "\n",
    "$x(0)=1,x'(0)=0,y(0)=0,y'(0)=1.$(提示：令$\\omega_1=x,\\omega_2=x',\\omega_3=y,\\omega_4=y')$"
   ]
  },
  {
   "cell_type": "markdown",
   "metadata": {
    "collapsed": true
   },
   "source": [
    "解：令$\\omega_1=x,\\omega_2=x',\\omega_3=y,\\omega_4=y'$,z则原方程组化为\n",
    "\n",
    "$\\begin{pmatrix}\\omega_1\\\\\\omega_2\\\\\\omega_3\\\\\\omega_4\\end{pmatrix}=\\begin{pmatrix}0&1&0&0&\\\\7&0&-6&-5\\\\0&0&0&1\\\\15&0&2&-13\\end{pmatrix}\n",
    "\\begin{pmatrix}\\omega_1\\\\\\omega_2\\\\\\omega_3\\\\\\omega_4\\end{pmatrix}+\\begin{pmatrix}0\\\\e^t\\\\0\\\\\\cos t\\end{pmatrix}$,\n",
    "\n",
    "初值条件为$\\omega_1(0)=1,\\omega_2(0)=0,\\omega_3(0)=0,\\omega_4(0)=1$\n",
    "\n"
   ]
  },
  {
   "cell_type": "markdown",
   "metadata": {},
   "source": [
    "3.试用逐步逼近法求方程组.\n",
    "\n",
    "$$x'=\\begin{bmatrix}0&1\\\\-1&0\\end{bmatrix}x,$$\n",
    "\n",
    "满足初值条件$$x(0)=\\begin{bmatrix}0\\\\1\\end{bmatrix}$$\n",
    "\n",
    "的第三次近似解."
   ]
  },
  {
   "cell_type": "markdown",
   "metadata": {
    "collapsed": true
   },
   "source": [
    "解：$\\varphi_0(t)=\\begin{bmatrix}0\\\\1\\end{bmatrix}$\n",
    "\n",
    "$\\varphi_1(t)=\\begin{bmatrix}0\\\\1\\end{bmatrix}+\\int^0_1\\begin{bmatrix}0&1\\\\-1&0\\end{bmatrix}\\begin{bmatrix}0\\\\1\\end{bmatrix}ds$\n",
    "\n",
    "$=\\begin{bmatrix}0\\\\1\\end{bmatrix}+\\int^t_0\\begin{bmatrix}0\\\\1\\end{bmatrix}ds$\n",
    "\n",
    "$=\\begin{bmatrix}0\\\\1\\end{bmatrix}+\\begin{bmatrix}t\\\\0\\end{bmatrix}$\n",
    "\n",
    "$=\\begin{bmatrix}t\\\\1\\end{bmatrix}$\n",
    "\n",
    "$\\varphi_2(t)=\\begin{bmatrix}0\\\\1\\end{bmatrix}+\\int^t_0\\begin{bmatrix}0&1\\\\-1&0\\end{bmatrix}\\begin{bmatrix}t\\\\1\\end{bmatrix}dt$\n",
    "\n",
    "$=\\begin{bmatrix}0\\\\1\\end{bmatrix}+\\int^t_0\\begin{bmatrix}1\\\\-t\\end{bmatrix}dt$\n",
    "\n",
    "$=\\begin{bmatrix}0\\\\1\\end{bmatrix}+\\begin{bmatrix}t\\\\-\\frac{1}{2}t^2\\end{bmatrix}$\n",
    "\n",
    "$=\\begin{bmatrix}t\\\\1-\\frac{1}{2}t^2\\end{bmatrix}$\n",
    "\n",
    "$\\varphi_3(t)=\\begin{bmatrix}0\\\\1\\end{bmatrix}+\\int^t_0\\begin{bmatrix}0&1\\\\-1&0\\end{bmatrix}\\begin{bmatrix}s\\\\1-\\frac{1}{2}s^2\\end{bmatrix}ds$\n",
    "$=\\begin{bmatrix}0\\\\1\\end{bmatrix}+\\int^t_0\\begin{bmatrix}1-\\frac{1}{2}s^2\\\\-s\\end{bmatrix}ds$\n",
    "\n",
    "$=\\begin{bmatrix}0\\\\1\\end{bmatrix}+\\begin{bmatrix}t-\\frac{1}{6}t^3\\\\-\\frac{1}{2}t^2\\end{bmatrix}$\n",
    "\n",
    "$=\\begin{bmatrix}t-\\frac{1}{6}t^3\\\\1-\\frac{1}{2}t^2\\end{bmatrix}$\n",
    "\n",
    "所以满足初值条件$x(0)=\\begin{bmatrix}0\\\\1\\end{bmatrix}$的第三次近似解为\n",
    "\n",
    "$\\varphi_3(t)=\\begin{bmatrix}t-\\frac{1}{6}t^3\\\\1-\\frac{1}{2}t^2\\end{bmatrix}$\n",
    "\n"
   ]
  },
  {
   "cell_type": "markdown",
   "metadata": {},
   "source": [
    "# <font color='red'>A  25/11"
   ]
  },
  {
   "cell_type": "code",
   "execution_count": null,
   "metadata": {
    "collapsed": true
   },
   "outputs": [],
   "source": []
  }
 ],
 "metadata": {
  "kernelspec": {
   "display_name": "SageMath 7.3",
   "language": "",
   "name": "sagemath"
  },
  "language_info": {
   "codemirror_mode": {
    "name": "ipython",
    "version": 2
   },
   "file_extension": ".py",
   "mimetype": "text/x-python",
   "name": "python",
   "nbconvert_exporter": "python",
   "pygments_lexer": "ipython2",
   "version": "2.7.10"
  }
 },
 "nbformat": 4,
 "nbformat_minor": 0
}
