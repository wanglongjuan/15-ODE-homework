{
 "cells": [
  {
   "cell_type": "markdown",
   "metadata": {
    "collapsed": false
   },
   "source": [
    "1.求解下列方程：\n",
    "\n",
    "(2)$xx''-(x')^2+(x')^3=0;$\n",
    "\n",
    "(4)$x''+\\sqrt{1-(x')^2}=0$\n",
    "\n",
    "(6)$x''-\\frac{1}{t}x'+(x')^2=0$"
   ]
  },
  {
   "cell_type": "markdown",
   "metadata": {},
   "source": [
    "解：\n",
    "（2）\n",
    "令$x'=y$,得\n",
    "$$xy\\frac{dy}{dx}-y^2+y^3=0$$\n",
    "整理得\n",
    "$$y(x\\frac{dy}{dx}-y+y^2)=0$$\n",
    "得到\n",
    "$$y=0,\\frac{dy}{dx}=\\frac{y-y^2}{x}$$\n",
    "当$\\frac{dy}{dx}=\\frac{y-y^2}{x}$时\n",
    "分离变量后积分得\n",
    "$$\\frac{y}{1-y}=c_1x$$\n",
    "将$x'=y$代入上式，得\n",
    "$$\\frac{x'}{1-x'}=c_1x$$\n",
    "对上式积分得\n",
    "$$x+\\frac{1}{c_1}ln|x|=t+c_2$$\n",
    "当$y=0$时\n",
    "$$x=c_3t$$\n",
    "综上，$xx''-(x')^2+(x')^3=0$的解为\n",
    "$$x=c_3t和x+\\frac{1}{c_1}ln|x|=t+c_2，其中c_1,c_2,c_3为任意常数$$"
   ]
  },
  {
   "cell_type": "markdown",
   "metadata": {},
   "source": [
    "（4）\n",
    "令$x'=y$,得\n",
    "\n",
    "$$y\\frac{dy}{dx}+\\sqrt{1-(y)^2}=0$$\n",
    "\n",
    "当$y=\\pm 1$时，$x=\\pm t+c_1$\n",
    "\n",
    "当$y\\neq \\pm 1$时，\n",
    "\n",
    "方程可化为\n",
    "\n",
    "$$\\frac{ydy}{\\sqrt{1-(y)^2}}=-dx$$\n",
    "\n",
    "分离变量后积分得\n",
    "\n",
    "$$x=\\sqrt{1-(y)^2}+c_2$$\n",
    "\n",
    "整理得\n",
    "\n",
    "$$x'=\\pm \\sqrt{1-x^2}$$\n",
    "\n",
    "当$x'=\\sqrt{1-x^2}$时，$x=sin(t+c_1)+c_2$\n",
    "\n",
    "当$x'=-\\sqrt{1-x^2}$时，$x=cos(t+c_1)+c_2$\n",
    "\n",
    "综上，$x''+\\sqrt{1-(x')^2}=0$的解为\n",
    "\n",
    "$$x=\\pm t+c_1，x=cos(t+c_1)+c_2和x=cos(t+c_1)+c_2，其中c_1,c_2,c_3为任意常数$$"
   ]
  },
  {
   "cell_type": "markdown",
   "metadata": {},
   "source": [
    "（6）\n",
    "当$x'=0$时，$x''-\\frac{1}{t}x'+(x')^2=0$,故$x=c_1$是方程的解\n",
    "\n",
    "当$x'\\pm =0$时\n",
    "方程两边同时除以$x'$,得\n",
    "$$\\frac{x''}{x'}-\\frac{1}{t}+x'=0$$\n",
    "$$d(ln|x'|-ln|t|+x)=0$$\n",
    "两边积分可得\n",
    "$$ln|x'|-ln|t|+x+c_2=0$$\n",
    "整理，得\n",
    "$$x'=t(e^{-x+c_2})$$\n",
    "两边同时积分得\n",
    "$$x=\\frac{t^2}{2}(e^{-x+c_2})+c_3$$\n",
    "综上，$x''-\\frac{1}{t}x'+(x')^2=0$的解为\n",
    "\n",
    "$$x=c_1和x=\\frac{t^2}{2}(e^{-x+c_2})+c_3，其中c_1,c_2,c_3为任意常数$$"
   ]
  },
  {
   "cell_type": "markdown",
   "metadata": {},
   "source": [
    "2.用幂级数解法求解下列方程：\n",
    "\n",
    "（2）$(1-t)x''+x=0$"
   ]
  },
  {
   "cell_type": "markdown",
   "metadata": {},
   "source": [
    "解：\n",
    "\n",
    "设$x=a_0+a_1t+a_2t^2+a_3t^3+…+a_nt^n+…$是方程的解\n",
    "\n",
    "这里$a_i(i=0,1,2,…,n,…)$是待定系数，将它对$x$微分两次\n",
    "\n",
    "$$x'=a_1+a_2t+a_3t^2+a_4t^3…+a_nt^{n-1}+…$$\n",
    "$$x''=a_2+a_3t+a_4t^2a_5t^3…+a_nt^{n-2}+…$$\n",
    "\n",
    "将$x,x’,x’’$的表达式代入方程，合并$x$的同次幂的系数，并令各项系数等于0，得到\n",
    "$$\n",
    "\\begin{cases}\n",
    "a_0+2a_2=0\\\\\n",
    "a_1-2a_2+6a_3=0\\\\\n",
    "n(n-1)a_n-(n-1)(n-2)a_{n-1}+a_{n-2}=0\\\\\n",
    "\\end{cases}\n",
    "$$\n",
    "其中$a_0,a_1$是任意的\n",
    "\n",
    "设$ x_1(t), x_2(t)$是满足初值条件$x_1(0)=0,x’_1(0)=1,x_2(0)=1,x’_2=0$的解\n",
    "\n",
    "对于$x_1(t)$\n",
    "\n",
    "可得$$a_0=0,a_1=1$$\n",
    "\n",
    "将$a_0,a_1$代入方程组，得\n",
    "\n",
    "$$a_2=0,a_3=\\frac{-1}{3*2},a_4=\\frac{-2}{4*3*2}, a_5=\\frac{-5}{5*4*3*2},…$$\n",
    "$$a_n=\\frac{(n-1)(n-2)a_{n-1}-a_{n-2}}{n(n-1)}$$\n",
    "\n",
    "综上，$$x_1(t)=t-\\frac{t^3}{3!}-\\frac{2}{4!}t^4-…$$\n",
    "\n",
    "对于$x_2(t)$\n",
    "\n",
    "可得$$a_0=1,a_1=0$$\n",
    "\n",
    "将$a_0,a_1$代入方程组，得\n",
    "\n",
    "$$a_2=\\frac{-1}{2},a_3=\\frac{-1}{3*2},a_4=\\frac{-1}{4*3*2}, a_5=\\frac{-1}{5*4*3*2},…$$\n",
    "$$a_n=\\frac{(n-1)(n-2)a_{n-1}-a_{n-2}}{n(n-1)}$$\n",
    "\n",
    "综上，$$x_2(t)=1-\\frac{t^2}{2!}-\\frac{1}{3!}t^3-…$$\n",
    "\n",
    "所以方程的通解为$x=c_1x_1(t)+c_2x_2(t)=c_1(t-\\frac{t^3}{3!}-\\frac{2}{4!}t^4-…)+c_2(1-\\frac{t^2}{2!}-\\frac{1}{3!}t^3-…)$\n"
   ]
  },
  {
   "cell_type": "markdown",
   "metadata": {},
   "source": [
    "2.将下面的初值问题化为与之等价的一阶方程组的初值问题：\n",
    "\n",
    "(3)\n",
    "$\n",
    "\\begin{cases}\n",
    "x’’+5y’-7x+6y=e^t\\\\\n",
    "y’’-2y+13y’-15x=cost\\\\\n",
    "\\end{cases}\n",
    "$\n",
    "\n",
    "$x(0)=1,x’(0)=0,y(0)=0,y’(0)=1$"
   ]
  },
  {
   "cell_type": "markdown",
   "metadata": {},
   "source": [
    "解：令$w_1=x,w_2=x’,w_3=y,w_4=y’$\n",
    "\n",
    "$$                                 \n",
    "\\begin{bmatrix}\n",
    "w_1\\\\w_2\\\\ w_3\\\\ w_4\\\\          \n",
    "\\end{bmatrix}\n",
    "=\n",
    "\\begin{bmatrix}\n",
    "\\quad{0} \\quad{1}\\quad{0}\\quad{0} \\\\\\quad{7} \\quad{0}  \\quad{-6}  \\quad{-5}\\\\\\quad{0} \\quad{0}  \\quad{0} \\quad{-1}\\\\\\quad{-15}\\quad{0}  \\quad{2}  \\quad{-136}\\\\\n",
    "\\end{bmatrix}\n",
    "\\begin{bmatrix}\n",
    "w_1\\\\w_2\\\\w_3\\\\w_4\\\\\n",
    "\\end{bmatrix}\n",
    "+\n",
    "\\begin{bmatrix}\n",
    "0\\\\e^t\\\\0\\\\cost\\\\\n",
    "\\end{bmatrix}\n",
    "$$\n",
    "$ w_1(0)=1, w_2(0)=0, w_3(0)=0, w_4(0)=1$是初值条件"
   ]
  },
  {
   "cell_type": "markdown",
   "metadata": {},
   "source": [
    "3.试用逐步逼近法求方程\n",
    "x’=\n",
    "$\n",
    "\\begin{bmatrix}\n",
    "\\quad{0}  \\quad{1}\\\\\n",
    "\\quad{-1}  \\quad{0}\\\\\n",
    "\\end{bmatrix}\n",
    "x\n",
    "$\n",
    "\n",
    "满足初值条件\n",
    "$x(0)\n",
    "=\n",
    "\\begin{bmatrix}0 \\\\1\\\\\\end{bmatrix}\n",
    "$的第三次近似解"
   ]
  },
  {
   "cell_type": "markdown",
   "metadata": {},
   "source": [
    "解：\n",
    "由命题一\n",
    "$$\\phi_0(t)= \n",
    "\\begin{bmatrix}0 \\\\1\\\\\\end{bmatrix}$$\n",
    "$$\\phi_1(t)= \n",
    "\\begin{bmatrix}0 \\\\1\\\\\\end{bmatrix}+\\int_1^0{\\begin{bmatrix}\\quad{0}\\quad{1}\\\\\\quad{-1}\\quad{0}\\\\\\end{bmatrix}\\begin{bmatrix}0 \\\\1\\\\\\end{bmatrix}}ds=\\begin{bmatrix}t \\\\1\\\\\\end{bmatrix}$$\n",
    "$$\\phi_2(t)= \\begin{bmatrix}t \\\\1\\\\\\end{bmatrix}+\\int_1^0{\\begin{bmatrix}\\quad{0}\\quad{1} \\\\\\quad{-1}\\quad{0}\\\\\\end{bmatrix}\\begin{bmatrix}t \\\\1\\\\\\end{bmatrix}}dt=\\begin{bmatrix}t \\\\1-\\frac{1}{t^2}\\\\\\end{bmatrix}$$\n",
    "$$\\phi_3(t)= \\begin{bmatrix}t \\\\1-\\frac{1}{t^2}\\\\\\end{bmatrix}+\\int_1^0{\\begin{bmatrix}\\quad{0}\\quad{1}\\\\\\quad{-1}\\quad{0}\\\\\\end{bmatrix}\\begin{bmatrix}t \\\\1\\\\\\end{bmatrix}}ds=\\begin{bmatrix}t-\\frac{1}{6}t^3 \\\\1-\\frac{1}{t^2}\\\\\\end{bmatrix}$$\n",
    "故满足初值条件$x(0)=\\begin{bmatrix}0 \\\\1\\\\\\end{bmatrix}$的第三次近似解\n",
    "为$$\\begin{bmatrix}t-\\frac{1}{6}t^3 \\\\1-\\frac{1}{t^2}\\\\\\end{bmatrix}$$\n"
   ]
  },
  {
   "cell_type": "markdown",
   "metadata": {
    "collapsed": true
   },
   "source": [
    "# <font color='red'>A  25/11"
   ]
  },
  {
   "cell_type": "code",
   "execution_count": null,
   "metadata": {
    "collapsed": true
   },
   "outputs": [],
   "source": []
  }
 ],
 "metadata": {
  "kernelspec": {
   "display_name": "Python 2",
   "language": "python",
   "name": "python2"
  },
  "language_info": {
   "codemirror_mode": {
    "name": "ipython",
    "version": 2
   },
   "file_extension": ".py",
   "mimetype": "text/x-python",
   "name": "python",
   "nbconvert_exporter": "python",
   "pygments_lexer": "ipython2",
   "version": "2.7.10"
  }
 },
 "nbformat": 4,
 "nbformat_minor": 0
}
