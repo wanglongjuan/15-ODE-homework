{
 "cells": [
  {
   "cell_type": "markdown",
   "metadata": {},
   "source": [
    "# 1.求解下列方程："
   ]
  },
  {
   "cell_type": "markdown",
   "metadata": {},
   "source": [
    "## （1）$x x'-(x')^2+(x'）^3=0$"
   ]
  },
  {
   "cell_type": "markdown",
   "metadata": {},
   "source": [
    "令$x'=y$,则方程化为\n",
    "$$xy\\frac{dy} {dx}-y^2+y^3=0$$\n",
    "得到$$y=0或者\\frac{dy} {dx}=\\frac{y-y^2} {x}$$\n",
    "积分后得到$\\frac{y} {1-y}=c_1x,(c_1\\not=0)即\\frac{x'} {1-x'}=c_1x$\n",
    "\n",
    "再次积分得到\n",
    "$$x+\\frac{1} {c_1} \\ln |x|=t+c_2$$\n",
    "当$y=0时,得x'=0,故x=c$\n",
    "\n",
    "综上所述，方程的解为$$x+\\frac{1} {c_1} \\ln |x|=t+c_2或x=c$$\n",
    "这里$c_1,c_2,c_3$是任意常数"
   ]
  },
  {
   "cell_type": "markdown",
   "metadata": {},
   "source": [
    "## （2）$x''+\\sqrt{1-(x')^2}=0$"
   ]
  },
  {
   "cell_type": "markdown",
   "metadata": {},
   "source": [
    "令$x'=y$,则方程化为\n",
    "$$y\\frac{dy} {dx}+\\sqrt{1-y^2}=0$$\n",
    "当$y=1或-1$时，即$x'=t+c_1或-t+c_1$\n",
    "\n",
    "当$y\\not=1或-1$时，方程又可以化为\n",
    "$$\\frac{ydy} {\\sqrt{1-y^2}}=-dx$$\n",
    "积分后得到$\\sqrt{1-y^2}=x+c 即\\sqrt{1-x'^2}=x+c$\n",
    "\n",
    "再次积分则得到\n",
    "\n",
    "1.当$x'=+\\sqrt{1-(x+c)^2}时，x=\\sin (t+c_1)-c$\n",
    "\n",
    "2.当$x'=-\\sqrt{1-(x+c)^2}时，x=\\cos (t+c_1)-c$\n",
    "\n",
    "综合以上几种情况，即得原方程的解为\n",
    "$$x=\\sin (t+c_1)-c或x=\\cos (t+c_1)-c，以及x=t+c_1或-t+c_1$$\n",
    "这里$c_1,c_2$是任意常数"
   ]
  },
  {
   "cell_type": "markdown",
   "metadata": {},
   "source": [
    "## （3）$x''-\\frac{1} {t} x'+(x')^2=0$"
   ]
  },
  {
   "cell_type": "markdown",
   "metadata": {},
   "source": [
    "当$x'\\not=0$，方程两边同除以$x'$，\n",
    "\n",
    "则得到$$\\frac{x''} {x'}-\\frac{1} {t}+x'=0$$\n",
    "即$d(\\ln |x'|-\\ln |t|+x)=0$\n",
    "\n",
    "两边积分可得$$\\ln |\\frac{x'} {t}|+x=c_1$$\n",
    "解出$x'$，则有$$x'=t(e^{-x+c_1})$$\n",
    "再次积分可得$$e^x=e^{c_1}(\\frac{t^2} {2})+c_2$$\n",
    "由于这里的$c_1,c_2$是任意的常数，所以可以写成$$e^x=c_1(t^2+c_2)$$\n",
    "当$x'=0$时，即得$x=c$，显然它也是原方程的解\n",
    "\n",
    "综上所述，方程的解是$$e^x=c_1(t^2+c_2)或x=c$$\n",
    "这里$c_1,c_2$是任意常数"
   ]
  },
  {
   "cell_type": "markdown",
   "metadata": {},
   "source": [
    "# 2.用幂级数解法求解下列方程："
   ]
  },
  {
   "cell_type": "markdown",
   "metadata": {},
   "source": [
    "## （1）$(1-t)x''+x=0$"
   ]
  },
  {
   "cell_type": "markdown",
   "metadata": {},
   "source": [
    "设$x=a_0+a_1t+a_2t^2+a_3t^3+\\cdots+a_nt^n+\\cdots$是方程的解，则\n",
    "\n",
    "$x'=a_1+2a_2t+3a_3t^2+\\cdots+na_nt^{n-1}+\\cdots$\n",
    "\n",
    "$x''=2a_2+6a_3t+\\cdots+n(n-1)a_nt^{n-2}+\\cdots$\n",
    "\n",
    "把$x,x',x''$的表达式代入原方程，合并t的各同次幂的项，并令各项系数等于零，得到\n",
    "$$\\begin{cases}\n",
    "a_0+2a_2=0\\\\a_1-2a_2+6a_3=0\\\\n(n-1)a_n-(n-1)(n-2)a_{n-1}+a_{n-2}=0\n",
    "\\end{cases}$$\n",
    "由于本题设有初值条件，所以求出的应该是方程的通解，为此，需要找到两个线性无关的解\n",
    "\n",
    "我们设$x_1(t)和x_2(t)$是满足初值条件$x_1(0)=0,x'_1(0)=1,x_2(0)=1,x'_2(0)=0$的两个解\n",
    "\n",
    "对于$x_1(t)$，显然有$a_0=0,a_1=1$,代入上式，可得\n",
    "$$a_2=0,a_3=\\frac{-1} {6},a_4=\\frac{-1} {12}\\cdots a_n=\\frac{(n-1)(n-2)a_{n-1}-a_{n-2}} {n(n-1)}$$\n",
    "即$$x_1(t)=t-\\frac{t^3} {3!}-\\frac{2t^4} {4!}-\\frac{5t^5} {5!}\\cdots$$\n",
    "对于$x_2(t)$，显然有$a_0=1,a_1=0$,代入上式，可得\n",
    "$$a_2=-\\frac{1} {2},a_3=-\\frac{1} {6}\\cdots a_n=\\frac{(n-1)(n-2)a_{n-1}-a_{n-2}} {n(n-1)}$$\n",
    "即$$x_2(t)=1-\\frac{1} {2!}t^2-\\frac{1} {3!}t^3-\\frac{1} {4!}t^4-\\cdots$$\n",
    "所以方程的通解为$$x=c_1(t-\\frac{t^3} {3!}-\\frac{2t^4} {4!}-\\frac{5t^5} {5!}\\cdots)+c_2(1-\\frac{1} {2!}t^2-\\frac{1} {3!}t^3-\\frac{1} {4!}t^4-\\cdots)$$"
   ]
  },
  {
   "cell_type": "markdown",
   "metadata": {
    "collapsed": true
   },
   "source": [
    "# 3.将下面的初值问题化为与之等价的一阶方程组的初值问题："
   ]
  },
  {
   "cell_type": "markdown",
   "metadata": {},
   "source": [
    "### （1）$\\begin{cases}x''+5y'-7x+6y=e^t\\\\y''-2y+13y'-15x=\\cos t\\end{cases}\n",
    "\\\\x(0)=1,x'(0)=0,y(0)=0,y'(0)=1$"
   ]
  },
  {
   "cell_type": "markdown",
   "metadata": {},
   "source": [
    "令$w_1=x,w_2=x',w_3=y,w_4=y'$，则原方程组\n",
    "\n",
    "$$\\begin{pmatrix}w_1\\\\w_2\\\\w_3\\\\w_4\\\\\\end{pmatrix}=\\begin{pmatrix}0&1&0&0\\\\7&0&-6&-5\\\\0&0&0&1\\\\15&0&2&-13\\\\\\end{pmatrix}\\begin{pmatrix}w_1\\\\w_2\\\\w_3\\\\w_4\\\\\\end{pmatrix}+\\begin{pmatrix}0\\\\e^t\\\\0\\\\{\\cos t}\\\\\\end{pmatrix}$$\n",
    "\n",
    "初值条件为$w_1(0)=1,w_2(0)=0,w_3(0)=0,w_4(0)=1$"
   ]
  },
  {
   "cell_type": "markdown",
   "metadata": {},
   "source": [
    "## 3.试用逐步逼近法求方程组 $x'={\\left[\\begin{matrix}0&1\\\\-1&0\\\\\\end{matrix}\\right]}x$ ，满足初值条$x(0)=\\left[\\begin{matrix}0\\\\1\\\\\\end{matrix}\\right]$的第三次近似解"
   ]
  },
  {
   "cell_type": "markdown",
   "metadata": {},
   "source": [
    "$\\varphi_0(t)=\\left[\\begin{matrix}0\\\\1\\\\\\end{matrix}\\right]$\n",
    "\n",
    "$\\begin{aligned}\\varphi_1(t)&=\\left[\\begin{matrix}0\\\\1\\\\\\end{matrix}\\right]+\\int_{1}^{0}\\mathrm {{\\left[\\begin{matrix}0&1\\\\-1&0\\\\\\end{matrix}\\right]}{\\left[\\begin{matrix}0\\\\1\\\\\\end{matrix}\\right]}}\\mathrm{d} s\\\\&=\\left[\\begin{matrix}0\\\\1\\\\\\end{matrix}\\right]+\\int_{0}{t}\\mathrm {\\left[\\begin{matrix}1\\\\0\\\\\\end{matrix}\\right]}\\mathrm{d} s\\\\&=\\left[\\begin{matrix}t\\\\1\\\\\\end{matrix}\\right]\\end{aligned}$\n",
    "\n",
    "$\\begin{aligned}\\varphi_2(t)&=\\left[\\begin{matrix}0\\\\1\\\\\\end{matrix}\\right]+\\int_{0}^{t}\\mathrm {{\\left[\\begin{matrix}0&1\\\\-1&0\\\\\\end{matrix}\\right]}{\\left[\\begin{matrix}t\\\\1\\\\\\end{matrix}\\right]}}\\mathrm{d} t\\\\&=\\left[\\begin{matrix}0\\\\1\\\\\\end{matrix}\\right]+\\int_{0}{t}\\mathrm {\\left[\\begin{matrix}1\\\\-t\\\\\\end{matrix}\\right]}\\mathrm{d} t\\\\&=\\left[\\begin{matrix}t\\\\1-\\frac{1}{2}t^2\\\\\\end{matrix}\\right]\\end{aligned}$\n",
    "\n",
    "$\\begin{aligned}\\varphi_3(t)&=\\left[\\begin{matrix}0\\\\1\\\\\\end{matrix}\\right]+\\int_{0}^{t}\\mathrm {{\\left[\\begin{matrix}0&1\\\\-1&0\\\\\\end{matrix}\\right]}{\\left[\\begin{matrix}s\\\\1-\\frac{1}{2}s^2\\\\\\end{matrix}\\right]}}\\mathrm{d} s\\\\&=\\left[\\begin{matrix}0\\\\1\\\\\\end{matrix}\\right]+\\int_{0}^{t}\\mathrm {{\\left[\\begin{matrix}1-\\frac{1}{2}s^2\\\\-s\\\\\\end{matrix}\\right]}}\\mathrm {d} s\\\\&=\\left[\\begin{matrix}t-\\frac{1}{6}t^3\\\\1-\\frac{1}{2}t^2\\\\\\end{matrix}\\right]\\end{aligned}$\n",
    "\n",
    "所以，满足初值条件$x(0)=\\left[\\begin{matrix}0\\\\1\\\\\\end{matrix}\\right]$的第三次近似解为\n",
    "$$\\varphi_3(t)=\\left[\\begin{matrix}t-\\frac{1}{6}t^3\\\\1-\\frac{1}{2}t^2\\\\\\end{matrix}\\right]$$"
   ]
  },
  {
   "cell_type": "markdown",
   "metadata": {
    "collapsed": true
   },
   "source": [
    "# <font color='red'>A  25/11"
   ]
  },
  {
   "cell_type": "code",
   "execution_count": null,
   "metadata": {
    "collapsed": true
   },
   "outputs": [],
   "source": []
  }
 ],
 "metadata": {
  "kernelspec": {
   "display_name": "SageMath 7.3",
   "language": "",
   "name": "sagemath"
  },
  "language_info": {
   "codemirror_mode": {
    "name": "ipython",
    "version": 2
   },
   "file_extension": ".py",
   "mimetype": "text/x-python",
   "name": "python",
   "nbconvert_exporter": "python",
   "pygments_lexer": "ipython2",
   "version": "2.7.10"
  }
 },
 "nbformat": 4,
 "nbformat_minor": 0
}
