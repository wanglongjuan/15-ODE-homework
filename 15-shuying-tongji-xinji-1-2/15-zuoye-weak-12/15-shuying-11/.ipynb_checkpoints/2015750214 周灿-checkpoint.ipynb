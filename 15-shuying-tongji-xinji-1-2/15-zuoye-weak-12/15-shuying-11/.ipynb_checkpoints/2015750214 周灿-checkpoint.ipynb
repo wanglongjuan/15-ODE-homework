{
 "cells": [
  {
   "cell_type": "markdown",
   "metadata": {},
   "source": [
    "数学与应用数学    周灿   2015750214 "
   ]
  },
  {
   "cell_type": "markdown",
   "metadata": {},
   "source": [
    "**P183**"
   ]
  },
  {
   "cell_type": "markdown",
   "metadata": {},
   "source": [
    "1（2）\n",
    "$xx''-(x')^2+(x')^3=0$"
   ]
  },
  {
   "cell_type": "markdown",
   "metadata": {},
   "source": [
    "令\n",
    "$x'=y$，\n",
    "\n",
    "\n",
    "$xy\\frac{dy}{dx}-y^2+y^3=0$\n",
    "\n",
    "得\n",
    "\n",
    "$y=0或\\frac{dy}{dx}=\\frac{y-y^2}{x}$\n",
    "\n",
    "\n",
    "$积分后：\\frac{y}{1-y}=c_1x,(c_1\\neq 0)$\n",
    "\n",
    "$\\Rightarrow$\n",
    "\n",
    "$\\frac{x'}{1-x'}=c_1x$\n",
    "\n",
    "再次积分\n",
    "\n",
    "$x+\\frac{1}{c_1}ln|x|=t+c_2$\n",
    "\n",
    "当\n",
    "$y=0$时$x'=0$所以$x=c$\n",
    "综上\n",
    "$$x=\\frac{1}{c_1}ln|x|=t+c_2或x=c$$\n",
    "其中\n",
    "$c_1,c_2,c$\n",
    "是任意常数"
   ]
  },
  {
   "cell_type": "markdown",
   "metadata": {},
   "source": [
    "（4）$x''+\\sqrt{1-(x')^2}=0$\n",
    "令\n",
    "$x'=y$\n",
    "则原方程可化为\n",
    "$y\\frac{\\mathrm{d}y}{\\mathrm{d}x}+\\sqrt{1-y^2}=0$\n",
    "当$y=\\pm1$时，\n",
    "$x'=\\pm t+c_1$；\n",
    "当$y\\neq\\pm1$时，方程可化为\n",
    "\n",
    "$\\frac{ydy}{\\sqrt{1-y^2}}=-dx$\n",
    "\n",
    "\n",
    "\n",
    "$积分后\\sqrt{1-y^2}=x+c$\n",
    "\n",
    "即\n",
    "\n",
    "$\\sqrt{1-x'^2}=x+c或x'=\\pm\\sqrt{1-(x+c)^2}$\n",
    "\n",
    "再次积分可得:\n",
    "当$x'=\\sqrt{1-(x+c)^2}$时,$x=sin(t+c_1)-c$\n",
    "\n",
    "当$x'=-\\sqrt{1-(x+c)^2}$时，$x=cos(t+c_1)-c$\n",
    "\n",
    "综上\n",
    "$x=sin(t+c_1)-c或x=cos(t+c_1)$\n",
    "\n",
    "以及\n",
    "$x=\\pm t+c_1$\n",
    "其中\n",
    "$c_1,c$是任意常数"
   ]
  },
  {
   "cell_type": "markdown",
   "metadata": {},
   "source": [
    "(6)$x''-\\frac{1}{t}x'+(x')^2=0$\n",
    "\n",
    "当$x'\\neq0$\n",
    "时，对方程两边同时除以\n",
    "$x'$\n",
    "可得:\n",
    "\n",
    "$\\frac{x''}{x'}-\\frac{1}{t}+x'=0$\n",
    "\n",
    "即$d(ln|x'|-ln|t|+x)=0$\n",
    "\n",
    "两边积分得：$ln\\left|\\frac{x'}{t}\\right|+x=c_1$\n",
    "\n",
    "解得\n",
    "$x'=t(e^{-x+c_1})$\n",
    "\n",
    "再次积分得：$e^x=e^{c_1}\\left(\\frac{t^2}{2}\\right)+c_2$\n",
    "\n",
    "即$e^x=c_1(t^2+c_2)$\n",
    "当$x'=0$时，得$x=c$知它也是原方程的解\n",
    "综上，方程的解为$e^x=c_1(t^2+c_2或x=c)$"
   ]
  },
  {
   "cell_type": "markdown",
   "metadata": {},
   "source": [
    "**P201**"
   ]
  },
  {
   "cell_type": "markdown",
   "metadata": {},
   "source": [
    "2.(3)\n",
    "\n",
    "$\\left\\{\\begin{array}{c}x''+5y'-7x+6y=e^t\\\\y''-2y+13y'-15x=cost\\end{array}\\right.$\n",
    "\n",
    "$x(0)=1,x'(0)=0,y(0)=0,y'(0)=1$\n",
    "\n",
    "令$a_1=x,a_2=x',a_3=y,a_4=y'$则\n",
    "\n",
    "$\\begin{pmatrix}a_1\\\\a_2\\\\a_3\\\\a_4\\\\\\end{pmatrix}=\\begin{pmatrix}0&1&0&0\\\\7&0&-6&-5\\\\0&0&0&1\\\\15&0&2&-13\\\\\\end{pmatrix}\\begin{pmatrix}a_1\\\\a_2\\\\a_3\\\\a_4\\\\\\end{pmatrix}+\\begin{pmatrix}0\\\\e^t\\\\0\\\\cost\\\\\\end{pmatrix}$\n",
    "\n",
    "初值条件为$a_1(0)=1,a_2(0)=0,a_3(0)=0,a_4(0)=1$"
   ]
  },
  {
   "cell_type": "markdown",
   "metadata": {},
   "source": [
    "**P201**"
   ]
  },
  {
   "cell_type": "markdown",
   "metadata": {},
   "source": [
    "3.\n",
    "\n",
    "$\\varphi_0(k)=\\begin{bmatrix}0\\\\1\\\\\\end{bmatrix}$\n",
    "\n",
    "$\\varphi_1(k)=\\begin{bmatrix}0\\\\1\\\\\\end{bmatrix}+\\int_1^0\\begin{bmatrix}0&1\\\\-1&0\\\\\\end{bmatrix}\\begin{bmatrix}0\\\\1\\\\\\end{bmatrix}ds$\n",
    "\n",
    "$=\\begin{bmatrix}0\\\\1\\\\\\end{bmatrix}+\\int_0^k\\begin{bmatrix}1\\\\0\\\\\\end{bmatrix}ds$\n",
    "\n",
    "$=\\begin{bmatrix}0\\\\1\\\\\\end{bmatrix}+\\begin{bmatrix}k\\\\0\\\\\\end{bmatrix}$\n",
    "\n",
    "$=\\begin{bmatrix}k\\\\1\\\\\\end{bmatrix}$\n",
    "\n",
    "$\\varphi_2(k)=\\begin{bmatrix}0\\\\1\\\\\\end{bmatrix}+\\int_0^k\\begin{bmatrix}0&1\\\\-1&0\\\\\\end{bmatrix}\\begin{bmatrix}k\\\\1\\\\\\end{bmatrix}dk$\n",
    "\n",
    "$=\\begin{bmatrix}0\\\\1\\\\\\end{bmatrix}+\\int_0^k\\begin{bmatrix}1\\\\-k\\\\\\end{bmatrix}dk$\n",
    "\n",
    "$=\\begin{bmatrix}0\\\\1\\\\\\end{bmatrix}+\\begin{bmatrix}k\\\\-\\frac{1}{2}k^2\\\\\\end{bmatrix}$\n",
    "\n",
    "$=\\begin{bmatrix}k\\\\1-\\frac{1}{2}t^2\\\\\\end{bmatrix}$\n",
    "\n",
    "$\\varphi_3(k)\\begin{bmatrix}0\\\\1\\\\\\end{bmatrix}+\\int_0^k\\begin{bmatrix}0&1\\\\-1&0\\\\\\end{bmatrix}\\begin{bmatrix}s\\\\1-\\frac{1}{2}t^2\\\\\\end{bmatrix}dk$\n",
    "\n",
    "$=\\begin{bmatrix}0\\\\1\\\\\\end{bmatrix}+\\int_0^k\\begin{bmatrix}1-\\frac{1}{2}t^2\\\\-t\\\\\\end{bmatrix}dk$\n",
    "\n",
    "$=\\begin{bmatrix}0\\\\1\\\\\\end{bmatrix}+\\begin{bmatrix}k-\\frac{1}{6}k^3\\\\-\\frac{1}{2}k^2\\\\\\end{bmatrix}$\n",
    "\n",
    "$=\\begin{bmatrix}k-\\frac{1}{6}k^3\\\\1-\\frac{1}{2}k^2\\\\\\end{bmatrix}$\n",
    "\n",
    "所以满足初值条件\n",
    "\n",
    "$x(0)=\\begin{bmatrix}0\\\\1\\\\\\end{bmatrix}$\n",
    "\n",
    "第三次近似解为：\n",
    "\n",
    "$\\varphi_3(k)=\\begin{bmatrix}k-\\frac{1}{6}k^3\\\\1-\\frac{1}{2}k^2\\\\\\end{bmatrix}$"
   ]
  },
  {
   "cell_type": "markdown",
   "metadata": {},
   "source": [
    "# <font color='red'>A  25/11"
   ]
  },
  {
   "cell_type": "code",
   "execution_count": null,
   "metadata": {
    "collapsed": true
   },
   "outputs": [],
   "source": []
  }
 ],
 "metadata": {
  "kernelspec": {
   "display_name": "SageMath 7.3",
   "language": "",
   "name": "sagemath"
  },
  "language_info": {
   "codemirror_mode": {
    "name": "ipython",
    "version": 2
   },
   "file_extension": ".py",
   "mimetype": "text/x-python",
   "name": "python",
   "nbconvert_exporter": "python",
   "pygments_lexer": "ipython2",
   "version": "2.7.10"
  }
 },
 "nbformat": 4,
 "nbformat_minor": 0
}
