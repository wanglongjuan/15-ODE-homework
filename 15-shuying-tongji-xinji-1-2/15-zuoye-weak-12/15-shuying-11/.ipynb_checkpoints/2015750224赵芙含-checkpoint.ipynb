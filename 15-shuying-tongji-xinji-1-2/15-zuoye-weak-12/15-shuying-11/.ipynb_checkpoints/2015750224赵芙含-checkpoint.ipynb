{
 "cells": [
  {
   "cell_type": "markdown",
   "metadata": {
    "collapsed": false
   },
   "source": [
    "$1.(2)方程显然不含t，令y=x',则方程变形为xy\\frac{dy}{dx}-y^2+y^3=0,得到y=0或者\\frac{dy}{dx}=\\frac{y-y^2}{x},积分后得到\\frac{y}{1-y}=cx.\n",
    "即y=\\frac{cx}{1+cx},从而x'=\\frac{cx}{1+cx},积分得到x+\\frac{1}{c}ln{x}=t+c2.即方程有解x+c1ln{x}=t+c2.当y=0时得到x'=0,故x=c.综上所述，方程的解为x+c1ln{x}=t+c2或x=c.$"
   ]
  },
  {
   "cell_type": "markdown",
   "metadata": {},
   "source": [
    "$(4)方程显然不含t，x，令y=x',则方程化为y\\frac{dy}{dx}+{1-y^2}^\\frac{1}{2}=0.$\n",
    "$当y≠±1是，方程又可以化成\\frac{ydy}{{1-y^2}^\\frac{1}{2}},积分后得到{1-y^2}^\\frac{1}{2}=x+c，得到x'=±{1-（x+c）^2}^\\frac{1}{2}$\n",
    "$1.当x'={1-（x+c）^2}^\\frac{1}{2}时，x=sin{t+c1}+c2$\n",
    "$2.当x'=-{1-（x+c）^2}^\\frac{1}{2}时，x=cos{t+c1}+c2$\n",
    "$当y=±1时，x'=±1，从而x=±t+c.$\n",
    "$综上所述，原方程的解为x=sin{t+c1}+c2或者x=cos{t+c1}+c2，以及x=t+c$"
   ]
  },
  {
   "cell_type": "markdown",
   "metadata": {},
   "source": [
    "$(6)当x'≠0，方程两边同时除以x'，则得到\\frac{x\"}{x'}-\\frac{1}{t}+x'=0，即d(ln|x'|-ln|t|+x)=0,积分得到ln|\\frac{x'}{t}|+x=c1,解得x'=t(e^{-x+c1}),再次积分可以得到e^{x}=e^{c1}(\\frac{1}{2}t^2)+c2$\n",
    "$由于c1c2为任意常数，所以可以写成e^{x}=c'1(t^2+c'2)$\n",
    "$当x'=0时，即得x=c，显然它也是原方程的解。综上，原方程的解为e^{x}=c'1(t^2+c'2)或者x=c$"
   ]
  },
  {
   "cell_type": "markdown",
   "metadata": {},
   "source": [
    "$2.(2)设x=a0+a1t+a2t^2+.....+ant^n+....是方程的解，则x'=a1+....+nan^{t-1}+....，x\"=2a2+....+n(n-1）ant^{n-2}+....$\n",
    "$将以上带入原方程，比较同次幂系数，可得2a1+ao=0,6a2-2a2+a1=0,k(k-1)ak-(k-1)(k-2)a{k-1}+a{k-2}=0....(1)$\n",
    "$本方程的解应该为通解，因此，需要找到两个线性无关的解$\n",
    "$设x1(t),x2(t)是满足初值条件的两个解。对于x1(t)，显然有ao=0,a1=1,带入（1）中，可以得到a2=0,a3=\\frac{-1}{6},a4=\\frac{-1}{12},.....,an=\\frac{(n-1)(n-2)a{n-1}-a{n-2}}{n(n-1)},也就是x1(t)=t-\\frac{t^3}{3!}-....-\\frac{18t^6}{6!}-.....,对于x2(t),显然有ao=1,a1=0,带入（1）中，可以得到a2=\\frac{-1}{2},a3=\\frac{-1}{6}....an=\\frac{(n-1)(n-2)a{n-1}-a{n-2}}{n(n-1)},也就是x2(t)=1-\\frac{t^2}{3!}-\\frac{2t^3}{3!}-.....$\n",
    "$所以方程的通解为x=c1x1(t)+c2x2(t)=c1(t-\\frac{t^3}{3!}-....-\\frac{18t^6}{6!}-.....)+c2(1-\\frac{t^2}{3!}-\\frac{2t^3}{3!}-.....)$"
   ]
  },
  {
   "cell_type": "markdown",
   "metadata": {},
   "source": [
    "$5.1-2.(3)令w1=x，w2=x',w3=y,w4=y',则原处置问题可以化为：w'1=x'=w2,w'2=x\"=-5w4+7w1-6w3+e^{x},w'3=y'=w4,w'4=y\"=2w3-13w4+15w1+cos{t}$\n",
    "$并且w1(0)=x(0)=1,w2(0)=x'(0)=0,w3(0)=y(0)=0,w(4)=y'(0)=1$\n",
    "$即w'=\\begin{bmatrix} \\begin{bmatrix}\n",
    "      0 1 0 0\\\\          0\\\\\n",
    "      7 0 -6 -5\\\\        e^t\\\\\n",
    "      0 0 0 1\\\\          0\\\\\n",
    "      15 0 2 -13\\\\       cos{t}\\\\\n",
    "      \\end{bmatrix}w+ \\end{bmatrix},\n",
    "      w(0)=\\begin{bmatrix}\n",
    "             1\\\\\n",
    "             0\\\\\n",
    "             0\\\\\n",
    "             1\\\\\n",
    "            \\end{bmatrix}$                 \n",
    "             \n",
    "            \n",
    "             \n",
    "         \n",
    "      "
   ]
  },
  {
   "cell_type": "markdown",
   "metadata": {},
   "source": []
  },
  {
   "cell_type": "markdown",
   "metadata": {},
   "source": [
    "$3.w0(t)=\\begin{bmatrix}0\\\\1\\end{bmatrix};w1(t)=\\begin{bmatrix}t\\\\1\\end{bmatrix};\n",
    "w2(t)=\\begin{bmatrix}t\\\\1-0.5t^2\\end{bmatrix};w3(t)=\\begin{bmatrix}t-\\frac{1}{6}t^3\\\\1-\\frac{t^2}{2}\\end{bmatrix}\n",
    " 所以，满足初值条件x(0)=\\begin{bmatrix}0\\\\1\\end{bmatrix}的第三次近似解为w3(t)=\\begin{bmatrix}t-\\frac{1}{6}t^3\\\\1-\\frac{t^2}{2}\\end{bmatrix}$"
   ]
  },
  {
   "cell_type": "markdown",
   "metadata": {},
   "source": [
    "# <font color='red'>A  25/11"
   ]
  },
  {
   "cell_type": "markdown",
   "metadata": {},
   "source": []
  },
  {
   "cell_type": "markdown",
   "metadata": {},
   "source": []
  },
  {
   "cell_type": "markdown",
   "metadata": {},
   "source": []
  },
  {
   "cell_type": "code",
   "execution_count": null,
   "metadata": {
    "collapsed": true
   },
   "outputs": [],
   "source": []
  },
  {
   "cell_type": "code",
   "execution_count": null,
   "metadata": {
    "collapsed": true
   },
   "outputs": [],
   "source": []
  },
  {
   "cell_type": "code",
   "execution_count": null,
   "metadata": {
    "collapsed": true
   },
   "outputs": [],
   "source": []
  },
  {
   "cell_type": "code",
   "execution_count": null,
   "metadata": {
    "collapsed": true
   },
   "outputs": [],
   "source": []
  },
  {
   "cell_type": "code",
   "execution_count": null,
   "metadata": {
    "collapsed": true
   },
   "outputs": [],
   "source": []
  },
  {
   "cell_type": "code",
   "execution_count": null,
   "metadata": {
    "collapsed": true
   },
   "outputs": [],
   "source": []
  },
  {
   "cell_type": "code",
   "execution_count": null,
   "metadata": {
    "collapsed": true
   },
   "outputs": [],
   "source": []
  },
  {
   "cell_type": "code",
   "execution_count": null,
   "metadata": {
    "collapsed": true
   },
   "outputs": [],
   "source": []
  },
  {
   "cell_type": "code",
   "execution_count": null,
   "metadata": {
    "collapsed": true
   },
   "outputs": [],
   "source": []
  },
  {
   "cell_type": "code",
   "execution_count": null,
   "metadata": {
    "collapsed": true
   },
   "outputs": [],
   "source": []
  },
  {
   "cell_type": "code",
   "execution_count": null,
   "metadata": {
    "collapsed": true
   },
   "outputs": [],
   "source": []
  }
 ],
 "metadata": {
  "kernelspec": {
   "display_name": "Python 2",
   "language": "python",
   "name": "python2"
  },
  "language_info": {
   "codemirror_mode": {
    "name": "ipython",
    "version": 2
   },
   "file_extension": ".py",
   "mimetype": "text/x-python",
   "name": "python",
   "nbconvert_exporter": "python",
   "pygments_lexer": "ipython2",
   "version": "2.7.10"
  }
 },
 "nbformat": 4,
 "nbformat_minor": 0
}
