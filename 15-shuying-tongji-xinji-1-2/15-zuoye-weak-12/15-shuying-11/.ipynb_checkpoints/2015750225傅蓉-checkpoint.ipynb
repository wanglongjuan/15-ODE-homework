{
 "cells": [
  {
   "cell_type": "markdown",
   "metadata": {},
   "source": [
    "## P183 1.(2)$x x''-(x')^2+(x')^3=0$"
   ]
  },
  {
   "cell_type": "markdown",
   "metadata": {},
   "source": [
    "**令$x'=y,x''=y \\frac{\\mathrm d y}{\\mathrm d x}$**"
   ]
  },
  {
   "cell_type": "markdown",
   "metadata": {},
   "source": [
    "$xy\\frac{\\mathrm d y}{\\mathrm d x}-y^2+y^3=0$"
   ]
  },
  {
   "cell_type": "markdown",
   "metadata": {},
   "source": [
    "$y(x\\frac{\\mathrm d y}{\\mathrm d x}-y+y^2)=0$"
   ]
  },
  {
   "cell_type": "markdown",
   "metadata": {},
   "source": [
    "**即可以得到$y=0$或者$x\\frac{\\mathrm d y}{\\mathrm d x}=y-y^2$**"
   ]
  },
  {
   "cell_type": "markdown",
   "metadata": {},
   "source": [
    "**(1)$y=0$时**\n",
    "\n",
    "**得到$x=c$,其中c为常数**"
   ]
  },
  {
   "cell_type": "markdown",
   "metadata": {},
   "source": [
    "**(2)$\\frac{\\mathrm d y}{\\mathrm d x}=\\frac{y-y^2}{x}$时**\n",
    "\n",
    "$\\frac{1}{y-y^2} d y=\\frac{1}{x} d x$\n",
    "\n",
    "$(\\frac{1}{y}+\\frac{1}{1-y})d y=\\frac{1}{x} d x$\n",
    "\n",
    "$ln(\\frac{y}{1-y})=lnx + c$\n",
    "\n",
    "$\\frac{y}{1-y}=c_1 x$(**其中$c_1$为任意常数**)\n",
    "\n",
    "$\\frac{x'}{1-x'}=c_1 x$\n",
    "\n",
    "$x'=\\frac{\\mathrm d x}{\\mathrm d t}=\\frac{c_1 x}{c_1 x+1}$\n",
    "\n",
    "$x+\\frac{1}{c_1}ln|x|=t+c_2$"
   ]
  },
  {
   "cell_type": "markdown",
   "metadata": {},
   "source": [
    "**即综上可知，方程的解为$x=c$或$x+\\frac{1}{c_1}ln|x|=t+c_2$，其中$c,c_1,c_2$为任意常数**"
   ]
  },
  {
   "cell_type": "markdown",
   "metadata": {},
   "source": [
    "## (4)$x''+\\sqrt{1-(x')^2}=0$"
   ]
  },
  {
   "cell_type": "markdown",
   "metadata": {},
   "source": [
    "**令$x'=y,x''=y\\frac{\\mathrm d y}{\\mathrm d x}$**"
   ]
  },
  {
   "cell_type": "markdown",
   "metadata": {},
   "source": [
    "$y\\frac{\\mathrm d y}{\\mathrm d x}+\\sqrt{1-y^2}=0$"
   ]
  },
  {
   "cell_type": "markdown",
   "metadata": {},
   "source": [
    "**(1)$y=\\pm 1$时**\n",
    "\n",
    "**即$x'=\\pm 1$,即$x=\\pm t+c$,其中$c$为任意常数。**"
   ]
  },
  {
   "cell_type": "markdown",
   "metadata": {},
   "source": [
    "**（2）$y\\neq \\pm 1$时**\n",
    "\n",
    "$\\frac{\\mathrm d y}{\\mathrm d x}=-\\frac{\\sqrt{1-y^2}}{y}$\n",
    "\n",
    "$-\\frac{y}{\\sqrt{1-y^2}} d y=d x$\n",
    "\n",
    "$\\sqrt{1-y^2}=x + c_1$\n",
    "\n",
    "$y^2=1-(x+c_1)^2$\n",
    "\n",
    "$x'=y=\\pm \\sqrt{1-(x+c_1)^2}=\\frac{\\mathrm d x}{\\mathrm d t}$\n",
    "\n",
    "**(2)' 当$x'=\\sqrt{1-(x+c_1)^2}$**\n",
    "\n",
    "$\\frac{1}{\\sqrt{1-(x+c_1)^2}} d x=d t$\n",
    "\n",
    "$arcsin(x+c_1)=t+c_2$\n",
    "\n",
    "$x+c_1=\\sin (t+c_2)$\n",
    "\n",
    "$x=\\sin (t+c_2)-c_1$\n",
    "\n",
    "**(2)'' 当$x'=-\\sqrt{1-(x+c_1)^2}$**\n",
    "\n",
    "$-\\frac{1}{\\sqrt{1-(x+c_1)^2}} d x=d t$\n",
    "\n",
    "$arccos(x+c_1)=t+c_3$\n",
    "\n",
    "$x=\\cos (t+c_3)-c_1$"
   ]
  },
  {
   "cell_type": "markdown",
   "metadata": {},
   "source": [
    "**即综上可知，方程的解为**\n",
    "\n",
    "$x=\\pm t+c$或$x=\\sin (t+c_2)-c_1$或$x=\\cos (t+c_3)-c_1$ ,其中$c,c_1,c_2,c_3$为任意常数"
   ]
  },
  {
   "cell_type": "markdown",
   "metadata": {},
   "source": [
    "## (6)$x''-\\frac{1}{t}x'+(x')^2=0$"
   ]
  },
  {
   "cell_type": "markdown",
   "metadata": {},
   "source": [
    "**分成两种情况来讨论**"
   ]
  },
  {
   "cell_type": "markdown",
   "metadata": {},
   "source": [
    "**（1）$x' \\neq 0$**\n",
    "\n",
    "$\\frac{x''}{x'}+\\frac{1}{t}+x'=0$\n",
    "\n",
    "$d(ln|x'|-ln|t|+x)=0$\n",
    "\n",
    "$ln|\\frac{x'}{t}|+x=c$\n",
    "\n",
    "$x'=\\frac{\\mathrm d x}{\\mathrm d t}=t e^{c-x}$\n",
    "\n",
    "$t d t=e^{x-c} d x$\n",
    "\n",
    "$e^x=c_2 t^2+c_3$\n"
   ]
  },
  {
   "cell_type": "markdown",
   "metadata": {},
   "source": [
    "**(2)$x'=0$**\n",
    "\n",
    "$x=c_4$"
   ]
  },
  {
   "cell_type": "markdown",
   "metadata": {},
   "source": [
    "**综上可知，方程的解为$e^x=c_2 t^2+c_3$或$x=c_4$,其中$c_2,c_3,c_4$为任意常数。**"
   ]
  },
  {
   "cell_type": "markdown",
   "metadata": {},
   "source": [
    "## 2.(2)$(1-t)x''+x=0$"
   ]
  },
  {
   "cell_type": "markdown",
   "metadata": {},
   "source": [
    "**设方程的解为$x=a_0+a_1 t+a_2 t^2+\\cdots+a_n t^n+\\cdots$**\n",
    "\n",
    "$x'=a_1+2a_2t+\\cdots+na_n t^{n-1}+\\cdots$\n",
    "\n",
    "$x''=1*2 a_2+2*3a_3 t+3*4 a_4 t^2+\\cdots+n(n-1)a_n t^{n-2}+\\cdots$\n",
    "\n",
    "**将其带入原方程中，即可得到**\n",
    "\n",
    "$(1-t)(1*2 a_2+2*3a_3 t+3*4 a_4 t^2+\\cdots+n(n-1)a_n t^{n-2}+\\cdots)+(a_0+a_1 t+a_2 t^2+\\cdots+a_n t^n+\\cdots)=0$\n",
    "\n",
    "$(1*2 a_2+a_0)+(2*3 a_3+a_1-1*2 a_2)t+(3*4 a_4-2*3 a_3+a_2)t^2+\\cdots+((n+1)(n+2)a_{n+2}-n(n+1)a_{n+1}+a_n)t^n+\\cdots=0$\n",
    "\n",
    "$1*2a_2+a_0=0$\n",
    "\n",
    "$2*3a_3+a_1-1*2a_2=0$\n",
    "\n",
    "$3*4a_4-2*3a_3+a_2=0$\n",
    "\n",
    "$4*5a_5-3*4a_4+a_3=0$\n",
    "\n",
    "$\\cdots$\n",
    "\n",
    "**假设$a_0,a_1$已知**\n",
    "\n",
    "**则可以得到：$a_2=-\\frac{a_0}{1*2};a_3=\\frac{-a_0-a_1}{2*3};a_4=\\frac{-a_0-2a_1}{1*2*3*4}$**\n",
    "\n",
    "**代入原方程的解中即可得到：$x=a_0(1-\\frac{t^2}{2!}-\\frac{t^3}{3!}-\\cdots)+a_1(t-\\frac{t^3}{3!}-\\frac{2t^4}{4!}\\cdots)$**"
   ]
  },
  {
   "cell_type": "markdown",
   "metadata": {},
   "source": [
    "## P201 2.(3)$x''+5y'-7x+6y=e^t$ ;$y''-2y+13y'-15x=\\cos t$\n",
    "\n"
   ]
  },
  {
   "cell_type": "markdown",
   "metadata": {},
   "source": [
    "**令$w_1=x,w_2=x',w_3=y,w_4=y'$**\n",
    "\n",
    "**所以$x''=\\frac{\\mathrm d w_2}{\\mathrm d t}=e^t-5w_4+7w_1-6w_3$**\n",
    "\n",
    "$y''=\\frac{\\mathrm d w_4}{\\mathrm d t}=\\cos t+2w_3-13w_4+15w_1$\n",
    "\n",
    "$\\frac{\\mathrm d w_1}{\\mathrm d t}=w_2$\n",
    "\n",
    "$\\frac{\\mathrm d w_3}{\\mathrm d t}=w_4$\n",
    "\n",
    "**即可得到变换：**\n",
    "$\\left[\n",
    "\\begin{matrix}\n",
    "w_1'\\\\\n",
    "w_2'\\\\\n",
    "w_3'\\\\\n",
    "w_4'\\\\\n",
    "\\end{matrix}\n",
    "\\right] =\n",
    "\\left[\n",
    "\\begin{matrix}\n",
    "0&1&0&0\\\\\n",
    "7&0&-6&-5\\\\\n",
    "0&0&0&1\\\\\n",
    "15&0&2&-13\\\\\n",
    "\\end{matrix}\n",
    "\\right]\n",
    "\\left[\n",
    "\\begin{matrix}\n",
    "w_1\\\\\n",
    "w_2\\\\\n",
    "w_3\\\\\n",
    "w_4\\\\\n",
    "\\end{matrix}\n",
    "\\right]+\n",
    "\\left[\n",
    "\\begin{matrix}\n",
    "0\\\\\n",
    "e^t\\\\\n",
    "0\\\\\n",
    "\\cos t\\\\\n",
    "\\end{matrix}\n",
    "\\right]\n",
    "$"
   ]
  },
  {
   "cell_type": "markdown",
   "metadata": {},
   "source": [
    "**且满足：$w_1(0)=1,w_2(0)=0,w_3(0)=0,w_4(0)=1$**"
   ]
  },
  {
   "cell_type": "markdown",
   "metadata": {},
   "source": [
    "## 3.试用逐步逼近法求方程组：$x'=\\left[\\begin{matrix}0&1\\\\-1&0\\\\\\end{matrix}\\right]x$满足初值条件：$x(0)=\\left[\\begin{matrix}0\\\\1\\\\\\end{matrix}\\right]$的第三次近似解"
   ]
  },
  {
   "cell_type": "markdown",
   "metadata": {},
   "source": [
    "**$\\varphi_0(t)=\n",
    "\\left[\n",
    "\\begin{matrix}\n",
    "0\\\\\n",
    "1\\\\\n",
    "\\end{matrix}\n",
    "\\right]$**\n",
    "\n",
    "$\\varphi_1(t)=\\left[\\begin{matrix}0\\\\1\\\\\\end{matrix}\\right]+\\int_0^t\\ \\left[\\begin{matrix}0&1\\\\-1&0\\\\\\end{matrix}\\right] \\left[\\begin{matrix}0\\\\1\\\\\\end{matrix}\\right]\\,\\mathrm d t=\\left[\\begin{matrix}t\\\\1\\\\\\end{matrix}\\right]$\n",
    "\n",
    "\n",
    "$\\varphi_2(t)=\n",
    "\\left[\n",
    "\\begin{matrix}\n",
    "0\\\\\n",
    "1\\\\\n",
    "\\end{matrix}\n",
    "\\right]+\n",
    "\\int_0^t\\ \n",
    "\\left[\n",
    "\\begin{matrix}0&1\\\\-1&0\\\\\n",
    "\\end{matrix}\\right] \n",
    "\\left[\n",
    "\\begin{matrix}\n",
    "t\\\\\n",
    "1\\\\\n",
    "\\end{matrix}\n",
    "\\right]\\,\\mathrm d t=\n",
    "\\left[\n",
    "\\begin{matrix}\n",
    "t\\\\\n",
    "1-\\frac{1}{2}t^2\\\\\n",
    "\\end{matrix}\n",
    "\\right]$\n",
    "\n",
    "$\\varphi_3(t)=\n",
    "\\left[\n",
    "\\begin{matrix}\n",
    "0\\\\\n",
    "1\\\\\n",
    "\\end{matrix}\n",
    "\\right]+\n",
    "\\int_0^t\\ \n",
    "\\left[\n",
    "\\begin{matrix}0&1\\\\-1&0\\\\\n",
    "\\end{matrix}\\right] \n",
    "\\left[\n",
    "\\begin{matrix}\n",
    "t\\\\\n",
    "1-\\frac{1}{2}t^2\\\\\n",
    "\\end{matrix}\n",
    "\\right]\\,\\mathrm d t=\n",
    "\\left[\n",
    "\\begin{matrix}\n",
    "t-\\frac{1}{6}t^3\\\\\n",
    "1-\\frac{1}{2}t^2\\\\\n",
    "\\end{matrix}\n",
    "\\right]$\n",
    "\n",
    "\n",
    "\n",
    "\n",
    "\n",
    "**即为第三次近似解**\n",
    "\n",
    "\n",
    "\n",
    "\n"
   ]
  },
  {
   "cell_type": "markdown",
   "metadata": {},
   "source": [
    "# <font color='red'>A+  25/11"
   ]
  },
  {
   "cell_type": "code",
   "execution_count": null,
   "metadata": {
    "collapsed": true
   },
   "outputs": [],
   "source": []
  }
 ],
 "metadata": {
  "kernelspec": {
   "display_name": "SageMath 7.3",
   "language": "",
   "name": "sagemath"
  },
  "language_info": {
   "codemirror_mode": {
    "name": "ipython",
    "version": 2
   },
   "file_extension": ".py",
   "mimetype": "text/x-python",
   "name": "python",
   "nbconvert_exporter": "python",
   "pygments_lexer": "ipython2",
   "version": "2.7.10"
  }
 },
 "nbformat": 4,
 "nbformat_minor": 0
}
