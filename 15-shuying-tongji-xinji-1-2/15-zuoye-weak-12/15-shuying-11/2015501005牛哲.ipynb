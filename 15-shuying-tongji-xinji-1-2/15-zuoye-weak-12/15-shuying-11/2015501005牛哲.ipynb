{
 "cells": [
  {
   "cell_type": "markdown",
   "metadata": {
    "collapsed": false
   },
   "source": [
    "5.1\n",
    "\n",
    "2.将下面的初值问题化为与之等价的一阶方程组的初值问题\n",
    "(3){x''+5y'-7x+6y=e^t\n",
    "    y''-2y+13y'-15x=cost} \n",
    "   （x(0)=1,x'(0)=0,y(0)=0,y'(0)=1）\n",
    "解：令w1=x,w2=x',w3=y.w4=y',可以化成\n",
    "{w1'=x'=w2\n",
    " w2'=x''=-5w4+7w1-6w3+e^t\n",
    " w3'=y'=w4\n",
    " w4'=y'=2w3-13w4+15w1+cost},\n",
    "且{w1(0)=x(0)=1\n",
    "   w2(0)=x'(0)=0\n",
    "   w3(0)=y(0)=0\n",
    "   w4(0)=y'(0)=1}\n",
    "即有\n",
    "  [0  1  0  0       [0\n",
    "w= 7  0  -6 -5  *w+  e^t\n",
    "   0  0  0  1        0\n",
    "   15 0  2  -13]     cost]\n",
    "\n",
    "3.试用逐步逼近法求方程组\n",
    "   [0 1              [0\n",
    "x'=-1 0]的满足初值x(0)= 1]的第三次近似解\n",
    "解：f0(t)=[0\n",
    "           1]\n",
    "   f1(t)=[0  +积分0-t[0  1 [0 ds=[t\n",
    "           1]        -1 0] 1]    1]\n",
    "   f2(t)=[0  +积分0-t[0  1 [s ds=[t\n",
    "           1]        -1 0] 1]    1-t^2/2]\n",
    "   f3(t)=[0  +积分0-t[0  1 [s       ds=[0 +[t-t^3/6\n",
    "           1]        -1 0] 1-s^2/2]    1]  1-t^2/2]"
   ]
  },
  {
   "cell_type": "markdown",
   "metadata": {},
   "source": [
    "# <font color='red'>A  25/11"
   ]
  },
  {
   "cell_type": "code",
   "execution_count": null,
   "metadata": {
    "collapsed": true
   },
   "outputs": [],
   "source": []
  }
 ],
 "metadata": {
  "kernelspec": {
   "display_name": "Python 2",
   "language": "python",
   "name": "python2"
  },
  "language_info": {
   "codemirror_mode": {
    "name": "ipython",
    "version": 2
   },
   "file_extension": ".py",
   "mimetype": "text/x-python",
   "name": "python",
   "nbconvert_exporter": "python",
   "pygments_lexer": "ipython2",
   "version": "2.7.10"
  }
 },
 "nbformat": 4,
 "nbformat_minor": 0
}
