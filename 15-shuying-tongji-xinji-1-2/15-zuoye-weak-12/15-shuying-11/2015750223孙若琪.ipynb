{
 "cells": [
  {
   "cell_type": "markdown",
   "metadata": {
    "collapsed": false
   },
   "source": [
    "$4.3$"
   ]
  },
  {
   "cell_type": "markdown",
   "metadata": {},
   "source": [
    "$1.(2)解：方程不显含t，令y=x',则方程变形为xy\\frac{dy}{dx}-y^2+y^3=0.解得：y=0或\\frac{dy}{dx}=\\frac{y-y^2}{x}$"
   ]
  },
  {
   "cell_type": "markdown",
   "metadata": {},
   "source": [
    "$积分后，得到\\frac{y}{1-y}=cx.即y=\\frac{cx}{1+cx}.从而：x'=\\frac{cx}{1+cx}。$"
   ]
  },
  {
   "cell_type": "markdown",
   "metadata": {},
   "source": [
    "$积分得x+\\frac{1}{c}ln|x|=t+c2,即方程有解x+c1ln|x|=t+c2$"
   ]
  },
  {
   "cell_type": "markdown",
   "metadata": {},
   "source": [
    "$当y=0时得到x'=0.所以x=c.$"
   ]
  },
  {
   "cell_type": "markdown",
   "metadata": {},
   "source": [
    "$所以方程的解为x+c1ln|x|=t+c2或者x=c$"
   ]
  },
  {
   "cell_type": "markdown",
   "metadata": {},
   "source": [
    "$(4)解：方程不显含t，令y=x',则方程变形为y\\frac{dy}{dx}+(1-y^2)^\\frac{1}{2}=0.解得：(1-y^2)^\\frac{1}{2}=x+c$"
   ]
  },
  {
   "cell_type": "markdown",
   "metadata": {},
   "source": [
    "$(1-{x'}^2)^\\frac{1}{2}=x+c.所以x'=±{1-（x+c)^2}^\\frac{1}{2}$"
   ]
  },
  {
   "cell_type": "markdown",
   "metadata": {},
   "source": [
    "$积分得到：①x'={1-（x+c)^2}^\\frac{1}{2}，x=\\sin(t+c1)+c2;②x'=-{1-（x+c)^2}^\\frac{1}{2}，x=\\cos(t+c1)+c2$"
   ]
  },
  {
   "cell_type": "markdown",
   "metadata": {},
   "source": [
    "$当y=±1,x'=±1,x=±t+c$"
   ]
  },
  {
   "cell_type": "markdown",
   "metadata": {},
   "source": [
    "$所以方程的解：x=\\sin(t+c1)+c2或者x=\\cos(t+c1)+c2，或者x=±t+c$"
   ]
  },
  {
   "cell_type": "markdown",
   "metadata": {},
   "source": [
    "$(6)解：当x'≠0时，方程两边同时除以x'，得到：\\frac{x\"}{x'}-\\frac{1}{t}+x'=0.变形得到：d(ln|x'|-ln|t|+x)=0$"
   ]
  },
  {
   "cell_type": "markdown",
   "metadata": {},
   "source": [
    "$积分得到：ln|\\frac{x'}{t}+x=c1,解出x',则有x'=t(e^{-x+c1}),再次积分e^x=e^{c1}(\\frac{t^2}{2})+c2.$"
   ]
  },
  {
   "cell_type": "markdown",
   "metadata": {},
   "source": [
    "$由于c1,c2为任意常数，所以可以写成e^x=c1'(t^2+c2').当x'=0,即得x=c,它也是方程的解。$"
   ]
  },
  {
   "cell_type": "markdown",
   "metadata": {},
   "source": [
    "$所以，方程的解为e^x=c1'(t^2+c2')或者x=c$"
   ]
  },
  {
   "cell_type": "markdown",
   "metadata": {},
   "source": [
    "$2.（2）$"
   ]
  },
  {
   "cell_type": "markdown",
   "metadata": {},
   "source": [
    "$设x=a0+a1t+……+ant^n+…是方程的解，则x'=a1+2a2t+……。x\"=2a2+6a3t……。$"
   ]
  },
  {
   "cell_type": "markdown",
   "metadata": {},
   "source": [
    "$将x,x',x\"的表达式带入原方程，2a2+a0=0,6a3-2a2+a1=0,k(k-1)ak-(k-1)(k-2)ak-1+ak-2=0,k>3。①$"
   ]
  },
  {
   "cell_type": "markdown",
   "metadata": {},
   "source": [
    "$本方程的解应该为通解。所以需要找到两个线性无关的解。$"
   ]
  },
  {
   "cell_type": "markdown",
   "metadata": {},
   "source": [
    "$设：x1(t),x2(t).满足初值条件：x1(0)=0,x1’(0)=1，x2(0)=1,x2'(0)=0的两个解$"
   ]
  },
  {
   "cell_type": "markdown",
   "metadata": {},
   "source": [
    "$对于x1(t)，显然有ao=0,a1=1.带入①式，x1(t)=t-\\frac{t^3}{3!}-……$$"
   ]
  },
  {
   "cell_type": "markdown",
   "metadata": {},
   "source": [
    "$对于x2(t)，显然有ao=1,a1=0.带入①式，x2(t)=t-\\frac{t^2}{2!}-……$"
   ]
  },
  {
   "cell_type": "markdown",
   "metadata": {},
   "source": [
    "$所以方程的通解为：x=c1(t-\\frac{t^3}{3!}-……)+c2(t-\\frac{t^2}{2!}-……)$"
   ]
  },
  {
   "cell_type": "markdown",
   "metadata": {},
   "source": [
    "$5.1$"
   ]
  },
  {
   "cell_type": "markdown",
   "metadata": {},
   "source": [
    "$2.(3)令w1=x,w2=x'.w3=y,w4=y'。则原初值问题可化为w1'=x'=w2,w2'=x\"=-5w4+7w1-6w3+e^t,w3'=y'=w4,w4=y\"=2w3-13w4+15w1+\\cost$"
   ]
  },
  {
   "cell_type": "markdown",
   "metadata": {},
   "source": [
    "$w1(0)=x(0)=1,w2(0)=x'(0)=0,w3(0)=y(0)=0,w4(0)=y'(0)=1.$"
   ]
  },
  {
   "cell_type": "markdown",
   "metadata": {},
   "source": [
    "$3.w0(t)=[0 1]$"
   ]
  },
  {
   "cell_type": "markdown",
   "metadata": {},
   "source": [
    "$w1(t),w2(t)同理。$"
   ]
  },
  {
   "cell_type": "markdown",
   "metadata": {},
   "source": [
    "$所以满足条件的第三次近似解为：w3(t)=[t-\\frac{t^3}{6}  1-\\frac{t^2}{2}]$"
   ]
  },
  {
   "cell_type": "markdown",
   "metadata": {},
   "source": [
    "# <font color='red'>A  25/11"
   ]
  },
  {
   "cell_type": "code",
   "execution_count": null,
   "metadata": {
    "collapsed": true
   },
   "outputs": [],
   "source": []
  }
 ],
 "metadata": {
  "kernelspec": {
   "display_name": "Python 2",
   "language": "python",
   "name": "python2"
  },
  "language_info": {
   "codemirror_mode": {
    "name": "ipython",
    "version": 2
   },
   "file_extension": ".py",
   "mimetype": "text/x-python",
   "name": "python",
   "nbconvert_exporter": "python",
   "pygments_lexer": "ipython2",
   "version": "2.7.10"
  }
 },
 "nbformat": 4,
 "nbformat_minor": 0
}
