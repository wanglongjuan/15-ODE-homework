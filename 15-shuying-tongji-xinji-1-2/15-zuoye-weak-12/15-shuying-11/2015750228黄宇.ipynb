{
 "cells": [
  {
   "cell_type": "markdown",
   "metadata": {
    "collapsed": false
   },
   "source": [
    "# 1.求解下列方程\n",
    "\n",
    "\n",
    "\n",
    "（2）$xx''-(x')^2+(x')^3=0$\n",
    "\n",
    "方程不显含t，令$y=x'$,则方程变形为$xy\\frac{dy}{dx}-y^2+y^3=0$，得到$y=0或\\frac{dy}{dx}=\\frac{y-y^2}{x}$\n",
    "\n",
    "\n",
    "\n",
    "\n",
    "积分后得$\\frac{y}{1-y}=\\overline{c}x  (\\overline{c}\\neq0)$\n",
    "\n",
    "即$y=\\frac{\\overline{c}x}{1+\\overline{c}x}$\n",
    "\n",
    "从而$x'=\\frac{\\overline{c}x}{1+\\overline{c}x}$\n",
    "\n",
    "\n",
    "\n",
    "积分得$x+\\frac{1}{}\\overline{c}x ln|x|=t+c_2$\n",
    "\n",
    "\n",
    "即方程有解$x+c_1\\overline{c}x ln|x|=t+c_2$\n",
    "\n",
    "当$y=0$时得$x'=0,故x=c$\n",
    "\n",
    "\n",
    "\n",
    "综上，方程的解为$x+c_1\\overline{c}x ln|x|=t+c_2或x=c,其中c_1,c_2,c是任意常数$"
   ]
  },
  {
   "cell_type": "markdown",
   "metadata": {},
   "source": [
    "(4)$x''+\\sqrt{1-(x')^2}=0$\n",
    "\n",
    "\n",
    "方程不显含t,令$y=x'$则方程化为$y\\frac{dy}{dx}+\\sqrt{1-y^2}=0$\n",
    "\n",
    "当$y\\neq ± 1$方程又可以变形为$\\frac{ydy}{\\sqrt{1-y^2}}=-dx$\n",
    "\n",
    "积分后得到\n",
    "${\\sqrt{1-y^2}}=x+ c$\n",
    "\n",
    "\n",
    "\n",
    "即$\\sqrt{1-(x')^2}=x+c，故$x'=±\\sqrt{1-(x+c)^2}$\n",
    "\n",
    "①当$x'=\\sqrt{1-（x+c）^2},x=sin(t+c_1)+c_2$\n",
    "②当$x'=-\\sqrt{1-（x+c）^2},x=cos(t+c_1)+c_2$\n",
    "\n",
    "$y= ± 1,x'=±1,从而x= ±t+c$\n",
    "                            "
   ]
  },
  {
   "cell_type": "markdown",
   "metadata": {},
   "source": [
    " （6）$x''-\\frac{1}{t}x'+(x')^2=0$\n",
    " \n",
    " 当$x'\\neq 0 方程两边同除以x',则得到\\frac{x''}{x'}-\\frac{1}{t}+x'=0$\n",
    " \n",
    " 即$$d(ln|x'|-ln|t|+x)=0$\n",
    " \n",
    " 积分可得$ln|\\frac{x'}{t}+x=c_1$\n",
    " 解出$$x',则有x'=t(e^{-x+c_1})$$\n",
    " \n",
    " 再次积分可得$$e^x=e^{c_1}(\\frac{t^2}{2}+c_2)$$\n",
    " \n",
    " \n",
    " 由于$c_1,c_2$为任意常数，所以可以写成$$e^x=c'_1(\\frac{t^2}{2}+c'_2)$$\n",
    " \n",
    " 当$x'=0时，即得x=c$,显然它也是原方程的解\n",
    " \n",
    " \n",
    " 综上，方程的解\n",
    " \n",
    " $$e^x=c'_1(\\frac{t^2}{2}+c'_2)，x=c$$\n",
    " \n",
    " \n",
    " \n",
    " \n",
    " \n",
    " "
   ]
  },
  {
   "cell_type": "markdown",
   "metadata": {},
   "source": [
    "# 2.用幂级数解法求解下列方程\n",
    "\n",
    "\n",
    "（2）$$（1-t）x''+x=0$$\n",
    "方程可化为$$x''+\\frac{x}{1-t}=0，tp(t)=0,t^2q(t)=\\frac{t^2}{1-t}$$\n",
    "故存在幂级数解\n",
    " 设级数\n",
    "$$ x=a_0+a_1t+a_2t^2+\\cdots+a_nt^n+\\cdots $$\n",
    "\n",
    "$$ \\begin{align} x = t+a_2 t^2+a_3 t^3+\\cdots+a_n t^n+\\cdots \\\\ x' = 1+2a_2 t+3 a_3t^2+\\cdots+a_n t^{n-1}+\\cdots \\\\ x'' = 2 a_2+6a_3t+\\cdots+n(n-1) a_nt^{n-2}+\\cdots \\end{align} $$\n",
    "\n",
    "将 $x,x',x''$ 的表达式代入原方程,比较同次幂系数, 可得\n",
    "$$2a_2+a_0=0,3\\cdot2a_3-2a_2+a_1=0，\\\\k(k-1)a_k-(k-1)(k-2)a_{k-1}+a_{k-2},k>3$$①\n",
    "\n",
    "\n",
    "本方程的解应为通解，为此，需要找到两个线性无关的解\n",
    "\n",
    "设$$x_1{(t)}和x_2{(t)}$$   \n",
    "是满足初值条件 \n",
    "$$x_1{(0)}=0，x_1'{(0)}=1，x_2'{(0)}=1,x_2'{(0)}=1$$\n",
    "的两个解"
   ]
  },
  {
   "cell_type": "markdown",
   "metadata": {},
   "source": [
    " 对于$x_1(t)$,显然有$$a_0=0,a_1=1,代入①式，可得a_2=0,\n",
    " a_3=\\frac{-1}{1\\cdot 2 \\cdot 3},a_4=\\frac{-2}{1\\cdot 2 \\cdot 3 \\cdot 4},\\cdots,a_n=\\frac{(n-1)(n-2)a_{n-1}-a_{n-2}}{n(n-1)}$$\n",
    " \n",
    " \n",
    " \n",
    "也就是$$x_1{(t)}=t-\\frac{t^3}{3!}-\\frac{2}{4!}t^4-\\frac{5}{5!}t^5-\\cdots$$\n",
    " 对于$$x_2{(t)},显然a_0=1,a_1=0,$$代入①式可得\n",
    " \n",
    " $$a_2=\\frac{-1}{2},a_3={-1}{1\\cdot 2 \\cdot 3},a_4=\\frac{-1}{1\\cdot 2 \\cdot 3 \\cdot 4},\\cdots,a_n=\\frac{(n-1)(n-2)a_{n-1}-a_{n-2}}{n(n-1)}$$\n",
    "也就是$x_2{(t)}=t-\\frac{t^2}{2!}-\\frac{1}{3!}t^3-\\frac{1}{4!}t^4-\\cdots$ \n",
    "\n",
    "所以方程的通解为$x=c_1{x_1{(t)}}+c_2{x_2{(t)}}=c_1(t-\\frac{t^3}{3!}-\\frac{2}{4!}t^4-\\frac{5}{5!}t^5-\\cdots)+c_2(t-\\frac{t^2}{2!}-\\frac{1}{3!}t^3-\\frac{1}{4!}t^4-\\cdots)$"
   ]
  },
  {
   "cell_type": "markdown",
   "metadata": {
    "collapsed": true
   },
   "source": [
    "  # 2.将下面的初值问题化为与之等价的一阶方程组的初值问题\n",
    "  \n",
    "  \n",
    "  （3）\n",
    "  \n",
    "  $$\n",
    "\\begin{cases}\n",
    "x''+5y'-7x+6y=e^t \\\\\n",
    "y''-2y+13y'-15x=cost\\\\\n",
    "\\end{cases}\n",
    "$$\n",
    "\n",
    "  $x(0)=1,x'(0)=0,y(0)=0,y'(0)=1$\n",
    "  \n",
    "     \n",
    " 令$w_1=x,w_2=x',w_3=y,w_4=y',$则原初值问题可化为：\n",
    "    \n",
    "    \n",
    "$$\n",
    "\\begin{cases}\n",
    "w'_1=x'=w_2 \\\\\n",
    "w_2=x''=-5w_4+7w_1-6w_3+e^t\\\\\n",
    "w'_3=y'=w_4\\\\\n",
    "w'_4=y''=2w_3-13w_4+15w_1+cost\\\\\n",
    "\\end{cases}\n",
    "$$\n",
    "\n",
    "\n",
    "\n",
    "\n"
   ]
  },
  {
   "cell_type": "markdown",
   "metadata": {},
   "source": [
    "\n",
    "\n",
    "\n",
    "\n",
    "$$ \\mathbf w'= \\left[ \\begin{matrix} 0&1 &0&0\\\\7 & 0 &-6&-5\\\\0&0&0&1\\\\15&0&2&-13\\\\ \\end{matrix} \\right]\\mathbf x+ \\left[ \\begin{matrix} 0&e^t&0&cost\\\\ \\end{matrix} \\right] $$\n",
    "\n",
    "\n",
    "\n",
    "$w(0)=\\begin{vmatrix} 1&0&0&1\\\\\n",
    "\\end{vmatrix}$   "
   ]
  },
  {
   "cell_type": "markdown",
   "metadata": {},
   "source": [
    "3.试用逐步逼近法求方程组\n",
    "$$ \\mathbf x'= \\left[ \\begin{matrix} 0&1 \\\\-1 & 0 \\\\ \\end{matrix} \\right]\\mathbf x   $$\n",
    "\n",
    "\n",
    "满足初值条件\n",
    "$w(0)=\\begin{vmatrix} 0\\\\1\\\\\n",
    "\\end{vmatrix}$ 的第三次近似解"
   ]
  },
  {
   "cell_type": "markdown",
   "metadata": {},
   "source": [
    "解:$\\varphi_0(t)=\\begin{vmatrix} 0\\\\1\\\\\n",
    "\\end{vmatrix}$ "
   ]
  },
  {
   "cell_type": "markdown",
   "metadata": {},
   "source": [
    "$$ \\mathbf \\varphi_1(t)= \\left[ \\begin{matrix} 0\\\\1 \\end{matrix} \\right]+\\int_0^t\\left[ \\begin{matrix} 0&1\\\\-1&0 \\end{matrix} \\right] \\bullet \\left[ \\begin{matrix} 0\\\\1 \\end{matrix} \\right]    \\mathrm{ds}=\\left[ \\begin{matrix} 0\\\\1 \\end{matrix} \\right]+\\left[ \\begin{matrix} t\\\\0\\end{matrix} \\right] =\\left[ \\begin{matrix} t\\\\1 \\end{matrix} \\right]$$\n"
   ]
  },
  {
   "cell_type": "markdown",
   "metadata": {},
   "source": [
    "$$ \\mathbf \\varphi_2(t)= \\left[ \\begin{matrix} 0\\\\1 \\end{matrix} \\right]+\\int_0^t\\left[ \\begin{matrix} 0&1\\\\-1&0 \\end{matrix} \\right] \\bullet \\left[ \\begin{matrix} s\\\\1 \\end{matrix} \\right]    \\mathrm{ds}=\\left[ \\begin{matrix} 0\\\\1 \\end{matrix} \\right]+\\left[ \\begin{matrix} t\\\\ -\\frac{t^2}{2}\\end{matrix} \\right] =\\left[ \\begin{matrix} t\\\\ 1-\\frac{t^2}{2} \\end{matrix} \\right]$$\n"
   ]
  },
  {
   "cell_type": "markdown",
   "metadata": {},
   "source": [
    "所以满足初始条件的解的第三次近似解为\n",
    "\n",
    "\n",
    "\n",
    "$\\varphi_3(t)=\\begin{vmatrix} t-\\frac{t^3}{6}\\\\1-\\frac{t^2}{2}\\\\\n",
    "\\end{vmatrix}$"
   ]
  },
  {
   "cell_type": "markdown",
   "metadata": {
    "collapsed": true
   },
   "source": [
    "# <font color='red'>A  25/11"
   ]
  },
  {
   "cell_type": "code",
   "execution_count": null,
   "metadata": {
    "collapsed": true
   },
   "outputs": [],
   "source": []
  }
 ],
 "metadata": {
  "kernelspec": {
   "display_name": "Python 2",
   "language": "python",
   "name": "python2"
  },
  "language_info": {
   "codemirror_mode": {
    "name": "ipython",
    "version": 2
   },
   "file_extension": ".py",
   "mimetype": "text/x-python",
   "name": "python",
   "nbconvert_exporter": "python",
   "pygments_lexer": "ipython2",
   "version": "2.7.10"
  }
 },
 "nbformat": 4,
 "nbformat_minor": 0
}
