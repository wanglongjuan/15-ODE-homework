{
 "cells": [
  {
   "cell_type": "markdown",
   "metadata": {},
   "source": [
    "# 常微分第九次作业#"
   ]
  },
  {
   "cell_type": "markdown",
   "metadata": {},
   "source": [
    "姓名：刘敬依   学号：2015750425   班级：信息与计算科学二班"
   ]
  },
  {
   "cell_type": "markdown",
   "metadata": {},
   "source": [
    "P183.1(2)(4)(6)   \n",
    "2(2)\n"
   ]
  },
  {
   "cell_type": "markdown",
   "metadata": {},
   "source": [
    "1.求解下列方程\n"
   ]
  },
  {
   "cell_type": "markdown",
   "metadata": {},
   "source": [
    "（2）解："
   ]
  },
  {
   "cell_type": "markdown",
   "metadata": {},
   "source": [
    "$$ 令x'=y,可得 xy\\frac{dy}{dx}-y^{2}+y^{3}=0$$"
   ]
  },
  {
   "cell_type": "markdown",
   "metadata": {},
   "source": [
    "$$由方程可解得y=0或\\frac{dy}{dx}=\\frac{y-y^{2}}{x}$$"
   ]
  },
  {
   "cell_type": "markdown",
   "metadata": {},
   "source": [
    "$$将左右两边积分得到\\frac{y}{1-y}=ax(a≠0)$$"
   ]
  },
  {
   "cell_type": "markdown",
   "metadata": {},
   "source": [
    "$$进行第二次积分，得到：x+\\frac{1}{a}ln\\mid x \\mid=t+b$$"
   ]
  },
  {
   "cell_type": "markdown",
   "metadata": {},
   "source": [
    "$$考虑另外一种情况，当y=0时，得到x'=0,所以x=c$$"
   ]
  },
  {
   "cell_type": "markdown",
   "metadata": {},
   "source": [
    "$$综上所述，方程的解为x+\\frac{1}{a}\\mid x \\mid=t+b或者x=c$$"
   ]
  },
  {
   "cell_type": "markdown",
   "metadata": {},
   "source": [
    "（4）$$ 令x'=y,则方程化为y\\frac{dy}{dx}+(1-y^{2})^{\\frac{1}{2}}$$"
   ]
  },
  {
   "cell_type": "markdown",
   "metadata": {},
   "source": [
    "$$\n",
    "当y=±1时，x'=±t±c1$$\n",
    "\n",
    "\n",
    "\n",
    "\n",
    "\n",
    "\n"
   ]
  },
  {
   "cell_type": "markdown",
   "metadata": {},
   "source": [
    "$$当y≠±1时，方程可以化简为 \\frac{ydy}{(1-y^{2})^{\\frac{1}{2}}}=-dx$$\n"
   ]
  },
  {
   "cell_type": "markdown",
   "metadata": {},
   "source": [
    "$$积分后，可以得到（1-x'^{2}）^{\\frac{1}{2}}=x+c,或者x'=±(1-(x+c)^{2})^{\\frac{1}{2}}$$"
   ]
  },
  {
   "cell_type": "markdown",
   "metadata": {},
   "source": [
    "$$再次积分之后，我们可以得到$$"
   ]
  },
  {
   "cell_type": "markdown",
   "metadata": {},
   "source": [
    "$$①当x'=(1-(x+c)^{2})^{\\frac{1}{2}}时，x=sin(t+c1)-c\n",
    "$$"
   ]
  },
  {
   "cell_type": "markdown",
   "metadata": {},
   "source": [
    "$$②当x'=-(1-(x+c)^{2})^{\\frac{1}{2}}时，x=cos(t+c1)-c$$"
   ]
  },
  {
   "cell_type": "markdown",
   "metadata": {},
   "source": [
    "$$综上所述，方程的解为：x=sin(t+c1)或x=cos(t+c1)-c,以及x=±t±c1$$"
   ]
  },
  {
   "cell_type": "markdown",
   "metadata": {},
   "source": [
    "(6)"
   ]
  },
  {
   "cell_type": "markdown",
   "metadata": {},
   "source": [
    "$$当x'≠0时，方程两边同除以x',可以得到$$"
   ]
  },
  {
   "cell_type": "markdown",
   "metadata": {},
   "source": [
    "$$\\frac{x\"}{x'}-\\frac{1}{t}+x'=0$$"
   ]
  },
  {
   "cell_type": "markdown",
   "metadata": {},
   "source": [
    "$$对左右两边积分可以得到，ln\\mid(\\frac{x'}{t}\\mid)+x=c1 $$"
   ]
  },
  {
   "cell_type": "markdown",
   "metadata": {},
   "source": [
    "$$再次积分可以得到，e^{x}=e^{c1}(\\frac{t^{2}}{2})+c2$$"
   ]
  },
  {
   "cell_type": "markdown",
   "metadata": {},
   "source": [
    "$$综上所述，方程的解为e^{x}=c1(t^{2}+c2)或x=c$$"
   ]
  },
  {
   "cell_type": "markdown",
   "metadata": {},
   "source": [
    "2(2)"
   ]
  },
  {
   "cell_type": "markdown",
   "metadata": {},
   "source": [
    "$$设x=a0+a1t+a2t^{2}+a3t^{3}+…+ant^{n}…是方程的解$$"
   ]
  },
  {
   "cell_type": "markdown",
   "metadata": {},
   "source": [
    "$$可以得到：x'=a1+2a2t+3a3t^{2}+…+nant^{n-1}+…$$"
   ]
  },
  {
   "cell_type": "markdown",
   "metadata": {},
   "source": [
    "$$x\"=2a2+3*2a3t+…+n(n-1)ant^{n-2}+…$$"
   ]
  },
  {
   "cell_type": "markdown",
   "metadata": {},
   "source": [
    "$$把x'x\"的表达式带入原方程，合并t的各同次幂的项，并令各项系数为0，得到$$"
   ]
  },
  {
   "cell_type": "markdown",
   "metadata": {},
   "source": [
    "$$\\begin{cases}a0+2a2=0\\\\\n",
    "a1-2a2+3*2a3=0\\\\\n",
    "n(n-1)an-(n-1)(n-2)an-1+an-2=0\n",
    "\\end{cases}\n",
    "$$"
   ]
  },
  {
   "cell_type": "markdown",
   "metadata": {},
   "source": [
    "因为没有初值条件，所以解得的是方程的通解，所以我们应该找两个线性无关的解"
   ]
  },
  {
   "cell_type": "markdown",
   "metadata": {},
   "source": [
    "我们设x1(t)和x2(t)是满足初值条件，x1(0)=0,x'1(0)=1,x2(0)=1,x'2(0)=0的两个解，对于x1(t),a0=0，a1=1,代入上式，可以得到"
   ]
  },
  {
   "cell_type": "markdown",
   "metadata": {},
   "source": [
    "$$a1=0,a3=\\frac{-1}{3*2},a4=\\frac{-1}{4*3}=\\frac{-2}{4*3*2},a5=\\frac{-5}{5*4*3*2}…$$"
   ]
  },
  {
   "cell_type": "markdown",
   "metadata": {},
   "source": [
    "$$an=\\frac{(n-1)(n-2)an-1-an-2}{n(n-1)}\n",
    "$$"
   ]
  },
  {
   "cell_type": "markdown",
   "metadata": {},
   "source": [
    "$$所以，将a0=1,a1=0代入，可以得到：x2(t)=1-\\frac{1}{2!}t^{2}-\\frac{1}{3!}t^{3}-\\frac{1}{4!}t^{4}-…\n",
    "$$"
   ]
  },
  {
   "cell_type": "markdown",
   "metadata": {},
   "source": [
    "$$所以方程的通解为：x=c1(t-\\frac{1}{3!}t^{3}-\\frac{2}{4!}t^{4}…)+c2(1-\\frac{1}{2!}t^{2}-\\frac{1}{3!}t^{3}…)$$"
   ]
  },
  {
   "cell_type": "markdown",
   "metadata": {},
   "source": [
    "p201"
   ]
  },
  {
   "cell_type": "markdown",
   "metadata": {},
   "source": [
    "2(3)"
   ]
  },
  {
   "cell_type": "markdown",
   "metadata": {},
   "source": [
    "$$设w1=x,w2=x',w3=y,w4=y',则原方程组为$$"
   ]
  },
  {
   "cell_type": "markdown",
   "metadata": {},
   "source": [
    "\\begin{bmatrix}w1\\\\w2\\\\w3\\\\w4\\end{bmatrix}=\\begin{bmatrix}0&1&0&0\\\\7&0&-6&-5\\\\0&0&0&1\\\\15&0&2&-13\\end{bmatrix}\\begin{bmatrix}w1\\\\w2\\\\w3\\\\w4\\end{bmatrix}+\\begin{bmatrix}0\\\\e^{t}\\\\0\\\\cost\\end{bmatrix}"
   ]
  },
  {
   "cell_type": "markdown",
   "metadata": {
    "collapsed": true
   },
   "source": [
    "$$所以，初值条件为w1(0）=1，w2(0）=0，w3(0)=0,w4(0)=1$$"
   ]
  }
 ],
 "metadata": {
  "kernelspec": {
   "display_name": "SageMath 7.3",
   "language": "",
   "name": "sagemath"
  },
  "language_info": {
   "codemirror_mode": {
    "name": "ipython",
    "version": 2
   },
   "file_extension": ".py",
   "mimetype": "text/x-python",
   "name": "python",
   "nbconvert_exporter": "python",
   "pygments_lexer": "ipython2",
   "version": "2.7.10"
  }
 },
 "nbformat": 4,
 "nbformat_minor": 0
}
