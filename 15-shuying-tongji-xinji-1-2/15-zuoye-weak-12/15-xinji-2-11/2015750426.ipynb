{
 "cells": [
  {
   "cell_type": "markdown",
   "metadata": {},
   "source": [
    "### 2016.11.15"
   ]
  },
  {
   "cell_type": "markdown",
   "metadata": {},
   "source": [
    "**1.求解下列方程：**\n",
    "\n",
    "（2）$xx''-(x')^2+(x')^3=0$\n",
    "\n",
    "（4）$x''+\\sqrt{1-(x')^2}=0$\n",
    "\n",
    "（6）$x''-\\frac{1}{t}x'+(x')^2=0$"
   ]
  },
  {
   "cell_type": "markdown",
   "metadata": {},
   "source": [
    "**解：**"
   ]
  },
  {
   "cell_type": "markdown",
   "metadata": {},
   "source": [
    "（2）令 $x'=y$,得到 $x''=y\\frac{\\mathrm d y}{\\mathrm d x}$,于是原方程可化为"
   ]
  },
  {
   "cell_type": "markdown",
   "metadata": {},
   "source": [
    "$$xy\\frac{\\mathrm d y}{\\mathrm d x}-y^2+y^3=0$$"
   ]
  },
  {
   "cell_type": "markdown",
   "metadata": {},
   "source": [
    "解得：$y=0$ 或 $\\frac{\\mathrm d y}{\\mathrm d x}=\\frac{y-y^2}{x}$"
   ]
  },
  {
   "cell_type": "markdown",
   "metadata": {},
   "source": [
    "当 $\\frac{\\mathrm d y}{\\mathrm d x}=\\frac{y-y^2}{x}$时，$\\frac{\\mathrm d y}{y-y^2}=\\frac{\\mathrm d x}{x}$"
   ]
  },
  {
   "cell_type": "markdown",
   "metadata": {},
   "source": [
    "两边积分得：$c_1x=\\frac{y}{1-y}$,将 $x'=y$ 代入得到 $c_1-c_1x'=\\frac{1}{x}x'$,两边积分得"
   ]
  },
  {
   "cell_type": "markdown",
   "metadata": {},
   "source": [
    "$$\\frac{1}{c_1}\\ln{|x|}+x=t+c_2$$"
   ]
  },
  {
   "cell_type": "markdown",
   "metadata": {},
   "source": [
    "当 $y=0 \\to x'=0$,得到 $x=c$"
   ]
  },
  {
   "cell_type": "markdown",
   "metadata": {},
   "source": [
    "原方程的解为：$\\frac{1}{c_1}\\ln{|x|}+x=t+c_2$ 或 $x=c$"
   ]
  },
  {
   "cell_type": "markdown",
   "metadata": {},
   "source": [
    "（4）令 $x'=y$,得到 $x''=y\\frac{\\mathrm d y}{\\mathrm d x}$,于是原方程可化为"
   ]
  },
  {
   "cell_type": "markdown",
   "metadata": {},
   "source": [
    "$$y\\frac{\\mathrm d y}{\\mathrm d x}+\\sqrt{1-y^2}=0$$"
   ]
  },
  {
   "cell_type": "markdown",
   "metadata": {},
   "source": [
    "当 $y=\\pm 1$ 时，$x'=\\pm 1 \\to x=\\pm t+c_1$"
   ]
  },
  {
   "cell_type": "markdown",
   "metadata": {},
   "source": [
    "当 $y\\neq 1$ 时，$-\\frac{y\\mathrm d y}{\\sqrt{1-y^2}}=\\mathrm d x$,两边积分得"
   ]
  },
  {
   "cell_type": "markdown",
   "metadata": {},
   "source": [
    "$$x'=\\pm \\sqrt{1-(x+c)^2}$$"
   ]
  },
  {
   "cell_type": "markdown",
   "metadata": {},
   "source": [
    "当 $x'=\\sqrt{1-(x+c)^2}$ 时，左式可化为 $\\frac{1}{\\sqrt{1-(x+c)^2}}\\mathrm d x=\\mathrm d t$,两边积分得"
   ]
  },
  {
   "cell_type": "markdown",
   "metadata": {},
   "source": [
    "$$\\arcsin(x+c)=t+c_1 \\to c$$"
   ]
  },
  {
   "cell_type": "markdown",
   "metadata": {},
   "source": [
    "当 $x'=-\\sqrt{1-(x+c)^2}$ 时，左式可化为 $-\\frac{1}{\\sqrt{1-(x+c)^2}}\\mathrm d x=\\mathrm d t$,两边积分得"
   ]
  },
  {
   "cell_type": "markdown",
   "metadata": {},
   "source": [
    "$$\\arccos(x+c)=t+c_1 \\to x=\\cos(c_1+t)-c$$"
   ]
  },
  {
   "cell_type": "markdown",
   "metadata": {},
   "source": [
    "原方程的解为：$x=\\pm t+c_1 \\quad 或\\quad x=\\pm t+c_1 \\quad 或\\quad x=\\cos(c_1+t)-c$"
   ]
  },
  {
   "cell_type": "markdown",
   "metadata": {},
   "source": [
    "（6）当 $x'\\neq 0$ 时，方程两边同除以 $x'$,原方程化为"
   ]
  },
  {
   "cell_type": "markdown",
   "metadata": {},
   "source": [
    "$$\\frac{x''}{x'}-\\frac{1}{t}+x'=0$$"
   ]
  },
  {
   "cell_type": "markdown",
   "metadata": {},
   "source": [
    "方程两边取积分得：$\\ln{|x'|}-\\ln t +x=c_1$"
   ]
  },
  {
   "cell_type": "markdown",
   "metadata": {},
   "source": [
    "求得 $x'=te^{-x+c_1} \\to e^{x-c_1}\\mathrm d x=t\\mathrm d t$,两边求积分得"
   ]
  },
  {
   "cell_type": "markdown",
   "metadata": {},
   "source": [
    "$$e^x=c_1(t^2+c_2)$$"
   ]
  },
  {
   "cell_type": "markdown",
   "metadata": {},
   "source": [
    "当 $x'=0$时，得到 $x=c$ ，满足题意"
   ]
  },
  {
   "cell_type": "markdown",
   "metadata": {},
   "source": [
    "原方程的解为：$e^x=c_1(t^2+c_2)\\quad 或 \\quad x=c$"
   ]
  },
  {
   "cell_type": "markdown",
   "metadata": {},
   "source": [
    "**2.用幂级数解法求解下列方程：**"
   ]
  },
  {
   "cell_type": "markdown",
   "metadata": {},
   "source": [
    "（2）$(1-t)x''+x=0$"
   ]
  },
  {
   "cell_type": "markdown",
   "metadata": {},
   "source": [
    "**解：**"
   ]
  },
  {
   "cell_type": "markdown",
   "metadata": {},
   "source": [
    "设 $x=a_0+a_1t+a_2t^2+\\cdots+a_nt^n+\\cdots$ 是方程的解，则"
   ]
  },
  {
   "cell_type": "markdown",
   "metadata": {},
   "source": [
    "$x'=a_1+2a_2t+3a_3t^2+\\cdots+na_nt^{n-1}+\\cdots$\n",
    "\n",
    "$x''=2a_2+3\\cdot 2a_3t\\cdots+n(n-1)a_nt^{n-2}+\\cdots$"
   ]
  },
  {
   "cell_type": "markdown",
   "metadata": {},
   "source": [
    "将 $x,x'$ 代入原方程得"
   ]
  },
  {
   "cell_type": "markdown",
   "metadata": {},
   "source": [
    "$(1-t)(2a_2+3\\cdot 2a_3t\\cdots+n(n-1)a_nt^{n-2}+\\cdots)+a_1+2a_2t+3a_3t^2+\\cdots+na_nt^{n-1}+\\cdots=0$,得到"
   ]
  },
  {
   "cell_type": "markdown",
   "metadata": {},
   "source": [
    "合并 t 的各同次幂的项，并令各项系数均为零，得到"
   ]
  },
  {
   "cell_type": "markdown",
   "metadata": {},
   "source": [
    "$$\n",
    "\\begin{cases}\n",
    "a_0+2a_2=0\\\\\n",
    "a_1-2a_2+3\\cdot 2a_3=0\\\\\n",
    "\\vdots \\\\\n",
    "n(n-1)a_n-(n-1)(n-2)a_{n-1}+a_{n+2}=0\n",
    "\\end{cases}\n",
    "$$\n",
    "\n",
    "\n"
   ]
  },
  {
   "cell_type": "markdown",
   "metadata": {},
   "source": [
    "由于此题并未给出初值条件，需要找到两个线性无关的解"
   ]
  },
  {
   "cell_type": "markdown",
   "metadata": {},
   "source": [
    "不妨假设 $x_1(t),x_2(t)$ 满足 $x_1(0)=0.x_1'(0)=1;x_2(0)=1,x_2'(0)=0$"
   ]
  },
  {
   "cell_type": "markdown",
   "metadata": {},
   "source": [
    "对于 $x_1(t)$,易知 $a_0=0,a_1=1$"
   ]
  },
  {
   "cell_type": "markdown",
   "metadata": {},
   "source": [
    "求得 $a_2=0,a_3=\\frac{-1}{3\\cdot 2},\\cdots,a_n=\\frac{(n-1)(n-2)a_{n-1}-a_{n+2}}{n(n-1)}$"
   ]
  },
  {
   "cell_type": "markdown",
   "metadata": {},
   "source": [
    "即 $$x_1(t)=t-\\frac{t^3}{3!}-\\frac{2}{4!}t^4-\\frac{5}{5!}t^5\\cdots$$"
   ]
  },
  {
   "cell_type": "markdown",
   "metadata": {},
   "source": [
    "对于 $x_2(t)$,易知 $a_0=1,a_1=0$"
   ]
  },
  {
   "cell_type": "markdown",
   "metadata": {},
   "source": [
    "求得 $a_2=-\\frac{1}{2},a_3=\\frac{-1}{3\\cdot 2},\\cdots,a_n=\\frac{(n-1)(n-2)a_{n-1}-a_{n+2}}{n(n-1)}$"
   ]
  },
  {
   "cell_type": "markdown",
   "metadata": {},
   "source": [
    "即 $$x_2(t)=1-\\frac{1}{2!}t^2-\\frac{1}{3}t^3-\\frac{1}{4}t^4\\cdots$$"
   ]
  },
  {
   "cell_type": "markdown",
   "metadata": {},
   "source": [
    "所以，原方程的解为：$$x=c_1x_1(t)+c_2x_2(t)=c_1(t-\\frac{t^3}{3!}-\\frac{2}{4!}t^4-\\frac{5}{5!}t^5\\cdots)+c_2(1-\\frac{1}{2!}t^2-\\frac{1}{3}t^3-\\frac{1}{4}t^4\\cdots)$$"
   ]
  },
  {
   "cell_type": "markdown",
   "metadata": {
    "collapsed": true
   },
   "source": [
    "### 2016.11.16"
   ]
  },
  {
   "cell_type": "markdown",
   "metadata": {},
   "source": [
    "**2.将下面的初值问题化为与之等价的一阶方程组的初值问题：**"
   ]
  },
  {
   "cell_type": "markdown",
   "metadata": {},
   "source": [
    "（3）\n",
    "$\n",
    "\\begin{cases}\n",
    "x''+5y'-7x+6y=e^t\\\\\n",
    "y''-2y+13y'-15x=\\cos t\n",
    "\\end{cases}\n",
    "$\n",
    "\n",
    "$x(0)=1,x'(0)=0,y(0)=0,y'(0)=1$"
   ]
  },
  {
   "cell_type": "markdown",
   "metadata": {},
   "source": [
    "**解：**"
   ]
  },
  {
   "cell_type": "markdown",
   "metadata": {},
   "source": [
    "令 $w_1=x,w_2=x',w_3=y,w_4=y'$,则可得"
   ]
  },
  {
   "cell_type": "markdown",
   "metadata": {},
   "source": [
    "$$\n",
    "\\begin{cases}\n",
    "x''=-5y'+7x-6y+e^t\\\\\n",
    "y''=2y-13y'+15x+\\cos t\n",
    "\\end{cases}\n",
    "$$"
   ]
  },
  {
   "cell_type": "markdown",
   "metadata": {},
   "source": [
    "$$\n",
    "\\begin{cases}\n",
    "w_1'=x'=w_2\\\\\n",
    "w_2'=-5w_4+7w_1-6w_3+e^t\\\\\n",
    "w_3'=y'=w_4\\\\\n",
    "w_4'=2w_3-13w_4+15w_1+\\cos t\n",
    "\\end{cases}\n",
    "$$"
   ]
  },
  {
   "cell_type": "markdown",
   "metadata": {},
   "source": [
    "所以\n"
   ]
  },
  {
   "cell_type": "markdown",
   "metadata": {},
   "source": [
    "$$\n",
    "\\begin{pmatrix} w_1\\\\w_2\\\\w_3\\\\w_4 \\end{pmatrix}\n",
    "=\\begin{pmatrix} 0&1&0&0\\\\7&0&-6&-5\\\\0&0&0&1\\\\15&0&2&-13 \\end{pmatrix}\\begin{pmatrix} w_1\\\\w_2\\\\w_3\\\\w_4 \\end{pmatrix}\n",
    "+\\begin{pmatrix} 0\\\\e^t\\\\0\\\\ \\cos t \\end{pmatrix}\n",
    "$$"
   ]
  },
  {
   "cell_type": "markdown",
   "metadata": {},
   "source": [
    "$$w_1(0)=1,w_2(0)=0,w_3(0)=0,w_4(0)=1$$"
   ]
  },
  {
   "cell_type": "markdown",
   "metadata": {},
   "source": [
    "**3.试用逐步逼近法求方程组**\n",
    "\n",
    "$$\\mathbf x'=\\begin{bmatrix} 0&1\\\\-1&0 \\end{bmatrix}\\mathbf x$$\n",
    "\n",
    "**满足初值条件**\n",
    "\n",
    "$$x(0)=\\begin{bmatrix} 0\\\\1 \\end{bmatrix}$$\n",
    "\n",
    "**的第三次近似解**"
   ]
  },
  {
   "cell_type": "markdown",
   "metadata": {},
   "source": [
    "**解：**\n",
    "\n"
   ]
  },
  {
   "cell_type": "markdown",
   "metadata": {},
   "source": [
    "令 $$\\varphi_0(t)=\\begin{bmatrix} 0\\\\1 \\end{bmatrix}$$"
   ]
  },
  {
   "cell_type": "markdown",
   "metadata": {},
   "source": [
    "则 $$\\varphi_1(t)=\\begin{bmatrix} 0\\\\1 \\end{bmatrix}+\\int_0^t [\\begin{bmatrix} 0&1\\\\-1&0 \\end{bmatrix}\\begin{bmatrix} 0\\\\1 \\end{bmatrix}]\\mathrm d t$$"
   ]
  },
  {
   "cell_type": "markdown",
   "metadata": {},
   "source": [
    "得到 $$\\varphi_1(t)=\\begin{bmatrix} t\\\\1 \\end{bmatrix}$$"
   ]
  },
  {
   "cell_type": "markdown",
   "metadata": {},
   "source": [
    "$$\\varphi_2(t)=\\begin{bmatrix} 0\\\\1 \\end{bmatrix}+\\int_0^t [\\begin{bmatrix} 0&1\\\\-1&0 \\end{bmatrix}\\begin{bmatrix} t\\\\1 \\end{bmatrix}]\\mathrm d t$$"
   ]
  },
  {
   "cell_type": "markdown",
   "metadata": {},
   "source": [
    "得到 $$\\varphi_2(t)=\\begin{bmatrix} t\\\\1-\\frac{1}{2}t^2 \\end{bmatrix}$$"
   ]
  },
  {
   "cell_type": "markdown",
   "metadata": {},
   "source": [
    "$$\\varphi_3(t)=\\begin{bmatrix} 0\\\\1 \\end{bmatrix}+\\int_0^t [\\begin{bmatrix} 0&1\\\\-1&0 \\end{bmatrix}\\begin{bmatrix} t\\\\1-\\frac{1}{2}t^2 \\end{bmatrix}]\\mathrm d t$$"
   ]
  },
  {
   "cell_type": "markdown",
   "metadata": {},
   "source": [
    "得到 $$\\varphi_3(t)=\\begin{bmatrix} t-\\frac{1}{6}t^3\\\\1-\\frac{1}{2}t^2 \\end{bmatrix}$$"
   ]
  },
  {
   "cell_type": "code",
   "execution_count": null,
   "metadata": {
    "collapsed": true
   },
   "outputs": [],
   "source": []
  }
 ],
 "metadata": {
  "kernelspec": {
   "display_name": "SageMath 7.2",
   "language": "",
   "name": "sagemath"
  },
  "language_info": {
   "codemirror_mode": {
    "name": "ipython",
    "version": 2
   },
   "file_extension": ".py",
   "mimetype": "text/x-python",
   "name": "python",
   "nbconvert_exporter": "python",
   "pygments_lexer": "ipython2",
   "version": "2.7.10"
  }
 },
 "nbformat": 4,
 "nbformat_minor": 0
}
