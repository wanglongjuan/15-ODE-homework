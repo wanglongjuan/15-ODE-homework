{
 "cells": [
  {
   "cell_type": "markdown",
   "metadata": {},
   "source": [
    "1.求解下列方程：\n",
    "\n",
    "（2）$xx''-(x')^2+(x')^3=0$\n",
    "\n",
    "（4）$x''+\\sqrt{1-(x')^2}=0$\n",
    "\n",
    "（6）$x''-\\frac{1}{t}x'+(x')^2=0$"
   ]
  },
  {
   "cell_type": "markdown",
   "metadata": {},
   "source": [
    "解：（2）令$x'=y$,方程化为$xy\\frac{dy}{dx}-y^2+y^3=0$,\n",
    "\n",
    "所以$y=0或者\\frac{dy}{dx}=\\frac{y-y^2}{x}$,\n",
    "\n",
    "两边积分得：$\\frac{y}{1-y}=c_1x$,\n",
    "\n",
    "即$\\frac{x'}{1-x'}=c_1x$\n",
    "\n",
    "再次积分得：$x+\\frac{1}{c_1}ln|x|=t+c_2$\n",
    "\n",
    "当$y=0$时，得$x'=0,故x=c$\n",
    "\n",
    "综上，方程的解为$x+\\frac{1}{c_1}ln|x|=t+c_2$或$x=c$,这里$c_1,c_2,c_3$是任意常数。\n"
   ]
  },
  {
   "cell_type": "markdown",
   "metadata": {},
   "source": [
    "（4）令$x'=y$,方程化为$y\\frac{dy}{dx}+\\sqrt{1-y^2}=0$\n",
    "\n",
    "当$y=\\pm1时，x'=\\pm1,则x=\\pm t+c_1$\n",
    "\n",
    "当$y\\neq \\pm1时，方程变形为\\frac{ydy}{\\sqrt{1-y^2}}=-dx$\n",
    "\n",
    "两边积分得$\\sqrt{1-y^2}=x+c$\n",
    "\n",
    "即$\\sqrt{1-x'^2}=x+c,或者x'=\\pm \\sqrt{1-(x+c)^2}$,\n",
    "\n",
    "再次积分得：\n",
    "\n",
    "①当$x'=+\\sqrt{1-(x+c)^2}时，x=sin(t+c_1)-c$\n",
    "\n",
    "②当$x'=-\\sqrt{1-(x+c)^2}时，x=cos(t+c_1)-c$\n",
    "\n",
    "综上，原方程的解为：$x=sin(t+c_1)-c或x=cos(t+c_1)-c以及x=\\pm t+c_1$,这里$c_1,c$是任意常数"
   ]
  },
  {
   "cell_type": "markdown",
   "metadata": {},
   "source": [
    "（6）当$x'\\neq 0时，方程两边同除以x'$,则得到$\\frac{x''}{x'}-\\frac{1}{t}+x'=0$\n",
    "\n",
    "即$d(\\ln|x'|-ln|t|+x)=0$\n",
    "\n",
    "两边积得：$\\ln |\\frac{x'}{t}|+x=c_1$\n",
    "\n",
    "解得$x',则有x=t(e^{-x+c_1})$\n",
    "\n",
    "再次积分得$e^x=e^{c_1}(\\frac{t^2}{2})+c_2$\n",
    "\n",
    "由于$c_1,c_2$是任意的常数，所以可写成$e^x=c_1(t^2+c_2)$\n",
    "\n",
    "当$x'=0时，得x=c$,显然也是原方程的解\n",
    "\n",
    "综上，方程的解是$e^x=c_1(t^2+c_2)或x=c$\n"
   ]
  },
  {
   "cell_type": "markdown",
   "metadata": {},
   "source": [
    "2.用幂级数解法求下列方程：\n",
    "\n",
    "（2）$(1-t)x''+x=0$"
   ]
  },
  {
   "cell_type": "markdown",
   "metadata": {},
   "source": [
    "解：设$x=a_0+a_1t+a_2t^2+a_3t^3+\\cdot \\cdot \\cdot +a_nt^n+\\cdot \\cdot \\cdot $是方程的解，则\n",
    "\n",
    "$x'=a_1+2a_2t+3a_3t^2+\\cdot \\cdot \\cdot +na_nt^{n-1}+\\cdot \\cdot \\cdot$,\n",
    "\n",
    "$x''=2a_2+3\\cdot2a_3t+\\cdot \\cdot \\cdot+n(n-1)a^nt^{n-2}+\\cdot \\cdot \\cdot.$\n",
    "\n",
    "把$x_1,x',x''$的表达式代入原方程，合并t的各同次幂的项，并令各项系数等于零，得到$ \\begin{cases} a_0+2a_2=0,  \\\\ a_1-2a_2+3\\cdot 2a_3=0,   \\\\n(n-1)a_n-(n-1)(n-2)a_{n-1}+a_{n-2}=0 \\end{cases} $\n",
    "设$x_1(t)和x_2(t)是满足初值条件x_1(0)=0,x_1'(0)=1,x_2(0)=1,x_2'(0)=0$的两个解。\n",
    "\n",
    "对于$x_1(t),显然有a_0=0,a_1=1,$代入上式得\n",
    "\n",
    "$a_2=0,a_3=\\frac{-1}{3\\cdot2},a_4=\\frac{-1}{4\\cdot3}=\\frac{-2}{4\\cdot3\\cdot2},a_5=\\frac{-5}{5\\cdot4\\cdot3\\cdot2},\\cdot \\cdot \\cdot$\n",
    "\n",
    "$a_n=\\frac{(n-1)(n-2)a_{n-1}-a_{n-2}}{n(n-1)}$\n",
    "\n",
    "即$x_1(t)=t-\\frac{t^3}{3!}-\\frac{2t^4}{4!}-\\frac{5t^5}{5!}\\cdot \\cdot \\cdot.$\n",
    "\n",
    "对于$x_2(t),显然有a_0=1,a_1=0，代入可得\n",
    "\n",
    "$a_2=-\\frac{1}{2},a_3=\\frac{-1}{3\\cdot2},a_4=\\frac{-1}{4\\cdot3\\cdot2},\\cdot \\cdot \\cdot$\n",
    "\n",
    "$a_n=\\frac{(n-1)(n-2)a_{n-1}-a_{n-2}}{n(n-1)}$\n",
    "\n",
    "即$x_2(t)=1-\\frac{t^2}{2!}-\\frac{t^3}{3!}-\\frac{t^4}{4!}-\\cdot \\cdot \\cdot.$\n",
    "\n",
    "所以方程的通解为$x=c_1x_1(t)+c_2x_2(t)=c_1(t-\\frac{t^3}{3!}-\\frac{2t^4}{4!}-\\frac{5t^5}{5!}\\cdot \\cdot \\cdot)+c_2(1-\\frac{t^2}{2!}-\\frac{t^3}{3!}-\\frac{t^4}{4!}-\\cdot \\cdot \\cdot)$\n"
   ]
  },
  {
   "cell_type": "markdown",
   "metadata": {},
   "source": [
    "2.将下面的初值问题化为与之等价的一阶方程组的初值问题：\n",
    "\n",
    "（3）$  \\begin{cases} x''+5y'-7x+6y=e^t \\\\ y''-2y+13y'-15x=\\cos t,  \\end{cases} $\n",
    "$\\\\\\\\\\\\\\\\\\\\\\\\\\\\\\\\\\\\\\ x(0)=1,x'(0)=0,y(0)=0,y'(0)=1.$\n"
   ]
  },
  {
   "cell_type": "markdown",
   "metadata": {},
   "source": [
    "解：令$x_1=x,x_2=x',x_3=x'',x_4=x'''$,则化为方程组\n",
    "\n",
    "$ \\begin{bmatrix} x_1  \\\\ x_2  \\\\  x_3  \\\\  x_4  \\end{bmatrix} ^1= \\begin{bmatrix} 0 & 1 & 0 & 0  \\\\ 0 & 0 & 1 & 0  \\\\ 0 & 0 & 0 &1  \\\\  -1 & 0 & 0 & 0  \\end{bmatrix}  \\begin{bmatrix} x_1  \\\\ x_2  \\\\  x_3  \\\\  x_4  \\end{bmatrix}+\\begin{bmatrix} 0  \\\\ 0  \\\\  0  \\\\  te^t  \\end{bmatrix}$,\n",
    "\n",
    "初值条件为$w_1(0)=1,w_2(0)=0,w_3(0)=0,w_4(0)=1$"
   ]
  },
  {
   "cell_type": "markdown",
   "metadata": {},
   "source": [
    "3.试用逐步逼近法求方程组$x'=\\begin{bmatrix} 0 & 1 \\\\ -1 & 0 \\\\ \\end{bmatrix} x$,满足初值条件$x(0)= \\begin{bmatrix} 0 \\\\ 1 \\\\ \\end{bmatrix} $的第三次近似解"
   ]
  },
  {
   "cell_type": "markdown",
   "metadata": {},
   "source": [
    "解：$\\varphi_0(t)= \\begin{bmatrix} 0 \\\\ 1 \\\\ \\end{bmatrix} $\n",
    "\n",
    "$\\varphi_1(t)= \\begin{bmatrix} 0 \\\\ 1 \\\\ \\end{bmatrix} + \\int_0^t { \\begin{bmatrix} 0 & 1 \\\\ -1 & 0 \\\\ \\end{bmatrix} } \\begin{bmatrix} 0 \\\\ 1 \\\\ \\end{bmatrix}ds= \\begin{bmatrix} 0 \\\\ 1 \\\\ \\end{bmatrix} + \\int_0^t { \\begin{bmatrix} 1 \\\\ 0 \\\\ \\end{bmatrix} }ds= \\begin{bmatrix} 0 \\\\ 1 \\\\ \\end{bmatrix} + \\begin{bmatrix} t \\\\ 0 \\\\ \\end{bmatrix} = \\begin{bmatrix} t \\\\ 1 \\\\ \\end{bmatrix} $\n",
    "\n",
    "$\\varphi_2(t)= \\begin{bmatrix} 0 \\\\ 1 \\\\ \\end{bmatrix} + \\int_0^t { \\begin{bmatrix} 0 & 1 \\\\ -1 & 0 \\\\ \\end{bmatrix} } \\begin{bmatrix} t \\\\ 1 \\\\ \\end{bmatrix}dt= \\begin{bmatrix} 0 \\\\ 1 \\\\ \\end{bmatrix} + \\int_0^t { \\begin{bmatrix} 1 \\\\ -t \\\\ \\end{bmatrix} }dt= \\begin{bmatrix} 0 \\\\ 1 \\\\ \\end{bmatrix} +  \\int_0^t { \\begin{bmatrix} 1 \\\\ -t \\\\ \\end{bmatrix} }dt= \\begin{bmatrix} 0 \\\\ 1 \\\\ \\end{bmatrix} + \\begin{bmatrix} t \\\\ -\\frac{t^2}{2} \\\\ \\end{bmatrix}= \\begin{bmatrix} t \\\\ 1-\\frac{t^2}{2} \\\\ \\end{bmatrix}$,\n",
    "\n",
    "$\\varphi_3(t)= \\begin{bmatrix} 0 \\\\ 1 \\\\ \\end{bmatrix} + \\int_0^t { \\begin{bmatrix} 0 & 1 \\\\ -1 & 0 \\\\ \\end{bmatrix} } \\begin{bmatrix} s \\\\ 1-\\frac{s^2}{2} \\\\ \\end{bmatrix}ds= \\begin{bmatrix} 0 \\\\ 1 \\\\ \\end{bmatrix} + \\int_0^t { \\begin{bmatrix} 1-\\frac{s^2}{2} \\\\ -s \\\\ \\end{bmatrix} }ds= \\begin{bmatrix} 0 \\\\ 1 \\\\ \\end{bmatrix} +  \\begin{bmatrix} t-\\frac{t^3}{6} \\\\ -\\frac{t^2}{2} \\\\ \\end{bmatrix}= \\begin{bmatrix} t-\\frac{t^3}{6} \\\\ 1-\\frac{t^2}{2} \\\\ \\end{bmatrix}$,\n",
    "\n",
    "所以满足初值条件$x(0)= \\begin{bmatrix} 0 \\\\ 1 \\\\ \\end{bmatrix}$ 的第三次近似解为$\\varphi_3(t)= \\begin{bmatrix} t-\\frac{t^3}{6} \\\\ 1-\\frac{t^2}{2} \\\\ \\end{bmatrix}$,\n"
   ]
  },
  {
   "cell_type": "code",
   "execution_count": null,
   "metadata": {
    "collapsed": true
   },
   "outputs": [],
   "source": []
  }
 ],
 "metadata": {
  "kernelspec": {
   "display_name": "SageMath 7.2",
   "language": "",
   "name": "sagemath"
  },
  "language_info": {
   "codemirror_mode": {
    "name": "ipython",
    "version": 2
   },
   "file_extension": ".py",
   "mimetype": "text/x-python",
   "name": "python",
   "nbconvert_exporter": "python",
   "pygments_lexer": "ipython2",
   "version": "2.7.10"
  }
 },
 "nbformat": 4,
 "nbformat_minor": 0
}
