{
 "cells": [
  {
   "cell_type": "markdown",
   "metadata": {},
   "source": [
    "P183 $\\quad$1.求解下列方程。"
   ]
  },
  {
   "cell_type": "markdown",
   "metadata": {},
   "source": [
    "（2）$xx\"-（x'）^2+(x')^3=0$"
   ]
  },
  {
   "cell_type": "markdown",
   "metadata": {},
   "source": [
    "解：令$x'=y$,则方程化为：$$xy\\frac{\\mathrm dy}{\\mathrm dx}-y^2+y^3=0$$     \n",
    "可得到$$y=0或者\\frac{\\mathrm dy}{\\mathrm dx}=\\frac{\\mathrm y-y^2}{\\mathrm x}$$     \n",
    "积分后可得：$$\\frac{\\mathrm y}{\\mathrm 1-y}=c_{1}x \\quad (c_{1}≠0）$$   \n",
    "即$$\\frac{\\mathrm x'}{\\mathrm 1-x'}=c_{1}x$$   \n",
    "再次积分可得：$$x+\\frac{\\mathrm 1}{\\mathrm c_{1}}ln|x|=t+c_{2}$$   \n",
    "当y=0时，得到：$$x'=0$$   \n",
    "故$$x=c$$  \n",
    "即方程的解为：$$  x+\\frac{\\mathrm 1}{\\mathrm c_{1}}ln|x|=t+c_{2}或者x=c \\quad c_{1},c_{2},c为任意常数。$$   "
   ]
  },
  {
   "cell_type": "markdown",
   "metadata": {},
   "source": [
    "(4)$x''+\\sqrt{1-(x')^2}=0$"
   ]
  },
  {
   "cell_type": "markdown",
   "metadata": {},
   "source": [
    "解：令$x'=y$则方程化为：$$y\\frac{\\mathrm dy}{\\mathrm dx}+\\sqrt{1-y^2}=0$$    \n",
    "当$y=+_{\\substack{-}}1即x'=+_{-}1$时，则$$x=+_{\\substack{-}}t+c_{1}$$   \n",
    "当$y≠+_{\\substack{-}}1$时，方程又可以变形为：$$\\frac{\\mathrm ydy}{\\sqrt{1-y^2}}=-dx$$   \n",
    "积分后可得：$$\\sqrt{1-y^2}=x+c$$   \n",
    "即$$\\sqrt{1-x'^2}=x+c$$   \n",
    "再次积分得：  \n",
    "$$①当x'=+\\sqrt{1+(x+c)^2}$时，$x=sin(t+c_{1})-c$$   \n",
    "$$②当x'=-\\sqrt{1+(x+c)^2}$时，$x=cos(t+c_{1})-c$$   \n",
    "综上所述得解为：$$x=sin(t+c_{1})-c  或者 x=cos(t+c_{1})-c  以及 x=+_{\\substack{-}}t+c_{1} \\quad c_{1},c为任意常数 $$"
   ]
  },
  {
   "cell_type": "markdown",
   "metadata": {},
   "source": [
    "(6)$x''-\\frac{\\mathrm 1}{\\mathrm t}x'+(x')^2=0$"
   ]
  },
  {
   "cell_type": "markdown",
   "metadata": {},
   "source": [
    "解：当$x'≠0$时，方程两边同除以$x'$，则可得到：$$\\frac{\\mathrm x\"}{\\mathrm x'}-\\frac{\\mathrm 1}{\\mathrm t}+x'=0$$   \n",
    "即$$d(ln|x'|-ln|t|+x)=0$$   \n",
    "积分可得：$$ln|\\frac{\\mathrm x'}{\\mathrm t}|+x=c_{1}$$   \n",
    "求得：$x'$为：$$x'=t(e^{-x+c_{1}})$$   \n",
    "再次积分可得：$$e^{x}=e^{c_{1}}(\\frac{\\mathrm t^2}{\\mathrm 2}+c_{2}) \\quad c_{1},c_{2}为任意常数。$$        \n",
    "当$x'=0$时，可得$x=c$,  \n",
    "显然它也是原方程的解     \n",
    "综上所述，方程的解为：$$e^{x}=e^{c_{1}}(\\frac{\\mathrm t^2}{\\mathrm 2}+c_{2}) \\quad x=c$$"
   ]
  },
  {
   "cell_type": "markdown",
   "metadata": {},
   "source": [
    "2.用幂级数解法求解下列方程："
   ]
  },
  {
   "cell_type": "markdown",
   "metadata": {},
   "source": [
    "（2）$(1-t)x''+x=0$"
   ]
  },
  {
   "cell_type": "markdown",
   "metadata": {},
   "source": [
    "解：假设：$x=a_{0}+a_{1}t+a_{2}t^2+a_{3}t^3+....+a_{n}t^n+....$是方程的解。  \n",
    "则：$$x=a_{1}+2a_{2}t+3a_{3}t^2+4a_{4}t^3+....+na_{n}t^{n-1}+....$$  \n",
    "$$x''=2a_{2}+6a_{3}t+....+n(n-1)a_{n}t^{n-2}+....$$  \n",
    "将上式带入原方程可得：$$a_{0}+2a_{2}=0$$   \n",
    "$$a_{1}-2a_{2}+6a_{3}=0  ............ ①$$  \n",
    "$$n(n-1)a_{n}-(n-1)(n-2)a_{n-1}+a_{n-2}=0$$    \n",
    "设$x_{1}(t)$和$x_{2}(t)$是满足初值条件$x_{1}(0)=0,x'_{1}(0)=1,x_{2}(0)=1,x'_{2}(0)=0$的两个解。   \n",
    "对于$x_{1}(t)$,显然有$a_{0}=0,a_{1}=1$,代入①式，可得：\n",
    "$$a_{2}=0$$\n",
    "$$a_{3}=\\frac{\\mathrm -1}{\\mathrm 3 \\bullet 2}$$  \n",
    "$$a_{4}=\\frac{\\mathrm -1}{\\mathrm 4 \\bullet 3}=\\frac{\\mathrm -2}{\\mathrm 4 \\bullet 3 \\bullet 2}$$  \n",
    "$$a_{5}=\\frac{\\mathrm -5}{\\mathrm 5\\bullet4\\bullet3\\bullet2}$$     \n",
    "$$............$$   \n",
    "$$a_{n}=\\frac{\\mathrm (n-1)(n-2)a_{n-1}-a_{n-2}}{\\mathrm n(n-1)}$$   \n",
    "即$$x_{1}(t)=t-\\frac{\\mathrm t^3}{\\mathrm 3!}-\\frac{\\mathrm 2}{\\mathrm 4!}t^4-\\frac{\\mathrm 5}{\\mathrm 5!}t^5......$$  \n",
    "对于$x_{2}(t)$,显然有$a_{0}=1,a_{1}=0$,代入①式，可得： \n",
    "$$a_{2}=\\frac{\\mathrm -1}{\\mathrm 2}$$\n",
    "$$a_{3}=\\frac{\\mathrm -1}{\\mathrm 3\\bullet2}$$\n",
    "$$a_{4}=\\frac{\\mathrm -1}{\\mathrm 4\\bullet3\\bullet2}$$  \n",
    "$$............$$  \n",
    "$$a_{n}=\\frac{\\mathrm (n-1)(n-2)a_{n-1}-a_{n-2}}{\\mathrm n(n-1)}$$  \n",
    "即$$x_{2}(t)=1-\\frac{\\mathrm 1}{\\mathrm 2!}t^2-\\frac{\\mathrm 1}{\\mathrm 3!}t^3-\\frac{\\mathrm 1}{\\mathrm 4!}t^4......$$   \n",
    "所以方程的通解为：  \n",
    "$$x=c_{1}x_{1}(t)+c_{2}x_{2}(t)=c_{1}(t-\\frac{\\mathrm t^3}{\\mathrm 3!}-\\frac{\\mathrm 2}{\\mathrm 4!}t^4-\\frac{\\mathrm 5}{\\mathrm 5!}t^5...)+c_{2}(1-\\frac{\\mathrm 1}{\\mathrm 2!}t^2-\\frac{\\mathrm 1}{\\mathrm 3!}t^3-\\frac{\\mathrm 1}{\\mathrm 4!}t^4...)$$   "
   ]
  },
  {
   "cell_type": "markdown",
   "metadata": {},
   "source": [
    "P201$\\quad$2.将初值问题化为与之等价的一阶方程组的初值问题。"
   ]
  },
  {
   "cell_type": "markdown",
   "metadata": {},
   "source": [
    "（3）$x\"+5y'-7x+6y=e^t$  \n",
    "$\\quad  y''-2y+13y'-15x=cost$   \n",
    "$\\quad  x(0)=1,x'(0)=0,y(0)=0,y'(0)=1$  "
   ]
  },
  {
   "cell_type": "markdown",
   "metadata": {},
   "source": [
    "解：令$ω_{1}=x,ω_{2}=x',ω_{3}=y,ω_{4}=y'$则可化为方程组：\n",
    "$$\\begin{bmatrix}ω_{1}\\\\ω_{2}\\\\ω_{3}\\\\ω_{4}\\\\\\end{bmatrix}=\\begin{bmatrix}0&1&0&0\\\\7&0&-6&-5\\\\0&0&0&1\\\\15&0&2&-13\\\\\\end{bmatrix}\\begin{bmatrix}ω_{1}\\\\ω_{2}\\\\ω_{3}\\\\ω_{4}\\\\\\end{bmatrix}+\\begin{bmatrix}0\\\\e^t\\\\0\\\\cost\\\\\\end{bmatrix}$$  \n",
    "初值为：$$ω_{1}(0)=1,ω_{2}(0)=0,ω_{3}(0)=0,ω_{4}(0)=1$$"
   ]
  },
  {
   "cell_type": "markdown",
   "metadata": {},
   "source": [
    "3.试用逐步逼近法求方程组$$x'=\\begin{bmatrix}0&1\\\\-1&0\\\\\\end{bmatrix}x$$  满足初值条件$$x（0）=\\begin{bmatrix}0\\\\1\\\\\\end{bmatrix}$$的第三次近似解。"
   ]
  },
  {
   "cell_type": "markdown",
   "metadata": {},
   "source": [
    "解：\n",
    "$$φ_{0}(t)=\\begin{bmatrix}0\\\\1\\\\\\end{bmatrix}$$   \n",
    "$$φ_{1}(t)=\\begin{bmatrix}0\\\\1\\\\\\end{bmatrix}+\\int_0^t \\begin{bmatrix}0&1\\\\-1&0\\\\\\end{bmatrix}\\begin{bmatrix}0\\\\1\\\\\\end{bmatrix}\\mathrm ds$$  \n",
    "$$=\\begin{bmatrix}0\\\\1\\\\\\end{bmatrix}+\\int_0^t\\begin{bmatrix}1\\\\0\\\\\\end{bmatrix}\\mathrm ds$$  \n",
    "$$=\\begin{bmatrix}0\\\\1\\\\\\end{bmatrix}+\\begin{bmatrix}t\\\\0\\\\\\end{bmatrix}=\\begin{bmatrix}t\\\\1\\\\\\end{bmatrix}$$   \n",
    "$$φ_{2}(t)=\\begin{bmatrix}0\\\\1\\\\\\end{bmatrix}+\\int_0^t \\begin{bmatrix}0&1\\\\-1&0\\\\\\end{bmatrix}\\begin{bmatrix}t\\\\1\\\\\\end{bmatrix}\\mathrm dt$$\n",
    "$$=\\begin{bmatrix}0\\\\1\\\\\\end{bmatrix}+\\int_0^t\\begin{bmatrix}1\\\\-t\\\\\\end{bmatrix}\\mathrm dt$$\n",
    "$$=\\begin{bmatrix}0\\\\1\\\\\\end{bmatrix}+\\begin{bmatrix}t\\\\-\\frac{\\mathrm 1}{\\mathrm 2}t^2\\\\\\end{bmatrix}$$\n",
    "$$=\\begin{bmatrix}t\\\\1-\\frac{\\mathrm 1}{\\mathrm 2}t^2\\\\\\end{bmatrix}$$\n",
    "$$φ_{3}(t)=\\begin{bmatrix}0\\\\1\\\\\\end{bmatrix}+\\int_0^t \\begin{bmatrix}0&1\\\\-1&0\\\\\\end{bmatrix}\\begin{bmatrix}s\\\\1-\\frac{\\mathrm 1}{\\mathrm 2}s^2\\\\\\end{bmatrix}\\mathrm ds$$\n",
    "$$=\\begin{bmatrix}0\\\\1\\\\\\end{bmatrix}+\\int_0^t\\begin{bmatrix}1-\\frac{\\mathrm 1}{\\mathrm 2}s^2\\\\-s\\\\\\end{bmatrix}\\mathrm ds$$\n",
    "$$=\\begin{bmatrix}0\\\\1\\\\\\end{bmatrix}+\\begin{bmatrix}t-\\frac{\\mathrm 1}{\\mathrm 6}t^3\\\\-\\frac{\\mathrm 1}{\\mathrm 2}t^2\\\\\\end{bmatrix}$$\n",
    "$$=\\begin{bmatrix}t-\\frac{\\mathrm 1}{\\mathrm 6}t^3\\\\1-\\frac{\\mathrm 1}{\\mathrm 2}t^2\\\\\\end{bmatrix}$$\n",
    "所以满足初值条件$x(0)=\\begin{bmatrix}0\\\\1\\\\\\end{bmatrix}$的第三次近似解为：  \n",
    "$$φ_{3}(t)=\\begin{bmatrix}t-\\frac{\\mathrm 1}{\\mathrm 6}t^3\\\\1-\\frac{\\mathrm 1}{\\mathrm 2}t^2\\\\\\end{bmatrix}   $$  "
   ]
  },
  {
   "cell_type": "code",
   "execution_count": null,
   "metadata": {
    "collapsed": true
   },
   "outputs": [],
   "source": []
  }
 ],
 "metadata": {
  "kernelspec": {
   "display_name": "SageMath 7.3",
   "language": "",
   "name": "sagemath"
  },
  "language_info": {
   "codemirror_mode": {
    "name": "ipython",
    "version": 2
   },
   "file_extension": ".py",
   "mimetype": "text/x-python",
   "name": "python",
   "nbconvert_exporter": "python",
   "pygments_lexer": "ipython2",
   "version": "2.7.10"
  }
 },
 "nbformat": 4,
 "nbformat_minor": 0
}
