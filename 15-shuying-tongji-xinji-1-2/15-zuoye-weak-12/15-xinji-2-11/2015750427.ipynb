{
 "cells": [
  {
   "cell_type": "markdown",
   "metadata": {},
   "source": [
    "1、求解下列方程：\n",
    "\n",
    "（1）$xx''-(x')^2+(x')^3=0;$\n",
    "\n",
    "（2）$x''+\\sqrt{1-(x')^2}=0;$\n",
    "\n",
    "（3）$x''-\\frac{1}{t}x'+(x')^2=0（提示：方程两端除以x'）$"
   ]
  },
  {
   "cell_type": "markdown",
   "metadata": {},
   "source": [
    "解：（1）令$x'=y$,则方程化为$$xy\\frac{dy}{dx}-y^2+y^3=0,$$得到$$y=0或者\\frac{dy}{dx}=\\frac{y-y^2}{x},$$积分后得$$\\frac{y}{1-y}=c_1x,$$即$$\\frac{x'}{1-x'}=c_1x,$$再次积分得到$$x+\\frac{1}{c_1}ln|x|=t+c_2.$$当$y=0$时，方程的解为$$x+\\frac{1}{c_1}ln|x|=t+c_2或x=c$$这里$c_1,c_2,c$是任意常数。\n",
    "\n",
    "（2）令$x'=y$,则方程化为$$y\\frac{dy}{dx}+\\sqrt{1-y^2}=0.$$当$y=\\pm1$时，即$x'=\\pm1$，则$x=\\pm t+c_1$当$y\\neq\\pm1$时，方程又可以变形为$$\\frac{ydy}{\\sqrt{1-y^2}}=-dx.$$积分后得到$$\\sqrt{1-y^2}=x+c,$$也就是$$\\sqrt{1-x'^2}=x+c或者x'=\\pm\\sqrt{1-(x+c)^2},$$再次积分则得到$$①当x'=+\\sqrt{1-(x+c)^2}时，x=sin(t+c_1)-c  \\\\ ②当x'=-\\sqrt{1-(x+c)^2}时，x=cos(t+c_1)-c.$$综合以上几种情况，即得原方程的解为$$x=sin(t+c_1)-c，或x=cos(t+c_1)-c，以及x=\\pm t+c_1.$$这里$c_1,c$是任意常数。\n",
    "\n",
    "（3）当$x'\\neq0$时，方程两边同除以$x'$,则得到$$\\frac{x''}{x'}=\\frac{1}{t}+x'=0,$$即$$d(ln|x'|-ln|t|+x)=0,$$积分可得$$ln|frac{x'}{t}|+x=c_1,$$解出$x'$，则有$$x'=t(e^{-x+c_1}).$$再次积分可得$$e^x=e^{c_1}(\\frac{t^2}{2}+c_2).$$由于这里的$c_1,c_2$是任意的常数，所以可以写成$$e^x=c_1(t^2+c_2).$$ 当$x'=0$时,即得$x=c$。 显然它也是原方程的解  。综合起来，方程的解是$$e^x=c_1(t^2+c_2)或x=c.$$"
   ]
  },
  {
   "cell_type": "markdown",
   "metadata": {},
   "source": [
    "2、用幂级函数解法求解下列方程：\n",
    "\n",
    "（1）$(1-t)x''+x=0;$"
   ]
  },
  {
   "cell_type": "markdown",
   "metadata": {},
   "source": [
    "解：（1）设$x=a_0+a_1t+a_2t^2+a_3t^3+\\dots+a_nt^n+\\dots$是方程的解，则$$x'=a_1+2a_2t+3a_3t^2+\\dots+na_nt^{n-1}+\\dots, \\\\ x''=2a_2+3·2a_3t+\\dots+n(n-1)a_nt^{n-2}+\\dots.$$把$x_1,x',x''$的表达式代入原方程，合并$t$的各同次幂的项，并令各项系数等于零，得到$$\\begin{cases}a_0+2a_2=0,\\\\ a_1-2a_2+3·2a_3=0, \\ \\ \\ \\ \\ \\  \\ \\ \\ \\ \\ \\ \\ \\ \\ ①\\\\ n(n-1)a_n-(n-1)(n-2)a_{n-1}+a_{n-2}=0.\\end{cases}$$由于本题设有初值条件，所以求出的应该是方程的通解，为此，我们需要找到两个线性无关的解。\n",
    "我们设$x_1(t)和x_2(t)$是满足初值条件$x_1(0)=0,x_1'(0)=1,x_2(0)=1,x_2(0)=0的两个解.$\n",
    "\n",
    "对于$x_1(t)$,显然有$a_0=0,a_1=1$,代入①式，可得$$a_2=0,a_3=\\frac{-1}{3·2}，a_4=\\frac{-1}{4·3}=\\frac{-2}{4·3·2},\\\\ a_5=\\frac{-5}{5·4·3·2}，\\dots \\\\ a_n=\\frac{(n-1)(n-2)a_{n-1}-a_{n-2}}{n(n-1)},$$也就是$$x_1(t)=t-\\frac{t^3}{3!}-\\frac{2}{4!}t^4-\\frac{5}{5!}t^5 \\dots.$$对于$x_2(t),显然有a_0=1,a_1=0$,代入①式，可得$$a_2=-\\frac{1}{2},a_3=frac{-1}{3·2},a_4=frac{-1}{4·3·2}，\\dots \\\\ a_n=\\frac{(n-1)(n-2)a_{n-1}-a_{n-2}}{n(n-1)},$$也就是说$$x_2(t)=1-\\frac{1}{2!}t^2-\\frac{1}{3!}t^3-\\frac{1}{4!}t^4-\\dots.$$所以方程的通解为$$\\begin{align}x &=c_1x_1(t)+c_2x_2(t) \\\\ &=c_1(t-\\frac{1}{3!}t^3-\\frac{2}{4!}t^4-\\frac{5}{5!}t^5 \\dots)+c_2(1-\\frac{1}{2!}t^2-\\frac{1}{3!}t^3-\\frac{1}{4!}t^4 \\dots).\\end{align}$$"
   ]
  },
  {
   "cell_type": "markdown",
   "metadata": {},
   "source": [
    "3、将下面的初值问题化为与之等价的一阶方程组的初值问题：\n",
    "\n",
    "（1）$\\begin{cases} x''+5y'-7x+6y=e^t, \\\\ y''-2y+13y'-15x=cost,\\end{cases} \\\\ x(0)=1,x'(0)=0,y(0)=0,y'(0)=1.$"
   ]
  },
  {
   "cell_type": "markdown",
   "metadata": {},
   "source": [
    "解：（1）令$w_1=x,w_2=x',w_3=y,w_4=y'$，则化为方程组。$$ \\begin{bmatrix}\n",
    " &w_1 \\\\ &w_2 \\\\ &w_3 \\\\ &w_4  \\end{bmatrix}^1= \\begin{bmatrix} 0 & 1 & 0 & 0 \\\\ 7 & 0 & -6 & -5 \\\\ 0 & 0 & 0 & 1 \\\\  15 & 0 & 2 & -13  \\end{bmatrix}\\begin{bmatrix} &w_1 \\\\ &w_2 \\\\ &w_3 \\\\ &w_4 \\end{bmatrix}+\\begin{bmatrix} &0 \\\\ &e^t \\\\ &0 \\\\ &cost \\end{bmatrix},\n",
    "$$初值条件为$w_1(0)=1,w_2(0)=0,w_3(0)=0,w_4(0)=1.$"
   ]
  },
  {
   "cell_type": "markdown",
   "metadata": {},
   "source": [
    "4、试用逐步逼近法求方程组$$x'=\\begin{bmatrix} &0&1 \\\\ &-1&0 \\end{bmatrix}\n",
    "x$$满足初值条件$$x(0)=\\begin{bmatrix} &0 \\\\ &1 \\end{bmatrix}$$的第三次近似解"
   ]
  },
  {
   "cell_type": "markdown",
   "metadata": {},
   "source": [
    "解：$$\\begin{align} \\varphi_1(t) &=\\begin{bmatrix} &0 \\\\ &1 \\end{bmatrix}+\\int_0^t \\begin{bmatrix} &0&1 \\\\ &-1&0 \\end{bmatrix}\\begin{bmatrix} &0 \\\\ &1 \\end{bmatrix} {\\rm d}s \\\\ &=\\begin{bmatrix} &0 \\\\ &1 \\end{bmatrix}+\\int_0^t \\begin{bmatrix} &1 \\\\ &0 \\end{bmatrix} {\\rm d}s \\\\ &=\\begin{bmatrix} &0 \\\\ &1 \\end{bmatrix}+\\begin{bmatrix} &t \\\\ &0 \\end{bmatrix}=\\begin{bmatrix} &t \\\\ &1 \\end{bmatrix},\\\\ \\varphi_2(t) &=\\begin{bmatrix} &0 \\\\ &1 \\end{bmatrix}+\\int_0^t \\begin{bmatrix} &0&1 \\\\ &-1&0 \\end{bmatrix}\\begin{bmatrix} &t \\\\ &1 \\end{bmatrix} {\\rm d}t \\\\ &=\\begin{bmatrix} &0 \\\\ &1 \\end{bmatrix}+\\int_0^t \\begin{bmatrix} &1 \\\\ &-t \\end{bmatrix} {\\rm d}t \\\\ &=\\begin{bmatrix} &0 \\\\ &1 \\end{bmatrix}+\\begin{bmatrix} &t \\\\ &{-\\frac{1}{2}t^2} \\end{bmatrix}=\\begin{bmatrix} &1 \\\\ &{1-\\frac{1}{2}t^2} \\end{bmatrix}, \\\\  \\varphi_3(t) &=\\begin{bmatrix} &0 \\\\ &1 \\end{bmatrix}+\\int_0^t \\begin{bmatrix} &0&1 \\\\ &-1&0 \\end{bmatrix}\\begin{bmatrix} &s \\\\ &{1-\\frac{1}{2}s^2} \\end{bmatrix} {\\rm d}s \\\\ &=\\begin{bmatrix} &0 \\\\ &1 \\end{bmatrix}+\\int_0^t \\begin{bmatrix} &{1-\\frac{1}{2}s^2} \\\\ &-s \\end{bmatrix} {\\rm d}s \\\\ &=\\begin{bmatrix} &0 \\\\ &1 \\end{bmatrix}+\\begin{bmatrix} &{t-\\frac{1}{6}t^2} \\\\ &{-\\frac{1}{2}t^2} \\end{bmatrix}=\\begin{bmatrix} &{t-\\frac{1}{6}t^3} \\\\ &{1-\\frac{1}{2}t^2} \\end{bmatrix}, \\end{align}$$ \n",
    "满足初值条件$x(0)=\\begin{bmatrix} &0 \\\\ &1 \\end{bmatrix}$的第三次近似解为$$\\varphi_3(t)=\\begin{bmatrix} &{t-\\frac{1}{6}t^3} \\\\ &{1-\\frac{1}{2}t^2}. \\end{bmatrix}$$"
   ]
  }
 ],
 "metadata": {
  "kernelspec": {
   "display_name": "SageMath 7.2",
   "language": "",
   "name": "sagemath"
  },
  "language_info": {
   "codemirror_mode": {
    "name": "ipython",
    "version": 2
   },
   "file_extension": ".py",
   "mimetype": "text/x-python",
   "name": "python",
   "nbconvert_exporter": "python",
   "pygments_lexer": "ipython2",
   "version": "2.7.10"
  }
 },
 "nbformat": 4,
 "nbformat_minor": 0
}
