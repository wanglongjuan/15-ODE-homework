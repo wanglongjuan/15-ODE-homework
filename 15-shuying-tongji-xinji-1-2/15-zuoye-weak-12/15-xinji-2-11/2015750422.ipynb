{
 "cells": [
  {
   "cell_type": "markdown",
   "metadata": {},
   "source": [
    "夏德涛                   第十二周作业   学号：2015750422"
   ]
  },
  {
   "cell_type": "markdown",
   "metadata": {},
   "source": [
    "$（2）xx''-(x')^2+(x')^3=0$\n",
    "\n",
    "$解：方程不显含t，令y=x',则有xy\\frac{dy}{dx}-y^2+y^3=0,$\n",
    "\n",
    "$\\therefore y=0,或者\\frac{dy}{dx}=\\frac{y-y^2}{x}$\n",
    "\n",
    "$积分后得\\frac{y}{1-y}=c_1x(c\\neq 0)即y=\\frac{c_1x}{1+c_1x},\\therefore x'=\\frac{c_1x}{1+c_1x}$\n",
    "\n",
    "$积分后得x+\\frac{1}{c_1} \\ln |x|=t+c_2,即方程有解x+\\frac{1}{c_1} \\ln |x|=t+c_2,当y=0时得x'=0或x=c$\n",
    "\n",
    "$综上，方程的解为x+\\frac{1}{c_1} \\ln |x|=t+c_2或x=c(c_1,c_2,c为任意常数)$"
   ]
  },
  {
   "cell_type": "markdown",
   "metadata": {},
   "source": [
    "$(4)x''+\\sqrt{1-(x')^2}=0$\n",
    "\n",
    "$解：方程不显含t，令y=x',则有y\\frac{dy}{dx}+\\sqrt{1-y^2}=0$\n",
    "\n",
    "$当y \\neq \\pm 1,方程可变形为\\frac{ydy}{\\sqrt{1-y^2}}=-dx,积分得\\sqrt{1-y^2}=x+c,即\\sqrt{1-x'^2}=x+c$\n",
    "\n",
    "$\\therefore x'=\\pm \\sqrt{1-(x+c)^2},二次积分得$\n",
    "\n",
    "$1.当x'=\\sqrt{1-(x+c)^2}时,x=\\sin (t+c_1)+c_2;$\n",
    "\n",
    "$2.当x'=-\\sqrt{1-(x+c)^2}时,x=\\cos (t+c_1)+c_2;$\n",
    "\n",
    "$当y=\\pm 1时，x'=\\pm 1,\\therefore x=\\pm t+c$\n",
    "\n",
    "$\\therefore 原方程的解为x=\\sin (t+c_1)+c_2或x=\\cos (t+c_1)+c_2或x=\\pm t+c,其中c_1,c_2，c为任意常数$"
   ]
  },
  {
   "cell_type": "markdown",
   "metadata": {},
   "source": [
    "$(6)x''-\\frac{1}{t}x'+(x')^2=0$\n",
    "\n",
    "$解：当x' \\pm 0时，方程两边同时除以x'，得\\frac{x\"}{x'}-\\frac{1}{t}+x'=0$\n",
    "\n",
    "$即d(\\ln |x'|- \\ln |t|+x)=0,积分得\\ln |\\frac{x'}{t}|+x=c_1,得x'=t(e^{-x+c}),二次积分得e^x=e^{c_1}(\\frac{t^2}{2})+c_2$\n",
    "\n",
    "$\\therefore e^x=c'_1(t^2+c'_2),当x=0时，即得x=c,$\n",
    "\n",
    "$\\therefore方程的解为e^x=c'_1(t^2+c'_2),或x=c,（c,c'_1,c'_2为任意常数）$"
   ]
  },
  {
   "cell_type": "markdown",
   "metadata": {},
   "source": [
    "$(2)解：方程可化为x\"+\\frac{x}{1-t}=0,\\therefore tp(t)=0,t^2p(t)=\\frac{t^2}{1-t},\\therefore存在幂级数解$\n",
    "\n",
    "$设x=a_0+a_1t+a_2t^2+a_3t^3+ \\ldots +a_nt^n+ \\ldots 是方程的解$\n",
    "\n",
    "$则x'=a_1+2a_2t+3a_3t^2+ \\ldots +na_nt^{n-1}+ \\ldots,x'=2a_2+6a_3t+ \\ldots +n(n-1)a_nt^{n-2}+ \\ldots$\n",
    "\n",
    "$将x、x'、x\"代入原方程，可得$\n",
    "\n",
    "$2a_2+a_0=0,6a_3-2a_2+a_1=0,k(k-1)a_k-(k-1)(k-2)a_{k-1}+a_{k-2}=0,(k>3)$\n",
    "\n",
    "$设x_1(t)和x_2(t)是满足初值条件x_1(0)=0,x'_1(0)=1,x_2(0)=1,x'_2(0)=0的两个解$\n",
    "\n",
    "$对于x_1(t),有a_0=0,a_1=1,可得a_2=0,a_3=\\frac{-1}{1×2×3},a_4=\\frac{-2}{1×2×3×4}，\\ldots,a_n=\\frac{(n-1)(n-2)a_{n-1}-a_{n-2}}{n(n-1)}$\n",
    "\n",
    "$即x_1(t)=t-\\frac{t^3}{3!}-\\frac{2t^4}{4!}-\\frac{5t^5}{5!}- \\ldots$\n",
    "\n",
    "$对于x_2(t),有a_0=1,a_1=0,可得a_2=-\\frac{1}{2},a_3=\\frac{-1}{1×2×3},a_4=\\frac{-1}{1×2×3×4}，\\ldots$\n",
    "$a_n=\\frac{(n-1)(n-2)a_{n-1}-a_{n-2}}{n(n-1)}$\n",
    "\n",
    "$即x_2(t)=1-\\frac{t^2}{2!}-\\frac{t^3}{3!}-\\frac{t^4}{4!}-\\frac{t^5}{5!}- \\ldots$\n",
    "\n",
    "$\\therefore方程的通解为x=c_1x_1(t)+c_2x_2(t)=c_1(t-\\frac{t^3}{3!}-\\frac{2t^4}{4!}-\\frac{5t^5}{5!}- \\ldots)+c_2(1-\\frac{t^2}{2!}-\\frac{t^3}{3!}-\\frac{t^4}{4!}-\\frac{t^5}{5!}- \\ldots)$"
   ]
  },
  {
   "cell_type": "markdown",
   "metadata": {},
   "source": [
    "$(3)\\begin{cases}\n",
    "x''+5y'-7x+6y=e^t\\\\\n",
    "y''=2y+13y'-15x=cost\\\\\n",
    "\\end{cases}$\n",
    "\n",
    "$x(0)=1,x'(0)=0,y(0）=0，y'(0)=1$\n",
    "\n",
    "$解:令w_1=x,w_2=x',w_3=y,w_4=y',则原初值问题可化为$\n",
    "\n",
    "$$\n",
    "\\begin{cases}\n",
    "w_1=x=w_2\\\\\n",
    "w_2'=x\"=-5w_4+7w_1-6w_3+e^t\\\\\n",
    "w_3=y=w_4\\\\\n",
    "w_4'=y\"=2w_3-13w_4+15w_1+ \\cos t\\\\\n",
    "\\end{cases}\n",
    "且\n",
    "\\begin{cases}\n",
    "w_1(0)=x(0)=1\\\\\n",
    "w_2(0)=x'(0)=0\\\\\n",
    "w_3(0)=y(0)=0\\\\\n",
    "w_4(0)=y'(0)=1\\\\\n",
    "\\end{cases}\n",
    "w=\n",
    "\\begin{bmatrix}\n",
    "w_1\\\\\n",
    "w_2\\\\\n",
    "w_3\\\\\n",
    "w_4\\\\\n",
    "\\end{bmatrix}\n",
    "$$\n",
    "\n",
    "$$\n",
    "即\n",
    "w'=\n",
    "\\begin{bmatrix}\n",
    "0&1&0&0\\\\\n",
    "7&0&-6&-5\\\\\n",
    "0&0&0&1\\\\\n",
    "15&0&2&-13\\\\\n",
    "\\end{bmatrix}\n",
    "w+\n",
    "\\begin{bmatrix}\n",
    "0\\\\\n",
    "e^t\\\\\n",
    "0\\\\\n",
    "\\cos t\\\\\n",
    "\\end{bmatrix}\n",
    "w(0)=\n",
    "\\begin{bmatrix}\n",
    "1\\\\\n",
    "0\\\\\n",
    "0\\\\\n",
    "1\\\\\n",
    "\\end{bmatrix}\n",
    "$$"
   ]
  },
  {
   "cell_type": "markdown",
   "metadata": {},
   "source": [
    "-"
   ]
  },
  {
   "cell_type": "code",
   "execution_count": null,
   "metadata": {
    "collapsed": true
   },
   "outputs": [],
   "source": []
  }
 ],
 "metadata": {
  "kernelspec": {
   "display_name": "SageMath 7.3",
   "language": "",
   "name": "sagemath"
  },
  "language_info": {
   "codemirror_mode": {
    "name": "ipython",
    "version": 2
   },
   "file_extension": ".py",
   "mimetype": "text/x-python",
   "name": "python",
   "nbconvert_exporter": "python",
   "pygments_lexer": "ipython2",
   "version": "2.7.10"
  }
 },
 "nbformat": 4,
 "nbformat_minor": 0
}
