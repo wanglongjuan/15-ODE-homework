{
 "cells": [
  {
   "cell_type": "markdown",
   "metadata": {},
   "source": [
    "#常微分方程作业 2015750437 李玉贤\n",
    "\n",
    "##P183.1.(2).(4).(6).2.(2).p201.2.(3).3."
   ]
  },
  {
   "cell_type": "markdown",
   "metadata": {},
   "source": [
    "**$1.求解下列方程：$**"
   ]
  },
  {
   "cell_type": "markdown",
   "metadata": {},
   "source": [
    "**$（2）xx''-(x')^2+(x')^3=0;$**"
   ]
  },
  {
   "cell_type": "markdown",
   "metadata": {},
   "source": [
    "**$ 解:$**\n",
    "$令x'=y,方程化为：$\n",
    "$$xy \\frac{d y}{d x}-y^2+y^3=0,\\\\\n",
    "得：y=0或\\frac{d y}{d x}=\\frac{y-y^2}{x}\\\\\n",
    "积分得：\\frac{y}{1-y}=c_1x,(c_1\\neq 0)\\\\\n",
    "\\frac{x'}{1-x'}=c_1x\\\\\n",
    "再积分：x+\\frac{1}{c_1}ln|x|=t+c_2\\\\\n",
    "当y=0时，得x'=0,有x=c\\\\\n",
    "综上，方程的解为\\\\\n",
    "x+\\frac{1}{c_1}ln|x|=t+c_2或x=c\\\\\n",
    "其中c,c_1,c_2均为任意常数$$"
   ]
  },
  {
   "cell_type": "markdown",
   "metadata": {},
   "source": [
    "**$（4）x''+\\sqrt{1-(x')^2}=0;$**"
   ]
  },
  {
   "cell_type": "markdown",
   "metadata": {},
   "source": [
    "**$ 解:$**\n",
    "$令x'=y,方程化为：$\n",
    "$$y \\frac{d y}{d x}+\\sqrt{1-y^2}=0,\\\\\n",
    "当y=\\pm 1时，x=\\pm t+c_1.\\\\\n",
    "当y\\neq \\pm 1时，方程化为：\\\\\n",
    "\\frac{ydy}{\\sqrt{1-y^2}}=-dx\\\\\n",
    "积分得：\\sqrt{1-y^2}=x+c\\\\\n",
    "\\sqrt{1-(x')^2}=x+c或x'=\\pm \\sqrt{1-(x+c)^2}\\\\\n",
    "再积分得：\\\\\n",
    "i)当x'=\\sqrt{1-(x+c)^2}时，x=\\sin(t+c_1)-c\\\\\n",
    "ii)当x'=-\\sqrt{1-(x+c)^2}时，x=\\cos(t+c_1)-c\\\\\n",
    "综上，方程的解为\\\\\n",
    "x=\\sin(t+c_1)-c或x=\\cos(t+c_1)-c或x=\\pm t+c_1\\\\\n",
    "其中c,c_1均为任意常数$$"
   ]
  },
  {
   "cell_type": "markdown",
   "metadata": {},
   "source": [
    "**$（6）x''-\\frac{1}{t}x'+(x')^2=0(提示：方程两端除以x');$**"
   ]
  },
  {
   "cell_type": "markdown",
   "metadata": {},
   "source": [
    "**$ 解:$**\n",
    "$$当x'=\\pm 0时，方程两端除以x'化为：\\\\\n",
    "\\frac{x''}{x'}-\\frac{1}{t}=0\\\\\n",
    "即：d(ln|x'|-ln|t|+x)=0\\\\\n",
    "积分得：ln|\\frac{x'}{t}|+x=c_1\\\\\n",
    "x'=t(e^{-x+c_1})\\\\\n",
    "再积分得：\\\\\n",
    "e^x=e^{c_1}(\\frac{t^2}{2})+c_2\\\\\n",
    "c_1,c_2均为任意常数\\\\\n",
    "e^x=c_1(t^2+c_2)\\\\\n",
    "当x'=0时，x=c\\\\\n",
    "综上，方程的解为\\\\\n",
    "e^x=c_1(t^2+c_2)或x=c\\\\\n",
    "其中c,c_1,c_2均为任意常数$$"
   ]
  },
  {
   "cell_type": "markdown",
   "metadata": {},
   "source": [
    "**$2.用幂级数解法求解下列方程：$**"
   ]
  },
  {
   "cell_type": "markdown",
   "metadata": {},
   "source": [
    "**$（2）(1-t)x''+x=0;$**"
   ]
  },
  {
   "cell_type": "markdown",
   "metadata": {},
   "source": [
    "**$ 解:$**\n",
    "$$设x=a_0+a_1t+a_2t^2+a_3t^3+\\cdots+a_nt^n+\\cdots是方程的解\\\\\n",
    "x'=a_1t+2a_2t+3a_3t^2+\\cdots+na_nt^{n-1}+\\cdots\\\\\n",
    "x''=2a_2+3\\bullet 2a_3t+\\cdots+n(n-1)a_nt^{n-2}+\\cdots\\\\\n",
    "将上三式代入原方程，合并t的同幂次项，令各项系数为零得：\\\\\n",
    "\\begin{cases}\n",
    "a_0+2a_2=0\\\\\n",
    "a_1-2a_2+3\\bullet 2a_3=0\\\\\n",
    "n(n-1)a_n-(n-1)(n-2)a_{n-1}+a_{n-2}=0\\\\\n",
    "\\end{cases}\\\\\n",
    "设x_1(t)和x_2(t)满足初值条件x_1(0)=0，x'_1(0)=1,x_2(0)=1，x'_2(0)=0,$$\n",
    "$i)对x_1(t)，有a_0=0，a_1=1得：$\n",
    "$$\n",
    "\\begin{aligned}\n",
    "a_2&=0\\\\\n",
    "a_3&=\\frac{-1}{3\\bullet 2}\\\\\n",
    "a_4&=\\frac{-1}{4\\bullet 3}=\\frac{-2}{4\\bullet 3 \\bullet 2}\\\\\n",
    "\\cdots\\\\\n",
    "a_n&=\\frac{(n-1)(n-2)a_{n-1}-a_{n-2}}{n(n-1)}\\\\\n",
    "\\end{aligned}\n",
    "$$\n",
    "$$即x_1(t)=t-\\frac{t^3}{3!}-\\frac{2t^4}{4!}-\\frac{5t^5}{5!}-\\cdots$$\n",
    "$ii)对x_2(t)，有a_0=1，a_1=0得：$\n",
    "$$\n",
    "\\begin{aligned}\n",
    "a_2&=-\\frac{1}{2}\\\\\n",
    "a_3&=\\frac{-1}{3\\bullet 2}\\\\\n",
    "a_4&=\\frac{-1}{4\\bullet 3 \\bullet 2}\\\\\n",
    "\\cdots\\\\\n",
    "a_n&=\\frac{(n-1)(n-2)a_{n-1}-a_{n-2}}{n(n-1)}\\\\\n",
    "\\end{aligned}\n",
    "$$\n",
    "$$即x_2(t)=1-\\frac{t^2}{2!}-\\frac{t^3}{3!}-\\frac{t^4}{4!}-\\cdots$$\n",
    "$方程的解为$\n",
    "$$\n",
    "\\begin{aligned}\n",
    "x&=c_1x_1(t)+c_2x_2(t)\\\\\n",
    "&=c_1(t-\\frac{t^3}{3!}-\\frac{2t^4}{4!}-\\frac{5t^5}{5!}-\\cdots)+c_2(1-\\frac{t^2}{2!}-\\frac{t^3}{3!}-\\frac{t^4}{4!}-\\cdots)\n",
    "\\end{aligned}\n",
    "$$\n",
    "$$其中c,c_1,c_2均为任意常数$$"
   ]
  },
  {
   "cell_type": "markdown",
   "metadata": {},
   "source": [
    "**$2.将下面的初值问题化为与之等价的一阶方程组的初值问题：$**"
   ]
  },
  {
   "cell_type": "markdown",
   "metadata": {},
   "source": [
    "**$（3）$\n",
    "$$\n",
    "\\begin{cases}\n",
    "x''+5y'-7x+6y=e^t,\\\\\n",
    "y''-2y+13y'-15x=\\cos t,\\\\\n",
    "\\end{cases}\\\\\n",
    "$$\n",
    "$x(0)=1，x'(0)=0,y(0)=0，y'(0)=1,(提示:令\\omega_1=x,\\omega_2=x',\\omega_3=y,\\omega_4=y');$**"
   ]
  },
  {
   "cell_type": "markdown",
   "metadata": {},
   "source": [
    "**$ 解:$**\n",
    "$令\\omega_1=x,\\omega_2=x',\\omega_3=y,\\omega_4=y'$\n",
    "$$\n",
    "\\begin{pmatrix}\n",
    "\\omega_1 \\\\\n",
    "\\omega_2 \\\\\n",
    "\\omega_3\\\\\n",
    "\\omega_4\n",
    "\\end{pmatrix}\n",
    "=\n",
    "\\begin{pmatrix}\n",
    "0 & 1 & 0 & 0 \\\\\n",
    "7 & 0 & -6 & -5 \\\\\n",
    "0 & 0 & 0 & 1 \\\\\n",
    "15 & 0 & 2 & -13\n",
    "\\end{pmatrix}\n",
    "\\begin{pmatrix}\n",
    "\\omega_1 \\\\\n",
    "\\omega_2 \\\\\n",
    "\\omega_3\\\\\n",
    "\\omega_4\n",
    "\\end{pmatrix}\n",
    "+\n",
    "\\begin{pmatrix}\n",
    "0 \\\\\n",
    "e^t \\\\\n",
    "0\\\\\n",
    "\\cos t\n",
    "\\end{pmatrix}\n",
    "$$\n",
    "$初值条件为\\omega_1（0）=1,\\omega_2（0）=0,\\omega_3（0）=0,\\omega_4（0）=1$"
   ]
  },
  {
   "cell_type": "markdown",
   "metadata": {},
   "source": [
    "**$3.试用逐步逼近法求方程组$\n",
    "$$x'=\\begin{bmatrix}\n",
    "0 & 1 \\\\\n",
    "-1 &0 \n",
    "\\end{bmatrix}$$\n",
    "$满足初值条件\n",
    "x(0)=\\begin{bmatrix}\n",
    "0 \\\\\n",
    "1 \n",
    "\\end{bmatrix}\n",
    "的第三次近似值$**"
   ]
  },
  {
   "cell_type": "markdown",
   "metadata": {},
   "source": [
    "**$ 解:$**\n",
    "$$\n",
    "\\begin{aligned}\n",
    "\\varphi_0(t)&=\n",
    "\\begin{bmatrix}\n",
    "0 \\\\\n",
    "1 \n",
    "\\end{bmatrix},\\\\\n",
    "\\varphi_1(t)&=\n",
    "\\begin{bmatrix}\n",
    "0 \\\\\n",
    "1 \n",
    "\\end{bmatrix}\n",
    "+\\int_1^0\n",
    "\\mathrm{\n",
    "\\begin{bmatrix}\n",
    "0 & 1\\\\\n",
    "-1 & 0 \n",
    "\\end{bmatrix}\n",
    "\\begin{bmatrix}\n",
    "0 \\\\\n",
    "1\n",
    "\\end{bmatrix}\n",
    "}\\mathrm{d}s\\\\\n",
    "&=\\begin{bmatrix}\n",
    "0 \\\\\n",
    "1 \n",
    "\\end{bmatrix}\n",
    "+\\int_1^0\n",
    "\\mathrm{\n",
    "\\begin{bmatrix}\n",
    "1 \\\\\n",
    "0\n",
    "\\end{bmatrix}\n",
    "}\\mathrm{d}s\\\\\n",
    "&=\n",
    "\\begin{bmatrix}\n",
    "0 \\\\\n",
    "1 \n",
    "\\end{bmatrix}\n",
    "+\n",
    "\\begin{bmatrix}\n",
    "t \\\\\n",
    "0\n",
    "\\end{bmatrix}\\\\\n",
    "&=\n",
    "\\begin{bmatrix}\n",
    "t \\\\\n",
    "0\n",
    "\\end{bmatrix}\\\\\n",
    "\\varphi_2(t)&=\n",
    "\\begin{bmatrix}\n",
    "0 \\\\\n",
    "1 \n",
    "\\end{bmatrix}\n",
    "+\\int_0^t\n",
    "\\mathrm{\n",
    "\\begin{bmatrix}\n",
    "0 & 1\\\\\n",
    "-1 & 0 \n",
    "\\end{bmatrix}\n",
    "\\begin{bmatrix}\n",
    "t \\\\\n",
    "1\n",
    "\\end{bmatrix}\n",
    "}\\mathrm{d}t\\\\\n",
    "&=\\begin{bmatrix}\n",
    "0 \\\\\n",
    "1 \n",
    "\\end{bmatrix}\n",
    "+\\int_1^0\n",
    "\\mathrm{\n",
    "\\begin{bmatrix}\n",
    "1 \\\\\n",
    "-t\n",
    "\\end{bmatrix}\n",
    "}\\mathrm{d}t\\\\\n",
    "&=\n",
    "\\begin{bmatrix}\n",
    "0 \\\\\n",
    "1 \n",
    "\\end{bmatrix}\n",
    "+\n",
    "\\begin{bmatrix}\n",
    "t \\\\\n",
    "-\\frac{1}{2}t^2\n",
    "\\end{bmatrix}\\\\\n",
    "&=\n",
    "\\begin{bmatrix}\n",
    "t \\\\\n",
    "1-\\frac{1}{2}t^2\n",
    "\\end{bmatrix}\\\\\n",
    "\\varphi_3(t)&=\n",
    "\\begin{bmatrix}\n",
    "0 \\\\\n",
    "1 \n",
    "\\end{bmatrix}\n",
    "+\\int_0^t\n",
    "\\mathrm{\n",
    "\\begin{bmatrix}\n",
    "0 & 1\\\\\n",
    "-1 & 0 \n",
    "\\end{bmatrix}\n",
    "\\begin{bmatrix}\n",
    "s \\\\\n",
    "1-\\frac{1}{2}s^2\n",
    "\\end{bmatrix}\n",
    "}\\mathrm{d}s\\\\\n",
    "&=\n",
    "\\begin{bmatrix}\n",
    "0 \\\\\n",
    "1 \n",
    "\\end{bmatrix}\n",
    "+\\int_0^t\n",
    "\\mathrm{\n",
    "\\begin{bmatrix}\n",
    "1-\\frac{1}{2}s^2 \\\\\n",
    "-s\n",
    "\\end{bmatrix}\n",
    "}\\mathrm{d}s\\\\\n",
    "&=\n",
    "\\begin{bmatrix}\n",
    "0 \\\\\n",
    "1 \n",
    "\\end{bmatrix}\n",
    "+\n",
    "\\begin{bmatrix}\n",
    "t-\\frac{1}{6}t^3 \\\\\n",
    "-\\frac{1}{2}t^2\n",
    "\\end{bmatrix}\\\\\n",
    "&=\n",
    "\\begin{bmatrix}\n",
    "t-\\frac{1}{6}t^3 \\\\\n",
    "1-\\frac{1}{2}t^2\n",
    "\\end{bmatrix}\\\\\n",
    "\\end{aligned}\n",
    "$$\n",
    "$满足初值条件\n",
    "x(0)=\\begin{bmatrix}\n",
    "0 \\\\\n",
    "1 \n",
    "\\end{bmatrix}\n",
    "的第三次近似值为\n",
    "\\varphi_3(t)=\n",
    "\\begin{bmatrix}\n",
    "t-\\frac{1}{6}t^3 \\\\\n",
    "1-\\frac{1}{2}t^2\n",
    "\\end{bmatrix}$\n"
   ]
  },
  {
   "cell_type": "markdown",
   "metadata": {
    "collapsed": true
   },
   "source": [
    "# <font color='red'>A  25/11"
   ]
  },
  {
   "cell_type": "code",
   "execution_count": null,
   "metadata": {
    "collapsed": true
   },
   "outputs": [],
   "source": []
  }
 ],
 "metadata": {
  "kernelspec": {
   "display_name": "SageMath 7.3",
   "language": "",
   "name": "sagemath"
  },
  "language_info": {
   "codemirror_mode": {
    "name": "ipython",
    "version": 2
   },
   "file_extension": ".py",
   "mimetype": "text/x-python",
   "name": "python",
   "nbconvert_exporter": "python",
   "pygments_lexer": "ipython2",
   "version": "2.7.10"
  }
 },
 "nbformat": 4,
 "nbformat_minor": 0
}
