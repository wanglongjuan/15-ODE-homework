{
 "cells": [
  {
   "cell_type": "markdown",
   "metadata": {},
   "source": [
    "# 11月15日"
   ]
  },
  {
   "cell_type": "markdown",
   "metadata": {},
   "source": [
    "### 1.求解下列方程："
   ]
  },
  {
   "cell_type": "markdown",
   "metadata": {},
   "source": [
    "### $(2)xx''-(x')^2+(x')^3=0$"
   ]
  },
  {
   "cell_type": "markdown",
   "metadata": {},
   "source": [
    "$令x'=y,则xy\\frac{\\partial y}{\\partial x}-y^2+y^3=0.$"
   ]
  },
  {
   "cell_type": "markdown",
   "metadata": {},
   "source": [
    "$∴y=0或\\frac{\\mathrm d y}{\\mathrm d x}=\\frac{y-y^2}{x}.$"
   ]
  },
  {
   "cell_type": "markdown",
   "metadata": {},
   "source": [
    "$ 积分后得\\frac{y}{1-y}=c_1x,(c_1\\neq0)即\\frac{x'}{1-x'}=c_1x,$"
   ]
  },
  {
   "cell_type": "markdown",
   "metadata": {},
   "source": [
    "$再次积分可得x+\\frac{1}{c_1}\\ln \\mid x\\mid=t+c_2.$"
   ]
  },
  {
   "cell_type": "markdown",
   "metadata": {},
   "source": [
    "$当y=0,x'=0,∴x=c.$"
   ]
  },
  {
   "cell_type": "markdown",
   "metadata": {},
   "source": [
    "$∴原方程的解为x+\\frac{1}{c_1}\\ln \\mid x\\mid=t+c_2或x=c.这里c_1,c_2,c是任意常数.$"
   ]
  },
  {
   "cell_type": "markdown",
   "metadata": {},
   "source": [
    "### $(4)x''+\\sqrt {1-(x')^2} =0$"
   ]
  },
  {
   "cell_type": "markdown",
   "metadata": {},
   "source": [
    "$令x'=y,则y\\frac{\\mathrm d y}{\\mathrm d x}+\\sqrt{1-y^2}=0$"
   ]
  },
  {
   "cell_type": "markdown",
   "metadata": {},
   "source": [
    "$当y=\\pm1,x'=\\pm t+c_1.$"
   ]
  },
  {
   "cell_type": "markdown",
   "metadata": {},
   "source": [
    "$当y\\neq \\pm 1,则\\frac{y\\mathrm d y}{\\sqrt{1-y^2}}=-\\mathrm d x.$"
   ]
  },
  {
   "cell_type": "markdown",
   "metadata": {},
   "source": [
    "$积分后得\\sqrt{1-y^2}=x+c,即\\sqrt{1-x'^2}=x+c或x'=\\pm\\sqrt{1-(x+c)^2}.$"
   ]
  },
  {
   "cell_type": "markdown",
   "metadata": {},
   "source": [
    "$再次积分可得$"
   ]
  },
  {
   "cell_type": "markdown",
   "metadata": {},
   "source": [
    "$\\quad 当x'=+\\sqrt{1-(x+c)^2},x=\\sin(t+c_1)-c,$"
   ]
  },
  {
   "cell_type": "markdown",
   "metadata": {},
   "source": [
    "$\\quad 当x'=-\\sqrt{1-(x+c)^2},x=\\cos(t+c_1)-c,$"
   ]
  },
  {
   "cell_type": "markdown",
   "metadata": {},
   "source": [
    "$∴原方程的解为x=\\sin(t+c_1)-c或x=\\cos(t+c_1)-c,以及x=\\pm t+c_1.这里c_1,c是任意常数.$"
   ]
  },
  {
   "cell_type": "markdown",
   "metadata": {},
   "source": [
    "### $(6)x''-\\frac{1}{t}x'+(x')^2=0(提示：方程两端除以x')$"
   ]
  },
  {
   "cell_type": "markdown",
   "metadata": {},
   "source": [
    "$当x'\\neq0,方程两端同时除以x',可得\\frac{x''}{x'}-\\frac{1}{t}+x'=0,$"
   ]
  },
  {
   "cell_type": "markdown",
   "metadata": {},
   "source": [
    "$即\\mathrm d (\\ln\\mid x'\\mid-\\ln\\mid t\\mid+x)=0.$"
   ]
  },
  {
   "cell_type": "markdown",
   "metadata": {},
   "source": [
    "$积分后得\\ln\\mid\\frac{x'}{t}\\mid+x=c_1.$"
   ]
  },
  {
   "cell_type": "markdown",
   "metadata": {},
   "source": [
    "$可得x'=t(e^{-x+c_1}),$"
   ]
  },
  {
   "cell_type": "markdown",
   "metadata": {},
   "source": [
    "$再次积分可得e^x=e^{c_1}(\\frac{t^2}{2})+c_2.这里c_1,c是任意常数.即e^x=c_1(t^2+c_2）.$"
   ]
  },
  {
   "cell_type": "markdown",
   "metadata": {},
   "source": [
    "$当x'=0,得x=c.$"
   ]
  },
  {
   "cell_type": "markdown",
   "metadata": {},
   "source": [
    "$∴原方程的解为e^x=c_1(t^2+c_2)或x=c.$"
   ]
  },
  {
   "cell_type": "markdown",
   "metadata": {},
   "source": [
    "### 2.用幂级数解法求解下列方程："
   ]
  },
  {
   "cell_type": "markdown",
   "metadata": {},
   "source": [
    "### $(2)(1-t)x''+x=0$"
   ]
  },
  {
   "cell_type": "markdown",
   "metadata": {},
   "source": [
    "$设x=a_0+a_1t+a_2t^2+a_3t^3+…+a_nt^n+…是方程的解，则$"
   ]
  },
  {
   "cell_type": "markdown",
   "metadata": {},
   "source": [
    "$\\quad x'=a_1+2a_2t+3a_3t^2+…+na_nt^{n-1}+…$"
   ]
  },
  {
   "cell_type": "markdown",
   "metadata": {},
   "source": [
    "$\\quad x''=2a_2+3·2a_3t+…+n(n-1)a_nt^{n-2}+…$"
   ]
  },
  {
   "cell_type": "markdown",
   "metadata": {},
   "source": [
    "$把x_1,x',x''代入原方程，合并t的各同次幂的项，并令各项系数等于零，可得$"
   ]
  },
  {
   "cell_type": "markdown",
   "metadata": {},
   "source": [
    "$\\begin{cases}\n",
    "a_0+2a_2=0,\\\\\n",
    "a_1-2a_2+3·2a_3=0,\\\\\n",
    "n(n-1)a_n-(n-1)(n-2)a_{n-1}+a_{n-2}=0.\n",
    "\\end{cases}                                                                                                         \n",
    "\\quad\\quad\\quad\\quad\\quad\\quad\\quad\\quad\\quad\\quad\\quad\\quad\\quad\\quad\\quad\\quad①$"
   ]
  },
  {
   "cell_type": "markdown",
   "metadata": {},
   "source": [
    "$∵本题设有初值条件，∴求得的解为方程通解.$"
   ]
  },
  {
   "cell_type": "markdown",
   "metadata": {},
   "source": [
    "$设x_1(t)和x_2(t)是满足初值条件x_1(0)=0,x'_1(0)=1,x_2(0)=1,x'_2(0)=0的两个解.$"
   ]
  },
  {
   "cell_type": "markdown",
   "metadata": {},
   "source": [
    "$对于x_1(t)，显然有a_0=0,a_1=1,代入①可得$"
   ]
  },
  {
   "cell_type": "markdown",
   "metadata": {},
   "source": [
    "$\\quad a_2=0,a_3=\\frac{-1}{3·2}，a_4=\\frac{-1}{4·3}=\\frac{-2}{4·3·2}，a_5=\\frac{-5}{5·4·3·2}，…$"
   ]
  },
  {
   "cell_type": "markdown",
   "metadata": {},
   "source": [
    "$\\quad a_n=\\frac{(n-1)(n-2)a_{n-1}-a_{n-2}}{n(n-1)},$"
   ]
  },
  {
   "cell_type": "markdown",
   "metadata": {},
   "source": [
    "$即x_1(t)=t-\\frac{t^3}{3!}-\\frac{2t^4}{4!}-\\frac{5t^5}{5!}…$"
   ]
  },
  {
   "cell_type": "markdown",
   "metadata": {},
   "source": [
    "$对于x_2(t)，显然有a_0=1,a_1=0,代入①可得$"
   ]
  },
  {
   "cell_type": "markdown",
   "metadata": {},
   "source": [
    "$\\quad a_2=-\\frac{1}{2},a_3=\\frac{-1}{3·2}，a_4=\\frac{-1}{4·3·2}，…$"
   ]
  },
  {
   "cell_type": "markdown",
   "metadata": {},
   "source": [
    "$\\quad a_n=\\frac{(n-1)(n-2)a_{n-1}-a_{n-2}}{n(n-1)},$"
   ]
  },
  {
   "cell_type": "markdown",
   "metadata": {},
   "source": [
    "$即x_2(t)=1-\\frac{t^2}{2!}-\\frac{t^3}{3!}-\\frac{t^4}{4!}-…$"
   ]
  },
  {
   "cell_type": "markdown",
   "metadata": {},
   "source": [
    "$∴方程的通解为$"
   ]
  },
  {
   "cell_type": "markdown",
   "metadata": {},
   "source": [
    "$\\begin{aligned}\n",
    "\\quad \\quad x&=c_1x_1(t)+c_2x_2(t)\\\\\n",
    "&=c_1(t-\\frac{t^3}{3!}-\\frac{2t^4}{4!}-\\frac{5t^5}{5!}…)+c_2(1-\\frac{t^2}{2!}-\\frac{t^3}{3!}-\\frac{t^4}{4!}-…).\n",
    "\\end{aligned}$"
   ]
  },
  {
   "cell_type": "markdown",
   "metadata": {},
   "source": [
    "# 11月16日"
   ]
  },
  {
   "cell_type": "markdown",
   "metadata": {},
   "source": [
    "### 2.将下面的初值问题化为与之等价的一阶方程组的初值问题："
   ]
  },
  {
   "cell_type": "markdown",
   "metadata": {},
   "source": [
    "### $(3)\\begin{cases}x''+5y'-7x+6y=e^t\\\\y''-2y+13y'-15x=\\cos t \\end{cases}$"
   ]
  },
  {
   "cell_type": "markdown",
   "metadata": {},
   "source": [
    "### $\\quad x(0)=1,x'(0)=0,y(0)=0,y'(0)=1.$"
   ]
  },
  {
   "cell_type": "markdown",
   "metadata": {},
   "source": [
    "### $\\quad (提示：令\\omega_1=x,\\omega_2=x',\\omega_3=y,\\omega_4=y'.)$"
   ]
  },
  {
   "cell_type": "markdown",
   "metadata": {},
   "source": [
    "$令\\omega_1=x,\\omega_2=x',\\omega_3=y,\\omega_4=y'，则原方程组$"
   ]
  },
  {
   "cell_type": "markdown",
   "metadata": {},
   "source": [
    "$\\begin{pmatrix}\n",
    "\\omega_1\\\\\n",
    "\\omega_2\\\\\n",
    "\\omega_3\\\\\n",
    "\\omega_4\n",
    "\\end{pmatrix}\n",
    "=\n",
    "\\begin{pmatrix}\n",
    "0&1&0&0\\\\\n",
    "7&0&-6&-5\\\\\n",
    "0&0&0&1\\\\\n",
    "15&0&2&-13\n",
    "\\end{pmatrix}\n",
    "\\begin{pmatrix}\n",
    "\\omega_1\\\\\n",
    "\\omega_2\\\\\n",
    "\\omega_3\\\\\n",
    "\\omega_4\n",
    "\\end{pmatrix}\n",
    "+\\begin{pmatrix}\n",
    "0\\\\\n",
    "e^t\\\\\n",
    "0\\\\\n",
    "\\cos t\n",
    "\\end{pmatrix}\n",
    "$"
   ]
  },
  {
   "cell_type": "markdown",
   "metadata": {},
   "source": [
    "$初值条件为\\omega_1(0)=1,\\omega_2(0)=0,\\omega_3(0)=0,\\omega_4(0)=1.$"
   ]
  },
  {
   "cell_type": "markdown",
   "metadata": {},
   "source": [
    "### 3.试用逐步逼近法求方程组$ x'=\\begin{bmatrix}\n",
    "0 & 1\\\\\n",
    "-1&0\n",
    "\\end{bmatrix}\n",
    "x$\n",
    "### 满足初值条件$x(0)=\\begin{bmatrix}\n",
    "0\\\\\n",
    "1\n",
    "\\end{bmatrix}$的第三次近似解."
   ]
  },
  {
   "cell_type": "markdown",
   "metadata": {},
   "source": [
    "$\\varphi_0(t)=\\begin{bmatrix}\n",
    "0\\\\\n",
    "1\n",
    "\\end{bmatrix},$"
   ]
  },
  {
   "cell_type": "markdown",
   "metadata": {},
   "source": [
    "$\\begin{aligned}\n",
    "\\varphi_1(t) &=\\begin{bmatrix}\n",
    "0\\\\\n",
    "1\n",
    "\\end{bmatrix}+\\int_1^0\n",
    "\\begin{bmatrix}\n",
    "0&1\\\\\n",
    "-1&0\n",
    "\\end{bmatrix}\n",
    "\\begin{bmatrix}\n",
    "0\\\\\n",
    "1\n",
    "\\end{bmatrix}\n",
    "\\mathrm ds\\\\\n",
    "&=\\begin{bmatrix}\n",
    "0\\\\\n",
    "1\n",
    "\\end{bmatrix}\n",
    "+\\int_0^t\n",
    "\\begin{bmatrix}\n",
    "1\\\\\n",
    "0\n",
    "\\end{bmatrix}\n",
    "\\mathrm d s\\\\\n",
    "&=\\begin{bmatrix}\n",
    "0\\\\\n",
    "1\n",
    "\\end{bmatrix}\n",
    "+\\begin{bmatrix}\n",
    "t\\\\\n",
    "0\n",
    "\\end{bmatrix}\\\\\n",
    "&=\\begin{bmatrix}\n",
    "t\\\\\n",
    "1\n",
    "\\end{bmatrix}\n",
    "\\end{aligned}$"
   ]
  },
  {
   "cell_type": "markdown",
   "metadata": {},
   "source": [
    "$\\begin{aligned}\n",
    "\\varphi_2(t) &=\\begin{bmatrix}\n",
    "0\\\\\n",
    "1\n",
    "\\end{bmatrix}+\\int_0^t\n",
    "\\begin{bmatrix}\n",
    "0&1\\\\\n",
    "-1&0\n",
    "\\end{bmatrix}\n",
    "\\begin{bmatrix}\n",
    "t\\\\\n",
    "1\n",
    "\\end{bmatrix}\n",
    "\\mathrm d t\\\\\n",
    "&=\\begin{bmatrix}\n",
    "0\\\\\n",
    "1\n",
    "\\end{bmatrix}\n",
    "+\\int_0^t\n",
    "\\begin{bmatrix}\n",
    "1\\\\\n",
    "-t\n",
    "\\end{bmatrix}\n",
    "\\mathrm d t\\\\\n",
    "&=\\begin{bmatrix}\n",
    "0\\\\\n",
    "1\n",
    "\\end{bmatrix}\n",
    "+\\begin{bmatrix}\n",
    "t\\\\\n",
    "-\\frac{1}{2}t^2\n",
    "\\end{bmatrix}\\\\\n",
    "&=\\begin{bmatrix}\n",
    "t\\\\\n",
    "1-\\frac{1}{2}t^2\n",
    "\\end{bmatrix}\n",
    "\\end{aligned}$"
   ]
  },
  {
   "cell_type": "markdown",
   "metadata": {},
   "source": [
    "$\\begin{aligned}\n",
    "\\varphi_3(t) &=\\begin{bmatrix}\n",
    "0\\\\\n",
    "1\n",
    "\\end{bmatrix}+\\int_0^t\n",
    "\\begin{bmatrix}\n",
    "0&1\\\\\n",
    "-1&0\n",
    "\\end{bmatrix}\n",
    "\\begin{bmatrix}\n",
    "s\\\\\n",
    "1-\\frac{1}{2}s^2\n",
    "\\end{bmatrix}\n",
    "\\mathrm d s\\\\\n",
    "&=\\begin{bmatrix}\n",
    "0\\\\\n",
    "1\n",
    "\\end{bmatrix}\n",
    "+\\int_0^t\n",
    "\\begin{bmatrix}\n",
    "1-\\frac{1}{2}s^2\\\\\n",
    "-s\n",
    "\\end{bmatrix}\n",
    "\\mathrm d s\\\\\n",
    "&=\\begin{bmatrix}\n",
    "0\\\\\n",
    "1\n",
    "\\end{bmatrix}\n",
    "+\\begin{bmatrix}\n",
    "t-\\frac{1}{6}t^3\\\\\n",
    "-\\frac{1}{2}t^2\n",
    "\\end{bmatrix}\\\\\n",
    "&=\\begin{bmatrix}\n",
    "t-\\frac{1}{6}t^3\\\\\n",
    "1-\\frac{1}{2}t^2\n",
    "\\end{bmatrix}\n",
    "\\end{aligned}$"
   ]
  },
  {
   "cell_type": "markdown",
   "metadata": {},
   "source": [
    "$∴满足初值条件x(0)=\\begin{bmatrix}\n",
    "0\\\\\n",
    "1\n",
    "\\end{bmatrix}的第三次近似解为$"
   ]
  },
  {
   "cell_type": "markdown",
   "metadata": {},
   "source": [
    "$\\varphi_3(t)=\\begin{bmatrix}\n",
    "t-\\frac{1}{6}t^3\\\\\n",
    "1-\\frac{1}{2}t^2\n",
    "\\end{bmatrix}\n",
    "$"
   ]
  },
  {
   "cell_type": "markdown",
   "metadata": {},
   "source": [
    "# <font color='red'>A  25/11"
   ]
  },
  {
   "cell_type": "code",
   "execution_count": null,
   "metadata": {
    "collapsed": true
   },
   "outputs": [],
   "source": []
  }
 ],
 "metadata": {
  "kernelspec": {
   "display_name": "SageMath 7.3",
   "language": "",
   "name": "sagemath"
  },
  "language_info": {
   "codemirror_mode": {
    "name": "ipython",
    "version": 2
   },
   "file_extension": ".py",
   "mimetype": "text/x-python",
   "name": "python",
   "nbconvert_exporter": "python",
   "pygments_lexer": "ipython2",
   "version": "2.7.10"
  }
 },
 "nbformat": 4,
 "nbformat_minor": 0
}
