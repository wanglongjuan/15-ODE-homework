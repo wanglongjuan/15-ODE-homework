{
 "cells": [
  {
   "cell_type": "markdown",
   "metadata": {},
   "source": [
    "**11月15日**"
   ]
  },
  {
   "cell_type": "markdown",
   "metadata": {},
   "source": [
    "**1.求解下列方程：**"
   ]
  },
  {
   "cell_type": "markdown",
   "metadata": {},
   "source": [
    "**（2）.$xx''-(x')^2+(x')^3=0$ **"
   ]
  },
  {
   "cell_type": "markdown",
   "metadata": {},
   "source": [
    "**令：$y=x'$**\n",
    "\n",
    "**则，原式:$\\quad xy\\frac{\\mathrm dy}{\\mathrm dx}-y^2+y^3=0$**"
   ]
  },
  {
   "cell_type": "markdown",
   "metadata": {},
   "source": [
    "**$$y=0\\quad或\\quad\\frac{\\mathrm dy}{\\mathrm dx}=\\frac{\\mathrm y-y^2}{\\mathrm x}$$**"
   ]
  },
  {
   "cell_type": "markdown",
   "metadata": {},
   "source": [
    "**利用伯努利方程得：**\n",
    "\n",
    "$$\n",
    "\\begin{aligned}\n",
    "\\frac{\\mathrm dz}{\\mathrm 1-z}&=ln x+c\\\\\n",
    "\\frac{\\mathrm 1}{\\mathrm 1-z}&=c_1x\\\\\n",
    "\\frac{\\mathrm y}{\\mathrm y-1}&=c_1x\\\\\n",
    "\\end{aligned}\n",
    "$$"
   ]
  },
  {
   "cell_type": "markdown",
   "metadata": {},
   "source": [
    "**即：**$\\frac{\\mathrm x'}{\\mathrm x'-1}=c_1x$\n",
    "\n",
    "$$\n",
    "\\begin{aligned}\n",
    "\\frac{\\mathrm x'}{\\mathrm x'-1}&=c_1x\\\\\n",
    "(1-c_1x)x'&=-c_1 x\\\\\n",
    "x'&=\\frac{\\mathrm c_1x}{\\mathrm c_1x-1}\\\\\n",
    "\\frac{\\mathrm dx}{\\mathrm dt}&=\\frac{\\mathrm c_1x}{\\mathrm c_1x-1}\\\\\n",
    "(1-\\frac{\\mathrm 1}{\\mathrm c_1x})dx&=dt\\\\\n",
    "\\end{aligned}\n",
    "$$"
   ]
  },
  {
   "cell_type": "markdown",
   "metadata": {},
   "source": [
    "**对上式两边求积分：**\n",
    "\n",
    "**得：**$$x-\\frac{\\mathrm 1}{\\mathrm c_1}ln|x|=t+c_2$$"
   ]
  },
  {
   "cell_type": "markdown",
   "metadata": {},
   "source": [
    "**当$y=0$时：**$$x'=0,即 x=c$$"
   ]
  },
  {
   "cell_type": "markdown",
   "metadata": {},
   "source": [
    "**方程的解为：**\n",
    "\n",
    "$$x+\\frac{\\mathrm 1}{\\mathrm c_1}ln|x|=t+c_2,或  x=c$$"
   ]
  },
  {
   "cell_type": "markdown",
   "metadata": {},
   "source": [
    "**(4).$x''+\\sqrt{1-(x')^2}=0$**"
   ]
  },
  {
   "cell_type": "markdown",
   "metadata": {},
   "source": [
    "**令：$y=x'$**"
   ]
  },
  {
   "cell_type": "markdown",
   "metadata": {},
   "source": [
    "**则，原式：$y\\frac{\\mathrm dy}{\\mathrm dx}+\\sqrt{1-y^2}=0$**"
   ]
  },
  {
   "cell_type": "markdown",
   "metadata": {},
   "source": [
    "**当$y=\\pm 1$时：**\n",
    "\n",
    "$$\n",
    "\\begin{aligned}\n",
    "y\\frac{\\mathrm dy}{\\mathrm dx}&=0\\\\\n",
    "x&=\\pm t+c_1\\\\\n",
    "\\end{aligned}\n",
    "$$"
   ]
  },
  {
   "cell_type": "markdown",
   "metadata": {},
   "source": [
    "**当$y\\ne \\pm1$时:**"
   ]
  },
  {
   "cell_type": "markdown",
   "metadata": {},
   "source": [
    "**方程化为：**\n",
    "\n",
    "$$\\frac{y dy}{\\sqrt{1-y^2}}=-dx$$"
   ]
  },
  {
   "cell_type": "markdown",
   "metadata": {},
   "source": [
    "**对方程两边积分：**"
   ]
  },
  {
   "cell_type": "markdown",
   "metadata": {},
   "source": [
    "$$\\sqrt{1-y^2}=x+c$$**即**$$\\sqrt{1-x'^2}=x+c$$"
   ]
  },
  {
   "cell_type": "markdown",
   "metadata": {},
   "source": [
    "$$x'=\\pm \\sqrt{1-(x+c)^2}$$"
   ]
  },
  {
   "cell_type": "markdown",
   "metadata": {},
   "source": [
    "**当$x'=\\sqrt{1-(x+c)^2}$时：**$$x'=\\sin(t+c_1)-c$$"
   ]
  },
  {
   "cell_type": "markdown",
   "metadata": {},
   "source": [
    "**当$x'=-\\sqrt{1-(x+c)^2}$**$$x=\\cos(t+c_1)-c$$"
   ]
  },
  {
   "cell_type": "markdown",
   "metadata": {},
   "source": [
    "**即：原方程的解为:**\n",
    "\n",
    "$$x=\\pm t+c_1；x=\\cos(t+c_1)-c；x=\\sin(t+c_1)-c$$"
   ]
  },
  {
   "cell_type": "markdown",
   "metadata": {},
   "source": [
    "**（6）.$x''-\\frac{\\mathrm 1}{\\mathrm t}x'+(x')^2=0$（提示：方程两端除以$x'$)**"
   ]
  },
  {
   "cell_type": "markdown",
   "metadata": {},
   "source": [
    "**当$x'\\ne 0$时，方程两端除以$x'$得：**"
   ]
  },
  {
   "cell_type": "markdown",
   "metadata": {},
   "source": [
    "$$\\frac{\\mathrm x''}{\\mathrm x'}-\\frac{\\mathrm 1}{\\mathrm t}+x'=0$$\n",
    "\n",
    "**即：**\n",
    "\n",
    "$$d(ln|x'|-ln|t|+x)=0$$"
   ]
  },
  {
   "cell_type": "markdown",
   "metadata": {},
   "source": [
    "**对上式两边同时积分得：**\n",
    "\n",
    "$$\n",
    "\\begin{aligned}\n",
    "ln|\\frac{\\mathrm x'}{\\mathrm t}|+x&=c_1\\\\\n",
    "x'&=t(e^{-x+c_1})\\\\\n",
    "\\end{aligned}\n",
    "$$"
   ]
  },
  {
   "cell_type": "markdown",
   "metadata": {},
   "source": [
    "**再对上式积分：**\n",
    "\n",
    "$$\n",
    "\\begin{aligned}\n",
    "\\frac{\\mathrm dx}{\\mathrm dt}&=t(e^{-x+c_1})\\\\\n",
    "e^{x-c_1}dx&=tdt\\\\\n",
    "e^{x-c_1}&=\\frac{\\mathrm 1}{\\mathrm 2}t^2+c\\\\\n",
    "e^x&=e^{c_1}(\\frac{\\mathrm t^2}{\\mathrm 2})+c·e^{c_1}=e^{c_1}(\\frac{\\mathrm t^2}{\\mathrm 2})+c_2\\\\\n",
    "\\end{aligned}\n",
    "$$"
   ]
  },
  {
   "cell_type": "markdown",
   "metadata": {},
   "source": [
    "**上式还可以简化为：**\n",
    "\n",
    "$$e^x=c_1(t^2+c_2)$$"
   ]
  },
  {
   "cell_type": "markdown",
   "metadata": {},
   "source": [
    "**当$x'=0$时，即得$x=c$，也是方程的解。**\n",
    "\n",
    "**则方程的解为：**\n",
    "\n",
    "$$e^x=c_1(t^2+c_2)或x=c$$"
   ]
  },
  {
   "cell_type": "markdown",
   "metadata": {},
   "source": [
    "**2.用幂级数解法求解下列方程。**"
   ]
  },
  {
   "cell_type": "markdown",
   "metadata": {},
   "source": [
    "**（2）.$(1-t)x''+x=0$**"
   ]
  },
  {
   "cell_type": "markdown",
   "metadata": {},
   "source": [
    "**设$x=a_0+a_1t+a_2t^2+a_3t^3+ \\dots +a_nt^n+ \\dots$是方程的解。**"
   ]
  },
  {
   "cell_type": "markdown",
   "metadata": {},
   "source": [
    "$$\n",
    "\\begin{aligned}\n",
    "x'&=a_1+2a_2t+3a_3t^2+\\dots +nat^{n-1}+\\dots\\\\\n",
    "x''&=2a_2+3·2a_3t+\\dots+n(n-1)a_nt^{n-2}+\\dots\\\\\n",
    "\\end{aligned}\n",
    "$$"
   ]
  },
  {
   "cell_type": "markdown",
   "metadata": {},
   "source": [
    "**代入方程，合并$t$的同次幂的项，使各系数等于$0$**"
   ]
  },
  {
   "cell_type": "markdown",
   "metadata": {},
   "source": [
    "$$\n",
    "\\begin{cases}\n",
    "a_0+2a_2=0\\\\\n",
    "a_1-2a_2+3·2a_3=0\\\\\n",
    "n(n-1)a_n-(n-1)(n-2)a_{n-1}+a_{n-2}=0\\\\\n",
    "\\end{cases}\n",
    "$$"
   ]
  },
  {
   "cell_type": "markdown",
   "metadata": {},
   "source": [
    "**设$x_1(t)$和$x_2(t)$是方程的两个线性无关的解，且$x_1(0)=0,x_1'(0)=1,x_2(0)=1,x_2'(0)=0$**"
   ]
  },
  {
   "cell_type": "markdown",
   "metadata": {},
   "source": [
    "**对$x_1(t)，a_0=0,a_1=1,$代入：**"
   ]
  },
  {
   "cell_type": "markdown",
   "metadata": {},
   "source": [
    "$$a_2=0,a_3=-\\frac{\\mathrm 1}{\\mathrm 3!},a_4=-\\frac{\\mathrm 1}{\\mathrm 4*3}=-\\frac{\\mathrm 2}{\\mathrm 4!},a_5=-\\frac{\\mathrm 5}{\\mathrm 5!},\\dots ,a_n=\\frac{(n-1)(n-2)a_{n-1}-a_{n-2}}{n(n-1)}$$"
   ]
  },
  {
   "cell_type": "markdown",
   "metadata": {},
   "source": [
    "**即：**$x_1(t)=t-\\frac{\\mathrm 1}{\\mathrm 3!}t^3-\\frac{\\mathrm 2}{\\mathrm 4!}t^4-\\frac{\\mathrm 5}{\\mathrm 5!}t^5 \\dots $"
   ]
  },
  {
   "cell_type": "markdown",
   "metadata": {},
   "source": [
    "**对$x_2(t),a_0=1,a_1=0$，代入：**"
   ]
  },
  {
   "cell_type": "markdown",
   "metadata": {},
   "source": [
    "$$a_2=-\\frac{\\mathrm 1}{\\mathrm 2},a_3=-\\frac{\\mathrm 1}{\\mathrm 3!},a_4=-\\frac{\\mathrm 1}{\\mathrm 4!},\\dots,a_n=\\frac{\\mathrm (n-1)(n-2)a_{n-1}-a_{n-2}}{\\mathrm n(n-1)}$$"
   ]
  },
  {
   "cell_type": "markdown",
   "metadata": {},
   "source": [
    "**即：**$x_1(t)=1-\\frac{\\mathrm 1}{\\mathrm 2!}t^2-\\frac{\\mathrm 1}{\\mathrm 3!}t^3-\\frac{\\mathrm 1}{\\mathrm 4!}t^4\\dots $"
   ]
  },
  {
   "cell_type": "markdown",
   "metadata": {},
   "source": [
    "**则方程的通解为：**\n",
    "\n",
    "$$x_1(t)=c_1(t-\\frac{\\mathrm 1}{\\mathrm 3!}t^3-\\frac{\\mathrm 2}{\\mathrm 4!}t^4-\\frac{\\mathrm 5}{\\mathrm 5!}t^5 \\dots)+c_2(1-\\frac{\\mathrm 1}{\\mathrm 2!}t^2-\\frac{\\mathrm 1}{\\mathrm 3!}t^3-\\frac{\\mathrm 1}{\\mathrm 4!}t^4\\dots)$$"
   ]
  },
  {
   "cell_type": "markdown",
   "metadata": {},
   "source": [
    "**11月16日**"
   ]
  },
  {
   "cell_type": "markdown",
   "metadata": {},
   "source": [
    "**2.将下面的初值问题化为与之等价的一阶方程组的初值问题：**"
   ]
  },
  {
   "cell_type": "markdown",
   "metadata": {},
   "source": [
    "**（3）.**\n",
    "$\\begin{cases}x''+5y'-7x+6y=e^t\\\\\n",
    "y''-2y+13y'-15x=\\cos t\\\\\n",
    "\\end{cases}\n",
    "$\n",
    "\n",
    "\n",
    "$x(0)=1,x'(0)=0,y(0)=0,y'(0)=1$\n",
    "\n",
    "\n",
    "**(提示:令$w_1=x,w_2=x',w_3=y,w_4=y'.$)**"
   ]
  },
  {
   "cell_type": "markdown",
   "metadata": {},
   "source": [
    "**令$w_1=x,w_2=x',w_3=y,w_4=y'$，则原方程为：**"
   ]
  },
  {
   "cell_type": "markdown",
   "metadata": {},
   "source": [
    "$$\n",
    "\\left[\n",
    "\\begin{matrix}\n",
    "w_1\\\\\n",
    "w_2\\\\\n",
    "w_3\\\\\n",
    "w_4\\\\\n",
    "\\end{matrix}\n",
    "\\right]\n",
    "=\n",
    "\\left[\n",
    "\\begin{matrix}\n",
    "0&1&0&0\\\\\n",
    "7&0&-6&-5\\\\\n",
    "0&0&0&1\\\\\n",
    "15&0&2&-3\\\\\n",
    "\\end{matrix}\n",
    "\\right]\n",
    "\\left[\n",
    "\\begin{matrix}\n",
    "w_1\\\\\n",
    "w_2\\\\\n",
    "w_3\\\\\n",
    "w_4\\\\\n",
    "\\end{matrix}\n",
    "\\right]\n",
    "+\n",
    "\\left[\n",
    "\\begin{matrix}\n",
    "0\\\\\n",
    "e^t\\\\\n",
    "0\\\\\n",
    "\\cos t\\\\\n",
    "\\end{matrix}\n",
    "\\right]\n",
    "$$\n"
   ]
  },
  {
   "cell_type": "markdown",
   "metadata": {},
   "source": [
    "**初值条件为：$w_1(0)=1,w_2(0)=0,w_3(0)=0,w_4(0)=1;$**"
   ]
  },
  {
   "cell_type": "markdown",
   "metadata": {},
   "source": [
    "**3.试用逐步逼近法求方程组**\n",
    "\n",
    "$$\n",
    "\\mathbf x'=\n",
    "\\left[\n",
    "\\begin{matrix}\n",
    "0&1\\\\\n",
    "-1&0\\\\\n",
    "\\end{matrix}\n",
    "\\right]\n",
    "$$\n",
    "\n",
    "**满足初值条件$\\mathbf x(0)=\n",
    "\\left[\n",
    "\\begin{matrix}\n",
    "0\\\\\n",
    "1\\\\\n",
    "\\end{matrix}\n",
    "\\right]\n",
    "$\n",
    "的第三次近似解。**"
   ]
  },
  {
   "cell_type": "markdown",
   "metadata": {},
   "source": [
    "$$\n",
    "\\mathbf \\varphi_0(t)=\n",
    "\\begin{bmatrix}\n",
    "0\\\\\n",
    "1\\\\\n",
    "\\end{bmatrix}\n",
    "$$"
   ]
  },
  {
   "cell_type": "markdown",
   "metadata": {},
   "source": [
    "$$\n",
    "\\mathbf \\varphi_1(t)=\n",
    "\\begin{bmatrix}\n",
    "0\\\\\n",
    "1\\\\\n",
    "\\end{bmatrix}\n",
    "+\\int_{0}^{t}\\left(\n",
    "\\begin{bmatrix}\n",
    "0&1\\\\\n",
    "-1&0\\\\\n",
    "\\end{bmatrix}\n",
    "\\begin{bmatrix}0\\\\1\\\\\\end{bmatrix}\n",
    "\\right){\\mathrm d t}\n",
    "=\n",
    "\\begin{bmatrix}\n",
    "0\\\\\n",
    "1\\\\\n",
    "\\end{bmatrix}\n",
    "+\n",
    "\\begin{bmatrix}\n",
    "0\\\\\n",
    "t\\\\\n",
    "\\end{bmatrix}=\n",
    "\\begin{bmatrix}\n",
    "t\\\\\n",
    "1\\\\\n",
    "\\end{bmatrix}\n",
    "$$"
   ]
  },
  {
   "cell_type": "markdown",
   "metadata": {},
   "source": [
    "$$\n",
    "\\mathbf \\varphi_2(t)=\n",
    "\\begin{bmatrix}\n",
    "0\\\\\n",
    "1\\\\\n",
    "\\end{bmatrix}\n",
    "+\\int_{0}^{t}\\left(\n",
    "\\begin{bmatrix}\n",
    "0&1\\\\\n",
    "-1&0\\\\\n",
    "\\end{bmatrix}\n",
    "\\begin{bmatrix}\n",
    "t\\\\\n",
    "1\\\\\n",
    "\\end{bmatrix}\n",
    "\\right){\\mathrm d t}\n",
    "=\n",
    "\\begin{bmatrix}0\\\\1\\\\\\end{bmatrix}+\n",
    "\\int_0^t\\begin{bmatrix}\n",
    "1\\\\\n",
    "-t\\\\\n",
    "\\end{bmatrix}{\\mathrm d t}=\n",
    "\\begin{bmatrix}0\\\\1\\\\\\end{bmatrix}+\n",
    "\\begin{bmatrix}\n",
    "t\\\\\n",
    "-\\frac{1}{2}t^2\\\\\n",
    "\\end{bmatrix}=\n",
    "\\begin{bmatrix}\n",
    "t\\\\\n",
    "1-\\frac{1}{2}t^2\\\\\\\n",
    "\\end{bmatrix}\n",
    "$$"
   ]
  },
  {
   "cell_type": "markdown",
   "metadata": {
    "collapsed": true
   },
   "source": [
    "$$\n",
    "\\mathbf \\varphi_3(t)=\n",
    "\\begin{bmatrix}\n",
    "0\\\\\n",
    "1\\\\\n",
    "\\end{bmatrix}\n",
    "+\\int_{0}^{t}\\left(\n",
    "\\begin{bmatrix}\n",
    "0&1\\\\\n",
    "-1&0\\\\\n",
    "\\end{bmatrix}\n",
    "\\begin{bmatrix}\n",
    "t\\\\\n",
    "1-\\frac{1}{2}t^2\\\\\n",
    "\\end{bmatrix}\n",
    "\\right){\\mathrm d t}\n",
    "=\n",
    "\\begin{bmatrix}0\\\\1\\\\\\end{bmatrix}+\n",
    "\\int_0^t\\begin{bmatrix}\n",
    "1-\\frac{1}{2}t^2\\\\\n",
    "-t\\\\\n",
    "\\end{bmatrix}{\\mathrm d t}=\n",
    "\\begin{bmatrix}\n",
    "0\\\\\n",
    "1\\\\\n",
    "\\end{bmatrix}\n",
    "+\n",
    "\\begin{bmatrix}\n",
    "t-\\frac{1}{6}t^3\\\\\n",
    "-\\frac{1}{2}t^2\\\\\n",
    "\\end{bmatrix}=\n",
    "\\begin{bmatrix}\n",
    "t-\\frac{1}{6}t^3\\\\\n",
    "1-\\frac{1}{2}t^2\\\\\n",
    "\\end{bmatrix}\n",
    "$$"
   ]
  },
  {
   "cell_type": "markdown",
   "metadata": {},
   "source": [
    "**则满足初值条件$\\mathbf x(0)=\n",
    "\\left[\n",
    "\\begin{matrix}\n",
    "0\\\\\n",
    "1\\\\\n",
    "\\end{matrix}\n",
    "\\right]\n",
    "$\n",
    "的第三次近似解是：**"
   ]
  },
  {
   "cell_type": "markdown",
   "metadata": {},
   "source": [
    "\\begin{bmatrix}\n",
    "t-\\frac{1}{6}t^3\\\\\n",
    "1-\\frac{1}{2}t^2\\\\\n",
    "\\end{bmatrix}"
   ]
  },
  {
   "cell_type": "markdown",
   "metadata": {
    "collapsed": true
   },
   "source": [
    "# <font color='red'>A  25/11"
   ]
  },
  {
   "cell_type": "code",
   "execution_count": null,
   "metadata": {
    "collapsed": true
   },
   "outputs": [],
   "source": []
  }
 ],
 "metadata": {
  "kernelspec": {
   "display_name": "SageMath 7.3",
   "language": "",
   "name": "sagemath"
  },
  "language_info": {
   "codemirror_mode": {
    "name": "ipython",
    "version": 2
   },
   "file_extension": ".py",
   "mimetype": "text/x-python",
   "name": "python",
   "nbconvert_exporter": "python",
   "pygments_lexer": "ipython2",
   "version": "2.7.10"
  }
 },
 "nbformat": 4,
 "nbformat_minor": 0
}
