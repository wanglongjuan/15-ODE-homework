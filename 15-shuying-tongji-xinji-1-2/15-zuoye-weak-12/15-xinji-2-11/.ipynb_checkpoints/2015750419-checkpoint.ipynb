{
 "cells": [
  {
   "cell_type": "markdown",
   "metadata": {},
   "source": [
    "$1(2).设y=x',则x''=y\\frac{dy}{dx}原方程为xy\\frac{dy}{dx}-y^2+y^3=0,解得y=0或y=\\frac{x}{1+x}即x'=\\frac{x}{1+x}所以方程的解为x=c或x=t-c_1\\ln|x|+c_2$"
   ]
  },
  {
   "cell_type": "markdown",
   "metadata": {
    "collapsed": true
   },
   "source": [
    "$(4).令y=x'则x''=y\\frac{dy}{dx},原方程为(y\\frac{dy}{dx})^2+y^2-1=0,解得y^2+y'^2=1,y=1、-1或y=cos(t+c1)+c2或y=sin(t+c3)+c4则方程的解为x=t+c或x=t-c或y=cos(t+c3)+c4或y=sin(t+c1)+c2$"
   ]
  },
  {
   "cell_type": "markdown",
   "metadata": {},
   "source": [
    "$(6)原式=x''-\\frac{x'}{t}+(x')^2=0 等式两边同时除以x'得\\frac{x''}{x'}+x'=\\frac{1}{t}则有\\frac{d(x+\\ln|x'|+x)}{dt}=\\frac{1}{t}积分得到e^xx'=ct再积分得e^x=c_1t^2+c_2另有解x'=0则方程的解为e^x=c_1t^2+c_2$"
   ]
  },
  {
   "cell_type": "markdown",
   "metadata": {},
   "source": [
    "$2.(2)原方程可以化为x''+\\frac{x}{1-t}=0,则P=\\frac{1}{1-t}其收敛区间为t不等于1，其小于R，所以设x=a_0+a_1t+a_2t^2+……+a_nt^n代入得c_1(1-\\frac{1}{2!}t^2-\\frac{t^3}{3!}+……)+c_2(t-\\frac{t^3}{3!}-\\frac{2}{4!}t^4……)$"
   ]
  },
  {
   "cell_type": "markdown",
   "metadata": {},
   "source": [
    "$2(3)设w_1=x,w_2=x',w_3=y,w_4=y'因为x''=7x-6y-5y'+e^t,y''=15x+2y-13y'+\\cos t,所以w_1'=x'=w_2,w_2'=x''=7w_1-6w_3-5w_4+e^t,w_3'=y'=w_4,w_4'=y''=15w_1+2w_3-13w_4+\\cos t。则\\begin{bmatrix}w_1'\\\\w_2'\\\\w_3'\\\\w_4'\\\\ \\end{bmatrix}=\\begin{bmatrix}0&1&0&0\\\\7&0&-6& -5\\\\0&0&0&1\\\\15&0&2&-13\\\\ \\end{bmatrix} \\begin{bmatrix}w_1\\\\w_2\\\\w_3\\\\w_4\\\\\\end{bmatrix}+\\begin{bmatrix}0\\\\e^t\\\\0\\\\\\cos t \\end{bmatrix}，设w'=\\begin{bmatrix}w_1'\\\\w_2'\\\\w_3'\\\\w_4'\\\\ \\end{bmatrix}，w= \\begin{bmatrix}w_1\\\\w_2\\\\w_3\\\\w_4\\\\\\end{bmatrix}即w'=\\begin{bmatrix}0&1&0&0\\\\7&0&-6&-5\\\\0&0&0&1\\\\15&0&2&-13\\\\ \\end{bmatrix} w+\\begin{bmatrix}0\\\\e^t\\\\0\\\\\\cos t \\end{bmatrix} $"
   ]
  },
  {
   "cell_type": "markdown",
   "metadata": {},
   "source": [
    "$设y(t)为方程的解 取y_0(t)=x(0)=\\begin{bmatrix}0\\\\1\\end{bmatrix}所以方程的第一次近似解为y_1=y_0+\\int{0}^{t}A(s)y_0(s)ds=\\begin{bmatrix}0\\\\1\\end{bmatrix}+\\int{0}^{t}\\begin{bmatrix}0&1\\\\-1&0\\end{bmatrix}\\begin{bmatrix}0\\\\1\\end{bmatrix}ds=\\begin{bmatrix}t\\\\1\\end{bmatrix}第二次近似解为y_2=y_0+\\int{0}^{t}A(s)y_1(s)ds=\\begin{bmatrix}0\\\\1\\end{bmatrix}+\\int{0}^{t}\\begin{bmatrix}0&1\\\\-1&0\\end{bmatrix}\\begin{bmatrix}s\\\\1\\end{bmatrix}ds=\\begin{bmatrix}t\\\\1-\\frac{t^2}{2}\\end{bmatrix}第三次近似解为y_3=y_0+\\int{0}^{t}A(s)y_2(s)ds=\\begin{bmatrix}0\\\\1\\end{bmatrix}+\\int{0}^{t}\\begin{bmatrix}0&1\\\\-1&0\\end{bmatrix}\\begin{bmatrix}s\\\\1-\\frac{s^2}{2}\\end{bmatrix}ds=\\begin{bmatrix}t-\\frac{t^3}{3!}\\\\1-\\frac{t^2}{2!}\\end{bmatrix}$"
   ]
  },
  {
   "cell_type": "markdown",
   "metadata": {
    "collapsed": true
   },
   "source": [
    "# <font color='red'>A  25/11"
   ]
  },
  {
   "cell_type": "code",
   "execution_count": null,
   "metadata": {
    "collapsed": true
   },
   "outputs": [],
   "source": []
  }
 ],
 "metadata": {
  "kernelspec": {
   "display_name": "SageMath 7.3",
   "language": "",
   "name": "sagemath"
  },
  "language_info": {
   "codemirror_mode": {
    "name": "ipython",
    "version": 2
   },
   "file_extension": ".py",
   "mimetype": "text/x-python",
   "name": "python",
   "nbconvert_exporter": "python",
   "pygments_lexer": "ipython2",
   "version": "2.7.10"
  }
 },
 "nbformat": 4,
 "nbformat_minor": 0
}
