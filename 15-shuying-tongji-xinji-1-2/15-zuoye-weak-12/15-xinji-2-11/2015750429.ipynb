{
 "cells": [
  {
   "cell_type": "markdown",
   "metadata": {
    "collapsed": true
   },
   "source": [
    "1.求解下列方程。"
   ]
  },
  {
   "cell_type": "markdown",
   "metadata": {},
   "source": [
    "（2）$xx\"-（x'）^2+(x')^3=0$"
   ]
  },
  {
   "cell_type": "markdown",
   "metadata": {},
   "source": [
    "(4)$x''+\\sqrt{1-(x')^2}=0$"
   ]
  },
  {
   "cell_type": "markdown",
   "metadata": {},
   "source": [
    "(6)$x''-\\frac{\\mathrm 1}{\\mathrm t}x'+(x')^2=0$"
   ]
  },
  {
   "cell_type": "markdown",
   "metadata": {},
   "source": [
    "解：\n",
    "（2）令$x'=y$,则方程化为：$xy\\frac{\\mathrm dy}{\\mathrm dx}-y^2+y^3=0$\n",
    "得到$y=0  \\quad或者\\frac{\\mathrm dy}{\\mathrm dx}=\\frac{\\mathrm y-y^2}{\\mathrm x}$\n"
   ]
  },
  {
   "cell_type": "markdown",
   "metadata": {},
   "source": [
    "积分后得：$\\frac{\\mathrm y}{\\mathrm 1-y}=c_{1}x \\quad (c_{1}≠0）$\n",
    "\n",
    "即$\\frac{\\mathrm x'}{\\mathrm 1-x'}=c_{1}x$"
   ]
  },
  {
   "cell_type": "markdown",
   "metadata": {},
   "source": [
    "再次积分得：$x+\\frac{\\mathrm 1}{\\mathrm c_{1}}ln|x|=t+c_{2}$\n",
    "\n",
    "当y=0时，得$x'=0$故$x=c$\n",
    " "
   ]
  },
  {
   "cell_type": "markdown",
   "metadata": {},
   "source": [
    "即方程的解为：$  x+\\frac{\\mathrm 1}{\\mathrm c_{1}}ln|x|=t+c_{2}$$或者$$x=c \\quad （c_{1},c_{2},c为任意常数。）$"
   ]
  },
  {
   "cell_type": "markdown",
   "metadata": {},
   "source": [
    "（4）令$x'=y$则方程为：\n",
    "$y\\frac{\\mathrm dy}{\\mathrm dx}+\\sqrt{1-y^2}=0$\n",
    "\n",
    "当$y=+_{\\substack{-}}1$时，即$x'=+_{-}1$,\n",
    "\n",
    "则$x=+_{\\substack{-}}t+c_{1}$"
   ]
  },
  {
   "cell_type": "markdown",
   "metadata": {},
   "source": [
    "当$y≠+_{\\substack{-}}1$时，方程又可以变形为$\\frac{\\mathrm ydy}{\\sqrt{1-y^2}}=-dx$\n",
    "\n",
    "积分后得$\\sqrt{1-y^2}=x+c$\n",
    "\n",
    "即$\\sqrt{1-x'^2}=x+c$"
   ]
  },
  {
   "cell_type": "markdown",
   "metadata": {},
   "source": [
    "再次积分得：\n",
    "\n",
    "①当$x'=+\\sqrt{1+(x+c)^2}$时，$x=sin(t+c_{1})-c$\n",
    "\n",
    "②当$x'=-\\sqrt{1+(x+c)^2}$时，$x=cos(t+c_{1})-c$\n"
   ]
  },
  {
   "cell_type": "markdown",
   "metadata": {},
   "source": [
    "综上所述得解为：$x=sin(t+c_{1})-c$\n",
    "         $或者 \\quad x=cos(t+c_{1})-c$\n",
    "         $以及 \\quad x=+_{\\substack{-}}t+c_{1} \\quad（ c_{1},c为任意常数。）$"
   ]
  },
  {
   "cell_type": "markdown",
   "metadata": {},
   "source": [
    "（6）当$x'≠0$时，方程两边同除以$x'$,则得到$\\frac{\\mathrm x\"}{\\mathrm x'}-\\frac{\\mathrm 1}{\\mathrm t}+x'=0$\n",
    "                                即$d(ln|x'|-ln|t|+x)=0$"
   ]
  },
  {
   "cell_type": "markdown",
   "metadata": {},
   "source": [
    "积分得：$ln|\\frac{\\mathrm x'}{\\mathrm t}|+x=c_{1}$\n",
    "求得$x'$为：$x'=t(e^{-x+c_{1}})$\n",
    "再次积分可得：$e^{x}=e^{c_{1}}(\\frac{\\mathrm t^2}{\\mathrm 2}+c_{2}) \\quad （c_{1},c_{2}为任意常数。）$"
   ]
  },
  {
   "cell_type": "markdown",
   "metadata": {},
   "source": [
    "当$x'=0$时，即得$x=c$,显然它也是原方程的解。\n",
    "               \n",
    "综上所述，方程的解为：$e^{x}=e^{c_{1}}(\\frac{\\mathrm t^2}{\\mathrm 2}+c_{2}) \\quad x=c$"
   ]
  },
  {
   "cell_type": "markdown",
   "metadata": {},
   "source": [
    "2.用幂级数解法求解下列方程：\n"
   ]
  },
  {
   "cell_type": "markdown",
   "metadata": {},
   "source": [
    "（2）$(1-t)x''+x=0$"
   ]
  },
  {
   "cell_type": "markdown",
   "metadata": {},
   "source": [
    "解：假设：$x=a_{0}+a_{1}t+a_{2}t^2+a_{3}t^3+....+a_{n}t^n+....$是方程的解。\n",
    "\n",
    "则：$x=a_{1}+2a_{2}t+3a_{3}t^2+4a_{4}t^3+....+na_{n}t^{n-1}+....$\n",
    "\n",
    "$x''=2a_{2}+6a_{3}t+....+n(n-1)a_{n}t^{n-2}+....$"
   ]
  },
  {
   "cell_type": "markdown",
   "metadata": {},
   "source": [
    "将上式带入原方程得：$a_{0}+2a_{2}=0$\n",
    "\n",
    "$a_{1}-2a_{2}+6a_{3}=0                         \\quad   ............ ①$\n",
    "\n",
    "$n(n-1)a_{n}-(n-1)(n-2)a_{n-1}+a_{n-2}=0$\n",
    "\n",
    "设$x_{1}(t)$和$x_{2}(t)$是满足初值条件$x_{1}(0)=0,x'_{1}(0)=1,x_{2}(0)=1,x'_{2}(0)=0$的两个解。\n"
   ]
  },
  {
   "cell_type": "markdown",
   "metadata": {},
   "source": [
    "对于$x_{1}(t)$,显然有$a_{0}=0,a_{1}=1$,代入①式，可得\n",
    "\n",
    "$a_{2}=0,a_{3}=\\frac{\\mathrm -1}{\\mathrm 3 \\bullet 2},a_{4}=\\frac{\\mathrm -1}{\\mathrm 4 \\bullet 3}=\\frac{\\mathrm -2}{\\mathrm 4 \\bullet 3 \\bullet 2}$\n",
    "\n",
    "$a_{5}=\\frac{\\mathrm -5}{\\mathrm 5\\bullet4\\bullet3\\bullet2}$\n",
    "\n",
    "$............$\n"
   ]
  },
  {
   "cell_type": "markdown",
   "metadata": {},
   "source": [
    "$a_{n}=\\frac{\\mathrm (n-1)(n-2)a_{n-1}-a_{n-2}}{\\mathrm n(n-1)}$\n",
    "即$x_{1}(t)=t-\\frac{\\mathrm t^3}{\\mathrm 3!}-\\frac{\\mathrm 2}{\\mathrm 4!}t^4-\\frac{\\mathrm 5}{\\mathrm 5!}t^5......$\n",
    "\n",
    "对于$x_{2}(t)$,显然有$a_{0}=1,a_{1}=0$,代入①式，可得\n",
    "\n",
    "$a_{2}=\\frac{\\mathrm -1}{\\mathrm 2},a_{3}=\\frac{\\mathrm -1}{\\mathrm 3\\bullet2},\n",
    "a_{4}=\\frac{\\mathrm -1}{\\mathrm 4\\bullet3\\bullet2}$\n",
    "\n",
    "$............$"
   ]
  },
  {
   "cell_type": "markdown",
   "metadata": {},
   "source": [
    "$a_{n}=\\frac{\\mathrm (n-1)(n-2)a_{n-1}-a_{n-2}}{\\mathrm n(n-1)}$\n",
    "\n",
    "即$x_{2}(t)=1-\\frac{\\mathrm 1}{\\mathrm 2!}t^2-\\frac{\\mathrm 1}{\\mathrm 3!}t^3-\\frac{\\mathrm 1}{\\mathrm 4!}t^4......$\n"
   ]
  },
  {
   "cell_type": "markdown",
   "metadata": {},
   "source": [
    "所以方程的通解为：\n",
    "\n",
    "$x=c_{1}x_{1}(t)+c_{2}x_{2}(t)=$\n",
    "\n",
    "$c_{1}(t-\\frac{\\mathrm t^3}{\\mathrm 3!}-\\frac{\\mathrm 2}{\\mathrm 4!}t^4-\\frac{\\mathrm 5}{\\mathrm 5!}t^5...)$\n",
    "\n",
    "$+c_{2}(1-\\frac{\\mathrm 1}{\\mathrm 2!}t^2-\\frac{\\mathrm 1}{\\mathrm 3!}t^3-\\frac{\\mathrm 1}{\\mathrm 4!}t^4...)$"
   ]
  },
  {
   "cell_type": "markdown",
   "metadata": {},
   "source": [
    "2.将初值问题化为与之等价的一阶方程组的初值问题。\n"
   ]
  },
  {
   "cell_type": "markdown",
   "metadata": {},
   "source": [
    "（3）$x\"+5y'-7x+6y=e^t$\n",
    "\n",
    "$y''-2y+13y'-15x=cost$\n",
    "\n",
    "$x(0)=1,x'(0)=0,y(0)=0,y'(0)=1$"
   ]
  },
  {
   "cell_type": "markdown",
   "metadata": {},
   "source": [
    "解：令$ω_{1}=x,ω_{2}=x',ω_{3}=y,ω_{4}=y'$\n",
    "\n",
    "则化为方程组\n",
    "$$\n",
    "\\begin{bmatrix}\n",
    "ω_{1}\\\\\n",
    "ω_{2}\\\\\n",
    "ω_{3}\\\\\n",
    "ω_{4}\\\\\n",
    "\\end{bmatrix}\n",
    "=\n",
    "\\begin{bmatrix}\n",
    "0&1&0&0\\\\\n",
    "7&0&-6&-5\\\\\n",
    "0&0&0&1\\\\\n",
    "15&0&2&-13\\\\\n",
    "\\end{bmatrix}\n",
    "\\begin{bmatrix}\n",
    "ω_{1}\\\\\n",
    "ω_{2}\\\\\n",
    "ω_{3}\\\\\n",
    "ω_{4}\\\\\n",
    "\\end{bmatrix}\n",
    "+\n",
    "\\begin{bmatrix}\n",
    "0\\\\\n",
    "e^t\\\\\n",
    "0\\\\\n",
    "cost\\\\\n",
    "\\end{bmatrix}\n",
    "$$"
   ]
  },
  {
   "cell_type": "markdown",
   "metadata": {},
   "source": [
    "初值为：$$ω_{1}(0)=1,ω_{2}(0)=0,ω_{3}(0)=0,ω_{4}(0)=1$$"
   ]
  },
  {
   "cell_type": "markdown",
   "metadata": {},
   "source": [
    "3.试用逐步逼近法求方程组\n",
    "$$x'=\n",
    "\\begin{bmatrix}\n",
    "0&1\\\\\n",
    "-1&0\\\\\n",
    "\\end{bmatrix}\n",
    "x$$\n",
    "\n",
    "满足初值条件\n",
    "\n",
    "$$x（0）=\n",
    "\\begin{bmatrix}\n",
    "0\\\\\n",
    "1\\\\\n",
    "\\end{bmatrix}\n",
    "$$\n",
    "\n",
    "的第三次近似解。"
   ]
  },
  {
   "cell_type": "markdown",
   "metadata": {},
   "source": [
    "解：\n",
    "$$φ_{0}(t)=\n",
    "\\begin{bmatrix}\n",
    "0\\\\\n",
    "1\\\\\n",
    "\\end{bmatrix}\n",
    "$$\n",
    "\n",
    "$$φ_{1}(t)=\n",
    "\\begin{bmatrix}\n",
    "0\\\\\n",
    "1\\\\\n",
    "\\end{bmatrix}\n",
    "+\n",
    "\\int_0^t \n",
    "\\begin{bmatrix}\n",
    "0&1\\\\\n",
    "-1&0\\\\\n",
    "\\end{bmatrix}\n",
    "\\begin{bmatrix}\n",
    "0\\\\\n",
    "1\\\\\n",
    "\\end{bmatrix}\n",
    "\\mathrm ds\n",
    "$$\n"
   ]
  },
  {
   "cell_type": "markdown",
   "metadata": {},
   "source": [
    "$$\n",
    "=\n",
    "\\begin{bmatrix}\n",
    "0\\\\\n",
    "1\\\\\n",
    "\\end{bmatrix}\n",
    "+\n",
    "\\int_0^t\n",
    "\\begin{bmatrix}\n",
    "1\\\\\n",
    "0\\\\\n",
    "\\end{bmatrix}\n",
    "\\mathrm ds\n",
    "$$\n",
    "\n",
    "$$\n",
    "=\n",
    "\\begin{bmatrix}\n",
    "0\\\\\n",
    "1\\\\\n",
    "\\end{bmatrix}\n",
    "+\n",
    "\\begin{bmatrix}\n",
    "t\\\\\n",
    "0\\\\\n",
    "\\end{bmatrix}\n",
    "=\n",
    "\\begin{bmatrix}\n",
    "t\\\\\n",
    "1\\\\\n",
    "\\end{bmatrix}\n",
    "$$"
   ]
  },
  {
   "cell_type": "markdown",
   "metadata": {},
   "source": [
    "$$φ_{2}(t)=\n",
    "\\begin{bmatrix}\n",
    "0\\\\\n",
    "1\\\\\n",
    "\\end{bmatrix}\n",
    "+\n",
    "\\int_0^t \n",
    "\\begin{bmatrix}\n",
    "0&1\\\\\n",
    "-1&0\\\\\n",
    "\\end{bmatrix}\n",
    "\\begin{bmatrix}\n",
    "t\\\\\n",
    "1\\\\\n",
    "\\end{bmatrix}\n",
    "\\mathrm dt\n",
    "$$"
   ]
  },
  {
   "cell_type": "markdown",
   "metadata": {},
   "source": [
    "$$\n",
    "=\n",
    "\\begin{bmatrix}\n",
    "0\\\\\n",
    "1\\\\\n",
    "\\end{bmatrix}\n",
    "+\n",
    "\\int_0^t\n",
    "\\begin{bmatrix}\n",
    "1\\\\\n",
    "-t\\\\\n",
    "\\end{bmatrix}\n",
    "\\mathrm dt\n",
    "$$"
   ]
  },
  {
   "cell_type": "markdown",
   "metadata": {},
   "source": [
    "$$\n",
    "=\n",
    "\\begin{bmatrix}\n",
    "0\\\\\n",
    "1\\\\\n",
    "\\end{bmatrix}\n",
    "+\n",
    "\\begin{bmatrix}\n",
    "t\\\\\n",
    "-\\frac{\\mathrm 1}{\\mathrm 2}t^2\\\\\n",
    "\\end{bmatrix}\n",
    "=\n",
    "\\begin{bmatrix}\n",
    "t\\\\\n",
    "1-\\frac{\\mathrm 1}{\\mathrm 2}t^2\\\\\n",
    "\\end{bmatrix}\n",
    "$$"
   ]
  },
  {
   "cell_type": "markdown",
   "metadata": {},
   "source": [
    "$$φ_{3}(t)=\n",
    "\\begin{bmatrix}\n",
    "0\\\\\n",
    "1\\\\\n",
    "\\end{bmatrix}\n",
    "+\n",
    "\\int_0^t \n",
    "\\begin{bmatrix}\n",
    "0&1\\\\\n",
    "-1&0\\\\\n",
    "\\end{bmatrix}\n",
    "\\begin{bmatrix}\n",
    "s\\\\\n",
    "1-\\frac{\\mathrm 1}{\\mathrm 2}s^2\\\\\n",
    "\\end{bmatrix}\n",
    "\\mathrm ds\n",
    "$$\n",
    "\n"
   ]
  },
  {
   "cell_type": "markdown",
   "metadata": {},
   "source": [
    "$$\n",
    "=\n",
    "\\begin{bmatrix}\n",
    "0\\\\\n",
    "1\\\\\n",
    "\\end{bmatrix}\n",
    "+\n",
    "\\int_0^t\n",
    "\\begin{bmatrix}\n",
    "1-\\frac{\\mathrm 1}{\\mathrm 2}s^2\\\\\n",
    "-s\\\\\n",
    "\\end{bmatrix}\n",
    "\\mathrm ds\n",
    "$$\n"
   ]
  },
  {
   "cell_type": "markdown",
   "metadata": {},
   "source": [
    "$$\n",
    "=\n",
    "\\begin{bmatrix}\n",
    "0\\\\\n",
    "1\\\\\n",
    "\\end{bmatrix}\n",
    "+\n",
    "\\begin{bmatrix}\n",
    "t-\\frac{\\mathrm 1}{\\mathrm 6}t^3\\\\\n",
    "-\\frac{\\mathrm 1}{\\mathrm 2}t^2\\\\\n",
    "\\end{bmatrix}\n",
    "=\n",
    "\\begin{bmatrix}\n",
    "t-\\frac{\\mathrm 1}{\\mathrm 6}t^3\\\\\n",
    "1-\\frac{\\mathrm 1}{\\mathrm 2}t^2\\\\\n",
    "\\end{bmatrix}\n",
    "$$"
   ]
  },
  {
   "cell_type": "markdown",
   "metadata": {},
   "source": [
    "所以满足初值条件\n",
    "$x(0)=\n",
    "\\begin{bmatrix}\n",
    "0\\\\\n",
    "1\\\\\n",
    "\\end{bmatrix}\n",
    "$\n",
    "的第三次近似解为：\n",
    "\n",
    "$$φ_{3}(t)=\n",
    "\\begin{bmatrix}\n",
    "t-\\frac{\\mathrm 1}{\\mathrm 6}t^3\\\\\n",
    "1-\\frac{\\mathrm 1}{\\mathrm 2}t^2\\\\\n",
    "\\end{bmatrix}\n",
    "$$"
   ]
  },
  {
   "cell_type": "code",
   "execution_count": null,
   "metadata": {
    "collapsed": true
   },
   "outputs": [],
   "source": []
  }
 ],
 "metadata": {
  "kernelspec": {
   "display_name": "SageMath 7.2",
   "language": "",
   "name": "sagemath"
  },
  "language_info": {
   "codemirror_mode": {
    "name": "ipython",
    "version": 2
   },
   "file_extension": ".py",
   "mimetype": "text/x-python",
   "name": "python",
   "nbconvert_exporter": "python",
   "pygments_lexer": "ipython2",
   "version": "2.7.10"
  }
 },
 "nbformat": 4,
 "nbformat_minor": 0
}
