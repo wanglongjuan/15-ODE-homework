{
 "cells": [
  {
   "cell_type": "markdown",
   "metadata": {},
   "source": [
    "# 常微分作业"
   ]
  },
  {
   "cell_type": "markdown",
   "metadata": {},
   "source": [
    "## （11月15号）"
   ]
  },
  {
   "cell_type": "markdown",
   "metadata": {},
   "source": [
    "### P182.1.求解下列方程："
   ]
  },
  {
   "cell_type": "markdown",
   "metadata": {},
   "source": [
    "(2)  $xx''-(x')^2+(x')^3=0;$"
   ]
  },
  {
   "cell_type": "markdown",
   "metadata": {},
   "source": [
    "解：令$x'=y,$则方程可化为\n",
    "\n",
    "$$xy\\frac{\\mathrm d y}{\\mathrm d x}-y^2+y^3=0,$$\n",
    "\n",
    "得到\n",
    "\n",
    "$$y=0或者\\frac{\\mathrm d y}{\\mathrm d x}=\\frac{y-y^2}{x},$$\n",
    "\n",
    "积分得$$\\frac{y}{1-y}=c_1x,(c_1\\neq0)$$\n",
    "\n",
    "即$$\\frac{x'}{1-x'}=c_1x,$$\n",
    "\n",
    "再次积分得到\n",
    "\n",
    "$$x+\\frac{1}{c_1}ln|x|=t+c_2.$$\n",
    "\n",
    "当$y=0$时，得$x'=0,故x=c.$\n",
    "\n",
    "综上，方程的解为\n",
    "\n",
    "$$x+\\frac{1}{c_1}ln|x|=t+c_2或x=c.$$\n",
    "\n",
    "这里$c_1,c_2,c_3$是任意常数。"
   ]
  },
  {
   "cell_type": "markdown",
   "metadata": {},
   "source": [
    "(4)  $x''+\\sqrt{1-(x')^2}=0$;"
   ]
  },
  {
   "cell_type": "markdown",
   "metadata": {},
   "source": [
    "解：令$x'=y,$则方程可化为\n",
    "\n",
    "$$y\\frac{\\mathrm d y}{\\mathrm d x}+\\sqrt{1-(y)^2}=0,$$\n",
    "\n",
    "当$y=\\pm 1$时，即$x=\\pm t+c_1$.\n",
    "\n",
    "当$y\\neq\\pm 1$时，方程可化为\n",
    "$$\\frac{y\\mathrm d y}{\\sqrt{1-y^2}}=-\\mathrm d x,$$\n",
    "\n",
    "积分得$$\\sqrt{1-y^2}=x+c$$\n",
    "\n",
    "即$$\\sqrt{1-{x'}^2}=x+c,或者x'=\\pm \\sqrt{1-(x+c)^2}$$\n",
    "\n",
    "再次积分得到\n",
    "\n",
    "当$x'= +\\sqrt{1-(x+c)^2}时，x=\\sin (t+c_1)-c;$\n",
    "\n",
    "当$x'= -\\sqrt{1-(x+c)^2}时，x=\\cos (t+c_1)-c;$\n",
    "\n",
    "综上，方程的解为\n",
    "\n",
    "$$x=\\sin (t+c_1)-c或x=\\cos (t+c_1)-c以及x=\\pm t+c_1.$$\n",
    "\n",
    "这里$c_1,c$是任意常数。"
   ]
  },
  {
   "cell_type": "markdown",
   "metadata": {},
   "source": [
    "(6)  $x''-\\frac{1}{t}x'+(x')^2=0;$  (提示：方程两端除以 $x'$)"
   ]
  },
  {
   "cell_type": "markdown",
   "metadata": {},
   "source": [
    "解：\n",
    "当 $x'=0$ 时，即得 $x=c$，它也是方程的解。\n",
    "\n",
    "当 $x'\\neq0$ 时,方程两边同除以 $x'$，则得\n",
    "\n",
    "$$\\frac{x''}{x'}-\\frac{1}{t}+x'=0,$$\n",
    "\n",
    "两边积分可得\n",
    "\n",
    "$$ln|\\frac{x'}{t}|+x=c_1,$$\n",
    "\n",
    "解出$$x'=t(e^{-x+c_1}),$$\n",
    "\n",
    "积分得\n",
    "\n",
    "$$e^x=e^{c_1}(\\frac{t^2}{2})+c_2.$$\n",
    "\n",
    "也可以写成\n",
    "\n",
    "$$e^x=c_1(t^2+c_2)$$\n",
    "\n",
    "综上所述，方程的解为\n",
    "\n",
    "$$e^x=c_1(t^2+c_2)或x=c.$$"
   ]
  },
  {
   "cell_type": "markdown",
   "metadata": {},
   "source": [
    "### P183.2.用幂级数解法求解下列方程："
   ]
  },
  {
   "cell_type": "markdown",
   "metadata": {},
   "source": [
    "(2) $(1+t)x''+x=0;$"
   ]
  },
  {
   "cell_type": "markdown",
   "metadata": {},
   "source": [
    "解：设$x=a_0+a_1t+a_2t^2+a_3t^3+\\cdots+a_nt^n+\\cdots.$是方程的解.则\n",
    "\n",
    "$x'=a_1+2a_2t+3a_3t^2+\\cdots+na_nt^{n-1}+\\cdots$\n",
    "\n",
    "$x''=2a_2+3·2a_3t+\\cdots+n·(n-1)a_nt^{n-2}+\\cdots$\n",
    "\n",
    "把$x,x',x''$的表达式代入方程，合并$t$的各同次幂项，并令各项系数等于零，得到\n",
    "\n",
    "\\begin{cases}\n",
    "a_0+2a_2=0,\\\\\n",
    "a_1+2a_2+3·2a_3=0,\\\\\n",
    "\\vdots\\\\\n",
    "n(n-1)a_n+(n-1)(n-2)a_{n-1}+a_{n-2}=0.\\\\\n",
    "\\vdots\n",
    "\\end{cases}\n",
    "\n",
    "由于没有初值条件，所以求出通解，现找两个线性无关的解。\n",
    "\n",
    "设$x_1(t),x_2(t)是满足初值条件x_1(0)=0,x_1'(0)=1,x_2(0)=1,x_2'(0)=0$的两个解。\n",
    "\n",
    "解得\n",
    "\n",
    "$x_1(t)=t-\\frac{t^3}{3!}-\\frac{2t^4}{4!}-\\frac{5t^5}{5!}\\cdots$\n",
    "\n",
    "$x_2(t)=1-\\frac{t^2}{2!}-\\frac{t^3}{3!}-\\frac{t^4}{4!}\\cdots$\n",
    "\n",
    "故方程的通解为\n",
    "\\begin{aligned}\n",
    "x&=c_1x_1(t)+c_2x_2(t)\\\\\n",
    "&=c_1(t-\\frac{t^3}{3!}-\\frac{2t^4}{4!}-\\frac{5t^5}{5!}\\cdots)+c_2(1-\\frac{t^2}{2!}-\\frac{t^3}{3!}-\\frac{t^4}{4!}\\cdots).\n",
    "\\end{aligned}"
   ]
  },
  {
   "cell_type": "markdown",
   "metadata": {},
   "source": [
    "## (11月16号)"
   ]
  },
  {
   "cell_type": "markdown",
   "metadata": {},
   "source": [
    "### P201.2.将下面的初值问题化为与之等价的一阶方程组的初值问题："
   ]
  },
  {
   "cell_type": "markdown",
   "metadata": {},
   "source": [
    "(3)\n",
    "\\begin{cases}\n",
    "x''+5y'-7x+6y=e^t\\\\\n",
    "y''-2y+13y'-15x=\\cos t\n",
    "\\end{cases}\n",
    "\n",
    "$$x(0)=1,x'(0)=0,y(0)=0,y'(0)=1.$$\n",
    "(提示：令 $w_1=x,w_2=x',w_3=y,w_4=y'.$)"
   ]
  },
  {
   "cell_type": "markdown",
   "metadata": {},
   "source": [
    "解：令 $w_1=x,w_2=x',w_3=y,w_4=y'$方程组可化为\n",
    "$$\n",
    "\\begin{pmatrix}\n",
    "w_1\\\\\n",
    "w_2\\\\\n",
    "w_3\\\\\n",
    "w_4\n",
    "\\end{pmatrix}=\n",
    "\\begin{pmatrix}\n",
    "0&1&0&0\\\\\n",
    "7&0&-6&-5\\\\\n",
    "0&0&0&1\\\\\n",
    "15&0&2&-13\n",
    "\\end{pmatrix}\n",
    "\\begin{pmatrix}\n",
    "w_1\\\\\n",
    "w_2\\\\\n",
    "w_3\\\\\n",
    "w_4\n",
    "\\end{pmatrix}+\n",
    "\\begin{pmatrix}\n",
    "0\\\\\n",
    "e^t\\\\\n",
    "0\\\\\n",
    "\\cos t\n",
    "\\end{pmatrix}\n",
    "$$\n",
    "初值条件为$$w_1(0)=1,w_2(0)=0,w_3(0)=0,w_4(0)=1.$$"
   ]
  },
  {
   "cell_type": "markdown",
   "metadata": {},
   "source": [
    "### P201.3.试用逐步逼近法求方程组$$\\mathbf{x'}=\\begin{bmatrix} 0&1\\\\-1&0\\end{bmatrix}\\mathbf{x}$$满足初值条件$$\\mathbf x(0)=\\begin{bmatrix}0\\\\1\\end{bmatrix}$$的第三次近似解。"
   ]
  },
  {
   "cell_type": "markdown",
   "metadata": {},
   "source": [
    "解：$$\\mathbf \\varphi_0(t)=\\begin{bmatrix}0\\\\1\\end{bmatrix},$$\n",
    "$$\\begin{aligned}\\mathbf \\varphi_1(t)&=\\begin{bmatrix}0\\\\1\\end{bmatrix}+\\int_1^0\\begin{bmatrix}0&1\\\\-1&0\\end{bmatrix}\\begin{bmatrix}0\\\\1\\end{bmatrix}\\mathrm ds\\\\&=\\begin{bmatrix}0\\\\1\\end{bmatrix}+\\int_0^t\\begin{bmatrix}1\\\\0\\end{bmatrix}\\mathrm ds\\\\&=\\begin{bmatrix}0\\\\1\\end{bmatrix}+\\begin{bmatrix}t\\\\0\\end{bmatrix}\\\\&=\\begin{bmatrix}t\\\\1\\end{bmatrix}\\end{aligned}$$\n",
    "$$\\begin{aligned}\\mathbf \\varphi_2(t)&=\\begin{bmatrix}0\\\\1\\end{bmatrix}+\\int_0^t\\begin{bmatrix}0&1\\\\-1&0\\end{bmatrix}\\begin{bmatrix}t\\\\1\\end{bmatrix}\\mathrm dt\\\\&=\\begin{bmatrix}0\\\\1\\end{bmatrix}+\\int_0^t\\begin{bmatrix}1\\\\-t\\end{bmatrix}\\mathrm dt\\\\&=\\begin{bmatrix}0\\\\1\\end{bmatrix}+\\begin{bmatrix}t\\\\-\\frac{t^2}{2}\\end{bmatrix}\\\\&=\\begin{bmatrix}t\\\\1-\\frac{t^2}{2}\\end{bmatrix}\\end{aligned}$$\n",
    "$$\\begin{aligned}\\mathbf \\varphi_3(t)&=\\begin{bmatrix}0\\\\1\\end{bmatrix}+\\int_0^t\\begin{bmatrix}0&1\\\\-1&0\\end{bmatrix}\\begin{bmatrix}s\\\\1-\\frac{s^2}{2}\\end{bmatrix}\\mathrm ds\\\\&=\\begin{bmatrix}0\\\\1\\end{bmatrix}+\\int_0^t\\begin{bmatrix}1-\\frac{s^2}{2}\\\\-s\\end{bmatrix}\\mathrm ds\\\\&=\\begin{bmatrix}0\\\\1\\end{bmatrix}+\\begin{bmatrix}t-\\frac{t^3}{6}\\\\-\\frac{t^2}{2}\\end{bmatrix}\\\\&=\\begin{bmatrix}t-\\frac{t^3}{6}\\\\1-\\frac{t^2}{2}\\end{bmatrix}\\end{aligned}$$\n",
    "\n",
    "所以满足初值条件 $\\mathbf x_0(t)=\\begin{bmatrix}0\\\\1\\end{bmatrix}$ 的第三次近似解为\n",
    "$$\\begin{aligned}\\mathbf \\varphi_3(t)=\\begin{bmatrix}t-\\frac{t^3}{6}\\\\1-\\frac{t^2}{2}\\end{bmatrix}\\end{aligned}$$"
   ]
  }
 ],
 "metadata": {
  "kernelspec": {
   "display_name": "SageMath 7.3",
   "language": "",
   "name": "sagemath"
  },
  "language_info": {
   "codemirror_mode": {
    "name": "ipython",
    "version": 2
   },
   "file_extension": ".py",
   "mimetype": "text/x-python",
   "name": "python",
   "nbconvert_exporter": "python",
   "pygments_lexer": "ipython2",
   "version": "2.7.10"
  }
 },
 "nbformat": 4,
 "nbformat_minor": 0
}
