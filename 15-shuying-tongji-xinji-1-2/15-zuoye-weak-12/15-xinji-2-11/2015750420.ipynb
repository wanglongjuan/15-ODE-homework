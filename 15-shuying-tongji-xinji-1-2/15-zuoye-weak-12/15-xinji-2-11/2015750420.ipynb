{
 "cells": [
  {
   "cell_type": "markdown",
   "metadata": {},
   "source": [
    "常微分第十二次作业\n",
    " \n",
    "2015750420"
   ]
  },
  {
   "cell_type": "markdown",
   "metadata": {},
   "source": [
    "$1.(2)方程不显含t,令y=x',则方程变形得:xy\\frac{dy}{dx}-y^2+y^3=0,得到y=0,\\frac{dy}{dx}=\\frac{y-y^2}{x}$\n",
    "\n",
    "$积分后得\\frac{y}{1-y}=\\hat{c}x (\\hat{c}\\not=0)$\n",
    "\n",
    "$即y=\\frac{\\hat{c}x}{1+\\hat{c}x},从而x'=\\frac{\\hat{c}x}{1+\\hat{c}x},$\n",
    "\n",
    "$积分得x+\\frac{1}{\\hat{c}}ln|x|=t+c_2$\n",
    "\n",
    "$即方程有解x+c_1ln|x|=t+c_2$\n",
    "\n",
    "$当y=0时得x'=0,故x=c$\n",
    "\n",
    "$综上，方程的解为x+c_1ln|x|=t+c_2或x=c,其中c_1,c_2,c是任意常数$"
   ]
  },
  {
   "cell_type": "markdown",
   "metadata": {},
   "source": [
    "$(4)方程不显含t,令y=x',则方程变形得:y\\frac{dy}{dx}+\\sqrt{1-y^2}=0$\n",
    "\n",
    "$当y\\not=1时,方程又可变形为\\frac{ydy}{\\sqrt{1-y^2}}=-dx$\n",
    "\n",
    "$积分后得\\sqrt{1-y^2}=x+c,$\n",
    "\n",
    "$即\\sqrt{1-x'^2}=x+c,故x'=\\pm\\sqrt{1-(x+c)^2},再次积分得$\n",
    "\n",
    "$i:当x'=\\sqrt{1-(x+c)^2}时，x=sin(t+c_1)+c_2$\n",
    "\n",
    "$ii:当x'=-\\sqrt{1-(x+c)^2}时,x=cos(t+c_1)+c_2$\n",
    "\n",
    "$当y=\\pm1时,x'=\\pm1,从而x=\\pm t+c$\n",
    "\n",
    "$综上所述，原方程的解为x=sin(t+c_1)+c_2或x=cos(t+c_1)+c_2,以及x=\\pm t+c,$\n",
    "\n",
    "$其中c_1,c_2,c为任意常数$"
   ]
  },
  {
   "cell_type": "markdown",
   "metadata": {},
   "source": [
    "$(6)当x'\\not=0时，方程两边同除以x'得\\frac{x''}{x'}-\\frac{1}{t}+x'=0$\n",
    "\n",
    "$即d(ln|x'|-ln|t|+x)=0$\n",
    "\n",
    "$积分得ln|\\frac{x'}{t}|+x=c_1$\n",
    "\n",
    "$解出x',则有x'=t(e^{-x+c_1}),再次积分可得e^x=e^{c_1}(\\frac{t^2}{2})+c_2$\n",
    "\n",
    "$由于c_1,c_2为任意常数，所以可以写为e^x=c'_1(t^2+c'_2)$\n",
    "\n",
    "$当x'=0时,既得x=c，显然它也是原方程的解$\n",
    "\n",
    "$综上，方程的解为e^x=c'_1(t^2+c'_2)或x=c$"
   ]
  },
  {
   "cell_type": "markdown",
   "metadata": {},
   "source": [
    "$2,方程可化为x''+\\frac{x}{1-t}=0，因tp(t)=0,t^2q(t)=\\frac{t^2}{1-t},故存在幂级数解$\n",
    "\n",
    "$设x=a_0+a_1t+a_2t^2+\\cdots+a_nt^n+\\cdots$\n",
    "\n",
    "$x'=a_1+2a_2t+3a_3t^2+\\cdots+na_nt^{n-1}+\\cdots$\n",
    "\n",
    "$x''=2a_2+3a_3+4a_4+\\cdots+n(n-1)a_nt^{n-2}+\\cdots$\n",
    "\n",
    "$将x,x',x''的表达式代入原方程，比较同次幂级数可得$\n",
    "\n",
    "$2a_2+a_0=0,3\\cdot2a_1-2a_2+a_1=0$\n",
    "\n",
    "$k(k-1)a_k-(k-1)(k-2)a_{k-1}+a_{k-2}=0,k>3;i$\n",
    "\n",
    "$设x_1(t)和x_2(t)是满足初值条件x_1(0)=0,x_2(0)=1,x'_2(0)=0的两个解$\n",
    "\n",
    "$对于x_1(t),显然有a_0=0,a_1=1,代入i式可得$\n",
    "\n",
    "$a_2=0,a_3=\\frac{-1}{1\\cdot2\\cdot3},a_4=\\frac{-1}{3\\cdot4}=\\frac{-2}{1\\cdot2\\cdot3\\cdot4},a_5=\\frac{-5}{1\\cdot2\\cdot3\\cdot4\\cdot5},\\cdots,a_n=\\frac{(n-1)(n-2)a_{n-1}-a_{n-2}}{n(n-1)}$\n",
    "\n",
    "$也就是x_1(t)=t-\\frac{t^3}{3!}-\\frac{2}{4!}t^4-\\frac{5}{5!}t^5-\\cdots$\n",
    "\n",
    "$同上，x_2(t)=1-\\frac{1}{2!}t^2-\\frac{1}{3!}t^3-\\frac{1}{4!}t^4-\\cdots$\n",
    "    \n",
    "$所以方程的通解为x=c_1x_1(t)+c_2x_2(t)=c_1(t-\\frac{t^3}{3!}-\\frac{2}{4!}t^4-\\frac{5}{5!}t^5-\\cdots)+c_2(1-\\frac{1}{2!}t^2-\\frac{1}{3!}t^3-\\frac{1}{4!}t^4-\\cdots)$    "
   ]
  },
  {
   "cell_type": "markdown",
   "metadata": {},
   "source": [
    "$2.(3)令w_1=x,w_2=x',w_3=y,w_4=y',则原初值问题可化为：$\n",
    "\n",
    "$\\begin{cases}\n",
    "w'_1=x'=w_2\\\\\n",
    "w'_2=x''=-5w_4+7w_1-6w_3+e^t\\\\\n",
    "w'_3=y'=w_4\\\\\n",
    "w'_4=2w_3-13w_4+15w_1+cost\\\\\n",
    "\\end{cases}$\n",
    "\n",
    "$且\\begin{cases}\n",
    "w_1(0)=x(0)=1\\\\\n",
    "w_2(0)=x'(0)=0\\\\\n",
    "w_3(0)=y(0)=0\\\\\n",
    "w_4(0)=y'(0)=1\\\\\n",
    "\\end{cases}$\n",
    "\n",
    "$即\\bf{w'}\n",
    "=\\begin{bmatrix}\n",
    "0&1&0&0\\\\\n",
    "7&0&-6&-5\\\\\n",
    "0&0&0&1\\\\\n",
    "15&0&2&-13\\\\\n",
    "\\end{bmatrix}\\bf{w}\n",
    "+\\begin{bmatrix}\n",
    "0\\\\\n",
    "e^t\\\\\n",
    "0\\\\\n",
    "cost\\\\\n",
    "\\end{bmatrix},\\bf{w}(0)=\\begin{bmatrix}\n",
    "1\\\\\n",
    "0\\\\\n",
    "0\\\\\n",
    "1\\\\\n",
    "\\end{bmatrix}$\n",
    "\n",
    "$其中\\bf{w}=\\begin{bmatrix}\n",
    "w_1\\\\\n",
    "w_2\\\\\n",
    "w_3\\\\\n",
    "w_4\\\\\n",
    "\\end{bmatrix}$"
   ]
  },
  {
   "cell_type": "markdown",
   "metadata": {},
   "source": [
    "$3.\\psi_0(t)=\\begin{bmatrix}0\\\\1\\\\ \\end{bmatrix};$\n",
    "\n",
    "$ \\psi_1(t)=\\begin{bmatrix}o\\\\1\\\\ \\end{bmatrix}+\\int_0^t\\begin{bmatrix}0&1\\\\-1&0\\\\ \\end{bmatrix}\\begin{bmatrix}0\\\\1\\\\ \\end{bmatrix}ds=\\begin{bmatrix}0\\\\1\\\\ \\end{bmatrix}+\\begin{bmatrix}t\\\\0\\\\ \\end{bmatrix}=\\begin{bmatrix}t\\\\1\\\\ \\end{bmatrix}$\n",
    "\n",
    "$ \\psi_2(t)=\\begin{bmatrix}o\\\\1\\\\ \\end{bmatrix}+\\int_0^t\\begin{bmatrix}0&1\\\\-1&0\\\\ \\end{bmatrix}\\begin{bmatrix}s\\\\1\\\\ \\end{bmatrix}ds=\\begin{bmatrix}0\\\\1\\\\ \\end{bmatrix}+\\begin{bmatrix}t\\\\-\\frac{t^2}{2}\\\\ \\end{bmatrix}=\\begin{bmatrix}t\\\\1-\\frac{t^2}{2} \\end{bmatrix}$\n",
    "\n",
    "$\\psi_3(t)=\\begin{bmatrix}o\\\\1\\\\ \\end{bmatrix}+\\int_0^t\\begin{bmatrix}0&1\\\\-1&0\\\\ \\end{bmatrix}\\begin{bmatrix}s\\\\1-\\frac{s^2}{2}\\\\ \\end{bmatrix}ds=\\begin{bmatrix}0\\\\1\\\\ \\end{bmatrix}+\\begin{bmatrix}t-\\frac{t^3}{6}\\\\-frac{t^2}{2} \\end{bmatrix}=\\begin{bmatrix}t-\\frac{t^3}{6}\\\\\n",
    "1-\\frac{t^2}{2}\\end{bmatrix}$"
   ]
  },
  {
   "cell_type": "markdown",
   "metadata": {},
   "source": [
    "$所以，满足初值条件x(0)=\\begin{bmatrix}0\\\\1\\\\\n",
    "\\end{bmatrix}的第三次近似解为\\psi_3(t)=\\begin{bmatrix}t-\\frac{t^3}{6}\\\\\n",
    "1-\\frac{t^2}{2}\\end{bmatrix}$"
   ]
  },
  {
   "cell_type": "code",
   "execution_count": null,
   "metadata": {
    "collapsed": true
   },
   "outputs": [],
   "source": []
  }
 ],
 "metadata": {
  "kernelspec": {
   "display_name": "SageMath 7.3",
   "language": "",
   "name": "sagemath"
  },
  "language_info": {
   "codemirror_mode": {
    "name": "ipython",
    "version": 2
   },
   "file_extension": ".py",
   "mimetype": "text/x-python",
   "name": "python",
   "nbconvert_exporter": "python",
   "pygments_lexer": "ipython2",
   "version": "2.7.10"
  }
 },
 "nbformat": 4,
 "nbformat_minor": 0
}
