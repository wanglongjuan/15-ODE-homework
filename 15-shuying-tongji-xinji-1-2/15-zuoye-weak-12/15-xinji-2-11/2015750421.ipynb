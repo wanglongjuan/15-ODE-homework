{
 "cells": [
  {
   "cell_type": "markdown",
   "metadata": {},
   "source": [
    "P183.1.(2).令 $ x^{\\prime} = y $, 直接计算可得 $ {x^{\\prime}}^{\\prime} = y \\frac{\\mathrm dy}{\\mathrm dx} $ ,于是原方程化为\n",
    "\n",
    "$$\n",
    "xy \\frac{\\mathrm dy}{\\mathrm dx} - y^2 +y^3 = 0\n",
    "$$,得到 $ y=0$ ,或\n",
    "\n",
    "$$\n",
    "\\frac{\\mathrm dy}{y - y^2} = \\frac{\\mathrm dx}{x}\n",
    "$$，积分后得 \n",
    "\n",
    "$$\n",
    "\\frac{y}{1-y} = c_1x\n",
    "$$,\n",
    "即 $ \\frac{x^{\\prime}}{1 -x^{\\prime}} = c_1x $ 所以得到， $ x + c_1ln|x| = t +c_2 $ 或 $ x=c$ 为方程的通解，$ c,c_1,c_2 $为任意常数"
   ]
  },
  {
   "cell_type": "markdown",
   "metadata": {},
   "source": [
    "(4).令 $ x^{\\prime} = y $, 直接计算可得 $ {x^{\\prime}}^{\\prime} = y \\frac{\\mathrm dy}{\\mathrm dx} $ ,于是原方程化为\n",
    "\n",
    "$$\n",
    "y \\frac{\\mathrm dy}{\\mathrm dx} + \\sqrt {1 -y^2} = 0\n",
    "$$\n",
    "\n",
    "$$\n",
    "-y \\frac{\\mathrm dy}{\\sqrt {1 -y^2}} = \\mathrm dx\n",
    "$$,\n",
    "当 $ y \\neq \\pm1$ ,积分得到， $ \\sqrt {1 -y^2} = x +c $ , 即 $ \\sqrt {1 -(x^{\\prime})^2} = x + c $\n",
    "\n",
    "$$\n",
    "x^{\\prime} = \\pm \\sqrt{1-(x +c)}\n",
    "$$,"
   ]
  },
  {
   "cell_type": "markdown",
   "metadata": {},
   "source": [
    "① $ x^{\\prime} = \\sqrt{1-(x +c)} $ , $ \\frac{dx}{\\sqrt{1-(x +c)}} = dt $ ，积分得到 $ \\arcsin(x+c) = t +c_1 $ ,即 $ x = \\sin(t +c_1) - c_2 $\n",
    "\n",
    "② $ x^{\\prime} = -\\sqrt{1-(x +c)} $ , $ -\\frac{dx}{\\sqrt{1-(x +c)}} = dt $ ，积分得到 $ \\arcsin(x+c) = t +c_1 $ ,即 $ x = \\cos(t +c_1) - c_2 $\n",
    "\n",
    "当 $ y = \\pm 1 $ 时， $ x^{\\prime} = 0 $  即 $ x = \\pm t +c $\n",
    "\n",
    "所以方程的解为 $ x = \\pm t +c $ , $ x = \\sin(t +c_1) - c_2 $ , $ x = \\cos(t +c_1) - c_2 $ ,$ c,c_1，c_2 $ 为任意常数。"
   ]
  },
  {
   "cell_type": "markdown",
   "metadata": {},
   "source": [
    "(6).$ x^{\\prime} = 0 $时， $ x = c $\n",
    "\n",
    "$ x^{\\prime} \\neq 0 $ 时 ， 方程两边同除以 $ x^{\\prime}$ ，得到  \n",
    "\n",
    "$$\n",
    "\\frac{{x^{\\prime}}^{\\prime}}{x^{\\prime}} -\\frac{1}{t} +x^{\\prime} = 0\n",
    "$$，积分得，\n",
    "\n",
    "$$\n",
    "\\ln|x^{\\prime}| - \\ln|t| +x =0\n",
    "$$\n"
   ]
  },
  {
   "cell_type": "markdown",
   "metadata": {},
   "source": [
    "\n",
    "$$\n",
    "\\ln|\\frac{x^{\\prime}}{t}| =-x+c_1\n",
    "$$,\n",
    "\n",
    "得 $ x^{\\prime} = te^{-x+c_1} $,积分得\n",
    "\n",
    "$$ \n",
    "e^x = \\frac{1}{t^2}e^{c_1} +c_2\n",
    "$$\n",
    "\n",
    "方程的解为，$e^x = \\frac{1}{t^2}e^{c_1} +c_2 $ , $ x = c $ , $ c ,c_1 ,c_2 $ 为任意常数。"
   ]
  },
  {
   "cell_type": "markdown",
   "metadata": {},
   "source": [
    "2.(2)方程可化为 $ {x^{\\prime}}^{\\prime} + \\frac{x}{1-t} = 0$ ,因 $ tp(t)= 0 ,t^2q(t) = \\frac{t^2}{1-t} $ ,故存在幂级数解。\n",
    "\n",
    "设 $ x = a_0+a_1t+a_2t^2 + a_3t^3+ \\ldots +a_nt^n + \\dots $ 是方程的解 ，则\n",
    "\n",
    "$ x^{\\prime} = a_1+2a_2t+3a_3t^2+ \\ldots +na_nt^{n-1} +\\dots $\n",
    "\n",
    "${x^{\\prime}}^{\\prime} = 2a_2 + 3*2a_3 t+\\ldots +n(n-1)a_nt^{n-2} +\\dots $\n",
    "\n",
    "将 $x ,x^{\\prime} ,{x^{\\prime}}^{\\prime} $的表达式代入原方程，比较同次幂系数，可得\n",
    "\n",
    "$$\n",
    "2a_2 +a_0 =0,3*2a_3 -2a_2+a_1=0\n",
    "$$\n",
    "\n",
    "$$\n",
    "k(k-1)a_k-(k-1)(k-2)a_{k-1} + a_{k-2} = 0 , k>3    ①\n",
    "$$\n"
   ]
  },
  {
   "cell_type": "markdown",
   "metadata": {},
   "source": [
    "本方程的解应该为通解，为此，需要找到两个线性无关的解.\n",
    "\n",
    "设 $x_1(t)$ 和$x_2(t)$ 是满足初值条件 $x_1(0) =0 ,x^{\\prime}(0)=1,x_2(0) = 1,x^{\\prime}_2(0)=0$ 的两个解。\n",
    "\n",
    "对于 $ x_1(t)$ ,显然有 $a_0=0 ,a_1 =1 $,代入 ①可得\n",
    "\n",
    "$$\n",
    "a_2 = 0,a_3=\\frac{-1}{1*2*3},a_4= \\frac{-1}{3*4}=\\frac{-1}{1*2*3*4},a_5=\\frac{-5}{1*2*3*4*5},\\dots ,a_n\\frac{(n-1)(n-2)a_{n-1}-a_{n-2}}{n(n-1)},\n",
    "$$\n",
    "\n",
    "也就是$ x_1(t) = t-\\frac{t^3}{3!}-\\frac{2}{4!}t^4-\\frac{5}{5!}t^5-\\frac{18}{6!}t^6-\\dots,$ 对于 $x_2(t)$,显然有 $ a_0=1,a_1=0$,代入①式可得\n",
    "\n",
    "$a_2=-\\frac{1}{2},a_3=\\frac{-1}{1*2*3},a_4=\\frac{-1}{1*2*3*4},\\dots,a_n=\\frac{(n-1)(n-2)a_{n-1}-a_{n-2}}{n(n-1)},$\n",
    "\n",
    "也就是 $x_2(t) = 1-\\frac{1}{2!}t^2-\\frac{1}{3!}t^3-\\frac{1}{4!}t^4-\\dots $\n",
    "\n",
    "所以方程的通解为\n",
    "\n",
    "$ x =c_1x_1(t)+c_2x_2(t) = c_1(t-\\frac{t^3}{3!}-\\frac{2}{4!}t^4-\\frac{5}{5!}t^5-\\frac{18}{6!}t^6-\\dots)+c_2(1-\\frac{1}{2!}t^2-\\frac{1}{3!}t^3-\\frac{1}{4!}t^4-\\dots)$"
   ]
  },
  {
   "cell_type": "markdown",
   "metadata": {},
   "source": [
    "P201.2.(3)令 $ \\omega_1 = x ,\\omega_2 = x^{\\prime} ,\\omega_3 = y ,\\omega_4 = y^{\\prime} $ ,则初始问题可化为：\n",
    "\n",
    "$$\n",
    "\\begin{cases}\n",
    "\\omega_1^{\\prime} = x^{\\prime} = \\omega_2 \\\\\n",
    "\\omega_2^{\\prime} = {x^{\\prime}}^{\\prime} = -5\\omega_4 +7\\omega_1 -6\\omega_3 +e^t \\\\\n",
    "\\omega_3^{\\prime} = y^{\\prime} = \\omega_4 \\\\\n",
    "\\omega_4^{\\prime} = {y^{\\prime}}^{\\prime} = 2\\omega_3 -13\\omega_4 +15\\omega_1 + \\cos t\n",
    "\\end {cases}\n",
    "$$,"
   ]
  },
  {
   "cell_type": "markdown",
   "metadata": {},
   "source": [
    "$$\n",
    "\\begin{cases}\n",
    "\\omega_1(0) = x(0) = 1 \\\\\n",
    "\\omega_2(0) = x^{\\prime}(0) = 0 \\\\\n",
    "\\omega_3(0) = y(0) = 0 \\\\\n",
    "\\omega_4(0) = y^{\\prime}(0) = 1\n",
    "\\end{cases}\n",
    "$$,即\n",
    "\n",
    "$$\n",
    "\\omega^{\\prime} = \\begin{bmatrix}0 & 1& 0& 0 \\\\ 7& 0&-6 &-5 \\\\ 0& 0&0 &1 \\\\15 &0 &2 &-13 \\end{bmatrix}\\omega + \\begin{bmatrix} 0\\\\e^t \\\\0 \\\\ \\cos t \\end{bmatrix} , \\omega(0) = \\begin{bmatrix} 1\\\\ 0 \\\\0 \\\\1 \\end{bmatrix}\n",
    "$$,其中\n",
    "\n",
    "$$\n",
    "\\omega = \\begin{bmatrix}\\omega_1\\\\ \\omega_2\\\\ \\omega_3\\\\ \\omega_4 \\end{bmatrix}\n",
    "$$"
   ]
  },
  {
   "cell_type": "markdown",
   "metadata": {},
   "source": [
    "3.\n",
    "$ \\varphi_0(t) = \\begin{bmatrix}0 \\\\1 \\end{bmatrix} $\n",
    "\n",
    "$ \\varphi_1(t) = \\begin{bmatrix}0 \\\\1 \\end{bmatrix} + \\int_0^t \\begin{bmatrix}0 &1 \\\\ -1 & 0 \\end{bmatrix} \\begin{bmatrix}0 \\\\1 \\end{bmatrix}\\mathrm ds = \\begin{bmatrix}0 \\\\1 \\end{bmatrix} +  \\begin{bmatrix}t \\\\0 \\end{bmatrix} =  \\begin{bmatrix}t \\\\1 \\end{bmatrix} $\n",
    "\n",
    "$ \\varphi_2(t) = \\begin{bmatrix}0 \\\\1 \\end{bmatrix} + \\int_0^t\\begin{bmatrix}0 &1 \\\\ -1 & 0 \\end{bmatrix} \\begin{bmatrix}s \\\\1 \\end{bmatrix}\\mathrm ds = \\begin{bmatrix}0 \\\\1 \\end{bmatrix} + \\begin{bmatrix}t \\\\ -\\frac{t^2}{2} \\end{bmatrix}=\\begin{bmatrix}t \\\\1-\\frac{t^2}{2} \\end{bmatrix} $\n",
    "\n",
    "$ \\varphi_3(t) = \\begin{bmatrix}0 \\\\1 \\end{bmatrix} + \\int_0^t\\begin{bmatrix}0 &1 \\\\ -1 & 0 \\end{bmatrix} \\begin{bmatrix}s \\\\1-\\frac{s^2}{2} \\end{bmatrix}\\mathrm ds = \\begin{bmatrix}0 \\\\1 \\end{bmatrix} + \\begin{bmatrix}t-\\frac{t^3}{6} \\\\ -\\frac{t^2}{2} \\end{bmatrix}=\\begin{bmatrix}t-\\frac{t^3}{6} \\\\1-\\frac{t^2}{2} \\end{bmatrix} $\n",
    "\n",
    "所以，满足初值条件 $ x(0) = \\begin{bmatrix} 0\\\\ 1\\end{bmatrix}$的第三次近似解为\n",
    "\n",
    "$$\n",
    "\\varphi_3(t) = \\begin{bmatrix}t-\\frac{t^3}{6} \\\\1-\\frac{t^2}{2} \\end{bmatrix}\n",
    "$$"
   ]
  },
  {
   "cell_type": "code",
   "execution_count": null,
   "metadata": {
    "collapsed": true
   },
   "outputs": [],
   "source": []
  }
 ],
 "metadata": {
  "kernelspec": {
   "display_name": "SageMath 7.2",
   "language": "",
   "name": "sagemath"
  },
  "language_info": {
   "codemirror_mode": {
    "name": "ipython",
    "version": 2
   },
   "file_extension": ".py",
   "mimetype": "text/x-python",
   "name": "python",
   "nbconvert_exporter": "python",
   "pygments_lexer": "ipython2",
   "version": "2.7.10"
  }
 },
 "nbformat": 4,
 "nbformat_minor": 0
}
