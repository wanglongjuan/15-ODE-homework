{
 "cells": [
  {
   "cell_type": "markdown",
   "metadata": {},
   "source": [
    "P183 1.求解下列方程：\n",
    "\n",
    "$(2)xx\\prime\\prime-(x\\prime)^2+(x\\prime)^3=0$\n",
    "\n",
    "$(4)x\\prime\\prime+\\sqrt{1-(x\\prime)^2}=0$\n",
    "\n",
    "$(6)x\\prime\\prime\\prime-\\frac{1}{t}x\\prime+(x\\prime)^2=0(提示：方程两端除以x\\prime)$"
   ]
  },
  {
   "cell_type": "markdown",
   "metadata": {},
   "source": [
    "解：(2)令$x\\prime=y,则方程化为$\n",
    "$$xy\\frac{\\mathrm d y}{\\mathrm d x}-y^2+y^3=0$$\n",
    "得到$$y=0或\\frac{\\mathrm d y}{\\mathrm d x}=\\frac{y-y^2}{x},$$\n",
    "积分后得$\\frac{y}{1-y}=c_1x,(c_1x\\neq0)$\n",
    "\n",
    "即$\\frac{x\\prime}{1-x\\prime}=c_1x,$\n",
    "\n",
    "再次积分得到$$x+\\frac{1}{c_1}ln\\mid x \\mid=t+c_2.$$\n",
    "当$y=0,得x\\prime=0,故x=c.$\n",
    "\n",
    "综上所述，方程的解为$$x+\\frac{1}{c_1}ln\\mid x \\mid=t+c_2或x=c,$$\n",
    "这里$c_1,c_2,c是任意常数.$"
   ]
  },
  {
   "cell_type": "markdown",
   "metadata": {},
   "source": [
    "(4)令$x\\prime=y,则方程化为$\n",
    "$$y\\frac{\\mathrm y}{\\mathrm x}+\\sqrt{1-y^2}=0.$$\n",
    "当$y=\\pm1时,即x\\prime=\\pm t\\pm c_1.$\n",
    "\n",
    "当$y\\neq \\pm1时，方程又可以化为$\n",
    "$$\\frac{y\\mathrm d y}{\\sqrt{1-y^2}}=-\\mathrm d x,$$\n",
    "$积分后得到\\sqrt{1-y^2}=x+c,$\n",
    "\n",
    "即$\\sqrt{1-x\\prime^2}=x+c,或者x\\prime=\\pm \\sqrt{1-(x+c)^2},$\n",
    "\n",
    "再次积分后得到\n",
    "\n",
    "①$当x\\prime=\\sqrt{1-(x+c)^2}时，x=sin(x+c_1)-c;$\n",
    "\n",
    "②$当x\\prime=-\\sqrt{1-(x+c)^2}时，x=cos (t+c_1)-c.$\n",
    "\n",
    "综上所述，即得原方程的解为$x=sin (t+c_1)-c或x=cos (t+c_1)-c,以及x=\\pm t+c_1.(c_1,c是任意常数.)$"
   ]
  },
  {
   "cell_type": "markdown",
   "metadata": {},
   "source": [
    "(6)当$x\\prime \\neq 0时，方程两边同时除以x\\prime,则得到$\n",
    "$$\\frac{x\\prime\\prime}{x\\prime}-\\frac{1}{t}+x\\prime=0,$$\n",
    "即$d(\\ln \\mid x\\prime \\mid-\\ln\\mid t \\mid+x)=0,$\n",
    "\n",
    "两边积分可得$$\\ln\\mid \\frac{x\\prime}{t}\\mid +x=c_1,$$\n",
    "解出$x\\prime$,则有\n",
    "$$x\\prime=te^{-x+c_1},$$\n",
    "再次积分得$$e^x=e^{c_1}\\frac{t^2}{2}+c_2.$$\n",
    "由于这里的$c_1,c_2$时任意常数，所以可以写成\n",
    "$$e^x=c_1(t^2+c_2).$$\n",
    "当$x\\prime=0$时，即得x=c，显然它也是原方程的解.\n",
    "\n",
    "综上所述，方程的解是$$e^x=c_1(t^2+c_2)或x=c_.$$"
   ]
  },
  {
   "cell_type": "markdown",
   "metadata": {},
   "source": [
    "2.用幂级数解法求解下列方程：\n",
    "\n",
    "$(2)(1-t)x\\prime\\prime+x=0.$"
   ]
  },
  {
   "cell_type": "markdown",
   "metadata": {},
   "source": [
    "解：设$x=a_0+a_1t+a_2t^2+a_3t^3+\\cdots+a_nt^n+\\cdots是方程的解，则$\n",
    "$$x\\prime=a_1+2a_2t^2+3a_3t^2+\\cdots+na_nt^{n-1}+\\cdots$$\n",
    "$$x\\prime\\prime=2a_2+3*2a_3t+\\cdots+n(n-1)a_nt^{n-2}+\\cdots$$\n",
    "把$x_1,x\\prime,x\\prime\\prime的表达式代入原方程，合并t的各同次幂的项，并令各项系数等于零，得到$\n",
    "$$\\begin{cases}a_0+2a_2=0 \\\\ a_1-2a_2+3*2a_3=0 &①\\\\n(n-1)a_n-(n-1)(n-2)a_{n-1}+a_{n-2}=0\\\\ \\end{cases}$$\n",
    "我们设$x_1(t)和x_2(t)是满足初值条件x_1(0)=0,x_1\\prime(0)=1,x_2(0)=1,x\\prime_2(0)=0的两个解.$\n",
    "\n",
    "对于$x_1(t),显然有a_0=0,a_1=1,代入①式，可得$\n",
    "$$a_2=0,a_3=\\frac{-1}{3*2},a_4=\\frac{-1}{4*3}=\\frac{-2}{4*3*2},a_5=\\frac{-5}{5*4*3*2},\\cdots$$\n",
    "$$a_n=\\frac{(n-1)(n-2)a_{n-1}-a_{n-2}}{n(n-1)}$$\n",
    "即$x_1(t)=t-\\frac{t^3}{3!}-\\frac{2t^4}{4!}-\\frac{5t^5}{5!}\\cdots.$\n",
    "对于$x_2(t),显然有a_0=1,a_1=0,代入①式，可得$\n",
    "$$a_2=-\\frac{1}{2},a_3=-\\frac{1}{3*2},a_4=-\\frac{-1}{4*3*2},\\cdots$$\n",
    "$$a_n=\\frac{(n-1)(n-2）a_{n-1}-a_{n-2}}{n(n-1)},$$\n",
    "即$x_2(t)=1-\\frac{1}{2!}t^2-\\frac{1}{3!}t^3-\\frac{1}{4!}-\\cdots.$\n",
    "\n",
    "所以方程的通解为$$x=c_1x_1(t)+c_2x_2(t)=c_1(t-\\frac{1}{3!}t^3-\\frac{2}{4!}t^4-\\frac{5}{5!}t^5\\cdots)+c_2(1-\\frac{1}{2!}t^2-\\frac{1}{3!}t^3-\\frac{1}{4!}t^4 \\cdots).$$"
   ]
  },
  {
   "cell_type": "markdown",
   "metadata": {},
   "source": [
    "P201 2.将下列的初值问题化为与之等价的；一阶方程组的初值问题：\n",
    "\n",
    "(3)$\\begin{cases} x\\prime\\prime+5y\\prime-7x\\prime+6y=e^t, \\\\y\\prime\\prime-2y+13y\\prime-15x=cos t,\\\\ \\end{cases}$\n",
    "$$x(0)=1,x\\prime(0)=0,y(0)=1.$$\n",
    "\n",
    "(提示：令$\\omega_1=x,\\omega_2=x\\prime,\\omega_3=y,\\omega_4=y\\prime.)$"
   ]
  },
  {
   "cell_type": "markdown",
   "metadata": {},
   "source": [
    "解：令$\\omega_1=x,\\omega_2=x\\prime,\\omega_3=y,\\omega_4=y\\prime,则原方程组$\n",
    "$\\begin{pmatrix} \\omega_1 \\\\ \\omega_2 \\\\ \\omega_3 \\\\ \\omega_4 \\\\ \\end{pmatrix}=\\begin{pmatrix} 0&1&0&0 \\\\ 7&0&-6&-5 \\\\0&0&0&1 \\\\15&0&2&-13 \\\\ \\end {pmatrix}\\begin{pmatrix} \\omega_1 \\\\ \\omega_2 \\\\ \\omega_3 \\\\ \\omega_4 \\\\ \\end{pmatrix}+\\begin{pmatrix} 0\\\\e^t\\\\0\\\\cos t \\\\ \\end{pmatrix}$\n",
    "\n",
    "初值条件为$\\omega_1(0)=1,\\omega_2(0)=0,\\omega_3(0)=0,\\omega_4(0)=1.$"
   ]
  },
  {
   "cell_type": "markdown",
   "metadata": {},
   "source": [
    "3.试用逐步逼近法求方程组$$x\\prime=\\begin{bmatrix} 0&1\\\\-1&0\\\\ \\end{bmatrix}x,$$满足初值条件\n",
    "$$x(0)=\\begin{bmatrix} 0\\\\1\\\\ \\end{bmatrix}$$的第三次近似解."
   ]
  },
  {
   "cell_type": "markdown",
   "metadata": {},
   "source": [
    "解：$$\\varphi_0(t)=\\begin{bmatrix} 0\\\\1\\\\ \\end{bmatrix},$$\n",
    "$$\\varphi_1(t)=\\begin{bmatrix}0\\\\1\\\\ \\end{bmatrix}+\\int_{1}^{0} \\begin{bmatrix} 0&1\\\\-1&0\\\\ \\end{bmatrix} \\begin{bmatrix}0\\\\1\\\\ \\end{bmatrix}d s=\\begin{bmatrix} 0\\\\1\\\\ \\end{bmatrix}+\\int_{0}^{t}\\begin{bmatrix}1\\\\0\\\\ \\end{bmatrix}ds=\\begin{bmatrix}0\\\\1\\\\ \\end{bmatrix}+\\begin{bmatrix}t\\\\0\\\\ \\end{bmatrix},$$\n",
    "$$\\varphi_2(t)=\\begin{bmatrix}0\\\\1\\\\ \\end{bmatrix}+\\int_{0}^{t} \\begin{bmatrix} 0&1\\\\-1&0\\\\ \\end{bmatrix} \\begin{bmatrix}t\\\\1\\\\ \\end{bmatrix}d t=\\begin{bmatrix} 0\\\\1\\\\ \\end{bmatrix}+\\int_{0}^{t}\\begin{bmatrix}1\\\\-t\\\\ \\end{bmatrix}d t,=\\begin{bmatrix}0\\\\1\\\\ \\end{bmatrix}+\\begin{bmatrix}t\\\\-\\frac{1}{2}t^2\\\\ \\end{bmatrix}=\\begin{bmatrix}t\\\\1-\\frac{1}{2}t^2\\\\ \\end{bmatrix}$$\n",
    "$$\\varphi_3(t)=\\begin{bmatrix}0\\\\1\\\\ \\end{bmatrix}+\\int_{0}{t}\\begin{bmatrix} 0&1\\\\-1&0\\\\ \\end{bmatrix} \\begin{bmatrix}s\\\\1-\\frac{1}{2}s^2\\\\ \\end{bmatrix}ds=\\begin{bmatrix}0\\\\1\\\\ \\end{bmatrix}+\\int_{0}^{t}\\begin{bmatrix}1-\\frac{1}{2}s^2\\\\-s\\\\ \\end{bmatrix} ds=\\begin{bmatrix}0\\\\1\\\\ \\end{bmatrix}+\\begin{bmatrix}t-\\frac{1}{6}t^3\\\\-\\frac{1}{2}t^2 \\\\ \\end{bmatrix}=\\begin{bmatrix}t-\\frac{1}{6}t^3\\\\1-\\frac{1}{2}t^2\\\\ \\end{bmatrix},$$\n",
    "所以满足初值条件$x(0)=\\begin{bmatrix}0\\\\1\\\\ \\end{bmatrix}的第三次近似解为$\n",
    "$\\varphi_3(t)=\\begin{bmatrix}t-\\frac{1}{6}t^3\\\\1-\\frac{1}{2}t^2\\\\ \\end{bmatrix}$\n"
   ]
  },
  {
   "cell_type": "markdown",
   "metadata": {},
   "source": [
    "# <font color='red'>A  25/11"
   ]
  },
  {
   "cell_type": "code",
   "execution_count": null,
   "metadata": {
    "collapsed": true
   },
   "outputs": [],
   "source": []
  }
 ],
 "metadata": {
  "kernelspec": {
   "display_name": "SageMath 7.3",
   "language": "",
   "name": "sagemath"
  },
  "language_info": {
   "codemirror_mode": {
    "name": "ipython",
    "version": 2
   },
   "file_extension": ".py",
   "mimetype": "text/x-python",
   "name": "python",
   "nbconvert_exporter": "python",
   "pygments_lexer": "ipython2",
   "version": "2.7.10"
  }
 },
 "nbformat": 4,
 "nbformat_minor": 0
}
