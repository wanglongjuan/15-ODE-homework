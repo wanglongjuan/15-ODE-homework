{
 "cells": [
  {
   "cell_type": "markdown",
   "metadata": {},
   "source": [
    "焦畅    2015750325"
   ]
  },
  {
   "cell_type": "markdown",
   "metadata": {},
   "source": [
    "4.3\n",
    "\n",
    "1（2）\n",
    "$令x'=y,方程可以变形为xy\\frac{dy}{dx}-y^2+y^3=0$\n",
    "得到$$ y=0或者\\frac{dy}{dx}=\\frac{y-y^2}{x}$$\n",
    "积分后得\n",
    "$$\\frac{y}{1-y}=c_1x,(c_1\\neq0)$$\n",
    "即$$\\frac{x'}{1-x'}=c_1x$$\n",
    "再次积分得到$$x+\\frac{1}{c_1}ln|x|=t+c_2$$\n",
    "$当y=0时，得x'=0,故x=c$\n",
    "综上所述，方程的解为$$x+\\frac{1}{c_1}ln|x|=t+c_2或x=c$$\n",
    "$这里c_1,c_2,c_3是任意常数$"
   ]
  },
  {
   "cell_type": "markdown",
   "metadata": {},
   "source": [
    "(4)$令x'=y,方程可以变形为y\\frac{dy}{dx}\\sqrt{1-y^2}=0$\n",
    "\n",
    "$当y=\\pm1时，即x'=\\pm t+c_1$\n",
    "\n",
    "$当y\\neq\\pm1时，方程又可化为$$\\frac{ydy}{\\sqrt{1-y^2}}=-dx$\n",
    "\n",
    "$积分后得到\\sqrt{1-y^2}=x+c,$\n",
    "\n",
    "$也就是\\sqrt{1-x'^2}=x+c,或者x'=\\pm\\sqrt{1-(x+c)^2}$\n",
    "\n",
    "再次积分得到\n",
    "$当x'=+\\sqrt{1-(x+c)^2}时，x=sin(t+c_1)-c$\n",
    "\n",
    "$当x'=-\\sqrt{1-(x+c)^2}时，x=cos(t+c_1)-c$\n",
    "\n",
    "综合以上几种情况，即得原方程的解为\n",
    "$x=sin(t+c_1)-c或x=cos(t+c_1)-c，以及x=\\pm t+c_1$"
   ]
  },
  {
   "cell_type": "markdown",
   "metadata": {},
   "source": [
    "(6)$当x'\\neq 0时，方程两边同除以x',则得到$\n",
    "$$\\frac{x'''}{x'}-\\frac{1}{t}+x'=0$$\n",
    "即$$d(ln|x'|-ln|t|+x)=0$$\n",
    "两边积分可得\n",
    "$$ln|\\frac{x'}{t}+x=c_1|$$\n",
    "$解出x'，则有x'=t(e^{-x+c_1}),$\n",
    "再次积分，可得$$e^x=e^{c_1}(\\frac{t^2}{2}+c_2)$$\n",
    "由于这里的$c_1,c_2$是任意常数，所以可以写成\n",
    "$$e^x=c_1(t^2+c_2)$$\n",
    "$当x'\\neq 0时，即得x=c,显然它也是原方程的解$\n",
    "综上所述，方程的解为\n",
    "$$e^x=e^{c_1}(\\frac{t^2}{2}+c_2)或x=c$$"
   ]
  },
  {
   "cell_type": "markdown",
   "metadata": {},
   "source": [
    "2(2)\n",
    "\n",
    "$设x=a_0+a_1t+a_2t^2+a_3t^3+……+a_nt^n+……是方程的解，则$\n",
    "$$x'=a_1t+2a_2t+3a_3t^2+……+na_nt^{n-1}+……$$\n",
    "$$x''=2a_2t+3*2a_3t+……+n(n-1)a_nt^{n-2}+……$$\n",
    "$把x,x',x''的表达式代入原方程，合并t的各同次幂的项，并令各项系数等于零，得到$\n",
    "$$\\begin{cases}\n",
    "  a_0+2a_2=0\\\\a_1-2a_2+3*2a_3=0\\\\\n",
    "  n(n-1)a_n-(n-1)(n-2)a_{n-1}+a_{n-2}=0\n",
    "  \\end{cases}$$\n",
    "  \n",
    "由于本题设有初值条件，所以求出来的应该是方程的通解，为此，需要找到两个线性无关的解。\n",
    "\n",
    "$我们设x_1(t)和x_2(t)是满足初值条件x_1(0)=0,x'_1(0)=1,x_2(0)=1,x'_2(0)=0的两个解$\n",
    "\n",
    "$对于x_1(t),显然有a_0=0,a_1(0)=1,代入得，$\n",
    "\n",
    "$a_2=0,a_3=\\frac{-1}{3*2},a_4=\\frac{-1}{4*3}=\\frac{-2}{4*3*2},a_5=\\frac{-5}{5*4*3*2},…a_n=\\frac{(n-1)(n-2)a_{n-1}-a_{n-2}}{n(n-1)}$\n",
    "即$$x_1(t)=t-\\frac{t^3}{3!}-\\frac{2}{4!}t^4-\\frac{5}{5!}t^5…$$\n",
    "$对于x_2(t),显然a_0=1,a_1=0,代入得，$\n",
    "$$a_2=-\\frac{1}{2},a_3=\\frac{-1}{3*2},a_4=\\frac{-1}{4*3*2},…a_n=\\frac{(n-1)(n-2)a_{n-1}-a_{n-2}}{n(n-1)}$$\n",
    "即$$x_2(t)=1-\\frac{1}{2!}t^2-\\frac{1}{3!}t^3-\\frac{1}{4!}t^4-\\frac{1}{5!}t^5…$$\n",
    "所以方程的通解为\n",
    "$$x=c_1x_1(t)+c_2x_2(t)=c_1(t-\\frac{t^3}{3!}-\\frac{2}{4!}t^4-\\frac{5}{5!}t^5…)+c_2(1-\\frac{1}{2!}t^2-\\frac{1}{3!}t^3-\\frac{1}{4!}t^4-\\frac{1}{5!}t^5…)$$"
   ]
  },
  {
   "cell_type": "markdown",
   "metadata": {},
   "source": [
    "5.1\n",
    "\n",
    "2(3)\n",
    "$令\\omega_1=x,\\omega_2=x',\\omega_3=y,\\omega_4=y',则原方程组$\n",
    "$$\\begin{pmatrix}\n",
    "  \\omega_1\\\\\\omega_2\\\\\\omega_3\\\\\\omega_4\n",
    "  \\end{pmatrix}\n",
    "=\\begin{pmatrix}\n",
    "  0&1&0&0\\\\7&0&-6&-5\\\\0&0&0&1\\\\15&0&2&-13\n",
    "  \\end{pmatrix}\\begin{pmatrix}\n",
    "  \\omega_1\\\\\\omega_2\\\\\\omega_3\\\\\\omega_4\n",
    "  \\end{pmatrix}+\\begin{pmatrix}\n",
    "  0\\\\e^t\\\\0\\\\cost\n",
    "  \\end{pmatrix}$$\n",
    "$初值条件为\\omega_1(0)=1,\\omega_2(0)=0,\\omega_3(0)=0,\\omega_4(0)=1$"
   ]
  },
  {
   "cell_type": "markdown",
   "metadata": {},
   "source": [
    "3\n",
    "\n",
    "$\\varphi_0(t)=\\begin{bmatrix}\n",
    " 0\\\\1\n",
    "  \\end{bmatrix}$\n",
    "  \n",
    "$\\varphi_1(t)=\\begin{bmatrix}\n",
    " 0\\\\1\n",
    "  \\end{bmatrix}+\\int_0^t\\begin{bmatrix}\n",
    " 0&1\\\\-1&0\n",
    "  \\end{bmatrix}\\begin{bmatrix}\n",
    " 0\\\\1\n",
    "  \\end{bmatrix}ds=\\begin{bmatrix}\n",
    " 0\\\\1\n",
    "  \\end{bmatrix}+\\int_0^t\\begin{bmatrix}\n",
    " 1\\\\0\n",
    "  \\end{bmatrix}ds=\\begin{bmatrix}\n",
    " 0\\\\1\n",
    "  \\end{bmatrix}+\\begin{bmatrix}\n",
    " t\\\\0\n",
    "  \\end{bmatrix}=\\begin{bmatrix}\n",
    " t\\\\1\n",
    "  \\end{bmatrix}$\n",
    "  \n",
    "$\\varphi_2(t)=\\begin{bmatrix}\n",
    " 0\\\\1\n",
    "  \\end{bmatrix}+\\int_0^t\\begin{bmatrix}\n",
    " 0&1\\\\-1&0\n",
    "  \\end{bmatrix}\\begin{bmatrix}\n",
    " t\\\\1\n",
    "  \\end{bmatrix}dt=\\begin{bmatrix}\n",
    " 0\\\\1\n",
    "  \\end{bmatrix}+\\int_0^t\\begin{bmatrix}\n",
    "1\\\\-t\n",
    "  \\end{bmatrix}dt=\\begin{bmatrix}\n",
    " 0\\\\1\n",
    "  \\end{bmatrix}+\\begin{bmatrix}\n",
    " t\\\\-\\frac{1}{2}t^2\n",
    "  \\end{bmatrix}=\\begin{bmatrix}\n",
    " t\\\\1-\\frac{1}{2}t^2\n",
    "  \\end{bmatrix}$\n",
    "\n",
    "$\\varphi_3(t)\\begin{bmatrix}\n",
    " 0\\\\1\n",
    "  \\end{bmatrix}+\\int_0^t\\begin{bmatrix}\n",
    " 0&1\\\\-1&0\n",
    "  \\end{bmatrix}\\begin{bmatrix}\n",
    " s\\\\1-\\frac{1}{2}s^2\n",
    "  \\end{bmatrix}ds=\\begin{bmatrix}\n",
    " 0\\\\1\n",
    "  \\end{bmatrix}+\\int_0^t\\begin{bmatrix}\n",
    " 1-\\frac{1}{2}s^2\\\\-s\n",
    "  \\end{bmatrix}ds=\\begin{bmatrix}\n",
    " 0\\\\1\n",
    "  \\end{bmatrix}+\\begin{bmatrix}\n",
    " t-\\frac{1}{6}t^3\\\\-\\frac{1}{2}t^2\n",
    "  \\end{bmatrix}=\\begin{bmatrix}\n",
    " t-\\frac{1}{6}t^3\\\\1-\\frac{1}{2}t^2\n",
    "  \\end{bmatrix}$\n",
    "  \n",
    "所以满足初值条件$x(0)=\\begin{bmatrix}\n",
    " 0\\\\1\n",
    "  \\end{bmatrix}$的第三次近似解为\n",
    " $$\\varphi_3(t)=\\begin{bmatrix}\n",
    " t-\\frac{1}{6}t^3\\\\1-\\frac{1}{2}t^2\n",
    "  \\end{bmatrix}$$"
   ]
  },
  {
   "cell_type": "markdown",
   "metadata": {},
   "source": [
    "# <font color='red'>A  25/11"
   ]
  },
  {
   "cell_type": "code",
   "execution_count": null,
   "metadata": {
    "collapsed": true
   },
   "outputs": [],
   "source": []
  }
 ],
 "metadata": {
  "kernelspec": {
   "display_name": "SageMath 7.3",
   "language": "",
   "name": "sagemath"
  },
  "language_info": {
   "codemirror_mode": {
    "name": "ipython",
    "version": 2
   },
   "file_extension": ".py",
   "mimetype": "text/x-python",
   "name": "python",
   "nbconvert_exporter": "python",
   "pygments_lexer": "ipython2",
   "version": "2.7.10"
  }
 },
 "nbformat": 4,
 "nbformat_minor": 0
}
