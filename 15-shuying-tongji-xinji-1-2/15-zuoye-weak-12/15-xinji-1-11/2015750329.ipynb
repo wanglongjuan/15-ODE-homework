{
 "cells": [
  {
   "cell_type": "markdown",
   "metadata": {},
   "source": [
    "## 第十次常微分作业"
   ]
  },
  {
   "cell_type": "markdown",
   "metadata": {},
   "source": [
    "## P.182\n",
    "## 1.求解下列方程"
   ]
  },
  {
   "cell_type": "markdown",
   "metadata": {},
   "source": [
    "## (2)$xx''-(x^\\prime)^2+(x^\\prime)^3=0$"
   ]
  },
  {
   "cell_type": "markdown",
   "metadata": {},
   "source": [
    "**解：**\n",
    "\n",
    "方程不显含$t,x$,令$y=x'$,则方程变形为$$xy\\frac{\\mathrm d y}{\\mathrm d x}-y^2+y^3=0$$\n",
    "得到$$y=0或\\frac{\\mathrm d y}{\\mathrm d x}=\\frac{y-y^2}{x}$$\n",
    "积分后得$$\\frac{y}{1-y}=\\overline c x \\ \\ (\\overline c \\neq 0)$$\n",
    "即$$y=\\frac{\\overline c x}{1+\\overline c x}$$\n",
    "从而$$x'=\\frac{\\overline c x}{1+\\overline c x}$$\n",
    "积分得$$x+\\frac{1}{\\overline c}\\ln|x|=t+c_2$$\n",
    "即方程有解$$x+c_1\\ln|x|=t+c_2$$\n",
    "当$y=0$时，得$x'=0$,故$x=c$\n",
    "综上，方程的解$x+c_1\\ln|x|=t+c_2$,或$$x=c$$"
   ]
  },
  {
   "cell_type": "markdown",
   "metadata": {},
   "source": [
    "## （4）$x''+\\sqrt{1-(x^\\prime)^2}=0$"
   ]
  },
  {
   "cell_type": "markdown",
   "metadata": {},
   "source": [
    "**解：**\n",
    "\n",
    "方程不显含$t,x$,令$y=x'$,则方程变形为$$y\\frac{\\mathrm d y}{\\mathrm d x}+\\sqrt{1-y^2}=0$$\n",
    "当$y \\neq \\pm 1$,方程变为$$\\frac{y\\mathrm d y}{\\sqrt{1-y^2}}=-\\mathrm d x$$\n",
    "积分后得到$$\\sqrt{1-y^2}=x+c$$\n",
    "即$$\\sqrt{1-x'^2}=x+c$$\n",
    "故$$x'=\\pm \\sqrt{1-(x+c)^2}$$\n",
    "再积分得\n",
    "\n",
    "当$x'=\\sqrt{1-(x+c)^2}$时，$x=\\sin(t+c_1)+c_2$\n",
    "\n",
    "当$x'=-\\sqrt{1-(x+c)^2}$时，$x=\\cos(t+c_1)+c_2$\n",
    "\n",
    "当$y=\\pm 1$时，$x'=\\pm 1$，从而$x=\\pm t+c$\n",
    "综上，解为$$x=\\sin(t+c_1)+c_2,x=\\cos(t+c_1)+,x=\\pm t+c$$"
   ]
  },
  {
   "cell_type": "markdown",
   "metadata": {},
   "source": [
    "## (6)$x''-\\frac{1}{t}x^\\prime+(x^\\prime)^2=0$"
   ]
  },
  {
   "cell_type": "markdown",
   "metadata": {},
   "source": [
    "**解：**\n",
    "\n",
    "当$x' \\neq 0$时，方程两边同时除以$x'$得$$\\frac{x''}{x'}-\\frac{1}{t}+x'=0$$\n",
    "即$$\\mathrm d (\\ln|x'|-\\ln|t|+x)=0$$\n",
    "积分可得$$\\ln|\\frac{x'}{t}|+x=c_1$$\n",
    "得$$x'=t(e^{-x+c_1})$$\n",
    "再次积分得$$e^x=e^{c_1}(\\frac{t^2}{2})+c_2$$\n",
    "即$$e^x=c'_1 (t^2+c'_2)$$\n",
    "当$x'=0$时，得$x=c$\n",
    "\n",
    "综上，解为$$e^x=c'_1 (t^2+c'_2),x=c$$"
   ]
  },
  {
   "cell_type": "markdown",
   "metadata": {},
   "source": [
    "## 2.用幂级数解法求解下列方程："
   ]
  },
  {
   "cell_type": "markdown",
   "metadata": {},
   "source": [
    "## （2）$(1-t)x''+x=0$"
   ]
  },
  {
   "cell_type": "markdown",
   "metadata": {},
   "source": [
    "**解：**\n",
    "\n",
    "方程可化为$x''+\\frac{x}{1-t}=0$因为$tp(t)=0,t^2q(t)=\\frac{t^2}{1-t}$，故存在幂级数解\n",
    "\n",
    "设$x=a_0+a_1 t+a_2 t^2+a_3 t^3+\\ldots+a_n t^n+\\ldots$也是方程的解\n",
    "则$$x'=a_1+2a_2 t+3a_3 t^2+\\ldots+na_n t^{n-1}+\\ldots$$\n",
    "\n",
    "$$x''=2a_2+3*2a_3t+\\ldots+n(n-1)a_nt^{n-2}+\\ldots$$\n",
    " \n",
    " 将$x,x',x''$的表达式代入原方程，比较同次幂系数，可得\n",
    " $$2a_2+a_0=0,3*2a_3-2a_2+a_1=0$$\n",
    "\n",
    " $$k(k-1)a_k-(k-1)(k-2)a_{k-1}+a_{k-2}=0,k>3$$\n",
    " 本方程的解应该为通解，为此，需要找两个线性无关的解\n",
    " \n",
    " 设$x_1(t)$和$x_2(t)$时满足初值条件$$x_1(0)=0,x'_1(0)=1,x_2(0)=1,x'_2(0)=0$$的两个解\n",
    " \n",
    " 对于$x_1(t)$,显然有$a_0=0,a_1=1$，代入$k(k-1)a_k-(k-1)(k-2)a_{k-1}+a_{k-2}=0$，得\n",
    " \n",
    " $$a_2=0,a_3=\\frac{-1}{1*2*3},a_4=\\frac{-1}{3*4}=\\frac{-2}{1*2*3*4}$$\n",
    " \n",
    " $$a_n=\\frac{(n-1)(n-2)a_{n-1}-a_{n-2}}{n(n-1)}$$\n",
    " 也就是$$x_1(t)=t-\\frac{t^3}{3!}-\\frac{2}{4!}t^4-\\frac{5}{5!}t^5-\\frac{18}{6!}t^6-\\ldots$$\n",
    " \n",
    " 对于$x_1(t)$,显然有$a_0=1,a_1=0$，代入$k(k-1)a_k-(k-1)(k-2)a_{k-1}+a_{k-2}=0$，得\n",
    " \n",
    " $$a_2=0,a_3=\\frac{-1}{1*2*3},a_4=\\frac{-1}{3*4}=\\frac{-2}{1*2*3*4}$$\n",
    " \n",
    " $$a_n=\\frac{(n-1)(n-2)a_{n-1}-a_{n-2}}{n(n-1)}$$\n",
    " 也就是$$x_2(t)=1-\\frac{1}{2!}t^2-\\frac{1}{3!}t^3-\\ldots$$\n",
    " 通解为\n",
    " $$x=c_1x_1(x)+c_2x_2(t)=c_1(t-\\frac{t^3}{3!}-\\frac{2}{4!}t^4-\\frac{5}{5!}t^5-\\frac{18}{6!}t^6-\\ldots)+c_2(1-\\frac{1}{2!}t^2-\\frac{1}{3!}t^3-\\ldots)$$"
   ]
  },
  {
   "cell_type": "markdown",
   "metadata": {},
   "source": [
    "## 2.将下面的初值问题化为与之等价的一阶方程组的初值问题："
   ]
  },
  {
   "cell_type": "markdown",
   "metadata": {},
   "source": [
    "## (3)$$\\begin{cases}x''+5y'-7x+6y=e^t,\\\\y''-2y+13y'-15x=cost,\\end{cases}$$\n",
    "## $x(0)=1$,$x'(0)=0$,$y(0)=0$,$y'(0)=1$"
   ]
  },
  {
   "cell_type": "markdown",
   "metadata": {},
   "source": [
    "**解：**\n",
    "\n",
    "令$$w_1=x,w_2=x',w_3=y,w_4=y'$$\n",
    "\n",
    "则原初值问题可化为\n",
    "\n",
    "$\n",
    "\\begin{cases}\n",
    "w'_1=x'=w_2\\\\\n",
    "w'_2=x''=-5w_4+7w_1-6w_3+e^t\\\\\n",
    "w'_3=y'=w_4\\\\\n",
    "w'_4=y''=2w_3-13w_4+15w_1+\\cos t\\\\\n",
    "\\end{cases}\n",
    "$\n",
    "且\n",
    "$\n",
    "\\begin{cases}\n",
    "w_1(0)=x(0)=1\\\\\n",
    "w_2(0)=x'(0)=0\\\\\n",
    "w_3(0)=y(0)=0\\\\\n",
    "w_4(0)=y'(0)=1\\\\\n",
    "\\end{cases}\n",
    "$\n",
    "\n",
    "即\n",
    "$$\n",
    "w'=\n",
    "\\begin{bmatrix}\n",
    "0 & 1 & 0 & 0 \\\\\n",
    "7 & 0 & -6 & -5\\\\\n",
    "0 & 0 & 0 & 1\\\\\n",
    "15 & 0 & 2 & -13\\\\\n",
    "\\end{bmatrix}\n",
    "w+\n",
    "\\begin{bmatrix}\n",
    "0\\\\e^t\\\\0\\\\\\cos t\\\\\n",
    "\\end{bmatrix}\n",
    ",w(0)=\n",
    "\\begin{bmatrix}\n",
    "1\\\\0\\\\0\\\\1\\\\\n",
    "\\end{bmatrix}\n",
    "$$\n",
    "其中\n",
    "$$w=\n",
    "\\begin{bmatrix}\n",
    "w_1\\\\w_2\\\\w_3\\\\w_4\\\\\n",
    "\\end{bmatrix}\n",
    "$$"
   ]
  },
  {
   "cell_type": "markdown",
   "metadata": {},
   "source": [
    "### 3.试用逐步逼近法求方程组\n",
    "$$x'=\\begin{bmatrix}\n",
    "0&1\\\\\n",
    "-1&0\\\\\n",
    "\\end{bmatrix}x$$\n",
    "### 满足初值条件\n",
    "$$x（0）=\\begin{bmatrix}\n",
    "0\\\\\n",
    "1\\\\\n",
    "\\end{bmatrix}$$\n",
    "### 的第三次近似解。\n"
   ]
  },
  {
   "cell_type": "markdown",
   "metadata": {},
   "source": [
    "**解：**\n",
    "\n",
    "$\\psi_0(t)=\\begin{bmatrix} 0\\\\ 1\\\\ \\end{bmatrix}$\n",
    "\n",
    "$\\psi_1(t)=\\begin{bmatrix} 0\\\\ 1\\\\ \\end{bmatrix}+\\int_0^t \\begin{bmatrix} 0 & 1\\\\-1 & 0\\\\ \\end{bmatrix}\\begin{bmatrix} 0\\\\ 1\\\\ \\end{bmatrix}\\mathrm d s=\\begin{bmatrix} 0\\\\ 1\\\\ \\end{bmatrix}+\\begin{bmatrix} t\\\\ 0\\\\ \\end{bmatrix}=\\begin{bmatrix} t\\\\ 1\\\\ \\end{bmatrix}$\n",
    "\n",
    "$\\psi_2(t)=\\begin{bmatrix} 0\\\\ 1\\\\ \\end{bmatrix}+\\int_0^t \\begin{bmatrix} 0 & 1\\\\-1 & 0\\\\ \\end{bmatrix}\\begin{bmatrix} s\\\\ 1\\\\ \\end{bmatrix}\\mathrm d s=\\begin{bmatrix} 0\\\\ 1\\\\ \\end{bmatrix}+\\begin{bmatrix} t\\\\ -\\frac{t^2}{2}\\\\ \\end{bmatrix}=\\begin{bmatrix} t\\\\ 1-\\frac{t^2}{2}\\\\ \\end{bmatrix}$\n",
    "\n",
    "$\\psi_3(t)=\\begin{bmatrix} 0\\\\ 1\\\\ \\end{bmatrix}+\\int_0^t \\begin{bmatrix} 0 & 1\\\\-1 & 0\\\\ \\end{bmatrix}\\begin{bmatrix} s\\\\ 1-\\frac{s^2}{2}\\\\ \\end{bmatrix}\\mathrm d s=\\begin{bmatrix} 0\\\\ 1\\\\ \\end{bmatrix}+\\begin{bmatrix} t-\\frac{t^3}{6}\\\\ -\\frac{t^2}{2}\\\\ \\end{bmatrix}=\\begin{bmatrix} t-\\frac{t^3}{6}\\\\ 1-\\frac{t^2}{2}\\\\ \\end{bmatrix}$\n",
    "\n",
    "所以，满足初值条件$x(0)=\\begin{bmatrix} 0\\\\ 1\\\\ \\end{bmatrix}$的第三次近似解为\n",
    "\n",
    "$$\\psi_3(t)=\\begin{bmatrix} t-\\frac{t^3}{6}\\\\ 1-\\frac{t^2}{2}\\\\ \\end{bmatrix}$$"
   ]
  },
  {
   "cell_type": "markdown",
   "metadata": {
    "collapsed": true
   },
   "source": [
    "# <font color='red'>A  25/11"
   ]
  },
  {
   "cell_type": "code",
   "execution_count": null,
   "metadata": {
    "collapsed": true
   },
   "outputs": [],
   "source": []
  }
 ],
 "metadata": {
  "kernelspec": {
   "display_name": "SageMath 7.3",
   "language": "",
   "name": "sagemath"
  },
  "language_info": {
   "codemirror_mode": {
    "name": "ipython",
    "version": 2
   },
   "file_extension": ".py",
   "mimetype": "text/x-python",
   "name": "python",
   "nbconvert_exporter": "python",
   "pygments_lexer": "ipython2",
   "version": "2.7.10"
  }
 },
 "nbformat": 4,
 "nbformat_minor": 0
}
