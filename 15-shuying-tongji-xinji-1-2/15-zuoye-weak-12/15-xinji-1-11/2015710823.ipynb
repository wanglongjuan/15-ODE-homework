{
 "cells": [
  {
   "cell_type": "markdown",
   "metadata": {},
   "source": [
    "**常微分方程第十次作业**\n",
    "\n",
    "                   信计一班 唐梦圆 2015710823\n",
    "                   \n",
    "1.求解下列方程："
   ]
  },
  {
   "cell_type": "markdown",
   "metadata": {},
   "source": [
    "(2)$xx''-(x')^2+(x')^3=0;$\n",
    "\n",
    "解：$令x'=y,x''=y\\frac{dy}{dx},\\\\\n",
    "则xy\\frac{dy}{dx}-y^2+y^3=0\\\\\n",
    "y=0或x\\frac{dy}{dx}-y+y^2=0\\\\\n",
    "(\\frac{1}{y}-\\frac{1}{1-y})dy=\\frac{1}{x}dx\\\\\n",
    "ln|\\frac{y}{1-y}|=ln|x|,\\frac{y}{1-y}=c_1x,即\\frac{x'}{1-x'}=c_1x,\\\\\n",
    "积分后，得x+\\frac{1}{c_1}ln|x|=t+c_2\\\\\n",
    "当y=0时，x'=0,x=c.\\\\\n",
    "综上，方程得解为x+\\frac{1}{c_1}ln|x|=t+c_2或x=c.$"
   ]
  },
  {
   "cell_type": "markdown",
   "metadata": {},
   "source": [
    "(4)$x''+\\sqrt {1-(x')^2}=0$\n",
    "\n",
    "解：$令x'=y,x''=y\\frac{dy}{dx},\\\\\n",
    "则y\\frac{dy}{dx}=\\sqrt {1-(y)^2}=0\\\\\n",
    "当y=\\pm 1时，即x'=\\pm1,则x=\\pm t+c_1,\\\\\n",
    "当y不等于\\pm1时，\\frac{ydy}{\\sqrt {1-(y)^2}}=-dx\\\\\n",
    "积分后，得\\sqrt {1-(y)^2}=x+c\\\\\n",
    "x'=\\pm\\sqrt {1-(x+c)^2}\\\\\n",
    "再次积分后，得x=sin(t+c_1)-c或x=cos(t+c_1)-c\\\\\n",
    "综上，x=sin(t+c_1)-c或x=cos(t+c_1)-c或x=\\pm t+c_1$"
   ]
  },
  {
   "cell_type": "markdown",
   "metadata": {},
   "source": [
    "(6)$x''-\\frac{1}{t}x'+(x')^2=0(提示：方程两端除以x')$\n",
    "\n",
    "解：$当x'不等于0时，方程两端除以x'，\\\\\n",
    "则\\frac{x''}{x'}-\\frac{1}{t}+x'=0,\\\\\n",
    "d(ln|x'|-lnt+x)=0,\\\\\n",
    "得 ln|\\frac{x'}{t}|+x=c_1,\n",
    "x'=t(e^{-x+c_1}),\\\\\n",
    "e^x=c_1(t^2+c_2)\\\\\n",
    "综上，x=c或e^x=c_1(t^2+c_2)$"
   ]
  },
  {
   "cell_type": "markdown",
   "metadata": {},
   "source": [
    "2.用幂级数解法求解下列方程："
   ]
  },
  {
   "cell_type": "markdown",
   "metadata": {},
   "source": [
    "(2)$(1-t)x''+x=0$\n",
    "\n",
    "解： $设x=a_0+a_1t+a_2t^2+\\cdots+a_nt^n+\\cdots是方程的解，\\\\\n",
    "则x'=a_1+2a_2t+3a_3t^2+\\cdots+na_nt^{n-1}+\\cdots,\\\\\n",
    "x''=2a_2+6a_3t+\\cdots+n(n-1)a_nt^{n-2}+\\cdots.\\\\\n",
    "代入原方程，得到，\\\\\n",
    "\\begin{cases}\n",
    "a_0+2a_2=0,\\\\\n",
    "a_1-2a_2+6a_3=0,\\\\\n",
    "n(n-1)a_n-(n-1)(n-2)a_{n-1}+a_{n-2}=0.\\\\\n",
    "\\end{cases}\\\\\n",
    "现在找两个线性无关的解。\\\\\n",
    "x_1(0)=0,x_1'(0)=1,x_2(0)=1,x_2'(0)=0,设x_1(t),x_2(t)是满足这些条件的解。\\\\\n",
    "对于x_1(t),显然有a_0=0,a_1=1,代入，得\\\\\n",
    "a_n=\\frac{(n-1)(n-2) a_{n-1}-a_{n-2}}{n(n-1)},\\\\\n",
    "得x_1(t)=t-\\frac{t^3}{3!}-\\frac{2}{4!}t^4-\\frac{5}{5!}t^5\\cdots.\\\\\n",
    "对于x_2(t),显然有a_0=1,a_1=0,代入，得\\\\\n",
    "a_n=\\frac{(n-1)(n-2) a_{n-1}-a_{n-2}}{n(n-1)},\\\\\n",
    "也就是说，x_2(t)=1-\\frac{1}{2!}t^2-\\frac{1}{3!}t^3-\\cdots.\\\\\n",
    "故方程的通解为\\\\\n",
    "x=c_1(t-\\frac{t^3}{3!}-\\frac{2}{4!}t^4-\\frac{5}{5!}t^5\\cdots)+c_2(1-\\frac{1}{2!}t^2-\\frac{1}{3!}t^3-\\cdots)$\n",
    "$"
   ]
  },
  {
   "cell_type": "markdown",
   "metadata": {
    "collapsed": true
   },
   "source": [
    "2.将下面的初值问题化为与之等价的一阶方程组的初值问题。"
   ]
  },
  {
   "cell_type": "markdown",
   "metadata": {},
   "source": [
    "（3）$\n",
    "\\begin{cases}\n",
    "x''+5y'-7x+6y=e^t\\\\\n",
    "y''-2y+13y'-15x=cost\\\\\n",
    "\\end{cases}\n",
    "\\\\\n",
    "x(0)=1,x'(0)=0,y(0)=0,y'(0)=1,\\\\\n",
    "(提示：令w_1=x,w_2=x',w_3=y,w_4=y')$"
   ]
  },
  {
   "cell_type": "markdown",
   "metadata": {},
   "source": [
    "解：$令w_1=x,w_2=x',w_3=y,w_4=y',则化为：\\\\\n",
    "\\begin{pmatrix}\n",
    "w_1\\\\\n",
    "w_2\\\\\n",
    "w_3\\\\\n",
    "w_4\\\\\n",
    "\\end{pmatrix}'=\n",
    "\\begin{pmatrix}\n",
    "0&1&0&0\\\\\n",
    "7&0&-6&5\\\\\n",
    "0&0&0&1\\\\\n",
    "15&0&2&-13\\\\\n",
    "\\end{pmatrix}\n",
    "\\begin{pmatrix}\n",
    "w_1\\\\\n",
    "w_2\\\\\n",
    "w_3\\\\\n",
    "w_4\\\\\n",
    "\\end{pmatrix}+\n",
    "\\begin{pmatrix}\n",
    "0\\\\\n",
    "e^t\\\\\n",
    "0\\\\\n",
    "cost\\\\\n",
    "\\end{pmatrix}\\\\\n",
    "初值条件为：w_1(0)=1,w_2(0)=0,w_3(0)=0,w_4(0)=1.\n",
    "$"
   ]
  },
  {
   "cell_type": "markdown",
   "metadata": {
    "collapsed": true
   },
   "source": [
    "3.$试用逐步逼近法求方程组\\\\\n",
    "\\mathbf{x'}=\n",
    "\\begin{bmatrix}\n",
    "0&1\\\\\n",
    "-1&0\\\\\n",
    "\\end{bmatrix}\n",
    "\\mathbf{x}\\\\\n",
    "满足初值条件\\\\\n",
    "\\mathbf{x}(0)=\n",
    "\\begin{bmatrix}\n",
    "0\\\\\n",
    "1\\\\\n",
    "\\end{bmatrix}\n",
    "的第三次近似解。\n",
    "$"
   ]
  },
  {
   "cell_type": "markdown",
   "metadata": {},
   "source": [
    "解：$\\varphi_0(t)=\n",
    "\\begin{bmatrix}\n",
    "0\\\\\n",
    "1\\\\\n",
    "\\end{bmatrix},\\\\\n",
    "\\varphi_1(t)=\n",
    "\\begin{bmatrix}\n",
    "0\\\\\n",
    "1\\\\\n",
    "\\end{bmatrix}+\n",
    "\\int_0^t\n",
    "\\begin{bmatrix}\n",
    "0&1\\\\\n",
    "-1&0\\\\\n",
    "\\end{bmatrix}\n",
    "\\begin{bmatrix}\n",
    "0\\\\\n",
    "1\\\\\n",
    "\\end{bmatrix}ds\\\\\n",
    "=\\begin{bmatrix}\n",
    "0\\\\\n",
    "1\\\\\n",
    "\\end{bmatrix}+\\int_0^t\n",
    "\\begin{bmatrix}\n",
    "0\\\\\n",
    "1\\\\\n",
    "\\end{bmatrix}ds\\\\\n",
    "=\\begin{bmatrix}\n",
    "0\\\\\n",
    "1\\\\\n",
    "\\end{bmatrix}+\\begin{bmatrix}\n",
    "t\\\\\n",
    "0\\\\\n",
    "\\end{bmatrix}=\\begin{bmatrix}\n",
    "t\\\\\n",
    "1\\\\\n",
    "\\end{bmatrix}\\\\\n",
    "\\varphi_2(t)=\n",
    "\\begin{bmatrix}\n",
    "0\\\\\n",
    "1\\\\\n",
    "\\end{bmatrix}+\n",
    "\\int_0^t\n",
    "\\begin{bmatrix}\n",
    "0&1\\\\\n",
    "-1&0\\\\\n",
    "\\end{bmatrix}\n",
    "\\begin{bmatrix}\n",
    "t\\\\\n",
    "1\\\\\n",
    "\\end{bmatrix}ds\\\\\n",
    "=\\begin{bmatrix}\n",
    "0\\\\\n",
    "1\\\\\n",
    "\\end{bmatrix}+\\int_0^t\n",
    "\\begin{bmatrix}\n",
    "1\\\\\n",
    "-t\\\\\n",
    "\\end{bmatrix}ds\\\\\n",
    "=\\begin{bmatrix}\n",
    "t\\\\\n",
    "1-\\frac{1}{2}t^2\\\\\n",
    "\\end{bmatrix},\\\\\n",
    "\\varphi_3(t)=\n",
    "\\begin{bmatrix}\n",
    "0\\\\\n",
    "1\\\\\n",
    "\\end{bmatrix}+\n",
    "\\int_0^t\n",
    "\\begin{bmatrix}\n",
    "0&1\\\\\n",
    "-1&0\\\\\n",
    "\\end{bmatrix}\n",
    "\\begin{bmatrix}\n",
    "s\\\\\n",
    "1-\\frac{1}{2}s^2\\\\\n",
    "\\end{bmatrix}ds\\\\\n",
    "=\\begin{bmatrix}\n",
    "0\\\\\n",
    "1\\\\\n",
    "\\end{bmatrix}+\n",
    "\\int_0^t\n",
    "\\begin{bmatrix}\n",
    "1-\\frac{1}{2}s^2\\\\\n",
    "-s\\\\\n",
    "\\end{bmatrix}\\\\\n",
    "=\\begin{bmatrix}\n",
    "t-\\frac{1}{6}t^3\\\\\n",
    "1-\\frac{1}{2}t^2\\\\\n",
    "\\end{bmatrix},\\\\\n",
    "所以第三次近似解为\\begin{bmatrix}\n",
    "t-\\frac{1}{6}t^3\\\\\n",
    "1-\\frac{1}{2}t^2\\\\\n",
    "\\end{bmatrix}\n",
    "$"
   ]
  },
  {
   "cell_type": "markdown",
   "metadata": {
    "collapsed": true
   },
   "source": [
    "# <font color='red'>A  25/11"
   ]
  },
  {
   "cell_type": "code",
   "execution_count": null,
   "metadata": {
    "collapsed": true
   },
   "outputs": [],
   "source": []
  }
 ],
 "metadata": {
  "kernelspec": {
   "display_name": "SageMath 7.3",
   "language": "",
   "name": "sagemath"
  },
  "language_info": {
   "codemirror_mode": {
    "name": "ipython",
    "version": 2
   },
   "file_extension": ".py",
   "mimetype": "text/x-python",
   "name": "python",
   "nbconvert_exporter": "python",
   "pygments_lexer": "ipython2",
   "version": "2.7.10"
  }
 },
 "nbformat": 4,
 "nbformat_minor": 0
}
