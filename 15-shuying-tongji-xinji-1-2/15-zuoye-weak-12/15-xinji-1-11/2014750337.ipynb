{
 "cells": [
  {
   "cell_type": "markdown",
   "metadata": {
    "collapsed": false
   },
   "source": [
    "# 作业10  \n",
    "**P183**  \n",
    "**1.求解下列方程(这里$x'=\\frac{\\mathrm d x}{\\mathrm d t},x''=\\frac{\\mathrm d^2 x}{\\mathrm d t^2}$)**"
   ]
  },
  {
   "cell_type": "markdown",
   "metadata": {},
   "source": [
    "**(2)$xx''-(x')^2+(x')^3=0$**  \n",
    "**解：**令$x'=y,$直接计算可得$x''=y\\frac{\\mathrm d y}{\\mathrm d x},$于是原方程化为$xy\\frac{\\mathrm d y}{\\mathrm d x}-y^2+y^3=0.$  \n",
    "得$y=0或x\\frac{\\mathrm d y}{\\mathrm d x}-y+y^2=0$  \n",
    "积分后，得$\\frac{y}{y-1}=x+e^c$  \n",
    "即$x'=\\frac{c'x}{c'x-1}$  \n",
    "得通解为$x+c_1ln|x|=t+c_2,x=c$"
   ]
  },
  {
   "cell_type": "markdown",
   "metadata": {},
   "source": [
    "**(4)$x''+\\sqrt{1-(x')^2}=0$**  \n",
    "**解：**令$x'=y$,直接计算可得$x''=y\\frac{\\mathrm d y}{\\mathrm d x}$,于是原方程化为$y\\frac{\\mathrm d y}{\\mathrm d x}+\\sqrt{1-y^2}=0$  \n",
    "积分后得$\\sqrt{1-y^2}=x+c$  \n",
    "即$x'=\\pm\\sqrt{1-(x+c)^2}$  \n",
    "得通解为$x=cos(t+c_1)+c_2或x=sin(t+c_1)+c_2,x=\\pm t+c$"
   ]
  },
  {
   "cell_type": "markdown",
   "metadata": {},
   "source": [
    "**(6)$x''-\\frac{1}{t}x'+(x')^2=0$**  \n",
    "**解：**令$x'=y$,直接计算可得$x''=y\\frac{\\mathrm d y}{\\mathrm d x}$,于是原方程化为$y\\frac{\\mathrm d y}{\\mathrm d x}-\\frac{1}{t}y+y^2=0$  \n",
    "得$y=0或\\frac{\\mathrm d y}{\\mathrm d x}-\\frac{1}{t}+y=0$  \n",
    "积分后得$-ln|\\frac{1}{t}-y|=x+c$  \n",
    "即$-ln|\\frac{1}{t}-x'|=x+c$  \n",
    "得通解为$e^x=c_2(t^2+c_1),x=c$"
   ]
  },
  {
   "cell_type": "markdown",
   "metadata": {},
   "source": [
    "**2.用幂级数解法求解下列方程：**  \n",
    "**(2)$(1-t)x''+x=0$**  \n",
    "**解：**设$$x=a_0+a_1t+a_2t^2+\\cdots+a_nx^n+\\cdots$$为方程的解，这里$a_i(i=0,1,2,\\cdots,n,\\cdots)$是待定常数，将它对$t$微分两次，有\n",
    "$$x''=2\\cdot1a_2+3\\cdot2a_3t+\\cdots+n(n-1)a_nt^{n-2}+(n+1)na_{n+1}t^{n-1}+\\cdots$$  \n",
    "将$x,x''$的表达式代入方程，并比较$x$的同次幂的系数，得到  \n",
    "\\begin{align}\n",
    "a_{2n}=0,n=0,1,2,\\cdots\\\\\n",
    "a_{2n-1}=\\frac{(-1)^{n+1}}{1\\cdot3\\cdot5\\cdot\\cdots\\cdot(2n-1)},n=1,2,\\cdots\n",
    "\\end{align}\n",
    "得方程的通解为$$x=t-\\frac{1}{3}t^3+\\frac{1}{1\\cdot3\\cdot5}t^5-\\cdots+\\frac{(-1)^{n+1}}{1\\cdot3\\cdot5\\cdot\\cdots\\cdot(2n-1)}t^{2n-1}+\\cdots$$"
   ]
  },
  {
   "cell_type": "markdown",
   "metadata": {},
   "source": [
    "**P201**  \n",
    "**2.将下面的初值问题化为与之等价的一阶方程组的初值问题**  \n",
    "**(3)\\begin{cases}\n",
    "x''+5y'-7x+6y=e^t,\\\\\n",
    "y''-2y+13y'-15x=cos\\ t,\n",
    "\\end{cases}\n",
    "$$x(0)=1,x'(0)=0,y(0)=0,y'(0)=1$$**"
   ]
  },
  {
   "cell_type": "markdown",
   "metadata": {},
   "source": [
    "**解：**令$w_1=x,w_2=x',w_3=y,w_4=y'$,则原初值问题可化为：\n",
    "\\begin{cases}\n",
    "w_1'=x'=w_2,\\\\\n",
    "w_2'=x''=-5w_4+7w_1-6w_3+e^t,\\\\\n",
    "w_3'=y'=w_4,\\\\\n",
    "w_4'=y''=2w_3-13w_4+15w_1+cos\\ t,\n",
    "\\end{cases}\n",
    "且\\begin{cases}\n",
    "w_1(0)=x(0)=1,\\\\\n",
    "w_2(0)=x'(0)=0,\\\\\n",
    "w_3(0)=y(0)=0,\\\\\n",
    "w_4(0)=y'(0)=1,\n",
    "\\end{cases}\n",
    "即$$w=\\left[\\begin{matrix}\n",
    "0&1&0&0\\\\\n",
    "7&0&-6&-5\\\\\n",
    "0&0&0&1\\\\\n",
    "15&0&2&-13\n",
    "\\end{matrix}\\right]w\n",
    "+\\left[\\begin{matrix}\n",
    "0\\\\\n",
    "e^t\\\\\n",
    "0\\\\\n",
    "cos\\ t\n",
    "\\end{matrix}\\right]$$\n",
    "$$w(0)=\\left[\\begin{matrix}\n",
    "1\\\\\n",
    "0\\\\\n",
    "0\\\\\n",
    "1\n",
    "\\end{matrix}\\right]  \n",
    "其中w=\\left[\\begin{matrix}\n",
    "w_1\\\\\n",
    "w_2\\\\\n",
    "w_3\\\\\n",
    "w_4\n",
    "\\end{matrix}\\right]\n",
    "$$\n"
   ]
  },
  {
   "cell_type": "markdown",
   "metadata": {},
   "source": [
    "**3.试用逐步逼近法求方程组\n",
    "$$x'=\\left[\\begin{matrix}\n",
    "0&1\\\\\n",
    "-1&0\n",
    "\\end{matrix}\\right]x,$$\n",
    "满足初值条件$$x(0)=\\left[\\begin{matrix}\n",
    "0\\\\\n",
    "1\n",
    "\\end{matrix}\\right]$$的第三次近似解.**"
   ]
  },
  {
   "cell_type": "markdown",
   "metadata": {},
   "source": [
    "**解：**\n",
    "\\begin{align}\n",
    "\\phi_0(t)&=\\left[\\begin{matrix}\n",
    "0\\\\\n",
    "1\n",
    "\\end{matrix}\\right]\\\\  \n",
    "\\phi_1(t)&=\\left[\\begin{matrix}\n",
    "0\\\\\n",
    "1\n",
    "\\end{matrix}\\right]+\\int_0^t{\\left[\\begin{matrix}\n",
    "0&1\\\\\n",
    "-1&0\n",
    "\\end{matrix}\\right]\\left[\\begin{matrix}\n",
    "0\\\\\n",
    "1\n",
    "\\end{matrix}\\right]\\,\\mathrm d s}\\\\\n",
    "&=\\left[\\begin{matrix}\n",
    "0\\\\\n",
    "1\n",
    "\\end{matrix}\\right]+\\left[\\begin{matrix}\n",
    "t\\\\\n",
    "0\n",
    "\\end{matrix}\\right]\\\\\n",
    "&=\\left[\\begin{matrix}\n",
    "t\\\\\n",
    "1\n",
    "\\end{matrix}\\right]\\\\\n",
    "\\phi_2(t)&=\\left[\\begin{matrix}\n",
    "0\\\\\n",
    "1\n",
    "\\end{matrix}\\right]+\\int_0^t{\\left[\\begin{matrix}\n",
    "0&1\\\\\n",
    "-1&0\n",
    "\\end{matrix}\\right]\\left[\\begin{matrix}\n",
    "s\\\\\n",
    "1\n",
    "\\end{matrix}\\right]\\,\\mathrm d s}\\\\\n",
    "&=\\left[\\begin{matrix}\n",
    "0\\\\\n",
    "1\n",
    "\\end{matrix}\\right]+\\left[\\begin{matrix}\n",
    "t\\\\\n",
    "-\\frac{t^2}{2}\n",
    "\\end{matrix}\\right]\\\\\n",
    "&=\\left[\\begin{matrix}\n",
    "t\\\\\n",
    "1-\\frac{t^2}{2}\n",
    "\\end{matrix}\\right]\\\\\n",
    "\\phi_3(t)&=\\left[\\begin{matrix}\n",
    "0\\\\\n",
    "1\n",
    "\\end{matrix}\\right]+\\int_0^t{\\left[\\begin{matrix}\n",
    "0&1\\\\\n",
    "-1&0\n",
    "\\end{matrix}\\right]\\left[\\begin{matrix}\n",
    "s\\\\\n",
    "1-\\frac{s^2}{2}\n",
    "\\end{matrix}\\right]\\,\\mathrm d s}\\\\\n",
    "&=\\left[\\begin{matrix}\n",
    "0\\\\\n",
    "1\n",
    "\\end{matrix}\\right]+\\left[\\begin{matrix}\n",
    "t-\\frac{t^3}{6}\\\\\n",
    "1-\\frac{t^2}{2}\n",
    "\\end{matrix}\\right]\\\\\n",
    "&=\\left[\\begin{matrix}\n",
    "t-\\frac{t^3}{6}\\\\\n",
    "2-\\frac{t^2}{2}\n",
    "\\end{matrix}\\right]\\\\\n",
    "\\end{align}"
   ]
  },
  {
   "cell_type": "markdown",
   "metadata": {},
   "source": [
    "# <font color='red'>A  25/11"
   ]
  },
  {
   "cell_type": "code",
   "execution_count": null,
   "metadata": {
    "collapsed": true
   },
   "outputs": [],
   "source": []
  }
 ],
 "metadata": {
  "kernelspec": {
   "display_name": "Python 2",
   "language": "python",
   "name": "python2"
  },
  "language_info": {
   "codemirror_mode": {
    "name": "ipython",
    "version": 2
   },
   "file_extension": ".py",
   "mimetype": "text/x-python",
   "name": "python",
   "nbconvert_exporter": "python",
   "pygments_lexer": "ipython2",
   "version": "2.7.10"
  }
 },
 "nbformat": 4,
 "nbformat_minor": 0
}
