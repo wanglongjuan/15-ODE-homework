{
 "cells": [
  {
   "cell_type": "markdown",
   "metadata": {
    "collapsed": false
   },
   "source": [
    "**$p_{182}$**"
   ]
  },
  {
   "cell_type": "markdown",
   "metadata": {},
   "source": [
    "1.求解下列方程：\n",
    "(2)$xx''-(x')^2+(x')^3=0$\n",
    "解：$方程不显含t，令y=x',则方程变形为xy\\frac{dy}{dx}-y^2+y^2=0,得到y=0,或\\frac{dy}{dx}=\\frac{y-y^2}{x},$\n",
    "\n",
    "$积分得\\frac{y}{1-y}=\\widetilde c x(\\widetilde c\\neq0),$\n",
    "\n",
    "即$y=\\frac{\\widetilde c x}{1+\\widetilde c x},从而得x'=\\frac{\\widetilde c x}{1+\\widetilde c x},$\n",
    "\n",
    "$积分得x+\\frac{1}{\\widetilde c}\\ln \\mid x\\mid =t+c_2.$\n",
    "\n",
    "$即方程有解x+c_1\\ln \\mid x\\mid =t+c_2.$\n",
    "\n",
    "$当y=0时有解x'=0,故x=c.$\n",
    "\n",
    "综上，方程的解为$x+c_1\\ln \\mid x\\mid =t+c_2或x=c,其中c_1,c_2,c是任意常数$\n",
    "\n"
   ]
  },
  {
   "cell_type": "markdown",
   "metadata": {},
   "source": [
    "(4)$x''+\\sqrt{1-(x')^2}=0$\n",
    "解:$方程不显含t,x,令y=x',则方程化为y \\frac{dy}{dx}+\\sqrt{1-y^2}=0.$\n",
    "\n",
    "当$y \\neq \\pm1时，方程又可以变形为\\frac{ydy}{\\sqrt{1-y^2}}=-dx,$\n",
    "\n",
    "$积分得\\sqrt{1-y^2}=x+c,$\n",
    "\n",
    "$即\\sqrt{1-x'^2}=x+c,故x'=\\neq \\sqrt{1-(x+c)^2},再次积分得$\n",
    "\n",
    "$当x'=\\sqrt{1-(x+c)^2}时,x=\\sin (t+c_1)-c_2;$\n",
    "\n",
    "$当x'=-\\sqrt{1-(x+c)^2}时，x=\\cos (t+c_1-c_2).$\n",
    "\n",
    "当$y=\\pm 1时，x'=\\pm 1,从而x=\\pm t+c.$\n",
    "\n",
    "$综上所述，原方程的解为x=\\sin(t+c_1)-c_2,或x=\\cos (t+c_1)-c_2,以及x=\\pm t+c,其中c_1,c_2,c 为任意常数.$"
   ]
  },
  {
   "cell_type": "markdown",
   "metadata": {},
   "source": [
    "(6)$x''-\\frac{1}{t}x'+(x')^2=0(提示：方程两端除以x')$\n",
    "\n",
    "$当x'\\neq 0 时，方程两边同时除以x'，则得到\\frac{x''}{x'}-\\frac{1}{t}+x'=0,即d(\\ln \\mid x'\\mid-\\ln \\mid t\\mid +x)=0,$\n",
    "\n",
    "$积分得\\ln \\mid \\frac{x'}{t}\\mid+x=c_1,$\n",
    "\n",
    "$解出x',则有x'=t(e^{-x+c_1}),在积分可得e^x=e^{c_1}(\\frac{t^2}{2})+c_2.$\n",
    "\n",
    "$由于c_1,c_2为任意常数，所以可以写为e^x=e^{c_1}(t^2+c_2).$\n",
    "\n",
    "$当x'=0时，即得x=c,显然他也是方程的解$\n",
    "\n",
    "$综上，方程的解为e^x=c_1(t^2+c_2)或x=c.$"
   ]
  },
  {
   "cell_type": "markdown",
   "metadata": {},
   "source": [
    "2.用幂级数解法求下列方程：\n",
    "\n",
    "\n",
    "$(2)(1-t)x''+x=0;$\n",
    "\n",
    "解：$方程化为x''+\\frac{x}{1-t}=0,因tp(t)=0，t^2q(t)=\\frac{t^2}{1-t},故存在幂级数解$\n",
    "\n",
    "设$x=a_0+a_1t+a_2t^2+a_3t^3+\\dotsb+a_nt^n+\\dotsb是方程的解,则$\n",
    "\n",
    "$x'=a_1+2a_2t+3a_3t^2+\\dotsb+na_nt^{n-1}+\\dotsb$\n",
    "\n",
    "$x''=2a_2+3·2a_3t+\\dotsb+n(n-1)a_nt^{n-2}+\\dotsb$\n",
    "\n",
    "$将x,x',x''的表达式代入原方程，比较同次幂级数，可得$\n",
    "\n",
    "$ 2a_2+a_0=0,3·2a_3-2a_2+a_1=0$\n",
    "\n",
    "$k(k-1)a_k-(k-1)(k-2)a_{k-1}+a_{k-2}+0,k>3.\\dotsb \\dotsb①$\n",
    "\n",
    "本方程的解应该为通解,因此需要找到两个线性无关的解.\n",
    "$设x_1(t)和x_2(t)是满足初值条件x_1(0)=0,x_1'(0)=1,x_2(0)=1,x_2'(0)=0的两个解$\n",
    "\n",
    "$对于x_1(t),显然有a_0=0,a_1=1,代入①式,$\n",
    "\n",
    "$可得a_2=0,a_3=\\frac{-1}{1·2·3}，a_4=\\frac{-1}{3·4}=\\frac{-2}{1·2·3·4}，a_5=\\frac{-5}{1·2·3·4·5}，a_n=\\frac{(n-1)(n-2)a_{n-1}-a_{n-2}}{n(n-1)},$\n",
    "\n",
    "$也就是x_1(t)=t-\\frac{t^3}{3!}-\\frac{2}{4!}t^4-\\dotsb ,$\n",
    "\n",
    "$对于x_2(t)，显然有a_0=1，a_1=0,代入①可得a_2=-\\frac{1}{2},a_3=\\frac{1}{1·2·3}，a_n=\\frac{(n-1)(n-2)a_{n-1}-a_{n-2}}{n(n-1)}，$\n",
    "\n",
    "$也就是x_2(t)=1-\\frac{1}{2!}t^2-\\frac{1}{3!}t^3-\\dotsb,$\n",
    "\n",
    "\n",
    "所以方程的通解为$x=c_1x_1(t)+c_2x_2(t).$"
   ]
  },
  {
   "cell_type": "markdown",
   "metadata": {},
   "source": [
    "**$p_{201}$**"
   ]
  },
  {
   "cell_type": "markdown",
   "metadata": {},
   "source": [
    "2.将下面的初值问题化为与之等价的一阶方程组的初值问题。\n",
    "\n",
    "$\\begin{cases} x''+5y'-7x+6y=e^t\\\\y''-2y+13y'-15x=cost,\\end{cases}$\n",
    "\n",
    "$x(0)=1,x'(0)=0,y(0)=0,y'(0)=1.$\n",
    "\n",
    "解：令$w_1=x,w_2=x',w_3=y,w_4=y',则原初值问题可化为：$\n",
    "\n",
    "$\\begin{cases}w_1'=x'=w_2\\\\w_2'=x''=-5w_4+7w_1-6w_3+e'\\\\w_3'=y'=w_4\\\\w_4'=y''=2w_3-13w_4+15w_1=cos t\\end{cases}$$且\\begin{cases}w_1(0)=x(0)=1\\\\w_2(0)=x'(0)=0\\\\w_3=y(0)=0\\\\w_4(0)=y(0)'=1\\end{cases}$\n",
    "\n",
    "即$w'=\\begin{bmatrix}\n",
    "0&1&0&0\\\\\n",
    "7&0&-6&-5\\\\\n",
    "0&0&0&1\\\\\n",
    "15&0&2&-13\\end{bmatrix} w +\\begin{bmatrix}0\\\\e^t\\\\0\\\\cost \\end{bmatrix}$\n",
    ",$w(0)=\\begin{bmatrix}1\\\\0\\\\0\\\\1\\end{bmatrix}$\n",
    "\n",
    "$其中w=\\begin{bmatrix}w_1\\\\w_2\\\\w_3\\\\w_4\\end{bmatrix}$"
   ]
  },
  {
   "cell_type": "markdown",
   "metadata": {},
   "source": [
    "3.试用逐步逼近法求方程方程组$x'=\\begin{bmatrix} 0&1\\\\-1&0\\end{bmatrix} x,$满足初值条件$x(0)=\\begin{bmatrix}0\\\\1\\end{bmatrix}$的第三次近似解.\n",
    "\n",
    "解：$$\\psi_0(t)=\\begin{bmatrix}0\\\\1\\end{bmatrix}$$\n",
    "\n",
    "\n",
    "$$\\psi_1(t)=\\begin{bmatrix}0\\\\1\\end{bmatrix}+\\int_0^t \\begin{bmatrix}0&1\\\\-1&0\\end{bmatrix}\\begin{bmatrix}0\\\\1\\end{bmatrix}\\,\\mathrm{d}s=\\begin{bmatrix}0\\\\1\\end{bmatrix}+\\begin{bmatrix}t\\\\0\\end{bmatrix}=\\begin{bmatrix}t\\\\1\\end{bmatrix};$$\n",
    "\n",
    "\n",
    "\n",
    "$$\\psi_2(t)=\\begin{bmatrix}0\\\\1\\end{bmatrix}+\\int_0^t \\begin{bmatrix}0&1\\\\-1&0\\end{bmatrix}\\begin{bmatrix}s\\\\1\\end{bmatrix}\\,\\mathrm{d}s=\\begin{bmatrix}0\\\\1\\end{bmatrix}+\\begin{bmatrix}t\\\\-\\frac{t^2}{2}\\end{bmatrix}=\\begin{bmatrix}t\\\\1-\\frac{t^2}{2}\\end{bmatrix};$$\n",
    "\n",
    "\n",
    "$$\\psi_3(t)=\\begin{bmatrix}0\\\\1\\end{bmatrix}+\\int_0^t \\begin{bmatrix}0&1\\\\-1&0\\end{bmatrix}\\begin{bmatrix}s\\\\1-\\frac{s^2}{2}\\end{bmatrix}\\,\\mathrm{d}s=\\begin{bmatrix}0\\\\1\\end{bmatrix}+\\begin{bmatrix}t-\\frac{t^3}{6}\\\\-\\frac{t^2}{2}\\end{bmatrix}=\\begin{bmatrix}t-\\frac{t^3}{6}\\\\1-\\frac{t^2}{2}\\end{bmatrix}$$\n",
    "\n",
    "$所以，满足初值条件x(0)=\\begin{bmatrix}0\\\\1\\end{bmatrix}的第三次近似解为\\psi_3(t)=\\begin{bmatrix}t-\\frac{t^3}{6}\\\\1-\\frac{t^2}{2}\\end{bmatrix}.$"
   ]
  },
  {
   "cell_type": "markdown",
   "metadata": {
    "collapsed": true
   },
   "source": [
    "# <font color='red'>A  25/11"
   ]
  },
  {
   "cell_type": "code",
   "execution_count": null,
   "metadata": {
    "collapsed": true
   },
   "outputs": [],
   "source": []
  }
 ],
 "metadata": {
  "kernelspec": {
   "display_name": "Python 2",
   "language": "python",
   "name": "python2"
  },
  "language_info": {
   "codemirror_mode": {
    "name": "ipython",
    "version": 2
   },
   "file_extension": ".py",
   "mimetype": "text/x-python",
   "name": "python",
   "nbconvert_exporter": "python",
   "pygments_lexer": "ipython2",
   "version": "2.7.10"
  }
 },
 "nbformat": 4,
 "nbformat_minor": 0
}
