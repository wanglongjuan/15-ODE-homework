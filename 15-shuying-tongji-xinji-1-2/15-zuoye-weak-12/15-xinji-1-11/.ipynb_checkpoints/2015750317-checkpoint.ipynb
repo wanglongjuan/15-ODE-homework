{
 "cells": [
  {
   "cell_type": "markdown",
   "metadata": {},
   "source": [
    "（2）"
   ]
  },
  {
   "cell_type": "markdown",
   "metadata": {},
   "source": [
    "$xx\"-{(x')}^2+{(x')}^3=0$\n",
    "\n",
    "方程不显含$t$，令$y=x'$，则变形为$xy\\frac{\\mathrm d y}{\\mathrm d x}-y^2+y^3=0,$得到$y=0$或$\\frac{\\mathrm d y}{\\mathrm d x}=\\frac{y--y^2}{x}$\n",
    "\n",
    "积分后得$\\frac{y}{1-y}=cx(c\\neq 0),$\n",
    "\n",
    "即$y=\\frac{cx}{1+cx},$，从而$x'=\\frac{cx}{1+cx}$\n",
    "\n",
    "积分得$x+\\frac{1}{c}\\ln|x|=t+c_2$\n",
    "\n",
    "即$x+c_1\\ln|x|=t+c_2$\n",
    "\n",
    "当$y=0$时得$x'=0$,故$x=c$\n",
    "\n",
    "得$x+c_1\\ln|x|=t+c_2$或$x=c$，其中$c_1,c_2,c$是任意常数。"
   ]
  },
  {
   "cell_type": "markdown",
   "metadata": {},
   "source": [
    "（4）"
   ]
  },
  {
   "cell_type": "markdown",
   "metadata": {},
   "source": [
    "$x\"+\\sqrt{1-{(x')}^2}=0$\n",
    "\n",
    "解：方程不显含$t,x,$令$y=x',$则方程化为$y\\frac{\\mathrm d y}{\\mathrm d x}+\\sqrt{1-y^2}=0$\n",
    "\n",
    "当$y\\neq \\pm 1$时，方程又可以变形为$\\frac{y\\mathrm d y}{\\sqrt{1-y^2}}=-\\mathrm d x$\n",
    "\n",
    "积分得$\\sqrt{1-y^2}=x+c$\n",
    "\n",
    "即$x'=\\pm\\sqrt{1-{(x+c)}^2}$\n",
    "\n",
    "再次积分\n",
    "\n",
    "当$(1)x'=-\\sqrt{1-{(x+c)}^2}$时，$x=\\sin (t+c_1)+c_2$\n",
    "\n",
    "当$(2)x'=-\\sqrt{1-{(x+c)}^2}$时$x=\\cos (t+c_1)+c_2$\n",
    "\n",
    "当$y=\\pm 1$时$,x'=\\pm 1$从而$x=\\pm t+c$\n",
    "\n",
    "即解为$x=\\sin(t+c_1)+c_2$或$x=\\cos(t+c_1)+c_2$,以及$x=\\pm t+c$"
   ]
  },
  {
   "cell_type": "markdown",
   "metadata": {},
   "source": [
    "（6）"
   ]
  },
  {
   "cell_type": "markdown",
   "metadata": {},
   "source": [
    "$(6)x\"-\\frac{1}{t}x'+{(x')}^2=0$\n",
    "\n",
    "当$x'\\neq 0$时，方程两边同除以$x'$，则得到$\\frac{x\"}{x'}-\\frac{1}{t}+x'=0$,即$\\mathrm d(\\ln|x'|-\\ln|t|+x)=0$\n",
    "\n",
    "积分$\\ln|\\frac{x'}{t}|+x=c_1$\n",
    "\n",
    "得$x'=t(e^{-x+c_1})$再次积分$e^x=e^{c_1}(\\frac{t^2}{2})+c_2$\n",
    "\n",
    "所以方程的解为$e^x=c_1'(t^2+c'_2)$或$x=c$"
   ]
  },
  {
   "cell_type": "markdown",
   "metadata": {},
   "source": [
    "（2）"
   ]
  },
  {
   "cell_type": "markdown",
   "metadata": {},
   "source": [
    "$(2)(1-t)x\"+x=0$\n",
    "\n",
    "方程可化为$x\"+\\frac{x}{1-t}=0$,因$tp(t)=0,q(t)=\\frac{t^2}{1-t}$故存在解。\n",
    "\n",
    "设$x=a_0+a_1t+\\cdots +a_nt^n+\\cdots$是方程的解，则\n",
    "\n",
    "$x'=a_1+2a_2t+\\cdots+na_nt^{n-1}+\\cdots$\n",
    "\n",
    "$x\"=2a_2+6a_3t+\\cdots+n(n-1)a_nt^{n-2}+\\cdots$\n",
    "\n",
    "将$x,x',x\"$的表达式代入原方程，得\n",
    "\n",
    "$2a_2+a_0+0,6a_3-2a_2+a_1=0$\n",
    "\n",
    "$k(k-1)a_k-(k-1)(k-2)a_{k-1}+a_{k-2}=0$\n",
    "\n",
    "设$x_1(t)$和$x_2(t)$满足初值条件$x_1(0)=0,x_2(0)=1,x'_1(0)=1,x_2(0)=0$的两个解\n",
    "\n",
    "对于$x_1(t)$显然有$a_0=0,a_1=1,$代入   得\n",
    "\n",
    "$a_2=0,a_3=\\frac{-1}{6},a_4=\\frac{-1}{12},a_n=\\frac{(n-1)(n-2)a_{n-1}-a_{n-2}}{(n-1)n}$\n",
    "\n",
    "也就是$x_1(t)=t-\\frac{t^3}{3!}-\\frac{2}{4!}t^4-\\frac{5}{5!}t^5-\\frac{18}{6!}t^6-\\cdots$\n",
    "\n",
    "对于$x_2(t)$有$a_0=1,a_1=0$代入，得\n",
    "\n",
    "$a_2=-\\frac{1}{2} ,a_3=\\frac{-1}{6},a_4=\\frac{-1}{24},\\cdots,a_n=\\frac{(n-1)(n-2)a_{n-1}-a_{n-2}}{n(n-1)}$\n",
    "\n",
    "即$x_2(t)=1-\\frac{1}{2!}t^2-\\frac{1}{3!}t^3-\\frac{1}{4!}t^4-\\cdots$\n",
    "\n",
    "即通解为$x=c_1x_1(t)+c_2x_2(t)=c_1(t-\\frac{t^3}{3!}-\\frac{2}{4!}t^4-\\frac{5}{5!}t^5-\\frac{18}{6!}t^6-\\cdots)+c_2(1-\\frac{1}{2!}t^2-\\frac{1}{3!}t^3-\\frac{1}{4!}t^4-\\cdots)$"
   ]
  },
  {
   "cell_type": "markdown",
   "metadata": {},
   "source": [
    "（3）"
   ]
  },
  {
   "cell_type": "markdown",
   "metadata": {},
   "source": [
    "解：令$w_1=x,w_2=x',w_3=y,w_4=y',$则原初值问题可化为：\n",
    "$\\begin{cases}{w-1}'=x'=w_2\\\\{w_2}'=x\"=-5w_4+7w_1-6w_3+e^t\\\\{w_3}'=y'=w_4\\\\{w_4}'=y\"=2w_3-13w_4+15w_1+\\cos t \\\\\\end{cases}$\n",
    "\n",
    "且$\\begin{cases}w_1(0)=x(0)=1\\\\w_2(0)=x'(0)=0\\\\w_3(0)=y(0)=0\\\\w_4(0)=y'(0)=1\\\\\\end{cases}$\n",
    "\n",
    "即  $w'=\\begin{bmatrix}0&1&0&0\\\\7&0&-6&-5\\\\0&0&0&1\\\\15&0&2&-13\\end{bmatrix}w+\\begin{bmatrix}0\\\\e^t\\\\0\\\\ \\cos t\\end{bmatrix}$\n",
    "\n",
    "$w(0)=\\begin{bmatrix}1\\\\0\\\\0\\\\1\\end{bmatrix}$\n",
    "\n",
    "其中$w=\\begin{bmatrix}w_1\\\\w_2\\\\w_3\\\\w_4\\end{bmatrix}$"
   ]
  },
  {
   "cell_type": "markdown",
   "metadata": {},
   "source": [
    "3.试用逐步逼近法求方程组\n",
    "\n",
    "$$\\textbf{x'}=\\begin{bmatrix}0 & 1\\\\-1&0\\end{bmatrix}\\textbf x$$,\n",
    "\n",
    "满足初值条件\n",
    "\n",
    "$$\\textbf{x(0)}=\\begin{bmatrix}0\\\\1\\end{bmatrix}$$\n",
    "\n",
    "的第三次近似解。"
   ]
  },
  {
   "cell_type": "markdown",
   "metadata": {},
   "source": [
    "$\\textbf{\\Psi}_0(t)=\\begin{bmatrix}0\\\\1\\end{bmatrix};$"
   ]
  },
  {
   "cell_type": "markdown",
   "metadata": {},
   "source": [
    "$\\textbf{\\Psi}_1(t)=\\begin{bmatrix}0\\\\1\\end{bmatrix}+\\int_0^1\\begin{bmatrix}0&1\\\\-1&0\\end{bmatrix}\\begin{bmatrix}0\\\\1\\end{bmatrix}\\mathrm d s=\\begin{bmatrix}t\\\\1\\end{bmatrix}$"
   ]
  },
  {
   "cell_type": "markdown",
   "metadata": {},
   "source": [
    "${\\textbf\\Psi}_2(t)=\\begin{bmatrix}t\\\\1-\\frac{t^2}{2}\\end{bmatrix}$"
   ]
  },
  {
   "cell_type": "markdown",
   "metadata": {},
   "source": [
    "$\\textbf\\Psi_3(t)=\\begin{bmatrix}t-\\frac{t^3}{6}\\\\1-\\frac{t^2}{2}\\end{bmatrix}$"
   ]
  },
  {
   "cell_type": "markdown",
   "metadata": {},
   "source": [
    "所以满足初值条件$\\textbf x(0)=\\begin{bmatrix}0\\\\1\\end{bmatrix}$的第三次近似解为\n",
    "\n",
    "$$\\textbf\\Psi_3(t)=\\begin{bmatrix}t-\\frac{t^3}{6}\\\\1-\\frac{t^2}{2}\\end{bmatrix}$$"
   ]
  },
  {
   "cell_type": "markdown",
   "metadata": {},
   "source": [
    "# <font color='red'>A  25/11"
   ]
  },
  {
   "cell_type": "code",
   "execution_count": null,
   "metadata": {
    "collapsed": true
   },
   "outputs": [],
   "source": []
  }
 ],
 "metadata": {
  "kernelspec": {
   "display_name": "SageMath 7.3",
   "language": "",
   "name": "sagemath"
  },
  "language_info": {
   "codemirror_mode": {
    "name": "ipython",
    "version": 2
   },
   "file_extension": ".py",
   "mimetype": "text/x-python",
   "name": "python",
   "nbconvert_exporter": "python",
   "pygments_lexer": "ipython2",
   "version": "2.7.10"
  }
 },
 "nbformat": 4,
 "nbformat_minor": 0
}
