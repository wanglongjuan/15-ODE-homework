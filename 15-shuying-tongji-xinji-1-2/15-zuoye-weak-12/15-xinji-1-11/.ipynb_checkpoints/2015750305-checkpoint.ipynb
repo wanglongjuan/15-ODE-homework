{
 "cells": [
  {
   "cell_type": "markdown",
   "metadata": {},
   "source": [
    "$一\\quad 求解下列方程：$"
   ]
  },
  {
   "cell_type": "markdown",
   "metadata": {},
   "source": [
    "$1\\quad x x^{{\\prime}{\\prime}}-(x^{\\prime})^2+(x^{\\prime})^3=0;$\n",
    "\n",
    "$解\\quad 令x^{\\prime}=y,则方程化为xy \\frac{dy}{dx}-y^2+y^3=0,得到y=0或者\\frac{dy}{dx}=\\frac {y-y^2}{x},$\n",
    "\n",
    "$积分后得\\frac{y}{1-y}=c_1 x(c_1\\neq 0),即\\frac {x^{\\prime}}{1-x^{\\prime}}=c_1 x,$"
   ]
  },
  {
   "cell_type": "markdown",
   "metadata": {},
   "source": [
    "$再次积分得到 x+\\frac {1}{c_1}\\ln |x|=t+c_2.$\n",
    "\n",
    "$当y=0时，得x^{\\prime}=0,故x=c.综合起来，方程的解为$\n",
    "$$x+\\frac {1}{c_1}\\ln |x|=t+c_2或x=c,$$\n",
    "$这里c_1,c_2,c是任意常数.$"
   ]
  },
  {
   "cell_type": "markdown",
   "metadata": {},
   "source": [
    "$2\\quad x^{{\\prime}{\\prime}}+\\sqrt {1-(x^{\\prime})^2}=0;$"
   ]
  },
  {
   "cell_type": "markdown",
   "metadata": {},
   "source": [
    "$解\\quad 令x^{\\prime}=y,则方程化为 y\\frac {dy}{dx}+\\sqrt{1-y^2}=0.$"
   ]
  },
  {
   "cell_type": "markdown",
   "metadata": {},
   "source": [
    "$当y=\\pm 1时，即x^{\\prime}=\\pm 1,则x=\\pm t+c_1.$\n",
    "\n",
    "$当y\\neq \\pm 1时，方程又可以变形为\\frac {ydy}{\\sqrt {1-y^2}}=-dx$\n",
    "\n",
    "$积分后得到\\sqrt {1-y^2}=x+c.即\\sqrt {1-{x^{\\prime}}^2}=x+c,或者x^{\\prime}=\\pm \\sqrt{1-(x+c)^2},$"
   ]
  },
  {
   "cell_type": "markdown",
   "metadata": {},
   "source": [
    "$再次积分得到$\n",
    "\n",
    "$\\quad \\quad A:当x^{\\prime}=+\\sqrt{1-(x+c)^2}时,x=sin(t+c_1)-c;$\n",
    "\n",
    "$\\quad \\quad B:当x^{\\prime}=-\\sqrt{1-(x+c)^2}时,x=cos(t+c_1)-c.$"
   ]
  },
  {
   "cell_type": "markdown",
   "metadata": {},
   "source": [
    "$综合以上几种情况，即得原方程的解为$\n",
    "\n",
    "$x=sin(t+c_1)-c,或x=cos(t+c_1)-c,以及x=\\pm t+c_1,这里c_1,c是任意常数.$"
   ]
  },
  {
   "cell_type": "markdown",
   "metadata": {},
   "source": [
    "$3\\quad x^{{\\prime}{\\prime}}-\\frac {1}{t}x^{\\prime}+(x^{\\prime})^2=0$"
   ]
  },
  {
   "cell_type": "markdown",
   "metadata": {},
   "source": [
    "$解\\quad 当x^{\\prime}\\neq 0时，方程两边同除以x^{\\prime}，则得到$\n",
    "$$\\frac{x^{{\\prime}{\\prime}}}{x^{\\prime}}-\\frac {1}{t}+x^{\\prime}=0$$\n",
    "$即d(\\ln|x^{\\prime}|-\\ln|t|+x)=0$\n",
    "\n",
    "$积分可得\\ln|\\frac {x^{\\prime}}{t}+x=c_1,解出x^{\\prime},则有x^{\\prime}=t(e^{-x+c_1}),$\n",
    "\n",
    "$再次积分可得e^x=e^{c_1}(\\frac {t^2}{2})+c_2.$"
   ]
  },
  {
   "cell_type": "markdown",
   "metadata": {},
   "source": [
    "$由于这里的c_1,c_2是任意常数，所以可以写成e^x=c_1(t^2+c_2).当x^{\\prime}=0时，即得x=c,显然它也是原方程的解$\n",
    "\n",
    "$综合起来，方程的解是 e^x=c_1(t^2+c_2)或x=c$"
   ]
  },
  {
   "cell_type": "markdown",
   "metadata": {},
   "source": [
    "$二\\quad 用幂级数解法求解下列方程：$"
   ]
  },
  {
   "cell_type": "markdown",
   "metadata": {},
   "source": [
    "$\\quad \\quad (1-t)x^{{\\prime}{\\prime}}+x=0$"
   ]
  },
  {
   "cell_type": "markdown",
   "metadata": {},
   "source": [
    "$解\\quad 设x=a_o+a_1t+a_2t^2+a_3t^3+\\cdots 是方程的解，则x^{\\prime}=a_1+2a_2t+3a_3t^2+\\cdots +na_nt^{n-1}+\\cdots,$\n",
    "\n",
    "$x^{{\\prime}{\\prime}}=2a_2+3*2a_3t+\\cdots +n(n-1)a_n t^{n-2}+\\cdots.$"
   ]
  },
  {
   "cell_type": "markdown",
   "metadata": {},
   "source": [
    "$把x_1,x^{\\prime},x^{{\\prime}{\\prime}}的表达式代入原方程，合并t的各同次幂的项，并令各项系数等于零，得到$"
   ]
  },
  {
   "cell_type": "markdown",
   "metadata": {},
   "source": [
    "$\\begin{cases} a_o+2a_2=0 \\\\ a_1-2a_2+3*2a_3=0,,\\\\ n(n-1)a_n-(n-1)(n-2)a_{n-1}+a_{n-2}=0 \\end{cases}$"
   ]
  },
  {
   "cell_type": "markdown",
   "metadata": {},
   "source": [
    "$由于本题设有初值条件，所以求出的应该是方程的通解，为此需要找到两个线性无关的解$"
   ]
  },
  {
   "cell_type": "markdown",
   "metadata": {},
   "source": [
    "$设x_1(t)和x_2(t)是满足初值条件x_1(0)=0,x^{\\prime}_1(0)=1,x_2(0)=1,x^{\\prime}_2(0)=0的两个解.$\n",
    "\n",
    "$对于x_1(t),显然有a_o=0,a_1=1,代入上式可得a_2=0,a_3=\\frac {-1}{3*2},a_4=\\frac{-1}{4*3}=\\frac{-2}{4*3*2},a_5=\\frac{-5}{5*4*3*2},\\cdots$\n",
    "$a_n=\\frac {(n-1)(n-2)a_{n-1}-a_{n-2}}{n(n-1)},也就是x_1(t)=t-\\frac{t^3}{3!}-\\frac {2t^4}{4!}-\\frac {5t^5}{5!}\\cdots$"
   ]
  },
  {
   "cell_type": "markdown",
   "metadata": {},
   "source": [
    "$对于x_2(t),显然有a_o=1,a_1=0,代入上式可得a_2=-\\frac{1}{2},a_3=\\frac{-1}{3*2},a_4=\\frac{-1}{4*3*2},\\cdots$\n",
    "$a_n=\\frac {(n-1)(n-2)a_{n-1}-a_{n-2}}{n(n-1)},也就是说x_2(t)=1-\\frac{t^2}{2!}-\\frac{t^3}{3!}-\\frac{t^4}{4!}-\\cdots$\n",
    "\n",
    "$所以方程的通解为$\n",
    "$$x=c_1x_1(t)+c_2x_2(t)=c_1(t-\\frac{t^3}{3!}-\\frac {2t^4}{4!}-\\frac {5t^5}{5!}\\cdots)+\n",
    "c_2(1-\\frac{t^2}{2!}-\\frac{t^3}{3!}-\\frac{t^4}{4!}\\cdots)$$"
   ]
  },
  {
   "cell_type": "markdown",
   "metadata": {
    "collapsed": true
   },
   "source": [
    "$三\\quad 将下列初值问题化为与之等价的一阶方程组的初值问题：$"
   ]
  },
  {
   "cell_type": "markdown",
   "metadata": {},
   "source": [
    "$\\quad \\quad \\begin{cases} x^{{\\prime}{\\prime}}+5y^{\\prime}-7x+6y=e^t \\\\ y^{{\\prime}{\\prime}}-2y+13y^{\\prime}-15x=cost \\end{cases}$\n",
    "$x(0)=1,x^{\\prime}(0)=0,y(0)=0,y^{\\prime}(0)=1$"
   ]
  },
  {
   "cell_type": "markdown",
   "metadata": {},
   "source": [
    "$解  令w_1=x,w_2=x^{\\prime},w_3=y,w_4=y^{\\prime},则化为方程组$\n",
    "$\\begin{bmatrix} w_1 \\\\ w_2 \\\\ w_3 \\\\ w_4 \\\\ \\end{bmatrix}^{\\prime}=\\begin{bmatrix} 0&1&0&0 \\\\7&0&-6&-5 \\\\0&0&0&1\\\\15&0&2&-13 \\\\ \\end{bmatrix} \\begin{bmatrix} w_1 \\\\ w_2 \\\\ w_3 \\\\ w_4 \\\\ \\end{bmatrix}+\\begin{bmatrix} 0 \\\\ e^t \\\\ 0 \\\\ cost \\\\ \\end{bmatrix}$"
   ]
  },
  {
   "cell_type": "markdown",
   "metadata": {},
   "source": [
    "$初值条件为w_1(0)=1,w_2(0)=0,w_3(0)=0,w_4(0)=1.$"
   ]
  },
  {
   "cell_type": "markdown",
   "metadata": {},
   "source": [
    "$四\\quad 试用逐步逼近法求方程组x^{\\prime}=\\begin{bmatrix} 0&1 \\\\-1&0 \\\\ \\end{bmatrix}x,满足初值条件x(0)=\\begin{bmatrix} 0\\\\1\\\\ \\end{bmatrix}\n",
    "的第三次近似解.$"
   ]
  },
  {
   "cell_type": "markdown",
   "metadata": {},
   "source": [
    "$解\\quad \\varphi_o(t)=\\begin{bmatrix} 0\\\\1\\\\ \\end{bmatrix}$\n",
    "\n",
    "$\\varphi_1(t)=\\begin{bmatrix} 0\\\\1\\\\ \\end{bmatrix}+\n",
    "\\int_0^t \\begin{bmatrix} 0&1\\\\-1&0\\\\ \\end{bmatrix}\\begin{bmatrix} 0\\\\1\\\\ \\end{bmatrix}ds$\n",
    "$=\\begin{bmatrix} 0\\\\1\\\\ \\end{bmatrix}+\\begin{bmatrix} t\\\\0\\\\ \\end{bmatrix}=\\begin{bmatrix} t\\\\1\\\\ \\end{bmatrix}$"
   ]
  },
  {
   "cell_type": "markdown",
   "metadata": {},
   "source": [
    "$\\varphi_2(t)=\\begin{bmatrix} 0\\\\1\\\\ \\end{bmatrix}+\\int_0^t \\begin{bmatrix} 0&1\\\\-1&0\\\\ \\end{bmatrix}\\begin{bmatrix} t\\\\1\\\\ \\end{bmatrix}dt$\n",
    "$=\\begin{bmatrix} 0\\\\1\\\\ \\end{bmatrix}+\\begin{bmatrix} t\\\\ -\\frac{t^2}{2}\\\\ \\end{bmatrix}=\\begin{bmatrix} t\\\\1-\\frac{t^2}{2}\\\\ \\end{bmatrix},$"
   ]
  },
  {
   "cell_type": "markdown",
   "metadata": {},
   "source": [
    "$\\varphi_1(t)=\\begin{bmatrix} 0\\\\1\\\\ \\end{bmatrix}+\\int_0^t \\begin{bmatrix} 0&1\\\\-1&0\\\\ \\end{bmatrix}\n",
    "\\begin{bmatrix} s\\\\1-\\frac{s^2}{2}\\\\ \\end{bmatrix}ds=\\begin{bmatrix} 0\\\\1\\\\ \\end{bmatrix}+\n",
    "\\begin{bmatrix} t-\\frac{t^3}{6}\\\\ -\\frac{t^2}{2}\\\\ \\end{bmatrix}=\\begin{bmatrix} t-\\frac{t^3}{6}\\\\ 1-\\frac{t^2}{2}\\\\ \\end{bmatrix},$"
   ]
  },
  {
   "cell_type": "markdown",
   "metadata": {},
   "source": [
    "$所以满足初值条件x(0)=\\begin{bmatrix} 0\\\\1\\\\ \\end{bmatrix}的第三次近似解为\\varphi_3(t)=\\begin{bmatrix} t-\\frac{t^3}{6}\\\\ 1-\\frac{t^2}{2}\\\\ \\end{bmatrix}$"
   ]
  },
  {
   "cell_type": "markdown",
   "metadata": {
    "collapsed": true
   },
   "source": [
    "# <font color='red'>A  25/11"
   ]
  },
  {
   "cell_type": "code",
   "execution_count": null,
   "metadata": {
    "collapsed": true
   },
   "outputs": [],
   "source": []
  }
 ],
 "metadata": {
  "kernelspec": {
   "display_name": "SageMath 7.3",
   "language": "",
   "name": "sagemath"
  },
  "language_info": {
   "codemirror_mode": {
    "name": "ipython",
    "version": 2
   },
   "file_extension": ".py",
   "mimetype": "text/x-python",
   "name": "python",
   "nbconvert_exporter": "python",
   "pygments_lexer": "ipython2",
   "version": "2.7.10"
  }
 },
 "nbformat": 4,
 "nbformat_minor": 0
}
