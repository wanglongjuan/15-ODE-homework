{
 "cells": [
  {
   "cell_type": "markdown",
   "metadata": {},
   "source": [
    "1.求解下列方程："
   ]
  },
  {
   "cell_type": "markdown",
   "metadata": {},
   "source": [
    "（1）$xx''-(x')^2+(x')^3=0$"
   ]
  },
  {
   "cell_type": "markdown",
   "metadata": {},
   "source": [
    "（2)$x''+\\sqrt{1-(x')^2}=0$"
   ]
  },
  {
   "cell_type": "markdown",
   "metadata": {},
   "source": [
    "（3)$x''-\\frac1 t x'+(x')^2=0$(提示：方程两边除以$x'$)"
   ]
  },
  {
   "cell_type": "markdown",
   "metadata": {},
   "source": [
    "解：（1）令$x'=y$,则方程化为  \n",
    "\n",
    "$xy\\frac{\\rm dy}{\\rm dx}-y^2+y^3=0$  \n",
    "\n",
    "得$y=0或者\\frac{\\rm dy}{\\rm dx}=\\frac{y-y^2}{x}$  \n",
    "\n",
    "积分后得$\\frac y{1-y}=c_1x  (c_1\\neq0),$  \n",
    "\n",
    "即$\\frac{x'}{1-x'}=c_1x,$  \n",
    "\n",
    "再次积分得到$x+\\frac 1 {c_1}ln|x|=t+c_2$  \n",
    "\n",
    "当$y=0$时，得$x'=0$，故$x=c$。  \n",
    "\n",
    "综合起来，方程的解为$x+\\frac 1 {c_1}ln|x|=t+c_2或x=c,$  \n",
    "\n",
    "这里$c_1,c_2,c$是任意常数."
   ]
  },
  {
   "cell_type": "markdown",
   "metadata": {},
   "source": [
    "（2）令$x'=y$，则方程化为\n",
    "$$y\\frac{\\rm dy}{\\rm dx}+\\sqrt{1-y^2}=0$$\n",
    "当$y=\\pm1$时，即$x'=\\pm1$，则$x=\\pm t+c_1$  \n",
    "当$y\\neq\\pm1$时，方程又可以变形为$$\\frac{y{\\rm d}y}{\\sqrt{1-y^2}}=-{\\rm d}x$$\n",
    "积分后得到$$\\sqrt{1-y^2}=x+c$$\n",
    "也就是$$\\sqrt{1-x'^2}=x+c,或者x'=\\pm\\sqrt{1-{(x+c)}^2}$$\n",
    "再次积分则得到  \n",
    "①当$x'=\\sqrt{1-{(x+c)}^2}$时，$x=sin(t+c_1)-c$  \n",
    "②当$x'=-\\sqrt{1-{(x+c)}^2}$时，$x=cos(t+c_1)-c$  \n",
    "综合以上几种情况，即得原方程的解为  \n",
    "$x=sin(t+c_1)-c$，或$x=cos(t+c_1)-c$，以及$x=\\pm t+c_1$ \n",
    "这里$c_1$，$c$是任意常数"
   ]
  },
  {
   "cell_type": "markdown",
   "metadata": {},
   "source": [
    "（3）当$x'\\neq0$时，方程两边除以$x'$，则得到\n",
    "$$\\frac {x''} {x'}-\\frac 1 t+x'=0$$\n",
    "即$$\\rm d(ln|x'|-ln|t|+x)=0$$\n",
    "两边积分可得$$ln|{\\frac {x'} t}|+x=c_1$$\n",
    "解出$x'$，则有$$x'=t(e^{-x+c_1})$$  \n",
    "再次积分可得$$e^x=e^{c_1}(\\frac {t^2}2)+c_2$$  \n",
    "由于这里的$c_1$，$c_2$是任意常数，所以可以写成\n",
    "$$e^x=c_1(t^2+c_2)$$\n",
    "当$x'=0$时，即得$x=c$，显然它也是原方程的解  \n",
    "综上所述，方程的解是\n",
    "$$e^x=c_1(t^2+c_2)或x=c$$"
   ]
  },
  {
   "cell_type": "markdown",
   "metadata": {},
   "source": [
    "2.用幂级数解法求解下列方程："
   ]
  },
  {
   "cell_type": "markdown",
   "metadata": {},
   "source": [
    "（1）$（1-t）x''+x=0$"
   ]
  },
  {
   "cell_type": "markdown",
   "metadata": {},
   "source": [
    "解：设方程的解为$$x=a_0+a_1t+a_2t^2+\\dots+a_nt^n+\\dots$$\n",
    "\n",
    "则有$$x'=a_1+2a_2t+3a_3t^2+\\dots+na_nt^{n-1}+\\dots$$\n",
    "\n",
    "$$x''=2a_2+6a_3t+\\dots+n(n-1)a_nt^{n-2}+\\dots$$\n",
    "\n",
    "把$x,x',x''$代入原方程，合并关于t的同类项，并令各项系数为0，可得：\n",
    "\n",
    "$$\\begin{cases}\n",
    "a_0+2a_2=0\\\\\n",
    "a_1-2a_2+6a_3=0\\\\\n",
    "n(n-1)a_n-(n-1)(n-2)a_{n-1}+a_{n-2}=0\n",
    "\\end{cases}$$\n",
    "\n",
    "$设x_1(t),x_2(t)是满足初值条件x_1(0)=0,x_1'(0)=1,x_2(0)=1,x_2'(0)=0$的两个解\n",
    "\n",
    "$对于x_1(t),可得a_0=0，a_1=1，代入上述方程组可得$\n",
    "\n",
    "$$a_2=0,a_3=-\\frac{1}{6},a_4=-\\frac{1}{12},\\dots,a_n=\\frac{(n-1)(n-2)a_{n-1}-a_{n-2}}{n(n-1)}$$\n",
    "\n",
    "从而$$x_1(t)=t-\\frac{t^3}{3!}-\\frac{2t^4}{4!}-\\frac{5t^5}{5!}-\\dots$$\n",
    "\n",
    "$对于x_2(t),可得a_0=1，a_1=0，代入上述方程组可得$\n",
    "\n",
    "$$a_2=-\\frac{1}{2},a_3=-\\frac{1}{6},a_4=-\\frac{1}{24},\\dots,a_n=-\\frac{1}{n!}$$\n",
    "\n",
    "从而$$x_2(t)=1-\\frac{t^2}{2!}-\\frac{t^3}{3!}-\\frac{t^4}{4!}-\\dots$$\n",
    "\n",
    "故方程的通解\n",
    "$$\n",
    "\\begin{aligned}\n",
    "\\\\x&=c_1x_1(t)+c_2x_2(t)\n",
    "\\\\&=c_1(t-\\frac{t^3}{3!}-\\frac{2t^4}{4!}-\\frac{5t^5}{5!}-\\dots)+c_2(1-\\frac{t^2}{2!}-\\frac{t^3}{3!}-\\frac{t^4}{4!}-\\dots)\n",
    "\\end{aligned}\n",
    "$$"
   ]
  },
  {
   "cell_type": "markdown",
   "metadata": {},
   "source": [
    "3.将下面的初值问题化为与之等价的一阶方程组的初值问题："
   ]
  },
  {
   "cell_type": "markdown",
   "metadata": {},
   "source": [
    "（1）$$\n",
    "\\begin{cases}\n",
    "x''+5y'-7x+6y=e^t\\\\\n",
    "y''-2y+13y'-15x=cost\n",
    "\\end{cases}\n",
    "$$\n",
    "$x(0)=1,x'(0)=0,y(0)=0,y'(0)=1$  \n",
    "\n",
    "(提示：令$\\omega_1=x,\\omega_2=x',\\omega_3=y,\\omega_4=y'$)"
   ]
  },
  {
   "cell_type": "markdown",
   "metadata": {},
   "source": [
    "解：令$\\omega_1=x,\\omega_2=x',\\omega_3=y,\\omega_4=y'$，则原初值问题可化为：  \n",
    "\n",
    "$\n",
    "\\begin{cases}\n",
    "\\omega_1'=x’=\\omega_2\\\\\n",
    "\\omega_2'=x''-5\\omega_4+7\\omega_1-6\\omega_3+e^t\\\\\n",
    "\\omega_3'=y'=\\omega_4\\\\\n",
    "\\omega_4'=y''=2\\omega_3-13\\omega_4+15\\omega_1+cost\n",
    "\\end{cases}\n",
    "$\n",
    "且，\n",
    "$\n",
    "\\begin{cases}\n",
    "\\omega_1(0)=x(0)=1\\\\\n",
    "\\omega_2(0)=x'(0)=0\\\\\n",
    "\\omega_3(0)=y(0)=0\\\\\n",
    "\\omega_4(0)=y'(0)=1\n",
    "\\end{cases}\n",
    "$  \n",
    "\n",
    "即$\\omega'=\\begin{bmatrix}0&1&0&0\\\\7&0&-6&-5\\\\0&0&0&1\\\\15&0&2&-13\\end{bmatrix}\\omega+\\begin{bmatrix}0\\\\e^t\\\\0\\\\cost\\end{bmatrix}$  \n",
    "\n",
    "$\\omega(0)=\\begin{bmatrix}1\\\\0\\\\0\\\\1\\end{bmatrix}$,其中$\\omega=\\begin{bmatrix}\\omega_1\\\\\\omega_2\\\\\\omega_3\\\\\\omega_4\\end{bmatrix}$"
   ]
  },
  {
   "cell_type": "markdown",
   "metadata": {},
   "source": [
    "4.试用逐步逼近法求方程组\n",
    "$$x'=\\begin{bmatrix}0&1\\\\-1&0\\end{bmatrix}x,$$\n",
    "满足初值条件\n",
    "$$x(0)=\\begin{bmatrix}0\\\\1\\end{bmatrix}$$\n",
    "的第三次近似解"
   ]
  },
  {
   "cell_type": "markdown",
   "metadata": {},
   "source": [
    "解：$$\\begin{aligned}\n",
    "\\psi_0(t)&=\\begin{bmatrix}0\\\\1\\end{bmatrix}\\\\\n",
    "\\psi_1(t)&=\\begin{bmatrix}0\\\\1\\end{bmatrix}+\\int_{0}^{t}\\begin{bmatrix}0&1\\\\-1&0\\end{bmatrix}\\begin{bmatrix}0\\\\1\\end{bmatrix}{\\rm d}s=\\begin{bmatrix}0\\\\1\\end{bmatrix}+\\begin{bmatrix}t\\\\0\\end{bmatrix}=\\begin{bmatrix}1\\\\1\\end{bmatrix}\\\\\n",
    "\\psi_2(t)&=\\begin{bmatrix}0\\\\1\\end{bmatrix}+\\int_{0}^{t}\\begin{bmatrix}0&1\\\\-1&0\\end{bmatrix}\\begin{bmatrix}s\\\\1\\end{bmatrix}{\\rm d}s=\\begin{bmatrix}0\\\\1\\end{bmatrix}+\\begin{bmatrix}t\\\\{-\\frac{t^2}{2}}\\end{bmatrix}=\\begin{bmatrix}t\\\\{1-\\frac{t^2}{2}}\\end{bmatrix}\\\\\n",
    "\\psi_3(t)&=\\begin{bmatrix}0\\\\1\\end{bmatrix}+\\int_{0}^{t}\\begin{bmatrix}0&1\\\\-1&0\\end{bmatrix}\\begin{bmatrix}s\\\\{1-\\frac{s^2}{2}}\\end{bmatrix}{\\rm d}s=\\begin{bmatrix}0\\\\1\\end{bmatrix}+\\begin{bmatrix}{t-\\frac{t^3}{6}}\\\\{1-\\frac{t^2}{2}}\\end{bmatrix}\n",
    "\\end{aligned}$$"
   ]
  },
  {
   "cell_type": "markdown",
   "metadata": {},
   "source": [
    "# <font color='red'>A  25/11"
   ]
  },
  {
   "cell_type": "code",
   "execution_count": null,
   "metadata": {
    "collapsed": true
   },
   "outputs": [],
   "source": []
  }
 ],
 "metadata": {
  "kernelspec": {
   "display_name": "SageMath 7.3",
   "language": "",
   "name": "sagemath"
  },
  "language_info": {
   "codemirror_mode": {
    "name": "ipython",
    "version": 2
   },
   "file_extension": ".py",
   "mimetype": "text/x-python",
   "name": "python",
   "nbconvert_exporter": "python",
   "pygments_lexer": "ipython2",
   "version": "2.7.10"
  }
 },
 "nbformat": 4,
 "nbformat_minor": 0
}
