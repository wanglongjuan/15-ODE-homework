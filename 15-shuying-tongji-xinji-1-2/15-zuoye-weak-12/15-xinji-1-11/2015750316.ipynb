{
 "cells": [
  {
   "cell_type": "markdown",
   "metadata": {},
   "source": [
    "1.求解下列方程："
   ]
  },
  {
   "cell_type": "markdown",
   "metadata": {},
   "source": [
    "（1）$xx''-(x')^2+(x')^3=0$"
   ]
  },
  {
   "cell_type": "markdown",
   "metadata": {},
   "source": [
    "解：令$x'=y$原方程化为：\n",
    "$$xy\\frac{\\mathrm d y}{\\mathrm d x}-y^2+y^3=0$$解得：\n",
    "$$y=0,y=\\frac{cx}{1+cx}$$\n",
    "$$x'=\\frac{cx}{1+cx}$$\n",
    "积分得$$x+\\frac{1}{c}In|x|=t+c_2$$\n",
    "解为：$$x+c_1In|x|=t+c_2,x=c$$"
   ]
  },
  {
   "cell_type": "markdown",
   "metadata": {},
   "source": [
    "(2)$x''+\\sqrt{1-(x')^2}=0$"
   ]
  },
  {
   "cell_type": "markdown",
   "metadata": {
    "collapsed": true
   },
   "source": [
    "解：令$y=x'$，原方程化为：$$y\\frac{\\mathrm d y}{\\mathrm d x}+\\sqrt{1-y^2}=0$$\n",
    " 当$y\\neq 1,-1$,方程可变形为$\\frac{y\\mathrm d y}{\\sqrt{1-y^2}}=-\\mathrm d x$\n",
    " 积分得：$$\\sqrt{1-y^2}=x+c$$即$$\\sqrt{1-x'^2}=x+c$$,积分可得解：\n",
    " $$x=\\sin (t+c_1-c_2,x=\\cos(t+c_1)-c_2,x=t+c,x=-t+c$$"
   ]
  },
  {
   "cell_type": "markdown",
   "metadata": {},
   "source": [
    "（3）$x''-\\frac{1}{t}x'+(x')^2=0$（提示：方程两端除以x')"
   ]
  },
  {
   "cell_type": "markdown",
   "metadata": {
    "collapsed": true
   },
   "source": [
    "解：当$x'\\neq 0$时两边除以$x'$,得：$\\frac{x''}{x'}-\\frac{1}{t}+x'=0$,积分得：$$\\mathrm i n|\\frac{x'}{t}|+x=c_1$$,$x'=t(\\mathrm e ^{-x+c_1})$积分得：$$\\mathrm e^x=c_1(t^2+c_2)$$\n",
    "方程解为：$$\\mathrm e^x=c_1(t^2+c_2),x=c$$"
   ]
  },
  {
   "cell_type": "markdown",
   "metadata": {},
   "source": [
    "2.用幂级数解法求解下列方程："
   ]
  },
  {
   "cell_type": "markdown",
   "metadata": {},
   "source": [
    "$(1-t)x''+x=0$"
   ]
  },
  {
   "cell_type": "markdown",
   "metadata": {},
   "source": [
    "解：方程可化为$x\"+\\frac{x}{1-t}=0$,因$tp(t)=0,q(t)=\\frac{t^2}{1-t}$故存在解。\n",
    "\n",
    "设$x=a_0+a_1t+\\cdots +a_nt^n+\\cdots$是方程的解，则\n",
    "\n",
    "$x'=a_1+2a_2t+\\cdots+na_nt^{n-1}+\\cdots$\n",
    "\n",
    "$x\"=2a_2+6a_3t+\\cdots+n(n-1)a_nt^{n-2}+\\cdots$\n",
    "\n",
    "将$x,x',x\"$的表达式代入原方程，得\n",
    "\n",
    "$2a_2+a_0+0,6a_3-2a_2+a_1=0$\n",
    "\n",
    "$k(k-1)a_k-(k-1)(k-2)a_{k-1}+a_{k-2}=0$\n",
    "\n",
    "设$x_1(t)$和$x_2(t)$满足初值条件$x_1(0)=0,x_2(0)=1,x'_1(0)=1,x_2(0)=0$的两个解\n",
    "\n",
    "对于$x_1(t)$显然有$a_0=0,a_1=1,$代入   得\n",
    "\n",
    "$a_2=0,a_3=\\frac{-1}{6},a_4=\\frac{-1}{12},a_n=\\frac{(n-1)(n-2)a_{n-1}-a_{n-2}}{(n-1)n}$\n",
    "\n",
    "也就是$x_1(t)=t-\\frac{t^3}{3!}-\\frac{2}{4!}t^4-\\frac{5}{5!}t^5-\\frac{18}{6!}t^6-\\cdots$\n",
    "\n",
    "对于$x_2(t)$有$a_0=1,a_1=0$代入，得\n",
    "\n",
    "$a_2=-\\frac{1}{2} ,a_3=\\frac{-1}{6},a_4=\\frac{-1}{24},\\cdots,a_n=\\frac{(n-1)(n-2)a_{n-1}-a_{n-2}}{n(n-1)}$\n",
    "\n",
    "即$x_2(t)=1-\\frac{1}{2!}t^2-\\frac{1}{3!}t^3-\\frac{1}{4!}t^4-\\cdots$\n",
    "\n",
    "即通解为$x=c_1x_1(t)+c_2x_2(t)=c_1(t-\\frac{t^3}{3!}-\\frac{2}{4!}t^4-\\frac{5}{5!}t^5-\\frac{18}{6!}t^6-\\cdots)+c_2(1-\\frac{1}{2!}t^2-\\frac{1}{3!}t^3-\\frac{1}{4!}t^4-\\cdots)$"
   ]
  },
  {
   "cell_type": "markdown",
   "metadata": {},
   "source": [
    "3.将下面的初值问题化为与之等价的一阶方程组的初值问题："
   ]
  },
  {
   "cell_type": "markdown",
   "metadata": {},
   "source": [
    "$$\\begin{cases}x''+5y'-7x+6y=\\mathrm e^t\\\\\n",
    "y''-2y+13y'-15x=\\cos t\\\\\n",
    "\\end{cases},x(0)=1,x'(0)=0,y(0)=0,y'(0)=1.\n",
    "(提示：令w_1=x,w_2=x',w_3=y,w_4=y'.)$$"
   ]
  },
  {
   "cell_type": "markdown",
   "metadata": {},
   "source": [
    "解：令$w_1=x,w_2=x',w_3=y,w_4=y',$则原初值问题可化为：\n",
    "$\\begin{cases}{w-1}'=x'=w_2\\\\{w_2}'=x\"=-5w_4+7w_1-6w_3+e^t\\\\{w_3}'=y'=w_4\\\\{w_4}'=y\"=2w_3-13w_4+15w_1+\\cos t \\\\\\end{cases}$\n",
    "\n",
    "且$\\begin{cases}w_1(0)=x(0)=1\\\\w_2(0)=x'(0)=0\\\\w_3(0)=y(0)=0\\\\w_4(0)=y'(0)=1\\\\\\end{cases}$\n",
    "\n",
    "即  $w'=\\begin{bmatrix}0&1&0&0\\\\7&0&-6&-5\\\\0&0&0&1\\\\15&0&2&-13\\end{bmatrix}w+\\begin{bmatrix}0\\\\e^t\\\\0\\\\ \\cos t\\end{bmatrix}$\n",
    "\n",
    "$w(0)=\\begin{bmatrix}1\\\\0\\\\0\\\\1\\end{bmatrix}$\n",
    "\n",
    "其中$w=\\begin{bmatrix}w_1\\\\w_2\\\\w_3\\\\w_4\\end{bmatrix}$"
   ]
  },
  {
   "cell_type": "markdown",
   "metadata": {},
   "source": [
    "4.试用逐步逼近法求方程组$$\\textbf{x'}=\\begin{bmatrix}0 & 1\\\\-1&0\\end{bmatrix}\\textbf x$$,\n",
    "\n",
    "满足初值条件\n",
    "\n",
    "$$\\textbf{x(0)}=\\begin{bmatrix}0\\\\1\\end{bmatrix}$$\n",
    "\n",
    "的第三次近似解。"
   ]
  },
  {
   "cell_type": "markdown",
   "metadata": {
    "collapsed": true
   },
   "source": [
    "$$w_0(t)=\\begin{bmatrix}0\\\\1\\end{bmatrix};$$\n",
    "$$w_1(t)=\\begin{bmatrix}0\\\\1\\end{bmatrix}+\\int_0^1\\begin{bmatrix}0&1\\\\-1&0\\end{bmatrix}\\begin{bmatrix}0\\\\1\\end{bmatrix}\\mathrm d s=\\begin{bmatrix}t\\\\1\\end{bmatrix}$$\n",
    "$$w_2(t)=\\begin{bmatrix}t\\\\1-\\frac{t^2}{2}\\end{bmatrix}$$\n",
    "$$w3(t)=\\begin{bmatrix}t-\\frac{t^3}{6}\\\\1-\\frac{t^2}{2}\\end{bmatrix}$$\n",
    "所以满足初值条件$\\textbf x(0)=\\begin{bmatrix}0\\\\1\\end{bmatrix}$的第三次近似解为\n",
    "\n",
    "$$w3(t)=\\begin{bmatrix}t-\\frac{t^3}{6}\\\\1-\\frac{t^2}{2}\\end{bmatrix}$$"
   ]
  },
  {
   "cell_type": "markdown",
   "metadata": {
    "collapsed": true
   },
   "source": [
    "# <font color='red'>A  25/11"
   ]
  },
  {
   "cell_type": "code",
   "execution_count": null,
   "metadata": {
    "collapsed": true
   },
   "outputs": [],
   "source": []
  }
 ],
 "metadata": {
  "kernelspec": {
   "display_name": "SageMath 7.3",
   "language": "",
   "name": "sagemath"
  },
  "language_info": {
   "codemirror_mode": {
    "name": "ipython",
    "version": 2
   },
   "file_extension": ".py",
   "mimetype": "text/x-python",
   "name": "python",
   "nbconvert_exporter": "python",
   "pygments_lexer": "ipython2",
   "version": "2.7.10"
  }
 },
 "nbformat": 4,
 "nbformat_minor": 0
}
