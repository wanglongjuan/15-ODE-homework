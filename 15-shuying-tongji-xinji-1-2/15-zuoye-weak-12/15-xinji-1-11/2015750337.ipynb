{
 "cells": [
  {
   "cell_type": "markdown",
   "metadata": {
    "collapsed": false
   },
   "source": [
    "# P183\n",
    "## 1.\n",
    "### (2)\n",
    "\n",
    "$ x x^{{\\prime}{\\prime}}-(x^{\\prime})^2+(x^{\\prime})^3=0$\n",
    "\n",
    "解:\n",
    "令$x^{\\prime}=y$,\n",
    "\n",
    "故$xy \\frac{dy}{dx}-y^2+y^3=0$,\n",
    "$\n",
    "y=0\n",
    "或\n",
    "\\frac{dy}{dx}=\\frac {y-y^2}{x},$\n",
    "\n",
    "$\\therefore$$\\frac {x^{\\prime}}{1-x^{\\prime}}=c_1 x,$\n",
    "\n",
    "$\\because$$y=0,x^{\\prime}=0$,故$x=c$.\n",
    "$\\therefore$解为\n",
    "$$x+\\frac {1}{c_1}\\ln |x|=t+c_2\n",
    "或x=c_3,$$\n"
   ]
  },
  {
   "cell_type": "markdown",
   "metadata": {},
   "source": [
    "### (4)\n",
    "$x^{{\\prime}{\\prime}}+\\sqrt {1-(x^{\\prime})^2}=0;$\n",
    "\n",
    "令$x^{\\prime}=y,$\n",
    "\n",
    "$\\therefore$$y\\frac {dy}{dx}+\\sqrt{1-y^2}=0.$\n",
    "\n",
    "\n",
    "$当y\\neq \\pm 1时，\\frac {ydy}{\\sqrt {1-y^2}}=-dx$\n",
    "\n",
    "$\\therefore$$\\sqrt {1-y^2}=x+c$.\n",
    "\n",
    "$\\sqrt {1-{x^{\\prime}}^2}=x+c$,或$x^{\\prime}=\\pm \\sqrt{1-(x+c)^2},$\n",
    "\n",
    "1>当$x^{\\prime}=+\\sqrt{1-(x+c)^2}时,x=sin(t+c_1)-c;$\n",
    "\n",
    "2>当$x^{\\prime}=-\\sqrt{1-(x+c)^2}时,x=cos(t+c_1)-c.$\n",
    "\n",
    "\n",
    "$当y=\\pm 1$，\n",
    "$x^{\\prime}=\\pm 1,则x=\\pm t+c_1.$\n",
    "\n",
    "综上所述解为\n",
    "\n",
    "$$x=sin(t+c_1)-c,或x=cos(t+c_1)-c,或x=\\pm t+c_1$$"
   ]
  },
  {
   "cell_type": "markdown",
   "metadata": {},
   "source": [
    "### （6）\n",
    "$ x^{{\\prime}{\\prime}}-\\frac {1}{t}x^{\\prime}+(x^{\\prime})^2=0 $\n",
    "\n",
    "$解：当x^{\\prime}\\neq 0$\n",
    "$d(\\ln|x^{\\prime}|-\\ln|t|+x)=0$\n",
    "\n",
    "$\\therefore$$\\ln|\\frac {x^{\\prime}}{t}+x=c_1,$\n",
    "\n",
    "$x^{\\prime}=t(e^{-x+c_1}),$\n",
    "\n",
    "$\\therefore$\n",
    "\n",
    "$e^x=c_1(t^2+c_2)$.\n",
    "\n",
    "当$x^{\\prime}=0时，成立$\n",
    "\n",
    "$$综上所述， e^x=c_1(t^2+c_2)或x=c$$"
   ]
  },
  {
   "cell_type": "markdown",
   "metadata": {},
   "source": [
    "## 2.\n",
    "### (2)\n",
    "$ (1-t)x^{{\\prime}{\\prime}}+x=0$\n",
    "\n",
    "解：\n",
    "\n",
    "$设x=a_o+a_1t+a_2t^2+a_3t^3+\\cdots$ 是方程的解，\n",
    "\n",
    "$\\therefore$$x^{{\\prime}{\\prime}}=2a_2+3*2a_3t+\\cdots +n(n-1)a_n t^{n-2}+\\cdots.$\n",
    "\n",
    "$代入原方程得$\n",
    "\n",
    "$\\begin{cases} a_o+2a_2=0 \\\\ a_1-2a_2+3*2a_3=0,,\\\\ n(n-1)a_n-(n-1)(n-2)a_{n-1}+a_{n-2}=0 \\end{cases}$\n",
    "\n",
    "$设x_1(t)和x_2(t)是满足初值条件的两解.$\n",
    "\n",
    "$\\therefore$\n",
    "$x_1(t)=t-\\frac{t^3}{3!}-\\frac {2t^4}{4!}-\\frac {5t^5}{5!}\\cdots$\n",
    "\n",
    "$x_2(t)=1-\\frac{t^2}{2!}-\\frac{t^3}{3!}-\\frac{t^4}{4!}-\\cdots$\n",
    "\n",
    "所以通解为\n",
    "$$x=c_1x_1(t)+c_2x_2(t)=c_1(t-\\frac{t^3}{3!}-\\frac {2t^4}{4!}-\\frac {5t^5}{5!}\\cdots)+\n",
    "c_2(1-\\frac{t^2}{2!}-\\frac{t^3}{3!}-\\frac{t^4}{4!}\\cdots)$$"
   ]
  },
  {
   "cell_type": "markdown",
   "metadata": {},
   "source": [
    "# P201\n",
    "## 2.\n",
    "### (3)\n",
    "\n",
    "$\\quad \\quad \\begin{cases} x^{{\\prime}{\\prime}}+5y^{\\prime}-7x+6y=e^t \\\\ y^{{\\prime}{\\prime}}-2y+13y^{\\prime}-15x=cost \\end{cases}$\n",
    "\n",
    "$x(0)=1,x^{\\prime}(0)=0,y(0)=0,y^{\\prime}(0)=1$\n",
    "\n",
    "解：\n"
   ]
  },
  {
   "cell_type": "markdown",
   "metadata": {},
   "source": [
    "$令w_1=x,w_2=x^{\\prime},w_3=y,w_4=y^{\\prime}$,\n",
    "\n",
    "$\\therefore$\n",
    "\n",
    "$\\begin{bmatrix} w_1 \\\\ w_2 \\\\ w_3 \\\\ w_4 \\\\ \\end{bmatrix}^{\\prime}=\\begin{bmatrix} 0&1&0&0 \\\\7&0&-6&-5 \\\\0&0&0&1\\\\15&0&2&-13 \\\\ \\end{bmatrix} \\begin{bmatrix} w_1 \\\\ w_2 \\\\ w_3 \\\\ w_4 \\\\ \\end{bmatrix}+\\begin{bmatrix} 0 \\\\ e^t \\\\ 0 \\\\ cost \\\\ \\end{bmatrix}$\n",
    "\n",
    "$初值条件:w_1(0)=1,w_2(0)=0,w_3(0)=0,w_4(0)=1.$"
   ]
  },
  {
   "cell_type": "markdown",
   "metadata": {},
   "source": [
    "## 3.\n",
    "解：运用逐步逼近法 有："
   ]
  },
  {
   "cell_type": "markdown",
   "metadata": {},
   "source": [
    "$\\varphi_o(t)=\\begin{bmatrix} 0\\\\1\\\\ \\end{bmatrix}$\n",
    "\n",
    "\n",
    "$\\varphi_1(t)=\\begin{bmatrix} 0\\\\1\\\\ \\end{bmatrix}+\n",
    "\\int_0^t \\begin{bmatrix} 0&1\\\\-1&0\\\\ \\end{bmatrix}\\begin{bmatrix} 0\\\\1\\\\ \\end{bmatrix}ds$\n",
    "$=\\begin{bmatrix} 0\\\\1\\\\ \\end{bmatrix}+\\begin{bmatrix} t\\\\0\\\\ \\end{bmatrix}=\\begin{bmatrix} t\\\\1\\\\ \\end{bmatrix}$\n",
    "\n",
    "\n",
    "$\\varphi_2(t)=\\begin{bmatrix} 0\\\\1\\\\ \\end{bmatrix}+\\int_0^t \\begin{bmatrix} 0&1\\\\-1&0\\\\ \\end{bmatrix}\\begin{bmatrix} t\\\\1\\\\ \\end{bmatrix}dt$\n",
    "$=\\begin{bmatrix} 0\\\\1\\\\ \\end{bmatrix}+\\begin{bmatrix} t\\\\ -\\frac{t^2}{2}\\\\ \\end{bmatrix}=\\begin{bmatrix} t\\\\1-\\frac{t^2}{2}\\\\ \\end{bmatrix},$\n",
    "\n",
    "\n",
    "$\\varphi_1(t)=\\begin{bmatrix} 0\\\\1\\\\ \\end{bmatrix}+\\int_0^t \\begin{bmatrix} 0&1\\\\-1&0\\\\ \\end{bmatrix}\n",
    "\\begin{bmatrix} s\\\\1-\\frac{s^2}{2}\\\\ \\end{bmatrix}ds=\\begin{bmatrix} 0\\\\1\\\\ \\end{bmatrix}+\n",
    "\\begin{bmatrix} t-\\frac{t^3}{6}\\\\ -\\frac{t^2}{2}\\\\ \\end{bmatrix}=\\begin{bmatrix} t-\\frac{t^3}{6}\\\\ 1-\\frac{t^2}{2}\\\\ \\end{bmatrix},$\n",
    "\n",
    "$满足初值条件的第三次近似解为\\varphi_3(t)=\\begin{bmatrix} t-\\frac{t^3}{6}\\\\ 1-\\frac{t^2}{2}\\\\ \\end{bmatrix}$"
   ]
  },
  {
   "cell_type": "markdown",
   "metadata": {
    "collapsed": true
   },
   "source": [
    "# <font color='red'>A+  25/11"
   ]
  },
  {
   "cell_type": "code",
   "execution_count": null,
   "metadata": {
    "collapsed": true
   },
   "outputs": [],
   "source": []
  }
 ],
 "metadata": {
  "kernelspec": {
   "display_name": "Python 2",
   "language": "python",
   "name": "python2"
  },
  "language_info": {
   "codemirror_mode": {
    "name": "ipython",
    "version": 2
   },
   "file_extension": ".py",
   "mimetype": "text/x-python",
   "name": "python",
   "nbconvert_exporter": "python",
   "pygments_lexer": "ipython2",
   "version": "2.7.10"
  }
 },
 "nbformat": 4,
 "nbformat_minor": 0
}
