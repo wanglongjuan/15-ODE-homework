{
 "cells": [
  {
   "cell_type": "markdown",
   "metadata": {},
   "source": [
    "$p182.1.(2)$"
   ]
  },
  {
   "cell_type": "markdown",
   "metadata": {},
   "source": [
    "$当方程不含有t，令y=x'，则方程为xy\\frac{dy}{dx}-y^2+y^3=0,所以y=0或\\frac{dy}{dx}=\\frac{y-y^2}{x},所以\\frac{y}{1-y}=cx$"
   ]
  },
  {
   "cell_type": "markdown",
   "metadata": {},
   "source": [
    "$x'=\\frac{cx}{1+cx},两边积分得到x+\\frac{1}{c}lnx=t+c_1,所以方程解为x+c_1lnx=t+c_2$"
   ]
  },
  {
   "cell_type": "markdown",
   "metadata": {},
   "source": [
    "$(4)$"
   ]
  },
  {
   "cell_type": "markdown",
   "metadata": {},
   "source": [
    "$令y=x',则方程化为y\\frac{dy}{dx}+(1-y^2)^\\frac{1}{2}=0$"
   ]
  },
  {
   "cell_type": "markdown",
   "metadata": {},
   "source": [
    "$当y\\neq1和-1时，方程为\\frac{ydy}{(1-y^2)^\\frac{1}{2}}=-dx,两边积分得到(1-y^2)^\\frac{1}{2}=x+c$"
   ]
  },
  {
   "cell_type": "markdown",
   "metadata": {},
   "source": [
    "$所以有(1-x'^2)^\\frac{1}{2}=x+c,所以x'=[1-(x+c)^2]^\\frac{1}{2}$"
   ]
  },
  {
   "cell_type": "markdown",
   "metadata": {},
   "source": [
    "$所以x=sin(t+c_1)+c_2或x=cos(t+c_1)+c_2,当y=1或-1时，x'=1或-1,所以x=t+c或-t+c$"
   ]
  },
  {
   "cell_type": "markdown",
   "metadata": {},
   "source": [
    "$(6)$"
   ]
  },
  {
   "cell_type": "markdown",
   "metadata": {},
   "source": [
    "$当x'\\neq0时，方程两边同除以x',则有\\frac{x''}{x'}-\\frac{1}{t}+x'=0,所以d(lnx'-lnt+x)=0,两边积分得到ln\\frac{x'}{t}+x=c_1$"
   ]
  },
  {
   "cell_type": "markdown",
   "metadata": {},
   "source": [
    "$x=t(e^{-x+c_1}),积分得到e^x=e^c_1(\\frac{t^2}{2})+c_2,当x'=0时，x=c$"
   ]
  },
  {
   "cell_type": "markdown",
   "metadata": {},
   "source": [
    "$2.(2)$"
   ]
  },
  {
   "cell_type": "markdown",
   "metadata": {},
   "source": [
    "\n",
    "\n",
    "$方程可化为x''=\\frac{x}{1-t}=0,因为tp(t)=0,t^2q(t)=\\frac{t^2}{1-t},所以幂级数有解，设x=a_0+a_1t+...+a_nt^n为方程的解，$"
   ]
  },
  {
   "cell_type": "markdown",
   "metadata": {},
   "source": [
    "$所以x'=a_1+2a_2t+...+na_nt^{n-1}...,x''=2a_2+...+n(n-1)a_nt^{n-2}$"
   ]
  },
  {
   "cell_type": "markdown",
   "metadata": {},
   "source": [
    "$2a_2+a_0=0,6a_3-2a_2+a_1=0,k(k-1)a_k-(k-1)(k-2)a_{k-1}+a_{k-2}=0$"
   ]
  },
  {
   "cell_type": "markdown",
   "metadata": {},
   "source": [
    "$设x_1(t),x_2(t)是满足初值条件x_1(0),x_1(0)'=1,x_2(0)=1,x_2'(0)=0的解$"
   ]
  },
  {
   "cell_type": "markdown",
   "metadata": {},
   "source": [
    "$对于x_1(t)有a_0=0,a_1=1得到a_2=0,s_3=\\frac{-1}{6},a_4=frac{-1}{12}...a_n=\\frac{(n-1)(n-2)a_{n-1}-a_{n-2}}{n(n-1)}$"
   ]
  },
  {
   "cell_type": "markdown",
   "metadata": {},
   "source": [
    "$x_1(t)=t-\\frac{t^3}{3!}-\\frac{2t^4}{4!}-.....$"
   ]
  },
  {
   "cell_type": "markdown",
   "metadata": {},
   "source": [
    "$因为a_n=\\frac{(n-1)(n-2)a_{n-1}-a_{n-2}}{n(n-1)},x_2(t)=1-\\frac{t^2}{2!}-\\frac{t^3}{3!}-......$"
   ]
  },
  {
   "cell_type": "markdown",
   "metadata": {},
   "source": [
    "$所以x=c_1x_1(t)+c_2x_2(t)$"
   ]
  },
  {
   "cell_type": "markdown",
   "metadata": {},
   "source": [
    "$p201.2.(3)$"
   ]
  },
  {
   "cell_type": "markdown",
   "metadata": {},
   "source": [
    "$w_1'=x_1'=w_2,w_2'=x''=-5w_4+7w_1-6w_3+e^t,w_3'=y'=w_4,w_4'=y''=2w_3-13w_4+15w_1+cost,且w_1(0)=x(0)=1,w_2(0)=x'(0)=0,w_3(0)=y(0)=0,w_4(0)=y'(0)=1$"
   ]
  },
  {
   "cell_type": "markdown",
   "metadata": {},
   "source": [
    "$w'=\\begin{bmatrix}\n",
    "0&1&0&0\\\\\n",
    "7&0&-6&-5\\\\\n",
    "0&0&0&1\\\\\n",
    "15&0&2&-13\n",
    "\\end{bmatrix}w+\\begin{bmatrix}0\\\\e^t\\\\0\\\\cost\n",
    "\\end{bmatrix}$"
   ]
  },
  {
   "cell_type": "markdown",
   "metadata": {},
   "source": [
    "$w(0)=\\begin{bmatrix}\n",
    "1\\\\0\\\\0\\\\1\n",
    "\\end{bmatrix},w=\\begin{bmatrix}\n",
    "w_1\\\\w_2\\\\w_3\\\\w_4\n",
    "\\end{bmatrix}$"
   ]
  },
  {
   "cell_type": "markdown",
   "metadata": {},
   "source": [
    "$3.$"
   ]
  },
  {
   "cell_type": "markdown",
   "metadata": {},
   "source": [
    "$\\alpha_0(t)=\\begin{bmatrix}0\\\\1\n",
    "\\end{bmatrix},\\alpha_1(t)=\\begin{bmatrix}0\\\\1\n",
    "\\end{bmatrix}+\\begin{bmatrix}t\\\\0\n",
    "\\end{bmatrix}=\\begin{bmatrix}t\\\\1\n",
    "\\end{bmatrix}$\n",
    "$\\alpha_2(t)=\\begin{bmatrix}0\\\\1\n",
    "\\end{bmatrix}+\\begin{bmatrix}t\\\\\\frac{-2t^2}{2}\n",
    "\\end{bmatrix}=\\begin{bmatrix}t\\\\1-\\frac{t^2}{2}\n",
    "\\end{bmatrix}$\n",
    "$\\alpha_3(t)=\\begin{bmatrix}0\\\\1\n",
    "\\end{bmatrix}+\\begin{bmatrix}t-\\frac{t^3}{6}\\\\\\frac{-t^2}{2}\n",
    "\\end{bmatrix}=\\begin{bmatrix}t-\\frac{t^3}{6}\\\\1-\\frac{t^2}{2}\n",
    "\\end{bmatrix}$$所以满足初值条件的x(0)=\\begin{bmatrix}0\\\\1\n",
    "\\end{bmatrix}的第三次近似解为\\alpha_3(t)=\\begin{bmatrix}t-\\frac{t^3}{6}\\\\1-\\frac{t^2}{2}\n",
    "\\end{bmatrix}$\n"
   ]
  },
  {
   "cell_type": "markdown",
   "metadata": {},
   "source": [
    "$\\alpha_2(t)=\\begin{bmatrix}0\\\\1\n",
    "\\end{bmatrix}+\\begin{bmatrix}t\\\\\\frac{-2t^2}{2}\n",
    "\\end{bmatrix}=\\begin{bmatrix}t\\\\1-\\frac{t^2}{2}\n",
    "\\end{bmatrix}$"
   ]
  },
  {
   "cell_type": "markdown",
   "metadata": {},
   "source": [
    "$\\alpha_3(t)=\\begin{bmatrix}0\\\\1\n",
    "\\end{bmatrix}+\\begin{bmatrix}t-\\frac{t^3}{6}\\\\\\frac{-t^2}{2}\n",
    "\\end{bmatrix}=\\begin{bmatrix}t-\\frac{t^3}{6}\\\\1-\\frac{t^2}{2}\n",
    "\\end{bmatrix}$"
   ]
  },
  {
   "cell_type": "markdown",
   "metadata": {},
   "source": [
    "$所以满足初值条件的x(0)=\\begin{bmatrix}0\\\\1\n",
    "\\end{bmatrix}的第三次近似解为\\alpha_3(t)=\\begin{bmatrix}t-\\frac{t^3}{6}\\\\1-\\frac{t^2}{2}\n",
    "\\end{bmatrix}$"
   ]
  },
  {
   "cell_type": "code",
   "execution_count": null,
   "metadata": {
    "collapsed": true
   },
   "outputs": [],
   "source": []
  }
 ],
 "metadata": {
  "kernelspec": {
   "display_name": "SageMath 7.2",
   "language": "",
   "name": "sagemath"
  },
  "language_info": {
   "codemirror_mode": {
    "name": "ipython",
    "version": 2
   },
   "file_extension": ".py",
   "mimetype": "text/x-python",
   "name": "python",
   "nbconvert_exporter": "python",
   "pygments_lexer": "ipython2",
   "version": "2.7.10"
  }
 },
 "nbformat": 4,
 "nbformat_minor": 0
}
