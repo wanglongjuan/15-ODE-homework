{
 "cells": [
  {
   "cell_type": "markdown",
   "metadata": {},
   "source": [
    "$一。求解下列方程$"
   ]
  },
  {
   "cell_type": "markdown",
   "metadata": {},
   "source": [
    "(1)$xx''-(x')^2+(x')^3=0$\n",
    "\n",
    "解：令$x'=y$,则方程化为$$xy\\frac{{\\mathrm dy}}{{\\mathrm dx}}-y^2+y^3=0$$\n",
    "得到$y=0$或者$\\frac{{\\mathrm dy}}{{\\mathrm dx}}=\\frac{y-y^2}{x}$\n",
    "\n",
    "积分后得$$\\frac{y}{1-y}=c_1 x,(c_1 \\neq 0)$$\n",
    "即$$\\frac{x'}{1-x'}=c_1 x$$\n",
    "再次积分得$x+\\frac{1}{c_1}ln|x|=t+c_2$当y=0时，得$x'=0,故x=c$\n",
    "\n",
    "综上所述，方程解为$$x+\\frac{1}{c_1}ln|x|=t+c_2或x=c$$"
   ]
  },
  {
   "cell_type": "markdown",
   "metadata": {},
   "source": [
    "(2)$x''+\\sqrt{1-(x')^2}=0$\n",
    "\n",
    "解：令$x'=y$,则方程化为$$y\\frac{{\\mathrm dy}}{{\\mathrm dx}}+\\sqrt{1-y^2}=0$$\n",
    "当$y=\\pm1$时，即$x'=\\pm t +c_1$;$y\\neq \\pm 1$时，方程又可化为$$\\frac{y{\\mathrm dy}}{\\sqrt{1-y^2}}=-{\\mathrm dx}$$\n",
    "积分后得到$\\sqrt{1-y^2}=x+c$,也就是$\\sqrt{1-x'^2}=x+c,或者x'=\\pm \\sqrt{1-(x+c)^2}$\n",
    "\n",
    "再次积分得到：\n",
    "\n",
    "<1>$当x'=+\\sqrt{1-(x+c)^2}时，x=\\sin(t+c_1)-c$\n",
    "\n",
    "<2>$当x'=-\\sqrt{1-(x+c)^2}时，x=\\cos(t+c_1)-c$\n",
    "\n",
    "综合以上几种情况，即得原方程的解为$$x=\\sin(t+c_1)-c或x=\\cos(t+c_1)-c,以及x=\\pm t +c_1$$"
   ]
  },
  {
   "cell_type": "markdown",
   "metadata": {},
   "source": [
    "(3)$x''-\\frac{1}{t}x'+(x')^2=0（提示：方程两端除以$x'$）$\n",
    "\n",
    "解：当$x'\\neq0$时，方程两边同除以$x'$,则得到$$\\frac{x''}{x'}-\\frac{1}{t}+x'=0$$\n",
    "即${\\mathrm d(ln|x'|-ln|t|+x)}=0$,两边积分得$$ln|\\frac{x'}{t}|+x=c_1$$\n",
    "解出$x'$,则有$$x'=t(e^{-x+c_1})$$\n",
    "再次积分得$$e^x=e^{c_1}(\\frac{t^2}{2})+c_2$$\n",
    "由于这里的$c_1,c_2$是任意的常数，所以可以写成$$e^x=c_1(t^2+c_2)$$\n",
    "当$x'=0$时，即得x=c，显然他也是原方程的解，综上所述方程解为$$e^x=c_1(t^2+c_2)或x=c$$"
   ]
  },
  {
   "cell_type": "markdown",
   "metadata": {},
   "source": [
    "$二.用幂级数解法求解下列方程$"
   ]
  },
  {
   "cell_type": "markdown",
   "metadata": {},
   "source": [
    "$(1-t)x''+x=0$"
   ]
  },
  {
   "cell_type": "markdown",
   "metadata": {},
   "source": [
    "$三.将下面的初值问题化为与之等价的一阶方程组的初值问题$"
   ]
  },
  {
   "cell_type": "markdown",
   "metadata": {},
   "source": [
    "$$\n",
    "\\begin{cases}\n",
    "x''+5y'-7x+6y=e^t\\\\\n",
    "y''-2y+13y'-15x=\\cos t\\\\\n",
    "\\end{cases}\n",
    "$$\n",
    "\n",
    "解：令$\\omega_1=x,\\omega_2=x',\\omega_3=y,\\omega_4=y'$,则原方程组\n",
    "$$\\begin{pmatrix}\n",
    "   \\omega_1\\\\\n",
    "   \\omega_2\\\\\n",
    "   \\omega_3\\\\\n",
    "   \\omega_4\\\\\n",
    "  \\end{pmatrix}\n",
    "  =\\begin{pmatrix}\n",
    "   0 & 1 & 0 & 0\\\\\n",
    "   7 & 0 & -6 & -5\\\\\n",
    "   0 & 0 & 0 & 1\\\\\n",
    "   15 & 0 & 2 & -13\\\\\n",
    "   \\end{pmatrix}\n",
    "   \\begin{pmatrix}\n",
    "    \\omega_1\\\\\n",
    "    \\omega_2\\\\\n",
    "    \\omega_3\\\\\n",
    "    \\omega_4\\\\\n",
    "   \\end{pmatrix}\n",
    "  +\\begin{pmatrix}\n",
    "     0\\\\\n",
    "    e^t\\\\\n",
    "    0\\\\\n",
    "    \\cos t\\\\\n",
    "   \\end{pmatrix}$$\n",
    "初值条件为$\\omega_1(0)=1,\\omega_2(0)=0,\\omega_3(0)=0,\\omega_4(0)=1$"
   ]
  },
  {
   "cell_type": "markdown",
   "metadata": {},
   "source": [
    "$四.试用逐步逼近法求方程组$\n",
    "$$x'\n",
    "=\\begin{bmatrix}\n",
    "0&1\\\\\n",
    "-1&0\\\\\n",
    "\\end{bmatrix}x\n",
    "$$\n",
    "满足初值条件$x(0)=\\begin{bmatrix}\n",
    "                   0\\\\\n",
    "                   1\\\\\n",
    "                  \\end{bmatrix}$的第三次近似解 \n",
    "\n",
    "解：$\\varphi_0(t)=\\begin{bmatrix}\n",
    "                   0\\\\\n",
    "                   1\\\\\n",
    "                  \\end{bmatrix}$\n",
    "    \n",
    "$\\varphi_1(t)=\\begin{bmatrix}\n",
    "               0\\\\\n",
    "               1\\\\\n",
    "              \\end{bmatrix}\n",
    "             +\\int_1^0 \\begin{bmatrix}\n",
    "                      0&1\\\\\n",
    "                      -1&0\\\\\n",
    "                     \\end{bmatrix}\n",
    "                     \\begin{bmatrix}\n",
    "                      0\\\\\n",
    "                      1\\\\\n",
    "                     \\end{bmatrix}\\,\\mathrm{d}s\n",
    "            =\\begin{bmatrix}\n",
    "               0\\\\\n",
    "               1\\\\\n",
    "              \\end{bmatrix}\n",
    "            +\\int_0^t \\begin{bmatrix}\n",
    "                       1\\\\\n",
    "                       0\\\\\n",
    "                      \\end{bmatrix}\\,\\mathrm{d}s\n",
    "            =\\begin{bmatrix}\n",
    "               0\\\\\n",
    "               1\\\\\n",
    "              \\end{bmatrix}\n",
    "              +\\begin{bmatrix}\n",
    "                t\\\\\n",
    "                0\\\\\n",
    "               \\end{bmatrix}=\\begin{bmatrix}\n",
    "                              t\\\\\n",
    "                              1\\\\\n",
    "                             \\end{bmatrix}$\n",
    "\n",
    "$\\varphi_2(t)=\\begin{bmatrix}\n",
    "               t\\\\\n",
    "               1-\\frac{1}{2}t^2\\\\\n",
    "              \\end{bmatrix}$\n",
    "              \n",
    "$\\varphi_3(t)=\\begin{bmatrix}\n",
    "              t-\\frac{1}{6}t^3\\\\\n",
    "              1-\\frac{1}{2}t^2\\\\\n",
    "             \\end{bmatrix}$\n",
    "\n",
    "所以$\\varphi_3(t)$为第三次近似解"
   ]
  },
  {
   "cell_type": "markdown",
   "metadata": {},
   "source": [
    "# <font color='red'>A  25/11"
   ]
  },
  {
   "cell_type": "code",
   "execution_count": null,
   "metadata": {
    "collapsed": true
   },
   "outputs": [],
   "source": []
  }
 ],
 "metadata": {
  "kernelspec": {
   "display_name": "SageMath 7.3",
   "language": "",
   "name": "sagemath"
  },
  "language_info": {
   "codemirror_mode": {
    "name": "ipython",
    "version": 2
   },
   "file_extension": ".py",
   "mimetype": "text/x-python",
   "name": "python",
   "nbconvert_exporter": "python",
   "pygments_lexer": "ipython2",
   "version": "2.7.10"
  }
 },
 "nbformat": 4,
 "nbformat_minor": 0
}
