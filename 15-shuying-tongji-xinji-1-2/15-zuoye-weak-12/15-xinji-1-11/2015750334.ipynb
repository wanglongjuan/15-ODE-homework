{
 "cells": [
  {
   "cell_type": "markdown",
   "metadata": {},
   "source": [
    "1.(2)求解下列方程$x x''-(x')+(x')^3=0$\n",
    "解：令$x'=y$则$x''=y \\frac{\\mathrm dy}{\\mathrm dx}$\n",
    "方程可化为:$$x y \\frac{\\mathrm dy}{\\mathrm dx}-y^2+y^3=0$$\n",
    "解得：$$y=0或\\frac{\\mathrm dy}{\\mathrm dx}=\\frac{y-y^2}{x}$$\n",
    "积分得到：$$x'=0或c_1 x=\\frac{x'}{1-x'}$$\n",
    "积分得到：$$x=c或x+\\frac{1}{c_1}ln|x|=t+c_2$$\n",
    "则原方程的解为：$$x=c或x+\\frac{1}{c_1}ln|x|=t+c_2$$\n",
    "\n",
    "1.(4)求解下列方程$x''+\\sqrt{1-(x')^2}=0$\n",
    "解：令$x'=y$则$x''=y \\frac{\\mathrm dy}{\\mathrm dx}$\n",
    "方程可化为:$$y \\frac{\\mathrm dy}{\\mathrm dx}+\\sqrt{1-y^2}=0$$\n",
    "(1)当$y=\\pm 1$时$$y\\frac{\\mathrm dy}{\\mathrm dx}=0$$\n",
    "积分得到$$x'=c_1$$\n",
    "积分得到$$x=c_1 t+c_2$$\n",
    "(2)当$y\\neq \\pm 1$时方程可化为$$-\\frac{y}{\\sqrt{1-y^2} \\mathrm dy=\\mathrm dx}$$\n",
    "积分得到$$\\sqrt{1-y^2}=x+c_1$$\n",
    "即$$x'=\\pm \\sqrt{1-(x+c_1)^2}$$\n",
    "当$$x=\\sqrt{1-(x+c_1)^2}$$\n",
    "积分得到$$x=sin(t+c_1)+c_2$$\n",
    "当$$x=-\\sqrt{1-(x+c_1)^2}$$\n",
    "积分得到$$x=cos(t+c_1)+c_2$$\n",
    "因此原方程的解为：$$x=c_1 t+c_2x=sin(t+c_1)+c_2x=cos(t+c_1)+c_2$$\n",
    "\n",
    "\n",
    "1.(6)求解下列方程\n",
    "解：（1）当$x'budengyu 0$方程两倍同除以$x'$得$$\\frac{x''}{x'}-\\frac{1}{t}+x'=0$$\n",
    "即$$d(ln|x'|-ln|t|+x)=0$$\n",
    "积分得到$$ln|\\frac{x'}{t}|+x=c_1$$\n",
    "解得$$x'=t e^{c_1-x}$$\n",
    "积分得到$$e^x=c_1 t^2+c_2$$\n",
    "（2）当$x'=0$即$x=c$\n",
    "原方程的解为$$x=c或e^x=c_1 t^2+c_2$$\n",
    "\n",
    "2.（2）用幂级数解法求解下列方程$$(1-t)x''+x=0$$\n",
    "解：设方程的解为：$$x=a_0+a_1 t+a_2 t^2+a_3 t^3+...+a_n t^n+\\dots$$\n",
    "则：$$x'=a_1+2 a_2 t+3 a_3 t^2+...+n a_n t^{n-1}+...$$\n",
    "$$x''=2 a_2+3•2 a_3 t+4•3 a_4 t^2+...+n(n-1)a_n t^{n-2}+...$$\n",
    "把$x.x'.x''$的表达式带入原方程，合并t的同次幂的项，令其等于零得到\n",
    "$$a_0+2 a_2=0$$\n",
    "$$a_1+3•2 a_3-2 a_2=0$$\n",
    "$$a_n+(n+2)(n+1)a_{n+2}-(n+1)n a_{n+1}$$\n",
    "设$x_1(t).x_2(t)$是满足初值条件$x_1(0)=0.x_1'(0)=1,x_2(0)=1.x_2'(0)=0$的两解\n",
    "（1）对于$x_1(t)有a_0=0,a_1=1$\n",
    "则:$$a_2=0 a_3=-\\frac{1}{3•2} a_4=-\\frac{2}{4•3•2} a_5=-\\frac{5}{5•4•3•2}...$$\n",
    "$$a_n=\\frac{(n-1)(n-2)a_{n-1}-a_{n-2}}{n(n-1)}$$\n",
    "$$x_1(t)=t-\\frac{t^3}{3!}-\\frac{2}{4!}t^4-\\frac{5}{5!}t^5...$$\n",
    "（2）\n",
    "对于$x_2(t)有a_0=1.a_1=0$则\n",
    "$$a_2=-\\frac{1}{2} a_3=-\\frac{1}{3•2} a_4=-\\frac{1}{4•3•2}...$$\n",
    "$$a_n=\\frac{(n-1)(n-2)a_{n-1}-a_{n-2}}{n(n-1)}$$\n",
    "即$$x_2(t)=1-\\frac{1}{2!}t^2-\\frac{1}{3!}t^3-\\frac{1}{4!}t^4-...$$\n",
    "那么原方程的解为：$$x=c_1 x_1(t)+c_2 x_2(t)=c_1(t-\\frac{t^3}{3!}-\\frac{2}{4!}t^4-\\frac{5}{5!}t^5...)+c_2(1-\\frac{1}{2!}t^2-\\frac{1}{3!}t^3-\\frac{1}{4!}t^4-...)$$\n",
    "\n",
    "2(2)将下列初值问题化为与之等价的一阶方程组的初值问题：$$\\begin{cases}\n",
    "x''+5 y'-7 x+6 y=e^t\\\\\n",
    "y''-2 y+13 y'-15 x=cos t\n",
    "\\end{cases}$$$$x(0)=1,x'(0)=0,y(0)=0,y/(0)=1$$\n",
    "解：令$w_1=x,w_2=x',w_3=y,w_4=y'$,则原方程组：$$\\begin{pmatrix}w_1\\\\w_2\\\\w_3\\\\w_4\\end{pmatrix}=\\begin{pmatrix}0&1&0&0\\\\7&0&-6&-5\\\\0&0&0&1\\\\15&0&2&-13\\end{pmatrix} \\begin{pmatrix}w_1\\\\w_2\\\\w_3\\\\w_4\\end{pmatrix}+\\begin{pmatrix}0\\\\e^t\\\\0\\\\cost\\end{pmatrix}$$初值条件为$$w_1(0)=1,w_2(0)=0,w_3(0)=0,w_4(0)=1$$\n",
    "\n",
    "3.试用逐步逼近法球方程组$$x'=\\begin{pmatrix}0&1\\\\-1&0\\end{pmatrix}x$$满足初值条件$x(0)=\\begin{pmatrix}0\\\\1\\end{pmatrix}$的第三次近似解"
   ]
  },
  {
   "cell_type": "markdown",
   "metadata": {},
   "source": [
    "解：$$\\varphi_0(t)=\\begin{pmatrix}0\\\\1\\end{pmatrix}$$\n",
    "$$\\varphi_1(t)=\\begin{pmatrix}0\\\\1\\end{pmatrix}+\\int_0^1 \\ \\begin{pmatrix}0&1\\\\-1&0\\end{pmatrix} \\begin{pmatrix}0\\\\1\\end{pmatrix}\\,\\mathrm{d}t\\\\=\\begin{pmatrix}t\\\\1\\end{pmatrix}$$\n",
    "$$\\varphi_2(t)=\\begin{pmatrix}0\\\\1\\end{pmatrix}+\\int_0^t \\begin{pmatrix}0&1\\\\-1&0\\end{pmatrix} \\begin{pmatrix}t\\\\1\\end{pmatrix} \\mathrm{d}t\\\\=\\begin{pmatrix}t\\\\1-\\frac{1}{2}t^2\\end{pmatrix}\\\\ \\varphi_3(t)=\\begin{pmatrix}0\\\\1\\end{pmatrix}+int_0^t \\begin{pmatrix}0&1\\\\-1&0\\end{pmatrix} \\begin{pmatrix}t\\\\1-\\frac{1}{2}t^2\\end{pmatrix} \\mathrm{d}t\\\\=\\begin{pmatrix}t-\\frac{1}{6}t^3\\\\1-\\frac{1}{2}t^2\\end{pmatrix}$$因此满足初值条件$x(0)=\\begin{pmatrix}0\\\\1\\end{pmatrix}$的第三次近似解为：$$\\varphi_3(t)=\\begin{pmatrix}t-\\frac{1}{6}t^3\\\\1-\\frac{1}{2}t^2\\end{pmatrix}$$"
   ]
  },
  {
   "cell_type": "markdown",
   "metadata": {},
   "source": [
    "# <font color='red'>A  25/11"
   ]
  },
  {
   "cell_type": "code",
   "execution_count": null,
   "metadata": {
    "collapsed": true
   },
   "outputs": [],
   "source": []
  }
 ],
 "metadata": {
  "kernelspec": {
   "display_name": "SageMath 7.3",
   "language": "",
   "name": "sagemath"
  },
  "language_info": {
   "codemirror_mode": {
    "name": "ipython",
    "version": 2
   },
   "file_extension": ".py",
   "mimetype": "text/x-python",
   "name": "python",
   "nbconvert_exporter": "python",
   "pygments_lexer": "ipython2",
   "version": "2.7.10"
  }
 },
 "nbformat": 4,
 "nbformat_minor": 0
}
