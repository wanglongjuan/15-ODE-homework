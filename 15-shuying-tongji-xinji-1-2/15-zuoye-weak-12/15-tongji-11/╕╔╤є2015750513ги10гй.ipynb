{
 "cells": [
  {
   "cell_type": "markdown",
   "metadata": {},
   "source": [
    "## 常微分第十次作业\n",
    "## 干洋 2015750513\n",
    "## 第182页第1题：\n",
    "## 求解下列方程：\n",
    "## （2）$xx''-(x')^2+(x')^3$\n",
    "## （4）$x''+\\sqrt{1-(x')^2}=0$\n",
    "## （6）$x''-\\frac{1}{t}x'+(x')^2=0$（提示：方程两端除以$x'$）\n",
    "## 解：（2）令$x'=y$，则方程化为\n",
    "$$ xy\\frac{dy}{dx}-y^2+y^3=0$$\n",
    "## 得到\n",
    "$$ y=0$$或者$$\\frac{dy}{dx}=\\frac{y-y^2}{x}$$\n",
    "## 积分后得\n",
    "$$ \\frac{y}{y-1}=c_1x,(c_1\\neq0)$$\n",
    "## 即\n",
    "$$ \\frac{x'}{1-x'}=c_1x$$\n",
    "## 再次积分得到\n",
    "$$ x+\\frac{1}{c_1}\\ln |x|=t+c_2$$\n",
    "## 当$y=0$时，得$x'=0,故x=c$\n",
    "## 综上所述，方程的解为$ x+\\frac{1}{c_1}\\ln |x|=t+c_2$或$x=c$\n",
    "## 这里$c_1,c_2$,c是任意常数\n",
    "## （4）当$x'\\neq 0$时，方程两边同时除以x'，则得到$ \\frac{x''}{x'}-\\frac{1}{t}+x'=0$,即$ d(\\ln|x'|-\\ln|t|+x)=0$,两边积分可得$ \\ln|\\frac{x'}{t}|+x=c_1$.解出x'，则有$ x'=t(e^{-x+c_1})$,再次积分可得$ e^x=e^{c_1}(\\frac{t^2}{2})+c_2$.由于这里的c_1,c_2是任意的常数，所以可以写成$ e^x=c_1(t^2+c_2)$.当$x'=0$时，即得$x=c$,显然它也是原方程的解.综上所述，方程的解是$e^x=c_1(t^2+c_2)或x=c$\n",
    "## （6）当$x'\\neq 0$时，方程两边同时除以x'，则得到$ \\frac{x''}{x'}-\\frac{1}{t}+x'=0$,即$ d(\\ln|x'|-\\ln|t|+x)=0$.\n",
    "## 两边积分可得$ \\ln|\\frac{x'}{t}|+x=c_1$,解出x'，则有$ x'=t(e^{-x+c_1})$,再次积分可得$ e^x=e^{c_1}(\\frac{t^2}{2})+c_2$.由于这里的$c_1,c_2$是任意的常数，所以可以写成$ e^x=c_1(t^2+c_2)$.当$x'=0$时，即得$x=c$,显然它也是原方程的解.综上所述，方程的解是$e^x=c_1(t^2+c_2)或x=c$\n",
    "## 第183页第2题：\n",
    "## 用幂级数解法求解下列方程：\n",
    "## （3）$x''-tx'-x=0$\n",
    "## 解：（3）设$x_1(t)=a_0+a_1(t)+a_2(t)^2+\\cdots+a_nt^n+\\cdots$是方程满足初值条件$x_1(0)=1,x'_1(0)=0$的特解，则$ x_1(t)=1+a_2t^2+a_3t^3+\\cdots+a_nt^n+\\cdots , x'_1(t)=2a_2t+3a_3t^2+\\cdots+na_nt^{n-1}+\\cdots , x''_1(t)=2a_2+6a_3t+\\cdots+n(n-1)a_nt{n-2}+\\cdots$,把$x'_1(t),x''_1(t)$及$x_1(t)$的表达式代入方程，合并t的各同次幂的项，并令各项系数等于零，得到$ a_0=1,a_1=0,a_2=\\frac{1}{2},a_3=0,a_4\\frac{1}{4\\cdot2}, a_5=0,\\cdots,a_{n+2}=\\frac{a_n}{n+2},\\cdots , a_{2k+1}=0 , a_{2k}=\\frac{1}{2\\cdot4\\cdot6\\cdots(2k)}$即得到$x_1(t)=1+\\frac{1}{2}t^2+\\frac{1}{2\\cdot4}t^4+\\cdots+\\frac{1}{2\\cdot4\\cdot6\\cdots(2k)}t^{2k}+\\cdots$,再设$x_2(t)=b_0+b_1t+b_2+t^2+\\cdots+b_nt^n+\\cdots$是方程满足初值条件$x_2(0)=0,x'_2(0)=1$的特解，则$ b_0=0,b_1=1 $.并且\n",
    "$$ x_2(t)t+b_2t^2+b_3t^3+\\cdots+b_nt^n+\\cdots $$\n",
    "$$ x'_2(t)=1+2b_2t+3b_3t^2+\\cdots+nb_nt^{n-1}+\\cdots $$\n",
    "$$ x''_2(t)=2b_2+6b_3t+\\cdots+n(n-1)b_nt^{n-2}+\\cdots $$\n",
    "## 把$x_2(t),x'_2(t),x''_2(t)$的表达式代入方程，合并t的各同次幂的项，并令各项系数等于零，即有$ b_2=0,b_3=\\frac{1}{3},\\cdots,b_{n+2}=\\frac{b_n}{n+2}$.由此得$ b_{2k}=0 $,$ b_{2k+1}=\\frac{1}{3\\cdot5\\cdot7\\cdots(2k+1)}$,即得到$ x_2(t)=t+\\frac{t^3}{3}+\\frac{t^5}{3\\cdot5}+\\frac{t^7}{3\\cdot5\\cdot7}+\\cdots$.显然$x_1(t)$和$x_2(t)$是方程的两个线性无关解，故原方程通解为$ x(t)=c_1x_1(t)+c_2x_2(t)$,$ =c_1(1+\\frac{1}{2}t^2+\\frac{1}{2\\cdot4}t^4+\\cdots)+c_2(t+\\frac{t^3}{3}+\\frac{t^5}{3\\cdot5}+\\frac{t^7}{3\\cdot5\\cdot7}+\\cdots)$,其中$c_1,c_2$是任意常数."
   ]
  },
  {
   "cell_type": "markdown",
   "metadata": {},
   "source": [
    "## 第201页第2题：\n",
    "## 将下面的初值问题化为与之等价的一解方程组的初值问题：\n",
    "## （3）$ \\begin{cases}\n",
    "x''+5y'-7x+6y=e^t,\\\\y''-2y+13y'-15x=\\cos t,\n",
    "\\end{cases} x(0) =1 ,x'(0)=0 ,y'(0)=1.$\n",
    "(提示：令$\\omega _1=x,\\omega _2=x',\\omega _3=y,\\omega _4=y'.)$\n",
    "## 解：（3）令$\\omega _1=x,\\omega _2=x',\\omega _3=y,\\omega _4=y'$,则原方程组$ \\begin{pmatrix} \\omega _1 \\\\\\omega _2 \\\\ \\omega _3 \\\\\\omega _4 \\end{pmatrix} = \\begin{pmatrix} 0&1&0&0 \\\\7&0&-6&-5 \\\\ 0&0&0&1 \\\\15&0&2&-13 \\end{pmatrix}\\begin{pmatrix} \\omega _1 \\\\\\omega _2 \\\\ \\omega _3 \\\\\\omega _4 \\end{pmatrix}+ \\begin{pmatrix} 0 \\\\e^t \\\\ 0 \\\\ \\cos t \\end{pmatrix}$，初值条件为$\\omega _1(0)=1,\\omega _2(0)=0,\\omega _3(0)=0,\\omega _4(0)=1$\n",
    "## 第201页第3题：\n",
    "## 试用逐步逼近法求方程组$x'=\\begin{bmatrix} 0&1 \\\\ -1&0 \\\\  \\end{bmatrix} x$满足初值条件$x(0)=\\begin{bmatrix} 0 \\\\ 1 \\\\  \\end{bmatrix}$的第三次近似解.\n",
    "## 解：$\\phi _0(t)=\\begin{bmatrix} 0 \\\\ 1 \\\\  \\end{bmatrix}$,$\\phi _1(t)=\\begin{bmatrix} 0 \\\\ 1 \\\\  \\end{bmatrix}+\\int _1^0 \\begin{bmatrix} 0&1 \\\\ -1&0 \\\\  \\end{bmatrix}\\begin{bmatrix} 0 \\\\ 1 \\\\  \\end{bmatrix} ds$.\n",
    "$=\\begin{bmatrix} 0 \\\\ 1 \\\\  \\end{bmatrix} +\\int _0^t \\begin{bmatrix} 1 \\\\ 0 \\\\  \\end{bmatrix}ds $.\n",
    "$ =\\begin{bmatrix} 0 \\\\ 1 \\\\  \\end{bmatrix}+\\begin{bmatrix} t \\\\ 0 \\\\  \\end{bmatrix} $.\n",
    "$ =\\begin{bmatrix} t \\\\ 1 \\\\  \\end{bmatrix}  $,\n",
    "$\\phi _2(t)=\\begin{bmatrix} 0 \\\\ 1 \\\\  \\end{bmatrix}+\\int _0^t  \\begin{bmatrix} 0&1 \\\\ -1&0 \\\\  \\end{bmatrix}\\begin{bmatrix} t \\\\ 1 \\\\  \\end{bmatrix} dt$.\n",
    "$=\\begin{bmatrix} 0 \\\\ 1 \\\\  \\end{bmatrix} +\\int _0^t \\begin{bmatrix} 1 \\\\ -t \\\\  \\end{bmatrix}dt $.\n",
    "$=\\begin{bmatrix} 0 \\\\ 1 \\\\  \\end{bmatrix}+\\begin{bmatrix} t \\\\ -\\frac{1}{2}t^2 \\\\  \\end{bmatrix}$.\n",
    "$=\\begin{bmatrix} t \\\\1 -\\frac{1}{2}t^2 \\\\  \\end{bmatrix}  $,<br>\n",
    "$\\phi _3(t)\\begin{bmatrix} 0 \\\\ 1 \\\\  \\end{bmatrix}+\\int _0^t  \\begin{bmatrix} 0&1 \\\\ -1&0 \\\\  \\end{bmatrix}\\begin{bmatrix} s \\\\1 -\\frac{1}{2}s^2 \\\\  \\end{bmatrix}ds= \\begin{bmatrix} 0 \\\\ 1 \\\\  \\end{bmatrix}+ \\int _0^t \\begin{bmatrix} 1 -\\frac{1}{2}s^2 \\\\-s \\\\  \\end{bmatrix}ds $.\n",
    "$ =\\begin{bmatrix} 0 \\\\ 1 \\\\  \\end{bmatrix} + \\begin{bmatrix} t-\\frac{1}{6}t^3 \\\\ -\\frac{1}{2}t^2 \\\\  \\end{bmatrix}=\\begin{bmatrix}t-\\frac{1}{6}t^3 \\\\ 1 -\\frac{1}{2}t^2 \\\\  \\end{bmatrix} $\n",
    "## 所以满足初值条件$ x(0)=\\begin{bmatrix} 0 \\\\ 1 \\\\  \\end{bmatrix} $的第三次近似解为$ \\phi _3(t) =\\begin{bmatrix}t-\\frac{1}{6}t^3 \\\\  1-\\frac{1}{2}t^2 \\\\  \\end{bmatrix}  $  "
   ]
  },
  {
   "cell_type": "markdown",
   "metadata": {
    "collapsed": true
   },
   "source": [
    "# <font color='red'>A  25/11"
   ]
  },
  {
   "cell_type": "code",
   "execution_count": null,
   "metadata": {
    "collapsed": true
   },
   "outputs": [],
   "source": []
  }
 ],
 "metadata": {
  "kernelspec": {
   "display_name": "SageMath 7.3",
   "language": "",
   "name": "sagemath"
  },
  "language_info": {
   "codemirror_mode": {
    "name": "ipython",
    "version": 2
   },
   "file_extension": ".py",
   "mimetype": "text/x-python",
   "name": "python",
   "nbconvert_exporter": "python",
   "pygments_lexer": "ipython2",
   "version": "2.7.10"
  }
 },
 "nbformat": 4,
 "nbformat_minor": 0
}
