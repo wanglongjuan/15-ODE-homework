{
 "cells": [
  {
   "cell_type": "markdown",
   "metadata": {},
   "source": [
    "# $$姓名：龙嵛葭$$\n",
    "# $$学号：2015750112$$"
   ]
  },
  {
   "cell_type": "markdown",
   "metadata": {},
   "source": [
    "## $（1）xx^{\\prime\\prime}-(x^\\prime)^2+(x^\\prime)^3=0$"
   ]
  },
  {
   "cell_type": "markdown",
   "metadata": {},
   "source": [
    "因为该方程不含自变量t\n",
    "\n",
    "则令$x^\\prime=y$,则$x^{\\prime\\prime}=y^\\prime=\\frac{\\mathrm d y}{\\mathrm d t}=\\frac{\\mathrm d x}{\\mathrm d t}\\frac{\\mathrm d y}{\\mathrm d x}=x^\\prime\\frac{\\mathrm d y}{\\mathrm d x}=y\\frac{\\mathrm d y}{\\mathrm d x}$\n",
    "\n",
    "所以有原方程$xy\\frac{\\mathrm d y}{\\mathrm d x}-y^2+y^3=0$\n",
    "\n",
    "$$xy\\frac{\\mathrm d y}{\\mathrm d x}=y^2(1-y)$$\n",
    "\n",
    "$y=0$时,$x=c$,满足方程。\n",
    "\n",
    "$y≠0$时,则$\\frac{1}{x}\\mathrm d x=(\\frac{1}{y}-\\frac{1}{y-1})\\mathrm d y$\n",
    "\n",
    "两边积分，$y=\\frac{c_1x}{c_1x-1}$\n",
    "\n",
    "即$$\\frac{\\mathrm d x}{\\mathrm d t}=x^\\prime=\\frac{c_1x}{c_1x-1}$$\n",
    "\n",
    "两边积分，$x+c_1\\ln |x|=t+c_2(其中c_1,c_2为任意常数）$\n",
    "\n",
    "所以方程的解为$$x+c_1\\ln |x|=t+c_2(其中c_1,c_2为任意常数）或x=c$$"
   ]
  },
  {
   "cell_type": "markdown",
   "metadata": {},
   "source": [
    "## $(2)x^{\\prime\\prime}+\\sqrt{1-(x^\\prime)^2}=0$"
   ]
  },
  {
   "cell_type": "markdown",
   "metadata": {},
   "source": [
    "令$y=x^\\prime$,则$x^{\\prime\\prime}=y^\\prime=\\frac{\\mathrm d y}{\\mathrm d t}$\n",
    "\n",
    "由上，原方程化为$$\\frac{\\mathrm d y}{\\mathrm d t}=-\\sqrt{1-y^2}$$\n",
    "\n",
    "$\\frac{1}{\\sqrt{1-y^2}}\\mathrm d y=-\\mathrm d t$\n",
    "\n",
    "$y=±1$时,则$x=±t+c(c为任意常数）满足方程$\n",
    "\n",
    "$y≠±1$时,两边积分得$$\\arcsin y=-t+c_1$$\n",
    "\n",
    "$x^\\prime=y=\\sin (c_1-t)$\n",
    "\n",
    "所以$x=\\cos(-t+c_1)+c_2=\\cos(t-c_1)+c_2（其中c_1,c_2为任意常数）$\n",
    "\n",
    "所以方程的解为$$x=\\cos(t-c_1)+c_2（其中c_1,c_2为任意常数）或者x=±t+c(c为任意常数）$$"
   ]
  },
  {
   "cell_type": "markdown",
   "metadata": {},
   "source": [
    "## $(3)x^{\\prime\\prime}-\\frac{1}{t}x^\\prime+(x^\\prime)^2=0(提示：方程两边除以x^\\prime)$"
   ]
  },
  {
   "cell_type": "markdown",
   "metadata": {
    "collapsed": true
   },
   "source": [
    "$x^\\prime=0$时，$x=c$,满足方程。\n",
    "\n",
    "$x^\\prime≠0$时，方程两边同除以$x^\\prime$,则得到\n",
    "$$\\frac{x^{\\prime\\prime}}{x^\\prime}-\\frac{1}{t}+x^\\prime=0$$\n",
    "\n",
    "即$\\mathrm d(\\ln |x^\\prime|-\\ln |t|+x)=0$\n",
    "\n",
    "积分得$\\ln |\\frac{x^\\prime}{t}|+x=c_1$\n",
    "\n",
    "所以$$x^\\prime=t(e^{-x+c_1})$$\n",
    "\n",
    "两边再次积分，化解为$e^x=c_1(t^2+c_2)$，$c_1,c_2$为任意常数\n",
    "所以方程的通解为$$e^x=c_1(t^2+c_2)或者x=c$$"
   ]
  },
  {
   "cell_type": "markdown",
   "metadata": {},
   "source": [
    "## 2.用幂级数解法求解下列方程："
   ]
  },
  {
   "cell_type": "markdown",
   "metadata": {},
   "source": [
    "## $(2)(1-t)x^{\\prime\\prime}+x=0$"
   ]
  },
  {
   "cell_type": "markdown",
   "metadata": {},
   "source": [
    "**解**\n",
    "\n",
    "设\n",
    "$$x=a_0+a_1t+a_2t^2+…a_kt^k+…a_nt^n+…$$\n",
    "为方程的解，这里$a_i(i=0,1,2,…，n,…）$是待定常数\n",
    "\n",
    "将它对x微分两次，有\n",
    "$$x^{\\prime\\prime}=2a_2+6a_3t+…k(k-1)a_kt^{k-2}+…n(n-1)a_nt^{n-2}+…$$\n",
    "\n",
    "代入原方程，比较t的系数，可知\n",
    "$$\n",
    "\\begin{aligned}\n",
    "2a_2+a_0&=0\\\\6a_3-2a_2+a_1&=0\\\\k(k-1)a_k-(k-1)(k-2)a_{k-1}+a_{k-2}&=0(k≥3）\n",
    "\\end{aligned}\n",
    "$$\n",
    "求方程的通解，可设$x_(0)=c_1,x^\\prime(0)=c_2$\n",
    "\n",
    "因为$$a_k=\\frac{k-2}{k}a_{k-1}-\\frac{1}{k(k-1)}a_{k-2}（k>3）$$\n",
    "\n",
    "所以有\n",
    "$$\n",
    "\\begin{aligned}\n",
    "a_0&=c_1,\\\\a_1&=c_2,\\\\a_2&=-\\frac{1}{2}c_1,\\\\a_3&=-\\frac{1}{3!}c_1-\\frac{1}{3!}c_2,\\\\\\cdots\n",
    "\\end{aligned}\n",
    "$$\n",
    "\n",
    "\n",
    "因此逐次递推求得幂级数解\n",
    "\n",
    "$$x=c_1(1-\\frac{1}{2}t^2-\\frac{1}{3!}t^3-\\frac{1}{4!}t^4-\\frac{2}{5!}t^5-…）+c_2(t-\\frac{1}{3!}t^3-\\frac{2}{4!}t^4-\\frac{5}{5!}t^5-\\frac{18}{6!}t^6-…)$$"
   ]
  },
  {
   "cell_type": "markdown",
   "metadata": {},
   "source": [
    "## 2.将下面的初值问题化为与之等价的一阶方程组的初值问题"
   ]
  },
  {
   "cell_type": "markdown",
   "metadata": {},
   "source": [
    "$（1）\n",
    "\\begin{cases}\n",
    "x^{\\prime\\prime}+5y^\\prime-7x+6y=e^t\\\\\n",
    "y^{\\prime\\prime}-2y+13y^\\prime-15x=\\cos t\n",
    "\\end{cases}\n",
    "$\n",
    "\n",
    "$x(0)=1,x^\\prime(0)=0,y(0)=0,y^\\prime(0)=1.$\n",
    "\n",
    "$(提示：令\\omega_1=x,\\omega_2=x^\\prime,\\omega_3=y,\\omega_4=y^\\prime.)$"
   ]
  },
  {
   "cell_type": "markdown",
   "metadata": {},
   "source": [
    "由题，令$\\omega_1=x,\\omega_2=x^\\prime,\\omega_3=y,\\omega_4=y^\\prime$\n",
    "\n",
    "则可得\n",
    "$$\n",
    "\\begin{cases}\n",
    "\\omega_1^\\prime=x^\\prime=  \\omega_2\\\\\n",
    "\\omega_2^\\prime=x^{\\prime\\prime}=7\\omega_1 -6\\omega_3-5\\omega_4+e^t\\\\\n",
    "\\omega_3^\\prime=y^\\prime=\\omega_4\\\\\n",
    "\\omega_4^\\prime=15\\omega_1+2\\omega_3-13\\omega_4+\\cos t\n",
    "\\end{cases}\n",
    "$$\n",
    "\n",
    "且\n",
    "$\n",
    "\\begin{cases}\n",
    "\\eta_1=\\omega_1(0)=x(0) =1\\\\\n",
    "\\eta_2=\\omega_2(0)=x^\\prime(0)=0\\\\\n",
    "\\eta_3=\\omega_3(0)=y(0) =0\\\\\n",
    "\\eta_4=\\omega_4(0)=y^\\prime(0)=1\n",
    "\\end{cases}\n",
    "$"
   ]
  },
  {
   "cell_type": "markdown",
   "metadata": {},
   "source": [
    "而$\\omega^\\prime=A(t)\\omega+f(t)$\n",
    "与之等价的初值问题为\n",
    "$\n",
    "\\begin{cases}\n",
    "\\mathbf \\omega^\\prime=\n",
    "\\begin{bmatrix}\n",
    "0 & 1 & 0 & 0\\\\\n",
    "7 & 0 & -6 & -5\\\\\n",
    "0 & 0 & 0 & 1\\\\\n",
    "15 & 0 & 2 & -13\\\\\n",
    "\\end{bmatrix}\\mathbf \\omega+\n",
    "\\begin{bmatrix}\n",
    "0\\\\\n",
    "e^t\\\\\n",
    "0\\\\\n",
    "\\cos t\\\\\n",
    "\\end{bmatrix}\\\\\n",
    "\\mathbf \\omega(0)=\n",
    "\\begin{bmatrix}\n",
    "1\\\\\n",
    "0\\\\\n",
    "0\\\\\n",
    "1\\\\\n",
    "\\end{bmatrix}\n",
    "\\end{cases}\n",
    "$\n",
    "\n",
    "\n",
    "\n",
    "\n"
   ]
  },
  {
   "cell_type": "markdown",
   "metadata": {},
   "source": [
    "\n",
    "## 3.试用逐步逼近法求方程组\n",
    "$$\n",
    "\\mathbf x^\\prime=\n",
    "\\begin{bmatrix}\n",
    "0 &1\\\\\n",
    "-1& 0\\\\\n",
    "\\end{bmatrix}\\mathbf x\n",
    "$$\n",
    "## 满足初值条件\n",
    "$$\n",
    "\\mathbf x(0)=\n",
    "\\begin{bmatrix}\n",
    "0\\\\\n",
    "1\\\\\n",
    "\\end{bmatrix}\n",
    "$$\n",
    "## 的第三次近似解。\n"
   ]
  },
  {
   "cell_type": "markdown",
   "metadata": {},
   "source": [
    "可构造逐步逼近序列\n",
    "$\n",
    "\\begin{cases}\n",
    "\\varphi_0(t)=\\eta=x(0)\\\\\n",
    "\\varphi_k(t)=x(0)+\\int_0^t [A(s)\\varphi_{k-1}(s)+f(s)]\\mathrm d s\n",
    "\\end {cases}\n",
    "$\n",
    "其中\n",
    "$$\n",
    "\\mathbf A(s)=\n",
    "\\begin{bmatrix}\n",
    "0 &1\\\\\n",
    "-1& 0\\\\\n",
    "\\end{bmatrix}，\n",
    "\\mathbf f(s)=\n",
    "\\begin{bmatrix}\n",
    "0\\\\\n",
    "0\\\\\n",
    "\\end{bmatrix}\n",
    "$$\n",
    "\n",
    "\n"
   ]
  },
  {
   "cell_type": "markdown",
   "metadata": {},
   "source": [
    "所以\n",
    "$\n",
    "\\begin{aligned}\n",
    "\\mathbf \\varphi_1(t)&=\n",
    "\\begin{bmatrix}\n",
    "0\\\\\n",
    "1\\\\\n",
    "\\end{bmatrix}+\n",
    "\\int_0^t \n",
    "\\begin{bmatrix}\n",
    "0 &1\\\\\n",
    "-1& 0\\\\\n",
    "\\end{bmatrix}\n",
    "\\begin{bmatrix}\n",
    "0\\\\\n",
    "1\\\\\n",
    "\\end{bmatrix}\\mathrm d s\\\\&=\n",
    "\\begin{bmatrix}\n",
    "0\\\\\n",
    "1\\\\\n",
    "\\end{bmatrix}+\\int_0^t \n",
    "\\begin{bmatrix}\n",
    "1\\\\\n",
    "0\\\\\n",
    "\\end{bmatrix}\\mathrm d s\\\\&=\n",
    "\\begin{bmatrix}\n",
    "0\\\\\n",
    "1\\\\\n",
    "\\end{bmatrix}+\\begin{bmatrix}\n",
    "t\\\\\n",
    "0\\\\\n",
    "\\end{bmatrix}\\\\&=\n",
    "\\begin{bmatrix}\n",
    "t\\\\\n",
    "1\\\\\n",
    "\\end{bmatrix}\n",
    "\\end{aligned}\n",
    "$"
   ]
  },
  {
   "cell_type": "markdown",
   "metadata": {},
   "source": [
    "$\n",
    "\\begin{aligned}\n",
    "\\mathbf \\varphi_2(t)&=\n",
    "\\begin{bmatrix}\n",
    "0\\\\\n",
    "1\\\\\n",
    "\\end{bmatrix}+\n",
    "\\int_0^t \n",
    "\\begin{bmatrix}\n",
    "0 &1\\\\\n",
    "-1& 0\\\\\n",
    "\\end{bmatrix}\n",
    "\\begin{bmatrix}\n",
    "s\\\\\n",
    "1\\\\\n",
    "\\end{bmatrix}\\mathrm d s\\\\&=\n",
    "\\begin{bmatrix}\n",
    "0\\\\\n",
    "1\\\\\n",
    "\\end{bmatrix}+\\int_0^t \n",
    "\\begin{bmatrix}\n",
    "1\\\\\n",
    "-s\\\\\n",
    "\\end{bmatrix}\\mathrm d s\\\\&=\n",
    "\\begin{bmatrix}\n",
    "0\\\\\n",
    "1\\\\\n",
    "\\end{bmatrix}+\\begin{bmatrix}\n",
    "t\\\\\n",
    "-\\frac{1}{2}t^2\\\\\n",
    "\\end{bmatrix}\\\\&=\n",
    "\\begin{bmatrix}\n",
    "t\\\\\n",
    "1-\\frac{1}{2}t^2\\\\\n",
    "\\end{bmatrix}\n",
    "\\end{aligned}\n",
    "$\n",
    "所以满足条件的第三次近似解为\n",
    "$$\n",
    "\\mathbf \\varphi_3(t)=\n",
    "\\begin{bmatrix}\n",
    "t-\\frac{1}{6}t^3\\\\\n",
    "1-\\frac{1}{2}t^2\\\\\n",
    "\\end{bmatrix}\n",
    "$$\n"
   ]
  },
  {
   "cell_type": "markdown",
   "metadata": {},
   "source": [
    "# <font color='red'>A  25/11"
   ]
  },
  {
   "cell_type": "code",
   "execution_count": null,
   "metadata": {
    "collapsed": true
   },
   "outputs": [],
   "source": []
  },
  {
   "cell_type": "code",
   "execution_count": null,
   "metadata": {
    "collapsed": true
   },
   "outputs": [],
   "source": []
  },
  {
   "cell_type": "code",
   "execution_count": null,
   "metadata": {
    "collapsed": true
   },
   "outputs": [],
   "source": []
  },
  {
   "cell_type": "code",
   "execution_count": null,
   "metadata": {
    "collapsed": true
   },
   "outputs": [],
   "source": []
  },
  {
   "cell_type": "code",
   "execution_count": null,
   "metadata": {
    "collapsed": true
   },
   "outputs": [],
   "source": []
  },
  {
   "cell_type": "code",
   "execution_count": null,
   "metadata": {
    "collapsed": true
   },
   "outputs": [],
   "source": []
  }
 ],
 "metadata": {
  "kernelspec": {
   "display_name": "SageMath 7.3",
   "language": "",
   "name": "sagemath"
  },
  "language_info": {
   "codemirror_mode": {
    "name": "ipython",
    "version": 2
   },
   "file_extension": ".py",
   "mimetype": "text/x-python",
   "name": "python",
   "nbconvert_exporter": "python",
   "pygments_lexer": "ipython2",
   "version": "2.7.10"
  }
 },
 "nbformat": 4,
 "nbformat_minor": 0
}
