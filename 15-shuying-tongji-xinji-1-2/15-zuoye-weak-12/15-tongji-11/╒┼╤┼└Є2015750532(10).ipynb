{
 "cells": [
  {
   "cell_type": "markdown",
   "metadata": {},
   "source": [
    "$P183页1、求解下列方程。$\n",
    "\n",
    "$(2)xx''-(x')^2+(x')^3=0$\n",
    "\n",
    "$(4)x''+\\sqrt{1-(x')^2}=0$\n",
    "\n",
    "$(2)x''-\\frac{1}{t}x'+(x')^2=0(提示：方程两端除以x')$\n",
    "\n",
    "$解：(2)令y=x',则方程变形为xy\\frac{dy}{dx}-y^2+y^3=0,可得y=0或\\frac{dy}{dx}=\\frac{y-y^2}{x}$\n",
    "\n",
    "$积分后可得\\frac{y}{1-y}=cx(c\\neq0),整理得y=\\frac{cx}{1+cx},即x'=\\frac{cx}{1+cx}$\n",
    "\n",
    "$积分后得x+\\frac{1}{c}ln|x|=t+c_2,即方程有解为x+c_1ln|x|=t+c_2$\n",
    "\n",
    "$当y=0时，x'=0,故x=c_3.$\n",
    "\n",
    "$所以，方程的解为x+c_1ln|x|=t+c_2或x=c_3,其中c_1,c_2,c_3是任意常数。$\n",
    "\n",
    "$(4)令y=x',则方程变形为y\\frac{dy}{dx}+\\sqrt{1-y^2}=0$\n",
    "\n",
    "$当y\\neq±1时，方程又可以变形为\\frac{ydy}{\\sqrt{1-y^2}}=-dx,积分后得\\sqrt{1-y^2}=x+c,即\\sqrt{1-(x')^2}=x+c$\n",
    "\n",
    "$故x'=±\\sqrt{1-(x+c)^2},再次积分得x=\\sin(t+c_1)+c_2或x=\\cos(t+c_1)+c_2$\n",
    "\n",
    "$当y=±1时，x'=±1,则x=±t+c$\n",
    "\n",
    "$所以，方程的解为x=\\sin(t+c_1)+c_2或x=\\cos(t+c_1)+c_2,以及x=±t+c,其中c_1,c_2,c是任意常数。$\n",
    "\n",
    "$(6)当x'\\neq0时，方程两边除以x',得\\frac{x''}{x'}-\\frac{1}{t}+x'=0,即d(ln|x'|-ln|t|+x)=0$\n",
    "\n",
    "$积分可得ln|\\frac{x'}{t}|+x=c_1,则x'=t(e^{-x+c_1}),再次积分可得e^x=e^{c_1}(\\frac{t^2}{2})+c_2$\n",
    "\n",
    "$当x'=0时，x=c$\n",
    "\n",
    "$所以，方程的解为e^x=e^{c_1}(\\frac{t^2}{2})+c_2或x=c,其中c_1,c_2,c是任意常数。$"
   ]
  },
  {
   "cell_type": "markdown",
   "metadata": {},
   "source": [
    "$2、用幂级数解法求解下列方程。$\n",
    "\n",
    "$(2)(1-t)x''+x=0$\n",
    "\n",
    "$解:方程可化为x''+\\frac{x}{1-t}=0,因为tp(t)=0,t^2q(t)=\\frac{t^2}{1-t},故存在幂级数解.$\n",
    "\n",
    "$设x=a_0+a_1t+a_2t^2+a_3t^3+\\dots+a_nt^n+\\dots是方程的解$\n",
    "\n",
    "$则x'=a_1+2a_2t+3a_3t^2+\\dots+na_nt^{n-1}+\\dots,x''=2a_2+3·2a_3t+\\dots+n(n-1)a_nt^{n-2}+\\dots$\n",
    "\n",
    "$将x,x',x''的表达式代入原方程,比较同次幂系数,可得2a_2+a_0=0,3·2a_3-2a_2+a_1=0,$\n",
    "$k(k-1)a_k-(k-1)(k-2)a_{k-1}+a_{k-2}=0,k>3(1)$\n",
    "\n",
    "$求通解需要找到两个线性无关的解.$\n",
    "\n",
    "$设x_1(t)和x_2(t)是满足初值条件x_1(0)=0,x'_1(0)=1,x_2(0)=1,x'_2(0)=0的两个解.$\n",
    "\n",
    "$对于x_1(t),显然有a_0=0,a_1=1,代入(1)得,a_2=0,a_3=\\frac{-1}{1·2·3},a_4=\\frac{-2}{1·2·3·4},a_5=\\frac{-5}{1·2·3·4·5},\\dots,a_n=\\frac{(n-1)(n-2)a_{n-1}-a_{n-2}}{n(n-1)}$\n",
    "\n",
    "$也就是x_1(t)=t-\\frac{t^3}{3!}-\\frac{2}{4!}t^4-\\frac{5}{5!}t^5-\\frac{18}{6!}t^6-\\dots$\n",
    "\n",
    "$对于x_2(t),显然有a_0=1,a_1=0,代入(1)得,a_2=-\\frac{1}{2},a_3=\\frac{-1}{1·2·3},a_4=\\frac{-1}{1·2·3·4},\\dots,a_n=\\frac{(n-1)(n-2)a_{n-1}-a_{n-2}}{n(n-1)}$\n",
    "\n",
    "$也就是x_2(t)=1-\\frac{1}{2!}t^2-\\frac{1}{3!}t^3-\\frac{1}{4!}t^4-\\dots$\n",
    "\n",
    "$所以，方程的通解为x=c_1x_1(t)+c_2x_2(t)=c_1(t-\\frac{t^3}{3!}-\\frac{2}{4!}t^4-\\frac{5}{5!}t^5-\\frac{18}{6!}t^6-\\dots)+c_2(1-\\frac{1}{2!}t^2-\\frac{1}{3!}t^3-\\frac{1}{4!}t^4-\\dots)$"
   ]
  },
  {
   "cell_type": "markdown",
   "metadata": {},
   "source": [
    "$P201页2、将下面的初值问题化为与之等价的一阶方程组的初值问题。$\n",
    "\n",
    "$(3)\\begin{cases}x''+5y'-7x+6y=e^t\\\\y''-2y+13y'-15x=\\cos t\\end{cases},x(0)=1,x'(0)=0,y(0)=0,y'(0)=1.$\n",
    "$(提示：令ω_1=x,ω_2=x',ω_3=y,ω_4=y')$\n",
    "\n",
    "$解：令ω_1=x,ω_2=x',ω_3=y,ω_4=y',则原初值问题可化为\\begin{cases}ω'_1=x'=ω_2\\\\ω'_2=x''=-5ω_4+7ω_1-6ω_3+e^t\\\\ω'_3=y'=ω_4\\\\ω'_4=y''=2ω_3-13ω_4+15ω_1+\\cos t\\end{cases}$\n",
    "\n",
    "$且\\begin{cases}ω_1(0)=x(0)=1\\\\ω_2(0)=x'(0)=0\\\\ω_3(0)=y(0）=0\\\\ω_4(0)=y'(0)=1\\end{cases}$\n",
    "\n",
    "$即ω'=\\begin{bmatrix}0&1&0&0\\\\7&0&-6&-5\\\\0&0&0&1\\\\15&0&2&-13\\end{bmatrix}ω+\\begin{bmatrix}0\\\\e^t\\\\0\\\\\\cos t\\end{bmatrix},ω(0)=\\begin{bmatrix}1\\\\0\\\\0\\\\1\\end{bmatrix},其中ω=\\begin{bmatrix}ω_1\\\\ω_2\\\\ω_3\\\\ω_4\\end{bmatrix}$"
   ]
  },
  {
   "cell_type": "markdown",
   "metadata": {},
   "source": [
    "$3、试用逐步逼近法求方程组x'=\\begin{bmatrix}0&1\\\\-1&0\\end{bmatrix}x,满足初值条件x(0)=\\begin{bmatrix}0\\\\1\\end{bmatrix}的第三次近似解。$\n",
    "\n",
    "$解：ψ_0(t)=\\begin{bmatrix}0\\\\1\\end{bmatrix}$\n",
    "\n",
    "$ψ_1(t)=\\begin{bmatrix}0\\\\1\\end{bmatrix}+\\int_0^{t} \\mathrm {\\begin{bmatrix}0&1\\\\-1&0\\end{bmatrix}\\begin{bmatrix}0\\\\1\\end{bmatrix}}\\,\\mathrm{d}s$\n",
    "\n",
    "$=\\begin{bmatrix}0\\\\1\\end{bmatrix}+\\begin{bmatrix}t\\\\0\\end{bmatrix}=\\begin{bmatrix}t\\\\1\\end{bmatrix}$\n",
    "\n",
    "$ψ_2(t)=\\begin{bmatrix}0\\\\1\\end{bmatrix}+\\int_0^{t} \\mathrm {\\begin{bmatrix}0&1\\\\-1&0\\end{bmatrix}\\begin{bmatrix}s\\\\1\\end{bmatrix}}\\,\\mathrm{d}s$\n",
    "\n",
    "$=\\begin{bmatrix}0\\\\1\\end{bmatrix}+\\begin{bmatrix}t\\\\-\\frac{t^2}{2}\\end{bmatrix}=\\begin{bmatrix}t\\\\1-\\frac{t^2}{2}\\end{bmatrix}$\n",
    "\n",
    "$ψ_3(t)=\\begin{bmatrix}0\\\\1\\end{bmatrix}+\\int_0^{t} \\mathrm {\\begin{bmatrix}0&1\\\\-1&0\\end{bmatrix}\\begin{bmatrix}s\\\\1-\\frac{s^2}{2}\\end{bmatrix}}\\,\\mathrm{d}s$\n",
    "\n",
    "$=\\begin{bmatrix}0\\\\1\\end{bmatrix}+\\begin{bmatrix}t-\\frac{t^3}{6}\\\\-\\frac{t^2}{2}\\end{bmatrix}=\\begin{bmatrix}t-\\frac{t^3}{6}\\\\1-\\frac{t^2}{2}\\end{bmatrix}$\n",
    "\n",
    "$所以，满足初值条件x(0)=\\begin{bmatrix}0\\\\1\\end{bmatrix}的第三次近似解为ψ_3(t)=\\begin{bmatrix}t-\\frac{t^3}{6}\\\\1-\\frac{t^2}{2}\\end{bmatrix}$"
   ]
  },
  {
   "cell_type": "markdown",
   "metadata": {},
   "source": [
    "# <font color='red'>A  25/11"
   ]
  },
  {
   "cell_type": "code",
   "execution_count": null,
   "metadata": {
    "collapsed": true
   },
   "outputs": [],
   "source": []
  }
 ],
 "metadata": {
  "kernelspec": {
   "display_name": "SageMath 7.3",
   "language": "",
   "name": "sagemath"
  },
  "language_info": {
   "codemirror_mode": {
    "name": "ipython",
    "version": 2
   },
   "file_extension": ".py",
   "mimetype": "text/x-python",
   "name": "python",
   "nbconvert_exporter": "python",
   "pygments_lexer": "ipython2",
   "version": "2.7.10"
  }
 },
 "nbformat": 4,
 "nbformat_minor": 0
}
