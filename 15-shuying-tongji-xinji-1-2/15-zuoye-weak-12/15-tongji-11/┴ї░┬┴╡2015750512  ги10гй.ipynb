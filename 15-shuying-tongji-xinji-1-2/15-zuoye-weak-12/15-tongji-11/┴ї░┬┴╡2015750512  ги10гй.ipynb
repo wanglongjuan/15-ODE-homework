{
 "cells": [
  {
   "cell_type": "markdown",
   "metadata": {},
   "source": [
    "### 第十次常微分作业  2015750512 刘奥恋 15统计学班 ###"
   ]
  },
  {
   "cell_type": "markdown",
   "metadata": {},
   "source": [
    "$$(2)xx''-(x')^2+(x')^3=0$$\n",
    "\n",
    "$解：令y=x'，则方程可化为xy\\frac{\\mathrm dy}{\\mathrm dx}-y^2+y^3=0，可得y=0或\\frac{\\mathrm dy}{\\mathrm dx}=\\frac{y-y^2}{x}$\n",
    "\n",
    "$对之积分得\\frac{y}{1-y}=\\tilde cx$\n",
    "\n",
    "$即y=\\frac{\\tilde cx}{1+\\tilde cx}，从而x'=\\frac{\\tilde cx}{1+\\tilde cx}$\n",
    "\n",
    "$积分得x+\\frac{1}{c}ln|x|=t+c_2，可得方程有解x+c_1ln|x|=t+c_2$\n",
    "\n",
    "$当y=0时得x'=0，可得x=c$\n",
    "\n",
    "$综上，可得方程的解为x+c_1ln|x|=t+c_2或x=c，其中c_1,c_2,c是任意常数$"
   ]
  },
  {
   "cell_type": "markdown",
   "metadata": {},
   "source": [
    "$$(4)x''+\\sqrt{1-(x')^2}=0$$\n",
    "\n",
    "$解：令y=x'，方程可化为：y\\frac{\\mathrm dy}{\\mathrm dx}+\\sqrt{1-y^2}=0$\n",
    "\n",
    "$当y\\neq\\pm1时，方程可变形为：\\frac{ydy}{\\sqrt{1-y^2}}=-\\mathrm dx，积分后得到\\sqrt{1-y^2}=x+c$\n",
    "\n",
    "$即\\sqrt{1-x^2}=x+c，故x'=\\pm\\sqrt{1-(x+c)^2}，再次积分得：$\n",
    "\n",
    "$①当x'=\\sqrt{1-(x+c)}^2时，x=sin(t+c_1)+c_2$\n",
    "\n",
    "$②当x'=-\\sqrt{1-(x+c)}^2时,x=cos(t+c_1)+c_2$\n",
    "\n",
    "$当y=\\pm1时，x=\\pm1,从而x=\\pm t+c$\n",
    "\n",
    "$综上所述，原方程的解为x=sin(t+c_1)+c_2，或x=cos(t+c_1)+c_2，，其中c_1,c_2,c为任意常数$\n"
   ]
  },
  {
   "cell_type": "markdown",
   "metadata": {},
   "source": [
    "$$(6)x''-\\frac{1}{t}x'+(x')^2=0$$\n",
    "\n",
    "$解：当x'\\neq0时，方程两边同时乘以x'，则得到\\frac{x''}{x'}-\\frac{1}{t}+x'=0$\n",
    "\n",
    "$即d(ln|x'|-ln|t|+x)=0，积分可得lm|\\frac{x'}{t}|+x=c_1$\n",
    "\n",
    "$解出x'，则有x'=t(e^{-x+c_1})，再次积分得e^x=e^{c_1}(\\frac{t^2}{2})+c_2$\n",
    "\n",
    "$由于c_1,c_2为任意常数，则可写为e^x=c_1'(t^2+c'_2)$\n",
    "\n",
    "$当x'=0时$\n",
    "\n",
    "$即得x=c$\n",
    "\n",
    "$显然它也是方程的解$\n",
    "\n",
    "$综上可知，方程的解为：e^x=c'_1(t^2+c_2')或x=c$\n"
   ]
  },
  {
   "cell_type": "markdown",
   "metadata": {},
   "source": [
    "#### 用幂级数解法求解下列方程 ####\n",
    "\n",
    "$$(2)(1-t)x''+x=0\n",
    "$$\n",
    "\n",
    "$解：方程可化为x''+\\frac{x}{(1-t)},因tp(t)=0,q(t)=\\frac{t^2}{1-t}$\n",
    "\n",
    "$故存在幂级数解，设x=a_0+a_1t+a_2t^2+\\cdots+a_nt^n+\\cdots是方程的解，则$\n",
    "\n",
    "$$x'=a_1+2a_2t+3a_3t^2+\\cdots+na_nt^{n-1}+\\cdots\n",
    "$$\n",
    "\n",
    "$$x''=2a_2+3*2a_3t+\\cdots+n(n-1)a_nt^{n-2}+\\cdots\n",
    "$$\n",
    "\n",
    "$将x,x',x''的表达式代入原方程，比较同次幂级数，可得$\n",
    "\n",
    "$$2a_2+a_0=0,3*2a_3-2a_2=0\n",
    "$$\n",
    "\n",
    "$$k(k-1)a_k-(k-1)(k-2)a_{k-1}+a_{k-2}=0\\quad(k>3)\\quad\\quad\\cdots①\n",
    "$$\n",
    "\n",
    "$本方程的解应为通解，为此，需要找到两个线性无关的解$\n",
    "\n",
    "$设x_1(t),x_2(t)是满足初值条件x_1(0)=0,x_1'(0)=1,x_2(0)=1,x_2'(0)=0的两个解$\n",
    "\n",
    "$对于x_1(t)，显然有a_0=0,a_1=1,代入①式，可得$\n",
    "\n",
    "$a_2=0,a_3=\\frac{-1}{1\\bullet2\\bullet3},a_4=\\frac{-1}{3\\bullet4}=\\frac{-2}{1\\bullet2\\bullet3\\bullet4},\\cdots$\n",
    "\n",
    "$a_n=\\frac{(n-1)(n-2)a_{n-1}-a_{n-2}}{n(n-1)}$\n",
    "\n",
    "$也就是x_1(t)=t-\\frac{t^3}{3}-\\frac{2}{4!}t^4-\\frac{5}{5!}t^5-\\frac{18}{6!}t^6-\\cdots$\n",
    "\n",
    "$对于x_2(t)，显然有a_0=1,a_1=0，代入①式得$\n",
    "\n",
    "$a_2=-\\frac{1}{2},a_3=\\frac{-1}{1\\bullet2\\bullet3},a_4=\\frac{-1}{1\\bullet2\\bullet3\\bullet4},\\cdots$\n",
    "\n",
    "$a_n=\\frac{(n-1)(n-2)a_{n-1}-a_{n-2}}{n(n-1)}$\n",
    "\n",
    "$也就是x_2(t)=1-\\frac{1}{2!}t^3-\\frac{1}{3!}t^3-\\frac{1}{4!}t^4-\\cdots$\n",
    "\n",
    "$所以方程的通解为：x=c_1x_1(t)+c_2x_2(t)=c_1(t-\\frac{t^3}{3}-\\frac{2}{4!}t^4-\\frac{5}{5!}t^5-\\frac{18}{6!}t^6-\\cdots)+c_2(1-\\frac{1}{2!}t^3-\\frac{1}{3!}t^3-\\frac{1}{4!}t^4-\\cdots)$\n"
   ]
  },
  {
   "cell_type": "markdown",
   "metadata": {},
   "source": [
    "#### 将下列的初值问题化为与之等价的一阶方程组的初值问题；####"
   ]
  },
  {
   "cell_type": "markdown",
   "metadata": {},
   "source": [
    "$$(3)\\left\\{\\begin{array}\\\\x''+5y'-7x+6y=e^t\\\\y''-2y+13y'-15x=cost \\end{array}\\right.\n",
    "$$\n",
    "\n",
    "$解：令w_1=x,w_2=x',w_3=y,w_4=y'，则原初值问题可化为$\n",
    "\n",
    "$$\\left\\{\\begin{array}\\\\w'1=x'=w_2'\\\\w_2'=x''=-5w_4+7w_1-6w_3+e^t\\\\w_3'=y'=w_4\\\\w_4'=y''=2w_3-13w_4+15w_1+cost \\end{array}\\right.\n",
    "$$\n",
    "\n",
    "$$且\\left\\{\\begin{array}\\\\w_1(0)=x(0)=1\\\\w_2(0)=x'(0)=0\\\\w_3(0)=y'(0)=0\\\\w_4(0)=y'(0)=1 \\end{array}\\right.\n",
    "$$\n",
    "\n",
    "$$即w'= \\begin{bmatrix}  0 & 1 & 0 & 0           \\\\[0.3em] 7 & 0 & -6 & -5            \\\\[0.3em]       0           & 0 & 0 & 1            \\\\[0.3em]15 & 0 & 2 & -13  \\end{bmatrix}w+\\begin{bmatrix}  0           \\\\[0.3em] e^y            \\\\[0.3em]       0                     \\\\[0.3em]cost  \\end{bmatrix}\n",
    "$$\n",
    "\n",
    "$$w'(0)=\\begin{bmatrix}  1           \\\\[0.3em] 0            \\\\[0.3em]       0                       \\\\[0.3em]1  \\end{bmatrix}\n",
    "$$\n",
    "\n",
    "$$其中w=\\begin{bmatrix}  w_1           \\\\[0.3em] w_2            \\\\[0.3em]       w_3            \\\\[0.3em]w_4 \\end{bmatrix}$$"
   ]
  },
  {
   "cell_type": "markdown",
   "metadata": {},
   "source": [
    "$$试用逐步逼近法求方程组x'=\\begin{bmatrix}  0 & 1           \\\\[0.3em] -1 & 0          \\end{bmatrix}x满足初值条件x（0）=\\begin{bmatrix}  0            \\\\[0.3em] 1            \\end{bmatrix}的第三次近似解$$\n",
    "\n",
    "$\\psi_0(t)=\\begin{bmatrix}  0           \\\\[0.3em] 1          \\end{bmatrix};\n",
    "$\n",
    "\n",
    "$\\psi_1(t)=\\begin{bmatrix}  0           \\\\[0.3em] 1          \\end{bmatrix}+\\int_0^1\\begin{bmatrix}  0 & 1          \\\\[0.3em] -1 & 0           \\end{bmatrix}\\begin{bmatrix}  0           \\\\[0.3em] 1          \\end{bmatrix}ds=\\begin{bmatrix}  0           \\\\[0.3em] 1          \\end{bmatrix}+\\begin{bmatrix}  t           \\\\[0.3em] 0          \\end{bmatrix}=\\begin{bmatrix}  t          \\\\[0.3em] 1          \\end{bmatrix}$\n",
    "\n",
    "$\\psi_2(t)=\\begin{bmatrix}  0           \\\\[0.3em] 1          \\end{bmatrix}+\\int_0^1\\begin{bmatrix}  0  & 1         \\\\[0.3em] -1 & 0           \\end{bmatrix}\\begin{bmatrix}  s           \\\\[0.3em] 1          \\end{bmatrix}ds=\\begin{bmatrix}  0           \\\\[0.3em] 1          \\end{bmatrix}+\\begin{bmatrix}  t           \\\\[0.3em] -\\frac{t^2}{2}         \\end{bmatrix}=\\begin{bmatrix}  t           \\\\[0.3em] 1-\\frac{t^2}{2}          \\end{bmatrix}$\n",
    "\n",
    "$\\psi_3(t)=\\begin{bmatrix}  0           \\\\[0.3em] 1          \\end{bmatrix}+\\int_0^1\\begin{bmatrix}  0  & 1         \\\\[0.3em] -1 & 0           \\end{bmatrix}\\begin{bmatrix}  s           \\\\[0.3em] 1-\\frac{s^2}{2}         \\end{bmatrix}ds=\\begin{bmatrix}  0           \\\\[0.3em] 1          \\end{bmatrix}+\\begin{bmatrix}  t-\\frac{t^3}{6}           \\\\[0.3em] -\\frac{t^2}{6}          \\end{bmatrix}=\\begin{bmatrix}  t-\\frac{t^3}{6}           \\\\[0.3em] t-\\frac{t^2}{2}         \\end{bmatrix}$\n",
    "\n",
    "$所以，满足初值条件x(0)=\\begin{bmatrix}  0           \\\\[0.3em] 1          \\end{bmatrix}的第三次近似解为$\n",
    "\n",
    "$$\\psi_3(t)=\\begin{bmatrix}  t-\\frac{t^3}{6}           \\\\[0.3em] t-\\frac{t^2}{2}         \\end{bmatrix}$$"
   ]
  },
  {
   "cell_type": "markdown",
   "metadata": {
    "collapsed": true
   },
   "source": [
    "# <font color='red'>A  25/11"
   ]
  },
  {
   "cell_type": "code",
   "execution_count": null,
   "metadata": {
    "collapsed": true
   },
   "outputs": [],
   "source": []
  }
 ],
 "metadata": {
  "kernelspec": {
   "display_name": "SageMath 7.3",
   "language": "",
   "name": "sagemath"
  },
  "language_info": {
   "codemirror_mode": {
    "name": "ipython",
    "version": 2
   },
   "file_extension": ".py",
   "mimetype": "text/x-python",
   "name": "python",
   "nbconvert_exporter": "python",
   "pygments_lexer": "ipython2",
   "version": "2.7.10"
  }
 },
 "nbformat": 4,
 "nbformat_minor": 0
}
