{
 "cells": [
  {
   "cell_type": "markdown",
   "metadata": {},
   "source": [
    "# $$常微分方程$$ #\n",
    "# 姓名：张玲玲#\n",
    "# 班级：统计班#\n",
    "# 学号：2015750528#"
   ]
  },
  {
   "cell_type": "markdown",
   "metadata": {},
   "source": [
    "$\\bf1.求解下列方程：$\n",
    "\n",
    "$\\bf(2)xx\"-(x')^2+(x'）^3=0$\n",
    "\n",
    "**解：**\n",
    "\n",
    "令x'=y,则方程化为：$$xy\\frac{dy}{dx}-y^2+y^3=0,$$\n",
    "\n",
    "得到：$$y=0或者\\frac{dy}{dx}=\\frac{y-y^2}{x},$$\n",
    "\n",
    "积分后得：$$\\frac{y}{1-y}=c_1x(c_1\\neq0),$$\n",
    "\n",
    "即：$$\\frac{x'}{1-x'}=c_1x,$$\n",
    "\n",
    "再次积分得：$$x+\\frac{1}{c_1}ln|x|=t+c_2.$$\n",
    "\n",
    "当y=0时，得\n",
    "\n",
    "$$x'=0$$\n",
    "\n",
    "所以\n",
    "\n",
    "$$x=c.$$\n",
    "\n",
    "综上述得，方程的解为：$$x+\\frac{1}{c_1}ln|x|=t+c_2或者x=c.(c,c_1,c_2时任意的常数）$$"
   ]
  },
  {
   "cell_type": "markdown",
   "metadata": {},
   "source": [
    "$\\bf(4)x\"+\\sqrt{1-(x')^2}=0$\n",
    "\n",
    "**解：**\n",
    "\n",
    "令x'=y,则方程化为：$$y\\frac{dy}{dx}+\\sqrt{1-y^2}=0$$\n",
    "\n",
    "$当y=\\pm1时$，\n",
    "\n",
    "$$x=\\pm{t}+c_1.$$\n",
    "\n",
    "当$x\\neq1$时，方程可以化为：$$\\frac{ydy}{\\sqrt{1-y^2}}=-dx,$$\n",
    "\n",
    "积分得：$$\\sqrt{1-y^2}=x+c'\\\\也即\\sqrt{1-(x')^2}=x+c或者x'=\\pm\\sqrt{1-(x+c)^2},$$\n",
    "\n",
    "再积分得：$$①当x'=+\\sqrt{1-(x+c)^2}时，x=sin(t+c_1)-c;\\\\②当x'=-\\sqrt{1-(x+c)^2}时，x=cos(t+c_1)-c.$$\n",
    "\n",
    "综上述得原方程的解为:$$x=sin(t+c_1)-c或x=cos(t+c_1)-c,以及x=\\pm{t}+c_1.(c,c_1为任意常数）$$\n"
   ]
  },
  {
   "cell_type": "markdown",
   "metadata": {},
   "source": [
    "$\\bf(6)x\"-\\frac{1}{t}x'+(x')^2=0(提示：方成两段同时除以x')$\n",
    "\n",
    "**解：**\n",
    "\n",
    "当$x'\\neq0$时，方成两端同时除以x'，则得：$$\\frac{x\"}{x'}-\\frac{1}{t}+x'=0$$\n",
    "\n",
    "即：$$d(ln|x'|-ln|t|+x)=0,$$\n",
    "\n",
    "两边积分得：$$ln|\\frac{x'}{t}+x=c_1,$$\n",
    "\n",
    "解得：\n",
    "\n",
    "$$x'=t(e^{-x+c_1)},$$\n",
    "\n",
    "再积分得：\n",
    "\n",
    "$$e^x=e^{c_1}(\\frac{t^2}{2})+c_2.$$\n",
    "\n",
    "因为$c_1,c_2$为常数，所以上式可以写为：\n",
    "\n",
    "$$e^x=c_1(t^2+c_2).$$\n",
    "\n",
    "$当x'\\neq0时$，\n",
    "\n",
    "$$x=c$$\n",
    "\n",
    "也是原方程的解.\n",
    "\n",
    "综上述得原方程的解为：$$e^x=c_1(t^2+c_2)或x=c.$$"
   ]
  },
  {
   "cell_type": "markdown",
   "metadata": {},
   "source": [
    "$\\bf2.用幂级数解法求下列方程：$\n",
    "\n",
    "$\\bf(2)(1-t)x\"+x=0$\n",
    "\n",
    "**解：**\n",
    "\n",
    "$设x=a_0+a_1t+a_2t^2+a_3t^3+…+a_nt^n+…是方程的解，$\n",
    "\n",
    "则：$$x'=a_1+2a_2t+3a_3t^2+…+na_nt^{n-1}+….\\\\x\"=2a_2+6a_3t+…+n(n-1)a_nt^{n-2}+….$$\n",
    "\n",
    "$把x_1,x',x\"的表达式代入原方程，合并t的各同次幂的项，并令各项系数等于零，$\n",
    "\n",
    "得到：$$\\begin{cases}a_0+2a_2=0\\\\a_1-2a_2+6a_3=0\\quad\\quad\\quad\\quad\\quad\\quad\\quad\\quad\\quad\\quad\\quad\\quad\\quad\\quad\\quad\\quad\\quad*\\\\n(n-1)a_n-(n-1)(n-2)a_{n-1}+a_{n-2}=0\\end{cases}$$\n",
    "\n",
    "$因为题中设有初值条件，所以求出的解应该就是方程的解，为此，需要找到两个线性无关的解.$\n",
    "\n",
    "$设x_1(t)和x_2(t)时满足出值条件x_1(0)=0,x'(0)=1,x_2(0）=1，x'_2(0)=0的解.$\n",
    "\n",
    "$对于x_1(t),显然有a_0=0,a_1=1,代入*式得：$\n",
    "\n",
    "$$a_2=0，a_3=\\frac{-1}{3\\cdot2},a_4=\\frac{-1}{4\\cdot3}=\\frac{-2}{4\\cdot3\\cdot2},a_5=\\frac{-5}{5\\cdot4\\cdot3\\cdot2},\\ldots，a_n=\\frac{(n-1)(n-2)a_{n-1}a_2{n-2}}{n(n-1)},$$\n",
    "\n",
    "即：$$x_1(t)=t-\\frac{t^3}{3!}t^3-\\frac{2}{4!}t^4-\\frac{5}{5!}t^5\\ldots.$$\n",
    "\n",
    "对于x_2，显然有a_0=1,a_1=0,代入*得：$$a_2=\\frac{-1}{2},a_3=\\frac{-1}{3\\cdot2},a_4=\\frac{-1}{4\\cdot3\\cdot2},\\ldots\\\\a_n=\\frac{(n-1)(n-2)a_{n-1}-a_{n-2}}{n(n-1)},$$\n",
    "\n",
    "即：$$x_2(t)=1-\\frac{1}{2!}t^2-\\frac{1}{3!}t^3-\\frac{1}{4!}t^4+\\ldots.$$\n",
    "\n",
    "所以方程的通解为：$$x=c_1x_1(t)+c_2x_2(t)\\\\\\quad\\quad\\quad\\quad\\quad\\quad\\quad\\quad\\quad\\quad\\quad\\quad\\quad\\quad\\quad\\quad=c_1(t-\\frac{t^3}{3!}t^3-\\frac{2}{4!}t^4-\\frac{5}{5!}t^5\\ldots)+c_2(1-\\frac{1}{2!}t^2-\\frac{1}{3!}t^3-\\frac{1}{4!}t^4+\\ldots).$$\n",
    "\n"
   ]
  },
  {
   "cell_type": "markdown",
   "metadata": {},
   "source": [
    "$\\bf3.将下面的初值问题化为与之等价的一阶方程组的初值问题：$\n",
    "\n",
    "$\\bf\\begin{cases}x\"+5y'-7x+6y=e^t,\\\\  \\bf y-2y+13y'-15x=cost,\\end{cases}$\n",
    "\n",
    "$\\bf x(0)=1,x'(0)=0,y(0)=0,y'(0)=1.$\n",
    "\n",
    "$\\bf(提示：令w_1=x,w_2=x',w_3=y,w_4=y'.)$\n",
    "\n",
    "**解：**\n",
    "\n",
    "$令w_1=x,w_2=x',w_3=y,w_4=y'，则原方程组：$\n",
    "\n",
    "$$\\begin{pmatrix} w_1 \\\\ w_2 \\\\ w_3 \\\\ w_4 \\end{pmatrix}=\\begin{pmatrix} 0 & 1 & 0 & 0 \\\\ 7 & 0 & -6 & -5 \\\\ 0 & 0 & 0 & 1 \\\\ 15 & 0 & 2 & -13 \\end{pmatrix}\\begin{pmatrix} w_1 \\\\ w_2 \\\\ w_3 \\\\ w_4 \\end{pmatrix}+\\begin{pmatrix} 0 \\\\ e^t \\\\ 0 \\\\ cost \\end{pmatrix},$$\n",
    "\n",
    "$初值条件为w_1(0)=1,w_2(0）=0，w_3（0）=0，w_4（0）=1.$"
   ]
  },
  {
   "cell_type": "markdown",
   "metadata": {},
   "source": [
    "4.$.\\bf试用逐步逼近法求方程组$\n",
    "$$\\bf x'=\\begin{bmatrix} 0 & 1 \\\\ -1 & 0 \\end{bmatrix}x$$\n",
    "\n",
    "$\\bf满足初值条件x(0)=\\begin{bmatrix} 0 \\\\ 1 \\end{bmatrix}的第三次解.$\n",
    "\n",
    "**解：**\n",
    "\n",
    "$\\phi_0(0）=\\begin{bmatrix} 0 \\\\ 1 \\end{bmatrix},$\n",
    "\n",
    "$\\phi_1(t)=\\begin{bmatrix} 0 \\\\ 1 \\end{bmatrix}+\\int_1^0\\mathrm {\\begin{bmatrix} 0 & 1  \\\\ -1 & 0 \\end{bmatrix}\\begin{bmatrix} 0 \\\\ 1 \\end{bmatrix}}\\,\\mathrm{d}s$\n",
    "$=\\begin{bmatrix} 0 \\\\ 1 \\end{bmatrix}+\\int_1^0\\mathrm {\\begin{bmatrix} 1 \\\\ 0 \\end{bmatrix}}\\,\\mathrm{d}s$\n",
    "\n",
    "$\\quad =\\begin{bmatrix} 0 \\\\ 1 \\end{bmatrix}+\\begin{bmatrix} t \\\\ 0 \\end{bmatrix}=\\begin{bmatrix} t \\\\ 1 \\end{bmatrix},$\n",
    "\n",
    "$\\phi_2(t)=\\begin{bmatrix} 0 \\\\ 1 \\end{bmatrix}+\\int_1^0\\mathrm {\\begin{bmatrix} 0 & 1  \\\\ -1 & 0 \\end{bmatrix}\\begin{bmatrix} t \\\\ 1 \\end{bmatrix}}\\,\\mathrm{d}t$\n",
    "$\\quad =\\begin{bmatrix} 0 \\\\ 1 \\end{bmatrix}+\\int_1^0\\mathrm {\\begin{bmatrix} 1 \\\\ -t \\end{bmatrix}}\\,\\mathrm{d}t$\n",
    "\n",
    "$=\\begin{bmatrix} t \\\\ 1-\\frac{1}{2}t^2 \\end{bmatrix},$\n",
    "\n",
    "$\\phi_3(t)=\\begin{bmatrix} 0 \\\\ 1 \\end{bmatrix}+\\int_1^0\\mathrm {\\begin{bmatrix} 0 & 1  \\\\ -1 & 0 \\end{bmatrix}\\begin{bmatrix} t \\\\ 1-\\frac{1}{2}s^2 \\end{bmatrix}}\\,\\mathrm{d}s=\\begin{bmatrix} 0 \\\\ 1 \\end{bmatrix}+\\int_1^0\\mathrm {\\begin{bmatrix} 1-\\frac{1}{2}s^2 \\\\ -s \\end{bmatrix}}\\,\\mathrm{d}s=\\begin{bmatrix} t-\\frac{1}{6}t^3 \\\\ 1-\\frac{1}{2}t^2 \\end{bmatrix},$\n",
    "\n",
    "$所以满足初值条件x(0)=\\begin{bmatrix} 0 \\\\ 1 \\end{bmatrix}的第三次近似解为：$\n",
    "$$\\phi_3(t)=\\begin{bmatrix} t-\\frac{1}{6}t^3 \\\\ 1-\\frac{1}{2}t^2 \\end{bmatrix}$$"
   ]
  },
  {
   "cell_type": "markdown",
   "metadata": {
    "collapsed": true
   },
   "source": [
    "# <font color='red'>A  25/11"
   ]
  },
  {
   "cell_type": "code",
   "execution_count": null,
   "metadata": {
    "collapsed": true
   },
   "outputs": [],
   "source": []
  }
 ],
 "metadata": {
  "kernelspec": {
   "display_name": "SageMath 7.3",
   "language": "",
   "name": "sagemath"
  },
  "language_info": {
   "codemirror_mode": {
    "name": "ipython",
    "version": 2
   },
   "file_extension": ".py",
   "mimetype": "text/x-python",
   "name": "python",
   "nbconvert_exporter": "python",
   "pygments_lexer": "ipython2",
   "version": "2.7.10"
  }
 },
 "nbformat": 4,
 "nbformat_minor": 0
}
