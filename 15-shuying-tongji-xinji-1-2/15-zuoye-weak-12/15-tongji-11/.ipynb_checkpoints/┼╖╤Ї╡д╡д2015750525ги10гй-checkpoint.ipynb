{
 "cells": [
  {
   "cell_type": "markdown",
   "metadata": {
    "collapsed": false
   },
   "source": [
    "# $$作业十$$"
   ]
  },
  {
   "cell_type": "markdown",
   "metadata": {},
   "source": [
    "## $1.求解下列方程.$"
   ]
  },
  {
   "cell_type": "markdown",
   "metadata": {},
   "source": [
    "### $  (2) xx^{''}-(x^{'})^2+(x^{'})^3=0;$"
   ]
  },
  {
   "cell_type": "markdown",
   "metadata": {},
   "source": [
    "### $解：令x^{'}=y,可得：x^{''}=y\\frac{\\mathrm dy}{\\mathrm dx}.$\n",
    "\n",
    "### $所以原方程可化为：xy\\frac{\\mathrm dy}{\\mathrm dx}-y^2+y^3=0.$\n",
    "\n",
    "### $解得：y=0,x\\frac{\\mathrm dy}{\\mathrm dx}-y+y^2=0.$\n",
    "\n",
    "### $由x\\frac{\\mathrm dy}{\\mathrm dx}-y+y^2=0,积分可得：y=\\frac{\\mathrm cx}{\\mathrm 1+cx}.$\n",
    "\n",
    "### $即:x^{'}=\\frac{\\mathrm cx}{\\mathrm 1+cx}.$\n",
    "\n",
    "### $积分得：x+\\frac{\\mathrm 1}{\\mathrm c}\\ln|x|=t+c_1.$\n",
    "\n",
    "### $即有:x+c_2\\ln|x|=t^2+c_1.$\n",
    "\n",
    "### $y=0,积分得：y=c$\n",
    "\n",
    "### $所以原方程的解为：x+c_2\\ln|x|=t^2+c_1或y=c，其中c_1,c_2,c是任意常数$.\n"
   ]
  },
  {
   "cell_type": "markdown",
   "metadata": {},
   "source": [
    "### $ (4)x^{''}+\\sqrt{1-(x^{'})^2}=0;$"
   ]
  },
  {
   "cell_type": "markdown",
   "metadata": {},
   "source": [
    "### $解：令x^{'}=y,可得：x^{''}=y\\frac{\\mathrm dy}{\\mathrm dx}.$\n",
    "\n",
    "### $故原方程可化为：y\\frac{\\mathrm dy}{\\mathrm dx}+\\sqrt{1-y^2}=0.$\n",
    "\n",
    "### $如果y\\neq +1,-1，则有：\\frac{\\mathrm -y}{\\mathrm {\\sqrt{1-y^2}}}dy=dx.$\n",
    "\n",
    "### $积分得：\\sqrt{1-y^2}=x+c.$\n",
    "\n",
    "### $即：\\sqrt{1-(x^{'})^2}=x+c,$\n",
    "### $x^{'}=+\\sqrt{1-(x+c)^2},x^{'}=-\\sqrt{1-(x+c)^2},$\n",
    "\n",
    "### $x^{'}=+\\sqrt{1-(x+c)^2},积分可得：x=\\sin(t+c_1)+c_2.$\n",
    "### $x^{'}=-\\sqrt{1-(x+c)^2},积分可得：x=\\cos(t+c_1)+c_2.$\n",
    "\n",
    "### $如果y=+1,x^{'}=+1,积分可得：x=t+c.$\n",
    "### $如果y=-1,x^{'}=-1\\,积分可得：x=-t+c.$\n",
    "\n",
    "### $所以原方程的解为：x=\\sin(t+c_1)+c_2或x=\\cos(t+c_1)+c_2或x=t+c或x=-t+c其中c_1,c_2,c是任意常数。$"
   ]
  },
  {
   "cell_type": "markdown",
   "metadata": {},
   "source": [
    "### $ (6)x^{''}-\\frac{\\mathrm 1}{\\mathrm t}x^{'}+(x^{'})^2=0;$"
   ]
  },
  {
   "cell_type": "markdown",
   "metadata": {},
   "source": [
    "### $解：若x^{'}\\neq 0,方程两边同除x^{'}，可得：\\frac{\\mathrm x^{''}}{\\mathrm x^{'}}-\\frac{\\mathrm 1}{\\mathrm t}+x^{'}=0.$\n",
    "\n",
    "### $积分可得：\\ln |\\frac{\\mathrm x^{'}}{\\mathrm t}|+x=c.$\n",
    "\n",
    "### $解得：x^{'}=te^{-x+c}.$\n",
    "\n",
    "### $积分可得：\\frac{\\mathrm t^{2}}{\\mathrm 2}e^{-x+c}=c_1.$\n",
    "\n",
    "### $即有：e^x=c_2\\frac{\\mathrm t^{2}}{\\mathrm 2}+c_3.$\n",
    "\n",
    "### $若x^{'}=0,积分得：x=c_4.$\n",
    "\n",
    "### $所以原方程的解为：e^x=c_2\\frac{\\mathrm t^{2}}{\\mathrm 2}+c_3或x=c_4.$"
   ]
  },
  {
   "cell_type": "markdown",
   "metadata": {},
   "source": [
    "## $2.用幂级数解法求解下列方程$"
   ]
  },
  {
   "cell_type": "markdown",
   "metadata": {},
   "source": [
    "### $ (2)(1-t)x^{''}+x=0;$"
   ]
  },
  {
   "cell_type": "markdown",
   "metadata": {},
   "source": [
    "### $解：原方程可化为：x^{''}+\\frac{\\mathrm 1}{\\mathrm 1-t}x=0.$\n",
    "\n",
    "### $设:x=a_0+a_1t+a_2t^2+a_3t^3+……+a_nt^n+……为方程的解，则有：$\n",
    "\n",
    "### $x^{’}=a_1+2a_2t+3a_3t^2+……+na_nt^{n-1}+……$\n",
    "\n",
    "### $x^{''}=2a_2+3*2a_3t+……+n(n-1)a_nt^{n-2}+……$\n",
    "\n",
    "### $将x,x^{'},x^{''}代入原方程，并比较x的同次幂的系数,可得：2a_2+a_0=0,2a_3-2a_2+a_1=0.$\n",
    "\n",
    "### $或一般推得：k(k-1)a_k-(k-1)(k-2)a_{k-1}+a_{k-2}=0(k \\geq 4)…………(1)$\n",
    "\n",
    "### $所以为求通解，需求两个线性无关的解：x_1(t)和x_2(t).$\n",
    "\n",
    "### $令：_1(t)满足初值条件x_1(0)=0,x^{'}_1(0)=1,x_2(t)满足初值条件x_2(0)=1,x^{'}_2(0)=0.$\n",
    "\n",
    "### $x_1(t)，将a_1=0,a_2=1代入(1)中，即得：a_2=0,a_3=\\frac{\\mathrm -1}{\\mathrm 3!},a_4=\\frac{\\mathrm -2}{\\mathrm 4!},a_5=\\frac{\\mathrm -5}{\\mathrm 5!}…………a_n=\\frac{\\mathrm (n-1)(n-2)a_{n-1}-a_{n-2}}{\\mathrm n(n-1)}.$\n",
    "\n",
    "### $即有:x_1(t)=t-\\frac{\\mathrm 1}{\\mathrm 3!}t^2-\\frac{\\mathrm 2}{\\mathrm 4!}t^4-\\frac{\\mathrm 5}{\\mathrm 5!}t^5-…………+\\frac{\\mathrm (n-1)(n-2)a_{n-1}-a_{n-2}}{\\mathrm n(n-1)}a_nt^{n-1}+……$\n",
    "\n",
    "### $对于x_2(t)，将a_1=1,a_2=0代入(1)中，得：a_2=\\frac{\\mathrm -1}{\\mathrm 2!},a_3=\\frac{\\mathrm -1}{\\mathrm 3!},a_4=\\frac{\\mathrm -1}{\\mathrm 4!},a_5=\\frac{\\mathrm -1}{\\mathrm 5!}…………a_n=\\frac{\\mathrm (n-1)(n-2)a_{n-1}-a_{n-2}}{\\mathrm n(n-1)}.$\n",
    "\n",
    "### $即:x_2(t)=1-\\frac{\\mathrm 1}{\\mathrm 2!}t-\\frac{\\mathrm 1}{\\mathrm 3!}t^2-\\frac{\\mathrm 2}{\\mathrm 4!}t^4-\\frac{\\mathrm 1}{\\mathrm 5!}t^5-…………+\\frac{\\mathrm (n-1)(n-2)a_{n-1}-a_{n-2}}{\\mathrm n(n-1)}a_nt^{n-1}+……$\n",
    "\n",
    "### $所以原方程通解：x=c_1x_1(t)+c_2x_2(t)=c_1(t-\\frac{\\mathrm 1}{\\mathrm 3!}t^2-\\frac{\\mathrm 2}{\\mathrm 4!}t^4-\\frac{\\mathrm 5}{\\mathrm 5!}t^5-…………+\\frac{\\mathrm (n-1)(n-2)a_{n-1}-a_{n-2}}{\\mathrm n(n-1)}a_nt^{n-1}+……)+c_2(1-\\frac{\\mathrm 1}{\\mathrm 2!}t-\\frac{\\mathrm 1}{\\mathrm 3!}t^2-\\frac{\\mathrm 2}{\\mathrm 4!}t^4-\\frac{\\mathrm 1}{\\mathrm 5!}t^5-…………+\\frac{\\mathrm (n-1)(n-2)a_{n-1}-a_{n-2}}{\\mathrm n(n-1)}a_nt^{n-1}+……).$"
   ]
  },
  {
   "cell_type": "markdown",
   "metadata": {},
   "source": [
    "## $2.将下面的初值问题化为与之等价的一阶方程组的初值问题.$"
   ]
  },
  {
   "cell_type": "markdown",
   "metadata": {},
   "source": [
    "### $(3)\\begin{cases}\n",
    "x^{''}+5y^{'}-7x+6y=e^t,  \\\\\n",
    "y^{''}-2y+13y^{'}-15x=\\cos t\n",
    "\\end{cases}\n",
    "$\n",
    "### $x(0)=1,x^{'}(0)=0,y(0)=0,y^{'}(0)=1$\n",
    "### $(提示：令w_1=x,w_2=x^{'},w_3=y,w_4=y^{'}$.)"
   ]
  },
  {
   "cell_type": "markdown",
   "metadata": {},
   "source": [
    "### $解：令w_1=x,w_2=x^{'},w_3=y,w_4=y^{'}.则有：$\n",
    "$\\begin{cases}\n",
    "w^{'}_1=x^{'}=w_2,  \\\\\n",
    "w^{'}_2=x^{''}=-5w_4+7w_1-6w_3+e^t=+7w_1-6w_3-5w_4+e^t ,\\\\\n",
    "w^{'}_3=y^{'}=w_4,  \\\\\n",
    "w^{'}_4=y^{''}=+15w_1+2w_3-13w_4+\\cos t ,\n",
    "\\end{cases}\n",
    "$\n",
    "且$\n",
    "\\begin{cases}\n",
    "w_1(0)=x(0)=1,  \\\\\n",
    "w_2(0)=x^{'}(0)=0 ,\\\\\n",
    "w_3(0)=y(0)=0,  \\\\\n",
    "w_4(0)=y^{'}(0)=1 ,\n",
    "\\end{cases}\n",
    "$\n",
    "\n",
    "### $初值问题：$\n",
    "$\n",
    "\\begin{cases}\n",
    "x^{'}=\\begin{bmatrix}\n",
    " 0 & 1 & 0 & 0  \\\\\n",
    " 7 & 0 &-6 &-5  \\\\\n",
    " 0 & 0 & 0 & 1  \\\\\n",
    " 15 & 0 & 2 & -13\n",
    "\\end{bmatrix}x + \\begin{bmatrix}\n",
    " 0   \\\\ e^t  \\\\\n",
    " 0  \\\\ \\cos t\n",
    "\\end{bmatrix}\\\\\n",
    "w=\\begin{bmatrix}\n",
    " 1   \\\\ 0  \\\\\n",
    "0  \\\\ 1\n",
    "\\end{bmatrix}\n",
    "\\end{cases}\n",
    "$\n",
    "### $其中\n",
    "w=\\begin{bmatrix}\n",
    "w_1   \\\\ w_2  \\\\\n",
    "w_3  \\\\ w_4 \n",
    "\\end{bmatrix}\n",
    "$"
   ]
  },
  {
   "cell_type": "markdown",
   "metadata": {},
   "source": [
    "### $3.使用逐步逼近法求方程组：$\n",
    "$x^{''}=\n",
    "\\begin{bmatrix}\n",
    " 0   & 1  \\\\\n",
    "-1  & 0\n",
    "\\end{bmatrix}x$\n",
    "### $满足初值条件：$\n",
    "$x(0)=\n",
    "\\begin{bmatrix}\n",
    " 0    \\\\\n",
    " 1  \n",
    "\\end{bmatrix}$\n",
    "### $的第三次近似解。$"
   ]
  },
  {
   "cell_type": "markdown",
   "metadata": {},
   "source": [
    "### $解：用逐步逼近法，令：$\n",
    "$\n",
    "\\phi_0=\n",
    "\\begin{bmatrix}\n",
    " 0    \\\\\n",
    " 1  \n",
    "\\end{bmatrix}\n",
    "$\n",
    "### $所以,第一次近似解为：$\n",
    "$\n",
    "\\phi_1=\n",
    "\\begin{bmatrix}\n",
    " 0    \\\\\n",
    " 1  \n",
    "\\end{bmatrix}+{\\int_0^t \n",
    "\\begin{bmatrix}\n",
    " 0   & 1  \\\\\n",
    "-1  & 0\n",
    "\\end{bmatrix}\\begin{bmatrix}\n",
    " 0    \\\\\n",
    " 1  \n",
    "\\end{bmatrix}\\,\\mathrm {dt}}=\n",
    "\\begin{bmatrix}\n",
    " t    \\\\\n",
    " 1  \n",
    "\\end{bmatrix}\n",
    "$\n",
    "### $第二次近似解为：$\n",
    "$\n",
    "\\phi_2=\n",
    "\\begin{bmatrix}\n",
    " 0    \\\\\n",
    " 1  \n",
    "\\end{bmatrix}+{\\int_0^t \n",
    "\\begin{bmatrix}\n",
    " 0   & 1  \\\\\n",
    "-1  & 0\n",
    "\\end{bmatrix}\\begin{bmatrix}\n",
    " t    \\\\\n",
    " 1  \n",
    "\\end{bmatrix}\\,\\mathrm {dt}}=\n",
    "\\begin{bmatrix}\n",
    " t    \\\\\n",
    " 1-\\frac{\\mathrm t^2}{\\mathrm 2}  \n",
    "\\end{bmatrix}\n",
    "$\n",
    "### $第三次近似解为：$\n",
    "$\n",
    "\\phi_3=\n",
    "\\begin{bmatrix}\n",
    " 0    \\\\\n",
    " 1  \n",
    "\\end{bmatrix}+{\\int_0^t \n",
    "\\begin{bmatrix}\n",
    " 0   & 1  \\\\\n",
    "-1  & 0\n",
    "\\end{bmatrix}\\begin{bmatrix}\n",
    " t    \\\\\n",
    " 1-\\frac{\\mathrm t^2}{\\mathrm 2}  \n",
    "\\end{bmatrix}\\,\\mathrm {dt}}=\n",
    "\\begin{bmatrix}\n",
    " t-\\frac{\\mathrm 1}{\\mathrm 6}t^3     \\\\\n",
    " 1-\\frac{\\mathrm t^2}{\\mathrm 2}  \n",
    "\\end{bmatrix}\n",
    "$"
   ]
  },
  {
   "cell_type": "markdown",
   "metadata": {
    "collapsed": true
   },
   "source": [
    "# <font color='red'>A  25/11"
   ]
  },
  {
   "cell_type": "code",
   "execution_count": null,
   "metadata": {
    "collapsed": true
   },
   "outputs": [],
   "source": []
  }
 ],
 "metadata": {
  "kernelspec": {
   "display_name": "Python 2",
   "language": "python",
   "name": "python2"
  },
  "language_info": {
   "codemirror_mode": {
    "name": "ipython",
    "version": 2
   },
   "file_extension": ".py",
   "mimetype": "text/x-python",
   "name": "python",
   "nbconvert_exporter": "python",
   "pygments_lexer": "ipython2",
   "version": "2.7.10"
  }
 },
 "nbformat": 4,
 "nbformat_minor": 0
}
