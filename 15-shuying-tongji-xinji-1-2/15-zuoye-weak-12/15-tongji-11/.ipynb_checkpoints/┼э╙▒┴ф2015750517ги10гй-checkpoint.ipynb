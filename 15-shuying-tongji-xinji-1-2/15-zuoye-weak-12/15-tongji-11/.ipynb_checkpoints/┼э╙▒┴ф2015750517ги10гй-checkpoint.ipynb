{
 "cells": [
  {
   "cell_type": "markdown",
   "metadata": {},
   "source": [
    "1.求解下列方程：  \n",
    "（2）$xx''-(x')^2+(x')^3=0$；  \n",
    "（4）$x''+\\sqrt{1-(x')^2}=0$；    \n",
    "（6）$x''-\\frac1tx'+(x')^2=0$。"
   ]
  },
  {
   "cell_type": "markdown",
   "metadata": {},
   "source": [
    "解：  \n",
    "（2）令$x'=y$,则方程化为  \n",
    "$xy\\frac{dy}{dx}-y^2+y^3=0$,  \n",
    "得到y=0或$\\frac{dy}{dx}=\\frac{y-y^2}{x}$,  \n",
    "积分后得  \n",
    "$\\frac y{1-y}=c_1x,(c_1\\neq0)$,  \n",
    "即$\\frac{x'}{1-x'}=c_1x$,  \n",
    "再次积分得到  \n",
    "$x+\\frac1{c_1}\\ln|x|=t+c_2$.  \n",
    "当y=0时，得$x'=0$,故x=c.  \n",
    "综合起来，方程的解为  \n",
    "$x+\\frac1{c_1}\\ln|x|=t+c_2或x=c$,  \n",
    "这里$c_1,c_2,c$是任意常数。  \n",
    "（4）令$x'=y$,则方程化为  \n",
    "$y\\frac{dy}{dx}+\\sqrt{1-y^2}=0$.  \n",
    "当y=±1时，即$x'=±1$,则x=±t+c_1,  \n",
    "当$t\\neq±1$时，方程又可以变形为  \n",
    "$\\frac{ydy}{\\sqrt{1-y^2}}=-dx$,  \n",
    "积分后得到  \n",
    "$\\sqrt{1-y^2}=x+c$,  \n",
    "也就是  \n",
    "$\\sqrt{1-x'^2}=x+c.或者x'=±\\sqrt{1-(x+c)^2}$,  \n",
    "再次积分则得到  \n",
    "①当$x'=+\\sqrt{1-(x+c)^2}时，x=\\sin (t+c_1)-c$；  \n",
    "②当$x'=-\\sqrt{1-(x+c)^2}时，x=\\cos (t+c_1)-c$.  \n",
    "综合以上几种情况，即得原方程的解为  \n",
    "$x=\\sin (t+c_1)-c$,或$x=\\cos (t+c_1)-c$,以及$x=±t+c_1$,  \n",
    "这里$c_1,c$是任意常数。  \n",
    "（6）当$x'\\neq0$时，方程两边同时除以$x'$,则得到  \n",
    "$\\frac{x''}{x'}-\\frac1t+x'=0$,  \n",
    "即$d(\\ln|x'|-\\ln|t|+x)=0$,  \n",
    "积分可得  \n",
    "$\\ln|\\frac{x'}t|+x=c_1$,  \n",
    "解出$x'$,则有$x'=t(e^{-x+c_1})$,  \n",
    "再次积分可得  \n",
    "$e^x=e^{c_1}(\\frac{t^2}2)+c_2$.  \n",
    "由于这里的$c_1,c_2$时任意常数，所以可以写成  \n",
    "$e^x=c_1(t^2+c_2)$  \n",
    "当x'=0时，即得x=c,显然它也是原方程的解。  \n",
    "综上，方程的解为  \n",
    "$e^x=c_1(t^2+c_2)$或x=c."
   ]
  },
  {
   "cell_type": "markdown",
   "metadata": {},
   "source": [
    "2.用幂级数解法求解下列方程:  \n",
    "（2）(1-t)x''+x=0."
   ]
  },
  {
   "cell_type": "markdown",
   "metadata": {},
   "source": [
    "解：  \n",
    "设$x=a_0+a_1t+a_2t^2+a_3t^3+…+a_nt^n+…$是方程的解，则  \n",
    "$x'=a_1+2a_2t+3a_3t^2+…+na_nt^{n-1}+…$,  \n",
    "$x''=2a_2+6a_3t+…+n(n-1)a_nt^{n-2}+…$.  \n",
    "把$x_1,x',x''$的表达式代入原方程，合并t的各同次幂的项，并令各项系数等于0，得到  \n",
    "$\\begin{cases}a_0+2a_2=0\\\\a_1-2a_2+6a_3=0\\\\n(n-1)a_n-(n-1)(n-2)a_{n-1}+a_{a-2}=0\\end{cases}$;①  \n",
    "由于本题设有初值条件，所以求出的应该是方程的通解，  \n",
    "因此，我们需要找到两个线性无关的解。  \n",
    "对于$x_1(t)$,显然有$a_0=0,a_1=1$,代入①式，可得  \n",
    "$a_2=0,a_3=\\frac{-1}{6},a_4=\\frac{-1}{4*3}=\\frac{-2}{4*3*2}$  \n",
    "$a_5=\\frac{-5}{5*4*3*2},…$  \n",
    "$a_n=\\frac{(n-1)(n-2)a_{n-1}-a_{n-2}}{n(n-1)}$,  \n",
    "也就是$x_1(t)=t-\\frac{t^3}{3!}-\\frac2{4!}-\\frac{5}{5!}t^5….$  \n",
    "对于$x_2(t)$,显然有$a_0=1,a_1=0$,代入①式，可得  \n",
    "$a_2=-\\frac12,a_3=\\frac{-1}{3*2},a_4=\\frac{-1}{4*3*2},…$  \n",
    "$a_n=\\frac{(n-1)(n-2)a_{n-1}-a_{n-2}}{n(n-1)}$,  \n",
    "也就是说  \n",
    "$x_2(t)=1-\\frac1{2!}t^2-\\frac1{3!}t^3-\\frac1{4!}t^4-…$  \n",
    "所以方程的通解为  \n",
    "$x=c_1x_1t+c_2x_2(t)$  \n",
    "$=c_1(t-\\frac1{3!}t^3-\\frac2{4!}t^4-\\frac5{5!}t^5…)+c_2(1-\\frac1{2!}t^2-\\frac1{3!}t^3-\\frac1{4!}t^4…）$"
   ]
  },
  {
   "cell_type": "markdown",
   "metadata": {
    "collapsed": true
   },
   "source": [
    "2.将下面的初值问题化为与之等价的一阶方程组的初值问题：  \n",
    "（1）$\\begin{cases}x''+5y'-7x+6y=e^t\\\\y''-2y+13y'-15x=\\cos t\\end{cases}$  \n",
    "$x(0)=1,x'(0)=0,y(0)=0,y'(0)=1$"
   ]
  },
  {
   "cell_type": "markdown",
   "metadata": {},
   "source": [
    "解：  \n",
    "令$w_1=x,w_2=x',w_3=y,w_4=y'$则化为方程组  \n",
    "$$\\begin{bmatrix}w_1\\\\w_2\\\\w_3\\\\w_4\\end{bmatrix}'=\\begin{bmatrix}0&1&0&0\\\\7&0&-6&-5\\\\0&0&0&1\\\\15&0&2&-13\\end{bmatrix}\\begin{bmatrix}w_1\\\\w_2\\\\w_3\\\\w_4\\end{bmatrix}+\\begin{bmatrix}0\\\\e^t\\\\0\\\\ \\cos t\\end{bmatrix}$$  \n",
    "初值条件为$w_1(0)=1,w_2(0)=0,w_3(0)=0,w_4(0)=1$."
   ]
  },
  {
   "cell_type": "markdown",
   "metadata": {},
   "source": [
    "3.试用逐步逼近法求方程组\n",
    "$x'=\\begin{bmatrix}0&1\\\\-1&0\\end{bmatrix}x$满足初值条件$x(0)=\\begin{bmatrix}0\\\\1\\end{bmatrix}$的第三次近似解。"
   ]
  },
  {
   "cell_type": "markdown",
   "metadata": {},
   "source": [
    "解：$$\\ φ_0(t)=\\begin{bmatrix}0\\\\1\\end{bmatrix}$$  \n",
    "$φ_1(t)=\\begin{bmatrix}0\\\\1\\end{bmatrix}+\\int^t_0\\begin{bmatrix}0&1\\\\-1&0\\end{bmatrix}\\begin{bmatrix}0\\\\1\\end{bmatrix}ds$  \n",
    "=$\\begin{bmatrix}0\\\\1\\end{bmatrix}+\\int^t_0\\begin{bmatrix}1\\\\0\\end{bmatrix}ds$  \n",
    "=$\\begin{bmatrix}0\\\\1\\end{bmatrix}+\\begin{bmatrix}t\\\\0\\end{bmatrix}$  \n",
    "=$\\begin{bmatrix}t\\\\1\\end{bmatrix}$  \n",
    "$φ_2(t)=\\begin{bmatrix}0\\\\1\\end{bmatrix}+\\int^t_0\\begin{bmatrix}0&1\\\\-1&0\\end{bmatrix}\\begin{bmatrix}t\\\\1\\end{bmatrix}dt$  \n",
    "=$\\begin{bmatrix}0\\\\1\\end{bmatrix}+\\int^t_0\\begin{bmatrix}1\\\\-t\\end{bmatrix}dt$  \n",
    "=$\\begin{bmatrix}0\\\\1\\end{bmatrix}+\\begin{bmatrix}t\\\\-\\frac12t^2\\end{bmatrix}$  \n",
    "=$\\begin{bmatrix}t\\\\1-\\frac12t^2\\end{bmatrix}$  \n",
    "$φ_3(t)=\\begin{bmatrix}0\\\\1\\end{bmatrix}+\\int^t_0\\begin{bmatrix}0&1\\\\-1&0\\end{bmatrix}\\begin{bmatrix}s\\\\1-\\frac12s^2\\end{bmatrix}ds$  \n",
    "=$\\begin{bmatrix}0\\\\1\\end{bmatrix}+\\int^t_0\\begin{bmatrix}1-\\frac12s^2\\\\-s\\end{bmatrix}ds$  \n",
    "=$\\begin{bmatrix}0\\\\1\\end{bmatrix}+\\begin{bmatrix}t-\\frac16t^3\\\\-\\frac12t^2\\end{bmatrix}$  \n",
    "=$\\begin{bmatrix}t-\\frac16t^3\\\\1-\\frac12t^2\\end{bmatrix}$  \n",
    "所以满足初值条件$x(0)=\\begin{bmatrix}0\\\\1\\end{bmatrix}$的第三次近似解为  \n",
    "$$φ_3(t)=\\begin{bmatrix}t-\\frac16t^3\\\\1-\\frac12t^2\\end{bmatrix}$$"
   ]
  },
  {
   "cell_type": "markdown",
   "metadata": {
    "collapsed": true
   },
   "source": [
    "# <font color='red'>A  25/11"
   ]
  },
  {
   "cell_type": "code",
   "execution_count": null,
   "metadata": {
    "collapsed": true
   },
   "outputs": [],
   "source": []
  }
 ],
 "metadata": {
  "kernelspec": {
   "display_name": "SageMath 7.3",
   "language": "",
   "name": "sagemath"
  },
  "language_info": {
   "codemirror_mode": {
    "name": "ipython",
    "version": 2
   },
   "file_extension": ".py",
   "mimetype": "text/x-python",
   "name": "python",
   "nbconvert_exporter": "python",
   "pygments_lexer": "ipython2",
   "version": "2.7.10"
  }
 },
 "nbformat": 4,
 "nbformat_minor": 0
}
