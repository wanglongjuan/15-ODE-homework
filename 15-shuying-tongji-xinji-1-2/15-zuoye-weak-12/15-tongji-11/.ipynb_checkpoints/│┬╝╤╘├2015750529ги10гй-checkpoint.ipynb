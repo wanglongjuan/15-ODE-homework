{
 "cells": [
  {
   "cell_type": "markdown",
   "metadata": {
    "collapsed": true
   },
   "source": [
    "## 11月14日 ##"
   ]
  },
  {
   "cell_type": "markdown",
   "metadata": {},
   "source": [
    "P183"
   ]
  },
  {
   "cell_type": "code",
   "execution_count": null,
   "metadata": {
    "collapsed": true
   },
   "outputs": [],
   "source": []
  },
  {
   "cell_type": "markdown",
   "metadata": {},
   "source": [
    "1.求解下列方程\n",
    "\n",
    "(2) $ xx^{\\prime \\prime}-(x^{\\prime})^2+(x^{\\prime})^3=0 $\n",
    "\n",
    "$ 方程不显含t,令x^{\\prime}=y,则x^{\\prime \\prime}=y\\frac{\\mathrm dy}{\\mathrm dx} $\n",
    "\n",
    "$ 原方程为xy\\frac{\\mathrm dy}{\\mathrm dx}-y^2+y^3=0 $\n",
    "\n",
    "$ 得y=0，即x=c或x\\frac{\\mathrm dy}{\\mathrm dx}=y(1-y) $\n",
    "\n",
    "$ \\frac{\\mathrm dx}{x}=(\\frac{1}{y}-\\frac{1}{y-1})\\mathrm dy $\n",
    "\n",
    "$ 积分得y=\\frac{cx}{cx-1},有x^{\\prime}=\\frac{cx}{cx-1} $\n",
    "\n",
    "$ 积分得x-\\frac{1}{c}\\ln |x|=t+c_2 $\n",
    "\n",
    "$ 即方程有解x+c_1\\ln |x|=t+c_2及x=c $"
   ]
  },
  {
   "cell_type": "markdown",
   "metadata": {},
   "source": [
    "(4)$ x^{\\prime \\prime}+\\sqrt{1-(x^{\\prime})^2}=0 $\n",
    "\n",
    "$ 方程不显含t,令x^{\\prime}=y,则x^{\\prime \\prime}=y\\frac{\\mathrm dy}{\\mathrm dx} $\n",
    "\n",
    "$ 原方程为y^{\\prime}+\\sqrt{1-y^2}=0 $\n",
    "\n",
    "分离变量，$ \\frac{\\mathrm dy}{\\sqrt{1-y^2}}=-\\mathrm dt,\\arcsin y=c_1-t,x^{\\prime}=y=\\sin(c_1-t),x=\\cos (t-c_1)+c_2 $\n",
    "\n",
    "$ 所以方程的解为x=\\cos(t-c_1)+c_2 $\n",
    "\n",
    "$ 又因为y^2=1,,y=±1时x^{\\prime}=±1,x=±t+c也是解 $"
   ]
  },
  {
   "cell_type": "markdown",
   "metadata": {},
   "source": [
    "(6)$ x^{\\prime \\prime}-\\frac{1}{t}x^{\\prime}+(x^{\\prime})^2=0 $\n",
    "\n",
    "$ 用x^{\\prime}除方程，有\\frac{x^{\\prime \\prime}}{x^{\\prime}}+x^{\\prime}=\\frac{1}{t} $\n",
    "\n",
    "$ 化为\\frac{\\mathrm d}{\\mathrm dt}(x+\\ln |x^{\\prime}|=\\frac{1}{t} $\n",
    "\n",
    "$ 积分得e^xx^{\\prime}=ct,再积分有e^x=c_1t^2+c_2 $\n",
    "\n",
    "$ 方程还有解x^{\\prime}=0,x=c $\n",
    "\n",
    "$ 所以方程的通解为e^x=c_1t^2+c_2 $"
   ]
  },
  {
   "cell_type": "markdown",
   "metadata": {},
   "source": [
    "2.用幂级数解法求解下列方程。\n",
    "\n",
    "(2) $ (1-t)x^{\\prime \\prime}+x=0 $\n",
    "\n",
    "$ 方程化为x^{\\prime \\prime}+\\frac{x}{1-t}=0 $\n",
    "\n",
    "$ 因为tp(t)=0,t^2q(t)=\\frac{t^2}{1-t}，所以存在幂级数解 $\n",
    "\n",
    "$ 设x=a_0+a_1t+a_2t^2+…+a_nt^n+… $\n",
    "\n",
    "$ 将x,x^{\\prime},x^{\\prime \\prime}的表达式代入原方程，比较同次幂系数，可得 $\n",
    "\n",
    "$ 2a_2+a_0=0,3·2a_3-2a_2+a_1=0,k(k-1)a_k-(k-1)(k-2)a_{k-1}+a_{k-2}=0,k＞3 $\n",
    "\n",
    "$ 考虑方程的通解，可设x(0)=c_1,x^{\\prime}(0)=c_2,有a_0=c_1,a_1=c_2,a_2=-\\frac{1}{2}c_1,a_3=-\\frac{1}{3!}c_1-\\frac{1}{3!}c_2,a_k=\\frac{k-2}{k}a_{k-1}-\\frac{1}{k(k-1)}a_{k-2}(k＞3) $\n",
    "\n",
    "于是可逐次递推求得幂级数解\n",
    "\n",
    "$ x=c_1(1-\\frac{1}{2}t^2-\\frac{1}{3!}t^3-\\frac{1}{4!}t^4-\\frac{2}{5!}t^5-\\frac{7}{6!}-…)+c_2(t-\\frac{1}{3!}t^3-\\frac{2}{4!}t^4-\\frac{5}{5!}t^5-\\frac{18}{6!}t^6-…) $"
   ]
  },
  {
   "cell_type": "markdown",
   "metadata": {},
   "source": [
    "## 11月15日 ##"
   ]
  },
  {
   "cell_type": "markdown",
   "metadata": {},
   "source": [
    "P201"
   ]
  },
  {
   "cell_type": "markdown",
   "metadata": {},
   "source": [
    "2.将下面的初值问题化为与之等价的一阶方程组的初值问题。\n",
    "\n",
    "(3)$ \\begin{cases}\n",
    "x^{\\prime \\prime}+5y^{\\prime}-7x+6y=e^t\\\\\n",
    "y^{\\prime \\prime}-2y+13y^{\\prime}-15x=\\cos t \n",
    "\\end{cases} $\n",
    "\n",
    "$ x(0)=1,x^{\\prime}(0)=0,y(0)=0,y^{\\prime}=1 $\n",
    "\n",
    "$ 令w=\\begin{bmatrix}\n",
    "      w_1\\\\\n",
    "      w_2\\\\\n",
    "      w_3\\\\\n",
    "      w_4\n",
    "      \\end{bmatrix} $,\n",
    "$ w_1=x,w_2=w_1^{\\prime}=x^{\\prime},w_3=y,w_4=w_3^{\\prime}=y^{\\prime} $\n",
    "\n",
    "则方程组化为$\\begin{aligned} \n",
    "&w_2^{\\prime}=x^{\\prime \\prime}=e^t-5y^{\\prime}+7x-6y=e^t-5w_4+7w_1-6w_3,\\\\\n",
    "&w_4^{\\prime}=y^{\\prime \\prime}=\\cos t+2y-13y^{\\prime}+15x=\\cos t+2w_3-13w_4+15w_1 \n",
    "\\end{aligned} $\n",
    "\n",
    "$ 即有w^{\\prime}=\\begin{bmatrix}\n",
    "      w_2\\\\\n",
    "      e^t-5w_4+7w_1-6w_3\\\\\n",
    "      w_4\\\\\n",
    "     \\cos t+2w_3-13w_4+15w_1\n",
    "      \\end{bmatrix} $\n",
    "     $ =\\begin{bmatrix}\n",
    "     0&1&0&0\\\\\n",
    "     7&0&-6&-5\\\\\n",
    "     0&0&0&1\\\\\n",
    "     15&0&2&-13\n",
    "     \\end{bmatrix} w$\n",
    "     $ +\\begin{bmatrix}\n",
    "      0\\\\\n",
    "      e^t\\\\\n",
    "      0\\\\\n",
    "      \\cos t\n",
    "      \\end{bmatrix} $,\n",
    "      $ w(0)=\\begin{bmatrix}\n",
    "      1\\\\\n",
    "      0\\\\\n",
    "      0\\\\\n",
    "      1\n",
    "      \\end{bmatrix} $\n"
   ]
  },
  {
   "cell_type": "markdown",
   "metadata": {},
   "source": [
    "3.试用逐步逼近法求方程组$ x^{\\prime}=\\begin{bmatrix}\n",
    "                                      0&1\\\\\n",
    "                                      -1&0\n",
    "                                      \\end{bmatrix}x $\n",
    "满足初值条件$ x(0)=\\begin{bmatrix}\n",
    "                    0\\\\\n",
    "                    1\n",
    "                   \\end{bmatrix} $的第三次近似解\n",
    "                   \n",
    "$ 令方程组的解为\\varphi(t),取\\varphi_0(t)=x(0)=\\begin{bmatrix}\n",
    "                    0\\\\\n",
    "                    1\n",
    "                   \\end{bmatrix} $\n",
    "                \n",
    " 于是第一次近似解为\n",
    " \n",
    " $ \\begin{aligned}\n",
    "\\varphi_1(t)=\\varphi_0(t)+\\int \\limits_0^t A(s)\\varphi_0(s)\\mathrm ds&=\\begin{bmatrix}\n",
    "                    0\\\\\n",
    "                    1\n",
    "                   \\end{bmatrix}+\\int \\limits_0^t \\begin{bmatrix}\n",
    "                                      0&1\\\\\n",
    "                                      -1&0\n",
    "                                      \\end{bmatrix}\\begin{bmatrix}\n",
    "                    0\\\\\n",
    "                    1\n",
    "                   \\end{bmatrix} \\mathrm ds\\\\\n",
    "&=\\begin{bmatrix}\n",
    "                    0\\\\\n",
    "                    1\n",
    "                   \\end{bmatrix}+\\int \\limits_0^t\\begin{bmatrix}\n",
    "                    1\\\\\n",
    "                    0\n",
    "                   \\end{bmatrix}\\mathrm ds\\\\\n",
    "&=\\begin{bmatrix}\n",
    "                    0\\\\\n",
    "                    1\n",
    "                   \\end{bmatrix}+\\begin{bmatrix}\n",
    "                    t\\\\\n",
    "                    0\n",
    "                   \\end{bmatrix}\\\\\n",
    "&=\\begin{bmatrix}\n",
    "                    t\\\\\n",
    "                    1\n",
    "                   \\end{bmatrix} \n",
    "\\end{aligned} $\n",
    "\n",
    "第二次近似解为\n",
    "\n",
    "$ \\begin{aligned}\n",
    "\\varphi_2(t)=\\varphi_0(t)+\\int \\limits_0^t A(s)\\varphi_1(s)\\mathrm ds&=\\begin{bmatrix}\n",
    "                    0\\\\\n",
    "                    1\n",
    "                   \\end{bmatrix}+\\int \\limits_0^t \\begin{bmatrix}\n",
    "                                      0&1\\\\\n",
    "                                      -1&0\n",
    "                                      \\end{bmatrix}\\begin{bmatrix}\n",
    "                    s\\\\\n",
    "                    1\n",
    "                   \\end{bmatrix}\\mathrm ds\\\\\n",
    "&=\\begin{bmatrix}\n",
    "                    0\\\\\n",
    "                    1\n",
    "                   \\end{bmatrix}+\\int \\limits_0^t\\begin{bmatrix}\n",
    "                    1\\\\\n",
    "                    -s\n",
    "                   \\end{bmatrix}\\mathrm ds\\\\\n",
    "                   &=\\begin{bmatrix}\n",
    "                    0\\\\\n",
    "                    1\n",
    "                   \\end{bmatrix}+\\begin{bmatrix}\n",
    "                    t\\\\\n",
    "                    -\\frac{t^2}{2}\n",
    "                   \\end{bmatrix}\\\\\n",
    "                   &=\\begin{bmatrix}\n",
    "                    t\\\\\n",
    "                    1-\\frac{t^2}{2}\n",
    "                   \\end{bmatrix}\n",
    "\\end{aligned} $\n",
    "\n",
    "第三次近似解为\n",
    "\n",
    "$ \\begin{aligned}\n",
    "\\varphi_3(t)=\\varphi_0(t)+\\int \\limits_0^t A(s)\\varphi_2(s)\\mathrm ds&=\\begin{bmatrix}\n",
    "                    0\\\\\n",
    "                    1\n",
    "                   \\end{bmatrix}+\\int \\limits_0^t \\begin{bmatrix}\n",
    "                                      0&1\\\\\n",
    "                                      -1&0\n",
    "                                      \\end{bmatrix}\\begin{bmatrix}\n",
    "                    s\\\\\n",
    "                    1-\\frac{s^2}{2}\n",
    "                   \\end{bmatrix}\\mathrm ds\\\\\n",
    "&=\\begin{bmatrix}\n",
    "                    0\\\\\n",
    "                    1\n",
    "                   \\end{bmatrix}+\\int \\limits_0^t\\begin{bmatrix}\n",
    "                    1-\\frac{s^2}{2}\\\\\n",
    "                    -s\n",
    "                   \\end{bmatrix}\\mathrm ds\\\\\n",
    "                   &=\\begin{bmatrix}\n",
    "                    0\\\\\n",
    "                    1\n",
    "                   \\end{bmatrix}+\\begin{bmatrix}\n",
    "                    t-\\frac{t^3}{3!}\\\\\n",
    "                    -\\frac{t^2}{2!}\n",
    "                   \\end{bmatrix}\\\\\n",
    "                   &=\\begin{bmatrix}\n",
    "                    t-\\frac{t^3}{3!}\\\\\n",
    "                    1-\\frac{t^2}{2!}\n",
    "                   \\end{bmatrix}\n",
    "\\end{aligned} $"
   ]
  },
  {
   "cell_type": "markdown",
   "metadata": {
    "collapsed": true
   },
   "source": [
    "# <font color='red'>A  25/11"
   ]
  },
  {
   "cell_type": "code",
   "execution_count": null,
   "metadata": {
    "collapsed": true
   },
   "outputs": [],
   "source": []
  }
 ],
 "metadata": {
  "kernelspec": {
   "display_name": "SageMath 7.3",
   "language": "",
   "name": "sagemath"
  },
  "language_info": {
   "codemirror_mode": {
    "name": "ipython",
    "version": 2
   },
   "file_extension": ".py",
   "mimetype": "text/x-python",
   "name": "python",
   "nbconvert_exporter": "python",
   "pygments_lexer": "ipython2",
   "version": "2.7.10"
  }
 },
 "nbformat": 4,
 "nbformat_minor": 0
}
