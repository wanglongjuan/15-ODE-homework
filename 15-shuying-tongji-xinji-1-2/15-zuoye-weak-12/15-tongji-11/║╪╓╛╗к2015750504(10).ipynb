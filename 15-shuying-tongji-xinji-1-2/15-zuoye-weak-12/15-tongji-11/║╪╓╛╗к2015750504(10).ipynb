{
 "cells": [
  {
   "cell_type": "markdown",
   "metadata": {},
   "source": [
    "1.求解下列方程y-y^2\n",
    "（2）解;方程不显含t，令y=x',所以方程变形成为xydy/dx-y^2+y^3=0,得到y==0,或者dy/dx=(y-y^2)/y,积分后得到\n",
    "y/(1-y)=cx(不等于零),所以x'=cx/(1+cx),积分得到x+(1/c)ln|x|=t+c_2.即方程有解x+c_1ln|x|=t+c_2.当y=0时得到x'=0,故x=c.综合得到方程的解为x+c_1ln|x|=t+c_2或x=c,c_1,c_2,c是任意的常数\n",
    "\n"
   ]
  },
  {
   "cell_type": "markdown",
   "metadata": {},
   "source": [
    "（4）解;方程不显含t,令y=x',将方程化为ydy/dx+\\sqrt{1-y^2}=0\n",
    "当y不等于+1和-1时，再将方程化为ydy/\\sqrt{1-y^2}=-dx,积分后得到\\sqrt{1-y^2}=x+c,即\\sqrt{1-x'^2}=x+c,故\n",
    "x'=\\sqrt{1-（x+c）^2},再次积分得到\n",
    "当x'=\\sqrt{1-(x+c)^2}时，x=sin(t+c_1)+c_2;\n",
    "当x'=-\\sqrt{1-(x+c)^2时，x=cos(t+c_1)+c_2.\n",
    "综合之得到方程的解为x=sin(t+c_1)+c_2或者x=cos(t+c_1)+c_2,和x=t+c,x=-t+c,其中c_1，c_2，c是任意的常数。"
   ]
  },
  {
   "cell_type": "markdown",
   "metadata": {},
   "source": [
    "（6）解：当x'不等于0时，方程两边同时除以x',则得到x''/x'-1/t+x'=0,即d(ln|x'|-ln|t|+x)=0,,积分得到ln|x'/x|+x=c_1,\n",
    "解得x'=te^(-x+c_1),再积分得到e^x=c_1(t^2/2)+c_2.,当x'=0时，即得x=c,所以方程的解为e^x=c_1(t^2+c_2)或x=c,c_1,c_2,c为任意的常数。"
   ]
  },
  {
   "cell_type": "markdown",
   "metadata": {},
   "source": [
    "2.用幂级数解法求解下列方程。\n",
    "解：方程化为x''+x/(1-t)=0,因tp(t)=0,t^2q(t)=t^2/(1-t),故存在幂级数解。设x=a_0+a_1t+a_2t+a_3t+·······+a_nt+···是方程的解，则x'=a_1+2a_2t+3a_3t^2+···+na_nt^n-1+···，\n",
    "x''=2a_2+3·2a_3t+····+n(n-1)a_nt^n-2+···。将x,x',x''的表达式代入原方程，比较同次幂系数，可得\n",
    "2a_2+a_0=0,3·2a_3-2a_2+a_1=0,\n",
    "k(k-1)a_k-(k-1)(k-2)a_k-1+a_k-2=0,k>3.第一式。\n",
    "设x_1(t)和x_2（t）是满足初值条件x_1（0）=0，x'_1(0)=1,x_2(0)=1,x'_2(0)=0的两个解。对于x_1(t),显然有a_0=0,a_1=1,代入第一式得到a_2=0,a_3=-1/(1·2·3），a_4=-1/3·4，a_5=-5/(1·2·3·4·5），·····\n",
    "a_n=(（n-1)（n-2）a_n-1-a_n-2）/n(n-1),即x_1(t)=t-t^3/3!-2t^4/4!-5t^5/5!-18t^6/6!···，对于x_2(t),显然有a_0=1，a_1=0，代入第一式得到a_2=-1/2,a_3=-1/(1·2·3），a_4=-1/（1·2·3·4），···，\n",
    "a_n=((n-1)(n-2)a-(n-1)-a_n-2)/n(n-1),也就是x_2（t）=1-t^2/2!-t^3/3!-t^4/4!-···，所以方程的通解为\n",
    "x=c_1x_1(t)+c_2x_2(t)=c_1(t-t^3/3!-2t^4/4!-5t^5/5!-18t^6/6!···)+c_2(1-t^2/2!-t^3/3!-t^4/4!-···)."
   ]
  },
  {
   "cell_type": "markdown",
   "metadata": {},
   "source": [
    "2.(3)解：令\\omega_1=x,\\omega_2=x',\\omega_3=y,\\omega_4=y',则初值问题化为：\n",
    "\\omega'_1=x'=\\omega_2;\\omega'_2=x''=-5\\omega_4+7\\omega_1-6\\omega_3+e^t;\\omega'_3=y'=\\omega_4;\n",
    "\\omega'4=y''=2\\omega_3-13\\omega_4+15\\omega_1+cost.且|Omeg_1（0）=x(0)=1;\\omega_2(0)=x'(0)=0;\n",
    "\\omega_3(0)=y(0)=0;\\omega_4(0)=y'(0)=1.即\n",
    "\\omega=\\bmatrix{0 1 0 0\\\\7 0 -6 -5\\\\0 0 0 1\\\\15 0 2 -13}\\omega+\\bmatrix{0\\\\e^t\\\\0\\\\cost},\n",
    "\\omega(0)=\\bmatrix{1\\\\0\\\\0\\\\1},其中\\omega=\\bmatrix{\\omega_1\\\\\\omega_2\\\\\\omega_3\\\\\\omrga_4}.\n"
   ]
  },
  {
   "cell_type": "markdown",
   "metadata": {},
   "source": [
    "3.解;\\psi_0(t)=\\bmatrix{0\\\\1}\n",
    "\\psi_1(t)=\\bmatrix{0\\\\1}+\\int{0}{t}\\bmatrix{0 1\\\\-1 0}\\bmatrix{0\\\\1}ds=\\bmatrix{t\\\\1};\n",
    "\\psi_2(t)=\\bmatrix{t\\\\1-t^2/2}；\n",
    "\\psi_3(t)=\\bmatrix{t-t^3/6\\\\1-t^2/2}.所以，满足初值条件x(0)=\\bmatrix{0\\\\1}的第三次近似解为\n",
    "\\psi_3(t)=\\bmatrix{t-t^3/6\\\\1-t^2/2}."
   ]
  },
  {
   "cell_type": "markdown",
   "metadata": {},
   "source": [
    "# <font color='red'>A  25/11"
   ]
  },
  {
   "cell_type": "code",
   "execution_count": null,
   "metadata": {
    "collapsed": true
   },
   "outputs": [],
   "source": []
  }
 ],
 "metadata": {
  "kernelspec": {
   "display_name": "SageMath 7.3",
   "language": "",
   "name": "sagemath"
  },
  "language_info": {
   "codemirror_mode": {
    "name": "ipython",
    "version": 2
   },
   "file_extension": ".py",
   "mimetype": "text/x-python",
   "name": "python",
   "nbconvert_exporter": "python",
   "pygments_lexer": "ipython2",
   "version": "2.7.10"
  }
 },
 "nbformat": 4,
 "nbformat_minor": 0
}
