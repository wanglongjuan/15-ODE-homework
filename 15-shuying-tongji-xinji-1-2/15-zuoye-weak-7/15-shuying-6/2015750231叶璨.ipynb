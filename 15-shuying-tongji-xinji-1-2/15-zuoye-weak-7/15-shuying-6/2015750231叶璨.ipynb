{
 "cells": [
  {
   "cell_type": "markdown",
   "metadata": {},
   "source": [
    "一、假设函数f(x,y)及$\\frac{\\partial f}{\\partial y}$都在区域G内连续，又$y=\\phi(x,x_0,y_0)$是方程（3,1）满足初值条件$\\phi(x,x_0,y_0)=y_0$的解，试证明$\\frac{\\partial \\phi}{\\partial y_0}$存在且连续，并写出其表达式。\n",
    "\n",
    "证：由解对初值的可微性定理的证明思路可知：\n",
    "\n",
    "设$y=\\phi(x,x_0,y_0+\\Delta)=\\Psi$为初值$(x_0,y_0+)(|\\Delta y_0|≤\\alpha)$所确定的解，由上诉推演同样可以证明$\\frac{Psi-phi}{y_0}$是初值问题。\n",
    "\n",
    "又联立两个方程（1）（2）\n",
    "\n",
    "$$\\frac{dz}{dx}=[\\frac{\\partial f(x,\\phi)}{\\partial y}+r_3]z    …………        (1)$$\n",
    "\n",
    "$$z(x_0)=1                 ………………                                             (2)$$\n",
    "\n",
    "因而 $$\\frac{\\Psi-\\phi}{\\Delta y_0}=exp(\\int_{x_0}^x {[\\frac{\\partial f(x,\\phi)}{\\partial y}+r_3]} \\mathrm\\,\\mathrm {d}x)$$\n",
    "\n",
    "其中$r_3$具有性质：当$y_0$趋近于0时，$r_3→0$，且$y_0=0$时，$r_3=0$.\n",
    "\n",
    "故有\n",
    "\n",
    "$$\\frac{\\partial \\phi}{\\partial \\Delta y_0}=lim\\frac{\\Psi-\\phi}{\\Delta y_0}=exp(\\int_{x_0}^x {[\\frac{\\partial f(x,\\phi)}{\\partial y}+r_3]} \\mathrm\\,\\mathrm {d}x)$$\n",
    "\n",
    "它是$x,x_0,y_0$的连续函数。\n",
    "\n",
    "即证$\\frac{\\partial \\phi}{\\partial y_0}$存在且连续"
   ]
  },
  {
   "cell_type": "markdown",
   "metadata": {
    "collapsed": true
   },
   "source": [
    "二、假设函数P(x)和Q(x)于区间$[\\alpha,\\beta]$上连续，$y=\\phi(x,x_0,y_0)$是方程\n",
    "\n",
    "$$\\frac{dy}{dx}=P(x)y+Q(x)$$\n",
    "\n",
    "的解，$y_0=\\phi(x,x_0,y_0)$.试求$\\frac{\\partial \\phi}{\\partial x_0}$,$\\frac{\\partial \\phi}{\\partial y_0}$,$\\frac{\\partial \\phi}{\\partial x}$,并从解的表达式出发，利用对参数求导数的方法，检验所得结果。\n",
    "\n",
    "解：由题意可知：$\\frac{dy}{dx}=P(x)y+Q(x)$满足解对初值的可微性定理条件。\n",
    "\n",
    "所以有定理可知：\n",
    "$$\\frac{\\partial \\phi}{\\partial x_0}=-f(x_0,y_0)exp(\\int_{x_0}^x {\\frac{\\partial f(x,\\phi)}{\\partial y}} \\mathrm\\,\\mathrm {d}x)$$\n",
    "$$=-(P(x_0)y_0+Q(x_0))exp(\\int_{x_0}^x {P(X)} \\mathrm\\,\\mathrm {d}x)$$\n",
    "$$\\frac{\\partial \\phi}{\\partial y_0}=exp(\\int_{x_0}^x {\\frac{\\partial f(x,\\phi)}{\\partial y}} \\mathrm\\,\\mathrm {d}x)$$\n",
    "$$=exp(\\int_{x_0}^x {P(X)} \\mathrm\\,\\mathrm {d}x)$$\n",
    "$$\\frac{dy}{dx}=P(x)y+Q(x)$$满足$y(x_0)=y_0$\n",
    "的解为$y=e^{\\int_{x_0}^x {P(X)} \\mathrm\\,\\mathrm {d}x}(\\int_{x_0}^x {Q(X)（exp(-\\int_{x_0}^x {P(X)} \\mathrm\\,\\mathrm {d}x)）} \\mathrm\\,\\mathrm {d}x+y_0)$\n",
    "\n",
    "$$\\frac{\\partial \\phi}{\\partial x_0}=-P(x_0)exp(-\\int_{x_0}^x {P(X)} \\mathrm\\,\\mathrm {d}x)）(\\int_{x_0}^x {Q(X)} \\mathrm\\,\\mathrm {d}x))(exp(-\\int_{x_0}^x {P(X)} \\mathrm\\,\\mathrm {d}x)）+Y_0)$$\n",
    "\n",
    "$=-P(x_0){y_0}+Q(x_0)exp(-\\int_{x_0}^x {P(X)} \\mathrm\\,\\mathrm {d}x)$\n",
    "\n",
    "同理$$\\frac{\\partial \\phi}{\\partial x}=P(x){\\phi(x,{x_0},{y_0})}+Q(x)$$\n",
    "证毕\n"
   ]
  },
  {
   "cell_type": "markdown",
   "metadata": {},
   "source": [
    "三、给定方程\n",
    "$\\frac{dy}{dx}=sin(\\frac{dy}{dx})$\n",
    "\n",
    "\n",
    "试求\n",
    "$\\frac{\\partial y(x,x_0,y_0)}{\\partial x_0}$,\n",
    "$\\frac{\\partial y(x,x_0,y_0)}{\\partial y_0}$在$x_0=1，y_0=0$时的表达式。\n",
    "\n",
    "解：由解对初值的可微性定理可得，\n",
    "$$\\frac{\\partial \\phi}{\\partial x_0}=-f(x_0,y_0)exp(\\int_{x_0}^x {\\frac{\\partial f(x,\\phi)}{\\partial y}} \\mathrm\\,\\mathrm {d}x)$$\n",
    "$$\\frac{\\partial \\phi}{\\partial y_0}=exp(\\int_{x_0}^x {\\frac{\\partial f(x,\\phi)}{\\partial y}} \\mathrm\\,\\mathrm {d}x)$$\n",
    "由题意\n",
    "$f(x,y)=sin(\\frac{dy}{dx}),\\frac{\\partial f }{\\partial y_0}=\\frac{1}{x}cos(\\frac{dy}{dx})$\n",
    "$$\\frac{\\partial y}{\\partial x_0}=-sin(\\frac{d{y_0}}{d{x_0}})exp(\\int_{x_0}^x {\\frac{1}{x}cos(\\frac{dy}{dx})} \\mathrm\\,\\mathrm {d}x)$$\n",
    "$$\\frac{\\partial y}{\\partial y_0}=exp(\\int_{x_0}^x {{\\frac{1}{x}}cos(\\frac{y}{x})} \\mathrm\\,\\mathrm {d}x)$$\n",
    "$x_0=1，y_0=0$时\n",
    "$$\\frac{\\partial y}{\\partial x_0}=0$$\n",
    "$$\\frac{\\partial y}{\\partial y_0}=1$$\n"
   ]
  },
  {
   "cell_type": "markdown",
   "metadata": {},
   "source": [
    "四、设$y=\\varphi(x,x_0,y_0,\\lambda)$是初值问题\n",
    "$$\n",
    "\\frac{dy}{dx}=sin(\\lambda xy),\\varphi(x,x_0,y_0,\\lambda)=y_0\n",
    "$$\n",
    "的饱和解，这里$\\lambda$是参数，求$$\n",
    "\\frac{\\partial \\varphi }{\\partial x_0} ，\\frac{\\partial \\varphi }{\\partial y_0}在（x,0,0,1）处的表达式$$\n",
    "解：由解对初值的可微性定理可得，\n",
    "$$\\frac{\\partial \\phi}{\\partial x_0}=-f(x_0,y_0)exp(\\int_{x_0}^x {\\frac{\\partial f(x,\\phi)}{\\partial y}} \\mathrm\\,\\mathrm {d}x)$$\n",
    "$$\\frac{\\partial \\phi}{\\partial y_0}=exp(\\int_{x_0}^x {\\frac{\\partial f(x,\\phi)}{\\partial y}} \\mathrm\\,\\mathrm {d}x)$$\n",
    "$f(x,y)=sin(\\lambda xy),\\frac{\\partial f }{\\partial y_0}=\\lambda xcos(\\lambda xy)$\n",
    "由题意\n",
    "$$\\frac{\\partial \\phi}{\\partial x_0}=-sin(\\lambda xy)exp(\\int_{x_0}^x {\\lambda xcos(\\lambda xy)} \\mathrm\\,\\mathrm {d}x)$$\n",
    "在（x,0,0,1）处时\n",
    "$$\\frac{\\partial \\phi}{\\partial y_0}=exp(\\int_{x_0}^x {\\lambda xcos(\\lambda xy)} \\mathrm\\,\\mathrm {d}x)$$\n",
    "$$\\frac{\\partial \\phi}{\\partial x_0}=0$$\n",
    "$$\\frac{\\partial \\phi}{\\partial y_0}=exp(\\frac{x^2}{2})$$\n"
   ]
  },
  {
   "cell_type": "markdown",
   "metadata": {
    "collapsed": true
   },
   "source": [
    " # <font color='red'>A  20/10\n",
    " "
   ]
  },
  {
   "cell_type": "code",
   "execution_count": null,
   "metadata": {
    "collapsed": true
   },
   "outputs": [],
   "source": []
  }
 ],
 "metadata": {
  "kernelspec": {
   "display_name": "SageMath 7.3",
   "language": "",
   "name": "sagemath"
  },
  "language_info": {
   "codemirror_mode": {
    "name": "ipython",
    "version": 2
   },
   "file_extension": ".py",
   "mimetype": "text/x-python",
   "name": "python",
   "nbconvert_exporter": "python",
   "pygments_lexer": "ipython2",
   "version": "2.7.10"
  }
 },
 "nbformat": 4,
 "nbformat_minor": 0
}
