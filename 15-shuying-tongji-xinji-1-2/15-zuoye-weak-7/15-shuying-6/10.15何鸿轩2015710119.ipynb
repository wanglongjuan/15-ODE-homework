{
 "cells": [
  {
   "cell_type": "markdown",
   "metadata": {
    "collapsed": false
   },
   "source": [
    "# 3.3"
   ]
  },
  {
   "cell_type": "markdown",
   "metadata": {},
   "source": [
    "### $ 1.假设函数f(x,y)及\\frac{\\partial f}{\\partial y}都在区域 G 内连续，又y=\\varphi (x,x_0,y_0)是方程（3.1）满足初值条件\\varphi (x_0,x_0,y_0)=y_0 的解，\\\\试证\\frac{\\partial \\varphi}{\\partial y_0}存在且连续，并写出其表达式$"
   ]
  },
  {
   "cell_type": "markdown",
   "metadata": {},
   "source": [
    "$解：因为\\frac{\\partial f}{\\partial y}在区域G内连续，推知f(x,y)在G内关于y满足局部利普希茨条件\\\\所以解对初值的连续性定理成立，即y=\\varphi (x,x_0,y_0)在它的存在范围内关于x,x_0,y_0是连续的\\\\设由初值(x_0,y_0)和(x_0,y_0+\\Delta y_0)(|\\Delta y_0|\\leq \\alpha,\\alpha为足够小的正数)\\\\所确定的方程的解为:$\n",
    "\n",
    "$$y=\\varphi (x,x_0,y_0)\\\\和y=\\psi (x,x_0,y_0+\\Delta y_0)$$\n",
    "\n",
    "$$即\\varphi =y_0+\\int_{x_0}^x f(x,\\varphi)dx 和\\psi =y_0+\\Delta y_0+\\int_{x_0}^x f(x,\\psi)d x$$\n",
    "\n",
    "$$于是\\psi -\\varphi =\\Delta y_0+\\int_{x_0}^x f(x,\\psi)-f(x,\\varphi)d x$$\n",
    "\n",
    "$$=\\Delta y_0+\\int_{x_0}^x \\frac{\\partial f(x,\\varphi+\\theta(\\psi-\\varphi))}{\\partial y}(\\psi-\\varphi)d x$$\n",
    "\n",
    "$$=\\Delta y_0+\\int_{x_0}^x (\\frac{\\partial f(x,\\varphi)}{\\partial y}+r)(\\psi-\\varphi)d x$$\n",
    "\n",
    "$当\\Delta y_0 \\to 0时r \\to 0$\n",
    "\n",
    "$$\\frac{\\psi-\\varphi}{\\Delta y_0}=1+\\int_{x_0}^x (\\frac{\\partial f(x,\\varphi)}{\\partial y}+r)\\frac{\\psi-\\varphi}{\\Delta y_0}dx$$\n",
    "\n",
    "$即z=\\frac{\\psi-\\varphi}{\\Delta y_0}是初值问题$\n",
    "\n",
    "$$\\begin{cases}\n",
    "\\frac{dz}{dx}=(\\frac{\\partial f(x,\\varphi)}{\\partial y}+r)z\\\\\n",
    "z(x_0)=1\\\\\n",
    "\\end{cases}$$\n",
    "\n",
    "$的解，所以z=\\frac{\\psi-\\varphi}{\\Delta y_0}是x,x_0,y_0,\\Delta y_0的连续函数$\n",
    "\n",
    "$解方程得$ $$z=\\frac{\\psi-\\varphi}{\\Delta y_0}=\\exp [ \\int_{x_0}^x (\\frac{\\partial f(x,\\varphi)}{\\partial y}+r)dx]$$\n",
    "\n",
    "$$所以存在\\frac{\\partial \\varphi}{\\partial y_0}=\\lim \\limits_{\\Delta y_0 \\to 0}\\frac{\\psi-\\varphi}{\\Delta y_0}=\\exp(\\int_{x_0}^x \\frac{\\partial f(x,\\varphi)}{\\partial y}dx)$$\n",
    "\n",
    "$$所以\\frac{\\partial \\varphi}{\\partial y_0}存在且连续$$"
   ]
  },
  {
   "cell_type": "markdown",
   "metadata": {
    "collapsed": true
   },
   "source": [
    "### 2.$假设函数P(x)和Q(x)于区间[\\alpha,\\beta]上连续，y=\\varphi (x,x_0,y_0)是方程\\frac{dy}{dx}=P(x)y+Q(x)的解,\\\\y_0=\\varphi(x_0,x_0,y_0).试求\\frac{\\partial \\varphi}{\\partial x_0},\\frac{\\partial \\varphi}{\\partial y_0},\\frac{\\partial \\varphi}{\\partial x},并从解的表达式出发，利用对参数求导数的方法，检验所得结果.$"
   ]
  },
  {
   "cell_type": "markdown",
   "metadata": {},
   "source": [
    "解：$$\\frac{dy}{dx}=P(x)y+Q(x)=f(x,y)$$\n",
    "\n",
    "$$\\begin{aligned}\n",
    "\\frac{\\partial \\varphi}{\\partial x_0} &=-f(x_0,y_0)e^{\\int_{x_0}^x \\frac{\\partial f(x,\\varphi)}{\\partial y}dx}\n",
    "=-[P(x_0)y_0+Q(x_0)]e^{\\int_{x_0}^x P(s)ds}\\\\\n",
    "\\frac{\\partial \\varphi}{\\partial y_0} &=e^{\\int_{x_0}^x \\frac{\\partial f(x,\\varphi)}{\\partial y}dx}=e^{\\int_{x_0}^x P(s)ds}\\\\\n",
    "\\frac{\\partial \\varphi}{\\partial x} &=f(x,\\varphi(x,x_0,y_0))=P(x)\\varphi(x,x_0,y_0)+Q(x)\\\\\n",
    "\\end{aligned}$$\n",
    "\n",
    "$$解的表达式：y=e^{\\int P(x)dx}(\\int Q(x)e^{-\\int P(x)dx}dx +C)$$\n",
    "\n",
    "$$R'(x)=P(x),S'(x)=Q(x)e^{-R(x)}$$\n",
    "\n",
    "$$y_0=e^{R(x_0)}(S(x_0)+C)$$\n",
    "\n",
    "$$y=\\varphi  (x,x_0,y_0)=e^{\\int P(x)dx}(\\int Q(x)e^{-\\int P(x)dx}dx+y_0e^{-R(x_0)}-S(x_0))$$\n",
    "\n",
    "$$\\begin{aligned}\n",
    "\\frac{\\partial \\varphi}{\\partial x_0} &=-y_0 e^{R(x)-R(x_0)}P(x_0)-e^{R(x)}Q(x_0)e^{-R(x_0)}\\\\\n",
    "&=-y_0 e^{\\int_{x_0}^x P(s)ds}P(x_0)-e^{\\int_{x_0}^x P(s)ds}Q(x_0)\\\\\n",
    "&=-[P(x_0)y_0+Q(x_0)]e^{\\int_{x_0}^x P(s)ds}\\\\\n",
    "\\frac{\\partial \\varphi}{\\partial y_0} &=e^{\\int P(x)dx}e^{-R(x_0}\\\\\n",
    "&=e^{R(x)-R(x_0)}\\\\\n",
    "&=e^{\\int_{x_0}^x P(s)ds}\\\\\n",
    "\\frac{\\partial \\varphi}{\\partial x} &=P(x)e^{\\int P(x)dx}(\\int Q(x)e^{-\\int P(x)dx}dx+y_0e^{-R(x_0)}-S(x_0))+e^{\\int P(x)dx}Q(x)e^{-\\int P(x)dx}\\\\\n",
    "&=P(x)e^{\\int P(x)dx}(\\int Q(x)e^{-\\int P(x)dx}dx+y_0e^{-R(x_0)}-S(x_0))+Q(x)\\\\\n",
    "&=P(x)\\varphi(x,x_0,y_0)+Q(x)\\\\\n",
    "\\end{aligned}$$\n",
    "\n",
    "$$证毕$$"
   ]
  },
  {
   "cell_type": "markdown",
   "metadata": {},
   "source": [
    "### $3.给定方程\\frac{dy}{dx}=\\sin (\\frac{y}{x}),试求\\frac{\\partial y(x,x_0,y_0)}{\\partial x_0},\\frac{\\partial y(x,x_0,y_0)}{\\partial y_0}在x_0=1,y_0=0时的表达式.$"
   ]
  },
  {
   "cell_type": "markdown",
   "metadata": {},
   "source": [
    "解：$$\\frac{dy}{dx}=f(x,y)=\\sin (\\frac{y}{x})$$\n",
    "\n",
    "$因为f(x_0,y_0)=0$\n",
    "\n",
    "$$\\frac{\\partial y(x,x_0,y_0)}{\\partial x_0}=-f(x_0,y_0)e^{\\int_{x_0}^x \\frac{\\partial f(x,\\varphi)}{\\partial y}dx}=0$$\n",
    "\n",
    "$$\\frac{\\partial y(x,x_0,y_0)}{\\partial y_0}=e^{\\int_{x_0}^x \\frac{\\partial f(x,\\varphi)}{\\partial y}dx}$$\n",
    "\n",
    "$$=e^{\\int_{x_0}^x \\frac{1}{x}\\cos \\frac{y}{x}dx}$$\n",
    "\n",
    "$$=e^{\\int_1^x \\frac{1}{x}dx}$$\n",
    "\n",
    "$$=|x|$$\n",
    "\n",
    "$$所以\\frac{\\partial y(x,x_0,y_0)}{\\partial x_0}=0,\\frac{\\partial y(x,x_0,y_0)}{\\partial y_0}=|x|$$"
   ]
  },
  {
   "cell_type": "markdown",
   "metadata": {},
   "source": [
    "### $4.设y=\\varphi (x,x_0,y_0,\\lambda)是初值问题\\\\\\frac{dy}{dx}=\\sin (\\lambda xy),\\varphi(x_0,x_0,y_0,\\lambda)=y_0\\\\ 的饱和解，这里\\lambda是参数，求\\frac{\\partial \\varphi}{\\partial x_0},\\frac{\\partial \\varphi}{\\partial y_0}在（x,0,0,1）处的表达式$"
   ]
  },
  {
   "cell_type": "markdown",
   "metadata": {},
   "source": [
    "解：$$\\begin{aligned}\n",
    "\\frac{\\partial \\varphi}{\\partial x_0} &=-f(x_0,y_0)e^{\\int_{x_0}^x \\frac{\\partial f(x,\\varphi)}{\\partial y}dx}\\\\\n",
    "&=-\\sin (\\lambda x_0y_0)e^{\\int_{x_0}^x \\lambda x\\cos \\lambda xy dx}\\\\\n",
    "&=0\\\\\n",
    "\\frac{\\partial \\varphi}{\\partial y_0} &=e^{\\int_{x_0}^x \\frac{\\partial f(x,\\varphi)}{\\partial y}dx}\\\\\n",
    "&= e^{\\int_{x_0}^x \\lambda x \\cos \\lambda xy dx}\\\\\n",
    "&= e^{\\int_0^x x dx}\\\\\n",
    "&= e^{\\frac{x^2}{2}}\\\\\n",
    "\\end{aligned}$$\n",
    "\n",
    "$$所以\\frac{\\partial \\varphi}{\\partial x_0}=0，\\frac{\\partial \\varphi}{\\partial y_0}=e^{\\frac{x^2}{2}}$$"
   ]
  },
  {
   "cell_type": "markdown",
   "metadata": {
    "collapsed": true
   },
   "source": [
    "# <font color='red'>A  20/10"
   ]
  },
  {
   "cell_type": "code",
   "execution_count": null,
   "metadata": {
    "collapsed": true
   },
   "outputs": [],
   "source": []
  }
 ],
 "metadata": {
  "kernelspec": {
   "display_name": "SageMath 7.3",
   "language": "",
   "name": "sagemath"
  },
  "language_info": {
   "codemirror_mode": {
    "name": "ipython",
    "version": 2
   },
   "file_extension": ".py",
   "mimetype": "text/x-python",
   "name": "python",
   "nbconvert_exporter": "python",
   "pygments_lexer": "ipython2",
   "version": "2.7.10"
  }
 },
 "nbformat": 4,
 "nbformat_minor": 0
}
