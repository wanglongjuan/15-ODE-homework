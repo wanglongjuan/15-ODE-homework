{
 "cells": [
  {
   "cell_type": "markdown",
   "metadata": {},
   "source": [
    "# P102   \n",
    "$1.假设函数f(x,y)及\\frac{\\partial f}{\\partial y}都在区域G内连续，又y=\\phi (x,x_0,y_0)是方程（3.1）满足初值条件y_0=\\phi (x_0,x_0,y_0)的解，\\\\\n",
    "试证\\frac{\\partial \\phi}{\\partial y_0}存在且连续，并写出其表达式。$"
   ]
  },
  {
   "cell_type": "markdown",
   "metadata": {},
   "source": [
    "证明：\n",
    "$设初值（x_0,y_0+∆y_0）的解为y=\\psi(x,x_0,y_0+∆y_0),其中 \\mid ∆y_0 \\mid \\leq \\alpha,\\alpha足够小，则有\\\\\n",
    "$$\n",
    "\\phi=y_0+\\int\\limits_{x_0}^xf(x,\\phi)\\mathrm d x,\\psi=y_0+∆y_0+\\int\\limits_{x_0}^xf(x,\\psi)\\mathrm d x\n",
    "$$\n",
    "$\n",
    "\n",
    "\n",
    "于是$$\\psi-\\phi=∆y_0+\\int\\limits_{x_0}^x[f(x,\\psi)-f(x,\\phi)]\\mathrm d x\\\\\n",
    "=∆y_0+\\int\\limits_{x_0}^x[\\frac{\\partial f(x,\\phi+\\theta(\\psi-\\phi))}{\\partial y}(\\psi-\\phi)]\\mathrm d x\\\\\n",
    "其中0 \\leq \\theta \\leq 1.$$\n"
   ]
  },
  {
   "cell_type": "markdown",
   "metadata": {},
   "source": [
    "由于$\\frac {\\partial f}{\\partial y}及\\phi和\\psi的连续性，有$$\\frac{\\partial f(x,\\phi+\\theta(\\psi-\\phi))}{\\partial y}=\\frac{\\partial f(x,\\psi)}{\\partial y}+r$$\n",
    "$\n",
    "\n",
    "\n",
    "\n",
    "$其中r有性质：∆y_0→0时r→0,∆y_0=0时r=0.$\n",
    "即对∆y_0≠0有$$\\frac {\\psi-\\phi}{∆y_0}=1+\\int\\limits_{x_0}^x[\\frac{\\partial f(x,\\psi)}{\\partial y}+r]\\frac{\\psi-\\phi}{∆y_0}\\mathrm d x$$\n",
    "\n",
    "即$z=\\frac {\\psi-\\phi}{∆y_0}是微分方程初值问题\n",
    "$$\n",
    "\\begin {cases}\n",
    "\\frac{\\mathrm d z}{\\mathrm dx}=[\\frac{\\partial f(x,\\psi)}{\\partial y}+r]z\\\\\n",
    "z(x_0)=1\\\\\n",
    "\\end {cases}\n",
    "$$的解，$\n",
    "\n",
    "\n",
    "即$$\\frac {\\psi-\\phi}{∆y_0}=z=exp{\\frac{\\partial f(x,\\psi)}{\\partial y}+r\\mathrm d x}$$\n",
    "于是$$\\frac{\\partial \\phi}{\\partial y_0}=\\lim_{∆y_0 \\to\\ 0}\\frac {\\psi-\\phi}{∆y_0}=exp{\\frac{\\partial f(x,\\psi)}{\\partial y}\\mathrm d x}$$\n",
    "它是x,x_0,y_0的连续函数。"
   ]
  },
  {
   "cell_type": "markdown",
   "metadata": {},
   "source": [
    "$2.假设函数P(x)和Q(x)于区间[\\alpha,\\beta]上连续，y=\\phi(x,x_0,y_0)$是方程$$ \\frac {\\mathrm  y}{\\mathrm x}=P(x)y+Q(x)$$的解，$\\phi(x,x_0,y_0)=y_0.\\quad 试求\\frac{\\partial \\phi}{\\partial x_0},\\frac{\\partial \\phi}{\\partial y_0},及\\frac{\\partial \\phi}{\\partial x},并从解的表达式出发，利用对参数求导数的方法，检验所得成果。$"
   ]
  },
  {
   "cell_type": "markdown",
   "metadata": {},
   "source": [
    "解：$由f(x,y)=P(x)y+Q(x)及有关公式，可得$$\\frac{\\partial \\phi}{\\partial x_0}=-f(x_0,y_0)exp[\\int \\limits_{x_0}^x\\frac{\\partial f(x,\\phi)}{\\partial y}\\mathrm d x]\\\\=-[P(x_0)y_0+Q(x_0)]exp[\\int\\limits_{x_0}^xf(x)\\mathrm d x]$$\n",
    "$"
   ]
  },
  {
   "cell_type": "markdown",
   "metadata": {},
   "source": [
    "$\\frac{\\partial \\phi}{\\partial y_0}=exp[\\int\\limits_{x_0}^x\\frac{\\partial f(x,\\phi)}{\\partial y}\\mathrm x]\\\\\n",
    "=exp[\\int\\limits_{x_0}^xP(x)\\mathrm d x]$\n",
    "\n",
    "\n",
    "\n",
    "$\\frac{\\partial \\phi}{\\partial x}=f(x,\\phi(x,x_0,y_0))=P(x)\\phi(x,x_0,y_0)+Q(x).$"
   ]
  },
  {
   "cell_type": "markdown",
   "metadata": {},
   "source": [
    "因非齐次线性方程有解的表达式$$y=e^{\\int\\ P(x)\\mathrm d x}[\\int\\ Q(x)e^{-\\int\\ P(x)\\mathrm d x}+c]$$\n",
    "于是$$\\phi(x,x_0,y_0)=y_0e^{\\int\\limits_{x_0}^x P(x)\\mathrm d x}+\\int\\limits_{x_0}^xQ9s)e^{\\int\\limits_s^x P(x)\\mathrm d s}\\mathrm d s$$"
   ]
  },
  {
   "cell_type": "markdown",
   "metadata": {},
   "source": [
    "直接对参数求导，此时$$\\frac{\\partial \\phi(x,x_0,y_0)}{\\partial x_0}=-P(x_0)y_0e^{\\int\\limits_{x_0}^x P(x)\\mathrm d x}-Q(x_0)e^{\\int\\limits_{x_0}^x P(x)\\mathrm d x}\\\\=-[P(x_0)y_0+Q(x_0)]e^{\\int\\limits_{x_0}^x P(x)\\mathrm d x},$$\n",
    "\n",
    "\n",
    "\n",
    "\n",
    "$$\\frac{\\partial \\phi(x,x_0,y_0)}{\\partial y_0}=e^{\\int\\limits_{x_0}^x P(x)\\mathrm d x},$$\n",
    "\n",
    "\n",
    "\n",
    "\n",
    "$$\\frac{\\partial \\phi(x,x_0,y_0)}{\\partial x}=P(x)y_0e^{\\int\\limits_{x_0}^x P(x)\\mathrm d x}+Q(x)+\\int\\limits_{x_0}^x P(x)Q(s)]e^{\\int\\limits_s^x P(x)\\mathrm d x}\\mathrm d s\\\\=P(x)[y_0e^{\\int\\limits_{x_0}^x P(x)\\mathrm d x}+\\int\\limits_{x_0}^x Q(s)]e^{\\int\\limits_s^x P(x)\\mathrm d x}\\mathrm d s]+Q(x)\\\\=P(x)\\phi(x,x_0,y_0)+Q(x)$$\n",
    "\n",
    "与直接应用公式相同"
   ]
  },
  {
   "cell_type": "markdown",
   "metadata": {},
   "source": [
    "3，给定方程$$\\frac{\\mathrm y}{\\mathrm d x}=sin \\frac{y}{x}$$，试求$\\frac{\\partial y(x,x_0,y_0)}{\\partial x_0},\\frac{\\partial y(x,x_0,y_0)}{\\partial y_0}在x_0=1,y_0=0时的表达式。$"
   ]
  },
  {
   "cell_type": "markdown",
   "metadata": {},
   "source": [
    "解：由题得，$$\\frac {\\partial y}{\\partial x_0}=-f(x_0,y_0)exp[\\int\\limits_{x_0}^x\\frac {\\partial f(x,y)}{\\partial y}\\mathrm d x]=0$$"
   ]
  },
  {
   "cell_type": "markdown",
   "metadata": {},
   "source": [
    "$$\\frac {\\partial y}{\\partial y_0}=)exp[\\int\\limits_{x_0}^x\\frac {\\partial f(x,y)}{\\partial y}\\mathrm d x]exp(\\int\\limits_{x_0}^x cos \\frac{y}{x}|_{y=0}*\\frac {1}{x}\\mathrm d x)\\\\=exp(ln|x|-ln|x_0|)=|x|。$$"
   ]
  },
  {
   "cell_type": "markdown",
   "metadata": {},
   "source": [
    "4.$设y=\\phi(x,x_0,y_0,\\lambda)是初值问题$$\\frac{\\mathrm d y}{\\mathrm d x}=sin(\\lambda xy),\\phi(x_0,x_0,y_0,\\lambda)=y_0的饱和解，这里\\lambda是参数，求\\frac{\\partial \\phi}{\\partial x_0},\\frac{\\partial \\phi}{\\partial y_0}在（x,0,0,1）处的表达式。$"
   ]
  },
  {
   "cell_type": "markdown",
   "metadata": {},
   "source": [
    "解：由上可得$$\\frac {\\partial y}{\\partial x_0}=-f(x_0,y_0,\\lambda)exp[\\int\\limits_{x_0}^x\\frac {\\partial f(x,\\phi,\\lambda)}{\\partial y}\\mathrm d x]=0$$"
   ]
  },
  {
   "cell_type": "markdown",
   "metadata": {},
   "source": [
    "$$\\frac {\\partial y}{\\partial y_0}=exp[\\int\\limits_{x_0}^x\\frac {\\partial f(x,\\phi,\\lambda)}{\\partial y}\\mathrm d x]\\\\=exp[\\int\\limits_{x_0}^x cos(\\lambda x\\phi)|_{\\phi=0}*\\lambda x \\mathrm d x]\\\\=exp[\\frac {\\lambda}{2}(x^2-x_0^2)]\\\\=exp(\\frac{x^2}{2})$$"
   ]
  },
  {
   "cell_type": "markdown",
   "metadata": {},
   "source": [
    " # <font color='red'>A  20/10"
   ]
  },
  {
   "cell_type": "code",
   "execution_count": null,
   "metadata": {
    "collapsed": true
   },
   "outputs": [],
   "source": []
  }
 ],
 "metadata": {
  "kernelspec": {
   "display_name": "SageMath 7.3",
   "language": "",
   "name": "sagemath"
  },
  "language_info": {
   "codemirror_mode": {
    "name": "ipython",
    "version": 2
   },
   "file_extension": ".py",
   "mimetype": "text/x-python",
   "name": "python",
   "nbconvert_exporter": "python",
   "pygments_lexer": "ipython2",
   "version": "2.7.10"
  }
 },
 "nbformat": 4,
 "nbformat_minor": 0
}
