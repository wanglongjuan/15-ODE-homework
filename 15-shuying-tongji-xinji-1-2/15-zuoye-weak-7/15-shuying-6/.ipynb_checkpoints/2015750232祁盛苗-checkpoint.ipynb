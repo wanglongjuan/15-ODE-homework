{
 "cells": [
  {
   "cell_type": "markdown",
   "metadata": {},
   "source": [
    "**P102 1、假设函数f(x,y)及$\\frac{\\partial f}{\\partial y}$都在区域G内连续，又$y=φ(x,x_0,y_0)$是方程（3.1）满足初值条件$y_0=φ(x_0,x_0,y_0)$的解，试$\\frac{\\partial φ}{\\partial y_0}$证存在且连续，并写出其表达式。**"
   ]
  },
  {
   "cell_type": "markdown",
   "metadata": {},
   "source": [
    "**解：**\n",
    "\n",
    "设由初值$（x_0,y_0）$和$（x_0,y_0+∆y_0）(|∆y_0|\\leq\\alpha，α为足够小的正数，$所确定的方程分别为$$y=\\phi(x,x_0,y_0)=\\phi,$$$$y=\\psi（x_0,y_0+∆y_0）=\\psi$$\n",
    "\n",
    "即$$\\phi=y_0+\\int_{x_0}^{x} f(x,\\phi)dx ,\\psi=y_0+∆y_0+\\int_{x_0}^{x} f(x,\\psi)dx$$\n",
    "\n",
    "于是$$\\psi-\\phi=∆y_0+\\int_{x_0}^{x} (f(x,\\phi)-f(x,\\psi))dx=∆y_0+\\int_{x_0}^{x} \\frac{\\partial(f(x,\\phi+\\theta(\\psi-\\phi))}{\\partial y}(\\psi-\\phi)dx$$ \n",
    "\n",
    "∵$\\frac{\\partial{f}}{\\partial{y}}及\\phi,\\psi$连续\n",
    "\n",
    "∴$$\\frac{\\partial(f(x,\\phi+\\theta(\\psi-\\phi))}{\\partial y}=\\frac{\\partial f(x,\\phi)}{\\partial y}+r_1$$  \n",
    "\n",
    "这里$r_1$具有性质：当$∆y_0\\rightarrow 0$时，$r_1\\rightarrow 0$且当$∆y_0=0时，r_1=0$,因此对$∆y_0\\neq 0$,有\n",
    "$$\\frac{\\psi-\\phi}{∆y_0}=1+\\int_{x_0}^{x} (\\frac{\\partial(f(x,\\phi)}{\\partial y}+r_1)\\frac{\\psi-\\phi}{∆y_0}dx$$即$$z=\\frac{\\psi-\\phi}{∆y_0}$$是初值问题\n",
    "$$\n",
    "\\begin{cases}\n",
    "\\frac{dz}{dy}=[\\frac{\\partial(f(x,\\phi)}{\\partial y}+r_1]z\\\\\n",
    "z(x_0)=1=z_0\\\\\n",
    "\\end{cases}\n",
    "$$的解，在这里$∆y_0\\neq 0$，显然当$∆y_0=0$时,上述初值问题仍然有解。根据解对初值和参数的连续性定理可知$\\frac{\\psi-\\phi}{∆y_0}$是$x,x_0,z_0,∆y_0$的连续函数，从而存在$$\\lim_{∆y_0\\rightarrow 0}=\\frac{\\partial{\\phi}}{\\partial{y_0}}$$即$\\frac{\\partial{\\phi}}{\\partial{y_0}}$是初值问题\n",
    "$$\n",
    "\\begin{cases}\n",
    "\\frac{dz}{dy}=\\frac{\\partial(f(x,\\phi)}{\\partial y}z\\\\\n",
    "z(x_0)=1\\\\\n",
    "\\end{cases}\n",
    "$$的解，且$$\\frac{\\partial{\\phi}}{\\partial{y_0}}=exp\\int_{x_0}^{x} \\frac{\\partial(f(x,\\phi)}{\\partial y}dx$$它显然是$x,x_0,y_0$的连续函数"
   ]
  },
  {
   "cell_type": "markdown",
   "metadata": {},
   "source": [
    "** 2、假设函数$P(x)和Q(x)于区间[α,β]$上连续，$y=φ(x,x_0,y_0)$是方程$$\\frac{dy}{dx}=P(x)y+Q(x)$$的解。试求$\\frac{\\partial φ}{\\partial x_0},$$\\frac{\\partial φ}{\\partial y_0},$及$\\frac{\\partial φ}{\\partial x}，$并从$y_0=φ(x,x_0,y_0)$解的表达式出发，利用参数求导数的方法，检验所得的结果。**"
   ]
  },
  {
   "cell_type": "markdown",
   "metadata": {},
   "source": [
    "**解：**\n",
    "\n",
    "∵有$$\\begin{aligned}\n",
    "\\frac{\\partial{\\phi}}{\\partial{x_0}}&=-f(x_0,y_0)exp(\\int_{x_0}^{x} \\frac{\\partial(f(x,\\phi)}{\\partial y}dx)\\\\\n",
    "&=-(P(x_0)y_0+Q(x_0))exp(\\int_{x_0}^{x} P(x)dx)\\\\\n",
    "\\frac{\\partial{\\phi}}{\\partial{y_0}}&=exp(\\int_{x_0}^{x} \\frac{\\partial(f(x,\\phi)}{\\partial y}dx)\\\\\n",
    "&=exp(\\int_{x_0}^{x} P(x)dx)\\\\\n",
    "\\end{aligned}\n",
    "$$\n",
    "\n",
    "$$\\frac{\\partial{\\phi}}{\\partial{x}}=f(x,\\phi(x,x_0,y_0))=P(x)\\phi(x,x_0,y_0)+Q(x)$$\n",
    "又∵\n",
    "$\\frac{dy}{dx}=P(x)y+Q(x)$的通解为$$y=e^{\\int P（x）dx}(Q(x).e^{-\\int P（x）dx}dx+c)$$\n",
    "$\\frac{dy}{dx}=P(x)y+Q(x)$的初始条件$y(x_0)=x_0$的特解可以写成$$y=\\phi(x,x_0,y_0)=e^{\\int_{x_0}^{x} P(s)ds}(\\int_{x_0}^{x}Q(t).e^{\\int_{x_0}^{t} -P(s)ds}.dt+y_0)$$\n",
    "\n",
    "∴对参数求导可得\n",
    "$$\\frac{\\partial{\\phi}}{\\partial{x_0}}=e^{\\int_{x_0}^{x} P(s)ds}.(-P（x_0）)(\\int_{x_0}^{x}Q(t).e^{\\int_{x_0}^{t} -P(s)ds}.dt+y_0)+e^{\\int_{x_0}^{x} P(s)ds}[-Q(x_0)e^{\\int_{x_0}^{x} -P(s)ds}+(\\int_{x_0}^{x}Q(t).e^{\\int_{x_0}^{t} -P(s)ds}.dt).P(x_0)]\\\\=-(P(x_0)y_0+Q(x_0))e^{\\int_{x_0}^{x} P(s)ds}$$\n",
    "$$\\frac{\\partial \\phi(x,x_0,y_0)}{\\partial y_0}=e^{\\int\\limits_{x_0}^x P(x)\\mathrm d x},$$\n",
    "$$\\frac{\\partial \\phi(x,x_0,y_0)}{\\partial x}=P(x)y_0e^{\\int\\limits_{x_0}^x P(x)\\mathrm d x}+Q(x)+\\int\\limits_{x_0}^x P(x)Q(s)]e^{\\int\\limits_s^x P(x)\\mathrm d x}\\mathrm d s\\\\=P(x)[y_0e^{\\int\\limits_{x_0}^x P(x)\\mathrm d x}+\\int\\limits_{x_0}^x Q(s)]e^{\\int\\limits_s^x P(x)\\mathrm d x}\\mathrm d s]+Q(x)\\\\=P(x)\\phi(x,x_0,y_0)+Q(x)$$\n",
    "\n",
    "与前面的结论一致。\n"
   ]
  },
  {
   "cell_type": "markdown",
   "metadata": {},
   "source": [
    "**3、给定方程$$\\frac{dy}{dx}=sin(\\frac{y}{x}),$$试求$\\frac{\\partial y(x,x_0,y_0)}{\\partial x_0},$$\\frac{\\partial y(x,x_0,y_0)}{\\partial y_0},$在$x_0=1,y_0=0$时的表达式。**"
   ]
  },
  {
   "cell_type": "markdown",
   "metadata": {},
   "source": [
    "**解：**\n",
    "设$f(x,y)=sin(\\frac{y}{x} )$则有\n",
    "$$\n",
    "\\begin{aligned}\n",
    "\\frac{\\partial y(x,x_0,y_0)}{\\partial x_0}&=-f(x_0,y_0)exp(\\int_{x_0}^{x} \\frac{\\partial(f(x,\\phi)}{\\partial y}dx)\\\\\n",
    "&=-sin(\\frac{y_0}{x_0} )exp(\\int_{x_0}^{x}\\frac{1}{x}cos{\\frac{y}{x} }dx)\\\\\n",
    "\\frac{\\partial y(x,x_0,y_0)}{\\partial y_0}&=exp(\\int_{x_0}^{x} \\frac{\\partial f(x,\\phi)}{\\partial y}dx\\\\\n",
    "&=exp(\\int_{x_0}^{x}\\frac{1}{x}cos{\\frac{y}{x} } dx)\\\\\n",
    "\\end{aligned}\n",
    "$$\n",
    "\n",
    "\n",
    "当$x_0=1,y_0=0$时，得\n",
    "\n",
    "$$\\frac{\\partial y(x,x_0,y_0)}{\\partial x_0}|_{x_0=1,y_0=0}=0$$\n",
    "\n",
    "$$\\frac{\\partial y(x,x_0,y_0)}{\\partial y_0}|_{x_0=1,y_0=0}=exp(\\int_{1}^{x}\\frac{1}{x}dx)=|x|.$$\n",
    "\n",
    "所以，在$x_0=1,y_0=0$时，$$\\frac{\\partial y}{\\partial x_0}=0,\\frac{\\partial y}{\\partial y_0}=|x|$$\n"
   ]
  },
  {
   "cell_type": "markdown",
   "metadata": {
    "collapsed": true
   },
   "source": [
    "**4、设$y=φ(x,x_0,y_0,λ)$是初值问题$$\\frac{dy}{dx}=sin(λxy),y_0=φ(x_0,x_0,y_0,λ)$$的饱和解，这里λ是参数，求$\\frac{\\partial φ}{\\partial x_0},\\frac{\\partial φ}{\\partial y_0}在（x,0,0,1）$处的表达式。**"
   ]
  },
  {
   "cell_type": "markdown",
   "metadata": {},
   "source": [
    "**解：**\n",
    "$$\n",
    "\\begin{aligned}\n",
    "\\frac{\\partial \\phi}{\\partial x_0}&=-f(x_0,y_0)exp(\\int_{x_0}^{x} \\frac{\\partial (f(x,\\phi)}{\\partial y}dx)\\\\\n",
    "&=-sin(\\lambda{x_0y_0})exp(\\int_{x_0}^{x} {\\lambda}{xcos({\\lambda}{x\\phi}}dx)\\\\\n",
    "\\frac{\\partial \\phi}{\\partial y_0}&=exp(\\int_{x_0}^{x} \\frac{\\partial f(x,\\phi)}{\\partial y}dx)\\\\\n",
    "&=exp(\\int_{x_0}^{x} {\\lambda}{xcos({\\lambda}{x{\\phi}}}dx)\\\\\n",
    "\\end{aligned}\n",
    "$$\n",
    "\n",
    "\n",
    "当$x_0=0,y_0=0,\\lambda=1$时,则有\n",
    "\n",
    "$$\\frac{\\partial \\phi}{\\partial x_0}|_{(x,0,0,1)}=0，$$\n",
    "\n",
    "$$\\frac{\\partial \\phi}{\\partial y_0}|_{(x,0,0,1)}=exp(\\int_{x}^{0} xcos{0}dx)=exp(\\frac{x^2}{2})$$"
   ]
  },
  {
   "cell_type": "markdown",
   "metadata": {
    "collapsed": true
   },
   "source": [
    " # <font color='red'>A  20/10"
   ]
  },
  {
   "cell_type": "code",
   "execution_count": null,
   "metadata": {
    "collapsed": true
   },
   "outputs": [],
   "source": []
  }
 ],
 "metadata": {
  "kernelspec": {
   "display_name": "SageMath 7.3",
   "language": "",
   "name": "sagemath"
  },
  "language_info": {
   "codemirror_mode": {
    "name": "ipython",
    "version": 2
   },
   "file_extension": ".py",
   "mimetype": "text/x-python",
   "name": "python",
   "nbconvert_exporter": "python",
   "pygments_lexer": "ipython2",
   "version": "2.7.10"
  }
 },
 "nbformat": 4,
 "nbformat_minor": 0
}
