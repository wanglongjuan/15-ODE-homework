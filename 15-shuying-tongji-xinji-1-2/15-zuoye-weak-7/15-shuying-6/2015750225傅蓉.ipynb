{
 "cells": [
  {
   "cell_type": "markdown",
   "metadata": {},
   "source": [
    "## P102 1、假设函数f(x,y)及$ \\frac{\\partial f}{\\partial y}$都在区域G内连续，又$y=\\varphi(x,x_0,y_0)$是方程（3.1)满足初值条件$\\varphi(x_0,x_0,y_0)=y_0$的解，试证$\\frac{\\partial \\varphi}{\\partial y_0}$存在且连续，并写出其表达式。"
   ]
  },
  {
   "cell_type": "markdown",
   "metadata": {},
   "source": [
    "**证明：设由初值$(x_0,y_0)和(x_0,y_0+\\Delta y_0)(|\\Delta y_0| \\leq \\alpha ,\\alpha为足够小正数)$所确定的方程的解分别为**"
   ]
  },
  {
   "cell_type": "markdown",
   "metadata": {},
   "source": [
    "$y=\\varphi(x,x_0,y_0)=\\varphi 和 y=\\varphi(x,x_0,y_0+\\Delta y_0)=\\psi$"
   ]
  },
  {
   "cell_type": "markdown",
   "metadata": {},
   "source": [
    "**即得**\n",
    "\n",
    "$\\varphi=y_0+\\int_{x_0}^{x} \\ f(x,\\varphi)\\,\\mathrm d x$\n",
    "\n",
    "$\\psi=y_0+\\Delta y_0+\\int_{x_0}^{x} \\ f(x,\\psi)\\,\\mathrm d x$"
   ]
  },
  {
   "cell_type": "markdown",
   "metadata": {},
   "source": [
    "**于是**\n",
    "\n",
    "$\\psi -\\varphi=\\Delta y_0 +\\int_{x_0}^{x}\\ f(x,\\psi)\\,\\mathrm d x -\\int_{x_0}^{x}\\ f(x,\\varphi)\\,\\mathrm d x\n",
    "              =\\Delta y_0 +\\int_{x_0}^{x}\\  \\frac{\\partial f(x,\\varphi+\\theta(\\psi -\\varphi)}{\\partial y}(\\psi-\\varphi)\\,\\mathrm d x$"
   ]
  },
  {
   "cell_type": "markdown",
   "metadata": {},
   "source": [
    "**其中$0 <\\theta <1$,注意到$\\frac{\\partial f}{\\partial y}$及$\\varphi 和\\psi$的连续性，我们有**"
   ]
  },
  {
   "cell_type": "markdown",
   "metadata": {},
   "source": [
    "$\\frac{\\partial f(x,\\varphi+\\theta(\\psi -\\varphi)}{\\partial y}=\\frac{\\partial f(x,\\varphi)}{\\partial y}+r_1$"
   ]
  },
  {
   "cell_type": "markdown",
   "metadata": {},
   "source": [
    "**这里$r_1$具有性质：当$\\Delta y_0 \\to 0$时，$r_1 \\to 0$.且当$\\Delta y_0=0$时，$r_1=0$**"
   ]
  },
  {
   "cell_type": "markdown",
   "metadata": {},
   "source": [
    "**类似的有，**\n",
    "\n",
    "$\\frac{\\Delta y_0}{\\Delta y_0}=1+r_2$"
   ]
  },
  {
   "cell_type": "markdown",
   "metadata": {},
   "source": [
    "**其中$r_1与r_2$具有相同的性质，因此对$\\Delta x_0 \\neq 0$有**"
   ]
  },
  {
   "cell_type": "markdown",
   "metadata": {},
   "source": [
    "$\\frac{\\psi -\\varphi}{\\Delta y_0}=[1+r_2]+\\int_{x_0}^{x}\\ [\\frac{\\partial f(x,\\varphi)}{\\partial y}+r_1] \\frac{\\psi-\\varphi}{\\Delta y_0}\\,\\mathrm d x $"
   ]
  },
  {
   "cell_type": "markdown",
   "metadata": {},
   "source": [
    "**即$z=\\frac{\\psi -\\varphi}{\\Delta y_0}$是初值问题：**\n",
    "\n",
    "$\n",
    "\\begin{cases}\n",
    "\\frac{\\mathrm d z}{\\mathrm d x}=[\\frac{\\partial f(x,\\varphi)}{\\partial y}+r_1]z \\\\\n",
    "z(x_0)=1+r_2=z_0\n",
    "\\end{cases}\n",
    "$"
   ]
  },
  {
   "cell_type": "markdown",
   "metadata": {},
   "source": [
    "**的解，其中$\\Delta x_0 \\neq 0$为参数。**\n",
    "\n",
    "**显然，当$\\Delta x_0 =0$时，上述初值问题仍然有解。根据解对初值和参数的连续性定理，知$\\frac{\\psi -\\varphi}{\\Delta y_0}$是$x,x_0,z_0,\\Delta y_0$的连续函数，即存在**"
   ]
  },
  {
   "cell_type": "markdown",
   "metadata": {},
   "source": [
    "$$\\lim_{ \\Delta y_0 \\to 0} \\frac{\\psi -\\varphi}{\\Delta y_0}=\\frac{\\partial \\varphi}{\\partial y_0}$$"
   ]
  },
  {
   "cell_type": "markdown",
   "metadata": {},
   "source": [
    "**而$\\frac{\\partial \\varphi}{\\partial y_0}$是初值问题：**\n",
    "\n",
    "$\n",
    "\\begin{cases}\n",
    "\\frac{\\mathrm d z}{\\mathrm d x}=[\\frac{\\partial f(x,\\varphi)}{\\partial y}]z \\\\\n",
    "z(x_0)=1=z_0\n",
    "\\end{cases}\n",
    "$\n",
    "的解"
   ]
  },
  {
   "cell_type": "markdown",
   "metadata": {},
   "source": [
    "即$\\frac{\\partial \\varphi}{\\partial y_0}= e^{\\int_{x_0}^{x}\\ \\frac{\\partial f(x,\\varphi)}{\\partial y}\\,\\mathrm d x}$"
   ]
  },
  {
   "cell_type": "markdown",
   "metadata": {},
   "source": [
    "**可知其为$x_0,x,y_0$的连续函数**\n",
    "\n",
    "**得证**"
   ]
  },
  {
   "cell_type": "markdown",
   "metadata": {},
   "source": [
    "## 2、假设函数P(x)和Q(x)于区间[$\\alpha,\\beta$]上连续，$y=\\varphi(x,x_0,y_0)$是方程: $\\frac{\\mathrm d y}{\\mathrm d x}=P(x)y+Q(x)$的解，$y_0=\\varphi(x_0,x_0,y_0).$试求$\\frac{\\partial \\varphi}{\\partial x_0},\\frac{\\partial \\varphi}{\\partial y_0}及\\frac{\\partial \\varphi}{\\partial x}，$并从解的表达式出发，利用对参数求导数的方法，检验所得结果。"
   ]
  },
  {
   "cell_type": "markdown",
   "metadata": {},
   "source": [
    "**解：其中$f(x,y)=P(x)y+Q(x),\\frac{\\partial f}{\\partial y}=P(x)$初解为$y_0=\\varphi(x_0,x_0,y_0),$则由解对初值的连续可微性定理可知道，**"
   ]
  },
  {
   "cell_type": "markdown",
   "metadata": {},
   "source": [
    "$\\frac{\\partial \\varphi}{\\partial x_0}=-f(x_0,y_0) e^{\\int_{x_0}^{x}\\ \\frac{\\partial f(x,\\varphi)}{\\partial y}\\,\\mathrm d x}=-(P(x_0)y_0+Q(x_0))e^{\\int_{x_0}^{x}\\ P(x)\\,\\mathrm d x}$"
   ]
  },
  {
   "cell_type": "markdown",
   "metadata": {},
   "source": [
    "$\\frac{\\partial \\varphi}{\\partial y_0}=e^{\\int_{x_0}^{x}\\ \\frac{\\partial f(x,\\varphi)}{\\partial y}\\,\\mathrm d x}=e^{\\int_{x_0}^{x}\\ P(x)\\,\\mathrm d x}$"
   ]
  },
  {
   "cell_type": "markdown",
   "metadata": {},
   "source": [
    "$\\frac{\\partial \\varphi}{\\partial x}=f(x,\\varphi(x,x_0,y_0))=P(x)\\varphi(x,x_0,y_0)+Q(x)$"
   ]
  },
  {
   "cell_type": "markdown",
   "metadata": {},
   "source": [
    "**又可知方程的同解为**\n",
    "\n",
    "$y=e^{\\int\\ P(x)\\,\\mathrm d x}(\\int\\ Q(x) e^{ - \\int\\ P(x) \\,\\mathrm d x}+c)$"
   ]
  },
  {
   "cell_type": "markdown",
   "metadata": {},
   "source": [
    "**而方程$\\frac{\\mathrm d y}{\\mathrm d x}=P(x)y+Q(x)$的具有初始条件$y(x_0)=y_0$的特解可以写成：**"
   ]
  },
  {
   "cell_type": "markdown",
   "metadata": {},
   "source": [
    "$y=\\varphi(x,x_0,y_0)=e^{\\int_{x_0}^{x}\\ P(s)\\,\\mathrm d s}(\\int_{x_0}^{x}\\ Q(t) e^{ - \\int_{x_0}^{x}\\ P(s) \\,\\mathrm d s}+y_0)$"
   ]
  },
  {
   "cell_type": "markdown",
   "metadata": {},
   "source": [
    "**利用对参数求导数的方法，得**"
   ]
  },
  {
   "cell_type": "markdown",
   "metadata": {},
   "source": [
    "$\\frac{\\partial \\varphi}{\\partial x_0}=e^{ \\int_{x_0}^{x}\\ P(s)\\,\\mathrm d s}(-P(x_0))(\\int_{x_0}^{x}\\ Q(t) e^{\\int_{x_0}^{x}\\ -P(s)\\,\\mathrm d s} \\,\\mathrm d t +y_0)+e^{\\int_{x_0}^{x}\\ P(s) \\,\\mathrm d s} [ -Q(x_0) e^{\\int_{x_0}^{x}\\ -P(s)\\,\\mathrm d s +(\\int_{x_0}^{x}\\ Q(t) e^{\\int_{x_0}^{x}\\ -P(s)}\\,\\mathrm d s)\\,\\mathrm d t})p(x_0)]=-(P(x_0)y_0+Q(x_0)) e^{\\int_{x_0}^{x}\\ P(s) \\,\\mathrm d s} $"
   ]
  },
  {
   "cell_type": "markdown",
   "metadata": {},
   "source": [
    "$\\frac{\\partial \\varphi}{\\partial y_0}=e^{\\int_{x_0}^{x}\\ P(s)\\,\\mathrm d s}$"
   ]
  },
  {
   "cell_type": "markdown",
   "metadata": {},
   "source": [
    "$\\frac{\\partial \\varphi}{\\partial x}=e^{\\int_{x_0}^{x} \\ P(s)\\,\\mathrm d s} P(x) (\\int_{x_0}^{x}\\ Q(t) e^{\\int_{x_0}^{x}\\ -P(s) \\,\\mathrm d s}\\,\\mathrm d t +y_0)+e^{\\int_{x_0}^{x}\\ P(s)\\,\\mathrm d s} e^{\\int_{x_0}^{x} \\ -P(s) \\,\\mathrm d s}=P(x)\\varphi +Q(x)$"
   ]
  },
  {
   "cell_type": "markdown",
   "metadata": {},
   "source": [
    "**即与前面求解是一致的**"
   ]
  },
  {
   "cell_type": "markdown",
   "metadata": {},
   "source": [
    "## 3、给定方程:$\\frac{\\mathrm d y}{\\mathrm d x}=\\sin (\\frac{y}{x}),$试求$\\frac{\\partial y(x,x_0,y_0)}{\\partial x_0},\\frac{\\partial y(x,x_0,y_0)}{\\partial y_0}$在$x_0=1,y_0=0$时的表达式。"
   ]
  },
  {
   "cell_type": "markdown",
   "metadata": {},
   "source": [
    "**由题目可知**\n",
    "\n",
    "$f(x,y)=\\sin (\\frac{y}{x}) ,\\frac{\\partial f}{\\partial y}=\\cos (\\frac{y}{x}) \\frac{1}{x}$"
   ]
  },
  {
   "cell_type": "markdown",
   "metadata": {},
   "source": [
    "**即由解对初值的连续可微性定理**"
   ]
  },
  {
   "cell_type": "markdown",
   "metadata": {},
   "source": [
    "**即$\\frac{\\partial y(x,x_0,y_0)}{\\partial x_0}=-f(x_0,y_0)e^{\\int_{x_0}^{x}\\ \\frac{1}{x} \\cos (\\frac{y}{x})\\,\\mathrm d x} =- \\sin (\\frac{y_0}{x_0})e^{\\int_{x_0}^{x}\\ \\frac{1}{x} \\cos(\\frac{y}{x}) \\,\\mathrm d x}$**"
   ]
  },
  {
   "cell_type": "markdown",
   "metadata": {},
   "source": [
    "$\\frac{\\partial y(x,x_0,y_0)}{\\partial y_0}=e^{\\int_{x_0}^{x}\\ \\frac{1}{x} \\cos(\\frac{y}{x}) \\,\\mathrm d x}$"
   ]
  },
  {
   "cell_type": "markdown",
   "metadata": {},
   "source": [
    "**则当$x_0=1,y_0=0$时**"
   ]
  },
  {
   "cell_type": "markdown",
   "metadata": {},
   "source": [
    "$\\frac{\\partial y(x,x_0,y_0)}{\\partial x_0}=0$"
   ]
  },
  {
   "cell_type": "markdown",
   "metadata": {},
   "source": [
    "$\\frac{\\partial y(x,x_0,y_0)}{\\partial y_0}=|x|$"
   ]
  },
  {
   "cell_type": "markdown",
   "metadata": {},
   "source": [
    "## 4、设$y=\\varphi(x,x_0,y_0,\\lambda)$是初值问题$\\frac{\\mathrm d y}{\\mathrm d x}=\\sin(\\lambda xy),\\varphi(x_0,x_0,y_0,\\lambda)=y_0$的饱和解，这里$\\lambda$是参数，求$\\frac{\\partial \\varphi}{\\partial x_0},\\frac{\\partial \\varphi}{\\partial y_0}$在$(x,0,0,1)$处的表达式。"
   ]
  },
  {
   "cell_type": "markdown",
   "metadata": {},
   "source": [
    "**解**\n",
    "\n",
    "\n",
    "**由题目可知，$f(x,y)=\\sin (\\lambda xy) ,\\frac{\\partial f}{\\partial y}=\\lambda x \\cos (\\lambda xy)$**"
   ]
  },
  {
   "cell_type": "markdown",
   "metadata": {},
   "source": [
    "**即可求得：**\n",
    "\n",
    "$\\frac{\\partial \\varphi}{\\partial x_0}=-f(x_0,y_0) e^{\\int_{x_0}^{x}\\ \\lambda x \\cos (\\lambda xy)\\,\\mathrm d x} =- \\sin (\\lambda x_0 y_0)e^{\\int_{x_0}^{x}\\ \\lambda x \\cos (\\lambda xy)\\,\\mathrm d x}$"
   ]
  },
  {
   "cell_type": "markdown",
   "metadata": {},
   "source": [
    "$\\frac{\\partial \\varphi}{\\partial y_0}=e^{\\int_{x_0}^{x}\\ \\lambda x \\cos (\\lambda xy)\\,\\mathrm d x}$"
   ]
  },
  {
   "cell_type": "markdown",
   "metadata": {},
   "source": [
    "**当$x_0=0,y_0=0,\\lambda =1$时，**"
   ]
  },
  {
   "cell_type": "markdown",
   "metadata": {},
   "source": [
    "$\\frac{\\partial \\varphi}{\\partial x_0}=0$\n",
    "\n",
    "$\\frac{\\partial \\varphi}{\\partial y_0}=e^{\\frac{x^2}{2}}$\n",
    "\n",
    "**即可得到结果**"
   ]
  },
  {
   "cell_type": "markdown",
   "metadata": {
    "collapsed": true
   },
   "source": [
    " # <font color='red'>A  20/10"
   ]
  },
  {
   "cell_type": "code",
   "execution_count": null,
   "metadata": {
    "collapsed": true
   },
   "outputs": [],
   "source": []
  }
 ],
 "metadata": {
  "kernelspec": {
   "display_name": "SageMath 7.3",
   "language": "",
   "name": "sagemath"
  },
  "language_info": {
   "codemirror_mode": {
    "name": "ipython",
    "version": 2
   },
   "file_extension": ".py",
   "mimetype": "text/x-python",
   "name": "python",
   "nbconvert_exporter": "python",
   "pygments_lexer": "ipython2",
   "version": "2.7.10"
  }
 },
 "nbformat": 4,
 "nbformat_minor": 0
}
