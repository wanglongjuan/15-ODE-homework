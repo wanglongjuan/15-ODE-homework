{
 "cells": [
  {
   "cell_type": "markdown",
   "metadata": {},
   "source": [
    "1.假设函数$f(x,y)$及$\\frac{\\partial f}{\\partial y}$都在区域G内连续，又$y=\\phi(x,x_0,y_0)$是方程（3.1）满足初值条件$\\phi y_0$的解，试证$\\frac{\\partial \\phi}{\\partial y_0}$存在且连续，并写出其表达式."
   ]
  },
  {
   "cell_type": "markdown",
   "metadata": {},
   "source": [
    "证明 设由初值$(x_0,y_0)$和$(x_0, y_0+\\Delta y_0)$($|\\Delta y_0|\\leq \\alpha,\\alpha$是足够小整数）所确定的方程的解分别为$$y=\\phi(x,x_0,y_0)=\\phi和y=\\phi(x,x_0,y_0+\\Delta y_0)=\\psi$$\n",
    "     即$$\\phi=x_0+\\int_{y_0}^y\\mathrm f(x,\\phi)\\,\\mathrm {d}x和\\psi=x_0+\\int_{y_0+\\Delta y_0}^y\\mathrm f(x,\\psi)\\,\\mathrm {d}x$$\n",
    "     于是$$\n",
    "         \\begin{aligned}\n",
    "         \\psi-\\phi&=\\int_{y_0+\\Delta y_0}^y\\mathrm f(x,\\psi)\\,\\mathrm {d}x-\\int_{y_0}^y\\mathrm f(x,\\phi)\\,\\mathrm {d}x\\\\\n",
    "         &=-\\int_{y_0}^{y+\\Delta y_0}\\mathrm f(x,\\psi)\\,\\mathrm {d}x+\\int_{y_0}^y\\mathrm {\\frac{\\partial f(x,\\phi+\\theta(\\psi-\\phi))}{\\partial y} (\\psi-\\phi)}\\,\\mathrm {d}x\\\\\n",
    "         \\end{aligned}\n",
    "         $$\n",
    "     其中$0\\leq \\theta\\leq 1.$\n",
    "     由$\\frac{\\partial f}{\\partial y}及\\phi,\\psi$的连续性有$$\\frac{\\partial f(x,\\phi+\\theta(\\psi-\\phi))}{\\partial y}=\\frac{\\partial f(x,\\phi)}{\\partial y}+r_1$$\n",
    "     (当$\\Delta y_0\\to0$时$r_1\\to0$,且当$\\Delta y_0=0$时$r_1=0$）\n",
    "     类似地有$$-\\frac{1}{\\Delta y_0}\\int_{y_0}^{y+\\Delta y_0}\\mathrm f(x,\\psi)\\,\\mathrm {d}x=-f(x_0,y_0)+r_2$$\n",
    "     ($r_2$与$r_1$具有相同性质）\n",
    "     因此对$\\Delta y_0\\neq 0$有$$\\frac{\\psi-\\phi}{\\Delta y_0}=[-f(x_0,y_0)+r_2]+\\int_{y_0}^y\\mathrm {[\\frac{\\partial f(x,\\phi)}{\\partial y}+r_1]\\frac{\\psi-\\phi}{\\Delta y_0}}\\,\\mathrm {d}x$$\n",
    "     即$$z=\\frac{\\psi-\\phi}{\\Delta y_0}$$是初值问题\n",
    "     $$\n",
    "     \\begin{cases}\n",
    "     \\frac{dz}{dx}=[\\frac{\\partial f(x,\\phi)}{\\partial y}+r_1]z\\\\\n",
    "     z(y_0)==-f(x_0,y_0)+r_2=z_0\\\\\n",
    "     \\end{cases}\n",
    "     $$\n",
    "     的解,这里$\\Delta y_0\\neq 0$被看作参数。\n",
    "     显然，当$\\Delta y_0=0$时上述初值问题仍有解。\n",
    "     根据解对初值和参数的连续性定理，知$\\frac{\\psi-\\phi}{\\Delta y_0}$是$x,x_0,z_0,\\Delta y_0$的连续函数，从而存在$$\n",
    "      \\lim_{\\Delta y_0\\to0}{\\frac{\\psi-\\phi}{\\Delta y_0}}≡\\frac{\\partial \\phi}{\\partial x_0}\n",
    "      $$\n",
    "      而$\\frac{\\partial \\phi}{\\partial x_0}$是初值问题\n",
    "      $$\n",
    "     \\begin{cases}\n",
    "     \\frac{dz}{dx}=\\frac{\\partial f(x,\\phi)}{\\partial y}z\\\\\n",
    "     z(y_0)==-f(x_0,y_0)\\\\\n",
    "     \\end{cases}\n",
    "     $$\n",
    "     的解，不难求得$$\\frac{\\partial \\phi}{\\partial x_0}=-f(x_0,y_0))exp(\\int_{x_0}^x\\mathrm {\\frac{\\partial f(x,\\phi)}{\\partial y}}\\,\\mathrm {d}x)$$\n",
    "     \n",
    "     \n",
    "      \n",
    "      \n",
    "      \n",
    "     \n",
    "     \n",
    "     \n",
    "     \n",
    "\n"
   ]
  },
  {
   "cell_type": "markdown",
   "metadata": {},
   "source": [
    "2.假设函数$P(x)$和$Q(x)$于区间$[\\alpha,\\beta]$上连续，$y=\\phi(x,x_0,y_0)$是$$\\frac{dy}{dx}=P(x)+Q(x)$$的解，$y_0=\\phi(x_0,x_0,y_0)$.试求$\\frac{\\partial \\phi}{\\partial x_0},\\frac{\\partial \\phi}{\\partial y_0}$及$\\frac{\\partial \\phi}{\\partial x}$,并从解的表达式出发，利用对参数求导数的方法，检验所得结果."
   ]
  },
  {
   "cell_type": "markdown",
   "metadata": {},
   "source": [
    "解：由题$f(x,y)=P(x)+Q(x),\\frac{\\partial f}{\\partial y}=P(x)$,初值条件为$y_0=\\phi(x_0,x_0,y_0)$.\n",
    "    根据解对初值条件的可微性有$$\n",
    "                            \\begin{aligned}\n",
    "                            \\frac{\\partial \\phi}{\\partial x_0}&=-f(x_0,y_0)exp(\\int_{x_0}^x\\mathrm {\\frac{\\partial f(s,\\phi)}{\\partial y}}\\,\\mathrm {d}x)\\\\\n",
    "                            &=-(P(x_0)y_0+Q(x_0))exp(\\int_{x_0}^x\\mathrm P(x)\\,\\mathrm {d}x)\\\\\n",
    "                            \\frac{\\partial \\phi}{\\partial y_0}&=exp(\\int_{x_0}^x\\mathrm {\\frac{\\partial f(s,\\phi)}{\\partial y}}\\,\\mathrm {d}x)\\\\\n",
    "                            &=exp(\\int_{x_0}^x\\mathrm P(x)\\,\\mathrm {d}x)\\\\\n",
    "                            \\frac{\\partial \\phi}{\\partial x_0}&=f(x,\\phi(x,x_0,y_0))=P(x)\\phi(x,x_0,y_0)+Q(x)\\\\\n",
    "                            \\end{aligned}\n",
    "                            $$\n",
    "  又可知$\\frac{dy}{dx}=P(x)+Q(x)$的通解为$$y=e^{\\int \\mathrm P(x)\\,\\mathrm {d}x}(\\int \\mathrm Q(x)e^{\\int \\mathrm -P(x)\\,\\mathrm {d}x}\\,\\mathrm {d}x+c)$$\n",
    "  而方程具有初值条件$y(x_0)=x_0$的特解可写为$$y=\\phi(x,x_0,y_0)=e^{\\int_{x_0}^x\\mathrm P(s)\\,\\mathrm {d}s}(\\int_{x_0}^x\\mathrm Q(t)e^{\\int_{x_0}^x\\mathrm -P(s)\\,\\mathrm {d}s}\\,\\mathrm {d}t+y_0)$$\n",
    "  利用可得参数导数的方法得$$\n",
    "                         \\begin{aligned}\n",
    "                         \\frac{\\partial \\phi}{\\partial x_0}&=e^{\\int_{x_0}^x\\mathrm P(s)\\,\\mathrm {d}s}(-P(x_0))(\\int_{x_0}^x\\mathrm Q(t)e^{\\int_{x_0}^x\\mathrm -P(s)\\,\\mathrm {d}s}\\,\\mathrm {d}t+y_0)+e^{\\int_{x_0}^x\\mathrm P(s)\\,\\mathrm {d}s}[-Q(x_0)e^{\\int_{x_0}^x\\mathrm -P(s)\\,\\mathrm {d}s}+(\\int_{x_0}^x\\mathrm Q(t)e^{\\int_{x_0}^x\\mathrm -P(s)\\,\\mathrm {d}s}\\,\\mathrm {d}t)P(x_0)]\\\\\n",
    "                         &=-(P(x_0)y_0+Q(x_0))e^{\\int_{x_0}^x\\mathrm P(s)\\,\\mathrm {d}s}\\\\\n",
    "                         \\frac{\\partial \\phi}{\\partial y_0}&=e^{\\int_{x_0}^x\\mathrm P(s)\\,\\mathrm {d}s}\\\\\n",
    "                         \\frac{\\partial \\phi}{\\partial x}&=e^{\\int_{x_0}^x\\mathrm P(s)\\,\\mathrm {d}s}P(x)(\\int_{x_0}^x\\mathrm Q(t)e^{\\int_{x_0}^x\\mathrm -P(s)\\,\\mathrm {d}s}\\,\\mathrm {d}t+y_0)+e^{\\int_{x_0}^x\\mathrm P(s)\\,\\mathrm {d}s}Q(x)e^{\\int_{x_0}^x\\mathrm -P(s)\\,\\mathrm {d}s}\\\\\n",
    "                         &=P(x)\\phi+Q(x)\\\\\n",
    "                         \\end{aligned}\n",
    "                         $$\n",
    "与前面解出的答案一致."
   ]
  },
  {
   "cell_type": "markdown",
   "metadata": {},
   "source": [
    "3.给定方程$$\\frac{dy}{dx}=sin(\\frac{y}{x}),$$试求$\\frac{\\partial y(x,x_0,y_0)}{\\partial x_0},\\frac{\\partial y(x,x_0,y_0)}{\\partial y_0}$在$x_0=1,y_0=0$时的表达式."
   ]
  },
  {
   "cell_type": "markdown",
   "metadata": {},
   "source": [
    "解：设$f(x,y)=sin(\\frac{y}{x})$,则$\\frac{\\partial f}{\\partial y}=\\frac{1}{x}cos(\\frac{y}{x})$.\n",
    "    根据解对初值条件的可微性有$$\n",
    "                            \\begin{aligned}\n",
    "                            \\frac{\\partial y(x,x_0,y_0)}{\\partial x_0}&=-f(x_0,y_0)exp(\\int_{x_0}^x\\mathrm {\\frac{\\partial f(x,\\phi)}{\\partial y}}\\,\\mathrm {d}x)\\\\\n",
    "                            &=-sin(\\frac{y_0}{x_0})exp(\\int_{x_0}^x\\mathrm {\\frac{1}{x}cos(\\frac{y}{x})}\\,\\mathrm {d}x)\\\\\n",
    "                            \\frac{\\partial y(x,x_0,y_0)}{\\partial y_0}&=exp(\\int_{x_0}^x\\mathrm {\\frac{\\partial f(x,\\phi)}{\\partial y}}\\,\\mathrm {d}x)\\\\\n",
    "                            &=exp(\\int_{x_0}^x\\mathrm {\\frac{1}{x}cos(\\frac{y}{x})}\\,\\mathrm {d}x)\\\\\n",
    "                            \\end{aligned}\n",
    "                            $$\n",
    "在$x_0=1,y_0=0$时$$\n",
    "                 \\begin{aligned}\n",
    "                 {\\frac{\\partial y(x,x_0,y_0)}{\\partial x_0}}|_{x_0=1,y_0=0}&=0\\\\\n",
    "                 {\\frac{\\partial y(x,x_0,y_0)}{\\partial y_0}}|_{x_0=1,y_0=0}&=exp(\\int_1^x\\mathrm {\\frac{1}{x}}\\,\\mathrm {d}x)=|x|\\\\\n",
    "                 \\end{aligned}\n",
    "                 $$"
   ]
  },
  {
   "cell_type": "markdown",
   "metadata": {},
   "source": [
    "4.设$y=\\phi(x,x_0,y_0,\\lambda)$是初值问题$$\\frac{dy}{dx}=sin(\\lambda xy),\\phi(x,x_0,y_0,\\lambda)=y_0$$的饱和解，这里$\\lambda$是参数，求$\\frac{\\partial \\phi}{\\partial x_0},\\frac{\\partial \\phi}{\\partial y_0}$在$(x,0,0,1)$处的表达式."
   ]
  },
  {
   "cell_type": "markdown",
   "metadata": {},
   "source": [
    "解：由题$f(x,y)=sin(\\lambda xy),\\frac{\\partial f}{\\partial y}=\\lambda xcos(\\lambda xy)$\n",
    "    根据解对初值条件的可微性有$$\n",
    "                            \\begin{aligned}\n",
    "                            \\frac{\\partial \\phi}{\\partial x_0}&=-f(x_0,y_0)exp(\\int_{x_0}^x\\mathrm {\\frac{\\partial f(x,\\phi)}{\\partial y}}\\,\\mathrm {d}x)\\\\\n",
    "                            &=-sin(\\lambda x_0,y_0)exp(\\int_{x_0}^x\\mathrm \\lambda xcos(\\lambda x\\phi)\\,\\mathrm {d}x)\\\\\n",
    "                            \\frac{\\partial \\phi}{\\partial y_0}&=exp(\\int_{x_0}^x\\mathrm {\\frac{\\partial f(x,\\phi)}{\\partial y}}\\,\\mathrm {d}x)\\\\\n",
    "                            &=exp(\\int_{x_0}^x\\mathrm \\lambda xcos(\\lambda x\\phi)\\,\\mathrm {d}x)\\\\\n",
    "                            \\end{aligned}\n",
    "                            $$\n",
    "在$x_0=0,y_0=0,\\lambda=1$时$$\n",
    "                           \\begin{aligned}\n",
    "                           {\\frac{\\partial \\phi}{\\partial x_0}}|_{x,0,0,1}&=0\\\\\n",
    "                           {\\frac{\\partial \\phi}{\\partial y_0}}|_{x,0,0,1}&=exp(\\int_0^x\\mathrm xcos0\\,\\mathrm {d}x)=|x|\\\\\n",
    "                           \\end{aligned}\n",
    "                           $$"
   ]
  },
  {
   "cell_type": "markdown",
   "metadata": {
    "collapsed": true
   },
   "source": [
    " # <font color='red'>A  20/10"
   ]
  },
  {
   "cell_type": "code",
   "execution_count": null,
   "metadata": {
    "collapsed": true
   },
   "outputs": [],
   "source": []
  }
 ],
 "metadata": {
  "kernelspec": {
   "display_name": "SageMath 7.3",
   "language": "",
   "name": "sagemath"
  },
  "language_info": {
   "codemirror_mode": {
    "name": "ipython",
    "version": 2
   },
   "file_extension": ".py",
   "mimetype": "text/x-python",
   "name": "python",
   "nbconvert_exporter": "python",
   "pygments_lexer": "ipython2",
   "version": "2.7.10"
  }
 },
 "nbformat": 4,
 "nbformat_minor": 0
}
