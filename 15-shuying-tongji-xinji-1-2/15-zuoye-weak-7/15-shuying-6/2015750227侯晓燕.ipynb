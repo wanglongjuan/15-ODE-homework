{
 "cells": [
  {
   "cell_type": "markdown",
   "metadata": {
    "collapsed": false
   },
   "source": [
    "1.假设函数f(x,y)及$\\frac{\\partial f}{\\partial x}$都在区域G内连续，又$y=\\phi(x,x_0,y_0)$是方程满足初值条件$\\phi(x_0,x_0,y_0)=y_0$的解，试证$\\frac{\\partial \\phi}{\\partial y_0}$存在且连续，并写出其表达式"
   ]
  },
  {
   "cell_type": "markdown",
   "metadata": {},
   "source": [
    "解：由于$\\frac{\\partial f}{\\partial x}$都在区域G内连续\n",
    "\n",
    "所以f(x,y)在区域G内关于y满足利普西茨条件\n",
    "\n",
    "解对初值的连续性定理成立\n",
    "\n",
    "即$y=\\phi(x,x_0,y_0)$在他的存在范围内关于y_0是连续的。\n",
    "\n",
    "设$y=\\phi(x,x_0,y_0+\\Delta y_0)=\\psi$为初值$（x_0,y_0+\\Delta y_0）（y_0 \\leq \\alpha）$所确定的解，又$y=\\phi(x,x_0,y_0)$是方程满足初值条件$\\phi(x_0,x_0,y_0)=y_0$的解\n",
    "\n",
    "即$\\phi= y_0+\\int_{y_0}^x \\mathrm f(x,\\phi)\\ \\mathrm {d}x$$\\psi= y_0+\\int_{y_0+\\Delta y_0}^x \\mathrm f(x,\\psi)\\ \\mathrm {d}x$\n",
    "\n",
    "于是\n",
    "$$\n",
    "\\begin{aligned}\n",
    "& \\psi- \\phi =\\int_{y_0+\\Delta y_0}^x \\mathrm f(x,\\psi)\\ \\mathrm {d}x-\\int_{y_0}^x \\mathrm f(x,\\phi)\\ \\mathrm {d}x\\\\\n",
    "& =\\int_{y_0}^{y_0+\\Delta y_0} \\mathrm f(x,\\psi)\\ \\mathrm {d}x+\\int_{y_0}^x \\mathrm {\\frac {\\partial f(x,\\phi+\\theta(\\psi-\\phi))(\\psi-\\phi)}{\\partial y}\\ \\mathrm {d}x}\\\\\n",
    "\\end{aligned}\n",
    "$$\n",
    "\n",
    "其中$0<\\theta<1,$注意到$\\frac{\\partial f}{\\partial y}$以及$\\phi$$\\psi$的连续性，我们有\n",
    "\n",
    "$$\\frac {\\partial f(x,\\phi+\\theta(\\psi-\\phi))(\\psi-\\phi)}{\\partial y}=\\frac {\\partial f(x,\\phi)(\\psi-\\phi)}{\\partial y}+r_1$$\n",
    "\n",
    "有$\\frac{\\int_{y_0}^{y_0+\\Delta y_0} \\mathrm f(x,\\psi)\\ \\mathrm {d}x}{-\\Delta x_0}=-f(x_0,y_0)+r_2$\n",
    "\n",
    "$\\frac{\\psi- \\phi}{\\Delta y_0}=[-f(x_0,y_0)+r_2]+\\int_{y_0}^x \\mathrm {\\frac {\\partial f(x,\\phi)}{\\partial y}\\frac {(\\psi-\\phi)}{\\Delta y_0}\\ \\mathrm {d}x}$\n",
    "\n",
    "即$z=\\frac{\\psi- \\phi}{\\Delta y_0}$是初值问题\n",
    "\n",
    "$$\n",
    "\\begin{cases}\n",
    "\\frac{dz}{dx}=z[\\frac {\\partial f(x,\\phi)}{\\partial y}+r_3]\\\\\n",
    "z(x_0)=1\\\\\n",
    "\\end{cases}\n",
    "$$\n",
    "的解\n",
    "\n",
    "$$\\frac{\\psi- \\phi}{\\Delta y_0}=exp{\\int_{y_0}^x \\mathrm {\\frac {\\partial f(x,\\phi)}{\\partial y}+r_3\\ \\mathrm {d}x}}$$\n",
    "\n",
    "$$当\\Delta y_0 \\to 0时，r_3\\to0$$\n",
    "\n",
    "故有$$\\frac{\\partial \\phi}{\\partial y_0}=exp({\\int_{y_0}^x \\mathrm （{\\frac {\\partial f(x,\\phi)}{\\partial y}+r_3）\\ \\mathrm {d}x}})$$"
   ]
  },
  {
   "cell_type": "markdown",
   "metadata": {},
   "source": [
    "2.假设函数P(x)和Q（x）于区间$[\\alpha,\\beta]$上连续，$y=\\varphi(x,x_0,y_0)$是方程\n",
    "$$\n",
    "\\frac{dy}{dx}=P(x)y+Q(x)\n",
    "$$\n",
    "的解，$y=\\varphi(x_0,x_0,y_0)$.试求$$\\frac{\\partial \\varphi}{\\partial x_0},\\frac{\\partial \\varphi}{\\partial y_0}及\\frac{\\partial \\varphi}{\\partial x}$$,并从解的表达式出发，利用对参数求导的方法，检验所得结果。"
   ]
  },
  {
   "cell_type": "markdown",
   "metadata": {},
   "source": [
    "由解对初值的可微性定理可得\n",
    "\n",
    "$$\\frac{\\partial \\phi}{\\partial x_0}=-f(x_0,y_0)exp({\\int_{x_0}^x \\mathrm {\\frac {\\partial f(s,\\phi)}{\\partial y}\\ \\mathrm {d}x}})$$\n",
    "\n",
    "$$=-(P(x_0)y_0+Q(x_0))exp(\\int_{x_0}^x \\mathrm P(x)\\ \\mathrm {d}x)$$\n",
    "\n",
    "$$\\frac{\\partial \\phi}{\\partial y_0}=exp({\\int_{x_0}^x \\mathrm {\\frac {\\partial f(s,\\phi)}{\\partial y}\\ \\mathrm {d}x}})$$\n",
    "\n",
    "$$=exp(\\int_{x_0}^x \\mathrm P(x)\\ \\mathrm {d}x)$$\n",
    "\n",
    "$$\\frac{\\partial \\phi}{\\partial x_0}=f(x,\\phi(x,x_0,y_0))=P(x)\\phi(x,x_0,y_0)+Q(x)$$\n",
    "\n",
    "由于$$\\varphi(x_0,x_0,y_0)=e^{\\int_{x_0}^x \\mathrm P(s)\\ \\mathrm {d}s}(\\int_{x_0}^x \\mathrm Q(t)e^{\\int_{x_0}^x \\mathrm -P(s)\\ \\mathrm {d}s}\\ \\mathrm {d}t +y_0)$$\n",
    "\n",
    "对上式求导得\n",
    "\n",
    "$$\\frac{\\partial \\phi}{\\partial x_0}=-(P(x_0)y_0+Q(x_0))exp(\\int_{x_0}^x \\mathrm P(x)\\ \\mathrm {d}x)$$\n",
    "\n",
    "$$\\frac{\\partial \\phi}{\\partial y_0}=exp(\\int_{x_0}^x \\mathrm P(x)\\ \\mathrm {d}x)$$\n",
    "\n",
    "$$\\frac{\\partial \\phi}{\\partial x_0}=f(x,\\phi(x,x_0,y_0))=P(x)\\phi(x,x_0,y_0)+Q(x)$$\n",
    "\n",
    "证毕"
   ]
  },
  {
   "cell_type": "markdown",
   "metadata": {},
   "source": [
    "3.给定方程$$\\frac{dy}{dx}=sin(\\frac{y}{x})$$\n",
    "试求$$\\frac{\\partial y(x,x_0,y_0)}{\\partial x_0}  \\frac{\\partial y(x,x_0,y_0)}{\\partial y_0}$$在$$x_0=1,y_0=0$$时的表达式"
   ]
  },
  {
   "cell_type": "markdown",
   "metadata": {},
   "source": [
    "解：\n",
    "\n",
    "$$\\frac{\\partial sin(\\frac{y}{x})}{\\partial y}=\\frac{1}{x}cos(\\frac{y}{x})$$\n",
    "\n",
    "由解对初值的可微性定理，得\n",
    "\n",
    "$$\\frac{\\partial y(x,x_0,x_0)}{\\partial x_0}=-sin(\\frac{y}{x})exp{\\int_{x_0}^x \\mathrm {\\frac{1}{x}cos(\\frac{y}{x})}\\ \\mathrm {d}x}$$\n",
    "\n",
    "$$\\frac{\\partial y(x,x_0,y_0)}{\\partial x_0}=exp{\\int_{x_0}^x \\mathrm {\\frac{1}{x}cos(\\frac{y}{x})}\\ \\mathrm {d}x}$$\n",
    "\n",
    "在$$x_0=1,y_0=0$$时\n",
    "\n",
    "$$\\frac{\\partial y(x,x_0,y_0)}{\\partial x_0}=0$$\n",
    "\n",
    "$$\\frac{\\partial y(x,x_0,y_0)}{\\partial x_0}=|x|$$"
   ]
  },
  {
   "cell_type": "markdown",
   "metadata": {},
   "source": [
    "4.设$y=\\varphi(x,x_0,y_0,\\lambda)$是初值问题\n",
    "$$\n",
    "\\frac{dy}{dx}=sin(\\lambda xy),\\varphi(x,x_0,y_0,\\lambda)=y_0\n",
    "$$\n",
    "的饱和解，这里$\\lambda$是参数，求$$\n",
    "\\frac{\\partial \\varphi }{\\partial x_0} ，\\frac{\\partial \\varphi }{\\partial y_0}在（x,0,0,1）处的表达式$$\n"
   ]
  },
  {
   "cell_type": "markdown",
   "metadata": {},
   "source": [
    "解：\n",
    "\n",
    "$$f(x,y)=sin(\\lambda xy),\\frac{\\partial f}{\\partial y}=\\lambda xcos(\\lambda xy)$$\n",
    "\n",
    "由解对初值的可微性定理可得\n",
    "\n",
    "$$\\frac{\\partial \\phi}{\\partial x_0}=-sin(\\lambda x_0y_0)exp{\\int_{x_0}^x \\mathrm \\lambda xcos(\\lambda xy \\phi)\\ \\mathrm {d}x}$$\n",
    "\n",
    "$$\\frac{\\partial \\phi}{\\partial y_0}=exp{\\int_{x_0}^x \\mathrm \\lambda xcos(\\lambda xy \\phi)\\ \\mathrm {d}x}$$\n",
    "\n",
    "在（x,0,0,1）处时\n",
    "\n",
    "$$\\frac{\\partial \\phi}{\\partial x_0}=0$$\n",
    "\n",
    "$$\\frac{\\partial \\phi}{\\partial y_0}=exp(\\frac{x^2}{2})$$\n"
   ]
  },
  {
   "cell_type": "markdown",
   "metadata": {
    "collapsed": true
   },
   "source": [
    " # <font color='red'>A  20/10"
   ]
  },
  {
   "cell_type": "code",
   "execution_count": null,
   "metadata": {
    "collapsed": true
   },
   "outputs": [],
   "source": []
  }
 ],
 "metadata": {
  "kernelspec": {
   "display_name": "Python 2",
   "language": "python",
   "name": "python2"
  },
  "language_info": {
   "codemirror_mode": {
    "name": "ipython",
    "version": 2
   },
   "file_extension": ".py",
   "mimetype": "text/x-python",
   "name": "python",
   "nbconvert_exporter": "python",
   "pygments_lexer": "ipython2",
   "version": "2.7.10"
  }
 },
 "nbformat": 4,
 "nbformat_minor": 0
}
