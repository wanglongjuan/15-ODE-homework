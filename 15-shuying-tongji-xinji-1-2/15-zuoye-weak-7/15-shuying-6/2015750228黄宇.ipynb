{
 "cells": [
  {
   "cell_type": "markdown",
   "metadata": {
    "collapsed": false
   },
   "source": [
    "  **1.\n",
    " 假设函数$f(x,y)$及$\\frac{\\partial f}{\\partial y}$都在区域G内连续，又$y=\\varphi_(x,x_0,y_0)$\n",
    " 是方程$\\frac{dy}{dx}=f(x,y,\\lambda)$的满足初始条件$\\varphi_(x_0,x_0,y_0)=y_0$\n",
    " 的解，试证$\\frac{\\partial \\varphi}{\\partial y_0}$存在且连续，并写出其表达式**\n",
    " \n",
    " "
   ]
  },
  {
   "cell_type": "markdown",
   "metadata": {},
   "source": [
    "记初值为$（x_0,y_0+\\Delta y_0,）$的解为$y= \\varphi_(x,x_0,y_0+\\Delta y_0)$\n",
    "其中$|\\Delta y_0 |\\leq\\alpha$,$\\alpha$足够小，则有\n",
    "\n",
    "$$ \\varphi=y_0+\\int_{x_0}^x f(s,\\varphi_(s)){\\mathrm d s} \\text{ 和 } \\psi=y_0+\\Delta y_0+\\int_{x_0}^x f(s,\\psi_(s)){\\mathrm d s} $$"
   ]
  },
  {
   "cell_type": "markdown",
   "metadata": {},
   "source": [
    "\n",
    " $$ \\begin{aligned} \\psi-\\varphi =\\Delta y_0+\\int_{x_0}^x f(s,\\psi (s)){\\mathrm d s}-\\int_{x_0}^x f(s,\\varphi (s)){\\mathrm d s}\\\\ &=\\Delta y_0+\\int_{x_0}^x\\frac{\\partial f (s,\\varphi+\\theta(\\psi-\\varphi))}{\\partial y}(\\psi (s)-\\varphi(s)){\\mathrm d s}\\\\ \\end{aligned} $$\n"
   ]
  },
  {
   "cell_type": "markdown",
   "metadata": {},
   "source": [
    "其中$\\theta\\in[0,1]$"
   ]
  },
  {
   "cell_type": "markdown",
   "metadata": {},
   "source": [
    "由$\\frac{\\partial f}{\\partial y}$及$\\varphi$, $\\psi$的连续性，有\n",
    "\n",
    "$$\n",
    "\\frac{\\partial f (s,\\varphi+\\theta(\\psi-\\varphi))}{\\partial y}=\\frac{\\partial f(s,\\varphi)}{\\partial y}+r\n",
    "$$\n"
   ]
  },
  {
   "cell_type": "markdown",
   "metadata": {},
   "source": [
    "其中r满足：$\\Delta y_0\\to 0$ 时 $r\\to0$时，$\\Delta y_0=0$时r=0\n",
    "\n",
    "\n",
    "即对$\\Delta y_0  \\neq 0$ 有"
   ]
  },
  {
   "cell_type": "markdown",
   "metadata": {},
   "source": [
    "$$ \\frac{\\psi-\\varphi}{\\Delta y_0}=\\int_{x_0}^x[\\frac{\\partial f(s,\\varphi)}{\\partial y}+r]\\frac{\\psi-\\varphi}{\\Delta y_0}{\\mathrm d s} $$\n",
    "\n",
    "即\n",
    "$$ z=\\frac{\\psi-\\varphi}{\\Delta y_0} $$\n",
    "\n",
    "是初值问题\n",
    "$$ \\begin{cases} \\frac{\\mathrm d z}{\\mathrm d x}=[\\frac{\\partial f(x,\\varphi)}{\\partial y}+r]z\\\\ z(x_0)=1\\\\ \\end{cases} $$的解"
   ]
  },
  {
   "cell_type": "markdown",
   "metadata": {},
   "source": [
    "即 $$ \\frac{\\psi-\\varphi}{\\Delta y_0}=\\exp\\left(\\int_{x_0}^{x}[\\frac{\\partial f(s,\\varphi)}{\\partial y}+r]{\\mathrm d s}\\right) $$\n",
    "\n",
    "有\n",
    "$$ \\frac{\\partial \\varphi}{\\partial y_0}=\\lim_{\\Delta y_0 \\to 0} \\frac{\\psi-\\varphi}{\\Delta y_0}=exp\\left(\\int_{x_0}^{x}\\frac{\\partial f(s,\\varphi)}{\\partial y}{\\mathrm d s}\\right) $$"
   ]
  },
  {
   "cell_type": "markdown",
   "metadata": {},
   "source": [
    "它是$x,x_0,y_0$的连续函数"
   ]
  },
  {
   "cell_type": "markdown",
   "metadata": {
    "collapsed": true
   },
   "source": [
    "**2.**假设函数P（x）和Q(x)于区间$[\\alpha,\\beta]$上连续，$$\n",
    "y=\\varphi(x,x_0,y_0),\n",
    "$$\n",
    " 是方程$\\frac{dy}{dx}=P(x)y+Q(x)$的解，$$\n",
    "y_0=\\varphi(x_0,x_0,y_0),\n",
    "$$试求$\\frac{\\partial \\varphi}{\\partial x_0}\\frac{\\partial \\varphi}{\\partial y_0}\\text 及\\frac{\\partial \\varphi}{\\partial x}$"
   ]
  },
  {
   "cell_type": "markdown",
   "metadata": {},
   "source": [
    "并从解的表达式出发，利用对参数求导数的方法，检验所得结果。\n",
    "解：由于$f(x,y)=P(x)y+Q(x)$，所以，$\\frac{\\partial f}{\\partial y}=P(x\n",
    ")$\n",
    "\n",
    "由解对初值的可微性定理得\n",
    "\n",
    "\n",
    "\n",
    "$$\n",
    "\\frac{\\partial \\varphi}{\\partial x_0}=-f(x_0,y_0)\\exp \\left(\\int_{x_0}^{x}\\frac{\\partial f(s,\\varphi)}{\\partial y}{\\mathrm d s}\\right)\n",
    "=-[P(x_0)y_0+Q(x_0)\\exp \\left(\\int_{x_0}^{x}P(s){\\mathrm d s}\\right)$$\n",
    "\n",
    "\n",
    "$$\\frac{\\partial \\varphi}{\\partial y_0}=\\exp \\left(\\int_{x_0}^{x}\\frac{\\partial f(s,\\varphi)}{\\partial y}{\\mathrm d s}\\right)\n",
    "=\\exp \\left(\\int_{x_0}^{x}P(s){\\mathrm d s}\\right)$$\n",
    "\n",
    "\n",
    "\n",
    "$$\\frac{\\partial \\varphi}{\\partial x}=f(x,\\varphi(x,x_0,y_0))=P(x)\\varphi(x,x_0,y_0)+Q(x)$$"
   ]
  },
  {
   "cell_type": "markdown",
   "metadata": {},
   "source": [
    "因为非齐次线性方程有解的表达式为\n",
    "\n",
    "\n",
    "\n",
    "$$e^{\\int P(x)\\mathrm d x}(\\int Q(x)e^{-\\int P(x)\\mathrm d x}\\mathrm d x + c)$$\n",
    "于是$y=\\varphi_(x,x_0,y_0)=y_0e^{\\int _{x_0}^{x}P(s)\\mathrm d s}+\\int_{x_0}^{x}Q(s)e^{\\int_{s}^{x} P(t)\\mathrm d t}\\mathrm d s$"
   ]
  },
  {
   "cell_type": "markdown",
   "metadata": {},
   "source": [
    "直接对参数求导可得，$\\frac{\\partial \\varphi(x,x_0,y_0)}\n",
    "{\\partial x_0}=-P(x_0)y_0e^{\\int _{x_0}^{x}P(s)\\mathrm d s}-Q(x_0)e^{\\int_{x_0}^{x} P(s)\\mathrm d s}=-[P(x_0)y_0+Q(x_0)]e^{\\int _{x_0}^{x}P(s)\\mathrm d s}$"
   ]
  },
  {
   "cell_type": "markdown",
   "metadata": {},
   "source": [
    "$$\\frac{\\partial \\varphi(x,x_0,y_0)}\n",
    "{\\partial y_0}=e^{\\int _{x_0}^{x}P(s)\\mathrm d s}$$"
   ]
  },
  {
   "cell_type": "markdown",
   "metadata": {},
   "source": [
    "$$\\frac{\\partial \\varphi(x,x_0,y_0)}\n",
    "{\\partial x}=\n",
    "P(x)y_0e^{\\int _{x_0}^{x}P(s)\\mathrm d s}+Q(x)+\\int_{x_0}^{x}P(x)Q(s)e^{\\int_{s}^{x} P(t)\\mathrm d s}$$"
   ]
  },
  {
   "cell_type": "markdown",
   "metadata": {},
   "source": [
    "$$=P(x)[y_0e^{\\int _{x_0}^{x}P(s)\\mathrm d s}+\\int_{x_0}^{x}Q(s)e^{\\int_{s}^{x} P(t)\\mathrm d t}]+Q(x)=P(x)\\varphi(x,x_0,y_0)+Q(x)$$经检验，与解对初值的可微性定理中的公式一致。"
   ]
  },
  {
   "cell_type": "markdown",
   "metadata": {},
   "source": [
    "**3.**给定方程$\\frac{y}{x}=sin(\\frac{y}{x})$,试求$\\frac{\\partial \\varphi(x,x_0,y_0)}\n",
    "{\\partial x_0}$$\\frac{\\partial \\varphi(x,x_0,y_0)}\n",
    "{\\partial y_0}$在$x_0=1,y_0=0$的表达式"
   ]
  },
  {
   "cell_type": "markdown",
   "metadata": {},
   "source": [
    "设$f(x,y)=sin(\\frac{y}{x})$,则$\\frac{\\partial f}{\\partial y}=\\frac{1}{x}cos(\\frac{y}{x})$,"
   ]
  },
  {
   "cell_type": "markdown",
   "metadata": {},
   "source": [
    "由解对初值的可微性定理得$$\n",
    "\\frac{\\partial \\varphi(x,x_0,y_0)}{\\partial x_0}=-f(x_0,y_0)\\exp \\left(\\int_{x_0}^{x}\\frac{\\partial f(s,y)}{\\partial y}{\\mathrm d s}\\right)\n",
    "=sin(\\frac{y_0}{x_0})\\exp \\left(\\int_{x_0}^{x}\\frac{1}{s}cos(\\frac{y}{s}{\\mathrm d s}\\right)\n",
    "$$\n",
    "\n",
    "\n",
    "\n",
    "$$\n",
    "\\frac{\\partial \\varphi(x,x_0,y_0)}{\\partial y_0}=\\exp \\left(\\int_{x_0}^{x}\\frac{\\partial f(s,y)}{\\partial y}{\\mathrm d s}\\right)\n",
    "=\\exp \\left(\\int_{x_0}^{x}\\frac{1}{s}cos(\\frac{y}{s}{\\mathrm d s}\\right)\n",
    "$$\n"
   ]
  },
  {
   "cell_type": "markdown",
   "metadata": {},
   "source": [
    "当$x_0=1,y_0=0$"
   ]
  },
  {
   "cell_type": "markdown",
   "metadata": {},
   "source": [
    "对应得到$$\\frac{\\partial \\varphi(x,x_0,y_0)}{\\partial x_0}|_{x_0=1,y_0=0}=0$$,"
   ]
  },
  {
   "cell_type": "markdown",
   "metadata": {},
   "source": [
    "$$\\frac{\\partial \\varphi(x,x_0,y_0)}{\\partial x_0}|_{x_0=1,y_0=0}=exp(\\int_{x_0}^{x}\\frac{1}{s}{\\mathrm d s})=|x|$$,\n",
    "\n",
    "\n",
    "\n",
    "所以在$x_0=1,y_0=0$时，$\\frac{\\partial y}{\\partial x_0}=0,\\frac{\\partial y}{\\partial y_0}=|x|$"
   ]
  },
  {
   "cell_type": "markdown",
   "metadata": {},
   "source": [
    "**4.**设$$\n",
    "y=\\varphi(x,x_0,y_0,\\lambda),\n",
    "$$是初值问题$\\frac{y}{x}=sin(\\lambda xy)$，$\\varphi(x_0,x_0,y_0,\\lambda)=y_0$的饱和解，这里$\\lambda$是参数，求$\\frac{\\partial  \\varphi}{\\partial x_0},\\frac{\\partial  \\varphi}{\\partial y_0}$在（x,0,0,1）处的表达式"
   ]
  },
  {
   "cell_type": "markdown",
   "metadata": {},
   "source": [
    "设$f(x,y)=sin(\\lambda xy)$,则$\\frac{\\partial f}{\\partial y}=\\lambda x cos(\\lambda xy)$,"
   ]
  },
  {
   "cell_type": "markdown",
   "metadata": {},
   "source": [
    "由解对初值的可微性定理得$$\n",
    "\\frac{\\partial \\varphi(x,x_0,y_0)}{\\partial x_0}=-f(x_0,y_0)\\exp \\left(\\int_{x_0}^{x}\\frac{\\partial f(s,y)}{\\partial y}{\\mathrm d s}\\right)\n",
    "=-sin(\\lambda x_0y_0)\\exp \\left(\\int_{x_0}^{x}\\lambda scos(\\lambda s y){\\mathrm d s}\\right)\n",
    "$$\n",
    "\n",
    "\n",
    "\n",
    "$$\n",
    "\\frac{\\partial \\varphi(x,x_0,y_0)}{\\partial y_0}=\\exp \\left(\\int_{x_0}^{x}\\frac{\\partial f(s,y)}{\\partial y}{\\mathrm d s}\\right)\n",
    "=\\exp \\left(\\int_{x_0}^{x}\\frac{1}{s}cos(\\frac{y}{s}{\\mathrm d s}\\right)\n",
    "$$\n"
   ]
  },
  {
   "cell_type": "markdown",
   "metadata": {},
   "source": [
    "当$x_0=0,y_0=0,\\lambda=1$"
   ]
  },
  {
   "cell_type": "markdown",
   "metadata": {},
   "source": [
    "$$\\frac{\\partial \\varphi}{\\partial x_0}|_(x,0,0,1)=0$$,$$\\frac{\\partial \\varphi}{\\partial y_0}|_(x,0,0,1)=exp(\\int_{x_0}^{x}scos0{\\mathrm d s})=exp(\\frac{x^2}{2})$$,"
   ]
  },
  {
   "cell_type": "markdown",
   "metadata": {
    "collapsed": true
   },
   "source": [
    " # <font color='red'>A  20/10"
   ]
  },
  {
   "cell_type": "code",
   "execution_count": null,
   "metadata": {
    "collapsed": true
   },
   "outputs": [],
   "source": []
  }
 ],
 "metadata": {
  "kernelspec": {
   "display_name": "Python 2",
   "language": "python",
   "name": "python2"
  },
  "language_info": {
   "codemirror_mode": {
    "name": "ipython",
    "version": 2
   },
   "file_extension": ".py",
   "mimetype": "text/x-python",
   "name": "python",
   "nbconvert_exporter": "python",
   "pygments_lexer": "ipython2",
   "version": "2.7.10"
  }
 },
 "nbformat": 4,
 "nbformat_minor": 0
}
