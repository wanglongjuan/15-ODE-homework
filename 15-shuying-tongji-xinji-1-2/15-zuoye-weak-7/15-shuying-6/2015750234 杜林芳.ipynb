{
 "cells": [
  {
   "cell_type": "markdown",
   "metadata": {
    "collapsed": false
   },
   "source": [
    "习题3.3"
   ]
  },
  {
   "cell_type": "markdown",
   "metadata": {},
   "source": [
    "1.假设函数f(x,y)及$\\frac{∂y}{∂x}$都在区域G内连续，又y=φ(x,x0,y0)是方程（3.1）满足初值条件φ(x0,x0,y0)=y0的解，试证$\\frac{∂φ}{∂y0}$\n",
    "存在且连续，并写出其表达式"
   ]
  },
  {
   "cell_type": "markdown",
   "metadata": {},
   "source": [
    " 解：设由初值（x0,y0)和(x0,y0+Δy0)(|Δy0|≤α,α为足够小的正数）所确定的方程的解分别为 y=φ(x,x0,y0)=φ和 y=φ(x,x0,y0+Δy0)=ψ \n",
    "                          \n",
    " 即   \n",
    " "
   ]
  },
  {
   "cell_type": "markdown",
   "metadata": {},
   "source": [
    "φ=x0+$\\int_{y_0}^yf(x,φ)dy$ 和ψ=x0+$\\int_{y_0+Δy0}^yf(x,φ)dy$ 于是\n"
   ]
  },
  {
   "cell_type": "markdown",
   "metadata": {},
   "source": [
    "$ψ-φ=x0+\\int_{y_0+Δy0}^yf(x,φ)dy-x0+\\int_{y_0}^yf(x,φ)dy$\n",
    "\n",
    "其中$0&lt;\\theta&lt;1$. 注意到$\\frac{\\partial f}{\\partial y}$及$\\varphi$, $\\psi$的连续性有\n",
    "      "
   ]
  },
  {
   "cell_type": "markdown",
   "metadata": {},
   "source": [
    "$$\n",
    "\\frac{\\partial f (x,\\varphi+\\theta(\\psi-\\varphi))}{\\partial y}=\\frac{\\partial f(x,\\varphi)}{\\partial y}+r_1\n",
    "$$\n",
    "这里 $r_1$ 具有性质：当$\\Delta y_0\\to 0$，时 $r_1\\to 0$, 且当$\\Delta y_0= 0$时，$r_1= 0$，类似的有"
   ]
  },
  {
   "cell_type": "markdown",
   "metadata": {},
   "source": [
    "$$\n",
    "-\\frac{1}{\\Delta y_0}\\int_{y_0}^{y_0+\\Delta y_0}f(x,\\psi){\\mathrm d x}=-f(x_0,y_0)+r_2\n",
    "$$\n",
    "其中 $r_2$ 与 $r_1$ 具有相同的性质，因此对 $\\Delta x_0  \\neq 0$ 有"
   ]
  },
  {
   "cell_type": "markdown",
   "metadata": {},
   "source": [
    "$$\n",
    "\\frac{\\psi-\\varphi}{\\Delta y_0}=[-f(x_0,y_0)+r_2]+\\int_{y_0}^y[\\frac{\\partial f(x,\\varphi)}{\\partial y}+r_1]\\frac{\\psi-\\varphi}{\\Delta y_0}{\\mathrm d y}\n",
    "$$\n",
    "即"
   ]
  },
  {
   "cell_type": "markdown",
   "metadata": {},
   "source": [
    "$$\n",
    "z=\\frac{\\psi-\\varphi}{\\Delta y_0}\n",
    "$$\n",
    "是初值问题"
   ]
  },
  {
   "cell_type": "markdown",
   "metadata": {},
   "source": [
    "$$\n",
    "\\begin{cases}\n",
    "\\frac{\\mathrm d z}{\\mathrm d y}=[\\frac{\\partial f(x,\\varphi)}{\\partial y}+r_1]z\\\\\n",
    "z(y_0)=-f(x_0,y_0)+r_2=z_0\\\\\n",
    "\\end{cases}\n",
    "$$\n",
    "的解，在这里 $\\Delta y_0 \\neq 0$ 被看成参数."
   ]
  },
  {
   "cell_type": "markdown",
   "metadata": {},
   "source": [
    "显然,当 $\\Delta x_0 = 0$ 时上式初值问题仍然有解，根据解对初值和参数的连续性定理，知 $\\frac{\\psi-\\varphi}{\\Delta y_0}$ 是 $x$ , $y_0$ ,$z_0$ , $\\Delta y_0$ , 的连续函数，从而存在\n",
    "$$\n",
    "\\lim_{\\Delta y_0 \\to 0} \\frac{\\psi-\\varphi}{\\Delta y_0}\\equiv\\frac{\\partial \\varphi}{\\partial y_0}\n",
    "$$\n",
    "而 $\\frac{\\partial \\varphi}{\\partial y_0}$ 是初值问题"
   ]
  },
  {
   "cell_type": "markdown",
   "metadata": {},
   "source": [
    "$$\n",
    "\\begin{cases}\n",
    "\\frac{\\mathrm d z}{\\mathrm d y}=\\frac{\\partial f(x,\\varphi)}{\\partial y}z\\\\\n",
    "z(y_0)=-f(x_0,y_0)\\\\\n",
    "\\end{cases}\n",
    "$$\n",
    "的解不难求得"
   ]
  },
  {
   "cell_type": "markdown",
   "metadata": {},
   "source": [
    "$$\n",
    "\\frac{\\partial \\varphi}{\\partial y_0}=-f(x_0,y_0)e^ {\\int_{y_0}^{y}\\frac{\\partial f(x,\\varphi)}{\\partial y}{\\mathrm d y}}\n",
    "$$\n",
    "显然它是 $x$ , $x_0$ , $y_0$ 的连续函数.即证//"
   ]
  },
  {
   "cell_type": "markdown",
   "metadata": {},
   "source": [
    "2.假设函数P(x)和Q(x)于区间[α,β]上连续，y=φ(x,x0,y0)是方程$$\\frac{dy}{dx}=P(x)y+Q(x)$$的解，y0=φ(x0,x0,y0).试求\n",
    "  $\\frac{\\partial \\varphi}{\\partial x_0},\\frac{\\partial \\varphi}{\\partial y_0},及\\frac{\\partial \\varphi}{\\partial x}$  并从解得表达式出发，利用对参数求导数的方法，检验所得结果"
   ]
  },
  {
   "cell_type": "markdown",
   "metadata": {},
   "source": [
    "$\n",
    "\\begin{aligned}\n",
    "解：根据解对初值的可微性定理有:\\\\\\frac{\\partialφ }{\\partial x_0}&=-f(x_0,y_0)exp(\\int_{x_0}^x\\frac{\\partial f(x,φ)}{\\partial y}dx)\\\\\n",
    "&=-(P({x_0}){y_0}+Q({x_0}))exp(\\int_{x_0}^xP(x)dx)\n",
    "\\end{aligned}\n",
    "$\n",
    "\n"
   ]
  },
  {
   "cell_type": "markdown",
   "metadata": {
    "collapsed": true
   },
   "source": [
    "$\n",
    "\\begin{aligned}\n",
    "\\\\\\frac{\\partialφ}{\\partial y_0}&=exp(\\int_{x_0}^x\\frac{\\partial f(x,φ)}{\\partial y}dx)\\\\\n",
    "&=exp(\\int_{x_0}^xP(x)dx)\n",
    "\\end{aligned}\n",
    "$"
   ]
  },
  {
   "cell_type": "markdown",
   "metadata": {},
   "source": [
    "$\n",
    "\\begin{aligned}\n",
    "\\\\\\frac{\\partialφ}{\\partial x}&=f(x,φ(x,{x_0},{y_0}))\\\\&=P(x)P(x,{x_0},{y_0})+Q(x)\n",
    "\\end{aligned}\n",
    "$"
   ]
  },
  {
   "cell_type": "markdown",
   "metadata": {},
   "source": [
    "又可知方程dy/dx=P(x)y+Q(x)的通解为\n",
    "$$\n",
    "y=e^{\\int P(x)\\mathrm d x}(\\int Q(x)e^{-\\int P(x)\\mathrm d x}\\mathrm d x + c)\n",
    "$$\n"
   ]
  },
  {
   "cell_type": "markdown",
   "metadata": {},
   "source": [
    "$而方程\\frac{dy}{dx}=P(x)y+Q(x)具有初始条件y({x_0})={x_0}的特解可写成:\\\\y=φ(x,{x_0},{y_0})=e^{\\int P(x)\\mathrm d x}(\\int Q(x)e^{-\\int P(x)\\mathrm d x}\\mathrm d x + c)\n",
    "$\n"
   ]
  },
  {
   "cell_type": "markdown",
   "metadata": {},
   "source": [
    "$利用对参数求导方法可得：\\\\\n",
    "\\begin{aligned}\n",
    "\\frac{\\partialφ }{\\partial x_0}&=-f(x_0,y_0)exp(\\int_{x_0}^x\\frac{\\partial f(x,φ)}{\\partial y}dx)\\\\\n",
    "&=-(P({x_0}){y_0}+Q({x_0}))exp(\\int_{x_0}^xP(x)dx)\n",
    "\\end{aligned}\n",
    "$\n"
   ]
  },
  {
   "cell_type": "markdown",
   "metadata": {},
   "source": [
    "$\n",
    "\\begin{aligned}\n",
    "\\\\\\frac{\\partialφ}{\\partial y_0}&=exp(\\int_{x_0}^x\\frac{\\partial f(x,φ)}{\\partial y}dx)\\\\\n",
    "&=exp(\\int_{x_0}^xP(x)dx)\n",
    "\\end{aligned}\n",
    "$"
   ]
  },
  {
   "cell_type": "markdown",
   "metadata": {},
   "source": [
    "$\n",
    "\\begin{aligned}\n",
    "\\\\\\frac{\\partialφ}{\\partial x}&=f(x,φ(x,{x_0},{y_0}))\\\\&=P(x)P(x,{x_0},{y_0})+Q(x)\n",
    "\\end{aligned}\n",
    "$\n",
    "\n",
    "即证//"
   ]
  },
  {
   "cell_type": "markdown",
   "metadata": {},
   "source": [
    "$3.给定方程\\frac{dy}{dx}=sin(\\frac{y}{x})试求\\frac{\\partial y(x,{x_0},{y_0})}{\\partial{x_0}}在x0=1,y0=0的表达式$\n"
   ]
  },
  {
   "cell_type": "markdown",
   "metadata": {
    "collapsed": true
   },
   "source": [
    "$\n",
    "\\begin{aligned}\n",
    "解：根据解初值的连续性定理有：\\frac{\\partialφ}{\\partial x_0}&=-f(x_0,y_0)exp(\\int_{x_0}^x\\frac{\\partial f(x,φ)}{\\partial y}dx)\\\\\n",
    "&=-sin\\frac{{y_0}}{{x_0}}exp\\int_{x_0}^x\\frac{1}{x}cos\\frac{y}{x}dx\n",
    "\\end{aligned}\n",
    "$\n"
   ]
  },
  {
   "cell_type": "markdown",
   "metadata": {
    "collapsed": true
   },
   "source": [
    "$\n",
    "\\frac{\\partialφ}{\\partial x_0}=0\n",
    "$"
   ]
  },
  {
   "cell_type": "markdown",
   "metadata": {},
   "source": [
    "$设y=φ(x,x_0,y_0,λ)是初值问题\\\\\\frac{dy}{dx}=sin(λxy) ，φ(x,x_0,y_0,λ,)={y_0}   的饱和解，这里 λ是参数，求\\frac{\\partialφ}{\\partial x_0} ，\\frac{\\partialφ}{\\partial y_0}\n",
    " 在（x,0，0，1）  处的表达式$"
   ]
  },
  {
   "cell_type": "markdown",
   "metadata": {},
   "source": [
    "$\n",
    "\\begin{aligned}\n",
    "解：令f(x,y)=sin(λxy), 则\\frac{partial f}{\\partial y}=λxcos(λxy)\\\\\n",
    "\\frac{\\partialφ}{\\partial x_0}&=-f(x_0,y_0)exp(\\int_{x_0}^x\\frac{\\partial f(x,φ)}{\\partial y}dx)\\\\\n",
    "&=-sin(λ{x_0}{y_0})exp(\\int_{x_0}^xλxcos(λxy)dx)\n",
    "\\end{aligned}\n",
    "$"
   ]
  },
  {
   "cell_type": "markdown",
   "metadata": {},
   "source": [
    "$\n",
    "\\begin{aligned}\n",
    "\\frac{\\partialφ}{\\partial y_0}&=exp(\\int_{x_0}^x\\frac{\\partial f(x,φ)}{\\partial y}dx)\\\\\n",
    "&=exp(\\int_{x_0}^xλxcos(λxy)dx)\n",
    "\\end{aligned}\n",
    "$"
   ]
  },
  {
   "cell_type": "markdown",
   "metadata": {},
   "source": [
    " $ 故表达式为:\\frac{\\partialφ}{\\partial x_0}=0,\\frac{\\partialφ}{\\partial y_0}=|x| $\n"
   ]
  },
  {
   "cell_type": "markdown",
   "metadata": {
    "collapsed": true
   },
   "source": [
    " # <font color='red'>A  20/10"
   ]
  },
  {
   "cell_type": "code",
   "execution_count": null,
   "metadata": {
    "collapsed": true
   },
   "outputs": [],
   "source": []
  }
 ],
 "metadata": {
  "kernelspec": {
   "display_name": "Python 2",
   "language": "python",
   "name": "python2"
  },
  "language_info": {
   "codemirror_mode": {
    "name": "ipython",
    "version": 2
   },
   "file_extension": ".py",
   "mimetype": "text/x-python",
   "name": "python",
   "nbconvert_exporter": "python",
   "pygments_lexer": "ipython2",
   "version": "2.7.10"
  }
 },
 "nbformat": 4,
 "nbformat_minor": 0
}
