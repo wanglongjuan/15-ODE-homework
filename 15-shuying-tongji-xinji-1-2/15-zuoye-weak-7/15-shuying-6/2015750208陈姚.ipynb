{
 "cells": [
  {
   "cell_type": "markdown",
   "metadata": {},
   "source": [
    "陈姚2015750208"
   ]
  },
  {
   "cell_type": "markdown",
   "metadata": {},
   "source": [
    "#### 题目1\n",
    "证明：根据解对初值的可微性定理，可知，若函数$f(x,y)$以及$\\frac{\\partial f}{\\partial d}$都在区域内连续，则方程$\\frac{\\partial f}{\\partial d}=f(x,y)$的解$y=\\varphi(x,x_0,y_0)$作为$x,x_0,y_0$的函数在它的存在范围内是连续的。结合题意，即$\\varphi(x,x_0,y_0)$连续可微，即$\\varphi(x,x_0,y_0)$的各偏导数都存在，且连续。故$\\frac{\\partial \\varphi}{\\partial y_0}$存在且连续。根据解对初值的可微性定理的证明过程，可得\n",
    "\n",
    "$$ \\frac{\\partial \\varphi}{\\partial y_0}=\\exp(\\int_x^{x_0} \\frac{\\partial f(x,y)}{\\partial y}dx)$$."
   ]
  },
  {
   "cell_type": "markdown",
   "metadata": {},
   "source": [
    "#### 题目二\n",
    "由题意，$f(x,y)=P(x)y+Q(x)$\n",
    "则根据解对初值的可微性定理证明过程中的公式，得\n",
    "$$\n",
    "\\begin{aligned}\n",
    "\\frac{\\partial \\varphi}{\\partial x_0}&=-f(x_0,y_0)\\exp(\\int_{x_0}^x \\frac{\\partial f(x,\\varphi)}{\\partial y}dx)\\\\\n",
    "&=-[P(x_0)y+Q(x_0)]\\exp(\\int_{x_0}^x P(x_0)dx)\\\\\n",
    "\\frac{\\partial \\varphi}{\\partial y_0}&=\\exp(\\int_{x_0}^x \\frac{\\partial f(x,\\varphi)}{\\partial y}dx)\\\\\n",
    "&=\\exp(\\int_{x_0}^x P(x)dx)\\\\\n",
    "\\frac{\\partial \\varphi}{\\partial x}&=f(x,\\varphi(x,x_0,y_0))\\\\\n",
    "&=P(x)\\varphi(x,x_0,y_0)+Q(x)\n",
    "\\end{aligned}\n",
    "$$\n",
    "\n",
    "下面来检验上述式子：\n",
    "\n",
    "对于\n",
    "\n",
    "$$\\frac{\\partial y}{\\partial y}=P(x)y+Q(x)$$,其通解为\n",
    "\n",
    "$$y=e^{\\int P(x)dx}(\\int Q(x)e^{-\\int P(x)dx}dx+c)$$由题意得：\n",
    "\n",
    "$$y(x_0)=\\varphi(x,x_0,y_0)=y_0,$$代入解得一个特解：\n",
    "\n",
    "$$y=\\varphi(x,x_0,,y_0)e^{\\int_{x_0}^x P(s)ds}(\\int_{x_0}^x Q(t)e^{\\int_{x_0}^{t} -P(s)ds}dt+y_0),$$则：\n",
    "\n",
    "$$\n",
    "\\begin{aligned}\n",
    "\\frac{\\partial \\varphi}{\\partial x_0}&=e^{-\\int_x^{x_0} P(s)ds}(\\int_{x_0}^x Q(t)e^{\\int_{t}^{x_0} P(s)ds}dt+y_0)\\\\\n",
    "&=-P(x_0)e^{-\\int_x^{x_0}P(s)ds}(\\int_{x_0}^x Q(t)e^{\\int_{t}^{x_0} P(s)ds}dt+y_0)+e^{-\\int_x^{x_0}P(s)ds}[-Q(x_0)e^{\\int_x^{x_0}P(s)ds}+(\\int_{x_0}^x Q(t))e^{\\int_{t}^{x_0} P(s)ds}P(x_0)dt]\\\\\n",
    "&=-[P(x_0)y_0+Q(x_0)]e^{\\int_{x_0}^xP(s)ds}\n",
    "\\end{aligned}\n",
    "$$\n",
    "\n",
    "同理，\n",
    "\n",
    "$$\\frac{\\partial \\varphi}{\\partial y_0}=e^{\\int_{x_0}^xP(s)ds}$$\n",
    "\n",
    "$$\n",
    "\\begin{aligned}\n",
    "\\frac{\\partial \\varphi}{\\partial x}&=P(x)e^{\\int_{x_0}^xP(s)ds}(\\int_{x_0}^x Q(t)e^{\\int_{x_0}^t -P(s)ds}dt+y_0)+e^{\\int_{x_0}^xP(s)ds}Q(x)e^{\\int_{x_0}^x -P(s)ds}\\\\\n",
    "&=p(x)\\varphi+Q(x)\n",
    "\\end{aligned}\n",
    "$$\n",
    "\n",
    "经过比较，与前面的结论一致。"
   ]
  },
  {
   "cell_type": "markdown",
   "metadata": {},
   "source": [
    "#### 题目三\n",
    "\n",
    "解：由题意，$f(x,y)=\\sin\\frac{y}{x}$\n",
    "\n",
    "故$\\frac{df}{dy}=\\frac{1}{x}cos\\frac{y}{x}$\n",
    "\n",
    "根据解对初值的可微性定理证明过程中的公式，得\n",
    "$$\n",
    "\\begin{aligned}\n",
    "\\frac{\\partial \\varphi}{\\partial x_0}&=-f(x_0,y_0)\\exp(\\int_{x_0}^x \\frac{\\partial f(x,\\varphi)}{\\partial y}dx)\\\\\n",
    "&=-\\sin(\\frac{y_0}{x_0})\\exp(\\int_{x_0}^x \\frac{1}{x}\\cos\\frac{y}{x}dx)\\\\\n",
    "\\frac{\\partial \\varphi}{\\partial y_0}&=\\exp(\\int_{x_0}^x \\frac{\\partial f(x,\\varphi)}{\\partial y}dx)\\\\\n",
    "&=\\exp(\\int_{x_0}^x \\frac{1}{x} \\cos\\frac{y}{x}dx)\\\\\n",
    "\\end{aligned}\n",
    "$$\n",
    "\n",
    "当$x_0=1,y_0=0$时，代入上式中，\n",
    "得\n",
    "$\\frac{\\partial \\varphi}{\\partial x_0}=0，\\frac{\\partial \\varphi}{\\partial y_0}=\\exp(\\int_{1}^x \\frac{1}{x}dx)=\\mid x\\mid.$"
   ]
  },
  {
   "cell_type": "markdown",
   "metadata": {},
   "source": [
    "#### 题目四\n",
    "解：根据根据解对初值的可微性定理证明过程中的公式，得\n",
    "$$\n",
    "\\begin{aligned}\n",
    "\\frac{\\partial \\varphi}{\\partial x_0}&=-f(x_0,y_0)\\exp(\\int_{x_0}^x \\frac{\\partial f(x,\\varphi)}{\\partial y}dx)\\\\\n",
    "&=-\\sin(\\lambda x_0y_0)\\exp(\\int_{x_0}^x \\lambda x\\cos(\\lambda xy)dx)\\\\\n",
    "\\frac{\\partial \\varphi}{\\partial y_0}&=\\exp(\\int_{x_0}^x \\frac{\\partial f(x,\\varphi)}{\\partial y}dx)\\\\\n",
    "&=\\exp(\\int_{x_0}^x \\lambda x\\cos(\\lambda xy)dx)\\\\\n",
    "\\end{aligned}\n",
    "$$\n",
    "\n",
    "由题意，当$x_0=0,y_0=0,\\lambda=1$时，\n",
    "代入上述式子中得，\n",
    "$\n",
    "\\frac{\\partial \\varphi}{\\partial x_0}=0，\n",
    "\\frac{\\partial \\varphi}{\\partial y_0}=\\exp(\\int_{x_0}^x \\lambda xdx)= e^{\\frac{1}{2}x^2}\n",
    "$\n"
   ]
  },
  {
   "cell_type": "markdown",
   "metadata": {
    "collapsed": true
   },
   "source": [
    " # <font color='red'>A  20/10"
   ]
  },
  {
   "cell_type": "code",
   "execution_count": null,
   "metadata": {
    "collapsed": true
   },
   "outputs": [],
   "source": []
  }
 ],
 "metadata": {
  "kernelspec": {
   "display_name": "SageMath 7.3",
   "language": "",
   "name": "sagemath"
  },
  "language_info": {
   "codemirror_mode": {
    "name": "ipython",
    "version": 2
   },
   "file_extension": ".py",
   "mimetype": "text/x-python",
   "name": "python",
   "nbconvert_exporter": "python",
   "pygments_lexer": "ipython2",
   "version": "2.7.10"
  }
 },
 "nbformat": 4,
 "nbformat_minor": 0
}
