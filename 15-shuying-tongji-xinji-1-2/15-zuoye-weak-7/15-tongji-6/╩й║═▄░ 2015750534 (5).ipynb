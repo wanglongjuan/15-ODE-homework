{
 "cells": [
  {
   "cell_type": "markdown",
   "metadata": {},
   "source": [
    "$\\bf2.假设函数P(x)和Q(x)于区间[\\alpha,\\beta]上连续，y=\\varphi(x,x_0,y_0)是方程$\n",
    "\n",
    "$$\\bf\\frac{d(y)}{d(x)}=P(x)y+Q(x)$$\n",
    "\n",
    "$\\bf的解，y_0=\\varphi(x_0,x_0,y_0).试求\\frac{\\partial \\varphi}{\\partial x_0},\\frac{\\partial \\varphi}{\\partial y_0}及\\frac{\\partial \\varphi}{\\partial x},并从解得表达式出发，利用对参数求导的方法，检验所得结果.$\n",
    "\n",
    "$解：∵f(x,y)=P(x)y+Q(x)$\n",
    "$∴\\frac{\\partial f}{\\partial y}$\n",
    "\n",
    "$由对初值的可微性定理得：$\n",
    "\n",
    "$\\frac{\\partial \\varphi}{\\partial x_0}=-f(x_0,y_0)exp[\\int_{x_0}^x\\mathrm \\ \\frac{\\partial f(s,\\varphi)}{\\partial y}\\,\\mathrm{d}s]=-[P(x_0)y_0+Q(x_0)]exp[\\int_{x_0}^x\\mathrm P(s)\\,\\mathrm{d}s];$\n",
    "\n",
    "$\\frac{\\partial \\varphi}{\\partial y_0}=exp[\\int_{x_0}^x\\mathrm \\ \\frac{\\partial f(s,\\varphi)}{\\partial y}\\,\\mathrm{d}s=exp[\\int_{x_0}^x\\mathrm P(s)\\,\\mathrm{d}s];$\n",
    "\n",
    "$\\frac{\\partial \\varphi}{\\partial x}=f(x,\\varphi(x,x_0,y_0))=P(x)\\varphi(x,x_0,y_0)+Q(x).$\n",
    "\n",
    "∵非齐次线性方程组有解的表达式为：$$y=e^{\\int\\mathrm P(x)\\,\\mathrm{d}x}[\\int\\mathrm Q(x){e}^{-\\int\\mathrm P(x)\\,\\mathrm{d}x}\\,\\mathrm{d}x+c],$$\n",
    "\n",
    "$∴\\varphi=(x,x_0,y_0)=y_0e^{\\int_{x_0}^x\\mathrm P(s)\\,\\mathrm{d}s}+\\int_{x_0}^x\\mathrm Q(s){e}^{\\int_s^x\\mathrm P(t)\\,\\mathrm{d}t}\\,\\mathrm{d}s.$\n",
    "\n",
    "$直接对参数求导可得：$\n",
    "\n",
    "$\\frac{\\partial \\varphi(x,x_0,y_0)}{\\partial x_0}=-P(x_0)y_0e^{\\int_{x_0}^x\\mathrm P(s)\\,\\mathrm{d}s}-Q(x_0)e^{\\int_{x_0}^x\\mathrm P(s)\\,\\mathrm{d}s};$\n",
    "\n",
    "$\\frac{\\partial \\varphi(x,x_0,y_0)}{\\partial y_0}=e^{\\int_{x_0}^x\\mathrm P(s)\\,\\mathrm{d}s};$\n",
    "\n",
    "\n",
    "$\\frac{\\partial \\varphi(x,x_0,y_0)}{\\partial x}=P(x)y_0e^{\\int_{x_0}^x\\mathrm P(s)\\,\\mathrm{d}s}+Q(x)+\\int_{x_0}^x\\mathrm P(x)Q(x)e^{\\int_s^x\\mathrm P(t)\\,\\mathrm{d}t}\\,\\mathrm{d}s\\\\\\quad\\quad\\quad=P(x)\\varphi(x,x_0,y_0)+Q(x)$\n",
    "\n",
    "$经检验得，与解对初值的可微性定理中的公式一致.$\n",
    "\n",
    "$\\bf3.给定方程：$\n",
    "$$\\bf\\frac{dy}{dx}=sin(\\frac{y}{x})$$\n",
    "\n",
    "$\\bf试求\\frac{\\partial y(x,x_0,y_0)}{\\partial x_0},\\frac{\\partial y(x,x_0,y_0)}{\\partial y_0}在x_0=1,y_0=0时的表达式.$\n",
    "\n",
    "$解：设f(x,y)=sin(\\frac{y}{x})则\\frac{\\partial f}{\\partial y}=\\frac{1}{x}cos(\\frac{y}{x}).$\n",
    "\n",
    "由解对初值的可微性定理的证明可知：$$\\frac{\\partial y(x,x_0,y_0)}{\\partial x_0}=-f(x_0,y_0)exp(\\int_{x_0}^x\\mathrm \\ \\frac{\\partial f(s,y)}{\\partial y}\\,\\mathrm{d}s)\\\\\\quad\\quad\\quad\\quad=-sin(\\frac{y_0}{x_0})exp(\\int_{x_0}^x\\mathrm \\ \\frac{1}{s}cos(\\frac{y}{s}\\,\\mathrm{d}s)$$\n",
    "\n",
    "$\\frac{\\partial y(x,x_0,y_0)}{\\partial y_0}=exp(\\int_{x_0}^x\\mathrm \\ \\frac{\\partial f(s,y)}{\\partial y}\\,\\mathrm{d}s)=exp(\\int_{x_0}^x\\mathrm \\ \\frac{1}{s}cos(\\frac{y}{s}\\,\\mathrm{d}s)$\n",
    "\n",
    "当x_0=1,y_0=0时得：$$\\frac{\\partial y(x,x_0,y_0)}{\\partial x_0}|_{x_0=1,y_0=0}=0$$\n",
    "\n",
    "$\\frac{\\partial y(x,x_0,y_0)}{\\partial y_0}|_{x_0=1,y_0=0}=exp(\\int_1^s\\mathrm \\ \\frac{1}{s}\\,\\mathrm{d}s)=|x|$\n",
    "\n",
    "$∴在x_0=1,y_0=0时，\\frac{\\partial y}{\\partial x_0}=0,\\frac{\\partial y}{\\partial y_0}=y_0.$\n",
    "\n",
    "$\\bf1.假设函数f(x,y)及$$\\bf\\frac{\\partial f}{\\partial y}$$\\bf都在区域G内连续$，$\\bf又y=\\varphi(x,x_0,y_0)是方程\\frac{dy}{dx}=f(x,y）满足初值条件\\varphi(x_0,x_0,y_0)的解$，试证$\\bf\\frac{\\partial \\varphi}{\\partial y_0}存在且连续，并写出其表达式.$\n",
    "\n",
    "$解：记初值为：(x_0,y_0+\\Delta y)的解为y=\\psi(x,x_0,y_0+\\Delta y),其中|\\Delta y_0|≤\\alpha,\\alpha足够小，$\n",
    "\n",
    "则有：$$\\varphi=y_0+\\int_{x_0}^x\\mathrm f(s,\\varphi(s)\\,\\mathrm{d}s,\\\\\\psi=y_0+\\Delta y_0+\\int_{x_0}^x\\mathrm f(s,\\psi(s)\\,\\mathrm{d}s$$\n",
    "\n",
    "$\\psi-\\varphi=\\Delta y_0+\\int_{x_0}^x\\mathrm [f(s,\\psi(s)-f(s,\\varphi(s)]\\,\\mathrm{d}s\\\\\\quad\\quad=\\Delta y_0+\\int{x_0}^x\\mathrm \\ \\frac{\\partial f(s,\\varphi+\\theta(\\psi-\\varphi))}{\\partial y}(\\psi(x)-\\varphi(x))\\,\\mathrm{d}s,其中\\theta∈[0,1].$\n",
    "\n",
    "$由\\frac{\\partial f}{\\partial}及\\varphi,\\psi的连续性有:$\n",
    "\n",
    "$$\\frac{\\partial f(s,\\varphi+\\theta(\\psi-\\varphi))}{\\partial y}=\\frac{s,\\varphi)}{\\partial y}+r,$$\n",
    "\n",
    "$且\\Delta y_0 \\rightarrow0时r\\rightarrow0,$\\Delta y_0=0时r=0.$\n",
    "\n",
    "即对\\Delta y_0≠0有:$$\\frac{\\psi-\\varphi}{\\Delta y_0}=1+\\int_{x_0}^x\\mathrm [\\frac{f(s,\\varphi)}{\\partial y}+r](\\frac{\\psi-\\varphi}{\\Delta y_0})\\,\\mathrm{d}s$$\n",
    "\n",
    "即z=\\frac{\\psi-\\varphi}{\\Delta y_0}是微分方程初值问题$$\\begin{cases}\\frac{dz}{dx}=[\\frac{s,\\varphi)}{\\partial y}+r]z,\\\\z(x_0)=1\\end{cases}的解，$$\n",
    "\n",
    "也即$\\frac{\\psi-\\varphi}{\\Delta y_0}=z=exp(\\int_{x_0}^x\\mathrm [\\frac{f(s,\\varphi)}{\\partial y}+r]\\,\\mathrm{d}s)$\n",
    "\n",
    "$于是\\frac{\\partial varphi}{\\partial y_0}=\\lim \\limits_{\\Delta y_0 \\rightarrow 0}\\frac{\\psi-\\varphi}{\\Delta y_0}=exp(\\int_{x_0}^x\\mathrm [\\frac{f(s,\\varphi)}{\\partial y}]\\,\\mathrm{d}s),他是x,x_0,y_0的连续函数.$\n",
    "\n",
    "$\\bf4.设y=varphi(x,x_0,y_0,\\lambda)是初值问题$:\n",
    "$$\\bf\\frac{dy}{dx}=sin(\\lambda xy),varphi(x,x_0,y_0,\\lambda)=y_0$$\n",
    "\n",
    "$\\bf的饱和解，这里\\lambda是参数，求\\frac{\\partial \\varphi}{\\partial x_0},\\frac{\\partial \\varphi}{\\partial y_0}在(x,0,0,1）处的表达式.$\n",
    "\n",
    "$解：令f(x,y)=sin(\\lambda xy),\\frac{\\partial \\varphi}{\\partial y}=\\lambda xcos(\\lambda xy).$\n",
    "\n",
    "$由解对初值的可微性定理得;$\n",
    "\n",
    "$$\\frac{\\partial \\varphi}{\\partial x_0}=-f(x_0,y_0)exp(\\int_{x_0}^x\\mathrm \\ \\frac{\\partial f(s,\\varphi)}{\\partial y}\\,\\mathrm{d}s)=-sin(\\lambda x_0y_0)exp(\\int_{x_0}^x\\mathrm \\lambda s cos(\\lambda s \\varphi)\\,\\mathrm{d}s)$$\n",
    "$$\\frac{\\partial \\varphi}{\\partial y_0}=exp(\\int_{x_0}^x\\mathrm \\ \\frac{\\partial f(s,\\varphi)}{\\partial y}\\,\\mathrm{d}s)=exp(\\int_{x_0}^x\\mathrm \\lambda s cos(\\lambda s \\varphi)\\,\\mathrm{d}s)$$\n",
    "\n",
    "$当x_0=0,y_0=0,\\lambda=1时，则有\\frac{\\partial \\varphi}{\\partial x_0}|_{x,0,0,1}=0;$\n",
    "\n",
    "$\\frac{\\partial \\varphi}{\\partial y_0}|_{x,0,0,1}=exp(\\int_0^x\\mathrm s cos0\\,\\mathrm{d}s=exp(\\frac{x^2}{2}).$"
   ]
  },
  {
   "cell_type": "markdown",
   "metadata": {
    "collapsed": true
   },
   "source": [
    " # <font color='red'>A  20/10"
   ]
  },
  {
   "cell_type": "code",
   "execution_count": null,
   "metadata": {
    "collapsed": true
   },
   "outputs": [],
   "source": []
  }
 ],
 "metadata": {
  "kernelspec": {
   "display_name": "SageMath 7.3",
   "language": "",
   "name": "sagemath"
  },
  "language_info": {
   "codemirror_mode": {
    "name": "ipython",
    "version": 2
   },
   "file_extension": ".py",
   "mimetype": "text/x-python",
   "name": "python",
   "nbconvert_exporter": "python",
   "pygments_lexer": "ipython2",
   "version": "2.7.10"
  }
 },
 "nbformat": 4,
 "nbformat_minor": 0
}
