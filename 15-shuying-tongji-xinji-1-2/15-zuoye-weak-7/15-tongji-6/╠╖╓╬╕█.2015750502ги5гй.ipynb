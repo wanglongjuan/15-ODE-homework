{
 "cells": [
  {
   "cell_type": "markdown",
   "metadata": {},
   "source": [
    "                                            常微分作业\n",
    "                                    姓名：谭治港   学号：2015750502"
   ]
  },
  {
   "cell_type": "markdown",
   "metadata": {},
   "source": [
    "$P102T1$\n",
    "\n",
    "$初值为(x_0,y_0+△y_0)的解为y=ψ(x,x_0,y_0+△y_0),\\quad其中|△y_0|≤α，α足够小$\n",
    "\n",
    "$从而就会有φ=y_0+\\int\\limits_{x_0}^x f(s,φ(s)) d s,\\quadψ=y_0+△y_0+\\int\\limits_{x_0}^x f(s,ψ(s)) d s$\n",
    "\n",
    "$即ψ-φ=△y_0+\\int\\limits_{x_0}^x \\frac{\\partial f(s,θ(ψ-φ))}{\\partial y}(ψ(s)-φ(s)) d s,θ∈[0,1],\\quad\\frac{\\partial f(s,θ(ψ-φ))}{\\partial y}=\\frac{\\partial f(s,φ)}{\\partial y}+r,r满足△y_0→0,r→0;△y_0=0,r=0$\n",
    "\n",
    "$对△y_0≠0有，\\frac{ψ-φ}{△y_0}=1+\\int\\limits_{x_0}^x [\\frac{\\partial f(s,φ)}{\\partial y}+r]\\frac{ψ-φ}{△y_0} d s$\n",
    "\n",
    "$即z=\\frac{ψ-φ}{△y_0}是微分方程初值问题$\n",
    "\n",
    "$\n",
    "\\begin{cases}\n",
    "\\frac{dz}{dx}=z[\\frac{\\partial f(s,φ)}{\\partial y}+r]\\\\\n",
    "z(x_0)=1\\\\\n",
    "\\end{cases}\n",
    "的解，即\\frac{ψ-φ}{△y_0}=z=exp{\\int\\limits_{x_0}^x [\\frac{\\partial f(s,φ)}{\\partial y}+r] d s}$\n",
    "\n",
    "$于是，\\frac{\\partial φ}{\\partial y_0}=\\lim_{y_0\\to 0}\\frac{ψ-φ}{△y_0}=exp{\\int\\limits_{x_0}^x [\\frac{\\partial f(s,φ)}{\\partial y}] d s},\\quad它是x,x_0,y_0的连续函数$\n",
    "\n"
   ]
  },
  {
   "cell_type": "markdown",
   "metadata": {},
   "source": [
    "$T2$\n",
    "\n",
    "$因为f(x,y)=P(x)y+Q(x),所以\\frac{\\partial f}{\\partial y}=P(x),\\quad\\frac{\\partial φ}{\\partial x_0}=-f(x_0,y_0)exp[\\int\\limits_{x_0}^x \\frac{\\partial f(s,φ)}{\\partial y} d s]=-[P(x_0)y_0+Q(x_0)]exp[\\int\\limits_{x_0}^x P(s) d s]$\n",
    "\n",
    "$即有\\frac{\\partial φ}{\\partial x}=f(x,φ(x,x_0,y_0))=P(x)φ(x,x_0,y_0)+Q(x)$\n",
    "\n",
    "$又因为非齐次线性方程有解的表达式为\\quad y=e^{\\int P(x) d x}[\\int Q(x)e^{-\\int P(x) d x} d x +c]，\\quad从而有φ(x,x_0,y_0)=y_0e^{\\int\\limits_{x_0}^x P(s) d s}+\\int\\limits_{x_0}^x Q(s)e^{\\int\\limits_{s}^x P(t) d t} d s$\n",
    "\n",
    "$直接对参数求导可得，\\quad\\frac{\\partial φ(x,x_0,y_0)}{\\partial x_0}=-[P(x_0)y_0+Q(x_0)]e^{\\int\\limits_{x_0}^x P(s) d s}$\n",
    "\n",
    "$\\frac{\\partial φ(x,x_0,y_0)}{\\partial y_0}=e^{\\int\\limits_{x_0}^x P(s) d s},\\quad\\frac{\\partial φ(x,x_0,y_0)}{\\partial x}=Q(x)+P(x)φ(x,x_0,y_0)$\n",
    "\n",
    "$经检验，与解对应的可微性定理中的公式一致$"
   ]
  },
  {
   "cell_type": "markdown",
   "metadata": {},
   "source": [
    "$T3$\n",
    "\n",
    "$设f(x,y)=sin(\\frac{y}{x}),\\quad则\\frac{\\partial f}{\\partial y}=\\frac{1}{x}cos(\\frac{y}{x})$\n",
    "\n",
    "$由解对初值的可微性定理的证明可知$\n",
    "\n",
    "$\\frac{\\partial y(x,x_0,y_0)}{\\partial x_0}=-f(x_0,y_0)exp(\\int\\limits_{x_0}^x \\frac{\\partial f(s,y)}{\\partial y} d s)=-sin(\\frac{y_0}{x_0})exp(\\int\\limits_{x_0}^x \\frac{1}{s}cos\\frac{y}{s} d s),\\quad\\frac{\\partial y(x,x_0,y_0)}{\\partial y_0}=exp(\\int\\limits_{x_0}^x \\frac{\\partial f(s,y)}{\\partial y} d s)=exp(\\int\\limits_{x_0}^x \\frac{1}{s}cos\\frac{y}{s} d s)$\n",
    "\n",
    "$而当x_0=1,y_0=0时，对应的得到\\frac{\\partial y(x,x_0,y_0)}{\\partial x_0}|_{x_0=1,y_0=0}=0，\\quad\\frac{\\partial y(x,x_0,y_0)}{\\partial y_0}|_{x_0=1,y_0=0}=exp(\\int\\limits_{1}^x \\frac{1}{s} d s)=|x|$\n",
    "\n",
    "$所以在x_0=1,y_0=0时，\\frac{\\partial y}{\\partial x_0}=0,\\frac{\\partial y}{\\partial y_0}=|x|$\n",
    "\n"
   ]
  },
  {
   "cell_type": "markdown",
   "metadata": {},
   "source": [
    "$T4$\n",
    "\n",
    "$因为f(x,y)=sin(λxy),\\quad\\frac{\\partial f}{\\partial y}=λxcos(λxy)$\n",
    "\n",
    "$\\frac{\\partial φ}{\\partial x_0}=-f(x_0,y_0)exp(\\int\\limits_{x_0}^x \\frac{\\partial f(s,φ)}{\\partial y} d s)=-sin(λx_0y_0)exp(\\int\\limits_{x_0}^x λscos(λsφ) d s),\\quad\\frac{\\partial φ}{\\partial y_0}=exp(\\int\\limits_{x_0}^x \\frac{\\partial f(s,φ)}{\\partial y} d s)=exp(\\int\\limits_{x_0}^x λscos(λsφ) d s)$\n",
    "\n",
    "$当x_0=0,y_0=0,λ=1时，则有\\frac{\\partial φ}{\\partial x_0}|_{x,0,0,1}=0$\n",
    "\n",
    "$即是\\frac{\\partial φ}{\\partial y_0}|_{x,0,0,1}=exp(\\int\\limits_{0}^x s cos0 d s)=exp(\\frac{x^2}{2})$"
   ]
  },
  {
   "cell_type": "markdown",
   "metadata": {
    "collapsed": true
   },
   "source": [
    "# <font color='red'>A  20/10"
   ]
  },
  {
   "cell_type": "code",
   "execution_count": null,
   "metadata": {
    "collapsed": true
   },
   "outputs": [],
   "source": []
  }
 ],
 "metadata": {
  "kernelspec": {
   "display_name": "SageMath 7.3",
   "language": "",
   "name": "sagemath"
  },
  "language_info": {
   "codemirror_mode": {
    "name": "ipython",
    "version": 2
   },
   "file_extension": ".py",
   "mimetype": "text/x-python",
   "name": "python",
   "nbconvert_exporter": "python",
   "pygments_lexer": "ipython2",
   "version": "2.7.10"
  }
 },
 "nbformat": 4,
 "nbformat_minor": 0
}
