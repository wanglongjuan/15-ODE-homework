{
 "cells": [
  {
   "cell_type": "markdown",
   "metadata": {},
   "source": [
    "2.假设函数P(x)和Q(x)于区间[α，β]上连续，$y=φ(x,x_0,y_0)$是方程$\\frac{dy}{dx}=P(x)y+Q(x)$的解，$y_0=φ(x_0,x_0,y_0)$。试求$\\frac{\\partialφ}{\\partial{x_0}},\\frac{\\partialφ}{\\partial y_0},\\frac{\\partialφ}{\\partial x}$,并从解的表达式出发，利用对参数求导的方法，检测所得结果。"
   ]
  },
  {
   "cell_type": "markdown",
   "metadata": {},
   "source": [
    "解：这里f(x,y)=P(x)y+Q(x),$\\frac{\\partial f}{\\partial y}=P(x)$,初始条件为$y_0=φ(x_0,x_0,y_0)$,根据教材中解对初值的可微性定理得  \n",
    "$\\frac{\\partialφ}{\\partial{x_0}}=-f(x_0,y_0)exp(\\int^x_{x_0}\\frac{\\partial{f(x,φ)}}{\\partial y}dx)$  \n",
    "=$-(P(x_0)y_0+Q(x_0))exp(\\int^x_{x_0}P(x)dx)$,  \n",
    "$\\frac{\\partialφ}{\\partial{y_0}}=exp(\\int^x_{x_0}\\frac{\\partial f(x,φ)}{\\partial y}dx)$  \n",
    "=$exp(\\int^x_{x_0}P(x)dx)$,  \n",
    "$\\frac{\\partial φ}{\\partial x}=f(x,φ(x,x_0,y_0))=P(x)φ(x,x_0,y_0)+Q(x).$  \n",
    "我们知道方程$\\frac{dy}{dx}=P(x)y+Q(x)$的通解为  \n",
    "$y=e^{\\int P(x)dx}(\\int Q(x)*e^{-\\int P(x)dx}dx+c)$  \n",
    "而方程$\\frac{dy}{dx}=P(x)y+Q(x)$的具有初始条件$y(x_0)=x_0$的特解可以写成  \n",
    "$y=φ(x,x_0,y_0)=e^{\\int^x_{x_0}P(s)ds}(\\int^x_{x_0}Q(t)e^{\\int^x_{x_0}-P(s)ds}dt+y_0)$  \n",
    "利用对参数求导数的方法可得:  \n",
    "$\\frac{\\partialφ}{\\partial{x_0}}=e^{\\int^x_{x_0}P(s)ds}(-P(x_0))(\\int^x_{x_0}Q(t)e^{\\int^t_{x_0}-P(s)ds}dt+y_0)+e^{\\int^x_{x_0}P(s)dx}[-Q(x_0)e^{\\int^x_{x_0}-P(s)ds}+(\\int^x_{x_0}Q(t)e^{\\int^t_{x_0}-P(s)ds}dt)P(x_0)]$  \n",
    "=$-(P(x_0)y_0+Q(x_0))e^{\\int^x_{x_0}P(s)ds}$,  \n",
    "$\\frac{\\partialφ}{\\partial x}=e^{\\int^x_{x_0}P(s)ds}P(x)(\\int^x_{x_0}Q(t)e^{\\int^t_{x_0}(-P(s))ds}dt+y_0)+e^{\\int^t_{x_0}P(s)ds}Q(x)e^{\\int^t_{x_0}-P(s)ds}$  \n",
    "=P(x)φ+Q(x).  \n",
    "经验证，和前面解出的结论一致。"
   ]
  },
  {
   "cell_type": "markdown",
   "metadata": {},
   "source": [
    " 3.给定方程$\\frac{dy}{dx}=\\sin (\\frac{y}{x})$,试求$\\frac{\\partial y(x,x_0,y_0)}{\\partial x_0},\\frac{\\partial y(x,x_0,y_0)}{\\partial y_0}$在$x_0=1,y_0=0$时的表达式。"
   ]
  },
  {
   "cell_type": "markdown",
   "metadata": {},
   "source": [
    "解：设$f(x,y)=\\sin (\\frac{y}{x}),则\\frac{\\partial f}{\\partial y}=\\frac{1}{x}\\cos (\\frac{y}{x})$,  \n",
    "$\\frac{\\partial y(x,x_0,y_0)}{\\partial x_0}$\n",
    "=$-f(x_0,y_0)exp(\\int^x_{x_0}\\frac{\\partial f(x,φ)}{\\partial y}dx)$  \n",
    "=$-\\sin(\\frac{y_0}{x_0})exp(\\int^x_{x_0}\\frac{1}{x}\\cos \\frac{y}{x}dx)$,  \n",
    "$\\frac{\\partial y(x,x_0,y_0)}{\\partial y_0}=exp(\\int^x_{x_0}\\frac{\\partial f(x,φ)}{\\partial y}dx)$  \n",
    "=$exp(\\int^x_{x_0}\\frac{1}{x}\\cos \\frac{y}{x}dx)$,  \n",
    "当$x_0=1,y_0=0$时，对应地得到  \n",
    "$\\frac{\\partial y(x,x_0,y_0)}{\\partial x_0}|_{x_0=1,y_0=0}=0$  \n",
    "$\\frac{\\partial y(x,x_0,y_0)}{\\partial y_0}|_{x_0=1,y_0=0}=exp(\\int^x_1\\frac{1}{x}dx)=|x|$,  \n",
    "所以，在$x_0=1,y_0=0$时，$\\frac{\\partial y}{\\partial x_0}=0,\\frac{\\partial y}{\\partial y_0}=|x|.$"
   ]
  },
  {
   "cell_type": "markdown",
   "metadata": {},
   "source": [
    "1.假设函数f(x,y)及$\\frac{\\partial f}{\\partial y}$都在区域G内连续，又$y=φ(x,x_0,y_0)$是教材中方程（3.1）满足初始值条件$φ(x_0,x_0,y_0)=y_0$的解，试证$\\frac{\\partial φ}{\\partial y_0}$存在且连续，并写出其表达式。"
   ]
  },
  {
   "cell_type": "markdown",
   "metadata": {},
   "source": [
    "解：教材中解对初值的可微性定理证明了若f(x,y)及$\\frac{\\partial f}{\\partial y}$都在区域G内连续时，方程（3.1）的解$y=φ(x,x_0,y_0)$作为$x,x_0,y_0$的函数在它的存在范围内是连续可微的，这里所谓“连续可微”指的是导函数存在且连续，即$\\frac{\\partial φ}{\\partial x},\\frac{\\partial φ}{\\partial x_0},\\frac{\\partial φ}{\\partial y_0}$都存在，且在解存在的范围内是连续的，本题的已知条件与该定理一致，故完全如定理证明过程一样，可以证明本题中$\\frac{\\partial φ}{\\partial y_0}$存在且连续，并且其表达式为  \n",
    "$\\frac{\\partial φ}{\\partial y_0}=exp(\\int^x_{x_0}\\frac{\\partial f(s,φ)}{\\partial y}dx)$  \n",
    "或者$\\frac{\\partial φ}{\\partial y_0}=exp(\\int^x_{x_0}\\frac{\\partial f(s,φ)}{\\partial y}dx)$"
   ]
  },
  {
   "cell_type": "markdown",
   "metadata": {},
   "source": [
    "4.设$y=φ(x,x_0,y_0,λ）$是初值问题$\\frac{dy}{dx}=\\sin (λxy),φ(x_0,x_0,y_0,λ)=y_0$的饱和解，这里 λ是参数，求$\\frac{\\partial φ}{\\partial x_0},\\frac{\\partial φ}{\\partial y_0}$在(x,0,0,1)处的表达式。"
   ]
  },
  {
   "cell_type": "markdown",
   "metadata": {},
   "source": [
    "解：把λ看成普通的常数。  \n",
    "这里$f(x,y)=\\sin (λxy),\\frac{\\partial f}{\\partial y}=λx\\cos(λxy)$,  \n",
    "根据解对初值的可微性定理可得，  \n",
    "$\\frac{\\partial φ}{\\partial x_0}=-f(x_0,y_0)exp(\\int^x_{x_0}\\frac{\\partial f(x,φ）}{\\partial y}dx)$  \n",
    "=$-\\sin(λx_0y_0)exp(\\int^x_{x_0}λx\\cos(λxφ)dx)$  \n",
    "$\\frac{\\partialφ}{\\partial y_0}=exp(\\int^x_{x_0}\\frac{\\partial f(x,φ)}{\\partial y}dx)$  \n",
    "=$exp(\\int^x_{x_0}λx\\cos(λxφ）dx)$  \n",
    "当$x_0=0,y_0=0,λ=1$时,则有$\\frac{\\partial φ}{\\partial x_0}|_{(x,0,0,1)}=0$  \n",
    "$\\frac{\\partial φ}{\\partial y_0}|_{(x,0,0,1)}=exp(\\int^x_0x\\cos 0dx)=exp(\\frac{x^2}{2})$"
   ]
  },
  {
   "cell_type": "markdown",
   "metadata": {
    "collapsed": true
   },
   "source": [
    "# <font color='red'>A  20/10"
   ]
  },
  {
   "cell_type": "code",
   "execution_count": null,
   "metadata": {
    "collapsed": true
   },
   "outputs": [],
   "source": []
  }
 ],
 "metadata": {
  "kernelspec": {
   "display_name": "SageMath 7.3",
   "language": "",
   "name": "sagemath"
  },
  "language_info": {
   "codemirror_mode": {
    "name": "ipython",
    "version": 2
   },
   "file_extension": ".py",
   "mimetype": "text/x-python",
   "name": "python",
   "nbconvert_exporter": "python",
   "pygments_lexer": "ipython2",
   "version": "2.7.10"
  }
 },
 "nbformat": 4,
 "nbformat_minor": 0
}
