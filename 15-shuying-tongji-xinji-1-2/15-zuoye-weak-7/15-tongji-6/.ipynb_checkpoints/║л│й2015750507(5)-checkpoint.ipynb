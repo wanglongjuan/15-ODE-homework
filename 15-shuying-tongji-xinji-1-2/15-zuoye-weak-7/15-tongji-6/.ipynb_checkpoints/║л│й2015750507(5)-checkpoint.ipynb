{
 "cells": [
  {
   "cell_type": "markdown",
   "metadata": {},
   "source": [
    "$P102.习题3.3$  \n",
    "$1.假设函数f(x,y)及\\frac{\\partial f}{\\partial y}都在区域G内连续，又y=\\varphi (x,x_0,y_0)是教材中方程（3.1）满足初始条件$  \n",
    "$\\varphi (x_0,x_0,y_0)=y_0的解，试证\\frac{\\partial \\varphi}{\\partial y_0}存在且连续，并写出其表达式。$  \n",
    "$解：教材中解对初值的可微性定理是在证明若f(x,y)及\\frac{\\partial f}{\\partial y}都在区域G内连续时，方程(3.1)的解y=\\varphi (x,x_0,y_0)$  \n",
    "$作为x,x_0,y_0的函数在它存在的范围内是连续可微的。其中“连续可微”指的是导函数存在且连续，即\\frac{\\partial \\varphi}{\\partial x},$  \n",
    "$\\frac{\\partial \\varphi}{\\partial x_0},\\frac{\\partial \\varphi}{\\partial y_0}都存在，且在解存在范围内是连续的。故本题的已知条件与$  \n",
    "$该定理一致，故完全如定理证明过程一样，证题中\\frac{\\partial \\varphi}{\\partial y_0}存在且连续，并且其表达式为$  \n",
    "$\\frac{\\partial \\varphi}{\\partial y_0}=exp(\\int x_0^x\\frac{\\partial f(x,\\varphi)}{\\partial y}dx)或者$  \n",
    "$\\frac{\\partial \\varphi}{\\partial y_0}=exp(\\int x_0^x\\frac{\\partial f(s,\\varphi)}{\\partial y}dx)$  "
   ]
  },
  {
   "cell_type": "markdown",
   "metadata": {},
   "source": [
    "$2.假设函数P(x)和Q(x)于区间[\\alpha,\\beta]上连续，y=\\varphi (x,x_0,y_0)是方程\\frac{dy}{dx}=P(x)y+Q(x)的解，y_0=\\varphi (x_0,x_0,y_0),$  \n",
    "$试求\\frac{\\partial \\varphi}{\\partial x_0},\\frac{\\partial \\varphi}{\\partial y_0},\\frac{\\partial \\varphi}{\\partial x}，并从解的表达式中$  \n",
    "$出发，利用对参数求导数的方法，检验所得结果。$  \n",
    "$解：这里f(x.y)=P(x)y+Q(x),\\frac{\\partial f}{\\partial y}=P(x),初始条件为y_0=\\varphi (x_0,x_0,y_0).根据解对初值的可微性定理可得$  \n",
    "$\\frac{\\partial \\varphi}{\\partial x_0}=-f(x_0,y_0)exp(\\int x_0^x\\frac{\\varphi f(s,\\varphi)}{\\varphi y}dx)$  \n",
    "$                               \\quad =-(P(x_0)y_0+Q(x_0))exp(\\int x_0^x P(x)dx),$  \n",
    "$\\frac{\\partial \\varphi}{\\partial x_0}=exp(\\int x_0^x \\frac{\\varphi f(s,\\varphi)}{\\varphi y}dx)$  \n",
    "$                               \\quad =exp(\\int x_0^x P(x)dx)$  \n",
    "$\\frac{\\partial \\varphi}{\\partial x_0}=f(x,\\varphi(x,x_0,y_0))=P(x)\\varphi (x,x_0,y_0)+Q(x)$  \n",
    "$又可知方程\\frac{dy}{dx}=P(x)y+Q(x)的通解为y=e^\\int {x_0}^x P(x)dx(\\int Q(x)·e^\\int -P(x)dx dx+c)$  \n",
    "$而方程\\frac{dy}{dx}=P(x)y+Q(x)的具有初始条件y(x_0)=x_0的特解可以写成y=\\varphi (x,x_0,y_0)=e^\\int {x_0}^x P(s)ds(\\int {x_0}^x Q(t)·e^\\int {x_0}^x -P(s)ds·dt+y_0)$  \n",
    "$利用可得参数导数的方法可得$  \n",
    "$\\frac{\\partial \\varphi}{\\partial x_0}=e^\\int {x_0}^xP(s)ds·(-P(x_0))(\\int {x_0}^xQ(t)·e^\\int {x_0}^x -P(s)ds·dt+y_0)+e^\\int x_0^x P(s)ds[-Q(x_0)e^\\int x_0^x-P(s)ds+(\\int x_0^x Q(t)e^\\int {x_0}^x -P(s)ds·dt)\\times P(x_0)]$  \n",
    "$                               \\quad =-(P(x_0)y_0+Q(x_0))e^\\int x_0^x P(s)ds$  \n",
    "$                               \\quad \\frac{\\partial \\varphi}{\\partial y_0}=e^\\int {x_0}^x P(s)ds$  \n",
    "$               \\quad \\frac{\\partial \\varphi}{\\partial x}=e^\\int {x_0}^xP(s)ds·P(x)·(\\int {x_0}^x Q(t)·e^\\int {x_0}^x - P(s)ds·dt+y_0)+e^\\int {x_0}^x P(s)ds·Q(x)·e^\\int {x_0}^x -P(s)ds$  \n",
    "$                               \\quad =P(x)\\varphi+Q(x)$  \n",
    "$则与前面解出的结论一致$  "
   ]
  },
  {
   "cell_type": "markdown",
   "metadata": {},
   "source": [
    "$3.给定方程\\frac{dy}{dx}=\\sin (\\frac{y}{x}),试求\\frac{\\partial y(x,x_0,y_0)}{\\partial x_0},\\frac{\\partial y(x,x_0,y_0)}{\\partial y_0}在x_0=1,y_0=0时的表达式$  \n",
    "$解：设f(x,y)=\\sin (\\frac{y}{x}),则\\frac{\\partial f}{\\partial y}=\\frac{1}{x}\\cos (\\frac{y}{x})$  \n",
    "$由解对初值的可微性定理的证明可得\\frac{\\partial y(x,x_0,y_0)}{\\partial x_0}=-f(x_0,y_0)exp(\\int {x_0}^x \\frac{\\partial f(x,\\varphi)}{\\partial y}dx)$  \n",
    "$                     \\quad =-\\sin (\\frac{y_0}{x_0})exp(\\int {x_0}^x \\frac{1}{x}\\cos \\frac{y}{x}dx)$  \n",
    "$\\frac{\\partial y(x,x_0,y_0)}{\\partial y_0}=exp(\\int {x_0}^x \\frac{\\partial f(x,\\varphi)}{\\partial y}dx)$  \n",
    "$                     \\quad =exp(\\int {x_0}^x \\frac{1}{x}\\cos \\frac{y}{x}dx)$  \n",
    "$当x_0=1,y_0=0时，对应得到$  \n",
    "$\\frac{\\partial y(x,x_0,y_0)}{\\partial x_0}|_{x_0=1,y_0=0}=0,$  \n",
    "$\\frac{\\partial y(x,x_0,y_0)}{\\partial y_0}|_{x_0=1,y_0=0}=exp(\\int 1^x \\frac{1}{x}dx)=|x|$  \n",
    "$所以，在x_0=1,y_0=0时，\\frac{\\partial y}{\\partial x_0}=0,\\frac{\\partial y}{\\partial y_0}=|x|$  "
   ]
  },
  {
   "cell_type": "markdown",
   "metadata": {},
   "source": [
    "$4.设y=\\varphi(x,x_0,y_0,\\lambda)是初值问题\\frac{dy}{dx}=\\sin (\\lambda xy),\\varphi(x_0,x_0,y_0,\\lambda)=y_0的饱和解，这里\\lambda是参数，求\\frac{\\partial \\varphi}{\\partial x_0},\\frac{\\partial \\varphi}{\\partial y_0}在（x,0,0,1）处的表达式。$  \n",
    "$解：设f(x,y)=\\sin (\\lambda xy),\\frac{\\partial f}{\\partial y}=\\lambda x\\cos (\\lambda xy)$  \n",
    "$根据解对初值的可微性定理可得$  \n",
    "$\\frac{\\partial \\varphi}{\\partial x_0}=-f(x_0,y_0)exp(\\int {x_0}^x \\frac{\\partial f(x,\\varphi)}{\\partial y}dx)$  \n",
    "$                               \\quad =-\\sin (\\lambda x_0,y_0)exp(\\int {x_0}^x \\lambda x\\cos (\\lambda x \\varphi)dx)$  \n",
    "$\\frac{\\partial \\varphi}{\\partial y_0}=exp(\\int {x_0}^x \\frac{\\partial f(x,\\varphi)}{\\partial y}dx)$  \n",
    "$                               \\quad =exp(\\int {x_0}^x \\lambda x \\cos (\\lambda x \\varphi)dx)$  \n",
    "$当x_0=0,y_0=1时，则有\\frac{\\partial \\varphi}{\\partial x_0}|_{x,0,0,1}=0,$  \n",
    "$\\frac{\\partial \\varphi}{\\partial y_0}|_{x,0,0,1}=exp(\\int 0^x x\\cos 0 dx)=exp(\\frac{x^2}{2})$  "
   ]
  },
  {
   "cell_type": "markdown",
   "metadata": {
    "collapsed": true
   },
   "source": [
    "# <font color='red'>A  20/10"
   ]
  },
  {
   "cell_type": "code",
   "execution_count": null,
   "metadata": {
    "collapsed": true
   },
   "outputs": [],
   "source": []
  }
 ],
 "metadata": {
  "kernelspec": {
   "display_name": "SageMath 7.3",
   "language": "",
   "name": "sagemath"
  },
  "language_info": {
   "codemirror_mode": {
    "name": "ipython",
    "version": 2
   },
   "file_extension": ".py",
   "mimetype": "text/x-python",
   "name": "python",
   "nbconvert_exporter": "python",
   "pygments_lexer": "ipython2",
   "version": "2.7.10"
  }
 },
 "nbformat": 4,
 "nbformat_minor": 0
}
