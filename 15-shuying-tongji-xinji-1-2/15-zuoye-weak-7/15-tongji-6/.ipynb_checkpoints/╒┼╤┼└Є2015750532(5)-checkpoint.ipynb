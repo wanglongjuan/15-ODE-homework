{
 "cells": [
  {
   "cell_type": "markdown",
   "metadata": {},
   "source": [
    "$P102页1、假设函数f(x,y)及\\frac{\\partial f}{\\partial y}都在区域G内连续，又y=φ(x,x_0,y_0)是方程\\frac{dy}{dx}=f(x,y)满足初值条件φ(x,x_0,y_0)=y_0的解,试证\\frac{\\partialφ}{\\partial y_0}存在且连续,$\n",
    "$并写出其表达式。$\n",
    "\n",
    "$解:记初值为(x_0,y_0+δy_0)的解为y=ψ(x,x_0,y_0+δy_0),其中\\midδy_0\\mid\\leqα,α足够小,则有$\n",
    "\n",
    "$φ=y_0+\\int_{x_0}^{x} \\mathrm f(s,φ(s))\\,\\mathrm{d}s,ψ=y_0+δy_0+\\int_{x_0}^{x} \\mathrm f(s,ψ(s))\\,\\mathrm{d}s$\n",
    "\n",
    "$ψ-φ=δy_0+\\int_{x_0}^{x} \\mathrm [f(s,ψ(s))-f(s,φ(s))]\\,\\mathrm{d}s$\n",
    "\n",
    "$=δy_0+\\int_{x_0}^{x} \\mathrm {\\frac{\\partial f(s,φ+θ(ψ-φ))}{\\partial y}(ψ(s)-φ(s))}\\,\\mathrm{d}s,其中θ∈[0,1]$\n",
    "\n",
    "$由\\frac{\\partial f}{\\partial y}及ψ、φ的连续性,有\\frac{\\partial f(s,φ+θ(ψ-φ))}{\\partial y}=\\frac{\\partial f(s,φ)}{\\partial y}+r,$\n",
    "$其中r满足δy_0→0时r→0,δy_0=0时r=0$\n",
    "\n",
    "$即对δy_0≠0有\\frac{ψ-φ}{δy_0}=1+\\int_{x_0}^{x} \\mathrm {[\\frac{\\partial f(s,φ)}{\\partial y}+r]\\frac{ψ-φ}{δy_0}}\\,\\mathrm{d}s$\n",
    "\n",
    "$即z=\\frac{ψ-φ}{δy_0}时微分方程初值问题\\begin{cases}\\frac{dz}{dx}=[\\frac{\\partial f(s,φ)}{\\partial y}+r]z\\\\z(x_0)=1\\end{cases}的解$\n",
    "\n",
    "$即\\frac{ψ-φ}{δy_0}=z=exp{\\int_{x_0}^{x} \\mathrm {[\\frac{\\partial f(s,φ)}{\\partial y}+r]}\\,\\mathrm{d}s}$\n",
    "\n",
    "$于是\\frac{\\partial φ}{\\partial y_0}=\\lim_{\\substack{δy_0→0\\\\}}\\frac{ψ-φ}{δy_0}=exp{\\int_{x_0}^{x} \\mathrm [\\frac{\\partial f(s,φ)}{\\partial y}]\\,\\mathrm{d}s}$\n",
    "\n",
    "$它是x,x_0,y_0的连续函数。$"
   ]
  },
  {
   "cell_type": "markdown",
   "metadata": {},
   "source": [
    "$2、假设函数P(x)和Q(x)于区间[α,β]上连续,y=φ(x,x_0,y_0)是方程\\frac{dy}{dx}=P(x)y+Q(x)的解,y_0=φ(x_0,x_0,y_0).$\n",
    "$试求\\frac{\\partialφ}{\\partial x_0},\\frac{\\partialφ}{\\partial y_0}及\\frac{\\partialφ}{\\partial x},并从解的表达式出发，利用对参数求导数的方法，检验所得结果。$\n",
    "\n",
    "$解:由于f(x,y)=p(x)y+Q(x),所以\\frac{\\partial f}{\\partial y}=p(x).$\n",
    "\n",
    "$由解对初值的可微性定理得\\frac{\\partialφ}{\\partial x_0}=-f(x_0,y_0)exp[\\int_{x_0}^{x} \\mathrm {\\frac{\\partial f(s,φ)}{\\partial y}}\\,\\mathrm{d}s]=-[p(x_0)y_0+Q(x_0)]exp[\\int_{x_0}^{x} \\mathrm P(s)\\,\\mathrm{d}s]$\n",
    "\n",
    "$\\frac{\\partialφ}{\\partial y_0}=exp[\\int_{x_0}^{x} \\mathrm {\\frac{\\partial f(s,φ)}{\\partial y}}\\,\\mathrm{d}s]=exp[\\int_{x_0}^{x} \\mathrm P(s)\\,\\mathrm{d}s]$\n",
    "\n",
    "$\\frac{\\partialφ}{\\partial x}=f(x,φ(x,x_0,y_0))=P(x)φ(x,x_0,y_0)+Q(x)$\n",
    "\n",
    "$因为非齐次线性方程有解的表达式为y=e^{\\int\\mathrm P(x)\\,\\mathrm{d}x}[\\int\\mathrm Q(x)e^{-\\int\\mathrm P(x)\\,\\mathrm{d}x}\\,\\mathrm{d}x+c]$\n",
    "\n",
    "$于是φ(x,x_0,y_0)=y_0e^{\\int_{x_0}^{x} \\mathrm P(s)\\,\\mathrm{d}s}+\\int_{x_0}^{x} \\mathrm {Q(s)e^{\\int_s^x \\mathrm P(t)\\,\\mathrm{d}t}}\\,\\mathrm{d}s$\n",
    "\n",
    "$直接对参数求导可得,\\frac{\\partialφ(x,x_0,y_0)}{\\partial x_0}=-P(x_0)y_0e^{\\int_{x_0}^{x} \\mathrm P(s)\\,\\mathrm{d}s}-Q(x_0)e^{\\int_{x_0}^{x} \\mathrm P(s)\\,\\mathrm{d}s}=-[P(x_0)y_0+Q(x_0)]e^{\\int_{x_0}^{x} \\mathrm P(s)\\,\\mathrm{d}s}$\n",
    "\n",
    "$\\frac{\\partialφ(x,x_0,y_0)}{\\partial y_0}=e^{\\int_{x_0}^{x} \\mathrm P(s)\\,\\mathrm{d}s}$\n",
    "\n",
    "$\\frac{\\partialφ(x,x_0,y_0)}{\\partial x}=P(x)y_0e^{\\int_{x_0}^{x} \\mathrm P(s)\\,\\mathrm{d}s}+Q(x)+\\int_{x_0}^{x} \\mathrm {P(x)Q(s)e^{\\int_s^x \\mathrm P(t)\\,\\mathrm{d}t}}\\,\\mathrm{d}s$\n",
    "\n",
    "$=P(x)[y_0e^{\\int_{x_0}^{x} \\mathrm P(s)\\,\\mathrm{d}s}+\\int_{x_0}^{x} \\mathrm {Q(s)e^{\\int_s^x \\mathrm P(t)\\,\\mathrm{d}t}}\\,\\mathrm{d}s]+Q(x)$\n",
    "\n",
    "$=P(x)φ(x,x_0,y_0)+Q(x)$\n",
    "\n",
    "$经检验，与解对初值的可微性定理中的公式一致.$"
   ]
  },
  {
   "cell_type": "markdown",
   "metadata": {},
   "source": [
    "$3、给定方程\\frac{dy}{dx}=\\sin(\\frac{y}{x}),试求\\frac{\\partial y(x,x_0,y_0)}{\\partial x_0},\\frac{\\partial y(x,x_0,y_0)}{\\partial y_0}在x_0=1,y_0=1时的表达式。$\n",
    "\n",
    "$解：设f(x,y)=\\sin(\\frac{y}{x}),则\\frac{\\partial f}{\\partial y}=\\frac{1}{x}\\cos(\\frac{y}{x}).$\n",
    "\n",
    "$由解对初值的可微性定理的证明可知,\\frac{\\partial y(x,x_0,y_0)}{\\partial x_0}=-f(x_0,y_0)exp(\\int_{x_0}^{x} \\mathrm {\\frac{\\partial f(s,y)}{\\partial y}}\\,\\mathrm{d}s)=-\\sin(\\frac{y_0}{x_0})exp(\\int_{x_0}^{x} \\mathrm {\\frac{1}{s}\\cos(\\frac{y}{s})}\\,\\mathrm{d}s)$\n",
    "\n",
    "$\\frac{\\partial y(x,x_0,y_0)}{\\partial y_0}=exp(\\int_{x_0}^{x} \\mathrm {\\frac{\\partial f(s,y)}{\\partial y}}\\,\\mathrm{d}s)=exp(\\int_{x_0}^{x} \\mathrm {\\frac{1}{s}\\cos(\\frac{y}{s})}\\,\\mathrm{d}s)$\n",
    "\n",
    "$当x_0=1,y_0=0时，对应地得到{\\frac{\\partial y(x,x_0,y_0)}{\\partial x_0}}\\mid_{x_0=1,y_0=0}=0$\n",
    "\n",
    "${\\frac{\\partial y(x,x_0,y_0)}{\\partial y_0}}\\mid_{x_0=1,y_0=0}=exp(\\int_1^x \\mathrm {\\frac{1}{s}}\\,\\mathrm{d}s)=\\mid x\\mid$\n",
    "\n",
    "$所以在x_0=1,y_0=0时,\\frac{\\partial y}{\\partial x_0}=0,\\frac{\\partial y}{\\partial y_0}=\\mid x\\mid$"
   ]
  },
  {
   "cell_type": "markdown",
   "metadata": {},
   "source": [
    "$4、设y=φ(x,x_0,y_0,λ)是初值问题\\frac{dy}{dx}=\\sin(λxy),φ(x,x_0,y_0,λ)=y_0的饱和解,这里λ是参数,求\\frac{\\partialφ}{\\partial x_0},\\frac{\\partialφ}{\\partial y_0}在(x,0,0,1)处的表达式。$\n",
    "\n",
    "$解:这里f(x,y)=\\sin(λxy),\\frac{\\partial f}{\\partial y}=λx\\cos(λxy)$\n",
    "\n",
    "$由解对初值的可微性定理得,\\frac{\\partialφ}{\\partial x_0}=-f(x_0,y_0)exp(\\int_{x_0}^{x} \\mathrm {\\frac{\\partial f(s,y)}{\\partial y}}\\,\\mathrm{d}s)=-\\sin(λx_0y_0)exp(\\int_{x_0}^{x} \\mathrm λs\\cos(λsφ)\\,\\mathrm{d}s)$\n",
    "\n",
    "$\\frac{\\partialφ}{\\partial y_0}=exp(\\int_{x_0}^{x} \\mathrm {\\frac{\\partial f(s,y)}{\\partial y}}\\,\\mathrm{d}s)=exp(\\int_{x_0}^{x} \\mathrm λs\\cos(λsφ)\\,\\mathrm{d}s)$\n",
    "\n",
    "$当x_0=0,y_0=0,λ=1时,则有(\\frac{\\partialφ}{\\partial x_0})\\mid_{(x,0,0,1)}=0$\n",
    "\n",
    "$(\\frac{\\partialφ}{\\partial y_0})\\mid_{(x,0,0,1)}=exp(\\int_0^x \\mathrm s\\cos 0\\,\\mathrm{d}s)=exp(\\frac{x^2}{2})$"
   ]
  },
  {
   "cell_type": "markdown",
   "metadata": {},
   "source": [
    "# <font color='red'>A＋  20/10"
   ]
  },
  {
   "cell_type": "code",
   "execution_count": null,
   "metadata": {
    "collapsed": true
   },
   "outputs": [],
   "source": []
  }
 ],
 "metadata": {
  "kernelspec": {
   "display_name": "SageMath 7.3",
   "language": "",
   "name": "sagemath"
  },
  "language_info": {
   "codemirror_mode": {
    "name": "ipython",
    "version": 2
   },
   "file_extension": ".py",
   "mimetype": "text/x-python",
   "name": "python",
   "nbconvert_exporter": "python",
   "pygments_lexer": "ipython2",
   "version": "2.7.10"
  }
 },
 "nbformat": 4,
 "nbformat_minor": 0
}
