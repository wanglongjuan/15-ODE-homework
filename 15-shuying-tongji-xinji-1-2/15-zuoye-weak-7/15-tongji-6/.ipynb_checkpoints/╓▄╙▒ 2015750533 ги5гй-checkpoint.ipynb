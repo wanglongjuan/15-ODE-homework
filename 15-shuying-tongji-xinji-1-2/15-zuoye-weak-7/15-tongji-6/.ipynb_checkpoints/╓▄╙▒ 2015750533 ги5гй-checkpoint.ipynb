{
 "cells": [
  {
   "cell_type": "markdown",
   "metadata": {},
   "source": [
    "# $常微分方程作业（5）$"
   ]
  },
  {
   "cell_type": "markdown",
   "metadata": {},
   "source": [
    "$\\bf P102.T1$\n",
    "\n",
    "$假设函数f(x,y)及\\frac{\\partial f}{\\partial y}都在区域G内连续，又y=\\phi (x,x_0,y_0)是方程(3.1)满足初值条件$\n",
    "$ \\phi (x_0,x_0,y_0)=y_0的解，试证\\frac{\\partial \\phi}{\\partial y_0}存在且连续，并写出其表达式$\n",
    "\n"
   ]
  },
  {
   "cell_type": "markdown",
   "metadata": {},
   "source": [
    "$\\bf 解：$\n",
    "\n",
    "$由初值(x_0,y_0)和(x_0,y_0+\\Delta y_0)(|\\Delta y_0|\\leq \\alpha，\\alpha为足够小正数）所确定的方程解分别为$\n",
    "\n",
    "$\\phi=y_0+\\int_{x_0}^x \\mathrm{f(s,\\phi(s)}\\,\\mathrm{d}s$\n",
    "\n",
    "$\\psi=y_0+\\Delta y_0+\\int_{x_0}^x \\mathrm{f(s,\\psi(s)}\\,\\mathrm{d}s$\n",
    "\n",
    "$\\therefore \\psi-\\phi=\\Delta y_0+\\int_{x_0}^x \\mathrm{[f(s,\\psi(s)-f(s,\\phi(s)}\\,\\mathrm{d}s$\n",
    "\n",
    "$\\quad \\quad \\quad =\\Delta y_0+\\int_{x_0}^x \\mathrm{\\frac{\\partial f(s,\\phi+\\theta(\\psi-\\phi))}{\\partial y}(\\psi(s)-\\phi(s)}\\,\\mathrm{d}s$\n",
    "\n",
    "$其中0<\\theta<1$\n",
    "\n",
    "$由\\frac{\\partial f}{\\partial y}及\\phi,\\psi的连续性$\n",
    "\n",
    "$得到\\frac{\\partial f(s,\\phi+\\theta(\\psi-\\phi))}{\\partial y}=\\frac{\\partial f(s,\\phi)}{\\partial y}+r$\n",
    "\n",
    "$(当\\Delta y_0)→0时，r→0,当\\Delta y_0=0，r=0)$\n",
    "\n",
    "$\\frac{\\psi-\\phi}{\\Delta y_0}=1+\\int_{x_0}^x \\mathrm (\\frac{\\partial f(s,\\phi)}{\\partial y}+r)\\frac{\\psi-\\phi}{\\Delta y_0}\\,\\mathrm{d}s$\n",
    "\n",
    "$z=\\frac{\\psi-\\phi}{\\Delta y_0}是微分方程初值问题$\n",
    "$$\\begin {cases}\n",
    "   \\frac{dz}{dx}=[\\frac{\\partial f(s,\\phi)}{\\partial y}+r]z\\\\\n",
    "   z(x_0)=1\n",
    "   \\end{cases} $$\n",
    "   $的解$\n",
    "   \n",
    "   $\\frac{\\psi-\\phi}{\\Delta y_0}=z=exp{\\int_{x_0}^x \\mathrm (\\frac{\\partial f(s,\\phi)}{\\partial y}+r)\\,\\mathrm{d}s}$\n",
    "   \n",
    "   $\\therefore \\frac{\\partial \\phi}{\\partial y_0}=lim\\frac{\\psi-\\phi}{\\Delta y_0}(\\Delta y_0→0)=exp{\\int_{x_0}^x \\mathrm [\\frac{\\partial f(s,\\phi)}{\\partial y}]\\,\\mathrm{d}s}$\n",
    "   \n",
    "   \n",
    "   "
   ]
  },
  {
   "cell_type": "markdown",
   "metadata": {},
   "source": [
    "$\\bf P103.T2$\n"
   ]
  },
  {
   "cell_type": "markdown",
   "metadata": {},
   "source": [
    "$假设函数P(x)和Q(x)于区间[\\alpha, \\beta]上连续，y=\\phi (x,x_0,y_0)是方程$\n",
    "$$ \\frac{dy}{dx}=P(x)y+Q(x)$$\n",
    "$ 的解，y_0=\\phi (x_0,x_0,y_0).$\n",
    "$ 试求\\frac{\\partial \\phi}{\\partial x_0},\\frac{\\partial \\phi}{\\partial y_0},\\frac{\\partial \\phi}{\\partial x}，$\n",
    "$ 并从解的表达时出发，利用对参数求导数的方法，检验所得结果.$"
   ]
  },
  {
   "cell_type": "markdown",
   "metadata": {},
   "source": [
    "$\\bf 解：$\n",
    "\n",
    "$f(x,y)=\\frac{dy}{dx}=P(x)y+Q(x)$\n",
    "\n",
    "$\\therefore \\frac{\\partial f}{\\partial y}=P(x)$\n",
    "\n",
    "$由\\frac{\\partial \\phi}{\\partial x_0}=-f(x_0,y_0)exp(\\int_{x_0}^x \\mathrm{\\frac{\\partial f(x,\\phi)}{\\partial y}}\\,\\mathrm{d}x)$\n",
    "\n",
    "$\\frac{\\partial y(x,x_0,y_0)}{\\partial(y_0)}=exp(\\int_{x_0}^x \\mathrm{\\frac{\\partial f(x,\\phi)}{\\partial y}}\\,\\mathrm{d}x),$\n",
    "\n",
    "$\\frac{\\partial \\phi}{\\partial x}=f(x,\\phi(x,x_0,y_0))$\n",
    "\n",
    "$\\therefore \\frac{\\partial \\phi}{\\partial x_0} =-f(x_0,y_0)exp(\\int_{x_0}^x \\mathrm{\\frac{\\partial f(s,\\phi)}{\\partial y}}\\,\\mathrm{d}s)=-[P(x_0)y_0+Q(x_0)]exp(\\int_{x_0}^x \\mathrm P(s)\\,\\mathrm{d}s)$\n",
    "\n",
    "$\\therefore \\frac{\\partial y(x,x_0,y_0)}{\\partial(y_0)}=exp(\\int_{x_0}^x \\mathrm{\\frac{\\partial f(s,\\phi)}{\\partial y}}\\,\\mathrm{d}s)=exp(\\int_{x_0}^x \\mathrm P(s)\\,\\mathrm{d}s)$\n",
    "\n",
    "$\\therefore \\frac{\\partial \\phi}{\\partial x}=P(x)\\phi(x,x_0,y_0)+Q(x)$\n",
    "\n",
    "$y={e}^{\\int\\mathrm{P(x)}\\,\\mathrm{d}x}(\\int\\mathrm{Q(x)}{e}^{\\int\\mathrm {-P(x)}\\,\\mathrm{d}x}\\,\\mathrm{d}x+c)$\n",
    "\n",
    "$\\therefore \\phi(x,x_0,y_0)=y_0e^{\\int_{x_0}^x\\mathrm P(s)\\,\\mathrm{d}s}+\\int_{x_0}^x\\mathrm Q(s)e^{\\int_s^x\\mathrm P(t)\\,\\mathrm{d}t}\\,\\mathrm{d}s$\n",
    "\n",
    "$对参数求导$\n",
    "\n",
    "$\\frac{\\partial y(x,x_0,y_0)}{\\partial(x_0)}=-P(x_0)(y_0)e^{\\int_{x_0}^x\\mathrm P(s)\\,\\mathrm{d}s}-Q(x_0)e^{\\int_{x_0}^x\\mathrm P(s)\\,\\mathrm{d}s}=-[P(x_0)(y_0)+Q(x_0)]e^{\\int_{x_0}^x\\mathrm P(s)\\,\\mathrm{d}s}$\n",
    "\n",
    "$\\frac{\\partial y(x,x_0,y_0)}{\\partial(y_0)}=e^{\\int_{x_0}^x\\mathrm P(s)\\,\\mathrm{d}s}$\n",
    "\n",
    "$\\frac{\\partial y(x,x_0,y_0)}{\\partial x}=P(x)(y_0)e^{\\int_{x_0}^x\\mathrm P(s)\\,\\mathrm{d}s}+Q(x)+\\int_{x_0}^x\\mathrm P(x)Q(s)e^{\\int_s^x\\mathrm P(t)\\,\\mathrm{d}t}\\,\\mathrm{d}s$\n",
    "\n",
    "$=P(x)[(y_0)e^{\\int_{x_0}^x\\mathrm P(s)\\,\\mathrm{d}s}+\\int_{x_0}^x\\mathrm Q(s)e^{\\int_s^x\\mathrm P(t)\\,\\mathrm{d}t}\\,\\mathrm{d}s]+Q(x)$\n",
    "\n",
    "$=P(x)\\phi (x_0,x_0,y_0)+Q(x)$\n",
    "\n",
    "$与上述通过解对初值的可微性定理得到的解相等$\n",
    "\n",
    "\n"
   ]
  },
  {
   "cell_type": "markdown",
   "metadata": {},
   "source": [
    "$\\bf P103.T3$\n",
    "\n",
    "$ 给定方程$\n",
    "$$ \\frac{dy}{dx}=\\sin (\\frac{y}{x}),$$\n",
    "\n",
    "$ 试求\\frac{\\partial y(x,x_0,y_0)}{\\partial(x_0)},\\frac{\\partial y(x,x_0,y_0)}{\\partial(y_0)}在x_0=1,y_0=0时的表达式.$"
   ]
  },
  {
   "cell_type": "markdown",
   "metadata": {},
   "source": [
    "$\\bf 解：$\n",
    "\n",
    "$f(x,y)=\\frac{dy}{dx}=\\sin (\\frac{y}{x})$\n",
    "\n",
    "$\\therefore \\frac{\\partial f}{\\partial y}=\\frac{1}{x}\\cos (\\frac{y}{x})$\n",
    "\n",
    "$由\\frac{\\partial \\phi}{\\partial x_0}=-f(x_0,y_0)exp(\\int_{x_0}^x \\mathrm{\\frac{\\partial f(x,\\phi)}{\\partial y}}\\,\\mathrm{d}x)$\n",
    "\n",
    "$\\therefore \\frac{\\partial y(x,x_0,y_0)}{\\partial(x_0)}=-f(x_0,y_0)exp(\\int_{x_0}^x \\mathrm{\\frac{\\partial f(s,y)}{\\partial y}}\\,\\mathrm{d}s)=-\\sin (\\frac{y_0}{x_0})exp(\\int_{x_0}^x \\mathrm{\\frac{1}{s}\\cos \\frac{y}{s}}\\,\\mathrm{d}s),$\n",
    "\n",
    "$\\therefore \\frac{\\partial y(x,x_0,y_0)}{\\partial(y_0)}=exp(\\int_{x_0}^x \\mathrm{\\frac{\\partial f(s,y)}{\\partial y}}\\,\\mathrm{d}s)=exp(\\int_{x_0}^x \\mathrm{\\frac{1}{s}\\cos \\frac{y}{s}}\\,\\mathrm{d}s)$\n",
    "\n",
    "$当x_0=1,y_0=0$\n",
    "\n",
    "$\\frac{\\partial y(x,x_0,y_0)}{\\partial(x_0)}=0$\n",
    "\n",
    "$\\frac{\\partial y(x,x_0,y_0)}{\\partial(y_0)}=c=|x|$\n",
    "\n",
    "$\\therefore 在x_0=1,y_0=0处$\n",
    "\n",
    "$\\frac{\\partial y}{\\partial x_0}=0,\\frac{\\partial y}{\\partial y_0}=|x|$"
   ]
  },
  {
   "cell_type": "markdown",
   "metadata": {},
   "source": [
    "$\\bf P103.T4$\n",
    "\n",
    "$  设y=\\phi (x,x_0,y_0，λ)是初值问题$\n",
    "$$ \\frac{dy}{dx}=\\sin (λxy),\\phi (x_0,x_0,y_0，λ)=y_0$$\n",
    "$ 的饱和解，这里λ是参数，求\\frac{\\partial \\phi}{\\partial x_0}，\\frac{\\partial \\phi}{\\partial y_0}在（x,0,0,1）处的表达式$"
   ]
  },
  {
   "cell_type": "markdown",
   "metadata": {},
   "source": [
    "$\\bf 解：$\n",
    "\n",
    "$f(x,y)=\\frac{dy}{dx}=\\sin (λxy)$\n",
    "\n",
    "$\\therefore \\frac{\\partial f}{\\partial y}=λx\\cos (λxy)$\n",
    "\n",
    "$\\frac{\\partial \\phi}{\\partial x_0} =-f(x_0,y_0)exp(\\int_{x_0}^x \\mathrm{\\frac{\\partial f(s,\\phi)}{\\partial y}}\\,\\mathrm{d}s)=-\\sin (λx_0y_0)exp(\\int_{x_0}^x \\mathrm{λs\\cos (λs\\phi)}\\,\\mathrm{d}s$\n",
    "\n",
    "$\\frac{\\partial y(x,x_0,y_0)}{\\partial(y_0)}=exp(\\int_{x_0}^x \\mathrm{\\frac{\\partial f(s,\\phi)}{\\partial y}}\\,\\mathrm{d}s)=exp(\\int_{x_0}^x \\mathrm{λs\\cos (λs\\phi)}\\,\\mathrm{d}s)$\n",
    "\n",
    "$当x_0=0,y_0=0，λ=1时$\n",
    "\n",
    "$\\frac{\\partial \\phi}{\\partial(x_0)}=0$\n",
    "\n",
    "$\\frac{\\partial \\phi}{\\partial(y_0)}=exp(\\int_0^x \\mathrm{s\\cos 0}\\,\\mathrm{d}s)=exp\\frac{x^2}{2}$"
   ]
  },
  {
   "cell_type": "markdown",
   "metadata": {},
   "source": [
    "# <font color='red'>A  20/10"
   ]
  },
  {
   "cell_type": "code",
   "execution_count": null,
   "metadata": {
    "collapsed": true
   },
   "outputs": [],
   "source": []
  }
 ],
 "metadata": {
  "kernelspec": {
   "display_name": "SageMath 7.3",
   "language": "",
   "name": "sagemath"
  },
  "language_info": {
   "codemirror_mode": {
    "name": "ipython",
    "version": 2
   },
   "file_extension": ".py",
   "mimetype": "text/x-python",
   "name": "python",
   "nbconvert_exporter": "python",
   "pygments_lexer": "ipython2",
   "version": "2.7.10"
  }
 },
 "nbformat": 4,
 "nbformat_minor": 0
}
