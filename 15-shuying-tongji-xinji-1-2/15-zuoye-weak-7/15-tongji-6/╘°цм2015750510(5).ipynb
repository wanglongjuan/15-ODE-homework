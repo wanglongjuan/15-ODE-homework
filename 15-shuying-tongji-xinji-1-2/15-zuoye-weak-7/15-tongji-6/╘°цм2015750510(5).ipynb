{
 "cells": [
  {
   "cell_type": "markdown",
   "metadata": {},
   "source": [
    "2.假设函数$P(x)$和$Q(x)$于区间$[α,β]$上连续，$y=φ(x,x_0,y_0)$是方程$$\\frac{dy}{dx}=P(x)y+Q(x)$$的解,$y_0=φ(x_0,x_0,y_0)$.试求$\\frac{\\partial φ}{\\partial x_0}$,$\\frac{\\partial φ}{\\partial y_0}$及$\\frac{\\partial φ}{\\partial x}$,并从解的表达式出发，利用对参数求导数的方法，检验所得结果。"
   ]
  },
  {
   "cell_type": "markdown",
   "metadata": {},
   "source": [
    "解：这里$f(x,y)=P(x)y+Q(x)$,$\\frac{\\partial f}{\\partial y}=P(x)$,初始条件为$y_0=φ(x_0,x_0,y_0).$  \n",
    "根据解对初值的可微性定理可得  \n",
    "\\begin{align}\n",
    "\\frac{\\partial φ}{\\partial x_0}&=-f(x_0,y_0)exp(\\int_{x_0}^x \\frac{\\partial f(s,φ)}{\\partial y}dx)\\\\   \n",
    "&=-(P(x_0)y_0+Q(x_0))exp(\\int_{x_0}^xP(x)dx),  \n",
    "\\end{align}\n",
    "\\begin{align}\n",
    "\\frac{\\partial φ}{\\partial y_0}&=exp(\\int_{x_0}^x\\frac{\\partial f(s,φ)}{\\partial y}dx)\\\\    \n",
    "&=exp(\\int_{x_0}^xP(x)dx),   \n",
    "\\end{align}\n",
    "$$\\frac{\\partial φ}{\\partial x_0}=f(x,φ(x,x_0,y_0))=P(x)φ(x,x_0,y_0)+Q(x).$$"
   ]
  },
  {
   "cell_type": "markdown",
   "metadata": {},
   "source": [
    "又可知方程$\\frac{dy}{dx}=P(x)y+Q(x)$的通解为  \n",
    "$$y=e^{\\int P(x)dx}(\\int Q(x)*e^{\\int-P(x)dx}dx+c).$$"
   ]
  },
  {
   "cell_type": "markdown",
   "metadata": {},
   "source": [
    "而方程$\\frac{dy}{dx}=P(x)y+Q(x)$的具有初始条件$y(x_0)=x_0$的特解可以写成  \n",
    "$$y=φ(x,x_0,y_0)=e^{\\int_{x_0}^x P(s)ds}(\\int_{x_0}^xQ(t)*e^{\\int_{x_0}^x -P(s)ds}dt+y_0),$$"
   ]
  },
  {
   "cell_type": "markdown",
   "metadata": {},
   "source": [
    "利用可得参数导数的方法可得  \n",
    "\\begin{align}\n",
    "\\frac{\\partial φ}{\\partial x_0}&= e^{\\int_{x_0}^x P(s)ds}*(-P(x_0))(\\int_{x_0}^xQ(t)*e^{\\int_{x_0}^x -P(s)ds}dt+y_0)+e^{\\int_{x_0}^x P(s)ds}[-Q(x_0)e^{\\int_{x_0}^x -P(s)ds}+(\\int_{x_0}^x Q(t)*e^{\\int_{x_0}^x -P(s)ds}dt)*P(x_0)] \\\\ \n",
    "&=-(P(x_0)y_0+Q(x_0))e^{\\int_{x_0}^x P(s)ds},  \n",
    "\\end{align}"
   ]
  },
  {
   "cell_type": "markdown",
   "metadata": {},
   "source": [
    "$$\\frac{\\partial φ}{\\partial y_0}=e^{\\int_{x_0}^x P(s)ds}$$"
   ]
  },
  {
   "cell_type": "markdown",
   "metadata": {},
   "source": [
    "\\begin{align}\n",
    "\\frac{\\partial φ}{\\partial x}&=e^{\\int_{x_0}^x P(s)ds}*P(x)*(\\int_{x_0}^xQ(t)*e^{\\int_{x_0}^x -P(s)ds}dt+y_0)+e^{\\int_{x_0}^x P(s)ds}*Q(x)*e^{\\int_{x_0}^x -P(s)ds} \\\\\n",
    "&=P(x)φ+Q(x)  \n",
    "\\end{align}\n",
    "则与前面解出的结论一致"
   ]
  },
  {
   "cell_type": "markdown",
   "metadata": {},
   "source": [
    "3.给定方程$$\\frac{dy}{dx}=sin(\\frac{y}{x}),$$  \n",
    "试求$\\frac{\\partial y(x,x_0,y_0)}{\\partial x_0},\\frac{\\partial y(x,x_0,y_0)}{\\partial y_0}$在$x_0=1,y_0=0$时的表达式。"
   ]
  },
  {
   "cell_type": "markdown",
   "metadata": {},
   "source": [
    "解：设$f(x,y)=sin(\\frac{y}{x})$,则$\\frac{\\partial f}{\\partial y}=\\frac{1}{x}cos(\\frac{y}{x})$,由解对初值的可微性定理的证明可得 "
   ]
  },
  {
   "cell_type": "markdown",
   "metadata": {},
   "source": [
    "\\begin{align}\n",
    "\\frac{\\partial y(x,x_0,y_0)}{\\partial x_0}&=-f(x_0,y_0)exp(\\int_{x_0}^x \\frac{\\partial f(x,φ)}{\\partial y}dx)\\\\     \n",
    "&=-sin(\\frac{y_0}{x_0})exp(\\int_{x_0}^x \\frac{1}{x}cos{\\frac{y}{x}dx}),  \n",
    "\\end{align}"
   ]
  },
  {
   "cell_type": "markdown",
   "metadata": {},
   "source": [
    "\\begin{align}\n",
    "\\frac{\\partial y(x,x_0,y_0)}{\\partial y_0}&=exp(\\int_{x_0}^x \\frac{\\partial f(x,φ)}{\\partial y}dx)\\\\    \n",
    "&=exp(\\int_{x_0}^x \\frac{1}{x}cos{\\frac{y}{x}dx})  \n",
    "\\end{align}"
   ]
  },
  {
   "cell_type": "markdown",
   "metadata": {},
   "source": [
    "当$x_0=1,y_0=0$时，对应得到  \n",
    "$$\\frac{\\partial y(x,x_0,y_0)}{\\partial x_0}=0,$$  \n",
    "$$\\frac{\\partial y(x,x_0,y_0)}{\\partial y_0}=exp(\\int_1^x \\frac{1}{x}dx)=|x|$$  \n",
    "所以，在$x_0=1,y_0=0$时，$\\frac{\\partial y}{\\partial x_0}=0,\\frac{\\partial y}{\\partial y_0}=|x|$"
   ]
  },
  {
   "cell_type": "markdown",
   "metadata": {
    "collapsed": true
   },
   "source": [
    "1.假设函数$f(x,y)$及$\\frac{\\partial f}{\\partial y}$都在区域G内连续，又$y=φ(x,x_0,y_0)$是教材中方程（3.1）满足初始条件$φ(x,x_0,y_0)=y_0$的解，试证$\\frac{\\partial φ}{\\partial x_0}$存在且连续，并写出其表达式。"
   ]
  },
  {
   "cell_type": "markdown",
   "metadata": {},
   "source": [
    "解：设由初值$(x_0,y_0)$和$(x_0+Δx_0,y_0)$（$|Δx_0|\\leqα，α$为足够小正数）所确定的方程的解分别为  \n",
    "$$y=φ(x,x_0,y_0)=φ$$  \n",
    "和$$y=φ(x,x_0+Δx_0,y_0)=ψ$$"
   ]
  },
  {
   "cell_type": "markdown",
   "metadata": {},
   "source": [
    "即$$φ=y_0+\\int_{x_0}^x f(x,φ)dx$$   "
   ]
  },
  {
   "cell_type": "markdown",
   "metadata": {},
   "source": [
    "和$$ψ=y_0+\\int_{x_0+Δx_0}^x f(x,ψ)dx$$ "
   ]
  },
  {
   "cell_type": "markdown",
   "metadata": {},
   "source": [
    "于是  \n",
    "\\begin{align}  \n",
    "ψ-φ&=\\int_{x_0+Δx_0}^x f(x,ψ)dx-\\int_{x_0}^x f(x,φ)dx\\\\  \n",
    "&=-\\int_{x_0}^{x_0+Δx_0} f(x,ψ)dx+\\int_{x_0}^x \\frac{\\partial f(x,φ+θ(ψ-φ))}{\\partial y}(ψ-φ)dx\n",
    "\\end{align}"
   ]
  },
  {
   "cell_type": "markdown",
   "metadata": {},
   "source": [
    "其中$0<θ<1$，注意到$\\frac{\\partial f}{\\partial y}$及$φ,ψ$的连续性，我们有  \n",
    "$$\\frac{\\partial f(x,φ+θ(ψ-φ))}{\\partial y}=\\frac{\\partial f(x,φ)}{\\partial y}+r_1$$"
   ]
  },
  {
   "cell_type": "markdown",
   "metadata": {},
   "source": [
    "这里$r_1$具有性质：当$Δx_0 \\rightarrow 0$时$r_1\\rightarrow 0$，且当$Δx_0=0$时$r_1=0$.类似地，有  \n",
    "$$-\\frac{1}{Δx_0}\\int_{x_0}^{x_0+Δx_0} f(x,ψ)dx=-f(x_0,y_0)+r_2$$"
   ]
  },
  {
   "cell_type": "markdown",
   "metadata": {},
   "source": [
    "其中$r_2$与$r_1$具有相同性质，因此对$Δx_0\\not=0$有  \n",
    "$$\\frac{ψ-φ}{Δx_0}=[-f(x_0,y_0)+r_2]+\\int_{x_0}^x[\\frac{\\partial f(x,φ)}{\\partial y}+r_1]\\frac{ψ-φ}{Δx_0}dx$$"
   ]
  },
  {
   "cell_type": "markdown",
   "metadata": {},
   "source": [
    "即$$z=\\frac{ψ-φ}{Δx_0}$$"
   ]
  },
  {
   "cell_type": "markdown",
   "metadata": {},
   "source": [
    "是初值问题$$\\begin{cases}  \n",
    "\\frac{dz}{dx}=[\\frac{\\partial f(x,φ)}{\\partial y}+r_1]z\\\\  \n",
    "z(x_0)=-f(x_0,y_0)+r_2=z_0\n",
    "\\end{cases}$$"
   ]
  },
  {
   "cell_type": "markdown",
   "metadata": {},
   "source": [
    "的解，在这里$Δx_0\\not=0$被看成参数.显然，当$Δx_0=0$时上述初值问题仍然有解.根据解对初值和参数的连续性定理，知$\\frac{ψ-φ}{Δx_0}$是$x,x_0,z_0,Δx_0$的连续函数，从而存在  \n",
    "$$\\lim_{Δx→0}\\frac{ψ-φ}{Δx_0}\\equiv \\frac{\\partial φ}{\\partial x_0}$$"
   ]
  },
  {
   "cell_type": "markdown",
   "metadata": {},
   "source": [
    "而$\\frac{\\partial φ}{\\partial x_0}$是初值问题$$\\begin{cases}    \n",
    "\\frac{dz}{dx}=\\frac{\\partial f(x,φ)}{\\partial y}z\\\\    \n",
    "z(x_0)=-f(x_0,y_0)  \n",
    "\\end{cases}$$"
   ]
  },
  {
   "cell_type": "markdown",
   "metadata": {},
   "source": [
    "的解，不难求得  \n",
    "$$\\frac{\\partial φ}{\\partial x_0}=-f(x_0,y_0)exp(\\int_{x_0}^x \\frac{\\partial f(x,φ)}{\\partial y}dx)$$  \n",
    "显然它是$x,x_0,y_0$的连续函数"
   ]
  },
  {
   "cell_type": "markdown",
   "metadata": {},
   "source": [
    "4.设$y=φ(x,x_0,y_0,λ)$是初值问题$\\frac{dy}{dx}=sin(λxy),φ(x_0,x_0,y_0,λ)=y_0$的饱和解，这里$λ$是参数，求$\\frac{\\partial φ}{\\partial x_0},\\frac{\\partial φ}{\\partial y_0}$在(x,0,0,1)处的表达式."
   ]
  },
  {
   "cell_type": "markdown",
   "metadata": {},
   "source": [
    "解：这里$f(x,y)=sin(λxy)$,$\\frac{\\partial f}{\\partial x}=λxcos(λxy)$,"
   ]
  },
  {
   "cell_type": "markdown",
   "metadata": {},
   "source": [
    "根据解对初值的可微性定理可得，\\begin{align}  \n",
    "\\frac{\\partial φ}{\\partial x_0}&=-f(x_0,y_0)exp(\\int_{x_0}^x \\frac{\\partial f(x,φ)}{\\partial y}dx)\\\\  \n",
    "&=-sin(λx_0,y_0)exp(\\int_{x_0}^x λxcos(λxφ)dx)\n",
    "\\end{align}"
   ]
  },
  {
   "cell_type": "markdown",
   "metadata": {},
   "source": [
    "\\begin{align}  \n",
    "\\frac{\\partial φ}{\\partial y_0}&=exp(\\int_{x_0}^x \\frac{\\partial f(x,φ)}{\\partial y}dx)\\\\  \n",
    "&=exp(\\int_{x_0}^x λxcos(λxφ)dx)\n",
    "\\end{align}"
   ]
  },
  {
   "cell_type": "markdown",
   "metadata": {},
   "source": [
    "当$x_0=0,y_0=0,λ=1$时，则有$$\\frac{\\partial φ}{\\partial x_0}=0$$  \n",
    "$$\\frac{\\partial φ}{\\partial y_0}=exp(\\int_0^x xcos0dx)=exp(\\frac{x^2}{2})$$"
   ]
  },
  {
   "cell_type": "markdown",
   "metadata": {
    "collapsed": true
   },
   "source": [
    "# <font color='red'>A  20/10"
   ]
  },
  {
   "cell_type": "code",
   "execution_count": null,
   "metadata": {
    "collapsed": true
   },
   "outputs": [],
   "source": []
  }
 ],
 "metadata": {
  "kernelspec": {
   "display_name": "SageMath 7.3",
   "language": "",
   "name": "sagemath"
  },
  "language_info": {
   "codemirror_mode": {
    "name": "ipython",
    "version": 2
   },
   "file_extension": ".py",
   "mimetype": "text/x-python",
   "name": "python",
   "nbconvert_exporter": "python",
   "pygments_lexer": "ipython2",
   "version": "2.7.10"
  }
 },
 "nbformat": 4,
 "nbformat_minor": 0
}
