{
 "cells": [
  {
   "cell_type": "markdown",
   "metadata": {},
   "source": [
    "# $$常微分作业5$$\n",
    "## 班级：统计学\n",
    "## 姓名：高思捷\n",
    "## 学号：2015750119"
   ]
  },
  {
   "cell_type": "markdown",
   "metadata": {},
   "source": [
    "## 一、假设函数$f(x,y)及\\frac{\\partial f}{\\partial y}$都在区域G内连续，又$y=\\varphi(x,x_0,y_0)$是方程(3.1)满足初值条件$\\varphi(x,x_0,y_0)=y_0$的解，试证$\\frac{\\partial \\varphi}{\\partial y_0}$存在且连续，并写出其表达式。"
   ]
  },
  {
   "cell_type": "markdown",
   "metadata": {},
   "source": [
    "解：\n",
    "\n",
    "记初值为$(x_0,y_0+△y_0)的解为y=\\psi(x,x_0,y_0+△y_0)$，\n",
    "\n",
    "若$|△y_0|$足够小，有\n",
    "\n",
    "$\\varphi=y_0+\\int_{x_0}^x f(x,\\varphi)\\mathrm dx,\\psi=y_0+△y_0+\\int_{x_0}^x f(x,\\psi)\\mathrm dx$\n",
    "\n",
    "则$\\varphi-\\psi=△y_0+\\int_{x_0}^x[f(x,\\psi)-f(x,\\varphi)]\\mathrm dx=△y_0+\\int_{x_0}^x[\\frac{\\partial f(x,\\varphi+θ(\\psi-\\varphi))}{\\partial y}(\\psi-\\varphi)]\\mathrm dx$    (0≤θ≤1)\n",
    "\n",
    "由$\\frac{\\partial f}{\\partial y},\\varphi,\\psi的连续性得$\n",
    "\n",
    "$\\frac{\\partial f(x,\\varphi+θ(\\psi-\\varphi))}{\\partial y}=\\frac{\\partial f(x,\\varphi)}{\\partial y}+r$\n",
    "\n",
    "当$△y_0→0 时r→0，△y_0=0时r=0$\n",
    "\n",
    "对$△y_0≠0$时，有\n",
    "\n",
    "$\\frac{\\psi-\\varphi}{△y_0}=1+\\int_{x_0}^x[\\frac{\\partial f(x,\\varphi)}{\\partial y}+r]\\frac{\\psi-\\varphi}{△y_0}\\mathrm dx$"
   ]
  },
  {
   "cell_type": "markdown",
   "metadata": {},
   "source": [
    "即$z=\\frac{\\psi-\\varphi}{△y_0}是微分方程初值问题$\n",
    "\n",
    "$\\begin{cases}\n",
    "          \\frac{dz}{dx}=[\\frac{\\partial f(x,\\varphi)}{\\partial y}+r]z\\\\\n",
    "          z(x_0)=1\\\\\n",
    "          \\end{cases}$"
   ]
  },
  {
   "cell_type": "markdown",
   "metadata": {},
   "source": [
    "的解，即有\n",
    "\n",
    "$\\frac{\\psi-\\varphi}{△y_0}$=z=exp{$\\int_{x_0}^x[\\frac{\\partial f(x,\\varphi)}{\\partial y}+r]\\mathrm dx$}"
   ]
  },
  {
   "cell_type": "markdown",
   "metadata": {},
   "source": [
    "则 $\\frac{\\partial \\varphi}{\\partial y_0}$=$lim_{△y_0→0}\\frac{\\psi-\\varphi}{△y_0}$=exp{$\\int_{x_0}^x[\\frac{\\partial f(x,\\varphi)}{\\partial y}+r]\\mathrm dx$}"
   ]
  },
  {
   "cell_type": "markdown",
   "metadata": {},
   "source": [
    "即为$x,x_0,y_0的连续函数$"
   ]
  },
  {
   "cell_type": "markdown",
   "metadata": {},
   "source": [
    "## 二、假设函数P(x）和Q（x）于区间$[\\alpha,\\beta]$上连续，$y=\\varphi(x,x_0,y_0)$是方程$\\frac{dy}{dx}=P(x)y+Q(x)$的解，$y_0=\\varphi(x_0,x_0,y_0)$,试求$\\frac{\\partial\\varphi}{\\partial x_0},\\frac{\\partial\\varphi}{\\partial y_0},\\frac{\\partial\\varphi}{\\partial x},$并从解的表达式出发，利用参数求导数的方法，检验结果。"
   ]
  },
  {
   "cell_type": "markdown",
   "metadata": {},
   "source": [
    "解：\n",
    "\n",
    "由解对初值的可微性定理可得\n",
    "\n",
    "$\\frac{\\partial \\varphi}{\\partial x_0}=-f(x_0,y_0)exp[\\int_{x_0}^x {\\partial f(x,\\varphi) \\over \\partial y }{d}x]=-(P(x_0)y_0+Q(x_0))exp[\\int_{x_0}^x {P(x) }{d}x]$\n",
    "\n",
    "$\\frac{\\partial \\varphi}{\\partial y_0}=exp\\int_{x_0}^x {\\partial f(x,\\varphi) \\over \\partial y }{d}x=exp\\int_{x_0}^x P(x){d}x$\n",
    "\n",
    "$\\frac{\\partial \\varphi}{\\partial x}=f(x,\\varphi(x,x_0,y_0))=P(x)\\varphi(x,x_0,y_0)+Q(x)$\n",
    "\n",
    "方程$\\frac{dy}{dx}=P(x)y+Q(x)$的通解为$y=e^{\\int P(x){d}x}(\\int Q(x)e^{-\\int P(x){d}x}+c)$\n",
    "\n",
    "当$y(x_0)=y_0$时有$y=e^{\\int_{x_0}^x P(s){d}s}(\\int_{x_0}^x Q(t)e^{-\\int_{x_0}^x  P(s){d}s}+y_0)$\n",
    "\n",
    "参数法，\n",
    "\n",
    "${\\partial \\varphi \\over \\partial x_0}=-(P(x_0) e^{\\int_{x_0}^x P(s){d}s}(\\int_{x_0}^x Q(t)e^{-\\int_{x_0}^x  P(s){d}s}+y_0)  +Q(x_0))exp[\\int_{x_0}^x {P(x) }{d}x]$\n",
    "\n",
    "$=-P(x_0) e^{\\int_{x_0}^x P(s){d}s}(\\int_{x_0}^x Q(t) e^{\\int_{x_0}^x -P(s){d}s}y_0)+e^{\\int_{x_0}^x P(s){d}s}[-Q(x_0)e^{\\int_{x_0}^x -P(s){d}s}+(\\int_{x_0}^x Q(t) e^{\\int_{x_0}^x -P(s){d}s}{d}t)P(x_0)]$\n",
    "\n",
    "$=-(P(x_0)y_0+Q(x_0)e^{\\int_{x_0}^x P(s){d}s})$\n",
    "\n",
    "$\\frac{\\partial \\varphi}{\\partial y_0}=exp\\int_{x_0}^x P(x){d}x$\n",
    "\n",
    "$\\frac{\\partial \\varphi}{\\partial x}=e^{\\int_{x_0}^x P(s){d}s}P(x)(\\int_{x_0}^x Q(t)e^{-\\int_{x_0}^x  P(s){d}s}+y_0)+e^{\\int_{x_0}^x }Q(x)e^{\\int_{x_0}^x -P(s){d}s }$\n",
    "\n",
    "$=P(x)\\varphi+Q(x)$"
   ]
  },
  {
   "cell_type": "markdown",
   "metadata": {},
   "source": [
    "## 三、给定方程$\\frac{dy}{dx}=\\sin(\\frac{y}{x})$，试求$\\frac{\\partial y(x,x_0,y_0)}{\\partial x_0},\\frac{\\partial y(x,x_0,y_0)}{\\partial y_0}$在$x_0=1,y_0=0$时的表达式。"
   ]
  },
  {
   "cell_type": "markdown",
   "metadata": {},
   "source": [
    "解：\n",
    "\n",
    "设$f(x,y)=sin({ y \\over x})$，则${\\partial f \\over \\partial y}={1\\over x}cos{y\\over x}$\n",
    "\n",
    "$\\frac{\\partial y(x,x_0,y_0)}{\\partial x_0}=-f(x_0,y_0)exp(\\int_{x_0}^x {\\partial f(x,\\varphi) \\over \\partial y }{d}x)=-sin({y_0 \\over x_0})exp(\\int_{x_0}^x {1\\over x}cos{y\\over x}{d}x)=0$\n",
    "\n",
    "$\\frac{\\partial y(x,x_0,y_0)}{\\partial y_0}=exp\\int_{x_0}^x {\\partial f(x,\\varphi) \\over \\partial y }{d}x=exp(\\int_{x_0}^x {1\\over x}cos{y\\over x}{d}x)$"
   ]
  },
  {
   "cell_type": "markdown",
   "metadata": {},
   "source": [
    "## 四、设$y=\\varphi(x,x_0,y_0,\\lambda)$是初值问题\n",
    "\n",
    "${dy \\over dx}=sin(\\lambda xy)$\n",
    "\n",
    "$\\varphi (x_0,x_0,y_0,\\lambda)=y_0$\n",
    "\n",
    "的饱和解，这里$\\lambda$是参数，求${\\partial \\varphi \\over \\partial x_0}$ , ${\\partial \\varphi \\over \\partial y_0}$在$(x,0,0,1)$处的表达式"
   ]
  },
  {
   "cell_type": "markdown",
   "metadata": {},
   "source": [
    "解：\n",
    "\n",
    "设$f(x,y)=sin(\\lambda xy)$\n",
    "\n",
    "则${\\partial f \\over \\partial y}=\\lambda x cos(\\lambda xy)$\n",
    "\n",
    "${\\partial \\varphi \\over \\partial x_0}=-f(x_0,y_0)exp(\\int_{x_0}^x {\\partial f(x,\\varphi) \\over \\partial y }{d}x)=-sin(\\lambda x_0 y_0)exp(\\int_{x_0}^x {\\lambda x cos(\\lambda x \\varphi)}{d}x)=0$\n",
    "\n",
    "${\\partial \\varphi \\over \\partial y_0}=exp\\int_{x_0}^x {\\partial f(x,\\varphi) \\over \\partial y }{d}x=exp\\int_{x_0}^x \\lambda x cos(\\lambda x \\varphi){d}x=exp\\int_0^x xcos0 {d}x=exp({1\\over 2}x^2)$"
   ]
  },
  {
   "cell_type": "markdown",
   "metadata": {
    "collapsed": true
   },
   "source": [
    "# <font color='red'>A＋ 20/10"
   ]
  },
  {
   "cell_type": "code",
   "execution_count": null,
   "metadata": {
    "collapsed": true
   },
   "outputs": [],
   "source": []
  }
 ],
 "metadata": {
  "kernelspec": {
   "display_name": "SageMath 7.3",
   "language": "",
   "name": "sagemath"
  },
  "language_info": {
   "codemirror_mode": {
    "name": "ipython",
    "version": 2
   },
   "file_extension": ".py",
   "mimetype": "text/x-python",
   "name": "python",
   "nbconvert_exporter": "python",
   "pygments_lexer": "ipython2",
   "version": "2.7.10"
  }
 },
 "nbformat": 4,
 "nbformat_minor": 0
}
