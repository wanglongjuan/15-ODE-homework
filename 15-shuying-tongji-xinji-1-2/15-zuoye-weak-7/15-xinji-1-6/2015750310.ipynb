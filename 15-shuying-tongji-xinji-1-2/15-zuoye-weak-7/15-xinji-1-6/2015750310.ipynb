{
 "cells": [
  {
   "cell_type": "markdown",
   "metadata": {
    "collapsed": true
   },
   "source": [
    "1 解：$$记初值为(x_0,y_0+Δy_0)的解为y=ψ(x,x_0,y_0+Δy_0),其中|Δy_0|≤α，α足够小，则有γ=y_0+\\int_{x_0}^x{f(s,γ(s))}\\,{\\rm d}s$$"
   ]
  },
  {
   "cell_type": "markdown",
   "metadata": {},
   "source": [
    "$$ψ-γ=Δy_0+\\int_{x_0}^x{[f(s,ψ(s))-f(s,γ(s))]}\\,{\\rm d}s$$"
   ]
  },
  {
   "cell_type": "markdown",
   "metadata": {},
   "source": [
    "$$由\\frac{\\partial f}{\\partial y}及ψ，γ的连续性，有\\frac{\\partial f(s,γ+θ（ψ—γ）)}{y}=\\frac{\\partial f(s,γ)}{y}+r，其中r满足：Δy_0\\rightarrow0时r\\rightarrow0,Δy_0=0时r=0，即对Δy_0≠o有\\frac{ψ-γ}{Δy_0}=1+\\int_{x_0}{x}{[\\frac{f(s,γ)}{y}+r]\\frac{ψ-γ}{Δy_0}\\,{\\rm d}s}$$"
   ]
  },
  {
   "cell_type": "markdown",
   "metadata": {},
   "source": [
    "$$即z=\\frac{ψ-γ}{Δy_0}是微分方程初值问题\\frac{dz}{dx}=[\\frac{\\partial f(x,γ)}{y}+r]z,z(x_0)=1的解，即\\frac{ψ-γ}{Δy_0}=z=exp{\\int_{x_0}^x{[\\frac{\\partial f(s,γ)}{\\partial y}+r]}\\,{\\rm d}s},于是\\frac{\\partial γ}{\\partial y_0}=exp{\\int_{x_0}^x{[\\frac{\\partial f(s,γ)}{\\partial y}]\\,{\\rm d}s}}$$"
   ]
  },
  {
   "cell_type": "markdown",
   "metadata": {},
   "source": [
    "2  解：$$f(x,y)=P(x)y+Q(x),所以有\\frac{\\partial f}{\\partial y}=P(x),所以有\\frac{\\partial \\varphi}{\\partial x_{0}}=[-P(x_{0})y_{0}-Q(x_{0})]exp\\int_{x_{0}}^{x}{P(s) d s}\\frac{\\partial \\varphi}{\\partial y_{0}}=exp[\\int_{x_{0}}^{x}{P(s) d s}]\\frac{\\partial \\varphi}{\\partial x}=f(x,\\varphi(x,x_{0},y_{0}))=P(x)\\varphi(x,x_{0},y_{0})+Q(x)所以有\\varphi(x,x_{0},y_{0})=y_{0}e^{\\int_{x_{0}}^{x}{P(s) d s}}+\\int_{x_{0}}^{x}{Q(s)e^{\\int_s^x{P(t) d t}} d s}\\frac{\\partial \\varphi(x,x_{0},y_{0})}{\\partial x_{0}}=-[P(x_{0})y_{0}+Q(x_{0})]e^{\\int_s^x{P(s) d s}}\\frac{\\partial \\varphi}{\\partial y_{0}}=e^{\\int_{x_{0}}^{x}}{P(s) d s}\\frac{\\partial \\varphi}{\\partial x}=P(x)\\varphi(x,x_{0},y_{0})+Q(x),证毕$$"
   ]
  },
  {
   "cell_type": "markdown",
   "metadata": {},
   "source": [
    "3  解：$$设f(x,y)=sin(\\frac{y}{x}),则\\frac{\\partial f}{\\partial y}=\\frac{1}{x}cos(\\frac{y}{x}).由解对初值的可微性定理的证明可知，$$\n",
    "     $$\\frac{\\partial y(x,x_0,y_0)}{\\partial x_0}$$\n",
    "     $$=-f(x_0,y_0)exp(\\int_{x_0}^x{\\frac{\\partial f(s,y)}{y}\\,{\\rm d}s})=-sin(frac{y_0}{x_0})exp(\\int_{x_0}^x{\\frac{1}{s}cos(\\frac{y}{s})}\\,{\\rm d}s)$$"
   ]
  },
  {
   "cell_type": "markdown",
   "metadata": {},
   "source": [
    "$\\frac{\\partial y(x,x_{0},y_{0})}{\\partial y_{0}}=exp\\int_{x_{0}}^x{\\frac{1}{s}cos\\frac{y}{s} d s},当x_{0}=1,y_{0}=0 ,\\frac{\\partial y}{\\partial x_{0}}=0,\\frac{\\partial y}{\\partial y_{0}}=\\mid{x} \\mid$"
   ]
  },
  {
   "cell_type": "markdown",
   "metadata": {},
   "source": [
    "4  解:$$f(x,y)=sin(xy\\lambda),\\frac{\\partial f}{\\partial y}=\\lambda x cps(\\lambda xy),由微分初值定理可得\\frac{\\partial \\varphi}{\\partial x_{0}}=-sin(\\lambda x_{0}y_{0})exp\\int_{x_0}^{x}{{\\lambda}scos({\\lambda}s\\varphi) d s}\\frac{\\partial \\varphi}{\\partial y_{0}}=exp\\int_{x_0}^{x}{\\lambda{scos(\\lambda{s{\\varphi}})} d s},当x_{0}=0,y_{0}=0,\\lambda=1,有\\frac{\\partial \\varphi}{\\partial x_{0}}|_{(x,0,0,1)} =0,\\frac{\\partial \\varphi}{\\partial y_{0}}|_{(x,0,0,1)} =e^{\\frac{x^2}{2}}$$"
   ]
  },
  {
   "cell_type": "markdown",
   "metadata": {
    "collapsed": true
   },
   "source": [
    " # <font color='red'>A  20/10"
   ]
  },
  {
   "cell_type": "code",
   "execution_count": null,
   "metadata": {
    "collapsed": true
   },
   "outputs": [],
   "source": []
  }
 ],
 "metadata": {
  "kernelspec": {
   "display_name": "SageMath 7.3",
   "language": "",
   "name": "sagemath"
  },
  "language_info": {
   "codemirror_mode": {
    "name": "ipython",
    "version": 2
   },
   "file_extension": ".py",
   "mimetype": "text/x-python",
   "name": "python",
   "nbconvert_exporter": "python",
   "pygments_lexer": "ipython2",
   "version": "2.7.10"
  }
 },
 "nbformat": 4,
 "nbformat_minor": 0
}
