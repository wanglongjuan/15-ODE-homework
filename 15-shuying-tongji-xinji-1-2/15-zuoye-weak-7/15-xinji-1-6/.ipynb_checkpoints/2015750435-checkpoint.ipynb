{
 "cells": [
  {
   "cell_type": "markdown",
   "metadata": {},
   "source": [
    "1.假设函数$f(x,y)$及$\\frac{\\partial f}{\\partial y}$都在区域G内连续，又$y=φ(x,x_0,y_0)$是方程（3.1）满足初值条件$φ(x_0,x_0,y_0)=y_0$的解，试证$\\frac{\\partial φ}{\\partial y_0}$存在且连续，并写出其表达式."
   ]
  },
  {
   "cell_type": "markdown",
   "metadata": {},
   "source": [
    "解:教材中解对初值的可微性定理是在证明若$f(x,y)$j及$\\frac{\\partial f}{\\partial y}$都在区域G内连续时，方程（3.1）的解$y=φ(x,x_0,y_0)$作为$x,x_0,y_0$的函数在它存在的范围内是连续可微的.其中“连续可微”指的是导函数存在且连续，即$\\frac{\\partial φ}{\\partial x}$$\\frac{\\partial φ}{\\partial x_0}$$\\frac{\\partial φ}{\\partial y_0}$都存在，且在解存在范围内是连续的.本题的已知条件与该定理一致，故完全如定理证明过程一样，证题中$\\frac{\\partial φ}{\\partial y_0}$存在且连续，并且其表达式为$\\frac{\\partial φ}{\\partial y_0}=exp(\\int_{x_0}^x\\frac{\\partial f(x,φ)}{\\partial y}\\mathrm dx)$"
   ]
  },
  {
   "cell_type": "markdown",
   "metadata": {},
   "source": [
    "2.假设函数P(x)和Q(x)于区间[α，β]上连续，$y=φ(x,x_0,y_0)$是方程$\\frac{\\mathrm dy}{\\mathrm dx}=P(x)y+Q(x)$的解，$y_0=φ(x_0,x_0,y_0)$.试求$\\frac{\\partial φ}{\\partial x_0}$,$\\frac{\\partial φ}{\\partial y_0}$及$\\frac{\\partial φ}{\\partial x}$,并从解的表达式出发，利用对参数求导数的方法，检验所得结果."
   ]
  },
  {
   "cell_type": "markdown",
   "metadata": {},
   "source": [
    "不会"
   ]
  },
  {
   "cell_type": "markdown",
   "metadata": {},
   "source": [
    "3.给定方程$\\frac{\\mathrm dy}{\\mathrm dx}=sin(\\frac{y}{x})$,试求$\\frac{\\partial y(x,x_0,y_0)}{\\partial x_0}$,$\\frac{\\partial y(x,x_0,y_0)}{\\partial y_0}$在$x_0=1$,$y_0=0$时的表达式."
   ]
  },
  {
   "cell_type": "markdown",
   "metadata": {},
   "source": [
    "解：设$f(x,y)=sin(\\frac{y}{x})$,则$\\frac{\\partial f}{\\partial y}=\\frac{1}{x}cos(\\frac{y}{x})$,由解对初值的可微性定理的证明可得"
   ]
  },
  {
   "cell_type": "markdown",
   "metadata": {},
   "source": [
    "$\\frac{\\partial y(x,x_0,y_0)}{\\partial x_0}=-f(x_0,y_0)exp(\\int_{x_0}^x \\frac{\\partial f(x,φ)}{\\partial y}\\mathrm dx)$"
   ]
  },
  {
   "cell_type": "markdown",
   "metadata": {},
   "source": [
    "$=-sin(\\frac{y_0}{x_0})exp(\\int_{x_0}^x\\frac{1}{x}cos\\frac{y}{x}\\mathrm dx)$"
   ]
  },
  {
   "cell_type": "markdown",
   "metadata": {},
   "source": [
    "$\\frac{\\partial y(x,x_0,y_0)}{\\partial y_0}=exp(\\int_{x_0}^x\\frac{\\partial f(x,φ)}{\\partial y}\\mathrm dx)$"
   ]
  },
  {
   "cell_type": "markdown",
   "metadata": {},
   "source": [
    "$=exp(\\int_{x_0}^x\\frac{1}{x}cos\\frac{y}{x}\\mathrm dx)$"
   ]
  },
  {
   "cell_type": "markdown",
   "metadata": {},
   "source": [
    "当$x_0=1$，$y_0=0$时，对应得到"
   ]
  },
  {
   "cell_type": "markdown",
   "metadata": {},
   "source": [
    "$\\frac{\\partial y(x,x_0,y_0)}{\\partial x_0}=0$"
   ]
  },
  {
   "cell_type": "markdown",
   "metadata": {},
   "source": [
    "$\\frac{\\partial y(x,x_0,y_0)}{\\partial y_0}=exp(\\int_1^x\\frac{1}{x}\\mathrm dx)=|x|$"
   ]
  },
  {
   "cell_type": "markdown",
   "metadata": {},
   "source": [
    "所以，在$x_0=1$,$y_0=0$时，$\\frac{\\partial y}{\\partial x_0}=0$,$\\frac{\\partial y}{\\partial y_0}=|x|$"
   ]
  },
  {
   "cell_type": "markdown",
   "metadata": {},
   "source": [
    "4.设$y=φ(x,x_0,y_0,\\lambda)$是初值问题$\\frac{\\mathrm dy}{\\mathrm dx}=sin(\\lambda xy)$,$φ(x_0,x_0,y_0,\\lambda)=y_0$的饱和解，这里$\\lambda$是参数，求$\\frac{\\partial φ}{\\partial x_0}$,$\\frac{\\partial φ}{\\partial y_0}$在$(x,0,0,1)$处的表达式."
   ]
  },
  {
   "cell_type": "markdown",
   "metadata": {},
   "source": [
    "解：这里$f(x,y)=sin(\\lambda xy)$,$\\frac{\\partial f}{\\partial y}=\\lambda xcos(\\lambda xy)$"
   ]
  },
  {
   "cell_type": "markdown",
   "metadata": {},
   "source": [
    "根据解对初值的可微性定理可得，"
   ]
  },
  {
   "cell_type": "markdown",
   "metadata": {},
   "source": [
    "$\\frac{\\partial φ}{\\partial x_0}=-f(x_0,y_0)exp(\\int_{x_0}^x\\frac{\\partial f(x,φ)}{\\partial y}\\mathrm dx)$"
   ]
  },
  {
   "cell_type": "markdown",
   "metadata": {},
   "source": [
    "$=-sin(\\lambda x_0,y_0)exp(\\int_{x_0}^x\\lambda xcos(\\lambda xφ)\\mathrm dx)$"
   ]
  },
  {
   "cell_type": "markdown",
   "metadata": {},
   "source": [
    "$\\frac{\\partial φ}{\\partial y_0}=exp(\\int_{x_0}^x\\frac{\\partial f(x,φ)}{\\partial y}\\mathrm dx)$"
   ]
  },
  {
   "cell_type": "markdown",
   "metadata": {},
   "source": [
    "$=exp(\\int_{x_0}^x\\lambda xcos(\\lambda xφ)\\mathrm dx)$"
   ]
  },
  {
   "cell_type": "markdown",
   "metadata": {},
   "source": [
    "当$x_0=0$,$y_0=0$,$\\lambda =1$时，则有"
   ]
  },
  {
   "cell_type": "markdown",
   "metadata": {},
   "source": [
    "$\\frac{\\partial φ}{\\partial x_0}=0$"
   ]
  },
  {
   "cell_type": "markdown",
   "metadata": {},
   "source": [
    "$\\frac{\\partial φ}{\\partial y_0}=exp(\\int_0^x xcos0\\mathrm dx)=exp(\\frac{x^2}{2})$"
   ]
  },
  {
   "cell_type": "markdown",
   "metadata": {
    "collapsed": true
   },
   "source": [
    " # <font color='red'>A  20/10"
   ]
  },
  {
   "cell_type": "code",
   "execution_count": null,
   "metadata": {
    "collapsed": true
   },
   "outputs": [],
   "source": []
  }
 ],
 "metadata": {
  "kernelspec": {
   "display_name": "SageMath 7.3",
   "language": "",
   "name": "sagemath"
  },
  "language_info": {
   "codemirror_mode": {
    "name": "ipython",
    "version": 2
   },
   "file_extension": ".py",
   "mimetype": "text/x-python",
   "name": "python",
   "nbconvert_exporter": "python",
   "pygments_lexer": "ipython2",
   "version": "2.7.10"
  }
 },
 "nbformat": 4,
 "nbformat_minor": 0
}
