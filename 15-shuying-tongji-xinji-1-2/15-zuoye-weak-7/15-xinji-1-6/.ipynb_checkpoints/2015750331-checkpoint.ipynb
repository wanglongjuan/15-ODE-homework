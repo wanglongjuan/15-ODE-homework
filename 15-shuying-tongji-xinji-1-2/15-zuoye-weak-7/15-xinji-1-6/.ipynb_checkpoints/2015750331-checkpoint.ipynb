{
 "cells": [
  {
   "cell_type": "markdown",
   "metadata": {},
   "source": [
    "$一,假设函数f(x,y)及\\frac {\\partial f}{\\partial y}都在区域G内连续，又y=\\varphi（x,x_{o},y_{o}）是教材中方程（3.1）满足初始条见\\varphi(x_{o},x_{o},y_{o})=y_{o}的解，试证\\frac {\\partial \\varphi}{\\partial y_{o}}存在且连续，并写出表达式.$\n",
    "\n",
    "$解:$\n",
    "\n",
    "$若f(x,y)及\\frac{\\partial f}{\\partial y}都在区域G内连续时,方程（3.1）的解y=\\varphi(x,x_{o},y_{o})作为$$x,x_{o},y_{o}的函数在它的存在范围内是连续可微的。这里连续可微指的是导函数存在且连续，即\\frac{\\partial \\varphi}{\\partial x},$$\\frac{\\partial \\varphi}{\\partial x_{o}},$$\\frac {\\partial \\varphi}{\\partial y_{o}}都存在$$且在解存在范围内是连续的$\n",
    "\n",
    "$本题的已知条件与该定理一致，故完全如定理证明过程一样，可以证明本题中\\frac{\\partial \\varphi}{\\partial y_{o}}存在且连续$\n",
    "\n",
    "$并且其表达式为$\n",
    "\n",
    "$$\\frac{\\partial\\varphi}{\\partial y_{o}}=exp(\\int_{x_o}^{x}\\frac{\\partial f(x,\\varphi)}{\\partial y} dx)$$\n",
    "\n",
    "$or$\n",
    "\n",
    "$$\\frac{\\partial\\varphi}{\\partial y_o}=exp(\\int_{x_o}^x\\frac{\\partial f(s,\\varphi)}{\\partial y}ds)$$ "
   ]
  },
  {
   "cell_type": "markdown",
   "metadata": {},
   "source": [
    "$二,假设函数P(x)和Q(x)于区间[\\alpha,\\beta]上连续，y=\\varphi(x,x_o,y_o)是方程\\frac{dy}{dx}=P(x)y+Q(x)的解 y_o=\\varphi(x_o,x_o,y_o).试求$\n",
    "\n",
    "$$frac{\\partial \\varphi}{\\partial x_o},\\frac{\\partial \\varphi}{\\partial y_0}及\\frac{\\partial \\varphi}{\\partial x}$$\n",
    "\n",
    "$的表达式出发，利用$\n",
    "\n",
    "$参数求导数的方法，检验所得结果.$\n",
    "\n",
    "$$这里f(x,y)=P(x)y+Q(x),\\frac{\\partial f}{\\partial y}=P(x)$$\n",
    "\n",
    "$始条件为y_o=\\varphi(x_o,x_o,y_o).根据教材中解对初值的可微性定理得$\n",
    "\n",
    "$$\\frac{\\partial \\varphi}{\\partial x_o}=-f(x_o,y_o)exp(\\int_{x_o}^x \\frac{\\partial f(x,\\varphi)}{\\partial y}dx)=-(P(x_o)y_o+Q(x_o))exp(\\int_{x_o}^x P(x)dx)$$\n",
    "\n",
    "$$\\frac{\\partial \\varphi}{\\partial y_o}=exp(\\int_{x_o}^x \\frac{\\partial f(x,\\varphi)}{\\partial y}dx)=exp(\\int_{x_o}^x P(x)dx)$$\n",
    "\n",
    "$$\\frac{\\partial \\varphi}{\\partial x}=f(x,\\varphi(x,x_o,y_o))=P(x)\\varphi(x,x_o,y_o)+Q(x)$$\n",
    "\n",
    "$我们知道方程\\frac{dy}{dx}=P(x)y+Q(x)的通解$\n",
    "\n",
    "$$为y=e^{\\int P(x)dx}(Q(x)*e^{-\\int P(x)dx} dx+c)$$\n",
    "\n",
    "$而方程\\frac{dy}{dx}=P(x)y+Q(x)的具有初始条件y(x_o)=x_o的特解可以写成$\n",
    "\n",
    "$$y=\\varphi(x,x_o,y_o)=e^{\\int_{x_o}^x P(s)ds}(\\int_{x_o}^x Q(t)*e^{\\int_{x_o}^t-P(s)ds}*dt+y_o)$$\n",
    "\n",
    "$利用对参数求导数的方法可得$\n",
    "\n",
    "$$\\frac{\\partial \\varphi}{\\partial x_o}=-(P(x_o)y_o+Q(x_o))e^{\\int_{x_o}^x P(s)ds},\\frac{\\partial\\varphi}{\\partial y_o}=e^{\\int_{x_o}^xP(s)ds}$$\n",
    "\n",
    "$$\\frac{\\partial\\varphi}{\\partial x}=P(x)\\varphi+Q(x)$$\n",
    "\n",
    "$经验证，与前面解出的结论一致$$"
   ]
  },
  {
   "cell_type": "markdown",
   "metadata": {},
   "source": [
    "$三,给定方程\\frac{dy}{dx}=sin(\\frac {y}{x}),试求\\frac{\\partial y(x,x_o,y_o)}{\\partial x_o},\\frac{\\partial y(x,x_o,y_o)}{\\partial y_o}$\n",
    "\n",
    "$在x_o=1,y_o=0时的表达式.$\n",
    "\n",
    "$解:$\n",
    "\n",
    "$$\\quad 设f(x,y)=sin(\\frac{y}{x}),则\\frac{\\partial f}{\\partial y}=\\frac{1}{x}cos(\\frac{y}{x})$$\n",
    "\n",
    "$由教材中解对初值的可微性定理的证明可得$\n",
    "\n",
    "$$\\frac{\\partial y(x,x_o,y_o)}{\\partial x_o}=-f(x_o,y_o)exp(\\int_{x_o}^x\\frac{\\partial f(x,\\varphi)}{\\partial y}dx)\n",
    "=-sin(\\frac{y_o}{x_o})exp(\\int_{x_o}^x\\frac{1}{x}cos{\\frac{y}{x}}dx)$$\n",
    "\n",
    "$$\\frac{\\partial y(x,x_o,y_o)}{\\partial y_o}=exp(\\int_{x_o}^x\\frac{\\partial f(x,\\varphi)}{\\partial y}dx)\n",
    "=exp(\\int_{x_o}^x\\frac{1}{x}cos{\\frac{y}{x}}dx)$$\n",
    "\n",
    "$当x_o=1,y_o=0时$\n",
    "\n",
    "$$对应地得到\\frac{\\partial y(x,x_o,y_o)}{\\partial x_o}\\mid_{x_o=1,y_o=0}=0$$\n",
    "\n",
    "$$\\frac{\\partial y(x,x_o,y_o)}{\\partial y_o}\\mid_{x_o=1,y_o=0}=exp(\\int_{1}^x \\frac{1}{x}dx)=|x|$$\n",
    "\n",
    "$$所以，在x_o=1,y_o=0时$$\n",
    "\n",
    "$$\\frac{\\partial y}{\\partial x_o}=0,\\frac{\\partial y}{\\partial y_o}=|x|$$"
   ]
  },
  {
   "cell_type": "markdown",
   "metadata": {},
   "source": [
    "$四,设y=\\varphi(x,x_o,y_o,\\lambda)是初值问题\\frac{dy}{dx}=sin(\\lambda xy),\\varphi(x_o,x_o,y_o,\\lambda)=y_o的饱和解，这里\\lambda是参数$\n",
    "\n",
    "$求\\frac{\\partial \\varphi}{\\partial x_o},\\frac{\\partial\\varphi}{\\partial y_o}在(x,0,0,1)处的表达式$\n",
    "\n",
    "$解\\quad可以把这里的参数\\lambda看成普通的常数，这里$\n",
    "\n",
    "$$f(x,y)=sin(\\lambda xy),\\frac {\\partial f}{\\partial y}=\\lambda xcos(\\lambda xy)$$\n",
    "\n",
    "$根据教材中解对初值的可微性定理可得$\n",
    "\n",
    "$$\\frac {\\partial \\varphi}{\\partial x_o}=-f(x_o,y_o)exp(\\int_{x_o}^x\\frac{\\partial f(x,\\varphi)}{\\partial y}dx)=-sin(\\lambda x_oy_o)\n",
    "exp(\\int_{x_o}^x\\lambda xcos(\\lambda x\\varphi)dx)$$\n",
    "\n",
    "$$\\frac{\\partial \\varphi}{\\partial y_o}=exp(\\int_{x_o}^x\\frac{\\partial f(x,\\varphi)}{\\partial y}dx)\n",
    "=exp(\\int_{x_o}^x\\lambda xcos(\\lambda x\\varphi)dx)$$\n",
    "\n",
    "$当x_o=0,y_o=0,\\lambda=1时$\n",
    "\n",
    "$$则有\\frac{\\partial \\varphi}{\\partial x_o}\\mid_{(x,0,0,1)}=0$$\n",
    "\n",
    "$$\\frac{\\partial \\varphi}{\\partial y_o}\\mid_{(x,0,0,1)}=exp(\\int_{o}^{x}xcos0dx)=exp(\\frac{x^2}{2})$$"
   ]
  },
  {
   "cell_type": "markdown",
   "metadata": {
    "collapsed": true
   },
   "source": [
    " # <font color='red'>A  20/10"
   ]
  },
  {
   "cell_type": "code",
   "execution_count": null,
   "metadata": {
    "collapsed": true
   },
   "outputs": [],
   "source": []
  }
 ],
 "metadata": {
  "kernelspec": {
   "display_name": "SageMath 7.3",
   "language": "",
   "name": "sagemath"
  },
  "language_info": {
   "codemirror_mode": {
    "name": "ipython",
    "version": 2
   },
   "file_extension": ".py",
   "mimetype": "text/x-python",
   "name": "python",
   "nbconvert_exporter": "python",
   "pygments_lexer": "ipython2",
   "version": "2.7.10"
  }
 },
 "nbformat": 4,
 "nbformat_minor": 0
}
