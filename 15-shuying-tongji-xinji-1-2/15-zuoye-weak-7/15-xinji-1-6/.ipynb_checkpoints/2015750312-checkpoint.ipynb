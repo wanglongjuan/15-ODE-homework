{
 "cells": [
  {
   "cell_type": "markdown",
   "metadata": {},
   "source": [
    "**2.解：**∵ $ f(x,y)=P(x)y+Q(x) ∴ \\frac{\\partial f}{\\partial y}=P(x) $\n",
    "\n",
    "由解对初值的可微性定理，得 \n",
    "\n",
    "$$ \\frac{\\partial f}{\\partial x_0}=-f(x_0,y_0)\\exp[\\int_{x_0}^x\\frac{\\partial f(s,\\varphi)}{\\partial y} \\mathrm d s]=-[P(x_0)y_0+Q(x0)]\\exp[\\int_{x_0}^x P(s) \\mathrm d s] $$\n",
    "\n",
    "$$ \\frac{\\partial f}{\\partial y_0}=\\exp[\\int_{x_0}^x\\frac{\\partial f(s,\\varphi)}{\\partial y} \\mathrm d s]=\\exp[\\int_{x_0}^x P(s) \\mathrm d s] $$\n",
    "\n",
    "$$ \\frac{\\partial f}{\\partial x}=f(x,\\varphi(x,x_0,y_0))=P(x)\\varphi(x,x_0,y_0)+Q(x) $$\n",
    "\n",
    "∵非齐次线性方程有解的表达式为 $$ y=e^{\\int P(x) \\mathrm d x}[\\int Q(x)e^{\\int -P(x) \\mathrm d x} \\mathrm d x+c] $$\n",
    "\n",
    "∴ $$ \\varphi(x,x_0,y_0)=y_0\\bullet e^{\\int_{x_0}^x P(s) \\mathrm d s}+\\int_{x_0}^x Q(s)e^{\\int_s^x P(t) \\mathrm d t} \\mathrm d s $$\n",
    "\n",
    "直接对参数求导，得\n",
    "\n",
    "$$ \\frac{\\partial \\varphi(x,x_0,y_0)}{\\partial x_0}=-P(x_0)y_0e^{\\int_{x_0}^x P(s) \\mathrm d s}-Q(x_0)e^{\\int_{x_0}^x P(s) \\mathrm d s}=-[P(x_0)y_0+Q(x0)]e^{\\int_{x_0}^x P(s) \\mathrm d s} $$\n",
    "\n",
    "$$ \\frac{\\partial \\varphi(x,x_0,y_0)}{\\partial y_0}=e^{\\int_{x_0}^x P(s) \\mathrm d s} $$\n",
    "\n",
    "$$ \\frac{\\partial \\varphi(x,x_0,y_0)}{\\partial x}=P(x)y_0e^{\\int_{x_0}^x P(s) \\mathrm d s}+Q(x)+\\int_{x_0}^x P(x)Q(s)e^{\\int_s^x P(t) \\mathrm d t} \\mathrm d s=P(x,x_0,y_0)+Q(x) $$\n",
    "\n",
    "检验后，得，与解对初值的可微性定理中的公式一致"
   ]
  },
  {
   "cell_type": "markdown",
   "metadata": {},
   "source": [
    "**3.解：**设 $ f(x,y)=sin(\\frac{y}{x}),得\\frac{\\partial f}{\\partial y}=\\frac{1}{x}cos(\\frac{y}{x}) $\n",
    "\n",
    "由解对初值的可微性定理，得 \n",
    "\n",
    "$$ \\frac{\\partial y(x,x_0,y_0)}{\\partial x_0}=-f(x_0,y_0)\\exp(\\int_{x_0}^x \\frac{\\partial f(s,y)}{\\partial y}\\mathrm d s)=-sin(\\frac{y_0}{x_0})\\exp(\\int_{x_0}^x \\frac{1}{s}cos(\\frac{y}{s}) \\mathrm d s) $$\n",
    "\n",
    "$$ \\frac{\\partial y(x,x_0,y_0)}{\\partial y_0}=\\exp(\\int_{x_0}^x \\frac{\\partial f(s,y)}{\\partial y}\\mathrm d s)=\\exp(\\int_{x_0}^x \\frac{1}{s}cos(\\frac{y}{s}) \\mathrm d s) $$\n",
    "\n",
    "当 $ x_0=1,y_0=0 $ 时，可对应，得 $$ \\frac{\\partial y(x,x_0,y_0)}{\\partial x_0}|_{x_0=1,y_0=0}=0 $$\n",
    "\n",
    "$$ \\frac{\\partial y(x,x_0,y_0)}{\\partial y_0}=\\exp(\\int_1^x \\frac{1}{s} \\mathrm d s)=|x| $$\n",
    "\n",
    "∴ 在 $ x_0=1,y_0=0 $ 时，$ \\frac{\\partial y}{\\partial x_0}=0,\\frac{\\partial y}{\\partial y_0}=|x| $"
   ]
  },
  {
   "cell_type": "markdown",
   "metadata": {
    "collapsed": true
   },
   "source": [
    "**1.解：**记初值为 $ (x_0,y_0+∆y_0) $ 的解为 $$ y=\\psi(x,x_0,y_0+∆y_0) $$ 其中 $ |∆y_0|\\leq\\alpha,\\alpha $足够小，则，得\n",
    "\n",
    "$$ \\varphi=y_0+\\int_{x_0}^x f(s,\\varphi(s)) \\mathrm d s,\\psi=y_0+∆y_0+\\int_{x_0}^x f(s,\\psi(s)) \\mathrm d s $$\n",
    "\n",
    "∴ $$ \\psi-\\varphi=∆y_0+\\int_{x_0}^x [f(s,\\psi(s)-f(s,\\varphi(s)] mathrm d s=∆y_0+\\int_{x_0}^x \\frac{\\partial f(s,\\varphi+\\theta(\\psi-\\varphi))}{\\partial y}(\\psi(s)-\\varphi(s)) \\mathrm d s $$ 其中 $ \\theta∈[0,1] $\n",
    "\n",
    "∵ $ \\frac{\\partial f}{\\partial y} $ 和 $ \\varphi,\\psi $ 的连续性，得 $$ \\frac{\\partial f(s,\\varphi+\\theta(\\psi-\\varphi))}{\\partial y}=\\frac{\\partial f(s,\\varphi)}{\\partial y}+r $$\n",
    "\n",
    "其中 $ r满足：∆y_0\\to0时r\\to0,∆y_0=0时r=0 $\n",
    "\n",
    "即对 $ ∆y_0\\neq0 $ 有 $$ \\frac{\\psi-\\varphi}{∆y_0}=1+\\int_{x_0}^x [\\frac{\\partial f(s,\\varphi)}{\\partial y}+r]\\frac{\\psi-\\varphi}{∆y_0} \\mathrm d s $$\n",
    "\n",
    "即 $ z=\\frac{\\psi-\\varphi}{∆y_0}$ 是微分方程初值问题 $$\n",
    "\\begin{cases}\n",
    "\\frac{dz}{dx}=[\\frac{\\partial f(x,\\varphi)}{\\partial y}+r]z\\\\\n",
    "z(x_0)=1\n",
    "\\end{cases}\n",
    "$$ 的解\n",
    "\n",
    "即 $$ \\frac{\\psi-\\varphi}{∆y_0}=z=\\exp{\\int_{x_0}^x [\\frac{\\partial f(s,\\varphi)}{\\partial y}+r] \\mathrm d s} $$\n",
    "\n",
    "∴ $$ \\frac{\\partial \\varphi}{\\partial y_0}=\\lim \\limits_{∆y_0 \\to 0}\\frac{\\psi-\\varphi}{∆y_0}=\\exp{\\int_{x_0}^x [\\frac{\\partial f(s,\\varphi)}{\\partial y}] \\mathrm d s} $$\n",
    "\n",
    "它是 $ x,x_0,y_0 $ 的连续函数"
   ]
  },
  {
   "cell_type": "markdown",
   "metadata": {},
   "source": [
    "**4.解：**这里 $ f(x,y)=sin(\\lambda xy),\\frac{\\partial f}{\\partial y}=\\lambda xcos(\\lambda xy) $\n",
    "\n",
    "由解对初值的可微性定理，得\n",
    "\n",
    "$$ \\frac{\\partial \\varphi}{\\partial x_0}=-f(x_0,y_0)\\exp(\\int_{x_0}^x \\frac{\\partial f(s,\\varphi)}{\\partial y} \\mathrm d s)=-sin(\\lambda x_0y_0)\\exp(int_{x_0}^x \\lambda scos(\\lambda s \\varphi) \\mathrm d s) $$\n",
    "\n",
    "$$ \\frac{\\partial \\varphi}{\\partial y_0}=\\exp(\\int_{x_0}^x \\frac{\\partial f(s,\\varphi)}{\\partial y} \\mathrm d s)=\\exp(int_{x_0}^x \\lambda scos(\\lambda s \\varphi) \\mathrm d s) $$\n",
    "\n",
    "当 $ x_0=0,y_0=0,\\lambda=1 $ 时，得 $$ \\frac{\\partial \\varphi}{\\partial x_0}|_(x,0,0,1)=0 $$\n",
    "\n",
    "$$ \\frac{\\partial \\varphi}{\\partial y_0}|_(x,0,0,1)=\\exp(\\int_0^x scos0 \\mathrm d s)=\\exp(\\frac{x^2}{2} $$"
   ]
  },
  {
   "cell_type": "markdown",
   "metadata": {
    "collapsed": true
   },
   "source": [
    " # <font color='red'>A  20/10\n",
    " "
   ]
  },
  {
   "cell_type": "code",
   "execution_count": null,
   "metadata": {
    "collapsed": true
   },
   "outputs": [],
   "source": []
  }
 ],
 "metadata": {
  "kernelspec": {
   "display_name": "SageMath 7.3",
   "language": "",
   "name": "sagemath"
  },
  "language_info": {
   "codemirror_mode": {
    "name": "ipython",
    "version": 2
   },
   "file_extension": ".py",
   "mimetype": "text/x-python",
   "name": "python",
   "nbconvert_exporter": "python",
   "pygments_lexer": "ipython2",
   "version": "2.7.10"
  }
 },
 "nbformat": 4,
 "nbformat_minor": 0
}
