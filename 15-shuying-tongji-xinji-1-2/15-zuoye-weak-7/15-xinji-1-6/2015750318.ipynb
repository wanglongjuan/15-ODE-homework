{
 "cells": [
  {
   "cell_type": "markdown",
   "metadata": {},
   "source": [
    "P102 1.假设函数f(x,y)及$\\frac{\\partial f}{\\partial y}$都在区域G内连续，又$y=\\varphi(x,x_0,y_0)$是方程(3.1)满足初值条件$\\varphi(x,x_0,y_0)=y_0的解，试证\\frac{\\partial \\varphi}{\\partial y_0}存在且连续,并写出其表达式.$"
   ]
  },
  {
   "cell_type": "markdown",
   "metadata": {},
   "source": [
    "  解：记初值为$\\left(x_0,y_0+\\Delta y_0\\right)$的解为$y=\\psi\\left(x,x_0,y_0+\\Delta y_0\\right)$,其中$|\\Delta y_0|\\leq\\alpha,\\alpha$足够小，则有$$\\varphi=y_0+\\int_{x_0}^xf\\left(s,\\varphi\\left(s\\right)\\right)\\mathrm d s,\\psi=y_0+\\Delta y_0+\\int_{x_0}^xf\\left(s,\\psi\\left(s\\right)\\right)\\mathrm d s$$\n",
    "\n",
    "$\\psi-\\varphi=\\Delta y_0+\\int_{x_0}^x[f\\left(s,\\psi\\left(x\\right)\\right)-f\\left(s,\\varphi\\left(s\\right)\\right)]\\mathrm d s=\\Delta y_0+\\int_{x_0}^x\\frac{\\partial f\\left(s,\\psi\\left(s\\right)\\right)}{\\partial y}\\left(\\psi\\left(s\\right)-\\varphi\\left(s\\right)\\right)\\mathrm d s$，其中$\\theta\\in[0,1]$,\n",
    "\n"
   ]
  },
  {
   "cell_type": "markdown",
   "metadata": {},
   "source": [
    "由$\\frac{\\partial f}{\\partial y}及\\varphi,\\psi$的连续性，有$\\frac{\\partial f\\left(s,\\varphi+\\theta\\left(\\psi-\\varphi\\right)\\right)}{\\partial y}=\\frac{\\partial f\\left(s,\\varphi\\right)}{\\partial y}+y$,\n",
    "\n",
    "其中r满足：$\\Delta y_0\\rightarrow 0时r\\rightarrow 0,\\Delta y_0=0时r=0$\n"
   ]
  },
  {
   "cell_type": "markdown",
   "metadata": {},
   "source": [
    "对$\\Delta y_0\\neq0$有$$\\frac{\\psi-\\varphi}{\\Delta y_0}=1+\\int_{x_0}^x[\\frac{\\partial f\\left(s,\\varphi\\right)}{\\partial y}+r]\\frac{\\psi-\\varphi}{\\Delta y_0}\\mathrm d s$$,"
   ]
  },
  {
   "cell_type": "markdown",
   "metadata": {},
   "source": [
    "即$z=\\frac{\\psi-\\varphi}{\\Delta y_0}$是微分方程初值问题的解"
   ]
  },
  {
   "cell_type": "markdown",
   "metadata": {},
   "source": [
    "即$\\frac{\\psi-\\varphi}{\\Delta y_0}=z=e^{\\int_{x_0}^x\\frac{\\partial f\\left(x,\\varphi\\right)}{\\partial y}+r\\mathrm d s}$"
   ]
  },
  {
   "cell_type": "markdown",
   "metadata": {},
   "source": [
    "于是$\\frac{\\partial\\varphi}{\\partial y_0}=\\lim_{\\Delta y_0\\to 0}\\frac{\\psi-\\varphi}{\\Delta y_0}=e^{\\int_{x_0}^x[\\frac{\\partial f\\left(s,\\varphi\\right)}{\\partial y}]\\mathrm d s}$即为$x,x_0,y_0$的连续函数"
   ]
  },
  {
   "cell_type": "markdown",
   "metadata": {},
   "source": [
    "2.假设函数P(x)和Q(x)于区间$[\\alpha,\\beta]$上连续,$y=\\varphi(x,x_0,y_0)$是方程$$\\frac{\\mathrm d y}{\\mathrm d x}=P(x)y+Q(x)$$"
   ]
  },
  {
   "cell_type": "markdown",
   "metadata": {},
   "source": [
    "的解，$y_0=\\varphi(x_0,x_0,y_0)$.试求$\\frac{\\partial \\varphi}{\\partial x_0},\\frac{\\partial \\varphi}{\\partial y_0}及\\frac{\\partial \\varphi}{\\partial x},并从解的表达式出发，利用对参数求导数得方法，检验所得结果.$"
   ]
  },
  {
   "cell_type": "markdown",
   "metadata": {},
   "source": [
    "解：这里$f(x,y)=P(x)y+Q(x),\\frac{\\partial f}{\\partial y}=P(x),初值条件为y_0=\\varphi(x_0,x_0,y_0).根据解对初值的可微性定理可得$"
   ]
  },
  {
   "cell_type": "markdown",
   "metadata": {},
   "source": [
    "$$\\frac{\\partial \\varphi}{\\partial x_0}=-f(x_0,y_0)\\exp(\\int_{x_0}^{x}\\frac{\\partial f(x,\\varphi)}{\\partial y}d x)=-(P(x_0)y_0+Q(x_0))\\exp(\\int_{x_0}^{x}P(x)dx),$$"
   ]
  },
  {
   "cell_type": "markdown",
   "metadata": {},
   "source": [
    "$$\\frac{\\partial \\varphi}{\\partial x}=\\exp(\\int_{x_0}^{x}\\frac{\\partial f(x,\\varphi)}{\\partial y}dx)=\\exp(\\int_{x_0}^{x}P(x)dx),$$\n",
    "\n",
    "所以$\\frac{\\partial \\varphi}{\\partial x}=f(x,\\varphi(x,x_0,y_0))=P(x)\\varphi(x,x_0,y_0)+Q(x).$"
   ]
  },
  {
   "cell_type": "markdown",
   "metadata": {},
   "source": [
    "我们已经知道方程$\\frac{\\mathrm d y}{\\mathrm d x}=P(x)y+Q(x)$的通解为$$y=e^{\\int P(x)dx}Q(x)e^{\\int P(x)dx}+c.$$"
   ]
  },
  {
   "cell_type": "markdown",
   "metadata": {},
   "source": [
    "而方程$\\frac{\\mathrm d y}{\\mathrm d x}=P(x)y+Q(x)$具有初值条件$y(x_0)=x_0$的特解可以写成"
   ]
  },
  {
   "cell_type": "markdown",
   "metadata": {},
   "source": [
    "$y=\\varphi(x,x_0,y_0)=e^{\\int_{x_0}^{x} P(s)\\mathrm d s}(\\int_{x_0}^{x}(Q(t)e^{\\int_{x_0}^{t}-P(s)\\mathrm d s} \\mathrm d t)+y_0,$"
   ]
  },
  {
   "cell_type": "markdown",
   "metadata": {},
   "source": [
    "利用参数求导的方法可得\n",
    "\n",
    "$\\frac{\\partial\\varphi(x,x_0,y_0)}{\\partial x_0}=-P\\left(x_0\\right)y_0e^{\\int_{x_0}^xP\\left(s\\right)\\mathrm d s}-Q\\left(x_0\\right)e^{\\int_{x_0}^xP(s)\\mathrm d s}=-[P\\left(x_0\\right)y_0+Q\\left(x_0\\right)]e^{\\int_{x_0}^XP\\left(s\\right)\\mathrm d s}$\n",
    "\n",
    "$\\frac{\\partial\\varphi(x,x_0,y_0)}{\\partial y_0}=e^{\\int_{x_0}^xP\\left(s\\right)\\mathrm d s}$\n",
    "\n",
    "$\\frac{\\partial\\varphi(x,x_0,y_0)}{\\partial x}=P\\left(x\\right)\\varphi\\left(x,x_0,y_0\\right)+Q\\left(x\\right)$"
   ]
  },
  {
   "cell_type": "markdown",
   "metadata": {},
   "source": [
    "3.给定方程$$\\frac{\\mathrm d y}{\\mathrm d y}=\\sin\\left(\\frac{y}{x}\\right),$$\n",
    "\n",
    "试求$\\frac{\\partial y(x,x_0,y_0)}{\\partial x_0},\\frac{\\varphi(x,x_0,y_0)}{\\partial y_0}$在$x_0=1,y_0=0$时的表达式"
   ]
  },
  {
   "cell_type": "markdown",
   "metadata": {},
   "source": [
    "解：设$f(x,y)=\\sin(\\frac{y}{x}),则\\frac{\\partial f}{\\partial y}=\\frac{1}{x}\\cos(\\frac{y}{x}).$\n",
    "\n",
    "由解对初值的可微性定理的证明可知，\n",
    "\n",
    "$\\frac{\\partial y(x,x_0,y_0)}{\\partial y_0}=e^{\\int_{x_0}^x\\frac{1}{s}\\cos\\frac{y}{s}\\mathrm d s}$\n",
    "\n",
    "$\\frac{\\partial y(x,x_0,y_0)}{\\partial x_0}=-\\sin(\\frac{y_0}{x_0})e^{\\int_{x_0}^x\\frac{1}{s}\\cos\\frac{y}{s}\\mathrm d s},$\n",
    "\n",
    "\n",
    "当$x_0=1,y_0=0$时，对应的$\\frac{\\partial y\\left(x,x_0,y_0\\right)}{\\partial x_0}|_{x_0=1,y_0=0}=0,\\frac{\\partial y\\left(x,x_0,y_0\\right)}{\\partial y_0}|_{x_0=1,y_0=0}=|x|$\n",
    "\n",
    "所以在$x_0=1,y_0=0$时，$\\frac{\\partial y}{\\partial x_0}=0,\\frac{\\partial y}{\\partial y_0}=|x|$"
   ]
  },
  {
   "cell_type": "markdown",
   "metadata": {},
   "source": [
    "4.设$y=\\varphi\\left(x,x_0,y_0,\\lambda\\right)$是初值问题$$\\frac{\\mathrm d y}{\\mathrm d x}=\\sin\\left(\\lambda xy\\right),\\varphi\\left(x_0,x_0,y_0,\\lambda\\right)=y_0$$"
   ]
  },
  {
   "cell_type": "markdown",
   "metadata": {},
   "source": [
    "的饱和解，这里$\\lambda$是参数，求$\\frac{\\partial \\varphi}{\\partial x_0},\\frac{\\partial \\varphi}{\\partial y_0}在(x,0,0,1)处的表达式.$"
   ]
  },
  {
   "cell_type": "markdown",
   "metadata": {},
   "source": [
    "解:$f(x,y)=\\sin(\\lambda xy),\\frac{\\partial f}{\\partial y}=\\lambda x\\cos(\\lambda xy)$\n",
    "\n",
    "由解对初值的可微性定理可得\n",
    "\n",
    "$\\frac{\\partial\\varphi}{\\partial x_0}=-\\sin(\\lambda x_0y_0)e^{\\int_{x_0}^x\\lambda s\\cos(\\lambda s\\varphi)\\mathrm d s}$\n",
    "\n",
    "$\\frac{\\partial\\varphi}{\\partial y_0}=e^{\\int_{x_0}^x\\lambda s\\cos(\\lambda s\\varphi)\\mathrm d s}$\n",
    "\n",
    "当$x-0=0，y_0=0,\\lambda+1$时，则有$\\frac{\\partial\\varphi}{\\partial x_0}|_{\\left(x,0,0,1\\right)}=0$\n",
    "\n",
    "$\\frac{\\partial\\varphi}{\\partial y_0}|_{(x,0,0.1)}=e^{\\int_0^x s\\cos 0\\mathrm d s}=e^{\\frac{x^2}{2}}$"
   ]
  },
  {
   "cell_type": "markdown",
   "metadata": {
    "collapsed": true
   },
   "source": [
    " # <font color='red'>A  20/10"
   ]
  },
  {
   "cell_type": "code",
   "execution_count": null,
   "metadata": {
    "collapsed": true
   },
   "outputs": [],
   "source": []
  }
 ],
 "metadata": {
  "kernelspec": {
   "display_name": "SageMath 7.3",
   "language": "",
   "name": "sagemath"
  },
  "language_info": {
   "codemirror_mode": {
    "name": "ipython",
    "version": 2
   },
   "file_extension": ".py",
   "mimetype": "text/x-python",
   "name": "python",
   "nbconvert_exporter": "python",
   "pygments_lexer": "ipython2",
   "version": "2.7.10"
  }
 },
 "nbformat": 4,
 "nbformat_minor": 0
}
