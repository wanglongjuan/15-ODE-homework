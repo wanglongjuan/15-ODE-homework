{
 "cells": [
  {
   "cell_type": "markdown",
   "metadata": {},
   "source": [
    "$p102.1$"
   ]
  },
  {
   "cell_type": "markdown",
   "metadata": {},
   "source": [
    "$记初值为（x_{0},y_{0}+\\Delta y_{0})的解为y=\\beta(x,x_{0},y_{0}+\\Delta y_{0}),其中\\mid\\Delta y_{0}\\mid \\leq\\alpha,\\alpha足够小，便有$"
   ]
  },
  {
   "cell_type": "markdown",
   "metadata": {},
   "source": [
    "$\\varphi=y_{0}+\\int_{x_{0}}^x{f(s,\\varphi(s)) d s},\\beta=y_{0}+\\Delta y_{0}+\\int_{x_{0}}^x{f(s,\\varphi(s)) d s}$"
   ]
  },
  {
   "cell_type": "markdown",
   "metadata": {},
   "source": [
    "$\\beta-\\varphi=\\Delta y_{0}+\\int_{x_{0}}^{x}{\\frac{\\partial f(s,\\varphi+\\theta(\\beta-\\varphi))}{\\partial y}}=\\frac{\\partial f(s,\\varphi)}{\\partial y}+r,所以有z=\\frac{\\beta-\\varphi}{\\Delta y_{0}}是\\frac{dz}{dx}=[\\frac{\\partial f(x,\\varphi)}{\\partial y}+r]z和z(x_{0})=1的解$"
   ]
  },
  {
   "cell_type": "markdown",
   "metadata": {},
   "source": [
    "$所以\\frac{\\partial \\varphi}{\\partial y_{0}}=\\frac{\\beta-\\varphi}{\\Delta y_{0}}=exp\\int_{x_{0}}^{x}{\\frac{\\partial f(s,\\varphi)}{\\partial y} d s}$存在且连续"
   ]
  },
  {
   "cell_type": "markdown",
   "metadata": {},
   "source": [
    "$2.$"
   ]
  },
  {
   "cell_type": "markdown",
   "metadata": {},
   "source": [
    "$f(x,y)=P(x)y+Q(x),所以有\\frac{\\partial f}{\\partial y}=P(x),所以有$"
   ]
  },
  {
   "cell_type": "markdown",
   "metadata": {},
   "source": [
    "$\\frac{\\partial \\varphi}{\\partial x_{0}}=[-P(x_{0})y_{0}-Q(x_{0})]exp\\int_{x_{0}}^{x}{P(s) d s}$"
   ]
  },
  {
   "cell_type": "markdown",
   "metadata": {},
   "source": [
    "$\\frac{\\partial \\varphi}{\\partial y_{0}}=exp[\\int_{x_{0}}^{x}{P(s) d s}]$"
   ]
  },
  {
   "cell_type": "markdown",
   "metadata": {},
   "source": [
    "$\\frac{\\partial \\varphi}{\\partial x}=f(x,\\varphi(x,x_{0},y_{0}))=P(x)\\varphi(x,x_{0},y_{0})+Q(x)$"
   ]
  },
  {
   "cell_type": "markdown",
   "metadata": {},
   "source": [
    "$所以有\\varphi(x,x_{0},y_{0})=y_{0}e^{\\int_{x_{0}}^{x}{P(s) d s}}+\\int_{x_{0}}^{x}{Q(s)e^{\\int_s^x{P(t) d t}} d s}$"
   ]
  },
  {
   "cell_type": "markdown",
   "metadata": {},
   "source": [
    "$\\frac{\\partial \\varphi(x,x_{0},y_{0})}{\\partial x_{0}}=-[P(x_{0})y_{0}+Q(x_{0})]e^{\\int_s^x{P(s) d s}}$"
   ]
  },
  {
   "cell_type": "markdown",
   "metadata": {},
   "source": [
    "$\\frac{\\partial \\varphi}{\\partial y_{0}}=e^{\\int_{x_{0}}^{x}}{P(s) d s}$"
   ]
  },
  {
   "cell_type": "markdown",
   "metadata": {},
   "source": [
    "$\\frac{\\partial \\varphi}{\\partial x}=P(x)\\varphi(x,x_{0},y_{0})+Q(x),证毕$"
   ]
  },
  {
   "cell_type": "markdown",
   "metadata": {},
   "source": [
    "$3.$"
   ]
  },
  {
   "cell_type": "markdown",
   "metadata": {},
   "source": [
    "$设f(x,y)=sin(\\frac{y}{x}),所以\\frac{\\partial f}{\\partial y}=\\frac{1}{x}cos(\\frac{y}{x})$"
   ]
  },
  {
   "cell_type": "markdown",
   "metadata": {},
   "source": [
    "$\\frac{\\partial y(x,x_{0},y_{0})}{\\partial x_{0}}=-sin(\\frac{y_{0}}{x_{0}})exp\\int_{x_{0}}^x{\\frac{1}{s}cos\\frac{y}{s} d s},$"
   ]
  },
  {
   "cell_type": "markdown",
   "metadata": {},
   "source": [
    "$\\frac{\\partial y(x,x_{0},y_{0})}{\\partial y_{0}}=exp\\int_{x_{0}}^x{\\frac{1}{s}cos\\frac{y}{s} d s},当x_{0}=1,y_{0}=0 ,\\frac{\\partial y}{\\partial x_{0}}=0,\\frac{\\partial y}{\\partial y_{0}}=\\mid{x} \\mid$"
   ]
  },
  {
   "cell_type": "markdown",
   "metadata": {},
   "source": [
    "$4.$"
   ]
  },
  {
   "cell_type": "markdown",
   "metadata": {},
   "source": [
    "$f(x,y)=sin(xy\\lambda),\\frac{\\partial f}{\\partial y}=\\lambda x cps(\\lambda xy),由微分初值定理可得$"
   ]
  },
  {
   "cell_type": "markdown",
   "metadata": {},
   "source": [
    "$\\frac{\\partial \\varphi}{\\partial x_{0}}=-sin(\\lambda x_{0}y_{0})exp\\int_{x_0}^{x}{{\\lambda}scos({\\lambda}s\\varphi) d s}$"
   ]
  },
  {
   "cell_type": "markdown",
   "metadata": {},
   "source": [
    "$\\frac{\\partial \\varphi}{\\partial y_{0}}=exp\\int_{x_0}^{x}{\\lambda{scos(\\lambda{s{\\varphi}})} d s},当x_{0}=0,y_{0}=0,\\lambda=1,有$"
   ]
  },
  {
   "cell_type": "markdown",
   "metadata": {},
   "source": [
    "$\\frac{\\partial \\varphi}{\\partial x_{0}}|_{(x,0,0,1)} =0,\\frac{\\partial \\varphi}{\\partial y_{0}}|_{(x,0,0,1)} =e^{\\frac{x^2}{2}}$"
   ]
  },
  {
   "cell_type": "markdown",
   "metadata": {
    "collapsed": true
   },
   "source": [
    " # <font color='red'>A  20/10"
   ]
  },
  {
   "cell_type": "code",
   "execution_count": null,
   "metadata": {
    "collapsed": true
   },
   "outputs": [],
   "source": []
  }
 ],
 "metadata": {
  "kernelspec": {
   "display_name": "SageMath 7.3",
   "language": "",
   "name": "sagemath"
  },
  "language_info": {
   "codemirror_mode": {
    "name": "ipython",
    "version": 2
   },
   "file_extension": ".py",
   "mimetype": "text/x-python",
   "name": "python",
   "nbconvert_exporter": "python",
   "pygments_lexer": "ipython2",
   "version": "2.7.10"
  }
 },
 "nbformat": 4,
 "nbformat_minor": 0
}
