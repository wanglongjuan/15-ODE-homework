{
 "cells": [
  {
   "cell_type": "markdown",
   "metadata": {},
   "source": [
    "1.假设函数$f(x,y)$及$\\frac{\\partial f}{\\partial y}$都在区域G内连续，又$y=\\phi(x,x_0,y_0)$是方程（3.1）满足初值条件$\\phi(x_0,x_0,y_0)=y_0$的解，试证$\\frac{\\partial\\phi}{\\partial y_0}$存在且连续，并写出其表达式。"
   ]
  },
  {
   "cell_type": "markdown",
   "metadata": {},
   "source": [
    "解：记初值为$(x_0,y_0,+\\Delta y_0)$的解为$y=\\psi(x,x_0,y_0+\\Delta y_0)$，其中$|\\Delta y_0|\\leq\\alpha,\\alpha$足够小，则有"
   ]
  },
  {
   "cell_type": "markdown",
   "metadata": {},
   "source": [
    "$$\\phi=y_0+\\int_{x_0}^x f(x,\\phi)d x,\\psi=y_0+\\Delta y_0+\\int_{x_0}^x f(x,\\psi)d x$$"
   ]
  },
  {
   "cell_type": "markdown",
   "metadata": {},
   "source": [
    "于是$$\\psi-\\phi=\\Delta y_0+\\int_{x_0}^x [f(x,\\psi)-f(x,\\phi)]d x=\\Delta y_0+\\int_{x_0}^x [\\frac{\\partial f(x,\\phi+\\theta(\\psi-\\phi))}{\\partial y}(\\psi-\\phi]d x$$"
   ]
  },
  {
   "cell_type": "markdown",
   "metadata": {},
   "source": [
    "中$0\\leq\\theta\\leq 1$,由$\\frac{\\partial f}{\\partial y}$及$\\phi,\\psi$的；连续性，有$$\\frac{\\partial f(x,\\phi+\\theta(\\psi-\\phi))}{\\partial y}=\\frac{\\partial f(x,\\phi)}{\\partial y}+r$$"
   ]
  },
  {
   "cell_type": "markdown",
   "metadata": {},
   "source": [
    "中$r$有性质：$\\Delta→0$时$r→0,\\Delta y_0=0$时$r=0$。即对$\\Delta y_0\\neq 0$有$$\\frac{\\psi-\\phi}{\\Delta y_0}=1+\\int_{x_0}^x [\\frac{\\partial f(x,\\phi)}{\\partial y}+r]\\frac{\\psi-\\phi}{\\Delta y_0}d x$$"
   ]
  },
  {
   "cell_type": "markdown",
   "metadata": {},
   "source": [
    "$z=\\frac{\\psi-\\phi}{\\Delta y_0}$是微分方程初值问题"
   ]
  },
  {
   "cell_type": "markdown",
   "metadata": {},
   "source": [
    "$$\n",
    "\\begin{cases}\n",
    "\\frac{d z}{d x}=[\\frac{\\partial f(x,\\phi)}{\\partial y }+r]z,\\\\\n",
    "z(x_0)=1\n",
    "\\end{cases}\n",
    "$$"
   ]
  },
  {
   "cell_type": "markdown",
   "metadata": {},
   "source": [
    "的解，即$$\\frac{\\psi-\\phi}{\\Delta y_0}=z=exp{\\int_{x_0}^x [\\frac{\\partial f(x,\\phi)}{\\partial y }+r]d x}$$"
   ]
  },
  {
   "cell_type": "markdown",
   "metadata": {},
   "source": [
    "于是$$\\frac{\\partial\\phi}{\\partial y_0}=exp{\\int_{x_0}^x\\frac{\\partial f(x,\\phi)}{\\partial y }d x}$$"
   ]
  },
  {
   "cell_type": "markdown",
   "metadata": {},
   "source": [
    "它是$x,x_0,y_0$的连续函数。"
   ]
  },
  {
   "cell_type": "markdown",
   "metadata": {},
   "source": [
    "2.假设函数$P(x)$和$Q(x)$于区间$[\\alpha,\\beta]$上连续，$y=\\phi(x,x_0,y_0)$是方程$$\\frac{d y}{d x}=P(x)y+Q(x)$$的解，$\\phi(x_0,x_0,y_0)=y_0.$试求$\\frac{\\partial\\phi}{\\partial x_0},\\frac{\\partial\\phi}{\\partial y_0},$及$\\frac{\\partial\\phi}{\\partial x},$并从解的表达式出发，利用对参数求导数的方法，检验所得结果。"
   ]
  },
  {
   "cell_type": "markdown",
   "metadata": {},
   "source": [
    "解：由$f(x,y)=P(x)y+Q(x)$及有关公式，可得$$\\frac{\\partial\\phi}{\\partial x_0}=-f(x_0,y_0)exp[\\int_{x_0}^x \\frac{\\partial f(x,\\phi)}{\\partial y}d x]=-[P(x_0)y_0+Q(x_0)]exp[\\int_{x_0}^x P(x)d x]$$"
   ]
  },
  {
   "cell_type": "markdown",
   "metadata": {},
   "source": [
    "$$\\frac{\\partial\\phi}{\\partial y_0}=exp[\\int_{x_0}^x \\frac{\\partial f(x,\\phi)}{\\partial y}d x]=exp[\\int_{x_0}^x P(x)d x]$$"
   ]
  },
  {
   "cell_type": "markdown",
   "metadata": {},
   "source": [
    "$$\\frac{\\partial\\phi}{\\partial x}=f(x,\\phi(x,x_0,y_0))=P(x)\\phi(x,x_0,y_0）+Q(x)$$"
   ]
  },
  {
   "cell_type": "markdown",
   "metadata": {},
   "source": [
    "因非齐次线性方程有解的表达式$$y=e^{\\int P(x)d x}[\\int Q(x)e^{-\\int P(x)d x}d x+c]$$"
   ]
  },
  {
   "cell_type": "markdown",
   "metadata": {},
   "source": [
    "于是$$\\phi(x,x_0,y_0)=y_0*e^{\\int_{x_0}^x P(x)d x}+\\int_{x_0}^x Q(s)e^{\\int_s^x P(x)d x} ds$$直接对参数求导，此时"
   ]
  },
  {
   "cell_type": "markdown",
   "metadata": {},
   "source": [
    "$$\\frac{\\partial\\phi(x,x_0,y_0)}{\\partial x_0}=-P(x_0)y_0*e^{\\int_{x_0}^x P(x)d x}-Q(x_0)e^{\\int_{x_0}^x P(x)d x}=-[P(x_0)y_0+Q(x_0)]e^{\\int_{x_0}^x P(x)d x}$$"
   ]
  },
  {
   "cell_type": "markdown",
   "metadata": {},
   "source": [
    "$$\\frac{\\partial\\phi(x,x_0,y_0)}{\\partial y_0}=e^{\\int_{x_0}^x P(x)d x}$$"
   ]
  },
  {
   "cell_type": "markdown",
   "metadata": {},
   "source": [
    "$$\\frac{\\partial\\phi(x,x_0,y_0)}{\\partial x}=P(x)y_0*e^{\\int_{x_0}^x P(x)d x}+Q(x)+\\int_{x_0}^x Q(s)P(x)e^{\\int_s^x P(x)d s}=P(x)[y_0*e^{\\int_{x_0}^x P(x)d x}+\\int_{x_0}^x Q(s)e^{\\int_s^x P(x)d s}+Q(x)=P(x)\\phi(x,x_0,y_0)+Q(x)$$与直接应用公式相同。"
   ]
  },
  {
   "cell_type": "markdown",
   "metadata": {},
   "source": [
    "3.给定方程$$\\frac{d y}{d x}=sin\\frac{y}{x}$$试求$\\frac{\\partial y(x,x_0,y_0)}{\\partial x_0},\\frac{\\partial y(x,x_0,y_0)}{\\partial y_0}$在$x_0= 1,y_0= 0$时的表达式"
   ]
  },
  {
   "cell_type": "markdown",
   "metadata": {},
   "source": [
    "解：解：$这是f(x,y)=\\sin(\\frac{y}{x})在(1,0)某领域内满足解对初值可微性定理条件，由公式$  \n",
    "\n",
    "$$\\frac{\\partial y(x,x_0,y_0)}{\\partial x_0}\\big |_{(1,0)} =-f(x_0,y_0)\\exp(\\int_{x_0}^x\\frac{\\partial f(x,y)}{\\partial y}\\rm d x)\\big |_{(1,0)}=0$$  \n",
    "\n",
    "$$\\frac{\\partial y(x,x_0,y_0)}{\\partial x_0}\\big |_{(1,0)}=\\exp(\\int_{x_0}^x \\frac{\\partial f(x,y)}{\\partial y}\\rm d x)\\big |_{(1,0)}=\\exp\\int_{x_0}^x \\frac{1}{x}\\cos\\frac{y}{x}\\rm d x\\big |_(1,0)=\\exp\\int_1^x \\frac{1}{x}\\cos\\frac{y(x,1,0)}{x}\\rm d x$$  \n",
    "\n",
    "易见y=0是原方程满足初始条件y(1)=0的解  \n",
    "\n",
    "$$\\because y(x,1,0)=0,\\therefore \\cos y\\frac{(x,1,0)}{x}=\\cos 0=1$$  \n",
    "\n",
    "故$$\\frac{\\partial y(x,x_0,y_0)}{\\partial y_0}\\big |_{x_0=1}^{y=0}=\\exp\\int_1^x\\frac{1}{x}\\rm d x=|x|$$"
   ]
  },
  {
   "cell_type": "markdown",
   "metadata": {},
   "source": [
    "4.设$y=\\phi(x,x_0，y_0,\\lambda)$是初值问题$$\\frac{d y}{d x}=sin(\\lambda x y),\\phi(x_0,x_0,y_0,\\lambda)=y_0$$的饱和解，这里$\\lambda$是参数，求$\\frac{\\partial\\phi}{\\partial x_0},\\frac{\\partial\\phi}{\\partial y_0}$在$(x,0,0,1)$处的表达式。"
   ]
  },
  {
   "cell_type": "markdown",
   "metadata": {},
   "source": [
    "解：$$\\begin{aligned}\\frac{\\partial\\phi}{\\partial x_0}&=-f(x_0,y_0,\\lambda){\\rm exp}[\\int_{x_0}^x{\\frac{\\partial f(x,\\phi,\\lambda)}{\\partial y}}{\\rm d}x]\\\\&\n",
    "=0\\\\\n",
    "\\frac{\\partial \\phi}{\\partial y_0}\n",
    "&={\\rm exp}[\\int_{x_0}^x{\\frac{\\partial f(x,\\phi,\\lambda)}{\\partial y}}{\\rm d}x]\n",
    "\\\\&={\\rm exp}[\\int_{x_0}^x{cos(\\lambda x \\phi)\\big|_{\\phi=0}·\\lambda x}{\\rm d}x]\\\\\n",
    "&={\\rm exp}[\\frac{\\lambda}{2}(x^2-{x_0}^2)]\\\\\n",
    "&={\\rm exp}(\\frac {x^2} 2)\\end{aligned}$$"
   ]
  },
  {
   "cell_type": "markdown",
   "metadata": {},
   "source": [
    " # <font color='red'>A  20/10"
   ]
  },
  {
   "cell_type": "markdown",
   "metadata": {},
   "source": []
  },
  {
   "cell_type": "markdown",
   "metadata": {},
   "source": []
  },
  {
   "cell_type": "markdown",
   "metadata": {},
   "source": []
  },
  {
   "cell_type": "markdown",
   "metadata": {},
   "source": []
  }
 ],
 "metadata": {
  "kernelspec": {
   "display_name": "SageMath 7.3",
   "language": "",
   "name": "sagemath"
  },
  "language_info": {
   "codemirror_mode": {
    "name": "ipython",
    "version": 2
   },
   "file_extension": ".py",
   "mimetype": "text/x-python",
   "name": "python",
   "nbconvert_exporter": "python",
   "pygments_lexer": "ipython2",
   "version": "2.7.10"
  }
 },
 "nbformat": 4,
 "nbformat_minor": 0
}
