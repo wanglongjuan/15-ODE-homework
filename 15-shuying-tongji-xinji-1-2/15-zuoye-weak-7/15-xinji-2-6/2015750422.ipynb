{
 "cells": [
  {
   "cell_type": "markdown",
   "metadata": {},
   "source": [
    "1.假设函数$f(x,y)$及$\\frac{\\partial{f}}{\\partial{y}}$都在区域G内连续，又$y=\\phi(x,x_0,y_0)$是教材中方程（3.1）满足初始条件$\\phi(x,x_0,y_0)=y_0$的解，试证$\\frac{\\partial{\\phi}}{\\partial{y_0}}$存在且连续，并写出其表达式.\n",
    "\n",
    "证明：由解对初值的可微性定理知，若$f(x,y)$和$\\frac{\\partial{f}}{\\partial{y}}$都在区域G内连续时，方程的解$y=\\phi(x,x_0,y_0)$作为$x,x_0,y_0$的函数在它的存在范围是连续可微的，即$\\frac{\\partial{\\phi}}{\\partial{x}},\\frac{\\partial{\\phi}}{\\partial{x_0}},\\frac{\\partial{\\phi}}{\\partial{y_0}}$都存在且在解的范围内连续，事实上设由初值$（x_0,y_0）$和$（x_0,y_0+\\delta{y_0}）(|\\delta{y_0}|\\leq\\alpha|$所确定的方程分别为$y=\\phi(x,x_0,y_0)=\\phi,y=\\psi（x_0,y_0+\\delta{y_0}）=\\psi$"
   ]
  },
  {
   "cell_type": "markdown",
   "metadata": {},
   "source": [
    "即$$\\phi=y_0+\\int_{x_0}^{x} f(x,\\phi)dx ,\\psi=y_0+\\delta{y_0}+\\int_{x_0}^{x} f(x,\\psi)dx$$\n",
    "于是$$\\psi-\\phi=\\delta{y_0}+\\int_{x_0}^{x} (f(x,\\phi)-f(x,\\psi))dx=\\delta{y_0}+\\int_{x_0}^{x} \\frac{\\partial(f(x,\\phi+\\theta(\\psi-\\phi))}{\\partial y}(\\psi-\\phi)dx$$  \n",
    "因$$\\frac{\\partial{f}}{\\partial{y}}及\\phi,\\psi$$连续，\n",
    "因此$$\\frac{\\partial(f(x,\\phi+\\theta(\\psi-\\phi))}{\\partial y}=\\frac{\\partial f(x,\\phi)}{\\partial y}+r_1$$  \n",
    "这里$r_1$具有性质：当$\\delta{y_0}\\rightarrow 0$时，\n",
    "$r_1\\rightarrow 0$且当$\\delta{y_0}=0时，r_1=0$,因此对$\\delta{y_0}\\neq 0$时,\n",
    "有$$\\frac{\\psi-\\phi}{\\delta{y_0}}=1+\\int_{x_0}^{x} (\\frac{\\partial(f(x,\\phi)}{\\partial y}+r_1)\\frac{\\psi-\\phi}{\\delta{y_0}}dx$$\n",
    "即$z=\\frac{\\psi-\\phi}{\\delta{y_0}}$是初值问题\n",
    "$$\n",
    "\\begin{cases}\n",
    "\\frac{dz}{dy}=[\\frac{\\partial(f(x,\\phi)}{\\partial y}+r_1]z\\\\\n",
    "z(x_0)=1=z_0\\\\\n",
    "\\end{cases}\n",
    "$$的解，在这里$\\delta{y_0}\\neq 0$，当然$\\delta{y_0}=0$时,上述初值问题仍然有解。根据解对初值和参数的连续性定理可知$\\frac{\\psi-\\phi}{\\delta{y_0}}$是$x,x_0,z_0,\\delta{y_0}$的连续函数，从而存在$$\\lim_{\\delta{y_0} \\rightarrow 0}=\\frac{\\partial{\\phi}}{\\partial{y_0}}$$即$\\frac{\\partial{\\phi}}{\\partial{y_0}}$是初值问题\n",
    "$$\n",
    "\\begin{cases}\n",
    "\\frac{dz}{dy}=\\frac{\\partial(f(x,\\phi)}{\\partial y}z\\\\\n",
    "z(x_0)=1\\\\\n",
    "\\end{cases}\n",
    "$$的解，\n",
    "且$$\\frac{\\partial{\\phi}}{\\partial{y_0}}=exp\\int_{x_0}^{x} \\frac{\\partial(f(x,\\phi)}{\\partial y}dx$$它显然是$x,x_0,y_0$的连续函数"
   ]
  },
  {
   "cell_type": "markdown",
   "metadata": {},
   "source": [
    "2.假设函数$P(x)和Q(x)$于区间$[\\alpha,\\beta]$上连续，$y=\\phi(x,x_0,y_0)$是方程$$\\frac{dy}{dx}=P(x)y+Q(x)$$的解，$y_0=\\phi(x_0,x_0,y_0)$.试求$\\frac{\\partial{\\phi}}{\\partial{x_0}},\\frac{\\partial{\\phi}}{\\partial{y_0}},\\frac{\\partial{\\phi}}{\\partial{x}}$,并从解的表达式出发，利用对参数求导的方法，检验所得结果"
   ]
  },
  {
   "cell_type": "markdown",
   "metadata": {},
   "source": [
    "解：由题得$$\n",
    "\\begin{aligned}\n",
    "\\frac{\\partial{\\phi}}{\\partial{x_0}}&=-f(x_0,y_0)exp(\\int_{x_0}^{x} \\frac{\\partial(f(x,\\phi)}{\\partial y}dx)\\\\\n",
    "&=-(P(x_0)y_0+Q(x_0))exp(\\int_{x_0}^{x} P(x)dx)\\\\\n",
    "\\frac{\\partial{\\phi}}{\\partial{y_0}}&=exp(\\int_{x_0}^{x} \\frac{\\partial(f(x,\\phi)}{\\partial y}dx)\\\\\n",
    "&=exp(\\int_{x_0}^{x} P(x)dx)\\\\\n",
    "\\end{aligned}\n",
    "$$\n",
    "\n",
    "$$\\frac{\\partial{\\phi}}{\\partial{x}}=f(x,\\phi(x,x_0,y_0))=P(x)\\phi(x,x_0,y_0)+Q(x)$$\n",
    "\n",
    "由于方程$\\frac{dy}{dx}=P(x)y+Q(x)$的通解为$$y=e^{\\int P（x）dx}(Q(x).e^{-\\int P（x）dx}dx+c)$$而方程$\\frac{dy}{dx}=P(x)y+Q(x)$的初始条件$y(x_0)=x_0$的特解可以写成\n",
    "$$y=\\phi(x,x_0,y_0)=e^{\\int_{x_0}^{x} P(s)ds}(\\int_{x_0}^{x}Q(t).e^{\\int_{x_0}^{t} -P(s)ds}.dt+y_0)$$\n",
    "利用对参数求导数的方法可得$$\\frac{\\partial{\\phi}}{\\partial{x_0}}=e^{\\int_{x_0}^{x} P(s)ds}.(-P（x_0）)(\\int_{x_0}^{x}Q(t).e^{\\int_{x_0}^{t} -P(s)ds}.dt+y_0)+e^{\\int_{x_0}^{x} P(s)ds}[-Q(x_0)e^{\\int_{x_0}^{x} -P(s)ds}+(\\int_{x_0}^{x}Q(t).e^{\\int_{x_0}^{t} -P(s)ds}.dt).P(x_0)]=-(P(x_0)y_0+Q(x_0))e^{\\int_{x_0}^{x} P(s)ds}$$\n",
    "\n",
    "$$\\frac{\\partial{\\phi}}{\\partial{y_0}}=e^{\\int_{x_0}^{x} P(s)ds}$$\n",
    "\n",
    "$\\frac{\\partial{\\phi}}{\\partial{x}}=e^{\\int_{x_0}^{x} P(s)ds}.P（x）.(\\int_{x_0}^{x}Q(t).e^{\\int_{x_0}^{t} -P(s)ds}.dt+y_0)+e^{\\int_{x_0}^{x} P(s)ds}.Q(x).e^{\\int_{x_0}^{x} -P(s)ds}=P(x)\\phi+Q(x)$\n",
    "\n",
    "经验证，与前面解出的结论一致"
   ]
  },
  {
   "cell_type": "markdown",
   "metadata": {},
   "source": [
    "3.给定方程$\\frac{dy}{dx}=sin(\\frac{y}{x} )$\n",
    "\n",
    "试求$\\frac{\\partial y(x,x_0,y_0)}{\\partial x_0},\\frac{\\partial y(x,x_0,y_0)}{\\partial y_0}在x_0=1,y_0=0$时的表达式\n"
   ]
  },
  {
   "cell_type": "markdown",
   "metadata": {},
   "source": [
    "解：$$设f(x,y)=sin(\\frac{y}{x} )$$则$$\\frac{\\partial f}{\\partial y}=\\frac{1}{x}cos(\\frac{y}{x})$$由解对初值的可微性定理可证明得\n",
    "\n",
    "$$\n",
    "\\begin{aligned}\n",
    "\\frac{\\partial y(x,x_0,y_0)}{\\partial x_0}&=-f(x_0,y_0)exp(\\int_{x_0}^{x} \\frac{\\partial(f(x,\\phi)}{\\partial y}dx)\\\\\n",
    "&=-sin(\\frac{y_0}{x_0} )exp(\\int_{x_0}^{x}\\frac{1}{x}cos{\\frac{y}{x} }dx)\\\\\n",
    "\\frac{\\partial y(x,x_0,y_0)}{\\partial y_0}&=exp(\\int_{x_0}^{x} \\frac{\\partial f(x,\\phi)}{\\partial y}dx\\\\\n",
    "&=exp(\\int_{x_0}^{x}\\frac{1}{x}cos{\\frac{y}{x} } dx)\\\\\n",
    "\\end{aligned}\n",
    "$$\n",
    "\n",
    "\n",
    "当$x_0=1,y_0=0$时,对应得到\n",
    "\n",
    "$$\\frac{\\partial y(x,x_0,y_0)}{\\partial x_0}|_{x_0=1,y_0=0}=0$$\n",
    "\n",
    "$$\\frac{\\partial y(x,x_0,y_0)}{\\partial y_0}|_{x_0=1,y_0=0}=exp(\\int_{1}^{x}\\frac{1}{x}dx)=|x|.$$\n",
    "\n",
    "所以，在$x_0=1,y_0=0$时，$$\\frac{\\partial y}{\\partial x_0}=0,\\frac{\\partial y}{\\partial y_0}=|x|$$\n"
   ]
  },
  {
   "cell_type": "markdown",
   "metadata": {},
   "source": [
    "4.设$y=\\phi(x,x_0,y_0,\\lambda)$是初值问题$$\\frac{dy}{dx}=sin(\\lambda{xy}),\\phi(x_0,x_0,y_0,\\lambda)=y_0$$\n",
    "\n",
    "的饱和解，这里$\\lambda是参数，求\\frac{\\partial \\phi}{\\partial x_0},\\frac{\\partial \\phi}{\\partial y_0}$在$(x,0,0,1)$处的表达式"
   ]
  },
  {
   "cell_type": "markdown",
   "metadata": {},
   "source": [
    "解：把参数$\\lambda$看成是普通的常数，根据解对初值的可微性定理可得\n",
    "\n",
    "$$\n",
    "\\begin{aligned}\n",
    "\\frac{\\partial \\phi}{\\partial x_0}&=-f(x_0,y_0)exp(\\int_{x_0}^{x} \\frac{\\partial (f(x,\\phi)}{\\partial y}dx)\\\\\n",
    "&=-sin(\\lambda{x_0y_0})exp(\\int_{x_0}^{x} {\\lambda}{xcos({\\lambda}{x\\phi}}dx)\\\\\n",
    "\\frac{\\partial \\phi}{\\partial y_0}&=exp(\\int_{x_0}^{x} \\frac{\\partial f(x,\\phi)}{\\partial y}dx)\\\\\n",
    "&=exp(\\int_{x_0}^{x} {\\lambda}{xcos({\\lambda}{x{\\phi}}}dx)\\\\\n",
    "\\end{aligned}\n",
    "$$\n",
    "\n",
    "\n",
    "当$x_0=0,y_0=0,\\lambda=1$时,则有\n",
    "\n",
    "$$\\frac{\\partial \\phi}{\\partial x_0}|_{(x,0,0,1)}=0，$$\n",
    "\n",
    "$$\\frac{\\partial \\phi}{\\partial y_0}|_{(x,0,0,1)}=exp(\\int_{0}^{x} xcos{0}dx)=exp(\\frac{x^2}{2})$$"
   ]
  },
  {
   "cell_type": "markdown",
   "metadata": {
    "collapsed": true
   },
   "source": [
    "# <font color='red'>A  20/10"
   ]
  },
  {
   "cell_type": "code",
   "execution_count": null,
   "metadata": {
    "collapsed": true
   },
   "outputs": [],
   "source": []
  }
 ],
 "metadata": {
  "kernelspec": {
   "display_name": "SageMath 7.3",
   "language": "",
   "name": "sagemath"
  },
  "language_info": {
   "codemirror_mode": {
    "name": "ipython",
    "version": 2
   },
   "file_extension": ".py",
   "mimetype": "text/x-python",
   "name": "python",
   "nbconvert_exporter": "python",
   "pygments_lexer": "ipython2",
   "version": "2.7.10"
  }
 },
 "nbformat": 4,
 "nbformat_minor": 0
}
