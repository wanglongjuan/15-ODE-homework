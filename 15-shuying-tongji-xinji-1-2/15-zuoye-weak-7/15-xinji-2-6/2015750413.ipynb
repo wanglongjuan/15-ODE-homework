{
 "cells": [
  {
   "cell_type": "markdown",
   "metadata": {},
   "source": [
    "学号：2015750413"
   ]
  },
  {
   "cell_type": "markdown",
   "metadata": {},
   "source": [
    "1.假设函数$f(x,y)$及$\\frac{\\partial f}{\\partial y}$都在区域$G$内连续，又$y=\\phi(x,x_0,y_0)$是方程$(3.1)$满足初值条件$\\phi(x_0,x_0,y_0)=y_0$的解，试证$\\frac{\\partial \\phi}{\\partial y_0}$存在且连续，并写出其表达式。\n",
    "\n",
    "证：设初值$(x_0,y_0)$,$(x_0,y_0+\\delta y_0)$,$|\\delta y_0|≤\\alpha,(\\alpha足够小)$，设$y=\\phi(x,x_0,y_0)=\\phi,\n",
    "y=\\phi(x,x_0,y_0+\\psi y_0)=\\psi$为初值$（x_0，y_0+δy_0）(|δy_0|≤\\alpha)$所确定的解，\n",
    "\n",
    "即$\\phi=y_0+\\int_{x_0}^{x} f(x,\\phi)dx ,\\psi=y_0+\\delta{y_0}+\\int_{x_0}^{x} f(x,\\psi)dx$于是$$\\psi-\\phi=\\delta{y_0}+\\int_{x_0}^{x} (f(x,\\phi)-f(x,\\psi))dx=\\delta{y_0}+\\int_{x_0}^{x} \\frac{\\partial(f(x,\\phi+\\theta(\\psi-\\phi))}{\\partial y}(\\psi-\\phi)dx$$  因$\\frac{\\partial{f}}{\\partial{y}}及\\phi,\\psi$连续，因此$$\\frac{\\partial(f(x,\\phi+\\theta(\\psi-\\phi))}{\\partial y}=\\frac{\\partial f(x,\\phi)}{\\partial y}+r_1$$  \n",
    "\n",
    "这里$r_1$具有性质：当$\\delta{y_0}\\rightarrow 0$时，$r_1\\rightarrow 0$且当$\\delta{y_0}=0时，r_1=0$,因此对$\\delta{y_0}\\neq 0$时,有$$\\frac{\\psi-\\phi}{\\delta{y_0}}=1+\\int_{x_0}^{x} (\\frac{\\partial(f(x,\\phi)}{\\partial y}+r_1)\\frac{\\psi-\\phi}{\\delta{y_0}}dx$$\n",
    "\n",
    "可证$\\frac{ψ-\\phi}{δy_0}$是初值问题\n",
    "$\\begin{cases}\n",
    "\\frac{dz}{dy}=[\\frac{\\partial(f(x,\\phi)}{\\partial y}+r_3]z\\\\\n",
    "z(x_0)=1\\\\\n",
    "\\end{cases}$\n",
    "的解，\n",
    "\n",
    "因而$\\frac{ψ-\\phi}{δy_0}=exp(\\int_{x_0}^{x}{[\\frac{\\partial f(x,\\phi)}{\\partial y}+r_3]}dx）$；\n",
    "其中$r_3$具有性质：当$δy_0→0$时$r_3→0$，且$δy_0=0$时$r_3=0$\n",
    "\n",
    "故有\n",
    "$\\frac{\\partial \\phi}{\\partial y_0}=\\lim_{\\delta{y_0} \\rightarrow 0}{\\frac{\\psi-\\phi}{\\delta y_0}}=exp(\\int_{x_0}^{x}{\\frac{\\partial f(x,\\phi)}{\\partial y}}dx）$\n",
    "他是$x,x_0,y_0$的连续函数。\n"
   ]
  },
  {
   "cell_type": "markdown",
   "metadata": {},
   "source": [
    "2.假设函数$P(x)和Q(x)$于区间$[\\alpha,\\beta]$上连续，$y=\\phi(x,x_0,y_0)$是方程$$\\frac{dy}{dx}=P(x)y+Q(x)$$的解，$y_0=\\phi(x_0,x_0,y_0)$.试求$\\frac{\\partial{\\phi}}{\\partial{x_0}},\\frac{\\partial{\\phi}}{\\partial{y_0}},\\frac{\\partial{\\phi}}{\\partial{x}}$,并从解的表达式出发，利用对参数求导的方法，检验所得结果.\n",
    "解：令$f(x,y)=P（x）y+Q（x）$\n",
    "设初值$(x_0,y_0)$,$(x_0+\\delta x_0,y_0)$,$|\\delta x_0|≤\\alpha,(\\alpha足够小)$，设$y=\\phi(x,x_0,y_0)=\\phi,\n",
    "y=\\phi(x,x_0+\\delta x_0,y_0)=\\psi$为初值$（x_0+\\delta x_0，y_0）(|δx_0|≤\\alpha)$所确定的解，\n",
    "\n",
    "即$\\phi=y_0+\\int_{x_0}^{x} f(x,\\phi)dx ,\\psi=y_0+\\int_{x_0+\\delta x_0}^{x} f(x,\\psi)dx$于是$$\\psi-\\phi=\\int_{x_0+\\delta x_0}^{x} f(x,\\psi)dx-\\int_{x-0}^{x}f(x,\\phi)dx=-\\int_{x_0}^{x_0+\\delta x_0}f(x,\\psi)dx+\\int_{x_0}^{x} \\frac{\\partial(f(x,\\phi+\\theta(\\psi-\\phi))}{\\partial y}(\\psi-\\phi)dx$$  因$\\frac{\\partial{f}}{\\partial{y}}及\\phi,\\psi$连续，因此$$\\frac{\\partial(f(x,\\phi+\\theta(\\psi-\\phi))}{\\partial y}=\\frac{\\partial f(x,\\phi)}{\\partial y}+r_1$$  \n",
    "\n",
    "这里$r_1$具有性质：当$\\delta{x_0}\\rightarrow 0$时，$r_1\\rightarrow 0$且当$\\delta{x_0}=0时，r_1=0$,因此对$\\delta{x_0}\\neq 0$时,有$$\\frac{\\psi-\\phi}{\\delta{x_0}}=[-f(x_0,y_0)+r_2]+\\int_{x_0}^{x} (\\frac{\\partial(f(x,\\phi)}{\\partial y}+r_1)\\frac{\\psi-\\phi}{\\delta{x_0}}dx$$\n",
    "\n",
    "可证$\\frac{ψ-\\phi}{δx_0}$是初值问题\n",
    "$\\begin{cases}\n",
    "\\frac{dz}{dx}=[\\frac{\\partial(f(x,\\phi)}{\\partial y}+r_1]z\\\\\n",
    "z(x_0)=z_0\\\\\n",
    "\\end{cases}$\n",
    "的解，\n",
    "\n",
    "将$f(x,y)$用$P（x）y+Q（x）$替换得，因而$\\frac{ψ-\\phi}{δx_0}=exp(\\int_{x_0}^{x}{P(x_0)+r_1}dx）$；\n",
    "其中$r_3$具有性质：当$δx_0→0$时$r_1→0$，且$δx_0=0$时$r_1=0$\n",
    "\n",
    "故有\n",
    "$\\frac{\\partial \\phi}{\\partial x_0}=-[P(x_0)y_0+Q(x_0)]exp(\\int_{x_0}^{x}{P(x_0)}dx）$\n",
    "他是$x,x_0,y_0$的连续函数。\n",
    "\n",
    "同理可得：$\\frac{\\partial \\phi}{\\partial y_0}=-[P(x_0)y_0+Q(x_0)]exp(\\int_{x_0}^{x}{P(x_0)}dx）$\n",
    "\n",
    "$\\frac{\\partial \\phi}{\\partial x}=f(x,\\phi(x,x_0，y_0）)=P(x)\\phi(x,x_0,y_0)+Q(x)$"
   ]
  },
  {
   "cell_type": "markdown",
   "metadata": {},
   "source": [
    "3.给定方程$\\frac{dy}{dx}=sin(\\frac{y}{x} )$\n",
    "\n",
    "试求$\\frac{\\partial y(x,x_0,y_0)}{\\partial x_0},\\frac{\\partial y(x,x_0,y_0)}{\\partial y_0}在x_0=1,y_0=0$时的表达式.\n",
    "解：：令$f(x,y)=sin(\\frac{y}{x}）$；\n",
    "$\\frac{\\partial f}{\\partial x}=-f(x_0,y_0)exp(\\int_{x_0}^{x}\\frac{\\partial(f(x,\\phi)}{\\partial y}dx）$,\n",
    "$\\frac{\\partial f}{\\partial y}=exp(\\int_{x_0}^{x}{\\frac{\\partial f(x,\\phi)}{\\partial y}}dx）$\n",
    "$\\frac{\\partial y(x,x_0,y_0)}{\\partial x_0}=-sin(\\frac{y_0}{x_0}exp(-\\int_{x_0}^{x}\\frac{y_0}{(x_0)^2}cos（\\frac{y_0}{x_0}）dx)=|x|$,\n",
    "$\\frac{\\partial y(x,x_0,y_0)}{\\partial y_0}=exp(\\int_{x_0}^{x}\\frac{1}{x_0}cos（\\frac{y_0}{x_0}）dx）=0$"
   ]
  },
  {
   "cell_type": "markdown",
   "metadata": {},
   "source": [
    "4.设$y=\\phi(x,x_0,y_0,\\lambda)$是初值问题$$\\frac{dy}{dx}=sin(\\lambda{xy}),\\phi(x_0,x_0,y_0,\\lambda)=y_0$$\n",
    "\n",
    "的饱和解，这里$\\lambda是参数，求\\frac{\\partial \\phi}{\\partial x_0},\\frac{\\partial \\phi}{\\partial y_0}$在$(x,0,0,1)$处的表达式\n",
    "\n",
    "解：把参数$\\lambda$看成是普通的常数，根据解对初值的可微性定理可得\n",
    "\n",
    "$$\n",
    "\\begin{aligned}\n",
    "\\frac{\\partial \\phi}{\\partial x_0}&=-f(x_0,y_0)exp(\\int_{x_0}^{x} \\frac{\\partial (f(x,\\phi)}{\\partial y}dx)\\\\\n",
    "&=-sin(\\lambda{x_0y_0})exp(\\int_{x_0}^{x} {\\lambda}{xcos({\\lambda}{x\\phi}})dx\\\\\n",
    "\\frac{\\partial \\phi}{\\partial y_0}&=exp(\\int_{x_0}^{x} \\frac{\\partial f(x,\\phi)}{\\partial y}dx)\\\\\n",
    "&=exp(\\int_{x_0}^{x} {\\lambda}{xcos({\\lambda}{x{\\phi}}}dx)\\\\\n",
    "\\end{aligned}\n",
    "$$\n",
    "\n",
    "\n",
    "当$x_0=0,y_0=0,\\lambda=1$时,则有\n",
    "\n",
    "$$\\frac{\\partial \\phi}{\\partial x_0}|_{(x,0,0,1)}=0，$$\n",
    "\n",
    "$$\\frac{\\partial \\phi}{\\partial y_0}|_{(x,0,0,1)}=exp(\\int_{x}^{0} xcos{0}dx)=exp(\\frac{x^2}{2})$$"
   ]
  },
  {
   "cell_type": "markdown",
   "metadata": {
    "collapsed": true
   },
   "source": [
    "# <font color='red'>A  20/10"
   ]
  },
  {
   "cell_type": "code",
   "execution_count": null,
   "metadata": {
    "collapsed": true
   },
   "outputs": [],
   "source": []
  }
 ],
 "metadata": {
  "kernelspec": {
   "display_name": "SageMath 7.3",
   "language": "",
   "name": "sagemath"
  },
  "language_info": {
   "codemirror_mode": {
    "name": "ipython",
    "version": 2
   },
   "file_extension": ".py",
   "mimetype": "text/x-python",
   "name": "python",
   "nbconvert_exporter": "python",
   "pygments_lexer": "ipython2",
   "version": "2.7.10"
  }
 },
 "nbformat": 4,
 "nbformat_minor": 0
}
