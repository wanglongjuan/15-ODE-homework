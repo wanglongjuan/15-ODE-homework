{
 "cells": [
  {
   "cell_type": "markdown",
   "metadata": {
    "collapsed": true
   },
   "source": [
    "2016年10月12日      星期三\n",
    "\n",
    "P102\n",
    "\n",
    "1.假设函数$f(x,y)$及$\\frac{\\partial f}{\\partial y}$都在区域G内连续，又$y=\\varphi(x,x_0,y_0)$是方程（3.1）满足初值条件$\\varphi（x_0,x_0,y_o)=y_0$的解，试证$\\frac{\\partial\\varphi}{\\partial y_0}$存在且连续，并写出其表达式。\n"
   ]
  },
  {
   "cell_type": "markdown",
   "metadata": {},
   "source": [
    "证明：由$\\frac{\\partial f}{\\partial y}$在区域G内连续,可知$f(x,y)$在G区域内满足局部利普希茨条件，因此在解对初值的可微性定理的条件下，\n",
    "\n",
    "推知解对初值的连续性定理成立，即有$y=\\varphi(x,x_0,y_0)$在它的存在区域内关于$x,x_0,y_0$是连续的。\n",
    "\n",
    "设由初值$(x_0,y_o)$和$(x_0,y_0+\\Delta y_0)(|\\Delta y_0|\\le\\alpha,\\alpha$为足够小的正数）所确定的解分别为\n",
    "\n",
    "$y=\\varphi(x,x_0,y_0)=\\varphi$和$y=\\varphi(x,x_0,y_0+\\Delta y_0)=\\psi$\n",
    "\n",
    "即\n",
    "\n",
    "$\\varphi=y_0+\\int^x_{x_0}f(x,\\varphi)dx,\\psi=y_0+\\int^x_{x_0}f(x,\\psi)dx$\n",
    "\n",
    "于是得到\n",
    "\n",
    "$\\psi-\\varphi=\\int^x_{x_0}f(x,\\psi)dx-\\int^x_{x_0}f(x,\\varphi)dx$\n",
    "\n",
    "$=-\\int^{x_0}_{x_0}f(x,\\psi)dx+\\int^x_{x_0}\\frac{\\partial f(x,\\varphi+\\theta(\\psi-\\varphi))}{\\partial y}(\\psi-\\varphi)dx（其中$0<$\\theta$<1$.）$\n",
    "\n",
    "由$\\frac{\\partial f}{\\partial x}$及$\\varphi,\\psi$的连续性，得到\n",
    "\n",
    "$\\frac{\\partial f(x,\\varphi+\\theta(\\psi-\\varphi))}{\\partial y}=\\frac{\\partial f(x,\\varphi)}{\\partial y}+r_3$\n",
    "\n",
    "可知$\\frac{\\psi-\\varphi}{\\Delta y_0}$是$x,x_0,z_0,\\Delta y_0$的连续函数，从而有\n",
    "\n",
    "$\\lim_{\\substack{\\Delta y_0\\rightarrow 0}}\\frac{\\psi-\\varphi}{\\Delta y_0}=\\frac{\\partial\\varphi}{\\partial y_0}$\n",
    "\n",
    "可推知$\\frac{\\psi-\\varphi}{\\Delta y_0}$是初值问题\n",
    "$\\begin{cases}\\frac{dz}{dx}=[\\frac{\\partial f(x,\\varphi)}{\\partial y}+r_3]z\\\\z(x_o)=1\\end{cases}$\n",
    "的解\n",
    "\n",
    "因而\n",
    "\n",
    "$\\frac{\\psi-\\varphi}{\\Delta y_0}=exp(\\int^x_{x_0}[\\frac{\\partial f(x,\\varphi)}{\\partial y}+r_3]dx)$\n",
    "\n",
    "其中$r_3$具有性质：当$\\Delta y_0\\rightarrow 0$时$r_3\\rightarrow 0$,且$\\Delta y_0=0$时$r_3=0$\n",
    "\n",
    "故有\n",
    "\n",
    "$\\frac{\\partial\\varphi}{\\partial y_0}=\\lim_{\\substack{\\Delta y_0\\rightarrow 0}}\\frac{\\psi-\\varphi}{\\Delta y_0}=exp(\\int^x_{x_0}\\frac{\\partial f(x,\\varphi)}{\\partial y}dx)$\n",
    "\n",
    "是$x,x_0,y_0$的连续函数。因此可得到$\\frac{\\partial\\varphi}{\\partial y_0}$存在且连续，其表达式为\n",
    "\n",
    "$\\frac{\\partial\\varphi}{\\partial y_0}=exp(\\int^x_{x_0}\\frac{\\partial f(x,\\varphi)}{\\partial y}dx)$\n",
    "\n",
    "\n",
    "\n",
    "\n",
    "\n",
    "\n",
    "\n",
    "\n"
   ]
  },
  {
   "cell_type": "markdown",
   "metadata": {},
   "source": [
    "2.假设函数$P(x)$和$Q(x)$于区间[$\\alpha,\\beta$]上连续，$y=\\varphi(x,x_0,y_0)$是方程$$\\frac{dy}{dx}=P(x)y+Q(x)$$\n",
    "\n",
    "的解，$y_0=\\varphi(x_0,x_0,y_0)$.\n",
    "试求$\\frac{\\partial\\varphi}{\\partial x_0},\\frac{\\partial\\varphi}{\\partial y_0}$\n",
    "及$\\frac{\\partial\\varphi}{\\partial x}$,并从解的表达式出发，利用对参数求导数的方法，检验所得结果。\n"
   ]
  },
  {
   "cell_type": "markdown",
   "metadata": {
    "collapsed": true
   },
   "source": [
    "解：由$f(x,y)=P(x)y+Q(x)，\\frac{\\partial f}{\\partial y}=P(x)$，初始条件为$y_0=\\varphi(x,x_0,y_0)$.\n",
    "\n",
    "由解对初值的可微性定理可以得到\n",
    "\n",
    "$\\frac{\\partial\\varphi}{\\partial x_0}=-f(x_0,y_0)exp(\\int^x_{x_0}\\frac{\\partial f(u,\\varphi)}{\\partial y}dx)=-(P(x_0)y_0+Q(x_0))exp(\\int^x_{x_0}P(x)dx)$\n",
    "\n",
    "$\\frac{\\partial\\varphi}{\\partial y_0}=exp(\\int^x_{x_0}\\frac{\\partial f(u,\\varphi)}{\\partial y}dx)=exp(\\int^x_{x_0}P(x)dx)$\n",
    "\n",
    "$\\frac{\\partial\\varphi}{\\partial x_0}=f(x,\\varphi(x,x_0,y_0))=P(x)\\varphi(x,x_0,y_0)+Q(x)$\n",
    "\n",
    "又可知方程$\\frac{dy}{dx}=P(x)y+Q(x)$的通解为\n",
    "$$y=e^{\\int P(x)dx}(\\int Q(x)*e^{\\int-P(x)dx}dx+c)$$\n",
    "而方程$\\frac{dy}{dx}=P(x)y+Q(x)$具有初始条件$y(x_0)=y_0$的特解可以写成\n",
    "\n",
    "$y=\\varphi(x,x_0,y_0)=e^{\\int^x_{x_0} P(u)du}(\\int^x_{x_0}Q(t)*e^{\\int^x_{x_0}-P(u)du}*dt+y_0)$\n",
    "利用参数求导得方法可得\n",
    "\n",
    "$\\frac{\\partial\\varphi}{\\partial x_0}=e^{\\int^x_{x_0} P(u)du}(-P(x_0))(\\int^x_{x_0}Q(t)e^{\\int^x_{x_0}-P(u)du}dt+y_0)+e^{\\int^x_{x_0} P(u)du}[(\\int^x_{x_0}-Q(x_0)e^{\\int^x_{x_0}-P(u)du}dt)P(x_0)]$\n",
    "\n",
    "$=-(P(x_0)y_0+Q(x_0))e^{\\int^x_{x_0}P(u)du},$\n",
    "\n",
    "$\\frac{\\partial\\varphi}{\\partial y_0}=e^{\\int^x_{x_0}P(u)du},$\n",
    "\n",
    "$\\frac{\\partial\\varphi}{\\partial x}=e^{\\int^x_{x_0}P(u)du}\\cdot P(x)\\cdot(\\int^x_{x_0}Q(t)e^{\\int^x_{x_0}-P(u)du}dt+y_0)+e^{\\int^x_{x_0}P(u)du}\\cdot Q(x)\\cdot e^{\\int^x_{x_0}-P(u)du}$\n",
    "\n",
    "$=P(x)\\varphi+Q(x)$\n",
    "\n",
    "因此即可证得$y=\\varphi(x,x_0,y_0)$是方程$\\frac{dy}{dx}=P(x)y+Q(x)$的解.\n",
    "\n",
    "\n"
   ]
  },
  {
   "cell_type": "markdown",
   "metadata": {},
   "source": [
    "3.给定方程$$\\frac{dy}{dx}=sin(\\frac{y}{x})$$\n",
    "试求$\\frac{\\partial y(x,x_0,y_0)}{\\partial x_0},\\frac{\\partial y(x,x_0,y_0)}{\\partial y_0}$在$x_0=1,y_0=0$时的表达式。"
   ]
  },
  {
   "cell_type": "markdown",
   "metadata": {},
   "source": [
    "解：由$f(x,y)=sin(\\frac{y}{x})$,可以得到$\\frac{\\partial f}{\\partial y}=\\frac{1}{x}\\cos(\\frac{y}{x})$,由解对初值的可微性定理可知，\n",
    "在$x_0=1,y_0=0$时由公式\n",
    "\n",
    "\n",
    "$\\frac{\\partial y(x,x_0,y_0)}{\\partial x_0}|_{(1,0)}=-f(x_0,y_0)exp(\\int^x_{x_0}\\frac{\\partial f(x,y)}{\\partial y}dx)|_{(1,0)}=0$\n",
    "\n",
    "\n",
    "$\\frac{\\partial y(x,x_0,y_0)}{\\partial y_0}|_{(1,0)}=exp(\\int^x_{x_0}\\frac{\\partial f(x,y)}{\\partial y}dx)|_{(1,0)}=exp(\\int^x_{x_0}\\frac{1}{x}\\cos(\\frac{y}{x})dx)|_{(1,0)}=exp(\\int^x_1\\frac{1}{x}dx)|_{(1,0)}=|x|$\n",
    "\n",
    "\n",
    "在$x_0=1,y_0=0$时则有$$\\frac{\\partial y(x,x_0,y_0)}{\\partial x_0}|_{(1,0)}=0,\\frac{\\partial y(x,x_0,y_0)}{\\partial y_0}|_{(1,0)}=|x|$$\n",
    "\n",
    "\n",
    "\n"
   ]
  },
  {
   "cell_type": "markdown",
   "metadata": {},
   "source": [
    "4.设$y=\\varphi(x,x_0,y_0,\\lambda)$是初值问题$$\\frac{dy}{dx}=sin(xy\\lambda),\\varphi(x,x_0,y_0,\\lambda)=y_0$$的饱和解，这里$\\lambda$是参数，\n",
    "求$\\frac{\\partial\\varphi}{\\partial x_0},\\frac{\\partial\\varphi}{\\partial y_0}$在$(x,0,0,1)$处的表达式。\n",
    "\n",
    "\n"
   ]
  },
  {
   "cell_type": "markdown",
   "metadata": {
    "collapsed": true
   },
   "source": [
    "解：由$f(x,y)=\\sin(xy\\lambda)$,可以得到$\\frac{\\partial f}{\\partial y}=\\lambda x\\cos(xy\\lambda)$,由解对初值的可微性定理可知，\n",
    "在$(x,0,0,1)$处\n",
    "\n",
    "$\\frac{\\partial\\varphi}{\\partial x_0}=-f(x_0,y_0)exp(\\int^x_{x_0}\\frac{\\partial f(x,\\varphi)}{\\partial y}dx)$\n",
    "\n",
    "$=-\\sin(x_0y_0\\lambda)exp(\\int^x_{x_0}\\lambda x\\cos(x\\varphi\\lambda)dx)$\n",
    "\n",
    "$\\frac{\\partial\\varphi}{\\partial y_0}=exp(\\int^x_{x_0}\\frac{\\partial f(x,\\varphi)}{\\partial y}dx)$\n",
    "\n",
    "$=exp(\\int^x_{x_0}\\lambda x\\cos(x\\varphi\\lambda)dx)$\n",
    "\n",
    "在$(x,0,0,1)$处得到表达式\n",
    "\n",
    "$\\frac{\\partial\\varphi}{\\partial x_0}|_{(x,0,0,1)}=0,\\frac{\\partial\\varphi}{\\partial y_0}|_{(x,0,0,1)}=exp(\\frac{x^2}{2})$"
   ]
  },
  {
   "cell_type": "markdown",
   "metadata": {
    "collapsed": true
   },
   "source": [
    "# <font color='red'>A  20/10"
   ]
  },
  {
   "cell_type": "code",
   "execution_count": null,
   "metadata": {
    "collapsed": true
   },
   "outputs": [],
   "source": []
  }
 ],
 "metadata": {
  "kernelspec": {
   "display_name": "SageMath 7.3",
   "language": "",
   "name": "sagemath"
  },
  "language_info": {
   "codemirror_mode": {
    "name": "ipython",
    "version": 2
   },
   "file_extension": ".py",
   "mimetype": "text/x-python",
   "name": "python",
   "nbconvert_exporter": "python",
   "pygments_lexer": "ipython2",
   "version": "2.7.10"
  }
 },
 "nbformat": 4,
 "nbformat_minor": 0
}
