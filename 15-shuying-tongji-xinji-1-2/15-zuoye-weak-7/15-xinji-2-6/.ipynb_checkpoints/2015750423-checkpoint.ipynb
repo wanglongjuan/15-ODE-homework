{
 "cells": [
  {
   "cell_type": "markdown",
   "metadata": {},
   "source": [
    "# 10月11日"
   ]
  },
  {
   "cell_type": "markdown",
   "metadata": {},
   "source": [
    "### 2.假设函数$P(x)和Q(x)$于区间$[\\alpha,\\beta]$上连续，$y=\\varphi(x,x_0,y_0)$是方程"
   ]
  },
  {
   "cell_type": "markdown",
   "metadata": {},
   "source": [
    "### $$\\frac{\\mathrm d y}{\\mathrm d x}=P(x)y+Q(x)$$"
   ]
  },
  {
   "cell_type": "markdown",
   "metadata": {},
   "source": [
    "### 的解，$y_0=\\varphi(x_0,x_0,y_0).$试求$\\frac{\\partial \\varphi}{\\partial x_0},\\frac{\\partial \\varphi}{\\partial y_0}$及$\\frac{\\partial \\varphi}{\\partial x}$,并从解的表达式出发，利用对参数求导数的方法，检验所得结果."
   ]
  },
  {
   "cell_type": "markdown",
   "metadata": {},
   "source": [
    "$\\quad解：f(x,y)=P(x)y+Q(x),\\frac{\\partial f}{\\partial y}=P(x),初始条件为y_0=\\varphi(x_0,x_0,y_0).根据解对初值的可微性定理可得$"
   ]
  },
  {
   "cell_type": "markdown",
   "metadata": {},
   "source": [
    "$\n",
    "\\begin{aligned}\n",
    "\\quad\\quad\\frac{\\partial \\varphi}{\\partial x_0}&=-f(x_0,y_0)\\exp(\\int_{x_0}^x\\ \\frac{\\partial f(s,\\varphi)}{\\partial y}\\mathrm d x)\\\\\n",
    "&=-(P(x_0)y_0+Q(x_0))\\exp(\\int_{x_0}^x\\ P(x)\\mathrm d x),\\\\\n",
    "\\frac{\\partial \\varphi}{\\partial y_0}&=\\exp(\\int_{x_0}^x\\ \\frac{\\partial f(s,\\varphi)}{\\partial y}\\mathrm d x)\\\\\n",
    "&=\\exp(\\int_{x_0}^x\\ P(x)\\mathrm d x),\\\\\n",
    "\\frac{\\partial \\varphi}{\\partial x_0}&=f(x,\\varphi(x,x_0,y_0))=P(x)\\varphi(x,x_0,y_0)+Q(x).\\\\\n",
    "\\end{aligned}\n",
    "$"
   ]
  },
  {
   "cell_type": "markdown",
   "metadata": {},
   "source": [
    "$又方程\\frac{\\mathrm d y}{\\mathrm d x}=P(x)y+Q(x)的通解为y=e^{\\int P(x)\\mathrm d x}(\\int Q(x)·e^{\\int -P(x)\\mathrm d x}\\mathrm d x+c).$"
   ]
  },
  {
   "cell_type": "markdown",
   "metadata": {},
   "source": [
    "$方程\\frac{\\mathrm d y}{\\mathrm d x}=P(x)y+Q(x)的具有初始条件y(x_0)=x_0的特解可写成y=\\varphi(x,x_0,y_0)=e^{\\int_{x_0}^x\\ P(s)\\mathrm d s}(\\int_{x_0}^x\\ Q(t)·e^{\\int_{x_0}^x\\ -P(s)\\mathrm d s}\\mathrm d t+y_0).$"
   ]
  },
  {
   "cell_type": "markdown",
   "metadata": {},
   "source": [
    "$利用可得参数导数的方法可得$"
   ]
  },
  {
   "cell_type": "markdown",
   "metadata": {},
   "source": [
    "$\n",
    "\\begin{aligned}\n",
    "\\quad\\quad\\frac{\\partial \\varphi}{\\partial x_0}&=e^{\\int_{x_0}^x\\ P(s)\\mathrm d s}·(-P(x_0))(\\int_{x_0}^x\\ Q(t)·e^{\\int_{x_0}^x\\ -P(s)\\mathrm d s}\\mathrm d t+y_0)+e^{\\int_{x_0}^x\\ P(s)\\mathrm d s}[-Q(x_0)e^{\\int_{x_0}^x\\ -P(s)\\mathrm d s}+(\\int_{x_0}^x\\ Q(t)·e^{\\int_{x_0}^x\\ -P(s)\\mathrm d s}·\\mathrm d t)×P(x_0)]\\\\\n",
    "&=-(P(x_0)y_0+Q(x_0))e^{\\int_{x_0}^x\\ P(s)\\mathrm d s},\\\\\n",
    "\\frac{\\partial \\varphi}{\\partial y_0}&=e^{\\int_{x_0}^x\\ P(s)\\mathrm d s},\\\\\n",
    "\\frac{\\partial \\varphi}{\\partial x}&=e^{\\int_{x_0}^x\\ P(s)\\mathrm d s}·P(x)·(\\int_{x_0}^x\\ Q(t)·e^{\\int_{x_0}^x\\ -P(s)\\mathrm d s}·\\mathrm d t+y_0)+e^{\\int_{x_0}^x\\ P(s)\\mathrm d s}·Q(x)·e^{\\int_{x_0}^x\\ -P(s)\\mathrm d s}\\\\\n",
    "&=P(x)\\varphi+Q(x),\\\\\n",
    "\\end{aligned}\n",
    "$"
   ]
  },
  {
   "cell_type": "markdown",
   "metadata": {},
   "source": [
    "$得出的结论与前面一致.$"
   ]
  },
  {
   "cell_type": "markdown",
   "metadata": {},
   "source": [
    "### 3.给定方程$\\frac{\\mathrm d y}{\\mathrm d x}=\\sin(\\frac{y}{x})$，试求$\\frac{\\partial y(x,x_0,y_0)}{\\partial x_0},\\frac{\\partial y(x,x_0,y_0)}{\\partial y_0}$在$x_0=1,y_0=0$时的表达式."
   ]
  },
  {
   "cell_type": "markdown",
   "metadata": {},
   "source": [
    "$\\quad设f(x,y)=\\sin(\\frac{y}{x}),则\\frac{\\partial f}{\\partial y}=\\frac{1}{x}\\cos(\\frac{y}{x}),由解对初值的可微性定理的证明可得$"
   ]
  },
  {
   "cell_type": "markdown",
   "metadata": {},
   "source": [
    "$\n",
    "\\begin{aligned}\n",
    "\\quad\\quad\\frac{\\partial y(x,x_0,y_0)}{\\partial x_0}&=-f(x_0,y_0)\\exp(\\int_{x_0}^x\\ \\frac{\\partial f(x,\\varphi)}{\\partial y}\\mathrm d x)\\\\\n",
    "&=-\\sin(\\frac{y_0}{x_0})\\exp(\\int_{x_0}^x\\ \\frac{1}{x}\\cos{\\frac{y}{x}}\\mathrm d x),\\\\\n",
    "\\frac{\\partial y(x,x_0,y_0)}{\\partial y_0}&=\\exp(\\int_{x_0}^x\\ \\frac{\\partial f(x,\\varphi)}{\\partial y}\\mathrm d x)\\\\\n",
    "&=\\exp(\\int_{x_0}^x\\ \\frac{1}{x}\\cos{\\frac{y}{x}}\\mathrm d x),\\\\\n",
    "\\end{aligned}\n",
    "$"
   ]
  },
  {
   "cell_type": "markdown",
   "metadata": {},
   "source": [
    "$\n",
    "\\begin{aligned}\n",
    "\\quad当x_0=1,y_0=0时，\\left.\\frac{\\partial y(x,x_0,y_0)}{\\partial x_0}\\right|_{x_0=1,y_0=0}&=0,\\\\\n",
    "\\left.\\frac{\\partial y(x,x_0,y_0)}{\\partial y_0}\\right|_{x_0=1,y_0=0}&=\\exp(\\int_1^x\\ \\frac{1}{x}\\mathrm d x)=\\mid x \\mid.\\\\\n",
    "\\end{aligned}\\\n",
    "$"
   ]
  },
  {
   "cell_type": "markdown",
   "metadata": {},
   "source": [
    "$即在x_0=1,y_0=0时，\\frac{\\partial y}{\\partial x_0}=0,\\frac{\\partial y}{\\partial y_0}=\\mid x\\mid.$"
   ]
  },
  {
   "cell_type": "markdown",
   "metadata": {},
   "source": [
    "# 10月12日"
   ]
  },
  {
   "cell_type": "markdown",
   "metadata": {
    "slideshow": {
     "slide_type": "subslide"
    }
   },
   "source": [
    "### 1.假设函数$f(x,y)$及$\\frac{\\partial f}{\\partial y}$都在区域G内连续，又$y=\\varphi(x,x_0,y_0)$是方程(3.1)满足初值条件$\\varphi(x_0,x_0,y_0)=y_0$的解，试证$\\frac{\\partial f}{\\partial y_0}$存在且连续，并写出其表达式."
   ]
  },
  {
   "cell_type": "markdown",
   "metadata": {},
   "source": [
    "$根据初值的可微性定理可得，$"
   ]
  },
  {
   "cell_type": "markdown",
   "metadata": {},
   "source": [
    "$\\quad若f(x,y)及\\frac{\\partial f}{\\partial y}都在区域G内连续，方程(3.1)的解y=\\varphi(x,x_0,y_0)作为x,x_0,y_0的函数在它存在的范围内是连续可微的.$"
   ]
  },
  {
   "cell_type": "markdown",
   "metadata": {},
   "source": [
    "$其中可微是指导函数存在且连续，即\\frac{\\partial \\varphi}{\\partial x},\\frac{\\partial \\varphi}{\\partial x_0},\\frac{\\partial \\varphi}{\\partial y_0}都存在，且在解存在范围内是连续的.$"
   ]
  },
  {
   "cell_type": "markdown",
   "metadata": {},
   "source": [
    "$\\quad本题的已知条件与该定理一致，即本题的命题可证.$"
   ]
  },
  {
   "cell_type": "markdown",
   "metadata": {},
   "source": [
    "$\\quad表达式为\\frac{\\partial \\varphi}{\\partial y_0}=\\exp(\\int_{x_0}^x\\ \\frac{\\partial f(x,\\varphi)}{\\partial y}\\mathrm d x).$"
   ]
  },
  {
   "cell_type": "markdown",
   "metadata": {},
   "source": [
    "### 4.设$y=\\varphi(x,x_0,y_0，\\lambda)$是初值问题$\\frac{\\mathrm d y}{\\mathrm d x}=\\sin(\\lambda xy),\\varphi(x_0,x_0,y_0，\\lambda)=y_0$的饱和解，这里$\\lambda$是参数，求$\\frac{\\partial \\varphi}{\\partial x_0},\\frac{\\partial \\varphi}{\\partial y_0}$在$(x,0,0,1)$处的表达式."
   ]
  },
  {
   "cell_type": "markdown",
   "metadata": {},
   "source": [
    "$\\quad f(x,y)=\\sin(\\lambda xy),\\frac{\\partial f}{\\partial y}=\\lambda x \\cos(\\lambda xy),$"
   ]
  },
  {
   "cell_type": "markdown",
   "metadata": {},
   "source": [
    "$根据解对初值的可微性定理可得，$"
   ]
  },
  {
   "cell_type": "markdown",
   "metadata": {},
   "source": [
    "$\n",
    "\\begin{aligned}\n",
    "\\quad\\quad\\frac{\\partial \\varphi}{\\partial x_0}&=-f(x_0,y_0)\\exp(\\int_{x_0}^x\\ \\frac{\\partial f(x,\\varphi)}{\\partial y}\\mathrm d x)\\\\\n",
    "&=-\\sin(\\lambda x_0,y_0)\\exp(\\int_{x_0}^x\\ \\lambda x \\cos(\\lambda x \\varphi)\\mathrm d x),\\\\\n",
    "\\frac{\\partial \\varphi}{\\partial y_0}&=\\exp(\\int_{x_0}^x\\ \\frac{\\partial f(x,\\varphi)}{\\partial y}\\mathrm d x)\\\\\n",
    "&=\\exp(\\int_{x_0}^x\\ \\lambda x \\cos(\\lambda x \\varphi)\\mathrm d x).\\\\\n",
    "\\end{aligned}\n",
    "$"
   ]
  },
  {
   "cell_type": "markdown",
   "metadata": {},
   "source": [
    "$\n",
    "\\begin{aligned}\n",
    "\\quad当x_0=1,y_0=0时，\\left.\\frac{\\partial \\varphi}{\\partial x_0}\\right|_{x,0,0,1}&=0,\\\\\n",
    "\\left.\\frac{\\partial \\varphi}{\\partial y_0}\\right|_{x,0,0,1}&=\\exp(\\int_0^x\\ x\\cos 0\\mathrm d x)=\\exp(\\frac{x^2}{2}).\\\\\n",
    "\\end{aligned}\n",
    "$"
   ]
  },
  {
   "cell_type": "markdown",
   "metadata": {},
   "source": [
    "# <font color='red'>A  20/10"
   ]
  },
  {
   "cell_type": "code",
   "execution_count": null,
   "metadata": {
    "collapsed": true
   },
   "outputs": [],
   "source": []
  }
 ],
 "metadata": {
  "kernelspec": {
   "display_name": "SageMath 7.3",
   "language": "",
   "name": "sagemath"
  },
  "language_info": {
   "codemirror_mode": {
    "name": "ipython",
    "version": 2
   },
   "file_extension": ".py",
   "mimetype": "text/x-python",
   "name": "python",
   "nbconvert_exporter": "python",
   "pygments_lexer": "ipython2",
   "version": "2.7.10"
  }
 },
 "nbformat": 4,
 "nbformat_minor": 0
}
