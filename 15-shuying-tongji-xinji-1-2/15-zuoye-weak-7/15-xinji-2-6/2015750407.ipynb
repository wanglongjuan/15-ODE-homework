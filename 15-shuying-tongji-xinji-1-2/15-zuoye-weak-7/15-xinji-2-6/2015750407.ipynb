{
 "cells": [
  {
   "cell_type": "markdown",
   "metadata": {},
   "source": [
    "$2015750407魏雄峰常微分第七周作业$"
   ]
  },
  {
   "cell_type": "markdown",
   "metadata": {},
   "source": [
    "$1.解：记初值为(x_0,y_0+△y_0)的解为y=ψ(x,x_0,y_0+△y_0),其中|△y_0|≤α，α足够小，则$\n",
    "\n",
    "$φ=y_0+\\int\\limits_{x_0}^x f(s,φ(s)) d s,ψ=y_0+△y_0+\\int\\limits_{x_0}^x f(s,ψ(s)) d s$\n",
    "\n",
    "$ψ-φ=△y_0+\\int\\limits_{x_0}^x \\frac{f(s,θ(ψ-φ))}{y}(ψ(s)-φ(s)) d s,θ∈[0,1]$\n",
    "\n",
    "$由\\frac{f}{y}及ψ，φ的连续性，有\\frac{f(s,θ(ψ-φ))}{y}=\\frac{f(s,φ)}{y}+r,r满足△y_0→0,r→0;△y_0=0,r=0$\n",
    "\n",
    "$对△y_0≠0有，\\frac{ψ-φ}{△y_0}=1+\\int\\limits_{x_0}^x [\\frac{f(s,φ)}{y}+r]\\frac{ψ-φ}{△y_0} d s$\n",
    "\n",
    "$即z=\\frac{ψ-φ}{△y_0}是微分方程初值问题$\n",
    "\n",
    "$$\n",
    "\\begin{cases}\n",
    "\\frac{z}{x}=z[\\frac{f(s,φ)}{y}+r]\\\\\n",
    "z(x_0)=1\\\\\n",
    "\\end{cases}\n",
    "$$\n",
    "\n",
    "$的解，即\\frac{ψ-φ}{△y_0}=z=exp{\\int\\limits_{x_0}^x [\\frac{f(s,φ)}{y}+r] d s}$\n",
    "\n",
    "$于是，\\frac{φ}{y_0}=\\lim_{y_0\\to 0}\\frac{ψ-φ}{△y_0}=exp{\\int\\limits_{x_0}^x [\\frac{f(s,φ)}{y}] d s}$\n",
    "\n",
    "$这是x,x_0,y_0的连续函数$"
   ]
  },
  {
   "cell_type": "markdown",
   "metadata": {},
   "source": [
    "$2.解：由于f(x,y)=P(x)y+Q(x),所以\\frac{f}{y}=P(x),由解对初值的可微性定理得$\n",
    "\n",
    "$\\frac{φ}{x_0}=-f(x_0,y_0)exp[\\int\\limits_{x_0}^x \\frac{f(s,φ)}{y} d s]=-[P(x_0)y_0+Q(x_0)]exp[\\int\\limits_{x_0}^x P(s) d s]$\n",
    "\n",
    "$\\frac{φ}{y_0}=exp[\\int\\limits_{x_0}^x \\frac{f(s,φ)}{y} d s]=exp[\\int\\limits_{x_0}^x P(s) d s]$\n",
    "\n",
    "$\\frac{φ}{x}=f(x,φ(x,x_0,y_0))=P(x)φ(x,x_0,y_0)+Q(x)$\n",
    "\n",
    "$因为非齐次线性方程有解的表达式为e^{\\int P(x) d x}[\\int Q(x)e^{-\\int P(x) d x} d x +c]$\n",
    "\n",
    "$φ(x,x_0,y_0)=y_0e^{\\int\\limits_{x_0}^x P(s) d s}+\\int\\limits_{x_0}^x Q(s)e^{\\int\\limits_{s}^x P(t) d t} d s$\n",
    "\n",
    "$直接对参数求导可得$\n",
    "\n",
    "$\\frac{φ(x,x_0,y_0)}{x_0}=-[P(x_0)y_0+Q(x_0)]e^{\\int\\limits_{x_0}^x P(s) d s}$\n",
    "\n",
    "$\\frac{φ(x,x_0,y_0)}{y_0}=e^{\\int\\limits_{x_0}^x P(s) d s}$\n",
    "\n",
    "$\\frac{φ(x,x_0,y_0)}{x}=Q(x)+P(x)φ(x,x_0,y_0)$\n",
    "\n",
    "$经检验，与解对应的可微性定理中的公式一致$"
   ]
  },
  {
   "cell_type": "markdown",
   "metadata": {},
   "source": [
    "$3.解：设f(x,y)=sin(\\frac{y}{x}),则\\frac{f}{y}=\\frac{1}{x}cos(\\frac{y}{x})$\n",
    "\n",
    "$油解对初值的可微性定理的证明可知$\n",
    "\n",
    "$\\frac{y(x,x_0,y_0)}{x_0}=-f(x_0,y_0)exp(\\int\\limits_{x_0}^x \\frac{f(s,y)}{y} d s)=-sin(\\frac{y_0}{x_0})exp(\\int\\limits_{x_0}^x \\frac{1}{s}cos\\frac{y}{s} d s)$\n",
    "\n",
    "$\\frac{y(x,x_0,y_0)}{y_0}=exp(\\int\\limits_{x_0}^x \\frac{f(s,y)}{y} d s)=exp(\\int\\limits_{x_0}^x \\frac{1}{s}cos\\frac{y}{s} d s)$\n",
    "\n",
    "$当x_0=1,y_0=0时，对应的得到\\frac{y(x,x_0,y_0)}{x_0}|_{x_0=1,y_0=0}=0$\n",
    "\n",
    "$\\frac{y(x,x_0,y_0)}{y_0}|_{x_0=1,y_0=0}=exp(\\int\\limits_{1}^x \\frac{1}{s} d s)=|x|$\n",
    "\n",
    "$所以在x_0=1,y_0=0时，\\frac{y}{x_0}=0,\\frac{y}{y_0}=|x|$"
   ]
  },
  {
   "cell_type": "markdown",
   "metadata": {},
   "source": [
    "$4.解：f(x,y)=sin(λxy),\\frac{f}{y}=λxcos(λxy)$\n",
    "\n",
    "$由解对初值的可微性定理得$\n",
    "\n",
    "$\\frac{φ}{x_0}=-f(x_0,y_0)exp(\\int\\limits_{x_0}^x \\frac{f(s,φ)}{y} d s)=-sin(λx_0y_0)exp(\\int\\limits_{x_0}^x λscos(λsφ) d s)$\n",
    "\n",
    "$\\frac{φ}{y_0}=exp(\\int\\limits_{x_0}^x \\frac{f(s,φ)}{y} d s)=exp(\\int\\limits_{x_0}^x λscos(λsφ) d s)$\n",
    "\n",
    "$当x_0=0,y_0=0,λ=1时，则有\\frac{φ}{x_0}|_{x,0,0,1}=0$\n",
    "\n",
    "$\\frac{φ}{y_0}|_{x,0,0,1}=exp(\\int\\limits_{0}^x s cos0 d s)=exp(\\frac{x^2}{2})$"
   ]
  },
  {
   "cell_type": "markdown",
   "metadata": {},
   "source": [
    "# <font color='red'>A  20/10"
   ]
  },
  {
   "cell_type": "code",
   "execution_count": null,
   "metadata": {
    "collapsed": true
   },
   "outputs": [],
   "source": []
  }
 ],
 "metadata": {
  "kernelspec": {
   "display_name": "SageMath 7.3",
   "language": "",
   "name": "sagemath"
  },
  "language_info": {
   "codemirror_mode": {
    "name": "ipython",
    "version": 2
   },
   "file_extension": ".py",
   "mimetype": "text/x-python",
   "name": "python",
   "nbconvert_exporter": "python",
   "pygments_lexer": "ipython2",
   "version": "2.7.10"
  }
 },
 "nbformat": 4,
 "nbformat_minor": 0
}
