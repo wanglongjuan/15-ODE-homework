{
 "cells": [
  {
   "cell_type": "markdown",
   "metadata": {},
   "source": [
    "## 常微分方程作业 2015750437 李玉贤 \n",
    "##P103.1.2.3.4."
   ]
  },
  {
   "cell_type": "markdown",
   "metadata": {},
   "source": [
    "**$1.假设函数f(x,y)及\\frac{\\partial f}{\\partial y}都在区域G内连续,又y=\\varphi(x,x_0,y_0)是教材中方程（3.1）满足初始条件\\varphi(x_0,x_0,y_0)=y_0的解，试证\\frac{\\partial \\varphi}{\\partial y_0}存在且连续，并写出其表达式.\n",
    "$**"
   ]
  },
  {
   "cell_type": "markdown",
   "metadata": {},
   "source": [
    "**证明** $\\quad$ 由 $\\frac{\\partial f}{\\partial y}$ 在区域 $G$ 内连续，推知 $f(x,y)$ 在 $G$ 内关于 $y$ 一致满足局部的利普希茨条件.因此，在定理的条件下，解对初值的连续性定理成立，即 $y=\\varphi(x,x_0,y_0)$ 在它的存在范围内关于 $x$ , $x_0$ , $y_0$ 是连续的.设\n",
    " $y=\\varphi(x,x_0,y+\\Delta y_0)=\\bar{\\psi}$ 为初值 $(x_0,y+\\Delta y_0)(\\mid y_0\\mid\\leq \\alpha)$ 所确定的解分别为\n",
    "\n",
    "$$\n",
    "y=\\varphi(x,x_0,y_0)=\\varphi  和 y=\\varphi(x,x_0,y_0+\\Delta y_0)=\\psi\n",
    "$$\n",
    "\n",
    "即\n",
    "\n",
    "$$\n",
    "\\varphi=y_0+\\int_{x_0}^x f(x,\\varphi){\\mathrm d x}\n",
    "和\\psi=y_0+\\int_{x_0+\\Delta x_0}^x f(x,\\psi){\\mathrm d x}\n",
    "$$\n",
    "\n",
    "于是\n",
    "$$\n",
    "\\begin{aligned}\n",
    "\\psi-\\varphi &=y_0+\\int_{x_0+\\Delta x_0}^x f(x,\\psi){\\mathrm d x}-y_0+\\int_{x_0}^x f(x,\\varphi){\\mathrm d x}\\\\\n",
    "&=-\\int_{x_0}^{x_0+\\Delta x_0}f(x,\\psi)+\\int_{x_0}^x\\frac{\\partial f (x,\\varphi+\\theta(\\psi-\\varphi))}{\\partial y}(\\psi-\\varphi){\\mathrm d  x}\\\\\n",
    "\\end{aligned}\n",
    "$$\n",
    "\n",
    "其中$0<\\alpha<1$. 注意到$\\frac{\\partial f}{\\partial y}$及$\\varphi$, $\\psi$的连续性，我们有\n",
    "\n",
    "$$\n",
    "\\frac{\\partial f (x,\\varphi+\\alpha(\\psi-\\varphi))}{\\partial y}=\\frac{\\partial f(x,\\varphi)}{\\partial y}+r_3\n",
    "$$\n",
    "\n",
    "这里 $r_3$ 具有性质：当$\\Delta x_0\\to 0$，时 $r_3\\to 0$, 且当$\\Delta x_0= 0$时，$r_3= 0$，类似的有\n",
    "\n",
    "$$\n",
    "-\\frac{1}{\\Delta y_0}\\int_{x_0}^{x_0+\\Delta x_0}f(x,\\psi){\\mathrm d x}=1+r_4\n",
    "$$\n",
    "\n",
    "其中 $r_4$ 与 $r_3$ 具有相同的性质，因此对 $\\Delta x_0  \\neq 0$ 有\n",
    "$$\n",
    "\\frac{\\psi-\\varphi}{\\Delta y_0}=[1+r_4]+\\int_{x_0}^x[\\frac{\\partial f(x,\\varphi)}{\\partial y}+r_3]\\frac{\\psi-\\varphi}{\\Delta y_0}{\\mathrm d x}\n",
    "$$\n",
    "\n",
    "即\n",
    "\n",
    "$$\n",
    "z=\\frac{\\psi-\\varphi}{\\Delta y_0}\n",
    "$$\n",
    "\n",
    "是初值问题\n",
    "\n",
    "$$\n",
    "\\begin{cases}\n",
    "\\frac{\\mathrm d z}{\\mathrm d x}=[\\frac{\\partial f(x,\\varphi)}{\\partial y}+r_3]z\\\\\n",
    "z(x_0)=1+r_4=z_0\\\\\n",
    "\\end{cases}\n",
    "$$\n",
    "\n",
    "的解，在这里 $\\Delta y_0 \\neq 0$ 被看成参数.\n",
    "显然,当 $\\Delta y_0 = 0$ 时上式初值问题仍然有解，根据解对初值和参数的连续性定理，知 $\\frac{\\psi-\\varphi}{\\Delta y_0}$ 是 $x$ , $x_0$ ,$z_0$ , $\\Delta y_0$ , 的连续函数，从而存在\n",
    "\n",
    "$$\n",
    "\\lim_{\\Delta y_0 \\to 0} \\frac{\\psi-\\varphi}{\\Delta y_0}\\equiv\\frac{\\partial \\varphi}{\\partial y_0}\n",
    "$$\n",
    "\n",
    "而 $\\frac{\\partial \\varphi}{\\partial y_0}$ 是初值问题\n",
    "\n",
    "$$\n",
    "\\begin{cases}\n",
    "\\frac{\\mathrm d z}{\\mathrm d x}=[\\frac{\\partial f(x,\\varphi)}{\\partial y}+r_3]z\\\\\n",
    "z(x_0)=1\\\\\n",
    "\\end{cases}\n",
    "$$\n",
    "\n",
    "的解不难求得\n",
    "\n",
    "$$\n",
    "\\frac{\\partial \\varphi}{\\partial y_0}=\\exp \\left(\\int_{x_0}^{x}\\frac{\\partial f(x,\\varphi)}{\\partial y}{\\mathrm d x}\\right)\n",
    "$$\n",
    "\n",
    "显然它是 $x$ , $x_0$ , $y_0$ 的连续函数.\n"
   ]
  },
  {
   "cell_type": "markdown",
   "metadata": {},
   "source": [
    "**$2.假设函数P(x)和Q(x)于区间[\\alpha,\\beta]上连续，y=\\varphi(x,x_0,y_0)是方程$ $$ \\frac{\\mathrm {d}y}{\\mathrm{d}x}=P(x)y+Q(x)$$ $的解，y_0=\\varphi(x_0,x_0,y_0)试求\\frac{\\partial \\varphi}{\\partial x_0},\\frac{\\partial \\varphi}{\\partial y_0},\\frac{\\partial \\varphi}{\\partial x}并从解的表达式出发，利用对参数求导数的方法，检验所得结果。\n",
    "$**"
   ]
  },
  {
   "cell_type": "markdown",
   "metadata": {},
   "source": [
    "**$ 解:$**\n",
    "$由题知f(x,y)=P(x)y+Q(x),\\frac{\\partial f}{\\partial y}=P(x),初始条件为y=\\varphi_0(x_0,x_0,y_0)据解对初值的可微性定理得：$\n",
    "$$\n",
    "\\begin{aligned}\n",
    "\\frac{\\partial \\varphi}{\\partial {x_0}}&=-f(x_0,y_0)\\exp \\Big(\\int_{x_0}^x \\mathrm{\\frac{\\partial f(s,\\varphi)}{\\partial y}}\\,\\mathrm{d}x \\Big)\\\\\n",
    "&=-(P(x_0)y_0+Q(x_0))\\exp \\Big(\\int_{x_0}^x \\mathrm{P(x)}\\,\\mathrm{d}x \\Big)\\\\\n",
    "\\frac{\\partial \\varphi}{\\partial y_0}&=\\exp \\Big(\\int_{x_0}^x \\mathrm{\\frac{\\partial f(s,\\varphi)}{\\partial y}}\\,\\mathrm{d}x \\Big)\\\\\n",
    "&=\\exp \\Big(\\int_{x_0}^x \\mathrm{P(x)}\\,\\mathrm{d}x \\Big)\\\\\n",
    "\\frac{\\partial \\varphi}{\\partial x_0}&=f(x,\\varphi(x,x_0,y_0))=P(x)\\varphi(x,x_0,y_0)+Q(x)\n",
    "\\end{aligned}\n",
    "$$ \n",
    "$知\\frac{\\mathrm {d}y}{\\mathrm{d}x}=P(x)y+Q(x)的通解为：$\n",
    "$$y=e^{\\int \\mathrm{P(x)}\\,\\mathrm{d}x }\\Big(\\int \\mathrm{Q(x)e^{\\int_{x_0}^x \\mathrm{-P(x)}\\,\\mathrm{d}x }}\\,\\mathrm{d}x +c \\Big)$$\n",
    "$方程\\frac{\\mathrm {d}y}{\\mathrm{d}x}=P(x)y+Q(x)的具有初始条件y(x_0)=x_0的特解可写为：$\n",
    "$$y=\\varphi(x,x_0,y_0)=e^{\\int_{x_0}^x \\mathrm{P(s)}\\,\\mathrm{d}s }\\Big(\\int_{x_0}^x \\mathrm{Q(t)e^{\\int_{x_0}^x \\mathrm{-P(s)}\\,\\mathrm{d}s }}\\,\\mathrm{d}t +y_0 \\Big)$$\n",
    "$由参数导数方法可得：$\n",
    "$$\n",
    "\\begin{aligned}\n",
    "\\frac{\\partial \\varphi}{\\partial x_0}&=e^{\\int_{x_0}^x \\mathrm{P(s)}\\,\\mathrm{d}s }(-P(x_0))\\Big(\\int_{x_0}^x \\mathrm{Q(t)e^{\\int_{x_0}^x \\mathrm{-P(s)}\\,\\mathrm{d}s }}\\,\\mathrm{d}t +y_0 \\Big)\\\\\n",
    "&\\quad +e^{\\int_{x_0}^x \\mathrm{P(s)}\\,\\mathrm{d}s }\\Big[-Q(x_0)e^{\\int_{x_0}^x \\mathrm{-P(s)}\\,\\mathrm{d}s }+\\Big(\\int_{x_0}^x \\mathrm{Q(t)e^{\\int_{x_0}^x \\mathrm{-P(s)}\\,\\mathrm{d}s }}\\,\\mathrm{d}t\\Big)\\times P(x_0)\\Big]\\\\\n",
    "&=-(P(x_0)y_0+Q(x_0))e^{\\int_{x_0}^x \\mathrm{P(s)}\\,\\mathrm{d}s }\\\\\n",
    "\\frac{\\partial \\varphi}{\\partial y_0}&=e^{\\int_{x_0}^x \\mathrm{P(s)}\\,\\mathrm{d}s }\\\\\n",
    "\\frac{\\partial \\varphi}{\\partial x}&=e^{\\int_{x_0}^x \\mathrm{P(s)}\\,\\mathrm{d}s }P(x)\\Big(\\int_{x_0}^x \\mathrm{Q(t)e^{\\int_{x_0}^x \\mathrm{-P(s)}\\,\\mathrm{d}s }}\\,\\mathrm{d}t +y_0 \\Big)\\\\\n",
    "&\\quad +e^{\\int_{x_0}^x \\mathrm{P(s)}\\,\\mathrm{d}s }Q(x_0)e^{\\int_{x_0}^x \\mathrm{-P(s)}\\,\\mathrm{d}s }\\\\\n",
    "&=P(x)\\varphi+Q(x)\n",
    "\\end{aligned}\n",
    "$$ \n",
    "$与前结论一致.$"
   ]
  },
  {
   "cell_type": "markdown",
   "metadata": {
    "collapsed": true
   },
   "source": [
    "**$3.给定方程$ $$ \\frac{\\mathrm {d}y}{\\mathrm{d}x}=\\sin{\\frac{y}{x}}$$ $试求\\frac{\\partial y(x,x_0,y_0)}{\\partial x_0},\\frac{\\partial y(x,x_0,y_0)}{\\partial y_0}在x_0=1,y_0=0时的表达式.\n",
    "$**"
   ]
  },
  {
   "cell_type": "markdown",
   "metadata": {},
   "source": [
    "**$ 解:$**\n",
    "$设f(x,y)=\\sin{\\frac{y}{x}},则\\frac{\\partial f}{\\partial y}=\\frac{1}{x}\\cos{\\frac{y}{x}},据解对初值的可微性定理得：$\n",
    "$$\n",
    "\\begin{aligned}\n",
    "\\frac{\\partial y(x,x_0,y_0)}{\\partial x_0}&=-f(x_0,y_0)\\exp \\Big(\\int_{x_0}^x \\mathrm{\\frac{\\partial f(x,\\varphi)}{\\partial y}}\\,\\mathrm{d}x \\Big)\\\\\n",
    "&=-\\sin{\\frac{y}{x}}\\exp \\Big(\\int_{x_0}^x \\mathrm{\\frac{1}{x}\\cos{\\frac{y}{x}}}\\,\\mathrm{d}x \\Big)\\\\\n",
    "\\frac{\\partial y(x,x_0,y_0)}{\\partial y_0}&=\\exp \\Big(\\int_{x_0}^x \\mathrm{\\frac{\\partial f(x,\\varphi)}{\\partial y}}\\,\\mathrm{d}x \\Big)\\\\\n",
    "&=\\exp \\Big(\\int_{x_0}^x \\mathrm{\\frac{1}{x}\\cos{\\frac{y}{x}}}\\,\\mathrm{d}x \\Big)\\\\\n",
    "\\end{aligned}\n",
    "$$ \n",
    "$当x_0=1,y_0=0时，有：$\n",
    "$$\n",
    "\\begin{aligned}\n",
    "\\left.\\frac{\\partial y(x,x_0,y_0)}{\\partial x_0}\\right|_{x_0=1,y_0=0}&=0,\\\\\n",
    "\\left.\\frac{\\partial y(x,x_0,y_0)}{\\partial y_0}\\right|_{x_0=1,y_0=0}&=\\exp \\Big(\\int_1^x \\mathrm{\\frac{1}{x}}\\,\\mathrm{d}x \\Big)=|x|\n",
    "\\end{aligned}\n",
    "$$ \n",
    "$所以，x_0=1,y_0=0时\\frac{\\partial y}{\\partial x_0}=0,\\quad\\frac{\\partial y}{\\partial y_0}=|x|$\n"
   ]
  },
  {
   "cell_type": "markdown",
   "metadata": {},
   "source": [
    "**$4.设y=\\varphi(x,x_0,y_0,\\lambda)是初值问题$ $$ \\frac{\\mathrm {d}y}{\\mathrm{d}x}=\\sin(\\lambda xy),\\quad\\varphi(x_0,x_0,y_0,\\lambda)=y_0$$ $的饱和解，这里\\lambda是参数，求\\frac{\\partial \\varphi}{\\partial x_0},\\frac{\\partial \\varphi}{\\partial y_0}在(x,0,0,1)处的表达式.\n",
    "$**"
   ]
  },
  {
   "cell_type": "markdown",
   "metadata": {},
   "source": [
    "**$ 解:$**\n",
    "$f(x,y)=\\sin(\\lambda xy),\\quad\\frac{\\partial f}{\\partial y}=\\lambda x \\cos{\\lambda xy},据解对初值的可微性定理得：$\n",
    "$$\n",
    "\\begin{aligned}\n",
    "\\frac{\\partial \\varphi}{\\partial x_0}&=-f(x_0,y_0)\\exp \\Big(\\int_{x_0}^x \\mathrm{\\frac{\\partial f(x,\\varphi)}{\\partial y}}\\,\\mathrm{d}x \\Big)\\\\\n",
    "&=-\\sin(\\lambda xy)\\exp \\Big(\\int_{x_0}^x \\mathrm{\\lambda x \\cos{\\lambda xy}}\\,\\mathrm{d}x \\Big)\\\\\n",
    "\\frac{\\partial \\varphi}{\\partial y_0}&=\\exp \\Big(\\int_{x_0}^x \\mathrm{\\frac{\\partial f(x,\\varphi)}{\\partial y}}\\,\\mathrm{d}x \\Big)\\\\\n",
    "&=\\exp \\Big(\\int_{x_0}^x \\mathrm{\\lambda x \\cos{\\lambda xy}}\\,\\mathrm{d}x \\Big)\\\\\n",
    "\\end{aligned}\n",
    "$$ \n",
    "$当x_0=0,y_0=0,\\lambda=1时，有：$\n",
    "$$\n",
    "\\begin{aligned}\n",
    "\\left.\\frac{\\partial \\varphi}{\\partial x_0}\\right|_{x,0,0,1}&=0,\\\\\n",
    "\\left.\\frac{\\partial \\varphi}{\\partial y_0}\\right|_{x,0,0,1}&=\\exp \\Big(\\int_0^x \\mathrm{x \\cos0}\\,\\mathrm{d}x \\Big)=exp(\\frac{x^2}{2})\n",
    "\\end{aligned}\n",
    "$$ \n",
    "\n"
   ]
  },
  {
   "cell_type": "markdown",
   "metadata": {},
   "source": [
    "# <font color='red'>A  20/10"
   ]
  },
  {
   "cell_type": "code",
   "execution_count": null,
   "metadata": {
    "collapsed": true
   },
   "outputs": [],
   "source": []
  }
 ],
 "metadata": {
  "kernelspec": {
   "display_name": "SageMath 7.3",
   "language": "",
   "name": "sagemath"
  },
  "language_info": {
   "codemirror_mode": {
    "name": "ipython",
    "version": 2
   },
   "file_extension": ".py",
   "mimetype": "text/x-python",
   "name": "python",
   "nbconvert_exporter": "python",
   "pygments_lexer": "ipython2",
   "version": "2.7.10"
  }
 },
 "nbformat": 4,
 "nbformat_minor": 0
}
