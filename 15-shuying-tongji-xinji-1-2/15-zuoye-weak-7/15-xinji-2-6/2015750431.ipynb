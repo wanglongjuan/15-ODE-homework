{
 "cells": [
  {
   "cell_type": "markdown",
   "metadata": {
    "collapsed": true
   },
   "source": [
    "# 常微分作业"
   ]
  },
  {
   "cell_type": "markdown",
   "metadata": {},
   "source": [
    "## （10月11号）"
   ]
  },
  {
   "cell_type": "markdown",
   "metadata": {},
   "source": [
    "### P103.2.假设函数$\\quad P(x)$和$\\quad Q(x)$于区间 [$\\alpha,\\beta$]上连续，$y=\\varphi(x,x_0,y_0)$ 是方程$$\\frac{\\mathrm d y}{\\mathrm d x}=P(x)y+Q(x)$$的解，$y_0=\\varphi(x_0,x_0,y_0)$.试求$\\frac{\\partial \\varphi}{\\partial x_0},\\frac{\\partial \\varphi}{\\partial y_0}$及$\\frac{\\partial \\varphi}{\\partial x}$，并从解的表达式出发，利用参数求导数的方法，检验所得结果."
   ]
  },
  {
   "cell_type": "markdown",
   "metadata": {},
   "source": [
    "解：这里$f(x,y)=P(x)y+Q(x)$,$\\frac{\\partial f}{\\partial y}=P(x)$,初始条件为$y_0=\\varphi(x_0,x_0,y_0)$.根据解对初值的可微性定理可得\n",
    "\\begin{aligned}\n",
    "\\frac{\\partial \\varphi}{\\partial x_0}&=-f(x_0,y_0)\\exp(\\int_{x_0}^{x}\\frac{\\partial f(s,\\varphi)}{\\partial y}\\mathrm d x)\\\\\n",
    "&=-(P(x_0)y_0+Q(x_0))\\exp(\\int_{x_0}^{x}P(x)\\mathrm d x),\\\\\n",
    "\\frac{\\partial \\varphi}{\\partial y_0}&=exp(\\int_{x_0}^{x}\\frac{\\partial f(s,\\varphi)}{\\partial y}\\mathrm d x)\\\\\n",
    "&=\\exp(\\int_{x_0}^{x}P(x)\\mathrm d x),\\\\\n",
    "\\frac{\\partial \\varphi}{\\partial x}&=f(x,\\varphi(x,x_0,y_0))=P(x)\\varphi(x,x_0,y_0)+Q(x).\n",
    "\\end{aligned}\n",
    "又知方程$\\frac{\\mathrm d y}{\\mathrm d x}=P(x)y+Q(x)$的通解的表达式，故初始条件为$y(x_0)=x_0$的特解可以写成\n",
    "$$y=\\varphi(x,x_0,y_0)=e{\\int_{x_0}^{x}P(s)\\mathrm ds}(\\int_{x_0}^{x}Q(t)·e{\\int_{x_0}^{x}-P(s)\\mathrm ds}·\\mathrm dt+y_0),$$\n",
    "利用可得参数导数的方法可得\n",
    "\\begin{aligned}\n",
    "\\frac{\\partial \\varphi}{\\partial x_0}&=e{\\int_{x_0}^{x}P(s)\\mathrm ds}·(-P(x_0))(\\int_{x_0}^{x}Q(t)·e{\\int_{x_0}^{x}-P(s)\\mathrm ds}·\\mathrm dt+y_0)\\\\\n",
    "&+e{\\int_{x_0}^{x}P(s)\\mathrm ds}[-Q(x_0)e{\\int_{x_0}^{x}-P(s)\\mathrm ds}+(\\int_{x_0}^{x}Q(t)·e{\\int_{x_0}^{x}-P(s)\\mathrm ds}\\mathrm dt)\\times P(x_0)]\\\\\n",
    "&=-(P(x_0)y_0+Q(x_0))e{\\int_{x_0}^{x}P(s)\\mathrm ds},\\\\\n",
    "\\frac{\\partial \\varphi}{\\partial y_0}&=e{\\int_{x_0}^{x}P(s)\\mathrm ds},\\\\\n",
    "\\frac{\\partial \\varphi}{\\partial x}&=e{\\int_{x_0}^{x}P(s)\\mathrm ds}e\\int_{x_0}^{x}P(s)\\mathrm ds·P(x)·(\\int_{x_0}^{x}Q(t)·e{\\int_{x_0}^{x}-P(s)\\mathrm ds}·\\mathrm dt+y_0)\\\\&+e{\\int_{x_0}^{x}P(s)\\mathrm ds}·Q(x)·e{\\int_{x_0}^{x}-P(s)\\mathrm ds}\\\\\n",
    "&=P(x)\\varphi+Q(x),\n",
    "\\end{aligned}\n",
    "则与前面解出结论一致。"
   ]
  },
  {
   "cell_type": "markdown",
   "metadata": {},
   "source": [
    "### 3.给定方程$$\\frac{\\mathrm d y}{\\mathrm d x}=\\sin(\\frac{y}{x}),$$试求$\\frac{\\partial y(x,x_0,y_0)}{\\partial x_0},\\frac{\\partial y(x,x_0,y_0)}{\\partial y_0}$在$x_0=1,y_0=0$时的表达式."
   ]
  },
  {
   "cell_type": "markdown",
   "metadata": {},
   "source": [
    "解：设$f(x,y)=\\sin(\\frac{y}{x})$,则$\\frac{\\partial f)}{\\partial y}=\\frac{1}{x}\\cos(\\frac{y}{x}),$由解对初值的可微性定理的证明可得\n",
    "\\begin{aligned}\n",
    "\\frac{\\partial y(x,x_0,y_0)}{\\partial x_0}&=-f(x_0,y_0)\\exp(\\int_{x_0}^{x}\\frac{\\partial f(x,\\varphi)}{\\partial y}\\mathrm d x)\\\\\n",
    "&=-\\sin(\\frac{y_0}{x_0})\\exp(\\int_{x_0}^{x}\\frac{1}{x}\\cos\\frac{y)}{x}\\mathrm d x),\\\\\n",
    "\\frac{\\partial y(x,x_0,y_0)}{\\partial y_0}&=\\exp(\\int_{x_0}^{x}\\frac{\\partial f(x,\\varphi)}{\\partial y}\\mathrm d x)\\\\\n",
    "&=\\exp(\\int_{x_0}^{x}\\frac{1}{x}\\cos\\frac{y)}{x}\\mathrm d x),\n",
    "\\end{aligned}\n",
    "当$x_0=1$,$y_0=0$时，对应得到\n",
    "\\begin{aligned}\n",
    "\\frac{\\partial y(x,x_0,y_0)}{\\partial x_0}|_{x_0=1,y_0=0}&=0\\\\\n",
    "\\frac{\\partial y(x,x_0,y_0)}{\\partial y_0}|_{x_0=1,y_0=0}&=\\exp(\\int_{1}^{x}\\frac{1}{x}\\mathrm d x)=|x|\n",
    "\\end{aligned}\n",
    "所以，在$x_0=1$,$y_0=0$时，$\\frac{\\partial y}{\\partial x_0}=0$,$\\frac{\\partial y}{\\partial y_0}=|x|.$"
   ]
  },
  {
   "cell_type": "markdown",
   "metadata": {},
   "source": [
    "## (10月12号)"
   ]
  },
  {
   "cell_type": "markdown",
   "metadata": {},
   "source": [
    "### P102.1.假设函数$f(x,y)$及$\\frac{\\partial f}{\\partial y}$都在区域$G$内连续，又$y=\\varphi(x,x_0,y_0)$是方程$(3.1)$满足初值条件$\\varphi(x_0,x_0,y_0)=y_0$的解，试证$\\frac{\\partial f}{\\partial y_0}$存在且连续，并写出其表达式."
   ]
  },
  {
   "cell_type": "markdown",
   "metadata": {},
   "source": [
    "解：依据解对初值的可微性定理可知，若$f(x,y)$及$\\frac{\\partial f}{\\partial y}$都在区域$G$内连续，则其解$y=\\varphi(x,x_0,y_0)$作为$x,x_0,y_0$的函数在它存在的范围内是连续可微的，$\\frac{\\partial f}{\\partial y}$其表达式为\n",
    "$$\\frac{\\partial f}{\\partial y_0}=\\exp(\\int_{x_0}^{x}\\frac{\\partial f(x,\\varphi)}{\\partial y}\\mathrm d x)$$"
   ]
  },
  {
   "cell_type": "markdown",
   "metadata": {},
   "source": [
    "### P103.4.设$y=\\varphi(x,x_0,y_0,\\lambda)$是初值问题$$\\frac{\\mathrm d y}{\\mathrm d x}=\\sin(\\lambda xy),\\varphi(x_0,x_0,y_0,\\lambda)=y_0$$的饱和解，这里$\\lambda$是参数，求$\\frac{\\partial \\varphi}{\\partial x_0}$,$\\frac{\\partial \\varphi}{\\partial y_0}$在$(x,0,0,1)$处的表达式."
   ]
  },
  {
   "cell_type": "markdown",
   "metadata": {},
   "source": [
    "解：这里$f(x,y)=\\sin(\\lambda xy)\\frac{\\partial \\varphi}{\\partial y}=\\lambda x\\cos(\\lambda xy),$\n",
    "\n",
    "根据解对初值的可微性定理可得\n",
    "\\begin{aligned}\n",
    "\\frac{\\partial \\varphi}{\\partial x_0}&=-f(x_0,y_0)\\exp(\\int_{x_0}^{x}\\frac{\\partial f(x,\\varphi)}{\\partial y}\\mathrm d x)\\\\\n",
    "&=-\\sin(\\lambda x_0,y_0)\\exp(\\int_{x_0}^{x}\\lambda x\\cos(\\lambda x\\varphi)\\mathrm d x),\\\\\n",
    "\\frac{\\partial y(x,x_0,y_0)}{\\partial y_0}&=\\exp(\\int_{x_0}^{x}\\frac{\\partial f(x,\\varphi)}{\\partial y}\\mathrm d x)\\\\\n",
    "&=\\exp(\\int_{x_0}^{x}\\lambda x\\cos(\\lambda x\\varphi)\\mathrm d x),\n",
    "\\end{aligned}\n",
    "当$x_0=0,y_0=0,\\lambda=1$时，则有\n",
    "\\begin{aligned}\n",
    "\\frac{\\partial \\varphi}{\\partial x_0}|_{x,0,0,1}&=0,\\\\\n",
    "\\frac{\\partial y(x,x_0,y_0)}{\\partial y_0}|_{x,0,0,1}&=\\exp(\\int_{0}^{x}\\lambda x\\cos0\\mathrm d x)=\\exp(\\frac{x^2}{2}),\n",
    "\\end{aligned}"
   ]
  },
  {
   "cell_type": "markdown",
   "metadata": {},
   "source": [
    "# <font color='red'>A  20/10"
   ]
  },
  {
   "cell_type": "code",
   "execution_count": null,
   "metadata": {
    "collapsed": true
   },
   "outputs": [],
   "source": []
  }
 ],
 "metadata": {
  "kernelspec": {
   "display_name": "SageMath 7.3",
   "language": "",
   "name": "sagemath"
  },
  "language_info": {
   "codemirror_mode": {
    "name": "ipython",
    "version": 2
   },
   "file_extension": ".py",
   "mimetype": "text/x-python",
   "name": "python",
   "nbconvert_exporter": "python",
   "pygments_lexer": "ipython2",
   "version": "2.7.10"
  }
 },
 "nbformat": 4,
 "nbformat_minor": 0
}
