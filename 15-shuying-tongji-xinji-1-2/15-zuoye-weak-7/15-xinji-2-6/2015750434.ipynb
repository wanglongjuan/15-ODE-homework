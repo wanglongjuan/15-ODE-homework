{
 "cells": [
  {
   "cell_type": "markdown",
   "metadata": {},
   "source": [
    "2.假设函数P（x）和Q（x）于区间$[\\alpha,\\beta]$上连续，$y=\\varphi(x,x_0,y_0)$是方程 $\\frac{dy}{dx}=P(x)y+Q(x)$的解，$y=\\varphi(x_0,x_0,y_0)$试求$\\frac{\\partial\\varphi}{\\partial x_0},\\frac{\\partial\\varphi}{\\partial y_0}及\\frac{\\partial\\varphi}{\\partial x}$,并从解的表达式出发，利用对参数求导数的方法，检验所得结果"
   ]
  },
  {
   "cell_type": "markdown",
   "metadata": {},
   "source": [
    "解：$f(x,y)=P(x)y+Q(x),\\frac{\\partial f}{\\partial y}=P(x)$,初始条件为$y_0=\\varphi(x_0,x_0,y_0)$.根据教材中解对初值的可微性定理得$\\frac{\\partial \\varphi}{\\partial x_0}=-f(x_0,y_0)exp(\\int_{x_0}^x \\frac{\\partial f(x,\\varphi)}{\\partial y} {\\rm d}x)=-(P(x_0)y_0+Q(x_0))exp(\\int_{x_0}^x P(x) {\\rm d}x)$,\n",
    "\n",
    "$\\frac{\\partial \\varphi}{\\partial y_0}=exp(\\int_{x_0}^x \\frac{\\partial f(x,\\varphi)}{\\partial y} {\\rm d}x)=exp(\\int_{x_0}^x P(x) {\\rm d}x)$,\n",
    "\n",
    "$\\frac{\\partial \\varphi}{\\partial x}=f(x,\\varphi(x,x_0,y_0))=P(x)\\varphi(x,x_0,y_0)+Q(x)$.\n",
    "\n",
    "我们知道方程$\\frac{dy}{dx}=P(x)y+Q(x)$的通解为$y=e^{\\int P(x)dx}(\\int Q(x)\\cdot e^{-\\int P(x)dx}dx+c)$.\n",
    "\n",
    "而方程$\\frac{dy}{dx}=P(x)y+Q(x)$的具有初始条件$y(x_0)=x_0$的特解可以写成$y=\\varphi(x,x_0,y_0)=e^{\\int_{x_0}^x P(x) {\\rm d}s}(\\int_{x_0}^x Q(t)\\cdot e^{\\int_{x_0}^t -P(s) {\\rm d}s}\\cdot dt+y_0)$,\n",
    "\n",
    "利用对参数求导数的方法可得$\\frac{\\partial \\varphi}{\\partial x_0}=e^{\\int_{x_0}^x P(s) {\\rm d}s}\\cdot (-P(x_0))(\\int_{x_0}^x Q(t)e^{\\int_{x_0}^t -P(s) {\\rm d}s}dt+y_0)+e^{\\int_{x_0}^x P(s) {\\rm d}s}[-Q(x_0)e^{\\int_{x_0}^x -P(s) {\\rm d}s}+(\\int_{x_0}^x Q(t)e^{\\int_{x_0}^t -P(s) {\\rm d}s}dt)\\cdot P(x_0)]=-(P(x_0)y_0+Q(x_0))e^{\\int_{x_0}^x P(s) {\\rm d}s}$\n",
    "\n",
    "$\\frac{\\partial \\varphi}{\\partial y_0}=e^{\\int_{x_0}^x P(s) {\\rm d}s}$,\n",
    "\n",
    "$\\frac{\\partial \\varphi}{\\partial x}=P(x)\\varphi+Q(x)$"
   ]
  },
  {
   "cell_type": "markdown",
   "metadata": {},
   "source": [
    "3.给定方程$\\frac{dy}{dx}=sin(\\frac{y}{x}),试求\\frac{\\varphi(x,x_0,y_0)}{\\varphi x_0},\\frac{\\varphi(x,x_0,y_0)}{\\varphi y_0}在x_0=1,y_0=0时的表达式$"
   ]
  },
  {
   "cell_type": "markdown",
   "metadata": {},
   "source": [
    "解：设$f(x,y)=sin(\\frac{y}{x}),则\\frac{\\partial f}{\\partial y}=\\frac{1}{x}cos(\\frac{y}{x})$,由教材中解对初值的可微性的证明可得\n",
    "\n",
    "$\\frac{\\partial y(x,x_0,y_0)}{\\partial x_0}=-f(x_0,y_0)exp(\\int_{x_0}^x \\frac{\\partial f(x,\\varphi)}{\\partial y}dx)=-sin(\\frac{y_0}{x_0})exp(\\int_{x_0}^x \\frac{1}{x}cos\\frac{y}{x}dx)$,\n",
    "\n",
    "$\\frac{\\partial y(x,x_0,y_0)}{\\partial y_0}=exp(\\int_{x_0}^x \\frac{\\partial f(x,\\varphi)}{\\partial y}dx)=exp(\\int_{x_0}^x \\frac{1}{x}cos\\frac{y}{x}dx)$,\n",
    "\n",
    "当$x_0=1,y_0=0时$，对应地得到\n",
    "\n",
    "$\\left. \\frac{\\partial y(x,x_0,y_0)}{\\partial x_0} \\right| _{x_0=1,y_0=0}=0$\n",
    "\n",
    "$\\left. \\frac{\\partial y(x,x_0,y_0)}{\\partial y_0} \\right| _{x_0=1,y_0=0}=exp(\\int_1^x \\frac{1}{x}dx)=|x|$.\n",
    "\n",
    "所以，在$x_0=1,y_0=0时，\\frac{\\partial y}{\\partial x_0}=0,\\frac{\\partial y}{\\partial y_0}=|x|$"
   ]
  },
  {
   "cell_type": "markdown",
   "metadata": {},
   "source": [
    "1.假设函数$f(x,y)及\\frac{\\partial f}{\\partial y}都在区域G内连续，又y=\\varphi(x,x_0,y_0)是方程（3.1）满足初值条件\\varphi(x_0,x_0,y_0)=y_0的解，试证\\frac{\\partial \\varphi}{\\partial y_0}存在且连续，并写出其表达式。$"
   ]
  },
  {
   "cell_type": "markdown",
   "metadata": {},
   "source": [
    "解：解对初值的可微性定理证明了若$f(x,y)及\\frac{\\partial f}{\\partial y}$都在区域G内连续时，方程（3.1）的解$y=\\varphi(x,x_0,y_0)作为x,x_0,y_0$的函数在它的存在范围内是连续可微的，这里所谓“连续可微”指的是导函数存在且连续，即$\\frac{\\partial \\varphi}{\\partial x},\\frac{\\partial \\varphi}{\\partial x_0},\\frac{\\partial \\varphi}{\\partial y_0}$都存在，且在解存在范围内是连续的，本题的已知条件与该定理一致，故完全如定理证明过程一样，可以证明本题中$\\frac{\\partial \\varphi}{\\partial y_0}$存在且连续，并且表达式为\n",
    "\n",
    "$\\frac{\\partial \\varphi}{\\partial y_0}=exp(int_{x_0}^x  \\frac{\\partial f(x,\\varphi)}{\\partial y}dx)$\n",
    "\n",
    "或者$\\frac{\\partial \\varphi}{\\partial y_0}=exp(int_{x_0}^x  \\frac{\\partial f(s,\\varphi)}{\\partial y}ds)$"
   ]
  },
  {
   "cell_type": "markdown",
   "metadata": {},
   "source": [
    "4.设$y=\\varphi(x,x_0,y_0,\\lambda)=y_0$的饱和解，这里$\\lambda$是参数，求$\\frac{\\partial \\varphi}{\\partial x_0},\\frac{\\partial \\varphi}{\\partial y_0}$在（x,0,0,1）处的表达式。"
   ]
  },
  {
   "cell_type": "markdown",
   "metadata": {},
   "source": [
    "解：把参数$\\lambda看成普通的常数，\n",
    "\n",
    "$f(x,y)=sin(\\lambda xy),\\ \\ \\frac{\\partial f}{\\partial y}=\\lambda xcos(\\lambda xy)$,\n",
    "\n",
    "由解对初值的可微性定理可得，\n",
    "\n",
    "$\\frac{\\partial \\varphi}{\\partial x_0}=-f(x_0,y_0)exp(\\int_{x_0}^x \\frac{\\partial f(x,\\varphi)}{\\partial y}dx)=-sin(\\lambda x_0y_0)exp(\\int_{x_0}^x \\lambda xcos(\\lambda x \\varphi)dx)$,\n",
    "\n",
    "$\\frac{\\partial \\varphi}{\\partial y_0}=exp(\\int_{x_0}^x \\frac{\\partial f(x,\\varphi)}{\\partial y}dx)=exp(\\int_{x_0}^x \\lambda xcos(\\lambda x \\varphi)dx)$\n",
    "\n",
    "$当x_0=0,y_0=0,\\lambda=1$时，则有\n",
    "\n",
    "\n",
    "$\\left. \\frac{\\partial \\varphi}{\\partial x_0} \\right| _{x,0,0,1}=0$\n",
    "\n",
    "\n",
    "$\\left. \\frac{\\partial \\varphi}{\\partial y_0} \\right| _{x,0,0,1}=exp(\\int_0^x xcos0dx)=exp(\\frac{x^2}{2})$"
   ]
  },
  {
   "cell_type": "markdown",
   "metadata": {
    "collapsed": true
   },
   "source": [
    "# <font color='red'>A  20/10"
   ]
  },
  {
   "cell_type": "code",
   "execution_count": null,
   "metadata": {
    "collapsed": true
   },
   "outputs": [],
   "source": []
  }
 ],
 "metadata": {
  "kernelspec": {
   "display_name": "SageMath 7.3",
   "language": "",
   "name": "sagemath"
  },
  "language_info": {
   "codemirror_mode": {
    "name": "ipython",
    "version": 2
   },
   "file_extension": ".py",
   "mimetype": "text/x-python",
   "name": "python",
   "nbconvert_exporter": "python",
   "pygments_lexer": "ipython2",
   "version": "2.7.10"
  }
 },
 "nbformat": 4,
 "nbformat_minor": 0
}
