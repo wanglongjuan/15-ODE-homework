{
 "cells": [
  {
   "cell_type": "markdown",
   "metadata": {},
   "source": [
    "$$ 第四次常微分作业$$\n",
    "                             "
   ]
  },
  {
   "cell_type": "markdown",
   "metadata": {},
   "source": [
    "第三大题"
   ]
  },
  {
   "cell_type": "markdown",
   "metadata": {
    "collapsed": true
   },
   "source": [
    "$$解：由题可知M=\\max \\limits_{x,y\\in R}|f(x,y)|,h=\\min \\{1,\\frac{1}{4}\\}=\\frac{1}{4} $$\n",
    "$$在R上函数f(x,y)=x^2-y^2的利普希茨常数L=2$$\n",
    "因为$$\\frac{\\partial f}{\\partial y}=|-2y| \\leq 2$$\n",
    "\n",
    "$$\\varphi_0(x)=0$$\n",
    "\n",
    "$$\\varphi_1(x)=\\int_{-1}^x (t^2-\\varphi_0^2(t))\\mathrm d t=\\frac{x^3}{3}+\\frac{1}{3}$$\n",
    "$$\\varphi_2(x)=\\int_{-1}^x (t^2-\\varphi_1^2(t))\\mathrm d t=\\int_{-1}^x (t^2-\\frac{(t^3+1)^2}{9})\\mathrm d t=\\frac{x^3}{3}-\\frac{x}{9}-\\frac{x^4}{16}-\\frac{x^7}{63}+\\frac{11}{42}$$\n",
    "由误差估计公式$$|\\varphi_2(x)-\\varphi(x)| \\leq \\frac{4 \\bullet 2^2}{3!} \\bullet (\\frac{1}{4})^3=\\frac{1}{24}$$\n",
    "已知初值问题的解的存在区间是$-\\frac{5}{4} \\leq x \\leq -\\frac{3}{4}$\n",
    "第二次近似解为$$y_2=\\frac{x^3}{3}-\\frac{x}{9}-\\frac{x^4}{16}-\\frac{x^7}{63}+\\frac{11}{42}$$\n",
    "误差估计为$$|y-y_2| \\leq \\frac{1}{24}$$"
   ]
  },
  {
   "cell_type": "markdown",
   "metadata": {},
   "source": [
    "第六大题"
   ]
  },
  {
   "cell_type": "markdown",
   "metadata": {},
   "source": [
    "$$解：(1)K>0时，令w(t)=K+\\int_\\alpha^t f(s)g(s)\\mathrm d s$$\n",
    "则$$w'(t)=f(t)g(t) \\leq g(t)w(t)$$\n",
    "由$w(t)>0$可得$$\\frac{w'(t)}{w(t)} \\leq g(t)$$\n",
    "两边从$\\alpha$到$t$积分得$$\\ln w(t)-\\ln w(\\alpha) \\leq \\int_\\alpha^t g(s)\\mathrm d s$$\n",
    "\n",
    "即$$\\frac{w(t)}{w(\\alpha)} \\leq \\exp(\\int_\\alpha^t g(s)\\mathrm d s),w(\\alpha)=K>0$$\n",
    "\n",
    "所以$$w(t) \\leq K \\bullet \\exp(\\int_\\alpha^t g(s)\\mathrm d s)$$\n",
    "\n",
    "即$$f(t) \\leq w(t) \\leq K \\bullet \\exp(\\int_\\alpha^t g(s)\\mathrm d s),\\alpha \\leq t \\leq \\beta$$\n",
    "2)$K=0$时，对任意$\\varepsilon>0$,由于$$f(t) \\leq \\int_\\alpha^t f(s)g(s)\\mathrm d s$$\n",
    "\n",
    "所以$$f(t) \\leq \\varepsilon + \\int_\\alpha^t f(s)g(s)\\mathrm d s$$\n",
    "\n",
    "由(1)可得$$f(t) \\leq \\varepsilon\\exp(\\int_\\alpha^t g(s)\\mathrm d s)$$\n",
    "\n",
    "当$\\varepsilon \\to 0^+$时，有$f(t) \\leq 0$又因为$f(t) \\geq 0$即得$f(t) \\equiv 0$\n",
    "\n",
    "从而$$f(t) \\leq K \\bullet \\exp(\\int_\\alpha^t g(s)\\mathrm d s),\\alpha \\leq t \\leq \\beta$$\n",
    "\n",
    "由(1)(2)知，格朗沃尔不等式成立\n",
    "\n",
    "下面为证明：\n",
    "\n",
    "设$\\phi(x)$是积分方程$$y=y_0+\\int_{x_0}^x f(x,y)\\mathrm d x,x_0 \\leq x \\leq x_0+h$$\n",
    "的定义于$x_0 \\leq x \\leq x_0+h$上的另一连续解，则$$\\varphi(x)=\\phi(x)(x_0 \\leq x \\leq x_0+h)$$\n",
    "\n",
    "设$\\phi(x),\\varphi(x)$是初值问题$x'=f(t,x),x(t_0)=x_0$的两个解，则有\n",
    "$$\\varphi(t)=x_0+\\int_{t_0}^t f(\\xi,\\varphi(\\xi))\\mathrm d \\xi,\\phi(t)=x_0+\\int_{t_0}^t f(\\xi,\\phi(\\xi))\\mathrm d \\xi$$\n",
    "于是$$|\\varphi(t)-\\phi(t)| \\leq \\int_{t_0}^t |f(\\xi,\\varphi(\\xi))-f(\\xi,\\phi(\\xi))|\\mathrm d \\xi \\leq L \\int_{t_0}^t |\\varphi(\\xi)-\\phi(\\xi)|\\mathrm d \\xi$$\n",
    "由格朗沃尔不等式知$K=0$且$$0 \\leq |\\varphi(\\xi)-\\phi(\\xi)| \\leq K \\bullet \\exp(\\int_{t_0}^t L\\mathrm d \\xi)=0$$\n",
    "于是$\\varphi(\\xi)=\\phi(\\xi)$"
   ]
  },
  {
   "cell_type": "markdown",
   "metadata": {},
   "source": [
    "第八大题"
   ]
  },
  {
   "cell_type": "markdown",
   "metadata": {},
   "source": [
    "$$解：设M=\\max \\limits_{x\\in [a,b]}|f(x,y_0)|,h=\\beta - \\alpha,b=Mh $$ \n",
    "\n",
    "$及有某数 L 使得在域$$R=\\{(x,y)|\\alpha \\leq x \\leq \\beta,|y-y_0| \\leq b\\}$$中有$\n",
    "\n",
    "$$|f(x,y_1)-f(x,y_2)| \\leq L|y_1-y_2|,(x,y_1),(x,y_2) \\in R$$\n",
    "构造逐步逼近函数序列\n",
    "$$\\begin{cases}\n",
    "\\varphi_0(x)=y_0\\\\\n",
    "\\varphi_n(x)=y_0+\\int_{x_0}^x f(\\xi,\\varphi_{n-1}(\\xi))\\mathrm d x,\\alpha \\leq x \\leq \\beta,n=1,2,\\ldots\n",
    "\\end{cases}$$\n",
    "因为$$|\\varphi_1(x)-y_0|=|\\int_{x_0}^x f(\\xi,y_0)\\mathrm d x| \\leq \\int_{x_0}^x |f(\\xi,y_0)|\\mathrm d x \\leq M(x-x_0) \\leq Mh \\leq b$$\n",
    "可证$$|\\varphi_n(x)-\\varphi_{n-1}(x)| \\leq \\frac{M}{n!}L^{n-1}(\\beta - \\alpha)^n$$\n",
    "事实上有$$|\\varphi_{n+1}(x)-\\varphi_n(x)| \\leq |\\int_{x_0}^x |f(\\xi,\\varphi_n(\\xi))-f(\\xi,\\varphi_{n-1}(\\xi))|\\mathrm d \\xi|$$\n",
    "$$ \\leq L |\\int_{x_0}^x |\\varphi_n(\\xi)-\\varphi_{n-1}(\\xi)|\\mathrm d \\xi|$$\n",
    "$$ \\leq L |\\int_{x_0}^x \\frac{M}{n!}L^{n-1}|\\xi - x_0|^n \\mathrm d \\xi|$$\n",
    "$$ \\leq L \\frac{M}{(n+1)!}L^{n}|x - x_0|^{n+1}$$\n",
    "$$ \\leq L \\frac{M}{(n+1)!}L^{n}(\\beta - \\alpha)^{n+1}$$\n",
    "由于级数$\\displaystyle\\sum_{k=1}^\\infty \\frac{M}{k!}L^{k-1}(\\beta - \\alpha)^{k}$收敛，知级数\n",
    "$$\\varphi_n(x)=\\varphi_0(x)+\\displaystyle\\sum_{k=1}^\\infty [\\varphi_k(x)-\\varphi_{k-1}(x)]$$\n",
    "在区间$[\\alpha,\\beta]$一致收敛，于是存在极限$\\lim \\limits_{n \\to \\infty} \\varphi_n(x)=\\varphi(x)$，它在区间$[\\alpha,\\beta]$连续且\n",
    "$$\\varphi(x)=\\lim \\limits_{n \\to \\infty} \\varphi_n(x)=y_0+\\lim \\limits_{n \\to \\infty} \\int_{x_0}^x f(\\xi,\\varphi_{n-1}(\\xi))\\mathrm d x$$\n",
    "$$=y_0+\\int_{x_0}^x f(x,\\lim \\limits_{n \\to \\infty}\\varphi_{n-1}(\\xi))\\mathrm d \\xi$$\n",
    "$$=y_0+\\int_{x_0}^x f(\\xi,\\varphi(\\xi))\\mathrm d \\xi$$\n",
    "故$\\varphi(x)$是积分方程也就是微分方程得解\n",
    "\n",
    "设$\\phi(x),\\varphi(x)$均满足积分方程\n",
    "$$y=y_0+\\int_{x_0}^x f(\\xi,\\varphi(\\xi))\\mathrm d \\xi,\\alpha \\leq x_0 \\leq \\beta,\\alpha \\leq x \\leq \\beta$$\n",
    "当$x \\geq x_0$时，利用格朗沃尔不等式，由\n",
    "$$|\\varphi(x)-\\phi(x)| \\leq \\int_{x_0}^x |f(s,\\varphi_{n-1}(s))-|f(s,\\phi_{n-1}(s))|\\mathrm d s$$\n",
    "有$|\\varphi(x)-\\phi(x)| \\leq 0$即$\\varphi(x) \\equiv \\phi(x)(\\alpha \\leq x_0 \\leq x \\leq \\beta)$\n",
    "\n",
    "同理可证当$\\alpha \\leq x \\leq x_0 \\leq \\beta$时有$\\varphi(x) \\equiv \\phi(x)$\n",
    "\n",
    "即积分方程也就是微分方程得解是唯一的\n"
   ]
  },
  {
   "cell_type": "markdown",
   "metadata": {},
   "source": [
    "\n",
    "第十大题"
   ]
  },
  {
   "cell_type": "markdown",
   "metadata": {},
   "source": [
    "$$解：构造逐步逼近函数序列，取\\varphi_0(x)=f(x)$$\n",
    "\n",
    "令$$\\varphi_1(x)=f(x)+\\lambda \\int_a^b K(x,\\xi)\\varphi_0(\\xi)\\mathrm d \\xi,\\ldots$$\n",
    "$$\\varphi_{n+1}(x)=f(x)+\\lambda \\int_a^b K(x,\\xi)\\varphi_n(\\xi)\\mathrm d \\xi,\\ldots$$\n",
    "\n",
    "令$$M=\\max \\limits_{x \\in [a,b]}|f(x)|,L=\\max_{\\substack{x \\in [a,b]\\\\\\xi \\in [a,b]}}|K(x,\\xi)|>0$$则\n",
    "$$|\\varphi_1(x)-\\varphi_0(x)|=|\\lambda  \\int_a^b K(x,\\xi)\\varphi_0(\\xi)\\mathrm d \\xi| \\leq |\\lambda|\\int_a^b |K(x,\\xi)||f(\\xi)|\\mathrm d \\xi \\leq |\\lambda|ML(b-a)$$\n",
    "假设$|\\varphi_k(x)-\\varphi_{k-1}(x)| \\leq {|\\lambda|}^k L^k M(b-a)^k$成立，则\n",
    "$$|\\varphi_{k+1}(x)-\\varphi_k(x)|=|\\lambda \\int_a^b K(x,\\xi)(\\varphi_k(\\xi)-\\varphi_{k-1}(\\xi))\\mathrm d \\xi|$$\n",
    "$$ \\leq |\\lambda|\\int_a^b |K(x,\\xi)||\\varphi_k(\\xi)-\\varphi_{k-1}(\\xi)|\\mathrm d \\xi$$\n",
    "$$ \\leq |\\lambda| \\int_a^b L^{k+1} {|\\lambda|}^k M(b-a)^k \\mathrm d \\xi$$\n",
    "$$ =|\\lambda|^{k+1} L^{k+1} M(b-a)^{k+1}$$\n",
    "\n",
    "由数学归纳法可知，对任意的$n \\in N$,有\n",
    "$$|\\varphi_n(x)-\\varphi_{n-1}(x)| \\leq ML^n|\\lambda|^n(b-a)^n$$\n",
    "\n",
    "下证$\\{\\varphi_n(x)\\}$在$[a,b]$上一致收敛，考虑级数$\\varphi_0(x)+\\displaystyle\\sum_{k=1}^\\infty (\\varphi_k(x)-\\varphi_{k-1}(x))$\n",
    "\n",
    "只需证该级数在$[a,b]$上一致收敛即可，由于\n",
    "$$|\\varphi_k(x)-\\varphi_{k-1}(x)| \\leq ML^n|\\lambda|^n(b-a)^n$$\n",
    "\n",
    "当$|\\lambda|<\\frac{1}{(b-a)L}$时，级数$\\displaystyle\\sum_{k=1}^\\infty ML^k|\\lambda|^k(b-a)^k$收敛\n",
    "\n",
    "由此可知当$|\\lambda|<\\frac{1}{(b-a)L}$时，级数$\\varphi_0(x)+\\displaystyle\\sum_{k=1}^\\infty (\\varphi_k(x)-\\varphi_{k-1}(x))$在$[a,b]$上一致收敛\n",
    "\n",
    "即$\\{\\varphi_n(x)\\}$在$[a,b]$上一致收敛，不妨设其极限函数为$\\varphi^*(x)$,即当$x \\in [a,b]$时，$\\varphi_n(x)$当$n \\to \\infty$时一致收敛于$\\varphi^*(x)$，且由$\\varphi_n(x)$得连续性知$\\varphi^*(x)$在$[a,b]$上连续，$\\varphi_{n+1}(x)=f(x)+\\lambda \\int_a^b K(x,\\xi)\\varphi_n(\\xi)\\mathrm d \\xi,\\ldots$，当$n \\to \\infty$时两边取极限，得\n",
    "$$\\varphi^*(x)=f(x)+\\lambda \\int_a^b K(x,\\xi)\\varphi^*(x)\\mathrm d \\xi    (|\\lambda|<\\frac{1}{(b-a)L})$$\n",
    "即当$|\\lambda|<\\frac{1}{(b-a)L}$时,积分方程必存在连续解\n",
    "\n",
    "下证当$|\\lambda|<\\frac{1}{(b-a)L}$时，$\\varphi(x)=f(x)+\\lambda \\int_a^b K(x,\\xi)\\varphi(\\xi)\\mathrm d \\xi$的解得唯一性，用反证法\n",
    "\n",
    "设另有解$\\varphi_m(x)$且$\\varphi_m(x) \\neq \\varphi^*(x)$，即$$\\varphi_m(x)=f(x)+\\lambda \\int_a^b K(x,\\xi)\\varphi_m(\\xi)\\mathrm d \\xi$$\n",
    "记$$G=\\max \\limits_{x \\in [a,b]}|\\varphi^*(x)-\\varphi_m(x)|>0$$\n",
    "$$|\\varphi^*(x)-\\varphi_m(x)|=|\\lambda \\int_a^b K(x,\\xi)(\\varphi^*(x)-\\varphi_m(\\xi))\\mathrm d \\xi|$$\n",
    "$$ \\leq |\\lambda| \\int_a^b L |\\varphi^*(x)-\\varphi_m(\\xi)| \\mathrm d \\xi=|\\lambda|GL(b-a)$$\n",
    "\n",
    "即有$G \\leq |\\lambda|GL(b-a)$,由于$G>0$,所以，$|\\lambda| \\geq \\frac{1}{(b-a)L}$,与$|\\lambda|<\\frac{1}{(b-a)L}$矛盾，唯一性可证。\n"
   ]
  },
  {
   "cell_type": "markdown",
   "metadata": {},
   "source": [
    "# <font color='red'>A  11/10"
   ]
  },
  {
   "cell_type": "code",
   "execution_count": null,
   "metadata": {
    "collapsed": true
   },
   "outputs": [],
   "source": []
  }
 ],
 "metadata": {
  "kernelspec": {
   "display_name": "SageMath 7.3",
   "language": "",
   "name": "sagemath"
  },
  "language_info": {
   "codemirror_mode": {
    "name": "ipython",
    "version": 2
   },
   "file_extension": ".py",
   "mimetype": "text/x-python",
   "name": "python",
   "nbconvert_exporter": "python",
   "pygments_lexer": "ipython2",
   "version": "2.7.10"
  }
 },
 "nbformat": 4,
 "nbformat_minor": 0
}
