{
 "cells": [
  {
   "cell_type": "markdown",
   "metadata": {},
   "source": [
    "3.求初值问题\n",
    "解：M=max|f(x,y)|=4,h=min{1,1/4}=1/4,(x,y)属于R,在R上函数f(x,y)=x^2-y^2的利普希茨常数L=2，又f 对y的偏导数为|-2y|<=2,\n",
    "    \n",
    "phi[0](x)=0,phi[1](x)=(t^2-(phi[0](t))^2）从-1到x的积分，等于x^3/3+1/3,phi[2](x)=x^3-x/9-x^4/18-x^7/63+11/42,由误差估计 公式得到\n",
    "|phi[2](x)-phi(x)|<=4*2^2/3!*(1/4)^3=1/24.所以已知初值问题的解的存在区间为-5/4<=x<=-3/4,\n",
    "第二次近似值解为y[2]=x^3/3-x/9-x^4/18-X^7/63+11/42,在解的存在区间的估计误差为|y-y[2]|<=1/24.\n"
   ]
  },
  {
   "cell_type": "markdown",
   "metadata": {},
   "source": [
    "# <font color='red'>正确"
   ]
  },
  {
   "cell_type": "markdown",
   "metadata": {},
   "source": [
    "6.证明格兰沃尔不等式\n",
    "证明：（1）K>0时，令w(t)=K+f(s)g(s)s从a到t的积分，所以w(t)的导数等于f(t)g(t)<=g(t)w(t),\n",
    "           又w(t）>0可得w(t)的导数比w(t)小于g(t),两边从a到t积分得ln w(t)-ln w(phi)小于g(s)从a到t的积分，即w(t)/w(phi)<=exp(g(s)ds从a到td的积分），w(phi)=K>0,所以w(t)<=K*exp(exp(g(s)ds从a到td的积分），即f(t)<=w(t)<=K* exp(g(s)ds从a到td的积分),phi<=t<=blta\n",
    "       （2）K=0时，对任意的n>0,由于f(t)<=f(s)g(s)ds从a到t的积分，所以f(t)<=n+f(s)g(s)ds从a到t的积分，由（1）知道f(t)<=n*expg(s)ds从a到td的积分\n",
    "       当n趋近与0时，有f(t)<=0.又因为f(t)>=0,即f(t)恒等于0，从而f(t)<=K*exp(g(s)ds从a到td的积分,由（1）（2）知道格兰沃尔不等式成立。\n",
    "       \n",
    "      \n",
    "       \n",
    "       "
   ]
  },
  {
   "cell_type": "markdown",
   "metadata": {
    "collapsed": true
   },
   "source": [
    "8.\n",
    "证明:M=max|f(x,y[0])|,x属于[alpha,beta],h=beta-alpha,b=Mh及有常数L在域R={(x,,y)|alpha<=x<=beta,|y-y[0]|<=b}中有\n",
    "     |f(x,y[1])-f（x,y[2]）|<=L|y[1]-y[2]|,(x,y[1]),(x,y[2])属于R.\n",
    "     构造逐步逼近函数序列\n",
    "     phi（x）=y[0];phi[n](x)=y[0]+f(kesai,phi[n-](x))dx从x[0]到x的积分，alpha<=x<=beta,n=1,2......\n",
    "     又因为|phi[1](x)-y[0]|<=Mh<=b.可证|phi[n](x)-phi[n-1](x)|<=(M/n!)L^(n-1)*(beta-alpha)^n\n",
    "     有|phi[n+1](x)-phi[n](x)|<=M/(n+1)!*L^n*(beta-alpha)^n+1.\n",
    "     由于级数\\sum (M/k!)L^(k-1)(beta-alpha)^k收敛，知道级数phi[n](x)在区间[alpha,beta]上一致收敛，于是phi[n](x）的极限是phi(x),它在区间[alpha,beta]连续，且phi(x)=y[0]+f(kesai,phi[n-](x))dx从x[0]到x的积分,所以phi(x)是积分方程也就是微分方程的解。\n",
    "     设phi(x),alpha(x)均满足积分方程，当x>=x[0]时，利用格兰沃尔不等式可证明积分方程也就是微分方程的解是唯一的。\n",
    "     \n"
   ]
  },
  {
   "cell_type": "markdown",
   "metadata": {},
   "source": [
    "10.证明：做逐步逼近函数序列，取phi[0](x)=f(x),\n",
    "             令phi[1](x)=f(x)+beta倍的K(x,kesai)phi[0](kesai)d(kesai)的积分，phi[n+1](x)=f(x)+beta倍的K(x,kesai)phi[n](kesai)d(kesai)的积分\n",
    "             再令M=max|f(x）|，L=max|K(x,kesai)|>0,则|phi[1](x)-phi[0](x)|<=|beta|ML(b-a），\n",
    "             假设|phi[k](x)-phi[k-1](x)|<=|beta|^k*L^kM(b-a)^k成立,有|phi[k+1](x)-phi[k](x)|<=|beta|^k+1*L^(k+1)M(b-a)^k+1,由数学归纳法，对任意的n属于N,有|phi[n](x)-phi[n-1](x)|<=ML^n|beta|^n(b-a)^n.又{phi[n](x)}在[a,b]上一致收敛，phi[0](x)+\\sum (phi[k](x)-phi[k-1](x))在[a,b]上一致收敛。所以当|beta|<1/(b-a)L时，积分方程必存在连续解。\n",
    "             当|beta|<1/(b-a)L时，证明方程解的唯一性。因为与上面的结论矛盾，故唯一性得证。\n",
    "             \n",
    "             \n",
    "             \n",
    "             "
   ]
  },
  {
   "cell_type": "markdown",
   "metadata": {},
   "source": [
    "# <font color='red'>B  11/10注意书写的格式？？看不懂你在写什么呢"
   ]
  },
  {
   "cell_type": "code",
   "execution_count": null,
   "metadata": {
    "collapsed": true
   },
   "outputs": [],
   "source": []
  }
 ],
 "metadata": {
  "kernelspec": {
   "display_name": "SageMath 7.3",
   "language": "",
   "name": "sagemath"
  },
  "language_info": {
   "codemirror_mode": {
    "name": "ipython",
    "version": 2
   },
   "file_extension": ".py",
   "mimetype": "text/x-python",
   "name": "python",
   "nbconvert_exporter": "python",
   "pygments_lexer": "ipython2",
   "version": "2.7.10"
  }
 },
 "nbformat": 4,
 "nbformat_minor": 0
}
