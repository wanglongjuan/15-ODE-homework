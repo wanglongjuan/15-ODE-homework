{
 "cells": [
  {
   "cell_type": "markdown",
   "metadata": {},
   "source": [
    "# 常微分方程作业-第五周\n",
    "\n"
   ]
  },
  {
   "cell_type": "markdown",
   "metadata": {},
   "source": [
    "##   P88\n",
    "\n",
    "### 3. 求初值问题$$ \\begin{cases}\n",
    "\\frac{dy}{dx}= x^2-y^2,R=\\mid x+1\\mid \\leq 1,\\mid y \\mid \\leq 1,\\\\\n",
    "y(-1)=0,\n",
    "\\end{cases}$$\n",
    "### 的解的存在区间，并求第二次近似解，给出在解的存在区间的误差估计.\n",
    "\n",
    "**解：**这里  $$ M= \\max_{\\substack{\n",
    "(x,y)\\in R\\\\\n",
    "}}\n",
    "\\mid f(x,y)\\mid =4 ,$$ \n",
    "\n",
    "取 $ a=1 $  及 $ \\frac{b}{M}=\\frac{1}{4} $ 中的小者，故 $ h=\\frac{1}{4} $ ，\n",
    "\n",
    "在$R$上函数 $ f(x,y)=x^2-y^2 $ 的利普希茨常数可取为 $L=2$ ，因为 $$ \\frac{∂f}{∂y}=\\mid -2y\\mid\\leq 2=L, $$ $$\\varphi_0(x)=0$$,$$ \\varphi_1(x)=\\int_{-1 }^x(t^2-\\varphi_0^2(t))dt=\\frac{x^3}{3}+\\frac{1}{3} $$,$$ \\varphi_2(x)= \\int_{-1 }^x(t^2-\\varphi_1^2(t))dt=\\frac{x^3}{3}-\\frac{x}{9}-\\frac{x^4}{18}-\\frac{x^7}{63}+\\frac{11}{42}$$\n",
    "\n",
    "由公式 $\\mid \\varphi_n(x)-\\varphi(x)\\mid \\leq \\frac{ML^n}{(n+1)!}h^{n+1}$  得 \n",
    "\n",
    "$$ \\mid \\varphi_2(x)-\\varphi(x)\\mid \\leq\\frac{4*2^2}{3!}*(\\frac{1}{4})^3=\\frac{1}{24}  $$\n",
    "\n",
    "因此，已知初值问题的解的存在区间为 $ -\\frac{5}{4}\\leq x\\leq -\\frac{3}{4} $ ，第二次近似解为 $ y_2=\\frac{x^3}{3}-\\frac{x}{9}-\\frac{x^4}{18}-\\frac{x^7}{63}+\\frac{11}{42} $ ，在界的存在区间的误差估计为 $ \\mid y-y_2\\mid \\leq \\frac{1}{24} $ ."
   ]
  },
  {
   "cell_type": "markdown",
   "metadata": {},
   "source": [
    "##   P89\n",
    "\n",
    "###  8. 如果函数$f(x,y)$于带域 $ \\alpha \\leq x \\leq \\beta$  上连续且关于$y$   满足利普希茨条件，则方程  $ \\frac{dy}{dx}=f(x,y) $   满足条件 $ y(x_0)=y_0 $   的解于整个区间  $ [\\alpha,\\beta] $  上存在且唯一.试证明之\n",
    "\n",
    "### 提示：用逐步逼近法，取$$M= \\max_{\\substack{\n",
    "x\\in[\\alpha,\\beta]\\\\\n",
    "}}\n",
    "\\mid f(x,y_0)\\mid$$\n",
    "\n",
    "**解：** 方程  $ \\frac{dy}{dx}=f(x,y) $  满足条件 $ y(x_0)=y_0 $的解等价于求积分方程 $ y=y_0+\\int_{x_0}^xf(x,y)dx,x\\in [\\alpha,\\beta] $ 的连续解，\n",
    "\n",
    "因此只要证明上述积分方程的解存在唯一性即可.\n",
    "\n",
    "取$$ y_0(x)=y_0,$$ $$ y_1(x)=y_0+\\int_{x_0}^xf( ξ,y_0(ξ) )dξ,$$ $$ \\cdots$$  $$ y_n(x)=y_0+\\int_{x_0}^xf( ξ,y_{n-1}(ξ) )dξ $$ $$\\cdots$$ \n",
    "\n",
    "易见 $ y_n(x) $ 在 $ \\alpha \\leq x \\leq \\beta$  上存在且连续，然后证明函数列{ $ y_n(x) $}  在 $ \\alpha \\leq x \\leq \\beta$上一致收敛.\n",
    "\n",
    "考察级数  $ y_0(x)+\\sum _{k=1}^\\infty [y_k(x)-y_{k-1}(x)],x\\in [\\alpha,\\beta]. $\n",
    "\n",
    "取 $$ M= \\max_{\\substack{\n",
    "x\\in [\\alpha,\\beta]\\\\\n",
    "}}\n",
    "\\mid f(x,y_0)\\mid  ,$$  由①式有$\\mid y_1(x)-y_0(x)\\mid \\leq \\int_{x_0}^x\\mid f(ξ,y_0(ξ))\\mid dξ\\leq M\\mid x-x_0\\mid,$\n",
    "\n",
    "及$\\mid y_2(x)-y_1(x)\\mid \\leq \\int_{x_0}^x\\mid f(ξ,y_1(ξ))-f(ξ,y_0(ξ))\\mid dξ.$\n",
    "\n",
    "利用利普希茨条件及③式，得到$ \\mid y_2(x)-y_1(x)\\mid \\leq L\\int_{x_0}^x\\mid y_1(ξ)-y_0(ξ)\\mid dξ\\leq L\\int_{x_0}^x M\\midξ-x_0\\mid dξ=\\frac{ML}{2!}(x-x_0)^2.$\n",
    "\n",
    "那么，由数学归纳法知，$\\mid y_k(x)-y_{k-1}(x)\\mid \\leq \\frac{ML^{k-1}}{k!}\\mid x-x_0\\mid^k\\leq \\frac{ML^{k-1}}{k!}(\\beta-\\alpha)^k.$\n",
    "\n",
    "上式右端是正项收敛级数 $ \\sum_{k=1}^\\infty \\frac{ML^{k-1}}{k!}(\\beta-\\alpha)^k $ 的一般项.\n",
    "\n",
    "根据Weierstrass判别法，知级数②在 $ \\alpha \\leq x \\leq \\beta$  上一致收敛，因而有数列 $ {y_n(x)} $ 在 $ [\\alpha,\\beta] $ 上一致收敛.\n",
    "\n",
    "设 $ \\lim_{n\\rightarrow \\infty}=y(x)  $  ，易知 $ y(x) $  在  $[\\alpha,\\beta]$  上连续，且 ${ f(x,y_n(x) )}$ 在$ [\\alpha,\\beta] $ 一致收敛于 ${ f(x,y(x) )}$  ，\n",
    "\n",
    "所以，对①式两边取极限，既得 $y(x)=y_0+\\int_{x_0}^xf( ξ,y(ξ) )dξ$   ，解的存在性得证。\n",
    "\n",
    "唯一性证明略."
   ]
  },
  {
   "cell_type": "markdown",
   "metadata": {},
   "source": [
    "# <font color='red'>唯一性证明过程？？"
   ]
  },
  {
   "cell_type": "markdown",
   "metadata": {},
   "source": [
    "### 6. 证明格朗沃尔(Gronwall)不等式：\n",
    "\n",
    "### 设K为非负常数，$ f(t) $  和 $ g(t) $  为在区间  $ \\alpha \\leq t \\leq \\beta $ 上的连续非负函数，\n",
    "\n",
    "### 且满足不等式 $$ f(t)\\leq K+ \\int_a^tf(s)g(s)ds,\\alpha \\leq t \\leq \\beta ,$$ 则有$$ f(t)\\leq K\\exp (\\int_a^tg(s)ds),\\alpha \\leq t \\leq \\beta .$$\n",
    "\n",
    "### 并由此证明定理1的命题5.\n",
    "\n",
    "**解：** （1）$ K >0  $时，令 $ \\omega (t)=K+\\int_\\alpha^tf(s)g(s)ds $，\n",
    "\n",
    "则 $\\omega'(t)=f(t)g(t)\\leq g(t)\\omega (t)$ ，由 $ \\omega(t)>0 $  可得 $ \\frac{\\omega'(t)}{\\omega(t)}\\leq g(t) $  ，\n",
    "\n",
    "对其两边从 $ \\alpha$  到 $t$  积分得 $\\ln \\omega(t) -\\ln \\omega(\\alpha )\\leq \\int_\\alpha^tg(s)ds $  ，\n",
    "\n",
    "即  $ \\frac{\\omega'(t)}{\\omega(t)}\\leq \\exp (\\int_\\alpha^tg(s)ds) , \\omega(\\alpha)=K>0 $  ，\n",
    "\n",
    "所以 $ \\omega(t)\\leq K*\\exp (\\int_\\alpha^tg(s)ds) $ ，\n",
    "\n",
    "即  $ f(t)\\leq \\omega(t)\\leq K*\\exp (\\int_\\alpha^tg(s)ds),\\alpha \\leq t\\leq \\beta  $  .\n",
    "\n",
    "（2）当$ K=0 $ 时，对任意 $ \\epsilon>0 $  ，由于 $ f(t)\\leq \\int_\\alpha^tf(s)g(s)ds $  ，所以，$ f(t)\\leq \\epsilon +\\int_\\alpha^tf(s)g(s)ds $    .\n",
    "\n",
    "由（1）的结论，有 $ f(t)\\leq \\epsilon \\exp (\\int_\\alpha^tg(s)ds) $ .当 $ \\epsilon \\to 0 $  时，有  $ f(t)\\leq 0 $  .\n",
    "\n",
    "又因为  $ f(t)\\geq 0 $  ，既得 $ f(t)=0 $  .从而  $ f(t)\\leq \\epsilon \\exp (\\int_\\alpha^tg(s)ds),\\alpha \\leq t \\leq \\beta $ \n",
    "\n",
    "综上所述，格朗沃尔不等式成立.\n",
    "\n",
    "**下证命题5：**\n",
    "\n",
    "设 $ \\varphi (t),\\psi (t) $    是初值问题 $ x'=f(t,x),x(t_0)=x_0 $  的两个解，则有 $$\\varphi (t)x_0+\\int_{t_0}^tf(ξ,\\varphi(ξ))dξ, $$  \n",
    "\n",
    "那么  $ \\mid \\varphi (t)-\\psi (t)\\mid \\leq \\int_{t_0}^t\\mid \\int_{t_0}^t\\mid f(ξ,\\varphi(ξ))-f(ξ,\\psi(ξ))\\mid dξ\\leq L\\int_{t_0}^t\\mid \\varphi(ξ)-\\psi(ξ)\\mid dξ $  ，其中L为利普希茨条件.\n",
    "\n",
    "由格朗沃尔不等式知$ 0\\leq \\mid \\varphi(t)-\\psi(t)\\mid \\leq 0 .$\n",
    "\n",
    "因而有 $ \\varphi(t)=\\psi(t) $  ，得证."
   ]
  },
  {
   "cell_type": "markdown",
   "metadata": {},
   "source": [
    "### 10. 给定积分方程$$ \\varphi (x)=f(x)+\\lambda \\int_a^bK(x,ξ)\\varphi(ξ)dξ\n",
    ",\\quad\\quad\\quad( * )$$其中 $  f(x) $  是 $ [a,b]$  上的已知连续函数，$ K(x,ξ)$   是 $  a\\leq x \\leq b,a\\leq ξ\\leq b $ 上的已知连续函数.证明当 $  \\mid \\lambda \\mid$ 足够小时（ $ \\lambda$ 是常数），( * )在 $ [a,b]$ 上存在唯一的连续解。\n",
    "\n",
    "### （提示：作逐步逼近函数序列$$ \\varphi_0(x)=f(x)  ,$$  $$ \\varphi_{n+1 }(x)= f(x)+\\lambda\\int_a^bK(x,ξ)\\varphi_n(ξ)dξ(n=0,1,2\\cdots).)$$\n",
    "\n",
    "**解：** 作逐步逼近序列，取  $ \\varphi_0(x)=f(x), $ \n",
    "\n",
    "令  $$\\varphi_1(x)=f(x)+\\lambda \\int_a^bk(x,ξ)\\varphi_0(ξ)dξ, $$ $$ ……  $$ $$ \\varphi_{n+1}(x)=f(x)+\\lambda \\int_a^bk(x,ξ)\\varphi_n(ξ)dξ,  $$  $$……$$\n",
    "\n",
    "令 $$M= \\max_{\\substack{\n",
    "x\\in[a,b]\\\\\n",
    "}}\n",
    "\\mid f(x)\\mid $$\n",
    "$$L= \\max_{\\substack{\n",
    "x\\in[a,b],ξ\\in [a,b]\\\\\n",
    "}}\n",
    "\\mid k(x,ξ)\\mid>0$$\n",
    "\n",
    "$$ \\mid \\varphi_1(x)-\\varphi_0(x)=\\mid \\lambda \\int_a^bk(x,ξ)\\varphi_0(ξ)dξ\\mid \\leq \\mid \\lambda \\mid \\int_a^b\\mid k(x,ξ)\\mid \\mid f(ξ)\\mid dξ\\leq \\mid \\lambda \\mid ML(b-a), $$\n",
    "\n",
    "假设 $ \\mid \\varphi_k(x)-\\varphi_{k-1}(x)\\mid \\leq \\mid \\lambda \\mid ^k ML^k(b-a)^k $  成立，\n",
    "\n",
    "则有 $$ \\mid \\varphi_{k+1}(x)-\\varphi_k(x)\\mid= \\mid \\lambda \\int_a^bk(x,ξ)(\\varphi_k(ξ)-\\varphi_{k-1}(ξ))dξ\\leq \\mid \\lambda \\mid \\int_a^b\\mid k(x,ξ)\\mid \\mid \\varphi_k(ξ)-\\varphi_{k-1}(ξ)\\mid dξ \\leq \\mid \\lambda \\mid \\int_a^b ML^{k+1}\\mid \\lambda \\mid ^k(b-a)^{k+1}=\\mid \\lambda \\mid ^{k+1}L^{k+1}M(b-a)^{k+1} $$\n",
    "\n",
    "由数学归纳法知，对任意的 $ n\\in N $  ，有$  \\mid \\varphi_n(x)-\\varphi_{n-1}(x)\\mid \\leq ML^n\\mid \\lambda \\mid ^n(b-a)^n $\n",
    "\n",
    "下面证明 {$ \\varphi_n(x) $ } 在 $[a,b]  $  上一致收敛.考虑级数  $  \\varphi_0(x)+\\sum_{k=1}^\\infty (\\varphi_k(x)-\\varphi_{k-1}(x)), $ \n",
    "\n",
    "该级数的前n项和为 $ \\varphi_0(x)+\\sum_{k=1}^\\infty (\\varphi_k(x)-\\varphi_{k-1}(x))=\\varphi_n(x). $ \n",
    "\n",
    "所以要证序列{$ \\varphi_n(x) $ }  在 $[a,b]  $  上一致收敛，只需证明级数②在  $ [a,b] $  上一致收敛即可.\n",
    "\n",
    "由于$ \\mid \\varphi_k(x)-\\varphi_{k-1}(x)\\mid \\leq ML^k\\mid \\lambda \\mid ^k(b-a)^k $\n",
    "\n",
    "当 $ \\mid \\lambda \\mid <\\frac{1}{(b-a)L} $  时，级数  $ \\sum_{k=1}^\\infty ML^k\\mid \\lambda \\mid ^k(b-a)^k$  收敛，\n",
    "\n",
    "由此可知当  $ \\mid \\lambda \\mid <\\frac{1}{(b-a)L} $  时，级数②在  $ [a,b] $  上一致收敛.\n",
    "\n",
    "设极限函数为  $ \\varphi^*(x) $  ，即 $ x\\in [a,b] $  时，当 $ n\\to \\infty $ 时， $\\varphi_n(x)  $  一致收敛于 $ \\varphi^* $  ，\n",
    "\n",
    "则由 $ \\varphi_n(x) $  的连续性知 $ \\varphi^*(x) $  在  $ [a,b] $ 上连续，对迭代序列①，当 $ n\\to \\infty $  时两边取极限得$ \\varphi^*(x)=f(x)+\\lambda \\int_a^b k(x,ξ)\\varphi^*(ξ)dξ.( \\mid \\lambda \\mid <\\frac{1}{(b-a)L} ) $\n",
    "\n",
    "即证明了当 $ \\mid \\lambda \\mid <\\frac{1}{(b-a)L} $  时，积分方程必存在连续解.\n",
    "\n",
    "下面证明当 $ \\mid \\lambda \\mid <\\frac{1}{(b-a)L} $  时，$（*）$方程的解得唯一性.用反证法，\n",
    "\n",
    "设另有解 $ \\varphi'(x) $  且 $ \\varphi'(x)\\neq \\varphi^*(x) $  ，即  $ \\varphi'(x)=f(x)+\\lambda \\int_a^b k(x,ξ)\\varphi'(ξ)dξ $\n",
    "\n",
    "记$$ Q= \\max_{\\substack{\n",
    "x\\in[a,b]\\\\\n",
    "}}\n",
    "\\mid \\varphi^*(x)-\\varphi'(x) \\mid>0 ,$$  \n",
    "\n",
    "$ \\mid \\varphi^*(x)-\\varphi'(x) \\mid=\\mid \\lambda \\int_a^b k(x,ξ)(\\varphi'(ξ)-\\varphi'(ξ))dξ\\mid \\leq \\mid \\lambda \\mid \\int_a^bL\\mid \\varphi'(ξ)-\\varphi'(ξ)\\mid dξ=\\mid \\lambda \\mid QL(b-a) $\n",
    "\n",
    "既有  $ Q\\leq \\mid \\lambda \\mid QL(b-a) $ ，由于$ Q>0 $  ，所以 $ \\mid \\lambda \\mid \\geq \\frac{1}{(b-a)L} $  ，与  $ \\mid \\lambda \\mid <\\frac{1}{(b-a)L} $ 矛盾.\n",
    "\n",
    "唯一性得证."
   ]
  },
  {
   "cell_type": "markdown",
   "metadata": {
    "collapsed": true
   },
   "source": [
    "# <font color='red'>A  11/10"
   ]
  },
  {
   "cell_type": "code",
   "execution_count": null,
   "metadata": {
    "collapsed": true
   },
   "outputs": [],
   "source": []
  }
 ],
 "metadata": {
  "kernelspec": {
   "display_name": "SageMath 7.3",
   "language": "",
   "name": "sagemath"
  },
  "language_info": {
   "codemirror_mode": {
    "name": "ipython",
    "version": 2
   },
   "file_extension": ".py",
   "mimetype": "text/x-python",
   "name": "python",
   "nbconvert_exporter": "python",
   "pygments_lexer": "ipython2",
   "version": "2.7.10"
  }
 },
 "nbformat": 4,
 "nbformat_minor": 0
}
