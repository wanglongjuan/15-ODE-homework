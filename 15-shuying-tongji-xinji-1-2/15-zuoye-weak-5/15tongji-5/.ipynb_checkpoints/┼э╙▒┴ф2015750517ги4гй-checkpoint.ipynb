{
 "cells": [
  {
   "cell_type": "markdown",
   "metadata": {},
   "source": [
    "3.求初值问题$\\begin{cases}\\frac{dy}{dx}=x^2-y^2,R:|x=1|≤1，|y|≤1，\\\\y(-1)=0.\\end{cases}$的解的存在区间，并求第二次近似解，给出在解的存在区间的误差估计。"
   ]
  },
  {
   "cell_type": "markdown",
   "metadata": {},
   "source": [
    "解：这里$M=\\max\\limits_{(x,y)\\in R}\\{f(x)\\}|f(x,y)|=4$,  \n",
    "h是a=1及$\\frac{b}{M}=4$中的最小者，  \n",
    "故$h=\\frac{1}{4}$,  \n",
    "在R上函数$f(x,y)=x^2-y^2$的利普希茨常数可以取为L=2，  \n",
    "因为$\\frac{\\partial{f}}{\\partial{y}}=|-2y|≤2=L$.  \n",
    "$φ_0(x)=0$,  \n",
    "$φ_1(x)=\\int^x_{-1}(t^2-φ_o^2(t))dt=\\frac{x^3}{3}+\\frac{1}{3}$,  \n",
    "$φ_2(x)=\\int^x_{-1}φ_1^2(t))dt=\\frac{x^3}{3}-\\frac{x}{9}-\\frac{x^4}{18}-\\frac{x^7}{63}+\\frac{11}{42}$,  \n",
    "由于误差估计教材中公式（3.19）得  \n",
    "$|φ_2(x)-φ(x)|≤\\frac{4*2^2}{3!}*(\\frac{1}{4})^3=\\frac{1}{24}$.  \n",
    "所以已知初值问题的解的存在区间为$-\\frac{5}{4}≤x≤-\\frac{3}{4}$,  \n",
    "第二次近似解为$y_2=\\frac{x^3}{3}-\\frac{x}{9}-\\frac{x^4}{18}-\\frac{x^7}{63}+\\frac{11}{42}$,  \n",
    "在解的存在区间的误差估计为$|y-y_2|≤\\frac{1}{24}$."
   ]
  },
  {
   "cell_type": "markdown",
   "metadata": {},
   "source": [
    "6.证明格朗沃尔不等式（Gronwall）：  \n",
    "设K为非负常数，f(t)和g(t)为在区间α≤t≤β上的连续非负函数，  \n",
    "且满足不等式$f(t)≤K+\\int^t_αf(s)g(s)ds,α≤t≤β$,  \n",
    "则有$f(t)≤Kexp(\\int^t_αg(s)ds),α≤t≤β$.  \n",
    "并由此证明定理1的命题5。"
   ]
  },
  {
   "cell_type": "markdown",
   "metadata": {},
   "source": [
    "证明：  \n",
    "（1）K＞0时，令$ω=K+\\int^t_αg(s)ds$,  \n",
    "则ω'(t)=f(t)g(t)≤g(t)ω(t),由ω(t)＞0可得$\\frac{ω'(t)}{ω(t)}≤g(t)$,  \n",
    "两边从α到t积分得$lnω(t)-lnω(α)≤\\int^t_αg(s)ds$,  \n",
    "即有$\\frac{ω(t)}{ω(α)}≤exp(\\int^t_αg(s)ds)$,ω(α)=K＞0，  \n",
    "所以$ω(t)≤K*exp(\\int^t_αg(s)ds)$,  \n",
    "即有$f(t)≤ω(t)≤K exp(\\int^t_αg(s)ds),α≤t≤β$.  \n",
    "（2）当K=0时，对任意ε＞0，由于$f(t)≤\\int^t_αf(s)ds)$，  \n",
    "所以$f(t)≤ε+\\int^t_αf(s)g(s)ds$.  \n",
    "由（1）有$f(t)≤εexp(\\int^t_αg(s)ds)$.  \n",
    "当$ε→0^+$时，有f(t)≤0.  \n",
    "又因为f(t)≥0，即得f(t)≡0，  \n",
    "从而$f(t)≤K*exp(\\int^t_αg(s)ds),α≤t≤β$  \n",
    "由（1）（2）知，格朗沃尔不等式成立，证毕。"
   ]
  },
  {
   "cell_type": "markdown",
   "metadata": {},
   "source": [
    "8.如果函数f(x,y)于带域α≤x≤β上连续且关于y满足利普希茨条件，则方程（3.1）满足条件$y(x_0)=y_0$的解于整个区间[α,β]上存在且唯一，试证明。"
   ]
  },
  {
   "cell_type": "markdown",
   "metadata": {},
   "source": [
    "证明：  \n",
    "由教材中命题1可知，  \n",
    "方程（3.1）满足条件$y(x_0)=y_0$的解等价于求积分方程$y=y_0+\\int^x_{x_0}f(x,y)dx$,x∈[α，β}的连续解，  \n",
    "因此我们只要证明上述积分方程的解的存在唯一性即可。  \n",
    "现取$y_0(x)=y_0$,  \n",
    "$y_1(x)=y_0+\\int^x_{x_0}f(ξ，y_0(ξ））dξ，  \n",
    "…  \n",
    "$y_n(x)=y_0+\\int^x_{x_0}f(ξ，y_{n-1}(ξ））dξ，  \n",
    "… ①  \n",
    "易见$y_n(x)$在α≤x≤β上存在且连续。  \n",
    "下面证明函数列${y_n(x)}$在α≤x≤β上一致收敛。  \n",
    "考察级数$y_0(x)+\\sum_{k=1}^{\\infty}[y_k(x)-y_{k-1}(x)]$,x∈[α,β] ②  \n",
    "取$M=\\max\\limits_{x\\in[α,β]}|f(x,y_0)|$,由①式有：  \n",
    "$|y_1(x)-y_0(x)|≤\\int^x_{x_0}|f(ξ，y_0(ξ))|dξ≤M|x-x_0|$, ③  \n",
    "及$|y_2(x)-y_1(x)|≤\\int^x_{x_0}|f(ξ，y_1(ξ))-f(ξ,y_0(ξ))|dξ$。  \n",
    "利用利普希茨条件及③得：  \n",
    "$|y_2(x)-y_1(x)|≤L\\int^x_{x_0}|y_1(ξ)-y_0(ξ)|dξ≤L\\int^x_{x_0}M|ξ-x_0|dξ=\\frac{ML}{2!}(x-x_0)^2$。  \n",
    "所以由数学归纳法可知，$|y_k(x)-y{k-1}(x)|≤\\frac{ML^{k-1}}{k!}|x-x_0|^k≤\\frac{ML^{k-1}}{k!}(β-α)^k$  \n",
    "上式右端是正项收敛级数$\\sum_{k=1}^{\\infty}\\frac{ML^{k-1}}{k!}(β-α)^k$的一般项。  \n",
    "由Weierestrass判别法，知级数②在α≤x≤β上一致收敛，因而函数列${y_n(x)}$在[α,β]上一致收敛。  \n",
    "现设$$\\lim_{n\\to\\infty}y_n(x)=y(x)$$,易知y(x)在[α,β]上连续，且${f(x,y_n(x))}$在[α,β}上一致收敛于f(x,y(x))。  \n",
    "所以对①式两边取极限，即得：  \n",
    "$y(x)=y_0+\\int^x_{x_0}f(ξ,y(ξ))dξ$，解的存在性得证，唯一性略。"
   ]
  },
  {
   "cell_type": "markdown",
   "metadata": {},
   "source": [
    "# <font color='red'>唯一性？？"
   ]
  },
  {
   "cell_type": "markdown",
   "metadata": {
    "collapsed": true
   },
   "source": [
    "10.给定积分方程$φ(x)=f(x)+λ\\int^b_aK(x,ξ)φ(ξ)dξ，(*) $ \n",
    "其中f(x)是[a,b]上的已知连续函数，K(x,ξ)是$a\\leq x\\leq b$,$a\\leq ξ\\leq b$上的已知连续函数。证明当|λ|足够小时（λ是常数），$(*)$在[a,b]上存在唯一的连续解。"
   ]
  },
  {
   "cell_type": "markdown",
   "metadata": {},
   "source": [
    "证明：  \n",
    "作逐次逼近序列，取$φ_0(x)=f(x)$,  \n",
    "令$φ_1(x)=f(x)+λ\\int^b_ak(x,ξ),φ_0(ξ)dξ$，  \n",
    "……  \n",
    "$φ_{n+1}(x)=f(x)+λ\\int^b_ak(x,ξ)φ_n(ξ)dξ$，①   \n",
    "……  \n",
    "令$M=\\max \\limits_{x\\in [a,b]}$|f(x)|,$L=\\max \\limits_{x\\in[a,b]ξ\\in[a,b]}|k(x,ξ)|＞0$,  \n",
    "$|φ_1(x)-φ_0(x)|=|λ\\int^b_ak(k,ξ)φ_0(ξ)dξ|  \n",
    "\\leq |λ|\\int^b_a|k(x,ξ)||f(ξ)|dξ  \n",
    "\\leq |λ|ML(b-a)$,  \n",
    "假设$|φ_k(x)-φ_{k-1}(x)|\\leq |λ|^kL^kM(b-a)^k$成立，  \n",
    "则有$|φ_{k+1}(x)-φ_k(x)|=|λ\\int^b_ak(x,ξ)(φ_k(ξ)-φ_{k-1}(ξ)dξ|  \n",
    "\\leq |λ|\\int|k(x,ξ)||φ_k(ξ)-ξ_{k-1}(ξ)|dξ  \n",
    "\\leq |λ|\\int^b_aL^{k+1}|λ|^kM(b-a)^kdξ  \n",
    "=|λ|^{k+1}L^{k+1}M(b-a)^{k+1}$,  \n",
    "由归纳法知，对任意的$n\\in N$,有  \n",
    "$|φ_n(x),φ_{n-1}(x)|\\leq ML^n|λ|^n(b-a)^n$  \n",
    "下证${φ_n(x)}$在[a,b]上一致收敛，考虑级数  \n",
    "$$φ_0(x)+\\sum _{k=1}^\\infty(φ_k(x)-φ_{k-1}(x))$$ ②，  \n",
    "该级数的前n项和为  \n",
    "$$φ_0(x)+\\sum_{k=1}^\\infty(φ_k(x)-φ_{k-1}(x))=φ_n(x)$$.  \n",
    "所以要证序列${φ_n(x)}$在[a,b]上一致收敛，只须证明级数②在[a,b]上一致收敛即可，  \n",
    "由于$|φ_k(x)-φ_{k-1}(x)|\\leq ML^k|λ|^k(b-a)^k$,  \n",
    "当$|λ|＜\\frac{1}{(b-a)L}$时，级数 $$\\sum_{k=1} ^\\infty ML^k|λ|^k(b-a)^k$$收敛，  \n",
    "由此知当$|λ|＜\\frac{1}{(b-a)L}$时，级数②在[a,b]上一致收敛。  \n",
    "设极限函数为$φ^*$(x),即$x \\in [a,b]$时，当$n \\to\\infty$时，$φ_n(x)$一致收敛于$φ^*(x)$,且由$φ_n(x)$的连续性知$φ^*(x)在[a,b]$上连续，对迭代列①，当$n \\to \\infty$时两边取极限得：  \n",
    "$φ^*(x)=f(x)+λ\\int^b_ak(x,ξ)φ^*(ξ)dξ$.  \n",
    "$(|λ|＜\\frac{1}{(b-a)L})$  \n",
    "这就证明了当$|λ|＜\\frac{1}{(b-a)L}$时，积分方程必存在连续解。  \n",
    "下证当$|λ|＜\\frac{1}{(b-a)L}$时，$(*)$方程的解的唯一性。  \n",
    "用反证法。  \n",
    "设另有解$φ_1(x)$且$φ_1(x)≠φ^*(x)$,即  \n",
    "$φ_1(x)=f(x)+λ\\int^b_ak(x,ξ)dξ$  \n",
    "记$$Q=\\max_{x \\in [a,b]}|φ^*(x)-φ_1(x)|＞0$$  \n",
    "$|φ^*(x)-φ_1(x)|=|λ\\int^b_ak(x,ξ)(φ^*(ξ)-φ_1(ξ))dξ|  \n",
    "\\leq |λ|\\int^b_aL|φ^*(ξ)-ξ_1(ξ)|dξ  \n",
    "=|λ|QL(b-a)$,  \n",
    "即有$Q\\leq|λ|QL(b-a)$,由于Q＞0，所以$|λ|\\geq\\frac{1}{(b-a)L}$,与$|λ|＜\\frac{1}{(b-a)L}$矛盾，唯一性得证。"
   ]
  },
  {
   "cell_type": "markdown",
   "metadata": {
    "collapsed": true
   },
   "source": [
    "# <font color='red'>A  11/10"
   ]
  },
  {
   "cell_type": "code",
   "execution_count": null,
   "metadata": {
    "collapsed": true
   },
   "outputs": [],
   "source": []
  }
 ],
 "metadata": {
  "kernelspec": {
   "display_name": "SageMath 7.3",
   "language": "",
   "name": "sagemath"
  },
  "language_info": {
   "codemirror_mode": {
    "name": "ipython",
    "version": 2
   },
   "file_extension": ".py",
   "mimetype": "text/x-python",
   "name": "python",
   "nbconvert_exporter": "python",
   "pygments_lexer": "ipython2",
   "version": "2.7.10"
  }
 },
 "nbformat": 4,
 "nbformat_minor": 0
}
