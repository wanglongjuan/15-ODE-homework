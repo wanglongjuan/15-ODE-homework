{
 "cells": [
  {
   "cell_type": "markdown",
   "metadata": {},
   "source": [
    "# 常微分方程作业（4）"
   ]
  },
  {
   "cell_type": "markdown",
   "metadata": {},
   "source": [
    "$\\bf P88.T3$\n",
    "\n",
    "$求初值问题$\n",
    "$$\\begin{cases}\n",
    "  \\frac{dy}{dx}=x^2-y^2,R:|x+1|\\leq1,|y|\\leq1\\\\\n",
    "  y(-1)=0\n",
    "  \\end{cases}\n",
    "  $$\n",
    "$的解的存在区间，并求第二次近似解，给出在解的存在区间的误差估计.$\n",
    "\n",
    "$\\bf解：$\n",
    "\n",
    "$M=\\max \\limits_{(x,y)\\in R}\\{f(x,y)\\}=4$\n",
    "\n",
    "$h=min(1,\\frac{1}{4})=\\frac{1}{4}$\n",
    "\n",
    "$函数f(x,y)=x^2-y^2的利普希茨常数L=2$\n",
    "\n",
    "$\\frac{\\partial f}{\\partial y}=|-2y|\\leq2$\n",
    "\n",
    "$\\phi_0=0,\\phi_1(x)=\\int_{-1}^x \\mathrm(t^2-\\phi^{2}_0(t))\\,\\mathrm{d}t=\\frac{x^3}{3}+\\frac{1}{3}$\n",
    "\n",
    "$\\phi_2(x)=\\int_{-1}^x \\mathrm(t^2-\\phi^{2}_1(t))\\,\\mathrm{d}t=\\frac{x^3}{3}-\\frac{x}{9}-\\frac{x^4}{18}-\\frac{x^7}{63}+\\frac{11}{42}$\n",
    "\n",
    "$由误差估计公式得$\n",
    "$$|\\phi_2(x)-\\phi_(x)|\\leq\\frac{4*2^2}{3!}*(\\frac{1}{4})^3=\\frac{1}{24}$$\n",
    "\n",
    "$由|x-x_0|\\leq h,得-\\frac{4}{5}\\leq x\\leq -\\frac{3}{4}$\n",
    "\n",
    "$第二次近似解y_2=\\frac{x^3}{3}-\\frac{x}{9}-\\frac{x^4}{18}-\\frac{x^7}{63}+\\frac{11}{42} $\n",
    "\n",
    "$解的存在区间误差估计为|y-y_2|\\leq \\frac{1}{24}$\n",
    "\n",
    "\n",
    "\n"
   ]
  },
  {
   "cell_type": "markdown",
   "metadata": {
    "collapsed": true
   },
   "source": [
    "$\\bf P89.T6$\n",
    "\n",
    "$证明格朗沃尔不等式：$\n",
    "\n",
    "$设K为非负常数，f(t)和g(t)为在区间\\alpha \\leq t\\leq \\beta上的连续非负函数，且满足不等式$\n",
    "$$f(t)\\leq K+\\int_{\\alpha}^t \\mathrm(f(s)g(s))\\,\\mathrm{d}s,\\alpha \\leq t\\leq \\beta$$ \n",
    "$$则有f(t)\\leq Kexp(\\int_{\\alpha}^t \\mathrm(g(s)\\,\\mathrm{d}s ),\\alpha \\leq t\\leq \\beta$$\n",
    "\n",
    "$并由此证明定理1的命题5.$\n",
    "\n",
    "$\\bf解：$\n",
    "\n",
    "$①$\n",
    "$当K>0时，令m(t)=K+\\int_{\\alpha}^t \\mathrm(f(s)g(s))\\,\\mathrm{d}s$\n",
    "\n",
    "$m'(t)=f(t)g(t)\\leq f(t)m(t)$\n",
    "\n",
    "$由m(t)>0,\\frac{m'(t)}{m(t)}\\leq g(t)$\n",
    "\n",
    "$两边从\\alpha 到t积分$\n",
    "$$ln m(t)-ln m(\\alpha)\\leq \\int_{\\alpha}^t \\mathrm g(s)\\,\\mathrm{d}s$$\n",
    "$$\\frac{m(t)}{m(\\alpha)}\\leq Kexp(\\int_{\\alpha}^t \\mathrm(g(s)\\,\\mathrm{d}s),m(\\alpha)=K>0$$\n",
    "$$m(t)\\leq K*exp(\\int_{\\alpha}^t \\mathrm g(s)\\,\\mathrm{d}s )$$\n",
    "\n",
    "$即f(t)\\leq m(t)\\leq Kexp(\\int_{\\alpha}^t \\mathrm g(s)\\,\\mathrm{d}s ),\\alpha \\leq t\\leq \\beta$\n",
    "\n",
    "$当K=0时,任意\\epsilon >0,由于f(t)\\leq \\int_{\\alpha}^t \\mathrm(f(s)g(s))\\,\\mathrm{d}s,$\n",
    "\n",
    "$\\therefore f(t)\\leq \\epsilon+\\int_{\\alpha}^t \\mathrm(f(s)g(s))\\,\\mathrm{d}s$\n",
    "\n",
    "$由K>0证得，f(t)\\leq \\epsilon exp(\\int_{\\alpha}^t \\mathrm g(s)\\,\\mathrm{d}s )$\n",
    "\n",
    "$当\\epsilon \\rightarrow0^+,f(t)\\leq 0$\n",
    "\n",
    "$又因为f(t)\\geq 0,所以f(t)\\equiv 0$\n",
    "\n",
    "$\\therefore f(t)\\leq  Kexp(\\int_{\\alpha}^t \\mathrm g(s)\\,\\mathrm{d}s ),\\alpha \\leq t\\leq \\beta$\n",
    "\n",
    "$②证定理1的命题5$\n",
    "\n",
    "$设\\phi(t),\\psi(t)是初值问题x'=f(t,x),x(t_0)=x_0的两个解$\n",
    "\n",
    "$\\phi(t)=\\int_{t_0}^t \\mathrm f(ξ,\\phi(ξ))\\,\\mathrm{d}ξ ,\\psi(t)=\\int_{t_0}^t \\mathrm f(ξ,\\psi(ξ))\\,\\mathrm{d}ξ $\n",
    "\n",
    "$|\\phi (t)-\\psi(t)|\\leq \\int_{t_0}^t \\mathrm|f(ξ,\\phi(ξ))-f(ξ,\\psi(ξ))|\\,\\mathrm{d}ξ\\leq L\\int_{t_0}^t \\mathrm|\\phi(ξ)-\\psi(ξ)|\\,\\mathrm{d}ξ$\n",
    "\n",
    "$由格朗沃尔不等式K=0$\n",
    "\n",
    "$0\\leq |\\phi(ξ)-\\psi(ξ)\\leq Kexp (\\int_{t_0}^t \\mathrm L\\,\\mathrm{d}ξ)=0$\n",
    "\n",
    "$\\therefore \\phi(ξ)=\\psi(ξ),$\n",
    "$定理1命题5得证$\n"
   ]
  },
  {
   "cell_type": "markdown",
   "metadata": {
    "collapsed": true
   },
   "source": [
    "\n"
   ]
  },
  {
   "cell_type": "markdown",
   "metadata": {},
   "source": [
    "$\\bf T.8$\n",
    "$如果函数f(x,y)于带域\\alpha \\leq x\\leq \\beta 上连续且关于y满足利普希茨条件，则方程\\frac{dy}{dx}=f(x,y)满足条件y(x_0)=y_0的解于整个区间[\\alpha,\\beta]上存在且唯一.试证明之.$"
   ]
  },
  {
   "cell_type": "markdown",
   "metadata": {},
   "source": [
    "$\\bf解：$\n",
    "\n",
    "$设M=\\max \\limits_{x\\in [\\alpha,\\beta]}\\{f(x,y_0)\\},h=|\\beta-\\alpha|,b=Mh$\n",
    "\n",
    "$并有满足|f(x,y_1)-f(x,y_2)|\\leq L|y_1-y_2|,(x,y_1)，(x,y_2)\\in R$\n",
    "\n",
    "$可得$\n",
    "$$\\begin{cases}\n",
    "  \\phi_0(x)=y_0\\\\\n",
    "  \\phi_n(x)=y_0+\\int_{x_0}^x \\mathrm f(ξ,\\phi_{n-1}(ξ))\\,\\mathrm{d}x,\\alpha\\leq x\\leq \\beta,n=1,2,3…\n",
    "\\end{cases}\n",
    "$$\n",
    "$|\\phi_1(x)-y_0|=|\\int_{x_0}^x \\mathrm f(ξ,y_0)\\,\\mathrm{d}x|\\leq \\int_{x_0}^x \\mathrm |f(ξ,y_0)|\\,\\mathrm{d}x\\leq M(x-x_0)\\leq Mh \\leq b$\n",
    "\n",
    "$可证 |\\phi_n(x)-\\phi_{n-1}x|\\leq \\frac{\tM}{n!}L^{n-1}(\\beta-\\alpha)^n$\n",
    "\n",
    "$又因为$\n",
    "$$|\\phi_{n+1}(x)-\\phi_n(x)|\\leq |\\int_{x_0}^x \\mathrm |f(ξ,\\phi_n(ξ))- f(ξ,\\phi_{n-1}(ξ))|\\,\\mathrm{d}ξ| $$\n",
    "$$\\leq L|\\int_{x_0}^x \\mathrm {\\phi_n(ξ))- \\phi_{n-1}(ξ)}|\\,\\mathrm{d}ξ|$$\n",
    "$$\\leq L|\\int_{x_0}^x \\mathrm {\\frac{M}{n!}L^{n-1}|ξ-x_0|^n}\\,\\mathrm{d}ξ|$$\n",
    "$$\\leq \\frac{M}{(n+1)!}L^n|x-x_0|^{n+1}$$\n",
    "$$\\leq \\frac{M}{(n+1)!}L^n(\\beta-\\alpha)^{n+1}$$\n",
    "$又\\because \\frac{M}{k!}L^{k-1}(\\beta-\\alpha)^k的级数为收敛的$\n",
    "$\\therefore lim\\phi_n(x)=\\phi(x) (n趋近于正无穷)$\n",
    "\n",
    "$\\phi(x)=lim\\phi_n(x)=y_0+lim\\int_{x_0}^x \\mathrm f(ξ,\\phi_{n-1}(ξ))\\,\\mathrm{d}x$\n",
    "$=y_0+\\int_{x_0}^x \\mathrm f(x,lim \\phi_{n-1}(ξ))\\,\\mathrm{d}ξ$\n",
    "$=y_0+\\int_{x_0}^x \\mathrm f(x, \\phi (ξ))\\,\\mathrm{d}ξ$\n",
    "\n",
    "$\\therefore \\phi(x)为积分方程的解$\n",
    "\n",
    "$设\\phi(x),\\psi(x)都是满足积分方程\n",
    "y=y_0+\\int_{x_0}^x \\mathrm f(x, y(ξ))\\,\\mathrm{d}ξ\n",
    "的解$\n",
    "\n",
    "$当x\\geq x_0,由格朗沃尔不等式$\n",
    "\n",
    "$|\\phi(x)-\\psi(x)\\leq L (\\int_{x_0}^x\\mathrm | \\phi(s)-\\psi(x)|\\,\\mathrm{d}s=0$\n",
    "\n",
    "$\\because |\\phi(s)-\\psi(x)|\\leq 0$ \n",
    "\n",
    "$\\therefore \\phi(x) \\equiv \\psi(x)$\n",
    "\n",
    "$同理可得，当x\\leq x_0时，\\phi(x) \\equiv \\psi(x)$\n",
    "\n",
    "$微分方程的解唯一$\n",
    "\n"
   ]
  },
  {
   "cell_type": "markdown",
   "metadata": {},
   "source": [
    "$\\bf T.10$\n",
    "\n",
    "$给定积分方程$\n",
    "$$\\phi(x)=f(x)+λ\\int_a^b\\mathrm{K(x, ξ)\\phi(ξ)}\\,\\mathrm{d}ξ$$\n",
    "$其中f(x)是[a,b]上的已知连续函数，K(x, ξ)是a\\leq x\\leq b,a\\leq ξ\\leq b上的已知连续函数.证明当|λ|足够小时(λ是常数)，(*)在[a,b]上存在唯一的连续解.$\n",
    "$(提示：作逐步逼近函数序列$\n",
    "$$\\begin{cases}\n",
    "  \\phi_0(x)=f(x)\\\\\n",
    "  \\phi_{n+1}(x)=f(x)+λ\\int_a^b \\mathrm {K(x, ξ)\\phi_n(ξ)}\\,\\mathrm{d}ξ ,(n=0,1,2,3…))\n",
    "\\end{cases}\n",
    "$$\n",
    "\n"
   ]
  },
  {
   "cell_type": "markdown",
   "metadata": {},
   "source": [
    "$\\bf解：$\n",
    "\n",
    "$$ \\phi_0(x)=f(x)$$\n",
    "   $$\\phi_1(x)=f(x)+λ\\int_a^b \\mathrm {K(x, ξ)\\phi_0(ξ)}\\,\\mathrm{d}ξ$$\n",
    "$$\\phi_{n+1}(x)=f(x)+λ\\int_a^b \\mathrm {K(x, ξ)\\phi_n(ξ)}\\,\\mathrm{d}ξ$$\n",
    "$设M=\\max \\limits_{x\\in [a,b]}\\{f(x)\\},$\n",
    "$L=\\max \\limits_{x\\in [a,b], ξ\\in [a,b]}\\{K(x, ξ)\\} > 0$\n",
    "\n",
    "$|\\phi_1(x)-\\phi_0(x)|= |λ\\int_a^b \\mathrm {K(x, ξ)\\phi_0(ξ)}\\,\\mathrm{d}ξ| \\leq|λ| \\int_a^b \\mathrm|K(x, ξ)||f(ξ) \\,\\mathrm{d}ξ \\leq|λ|ML(b-a)$\n",
    "\n",
    "$假设|\\phi_k(x)-\\phi_{k-1}(x)| \\leq ML^k|λ|^k(b-a)^k成立$\n",
    "\n",
    "$由数学归纳法可证$\n",
    "$$|\\phi_n(x)-\\phi_{n-1}(x)| \\leq ML^n|λ|^n(b-a)^n$$\n",
    "$\\because |\\phi_kx)-\\phi_{k-1}(x)| \\leq ML^k|λ|^k(b-a)^k的级数为收敛的$\n",
    "\n",
    "$\\therefore \\phi_0(x)+\\sum_{k=1}^∞(\\phi_k(x)-\\phi_{k-1}(x))在[a,b]上一致收敛$\n",
    "\n",
    "$因为\\phi_n(x)在[a,b]上一致收敛，设极限函数为\\phi^*(x)$\n",
    "\n",
    "$对\\phi_{n+1}(x)=f(x)+λ\\int_a^b \\mathrm {K(x, ξ)\\phi_n(ξ)}\\,\\mathrm{d}ξ两边取极限$\n",
    "\n",
    "$\\phi^*(x)=f(x)+ λ\\int_a^b \\mathrm {K(x, ξ)\\phi^*(ξ)}\\,\\mathrm{d}ξ$\n",
    "\n",
    "$当|λ|<\\frac{1}{(b-a)L}时，积分必存在连续解$\n",
    "\n",
    "$设积分方程另有解\\psi(x),且\\psi(x)和\\phi^*(x)不相等$\n",
    "\n",
    "$\\psi (x)=f(x)+λ\\int_a^b \\mathrm {K(x, ξ)\\psi (ξ)}\\,\\mathrm{d}ξ$\n",
    "\n",
    "$M’=\\max \\limits_{x\\in [a,b]}\\{\\phi^* (x)-\\psi(x)\\}>0$\n",
    "\n",
    "$|\\phi^* (x)-\\psi(x)|= |λ\\int_a^b \\mathrm {K(x, ξ)\\phi^*(ξ)-\\psi(ξ)}\\,\\mathrm{d}ξ| \\leq |λ|\\int_a^b \\mathrm {L|\\phi^*(ξ)-\\psi(ξ)|}\\,\\mathrm{d}ξ=|λ|M’L(b-a)$\n",
    "\n",
    "$M’ \\leq |λ|M’L(b-a)$\n",
    "\n",
    "$又因为M’>0$\n",
    "\n",
    "$所以|λ|\\leq \\frac{1}{(b-a)L} 与|λ|< \\frac{1}{(b-a)L}矛盾$\n",
    "\n",
    "$故方程存在唯一连续解$\n"
   ]
  },
  {
   "cell_type": "markdown",
   "metadata": {},
   "source": [
    "\n",
    "# <font color='red'>A  11/10\n"
   ]
  },
  {
   "cell_type": "code",
   "execution_count": null,
   "metadata": {
    "collapsed": true
   },
   "outputs": [],
   "source": []
  }
 ],
 "metadata": {
  "kernelspec": {
   "display_name": "SageMath 7.3",
   "language": "",
   "name": "sagemath"
  },
  "language_info": {
   "codemirror_mode": {
    "name": "ipython",
    "version": 2
   },
   "file_extension": ".py",
   "mimetype": "text/x-python",
   "name": "python",
   "nbconvert_exporter": "python",
   "pygments_lexer": "ipython2",
   "version": "2.7.10"
  }
 },
 "nbformat": 4,
 "nbformat_minor": 0
}
