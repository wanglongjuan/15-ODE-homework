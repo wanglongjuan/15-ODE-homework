{
 "cells": [
  {
   "cell_type": "markdown",
   "metadata": {},
   "source": [
    "$P88 习题3.1$  \n",
    "$3.求初值问题\\begin{cases}\\frac{dy}{dx}=x^2-y^2,R:|x+1|≤1，|y|≤1,\\\\y(-1)=0\\end{cases}的解的存在区间，并求第二次近似解，给出在解的存在区间的误差估计$  \n",
    "$解：这里M=\\max\\limits_{(x,y)\\in R}\\{|f(x,y)|=4\\},h取a=1及\\frac{b}{M}=\\frac{1}{4}中的小者，故h=\\frac{1}{4},在R上函数f(x,y)=x^2-y^2的利普希茨 \n",
    "常数可取为L=2，$  \n",
    "$因为\\frac{\\partial f}{\\partial y}=|-2y|≤2=L$  \n",
    "$\\varphi_0(x)=0$  \n",
    "$\\varphi_1(x)=\\int {-1}^x (t^2-(\\varphi_0(t))^2)dt=\\frac{x^3}{3}+\\frac{1}{3}$  \n",
    "$\\varphi_2(x)=\\int {-1}^x (t^2-(\\varphi_1(t))^2)dt$  \n",
    "            $=\\frac{x^3}{3}-\\frac{x}{9}-\\frac{x^4}{18}-\\frac{x^7}{63}+\\frac{11}{42}$  \n",
    "$所以得到|\\varphi_2(x)-\\varphi(x)|≤\\frac{16}{3!}(\\frac{1}{4})^3=\\frac{1}{24}$  \n",
    "$因此，已知初值问题的解的存在区间为-\\frac{5}{4}≤x≤-\\frac{3}{4}$  \n",
    "$第二次近似解为y_2=\\frac{x^3}{3}-\\frac{x}{9}-\\frac{x^4}{18}-\\frac{x^7}{63}+\\frac{11}{42}$  \n",
    "$在解的存在区间的误差估计为|y-y_2|≤\\frac{1}{24}$  "
   ]
  },
  {
   "cell_type": "markdown",
   "metadata": {},
   "source": [
    "$6.证明格朗沃尔（Gronwall）不等式:$  \n",
    "$设K为非负常数，f(t)和g(t)为在区间\\alpha \\leq t \\leq \\beta上的连续非负常数，且满足不等式$  \n",
    "                   $\\quad f(t)≤K+\\int \\alpha^tf(s)g(s)ds,\\alpha \\leq t \\leq \\beta$  \n",
    "                   $则有\\quad           f(t)≤Kexp(\\int \\alpha^tg(s)ds),\\alpha \\leq t \\leq \\beta$  \n",
    "$并由此证明定理1的命题5$  \n",
    "   $证明：(1)K>0时，令\\omega(t)=K+\\int \\alpha^tf(s)g(s)ds$  \n",
    "   $则\\omega'(t)=f(t)g(t)≤g(t)\\omega(t)$  \n",
    "   $由\\omega(t)>0可得\\frac{\\omega'(t)}{\\omega(t)}≤g(t)$  \n",
    "   $对其两边从\\alpha到t积分得ln\\omega(t)-ln\\omega(\\alpha)≤\\int \\alpha^tg(s)ds$  \n",
    "   $即  \\frac{\\omega(t)}{\\omega(\\alpha)}≤exp(\\int \\alpha^tg(s)ds),\\omega(\\alpha)=K>0,$  \n",
    "   $所以 \\omega(t)≤K•exp(\\int \\alpha^tg(s)ds),$  \n",
    "   $即   f(t)≤\\omega(t)≤Kexp(\\int \\alpha^tg(s)ds),\\alpha \\leq t \\leq \\beta,$  \n",
    "   $(2)当K=0时，对任意\\epsilon>0，由于f(t)≤\\int \\alpha^tf(s)g(s)ds,所以，f(t)≤\\epsilon+\\int \\alpha^tf(s)g(s)ds,$  \n",
    "   $由（1）的结论，有f(t)≤\\epsilon exp(\\int \\alpha^tg(s)ds)$  \n",
    "   $当ε→0^+时，有f(t)≤0,$  \n",
    "   $又因为f(t)≥0,即得f(t)=0$  \n",
    "   $从而f(t)≤Kexp(\\int \\alpha^tg(s)ds),\\alpha \\leq t \\leq \\beta.$  \n",
    "   $综上所述，格朗沃尔不等式成立$  \n",
    "   $接下来利用格朗沃尔不等式证明教材中定理1的命题5$  \n",
    "   $证明：设\\varphi(t),\\psi(t)是初值问题x'=f(t,x)，x(t_0)=x_0$  \n",
    "   $则有\\varphi(t)x_0+\\int t_0^tf(\\xi,\\varphi(\\xi))d\\xi$  \n",
    "   $ψ(t)=x_0+\\int t_0^tf(\\xi,\\psi(\\xi))d\\xi$  \n",
    "   $那么\\quad  |\\varphi(t)-\\psi(t)|≤\\int t_0^t|f(\\xi,\\varphi(\\xi))-f(\\xi,\\psi(\\xi))|d\\xi$  \n",
    "   $\\quad                        ≤L\\int t_0^t|\\varphi(\\xi)-\\psi(\\xi)|d\\xi,其中L为利普希茨条件，$  \n",
    "   $由格朗沃尔不等式知 0≤|\\varphi(t)-\\psi(t)|≤0,$  \n",
    "   $因而有\\quad \\varphi(t)=\\psi(t)$  \n",
    "   $定理1的命题5得证$  "
   ]
  },
  {
   "cell_type": "markdown",
   "metadata": {
    "collapsed": true
   },
   "source": [
    "$8.如果函数f(x,y)于带域α≤x≤β上连续且关于y满足利普希茨条件，则方程(3.1)满足条件y(x_0)=y_0的解于整个区间[\\alpha,\\beta]上存在且唯一.试证明之.$\n",
    "$提示：用逐步逼近法，取$\n",
    "$$\n",
    "M=\\max_{\n",
    "x\\in[\\alpha,\\beta]\n",
    "}\n",
    "\\mid f(x,y_0)\\mid \n",
    "$$  \n",
    "$由教材中命题1知，方程（3.1）满足条件y(x_0)=y_0的解等价于求积分方程y=y_0+\\int {x_0}^x f(x,y)dx,x∈[\\alpha,\\beta]的连续解，因此只要证明$\n",
    "$上述积分方程的解的存在唯一性即可$  \n",
    "$取     \\quad y_0(x)=y_0,$  \n",
    "$       \\quad y_1(x)=y_0+\\int x_0^xf(\\xi,y_0(\\xi))d\\xi,$  \n",
    "$       \\quad ...$  \n",
    "$       \\quad y_n(x)=y_0+\\int x_0^xf(\\xi,y_n-1(\\xi))d\\xi,$  \n",
    "$       \\quad ...                                            ①$  \n",
    "$易见y_n(x)在\\alpha \\leq x \\leq \\beta上存在且连续，然后证明函数列{y_n(x)}在\\alpha \\leq x \\leq \\beta上一致收敛$  \n",
    "$考察级数y_0(x)+\\sum_{k=1}^\\infty[y_k(x)-y_{k-1}(x)],x\\in[\\alpha,\\beta].\\quad ②$  \n",
    "$取$  \n",
    "$$\n",
    "M=\\max_{\n",
    "x\\in[\\alpha,\\beta]\n",
    "}\n",
    "\\mid f(x,y_0)\\mid \n",
    "$$  \n",
    "$由①式有，|y_1(x)-y_0(x)|≤\\int x_0^x|f(\\xi,y_0(\\xi)|d\\xi≤M|x-x_0|,\\quad  ③$  \n",
    "$及\\quad   |y_2(x)-y_1(x)|≤\\int x_0^x|f(\\xi,y_1(\\xi))-f(\\xi,y_0(\\xi))|d\\xi$  \n",
    "$利用利普希茨条件及③式，得到$  \n",
    "$\\quad     |y_2(x)-y_1(x)|≤L\\int x_0^x|y_1(\\xi)-y_0(\\xi)|d\\xi$  \n",
    "$\\quad                    ≤L\\int x_0^xM|\\xi-x_0|d\\xi=\\frac{ML}{2!}(x-x_0)^2$  \n",
    "$那么，由数学归纳法可知，|y_k(x)-y_k-1(x)|≤\\frac{ML^{k-1}}{k!}|x-x_0|^k≤\\frac{ML^{k-1}}{k!}(\\beta-\\alpha)^k$  \n",
    "$上式右端是正项收敛级数\\sum_{k=1}^\\infty\\frac{ML^{k-1}}{k!}(\\beta-\\alpha)^k的一般项$  \n",
    "$根据Weierstrass判别法，知级数②在\\alpha \\leq x \\leq \\beta上一致收敛，因而函数列{y_n(x)}在[\\alpha,\\beta]上一致收敛$  \n",
    "$设$  \n",
    "$$\n",
    "\\lim_{x\\to\\infty} y_n(x)=y(x)\n",
    "$$\n",
    "$易知y(x)在[\\alpha,\\beta]上连续，且{f(x,y_n(x))}在[\\alpha,\\beta]上一致收敛于f(x,y(x)).$  \n",
    "$所以，对①式两边取极限，即得y(x)=y_0+\\int x_0^xf(\\xi,y(\\xi))d\\xi$  \n",
    "$解的存在性得证$  "
   ]
  },
  {
   "cell_type": "markdown",
   "metadata": {},
   "source": [
    "# <font color='red'>唯一性的证明过程"
   ]
  },
  {
   "cell_type": "markdown",
   "metadata": {
    "collapsed": true
   },
   "source": [
    "$10.给定积分方程\\varphi(x)=f(x)+\\lambda\\int a^bK(x,ξ)\\varphi(ξ) \\quad(*),其中f(x)是[a,b]上的已知连续函数.K(x,ξ)是a \\leq x \\leq b,$  \n",
    "$a \\leq \\xi \\leq b上的已知连续函数，证明当|\\lambda|足够小时（|\\lambda|是常数），(*)在[a,b]上存在唯一的连续解.(提示：作逐步逼近函数序列）$  \n",
    "$\\varphi_0(x)=f(x),\\varphi_n+(x)=f(x)+\\lambda\\int a^b k(x,\\xi)\\varphi_n(\\xi)d\\xi(n=0,1,2...)$  \n",
    "$证明：作逐步逼近序列，取\\varphi_0(x)=f(x)$  \n",
    "$                  \\quad \\varphi_1(x)=f(x)+\\lambda\\int a^b k(x,\\xi)\\varphi_0(\\xi)d\\xi$  \n",
    "$                  \\quad ......$  \n",
    "$                  \\quad \\varphi_n+1(x)=f(x)+\\lambda\\int a^b k(x,\\xi)\\varphi_n(\\xi)d\\xi$  \n",
    "$                  \\quad ......                                              \\quad ①$  \n",
    "$令$  \n",
    "$$\n",
    "M=\\max_{\\substack{\n",
    "x\\in[a,b]\\\\\n",
    "}}\n",
    "\\mid f(x)|\n",
    "$$ \n",
    "$$\n",
    "L=\\max_{\\substack{\n",
    "x\\in[a,b]\\\\\n",
    "\\xi\\in[a,b]\\\\\n",
    "}}\n",
    "\\mid k(x,\\xi)\\mid>0\n",
    "$$\n",
    "$|\\varphi_1(x)-\\varphi_0(x)|=|\\lambda\\int a^bk(x,\\xi)\\varphi_0(\\xi)d\\xi|$  \n",
    "$                       \\quad \\leq|\\lambda|\\int a^b|k(x,\\xi)||f(\\xi)|d\\xi$  \n",
    "$                       \\quad \\leq|\\lambda|ML(b-a)$  \n",
    "$假设|\\varphi_k(x)-\\varphi_{k-1}(x)|\\leq|\\lambda|^kL^kM(b-a)^k成立，则有$  \n",
    "$         \\quad |\\varphi_{k+1}(x)-\\varphi_k(x)|=|\\lambda\\int a^bk(x,\\xi)(\\varphi_k(\\xi)-\\varphi_{k-1}(\\xi)d\\xi$  \n",
    "$                                      \\quad \\leq|\\lambda|\\int a^b|k(x,\\xi)||\\varphi_k(\\xi)-\\varphi_{k-1}(\\xi)|d\\xi$  \n",
    "$                                      \\quad \\leq|\\lambda|\\int a^bL^{k+1}|\\lambda|^kM(b-a)^kd\\xi$  \n",
    "$                                      \\quad =|\\lambda|^{k+1}L^{k+1}M(b-a)^{k+1}$  \n",
    "$由数学归纳法可知，对任意的n\\in N,有|\\varphi_n(x)-\\varphi_{n-1}(x)|\\leq ML^n|\\lambda|^n(b-a)^n$  \n",
    "$下面证明{\\varphi_n(x)}在[a,b]上一致收敛，考虑级数\\varphi_0(x)+\\sum_{k=1}^\\infty(\\varphi_k(x)-\\varphi_{k-1}(x))   \\quad ②$  \n",
    "$该级数的前n项和为\\varphi_0(x)+\\sum_{k=1}^\\infty (\\varphi_k(x)-\\varphi_{k-1}(x))=\\varphi_n(x)$  \n",
    "$所以要证序列{\\varphi_n(x)}在[a,b]上一致收敛，只需证明级数②在[a,b]上一致收敛即可$  \n",
    "$由于|\\varphi_k(x)-\\varphi_{k-1}(x)|\\leq ML^k|\\lambda|^k(b-a)^k$  \n",
    "$当|\\lambda|<\\frac{1}{(b-a)L}时，级数\\sum_{k=1}^\\infty ML^k|\\lambda|^k(b-a)^k收敛，$  \n",
    "$由此可知当|\\lambda|<\\frac{1}{(b-a)L}时，级数②在[a,b]上一致收敛$  \n",
    "$设极限函数\\varphi^*(x),即x\\in [a,b]时，当n \\to \\infty 时，\\varphi_n(x)一致收敛于\\varphi^*,则由\\varphi^*(x)的连续性知\\varphi^*(x)$  \n",
    "$在[a,b]上连续，对迭代序列①，当n \\to \\infty 时两边取极限，得$  \n",
    "$     \\quad \\varphi^*(x)=f(x)+\\lambda \\int a^bk(x,\\xi)\\varphi^*(\\xi)d\\xi,(|\\lambda|<\\frac{1}{(b-a)L}$  \n",
    "$即证明了当|\\lambda|<\\frac{1}{(b-a)L}时，积分方程必存在连续解$  \n",
    "$下面证明当|\\lambda|<\\frac{1}{(b-a)L}时，(*)方程的解的唯一性，用反证法$  \n",
    "$设另有解\\varphi_1(x)且\\varphi_1(x)\\neq \\varphi^*(x),即$  \n",
    "$           \\quad \\varphi_1(x)=f(x)+\\lambda \\int a^bk(x,\\xi)\\varphi_1(\\xi)d\\xi$  \n",
    "$记$  \n",
    "$$\n",
    "Q=\\max_{\n",
    "x\\in[a,b]\\\\\n",
    "}\n",
    "\\mid |\\varphi^*(x)-\\varphi_1(x)|>0\n",
    "$$\n",
    "$|\\varphi^*(x)-\\varphi_1(x)|=|\\lambda \\int a^b k(x,\\xi)(\\varphi^*(\\xi)-\\varphi_1(\\xi)d\\xi|$  \n",
    "$                      \\quad \\leq |\\lambda|\\int a^b L|\\varphi^*(\\xi)-\\varphi_1(\\xi)|d\\xi$  \n",
    "$                      \\quad =|\\lambda|QL(b-a)$  \n",
    "$即有Q \\leq QL(b-a),由于Q>0,所以|\\lambda| \\geq \\frac{1}{(b-a)L},与|\\lambda|<\\frac{1}{(b-a)L}矛盾$  \n",
    "$唯一性得证$  "
   ]
  },
  {
   "cell_type": "markdown",
   "metadata": {},
   "source": [
    "# <font color='red'>A  11/10"
   ]
  },
  {
   "cell_type": "code",
   "execution_count": null,
   "metadata": {
    "collapsed": true
   },
   "outputs": [],
   "source": []
  }
 ],
 "metadata": {
  "kernelspec": {
   "display_name": "SageMath 7.3",
   "language": "",
   "name": "sagemath"
  },
  "language_info": {
   "codemirror_mode": {
    "name": "ipython",
    "version": 2
   },
   "file_extension": ".py",
   "mimetype": "text/x-python",
   "name": "python",
   "nbconvert_exporter": "python",
   "pygments_lexer": "ipython2",
   "version": "2.7.10"
  }
 },
 "nbformat": 4,
 "nbformat_minor": 0
}
