{
 "cells": [
  {
   "cell_type": "markdown",
   "metadata": {},
   "source": [
    "3.求初值问题  \n",
    "$$\\begin{cases}  \n",
    "\\frac{dy}{dx}=x^2-y^2,R=|x+1|\\leq1,|y|\\leq1,\\\\    \n",
    "y(-1)=0\n",
    "\\end{cases}$$ \n",
    "的解的存在区间，并求第二次近似解，给出在解的存在区间的误差估计。  \n",
    "解：这里$M=\\max\\limits_{(x,y)\\in R}\\ |f(x,y)|\\ =4$,$h$是$a=1$及$\\frac{b}{M}=\\frac{1}{4}$中的最小者，故$h=\\frac{1}{4}$，在R上函数$f(x,y)=x^2-y^2$的利普希茨常数可取为$L=2$，因为$\\frac{\\partial f}{\\partial y}=|-2y|\\leq2=L$  \n",
    "$$φ_0(x)=0,$$  \n",
    "$$φ_1(x)=\\int_{-1}^x(t^2-{{φ_0}^2(t)})dt=\\frac{x^3}{3}+\\frac{1}{3},$$  \n",
    "$$φ_2(x)=\\int_{-1}^x(t^2-{{φ_1}^2(t)})dt=\\frac{x^3}{3}-\\frac{x}{9}-\\frac{x^4}{18}-\\frac{x^7}{63}+\\frac{11}{42},$$  \n",
    "由误差估计教材中公式（3.19）得$$|φ_2(x)-φ(x)|\\leq\\frac{4*2^2}{3!}*{\\frac{1}{4}}^3=\\frac{1}{24}$$  \n",
    "所以，已知初值问题的解的存在区间为$-\\frac{5}{4}\\leq x \\leq{-\\frac{3}{4}}$，第二次近似解为$y_2=\\frac{x^3}{3}-\\frac{x}{9}-\\frac{x^4}{18}-\\frac{x^7}{63}+\\frac{11}{42}$，在解的存在区间的误差估计为$|y-y_2|\\leq \\frac{1}{24}$ "
   ]
  },
  {
   "cell_type": "markdown",
   "metadata": {},
   "source": [
    "6.证明格朗沃尔不等式：  \n",
    "设K为非负常数，$f(t)$和$g(t)$为在区间$α\\leq t \\leq β$上的连续非负函数，且满足不等式$$f(t) \\leq K+\\int_α^tf(s)g(s)ds,α\\leq t \\leq β,$$  \n",
    "则有$$f(t) \\leq Kexp(\\int_α^tg(s)ds),α\\leq t \\leq β$$  \n",
    "并由此证明定理1的命题5.  \n",
    "证明：1）$K>0$时，令$$\\omega(t)=K+\\int_α^t{f(s)g(s)ds}$$  \n",
    "则$\\omega'(t)=f(t)g(t)\\leq g(t)\\omega(t)$,由$\\omega(t)>0$可得$$\\frac{\\omega'(t)}{\\omega(t)}\\leq g(t),$$  \n",
    "两边从α到t积分得$$ln\\omega(t)-ln\\omega(α)\\leq \\int_α^tg(s)ds$$  \n",
    "即有$$\\frac{\\omega(t)}{\\omega(α)}\\leq exp(\\int_α^tg(s)ds),$$  \n",
    "$$\\omega(α)=K>0,$$  \n",
    "所以$$\\omega(t) \\leq K*exp(\\int_α^t g(s)ds)$$  \n",
    "即有$$f(t)\\leq \\omega(t)\\leq K*exp(\\int_α^t g(s)ds),α\\leq t \\leq β$$"
   ]
  },
  {
   "cell_type": "markdown",
   "metadata": {},
   "source": [
    "2)当$K=0$时，对任意$\\varepsilon>0$，由于$f(t)\\leq \\int_α^tf(s)g(s)ds$，所以$f(t)\\leq \\varepsilon+\\int_α^tf(s)g(s)ds$  \n",
    "由1），有$f(t)\\leq \\varepsilon*exp(\\int_α^t g(s)ds)$.当$\\varepsilon \\rightarrow 0^+$时，有$f(t)\\leq0$.  \n",
    "又因为$f(t)\\geq0$，即得$f(t)\\equiv0.$  \n",
    "从而 $$f(t)\\leq K*exp( \\int_α^t g(s)ds),α\\leq t \\leq β$$   \n",
    "由1），2）知，格朗沃尔不等式成立。"
   ]
  },
  {
   "cell_type": "markdown",
   "metadata": {},
   "source": [
    "下面利用格朗沃尔不等式证明教材中定理1的命题5.  \n",
    "设$\\varphi(t),\\psi(t)$是初值问题$x'=f(t,x),x(t_0)=x_0$的两个解，则有$$\\varphi(t)=x_0+\\int_{t_0}^tf(ξ,\\varphi(ξ))dξ$$  \n",
    "$$\\psi(t)=x_0+\\int_{t_0}^tf(ξ,\\psi(ξ))dξ$$  \n",
    "于是$$|\\varphi(t)-\\psi(t)|\\leq \\int_{t_0}^t|f(ξ,\\varphi(ξ)-f(ξ,\\psi(ξ)|dξ \\leq L\\int_{t_0}^t|\\varphi(ξ)-\\psi(ξ)|dξ$$  \n",
    "其中L为利普希茨条件.由格朗沃尔不等式知$$0 \\leq|\\varphi(t)-\\psi(t)|\\leq0$$  \n",
    "因而有$$\\varphi(t)=\\psi(t)$$  \n",
    "这样，定理1的命题5得证。"
   ]
  },
  {
   "cell_type": "markdown",
   "metadata": {},
   "source": [
    "8.如果函数$f(x,y)$于带域$α\\leq x \\leq β$上连续且关于y满足利普希茨条件，则方程（3.1）满足条件$y(x_0)=y_0$的解于整个区间$[α,β]$上存在且唯一.试证明之.  \n",
    "\n",
    "解：由教材中命题1可知，方程（3.1）满足条件$y(x_0)=y_0$的解等价于求积分方程$y=y_0+\\int_{x_0}^xf(x,y)dx,x\\in[α,β]$的连续解，因此只要证明上述积分方程的解的存在唯一性即可.  \n",
    "\n",
    "现取$$y_0(x)=y_0$$  \n",
    "$$y_1(x)=y_0+\\int_{x_0}^xf(ξ,y_0(ξ))dξ,$$  \n",
    "$$\\cdots$$   \n",
    "$$y_n(x)=y_0+\\int_{x_0}^xf(ξ,y_{n-1}(ξ))dξ,           ①$$  \n",
    "$$\\cdots$$  \n",
    "易见$y_n(x)$在$α\\leq x \\leq β$上存在且连续。下面证明函数列${y_n(x)}$在$α\\leq x \\leq β$上一致收敛。考察级数  \n",
    "$$y_0(x)+\\sum_{k=1}^{\\infty}[y_k(x)-y_{k-1}(x)],x\\in[α,β].          ②$$  \n",
    "取$M=\\max\\limits_{x\\in[α,β]}\\ |f(x,y_0)|\\ $，由①式有  \n",
    "$$|y_1(x)-y_0(x)|\\leq \\int_{x_0}^x|f(ξ,y_0(ξ))|dξ\\leq M|x-x_0|,        ③$$  \n",
    "及$$|y_2(x)-y_1(x)|\\leq \\int_{x_0}^x|f(ξ,y_1(ξ))-f(ξ,y_0(ξ))|dξ.$$"
   ]
  },
  {
   "cell_type": "markdown",
   "metadata": {},
   "source": [
    "利用利普希茨条件及③，得到  \n",
    "$$|y_2(x)-y_1(x)|\\leq L\\int_{x_0}^x|y_1(ξ)-y_0(ξ)|dξ \\leq L\\int_{x_0}^xM|ξ-x_0|dξ=\\frac{ML}{2!}{(x-x_0)}^2.$$  \n",
    "于是，由数学归纳法可知，  \n",
    "$$|y_k(x)-y_{k-1}(x)|\\leq \\frac{ML^{k-1}}{k!}|x-x_0|^k \\leq \\frac{ML^{k-1}}{k!}(β-α)^k$$"
   ]
  },
  {
   "cell_type": "markdown",
   "metadata": {},
   "source": [
    "上式右端是正项收敛级数$$\\sum_{k=1}^{\\infty}{\\frac{ML^{k-1}}{k!}(β-α)^k}$$  \n",
    "的一般项。\n",
    "\n",
    "由Weierstrass判别法，知级数②在$α\\leq x \\leq β$上一致收敛，因而函数列${y_n(x)}$在$[α,β]$上一致收敛。现设$$\\lim_{n\\rightarrow+\\infty}y_n(x)=y(x)$$"
   ]
  },
  {
   "cell_type": "markdown",
   "metadata": {},
   "source": [
    "易知$y(x)$在上$[α,β]$连续，且${f(x,y_n(x))}$在$[α,β]$上一致收敛于$f(x,y(x))$，因而，对①式两边取极限，即得  \n",
    "$$y(x)=y_0+\\int_{x_0}^xf(ξ,y(ξ))dξ$$"
   ]
  },
  {
   "cell_type": "markdown",
   "metadata": {},
   "source": [
    "10.给定积分方程$$\\varphi(x)=f(x)+\\lambda\\int_a^bK(x,ξ)\\varphi(ξ)dξ,            (*)$$  \n",
    "其中$f(x)$是$[a,b]$上的已知连续函数,$K(x,ξ)$是$a \\leq x \\leq b,a \\leq ξ \\leq b$上的已知连续函数.证明当$|\\lambda|$足够小时（$\\lambda$是常数），（*）在$[a,b]$上存在唯一的连续解。"
   ]
  },
  {
   "cell_type": "markdown",
   "metadata": {},
   "source": [
    "# <font color='red'>唯一性证明？？上面只证明了存在性"
   ]
  },
  {
   "cell_type": "markdown",
   "metadata": {},
   "source": [
    "证明：作逐次逼近序列，取$$\\varphi_0(x)=f(x)$$  \n",
    "令$$\\varphi_1(x)=f(x)+\\lambda\\int_a^bk(x,ξ)\\varphi_0(ξ)dξ,$$  \n",
    "$$\\cdots$$  \n",
    "$$\\varphi_{n+1}(x)=f(x)+\\lambda\\int_a^bk(x,ξ)\\varphi_n(ξ)dξ,        ①$$  \n",
    "$$\\cdots$$"
   ]
  },
  {
   "cell_type": "markdown",
   "metadata": {},
   "source": [
    "令$$M=\\max\\limits_{x\\in[a,b]}\\ |f(x)|\\ ，L=\\max_{\\substack{x\\in[a,b]\\\\ξ\\in[a,b]\\\\}} |k(x,ξ)|>0$$"
   ]
  },
  {
   "cell_type": "markdown",
   "metadata": {},
   "source": [
    "$$|\\varphi_1(x)-\\varphi_0(x)|=|\\lambda\\int_a^bk(x,ξ)\\varphi_0(ξ)dξ|$$  \n",
    "$$\\leq|\\lambda|\\int_a^b|k(x,ξ)||f(ξ)|dξ$$  \n",
    "$$\\leq|\\lambda|ML(b-a),$$"
   ]
  },
  {
   "cell_type": "markdown",
   "metadata": {},
   "source": [
    "假设$|\\varphi_k(x)-\\varphi_{k-1}(x)|\\leq |\\lambda|^kL^kM(b-a)^k$成立，则有  \n",
    "$$|\\varphi_{k+1}(x)-\\varphi_k(x)|=|\\lambda\\int_a^bk(x,ξ)(\\varphi_k(ξ)-\\varphi_{k-1}(ξ))dξ|$$  \n",
    "$$\\leq|\\lambda|\\int_a^b|k(x,ξ)||\\varphi_k(ξ)-\\varphi_{k-1}(ξ)|dξ$$  \n",
    "$$\\leq|\\lambda|\\int_a^bL^{k+1}|\\lambda|^kM(b-a)^kdξ$$  \n",
    "$$=|\\lambda|^{k+1}L^{k+1}M(b-a)^{k+1},$$"
   ]
  },
  {
   "cell_type": "markdown",
   "metadata": {},
   "source": [
    "由归纳法知，对任意的$n\\in N$，有$$|\\varphi_n(x)-\\varphi_{n-1}(x)|\\leq ML^n|\\lambda|^n(b-a)^n$$"
   ]
  },
  {
   "cell_type": "markdown",
   "metadata": {},
   "source": [
    "下证${\\varphi_n(x)}$在$[a,b]$上一致收敛。考虑级数$$\\varphi_0(x)+\\sum_{k=1}^{\\infty}[\\varphi_k(x)-\\varphi_{k-1}(x)],   ①$$  \n",
    "该级数的前n项和为$$\\varphi_0(x)+\\sum_{k=1}^{n}[\\varphi_k(x)-\\varphi_{k-1}(x)]=\\varphi_n(x)$$"
   ]
  },
  {
   "cell_type": "markdown",
   "metadata": {},
   "source": [
    "所以要证序列${\\varphi_n(x)}$在$[a,b]$上一致收敛，只须证级数②在$[a,b]$上一致收敛即可，由于  \n",
    "$$|\\varphi_k(x)-\\varphi_{k-1}(x)|\\leq ML^k|\\lambda|^k(b-a)^k,$$  \n",
    "当$|\\lambda|<\\frac{1}{(b-a)L}$时，级数$\\sum_{k=1}^{\\infty}ML^k|\\lambda|^k(b-a)^k$收敛，由此知当$|\\lambda|<\\frac{1}{(b-a)L}$时，级数②在$[a,b]$上一致收敛。设极限函数为$\\varphi^*(x)$，即$x\\in[a,b]$时，当$n\\rightarrow {\\infty}$时，$\\varphi_n(x)$一致收敛于$\\varphi^*(x)$，且由$\\varphi_n(x)$的连续性知$\\varphi^*(x)$在$[a,b]$上连续，对迭代列①，当$n\\rightarrow {\\infty}$时两边取极限，得"
   ]
  },
  {
   "cell_type": "markdown",
   "metadata": {},
   "source": [
    "$$\\varphi^*(x)=f(x)+\\lambda\\int_a^bk(x,ξ)\\varphi^*(ξ)dξ$$  \n",
    "$$(|\\lambda|<\\frac{1}{(b-a)L})$$  \n",
    "这就证明了当$|\\lambda|<\\frac{1}{(b-a)L}$时，积分方程必存在连续解。"
   ]
  },
  {
   "cell_type": "markdown",
   "metadata": {},
   "source": [
    "下证当$|\\lambda|<\\frac{1}{(b-a)L}$时，（*）方程的解的唯一性。用反证法"
   ]
  },
  {
   "cell_type": "markdown",
   "metadata": {},
   "source": [
    "设另有解$\\varphi_1(x)$且$\\varphi_1(x)\\not=\\varphi^*(x)$，即  \n",
    "$$\\varphi_1(x)=f(x)+\\lambda\\int_a^bk(x,ξ)\\varphi_1(ξ)dξ$$  \n",
    "记$Q=\\max\\limits_{x\\in[a,b]}\\ |\\varphi^*(x)-\\varphi_1(x)|\\ >0，$  \n",
    "$$|\\varphi^*(x)-\\varphi_1(x)|=|\\lambda\\int_a^bk(x,ξ)(\\varphi^*(ξ)-\\varphi_1(ξ))dξ|$$  \n",
    "$$\\leq|\\lambda|\\int_a^bL|\\varphi^*(ξ)-\\varphi_1(ξ)|dξ$$  \n",
    "$$=|\\lambda|QL(b-a),$$  \n",
    "即有$Q\\leq |\\lambda|QL(b-a)$,由于$Q>0$，所以$|\\lambda|\\geq \\frac{1}{(b-a)L}$，与$|\\lambda|<\\frac{1}{(b-a)L}$矛盾.唯一性得证"
   ]
  },
  {
   "cell_type": "markdown",
   "metadata": {
    "collapsed": true
   },
   "source": [
    "# <font color='red'>A  11/10"
   ]
  },
  {
   "cell_type": "code",
   "execution_count": null,
   "metadata": {
    "collapsed": true
   },
   "outputs": [],
   "source": []
  }
 ],
 "metadata": {
  "kernelspec": {
   "display_name": "SageMath 7.3",
   "language": "",
   "name": "sagemath"
  },
  "language_info": {
   "codemirror_mode": {
    "name": "ipython",
    "version": 2
   },
   "file_extension": ".py",
   "mimetype": "text/x-python",
   "name": "python",
   "nbconvert_exporter": "python",
   "pygments_lexer": "ipython2",
   "version": "2.7.10"
  }
 },
 "nbformat": 4,
 "nbformat_minor": 0
}
