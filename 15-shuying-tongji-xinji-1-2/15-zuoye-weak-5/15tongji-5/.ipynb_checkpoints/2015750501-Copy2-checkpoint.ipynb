{
 "cells": [
  {
   "cell_type": "markdown",
   "metadata": {},
   "source": [
    "\n",
    "3、\n",
    "   $高宇宏的常微分作业，15统计班，学号2015750501\\\\f(x,y)=x^2-y^2\\\\f(x,y)在题设闭矩形内的最大值为M=4，所以h=\\frac{1}{4}，其中L=2\\\\故解的存在区间为|x+1|\\leq\\frac{1}{4}\\\\\\Phi_1(x)=0+\\int_{-1}^{x}x^2- （0）^2dx\\\\\\Phi_1(x)=\\frac{1}{3}x^3+\\frac{1}{3}\\\\\\Phi_2(x)=0+\\int_{-1}^{x}x^2-(\\frac{1}{3}x^3+\\frac{1}{3})^2dx\\\\原方程的第二次近似解是\\Phi_2(x)=-\\frac{1}{63}x^7-\\frac{1}{18}x^4+\\frac{1}{3}x^3-\\frac{1}{9}x+\\frac{11}{42}\\\\其中，解的误差范围是：\\\\|\\Phi_2(x)-\\Phi(x)|\\leq\\frac{ML^2}{3!}h^3=\\frac{1}{24}$   \n",
    "   \n",
    "   \n",
    "   \n",
    "\n",
    "\n",
    "   "
   ]
  },
  {
   "cell_type": "markdown",
   "metadata": {
    "collapsed": false
   },
   "source": [
    "6、$（1）当K>0时，设 \\omega(t)=K+\\int_\\alpha^tf(s)g(s)ds,\\alpha\\leq t\\leq\\beta\\\\\n",
    "\\omega'(t)=f(t)g(t)\\leq g(t)\\omega(t)\\\\所以\\frac{\\omega'(t)}{\\omega(t)}\\leq g(t)\\\\对上诉式子两边从\\alpha到t积分得：\\\\ln[\\omega(t)]-ln[\\omega(\\alpha)]\\leq \\int_\\alpha^t g(s)ds\\\\即：\\frac{\\omega(t)}{\\omega(\\alpha)}\\leq exp(\\int_\\alpha^t g(s)ds)\\\\所以\\omega(t)\\leq Kexp(\\int_\\alpha^tg(s)ds)\\\\即有：f(t)\\leq\\omega(t)\\leq Kexp(\\int_\\alpha^tg(s)ds）\\\\（2）当K=0时，f(t)\\leq\\int_\\alpha^t f(s)g(s)ds\\\\任意\\epsilon>0,f(t)\\leq\\epsilon+\\int_\\alpha^t f(s)g(s)ds,则有f(t)\\leq \\epsilon exp(\\int_\\alpha^tg(s)ds)\\\\令\\epsilon趋于0+,则有：f(t)\\leq 0,又f(t)\\geq 0,所以f(t)=0，f(t)\\leq Kexp(\\int_\\alpha^tf(s)ds) \\\\故f(t)\\leq K+\\int_\\alpha^t f(s)g(s)ds时，f(t)\\leq Kexp(\\int_\\alpha^tg(s)ds)$\n"
   ]
  },
  {
   "cell_type": "markdown",
   "metadata": {},
   "source": [
    "$利用上式证明定理5\\\\设y=\\Psi(x)和y=\\Phi(x)是微分方程\\frac{dy}{dx}=f(x,y)满足初值条件y_0=f(x_0)在解的存在区间上的的两个解$"
   ]
  },
  {
   "cell_type": "markdown",
   "metadata": {
    "collapsed": true
   },
   "source": [
    "$|\\Phi(x)-\\Psi(x)|\\leq\\int_{x_0}^x|f(\\xi,\\Phi(\\xi))-f(\\xi,\\Psi(\\xi))|d\\xi\\leq L\\int_{x_0}^x|\\Phi(\\xi)-\\Psi(\\xi)|d\\xi$则有上述不等式K=0的情况，$|\\Phi（x）-\\Psi(x)|\\leq0,所以\\Phi(x)=\\Psi(x)$"
   ]
  },
  {
   "cell_type": "markdown",
   "metadata": {
    "collapsed": true
   },
   "source": [
    "\n",
    "8、$构造函数逼近数列\\\\ \\Phi_0(x)=y_0\\\\ \\Phi_n(x)=y_0+\\int_{x_0}^xf(\\xi,\\Phi_{n-1}(\\xi))d\\xi$"
   ]
  },
  {
   "cell_type": "markdown",
   "metadata": {},
   "source": [
    "$|\\Phi_1(x)-y_0|=|\\int_{x_0}^xf(\\xi,\\Phi(\\xi))|d\\xi\\leq|x-x_0|M\\leq|x-\\alpha|M\\leq (\\beta-\\alpha)M\\\\$"
   ]
  },
  {
   "cell_type": "markdown",
   "metadata": {},
   "source": [
    "$设|\\Phi_n(x)-\\Phi_{n-1}(x)|\\leq\\frac{ ML^{n-1}|x-\\alpha|^n}{n!}\\leq\\frac{ML^{n-1}(\\beta-\\alpha)^n}{n!}$"
   ]
  },
  {
   "cell_type": "markdown",
   "metadata": {},
   "source": [
    "则有$|\\Phi_{n+1}(x)-\\Phi_n(x)|\\leq\\int_{x_0}^x|f(\\xi,\\Phi_n(\\xi))-f(\\xi,\\Phi_(n-1)(\\xi))|d\\xi\\leq\\int_{x_0}^x L|\\Phi_n(\\xi)-\\Phi_{n-1}(\\xi)|d\\xi\\leq\\int_{x_0}^x\\frac {ML^{n}(\\xi-\\alpha)^n}{n!}d\\xi\\leq\\frac{ML^n(\\beta-\\alpha)^{n+1}}{(n+1)!}$"
   ]
  },
  {
   "cell_type": "markdown",
   "metadata": {},
   "source": [
    "因为$\\sum_{i=1}^{\\infty}\\frac{ML^i(\\beta-\\alpha)^{i+1}}{(i+1)!}$收敛，所以{$\\Phi_n(x)$}一致收敛"
   ]
  },
  {
   "cell_type": "markdown",
   "metadata": {},
   "source": [
    "对$\\Phi_n(x)=y_0+\\int_{x_0}{x}f(\\xi,\\Phi_{n-1}(\\xi))d\\xi两边取极限得到\\\\\\Phi(x)=y_0+\\lim_{n\\rightarrow\\infty}\\int_{x_0}^xf(\\xi,\\Phi_{n-1}(\\xi))d\\xi=y_0+\\int_{x_0}^x\\lim_{n\\rightarrow\\infty}f(\\xi,\\Phi_{n-1}(\\xi))d\\xi=y_0+\\int_{x_0}^xf(\\xi,\\Phi(\\xi))d\\xi$"
   ]
  },
  {
   "cell_type": "markdown",
   "metadata": {},
   "source": [
    "即$y=\\Phi(x)在区间[\\alpha,\\beta]$是上述积分方程的解，即微分方程$\\frac{dy}{dx}=f(x,y)$的解"
   ]
  },
  {
   "cell_type": "markdown",
   "metadata": {},
   "source": [
    "$设y=\\Psi(x)和y=\\Phi(x)是微分方程\\frac{dy}{dx}=f(x,y)满足初值条件y_0=f(x_0)在解的存在区间上的的两个解\\\\|\\Phi(x)-\\Psi(x)|\\leq\\int_{x_0}^x|f(\\xi,\\Phi(\\xi))-f(\\xi,\\Psi(\\xi))|d\\xi\\leq L\\int_{x_0}^x|\\Phi(\\xi)-\\Psi(\\xi)|d\\xi则由格朗沃尔不等式K=0时的情形，|\\Phi（x）-\\Psi(x)|\\leq0,所以\\Phi(x)=\\Psi(x)$"
   ]
  },
  {
   "cell_type": "markdown",
   "metadata": {},
   "source": [
    "这就证明了在区间[$\\alpha,\\beta$]上微分方程解的唯一性"
   ]
  },
  {
   "cell_type": "markdown",
   "metadata": {},
   "source": [
    "10、$构造函数逼近序列\\\\\\Phi_0(x)=f(x)\\\\\\Phi_{n+1}(x)=f(x)+\\lambda\\int_a^bK(x,\\xi)\\Phi_n(\\xi)d\\xi(n=1,2,3……)$"
   ]
  },
  {
   "cell_type": "markdown",
   "metadata": {
    "collapsed": true
   },
   "source": [
    "$设|f（x）|在区间[a,b]的最大值为M_1,|K(x,\\xi)|在x\\in[a,b],\\xi\\in[a,b]上的最大值为M_2$"
   ]
  },
  {
   "cell_type": "markdown",
   "metadata": {
    "collapsed": true
   },
   "source": [
    "则有$|\\Phi_1(x)-\\Phi_0(x)|\\leq|\\lambda\\int_a^bK(x,\\xi)f(\\xi)d\\xi|\\leq|\\lambda| M_1 M_2(b-a)$"
   ]
  },
  {
   "cell_type": "markdown",
   "metadata": {},
   "source": [
    "$设|\\Phi_n(x)-\\Phi_{n-1}(x)|\\leq[|\\lambda|M_1 (b-a)]^n M_2$"
   ]
  },
  {
   "cell_type": "markdown",
   "metadata": {},
   "source": [
    "则$|\\Phi_{n+1}-\\Phi_n(x)|\\leq\\int_a^b|\\lambda K(x,\\xi)(\\Phi_n(xi)-\\Phi_{n-1}(\\xi))|d\\xi\\leq\\int_a^b|\\lambda|M_1[|\\lambda|M_1(b-a)]^n M_2 d\\xi\\leq[|\\lambda|M_1(b-a)]^{n+1}M_2 $"
   ]
  },
  {
   "cell_type": "markdown",
   "metadata": {},
   "source": [
    "$显然，当\\lambda足够小的时候，|\\lambda|M_1(b-a)<1则有\\sum_{i=1}^\\infty[|\\lambda|M_1(b-a)]^{i}M_2一致收敛$"
   ]
  },
  {
   "cell_type": "markdown",
   "metadata": {},
   "source": [
    "由魏尔斯特拉斯判别法易得$ \\\\级数\\Phi_0(x)+\\sum_{i=1}^\\infty [\\Phi_i(x)-\\Phi_{i-1}(x)]一致收敛,即{\\Phi_n(x)}一致收敛$"
   ]
  },
  {
   "cell_type": "markdown",
   "metadata": {},
   "source": [
    "记$\\lim_{n\\rightarrow\\infty}\\Phi_n(x)=\\Phi(x)\\\\\n",
    "\\Phi_{n+1}(x)=f(x)+\\lambda\\int_a^bK(x,\\xi)\\Phi_n(\\xi)d\\xi两边取极限，得:\\\\\\Phi_(x)=f(x)+\\lim_{n\\rightarrow\\infty}\\lambda\\int_a^bK(x,\\xi)\\Phi_n(\\xi)d\\xi=f(x)+\\lambda\\int_a^b\\lim_{n\\rightarrow\\infty}K(x,\\xi)\\Phi_n(\\xi)d\\xi\\\\=f(x)+\\lambda\\int_a^bK(x,\\xi)\\Phi(\\xi)d\\xi$"
   ]
  },
  {
   "cell_type": "markdown",
   "metadata": {},
   "source": [
    "[a,b]上连续解的存在性得证，下面证明解的唯一性：$ \\\\设y=\\Psi(x)是题设积分方程的另一个解，则|\\Phi(x)-\\Psi(x)|\\leq\\int_a^b|\\lambda K(x,\\xi)||\\Phi(x)-\\Psi(\\xi)|d\\xi$"
   ]
  },
  {
   "cell_type": "markdown",
   "metadata": {},
   "source": [
    "$由科朗沃尔不等式得|\\Phi(x)-\\Psi(x)|\\leq0,也就是\\Phi(x)=\\Psi(x),这就证明了题设积分方程解的唯一性$"
   ]
  },
  {
   "cell_type": "markdown",
   "metadata": {
    "collapsed": true
   },
   "source": [
    "# <font color='red'>A  11/10"
   ]
  },
  {
   "cell_type": "code",
   "execution_count": null,
   "metadata": {
    "collapsed": true
   },
   "outputs": [],
   "source": []
  }
 ],
 "metadata": {
  "kernelspec": {
   "display_name": "SageMath 7.3",
   "language": "",
   "name": "sagemath"
  },
  "language_info": {
   "codemirror_mode": {
    "name": "ipython",
    "version": 2
   },
   "file_extension": ".py",
   "mimetype": "text/x-python",
   "name": "python",
   "nbconvert_exporter": "python",
   "pygments_lexer": "ipython2",
   "version": "2.7.10"
  }
 },
 "nbformat": 4,
 "nbformat_minor": 0
}
