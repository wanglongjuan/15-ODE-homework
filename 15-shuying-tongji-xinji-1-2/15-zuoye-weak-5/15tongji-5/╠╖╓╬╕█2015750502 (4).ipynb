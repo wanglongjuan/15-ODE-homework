{
 "cells": [
  {
   "cell_type": "markdown",
   "metadata": {},
   "source": [
    "                                           常微分作业\n",
    "                                   姓名:谭治港      学号:2015750502"
   ]
  },
  {
   "cell_type": "markdown",
   "metadata": {},
   "source": [
    "$P88T3$\n",
    "\n",
    "$因为M=\\max\\limits_{(x,y)\\in R}\\|f(x,y)\\|=4, \\quad            h=min(1,\\frac{1}{4})=\\frac{1}{4}$\n",
    "\n",
    "$而在R上函数f(x,y)的利普希茨常数为2$\n",
    "\n",
    "因为$|ψ_{n}(x)-ψ(x)| \\leq \\frac{ML^nh^{n+1}}{(n+1)!}$\n",
    "\n",
    "$取n=2,所以|Ψ_{2}(x)-Ψ(x)| \\leq  \\frac{1}{24}$\n",
    "\n",
    "$所以初值问题解的存在区间为-\\frac{5}{4} \\leq  x \\leq -\\frac{3}{4},\\quad第二次近似解为y_{2}=\\frac{x^3}{3}-\\frac{x^7}{63}-\\frac{x^4}{18}-\\frac{x}{9}+\\frac{11}{42}$\n",
    "\n",
    "$误差估计为|y-y_{2}| \\leq \\frac{1}{24}$\n"
   ]
  },
  {
   "cell_type": "markdown",
   "metadata": {},
   "source": [
    "$T6$\n",
    "\n",
    "$证明：(1)K>0时，令w(t)=K+\\int_{α}^t f(s)g(s) d s,  \\quad则w'(t)=f(t)g(t)≤g(t)w(t)$\n",
    "\n",
    "$由w(t)>0得\\frac{w'(t)}{w(t)}≤g(t)$\n",
    "\n",
    "$有\\frac{w(t)}{w(α)}≤exp(\\int_{α}^t g(s) d s),w(α)=K>0$\n",
    "\n",
    "$所以w(t)≤K exp(\\int_{α}^t g(s) d s),即有f(t)≤w(t)≤K exp(\\int_{α}^t g(s) d s),α≤t≤β$\n",
    "\n",
    "$(2)K=0时，对任意ε>0,由于f(t)≤\\int_{α}^t f(s)g(s) d s$\n",
    "\n",
    "$所以f(t)≤ε+\\int_{α}^t f(s)g(s) d s$\n",
    "\n",
    "$当ε趋向于0时，有f(t)≤0$\n",
    "\n",
    "$又因为f(t)≥0,即得f(t)≡0,从而f(t)≤K exp(\\int_{α}^t g(s) d s),α≤t≤β$\n",
    "\n",
    "$综上，格朗沃尔不等式成立$\n",
    "\n",
    "\n",
    "\n",
    "   $\\quad下面利用不等式证明定理1的命题5：$\n",
    "\n",
    "$设φ(t),ψ(t)是初值问题x'=f(t,x),x(t_0)=x_0的两个解，\\quad则有φ(t)=x_0+\\int_{t_0}^t f(ξ,φ(ξ)) d ξ,ψ(t)=x_0+\\int_{t_0}^t f(ξ,ψ(ξ)) d ξ$\n",
    "\n",
    "$于是，|φ(t)-ψ(t)|≤\\int_{t_0}^t |f(ξ,φ(ξ))-f(ξ,ψ(ξ))| d ξ≤L\\int_{t_0}^t |φ(ξ)-ψ(ξ)| d ξ$\n",
    "\n",
    "$由格朗沃尔不等式知K=0且0≤|φ(t)-ψ(t)|≤K exp(\\int_{t_0}^t L d ξ)=0$\n",
    "\n",
    "$于是φ(t)=ψ(t)，即命题得证$\n"
   ]
  },
  {
   "cell_type": "markdown",
   "metadata": {},
   "source": [
    "$T8$\n",
    "\n",
    "$证明：设M=\\max\\limits_{x\\in [α，β】}|f(x,y_0)|,h=β-α,b=Mh  \\quad另必会存在某常数L$\n",
    "\n",
    "$则构造逐步逼近函数序列\n",
    "\\begin{cases}\n",
    "φ_0(x)=y_0\\\\\n",
    "φ_n(x)=y_0+\\int_{x_0}^x f(ξ,φ_{n-1}(ξ)) d x\n",
    "\\end{cases}\n",
    "$\n",
    "$α≤x≤β,n=1,2,…$\n",
    "\n",
    "$因为|φ_1(x)-y_0|=|\\int_{x_0}^x f(ξ,y_0) d x|≤\\int_{x_0}^x |f(ξ,y_0)| d x≤M(x-x_0)≤Mh≤b$\n",
    "\n",
    "$可证：|φ_n(x)-φ_{n-1}(x)|≤\\frac{ML^{n-1}(β-α)^n}{n!}\\quad  又|φ_{n+1}(x)-φ_n(x)|≤\\frac{ML^n(β-α)^{n+1}}{(n+1)!}\\quad则φ_n(x)=φ_0(x)+∑[φ_k(x)-φ_{n-1}(x)]在区间[α,β]一致收敛，于是存在极限φ(x)$\n",
    "\n",
    "$φ(x)=y_0+\\int_{x_0}^x f(ξ,φ(ξ)) d ξ,所以φ(x)是微分方程的解$\n",
    "\n",
    "$设φ(x)，ψ(x)均满足积分方程y=y_0+\\int_{x_0}^x f(ξ,φ(ξ)) d ξ,α≤x_0≤β,α≤x≤β$\n",
    "\n",
    "$当x≥x_0时，有格朗沃日不等式，有|φ(x)-ψ(x)|≤\\int_{x_0}^x |f(s,φ(s))-f(s,ψ(s))| d s≤L\\int_{x_0}^x |φ(x)-ψ(x)| d s即|φ(x)-ψ(x)|≤0,即φ(x)≡ψ(x)（α≤x_0≤x≤β）。$\n",
    "\n",
    "$同理可证α≤x≤x_0≤β时有φ(x)≡ψ(x)$\n",
    "\n",
    "$即积分方程也就是微分方程的解是唯一的$\n",
    "\n"
   ]
  },
  {
   "cell_type": "markdown",
   "metadata": {},
   "source": [
    "$T10$\n",
    "\n",
    "证明：$\\phi_0(x)=f(x),$\n",
    "\n",
    "令$\\phi_1(x)=f(x)+\\lambda \\int_a^b k(x,\\varsigma) \\phi_0(\\varsigma)d\\varsigma \\quad\\phi_{n+1}(x)=f(x)+\\lambda \\int_a^b k(x,\\varsigma) \\phi_n(\\varsigma)d\\varsigma$\n",
    "\n",
    "令$M=\\max\\limits_ {x \\in [a,b]} \\mid f(x) \\mid ,L=max \\mid k(x,\\varsigma) \\mid >0,$\n",
    "\n",
    "$\n",
    "\\begin{aligned}\n",
    "\\mid \\phi_1(x)-\\phi_0(x) \\mid &=\\mid \\lambda \\int_a^b k(x,\\varsigma) \\phi_0(\\varsigma)d\\varsigma \\mid\\\\\\\n",
    "& \\leq \\mid \\lambda \\mid ML(b-a)\n",
    "\\end{aligned}\n",
    "$\n",
    "\n",
    "假设$\\mid \\phi_k(x)-\\phi_{k-1}(x)\\mid \\leq {\\mid \\lambda \\mid }^kL^kM(b-a)^k$成立，则有\n",
    "$\n",
    "\\begin{aligned}\n",
    "\\mid \\phi_{k+1}(x)-\\phi_k(x)\\mid &=\\mid \\lambda \\int_a^b k(x,\\varsigma) (\\phi_k(\\varsigma)-\\phi_{k-1}(\\varsigma))d\\varsigma \\mid\\\n",
    "&\\leq \\int_a^b L^{k+1}{\\mid \\lambda \\mid }^kM(b-a)^k d\\varsigma\\\n",
    "&={\\mid \\lambda \\mid }^{k+1}L^{k+1}M(b-a)^{k+1}\n",
    "\\end{aligned}\n",
    "$\n",
    "\n",
    "由归纳法可知，对任意的$n \\in N,有\\mid \\phi_n(x)-\\phi_{n-1}(x)\\mid \\leq {\\mid \\lambda \\mid }^nL^nM(b-a)^n$\n",
    "\n",
    "证明一致收敛：考虑级数$$\\phi_0(x)+\\sum_{k=1}^\\infty(\\phi_k(x)-\\phi_{k-1}(x))$$\n",
    "\n",
    "该级数的前n项和为$\\phi_0(x)+\\sum_{k=1}^n(\\phi_k(x)-\\phi_{k-1}(x))=\\phi_n(x)$\n",
    "\n",
    "要证明${\\phi_n(x)}在[a,b]$上一致收敛，\\quad 即证明$\\phi_0(x)+\\sum_{k=1}^\\infty(\\phi_k(x)-\\phi_{k-1}(x))在[a,b]$上一致收敛.\n",
    "\n",
    "由$\\mid \\phi_k(x)-\\phi_{k-1}(x)\\mid \\leq {\\mid \\lambda \\mid }^kL^kM(b-a)^k$\n",
    "\n",
    "可得，当$\\mid \\lambda \\mid<\\frac{1}{(b-a)L}时，级数\\sum{\\mid \\lambda \\mid }^kL^kM(b-a)^k$收敛，\n",
    "\n",
    "所以，$\\mid \\lambda \\mid<\\frac{1}{(b-a)L}时,\\phi_0(x)+\\sum_{k=1}^\\infty(\\phi_k(x)-\\phi_{k-1}(x))在[a,b]上一致收敛$\n",
    "\n",
    "设极限函数为$\\phi^*(x),即x \\in [a,b]时，当n→\\infty 时，\\phi_n(x)一致收敛于\\phi^*(x),且由\\phi_n(x)的连续性可得\\phi^*(x)在[a,b]上连续$\n",
    "\n",
    "得到，对于$\\phi_{n+1}(x)=f(x)+\\lambda \\int_a^b k(x,\\varsigma) \\phi_n(\\varsigma)d\\varsigma$，当n→\\infty 时，两边取极限\n",
    "\n",
    "得$\\phi^*(x)=f(x)+\\lambda \\int_a^b k(x,\\varsigma) \\phi^*(\\varsigma)d\\varsigma \\quad(\\mid \\lambda \\mid<\\frac{1}{(b-a)L})$\n",
    "\n",
    "即说明，当$\\mid \\lambda \\mid<\\frac{1}{(b-a)L}$时，积分方程存在连续解.\n",
    "\n",
    "再证明解的唯一性，用反证法.\n",
    "\n",
    "设另有解$\\phi'^*(x)\\neq \\phi^*(x)$,既有\n",
    "\n",
    "$\\phi'^*(x)=f(x)+\\lambda \\int_a^b k(x,\\varsigma) \\phi'^*(\\varsigma)d\\varsigma$\n",
    "记$Q=max_{x\\in [a,b]}\\mid \\phi^*(x)-\\phi'^*(x)\\mid>0$\n",
    "$\\begin{aligned}\n",
    "\\mid \\phi^*(x)-\\phi'^*(x)\\mid &=\\mid \\lambda \\int_a^b k(x,\\varsigma) (\\phi^*(\\varsigma)-\\phi'^*(\\varsigma))d\\varsigma \\mid\\\n",
    "&\\leq \\mid \\lambda \\mid \\int_a^b L \\mid\\phi^*(\\varsigma)-\\phi'^*(\\varsigma) \\mid d\\varsigma\\\n",
    "&=\\mid \\lambda \\mid QL(b-a)\n",
    "\\end{aligned}\n",
    "$\n",
    "即有$Q\\leq \\mid \\lambda \\mid QL(b-a)$,由于$Q>0，可知\\mid \\lambda \\mid \\geq \\frac{1}{(b-a)L},与\\mid \\lambda \\mid<\\frac{1}{(b-a)L}$矛盾.$\n",
    "\n",
    "$唯一性得证.$\n",
    "\n",
    "\n"
   ]
  },
  {
   "cell_type": "markdown",
   "metadata": {
    "collapsed": true
   },
   "source": [
    "# <font color='red'>A  11/10"
   ]
  },
  {
   "cell_type": "code",
   "execution_count": null,
   "metadata": {
    "collapsed": true
   },
   "outputs": [],
   "source": []
  }
 ],
 "metadata": {
  "kernelspec": {
   "display_name": "SageMath 7.3",
   "language": "",
   "name": "sagemath"
  },
  "language_info": {
   "codemirror_mode": {
    "name": "ipython",
    "version": 2
   },
   "file_extension": ".py",
   "mimetype": "text/x-python",
   "name": "python",
   "nbconvert_exporter": "python",
   "pygments_lexer": "ipython2",
   "version": "2.7.10"
  }
 },
 "nbformat": 4,
 "nbformat_minor": 0
}
