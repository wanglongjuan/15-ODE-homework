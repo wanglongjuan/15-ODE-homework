{
 "cells": [
  {
   "cell_type": "markdown",
   "metadata": {
    "collapsed": true
   },
   "source": [
    "# $$第四次作业$$ "
   ]
  },
  {
   "cell_type": "markdown",
   "metadata": {},
   "source": [
    "### 3.求初值问题   $$  \\begin{cases}\n",
    "   \\frac{\\mathrm dy}{\\mathrm dx}=x^2-y^2,R:|x+1|\\leq 1,|y|\\leq 1,  \\\\y(-1)=0 \\\\ \\end{cases} $$"
   ]
  },
  {
   "cell_type": "markdown",
   "metadata": {},
   "source": [
    "### 的解的存在区间，并求第二次近似解，给出在解的存在区间的误差分析估计："
   ]
  },
  {
   "cell_type": "markdown",
   "metadata": {},
   "source": [
    "### 解："
   ]
  },
  {
   "cell_type": "markdown",
   "metadata": {
    "collapsed": true
   },
   "source": [
    "### 容易知道$$ M=\\max \\limits_{(x,y)\\in R}|f(x)|=4$,$h=\\min(a,\\frac{b}{M})$$即$$h=\\frac{1}{4}$$\n",
    "### 在$R$上利普希茨常数可以取$L=2$因为$$\\frac{\\partial f}{\\partial y}=|-2y|\\leq 2$$"
   ]
  },
  {
   "cell_type": "markdown",
   "metadata": {},
   "source": [
    "### $由$ $$|\\phi_n(x)-\\phi(x)|\\leq \\frac{ML^n}{(n+1)!}h^{n+1}=\\frac{1}{24}$$\n",
    "### $知道误差小于\\frac{1}{24}$\n",
    "### 存在区间为$$|x-x_0|\\leq h 即-\\frac{5}{4}\\leq x \\leq -\\frac{3}{4}$$"
   ]
  },
  {
   "cell_type": "markdown",
   "metadata": {},
   "source": [
    "### $$\\phi_0(x)=0$$ $$\\phi_1(x)=y_0+\\int_{-1}^x \\xi^2-\\phi(\\xi) \\mathrm d \\xi=\\frac{x^3}{3}+\\frac{1}{3} $$"
   ]
  },
  {
   "cell_type": "markdown",
   "metadata": {},
   "source": [
    "### $$\\phi_2=y_0+\\int_{-1}^x \\xi^2-\\phi_1(\\xi) \\mathrm \\xi=\\frac{x^3}{3}-\\frac{x}{9}-\\frac{x^4}{18}-\\frac{x^7}{63}+\\frac{11}{42}$$"
   ]
  },
  {
   "cell_type": "markdown",
   "metadata": {},
   "source": [
    "### 6.证明格朗沃尔（Gronwall）不等式：\n",
    "### 设$K$为非负常数，$f(t)$和$g(t)$为在区间$\\alpha \\leq t \\leq \\beta$上的连续非负函数’且满足不等式 $$f(t)\\leq K+\\int_\\alpha^tf(s)g(s) \\mathrm ds,\\alpha\\leq    t \\beta,$$ 则有 $$f(t) \\leq K exp (\\int_\\alpha^t g(s)\\mathrm ds),\\alpha \\leq t \\leq \\beta.$$\n",
    "### 并且由此证明定理1的命题5."
   ]
  },
  {
   "cell_type": "markdown",
   "metadata": {},
   "source": [
    "### 解："
   ]
  },
  {
   "cell_type": "markdown",
   "metadata": {},
   "source": [
    "### （1）$K>0$时，令 $$\\omega(t)=K+\\int_\\alpha^t f(s)g(s) \\mathrm ds$$ $$两边求导得\\omega (t)=f(t)g(t) \\leq \\omega(t)g(t),由\\omega(t)<0得到 $$ $$\\frac{\\omega(t)'}{\\omega(t)}\\leq g(x)$$"
   ]
  },
  {
   "cell_type": "markdown",
   "metadata": {},
   "source": [
    "### 两边从$\\alpha$到$t$积分得 $$\\ln\\omega(t)-\\ln\\omega(\\alpha)\\leq \\int_\\alpha^t g(s)\\mathrm ds$$"
   ]
  },
  {
   "cell_type": "markdown",
   "metadata": {},
   "source": [
    "### 即 $$\\frac{\\omega (t)}{\\omega(\\alpha)}\\leq \\exp(\\int_\\alpha^t g(s)\\mathrm ds)$$\n",
    "### 由$\\omega(\\alpha)=K \\geq 0$有 $$\\omega(t)\\leq K\\exp(\\int_\\alpha^t g(s)\\mathrm ds),$$"
   ]
  },
  {
   "cell_type": "markdown",
   "metadata": {},
   "source": [
    "### 即 $$f(t)\\leq \\omega (t) \\leq K\\exp (\\int_\\alpha^t g(s)\\mathrm ds)$$"
   ]
  },
  {
   "cell_type": "markdown",
   "metadata": {},
   "source": [
    "### (2)当$K=0$时 ,对任意的$\\varepsilon\\geq 0$,由于$f(t)\\leq \\int_\\alpha^t f(s)g(s) \\mathrm ds,$ 所以$f(t)\\leq \\varepsilon +\\int_\\alpha^t f(s)g(s)\\mathrm ds,$\n",
    "### 由（1）的结论有:$f(t)\\leq \\varepsilon \\exp (\\int_\\alpha^t f(s)g(s)\\mathrm ds$，当$\\varepsilon \\to O^+$时,有 $f(t)\\leq 0$,又因为$f(t)\\geq 0$得$f(t)=0$"
   ]
  },
  {
   "cell_type": "markdown",
   "metadata": {},
   "source": [
    "### 所以$$f(t)\\leq K\\int_\\alpha^t f(s)g(s)\\mathrm ds,\\alpha\\leq \\beta.$$\n",
    "### 即证"
   ]
  },
  {
   "cell_type": "markdown",
   "metadata": {},
   "source": [
    "## 证明定理1的命题5."
   ]
  },
  {
   "cell_type": "markdown",
   "metadata": {},
   "source": [
    "### 设$\\varphi(t),\\psi(t)是初值问题$ $$x'=f(t,x),x(t_0)=x_0$$ 的两个解，则有"
   ]
  },
  {
   "cell_type": "markdown",
   "metadata": {},
   "source": [
    "### $$\\varphi(t)=x_0+\\int_{t_0}^t f(\\xi,\\varphi(\\xi)) \\mathrm d\\xi$$ $$\\psi(t)=x_0+\\int_{t_0}^t f(\\xi,\\varphi(\\xi)) \\mathrm d\\xi$$"
   ]
  },
  {
   "cell_type": "markdown",
   "metadata": {},
   "source": [
    "### 那么 $$|\\varphi(t)-\\psi(t)|\\leq \\int_{t_0}^t |f(\\xi,varphi(\\xi))-f(\\xi,\\psi(\\xi))| \\mathrm d \\xi\\leq L\\int_{t_0}^t|\\varphi(\\xi)-\\psi(\\xi)| \\mathrm d\\xi$$"
   ]
  },
  {
   "cell_type": "markdown",
   "metadata": {},
   "source": [
    "### 其中L为利普希茨条件。由格朗沃尔不等式知道 $$0\\leq |\\varphi(t)-\\psi(t)|\\leq 0 ,即有\\varphi(t)=\\psi(t)$$ 即证"
   ]
  },
  {
   "cell_type": "markdown",
   "metadata": {},
   "source": [
    "### 8.如果函数$f(x,y)$于带域$\\alpha\\leq x\\leq \\beta$上连续且关于y满足利普希茨条件，则方程（3.1）满足条件有有$y(x_0)=y_0$的解存在于整个带状区间$[\\alpha,\\beta]$且唯一,试证明之。\n",
    "### （提示：用逐步逼近法，取$M=\\max\\limits_{x\\in{[\\alpha,\\beta]}}|f(x,y_0)|$)"
   ]
  },
  {
   "cell_type": "markdown",
   "metadata": {},
   "source": [
    "### 解："
   ]
  },
  {
   "cell_type": "markdown",
   "metadata": {},
   "source": [
    "### 取 $$y_0(x)=y_0,$$ $$y_1(x)=y_0+\\int_{x_0}^x f(\\xi,y_0(\\xi))\\mathrm d\\xi,$$ $$......$$  "
   ]
  },
  {
   "cell_type": "markdown",
   "metadata": {},
   "source": [
    "### $$y_n(x)=y_0+\\int_{x_0}^x f(\\xi,y_{n-1}(\\xi)) \\mathrm d xi,$$\n",
    "### $$...(1)$$   "
   ]
  },
  {
   "cell_type": "markdown",
   "metadata": {},
   "source": [
    "### 易见$y_n$在$\\alpha \\leq x\\leq \\beta$上存在且连续，然后证明函数列${y_n}$在$\\alpha \\leq x\\leq \\beta$上一致收敛，考察级数\n",
    "### $$y_0(x)+\\displaystyle\\sum_{k=1}^{\\infty}[y_k(x)-y_{k-1}(x)],x\\in[\\alpha,\\beta]......(2)$$"
   ]
  },
  {
   "cell_type": "markdown",
   "metadata": {},
   "source": [
    "### 取$M=\\max \\limits_{x \\in{[\\alpha,\\beta]}} |f(x,y_0)|$,由（1）有\n",
    "### $$|y_1(x)-y_0(x)|\\leq \\int_{x_0}^x|f(\\xi,y_0(\\xi))|\\mathrm d\\xi \\leq M |x-x_0|,（3）$$\n",
    "### 及$$|y_2(x)-y_1(x)|\\leq \\int_{x_0}^x|f(\\xi,y_1(\\xi))|\\mathrm d\\xi$$"
   ]
  },
  {
   "cell_type": "markdown",
   "metadata": {},
   "source": [
    "### 利用利普希茨条件及（3）式，得到 $$|y_2(x)-y_1(x)|\\leq L\\int_{x_0}^x|y_1(\\xi)-y_0(\\xi)|\\mathrm d \\xi \\leq L\\int_{x_0}^x M|\\xi-x_0|\\mathrm d\\xi=\\frac{ML}{2!}(x-x_0)^2$$"
   ]
  },
  {
   "cell_type": "markdown",
   "metadata": {},
   "source": [
    "### 那么，由数学归纳法可知，$|y_k(x)-y_{k-1}(x)|\\leq|frac{ML^{k-1}}{k!}|x-x_0|^k\\leq\\frac{ML^{k-1}}{k!}(\\beta-\\alpha)^k$.上式右端是正项收敛级数$\\displaystyle\\sum_{k=1}^{\\infty}\\frac{MK^{k-1}}{k!}(\\beta-\\alpha)^k$的一般项，根据weierstrass判别法，知级数（2）在$\\alpha\\leq x\\leq \\beta$上一致收敛，因而函数列${y_n(x)}$在$[\\alpha,\\beta]$上一致收敛.设$\\lim_{n\\to\\infty}y_n(x)=y(x)$,易知，$y(x)$在$[\\alpha,\\beta]$上连续，且${f(x,y_n(x))}在[\\alpha,\\beta]$上一致收敛于$f(x,y(x)).$所以，对（1）式两边取极限，即得于$y（x）=y_0+\\int_{x_0}^x f(\\xi,y(\\xi))\\mathrm d\\xi$解的存在性得证。"
   ]
  },
  {
   "cell_type": "markdown",
   "metadata": {},
   "source": [
    "# <font color='red'>唯一性证明过程"
   ]
  },
  {
   "cell_type": "markdown",
   "metadata": {},
   "source": [
    "### 10.给定积分方程 $$\\varphi(x)=f(x)+\\lambda\\int_a^b K(x,\\xi)\\varphi(\\xi)\\mathrm\\xi......(*)$$\n",
    "### 其中f(x)是$[a,b]$上的已知连续函数，$K(x,\\xi)$是$a\\leq x \\leq b,a\\leq \\xi\\leq b$上的已知连续函数，证明当$|\\lambda|$足够小时$（\\lambda是常数），（*）$在$[a,b]$上存在唯一的连续解。\n",
    "### （提示：作逐步逼近函数序列） $$\\varphi_0(x)=f(x)$$ $$\\varphi_{n+1}(x)=f(x)+\\lambda\\int_a^b K(x,\\xi)\\lambda \\mathrm\\xi(n=0,1,2....)$$"
   ]
  },
  {
   "cell_type": "markdown",
   "metadata": {},
   "source": [
    "### 解："
   ]
  },
  {
   "cell_type": "markdown",
   "metadata": {},
   "source": [
    "### 作逐步逼近序列，取  $$\\varphi_0(x)=f(x),$$"
   ]
  },
  {
   "cell_type": "markdown",
   "metadata": {},
   "source": [
    "### 令 $$\\varphi_1(x)=f(x)+\\lambda\\int_a^b k(x,\\xi)\\varphi_0\\mathrm d\\xi,$$ $$......$$\n",
    "### $$\\varphi_{n+1}(x)=f(x)+\\lambda\\int_a^bk(x,\\xi)\\varphi_n(\\xi),$$ $$......$$"
   ]
  },
  {
   "cell_type": "markdown",
   "metadata": {},
   "source": [
    "### 令 $$M=\\max\\limits_{x\\in[a,b]}|f(x)|,L=\\max\\limits_{x\\in[a,b] \\\\ \\xi\\in[a,b]}|k(x,\\xi)|>0,$$"
   ]
  },
  {
   "cell_type": "markdown",
   "metadata": {},
   "source": [
    "### $$|\\varphi_0(x)-\\varphi_k(x)|=|\\lambda\\int_a^b k(x,\\xi)\\varphi_0(\\xi)\\mathrm d\\xi| \\leq|\\lambda\\int_a^b k(x,\\xi)(\\varphi_k(\\xi)-\\varphi_{k-1}(\\xi))\\mathrm g\\xi|$$ $$\\leq|\\lambda|\\int_a^bL^{k+1}|\\lambda|^kM(b-a)^k\\mathrm\\xi=|\\lambda|^{k+1}L^{k+1}M(b-a)^{k+1},$$"
   ]
  },
  {
   "cell_type": "markdown",
   "metadata": {},
   "source": [
    "### 由数学归纳法知，对任意的$n\\in N$,有 $$|\\varphi_n(x)-\\varphi_{n-1}(x)|\\leq ML^n|\\lambda|^n(b-a)^n.$$"
   ]
  },
  {
   "cell_type": "markdown",
   "metadata": {},
   "source": [
    "### 下面证明${\\varphi_n(x)}$在$[a,b]$上一致收敛。考虑级数 $$\\varphi_0(x)+\\displaystyle\\sum_{k=1}^{\\infty}(\\varphi_k(x)-\\varphi_{k-1}(x)......(2)$$"
   ]
  },
  {
   "cell_type": "markdown",
   "metadata": {},
   "source": [
    "### 该级数的前n项和为 $$\\varphi_0(x)+\\displaystyle\\sum_{k=1}^{n}(\\varphi_k(x)-\\varphi_{k-1}(x))=\\varphi_n(x).$$"
   ]
  },
  {
   "cell_type": "markdown",
   "metadata": {},
   "source": [
    "###　故而证明${\\varphi_n(x)}$在$[a,b]$上一致收敛，只需要证明级数（2）在$[a,b]$上一致收敛即可。\n",
    "### 由 $$|\\varphi_k(x)-\\varphi_{k-1}(x)|\\leq ML^k|\\lambda|^k(b-a)^k$$\n",
    "### 当$|\\lambda|<\\frac{1}{(b-a)L}$时，级数$\\displaystyle\\sum_{k=1}^{\\infty}ML^k|\\lambda|^k(b-a)^k$收敛，由此可知，当$|\\lambda|<\\frac{1}{(a-b)L}$时，级数（2）在[a,b]上一致收敛。设极限函数为$\\varphi^*(x)$，即$x\\in[a,b]$时，当$n\\to\\infty$时，$\\varphi_n(x)$一致收敛于$\\varphi^*,$则由$\\varphi_n(x)$的连续性可知$\\varphi^*$在[a,b]上连续，对迭代顺序(1),当$n\\to\\infty$时两边取极限，得"
   ]
  },
  {
   "cell_type": "markdown",
   "metadata": {},
   "source": [
    "### $$\\varphi^*(x)=f(x)+\\lambda\\int_a^b k(x,\\xi)\\varphi^*(\\xi)\\mathrm d\\xi$$ $$(|\\lambda|<\\frac{1}{(b-a)L})$$"
   ]
  },
  {
   "cell_type": "markdown",
   "metadata": {},
   "source": [
    "### 即证明了当$|\\lambda|<\\frac{1}{(b-a)L}$是，积分方程必存在连续解\n",
    "### 下面证明当$|\\lambda|<\\frac{1}{(b-a)L}$时，（*）方程的解的唯一性，用反证法\n",
    "### 设有另外一个解$\\psi(x)$且$\\psi\\neq\\varphi^*(x),$即"
   ]
  },
  {
   "cell_type": "markdown",
   "metadata": {},
   "source": [
    "###  $$\\psi(x)=f(x)+\\lambda\\int_a^b k(x,|xi)\\psi(\\xi)\\mathrm d\\xi$$\n",
    "###  记 $$Q=\\max_{x\\in[a,b]}|\\varphi^*(x)-\\psi(x)|>0$$\n",
    "###  $$ |\\varphi^8(x)-\\psi(x)|=|\\lambda\\int_a^bk(x,\\xi)(\\varphi^*(x)-\\psi(x))\\mathrm d\\xi|\\leq |\\lambda|\\int_a^bL|\\varphi^*(x)-\\psi(x)|\\mathrm d\\xi=|\\lambda|QL(b-a),$$"
   ]
  },
  {
   "cell_type": "markdown",
   "metadata": {},
   "source": [
    "### 即有，$Q\\leq|\\lambda |QL(b-a)$，由于Q>0,所以$|\\lambda|\\geq\\frac{1}{(b-a)L}$与$|\\lambda|<\\frac{1}{(b-a)L}$矛盾。即唯一性证得"
   ]
  },
  {
   "cell_type": "markdown",
   "metadata": {
    "collapsed": true
   },
   "source": [
    "# <font color='red'>A  11/10"
   ]
  },
  {
   "cell_type": "code",
   "execution_count": null,
   "metadata": {
    "collapsed": true
   },
   "outputs": [],
   "source": []
  }
 ],
 "metadata": {
  "kernelspec": {
   "display_name": "SageMath 7.3",
   "language": "",
   "name": "sagemath"
  },
  "language_info": {
   "codemirror_mode": {
    "name": "ipython",
    "version": 2
   },
   "file_extension": ".py",
   "mimetype": "text/x-python",
   "name": "python",
   "nbconvert_exporter": "python",
   "pygments_lexer": "ipython2",
   "version": "2.7.10"
  }
 },
 "nbformat": 4,
 "nbformat_minor": 0
}
