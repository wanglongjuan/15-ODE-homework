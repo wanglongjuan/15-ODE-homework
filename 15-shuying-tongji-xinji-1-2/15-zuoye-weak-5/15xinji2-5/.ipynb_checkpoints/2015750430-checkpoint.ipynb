{
 "cells": [
  {
   "cell_type": "markdown",
   "metadata": {},
   "source": [
    "**9月27日**\n",
    "\n",
    "**3.求初值问题**\n",
    "$$\n",
    "\\begin{cases}\n",
    "dy=x^2-y^2，R:|x+1|\\leq{1},|y|\\leq{1}\\\\\n",
    "y(-1)=0\\\\\n",
    "\\end{cases}\n",
    "$$\n",
    "\n",
    "**的解的存在区间，并求第二次近似解，给出在解的存在区间的误差估计。**"
   ]
  },
  {
   "cell_type": "markdown",
   "metadata": {},
   "source": [
    "**解：**\n",
    "\n",
    "**知** $ a=1,b=1$\n",
    "\n",
    "**当（x,y)=(2,0)时，**$max |f(x,y)|=4，$ 则$M=4$"
   ]
  },
  {
   "cell_type": "markdown",
   "metadata": {},
   "source": [
    "$h=min(a,\\frac{\\mathrm b}{\\mathrm M})=\\frac{\\mathrm 1}{\\mathrm 4}$"
   ]
  },
  {
   "cell_type": "markdown",
   "metadata": {},
   "source": [
    "**取利普西茨系数L为** $ 2 $,"
   ]
  },
  {
   "cell_type": "markdown",
   "metadata": {},
   "source": [
    "$$\n",
    "\\begin{aligned}\n",
    "\\varphi_0(x)&=0,\\\\\n",
    "\\varphi_1(x)&=\\int\\limits_{-1}^x {(x^2-\\varphi_0^2(x))dx}=\\frac {\\mathrm x^2}{\\mathrm 3}+\\frac{\\mathrm 1}{\\mathrm 3}\\\\\n",
    "\\varphi_2(x)&=\\int\\limits _{-1}^x {(x^2-\\varphi_1^2 (x))dx}=\\frac {\\mathrm x^3}{\\mathrm 3}-\\frac{\\mathrm x}{\\mathrm 9}-\\frac{\\mathrm x^4}{\\mathrm 18}-\\frac{\\mathrm x^7}{\\mathrm 63}+\\frac{\\mathrm 11}{\\mathrm 42}\\\\\n",
    "\\end{aligned}\n",
    "$$"
   ]
  },
  {
   "cell_type": "markdown",
   "metadata": {},
   "source": [
    "又：\n",
    "\n",
    "$$|\\varphi_2(x)-\\varphi(x)|\\leq \\frac{\\mathrm ML^n}{\\mathrm (n+1)!}h^{n+1}=\\frac{\\mathrm 4·2^2}{\\mathrm 3!}·(\\frac{\\mathrm 1}{\\mathrm 4})^3=\\frac{\\mathrm 1}{\\mathrm 24}$$"
   ]
  },
  {
   "cell_type": "markdown",
   "metadata": {},
   "source": [
    "**则误差估计为**$\\frac{\\mathrm 1}{\\mathrm 24}$"
   ]
  },
  {
   "cell_type": "markdown",
   "metadata": {},
   "source": [
    "**8.如果函数** $f(x,y)$**于带域**$\\alpha \\leq x\\leq \\beta$ **上连续且关于**$y$**满足利普西茨条件，则方程**\n",
    "\n",
    "$$\\frac{\\mathrm dy}{\\mathrm dx}=f(x,y）$$\n",
    "**满足条件**$y(x_0)=y_0$**的解于整个区间$[\\alpha,\\beta]$上存在且唯一，试证之。（提示：用逐步逼近法）**"
   ]
  },
  {
   "cell_type": "markdown",
   "metadata": {},
   "source": [
    "**存在性：**\n",
    "\n",
    "$$\\begin{aligned}\n",
    "y_0(x)&=y_0\\\\\n",
    "y_1(x)&=y_0+\\int\\limits_{x_0}^x f(\\xi,y_0(\\xi))d\\xi\\\\\n",
    "\\cdots\\\\\n",
    "y_n(x)&=y_0+\\int\\limits_{x_0}^x f(\\xi,y_{n-1} (\\xi) d\\xi\\\\\n",
    "\\cdots\\\\\n",
    "\\end{aligned}$$"
   ]
  },
  {
   "cell_type": "markdown",
   "metadata": {},
   "source": [
    "**取**$M=max|f(x,y_0)|,x\\in[\\alpha,\\beta]$"
   ]
  },
  {
   "cell_type": "markdown",
   "metadata": {},
   "source": [
    "$$\n",
    "\\begin{aligned}\n",
    "|y_1 (x)-y_0 (x)|&\\leq \\int\\limits_{x_0}^x|f(\\xi,y_0(\\xi)|d\\xi\\leq M|x-x_0|\\\\\n",
    "|y_2(x)-y_1(x)|&\\leq \\int\\limits_{x_0}^x|f(\\xi,y_1（\\xi))-f(\\xi,y_0(\\xi))|d\\xi\\\\\n",
    "&\\leq L\\int\\limits_{x_0}^x|y_1(\\xi)-y_0(\\xi)|d\\xi\\\\\n",
    "&\\leq L\\int\\limits_{x_0}^xM|\\xi-x_0|d\\xi=\\frac{\\mathrm ML}{\\mathrm 2!}(x-x_0)^2\\\\\n",
    "\\end{aligned}\n",
    "$$"
   ]
  },
  {
   "cell_type": "markdown",
   "metadata": {},
   "source": [
    "**由数学归纳法知：**\n",
    "\n",
    "$$|y_{k}(x)-y_{k-1}(x)|\\leq\\frac{\\mathrm ML^{k-1}}{\\mathrm k!}|x-x_0|^k\\leq\\frac{\\mathrm ML^{k-1}}{\\mathrm k!}(\\beta-\\alpha)^k$$"
   ]
  },
  {
   "cell_type": "markdown",
   "metadata": {},
   "source": [
    "  **又**\n",
    "  \n",
    "  $\\displaystyle\\sum_{k=1}^{\\infty}\\frac{\\mathrm ML^{k-1}}{\\mathrm k!}(\\beta-\\alpha)^k$**是正项收敛级数，则**$\\displaystyle\\sum_{k=1^k }|y_{k}(x)-y_{k-1}(x)|$**一致收敛，则{$y_n（x)$}在[$\\alpha,\\beta$]上一致收敛，**\n",
    "  \n",
    " **又$y(x)$在[$\\alpha,\\beta$]上连续，则:**\n",
    " \n",
    " **$$y(x)=y_0+\\int\\limits_{x_0}^x f(\\xi,y(\\xi))d\\xi$$**\n",
    " \n",
    " **即解存在。**"
   ]
  },
  {
   "cell_type": "markdown",
   "metadata": {},
   "source": [
    "**唯一性：**\n",
    "\n",
    "**若$\\psi (x)$也是一致收敛级数函数**\n",
    "\n",
    "\\begin{aligned}\n",
    "y_0(x)&=y_0\\\\\n",
    "y_n(x)&=y_0+\\int\\limits_{x_0}^x f(\\xi,y_{n-1} (\\xi) d\\xi\\\\\n",
    "\\psi(x)&=y_0+\\int\\limits_{x_0}^x f(\\xi,\\psi(\\xi) d\\xi\\\\\n",
    "\\end{aligned}"
   ]
  },
  {
   "cell_type": "markdown",
   "metadata": {},
   "source": [
    "\\begin{aligned}\n",
    "|y_0(x)-\\psi(x)|&\\leq\\int\\limits_{x_0}^x |f(\\xi,\\psi(\\xi)| d\\xi\\leq M(x-x_0)\\\\\n",
    "|y_1(x)-\\psi(x)|&\\leq\\int\\limits_{x_0}^x|f(\\xi,y_1（\\xi))-f(\\xi,\\psi(\\xi))|d\\xi\\\\\n",
    "&\\leq L\\int\\limits_{x_0}^x|y_1(\\xi)-\\psi(\\xi)|d\\xi\\\\\n",
    "&\\leq L\\int\\limits_{x_0}^x M|\\xi-x_0|d\\xi=\\frac{\\mathrm ML}{\\mathrm 2!}(x-x_0)^2\\\\\n",
    "\\end{aligned}"
   ]
  },
  {
   "cell_type": "markdown",
   "metadata": {},
   "source": [
    "**由数学归纳法知：**\n",
    "\n",
    "$$|y_{n}(x)-\\psi(x)|\\leq\\frac{\\mathrm ML^{n}}{\\mathrm (n+1)!}(\\beta-\\alpha)^{n+1}$$\n",
    "\n",
    "**当n趋于无穷时$\\frac{\\mathrm ML^{n}}{\\mathrm (n+1)!}(\\beta-\\alpha)^{n+1}$趋于0，即：**\n",
    "\n",
    "**$$y(x)=\\psi(x)$$**"
   ]
  },
  {
   "cell_type": "markdown",
   "metadata": {},
   "source": [
    "**9月28日**"
   ]
  },
  {
   "cell_type": "markdown",
   "metadata": {},
   "source": [
    "**6.证明格朗沃尔不等式：**\n",
    "\n",
    "**设K为非负常数，f(t)和g(t)为在区间**$\\alpha \\leq t\\leq \\beta$**上的连续非负函数，且不满足不等式**"
   ]
  },
  {
   "cell_type": "markdown",
   "metadata": {},
   "source": [
    "$$f(t)\\leq K+\\int_a^t f(s)g(s)ds , \\alpha\\leq t \\leq \\beta,$$"
   ]
  },
  {
   "cell_type": "markdown",
   "metadata": {},
   "source": [
    "**则有**\n",
    "\n",
    "$$f(t)\\leq K exp(\\int_a^t g(s)ds), \\alpha\\leq t \\leq \\beta.$$"
   ]
  },
  {
   "cell_type": "markdown",
   "metadata": {},
   "source": [
    "**并由此证明定理1的命题5.**"
   ]
  },
  {
   "cell_type": "markdown",
   "metadata": {},
   "source": [
    "**当$K>0$时，令** **$h(t)=K+\\int_α^t \\mathrm f(s)g(s)ds $ 且 $ h(\\alpha)=K $ 有：**"
   ]
  },
  {
   "cell_type": "markdown",
   "metadata": {},
   "source": [
    "$$f(t) \\leq h(t)$$"
   ]
  },
  {
   "cell_type": "markdown",
   "metadata": {},
   "source": [
    "**则**$$h'(t)=f(t)g(t)≤g(t)h(t)$$"
   ]
  },
  {
   "cell_type": "markdown",
   "metadata": {},
   "source": [
    "$$\\frac{\\mathrm h'(t)}{\\mathrm h(t)}≤g(t)$$"
   ]
  },
  {
   "cell_type": "markdown",
   "metadata": {},
   "source": [
    "**在不等式两边从$\\alpha$到$t$积分得：**$$lnh(t)-lnh(α)≤\\int_α^t \\mathrm g(s) \\mathrm ds$$\n",
    "\n",
    "$$\\frac{\\mathrm h(t)}{\\mathrm h(α)}≤exp（\\int_α^t \\mathrm g(s) \\mathrm ds)$$\n",
    "\n",
    "**又知：**$ h(\\alpha)=K $"
   ]
  },
  {
   "cell_type": "markdown",
   "metadata": {},
   "source": [
    "∴$$h(t)≤Kexp(\\int_α^t \\mathrm g(s) \\mathrm ds)$$"
   ]
  },
  {
   "cell_type": "markdown",
   "metadata": {},
   "source": [
    "**当$K=0$,$\\forall \\varepsilon >0$ 有**\n",
    "\n",
    "$$f(t)≤\\int_α^t \\mathrm f(s)g(s) \\mathrm ds$$\n",
    "\n",
    "**则：**$$f(t)≤ε+\\int_α^t \\mathrm f(s)g(s) \\mathrm ds$$"
   ]
  },
  {
   "cell_type": "markdown",
   "metadata": {},
   "source": [
    "**根据前面所证：**$$f(t)≤\\varepsilon exp(\\int_α^t \\mathrm g(s) \\mathrm ds)$$"
   ]
  },
  {
   "cell_type": "markdown",
   "metadata": {},
   "source": [
    "**当$\\varepsilon \\to 0^+ $ 时，有$f(t)≤0$.**"
   ]
  },
  {
   "cell_type": "markdown",
   "metadata": {},
   "source": [
    "**又$f(t)$为非负函数，即$f(t)\\equiv 0$,**$$f(t)≤Kexp(\\int_α^t \\mathrm g(s) \\mathrm ds),\\alpha \\leq t \\leq \\beta$$\n",
    "\n",
    "**得证**\n",
    "\n",
    "**由此证定理一的命题5:**\n",
    "\n",
    "**设$\\phi(t) , \\psi(t)$是初值问题$\\begin{cases}x'=f(t,x)\\\\x(t_0)=x_0\\\\ \\end{cases}$的解**"
   ]
  },
  {
   "cell_type": "markdown",
   "metadata": {},
   "source": [
    "**则**$$\\phi(t)=x_0+\\int _{t_0}^t \\mathrm f(\\varepsilon,\\phi(\\xi)) \\mathrm d\\xi$$  \n",
    "$$\\psi(t)=x_0+\\int _{t_0}^t \\mathrm f(\\xi,\\psi(\\xi)) \\mathrm d\\xi$$"
   ]
  },
  {
   "cell_type": "markdown",
   "metadata": {},
   "source": [
    "$$|\\phi(t)-\\psi(t)|≤ \\int_{t_0}^t \\mathrm |\\mathrm f(\\xi,\\phi(\\xi))-\\mathrm f(\\xi,\\psi(\\xi))|\\mathrm d\\xi \\leq L \\int_{t_0}^t \\mathrm |\\mathrm \\phi(\\xi)-\\mathrm \\psi(\\xi)| \\mathrm d\\xi$$"
   ]
  },
  {
   "cell_type": "markdown",
   "metadata": {},
   "source": [
    "**则根据以上证明：**\n",
    "$$0 \\leq |\\mathrm \\phi(t)-\\mathrm \\psi(t)|≤0$$\n",
    "**即$$\\phi(t)=\\psi(t)$$得证**"
   ]
  },
  {
   "cell_type": "markdown",
   "metadata": {},
   "source": [
    "**10.给定积分方程**\n",
    "\n",
    "$$\\varphi(x)=f(x)+\\lambda \\int_a^b K(x,\\xi)\\varphi(\\xi)d\\xi,$$\n",
    "\n",
    "**其中f(x)是[a,b]上的已知连续函数，**$K(x,\\xi)$**是**$a\\leq x\\leq b$,$a\\leq \\xi \\leq b$**上的一直连续函数，证明当**$|\\lambda|$**足够小时（**$\\lambda $**是常数），（*）在[a,b]上存在唯一的连续解。**"
   ]
  },
  {
   "cell_type": "markdown",
   "metadata": {},
   "source": [
    "**(提示：作逐步逼近函数序列**\n",
    "\n",
    "$\\begin{aligned}\n",
    "\\varphi_0(x）&=f(x)\\\\\n",
    "\\varphi_n+1(x)&=f(x）+\\lambda \\int_a^b K(x,\\xi)\\varphi_n(\\xi)d\\xi (n=0,1,2…）.)\\\\\n",
    "\\end{aligned}\n",
    "$"
   ]
  },
  {
   "cell_type": "markdown",
   "metadata": {},
   "source": [
    "**证明:**"
   ]
  },
  {
   "cell_type": "markdown",
   "metadata": {},
   "source": [
    "\\begin{aligned}\n",
    "\\phi_0(x)&=f(x)\\\\\n",
    "\\phi_1(x)&=f(x)+\\lambda \\int_a^b \\mathrm k(x,\\xi) \\mathrm \\phi_0(\\xi) \\mathrm d\\xi\\\\\n",
    "\\cdots\\\\\n",
    "\\phi_{n+1}(x)&=f(x)+\\lambda \\int_a^b \\mathrm k(x,\\xi) \\mathrm \\phi_n(\\xi) \\mathrm d\\xi\\\\\n",
    "\\cdots\\\\\n",
    "\\end{aligned}"
   ]
  },
  {
   "cell_type": "markdown",
   "metadata": {},
   "source": [
    "**设：**$$M=\\max_{\\substack{x\\in [a,b]\\\\}}\\mid f(x)\\mid,L=\\max_{\\substack{x\\in[a,b]\\\\ \\xi \\in[a,b]\\\\}} \\mid|k(x,\\xi)|\\mid>0$$"
   ]
  },
  {
   "cell_type": "markdown",
   "metadata": {},
   "source": [
    "\\begin{aligned}\n",
    "|\\phi_1(x)-\\phi_0(x)|&=|\\lambda \\int_a^b \\mathrm k(x,\\xi) \\mathrm \\phi_0(\\xi) \\mathrm d\\xi\\\\\n",
    "&\\leq |\\lambda| \\int_a^b \\mathrm |k(x,\\xi)| \\mathrm |f(\\xi)| \\mathrm d\\xi\\\\\n",
    "&\\leq |\\lambda|ML(b-a)\\\\\n",
    "\\end{aligned}"
   ]
  },
  {
   "cell_type": "markdown",
   "metadata": {},
   "source": [
    "**利用数学归纳法，假设$|\\phi_k(x)-\\phi_{k-1}(x)|\\leq|\\lambda|^{k}L^{k}M(b-a)^k$成立**"
   ]
  },
  {
   "cell_type": "markdown",
   "metadata": {},
   "source": [
    "\\begin{aligned}\n",
    "|\\phi_{k+1}(x)-\\phi_k(x)|&=|\\lambda \\int_a^b \\mathrm k(x,\\xi) \\mathrm(\\phi_k(\\xi)-\\phi_{k-1}(\\xi) )\\mathrm d\\xi|\\\\\n",
    "&\\leq |\\lambda| \\int_a^b \\mathrm |k(x,\\xi)| \\mathrm |\\phi_k(\\xi)-\\phi_{k-1}(\\xi)| \\mathrm d\\xi\\\\\n",
    "&\\leq|\\lambda| \\int_a^b \\mathrm L^{k+1}|\\lambda|^{k}M(b-a)^{k} \\mathrm d\\xi\\\\\n",
    "&=|\\lambda|^{k+1}L^{k+1}M(b-a)^{k+1}\\\\\n",
    "\\end{aligned}"
   ]
  },
  {
   "cell_type": "markdown",
   "metadata": {},
   "source": [
    "**则**$\\quad \\forall n\\in N $　$$|\\phi_n(x)-\\phi_{n-1}(x)|≤ML^{n}|\\lambda|^{n}(b-a)^{n}$$"
   ]
  },
  {
   "cell_type": "markdown",
   "metadata": {},
   "source": [
    "**考虑级数$\\phi_0(x)+\\displaystyle\\sum_{k=1}^{infty}(\\phi_k(x)-\\phi_{k-1}(x))$的前n项和为**\n",
    "\n",
    "$$\\phi_0(x)+\\displaystyle\\sum_{k=1}^n(\\phi_k(x)-\\phi_{k-1}(x))=\\phi_n(x)$$"
   ]
  },
  {
   "cell_type": "markdown",
   "metadata": {},
   "source": [
    "**则只需证明该级数在[a,b]上一致收敛。**"
   ]
  },
  {
   "cell_type": "markdown",
   "metadata": {},
   "source": [
    "**因为**$\\quad|\\phi_k(x)-\\phi_{k-1}(x)|\\leq|\\lambda|^{k}L^{k}M(b-a)^k$，"
   ]
  },
  {
   "cell_type": "markdown",
   "metadata": {},
   "source": [
    "**则当$|\\lambda|<\\frac {\\mathrm 1}{\\mathrm (b-a)L}$时，级数$\\displaystyle\\sum_{k=1}^{\\infty}|\\lambda|^{k}L^{k}M(b-a)^k$收敛，即级数$\\phi_0(x)+\\displaystyle\\sum_{k=1}^{infty}(\\phi_k(x)-\\phi_{k-1}(x))$一致收敛。**"
   ]
  },
  {
   "cell_type": "markdown",
   "metadata": {},
   "source": [
    "**若$n\\to \\infty $时，$\\phi_n(x）$一致收敛于$\\phi(x)^*$**"
   ]
  },
  {
   "cell_type": "markdown",
   "metadata": {},
   "source": [
    "**当$|\\lambda|<\\frac {\\mathrm 1}{\\mathrm (b-a)L}$时，同时对 $ \\phi_{n+1}(x)=f(x)+\\lambda \\int_a^b \\mathrm k(x,\\xi) \\mathrm \\phi_n(\\xi) \\mathrm d\\xi\\quad$两边取极限:**"
   ]
  },
  {
   "cell_type": "markdown",
   "metadata": {},
   "source": [
    "$$\\phi^*(x)=f(x)+\\lambda\\int_a^b \\mathrm k(x,\\xi) \\mathrm \\phi^*(\\xi) \\mathrm d\\xi$$"
   ]
  },
  {
   "cell_type": "markdown",
   "metadata": {},
   "source": [
    "**即证明方程存在连续解，现证方程的解是唯一的：**"
   ]
  },
  {
   "cell_type": "markdown",
   "metadata": {},
   "source": [
    "**若存在解 $ \\psi(x) $ 且 $ \\psi(x)\\neq\\phi(x)^*$**"
   ]
  },
  {
   "cell_type": "markdown",
   "metadata": {},
   "source": [
    "**即**$$\\psi(x)=f(x)+\\lambda\\int_a^b \\mathrm k(x,\\xi) \\mathrm \\psi(\\xi) \\mathrm d\\xi$$"
   ]
  },
  {
   "cell_type": "markdown",
   "metadata": {},
   "source": [
    "**设**$$Q=\\max_{\\substack{x\\in[a,b]\\\\}}\\mid\\phi(x)^*-\\psi(x)\\mid>0$$"
   ]
  },
  {
   "cell_type": "markdown",
   "metadata": {},
   "source": [
    "\\begin{aligned}\n",
    "|\\phi(x)^*-\\psi(x)|&=|\\lambda\\int_a^b \\mathrm k(x,\\xi) \\mathrm (\\phi(\\xi)^*-\\psi(\\xi)) \\mathrm d\\xi|\\\\\n",
    "&\\leq|\\lambda| \\int_a^b \\mathrm L \\mathrm |(\\phi(\\xi)^*-\\psi(\\xi))| \\mathrm d\\xi\\\\\n",
    "&=|\\lambda|QL(b-a)\\\\\n",
    "\\end{aligned}"
   ]
  },
  {
   "cell_type": "markdown",
   "metadata": {},
   "source": [
    "**则：$Q≤|λ|QL(b-a)$.**"
   ]
  },
  {
   "cell_type": "markdown",
   "metadata": {},
   "source": [
    "**又Q>0，得：**$$|\\lambda|≥\\frac {\\mathrm 1}{\\mathrm (b-a)L}$$\n",
    "**与$|\\lambda|< \\frac {\\mathrm 1}{\\mathrm (b-a)L}$矛盾，**\n",
    "\n",
    "**假设不成立， $ \\psi(x)=\\phi(x)^* $ 则唯一性得证.**"
   ]
  },
  {
   "cell_type": "markdown",
   "metadata": {},
   "source": [
    "# <font color='red'>A  11/10"
   ]
  },
  {
   "cell_type": "code",
   "execution_count": null,
   "metadata": {
    "collapsed": true
   },
   "outputs": [],
   "source": []
  }
 ],
 "metadata": {
  "kernelspec": {
   "display_name": "SageMath 7.3",
   "language": "",
   "name": "sagemath"
  },
  "language_info": {
   "codemirror_mode": {
    "name": "ipython",
    "version": 2
   },
   "file_extension": ".py",
   "mimetype": "text/x-python",
   "name": "python",
   "nbconvert_exporter": "python",
   "pygments_lexer": "ipython2",
   "version": "2.7.10"
  }
 },
 "nbformat": 4,
 "nbformat_minor": 0
}
