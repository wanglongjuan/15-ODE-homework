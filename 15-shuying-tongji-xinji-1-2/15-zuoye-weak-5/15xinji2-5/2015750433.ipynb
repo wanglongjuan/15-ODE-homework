{
 "cells": [
  {
   "cell_type": "markdown",
   "metadata": {},
   "source": [
    "*P88*"
   ]
  },
  {
   "cell_type": "markdown",
   "metadata": {},
   "source": [
    "$3.求初值问题\\begin{cases}\\frac{\\mathrm d y}{\\mathrm d x} = x^2 - y^2 , R:\\mid x + 1 \\mid \\leq 1,\\mid y \\mid \\leq 1 ,\\\\ y(-1) = 0 \\end{cases}的解的存在区间，并求第二次近似解，给出在解的存在区间的误差估计.$\n",
    "\n",
    "$$解：这里M=\\max\\limits_{(x,y)\\in R}\\mid f(x,y)\\mid = 4 ，h是a = 1及\\frac{b}{M} = \\frac{1}{2}二数中的最小者，故h = \\frac{1}{4},在R函数上f(x,y) = x^2 - y^2 的利普希茨常数可取 L = 2 ，因为\\frac{\\partial f}{\\partial y} = |-2y| \\leq 2 = L$$\n",
    "\n",
    "$\\varphi_0(x) = 0,$\n",
    " \n",
    "$\\varphi_1(x) = \\int_{-1}^x(t^2-{\\varphi_0}^2(t))\\mathrm d t = \\frac{x^3}{3}+\\frac{1}{3}，$\n",
    "\n",
    "$\\varphi_2(x) = \\int_{-1}^x(t^2-{\\varphi_1}^2(t))\\mathrm d t = \\frac{x^3}{3}-\\frac{x}{9}-\\frac{x^4}{18}-\\frac{x^7}{63}+\\frac{11}{42},$\n",
    "\n",
    "$∵\\varphi_2(x)-\\varphi(x) \\leq \\frac{4·2^2}{3!}·(\\frac{1}{4})^3=\\frac{1}{24}$\n",
    "\n",
    "$∴解的存在区间为-\\frac{5}{4} \\leq x \\leq -\\frac{3}{4}$\n",
    "\n",
    "$第二次近似解为y_2= \\frac{x^3}{3}-\\frac{x}{9}-\\frac{x^4}{18}-\\frac{x^7}{63}+\\frac{11}{42}$\n",
    "\n",
    "$在存在区间的误差估计为|y-y_2| \\leq \\frac{1}{24}$"
   ]
  },
  {
   "cell_type": "markdown",
   "metadata": {
    "collapsed": true
   },
   "source": [
    "$8.如果函数f(x,y)于带域\\alpha \\leq x \\leq \\beta上连续且关于y满足利普希茨条件，则方程\\frac{\\mathrm d y}{\\mathrm d x}=f(x,y)满足条件y(x_0)=y_0的解于整个区间[\\alpha,\\beta]上存在且唯一.试证明之.$\n",
    "\n",
    "$证明：∵方程满足条件y(x_0)=y_0的解等价求积分方程y=y_0+\\int_{x_0}^xf(x,y)\\mathrm d x,x\\in[\\alpha,\\beta]的连续解$\n",
    "\n",
    "$∴即证积分方程的解的存在唯一性$\n",
    "\n",
    "$取y_0(x)=y_0$\n",
    "\n",
    "$y_1(x)=y_0+\\int_{x_0}^xf(\\xi，y_0(\\xi))\\mathrm d \\xi,$\n",
    "\n",
    "$一直到y_n(x)=y_0+\\int_{x_0}^xf(\\xi,y_{n-1}(\\xi))\\mathrm d \\xi$\n",
    "\n",
    "$主要y_n(x)在\\alpha \\leq x \\leq \\beta上存在且连续，再证函数列\\{y_n(x)\\}在\\alpha \\leq x \\leq \\beta上一致收敛$\n",
    "\n",
    "$考察级数y_0(x)+\\displaystyle\\sum_{k=1}^{\\infty}[y_k(x)-y_{k-1}(x)],x\\in [\\alpha,\\beta].$\n",
    "\n",
    "$取M=\\max\\limits_{x \\in[\\alpha,\\beta]\\\\}\\mid f(x,y_0) \\mid,$\n",
    "\n",
    "$得\\mid y_1(x)-y_0(x) \\mid \\leq \\int_{x_0}^x \\mid f(\\xi,y_0(\\xi)) \\mid \\mathrm d \\xi \\leq M \\mid x- x_0 \\mid ,$\n",
    "\n",
    "$\\mid y_2(x)-y_1(x) \\mid \\leq \\int_{x_0}^x \\mid f(\\xi,y_1(\\xi))-f(\\xi,y_0(\\xi)) \\mid \\mathrm d \\xi ,$\n",
    "\n",
    "$利用利普希茨条件得\\mid y_2(x)-y_1(x) \\mid \\leq L \\int_{x_0}^{x} \\mid y_1(\\xi)-y_0(\\xi) \\mid \\mathrm d \\xi \\leq L \\int_{x_0}^xM \\mid \\xi - x_0 \\mid \\mathrm d \\xi = \\frac{ML}{2!}(x-x_0)^2$\n",
    "\n",
    "$由数学归纳法可知\\mid y_k(x)-y_{k-1}(x) \\mid \\leq \\frac{ML^{k-1}}{k!} {\\mid x-x_0 \\mid}^k \\leq \\frac{ML^{k-1}}{k!}(\\beta-\\alpha)^k$\n",
    "\n",
    "$又由Weierstrass判别法，级数在\\alpha \\leq x \\leq \\beta上一致收敛$\n",
    "\n",
    "$∴函数列\\{y_n(x)\\}在[\\alpha,\\beta]上一致收敛$\n",
    "\n",
    "$设\\lim \\limits_{n \\to \\infty}y_n(x) = y(x)$\n",
    "\n",
    "$∵y(x)在[\\alpha,\\beta]上连续，且\\{f(x,y_n(x))\\}在[\\alpha,\\beta]上一致收敛于f(x,y(x))$\n",
    "\n",
    "$∴y(x)=y_0+\\int_{x_0}^xf(\\xi,y(\\xi))\\mathrm d \\xi,解的存在性得证$\n",
    "\n",
    "$再设\\varphi(x)是[\\alpha,\\beta]上的另一解，则y(x)=\\varphi(x).类似命题5可证明唯一性。$"
   ]
  },
  {
   "cell_type": "markdown",
   "metadata": {},
   "source": [
    "$6.证明格朗沃尔（gronwall）不等式：$\n",
    "\n",
    "$设K为非负常数，f(t)和g(t)为在区间\\alpha \\leq t \\leq \\beta上的连续非负函数，且满足不等式f(t) \\leq K+ \\int_\\alpha^t f(s)g(s)\\mathrm d s,\\alpha \\leq t \\leq \\beta,$\n",
    "\n",
    "$则有f(t) \\leq Kexp(\\int_\\alpha^tg(s)\\mathrm d s),\\alpha \\leq t \\leq \\beta.$\n",
    "\n",
    "$并由此证明定理1的命题5.$\n",
    "\n",
    "$证明：当K>0时，令\\omega(t)=K+\\int_\\alpha^tf(s)g(s)\\mathrm{d}s,$\n",
    "\n",
    "$则\\omega'(t)=f(t)g(t) \\leq g(t)\\omega(t)$\n",
    "\n",
    "$由\\omega(t)>0,得\\frac{\\omega^{\\prime}(t)}{\\omega(t)}\\leq g(t)$\n",
    "\n",
    "$两边从a到t积分，得\\ln\\omega(t)-\\ln\\omega(\\alpha)\\leq \\int_\\alpha^tg(s)\\mathrm{d}s$\n",
    "\n",
    "$即\\frac{\\omega(t)}{\\omega(\\alpha)}\\leq exp(\\int_\\alpha^tg(s)\\mathrm{d}s,\\omega(\\alpha)=K>0$\n",
    "\n",
    "$∴\\omega(t)\\leq K\\bullet exp(\\int_\\alpha^tg(s)\\mathrm{d}s)$\n",
    "\n",
    "$即f(t)\\leq \\omega(t)\\leq K\\quad exp(\\int_\\alpha^tg(s)\\mathrm{d}s),\\alpha \\leq t \\leq \\beta$\n",
    "\n",
    "$当K=0时，\\forall \\varepsilon>0,∵f(t)\\leq \\int_\\alpha^tf(s)g(s)\\mathrm{d}s,∴f(t)\\leq \\varepsilon+\\int_\\alpha^tf(s)g(s)\\mathrm{d}s$\n",
    "\n",
    "$当\\varepsilon \\to 0^+时，有f(t)\\leq 0$\n",
    "\n",
    "$又∵f(t)\\geq 0,即f(t)\\equiv 0$\n",
    "\n",
    "$∴f(t)\\leq K\\bullet exp(\\int_\\alpha^tg(s)\\mathrm{d}s),\\alpha \\leq t \\leq \\beta,即证$\n",
    "\n",
    "$设\\varphi(t),\\psi(t)是初值问题,x^{\\prime}=f(t,x),x(t_0)=x_0的两个解$\n",
    "\n",
    "$则\\begin{aligned}\\varphi(t)=x_0+\\int_{t_0}^tf(\\xi,\\varphi(\\xi))\\mathrm{d}\\xi,\\\\ \\psi(t)=x_0+\\int_{t_0}^tf(\\xi,\\psi(\\xi))\\mathrm{d}\\xi.\\\\ \\end{aligned}$\n",
    "\n",
    "$∴\\mid \\varphi(t)-\\psi(t)\\mid\\leq\\int_{t_0}^t\\mid f(\\xi,\\varphi(\\xi))-f(\\xi,\\psi(\\xi))\\mid\\mathrm{d}\\xi\\\\ \\leq L\\int_{t_0}^t\\mid\\varphi(\\xi)-\\psi(\\xi)\\mid\\mathrm{d}\\xi\\\\，其中L为利普希茨条件$\n",
    "\n",
    "$由格朗沃尔不等式知0\\leq\\mid\\varphi(t)-\\psi(t)\\mid\\leq 0,$\n",
    "\n",
    "$∴\\varphi(t)=\\psi(t),即证$"
   ]
  },
  {
   "cell_type": "markdown",
   "metadata": {},
   "source": [
    "$10.给定积分方程\\varphi(x)=f(x)+\\lambda\\int_a^bK(x,\\xi)\\varphi(\\xi)\\mathrm{d}\\xi,其中f(x)是[a,b]上的已知连续函数，K(x,\\xi)是a\\leq x\\leq b,a\\leq \\xi \\leq b上的已知连续函数.证明当\\mid\\lambda\\mid足够小时(\\lambda是常数),(\\ast)在[a,b]是存在唯一的连续解.$\n",
    "\n",
    "$证明：作逐次逼近序列，取\\varphi_0(x)=f(x)$\n",
    "\n",
    "$令\\varphi_1(x)=f(x)+\\lambda\\int_a^bk(x,\\xi)\\varphi_0(\\xi)\\mathrm{d}\\xi$\n",
    "\n",
    "$到\\varphi_{n+1}(x)=f(x)+\\lambda\\int_a^bk(x,\\xi)\\varphi_n(\\xi)\\mathrm{d}\\xi$\n",
    "\n",
    "$令M=\\max\\limits_{x\\in[a,b]}\\mid f(x)\\mid,L=\\max\\limits_{\\substack{x\\in[a,b]\\\\ \\xi\\in[a,b]\\\\}}\\mid k(x,\\xi)\\mid>0$\n",
    "\n",
    "$\\begin{aligned}\\mid\\varphi_1(x)-\\varphi_0(x)=\\mid\\lambda\\int_a^bk(x,\\xi)\\varphi_0(\\xi)\\mathrm{d}\\xi\\mid\\\\ \\leq\\mid\\lambda\\mid\\int_a^b\\mid k(x,\\xi)\\mid\\mid f(\\xi)\\mid\\mathrm{d}\\xi\\\\ \\leq\\mid\\lambda\\mid ML(b-a),\\\\\\end{aligned}$\n",
    "\n",
    "$设\\mid\\varphi_k(x)-\\varphi_{k-1}(x)\\mid\\leq{\\mid\\lambda\\mid}^kL^kM(b-a)^k成立$\n",
    "\n",
    "$则\\begin{aligned}\\mid\\varphi_{k+1}(x)-\\varphi_k(x)\\mid=\\mid\\lambda\\int_a^bk(x,\\xi)(\\varphi_k(\\xi)-\\varphi_{k-1}(\\xi))\\mathrm{d}\\xi\\mid\\\\\\leq\\mid\\lambda\\mid\\int_a^b\\mid k(x,\\xi)\\mid\\mid\\varphi_k(x)(\\xi)-\\varphi_{k-1}(\\xi)\\mid\\mathrm{d}\\xi\\\\\\leq\\mid\\lambda\\mid\\int_a^bL^{k+1}{\\mid\\lambda\\mid}^kM(b-a)^k\\mathrm{d}\\xi\\\\{=\\mid\\varphi\\mid}^{k+1}L^{k+1}M(b-a)^{k+1},\\\\\\end{aligned}$\n",
    "\n",
    "$由数学归纳法可知，\\forall n\\in N,有\\mid\\varphi_n(x)-\\varphi_{n-1}(x)\\leq ML^n{\\mid\\varphi\\mid}^n(b-a)^n$\n",
    "\n",
    "$再证\\{\\varphi_n(x)\\}在[a,b]上一致收敛$\n",
    "\n",
    "$考虑级数\\varphi_0(x)+\\sum_{k=1}^\\infty(\\varphi_k(x)-\\varphi_{k-1}(x)),该级数的前n项和为\\varphi_0(x)+\\sum_{k=1}^n(\\varphi_k(x)-\\varphi_{k-1}(x))=\\varphi_n(x)$\n",
    "\n",
    "$∵\\mid\\varphi_k(x)-\\varphi_{k-1}(x)\\mid\\leq ML^k{\\mid\\lambda\\mid}^k(b-a)^k$\n",
    "\n",
    "$当\\mid\\lambda\\mid<\\frac{1}{(b-a)L}时，级数\\sum_{k=1}^\\infty ML^k{\\mid\\lambda\\mid}^k(b-a)^k收敛$\n",
    "\n",
    "$∴当\\mid\\lambda\\mid<\\frac{1}{(b-a)L}时,级数在[a,b]上一致收敛$\n",
    "\n",
    "$设极限函数为\\varphi^{\\ast}(x)，即x\\in[a,b]上一致收敛$\n",
    "\n",
    "$当n\\to \\infty时，\\varphi_n(x)一致收敛于\\varphi^{\\ast}(x)，且由\\varphi_n(x)的连续性可知\\varphi^{\\ast}(x)在[a,b]上连续$\n",
    "\n",
    "$对迭代序列，当n\\to \\infty时，两边取极限，得\\varphi^{\\ast}(x)=f(x)+\\lambda\\int_a^bk(x,\\xi)\\varphi^{\\ast}(\\xi)\\mathrm{d}\\xi.(\\mid\\lambda\\mid<\\frac{1}{(b-a)L})$\n",
    "\n",
    "$即证当\\mid\\lambda\\mid<\\frac{1}{(b-a)L}时，积分方程必存在连续解$\n",
    "\n",
    "$再证当\\mid\\lambda\\mid<\\frac{1}{(b-a)L}时，（\\ast）方程的解的惟一性$\n",
    "\n",
    "$设另有解\\varphi_p(x)且\\varphi_p(x)\\neq\\varphi^{\\ast}(x)$\n",
    "\n",
    "$即\\varphi_p(x)=\\varphi^{\\ast}(x)=f(x)+\\lambda\\int_a^bk(x,\\xi)\\varphi_p(\\xi)\\mathrm{d}\\xi$\n",
    "\n",
    "$记P=\\max\\limits_{x\\in[a,b]}\\mid\\varphi^{\\ast}(x)-\\varphi_p(x)\\mid>0$\n",
    "\n",
    "$$\n",
    "\\begin{aligned}\n",
    "\\mid\\varphi^{\\ast}(x)-\\varphi_p(x)\\mid=\\mid\\lambda\\int_a^bk(x,\\xi)(\\varphi^{\\ast}(\\xi)-\\varphi_p(\\xi))\\mathrm{d}\\xi\\mid\\\\\n",
    "\\leq\\mid\\lambda\\mid\\int_a^bL\\mid\\varphi^{\\ast}(\\xi)-\\varphi_p(\\xi)\\mid\\mathrm{d}\\xi\\\\\n",
    "=\\mid\\lambda\\mid PL(b-a)\\\\\n",
    "\\end{aligned}\n",
    "$$\n",
    "\n",
    "$即有P\\leq\\mid\\lambda\\mid PL(b-a),∵P>0$\n",
    "\n",
    "$∴\\mid\\lambda\\mid\\geq\\frac{1}{(b-a)L},与\\mid\\lambda\\mid<\\frac{1}{(b-a)L}矛盾.惟一性得证$"
   ]
  },
  {
   "cell_type": "markdown",
   "metadata": {
    "collapsed": true
   },
   "source": [
    "# <font color='red'>A  11/10"
   ]
  },
  {
   "cell_type": "code",
   "execution_count": null,
   "metadata": {
    "collapsed": true
   },
   "outputs": [],
   "source": []
  }
 ],
 "metadata": {
  "kernelspec": {
   "display_name": "SageMath 7.3",
   "language": "",
   "name": "sagemath"
  },
  "language_info": {
   "codemirror_mode": {
    "name": "ipython",
    "version": 2
   },
   "file_extension": ".py",
   "mimetype": "text/x-python",
   "name": "python",
   "nbconvert_exporter": "python",
   "pygments_lexer": "ipython2",
   "version": "2.7.10"
  }
 },
 "nbformat": 4,
 "nbformat_minor": 0
}
