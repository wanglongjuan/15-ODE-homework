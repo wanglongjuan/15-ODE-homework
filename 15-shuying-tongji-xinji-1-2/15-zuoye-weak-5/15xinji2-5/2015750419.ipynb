{
 "cells": [
  {
   "cell_type": "markdown",
   "metadata": {},
   "source": [
    "$$3.M=\\max\\limits_{(x,y)\\in R}\\{f(x)\\}=4,h=min(a=1,\\frac{b}{m}=\\frac{1}{4})=\\frac{1}{4}$$\n",
    "$$|\\frac{\\partial f}{\\partial y}|=|2y|=<2=L$$\n",
    "$$|ψ_{n}(x)-ψ(x)|=<\\frac{ML^nh^{n+1}}{(n+1)!},因为n=2,所以|Ψ_{n}(x)-Ψ(x)|=<\\frac{1}{24}$$\n",
    "$$所以解的存在空间为|x+1|=<\\frac{1}{4},误差为\\frac{1}{24},令y_{0}=0,求得解为y_{2}(x)=y_{0}+\\int_{-1\n",
    "}^{x}[x^2-y_{1}^2]dx=\\frac{x^3}{3}-\\frac{x^7}{63}-\\frac{x^4}{18}-\\frac{x}{9}+\\frac{11}{42}$$"
   ]
  },
  {
   "cell_type": "markdown",
   "metadata": {},
   "source": [
    "$$6.令R(t)=\\int_{α}^{t}{f(s)g(s)}ds,由g(t)>=0,α=<t=<β，有R'(t)=f(t)g(t)=<Kg(t)+R(t)g(t)，即R'(t)-R(t)g(t)=<Kg(t)$$\n",
    "$$等式两边同时乘以e^{-\\int_{α}{g(u)}du},再从α到t积分后乘以e^{\\int_{α}{g(u)}du}$$\n",
    "$$得到R（t）=<Ke^{\\int_{α}{g(u)}du}-K，即f(x)=<K+R(t)=<Ke^{\\int{α}{g(u)}du},证得f(t)=<Ke^{\\int{α}{g(s)}ds},α=<t=<β$$\n",
    "$$要证Ψ(t)ψ(t)满足y=y_{0}+\\int_{x0}^{x}{f(x,y)}dx,x0=<x=<x0+h时应该有Ψ(t)=ψ(t）由利普希茨条件得|Ψ(t)-ψ(t)|=<\\int_{x0}^{x}{L|Ψ(t)-ψ(t)|}dx$$\n",
    "$$利用格朗沃尔不等式，K=0，当x0=<x=<x0+h时有0=<|Ψ(t)-ψ(t)|=<Ke^{\\int_{x0}^{x}{L}dx}=0,证毕$$"
   ]
  },
  {
   "cell_type": "markdown",
   "metadata": {},
   "source": [
    "$$8.设M=\\max\\limits_{(x,y)\\in R}\\{|f(x,y_0)|\\},h=a=β-α，b=Mh,\\frac{\\partial f}{\\partial y}=<L，构造逐步逼近函数序列ψ_0(x)=y_0,ψ_n(x)=y_0+\\int_{x_0}^{x}{f(x,ψ_{n-1}(x))}dx$$\n",
    "$$因为|ψ_1(x)-y_0|=|\\int_{x_0}^{x}{f(x,y_0)}dx=\\int_{x_0}^{x}{|f(x,y_0)|}dx=<M(x-x_0)=<Mh=<b,可证|ψ_n(x)-ψ_{n-1}(x)|=<\\frac{ML^{n-1}(β-α)^n}{n!}$$\n",
    "$$因为有\\frac{ML^{k-1}(β-α)^k}{k!}（k从1加到无穷大）的级数收敛，可知ψ_n(x)=ψ_0(x)+[ψ_k(x)-ψ_{k-1}(k从一加到无穷大)]在[α,β]一致收敛，所以有ψ_n(x)的n到无穷大的极限值=ψ（x）,ψ(x)=y_0+\\int_{x_0}^{x}{f(x,ψ(x))}dx,所以ψ(x)是方程的解$$\n",
    "$$设Ψ(x)ψ(x)满足y=y_{0}+\\int_{x0}^{x}{f(x,y)}dx,当x>=x_0时，由格朗沃尔不等式，由|Ψ(x)-ψ(x)|=<\\int_{x0}^{x}{L|Ψ(s)-ψ(s)|}ds,因为|Ψ(x)-ψ(x)=<0,所以Ψ(x)恒等于ψ(x)，证毕$$"
   ]
  },
  {
   "cell_type": "markdown",
   "metadata": {},
   "source": [
    "# <font color='red'>过程写完整"
   ]
  },
  {
   "cell_type": "markdown",
   "metadata": {},
   "source": [
    "$$10.构造逐步逼近函数序列ψ_0(x)=f(x),ψ_n(x)=f(x)+\\lambda\\int_{a}^{b}{K(x,s)ψ_{n-1}(s)}ds,对所有n,ψ_n(x)在区间a=<x=<b上一直收敛且连续，ψ_k(x)的极限为ψ(x)，对逐步逼近函数序列两边取极限得limψ_n(x)=f(x)+\\lambda\\int_{a}^{b}{K(x,s)limψ_{n-1}(s)}ds,ψ(x)=f(x)+\\lambda\\int_{a}{b}K(x,s)ψ(s)ds$$\n",
    "$$所以ψ(x)是给定方程的连续解$$\n",
    "$$设Ψ(x)是给定方程在a=<x=<b上另一个连续解，即Ψ(x)=f(x)+\\lambda\\int_{a}{b}K(x,s)ψ(s)ds$$\n",
    "$$\\max\\limits_{a=<x=<b}|Ψ(x)-ψ(x)|存在，且|\\lambda|K(b-a)=M<\\frac{1}{2}$$\n",
    "$$有\\max\\limits_{a=<x=<b}|Ψ(x)-ψ(x)|=<|\\lambda|K(b-a)\\max\\limits_{a=<x=<b}|Ψ(x)-ψ(x)|=M\\max\\limits_{a=<x=<b}|Ψ(x)-ψ(x)|<\\frac{1}{2}\\max\\limits_{a=<x=<b}|Ψ(x)-ψ(x)|$$\n",
    "$$\\max\\limits_{a=<x=<b}|Ψ(x)-ψ(x)|=0,所以Ψ(x)=ψ(x)，a=<x=<b,证毕$$"
   ]
  },
  {
   "cell_type": "markdown",
   "metadata": {
    "collapsed": true
   },
   "source": [
    "# <font color='red'>A  11/10不抄题目，过程也没写完整，注意数学符号格式"
   ]
  },
  {
   "cell_type": "code",
   "execution_count": null,
   "metadata": {
    "collapsed": true
   },
   "outputs": [],
   "source": []
  }
 ],
 "metadata": {
  "kernelspec": {
   "display_name": "SageMath 7.3",
   "language": "",
   "name": "sagemath"
  },
  "language_info": {
   "codemirror_mode": {
    "name": "ipython",
    "version": 2
   },
   "file_extension": ".py",
   "mimetype": "text/x-python",
   "name": "python",
   "nbconvert_exporter": "python",
   "pygments_lexer": "ipython2",
   "version": "2.7.10"
  }
 },
 "nbformat": 4,
 "nbformat_minor": 0
}
