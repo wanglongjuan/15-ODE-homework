{
 "cells": [
  {
   "cell_type": "markdown",
   "metadata": {},
   "source": [
    "常微分方程第四次作业"
   ]
  },
  {
   "cell_type": "markdown",
   "metadata": {},
   "source": [
    "P88 \n",
    "\n",
    "3.求初值问题\n",
    "$$\n",
    "\\begin{cases}\n",
    "\\frac{dy}{dx}=x^2-y^2，R:|x+1|≤1,|y|≤1\\\\\n",
    "y(-1)=0\n",
    "\\end{cases}\n",
    "$$\n",
    "的解的存在区间，并求第二次近似解，给出在解的存在区间的误差估计"
   ]
  },
  {
   "cell_type": "markdown",
   "metadata": {},
   "source": [
    "$M=max|f(x,y)|=4,h是a=1以及\\frac{b}{M}=\\frac{1}{4}中间的最小值$\n",
    "\n",
    "所以$h=\\frac{1}{4}$\n",
    "\n",
    "$因为\\frac{\\partial f}{\\partial y}=|-2y|≤2=L,所以在R上函数f(x,y)=x^2-y^2的利普希茨常数L=2$\n",
    "\n",
    "$ψ_0(x)=0$,\n",
    "\n",
    "$ψ_1(x)=\\int_{-1}^x (t^2-[ψ_0(t)]^2)=\\frac{x^3}{3}+\\frac{1}{3}$\n",
    "\n",
    "$ψ_2(x)=\\int_{-1}^x (t^2-[ψ_1(t)]^2) d t=\\frac{x^3}{3}-\\frac{x}{9}-\\frac{x^4}{18}-\\frac{x^7}{63}+\\frac{11}{42}$\n",
    "\n",
    "$由误差估计公式得|ψ_2(x)-ψ(x)|≤\\frac{16}{3!}(\\frac{1}{4})^3=\\frac{1}{24}$\n",
    "\n",
    "$则初值问题的解的存在区间为-\\frac{5}{4}≤x≤-\\frac{3}{4}$\n",
    "\n",
    "$第二次近似解为y_2=\\frac{x^3}{3}-\\frac{x}{9}-\\frac{x^4}{18}-\\frac{x^7}{63}+\\frac{11}{42}$\n",
    "\n",
    "$在解的存在区间的误差为|y-y_2|≤\\frac{1}{24}$"
   ]
  },
  {
   "cell_type": "markdown",
   "metadata": {},
   "source": [
    "$6.证明格朗沃尔不等式：$\n",
    "\n",
    "$设K是非负常数，f(t)和g(t)为在区间α≤t≤β上的连续非负函数，且满足不等式f(t)≤K+\\int_{α}^t f(s)g(s) d s,α≤t≤β$\n",
    "$则有f(t)≤Kexp(\\int_{α}^t g(s) d s),α≤t≤β.并由此证明定理1的命题5$"
   ]
  },
  {
   "cell_type": "markdown",
   "metadata": {},
   "source": [
    "$证明：(1)K>0时，令w(t)=K+\\int_{α}^t f(s)g(s) d s,则w'(t)=f(t)g(t)≤g(t)w(t)$\n",
    "\n",
    "$由w(t)>0得\\frac{w'(t)}{w(t)}≤g(t),两边从α到t积分得lnw(t)-lnw(α)≤\\int_{α}^t g(s) d s$\n",
    "\n",
    "$即有\\frac{w(t)}{w(α)}≤exp(\\int_{α}^t g(s) d s),w(α)=K>0$\n",
    "\n",
    "$所以w(t)≤K exp(\\int_{α}^t g(s) d s),即有f(t)≤w(t)≤K exp(\\int_{α}^t g(s) d s),α≤t≤β$"
   ]
  },
  {
   "cell_type": "markdown",
   "metadata": {},
   "source": [
    "$(2)K=0时，对任意ε>0,由于f(t)≤\\int_{α}^t f(s)g(s) d s,所以f(t)≤ε+\\int_{α}^t f(s)g(s) d s$\n",
    "\n",
    "$由(1),可得f(t)≤εexp(\\int_{α}^t g(s) d s),当ε趋向于0时，有f(t)≤0$\n",
    "\n",
    "$又因为f(t)≥0,即得f(t)≡0,从而f(t)≤K exp(\\int_{α}^t g(s) d s),α≤t≤β$\n",
    "\n",
    "$由（1）（2）得，格朗沃尔不等式成立$"
   ]
  },
  {
   "cell_type": "markdown",
   "metadata": {},
   "source": [
    "$证明定理1的命题5：$\n",
    "\n",
    "$设φ(t),ψ(t)是初值问题x'=f(t,x),x(t_0)=x_0的两个解，则有$\n",
    "\n",
    "$φ(t)=x_0+\\int_{t_0}^t f(ξ,φ(ξ)) d ξ,ψ(t)=x_0+\\int_{t_0}^t f(ξ,ψ(ξ)) d ξ$\n",
    "\n",
    "$于是，|φ(t)-ψ(t)|≤\\int_{t_0}^t |f(ξ,φ(ξ))-f(ξ,ψ(ξ))| d ξ≤L\\int_{t_0}^t |φ(ξ)-ψ(ξ)| d ξ$\n",
    "\n",
    "$由格朗沃尔不等式知K=0且0≤|φ(t)-ψ(t)|≤K exp(\\int_{t_0}^t L d ξ)=0$\n",
    "\n",
    "$于是φ(t)=ψ(t)，即证$"
   ]
  },
  {
   "cell_type": "markdown",
   "metadata": {},
   "source": [
    "$8.解：设M=max|f(x,y_0)|,h=β-α,b=Mh及有某常数L使得在域R={(x,y)|α≤x≤β,|y-y_0|≤b}中有$\n",
    "\n",
    "$|f(x,y_1)-f(x,y_2)|≤L|y_1-y_2|,(x,y_1),(x,y_2)∈R$\n",
    "\n",
    "$$构造逐步逼近函数序列\n",
    "\\begin{cases}\n",
    "φ_0(x)=y_0\\\\\n",
    "φ_n(x)=y_0+\\int_{x_0}^x f(ξ,φ_{n-1}(ξ)) d x\n",
    "\\end{cases}\n",
    "$$\n",
    "$α≤x≤β,n=1,2,…$\n",
    "\n",
    "$因为|φ_1(x)-y_0|=|\\int_{x_0}^x f(ξ,y_0) d x|≤\\int_{x_0}^x |f(ξ,y_0)| d x≤M(x-x_0)≤Mh≤b$\n",
    "\n",
    "$可证：|φ_n(x)-φ_{n-1}(x)|≤\\frac{ML^{n-1}(β-α)^n}{n!}$\n",
    "\n",
    "$又|φ_{n+1}(x)-φ_n(x)|≤|\\int_{x_0}^x |f(ξ,φ_n(ξ))-f(ξ,φ_{n-1}(ξ))| d ξ|≤\\frac{ML^n(β-α)^{n+1}}{(n+1)!}$\n",
    "\n",
    "$易知φ_n(x)=φ_0(x)+∑[φ_k(x)-φ_{n-1}(x)]在区间[α,β]一致收敛，于是存在极限φ(x)$\n",
    "\n",
    "$φ(x)=y_0+\\int_{x_0}^x f(ξ,φ(ξ)) d ξ,所以φ(x)是微分方程的解$\n",
    "\n",
    "$设φ(x)，ψ(x)均满足积分方程y=y_0+\\int_{x_0}^x f(ξ,φ(ξ)) d ξ,α≤x_0≤β,α≤x≤β$\n",
    "\n",
    "$当x≥x_0时，有格朗沃日不等式，有|φ(x)-ψ(x)|≤\\int_{x_0}^x |f(s,φ(s))-f(s,ψ(s))| d s≤L\\int_{x_0}^x |φ(x)-ψ(x)| d s$\n",
    "\n",
    "$有|φ(x)-ψ(x)|≤0,即φ(x)≡ψ(x)（α≤x_0≤x≤β）。同理可证α≤x≤x_0≤β时有φ(x)≡ψ(x)$\n",
    "\n",
    "$即积分方程也就是微分方程的解是唯一的$"
   ]
  },
  {
   "cell_type": "markdown",
   "metadata": {},
   "source": [
    "10.给定积分方程$$\\phi(x)=f(x)+\\lambda \\int_a^b K(x,\\varsigma) \\phi(\\varsigma)d\\varsigma$$\n",
    "\n",
    "其中$f(x)是[\\alpha,\\beta]$上的已知连续函数，$K(x,\\varsigma)是a \\leq x \\leq b,a \\leq \\varsigma \\leq b$上的已知连续函数.证明当$\\mid \\lambda \\mid足够小时（\\lambda是常数）$，（*）在$[\\alpha,\\beta]$上存在唯一的连续解.\n",
    "\n",
    "（提示：做逐步逼近函数序列\n",
    "\n",
    "$$\\phi_0=f(x),$$\n",
    "\n",
    "$$\\phi_{n+1}(x)=f(x)+\\lambda \\int_a^b K(x,\\varsigma) \\phi_n(\\varsigma)d\\varsigma(n=0,1,2…).)$$"
   ]
  },
  {
   "cell_type": "markdown",
   "metadata": {},
   "source": [
    "证明：做逐步逼近函数序列\n",
    "\n",
    "$$\\phi_0=f(x),$$\n",
    "\n",
    "令$$\\phi_1(x)=f(x)+\\lambda \\int_a^b k(x,\\varsigma) \\phi_0(\\varsigma)d\\varsigma$$\n",
    "\n",
    "$$……$$\n",
    "\n",
    "$$\\phi_{n+1}(x)=f(x)+\\lambda \\int_a^b k(x,\\varsigma) \\phi_n(\\varsigma)d\\varsigma$$\n",
    "\n",
    "$$……$$\n",
    "\n",
    "令$M=max_{x \\in [a,b]} \\mid f(x) \\mid ,L=max \\mid k(x,\\varsigma) \\mid >0,$\n",
    "\n",
    "$$\n",
    "\\begin{aligned}\n",
    "\\mid \\phi_1(x)-\\phi_0(x) \\mid &=\\mid \\lambda \\int_a^b k(x,\\varsigma) \\phi_0(\\varsigma)d\\varsigma \\mid\\\\\\\n",
    "& \\leq \\mid \\lambda \\mid \\int_a^b \\mid k(x,\\varsigma) \\mid \\  \\mid f(\\varsigma) \\mid d\\varsigma\\\\\\\n",
    "& \\leq \\mid \\lambda \\mid ML(b-a)\n",
    "\\end{aligned}\n",
    "$$\n",
    "\n",
    "假设$\\mid \\phi_k(x)-\\phi_{k-1}(x)\\mid \\leq {\\mid \\lambda \\mid }^kL^kM(b-a)^k$成立，则有\n",
    "$$\n",
    "\\begin{aligned}\n",
    "\\mid \\phi_{k+1}(x)-\\phi_k(x)\\mid &=\\mid \\lambda \\int_a^b k(x,\\varsigma) (\\phi_k(\\varsigma)-\\phi_{k-1}(\\varsigma))d\\varsigma \\mid\\\\\\\n",
    "&\\leq \\mid \\lambda \\mid \\int_a^b \\mid k(x,\\varsigma) \\mid \\  \\mid\\phi_k(\\varsigma)-\\phi_{k-1}(\\varsigma) \\mid d\\varsigma\\\\\\\n",
    "&\\leq \\int_a^b L^{k+1}{\\mid \\lambda \\mid }^kM(b-a)^k d\\varsigma\\\\\\\n",
    "&={\\mid \\lambda \\mid }^{k+1}L^{k+1}M(b-a)^{k+1}\n",
    "\\end{aligned}\n",
    "$$\n",
    "\n",
    "由归纳法可知，对任意的$n \\in N$,有\n",
    "$$\\mid \\phi_n(x)-\\phi_{n-1}(x)\\mid \\leq {\\mid \\lambda \\mid }^nL^nM(b-a)^n$$\n",
    "\n",
    "证明一致收敛：\n",
    "\n",
    "考虑级数$$\\phi_0(x)+\\sum_{k=1}^\\infty(\\phi_k(x)-\\phi_{k-1}(x))$$\n",
    "\n",
    "该级数的前n项和为$$\\phi_0(x)+\\sum_{k=1}^n(\\phi_k(x)-\\phi_{k-1}(x))=\\phi_n(x)$$\n",
    "\n",
    "要证明${\\phi_n(x)}在[a,b]$上一致收敛，即证明$\\phi_0(x)+\\sum_{k=1}^\\infty(\\phi_k(x)-\\phi_{k-1}(x))在[a,b]$上一致收敛.\n",
    "\n",
    "由$$\\mid \\phi_k(x)-\\phi_{k-1}(x)\\mid \\leq {\\mid \\lambda \\mid }^kL^kM(b-a)^k$$\n",
    "\n",
    "可得，当$\\mid \\lambda \\mid<\\frac{1}{(b-a)L}时，级数\\sum{\\mid \\lambda \\mid }^kL^kM(b-a)^k$收敛，\n",
    "\n",
    "所以，$\\mid \\lambda \\mid<\\frac{1}{(b-a)L}时,\\phi_0(x)+\\sum_{k=1}^\\infty(\\phi_k(x)-\\phi_{k-1}(x))在[a,b]上一致收敛$\n",
    "\n",
    "设极限函数为$\\phi^*(x),即x \\in [a,b]时，当n→\\infty 时，\\phi_n(x)一致收敛于\\phi^*(x),且由\\phi_n(x)的连续性可得\\phi^*(x)在[a,b]上连续$\n",
    "\n",
    "得到，对于$\\phi_{n+1}(x)=f(x)+\\lambda \\int_a^b k(x,\\varsigma) \\phi_n(\\varsigma)d\\varsigma$，当n→\\infty 时，两边取极限\n",
    "\n",
    "得$$\\phi^*(x)=f(x)+\\lambda \\int_a^b k(x,\\varsigma) \\phi^*(\\varsigma)d\\varsigma$$\n",
    "\n",
    "$$(\\mid \\lambda \\mid<\\frac{1}{(b-a)L})$$\n",
    "\n",
    "即说明，当$\\mid \\lambda \\mid<\\frac{1}{(b-a)L}$时，积分方程存在连续解.\n",
    "\n",
    "再证明解的唯一性，用反证法.\n",
    "\n",
    "设另有解$\\phi'^*(x)\\neq \\phi^*(x)$,既有\n",
    "\n",
    "$$\\phi'^*(x)=f(x)+\\lambda \\int_a^b k(x,\\varsigma) \\phi'^*(\\varsigma)d\\varsigma$$\n",
    "\n",
    "记$Q=max_{x\\in [a,b]}\\mid \\phi^*(x)-\\phi'^*(x)\\mid>0$\n",
    "\n",
    "$$\n",
    "\\begin{aligned}\n",
    "\\mid \\phi^*(x)-\\phi'^*(x)\\mid &=\\mid \\lambda \\int_a^b k(x,\\varsigma) (\\phi^*(\\varsigma)-\\phi'^*(\\varsigma))d\\varsigma \\mid\\\\\\\n",
    "&\\leq \\mid \\lambda \\mid \\int_a^b L \\mid\\phi^*(\\varsigma)-\\phi'^*(\\varsigma) \\mid d\\varsigma\\\\\\\n",
    "&=\\mid \\lambda \\mid QL(b-a)\n",
    "\\end{aligned}\n",
    "$$\n",
    "\n",
    "即有$Q\\leq \\mid \\lambda \\mid QL(b-a)$,由于$Q>0，可知\\mid \\lambda \\mid \\geq \\frac{1}{(b-a)L},与\\mid \\lambda \\mid<\\frac{1}{(b-a)L}$矛盾，唯一性得证."
   ]
  },
  {
   "cell_type": "markdown",
   "metadata": {
    "collapsed": true
   },
   "source": [
    "# <font color='red'>A  11/10"
   ]
  },
  {
   "cell_type": "code",
   "execution_count": null,
   "metadata": {
    "collapsed": true
   },
   "outputs": [],
   "source": []
  }
 ],
 "metadata": {
  "kernelspec": {
   "display_name": "SageMath 7.3",
   "language": "",
   "name": "sagemath"
  },
  "language_info": {
   "codemirror_mode": {
    "name": "ipython",
    "version": 2
   },
   "file_extension": ".py",
   "mimetype": "text/x-python",
   "name": "python",
   "nbconvert_exporter": "python",
   "pygments_lexer": "ipython2",
   "version": "2.7.10"
  }
 },
 "nbformat": 4,
 "nbformat_minor": 0
}
