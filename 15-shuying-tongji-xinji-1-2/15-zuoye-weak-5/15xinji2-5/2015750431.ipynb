{
 "cells": [
  {
   "cell_type": "markdown",
   "metadata": {},
   "source": [
    "# 常微分作业"
   ]
  },
  {
   "cell_type": "markdown",
   "metadata": {},
   "source": [
    "## （9月27号）"
   ]
  },
  {
   "cell_type": "markdown",
   "metadata": {},
   "source": [
    "### P88.3.\n",
    "### 求初值问题\n",
    "\\begin{cases}\n",
    "\\frac{\\mathrm d y}{\\mathrm d x}=x^2+y^2,R:|x+1|\\leq1,|y|\\leq1,\\\\\n",
    "y(-1)=0\n",
    "\\end{cases}\n",
    "### 的解的存在区间，并求第二次近似解，给出在解的存在区间的误差估计。"
   ]
  },
  {
   "cell_type": "markdown",
   "metadata": {},
   "source": [
    "解：$M=\\max_{(x,y)\\in R}|f(x,y)|=4$,h取$a=1$及$\\frac{b}{M}=\\frac{1}{4}$中的最小值，故$h=\\frac{1}{4}$，在R上的函数$f(x,y)=x^2-y^2$的利普希茨常数可取为$L=2$，因为$\\frac{\\partial f}{\\partial y}=|-2y|<=2=L$.\n",
    "\\begin{aligned}\n",
    "\\varphi_0(x)&=0,\\\\\n",
    "\\varphi_1(x)&=\\int_{-1}^{x}(t^2-\\varphi_0^2(t))\\mathrm d t=\\frac{x^3}{3}+\\frac{1}{3},\\\\\n",
    "\\varphi_2(x)&=\\int_{-1}^{x}(t^2-\\varphi_1^2(t))\\mathrm d t=\\frac{x^3}{3}-\\frac{x}{9}-\\frac{x^4}{18}-\\frac{x^7}{63}+\\frac{11}{42},\n",
    "\\end{aligned}\n",
    "由$|\\varphi_n(x)-\\varphi(x)|<=\\frac{ML^n}{(n+1)!}h^n+1$得\n",
    "\n",
    "$$|\\varphi_2(x)-\\varphi(x)|<=\\frac{4·2^2}{3!}·(\\frac{1}{4})^3=\\frac{1}{24}.$$\n",
    "\n",
    "因此，已知初值问题的解的存在区间为$-\\frac{5}{4}\\leq x\\leq -\\frac{3}{4}$,第二次近似解为$y_2=\\frac{x^3}{3}-\\frac{x}{9}-\\frac{x^4}{18}-\\frac{x^7}{63}+\\frac{11}{42},$在解的存在区间的误差估计为$|y-y_2|\\leq\\frac{1}{24}.$"
   ]
  },
  {
   "cell_type": "markdown",
   "metadata": {},
   "source": [
    "### P89.8    \n",
    "### 如果函数$f(x,y)$于带域$\\alpha\\leq x\\leq \\beta$上连续且关于$y$满足利普希茨条件，则方程（3.1）满足条件\n",
    "$y(x_0)=y_0$\n",
    "### 的解于整个区间    [$\\alpha,\\beta$]   上存在且唯一.试证明之."
   ]
  },
  {
   "cell_type": "markdown",
   "metadata": {},
   "source": [
    "解：$\\frac{\\mathrm d y}{\\mathrm d x}=f(x,y)$满足条件$y(x_0)=y_0$的解等价于求积分方程$y=y_0+\\int_{x_0}^{x}f(x,y)\\mathrm d x,x\\in[\\alpha,\\beta]$的连续解，因此只要证明该积分方程的解存在唯一性即可。\n",
    "\n",
    "取\n",
    "\\begin{aligned}\n",
    "y(x_0)&=y_0,\\\\\n",
    "y(x_1)&=y_0+\\int_{x_0}^{x}f(\\xi,y_0(\\xi))\\mathrm d\\xi,\\\\\n",
    "\\dots\\\\\n",
    "y(x_n)&=y_0+\\int_{x_0}^{x}f(\\xi,y_n-1(\\xi))\\mathrm d\\xi,\\\\\n",
    "\\dots (1)\n",
    "\\end{aligned}\n",
    "\n",
    "易见$y_n(x)$在$\\alpha \\leq x\\leq \\beta$上存在且连续。然后证明函数{$y_n(x)$}在$\\alpha \\leq x\\leq \\beta$上一致收敛。考察级数\n",
    "\n",
    "$y_0(x)+\\Sigma_{k=1}^{\\infty}[y_k(x)-y_{k-1}(x)],x\\in[\\alpha,\\beta].$$\\quad\\quad\\quad\\quad\\quad\\quad\\quad\\quad\\quad\\quad$(2)\n",
    "\n",
    "取$M=\\max_{x\\in[\\alpha,\\beta]}|f(x,y_0)|,$由（1）式有\n",
    "\n",
    "$$|y_1(x)-y_0(x)|\\leq\\int_{x_0}^{x}|f(\\xi,y_0(\\xi))|\\mathrm d \\xi\\leq M|x-x_0|\\quad(3)$$\n",
    "\n",
    "及$$|y_2(x)-y_1(x)|\\leq\\int_{x_0}^{x}|f(\\xi,y_1(\\xi))-f(\\xi,y_0(\\xi))|\\mathrm d \\xi.$$\n",
    "\n",
    "利用利普希茨条件及（3）式，得到\n",
    "\\begin{aligned}\n",
    "|y_2(x)-y_1(x)|&\\leq L\\int_{x_0}^{x}|y_1(\\xi)-y_0(\\xi)|\\mathrm d \\xi\\\\\n",
    "&\\leq L\\int_{x_0}^{x}M|\\xi-x_0|\\mathrm d \\xi=\\frac{ML}{2!}(x-x_0)^2\n",
    "\\end{aligned}\n",
    "\n",
    "那么由数学归纳法可知，$|y_k(x)-y_{k-1}(x)|\\leq \\frac{ML^{k_1}}{k!}|x-x_0|^k\\leq\\frac{ML^{k_1}}{k!}(\\beta-\\alpha)^k$.上式右端是正项收敛级数$\\Sigma_{k=1}^{\\infty}\\frac{ML^{k-1}}{k!}(\\beta-\\alpha)^k$的一般项。\n",
    "\n",
    "根据Weiertrass判别法，知级数（2）在$\\alpha\\leq \\beta$上一致连续，因而函数列${y_n(x)}$在$[\\alpha,\\beta]$上一致收敛。设$\\lim_{n\\to\\infty}y_n(x)=y(x)$,易知$y(x)$在$[\\alpha,\\beta]$上连续，且${f(x,y_n(x))}$在$[\\alpha,\\beta]$上一致收敛于${f(x,y(x))}$.\n",
    "\n",
    "所以，对（1）式两边取极限，即得$y(x)=y_0+\\int_{x_0}^{x}f(\\xi,y(\\xi))\\mathrm d\\xi$,解的存在性得证。\n",
    "\n",
    "设$\\varphi(x)$是$[\\alpha,\\beta]$上的另一解，则$y(x)=\\varphi(x)$.类似命题5可证明唯一性。"
   ]
  },
  {
   "cell_type": "markdown",
   "metadata": {},
   "source": [
    "# <font color='red'>唯一性"
   ]
  },
  {
   "cell_type": "markdown",
   "metadata": {},
   "source": [
    "## （9月28号）"
   ]
  },
  {
   "cell_type": "markdown",
   "metadata": {},
   "source": [
    "### P89.6\n",
    "### 证明格朗沃尔（Gronwall）不等式：\n",
    "### 设K为非负常数，$f(t)$和$g(t)$为在区间$\\alpha\\leq x \\leq\\beta$上的连续非负函数，且满足不等式\n",
    "$$f(t)\\leq K+\\int_{\\alpha}^{t}f(s)g(s)\\mathrm d s,\\alpha\\leq x \\leq\\beta,$$\n",
    "### 则有\n",
    "$$f(t)\\leq K\\exp(\\int_{\\alpha}^{t}g(s)\\mathrm d s),\\alpha\\leq x \\leq\\beta.$$\n",
    "### 并由此证明定理1的命题5."
   ]
  },
  {
   "cell_type": "markdown",
   "metadata": {},
   "source": [
    "证明：（1）K>0时,令\n",
    "\n",
    "$$\\omega(t)=K+\\int_{\\alpha}^{t}f(s)g(s)\\mathrm ds,$$\n",
    "\n",
    "则$\\omega'(t)=f(t)g(t)\\leq g(t)\\omega(t),$由$\\omega(t)>0$可得\n",
    "\n",
    "$$\\frac{\\omega'(t)}{\\omega(t)}\\leq g(t),$$\n",
    "\n",
    "对其两边从$\\alpha$到t积分得\n",
    "\n",
    "$$ln\\omega(t)-ln\\omega(\\alpha)\\leq\\int_{\\alpha}^{t}g(s)\\mathrm ds,$$\n",
    "\n",
    "即$$\\frac{\\omega(t)}{\\omega(\\alpha)}\\leq exp(\\int_{\\alpha}^{t}g(s)\\mathrm d s),\\omega(\\alpha)=K>0,$$\n",
    "\n",
    "所以$$\\omega(t)\\leq K·exp(\\int_{\\alpha}^{t}g(s)\\mathrm d s),$$\n",
    "\n",
    "即$$f(t)\\leq\\omega(t)\\leq K exp(\\int_{\\alpha}^{t}g(s)\\mathrm d s),\\alpha\\leq t\\leq\\beta.$$\n",
    "\n",
    "(2).当K=0时，对任意的$\\varepsilon>0,由于f(t)\\leq\\int_{\\alpha}^{t}f(s)g(s)\\mathrm ds$,所以，$f(t)\\leq\\varepsilon+\\int_{\\alpha}^{t}f(s)g(s)\\mathrm ds.$\n",
    "\n",
    "由（1）的结论，有$f(t)\\leq\\varepsilon exp(\\int_{\\alpha}^{t}g(s)\\mathrm d s).当\\varepsilon\\to0^{+}时，有f(t)\\leq0.$\n",
    "\n",
    "又因为$f(t)\\geq0,即得f(t)=0.$从而\n",
    "\n",
    "$f(t)\\leq K exp(\\int_{\\alpha}^{t}g(s)\\mathrm d s),\\alpha\\leq t\\leq\\beta$\n",
    "\n",
    "综上所述，格朗沃尔不等式成立。\n",
    "\n",
    "接下来利用格朗沃尔不等式证明教材定理1的命题5.\n",
    "\n",
    "证明$\\quad\\quad\\quad\\quad$设$\\varphi(t),\\phi(t)$是初值问题\n",
    "\n",
    "$$x'=f(t,x),x(t_0)=x_0$$\n",
    "\n",
    "的两个解，则有\n",
    "\n",
    "$$\\varphi(t)x_0+\\int_{t_0}^{t}f(\\xi,\\varphi(\\xi))\\mathrm d \\xi.$$\n",
    "\n",
    "$$\\phi(t)=x_0+\\int_{t_0}^{t}f(\\xi,\\phi(\\xi))\\mathrm d\\xi.$$\n",
    "\n",
    "那么\n",
    "\\begin{aligned}\n",
    "|\\varphi(t)-\\phi(t)|&\\leq\\int_{t_0}^{t}|f(\\xi,\\varphi(\\xi))-f(\\xi,\\phi(\\xi))|\\mathrm d \\xi.\\\\\n",
    "&\\leq L \\int_{t_0}^{t}|\\varphi(\\xi)-\\phi(\\xi)|\\mathrm d\\xi,\n",
    "\\end{aligned}\n",
    "\n",
    "其中L为利普希茨条件。由格朗沃尔不等式知\n",
    "$$0\\leq|\\varphi(t)-\\phi(t)|\\leq 0,$$\n",
    "\n",
    "因而有$\\varphi(t)=\\phi(t).$\n",
    "\n",
    "\n",
    "$\\quad\\quad\\quad\\quad\\quad\\quad\\quad\\quad\\quad\\quad\\quad\\quad\\quad\\quad\\quad\\quad\\quad\\quad\\quad\\quad\\quad\\quad\\quad\\quad\\quad\\quad\\quad\\quad\\quad\\quad\\quad\\quad\\quad$证毕"
   ]
  },
  {
   "cell_type": "markdown",
   "metadata": {},
   "source": [
    "### P89.10\n",
    "### 给定积分方程\n",
    "$$\\varphi(x)=f(x)+\\lambda\\int_{a}^{b}K(x,\\xi)\\varphi(\\xi)\\mathrm d \\xi, \\quad\\quad\\quad \\quad\\quad\\quad \\quad\\quad\\quad (*) $$\n",
    "\n",
    "###  其中$f(x)$是[a,b]上的已知函数，$K(x,\\xi)$  是  $a\\leq x\\leq b,a\\leq \\xi\\leq b$  上的已知连续函数.证明当|$\\lambda$|足够小时（$\\lambda$是常数），$(*)$在[a,b]上存在唯一的连续解.\n",
    "\n",
    "(提示：作逐步逼近函数序列 \n",
    "$$\\varphi_0(x)=f(x),$$\n",
    "$$\\varphi_{n+1}(x)=f(x)+\\lambda\\int_{a}^{b}K(x,\\xi)\\varphi(\\xi)\\mathrm d \\xi(n=0,1,2…).$$)"
   ]
  },
  {
   "cell_type": "markdown",
   "metadata": {},
   "source": [
    "证明：作逐步逼近序列，取\n",
    "\n",
    "$$\\varphi_0(x)=f(x),$$\n",
    "\n",
    "令$$\\varphi_1(x)=f(x)+\\lambda\\int_{a}^{b}k(x,\\xi)\\varphi_0(\\xi)\\mathrm d\\xi,$$\n",
    "\n",
    "$\\dots$\n",
    "\n",
    "$$\\varphi_{n+1}(x)=f(x)+\\lambda\\int_{a}^{b}k(x,\\xi)\\varphi_n(\\xi)\\mathrm d\\xi,$$\n",
    "\n",
    "$\\dots\\quad\\quad\\quad\\quad\\quad\\quad\\quad\\quad\\quad\\quad\\quad\\quad\\quad\\quad\\quad\\quad\\quad\\quad\\quad\\quad\\quad\\quad\\quad\\quad\\quad\\quad\\quad（1）$\n",
    "\n",
    "令$M=\\max_{x\\in[a,b]}|f(x)|,L=\\max_{\\substack{x\\in[a,b]\\\\\n",
    "\\xi\\in[a,b]}}|k(x,\\xi)|>0,$\n",
    "\n",
    "\\begin{aligned}\n",
    "|\\varphi_1(x)-\\varphi_0(x)|&=|\\lambda\\int_{a}^{b}k(x,\\xi)\\varphi_0(\\xi)\\mathrm d\\xi|\\\\\n",
    "&\\leq|\\lambda|\\int_{a}^{b}|k(x,\\xi)||\\varphi_k(\\xi)-\\varphi_{k-1}(\\xi)|\\mathrm d \\xi\\\\\n",
    "&\\leq|\\lambda|\\int_{a}^{b}L^{k+1}|\\lambda|^{k}M(b-a)^k\\mathrm d \\xi\\\\\n",
    "&=|\\lambda|^{k+1}L^{k+1}M(b-a)^{k+1},\n",
    "\\end{aligned}\n",
    "\n",
    "由数学归纳法知，对任意的$n\\in N$,有\n",
    "\n",
    "$$|\\varphi_n(x)-\\varphi_{n-1}(x)|\\geq ML^n|\\lambda|^n(b-a)^n.$$\n",
    "\n",
    "下面证明{$\\varphi_n(x)$}在[a,b]上一致收敛。考虑级数\n",
    "\n",
    "$$\\varphi_0(x)+\\Sigma_{k-1}^{\\infty}(\\varphi_k(x)-\\varphi_{k-1}(x)),\\quad\\quad\\quad\\quad\\quad\\quad\\quad\\quad\\quad(2)$$\n",
    "\n",
    "该级数的前n项和为\n",
    "\n",
    "$$\\varphi_0(x)+\\Sigma_{k-1}^{n}(\\varphi_k(x)-\\varphi_{k-1}(x))=\\varphi_n(x).$$\n",
    "\n",
    "所以要证序列{$\\varphi_n(x)$}在[a,b]上一致收敛，只需证明级数（2）在[a,b]上一致收敛即可。\n",
    "\n",
    "由于$$|\\varphi_k(x)-\\varphi_{k-1}(x)|\\leq ML^{k}|\\lambda|^k(b-a)^k,$$\n",
    "\n",
    "当$|\\lambda|<\\frac{1}{(b-a)L}$时，级数$\\Sigma_{k-1}^{\\infty} ML^{k}|\\lambda|^k(b-a)^k$收敛，由此可知当$|\\lambda|<\\frac{1}{(b-a)L}$时，级数（2）在[a,b]上一致连续。设极限函数为$\\varphi^{*}(x),$即$x\\in[a,b]时，当n\\to\\infty时，\\varphi_n(x)一致收敛于\\varphi^{*}，则由\\varphi_n(x)的连续性可知\\varphi^{*}(x)在[a,b]上连续，对迭代序列（1），当n\\to\\infty时两边取极限，得$\n",
    "\n",
    "$$\\varphi^{*}(x)=f(x)+\\lambda\\int_{a}^{b}k(x,\\xi)\\varphi^{*}(\\xi)\\mathrm d\\xi.$$\n",
    "\n",
    "$$(|\\lambda|<\\frac{1}{(b-a)L})$$\n",
    "\n",
    "即证明了当$|\\lambda|<\\frac{1}{(b-a)L}$时，积分方程必存在连续解。\n",
    "\n",
    "下面证明当$|\\lambda|<\\frac{1}{(b-a)L}$时，（*）方程的解的唯一性。\n",
    "\n",
    "反证法：\n",
    "\n",
    "设另有解$\\overline{\\varphi}(x)$且$\\overline{\\varphi}(x)\\neq\\varphi^{*}(x),$即\n",
    "\n",
    "$$\\overline{\\varphi}(x)=f(x)+\\lambda\\int_{a}^{b}k(x,\\xi)\\overline{\\varphi}(\\xi)\\mathrm d\\xi$$\n",
    "\n",
    "记$$Q=\\max_{x\\in[a,b]}|\\varphi^{*}(x)-\\overline{\\varphi}(x)|>0,$$\n",
    "\n",
    "\\begin{aligned}\n",
    "|\\varphi^{*}(x)-\\overline{\\varphi}(x)|&=|\\lambda\\int_{a}^{b}k(x,\\xi)(\\varphi^{*}(x)-\\overline{\\varphi}(x))\\mathrm d\\xi|\\\\\n",
    "&\\leq|\\lambda|\\int_{a}^{b}L|\\varphi^{*}(x)-\\overline{\\varphi}(x)|\\mathrm d\\xi\\\\\n",
    "&=|\\lambda|QL(b-a),\n",
    "\\end{aligned}\n",
    "\n",
    "即有$Q\\leq|\\lambda|QL(b-a),由于Q>0,所以|\\lambda|\\geq\\frac{1}{(b-a)L},与|\\lambda|<\\frac{1}{(b-a)L}$矛盾。唯一性得证。"
   ]
  },
  {
   "cell_type": "markdown",
   "metadata": {},
   "source": [
    "# <font color='red'>A  11/10"
   ]
  },
  {
   "cell_type": "code",
   "execution_count": null,
   "metadata": {
    "collapsed": true
   },
   "outputs": [],
   "source": []
  }
 ],
 "metadata": {
  "kernelspec": {
   "display_name": "SageMath 7.3",
   "language": "",
   "name": "sagemath"
  },
  "language_info": {
   "codemirror_mode": {
    "name": "ipython",
    "version": 2
   },
   "file_extension": ".py",
   "mimetype": "text/x-python",
   "name": "python",
   "nbconvert_exporter": "python",
   "pygments_lexer": "ipython2",
   "version": "2.7.10"
  }
 },
 "nbformat": 4,
 "nbformat_minor": 0
}
