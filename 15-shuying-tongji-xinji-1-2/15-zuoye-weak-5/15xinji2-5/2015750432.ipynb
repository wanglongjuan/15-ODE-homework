{
 "cells": [
  {
   "cell_type": "markdown",
   "metadata": {
    "collapsed": true
   },
   "source": [
    "P88   3.求初值问题$$\\frac{\\mathrm dy}{\\mathrm dx}=x^2-y^2,R:|x+1|≤1，|y|≤1，$$  $$y(-1)=0$$\n",
    "    的解的存在区间，并求第二次近似解，给出在解的存在区间的误差估计。"
   ]
  },
  {
   "cell_type": "markdown",
   "metadata": {},
   "source": [
    "解：$$M=\\max_{\\substack{(x,y)\\in R\\\\\n",
    "}}\n",
    "\\mid f(x,y)\\mid=4\n",
    "$$ "
   ]
  },
  {
   "cell_type": "markdown",
   "metadata": {},
   "source": [
    "$$h=min(a,\\frac{\\mathrm b}{\\mathrm M})$$,又$a=1,\\frac{\\mathrm b}{\\mathrm M}=\\frac{\\mathrm 1}{\\mathrm 4}$"
   ]
  },
  {
   "cell_type": "markdown",
   "metadata": {},
   "source": [
    "∴$h=\\frac{\\mathrm b}{\\mathrm M}=\\frac{\\mathrm 1}{\\mathrm 4}$"
   ]
  },
  {
   "cell_type": "markdown",
   "metadata": {},
   "source": [
    "又∵$\\frac{\\partial f}{\\partial y}=|-2y|≤2$"
   ]
  },
  {
   "cell_type": "markdown",
   "metadata": {},
   "source": [
    "∴$$L=2$$\n",
    "$$φ_0(x)=0$$\n",
    "$$φ_1(x)=\\int _{-1 }^x\\mathrm (t^2- φ^2_0（t）)\\, \\mathrm {d}t=\\frac{\\mathrm x^3}{\\mathrm 3}+\\frac{\\mathrm 1}{\\mathrm 3}$$\n",
    "$$φ_2(x)=\\int _{-1 }^x\\mathrm (t^2- φ^2_1（t）)\\, \\mathrm {d}t=\\frac{\\mathrm x^3}{\\mathrm 3}-\\frac{\\mathrm x}{\\mathrm 9}-\\frac{\\mathrm x^4}{\\mathrm 18}-\\frac{\\mathrm x^7}{\\mathrm 63}+\\frac{\\mathrm 11}{\\mathrm 42}$$"
   ]
  },
  {
   "cell_type": "markdown",
   "metadata": {},
   "source": [
    "∴由误差估计公式可得：$|φ_2(x)-φ(x)|≤\\frac{\\mathrm 4×2^2}{\\mathrm 3!}\\frac{\\mathrm 1}{\\mathrm 4^3}=\\frac{\\mathrm 1}{\\mathrm 24}$"
   ]
  },
  {
   "cell_type": "markdown",
   "metadata": {},
   "source": [
    "则解的存在空间为：$\\frac{\\mathrm -5}{\\mathrm 4}≤ x≤\\frac{\\mathrm -3}{\\mathrm 4}$"
   ]
  },
  {
   "cell_type": "markdown",
   "metadata": {},
   "source": [
    "第二次近似解为：$y_2=\\frac{\\mathrm x^3}{\\mathrm 3}-\\frac{\\mathrm x}{\\mathrm 9}-\\frac{\\mathrm x^4}{\\mathrm 18}-\n",
    "\\frac{\\mathrm x^7}{\\mathrm 63}+\\frac{\\mathrm 11}{\\mathrm 42}$"
   ]
  },
  {
   "cell_type": "markdown",
   "metadata": {},
   "source": [
    "误差估计为：$|y-y_2|≤\\frac{\\mathrm 1}{\\mathrm 24}$"
   ]
  },
  {
   "cell_type": "markdown",
   "metadata": {},
   "source": [
    "6.证明格朗沃尔不等式：\n",
    "$设K为非负常数，f(t)和g(t)为区间α≤t≤β上的连续非负函数，且满足不等式$  $$f(t)≤K+\\int_α^t \\mathrm f(s)g(s) \\mathrm ds,α≤t≤β$$\n",
    "则有$$f(t)≤Kexp(\\int_α^t \\mathrm g(s) \\mathrm ds),α≤t≤β$$并由此证明定理1的命题5。"
   ]
  },
  {
   "cell_type": "markdown",
   "metadata": {},
   "source": [
    "解：证明不等式：(1)当K>0时，令 $h(t)=K+\\int_α^t \\mathrm f(s)g(s)ds$"
   ]
  },
  {
   "cell_type": "markdown",
   "metadata": {},
   "source": [
    "则$h'(t)=f(t)g(t)≤g(t)h(t)$"
   ]
  },
  {
   "cell_type": "markdown",
   "metadata": {},
   "source": [
    "又由$h(t)>0$可得\n",
    "$\\frac{\\mathrm h'(t)}{\\mathrm h(t)}≤g(t)$"
   ]
  },
  {
   "cell_type": "markdown",
   "metadata": {},
   "source": [
    "再在两边从α到t积分得：$lnh(t)-lnh(α)≤\\int_α^t \\mathrm g(s) \\mathrm ds$\n",
    "则有$\\frac{\\mathrm h(t)}{\\mathrm h(α)}≤exp（\\int_α^t \\mathrm g(s) \\mathrm ds）, h(α)=K>0$"
   ]
  },
  {
   "cell_type": "markdown",
   "metadata": {},
   "source": [
    "∴$h(t)≤Kexp(\\int_α^t \\mathrm g(s) \\mathrm ds)$"
   ]
  },
  {
   "cell_type": "markdown",
   "metadata": {},
   "source": [
    "即有$f(t)≤h(t)≤Kexp(\\int_α^t \\mathrm g(s) \\mathrm ds),α≤t≤β$"
   ]
  },
  {
   "cell_type": "markdown",
   "metadata": {},
   "source": [
    "(2)当K=0时，对任意ε>0,∵$f(t)≤\\int_α^t \\mathrm f(s)g(s) \\mathrm ds$"
   ]
  },
  {
   "cell_type": "markdown",
   "metadata": {},
   "source": [
    "∴$f(t)≤ε+\\int_α^t \\mathrm f(s)g(s) \\mathrm ds$"
   ]
  },
  {
   "cell_type": "markdown",
   "metadata": {},
   "source": [
    "又由（1）可得$f(t)≤εexp(\\int_α^t \\mathrm g(s) \\mathrm ds)$"
   ]
  },
  {
   "cell_type": "markdown",
   "metadata": {},
   "source": [
    "∴当$ε→0^+时，有f(t)≤0.$"
   ]
  },
  {
   "cell_type": "markdown",
   "metadata": {},
   "source": [
    " 又∵$f(t)≥0$∴$f(t)≡0$$即$$f(t)≤Kexp(\\int_α^t \\mathrm g(s) \\mathrm ds),α≤t≤β$"
   ]
  },
  {
   "cell_type": "markdown",
   "metadata": {},
   "source": [
    "证毕."
   ]
  },
  {
   "cell_type": "markdown",
   "metadata": {},
   "source": [
    "证命题5:设φ（t）,ψ(t)是初值问题$x'=f(t,x),x(t_0)=x_0$的两个解，"
   ]
  },
  {
   "cell_type": "markdown",
   "metadata": {},
   "source": [
    "则有$$φ(t)=x_0+\\int _{t_0}^t \\mathrm f(ε,φ(ε)) \\mathrm dε$$  \n",
    "$$ψ(t)=x_0+\\int _{t_0}^t \\mathrm f(ε,ψ(ε)) \\mathrm dε$$"
   ]
  },
  {
   "cell_type": "markdown",
   "metadata": {},
   "source": [
    "∴\n",
    "$$|φ(t)-ψ(t)|≤ \\int_{t_0}^t \\mathrm |\\mathrm f(ε,φ(ε))-\\mathrm f(ε,ψ(ε))|\\mathrm dε\n",
    "≤L \\int_{t_0}^t \\mathrm |\\mathrm φ(ε)-\\mathrm ψ(ε)| \\mathrm dε$$其中L为利普希茨条件."
   ]
  },
  {
   "cell_type": "markdown",
   "metadata": {},
   "source": [
    "由格朗沃尔不等式可知$0≤|\\mathrm φ(t)-\\mathrm ψ(t)|≤0$\n",
    "∴有$φ(t)=ψ(t)$."
   ]
  },
  {
   "cell_type": "markdown",
   "metadata": {},
   "source": [
    "8.如果函数f（x,y）于带域α≤x≤β上连续且关于y满足利普希茨条件，则教材中方程（3.1）满足条件$y(x_0)=y_0$的解于整个区间[α,β]上存在且唯一。试证明之."
   ]
  },
  {
   "cell_type": "markdown",
   "metadata": {},
   "source": [
    "证明：取$$y_0(x)=y_0$$\n",
    "$$y_1(x)=y_0+ \\int_{x_0}^x \\mathrm f(ε,y_0(ε)) \\mathrm dε$$\n",
    "$$.....$$\n",
    "$$y_n(x)=y_0+ \\int_{x_0}^x \\mathrm f(ε,y_{n-1}(ε)) \\mathrm dε-----①$$\n",
    "$$.....$$"
   ]
  },
  {
   "cell_type": "markdown",
   "metadata": {},
   "source": [
    "∴$y_n(x)$在$α≤x≤β$上存在连续."
   ]
  },
  {
   "cell_type": "markdown",
   "metadata": {},
   "source": [
    "现证函数列${y_n(x)}$在$α≤x≤β$上一致连续."
   ]
  },
  {
   "cell_type": "markdown",
   "metadata": {},
   "source": [
    "对于$y_0(x)+Σ_{k=1}^∞[y_k(x)-y_{k-1}(x)],x∈[α,β]-----②$"
   ]
  },
  {
   "cell_type": "markdown",
   "metadata": {},
   "source": [
    "取$M=\\max_{\\substack{x\\in[α,β] \\\\\n",
    "}}\n",
    "\\mid f(x,y_0)\\mid $"
   ]
  },
  {
   "cell_type": "markdown",
   "metadata": {},
   "source": [
    "由①式得:$$|y_1(x)-y_0(x)|≤\\int_{x_0}^x \\mathrm |f(ε,y_0(ε))| \\mathrm dε≤M|x-x_0|-----③$$\n",
    "$$|y_2(x)-y_1(x)|≤\\int_{x_0}^x \\mathrm|f(ε,y_1(ε)) - \\mathrm f(ε,y_0(ε))| \\mathrm dε$$"
   ]
  },
  {
   "cell_type": "markdown",
   "metadata": {},
   "source": [
    "利用利普希茨条件及③，可得到：\n",
    "$$|y_2(x)-y_1(x)|≤L \\int_{x_0}^x \\mathrm |y_1(ε)-y_0(ε)| \\mathrm dε≤L \\int_{x_0}^x \\mathrm M|ε-x_0| \\mathrm dε=\n",
    "\\frac{\\mathrm ML}{\\mathrm 2!}(x-x_0)^2$$"
   ]
  },
  {
   "cell_type": "markdown",
   "metadata": {},
   "source": [
    "∴$|y_k(x)-y_{k-1}(x)|≤\\frac{\\mathrm ML^{k-1}}{\\mathrm k!}|x-x_0|^k≤\\frac{\\mathrm ML^{k-1}}{\\mathrm k!}(β-α)^k$"
   ]
  },
  {
   "cell_type": "markdown",
   "metadata": {},
   "source": [
    "上式右端是正项收敛级数$∑_{k=1}^∞\\frac{\\mathrm ML^{k-1}}{\\mathrm k!}(β-α)^k$的一般项，由Weierstrass判别法，\n",
    "知级数②在$α≤x≤β$上一致收敛，因而${y_n(x)}$在[α，β]上一致收敛."
   ]
  },
  {
   "cell_type": "markdown",
   "metadata": {},
   "source": [
    "现设$\\lim_{\\substack{n→∞\\\\\n",
    "}}\n",
    "{y_n(x)}=y(x)$,易知y(x)在[α,β]上连续，\n",
    "且${f（x,y_n(x))}$在[α,β]上一致收敛于${f(x,y_n(x))}$."
   ]
  },
  {
   "cell_type": "markdown",
   "metadata": {},
   "source": [
    "∴对①式两边求极限可得：$y(x)=y_0+\\int_{x_0}^x \\mathrm f(ε,y(ε)) \\mathrm dε$"
   ]
  },
  {
   "cell_type": "markdown",
   "metadata": {},
   "source": [
    "# <font color='red'>唯一性？"
   ]
  },
  {
   "cell_type": "markdown",
   "metadata": {},
   "source": [
    "10.给定积分方程$$φ(x)=f(x)+λ \\int_a^b \\mathrm K(x,ε) \\mathrm φ(x) \\mathrm dε4...................(*)$$\n",
    "其中f(x)是[a,b]上的已知连续函数，K(x,ε)是a≤x≤b,a≤ε≤b上的已知连续函数，证明当|λ|足够小时（λ是常数），(*)在[a,b]上存在唯一的连续解。"
   ]
  },
  {
   "cell_type": "markdown",
   "metadata": {},
   "source": [
    "证明：做逐次逼近序列，取$$φ_0(x)=f(x)$$"
   ]
  },
  {
   "cell_type": "markdown",
   "metadata": {},
   "source": [
    "令$$φ_1(x)=f(x)+λ \\int_a^b \\mathrm k(x,ε) \\mathrm φ_0(ε) \\mathrm dε$$\n",
    "$$........$$\n",
    "$$φ_{n+1}(x)=f(x)+λ \\int_a^b \\mathrm k(x,ε) \\mathrm φ_n(ε) \\mathrm dε$$\n",
    "$$........$$"
   ]
  },
  {
   "cell_type": "markdown",
   "metadata": {},
   "source": [
    "令：\n",
    "$$M=\\max_{\\substack{x\\in [a,b]\\\\}}\\mid f(x) \\mid,x∈[a,b],\n",
    "L=\\max_{\\substack{x\\in[a,b]\\\\\n",
    "\\xi\\in[a,b]\\\\\n",
    "}}\n",
    "\\mid k(x,ε)\\mid＞0，$$\n",
    "$$|φ_1(x)-φ_0(x)|=|λ \\int_a^b \\mathrm k(x,ε) \\mathrm φ_0(ε) \\mathrm dε|$$\n",
    "$$≤|λ| \\int_a^b \\mathrm |k(x,ε)| \\mathrm |f(ε)| \\mathrm dε$$\n",
    "$$≤|λ|ML(b-a)$$"
   ]
  },
  {
   "cell_type": "markdown",
   "metadata": {},
   "source": [
    "假设$|φ_k(x)-φ_{k-1}(x)|≤|λ|^{k}L^{k}M(b-a)^k$成立，则有\n",
    "$$|φ_k(x)-φ_{k-1}(x)|=|λ \\int_a^b \\mathrm k(x,ε) \\mathrm(φ_k(ε)-φ_{k-1}(ε) )\\mathrm dε|$$\n",
    "$$≤|λ| \\int_a^b \\mathrm |k(x,ε)| \\mathrm |φ_k(ε)-φ_{k-1}(ε)| \\mathrm dε$$\n",
    "$$≤|λ| \\int_a^b \\mathrm L^{k+1}|λ|^{k}M(b-a)^{k} \\mathrm dε$$\n",
    "$$=|λ|^{k+1}L^{k+1}M(b-a)^{k+1}$$"
   ]
  },
  {
   "cell_type": "markdown",
   "metadata": {},
   "source": [
    "由归纳法知，对任意的n∈N,有\n",
    "$$|φ_n(x)-φ_{n-1}(x)|≤ML^{n}|λ|^{n}(b-a)^{n}$$"
   ]
  },
  {
   "cell_type": "markdown",
   "metadata": {},
   "source": [
    "Ⅰ现证$φ_n(x)$在[a,b]上一致收敛."
   ]
  },
  {
   "cell_type": "markdown",
   "metadata": {},
   "source": [
    "考虑级数$φ_0(x)+∑_{k=1}^∞(φ_k(x)-φ_{k-1}(x))…………②$\n",
    "则该级数的前n项和为:$φ_0(x)+∑_{k=1}^n(φ_k(x)-φ_{k-1}(x))=φ_n(x)$"
   ]
  },
  {
   "cell_type": "markdown",
   "metadata": {},
   "source": [
    "∴要证序列$φ_n(x)$在[a,b]上一致收敛，只须证级数②在[a,b]上一致收敛即可."
   ]
  },
  {
   "cell_type": "markdown",
   "metadata": {},
   "source": [
    "由于$|(φ_k(x)-φ_{k-1}(x))|≤ML^{k}|λ|^{k}(b-a)^k$\n",
    "\n",
    "∴当$|λ|< \\frac {\\mathrm 1}{\\mathrm (b-a)L}$时，级数$∑_{k=1}^∞ML^{k}|λ|^{k}(b-a)^k$收敛."
   ]
  },
  {
   "cell_type": "markdown",
   "metadata": {},
   "source": [
    "由此知当$|λ|< \\frac {\\mathrm 1}{\\mathrm (b-a)L}$时，级数②在[a,b]上一致收敛."
   ]
  },
  {
   "cell_type": "markdown",
   "metadata": {},
   "source": [
    "设极限函数为$φ^*(x)$,即$x∈[a,b]$时,当n→∞时，$φ_{n}(x)$一致收敛于$φ^*(x)$,且由$φ_{n}(x)$的连续性知$φ^*(x)$在[a,b]上连续."
   ]
  },
  {
   "cell_type": "markdown",
   "metadata": {},
   "source": [
    "对迭代列①，当$n→∞$时，两边求极限得：$$φ^*(x)=f(x)+λ \\int_a^b \\mathrm k(x,ε) \\mathrm φ^*(ε) \\mathrm dε$$\n",
    "$$(|λ|< \\frac {\\mathrm 1}{\\mathrm (b-a)L})$$"
   ]
  },
  {
   "cell_type": "markdown",
   "metadata": {},
   "source": [
    "即证明了当$|λ|< \\frac {\\mathrm 1}{\\mathrm (b-a)L}$时，积分方程必存在连续解."
   ]
  },
  {
   "cell_type": "markdown",
   "metadata": {},
   "source": [
    "Ⅱ证当$|λ|< \\frac {\\mathrm 1}{\\mathrm (b-a)L}$时，（*）方程的解的唯一性."
   ]
  },
  {
   "cell_type": "markdown",
   "metadata": {},
   "source": [
    "用反证法:\n",
    "设另有解$φ'(x)且φ'(x)≠φ^*(x)$,即有$φ'(x)=f(x)+λ \\int_a^b \\mathrm k(x,ε) \\mathrm φ'(ε) \\mathrm dε$"
   ]
  },
  {
   "cell_type": "markdown",
   "metadata": {},
   "source": [
    "记$$Q=\\max_{\\substack{x\\in[a,b]\\\\\n",
    "}}\n",
    "\\midφ^*(x)-φ'(x)\\mid>0$$\n",
    "又$$|φ^*(x)-φ'(x)|=|λ \\int_a^b \\mathrm k(x,ε) \\mathrm (φ^*(ε)-φ'(ε)) \\mathrm dε|$$\n",
    "$$≤|λ| \\int_a^b \\mathrm L \\mathrm |(φ^{*}(ε)-φ'(ε))| \\mathrm dε$$\n",
    " $$=|λ|QL(b-a)$$"
   ]
  },
  {
   "cell_type": "markdown",
   "metadata": {},
   "source": [
    "即有$Q≤|λ|QL(b-a)$."
   ]
  },
  {
   "cell_type": "markdown",
   "metadata": {},
   "source": [
    "由于Q>0,\n",
    "∴$|λ|≥\\frac {\\mathrm 1}{\\mathrm (b-a)L}$，与$|λ|< \\frac {\\mathrm 1}{\\mathrm (b-a)L}$矛盾，\n",
    "则唯一性得证."
   ]
  },
  {
   "cell_type": "markdown",
   "metadata": {
    "collapsed": true
   },
   "source": [
    "# <font color='red'>A  11/10\n"
   ]
  },
  {
   "cell_type": "code",
   "execution_count": null,
   "metadata": {
    "collapsed": true
   },
   "outputs": [],
   "source": []
  }
 ],
 "metadata": {
  "kernelspec": {
   "display_name": "SageMath 7.3",
   "language": "",
   "name": "sagemath"
  },
  "language_info": {
   "codemirror_mode": {
    "name": "ipython",
    "version": 2
   },
   "file_extension": ".py",
   "mimetype": "text/x-python",
   "name": "python",
   "nbconvert_exporter": "python",
   "pygments_lexer": "ipython2",
   "version": "2.7.10"
  }
 },
 "nbformat": 4,
 "nbformat_minor": 0
}
