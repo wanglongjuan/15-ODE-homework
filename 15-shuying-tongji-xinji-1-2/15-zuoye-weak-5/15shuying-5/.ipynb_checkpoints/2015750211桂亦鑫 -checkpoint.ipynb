{
 "cells": [
  {
   "cell_type": "markdown",
   "metadata": {
    "collapsed": true
   },
   "source": [
    "# 常微分方程   第五周作业  2015750211"
   ]
  },
  {
   "cell_type": "markdown",
   "metadata": {},
   "source": [
    "## P.88\n",
    "## 3.求初值问题 $$\\begin{cases} \\frac{\\mathrm d y}{\\mathrm d x}=x^2-y^2,R:|x+1|\\leq 1,|y|\\leq 1\\\\y(-1)=0\\end{cases}$$的解的存在区间，并求第二次的近似解，给出在解的存在区间的误差估计."
   ]
  },
  {
   "cell_type": "markdown",
   "metadata": {},
   "source": [
    "### 3.解：由$|x+1|\\leq 1,|y|\\leq 1$,可得$h=min(1,\\frac{1}{M}),(其中M=\\mathop{max}_{(x,y)\\in R}|f(x,y)|)$\n",
    "\n",
    "###  从方程本身我们很容易得知$M=4$,所以$h=\\frac{1}{4}$,由存在唯一性定理知$|x+1|\\leq h=\\frac{1}{4}$为解的存在区间.\n",
    "\n",
    "###  根据解的初值条件,令$\\varphi_0(x)=y(-1)=0$.所以有$$\\varphi_1(x)=\\int^x_{-1}[ t^2-\\varphi_0^2(t)]\\mathrm d t=\\frac{x^3}{3}+\\frac{1}{3}$$$$\\varphi_2(x)=\\int^x_{-1}[ t^2-\\varphi_1^2(t)]\\mathrm d t=-\\frac{1}{63}x^7-\\frac{1}{18}x^4+\\frac{1}{3}x^3-\\frac{1}{9}x+\\frac{11}{42}$$\n",
    "\n",
    "###  第二次近似解即为$\\varphi_2(x)=-\\frac{1}{63}x^7-\\frac{1}{18}x^4+\\frac{1}{3}x^3-\\frac{1}{9}x+\\frac{11}{42}$\n",
    "\n",
    "###  而$\\begin{vmatrix}\\frac{\\partial f}{\\partial y}\\end{vmatrix}=\\begin{vmatrix}-2y\\end{vmatrix}\\leq2=L$,所以由此可得$$\\begin{vmatrix}\\varphi_n(x)-\\varphi(x)\\end{vmatrix}\\leq\\frac{ML^n}{(n+1)!}h^{n+1}$$代入具体数值有$$\\begin{vmatrix}\\varphi_2(x)-\\varphi(x)\\end{vmatrix}\\leq\\frac{ML^2}{(2+1)!}h^{2+1}=\\frac{1}{24}$$\n",
    "\n",
    "###  综上所述,方程解的存在区间为$|x+1|\\leq h=\\frac{1}{4}$,第二次近似解为$\\varphi_2(x)=-\\frac{1}{63}x^7-\\frac{1}{18}x^4+\\frac{1}{3}x^3-\\frac{1}{9}x+\\frac{11}{42}$,真实解的估计误差为$\\begin{vmatrix}\\varphi_2(x)-\\varphi(x)\\end{vmatrix}\\leq\\frac{1}{24}$.\n"
   ]
  },
  {
   "cell_type": "markdown",
   "metadata": {
    "collapsed": true
   },
   "source": [
    "## 8.如果函数$f(x,y)$于带域$\\alpha\\leq x\\leq \\beta$上连续且关于$y$满足利普希茨条件,则方程$\\frac{\\mathrm d y}{\\mathrm d x}$满足条件$y(x_0)=y_0$的解于整个区间$[\\alpha,\\beta]$上存在且唯一.试证明之."
   ]
  },
  {
   "cell_type": "markdown",
   "metadata": {},
   "source": [
    "### 我们设$M=\\mathop{max}_{x\\in[\\alpha,\\beta]}\\begin{vmatrix}f(x,y_0)\\end{vmatrix}$,再采取皮卡逐步逼近函数序列如下：$$\\begin{cases}\\varphi_0(x)=y_0\\\\ \\varphi_n(x)=y_0+\\int^x_{x_0}f(t,\\varphi_{n-1}(t))\\mathrm d t,x\\in[\\alpha,\\beta],(n=1,2,···)\\end{cases}$$\n",
    "\n",
    "### 考虑级数$\\varphi_0(x)+\\mathop{\\Sigma}^{\\infty}_{k=1}[\\varphi_{k}(x)-\\varphi_{k-1}(x)],x\\in[\\alpha,\\beta]$,它的部分和等于$\\varphi_n(x)$.为此我们进行如下估计$$\\begin{vmatrix}\\varphi_1(x)-\\varphi_0(x)\\end{vmatrix}\\leq \\int^{x}_{x_0}\\begin{vmatrix}f(t,\\varphi_0(t))\\end{vmatrix}\\mathrm d t\\leq M(x-x_0)$$\n",
    "\n",
    "### 以及$$\\begin{vmatrix}\\varphi_2(x)-\\varphi_1(x)\\end{vmatrix}\\leq \\int^{x}_{x_0}\\begin{vmatrix}f(t,\\varphi_1(t))-f(t,\\varphi_0(t))\\end{vmatrix}\\mathrm d t$$\n",
    "\n",
    "### 利用利普希茨条件可得$$\\begin{vmatrix}\\varphi_2(x)-\\varphi_1(x)\\end{vmatrix}\\leq L\\int^{x}_{x_0}\\begin{vmatrix}\\varphi_1(t)-\\varphi_0(t)\\end{vmatrix}\\mathrm d t\\leq L\\int^{x}_{x_0}M(t-x_0)\\mathrm d t=\\frac{ML}{2!}(x-x_0)^2$$\n",
    "\n",
    "###  设对于正整数$n$,不等式$$\\begin{vmatrix}\\varphi_n(x)-\\varphi_{n-1}(x)\\end{vmatrix}\\leq\\frac{ML^{n-1}}{n!}(x-x_0)^n$$成立\n",
    "\n"
   ]
  },
  {
   "cell_type": "markdown",
   "metadata": {},
   "source": [
    "### 则由利普希茨条件,当$x\\in[\\alpha,\\beta]$有$$\\begin{vmatrix}\\varphi_{n+1}(x)-\\varphi_n(x)\\end{vmatrix}\\leq \\int^{x}_{x_0}\\begin{vmatrix}f(t,\\varphi_n(t))-f(t,\\varphi_{n-1}(t))\\end{vmatrix}\\mathrm d t\\leq L\\int^{x}_{x_0}\\begin{vmatrix}\\varphi_n(t)-\\varphi_{n-1}(t)\\end{vmatrix}\\mathrm d t\\leq\\frac{ML^n}{(n+1)!}(x-x_0)^{n+1}\\leq\\frac{ML^n}{(n+1)!}(\\beta-\\alpha)^{n+1}$$于是由数学归纳法可知，对于所有正整数,有如下估计：$$\\begin{vmatrix}\\varphi_n(x)-\\varphi_{n-1}(x)\\end{vmatrix}\\leq\\frac{ML^{n-1}}{n!}(\\beta-\\alpha)^n,x\\in[\\alpha,\\beta]$$\n"
   ]
  },
  {
   "cell_type": "markdown",
   "metadata": {
    "collapsed": true
   },
   "source": [
    "### 由魏尔斯特拉斯判别法,知级数在$x\\in[\\alpha,\\beta]$一致收敛,因而序列$\\begin{Bmatrix} {\\varphi_n(x)}\\end{Bmatrix}$也在$x\\in[\\alpha,\\beta]$上一致收敛\n",
    "### 现在设$\\lim_{n\\to \\infty}\\varphi_n(x)=\\varphi(x)$则$\\varphi(x)$也在$x\\in[\\alpha,\\beta]$连续\n",
    "\n",
    "### 再次运用利普希茨条件$$\\begin{vmatrix}f(x,\\varphi_n(x))-f(x,\\varphi(x))\\end{vmatrix}\\leq L\\begin{vmatrix}\\varphi_n(x)-\\varphi(x)\\end{vmatrix}$$同时我们有序列${\\varphi_n(x)}$也在$x\\in[\\alpha,\\beta]$上一致收敛,所以$f(x,\\varphi_n(x))$在$x\\in[\\alpha,\\beta]$上一致收敛于$f(x,\\varphi(x))$.\n",
    "\n",
    "### 所以我们对于$\\varphi_n(x)=y_0+\\int^x_{x_0}f(t,\\varphi_{n-1}(t))\\mathrm d t$两边取极限得到$$\\varphi(x)=y_0+\\int^x_{x_0}f(t,\\varphi(t))\\mathrm d t$$这也就是说$\\varphi(x)$是积分方程在$x\\in[\\alpha,\\beta]$上的解. \n"
   ]
  },
  {
   "cell_type": "markdown",
   "metadata": {
    "collapsed": true
   },
   "source": [
    "### 唯一性：\n",
    "\n",
    "### 假设$\\psi(x)$是方程的另一个解,定义于$x\\in[\\alpha,\\beta]$上.\n",
    "\n",
    "### 我们可以进行如下估计：$$\\begin{vmatrix}\\varphi_0(x)-\\psi(x)\\end{vmatrix}\\leq \\int^{x}_{x_0}\\begin{vmatrix}f(t,\\psi(t))\\end{vmatrix}\\mathrm d t\\leq M(x-x_0)$$\n",
    "\n",
    "### 以及$$\\begin{vmatrix}\\varphi_1(x)-\\psi(x)\\end{vmatrix}\\leq \\int^{x}_{x_0}\\begin{vmatrix}f(t,\\varphi_0(t))-f(t,\\psi(t))\\end{vmatrix}\\mathrm d t\\leq L\\int^{x}_{x_0}M(t-x_0)\\mathrm d t=\\frac{ML}{2!}(x-x_0)^2$$\n",
    "\n",
    "### 利用利普希茨条件可得$$\\begin{vmatrix}\\varphi_2(x)-\\varphi_1(x)\\end{vmatrix}\\leq L\\int^{x}_{x_0}\\begin{vmatrix}\\varphi_1(t)-\\varphi_0(t)\\end{vmatrix}\\mathrm d t\\leq L\\int^{x}_{x_0}M(t-x_0)\\mathrm d t=\\frac{ML}{2!}(x-x_0)^2$$\n",
    "\n"
   ]
  },
  {
   "cell_type": "markdown",
   "metadata": {},
   "source": [
    "### 现设$$\\begin{vmatrix}\\varphi_{n-1}(x)-\\psi(x)\\end{vmatrix}\\leq\\frac{ML^{n-1}}{n!}(x-x_0)^n$$则有$$\\begin{vmatrix}\\varphi_{n}(x)-\\psi(x)\\end{vmatrix}\\leq \\int^{x}_{x_0}\\begin{vmatrix}f(t,\\varphi_{n-1}(t))-f(t,\\psi(t))\\end{vmatrix}\\mathrm d t\\leq L\\int^{x}_{x_0}\\begin{vmatrix}\\varphi_{n-1}(t)-\\psi(t)\\end{vmatrix}\\mathrm d t\\leq\\frac{ML^n}{(n+1)!}(x-x_0)^{n+1}\\leq\\frac{ML^n}{(n+1)!}(\\beta-\\alpha)^{n+1}$$于是由数学归纳法可知，对于所有正整数,有如下估计：$$\\begin{vmatrix}\\varphi_n(x)-\\psi(x)\\end{vmatrix}\\leq\\frac{ML^{n-1}}{n!}(\\beta-\\alpha)^n,x\\in[\\alpha,\\beta]$$"
   ]
  },
  {
   "cell_type": "markdown",
   "metadata": {},
   "source": [
    "### 由此可知序列 ${\\varphi_n(x)}$在$x\\in[\\alpha,\\beta]$上一致收敛于$\\psi(x)$,根据极限的唯一性有$$\\varphi(x)=\\psi(x),x\\in[\\alpha,\\beta]$$"
   ]
  },
  {
   "cell_type": "markdown",
   "metadata": {},
   "source": [
    "## 6.证明格朗沃尔不等式:\n",
    "\n",
    "## 设K为非负常数,$f(t)$和$g(t)$为区间$\\alpha\\leq t \\leq \\beta$上的连续非负函数,且满足不等式$$f(t)\\leq K+\\int^t_{\\alpha}f(s)g(s)\\mathrm d s,\\alpha\\leq t \\leq \\beta$$则有$$f(t)\\leq Ke^{\\int^t_{\\alpha}g(s)\\mathrm d s},\\alpha \\leq x\\leq \\beta$$并由此证明定理1的命题五."
   ]
  },
  {
   "cell_type": "markdown",
   "metadata": {
    "collapsed": true
   },
   "source": [
    "### 因为格朗沃尔不等式的形式与皮卡逐步逼近函数序列相似,所以可以尝试考虑逼近序列法.\n",
    "\n",
    "### 构造函数序列$$\\begin{cases}f_0(t)=K\\\\f_n(t)\\leq K+\\int^t_{\\alpha}f_{n-1}(s)g(s)\\mathrm d s,(n=1,2,···)\\end{cases}$$\n"
   ]
  },
  {
   "cell_type": "markdown",
   "metadata": {
    "collapsed": true
   },
   "source": [
    "\n",
    "### 所以我们有$$f_1(t)-f_0(t)\\leq \\int^t_{\\alpha}f_0(s)g(s)\\mathrm d s=K\\int^t_{\\alpha}g(s)\\mathrm d s$$以及$$f_2(t)-f_1(t)\\leq (K+\\int^t_{\\alpha}f_1(s)g(s)\\mathrm d s)-(K+\\int^t_{\\alpha}f_0(s)g(s)\\mathrm d s)=\\int^t_{\\alpha}[f_1(s)-f_0(s)]g(s)\\mathrm d s\\leq K\\int^t_{\\alpha}[\\int^t_{\\alpha}g(s)\\mathrm d s]g(s)\\mathrm d s=K \\int^t_{\\alpha}[\\int^t_{\\alpha}g(s)\\mathrm d s]\\mathrm d [\\int^t_{\\alpha}g(s)\\mathrm d s]=\\frac{K}{2}[\\int^t_{\\alpha}g(s)\\mathrm d s]^2$$"
   ]
  },
  {
   "cell_type": "markdown",
   "metadata": {},
   "source": [
    "### 由此我们假设$f_n(t)-f_{n-1}(t)\\leq \\frac{K}{n!}[\\int^t_{\\alpha}g(s)\\mathrm d s]^n$"
   ]
  },
  {
   "cell_type": "markdown",
   "metadata": {},
   "source": [
    "### 那么我们有$$f_{n+1}(t)-f_n(t)\\leq \\int^t_{\\alpha}[f_n(s)-f_{n-1}(s)]g(s)\\mathrm d s\\leq \\frac{K}{n!}\\int^t_{\\alpha}[\\int^t_{\\alpha}g(s)\\mathrm d s]^ng(s)\\mathrm d s=\\frac{K}{n!}\\int^t_{\\alpha}[\\int^t_{\\alpha}g(s)\\mathrm d s]^n\\mathrm d [\\int^t_{\\alpha}g(s)\\mathrm d s]=\\frac{K}{(n+1)!}[\\int^t_{\\alpha}g(s)\\mathrm d s ]^{n+1}$$"
   ]
  },
  {
   "cell_type": "markdown",
   "metadata": {},
   "source": [
    "### 所以对一切正整数成立$$f_n(t)-f_{n-1}(t)\\leq \\frac{K}{n!}[\\int^t_{\\alpha}g(s)\\mathrm d s]^n$$"
   ]
  },
  {
   "cell_type": "markdown",
   "metadata": {},
   "source": [
    "### 于是我们可以得到$$f_n(t)=f_0(t)+\\mathop{\\Sigma}^{n}_{k=1}[f_k(t)-f_{k-1}(t)]\\leq \\mathop{\\Sigma}^{n}_{k=0}\\frac{K}{k!}[\\int^t_{\\alpha}g(s)\\mathrm d s]^k$$"
   ]
  },
  {
   "cell_type": "markdown",
   "metadata": {},
   "source": [
    "### 又因为$g(t)$在$\\alpha \\leq x\\leq \\beta$上为非负函数.所以存在$A(A\\in R^+)$,使得$\\begin{vmatrix}\\int^t_{\\alpha}g(s)\\mathrm d s\\end{vmatrix}\\leq A$"
   ]
  },
  {
   "cell_type": "markdown",
   "metadata": {},
   "source": [
    "### 那么我们就有$$\\begin{vmatrix}f_n(t)-f_{n-1}(t)\\end{vmatrix}\\leq \\mathop{\\Sigma}^n_{k=0}\\frac{K}{k!}[\\int^t_{\\alpha}g(s)\\mathrm d s]^k\\leq \\mathop{\\Sigma}^n_{k=0}\\frac{K}{k!}A^k$$"
   ]
  },
  {
   "cell_type": "markdown",
   "metadata": {},
   "source": [
    "### 由魏尔斯特拉斯判别法知$\\begin{Bmatrix}f_n(t)\\end{Bmatrix}$在$\\alpha\\leq x\\leq \\beta$上一致收敛,所以有$$\\mathop{\\lim}_{n\\to \\infty}f_n(t)\\leq K+\\int^t_{\\alpha}[\\mathop{\\lim}_{n\\to \\infty}f_{n-1}(s)g(s)]\\mathrm d s$$\n",
    "\n",
    "### 亦即$$f(t)\\leq K+\\int^t_{\\alpha}f(s)g(s)\\mathrm d s$$"
   ]
  },
  {
   "cell_type": "markdown",
   "metadata": {},
   "source": [
    "###  从证明过程中,我们发现当满足$f(t)\\leq K+\\int^t_{\\alpha}f(s)g(s)\\mathrm d s$条件时,有$$f(t)\\leq\\mathop{\\Sigma}_{k=0}^{\\infty}\\frac{K}{k!}[\\int^t_{\\alpha}g(s)\\mathrm d s]^k=Ke^{\\int^t_{\\alpha}g(s)\\mathrm d s}$$"
   ]
  },
  {
   "cell_type": "markdown",
   "metadata": {},
   "source": [
    "### 故格朗沃尔不等式得证.我们设$\\psi(x)$是积分方程的另一个连续解.则有$$\\begin{vmatrix}\\varphi(x)-\\psi(x)\\end{vmatrix}\\leq \\int^{x}_{x_0}\\begin{vmatrix}f(t,\\varphi(t))-f(t,\\psi(t))\\end{vmatrix}\\mathrm d t\\leq \\int^{x}_{x_0}L\\begin{vmatrix}\\varphi(t)-\\psi(t)\\end{vmatrix}\\mathrm d t$$"
   ]
  },
  {
   "cell_type": "markdown",
   "metadata": {},
   "source": [
    "### 运用格朗沃尔不等式,我们可以得到$$\\begin{vmatrix}\\varphi(x)-\\psi(x)\\end{vmatrix}\\leq  \\int^{x}_{x_0}L\\begin{vmatrix}\\varphi(t)-\\psi(t)\\end{vmatrix}\\mathrm d t\\leq 0$$\n",
    "\n",
    "### 所以有$\\varphi(x)=\\psi(x)$.命题5得证."
   ]
  },
  {
   "cell_type": "markdown",
   "metadata": {},
   "source": [
    "## 10.给定积分方程$$\\varphi(x)=f(x)+\\lambda\\int^b_aK(x,t)\\varphi(t)\\mathrm d t,(*)$$其中$f(x)$是$[a,b]$上的已知连续函数,$K(x,t)$是$a\\leq x\\leq b,a\\leq t\\leq b$上的已知连续函数.证明当$\\begin{vmatrix}\\lambda\\end{vmatrix}$足够小时$(\\lambda是常数),(*)$在$[a,b]$上存在唯一的连续解."
   ]
  },
  {
   "cell_type": "markdown",
   "metadata": {},
   "source": [
    "### 解：根据积分方程的形式,作逐步逼近数列$$\\begin{cases}\\varphi_0(x)=f(x)\\\\ \\varphi_{n+1}(x)=f(x)+\\lambda\\int^b_aK(x,t)\\varphi_{n}(t)\\mathrm d t,(n=1,2,···)\\end{cases}$$"
   ]
  },
  {
   "cell_type": "markdown",
   "metadata": {},
   "source": [
    "### 同时我们设$M=\\mathop{max}_{x\\in [a,b]}\\begin{vmatrix}f(x)\\end{vmatrix},N=\\mathop{max}_{(x,t)\\in R}\\begin{vmatrix}K(x,t)\\end{vmatrix}$其中$R$为$K(x,t)$所在的矩形域."
   ]
  },
  {
   "cell_type": "markdown",
   "metadata": {},
   "source": [
    "### 同存在性唯一性定理的证明,我们考虑$$\\begin{vmatrix}\\varphi_1(x)-\\varphi_0(x)\\end{vmatrix}\\leq \\begin{vmatrix}\\lambda\\int^{b}_{a}K(x,t)\\varphi{t}\\mathrm d t\\end{vmatrix}\\leq \\lambda MN(b-a)$$\n",
    "\n",
    "### 以及$$\\begin{vmatrix}\\varphi_2(x)-\\varphi_1(x)\\end{vmatrix}\\leq \\begin{vmatrix}\\lambda \\int^{b}_{a}K(x,t)[\\varphi_1(t)-\\varphi_0(t)]\\mathrm d t\\end{vmatrix}\\leq \\lambda^2 MN^2(b-a)^2$$\n",
    "\n",
    "### 观察后我们假设,对任意正整数,满足$$\\begin{vmatrix}\\varphi_{n+1}(x)-\\varphi_n(x)\\end{vmatrix}\\leq MP^{n+1}$$其中$P=\\lambda N(b-a)$\n",
    " \n",
    "### 我们假设等于$n$时命题成立,那么有$$\\begin{vmatrix}\\varphi_{n}(x)-\\varphi_{n-1}(x)\\end{vmatrix}\\leq MP^{n}$$\n",
    "\n",
    "### 那么由归纳假设$$\\begin{vmatrix}\\varphi_{n+1}(x)-\\varphi_n(x)\\end{vmatrix}\\leq \\begin{vmatrix}\\lambda \\int^{b}_{a}K(x,t)[\\varphi_n(t)-\\varphi_{n-1}(t)]\\mathrm d t\\end{vmatrix}\\leq M P^{n+1}$$"
   ]
  },
  {
   "cell_type": "markdown",
   "metadata": {},
   "source": [
    "### 故假设成立,即对任意正整数,满足$$\\begin{vmatrix}\\varphi_{n+1}(x)-\\varphi_n(x)\\end{vmatrix}\\leq MP^{n+1},(P=\\lambda N(b-a))$$"
   ]
  },
  {
   "cell_type": "markdown",
   "metadata": {},
   "source": [
    "### 如果我们把$\\lambda$取的足够小,或者更明确一点令$\\begin{vmatrix}\\lambda\\end{vmatrix}\\leq \\frac{1}{3N(b-a)}$.那么我们有魏尔斯特拉斯判别法可知$\\begin{Bmatrix}\\varphi_n(x)\\end{Bmatrix}$在$x\\in[a,b]$上一致收敛."
   ]
  },
  {
   "cell_type": "markdown",
   "metadata": {},
   "source": [
    "### 我们知道$\\varphi_n(x)=\\varphi_0(x)+\\mathop{\\Sigma}^{\\infty}_{k=1}[\\varphi_{k}(x)-\\varphi_{k-1}(x)],x\\in[\\alpha,\\beta]$,所以$$\\mathop{\\lim}_{n\\to {\\infty}}\\varphi_n(x)=\\varphi(x)$$"
   ]
  },
  {
   "cell_type": "markdown",
   "metadata": {},
   "source": [
    "### 故我们对等式两边取极限有$$\\varphi_n(x)=f(x)+\\lambda\\int^b_{a}K(x,t)\\varphi_{n-1}(x)\\mathrm d t$$两边取极限得到$$\\varphi(x)=f(x)+\\int^b_{a}K(x,t)\\varphi(x)\\mathrm d t$$这也就是说$\\varphi(x)$是积分方程在$x\\in[a,b]$上的解. "
   ]
  },
  {
   "cell_type": "markdown",
   "metadata": {},
   "source": [
    "###  我们设$\\psi(x)$是积分方程的另一个连续解.则有$$\\begin{vmatrix}\\varphi(x)-\\psi(x)\\end{vmatrix}\\leq \\begin{vmatrix}\\lambda \\int^{b}_{a}K(x,t)[\\varphi_(t)-\\psi(t)]\\mathrm d t\\end{vmatrix}\\leq \\begin{vmatrix}\\lambda N\\end{vmatrix} \\begin{vmatrix}\\int^{b}_{a}[\\varphi_(t)-\\psi(t)]\\mathrm d t\\end{vmatrix}$$"
   ]
  },
  {
   "cell_type": "markdown",
   "metadata": {},
   "source": [
    "### 由格朗沃尔不等式可知:$$\\begin{vmatrix}\\varphi(x)-\\psi(x)\\end{vmatrix}\\leq 0$$\n",
    "\n",
    "### 所以有$\\varphi(x)=\\psi(x)$.故唯一性得证."
   ]
  },
  {
   "cell_type": "markdown",
   "metadata": {
    "collapsed": true
   },
   "source": [
    "# <font color='red'>A  11/10"
   ]
  },
  {
   "cell_type": "code",
   "execution_count": null,
   "metadata": {
    "collapsed": true
   },
   "outputs": [],
   "source": []
  }
 ],
 "metadata": {
  "kernelspec": {
   "display_name": "SageMath 7.3",
   "language": "",
   "name": "sagemath"
  },
  "language_info": {
   "codemirror_mode": {
    "name": "ipython",
    "version": 2
   },
   "file_extension": ".py",
   "mimetype": "text/x-python",
   "name": "python",
   "nbconvert_exporter": "python",
   "pygments_lexer": "ipython2",
   "version": "2.7.10"
  }
 },
 "nbformat": 4,
 "nbformat_minor": 0
}
