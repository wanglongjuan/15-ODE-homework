{
 "cells": [
  {
   "cell_type": "markdown",
   "metadata": {},
   "source": [
    "3.求初值问题\n",
    "$$\n",
    "\\begin{cases}\n",
    "\\frac{dy}{dx}=x^2+y^2\\\\\n",
    "y(-1)=0\\\\\n",
    "\\end{cases}\n",
    "$$\n",
    "的解的存在区间，并求第二次近似解，给出在解的区间的误差估计\n",
    "解：\n",
    "由题意方程的解经过点（-1,0）\n",
    "$$M=\\max\\limits_{{x,y}\\in{R}}\\{|f(x)|\\}$$\n",
    "$$n=2$$\n",
    "$$h=min\\{a,\\frac{b}{M}\\}=min\\{1,\\frac{1}{4}\\}$$\n",
    "则$h=\\frac{1}{4}$\n",
    "由于$$|\\frac{\\partial f}{\\partial y}|=|-2y|≤2=L$$\n",
    "$f(x,y)=x^2-y^2$的利普希茨常数可取为$L=2$\n",
    "$$\n",
    "\\begin{aligned}\n",
    "|\\phi_n(x)-\\psi(x)|=\\frac{ML^nh^{n+}}{(n+1)!}\\\\\n",
    "|\\phi_n(x)-\\psi(x)|=\\frac{M}{L}\\frac{1}{(n+1)!}(Lh)^{n+1}\\\\\n",
    "\\end{aligned}\n",
    "$$\n",
    "可以做出如下表达式：\n",
    "$$\\psi_0(x)=0$$\n",
    "$$\\psi_1(x)=\\int_{-1}^x\\mathrm (t^2-(\\psi_0(x))^2)\\,\\mathrm {d}x=\\frac{x^3}{3}+\\frac{1}{3}$$\n",
    "$$\\psi_2(x)=\\int_{-1}^x\\mathrm (t^2-(\\psi_1(x))^2)\\,\\mathrm {d}x=\\frac{x^3}{3}-\\frac{x}{9}-\\frac{x^4}{18}-\\frac{x^7}{64}+\\frac{11}{42}$$\n",
    "$$|\\psi_2(x)-\\psi_0(x)|≤\\frac{1}{24}$$\n",
    "解的存在区间：$$\\frac{5}{4}≤x≤\\frac{5}{4}$$\n",
    "第二次近似解：$$\\frac{x^3}{3}-\\frac{x}{9}-\\frac{x^4}{18}-\\frac{x^7}{64}+\\frac{11}{42}$$\n",
    "误差估计为$|\\psi_2(x)-\\psi_0(x)|≤\\frac{1}{24}$"
   ]
  },
  {
   "cell_type": "markdown",
   "metadata": {},
   "source": [
    "6.证明Gronwall不等式：\n",
    "\n",
    "设K为非负常数，f(x)和g（t）为区间$$\\alpha≤t≤\\beta$$的连续非负函数，且满足不等式\n",
    "$$f(t)≤K+\\int_\\alpha^t \\mathrm f(s)g(s)\\,\\mathrm {d}s$$,$$\\alpha≤t≤\\beta$$\n",
    "则有\n",
    "$$f(t)≤Ke^{\\int_\\alpha^t \\mathrm g(s)\\,\\mathrm {d}s}$$,$$\\alpha≤t≤\\beta$$\n",
    "若由此证明教材中定理1的命题5\n",
    "\n",
    "解："
   ]
  },
  {
   "cell_type": "markdown",
   "metadata": {},
   "source": [
    "（1）K>0,令$$h(t)=K+\\int_\\alpha^t \\mathrm f(s)g(s)\\,\\mathrm {d}s$$,$$\\alpha≤t≤\\beta$$\n",
    "则$$h'(t)=f(t)g(t)≤g(t)h(t)$$\n",
    "$$\\frac{h'(t)}{h(t)}≤g(t)$$\n",
    "两边同时从$\\alpha$到t积分，得到\n",
    "$$lnh(t)-lnh(\\alpha)≤\\int_\\alpha^t \\mathrm g(s)\\,\\mathrm {d}s$$\n",
    "$$\\frac{h(t)}{h(\\alpha)}=e^{\\int_\\alpha^t \\mathrm g(s)\\,\\mathrm {d}s}$$\n",
    "当h(\\alpha)=K时，$$h(t)≤Ke^{\\int_\\alpha^t \\mathrm g(s)\\,\\mathrm {d}s}$$,$$\\alpha≤t≤\\beta$$\n",
    "证毕\n",
    "\n",
    "（2）K=0,对任意$\\eta>0$\n",
    "由于$$f(t)≤\\int_\\alpha^t \\mathrm f(s)g(s)\\,\\mathrm {d}s$$\n",
    "易知\n",
    "$$f(t)≤\\eta+\\int_\\alpha^t \\mathrm f(s)g(s)\\,\\mathrm {d}s$$\n",
    "由（1）可知，$$f(t)≤\\eta e^{\\int_\\alpha^t \\mathrm g(s)\\,\\mathrm {d}s}$$\n",
    "当$\\eta\\to 0$时，$$f(t)≤0$$\n",
    "证毕\n",
    "（3）证明命题5\n",
    "设H(y),G(y)为方程\n",
    "$$\n",
    "\\begin{cases}\n",
    "x'=f(y,x)\\\\\n",
    "x(y_0)=x_0\\\\\n",
    "\\end{cases}\n",
    "$$\n",
    "的两个解\n",
    "易知\n",
    "$$H(y)=x_0+\\int_{y_0}^y \\mathrm f(x,H(\\xi))\\,\\mathrm {d}\\xi$$\n",
    "$$G(y)=x_0+\\int_{y_0}^y \\mathrm f(x,G(\\xi))\\,\\mathrm {d}\\xi$$\n",
    "$$|H(y)-G(y)|≤\\int_{y_0}^y \\mathrm |f(x,H(\\xi))-f(x,G(\\xi))|\\,\\mathrm {d}\\xi$$\n",
    "由利普希茨条件$$\\int_{y_0}^y \\mathrm |f(x,H(\\xi))-f(x,G(\\xi))|\\,\\mathrm {d}\\xi≤L\\int_{y_0}^y \\mathrm |H(\\xi)-G(\\xi)|\\,\\mathrm {d}\\xi$$\n",
    "由Gronwall不等式得，$$0≤|H(y)-G(y)|≤0$$\n",
    "$$H(y)=G(y)$$\n",
    "证毕"
   ]
  },
  {
   "cell_type": "markdown",
   "metadata": {},
   "source": [
    "8.如果函数f(x,y)于带域$\\alpha≤x≤\\beta$上连续且关于y满足利普茨希条件，则教材中方程（3.1）满足调价y(x_0)=y_0的解与整个区间$[\\alpha,\\beta]$上存在且唯一，试证明之。（$M=\\max\\limits_{x\\in{[\\alpha,\\beta]}}\\{f(x,y_0)\\}$）"
   ]
  },
  {
   "cell_type": "markdown",
   "metadata": {},
   "source": [
    "解：\n",
    "先求积分方程的$y=y_0+\\int_{x_0}^x \\mathrm f(x,y_0）\\,\\mathrm {d}x$的解\n",
    "取$$y_0(x)=y_0$$\n",
    "$$y_1(x)=y_0+\\int_{x_0}^x \\mathrm f(\\xi,y_0(\\xi))\\,\\mathrm {d}\\xi$$\n",
    "$$……$$\n",
    "$$y_n(x)=y_0+\\int_{x_0}^x \\mathrm f(\\xi,y_{n-1}(\\xi))\\,\\mathrm {d}\\xi$$\n",
    "$$……$$\n",
    "∴$$y_n(x)存在且连续$$\n",
    "取$M=\\max\\limits_{x\\in{[\\alpha,\\beta]}}\\{f(x,y_0)\\}$\n",
    "$$y_1(x)-y_0=\\int_{x_0}^x \\mathrm f(\\xi,y_0(\\xi))\\,\\mathrm {d}\\xi$$\n",
    "$$y_2(x)-y_0=\\int_{x_0}^x \\mathrm f(\\xi,y_1(\\xi))-f(\\xi,y_0(\\xi))\\,\\mathrm {d}\\xi$$\n",
    "$$y_1(x)-y_0≤M|x-x_0|$$\n",
    "$$y_2(x)-y_0≤L\\int_{x_0}^x \\mathrm y_1(\\xi)-y_0(\\xi)\\,\\mathrm {d}\\xi≤L\\int_{x_0}^x \\mathrm M\\xi-x_0\\,\\mathrm {d}\\xi=\\frac{ML(x-x_0)^2}{2!}$$\n",
    "运用数学归纳法\n",
    "$$|y_k(x)-y_{k-1}(x)|≤\\frac{ML^{k-1}(x-x_0)^k}{k!}≤\\frac{ML^{k-1}(\\beta-\\alpha)^k}{k!}$$\n",
    "\n",
    "$$\\frac{ML^{k-1}(\\beta-\\alpha)^k}{k!}是正项收敛级数\\sum_{k=1}^{\\infty}\\frac{ML^{k-1}(\\beta-\\alpha)^k}{k!}的一般项$$\n",
    "\n",
    "由weierstress判别法，易知$\\frac{ML^{k-1}(\\alpha-\\beta)^k}{k!}$在$[\\alpha,\\beta]$上一致连续\n",
    "\n",
    "设$\\lim\\limits_{n\\to ∞}\\{y_0\\}=y(x)$\n",
    "$则y(x)在[\\alpha,\\beta]上连续$\n",
    "对$y_n(x)=y_0+\\int_{x_0}^x \\mathrm f(\\xi,y_{n-1}(\\xi))\\,\\mathrm {d}\\xi$两边同时求导\n",
    "得到，$$y(x)=y_0+\\int_{x_0}^x \\mathrm f(\\xi,y_0(\\xi))\\,\\mathrm {d}\\xi$$\n",
    "证明了解的存在性"
   ]
  },
  {
   "cell_type": "markdown",
   "metadata": {},
   "source": [
    "# <font color='red'>唯一性？？"
   ]
  },
  {
   "cell_type": "markdown",
   "metadata": {},
   "source": [
    "10.给定积分方程$$\\phi(x)=f(x)+\\lambda\\int_b^a \\mathrm K(x,\\xi)\\phi(\\xi)\\,\\mathrm {d}\\xi$$其中f(x)是[a,b]上的已知连续函数，$K(x,\\xi)$是$a≤x≤b,a≤\\xi≤b$上的已知连续函数，证明当$|\\lambda|$足够小时（$\\lambda$是常数），（*）在[a,b]上存在唯一的连续解.$(提示：作逐步逼近函数序列)\\phi_0(x)=f(x),\\phi_{n+1}=f(x)+\\lambda\\int_b^a \\mathrm K(x,\\xi)\\phi(\\xi)\\,\\mathrm {d}\\xi$"
   ]
  },
  {
   "cell_type": "markdown",
   "metadata": {},
   "source": [
    "解：取$$\\phi_0(x)=f(x）$$\n",
    "$$\\phi_1(x)=f(x）+\\lambda\\int_b^a \\mathrm k(x,\\xi)\\phi_0(\\xi)\\,\\mathrm {d}\\xi$$\n",
    "$$……$$\n",
    "$$\\phi_{n+1}(x)=f(x）+\\lambda\\int_b^a \\mathrm k(x,\\xi)\\phi_n(\\xi)\\,\\mathrm {d}\\xi$$\n",
    "令$M=\\max\\limits_{x\\in{[\\alpha,\\beta]}}\\{f(x)\\}$\n",
    "$L=\\max\\limits_{x\\in{[a,b]},\\xi\\in{[a,b]}}\\{f(x,y_0)\\}$\n",
    "$|\\phi_1(x)-\\phi_0(x)|=|\\lambda\\int_b^a \\mathrm k(x,\\xi)\\phi(\\xi)\\,\\mathrm {d}\\xi|$\n",
    "$$≤|\\lambda|\\int_b^a \\mathrm |k(x,\\xi)||\\phi(\\xi)|\\,\\mathrm {d}\\xi$$\n",
    "$$≤\\lambda|ML(b-a)$$\n",
    "运用数学归纳法\n",
    "设$|\\phi_{n+1}(x)-\\phi_n(x)|≤|\\lambda|^kL^kM(b-a)^k$成立，\n",
    "$$\\phi_{n+1}(\\xi)-\\phi_n(\\xi)=|\\lambda\\int_b^a \\mathrm k(x,\\xi)（\\phi_{n+1}(\\xi)-\\phi_n(\\xi)\\,\\mathrm {d}\\xi|$$\n",
    "$$\\phi_{n+1}(\\xi)-\\phi_n(\\xi)≤|\\lambda|\\int_b^a \\mathrm |k(x,\\xi)||（\\phi_{n+1}(\\xi)-\\phi_n(\\xi)|\\,\\mathrm {d}\\xi|$$\n",
    "$$\\phi_{n+1}(\\xi)-\\phi_n(\\xi)≤|\\lambda|\\int_b^a \\mathrm L^{k+1}|\\lambda|^kM(b-a)^k\\,\\mathrm {d}\\xi|$$\n",
    "$$\\phi_{n+1}(\\xi)-\\phi_n(\\xi)=|\\lambda|^{k+1}M(b-a)^{k+1}$$\n",
    "综上可知$|\\phi_{n+1}(x)-\\phi_n(x)|≤ML^n|\\lambda|^nM(b-a)^n$\n",
    "\n",
    "由于$|\\phi_k(x)-\\phi_{k-1}(x)|≤ML^k|\\lambda|^kM(b-a)^k$\n",
    "\n",
    "当$|\\lambda|=\\frac{1}{(b-a)L}$时，级数$\\sum_{k=1}^{\\infty}ML^k|\\lambda|^kM(b-a)^k$收敛\n",
    "\n",
    "当$|\\lambda|<\\frac{1}{(b-a)L}$时，级数$\\sum_{k=1}^{\\infty}ML^k|\\lambda|^kM(b-a)^k$一致收敛\n",
    "\n",
    "$设极限函数为\\psi(x)$\n",
    "\n",
    "当$n\\to ∞$对$\\phi_{n+1}(x)=f(x）+\\lambda\\int_b^a \\mathrm k(x,\\xi)\\phi_n(\\xi)\\,\\mathrm {d}x$两边取极限\n",
    "\n",
    "$\\psi(x)=f(x）+\\lambda\\int_b^a \\mathrm k(x,\\xi)\\phi^*(\\xi)\\,\\mathrm {d}\\xi(|\\lambda|<\\frac{1}{(b-a)L})$\n",
    "\n",
    "所以积分方程存在连续解\n",
    "\n",
    "若方程的解不是唯一的，则方程有两个解：$\\phi_1(x)和\\phi(x)，\\phi_1(x)≠\\phi(x)$\n",
    "\n",
    "$$\\phi_1（x）=f(x)+\\lambda\\int_b^a \\mathrm k(x,\\xi)\\phi_1(\\xi)\\,\\mathrm {d}\\xi$$\n",
    "\n",
    "设$H=\\max\\limits_{x\\in{[a,b]}}\\{|\\phi_1（x）-\\phi（x）|\\}>0$\n",
    "\n",
    "$$|\\phi_1（x）-\\phi（x）|=|\\lambda\\int_b^a \\mathrm k(x,\\xi)（\\phi_1(\\xi)-\\phi(\\xi)\\,\\mathrm {d}\\xi$$\n",
    "$$≤|\\lambda|L\\int_b^a \\mathrm |（\\phi_1(\\xi)-\\phi(\\xi)|\\,\\mathrm {d}\\xi|=|\\lambda|HL(b-a)$$\n",
    "$$H≤|\\lambda|HL(b-a)$$\n",
    "$$|\\lambda|≥\\frac{1}{(b-a)L}与|\\lambda|<\\frac{1}{(b-a)L}矛盾$$\n",
    "证毕"
   ]
  },
  {
   "cell_type": "markdown",
   "metadata": {
    "collapsed": true
   },
   "source": [
    "# <font color='red'>A  11/10"
   ]
  },
  {
   "cell_type": "code",
   "execution_count": null,
   "metadata": {
    "collapsed": true
   },
   "outputs": [],
   "source": []
  }
 ],
 "metadata": {
  "kernelspec": {
   "display_name": "SageMath 7.3",
   "language": "",
   "name": "sagemath"
  },
  "language_info": {
   "codemirror_mode": {
    "name": "ipython",
    "version": 2
   },
   "file_extension": ".py",
   "mimetype": "text/x-python",
   "name": "python",
   "nbconvert_exporter": "python",
   "pygments_lexer": "ipython2",
   "version": "2.7.10"
  }
 },
 "nbformat": 4,
 "nbformat_minor": 0
}
