{
 "cells": [
  {
   "cell_type": "markdown",
   "metadata": {},
   "source": [
    "**P88 3、求初值问题\n",
    "$$\n",
    "\\begin{cases}\n",
    "\\frac{dy}{dx}=x^2-y^2,R:|x+1|≤1,|y|≤1,\\\\\n",
    "y(-1)=0\n",
    "\\end{cases}\n",
    "$$\n",
    "的解存在区间，并求第二次近似解，给出在解的存在区间的误差估计。**"
   ]
  },
  {
   "cell_type": "markdown",
   "metadata": {},
   "source": [
    "**解：**\n",
    "\n",
    "这里$$h=min(a,\\frac{b}{M}),M=4，$$\n",
    "\n",
    "$$取a=1,\\frac{b}{M}=\\frac{1}{4}中的最小值，所以h=\\frac{1}{4}$$\n",
    "\n",
    "$$∵\\frac{\\partial f}{\\partial y}=|-2y|≤2,$$\n",
    "\n",
    "$$∵在R上函数$f(x,y)=x^2-y^2的lipschitz常数为$L=2.$$\n",
    "\n",
    "$$ψ_0(x)=0$$\n",
    "\n",
    "$$ψ_1(x)=\\int_{-1}^x (t^2-[ψ_0(t)]^2)=\\frac{x^3}{3}+\\frac{1}{3}$$\n",
    "\n",
    "$$ψ_2(x)=\\int_{-1}^x (t^2-[ψ_1(t)]^2) d t=\\frac{x^3}{3}-\\frac{x}{9}-\\frac{x^4}{18}-\\frac{x^7}{63}+\\frac{11}{42}$$\n",
    "\n",
    "∴由误差估计公式得$$|ψ_2(x)-ψ(x)|≤\\frac{16}{3!}(\\frac{1}{4})^3=\\frac{1}{24}$$\n",
    "\n",
    "则初值问题的解的存在区间为$$-\\frac{5}{4}≤x≤-\\frac{3}{4}$$\n",
    "\n",
    "第二次近似解为$$y_2=\\frac{x^3}{3}-\\frac{x}{9}-\\frac{x^4}{18}-\\frac{x^7}{63}+\\frac{11}{42}$$\n",
    "\n",
    "在解的存在区间的误差为$$|y-y_2|≤\\frac{1}{24}$$\n"
   ]
  },
  {
   "cell_type": "markdown",
   "metadata": {},
   "source": [
    "**8、如果函数f(x,y)于带域α≤x≤β上连续且关于y满足利普希条件，且方程(3.1)满足条件$y(x_0)=y_0$的解于整个区间[α,β]上存在且唯一，试证明之。**\n"
   ]
  },
  {
   "cell_type": "markdown",
   "metadata": {},
   "source": [
    "**解：**\n",
    "$$取\n",
    "\\begin{cases}\n",
    "y_0(x)=y_0\\\\\n",
    "y_n(x)=y_0+\\int_{x_0}^x f(ξ,φ_{n-1}(ξ)) d x\n",
    "\\end{cases}\n",
    "$$\n",
    "\n",
    "$则函数y_n(x)在α≤x≤β上存在且连续,$\n",
    "\n",
    "取$$M=max|f(x,y_0)|$$\n",
    "因为$$|y_1(x)-y_0|≤\\int_{x_0}^x |f(ξ,y_0(ξ))| d ξ≤M(x-x_0)$$\n",
    "\n",
    "$$|y_2(x)-y_1|≤\\int_{x_0}^x |f(ξ,y_1(ξ))-f(ξ,y_0(ξ))| dξ$$\n",
    "\n",
    "所以可得到$$|y_2(x)-y_1|≤L\\int_{x_0}^x M|ξ-X_0| d ξ=\\frac{ML}{2!}(x-x_0)^2$$\n",
    "由数学归纳法可证：$$|y_n(x)-y_{n-1}(x)|≤\\frac{ML^{n-1}(β-α)^n}{n!}$$\n",
    "\n",
    "$$又|y_{n+1}(x)-y_n(x)|≤|\\int_{x_0}^x |f(ξ,y_n(ξ))-f(ξ,y_{n-1}(ξ))| d ξ|≤\\frac{ML^n(β-α)^{n+1}}{(n+1)!}$$\n",
    "\n",
    "易知$$y_n(x)=y_0(x)+∑[y_k(x)-y_{n-1}(x)]在区间[α,β]一致收敛，于是存在极限y(x)$$\n",
    "\n",
    "$$y(x)=y_0+\\int_{x_0}^x f(ξ,y(ξ)) d ξ,所以φ(x)是微分方程的解$$\n",
    "\n",
    "设y(x)，ψ(x)均满足积分方程$$y=y_0+\\int_{x_0}^x f(ξ,y(ξ)) d ξ,α≤x_0≤β,α≤x≤β$$\n",
    "\n",
    "$当x≥x_0时$，格朗沃日不等式，有$$|y(x)-ψ(x)|≤\\int_{x_0}^x |f(s,y(s))-f(s,ψ(s))| d s≤L\\int_{x_0}^x |y(x)-ψ(x)| d s$$\n",
    "\n",
    "$$有|y(x)-ψ(x)|≤0,即y(x)≡ψ(x)（α≤x_0≤x≤β）。$$\n",
    "\n",
    "同理可证$$α≤x≤x_0≤β时有y(x)≡ψ(x)$$\n",
    "\n",
    "$$即积分方程也就是微分方程的解是唯一的$$"
   ]
  },
  {
   "cell_type": "markdown",
   "metadata": {
    "collapsed": true
   },
   "source": [
    "**$6.证明格朗沃日不等式：$**\n",
    "**设K是非负常数，f(t)和g(t)为在区间α≤t≤β上的连续非负函数，且满足不等式$$f(t)≤K+\\int_{α}^t f(s)g(s) d s,α≤t≤β$$**\n",
    "**则有$$f(t)≤Kexp(\\int_{α}^t g(s) d s),α≤t≤β$$并由此证明定理1的命题5**"
   ]
  },
  {
   "cell_type": "markdown",
   "metadata": {},
   "source": [
    "**证明：**\n",
    "\n",
    "$当K>0时，$令$$y(t)=K+\\int_{α}^t f(s)g(s) d s,$$\n",
    "\n",
    "则$$y'(t)=f(t)g(t)≤g(t)y(t)$$\n",
    "\n",
    "∵$$y(t)>0$$∴$$\\frac{y'(t)}{y(t)}≤g(t),$$\n",
    "\n",
    "$两边从α到t积分得$$$lny(t)-lny(α)≤\\int_{α}^t g(s) d s$$\n",
    "\n",
    "即有$$\\frac{y(t)}{y(α)}≤exp(\\int_{α}^t g(s) d s),y(α)=K>0$$\n",
    "\n",
    "所以$$y(t)≤K·exp(\\int_{α}^t g(s) d s),$$\n",
    "\n",
    "即有$$f(t)≤y(t)≤K·exp(\\int_{α}^t g(s) d s),α≤t≤β$$"
   ]
  },
  {
   "cell_type": "markdown",
   "metadata": {},
   "source": [
    "$当K=0时，对任意ε>0,$\n",
    "\n",
    "$$∵f(t)≤\\int_{α}^t f(s)g(s) d s,$$\n",
    "$$∴f(t)≤ε+\\int_{α}^t f(s)g(s) d s$$\n",
    "\n",
    "由(1),可得$$f(t)≤ε·exp(\\int_{α}^t g(s) d s),$$\n",
    "\n",
    "当ε趋向于0时，有$$f(t)≤0$$\n",
    "\n",
    "$又因为f(t)≥0,所以f(t)=0,$\n",
    "\n",
    "所以$$f(t)≤K·exp(\\int_{α}^t g(s) d s),α≤t≤β$$\n",
    "\n",
    "$由（1）（2）得，格朗沃日不等式成立$"
   ]
  },
  {
   "cell_type": "markdown",
   "metadata": {},
   "source": [
    "**下面证明定理1的命题5：**\n",
    "\n",
    "$设初值问题x'=f(t,x),x(t_0)=x_0的两个解为φ(t),ψ(t)，则有$\n",
    "\n",
    "$$φ(t)=x_0+\\int_{t_0}^t f(ξ,φ(ξ)) d ξ,$$$$ψ(t)=x_0+\\int_{t_0}^t f(ξ,ψ(ξ)) d ξ$$\n",
    "\n",
    "所以$$|φ(t)-ψ(t)|≤\\int_{t_0}^t |f(ξ,φ(ξ))-f(ξ,ψ(ξ))| d ξ≤L\\int_{t_0}^t |φ(ξ)-ψ(ξ)| d ξ$$\n",
    "\n",
    "$由格朗沃日不等式知K=0且0≤|φ(t)-ψ(t)|≤K exp(\\int_{t_0}^t L d ξ)=0$\n",
    "\n",
    "$所以φ(t)=ψ(t)，命题证得$"
   ]
  },
  {
   "cell_type": "markdown",
   "metadata": {},
   "source": [
    "**10、给定积分方程$$φ(x)=f(x)+λ\\int_{a}^b K(x,ξ)φ(ξ) d ξ$$其中f(x)是[a,b]上已知连续函数，K(x,ξ)是a≤x≤b,a≤ξ≤b上的已知连续函数。证明：当|λ|足够小时，上述方程在[a,b]上存在唯一的连续解。**"
   ]
  },
  {
   "cell_type": "markdown",
   "metadata": {},
   "source": [
    "**证明：**\n",
    "\n",
    "$作逐步逼近函数序列，$$φ_0(x)=f(x),$$\n",
    "\n",
    "令$$φ_1(x)=f(x)+λ\\int_{a}^b K(x,ξ)φ_0(ξ) d ξ$$,$$…$$\n",
    "\n",
    "$$φ_{n+1}(x)=f(x)+λ\\int_{a}^b K(x,ξ)φ_n(ξ) d ξ$$,$$…$$\n",
    "\n",
    "$令M=max|f(x)|,L=max|K(x,ξ)|>0,则$\n",
    "\n",
    "$$|φ_1(x)-φ_0(x)|=|λ\\int_{a}^b K(x,ξ)φ_0(ξ) d ξ|≤|λ|\\int_{a}^b |K(x,ξ)||f(ξ)| d ξ≤|λ|ML(b-a)$$\n",
    "\n",
    "设$$|φ_{k+1}(x)-φ_k(x)|=|λ\\int_{a}^b K(x,ξ)(φ_k(ξ)-φ_{k-1}(ξ)) d ξ|≤|λ|^{k+1}L^{k+1}M(b-a)^{k+1}$\n",
    "\n",
    "$由数学归纳法，对任意的n∈N,$有$$|φ_n(x)-φ_{n-1}(x)|≤ML^n|λ|^n(b_a)^n$$\n",
    "\n",
    "\n",
    "\n",
    "$由于|φ_k(x)-φ_{k-1}(x)|≤ML^k|λ|^k(b-a)^k$\n",
    "\n",
    "$当|λ|<\\frac{1}{(b-a)L}时，∑ML^k|λ|^k(b-a)^k收敛$\n",
    "\n",
    "$所以，当|λ|<\\frac{1}{(b-a)L}时，φ_0(x)+∑ML^k|λ|^k(b-a)^k在[a,b]上一致收敛,即{φ_n(x)}在[a,b]上一致收敛$\n",
    "\n",
    "$设其极限函数为φ'(x),x∈[a,b]，当n→∞时φ_n(x)一致收敛于φ'(x)，且由φ_n(x)的连续性可知φ'(x)在[a,b]上连续$\n",
    "\n",
    "$所以当|λ|<\\frac{1}{(b-a)L}时，积分方程必存在连续解$\n",
    "\n",
    "$设另有解φ\"(x)且φ'(x)≠φ\"(x)，$即$$φ\"(x)=f(x)+λ\\int_{a}^b K(x,ξ)φ\"(x) d ξ$\n",
    "\n",
    "$设M'=max|φ'(x)-φ\"(x)|>0$\n",
    "\n",
    "$|φ'(x)-φ\"(x)|=|λ\\int_{a}^b K(x,ξ)(φ'(x)-φ\"(x)) d ξ|≤|λ|\\int_{a}^b L|φ'(x)-φ\"(x)| d ξ=|λ|M'L(b-a)$\n",
    "\n",
    "$即有M'≤|λ|M'L(b-a).因为M'>0$\n",
    "\n",
    "$所以，|λ|≥\\frac{1}{(b-a)L}，与|λ|<\\frac{1}{(b-a)L}矛盾，所以唯一性成立$\n",
    "\n",
    "$综上，证毕$"
   ]
  },
  {
   "cell_type": "markdown",
   "metadata": {
    "collapsed": true
   },
   "source": [
    "# <font color='red'>A  11/10"
   ]
  },
  {
   "cell_type": "code",
   "execution_count": null,
   "metadata": {
    "collapsed": true
   },
   "outputs": [],
   "source": []
  }
 ],
 "metadata": {
  "kernelspec": {
   "display_name": "SageMath 7.3",
   "language": "",
   "name": "sagemath"
  },
  "language_info": {
   "codemirror_mode": {
    "name": "ipython",
    "version": 2
   },
   "file_extension": ".py",
   "mimetype": "text/x-python",
   "name": "python",
   "nbconvert_exporter": "python",
   "pygments_lexer": "ipython2",
   "version": "2.7.10"
  }
 },
 "nbformat": 4,
 "nbformat_minor": 0
}
