{
 "cells": [
  {
   "cell_type": "markdown",
   "metadata": {},
   "source": [
    "### 3.求初值问题\n",
    "$$\\begin{cases}\\frac{dy}{dx}=x^2-y^2,R:|x+1|\\le1,|y|\\le1,\\\\y(-1)=0\\end{cases}$$\n",
    "的解的存在区间，并求第二次近似解，给出在解的存在区间的误差估计"
   ]
  },
  {
   "cell_type": "markdown",
   "metadata": {},
   "source": [
    "**解：**这里$M=\\max \\limits_{(x,y)\\in R}\\{f(x)\\}$,h取$a=1$及$\\frac{b}{M}=\\frac{1}{4}$二数中的最小者，故$h=\\frac{1}{4}$,在R上函数$f(x,y)=x^2-y^2$的利普希茨常数可取为$L=2$,因为\n",
    "$$|\\frac{\\partial f}{\\partial y}|=|-2y|\\le2=L$$\n",
    "根据(3.19)$$|\\phi_2(X)-\\phi(X)|\\le\\frac{ML^2}{(n+1)!}h^{n+1}=\\frac{4}{3!}2^2(\\frac{1}{4})^3=\\frac{1}{24}$$\n",
    "因而可取$n=3$.事实上，$\\frac{1}{(n+1)!}=\\frac{1}{24}<0.05$，我们可以作出如下的近似表达式\n",
    "$$\\begin{aligned}\\phi_0(x)&=0,\\\\\\phi_1(x)&=\\int_{-1}^x\\mathrm (t^2-\\phi_0^2(t))\\,\\mathrm{d}t=\\frac{x^3}{3}+\\frac{1}{3},\\\\\\phi_2(x)&=\\int_{-1}^x\\mathrm (t^2-\\phi_1^2(t))\\,\\mathrm{d}t=\\frac{x^3}{3}-\\frac{x}{9}-\\frac{x^4}{18}-\\frac{x^7}{63}+\\frac{11}{42},\\end{aligned}$$\n",
    "$\\phi_2(x)=\\frac{x^3}{3}-\\frac{x}{9}-\\frac{x^4}{18}-\\frac{x^7}{63}+\\frac{11}{42}$就是所求的近似解，在区间$-\\frac{5}{4}\\le{x}\\le-\\frac{3}{4}$上这个解与真正解的误差估计为$\\frac{1}{24}$"
   ]
  },
  {
   "cell_type": "markdown",
   "metadata": {},
   "source": [
    "### 6.证明格朗沃尔不等式：\n",
    "设 K为非负常数，$f(t)$和$g(t)$为在区间$\\alpha\\le{t}\\le{beta}$上的连续非负函数，且满足不等式\n",
    "$${f(t)}\\le{K+\\int_{alpha}^{t}\\mathrm f(s)g(s)\\,\\mathrm{d}s},  {\\alpha}\\le{t}\\le{\\beta}$$\n",
    "则有\n",
    "$${f(t)}\\le{Kexp(int_{alpha}^{t}\\mathrm g(s)\\,\\mathrm{d}s},    {\\alpha}\\le{t}\\le{\\beta}$$\n",
    "由此证明定理1的命题5"
   ]
  },
  {
   "cell_type": "markdown",
   "metadata": {},
   "source": [
    "**证明：**当$K>0$时令$$\\omega(t)=K+\\int_a^t\\mathrm{f(s)g(s)}\\mathrm{d}s$$\n",
    "则$$\\omega'(t)=f(t)g(t)\\le g(t)\\omega(t)$$\n",
    "由$\\omega(t)>0$可得$$\\frac{\\omega'(t)} {\\omega(t)}\\le g(t)$$\n",
    "对其两边从a到t积分得$$ln\\omega(t)-ln\\omega(\\alpha)\\le \\int_a^t\\mathrm{g(s)}\\mathrm{d}s$$\n",
    "即，$$\\frac{\\omega(t)} {\\omega(\\alpha)}\\le exp(\\int_a^t\\mathrm{g(s)}\\mathrm{d}s)   ,\\omega(\\alpha)=K>0$$\n",
    "所以，$$\\omega(t)\\le Kexp(\\int_a^t\\mathrm{g(s)}\\mathrm{d}s)$$\n",
    "$$f(t)\\le \\omega(t)\\le Kexp(\\int_a^t\\mathrm{g(s)}\\mathrm{d}s)，\\alpha \\le t\\le \\beta$$\n",
    "当$K=0$时，对$\\forall \\epsilon>0$\n",
    "因为$$f(t)\\le \\int_a^t\\mathrm{f(s)g(s)}\\mathrm{d}s$$\n",
    "所以$$f(t)\\le \\epsilon +\\int_a^t\\mathrm{f(s)g(s)}\\mathrm{d}s$$\n",
    "由上一种情况的结论知$$f(t)\\le \\epsilon exp(\\int_a^t\\mathrm{g(s)}\\mathrm{d}s)$$\n",
    "当$\\epsilon \\rightarrow 0^{+}$时，有$f(t)\\le 0$ ， 又因为$f(t)\\ge 0$， 所以 $f(t)=0$从而$$f(t)\\le Kexp(\\int_a^t\\mathrm{f(s)g(s)}\\mathrm{d}s)，\\alpha \\le t\\le \\beta$$\n",
    "综上所述，格朗沃尔不等式成立。下证命题5.\n",
    "设$\\phi (t),\\psi(t)$是初值问题$x'=f(t,x)$ , $x(t_0)=x_0$的两个解\n",
    "则$$\\phi(t)=x_0+\\int_{t_0}^t\\mathrm{f(\\xi,\\phi(\\xi))}\\mathrm{d}\\xi$$$$\\psi(t)=x_0+\\int_{t_0}^t\\mathrm{f(\\xi,\\psi(\\xi))}\\mathrm{d}\\xi$$\n",
    "那么\n",
    "$$\\begin{aligned}|\\phi(t)-\\psi(t)|&\\le \\int_{t_0}^t\\mathrm{|f(\\xi,\\phi(\\xi))-f(\\xi,\\psi(\\xi))|}\\mathrm{d}\\xi\\\\&\\le L\\int_{t_0}^t\\mathrm{|\\phi(\\xi)-\\psi(\\xi)|}\\mathrm{d}\\xi\n",
    "\\end{aligned}$$\n",
    "其中L为利普希茨条件，由格朗沃尔不等式知$$0\\le |\\phi(\\xi)-\\psi(\\xi)|\\le 0$$\n",
    "所以$$\\phi(\\xi)=\\psi(\\xi)$$\n",
    "定理得证"
   ]
  },
  {
   "cell_type": "markdown",
   "metadata": {},
   "source": [
    "### 8.如果函数f(x,y)于带域$\\alpha \\le x\\le \\beta$上连续且关于y满足利普希茨条件，则教材中方程（3.1）满足条件$y(x_0)=y_0$的解于整个区间$[\\alpha,\\beta]$上存在且唯一，试证明之。"
   ]
  },
  {
   "cell_type": "markdown",
   "metadata": {},
   "source": [
    "**解：**方程（3.1）满足条件$y(x_0)=y_0$的解等价于求积分方程$y=y_0+\\int_{x_0}^x\\mathrm{f(x,y)}\\mathrm{d}x$ , $x\\in[\\alpha,\\beta]$的连续解，所以下证解的存在唯一性即可\n",
    "\n",
    "  存在性：\n",
    "  \n",
    "  取$$y_0(x)=y_0$$\n",
    "$$y_1(x)=y_0+\\int_{x_0}^x\\mathrm{f(\\omega,y_0(\\omega))}\\mathrm{d}\\omega$$\n",
    "$$\\cdots$$\n",
    "$$y_n(x)=y_0+\\int_{x_0}^x\\mathrm{f(\\omega,y_{n-1}(\\omega))}\\mathrm{d}\\omega$$\n",
    "得到$y_n(x)$在$\\alpha \\le x\\le \\beta$上存在且连续，下证函数列${y_n(x)}$在$\\alpha \\le x\\le \\beta$一致收敛\n",
    "取$M=max|f(x,y_0)|$,得到$$|y_1(x)-y_0(x)|\\le \\int_{x_0}^x\\mathrm{|f(\\omega,y_0(\\omega))|}\\mathrm{d}\\omega\\le M|x-x_0|$$\n",
    "$$|y_2(x)-y_1(x)|\\le \\int_{x_0}^x\\mathrm{|f(\\omega,y_1(\\omega))-f(\\omega,y_0(\\omega))|}\\mathrm{d}\\omega$$\n",
    "利用利普希茨条件及上式得到\n",
    "$$\\begin{aligned}|y_2(x)-y_1(x)|&\\le L\\int_{x_0}^x\\mathrm{|y_1(\\omega)-y_0(\\omega)|}\\mathrm{d}\\omega\\\\&\\le L\\int_{x_0}^x\\mathrm{M|\\omega-x_0|}\\mathrm{d}\\omega=\\frac{ML} {2!}(x-x_0)^2\\end{aligned}$$\n",
    "有数学归纳法得$$|y_k(x)-y_{k-1}(x)|\\le \\frac{ML^{k-1}} {k!}|x-x_0|^k\\le \\frac{ML^{k-1}} {k!}|\\beta-\\alpha|^k$$\n",
    "知级数$y_0(x)+\\sum_{k=1}^{\\infty}[y_k(x)-y_{k-1}(x)]$在$\\alpha \\le x\\le \\beta$上一致收敛，因此，函数列${y_n(x)}$在$\\alpha \\le x\\le \\beta$一致收敛\n",
    "\n",
    "\n",
    "设$\\lim\\limits_{n \\to \\infty }{y_n(x)}=y(x)$易知y(x)在$[\\alpha,\\beta]$上连续\n",
    "\n",
    "且${f(x,y_n(x))}$在$\\alpha \\le x\\le \\beta$上一致收敛于$f(x,y(x))$.\n",
    "所以，$y(x)=y_0+\\int_{x_0}^x\\mathrm{f(\\omega,y(\\omega))}\\mathrm{d}\\omega$,解得存在性得证\n",
    "\n",
    "唯一性：\n",
    "假设$\\psi(x)$是方程$y=y_0+\\int_{x^x_0}\\mathrm{f(x,y)}\\mathrm{d}x$的一连续解，现证明$\\psi(x)$也是序列$|{y_n(X)}|$的一致收敛极限函数\n",
    "$$y_0(x)=y_0$$\n",
    "$$y_n(x)=y_0+\\int_{x_0}^x\\mathrm{f(\\omega,y_{n-1}(\\omega))}\\mathrm{d}\\omega$$\n",
    "$$\\psi(x)=y_0+\\int_{x_0}^x\\mathrm{f(\\omega,\\psi(\\omega))}\\mathrm{d}\\omega$$\n",
    "可进行如下\n",
    "$$|y_0(x)-\\psi(x)|\\le \\int_{x_0}^x\\mathrm{|f(\\omega,\\psi(\\omega))|}\\mathrm{d}\\omega\\le M|x-x_0|$$\n",
    "$$\\begin{aligned}|y_1(x)-\\psi(x)|&\\le \\int_{x_0}^x\\mathrm{|f(\\omega,y_0(\\omega)-f(\\omega,\\psi(\\omega))|}\\mathrm{d}\\omega\\\\&\\le L\\int_{x_0}^x\\mathrm{|y_0(\\omega)-\\psi(\\omega)|}\\mathrm{d}\\omega\\\\&\\le ML\\int_{x_0}^x\\mathrm{|\\omega-x_0|}\\mathrm{d}\\omega=\\frac{ML} {2!}(x-x_0)^2\\end{aligned}$$\n",
    "现设$|y_{n-1}(x)-\\omega(x)|\\le \\frac{ML^{n-1}}{n!}(x-x_0)^n$，得到\n",
    "$$\\begin{aligned}|y_{n-1}(x)-\\omega(x)|&\\le \\int_{x_0}^x\\mathrm{|f(\\omega,y_{n-1}(\\omega)-f(\\omega,\\psi(\\omega))|}\\mathrm{d}\\omega\\\\&\\le L\\int_{x_0}^x\\mathrm{|y_{n-1}(\\omega)-\\psi(\\omega)|}\\mathrm{d}\\omega\\\\&\\le\\frac{ML^n}{n!}\\int_{x_0}^x\\mathrm{(\\omega-x_0)^n}\\mathrm{d}\\omega&=\\frac{ML^n}{(n+1)!}(x-x_0)^{n+1}\\end{aligned}$$\n",
    "数学归纳法得到$$|y_n(x)-\\omega(x)|\\le \\frac{ML^{n}} {(n+1)!}(\\beta-\\alpha)^{(n+1)}$$\n",
    "$\\frac{ML^{n}} {(n+1)!}(\\beta-\\alpha)^{(n+1)}$是收敛级数，当n无穷大时，极限为0，也就是说${y_n(x)}$一致收敛于$\\psi(x)$\n",
    "唯一性的证"
   ]
  },
  {
   "cell_type": "markdown",
   "metadata": {},
   "source": [
    "### 10.给定积分方程$\\phi(x)=f(x)+\\lambda\\int_a^b\\mathrm{K(x,\\xi)\\phi(\\xi)}\\mathrm{d}\\xi$，其中f(x)是[a,b]上的已知连续函数，$K(x,\\xi)$是$a\\le x\\le b$, $a\\le\\xi\\le b$上的已知连续函数。证明当$|\\lambda|$足够小时（$\\lambda$是常数），方程在[a,b]上存在唯一的连续解。"
   ]
  },
  {
   "cell_type": "markdown",
   "metadata": {},
   "source": [
    "**解：**取$$\\phi_0(x)=f(x)$$\n",
    "令$$\\phi_1(x)=f(x)+\\lambda \\int_a^b\\mathrm{k(x,\\xi)\\phi_0(\\xi)}\\mathrm{d}\\xi$$\n",
    "$$\\cdots$$\n",
    "$$\\phi_{n+1}(x)=f(x)+\\lambda \\int_a^b\\mathrm{k(x,\\xi)\\phi_n(\\xi)}\\mathrm{d}\\xi$$\n",
    "$$\\cdots$$\n",
    "令$M=\\max \\limits_{x\\in [a,b]}\\{|f(x)|\\}$  ,  $L=\\max \\limits_{x,\\xi \\in [a,b]}\\{|k(x,\\xi)|\\}>0$\n",
    "$$\\begin{aligned}\n",
    "|\\phi_1(x)-\\phi_0(x)|&=|\\lambda \\int_a^b\\mathrm{k(x,\\xi)(\\phi_k(\\xi)-\\phi_{k-1}(\\xi))}\\mathrm{d}\\xi|\\\\&\\le|\\lambda|\\int_a^b\\mathrm{|k(x,\\xi)||f(\\xi)|}\\mathrm{d}\\xi\\\\&\\le|\\lambda|ML(b-a)\\end{aligned}$$\n",
    "假设$|\\phi_k(x)-\\phi_{k-1}(x)|\\le|\\lambda|^kL^kM(b-a)^k$成立\n",
    "$$\\begin{aligned}\n",
    "|\\phi_{k+1}(x)-\\phi_k(x)|&=|\\lambda \\int_a^b\\mathrm{k(x,\\xi)(\\phi_k(\\xi)-\\phi_{k-1}(\\xi))}\\mathrm{d}\\xi|\\\\&\\le|\\lambda|\\int_a^b\\mathrm{|k(x,\\xi)||(\\phi_k(\\xi)-\\phi_{k-1}(\\xi))|}\\mathrm{d}\\xi\\\\&\\le|\\lambda|\\int_a^b\\mathrm{L^{k+1}|\\lambda|^kM(b-a)^k}\\mathrm{d}\\xi\\\\&=|\\lambda|^{k+1}L^{k+1}M(b-a)^{k+1}\\end{aligned}$$\n",
    "有数学归纳法知，对$\\forall n \\in N$有\n",
    "$$|\\phi_n(x)-\\phi_{n-1}|\\le ML^n|\\lambda|^n(b-a)^n$$\n",
    "下证${\\phi_n(x)}$在[a,b]上一致收敛，考虑级数(*) $$\\phi_0(x)+\\sum_{k=1}^{\\infty}(\\phi_k(x)-\\phi_{k-1}(x))$$     \n",
    "该级数的前n项和为$$\\phi_0(x)+\\sum_{k=1}^{n}(\\phi_k(x)-\\phi_{k-1}(x))=\\phi_n(x)$$\n",
    "由于$$|\\phi_k(x)-\\phi_{k-1}|\\le ML^k|\\lambda|^k(b-a)^k$$\n",
    "当$|\\lambda|<\\frac{1} {(b-a)L}$时，级数$\\sum_{k=1}^{\\infty}ML^n|\\lambda|^n(b-a)^n$收敛，所以级数（*）在[a,b]上一致收敛。\n",
    "\n",
    "设极限函数为$\\phi^*(x)$\n",
    "则$$\\phi^*(x)=f(x)+\\lambda \\int_a^b\\mathrm{k(x,\\xi)\\phi^*(\\xi)}\\mathrm{d}\\xi$$\n",
    "所以此情况下积分方程必存在连续解\n",
    "下证当$|\\lambda|<\\frac{1} {(b-a)L}$时方程的解的唯一性。反证法\n",
    "\n",
    "设另有解$\\phi''(x)$且$\\phi''(x)\\not=\\phi^*(x)$ 即$$\\phi''(x)=f(x)+\\lambda \\int_a^b\\mathrm{k(x,\\xi)\\phi''(\\xi)}\\mathrm{d}\\xi$$\n",
    "令$$Q=\\max\\limits_{x\\in [a,b]}\\{|\\phi''(x)-\\phi^*(x)|\\}>0$$\n",
    "$$\\begin{aligned}\n",
    "|\\phi''(x)-\\phi^*(x)|&=|\\lambda \\int_a^b\\mathrm{k(x,\\xi)(\\phi^*(\\xi)-\\phi''(\\xi))}\\mathrm{d}\\xi|\\\\\n",
    "&\\le |\\lambda| \\int_a^b\\mathrm{L|\\phi^*(\\xi)-\\phi''(\\xi)|}\\mathrm{d}\\xi\\\\\n",
    "&=|\\lambda|QL(b-a)\n",
    "\\end{aligned}$$\n",
    "得出$$Q\\le |\\lambda|QL(b-a)$$\n",
    "又因为$Q>0$，所以$|\\lambda|\\ge \\frac{1} {(b-a)L}$，与$|\\lambda|<\\frac{1} {(b-a)L}$矛盾。\n",
    "唯一性得证"
   ]
  },
  {
   "cell_type": "markdown",
   "metadata": {
    "collapsed": true
   },
   "source": [
    "# <font color='red'>A  11/10"
   ]
  },
  {
   "cell_type": "code",
   "execution_count": null,
   "metadata": {
    "collapsed": true
   },
   "outputs": [],
   "source": []
  }
 ],
 "metadata": {
  "kernelspec": {
   "display_name": "SageMath 7.3",
   "language": "",
   "name": "sagemath"
  },
  "language_info": {
   "codemirror_mode": {
    "name": "ipython",
    "version": 2
   },
   "file_extension": ".py",
   "mimetype": "text/x-python",
   "name": "python",
   "nbconvert_exporter": "python",
   "pygments_lexer": "ipython2",
   "version": "2.7.10"
  }
 },
 "nbformat": 4,
 "nbformat_minor": 0
}
