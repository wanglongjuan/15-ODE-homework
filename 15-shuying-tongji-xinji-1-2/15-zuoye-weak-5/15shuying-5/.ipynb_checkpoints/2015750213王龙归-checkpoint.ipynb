{
 "cells": [
  {
   "cell_type": "markdown",
   "metadata": {},
   "source": [
    "三、求初值问题  \n",
    "$$\n",
    "\\begin{cases}\n",
    "\\frac{dy}{dx}=x^2-y^2,R:|x+1| \\leq 1,|y|\\leq 1\\\\\n",
    "y(-1)=0\n",
    "\\end{cases}$$\n",
    "的解得存在区间，并求第二次近似解，给出解得存在区间的误差估计。"
   ]
  },
  {
   "cell_type": "markdown",
   "metadata": {},
   "source": [
    "解：$$M=max|f(x,y)|=4,a=1,b=1$$    \n",
    "$$∴h=min{a,\\frac{b}{M}}=\\frac{1}{4}$$  \n",
    "x的解得存在区间为$\\frac{-3}{4}\\leq x\\leq\\frac{5}{4}$\n",
    "$$\\varphi_0(x)=0$$      \n",
    "$$\\varphi_1(x)=\\int^x_{-1}(t^2-\\varphi_0^2(t))dt=\\frac{x^3}{3}+\\frac{1}{3}$$  \n",
    "$$\\varphi_2(x0=\\int^x_{-1}(t^2-\\varphi_1^2(t))dt=\\frac{x^3}{3}-\\frac{x}{9}-\\frac{x^4}{18}-\\frac{x^7}{63}+\\frac{11}{42}$$  \n",
    "∴$$|\\varphi_2(x)-\\varphi(x)|\\leq\\frac{4\\times2^2}{3!}\\times(\\frac{1}{4})^3=\\frac{1}{24}$$\n"
   ]
  },
  {
   "cell_type": "markdown",
   "metadata": {},
   "source": [
    "∴二次近似解为$$\\frac{x^3}{3}-\\frac{x}{9}-\\frac{x^4}{18}-\\frac{x^7}{63}+\\frac{11}{42}$$  \n",
    "解存在的区域误差估计$$|y-y_2|\\leq\\frac{1}{24}$$"
   ]
  },
  {
   "cell_type": "markdown",
   "metadata": {},
   "source": [
    "六、证明格朗沃尔不等式；  \n",
    "设K为非负常数，f(x)和g(x)为在区间$a\\leq t\\leq \\beta$上的连续非负函数，且满足不等式  \n",
    "$$f(x)\\leq K+\\int_a^tf(s)g(s)ds,a\\leq t\\leq \\beta$$  \n",
    "则有$$f(x)\\leq Kexp(\\int_a^tg(s)ds),a\\leq t\\leq\\beta$$并证明定理1的命题五。"
   ]
  },
  {
   "cell_type": "markdown",
   "metadata": {},
   "source": [
    "证明：首先令$$w(t)=K+\\int_a^tf(s)g(s)ds$$  \n",
    "则$$w(a)=K,w'(t)=f(t)g(t)\\leq g(t)w(t)$$\n",
    "$w(t)\\geq 0$"
   ]
  },
  {
   "cell_type": "markdown",
   "metadata": {},
   "source": [
    "∴$$\\frac{w'(t)}{w(t)}\\leq g(t)$$  "
   ]
  },
  {
   "cell_type": "markdown",
   "metadata": {},
   "source": [
    "两边对[a,t]上积分可得$$lnw(t)-lnw(a)\\leq \\int_a^tg(t)dt$$  "
   ]
  },
  {
   "cell_type": "markdown",
   "metadata": {},
   "source": [
    "∴$$\\frac{w(t)}{w(a)}\\leq exp\\int_a^tg(t)dt$$"
   ]
  },
  {
   "cell_type": "markdown",
   "metadata": {},
   "source": [
    "又$w(a)=K$  \n",
    "∴$$w(t)\\leq Kexp\\int_a^tg(t)dt$$  \n",
    "当K=0时：对任意$\\epsilon>0,w(t)\\leq \\epsilon exp\\int_a^tg(t)dt$  \n",
    "当$\\epsilon\\to0 时，lim\\epsilon exp\\int_a^tg(t)dt=0$  \n",
    "此时$f(x)\\geq 0$  \n",
    "又$f(x)\\leq 0,所以f(x)=0$\n",
    "不等式得证"
   ]
  },
  {
   "cell_type": "markdown",
   "metadata": {},
   "source": [
    "命题五证明：设$\\varphi(x)$$\\psi(x)$是初值问题  \n",
    "$$\\begin{cases}\n",
    "x'=f(t,x)\\\\\n",
    "x(t_0)=y_0\n",
    "\\end{cases}$$  \n",
    "的两个解"
   ]
  },
  {
   "cell_type": "markdown",
   "metadata": {},
   "source": [
    "∵$$\\varphi(t)=y_0+\\int_a^tf(\\xi,\\varphi(\\xi))d\\xi$$  \n",
    "$$\\psi(t)=y_0+\\int_a^tf(\\xi,\\psi(\\xi))d\\xi$$"
   ]
  },
  {
   "cell_type": "markdown",
   "metadata": {},
   "source": [
    "∴$$|\\varphi(x)-\\psi(x)|=|\\int_a^tf(\\xi,\\varphi(\\xi))d\\xi-\\int_a^tf(\\xi,\\psi(\\xi))d\\xi|$$  \n",
    "$$\\leq \\int_a^t|(f(\\xi,\\varphi(\\xi))-f(\\xi,\\psi(\\xi)))|d\\xi$$  \n",
    "$$\\leq L\\int_a^t|\\varphi(x)-\\psi(x)|d\\psi$$\n",
    "其中L为利普希茨条件，又由格朗沃尔不等式可得$$|\\varphi(x)-\\psi(x)|\\leq 0$$  \n",
    "所以$$\\varphi(x)=\\psi(x)$$\n",
    "命题五得证"
   ]
  },
  {
   "cell_type": "markdown",
   "metadata": {},
   "source": [
    "8.如果函数f(x,y)于带域$\\alpha\\leq x \\leq \\beta$上连续并且关于y满足利普希茨条件，则方程（3.1）满足条件$y(x_0)=y_0$的解在整个区间$[\\alpha,\\beta]$上存在且唯一，试证明。"
   ]
  },
  {
   "cell_type": "markdown",
   "metadata": {},
   "source": [
    "证明：首先，取$M=\\displaystyle \\max_{x\\in[\\alpha,\\beta]}|f(x,y_0)|$"
   ]
  },
  {
   "cell_type": "markdown",
   "metadata": {},
   "source": [
    "求（3.1）的解等价于求积分方程$y=y_0+\\int_{x_0}^xf(x,y)dx$\n",
    "也即证明积分方程解得存在及唯一性"
   ]
  },
  {
   "cell_type": "markdown",
   "metadata": {},
   "source": [
    "取$$y_0(x)=y_0$$  \n",
    "  $$...........$$  \n",
    "  $$y_1(x)=y_0+\\int_{x_0}^xf(\\xi,y_0(\\xi)d\\xi$$  \n",
    "  $$..........$$\n",
    "  $$y_n(x)=y_0+\\int_{x_0}^xf(\\xi,y_{n-1}(\\xi)d\\xi$$"
   ]
  },
  {
   "cell_type": "markdown",
   "metadata": {},
   "source": [
    "下证函数列${y_n(x)}在\\alpha \\leq x\\leq \\beta上一致收敛$"
   ]
  },
  {
   "cell_type": "markdown",
   "metadata": {},
   "source": [
    "考察级数$$y_0(x)+\\displaystyle \\sum (y_k(x)-y_{k-1}(x)),x\\in[\\alpha,\\beta]$$"
   ]
  },
  {
   "cell_type": "markdown",
   "metadata": {},
   "source": [
    "由上式可知$$|y_1(x)-y_0|\\leq \\int_{x_0}^x|f(\\xi,y_0(\\xi)|d\\xi$$\n",
    "$$\\leq M|x-x_0|$$"
   ]
  },
  {
   "cell_type": "markdown",
   "metadata": {},
   "source": [
    "然后$$|y_2(x)-y_1|\\leq \\int_{x_0}^x|f(\\xi,y_1(\\xi)-f(\\xi,y_0(\\xi))|d\\xi$$"
   ]
  },
  {
   "cell_type": "markdown",
   "metadata": {},
   "source": [
    "利用利普希茨条件可得$$|y_2(x)-y_1|\\leq L\\int_{x_0}^x|y_1(\\xi)-y_0(\\xi)|d\\xi$$"
   ]
  },
  {
   "cell_type": "markdown",
   "metadata": {},
   "source": [
    "$$\\leq L\\int_{x_0}^xM|\\xi-x_0|d\\xi$$"
   ]
  },
  {
   "cell_type": "markdown",
   "metadata": {},
   "source": [
    "$$=\\frac{ML}{2!}(x-x_0)^2$$"
   ]
  },
  {
   "cell_type": "markdown",
   "metadata": {},
   "source": [
    "再由数学归纳法可得$$|y_k(x)-y_{k-1}|\\leq \\frac{ML^{k-1}}{k!}(x-x_0)^k$$"
   ]
  },
  {
   "cell_type": "markdown",
   "metadata": {},
   "source": [
    "$$\\leq \\frac{ML^{k-1}}{k!}(\\beta-\\alpha)^k$$"
   ]
  },
  {
   "cell_type": "markdown",
   "metadata": {},
   "source": [
    "因为数项级数$$\\sum\\frac{ML^{k-1}}{k!}(\\beta-\\alpha)^k$$收敛\n",
    "∴由weierstrass定理可知，函数序列$y_n(x)$一致收敛  \n",
    "令$ \\displaystyle \\lim_{n\\to\\infty}y_n(x)=y(x) $  \n",
    "则$y(x)$是积分方程的连续解，存在性得证"
   ]
  },
  {
   "cell_type": "markdown",
   "metadata": {},
   "source": [
    "再证唯一性，设$\\tau(x)$是积分方程的另一个连续解  \n",
    "那么$$|y_0(x)-\\tau(x)|\\leq M(x-x_0) \\leq M(\\beta-\\alpha)$$  \n",
    "同样$$|y_1(x)-\\tau(x)|\\leq M(x-x_0) \\leq \\frac{ML}{2!}(\\beta-\\alpha)^2$$  \n",
    "现在设$$|y_{n-1}(x)-\\tau(x)|\\leq \\frac{ML^{n-1}}{n!}(\\beta-\\alpha)^n$$  \n",
    "则$$|y_{n}(x)-\\tau(x)|\\leq L\\int_{x_0}^x|y_{n-1}(x)-\\tau(x)|d\\xi$$  \n",
    "$$\\leq \\frac{ML^n}{n!}\\int_{x_0}^x(\\xi-x_0)^nd\\xi$$  \n",
    "$$=\\frac{ML^n}{n+1!}（\\beta-\\alpha)^{n+1}$$  \n"
   ]
  },
  {
   "cell_type": "markdown",
   "metadata": {},
   "source": [
    "当n趋于无穷大时，$\\frac{ML^n}{n+1!}（\\beta-\\alpha)^{n+1}=0$所以$y_n(x)一致收敛于$\\tau(x)$"
   ]
  },
  {
   "cell_type": "markdown",
   "metadata": {},
   "source": [
    "也即$y(x)=\\tau(x)$唯一性的证"
   ]
  },
  {
   "cell_type": "markdown",
   "metadata": {},
   "source": [
    "∴$$Q\\leq |\\lambda|QL(b-a)$$  \n",
    "又$Q>0$所以$$\\lambda\\geq \\frac{1}{(b-a)L}$$  \n",
    "与$$\\lambda< \\frac{1}{(b-a)L}$$矛盾，所以唯一性得证"
   ]
  },
  {
   "cell_type": "markdown",
   "metadata": {},
   "source": [
    "10.给定积分方程  \n",
    "$$\\varphi(x)=f(x)+\\lambda \\int_a^bK(x,\\xi)\\varphi(\\xi)d\\xi$$  \n",
    "其中$f(x)是[a,b]上的连续函数，K（x,\\xi)是a\\leq x \\leq b,a \\leq \\xi \\leq b$上的连续函数，证明，当$\\lambda$足够小时，（*）在【a,b】上存在唯一连续解"
   ]
  },
  {
   "cell_type": "markdown",
   "metadata": {},
   "source": [
    "首先，取连续逼近数列$$\\varphi_0(x)=f(x)$$  \n",
    "  $$...........$$  \n",
    "  $$\\varphi_1(x)=f(x)+\\lambda\\int_a^bk(x,\\xi)\\varphi_0(\\xi)d\\xi$$  \n",
    "  $$..........$$\n",
    "  $$\\varphi_{n+1}(x)=f(x)+\\lambda\\int_a^bk(x,\\xi)\\varphi_n(\\xi)d\\xi$$"
   ]
  },
  {
   "cell_type": "markdown",
   "metadata": {},
   "source": [
    "$$|\\varphi_1(x)-\\varphi_0(x)|=|\\lambda|\\int_a^bk(x,\\xi)\\varphi_0(\\xi)d\\xi|$$  \n",
    "$$\\leq \\lambda ML(b-a)$$"
   ]
  },
  {
   "cell_type": "markdown",
   "metadata": {},
   "source": [
    "假设$|\\varphi_k(x)-\\varphi_{k-1}(x)|\\leq |\\lambda|^(k+1)L^kM(b-a)^k成立$"
   ]
  },
  {
   "cell_type": "markdown",
   "metadata": {},
   "source": [
    "由数学归纳法可得：  \n",
    "$$|\\varphi_n(x)-\\varphi_n-1(x)|\\leq |\\lambda|^nL^nM(b-a)^n$$"
   ]
  },
  {
   "cell_type": "markdown",
   "metadata": {},
   "source": [
    "现在证明${\\varphi(x)}在[a,b]上一致收敛，考察级数$\n",
    "$$\\varphi_0(x)+\\displaystyle \\sum (\\varphi_k(x)-\\varphi_k-1(x))$$ \n",
    "前n项和为$$\\varphi_0(x)+\\displaystyle \\sum (\\varphi_k(x)-\\varphi_k-1(x))=\\varphi_n(x)$$"
   ]
  },
  {
   "cell_type": "markdown",
   "metadata": {},
   "source": [
    "也即证明级数在$[a,b]$上一致收敛  \n",
    "∵$$|\\varphi_n(x)-\\varphi_n-1(x)|\\leq |\\lambda|^nL^nM(b-a)^n$$  "
   ]
  },
  {
   "cell_type": "markdown",
   "metadata": {},
   "source": [
    "∴当$$\\lambda<\\frac{1}{(b-a)L}$$  \n",
    "时，级数收敛，此时级数一致收敛。  "
   ]
  },
  {
   "cell_type": "markdown",
   "metadata": {},
   "source": [
    "对构造的一系列积分方程取极限可得：  \n",
    "$$\\varphi^{*}(x)=f(x)+\\lambda\\int_a^bk(x,\\xi)\\varphi^{*}(\\xi)d\\xi$$  \n",
    "∴积分方程存在连续解  "
   ]
  },
  {
   "cell_type": "markdown",
   "metadata": {},
   "source": [
    "下证唯一性,设另有一个解$\\tau(x)$,且$\\tau(x)\\neq \\varphi^*(x)$  \n",
    "由之前的结果可知$$\\tau^{*}(x)=f(x)+\\lambda\\int_a^bk(x,\\xi)\\tau^{*}(\\xi)d\\xi$$  \n",
    "记$$Q=\\displaystyle \\max_{x\\in[a,b]}|\\varphi(x)-\\tau(x)|>0 $$   \n",
    "$$|\\varphi(x)-\\tau(x)|=|\\lambda \\int_a^t(f(\\xi,\\varphi(\\xi))-f(\\xi,\\tau(\\xi)))d\\xi|$$  \n",
    "$$\\leq |\\lambda|\\int_a^bL|\\varphi(x)-\\tau(x)|d\\xi$$\n",
    "$$\\leq |\\lambda|QL(b-a)$$"
   ]
  },
  {
   "cell_type": "markdown",
   "metadata": {},
   "source": [
    "∴$$Q\\leq |\\lambda|QL(b-a)$$  \n",
    "又$Q>0$所以$$\\lambda\\geq \\frac{1}{(b-a)L}$$  \n",
    "与$$\\lambda< \\frac{1}{(b-a)L}$$矛盾，所以唯一性得证"
   ]
  },
  {
   "cell_type": "markdown",
   "metadata": {
    "collapsed": true
   },
   "source": [
    "# <font color='red'>A＋  11/10"
   ]
  },
  {
   "cell_type": "code",
   "execution_count": null,
   "metadata": {
    "collapsed": true
   },
   "outputs": [],
   "source": []
  }
 ],
 "metadata": {
  "kernelspec": {
   "display_name": "SageMath 7.3",
   "language": "",
   "name": "sagemath"
  },
  "language_info": {
   "codemirror_mode": {
    "name": "ipython",
    "version": 2
   },
   "file_extension": ".py",
   "mimetype": "text/x-python",
   "name": "python",
   "nbconvert_exporter": "python",
   "pygments_lexer": "ipython2",
   "version": "2.7.10"
  }
 },
 "nbformat": 4,
 "nbformat_minor": 0
}
