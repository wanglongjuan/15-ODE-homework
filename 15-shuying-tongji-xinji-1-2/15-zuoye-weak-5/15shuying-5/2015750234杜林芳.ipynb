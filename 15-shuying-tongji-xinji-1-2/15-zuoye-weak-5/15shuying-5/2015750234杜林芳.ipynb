{
 "cells": [
  {
   "cell_type": "markdown",
   "metadata": {
    "collapsed": false
   },
   "source": [
    " 习题3.1"
   ]
  },
  {
   "cell_type": "markdown",
   "metadata": {},
   "source": [
    "3.求初值问题："
   ]
  },
  {
   "cell_type": "markdown",
   "metadata": {},
   "source": [
    "$$\n",
    "\\begin {cases}\n",
    "\\frac{dy}{dx}=x^2-y^2\\\\\n",
    "y(-1)=0\n",
    "\\end {cases}\n",
    "$$\n",
    "\n",
    "\n",
    "的解的存在区间，并求第二次近似解，给出在解的存在区间的误差估计\n"
   ]
  },
  {
   "cell_type": "markdown",
   "metadata": {
    "collapsed": true
   },
   "source": [
    "解：满足解的唯一性条件\n",
    "$$\n",
    "M=\\displaystyle\\max _{(x,y)\\in R} |x^2-y^2|=4,\\quad\n",
    "h=\\min (a,\\frac{b}{M})=\\min(1,\\frac{1}{4})=\\frac{1}{4}\n",
    "$$\n",
    "Lipschitz 常数取为 $L=2$,因为"
   ]
  },
  {
   "cell_type": "markdown",
   "metadata": {},
   "source": []
  },
  {
   "cell_type": "markdown",
   "metadata": {},
   "source": [
    "∂f/∂y=|-2y|<=2=L."
   ]
  },
  {
   "cell_type": "markdown",
   "metadata": {},
   "source": []
  },
  {
   "cell_type": "markdown",
   "metadata": {
    "collapsed": true
   },
   "source": [
    "φ0（x)=0,\n",
    "\n",
    "φ1(x）=∫（-1到x）(t^2-(φ0（t))^2)dt=x^3/3+1/3\n",
    "\n",
    "φ2(x）=∫（-1到x）(t^2-(φ1（t))^2)dt=x^3/3-x/9-x^4/18-x^7/63+11/42"
   ]
  },
  {
   "cell_type": "markdown",
   "metadata": {},
   "source": []
  },
  {
   "cell_type": "markdown",
   "metadata": {
    "collapsed": true
   },
   "source": [
    "由教材中的公式得:|φ2(x）-φ(x)|<={（4*2^2)/3!}*(1/4)^3=1/24.\n",
    "             "
   ]
  },
  {
   "cell_type": "markdown",
   "metadata": {
    "collapsed": true
   },
   "source": [
    "因此，已知初值问题的解得存在空间为-5/4<=x<=-3/4,第二次近似解为 y2=x^3/3-x/9-x^4/18-x^7/63+11/42\n",
    "\n",
    "在解的存在区间的误差估计为|y-y2|=1/24."
   ]
  },
  {
   "cell_type": "markdown",
   "metadata": {},
   "source": [
    "6.证明格朗沃尔不等式：\n",
    "\n",
    "设K为非负常数，f(x)和g(t)在区间a<=t<=b上的连续非负函数，且满足不等式\n",
    "\n",
    "f(t)<=K+∫(a到t)f(s)g(s)ds,a<=t<=b\n",
    "\n",
    "f(t)<=Kexp(∫(a到t)g(s)ds),a<=t<=b"
   ]
  },
  {
   "cell_type": "markdown",
   "metadata": {},
   "source": [
    "证明：（1）K>0时，令  \n",
    "\n",
    "w(t)=K+∫(a到t)f(s)g(s)ds,则:w'(t）=f(t)g(t)<=g(t)w(t),由w(t)>0可得：\n",
    "    \n",
    "w'(t)/W(t)<=g(t)  \n",
    "\n",
    "对其两边从a 到t积分有 lnw(t)-lnw(a)<=∫(a到t)g(s)ds\n",
    "\n",
    "即：w(t)/W(a)<=exp(∫(a到t)g(s)ds),w(a)=K>0\n",
    "\n",
    "所以w(t)<=Kexp(∫(a到t)g(s)ds),\n",
    "\n",
    "即：f(t)<=Kexp(∫(a到t)g(s)ds"
   ]
  },
  {
   "cell_type": "markdown",
   "metadata": {
    "collapsed": true
   },
   "source": [
    "8.如果函数f(x,y)于带域$\\alpha\\leq x\\leq \\beta$上连续且关于y满足利普希茨条件，则方程（3.1）满足条件$y(x_0)=y_0$的解于整个区间[a,b]上存在且唯一，试证明之\n",
    "   "
   ]
  },
  {
   "cell_type": "markdown",
   "metadata": {},
   "source": [
    "  证明：\n",
    "    由命题1知，方程（3.1）满足条件$y(x_0)=y_0$的解等价于求积分方程\n",
    "    \n"
   ]
  },
  {
   "cell_type": "code",
   "execution_count": null,
   "metadata": {
    "collapsed": true
   },
   "outputs": [],
   "source": [
    "    $$\n",
    "    y=y_0+\\int_{t_0}^t f(x,y)\\,\\mathrm dx\\\n",
    "    $$\n",
    "    $$x\\in {[\\alpha,\\beta]}$$\n",
    "    的连续解。 \n",
    "    \n",
    "    "
   ]
  },
  {
   "cell_type": "markdown",
   "metadata": {},
   "source": [
    " 证明积分方程的唯一性即可,\n",
    "    取\n",
    "    $$y_0(x)=y_0$,\n",
    "    $$\n",
    "   y_1(x)=y_0+\\int_{t_0}^t f(\\varepsilon,y_0(\\varepsilon))\\,\\mathrm d\\varepsilon\\\n",
    "    $$\n",
    "    $$\n",
    "    y_2(x)=y_0+\\int_{t_0}^t f(\\varepsilon,y_1(\\varepsilon))\\,\\\\mathrm d\\varepsilon\\\n",
    "    $$\n",
    "    $$....................$$"
   ]
  },
  {
   "cell_type": "markdown",
   "metadata": {},
   "source": [
    "    $$\n",
    "    y_n(x)=y_0+\\\\int_{t_0}^t f(\\\\varepsilon,y_{n-1}(\\\\varepsilon))\\\\,\\\\mathrm d\\\\varepsilon\\\\\n"
   ]
  },
  {
   "cell_type": "markdown",
   "metadata": {},
   "source": [
    "  $$\n",
    "$$....................$$【记为（1）式】\n",
    "\n",
    "    易见$y_n(x)$在$\\\\alpha\\\\leq x\\\\leq \\\\beta$上存在且连续，然后证明函数列${y_n(x)}$在$\\\\alpha\\\\leq x\\\\leq \\\\beta$上一致连续\n",
    "    \n",
    "考察级数\n",
    "    $$ \n",
    "    y_0(x)+\\\\displaystyle\\\\sum_{k=1}^\\\\infty[y_k(x)-y_{k-1}(x)],x\\\\in {[\\\\alpha,\\\\beta]}\n",
    "    $$ 【记为（2）式】\n",
    "    取$M=\\\\max\\\\limits_{x\\\\in {[\\\\alpha,\\\\beta]}}\\\\{|f(x,y_0)|\\\\}$\n",
    "    由（1）式可知\n",
    "    $$\n",
    "    \n",
    "    |y_1(x)-y_0(x)|\\\\leq \\\\int_{x_0}^x |f(\\\\varepsilon,y_0(\\\\varepsilon))|\\\\,\\\\mathrm d\\\\varepsilon\\\\\n",
    "    $$\n",
    "    $$\\\\leq M|x-x_0)|$$【记为（3）式】\n"
   ]
  },
  {
   "cell_type": "markdown",
   "metadata": {},
   "source": [
    " 及$$,\n",
    "    |y_2(x)-y_1(x)|\\\\leq \\\\int_{x_0}^x |f(\\\\varepsilon,y_1(\\\\varepsilon))-f(\\\\varepsilon,y_0(\\\\varepsilon))|\\\\,\\\\mathrm d\\\\varepsilon\\\\\n",
    "    $$\n",
    "    \n",
    "    由（3）式以及利普希茨条件得\n",
    "    $$\n",
    "    |y_2(x)-y_1(x)|\\\\leq L\\\\int_{x_0}^x |y_1(\\\\varepsilon)-y_0(\\\\varepsilon)|\\\\,\\\\mathrm d\\\\varepsilon\\\\\n"
   ]
  },
  {
   "cell_type": "markdown",
   "metadata": {},
   "source": [
    "\"$$\\n\",\n",
    "    \"$$\\n\",\n",
    "    \"\\\\leq L\\\\int_{x_0}^x M|\\\\varepsilon-x_0|\\\\,\\\\mathrm d\\\\varepsilon\\\\\\n\",\n",
    "    \"$$\\n\",\n",
    "    \"$$\\n\",\n",
    "    \"=\\\\frac{ML}{2!}(x-x_0)^2\\n\",\n",
    "    \"$$\\n\",\n",
    "    \"由数学归纳法法得$$|y_k(x)-y_{k-1}(x)|\\\\leq \\\\frac{ML^{k-1}}{k!}|x-x_0|^k$$\\n\",\n",
    "    \"$$\\\\leq \\\\frac{ML^{k-1}}{k!}(\\\\beta-\\\\alpha)^k$$\\n\",\n",
    "    \"上式右端是正项收敛级数$$\\\\displaystyle\\\\sum_{k=1}^\\\\infty[\\\\frac{ML^{k-1}}{k!}(\\\\beta-\\\\alpha)^k]$$\\n\",\n",
    "    \"的一般项\\n\",\n",
    "    \"根据Weierstrass判别式，级数（2）在$\\\\alpha\\\\leq x\\\\leq \\\\beta$上一致收敛\\n\",\n",
    "    \"函数列${y_n(x)}$在$[\\\\alpha,\\\\beta]$上一致收敛\\n\",\n",
    "    \"设\\n\",\n",
    "\n",
    "    \n",
    "    "
   ]
  },
  {
   "cell_type": "markdown",
   "metadata": {
    "collapsed": true
   },
   "source": [
    " \"$$\\n\",\n",
    "    \"\\\\lim_{n \\\\to \\\\infty} {y_n(x)}=y(x)\\n\",\n",
    "    \"$$\\n\",\n",
    "    \"易知y(x)在$[\\\\alpha,\\\\beta]$上连续,且${f(x,y_n(x))}$在$[\\\\alpha,\\\\beta]$上一致收敛于$f(x,y(x))$\\n\",\n",
    "    \"所以，对于（1）式两边取极限，得\\n\",\n",
    "    \"$$\\n\"m,\n",
    "    \"y(x)=y_0+\\\\int_{t_0}^t f(\\\\varepsilon,y(\\\\varepsilon))\\\\,\\\\mathrm d\\\\varepsilon\\\\\\n\",\n",
    "    \"$$\\n\",\n",
    "    \"唯一性得证\"\n"
   ]
  },
  {
   "cell_type": "markdown",
   "metadata": {},
   "source": [
    " \"10 给定积分方程\\n\",\n",
    "    \"$$\\n\",\n",
    "    \"\\\\varphi(x)=f(x)+\\\\lambda\\\\int_a^b K(x,\\\\varepsilon)\\\\varphi(\\\\varepsilon)\\\\,\\\\mathrm d\\\\varepsilon\\\\\\n\",\n",
    "    \"$$     $【*】$\\n\",\n",
    "    \"其中f(x)是$[\\\\alpha,\\\\beta]$上的已知连续函数，$K(x,\\\\varepsilon)$是$a\\\\leq x\\\\leq b$,$a\\\\leq \\\\varepsilon\\\\leq b$上的已知连续函数。\\n\",\n",
    "    \"证明当$|\\\\lambda|$足够小时（$\\\\lambda$是常数），$（*）$在$[\\\\alpha,\\\\beta]$上存在唯一的连续解\\n\",\n"
   ]
  },
  {
   "cell_type": "markdown",
   "metadata": {},
   "source": [
    " \"解\\n\",\n",
    "    \"用逐步逼近法，取\\n\",\n",
    "    \"$$\\n\",\n",
    "    \"\\\\varphi_0(x)=f(x)\\n\",\n",
    "    \"$$\\n\",\n",
    "    \"$$\\n\",\n",
    "    \"\\\\varphi_1(x)=f(x)+\\\\lambda\\\\int_a^b k(x,\\\\varepsilon)\\\\varphi_0(\\\\varepsilon)\\\\,\\\\mathrm d\\\\varepsilon\\\\\\n\",\n",
    "    \"$$  \\n\",\n",
    "    \"$$..............$$\\n\",\n",
    "    \"$$\\n\",\n",
    "    \"\\\\varphi_{n+1}(x)=f(x)+\\\\lambda\\\\int_a^b k(x,\\\\varepsilon)\\\\varphi_n(\\\\varepsilon)\\\\,\\\\mathrm d\\\\varepsilon\\\\\\n\",\n",
    "    \"$$\\n\",\n",
    "    \"$$..............     【记为（1）式】$$\\n\",\n",
    "    \"令$M=\\\\max\\\\limits_{x\\\\in {[a,b]}}\\\\{|f(x)|\\\\}$\\n\",\n",
    "    \"$$\\n\",\n",
    "    \"L=\\\\max\\\\limits_{{x\\\\in {[a,b]}}{\\\\varepsilon\\\\in {[a,b]}}}\\\\{|k(x,\\\\varepsilon)|\\\\}>0\\n\",\n",
    "    \"$$\\n\",\n",
    "    \"$$\\n\",\n",
    "    \"|\\\\varphi_1(x)-\\\\varphi_0(x)|=|\\\\lambda\\\\int_a^b k(x,\\\\varepsilon)\\\\varphi_0(\\\\varepsilon)\\\\,\\\\mathrm d\\\\varepsilon|\\n\",\n",
    "    \"$$\\n\",\n",
    "    \"$$\\n\",\n",
    "    \"\\\\leq |\\\\lambda|\\\\int_a^b |k(x,\\\\varepsilon)||f(\\\\varepsilon)|\\\\,\\\\mathrm d\\\\varepsilon\\n\",\n",
    "    \"$$\\n\",\n",
    "    \"$$\\n\",\n",
    "    \"\\\\leq |\\\\lambda|ML(b-a)\\n\",\n",
    "    \"$$\\n\",\n",
    "    \"假设$$|\\\\varphi_k(x)-\\\\varphi_{k-1}(x)|\\\\leq |\\\\lambda|^kML^k(b-a)^k$$\\n\",\n",
    "    \"成立，则有\\n\",\n",
    "    \"$$\\n\",\n",
    "    \"|\\\\varphi_{k+1}(x)-\\\\varphi_k(x)|=|\\\\lambda\\\\int_a^b k(x,\\\\varepsilon)(\\\\varphi_k(\\\\varepsilon)-\\\\varphi_{k-1}(\\\\varepsilon))\\\\,\\\\mathrm d\\\\varepsilon|\\n\",\n",
    "    \"$$\\n\",\n",
    "    \"$$\\n\",\n",
    "    \"\\\\leq |\\\\lambda|\\\\int_a^b |k(x,\\\\varepsilon)||(\\\\varphi_k(\\\\varepsilon)-\\\\varphi_{k-1}(\\\\varepsilon))|\\\\,\\\\mathrm d\\\\varepsilon\\n\",\n",
    "    \"$$\\n\",\n",
    "    \"$$\\n\",\n",
    "    \"\\\\leq |\\\\lambda|\\\\int_a^b L^{k+1}|\\\\lambda|^kM(b-a)^{k+1}\\\\,\\\\mathrm d\\\\varepsilon\\n\",\n",
    "    \"$$\\n\",\n",
    "    \"$$\\n\",\n",
    "    \"= |\\\\lambda|^{k+1}ML^{k+1}(b-a)^{k+1}\\n\",\n",
    "    \"$$\\n\",\n",
    "    \"由数学归纳法知，对任意的$n\\\\in{N}$,有\\n\",\n",
    "    \"$$\\n\",\n",
    "    \"|\\\\varphi_n(x)-\\\\varphi_{n-1}(x)|\\\\leq |\\\\lambda|^nML^n(b-a)^n\\n\",\n",
    "    \"$$\\n\",\n",
    "    \"下面证明${\\\\varphi_n(x)}$在$[a,b]$上一致收敛，考虑级数\\n\",\n",
    "    \"$$ \\n\",\n",
    "    \"\\\\varphi_0(x)+\\\\displaystyle\\\\sum_{k=1}^\\\\infty[\\\\varphi_k(x)-\\\\varphi_{k-1}(x)],x\\\\in {[\\\\alpha,\\\\beta]}    【记为（2）式】\\n\",\n",
    "    \"$$ \\n\",\n",
    "    \"该级数的前n项和为$\\\\varphi_n(x)$\\n\",\n",
    "    \"所以要证明序列${\\\\varphi_n(x)}$在$[a,b]$上一致收敛，只需证明级数（2）在$[a,b]$上一致收敛即可，由于\\n\",\n",
    "    \"$$\\n\",\n",
    "    \"|\\\\varphi_k(x)-\\\\varphi_{k-1}(x)|\\\\leq |\\\\lambda|^kML^k(b-a)^k\\n\",\n",
    "    \"$$\\n\",\n",
    "    \"当$|\\\\lambda|<\\\\frac{1}{(b-a)L}|$时，级数$\\\\displaystyle\\\\sum_{k=1}^\\\\infty|\\\\lambda|^kML^k(b-a)^k$收敛，\\n\",\n",
    "    \"\\n\",\n",
    "    \"由此可知当$|\\\\lambda|<\\\\frac{1}{(b-a)L}|$时，级数（2）在$[a,b]$上一致收敛。设极限函数为$\\\\varphi_*(x)$,即$x\\\\in{[a,b]}$时，当n趋近于无穷大时，$\\\\varphi_n(x)$一致收敛于$\\\\varphi_*(x)$,\\n\",\n",
    "    \"\\n\",\n",
    "    \"则由$\\\\varphi_n(x)$的连续性知$varphi_*(x)$在$[a,b]$上连续\\n\",\n",
    "    \"对迭代序列（1），当n趋近于无穷大时两边取极限，得\\n\",\n",
    "    \"$$\\n\",\n",
    "    \"\\\\varphi_*(x)=f(x)+\\\\lambda\\\\int_a^b k(x,\\\\varepsilon)\\\\varphi_*(\\\\varepsilon)\\\\,\\\\mathrm d\\\\varepsilon\\\\\\n\",\n",
    "    \"$$\\n\",\n",
    "    \"即证明当$|\\\\lambda|<\\\\frac{1}{(b-a)L}$时，积分方程必存在连续解。\\n\",\n",
    "    \"利用反证法\\n\",\n",
    "    \"\\n\",\n",
    "    \"设另有解$\\\\bar{\\\\varphi}(x)$且与$\\\\varphi_*(x)$不相等，即\\n\",\n",
    "    \"$$\\n\",\n",
    "    \"\\\\bar{\\\\varphi}(x)=f(x)+\\\\lambda\\\\int_a^b k(x,\\\\varepsilon)bar{\\\\varphi}(\\\\varepsilon)\\\\,\\\\mathrm d\\\\varepsilon\\\\\\n\",\n",
    "    \"$$\\n\",\n",
    "    \"记$Q=\\\\max\\\\limits_{x\\\\in {[a,b]}}|\\\\bar{\\\\varphi}(x)-\\\\varphi_*(x)|>0$\\n\",\n",
    "    \"$$\\n\",\n",
    "    \"|\\\\bar{\\\\varphi}(x)-\\\\varphi_*(x)|=|\\\\lambda\\\\int_a^b k(x,\\\\varepsilon)(\\\\bar{\\\\varphi}(\\\\varepsilon)-\\\\varphi_*(\\\\varepsilon))\\\\,\\\\mathrm d\\\\varepsilon|\\n\",\n",
    "    \"$$\\n\",\n",
    "    \"$$\\n\",\n",
    "    \"\\\\leq |\\\\lambda|\\\\int_a^b L|\\\\bar{\\\\varphi}(x)-\\\\varphi_*(x)|\\\\,\\\\mathrm d\\\\varepsilon\\n\",\n",
    "    \"$$\\n\",\n",
    "    \"$$\\n\",\n",
    "    \"=|\\\\lambda|QL(b-a)\\n\",\n",
    "    \"$$\\n\",\n",
    "    \"即有$Q\\\\leq |\\\\lambda|QL(b-a)$ 由于$Q>0$,所以$|\\\\lambda|>=\\\\frac{1}{(b-a)L}$\\n\",\n",
    "    \"\\n\",\n",
    "    \"与$|\\\\lambda|<\\\\frac{1}{(b-a)L}$矛盾，唯一性得证\"\n",
    "  "
   ]
  },
  {
   "cell_type": "markdown",
   "metadata": {
    "collapsed": true
   },
   "source": [
    "# <font color='red'>c  11/10作业做得什么东西？？\n"
   ]
  },
  {
   "cell_type": "code",
   "execution_count": null,
   "metadata": {
    "collapsed": true
   },
   "outputs": [],
   "source": []
  }
 ],
 "metadata": {
  "kernelspec": {
   "display_name": "Python 2",
   "language": "python",
   "name": "python2"
  },
  "language_info": {
   "codemirror_mode": {
    "name": "ipython",
    "version": 2
   },
   "file_extension": ".py",
   "mimetype": "text/x-python",
   "name": "python",
   "nbconvert_exporter": "python",
   "pygments_lexer": "ipython2",
   "version": "2.7.10"
  }
 },
 "nbformat": 4,
 "nbformat_minor": 0
}
