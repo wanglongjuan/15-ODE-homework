{
 "cells": [
  {
   "cell_type": "markdown",
   "metadata": {
    "collapsed": false
   },
   "source": [
    "# 习题3.1 \n",
    "## P88.\n",
    "### 3."
   ]
  },
  {
   "cell_type": "markdown",
   "metadata": {},
   "source": [
    "解：\n",
    "$\\because$ $$max{|x^2-y^2|}=4=M $$\n",
    "$\\therefore$ $$min(a,\\frac{b}{M})=\\frac{1}{4}=h$$\n",
    "$\\therefore$ 可知解的存在区间是$$|x-x_0|=|x+1| \\leq \\frac{1}{4}$$\n"
   ]
  },
  {
   "cell_type": "markdown",
   "metadata": {},
   "source": [
    "令$\\Phi_0(x)=0$,$\\Phi_1(x)=y_0+\\int_{x_0}^x (x^2-0)dx=\\frac{1}{3}x^3+\\frac{1}{3}$,\n",
    "$\\Phi_2(x)=y_0+\\int_{-1}^x x^2-(\\frac{1}{3}x^3+\\frac{1}{3})^2 dx$\n",
    " \n",
    " \n",
    "$\\because$$$l=|\\frac{\\partial f(x,y)}{\\partial y}| \\leq 2$$\n",
    "$\\therefore$误差估计是：$$|\\Phi_2(x)-\\Phi_1(x)| \\leq \\frac{ML^2}{9}=\\frac{11}{24}$$"
   ]
  },
  {
   "cell_type": "markdown",
   "metadata": {},
   "source": [
    "### 6."
   ]
  },
  {
   "cell_type": "markdown",
   "metadata": {},
   "source": [
    "证明：\n",
    "令$R（t)=\\int_{\\alpha}^t f(s）g(s)ds$, \n",
    "\n",
    "$\\therefore$$$R^{ \\prime} (t)-R(t)g(t)=f(t)g(t)-R(t) \\leq Kg(t)R ^{\\prime} (t)-R(t)g(t) \\leq Kg(t)$$"
   ]
  },
  {
   "cell_type": "markdown",
   "metadata": {},
   "source": [
    "$\\therefore$\n",
    "$$R^{\\prime}(t) exp (\\int _{-\\alpha}^t g(s)ds) - R(t)g(t) exp (\\int_{-\\alpha}^t g(s)ds) \\leq Kg(t) exp(\\int_{-\\alpha}^t g(s)ds)$$"
   ]
  },
  {
   "cell_type": "markdown",
   "metadata": {},
   "source": [
    "$\\therefore$\n",
    "$$R(t) \\leq \\int_{\\alpha}^t Kg(s)ds  exp(\\int_{-s}^t g(s)d(s)ds$$\n",
    "$\\because$$$f(t) \\leq k+R(t)$$\n",
    "代入即有$$f(t) \\leq Kexp(\\int_{\\alpha}^t g(s)ds)$$"
   ]
  },
  {
   "cell_type": "markdown",
   "metadata": {},
   "source": [
    "# <font color='red'>证明过程写全"
   ]
  },
  {
   "cell_type": "markdown",
   "metadata": {},
   "source": [
    "### 8."
   ]
  },
  {
   "cell_type": "markdown",
   "metadata": {},
   "source": [
    "设$M=max|f{(x,y_0)}|$,$h=\\beta-\\alpha$,$b=Mh$\n",
    "\n",
    "设存在L使得在$R={（x,y)|\\alpha\\leq\\beta,|y-y_0|\\leq b}$有:\n",
    "$$ |f(x,y_1)-f(x,y_2)| \\leq L|y_1-y_2|$$\n"
   ]
  },
  {
   "cell_type": "markdown",
   "metadata": {},
   "source": [
    "构造逐步逼近函数序列：\n",
    "$$\n",
    "\\begin{cases}\n",
    "\\phi_0(x)=y_0\\\\\n",
    "\\phi_n(x)=y_0+\\int_{x_0}^x f(x,\\phi_{n-1} (x))dx\\\\\n",
    "\\end{cases}\n",
    "$$"
   ]
  },
  {
   "cell_type": "markdown",
   "metadata": {},
   "source": [
    "$\\because$\n",
    "$$|\\phi_1(x)-y_0|=|\\int_{x_0}^x f(x,y_0)dx| \\leq M(x-x_0) \\leq b$$\n",
    "$\\therefore$\n",
    "$$ |\\phi_n(x)-\\phi_{n-1}(x)| \\leq \\frac{M}{n!}L^{n-1}(\\beta-\\alpha)^n$$"
   ]
  },
  {
   "cell_type": "markdown",
   "metadata": {},
   "source": [
    "又$\\because$\n",
    "$$|\\phi_{n+1}(x)-\\phi_n(x）| \\leq |\\int_{x_0}^x |f(x,\\phi_n(x))-f(x,\\phi_{n-1}(x))|dx|$$\n",
    "$\\therefore$$$\\leq \\frac{M}{(n+1)!}L^n(\\beta-\\alpha)^n+1$$\n",
    "$\\because$ $$级数\\sum_{k=1} \\frac{M}{k!} L^{k-1} (\\beta-\\alpha)^k 收敛$$\n",
    "$\\therefore$$\\phi_n(x)在[\\alpha,\\beta]一致收敛$\n",
    "\n",
    "$\\therefore$存在$lim_{n\\rightarrow \\infty}\\phi_n(x)=\\phi(x)$,在[\\alpha,\\beta]上连续且\n",
    "$$\\phi(x)=y_0+\\int_{x_0}^x f(x,\\phi(x))dx$$\n",
    "$\\therefore$$\\phi(x)$是微分方程的解\n"
   ]
  },
  {
   "cell_type": "markdown",
   "metadata": {},
   "source": [
    "唯一性：\n",
    "设$\\phi(x)$,$\\psi(x)$满足积分方程\n",
    "\n",
    "当$x\\geq x_0$时，根据格朗沃尔不等式有$\\phi(x)-\\psi(x)|\\geq 0$\n",
    "同理 当$\\alpha\\leq x_0$时，有$|phi(x）-\\psi(x)|\\leq 0$\n",
    "由上可知，微分方程的解是唯一的。"
   ]
  },
  {
   "cell_type": "markdown",
   "metadata": {},
   "source": [
    "# <font color='red'>唯一性的计算过程"
   ]
  },
  {
   "cell_type": "markdown",
   "metadata": {},
   "source": [
    "### 10."
   ]
  },
  {
   "cell_type": "markdown",
   "metadata": {},
   "source": [
    "证明：构造逐步逼近序列\n",
    "$$\n",
    "\\begin{cases}\n",
    "\\phi_0(x)=f(x)\\\\\n",
    "\\phi_n(x)=f(x)+\\lambda\\int_a^bK(x,s)\\phi_{n-1}(s)ds\\\\\n",
    "\\end{cases}\n",
    "$$\n",
    "可知$\\phi_n(x)$在区间$a\\leq x\\leq b$上连续"
   ]
  },
  {
   "cell_type": "markdown",
   "metadata": {},
   "source": [
    "对函数级数$$\\phi_0(x)+\\sum_{j=1}^{\\infty}[\\phi_j(x)-\\phi_{j-1}(x)]$$\n",
    "又令$M=|\\lambda|K(b-s)$\n",
    "$\\therefore$\n",
    "$$|\\phi_2(x)-\\phi_1(x)|\\leq |\\lambda|\\int_a^b|K(x,s)||\\phi_1(s)-\\phi_0(s)|ds$$\n",
    "$\\therefore$\n",
    "$$|\\phi_{j+1}(x)-\\phi_j(x)|\\leq \\lambda\\int_a^b|K(x,s)[\\phi_j(s)-\\phi_{j-1}(s)]|ds$$"
   ]
  },
  {
   "cell_type": "markdown",
   "metadata": {},
   "source": [
    "设$lim_{k \\rightarrow +\\infty} \\phi_k(x)=\\phi(x)$\n",
    "$\\therefore$\n",
    "$$\\phi(x)=f(x)+\\lambda\\int_a^bK(x,s)\\phi(s)ds$$\n",
    "可知$\\phi(x)$是方程的连续解\n",
    "唯一性：\n",
    "设$\\psi(x)$是方程另一个连续解\n",
    "有\n",
    "\n",
    "$$max|\\phi(x)-\\psi(x)|\\leq |\\lambda|K(b-a)max|\\phi(x)-\\psi(x)|<\\frac{1}{2}max|\\phi(x)-\\psi(x)|$$\n",
    "$\\therefore$$$max|\\phi(x)-\\psi(x)|=0$$\n",
    "$\\therefore$\n",
    "$$\\phi(x)-\\psi(x)|=0,\\phi(x)=\\psi(x)$$\n",
    "所以有唯一的连续解"
   ]
  },
  {
   "cell_type": "markdown",
   "metadata": {
    "collapsed": true
   },
   "source": [
    "# <font color='red'>A  11/10"
   ]
  },
  {
   "cell_type": "code",
   "execution_count": null,
   "metadata": {
    "collapsed": true
   },
   "outputs": [],
   "source": []
  }
 ],
 "metadata": {
  "kernelspec": {
   "display_name": "Python 2",
   "language": "python",
   "name": "python2"
  },
  "language_info": {
   "codemirror_mode": {
    "name": "ipython",
    "version": 2
   },
   "file_extension": ".py",
   "mimetype": "text/x-python",
   "name": "python",
   "nbconvert_exporter": "python",
   "pygments_lexer": "ipython2",
   "version": "2.7.10"
  }
 },
 "nbformat": 4,
 "nbformat_minor": 0
}
