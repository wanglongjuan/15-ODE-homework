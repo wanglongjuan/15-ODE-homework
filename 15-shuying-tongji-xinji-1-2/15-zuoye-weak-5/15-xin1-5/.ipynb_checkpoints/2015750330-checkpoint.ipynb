{
 "cells": [
  {
   "cell_type": "markdown",
   "metadata": {},
   "source": [
    "1.求初值问题"
   ]
  },
  {
   "cell_type": "markdown",
   "metadata": {},
   "source": [
    "$$\n",
    "\\begin{cases}\n",
    "\\frac{d y}{d x}=x^2-y^2,R:|x+1|\\leq1,|y|\\leq1 ,\\\\\n",
    "y(-1)=0 \n",
    "\\end{cases}\n",
    "$$"
   ]
  },
  {
   "cell_type": "markdown",
   "metadata": {},
   "source": [
    "的解的存在区间，并求第二次近似解，给出在解的存在区间的误差估计"
   ]
  },
  {
   "cell_type": "markdown",
   "metadata": {},
   "source": [
    "解：因为 $M=max{{|{x^2-y^2}|}}=4$"
   ]
  },
  {
   "cell_type": "markdown",
   "metadata": {},
   "source": [
    "   则 $h=min(a,\\frac{b}{M})=\\frac{1}{4}$"
   ]
  },
  {
   "cell_type": "markdown",
   "metadata": {},
   "source": [
    "则解的存在区间为 $|x-x_0|=|x-(-1)|=|x+1|\\leq\\frac{1}{4}$"
   ]
  },
  {
   "cell_type": "markdown",
   "metadata": {},
   "source": [
    "令 $\\psi_0(x)=0$"
   ]
  },
  {
   "cell_type": "markdown",
   "metadata": {},
   "source": [
    "$\\psi_1(x)=\\psi_0+\\int_{x_0}^x (x^2-0)d x=\\frac{1}{3}x^3+\\frac{1}{3}$"
   ]
  },
  {
   "cell_type": "markdown",
   "metadata": {},
   "source": [
    "$\\psi_2(x)=\\psi_0+\\int_{-1}^x{[x^2-(\\frac{1}{3}x^3+\\frac{1}{3})^2]}d x=\\frac{1}{3}x^3-\\frac{x}{9}-\\frac{x^4}{18}-\\frac{x^7}{63}+\\frac{11}{42}$"
   ]
  },
  {
   "cell_type": "markdown",
   "metadata": {},
   "source": [
    "又因为 $|\\frac{\\partial {f(x,y)}}{\\partial y}|\\leq2=L$"
   ]
  },
  {
   "cell_type": "markdown",
   "metadata": {},
   "source": [
    "则：误差估计为： $|\\psi_2(x)-\\psi(x)|\\leq\\frac{M*L^2}{(2+1)^2}h^3=\\frac{11}{24}$"
   ]
  },
  {
   "cell_type": "markdown",
   "metadata": {},
   "source": [
    "2.证明格朗沃尔(Gronwall)不等式"
   ]
  },
  {
   "cell_type": "markdown",
   "metadata": {},
   "source": [
    "证明：设 $k$ 为非负整数， $f(t)$ 和 $g(x)$ 为区间 $\\alpha\\leq t\\leq\\beta$ 上的连续非负函数"
   ]
  },
  {
   "cell_type": "markdown",
   "metadata": {},
   "source": [
    "且满足不等式 $f(t)\\leq k+\\int_\\alpha^t{f(s)g(s)}d s$   \n",
    "$  \\alpha\\leq t\\leq\\beta $"
   ]
  },
  {
   "cell_type": "markdown",
   "metadata": {},
   "source": [
    "则有：$f(t)\\leq kexp(\\int_\\alpha^t{g(s)}d s$\n",
    "  \n",
    "  $\\alpha\\leq t\\leq\\beta$"
   ]
  },
  {
   "cell_type": "markdown",
   "metadata": {},
   "source": [
    "令 $R(t)=\\int_\\alpha^t{f(s)g(s)}d s$"
   ]
  },
  {
   "cell_type": "markdown",
   "metadata": {},
   "source": [
    "则 $R'(T)=f(t)g(t)$"
   ]
  },
  {
   "cell_type": "markdown",
   "metadata": {},
   "source": [
    "$R'(T)-R(t)g(t)=f(t)g(t)-R(t)g(t)\\leq kg(t)R'(T)-R(t)g(t)\\leq kg(t)$"
   ]
  },
  {
   "cell_type": "markdown",
   "metadata": {},
   "source": [
    "$R'(T)exp(-\\int_\\alpha^t{g(s)}d s)-R(t)g(t)exp(-\\int_\\alpha^t{g(s)}d s)\\leq kg(t)exp(-\\int_\\alpha^t{g(s)}d s)$"
   ]
  },
  {
   "cell_type": "markdown",
   "metadata": {},
   "source": [
    "$R(t)exp(-\\int_\\alpha^t{g(s)}d s)\\leq\\int_\\alpha^t k{g(s)}d sexp(-\\int_\\alpha^t{g(r)}d r)d s$"
   ]
  },
  {
   "cell_type": "markdown",
   "metadata": {},
   "source": [
    "即 $R(t)\\leq\\int_\\alpha^t k{g(s)}d sexp(-\\int_\\alpha^t{g(r)}d r)d s$"
   ]
  },
  {
   "cell_type": "markdown",
   "metadata": {},
   "source": [
    "又$f(t)\\leq k+R(t)\\leq k+k\\int_\\alpha^t k{g(s)}d sexp(-\\int_\\alpha^t{g(r)}d r)d s\\leq k(1-1+exp(-\\int_\\alpha^t{g(r)}d r)=k exp(-\\int_\\alpha^t{g(r)}d r)$"
   ]
  },
  {
   "cell_type": "markdown",
   "metadata": {},
   "source": [
    "即$f(t)\\leq k\\int_\\alpha^t{g(r)}d r$"
   ]
  },
  {
   "cell_type": "markdown",
   "metadata": {},
   "source": [
    "3.如果函数 $f(x,y)$ 于带域 $\\alpha\\leq x\\leq\\beta$ 上连续且关于 $y$ 满足利普希茨条件，则方程 $\\frac{d y}{d x}=f(x,y)$ 满足条件 $y(x_o)=y_0$ 的解于整个区间 $[\\alpha,\\beta]$ 上存在且唯一，试证明"
   ]
  },
  {
   "cell_type": "markdown",
   "metadata": {},
   "source": [
    "解：设$M=max|f(x,y_0)|,h=a=\\beta-\\alpha,b=Mh$及有某常数$L$使得在域$R={(x,y)|\\alpha\\leq x\\leq\\beta,|y-y_0|\\leq b}$中有$|f(x,y_1)-f(x,y_2)|\\leq L|y_1-y-2|，（x,y_1）,(x,y_2)\\in R$构造逐步逼近函数序列"
   ]
  },
  {
   "cell_type": "markdown",
   "metadata": {},
   "source": [
    "$$\n",
    "\\begin{cases}\n",
    "\\phi_0(x)=y_0\\\\\n",
    "\\phi_n(x)=y_0+\\int_{x_0}^xf(x,\\phi_{(n-1)}(x))d x\n",
    "\\end{cases}\n",
    "$$"
   ]
  },
  {
   "cell_type": "markdown",
   "metadata": {},
   "source": [
    "$$\\alpha\\leq x\\leq\\beta,n=1,2\\cdots$$"
   ]
  },
  {
   "cell_type": "markdown",
   "metadata": {},
   "source": [
    "因$$|\\phi_1(x)-y_0|=|\\int_{x_0}^xf(x,y_0)d x|\\leq\\int_{x_0}^x|f(x,y_0|d x\\leq M(x-x_0)\\leq Mh\\leq b$$"
   ]
  },
  {
   "cell_type": "markdown",
   "metadata": {},
   "source": [
    "得$$|\\phi_n(x)-\\phi_{n-1}(x)|\\leq\\frac{M}{n!}L^{n-1}(\\beta-\\alpha)^n$$"
   ]
  },
  {
   "cell_type": "markdown",
   "metadata": {},
   "source": [
    "事实上，有$|\\phi_{n+1}(x)-\\phi_n(x)|\\leq|\\int_{x_0}^x|f(x,\\phi_n(x)-f(x,\\phi_{(n-1)}(x))|d x|\\leq L|\\int_{x_0}^x L|\\phi_n(x)-\\phi_{n-1}(x)|d x|$"
   ]
  },
  {
   "cell_type": "markdown",
   "metadata": {},
   "source": [
    "$\\leq L|\\int_{x_0}^x\\frac{M}{n!}L^{n-1}|x-x_0|^nd x|\\leq\\frac{M}{(n+1)!}L^n|x-x_0|^{n+1}\\leq\\frac{M}{(n+1)!}L^n|\\beta-\\alpha|^{n+1}$"
   ]
  },
  {
   "cell_type": "markdown",
   "metadata": {},
   "source": [
    "因为级数$\\phi_n(x)=\\phi_0(x)+\\sum [\\phi_k(x)-\\phi_{k-1}(x)]$在区间$[\\alpha,\\beta]$一致收敛。于是$\\phi_n(x)$在$x$趋向于无穷时极限为$\\phi(x)$,它在区间$[\\alpha,\\beta]$连续，且$\\phi(x)$是微分方程的解。"
   ]
  },
  {
   "cell_type": "markdown",
   "metadata": {},
   "source": [
    "设$\\phi(x),\\psi(x)$均满足积分方程$y=y_0+\\int_{x_0}^x f(x,y)d x,\\alpha\\leq x_0,x\\leq\\beta$"
   ]
  },
  {
   "cell_type": "markdown",
   "metadata": {},
   "source": [
    "当$x\\geq x_0$时利用格朗沃尔不等式，由$|\\phi(x)-\\psi(x)|\\leq\\int_{x_0}^x|f(s,\\phi(s))-f(s,\\psi(s))|d s\\leq\\int_{x_0}^x L|\\phi(s)-\\psi(s)|d s$"
   ]
  },
  {
   "cell_type": "markdown",
   "metadata": {},
   "source": [
    "有$|\\phi(x)-\\psi(x)|\\leq 0$即$\\phi(x)\\equiv\\psi(x)(\\alpha\\leq x_0\\leq x\\leq\\beta).$同样，当$\\alpha\\leq x\\leq x_0$时由$|\\phi(x)-\\psi(x)|\\leq\\int_x^{x_0}|f(s,\\phi(s))-f(s,\\psi(s)）|d s\\leq\\int_x^{x_0}L|\\phi(s)-\\psi(s)|d s$"
   ]
  },
  {
   "cell_type": "markdown",
   "metadata": {},
   "source": [
    "于是证明微分方程的解是唯一的"
   ]
  },
  {
   "cell_type": "markdown",
   "metadata": {},
   "source": [
    "4.给定积分方程 $$\\phi(x)=f(x)+\\lambda\\int_a^b K(x,\\xi)\\phi(\\xi)d \\xi$$$(*)$"
   ]
  },
  {
   "cell_type": "markdown",
   "metadata": {},
   "source": [
    "其中 $f(x)$ 是  $[a,b]$ 上的已知连续函数， $K(x,\\xi)$ 是 $a\\leq x\\leq b,a\\leq\\xi\\leq b$ 上的已知连续函数，证明当 $|\\lambda|$ 足够小时，上式在 $[a,b]$ 上存在唯一的连续解"
   ]
  },
  {
   "cell_type": "markdown",
   "metadata": {},
   "source": [
    "证明：\n",
    "$$\n",
    "\\begin{cases}\n",
    "\\phi_0(x)=f(x) ,\\\\\n",
    "\\phi_n(x)=f(x)+\\lambda\\int_a^b K(x,s)\\phi_{n-1}(s)d s(n=1,2,\\cdots)\n",
    "\\end{cases}\n",
    "$$"
   ]
  },
  {
   "cell_type": "markdown",
   "metadata": {},
   "source": [
    "显然，对所有正整数$n,\\phi_n(x)$在区间$a\\leq x\\leq b$上定义且连续"
   ]
  },
  {
   "cell_type": "markdown",
   "metadata": {},
   "source": [
    "$\\phi_0(x)+\\sum[\\phi_j(x)-\\phi_{j-1}(x)],a\\leq x\\leq b$"
   ]
  },
  {
   "cell_type": "markdown",
   "metadata": {},
   "source": [
    "其部分和为$\\phi_0(x)+\\sum[\\phi_j(x)-\\phi_{j-1}(x)]=\\phi_k(x)$"
   ]
  },
  {
   "cell_type": "markdown",
   "metadata": {},
   "source": [
    "因为$f(x)$和$K(x,\\xi)$在闭区间$a\\leq x\\leq b$及$a\\leq x\\leq b,a\\leq\\xi\\leq b$上连续，因此有$|f(x)|\\leq L,|K(x,\\xi)|\\leq K,a\\leq x\\leq b,a\\leq\\xi\\leq b$"
   ]
  },
  {
   "cell_type": "markdown",
   "metadata": {},
   "source": [
    "取$M=|\\lambda|K(b-a)$"
   ]
  },
  {
   "cell_type": "markdown",
   "metadata": {},
   "source": [
    "$|\\phi_1(x)-\\phi_0(x)|=\\phi_1(x)-f(x)|\\leq|\\lambda|\\int_a^b|K(x,s)||\\phi_1(s)-\\phi_0(s)|d s\\leq|lambda|\\int_a^b KLMd s=LM^2$"
   ]
  },
  {
   "cell_type": "markdown",
   "metadata": {},
   "source": [
    "现设成立$|\\phi_j(x)-\\phi_{j-1}(x)|\\leq LM^j$"
   ]
  },
  {
   "cell_type": "markdown",
   "metadata": {},
   "source": [
    "则有$|\\phi_{j+1}(x)-\\phi_j(x)|\\leq\\lambda\\int_a^b|K(x,s)[\\phi_j(s)-\\phi_{j-1}(s)|d s\\leq\\lambda KLM^j(b-a)=LM^{j+1}$"
   ]
  },
  {
   "cell_type": "markdown",
   "metadata": {},
   "source": [
    "取$|\\lambda|$足够小使得$M<\\frac{1}{2}$,从而级数$\\sum LM^k$收敛"
   ]
  },
  {
   "cell_type": "markdown",
   "metadata": {},
   "source": [
    "因为$\\phi(x)$是$\\phi_k(x)$的一致收敛极限函数，故$\\phi(x)$也在区间$a\\leq x\\leq b$上连续。"
   ]
  },
  {
   "cell_type": "markdown",
   "metadata": {},
   "source": [
    "对逐步逼近函数序列，两边取极限，可得$\\phi(x)=f(x)+\\lambda\\int_a^b K(X,S)\\phi(s)d s$"
   ]
  },
  {
   "cell_type": "markdown",
   "metadata": {},
   "source": [
    "即$\\phi(x)$是积分方程在区间$a\\leq x\\leq b$上的连续解"
   ]
  },
  {
   "cell_type": "markdown",
   "metadata": {},
   "source": [
    "设$\\psi(x)$是积分方程在区间$a\\leq x\\leq b$的另一个连续解，即$\\psi(x)=f(x)+\\lambda\\int_a^b K(x,s)\\psi(s)d s$"
   ]
  },
  {
   "cell_type": "markdown",
   "metadata": {},
   "source": [
    "因为$max|\\phi(x)-\\psi（x）|$存在且"
   ]
  },
  {
   "cell_type": "markdown",
   "metadata": {},
   "source": [
    "$|\\lambda|K(b-a)=M<\\frac{1}{2}$"
   ]
  },
  {
   "cell_type": "markdown",
   "metadata": {},
   "source": [
    "所以$max|\\phi(x)-\\psi（x）|\\leq max|\\lambda|\\int_a^b K |\\phi(x)-\\psi(x)|d s)\\leq max(|\\lambda|\\int_a^b K|\\phi(x)-\\psi(x)|d s)$"
   ]
  },
  {
   "cell_type": "markdown",
   "metadata": {},
   "source": [
    "$\\leq|\\lambda|K(b-a)max|\\phi(x)-\\psi(x)|=M max|\\phi(x)-\\psi(x)|<\\frac{1}{2}max|\\phi(x)-\\psi(x)|$"
   ]
  },
  {
   "cell_type": "markdown",
   "metadata": {},
   "source": [
    "可见$max|\\phi(x)-\\psi(x)|=0.$"
   ]
  },
  {
   "cell_type": "markdown",
   "metadata": {},
   "source": [
    "所以$\\phi(x)=\\psi(x),a\\leq x\\leq b$"
   ]
  },
  {
   "cell_type": "markdown",
   "metadata": {},
   "source": [
    "所以(*)在$[a,b]$上存在唯一的连续解"
   ]
  },
  {
   "cell_type": "markdown",
   "metadata": {},
   "source": [
    "# <font color='red'>A  11/10　　注意格式？？"
   ]
  },
  {
   "cell_type": "code",
   "execution_count": null,
   "metadata": {
    "collapsed": true
   },
   "outputs": [],
   "source": []
  }
 ],
 "metadata": {
  "kernelspec": {
   "display_name": "SageMath 7.3",
   "language": "",
   "name": "sagemath"
  },
  "language_info": {
   "codemirror_mode": {
    "name": "ipython",
    "version": 2
   },
   "file_extension": ".py",
   "mimetype": "text/x-python",
   "name": "python",
   "nbconvert_exporter": "python",
   "pygments_lexer": "ipython2",
   "version": "2.7.10"
  }
 },
 "nbformat": 4,
 "nbformat_minor": 0
}
