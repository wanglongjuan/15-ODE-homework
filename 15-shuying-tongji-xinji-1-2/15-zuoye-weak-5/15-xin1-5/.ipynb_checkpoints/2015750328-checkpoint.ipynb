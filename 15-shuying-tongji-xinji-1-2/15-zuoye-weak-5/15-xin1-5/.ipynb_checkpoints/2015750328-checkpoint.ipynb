{
 "cells": [
  {
   "cell_type": "markdown",
   "metadata": {},
   "source": [
    "３.求初值问题$\\left\\{\\begin{array}\\\\\\frac{\\mathrm d y}{\\mathrm d x}=x^2+y^2,R:|x+1|\\leq 1,|y|\\leq 1,\\\\y(-1)=0,\\end{array}\\right.$的解得存在区间，并求第二次近似解，给出在解的存在区间的误差估计。"
   ]
  },
  {
   "cell_type": "markdown",
   "metadata": {},
   "source": [
    "解：因为$M=\\max{|x^2-y^2|}=4,则h=\\min(a,\\frac{b}{M})=\\frac{1}{4}$  \n",
    "\n",
    "则解的存在区间为$|x-x_0|=|x-(-1)|=|x+q|\\leq\\frac{1}{4}$  \n",
    "\n",
    "令$\\psi_0(X)=0$  \n",
    "\n",
    "$\\psi_1(x)=y_0+\\int_{x_0}^x (x^2-0)\\rm d x=\\frac{1}{3}x^3+\\frac{1}{3}$  \n",
    "\n",
    "$\\psi_2(x)=y_0+\\int_{-1}^x [x^2-(\\frac{1}{3}x^3+\\frac{1}{3})^2]\\rm d x=\\frac{1}{3}x^3-\\frac{x}{9}-\\frac{x^4}{18}-\\frac{x^7}{63}+\\frac{11}{42}$;  \n",
    "\n",
    "又有$|\\frac{\\partial f(x,y)}{\\partial y}|\\leq 2=L$  \n",
    "\n",
    "所以误差估计为$|\\psi_2(x)-\\psi(x)|\\leq \\frac{M*L^2}{(2+1)^2}h^3=\\frac{11}{24}$\n",
    "\n"
   ]
  },
  {
   "cell_type": "markdown",
   "metadata": {},
   "source": [
    "6.证明格朗沃尔不等式：设K为非负常数，f(t)和g(t)为在区间$\\alpha\\leq t\\leq\\beta$上的连续非负函数，且满足不等式$f(t)\\leq K+\\int_\\alpha^\\beta f(s)g(s)\\rm d s,\\alpha\\leq t\\leq\\beta$  \n",
    "\n",
    "则有$f(t)\\leq Kexp(\\int_\\alpha^\\beta g(s)\\rm d s),\\alpha\\leq t\\leq\\beta$,并由此证明定理1的命题5.  "
   ]
  },
  {
   "cell_type": "markdown",
   "metadata": {},
   "source": [
    "证明：令$R(t)=\\int_\\alpha^t f(s)g(s)\\rm d s,则R'(T)=f(t)g(t)$  \n",
    "\n",
    "$R'(T)-R(t)g(t)=f(t)g(t)-R(t)g(t)\\leq kg(t)R'(T)-R(t)g(t)\\leq kg(t)$  \n",
    "\n",
    "两边同乘以$exp(-\\int_\\alpha^t g(s)\\rm d s)$,则  \n",
    "\n",
    "$R'(T)\\exp(-\\int_\\alpha^t g(s)\\rm d s)-R(t)g(t)\\exp(-\\int_\\alpha^t g(s)\\rm d s)\\leq kg(t)\\exp(-\\int_\\alpha^t g(s)\\rm d s)$  \n",
    "\n",
    "两边从$\\alpha到t积分$:  \n",
    "\n",
    "$R(t)exp(-\\int_\\alpha^t g(s)\\rm d s)\\leq-\\int_\\alpha^t kg(s)\\rm d s  \\exp(-\\int_\\alpha^t g(r)\\rm d r)\\rm d s$  \n",
    "\n",
    "即$R(t)\\leq \\int_\\alpha^t kg(s)\\rm d s \\exp(-\\int_\\alpha^t g(r)\\rm d r)\\rm d s$  \n",
    "\n",
    "又有$f(t)\\leq 1\\leq k+R(t)\\leq k+k\\int_\\alpha^t kg(s)\\rm d s \\exp(-\\int_\\alpha^t g(r)\\rm d r)\\rm d s\\leq k(1-1+exp(-\\int_\\alpha^t g(r)\\rm d r)=k\\exp(\\int_t^s g(r)\\rm d r)$  \n",
    "\n",
    "所以$f(t)\\leq k\\int_\\alpha^t g(t)\\rm d r$\n",
    "\n"
   ]
  },
  {
   "cell_type": "markdown",
   "metadata": {},
   "source": [
    "8.如果函数$f(x,y)$于带域${\\alpha}\\leq {t}\\leq{\\beta}$上连续且关于y满足利普希茨条件，则方程（3.1）满足条件$y（x_0）=y_0$的解于整个区间$[\\alpha,\\beta]$上存在且唯一。试证明之。"
   ]
  },
  {
   "cell_type": "markdown",
   "metadata": {
    "collapsed": true
   },
   "source": [
    "$$设M=\n",
    "\\max_{\\substack{\n",
    "x \\in[\\alpha,\\beta]\\\\\n",
    "}}\n",
    "|f(x,y_0)|，h=a=\\beta - \\alpha,b=M,h及有某常数L使得在域R=\\{(x,y)|{\\alpha}\\leq {x}\\leq{\\beta},|y-y_0|\\leq b\\}$$\n",
    "中有$|f(x,y_1)-f(x,y_2)|\\leq L|y_1-y_2|,(x,y_1)(x,y_2)\\in R,$构造逐步逼近函数序列$$\n",
    "\\begin{cases}\n",
    "\\phi_0 (x)=y_0,\\\\\n",
    "\\phi_n (x)=y_0+\\int {(x,\\phi_{n-1}(x))}{\\rm d}x \\quad\\quad{\\alpha}\\leq {x}\\leq{\\beta},n=1,2,···\n",
    "\\end{cases}\n",
    "$$\n",
    "因$$|\\phi_1 (x)-y_0|=|\\int_{x_0}^x{f(x,y_0)}{\\rm d}x|\\leq \\int_{x_0}^x{|f(x,y_0)|}{\\rm d}x$$\n",
    "$$\n",
    "\\leq M(x-x_0)\\leq Mh\\leq b\n",
    "$$\n",
    "可证$$\n",
    "|\\phi_n(x)-\\phi_{n-1}(x)|\\leq \\frac{M}{n!}L^{n-1}(\\beta-\\alpha)^n$$\n",
    "有$$\n",
    "\\begin{aligned}\n",
    "|\\phi_{n+1}(x)-\\phi_n(x)|&\\leq \\mid\\int_{x_0}^x\\mid{f(x,\\phi_n(x))-f(x,\\phi_{n-1}(x))}\\mid{\\rm d}x\\mid\n",
    "\\\\&\\leq L|\\int_{x_0}^x{L|\\phi_n(x)-\\phi_{n-1}(x)|}{\\rm d}x|\\\\\n",
    "&\\leq L|\\int_{x_0}^x{\\frac{M}{n!}L^{n-1}|x-x_0|^n}{\\rm d}x|\\\\\n",
    "&\\leq \\frac{M}{(n+1)!}L^n|x-x_0|^{n+1}\\\\\n",
    "&\\leq \\frac{M}{(n+1)!}L^n(\\alpha-\\beta)^{n+1}\n",
    "\\end{aligned}$$\n",
    "因级数$$\\sum_{k=1}^{\\infty}\\frac{M}{k!}L^{k-1}(\\beta-\\alpha)^k$$收敛，知级数\n",
    "$$\\phi_n(x)=\\phi_0(x)+\\sum_{k=1}^n[\\phi_k(x)-\\phi_(k-1)(x)]$$在区间$[\\alpha,\\beta]$一致收敛，于是存在极限$$\n",
    "\\lim_{n \\to \\infty}\\phi_n(x)=\\phi(x)$$在区$[\\alpha,\\beta]$间连续，且$$\n",
    "\\begin{aligned}\n",
    "\\phi(x)&=\\lim_{n \\to \\infty}\\phi_n(x)\\\\\n",
    "&=y_0+\\lim_{n \\to \\infty}\\int_{x_0}^x{f(x,\\phi_{n-1}(x))}{\\rm d}x\\\\\n",
    "&=y_0+\\int_{x_0}^x{f(x,\\lim_{n \\to \\infty}\\phi_{n-1}(x))}{\\rm d}x\\\\\n",
    "&=y_0+\\int_{x_0}^x{f(x,\\phi (x))}{\\rm d}x\n",
    "\\end{aligned}$$\n",
    "故$\\phi(x)$是积分方程也就是微分方程的解。"
   ]
  },
  {
   "cell_type": "markdown",
   "metadata": {},
   "source": [
    "设$\\phi (x)$,$\\psi (x)$均满足积分方程\n",
    "$$y=y_0+\\int_{x_0}^x{f(x,y)}{\\rm d}x,\\alpha \\leq x_0,x\\leq \\beta$$.\n",
    "当$x\\geq x_0$时利用格朗沃尔不等式，由\n",
    "$$\n",
    "\\begin{aligned}\n",
    "|\\phi(x)-\\psi(x)|&\\leq \\int_{x_0}^x|{f(s,\\phi(s))-f(s,\\psi(s))}|{\\rm d}s\\\\\n",
    "&\\leq \\int_{x_0}^x{L|\\phi(x)-\\psi(x)|}{\\rm d}s\n",
    "\\end{aligned}$$\n",
    "有$|\\phi(x)-\\psi(x)|\\leq 0$,即$\\phi(x) \\equiv\\psi(x)(\\alpha \\leq x_0\\leq x\\leq\\beta)$。同样，当$\\alpha\\leq x \\leq x_0$时由$$\n",
    "\\begin{aligned}\n",
    "|\\phi(x)-\\psi(x)|&\\leq \\int_{x_0}^x|{f(s,\\phi(s))-f(s,\\psi(s))}|{\\rm d}s\\\\\n",
    "&\\leq \\int_{x_0}^x{L|\\phi(x)-\\psi(x)|}{\\rm d}s\n",
    "\\end{aligned}$$有$|\\phi(x)-\\psi(x)|\\leq 0$，即$\\phi(x) \\equiv\\psi(x)(\\alpha \\leq x_0\\leq x\\leq\\beta)$.于是证明了积分方程也就是微分方程的解是唯一的"
   ]
  },
  {
   "cell_type": "markdown",
   "metadata": {
    "collapsed": true
   },
   "source": [
    "10.给定积分方程$$\\phi(x)=f(x)+\\lambda\\int_a^b{K(x,\\xi)\\phi(\\xi){\\rm d}{\\xi}},      \\quad    \\quad\\quad\\quad\\quad(*)$$其中$f(x)$是$[a,b]$上的已知连续函数，$K（x，\\xi）$是$a\\leq x\\leq b$,$a\\leq \\xi \\leq b$上的已知连续函数。证明当$|\\lambda|$足够小时（$\\lambda$是常数），$(*)$在$[a,b]$上存在唯一的连续解"
   ]
  },
  {
   "cell_type": "markdown",
   "metadata": {},
   "source": [
    "证 构造逐步逼近函数序列$$\n",
    "\\begin{cases}\n",
    "\\phi_0 (x)=f(x),\\\\\n",
    "\\phi_n (x)=f(x)+\\lambda\\int_a^b{K(x,s)\\phi_{n-1}(s)}{\\rm d}s,(n=1,2,···)\n",
    "\\end{cases}\n",
    "$$\n",
    "显然，对所有正整数$n,\\phi_n(x)$在区间$a\\leq x\\leq b$上定义且连续\n",
    "下证函数序列$\\{\\phi_k(x)\\}$在区间$a\\leq x\\leq b$上一致收敛，考虑函数级数\n",
    "$$\\phi_0(x)+\\sum_{j=1}^{\\infty}[\\phi_j(x)-\\phi_{j-1}(x)],a\\leq x\\leq b  \\quad\\quad①$$\n",
    "其部分和为$$\\phi_0(x)+\\sum_{j=1}^k[\\phi_j(x)-\\phi_{j-1}(x)]=\\phi_k(x)$$\n",
    "因此，证明函数序列$\\{\\phi_k(x)\\}$在区间$a\\leq x\\leq b$上一致收敛化为证明级数①在区间$a\\leq x\\leq b$上一致收敛，因$f(x)$和$K(x,\\xi)$在闭区间$a\\leq x\\leq b$及$a\\leq x\\leq b$,$a\\leq \\xi\\leq b$上连续，因此有\n",
    "$$|f(x)|\\leq L,|K(x,\\xi)|\\leq \\widetilde K,a\\leq x\\leq b,a\\leq \\xi\\leq b$$\n",
    "取$M=|\\lambda|\\widetilde K(b-a)$.由$(*)$有\n",
    "$$\n",
    "\\begin{aligned}\n",
    "|\\phi_1(x)-\\phi_0(x)|&=|\\phi_1(x)-f(x)|\\\\\n",
    "&\\leq |\\lambda|\\int_a^b{|K(x,s)||\\phi_0(s)|}{\\rm d}s\\\\\n",
    "&\\leq|\\lambda|\\widetilde KL(b-a)\\\\\n",
    "&=LM\n",
    "\\end{aligned}$$\n",
    "于是$$\n",
    "\\begin{aligned}\n",
    "|\\phi_2(x)-\\phi_1(x)|&\\leq|\\lambda|\\int_a^b{|K(x,s)||\\phi_1(s)-\\phi_0(s)|}{\\rm d}s\\\\\n",
    "&\\leq |\\lambda|\\int_a^b{\\widetilde {K}LM}{\\rm d}s\\\\\n",
    "&=LM^2\n",
    "\\end{aligned}$$\n",
    "现设成立$$|\\phi_j(x)-\\phi_{j-1}(x)|\\leq LM^2\\quad  \\quad②$$\n",
    "则由$(*)$,有\n",
    "$$\n",
    "\\begin{aligned}\n",
    "|\\phi_{j+1}(x)-\\phi_{j}(x)|&\\leq\\lambda\\int_a^b{|K(x,s)[\\phi_j(s)-\\phi_{j-1}(s)]|}{\\rm d}s\\\\\n",
    "&\\leq\\lambda\\widetilde{K}LM^j(b-a)\\\\\n",
    "&=LM^{j+1}\n",
    "\\end{aligned}$$"
   ]
  },
  {
   "cell_type": "markdown",
   "metadata": {},
   "source": [
    "由数学归纳法知，对一切$j$成立②.可取$|\\lambda|$足够小使得$M<\\frac1 2$.从而级数$$\\sum_{k=1}^{\\infty}LM^k$$收敛，由函数项级数一致收敛的魏氏判别法，级数①$a\\leq x\\leq b$在上一致收敛，所以函数序列$\\{\\phi_k(x)\\}$也在 $a \\leq x \\leq b $上一致收敛。\n",
    "设$$\\lim_{k \\to \\infty}\\phi_k(x)=\\phi(x)$$\n",
    "因为$\\phi(x)$是$\\phi_k(x)$的一致收敛极限函数，故$\\phi(x)$也在区间 $a \\leq x \\leq b $上连续，对逐步逼近函数序列，两边取极限，可得\n",
    "$$\\lim_{n \\to \\infty}\\phi_n(x)=f(x)+\\lambda\\int_a^b{K(x,s)\\lim_{n \\to \\infty}\\phi_{n-1}(s)}{\\rm d}s$$\n",
    "$$\\phi(x)=f(x)+\\lambda\\int_a^b{K(x,s)\\phi(s)}{\\rm d}s$$\n",
    "即$\\phi$是积分方程$(*)$在区间$a \\leq x \\leq b$上的连续解.\n",
    "设$\\psi(x)$是积分方程$(*)$在区间$a \\leq x \\leq b$上的另一个连续解，即\n",
    "$$\\psi(x)=f(x)+\\lambda\\int_a^b{K(x,s)\\psi(s)}{\\rm d}s$$\n",
    "$$\\max_{\\substack{\n",
    "a\\leq x\\leq b\\\\\n",
    "}}\n",
    "|\\phi(x)-\\psi(x)|存在且|\\lambda| K(b-a)=M<\\frac 1 2,有$$\n",
    "\\begin{aligned}\n",
    "\\max_{\\substack{\n",
    "a\\leq x\\leq b\\\\\n",
    "}}|\\phi(x)-\\psi(x)|&\\leq\\max_{\\substack{\n",
    "a\\leq x\\leq b\\\\\n",
    "}}(|\\lambda|\\int_a^b{|K(x,s)||\\phi(x)-\\psi(x)|}{\\rm d}s)\\\\\n",
    "&\\leq\\max_{\\substack{\n",
    "a\\leq x\\leq b\\\\\n",
    "}}(|\\lambda|\\int_a^b{K|\\phi(x)-\\psi(x)|}{\\rm d}s)\\\\\n",
    "&\\leq|\\lambda|K(b-a)\n",
    "\\max_{\\substack{\n",
    "a\\leq x\\leq b\\\\\n",
    "}}|\\phi(x)-\\psi(x)|\\\\\n",
    "&\\leq \\frac 1 2\\max_{\\substack{\n",
    "a\\leq x\\leq b\\\\\n",
    "}}|\\phi(x)-\\psi(x)|\n",
    "\\end{aligned}"
   ]
  },
  {
   "cell_type": "markdown",
   "metadata": {},
   "source": [
    "可见$\\max_{\\substack{\n",
    "a\\leq x\\leq b\\\\\n",
    "}}|\\phi(x)-\\psi(x)|=0$故\n",
    "$\\phi(x)=\\psi(x),a \\leq x \\leq b$因此$(*)$在$[a,b]$上存在唯一的连续解"
   ]
  },
  {
   "cell_type": "markdown",
   "metadata": {
    "collapsed": true
   },
   "source": [
    "# <font color='red'>A  11/10"
   ]
  },
  {
   "cell_type": "code",
   "execution_count": null,
   "metadata": {
    "collapsed": true
   },
   "outputs": [],
   "source": []
  }
 ],
 "metadata": {
  "kernelspec": {
   "display_name": "SageMath 7.3",
   "language": "",
   "name": "sagemath"
  },
  "language_info": {
   "codemirror_mode": {
    "name": "ipython",
    "version": 2
   },
   "file_extension": ".py",
   "mimetype": "text/x-python",
   "name": "python",
   "nbconvert_exporter": "python",
   "pygments_lexer": "ipython2",
   "version": "2.7.10"
  }
 },
 "nbformat": 4,
 "nbformat_minor": 0
}
