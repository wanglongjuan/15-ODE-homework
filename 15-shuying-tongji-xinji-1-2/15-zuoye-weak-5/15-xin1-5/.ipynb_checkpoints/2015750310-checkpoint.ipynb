{
 "cells": [
  {
   "cell_type": "markdown",
   "metadata": {},
   "source": [
    "3 题\n",
    "        解：$$易知\\max\\limits_{(x,y)\\in R}\\{f(x,y)\\}=4,h=min{{1,\\frac{1}{4}}}=\\frac{1}{4}$$\n",
    "        $$在R上函数f(x,y)=x^2-y^2的利普希茨常数L=2$$\n",
    "        $$因为\\frac{\\partial f}{\\partial y}=|-2y|≤2$$\n",
    "        $$ψ_0(x)=0,ψ_1(x)=\\frac{x^3}{3}+\\frac{1}{3}$$\n",
    "        $$ψ_2(x)=x^3/3-x/9-x^4/18-x^7/63+11/42$$\n",
    "        $$有误差估计公式得|ψ_2(x)-ψ(x)|≤(4*2^2)/3!*(1/4)^3=1/24$$\n",
    "        $$所以初始值问题的解的存在区间为-4/5≤x≤-3/4$$\n",
    "        $$第2次近似解为y_2=x^3/3-x/9-x^4/18-x^7/63+11/42$$\n",
    "        $$在解的存在区间的误差估计为|y-y_2|≤1/24$$"
   ]
  },
  {
   "cell_type": "markdown",
   "metadata": {},
   "source": [
    "# <font color='red'>注意格式的书写"
   ]
  },
  {
   "cell_type": "markdown",
   "metadata": {},
   "source": [
    "$6.证明格朗沃日不等式：设K是非负常数，f(t)和g(t)为在区间α≤t≤β上的连续非负函数，且满足不等式f(t)≤K+\\int_{α}^t f(s)g(s) d s,α≤t≤β$\n",
    "$则有f(t)≤Kexp(\\int_{α}^t g(s) d s),α≤t≤β.并由此证明定理1的命题5$\n",
    "$证明：(1)K>0时，令w(t)=K+\\int_{α}^t f(s)g(s) d s,则w'(t)=f(t)g(t)≤g(t)w(t)$\n",
    "\n",
    "$由w(t)>0得\\frac{w'(t)}{w(t)}≤g(t),两边从α到t积分得lnw(t)-lnw(α)≤\\int_{α}^t g(s) d s$\n",
    "\n",
    "$即有\\frac{w(t)}{w(α)}≤exp(\\int_{α}^t g(s) d s),w(α)=K>0$\n",
    "\n",
    "$所以w(t)≤K exp(\\int_{α}^t g(s) d s),即有f(t)≤w(t)≤K exp(\\int_{α}^t g(s) d s),α≤t≤β$\n",
    "$(2)K=0时，对任意ε>0,由于f(t)≤\\int_{α}^t f(s)g(s) d s,所以f(t)≤ε+\\int_{α}^t f(s)g(s) d s$\n",
    "\n",
    "$由(1),可得f(t)≤εexp(\\int_{α}^t g(s) d s),当ε趋向于0时，有f(t)≤0$\n",
    "\n",
    "$又因为f(t)≥0,即得f(t)≡0,从而f(t)≤K exp(\\int_{α}^t g(s) d s),α≤t≤β$\n",
    "\n",
    "$由（1）（2）得，格朗沃日不等式成立$\n",
    "$证明定理1的命题5：$\n",
    "\n",
    "$设φ(t),ψ(t)是初值问题x'=f(t,x),x(t_0)=x_0的两个解，则有$\n",
    "\n",
    "$φ(t)=x_0+\\int_{t_0}^t f(ξ,φ(ξ)) d ξ,ψ(t)=x_0+\\int_{t_0}^t f(ξ,ψ(ξ)) d ξ$\n",
    "\n",
    "$于是，|φ(t)-ψ(t)|≤\\int_{t_0}^t |f(ξ,φ(ξ))-f(ξ,ψ(ξ))| d ξ≤L\\int_{t_0}^t |φ(ξ)-ψ(ξ)| d ξ$\n",
    "\n",
    "$由格朗沃日不等式知K=0且0≤|φ(t)-ψ(t)|≤K exp(\\int_{t_0}^t L d ξ)=0$\n",
    "\n",
    "$于是φ(t)=ψ(t)，即证$"
   ]
  },
  {
   "cell_type": "markdown",
   "metadata": {},
   "source": [
    "$8.解：设M=max|f(x,y_0)|,h=β-α,b=Mh及有某常数L使得在域R={(x,y)|α≤x≤β,|y-y_0|≤b}中有$\n",
    "\n",
    "$|f(x,y_1)-f(x,y_2)|≤L|y_1-y_2|,(x,y_1),(x,y_2)∈R$\n",
    "\n",
    "$$构造逐步逼近函数序列\n",
    "\\begin{cases}\n",
    "φ_0(x)=y_0\\\\\n",
    "φ_n(x)=y_0+\\int_{x_0}^x f(ξ,φ_{n-1}(ξ)) d x\n",
    "\\end{cases}\n",
    "$$\n",
    "$α≤x≤β,n=1,2,…$\n",
    "\n",
    "$因为|φ_1(x)-y_0|=|\\int_{x_0}^x f(ξ,y_0) d x|≤\\int_{x_0}^x |f(ξ,y_0)| d x≤M(x-x_0)≤Mh≤b$\n",
    "\n",
    "$可证：|φ_n(x)-φ_{n-1}(x)|≤\\frac{ML^{n-1}(β-α)^n}{n!}$\n",
    "\n",
    "$又|φ_{n+1}(x)-φ_n(x)|≤|\\int_{x_0}^x |f(ξ,φ_n(ξ))-f(ξ,φ_{n-1}(ξ))| d ξ|≤\\frac{ML^n(β-α)^{n+1}}{(n+1)!}$\n",
    "\n",
    "$易知φ_n(x)=φ_0(x)+∑[φ_k(x)-φ_{n-1}(x)]在区间[α,β]一致收敛，于是存在极限φ(x)$\n",
    "\n",
    "$φ(x)=y_0+\\int_{x_0}^x f(ξ,φ(ξ)) d ξ,所以φ(x)是微分方程的解$\n",
    "\n",
    "$设φ(x)，ψ(x)均满足积分方程y=y_0+\\int_{x_0}^x f(ξ,φ(ξ)) d ξ,α≤x_0≤β,α≤x≤β$\n",
    "\n",
    "$当x≥x_0时，有格朗沃日不等式，有|φ(x)-ψ(x)|≤\\int_{x_0}^x |f(s,φ(s))-f(s,ψ(s))| d s≤L\\int_{x_0}^x |φ(x)-ψ(x)| d s$\n",
    "\n",
    "$有|φ(x)-ψ(x)|≤0,即φ(x)≡ψ(x)（α≤x_0≤x≤β）。同理可证α≤x≤x_0≤β时有φ(x)≡ψ(x)$\n",
    "\n",
    "$即积分方程也就是微分方程的解是唯一的$"
   ]
  },
  {
   "cell_type": "markdown",
   "metadata": {},
   "source": [
    "$10.证明：$\n",
    "\n",
    "$作逐步逼近函数序列，取φ_0(x)=f(x),令φ_1(x)=f(x)+λ\\int_{a}^b K(x,ξ)φ_0(ξ) d ξ,…$\n",
    "\n",
    "$φ_{n+1}(x)=f(x)+λ\\int_{a}^b K(x,ξ)φ_n(ξ) d ξ,…$\n",
    "\n",
    "$令M=max|f(x)|,L=max|K(x,ξ)|>0,则$\n",
    "\n",
    "$|φ_1(x)-φ_0(x)|=|λ\\int_{a}^b K(x,ξ)φ_0(ξ) d ξ|≤|λ|\\int_{a}^b |K(x,ξ)||f(ξ)| d ξ≤|λ|ML;(b-a)$\n",
    "\n",
    "$假设|φ_{k+1}(x)-φ_k(x)|=|λ\\int_{a}^b K(x,ξ)(φ_k(ξ)-φ_{k-1}(ξ)) d ξ|≤|λ|^{k+1}L^{k+1}M(b-a)^{k+1}$\n",
    "\n",
    "$由数学归纳法，对任意的n∈N,有|φ_n(x)-φ_{n-1}(x)|≤ML^n|λ|^n(b_a)^n$\n",
    "$接下来证明{φ_n(x)}在[a,b]上一致收敛$\n",
    "\n",
    "$由于|φ_k(x)-φ_{k-1}(x)|≤ML^k|λ|^k(b-a)^k$\n",
    "\n",
    "$当|λ|<\\frac{1}{(b-a)L}时，级数∑ML^k|λ|^k(b-a)^k收敛$\n",
    "\n",
    "$所以，当|λ|<\\frac{1}{(b-a)L}时，级数φ_0(x)+∑ML^k|λ|^k(b-a)^k在[a,b]上一致收敛,即{φ_n(x)}在[a,b]上一致收敛$\n",
    "\n",
    "$设其极限函数为φ'(x),即当x∈[a,b]时，φ_n(x)当n→∞时一致收敛于φ'(x)，且由φ_n(x)的连续性可知φ'(x)在[a,b]上连续$\n",
    "\n",
    "$所以当|λ|<\\frac{1}{(b-a)L}时，积分方程必存在连续解$\n",
    "$设另有解φ\"(x)且φ'(x)≠φ\"(x)，即φ\"(x)=f(x)+λ\\int_{a}^b K(x,ξ)φ\"(x) d ξ$\n",
    "\n",
    "$设M'=max|φ'(x)-φ\"(x)|>0$\n",
    "\n",
    "$|φ'(x)-φ\"(x)|=|λ\\int_{a}^b K(x,ξ)(φ'(x)-φ\"(x)) d ξ|≤|λ|\\int_{a}^b L|φ'(x)-φ\"(x)| d ξ=|λ|M'L(b-a)$\n",
    "\n",
    "$即有M'≤|λ|M'L(b-a).因为M'>0$\n",
    "\n",
    "$所以，|λ|≥\\frac{1}{(b-a)L}，与|λ|<\\frac{1}{(b-a)L}矛盾，所以唯一性成立$\n",
    "\n",
    "$综上，证毕$"
   ]
  },
  {
   "cell_type": "markdown",
   "metadata": {},
   "source": [
    "# <font color='red'>A  11/10"
   ]
  },
  {
   "cell_type": "code",
   "execution_count": null,
   "metadata": {
    "collapsed": true
   },
   "outputs": [],
   "source": []
  }
 ],
 "metadata": {
  "kernelspec": {
   "display_name": "SageMath 7.3",
   "language": "",
   "name": "sagemath"
  },
  "language_info": {
   "codemirror_mode": {
    "name": "ipython",
    "version": 2
   },
   "file_extension": ".py",
   "mimetype": "text/x-python",
   "name": "python",
   "nbconvert_exporter": "python",
   "pygments_lexer": "ipython2",
   "version": "2.7.10"
  }
 },
 "nbformat": 4,
 "nbformat_minor": 0
}
