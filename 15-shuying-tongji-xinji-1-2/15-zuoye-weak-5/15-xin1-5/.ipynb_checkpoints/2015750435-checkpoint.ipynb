{
 "cells": [
  {
   "cell_type": "markdown",
   "metadata": {},
   "source": [
    "**3.求初值问题**"
   ]
  },
  {
   "cell_type": "markdown",
   "metadata": {},
   "source": [
    "$$\\begin{cases}\\frac{\\mathrm dy}{\\mathrm dx}=x^2-y^2,R:|x+1|\\leq1,|y|\\leq1,\\\\y(-1)=0\\end{cases}$$"
   ]
  },
  {
   "cell_type": "markdown",
   "metadata": {},
   "source": [
    "的解的存在区间，并求第二次近似解，给出在解的存在区间的误差估计。"
   ]
  },
  {
   "cell_type": "markdown",
   "metadata": {},
   "source": [
    "解：因为$M=max{|x^2-y^2|}=4$ 则$h=min(a,\\frac{b}{M})=\\frac{1}{4}$"
   ]
  },
  {
   "cell_type": "markdown",
   "metadata": {},
   "source": [
    "则解的存在区间为$|x-x_0|=|x-(-1)|=|x+1|\\leq\\frac{1}{4}$"
   ]
  },
  {
   "cell_type": "markdown",
   "metadata": {},
   "source": [
    "令$Φ_0(x)=0$"
   ]
  },
  {
   "cell_type": "markdown",
   "metadata": {},
   "source": [
    "$Φ_1(x)=y_0+\\int_{x_0}^x(x^2-0)\\mathrm dx=\\frac{1}{3}x^3+\\frac{1}{3}$"
   ]
  },
  {
   "cell_type": "markdown",
   "metadata": {},
   "source": [
    "$Φ_2(x)=y_0+\\int_{-1}^x[x^2-(\\frac{1}{3}x^3+\\frac{1}{3})^2]\\mathrm dx=\\frac{1}{3}x^3-\\frac{x}{9}-\\frac{x^4}{18}-\\frac{x^7}{63}+\\frac{11}{42}$"
   ]
  },
  {
   "cell_type": "markdown",
   "metadata": {},
   "source": [
    "又$|\\frac{\\partial f(x,y)}{\\partial y}|\\leq2=L$"
   ]
  },
  {
   "cell_type": "markdown",
   "metadata": {},
   "source": [
    "则：误差估计为：$|Φ_2(x)-Φ(x)|\\leq\\frac{M*L^2}{(2+1)^2}h^3=\\frac{11}{24}$"
   ]
  },
  {
   "cell_type": "markdown",
   "metadata": {},
   "source": [
    "**6.证明格朗沃尔不等式：**"
   ]
  },
  {
   "cell_type": "markdown",
   "metadata": {},
   "source": [
    "设K为非负常数，$f(t)$和$g(t)$为区间$α\\leq t\\leq β$上的连续非负函数，且满足不等式$f(t)\\leq K+\\int_α^tf(s)g(s)\\mathrm ds,α\\leq t\\leq β，$"
   ]
  },
  {
   "cell_type": "markdown",
   "metadata": {},
   "source": [
    "则有$f(t)\\leq Kexp(\\int_α^tg(s)\\mathrm ds),α\\leq t\\leq β.$"
   ]
  },
  {
   "cell_type": "markdown",
   "metadata": {},
   "source": [
    "并由此证明定理1的命题5."
   ]
  },
  {
   "cell_type": "markdown",
   "metadata": {},
   "source": [
    "证明：令$R(t)=\\int_α^tf(s)g(s)\\mathrm ds,则R’(T)=f(t)g(t)$"
   ]
  },
  {
   "cell_type": "markdown",
   "metadata": {},
   "source": [
    "$R'(T)-R(t)g(t)=f(t)g(t)-R(t)g(t)\\leq kg(t)R'(T)-R(t)g(t)\\leq kg(t);$"
   ]
  },
  {
   "cell_type": "markdown",
   "metadata": {},
   "source": [
    "两边同乘以$exp(-\\int_α^tg(s)\\mathrm ds)$"
   ]
  },
  {
   "cell_type": "markdown",
   "metadata": {},
   "source": [
    "则有：$R'(T)exp(-\\int_α^tg(s)\\mathrm ds)-R(t)g(t)exp(-\\int_α^tg(s)\\mathrm ds)\\leq kg(t)exp(-\\int_α^tg(s)\\mathrm ds)$"
   ]
  },
  {
   "cell_type": "markdown",
   "metadata": {},
   "source": [
    "两边从α到t积分："
   ]
  },
  {
   "cell_type": "markdown",
   "metadata": {},
   "source": [
    "$R(t)exp(-\\int_α^tg(s)\\mathrm ds)\\leq -\\int_α^tkg(s)\\mathrm dsexp(-\\int_α^tg(r)\\mathrm dr)\\mathrm ds$"
   ]
  },
  {
   "cell_type": "markdown",
   "metadata": {},
   "source": [
    "即$R(t)\\leq\\int_α^tkg(s)\\mathrm dsexp(-\\int_s^tg(r)\\mathrm dr)\\mathrm ds$"
   ]
  },
  {
   "cell_type": "markdown",
   "metadata": {},
   "source": [
    "又$f(t)\\leq 1\\leq k+R(t)\\leq k+k\\int_α^tg(s)exp(-\\int_s^tg(r)\\mathrm dr)\\mathrm ds\\leq k(1-1+exp(-\\int_s^tg(r)\\mathrm dr)=kexp(\\int_t^sg(r)\\mathrm dr)$"
   ]
  },
  {
   "cell_type": "markdown",
   "metadata": {},
   "source": [
    "即$f(t)\\leq k\\int_α^tg(r)\\mathrm dr$"
   ]
  },
  {
   "cell_type": "markdown",
   "metadata": {},
   "source": [
    "**8.如果函数$f(x,y)$于带域$α\\leq x\\leq β$上连续且关于y满足利普希茨条件，则方程(3.1)满足条件$y(x_0)=y_0$的解于整个区间[α，β]上存在且唯一.试证明之.**"
   ]
  },
  {
   "cell_type": "markdown",
   "metadata": {},
   "source": [
    "证明：取$y_0(x)=y_0,$"
   ]
  },
  {
   "cell_type": "markdown",
   "metadata": {},
   "source": [
    "$y_1(x)=y_0+\\int_{x_0}^xf(r,y_o(r))\\mathrm dr,$"
   ]
  },
  {
   "cell_type": "markdown",
   "metadata": {},
   "source": [
    "..."
   ]
  },
  {
   "cell_type": "markdown",
   "metadata": {},
   "source": [
    "$y_n(x)=y_0+\\int_{x_0}^xf(r,y_{n-1}(r))\\mathrm dr,$"
   ]
  },
  {
   "cell_type": "markdown",
   "metadata": {},
   "source": [
    "..."
   ]
  },
  {
   "cell_type": "markdown",
   "metadata": {},
   "source": [
    "易见$y_n(x)$在$α\\leq x\\leq β$上存在且连续，然后证明函数列${y_n(x)}$在$α\\leq x\\leq β$上一致收敛."
   ]
  },
  {
   "cell_type": "markdown",
   "metadata": {},
   "source": [
    "考察级数"
   ]
  },
  {
   "cell_type": "markdown",
   "metadata": {},
   "source": [
    "$y_0(x)+\\sum_{k=1}^{\\infty}[y_k(x)-y_{k-1}(x)],x属于[α，β].$"
   ]
  },
  {
   "cell_type": "markdown",
   "metadata": {},
   "source": [
    "取$M=max|f(x,y_0)|$,由上式有"
   ]
  },
  {
   "cell_type": "markdown",
   "metadata": {},
   "source": [
    "$|y_1(x)-y_0(x)|\\leq \\int_{x_0}^x|f(r,y_0(r))|\\mathrm dr\\leq M|x-x_0|$"
   ]
  },
  {
   "cell_type": "markdown",
   "metadata": {},
   "source": [
    "及$|y_2(x)-y_1(x)|\\leq\\int_{x_0}^x|f(r,y_1(r))-f(r,y_0(r))|\\mathrm dr$"
   ]
  },
  {
   "cell_type": "markdown",
   "metadata": {},
   "source": [
    "利用利普希茨条件及上式得："
   ]
  },
  {
   "cell_type": "markdown",
   "metadata": {},
   "source": [
    "$|y_2(x)-y_1(x)|\\leq L\\int_{x_0}^x|y_1(r)-y_0(r)|\\mathrm dr$"
   ]
  },
  {
   "cell_type": "markdown",
   "metadata": {},
   "source": [
    "$\\leq L\\int_{x_0}^xM|r-x_0|\\mathrm dr=\\frac{ML}{2}(x-x_0)^2$"
   ]
  },
  {
   "cell_type": "markdown",
   "metadata": {},
   "source": [
    "那么，由数学归纳法可知，$|y_k(x)-y_{k-1}(x)|\\leq\\frac{ML^{k-1}}{k!}|x-x_0|^k\\leq \\frac{ML^{k-1}}{k!}(β-α)^k$"
   ]
  },
  {
   "cell_type": "markdown",
   "metadata": {},
   "source": [
    "上式右端是正项收敛级数,根据Weierstrass判别法，知级数在$α\\leq x\\leq β$上一致收敛，因而函数列${y_n(x)}$在[α，β]上一致收敛."
   ]
  },
  {
   "cell_type": "markdown",
   "metadata": {
    "collapsed": true
   },
   "source": [
    "# <font color='red'>B  11/10  第１０题没做？？？？"
   ]
  },
  {
   "cell_type": "code",
   "execution_count": null,
   "metadata": {
    "collapsed": true
   },
   "outputs": [],
   "source": []
  }
 ],
 "metadata": {
  "kernelspec": {
   "display_name": "SageMath 7.3",
   "language": "",
   "name": "sagemath"
  },
  "language_info": {
   "codemirror_mode": {
    "name": "ipython",
    "version": 2
   },
   "file_extension": ".py",
   "mimetype": "text/x-python",
   "name": "python",
   "nbconvert_exporter": "python",
   "pygments_lexer": "ipython2",
   "version": "2.7.10"
  }
 },
 "nbformat": 4,
 "nbformat_minor": 0
}
