{
 "cells": [
  {
   "cell_type": "markdown",
   "metadata": {},
   "source": [
    "一。求初值问题\n",
    "$$\n",
    "\\begin{cases}\n",
    "\\frac{\\mathrm dy}{\\mathrm dx}=x^2-y^2,R:|x+1|\\leq1,|y|\\leq1\\\\\n",
    "y(-1)=0\\\\\n",
    "\\end{cases}\n",
    "$$的解的存在区间，并求第二次近似解，给出在解的存在区间的误差估计。"
   ]
  },
  {
   "cell_type": "markdown",
   "metadata": {},
   "source": [
    "解：因为$M=max{|x^2-y^2|}=4$,则$h=min(a,\\frac{b}{M})=\\frac{1}{4}$,则解的存在区间为$|x-x_0|=|x-(-1)|=|x+1|\\leq\\frac{1}{4}$\n",
    "令$\\varphi_1(x)=0$,则$\\varphi_1(x)=y_0+\\int\\limits_{x_0}^x (x^2-0)\\,\\mathrm{d}x=\\frac{1}{3}x^3+\\frac{1}{3}$\n",
    "$\\varphi_2(x)=y_0+\\int\\limits_{-1}^{x} [x^2-(\\frac{1}{3}x^3+\\frac{1}{3})^2]\\,\\mathrm{d}x=\\frac{1}{3}x^3-\\frac{x}{9}-\\frac{x^4}{18}-\\frac{x^7}{63}+\\frac{11}{42}$\n",
    "又因为$|\\frac{\\partial f(x,y)}{\\partial y}|\\leq 2=L$\n",
    "则误差评估为$|\\varphi_2(x)-\\varphi(x)|\\leq \\frac{M*L^2}{(2+1)^2}h^3=\\frac{11}{24}$"
   ]
  },
  {
   "cell_type": "markdown",
   "metadata": {},
   "source": [
    "二。证明格朗沃尔不等式：\n",
    "设K为非负常数，f(t)和g(t)为在区间$\\alpha\\leq t \\leq\\beta$上的连续非负函数，且满足不等式$$f(t)\\leq K+\\int\\limits_{\\alpha}^{t} f(s)g(s)\\, \\mathrm{d}s$$,则有$$f(t)\\leq Kexp(\\int\\limits_{\\alpha}^{t} g(s)\\,\\mathrm{d}s),\\alpha\\leq t \\leq\\beta$$.并由此证明定理1的命题5."
   ]
  },
  {
   "cell_type": "markdown",
   "metadata": {},
   "source": [
    "证明：$令R(t)=\\int\\limits_{\\alpha}^{t} f(s)g(s)\\,\\mathrm{d}s$,则R(T)=f(t)g(t).\n",
    "$R(T)-R(t)g(t)=f(t)g(t)-R(t)g(t)\\leq kg(t)R(T)-R(t)g(t)\\leq kg(t)$,两边同乘以$exp(-\\int\\limits_{\\alpha}^{t} g(s)\\,\\mathrm{d}s)则有R(T)exp(-\\int\\limits_{\\alpha}^{t} g(s)\\,\\mathrm{d}s)-R(t)g(t)exp(-\\int\\limits_{\\alpha}^{t} g(s)\\,\\mathrm{d}s)\\leq kg(t)exp(-\\int\\limits_{\\alpha}^{t} g(s)\\,\\mathrm{d}s)$\n",
    "$两边从\\alpha到t积分：R(t)exp(-\\int\\limits_{\\alpha}^{t} g(s)\\,\\mathrm{d}s)\\leq -\\int\\limits_{\\alpha}^{t} kg(s)\\,\\mathrm{d}s exp(-\\int\\limits_{\\alpha}^{t} g(r)\\,\\mathrm{d}r){\\mathrm ds}$\n",
    "$即R(t)\\leq \\int\\limits_{\\alpha}^{t} kg(s)\\,\\mathrm{d}s  exp(-\\int\\limits_{s}^{t} g(r)\\,\\mathrm{d}r){\\mathrm ds}$\n",
    "$又f(t)\\leq t \\leq k+R(t)\\leq k+k\\int\\limits_{\\alpha}^{t} g(s)\\,\\mathrm{d}s  exp(-\\int\\limits_{s}^{t} g(r)\\,\\mathrm{d}r){\\mathrm ds}\\leq k(1-1+ exp(-\\int\\limits_{s}^{t} g(r)\\,\\mathrm{d}r))=k exp(\\int\\limits_{t}^{s} g(r)\\,\\mathrm{d}r)$,$即f(t)\\leq k\\int\\limits_{\\alpha}^{t} g(r)\\,\\mathrm{d}r$"
   ]
  },
  {
   "cell_type": "markdown",
   "metadata": {},
   "source": [
    "三。如果函数f(x,y)于带域$\\alpha\\leq x\\leq\\beta$上连续且关于y满足利普希茨条件，则方程（3.1）满足条件$y(x_0)=y_0$的解于整个区间$[\\alpha,\\beta]$上存在且唯一。试证明。$（提示：用逐步逼近法，取M=\\max \\limits_{x \\in[\\alpha,\\beta]} |f(x,y_0)|）$"
   ]
  },
  {
   "cell_type": "markdown",
   "metadata": {},
   "source": [
    "解：设$M=\\max \\limits_{x\\in [a,b]}|f(x,y_0)|,h=\\beta - \\alpha,b=Mh $及有某数L使得在域$R=\\{(x,y)|\\alpha \\leq x \\leq \\beta,|y-y_0| \\leq b\\}$中有$$|f(x,y_1)-f(x,y_2)| \\leq L|y_1-y_2|,(x,y_1),(x,y_2) \\in R$$\n",
    "构造逐步逼近函数序列\n",
    "$$\n",
    "\\begin{cases}\n",
    "\\varphi_0(x)=y_0\\\\\n",
    "\\varphi_n(x)=y_0+\\int\\limits_{x_0}^{x} f(\\xi,\\varphi_{n-1}(\\xi))\\,\\mathrm{d}x,\\alpha \\leq x \\leq \\beta,n=1,2,\\ldots\\\\\n",
    "\\end{cases}\n",
    "$$\n",
    "$因为|\\varphi_1(x)-y_0|=|\\int_{x_0}^x f(\\xi,y_0)\\mathrm d x| \\leq \\int_{x_0}^x |f(\\xi,y_0)|\\mathrm d x \\leq M(x-x_0) \\leq Mh \\leq b$,可证$$|\\varphi_n(x)-\\varphi_{n-1}(x)| \\leq \\frac{M}{n!}L^{n-1}(\\beta - \\alpha)^n$$\n",
    "事实上有$$|\\varphi_{n+1}(x)-\\varphi_n(x)| \\leq |\\int_{x_0}^x |f(\\xi,\\varphi_n(\\xi))-f(\\xi,\\varphi_{n-1}(\\xi))|\\mathrm d \\xi|$$\n",
    "$$ \\leq L |\\int_{x_0}^x |\\varphi_n(\\xi)-\\varphi_{n-1}(\\xi)|\\mathrm d \\xi|$$\n",
    "$$ \\leq L |\\int_{x_0}^x \\frac{M}{n!}L^{n-1}|\\xi - x_0|^n \\mathrm d \\xi|$$\n",
    "$$ \\leq L \\frac{M}{(n+1)!}L^{n}|x - x_0|^{n+1}$$\n",
    "$$ \\leq L \\frac{M}{(n+1)!}L^{n}(\\beta - \\alpha)^{n+1}$$\n",
    "由于级数$\\displaystyle\\sum_{k=1}^\\infty \\frac{M}{k!}L^{k-1}(\\beta - \\alpha)^{k}$收敛，知级数\n",
    "$$\\varphi_n(x)=\\varphi_0(x)+\\displaystyle\\sum_{k=1}^\\infty [\\varphi_k(x)-\\varphi_{k-1}(x)]$$\n",
    "在区间$[\\alpha,\\beta]$一致收敛，于是存在极限$\\lim \\limits_{n \\to \\infty} \\varphi_n(x)=\\varphi(x)$，它在区间$[\\alpha,\\beta]$连续且\n",
    "$$\\varphi(x)=\\lim \\limits_{n \\to \\infty} \\varphi_n(x)=y_0+\\lim \\limits_{n \\to \\infty} \\int_{x_0}^x f(\\xi,\\varphi_{n-1}(\\xi))\\mathrm d x$$\n",
    "$$=y_0+\\int_{x_0}^x f(x,\\lim \\limits_{n \\to \\infty}\\varphi_{n-1}(\\xi))\\mathrm d \\xi$$\n",
    "$$=y_0+\\int_{x_0}^x f(\\xi,\\varphi(\\xi))\\mathrm d \\xi$$\n",
    "故$\\varphi(x)$是积分方程也就是微分方程得解\n",
    "设$\\phi(x),\\varphi(x)$均满足积分方程\n",
    "$$y=y_0+\\int_{x_0}^x f(\\xi,\\varphi(\\xi))\\mathrm d \\xi,\\alpha \\leq x_0 \\leq \\beta,\\alpha \\leq x \\leq \\beta$$\n",
    "当$x \\geq x_0$时，利用格朗沃尔不等式，由\n",
    "$$|\\varphi(x)-\\phi(x)| \\leq \\int_{x_0}^x |f(s,\\varphi_{n-1}(s))-|f(s,\\phi_{n-1}(s))|\\mathrm d s$$\n",
    "有$|\\varphi(x)-\\phi(x)| \\leq 0$即$\\varphi(x) \\equiv \\phi(x)(\\alpha \\leq x_0 \\leq x \\leq \\beta)$\n",
    "同理可证当$\\alpha \\leq x \\leq x_0 \\leq \\beta$时有$\\varphi(x) \\equiv \\phi(x)$\n",
    "即积分方程也就是微分方程得解是唯一的"
   ]
  },
  {
   "cell_type": "markdown",
   "metadata": {},
   "source": [
    "四。给定积分方程\n",
    "$$\\varphi(x)=f(x)+\\lambda\\int\\limits_a^b K(x,\\xi)\\varphi(\\xi)\\,\\mathrm{d}\\xi$$\n",
    "$其中f(x)是[a,b]上的已知连续函数，K（x,\\xi）是a\\leq x \\leq b,a\\leq \\xi \\leq b上的已知连续函数。证明当|\\lambda|足够小时(\\lambda是常数)，在[a,b]上存在唯一的连续解$\n",
    "（提示：作逐步逼近函数序列\n",
    "$$\\varphi_0(x)=f(x)$$\n",
    "$$\\varphi_(n+1)(x)=f(x)+\\lambda\\int\\limits_a^b K(x,\\xi)\\varphi_n(\\xi)\\,\\mathrm{d}\\xi (n=0,1,2,\\dots)）$$"
   ]
  },
  {
   "cell_type": "markdown",
   "metadata": {},
   "source": [
    "解：构造逐步逼近函数序列，取$\\varphi_0(x)=f(x)$\n",
    "\n",
    "令$$\\varphi_1(x)=f(x)+\\lambda \\int_a^b K(x,\\xi)\\varphi_0(\\xi)\\mathrm d \\xi,\\ldots$$\n",
    "$$\\varphi_{n+1}(x)=f(x)+\\lambda \\int_a^b K(x,\\xi)\\varphi_n(\\xi)\\mathrm d \\xi,\\ldots$$\n",
    "\n",
    "令$$M=\\max \\limits_{x \\in [a,b]}|f(x)|,L=\\max_{\\substack{x \\in [a,b]\\ \\xi \\in [a,b]}}|K(x,\\xi)|>0$$则\n",
    "$$|\\varphi_1(x)-\\varphi_0(x)|=|\\lambda  \\int_a^b K(x,\\xi)\\varphi_0(\\xi)\\mathrm d \\xi| \\leq |\\lambda|\\int_a^b |K(x,\\xi)||f(\\xi)|\\mathrm d \\xi \\leq |\\lambda|ML(b-a)$$\n",
    "假设$|\\varphi_k(x)-\\varphi_{k-1}(x)| \\leq {|\\lambda|}^k L^k M(b-a)^k$成立，则\n",
    "$$|\\varphi_{k+1}(x)-\\varphi_k(x)|=|\\lambda \\int_a^b K(x,\\xi)(\\varphi_k(\\xi)-\\varphi_{k-1}(\\xi))\\mathrm d \\xi|$$\n",
    "$$ \\leq |\\lambda|\\int_a^b |K(x,\\xi)||\\varphi_k(\\xi)-\\varphi_{k-1}(\\xi)|\\mathrm d \\xi$$\n",
    "$$ \\leq |\\lambda| \\int_a^b L^{k+1} {|\\lambda|}^k M(b-a)^k \\mathrm d \\xi$$\n",
    "$$ =|\\lambda|^{k+1} L^{k+1} M(b-a)^{k+1}$$\n",
    "\n",
    "由数学归纳法可知，对任意的$n \\in N$,有\n",
    "$$|\\varphi_n(x)-\\varphi_{n-1}(x)| \\leq ML^n|\\lambda|^n(b-a)^n$$\n",
    "\n",
    "下证$\\{\\varphi_n(x)\\}$在$[a,b]$上一致收敛，考虑级数$\\varphi_0(x)+\\displaystyle\\sum_{k=1}^\\infty (\\varphi_k(x)-\\varphi_{k-1}(x))$\n",
    "\n",
    "只需证该级数在$[a,b]$上一致收敛即可，由于\n",
    "$$|\\varphi_k(x)-\\varphi_{k-1}(x)| \\leq ML^n|\\lambda|^n(b-a)^n$$\n",
    "\n",
    "当$|\\lambda|<\\frac{1}{(b-a)L}$时，级数$\\displaystyle\\sum_{k=1}^\\infty ML^k|\\lambda|^k(b-a)^k$收敛\n",
    "\n",
    "由此可知当$|\\lambda|<\\frac{1}{(b-a)L}$时，级数$\\varphi_0(x)+\\displaystyle\\sum_{k=1}^\\infty (\\varphi_k(x)-\\varphi_{k-1}(x))$在$[a,b]$上一致收敛\n",
    "\n",
    "即$\\{\\varphi_n(x)\\}$在$[a,b]$上一致收敛，不妨设其极限函数为$\\varphi^*(x)$,即当$x \\in [a,b]$时，$\\varphi_n(x)$当$n \\to \\infty$时一致收敛于$\\varphi^*(x)$，且由$\\varphi_n(x)$得连续性知$\\varphi^*(x)$在$[a,b]$上连续，$\\varphi_{n+1}(x)=f(x)+\\lambda \\int_a^b K(x,\\xi)\\varphi_n(\\xi)\\mathrm d \\xi,\\ldots$，当$n \\to \\infty$时两边取极限，得\n",
    "$$\\varphi^*(x)=f(x)+\\lambda \\int_a^b K(x,\\xi)\\varphi^*(x)\\mathrm d \\xi    (|\\lambda|<\\frac{1}{(b-a)L})$$\n",
    "即当$|\\lambda|<\\frac{1}{(b-a)L}$时,积分方程必存在连续解\n",
    "\n",
    "现在证当$|\\lambda|<\\frac{1}{(b-a)L}$时，$\\varphi(x)=f(x)+\\lambda \\int_a^b K(x,\\xi)\\varphi(\\xi)\\mathrm d \\xi$的解得唯一性，用反证法\n",
    "\n",
    "设另有解$\\varphi_m(x)$且$\\varphi_m(x) \\neq \\varphi^*(x)$，即$$\\varphi_m(x)=f(x)+\\lambda \\int_a^b K(x,\\xi)\\varphi_m(\\xi)\\mathrm d \\xi$$\n",
    "记$$G=\\max \\limits_{x \\in [a,b]}|\\varphi^*(x)-\\varphi_m(x)|>0$$\n",
    "$$|\\varphi^*(x)-\\varphi_m(x)|=|\\lambda \\int_a^b K(x,\\xi)(\\varphi^*(x)-\\varphi_m(\\xi))\\mathrm d \\xi|$$\n",
    "$$ \\leq |\\lambda| \\int_a^b L |\\varphi^*(x)-\\varphi_m(\\xi)| \\mathrm d \\xi=|\\lambda|GL(b-a)$$\n",
    "\n",
    "即有$G \\leq |\\lambda|GL(b-a)$,由于$G>0$,所以，$|\\lambda| \\geq \\frac{1}{(b-a)L}$,与$|\\lambda|<\\frac{1}{(b-a)L}$矛盾，唯一性可证。\n"
   ]
  },
  {
   "cell_type": "markdown",
   "metadata": {},
   "source": [
    "# <font color='red'>A＋  11/10"
   ]
  },
  {
   "cell_type": "code",
   "execution_count": null,
   "metadata": {
    "collapsed": true
   },
   "outputs": [],
   "source": []
  }
 ],
 "metadata": {
  "kernelspec": {
   "display_name": "SageMath 7.3",
   "language": "",
   "name": "sagemath"
  },
  "language_info": {
   "codemirror_mode": {
    "name": "ipython",
    "version": 2
   },
   "file_extension": ".py",
   "mimetype": "text/x-python",
   "name": "python",
   "nbconvert_exporter": "python",
   "pygments_lexer": "ipython2",
   "version": "2.7.10"
  }
 },
 "nbformat": 4,
 "nbformat_minor": 0
}
