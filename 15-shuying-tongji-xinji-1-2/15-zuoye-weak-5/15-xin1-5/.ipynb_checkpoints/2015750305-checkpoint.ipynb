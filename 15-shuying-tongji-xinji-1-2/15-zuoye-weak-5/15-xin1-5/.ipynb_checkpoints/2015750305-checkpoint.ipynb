{
 "cells": [
  {
   "cell_type": "markdown",
   "metadata": {
    "collapsed": true
   },
   "source": [
    "$一\\quad求初值问题\\begin{cases}\\frac{dy}{dx}=x^2-y^2,R;|x+1|\\leq 1,|y|\\leq 1,\\\\y(-1)=0\\\\\\end{cases}的解的存在空间，并求第二次近似解，给出在解的存在区间的误差估计.$"
   ]
  },
  {
   "cell_type": "markdown",
   "metadata": {},
   "source": [
    "解"
   ]
  },
  {
   "cell_type": "markdown",
   "metadata": {},
   "source": [
    "$有M=max_{(x,y)\\in R}|f(x,y)|=4,h是a=1及\\frac b M=\\frac 1 4中的最小者，故h=\\frac 1 4,在R上函数f(x,y)=x^2-y^2的利普希茨常熟可\n",
    "取为L=2$$因为\\frac{\\partial f}{\\partial y}=|-2y|\n",
    "\\leq2=L$    \n"
   ]
  },
  {
   "cell_type": "markdown",
   "metadata": {},
   "source": [
    "$\\varphi_o (x)=0,\\varphi_1 (x)=\\int_{-1}^{x}(t^2-\\varphi_o ^2 (t))dt=\\frac {x^3} {3}+\\frac{1}{3},\\varphi_2(x)=\\int_{-1}^{x}(t^2-\\varphi_1^2(t))dt=\\frac {x^3}{3}-\\frac {x}{9}-\\frac {x^4}{18}-\\frac {x^7}{63}+\\frac {11}{42}$"
   ]
  },
  {
   "cell_type": "markdown",
   "metadata": {},
   "source": [
    "由误差估计公式得"
   ]
  },
  {
   "cell_type": "markdown",
   "metadata": {},
   "source": [
    "$|\\varphi_2(x)-\\varphi(x)|\\leq\\frac {4*2^2}{3!}*(\\frac 1 4)^3=\\frac{1}{24}$"
   ]
  },
  {
   "cell_type": "markdown",
   "metadata": {},
   "source": [
    "$故已知初值问题的解的存在空间为-\\frac {5} {4}\\leq x\\leq -\\frac {3}{4},第二次近似解为y_2=\\frac {x^3}{3}-\\frac {x}{9}-\\frac {x^4}{18}-\\frac {x^7}{63}+\\frac {11}{42}\n",
    ",在解的存在区间的误差估计为|y-y_2|\\leq\\frac {1}{24}$"
   ]
  },
  {
   "cell_type": "markdown",
   "metadata": {},
   "source": [
    "$二\\quad证明格朗沃尔（Gronwall)不等式：设K为非负常数，f(t)和g(t)为在区间\\alpha\\leq t\\leq \\beta上的连续非负函数，且满足不等式$$f(t)\\leq K+\\int_\\alpha^t f(s)g(s)ds,\\alpha\\leq t \\leq\\beta$"
   ]
  },
  {
   "cell_type": "markdown",
   "metadata": {},
   "source": [
    "$则有f(t)\\leq Kexp(\\int_\\alpha^t g(s)ds),\\alpha\\leq t \\leq\\beta.并由此证明定理1的命题5.$"
   ]
  },
  {
   "cell_type": "markdown",
   "metadata": {},
   "source": [
    "证明"
   ]
  },
  {
   "cell_type": "markdown",
   "metadata": {},
   "source": [
    "$1）K>0时，令w(t)=K+\\int_\\alpha^t f(s)g(s)ds,则w\\prime(t)=f(t)g(t)\\leq g(t)w(t),由w(t)>0可得\\frac {w\\prime(t)}{w(t)}\\leq g(t$)"
   ]
  },
  {
   "cell_type": "markdown",
   "metadata": {},
   "source": [
    "$两边从\\alpha到t积分得lnw(t)-lnw(\\alpha)\\leq\\int_{\\alpha}^{t}g(s)ds$\n",
    "\n",
    "$即有\\frac{w(t)}{w(\\alpha)}\\leq exp(\\int_{\\alpha}^{t}g(s)ds),w(\\alpha)=K>0$\n",
    "\n",
    "$所以w(t)\\leq K*exp(\\int_{\\alpha}^{t}g(s)ds),即有f(t)\\leq w(t)\\leq Kexp(\\int_{\\alpha}^{t}g(s)ds),\\alpha\\leq t\\leq \\beta$"
   ]
  },
  {
   "cell_type": "markdown",
   "metadata": {},
   "source": [
    "$2)当K=0时，对任意\\gamma>0,由于f(t)\\leq\\int_{\\alpha}^{t}f{s}g(s)ds,所以，f(t)\\leq\\gamma+\\int f(s)g(s)ds,$\n",
    "\n",
    "$由1），有f(t)\\leq\\gamma exp(\\int_{\\alpha}^{t}g(s)ds).当\\gamma\\rightarrow0时，有f(t)\\leq 0$\n",
    "\n",
    "$又因为f(t)\\geq0,即得f(t)\\equiv0 .从而f(t)\\leq Kexp(\\int_{\\alpha}^{t}g(s)ds),\\alpha\\leq t\\leq \\beta.$"
   ]
  },
  {
   "cell_type": "markdown",
   "metadata": {},
   "source": [
    "$由1）2）知，格朗沃尔不等式成立，证毕.$\n",
    "\n",
    "$下面利用格朗沃尔不等式证明命题5$\n",
    "\n",
    "$证明：设\\varphi(t),\\psi(t)是初值问题.x\\prime=f(t,x),x(t_o)=x_o的两个解，则有$"
   ]
  },
  {
   "cell_type": "markdown",
   "metadata": {},
   "source": [
    "$\\varphi(t)=x_o+\\int_{t_o}^{t}f(\\gamma,\\varphi(\\gamma))d\\gamma,\\psi(t)=x_o+\\int_{t_o}^{t}f(\\gamma,\\varphi(\\gamma))d\\gamma.$\n",
    "\n",
    "$于是，|\\varphi(t)-\\psi(t)|\\leq\\int_{t_o}^{t}|f(\\gamma,\\varphi(\\gamma)-f(\\gamma,\\psi(\\gamma)))|d\\gamma\\leq L\\int_{t_o}^{t}\n",
    "|\\varphi(\\gamma)-\\psi(\\gamma)|d\\gamma,其中L为利普茨条件.由格朗沃尔不等式知0\\leq|\\varphi(t)-\\psi(t)|\\leq0\n",
    "$$因而有\\varphi(t)=\\psi(t).即命题5得证.$"
   ]
  },
  {
   "cell_type": "markdown",
   "metadata": {},
   "source": [
    "$三\\quad如果函数f(x,y)于带域\\alpha\\leq x\\leq\\beta上连续且关于y满足利普希茨条件，则方程（3，1）满足条件y(x_o)=y_o的解于整个区间[\\alpha,\\beta]\n",
    "上存在且唯一，试证明之$\n",
    "\n",
    "$证明：方程（3，1）满足条件y（x_o)=y_o的解等价于求积分方程y=y_o+\\int_{x_o}^{x}f(x,y)dx,x\\in [\\alpha,\\beta]的连续解$$因此只需证明上述积分方程的\n",
    "解的存在唯一性即可.$\n"
   ]
  },
  {
   "cell_type": "markdown",
   "metadata": {},
   "source": [
    "$取y_o(x)=y_o,y_1(x)=y_o+\\int_{x_o}{x}f(\\gamma,y_o(\\gamma))d\\gamma,,,,,,y_n(x)=y_o+\\int_{x_o}{x}f(\\gamma,y_{n-1}(\\gamma))d\\gamma,,,$\n",
    "\n",
    "$易得出y_n(x)在\\alpha\\leq x\\leq\\beta上存在且连续。下面证明函数列{y_n(x)}在\\alpha\\leq x\\leq\\beta上一致收敛$"
   ]
  },
  {
   "cell_type": "markdown",
   "metadata": {},
   "source": [
    "$考察级数y_o(x)+\\displaystyle\\sum_{k=1}^{\\infty}[y_k(x)-y_{k-1}(x)],x\\in[\\alpha,\\beta].$"
   ]
  },
  {
   "cell_type": "markdown",
   "metadata": {},
   "source": [
    "$取M=\\max\\limits_{(x,y)\\in {\\alpha,\\beta}}|f(x,y_o)|,由前式有|y_1(x)-y_o(x)|\\leq\\int_{x_o}^{x}|f(\\gamma,y_o(\\gamma))|d\\gamma\\leq M|x-x_O|,$"
   ]
  },
  {
   "cell_type": "markdown",
   "metadata": {},
   "source": [
    "$及|y_2(x)-y_1(x)|\\leq\\int_{x_o}^{x}|f(\\gamma,y_1(\\gamma))-f(\\gamma,y_o(\\gamma))|d\\gamma.利用利普希茨条件得到$"
   ]
  },
  {
   "cell_type": "markdown",
   "metadata": {},
   "source": [
    "$|y_2(x)-y_1(x)|\\leq L\\int_{x_o}^{x}|y_1(\\gamma)-y_o(\\gamma)|d\\gamma\\leq L\\int_{x_o}{x}M|\\gamma-x_o|d\\gamma=\\frac{ML}{2!}(x-x_o)^2.$\n",
    "\n",
    "$于是,由数学归纳法知，|y_k(x)-y_{k-1}(x)|\\leq\\frac {ML^{K-1}}{k!}|x-x_o|^k\\leq\\frac {ML^{k-1}}{{k!}}(\\beta-\\alpha)^k.$\n",
    "\n",
    "$上式右端是正项收敛级数\\displaystyle\\sum_{k=1}^{\\infty}\\frac {ML^{k-1}}{k!}(\\beta-\\alpha)^k的一般项.\n",
    "由判别法知在\\alpha\\leq x\\leq\\beta上一致收敛$"
   ]
  },
  {
   "cell_type": "markdown",
   "metadata": {},
   "source": [
    "$因而函数列{y_n(x)}在[\\alpha,\\beta]上一致收敛.现设\\lim\\limits_{n\\rightarrow\\infty}y_n(x)=y(x),易知y(x)在[\\alpha,\\beta]上连续，\n",
    "且{f（x,y_n(x))}在[\\alpha,\\beta]上一致收敛于f(x,y(x)).$\n",
    "\n",
    "$因而，对前式两边取极限，即得y(x)=y_o+\\int_{x_o}^{x}f(\\gamma,y(\\gamma))d\\gamma,解的存在性得证$"
   ]
  },
  {
   "cell_type": "markdown",
   "metadata": {},
   "source": [
    "# <font color='red'>唯一性"
   ]
  },
  {
   "cell_type": "markdown",
   "metadata": {
    "collapsed": true
   },
   "source": [
    "$四\\quad给定积分方程\\varphi(x)=f(x)+C\\int_{a}^{b}K(x,\\gamma)\\varphi(\\gamma)d\\gamma,其中f(x)是[a,b]上的已知连续函数，\n",
    "K(x,\\gamma)是a\\leq x\\leq b,a\\leq \\gamma\\leq b上的已知连续函数\n",
    "$证明当|C|足够小时（C是常数），上式在[a,b]上存在唯一的连续解$"
   ]
  },
  {
   "cell_type": "markdown",
   "metadata": {},
   "source": [
    "证明$\\quad 作逐次逼近序列，取\\varphi_o(x)=f(x),令\\varphi_1(x)=f(x)+C\\int_{a}^{b}k(x,\\gamma)\\varphi_o(\\gamma)d\\gamma$\n",
    "\n",
    "$......\\varphi_{n+1}(x)=f(x)+C\\int_{a}^{b}k(x,\\gamma)\\varphi_n(\\gamma)d\\gamma........$"
   ]
  },
  {
   "cell_type": "markdown",
   "metadata": {},
   "source": [
    "$令M=\\max\\limits_{x\\in[a,b]}|f(x)|,L=\\max\\limits_{\\substack{x\\in[a,b] \\\\ \\gamma\\in[a,b]}}|k(x,\\gamma)|>0$"
   ]
  },
  {
   "cell_type": "markdown",
   "metadata": {},
   "source": [
    "$|\\varphi_1(x)-\\varphi_o(x)|\\leq |C|ML(b-a),假设|\\varphi_k(x)-\\varphi_{k-1}(x)|\\leq|C|^kL^kM(b-a)^k成立，则有$\n",
    "\n",
    "$|\\varphi_{k+1}(x)-\\varphi_{k}(x)|\\leq|C|^{k+1}L^{k+1}M(b-a)^{k+1},由归纳法知，对任意的n\\in N,有$"
   ]
  },
  {
   "cell_type": "markdown",
   "metadata": {},
   "source": [
    "$|\\varphi_n(x)-\\varphi_{n-1}(x)|\\leq ML^n|C|^n(b-a)^n.下证{\\varphi_n(x)}在[a,b]上一致收敛$\n",
    "\n",
    "$考虑级数\\varphi_o(x)+\\displaystyle\\sum_{k=1}^{\\infty}(\\varphi_k(x)-\\varphi_{k-1}(x)),该级数的前n项和为$\n",
    "\n",
    "$\\varphi_o(x)+\\displaystyle\\sum_{k=1}^{\\infty}(\\varphi_k(x)-\\varphi_{k-1}(x))=\\varphi_n(x).\n",
    "$$所以要证\\varphi_n(x)在[a,b]上一致收敛，只需证级数在[a,b]上一致收敛即可$"
   ]
  },
  {
   "cell_type": "markdown",
   "metadata": {},
   "source": [
    "$由于|\\varphi_k(x)-\\varphi_{k-1}(x)|\\leq ML^k|C|^k(b-a)^k,当|C|<\\frac {1}{(b-a)L}时$\n",
    "\n",
    "$级数\\displaystyle\\sum_{k=1}^{\\infty}ML^k|C|^k(b-a)^k收敛，由此知当|C|<\\frac {1}{(b-a)L}时，级数在[a,b]上一致收敛.\n",
    "$$设极限函数为\\varphi^*(x),即x\\in[a,b]时，当n\\rightarrow_{\\infty}时，\\varphi_n(x)一致收敛于\\varphi^*(x)$"
   ]
  },
  {
   "cell_type": "markdown",
   "metadata": {},
   "source": [
    "$两边取极限得\\varphi^*(x)=f(x)+C\\int_{a}^{b}k(x,\\gamma)\\varphi^*(\\gamma)d\\gamma.(|C|<\\frac {1}{(b-a)L})$\n",
    "$这就证明了当|C|<\\frac {1}{(b-a)L}时，积分方程必存在连续解$"
   ]
  },
  {
   "cell_type": "markdown",
   "metadata": {},
   "source": [
    "$下证当|C|<\\frac {1}{(b-a)L}时，方程解的唯一性$\n",
    "\n",
    "$设令有解\\varphi^-(x) \\neq \\varphi^*(x),即\\varphi^-(s)=f(x)+|C|\\int_{a}^{b}k(x,\\gamma)\\varphi^-(\\gamma)d\\gamma$"
   ]
  },
  {
   "cell_type": "markdown",
   "metadata": {},
   "source": [
    "$记Q=\\max\\limits_{x\\in[a,b]}|\\varphi^*(x)-\\varphi^-(x)|>0$\n",
    "$|\\varphi^*(x)-\\varphi^-(x)|\\leq|C|\\int_{a}^{b}L|\\varphi^*(\\gamma)-\\varphi^-(\\gamma)|d\\gamma=|C|QL(b-a)$\n",
    "$即有Q\\leq|C|QL(b-a),由于Q>0,所以|C|\\leq\\frac {1}{(b-a)L},与|C|<\\frac {1}{(b-a)L}矛盾，唯一性得证.$"
   ]
  },
  {
   "cell_type": "markdown",
   "metadata": {
    "collapsed": true
   },
   "source": [
    "# <font color='red'>A  11/10"
   ]
  },
  {
   "cell_type": "code",
   "execution_count": null,
   "metadata": {
    "collapsed": true
   },
   "outputs": [],
   "source": []
  }
 ],
 "metadata": {
  "kernelspec": {
   "display_name": "SageMath 7.3",
   "language": "",
   "name": "sagemath"
  },
  "language_info": {
   "codemirror_mode": {
    "name": "ipython",
    "version": 2
   },
   "file_extension": ".py",
   "mimetype": "text/x-python",
   "name": "python",
   "nbconvert_exporter": "python",
   "pygments_lexer": "ipython2",
   "version": "2.7.10"
  }
 },
 "nbformat": 4,
 "nbformat_minor": 0
}
