{
 "cells": [
  {
   "cell_type": "markdown",
   "metadata": {},
   "source": [
    "**常微分方程第四次作业**\n",
    "\n",
    "       姓名： 唐梦圆    学号：2015710823     班级：信息与计算科学一班\n",
    "\n",
    "3.求初值问题$\n",
    "            \\begin{cases}\n",
    "            \\frac{\\mathrm dy}{\\mathrm dx}=x^2-y^2,R:|x+1|\\leq1,|y|\\leq1,\\\\\n",
    "            y(-1)=0\n",
    "            \\end{cases}\n",
    "            $\n",
    "的解的存在区间，并求第二次近似解，给出在解的存在区间的误差估计。         "
   ]
  },
  {
   "cell_type": "markdown",
   "metadata": {},
   "source": [
    "解：$M=max|x^2-y^2|=4,\\\\\n",
    "h=min(a,\\frac{b}{M})=\\frac{1}{4}\\\\\n",
    "则解的存在区间为|x-x_0|=|x-(-1)|=|x+1|\\leq\\frac{1}{4}\\\\\n",
    "令\\psi_0(X)=0,\\psi_1(x)=y_0+\\int\\limits_{x_0}^x (x^2-0)dx=\\frac{x^3}{3}\\\\\n",
    "\\psi_2(x)=y_0+\\int\\limits_{-1}^x [x^2-(\\frac{x^3}{3}+\\frac{1}{3})^2]dx=\\frac{x^3}{3}-\\frac{x}{9}-\\frac{x^4}{18}-\\frac{x^7}{63}+\\frac{11}{42}\\\\\n",
    "|\\frac{\\varphi f(x,y)}{\\varphi y}\\leq2=L,\\\\\n",
    "误差估计：|\\psi_2(x)-\\psi (x)|\\leq\\frac{ML^2h^3}{9}=\\frac{11}{24}$"
   ]
  },
  {
   "cell_type": "markdown",
   "metadata": {},
   "source": [
    "6.$证明格朗沃尔不等式。\n",
    "设K为非负常数，f(t)和g(t)为在区间\\alpha \\leq t \\leq \\beta上的连续非负函数，且满足不等式\\\\\n",
    "f(t)\\leq K+\\int \\limits_\\alpha^t f(s)g(s)ds,\\alpha \\leq t \\leq \\beta,\\\\\n",
    "则有\\\\\n",
    "f(t)\\leq Kexp(\\int \\limits_\\alpha^t g(s)ds),\\alpha \\leq t \\leq \\beta\\\\\n",
    "并由此证明定理1的命题5.$"
   ]
  },
  {
   "cell_type": "markdown",
   "metadata": {},
   "source": [
    "$证明：令R(t)=\\int \\limits_\\alpha^t f(s)g(s)ds,\\\\\n",
    "R'(t)=f(t)g(t),R'(t)-R(t)g(t)=f(t)g(t)-R(t)g(t)\\leq Kg(t)R'(t)-R(t)g(t)\\leq Kg(t)\\\\\n",
    "同乘exp(-\\int \\limits_\\alpha^t g(s)ds),有：\\\\ \n",
    "R'(t)exp(-\\int \\limits_\\alpha^t g(s)ds)-R(t)g(t)exp(-\\int \\limits_\\alpha^t g(s)ds)\\leq Kg(t)exp(-\\int \\limits_\\alpha^t g(s)ds)\\\\\n",
    "从\\alpha到t积分，\\\\\n",
    "R(t)exp(-\\int \\limits_\\alpha^t g(s)ds)\\leq -\\int \\limits_\\alpha^t Kg(s)ds exp(-\\int \\limits_\\alpha^t g(r)dr)ds\\\\\n",
    "又f(t)\\leq K+\\int \\limits_\\alpha^t f(s)g(s)ds\\\\\n",
    "所以f(t)\\leq Kexp(\\int \\limits_\\alpha^t g(s)ds)\\\\\n",
    "即证。$"
   ]
  },
  {
   "cell_type": "markdown",
   "metadata": {
    "collapsed": true
   },
   "source": [
    "8.$如果函数f(x,y)于带域α\\leq x\\leq β上连续且关于y满足利普希茨条件,则方程\\frac{\\mathrm dy}{\\mathrm dx}= f(x,y)满足条件y(x_0)=y_0的解于整个区间[\\alpha,\\beta]上存在且唯一，试证明之。\\\\\n",
    "(提示：用逐步逼近法，取M=\\max \\limits_{(x,y)\\in R}\\{|f(x,y)|\\})$"
   ]
  },
  {
   "cell_type": "markdown",
   "metadata": {},
   "source": [
    "$解：即证y=y_0+\\int \\limits_{x_0}^x f(x,y)dx,x \\in [\\alpha,\\beta]的连续解。\\\\\n",
    "即证上述方程的存在及唯一即可。\\\\\n",
    "取y_0(x)=y_0,\\\\\n",
    "y_1(x)=y_0+\\int \\limits_ {x_0}^x f(\\xi,y_0(\\xi))d\\xi \\\\\n",
    "...\\\\\n",
    "y_n(x)=y_0+\\int \\limits_{x_0}^x f(\\xi,y_n-1(\\xi))d\\xi \\\\\n",
    "...\\\\\n",
    "所以y_n(x)在α\\leq x\\leq β上存在且连续。\\\\\n",
    "考察级数y_0(x)+\\displaystyle\\sum_{k=1}^{10} [y_k(x)-y_{k-1}(x)],x \\in [\\alpha,\\beta].\\\\\n",
    "取M=\\max \\limits_{(x,y)\\in R}\\{|f(x,y)|\\}\\\\\n",
    "|y_1(x)-y_0(x)|\\leq \\int \\limits_ {x_0}^x |f(\\xi,y_0(\\xi)|)d\\xi \\leq M|x-x_0|,\\\\\n",
    "|y_2(x)-y_1(x)|\\leq \\int \\limits_ {x_0}^x |f(\\xi,y_1(\\xi)-f(\\xi,y_0(\\xi)|)d\\xi\\\\\n",
    "由利普希茨条件，\\\\\n",
    "|y_2(x)-y_1(x)|\\leq L\\int \\limits_ {x_0}^x|y_1(x)-y_0(x)|d\\xi\\\\\n",
    "\\leq L\\int \\limits_ {x_0}^xM|\\xi-x_0|d\\xi\\\\\n",
    "=\\frac{ML(x-x_0)^2}{2!}\\\\\n",
    "所以，|y_k(x)-y_{k-1}(x)|\\leq \\frac{ML^{k-1}(x-x_0)^k}{k!}\\leq\\frac{ML^{k-1}(\\alpha-\\beta)^k}{k!}\\\\\n",
    "由weiestrass判别法可知，\\\\\n",
    "级数\\displaystyle\\sum_{k=1}^{\\infty}[\\frac{ML^{k-1}(\\alpha-\\beta)^k}{k!}]在α\\leq x\\leq β上一致收敛。\\\\\n",
    "设y_n(x)的极限为y(x),\\\\\n",
    "{f(x,y_n(x))}在[\\alpha,\\beta]上一致收敛于f(x,y(x)).\\\\\n",
    "对y_n(x)=y_0+\\int \\limits_{x_0}^x f(\\xi,y_n-1(\\xi))d\\xi 两端取极限为：\\\\\n",
    "y(x)=y_0+\\int \\limits_{x_0}^x f(\\xi,y(\\xi))d\\xi即证。$"
   ]
  },
  {
   "cell_type": "markdown",
   "metadata": {},
   "source": [
    "# <font color='red'>唯一性？？？？"
   ]
  },
  {
   "cell_type": "markdown",
   "metadata": {},
   "source": [
    "10.$给定积分方程\\varphi (x)=f(x)+\\lambda \\int\\limits_a^b K(x,\\xi)\\varphi(\\xi)d\\xi,(*)\\\\\n",
    "  其中f(x)是[a，b]上的已知连续函数，K(x，\\xi)是a\\leq x\\leq b，a\\leq \\xi \\leq b上的已知连续函数，证明当|\\lambda|足够小时(\\lambda为常数)，(*)在[a，b]上存在唯一的连续解．\\\\\n",
    "  (提示：作逐步逼近函数序列\\\\\n",
    "  \\varphi_0(x)=f(x),\\\\\n",
    "  \\varphi _{n+1}(x)=f(x)+\\lambda \\int\\limits_a^b K(x,\\xi)\\varphi_n(\\xi)d\\xi(n=0,1,2...))$\n"
   ]
  },
  {
   "cell_type": "markdown",
   "metadata": {},
   "source": [
    "证明：$构造逐步逼近函数序列\\\\\n",
    "  \\varphi_0(x)=f(x),\\\\\n",
    "  \\varphi _{n+1}(x)=f(x)+\\lambda \\int\\limits_a^b K(x,\\xi)\\varphi_n(\\xi)d\\xi(n=0,1,2...)\\\\\n",
    "  显然，对所有正整数n，\\varphi _n(x)在区间a\\leq x\\leq b上定义且连续。\\\\\n",
    "  下证函数序列{\\varphi_k(x)}在区间a\\leq x\\leq b上一致收敛\\\\\n",
    "  考虑级数\\displaystyle\\sum_{k=1}^{\\infty}[f(x)+\\lambda \\int\\limits_a^b K(x,\\xi)\\varphi_k(\\xi)d\\xi(n=0,1,2...)]\\\\\n",
    "  因此，证明函数序列{\\varphi_k(x)}在区间a\\leq x\\leq b上一致收敛化为\\\\\n",
    "  证明级数在区间a\\leq x\\leq b上一致收敛．\\\\\n",
    "  因f(x)和K(x，\\xi)在闭区间a\\leq x\\leq b及a\\leq x\\leq b，a\\leq \\xi \\leq b上连续，因此有\\\\\n",
    "    |f(x)|\\leq L，|K(x，\\xi )|\\leq L，a\\leq x\\leq b，a\\leq \\xi \\leq b\\\\\n",
    "  令M=|\\lambda|(b-a)K(x,\\xi)\\varphi_k(\\xi)\\\\\n",
    " 由数学归纳法可知，当|\\lambda|足够小时(\\lambda为常数)，该级数在区间a\\leq x\\leq b上一致收敛\\\\\n",
    " 即函数序列{\\varphi_k(x)}在区间a\\leq x\\leq b上一致收敛\\\\\n",
    " 因\\varpi (x)是\\varphi_k(x)的一致收敛极限函数，故\\varphi_(x)也在区间a\\leq x\\leq b上连续．对逐步逼近函数序列，两边取极限，可证\\\\\n",
    " 当|\\lambda|足够小时(\\lambda为常数)，\\\\\n",
    " \\varphi (x)=f(x)+\\lambda \\int\\limits_a^b K(x,\\xi)\\varphi(\\xi)d\\xi在[a，b]上存在唯一的连续解．\\\\\n",
    " 即证。$"
   ]
  },
  {
   "cell_type": "markdown",
   "metadata": {
    "collapsed": true
   },
   "source": [
    "# <font color='red'>A  11/10"
   ]
  },
  {
   "cell_type": "code",
   "execution_count": null,
   "metadata": {
    "collapsed": true
   },
   "outputs": [],
   "source": []
  }
 ],
 "metadata": {
  "kernelspec": {
   "display_name": "SageMath 7.3",
   "language": "",
   "name": "sagemath"
  },
  "language_info": {
   "codemirror_mode": {
    "name": "ipython",
    "version": 2
   },
   "file_extension": ".py",
   "mimetype": "text/x-python",
   "name": "python",
   "nbconvert_exporter": "python",
   "pygments_lexer": "ipython2",
   "version": "2.7.10"
  }
 },
 "nbformat": 4,
 "nbformat_minor": 0
}
