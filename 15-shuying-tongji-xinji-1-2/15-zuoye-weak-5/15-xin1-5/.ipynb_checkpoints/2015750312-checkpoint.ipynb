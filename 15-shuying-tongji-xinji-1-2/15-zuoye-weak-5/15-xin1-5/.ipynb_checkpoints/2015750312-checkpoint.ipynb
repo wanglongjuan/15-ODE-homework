{
 "cells": [
  {
   "cell_type": "markdown",
   "metadata": {},
   "source": [
    "**3.解：**由题，易知 $$ M=\\max \\limits_{x,y\\in R}|f(x,y)|=4,h=min{1,\\frac{1}{4}}=\\frac{1}{4} $$\n",
    "\n",
    "在 $ R $ 上函数 $ f(x,y)=x^2-y^2 $ 的利普希茨常数 $ L=2 $\n",
    "\n",
    "∵ $$ \\frac{\\partial{f}}{\\partial{y}}=|-2y|≤2 $$\n",
    "\n",
    "$$ \\varphi_0(x)=0,\\varphi_1(x)=\\int_{-1}^x\\mathrm (t^2-\\varphi_0^2(t))=\\frac{x^3}{3}+\\frac{1}{3} $$\n",
    "\n",
    "$$ \\varphi_2(x)=\\int_{-1}^x\\mathrm (t^2-\\varphi_0^2(t))\\,\\mathrm{d}t=\\int_{-1}^x\\mathrm (t^2-\\frac{(t^3+1)^2}{9})\\,\\mathrm{d}t=\\frac{x^3}{3}-\\frac{x}{9}-\\frac{x^4}{18}-\\frac{x^7}{63}+\\frac{11}{42} $$\n",
    "\n",
    "由误差估计公式，得 $$ |\\varphi_2(x)-\\varphi(x)|≤\\frac{4·2^2}{3!}·(\\frac{1}{4})^3=\\frac{1}{24} $$\n",
    "\n",
    "∴已知初值问题的解的存在区间为 $$ -\\frac{5}{4}≤x≤-\\frac{3}{4} $$\n",
    "\n",
    "第二次近似解为 $$ y_2=\\frac{x^3}{3}-\\frac{x}{9}-\\frac{x^4}{18}-\\frac{x^7}{63}+\\frac{11}{42} $$\n",
    "\n",
    "在解的存在区间的误差估计为 $$ |y-y_2|≤\\frac{1}{24} $$"
   ]
  },
  {
   "cell_type": "markdown",
   "metadata": {},
   "source": [
    "**8.解：**设 $$ M=\\max \\limits_{x,y\\in R}|f(x,y_0)|,h=β-α,b=Mh $$\n",
    "\n",
    "和有某常数 $ L $ 使得在域 $$ R={(x,y)|α≤x≤β,|y-y_0|≤b} $$\n",
    "\n",
    "中有 $$ |f(x,y_1)-f(x,y_2)|≤L|y_1-y_2|,(x,y_1),(x,y_2)∈R $$\n",
    "\n",
    "构造逐步逼近函数序列\n",
    "$$\n",
    "\\begin{cases}\n",
    "\\varphi_0(x)=y_0\\\\\n",
    "\\varphi_n(x)=y_0+\\int_{x_0}^x\\mathrm f(ζ,\\varphi_{n-1}(ζ))\\,\\mathrm{d}x,α≤x≤β,n=1,2,….\n",
    "\\end{cases}\n",
    "$$\n",
    "\n",
    "∵$$ |\\varphi_1(x)-y_0|=|\\int_{x_0}^x\\mathrm f(ζ,y_0))\\,\\mathrm{d}x|≤\\int_{x_0}^x\\mathrm |f(ζ,y_0)|)\\,\\mathrm{d}x≤M(x-x_0)≤Mh≤b $$\n",
    "\n",
    "可证，得 $$ |\\varphi_n(x)-\\varphi_{n-1}(x)|≤\\frac{M}{n!}L^{n-1}(β-α)^n $$\n",
    "\n",
    "实际上，有 $$ |\\varphi_{n+1}(x)-\\varphi_n(x)|≤|\\int_{x_0}^x\\mathrm |f(ζ,\\varphi_n(ζ))-f(ζ,\\varphi_{n-1}(ζ))|\\,\\mathrm{d}ζ|≤L|\\int_{x_0}^x\\mathrm |\\varphi_n(ζ)-\\varphi_{n-1}(ζ)|\\,\\mathrm{d}ζ|≤L|\\int_{x_0}^x\\mathrm |\\frac{M}{n!}L^{n-1}|ζ-x_0|^n|\\,\\mathrm{d}ζ|≤\\frac{M}{(n+1)!}L^n|ζ-x_0|^{n+1}≤\\frac{M}{(n+1)!}L^n(β-α)^{n+1} $$\n",
    "\n",
    "∵级数 $ \\displaystyle\\sum_{k=1}^\\infty \\frac{M}{k!}L^{k-1}(\\beta - \\alpha)^{k} $收敛，得级数 $$ \\varphi_n(x)=\\varphi_0(x)+\\displaystyle\\sum_{k=1}^\\infty [\\varphi_k(x)-\\varphi_{k-1}(x)] $$\n",
    "\n",
    "在区间 $ [α,β] $ 一致收敛，于是存在极限 $ lim\\varphi_n(x)=\\varphi(x) $ 它在区间 $ [α,β] $ 连续，且\n",
    "\n",
    "$$ \\varphi(x)=lim\\varphi_n(x)=y_0+lim\\int_{x_0}^x\\mathrm f(ζ,\\varphi_{n-1}(ζ))\\,\\mathrm{d}x=y_0+\\int_{x_0}^x\\mathrm f(x,lim\\varphi_{n-1}(ζ))\\,\\mathrm{d}ζ=y_0+\\int_{x_0}^x\\mathrm f(ζ,\\varphi(ζ))\\,\\mathrm{d}ζ $$\n",
    "\n",
    "∴ $ \\varphi(x) $ 是积分方程也就是微分方程的解\n",
    "\n",
    "设 $ \\varphi(x),\\psi(x) $ 均满足积分方程\n",
    "\n",
    "$$ y=y_0+\\int_{x_0}^x\\mathrm f(ζ,f(ζ))\\,\\mathrm{d}ζ,α≤x≤β,α≤x_0≤β $$\n",
    "\n",
    "当 $ x≥x_0 $ 时，利用格朗沃尔不等式，由\n",
    "\n",
    "$$ |\\varphi(x)-\\psi(x)|≤\\int_{x_0}^x\\mathrm |f(s,\\varphi(s))-f(s,\\psi(s))|\\,\\mathrm{d}s≤L\\int_{x_0}^x\\mathrm |\\varphi(s)-\\psi(s)|\\,\\mathrm{d}s $$\n",
    "\n",
    "有 $$ |\\varphi(x)-\\psi(x)|≤0，即，\\varphi(x)≡\\psi(x)( α≤x_0≤x≤β) $$\n",
    "\n",
    "同理可证，当 $ α≤x≤x_0≤β$时，有 $$ \\varphi(x)≡\\psi(x) $$\n",
    "\n",
    "即积分方程也就是微分方程，解是唯一的\n",
    " \n",
    "\n",
    "\n"
   ]
  },
  {
   "cell_type": "markdown",
   "metadata": {
    "collapsed": true
   },
   "source": [
    "**6.(1)解：**$ K>0 $时，令 $$ w(t)=K+\\int_\\alpha^t f(s)g(s)\\mathrm d s $$\n",
    "∴ $$ w'(t)=f(t)g(t) \\leq g(t)w(t) $$\n",
    "由$ w(t)>0 $ 可得 $$ \\frac{w'(t)}{w(t)} \\leq g(t) $$\n",
    "两边从$ α $ 到 $ t $\n",
    "积分，得 $$ \\ln w(t)-\\ln w(α) \\leq \\int_α^t g(s)\\mathrm d s $$\n",
    "\n",
    "即 $$ \\frac{w(t)}{w(α)} \\leq \\exp(\\int_α^t g(s)\\mathrm d s),w(α)=K>0 $$\n",
    "\n",
    "∴ $$ w(t) \\leq K \\bullet \\exp(\\int_α^t g(s)\\mathrm d s) $$\n",
    "\n",
    "即 $$ f(t) \\leq w(t) \\leq K \\bullet \\exp(\\int_α^t g(s)\\mathrm d s),α \\leq t \\leq β $$"
   ]
  },
  {
   "cell_type": "markdown",
   "metadata": {},
   "source": [
    "**(2)** $ K=0 $ 时，对任意 $$ \\varepsilon>0 $$\n",
    "∵ $$ f(t) \\leq \\int_α^t f(s)g(s)\\mathrm d s $$\n",
    "\n",
    "∴ $$ f(t) \\leq \\varepsilon + \\int_α^t f(s)g(s)\\mathrm d s $$\n",
    "\n",
    "由(1),得 $$ f(t) \\leq \\varepsilon\\exp(\\int_α^t g(s)\\mathrm d s) $$\n",
    "\n",
    "当 $ \\varepsilon \\to 0^+ $ 时，有 $$ f(t) \\leq 0 $$\n",
    "\n",
    "又∵ $ f(t) \\geq 0 $ 即,得 $$ f(t) \\equiv 0 $$\n",
    "\n",
    "从而 $$ f(t) \\leq K \\bullet \\exp(\\int_α^t g(s)\\mathrm d s),\\alpha \\leq t \\leq β $$\n",
    "\n",
    "由(1)(2)得，格朗沃尔不等式成立\n",
    "\n",
    "证明：\n",
    "\n",
    "设 $ \\phi(x) $ 是积分方程 $$ y=y_0+\\int_{x_0}^x f(x,y)\\mathrm d x,x_0 \\leq x \\leq x_0+h $$\n",
    "的定义于 $ x_0 \\leq x \\leq x_0+h $ 上的另一连续解，则 $$ \\varphi(x)=\\phi(x)(x_0 \\leq x \\leq x_0+h) $$\n",
    "\n",
    "设 $ \\phi(x),\\varphi(x) $ 是初值问题 $ x'=f(t,x),x(t_0)=x_0 $ 的两个解，则\n",
    "$$ \\varphi(t)=x_0+\\int_{t_0}^t f(\\xi,\\varphi(\\xi))\\mathrm d \\xi,\\phi(t)=x_0+\\int_{t_0}^t f(\\xi,\\phi(\\xi))\\mathrm d \\xi $$\n",
    "∴ $$ |\\varphi(t)-\\phi(t)| \\leq \\int_{t_0}^t |f(\\xi,\\varphi(\\xi))-f(\\xi,\\phi(\\xi))|\\mathrm d \\xi \\leq L \\int_{t_0}^t |\\varphi(\\xi)-\\phi(\\xi)|\\mathrm d \\xi $$\n",
    "由格朗沃尔不等式知 $ K=0 $ 且 $$ 0 \\leq |\\varphi(\\xi)-\\phi(\\xi)| \\leq K \\bullet \\exp(\\int_{t_0}^t L\\mathrm d \\xi)=0 $$\n",
    "即，得 $ \\varphi(\\xi)=\\phi(\\xi )$"
   ]
  },
  {
   "cell_type": "markdown",
   "metadata": {},
   "source": [
    "**10.解：** 构造逐步逼近函数序列，取$ \\varphi_0(x)=f(x) $\n",
    "\n",
    "令 $$ \\varphi_1(x)=f(x)+\\lambda \\int_a^b K(x,\\xi)\\varphi_0(\\xi)\\mathrm d \\xi,\\ldots $$\n",
    "$$ \\varphi_{n+1}(x)=f(x)+\\lambda \\int_a^b K(x,\\xi)\\varphi_n(\\xi)\\mathrm d \\xi,\\ldots $$\n",
    "\n",
    "令 $$ M=\\max \\limits_{x \\in [a,b]}|f(x)|,L=\\max_{\\substack{x \\in [a,b]\\\\\\xi \\in [a,b]}}|K(x,\\xi)|>0 $$ \n",
    "\n",
    "则 $$ |\\varphi_1(x)-\\varphi_0(x)|=|\\lambda  \\int_a^b K(x,\\xi)\\varphi_0(\\xi)\\mathrm d \\xi| \\leq |\\lambda|\\int_a^b |K(x,\\xi)||f(\\xi)|\\mathrm d \\xi \\leq |\\lambda|ML(b-a) $$\n",
    "\n",
    "设 $$|\\varphi_k(x)-\\varphi_{k-1}(x)| \\leq {|\\lambda|}^k L^k M(b-a)^k $$ 成立\n",
    "\n",
    "则 $$ |\\varphi_{k+1}(x)-\\varphi_k(x)|=|\\lambda \\int_a^b K(x,\\xi)(\\varphi_k(\\xi)-\\varphi_{k-1}(\\xi))\\mathrm d \\xi| $$\n",
    "$$ \\leq |\\lambda|\\int_a^b |K(x,\\xi)||\\varphi_k(\\xi)-\\varphi_{k-1}(\\xi)|\\mathrm d \\xi $$\n",
    "$$ \\leq |\\lambda| \\int_a^b L^{k+1} {|\\lambda|}^k M(b-a)^k \\mathrm d \\xi $$\n",
    "$$ =|\\lambda|^{k+1} L^{k+1} M(b-a)^{k+1} $$\n",
    "\n",
    "由数学归纳法可，得\n",
    "\n",
    "对任意的$ n \\in N $\n",
    "有 $$ |\\varphi_n(x)-\\varphi_{n-1}(x)| \\leq ML^n|\\lambda|^n(b-a)^n $$\n",
    "\n",
    "现证 $ \\{\\varphi_n(x)\\}$在$[a,b]$上一致收敛，考虑级数$\\varphi_0(x)+\\displaystyle\\sum_{k=1}^\\infty (\\varphi_k(x)-\\varphi_{k-1}(x)) $\n",
    "\n",
    "只需证该级数在$[a,b]$上一致收敛即可\n",
    "\n",
    "∵ $$ |\\varphi_k(x)-\\varphi_{k-1}(x)| \\leq ML^n|\\lambda|^n(b-a)^n $$\n",
    "\n",
    "当 $ |\\lambda|<\\frac{1}{(b-a)L}$时，级数$\\displaystyle\\sum_{k=1}^\\infty ML^k|\\lambda|^k(b-a)^k $ 收敛\n",
    "\n",
    "可得 $ |\\lambda|<\\frac{1}{(b-a)L} $ 时，级数 $$ \\varphi_0(x)+\\displaystyle\\sum_{k=1}^\\infty (\\varphi_k(x)-\\varphi_{k-1}(x)) $$ \n",
    "\n",
    "在 $ [a,b] $ 上一致收敛\n",
    "\n",
    "即 $ \\{\\varphi_n(x)\\} $ 在 $ [a,b] $ 上一致收敛\n",
    "\n",
    "不妨设其极限函数为 $\\ varphi^*(x) $ ,即当 $ x \\in [a,b] $ 时，$ \\varphi_n(x) $ \n",
    "当 $ n \\to \\infty $ 时一致收敛于 $ \\varphi^*(x) $\n",
    "\n",
    "又∵ $ \\varphi_n(x) $ 得连续性知 $ \\varphi^*(x) $ 在 $ [a,b] $ 上连续，$ \\varphi_{n+1}(x)=f(x)+\\lambda \\int_a^b K(x,\\xi)\\varphi_n(\\xi)\\mathrm d \\xi,\\ldots $，当 $ n \\to \\infty $ 时两边取极限，得\n",
    "$$ \\varphi^*(x)=f(x)+\\lambda \\int_a^b K(x,\\xi)\\varphi^*(x)\\mathrm d \\xi    (|\\lambda|<\\frac{1}{(b-a)L}) $$\n",
    "即当 $ |\\lambda|<\\frac{1}{(b-a)L} $ 时,积分方程必存在连续解\n",
    "\n",
    "现证当 $ |\\lambda|<\\frac{1}{(b-a)L} $ 时，$$ \\varphi(x)=f(x)+\\lambda \\int_a^b K(x,\\xi)\\varphi(\\xi)\\mathrm d \\xi $$ 的解得唯一性，用反证法\n",
    "\n",
    "设另有解 $ \\varphi_m(x) $ 且 $ \\varphi_m(x) \\neq \\varphi^*(x) $，即 $$ \\varphi_m(x)=f(x)+\\lambda \\int_a^b K(x,\\xi)\\varphi_m(\\xi)\\mathrm d \\xi $$\n",
    "\n",
    "记 $$ G=\\max \\limits_{x \\in [a,b]}|\\varphi^*(x)-\\varphi_m(x)|>0 $$\n",
    "$$ |\\varphi^*(x)-\\varphi_m(x)|=|\\lambda \\int_a^b K(x,\\xi)(\\varphi^*(x)-\\varphi_m(\\xi))\\mathrm d \\xi| $$\n",
    "$$ \\leq |\\lambda| \\int_a^b L |\\varphi^*(x)-\\varphi_m(\\xi)| \\mathrm d \\xi=|\\lambda|GL(b-a) $$\n",
    "\n",
    "即有 $ G \\leq |\\lambda|GL(b-a) $ \n",
    "\n",
    "∵$ G>0 $ ∴ $ |\\lambda| \\geq \\frac{1}{(b-a)L} $ ,与 $ |\\lambda|<\\frac{1}{(b-a)L} $ 矛盾，唯一性可证得。"
   ]
  },
  {
   "cell_type": "markdown",
   "metadata": {
    "collapsed": true
   },
   "source": [
    "# <font color='red'>A  11/10"
   ]
  },
  {
   "cell_type": "code",
   "execution_count": null,
   "metadata": {
    "collapsed": true
   },
   "outputs": [],
   "source": []
  }
 ],
 "metadata": {
  "kernelspec": {
   "display_name": "SageMath 7.3",
   "language": "",
   "name": "sagemath"
  },
  "language_info": {
   "codemirror_mode": {
    "name": "ipython",
    "version": 2
   },
   "file_extension": ".py",
   "mimetype": "text/x-python",
   "name": "python",
   "nbconvert_exporter": "python",
   "pygments_lexer": "ipython2",
   "version": "2.7.10"
  }
 },
 "nbformat": 4,
 "nbformat_minor": 0
}
