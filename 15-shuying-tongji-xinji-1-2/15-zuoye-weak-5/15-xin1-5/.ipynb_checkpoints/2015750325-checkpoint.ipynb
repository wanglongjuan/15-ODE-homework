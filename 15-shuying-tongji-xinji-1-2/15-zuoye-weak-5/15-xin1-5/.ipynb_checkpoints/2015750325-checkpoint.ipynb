{
 "cells": [
  {
   "cell_type": "markdown",
   "metadata": {},
   "source": [
    "焦畅  2015750325"
   ]
  },
  {
   "cell_type": "markdown",
   "metadata": {},
   "source": [
    "3.1\n",
    "3\n",
    "$$M=\\max\\limits_{(x,y)\\in R}\\mid f(x,y)\\mid=4$$\n",
    "$h取a=1及\\frac{b}{M}=\\frac{1}{4}中的小者，故h=\\frac{1}{4}$\n",
    "\n",
    "$函数f(x,y)=x^2-y^2的利普希茨常数可取L=2，因为\\frac{\\partial f}{\\partial y}=|-2y|\\leq2=L$\n",
    "\n",
    "$\\phi_0(x)=0$\n",
    "\n",
    "$\\phi_1(x)= \\int_{-1}^x\\mathrm (t^2-{\\phi_0^2(t)})\\,\\mathrm{d}t=\\frac{x^3}{3}+\\frac{1}{3}$\n",
    "\n",
    "$\\phi_2(x)= \\int_{-1}^x\\mathrm (t^2-{\\phi_1^2(t)})\\,\\mathrm{d}t$\n",
    "\n",
    "$=\\frac{x^3}{3}-\\frac{x}{9}-\\frac{x^4}{18}-\\frac{x^7}{63}+\\frac{11}{42}$\n",
    "\n",
    "$得|\\phi_2(x)- \\phi(x)|\\leq\\frac{4*2^2}{3!}(\\frac{1}{4})^3=\\frac{1}{24}$\n",
    "\n",
    "$所以，已知初值问题的解的存在区间为-\\frac{5}{4}\\leq x\\leq -\\frac{3}{4}，第二次近似值为y_2=\\frac{x^3}{3}-\\frac{x}{9}-\\frac{x^4}{18}-\\frac{x^7}{63}+\\frac{11}{42}$\n",
    "$在解的存在区间的误差估计为|y-y_2|\\leq \\frac{1}{24}$\n"
   ]
  },
  {
   "cell_type": "markdown",
   "metadata": {},
   "source": [
    "6、\n",
    "$(1)K>0时，令\\omega(t)=K+\\int_a^t\\mathrm f(s)g(s)\\,\\mathrm{d}s$\n",
    "\n",
    "$则\\omega’(t)=f(t)g(t)\\leq g(t) \\omega(t),由\\omega(t)>0可得\\frac{\\omega’(t)}{\\omega(t)}\\leq g(t)$\n",
    "\n",
    "$两边从\\alpha到t积分，得ln\\omega(t)-ln\\omega(\\alpha)\\leq \\int_\\alpha^t g(s)ds$\n",
    "\n",
    "$\\frac{\\omega(t)}{\\omega(\\alpha)}\\leq exp(\\int_\\alpha^t g(s)ds),\\omega(\\alpha)=K>0$\n",
    "\n",
    "$\\omega(t)\\leq K exp(\\int_\\alpha^t g(s)ds)$\n",
    "\n",
    "$f(t)\\leq \\omega(t)\\leq K exp(\\int_\\alpha^t g(s)ds),\\alpha\\leq t\\leq \\beta$\n",
    "\n",
    "$(2)当k=0时，对任意\\epsilon >0,由于f(t)\\leq \\int_\\alpha^t f(s)g(s)ds$\n",
    "\n",
    "$所以,f(t)\\leq \\epsilon + \\int_\\alpha^t f(s)g(s)ds$\n",
    "\n",
    "$由（1）得结论，有f(t)\\leq \\epsilon exp(\\int_\\alpha^t g(s)ds)。当\\epsilon\\rightarrow 0^+时，有f(t)\\leq 0$\n",
    "\n",
    "$有f(t)\\geq 0,f(t)=0,则f(t)\\leq K exp(\\int_\\alpha^t g(s)ds),\\alpha \\leq t \\leq \\beta$\n",
    "\n",
    "$格朗沃尔不等式成立$\n",
    "\n",
    "$设\\phi(t),\\psi(t)是初值问题x'=f(t,x),x(t_0)=x_0的两个解，则有$\n",
    "\n",
    "$$\\phi(t)x_0+\\int_{t_0}^t f(\\xi,\\phi(\\xi))d\\xi$$\n",
    "\n",
    "$$\\psi(t)=x_0+\\int_{t_0}^t f(\\xi,\\psi(\\xi))d\\xi$$\n",
    "\n",
    "$|\\phi(t)-\\psi(t)|\\leq \\int_{t_0}^t |f(\\xi,\\phi(\\xi))-f(\\xi,\\psi(\\xi))d\\xi \\leq L\\int_{t_0}^t |\\phi(\\xi)-\\psi(\\xi)d\\xi$\n",
    "\n",
    "$其中L为利普希茨条件，由格朗沃尔不等式知0\\leq |\\phi(t)-\\psi|\\leq 0$\n",
    "\n",
    "$有 \\phi(t)=\\psi(t),定理一得命题5得证。$"
   ]
  },
  {
   "cell_type": "markdown",
   "metadata": {},
   "source": [
    "8、\n",
    "$取y_0(x)=y_0$\n",
    "\n",
    "$y_1(x)=y_0+ \\int_{x_0}^x\\mathrm f(\\xi,y_0(\\xi))\\,\\mathrm{d}\\xi$\n",
    "\n",
    "…\n",
    "\n",
    "$y_n(x)=y_0+ \\int_{x_0}^x\\mathrm f(\\xi,y_{n-1}(\\xi))\\,\\mathrm{d}\\xi$\n",
    "\n",
    "…\n",
    "\n",
    "$可知y_n(x)在\\alpha\\leq x \\leq \\beta存在且连续，证明函数列{y_n(x)}在\\alpha\\leq x \\leq \\beta上一致收敛$\n",
    "\n",
    "$y_0(x)+\\sum_{k=0}^\\infty[y_k(x)-y_{k-1}(x)],x\\in[\\alpha,\\beta]$\n",
    "\n",
    "$取M=\\max_{\\substack{x\\in[\\alpha,\\beta]\\\\}}\\mid f(x,y_0)\\mid,得$\n",
    "\n",
    "$$|y_1(x)-y_0(x)|\\leq \\int_{x_0}^x\\mathrm |f(\\xi,y_0(\\xi))|\\,\\mathrm{d}\\xi\\leq M|x-x_0|$$\n",
    "\n",
    "$$|y_2(x)-y_1(x)|\\leq \\int_{x_0}^x\\mathrm |f(\\xi,y_0(\\xi))-f(\\xi,y_0(\\xi))|\\,\\mathrm{d}\\xi$$\n",
    "\n",
    "$利用利普希茨条件，得$\n",
    "\n",
    "$$|y_2(x)-y_1(x)|\\leq L\\int_{x_0}^x\\mathrm |y_1(\\xi)-y_0(\\xi)|\\,\\mathrm{d}\\xi$$\n",
    "\n",
    "$$\\leq L\\int_{x_0}^x\\mathrm M|\\xi-x_0|\\,\\mathrm{d}\\xi=\\frac{ML}{2!}(x-x_0)^2$$\n",
    "\n",
    "$由数学归纳法，|y_k(x)-y_{k-1}(x)|\\leq \\frac{ML^{k-1}}{k!}(x-x_0)^{k}\\leq \\frac{ML^{k-1}}{k!}(\\beta-\\alpha)^{k}$\n",
    "\n",
    "$是正项收敛级数一般项，级数在\\alpha\\leq x\\leq \\beta上一致收敛则函数序列{y_n(x)} \\alpha\\leq x\\leq \\beta上一致收敛，$\n",
    "\n",
    "$设\\lim_{x \\to \\infty} \\ y_n(x)=y(x),y(x) 在\\alpha\\leq x\\leq \\beta上连续，且{f(x,y_n(x))}在\\alpha\\leq x\\leq \\beta上一致收敛于f(x,y(x))$\n",
    "\n",
    "$求极限，得y(x)=y_0+ \\int_{x_0}^x\\mathrm f(\\xi,y_0(\\xi))\\,\\mathrm{d}\\xi$\n"
   ]
  },
  {
   "cell_type": "markdown",
   "metadata": {},
   "source": [
    "# <font color='red'>唯一性？？"
   ]
  },
  {
   "cell_type": "markdown",
   "metadata": {},
   "source": [
    "10、$取\\phi_0(x)=f(x)$\n",
    "\n",
    "$\\phi_1(x)=f(x)+\\lambda \\int_a^b\\mathrm k(x,\\xi)\\phi_0(\\xi)\\,\\mathrm{d}\\xi$\n",
    "\n",
    "…\n",
    "\n",
    "$\\phi_{n+1}(x)=f(x)+\\lambda \\int_a^b\\mathrm k(x,\\xi)\\phi_n(\\xi)\\,\\mathrm{d}\\xi$\n",
    "\n",
    "…\n",
    "\n",
    "$令M=\\max_{\\substack{x\\in[\\alpha,\\beta]\\\\\n",
    "}}\\mid f(x)\\mid,L=\\max_{\\substack{x\\in[a,b]\\\\\n",
    "\\xi\\in[a,b]\\\\\n",
    "}}\\mid k(x,\\xi)\\mid>0$\n",
    "\n",
    "$$\\mid\\phi_1(x)-\\phi_0(x)\\mid=\\mid\\lambda\\int_a^b k(x,\\xi)\\phi_0(\\xi)d\\xi\\mid\\leq \\mid\\lambda\\mid\\int_a^b\\mid k(x,\\xi)\\mid\\mid f(\\xi)\\mid d\\xi\\leq\\mid\\lambda\\mid ML(b-a)$$\n",
    "\n",
    "$假设|\\phi_k(x)-\\phi_{k-1}(x)|\\leq |\\lambda|^kML^k(b-a)^k成立，则有$\n",
    "\n",
    "$|\\phi_{k+1}(x)-\\phi_k(x)|=|\\lambda\\int_a^b k(x,\\xi)(\\phi_k(\\xi)-\\phi_{k-1}(\\xi)d\\xi|\\\\\n",
    "\\leq |\\lambda|\\int_a^b|k(x,\\xi)||\\phi_k(\\xi)-\\phi_{k-1}|d\\xi\\\\\n",
    "\\leq|\\lambda|\\int_a^b L^{k+1}|\\lambda|M(b-a)^kd\\xi\\\\\n",
    "=|\\lambda|^{k+1}L^{k+1}M(b-a)^{k+1}$\n",
    "\n",
    "$由数学归纳法，对任意n\\in N,有|\\phi_n(x)-\\phi_{n-1}(x)|\\leq |\\lambda|^nL^mM(b-a)^n$\n",
    "\n",
    "$级数\\phi_0(x)+\\sum_{k=1}^\\infty\\phi_k(x)-\\phi_{k-1}(x)$\n",
    "\n",
    "$前n项和为\\phi_n(x)$\n",
    "\n",
    "$下面证级数\\phi_0(x)+\\sum_{k=1}^\\infty\\phi_k(x)-\\phi_{k-1}(x)在[a,b]上一致收敛$\n",
    "\n",
    "$\\mid\\phi_k(x)-\\phi_{k-1}(x)\\mid\\leq |\\lambda|^kL^kM(b-a)^k$\n",
    "\n",
    "$当|\\lambda|<\\frac{1}{(b-a)L}时，级数\\sum_{k=1}^\\infty|\\lambda|^kL^kM(b-a)^k收敛,$\n",
    "\n",
    "$则级数\\phi_0(x)+\\sum_{k=1}^\\infty\\phi_k(x)-\\phi_{k-1}(x)在[a,b]一致收敛$\n",
    "\n",
    "$设极限函数\\phi^*(x),x\\in[a,b],当n\\rightarrow\\infty时，\\phi_n(x)一致收敛于\\phi^*(x)，$\n",
    "\n",
    "$则由\\phi_n(x)连续性知\\phi^*(x)在[a,b]上一致连续，$\n",
    "\n",
    "$对迭代序列，当n\\rightarrow\\infty时，两边取极限，$\n",
    "\n",
    "$得\\phi^*(x)=f(x)+\\lambda \\int_a^b\\mathrm k(x,\\xi)\\phi^*(\\xi)d\\xi  (|\\lambda|<\\frac{1}{(b-a)L})$\n",
    "\n",
    "$即当|\\lambda|<\\frac{1}{(b-a)L}时，积分方程必存在连续解。$\n",
    "\n",
    "$证明唯一性，设另有解\\psi(x),且\\psi(x)\\neq\\phi^*(x),即\\psi(x)=f(x)+\\lambda \\int_a^b\\mathrm k(x,\\xi)\\psi(\\xi)d\\xi$\n",
    "\n",
    "$令Q=\\max_{\\substack{x\\in[a,b]\\\\}}\\mid \\phi^*(x)-\\psi(x)\\mid>0$\n",
    "\n",
    "$\\mid \\phi^*(x)-\\psi(x)\\mid=|\\lambda\\int_a^b k(x,\\xi)(\\phi^*(\\xi)-\\psi(\\xi))d\\xi\\\\\n",
    "\\leq |\\lambda|\\int_a^bL|\\phi^*(\\xi)-\\psi(\\xi|d\\xi\\\\\n",
    "\\leq|\\lambda|QL(b-a)$\n",
    "\n",
    "$有Q\\leq |\\lambda|QL(b-a),由于Q>0,所以|\\lambda|\\geq\\frac{1}{(b-a)L}与|\\lambda|<\\frac{1}{(b-a)L}矛盾，唯一性得证。$\n"
   ]
  },
  {
   "cell_type": "markdown",
   "metadata": {},
   "source": [
    "# <font color='red'>A  11/10"
   ]
  },
  {
   "cell_type": "code",
   "execution_count": null,
   "metadata": {
    "collapsed": true
   },
   "outputs": [],
   "source": []
  }
 ],
 "metadata": {
  "kernelspec": {
   "display_name": "SageMath 7.3",
   "language": "",
   "name": "sagemath"
  },
  "language_info": {
   "codemirror_mode": {
    "name": "ipython",
    "version": 2
   },
   "file_extension": ".py",
   "mimetype": "text/x-python",
   "name": "python",
   "nbconvert_exporter": "python",
   "pygments_lexer": "ipython2",
   "version": "2.7.10"
  }
 },
 "nbformat": 4,
 "nbformat_minor": 0
}
