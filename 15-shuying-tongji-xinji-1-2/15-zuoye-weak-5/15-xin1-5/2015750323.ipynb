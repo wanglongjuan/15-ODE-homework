{
 "cells": [
  {
   "cell_type": "markdown",
   "metadata": {},
   "source": [
    "$p88.3$"
   ]
  },
  {
   "cell_type": "markdown",
   "metadata": {},
   "source": [
    "$M=max|{f(x,y)}|=4,m=min(1,\\frac{1}{4})$"
   ]
  },
  {
   "cell_type": "markdown",
   "metadata": {},
   "source": [
    "$且在R上的函数f（x,y）=x^2-y^2的利普希茨常数L=2$"
   ]
  },
  {
   "cell_type": "markdown",
   "metadata": {},
   "source": [
    "$ \\varphi_0(x)=0,\\varphi_1(x)=\\int_{-1}^x{(t^2-\\varphi_0^2(t)) d x}=\\frac{x^2}{3}+\\frac{1}{3}\n",
    "$"
   ]
  },
  {
   "cell_type": "markdown",
   "metadata": {},
   "source": [
    "\n",
    "$\\varphi_2(x)=\\int_{-1}^x{(t^2-\\varphi_1^2(t) d x}=\\frac{x^3}{3}-\\frac{x}{9}-\\frac{x^4}{18}-\\frac{x^7}{63}+\\frac{11}{42}$"
   ]
  },
  {
   "cell_type": "markdown",
   "metadata": {},
   "source": [
    "$所以当\\varphi_2(x)-\\varphi(x)<=\\frac{1}{24}，所以其解的存在的区间为[\\frac{-5}{4},\\frac{-4}{3}]$\n"
   ]
  },
  {
   "cell_type": "markdown",
   "metadata": {},
   "source": [
    "$其误差的估计值大约小于\\frac{1}{24}\n",
    "$"
   ]
  },
  {
   "cell_type": "markdown",
   "metadata": {},
   "source": [
    "$p89.6$"
   ]
  },
  {
   "cell_type": "markdown",
   "metadata": {},
   "source": [
    "$当k>0时，令w（t）=k+\\int_a^t{f(s)g(s) d s},w'(t)=f(t)g(t)<=w(t)g(t)由w(t)>0,得\\frac{w'(t)}{w(t)}<g(t),两边积分得到lnw(t)-lnw(a)<-\\int_a^t{g(s) d s}\n",
    "$"
   ]
  },
  {
   "cell_type": "markdown",
   "metadata": {},
   "source": [
    "$有f(t)<w(t)<kexp(\\int_a^t{g(s) d s})$"
   ]
  },
  {
   "cell_type": "markdown",
   "metadata": {},
   "source": [
    "$当k=0时，f(t)<\\int_a^t{f(s)g(s) d s},所以有f(t)<exp\\int_a^t{g(s) d s},$\n",
    "$ f(t)<=int_a^tf(s)g(s)ds,$\n",
    "$f(t)=0$\n",
    "$所以f(t)<=Kexp(int_a^tg(s)ds)所以其格朗沃尔不等式成立$"
   ]
  },
  {
   "cell_type": "markdown",
   "metadata": {},
   "source": []
  },
  {
   "cell_type": "markdown",
   "metadata": {
    "collapsed": true
   },
   "source": [
    "# <font color='red'>证明过程好简单？写全过程"
   ]
  },
  {
   "cell_type": "code",
   "execution_count": null,
   "metadata": {
    "collapsed": true
   },
   "outputs": [],
   "source": []
  },
  {
   "cell_type": "markdown",
   "metadata": {},
   "source": [
    "$p89.8$"
   ]
  },
  {
   "cell_type": "markdown",
   "metadata": {},
   "source": [
    "$设M=\\max_{\\substack{\n",
    "x\\in[\\alpha,\\beta] \\\\\n",
    "}}\n",
    "\\mid f(x,y)mid,h=\\beta-\\alpha,b=Mh及有某个常数L使得f(x,y1)-f(x,y2)<=L(y1-y2)\n",
    "$"
   ]
  },
  {
   "cell_type": "markdown",
   "metadata": {},
   "source": [
    "$构造函数序列得到\\varphi_0(x)=y_0,\\varphi_n(x)=y0+\\int_x^x0{f(e,\\varphi_n-1(e) d x)}$"
   ]
  },
  {
   "cell_type": "markdown",
   "metadata": {},
   "source": [
    "$varphi_1(x)-y_0=-\\int_x^{x_0}{f(e,y_0) d x}<=M(x-x_0<=b)$"
   ]
  },
  {
   "cell_type": "markdown",
   "metadata": {},
   "source": [
    "$所以有\\varphi_{n+1}(x)-\\varphi_n(x)<=\\frac{M}{(n+1)!}L^n(\\alpha-\\beta)^{n+1},且\\varphi_n(x)在区间[\\alpha,\\beta]内一致收敛，存在极限得到lim\\varphi_n(x)=\\varphi(x),有\\varphi(x)=y_0+\\int_x^{x_0}{f(e,\\varphi(e) d e)}$"
   ]
  },
  {
   "cell_type": "markdown",
   "metadata": {},
   "source": [
    "$所以\\varphi(x)为方程的解，设\\varphi(x)和\\eta(x)为方程的解，当x>x_0时，有\n",
    "\\varphi(x)-\\eta(x)<\\int_{x_0}^x{f(s,\\varphi(s)-f(s,\\eta(s))d s)}<=L\\int_{x_0}^x{\\varphi(s)-\\eta(s) d s}所以有\\varphi(s)=\\eta(s)在\\alpha<x_0<x<\\beta成立$"
   ]
  },
  {
   "cell_type": "markdown",
   "metadata": {},
   "source": [
    "$所以它的解存在且唯一的$"
   ]
  },
  {
   "cell_type": "markdown",
   "metadata": {},
   "source": [
    "# <font color='red'>构造的函数咧？？过程写全？？"
   ]
  },
  {
   "cell_type": "markdown",
   "metadata": {},
   "source": [
    "$p89.10$"
   ]
  },
  {
   "cell_type": "markdown",
   "metadata": {},
   "source": [
    "$做逐步逼近函数序列$\n",
    "$令\\varphi_0(x)=f(x),\\varphi_1(x)=f(x)+\\gamma\\int_b^a{K(x,\\eta)\\varphi_0(\\eta) d \\eta}$"
   ]
  },
  {
   "cell_type": "markdown",
   "metadata": {},
   "source": [
    "$\\varphi_n+1(x)=f(x),\\varphi_1(x)=f(x)+\\gamma\\int_b^a{K(x,\\eta)\\varphi_n(\\eta) d \\eta}$"
   ]
  },
  {
   "cell_type": "markdown",
   "metadata": {},
   "source": [
    "$M=\\max_{\\substack{\n",
    "x\\in[a,b] \\\\\n",
    "}}\n",
    "\\mid f(x)\\mid,\n",
    "L=\\max_{\\substack{\n",
    "x\\in[a,b] \\\\\n",
    "\\eta\\in[a,b] \\\\\n",
    "}}\n",
    "\\mid K(x,\\eta)\\mid>0$"
   ]
  },
  {
   "cell_type": "markdown",
   "metadata": {},
   "source": [
    "$\\mid \\varphi_1(x)-\\varphi_0(x) \\mid<=\\gamma ML(b-a),便有\\varphi_{n+1}(x)-\\varphi_n(x)<=\\gamma^{n+1}L^{n+1}M(b-a)^{n+1},$"
   ]
  },
  {
   "cell_type": "markdown",
   "metadata": {},
   "source": [
    "$当\\gamma <\\frac{1}{(b-a)L},{\\varphi_n(x)}在[a,b]上一致收敛，当n倾向于正无穷大时它趋向于\\varphi(x)$"
   ]
  },
  {
   "cell_type": "markdown",
   "metadata": {},
   "source": [
    "$有\\varphi(x)=f(x)+\\gamma \\int_a^b{K(x,\\eta)\\varphi(\\eta) d \\eta},当\\mid \\gamma \\mid<\\frac{1}{(b-a)L},方程有连续解$"
   ]
  },
  {
   "cell_type": "markdown",
   "metadata": {},
   "source": [
    "$反证法：当存在另外一个解\\varphi(x)!=f(x)+\\gamma \\int_a^b{K(x,\\eta)\\varphi(\\eta) d \\eta}时$"
   ]
  },
  {
   "cell_type": "markdown",
   "metadata": {},
   "source": [
    "$有\\varphi(x)-\\varphi(x)!=\\gamma\\int_a^b{K(x,\\eta)(\\varphi(\\eta)!-\\varphi(\\eta)d \\eta)}<\\gamma M!L(b-a)$"
   ]
  },
  {
   "cell_type": "markdown",
   "metadata": {},
   "source": [
    "$所以M!<\\gamma M!L(b-a),得出\\gamma >\\frac{1}{(b-a)L}矛盾，所以假设不成立，所以定理得证$"
   ]
  },
  {
   "cell_type": "markdown",
   "metadata": {
    "collapsed": true
   },
   "source": [
    "# <font color='red'>A－  11/10"
   ]
  },
  {
   "cell_type": "code",
   "execution_count": null,
   "metadata": {
    "collapsed": true
   },
   "outputs": [],
   "source": []
  }
 ],
 "metadata": {
  "kernelspec": {
   "display_name": "SageMath 7.3",
   "language": "",
   "name": "sagemath"
  },
  "language_info": {
   "codemirror_mode": {
    "name": "ipython",
    "version": 2
   },
   "file_extension": ".py",
   "mimetype": "text/x-python",
   "name": "python",
   "nbconvert_exporter": "python",
   "pygments_lexer": "ipython2",
   "version": "2.7.10"
  }
 },
 "nbformat": 4,
 "nbformat_minor": 0
}
