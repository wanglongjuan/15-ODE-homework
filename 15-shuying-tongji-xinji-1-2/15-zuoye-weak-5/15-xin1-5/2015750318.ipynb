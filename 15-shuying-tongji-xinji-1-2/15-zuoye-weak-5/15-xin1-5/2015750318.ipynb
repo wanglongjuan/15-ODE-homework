{
 "cells": [
  {
   "cell_type": "markdown",
   "metadata": {},
   "source": [
    "3.求初值问题\n",
    "\n",
    "$$\\begin{cases}\\frac{\\mathrm d y }{\\mathrm d x}=x^2-y^2,R:|x+1|\\leq1,|y|\\leq1,\\\\y\\left(-1\\right)=0\\end{cases}$$\n",
    "的解的存在区间，并求第二次近似解，给出在解的存在区间的误差估计。"
   ]
  },
  {
   "cell_type": "markdown",
   "metadata": {},
   "source": [
    "解：$M=\\max_{\\left(x,y\\right)\\in R}|f(x,y)|=4,h=\\frac{1}{4},所以函数的利普希茨常数取为L=2,因为\\frac{\\partial f}{\\partial x}=|-2y|\\leq2=L$"
   ]
  },
  {
   "cell_type": "markdown",
   "metadata": {},
   "source": [
    "$$\\varphi_0\\left(x\\right)=0,$$"
   ]
  },
  {
   "cell_type": "markdown",
   "metadata": {},
   "source": [
    "$$\\varphi_1\\left(x\\right)=\\int_{-1}^x\\left(t^2-{\\varphi_0}^2\\left(t\n",
    "\\right)\\right)\\,\\mathrm d t=\\frac{x^3}{3}+\\frac{1}{3}$$"
   ]
  },
  {
   "cell_type": "markdown",
   "metadata": {},
   "source": [
    "$$\\varphi_2\\left(x\\right)=\\int_{-1}^x\\left(t^2-{\\varphi_1}^2\\left(t\\right)\\right)\n",
    "\\, \\mathrm d t=\\frac{x^3}{3}-\\frac{x}{9}-\\frac{x^4}{18}-\\frac{x^7}{63}+\\frac{11}{42}$$"
   ]
  },
  {
   "cell_type": "markdown",
   "metadata": {},
   "source": [
    "$|\\varphi_2\\left(x\\right)-\\varphi\\left(x\\right)|\\leq\\frac{4*{2^2}}{3!}{\\left(\\frac{1}{4}\\right)}^3=\\frac{1}{24}$"
   ]
  },
  {
   "cell_type": "markdown",
   "metadata": {},
   "source": [
    "初值问题的解区间为$-\\frac{5}{4}\\leq x\\leq -\\frac{3}{4}$,$y_2=\\frac{x^3}{3}-\\frac{x}{9}-\\frac{x^4}{18}-\\frac{x^7}{63}+\\frac{11}{42}$,在解的存在区间的误差估计为$$|y-y_2|\\leq\\frac{1}{24}.$$"
   ]
  },
  {
   "cell_type": "markdown",
   "metadata": {},
   "source": [
    "6.证明GRONWALL不等式：\n",
    "\n",
    "解：设K为非负常数，$f\\left(t\\right)$和$g\\left(t\\right)$为在区间$\\alpha\\leq t\\beta$上的连续非负函数，且满足不等式\n",
    "\n",
    "$$f\\left(t\\right)\\leq K+\\int_{\\alpha}^tf\\left(s\\right)g\\left(s\\right) \\mathrm d s,\\alpha\\leq t\\leq\\beta$$则有$$f\\left(t\\right)\\leq Kexp\\left(\\int_{\\alpha}^tg\\left(s\\right)\\mathrm d s\\right),\\alpha\\leq t\\leq\\beta$$\n",
    "\n",
    "并由此证明教材中定理1的命题5."
   ]
  },
  {
   "cell_type": "markdown",
   "metadata": {},
   "source": [
    "证$1)K>0$时$$\\varpi\\left(t\\right)=K+\\int_{\\alpha}^tf\\left(s\\right)g\\left(s\\right)\\mathrm d s,$$则${\\varpi}^{\\prime}\\left(t\\right)=f\\left(t\\right)g\\left(t\\right)\\leq g\\left(t\\right)\\varpi\\left(t\\right)$,由$\\varpi\\left(t\\right)>0$得$$\\frac{{\\varpi}^{\\prime}\\left(t\\right)}{\\varpi\\left(t\\right)}\\leq g\\left(t\\right)$$"
   ]
  },
  {
   "cell_type": "markdown",
   "metadata": {},
   "source": [
    "积分得$$ln\\varpi\\left(t\\right)-ln\\varpi\\left(\\alpha\\right)\\leq\\int_{\\alpha}^tg\\left(s\\right)\\mathrm d s$$\n",
    "\n",
    "$$\\frac{\\varpi\\left(t\\right)}{\\varpi\\left(\\alpha\\right)}\\leq exp\\left(\\int_{\\alpha}^tg\\left(s\\right)\\mathrm d s\\right)$$ $$\\varpi\\left(\\alpha\\right)=K>0$$"
   ]
  },
  {
   "cell_type": "markdown",
   "metadata": {},
   "source": [
    "即$$\\varpi\\left(t\\right)\\leq Kexp\\left(\\int_{\\alpha}^tg\\left(s\\right)\\mathrm d s\\right)$$\n",
    "$$f\\left(t\\right)\\leq\\varpi\\left(t\\right)\\leq Kexp\\left(\\int_{\\alpha}^tg\\left(s\\right)\\mathrm d s\\right),\\alpha\\leq t\\leq\\beta$$"
   ]
  },
  {
   "cell_type": "markdown",
   "metadata": {},
   "source": [
    "2)当$K=0$时，由于$f\\left(t\\right)\\leq\\int_{\\alpha}^tf\\left(s\\right)g\\left(s\\right)\\mathrm d s$，所以$f\\left(t\\right)\\leq\\epsilon +\\int_{\\alpha}^tf\\left(s\\right)g\\left(s\\right)\\mathrm d s$,由1）有$f(t)≤εexp(\\int_{a}^{t}{g(s)ds}$$.\n",
    "\n",
    "当$\\epsilon\\rightarrow0^+$时，有$f(t)≤ 0$"
   ]
  },
  {
   "cell_type": "markdown",
   "metadata": {},
   "source": [
    "$f\\left(t\\right)\\equiv 0$\n",
    "\n",
    "$f\\left(t\\right)\\leq Kexp\\left(\\int_{\\alpha}^tg\\left(s\\right)\\mathrm d s\\right),\\alpha\\leq\\beta$，\n",
    "\n",
    "\n",
    "即证毕"
   ]
  },
  {
   "cell_type": "markdown",
   "metadata": {},
   "source": [
    "证，设$\\varphi\\left(t\\right),\\psi\\left(t\\right)$是初值问题的解。$$\\varphi\\left(t\\right)=x_0+\\int_{t_0}^tf\\left(\\xi,\\varphi\\left(x\\right)\\right)\\mathrm d\\xi,$$\n",
    "\n",
    "$$\\psi\\left(t\\right)=x_0+\\int_{t_0}^f\\left(\\xi,\\psi\\left(\\xi\\right)\\right)\\mathrm d\\xi$$"
   ]
  },
  {
   "cell_type": "markdown",
   "metadata": {},
   "source": [
    "于是$$|\\varphi\\left(t\\right)-\\psi\\left(t\\right)|leq\\int{t_0}^t|f\\left(\\xi,\\varphi\\left(\\xi\\right)\\right)-f\\left(\\xi,\\psi\\left(\\xi\\right)\\right)|\\mathrm d \\xi\\leq L\\int{t_0}^t|\\varphi\\left(\\xi\\right)-\\psi\\left(\\xi\\right)|\\mathrm d\\xi$$"
   ]
  },
  {
   "cell_type": "markdown",
   "metadata": {},
   "source": [
    "即$$0\\leq|\\varphi\\left(t\\right)-\\psi\\left(t\\right)|\\leq 0$$\n",
    "\n",
    "$$\\varphi\\left(t\\right)=\\psi\\left(t\\right)$$\n",
    "\n",
    "证毕"
   ]
  },
  {
   "cell_type": "markdown",
   "metadata": {},
   "source": [
    "8.如果函数$f\\left(x,y\\right)$于带域$\\alpha\\leq\\beta$上连续且关于y满足Lioschitz条件，则教材中方程（3,1）满足条件$y\\left(x_0\\right)=y_0$的整个区间$[\\alpha,\\beta]$上存在且唯一。试证明之。"
   ]
  },
  {
   "cell_type": "markdown",
   "metadata": {},
   "source": [
    "证:方程（3.1）满足条件$y\\left(x_0\\right)=y_0$的解等价于求积分方程的连续解所以，\n",
    "\n",
    "取$$y_0\\left(x\\right)=y_0$$\n",
    "\n",
    "$$y_1\\left(x\\right)=y_0+\\int{x_0}^xf\\left(\\xi,y_0\\left(\\xi\\right)\\right)\\mathrm d\\xi$$\n",
    "\n",
    "$$\\cdots$$\n",
    "\n",
    "$$y_n\\left(x\\right)=y_0+\\int{x_0}^xf\\left(\\xi,y_{n-1}\\left(\\xi\\right)\\right)\\mathrm d\\xi$$\n",
    "\n",
    "$$\\cdots$$"
   ]
  },
  {
   "cell_type": "markdown",
   "metadata": {},
   "source": [
    "易见$y_n(x)$在$\\alpha\\leq\\beta$上存在且连续。\n",
    "$y_0(x)+\\sum_{k=1}^\\infty [y_k\\left(x\\right)-y_{k-1}\\left(x\\right)],x\\in[\\alpha,\\beta].$"
   ]
  },
  {
   "cell_type": "markdown",
   "metadata": {},
   "source": [
    "$M=\\max_{x\\in [\\alpha,\\beta]}|f(x,y_0)|$,"
   ]
  },
  {
   "cell_type": "markdown",
   "metadata": {},
   "source": [
    "$|y_1\\left(x\\right)-y_0\\left(x\\right)\\leq\\int_{x_0}^x|f\\left(\\xi,y_0\\left(\\xi\\right)\\right)\\mathrm d\\xi\\leq M|x-x_0|$,\n",
    "\n",
    "$|y_2\\left(x\\right)-y_1\\left(x\\right)|\\leq\\int_{x_0}^x|f\\left(\\xi,y_1(\\xi\\right)-f\\left(\\xi,y_0\\left(\\xi\\right)\\right)|\\mathrm d\\xi$"
   ]
  },
  {
   "cell_type": "markdown",
   "metadata": {},
   "source": [
    "即得$|y_2\\left(x\\right)-y_1\\left(x\\right)|\\leq L\\int_{x_0}^x|y_1\\left(\\xi\\right)-y_0\\left(\\xi\\right)|\\mathrm d\\xi=\\frac{ML}{2!}\\left(x-x_0\\right)^2.$\n",
    "\n",
    "得$|y_k\\left(x\\right)-y_{k-1}\\left(x\\right)|\\leq\\frac{ML}{k!}|x-x_0|^k$\n",
    "\n",
    "设$\\lim_{x\\to\\infty} y_n\\left(x\\right)=y\\left(x\\right).得y\\left(x\\right)在[\\alpha,\\beta]$上连续，且{$f\\left(x,y_n\\left(x\\right)\\right)$}在$[\\alpha,\\beta]$上一致收敛于$f\\left(x,y\\left(x\\right)\\right)$.因而，取极限得$y\\left(x\\right)=y_0+\\int_{x_0}^xf\\left(\\xi,y\\left(\\xi\\right)\\right)\\mathrm d\\xi$\n",
    "\n",
    "证毕"
   ]
  },
  {
   "cell_type": "markdown",
   "metadata": {},
   "source": [
    "# <font color='red'>唯一性"
   ]
  },
  {
   "cell_type": "markdown",
   "metadata": {},
   "source": [
    "10.证，取$$\\varphi_0\\left(x\\right)=f\\left(x\\right)$$"
   ]
  },
  {
   "cell_type": "markdown",
   "metadata": {},
   "source": [
    "$$\\varphi_1\\left(x\\right)=f\\left(x\\right)+\\lambda\\int_a^xk\\left(x,\\xi\\right)\\varphi_n\\left(\\xi\\right)\\mathrm d\\xi$$\n",
    "\n",
    "$$\\cdots$$\n",
    "\n",
    "$$\\varphi_{n+1}\\left(x\\right)=f\\left(x\\right)+\\lambda\\int_a^xk\\left(x,\\xi\\right)\\varphi_n\\left(\\xi\\right)\\mathrm d\\xi$$\n",
    "\n",
    "$$\\cdots$$"
   ]
  },
  {
   "cell_type": "markdown",
   "metadata": {},
   "source": [
    "$M=\\max|f\\left(x\\right)|,L=\\max|k\\left(x,\\xi\\right)|$\n",
    "\n",
    "$$|\\varphi_1\\left(x\\right)-\\varphi_0\\left(x\\right)|\\leq|\\lambda|ML\\left(b-a\\right)$$"
   ]
  },
  {
   "cell_type": "markdown",
   "metadata": {},
   "source": [
    "假设$|\\varphi_k\\left(x\\right)-\\varphi_{k-1}\\left(x\\right)\\leq|\\lambda|^kL^kM\\left(b-a\\right)^k$成立,则有$$|\\varphi_{k+1}\\left(x\\right)-\\varphi_k\\left(x\\right)|\\leq|\\lambda|^{k+1}L^{k+1}M\\left(b-a\\right)^{k+1}$$"
   ]
  },
  {
   "cell_type": "markdown",
   "metadata": {},
   "source": [
    "则对于任意的n都有$$|\\varphi_n\\left(x\\right)-\\varphi_{n-1}\\left(x\\right)|\\leq ML^n|\\lambda|^n\\left(b-a\\right)^n$$\n",
    "\n",
    "$$\\varphi_0\\left(x\\right)+\\sum_{k=1}^\\infty\\left(\\varphi_k\\left(x\\right)-\\varphi_{k-1}\\left(x\\right)\\right)$$\n",
    "\n",
    "$$\\varphi_0\\left(x\\right)=\\varphi_n\\left(x\\right)$$"
   ]
  },
  {
   "cell_type": "markdown",
   "metadata": {},
   "source": [
    "由于$$|\\varphi_k\\left(x\\right)0-\\varphi_{k-1}\\left(x\\right)|\\leq ML^k|\\lambda|^k\\left(b-a\\right)^k$$\n",
    "\n",
    "当$|\\lambda|<\\frac{1}{\\left(b-a\\right)L}$时，级数一致收敛，设极限函数为$\\varphi^*\\left(x\\right)$,当$n\\rightarrow\\infty$时，$\\varphi_n\\left(x\\right)$一致收敛于$\\varphi^*\\left(x\\right)$，且连续，取极限得$$\\varphi^*\\left(x\\right)=f\\left(x\\right)+\\lambda\\int_a^bk\\left(x,\\xi\\right)\\varphi^*\\left(\\xi\\right)\\mathrm d\\xi$$\n",
    "\n",
    "这就证明了方程在$|\\lambda|<\\frac{1}{\\left(b-a\\right)L}$时，积分方程存在连续解"
   ]
  },
  {
   "cell_type": "markdown",
   "metadata": {},
   "source": [
    "上式两边取极限得$\\overline{\\varphi}\\left(x\\right)=f\\left(x\\right)+\\lambda\\int_a^bk\\left(x\\xi\\right)\\overline{\\varphi}\\left(\\xi\\right)\\mathrm d\\xi$"
   ]
  },
  {
   "cell_type": "markdown",
   "metadata": {},
   "source": [
    "$这就证明了当|C|<\\frac {1}{(b-a)L}时，积分方程必存在连续解$"
   ]
  },
  {
   "cell_type": "markdown",
   "metadata": {},
   "source": [
    "$下证当|C|<\\frac {1}{(b-a)L}时，方程解的唯一性$\n",
    "\n",
    "$设令有解\\varphi^-(x) \\neq \\varphi^*(x),即\\varphi^-(s)=f(x)+|C|\\int_{a}^{b}k(x,\\gamma)\\varphi^-(\\gamma)d\\gamma$"
   ]
  },
  {
   "cell_type": "markdown",
   "metadata": {},
   "source": [
    "$记Q=\\max\\limits_{x\\in[a,b]}|\\varphi^*(x)-\\varphi^-(x)|>0$\n",
    "$|\\varphi^*(x)-\\varphi^-(x)|\\leq|C|\\int_{a}^{b}L|\\varphi^*(\\gamma)-\\varphi^-(\\gamma)|d\\gamma=|C|QL(b-a)$\n",
    "$即有Q\\leq|C|QL(b-a),由于Q>0,所以|C|\\leq\\frac {1}{(b-a)L},与|C|<\\frac {1}{(b-a)L}矛盾，唯一性得证.$"
   ]
  },
  {
   "cell_type": "markdown",
   "metadata": {
    "collapsed": true
   },
   "source": [
    "# <font color='red'>A  11/10"
   ]
  },
  {
   "cell_type": "code",
   "execution_count": null,
   "metadata": {
    "collapsed": true
   },
   "outputs": [],
   "source": []
  }
 ],
 "metadata": {
  "kernelspec": {
   "display_name": "SageMath 7.3",
   "language": "",
   "name": "sagemath"
  },
  "language_info": {
   "codemirror_mode": {
    "name": "ipython",
    "version": 2
   },
   "file_extension": ".py",
   "mimetype": "text/x-python",
   "name": "python",
   "nbconvert_exporter": "python",
   "pygments_lexer": "ipython2",
   "version": "2.7.10"
  }
 },
 "nbformat": 4,
 "nbformat_minor": 0
}
