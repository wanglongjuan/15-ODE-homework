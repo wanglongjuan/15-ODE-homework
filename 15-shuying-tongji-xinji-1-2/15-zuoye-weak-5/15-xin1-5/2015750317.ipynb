{
 "cells": [
  {
   "cell_type": "markdown",
   "metadata": {},
   "source": [
    "3\n",
    "\n",
    "因为$M=^{max}_{(x,y)∈R}|f(x,y)|=4,h=min\\{1,\\frac{1}{4}\\}=\\frac{1}{4}$,\n",
    "\n",
    "$在R上函数f(x,y)=x^2-y^2的利普茨常数L=2$\n",
    "\n",
    "$因为\\frac{\\partial f}{\\partial y}=|-2y|≤2$\n",
    "\n",
    "$\\phi_0(x)=0,\\phi_1(x)=\\int ^x_{-1}(t^2-{\\phi_0(t)}^2)=\\frac{x^3}{3}+\\frac{1}{3}$\n",
    "\n",
    "$\\phi_2(x)=\\int^x_{-1}(t^2-{\\phi_1(t)}^2)\\mathrm d t=\\int ^x_{-1}(t^2-\\frac{(t^3+1)^2}{9})\\mathrm d t=\\frac{x^3}{3}-\\frac{x}{9}-\\frac{x^4}{18}-\\frac{x^7}{63}+\\frac{11}{42}$\n",
    "\n",
    "$由误差公式得|\\phi_2(x)-\\phi(x)|≤\\frac{4·2^2}{3!}·（\\frac{1}{4}）^3=\\frac{1}{24}$.\n",
    "\n",
    "$所以，已知初值问题的解的存在为-\\frac{5}{4}≤x≤-\\frac{3}{4}$,\n",
    "\n",
    "$第二次近似解为y_2=\\frac{x^3}{3}-\\frac{x}{9}-\\frac{x^4}{18}-\\frac{x^7}{63}+\\frac{11}{42}$,\n",
    "\n",
    "$在解得存在区间的误差估计为|y-y_2|≤\\frac{1}{24}$"
   ]
  },
  {
   "cell_type": "markdown",
   "metadata": {},
   "source": [
    "6\n",
    "\n",
    "证明$（1）K>0时，令w(t)=K+\\int ^t_\\alpha f(s)g(s)\\mathrm d s$,\n",
    "\n",
    "$则w(t){\\prime}=f(t)g(t)≤g(t)w(t)$,\n",
    "\n",
    "$由w(t)>0可得\\frac{w(t){\\prime}}{w(t)}≤g(t)$,\n",
    "\n",
    "$两边从\\alpha到t积分得ln w(t)-ln w(\\alpha)≤\\int ^t_\\alpha g(s)\\mathrm d s$,\n",
    "\n",
    "$即有\\frac{w(t)}{w(\\alpha)}≤exp(\\int ^t_\\alpha g(s)\\mathrm d s),w(\\alpha)=K>0$,\n",
    "\n",
    "$所以w(t)≤K·exp(\\int ^t_\\alpha g(s)\\mathrm d s)$,\n",
    "\n",
    "$即有f(t)≤w(t)≤K·exp(\\int ^t_\\alpha g(s)\\mathrm d s),\\alpha<t<\\beta$.\n",
    "\n",
    "$(2)K=0时，对任意\\epsilon>0,由于f(t)≤\\int ^t_\\alpha f(s)g(s)\\mathrm d s$,\n",
    "\n",
    "$所以，f(t)≤\\epsilon+\\int ^t_\\alpha g(s)g(s)\\mathrm d s$,\n",
    "\n",
    "$由(1),可得f(t)≤\\epsilon exp(\\int ^t_\\alpha g(s)\\mathrm d s)$,\n",
    "\n",
    "$当\\epsilon→0^+时，有f(t)≤0,又因为f(t)≥0,即得f(t)≡0,从而f(t)≤K·exp(\\int ^t_\\alpha g(s）\\mathrm d s,\\alpha≤t≤\\beta$\n",
    "\n",
    "$由(1),(2)可得,格朗沃尔不等式成立$\n",
    "\n",
    "$(3)证明定理1的命题5$\n",
    "\n",
    "$设\\phi(x),\\phi(t)是初值问题x{\\prime}=f(t,x),x(t_0)=x_0的两个解，则有$\n",
    "\n",
    "$\\phi(t)=x-0+\\int ^t_{t_0}f(\\xi,\\phi(\\xi))\\mathrm d \\xi,\\psi(t)=x_0+\\int ^t_{t_0}f(\\xi,\\psi(\\xi))\\mathrm d \\xi$\n",
    "\n",
    "$于是|\\phi(t)-\\psi(t)\\prime|≤\\int ^t_{t_0}|f(\\xi,\\phi(\\xi))-f(\\xi,\\psi(\\xi))|\\mathrm d \\xi≤L\\int ^t_{t_0}|\\phi(\\xi)-\\psi(\\xi)|\\mathrm d \\xi$\n",
    "\n",
    "$其中L为利普希茨常数，由格朗沃尔不等式知K=0且$\n",
    "\n",
    "$0≤|\\phi(t)-\\psi(t)|≤Kexp(\\int ^t_{t_0}L\\mathrm d \\xi)=0$\n",
    "\n",
    "$于是\\phi(t)=\\psi(t),即定理1的命题5的证$"
   ]
  },
  {
   "cell_type": "markdown",
   "metadata": {},
   "source": [
    "8\n",
    "\n",
    "证明$设M=^{max}_{x∈[\\alpha,\\beta]}|f(x,y_0)|,h=\\beta-\\alpha,b=Mh及有某常数L使得在域R=\\{(x,y)|\\alpha≤x≤\\beta,|y-y_0|≤b\\}$中有|f(x,y_1)-f(x,y_2)|≤L|y_1-y_2|,(x,y_1),(x,y_2）∈R$.\n",
    "\n",
    "$构造逐步逼近函数序列\\cases {\\phi_0(x)=y_0\\\\ \\phi_n(x)=y_0+\\int ^x_{x_0}f(\\xi,\\pi_{n-1}(\\xi)\\mathrm d x,\\alpha≤x≤\\beta,n=1,2,…}$\n",
    "\n",
    "$因|\\phi_0(x)-y_0|=|\\int ^x_{x_o}|f\\xi,u_0)|\\mathrm d x≤M(x-x-0）≤Mh≤b$\n",
    "\n",
    "$可证|\\phi_0(x)-\\phi_{n-1}(x)|≤\\frac{M}{n!}L^{n-1}(\\beta-\\alpha)^n$\n",
    "\n",
    "$事实上有|\\phi_{n+1}(x)-\\phi_n(x)|≤|\\int |f(\\xi,\\phi_n(\\xi))-f(\\xi,\\phi_{n-i}(\\xi))|\\mathrm d \\xi|≤L|\\int ^x_{x-0}|\\phi_n(\\xi)-\\phi_{n-i}(\\xi)|\\mathrm d \\xi|≤L|\\int ^x_{x_0}\\frac{M}{n!}L^{n-1}|\\xi-x_0|^n\\mathrm d \\xi|≤\\frac{M}{(n=10!}L^n|x-x_0|^{n+1}≤\\frac{M}{(n+1)!}L^n(\\beta-\\alpha)^{n+1}$.\n",
    "\n",
    "$由于级数\\frac{∞}{\\frac{∑}{k=1}}\\frac{M}{k!}L^{k-1}(\\beta-\\alpha)^k收敛，可知级数\\phi_n(x)=\\phi_0(x)+\\frac{n}{\\frac{∑}{k=1}}[\\phi_k9x0-\\phi_{n-1}(x)]$\n",
    "\n",
    "$在区间[\\alpha,\\beta]一致收敛，于是存在极限\\frac{lim}{n→∞}\\phi_n(x)=\\phi(x),它在区间[\\alpha,\\beta]连续$，\n",
    "\n",
    "$而且\\phi(x)=\\frac{lim}{n→∞}\\phi_n(x)=y_0+\\frac{lim}{n→∞}\\int ^x_{x_0}f(\\xi,\\phi_{n-1}(\\xi)\\mathrm d \\xi=y_0+\\int ^x_{x_0}f(x,\\frac{lim}{n→∞}\\phi_{n-1}(\\xi)\\mathrm d \\xi=y_0+\\int ^x_{x_0}f(\\xi,\\phi(\\xi))\\mathrm d \\xi$\n",
    "\n",
    "$故\\phi(x)是积分方程也是微积分方程的解。$\n",
    "\n",
    "$设\\phi(x),\\psi(x)均满足方程$\n",
    "\n",
    "$y=y_0+\\int ^x_{x_0}f(\\xi,y(\\xi))\\mathrm d \\xi,\\alpha≤x_0≤\\beta,\\alpha≤x≤\\beta$\n",
    "\n",
    "$当x≥x_0时，利用格朗沃尔不等式，由|\\phi(x)-\\psi(x)|≤\\int ^x_{x_0}f(s,\\phi(s)-f(s,\\psi(s)|\\mathrm d x≤L\\int ^x_{x_0}|\\phi(s)-\\psi(s)|\\mathrm d s.$\n",
    "\n",
    "$有|\\phi(x)-\\psi(x)|≤0，即\\phi(x)≡\\psi(x)(\\alpha≤x_0≤x≤\\beta)$,\n",
    "\n",
    "$同理可证\\alpha≤x≤x_0≤\\beta时\\phi(x)≡\\psi(x).即积分方程也就是微分方程的解的唯一性$"
   ]
  },
  {
   "cell_type": "markdown",
   "metadata": {},
   "source": [
    "10\n",
    "\n",
    "$证明：作逐步逼近函数序列，取\\phi_0(x)=f(x)$,\n",
    "\n",
    "$令\\phi-1(x)=f(x)+\\lambda \\int ^b_aK(x,\\xi)\\phi_0(\\xi)\\mathrm d \\xi,…$\n",
    "\n",
    "$\\phi_{n+1}(x)=f(x)+\\lambda\\int ^b_aK(x,\\xi)\\phi_n(\\xi)\\mathrm d \\xi,…①$\n",
    "\n",
    "$令M=\\frac{max}{x∈[a,b]}|f(x)|,L=\\frac{max}{\\frac{x∈[a,b]}{\\xi∈[a,b]}}|K(x,\\xi)|＞0,$\n",
    "\n",
    "$则|\\phi_1(x)-\\phi_0(x)|=|\\lambda\\int ^b_aK(x,\\xi)\\phi_0(\\xi)\\mathrm d xi|≤|\\lambda|\\int ^b_a|K(x,\\xi)||f(\\xi)|\\mathrm d \\xi≤|\\lambda|ML(b-a),$\n",
    "\n",
    "$假设|\\phi_k(x)-\\phi_{k-1}(x)|≤|\\lambda|^kL^kM(b-a)^k成立，则有$\n",
    "\n",
    "$|\\phi_{k+1}(x)-\\phi_k(x)|=|\\lambda\\int ^b_bK(x,\\xi)(\\phi_k(\\xi)-\\phi_{k-1}))\\mathrm d \\xi≤|\\lambda|\\int ^b_b|K(x,\\xi)||\\phi_k(\\xi)-\\phi_{k-1}(\\xi)|\\mathrm d \\xi≤|\\lambda|\\int ^b_aL^{k+1}|\\lambda|^kM(b-a)^k\\mathrm d \\xi=|\\lambda|^{k+1}L^{k+1}M(b-a)^{k+1},$\n",
    "\n",
    "由数学归纳法知，对任意的n∈N，有$|\\phi_n(x)-\\phi_{n-1}(x)|≤ML^n|\\lambda|^n(b-a)^n.$\n",
    "\n",
    "下证$\\{\\phi_n(x)\\}在[a,b]上一致收敛，考虑级数\\phi_0(x)+\\frac{∞}{\\frac{∑}{k=1}}(\\phi_k(x)-\\phi_{k-1}(x))$\n",
    "\n",
    "$只需证该级数在[a,b]上一致收敛即可，由于|\\phi_k(x)-\\phi_{k-1}(x)|≤ML^k|\\lambda|^k(b-a)^k,$\n",
    "\n",
    "$当|\\lambda|＜\\frac{1}{(b-a)L}时，级数\\frac{∞}{\\frac{∑}{k=1}}ML^k|\\lambda|^k(b-a)^k收敛，由此知当|\\lambda|＜\\frac{1}{(b-a)L}时，级数\\phi_0(x)+\\frac{∞}{\\frac{∑}{k=1}}(\\phi_k(x)-\\phi_{k-1}(x)在[a,b]上一致收敛，即\\{\\phi_n(x)\\}在[a,b]上一致收敛，不妨设其极限函数为\\phi^*(x),即当x∈[a,b]时，\\phi_n(x)当n→∞时一致收敛于\\phi*(x),且由\\phi_n(x)的连续性知\\phi^*(x)在[a,b]上连续，对迭代列①，当n→∞时两边取极限，得$\n",
    "\n",
    "$\\phi^*(x)=f(x)+\\lambda\\int ^b_aK(x,\\xi)\\phi^*x(\\xi)\\mathrm d \\xi(|\\lambda|＜\\frac{1}{(b-a)L}$\n",
    "\n",
    "$即当|\\lambda|＜\\frac{1}{(b-a)L}时，积分方程必存在连续解。$\n",
    "\n",
    "$下证当|\\lambda|＜\\frac{1}{(b-a)L}时，方程的解的唯一性，用反证法。$\n",
    "\n",
    "$设另有解\\psi(x)且\\psi(x)≠\\phi^*(x),即\\psi(x)=f(x)+\\lambda|int ^b_aK(x,\\xi)\\psi(\\xi)\\mathrm d \\xi$\n",
    "\n",
    "$记\\frac{-}{M}=\\frac{max}{x∈[a,]}|\\phi^*(x)-\\psi（x)|＞0$\n",
    "\n",
    "$|\\phi^*（x)-\\psi(x)|=|\\lambda\\int ^b_aK(x,\\xi)(\\phi^*(\\xi)\\mathrm d \\xi|≤|\\lambda|\\int^b_aL|\\phi^*(\\xi)-\\psi(\\xi)|\\mathrm d \\xi=|\\lambda\\frac{-}{M}(b-a)$\n",
    "\n",
    "$即有\\frac{-}{M}≤|\\lambda|\\frac{-}{M}L(b-a),由于\\frac{-}{M}＞0，所以，|\\lambda|≥\\frac{1}{(b-a)L},与|\\lambda|＜\\frac{1}{(b-a)L}矛盾，唯一性得证$"
   ]
  },
  {
   "cell_type": "markdown",
   "metadata": {
    "collapsed": true
   },
   "source": [
    "# <font color='red'>A  11/10"
   ]
  },
  {
   "cell_type": "code",
   "execution_count": null,
   "metadata": {
    "collapsed": true
   },
   "outputs": [],
   "source": []
  }
 ],
 "metadata": {
  "kernelspec": {
   "display_name": "SageMath 7.3",
   "language": "",
   "name": "sagemath"
  },
  "language_info": {
   "codemirror_mode": {
    "name": "ipython",
    "version": 2
   },
   "file_extension": ".py",
   "mimetype": "text/x-python",
   "name": "python",
   "nbconvert_exporter": "python",
   "pygments_lexer": "ipython2",
   "version": "2.7.10"
  }
 },
 "nbformat": 4,
 "nbformat_minor": 0
}
