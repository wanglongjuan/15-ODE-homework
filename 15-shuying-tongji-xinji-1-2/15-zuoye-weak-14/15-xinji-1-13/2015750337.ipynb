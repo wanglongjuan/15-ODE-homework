{
 "cells": [
  {
   "cell_type": "markdown",
   "metadata": {},
   "source": [
    "# P217\n",
    "## 5.\n",
    "\n",
    "$\\because$$ \\Phi (t) $ 是 方程的基解，\n",
    "\n",
    "$\\therefore$$ \\frac{\\mathrm d\\Phi (t)}{\\mathrm dt} = A\\Phi (t) $\n",
    "\n",
    "$$ \\frac{\\mathrm d\\Phi (t)}{\\Phi (t)} = A \\mathrm dt $$,\n",
    "\n",
    "$$ \n",
    "\\Phi (t) = e^{At}\n",
    "$$,$ \\Phi(t)^{-1} = e^{-At} $ , $ \\Phi (t)\\Phi(t_0)^{-1} = e^{At}e^{-At_0} = e^{A(t-t_0} = \\Phi(t-t_0) $"
   ]
  },
  {
   "cell_type": "markdown",
   "metadata": {},
   "source": [
    "## 10.\n",
    "### (2).\n",
    "\n",
    "$\\because$$ \\lambda^3 = 8 $\n",
    "$\\therefore$ $ \\lambda = 2 ,-1 \\pm \\sqrt3 $ ，\n",
    "\n",
    "基本解组为 $ x_1 = e^{2t} ,x_2 = e^{-t}\\cos \\sqrt 3 t ,x_3 = e^{-t}\\sin \\sqrt 3 t $ ,\n",
    "$\\because$为 $ \\lambda = 2 $ 是特征根。\n",
    "\n",
    "\n",
    "$ x = Ate^{2t}$ 代入到原方程\n",
    "$ (Ate^{2t})''' + 8Ate^{2t} = e^{2t} $ ，\n",
    "\n",
    "$ A = \\frac{1}{12} $  ,\n",
    "\n",
    "所以方程的通解为\n",
    "\n",
    "$$\n",
    "x = (c_1\\cos \\sqrt 3 t + c_2 \\sin \\sqrt 3 t)e{-t} + c_3e^{2t} + \\frac{1}{12}te^{2t} \n",
    "$$"
   ]
  },
  {
   "cell_type": "markdown",
   "metadata": {
    "collapsed": true
   },
   "source": [
    "# P244\n",
    "## 1.\n",
    "### (2)\n",
    "\n",
    "$\\because$\n",
    "\n",
    "$ k>0 $,\n",
    "\n",
    "$$ (\\exp A)^k=\\exp A \\exp A \\exp A \\cdots = \\exp kA $$\n",
    "\n",
    "$ k<0 $ \n",
    "$ (\\exp A)^{-1} = \\exp(-A) $\n",
    "\n",
    "$\\therefore$$ (\\exp A)^k = ((\\exp A)^{-1})^{-k} = (\\exp(-A))^{-k} = \\exp (-A) \\exp(-A) \\cdots = \\exp(kA) $, \n",
    "\n",
    "$\\therefore$$$ (\\exp A)^k = \\exp(kA) $$"
   ]
  },
  {
   "cell_type": "markdown",
   "metadata": {},
   "source": [
    "## 5.\n",
    "### (2)\n",
    "\n",
    "特征根  $ \\lambda $  ,由$ \\det (\\lambda \\bf {E} - \\bf {A}) = 0 $ \n",
    "$\\therefore$\n",
    "\n",
    "$$\n",
    "\\det (\\lambda \\bf {E} - \\bf {A}) = \\begin{vmatrix} \\lambda - 1 &  0 & -3 \\\\ -8 & \\lambda -1 & 1 \\\\ -5 & -1 & \\lambda +1 \\end{vmatrix} = \\lambda^3 -\\lambda^2 -15\\lambda -9 = (\\lambda +3)(\\lambda^2- 4\\lambda -3) = 0\n",
    "$$\n",
    "\n",
    "$ \\lambda_{1,2,3} = -3,2 \\pm \\sqrt 7 $ , \n",
    "\n",
    "特征向量为,$ \\bf {u} = \\begin{bmatrix} u_1\\\\u_2 \\\\u_3 \\end{bmatrix} $\n",
    "\n",
    "$$\n",
    "(\\lambda_1 \\bf{E} - \\bf{A})\\bf{u_1} = \\begin{bmatrix} -4 & 0 & -3 \\\\ -8 & -4 & 1 \\\\ -5 & -1 & -2 \\end{bmatrix} \\begin{bmatrix} u_1 \\\\ u_2 \\\\u_3 \\end{bmatrix}\n",
    "$$\n",
    "\n",
    "$ u_1 ,u_2,u_3 $ 满足方程组\n",
    "\n",
    "$$\n",
    "\\begin {cases}\n",
    "-4u_1 -3u_3=0 \\\\\n",
    "-8u_1 -4u_2 +u_3 \\\\\n",
    "-5u_1 -u_2 -2u_3 \n",
    "\\end {cases}\n",
    "$$, \n",
    "解得，$ u_1 = -3 ,u_2 = 7 ,u_3=4 $ , 则  $ \\bf{u_1} = \\begin{bmatrix} -3 \\\\ 7 \\\\ 4 \\end{bmatrix} $\n",
    "\n",
    "$$\n",
    "(\\lambda_1 \\bf{E} - \\bf{A})\\bf{u_2} = \\begin{bmatrix} 1+\\sqrt 7 & 0 &-3 \\\\ -8 & 1+\\sqrt 7 & 1 \\\\ -5 & -1 & 3+\\sqrt 7 \\end{bmatrix}\\begin{bmatrix} u_1 \\\\ u_2 \\\\u_3 \\end{bmatrix}\n",
    "$$\n",
    "\n",
    "$ u_1 ,u_2,u_3 $ 满足方程组\n",
    "\n",
    "$$\n",
    "\\begin {cases}\n",
    "(1+\\sqrt 7)u_1 -3u_3=0 \\\\\n",
    "-8u_1 +(1+\\sqrt 7)u_2 +u_3 \\\\\n",
    "-5u_1 -u_2 +(3+\\sqrt 7)u_3 \n",
    "\\end {cases}\n",
    "$$,\n",
    "\n",
    "解得，$ u_1 = 1 ,u_2=\\frac{4\\sqrt 7 -5}{3} ,u_3 = \\frac{1+ \\sqrt 7}{3} $，则 $\\bf{u_2} = \\begin{bmatrix} 1 \\\\ \\frac{4\\sqrt 7 -5}{3} \\\\  \\frac{1+ \\sqrt 7}{3} \\end{bmatrix} $\n",
    "\n",
    "同理，$\\bf{u_3} = \\begin{bmatrix} 1 \\\\ \\frac{-4\\sqrt 7 -5}{3} \\\\  \\frac{1- \\sqrt 7}{3} \\end{bmatrix} $,\n",
    "\n",
    "$\\therefore$\n",
    "方程的基解矩阵为\n",
    "\n",
    "$$\n",
    "\\Phi(t) = \\begin{bmatrix}-3e^{-3t} & e^{(2+ \\sqrt 7)t} &e^{(2- \\sqrt 7)t}\\\\ 7e^{-3t} & \\frac{4\\sqrt 7 -5}{3}e^{(2+ \\sqrt 7)t} & \\frac{-4\\sqrt 7 -5}{3}e^{(2- \\sqrt 7)t} \\\\ 4e^{-3t} & \\frac{1+ \\sqrt 7}{3}e^{(2+\\sqrt 7)t} & \\frac{1- \\sqrt 7}{3}e^{(2-\\sqrt 7)t} \\end{bmatrix}\n",
    "$$,\n",
    "\n",
    "满足初值条件$ \\varphi(0) = \\eta = \\begin{bmatrix} 0 \\\\ -2 \\\\ -7 \\end{bmatrix} $ 的解为\n",
    "\n",
    "$$\n",
    "\\varphi(t) = \\Phi(t) \\Phi(0)^{-1}\\eta = \\exp At \\eta \n",
    "$$\n",
    "\n",
    "$$\n",
    "\\varphi(t) = \\frac{1}{4 \\sqrt 7}\\begin{bmatrix} \\frac{52 \\sqrt 7}{3}e^{-3t}+ \\frac{4- 26\\sqrt 7}{3}e^{(2+ \\sqrt 7)t} + \\frac{-4-26\\sqrt 7}{3}e^{(2- \\sqrt 7)t} \\\\ \\frac{-364\\sqrt 7}{9}e^{-3t} + \\frac{-748+146 \\sqrt 7}{9}e^{(2+ \\sqrt 7)t} + \\frac{748 +146 \\sqrt 7}{9}e^{(2- \\sqrt 7)t} \\\\ \\frac{-208 \\sqrt 7}{9}e^{-3t} + \\frac{-178 -22 \\sqrt 7}{9}e^{(2+ \\sqrt 7)t} + \\frac{178 - 22\\sqrt 7}{9}e^{(2- \\sqrt 7)t} \\end{bmatrix}\n",
    "$$"
   ]
  },
  {
   "cell_type": "markdown",
   "metadata": {
    "collapsed": true
   },
   "source": [
    "# <font color='red'>A 9/12"
   ]
  },
  {
   "cell_type": "code",
   "execution_count": null,
   "metadata": {
    "collapsed": true
   },
   "outputs": [],
   "source": []
  }
 ],
 "metadata": {
  "kernelspec": {
   "display_name": "SageMath 7.3",
   "language": "",
   "name": "sagemath"
  },
  "language_info": {
   "codemirror_mode": {
    "name": "ipython",
    "version": 2
   },
   "file_extension": ".py",
   "mimetype": "text/x-python",
   "name": "python",
   "nbconvert_exporter": "python",
   "pygments_lexer": "ipython2",
   "version": "2.7.10"
  }
 },
 "nbformat": 4,
 "nbformat_minor": 0
}
