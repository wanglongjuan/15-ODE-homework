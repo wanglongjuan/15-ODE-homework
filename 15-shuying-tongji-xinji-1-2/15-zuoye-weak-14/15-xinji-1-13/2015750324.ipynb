{
 "cells": [
  {
   "cell_type": "markdown",
   "metadata": {},
   "source": [
    "5.设$\\mathbf \\Phi(t)$为方程$\\mathbf{x'}=\\mathbf{Ax}（A为n \\times n常数矩阵）$的标准基解矩阵$（即\\mathbf \\Phi(0)=\\mathbf E)$,证明：\n",
    "$$\\mathbf \\Phi(t) \\mathbf \\Phi^{-1}(t_0)=\\mathbf \\Phi(t-t_0)$$\n",
    "其中$t_0$为某一值."
   ]
  },
  {
   "cell_type": "markdown",
   "metadata": {},
   "source": [
    "解：\n",
    "\n",
    "因为$\\mathbf A是n \\times n$常数矩阵，所以方程$x'=\\mathbf Ax$的基解矩阵$\\mathbf \\Phi(t)$满足\n",
    "$$\\frac{d \\mathbf \\Phi(t)}{dt}=\\mathbf A \\cdot \\mathbf \\Phi(t)$$\n",
    "解得$$\\mathbf \\Phi(t)=e^{\\mathbf At}$$\n",
    "即得到结论$\\mathbf \\Phi(t)$是指数型的，又知道$\\mathbf \\Phi^{-1}(t)=e^{-\\mathbf At}$\n",
    "即有$$\\mathbf \\Phi(t) \\mathbf \\Phi^{-1}(t_0)=e^{\\mathbf At}e^{-\\mathbf A_0t}=e^{\\mathbf A(t-t_0)}=\\mathbf \\Phi(t-t_0)$$\n",
    "命题得证."
   ]
  },
  {
   "cell_type": "markdown",
   "metadata": {},
   "source": [
    "1.假设$\\mathbf A是n \\times n$矩阵，试证：\n",
    "（2）对任意整数k，都有$$(exp \\mathbf A)^k=expk \\mathbf A$$\n",
    "（当$k$是负整数时，规定$(exp \\mathbf A)^k=[(expk \\mathbf A)^{-1}]^{-k}.)$\n",
    "设$c_1=c_2=1$,则有\n",
    "$$exp(2 \\mathbf A)=exp(\\mathbf A+\\mathbf A)=exp\\mathbf A \\cdot \\mathbf A=(exp\\mathbf A)^2$$\n",
    "$$exp(3 \\mathbf A)=exp(\\mathbf A+\\mathbf {2A})=exp\\mathbf A \\cdot \\mathbf {2A}=(exp\\mathbf A)^3$$\n",
    "$$exp(k \\mathbf A)=exp(\\mathbf A+\\mathbf {k-1})=(exp\\mathbf A)^k$$\n",
    "\n",
    "当$k=0$时，\n",
    "$$右边=(exp\\mathbf A)^k=(exp\\mathbf A)^0=\\mathbf E$$\n",
    "$$左边=expk\\mathbf A=exp0=\\mathbf E$$\n",
    "等式成立.\n",
    "\n",
    "当$k=1$时，\n",
    "$$右边=expA=右边，等式成立.$$\n",
    "\n",
    "有归纳法得到\n",
    "当$k$是负整数时，\n",
    "$$右边=(exp\\mathbf A)^k=[(exp\\mathbf A)^{-1}]^{-k}=[exp (-\\mathbf A)]^{-k}=exp(-k)(-\\mathbf A)=exp\\mathbf A$$\n",
    "等式成立.\n",
    "\n",
    "综上，对任意整数k，都有$$(exp \\mathbf A)^k=expk \\mathbf A$$\n"
   ]
  },
  {
   "cell_type": "markdown",
   "metadata": {},
   "source": [
    "5.试求方程组$\\mathbf x'=\\mathbf Ax$的基解矩阵，并满足初值条件$\\mathbf \\phi(0)=\\mathbf \\eta$的解$\\mathbf \\phi(t)$:\n",
    "\n",
    "（2）$$\\mathbf A\n",
    "=\\left[\n",
    "\\begin{matrix}\n",
    "1 & 0 & 3 \\\\\n",
    "8 & 1 & -1 \\\\\n",
    "5 & 1 & -1\n",
    "\\end{matrix}\n",
    "\\right]\n",
    "$$\n",
    "\n",
    "$$\\mathbf \\eta\n",
    "=\\left[\n",
    "\\begin{matrix}\n",
    "0 \\\\\n",
    "-1 \\\\\n",
    "-7 \n",
    "\\end{matrix}\n",
    "\\right]\n",
    "$$"
   ]
  },
  {
   "cell_type": "markdown",
   "metadata": {},
   "source": [
    "解：\n",
    "\n",
    "解得到上述方程的一个基解矩阵：\n",
    "$$\\mathbf \\Phi(t)\n",
    "=\\left[\n",
    "\\begin{matrix}\n",
    "3e^{3t} & 3e^(2+\\sqrt 7)t & 3e^(2-\\sqrt 7)t \\\\\n",
    "-7e^{3t} & (4\\sqrt 7 -5)e^(2+\\sqrt 7)t & -(4\\sqrt 7 +5)e^(2-\\sqrt 7)t \\\\\n",
    "4e^{3t} & 3e^(\\sqrt 7+1)t & 3e^(1-\\sqrt 7)t\n",
    "\\end{matrix}\n",
    "\\right]\n",
    "$$\n",
    "\n",
    "满足初值条件\n",
    "$$\n",
    "\\mathbf \\phi(0)\n",
    "=\\mathbf \\eta\n",
    "=\\left[\n",
    "\\begin{matrix}\n",
    "0 \\\\\n",
    "-1 \\\\\n",
    "-7 \n",
    "\\end{matrix}\n",
    "\\right]\n",
    "$$\n",
    "的解为\n",
    "$$\\mathbf \\phi(t)=\\mathbf \\Phi(t)\\Phi^{-1}(0)\\eta=exp \\mathbf At \\cdot \\mathbf \\eta$$\n",
    "\n",
    "计算得到\n",
    "$$\n",
    "\\mathbf \\phi(t)=\\frac{1}{4\\sqrt7}\\times\n",
    "\\left[\n",
    "\\begin{matrix}\n",
    "\\frac{52\\sqrt7}{3}e^{-3t}+\\frac{4-26\\sqrt7}{3}e^(2+\\sqrt 7)t+\\frac{-4-2\\sqrt7}{3}3e^(2-\\sqrt 7)t \\\\\n",
    "\\frac{-364\\sqrt7}{9}e^{-3t}+\\frac{-748+146\\sqrt7}{9}(2+\\sqrt 7)e^(2+\\sqrt 7)t+\\frac{748+146\\sqrt7}{9}(4\\sqrt 7 +5)e^(2-\\sqrt 7)t \\\\\n",
    "\\frac{-208\\sqrt7}{9}e^{-3t}+\\frac{-178-22\\sqrt7}{9}e^(2+\\sqrt 7)t+\\frac{178-22\\sqrt7}{9}e^(2-\\sqrt 7)t\n",
    "\\end{matrix}\n",
    "\\right]\n",
    "$$"
   ]
  },
  {
   "cell_type": "markdown",
   "metadata": {},
   "source": [
    "# <font color='red'>A 9/12"
   ]
  },
  {
   "cell_type": "code",
   "execution_count": null,
   "metadata": {
    "collapsed": true
   },
   "outputs": [],
   "source": []
  }
 ],
 "metadata": {
  "kernelspec": {
   "display_name": "SageMath 7.3",
   "language": "",
   "name": "sagemath"
  },
  "language_info": {
   "codemirror_mode": {
    "name": "ipython",
    "version": 2
   },
   "file_extension": ".py",
   "mimetype": "text/x-python",
   "name": "python",
   "nbconvert_exporter": "python",
   "pygments_lexer": "ipython2",
   "version": "2.7.10"
  }
 },
 "nbformat": 4,
 "nbformat_minor": 0
}
