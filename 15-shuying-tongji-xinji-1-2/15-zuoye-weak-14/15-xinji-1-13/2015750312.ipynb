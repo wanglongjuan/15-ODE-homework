{
 "cells": [
  {
   "cell_type": "markdown",
   "metadata": {},
   "source": [
    "**5.证:**∵$ A $ 是 $ n \\times n $ 常数矩阵\n",
    "\n",
    "∴方程 $ x'=Ax $ 的基解矩阵 $ \\phi(t) $ 满足 $$ \\frac{d\\phi(t)}{dt}=A·\\phi(t) $$\n",
    "\n",
    "解，得 $$ \\phi(t)=e^{At} $$\n",
    "\n",
    "即 $ \\phi(t) $ 是指数型的\n",
    "\n",
    "又由指数函数的特点，得 $$ \\phi^{-1}(t)=e^{-At} $$\n",
    "\n",
    "∴$$ \\phi(t)\\phi^{-1}(t_0)=e^{At}·e^{-At_0}=e^{A(t-t_0)}=\\phi(t-t_0) $$"
   ]
  },
  {
   "cell_type": "markdown",
   "metadata": {},
   "source": [
    "**10.(2)解：**由题，对应的齐次线性方程 $$ x'''-8x=0 $$ 的基本解组为 $$ x_1(t)=e^{2t} , x_2(t)=e^{-t}cos\\sqrt{3}t , x_3(t)=e^{-t}sin\\sqrt{3}t $$\n",
    "\n",
    "∵ $ \\lambda=2 $ 是方程的特征根\n",
    "\n",
    "∴方程有形如 $ x=Ate^{2t} $ 的解\n",
    "\n",
    "代入，得 $ A=\\frac{1}{12}\n",
    "\n",
    "∴原方程的通解为 $$ x=(c_1cos\\sqrt{3}t+c_2sin\\sqrt{3}t)e^{-t}+c_3e^{2t}+\\frac{1}{12}te^{2t} $$"
   ]
  },
  {
   "cell_type": "markdown",
   "metadata": {},
   "source": [
    "**1.(2)解:** 当 $ k>0 $ 时\n",
    "\n",
    "$$\n",
    "(expA)^k=expA·expA…expA\n",
    "=exp(A+A+…+A)\n",
    "=exp kA\n",
    "$$\n",
    "\n",
    "$ k<0,-k>0 $\n",
    "\n",
    "$$\n",
    "(expA)^k=[(expA)^{-1}]^{-k}=[exp(-A)]^{-k}\n",
    "=exp(-A)·exp(-A)…exp(-A)\n",
    "=exp[(-A)(-k)]=exp kA\n",
    "$$\n",
    "\n",
    "∴$ \\forall k,都有 (exp)^k=exp kA $"
   ]
  },
  {
   "cell_type": "markdown",
   "metadata": {},
   "source": [
    "**5.(2)解:**由题，基解矩阵为\n",
    "\n",
    "$$\n",
    "\\phi(t)=\n",
    "\\begin{bmatrix} \n",
    "-3e^{-3t}&e^{(2+\\sqrt{7})t}&e^{(2-\\sqrt{7})t}\\\\ \n",
    "7e^{-3t}&\\frac{4\\sqrt{7}-5}{3}e^{(2+\\sqrt{7})t}&\\frac{-4\\sqrt{7}-5}{3}e^{(2-\\sqrt{7})t}\\\\\n",
    "4e^{-3t}&\\frac{1+\\sqrt{7}}{3}e^{(2+\\sqrt{7})t}&\\frac{1-\\sqrt{7}}{3}e^{(2-\\sqrt{7})t}\\\\\n",
    "\\end{bmatrix}\n",
    "$$\n",
    "\n",
    "而满足初值条件 \n",
    "\n",
    "$$\n",
    "\\psi(0)=\\eta=\n",
    "\\begin{bmatrix}\n",
    "0\\\\\n",
    "-2\\\\\n",
    "-7\\\\\n",
    "\\end{bmatrix}\n",
    "$$\n",
    "\n",
    "解为 $$ \\psi(t)=\\phi(t)\\phi^{-1}(0)\\eta=exp At·\\eta $$\n",
    "\n",
    "计算，得\n",
    "\n",
    "$$\n",
    "\\phi(t)=\n",
    "\\frac{1}{4\\sqrt{7}}\\begin{bmatrix} \n",
    "\\frac{52\\sqrt{7}}{3}e^{-3t}&\\frac{4-26\\sqrt{7}}{3}e^{(2+\\sqrt{7})t}&\\frac{-4-26\\sqrt{7}}{3}e^{(2-\\sqrt{7})t}\\\\ \n",
    "\\frac{-364\\sqrt{7}}{9}e^{-3t}&\\frac{-748+146\\sqrt{7}-5}{9}e^{(2+\\sqrt{7})t}&\\frac{748+146\\sqrt{7}-5}{9}e^{(2-\\sqrt{7})t}\\\\\n",
    "\\frac{-208\\sqrt{7}}{9}e^{-3t}&\\frac{-178-22\\sqrt{7}}{9}e^{(2+\\sqrt{7})t}&\\frac{-178-22\\sqrt{7}}{9}e^{(2-\\sqrt{7})t}\\\\\n",
    "\\end{bmatrix}\n",
    "$$"
   ]
  },
  {
   "cell_type": "markdown",
   "metadata": {
    "collapsed": true
   },
   "source": [
    "# <font color='red'>A 9/12"
   ]
  },
  {
   "cell_type": "code",
   "execution_count": null,
   "metadata": {
    "collapsed": true
   },
   "outputs": [],
   "source": []
  }
 ],
 "metadata": {
  "kernelspec": {
   "display_name": "SageMath 7.3",
   "language": "",
   "name": "sagemath"
  },
  "language_info": {
   "codemirror_mode": {
    "name": "ipython",
    "version": 2
   },
   "file_extension": ".py",
   "mimetype": "text/x-python",
   "name": "python",
   "nbconvert_exporter": "python",
   "pygments_lexer": "ipython2",
   "version": "2.7.10"
  }
 },
 "nbformat": 4,
 "nbformat_minor": 0
}
