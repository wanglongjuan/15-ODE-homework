{
 "cells": [
  {
   "cell_type": "markdown",
   "metadata": {},
   "source": [
    "P217 \n",
    "\n",
    "5.设$\\Phi(t)为方程x\\prime=Ax(A为n\\times n常数矩阵)的基解矩阵(即\\Phi(0)=E),证明：$\n",
    "$$\\Phi(t)\\Phi^{-1}(t_0)=\\Phi(t-t_0),$$\n",
    "其中$t_0为某一值.$"
   ]
  },
  {
   "cell_type": "markdown",
   "metadata": {},
   "source": [
    "解：由于$A是n\\times n常数矩阵，所以方程x\\prime=Ax的基解矩阵\\Phi(t)满足$\n",
    "$$\\frac{\\mathrm d \\Phi(t)}{\\mathrm d t}=A\\Phi(t),$$\n",
    "解得$\\Phi(t)=e^{At},可见\\Phi(t)是指数型的，又根据指数函数的特点知道\\Phi^{-1}(t)=e^{-At},从而$\n",
    "$$\\Phi(t)\\Phi^{-1}(t_0)=e^{At}e^{-At_0}=e^{A(t-t_0)}=\\Phi(t-t_0).$$\n",
    "因此原命题得证."
   ]
  },
  {
   "cell_type": "markdown",
   "metadata": {},
   "source": [
    "P244 1.假设$A是n\\times n矩阵,试证$\n",
    "\n",
    "(2)对任意实数k,都有$$(exp A)^k=exp kA.$$\n",
    "$(当k时负整数时，规定(exp A)^k=[(exp A)^{-1}]^k.)$"
   ]
  },
  {
   "cell_type": "markdown",
   "metadata": {},
   "source": [
    "证：由上一小题的结论，设$c_1=c_2=1,则有$\n",
    "$$exp(2A)=exp(A+A)=expA\\cdot expA=(expA)^2,$$\n",
    "$$exp(3A)=exp(A+2A)=expA\\cdot exp2A=(exp3A)^3$$\n",
    "$$\\cdot$$\n",
    "$$exp(kA)=exp[A+(k-1)A]=(exp kA)^k.$$\n",
    "当k=0时，$$右边=(exp A)^0=E,$$\n",
    "$$左边=exp kA=expo=E,$$\n",
    "所以k=0时，等式成立.\n",
    "当k=1时，显然左边$=expA=右边$,等式成立.\n",
    "假设当k=n时成立，有$(exp A)^n=exp nA$\n",
    "则当k=n+1时，$$右边=exp(n+1)A=expA\\cdot exp nA=expA\\cdot (exp A)^n=(expA)^{n+1}=左边.$$\n",
    "所以等式对所有的非负整数成立.\n",
    "当k是负整数时，$$(exp A)^k[(exp A)^{-1}]^k=[exp(-A)]^{-k}=exp(-k)(-A)=expkA.$$\n",
    "即k是负整数时，等式也成立.\n",
    "综上所述，即证明了对任意整数k,都有$$(exp A)^k=exp kA.$$"
   ]
  },
  {
   "cell_type": "markdown",
   "metadata": {},
   "source": [
    "5.试求方程组$x\\prime=Ax的基解矩阵，并求满足初值条件\\varphi(0)=\\eta的解\\varphi(t);$\n",
    "\n",
    "$(2)A=\\begin{bmatrix} 1&0&3\\\\8&1&-1\\\\5&1&-1\\\\ \\end{bmatrix},\\eta=\\begin{bmatrix}0\\\\2\\\\-7\\\\ \\end{bmatrix}.$"
   ]
  },
  {
   "cell_type": "markdown",
   "metadata": {},
   "source": [
    "解：A的特征方程为$$(\\lambda+3)(\\lambda^2-4\\lambda-3)=0$$\n",
    "得到特征值为$$\\lambda_1=-3,\\lambda_2=2+\\sqrt{7},\\lambda_3=2-\\sqrt{7}.$$\n",
    "对应以上3个特征值的特征向量分别为$$x_1=\\alpha\\begin{bmatrix}3& -7& -4\\\\ \\end{bmatrix}^T,$$\n",
    "$$x_2=\\beta\\begin{bmatrix}3&4\\sqrt{7}-5&\\sqrt{7}+1]\\\\ \\end{bmatrix}^T,$$\n",
    "$$x_3=\\gamma\\begin{bmatrix}3&-4\\sqrt{7}-5& -\\sqrt{7}+1\\\\ \\end{bmatrix}^T.$$\n",
    "取$\\alpha=\\beta=\\gamma=1,则得到方程x\\prime=Ax的一个基解矩阵如下:$\n",
    "$$\\Phi(t)=\\begin{bmatrix}3e^{-3t}&3e^{(2+\\sqrt{7})}&3e^{(2-\\sqrt{7}t)}\\\\ -7e^{-3t}&(4\\sqrt{7}-5)e^{(2+\\sqrt{7}t}&-(4\\sqrt{7}+5)e^{(2-\\sqrt{7})t}\\\\ -4e^{-3t}&(\\sqrt{7}+1)e^{(2+\\sqrt{7}t}&(1-\\sqrt{7})e^{(2-\\sqrt{7})t}\\\\ \\end{bmatrix}$$\n",
    "由已知$$expAt=\\Phi(t)\\Phi^{-1}(0)=\\frac{1}{108\\sqrt{7}}\\begin{bmatrix}3e^{-3t}&3e^{(2+\\sqrt{7})}&3e^{(2-\\sqrt{7}t)}\\\\ -7e^{-3t}&(4\\sqrt{7}-5)e^{(2+\\sqrt{7}t}&-(4\\sqrt{7}+5)e^{(2-\\sqrt{7})t}\\\\ -4e^{-3t}&(\\sqrt{7}+1)e^{(2+\\sqrt{7}t}&(1-\\sqrt{7})e^{(2-\\sqrt{7})t}\\\\ \\end{bmatrix}\\begin{bmatrix}18\\sqrt{7}&6\\sqrt{7}&-24\\sqrt{7}\\\\27+9\\sqrt{7}&15-3\\sqrt{7}&12\\sqrt{7}-6\\\\9\\sqrt{7}&-(15+3\\sqrt{7})12\\sqrt{7}-6\\\\ \\end{bmatrix}=\\frac{1}{4\\sqrt{7}}\\begin{bmatrix}A_1& A_2 &A_3\\\\ \\end{bmatrix}$$\n",
    "而满足初值条件$\\varphi(0)=\\eta=\\begin{bmatrix}0&-2&-7\\\\ \\end{bmatrix}的解为$\n",
    "$$\\varphi(t)=\\Phi(t)\\Phi^{-1}(0)\\eta=expAt\\cdot \\eta$$\n",
    "代入矩阵，得\n",
    "$$\\varphi(t)=\\frac{1}{4\\sqrt{7}}\\begin{bmatrix}\\frac{52\\sqrt{7}}{3}e^{-3t}+\\frac{4-26\\sqrt{7}}{3}e^{(2+\\sqrt{7})t}+\\frac{-4-2\\sqrt{7}}{3}e^{(2+\\sqrt{7})t}\\\\ \\frac{-364\\sqrt{7}}{9}e^{-3t}+\\frac{-748+146\\sqrt{7}}{9}e^{(2+\\sqrt{7})t)}+\\frac{748+146\\sqrt{7}}e^{(2-\\sqrt{7})t}\\\\ -\\frac{208\\sqrt{7}}{9}e^{-3t}+\\frac{-178-22\\sqrt{7}}{9}e^{(2+\\sqrt{7})t}+\\frac{178-22\\sqrt{7}}{9}e^{(2-\\sqrt{7})t}\\\\ \\end{bmatrix}$$"
   ]
  },
  {
   "cell_type": "markdown",
   "metadata": {},
   "source": [
    "# <font color='red'>A 9/12"
   ]
  },
  {
   "cell_type": "markdown",
   "metadata": {},
   "source": []
  }
 ],
 "metadata": {
  "kernelspec": {
   "display_name": "SageMath 7.3",
   "language": "",
   "name": "sagemath"
  },
  "language_info": {
   "codemirror_mode": {
    "name": "ipython",
    "version": 2
   },
   "file_extension": ".py",
   "mimetype": "text/x-python",
   "name": "python",
   "nbconvert_exporter": "python",
   "pygments_lexer": "ipython2",
   "version": "2.7.10"
  }
 },
 "nbformat": 4,
 "nbformat_minor": 0
}
