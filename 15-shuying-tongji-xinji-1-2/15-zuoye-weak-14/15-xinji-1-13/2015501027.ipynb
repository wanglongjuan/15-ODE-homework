{
 "cells": [
  {
   "cell_type": "markdown",
   "metadata": {},
   "source": [
    "5.设$\\mathbf{\\Phi}(t)$为方程$x'=\\mathbf{A}x$($\\mathbf{A}$为$n*n$常数矩阵)的标准基解矩阵(即$\\mathbf{\\Phi}(0)=\\mathbf{E}$),证明：$$\\mathbf{\\Phi}(t) \\mathbf{\\Phi}^{-1}(t_0)=\\mathbf{\\Phi}(t-t_0)$$其中$t_0$为某一值"
   ]
  },
  {
   "cell_type": "markdown",
   "metadata": {},
   "source": [
    "证明：  \n",
    "由于$\\mathbf{A}$是$n*n$常数矩阵，所以方程$x'=\\mathbf{A}x$的基解矩阵$\\mathbf{\\Psi}(t)$满足$\\frac{\\mathrm{d}\\mathbf{\\Psi}(t)}{\\mathrm{d}t}=\\mathbf{A*\\Psi}(t)$ ,解得$\\mathbf{\\Psi}(t)=e^{\\mathbf{A}t}$,即$\\mathbf{\\Psi}(t)$是指数型的  \n",
    "又根据指数函数的特点知道$\\mathbf{\\Psi}^{-1}(t)=e^{-\\mathbf{A}t}$ \n",
    "\n",
    "故  $\\mathbf{\\Phi}(t) \\mathbf{\\Phi}^{-1}(t_0)=e^{\\mathbf{A}t}e^{-\\mathbf{A}t_0}=e^{\\mathbf{A}(t-t_0)}=\\mathbf{\\Psi}(t-t_0)$"
   ]
  },
  {
   "cell_type": "markdown",
   "metadata": {},
   "source": [
    "10.试求下列方程的通解：   \n",
    "(2)$x'''-8x=e^{2t};$"
   ]
  },
  {
   "cell_type": "markdown",
   "metadata": {},
   "source": [
    "解：对应齐次方程的特征方程为：$\\lambda^3-8=0$,得$\\lambda_1=2,\\lambda_2=-1+\\sqrt3 i,\\lambda_3=-1-\\sqrt3 i.$   \n",
    "该齐次方程的通解为：$x=c_1e^{2t}+c_2e^{-t}cos\\sqrt3 t+c_3e^{-t}sin\\sqrt3 t$    \n",
    "令原方程的一个特解为$x_1=Ate^{2t},代入得，A=\\frac{1}{12},即特解为：x_1=\\frac{1}{12}te^{2t}$  \n",
    "原方程的通解为：$x(t)=c_1e^{2t}+c_2e^{-t}cos\\sqrt3 t+c_3e^{-t}sin\\sqrt3 t+\\frac{1}{12}te^{2t}$"
   ]
  },
  {
   "cell_type": "markdown",
   "metadata": {},
   "source": [
    "  1.假设$\\mathbf{A}$是$n*n$矩阵，试证：  \n",
    "  (2).对任意整数$k$,都有$$(\\exp \\mathbf{A})^k=\\exp k\\mathbf{A}$$(当$k$是负整数时，规定$(\\exp \\mathbf{A})^k=[(\\exp \\mathbf{A})^{-1}]^{-k}$)"
   ]
  },
  {
   "cell_type": "markdown",
   "metadata": {},
   "source": [
    "证明：设$c_1=c_2=1$,得到  \n",
    "$\\exp (2\\mathbf{A})=\\exp(\\mathbf{A}+\\mathbf{A})=\\exp\\mathbf{A}*\\exp\\mathbf{A}=(\\exp\\mathbf{A})^2$  \n",
    "$\\exp (3\\mathbf{A})=\\exp(\\mathbf{A}+\\mathbf{2A})=\\exp\\mathbf{A}*\\exp\\mathbf{2A}=(\\exp\\mathbf{A})^3$  \n",
    "$\\cdots$  \n",
    "$\\exp (k\\mathbf{A})=\\exp(\\mathbf{A}+(k-1)\\mathbf{A})=(\\exp\\mathbf{A})^k$    \n",
    "   \n",
    "当$k=0$时，左边$=(\\exp \\mathbf{A})^k=(\\exp \\mathbf{A})^0=\\mathbf {E}$  \n",
    "右边$=\\exp k\\mathbf{A}=\\exp 0=\\mathbf {E}$  \n",
    "得到： \n",
    "$k=0$时，等式成立  \n",
    "$k=1$时，左边=$\\exp \\mathbf{A}$=右边，等式成立   \n",
    "由归纳法，得到等式对所有的非负整数成立  \n",
    "当$k$是负整数时  \n",
    "$（\\exp \\mathbf{A}）^k=[((\\exp\\mathbf{A})^{-1})]^{-k}=[\\exp(\\mathbf{-A})]^{-k}=\\exp(-k)(-\\mathbf{A})=\\exp k\\mathbf{A}$   \n",
    "得到，$k$是负整数时，等式也成立"
   ]
  },
  {
   "cell_type": "markdown",
   "metadata": {},
   "source": [
    "5.试求方程组$x'=\\mathbf{A} x$的基解矩阵，并求满足初值条件$\\phi(0)=\\eta$的解$\\phi(t)$:   \n",
    "(2)$\\mathbf{A}=\n",
    "\\begin{bmatrix}\n",
    "1&0&3\\\\\n",
    "8&1&-1\\\\\n",
    "5&1&-1\\\\\n",
    "\\end{bmatrix}$,\n",
    "$\\eta=\n",
    "\\begin{bmatrix}\n",
    "0\\\\\n",
    "-2\\\\\n",
    "-7\\\\\n",
    "\\end{bmatrix}$"
   ]
  },
  {
   "cell_type": "markdown",
   "metadata": {},
   "source": [
    "解：特征方程为$(\\lambda+3)(\\lambda^2-4\\lambda-3)=0$,解得特征值为$\\lambda_1=-3,\\lambda_2=2+\\sqrt{7},\\lambda_3=2-\\sqrt{7}$   \n",
    "并求得这3个特征值的特征向量为  \n",
    "$\\mathbf{x}=\\alpha \\begin{bmatrix} 3&-7&-4\\\\ \\end{bmatrix}^T$  \n",
    "$\\mathbf{x}=\\beta \\begin{bmatrix} 3&4\\sqrt{7}-5&\\sqrt{7}+1\\\\ \\end{bmatrix}^T$    \n",
    "$\\mathbf{x}=\\gamma \\begin{bmatrix} 3&-4\\sqrt{7}-5&1-\\sqrt{7}\\\\ \\end{bmatrix}^T$  \n",
    "此时取$\\alpha=\\beta=\\gamma=1$时，有$x'=\\mathbf{A} x$的一个基解矩阵为\n",
    "  \n",
    "$\\mathbf{\\Phi}(t)=\n",
    "\\begin{bmatrix}\n",
    "3e^{-3t}&3e^{(2+\\sqrt{7})^t}&3e^{(2-\\sqrt{7})^t}\\\\\n",
    "-7e^{-3t}&(4\\sqrt({7}-5)e^{(2+\\sqrt{7})^t}&-(4\\sqrt{7}+5)e^{(2-\\sqrt{7})^t}\\\\\n",
    "-4e^{-3t}&(\\sqrt{7}+1)e^{(2+\\sqrt{7})^t}&(1-\\sqrt{7})e^{(2-\\sqrt{7})^t}\n",
    "\\end{bmatrix}$  \n",
    "又满足初值条件$\\eta=\\begin{bmatrix}0&-2&-7\\end{bmatrix}^T$的解  \n",
    "即$\\mathbf{\\Psi}(t)=\\mathbf{\\Phi}(t)\\mathbf{\\Phi}^{-1}(0)\\eta$  \n",
    "那么通过计算可以得到  \n",
    "$\\mathbf{\\Psi}(t)=\\frac{1}{4\\sqrt{7}}*\n",
    "\\begin{bmatrix}\n",
    "\\frac{52\\sqrt{7}}{3}e^{-3t}+\\frac{4-26\\sqrt{7}}{3}e^{(2+\\sqrt{7})^t}+\\frac{-4-2\\sqrt{7}}{3}e^{(2-\\sqrt{7})^t}\\\\\n",
    "\\frac{-364\\sqrt{7}}{9}e^{-3t}+\\frac{-748+146\\sqrt{7}}{9}e^{(2+\\sqrt{7})^t}+\\frac{748+146\\sqrt{7}}{9}e^{(2-\\sqrt{7})^t}\\\\\n",
    "\\frac{-208\\sqrt{7}}{9}e^{-3t}+\\frac{-178-22\\sqrt{7}}{9}e^{(2+\\sqrt{7})^t}+\\frac{178-22\\sqrt{7}}{9}e^{(2-\\sqrt{7})^t}\n",
    "\\end{bmatrix}$"
   ]
  },
  {
   "cell_type": "markdown",
   "metadata": {},
   "source": [
    "# <font color='red'>A 9/12"
   ]
  },
  {
   "cell_type": "code",
   "execution_count": null,
   "metadata": {
    "collapsed": true
   },
   "outputs": [],
   "source": []
  }
 ],
 "metadata": {
  "kernelspec": {
   "display_name": "SageMath 7.3",
   "language": "",
   "name": "sagemath"
  },
  "language_info": {
   "codemirror_mode": {
    "name": "ipython",
    "version": 2
   },
   "file_extension": ".py",
   "mimetype": "text/x-python",
   "name": "python",
   "nbconvert_exporter": "python",
   "pygments_lexer": "ipython2",
   "version": "2.7.10"
  }
 },
 "nbformat": 4,
 "nbformat_minor": 0
}
