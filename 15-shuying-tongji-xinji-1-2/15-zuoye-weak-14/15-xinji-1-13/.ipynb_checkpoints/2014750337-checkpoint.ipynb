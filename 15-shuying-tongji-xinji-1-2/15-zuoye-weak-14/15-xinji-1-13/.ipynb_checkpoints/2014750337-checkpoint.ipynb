{
 "cells": [
  {
   "cell_type": "markdown",
   "metadata": {
    "collapsed": false
   },
   "source": [
    "# 作业12  \n",
    "**P217**  \n",
    "**5.设$\\Phi(t)$为方程$x'=Ax$($A$为$n\\times n$矩阵)的标准基解矩阵(即$\\Phi(0)=E$),证明：$$\\Phi(t)\\Phi^{-1}(t_0)=\\Phi(t-t_0),$$其中$t_0$为某一值**"
   ]
  },
  {
   "cell_type": "code",
   "execution_count": null,
   "metadata": {
    "collapsed": true
   },
   "outputs": [],
   "source": []
  },
  {
   "cell_type": "markdown",
   "metadata": {},
   "source": [
    "**解：**由题意，$\\Phi(t)$与$\\Phi(t-t_0)$都是$x'=Ax$的基解矩阵。  \n",
    "则$\\Phi(t)\\Phi^{-1}(t_0)$是$x'=Ax$的解矩阵  \n",
    "当$t=t_0$时，$\\Phi(t)\\Phi^{-1}(t_0)=\\Phi(t_0)\\Phi^{-1}(t_0)=E,\\Phi(t-t_0)=E$  \n",
    "由解得存在唯一性定理得$\\Phi(t)\\Phi^{-1}(t_0)=\\Phi(t-t_0)$"
   ]
  },
  {
   "cell_type": "markdown",
   "metadata": {},
   "source": [
    "**10.试求下列方程的通解：  \n",
    "(2)$x'''-8x=e^{2t}$**  \n"
   ]
  },
  {
   "cell_type": "markdown",
   "metadata": {},
   "source": [
    "**解：**易知对应的齐次线性微分方程$x'''-8x=0$的基本解组为$x_1(t)=e^{2t},x_2(t)=e^{-t}cos\\sqrt{3}t,x_3(t)=e^{-t}sin\\sqrt{3}t$  \n",
    "因为$\\lambda=2$是方程的特征根，  \n",
    "所以方程有形如$x=Ate^{2t}$的根  \n",
    "代入得$A=\\frac{1}{12}$  \n",
    "所以方程有通解$x=(c_1cos\\sqrt{3}t+c_2sin\\sqrt{3}t)e^{-t}+c_3e^{2t}+\\frac{1}{12}te^{2t}$"
   ]
  },
  {
   "cell_type": "markdown",
   "metadata": {},
   "source": [
    "**P244  \n",
    "1.假设$A$是$n\\times n$矩阵，试证：  \n",
    "(2)对任意整数$k$，都有$$(exp\\ A)^k=exp\\ kA.$$**"
   ]
  },
  {
   "cell_type": "markdown",
   "metadata": {},
   "source": [
    "**解：**运用数学归纳法,当$k=1$时,等式显然成立.  \n",
    "假设当$k=n$时,$(exp\\ A)^n=exp\\ nA$成立,  \n",
    "则当$k=n+1$时,由$A^nA=AA^n=A^{n+1}$,得\n",
    "\\begin{align}\n",
    "exp\\ (n+1)A&=exp\\ (nA+A)\\\\\n",
    "&=exp\\ nAexp\\ A\\\\\n",
    "&=(exp\\ A)^nexp\\ A\\\\\n",
    "&=(exp\\ A)^{n+1}\n",
    "\\end{align}\n",
    "等式也成立.  \n",
    "综上所述,对任意整数$k$与$n\\times n$矩阵$A$,都有$$(exp\\ A)^k=exp\\ kA.$$"
   ]
  },
  {
   "cell_type": "markdown",
   "metadata": {},
   "source": [
    "**5.试求方程组$x'=Ax$的基解矩阵,并求满足初值条件$\\varphi(0)=\\eta$的解$\\varphi(t)$：**"
   ]
  },
  {
   "cell_type": "markdown",
   "metadata": {},
   "source": [
    "**(2)$A=\\left[\\begin{matrix}\n",
    "1&0&3\\\\\n",
    "8&1&-1\\\\\n",
    "5&1&-1\n",
    "\\end{matrix}\\right],$**"
   ]
  },
  {
   "cell_type": "markdown",
   "metadata": {},
   "source": [
    "**解：**由\n",
    "\\begin{align}\n",
    "det(\\lambda E-A)&=\\begin{vmatrix}\n",
    "\\lambda-1&0&3\\\\\n",
    "8&\\lambda-1&-1\\\\\n",
    "5&1&\\lambda+1\n",
    "\\end{vmatrix}\\\\\n",
    "&=(\\lambda+3)(\\lambda-2-\\sqrt7)(\\lambda-2+\\sqrt7)\n",
    "\\end{align}\n",
    "得特征根为$\\lambda_1=-3,\\lambda_2=2+\\sqrt7,\\lambda_3=2-\\sqrt7$  \n",
    "所以由$$(\\lambda E-A)c=\\left[\\begin{matrix}\n",
    "1&0&3\\\\\n",
    "8&1&-1\\\\\n",
    "5&1&-1\n",
    "\\end{matrix}\\right]\\left[\\begin{matrix}\n",
    "c_1\\\\\n",
    "c_2\\\\\n",
    "c_3\n",
    "\\end{matrix}\\right]=0$$\n",
    "得对应于$\\lambda_1,\\lambda_2,\\lambda_3$的特征向量分别是\n",
    "$v_1=\\left[\\begin{matrix}\n",
    "-3\\\\\n",
    "7\\\\\n",
    "4\n",
    "\\end{matrix}\\right],\n",
    "v_2=\\left[\\begin{matrix}\n",
    "1\\\\\n",
    "\\frac{4\\sqrt7-5}{3}\\\\\n",
    "\\frac{1+\\sqrt7}{3}\n",
    "\\end{matrix}\\right],\n",
    "v_3=\\left[\\begin{matrix}\n",
    "1\\\\\n",
    "\\frac{-4\\sqrt7-5}{3}\\\\\n",
    "\\frac{1-\\sqrt7}{3}\n",
    "\\end{matrix}\\right]$  \n",
    "所以它的基解矩阵是\n",
    "$$\\Phi(t)=\\left[\\begin{matrix}\n",
    "-3e^{-3t}&e^{2+\\sqrt7}&e^{2-\\sqrt7}\\\\\n",
    "7e^{-3t}&\\frac{4\\sqrt7-5}{3}e^{2+\\sqrt7}&\\frac{-4\\sqrt7-5}{3}e^{2-\\sqrt7}\\\\\n",
    "4e^{-3t}&\\frac{1+\\sqrt7}{3}e^{2+\\sqrt7}&\\frac{1-\\sqrt7}{3}e^{2-\\sqrt7}\n",
    "\\end{matrix}\\right]$$\n",
    "则$$exp\\ At=\\Phi(t)\\Phi^{-1}(t)=\\frac{1}{4\\sqrt7}\\left[\\begin{matrix}\n",
    "\\frac{-8\\sqrt7}{3}e^{-3t}+\\frac{-2+4\\sqrt7}{3}e^{2+\\sqrt7}+\\frac{2+4\\sqrt7}{3}e^{2-\\sqrt7}\\\\\n",
    "\\frac{56\\sqrt7}{9}e^{-3t}+\\frac{122-28\\sqrt7}{9}e^{2+\\sqrt7}+\\frac{-122-28\\sqrt7}{9}e^{2-\\sqrt7}\\\\\n",
    "\\frac{32\\sqrt7}{9}e^{-3t}+\\frac{26+2\\sqrt7}{9}e^{2+\\sqrt7}+\\frac{-26+2\\sqrt7}{9}e^{2-\\sqrt7}\n",
    "\\end{matrix}\\right]$$"
   ]
  },
  {
   "cell_type": "markdown",
   "metadata": {},
   "source": [
    "# <font color='red'>A 9/12\n"
   ]
  },
  {
   "cell_type": "code",
   "execution_count": null,
   "metadata": {
    "collapsed": true
   },
   "outputs": [],
   "source": []
  }
 ],
 "metadata": {
  "kernelspec": {
   "display_name": "Python 2",
   "language": "python",
   "name": "python2"
  },
  "language_info": {
   "codemirror_mode": {
    "name": "ipython",
    "version": 2
   },
   "file_extension": ".py",
   "mimetype": "text/x-python",
   "name": "python",
   "nbconvert_exporter": "python",
   "pygments_lexer": "ipython2",
   "version": "2.7.10"
  }
 },
 "nbformat": 4,
 "nbformat_minor": 0
}
