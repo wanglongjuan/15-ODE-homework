{
 "cells": [
  {
   "cell_type": "markdown",
   "metadata": {},
   "source": [
    "1.设$\\Phi(t)$为方程$x'=Ax$的标准基解矩阵，证明：$$\\Phi(t)\\Phi^{-1}(t_0)=\\Phi(t-t_0),$$其中$t_0$为某一值。"
   ]
  },
  {
   "cell_type": "markdown",
   "metadata": {},
   "source": [
    "证明：因为$\\Phi(t),\\Phi(t-t_0)$是基解矩阵，"
   ]
  },
  {
   "cell_type": "markdown",
   "metadata": {},
   "source": [
    "又因为$\\Phi(t)$为方程$x'=Ax$的标准基解矩阵，所以$\\Phi(t)\\Phi^{-1}(t_0)$也是$x'=Ax$的标准基解矩阵，而当$t=t_0$时，$\\Phi(t_0)\\Phi^{-1}(t_0)=E,\\Phi(t-t_0)=\\Phi(0)=E$"
   ]
  },
  {
   "cell_type": "markdown",
   "metadata": {},
   "source": [
    "由解的存在唯一性定理，得$\\Phi(t)\\Phi^{-1}(t_0)=\\Phi(t-t_0)$"
   ]
  },
  {
   "cell_type": "markdown",
   "metadata": {},
   "source": [
    "2.试求$x'''-8x=e^{2t}$的通解。"
   ]
  },
  {
   "cell_type": "markdown",
   "metadata": {},
   "source": [
    "解：对应的齐次线性方程$x'''-8x=0$的基本解组为$x_1(t)=e^{2t},x_2(t)=e^{-1}\\cos{\\sqrt{3}t},x_3(t)=e^{-1}\\sin{\\sqrt{3}t}$"
   ]
  },
  {
   "cell_type": "markdown",
   "metadata": {},
   "source": [
    "$\\because\\lambda=2$是方程的特征根，所以方程有形如$x=Ate^{2t}$d 根"
   ]
  },
  {
   "cell_type": "markdown",
   "metadata": {},
   "source": [
    "代入得$A=\\frac{1}{12}$"
   ]
  },
  {
   "cell_type": "markdown",
   "metadata": {},
   "source": [
    "所以方程有通解$x=(c_1\\cos{\\sqrt{3}t}+c_2\\sin{\\sqrt{3}t})e^{-1}+c_3e^{2t}+\\frac{1}{12}te^{2t}$"
   ]
  },
  {
   "cell_type": "markdown",
   "metadata": {},
   "source": [
    "3.假设$A$是$n\\times n$矩阵，试证对任意整数$k$，都有$$(expA)^k=expkA$$\n",
    "$$(当k是负整数时，规定(expA)^k=[(expA)^{-1}]^{-k})$$"
   ]
  },
  {
   "cell_type": "markdown",
   "metadata": {},
   "source": [
    "证明：$k>0 $时，$(expA)^k=expA\\times expA\\cdots expA=exp(A+A+\\cdots +A)=expkA$"
   ]
  },
  {
   "cell_type": "markdown",
   "metadata": {},
   "source": [
    "$k<0$时，$-k>0$,$(expA)^k=[(expA)^{-1}]^{-k}=[exp(-A)]^{-k}=exp(-A)\\times exp(-A)\\cdots exp(-A)=exp[(-A)(-k)]=expkA$"
   ]
  },
  {
   "cell_type": "markdown",
   "metadata": {},
   "source": [
    "所以$\\forall k$,都有$(expA)^k=expkA$"
   ]
  },
  {
   "cell_type": "markdown",
   "metadata": {},
   "source": [
    "4.试求方程组$x'=Ax$的基解矩阵，并求满足初值条件$\\varphi(0)=\\eta$的解$\\varphi(t)$"
   ]
  },
  {
   "cell_type": "markdown",
   "metadata": {},
   "source": [
    "$A=\\begin{bmatrix}1&0&3\\\\8&1&-1\\\\5&1&-1\\end{bmatrix},\\eta=\\begin{bmatrix}0\\\\-2\\\\-7\\end{bmatrix}$"
   ]
  },
  {
   "cell_type": "markdown",
   "metadata": {},
   "source": [
    "解：由题可知，基解矩阵为\n",
    "$$\\Phi(t)=\\begin{pmatrix}\n",
    "-3e^{-3t}&e^{(2+\\sqrt7)t}&e^{(2-\\sqrt7)t}\\\\7e^{-3t}&\\frac{4\\sqrt{7}-5}{3}e^{(2+\\sqrt7)t}&\\frac{-4\\sqrt{7}-5}{3}e^{(2+\\sqrt7)t}\\\\4e^{-3t}&\\frac{1+\\sqrt{7}}{3}e^{(2+\\sqrt7)t}&\\frac{1+\\sqrt{7}}{3}e^{(2+\\sqrt7)t}\n",
    "\\end{pmatrix}$$"
   ]
  },
  {
   "cell_type": "markdown",
   "metadata": {},
   "source": [
    "所以\n",
    "$$\\varphi(t)=\\frac{1}{4\\sqrt7}\\begin{pmatrix}\n",
    "\\frac{52\\sqrt{7}}{3}e^{-3t}+\\frac{4-26\\sqrt{7}}{3}e^{(2+\\sqrt7)t}+\\frac{-4-26\\sqrt{7}}{3}e^{(2-\\sqrt7)t}\\\\\n",
    "\\frac{-364\\sqrt{7}}{9}e^{-3t}+\\frac{-748+146\\sqrt{7}}{9}e^{(2+\\sqrt7)t}+\\frac{748+146\\sqrt{7}}{9}e^{(2-\\sqrt7)t}\\\\\n",
    "\\frac{-208\\sqrt{7}}{9}e^{-3t}+\\frac{-178-22\\sqrt{7}}{9}e^{(2+\\sqrt7)t}+\\frac{178-22\\sqrt{7}}{9}e^{(2-\\sqrt7)t}\n",
    "\\end{pmatrix}\n",
    "$$"
   ]
  },
  {
   "cell_type": "markdown",
   "metadata": {},
   "source": [
    "# <font color='red'>A 9/12"
   ]
  },
  {
   "cell_type": "code",
   "execution_count": null,
   "metadata": {
    "collapsed": true
   },
   "outputs": [],
   "source": []
  }
 ],
 "metadata": {
  "kernelspec": {
   "display_name": "SageMath 7.3",
   "language": "",
   "name": "sagemath"
  },
  "language_info": {
   "codemirror_mode": {
    "name": "ipython",
    "version": 2
   },
   "file_extension": ".py",
   "mimetype": "text/x-python",
   "name": "python",
   "nbconvert_exporter": "python",
   "pygments_lexer": "ipython2",
   "version": "2.7.10"
  }
 },
 "nbformat": 4,
 "nbformat_minor": 0
}
