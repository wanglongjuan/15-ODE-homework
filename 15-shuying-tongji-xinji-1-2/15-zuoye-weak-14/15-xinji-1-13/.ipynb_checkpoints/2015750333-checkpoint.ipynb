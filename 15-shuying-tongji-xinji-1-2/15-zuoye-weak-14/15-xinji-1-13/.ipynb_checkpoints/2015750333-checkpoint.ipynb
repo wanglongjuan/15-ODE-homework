{
 "cells": [
  {
   "cell_type": "markdown",
   "metadata": {},
   "source": [
    "# 1、设$\\Phi(t)$为方程$x'=\\mathbf Ax$($\\mathbf A$为$n \\times n$常数矩阵)的标准基解矩阵(即$\\Phi (0)=\\mathbf E$),证明：$$\\Phi (t)\\Phi^{-1}(t_0)=\\Phi (t-t_0)$$其中$t_0$为某一值"
   ]
  },
  {
   "cell_type": "markdown",
   "metadata": {},
   "source": [
    "解：因为$\\mathbf A$是$n \\times n$常数矩阵\n",
    "\n",
    "所以方程$x'=\\mathbf Ax$得基解矩阵$\\Phi (t)$满足\n",
    "$$\n",
    "\\frac{\\mathrm d \\Phi(t)}{\\mathrm d t}=\\mathbf A\\cdot \\Phi(t)\n",
    "$$\n",
    "解得$\\Phi(t)=e^{\\mathbf At}$\n",
    "\n",
    "所以$\\Phi^{-1}(t)=e^{-\\mathbf At}$\n",
    "\n",
    "所以$\n",
    "\\Phi(t) \\Phi^{-1}(t_0)\\\\\n",
    "=e^{\\mathbf At} e^{-\\mathbf A t_0}\\\\\n",
    "=e^{\\mathbf A(t-t_0)}\\\\\n",
    "=\\Phi (t-t_0)\n",
    "$\n",
    "\n",
    "即证."
   ]
  },
  {
   "cell_type": "markdown",
   "metadata": {},
   "source": [
    "# 2、$x'''-8x=e^{2t}$"
   ]
  },
  {
   "cell_type": "markdown",
   "metadata": {},
   "source": [
    "解：对应齐次线性微分方程$x'''-8x=0$的特征方程为\n",
    "\n",
    "$\\lambda ^3-8=0$\n",
    "\n",
    "解得$\\lambda_1=-1+\\sqrt3 i,\\lambda_2=-1-\\sqrt3 i,\\lambda_3=2$\n",
    "\n",
    "所以通解为$x=c_1 e^{2t}+(c_2\\cos \\sqrt 3t+c_3\\sin \\sqrt 3 t)e^{-t}$\n",
    "\n",
    "令原方程的一个特解为$x_1=Ate^{2t},$代入原方程得\n",
    "\n",
    "$A=\\frac{1}{12}$\n",
    "\n",
    "得特解为$x_1=\\frac{1}{12}te^{2t}$\n",
    "\n",
    "所以原方程通解为$x(t)=c_1e^{2t}+c_2e^{-t}(\\cos \\sqrt 3t+\\sin \\sqrt 3t)+\\frac{1}{12}te^{2t}$"
   ]
  },
  {
   "cell_type": "markdown",
   "metadata": {},
   "source": [
    "# 3、对任意整数$k$都有$$(e^{\\mathbf A})^k=e^{k\\mathbf A}$$(当$k$是负整数时，规定$(e^{\\mathbf A})^k=[(e^{\\mathbf A})^{-1}]^{-k}$)"
   ]
  },
  {
   "cell_type": "markdown",
   "metadata": {},
   "source": [
    "证明：当$k=0$时，右边$=e^0=\\mathbf E$,左边$=e^0=\\mathbf E$\n",
    "\n",
    "所以$k=0$时，等式成立\n",
    "\n",
    "当$k=1$时，显然成立\n",
    "\n",
    "当$k \\geq 2$时，由矩阵指数的性质得\n",
    "\n",
    "$\n",
    "e^{2\\mathbf A}=e^{\\mathbf A+\\mathbf A}=e^{\\mathbf A}e^{\\mathbf A}=(e^{\\mathbf A})^2\\\\\n",
    "e^{3\\mathbf A}=e^{\\mathbf A+2\\mathbf A}=e^{\\mathbf A}e^{2\\mathbf A}=(e^{\\mathbf A})^3\\\\\n",
    "\\cdots\\\\\n",
    "e^{k\\mathbf A}=e^{\\mathbf A+(k-1)\\mathbf A}=e^{\\mathbf A}e^{(k-1)\\mathbf A}=(e^{\\mathbf A})^{k-1}\n",
    "$\n",
    "\n",
    "当$k$为负整数时\n",
    "$$\n",
    "(e^{\\mathbf A})^k[(e^{\\mathbf A})^{-1}]^{-k}\\\\\n",
    "=[e^{-\\mathrm A}]^{-k}\\\\\n",
    "=e^{(-k)(-\\mathbf A)}\\\\\n",
    "=e^{k\\mathbf A}\n",
    "$$\n",
    "\n",
    "所以，对任意整数$k$，都成立等式"
   ]
  },
  {
   "cell_type": "markdown",
   "metadata": {},
   "source": [
    "# 4、$\\mathbf A=\n",
    "\\begin{bmatrix}\n",
    "1 & 0 & 3\\\\\n",
    "8 & 1 & -1\\\\\n",
    "5 & 1 & -1\n",
    "\\end{bmatrix},\n",
    "\\quad \\quad \\quad\n",
    "\\mathbf\\eta=\n",
    "\\begin{bmatrix}\n",
    "0\\\\\n",
    "-2\\\\\n",
    "-7\n",
    "\\end{bmatrix}$"
   ]
  },
  {
   "cell_type": "markdown",
   "metadata": {},
   "source": [
    "解：特征方程为$(\\lambda +3)(\\lambda^2-4\\lambda -3)=0$\n",
    "\n",
    "解得$\\lambda_1=-3,\\lambda_2=2-\\sqrt 7,\\lambda_3=2+\\sqrt 7$\n",
    "\n",
    "所以对应特征向量为\n",
    "$$\n",
    "x=\\alpha\\begin{bmatrix}\n",
    "3\\\\\n",
    "-7\\\\\n",
    "-4\n",
    "\\end{bmatrix},\n",
    "\\quad \\quad \n",
    "x=\\beta\\begin{bmatrix}\n",
    "3\\\\\n",
    "4\\sqrt7-5\\\\\n",
    "\\sqrt7+1\n",
    "\\end{bmatrix},\n",
    "\\quad \\quad\n",
    "x=\\gamma\\begin{bmatrix}\n",
    "3\\\\\n",
    "-4\\sqrt7-5\\\\\n",
    "1-\\sqrt 7\n",
    "\\end{bmatrix}\n",
    "$$\n",
    "\n",
    "取$\\alpha=\\beta=\\gamma=1$,则基解矩阵为\n",
    "$$\n",
    "\\Phi(t)=\\begin{bmatrix}\n",
    "3e^{-3t} & 3e^{(2+\\sqrt 7)t} & 3e^{(2-\\sqrt 7)t}\\\\\n",
    "-7e^{-3t} & (4\\sqrt7-5)e^{(2+\\sqrt7)t} & -(4\\sqrt7+5)e^{(2-\\sqrt7)t}\\\\\n",
    "-4e^{-3t} & (\\sqrt7+1)e^{(2+\\sqrt)t} & (1-\\sqrt7)e^{(2-\\sqrt7)t}\n",
    "\\end{bmatrix}\n",
    "$$\n",
    "而满足初值条件\n",
    "$\\varphi(0)=\\eta=\\begin{bmatrix}\n",
    "0\\\\\n",
    "-2\\\\\n",
    "-7\n",
    "\\end{bmatrix}$的解为\n",
    "$$\n",
    "\\varphi(t)=\\Phi(t)\\Phi^{-1}(0)\\eta=e^{\\mathbf At}\\eta\n",
    "$$\n",
    "\n",
    "所以$\\varphi(t)=\\frac{1}{4\\sqrt7}\\begin{bmatrix}\n",
    "\\frac{52\\sqrt7}{3}e^{-3t}+\\frac{4-26\\sqrt7}{3}e^{(2+\\sqrt7)t}+\\frac{-4-2\\sqrt7}{3}e^{(2-\\sqrt7)t}\\\\\n",
    "\\frac{-364\\sqrt7}{9}e^{-3t}+\\frac{-748-146\\sqrt7}{9}e^{(2+\\sqrt7)t}+\\frac{748+146\\sqrt7}{9}e^{(2-\\sqrt7)t}\\\\\n",
    "\\frac{-208\\sqrt7}{9}e^{-3t}+\\frac{-178-22\\sqrt7}{9}e^{(2+\\sqrt7)t}+\\frac{178-22\\sqrt7}{9}e^{(2-\\sqrt7)t}\\\\\n",
    "\\end{bmatrix}$"
   ]
  },
  {
   "cell_type": "markdown",
   "metadata": {
    "collapsed": true
   },
   "source": [
    "# <font color='red'>A 9/12"
   ]
  },
  {
   "cell_type": "code",
   "execution_count": null,
   "metadata": {
    "collapsed": true
   },
   "outputs": [],
   "source": []
  }
 ],
 "metadata": {
  "kernelspec": {
   "display_name": "SageMath 7.3",
   "language": "",
   "name": "sagemath"
  },
  "language_info": {
   "codemirror_mode": {
    "name": "ipython",
    "version": 2
   },
   "file_extension": ".py",
   "mimetype": "text/x-python",
   "name": "python",
   "nbconvert_exporter": "python",
   "pygments_lexer": "ipython2",
   "version": "2.7.10"
  }
 },
 "nbformat": 4,
 "nbformat_minor": 0
}
