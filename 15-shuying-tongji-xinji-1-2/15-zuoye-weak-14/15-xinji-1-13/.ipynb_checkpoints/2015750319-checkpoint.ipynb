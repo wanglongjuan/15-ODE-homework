{
 "cells": [
  {
   "cell_type": "markdown",
   "metadata": {},
   "source": [
    "5.设$\\Phi(t)$为方程$x'=Ax$(A为$n\\times n$常数矩阵）的标准基解矩阵（即$\\Phi(0)=E$）,证明：${\\Phi(t)}{\\Phi^{-1}(t_0)}=\\Phi(t-t_0)$,\n",
    "其中 $t_0$为某一值."
   ]
  },
  {
   "cell_type": "markdown",
   "metadata": {},
   "source": [
    "证明：由于$\\mathbf A$是$n \\times n$常数矩阵，所以方程$x'=\\mathbf A x$的基解矩阵$\\Phi(t)$满足$\\frac{\\mathrm d \\Phi}{\\mathrm d t}=\\mathbf A \\bullet \\Phi(t)$，\n",
    "\n",
    "解之得$\\Phi(t)=e^{\\mathbf A t}$，即$\\mathbf A$是指数型的，又根据指数函数的特点知道$\\Phi^{-1}(t) =e^{-\\mathbf A t}$,\n",
    "\n",
    "从而$$\\Phi(t)\\Phi^{-1}(t_0)=e^{\\mathbf A t}e^{-\\mathbf A t_0}=e^{\\mathbf A (t-t_0)}=\\Phi(t-t_0)$$"
   ]
  },
  {
   "cell_type": "markdown",
   "metadata": {},
   "source": [
    "10.试求下列方程的通解：\n",
    "\n",
    "（2）$x'''-8x=e^{2t}$;"
   ]
  },
  {
   "cell_type": "markdown",
   "metadata": {},
   "source": [
    "解：易知对应的齐次线性方程$x'''-8x=0$的基本解组为\n",
    "$x_1(t)=e^{2t},x_2(t)=e^{-t}\\cos \\sqrt{3}t,x_3(t)=e^{-t}\\sin \\sqrt{3}t$\n",
    "\n",
    "$\\because$ $\\lambda=2$是方程的特征根\n",
    "\n",
    "$\\therefore$方程有形如$x=Ate^{2t}$的解，代入得$A=\\frac{1}{12}$\n",
    "\n",
    "于是原方程的通解为 \n",
    "\n",
    "$$x=(c_1\\cos\\sqrt{3}t+c_2e^{-t}\\sin \\sqrt{3}t)e^{-t}+c_3e^{2t}+\\frac{1}{12}te^{2t}$$"
   ]
  },
  {
   "cell_type": "markdown",
   "metadata": {},
   "source": [
    "1.假设A是$n\\times n$矩阵，试证：对任意整数k,都有\n",
    "$(exp A)^k=exp kA$.(当k是负整数时，规定 $(exp A)^k=[(exp A)^{-1}]^{-k})$"
   ]
  },
  {
   "cell_type": "markdown",
   "metadata": {},
   "source": [
    "证明：我们已知$$exp(c_1A+c_2A)=expc_1A\\cdot expc_2A$$\n",
    "\n",
    "设$$c_1=c_2=1$$则有\n",
    "\n",
    "$$exp(2A)=exp(A+A)=exp A\\cdot exp A=(exp A)^2$$\n",
    "\n",
    "$$exp(3A)=exp(A+2A)=exp A\\cdot exp 2A=(exp A)^3$$\n",
    "\n",
    "$$exp(4A)=exp(A+3A)=exp A\\cdot exp 3A=(exp A)^4$$\n",
    "\n",
    "$$\\dots$$\n",
    "\n",
    "$$exp(kA)=exp(A+(k-1)A)=exp A\\cdot exp (k-1)A=(exp A)^k$$\n",
    "\n",
    "当$k=0$,\n",
    "$$右边=(exp A)^k=(exp A)^0=E$$\n",
    "\n",
    "$$左边=exp kA=exp0=E$$\n",
    "\n",
    "即$k=0$时，等式成立。\n",
    "\n",
    "当$k=1$,显然$右边=左边=exp A$，等式成立。\n",
    "\n",
    "由数学归纳法，易知等式对所有的非负整数成立。\n",
    "\n",
    "当k是负整数时，\n",
    "\n",
    "$$(exp A)^k[(exp A)^{-1}]^{-k}=[exp(-A)]^{-k}=exp(-k)(-A)=expkA$$.\n",
    "\n",
    "即k是负整数时，等式也成立。\n",
    "\n",
    "综上所述，对任意整数k，都有$(exp A)^k=exp kA$\n"
   ]
  },
  {
   "cell_type": "markdown",
   "metadata": {},
   "source": [
    "5.试求方程组$x'=Ax$的基解矩阵，并求满足初值条件$\\varphi(0)=\\eta$的解$\\varphi(t)$:\n",
    "\n",
    "$A=\\begin{bmatrix}1&0&3\\\\8&1&-1\\\\5&1&-1\\\\ \\end{bmatrix}$,$\\eta=\\begin{bmatrix}0\\\\-2\\\\-7\\\\ \\end{bmatrix}$"
   ]
  },
  {
   "cell_type": "markdown",
   "metadata": {},
   "source": [
    " 解：由$\\det(\\lambda\\mathbf E-\\mathbf A)=0$得$\\lambda_1=-3,\\lambda_2=2+\\sqrt{7},\\lambda_3=2-\\sqrt{7}$\n",
    "\n",
    "所以基解矩阵为\n",
    "\n",
    "$$\n",
    "\\Phi(t)=\n",
    "\\begin{bmatrix}\n",
    "3e^{-3t} & 3e^{(2+\\sqrt{7})t} & 3e^{(2-\\sqrt{7})t}\\\\\n",
    "-7e^{-3t} &{ (4\\sqrt{7}-5）}e^{(2+\\sqrt{7})t} &{(-4\\sqrt{7}-5)}e^{(2-\\sqrt{7})t}\\\\\n",
    "-4e^{-3t} & {(1+\\sqrt{7})}e^{(2+\\sqrt{7})t} & (1-\\sqrt{7})e^{(2-\\sqrt{7})t}\\\\\n",
    "\\end{bmatrix}\n",
    "$$\n",
    "\n",
    "而满足初值条件$\\mathbf\\varphi(0)=\\mathbf\\eta=\\begin{bmatrix}0\\\\-2\\\\-7\\end{bmatrix}$的解为\n",
    "\n",
    "$\\mathbf\\varphi(t)=\\mathbf\\Phi(t)\\mathbf\\Phi^{-1}(0)\\mathbf\\eta=\\exp\\mathbf At \\bullet \\mathbf\\eta$，经计算得\n",
    "\n",
    "$$\n",
    "\\mathbf\\varphi(t)=\\frac{1}{4\\sqrt{7}}\n",
    "\\begin{bmatrix}\n",
    "\\frac{52\\sqrt{7}}{3}e^{-3t}+\\frac{4-26\\sqrt{7}}{3}e^{(2+\\sqrt{7})t}+\\frac{-4-26\\sqrt{7}}{3}e^{(2+\\sqrt{7})t}\\\\\n",
    "\\frac{-364\\sqrt{7}}{9}e^{-3t}+\\frac{-748+146\\sqrt{7}}{9}e^{(2+\\sqrt{7})t}+\\frac{748+146\\sqrt{7}}{9}e^{(2-\\sqrt{7})t}\\\\\n",
    "\\frac{-208\\sqrt{7}}{9}e^{-3t}+\\frac{-178-22\\sqrt{7}}{9}e^{(2+\\sqrt{7})t}+\\frac{178-22\\sqrt{7}}{9}e^{(2-\\sqrt{7})t}\\\\\n",
    "\\end{bmatrix}\n",
    "$$"
   ]
  },
  {
   "cell_type": "markdown",
   "metadata": {
    "collapsed": true
   },
   "source": [
    "# <font color='red'>A 9/12"
   ]
  },
  {
   "cell_type": "code",
   "execution_count": null,
   "metadata": {
    "collapsed": true
   },
   "outputs": [],
   "source": []
  }
 ],
 "metadata": {
  "kernelspec": {
   "display_name": "SageMath 7.3",
   "language": "",
   "name": "sagemath"
  },
  "language_info": {
   "codemirror_mode": {
    "name": "ipython",
    "version": 2
   },
   "file_extension": ".py",
   "mimetype": "text/x-python",
   "name": "python",
   "nbconvert_exporter": "python",
   "pygments_lexer": "ipython2",
   "version": "2.7.10"
  }
 },
 "nbformat": 4,
 "nbformat_minor": 0
}
