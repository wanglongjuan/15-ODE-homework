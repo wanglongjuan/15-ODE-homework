{
 "cells": [
  {
   "cell_type": "markdown",
   "metadata": {
    "collapsed": false
   },
   "source": [
    "**$P_{217}$**"
   ]
  },
  {
   "cell_type": "markdown",
   "metadata": {},
   "source": [
    "5.$设\\Phi(t)为方程x'=At(A为n×n常数矩阵)的标准基解矩阵(即\\Phi（0）=E).证明：\\Phi(t)\\Phi^{-1}(t_0)=\\Phi(t-t_0),其中t_0为某一值.$\n",
    "\n",
    "解：$由于A是n×n常数矩阵，所以方程x'=Ax,的基解矩阵\\phi（t）满足\\frac{d\\Phi(t)}{dt}=A·\\Phi(t)解之得\\Phi(T)=e^{At},即\\Phi(t)是指数型的，又根据指数函数的特点知道\\Phi^{-1}(t)=e^{-At},从而\\Phi(t)\\Phi^{-1}(t_0)=e^{At}·e^{-At_0}=e^{A(t-t_0)}=\\Phi(t-t_0).$"
   ]
  },
  {
   "cell_type": "markdown",
   "metadata": {},
   "source": [
    "10试解下列方程的通解：\n",
    "(2)$x'''-8x=e^{2t};$\n",
    "\n",
    "解:$易知对应的齐次线性方程x'''-8x=0的基本解组为x_1(t)=e^{2t},$\n",
    "\n",
    "$x_2(t)=e^{-t}\\cos \\sqrt3t,x_3(t)=e^{-t}\\sin \\sqrt3t.$\n",
    "\n",
    "$因为\\lambda=2是方程的特征根，故方程有形如x=Ate^{2t}的解.$\n",
    "\n",
    "$代入得A=\\frac{1}{12}$\n",
    "\n",
    "$于是原方程的通解为x=(c_1\\cos \\sqrt3t+c_2 \\sin \\sqrt3t)e^{-t}+c_3e^{2t}+\\frac{1}{12}te^{2t}.$"
   ]
  },
  {
   "cell_type": "markdown",
   "metadata": {},
   "source": [
    "**$P_{244}$**"
   ]
  },
  {
   "cell_type": "markdown",
   "metadata": {},
   "source": [
    "1.假设A是n×n矩阵,试证：对任意整数k，都有$(expA)^k=expkA.(当k是负整数时，规定(expA)^k=[(expA)^{-1}]^{-k}.$\n",
    "\n",
    "解：$k<0时，-k>0$\n",
    "\n",
    "$（expA）^k=[(expA)^{-1}]^{-k}=[exp(-A)]^{-k}$\n",
    "\n",
    "$=exp(-A)·exp(-A)…exp(-A)$\n",
    "\n",
    "$=exp[(-A)(-k)]=expkA.$\n",
    "\n",
    "\n",
    "$故，对于任意的k，都有(expA)^k=expkA.$"
   ]
  },
  {
   "cell_type": "markdown",
   "metadata": {},
   "source": [
    "5.$试求方程组x'=Ax的基解矩阵,并求满足初始条件\\varphi(0)=\\eta 的解\\varphi(t)$\n",
    "\n",
    "（2）$\\begin{bmatrix} 1&0&3\\\\8&1&-1\\\\5&1&-1\\end{bmatrix},\\eta=\\begin{bmatrix}0\\\\-2\\\\-7\\end{bmatrix};$\n",
    "\n",
    "解: 由第四题（4）知，基解矩阵为\n",
    "$$\\Phi=\\begin{bmatrix}-3e^{-3t}&e^{(2+\\sqrt7)t}&e^{(2-\\sqrt7)t}\\\\\n",
    "7e^{-3t}&\\frac{4\\sqrt7 -5}{3}e^{(2+\\sqrt7)t} & \\frac{-4\\sqrt7 -5}{3}e^{(2-\\sqrt7)t}\\\\\n",
    "4e^{-3t}&\\frac{1+\\sqrt7 }{3}e^{(2+\\sqrt7)t}&\\frac{1-\\sqrt7}{3}e^{(2-\\sqrt7)t}\\end{bmatrix}$$\n",
    "\n",
    "而满足初值条件$\\varphi(0)=\\eta=\\begin{bmatrix}0\\\\-2\\\\-7\\end{bmatrix}的解为$\n",
    "\n",
    "$\\varphi(t)=\\Phi(t)\\Phi^{-1}(0)\\eta=expAt·\\eta,经计算得：$\n",
    "\n",
    "$$\\varphi(t)=\\frac{1}{4\\sqrt7}\\begin{bmatrix}\\frac{52\\sqrt7}{3}e^{-3t}+\\frac{4-26\\sqrt7}{3}e^{(2+\\sqrt7)t}+\\frac{-4-26\\sqrt7}{3}e^{(2-\\sqrt7)t}\\\\\n",
    "\\frac{-364\\sqrt7}{9}e^{-3t}+\\frac{-748+146\\sqrt7}{9}e^{(2+\\sqrt7)t}+\\frac{748+146\\sqrt7}{9}e^{(2-\\sqrt7)t}\\\\\n",
    "\\frac{-208\\sqrt7}{9}e^{-3t}+\\frac{-178-22\\sqrt7}{9}e^{(2+\\sqrt7)t}+\\frac{178-22\\sqrt7}{9}e^{(2-\\sqrt7)t}\\end{bmatrix}.$$"
   ]
  },
  {
   "cell_type": "markdown",
   "metadata": {},
   "source": [
    "# <font color='red'>A 9/12"
   ]
  },
  {
   "cell_type": "code",
   "execution_count": null,
   "metadata": {
    "collapsed": true
   },
   "outputs": [],
   "source": []
  }
 ],
 "metadata": {
  "kernelspec": {
   "display_name": "Python 2",
   "language": "python",
   "name": "python2"
  },
  "language_info": {
   "codemirror_mode": {
    "name": "ipython",
    "version": 2
   },
   "file_extension": ".py",
   "mimetype": "text/x-python",
   "name": "python",
   "nbconvert_exporter": "python",
   "pygments_lexer": "ipython2",
   "version": "2.7.10"
  }
 },
 "nbformat": 4,
 "nbformat_minor": 0
}
