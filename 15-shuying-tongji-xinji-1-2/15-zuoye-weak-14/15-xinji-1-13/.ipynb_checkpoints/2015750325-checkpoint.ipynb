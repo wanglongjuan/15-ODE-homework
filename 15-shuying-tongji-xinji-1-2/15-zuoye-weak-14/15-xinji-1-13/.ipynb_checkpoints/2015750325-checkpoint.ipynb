{
 "cells": [
  {
   "cell_type": "markdown",
   "metadata": {},
   "source": [
    "焦畅    2015750325"
   ]
  },
  {
   "cell_type": "markdown",
   "metadata": {},
   "source": [
    "5.2\n",
    "\n",
    "5\n",
    "\n",
    "由于A是n*n常数矩阵，所以方程$x'=Ax$的基解矩阵$\\Phi(t)$满足\n",
    "$$\\frac{d\\phi(t)}{dt}=A*\\Phi(t)$$\n",
    "\n",
    "解得$\\Phi(t)=e^{At},$可见$\\Phi(t)$是指数型的，又根据指函数的特点知道$\\Phi^{-1}(t)=e^{-At}$,从而\n",
    "$$\\Phi(t)\\Phi^{-1}(t_0)=e^{At}e^{-At_0}=e^{A(t-t_0)}=\\Phi(t-t_0)$$\n",
    "命题得证"
   ]
  },
  {
   "cell_type": "markdown",
   "metadata": {},
   "source": [
    "10（2）\n",
    "\n",
    "齐次方程$x'''-8x=0$的特征方程为\n",
    "$$\\lambda^3-8=0$$\n",
    "解得$\\lambda_1=2,\\lambda_2=-1+\\sqrt{3}i,\\lambda_3=-1-\\sqrt{3}i$\n",
    "所以齐次方程的通解为\n",
    "$$x_1=C_1e^{2t}+C_2e^{-t}cos\\sqrt{3}t+C_3e^{-t}sin\\sqrt{3}t$$\n",
    "令原方程的一个特解为$x_1=Ate^{2t}$,代入原方程则得到\n",
    "$$A=\\frac{1}{12}$$\n",
    "得特解为$x_1=\\frac{1}{12}te^{2t}$,原方程的通解为\n",
    "$$x(t)=C_1e^{2t}+C_2e^{-t}cos\\sqrt{3}t+C_3e^{-t}sin\\sqrt{3}t+\\frac{1}{12}te^{2t}$$"
   ]
  },
  {
   "cell_type": "markdown",
   "metadata": {},
   "source": [
    "5.3\n",
    "\n",
    "1(2)\n",
    "\n",
    "设$c_1=C_2=1$,则有\n",
    "$$exp(2A)=exp(A+A)=expA*expA=(expA)^2$$\n",
    "$$exp(3A)=exp(A+2A)=expA*exp2A=(expA)^3$$\n",
    "…\n",
    "$$exp(kA)=exp[A+(k-1)A]=expA*exp(k-1)=(expA)^k$$\n",
    "当k=0时，\n",
    "$$右边=(expA)^k=(expA)^0=E$$\n",
    "$$左边=expkA=exp0=E$$\n",
    "即k=0,时，等式成立\n",
    "\n",
    "当k=1时，显然左边=expA=右边\n",
    "\n",
    "由数学归纳法，易知等式对所有的非负整数成立\n",
    "\n",
    "当k是负整数时，\n",
    "$$(expA)^k=[(expA)^{-1}]^{-k}=[exp(-A)]^{-k}=exp(-k)(-A)=expkA$$\n",
    "即k时负整数时，等式也成立。\n",
    "\n",
    "综上所述，即证明了对任意整数k，都有\n",
    "$$(expA)^k=expkA$$"
   ]
  },
  {
   "cell_type": "markdown",
   "metadata": {},
   "source": [
    "5（2）\n",
    "\n",
    "方程的一个基解矩阵为\n",
    "$$\\Phi(t)=\\begin{bmatrix} 3e^{-3t}&3e^{(2+\\sqrt{7}t)}&3e^{(2-\\sqrt{7}t)}\\\\\n",
    "-7e^{-3t}&(4-\\sqrt{7}-5)e^{(2+\\sqrt{7}t)}&-(4\\sqrt{7}+5)e^{(2-\\sqrt{7}t)}\\\\\n",
    "-4e^{-3t}&(\\sqrt{7}+1)e^{(2+\\sqrt{7}t)}&(1-\\sqrt{7})e^{(2-\\sqrt{7}t)}\\\\\n",
    "\\end{bmatrix}$$\n",
    "而满足初值条件$\\varphi(0)=\\eta=[0\\quad -2 \\quad -7]^T$的解为\n",
    "$$\\varphi(t)=\\Phi(t)\\Phi^{-1}(0)\\eta=expAt*\\eta$$\n",
    "\n",
    "$$\\varphi(t)=\\frac{1}{4\\sqrt{7}}*\\begin{bmatrix} \n",
    "\\frac{52\\sqrt{7}}{3}e^{-3t}&\\frac{4-26\\sqrt{7}}{3}e^{(2+\\sqrt{7}t)}&\\frac{-4-2\\sqrt{7}}{3}e^{(2-\\sqrt{7}t)}\\\\\n",
    "\\frac{-364\\sqrt{7}}{9}e^{-3t}&\\frac{-748+146\\sqrt{7}}{9}e^{(2+\\sqrt{7}t)}&\\frac{748+146\\sqrt{7}}{9}e^{(2-\\sqrt{7}t)}\\\\\n",
    "\\frac{-208\\sqrt{7}}{9}e^{-3t}&\\frac{-178-22\\sqrt{7}}{9}e^{(2+\\sqrt{7}t)}&\\frac{178-22\\sqrt{7}}{9}e^{(2-\\sqrt{7}t)}\\\\\n",
    "\\end{bmatrix}$$"
   ]
  },
  {
   "cell_type": "markdown",
   "metadata": {},
   "source": [
    "# <font color='red'>A 9/12"
   ]
  },
  {
   "cell_type": "code",
   "execution_count": null,
   "metadata": {
    "collapsed": true
   },
   "outputs": [],
   "source": []
  }
 ],
 "metadata": {
  "kernelspec": {
   "display_name": "SageMath 7.3",
   "language": "",
   "name": "sagemath"
  },
  "language_info": {
   "codemirror_mode": {
    "name": "ipython",
    "version": 2
   },
   "file_extension": ".py",
   "mimetype": "text/x-python",
   "name": "python",
   "nbconvert_exporter": "python",
   "pygments_lexer": "ipython2",
   "version": "2.7.10"
  }
 },
 "nbformat": 4,
 "nbformat_minor": 0
}
