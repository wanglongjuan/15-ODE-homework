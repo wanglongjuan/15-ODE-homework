{
 "cells": [
  {
   "cell_type": "markdown",
   "metadata": {},
   "source": [
    "$P217页5、设\\Phi(t)为方程x'=Ax(A为n*n常数矩阵)的标准基解矩阵(即\\Phi(0)=E),证明:\\Phi(t)\\Phi^{-1}(t_0)=\\Phi(t-t_0),\n",
    "其中t_0$\n",
    "$为某一值.$\n",
    "\n",
    "$证:由于A为n*n常数矩阵,所以方程x'=Ax的基解矩阵\\Phi(t)满足\\frac{d\\Phi(t)}{dt}=A·\\Phi(t),解得\\Phi(t)=e^{At}$\n",
    "\n",
    "$因为\\Phi^{-1}(t)=e^{-At},所以\\Phi(t)\\Phi^{-1}(t_0)=e^{At}·e^{-At_0}=e^{A(t-t_0)}=\\Phi(t-t_0)$"
   ]
  },
  {
   "cell_type": "markdown",
   "metadata": {},
   "source": [
    "$10、试求下列方程的通解.$\n",
    "\n",
    "$(2)x'''-8x=e^{2t}$\n",
    "\n",
    "$解:先求齐次线性方程x'''-8x=0的解$\n",
    "\n",
    "$\\lambda^3-8=0,可写成(\\lambda-2)(\\lambda^2+2\\lambda+4)=0,解得\\lambda_1=2,\\lambda_2=-1+\\sqrt3i,\\lambda_2=-1-\\sqrt3i$\n",
    "\n",
    "$所以齐次线性方程的基本解组为x_1(t)=e^{2t},x_2(t)=e^{-t}\\cos \\sqrt3t,x_3(t)=e^{-t}\\sin \\sqrt3t$\n",
    "\n",
    "$因为\\lambda=2是方程的特征根,所以方程有形如x=Ate^{2t}的解,代入可得A=\\frac{1}{12}$\n",
    "\n",
    "$于是原方程的通解为x=(c_1\\cos \\sqrt3t+c_2\\sin \\sqrt3t)e^{-t}+c_3e^{2t}+\\frac{1}{12}te^{2t}.$"
   ]
  },
  {
   "cell_type": "markdown",
   "metadata": {},
   "source": [
    "$P244页1、假设A是n*n矩阵,试证:$\n",
    "\n",
    "$(2)对任意整数k,都有(exp A)^k=exp kA.(当k是负整数时,规定(exp A)^k=[(exp A)^{-1}]^{-k})$\n",
    "\n",
    "$证:当k>0时,(exp A)^k=exp A·exp A\\dots exp A=exp(A+A+\\dots+A)=exp kA$\n",
    "\n",
    "$当k<0时,-k>0,则[(exp A)^{-1}]^{-k}=[exp(-A)]^{-k}=exp(-A)·exp(-A)\\dots exp(-A)=exp[(-A)·(-k)]=exp kA$\n",
    "\n",
    "$所以对任意k,都有(exp A)^k=exp kA.$"
   ]
  },
  {
   "cell_type": "markdown",
   "metadata": {},
   "source": [
    "$5、试求方程组x'=Ax的基解矩阵,并求满足初值条件\\phi(0)=\\eta的解\\phi(t)$\n",
    "\n",
    "$(2)A=\\begin{bmatrix}1&0&3\\\\8&1&-1\\\\5&1&-1\\\\\\end{bmatrix},\\eta=\\begin{bmatrix}0\\\\-2\\\\-7\\\\\\end{bmatrix}$\n",
    "\n",
    "$解:由det(\\lambda E-A)=0可得,\\lambda_1=-3,\\lambda_2=2+\\sqrt7,\\lambda_3=2-\\sqrt7$\n",
    "\n",
    "$可得基解矩阵\\Phi(t)=\\begin{bmatrix}-3e^{-3t}&e^{(2+\\sqrt7)t}&e^{(2-\\sqrt7)t}\\\\7e^{-3t}&\\frac{4\\sqrt7-5}{3}e^{(2+\\sqrt7)t}&\\frac{-4\\sqrt7-5}{3}e^{(2-\\sqrt7)t}\\\\4e^{-3t}&\\frac{1+\\sqrt7}{3}e^{(2+\\sqrt7)t}&\\frac{1-\\sqrt7}{3}e^{(2-\\sqrt7)t}\\\\\\end{bmatrix}$\n",
    "\n",
    "$要满足初值条件\\phi(0)=\\eta=\\begin{bmatrix}0\\\\-2\\\\-7\\\\\\end{bmatrix}的解为\\phi(t)=\\Phi(t)\\Phi^{-1}(0)\\eta=expAt·\\eta$\n",
    "\n",
    "$所以经过计算可得\\phi(t)=\\frac{1}{4\\sqrt7}\\begin{bmatrix}\\frac{52\\sqrt7}{3}e^{-3t}+\\frac{4-26\\sqrt7}{3}e^{(2+\\sqrt7)t}+\\frac{-4-26\\sqrt7}{3}e^{(2-\\sqrt7)t}\\\\\\frac{-364\\sqrt7}{9}e^{-3t}+\\frac{-748+146\\sqrt7}{9}e^{(2+\\sqrt7)t}+\\frac{748+146\\sqrt7}{3}e^{(2-\\sqrt7)t}\\\\\\frac{-208\\sqrt7}{9}e^{-3t}+\\frac{-178-22\\sqrt7}{9}e^{(2+\\sqrt7)t}+\\frac{178-22\\sqrt7}{9}e^{(2-\\sqrt7)t}\\\\\\end{bmatrix}$"
   ]
  },
  {
   "cell_type": "markdown",
   "metadata": {},
   "source": [
    "# <font color='red'>A 9/12"
   ]
  },
  {
   "cell_type": "code",
   "execution_count": null,
   "metadata": {
    "collapsed": true
   },
   "outputs": [],
   "source": []
  }
 ],
 "metadata": {
  "kernelspec": {
   "display_name": "SageMath 7.3",
   "language": "",
   "name": "sagemath"
  },
  "language_info": {
   "codemirror_mode": {
    "name": "ipython",
    "version": 2
   },
   "file_extension": ".py",
   "mimetype": "text/x-python",
   "name": "python",
   "nbconvert_exporter": "python",
   "pygments_lexer": "ipython2",
   "version": "2.7.10"
  }
 },
 "nbformat": 4,
 "nbformat_minor": 0
}
