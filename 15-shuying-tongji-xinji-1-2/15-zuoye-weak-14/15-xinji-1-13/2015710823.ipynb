{
 "cells": [
  {
   "cell_type": "markdown",
   "metadata": {},
   "source": [
    "**常微分方程第十二次作业**\n",
    "\n",
    "                    信计一班 唐梦圆 2015710823\n",
    "\n",
    "5.$设\\mathbf{\\Phi}(t)为方程x'=\\mathbf{A}x(\\mathbf{A}为n*n常数矩阵)的标准基解矩阵(即\\mathbf{\\Phi}(0)=\\mathbf{E}),\\\\\n",
    "证明：\\mathbf{\\Phi}(t) \\mathbf{\\Phi}^{-1}(t_0)=\\mathbf{\\Phi}(t-t_0)其中t_0为某一值.$"
   ]
  },
  {
   "cell_type": "markdown",
   "metadata": {},
   "source": [
    "$证明：由于\\mathbf{A}是n*n常数矩阵，\\\\\n",
    "所以方程x'=\\mathbf{A}x的基解矩阵\\mathbf{\\Psi}(t)满足\\frac{\\mathrm{d}\\mathbf{\\Psi}(t)}{\\mathrm{d}t}=\\mathbf{A*\\Psi}(t),\\\\\n",
    "解得\\mathbf{\\Psi}(t)=e^{\\mathbf{A}t},即\\mathbf{\\Psi}(t)是指数型的 , \\\\\n",
    "又根据指数函数的特点知道,\\\\\n",
    "\\mathbf{\\Psi}^{-1}(t)=e^{-\\mathbf{A}t} \\\\\n",
    "故\\mathbf{\\Phi}(t) \\mathbf{\\Phi}^{-1}(t_0)=e^{\\mathbf{A}t}e^{-\\mathbf{A}t_0}=e^{\\mathbf{A}(t-t_0)}=\\mathbf{\\Psi}(t-t_0)$"
   ]
  },
  {
   "cell_type": "markdown",
   "metadata": {},
   "source": [
    "10.$试求下列方程的通解：\\\\\n",
    "(2)x'''-8x=e^{2t};$"
   ]
  },
  {
   "cell_type": "markdown",
   "metadata": {},
   "source": [
    "解：$对应齐次方程的特征方程为：\\\\\n",
    "\\lambda^3-8=0,\\\\\n",
    "得，\\lambda_1=2,\\lambda_2=-1+\\sqrt3 i,\\lambda_3=-1-\\sqrt3 i.\\\\\n",
    "该齐次方程的通解为：\\\\\n",
    "x=c_1e^{2t}+c_2e^{-t}cos\\sqrt3 t+c_3e^{-t}sin\\sqrt3 t.\\\\\n",
    "令原方程的一个特解为x_1=Ate^{2t},代入得，A=\\frac{1}{12},即特解为：x_1=\\frac{1}{12}te^{2t},\\\\\n",
    "原方程的通解为：\\\\\n",
    "x(t)=c_1e^{2t}+c_2e^{-t}cos\\sqrt3 t+c_3e^{-t}sin\\sqrt3 t+\\frac{1}{12}te^{2t}.$"
   ]
  },
  {
   "cell_type": "markdown",
   "metadata": {
    "collapsed": true
   },
   "source": [
    "1.$假设\\mathbf A是n\\times n矩阵，试证：\\\\\n",
    "(2)对任意整数k，都有\\\\\n",
    "(exp \\mathbf A)^k=exp k\\mathbf A.\\\\\n",
    "（当k是负整数时，规定(exp \\mathbf A)^k=[(exp \\mathbf A)^{-1}]^{-k}).$"
   ]
  },
  {
   "cell_type": "markdown",
   "metadata": {},
   "source": [
    "解：$由上一问可知，expk\\mathbf A=exp[\\mathbf A+(k-1)\\mathbf A]=(exp \\mathbf A)^k.\\\\\n",
    "当k=0时，\\\\\n",
    "右边=(exp \\mathbf A)^0=\\mathbf E.\\\\\n",
    "左边=exp0=\\mathbf E.\\\\\n",
    "即k=0时，等式成立。\\\\\n",
    "当k=1时，等式显然成立。\\\\\n",
    "由归纳法可知，该等式对所有的非负整数成立。\\\\\n",
    "当k为负整数时，(exp \\mathbf A)^k=[(exp \\mathbf A)^{-1}]^{-k}=[exp \\mathbf （-A)]^{-k}=exp k\\mathbf A.\\\\\n",
    "综上，对任意整数k，都有\\\\\n",
    "(exp \\mathbf A)^k=exp k\\mathbf A.$"
   ]
  },
  {
   "cell_type": "markdown",
   "metadata": {},
   "source": [
    "5.$试求方程组\\mathbf x'=\\mathbf {Ax}的基解矩阵，并求满足初值条件\\mathbf \\varphi(0)=\\eta的解：\\\\\n",
    "(2)\\mathbf A=\\begin {bmatrix}\n",
    "1&0&3\\\\\n",
    "8&1&-1\\\\\n",
    "5&1&-1\\\\\n",
    "\\end{bmatrix}\n",
    "\\quad \\quad \\quad \\quad\n",
    "\\mathbf \\eta=\\begin {bmatrix}\n",
    "0\\\\\n",
    "-2\\\\\n",
    "-7\\\\\n",
    "\\end{bmatrix};\n",
    "$"
   ]
  },
  {
   "cell_type": "markdown",
   "metadata": {
    "collapsed": true
   },
   "source": [
    "解：$方程的一个基解矩阵为\\\\\n",
    "\\mathbf \\Phi(t)=\\begin {bmatrix}\n",
    "3e^{-3t}&3e^{(2+\\sqrt7)t}&3e^{(2-\\sqrt7)t}\\\\\n",
    "-7e^{-3t}&(4\\sqrt7-5)e^{(2+\\sqrt7)t}&-(4\\sqrt7+5)e^{(2-\\sqrt7)t}\\\\\n",
    "-4e^{-3t}&(\\sqrt7+1)e^{(2+\\sqrt7)t}&(1-\\sqrt7)e^{(2-\\sqrt7)t}\\\\\n",
    "\\end{bmatrix},\\\\\n",
    "而满足初值条件\\mathbf \\varphi(0)=\\mathbf \\eta=[0\\quad-2\\quad-7]^T的解为\\\\\n",
    "\\mathbf \\varphi(t)=\\mathbf \\Phi(t)\\mathbf \\Phi^{-1}(0)\\eta=exp\\mathbf At\\bullet \\mathbf \\eta.\\\\\n",
    "所以，\\mathbf \\varphi(t)=\\frac{1}{4\\sqrt7}\\times \n",
    "\\begin {bmatrix}\n",
    "\\frac{52\\sqrt7}e^{-3t}+\\frac{4-26\\sqrt7}{3}e^{(2+\\sqrt7)t}+\\frac{-4-2\\sqrt7}{3}e^{(2-\\sqrt7)t}\\\\\n",
    "\\frac{-364\\sqrt7}{9}e^{-3t}+\\frac{-748+146\\sqrt7}{9}e^{(2+\\sqrt7)t}+\\frac{748+146\\sqrt7}{9}e^{(2-\\sqrt7)t}\\\\\n",
    "\\frac{-208\\sqrt7}{9}e^{-3t}+\\frac{-178-22\\sqrt7}{9}e^{(2+\\sqrt7)t}+\\frac{178-22\\sqrt7}{9}e^{(2-\\sqrt7)t}\\\\\n",
    "\\end{bmatrix};\n",
    "$"
   ]
  },
  {
   "cell_type": "markdown",
   "metadata": {
    "collapsed": true
   },
   "source": [
    "# <font color='red'>A 9/12"
   ]
  },
  {
   "cell_type": "code",
   "execution_count": null,
   "metadata": {
    "collapsed": true
   },
   "outputs": [],
   "source": []
  }
 ],
 "metadata": {
  "kernelspec": {
   "display_name": "SageMath 7.3",
   "language": "",
   "name": "sagemath"
  },
  "language_info": {
   "codemirror_mode": {
    "name": "ipython",
    "version": 2
   },
   "file_extension": ".py",
   "mimetype": "text/x-python",
   "name": "python",
   "nbconvert_exporter": "python",
   "pygments_lexer": "ipython2",
   "version": "2.7.10"
  }
 },
 "nbformat": 4,
 "nbformat_minor": 0
}
