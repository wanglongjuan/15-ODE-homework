{
 "cells": [
  {
   "cell_type": "markdown",
   "metadata": {},
   "source": [
    "5：证明：\n",
    "\n",
    "（1）$\\psi(t)，\\psi(t-t_0)是基解矩阵$\n",
    "\n",
    "(2)$由于\\psi(t)为方程x'=Ax的解矩阵，所以\\psi(t)\\psi^{-1}(t_0)也是x'=Ax的解矩阵，而当t=t_0时，$\n",
    "\n",
    "$\\psi(t_0)\\psi^{-1}(t_0)=E,\\psi(t-t_0)=\\psi(0)=E故由解的存在唯一性定理，得\\psi(t)\\psi^{-1}(t_0)=\\psi(t-t_0)$"
   ]
  },
  {
   "cell_type": "markdown",
   "metadata": {},
   "source": [
    "10(2)解：\n",
    "\n",
    "$易知对应的齐次线性方程x''-8x=0的基本解组为x_1(t)=e^{2t}$\n",
    "\n",
    "$x_2(t)=e^{-t}cos√3t,x_3(t)=e^{-t}sin√3t$\n",
    "\n",
    "$因为\\lambda=2是方程的特征根$\n",
    "\n",
    "$故方程有形如x=Ate^{2t}的根$\n",
    "\n",
    "$代入得A=\\frac{1}{12}$\n",
    "\n",
    "$故方程有通解x=(c_1cos√3t+c_2sin√3t)e^{-t}+c_3e^{2t}+\\frac{1}{12}te^{2t}$"
   ]
  },
  {
   "cell_type": "markdown",
   "metadata": {
    "collapsed": true
   },
   "source": [
    "1（2）证明：\n",
    "\n",
    "$k＞0时，(expA)^k=expA·expA……expA=exp(A+A+……+A)=expkA$\n",
    "\n",
    "$k＜0时，-k＞0,(expA)^k=[(expA)^{-1}]^{-k}=[expA(-A)]^{-k}=exp(-A)·exp(-A)……exp(-A)=exp[(-A)(-k)]=expkA$\n",
    "\n",
    "$故对任意的k，都有(expA)^k=expkA$"
   ]
  },
  {
   "cell_type": "markdown",
   "metadata": {},
   "source": [
    "5(2)解：\n",
    "\n",
    "$根据题意的，基解矩阵为：$\n",
    "\n",
    "$\\psi(t)=\\begin{bmatrix}-3e^{-3t}&e^{(2+√7)t}&e^{(2-√7)t}\\\\7e^{-3t}&\\frac{4√7-5}{3}e^{(2+√7)t}&\\frac{-4√7-5}{3}e^{(2+√7)t}\\\\4e^{-3t}&\\frac{1+√7}{3}e^{(2+√7)t}&\\frac{1-√7}{3}e^{(2+√7)t}\\end{bmatrix}$\n",
    "\n",
    "$所以$\n",
    "\n",
    "$\\psi(t)=\\frac{1}{4√7}\\begin{bmatrix}\\frac{52√7}{3}e^{-3t}+\\frac{4-26√7}{3}e^{(2+√7t)}+\\frac{-4-26√7}{3}e^{(2-√7)t}\\\\ \\frac{-364√7}{9}e^{-3t}+\\frac{-748+146√7}{9}e^{(2+√7)t}+\\frac{748+146√7}{9}e^{(2-√7)t}\\\\ \\frac{-208√7}{9}e^{-3t}+\\frac{-178-22√7}{9}e^{(2+√7)t}+\\frac{178-22√7}{9}e^{(2-√7)t}\\end"
   ]
  },
  {
   "cell_type": "markdown",
   "metadata": {
    "collapsed": true
   },
   "source": [
    "# <font color='red'>A 9/12"
   ]
  },
  {
   "cell_type": "code",
   "execution_count": null,
   "metadata": {
    "collapsed": true
   },
   "outputs": [],
   "source": []
  }
 ],
 "metadata": {
  "kernelspec": {
   "display_name": "SageMath 7.3",
   "language": "",
   "name": "sagemath"
  },
  "language_info": {
   "codemirror_mode": {
    "name": "ipython",
    "version": 2
   },
   "file_extension": ".py",
   "mimetype": "text/x-python",
   "name": "python",
   "nbconvert_exporter": "python",
   "pygments_lexer": "ipython2",
   "version": "2.7.10"
  }
 },
 "nbformat": 4,
 "nbformat_minor": 0
}
