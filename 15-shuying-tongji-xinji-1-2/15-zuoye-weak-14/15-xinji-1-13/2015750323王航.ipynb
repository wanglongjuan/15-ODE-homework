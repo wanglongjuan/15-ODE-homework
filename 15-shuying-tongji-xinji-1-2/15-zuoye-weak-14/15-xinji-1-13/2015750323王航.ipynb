{
 "cells": [
  {
   "cell_type": "markdown",
   "metadata": {},
   "source": [
    "$$因为A为常数矩阵，所以方程x'=AX的基解矩阵\\phi(t)满足\\frac{d\\phi(t)}{dt}=A\\phi(t),\\phi(t)=e^{At},\\phi(t)为指数型，又\\phi^{-1}(t)=e^{-At},有\\phi(t)\\phi^{-1}(t)=e^{At}e^{-At}=\\phi(t-t_0)$$"
   ]
  },
  {
   "cell_type": "markdown",
   "metadata": {},
   "source": [
    "$$10.(2)\n",
    "方程x'''-8x=0的基本解组为x_1=e^{2t},x_2=e^{-t}cos\\sqrt3t,x_3=e^{-t}sin\\sqrt3t,\n",
    "\\lambda=2是特征根，方程有x=Ate^{2t}的解\n",
    "代入A=\\frac{1}{12}\n",
    "所以通解为x=(c_1cos\\sqrt3t+c_2sinsqrt3t)e^{-t}+c_3e^{2t}+\\frac{1}{12}te^{2t}$$\n"
   ]
  },
  {
   "cell_type": "markdown",
   "metadata": {},
   "source": [
    "$$p244.1.(2)\n",
    "当k\\geq0,(expA)^k=expAexpA...expA=exp(A+A+....+A)=exp(kA)\n",
    "当k\\leq0,(exp)^k=exp(-A)exp(-A)...exp(-A)=exp(-A)(-k)=expkA,所以(expA)^k=expkA$$\n"
   ]
  },
  {
   "cell_type": "markdown",
   "metadata": {},
   "source": [
    "$$5.(2)\n",
    "其基解矩阵为\\phi(t)=\\begin{bmatrix}-3e^{-3t}&e^{2+\\sqrt7t}&e^{2-\\sqrt7t}\\\\7e^{-3t}&\\frac{4\\sqrt7-5}{3}e^{(2+\\sqrt7)t}&\\frac{-4\\sqrt7-5}{3}e^{(2-\\sqrt7)t}\\\\4e^{-3t}&\\frac{1+\\sqrt7}{3}e^{(2+\\sqrt7)t}&\\frac{1-\\sqrt7}{3}e^{(2-\\sqrt7)t}\n",
    "\\end{bmatrix}\n",
    "满足初值条件\\phi(0)=\\eta=\\begin{bmatrix}0\\\\-2\\\\-7\n",
    "\\end{bmatrix}的解为\n",
    "phi(t)=\\begin{bmatrix}\\frac{52\\sqrt7}{3}e^{-3t}+\\frac{4-26\\sqrt7}{3}e^{(2+\\sqrt7)t}+\\frac{-4-26\\sqrt7}{3}e^{(2-\\sqrt7)t}\n",
    "\\\\\\frac{-364\\sqrt7}{9}e^{-3t}+\\frac{-748+146\\sqrt7}{9}e^{(2+\\sqrt7)t}+\\frac{748+146\\sqrt7}{9}e^{(2-\\sqrt7)t}\n",
    "\\\\\\frac{-208\\sqrt7}{9}e^{-3t}+\\frac{-178-22\\sqrt7}{9}e^{(2+\\sqrt7)t}+\\frac{178-22\\sqrt7}{9}e^{(2-\\sqrt7)t}\n",
    "\\end{bmatrix}$$"
   ]
  },
  {
   "cell_type": "markdown",
   "metadata": {
    "collapsed": true
   },
   "source": [
    "# <font color='red'>A 9/12"
   ]
  },
  {
   "cell_type": "code",
   "execution_count": null,
   "metadata": {
    "collapsed": true
   },
   "outputs": [],
   "source": []
  }
 ],
 "metadata": {
  "kernelspec": {
   "display_name": "Python 2",
   "language": "python",
   "name": "python2"
  },
  "language_info": {
   "codemirror_mode": {
    "name": "ipython",
    "version": 2
   },
   "file_extension": ".py",
   "mimetype": "text/x-python",
   "name": "python",
   "nbconvert_exporter": "python",
   "pygments_lexer": "ipython2",
   "version": "2.7.10"
  }
 },
 "nbformat": 4,
 "nbformat_minor": 0
}
