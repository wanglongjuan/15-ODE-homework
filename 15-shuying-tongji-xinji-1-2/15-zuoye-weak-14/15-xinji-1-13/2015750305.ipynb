{
 "cells": [
  {
   "cell_type": "markdown",
   "metadata": {},
   "source": [
    "$一\\quad设\\Phi(t)为方程x^{\\prime}=Ax(A为n\\times n常数矩阵)的标准基解矩阵(即\\Phi(0)=E),证明：\\Phi(t)\\Phi^(-1)(t_o)=\\Phi(t-t_o),其中t_o为某一值.$"
   ]
  },
  {
   "cell_type": "markdown",
   "metadata": {},
   "source": [
    "$解$\n",
    "\n",
    "$由于A是n\\times n常数矩阵，所以方程x^{\\prime}=Ax的基解矩阵\\Phi(t)满足\\frac {d\\Phi(t)}{dt}=A*\\Phi(t),解之得\\Phi(t)=e^{At}$\n",
    "\n",
    "$即\\Phi(t)是指数型的，又根据指数函数的特点知道\\Phi^{-1}(t)=e^{-At},从而\\Phi(t)\\Phi^{-1}(t_o)=e^{At}e^{-At_o}=e^{A(t-t_o)}=\\Phi(t-t_o)$\n",
    "\n",
    "$因此，命题得证.$\n",
    "\n",
    "$\\quad$"
   ]
  },
  {
   "cell_type": "markdown",
   "metadata": {},
   "source": [
    "$二\\quad 试解下列方程的通解：x^{{\\prime}{\\prime}}-8x=e^{2t};$\n",
    "\n",
    "$解$\n",
    "\n",
    "$\\quad对应齐次方程x^{{\\prime}{\\prime}{\\prime}}-8x=0的特征方程为$\n",
    "$$\\lambda^{3}-8=0,$$\n",
    "$即得到\\lambda_1=2,\\lambda_2=-1+{\\sqrt 3}i,\\lambda_3=-1-{\\sqrt 3}i.$\n",
    "\n",
    "$所以齐次方程的通解为$\n",
    "$$x=C_1e^{2t}+C_2e^{-t}cos{\\sqrt 3}t+C_3e^{-t}sin{\\sqrt 3}t.$$\n",
    "$令方程的一个特解为x_1=Ate^{2t},代入原方程则得到A=\\frac{1}{12},$\n",
    "\n",
    "$即特解为x_1=\\frac{1}{12}te^{2t},于是原方程的通解为$\n",
    "$$x(t)=C_1e^{2t}+C_2e^{-t}cos{\\sqrt 3}t+C_3e^{-t}sin{\\sqrt 3}t+\\frac{1}{12}te^{2t}.$$"
   ]
  },
  {
   "cell_type": "markdown",
   "metadata": {
    "collapsed": true
   },
   "source": [
    "\n",
    "$\\quad$\n"
   ]
  },
  {
   "cell_type": "markdown",
   "metadata": {},
   "source": [
    "$三\\quad 假设A是n\\times n矩阵，试证：对任意证书k，都有(exp A)^k=exp kA.(当k是负整数时，规定(exp A)^k=[(exp A)^{-1}]^{-k}.)$\n",
    "\n",
    "$证明$"
   ]
  },
  {
   "cell_type": "markdown",
   "metadata": {},
   "source": [
    "$\\quad\\quad 设c_1=c_2=1,则有$\n",
    "$$exp(2A)=exp(A+A)=exp A*exp A=(exp A)^2$$\n",
    "$$exp(3A)=exp(A+2A)=exp A*exp 2A=(exp A)^3$$\n",
    "$$ \\cdots \\cdots$$\n",
    "$$exp(kA)=exp[A+(k-1)A]=(exp A)^k.$$"
   ]
  },
  {
   "cell_type": "markdown",
   "metadata": {},
   "source": [
    "$当k=0时，右边=(exp A)^k=(exp A)^o=E,左边=exp kA=exp 0=E,$\n",
    "\n",
    "$即k=0时，等式成立.当k=1时，显然左边=exp A=右边，等式成立.$\n",
    "\n",
    "$由归纳法，易知等式对所有的非负整数成立.当k是负整数时$\n",
    "$$(exp A)^k=[(exp A)^{-1}]{-k}=[exp(-A)]^{-k}=exp(-k)(-A)=exp KA.$$\n",
    "$即k是负整数时，等式也成立.综合以上几种情况，即证明了对任意整数k，都有(exp A)^k=exp kA.$\n",
    "\n",
    "$\\quad$"
   ]
  },
  {
   "cell_type": "markdown",
   "metadata": {},
   "source": [
    "$四\\quad 试求方程组x^{\\prime}=Ax的基解矩阵，并求满足初值条件\\varphi(0)=\\eta的解\\varphi(t):$\n",
    "$A=\\begin{bmatrix} 1&0&3 \\\\8&1&-1 \\\\5&1&-1 \\\\ \\end{bmatrix},\\eta=\\begin{bmatrix} 0\\\\-2\\\\-7\\\\ \\end{bmatrix}$"
   ]
  },
  {
   "cell_type": "markdown",
   "metadata": {},
   "source": [
    "$解\\quad 由前题可知方程的一个基解矩阵为$\n",
    "$$\\Phi(t)=\\begin{bmatrix} 3e^{-3t}&3e^{(2+\\sqrt{7})t}&3e^{(2-\\sqrt{7})t}\\\\-7e^{-3t}&(4\\sqrt{7}-5)e^{(2+\\sqrt{7})t}\n",
    "&-(4\\sqrt{7}+5)e^{(2-\\sqrt{7})t}\\\\ -4e^{-3t}&(\\sqrt{7}+1)e^{(2+\\sqrt{7})t}&(1-\\sqrt{7})e^{(2-\\sqrt{7})t}\\\\ \\end{bmatrix}$$"
   ]
  },
  {
   "cell_type": "markdown",
   "metadata": {},
   "source": [
    "$而满足初值条件\\Phi(0)=\\eta=[0\\quad-2\\quad-7]^{T}的解为\\varphi(t)=\\Phi(t)\\Phi^{-1}(0)\\eta=exp At*\\eta.$\n",
    "$经计算得$\n",
    "$$\\varphi(t)=\\frac{1}{4\\sqrt 7}\\times \\begin{bmatrix}\\frac{52\\sqrt7}{3}e^{-3t}+\\frac{4-26\\sqrt 7}{3}e^{(2+\\sqrt 7)t}+\n",
    "\\frac{-4-2\\sqrt7}{3}e^{(2-\\sqrt 7)t}\\\\ \\frac{-364\\sqrt7}{9}e^{-3t}+\\frac{-748+146\\sqrt 7}{9}e^{(2+\\sqrt 7)t}+\n",
    "\\frac{748+146\\sqrt7}{9}e^{(2-\\sqrt 7)t}\\\\ \\frac{-208\\sqrt7}{9}e^{-3t}+\\frac{-178-22\\sqrt 7}{9}e^{(2+\\sqrt 7)t}+\n",
    "\\frac{178-22\\sqrt7}{9}e^{(2-\\sqrt 7)t}\\\\ \\end{bmatrix}$$"
   ]
  },
  {
   "cell_type": "markdown",
   "metadata": {
    "collapsed": true
   },
   "source": [
    "# <font color='red'>A 9/12"
   ]
  },
  {
   "cell_type": "code",
   "execution_count": null,
   "metadata": {
    "collapsed": true
   },
   "outputs": [],
   "source": []
  }
 ],
 "metadata": {
  "kernelspec": {
   "display_name": "SageMath 7.3",
   "language": "",
   "name": "sagemath"
  },
  "language_info": {
   "codemirror_mode": {
    "name": "ipython",
    "version": 2
   },
   "file_extension": ".py",
   "mimetype": "text/x-python",
   "name": "python",
   "nbconvert_exporter": "python",
   "pygments_lexer": "ipython2",
   "version": "2.7.10"
  }
 },
 "nbformat": 4,
 "nbformat_minor": 0
}
