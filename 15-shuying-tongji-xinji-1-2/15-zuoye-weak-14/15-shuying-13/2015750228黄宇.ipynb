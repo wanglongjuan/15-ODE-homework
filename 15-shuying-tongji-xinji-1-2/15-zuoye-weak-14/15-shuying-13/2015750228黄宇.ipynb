{
 "cells": [
  {
   "cell_type": "markdown",
   "metadata": {
    "collapsed": false
   },
   "source": [
    "#  5.\n",
    "$$设\\Phi(t)为 f方程x'=Ax(A为nxn的常数矩阵)的标准基解矩阵（即\\phi(0)=E）,证明：\\phi(t)\\phi^{-1}(t_0)=\\phi(t-t_0),t_0为某一值$$"
   ]
  },
  {
   "cell_type": "markdown",
   "metadata": {},
   "source": [
    "  #  证明\n",
    "  $$由于A为nxn的常数矩阵，所以方程x'=Ax的基解矩阵\\phi(t)满足\\frac{\\phi(t)}{t}=A\\bullet \\phi(t),$$\n",
    "  $$解之得\\phi(t)=e^{At},即\\phi(t)是指数型的，又根据指数函数的特点知道$$\n",
    "  \n",
    "  $$\\phi^{-1}(t)=e^{-At},从而\\phi(t)\\phi^{-1}(t_0)= e^{At}e^{-At}=e^{A(t-t_0)}=\\phi(t-t_0)$$"
   ]
  },
  {
   "cell_type": "markdown",
   "metadata": {},
   "source": [
    "#  10.(2)求方程的通解\n",
    "$$x'''-8x=e^{2t}$$"
   ]
  },
  {
   "cell_type": "markdown",
   "metadata": {},
   "source": [
    "易知对应的齐次线性方程$$x'''-8x=0的基本解组为x_1(t)=e^{2t}$$\n",
    "\n",
    "$$x_2(t)=e^{-t}cos{\\sqrt{3}t},x_3(t)=e^{-t}sin{\\sqrt3t}$$"
   ]
  },
  {
   "cell_type": "markdown",
   "metadata": {},
   "source": [
    "因为$\\lambda=2$是方程的特征根，故方程有形如$x=Ate^{2t}$的解\n",
    "代入得$A=\\frac{1}{12}$\n",
    "于是原方程的通解为$x=(c_1cos\\sqrt3t+c_2sin\\sqrt3t)e^{-t}+c_3e^{2t}+\\frac{1}{12}te^{2t}$"
   ]
  },
  {
   "cell_type": "markdown",
   "metadata": {},
   "source": [
    "# 1.假设A是nxn矩阵\n",
    "（2）对任意整数k,都有$(expA)^k=expkA$"
   ]
  },
  {
   "cell_type": "markdown",
   "metadata": {},
   "source": [
    "k>0时，$$(expA)^k=expA\\bullet expA \\dotsi expA\\\\\n",
    "=exp(A+A+\\bullet+A)\\\\\n",
    "=expkA$$\n",
    "\n",
    "k< 0时，-k>0\n",
    "$$(expA)^k=[(expA)^{-1}]^{-k}=[exp(-A)]^{-k}\\\\\n",
    "=exp(-A)\\bullet exp(-A) \\dotsi exp(-A)\\\\\n",
    "=exp[(-A)(-k)]=expkA$$\n",
    "\n",
    "故任意整数k，都有$(expA)^k=expkA$"
   ]
  },
  {
   "cell_type": "markdown",
   "metadata": {},
   "source": [
    "# 5.试求方程组$x'=Ax$的基解矩阵，并求满足初始条件$\\psi(0)=\\eta$的解$\\psi(t)$\n"
   ]
  },
  {
   "cell_type": "markdown",
   "metadata": {},
   "source": [
    "(2)$$\n",
    "A=\n",
    "\\begin{bmatrix}\n",
    "1&0&3\\\\\n",
    "8&1&-1\\\\\n",
    "5&1&-1\\\\\n",
    "\\end{bmatrix}\n",
    "\\eta=\n",
    "\\begin{bmatrix}\n",
    "0\\\\\n",
    "-2\\\\\n",
    "-7\\\\\n",
    "\\end{bmatrix}\n",
    "$$\n"
   ]
  },
  {
   "cell_type": "markdown",
   "metadata": {},
   "source": [
    "基解矩阵为$$\n",
    "\\mathbf \\Phi(t)=\n",
    "\\begin{bmatrix}\n",
    "-3e^{-3t}&e^{(2+\\sqrt7)t}&e^{(2-\\sqrt7)t} \\\\\n",
    "7e^{-3t}&\\frac{4\\sqrt7-5}{3}e^{(2+\\sqrt7)t}&\\frac{-4\\sqrt7-5}{3}e^{(2-\\sqrt7)t}\\\\\n",
    "4e^{-3t}&\\frac{\\sqrt7+1}{3}e^{(2+\\sqrt7)t}&\\frac{-\\sqrt7+1}{3}e^{(2-\\sqrt7)t}\\\\\n",
    "\\end{bmatrix}\n",
    "$$\n"
   ]
  },
  {
   "cell_type": "markdown",
   "metadata": {},
   "source": [
    "而满足初值条件$\\psi(0)=\\eta=\\begin{bmatrix} 0\\\\-2\\\\-7\\\\ \\end{bmatrix}$的解为\n",
    "\n",
    "\n"
   ]
  },
  {
   "cell_type": "markdown",
   "metadata": {},
   "source": [
    "$$\\varphi(t)=\\phi(t)\\phi^{-1}(0) \\eta=expAt \\bullet \\eta$$\n",
    "经计算得\n",
    "\n",
    "$$\n",
    "\\mathbf \\varphi(t)=\\frac{1}{4\\sqrt7}\n",
    "\\begin{bmatrix}\n",
    "\\frac{52\\sqrt7}{3}e^{-3t}+\\frac{4-26\\sqrt7}{3}e^{(2+\\sqrt7)t}+\\frac{-4-26\\sqrt7}{3}e^{(2-\\sqrt7)t} \\\\\n",
    "\\frac{-364\\sqrt7}{9}e^{-3t}+\\frac{146\\sqrt7-748}{9}e^{(2+\\sqrt7)t}+\\frac{146\\sqrt7+748}{9}e^{(2-\\sqrt7)t}\\\\\n",
    "\\frac{-208\\sqrt7}{9}e^{-3t}+\\frac{-22\\sqrt7-178}{9}e^{(2+\\sqrt7)t}+\\frac{-22\\sqrt7+178}{9}e^{(2-\\sqrt7)t}\\\\\n",
    "\\end{bmatrix}\n",
    "$$\n"
   ]
  },
  {
   "cell_type": "markdown",
   "metadata": {
    "collapsed": true
   },
   "source": [
    "# <font color='red'>A 9/12"
   ]
  },
  {
   "cell_type": "code",
   "execution_count": null,
   "metadata": {
    "collapsed": true
   },
   "outputs": [],
   "source": []
  }
 ],
 "metadata": {
  "kernelspec": {
   "display_name": "Python 2",
   "language": "python",
   "name": "python2"
  },
  "language_info": {
   "codemirror_mode": {
    "name": "ipython",
    "version": 2
   },
   "file_extension": ".py",
   "mimetype": "text/x-python",
   "name": "python",
   "nbconvert_exporter": "python",
   "pygments_lexer": "ipython2",
   "version": "2.7.10"
  }
 },
 "nbformat": 4,
 "nbformat_minor": 0
}
