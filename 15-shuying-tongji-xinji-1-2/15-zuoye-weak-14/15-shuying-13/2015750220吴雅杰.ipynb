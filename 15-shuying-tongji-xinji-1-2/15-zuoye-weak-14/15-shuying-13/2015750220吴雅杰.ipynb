{
 "cells": [
  {
   "cell_type": "markdown",
   "metadata": {},
   "source": [
    "**数学与应用数学|班**"
   ]
  },
  {
   "cell_type": "markdown",
   "metadata": {},
   "source": [
    "**2015750220*"
   ]
  },
  {
   "cell_type": "markdown",
   "metadata": {},
   "source": [
    "5"
   ]
  },
  {
   "cell_type": "markdown",
   "metadata": {},
   "source": [
    "**解：**$\\because A$是$n\\times n$阶常数矩阵，"
   ]
  },
  {
   "cell_type": "markdown",
   "metadata": {},
   "source": [
    "$\\therefore$方程$x'=Ax$的基解矩阵$\\Phi(t)$满足$$\\frac{d\\Phi(t)}{dt}=A\\cdot\\Phi(t)$$解得$\\Phi(t)=e^{At},\\because\\Phi(t)$是指数型的，则由指数型函数的特点易知：$$\\Phi^{-1}(t)=e^{At}$$$\\therefore$$$\\Phi(t)\\Phi^{-1}(t_0)=e^{At}e^{-At}=e^{A(t-t_0)}=\\Phi(t-t_0)$$"
   ]
  },
  {
   "cell_type": "markdown",
   "metadata": {},
   "source": [
    "10"
   ]
  },
  {
   "cell_type": "markdown",
   "metadata": {},
   "source": [
    "(2)**解：**"
   ]
  },
  {
   "cell_type": "markdown",
   "metadata": {},
   "source": [
    "齐次方程$x'''-8x=0$的特征方程为$\\lambda^3-8=0$"
   ]
  },
  {
   "cell_type": "markdown",
   "metadata": {},
   "source": [
    "解得：$$\\lambda_1=-1-\\sqrt{3}i,\\lambda_2=-1+\\sqrt{3}i,\\lambda_3=2$$$\\therefore$齐次方程的通解为$$C_1e^{2t}+C_2e^{-t}cos\\sqrt{3}t+C_3e^{-t}sin\\sqrt{3}t$$令原方程的一个特解为$x_1=Ate^{2t}$将其带入原方程，可得：$A=\\frac{1}{12}$得其特解为$x_1=\\frac{1}{12}e^{2t}$,则原方程的通解为$$x(t)=C_1e^{2t}+C_2e^{-t}cos\\sqrt{3}t+C_e^{-t}sin\\sqrt{3}t+\\frac{1}{12}te^{2t}$$"
   ]
  },
  {
   "cell_type": "markdown",
   "metadata": {},
   "source": [
    "1"
   ]
  },
  {
   "cell_type": "markdown",
   "metadata": {},
   "source": [
    "（2）**解：**"
   ]
  },
  {
   "cell_type": "markdown",
   "metadata": {},
   "source": [
    "由（1）的结论，设$x_1=c_2=1$则$$\\begin{aligned}&exp(2A)=exp(A+A)=expA\\cdot expA=(expA)^2\\\\&exp(3A)=exp(A+2A)=expA\\cdot exp2A=(expA)^3\\\\&\\cdots\\\\&exp(kA)=exp[A+(k-1)A]=(expA)^k\\\\\\end{aligned}$$当$k=0$时，$$\\begin{aligned}&右端=(expA)^k=(expA)^0=E\\\\&左端=expkA=exp0=E\\\\\\end{aligned}$$即当$k=0$时等式成立"
   ]
  },
  {
   "cell_type": "markdown",
   "metadata": {},
   "source": [
    "当$k=1$时，易知左边=$expA$=右边，等式成立。"
   ]
  },
  {
   "cell_type": "markdown",
   "metadata": {},
   "source": [
    "由数学归纳法可知，该等式对所有非负整数成立。"
   ]
  },
  {
   "cell_type": "markdown",
   "metadata": {},
   "source": [
    "当$k$为负整数时，$$(expA)^k[(expA)^{-1}]^{-k}=[exp(-A)]^{-k}=exp(-k)(-A)=expkA$$即，当$k$是负整数时等式依然成立。"
   ]
  },
  {
   "cell_type": "markdown",
   "metadata": {},
   "source": [
    "综上所述，对任意整数$k$，都有$(expA)^k=expkA$"
   ]
  },
  {
   "cell_type": "markdown",
   "metadata": {},
   "source": [
    "# <font color='red'>A 9/12"
   ]
  },
  {
   "cell_type": "markdown",
   "metadata": {},
   "source": []
  },
  {
   "cell_type": "markdown",
   "metadata": {},
   "source": []
  }
 ],
 "metadata": {
  "kernelspec": {
   "display_name": "SageMath 7.3",
   "language": "",
   "name": "sagemath"
  },
  "language_info": {
   "codemirror_mode": {
    "name": "ipython",
    "version": 2
   },
   "file_extension": ".py",
   "mimetype": "text/x-python",
   "name": "python",
   "nbconvert_exporter": "python",
   "pygments_lexer": "ipython2",
   "version": "2.7.10"
  }
 },
 "nbformat": 4,
 "nbformat_minor": 0
}
