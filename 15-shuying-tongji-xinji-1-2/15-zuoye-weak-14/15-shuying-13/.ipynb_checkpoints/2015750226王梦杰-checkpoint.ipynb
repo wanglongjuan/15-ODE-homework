{
 "cells": [
  {
   "cell_type": "markdown",
   "metadata": {},
   "source": [
    "5 设$\\phi(t)为方程x'=Ax(A为n\\times n常数矩阵)的标准基解矩阵（即\\phi(0)=E）,证明：$\n",
    "\n",
    "$$\n",
    "\\phi(t)\\phi^{-1}(t_0)=\\phi(t-t_0),其中t_0为某一值\n",
    "$$"
   ]
  },
  {
   "cell_type": "markdown",
   "metadata": {},
   "source": [
    "解 由题可知\n",
    "\n",
    "$\\phi(t)为方程x'=Ax(A为n\\times n常数矩阵)的标准基解矩阵$\n",
    "\n",
    "则\n",
    "\n",
    "$$\n",
    "\\frac{d\\phi(t)}{dt}=A\\phi(t)\n",
    "$$\n",
    "\n",
    "易得方程的解为\n",
    "\n",
    "$$\n",
    "\\phi(t)=e^{At}\n",
    "$$\n",
    "\n",
    "则$\\phi^{-1}(t)存在且等于e^{-At}$\n",
    "\n",
    "$$\\phi(t)\\phi^{-1}(t_0)=e^{At}e^{-At_0}=\\phi(t-t_0)$$\n",
    "\n",
    "命题得证"
   ]
  },
  {
   "cell_type": "markdown",
   "metadata": {},
   "source": [
    "10 试求下列方程的通解\n",
    "\n",
    "$$(2)x'''-8x=e^{2t}$$"
   ]
  },
  {
   "cell_type": "markdown",
   "metadata": {},
   "source": [
    "解 由题可知\n",
    "\n",
    "齐次方程的特征方程为\n",
    "\n",
    "$$\\lambda^3-8\\lambda=0$$\n",
    "\n",
    "解得\n",
    "\n",
    "$$\\lambda_1=2,\\lambda_2=-1+\\sqrt{3}i,\\lambda_3=-1-\\sqrt{3}i$$\n",
    "\n",
    "所以齐次方程的通解为\n",
    "\n",
    "$$x=C_1e^{2t}+C_2e^{-t}cos\\sqrt{3}t+C_3e^{-t}sin\\sqrt{-3}t$$\n",
    "\n",
    "原方程的特解为$$x_1=Ate^{2t},代入原方程得$$\n",
    "\n",
    "$$A=\\frac{1}{12}$$\n",
    "\n",
    "则特解为$x_1=\\frac{1}{12}te^{2t}$,原方程通解为\n",
    "\n",
    "$$x=C_1e^{2t}+C_2e^{-t}cos\\sqrt{3}t+C_3e^{-t}sin\\sqrt{-3}t+\\frac{1}{12}te^{2t}$$"
   ]
  },
  {
   "cell_type": "markdown",
   "metadata": {},
   "source": [
    "1 $假设A是n\\times n矩阵$，试证：\n",
    "\n",
    "（2）对任意整数k,都有\n",
    "\n",
    "$$(exp A)^k=exp kA$$\n",
    "\n",
    "$$(当k是负整数时，规定（exp A）^k=[(exp A)^{-1}]^{-k})$$"
   ]
  },
  {
   "cell_type": "markdown",
   "metadata": {},
   "source": [
    "证明  由题可知\n",
    "\n",
    "$对于任意的常数C_1,C_2,都有$\n",
    "\n",
    "$$exp(c_1A+c_2A)=expc_1A+expc_2A$$\n",
    "\n",
    "则\n",
    "\n",
    "$$exp(2A)=expA\\cdot expA=(expA)^2$$\n",
    "\n",
    "$$exp(3A)=exp2A\\cdot expA=(expA)^3$$\n",
    "\n",
    "$$……$$\n",
    "\n",
    "$$exp(kA)=exp(k-1)A\\cdot expA=(expA)^k$$\n",
    "\n",
    "当$k=0$时，\n",
    "\n",
    "$$exp0=(expA)^0=E$$\n",
    "\n",
    "则当$k为非负整数时$,$$(exp A)^k=exp kA成立$$\n",
    "\n",
    "当k为负整数时\n",
    "\n",
    "$$(exp A)^k[(exp A)^{-1}]^{-k}=[exp(-A)]^{-k}=expkA$$\n",
    "\n",
    "即对于任意整数k，都有\n",
    "\n",
    "$$(exp A)^k=exp kA$$"
   ]
  },
  {
   "cell_type": "markdown",
   "metadata": {},
   "source": [
    "5 试求方程组$x'=Ax$的基解矩阵，并求满足初值条件$\\psi(0)=\\eta$的解$\\psi(t)$\n",
    "\n",
    "(2)\n",
    "A=\n",
    "$ \\begin{bmatrix} 1 & 0 & 3\\\\ 8 & 1 &{-1}\\\\ 5&1&{-1}\\\\ \\end{bmatrix} $,$\\eta=\\begin{bmatrix} 0\\\\ {-2}\\\\{-7}\\\\ \\end{bmatrix}$\n",
    "\n"
   ]
  },
  {
   "cell_type": "markdown",
   "metadata": {},
   "source": [
    " 解 由题可知\n",
    " \n",
    " A对应的特征方程为\n",
    " \n",
    " $$\n",
    " det(\\lambda E-A)=\\begin{vmatrix} \\lambda-1 & 0 & {-3}\\\\ {-8} & \\lambda-1 &{1}\\\\ {-5}&{-1}&{\\lambda+1}\\\\ \\end{vmatrix} $$\n",
    " \n",
    " $$=(\\lambda-3)(\\lambda^2-4\\lambda-3)=0$$\n",
    " \n",
    " 解得\n",
    " \n",
    " $$\\lambda_1=-3,\\lambda_2=2+\\sqrt{7},\\lambda_3=2-\\sqrt{7}$$\n",
    " \n",
    " 特征值对应的特征向量为\n",
    " \n",
    "$$x=\\alpha[3 -7 -4]^T$$\n",
    " \n",
    "$$x=\\beta[3 4\\sqrt{7}-5 \\sqrt{7}+1]^T$$\n",
    "  \n",
    "$$x=\\gamma[3 -4\\sqrt{7}-5 -\\sqrt{7}+1]^T$$\n",
    "\n",
    "令$\\alpha=\\beta=\\gamma=1时，得到x'=Ax的一个基解矩阵$\n",
    "\n",
    "$$\\phi(t)=\\begin{bmatrix} 3e^{-3t}&3e^{2+\\sqrt{7}}& 3e^{(2-\\sqrt{7})t}\\\\ {-7}e^{-3t} & (4\\sqrt{7}-5 )e^{(2+\\sqrt{7})t}&(-4\\sqrt{7}-5)e^{(2-\\sqrt{7})t}\\\\ {-4}e^{-3t}&(\\sqrt{7}+1)e^{(2+\\sqrt{7})t}&(-\\sqrt{7}+1)e^{(2-\\sqrt{7})t}\\\\ \\end{bmatrix}$$\n",
    "\n",
    "而满足初值条件$\\psi(0)=$\\eta=\\begin{bmatrix} 0\\\\ {-2}\\\\{-7}\\\\ \\end{bmatrix}的解为$\n",
    "\n",
    "$$\n",
    "\\psi(t)=\\phi(t)\\phi^{-1}(0)\\eta=expAt\\times \\eta$$"
   ]
  },
  {
   "cell_type": "markdown",
   "metadata": {},
   "source": [
    "\n",
    "则\n",
    "\n",
    "$$\n",
    "expAt=\\phi(t)\\phi^{-1}(0)=\n",
    "\\frac{1}{108\\sqrt{7}}\\begin{bmatrix} 3e^{-3t}&3e^{2+\\sqrt{7}}& 3e^{(2-\\sqrt{7})t}\\\\ {-7}e^{-3t} & (4\\sqrt{7}-5 )e^{(2+\\sqrt{7})t}&(-4\\sqrt{7}-5)e^{(2-\\sqrt{7})t}\\\\ {-4}e^{-3t}&(\\sqrt{7}+1)e^{(2+\\sqrt{7})t}&(-\\sqrt{7}+1)e^{(2-\\sqrt{7})t}\\\\ \\end{bmatrix}\\begin{vmatrix} 18\\sqrt{7} &6\\sqrt{7} & {-24}\\sqrt{7}\\\\ 27+9\\sqrt{7} &15-3\\sqrt{7} &12\\sqrt{7}-6\\\\ 9\\sqrt{7}-27&{-15-3\\sqrt{7}}&12\\sqrt{7}+6\\\\ \\end{vmatrix} =\\frac{1}{4\\sqrt{7}}[A_1 A_2 A_3]$$\n"
   ]
  },
  {
   "cell_type": "markdown",
   "metadata": {},
   "source": [
    "其中\n",
    "\n",
    "$$A_1=\n",
    " \\begin{bmatrix}  2\\sqrt{7}e^{-3t}+(3+\\sqrt{7})e^{(2+\\sqrt{7})t}+(-3+\\sqrt{7})e^{2-\\sqrt{7}t}\\\\  \\frac{-14}{3}\\sqrt{7}e^{-3t}+\\frac{13+7\\sqrt{7}}{3}e^{(2+\\sqrt{7})t}+\\frac{-13+7\\sqrt{7}}{3}e^{2-\\sqrt{7}t}\\\\  \\frac{-8}{3}\\sqrt{7}e^{-3t}+\\frac{10+4\\sqrt{7}}{3}e^{(2+\\sqrt{7})t}+\\frac{-10+4\\sqrt{7}}{3}e^{2-\\sqrt{7}t}\\\\ \\end{bmatrix}\n",
    " $$\n",
    " \n",
    "$$A_2=\n",
    " \\begin{bmatrix}  \\frac{2\\sqrt{7}}{3}e^{-3t}+\\frac{(5-\\sqrt{7})}{3}e^{(2+\\sqrt{7})t}+\\frac{(-5-\\sqrt{7})}{3}e^{2-\\sqrt{7}t}\\\\  \\frac{-14}{9}\\sqrt{7}e^{-3t}+\\frac{-53+25\\sqrt{7}}{9}e^{(2+\\sqrt{7})t}+\\frac{53+25\\sqrt{7}}{9}e^{2-\\sqrt{7}t}\\\\  \\frac{-8}{9}\\sqrt{7}e^{-3t}+\\frac{-2+4\\sqrt{7}}{9}e^{(2+\\sqrt{7})t}+\\frac{2+4\\sqrt{7}}{9}e^{2-\\sqrt{7}t}\\\\ \\end{bmatrix}\n",
    " $$ \n",
    " \n",
    " $$A_3=\n",
    " \\begin{bmatrix}  \\frac{8\\sqrt{7}}{9}e^{-3t}+\\frac{(-2+4\\sqrt{7})}{3}e^{(2+\\sqrt{7})t}+\\frac{(2+4\\sqrt{7})}{3}e^{2-\\sqrt{7}t}\\\\  \\frac{56}{9}\\sqrt{7}e^{-3t}+\\frac{122-28\\sqrt{7}}{9}e^{(2+\\sqrt{7})t}+\\frac{-122-28\\sqrt{7}}{9}e^{2-\\sqrt{7}t}\\\\  \\frac{32}{9}\\sqrt{7}e^{-3t}+\\frac{26+2\\sqrt{7}}{9}e^{(2+\\sqrt{7})t}+\\frac{-26+2\\sqrt{7}}{9}e^{2-\\sqrt{7}t}\\\\ \\end{bmatrix}\n",
    " $$ "
   ]
  },
  {
   "cell_type": "markdown",
   "metadata": {},
   "source": [
    "即解为\n",
    "\n",
    "$$\n",
    "\\phi(t)=\\frac{1}{4\\sqrt{7}}\n",
    "\\begin{bmatrix} \\frac{52\\sqrt7}{3}e^{-3t}+\\frac{4-26\\sqrt7}{3}e^{(2+\\sqrt7)t}+\\frac{-4-2\\sqrt7}{3}e^{(2+\\sqrt7)t}\\\\ \\frac{-364\\sqrt7}{9}e^{-3t}+\\frac{-748+146\\sqrt7}{9}e^{(2+\\sqrt7)t}+\\frac{748+146\\sqrt7}{9}e^{(2-\\sqrt7)t}\\\\ \\frac{-208\\sqrt7}{9}e6{-3t}+\\frac{-178-22\\sqrt7}{9}e^{(2+\\sqrt7)t}+\\frac{178-22\\sqrt7}{9}e^{(2-\\sqrt7)t}\\\\ \\end{bmatrix}\n",
    "$$"
   ]
  },
  {
   "cell_type": "markdown",
   "metadata": {
    "collapsed": true
   },
   "source": [
    "# <font color='red'>A 9/12"
   ]
  },
  {
   "cell_type": "code",
   "execution_count": null,
   "metadata": {
    "collapsed": true
   },
   "outputs": [],
   "source": []
  }
 ],
 "metadata": {
  "kernelspec": {
   "display_name": "SageMath 7.3",
   "language": "",
   "name": "sagemath"
  },
  "language_info": {
   "codemirror_mode": {
    "name": "ipython",
    "version": 2
   },
   "file_extension": ".py",
   "mimetype": "text/x-python",
   "name": "python",
   "nbconvert_exporter": "python",
   "pygments_lexer": "ipython2",
   "version": "2.7.10"
  }
 },
 "nbformat": 4,
 "nbformat_minor": 0
}
