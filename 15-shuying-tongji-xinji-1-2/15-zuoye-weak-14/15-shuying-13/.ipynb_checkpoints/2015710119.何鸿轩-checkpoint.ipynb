{
 "cells": [
  {
   "cell_type": "markdown",
   "metadata": {
    "collapsed": false
   },
   "source": [
    "## 1.求解下列方程"
   ]
  },
  {
   "cell_type": "markdown",
   "metadata": {},
   "source": [
    " $(2).xx''-(x')^2+(x')^3=0;$\n",
    " \n",
    " 解：令$x'=y$\n",
    " \n",
    " ∴$$xy\\frac{dy}{dx}=y^2(1-y)$$\n",
    " \n",
    " ∴$$\\frac{dy}{y(1-y)}=\\frac{dx}{x}或y=0 $$\n",
    " \n",
    " $(i)y=0$时$$x=c$$\n",
    " \n",
    " $(ii)y\\neq0时$$$\\ln \\frac{y}{1-y}=ln|x|+c$$\n",
    " \n",
    " $$y=\\frac{c|x|}{c|x|+1}=\\frac{dx}{dt}$$\n",
    " \n",
    " $$dt=(1+\\frac{1}{c|x|})dx$$\n",
    " \n",
    " ∴$$t=x+c_1\\ln|x|+c_2(c_1=\\frac{1}{c})$$\n",
    " \n",
    " 综上所述$$x=c 或t=x+c_1\\ln|x|+c_2$$"
   ]
  },
  {
   "cell_type": "markdown",
   "metadata": {},
   "source": [
    "$(4)x''+\\sqrt {1-(x')^2}=0$\n",
    "\n",
    "解：令$x'=y$\n",
    "\n",
    "$$y\\frac{dy}{dx}+\\sqrt{1-(x')^2}=0$$\n",
    "\n",
    "当$y^2=1$时.即$y=\\pm1$时\n",
    "\n",
    "$$\\frac{dx}{dt}=\\pm1$$\n",
    "\n",
    "$$x=\\pm t+c$$\n",
    "\n",
    "当$y^2\\neq1时$ $$\\frac{-y}{\\sqrt{1-y^2}}dy=dx$$\n",
    "\n",
    "$$\\sqrt{1-y^2}=x+c$$\n",
    "\n",
    "$$y=\\pm \\sqrt{-(x+c)^2+1}=\\frac{dx}{dt}$$\n",
    "\n",
    "$$dt=\\frac{dx}{\\pm \\sqrt{-(x+c)^2+1}}$$\n",
    "\n",
    "∴$$x=\\cos(t+c_1)+c_2\\\\或x=\\sin(t+c_1)+c_2$$\n",
    "\n",
    "综上所述：$$x=\\pm t+c\\\\或x=\\cos(t+c_1)+c_2\\\\或x=\\sin(t+c_1)+c_2$$"
   ]
  },
  {
   "cell_type": "markdown",
   "metadata": {},
   "source": [
    "(6)$x''-\\frac{1}{t}x'+(x')^2=0$\n",
    "\n",
    "解：令x'=ty\n",
    "\n",
    "$$x''=y+ty'$$\n",
    "\n",
    "原方程转化为：$$y'+ty^2=0$$\n",
    "\n",
    "$y=0$时:$$x=c$$\n",
    "\n",
    "$y\\neq0$时：$$\\frac{dy}{-y^2}=tdt$$\n",
    "\n",
    "$$\\frac{1}{y}=\\frac{t^2}{2}+c$$\n",
    "\n",
    "同乘$x'$:$$t=(\\frac{t^2}{2}+c)\\frac{dx}{dt}$$\n",
    "\n",
    "$$\\frac{2t}{t^2+2c}dt=dx$$\n",
    "\n",
    "$$\\ln(t^2+2c)=x+c_0$$\n",
    "\n",
    "$$e^x=c_1(t^2+c_2)(|c_1|=e^{-c_0},c_2=2c)$$\n",
    "\n",
    "综上所述：$$x=c\\\\或e^x=c_1(t^2+c_2)$$"
   ]
  },
  {
   "cell_type": "markdown",
   "metadata": {},
   "source": [
    "## 2.用幂级数解法求解下列方程："
   ]
  },
  {
   "cell_type": "markdown",
   "metadata": {},
   "source": [
    "$（2）(1-t)x''+x=0$\n",
    "\n",
    "解：设$x=a_0+a_1t+a_2t^2+\\cdots+a_nt^n+\\cdots $为方程的解\n",
    "\n",
    "$$x''=2a_2+6a_3t+12a_4t^2+\\cdots+n(n-1)a_nt^{n-2}+\\cdots$$\n",
    "\n",
    "代入方程得到：$$2a_2+a_0=0\\\\6a_3-2a_2+a_1=0\\\\12a_4-6a_3+a_2=0\\\\ \\cdots \\\\n(n-1)a_n-(n-1)(n-2)a_{n-1}+a_{n-2}=0$$\n",
    "\n",
    "其中$a_0,a_1$是任意的\n",
    "\n",
    "∴得到$$x=c_1(1-\\frac{t^2}{2!}-\\frac{t^3}{3!}-\\frac{t^4}{4!}-\\frac{2t^5}{5!}-\\cdots)+c_2(t-\\frac{t^3}{3!}-\\frac{2t^4}{4!}-\\frac{5t^5}{5!}-\\cdots)$$"
   ]
  },
  {
   "cell_type": "markdown",
   "metadata": {
    "collapsed": true
   },
   "source": [
    "## 2.将下面的初值问题化为与之等价的一阶方程组的初值问题："
   ]
  },
  {
   "cell_type": "markdown",
   "metadata": {},
   "source": [
    "$(3)\\begin{cases} x''+5y'-7x+6y=e^t,\\\\y''-2y+13y'-15x=\\cos t\\\\ \\end{cases}$,\n",
    "\n",
    "$x(0)=1,x'(0)=0,y(0)=0,y'(0)=1.$\n",
    "\n",
    "解：令$w_1=x,w_2=x',w_3=y,w_4=y'$\n",
    "\n",
    "∴$$\\begin{aligned} w'_1 &=w_2\\\\w'_2 &=-7w_1-6w_3-5w_4\\\\w'_3 &=w_4\\\\w'_4 &=15w_1+2w_3-13w_4 \\end{aligned}$$\n",
    "\n",
    "∴问题转化为：$$w'=\\begin{bmatrix} 0&1&0&0\\\\-7&0&-6&-5\\\\0&0&0&1\\\\15&0&2&-13 \\end{bmatrix}w+\\begin{bmatrix} 0\\\\e^t\\\\0\\\\ \\cos t \\end{bmatrix},w(0)=\\begin{bmatrix} 1\\\\0\\\\0\\\\1 \\end{bmatrix}$$"
   ]
  },
  {
   "cell_type": "markdown",
   "metadata": {},
   "source": [
    "## 3.试用逐步逼近法求方程组$$x'=\\begin{bmatrix} 0&1\\\\-1&0 \\end{bmatrix}x,$$满足初值条件$$x(0)=\\begin{bmatrix} 0\\\\1 \\end{bmatrix}$$的第三次近似解\n",
    "\n",
    "解：由题意得$x(0)=\\begin{bmatrix}0\\\\1\\end{bmatrix},A(t)=\\begin{bmatrix}0&1\\\\-1&0\\end{bmatrix},f(t)=0$\n",
    "\n",
    "$$\\begin{aligned} x_1(t) &=\\begin{bmatrix}0\\\\1\\end{bmatrix}+\\int_0^t\\begin{bmatrix}0&1\\\\-1&0\\end{bmatrix}\\begin{bmatrix}0\\\\1\\end{bmatrix}ds \\\\\n",
    "&=\\begin{bmatrix}0\\\\1\\end{bmatrix}+\\int_0^t \\begin{bmatrix}1\\\\0\\end{bmatrix}ds\\\\\n",
    "&=\\begin{bmatrix}t\\\\1\\end{bmatrix}\\end{aligned}$$\n",
    "\n",
    "$$\\begin{aligned} x_2(t) &=\\begin{bmatrix}0\\\\1\\end{bmatrix}+\\int_0^t\\begin{bmatrix}0&1\\\\-1&0\\end{bmatrix}\\begin{bmatrix}s\\\\1\\end{bmatrix}ds \\\\\n",
    "&=\\begin{bmatrix}0\\\\1\\end{bmatrix}+\\int_0^t \\begin{bmatrix}1\\\\-s\\end{bmatrix}ds\\\\\n",
    "&=\\begin{bmatrix}t\\\\-\\frac{t^2}{2}+1\\end{bmatrix}\\end{aligned}$$\n",
    "\n",
    "$$\\begin{aligned} x_3(t) &=\\begin{bmatrix}0\\\\1\\end{bmatrix}+\\int_0^t\\begin{bmatrix}0&1\\\\-1&0\\end{bmatrix}\\begin{bmatrix}s\\\\-\\frac{s^2}{2}+1\\end{bmatrix}ds \\\\\n",
    "&=\\begin{bmatrix}0\\\\1\\end{bmatrix}+\\int_0^t \\begin{bmatrix}-\\frac{s^2}{2}+1\\\\-s\\end{bmatrix}ds\\\\\n",
    "&=\\begin{bmatrix}-\\frac{t^3}{6}+t\\\\-\\frac{t^2}{2}+1\\end{bmatrix}\\end{aligned}$$\n",
    "\n",
    "∴第三次近似解为$$x_3(t)=\\begin{bmatrix}t-\\frac{t^3}{6}\\\\1-\\frac{t^2}{2}\\end{bmatrix}$$"
   ]
  },
  {
   "cell_type": "markdown",
   "metadata": {
    "collapsed": true
   },
   "source": [
    "# <font color='red'>A 9/12"
   ]
  },
  {
   "cell_type": "code",
   "execution_count": null,
   "metadata": {
    "collapsed": true
   },
   "outputs": [],
   "source": []
  }
 ],
 "metadata": {
  "kernelspec": {
   "display_name": "SageMath 7.3",
   "language": "",
   "name": "sagemath"
  },
  "language_info": {
   "codemirror_mode": {
    "name": "ipython",
    "version": 2
   },
   "file_extension": ".py",
   "mimetype": "text/x-python",
   "name": "python",
   "nbconvert_exporter": "python",
   "pygments_lexer": "ipython2",
   "version": "2.7.10"
  }
 },
 "nbformat": 4,
 "nbformat_minor": 0
}
