{
 "cells": [
  {
   "cell_type": "markdown",
   "metadata": {
    "collapsed": false
   },
   "source": [
    "### 试求下列方程的通解：  $x'''-8x=e^{2t}$\n",
    "\n",
    "解：对应齐次线性方程$x'''-8x=0$基本解组：\n",
    "\n",
    "$$x_1(t)=e^{2t},x_2(t)=e^{-t}\\cos \\sqrt{3}t,x_3(t)=e^{-t}\\sin \\sqrt{3}t$$\n",
    "\n",
    "$\\lambda=2$是特征方程的根\n",
    "\n",
    "设$$x=Ate^{2t}$$\n",
    "\n",
    "代入得$$A=\\frac{1}{12}$$\n",
    "\n",
    "通解：$$x=(c_1\\cos \\sqrt{3}t+c_2\\sin \\sqrt{3}t)e^{-t}+c_3e^{2t}+\\frac{1}{12}te^{2t}$$"
   ]
  },
  {
   "cell_type": "markdown",
   "metadata": {
    "collapsed": true
   },
   "source": [
    "### $1.$假设$\\mathbf{A}$ 是$n\\times n$矩阵，试证：对任意整数$k$，都有$$(\\exp \\mathbf{A})^k=\\exp  k\\mathbf{A}. \\\\当k是负整数时，规定（\\exp \\mathbf{A})^k=[(exp\\mathbf{A})^{-1}]^{-k}.)$$\n",
    "\n",
    "解：当$k\\geq 0$时\n",
    "\n",
    "$$\\begin{aligned}\n",
    "(\\exp \\mathbf{A})^k &=\\exp \\mathbf{A}\\cdot \\exp \\mathbf{A}\\cdot \\exp \\mathbf{A}\\cdots\\\\\n",
    "&=\\exp (\\mathbf{A}+\\mathbf{A}+\\cdots+\\mathbf{A}) \\\\  \n",
    "&=\\exp  k\\mathbf{A}\\\\\n",
    "\\end{aligned}$$\n",
    "\n",
    "当$k \\leq 0$时，$-k \\geq 0$\n",
    "\n",
    "$$\\begin{aligned}\n",
    "（\\exp \\mathbf{A})^k &=[(exp\\mathbf{A})^{-1}]^{-k}\\\\\n",
    "&=[(exp\\mathbf{-A})]^{-k}\\\\\n",
    "&=\\exp \\mathbf{(-A)}\\cdot \\exp \\mathbf{(-A)}\\cdot \\exp \\mathbf{(-A)}\\cdots\\\\\n",
    "&=\\exp  (-k)\\mathbf{(-A)}\\\\\n",
    "&=\\exp  k\\mathbf{A}\\end{aligned}$$\n",
    "\n",
    "证毕"
   ]
  },
  {
   "cell_type": "markdown",
   "metadata": {
    "collapsed": true
   },
   "source": [
    "### $5.$试求方程组 $\\mathbf{x'}=\\mathbf{Ax}$的基解矩阵，并求满足初值条件$\\mathbf{\\varphi}(0)=\\mathbf{\\eta}$ 的解 $\\mathbf{\\varphi}(t)$ $$(2) \\mathbf{A}=\\begin{bmatrix}1&0&3\\\\8&1&-1\\\\5&1&-1\\end{bmatrix},\\mathbf{\\eta}=\\begin{bmatrix}0\\\\-2\\\\-7\\end{bmatrix}$$\n",
    "\n",
    "解：由$det(\\lambda \\mathbf{E}-\\mathbf{A})=0$得\n",
    "\n",
    "$$\\lambda_1=-3,\\lambda_2=2+\\sqrt{7},\\lambda_3=2-\\sqrt{7}$$\n",
    "\n",
    "得基解矩阵$\\Phi(t)=\\begin{bmatrix}-3e^{-3t}&e^{(2+\\sqrt{7})t}&e^{(2-\\sqrt{7})t}\\\\7e^{-3t}&\\frac{4\\sqrt{7}-5}{3}e^{(2+\\sqrt{7})t}&\\frac{-4\\sqrt{7}-5}{3}e^{(2-\\sqrt{7})t}\\\\4e^{-3t}&\\frac{\\sqrt{7}+1}{3}e^{(2+\\sqrt{7})t}&\\frac{1-\\sqrt{7}}{3}e^{(2-\\sqrt{7})t}\\end{bmatrix}$\n",
    "\n",
    "所以\n",
    "\n",
    "$\\varphi (t)=\\frac{1}{4\\sqrt{7}}\\begin{bmatrix}\\frac{52\\sqrt{7}}{3}e^{-3t}+\\frac{4-26\\sqrt{7}}{3}e^{(2+\\sqrt{7})t}+\\frac{-4-26\\sqrt{7}}{3}e^{(2-\\sqrt{7})t}\\\\\\frac{-364\\sqrt{7}}{9}e^{-3t}+\\frac{-748+146\\sqrt{7}}{9}e^{(2+\\sqrt{7})t}+\\frac{748+146\\sqrt{7}}{9}e^{(2-\\sqrt{7})t}\\\\\\frac{-208\\sqrt{7}}{9}e^{-3t}+\\frac{-178-22\\sqrt{7}}{9}e^{(2+\\sqrt{7})t}+\\frac{178-22\\sqrt{7}}{9}e^{(2-\\sqrt{7})t}\\end{bmatrix}$"
   ]
  },
  {
   "cell_type": "markdown",
   "metadata": {},
   "source": [
    "### $6.$试求方程组 $\\mathbf{x'}=\\mathbf{Ax}+\\mathbf{f}(t)$的解$\\mathbf{\\varphi}(t):$\n",
    "$(2)$ $\\mathbf{\\varphi}(0)=\\mathbf{0},\\mathbf{A}=\\begin{bmatrix}0&1&0\\\\0&0&1\\\\-6&-11&-6\\end{bmatrix},\\mathbf{f}(t)=\\begin{bmatrix}0\\\\0\\\\e^{-t}\\end{bmatrix}$\n",
    "\n",
    "解：由$det(\\lambda \\mathbf{E}-\\mathbf{A})=0$得\n",
    "\n",
    "$$\\lambda_1=-1,\\lambda_2=-2,\\lambda_3=-3$$\n",
    "\n",
    "设$\\lambda_1$对应的特征向量为$v_1$\n",
    "\n",
    "$$(\\lambda_1 \\mathbf{E}-\\mathbf{A})v_1=0$$\n",
    "\n",
    "取$$v_1=\\begin{bmatrix}-1\\\\1\\\\-1\\end{bmatrix}$$\n",
    "\n",
    "同理取$$v_2=\\begin{bmatrix}-\\frac{1}{2}\\\\1\\\\-2\\end{bmatrix}$$\n",
    "\n",
    "$$v_3=\\begin{bmatrix}-\\frac{1}{3}\\\\1\\\\-3\\end{bmatrix}$$\n",
    "\n",
    "则$$\\Phi(t)=\\begin{bmatrix}-1&-\\frac{1}{2}&-\\frac{1}{3}\\\\1&1&1\\\\-1&-2&-3\\end{bmatrix}$$\n",
    "\n",
    "所以\n",
    "\n",
    "$$\\varphi (t)=\\begin{bmatrix}e^{-2t}-\\frac{1}{4}e^{-3t}-\\frac{3}{4}e^{-t}+\\frac{1}{2}te^{-t}\\\\-2e^{-2t}+\\frac{3}{4}e^{-3t}+\\frac{5}{4}e^{-t}-\\frac{1}{2}te^{-t}\\\\4e^{-2t}-\\frac{9}{4}e^{-3t}-\\frac{7}{4}e^{-t}+\\frac{1}{2}te^{-t}\\end{bmatrix}$$"
   ]
  },
  {
   "cell_type": "markdown",
   "metadata": {
    "collapsed": true
   },
   "source": [
    "# <font color='red'>A 9/12"
   ]
  },
  {
   "cell_type": "code",
   "execution_count": null,
   "metadata": {
    "collapsed": true
   },
   "outputs": [],
   "source": []
  }
 ],
 "metadata": {
  "kernelspec": {
   "display_name": "SageMath 7.3",
   "language": "",
   "name": "sagemath"
  },
  "language_info": {
   "codemirror_mode": {
    "name": "ipython",
    "version": 2
   },
   "file_extension": ".py",
   "mimetype": "text/x-python",
   "name": "python",
   "nbconvert_exporter": "python",
   "pygments_lexer": "ipython2",
   "version": "2.7.10"
  }
 },
 "nbformat": 4,
 "nbformat_minor": 0
}
