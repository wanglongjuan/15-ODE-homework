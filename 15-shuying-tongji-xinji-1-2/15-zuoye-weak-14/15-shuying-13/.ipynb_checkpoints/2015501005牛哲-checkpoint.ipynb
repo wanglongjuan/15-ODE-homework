{
 "cells": [
  {
   "cell_type": "markdown",
   "metadata": {
    "collapsed": false
   },
   "source": [
    "5.2\n",
    "\n",
    "5.\n",
    "证明：\n",
    "(1)f(t),f(t-t0)是基解矩阵\n",
    "(2)f(t)为方程x=Ax的解矩阵，所以f(t)f-1(t0)也是x=Ax的解矩阵，当t=t0,f(t0)f-1(t0)=E\n",
    "故由解的存在唯一性定理，得出f(t)f-1(t0)=f(t-t0)\n",
    "\n",
    "10.\n",
    "(2)\n",
    "解：易知对应方程基本解组为x1(t)=e^2t\n",
    "x2(t)=e^-t*cos 根号3*t,\n",
    "x3(t)=e^-t*sin 根号3*t\n",
    "所以k=2是方程特征根\n",
    "所以方程有形如x=Ate^2t的根\n",
    "代入得A=1/12\n",
    "通解则有x=(c1cos 根号3t+c2sin 根号3t)e^-t+c3e^2t+te^2t/12\n",
    "\n",
    "\n",
    "5.3\n",
    "1.\n",
    "(2)\n",
    "解：k>0,(expA)^k=expA*expA.....expA=exp(A+A+A...+A）=expkA\n",
    "k<0,-k>0,(expA)^k=[(expA)^-1]^-k=[exp(-A)]^-k=exp[(-A)(-k)]=(expkA)\n",
    "则任意k，都有此结论\n",
    "\n",
    "5.\n",
    "(2)\n",
    "解：由基解矩阵，所以得\n",
    "           52*根号7*e^-3t/3   + 4-26*根号7*e^(2+根号7)t/3    +-4-26*根号7*e^(2-根号7）t/3\n",
    "f(t)=1/4*根号7 [-364*根号7*e^-3t/9  + -748+146*根号7*e^(2+根号7)t/9 +748+146*根号7*e^(2-根号7)t/9]\n",
    "           -208*根号7*e^-3t/9  + -178-22*根号7*e^(2+根号7)t/9  +178-22*根号7*e^(2-根号7)t/9\n"
   ]
  },
  {
   "cell_type": "markdown",
   "metadata": {},
   "source": [
    "# <font color='red'>B  9/12"
   ]
  },
  {
   "cell_type": "code",
   "execution_count": null,
   "metadata": {
    "collapsed": true
   },
   "outputs": [],
   "source": []
  }
 ],
 "metadata": {
  "kernelspec": {
   "display_name": "Python 2",
   "language": "python",
   "name": "python2"
  },
  "language_info": {
   "codemirror_mode": {
    "name": "ipython",
    "version": 2
   },
   "file_extension": ".py",
   "mimetype": "text/x-python",
   "name": "python",
   "nbconvert_exporter": "python",
   "pygments_lexer": "ipython2",
   "version": "2.7.10"
  }
 },
 "nbformat": 4,
 "nbformat_minor": 0
}
