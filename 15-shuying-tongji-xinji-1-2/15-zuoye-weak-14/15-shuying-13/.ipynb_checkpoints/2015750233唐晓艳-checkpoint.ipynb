{
 "cells": [
  {
   "cell_type": "markdown",
   "metadata": {},
   "source": [
    "5.设$\\Phi(t)$为方程$x'=Ax$($A$为$n\\times n$常数矩阵)的标准基解矩阵(即$\\Phi(0)=E$),证明：$$\\Phi(t)\\Phi^{-1}(t_0)=\\Phi(t-t_0),$$其中$t_0$为某一值."
   ]
  },
  {
   "cell_type": "markdown",
   "metadata": {},
   "source": [
    "证明 $A$为$n\\times n$常数矩阵\n",
    "\n",
    "所以方程$x'=Ax$的基解矩阵$\\Phi(t)$满足$$\\frac{d\\Phi(t)}{dt}=A\\bullet \\Phi(t)$$\n",
    "\n",
    "解得$$\\Phi(t)=e^{At}$$\n",
    "\n",
    "可见$\\Phi(t)$是指数型的\n",
    "\n",
    "又由函数的特点知$\\Phi^{-1}(t)=e^{-At}$\n",
    "\n",
    "从而命题得证"
   ]
  },
  {
   "cell_type": "markdown",
   "metadata": {},
   "source": [
    "10.试求下列方程的通解：\n",
    "\n",
    "(2)$x'''-8x=e^{2t}$;"
   ]
  },
  {
   "cell_type": "markdown",
   "metadata": {},
   "source": [
    "解 齐次方程$x'''-8x=0$的特征方程为$$\\lambda^3-8=0$$\n",
    "解得$$\\lambda_1=2,\\lambda_2=-1+\\sqrt{3}i,\\lambda_3=-1-\\sqrt{3}i$$\n",
    "所以齐次方程的通解为$$x=C_1e^{2t}+C_2e^{-t}\\cos\\sqrt{3}t+C_3e^{-t}\\sin\\sqrt{3}t$$\n",
    "令原方程的一个特解为$x_1=Ate^{2t}$,\n",
    "代入原方程得$$A=\\frac{1}{12}$$\n",
    "即得特解$$x_1=\\frac{1}{12}te^{2t}$$\n",
    "则原方程的通解为$$x=C_1e^{2t}+C_2e^{-t}\\cos\\sqrt{3}t+C_3e^{-t}\\sin\\sqrt{3}t+\\frac{1}{12}te^{2t}$$"
   ]
  },
  {
   "cell_type": "markdown",
   "metadata": {},
   "source": [
    "1.假设$A$是$n\\times n$矩阵，试证：\n",
    "\n",
    "(2)对任意整数$k$,都有$$(expA)^k=expkA.$$\n",
    "$$(当k是负整数时,规定(expA)^k=[(expA)^{-1}]^{-k}.)$$"
   ]
  },
  {
   "cell_type": "markdown",
   "metadata": {},
   "source": [
    "证明 对任意常数$C_1，C_2$都有$$exp(c_1A+c_2A)=expc_1A+expc_2A$$\n",
    "设$c_1=c_2=1$,则有\n",
    "$$\n",
    "\\begin{aligned}\n",
    "exp(2A)&=exp(A+A)=expA\\bullet expA=(expA)^2\\\\\n",
    "exp(3A)&=exp(A+2A)=expA\\bullet exp2A=(expA)^3\\\\\n",
    "\\cdots\\\\\n",
    "exp(kA)&=exp[A+(k-1)A]=(expA)^k\n",
    "\\end{aligned}\n",
    "$$\n",
    "当$k=0$时,$$\n",
    "\\begin{aligned}\n",
    "右边&=(expA)^k=(expA)^0=E\\\\\n",
    "左边&=exp(kA)=exp0=E\n",
    "\\end{aligned}\n",
    "$$\n",
    "即$k=0$时,等式成立.\n",
    "\n",
    "当$k=1$时,显然左边$=expA=$右边,等式成立.\n",
    "\n",
    "由数学归纳法,易知等式对所有非负整数成立.\n",
    "当$k$是负整数时,$$(expA)^k[(expA)^{-1}]^{-k}=[exp(-A)]^{-k}=exp(-k)(-A)=expkA$$\n",
    "即$k$是负整数时,等式成立.\n",
    "\n",
    "综上所述,对对任意整数$k$,都有$$(expA)^k=expkA.$$"
   ]
  },
  {
   "cell_type": "markdown",
   "metadata": {},
   "source": [
    "5.试求方程组$x'=Ax$的基解矩阵，并求满足初值条件$\\phi(0)=\\eta$的解$\\phi(t)$：\n",
    "\n",
    "(2)$$A=\n",
    "\\begin{bmatrix}\n",
    "1&0&3\\\\\n",
    "8&1&-1\\\\\n",
    "5&1&-1\n",
    "\\end{bmatrix},\n",
    "\\quad\n",
    "\\eta=\n",
    "\\begin{bmatrix}\n",
    "0\\\\\n",
    "-2\\\\\n",
    "-7\n",
    "\\end{bmatrix}\n",
    "$$"
   ]
  },
  {
   "cell_type": "markdown",
   "metadata": {},
   "source": [
    "解 特征方程为$$(\\lambda+3)(\\lambda^2-4\\lambda-3)=0$$\n",
    "解得特征值$$\\lambda_1=-3,\\lambda_2=2+\\sqrt{7},\\lambda_3=2-\\sqrt{7}$$\n",
    "对应的特征向量为$$\n",
    "\\begin{aligned}\n",
    "x&=\\alpha\n",
    "\\begin{bmatrix}\n",
    "3 &-7&-4\n",
    "\\end{bmatrix}^T\\\\\n",
    "x&=\\beta\n",
    "\\begin{bmatrix}\n",
    "3 &4\\sqrt{7}-5&\\sqrt{7}+1\n",
    "\\end{bmatrix}^T\\\\\n",
    "x&=\\gamma\n",
    "\\begin{bmatrix}\n",
    "3 &4-\\sqrt{7}-5&-\\sqrt{7}+1\n",
    "\\end{bmatrix}^T\n",
    "\\end{aligned}\n",
    "$$\n",
    "取$\\alpha=\\beta=\\gamma=1$,得方程组$x'=Ax$的一个基解矩阵$$\\Phi(t)=\n",
    "\\begin{bmatrix}\n",
    "3e^{-3t}&3e^{(2+\\sqrt{7})t}&3e^{(2-\\sqrt{7})t}\\\\\n",
    "-7e^{-3t}&(4\\sqrt{7}-5)e^{(2+\\sqrt{7})t}&-(4\\sqrt{7}+5)e^{(2-\\sqrt{7})t}\\\\\n",
    "5&1&-1\n",
    "\\end{bmatrix}\n",
    "$$\n",
    "满足初值条件${\\phi(0)}=\\eta=[0\\quad-2\\quad-7]^T$的解为\n",
    "$$\\varphi(t)=\\Phi(t)\\Phi^{-1}(0)\\eta=expAt\\bullet \\eta$$\n",
    "由教材中式(5.47)得$$\n",
    "\\begin{aligned}\n",
    "expAt&=\\Phi(t)\\Phi^{-1}(0)\\\\\n",
    "&=\\frac{1}{108\\sqrt{7}}\n",
    "\\begin{bmatrix}\n",
    "3e^{-3t}&3e^{(2+\\sqrt{7})t}&3e^{(2-\\sqrt{7})t}\\\\\n",
    "-7e^{-3t}&(4\\sqrt{7}-5)e^{(2+\\sqrt{7})t}&(-4\\sqrt{7}-5)e^{(2+\\sqrt{7})t}\\\\\n",
    "-4e^{-3t}&(\\sqrt{7}+1)e^{-3t}&(-\\sqrt{7}+1)e^{-3t}\n",
    "\\end{bmatrix}\n",
    "\\begin{bmatrix}\n",
    "18\\sqrt{7}&6\\sqrt{7}&-24\\sqrt{7}\\\\\n",
    "27+9\\sqrt{7}&15-3\\sqrt{7}&12\\sqrt{7}-6\\\\\n",
    "9\\sqrt{7}-27&-15-3\\sqrt{7}&12\\sqrt{7}-6\n",
    "\\end{bmatrix}\\\\\n",
    "&=\\frac{1}{4\\sqrt{7}}\n",
    "\\begin{bmatrix}\n",
    "A_1&A_2&A_3\n",
    "\\end{bmatrix}\n",
    "\\end{aligned}\n",
    "$$\n",
    "其中$$\n",
    "\\begin{aligned}\n",
    "A_1&=\n",
    "\\begin{bmatrix}\n",
    "2\\sqrt{7}e^{3t}+(3+\\sqrt{7})e^{(2+\\sqrt{7})t}+(-3+\\sqrt{7})e^{(2-\\sqrt{7})t}\\\\\n",
    "\\frac{-14\\sqrt{7}}{3}e^{3t}+\\frac{13+7\\sqrt{7}}{3}e^{(2+\\sqrt{7})t}+\\frac{-13+7\\sqrt{7}}{3}e^{(2+\\sqrt{7})t}\\\\\n",
    "\\frac{-8\\sqrt{7}}{3}e^{3t}+\\frac{10+4\\sqrt{7}}{3}e^{(2+\\sqrt{7})t}+\\frac{-10+4\\sqrt{7}}{3}e^{(2-\\sqrt{7})t}\n",
    "\\end{bmatrix}\\\\\n",
    "A_2&=\n",
    "\\begin{bmatrix}\n",
    "\\frac{2\\sqrt{7}}{3}e^{3t}+\\frac{(5-\\sqrt{7})}{3}e^{(2+\\sqrt{7})t}+\\frac{(-5-\\sqrt{7})}{3}e^{(2-\\sqrt{7})t}\\\\\n",
    "\\frac{-14\\sqrt{7}}{9}e^{3t}+\\frac{-53+25\\sqrt{7}}{9}e^{(2+\\sqrt{7})t}+\\frac{53+25\\sqrt{7}}{9}e^{(2+\\sqrt{7})t}\\\\\n",
    "\\frac{-8\\sqrt{7}}{9}e^{3t}+\\frac{-2+4\\sqrt{7}}{9}e^{(2+\\sqrt{7})t}+\\frac{2+4\\sqrt{7}}{9}e^{(2-\\sqrt{7})t}\n",
    "\\end{bmatrix}\\\\\n",
    "A_3&=\n",
    "\\begin{bmatrix}\n",
    "\\frac{-8\\sqrt{7}}{9}e^{3t}+\\frac{(-2+4\\sqrt{7})}{3}e^{(2+\\sqrt{7})t}+\\frac{(2+4\\sqrt{7})}{3}e^{(2-\\sqrt{7})t}\\\\\n",
    "\\frac{56\\sqrt{7}}{9}e^{3t}+\\frac{122-28\\sqrt{7}}{9}e^{(2+\\sqrt{7})t}+\\frac{-122-28\\sqrt{7}}{9}e^{(2+\\sqrt{7})t}\\\\\n",
    "\\frac{32\\sqrt{7}}{9}e^{3t}+\\frac{26+2\\sqrt{7}}{9}e^{(2+\\sqrt{7})t}+\\frac{-26+2\\sqrt{7}}{9}e^{(2-\\sqrt{7})t}\n",
    "\\end{bmatrix}\n",
    "\\end{aligned}\n",
    "$$\n",
    "计算得$$\\varphi(t)=\n",
    "\\frac{1}{4\\sqrt{7}}\n",
    "\\begin{bmatrix}\n",
    "\\frac{52\\sqrt7}{3}e^{-3t}+\\frac{4-26\\sqrt7}{3}e^{(2+\\sqrt7)t}+\\frac{-4-2\\sqrt7}{3}e^{(2+\\sqrt7)t}\\\\\n",
    "\\frac{-364\\sqrt7}{9}e^{-3t}+\\frac{-748+146\\sqrt7}{9}e^{(2+\\sqrt7)t}+\\frac{748+146\\sqrt7}{9}e^{(2-\\sqrt7)t}\\\\\n",
    "\\frac{-208\\sqrt7}{9}e6{-3t}+\\frac{-178-22\\sqrt7}{9}e^{(2+\\sqrt7)t}+\\frac{178-22\\sqrt7}{9}e^{(2-\\sqrt7)t}\\\\\n",
    "\\end{bmatrix}\n",
    "$$"
   ]
  },
  {
   "cell_type": "markdown",
   "metadata": {
    "collapsed": true
   },
   "source": [
    "# <font color='red'>A 9/12"
   ]
  },
  {
   "cell_type": "code",
   "execution_count": null,
   "metadata": {
    "collapsed": true
   },
   "outputs": [],
   "source": []
  }
 ],
 "metadata": {
  "kernelspec": {
   "display_name": "SageMath 7.3",
   "language": "",
   "name": "sagemath"
  },
  "language_info": {
   "codemirror_mode": {
    "name": "ipython",
    "version": 2
   },
   "file_extension": ".py",
   "mimetype": "text/x-python",
   "name": "python",
   "nbconvert_exporter": "python",
   "pygments_lexer": "ipython2",
   "version": "2.7.10"
  }
 },
 "nbformat": 4,
 "nbformat_minor": 0
}
