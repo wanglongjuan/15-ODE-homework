{
 "cells": [
  {
   "cell_type": "markdown",
   "metadata": {
    "collapsed": false
   },
   "source": [
    "$5.由于A是n×n常数矩阵，所以方程x'=Ax的基础矩阵\\Phi{t}满足\\frac{\\Phi{t}}{t}=A\\Phi{t}$"
   ]
  },
  {
   "cell_type": "markdown",
   "metadata": {},
   "source": [
    "$解得\\Phi{t}=e^(At),即\\Phi{t}是指数型的，又根据指数函数的特点可以知道\\Phi{t}^(-1)=e^(-At)$"
   ]
  },
  {
   "cell_type": "markdown",
   "metadata": {},
   "source": [
    "$从而\\Phi{t}\\Phi{t}^(-1)=e^(At)e^(-At)=e^A(t-t0)=\\Phi{t-t0}$"
   ]
  },
  {
   "cell_type": "markdown",
   "metadata": {},
   "source": [
    "$10.(2)易知对应的齐次线性方程x\"'-8x=0的基本解组为x1(t)=e^(2t),x2(t)=e^(-t)cos{\\sqrt(3)t},x3(t)=e^(2t)sin{\\sqrt(3)t}$"
   ]
  },
  {
   "cell_type": "markdown",
   "metadata": {},
   "source": [
    "$因为\\lambda=2是方程的特征根，故方程有形如x=Ate^(2t)的解，带入得A=\\frac{1}{12}$"
   ]
  },
  {
   "cell_type": "markdown",
   "metadata": {},
   "source": [
    "$于是原方程的通解为x=(c1cos(\\sqrt(3)t)+c2sin{\\sqrt(3)t)e^(-t)+c3e^(2t)+\\frac{1}{12}te^(2t)$"
   ]
  },
  {
   "cell_type": "markdown",
   "metadata": {},
   "source": []
  },
  {
   "cell_type": "markdown",
   "metadata": {},
   "source": [
    "$5.3.$"
   ]
  },
  {
   "cell_type": "markdown",
   "metadata": {},
   "source": [
    "$1(2)解：k＞0时，（\\expA)^k=\\expA*\\expA…\\expA=\\exp(A+A+…+A)=\\expkA.$"
   ]
  },
  {
   "cell_type": "markdown",
   "metadata": {},
   "source": [
    "$k＜0时，-k＞0，（\\expA)^k=[（\\expA)^{-1}]^{-k}=\\exp(-A)*\\exp(-A)…\\exp(-A)=\\exp[(-A)(-k)]=\\expkA,所以，对于任何k，都有（\\expA)^k=\\expkA.$"
   ]
  },
  {
   "cell_type": "markdown",
   "metadata": {},
   "source": [
    "$5.(2)解：基解矩阵为$"
   ]
  },
  {
   "cell_type": "markdown",
   "metadata": {},
   "source": [
    "    $\\phi{t}=\n",
    "    \\left[\n",
    "    \\begin{matrix}\n",
    "   -3e^{-3t}  e^{(2+\\sqrt{7})t                            e^{(2-\\sqrt{7})t\\\\\n",
    "    7e^{-3t}  \\frac{4\\sqrt{7}-5}{3}e^{(2+\\sqrt{7})t       \\frac{-4\\sqrt{7}-5}{3}e^{(2-\\sqrt{7})t\\\\\n",
    "    4e^{-3t}  \\frac{1+\\sqrt{7}}{3}{\\sqrte}^{(2+\\sqrt{7})t \\frac{1-\\sqrt{7}}{3}e^{(2-\\sqrt{7})t  \\\\\n",
    "    \\end{matrix}\n",
    "    \\right]\n",
    "    $"
   ]
  },
  {
   "cell_type": "markdown",
   "metadata": {},
   "source": [
    "$而满足初值条件\\psi{0}=\\eta=\n",
    "    $$\\phi{t}=\n",
    "    \\left[\n",
    "    \\begin{matrix}\n",
    "    0\\\\\n",
    "    -2\\\\\n",
    "    -7\\\\\n",
    "    \\end{matrix}\n",
    "    \\right]\n",
    "    $$"
   ]
  },
  {
   "cell_type": "markdown",
   "metadata": {},
   "source": [
    "$其解为\\psi{t}=\\expAt*\\eta。经计算得：$"
   ]
  },
  {
   "cell_type": "markdown",
   "metadata": {},
   "source": [
    "$$\\psi{t}=\\frac{1}{4\\sqrt{7}}\n",
    "    \\left[\n",
    "    \\begin{matrix}\n",
    "   \\frac{52\\sqrt{7}}{3}e^{-3t}+\\frac{4-26\\sqrt{7}}{3}e^{(2+\\sqrt{7})t+\\frac{-4-26\\sqrt{7}}{3}e^{(2-\\sqrt{7})t\\\\\n",
    "   \\frac{-364\\sqrt{7}}{9}e^{-3t}+\\frac{-748+146\\sqrt{7}}{9}e^{(2+\\sqrt{7})t+\\frac{748+146\\sqrt{7}}{9}e^{(2-\\sqrt{7})t\\\\\n",
    "   \\frac{-208\\sqrt{7}}{9}e^{-3t}+\\frac{-178-22\\sqrt{7}}{9}e^{(2+\\sqrt{7})t+\\frac{178-22\\sqrt{7}}{9}e^{(2-\\sqrt{7})t\\\\\n",
    "    \\end{matrix}\n",
    "    \\right]\n",
    " $$"
   ]
  },
  {
   "cell_type": "markdown",
   "metadata": {},
   "source": [
    "# <font color='red'>Ｂ 9/12"
   ]
  },
  {
   "cell_type": "markdown",
   "metadata": {},
   "source": []
  },
  {
   "cell_type": "markdown",
   "metadata": {},
   "source": []
  }
 ],
 "metadata": {
  "kernelspec": {
   "display_name": "Python 2",
   "language": "python",
   "name": "python2"
  },
  "language_info": {
   "codemirror_mode": {
    "name": "ipython",
    "version": 2
   },
   "file_extension": ".py",
   "mimetype": "text/x-python",
   "name": "python",
   "nbconvert_exporter": "python",
   "pygments_lexer": "ipython2",
   "version": "2.7.10"
  }
 },
 "nbformat": 4,
 "nbformat_minor": 0
}
