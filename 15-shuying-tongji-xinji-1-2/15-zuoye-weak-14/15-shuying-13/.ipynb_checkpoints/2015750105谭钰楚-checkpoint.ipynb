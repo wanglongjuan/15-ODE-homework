{
 "cells": [
  {
   "cell_type": "markdown",
   "metadata": {
    "collapsed": false
   },
   "source": [
    "5.2 五.解 易知$m(t)，m(t-t_0)$是基解矩阵。由于m(t)为方程$$x'=Ax$$的解矩阵，则$$m(t)m^{-1}(t_0)$$同样是上述方程的解矩阵，而当$t=t_0$时,有$$m(t_0)m^{-1}(t_0)=E,$m(t-t_0)=E$$,则由解的存在唯一性定理。得证"
   ]
  },
  {
   "cell_type": "markdown",
   "metadata": {},
   "source": [
    "十(2) 解 易知对应的齐线性方程为$$x''-8x=0$$的基本解组为$$x_1(t)=e^{2t},x_2(t)=e^{-t}sin\\sqrt{3}t.x_3(t)=e^{-t}cos\\sqrt{3}t.$$又有2是方程的特征根，故方程有形如$$x=Ate^{2t}$$的根。代入得$$A=\\frac{1}{12}$$\n",
    "故方程有通解$$x=(c_1cos\\sqrt{3}t+c_2sin\\sqrt{3}t)e^{-t}+c_3e^{2t}+\\frac{1}{12}te^{2t}$$"
   ]
  },
  {
   "cell_type": "markdown",
   "metadata": {},
   "source": [
    "5.3一(2)证明:$k>0时$ , $$(expA)^k=exp(A+A+A+...+A)=exp(kA)$$\n",
    "$k<0时，-k>0$则$$(expA)^k=(exp(-A))^{-k}=exp((-A)(-k))=exp(Ak)$$\n",
    "综上 恒成立"
   ]
  },
  {
   "cell_type": "markdown",
   "metadata": {},
   "source": [
    "五(2)解：由$det(mE-A)=0$得$$m_1=-3,m_2=2+\\sqrt{7},m_3=2-\\sqrt{7}$$\n",
    "解得基解矩阵$$H(t)=[-3e^{-3t}, e^{(2+\\sqrt{7})t} ,e^{(2-\\sqrt{7})t};7e^{-3t},  \\frac{4\\sqrt{7}-5}{3}e^{(2+\\sqrt{7})t},\\frac{-4\\sqrt{7}-5}{3}e^{(2-\\sqrt{7})t};4e^{-3t},\\frac{1+\\sqrt{7}}{3}e^{(2+\\sqrt{7})t},\\frac{1-\\sqrt{7}}{3}e^{(2-\\sqrt{7})t}]$$"
   ]
  },
  {
   "cell_type": "markdown",
   "metadata": {
    "collapsed": true
   },
   "source": [
    "# <font color='red'>A  9/12\n"
   ]
  },
  {
   "cell_type": "code",
   "execution_count": null,
   "metadata": {
    "collapsed": true
   },
   "outputs": [],
   "source": []
  }
 ],
 "metadata": {
  "kernelspec": {
   "display_name": "Python 2",
   "language": "python",
   "name": "python2"
  },
  "language_info": {
   "codemirror_mode": {
    "name": "ipython",
    "version": 2
   },
   "file_extension": ".py",
   "mimetype": "text/x-python",
   "name": "python",
   "nbconvert_exporter": "python",
   "pygments_lexer": "ipython2",
   "version": "2.7.10"
  }
 },
 "nbformat": 4,
 "nbformat_minor": 0
}
