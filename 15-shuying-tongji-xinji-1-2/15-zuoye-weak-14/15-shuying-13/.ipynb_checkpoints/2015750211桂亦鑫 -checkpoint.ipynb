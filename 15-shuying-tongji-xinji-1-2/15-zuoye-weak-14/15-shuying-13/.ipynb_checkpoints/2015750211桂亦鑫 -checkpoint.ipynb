{
 "cells": [
  {
   "cell_type": "markdown",
   "metadata": {},
   "source": [
    "# 第十四周   常微分作业  2015750211"
   ]
  },
  {
   "cell_type": "markdown",
   "metadata": {},
   "source": [
    "## P.217"
   ]
  },
  {
   "cell_type": "markdown",
   "metadata": {},
   "source": [
    "### 5.设$\\mathbf \\Phi(t)$为方程$\\mathbf x'=\\mathbf A\\mathbf x$($\\mathbf A$为n阶常数矩阵)的标准基解矩阵(即$\\mathbf \\Phi(t)=\\mathbf E$).证明:$$\\mathbf \\Phi(t)\\mathbf \\Phi^{-1}(t_0)=\\mathbf \\Phi(t-t_0)$$其中$t_0$为某一值.\n",
    "**(桂亦鑫2015750211)**"
   ]
  },
  {
   "cell_type": "markdown",
   "metadata": {},
   "source": [
    "### 解:我们可以验证$\\mathbf \\Phi(t)\\mathbf \\Phi^{-1}(t_0)$为题设方程的解:$$[\\mathbf \\Phi(t)\\mathbf \\Phi^{-1}(t_0)]'=\\mathbf \\Phi'(t)\\mathbf \\Phi^{-1}(t_0)=\\mathbf A\\mathbf \\Phi(t)\\mathbf \\Phi^{-1}(t_0) $$\n",
    "### 同时还满足初值条件$$\\mathbf \\Phi(t_0)\\mathbf \\Phi^{-1}(t_0)=\\mathbf E$$\n",
    "### 同理有$$\\mathbf \\Phi'(t-t_0)=\\mathbf A\\mathbf \\Phi(t-t_0)$$\n",
    "### 其亦满足初值条件$$\\mathbf \\Phi(t_0-t_0)=\\mathbf E$$\n",
    "### 由解的存在唯一性定理可知$$\\mathbf \\Phi(t)\\mathbf \\Phi^{-1}(t_0)=\\mathbf \\Phi(t-t_0)$$\n",
    "**(桂亦鑫 2015750211)**"
   ]
  },
  {
   "cell_type": "markdown",
   "metadata": {},
   "source": [
    "### 10.试求下列方程的通解:\n",
    "### (2)$x'''-8x=e^{2t};$\n",
    "**(桂亦鑫2015750211)**"
   ]
  },
  {
   "cell_type": "markdown",
   "metadata": {},
   "source": [
    "### 解:先求解该方程的基本解组可得$$\\lambda^3=8$$分解因式可得$$(\\lambda-2)(\\lambda^2+2\\lambda+4)=0$$所以我们可得其三个特征根为$$\\lambda_1=2,\\lambda_2=-1+\\sqrt 3i,\\lambda_3=-1-\\sqrt 3i$$"
   ]
  },
  {
   "cell_type": "markdown",
   "metadata": {
    "collapsed": true
   },
   "source": [
    "### 有可知$e^{2t}$对应特征值为2,所以可设其特解为$$x=cte^{2t}$$将其带入方程可有$$c(12e^{2t}+8te^{2t})-8cte^{2t}=e^{2t}$$解得$$c=\\frac{1}{12}$$\n",
    "### 所以方程通解为$$x=c_1e^{2t}+(c_2\\cos \\sqrt 3t+c_3\\sin \\sqrt 3t)e^{-1}+\\frac{1}{12}te^{2t}$$\n",
    "**(桂亦鑫2015750211)**"
   ]
  },
  {
   "cell_type": "markdown",
   "metadata": {
    "collapsed": true
   },
   "source": [
    "### 1.假设$\\mathbf A$是$n\\times n$矩阵,试证:\n",
    "### (2)对任意整数$k$,都有$$(exp\\mathbf A)^k=exp k\\mathbf A$$\n",
    "### (当$k$是负整数时,规定$(exp\\mathbf A)^k=[(exp \\mathbf A)^{-1}]^{-k}$)\n",
    "**(桂亦鑫2015750211)**"
   ]
  },
  {
   "cell_type": "markdown",
   "metadata": {},
   "source": [
    "### 解:当$k$为正整数时:因为当$k=1$时,命题显然成立.\n",
    "### 假设当$k\\leq n$时成立$$(exp\\mathbf A)^k=exp k\\mathbf A$$\n",
    "### 那么当$k=n+1$时,$n\\mathbf A·A=A·n\\mathbf A$.所以有$$(exp\\mathbf A)^n·exp\\mathbf A=exp (n+1)\\mathbf A$$\n",
    "### 所以对于所以正整数$k$皆成立$(exp\\mathbf A)^k=exp k\\mathbf A$\n",
    "### 当$k$为负整数时:同理可证.\n",
    "### 所以对于所有的整数$k$成立$$(exp\\mathbf A)^k=exp k\\mathbf A$$\n",
    "**(桂亦鑫2015750211)**"
   ]
  },
  {
   "cell_type": "markdown",
   "metadata": {},
   "source": [
    "### 5.试求方程组$\\mathbf x'=\\mathbf A\\mathbf x$的基解矩阵,并求满足初值条件$\\mathbf \\varphi(0)=\\mathbf\\eta$的解$\\mathbf \\varphi(t)$\n",
    "### (2)$\\mathbf A=\\begin{bmatrix}1&0&3\\\\8&1&-1\\\\5&1&-1\\end{bmatrix},\\mathbf \\eta=\\begin{bmatrix}0\\\\-2\\\\-7\\end{bmatrix}$\n",
    "**(桂亦鑫2015750211)**"
   ]
  },
  {
   "cell_type": "markdown",
   "metadata": {},
   "source": [
    "### 解:令$\\lambda\\mathbf E-\\mathbf A=0$可得$$(\\lambda+3)(\\lambda^2-4\\lambda-3)=0$$"
   ]
  },
  {
   "cell_type": "markdown",
   "metadata": {},
   "source": [
    "### 所以可得三个特征根$\\lambda_1=-3,\\lambda_2=2+\\sqrt{7},\\lambda_3=2-\\sqrt7$"
   ]
  },
  {
   "cell_type": "markdown",
   "metadata": {
    "collapsed": true
   },
   "source": [
    "### 其对应的特征向量为$$\\mathbf v_1=\\alpha\\begin{bmatrix}-3\\\\7\\\\4\\end{bmatrix},\\mathbf v_2=\\beta\\begin{bmatrix}3\\\\-5+4\\sqrt7\\\\1+\\sqrt7\\end{bmatrix},\\mathbf v_3=\\gamma\\begin{bmatrix}3\\\\-5-4\\sqrt7\\\\1-\\sqrt7\\end{bmatrix}$$"
   ]
  },
  {
   "cell_type": "markdown",
   "metadata": {},
   "source": [
    "### 因此我们可以得到基解矩阵$\\mathbf \\Phi(t)$,即为$$\\mathbf \\Phi(t)=\\begin{bmatrix}-3e^{-3t}&3e^{(2+\\sqrt{7})t}&3e^{(2-\\sqrt7)t}\\\\7e^{-3t}&(-5+4\\sqrt7)e^{(2+\\sqrt{7})t}&(-5-4\\sqrt7)e^{(2-\\sqrt7)t}\\\\4e^{-3t}&(1+\\sqrt7)e^{(2+\\sqrt{7})t}&(-5-4\\sqrt7)e^{(2-\\sqrt7)t}\\end{bmatrix}$$"
   ]
  },
  {
   "cell_type": "markdown",
   "metadata": {},
   "source": [
    "### 又可知$$exp\\mathbf At=\\mathbf \\Phi(t)\\mathbf \\Phi^{-1}(0)$$"
   ]
  },
  {
   "cell_type": "markdown",
   "metadata": {},
   "source": [
    "### 所以我们有$$exp\\mathbf At=\\begin{bmatrix}\\frac{1}{2}e^{-3t}+\\frac{3+\\sqrt7}{4\\sqrt7}e^{(2+\\sqrt{7})t}+\\frac{-3+\\sqrt7}{4\\sqrt7}e^{(2-\\sqrt{7})t}&\\frac{1}{6}e^{-3t}+\\frac{5-\\sqrt7}{12\\sqrt7}e^{(2+\\sqrt{7})t}+\\frac{-5-\\sqrt7}{12\\sqrt7}e^{(2-\\sqrt{7})t}&-\\frac{2}{3}e^{-3t}+\\frac{-1+2\\sqrt7}{6\\sqrt7}e^{(2+\\sqrt{7})t}+\\frac{1+2\\sqrt7}{6\\sqrt7}e^{(2-\\sqrt{7})t}\\\\-\\frac{7}{6}e^{-3t}+\\frac{13+7\\sqrt7}{12\\sqrt7}e^{(2+\\sqrt{7})t}+\\frac{-13+7\\sqrt7}{12\\sqrt7}e^{(2-\\sqrt{7})t}&-\\frac{7}{18}e^{-3t}+\\frac{-53+25\\sqrt7}{36\\sqrt7}e^{(2+\\sqrt{7})t}+\\frac{53+25\\sqrt7}{36\\sqrt7}e^{(2-\\sqrt{7})t}&\\frac{14}{9}e^{-3t}+\\frac{61-14\\sqrt7}{18\\sqrt7}e^{(2+\\sqrt{7})t}+\\frac{-61-14\\sqrt7}{18\\sqrt7}e^{(2-\\sqrt{7})t}\\\\-\\frac{2}{3}e^{-3t}+\\frac{5+2\\sqrt7}{6\\sqrt7}e^{(2+\\sqrt{7})t}+\\frac{-5+2\\sqrt7}{6\\sqrt7}e^{(2-\\sqrt{7})t}&-\\frac{2}{9}e^{-3t}+\\frac{-1+2\\sqrt7}{18\\sqrt7}e^{(2+\\sqrt{7})t}+\\frac{1+2\\sqrt7}{18\\sqrt7}e^{(2-\\sqrt{7})t}&\\frac{8}{9}e^{-3t}+\\frac{13+\\sqrt7}{18\\sqrt7}e^{(2+\\sqrt{7})t}+\\frac{-13+\\sqrt7}{18\\sqrt7}e^{(2-\\sqrt{7})t}\\end{bmatrix}$$"
   ]
  },
  {
   "cell_type": "markdown",
   "metadata": {},
   "source": [
    "### 所以满足题设条件的解为$$\\mathbf \\varphi(t)=[exp\\mathbf (At)]\\mathbf\\eta=\\begin{bmatrix}\\frac{13}{3}e^{-3t}+\\frac{2-13\\sqrt7}{6\\sqrt7}e^{(2+\\sqrt{7})t}+\\frac{-2-13\\sqrt7}{6\\sqrt7}e^{(2-\\sqrt{7})t}\\\\-\\frac{91}{9}e^{-3t}+\\frac{-374+73\\sqrt7}{18\\sqrt7}e^{(2+\\sqrt{7})t}+\\frac{374+73\\sqrt7}{18\\sqrt7}e^{(2-\\sqrt{7})t}\\\\-\\frac{52}{9}e^{-3t}+\\frac{-89-11\\sqrt7}{18\\sqrt7}e^{(2+\\sqrt{7})t}+\\frac{89-11\\sqrt7}{18\\sqrt7}e^{(2-\\sqrt{7})t}\\end{bmatrix}$$"
   ]
  },
  {
   "cell_type": "markdown",
   "metadata": {
    "collapsed": true
   },
   "source": [
    "# <font color='red'>A 9/12"
   ]
  },
  {
   "cell_type": "code",
   "execution_count": null,
   "metadata": {
    "collapsed": true
   },
   "outputs": [],
   "source": []
  }
 ],
 "metadata": {
  "kernelspec": {
   "display_name": "SageMath 7.3",
   "language": "",
   "name": "sagemath"
  },
  "language_info": {
   "codemirror_mode": {
    "name": "ipython",
    "version": 2
   },
   "file_extension": ".py",
   "mimetype": "text/x-python",
   "name": "python",
   "nbconvert_exporter": "python",
   "pygments_lexer": "ipython2",
   "version": "2.7.10"
  }
 },
 "nbformat": 4,
 "nbformat_minor": 0
}
