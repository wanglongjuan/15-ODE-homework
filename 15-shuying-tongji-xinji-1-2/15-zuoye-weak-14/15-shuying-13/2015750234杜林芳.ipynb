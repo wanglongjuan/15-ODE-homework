{
 "cells": [
  {
   "cell_type": "markdown",
   "metadata": {
    "collapsed": false
   },
   "source": [
    "习题5.2"
   ]
  },
  {
   "cell_type": "markdown",
   "metadata": {},
   "source": [
    "5.设$\\mathbf{ψ}(t）为方程\\mathbf{x}'=\\mathbf{A}\\mathbf{x}(\\mathbf{A}为n×n的常数矩阵）的标准基解矩阵（即\\mathbf{ψ}(0)=\\mathbf{E}),\n",
    "证明：$$\\mathbf{ψ}(t）\\mathbf{ψ}^{-1}(t_0）=\\mathbf{ψ}(t-t_0)$$\n",
    "其中t_0为某一值$"
   ]
  },
  {
   "cell_type": "markdown",
   "metadata": {},
   "source": [
    "解：由于$\\mathbf{A}是n×n的常数矩阵，所以方程\\mathbf{x}'=\\mathbf{A}\\mathbf{x}的基解矩阵\\mathbf{ψ}(t）$满足$$\n",
    "\\frac{d\\mathbf{ψ}(t）}{dt}=\\mathbf{A}\\mathbf{ψ}(t）,$$\n"
   ]
  },
  {
   "cell_type": "markdown",
   "metadata": {
    "collapsed": true
   },
   "source": [
    "解得$\\mathbf{ψ}(t)=$$\\mathbf{ψ}(t）\\mathbf{ψ}^{-1}(t_0）,可见\\mathbf{ψ}(t）是指数型的，又根据指数函数的特点知道\\mathbf{ψ}^{-1}(t）=e^{-At}$，\n",
    " 从而$$\\mathbf{ψ}(t）\\mathbf{ψ}^{-1}(t_0）=e^{At}e^{-A（t_0)}=e^{A(t-t_0)}=\\mathbf{ψ}(t-t_0)$$\n",
    "                                  "
   ]
  },
  {
   "cell_type": "markdown",
   "metadata": {
    "collapsed": true
   },
   "source": [
    "命题得证."
   ]
  },
  {
   "cell_type": "markdown",
   "metadata": {
    "collapsed": true
   },
   "source": [
    "10.试求下列方程的通解："
   ]
  },
  {
   "cell_type": "markdown",
   "metadata": {},
   "source": [
    "（2）$x'''-8x=e^{2t};$"
   ]
  },
  {
   "cell_type": "markdown",
   "metadata": {
    "collapsed": true
   },
   "source": [
    "解：$齐次方程x'''-8x=0的特征方程为$${\\lambda}^3-8=0$$\n",
    "解得：\\lambda_1=2,\\lambda_2=-1+\\sqrt{3}i,\\lambda_3=-1-\\sqrt{3}i$"
   ]
  },
  {
   "cell_type": "markdown",
   "metadata": {
    "collapsed": true
   },
   "source": [
    "所以其次方程的通解为$$x=c_1e^{2t}+c_2e^{-t}cos\\sqrt{3}t+c_3e^{-t}sin\\sqrt{3}t$$"
   ]
  },
  {
   "cell_type": "markdown",
   "metadata": {
    "collapsed": true
   },
   "source": [
    "令方程的一个特解为$x_1=Ate^{2t},带入元方程则得到$$A=\\frac{1}{12}$$\n",
    "所以原方程的通解为x(t)=c_1e^{2t}+c_2e^{-t}cos\\sqrt{3}t+c_3e^{-t}sin\\sqrt{3}t+\\frac{1}{12}te^{2t}$\n"
   ]
  },
  {
   "cell_type": "markdown",
   "metadata": {
    "collapsed": true
   },
   "source": [
    "习题5.3"
   ]
  },
  {
   "cell_type": "markdown",
   "metadata": {
    "collapsed": true
   },
   "source": [
    "1.假设A是n×n的矩阵，试正："
   ]
  },
  {
   "cell_type": "markdown",
   "metadata": {
    "collapsed": true
   },
   "source": [
    "（2）对任意整数k,都有\n",
    "$$(expA)^k=expkA$$"
   ]
  },
  {
   "cell_type": "markdown",
   "metadata": {
    "collapsed": true
   },
   "source": [
    "解：利用第一小题的结论，设$c_1=c_2=1$,则有$$\n",
    "\\begin{aligned}\n",
    "\\exp(2A)=exp(A+A)=expAexpA=(exp)^2\\\\\n",
    "\\exp(3A)=exp(A+2A)=expAexp2A=(exp)^3\\\\\n",
    "...\n",
    "\\exp(kA)=exp[A+(k-1)A]=(exp)^k\n",
    "\\end{aligned}$$"
   ]
  },
  {
   "cell_type": "markdown",
   "metadata": {
    "collapsed": true
   },
   "source": [
    "当k=0时，$$右边=(expA)^k=(expA)^0=E$$\n",
    "$$左边=expkA=exp0=E$$\n",
    "等式成立"
   ]
  },
  {
   "cell_type": "markdown",
   "metadata": {
    "collapsed": true
   },
   "source": [
    "当k=1时，显然左边=expA=右边，等式成立"
   ]
  },
  {
   "cell_type": "markdown",
   "metadata": {
    "collapsed": true
   },
   "source": [
    "由数学归纳法，易知等式对所有的非负整数成立"
   ]
  },
  {
   "cell_type": "markdown",
   "metadata": {
    "collapsed": true
   },
   "source": [
    "当k时负整数时$$(expA)^k[(expA)^{-1}]^{-k}=[exp(-A)]^{-k}=exp(kA)$$"
   ]
  },
  {
   "cell_type": "markdown",
   "metadata": {
    "collapsed": true
   },
   "source": [
    "即k为负整数时，等式也成立"
   ]
  },
  {
   "cell_type": "markdown",
   "metadata": {
    "collapsed": true
   },
   "source": [
    "综上所述，即证明了对任意的整数k，都有$(expA)^k=expkA$"
   ]
  },
  {
   "cell_type": "markdown",
   "metadata": {},
   "source": [
    "5.试求方程组$\\mathbf{x}'=\\mathbf{Ax}$的基解矩阵，并求满足初值条件$\\mathbf{\\phi}(0)=\\mathbf{η}的解\\mathbf{\\phi}(t)：$"
   ]
  },
  {
   "cell_type": "markdown",
   "metadata": {},
   "source": [
    "(2)\n",
    "$\n",
    "\\mathbf{A}=\n",
    "\\begin{bmatrix}\n",
    "1\\quad 0\\quad 3 \\\\\n",
    "8\\quad 1 \\quad-1 \\\\\n",
    "5\\quad 1\\quad  -1 \n",
    "\\end{bmatrix}\n",
    "$\n"
   ]
  },
  {
   "cell_type": "markdown",
   "metadata": {},
   "source": [
    "\n",
    "解：可知方程的一个基解矩阵为$$\n",
    "\\mathbf{\\beta}(t)=\n",
    "\\begin{bmatrix}\n",
    "3e^{-3t}\\quad 3e^{{2+\\sqrt{7}}t}\\quad 3e^{{2-\\sqrt{7}}t}\\\\\n",
    "-7e^{-3t}\\quad (4\\sqrt{7}-5)e^{{2+\\sqrt{7}}t}\\quad -(4\\sqrt{7}+5)e^{{2-\\sqrt{7}}t}\\\\\n",
    "-4e^{-3t}\\quad  (\\sqrt{7}+1)e^{{2+\\sqrt{7}}t}\\quad (1-\\sqrt{7}))e^{{2-\\sqrt{7}}t}\n",
    "\\end{bmatrix}$$"
   ]
  },
  {
   "cell_type": "markdown",
   "metadata": {
    "collapsed": true
   },
   "source": [
    "而满足初值条件$\\mathbf{\\phi}(0)=\\mathbf{η}=[0\\quad -2\\quad -7]^T的解为$$\n",
    "\\mathbf{\\phi}(t)=\\mathbf{\\beta}(t)\\mathbf{\\beta}^{-1}(0)\\mathbf{η}=exp\\mathbf{A}t\\mathbf{η}$"
   ]
  },
  {
   "cell_type": "markdown",
   "metadata": {},
   "source": [
    "经过计算有$$\n",
    "\\mathbf{\\phi}(t)=\\frac{1}{4\\sqrt{7}}\n",
    "\\begin{bmatrix}\n",
    "\\frac{52\\sqrt{7}}{3}e^{-3t}+\\frac{4-26\\sqrt{7}}{3}e^{{2+\\sqrt{7}}t}+\\frac{-4-2\\sqrt{7}}{3}e^{{2+\\sqrt{7}}t}\\\\\n",
    "\\frac{-364\\sqrt{7}}{9}e^{-3t}+\\frac{-748+146\\sqrt{7}}{9}e^{{2+\\sqrt{7}}t}+\\frac{748+146\\sqrt{7}}{9}e^{{2-\\sqrt{7}}t}\\\\\n",
    "\\frac{-208\\sqrt{7}}{9}e^{-3t}+\\frac{-178-22\\sqrt{7}}{9}e^{{2+\\sqrt{7}}t}+\\frac{178-22\\sqrt{7}}{9}e^{{2-\\sqrt{7}}t} \n",
    "\\end{bmatrix}\n",
    "$$"
   ]
  },
  {
   "cell_type": "markdown",
   "metadata": {
    "collapsed": true
   },
   "source": [
    "# <font color='red'>A 9/12"
   ]
  },
  {
   "cell_type": "code",
   "execution_count": null,
   "metadata": {
    "collapsed": true
   },
   "outputs": [],
   "source": []
  }
 ],
 "metadata": {
  "kernelspec": {
   "display_name": "Python 2",
   "language": "python",
   "name": "python2"
  },
  "language_info": {
   "codemirror_mode": {
    "name": "ipython",
    "version": 2
   },
   "file_extension": ".py",
   "mimetype": "text/x-python",
   "name": "python",
   "nbconvert_exporter": "python",
   "pygments_lexer": "ipython2",
   "version": "2.7.10"
  }
 },
 "nbformat": 4,
 "nbformat_minor": 0
}
