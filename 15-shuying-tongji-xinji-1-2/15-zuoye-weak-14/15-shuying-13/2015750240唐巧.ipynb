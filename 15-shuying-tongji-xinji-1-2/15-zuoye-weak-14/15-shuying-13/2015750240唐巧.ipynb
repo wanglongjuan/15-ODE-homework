{
 "cells": [
  {
   "cell_type": "markdown",
   "metadata": {},
   "source": [
    "第十四周作业"
   ]
  },
  {
   "cell_type": "markdown",
   "metadata": {},
   "source": [
    "5.设$\\mathbf{\\Phi}(t)$为方程$\\mathbf{x}'=\\mathbf{Ax}(\\mathbf{A}$为$n\\times n$常数矩阵)的标准基解矩阵（即$\\mathbf{\\Phi}(0)=\\mathbf{E}$)，证明：\n",
    "\n",
    "$$\\mathbf{\\Phi}(t)\\mathbf{\\Phi}^{-1}(t_0)=\\mathbf{\\Phi}(t-t_0),$$\n",
    "\n",
    "其中$t_0$为某一值."
   ]
  },
  {
   "cell_type": "markdown",
   "metadata": {},
   "source": [
    "证明：因为$\\mathbf{A}$为$n\\times n$常数矩阵，而$\\mathbf{\\Phi}(t)$为方程$\\mathbf{x}'=\\mathbf{Ax}$的标准基解矩阵,\n",
    "\n",
    "因此可以得到$$\\frac{d\\mathbf{\\Phi}(t)}{dt}=\\mathbf{A}\\mathbf{\\Phi}(t)$$\n",
    "\n",
    "积分得到$$In|\\mathbf{\\Phi}(t)|=\\mathbf{A}t$$\n",
    "\n",
    "解得$\\mathbf{\\Phi}(t)=e^{\\mathbf{A}t}$,可知$\\mathbf{\\Phi}(t)$为指数函数，由指数函数的性质得到$\\mathbf{\\Phi}^{-1}(t)=e^{-\\mathbf{A}t}$,\n",
    "\n",
    "因此有$$\\mathbf{\\Phi}(t)\\mathbf{\\Phi}^{-1}(t_0)=e^{\\mathbf{A}t}e^{-\\mathbf{A}t_0}=e^{\\mathbf{A}(t-t_0)}=\\mathbf{\\Phi}(t-t_0).$$\n",
    "\n",
    "即可证的$$\\mathbf{\\Phi}(t)\\mathbf{\\Phi}^{-1}(t_0)=\\mathbf{\\Phi}(t-t_0)$$\n"
   ]
  },
  {
   "cell_type": "markdown",
   "metadata": {
    "collapsed": true
   },
   "source": [
    "10.试求下列方程的通解.\n",
    "\n",
    "(2)$x'''-8x=e^{2t}$"
   ]
  },
  {
   "cell_type": "markdown",
   "metadata": {},
   "source": [
    "解：原方程对应齐次方程的特征方程为$\\lambda^3-8=0$，解得\n",
    "\n",
    "$$\\lambda_1=2,\\lambda_2=-1+\\sqrt{3}i,\\lambda_3=-1-\\sqrt{3}i$$\n",
    "\n",
    "因此齐次方程的通解为$$x=c_1e^{2t}+c_2e^{-t}\\cos\\sqrt{3}t+c_3e^{-t}\\sin\\sqrt{3}t$$\n",
    "\n",
    "令原方程的一个特解为$x_1=Ate^{2t}$,代入原方程得到\n",
    "\n",
    "$$4Ae^{2t}+4Ae^{2t}+8Ate^{2t}+4Ae^{2t}-8Ate^{2t}=e^{2t}$$\n",
    "\n",
    "得到$$A=\\frac{1}{12}$$\n",
    "\n",
    "得到方程的特解为$x_1=\\frac{1}{12}te^{2t}$,\n",
    "\n",
    "因此原方程的通解为$$x=c_1e^{2t}+c_2e^{-t}\\cos\\sqrt{3}t+c_3e^{-t}\\sin\\sqrt{3}t+\\frac{1}{12}te^{2t}$$\n",
    "\n"
   ]
  },
  {
   "cell_type": "markdown",
   "metadata": {},
   "source": [
    "1.假设$\\mathbf{A}$是$n\\times n$矩阵，试证：\n",
    "\n",
    "（2）对任意整数$k$，都有$$(exp\\mathbf{A})^k=expk\\mathbf{A}$$\n",
    "\n",
    "(当$k$是负整数时，规定$(exp\\mathbf{A})^k=[(exp\\mathbf{A})^{-1}]^{-k}.)$"
   ]
  },
  {
   "cell_type": "markdown",
   "metadata": {},
   "source": [
    "证明：由已知得到对于任意的常数$c_1,c_2$有$exp(c_1\\mathbf{A}+c_2\\mathbf{A})=exp c_1\\mathbf{A}\\bullet exp c_2\\mathbf{A}$,若有$c_1=c_2=1$,有\n",
    "\n",
    "$$exp(2\\mathbf{A})=exp(\\mathbf{A}+\\mathbf{A})=exp\\mathbf{A}\\bullet exp\\mathbf{A}=(exp\\mathbf{A})^2,$$\n",
    "\n",
    "$$exp(3\\mathbf{A})=exp(\\mathbf{A}+2\\mathbf{A})=exp\\mathbf{A}\\bullet exp 2\\mathbf{A}=(exp\\mathbf{A})^3,$$\n",
    "\n",
    "$$\\cdots$$\n",
    "\n",
    "$$exp(k\\mathbf{A})=exp(\\mathbf{A}+(k-1)\\mathbf{A})=exp\\mathbf{A}\\bullet exp(k-1)\\mathbf{A}=(exp\\mathbf{A})^k,$$\n",
    "\n",
    "当$k=0$时，右边=$(exp\\mathbf{A})^k=(exp\\mathbf{A})^0=\\mathbf{E}$,左边$=exp(k\\mathbf{A})=exp(0\\mathbf{A})=\\mathbf{E}$\n",
    "\n",
    "当$k=1$时，右边=$exp\\mathbf{A}=$=左边，等式成立.\n",
    "\n",
    "由数学归纳法，可知等式对于任意的非负整数都成立.\n",
    "\n",
    "而当$k$取负整数时，有\n",
    "\n",
    "$$(exp\\mathbf{A})^k[(exp\\mathbf{A}^{-1}]^{-k}=[exp(-\\mathbf{A})]^{-k}=exp(-k)(-\\mathbf{A})=exp k\\mathbf{A}$$\n",
    "\n",
    "由此可知等式对于任意的负整数也都成立.\n",
    "\n",
    "综上所述，即可证明对任意整数$k$，都有$(exp\\mathbf{A})^k=expk\\mathbf{A}$成立.\n",
    "\n",
    "\n",
    "\n"
   ]
  },
  {
   "cell_type": "markdown",
   "metadata": {},
   "source": [
    "5.试求方程组$x'=Ax$的基解矩阵，并求满足初值条件$\\varphi(0)=\\eta$的解$\\varphi(t)$;\n",
    "\n",
    "(2)$A=\\begin{bmatrix}1&0&3\\\\8&1&-1\\\\5&1&-1\\end{bmatrix},\\eta=\\begin{bmatrix}0\\\\-2\\\\-7\\end{bmatrix}$"
   ]
  },
  {
   "cell_type": "markdown",
   "metadata": {},
   "source": [
    "解：可知特征方程为$|\\lambda E-A|=\\begin{vmatrix}\\lambda -1&0&-3\\\\-8&\\lambda-1&1\\\\-5&-1&\\lambda+1\\end{vmatrix}=(\\lambda+3)(\\lambda^2-4\\lambda-3)=0$\n",
    "\n",
    "解得特征值为$\\lambda_1=-3,\\lambda_2=2+\\sqrt{7},\\lambda_3=2-\\sqrt{7}$\n",
    "\n",
    "由此得到三个特征值的特征向量为\n",
    "\n",
    "$$\\mathbf{x}=\\alpha\\begin{bmatrix}3&-7&-4\\end{bmatrix}^T,$$\n",
    "\n",
    "$$\\mathbf{x}=\\beta\\begin{bmatrix}3&4\\sqrt{7}-5&\\sqrt{7}+1\\end{bmatrix}^T,$$\n",
    "\n",
    "$$\\mathbf{x}=\\gamma\\begin{bmatrix}3&-4\\sqrt{7}-5&1-\\sqrt{7}\\end{bmatrix}^T,$$\n",
    "\n",
    "取$\\alpha=\\beta=\\gamma=1$,得到方程$x'=Ax$的一个基解矩阵如下：\n",
    "\n",
    "$$\\Phi(t)=\\begin{bmatrix}3e^{-3t}&3e^{(2+\\sqrt{7})t}&3e^{(2-\\sqrt{7})t}\\\\-7e^{-3t}&(4\\sqrt{7}-5)e^{(2+\\sqrt{7})t}&-(4\\sqrt{7}+5)e^{(2-\\sqrt{7})t}\\\\-4e^{-3t}&(\\sqrt{7}+1)e^{(2+\\sqrt{7})t}&(1-\\sqrt{7})e^{(2-\\sqrt{7})t}\\end{bmatrix}$$\n",
    "\n",
    "而满足初值条件$\\varphi(0)=\\eta=\\begin{bmatrix}0&-2&-7\\end{bmatrix}^T$的解为\n",
    "\n",
    "$$\\varphi(t)=\\mathbf{\\Phi(t)}\\mathbf{\\Phi}^{-1}(0)\\eta=exp\\mathbf{A}t\\bullet\\eta$$\n",
    "\n",
    "$exp\\mathbf{A}t$的表达式为\n",
    "\n",
    "$$exp\\mathbf{A}t=\\mathbf{\\Phi}(t)\\mathbf{\\Phi}^{-1}(0)$$\n",
    "\n",
    "$$=\\frac{1}{108\\sqrt{7}}\\begin{bmatrix}3e^{-3t}&3e^{(2+\\sqrt{7})t}&3e^{(2-\\sqrt{7})t}\\\\-7e^{-3t}&(4\\sqrt{7}-5)e^{(2+\\sqrt{7})t}&-(4\\sqrt{7}+5)e^{(2-\\sqrt{7})t}\\\\-4e^{-3t}&(\\sqrt{7}+1)e^{(2+\\sqrt{7})t}&(1-\\sqrt{7})e^{(2-\\sqrt{7})t}\\end{bmatrix}\\begin{bmatrix}18\\sqrt{7}&\n",
    "6\\sqrt{7}&-24\\sqrt{7}\\\\27+9\\sqrt{7}&15-3\\sqrt{7}&12\\sqrt{7}-6\\\\9\\sqrt{7}-27&-(15+3\\sqrt{7}&12\\sqrt{7}-6\\end{bmatrix}$$\n",
    "\n",
    "$$=\\frac{1}{4\\sqrt{7}}\\begin{bmatrix}\\mathbf{A}_1&\\mathbf{A}_2&\\mathbf{A}_3\\end{bmatrix}$$\n",
    "\n",
    "其中$$\\mathbf{A}_1=\\begin{bmatrix}2\\sqrt{7}e^{-3t}+(3+\\sqrt{7})e^{(2+\\sqrt{7})t}+(-3+\\sqrt{7})e^{(2-\\sqrt{7})t}\\\\\n",
    "\\frac{-14\\sqrt{7}}{3}e^{-3t}+\\frac{13+7\\sqrt{7}}{3}e^{(2+\\sqrt{7})t}+\\frac{-13+7\\sqrt{7}}{3}e^{(2-\\sqrt{7})t}\\\\\n",
    "\\frac{-8\\sqrt{7}}{3}e^{-3t}+\\frac{10+4\\sqrt{7}}{3}e^{(2+\\sqrt{7})t}+\\frac{-10+4\\sqrt{7}}{3}e^{(2-\\sqrt{7})t}\\end{bmatrix}$$\n",
    "\n",
    "$$\\mathbf{A}_2=\\begin{bmatrix}\\frac{2\\sqrt{7}}{3}e^{-3t}+\\frac{(5-\\sqrt{7})}{3}e^{(2+\\sqrt{7})t}+\\frac{(-5-\\sqrt{7})}{3}e^{(2-\\sqrt{7})t}\\\\\n",
    "\\frac{-14\\sqrt{7}}{9}e^{-3t}+\\frac{-53-25\\sqrt{7}}{9}e^{(2+\\sqrt{7})t}+\\frac{53+25\\sqrt{7}}{9}e^{(2-\\sqrt{7})t}\\\\\n",
    "\\frac{-8\\sqrt{7}}{9}e^{-3t}+\\frac{-2+4\\sqrt{7}}{9}e^{(2+\\sqrt{7})t}+\\frac{2+4\\sqrt{7}}{9}e^{(2-\\sqrt{7})t}\\end{bmatrix}$$\n",
    "\n",
    "\n",
    "$$\\mathbf{A}_3=\\begin{bmatrix}\\frac{-8\\sqrt{7}}{9}e^{-3t}+\\frac{(-2+4\\sqrt{7})}{3}e^{(2+\\sqrt{7})t}+\\frac{(2+4\\sqrt{7})}{3}e^{(2-\\sqrt{7})t}\\\\\n",
    "\\frac{56\\sqrt{7}}{9}e^{-3t}+\\frac{122-28\\sqrt{7}}{9}e^{(2+\\sqrt{7})t}+\\frac{-122-28\\sqrt{7}}{9}e^{(2-\\sqrt{7})t}\\\\\n",
    "\\frac{32\\sqrt{7}}{9}e^{-3t}+\\frac{26+2\\sqrt{7}}{9}e^{(2+\\sqrt{7})t}+\\frac{-26+2\\sqrt{7}}{9}e^{(2-\\sqrt{7})t}\\end{bmatrix}$$\n",
    "\n",
    "又$\\varphi(t)=\\mathbf{\\Phi}(t)\\mathbf{\\Phi}^{-1}(0)\\eta=\\frac{1}{4\\sqrt{7}}\\begin{bmatrix}\\mathbf{A}_1&\\mathbf{A}_2&\\mathbf{A}_3\\end{bmatrix}\n",
    "\\begin{bmatrix}0\\\\-2\\\\-7\\end{bmatrix}=\\frac{1}{4\\sqrt{7}}\\begin{bmatrix}\\frac{52\\sqrt{7}}{3}e^{-3t}+\\frac{(4-26\\sqrt{7})}{3}e^{(2+\\sqrt{7})t}+\\frac{(-4-26\\sqrt{7})}{3}e^{(2-\\sqrt{7})t}\\\\\n",
    "\\frac{-364\\sqrt{7}}{9}e^{-3t}+\\frac{-748+146\\sqrt{7}}{9}e^{(2+\\sqrt{7})t}+\\frac{748+146\\sqrt{7}}{9}e^{(2-\\sqrt{7})t}\\\\\n",
    "\\frac{-208\\sqrt{7}}{9}e^{-3t}+\\frac{-178-22\\sqrt{7}}{9}e^{(2+\\sqrt{7})t}+\\frac{178-22\\sqrt{7}}{9}e^{(2-\\sqrt{7})t}\\end{bmatrix}$\n",
    "\n",
    "\n",
    "\n"
   ]
  },
  {
   "cell_type": "markdown",
   "metadata": {},
   "source": [
    "# <font color='red'>A 9/12"
   ]
  },
  {
   "cell_type": "code",
   "execution_count": null,
   "metadata": {
    "collapsed": true
   },
   "outputs": [],
   "source": []
  }
 ],
 "metadata": {
  "kernelspec": {
   "display_name": "SageMath 7.3",
   "language": "",
   "name": "sagemath"
  },
  "language_info": {
   "codemirror_mode": {
    "name": "ipython",
    "version": 2
   },
   "file_extension": ".py",
   "mimetype": "text/x-python",
   "name": "python",
   "nbconvert_exporter": "python",
   "pygments_lexer": "ipython2",
   "version": "2.7.10"
  }
 },
 "nbformat": 4,
 "nbformat_minor": 0
}
