{
 "cells": [
  {
   "cell_type": "markdown",
   "metadata": {},
   "source": [
    "## 1.设$\\phi(t)$是方程$x'=Ax$(A为$n\\times n$常数矩阵）的标准基解矩阵，证明： $\\phi(t)\\phi^{-1}(t_0)=\\phi(t-t_0)$ 其中$t_0$为某一值。"
   ]
  },
  {
   "cell_type": "markdown",
   "metadata": {},
   "source": [
    "**证明：因为A是$n \\times n$常数矩阵，所以方程$x'=Ax$的基解矩阵$\\phi(t)$满足**\n",
    "\n",
    "$\\frac{d\\phi(t)}{dt}=A\\phi(t)$\n",
    "\n",
    "**解得$\\phi{t}=e^{At}$，即$\\phi(t)$是指数型的**\n",
    "\n",
    "**根据指数函数的特点知$\\phi^{-1}(t)=e^{-At}$,得到**\n",
    "\n",
    "$\\phi(t)\\phi^{-1}(t_0)=e^{At}e^{-At_0}=\\phi(t-t_0)$\n",
    "\n",
    "**命题得证**"
   ]
  },
  {
   "cell_type": "markdown",
   "metadata": {},
   "source": [
    "## 2.试求下列方程的通解  $x'''-8x=e^{2t}$"
   ]
  },
  {
   "cell_type": "markdown",
   "metadata": {},
   "source": [
    "**解：齐次方程$x'''-8x=0$的特征方程为**\n",
    "\n",
    "${\\lambda}^3-8=0$\n",
    "\n",
    "**得到$\\lambda_1=2,\\lambda_2=-1+\\sqrt{3}i,\\lambda_3=-1-\\sqrt{3}i$**\n",
    "\n",
    "**所以齐次方程的通解为**\n",
    "\n",
    "$x=c_1e^{2t}+c_2e^{-t}\\cos {\\sqrt{3}t}+c_3e^{-t}\\sin {\\sqrt{3}t}$\n",
    "\n",
    "**令原方程的一个特解为$x_1=Ate^{2t}$,带入原方程得到$A=\\frac{1}{12}$**\n",
    "\n",
    "**所以特解为$x_1=\\frac{1}{12}te^{2t}$,原方程的通解为**\n",
    "\n",
    "$x(t)=c_1e^{2t}+c_2e^{-t}\\cos {\\sqrt{3}t}+c_3e^{-t}\\sin {\\sqrt{3}t}+\\frac{1}{12}te^{2t}$\n",
    "\n",
    "**$c_1,c_2,c_3$为任意常数**"
   ]
  },
  {
   "cell_type": "markdown",
   "metadata": {},
   "source": [
    "## 3.假设A是$n\\times n$矩阵，试证：(2)对任意整数k，都有$(\\exp A)^k=\\exp kA$（当k是负整数时，规定$(\\exp A)^k=[(\\exp A)^{-1}]^{-k}$)。"
   ]
  },
  {
   "cell_type": "markdown",
   "metadata": {},
   "source": [
    "**证明：利用（1）的结论，首先使$c_1=c_2=1$则有**\n",
    "\n",
    "$\\exp (2A)=\\exp（A+A)=\\exp A \\cdot \\exp A=(\\exp A)^2$\n",
    "\n",
    "**根据上述令$c_2=2,3,4 \\cdots {k-1}$并带入得到**\n",
    "\n",
    "有$\\exp (3A)=\\exp（A+2A)=\\exp A \\cdot \\exp 2A=(\\exp A)^3$\n",
    "\n",
    "$\\exp (4A)=\\exp（A+3A)=\\exp A \\cdot \\exp 3A=(\\exp A)^4$\n",
    "\n",
    "$\\cdots$\n",
    "\n",
    "$\\exp (kA)=\\exp（A+(k-1)A)=\\exp A \\cdot \\exp (k-1)A=(\\exp A)^k$"
   ]
  },
  {
   "cell_type": "markdown",
   "metadata": {},
   "source": [
    "**当$k=0$时，**\n",
    "\n",
    "**$右边=(\\exp A)^0=E=\\exp 0=左边$**\n",
    "\n",
    "**当$k=1$时，等式也成立**\n",
    "\n",
    "**得上述等式对所有非负整数都成立**\n",
    "\n",
    "**当k是负整数时**\n",
    "\n",
    "$(\\exp A)^k[(\\exp A)^{-1}]^{-k}=[\\exp (-A)]^{-k}=\\exp (-k)(-A)=\\exp kA$\n",
    "\n",
    "**即当k时负整数时，等式也成立**\n",
    "\n",
    "**综上所述，k为任意整数时，都有**\n",
    "\n",
    "$(\\exp A)^k=\\exp kA$"
   ]
  },
  {
   "cell_type": "markdown",
   "metadata": {},
   "source": [
    "## 4试求方程组$x'=Ax$的基解矩阵，并求满足初值条件$\\varphi(0)=\\eta$的解$\\varphi(t)$.其中$A={\\left[\\begin{matrix}1&0&3\\\\8&1&-1\\\\5&1&-1\\\\\\end{matrix}\\right]},\\eta={\\left[\\begin{matrix}0\\\\-2\\\\-7\\\\\\end{matrix}\\right]}$"
   ]
  },
  {
   "cell_type": "markdown",
   "metadata": {},
   "source": [
    "**解：**\n",
    "\n",
    "**特征方程为$(\\lambda+3)({\\lambda}^2-4\\lambda-3)=0$**\n",
    "\n",
    "**得到特征值为$\\lambda_1=-3,\\lambda_2=2+\\sqrt{7},\\lambda_3=2-\\sqrt{7}$**\n",
    "\n",
    "**并求得对应三个特征值的特征向量为**\n",
    "\n",
    "$x=k_1{\\left[\\begin{matrix}3&-7&-4\\\\\\end{matrix}\\right]}^T$\n",
    "\n",
    "$x=k_2{\\left[\\begin{matrix}3&4\\sqrt{7}-5&\\sqrt{7}+1\\\\\\end{matrix}\\right]}^T$\n",
    "\n",
    "$x=k_3{\\left[\\begin{matrix}3&-4\\sqrt{7}-5&1-\\sqrt{7}\\\\\\end{matrix}\\right]}^T$"
   ]
  },
  {
   "cell_type": "markdown",
   "metadata": {},
   "source": [
    "**令$k_1=k_2=k_3=1$则得到方程$x'=Ax$的一个基解矩阵**\n",
    "\n",
    "$\\phi(t)={\\left[\\begin{matrix}3e^{-3t}&3e^{(2+\\sqrt{7})t}&3e^{(2-\\sqrt{7})t}\\\\-7e^{-3t}&(4\\sqrt{7}-5)e^{(2+\\sqrt{7})t}&-(4\\sqrt{7}+5)e^{(2-\\sqrt{7})t}\\\\-4e^{-3t}&(\\sqrt{7}+1)e^{(2+\\sqrt{7})t}&(1-\\sqrt{7})e^{(2-\\sqrt{7})t}\\\\\\end{matrix}\\right]}$\n",
    "\n",
    "**因为满足初值条件$\\varphi(0)=\\eta={\\left[\\begin{matrix}0&-2&-7\\\\\\end{matrix}\\right]}^T$的解为**\n",
    "\n",
    "$\\varphi(t)=\\phi(t)\\phi^{-1}(0)\\eta=\\exp At \\cdot \\eta$"
   ]
  },
  {
   "cell_type": "markdown",
   "metadata": {},
   "source": [
    "**计算得到**\n",
    "\n",
    "$\\begin{aligned}\\varphi(t)&=\\frac{1}{108\\sqrt{7}}{\\left[\\begin{matrix}3e^{-3t}&3e^{(2+\\sqrt{7})t}&3e^{(2+\\sqrt{7})t}\\\\-7e^{-3t}&(4\\sqrt{7}-5)e^{(2+\\sqrt{7})t}&-(4\\sqrt{7}+5)e^{(2-\\sqrt{7})t}\\\\-4e^{-3t}&(\\sqrt{7}+1)e^{(2+\\sqrt{7})t}&(1-\\sqrt{7})e^{(2-\\sqrt{7})t}\\\\\\end{matrix}\\right]}{\\left[\\begin{matrix}18\\sqrt{7}&6\\sqrt{7}&-24\\sqrt{7}\\\\27+9\\sqrt{7}&15-3\\sqrt{7}&12\\sqrt{7}-6\\\\9\\sqrt{7}-27&-(15+3\\sqrt{7})&12\\sqrt{7}-6\\\\\\end{matrix}\\right]}\\cdot{\\left[\\begin{matrix}0&-2&-7\\\\\\end{matrix}\\right]}^T\\\\&=\\frac{1}{4\\sqrt{7}}{\\left[\\begin{matrix}\\frac{52\\sqrt{7}}{3}e^{-3t}+\\frac{4-26\\sqrt{7}}{3}e^{(2+\\sqrt{7})t}+\\frac{-4-2\\sqrt{7}}{3}e^{(2+\\sqrt{7})t}\\\\\\frac{-364\\sqrt{7}}{9}e^{-3t}+\\frac{-748+146\\sqrt{7}}{9}e^{(2+\\sqrt{7})t}+\\frac{748+146\\sqrt{7}}{9}e^{(2-\\sqrt{7})t}\\\\-\\frac{208\\sqrt{7}}{9}e^{-3t}+\\frac{-178-22\\sqrt{7}}{9}e^{(2+\\sqrt{7})t}+\\frac{178-22\\sqrt{7}}{9}e^{(2-\\sqrt{7})t}\\\\\\end{matrix}\\right]}\\end{aligned}$"
   ]
  },
  {
   "cell_type": "markdown",
   "metadata": {},
   "source": [
    "# <font color='red'>A 9/12"
   ]
  },
  {
   "cell_type": "code",
   "execution_count": null,
   "metadata": {
    "collapsed": true
   },
   "outputs": [],
   "source": []
  }
 ],
 "metadata": {
  "kernelspec": {
   "display_name": "SageMath 7.3",
   "language": "",
   "name": "sagemath"
  },
  "language_info": {
   "codemirror_mode": {
    "name": "ipython",
    "version": 2
   },
   "file_extension": ".py",
   "mimetype": "text/x-python",
   "name": "python",
   "nbconvert_exporter": "python",
   "pygments_lexer": "ipython2",
   "version": "2.7.10"
  }
 },
 "nbformat": 4,
 "nbformat_minor": 0
}
