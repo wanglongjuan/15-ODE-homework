{
 "cells": [
  {
   "cell_type": "markdown",
   "metadata": {},
   "source": [
    "## 一、求解下列方程"
   ]
  },
  {
   "cell_type": "markdown",
   "metadata": {},
   "source": [
    "1.$xx''-(x')^2+(x')^3=0$"
   ]
  },
  {
   "cell_type": "markdown",
   "metadata": {},
   "source": [
    "解；令$x'=y,则x''=y\\frac{dy}{dx}$代入原方程可得  \n",
    "$$y(x\\frac{dy}{dx}-y+y^2)=0$$  \n",
    "∴$y=0或者x\\frac{dy}{dx}-y+y^2=0$  "
   ]
  },
  {
   "cell_type": "markdown",
   "metadata": {},
   "source": [
    "因为$$x\\frac{dy}{dx}-y+y^2=0$$  \n",
    "∴对方程积分可得$$y=\\frac{1}{1-cx}$$"
   ]
  },
  {
   "cell_type": "markdown",
   "metadata": {},
   "source": [
    "也即$$x'=\\frac{1}{1-cx}$$\n",
    "所以$$\\frac{dx}{dt}=\\frac{1}{1-cx},再积分可得$$\n",
    "原方程的通解为$$2x-cx^2=2t$$"
   ]
  },
  {
   "cell_type": "markdown",
   "metadata": {},
   "source": [
    "(2)$x''+\\sqrt{1-(x'^2)}=0$"
   ]
  },
  {
   "cell_type": "markdown",
   "metadata": {},
   "source": [
    "解；令$x'=y,则x''=y\\frac{dy}{dx}$代入原方程可得  \n",
    "$$y\\frac{dy}{dx}+\\sqrt{1-y^2}=0$$  \n",
    "两边积分再化简可得方程$$y=\\sqrt{1-(x+c)^2}$$"
   ]
  },
  {
   "cell_type": "markdown",
   "metadata": {},
   "source": [
    "也即$$\\frac{dx}{dt}=\\sqrt{1-(x+c)^2}$$  \n",
    "再对方程进行积分可得方程的通解为$$arcsin(x+c)=t+c_1$$"
   ]
  },
  {
   "cell_type": "markdown",
   "metadata": {},
   "source": [
    "(6).$x''-\\frac{1}{t}x'+(x')^2=0$"
   ]
  },
  {
   "cell_type": "markdown",
   "metadata": {},
   "source": [
    "解；方程两端同时除以$x'$可得  \n",
    "$$\\frac{x''}{x'}-\\frac{1}{t}+x'=0$$  \n",
    "令$x'=y,则x''=y\\frac{dy}{dx}$"
   ]
  },
  {
   "cell_type": "markdown",
   "metadata": {},
   "source": [
    "∴$$\\frac{dy}{dx}-\\frac{1}{t}+y=0$$  \n",
    "再对方程积分可得$$ln(y-\\frac{1}{t})=x+c$$  \n",
    "所以$$y=\\frac{1}{t}+ce^{-x}$$  \n",
    "也即$$\\frac{dx}{dt}=\\frac{1}{t}+ce^{-x}$$  \n",
    "再将方程拆分成两个方程  其分别为  \n",
    "$$\\frac{dx}{dt}=\\frac{1}{t},\\frac{dx}{dt}=ce^{-x}$$"
   ]
  },
  {
   "cell_type": "markdown",
   "metadata": {},
   "source": [
    "对两方程分别积分可得$x_1=lnt+c,x_2=lnc(t+c_1)$  \n",
    "所以方程的解为$x_1+x_2=lnc(c+c_1)+lnt$  "
   ]
  },
  {
   "cell_type": "markdown",
   "metadata": {},
   "source": [
    "2.用幂级数法求解下列方程"
   ]
  },
  {
   "cell_type": "markdown",
   "metadata": {},
   "source": [
    "（2）$(1-t)x''+x'=0$  "
   ]
  },
  {
   "cell_type": "markdown",
   "metadata": {
    "collapsed": true
   },
   "source": [
    "设方程的通解为$$x=a_0+a_1t+......+a_nt^n......$$  \n",
    "则$$x'=a_1+2a_2t+3a_3t^2+......+na_nt^{n-1}......$$  \n",
    "$$x''=2a_2+3*2a_3t+......+n(n-1)a_nt^{n-2}+n(n+1)a_{n+1}t^{n-1}......$$  "
   ]
  },
  {
   "cell_type": "markdown",
   "metadata": {},
   "source": [
    "代入原方程$$a_n=\\frac{n-3}{n}a_{n-1}$$\n",
    "又因为$a_3=0,2a_2-a_1=0$  \n",
    "所以$a_n=0（n\\geq3）$  \n",
    "所以方程的通解为$$x=a_0+a_1t+a_2t^2$$"
   ]
  },
  {
   "cell_type": "markdown",
   "metadata": {},
   "source": [
    "## 3.将下面的初值问题化为与之等价的一阶方程组的初值问题"
   ]
  },
  {
   "cell_type": "markdown",
   "metadata": {},
   "source": [
    "（3）$\n",
    "\\begin{cases}\n",
    "x''+5y'-7x+6y=e^t\\\\  \n",
    "y''-2y+13y'-15x=cost\n",
    "\\end{cases}$  \n",
    "$x(0)=1,x'(0)=0,y(0)=0,y'(0)=1$"
   ]
  },
  {
   "cell_type": "markdown",
   "metadata": {},
   "source": [
    "原方程可化为\n",
    "$\\begin{pmatrix}\\omega_1\\\\ \\omega_2\\\\ \\omega_3\\\\ \\omega_4\\end{pmatrix}=\\begin{pmatrix}0&1&0&0&\\\\7&0&-6&-5\\\\0&0&0&1\\\\15&0&2&-13\\end{pmatrix}\\begin{pmatrix}\\omega_1\\\\ \\omega_2\\\\ \\omega_3\\\\ \\omega_4\\end{pmatrix}+\\begin{pmatrix}0\\\\e^t\\\\0\\\\ \\cos t\\end{pmatrix}$\n",
    "\n",
    "初值条件为$\\omega_1(0)=1,\\omega_2(0)=0,\\omega_3(0)=0,\\omega_4(0)=1$"
   ]
  },
  {
   "cell_type": "markdown",
   "metadata": {},
   "source": [
    "## 3.用逼近法求方程组\n",
    "$x'=\\begin{bmatrix}0&1\\\\-1&0\\end{bmatrix}\\mathbf x$，满足初值条件$\\mathbf x(0)=\\begin{bmatrix}0\\\\1\\end{bmatrix}$的第三次近似解。"
   ]
  },
  {
   "cell_type": "markdown",
   "metadata": {},
   "source": [
    "解：$\\varphi_0(t)=\\begin{bmatrix}0\\\\1\\end{bmatrix}$\n",
    "\n",
    "$\\varphi_1(t)=\\begin{bmatrix}0\\\\1\\end{bmatrix}+\\int_0^t{\\begin{bmatrix}0&1\\\\-1&0\\end{bmatrix}\\begin{bmatrix}0\\\\1\\end{bmatrix}}ds=\\begin{bmatrix}0\\\\1\\end{bmatrix}+\\int^t_0{\\begin{bmatrix}0\\\\1\\end{bmatrix}}ds=\\begin{bmatrix}0\\\\1\\end{bmatrix}+\\begin{bmatrix}t\\\\0\\end{bmatrix}=\\begin{bmatrix}t\\\\1\\end{bmatrix}$\n",
    "\n",
    "$\\varphi_2(t)=\\begin{bmatrix}0\\\\1\\end{bmatrix}+\\int^t_0{\\begin{bmatrix}0&1\\\\-1&0\\end{bmatrix}\\begin{bmatrix}t\\\\1\\end{bmatrix}}dt=\\begin{bmatrix}0\\\\1\\end{bmatrix}+\\int^t_0{\\begin{bmatrix}1\\\\-t\\end{bmatrix}}dt=\\begin{bmatrix}0\\\\1\\end{bmatrix}+\\begin{bmatrix}t\\\\-\\frac{1}{2}t^2\\end{bmatrix}=\\begin{bmatrix}t\\\\1-\\frac{1}{2}t^2\\end{bmatrix}$\n",
    "\n",
    "$\\varphi_3(t)=\\begin{bmatrix}0\\\\1\\end{bmatrix}+\\int^t_0{\\begin{bmatrix}0&1\\\\-1&0\\end{bmatrix}\\begin{bmatrix}s\\\\1-\\frac{1}{2}s^2\\end{bmatrix}}ds=\\begin{bmatrix}0\\\\1\\end{bmatrix}+\\int^t_0{\\begin{bmatrix}1-\\frac{1}{2}s^2\\\\-s\\end{bmatrix}}ds=\\begin{bmatrix}0\\\\1\\end{bmatrix}+\\begin{bmatrix}t-\\frac{1}{6}t^3\\\\-\\frac{1}{2}t^2\\end{bmatrix}=\\begin{bmatrix}t-\\frac{1}{6}t^3\\\\1-\\frac{1}{2}t^2\\end{bmatrix}$\n",
    "\n",
    "所以满足初值条件$x(0)=\\begin{bmatrix}0\\\\1\\end{bmatrix}$的第三次近似解为$\\varphi_3(t)=\\begin{bmatrix}t-\\frac{1}{6}t^3\\\\1-\\frac{1}{2}t^2\\end{bmatrix}$"
   ]
  },
  {
   "cell_type": "markdown",
   "metadata": {
    "collapsed": true
   },
   "source": [
    "# <font color='red'>A 9/12"
   ]
  },
  {
   "cell_type": "code",
   "execution_count": null,
   "metadata": {
    "collapsed": true
   },
   "outputs": [],
   "source": []
  }
 ],
 "metadata": {
  "kernelspec": {
   "display_name": "SageMath 7.3",
   "language": "",
   "name": "sagemath"
  },
  "language_info": {
   "codemirror_mode": {
    "name": "ipython",
    "version": 2
   },
   "file_extension": ".py",
   "mimetype": "text/x-python",
   "name": "python",
   "nbconvert_exporter": "python",
   "pygments_lexer": "ipython2",
   "version": "2.7.10"
  }
 },
 "nbformat": 4,
 "nbformat_minor": 0
}
