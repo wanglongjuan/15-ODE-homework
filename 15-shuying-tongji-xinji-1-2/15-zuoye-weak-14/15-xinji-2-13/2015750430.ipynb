{
 "cells": [
  {
   "cell_type": "markdown",
   "metadata": {},
   "source": [
    "**11月29日**"
   ]
  },
  {
   "cell_type": "markdown",
   "metadata": {},
   "source": [
    "**5.设$\\mathbf \\Phi(t)$为方程$\\mathbf x'=\\mathbf A \\mathbf x$($\\mathbf A$为nxn常数矩阵）的标准基解矩阵（即：$\\mathbf \\Phi(0)=\\mathbf E$),证明：**"
   ]
  },
  {
   "cell_type": "markdown",
   "metadata": {},
   "source": [
    "$$\\mathbf \\Phi(t)\\mathbf\\Phi^{-1}(t_0)=\\mathbf \\Phi(t-t_0)$$"
   ]
  },
  {
   "cell_type": "markdown",
   "metadata": {},
   "source": [
    "**其中$t_0$为某一值。**"
   ]
  },
  {
   "cell_type": "markdown",
   "metadata": {},
   "source": [
    " **解：**\n",
    " \n",
    " **$\\mathbf \\Phi(t)$是方程的标准基解矩阵，则;**"
   ]
  },
  {
   "cell_type": "markdown",
   "metadata": {},
   "source": [
    "$$\\mathbf \\Phi'(t)=\\mathbf A\\mathbf \\Phi(t)$$"
   ]
  },
  {
   "cell_type": "markdown",
   "metadata": {},
   "source": [
    "$$\\mathbf \\Phi(t)=e^{\\mathbf A t}$$"
   ]
  },
  {
   "cell_type": "markdown",
   "metadata": {},
   "source": [
    "**则$\\mathbf \\Phi(t)$的逆矩阵是:**\n",
    "\n",
    "$$\\mathbf \\Phi^{-1}(t)=e^{-\\mathbf A t}$$"
   ]
  },
  {
   "cell_type": "markdown",
   "metadata": {},
   "source": [
    "**则：**\n",
    "\n",
    "$$\\mathbf \\Phi(t)\\mathbf \\Phi^{-1}(t_0)=e^{\\mathbf A t}e^{-\\mathbf A t_0}=e^{\\mathbf A (t-t_0)}=\\mathbf\\Phi (t-t_0)$$"
   ]
  },
  {
   "cell_type": "markdown",
   "metadata": {},
   "source": [
    "**证毕。**"
   ]
  },
  {
   "cell_type": "markdown",
   "metadata": {},
   "source": [
    "**8.考虑方程组$\\mathbf x'=\\mathbf A(t)\\mathbf x+\\mathbf f(t)$，其中**"
   ]
  },
  {
   "cell_type": "markdown",
   "metadata": {},
   "source": [
    "$$\\mathbf A=\n",
    "\\left [\n",
    "\\begin{matrix}\n",
    "2&1\\\\\n",
    "0&2\\\\\n",
    "\\end{matrix}\n",
    "\\right ]\n",
    ",\\quad\n",
    "\\mathbf f(t)=\n",
    "\\left [\n",
    "\\begin{matrix}\n",
    "\\sin t\\\\\n",
    "\\cos t\\\\\n",
    "\\end{matrix}\n",
    "\\right ]\n",
    "$$"
   ]
  },
  {
   "cell_type": "markdown",
   "metadata": {},
   "source": [
    "**(1).试验证**\n",
    "\n",
    "$$\n",
    "\\mathbf \\Phi(t)=\n",
    "\\left [\n",
    "\\begin{matrix}\n",
    "e^{2t}&te^{2t}\\\\\n",
    "0&e^{2t}\\\\\n",
    "\\end{matrix}\n",
    "\\right]\n",
    "$$"
   ]
  },
  {
   "cell_type": "markdown",
   "metadata": {},
   "source": [
    "**是$\\mathbf x'=\\mathbf A\\mathbf x$的基解矩阵；**"
   ]
  },
  {
   "cell_type": "markdown",
   "metadata": {},
   "source": [
    "**(2).试求$\\mathbf x'=\\mathbf A\\mathbf x+\\mathbf f(t)$的满足条件$\\mathbf \\varphi (0)=\n",
    "\\left [\n",
    "\\begin{matrix}\n",
    "1\\\\\n",
    "-1\\\\\n",
    "\\end{matrix}\n",
    "\\right]\n",
    "$**"
   ]
  },
  {
   "cell_type": "markdown",
   "metadata": {},
   "source": [
    "**解：**\n",
    "\n",
    "**(1).**\n",
    "\n",
    "**先验证矩阵的第一列：**\n",
    "\n",
    "$$\n",
    "\\left[\n",
    "\\begin{matrix}\n",
    "2&1\\\\\n",
    "0&2\\\\\n",
    "\\end{matrix}\n",
    "\\right ]\n",
    "\\left [\n",
    "\\begin{matrix}\n",
    "e^{2t}\\\\\n",
    "0\\\\\n",
    "\\end{matrix}\n",
    "\\right ]\n",
    "=\n",
    "\\left [\n",
    "\\begin{matrix}\n",
    "2e^{2t}\\\\\n",
    "0\\\\\n",
    "\\end{matrix}\n",
    "\\right ]\n",
    "$$"
   ]
  },
  {
   "cell_type": "markdown",
   "metadata": {},
   "source": [
    "**再验证矩阵的第二列：**"
   ]
  },
  {
   "cell_type": "markdown",
   "metadata": {},
   "source": [
    "$$\n",
    "\\left [\n",
    "\\begin{matrix}\n",
    "2&1\\\\\n",
    "0&2\\\\\n",
    "\\end{matrix}\n",
    "\\right ]\n",
    "\\left[\n",
    "\\begin{matrix}\n",
    "te^{2t}\\\\\n",
    "e^{2t}\\\\\n",
    "\\end{matrix}\n",
    "\\right ]\n",
    "=\n",
    "\\left [\n",
    "\\begin{matrix}\n",
    "2te^{2t}+e^{2t}\\\\\n",
    "2e^{2t}\\\\\n",
    "\\end{matrix}\n",
    "\\right ]\n",
    "$$"
   ]
  },
  {
   "cell_type": "markdown",
   "metadata": {},
   "source": [
    "**又：**\n",
    "\n",
    "$$\n",
    "\\left |\n",
    "\\begin{matrix}\n",
    "e^{2t}&te^{2t}\\\\\n",
    "0&e^{2t}\\\\\n",
    "\\end{matrix}\n",
    "\\right |\n",
    "=e^{4t}\n",
    "\\neq \n",
    "0\n",
    "$$"
   ]
  },
  {
   "cell_type": "markdown",
   "metadata": {},
   "source": [
    "**即证明\n",
    "$\n",
    "\\left [\n",
    "\\begin{matrix}\n",
    "e^{2t}&te^{2t}\\\\\n",
    "0&e^{2t}\\\\\n",
    "\\end{matrix}\n",
    "\\right ]\n",
    "$\n",
    "是方程组$\\mathbf x'=\\mathbf A\\mathbf x$的基解矩阵。**"
   ]
  },
  {
   "cell_type": "markdown",
   "metadata": {},
   "source": [
    "**(2).**\n",
    "\n",
    "**已证$\\mathbf \\Phi(t)$为方程的基矩阵。**"
   ]
  },
  {
   "cell_type": "markdown",
   "metadata": {},
   "source": [
    "$$\n",
    "\\mathbf \\Phi^{-1}(t)=\n",
    "\\frac\n",
    "{\n",
    "\\left [\n",
    "\\begin {matrix}\n",
    "e^{2t}&-te^{2t}\\\\\n",
    "0&e^{2t}\\\\\n",
    "\\end{matrix}\n",
    "\\right ]\n",
    "}\n",
    "{e^{4t}}\n",
    "=\n",
    "\\left [\n",
    "\\begin{matrix}\n",
    "1&-t\\\\\n",
    "0&1\\\\\n",
    "\\end{matrix}\n",
    "\\right ]\n",
    "e^{-2t}\n",
    "$$"
   ]
  },
  {
   "cell_type": "markdown",
   "metadata": {},
   "source": [
    "**满足初值条件$\\mathbf \\Psi(0)=\n",
    "\\left [\n",
    "\\begin {matrix}\n",
    "0\\\\\n",
    "0\\\\\n",
    "\\end {matrix}\n",
    "\\right ]\n",
    "$的解是：**"
   ]
  },
  {
   "cell_type": "markdown",
   "metadata": {},
   "source": [
    "$$\n",
    "\\begin{aligned}\n",
    "\\mathbf \\Psi(t)&=\n",
    "\\left [\n",
    "\\begin{matrix}\n",
    "e^{2t}&te^{2t}\\\\\n",
    "0&e^{2t}\\\\\n",
    "\\end{matrix}\n",
    "\\right ]\n",
    "\\int_0^t e^{-2s}\n",
    "\\left [\n",
    "\\begin{matrix}\n",
    "1&-s\\\\\n",
    "0&1\\\\\n",
    "\\end{matrix}\n",
    "\\right ]\n",
    "\\left [\n",
    "\\begin{matrix}\n",
    "\\sin s\\\\\n",
    "\\cos s\\\\\n",
    "\\end{matrix}\n",
    "\\right ]\n",
    "ds\\\\\n",
    "&=\n",
    "\\left [\n",
    "\\begin{matrix}\n",
    "e^{2t}&te^{2t}\\\\\n",
    "0&e^{2t}\\\\\n",
    "\\end{matrix}\n",
    "\\right ]\n",
    "\\left [\n",
    "\\begin{matrix}\n",
    "-\\frac{\\mathrm 2}{\\mathrm 25}e^{-2t}\\cos t-\\frac{\\mathrm 14}{\\mathrm 25}e^{-2t}\\sin t+\\frac{\\mathrm 2}{\\mathrm 5}e^{-2t}t \\cos t -\\frac{\\mathrm 1}{\\mathrm 5}e^{-2t}t\\sin t\\\\\n",
    "-\\frac{\\mathrm 2}{\\mathrm 5}e^{-2t}\\cos t+\\frac{\\mathrm 1}{\\mathrm 5}e^{-2t}\\sin t\\\\\n",
    "\\end{matrix}\n",
    "\\right ]\n",
    "\\\\\n",
    "&=\n",
    "\\left [\n",
    "\\begin{matrix}\n",
    "-\\frac{\\mathrm 2}{\\mathrm 25}\\cos t-\\frac{\\mathrm 14}{\\mathrm 25}\\sin t\\\\\n",
    "-\\frac{\\mathrm 2}{\\mathrm 5}\\cos t+\\frac{\\mathrm 1}{\\mathrm 5}\\sin t\\\\\n",
    "\\end{matrix}\n",
    "\\right ]\n",
    "\\\\\n",
    "\\end{aligned}\n",
    "$$"
   ]
  },
  {
   "cell_type": "markdown",
   "metadata": {},
   "source": [
    "**设：**\n",
    "\n",
    "$$\n",
    "\\left [\n",
    "\\begin{matrix}\n",
    "x_1\\\\\n",
    "x_2\\\\\n",
    "\\end{matrix}\n",
    "\\right ]\n",
    "=\n",
    "\\mathbf C_1\n",
    "\\left [\n",
    "\\begin{matrix}\n",
    "e^{2t}\\\\\n",
    "0\\\\\n",
    "\\end{matrix}\n",
    "\\right ]\n",
    "+\n",
    "\\mathbf C_2\n",
    "\\left [\n",
    "\\begin{matrix}\n",
    "te^{2t}\\\\\n",
    "e^{2t}\\\\\n",
    "\\end{matrix}\n",
    "\\right ]\n",
    "+\n",
    "\\mathbf \\Psi(t)\n",
    "$$"
   ]
  },
  {
   "cell_type": "markdown",
   "metadata": {},
   "source": [
    "**将$\\mathbf \\varphi (0)=\n",
    "\\left [\n",
    "\\begin{matrix}\n",
    "x_1\\\\\n",
    "x_2\\\\\n",
    "\\end{matrix}\n",
    "\\right ]\n",
    "=\n",
    "\\left [\n",
    "\\begin{matrix}\n",
    "1\\\\\n",
    "-1\\\\\n",
    "\\end{matrix}\n",
    "\\right ]\n",
    "$ 代入。**"
   ]
  },
  {
   "cell_type": "markdown",
   "metadata": {},
   "source": [
    "$$\n",
    "\\begin{cases}\n",
    "\\mathbf C_1-\\frac{\\mathrm 2}{\\mathrm 25}=1\\\\\n",
    "\\mathbf C_2-\\frac{\\mathrm 2}{\\mathrm 5}=-1\\\\\n",
    "\\end{cases}\n",
    "$$"
   ]
  },
  {
   "cell_type": "markdown",
   "metadata": {},
   "source": [
    "**解得：**\n",
    "\n",
    "$$\\mathbf C_1=\\frac{\\mathrm 27}{\\mathrm 25},\\quad \\mathbf C_2=-\\frac{\\mathrm 3}{\\mathrm 5}$$"
   ]
  },
  {
   "cell_type": "markdown",
   "metadata": {},
   "source": [
    "**则：\n",
    "$$\n",
    "\\mathbf \\varphi (t)=\n",
    "\\left [\n",
    "\\begin{matrix}\n",
    "x_1\\\\\n",
    "x_2\\\\\n",
    "\\end{matrix}\n",
    "\\right ]\n",
    "=\n",
    "\\left [\n",
    "\\begin{matrix}\n",
    "-\\frac{\\mathrm 2}{\\mathrm 25}\\cos t-\\frac{\\mathrm 14}{\\mathrm 25}\\sin t+\\frac{\\mathrm 27}{\\mathrm 25}e^{2t}-\\frac{\\mathrm 3}{\\mathrm 5}te^{2t}\\\\\n",
    "-\\frac{\\mathrm 2}{\\mathrm 5}\\cos t+\\frac{\\mathrm 1}{\\mathrm 5}\\sin t-\\frac{\\mathrm 3}{\\mathrm 5}e^{2t}\\\\\n",
    "\\end{matrix}\n",
    "\\right ]\n",
    "$$\n",
    "**"
   ]
  },
  {
   "cell_type": "markdown",
   "metadata": {},
   "source": [
    "**10.试求下列方程的通解：**"
   ]
  },
  {
   "cell_type": "markdown",
   "metadata": {
    "collapsed": true
   },
   "source": [
    "**(2).$x'''-8x=e^{2t}$**"
   ]
  },
  {
   "cell_type": "markdown",
   "metadata": {},
   "source": [
    "**解：**\n",
    "\n",
    "$$\\lambda^3-8=0$$"
   ]
  },
  {
   "cell_type": "markdown",
   "metadata": {},
   "source": [
    "**解得：**\n",
    "\n",
    "**特征值为：**"
   ]
  },
  {
   "cell_type": "markdown",
   "metadata": {},
   "source": [
    "$$\\lambda_1=2,\\quad \\lambda_2=-1+\\sqrt 3 i,\\quad,\\lambda_3=-1-\\sqrt 3 i$$"
   ]
  },
  {
   "cell_type": "markdown",
   "metadata": {},
   "source": [
    "**则齐次方程的通解为：**\n",
    "\n",
    "$$x=c_1e^{2t}+c_2e^{-t}\\cos{\\sqrt 3 t}+c_3e^{-t}\\sin{\\sqrt 3 t}$$"
   ]
  },
  {
   "cell_type": "markdown",
   "metadata": {},
   "source": [
    "**令方程的一个特解为：**\n",
    "\n",
    "$$x_1=At e^{2t}$$\n",
    "\n",
    "**代入原方程得：**\n",
    "\n",
    "$$A=\\frac{\\mathrm 1}{\\mathrm 12}$$"
   ]
  },
  {
   "cell_type": "markdown",
   "metadata": {},
   "source": [
    "**则原方程的通解为：**\n",
    "\n",
    "$$x(t)=c_1e^{2t}+c_2e^{-t}\\cos {\\sqrt 3 t}+c_3e^{-t}\\sin {\\sqrt 3 t}+\\frac{\\mathrm 1}{\\mathrm 12}t e^{2t}$$"
   ]
  },
  {
   "cell_type": "markdown",
   "metadata": {},
   "source": [
    "**11月30日**"
   ]
  },
  {
   "cell_type": "markdown",
   "metadata": {},
   "source": [
    "**1.假设$\\mathbf A$是nxn矩阵，试证：**\n",
    "\n",
    "**(1).对任意常数$c_1,c_2$,都有**\n",
    "\n",
    "$$exp(c_1A+c_2A)=expc_1A·expc_2A$$\n",
    "\n",
    "**(2).对任意整数k，都有**\n",
    "\n",
    "$$(expA)^k=exp kA$$\n",
    "\n",
    "**(当k是负整数的时候，规定$(exp)^k=[(exp A)^{-1}]^{-k}$.)**"
   ]
  },
  {
   "cell_type": "markdown",
   "metadata": {},
   "source": [
    "**解：**\n",
    "\n",
    "**(1).**\n",
    "\n",
    "$$exp(c_1A+c_2A)=\\sum_{k=0}^\\infty \\frac{(\\mathrm c_1\\mathbf A+c_2\\mathbf A)^k}{\\mathrm k!}=\\sum_{k=0}^\\infty[\\sum_{t=0}^k \\frac{(c_1\\mathbf A)^t(c_2\\mathbf A)^{k-1}}{l!(k-l)!}]=\\sum_{i=0}^\\infty \\frac{(c_1\\mathbf A)^i}{i!}(\\sum_{i=0}^\\infty \\frac{(c_2\\mathbf A)^j}{ j!})=expc_1\\mathbf A*expc_2\\mathbf A$$\n",
    "\n",
    "**证毕**"
   ]
  },
  {
   "cell_type": "markdown",
   "metadata": {},
   "source": [
    "**（2）**\n",
    "\n",
    "**由第一题可知：**\n",
    "\n",
    "$$exp(2\\mathbf A)=exp(\\mathbf A+\\mathbf A)=exp\\mathbf A*exp\\mathbf A=(exp \\mathbf A)^2;\\\\\n",
    "exp(3\\mathbf A)=exp(\\mathbf A+2\\mathbf A)=exp\\mathbf A+exp2\\mathbf A=(exp\\mathbf A)^3;\\\\\n",
    "\\cdots\\\\\n",
    "exp(k\\mathbf A)=exp[\\mathbf A+(k-1)\\mathbf A]=(exp\\mathbf A)^k;\\\\\n",
    "$$\n",
    "\n",
    "**且当$k=0$时：**\n",
    "\n",
    "$$expk\\mathbf A=exp 0=\\mathbf E=(exp \\mathbf A)^0$$\n",
    "\n",
    "**成立。**\n",
    "\n",
    "**当$k=1$时显然成立。则对所有负整数成立。**\n",
    "\n",
    "**当$k$是负整数时，**\n",
    "\n",
    "$$(exp \\mathbf A)^k=[(exp\\mathbf A)^{-1}]^{-k}=[exp(-\\mathbf A)]^{-k}=exp(-k)(-\\mathbf A)=exp k\\mathbf A$$\n",
    "\n",
    "\n",
    "**成立。**\n",
    "\n",
    "**则对任意整数都成立**"
   ]
  },
  {
   "cell_type": "markdown",
   "metadata": {},
   "source": [
    "**5.试求方程组$\\mathbf x'=\\mathbf A\\mathbf x$的基解矩阵，并求满足初值条件$\\mathbf \\varphi (0)=\\eta$的解$\\mathbf \\varphi(0)=\\eta$:**"
   ]
  },
  {
   "cell_type": "markdown",
   "metadata": {},
   "source": [
    "**(2).\n",
    "$\n",
    "\\mathbf A=\n",
    "\\left [\n",
    "\\begin{matrix}\n",
    "1&0&3\\\\\n",
    "8&1&-1\\\\\n",
    "5&1&-1\\\\\n",
    "\\end{matrix}\n",
    "\\right ]\n",
    ",\\quad\n",
    "\\mathbf \\eta=\n",
    "\\left [\n",
    "\\begin{matrix}\n",
    "0\\\\\n",
    "-2\\\\\n",
    "-7\\\\\n",
    "\\end{matrix}\n",
    "\\right ]\n",
    "$\n",
    "**"
   ]
  },
  {
   "cell_type": "markdown",
   "metadata": {},
   "source": [
    " **解:**\n",
    " \n",
    " **特征方程为:**\n",
    " \n",
    " $$(\\lambda+3)(\\lambda^2-4\\lambda-3)=0$$"
   ]
  },
  {
   "cell_type": "markdown",
   "metadata": {
    "collapsed": true
   },
   "source": [
    "**解得：**\n",
    "\n",
    "$$\\lambda_1=-3,\\quad \\lambda_2=2+\\sqrt 7,\\quad \\lambda_3=2-\\sqrt 7$$"
   ]
  },
  {
   "cell_type": "markdown",
   "metadata": {},
   "source": [
    "**求得方程的一个基解矩阵为：**\n",
    "\n",
    "$$\\mathbf \\Phi(t)=\n",
    "\\left [\n",
    "\\begin{matrix}\n",
    "3e^{-3t}&3e^{(2+\\sqrt 7)t}&3e^{(2-\\sqrt 7)t}\\\\\n",
    "-7e^{-3t}&(4\\sqrt 7-5)e^{(2+\\sqrt 7)t}&(-4\\sqrt 7-5)e^{(2-\\sqrt 7)t}\\\\\n",
    "-4e^{-3t}&(\\sqrt 7+1)e^{2+\\sqrt 7)t}&(1-\\sqrt 7)e^{(2-\\sqrt 7)t}\\\\\n",
    "\\end{matrix}\n",
    "\\right ]\n",
    "$$"
   ]
  },
  {
   "cell_type": "markdown",
   "metadata": {},
   "source": [
    "**又满足初值条件的解为:**\n",
    "\n",
    "$$\\mathbf \\varphi(t)=\\mathbf \\Phi(t)\\mathbf \\Phi^{-1}(0)\\eta=exp\\mathbf At·\\eta$$ "
   ]
  },
  {
   "cell_type": "markdown",
   "metadata": {},
   "source": [
    "$$\n",
    "\\begin{aligned}\n",
    "\\mathbf \\varphi(t)&=exp\\mathbf At·\\eta\\\\\n",
    "&=\\mathbf \\Phi(t)\\mathbf\\Phi^{-1}(0)\\eta\\\\\n",
    "&=\\frac{\\mathrm 1}{\\mathrm 108\\sqrt 7}\n",
    "\\left [\n",
    "\\begin{matrix}\n",
    "3e^{-3t}&3e^{(2+\\sqrt 7)t}&3e^{(2-\\sqrt 7)t}\\\\\n",
    "-7e^{-3t}&(4\\sqrt 7-5)e^{(2+\\sqrt 7)t}&(-4\\sqrt 7-5)e^{(2-\\sqrt 7)t}\\\\\n",
    "-4e^{-3t}&(\\sqrt 7+1)e^{2+\\sqrt 7)t}&(1-\\sqrt 7)e^{(2-\\sqrt 7)t}\\\\\n",
    "\\end{matrix}\n",
    "\\right ]\n",
    "\\left [\n",
    "\\begin{matrix}\n",
    "18\\sqrt 7&6\\sqrt 7-24\\sqrt 7\\\\\n",
    "27+9\\sqrt 7&15-3\\sqrt 7&12\\sqrt 7-6\\\\\n",
    "9\\sqrt 7-27&-(15+3\\sqrt 7)&-12\\sqrt 7+6\\\\\n",
    "\\end{matrix}\n",
    "\\right ]\n",
    "\\left [\n",
    "\\begin{matrix}\n",
    "0\\\\\n",
    "-2\\\\\n",
    "7\\\\\n",
    "\\end{matrix}\n",
    "\\right ]\n",
    "\\\\\n",
    "&=\\frac{\\mathrm 1}{\\mathrm 4\\sqrt 7}\n",
    "\\left [\n",
    "\\begin{matrix}\n",
    "\\frac{\\mathrm 52\\sqrt 7}{\\mathrm 3}e^{-3t}+\\frac{\\mathrm 4-26\\sqrt 7}{\\mathrm 3}e^{(2+\\sqrt 7)t}+\\frac{\\mathrm -4-2\\sqrt 7}{\\mathrm 3}e^{(2+\\sqrt 7)t}\\\\\n",
    "\\frac{-364\\sqrt 7}{9}e^{-3t}+\\frac{-748+146\\sqrt 7}{9}e^{(2+\\sqrt7)t}+\\frac{748+146\\sqrt 7}{9}e^{(2-\\sqrt 7)t}\\\\\n",
    "-\\frac{\\mathrm 208 \\sqrt 7}{\\mathrm 9}e^{-3t}+\\frac{\\mathrm -178-22\\sqrt 7}{\\mathrm 9}e^{(2+\\sqrt 7)t}+\\frac{\\mathrm 178-22\\sqrt 7}{\\mathrm 9}e^{(2-\\sqrt 7)t}\\\\\n",
    "\\end{matrix}\n",
    "\\right ]\\\\\n",
    "\\end{aligned}\n",
    "$$"
   ]
  },
  {
   "cell_type": "markdown",
   "metadata": {
    "collapsed": true
   },
   "source": [
    "# <font color='red'>A 9/12\n"
   ]
  },
  {
   "cell_type": "code",
   "execution_count": null,
   "metadata": {
    "collapsed": true
   },
   "outputs": [],
   "source": []
  }
 ],
 "metadata": {
  "kernelspec": {
   "display_name": "SageMath 7.3",
   "language": "",
   "name": "sagemath"
  },
  "language_info": {
   "codemirror_mode": {
    "name": "ipython",
    "version": 2
   },
   "file_extension": ".py",
   "mimetype": "text/x-python",
   "name": "python",
   "nbconvert_exporter": "python",
   "pygments_lexer": "ipython2",
   "version": "2.7.10"
  }
 },
 "nbformat": 4,
 "nbformat_minor": 0
}
