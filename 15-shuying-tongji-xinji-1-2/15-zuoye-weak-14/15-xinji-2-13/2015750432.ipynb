{
 "cells": [
  {
   "cell_type": "markdown",
   "metadata": {
    "collapsed": true
   },
   "source": [
    "P217\n",
    "\n",
    "5.设Φ（t）为方程 $x'=Ax$(A为n×n常数矩阵)的标准基解矩阵（即Φ（x）=E）,\n",
    "\n",
    "证明：$Φ(t)Φ^{-1}(t_0)=Φ(t-t_0)$,\n",
    "其中$t_0$为某一值."
   ]
  },
  {
   "cell_type": "markdown",
   "metadata": {},
   "source": [
    "解：∵A是n×n常数矩阵\n",
    "\n",
    "∴方程$x'=Ax$的基解矩阵$Φ(t)$满足:$\\frac{\\mathrm dΦ(t)}{\\mathrm dt}=A·Φ(t)$\n",
    "\n",
    "则可解得：$Φ(t)=e^{At}$"
   ]
  },
  {
   "cell_type": "markdown",
   "metadata": {},
   "source": [
    "∴Φ（t）是指数型的\n",
    "\n",
    "又根据指数函数的特点知道$Φ^{-1}（t）e^{-At}$\n",
    "\n",
    "∴$Φ(t)Φ^{-1}(t_0)=e^{At}e^{-At_0}=e^{A(t-t_0)}=Φ(t-t_0)$"
   ]
  },
  {
   "cell_type": "markdown",
   "metadata": {},
   "source": [
    "10.求下列方程的通解：\n",
    "\n",
    "(2)$x'''-8x=e^{2t}$."
   ]
  },
  {
   "cell_type": "markdown",
   "metadata": {},
   "source": [
    "解：对应齐次方程$x'''-8x=0$的特征方程为：\n",
    "\n",
    "$λ^3-8=0$\n",
    "\n",
    "∴得到:$λ_1=2,  \\quad λ_2=-1+\\sqrt {3}i, \\quad λ_3=-1-\\sqrt {3}i$\n",
    "\n",
    "则齐次方程的通解为：\n",
    "\n",
    "$x=C_{1}e^{2t}+C_{2}e^{-t}cos \\sqrt {3}t+C_{3}e^{-t}sin \\sqrt{3}t$"
   ]
  },
  {
   "cell_type": "markdown",
   "metadata": {},
   "source": [
    "令原方程的通解为$x_1=Ate^{2t}$,\n",
    "\n",
    "将其带入原方程可得到：$A=\\frac{\\mathrm 1}{\\mathrm 12}$\n",
    "\n",
    "∴特解为：$x_1=\\frac{\\mathrm 1}{\\mathrm 12}te^{2t}$\n",
    "\n",
    "则原方程的通解为：\n",
    "\n",
    "$x=C_{1}e^{2t}+C_{2}e^{-t}cos \\sqrt {3}t+C_{3}e^{-t}sin \\sqrt{3}t+\\frac{\\mathrm 1}{\\mathrm 12}te^{2t}$"
   ]
  },
  {
   "cell_type": "markdown",
   "metadata": {},
   "source": [
    "P244.\n",
    "\n",
    "1.(2)证明：对任意整数k，都有       $(expA)^k=expkA$."
   ]
  },
  {
   "cell_type": "markdown",
   "metadata": {},
   "source": [
    "证:   ∵$exp(c_{1}A+c_{2}A)=expc_{1}A·expc_{2}A$\n",
    "\n",
    "∴设$c_{1}=c_{2}=1$,则有\n",
    "\n",
    "$exp(2A)=exp(A+A)=expA·expA=（expA）^2$\n",
    "\n",
    "$exp(3A)=exp(A+2A)=expA·exp2A=（expA）^3$\n",
    "\n",
    "$exp(kA)=exp[A+(k_1)A]=（expA）^k$"
   ]
  },
  {
   "cell_type": "markdown",
   "metadata": {},
   "source": [
    "当$k=0$时，\n",
    "\n",
    "右边$=（exp）^k=(exp)^0=E$\n",
    "\n",
    "左边$=expkA=exp0=E$\n",
    "\n",
    "即k=0时，等式成立."
   ]
  },
  {
   "cell_type": "markdown",
   "metadata": {},
   "source": [
    "当k=1时，显然左边=expA=右边，等式成立.\n",
    "\n",
    "由归纳法，易知等式对所有的非负整数成立.\n",
    "\n",
    "当k是负整数时，\n",
    "\n",
    "$(exp)^k=[(exp)^{-1}]^{-k}=exp(-k)(-A)=expkA$\n",
    "\n",
    "∴当k是负整数时，等式也成立."
   ]
  },
  {
   "cell_type": "markdown",
   "metadata": {},
   "source": [
    "∴综上，可证得：$(expA)^k=expkA$"
   ]
  },
  {
   "cell_type": "markdown",
   "metadata": {},
   "source": [
    "5.试求方程组$x'=Ax$的矩阵，并满足初值条件$φ(0)=η$的解$φ(t)$:\n",
    "\n",
    "（2）$A=\n",
    "\\left[\n",
    "\\begin{matrix}\n",
    "1&0&3\\\\\n",
    "8&1&-1\\\\\n",
    "5&1&-1\\\\\n",
    "\\end{matrix}\n",
    "\\right]$"
   ]
  },
  {
   "cell_type": "markdown",
   "metadata": {},
   "source": [
    "解：∵方程的一个基解矩阵为：\n",
    "\n",
    "$\n",
    "\\left[\n",
    "\\begin{matrix}\n",
    "3e^{-3t}&3e^{(2+\\sqrt{7})^t}&3e^{(2-\\sqrt{7})^t}\\\\\n",
    "-7e^{-3t}&(4\\sqrt{7}-5)e^{(2+\\sqrt{7})^t}&-(4\\sqrt{7}+5)e^{(2-\\sqrt{7})^t}\\\\\n",
    "-4e^{-3t}&(\\sqrt{7}+1)e^{(2+\\sqrt{7})^t}&(1-\\sqrt{7})e^{(2-\\sqrt{7})^t}\\\\\n",
    "\\end{matrix}\n",
    "\\right]\n",
    "$"
   ]
  },
  {
   "cell_type": "markdown",
   "metadata": {},
   "source": [
    "又满足初值条件\n",
    "$φ（0）=η=\n",
    "\\left[\n",
    "\\begin{matrix}\n",
    "0\\\\\n",
    "-2\\\\\n",
    "-7\\\\\n",
    "\\end{matrix}\n",
    "\\right]$\n",
    "的解为：\n",
    "\n",
    "$φ(t)=Φ(t)Φ^{-1}(0)η=expAt·η$\n"
   ]
  },
  {
   "cell_type": "markdown",
   "metadata": {},
   "source": [
    "∴通过计算得：\n",
    "\n",
    "$φ(t)=\\frac{\\mathrm 1}{\\mathrm 4 \\sqrt{7}}×\n",
    "\\left[\n",
    "\\begin{matrix}\n",
    "\\frac{\\mathrm 52 \\sqrt{7}}{\\mathrm 3}e^{-3t}+\\frac{\\mathrm 4-26 \\sqrt{7}}{\\mathrm 3}e^{(2+\\sqrt{7})t}+\\frac{\\mathrm -4-2 \\sqrt{7}}{\\mathrm 3}e^{(2-\\sqrt{7})t}\\\\\n",
    "\\frac{\\mathrm -364 \\sqrt{7}}{\\mathrm 9}e^{-3t}+\\frac{\\mathrm (-748+146\\sqrt{7})}{\\mathrm 9}e^{(2+\\sqrt{7})t}+\\frac{\\mathrm (748+146\\sqrt{7})}{\\mathrm 9}e^{(2-\\sqrt{7})t}\\\\\n",
    "\\frac{\\mathrm -208 \\sqrt{7}}{\\mathrm 9}e^{-3t}+\\frac{\\mathrm -178-22\\sqrt{7}}{\\mathrm 9}e^{(2+\\sqrt{7})t}+\\frac{\\mathrm 178-22\\sqrt{7}}{\\mathrm 9}e^{(2-\\sqrt{7})t}\\\\\n",
    "\\end{matrix}\n",
    "\\right]\n",
    "$"
   ]
  },
  {
   "cell_type": "markdown",
   "metadata": {
    "collapsed": true
   },
   "source": [
    "# <font color='red'>A 9/12"
   ]
  },
  {
   "cell_type": "code",
   "execution_count": null,
   "metadata": {
    "collapsed": true
   },
   "outputs": [],
   "source": []
  }
 ],
 "metadata": {
  "kernelspec": {
   "display_name": "SageMath 7.3",
   "language": "",
   "name": "sagemath"
  },
  "language_info": {
   "codemirror_mode": {
    "name": "ipython",
    "version": 2
   },
   "file_extension": ".py",
   "mimetype": "text/x-python",
   "name": "python",
   "nbconvert_exporter": "python",
   "pygments_lexer": "ipython2",
   "version": "2.7.10"
  }
 },
 "nbformat": 4,
 "nbformat_minor": 0
}
