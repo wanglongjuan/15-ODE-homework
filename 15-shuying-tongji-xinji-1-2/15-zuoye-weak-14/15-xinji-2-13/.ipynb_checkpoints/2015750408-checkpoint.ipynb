{
 "cells": [
  {
   "cell_type": "markdown",
   "metadata": {},
   "source": [
    "常微分作业（第14周）"
   ]
  },
  {
   "cell_type": "markdown",
   "metadata": {},
   "source": [
    "$P217\\quad题5：$\n",
    "\n",
    "证：$$由于A是n×n常数矩阵$$\n",
    "\n",
    "$$\\therefore方程x'=Ax的基解矩阵\\Phi(t)满足\\frac{d \\Phi(t)}{dt}=A \\Phi(t)$$\n",
    "\n",
    "$$解得\\Phi(t)=e^{At},即\\Phi(t)是指数型的$$\n",
    "\n",
    "$$\\because \\Phi^{-1}(t)=e^{-At}$$\n",
    "\n",
    "$$所以\\Phi(t) \\Phi^{-1}(t_0)=e^{At} e^{-At_0}=e^{A(t-t_0)}=\\Phi (t-t_0)$$"
   ]
  },
  {
   "cell_type": "markdown",
   "metadata": {},
   "source": [
    "$P218\\quad题10：$\n",
    "\n",
    "（2）解：可知对应的齐次线性方程x\"'-8x=0的基本解组为：$$x_1(t)=e^{2t},x_2(t)=e^{-t}\\cos \\sqrt{3}t,x_3(t)=e^{-t} \\sin \\sqrt{3}t$$\n",
    "\n",
    "$$\\because \\lambda=2是方程的特征根$$\n",
    "\n",
    "$$\\therefore 方程有形如x=Ate^{2t}的解，代入得:A=\\frac{1}{12}$$\n",
    "\n",
    "$$\\therefore 原方程的通解为:x=(c_1\\cos\\sqrt{3}t+c_2\\sin\\sqrt{3}t)e^{-t}+c_3e^{2t}+\\frac{1}{12}te^{2t}$$"
   ]
  },
  {
   "cell_type": "markdown",
   "metadata": {},
   "source": [
    "$P244\\quad题1：$\n",
    "\n",
    "（2）证明：对正整数k=1,有$$(\\exp A)^k=\\exp(kA)$$\n",
    "\n",
    "$$设k=n,且(\\exp A)^n=\\exp(nA),所以nAA=nA^2=A(nA),矩阵A,nA可以交换$$\n",
    "\n",
    "$$则(\\exp A)^{n+1}=(\\exp A)^n (\\exp A)=\\exp(nA) \\exp A=\\exp(n+1)A,即对k=n+1同样成立$$\n",
    "\n",
    "$$由数学归纳法可知对任意正整数k，均成立$$\n",
    "\n",
    "$$当k为负整数-1，则有(\\exp A)^{-1}=\\exp(-A)$$\n",
    "\n",
    "$$设k=-n时成立(\\exp A)^{-n}=\\exp(-nA),所以同理$$\n",
    "\n",
    "$$(\\exp A)^{-(n+1)}=(\\exp A)^{-n} (\\exp A)^{-1}=\\exp(-nA) \\exp(-A)=\\exp[-(n+1)A],即对k=-(n+1)也成立$$\n",
    "\n",
    "$$由数学归纳法可知对任意负整数k，均成立$$\n",
    "\n",
    "$$当k=0时，等式也成立，即证$$"
   ]
  },
  {
   "cell_type": "markdown",
   "metadata": {},
   "source": [
    "$P245\\quad题5$\n",
    "\n",
    "（2）解:矩阵的特征值为：$$\\lambda_1=-3,\\lambda_2=2+\\sqrt{7},\\lambda_3=2-\\sqrt{7}$$\n",
    "\n",
    "特征向量为:$$u=\\alpha[-3,7,4]^T,v=\\beta[3,-5+4\\sqrt{7},1+\\sqrt{7}]^T,r=\\gamma[3,-5-4\\sqrt{7},1-\\sqrt{7}]$$\n",
    "\n",
    "$\\therefore方程组x'=Ax的一个基解矩阵为:$\n",
    "\n",
    "$$\n",
    "\\Phi(t)=\n",
    "\\begin{bmatrix}\n",
    "-3e^{-3t}&3e^{(2+\\sqrt{7})t}&3e^{(2-\\sqrt{7})t}\\\\\n",
    "7e^{-3t}&(-5+4\\sqrt{7})e^{(2+\\sqrt{7})t}&(-5-4\\sqrt{7})e^{(2-\\sqrt{7})t}\\\\\n",
    "4e^{-3t}&(1+\\sqrt{7})e^{(2+\\sqrt{7})t}&(1-\\sqrt{7})e^{(2-\\sqrt{7})t}\\\\\n",
    "\\end{bmatrix}\n",
    "$$\n",
    "\n",
    "$\\therefore满足初值条件\\varphi(0)=\\eta的解为:$\n",
    "\n",
    "$$\n",
    "\\varphi(t)=[\\exp(At)]\\eta=\n",
    "\\begin{bmatrix}\n",
    "\\frac{13}{3}e^{-3t}+\\frac{2-13\\sqrt{7}}{6\\sqrt{7}}e^{(2+\\sqrt{7})t}+\\frac{-2-13\\sqrt{7}}{6\\sqrt{7}}e^{(2-\\sqrt{7})t}\\\\\n",
    "-\\frac{91}{9}e^{-3t}+\\frac{-374+73\\sqrt{7}}{18\\sqrt{7}}e^{(2+\\sqrt{7})t}+\\frac{374+73\\sqrt{7}}{18\\sqrt{7}}e^{(2-\\sqrt{7})t}\\\\\n",
    "-\\frac{52}{9}e^{-3t}+\\frac{-89-11\\sqrt{7}}{18\\sqrt{7}}e^{(2+\\sqrt{7})t}+\\frac{89-11\\sqrt{7}}{18\\sqrt{7}}e^{(2-\\sqrt{7})t}\\\\\n",
    "\\end{bmatrix}\n",
    "$$"
   ]
  },
  {
   "cell_type": "markdown",
   "metadata": {
    "collapsed": true
   },
   "source": [
    "# <font color='red'>A 9/12"
   ]
  },
  {
   "cell_type": "code",
   "execution_count": null,
   "metadata": {
    "collapsed": true
   },
   "outputs": [],
   "source": []
  }
 ],
 "metadata": {
  "kernelspec": {
   "display_name": "SageMath 7.3",
   "language": "",
   "name": "sagemath"
  },
  "language_info": {
   "codemirror_mode": {
    "name": "ipython",
    "version": 2
   },
   "file_extension": ".py",
   "mimetype": "text/x-python",
   "name": "python",
   "nbconvert_exporter": "python",
   "pygments_lexer": "ipython2",
   "version": "2.7.10"
  }
 },
 "nbformat": 4,
 "nbformat_minor": 0
}
