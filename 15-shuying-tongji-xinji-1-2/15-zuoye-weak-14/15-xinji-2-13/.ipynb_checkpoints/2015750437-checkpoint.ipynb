{
 "cells": [
  {
   "cell_type": "markdown",
   "metadata": {},
   "source": [
    "#常微分方程作业 2015750437 李玉贤\n",
    "\n",
    "##P217.5.10.(2).P244.1.(2).5.(2)."
   ]
  },
  {
   "cell_type": "markdown",
   "metadata": {},
   "source": [
    "**$5.设\\Phi(t)为方程x'=Ax(A为n*n常数矩阵)的标准基解矩阵（即：\\Phi（0）=E），证明：$\n",
    "$$\\Phi(t)\\Phi_{-1}(t_0)=\\Phi(t-t_0),$$\n",
    "$其中t_0为某一值$\n",
    "**"
   ]
  },
  {
   "cell_type": "markdown",
   "metadata": {},
   "source": [
    "**$ 证明:$**\n",
    "$$\n",
    "\\begin{aligned}\n",
    "[\\Phi(t)\\Phi_{-1}(t_0)]' &\\equiv \\Phi'(t)\\Phi_{-1}(t_0)\\\\\n",
    "& \\equiv A\\Phi(t)\\Phi_{-1}(t_0)\\\\\n",
    "&\\equiv A[\\Phi(t)\\Phi_{-1}(t_0)]\\\\\n",
    "\\Phi'(t-t_0)&\\equiv A\\Phi(t-t_0)]\\\\\n",
    "\\end{aligned}\n",
    "$$\n",
    "$且当t=t_0时\\Phi(t_0)\\Phi_{-1}(t_0)=E=\\Phi(0)=\\Phi(t_0-t_0)$\n",
    "\n",
    "$因此，\\Phi(t)\\Phi_{-1}(t_0)和\\Phi(t-t_0)同为方程x'=Ax的解矩阵，且有同样的初值$\n",
    "\n",
    "$据解的存在唯一性定理，它们相等$\n"
   ]
  },
  {
   "cell_type": "markdown",
   "metadata": {},
   "source": [
    "**$10.求下列方程的通解：$**"
   ]
  },
  {
   "cell_type": "markdown",
   "metadata": {},
   "source": [
    "**(2).x'''-8x=e^{2t}**"
   ]
  },
  {
   "cell_type": "markdown",
   "metadata": {},
   "source": [
    "**$ 解:$**\n",
    "\n",
    "$其特征方程为：\\lambda^3-8=0$\n",
    "\n",
    "$解得：\\lambda_1=2,\\lambda_2=-1+\\sqrt 3i,\\lambda_3=-1-\\sqrt 3i$\n",
    "\n",
    "$齐次方程通解为：x=C_1e^{2t}+C_2e^{-t}\\sin\\sqrt 3t$\n",
    "\n",
    "$令原方程的一特解为x_1=Ate^{2t},代原方程入得：A=\\frac{1}{12}$\n",
    "\n",
    "$特解：x_1=\\frac{1}{12}te^{2t}$\n",
    "\n",
    "$通解：x=C_1e^{2t}+C_2e^{-t}\\cos\\sqrt 3t+C_3e^{-t}\\sin\\sqrt 3t+\\frac{1}{12}te^{2t}$"
   ]
  },
  {
   "cell_type": "markdown",
   "metadata": {},
   "source": [
    "**$1.假设A为n*n常数矩阵，证：$**"
   ]
  },
  {
   "cell_type": "markdown",
   "metadata": {},
   "source": [
    "**(2).对任意整数k都有 \n",
    "\n",
    "$$(exp A)^k=exp(kA)$$\n",
    "\n",
    "$（当是负整数时，规定(exp A)^k=[(exp A)^{-1}]^{-k}）$\n",
    "**"
   ]
  },
  {
   "cell_type": "markdown",
   "metadata": {},
   "source": [
    "**$ 解:$**\n",
    "\n",
    "$k为正整数时，对k=1有(exp A)^k=exp (kA)$\n",
    "\n",
    "$设k=n,(exp A)^n=exp (nA)成立$\n",
    "\n",
    "$因nA\\cdot A=nA^2=A\\cdot (nA),矩阵nA,A可交换$\n",
    "\n",
    "$(expA)^{n+1}=(expA)^n\\cdot(expA)=exp(nA)\\cdot expA=exp(n+1)A$\n",
    "\n",
    "$即对k=n+1也成立，由数学归纳法:(exp A)^k=exp (kA)$\n",
    "\n",
    "$同理，k为负整数时，(exp A)^k=exp (kA)成立$\n",
    "\n",
    "$k=0时等式成立$\n",
    "\n",
    "$综上，对任意整数k都有(exp A)^k=exp(kA)$"
   ]
  },
  {
   "cell_type": "markdown",
   "metadata": {},
   "source": [
    "**$5.试求方程组x'=Ax的基解矩阵，并求满足初值条件\\varphi(0)=\\eta的解\\varphi(t)\n",
    "**"
   ]
  },
  {
   "cell_type": "markdown",
   "metadata": {},
   "source": [
    "$(2)A=\n",
    "\\begin{bmatrix}\n",
    "1&0&3\\\\\n",
    "8&1&-1\\\\\n",
    "5&1&-1\n",
    "\\end{bmatrix}\n",
    ",\n",
    "\\eta=\n",
    "\\begin{bmatrix}\n",
    "0\\\\\n",
    "-2\\\\\n",
    "-7\n",
    "\\end{bmatrix}\n",
    "$"
   ]
  },
  {
   "cell_type": "markdown",
   "metadata": {},
   "source": [
    " **$ 解:$**$\\mathbf A$ 的特征方程的特征根为：\n",
    " $$det(\\lambda \\mathbf E-\\mathbf A)=\\begin{bmatrix} \\lambda-1&0&-3\\\\-8&\\lambda-1&1\\\\-5&-1&\\lambda+1 \\end{bmatrix}=0$$\n",
    " 得$(\\lambda+3)(\\lambda^2-4\\lambda-3)=0 \\to \\lambda_1=-3,\\lambda_2=2+\\sqrt 7,\\lambda_3=2-\\sqrt 7$\n",
    " \n",
    " 对 $\\lambda=-3$,有\n",
    " $$(\\mathbf A+3\\mathbf E)\\mu= \\begin{bmatrix} 4&0&3\\\\8&4&-1\\\\5&1&2 \\end{bmatrix} \\mu=0$$\n",
    " $\\begin{cases}\n",
    "4\\mu_1+3\\mu_3=0\\\\\n",
    "8\\mu_1+4\\mu_2-\\mu_3=0\\\\\n",
    "5\\mu_1+\\mu_2+2\\mu_3=0\n",
    "\\end{cases}$\n",
    "\n",
    "求得 $\\mathbf\\mu_1=\\alpha(3\\quad-7\\quad-4)^T$\n",
    "\n",
    "对 $\\lambda=2+\\sqrt 7$,有\n",
    "$$(\\mathbf A+(2+\\sqrt 7)\\mathbf E)\\mu=\\begin{bmatrix} 3+\\sqrt 7&0&3\\\\8&3+\\sqrt 7&-1\\\\5&1&1+\\sqrt 7 \\end{bmatrix}\\mu=0$$\n",
    "$\\begin{cases}\n",
    "(3+\\sqrt 7)\\mu_1+3\\mu_3=0\\\\\n",
    "8\\mu_1+(3+\\sqrt 7)\\mu_2-\\mu_3=0\\\\\n",
    "5\\mu_1+\\mu_2+(1+\\sqrt 7)\\mu_3=0\n",
    "\\end{cases}$\n",
    "\n",
    "求得 $\\mu_2=\\beta(3\\quad4\\sqrt 7-5\\quad\\sqrt 7 +1)^T$\n",
    "\n",
    "对 $\\lambda=2-\\sqrt 7 $,有\n",
    "$$(\\mathbf A+(2-\\sqrt 7)\\mathbf E)\\mu=\\begin{bmatrix} 3-\\sqrt 7&0&3\\\\8&3-\\sqrt 7&-1\\\\5&1&1-\\sqrt 7 \\end{bmatrix}\\mu=0$$\n",
    "$\\begin{cases}\n",
    "(3-\\sqrt 7)\\mu_1+3\\mu_3=0\\\\\n",
    "8\\mu_1+(3-\\sqrt 7)\\mu_2-\\mu_3=0\\\\\n",
    "5\\mu_1+\\mu_2+(1-\\sqrt 7)\\mu_3=0\n",
    "\\end{cases}$\n",
    "求得 $\\mu_3=\\gamma(3\\quad-5-4\\sqrt 7\\quad1-\\sqrt 7)^T$\n",
    "\n",
    "取 $\\alpha=\\beta=\\gamma=1$,基解矩阵为:\n",
    "$$\n",
    "\\Phi(t)=\n",
    "\\begin{bmatrix} \n",
    "3e^{-3t}&3e^{(2+\\sqrt7)t}&3e^{(2-\\sqrt7)t}\\\\\n",
    "-7e^{-3t}&(4\\sqrt7-5)e^{(2+\\sqrt7)t}&(-5-4\\sqrt7)e^{(2-\\sqrt7)t}\\\\\n",
    "-4e^{-3t}&(\\sqrt7+1)e^{(2+\\sqrt7)t}&(1-\\sqrt7)e^{(2-\\sqrt7)t}\n",
    "\\end{bmatrix}\n",
    "$$\n",
    "\n",
    "满足初值条件$\\varphi(0)=\\eta$的解为：\n",
    "$$\n",
    "\\varphi(t)=exp \\mathbf A t\\bullet\\eta\n",
    "=\\Phi(t)\\Phi^{-1}(0)\\bullet\\eta\n",
    "$$\n",
    "计算得：\n",
    "$$\\varphi(t)=\n",
    "\\frac{1}{4\\sqrt7}\\times\n",
    "\\begin{bmatrix}\n",
    "\\frac{52\\sqrt7}{3}e^{-3t}+\\frac{4-26\\sqrt7}{3}e^{(2+\\sqrt7)t}+\\frac{-4-2\\sqrt7}{3}e^{(2-\\sqrt7)t}\\\\\n",
    "\\frac{-364\\sqrt7}{9}e^{-3t}+\\frac{-748+146\\sqrt7}{9}e^{(2+\\sqrt7)t}+\\frac{748+146\\sqrt7}{9}e^{(2-\\sqrt7)t}\\\\\n",
    "\\frac{-208\\sqrt7}{9}e^{-3t}+\\frac{-178-22\\sqrt7}{9}e^{(2+\\sqrt7)t}+\\frac{178-22\\sqrt7}{9}e^{(2-\\sqrt7)t}\n",
    "\\end{bmatrix}\n",
    "$$"
   ]
  },
  {
   "cell_type": "markdown",
   "metadata": {
    "collapsed": true
   },
   "source": [
    "# <font color='red'>A 9/12"
   ]
  },
  {
   "cell_type": "code",
   "execution_count": null,
   "metadata": {
    "collapsed": true
   },
   "outputs": [],
   "source": []
  }
 ],
 "metadata": {
  "kernelspec": {
   "display_name": "SageMath 7.3",
   "language": "",
   "name": "sagemath"
  },
  "language_info": {
   "codemirror_mode": {
    "name": "ipython",
    "version": 2
   },
   "file_extension": ".py",
   "mimetype": "text/x-python",
   "name": "python",
   "nbconvert_exporter": "python",
   "pygments_lexer": "ipython2",
   "version": "2.7.10"
  }
 },
 "nbformat": 4,
 "nbformat_minor": 0
}
