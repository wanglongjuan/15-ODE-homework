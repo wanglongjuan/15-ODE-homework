{
 "cells": [
  {
   "cell_type": "markdown",
   "metadata": {},
   "source": [
    "# 11月29日"
   ]
  },
  {
   "cell_type": "markdown",
   "metadata": {},
   "source": [
    "### 5.设$\\Phi(t)$为方程$x'=Ax$($A$为$n×n$常数矩阵)的标准基解矩阵(即$\\Phi(0)=E$),证明:$\\Phi(t)\\Phi^{-1}(t_0)=\\Phi(t-t_0),$其中$t_0$为某一值."
   ]
  },
  {
   "cell_type": "markdown",
   "metadata": {},
   "source": [
    "$∵A为n×n常数矩阵.∴方程x'=Ax的基解矩阵\\Phi(t)满足\\frac{\\mathrm d \\Phi(t)}{\\mathrm d t}=A·\\Phi(t),$"
   ]
  },
  {
   "cell_type": "markdown",
   "metadata": {},
   "source": [
    "$解得\\Phi(t)=e^{At},可见\\Phi(t)是指数型的，根据指函数的特点可得\\Phi^{-1}(t)=e^{-At}.$"
   ]
  },
  {
   "cell_type": "markdown",
   "metadata": {},
   "source": [
    "$∴\\Phi(t)\\Phi^{-1}(t_0)=e^{At}e^{-At_0}=e^{A(t-t_0)}=\\Phi(t-t_0)$"
   ]
  },
  {
   "cell_type": "markdown",
   "metadata": {},
   "source": [
    "$∴命题得证.$"
   ]
  },
  {
   "cell_type": "markdown",
   "metadata": {},
   "source": [
    "### 10.试求下列方程的解："
   ]
  },
  {
   "cell_type": "markdown",
   "metadata": {},
   "source": [
    "### $(2)x'''-8x=e^{2t}.$"
   ]
  },
  {
   "cell_type": "markdown",
   "metadata": {},
   "source": [
    "$齐次方程x'''-8x=0的特征方程为$"
   ]
  },
  {
   "cell_type": "markdown",
   "metadata": {},
   "source": [
    "$\\quad\\quad\\lambda^3-8=0$"
   ]
  },
  {
   "cell_type": "markdown",
   "metadata": {},
   "source": [
    "$解得\\lambda_1=2,\\lambda_2=-1+\\sqrt 3 i,\\lambda_3=-1-\\sqrt 3 i.$"
   ]
  },
  {
   "cell_type": "markdown",
   "metadata": {},
   "source": [
    "$∴齐次方程通解为x=C_1e^{2t}+C_2e^{-t}\\cos {\\sqrt 3 t}+C_3e^{-t}\\sin{\\sqrt 3 t}$"
   ]
  },
  {
   "cell_type": "markdown",
   "metadata": {},
   "source": [
    "$令原方程的一个特解为x_1=Ate^{2t},代入原方程可得$"
   ]
  },
  {
   "cell_type": "markdown",
   "metadata": {},
   "source": [
    "$\\quad\\quad A=\\frac{1}{12}$"
   ]
  },
  {
   "cell_type": "markdown",
   "metadata": {},
   "source": [
    "$可得特解为x_1=\\frac{1}{12}te^{2t}.则原方程通解为$"
   ]
  },
  {
   "cell_type": "markdown",
   "metadata": {},
   "source": [
    "$x(t)=C_1e^{2t}+C_2e^{-t}\\cos {\\sqrt 3 t}+C_3e^{-t}\\sin{\\sqrt 3 t}+\\frac{1}{12}te^{2t}.$"
   ]
  },
  {
   "cell_type": "markdown",
   "metadata": {},
   "source": [
    "# 11月30日"
   ]
  },
  {
   "cell_type": "markdown",
   "metadata": {},
   "source": [
    "### 1.假设$A$是$n×n$矩阵，试证："
   ]
  },
  {
   "cell_type": "markdown",
   "metadata": {},
   "source": [
    "### (2)对任意整数$k$，都有$(\\exp A)^k=\\exp kA.$"
   ]
  },
  {
   "cell_type": "markdown",
   "metadata": {},
   "source": [
    "### $\\quad$(当$k$是负整数时，规定$(\\exp A)^k=[(\\exp A)^{-1}]^{-K}.)$"
   ]
  },
  {
   "cell_type": "markdown",
   "metadata": {},
   "source": [
    "$利用(1)的结论，设c_1=c_2=1,则有$"
   ]
  },
  {
   "cell_type": "markdown",
   "metadata": {},
   "source": [
    "$\\quad \\exp(2A)=\\exp(A+A)=\\exp A ·\\exp A=(\\exp A)^2.$"
   ]
  },
  {
   "cell_type": "markdown",
   "metadata": {},
   "source": [
    "$\\quad \\exp(3A)=\\exp(A+2A)=\\exp A ·\\exp 2A=(\\exp A)^3.$"
   ]
  },
  {
   "cell_type": "markdown",
   "metadata": {},
   "source": [
    "$\\quad ……$"
   ]
  },
  {
   "cell_type": "markdown",
   "metadata": {},
   "source": [
    "$\\quad \\exp(kA)=\\exp[A+(k-1)A]=(\\exp A)^k.$"
   ]
  },
  {
   "cell_type": "markdown",
   "metadata": {},
   "source": [
    "$当k=0时，$"
   ]
  },
  {
   "cell_type": "markdown",
   "metadata": {},
   "source": [
    "$\\quad\\quad 右边=(\\exp A)^k=(\\exp A)^0=E,$"
   ]
  },
  {
   "cell_type": "markdown",
   "metadata": {},
   "source": [
    "$\\quad\\quad 左边=\\exp kA=\\exp 0=E,$"
   ]
  },
  {
   "cell_type": "markdown",
   "metadata": {},
   "source": [
    "$即当k=0时，等式成立.$"
   ]
  },
  {
   "cell_type": "markdown",
   "metadata": {},
   "source": [
    "$当k=1时， 显然左边=\\exp A=右边，等式成立$"
   ]
  },
  {
   "cell_type": "markdown",
   "metadata": {},
   "source": [
    "$由数学归纳法可得，等式对所有非负整数成立.$"
   ]
  },
  {
   "cell_type": "markdown",
   "metadata": {},
   "source": [
    "$当k是非负整数时，$"
   ]
  },
  {
   "cell_type": "markdown",
   "metadata": {},
   "source": [
    "$\\quad\\quad(\\exp A)^k[(\\exp A)^{-1}]^{-k}=[\\exp(-A)]^{-k}=\\exp(-k)(-A)=\\exp kA.$"
   ]
  },
  {
   "cell_type": "markdown",
   "metadata": {},
   "source": [
    "$即当k是非负整数时，等式成立.$"
   ]
  },
  {
   "cell_type": "markdown",
   "metadata": {},
   "source": [
    "$综上所述，即证明了对任意整数k，都有(\\exp A)^k=\\exp kA.$"
   ]
  },
  {
   "cell_type": "markdown",
   "metadata": {},
   "source": [
    "### 5.试求方程组$x'=Ax$的基解矩阵，并求满足初值条件$\\varphi(0)=\\eta$的解$\\varphi(t)$："
   ]
  },
  {
   "cell_type": "markdown",
   "metadata": {},
   "source": [
    "### $(2)A=\n",
    "\\begin{bmatrix}\n",
    "1&0&3\\\\\n",
    "8&1&-1\\\\\n",
    "5&1&-1\n",
    "\\end{bmatrix}$"
   ]
  },
  {
   "cell_type": "markdown",
   "metadata": {},
   "source": [
    "$方程的一个基解矩阵为$"
   ]
  },
  {
   "cell_type": "markdown",
   "metadata": {},
   "source": [
    "$\\Phi(t)=\n",
    "\\begin{bmatrix}\n",
    "3e^{-3t}&3e^{(2+\\sqrt 7)t}&3e{(2-\\sqrt 7)t}\\\\\n",
    "-7e^{-3t}&(4\\sqrt 7-5)e^{(2+\\sqrt 7)t}&-(4\\sqrt 7+5)e{(2-\\sqrt 7)t}\\\\\n",
    "-4e^{-3t}&(\\sqrt 7+1)e^{(2+\\sqrt 7)t}&(1-\\sqrt 7)e^{(2-\\sqrt 7)t}\n",
    "\\end{bmatrix}$"
   ]
  },
  {
   "cell_type": "markdown",
   "metadata": {},
   "source": [
    "$而满足初值条件\\varphi(0)=\\eta=\\begin{bmatrix}\n",
    "0&-2&-7\n",
    "\\end{bmatrix}^T的解为$"
   ]
  },
  {
   "cell_type": "markdown",
   "metadata": {},
   "source": [
    "$\\quad\\quad\\varphi(t)=\\Phi(t)\\Phi^{-1}(0)\\eta=\\exp At·\\eta$"
   ]
  },
  {
   "cell_type": "markdown",
   "metadata": {},
   "source": [
    "$经计算可得$"
   ]
  },
  {
   "cell_type": "markdown",
   "metadata": {},
   "source": [
    "$\\Phi(t)=\\frac{1}{4\\sqrt 7}×\n",
    "\\begin{bmatrix}\n",
    "\\frac{52\\sqrt 7}{3}e^{-3t}&\\frac{4-26\\sqrt 7}{3}e^{(2+\\sqrt 7)t}&\\frac{-4-2\\sqrt 7}{3}e{(2-\\sqrt 7)t}\\\\\n",
    "-\\frac{364\\sqrt 7}{9}e^{-3t}&\\frac{-748+146\\sqrt 7}{9}e^{(2+\\sqrt 7)t}&-\\frac{748+146\\sqrt 7}{9}e{(2-\\sqrt 7)t}\\\\\n",
    "-\\frac{208\\sqrt 7}{9}e^{-3t}&\\frac{-178-22\\sqrt 7}{9}e^{(2+\\sqrt 7)t}&\\frac{178-22\\sqrt 7}{9}e^{(2-\\sqrt 7)t}\n",
    "\\end{bmatrix}$"
   ]
  },
  {
   "cell_type": "markdown",
   "metadata": {},
   "source": [
    "# <font color='red'>A 9/12"
   ]
  },
  {
   "cell_type": "code",
   "execution_count": null,
   "metadata": {
    "collapsed": true
   },
   "outputs": [],
   "source": []
  }
 ],
 "metadata": {
  "kernelspec": {
   "display_name": "SageMath 7.3",
   "language": "",
   "name": "sagemath"
  },
  "language_info": {
   "codemirror_mode": {
    "name": "ipython",
    "version": 2
   },
   "file_extension": ".py",
   "mimetype": "text/x-python",
   "name": "python",
   "nbconvert_exporter": "python",
   "pygments_lexer": "ipython2",
   "version": "2.7.10"
  }
 },
 "nbformat": 4,
 "nbformat_minor": 0
}
