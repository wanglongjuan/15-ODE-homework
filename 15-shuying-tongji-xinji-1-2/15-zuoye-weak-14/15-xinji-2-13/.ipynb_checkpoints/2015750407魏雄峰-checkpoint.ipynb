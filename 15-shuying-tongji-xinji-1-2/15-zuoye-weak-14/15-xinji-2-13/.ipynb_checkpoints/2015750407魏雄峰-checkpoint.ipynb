{
 "cells": [
  {
   "cell_type": "markdown",
   "metadata": {},
   "source": [
    "$2015750407魏雄峰常微分第十四周作业$"
   ]
  },
  {
   "cell_type": "markdown",
   "metadata": {},
   "source": [
    "$P217\\quad5.$"
   ]
  },
  {
   "cell_type": "markdown",
   "metadata": {},
   "source": [
    "$证明：由于A是n×n常数矩阵$\n",
    "\n",
    "$\\therefore方程x'=Ax的基解矩阵\\Phi(t)满足\\frac{d \\Phi(t)}{dt}=A \\Phi(t)$\n",
    "\n",
    "$解得：\\Phi(t)=e^{At},即\\Phi(t)是指数型的$\n",
    "\n",
    "$\\because \\Phi^{-1}(t)=e^{-At}$\n",
    "\n",
    "$则\\Phi(t) \\Phi^{-1}(t_0)=e^{At} e^{-At_0}=e^{A(t-t_0)}=\\Phi (t-t_0)$"
   ]
  },
  {
   "cell_type": "markdown",
   "metadata": {},
   "source": [
    "$P218\\quad10.(2)$"
   ]
  },
  {
   "cell_type": "markdown",
   "metadata": {},
   "source": [
    "$解：易知对应的齐次线性方程x\"'-8x=0的基本解组为x_1(t)=e^{2t},x_2(t)=e^{-t}\\cos \\sqrt{3}t,x_3(t)=e^{-t} \\sin \\sqrt{3}t$\n",
    "\n",
    "$\\because \\lambda=2是方程的特征根$\n",
    "\n",
    "$\\therefore 方程有形如x=Ate^{2t}的解，代入得A=\\frac{1}{12}$\n",
    "\n",
    "$\\therefore 原方程的通解为x=(c_1\\cos\\sqrt{3}t+c_2\\sin\\sqrt{3}t)e^{-t}+c_3e^{2t}+\\frac{1}{12}te^{2t}$"
   ]
  },
  {
   "cell_type": "markdown",
   "metadata": {
    "collapsed": true
   },
   "source": [
    "$P244\\quad1.(2)$"
   ]
  },
  {
   "cell_type": "markdown",
   "metadata": {},
   "source": [
    "$证明：对正整数k=1,有(\\exp A)^k=\\exp(kA)$\n",
    "\n",
    "$设k=n,且(\\exp A)^n=\\exp(nA),则nAA=nA^2=A(nA),矩阵A,nA可以交换$\n",
    "\n",
    "$则(\\exp A)^{n+1}=(\\exp A)^n (\\exp A)=\\exp(nA) \\exp A=\\exp(n+1)A,即对k=n+1也成立$\n",
    "\n",
    "$由数学归纳法知对任意正整数k，均成立$\n",
    "\n",
    "$当k为负整数-1，则有(\\exp A)^{-1}=\\exp(-A)$\n",
    "\n",
    "$设k=-n时成立(\\exp A)^{-n}=\\exp(-nA),则同理有$\n",
    "\n",
    "$(\\exp A)^{-(n+1)}=(\\exp A)^{-n} (\\exp A)^{-1}=\\exp(-nA) \\exp(-A)=\\exp[-(n+1)A],即对k=-(n+1)也成立$\n",
    "\n",
    "$由数学归纳法知对任意负整数k，均成立$\n",
    "\n",
    "$当k=0时，等式也成立，即证$"
   ]
  },
  {
   "cell_type": "markdown",
   "metadata": {},
   "source": [
    "$P245\\quad5.(2)$"
   ]
  },
  {
   "cell_type": "markdown",
   "metadata": {},
   "source": [
    "$解:矩阵的特征值为\\lambda_1=-3,\\lambda_2=2+\\sqrt{7},\\lambda_3=2-\\sqrt{7}$\n",
    "\n",
    "$特征向量为u=\\alpha[-3,7,4]^T,v=\\beta[3,-5+4\\sqrt{7},1+\\sqrt{7}]^T,r=\\gamma[3,-5-4\\sqrt{7},1-\\sqrt{7}]$"
   ]
  },
  {
   "cell_type": "markdown",
   "metadata": {},
   "source": [
    "$\\therefore方程组x'=Ax的一个基解矩阵为$\n",
    "\n",
    "$$\n",
    "\\Phi(t)=\n",
    "\\begin{bmatrix}\n",
    "-3e^{-3t}&3e^{(2+\\sqrt{7})t}&3e^{(2-\\sqrt{7})t}\\\\\n",
    "7e^{-3t}&(-5+4\\sqrt{7})e^{(2+\\sqrt{7})t}&(-5-4\\sqrt{7})e^{(2-\\sqrt{7})t}\\\\\n",
    "4e^{-3t}&(1+\\sqrt{7})e^{(2+\\sqrt{7})t}&(1-\\sqrt{7})e^{(2-\\sqrt{7})t}\\\\\n",
    "\\end{bmatrix}\n",
    "$$"
   ]
  },
  {
   "cell_type": "markdown",
   "metadata": {},
   "source": [
    "$\\therefore满足初值条件\\varphi(0)=\\eta的解为$\n",
    "\n",
    "$$\n",
    "\\varphi(t)=[\\exp(At)]\\eta=\n",
    "\\begin{bmatrix}\n",
    "\\frac{13}{3}e^{-3t}+\\frac{2-13\\sqrt{7}}{6\\sqrt{7}}e^{(2+\\sqrt{7})t}+\\frac{-2-13\\sqrt{7}}{6\\sqrt{7}}e^{(2-\\sqrt{7})t}\\\\\n",
    "-\\frac{91}{9}e^{-3t}+\\frac{-374+73\\sqrt{7}}{18\\sqrt{7}}e^{(2+\\sqrt{7})t}+\\frac{374+73\\sqrt{7}}{18\\sqrt{7}}e^{(2-\\sqrt{7})t}\\\\\n",
    "-\\frac{52}{9}e^{-3t}+\\frac{-89-11\\sqrt{7}}{18\\sqrt{7}}e^{(2+\\sqrt{7})t}+\\frac{89-11\\sqrt{7}}{18\\sqrt{7}}e^{(2-\\sqrt{7})t}\\\\\n",
    "\\end{bmatrix}\n",
    "$$"
   ]
  }
 ],
 "metadata": {
  "kernelspec": {
   "display_name": "SageMath 7.3",
   "language": "",
   "name": "sagemath"
  },
  "language_info": {
   "codemirror_mode": {
    "name": "ipython",
    "version": 2
   },
   "file_extension": ".py",
   "mimetype": "text/x-python",
   "name": "python",
   "nbconvert_exporter": "python",
   "pygments_lexer": "ipython2",
   "version": "2.7.10"
  }
 },
 "nbformat": 4,
 "nbformat_minor": 0
}
