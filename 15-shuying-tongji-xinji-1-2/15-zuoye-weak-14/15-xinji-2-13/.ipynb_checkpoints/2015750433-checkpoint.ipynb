{
 "cells": [
  {
   "cell_type": "markdown",
   "metadata": {},
   "source": [
    "$5.设\\Phi(t)为方程x'=Ax(A为n\\times n常数矩阵)的标准基解矩阵(即\\Phi(0)=E),证明：\\Phi(t){\\Phi}^{-1}(t_0)=\\Phi(t-t_0),其中t_0为某一值.$\n",
    "\n",
    "$证明：∵A是n\\times n常数矩阵，∴x'=Ax的基解矩阵\\Phi(t)满足\\frac{\\mathrm d \\Phi(t)}{\\mathrm d t}=A\\bullet\\Phi(t)$\n",
    "\n",
    "$解得\\Phi(t)=e^{At},即\\Phi(t)是指数型的，∴\\Phi^{-1}(t)=e^{-At}$\n",
    "\n",
    "$∴\\Phi(t)\\Phi^{-1}(t_0)=e^{At}e^{-At_0}=e^{A(t-t_0)}=\\Phi(t-t_0),即证$\n",
    "\n",
    "$10.(2)试求下列方程的通解：x'''-8x=e^{2t}$\n",
    "\n",
    "$解：对应齐次方程x'''-8x=0的特征方程为\\lambda^3-8=0$\n",
    "\n",
    "$即\\lambda_1=2,\\lambda_2=-1+\\sqrt 3i,\\lambda_3=-1-\\sqrt 3i$\n",
    "\n",
    "$∴齐次方程的通解为x=C_1e^{2t}+C_2e^{-t}\\cos\\sqrt 3t+C_3e^{-t}\\sin\\sqrt 3 t$\n",
    "\n",
    "$令原方程的一个特解为x_1=Ate^{2t},代入得A=\\frac{1}{12}，即特解为x_1=\\frac{1}{12}te^{2t}$\n",
    "\n",
    "$∴原方程的通解为x(t)=C_1e^{2t}+C_2e^{-t}\\cos\\sqrt 3t+C_3e^{-t}\\sin\\sqrt 3 t+\\frac{1}{12}te^{2t}$"
   ]
  },
  {
   "cell_type": "markdown",
   "metadata": {},
   "source": [
    "$1.假设A是n\\times n矩阵，试证：对任意整数k，都有(exp A)^k=exp kA(当k是负整数时，规定(exp A)^k=[(exp A)^{-1}]^{-k}.)$\n",
    "\n",
    "$证明：已知对任意的常数c_1,c_2都有exp(c_1A+c_2A+=expc_1A\\bulle expc_2A$\n",
    "\n",
    "$假设c_1=c_2=1,则$\n",
    "\n",
    "$exp(2A)=exp(A+A)=expA\\bullet expA=(expA)^2$\n",
    "\n",
    "$exp(3A)=exp(A+2A)=expA\\bullet exp2A=(expA)^3$\n",
    "\n",
    "$\\dots$\n",
    "\n",
    "$exp(kA)=exp[A+(k-1)A]=(expA)^k$\n",
    "\n",
    "$当k=0时，\\begin{aligned}右边&=(expA)^k=(expA)^0=E\\\\左边&=expkA=exp0=E\\end{aligned}$\n",
    "\n",
    "$即k=0时，等式成立$\n",
    "\n",
    "$当k=1时，显然左边=expA=右边，等式成立$\n",
    "\n",
    "$由归纳法得等式对所有的非负整数成立$\n",
    "\n",
    "$当k为负整数时，(expA)^k=[(expA)^{-1}]^{-k}=[exp(-A)]^{-k}=exp(-k)(-A)=expkA$\n",
    "\n",
    "$即k是负整数时，等式也从来。综上所述，即证对任意整数k,都有(expA)^k=expkA$\n",
    "\n",
    "$5.试求方程组x'=Ax的基解矩阵，并求满足初值条件\\varphi(0)=\\eta的解\\varphi(t):A=\\begin{bmatrix}1&0&3\\\\8&1&-1\\\\5&1&-1\\end{bmatrix},\\eta=\\begin{bmatrix}0\\\\-2\\\\-7\\end{bmatrix}$\n",
    "\n",
    "$解：特征方程为(\\lambda+3)(\\lambda^2-4\\lambda-3)=0$\n",
    "\n",
    "$∴特征值\\lambda_1=-3,\\lambda_2=2+\\sqrt 7,\\lambda_3=2-\\sqrt 7$\n",
    "\n",
    "$对应特征向量为x=\\alpha{\\begin{bmatrix}3&-7&4\\end{bmatrix}}^T,x=\\beta{\\begin{bmatrix}3&4\\sqrt 7-5&\\sqrt 7+1\\end{bmatrix}}^T,x=\\gamma{\\begin{bmatrix}3&-4\\sqrt 7-5&1-\\sqrt 7\\end{bmatrix}}^T$\n",
    "\n",
    "$取\\alpha=\\beta=\\gamma=1时，得x'=Ax的基解矩阵为\\Phi(t)=\\begin{bmatrix}3e^{-3t}&3e^{(2+\\sqrt 7)t}&3e^{(2-\\sqrt 7)t}\\\\-7e^{-3t}&(4\\sqrt 7-5)e^{(2+\\sqrt 7)t}&-(4\\sqrt 7+5)e^{(2-\\sqrt 7)t}\\\\-4e^{-3t}&(\\sqrt 7+1)e^{(2+\\sqrt 7)t}&(1-\\sqrt 7)e^{(2-\\sqrt 7)t}\\end{bmatrix}$\n",
    "\n",
    "$满足初值条件的解为\\varphi(t)=\\Phi(t)\\Phi^{-1}(0)\\eta=expAt\\bullet\\eta$\n",
    "\n",
    "$∴\\varphi(t)=\\frac{1}{4\\sqrt 7}\\times\\begin{bmatrix}\\frac{52\\sqrt 7}{3}e^{-3t}+\\frac{4-26\\sqrt 7}{3}e^{(2+\\sqrt 7)t}+\\frac{-4-2\\sqrt 7}{3}e^{(2-\\sqrt 7)t}\\\\\\frac{-364\\sqrt 7}{9}e^{-3t}+\\frac{-748+146\\sqrt 7}{9}e^{(2+\\sqrt 7)t}+\\frac{748+146\\sqrt 7}{9}e^{(2-\\sqrt 7)t}\\\\\\frac{-208\\sqrt 7}{9}e^{-3t}+\\frac{-178-22\\sqrt 7}{9}e^{(2+\\sqrt 7)t}+\\frac{178-22\\sqrt 7}{9}e^{(2-\\sqrt 7)t}\\end{bmatrix}$"
   ]
  },
  {
   "cell_type": "markdown",
   "metadata": {},
   "source": [
    "# <font color='red'>A 9/12"
   ]
  },
  {
   "cell_type": "code",
   "execution_count": null,
   "metadata": {
    "collapsed": true
   },
   "outputs": [],
   "source": []
  }
 ],
 "metadata": {
  "kernelspec": {
   "display_name": "SageMath 7.3",
   "language": "",
   "name": "sagemath"
  },
  "language_info": {
   "codemirror_mode": {
    "name": "ipython",
    "version": 2
   },
   "file_extension": ".py",
   "mimetype": "text/x-python",
   "name": "python",
   "nbconvert_exporter": "python",
   "pygments_lexer": "ipython2",
   "version": "2.7.10"
  }
 },
 "nbformat": 4,
 "nbformat_minor": 0
}
