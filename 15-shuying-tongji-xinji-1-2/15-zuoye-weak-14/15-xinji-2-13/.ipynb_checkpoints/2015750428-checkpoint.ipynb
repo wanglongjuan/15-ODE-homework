{
 "cells": [
  {
   "cell_type": "markdown",
   "metadata": {},
   "source": [
    "$1.$设$\\phi(t)$为方程$x'=Ax(A为n \\times n$常数矩阵）的标准基解矩阵（即$\\phi(0)=E$），证明：\n",
    "\n",
    "$$\\phi(t) \\phi^{-1}(t_0)=\\phi(t-t_0)$$  其中$t_0$为某一值.\n",
    "\n",
    "证明：因为$A为n \\times n$常数矩阵,所以方程$x'=Ax$的基解矩阵$\\phi(t)$满足$$\\frac{d\\phi(t)}{dt}=A.\\phi(t)$$  解得$$\\phi(t)=e^{At}$$即$\\phi(t)$是指数型的，根据指数函数的特点知$\\phi^{-1}t=e^{-At}$,从而证得$$\\phi(t) \\phi^{-1}(t_0)=\\phi(t-t_0)$$  其中$t_0$为某一值."
   ]
  },
  {
   "cell_type": "markdown",
   "metadata": {},
   "source": [
    "$2.$试求下列方程的通解：\n",
    "\n",
    "$(1)x'''-8x=e^{2t}$\n",
    "\n",
    "解：该方程对应的齐次方程为$x'''-8x=0$,其特征方程为$$\\lambda^3-8=0$$ 解得$$\\lambda_1=2,\\lambda_2=-1+\\sqrt{3}i,\\lambda_3=-1-\\sqrt{3}i$$  所以齐次方程的通解为$$x=C_1e^{2t}+C_2e^{-t}cos\\sqrt{3}t+C_3e^{-t}sin\\sqrt{3}t$$ 令原方程的一个特解为$x_1=Ate^{2t}$,代入与原方程得$$A=\\frac{1}{12}$$ 即特解为$x_1=\\frac{1}{12}te^{2t}$,于是原方程的通解为$$x(t)=C_1e^{2t}+C_2e^{-t}cos\\sqrt{3}t+C_3e^{-t}sin\\sqrt{3}t+\\frac{1}{12}te^{2t}$$"
   ]
  },
  {
   "cell_type": "markdown",
   "metadata": {},
   "source": [
    "$3$.假设$A是n\\times n$矩阵，试证：\n",
    "\n",
    "$(2)$对任意整数$k$,都有$$(exp\\quad A)^k=exp\\quad kA$$(当$k$是负整数时，规定$（exp\\quad A）^k=[(exp\\quad A)^{-1}]^{-k}.)$\n",
    "\n",
    "\n",
    "证明：由于$exp(c_1A+c_2A)=expc_1A.expc_2A$,所以设$c_1=c_2=1,$则有\n",
    "\n",
    "$$exp(2A)=exp(A+A)=expA.expA=(expA)^2,$$\n",
    "\n",
    "\n",
    "$$exp(3A)=exp(A+2A)=expA.exp2A=(expA)^3,$$  $$\\cdots $$  $$exp(kA)=exp[A+(k-1)A]=(expA)^k.$$\n",
    "\n",
    "$①$当$k=0$时$$右边=（expA）^k=(expA)^0=E$$  $$左边=expkA=exp0=E$$  即当$k=0$时，等式成立.\n",
    "\n",
    "$②$当$k=1$时，显然左边=$expA$=右边，等式成立.\n",
    "\n",
    "由归纳法知，等式对所有的非负整数成立.\n",
    "\n",
    "$③$当$k$是负整数时$$(expA)^k=[(expA)^{-1}]^{-k}=[exp(-A)]^{-k}=exp(-k)(-A)=expkA$$  即$k$是负数时，等式也成立 \n",
    "\n",
    "故证得，对任意整数$k$,都有$$(exp\\quad A)^k=exp\\quad kA$$"
   ]
  },
  {
   "cell_type": "markdown",
   "metadata": {},
   "source": [
    "$4.$试求方程组$x'=Ax$的基解矩阵，并求满足初值条件$\\varphi(0)=\\eta$的解$\\varphi(t)$\n",
    "\n",
    "$(2)$ $A=\\begin{bmatrix}\n",
    "1&0&3\\\\\n",
    "8&1&-1\\\\\n",
    "5&1&-1\n",
    "\\end{bmatrix}$,$\\quad \\eta=\\begin{bmatrix}\n",
    "0\\\\\n",
    "-2\\\\\n",
    "-7\n",
    "\\end{bmatrix};$\n",
    "\n",
    "解：由题知方程的一个基解矩阵为$$\\phi(t)=\\begin{bmatrix}\n",
    "3e^{-3t}&3e^{(2+\\sqrt 7 )t}&3e^{(2+\\sqrt 7 )t}\\\\\n",
    "-7e^{-3t}&(4\\sqrt 7 -5)e^{(2+\\sqrt 7 )t}&-(4\\sqrt 7 +5)e^{(2-\\sqrt 7 )t}\\\\\n",
    "-4e^{-3t}&(sqrt 7 +1)e^{(2+\\sqrt 7 )t}&(1-sqrt 7)e^{(2-\\sqrt 7 )t}\n",
    "\\end{bmatrix},$$\n",
    "\n",
    "满足初值条件$\\varphi(0)=\\eta=\\begin{bmatrix}\n",
    "0&-2&-7\n",
    "\\end{bmatrix}^T$的解为$$\\varphi(t)=\\phi(t)\\phi^{-1}(0)\\eta=expAt.\\eta$$ 由前面的题目知$expAt$的表达式为$$expAt=\\frac{1}{4\\sqrt 7}\\begin{bmatrix}\n",
    "A_1&A_2&A_3\n",
    "\\end{bmatrix}$$  因此计算得$$\\varphi(t)=\\frac{1}{4\\sqrt 7}\\begin{bmatrix}\n",
    "\\frac{52\\sqrt 7}{3}e^{-3t}+\\frac{4-26\\sqrt 7}{3}e^{(2+\\sqrt 7 )t}+\\frac{-4-2\\sqrt 7}{3}e^{(2-\\sqrt 7 )t}\\\\\n",
    "\\frac{-364\\sqrt 7}{9}e^{-3t}+\\frac{-748+146\\sqrt 7}{9}e^{(2+\\sqrt 7 )t}+\\frac{748+146\\sqrt 7}{9}e^{(2-\\sqrt 7 )t}\\\\\n",
    "\\frac{-208\\sqrt 7}{9}e^{-3t}+\\frac{-178-22\\sqrt 7}{9}e^{(2+\\sqrt 7 )t}+\\frac{178-22\\sqrt 7}{3}e^{(2-\\sqrt 7 )t}\\\\\n",
    "\\end{bmatrix}.$$  "
   ]
  },
  {
   "cell_type": "markdown",
   "metadata": {
    "collapsed": true
   },
   "source": [
    "# <font color='red'>A 9/12"
   ]
  },
  {
   "cell_type": "code",
   "execution_count": null,
   "metadata": {
    "collapsed": true
   },
   "outputs": [],
   "source": []
  }
 ],
 "metadata": {
  "kernelspec": {
   "display_name": "SageMath 7.3",
   "language": "",
   "name": "sagemath"
  },
  "language_info": {
   "codemirror_mode": {
    "name": "ipython",
    "version": 2
   },
   "file_extension": ".py",
   "mimetype": "text/x-python",
   "name": "python",
   "nbconvert_exporter": "python",
   "pygments_lexer": "ipython2",
   "version": "2.7.10"
  }
 },
 "nbformat": 4,
 "nbformat_minor": 0
}
