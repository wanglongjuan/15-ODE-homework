{
 "cells": [
  {
   "cell_type": "markdown",
   "metadata": {},
   "source": [
    "# 常微分作业"
   ]
  },
  {
   "cell_type": "markdown",
   "metadata": {},
   "source": [
    "## (11月29号)"
   ]
  },
  {
   "cell_type": "markdown",
   "metadata": {},
   "source": [
    "### P217.5.设 $\\Phi (t)$ 为方程$\\mathbf x'=\\mathbf A \\mathbf x$($\\mathbf A$为$n\\times n$常数矩阵)的标准基解矩阵(即 $\\Phi (0)=\\mathbf E $) ,证明：$$\\mathbf \\Phi (t)\\mathbf \\Phi^{-1}(t_0)=\\mathbf \\Phi (t-t_0)$$其中 $t_0$ 为某一值."
   ]
  },
  {
   "cell_type": "markdown",
   "metadata": {},
   "source": [
    "解：由于 $\\mathbf A$ 是 $n \\times n$ 常数矩阵。所以方程 $x'=\\mathbf A x$ 的基解矩阵 $\\mathbf \\Phi(t)$ 满足\n",
    "\n",
    "$$\\frac{\\mathrm d\\mathbf \\Phi(t)}{\\mathrm d t}=\\mathbf A·\\mathbf \\Phi(t),$$\n",
    "\n",
    "解得 $\\Phi(t)=e^{At}$ ,可见 $\\mathbf \\Phi(t)$ 是指数型的，又根据指数函数的特点知道 $\\mathbf \\Phi^{-1}(t)=e^{-At}$ ,从而\n",
    "\n",
    "$$\\mathbf \\Phi(t)\\mathbf \\Phi^{-1}(t_0)=e^{At}e^{-At_0}=e^{A(t-t_0)}=\\mathbf \\Phi(t-t_0).$$\n",
    "\n",
    "命题得证。"
   ]
  },
  {
   "cell_type": "markdown",
   "metadata": {},
   "source": [
    "### P218.10.试求下列方程的通解：\n",
    "\n",
    "(2) $x'''-8x=e^{2t};$"
   ]
  },
  {
   "cell_type": "markdown",
   "metadata": {},
   "source": [
    "解：该齐次方程的特征方程为\n",
    "\n",
    "$$\\lambda^3-8=0,$$\n",
    "\n",
    "解得$$\\lambda_1=2,\\lambda_2=-1+\\sqrt3i,\\lambda_3=-1-\\sqrt3i.$$\n",
    "\n",
    "所以齐次方程的通解为\n",
    "\n",
    "$$x=C_1e^{2t}+C_2e^{-t}\\cos\\sqrt3t+C_3e^{-t}\\sin\\sqrt3t$$\n",
    "\n",
    "令原方程的一个特解为 $x_1=Ate^{2t},$ 代入原方程则可得\n",
    "\n",
    "$$A=\\frac{1}{12}$$\n",
    "\n",
    "得特解为 $x_1=\\frac{1}{12}te^{2t},$ 则原方程的通解为\n",
    "\n",
    "$$x=C_1e^{2t}+C_2e^{-t}\\cos\\sqrt3t+C_3e^{-t}\\sin\\sqrt3t+\\frac{1}{12}te^{2t}$$"
   ]
  },
  {
   "cell_type": "markdown",
   "metadata": {},
   "source": [
    "## (11月30号)"
   ]
  },
  {
   "cell_type": "markdown",
   "metadata": {},
   "source": [
    "### P244.假设 $\\mathbf A$ 是 $n \\times n$ 矩阵，试证：对任意整数 $k$ ，都有\n",
    "$$(exp \\mathbf A)^k=exp k \\mathbf A.$$\n",
    "### （当 $k$ 是负整数时，规定$(exp \\mathbf A)^k=[(exp \\mathbf A)^{-1}]^{-k}$.）"
   ]
  },
  {
   "cell_type": "markdown",
   "metadata": {},
   "source": [
    "解：已知 \n",
    "\\begin{aligned}\n",
    "exp(2\\mathbf A)&=exp\\mathbf A·exp\\mathbf A=(exp\\mathbf A)^2\\\\\n",
    "exp(3\\mathbf A)&=exp\\mathbf A·exp2\\mathbf A=(exp\\mathbf A)^3\\\\\n",
    "\\dots\\\\\n",
    "exp(k\\mathbf A)&=exp\\mathbf A·exp(k-1)\\mathbf A=(exp\\mathbf A)^k\\\\\n",
    "\\end{aligned}\n",
    "当 $k=0$ 时，\n",
    "\n",
    "左边 $=(exp \\mathbf A)^k=(exp \\mathbf A)^0=\\mathbf E$\n",
    "\n",
    "右边 $=exp k\\mathbf A=exp \\mathbf 0=\\mathbf E$\n",
    "\n",
    "当 $k=1$ 时，等式显然成立。\n",
    "\n",
    "由数学归纳法，易知等式对所有的非负整数成立。\n",
    "\n",
    "当 $k$ 是负整数时，\n",
    "$$(exp \\mathbf A)=[(exp \\mathbf A)^{-1}]^{-k}=[exp(-\\mathbf A)]^{-k}=exp(-k)(-\\mathbf A)=exp k\\mathbf A$$\n",
    "\n",
    "即 $k$ 是负整数时，等式也成立。\n",
    "\n",
    "综上所述，命题得证。"
   ]
  },
  {
   "cell_type": "markdown",
   "metadata": {},
   "source": [
    "### P245.5.试求方程组 $\\mathbf x'=\\mathbf A\\mathbf x$ 的基解矩阵，并求满足初值条件 $\\mathbf \\varphi(0)=\\mathbf \\eta$ 的解 $\\mathbf \\varphi(t)$:\n",
    "\n",
    "$$\\mathbf A=\n",
    "\\begin{bmatrix}\n",
    "1&0&3\\\\\n",
    "8&1&-1\\\\\n",
    "5&1&-1\\\\\n",
    "\\end{bmatrix}\n",
    ",\\mathbf \\eta=\n",
    "\\begin{bmatrix}\n",
    "0\\\\\n",
    "-2\\\\\n",
    "-7\\\\\n",
    "\\end{bmatrix};$$"
   ]
  },
  {
   "cell_type": "markdown",
   "metadata": {},
   "source": [
    "解：特征方程为\n",
    "$$(\\lambda+3)(\\lambda^2-4\\lambda-3)=0$$\n",
    "求出特征值及相应的特征向量\n",
    "得到方程的一个基解矩阵：\n",
    "$$\\mathbf \\Phi=\n",
    "\\begin{bmatrix}\n",
    "3e^{-3t}&3e^{(2+\\sqrt7)t}&3e^{(2-\\sqrt7)t}\\\\\n",
    "-7e^{-3t}&(4\\sqrt7-5)e^{(2+\\sqrt7)t}&-(4\\sqrt7+5)e^{(2-\\sqrt7)t}\\\\\n",
    "-4e^{-3t}&(\\sqrt7+1)e^{(2+\\sqrt7)t}&(1-\\sqrt7)e^{(2-\\sqrt7)t}\\\\\n",
    "\\end{bmatrix}\n",
    "$$\n",
    "而满足初值条件的解为\n",
    "$$\\mathbf \\varphi(t)=\\mathbf \\Phi(t)\\mathbf \\Phi^{-1}(0)\\mathbf \\eta$$\n",
    "经计算\n",
    "$$\\mathbf \\varphi(t)=\\frac{1}{4\\sqrt7}\\times\n",
    "\\begin{bmatrix}\n",
    "\\frac{52\\sqrt7}{3}e^{-3t}+\\frac{4-26sqrt7}{3}e^{(2+\\sqrt7)t}+\\frac{-4-2\\sqrt7}{3}e^{(2-\\sqrt7)t}\\\\\n",
    "\\frac{-364\\sqrt7}{9}e^{-3t}+\\frac{-748+146\\sqrt7}{9}e^{(2+\\sqrt7)t}+\\frac{748+146\\sqrt7}{9}e^{(2-\\sqrt7)t}\\\\\n",
    "\\frac{-208\\sqrt7}{9}e^{-3t}+\\frac{-178-22\\sqrt7}{9}e^{(2+\\sqrt7)t}+\\frac{178-22\\sqrt7}{9}e^{(2-\\sqrt7)t}\\\\\n",
    "\\end{bmatrix}\n",
    "$$"
   ]
  },
  {
   "cell_type": "markdown",
   "metadata": {},
   "source": [
    "# <font color='red'>A 9/12"
   ]
  },
  {
   "cell_type": "code",
   "execution_count": null,
   "metadata": {
    "collapsed": true
   },
   "outputs": [],
   "source": []
  }
 ],
 "metadata": {
  "kernelspec": {
   "display_name": "SageMath 7.3",
   "language": "",
   "name": "sagemath"
  },
  "language_info": {
   "codemirror_mode": {
    "name": "ipython",
    "version": 2
   },
   "file_extension": ".py",
   "mimetype": "text/x-python",
   "name": "python",
   "nbconvert_exporter": "python",
   "pygments_lexer": "ipython2",
   "version": "2.7.10"
  }
 },
 "nbformat": 4,
 "nbformat_minor": 0
}
