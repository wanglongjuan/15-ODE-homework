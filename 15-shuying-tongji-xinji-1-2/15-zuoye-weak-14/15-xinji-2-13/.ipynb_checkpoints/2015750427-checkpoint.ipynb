{
 "cells": [
  {
   "cell_type": "markdown",
   "metadata": {},
   "source": [
    "1、设$\\Phi(t)$为方程$x'={\\bf{A}}x({\\bf{A}}$为$n×n$常数矩阵)的标准基解矩阵（即$\\Phi(0)={\\bf{E}}$）,证明：$$\\Phi(t)\\Phi^{-1}(t_0)=\\Phi(t-t_0),$$其中$t_0$为某一值。"
   ]
  },
  {
   "cell_type": "markdown",
   "metadata": {},
   "source": [
    "解：由于$\\bf{A}$是$n×n$常数矩阵，所以方程$x'={\\bf{A}}x$的基解矩阵$\\Phi(t)$\n",
    "满足$$\\frac{d\\Phi(t)}{dt}={\\bf{A}·}\\Phi(t),$$解之得$$\\Phi(t)=e^{{\\bf{A}}t},$$即$\\Phi(t)$是指数型的，又根据指数函数的特点知道$\\Phi^{-1}(t)=e^{-{\\bf{A}}t}$,从而$$\\Phi(t)\\Phi^{-1}(t_0)=e^{{\\bf{A}}t}e^{-{\\bf{A}}t}=e^{{\\bf{A}}(t-t_0)}=\\Phi(t-t_0).$$因此命题得证。"
   ]
  },
  {
   "cell_type": "markdown",
   "metadata": {},
   "source": [
    "2、试求下列方程的通解：\n",
    "\n",
    "（2）$x'''-8x=e^{2t};$"
   ]
  },
  {
   "cell_type": "markdown",
   "metadata": {},
   "source": [
    "解：对应齐次方程$x'''-8x=0$的特征方程为$$\\lambda^3-8=0,$$即得到$\\lambda_1=2,\\lambda_2=-1+\\sqrt{3}i,\\lambda_3=-1-\\sqrt{3}i,$\n",
    "所以齐次方程的通解为$$x=C_1e^{2t}+C_2e^{-t}cos\\sqrt{3}t+C_3e^{-t}sin\\sqrt{3}t.$$令原方程的一个特解为$x_1=Ate^{2t}$,代入原方程则得到$$A=\\frac{1}{12},$$即特解为$x_1=\\frac{1}{12}te^{2t}$,于是原方程的通解为$$x(t)=C_1e^{2t}+C_2e^{-t}cos\\sqrt{3}t+C_3e^{-t}sin\\sqrt{3}t+\\frac{1}{12}te^{2t}$$"
   ]
  },
  {
   "cell_type": "markdown",
   "metadata": {},
   "source": [
    "3、假设$\\bf{A}$是$n×n$矩阵，试证：\n",
    "\n",
    "（2）对任意整数$k$,都有$$(exp{\\bf{A}})^k=expk{\\bf{A}}$$（当$k$是负整数时，规定$(exp{\\bf{A}})^k=[(exp{\\bf{A}})^{-1}]^{-k}$.）"
   ]
  },
  {
   "cell_type": "markdown",
   "metadata": {},
   "source": [
    "解：利用第（1）小题的结论，设$c_1=c_2=1$,则有$$exp(2{\\bf{A}})=exp({\\bf{A}}+{\\bf{A}})=exp{\\bf{A}}·exp{\\bf{A}}=(exp{\\bf{A}})^2,\\\\ exp(3{\\bf{A}})=exp({\\bf{A}}+2{\\bf{A}})=exp{\\bf{A}}·exp2{\\bf{A}}=(exp{\\bf{A}})^3, \\\\ \\dots, \\\\ exp(k{\\bf{A}})=exp({\\bf{A}}+(k-1){\\bf{A}})=exp{\\bf{A}}·exp(k-1){\\bf{A}}=(exp{\\bf{A}})^k.$$当$k=0$时，$$右边=(exp{\\bf{A}})^k=(exp{\\bf{A}})^0={\\bf{E}}, \\\\ 左边=expk{\\bf{A}}=exp0={\\bf{E}}，$$即$k=0$时，等式成立。\n",
    "当$k=1$时，显然$左边=exp{\\bf{A}}=右边$，等式成立。\n",
    "\n",
    "由归纳法，易知等式对所有的非负整数成立。\n",
    "\n",
    "当$k$是负整数时，$$(exp{\\bf{A}})^k=[(exp{\\bf{A}})^{-1}]^{-k}=[exp(-{\\bf{A}})]^{-k}=exp(-k)(-{\\bf{A}})=expk{\\bf{A}}$$即$k$是负整数时，等式也成立。\n",
    "综合以上几种情况，即证明了对任意整数$k$,都有$$(exp{\\bf{A}})^k=expk{\\bf{A}}.$$"
   ]
  },
  {
   "cell_type": "markdown",
   "metadata": {},
   "source": [
    "4、试求方程组$x'={\\bf{A}}x$的基解矩阵，并满足初值条件$\\varphi(0)=\\eta$的解$\\varphi(t)$:\n",
    "\n",
    "(2)$\\mathcal{A}=\\begin{bmatrix} &1&0&3 \\\\ &8&1&-1 \\\\ &5&1&-1 \\end{bmatrix}, \\ \\ \\ \\ \\ \\ \\ \\ \\ \\ \\ \\mathcal{\\eta}=\\begin{bmatrix} &0 \\\\ &-2 \\\\ &-7 \\end{bmatrix}$"
   ]
  },
  {
   "cell_type": "markdown",
   "metadata": {},
   "source": [
    "解：由第4题第（4）小题可知方程的一个基解矩阵为$$\\mathcal{\\Phi}(t)=\\begin{bmatrix} &3e^{-3t} &3e^{(2+\\sqrt{7})t} &3e^{(2-\\sqrt{7})t} \\\\  &-7e^{-3t} &(4\\sqrt{7}-5)e^{(2+\\sqrt{7})t} &-(4\\sqrt{7}+5)e^{(2-\\sqrt{7})t} \\\\ &-4e^{-3t} &(\\sqrt{7}+1)e^{(2+\\sqrt{7})t} &(1-\\sqrt{7})e^{(2-\\sqrt{7})t} \\end{bmatrix}$$而满足初值条件$\\mathcal{\\varphi}(0)=\\mathcal{\\eta}=\\begin{bmatrix} &0 \\\\ &-2 \\\\ &-7 \\end{bmatrix}$的解为$$\\mathcal{\\varphi}(t)=\\mathcal{\\Phi}(t)\\mathcal{\\Phi}^{-1}(0)\\eta=exp\\mathcal{A}t·\\mathcal{\\eta}$$\n",
    "$exp\\mathcal{A}t$的表达式在第4题第（4）小题答案中已经给出，经过计算得到$\\mathcal{\\varphi}(t)= \\\\ \\frac{1}{4\\sqrt{7}}×\\begin{bmatrix} &\\frac{52\\sqrt{7}}{3}e^{-3t}+frac{4-26\\sqrt{7}}{3}e^{(2+\\sqrt{7})t}+\\frac{-4-2\\sqrt{7}}{3}e^{(2-\\sqrt{7})t} \\\\  &\\frac{-364\\sqrt{7}}{9}e^{-3t}+\\frac{-748+146\\sqrt{7}}{9}e^{(2+\\sqrt{7})t}+\\frac{748+146\\sqrt{7}}{9}e^{(2-\\sqrt{7})t} \\\\ &\\frac{-208\\sqrt{7}}{9}e^{-3t}+\\frac{-178-22\\sqrt{7}}{9}e^{(2+\\sqrt{7})t}+\\frac{178-22\\sqrt{7}}{9}e^{(2-\\sqrt{7})t} \\end{bmatrix}$"
   ]
  },
  {
   "cell_type": "markdown",
   "metadata": {},
   "source": [
    "# <font color='red'>A 9/12"
   ]
  },
  {
   "cell_type": "code",
   "execution_count": null,
   "metadata": {
    "collapsed": true
   },
   "outputs": [],
   "source": []
  }
 ],
 "metadata": {
  "kernelspec": {
   "display_name": "SageMath 7.3",
   "language": "",
   "name": "sagemath"
  },
  "language_info": {
   "codemirror_mode": {
    "name": "ipython",
    "version": 2
   },
   "file_extension": ".py",
   "mimetype": "text/x-python",
   "name": "python",
   "nbconvert_exporter": "python",
   "pygments_lexer": "ipython2",
   "version": "2.7.10"
  }
 },
 "nbformat": 4,
 "nbformat_minor": 0
}
