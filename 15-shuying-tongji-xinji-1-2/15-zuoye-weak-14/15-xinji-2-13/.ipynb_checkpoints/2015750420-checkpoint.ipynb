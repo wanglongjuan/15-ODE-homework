{
 "cells": [
  {
   "cell_type": "markdown",
   "metadata": {},
   "source": [
    "$\\bf常微分第十四次作业$\n",
    "\n",
    "2015750420"
   ]
  },
  {
   "cell_type": "markdown",
   "metadata": {},
   "source": [
    "$\\bf5$$.证明:\\because \\Phi(t),\\Phi(t-t_0)时基解矩阵，且由于\\Phi(t)为方程x'=Ax的解矩阵，$\n",
    "\n",
    "$\\therefore \\Phi(t)\\Phi^{-1}(t_0)也是x'=Ax的解矩阵$\n",
    "\n",
    "$而当t=t_0时,\\Phi(t_0)\\Phi^{-1}(t_0)=E,\\Phi(t-t_0)=\\Phi(0)=E$\n",
    "\n",
    "$故由解的存在唯一性定理得,\\Phi(t)\\Phi^{-1}(t_0)=\\Phi(t-t_0)$"
   ]
  },
  {
   "cell_type": "markdown",
   "metadata": {},
   "source": [
    "$\\bf{10}$$.(2)解:易知对应的齐次线性x'''-8x=0的基本解组为$\n",
    "\n",
    "$x_1(t)=e^{2t},x_2(t)=e^{-t}cos\\sqrt3 t,x_3(t)=e^{-t}sin \\sqrt3 t$\n",
    "\n",
    "$\\because \\lambda=2是方程的特征根，故方程有形如x=Ate^{2t}的根，代入得A=\\frac{1}{12}$\n",
    "\n",
    "$故方程有通解x=(c_1cos\\sqrt3 t+c_2sin\\sqrt3 t)e^{-1}+c_3e^{2t}+\\frac{1}{12}te^{2t}$"
   ]
  },
  {
   "cell_type": "markdown",
   "metadata": {},
   "source": [
    "$\\bf1$$.(2):(expA)^k=[(expA)^{-1}]^{-k}=[exp(-A)]^{-k}=exp(-A)\\cdot exp(-A)\\cdots\\cdots=exp[(-A)(-k)]=exp(Ak)$\n",
    "\n",
    "$故\\forall k,都有(expA)^k=expkA$"
   ]
  },
  {
   "cell_type": "markdown",
   "metadata": {},
   "source": [
    "$\\bf5$$.(2)由det(\\lambda E-A)=0得\\lambda_1=-3,\\lambda_2=2+\\sqrt7,\\lambda_3=2-\\sqrt7$\n",
    "\n",
    "$解得基解矩阵\\Phi(t)=\n",
    "\\begin{pmatrix}-3e^{-3t}&e^{(2+\\sqrt7)t}&e^{(2-\\sqrt7)t}\\\\\n",
    "7e^{-3t}&\\frac{4\\sqrt7 -5}{3}e^{(2+\\sqrt7)t}&\\frac{-4\\sqrt7-5}{3}e^{(2-\\sqrt7)t}\\\\\n",
    "4e^{-3t}&\\frac{1+\\sqrt7}{3}e^{(2+\\sqrt7)t}&\\frac{1-\\sqrt7}{3}e^{(2-\\sqrt7)t}\\\\\n",
    "\\end{pmatrix}$\n",
    "\n",
    "$\\therefore\\varphi(t)=\\frac{1}{4\\sqrt7}$\n",
    "$\\begin{pmatrix}\\frac{52\\sqrt7}{3}e^{-3t}+\\frac{4-26\\sqrt7}{3}e^{(2+\\sqrt7)t}+\\frac{-4-26\\sqrt7}{3}e^{(2-\\sqrt7)t}\\\\\n",
    "\\frac{-364\\sqrt7}{9}e^{-3t}+\\frac{-748+146\\sqrt7}{9}e^{(2+\\sqrt7)t}+\\frac{748+146\\sqrt7}{9}e^{(2-\\sqrt7)t}\\\\\n",
    "\\frac{-208\\sqrt7}{9}e^{-3t}+\\frac{-178-22\\sqrt7}{9}e^{(2+\\sqrt7)t}+\\frac{178-22\\sqrt7}{9}e^{(2-\\sqrt7)t}\\\\\n",
    "\\end{pmatrix}$"
   ]
  },
  {
   "cell_type": "markdown",
   "metadata": {},
   "source": [
    "# <font color='red'>A 9/12"
   ]
  },
  {
   "cell_type": "code",
   "execution_count": null,
   "metadata": {
    "collapsed": true
   },
   "outputs": [],
   "source": []
  },
  {
   "cell_type": "code",
   "execution_count": null,
   "metadata": {
    "collapsed": true
   },
   "outputs": [],
   "source": []
  },
  {
   "cell_type": "code",
   "execution_count": null,
   "metadata": {
    "collapsed": true
   },
   "outputs": [],
   "source": []
  },
  {
   "cell_type": "code",
   "execution_count": null,
   "metadata": {
    "collapsed": true
   },
   "outputs": [],
   "source": []
  },
  {
   "cell_type": "code",
   "execution_count": null,
   "metadata": {
    "collapsed": true
   },
   "outputs": [],
   "source": [
    "    "
   ]
  }
 ],
 "metadata": {
  "kernelspec": {
   "display_name": "SageMath 7.3",
   "language": "",
   "name": "sagemath"
  },
  "language_info": {
   "codemirror_mode": {
    "name": "ipython",
    "version": 2
   },
   "file_extension": ".py",
   "mimetype": "text/x-python",
   "name": "python",
   "nbconvert_exporter": "python",
   "pygments_lexer": "ipython2",
   "version": "2.7.10"
  }
 },
 "nbformat": 4,
 "nbformat_minor": 0
}
