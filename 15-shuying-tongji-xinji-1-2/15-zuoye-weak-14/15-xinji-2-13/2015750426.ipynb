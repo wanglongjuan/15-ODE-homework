{
 "cells": [
  {
   "cell_type": "markdown",
   "metadata": {},
   "source": [
    "## 2016.11.29"
   ]
  },
  {
   "cell_type": "markdown",
   "metadata": {},
   "source": [
    "**5.设 $\\mathbf \\Phi(t)$ 为方程 $x'=\\mathbf A x$ ($\\mathbf A$ 为 $n \\times n$ 常数矩阵)的标准基解矩阵（即 $\\mathbf \\Phi(0)=\\mathbf E$）,证明：**\n",
    "\n",
    "$$\\mathbf \\Phi(t)\\mathbf \\Phi^{-1}(t_0)=\\mathbf \\Phi(t-t_0)$$\n",
    "\n",
    "**其中 $t_0$ 为某一值**"
   ]
  },
  {
   "cell_type": "markdown",
   "metadata": {},
   "source": [
    "**证明：**"
   ]
  },
  {
   "cell_type": "markdown",
   "metadata": {},
   "source": [
    "由于 $\\mathbf A$ 为 $n \\times n$ 常数矩阵，$\\mathbf \\Phi(t)$ 为方程 $x'=\\mathbf A x$ 的标准基解矩阵，则"
   ]
  },
  {
   "cell_type": "markdown",
   "metadata": {},
   "source": [
    "$$\\frac{\\mathrm d \\mathbf \\Phi(t)}{\\mathrm d t} = \\mathbf A \\bullet \\mathbf \\Phi(t) $$"
   ]
  },
  {
   "cell_type": "markdown",
   "metadata": {},
   "source": [
    "解得 $\\mathbf \\Phi(t)=e^{At}$，又知 $\\mathbf \\Phi^{-1}(t)=e^{-At}$"
   ]
  },
  {
   "cell_type": "markdown",
   "metadata": {},
   "source": [
    "所以 $$\\mathbf \\Phi(t)\\mathbf \\Phi^{-1}(t_0)=e^{At}e^{-At_0}=e^{A(t-t_0)}=\\mathbf \\Phi(t-t_0)$$"
   ]
  },
  {
   "cell_type": "markdown",
   "metadata": {},
   "source": [
    "**10.试求下列方程的通解：**"
   ]
  },
  {
   "cell_type": "markdown",
   "metadata": {},
   "source": [
    "**（2）**$x'''-8x=e^{2t}$"
   ]
  },
  {
   "cell_type": "markdown",
   "metadata": {},
   "source": [
    "**解：**"
   ]
  },
  {
   "cell_type": "markdown",
   "metadata": {},
   "source": [
    "先求解对应齐次线性微分方程 $x'''-8x=0$ "
   ]
  },
  {
   "cell_type": "markdown",
   "metadata": {},
   "source": [
    "设 $x=e^{\\lambda t}$，得到其特征方程 $\\lambda^3-8=0 \\to \\lambda_1=2,\\lambda_2=-1+\\sqrt 3 i,\\lambda_3=-1-\\sqrt 3 i$"
   ]
  },
  {
   "cell_type": "markdown",
   "metadata": {},
   "source": [
    "所以齐次方程的通解为 $x=c_1e^{2t}+c_2e^{-t}\\cos \\sqrt 3 t+c_3e^{-t}\\sin \\sqrt 3 t$"
   ]
  },
  {
   "cell_type": "markdown",
   "metadata": {},
   "source": [
    "由于 $\\lambda=2$ 时方程的特征根，则"
   ]
  },
  {
   "cell_type": "markdown",
   "metadata": {},
   "source": [
    "可设原方程的一个特解为 $x_1=Ate^{2t}$,代入原方程得 $A=\\frac{1}{12}$"
   ]
  },
  {
   "cell_type": "markdown",
   "metadata": {},
   "source": [
    "所以特解为 $x_1=\\frac{1}{12}te^{2t}$"
   ]
  },
  {
   "cell_type": "markdown",
   "metadata": {},
   "source": [
    "即原方程的通解为：$x=c_1e^{2t}+c_2e^{-t}\\cos \\sqrt 3 t+c_3e^{-t}\\sin \\sqrt 3 t+\\frac{1}{12}te^{2t}$"
   ]
  },
  {
   "cell_type": "markdown",
   "metadata": {
    "collapsed": true
   },
   "source": [
    "## 2016.11.30"
   ]
  },
  {
   "cell_type": "markdown",
   "metadata": {},
   "source": [
    "**1.假设 $\\mathbf A$ 是 $n\\times n$ 矩阵，试证：**\n",
    "\n",
    "**对任意整数 $k$,都有** $$(exp \\mathbf A)^k=exp k\\mathbf A$$\n",
    "\n",
    "**(当 $k$ 是负整数时，规定** $(exp \\mathbf A)^k = [(exp\\mathbf A)^{-1}]^{-k}$)"
   ]
  },
  {
   "cell_type": "markdown",
   "metadata": {},
   "source": [
    "**证明：**"
   ]
  },
  {
   "cell_type": "markdown",
   "metadata": {},
   "source": [
    " k 取非负整数时，有\n",
    " \n",
    "当 $k=0,左边=(exp \\mathbf A)^k = (exp \\mathbf A)^0 = E =exp k\\mathbf A = exp 0 = E =右边$,满足条件\n",
    "\n",
    "当 $k=1$，左边 =$exp \\mathbf A$=右边,已知有"
   ]
  },
  {
   "cell_type": "markdown",
   "metadata": {},
   "source": [
    "$$\n",
    "\\begin{aligned}\n",
    "exp \\mathbf 2A &= exp(\\mathbf A+\\mathbf A) = exp \\mathbf A \\bullet exp \\mathbf A=(exp \\mathbf A)^2\\\\\n",
    "exp \\mathbf 3A &= exp(\\mathbf A+\\mathbf A+\\mathbf A) = exp \\mathbf A \\bullet exp \\mathbf A \\bullet exp \\mathbf A=(exp \\mathbf A)^3\\\\\n",
    "& \\cdots \\cdots\\\\\n",
    "exp \\mathbf kA &= exp(\\mathbf A+\\mathbf A+\\cdots+\\mathbf A) = exp \\mathbf A \\bullet exp \\mathbf A \\bullet \\cdots \\bullet exp \\mathbf A=(exp \\mathbf A)^k\n",
    "\\end{aligned}\n",
    "$$"
   ]
  },
  {
   "cell_type": "markdown",
   "metadata": {},
   "source": [
    "由数学归纳法可知，等式对于所有的非负整数成立"
   ]
  },
  {
   "cell_type": "markdown",
   "metadata": {},
   "source": [
    "k 取负整数时，有\n",
    "\n"
   ]
  },
  {
   "cell_type": "markdown",
   "metadata": {},
   "source": [
    "$(exp \\mathbf A)^k = [(exp\\mathbf A)^{-1}]^{-k}=(exp -\\mathbf A)^{-k}=exp(-k)(-\\mathbf A)=exp k\\mathbf A$"
   ]
  },
  {
   "cell_type": "markdown",
   "metadata": {},
   "source": [
    "即 k 是负整数时，等式也成立"
   ]
  },
  {
   "cell_type": "markdown",
   "metadata": {},
   "source": [
    "综上，对于任意整数 k ，都有 $$(exp \\mathbf A)^k=exp k\\mathbf A$$"
   ]
  },
  {
   "cell_type": "markdown",
   "metadata": {},
   "source": [
    "**5.试求方程组 $x'=\\mathbf Ax$的基解矩阵，并求满足初值条件 $\\mathbf \\varphi(0)=\\eta$ 的解 $\\varphi(t)$**\n",
    "\n",
    "（2）$\\mathbf A=\\begin{bmatrix} 1&0&3\\\\8&1&-1\\\\5&1&-1 \\end{bmatrix} \\quad \\eta=\\begin{bmatrix} 0\\\\-2\\\\-7 \\end{bmatrix}$"
   ]
  },
  {
   "cell_type": "markdown",
   "metadata": {},
   "source": [
    "**解：**"
   ]
  },
  {
   "cell_type": "markdown",
   "metadata": {},
   "source": [
    "先求矩阵 $\\mathbf A$ 的特征方程的特征根"
   ]
  },
  {
   "cell_type": "markdown",
   "metadata": {},
   "source": [
    "$det(\\lambda \\mathbf E-\\mathbf A)=\\begin{bmatrix} \\lambda-1&0&-3\\\\-8&\\lambda-1&1\\\\-5&-1&\\lambda+1 \\end{bmatrix}=0$"
   ]
  },
  {
   "cell_type": "markdown",
   "metadata": {},
   "source": [
    "得到 $(\\lambda+3)(\\lambda^2-4\\lambda-3)=0 \\to \\lambda_1=-3,\\lambda_2=2+\\sqrt 7,\\lambda_3=2-\\sqrt 7$"
   ]
  },
  {
   "cell_type": "markdown",
   "metadata": {},
   "source": [
    "对于 $\\lambda=-3$,有"
   ]
  },
  {
   "cell_type": "markdown",
   "metadata": {},
   "source": [
    "$$(\\mathbf A+3\\mathbf E)\\mu= \\begin{bmatrix} 4&0&3\\\\8&4&-1\\\\5&1&2 \\end{bmatrix} \\mu=0$$"
   ]
  },
  {
   "cell_type": "markdown",
   "metadata": {},
   "source": [
    "$$\\begin{cases}\n",
    "4\\mu_1+3\\mu_3=0\\\\\n",
    "8\\mu_1+4\\mu_2-\\mu_3=0\\\\\n",
    "5\\mu_1+\\mu_2+2\\mu_3=0\n",
    "\\end{cases}$$"
   ]
  },
  {
   "cell_type": "markdown",
   "metadata": {},
   "source": [
    "求得 $$ \\mathbf\\mu_1=\\alpha(3\\quad-7\\quad-4)^T$$"
   ]
  },
  {
   "cell_type": "markdown",
   "metadata": {},
   "source": [
    "对于 $\\lambda=2+\\sqrt 7$,有"
   ]
  },
  {
   "cell_type": "markdown",
   "metadata": {},
   "source": [
    "$$(\\mathbf A+(2+\\sqrt 7)\\mathbf E)\\mu=\\begin{bmatrix} 3+\\sqrt 7&0&3\\\\8&3+\\sqrt 7&-1\\\\5&1&1+\\sqrt 7 \\end{bmatrix}\\mu=0$$"
   ]
  },
  {
   "cell_type": "markdown",
   "metadata": {},
   "source": [
    "$$\\begin{cases}\n",
    "(3+\\sqrt 7)\\mu_1+3\\mu_3=0\\\\\n",
    "8\\mu_1+(3+\\sqrt 7)\\mu_2-\\mu_3=0\\\\\n",
    "5\\mu_1+\\mu_2+(1+\\sqrt 7)\\mu_3=0\n",
    "\\end{cases}$$"
   ]
  },
  {
   "cell_type": "markdown",
   "metadata": {},
   "source": [
    "求得 $$\\mu_2=\\beta(3\\quad4\\sqrt 7-5\\quad\\sqrt 7 +1)^T$$"
   ]
  },
  {
   "cell_type": "markdown",
   "metadata": {},
   "source": [
    "对于 $\\lambda=2-\\sqrt 7 $,有"
   ]
  },
  {
   "cell_type": "markdown",
   "metadata": {},
   "source": [
    "$$(\\mathbf A+(2-\\sqrt 7)\\mathbf E)\\mu=\\begin{bmatrix} 3-\\sqrt 7&0&3\\\\8&3-\\sqrt 7&-1\\\\5&1&1-\\sqrt 7 \\end{bmatrix}\\mu=0$$"
   ]
  },
  {
   "cell_type": "markdown",
   "metadata": {},
   "source": [
    "$$\\begin{cases}\n",
    "(3-\\sqrt 7)\\mu_1+3\\mu_3=0\\\\\n",
    "8\\mu_1+(3-\\sqrt 7)\\mu_2-\\mu_3=0\\\\\n",
    "5\\mu_1+\\mu_2+(1-\\sqrt 7)\\mu_3=0\n",
    "\\end{cases}$$"
   ]
  },
  {
   "cell_type": "markdown",
   "metadata": {},
   "source": [
    "求得 $$\\mu_3=\\gamma(3\\quad-5-4\\sqrt 7\\quad1-\\sqrt 7)^T$$"
   ]
  },
  {
   "cell_type": "markdown",
   "metadata": {},
   "source": [
    "取 $\\alpha=\\beta=\\gamma=1$,得到基解矩阵为"
   ]
  },
  {
   "cell_type": "markdown",
   "metadata": {},
   "source": [
    "$$\n",
    "\\Phi(t)=\n",
    "\\begin{bmatrix} \n",
    "3e^{-3t}&3e^{(2+\\sqrt7)t}&3e^{(2-\\sqrt7)t}\\\\\n",
    "-7e^{-3t}&(4\\sqrt7-5)e^{(2+\\sqrt7)t}&(-5-4\\sqrt7)e^{(2-\\sqrt7)t}\\\\\n",
    "-4e^{-3t}&(\\sqrt7+1)e^{(2+\\sqrt7)t}&(1-\\sqrt7)e^{(2-\\sqrt7)t}\n",
    "\\end{bmatrix}\n",
    "$$"
   ]
  },
  {
   "cell_type": "markdown",
   "metadata": {},
   "source": [
    "满足初值条件 $\\mathbf \\varphi(0)=\\eta=\\begin{bmatrix} 0\\\\-2\\\\-7 \\end{bmatrix}$ 的解为"
   ]
  },
  {
   "cell_type": "markdown",
   "metadata": {},
   "source": [
    "$$\n",
    "\\varphi(t)=exp \\mathbf A t\\bullet\\eta\n",
    "=\\Phi(t)\\Phi^{-1}(0)\\bullet\\eta\n",
    "$$"
   ]
  },
  {
   "cell_type": "markdown",
   "metadata": {},
   "source": [
    "$$\n",
    "exp \\mathbf A t=\\frac{1}{108 \\sqrt 7}\n",
    "\\begin{bmatrix} \n",
    "3e^{-3t}&3e^{(2+\\sqrt7)t}&3e^{(2-\\sqrt7)t}\\\\\n",
    "-7e^{-3t}&(4\\sqrt7-5)e^{(2+\\sqrt7)t}&(-5-4\\sqrt7)e^{(2-\\sqrt7)t}\\\\\n",
    "-4e^{-3t}&(\\sqrt7+1)e^{(2+\\sqrt7)t}&(1-\\sqrt7)e^{(2-\\sqrt7)t}\n",
    "\\end{bmatrix}\n",
    "\\begin{bmatrix} \n",
    "18\\sqrt7&6\\sqrt7&-24\\sqrt7\\\\\n",
    "27+9\\sqrt7&15-3\\sqrt7&12\\sqrt7-6\\\\\n",
    "9\\sqrt7-27&-15-3\\sqrt7&-6-12\\sqrt7\n",
    "\\end{bmatrix}\n",
    "$$"
   ]
  },
  {
   "cell_type": "markdown",
   "metadata": {},
   "source": [
    "$$\n",
    "exp \\mathbf A t=\\frac{1}{4\\sqrt 7}[\\mathbf A_1 \\quad \\mathbf A_2 \\quad \\mathbf A_3]\n",
    "$$"
   ]
  },
  {
   "cell_type": "markdown",
   "metadata": {},
   "source": [
    "其中"
   ]
  },
  {
   "cell_type": "markdown",
   "metadata": {},
   "source": [
    "$$\\mathbf A_1=\n",
    "\\begin{bmatrix} \n",
    "2\\sqrt7e^{-3t}+(3+\\sqrt7)e^{(2+\\sqrt7)t}+(-3+\\sqrt7)e^{(2-\\sqrt7)t}\\\\ \n",
    "-\\frac{14\\sqrt7}{3}e^{-3t}+\\frac{13+7\\sqrt7}{3}e^{(2+\\sqrt7)t}+\\frac{-13+7\\sqrt7}{3}e^{(2-\\sqrt7)t}\\\\\n",
    "-\\frac{8\\sqrt7}{3}e^{-3t}+\\frac{10+4\\sqrt7}{3}e^{(2+\\sqrt7)t}+\\frac{-10+4\\sqrt7}{3}e^{(2-\\sqrt7)t}\n",
    "\\end{bmatrix}\n",
    "$$"
   ]
  },
  {
   "cell_type": "markdown",
   "metadata": {},
   "source": [
    "$$\\mathbf A_2=\n",
    "\\begin{bmatrix}\n",
    "\\frac{2\\sqrt7}{3}e^{-3t}+\\frac{5-\\sqrt7}{3}e^{(2+\\sqrt7)t}+\\frac{-5-\\sqrt7}{3}e^{(2-\\sqrt7)t}\\\\\n",
    "\\frac{-14\\sqrt7}{9}e^{-3t}+\\frac{-53+35\\sqrt7}{9}e^{(2+\\sqrt7)t}+\\frac{53+25\\sqrt7}{9}e^{(2-\\sqrt7)t}\\\\\n",
    "\\frac{-8\\sqrt7}{9}e^{-3t}+\\frac{-2+4\\sqrt7}{9}e^{(2+\\sqrt7)t}+\\frac{2+\\sqrt7}{9}e^{(2-\\sqrt7)t}\n",
    "\\end{bmatrix}\n",
    "$$"
   ]
  },
  {
   "cell_type": "markdown",
   "metadata": {},
   "source": [
    "$$\\mathbf A_3=\n",
    "\\begin{bmatrix}\n",
    "\\frac{-8\\sqrt7}{9}e^{-3t}+\\frac{-2+4\\sqrt7}{9}e^{(2+\\sqrt7)t}+\\frac{2+\\sqrt7}{9}e^{(2-\\sqrt7)t}\\\\\n",
    "\\frac{56\\sqrt7}{9}e^{-3t}+\\frac{122-28\\sqrt7}{9}e^{(2+\\sqrt7)t}+\\frac{-122-28\\sqrt7}{9}e^{(2-\\sqrt7)t}\\\\\n",
    "\\frac{32\\sqrt7}{9}e^{-3t}+\\frac{26+2\\sqrt7}{9}e^{(2+\\sqrt7)t}+\\frac{-26+2\\sqrt7}{9}e^{(2-\\sqrt7)t}\n",
    "\\end{bmatrix}\n",
    "$$"
   ]
  },
  {
   "cell_type": "markdown",
   "metadata": {},
   "source": [
    "综上，可得"
   ]
  },
  {
   "cell_type": "markdown",
   "metadata": {},
   "source": [
    "$$\\varphi(t)=\n",
    "\\frac{1}{4\\sqrt7}\\times\n",
    "\\begin{bmatrix}\n",
    "\\frac{52\\sqrt7}{3}e^{-3t}+\\frac{4-26\\sqrt7}{3}e^{(2+\\sqrt7)t}+\\frac{-4-2\\sqrt7}{3}e^{(2-\\sqrt7)t}\\\\\n",
    "\\frac{-364\\sqrt7}{9}e^{-3t}+\\frac{-748+146\\sqrt7}{9}e^{(2+\\sqrt7)t}+\\frac{748+146\\sqrt7}{9}e^{(2-\\sqrt7)t}\\\\\n",
    "\\frac{-208\\sqrt7}{9}e^{-3t}+\\frac{-178-22\\sqrt7}{9}e^{(2+\\sqrt7)t}+\\frac{178-22\\sqrt7}{9}e^{(2-\\sqrt7)t}\n",
    "\\end{bmatrix}\n",
    "$$\n"
   ]
  },
  {
   "cell_type": "markdown",
   "metadata": {},
   "source": [
    "# <font color='red'>A 9/12"
   ]
  },
  {
   "cell_type": "code",
   "execution_count": null,
   "metadata": {
    "collapsed": true
   },
   "outputs": [],
   "source": []
  }
 ],
 "metadata": {
  "kernelspec": {
   "display_name": "SageMath 7.3",
   "language": "",
   "name": "sagemath"
  },
  "language_info": {
   "codemirror_mode": {
    "name": "ipython",
    "version": 2
   },
   "file_extension": ".py",
   "mimetype": "text/x-python",
   "name": "python",
   "nbconvert_exporter": "python",
   "pygments_lexer": "ipython2",
   "version": "2.7.10"
  }
 },
 "nbformat": 4,
 "nbformat_minor": 0
}
