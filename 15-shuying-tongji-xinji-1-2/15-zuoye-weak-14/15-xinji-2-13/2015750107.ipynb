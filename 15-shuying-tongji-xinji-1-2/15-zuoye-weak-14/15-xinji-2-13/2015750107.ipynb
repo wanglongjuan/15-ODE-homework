{
 "cells": [
  {
   "cell_type": "markdown",
   "metadata": {},
   "source": [
    "# 习题5.2"
   ]
  },
  {
   "cell_type": "markdown",
   "metadata": {},
   "source": [
    "5.设$Φ(t)$为方程$x'=Ax(A为n×n$常数矩阵)的标准基解矩阵（即$Φ(0)=E$）,证明:$Φ(t)Φ^{-1}(t_0)=Φ(t-t_0)$，其中$t$为某一值。"
   ]
  },
  {
   "cell_type": "markdown",
   "metadata": {},
   "source": [
    "解：\n",
    "\n",
    "因为$A$是$n×n$常数矩阵，\n",
    "\n",
    "所以,方程$x'=Ax$的基解矩阵$Φ(t)$满足$\\frac{dΦ(t)}{dt}=A\\bulletΦ(t)$\n",
    "\n",
    "解得，$Φ(t)=e^{At}$\n",
    "\n",
    "即，$Φ(t)$是指数型的，\n",
    "\n",
    "又因为，$Φ^{-1}(t)=e^{At}$,\n",
    "\n",
    "所以，$Φ(t)Φ^{-1}(t_0)=e^{At}e^{-At_0}=Φ(t-t_0)$"
   ]
  },
  {
   "cell_type": "markdown",
   "metadata": {},
   "source": [
    "10.试求下列方程的通解：\n",
    "\n",
    "（2）$x'''-8x=e^{2t}$"
   ]
  },
  {
   "cell_type": "markdown",
   "metadata": {},
   "source": [
    "解：\n",
    "\n",
    "对应齐次方程$x'''-8x=0$的特征方程为，$\\lambda^3-8=0$\n",
    "\n",
    "即，$\\lambda_1=2,\\lambda_2=-1+\\sqrt3i,\\lambda_3=-1-\\sqrt3i$\n",
    "\n",
    "所以，齐次方程的通解为，$x=C_1e^{2t}+C_2e^{-t}\\cos\\sqrt3t+C_3e^{-t}\\sin\\sqrt3t$\n",
    "\n",
    "令原方程的一个特解为$x_1=Ate^{2t}$\n",
    "\n",
    "代入原方程得，$A=\\frac1{12}$\n",
    "\n",
    "特解为，$x_1=\\frac{1}{12}te^{2t}$\n",
    "\n",
    "所以，原方程的通解为，$x(t)=C_1e^{2t}+C_2e^{-t}\\cos\\sqrt3t+C_3e^{-t}\\sin\\sqrt3t+\\frac{1}{12}te^{2t}$"
   ]
  },
  {
   "cell_type": "markdown",
   "metadata": {},
   "source": [
    "# 习题5.3"
   ]
  },
  {
   "cell_type": "markdown",
   "metadata": {},
   "source": [
    "1.假设$A$是$n×n$矩阵，试证：\n",
    "\n",
    "（2）对任意整数k，都有$(expA)^k=expkA.$（当$k$是负整数时，规定$(expA)^k=[(expA)^{-1}]^{-k}$"
   ]
  },
  {
   "cell_type": "markdown",
   "metadata": {},
   "source": [
    "解：\n",
    "\n",
    "当$A、B$可交换时，$exp(A+B)=expA\\bullet expB$\n",
    "\n",
    "可得$exp(c_1A+c_2A)=expc_1A\\bullet expc_2A$\n",
    "\n",
    "设$c_1=c_2=1$,则\n",
    "\n",
    "$exp(2A)=exp(A+A)=expA\\bullet expA=(expA)^2$\n",
    "\n",
    "$exp(3A)=exp(A+2A)=expA\\bullet exp2A=(expA)^3$\n",
    "\n",
    "……\n",
    "\n",
    "$exp(kA)=exp[A+(k-1)A]=expA\\bullet exp(k-1)A=(expA)^k$\n",
    "\n",
    "当$k=0$时，\n",
    "\n",
    "右边$=(expA)^k=(expA)^0=E$\n",
    "\n",
    "左边$=expkA=exp0=E$\n",
    "\n",
    "即，$k=0$时，等式成立\n",
    "\n",
    "当$k=1$时，\n",
    "\n",
    "左边$=expA=$右边，等式成立\n",
    "\n",
    "由归纳法，知等式对所有的非负整数成立\n",
    "\n",
    "当$k$是负整数时\n",
    "\n",
    "$(expA)^k\\bullet [(expA)^{-1}]^{-k}=[exp(-A)]^{-k}=exp(-k)(-A)=expkA$\n",
    "\n",
    "即，$k$是负整数时，等式成立\n",
    "\n",
    "综上，对任意整数$k$，都有$(expA)^k=expkA.$"
   ]
  },
  {
   "cell_type": "markdown",
   "metadata": {},
   "source": [
    "5.试求方程x'=Ax的基解矩阵，并求满足初值条件$φ(0)=\\eta$的解φ（t）：\n",
    "\n",
    "（2）$A=\\begin{bmatrix}1&0&3\\\\8&1&-1\\\\5&1&-1\\end{bmatrix},\\eta=\\begin{bmatrix}0\\\\-2\\\\-7\\end{bmatrix}$"
   ]
  },
  {
   "cell_type": "markdown",
   "metadata": {},
   "source": [
    "解:\n",
    "\n",
    "方程的一个基解矩阵为\n",
    "\n",
    "$Φ(t)=\n",
    "\\begin{bmatrix}\n",
    "3e^{-3t}&3e^{(2+\\sqrt7)t}&3e^{(2-\\sqrt7)t}\\\\-7e^{-3t}&(4\\sqrt7-5)e^{(2+\\sqrt7)t}&-(4\\sqrt7+5)e^{(2-\\sqrt7)t}\\\\-4e^{-3t}&(\\sqrt7+1)e^{(2+\\sqrt7)t}&(1-\\sqrt7)e^{(2-\\sqrt7)t\n",
    "}\\end{bmatrix}\n",
    "$\n",
    "\n",
    "而满足初值条件$φ(0)=\\eta=\\begin{bmatrix}0&-2&-7\\end{bmatrix}^T$的解为\n",
    "\n",
    "$φ(t)=Φ(t)Φ^{-1}(0)\\eta=expAt\\bullet\\eta$\n",
    "\n",
    "经计算得\n",
    "\n",
    "$\n",
    "φ(t)=\\frac1{4\\sqrt7}×\n",
    "\\begin{bmatrix}\n",
    "\\frac{52\\sqrt7}{3}e^{-3t}+\\frac{4-26\\sqrt7}{3}e^{(2+\\sqrt7)t}+\\frac{-4-2\\sqrt7}3e^{(2-\\sqrt7)t}\\\\ \\frac{-364\\sqrt7}9e^{-3t}+\\frac{-748+146\\sqrt7}9e^{(2+\\sqrt7)t}+\\frac{748+146\\sqrt7}9e^{(2-\\sqrt7)t}\\\\\n",
    "\\frac{-208\\sqrt7}9e^{-3t}+\\frac{-178-22\\sqrt7}9e^{(2+\\sqrt7)t}+\\frac{178-22\\sqrt7}9e^{(2-\\sqrt7)t}\n",
    "\\end{bmatrix}\n",
    "$"
   ]
  },
  {
   "cell_type": "markdown",
   "metadata": {
    "collapsed": true
   },
   "source": [
    "# <font color='red'>A 9/12"
   ]
  },
  {
   "cell_type": "code",
   "execution_count": null,
   "metadata": {
    "collapsed": true
   },
   "outputs": [],
   "source": []
  }
 ],
 "metadata": {
  "kernelspec": {
   "display_name": "SageMath 7.3",
   "language": "",
   "name": "sagemath"
  },
  "language_info": {
   "codemirror_mode": {
    "name": "ipython",
    "version": 2
   },
   "file_extension": ".py",
   "mimetype": "text/x-python",
   "name": "python",
   "nbconvert_exporter": "python",
   "pygments_lexer": "ipython2",
   "version": "2.7.10"
  }
 },
 "nbformat": 4,
 "nbformat_minor": 0
}
