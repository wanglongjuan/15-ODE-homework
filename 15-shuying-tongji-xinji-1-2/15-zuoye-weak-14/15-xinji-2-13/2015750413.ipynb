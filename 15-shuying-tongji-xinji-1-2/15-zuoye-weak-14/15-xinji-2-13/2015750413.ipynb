{
 "cells": [
  {
   "cell_type": "markdown",
   "metadata": {},
   "source": [
    "1.设$\\phi(t)$为方程$x'=Ax(A为n×n常数矩阵)$的标准基解矩阵(即$\\phi(0)=E)$,证明：\n",
    "$$\\phi(t)\\phi^{-1}(t_0)=\\phi(t-t_0)$$"
   ]
  },
  {
   "cell_type": "markdown",
   "metadata": {},
   "source": [
    "证：\n",
    "$[\\phi(t)\\phi^{-1}(t_0)]'=\\phi'(t)\\phi^{-1}(t_0)=A\\phi(t)\\phi^{-1}(t_0)=A[\\phi(t)\\phi^{-1}(t_0)]$\n",
    "\n",
    "及\n",
    "\n",
    "$\\phi'(t-t_0)=A\\phi(t-t_0)$\n",
    "\n",
    "且当$t=t_0$时$\\phi(t)\\phi^{-1}(t_0)=E=A\\phi(t-t_0)$\n",
    "\n",
    "因此，$\\phi(t)\\phi^{-1}(t_0)和\\phi(t-t_0)同为方程x'=Ax$的解矩阵，且具有同样的初值。根据解的存在唯一性定理，他们完全相同。"
   ]
  },
  {
   "cell_type": "markdown",
   "metadata": {},
   "source": [
    "2.试求下列方程的通解：\n",
    "$x'''-8x=e^{2t}$"
   ]
  },
  {
   "cell_type": "markdown",
   "metadata": {},
   "source": [
    "解：求解其次线性微分方程：$x'''-8x=0$\n",
    "\n",
    "方程有特征值$\\lambda=2,\\lambda=-1+sqrt{3}i,\\lambda=-1-sqrt{3}i$,\n",
    "\n",
    "方程右端$e^{2t}$对特征值$\\lambda=2$属于I型k=1,m=0,其特解设为$x=cte^{2t}$,\n",
    "\n",
    "代入方程得$c=\\frac{1}{12}$.方程的通解为：\n",
    "\n",
    "$x=c_1e^{2t}+e^{-t}(c_2cos\\sqrt{3}t+c_3sin\\sqrt{3}t)+\\frac{1}{12}te^{2t}$"
   ]
  },
  {
   "cell_type": "markdown",
   "metadata": {},
   "source": [
    "3.假设A为n×n矩阵，试证：\n",
    "对任意整数k,都有\n",
    "$$(exp A)^k=exp kA$$\n",
    "$$(当k是负整数时，规定$(exp A)^k=[(exp A)^{-1}]^{-k}$)$$"
   ]
  },
  {
   "cell_type": "markdown",
   "metadata": {},
   "source": [
    "解：显然，当k=0时，有$(expA)^0=0=exp0$\n",
    "\n",
    "k=1时，有$(expA)^1=expA$\n",
    "\n",
    "当k≥2时，由矩阵指数exp A的性质exp(A+B)=expAexpB易得：$(expA)^k=expkA$\n",
    "\n",
    "k=-1时，矩阵指数exp A有性质$(expA)^{-1}=exp(-A)$\n",
    "\n",
    "当k≤-2时，由条件易得：\n",
    "\n",
    "$(exp A)^k=[(exp A)^{-1}]^{-k}=[exp(-A)]^{-k}=([exp(-A)]^{-1})^{k}=(expA)^k=expkA$\n"
   ]
  },
  {
   "cell_type": "markdown",
   "metadata": {},
   "source": [
    "4.试求方程组$x'=Ax$的基解矩阵，并求出满足初值条件$\\varphi(0)=\\eta$的解$\\varphi(t):$\n",
    "$$W(t)=\n",
    "\\begin{bmatrix}\n",
    "1&0&3\\\\\n",
    "8&1&-1\\\\\n",
    "5&1&-1\n",
    "\\end{bmatrix},$$"
   ]
  },
  {
   "cell_type": "markdown",
   "metadata": {},
   "source": [
    "解:矩阵的特征值为：$$\\lambda_1=-3,\\lambda_2=2+\\sqrt{7},\\lambda_3=2-\\sqrt{7}$$\n",
    "\n",
    "特征向量为:$$u=\\alpha[-3,7,4]^T,v=\\beta[3,-5+4\\sqrt{7},1+\\sqrt{7}]^T,r=\\gamma[3,-5-4\\sqrt{7},1-\\sqrt{7}]$$\n",
    "\n",
    "$\\therefore方程组x'=Ax的一个基解矩阵为:$\n",
    "\n",
    "$$\n",
    "\\Phi(t)=\n",
    "\\begin{bmatrix}\n",
    "-3e^{-3t}&3e^{(2+\\sqrt{7})t}&3e^{(2-\\sqrt{7})t}\\\\\n",
    "7e^{-3t}&(-5+4\\sqrt{7})e^{(2+\\sqrt{7})t}&(-5-4\\sqrt{7})e^{(2-\\sqrt{7})t}\\\\\n",
    "4e^{-3t}&(1+\\sqrt{7})e^{(2+\\sqrt{7})t}&(1-\\sqrt{7})e^{(2-\\sqrt{7})t}\\\\\n",
    "\\end{bmatrix}\n",
    "$$\n",
    "\n",
    "$\\therefore满足初值条件\\varphi(0)=\\eta的解为:$\n",
    "\n",
    "$$\n",
    "\\varphi(t)=[\\exp(At)]\\eta=\n",
    "\\begin{bmatrix}\n",
    "\\frac{13}{3}e^{-3t}+\\frac{2-13\\sqrt{7}}{6\\sqrt{7}}e^{(2+\\sqrt{7})t}+\\frac{-2-13\\sqrt{7}}{6\\sqrt{7}}e^{(2-\\sqrt{7})t}\\\\\n",
    "-\\frac{91}{9}e^{-3t}+\\frac{-374+73\\sqrt{7}}{18\\sqrt{7}}e^{(2+\\sqrt{7})t}+\\frac{374+73\\sqrt{7}}{18\\sqrt{7}}e^{(2-\\sqrt{7})t}\\\\\n",
    "-\\frac{52}{9}e^{-3t}+\\frac{-89-11\\sqrt{7}}{18\\sqrt{7}}e^{(2+\\sqrt{7})t}+\\frac{89-11\\sqrt{7}}{18\\sqrt{7}}e^{(2-\\sqrt{7})t}\\\\\n",
    "\\end{bmatrix}\n",
    "$$"
   ]
  },
  {
   "cell_type": "markdown",
   "metadata": {},
   "source": [
    "# <font color='red'>A 9/12"
   ]
  },
  {
   "cell_type": "code",
   "execution_count": null,
   "metadata": {
    "collapsed": true
   },
   "outputs": [],
   "source": []
  }
 ],
 "metadata": {
  "kernelspec": {
   "display_name": "SageMath 7.3",
   "language": "",
   "name": "sagemath"
  },
  "language_info": {
   "codemirror_mode": {
    "name": "ipython",
    "version": 2
   },
   "file_extension": ".py",
   "mimetype": "text/x-python",
   "name": "python",
   "nbconvert_exporter": "python",
   "pygments_lexer": "ipython2",
   "version": "2.7.10"
  }
 },
 "nbformat": 4,
 "nbformat_minor": 0
}
