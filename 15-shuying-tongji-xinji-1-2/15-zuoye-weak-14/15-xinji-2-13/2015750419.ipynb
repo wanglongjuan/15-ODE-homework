{
 "cells": [
  {
   "cell_type": "markdown",
   "metadata": {},
   "source": [
    "$.5.解：因为 \\Phi(t)是x'=Ax的标准基解，所以[\\Phi(t)\\phi(t)^{-1}(t_0)]'=\\Phi'(t)\\phi(t)^{-1}(t_0)=A\\Phi(t)\\phi(t)^{-1}(t_0),对于\\Phi(t)\\phi(t)^{-1}(t_0)，t=t_0时，该式=E$\n",
    "$[\\Phi(t-t_0)]'=A\\Phi(t-t_0),t=t_0时，该式=E,由解的存在唯一性定理知\\Phi(t)\\phi(t)^{-1}(t_0)=[\\Phi(t-t_0).证毕$\n",
    "$10.(2)x'''-8x=e^{2t}.解：其齐次线性微分方程的特征方程为\\lambda^3-8=0,解得\\lambda_1=2(一重)，\\lambda_2=-1+\\sqrt3i或-1-\\sqrt3i,方程e^{2t}对\\lambda=2 有k=1,m=0,设其特解为x_1=cte^{2t},代入方程得到c=\\frac{1}{12},则方程的通解为x=c_1e^{2t}+e^{-t}(c_2\\cos \\sqrt3t+c_3\\sin \\sqrt3t)+\\frac{te^{2t}}{12}$\n",
    "$1.(2).当k=0时，(\\exp A)^k=\\exp kA=1,当k>0时(\\exp A)^k=(\\exp A)(\\exp A)(\\exp A)……(\\exp A)=\\exp(A+A+A……+A)=\\exp kA,当k<0时(\\exp A)^k=[(\\exp A)^{-1}]^{-k}=[\\exp (-A)]^{-k}= [\\exp (-A)]^{(-1)(k)}=(\\exp A)^k=\\exp kA.证毕$\n",
    "$5.(2).解\\mathbf{x}’=A\\mathbf{x},A=\\begin{bmatrix}1&0&3\\\\8&1&-1\\\\5&1&-1\\end{bmatrix}.\\eta=\\begin{bmatrix}0\\\\-2\\\\-7\\end{bmatrix}$\n",
    "$A的特征方程的特征根有\\lambda_1=-3,\\lambda_2=2+\\sqrt7,\\lambda_3=2-\\sqrt7其对应的特征向量分别为\\mathbf{u}_1=a[-3,7,4]^{T},\\mathbf{u}_2=b[3,-5+4\\sqrt7,1+\\sqrt7]^T,\\mathbf{u}_3=r[3,-5-4\\sqrt7,1-\\sqrt7]^T则方程的一个基解矩阵\\Phi为\\begin{bmatrix}-3e^{-3t}&3e^{(2+\\sqrt7)t}&3e^{(2-\\sqrt7)t}\\\\7e^{-3t}&(-5+4\\sqrt7)e^{(2+\\sqrt7)t}&(-5-4\\sqrt)e^{(2-\\sqrt7)t}\\\\4e^{-3t}&(1+\\sqrt7)e^{(2+\\sqrt7)t}&(1-\\sqrt7)e^{(2-\\sqrt7)t}\\end{bmatrix}$\n",
    "$满足初值条件\\eta的解为\\mathbf{\\phi}(t)=[exp(\\mathbf{A}t)]\\eta=\\Phi(t)\\Phi^{-1}(t_0)\\eta=\\begin{bmatrix}\\frac{13}{3}e^{-3t}+\\frac{2-13\\sqrt7}{6\\sqrt7}e^{(2+\\sqrt7)t}+\\frac{-2-13\\sqrt7}{6\\sqrt7}e^{(2-\\sqrt7)t}\\\\\\frac{-91}{9}e^{-3t}+\\frac{-374+73\\sqrt7}{18\\sqrt7}e^{(2+\\sqrt7)t}+\\frac{374+73\\sqrt7}{18\\sqrt7}e^{(2-\\sqrt7)t}\\\\\\frac{-52}{9}e^{-3t}+\\frac{-89-11\\sqrt7}{18\\sqrt7}e^{(2+\\sqrt7)t}+\\frac{89-11\\sqrt7}{18\\sqrt7}e^{(2-\\sqrt7)t}\\end{bmatrix}$"
   ]
  },
  {
   "cell_type": "markdown",
   "metadata": {
    "collapsed": true
   },
   "source": [
    "# <font color='red'>A 9/12"
   ]
  },
  {
   "cell_type": "code",
   "execution_count": null,
   "metadata": {
    "collapsed": true
   },
   "outputs": [],
   "source": []
  }
 ],
 "metadata": {
  "kernelspec": {
   "display_name": "SageMath 7.3",
   "language": "",
   "name": "sagemath"
  },
  "language_info": {
   "codemirror_mode": {
    "name": "ipython",
    "version": 2
   },
   "file_extension": ".py",
   "mimetype": "text/x-python",
   "name": "python",
   "nbconvert_exporter": "python",
   "pygments_lexer": "ipython2",
   "version": "2.7.10"
  }
 },
 "nbformat": 4,
 "nbformat_minor": 0
}
