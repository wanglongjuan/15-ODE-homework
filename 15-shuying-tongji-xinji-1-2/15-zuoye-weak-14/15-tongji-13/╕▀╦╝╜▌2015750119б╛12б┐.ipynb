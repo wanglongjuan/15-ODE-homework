{
 "cells": [
  {
   "cell_type": "markdown",
   "metadata": {},
   "source": [
    "# $$常微分作业12$$\n",
    "## 班级：统计学\n",
    "## 姓名：高思捷\n",
    "## 学号：2015750119"
   ]
  },
  {
   "cell_type": "markdown",
   "metadata": {},
   "source": [
    "## 一、$设Φ(t)为 方程x'=Ax（A为n*n常数矩阵）的标准基解矩阵（即Φ(0)=E），证明：$\n",
    "\n",
    "## $$Φ(t)Φ^{-1}(t_0)=Φ(t-t_0),$$\n",
    "\n",
    "## $其中t_0为某一值。$"
   ]
  },
  {
   "cell_type": "markdown",
   "metadata": {},
   "source": [
    "证："
   ]
  },
  {
   "cell_type": "markdown",
   "metadata": {},
   "source": [
    "$因为A是n*n常数矩阵$\n",
    "\n",
    "$所以方程x'=Ax的基解矩阵Φ(t)满足：$"
   ]
  },
  {
   "cell_type": "markdown",
   "metadata": {},
   "source": [
    "$\\frac{dΦ(t)}{dt}=AΦ(t)$"
   ]
  },
  {
   "cell_type": "markdown",
   "metadata": {},
   "source": [
    "解得：$Φ(t)=e^{At}$"
   ]
  },
  {
   "cell_type": "markdown",
   "metadata": {},
   "source": [
    "即有：$Φ^{-1}(t)=e^{-At}$"
   ]
  },
  {
   "cell_type": "markdown",
   "metadata": {},
   "source": [
    "所以："
   ]
  },
  {
   "cell_type": "markdown",
   "metadata": {},
   "source": [
    "$Φ(t)Φ^{-1}(t_0)=e^{At}e^{-At_0}=e^{A(t-t_0)}=Φ(t-t_0)$"
   ]
  },
  {
   "cell_type": "markdown",
   "metadata": {},
   "source": [
    "## 二、试求下列方程通解：\n",
    "\n",
    "## $x'''-8x=e^{2t}$"
   ]
  },
  {
   "cell_type": "markdown",
   "metadata": {},
   "source": [
    "解："
   ]
  },
  {
   "cell_type": "markdown",
   "metadata": {},
   "source": [
    "对应齐次方程$x'''-8x=0$的特征方程为：$λ^3-8=0$"
   ]
  },
  {
   "cell_type": "markdown",
   "metadata": {},
   "source": [
    "即：$λ_1=2,λ_2=-1+\\sqrt{3}i,λ_3=-1-\\sqrt{3}i$"
   ]
  },
  {
   "cell_type": "markdown",
   "metadata": {},
   "source": [
    "所以齐次方程的通解为：$x=c_1e^{2t}+c_2e^{-t}cos\\sqrt{3}t+c_3e^{-t}sin\\sqrt{3}t$"
   ]
  },
  {
   "cell_type": "markdown",
   "metadata": {},
   "source": [
    "令原方程的一个特解为$x_1=Ate^{2t}$"
   ]
  },
  {
   "cell_type": "markdown",
   "metadata": {},
   "source": [
    "代入原方程，得：$A=\\frac{1}{12}$"
   ]
  },
  {
   "cell_type": "markdown",
   "metadata": {},
   "source": [
    "即$x_1=\\frac{1}{12}te^{2t}$"
   ]
  },
  {
   "cell_type": "markdown",
   "metadata": {},
   "source": [
    "所以原方程通解为：$x(t)=c_1e^{2t}+c_2e^{-t}cos\\sqrt{3}t+c_3e^{-t}sin\\sqrt{3}t+\\frac{1}{12}te^{2t}$"
   ]
  },
  {
   "cell_type": "markdown",
   "metadata": {},
   "source": [
    "## 三、$假设A是n*n矩阵，试证：$\n",
    "\n",
    "## 对任意整数k，\n",
    "\n",
    "## $$都有(exp A)^k=exp kA$$\n",
    "\n",
    "## $(当k为负整数时，规定(exp A)^k=[(exp A)^{-1}]^{-k})$"
   ]
  },
  {
   "cell_type": "markdown",
   "metadata": {},
   "source": [
    "证："
   ]
  },
  {
   "cell_type": "markdown",
   "metadata": {},
   "source": [
    "（1）$k>0$\n",
    "\n",
    "$(exp A)^k$\n",
    "\n",
    "$=exp A*exp A*exp A*……*exp A$\n",
    "\n",
    "$=exp(A+A+A+……+A)$\n",
    "\n",
    "$=exp kA$"
   ]
  },
  {
   "cell_type": "markdown",
   "metadata": {},
   "source": [
    "（2）$k<0,即-k>0$"
   ]
  },
  {
   "cell_type": "markdown",
   "metadata": {},
   "source": [
    "$(exp A)^k$\n",
    "\n",
    "$=[(exp A)^{-1}]^{-k}$\n",
    "\n",
    "$=[exp(-A)]^{-k}$\n",
    "\n",
    "$=exp(-A)*exp(-A)*exp(-A)*……*exp(-A)$\n",
    "\n",
    "$=exp[(-A)(-k)]$\n",
    "\n",
    "$=expkA$"
   ]
  },
  {
   "cell_type": "markdown",
   "metadata": {},
   "source": [
    "综上，对任意k，有$(exp A)^k=exp kA$"
   ]
  },
  {
   "cell_type": "markdown",
   "metadata": {
    "collapsed": true
   },
   "source": [
    "## 四、试求方程组 $x'=\\mathbf Ax$ 的基解矩阵，并求满足初值条件 $\\varphi(0)=\\eta$ 的解 $\\varphi(t)$\n",
    "\n",
    "$$\\quad\\quad\\quad\n",
    "\\mathbf A=\n",
    "\\left[\n",
    "\\begin{matrix}\n",
    "1&0&3\\\\\n",
    "8&1&-1\\\\\n",
    "5&1&-1\\\\\n",
    "\\end{matrix}\n",
    "\\right],\n",
    "\\quad\n",
    "\\quad\n",
    "\\quad\n",
    "\\mathbf\\eta=\n",
    "\\left[\n",
    "\\begin{matrix}\n",
    "0\\\\\n",
    "-2\\\\\n",
    "-7\\\\\n",
    "\\end{matrix}\n",
    "\\right]；\n",
    "$$"
   ]
  },
  {
   "cell_type": "markdown",
   "metadata": {},
   "source": [
    "解："
   ]
  },
  {
   "cell_type": "markdown",
   "metadata": {},
   "source": [
    "方程的一个基解矩阵为\n",
    "$$\n",
    "\\Phi(t)=\n",
    "\\left[\n",
    "\\begin{matrix}\n",
    "3e^{-3t} &3e^{(2+\\sqrt7)t} &3e^{(2-\\sqrt7)t}\\\\\n",
    "-7e^{-3t} &(4\\sqrt7-5)e^{(2+\\sqrt7)t} &-(4\\sqrt7+5)e^{(2-\\sqrt7)t}\\\\\n",
    "-4e^{-3t} &(\\sqrt7+1)e^{(2+\\sqrt7)t} &(1-\\sqrt7)e^{(2-\\sqrt7)t}\\\\\n",
    "\\end{matrix}\n",
    "\\right],\n",
    "$$"
   ]
  },
  {
   "cell_type": "markdown",
   "metadata": {},
   "source": [
    "而满足初值条件 $\\varphi(0)=\\mathbf \\eta=[0\\quad-2\\quad-7]^T$ 的解为 $$\\varphi(t)=\\Phi(t)\\Phi^{-1}(0)\\eta=exp \\mathbf At\\dot \\quad \\mathbf \\eta$$"
   ]
  },
  {
   "cell_type": "markdown",
   "metadata": {},
   "source": [
    "计算得\n",
    "$$\n",
    "\\varphi(t)=\\frac{1}{4\\sqrt7}\\times\n",
    "\\left[\n",
    "\\begin{matrix}\n",
    "\\frac{52\\sqrt7}{3}e^{-3t}+\\frac{4-26\\sqrt7}{3}e^{(2+\\sqrt7)t}+\\frac{-4-2\\sqrt7}{3}e^{(2-\\sqrt7)t}\\\\\n",
    "\\frac{-364\\sqrt7}{9}e^{-3t}+\\frac{-748+146\\sqrt7}{9}e^{(2+\\sqrt7)t}+\\frac{748+146\\sqrt7}{9}e^{(2-\\sqrt7)t}\\\\\n",
    "\\frac{-208\\sqrt7}{9}e^{-3t}+\\frac{-178-22\\sqrt7}{9}e^{(2+\\sqrt7)t}+\\frac{178-22\\sqrt7}{9}e^{(2-\\sqrt7)t}\\\\\n",
    "\\end{matrix}\n",
    "\\right].\n",
    "$$"
   ]
  },
  {
   "cell_type": "markdown",
   "metadata": {},
   "source": [
    "# <font color='red'>A  9/12"
   ]
  },
  {
   "cell_type": "code",
   "execution_count": null,
   "metadata": {
    "collapsed": true
   },
   "outputs": [],
   "source": []
  }
 ],
 "metadata": {
  "kernelspec": {
   "display_name": "SageMath 7.3",
   "language": "",
   "name": "sagemath"
  },
  "language_info": {
   "codemirror_mode": {
    "name": "ipython",
    "version": 2
   },
   "file_extension": ".py",
   "mimetype": "text/x-python",
   "name": "python",
   "nbconvert_exporter": "python",
   "pygments_lexer": "ipython2",
   "version": "2.7.10"
  }
 },
 "nbformat": 4,
 "nbformat_minor": 0
}
