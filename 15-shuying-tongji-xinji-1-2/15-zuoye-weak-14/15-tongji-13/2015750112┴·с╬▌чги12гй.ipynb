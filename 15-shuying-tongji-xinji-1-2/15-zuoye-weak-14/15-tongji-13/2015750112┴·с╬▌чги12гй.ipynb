{
 "cells": [
  {
   "cell_type": "markdown",
   "metadata": {},
   "source": [
    "## 1.$设Φ(t)为 方程x'=Ax（A为n*n常数矩阵）的标准基解矩阵（即Φ(0)=E），证明：$\n",
    "\n",
    "## $$Φ(t)Φ^{-1}(t_0)=Φ(t-t_0),$$\n",
    "\n",
    "## $其中t_0为某一值。$\n",
    "\n",
    "由于A是n×n常数矩阵\n",
    "所以方程的基解矩阵为$\\frac{\\mathrm d\\Phi(t)}{\\mathrm dt}=A\\bullet\\Phi^{-1}(t)$\n",
    "\n",
    "则有$Φ(t)=e^{At}$\n",
    "\n",
    "所以$Φ^{-1}(t)=e^{-At}$\n",
    "\n",
    "综上$Φ(t)Φ^{-1}(t_0)=e^{At}e^{-At_0}=e^{A(t-t_0)}=Φ(t-t_0)$"
   ]
  },
  {
   "cell_type": "markdown",
   "metadata": {},
   "source": [
    "## 2.试求解$x^{\\prime\\prime\\prime}-8x=e^{2t}$"
   ]
  },
  {
   "cell_type": "markdown",
   "metadata": {},
   "source": [
    "可知齐次方程特征方程为    $\\lambda^3-8=0$\n",
    "\n",
    "则方程的特征根为    $\\lambda_1=2,\\lambda_2=-1+\\sqrt 3 i,\\lambda_3=-1-\\sqrt 3 i$\n",
    "\n",
    "所以方程的通解为    $x = C_1e^{2t} + C_2e^{-t}cos\\sqrt 3 t + C_3e^{-t}sin\\sqrt 3 t$\n",
    "\n",
    "将原方程的特解形如$x = Ate^{2t}$代入原方程\n",
    "有$$(Ate^{2t})^{\\prime\\prime\\prime}-8Ate^{2t}=12Ae^{2t}=e^{2t}$$\n",
    "\n",
    "所以$$A = \\frac{1}{12}$$\n",
    "\n",
    "则有特解$$x = \\frac{1}{12}te^{2t}$$\n",
    "\n",
    "综上，原方程的通解为\n",
    "$$x（t）= C_1e^{2t} + C_2e^{-t}cos\\sqrt 3 t + C_3e^{-t}sin\\sqrt 3 t + \\frac{1}{12}te^{2t}$$"
   ]
  },
  {
   "cell_type": "markdown",
   "metadata": {},
   "source": [
    "## 3.假设A是$n×n$矩阵，试证：\n",
    "\n",
    "## (2)对任意的常数k,都有$$(\\exp \\mathbf A)^t=\\exp k\\mathbf A$$\n",
    "\n",
    "## (当k是负整数时，规定$(\\exp \\mathbf A)^k=[(\\exp \\mathbf A)^{-1}]^{-k}$"
   ]
  },
  {
   "cell_type": "markdown",
   "metadata": {},
   "source": [
    "k<0时\n",
    "有-k>0\n",
    "有$$(expA)^k=[(expkA)^{-1}]^{-k}=[(expk-(A))]^{-k}=exp(-A)\\bullet exp(-A)\\cdots exp(-A)=exp[(-A)(-k)]=expkA$$\n",
    "所有$\\forall k$\n",
    "成立$(expA)^k=expkA$.\n",
    "\n",
    "k>0时\n",
    "\n",
    "根据数学归纳法\n",
    "\n",
    "$k=1$时，等式成立\n",
    "\n",
    "设当$k=n-1$时成立，即$$(\\exp A)^{n-1}=\\exp (n-1)A$$\n",
    "\n",
    "所以当$k=n$时\n",
    "\n",
    "$$\n",
    "\\begin{aligned}\n",
    "左边&=（\\exp A）^n\\\\&=(\\exp A)^{n-1}(\\exp A)\\\\&=\\exp (n-1）A\\exp A\\\\&=\\exp nA\\\\&=右边\n",
    "\\end{aligned}\n",
    "$$\n",
    "\n",
    "则$k=n$也成立\n",
    "\n",
    "综上，对任意的非负常数k,都有$(\\exp A)^t=\\exp kA$\n"
   ]
  },
  {
   "cell_type": "markdown",
   "metadata": {},
   "source": [
    "## 4.试求方程组$x^{\\prime}=\\mathbf{A}x$的基解矩阵，求满足初值条件$\\varphi(0)=\\eta$的解$\\varphi(t)$：\n",
    "\n",
    "## $\\mathbf{A}=\n",
    "\\begin{bmatrix}\n",
    "1 & 0 & 3\\\\\n",
    "8 & 1 & -1\\\\\n",
    "5 & 1 & -1\n",
    "\\end{bmatrix},\n",
    "\\eta=\n",
    "\\begin{bmatrix}\n",
    "0\\\\\n",
    "-2\\\\\n",
    "-7\n",
    "\\end{bmatrix}$"
   ]
  },
  {
   "cell_type": "markdown",
   "metadata": {},
   "source": [
    "矩阵的特征方程为\n",
    "\n",
    "$\\det (\\lambda \\mathbf E-\\mathbf A)=\n",
    "\\begin{vmatrix}\n",
    "\\lambda-1 & 0 & -3\\\\\n",
    "-8 & \\lambda-1 & 1\\\\\n",
    "-5 & -1 & \\lambda+1\\\\\n",
    "\\end{vmatrix}\n",
    "=\\lambda^3-\\lambda^2-15\\lambda-9=0$\n",
    "\n",
    "特征值为$\\lambda_1=-3,\\lambda_{2,3}=2±\\sqrt 7$\n",
    "\n",
    "$\\lambda_1=-3$的特征向量$u=\\begin{bmatrix} u_1\\\\u_2\\\\u_3\\\\ \\end{bmatrix}$满足\n",
    "\n",
    "$$\n",
    "\\begin{aligned}\n",
    "(\\lambda_1 \\mathbf E-\\mathbf A)u&=\n",
    "\\begin{vmatrix}\n",
    "-4 & 0 & -3\\\\\n",
    "-8 & -4 & 1\\\\\n",
    "-5 & -1 & -2\\\\\n",
    "\\end{vmatrix}\n",
    "\\begin{bmatrix} u_1\\\\u_2\\\\u_3\\\\ \\end{bmatrix}\\\\&=\n",
    "\\begin{vmatrix}\n",
    "-4u_1-3u_3\\\\\n",
    "-8u_1-4u_2+u_3\\\\\n",
    "-5u_1-u_2-2u_3\\\\\n",
    "\\end{vmatrix}\\\\&=0\n",
    "\\end{aligned}\n",
    "$$\n",
    "\n",
    "即$u=\\alpha [-3,7,4]^T$,其中$\\alpha≠0$为任意常数\n",
    "\n",
    "如上，有\n",
    "\n",
    "$\\lambda_2=2+\\sqrt 7$的特征向量$v=\\beta[3,-5+4\\sqrt 7,1+\\sqrt 7]^T$\n",
    "\n",
    "$\\lambda_3=2-\\sqrt 7$的特征向量$r=\\mu[3,-5-4\\sqrt 7,1-\\sqrt 7]^T$"
   ]
  },
  {
   "cell_type": "markdown",
   "metadata": {},
   "source": [
    "所以方程组$x^\\prime=\\mathbf A$的一个基解矩阵为\n",
    "\n",
    "$$\n",
    "\\phi(t)=\n",
    "\\begin{bmatrix}\n",
    "-3e^{-3t} & 3e^{(2+\\sqrt 7)t} & 3e^{(2-\\sqrt 7)t}\\\\\n",
    "7e^{-3t} & (-5+4\\sqrt 7)e^{(2+\\sqrt 7)t} & (-5-4\\sqrt 7)e^{(2-\\sqrt 7)t}\\\\\n",
    "4e^{-3t} & (1+\\sqrt 7)e^{(2-\\sqrt 7)t} & (1-\\sqrt 7)e^{(2-\\sqrt 7)t}\\\\\n",
    "\\end{bmatrix}\n",
    "$$\n",
    "因为\n",
    "$$\n",
    "\\begin{aligned}\n",
    "\\mathbf \\phi^{-1}(0)&=\n",
    "\\frac{-1}{108\\sqrt 7}\n",
    "\\begin{bmatrix}\n",
    "18\\sqrt 7 & 6\\sqrt 7& -24\\sqrt 7\\\\\n",
    "-27-9\\sqrt 7 & -15+3\\sqrt 7 & 6-12\\sqrt 7\\\\\n",
    "27-9\\sqrt 7 & 15+3\\sqrt 7 & -6-12\\sqrt 7\\\\\n",
    "\\end{bmatrix}\\\\&=\n",
    "\\begin{bmatrix}\n",
    "-\\frac{1}{6} & -\\frac{1}{18} & \\frac{2}{9}\\\\\n",
    "\\frac{3+\\sqrt 7}{12\\sqrt 7} & \\frac{5-\\sqrt 7}{36\\sqrt 7} & \\frac{-1+2\\sqrt 7}{18\\sqrt 7}\\\\\n",
    "\\frac{-3+\\sqrt 7}{12\\sqrt 7} & \\frac{-5-\\sqrt 7}{36\\sqrt 7} & \\frac{1+2\\sqrt 7}{18\\sqrt 7}\\\\\n",
    "\\end{bmatrix}\n",
    "\\end{aligned}\n",
    "$$\n",
    "\n",
    "所以满足初值条件$\\varphi(0)=\\eta$的解为\n",
    "$$\n",
    "\\begin{aligned}\n",
    "\\varphi(t)&=[\\exp( \\mathbf A t)]\\eta\\\\&=\\mathbf \\phi(0)\\mathbf \\phi^{-1}(0)\\eta\\\\&=\n",
    "\\begin{bmatrix}\n",
    "-3e^{-3t} & 3e^{(2+\\sqrt 7)t} & 3e^{(2-\\sqrt 7)t}\\\\\n",
    "7e^{-3t} & (-5+4\\sqrt 7)e^{(2+\\sqrt 7)t} & (-5-4\\sqrt 7)e^{(2-\\sqrt 7)t}\\\\\n",
    "4e^{-3t} & (1+\\sqrt 7)e^{(2-\\sqrt 7)t} & (1-\\sqrt 7)e^{(2-\\sqrt 7)t}\\\\\n",
    "\\end{bmatrix}\n",
    "\\begin{bmatrix}\n",
    "-\\frac{1}{6} & -\\frac{1}{18} & \\frac{2}{9}\\\\\n",
    "\\frac{3+\\sqrt 7}{12\\sqrt 7} & \\frac{5-\\sqrt 7}{36\\sqrt 7} & \\frac{-1+2\\sqrt 7}{18\\sqrt 7}\\\\\n",
    "\\frac{-3+\\sqrt 7}{12\\sqrt 7} & \\frac{-5-\\sqrt 7}{36\\sqrt 7} & \\frac{1+2\\sqrt 7}{18\\sqrt 7}\\\\\n",
    "\\end{bmatrix}\n",
    "\\begin{bmatrix}\n",
    "0\\\\-2\\\\-7\\\\\n",
    "\\end{bmatrix}\\\\&=\n",
    "\\begin{bmatrix}\n",
    "\\frac{13}{3}e^{-3t}+\\frac{2-13\\sqrt 7}{6\\sqrt 7}e^{(2+\\sqrt 7)t}+\\frac{-2-13\\sqrt 7}{6\\sqrt 7}e^{(2-\\sqrt 7)t}\\\\\n",
    "-\\frac{91}{9}e^{-3t}+\\frac{-374+73\\sqrt 7}{18\\sqrt 7}e^{(2+\\sqrt 7)t}+\\frac{374+73\\sqrt 7}{18\\sqrt 7}e^{(2-\\sqrt 7)t}\\\\\n",
    "-\\frac{52}{9}e^{-3t}+\\frac{-89-11\\sqrt 7}{18\\sqrt 7}e^{(2+\\sqrt 7)t}+\\frac{89-11sqrt 7}{18\\sqrt 7}e^{(2+\\sqrt 7)t}\\\\\n",
    "\\end{bmatrix}\n",
    "\\end{aligned}\n",
    "$$"
   ]
  },
  {
   "cell_type": "markdown",
   "metadata": {},
   "source": [
    "# <font color='red'>A+  9/12"
   ]
  },
  {
   "cell_type": "code",
   "execution_count": null,
   "metadata": {
    "collapsed": true
   },
   "outputs": [],
   "source": []
  }
 ],
 "metadata": {
  "kernelspec": {
   "display_name": "SageMath 7.3",
   "language": "",
   "name": "sagemath"
  },
  "language_info": {
   "codemirror_mode": {
    "name": "ipython",
    "version": 2
   },
   "file_extension": ".py",
   "mimetype": "text/x-python",
   "name": "python",
   "nbconvert_exporter": "python",
   "pygments_lexer": "ipython2",
   "version": "2.7.10"
  }
 },
 "nbformat": 4,
 "nbformat_minor": 0
}
