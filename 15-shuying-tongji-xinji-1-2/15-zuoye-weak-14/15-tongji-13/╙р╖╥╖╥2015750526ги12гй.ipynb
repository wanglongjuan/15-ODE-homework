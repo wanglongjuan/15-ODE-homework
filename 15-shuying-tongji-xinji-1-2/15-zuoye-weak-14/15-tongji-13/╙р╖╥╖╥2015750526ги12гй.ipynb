{
 "cells": [
  {
   "cell_type": "markdown",
   "metadata": {},
   "source": [
    "$5.设\\Phi(t)为方程x'=Ax(A为n\\times n常数矩阵)的标准基解矩阵（即\\Phi(0)=E）,证明：$  \n",
    "$$\\Phi(t)\\Phi^{-1}(t_0)=\\Phi(t-t_0),$$  \n",
    "$其中t_0为某一值.$  \n",
    "$解：由于A是n\\times n常数矩阵，所以方程x'=Ax的基解矩阵\\Phi(t)满足\\frac{d\\Phi(t)}{dt}=A·\\Phi(t),解之得\\Phi(t)=e^{At},即\\Phi(t)是指数型的，又根据指数函数的特点知道\\Phi^{-1}(t)=e^{-At},从而\\Phi(t)\\Phi^{-1}(t_0)=e^{At}·e^{-At_0}=e^{A(t-t_0)}=\\Phi(t-t_0).$  \n",
    "\n",
    "$10.试求下列方程的通解：$  \n",
    "$(2)x'''-8x=e^{2t};$  \n",
    "$解：易知对应的齐次线性方程x'''-8x=0的基本解组为x_1(t)=e^{2t}，x_2(t)=e^{-t}\\cos\\sqrt{3}t,x_3(t)=e^{-t}\\sin\\sqrt{3}t.$  \n",
    "$因为\\lambda=2是方程的特征根，$  \n",
    "$故方程有形如x=Ate^{2t}的解，$  \n",
    "$代入得A=\\frac{1}{12}.$  \n",
    "$于是原方程的通解为x=(c_1\\cos\\sqrt{3}t+c_2\\sin\\sqrt{3}t)e^{-t}+c_3e^{2t}+\\frac{1}{12}te^{2t}.$  \n",
    "\n",
    "$1.假设A是n\\times n矩阵，试证：$  \n",
    "$(2)对任意整数k,都有$  \n",
    "$$(\\exp A)^k=\\exp kA.$$  \n",
    "$(当k是负整数时，规定(\\exp A)^k=[(\\exp A)^{-1}]^{-k}.)$  \n",
    "$解：k>0时，(\\exp A)^k=\\exp A·\\exp A\\cdots\\exp A$  \n",
    "$=\\exp(A+A+\\cdots+A)$  \n",
    "$=\\exp kA,$  \n",
    "$k<0时,-k>0$  \n",
    "$(\\exp A)^k=[(\\exp A)^{-1}]^{-k}=[\\exp(-A)]^{-k}$  \n",
    "$=\\exp(-A)·\\exp(-A)\\cdots\\exp(-A)$  \n",
    "$=\\exp[(-A)(-k)]=\\exp kA.$  \n",
    "$故\\forall k,都有(\\exp A)^k=\\exp kA.$  \n",
    "\n",
    "$5.试求方程组x'=Ax的基解矩阵，并求满足初值条件\\varphi(0)=\\eta的解\\varphi(t):$  \n",
    "$(2)A=\\begin{bmatrix}\n",
    "1&0&3\\\\\n",
    "8&1&-1\\\\\n",
    "5&1&-1\\\\\n",
    "\\end{bmatrix},\\eta=\\begin{bmatrix}\n",
    "0\\\\\n",
    "-2\\\\\n",
    "-7\\\\\n",
    "\\end{bmatrix};$  \n",
    "$解：易知基解矩阵为$  \n",
    "$\\Phi(t)=\\begin{bmatrix}\n",
    "-3e^{-3t}&e^{(2+\\sqrt{7})t}&e^{(2-\\sqrt{7})t}\\\\\n",
    "7e^{-3t}&\\frac{4\\sqrt{7}-5}{3}e^{(2+\\sqrt{7})t}&\\frac{-4\\sqrt{7}-5}{3}e^{(2-\\sqrt{7})t}\\\\\n",
    "4e^{-3t}&\\frac{1+\\sqrt{7}}{3}\\sqrt{e}^{(2+\\sqrt{7})t}&\\frac{1-\\sqrt{7}}{3}e^{2-\\sqrt{7})t}\\\\\n",
    "\\end{bmatrix}$  \n",
    "$而满足初值条件\\varphi(0)=\\eta=\\begin{bmatrix}\n",
    "0\\\\\n",
    "-2\\\\\n",
    "-7\\\\\n",
    "\\end{bmatrix}的解为$  \n",
    "$\\varphi(t)=\\Phi(t)\\Phi^{-1}(0)\\eta=\\exp At\\bullet\\eta,经计算得$  \n",
    "$\\varphi(t)=\\frac{1}{4\\sqrt{7}}\\begin{bmatrix}\n",
    "\\frac{52\\sqrt{7}}{3}e^{-3t}+\\frac{4-26\\sqrt{7}}{3}e^{(2+\\sqrt{7})t}+\\frac{-4-26\\sqrt{7}}{3}e^{(2-\\sqrt{7})t}\\\\\n",
    "\\frac{-364\\sqrt{7}}{9}e^{-3t}+\\frac{-748+146\\sqrt{7}}{9}e^{(2+\\sqrt{7})t}+\\frac{748+146\\sqrt{7}}{9}e^{(2-\\sqrt{7})t}\\\\\n",
    "\\frac{-208\\sqrt{7}}{9}e^{-3t}+\\frac{-178-22\\sqrt{7}}{9}e^{(2+\\sqrt{7})t}+\\frac{178-22\\sqrt{7}}{9}e^{(2-\\sqrt{7})t}\\\\\n",
    "\\end{bmatrix}$"
   ]
  },
  {
   "cell_type": "markdown",
   "metadata": {
    "collapsed": true
   },
   "source": [
    "# <font color='red'>A  9/12"
   ]
  },
  {
   "cell_type": "code",
   "execution_count": null,
   "metadata": {
    "collapsed": true
   },
   "outputs": [],
   "source": []
  }
 ],
 "metadata": {
  "kernelspec": {
   "display_name": "SageMath 7.3",
   "language": "",
   "name": "sagemath"
  },
  "language_info": {
   "codemirror_mode": {
    "name": "ipython",
    "version": 2
   },
   "file_extension": ".py",
   "mimetype": "text/x-python",
   "name": "python",
   "nbconvert_exporter": "python",
   "pygments_lexer": "ipython2",
   "version": "2.7.10"
  }
 },
 "nbformat": 4,
 "nbformat_minor": 0
}
