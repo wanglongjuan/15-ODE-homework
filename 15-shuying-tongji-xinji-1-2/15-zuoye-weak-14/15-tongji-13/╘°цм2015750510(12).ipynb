{
 "cells": [
  {
   "cell_type": "markdown",
   "metadata": {},
   "source": [
    "5.设$\\mathbf Φ(t)$为方程$\\mathbf x'=\\mathbf A\\mathbf x$（$\\mathbf A$为$n\\times n$常数矩阵）的标准基解矩阵（即$\\mathbf Φ(0)=\\mathbf E$）,证明  \n",
    "\n",
    "$$\\mathbf Φ(t)\\mathbf Φ^{-1}(t_0)=\\mathbf Φ(t-t_0),$$  \n",
    "其中$t_0$为某一值."
   ]
  },
  {
   "cell_type": "markdown",
   "metadata": {},
   "source": [
    "解：由于$\\mathbf A$是$n\\times n$常数矩阵.所以方程$\\mathbf x'=\\mathbf A\\mathbf x$的基解矩阵$\\mathbf Φ(t)$满足  \n",
    "$$\\frac{d\\mathbf Φ(t)}{dt}=\\mathbf A\\cdot \\mathbf Φ(t),$$  \n",
    "解得$$\\mathbf Φ(t)=e^{\\mathbf At}$$  \n",
    "可见$\\mathbf Φ(t)$是指数型的,又根据指数函数的特点知道$\\mathbf Φ^{-1}(t)=e^{-\\mathbf At}$,从而  \n",
    "$$\\mathbf Φ(t)\\mathbf Φ^{-1}(t_0)=e^{\\mathbf At}e^{-\\mathbf At_0}=e^{\\mathbf A(t-t_0)}=\\mathbf Φ(t-t_0),$$  \n",
    "命题得证"
   ]
  },
  {
   "cell_type": "markdown",
   "metadata": {},
   "source": [
    "10.试求下列方程的通解：  \n",
    "\n",
    "（2）$x'''-8x=e^{2t}$  "
   ]
  },
  {
   "cell_type": "markdown",
   "metadata": {},
   "source": [
    "解：齐次方程$x'''-8x=0$的特征方程为  \n",
    "$$λ^3-8=0,$$  \n",
    "解得$$λ_1=2,λ_2=-1+\\sqrt 3i,λ_3=-1-\\sqrt 3i$$  \n",
    "\n",
    "所以齐次方程的通解为  \n",
    "$$x=C_1e^{2t}+C_2e^{-t}\\cos\\sqrt3t+C_3e^{-t}\\sin\\sqrt3t$$  \n",
    "令原方程的一个特解为$x_1=Ate^{2t}$,代入原方程则得到$$A=\\frac{1}{12}$$  \n",
    "得特解为$x_1=\\frac{1}{12}te^{2t}$,则原方程的通解为  \n",
    "$$x(t)=C_1e^{2t}+C_2e^{-t}\\cos\\sqrt3t+C_3e^{-t}\\sin\\sqrt3t+\\frac{1}{12}te^{2t}$$"
   ]
  },
  {
   "cell_type": "markdown",
   "metadata": {
    "collapsed": true
   },
   "source": [
    "1.假设$\\mathbf A$是$n\\times n$矩阵，试证：  \n",
    "\n",
    "（2）对任意整数$k$，都有$$(\\exp \\mathbf A)^k=\\exp k\\mathbf A$$  \n",
    "(当$k$是负整数时，规定$(\\exp \\mathbf A)^k)=[(\\exp \\mathbf A)^{-1}]^{-k}.)$"
   ]
  },
  {
   "cell_type": "markdown",
   "metadata": {},
   "source": [
    "解：利用第（1）题的结论，设$c_1=c_2=1$，则有  \n",
    "$$\\exp(2\\mathbf A)=\\exp(\\mathbf A+\\mathbf A)=\\exp \\mathbf A \\cdot \\exp \\mathbf A=(\\exp \\mathbf A)^2,$$  \n",
    "$$\\exp(3\\mathbf A)=\\exp(\\mathbf A+\\mathbf 2A)=\\exp \\mathbf A \\cdot \\exp \\mathbf 2A=(\\exp \\mathbf A)^3,$$  \n",
    "$$\\cdots$$  \n",
    "$$\\exp(k\\mathbf A)=\\exp(\\mathbf A+(k-1)\\mathbf A)=[\\exp \\mathbf A]^k.$$  \n",
    "当$k=0$时，  \n",
    "$$右边=(\\exp \\mathbf A)^k=(\\exp \\mathbf A)^0=\\mathbf E$$  \n",
    "$$左边=\\exp k\\mathbf A=\\exp 0=\\mathbf E$$  \n",
    "即$k=0$时，等式成立.  \n",
    "当$k=1$时，显然左边=$\\exp \\mathbf A$=右边，等式成立.  \n",
    "由数学归纳法，易知等式对所有的非负整数成立.  \n",
    "当$k$是负整数时，  \n",
    "$$(\\exp \\mathbf A)^k[(\\exp \\mathbf A)^{-1}]^{-k}=[\\exp (-\\mathbf A)]^{-k}=\\exp(-k)(-\\mathbf A)=\\exp k\\mathbf A$$  \n",
    "即$k$是负整数时，等式也成立.  \n",
    "综上所述，即证明了对任意整数$k$，都有  \n",
    "$$(\\exp \\mathbf A)^k=\\exp k\\mathbf A$$"
   ]
  },
  {
   "cell_type": "markdown",
   "metadata": {},
   "source": [
    "5.试求方程组$\\mathbf x'=\\mathbf A\\mathbf x$的基解矩阵，并求满足初值条件$\\mathbf φ(0)=\\mathbf η$的解$\\mathbf φ(t)$：  \n",
    "\n",
    "（2）$$\\mathbf A=\\begin{bmatrix}\n",
    "1&0&3\\\\\n",
    "8&1&-1\\\\\n",
    "5&1&-1\\\\\n",
    "\\end{bmatrix}$$,  \n",
    "$$\\mathbf η=\\begin{bmatrix}\n",
    "0\\\\\n",
    "-2\\\\\n",
    "-7\\\\\n",
    "\\end{bmatrix}$$"
   ]
  },
  {
   "cell_type": "markdown",
   "metadata": {},
   "source": [
    "解：特征方程为  \n",
    "$$(λ+3)(λ^2-4λ-3)=0$$  \n",
    "得到特征值为  \n",
    "$$λ_1=-3,λ_2=2+\\sqrt7,λ_3=2-\\sqrt7.$$  \n",
    "\n",
    "并且求得对应于此3个特征值的特征向量为  \n",
    "$$\\mathbf x=α\n",
    "\\begin{bmatrix}\n",
    "3\\\\\n",
    "-7\\\\\n",
    "-4\\\\\n",
    "\\end{bmatrix}$$  \n",
    "$$\\mathbf x=β\n",
    "\\begin{bmatrix}\n",
    "3\\\\\n",
    "4\\sqrt7-5\\\\\n",
    "\\sqrt7+1\\\\\n",
    "\\end{bmatrix}$$  \n",
    "$$\\mathbf x=γ\n",
    "\\begin{bmatrix}\n",
    "3\\\\\n",
    "-4\\sqrt7-5\\\\\n",
    "1-\\sqrt7\\\\\n",
    "\\end{bmatrix}$$  \n",
    "取$α+β=γ=1$时，则得到方程$\\mathbf x'=\\mathbf A\\mathbf x$的一个基解矩阵为  \n",
    "$$\\mathbf Φ(t)=\\begin{bmatrix}\n",
    "3e^{-3t}&3e^{(2+\\sqrt7)t}&3e^{(2-\\sqrt7)t}\\\\\n",
    "-7e^{-3t}&(4\\sqrt7-5)e^{(2+\\sqrt7)t}&-(4\\sqrt7+5)e^{(2-\\sqrt7)t}\\\\\n",
    "-4e^{-3t}&(\\sqrt7+1)e^{(2+\\sqrt7)t}&(1-\\sqrt7)e^{(2-\\sqrt7)t}\\\\\n",
    "\\end{bmatrix}$$  \n",
    "而满足初值条件$\\mathbf φ(0)=\\mathbf η=\n",
    "\\begin{bmatrix}\n",
    "0\\\\\n",
    "-2\\\\\n",
    "-7\\\\\n",
    "\\end{bmatrix}$的解为  \n",
    "$$\\mathbf φ(t)=\\mathbf Φ(t)\\mathbf Φ^{-1}(0)\\mathbf η=\\exp \\mathbf At \\cdot \\mathbf η$$  "
   ]
  },
  {
   "cell_type": "markdown",
   "metadata": {},
   "source": [
    "由教材中式（5.47）可得  \n",
    "$\\begin{align}\n",
    "\\exp \\mathbf At&=\\mathbf Φ(t)\\mathbf Φ^{-1}(0)\\\\  \n",
    "&= \\frac{1}{108\\sqrt7}\n",
    "\\begin{bmatrix}\n",
    "3e^{-3t}&3e^{(2+\\sqrt7)t}&3e^{(2-\\sqrt7)t}\\\\\n",
    "-7e^{-3t}&(4\\sqrt7-5)e^{(2+\\sqrt7)t}&-(4\\sqrt7+5)e^{(2-\\sqrt7)t}\\\\\n",
    "-4e^{-3t}&(\\sqrt7+1)e^{(2+\\sqrt7)t}&(1-\\sqrt7)e^{(2-\\sqrt7)t}\\\\\n",
    "\\end{bmatrix}\n",
    "\\begin{bmatrix}\n",
    "18\\sqrt7&6\\sqrt7&-24\\sqrt7\\\\\n",
    "27+9\\sqrt7&15-3\\sqrt7&12\\sqrt7-6\\\\\n",
    "9\\sqrt7-27&-(15+3\\sqrt7)&12\\sqrt7+6\\\\\n",
    "\\end{bmatrix}\\\\  \n",
    "&=\\frac{1}{4\\sqrt7}\n",
    "\\begin{bmatrix}\n",
    "\\mathbf A_1&\\mathbf A_2&\\mathbf A_3\\\\\n",
    "\\end{bmatrix}\n",
    "\\end{align}$  "
   ]
  },
  {
   "cell_type": "markdown",
   "metadata": {},
   "source": [
    "其中  \n",
    "$$\\mathbf A_1=\\begin{bmatrix}\n",
    "2\\sqrt7e^{-3t}+(3+\\sqrt7)e^{(2+\\sqrt7)t}+(-3+\\sqrt7)e^{(2-\\sqrt7)t}\\\\\n",
    "\\frac{-14\\sqrt7}{3}e^{-3t}+\\frac{13+7\\sqrt7}{3}e^{(2+\\sqrt7)t}+\\frac{-13+7\\sqrt7}{3}e^{(2-\\sqrt7)t}\\\\\n",
    "\\frac{-8\\sqrt7}{3}e^{-3t}+\\frac{10+4\\sqrt7}{3}e^{(2+\\sqrt7)t}+\\frac{-10+4\\sqrt7}{3}e^{(2-\\sqrt7)t}\\\\\n",
    "\\end{bmatrix}$$  \n",
    "$$\\mathbf A_2=\\begin{bmatrix}\n",
    "\\frac{2\\sqrt7}{3}e^{-3t}+\\frac{5-\\sqrt7}{3}e^{(2+\\sqrt7)t}+\\frac{-5-\\sqrt7}{3}e^{(2-\\sqrt7)t}\\\\\n",
    "\\frac{-14\\sqrt7}{9}e^{-3t}+\\frac{-53+25\\sqrt7}{9}e^{(2+\\sqrt7)t}+\\frac{53+25\\sqrt7}{9}e^{(2-\\sqrt7)t}\\\\\n",
    "\\frac{-8\\sqrt7}{9}e^{-3t}+\\frac{-2+4\\sqrt7}{9}e^{(2+\\sqrt7)t}+\\frac{2+4\\sqrt7}{9}e^{(2-\\sqrt7)t}\\\\\n",
    "\\end{bmatrix}$$  \n",
    "$$\\mathbf A_3=\\begin{bmatrix}\n",
    "\\frac{-8\\sqrt7}{9}e^{-3t}+\\frac{-2+4\\sqrt7}{3}e^{(2+\\sqrt7)t}+\\frac{2+4\\sqrt7}{3}e^{(2-\\sqrt7)t}\\\\\n",
    "\\frac{56\\sqrt7}{9}e^{-3t}+\\frac{122-28\\sqrt7}{9}e^{(2+\\sqrt7)t}+\\frac{-122-28\\sqrt7}{9}e^{(2-\\sqrt7)t}\\\\\n",
    "\\frac{32\\sqrt7}{9}e^{-3t}+\\frac{26+2\\sqrt7}{9}e^{(2+\\sqrt7)t}+\\frac{-26+2\\sqrt7}{9}e^{(2-\\sqrt7)t}\\\\\n",
    "\\end{bmatrix}$$  "
   ]
  },
  {
   "cell_type": "markdown",
   "metadata": {},
   "source": [
    "所以  \n",
    "$$\\mathbf φ(t)=\\frac{1}{4\\sqrt7}\\times\n",
    "\\begin{bmatrix}\n",
    "\\frac{52\\sqrt7}{3}e^{-3t}+\\frac{4-26\\sqrt7}{3}e^{(2+\\sqrt7)t}+\\frac{-4-2\\sqrt7}{3}e^{(2-\\sqrt7)t}\\\\\n",
    "\\frac{-364\\sqrt7}{9}e^{-3t}+\\frac{-748+146\\sqrt7}{9}e^{(2+\\sqrt7)t}+\\frac{748+146\\sqrt7}{9}e^{(2-\\sqrt7)t}\\\\\n",
    "\\frac{-208\\sqrt7}{9}e^{-3t}+\\frac{-178-22\\sqrt7}{9}e^{(2+\\sqrt7)t}+\\frac{178-22\\sqrt7}{9}e^{(2-\\sqrt7)t}\\\\\n",
    "\\end{bmatrix}$$  "
   ]
  },
  {
   "cell_type": "markdown",
   "metadata": {
    "collapsed": true
   },
   "source": [
    "# <font color='red'>A  9/12"
   ]
  },
  {
   "cell_type": "code",
   "execution_count": null,
   "metadata": {
    "collapsed": true
   },
   "outputs": [],
   "source": []
  }
 ],
 "metadata": {
  "kernelspec": {
   "display_name": "SageMath 7.3",
   "language": "",
   "name": "sagemath"
  },
  "language_info": {
   "codemirror_mode": {
    "name": "ipython",
    "version": 2
   },
   "file_extension": ".py",
   "mimetype": "text/x-python",
   "name": "python",
   "nbconvert_exporter": "python",
   "pygments_lexer": "ipython2",
   "version": "2.7.10"
  }
 },
 "nbformat": 4,
 "nbformat_minor": 0
}
