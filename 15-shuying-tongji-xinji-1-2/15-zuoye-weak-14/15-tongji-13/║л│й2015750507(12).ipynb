{
 "cells": [
  {
   "cell_type": "markdown",
   "metadata": {},
   "source": [
    "$P217  习题5.2$  "
   ]
  },
  {
   "cell_type": "markdown",
   "metadata": {},
   "source": [
    "$5.设\\Phi (t)为方程x'=Ax(A为n \\times n常数矩阵）的标准基解矩阵（即\\Phi (0)=E）,证明：\\Phi(t)\\Phi^{-1}(t_0)=\\Phi(t-t_0),其中t_0为某一值。$  "
   ]
  },
  {
   "cell_type": "markdown",
   "metadata": {},
   "source": [
    "$解：由于A是n \\times n常数矩阵，所以方程x'=Ax的基解矩阵\\Phi(t)满足\\frac{d \\Phi(t)}{dt}=A \\bullet \\Phi(t),$  \n",
    "$解得\\Phi(t)=e^{At},可见\\Phi(t)是指数型的，$  \n",
    "$又根据指数函数的特点知道\\Phi^{-1}(t)=e^{-At}$  \n",
    "$从而\\Phi(t)\\Phi^{-1}(t_0)=e^{At}e^{-At_0}=e^{A{t-t_0}}=\\Phi(t-t_0)$  \n",
    "$命题得证$  "
   ]
  },
  {
   "cell_type": "markdown",
   "metadata": {},
   "source": [
    "$10.试求下列方程的通解$  \n",
    "$(2).x'''-8x=e^{2t}$  \n",
    "$解：齐次方程x'''-8x=0的特征方程为\\lambda ^3-8=0$  \n",
    "$解得\\lambda _1=2,\\lambda _2=-1+\\sqrt {3}i,\\lambda _3=-1-\\sqrt {3}i,$  \n",
    "$所以齐次方程的通解为x=C_1e^{2t}+C_2e^{-t}\\cos \\sqrt {3}t+C_3e^{-t}\\sin \\sqrt {3}t$  \n",
    "$令原方程的一个特解为x_1=Ate^{2t},代入原方程则得到A=\\frac{1}{12}$  \n",
    "$设特解为x_1=\\frac{1}{12}te^{2t}$  \n",
    "$则原方程的通解为x(t)=C_1e^{2t}+C_2e^{-t}\\cos \\sqrt {3}t+C_3e^{-t}\\sin \\sqrt {3}t+\\frac{1}{12}te^{2t}$  "
   ]
  },
  {
   "cell_type": "markdown",
   "metadata": {},
   "source": [
    "$P244  习题5.3$  "
   ]
  },
  {
   "cell_type": "markdown",
   "metadata": {},
   "source": [
    "$1.假设A是n \\times n矩阵，试证：$  \n",
    "$(2).对任意整数k,都有(exp A)^k=exp kA.(当k是负整数时，规定(exp A）^k=[(exp A)^{-1}]^{-k})$  \n",
    "$证明：设c_1=c_2=1，则有$  \n",
    "$exp(2A)=exp(A+A)=exp A \\bullet exp A=(exp A)^2$  \n",
    "$exp(3A)=exp(A+2A)=exp A \\bullet exp 2A=(exp A)^3$  \n",
    "$\\cdots$  \n",
    "$exp(kA)=exp[A+(k-1)A]=(exp A)^k$  \n",
    "$当k=0时，$  \n",
    "$右边=（exp A）^k=(exp A)^0=E$  \n",
    "$左边=exp kA=exp 0=E$  \n",
    "$即k=0时，等式成立$  \n",
    "$当k=1时，显然左边=exp A=右边，等式成立$  \n",
    "$由数学归纳法，易知等式对所有的非负整数成立$  \n",
    "$当k是负整数时，(exp A)^k[(exp A)^{-1}]^{-k}=[exp(-A)]^{-k}=exp(-k)(-A)=exp kA$  \n",
    "$即k是负整数时，等式也成立,$  \n",
    "$综上所述，即证明了对任意整数k,都有(exp A)^k=exp kA$  "
   ]
  },
  {
   "cell_type": "markdown",
   "metadata": {},
   "source": [
    "$5.试求方程组x'=Ax的基解矩阵，并求满足初值条件\\varphi (0)=\\eta 的解\\varphi (t)$  "
   ]
  },
  {
   "cell_type": "markdown",
   "metadata": {},
   "source": [
    "$(2)$  \n",
    "$$\n",
    "A=\n",
    "\\begin{bmatrix}\n",
    "1&0&3\\\\\n",
    "8&1&-1\\\\\n",
    "5&1&-1\\\\\n",
    "\\end{bmatrix}\n",
    "$$\n",
    "$$\n",
    "\\eta=\n",
    "\\begin{bmatrix}\n",
    "0\\\\\n",
    "-2\\\\\n",
    "-7\\\\\n",
    "\\end{bmatrix}\n",
    "$$  \n",
    "$解：特征方程为(\\lambda +3)(\\lambda ^2-4 \\lambda -3)=0$  \n",
    "$得到特征值为\\lambda _1=-3,\\lambda _2=2+\\sqrt {7},\\lambda _3=2-\\sqrt {7}$  \n",
    "$并且求得对应于此3个特征值的特征向量为$  \n",
    "$x=\\alpha [3 \\quad -7 \\quad -4]^T$  \n",
    "$x=\\beta [3 \\quad 4 \\sqrt {7}-5 \\quad \\sqrt{7}+1]^T$  \n",
    "$x=\\gamma [3 \\quad -4 \\sqrt {7}-5 \\quad 1- \\sqrt {7}]^T$  \n",
    "$取\\alpha =\\beta=\\gamma=1时，则得到方程x'=Ax的一个基解矩阵如下：$  \n",
    "$$\n",
    "\\Phi (t)=\n",
    "\\begin{bmatrix}\n",
    "3e^{-3t}&3e^{(2+\\sqrt {7})t}&3e^{(2-\\sqrt {7})t}\\\\\n",
    "-7e^{-3t}&(4 \\sqrt {7}-5)e^{(2+\\sqrt {7})t}&-(4 \\sqrt {7}+5)e^{(2-\\sqrt {7})t}\\\\\n",
    "-4e^{-3t}&(\\sqrt {7}+1)e^{(2+\\sqrt {7})t}&(1- \\sqrt {7})e^{(2-\\sqrt {7})t}\\\\\n",
    "\\end{bmatrix}\n",
    "$$\n",
    "$expAt=\\Phi(t)\\Phi^{-1}(0)$  \n",
    "$$\n",
    "=\\frac{1}{108 \\sqrt {7}}\n",
    "\\begin{bmatrix}\n",
    "3e^{-3t}&3e^{(2+\\sqrt {7})t}&3e^{(2-\\sqrt {7})t}\\\\\n",
    "-7e^{-3t}&(4 \\sqrt {7}-5)e^{(2+\\sqrt {7})t}&-(4 \\sqrt {7}+5)e^{(2-\\sqrt {7})t}\\\\\n",
    "-4e^{-3t}&(\\sqrt {7}+1)e^{(2+\\sqrt {7})t}&(1- \\sqrt {7})e^{(2-\\sqrt {7})t}\\\\\n",
    "\\end{bmatrix}\n",
    "\\begin{bmatrix}\n",
    "18 \\sqrt{7}&6 \\sqrt {7}&-24 \\sqrt {7}\\\\\n",
    "27+9 \\sqrt {7}&15-3 \\sqrt {7}&12 \\sqrt {7}-6\\\\\n",
    "9 \\sqrt {7}-27&-(15+3 \\sqrt {7})&12 \\sqrt {7}-6\\\\\n",
    "\\end{bmatrix}\n",
    "=\\frac{1}{4 \\sqrt {7}}[A_1 \\quad A_2 \\quad A_3]\n",
    "$$\n",
    "$其中$  \n",
    "$$\n",
    "A_1=\n",
    "\\begin{bmatrix}\n",
    "2 \\sqrt {7}e^{-3t}+(3+\\sqrt {7})e^{(2+\\sqrt {7})t}+(-3+ \\sqrt {7})e^{(2-\\sqrt {7})t}\\\\\n",
    "-\\frac{14 \\sqrt {7}}{3}e^{-3t}+\\frac{13+7 \\sqrt {7}}{3}e^{(2+\\sqrt {7})t}+\\frac{-13+7 \\sqrt {7}}{3}e^{(2-\\sqrt {7})t}\\\\\n",
    "-\\frac{8 \\sqrt {7}}{3}e^{-3t}+\\frac{10+4 \\sqrt {7}}{3}e^{(2+\\sqrt {7})t}+\\frac{-10+4 \\sqrt {7}}{3}e^{(2-\\sqrt {7})t}\\\\\n",
    "\\end{bmatrix}\n",
    "$$\n",
    "$$\n",
    "A_2=\n",
    "\\begin{bmatrix}\n",
    "\\frac{2 \\sqrt {7}}{3}e^{-3t}+\\frac{5-\\sqrt {7}}{3}e^{(2+\\sqrt {7})t}+\\frac{-5-\\sqrt {7}}{3}e^{(2-\\sqrt {7})t}\\\\\n",
    "\\frac{-14 \\sqrt {7}}{9}e^{-3t}+\\frac{-53+25 \\sqrt {7}}{9}e^{(2+\\sqrt {7})t}+\\frac{53+25 \\sqrt {7}}{9}e^{(2-\\sqrt {7})t}\\\\\n",
    "\\frac{-8 \\sqrt {7}}{9}e^{-3t}+\\frac{-2+4 \\sqrt {7}}{9}e^{(2+\\sqrt {7})t}+\\frac{2+4 \\sqrt {7}}{9}e^{(2-\\sqrt {7})t}\\\\\n",
    "\\end{bmatrix}\n",
    "$$\n",
    "$$\n",
    "A_3=\n",
    "\\begin{bmatrix}\n",
    "\\frac{-8 \\sqrt {7}}{9}e^{-3t}+\\frac{-2+4 \\sqrt {7}}{3}e^{(2+\\sqrt {7})t}+\\frac{2+4 \\sqrt {7}}{3}e^{(2-\\sqrt {7})t}\\\\\n",
    "\\frac{56 \\sqrt {7}}{9}e^{-3t}+\\frac{122-28 \\sqrt{7}}{9}e^{(2+\\sqrt {7})t}+\\frac{-122-28 \\sqrt {7}}{9}e^{(2-\\sqrt {7})t}\\\\\n",
    "\\frac{32 \\sqrt {7}}{9}e^{-3t}+\\frac{26+2 \\sqrt {7}}{9}e^{(2+\\sqrt {7})t}+\\frac{-26+2 \\sqrt {7}}{9}e^{(2-\\sqrt {7})t}\\\\\n",
    "\\end{bmatrix}\n",
    "$$\n",
    "$而满足初值条件\\varphi (0)=\\eta =[0 \\quad -2 \\quad -7]的解为\\varphi (t)=\\Phi(t)\\Phi ^{-1}(0)\\eta =expAt \\bullet \\eta$  \n",
    "$经过计算得到$  \n",
    "$$\n",
    "\\varphi (t)=\\frac{1}{4 \\sqrt {7}}\n",
    "\\begin{bmatrix}\n",
    "\\frac{52 \\sqrt {7}}{3}e^{-3t}+\\frac{4-26 \\sqrt {7}}{3}e^{(2+\\sqrt {7})t}+\\frac{-4-2 \\sqrt {7}}{3}e^{(2-\\sqrt {7})t}\\\\\n",
    "\\frac{-364 \\sqrt {7}}{9}e^{-3t}+\\frac{-748+146 \\sqrt {7}}{9}e^{(2+\\sqrt {7})t}+\\frac{748+146 \\sqrt {7}}{9}e^{(2-\\sqrt {7})t}\\\\\n",
    "\\frac{-208 \\sqrt {7}}{9}e^{-3t}+\\frac{-178-22 \\sqrt {7}}{9}e^{(2+\\sqrt {7})t}+\\frac{178-22 \\sqrt {7}}{9}e^{(2-\\sqrt {7})t}\\\\\n",
    "\\end{bmatrix}\n",
    "$$  "
   ]
  },
  {
   "cell_type": "markdown",
   "metadata": {},
   "source": [
    "# <font color='red'>A  9/12"
   ]
  },
  {
   "cell_type": "code",
   "execution_count": null,
   "metadata": {
    "collapsed": true
   },
   "outputs": [],
   "source": []
  }
 ],
 "metadata": {
  "kernelspec": {
   "display_name": "SageMath 7.3",
   "language": "",
   "name": "sagemath"
  },
  "language_info": {
   "codemirror_mode": {
    "name": "ipython",
    "version": 2
   },
   "file_extension": ".py",
   "mimetype": "text/x-python",
   "name": "python",
   "nbconvert_exporter": "python",
   "pygments_lexer": "ipython2",
   "version": "2.7.10"
  }
 },
 "nbformat": 4,
 "nbformat_minor": 0
}
