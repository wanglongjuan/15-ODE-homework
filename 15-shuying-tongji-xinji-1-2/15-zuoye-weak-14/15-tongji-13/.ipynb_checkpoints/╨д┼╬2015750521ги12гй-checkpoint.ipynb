{
 "cells": [
  {
   "cell_type": "markdown",
   "metadata": {
    "collapsed": false
   },
   "source": [
    "# $$作业十二$$"
   ]
  },
  {
   "cell_type": "markdown",
   "metadata": {},
   "source": [
    " ## 5.设$\\mathbf{\\Phi}(t)$为方程$x^{'}=\\mathbf{A}x$($\\mathbf{A}$为$n*n$常数矩阵)的标准基解矩阵(即$\\mathbf{\\Phi}(0)=\\mathbf{E}$)，证明：$$\\mathbf{\\Phi}(t)\\mathbf{\\Phi}^{-1}(t_0)=\\mathbf{\\Phi}(t-t_0)$$其中$t_0$为某一值"
   ]
  },
  {
   "cell_type": "markdown",
   "metadata": {},
   "source": [
    "解：由题意：$\\mathbf{\\Phi}(t),\\mathbf{\\Phi}(t-t_0)$是基解矩阵\n",
    "\n",
    "因为：$\\mathbf{\\Phi}(t)$为方程$x^{'}=\\mathbf{A}x$的基解矩阵，$\\mathbf{\\Phi}^{-1}(t_0)$为常数矩阵\n",
    "\n",
    "所以：$\\mathbf{\\Phi}(t)\\mathbf{\\Phi}^{-1}(t)$为方程$x^{'}=\\mathbf{A}x$的解矩阵\n",
    "\n",
    "当$t=t_0$($t_0$为某一值)时，$\\mathbf{\\Phi}(t)\\mathbf{\\Phi}^{-1}(t)=\\mathbf{E}，\\mathbf{\\Phi}(t-t_0)=\\mathbf{E}$\n",
    "\n",
    "所以：$\\mathbf{\\Phi}(t)\\mathbf{\\Phi}^{-1}(t)=\\mathbf{\\Phi}(t-t_0)$"
   ]
  },
  {
   "cell_type": "markdown",
   "metadata": {},
   "source": [
    "## 10.试求下列方程的通解："
   ]
  },
  {
   "cell_type": "markdown",
   "metadata": {},
   "source": [
    "### (2)$x^{'''}-8x=e^{2t}$"
   ]
  },
  {
   "cell_type": "markdown",
   "metadata": {},
   "source": [
    "解：齐次方程的特征方程：$${\\lambda}^3-8=0$$\n",
    "\n",
    "解得：$${\\lambda}_1=2,{\\lambda}_2=-1+\\sqrt{3}i,{\\lambda}_3=-1-\\sqrt{3}i$$\n",
    "\n",
    "齐次方程的通解：$$x=c_1e^{2t}+c_2e^{-t}\\cos{\\sqrt{3}t}+c_3e^{-t}\\sin{\\sqrt{3}t}$$\n",
    "\n",
    "因为$2$为齐次方程的特征值，有形如$x^{*}=Ate^{2t}$的特解,代入原方程得：$$A=\\frac{1}{12}$$\n",
    "\n",
    "特解为：$$x^{*}=\\frac{1}{12}te^{2t}$$\n",
    "\n",
    "原方程的通解：$$x=c_1e^{2t}+c_2e^{-t}\\cos{\\sqrt{3}t}+c_3e^{-t}\\sin{\\sqrt{3}t}+\\frac{1}{12}te^{2t}$$"
   ]
  },
  {
   "cell_type": "markdown",
   "metadata": {},
   "source": [
    "## 1.假设$\\mathbf{A}$是$n*n$矩阵，试证："
   ]
  },
  {
   "cell_type": "markdown",
   "metadata": {},
   "source": [
    "### (2)对任意整数$k$，都有：$$(exp{\\mathbf{A}})^k=exp k\\mathbf{A}$$  \n",
    "### (当$k$是负整数，规定$(exp{\\mathbf{A}})^k=[(exp{\\mathbf{A}})^{-1}]^{-k}$)"
   ]
  },
  {
   "cell_type": "markdown",
   "metadata": {},
   "source": [
    "解：借由$exp(c_1\\mathbf{A}+c_2\\mathbf{A})=exp(c_1\\mathbf{A})*exp(c_2\\mathbf{A})$\n",
    "\n",
    "若$k\\geq0$,递推得：$$exp(2\\mathbf{A})=exp(\\mathbf{A}+\\mathbf{A})=exp(\\mathbf{A})*exp(\\mathbf{A})=(exp{\\mathbf{A}})^2$$\n",
    "$$exp(3\\mathbf{A})=exp(\\mathbf{A}+2\\mathbf{A})=exp(\\mathbf{A})*exp(\\mathbf2{A})=(exp{\\mathbf{A}})^3$$\n",
    "$$\\dotsb$$\n",
    "$$exp(k\\mathbf{A})=exp(\\mathbf{A}+(k-1)\\mathbf{A})=exp(\\mathbf{A})*exp((k-1)\\mathbf{A})=(exp{\\mathbf{A}})^k$$\n",
    "\n",
    "若$k<0$,$$(exp{\\mathbf{A}})^k=[(exp{\\mathbf{A}})^{-1}]^{-k}=(exp{\\mathbf{(-A)}})^{-k}=exp{\\mathbf{(-k)(-A)}}=exp(k\\mathbf{A})$$\n",
    "\n",
    "综上，得：对任意整数$k$，都有：$$(exp{\\mathbf{A}})^k=exp k\\mathbf{A}$$  "
   ]
  },
  {
   "cell_type": "markdown",
   "metadata": {},
   "source": [
    "## 3.试求方程组$x^{'}=\\mathbf{A}x$的基解矩阵,并求满足初值条件$\\mathbf{\\varphi}(0)=\\mathbf{\\eta}$的解$\\mathbf{\\varphi}(t)$.\n",
    "\n",
    "### (2)$$\\mathbf{A}=\\begin{bmatrix}\n",
    "1&0&3  \\\\\n",
    "8&1&-1  \\\\\n",
    "5&1&-1 \n",
    "\\end{bmatrix},\\mathbf{\\eta}=\\begin{bmatrix}\n",
    "0  \\\\\n",
    "-2 \\\\\n",
    "-7 \n",
    "\\end{bmatrix}$$"
   ]
  },
  {
   "cell_type": "markdown",
   "metadata": {},
   "source": [
    "解：特征方程：$$\\begin{bmatrix}\n",
    "{\\lambda}-1&{\\lambda}&{\\lambda}-3  \\\\\n",
    "{\\lambda}-8&{\\lambda}-1&{\\lambda}+1  \\\\\n",
    "{\\lambda}-5&{\\lambda}-1&{\\lambda}+1 \n",
    "\\end{bmatrix}=(\\lambda+3)({\\lambda}^2-4{\\lambda}-3)=0$$\n",
    "\n",
    "解得：$${\\lambda}_1=-3,{\\lambda}_2=2+\\sqrt{7}i,{\\lambda}_3=2-\\sqrt{7}i$$\n",
    "\n",
    "${\\lambda}_1=-3$的特征向量：$$x=\\alpha\\begin{bmatrix}\n",
    "3 \\\\\n",
    "-7 \\\\\n",
    "-4\n",
    "\\end{bmatrix}$$\n",
    "${\\lambda}_2=2+\\sqrt{7}i$的特征向量：$$x=\\beta\\begin{bmatrix}\n",
    "3\\\\\n",
    "4\\sqrt{7}-5 \\\\\n",
    "\\sqrt{7}+1\n",
    "\\end{bmatrix}$$\n",
    "${\\lambda}_2=2-\\sqrt{7}i$的特征向量：$$x=\\gamma\\begin{bmatrix}\n",
    "3\\\\\n",
    "-4\\sqrt{7}-5 \\\\\n",
    "-\\sqrt{7}+1\n",
    "\\end{bmatrix}$$\n",
    "\n",
    "$x^{'}=\\mathbf{A}x$的基解矩阵:\n",
    "$$\\mathbf{\\Phi}(t)=\\begin{bmatrix}\n",
    "3e^{-3t}&3e^{2+\\sqrt{7}t}&3e^{2-\\sqrt{7}t}  \\\\\n",
    "-7e^{-3t}&(4\\sqrt{7}-5)e^{2+\\sqrt{7}t}&(-4\\sqrt{7}-5 )e^{2-\\sqrt{7}t} \\\\\n",
    "-4e^{-3t}&(\\sqrt{7}+1)e^{2+\\sqrt{7}t}&(-\\sqrt{7}+1)e^{2-\\sqrt{7}t}\n",
    "\\end{bmatrix}\n",
    "$$\n",
    "因为：满足初值问题$\\mathbf{\\varphi}(0)=\\mathbf{\\eta}==\\begin{bmatrix}\n",
    "0  \\\\\n",
    "-2 \\\\\n",
    "-7 \n",
    "\\end{bmatrix}$的解为$$\\mathbf{\\varphi}(t)=\\mathbf{\\Phi}(t)\\mathbf{\\Phi}^{-1}(0)\\mathbf{\\eta}=exp{\\mathbf{At}}*\\mathbf{\\eta}\n",
    "$$\n",
    "又：$exp{\\mathbf{At}}=\\mathbf{\\Phi}(t)\\mathbf{\\Phi}^{-1}(0)=\\frac{1}{4\\sqrt{7}}\\begin{bmatrix}\n",
    "2\\sqrt{7}e^{-3t}+(3+\\sqrt{7})e^{2+\\sqrt{7}t}+(-3+\\sqrt{7})e^{2-\\sqrt{7}t} \n",
    "&\\frac{2\\sqrt{7}}{3}e^{-3t}+\\frac{5-\\sqrt{7}}{3}e^{2+\\sqrt{7}t}+\\frac{-5-\\sqrt{7}}{3}e^{2-\\sqrt{7}t}\n",
    "&\\frac{-8\\sqrt{7}}{9}e^{-3t}+\\frac{-2+4\\sqrt{7}}{9}e^{2+\\sqrt{7}t}+\\frac{2+4\\sqrt{7}}{9}e^{2-\\sqrt{7}t}\\\\\n",
    "\\frac{-14\\sqrt{7}}{3}e^{-3t}+\\frac{13+7\\sqrt{7}}{3}e^{2+\\sqrt{7}t}+\\frac{-13+7\\sqrt{7}}{3}e^{2-\\sqrt{7}t}\n",
    "&\\frac{-14\\sqrt{7}}{9}e^{-3t}+\\frac{-53+25\\sqrt{7}}{9}e^{2+\\sqrt{7}t}+\\frac{53+25\\sqrt{7}}{9}e^{2-\\sqrt{7}t}\n",
    "&\\frac{56\\sqrt{7}}{9}e^{-3t}+\\frac{122-28\\sqrt{7}}{9}e^{2+\\sqrt{7}t}+\\frac{-122-28\\sqrt{7}}{9}e^{2-\\sqrt{7}t} \\\\ \n",
    "\\frac{-8\\sqrt{7}}{3}e^{-3t}+\\frac{10+4\\sqrt{7}}{3}e^{2+\\sqrt{7}t}+\\frac{-10+4\\sqrt{7}}{3}e^{2-\\sqrt{7}t}\n",
    "&\\frac{-8\\sqrt{7}}{9}e^{-3t}+\\frac{-2+4\\sqrt{7}}{9}e^{2+\\sqrt{7}t}+\\frac{2+4\\sqrt{7}}{9}e^{2-\\sqrt{7}t}\n",
    "&\\frac{32\\sqrt{7}}{9}e^{-3t}+\\frac{26+2\\sqrt{7}}{9}e^{2+\\sqrt{7}t}+\\frac{-26+2\\sqrt{7}}{9}e^{2-\\sqrt{7}t}\n",
    "\\end{bmatrix}\n",
    "$\n",
    "解得：$$\n",
    "\\mathbf{\\varphi}(t)=\\frac{1}{4\\sqrt{7}}\n",
    "\\begin{bmatrix}\n",
    "\\frac{52\\sqrt{7}}{3}e^{-3t}+\\frac{4-26\\sqrt{7}}{3}e^{2+\\sqrt{7}t}+\\frac{-4-2\\sqrt{7}}{3}e^{2-\\sqrt{7}t}\\\\\n",
    "\\frac{-364\\sqrt{7}}{3}e^{-3t}+\\frac{-748+146\\sqrt{7}}{3}e^{2+\\sqrt{7}t}+\\frac{748+146\\sqrt{7}}{3}e^{2-\\sqrt{7}t}\\\\ \n",
    "\\frac{-208\\sqrt{7}}{3}e^{-3t}+\\frac{-178-22\\sqrt{7}}{3}e^{2+\\sqrt{7}t}+\\frac{178-22\\sqrt{7}}{3}e^{2-\\sqrt{7}t}\n",
    "\\end{bmatrix}\n",
    "$$"
   ]
  },
  {
   "cell_type": "markdown",
   "metadata": {},
   "source": [
    "# <font color='red'>A  9/12"
   ]
  },
  {
   "cell_type": "code",
   "execution_count": null,
   "metadata": {
    "collapsed": true
   },
   "outputs": [],
   "source": []
  }
 ],
 "metadata": {
  "kernelspec": {
   "display_name": "Python 2",
   "language": "python",
   "name": "python2"
  },
  "language_info": {
   "codemirror_mode": {
    "name": "ipython",
    "version": 2
   },
   "file_extension": ".py",
   "mimetype": "text/x-python",
   "name": "python",
   "nbconvert_exporter": "python",
   "pygments_lexer": "ipython2",
   "version": "2.7.10"
  }
 },
 "nbformat": 4,
 "nbformat_minor": 0
}
