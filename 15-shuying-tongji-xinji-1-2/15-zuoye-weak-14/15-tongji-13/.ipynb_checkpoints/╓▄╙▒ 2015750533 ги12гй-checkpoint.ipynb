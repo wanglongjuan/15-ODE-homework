{
 "cells": [
  {
   "cell_type": "markdown",
   "metadata": {},
   "source": [
    "# 常微分方程作业（12）\n"
   ]
  },
  {
   "cell_type": "markdown",
   "metadata": {},
   "source": [
    "$\\bf P217.T5$"
   ]
  },
  {
   "cell_type": "markdown",
   "metadata": {},
   "source": [
    "$设\\Phi (t)为方程x’=A(t)x(A为n×n常数矩阵)的标准基解矩阵（即\\Phi(0)=E）,证明：$\n",
    "$$\\Phi (t)\\Phi^{-1} (t_0)=\\Phi(t-t_0),$$\n",
    "$其中t_0为某一值.$\n"
   ]
  },
  {
   "cell_type": "markdown",
   "metadata": {},
   "source": [
    "$\\bf 证：$\n",
    "\n",
    "$\\because A为n×n常数矩阵$\n",
    "\n",
    "$\\therefore (\\Phi (t))'=A\\Phi (t)$\n",
    "\n",
    "$积分得\\Phi (t)=e^{At}$\n",
    "\n",
    "$\\Phi (t)是指数型,\\Phi^{-1} (t)=e^{-At}$\n",
    "\n",
    "$\\Phi (t)\\Phi^{-1} (t_0)=e^{At}\\cdot e^{-At_0}=e^{A(t-t_0)}=\\Phi (t-t_0)$"
   ]
  },
  {
   "cell_type": "markdown",
   "metadata": {},
   "source": [
    "$\\bf P218.T10$\n",
    "\n",
    "$试求下列方程的通解$\n",
    "\n",
    "$(2)$\n",
    "\n",
    "$x'''-8x=e^{2t}$\n",
    "\n",
    "$\\bf 解：$\n",
    "$$特征方程(\\lambda-2)(\\lambda^2+2\\lambda+4)=0$$\n",
    "$\\lambda_1=2,\\lambda_2=-1+\\sqrt3,\\lambda_3=-1-\\sqrt 3$\n",
    "\n",
    "$x'''-8x=0的基本解组$\n",
    "$$x_1(t)=e^{2t},x_2(t)=e^{-t}\\cos \\sqrt3t ,x_3(t)=e^{-t}\\sin \\sqrt3t$$\n",
    "$\\lambda =2 为方程的特征根$\n",
    "\n",
    "$\\therefore 方程有形如x=Ate^{2t}的解$\n",
    "\n",
    "$A=\\frac{1}{12}$\n",
    "$$原方程的通解为x=(c_1\\cos \\sqrt3t+c_2\\sin \\sqrt3t )e^{-t}+c_3e^{2t}+\\frac{1}{12}te^{2t}$$"
   ]
  },
  {
   "cell_type": "markdown",
   "metadata": {},
   "source": [
    "$\\bf P244.T1$\n",
    "\n",
    "$假设A是n×n矩阵，试证：$\n",
    "\n",
    "$(2)$\n",
    "\n",
    "$对任意整数k，都有$\n",
    "$$(expA)^k=exp kA$$\n",
    "$（当k是负整数时，规定(expA)^k=[(exp A)^{-1}]^{-k}.)$\n",
    "\n",
    "$\\bf 证：$\n",
    "\n",
    "$k>0时，(expA)^k=expA\\cdot expA \\cdots expA=exp(A+A+\\cdots +A)=exp kA,$\n",
    "\n",
    "$k<0时，-k>0，(expA)^k=[(exp A)^{-1}]^{-k}=[exp(-A)^{-k}]=exp(-A)\\cdot exp(-A)\\cdots exp(-A)$\n",
    "\n",
    "$=exp[(-A)(-k)]=expkA.$\n",
    "\n",
    "$对任意整数k，都有(expA)^k=exp kA$"
   ]
  },
  {
   "cell_type": "markdown",
   "metadata": {},
   "source": [
    "$\\bf P245.T5$\n",
    "\n",
    "$试求方程x'=Ax的基解矩阵，并满足初值条件\\phi(0)=\\eta 的解\\phi (t):$\n",
    "\n",
    "$(2)$\n",
    "\n",
    "$A=\\begin{bmatrix} \n",
    "1 & 0 & 3  \\\\ \n",
    "8 & 1 & -1\\\\\n",
    "5 & 1 & -1\\\\\n",
    "\\end{bmatrix}$ ,$\\eta=\\begin{bmatrix} \n",
    " 0   \\\\ \n",
    "-2\\\\\n",
    "-7\\\\\n",
    "\\end{bmatrix}$"
   ]
  },
  {
   "cell_type": "markdown",
   "metadata": {},
   "source": [
    "$\\bf 解：$\n",
    "\n",
    "$det(\\lambda E-A)=0$\n",
    "\n",
    "$可得\\lambda_1=-3,\\lambda_2=2+\\sqrt7,\\lambda_3=2-\\sqrt 7$\n",
    "\n",
    "$解基解矩阵\\Phi(t)=\\begin{bmatrix} \n",
    "-3e^{-3t} & e^{(2+\\sqrt7)t} & e^{(2-\\sqrt7)t}  \\\\ \n",
    "7e^{-3t} & \\frac{4\\sqrt 7-5}{3}e^{(2+\\sqrt7)t} & \\frac{-4\\sqrt 7-5}{3}e^{(2-\\sqrt7)t}\\\\\n",
    "4e^{-3t} & \\frac{1+\\sqrt 7}{3}e^{(2+\\sqrt7)t}  & \\frac{1-\\sqrt 7}{3}e^{(2-\\sqrt7)t} \\\\\n",
    "\\end{bmatrix}$ \n",
    "\n",
    "$满足初值条件\\phi(0)=\\eta =\\begin{bmatrix} \n",
    " 0   \\\\ \n",
    "-2\\\\\n",
    "-7\\\\\n",
    "\\end{bmatrix}$的解为\n",
    "\n",
    "$\\phi(t)=\\Phi(t)\\Phi^{-1}(0)\\eta =expAt\\cdot \\eta$\n",
    "\n",
    "$\\phi(t)=\\frac{1}{4\\sqrt7} \\begin{bmatrix} \n",
    "\\frac{52\\sqrt7}{3}e^{-3t}+ \\frac{4-26\\sqrt7}{3}e^{(2+\\sqrt7)t}+\\frac{-4-26\\sqrt7}{3}e^{(2-\\sqrt7)t}  \\\\ \n",
    "\\frac{-364\\sqrt7}{9}e^{-3t} +\\frac{146\\sqrt 7-748}{9}e^{(2+\\sqrt7)t}+ \\frac{146\\sqrt 7+748}{9}e^{(2-\\sqrt7)t}\\\\\n",
    "\\frac{-208\\sqrt7}{9}e^{-3t} + \\frac{-178-22\\sqrt 7}{9}e^{(2+\\sqrt7)t}  + \\frac{178-22\\sqrt 7}{9}e^{(2-\\sqrt7)t} \\\\\n",
    "\\end{bmatrix}$ "
   ]
  },
  {
   "cell_type": "markdown",
   "metadata": {},
   "source": [
    "# <font color='red'>A  9/12"
   ]
  },
  {
   "cell_type": "code",
   "execution_count": null,
   "metadata": {
    "collapsed": true
   },
   "outputs": [],
   "source": []
  }
 ],
 "metadata": {
  "kernelspec": {
   "display_name": "SageMath 7.3",
   "language": "",
   "name": "sagemath"
  },
  "language_info": {
   "codemirror_mode": {
    "name": "ipython",
    "version": 2
   },
   "file_extension": ".py",
   "mimetype": "text/x-python",
   "name": "python",
   "nbconvert_exporter": "python",
   "pygments_lexer": "ipython2",
   "version": "2.7.10"
  }
 },
 "nbformat": 4,
 "nbformat_minor": 0
}
