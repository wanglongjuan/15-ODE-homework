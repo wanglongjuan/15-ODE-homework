{
 "cells": [
  {
   "cell_type": "markdown",
   "metadata": {},
   "source": [
    "$$常微分作业$$\n",
    "\n",
    "$$\\color{black}{5.2}$$\n",
    "\n",
    "$5.设\\Phi为方程x'=Ax（A为n\\times n常数矩阵)的标准基解矩阵（即\\Phi(0)=E),证明：$\n",
    "\n",
    "$$\\Phi(t)\\Phi^{-1}{t_0}=\\Phi(t-t_0),其中t_0为某一值.$$\n",
    "\n",
    "$证明：$\n",
    "\n",
    "$因为A为n\\times n常数矩阵，所以方程x'=Ax的基解矩阵\\Phi(t)满足：$\n",
    "\n",
    "$$\\frac{d\\Phi(t)}{dt}=A\\Phi(t).$$\n",
    "\n",
    "$即：$\n",
    "\n",
    "$$\\Phi(t)=e^{At}.$$\n",
    "\n",
    "$其解为指数型，有：$\n",
    "\n",
    "$$\\Phi^{-1}(t_0)=e^{-At}.$$\n",
    "\n",
    "$$\\Phi(t)\\Phi^{-1}(t_0)=e^{At}e^{-At}=e^{t-t_0}=\\Phi(t-t_0）.$$\n",
    "\n",
    "$$即证.$$"
   ]
  },
  {
   "cell_type": "markdown",
   "metadata": {},
   "source": [
    "$10.试求下列方程的通解：$\n",
    "\n",
    "$(2)x\"'-8x=e^{2t};$\n",
    "\n",
    "$解：$\n",
    "\n",
    "$先求齐次微分方程x\"'-8x=的通解：$\n",
    "\n",
    "$$\\lambda^3-8=\\lambda^3-2^3=0$$\n",
    "\n",
    "$所以：$\n",
    "\n",
    "$\\lambda_1=2;\\lambda_2=-1+\\sqrt3;\\lambda_3=-1-\\sqrt3.$\n",
    "\n",
    "$因此，其基本解组为：$\n",
    "\n",
    "$$x_1(t）=e^{2t},x_2（t)=e^{-1}\\cos {\\sqrt3t},x_3(t)=e^{-1}\\sin {\\sqrt3t}.$$\n",
    "\n",
    "$由于\\lambda=2是方程的特征根，所以方程的解形如：$\n",
    "\n",
    "$$x=Ate^{2t}$$\n",
    "\n",
    "$代入方程，得：$\n",
    "\n",
    "$$A=\\frac{1}{12}.$$\n",
    "\n",
    "$原方程的通解：$\n",
    "\n",
    "$$x=(c_1\\cos{\\sqrt3t}+c_2\\sin{\\sqrt3t}e^{-1}+c_3e^{2t}+\\frac{1}{12}te6{2t}.$$"
   ]
  },
  {
   "cell_type": "markdown",
   "metadata": {},
   "source": [
    "$$5.3$$\n",
    "\n",
    "$1.假设A是n\\times n矩阵，试证：$\n",
    "\n",
    "$(2)对任意整数k，都有$\n",
    "\n",
    "$$(expA)^k=exp kA.$$\n",
    "\n",
    "$(当k是整数时，规定(exp A)^k=[(expA)^{-1}]^{-k}.)$\n",
    "\n",
    "$证明：$\n",
    "\n",
    "$k>0时，(exp A)^k=exp A\\cdot exp A \\ldots exp A$\n",
    "\n",
    "$\\quad\\quad\\quad\\quad\\quad\\quad=exp(A+A\\ldots A)$\n",
    "\n",
    "$\\quad\\quad\\quad\\quad\\quad\\quad=expkA$\n",
    "\n",
    "$当k<0,-k>0时，$\n",
    "\n",
    "$(exp A)^k=[(expA)^{-1}]^{-k}=[exp(-A)]^{-k}$\n",
    "\n",
    "$\\quad\\quad\\quad\\quad\\quad\\quad\\quad\\quad=exp(-A)\\cdot exp(-A) \\ldots exp(-A)$\n",
    "\n",
    "$\\quad\\quad\\quad\\quad\\quad\\quad\\quad\\quad=exp[(-A)(-k)]=expkA$\n",
    "\n",
    "$$即证.$$"
   ]
  },
  {
   "cell_type": "markdown",
   "metadata": {},
   "source": [
    "$5.试求方程组x'=Ax的基解矩阵，并求满足初值条件\\phi(0)=\\eta的解\\phi(t):$\n",
    "\n",
    "$(2)A=\\begin{bmatrix}1&0&3\\\\8&1&-1\\\\5&1&-1\\end{bmatrix},\\eta=\\begin{bmatrix}0\\\\-2\\\\-7\\end{bmatrix};$\n",
    "\n",
    "$证明：$\n",
    "\n",
    "$det（\\lambda E-A)=0,即:$\n",
    "\n",
    "$\\begin{bmatrix}\\lambda-1&\\lambda-0&\\lambda-3\\\\\\lambda-8&\\lambda-1&\\lambda+1\\\\\\lambda-5&\\lambda-1&\\lambda+1\\end{bmatrix}=0$\n",
    "\n",
    "$解得：$\n",
    "\n",
    "$$\\lambda_1=-3,\\lambda_2=2+\\sqrt7,\\lambda_3=2-\\sqrt7.$$\n",
    "\n",
    "$其基解矩阵为：$\n",
    "\n",
    "$\\Phi(t)=\\begin{bmatrix}-3e^{-3t}&2+\\sqrt7&2-\\sqrt7\\\\7e^{-3t}&\\frac{4\\sqrt7-5}{3}2+\\sqrt7&\\frac{-4\\sqrt7-5}{3}2-\\sqrt7\\\\4e^{-3t}&\\frac{\\sqrt7+1}{3}e^{(2+\\sqrt7)t}&\\frac{1-\\sqrt7}{3}e^{(2-\\sqrt7)t}\\end{bmatrix}$\n",
    "\n",
    "$满足初值条件\\phi(0)=\\eta=\\begin{bmatrix}0\\\\-2\\\\-7\\end{bmatrix}的解为：$\n",
    "\n",
    "$$\\phi(t)=\\Phi(t)\\Phi^{-1}(0)\\eta=expAt \\cdot \\eta.$$\n",
    "\n",
    "$计算，得：$\n",
    "\n",
    "$\\phi(t)=\\frac{1}{4\\sqrt7}\\begin{bmatrix}\\frac{52\\sqrt7}{3}e^{-3t}+\\frac{4-26\\sqrt7}{3}e^{(2+\\sqrt7)t}+\\frac{-4-26\\sqrt7}{3}e^{(2-\\sqrt7)t}\\\\\\frac{-346\\sqrt7}{9}e^{-3t}+\\frac{-748+146\\sqrt7}{9}e^{(2+\\sqrt7)t}+\\frac{748+146\\sqrt7}{9}e^{(2-\\sqrt7)t}\\\\\\frac{-208\\sqrt7}{9}e^{-3t}+\\frac{-178-22\\sqrt7}{9}e^{(2+\\sqrt7)t}+\\frac{178-146\\sqrt7}{9}e^{(2-\\sqrt7)t}\\end{bmatrix}$\n",
    "\n"
   ]
  },
  {
   "cell_type": "markdown",
   "metadata": {
    "collapsed": true
   },
   "source": [
    "# <font color='red'>A  9/12"
   ]
  },
  {
   "cell_type": "code",
   "execution_count": null,
   "metadata": {
    "collapsed": true
   },
   "outputs": [],
   "source": []
  }
 ],
 "metadata": {
  "kernelspec": {
   "display_name": "SageMath 7.3",
   "language": "",
   "name": "sagemath"
  },
  "language_info": {
   "codemirror_mode": {
    "name": "ipython",
    "version": 2
   },
   "file_extension": ".py",
   "mimetype": "text/x-python",
   "name": "python",
   "nbconvert_exporter": "python",
   "pygments_lexer": "ipython2",
   "version": "2.7.10"
  }
 },
 "nbformat": 4,
 "nbformat_minor": 0
}
