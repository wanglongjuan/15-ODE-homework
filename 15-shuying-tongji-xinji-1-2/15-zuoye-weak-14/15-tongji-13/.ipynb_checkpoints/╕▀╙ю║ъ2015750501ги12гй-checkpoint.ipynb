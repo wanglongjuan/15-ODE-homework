{
 "cells": [
  {
   "cell_type": "markdown",
   "metadata": {},
   "source": [
    "## 2015750501##"
   ]
  },
  {
   "cell_type": "markdown",
   "metadata": {},
   "source": [
    "P217"
   ]
  },
  {
   "cell_type": "markdown",
   "metadata": {},
   "source": [
    "5.$ 设\\Phi(t)为方程x^{\\prime}=Ax(A为n\\times n常数矩阵)的标准基解矩阵(即\\Phi(0)=E).证明：\\Phi(t)\\Phi^{-1}(t_0)=\\Phi(t-t_0)，其中t_0为某一值 $\n",
    "\n",
    "$ 由于A是n\\times n常数矩阵 $\n",
    "\n",
    "$ 所以方程x^{\\prime}=Ax的基解矩阵\\Phi(t)满足\\frac{\\mathrm d\\Phi(t)}{\\mathrm dt}=A\\bullet \\Phi^{-1}(t) $\n",
    "\n",
    "$ 解之得：\\Phi(t)=e^{At},即\\Phi(t)是指数型的 $\n",
    "\n",
    "$ 又根据指数函数的特点知道 \\Phi^{-1}(t)=e^{-At} $\n",
    "\n",
    "$ 所以\\Phi(t)\\Phi^{-1}(t)=e^{At}e^{-At}=\\Phi(t-t_0) $"
   ]
  },
  {
   "cell_type": "markdown",
   "metadata": {},
   "source": [
    "10.试求下列方程的通解。 \n",
    "\n",
    "(2)$ x^{\\prime \\prime \\prime}-8x=e^{2t} $\n",
    "\n",
    "$ 方程有特征值\\lambda=2,\\lambda=-1±\\sqrt{3}i $\n",
    "\n",
    "$ 方程右端e^{2t}对特征值\\lambda=2属于I型k=1,m=0,其特解设为x=cte^{2t} $\n",
    "\n",
    "$ 代入方程得c=\\frac{1}{12} $\n",
    "\n",
    "$ 所以方程的通解为x=c_1e^{2t}+e^{-t}(c_2\\cos{\\sqrt{3} t}+c_3\\sin{\\sqrt{3} t})+\\frac{1}{12}te^{2t} $"
   ]
  },
  {
   "cell_type": "markdown",
   "metadata": {},
   "source": [
    "## 244页 ##"
   ]
  },
  {
   "cell_type": "markdown",
   "metadata": {},
   "source": [
    "1.$ 假设A是n\\times n矩阵，试证：$"
   ]
  },
  {
   "cell_type": "markdown",
   "metadata": {},
   "source": [
    "\n",
    "\n",
    "（2）$ 对任意整数k,都有(expA)^k=expkA.(当k时负整数时，规定（expA）^k=[(expA)^{-1}]^{-k}.) $\n",
    "\n",
    "$ k>0时，(expA)^k=(expA)\\bullet(expA)\\bullet\\cdots\\bullet(expA)=exp(A+A+\\cdots+A)=expkA $\n",
    "\n",
    "$ k<0时，-k>0 $\n",
    "\n",
    "$ (expA)^k=[(expkA)^{-1}]^{-k}=[(expk-(A))]^{-k}=exp(-A)\\bullet exp(-A)\\cdots exp(-A)=exp[(-A)(-k)]=expkA $\n",
    "\n",
    "$ 故\\forall k,都有(expA)^k=expkA $"
   ]
  },
  {
   "cell_type": "markdown",
   "metadata": {},
   "source": [
    "5.$ 试求方程组x^{\\prime}=Ax的基解矩阵，并求满足初值条件\\varphi(0)=\\eta 的解\\varphi(t) $\n",
    "\n",
    "$ 已知基解矩阵为\\Phi(t)=\n",
    "\\begin{bmatrix} \n",
    " -3e^{-3t} & e^{(2+\\sqrt{7})t} & e^{(2-\\sqrt{7})t}          \n",
    "\\\\[0.3em]7e^{-3t} & \\frac{4\\sqrt{7}-5}{3}e^{2+\\sqrt{7}t} & \\frac{-4\\sqrt{7}-5}{3}e^{2-\\sqrt{7}t}  \n",
    "\\\\[0.3em]4e^{-3t} & \\frac{1+\\sqrt{7}}{3}e^{2+\\sqrt{7}t} &  \\frac{1+-\\sqrt{7}}{3}e^{2-\\sqrt{7}t}       \n",
    "\\end{bmatrix} $\n",
    "\n",
    "$ 而满足初值条件的解\\varphi(0)=\\eta=\\begin{bmatrix} \n",
    " 0         \n",
    "\\\\[0.3em] -2          \n",
    "\\\\[0.3em] -7            \n",
    "\\end{bmatrix}为\\varphi(t)=\\Phi(t)\\Phi^{-1}(t)\\eta=expAt\\bullet\\eta $\n",
    "\n",
    "所以经计算得\n",
    "\n",
    "$ \\varphi(t)=\\frac{1}{4\\sqrt{7}}\\begin{bmatrix} \n",
    " \\frac{52\\sqrt{7}}{3}e^{-3t}+\\frac{4-26\\sqrt{7}}{3}e^{2+\\sqrt{7}t}+\\frac{-4-26\\sqrt{7}t}{3}e^{2-\\sqrt{7}t}         \n",
    " \\\\[0.3em] \\frac{-364\\sqrt{7}}{9}e^{-3t}+\\frac{-748+146\\sqrt{7}}{9}e^{2+\\sqrt{7}+\\frac{748+146\\sqrt{7}}{9}e^{2-\\sqrt{7}t}}          \n",
    "\\\\[0.3em] \\frac{-208\\sqrt{7}}{9}e^{-3t}+\\frac{-178-22\\sqrt{7}}{9}e^{2+\\sqrt{7}}t+\\frac{178-88\\sqrt{7}}{9}e^{2-\\sqrt{7}t}            \n",
    "\\end{bmatrix} $"
   ]
  },
  {
   "cell_type": "markdown",
   "metadata": {
    "collapsed": true
   },
   "source": [
    "# <font color='red'>A  9/12"
   ]
  },
  {
   "cell_type": "code",
   "execution_count": null,
   "metadata": {
    "collapsed": true
   },
   "outputs": [],
   "source": []
  }
 ],
 "metadata": {
  "kernelspec": {
   "display_name": "SageMath 7.3",
   "language": "",
   "name": "sagemath"
  },
  "language_info": {
   "codemirror_mode": {
    "name": "ipython",
    "version": 2
   },
   "file_extension": ".py",
   "mimetype": "text/x-python",
   "name": "python",
   "nbconvert_exporter": "python",
   "pygments_lexer": "ipython2",
   "version": "2.7.10"
  }
 },
 "nbformat": 4,
 "nbformat_minor": 0
}
