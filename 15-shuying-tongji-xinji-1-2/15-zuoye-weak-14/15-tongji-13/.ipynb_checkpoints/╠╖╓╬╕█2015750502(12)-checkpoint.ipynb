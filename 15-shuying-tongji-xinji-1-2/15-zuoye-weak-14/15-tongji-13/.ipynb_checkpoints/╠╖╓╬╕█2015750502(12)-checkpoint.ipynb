{
 "cells": [
  {
   "cell_type": "markdown",
   "metadata": {},
   "source": [
    "                                              常微分作业\n",
    "                                       姓名：谭治港    学号：2015750502"
   ]
  },
  {
   "cell_type": "markdown",
   "metadata": {},
   "source": [
    "$P217T5由于\\mathbf A是n \\times n常数矩阵，所以方程x'=\\mathbf Ax的基解矩阵\\mathbf \\Phi(t)满足\\frac{d \\mathbf \\Phi(t)}{dt}=\\mathbf A \\cdot \\mathbf \\Phi(t)$\n",
    "\n",
    "$求解得\\mathbf \\Phi(t)=e^{\\mathbf At} \\quad \\mathbf \\Phi(t)是指数型的，又知道\\mathbf \\Phi^{-1}(t)=e^{-\\mathbf At}$\n",
    "\n",
    "$即有\\mathbf \\Phi(t) \\mathbf \\Phi^{-1}(t_0)=e^{\\mathbf At}e^{-\\mathbf A_0t}=e^{\\mathbf A(t-t_0)}=\\mathbf \\Phi(t-t_0)$\n"
   ]
  },
  {
   "cell_type": "markdown",
   "metadata": {},
   "source": [
    "$T10(2)：易知对应的齐次线性方程x'''-8x=0的基本解组为x=c_1e^{2t}+c_2e^{-t}\\cos \\sqrt{3}t+c_3e^{-t} \\sin \\sqrt{3}t$\n",
    "\n",
    "$\\lambda=2是方程的特征根,方程有形如x=Ate^{2t}的解，代入得A=\\frac{1}{12}$\n",
    "\n",
    "$则方程的通解为x=c_1e^{2t}+(c_2\\cos\\sqrt{3}t+c_3\\sin\\sqrt{3}t)e^{-t}+\\frac{1}{12}te^{2t}$"
   ]
  },
  {
   "cell_type": "markdown",
   "metadata": {},
   "source": [
    "$P244T1(2) \\quad k>0时,(exp\\mathbf A)^k=exp\\mathbf Aexp\\mathbf A...exp\\mathbf A=exp\\mathbf kA$\n",
    "\n",
    "$ \\quad k<0时,(exp\\mathbf A)^k=[(exp\\mathbf A)^{-1}]^{-k}=[exp (-\\mathbf A)]^{-k}=exp(-k)(-\\mathbf A)=exp\\mathbf kA$\n",
    "\n",
    "$故对任意整数k，都有(exp \\mathbf A)^k=expk \\mathbf A$\n",
    " "
   ]
  },
  {
   "cell_type": "markdown",
   "metadata": {},
   "source": [
    "$T5(2)基解矩阵为$\n",
    "\n",
    "\n",
    "$\\mathbf \\Phi(t)\n",
    "=\\left[\n",
    "\\begin{matrix}\n",
    "3e^{3t} & 3e^(2+\\sqrt 7)t & 3e^(2-\\sqrt 7)t \\\\\n",
    "-7e^{3t} & (4\\sqrt 7 -5)e^(2+\\sqrt 7)t & -(4\\sqrt 7 +5)e^(2-\\sqrt 7)t \\\\\n",
    "4e^{3t} & 3e^(\\sqrt 7+1)t & 3e^(1-\\sqrt 7)t\n",
    "\\end{matrix}\n",
    "\\right]\n",
    "$\n",
    "\n",
    "满足初值条件\n",
    "$\n",
    "\\mathbf \\phi(0)\n",
    "=\\mathbf \\eta\n",
    "=\\left[\n",
    "\\begin{matrix}\n",
    "0 \\\\\n",
    "-1\\\\\n",
    "-7 \n",
    "\\end{matrix}\n",
    "\\right]\n",
    "$\n",
    "的解为\n",
    "$\\mathbf \\phi(t)=\\mathbf \\Phi(t)\\Phi^{-1}(0)\\eta=exp \\mathbf At \\cdot \\mathbf \\eta$\n",
    "\n",
    "即有\n",
    "$\n",
    "\\mathbf \\phi(t)=\\frac{1}{4\\sqrt7}\\times\n",
    "\\left[\n",
    "\\begin{matrix}\n",
    "\\frac{52\\sqrt7}{3}e^{-3t}+\\frac{4-26\\sqrt7}{3}e^(2+\\sqrt 7)t+\\frac{-4-2\\sqrt7}{3}3e^(2-\\sqrt 7)t \\\\\n",
    "\\frac{-364\\sqrt7}{9}e^{-3t}+\\frac{-748+146\\sqrt7}{9}(2+\\sqrt 7)e^(2+\\sqrt 7)t+\\frac{748+146\\sqrt7}{9}(4\\sqrt 7 +5)e^(2-\\sqrt 7)t \\\\\n",
    "\\frac{-208\\sqrt7}{9}e^{-3t}+\\frac{-178-22\\sqrt7}{9}e^(2+\\sqrt 7)t+\\frac{178-22\\sqrt7}{9}e^(2-\\sqrt 7)t\n",
    "\\end{matrix}\n",
    "\\right]\n",
    "$"
   ]
  },
  {
   "cell_type": "markdown",
   "metadata": {
    "collapsed": true
   },
   "source": [
    "# <font color='red'>A  9/12"
   ]
  },
  {
   "cell_type": "code",
   "execution_count": null,
   "metadata": {
    "collapsed": true
   },
   "outputs": [],
   "source": []
  }
 ],
 "metadata": {
  "kernelspec": {
   "display_name": "SageMath 7.3",
   "language": "",
   "name": "sagemath"
  },
  "language_info": {
   "codemirror_mode": {
    "name": "ipython",
    "version": 2
   },
   "file_extension": ".py",
   "mimetype": "text/x-python",
   "name": "python",
   "nbconvert_exporter": "python",
   "pygments_lexer": "ipython2",
   "version": "2.7.10"
  }
 },
 "nbformat": 4,
 "nbformat_minor": 0
}
