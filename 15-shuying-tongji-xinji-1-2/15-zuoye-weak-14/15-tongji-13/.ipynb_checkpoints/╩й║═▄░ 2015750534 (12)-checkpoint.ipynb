{
 "cells": [
  {
   "cell_type": "markdown",
   "metadata": {},
   "source": [
    "$\\bf5.设\\Phi(t)为方程x'=Ax(A为n\\times n常数矩阵)的标准基解矩阵（即\\Phi(0)=E）,证明：$\n",
    "$$\\bf \\Phi(t)\\Phi^{-1}(t_0)=\\Phi(t-t_0),其中t_0为某一值.$$\n",
    "\n",
    "解：由题知:\\Phi(t)满足$$\\frac{d\\Phi(t)}{dt}=A\\cdot\\Phi(t)$$\n",
    "\n",
    "$得\\Phi(t)=e^{At},所以\\Phi^{-1}(t)=e^{-At},$\n",
    "\n",
    "$故：\\Phi(t)\\Phi^{-1}(t_0)=e^{At}e^{-At_0}=e^{A(T-T_0)}=\\Phi(t-t_0).$"
   ]
  },
  {
   "cell_type": "markdown",
   "metadata": {},
   "source": [
    "$\\bf10.试求下列方程的通解：$\n",
    "\n",
    "$\\bf x'''-8x=e^{2t}$\n",
    "\n",
    "$解：该方程得特征方程为：(\\lambda)^3-8=0$\n",
    "\n",
    "$得：\\lambda_1=2,\\lambda_2=-1+\\sqrt{3}i.\\lambda_3=1+\\sqrt{3}i$\n",
    "\n",
    "故该方程得通解为：$$x=C_1e^{2t}+C_2e^{-t}cos\\sqrt{3}+C_3e^{-t}sin\\sqrt{3}$$\n",
    "\n",
    "$令方程的一个特解为x_1=Ate^{2t},带入原方程得A=\\frac{1}{12},故x_1=\\frac{1}{12}te^{2t}$\n",
    "\n",
    "所以原方程的通解为：$$x(t)=C_1e^{2t}+C_2e^{-t}cos\\sqrt{3}+C_3e^{-t}sin\\sqrt{3}+\\frac{1}{12}te^{2t}$$"
   ]
  },
  {
   "cell_type": "markdown",
   "metadata": {},
   "source": [
    "$\\bf1.(2)假设A是n\\times n矩阵，试证：对任意整数k,都有$\n",
    "\n",
    "$$\\bf (expA)^k=expkA.$$\n",
    "\n",
    "$\\bf(当k为负整数时.规定(expA)^k=[(expA)^{-1}]^{-k}.)$\n",
    "\n",
    "$解：因为对任意的常数C_1，C_2，都有exp(c_1A+c_2A)=expc_1A\\cdot expc_2A);现在令c_1=c_2=1,$\n",
    "\n",
    "则$$exp(2A)=exp(A+A)=expA\\cdot expA=(expA)^2,\\\\exp3A= =exp(A+2A)=expA\\cdot exp2A=(expA)^3,\\\\ \\ldots,\\\\exp(kA)=exp(A+(k-1)A)=expA\\cdot expA=(expA)^k.$$\n",
    "\n",
    "$当k=0时，右边=(exp)^k=(exp)^0=E,左边=expkA=exp0=E,即等式成立$\n",
    "\n",
    "$k=1,左边=expA=右边，等式成立.$\n",
    "\n",
    "$有数学归纳法可知，易知道等是对所有的非负整数成立.$\n",
    "\n",
    "$当k是负数时，(expA)^k[(expA)^{-1}]^{-1}=[exp(-A)]^{-k}=exp(-k)(-A)=expkA.$\n",
    "\n",
    "$综上述，即证明了对任意整数K，都有(exp)^k=expkA$\n"
   ]
  },
  {
   "cell_type": "markdown",
   "metadata": {},
   "source": [
    " $\\bf5.试求方程x'=Ax的基解矩阵，并求满足初值条件\\varphi(0)=\\eta的解\\varphi(t):$\n",
    " \n",
    " $\\bf(2)A=\\begin{bmatrix} 1 & 0 & 3 \\\\ 8 & 1 & -1 \\\\ 5 & 1& -1 \\\\ \\end{bmatrix},\\eta=\\begin{bmatrix} 0 \\\\ -2 \\\\ -7 \\\\ \\end{bmatrix}$\n",
    " \n",
    " $解：对应方程的特征方程为：(\\lambda+3)(\\lambda^2-4\\lambda-3)=0$\n",
    " \n",
    " $得\\lambda_1=-3,\\lambda_2=2+\\sqrt{7},\\lambda_3=2-\\sqrt{7}.$\n",
    " \n",
    " 对应的三个特征向量为：$$\\bf x=\\alpha[3\\quad\\quad-7\\quad\\quad-4]^T,\\\\\\bf x=\\beta[3\\quad\\quad4\\sqrt{7}-5\\quad\\quad1+\\sqrt{7}]^T\\\\\\bf x=\\gamma[3\\quad\\quad-4\\sqrt{7}-5\\quad\\quad1-\\sqrt{7}]^T$$\n",
    " \n",
    " $取\\alpha=\\beta=\\gamma=1时得到方程的一个基解矩阵：$\n",
    " \n",
    " $\\Phi(t)=\\begin{bmatrix} 3e^{-3t} & 3e^{2+\\sqrt{7}} & 3e^{2-\\sqrt{7}} \\\\ -7e^{-3t} & (4\\sqrt{7}-5)e^{(2+\\sqrt{7})t} & (-4\\sqrt{7}+5)e^{(2-\\sqrt{7})t} \\\\ -4e^{3t} & (\\sqrt{7}+1)e^{(2+\\sqrt{7})t}& (-\\sqrt{7}+1)e^{(2-\\sqrt{7})t} \\\\ \\end{bmatrix},\\eta=\\begin{bmatrix} 0 \\\\ -2 \\\\ -7 \\\\ \\end{bmatrix}$\n",
    " \n",
    " $满足初值条件\\varphi(0)=\\eta=[0\\quad\\quad-2\\quad\\quad7]^T的解为：$\n",
    " \n",
    " $$\\varphi(t)=\\Phi(t)\\Phi^{-1}(0)\\eta=expAt\\cdot \\eta$$\n",
    " \n",
    " 经计算得：$\\varphi(t)=\\frac{1}{4\\sqrt{7}}\\times \\begin{bmatrix} \\frac{52\\sqrt{7}}{3}e^{-3t}+\\frac{4-26\\sqrt{7}}{3}e^{(2+\\sqrt{7})t}+\\frac{-4-2\\sqrt{7}}{3}e^{(2-\\sqrt{7})t} \\\\ \\frac{-364\\sqrt{7}}{9}e^{-3t}+\\frac{-748+146\\sqrt{7}}{9}e^{(2+\\sqrt{7})t}+\\frac{-748+146\\sqrt{7}}{9}e^{(2-\\sqrt{7})} \\\\ \\frac{-208\\sqrt{7}}{9}e^{-3t}+\\frac{-178-22\\sqrt{7}}{9}e^{(2+\\sqrt{7})t}+\\frac{178-22\\sqrt{7}}{9}e^{(2-\\sqrt{7})t} \\\\ \\end{bmatrix}$"
   ]
  },
  {
   "cell_type": "markdown",
   "metadata": {},
   "source": [
    "# <font color='red'>A  9/12"
   ]
  },
  {
   "cell_type": "code",
   "execution_count": null,
   "metadata": {
    "collapsed": true
   },
   "outputs": [],
   "source": []
  }
 ],
 "metadata": {
  "kernelspec": {
   "display_name": "SageMath 7.3",
   "language": "",
   "name": "sagemath"
  },
  "language_info": {
   "codemirror_mode": {
    "name": "ipython",
    "version": 2
   },
   "file_extension": ".py",
   "mimetype": "text/x-python",
   "name": "python",
   "nbconvert_exporter": "python",
   "pygments_lexer": "ipython2",
   "version": "2.7.10"
  }
 },
 "nbformat": 4,
 "nbformat_minor": 0
}
