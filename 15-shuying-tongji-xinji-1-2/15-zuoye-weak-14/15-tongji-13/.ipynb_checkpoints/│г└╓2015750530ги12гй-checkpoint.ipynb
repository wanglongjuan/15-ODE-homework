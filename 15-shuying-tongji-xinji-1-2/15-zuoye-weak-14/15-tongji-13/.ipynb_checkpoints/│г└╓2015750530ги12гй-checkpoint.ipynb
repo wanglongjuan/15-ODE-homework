{
 "cells": [
  {
   "cell_type": "markdown",
   "metadata": {},
   "source": [
    "## 姓名：常乐\n",
    "\n",
    "## 学号：2015750530\n",
    "\n",
    "##  班级：统计班\n",
    "\n",
    "\n",
    "\n",
    "\n",
    "5.设Φ(t)为方程x'=Ax(A为n×n常数矩阵)的标准基解矩阵（即Φ(0)=E）,证明  \n",
    "$Φ(t)Φ^{-1}(t_0)=Φ(t-t_0)$，其中t为某一值。"
   ]
  },
  {
   "cell_type": "markdown",
   "metadata": {},
   "source": [
    "解：由于A是n×n常数矩阵，所以方程x'=Ax的基解矩阵Φ(t)满足  \n",
    "$\\frac{dΦ(t)}{dt}=A\\bulletΦ(t)$  \n",
    "解得$Φ(t)=e^{At}$,  \n",
    "即Φ(t)是指数型的，  \n",
    "又根据指数函数的特点知道$Φ^{-1}(t)=e^{At}$,  \n",
    "从而$Φ(t)Φ^{-1}(t_0)=e^{At}e^{-At_0}=Φ(t-t_0)$。"
   ]
  },
  {
   "cell_type": "markdown",
   "metadata": {},
   "source": [
    "10.试求下列方程的通解：  \n",
    "（2）$x'''-8x=e^{2t}$"
   ]
  },
  {
   "cell_type": "markdown",
   "metadata": {},
   "source": [
    "解：对应齐次方程x'''-8x=0的特征方程为  \n",
    "$\\lambda^3-8=0$,  \n",
    "即得到$\\lambda_1=2,\\lambda_2=-1+\\sqrt3i,\\lambda_3=-1-\\sqrt3i$  \n",
    "所以齐次方程的通解为  \n",
    "$x=C_1e^{2t}+C_2e^{-t}\\cos\\sqrt3t+C_3e^{-t}\\sin\\sqrt3t$  \n",
    "令原方程的一个特解为$x_1=Ate^{2t}$,  \n",
    "代入原方程得  \n",
    "$A=\\frac1{12}$,  \n",
    "即特解为$x_1=\\frac{1}{12}te^{2t}$,  \n",
    "所以原方程的通解为  \n",
    "$x(t)=C_1e^{2t}+C_2e^{-t}\\cos\\sqrt3t+C_3e^{-t}\\sin\\sqrt3t+\\frac{1}{12}te^{2t}$"
   ]
  },
  {
   "cell_type": "markdown",
   "metadata": {},
   "source": [
    "1.假设A是n×n矩阵，试证：  \n",
    "（2）对任意整数k，都有  \n",
    "$(expA)^k=expkA.$（当k是负整数时，规定$(expA)^k=[(expA)^{-1}]^{-k}$）"
   ]
  },
  {
   "cell_type": "markdown",
   "metadata": {},
   "source": [
    "解：当A、B可交换时，exp(A+B)=expAexpB.  \n",
    "可得$exp(c_1A+c_2A)=expc_1A\\bullet expc_2A$  \n",
    "设$c_1=c_2=1$,则  \n",
    "$exp(2A)=exp(A+A)=expA\\bullet expA=(expA)^2$,  \n",
    "$exp(3A)=exp(A+2A)=expA\\bullet exp2A=(expA)^3$,  \n",
    "……，  \n",
    "$exp(kA)=exp[A+(k-1)A]=expA\\bullet exp(k-1)A=(expA)^k$.  \n",
    "当k=0时，  \n",
    "$右边=(expA)^k=(expA)^0=E$,  \n",
    "$左边=expkA=exp0=E$,  \n",
    "k=0时，等式成立。  \n",
    "k=1时，左边=expA=右边，等式成立。  \n",
    "由归纳法，知等式对所有的非负整数成立。 \n",
    "当k是负整数时，  \n",
    "$(expA)^k=[(expA)^{-1}]^{-k}=[exp(-A)]^{-k}  \n",
    "=exp(-k)(-A)=expkA.$  \n",
    "k是负整数时，等式成立。  \n",
    "综上，对任意整数k，都有$(expA)^k=expkA.$"
   ]
  },
  {
   "cell_type": "markdown",
   "metadata": {},
   "source": [
    "5.试求方程x'=Ax的基解矩阵，并求满足初值条件$φ(0)=\\eta$的解φ（t）:  \n",
    "（2）$A=\\begin{bmatrix}1&0&3\\\\8&1&-1\\\\5&1&-1\\end{bmatrix},\\eta=\\begin{bmatrix}0\\\\-2\\\\-7\\end{bmatrix}$"
   ]
  },
  {
   "cell_type": "markdown",
   "metadata": {},
   "source": [
    "解:方程的一个基解矩阵为  \n",
    "$Φ(t)=\\begin{bmatrix}3e^{-3t}&3e^{(2+\\sqrt7)t}&3e^{(2-\\sqrt7)t}\\\\-7e^{-3t}&(4\\sqrt7-5)e^{(2+\\sqrt7)t}&-(4\\sqrt7+5)e^{(2-\\sqrt7)t}\\\\-4e^{-3t}&(\\sqrt7+1)e^{(2+\\sqrt7)t}&(1-\\sqrt7)e^{(2-\\sqrt7)t}\\end{bmatrix}$  \n",
    "而满足初值条件$φ(0)=\\eta=[0 -2 -7]^T$的解为  \n",
    "$φ(t)=Φ(t)Φ^{-1}(0)\\eta=expAt\\bullet\\eta$  \n",
    "经计算得  \n",
    "$φ(t)=\\frac1{4\\sqrt7}×\\begin{bmatrix}\\frac{52\\sqrt7}{3}e^{-3t}+\\frac{4-26\\sqrt7}{3}e^{(2+\\sqrt7)t}+\\frac{-4-2\\sqrt7}3e^{(2-\\sqrt7)t}\\\\ \\frac{-364\\sqrt7}9e^{-3t}+\\frac{-748+146\\sqrt7}9e^{(2+\\sqrt7)t}+\\frac{748+146\\sqrt7}9e^{(2-\\sqrt7)t}\\\\ \\frac{-208\\sqrt7}9e^{-3t}+\\frac{-178-22\\sqrt7}9e^{(2+\\sqrt7)t}+\\frac{178-22\\sqrt7}9e^{(2-\\sqrt7)t}\\end{bmatrix}$  "
   ]
  },
  {
   "cell_type": "markdown",
   "metadata": {
    "collapsed": true
   },
   "source": [
    "# <font color='red'>A  9/12"
   ]
  },
  {
   "cell_type": "code",
   "execution_count": null,
   "metadata": {
    "collapsed": true
   },
   "outputs": [],
   "source": []
  }
 ],
 "metadata": {
  "kernelspec": {
   "display_name": "SageMath 7.3",
   "language": "",
   "name": "sagemath"
  },
  "language_info": {
   "codemirror_mode": {
    "name": "ipython",
    "version": 2
   },
   "file_extension": ".py",
   "mimetype": "text/x-python",
   "name": "python",
   "nbconvert_exporter": "python",
   "pygments_lexer": "ipython2",
   "version": "2.7.10"
  }
 },
 "nbformat": 4,
 "nbformat_minor": 0
}
