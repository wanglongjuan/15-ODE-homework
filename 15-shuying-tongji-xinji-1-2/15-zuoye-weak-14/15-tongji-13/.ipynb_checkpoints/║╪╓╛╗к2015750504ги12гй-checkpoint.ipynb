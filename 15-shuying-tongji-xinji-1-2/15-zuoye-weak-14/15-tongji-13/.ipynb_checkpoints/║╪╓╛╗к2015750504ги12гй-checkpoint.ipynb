{
 "cells": [
  {
   "cell_type": "markdown",
   "metadata": {},
   "source": [
    "### 贺志华 2015750504####"
   ]
  },
  {
   "cell_type": "markdown",
   "metadata": {},
   "source": [
    "$T_5\\quad设\\Phi(t)为方程x'=Ax（A为n\\times n常数矩阵）的标准基解矩阵（即\\Phi(0)=E），证明：\\Phi(t)\\Phi^{-1}(t_0)=\\Phi(t-t_0)，其中t_0为某一值$\n",
    "\n",
    "$证明：由于A是n\\times n常数矩阵，所以方程x'=Ax的基解矩阵\\Phi(t)满足\\frac{\\mathrm d\\Phi(t)}{\\mathrm dt}=A\\bullet\\Phi^{-1}(t)，解之得：\\Phi(t)=e^{At}\n",
    "$\n",
    "\n",
    "$即\\Phi(t)是指数型的，又根据指数函数的特点知道 \\Phi^{-1}(t)=e^{-At}，从而\\Phi(t)\\Phi^{-1}(t)=e^{At}e^{-At}=\\Phi(t-t_0)$\n",
    "\n"
   ]
  },
  {
   "cell_type": "markdown",
   "metadata": {},
   "source": [
    "$T_{10}\n",
    "(2)\\quad x'''-8x=e^{2t}$\n",
    "\n",
    "$解：易知对应的齐次线性方程x'''-8x=0的基本解组为:$\n",
    "\n",
    "$x_1(t)=e^{2t}\\quad x_2(t)=e^{-t}\\cos\\sqrt{3}t\\quad x_3=e^{-t}sin\\sqrt{3}t$\n",
    "\n",
    "$\\lambda=2是方程的特征根$\n",
    "\n",
    "$代入得A=\\frac{1}{12}$\n",
    "\n",
    "$于是原方程的通解为x=(c_1cos\\sqrt{3}t+c_2sin\\sqrt{3}t)e^{-t}+c_3e^{2t}+\\frac{1}{12}te^{2t}$\n"
   ]
  },
  {
   "cell_type": "markdown",
   "metadata": {},
   "source": [
    "$T_1(2)\\quad 假设A是n\\times n矩阵，试证对任意整数k，都有(expA)^k=expkA，当k是负整数时，规定(expA)^k=[(expkA)^{-1}]^{-k}$\n",
    "\n",
    "$证明：k>0时，(expA)^k=(expA)\\bullet(expA)\\bullet\\cdots\\bullet(expA)=exp(A+A+\\cdots+A)=expkA$\n",
    "\n",
    "$k<0时，-k>0$\n",
    "\n",
    "$(expA)^k=[(expkA)^{-1}]^{-k}=[(expk-(A))]^{-k}=exp(-A)\\bullet exp(-A)\\cdots exp(-A)=exp[(-A)(-k)]=expkA$\n",
    "\n",
    "$故\\forall k,都有(expA)^k=expkA$\n",
    "\n"
   ]
  },
  {
   "cell_type": "markdown",
   "metadata": {},
   "source": [
    "$T_5(2)\\quad试求方程x'=Ax的基解矩阵，并求满足初始条件\\varphi(0)=\\eta的解$\n",
    "$$A=\\begin{bmatrix} \n",
    "1 & 0 & 3          \n",
    "\\\\[0.3em] 8 & 1 & -1           \n",
    "\\\\[0.3em] 5 & 1 & -1            \n",
    "\\end{bmatrix}\\quad\n",
    "\\begin{bmatrix} \n",
    " 0         \n",
    "\\\\[0.3em] -2          \n",
    "\\\\[0.3em] -7            \n",
    "\\end{bmatrix}$$\n",
    "$解：由4题（4）可知，基解矩阵为$\n",
    "$$\\Phi(t)=\n",
    "\\begin{bmatrix} \n",
    " -3e^{-3t} & e^{(2+\\sqrt{7})t} & e^{(2-\\sqrt{7})t}          \n",
    "\\\\[0.3em]7e^{-3t} & \\frac{4\\sqrt{7}-5}{3}e^{2+\\sqrt{7}t} & \\frac{-4\\sqrt{7}-5}{3}e^{2-\\sqrt{7}t}  \n",
    "\\\\[0.3em]4e^{-3t} & \\frac{1+\\sqrt{7}}{3}e^{2+\\sqrt{7}t} &  \\frac{1+-\\sqrt{7}}{3}e^{2-\\sqrt{7}t}       \n",
    "\\end{bmatrix}\n",
    "$$\n",
    "$而满足初值条件的解\\varphi(0)=\\eta=\\begin{bmatrix} \n",
    " 0         \n",
    "\\\\[0.3em] -2          \n",
    "\\\\[0.3em] -7            \n",
    "\\end{bmatrix}为\\varphi(t)=\\Phi(t)\\Phi^{-1}(t)\\eta=expAt\\bullet\\eta$\n",
    "$经计算得$\n",
    "$$\\varphi(t)=\\frac{1}{4\\sqrt{7}}\\begin{bmatrix} \n",
    " \\frac{52\\sqrt{7}}{3}e^{-3t}+\\frac{4-26\\sqrt{7}}{3}e^{2+\\sqrt{7}t}+\\frac{-4-26\\sqrt{7}t}{3}e^{2-\\sqrt{7}t}         \n",
    "\\\\[0.3em] \\frac{-364\\sqrt{7}}{9}e^{-3t}+\\frac{-748+146\\sqrt{7}}{9}e^{2+\\sqrt{7}+\\frac{748+146\\sqrt{7}}{9}e^{2-\\sqrt{7}t}}          \n",
    "\\\\[0.3em] \\frac{-208\\sqrt{7}}{9}e^{-3t}+\\frac{-178-22\\sqrt{7}}{9}e^{2+\\sqrt{7}}t+\\frac{178-88\\sqrt{7}}{9}e^{2-\\sqrt{7}t}            \n",
    "\\end{bmatrix}\n",
    "$$\n",
    "$$\n",
    "$$"
   ]
  },
  {
   "cell_type": "markdown",
   "metadata": {},
   "source": [
    "# <font color='red'>A  9/12"
   ]
  },
  {
   "cell_type": "code",
   "execution_count": null,
   "metadata": {
    "collapsed": true
   },
   "outputs": [],
   "source": []
  }
 ],
 "metadata": {
  "kernelspec": {
   "display_name": "SageMath 7.3",
   "language": "",
   "name": "sagemath"
  },
  "language_info": {
   "codemirror_mode": {
    "name": "ipython",
    "version": 2
   },
   "file_extension": ".py",
   "mimetype": "text/x-python",
   "name": "python",
   "nbconvert_exporter": "python",
   "pygments_lexer": "ipython2",
   "version": "2.7.10"
  }
 },
 "nbformat": 4,
 "nbformat_minor": 0
}
