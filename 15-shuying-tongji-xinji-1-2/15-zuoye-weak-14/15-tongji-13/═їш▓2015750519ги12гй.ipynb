{
 "cells": [
  {
   "cell_type": "markdown",
   "metadata": {},
   "source": [
    "1.设$\\mathbf{\\phi(t)}$为方程$x'=Ax$（$A$为$n*n$常数矩阵）的标准基解矩阵（即$\\mathbf{\\phi}(0)=\\mathbf{E}$），证明：$\\mathbf{\\phi}(t)\\mathbf{\\phi^{-1}}(t_0)=\\mathbf{\\phi}(t-t_0)$，其中$t_0$为某一值。\n",
    "\n",
    "$\\bf证明：$\n",
    "\n",
    "由题意知$\\frac{\\mathrm{d\\mathbf{\\phi}(t)}}{\\mathrm{dt}}=A\\mathbf{\\phi}(t)$\n",
    "\n",
    "解得$\\mathbf{\\phi}(t)=e^{At}$，则$\\mathbf{\\phi^{-1}}(t)=e^{-At}$\n",
    "\n",
    "所以$\\mathbf{\\phi}(t)\\mathbf{\\phi^{-1}}(t_0)=e^{At}e^{-At_0}=e^{At-At_0}=e^{A(t-t_0)}=\\mathbf{\\phi}(t-t_0)$"
   ]
  },
  {
   "cell_type": "markdown",
   "metadata": {},
   "source": [
    "2.试求下列方程的通解\n",
    " \n",
    " （1）$x'''-8x=e^{2t}$"
   ]
  },
  {
   "cell_type": "markdown",
   "metadata": {},
   "source": [
    "$\\bf解:$\n",
    "式的齐次形式为$x'''-8x=0$，先解齐次方程的通解\n",
    "\n",
    "特征方程为$\\lambda^3-8=0$，得$\\lambda_1=2,\\lambda_2=-1+\\sqrt3i,\\lambda_3=-1-\\sqrt3i$\n",
    "\n",
    "所以齐次方程的通解为$x=c_1e^{2t}+c_2e^{-t}\\cos\\sqrt3t+c_3e^{-1}\\sin\\sqrt3t$\n",
    "\n",
    "再分析原方程，$\\lambda=2$是特征方程的根，所以方程有特解$x=Ate^{2t}$\n",
    "\n",
    "代入原方程计算得参数$A=\\frac{1}{12}$\n",
    "\n",
    "所以原方程的通解为$x=c_1e^{2t}+c_2e^{-t}\\cos\\sqrt3t+c_3e^{-t}\\sin\\sqrt3t+\\frac{1}{12}te^{2t}$"
   ]
  },
  {
   "cell_type": "markdown",
   "metadata": {},
   "source": [
    " 3.假设$A$是$n\\times n$矩阵，试证：对任意整数$k$都有$(exp A)^k=exp kA$(当$k$是负整数时，规定$（exp A)^k=[(exp A)^{-1}]^{-k}）$"
   ]
  },
  {
   "cell_type": "markdown",
   "metadata": {},
   "source": [
    "$\\bf证明：$\n",
    "\n",
    "当$k>0$时，\n",
    "\n",
    "$(exp A )^k=expA\\cdot expA\\cdots expA=exp(A+A+\\cdots+A)=exp(kA)$\n",
    "\n",
    "当$k<0$时，$-k>0$\n",
    "    \n",
    " $(exp A)^k=[(exp A)^{-1}]^{-k}=[exp(-A) ]^{-k}=exp(-A)\\cdot exp(-A)\\cdots exp(-A)\\\\=exp[(-A)(-k)]=exp(kA)$\n",
    "\n",
    " \n",
    " 所以对于任意k，都有$(exp A)^k=exp kA$"
   ]
  },
  {
   "cell_type": "markdown",
   "metadata": {},
   "source": [
    " 4.试求方程组$x'=Ax$的基解矩阵，并求满足初值条件$\\varphi(0)=$的解$\\varphi(t)$.\n",
    " \n",
    " $A=\\begin{bmatrix} 1&0&3\\\\8&1&-1\\\\5&1&-1 \\end{bmatrix},\\eta=\\begin{bmatrix}0\\\\-2\\\\-7  \\end{bmatrix}$"
   ]
  },
  {
   "cell_type": "markdown",
   "metadata": {},
   "source": [
    "$\\bf 解：$\n",
    "由$det(\\lambda E-A)=0$得，$\\lambda_1=-3,\\lambda_2=2+\\sqrt7,\\lambda_3=2-\\sqrt7$.\n",
    "\n",
    "解得基解矩阵为$$\\Phi(t)=\n",
    "\\begin{bmatrix}\n",
    "-3e^{-3t}&e^{(2+\\sqrt7)t}&e^{(2-\\sqrt7)t}\\\\\n",
    "7e^{-3t}&\\frac{4\\sqrt7-5}{3}e^{(2+\\sqrt7)t}&\\frac{-4\\sqrt7-5}{3}e^{(2-\\sqrt7)t}\\\\ \n",
    "4e^{-3t}&\\frac{1+\\sqrt7}{3}e^{(2+\\sqrt7)t}&\\frac{1-\\sqrt7}{3}e^{(2-\\sqrt7)t}\n",
    "\\end{bmatrix}$$\n",
    "则$$\\varphi(t)=\\Phi(t)\\Phi^{-1}(0)\\eta=\\frac{1}{4\\sqrt7}\n",
    "\\begin{bmatrix}\n",
    "\\frac{52\\sqrt 7}{3}e^{-3t}+\\frac{4-26\\sqrt 7}{3}e^{(2+\\sqrt 7)t}+\\frac{-4-26\\sqrt 7}{3}e^{(2-\\sqrt 7)t}\\\\\n",
    "\\frac{-364\\sqrt 7}{9}e^{-3t}+\\frac{-748+146\\sqrt 7}{9}e^{(2+\\sqrt 7)t}+\\frac{748+146\\sqrt 7}{9}e^{(2-\\sqrt 7)t}\\\\ \n",
    "\\frac{-208\\sqrt 7}{9}e^{-3t}+\\frac{-178-22\\sqrt 7}{9}e^{(2+\\sqrt 7)t}+\\frac{178-22\\sqrt 7}{9}e^{(2-\\sqrt 7)t}\n",
    "\\end{bmatrix}$$"
   ]
  },
  {
   "cell_type": "markdown",
   "metadata": {
    "collapsed": true
   },
   "source": [
    "# <font color='red'>A  9/12"
   ]
  },
  {
   "cell_type": "code",
   "execution_count": null,
   "metadata": {
    "collapsed": true
   },
   "outputs": [],
   "source": []
  }
 ],
 "metadata": {
  "kernelspec": {
   "display_name": "SageMath 7.3",
   "language": "",
   "name": "sagemath"
  },
  "language_info": {
   "codemirror_mode": {
    "name": "ipython",
    "version": 2
   },
   "file_extension": ".py",
   "mimetype": "text/x-python",
   "name": "python",
   "nbconvert_exporter": "python",
   "pygments_lexer": "ipython2",
   "version": "2.7.10"
  }
 },
 "nbformat": 4,
 "nbformat_minor": 0
}
