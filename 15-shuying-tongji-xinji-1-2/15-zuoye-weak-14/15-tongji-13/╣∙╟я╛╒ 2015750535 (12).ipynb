{
 "cells": [
  {
   "cell_type": "markdown",
   "metadata": {},
   "source": [
    "# 常微分作业十二\n",
    "\n",
    "**P217**\n",
    "\n",
    "$5.设\\Phi(t)为方程x'=Ax(A为n\\times n常数矩阵)的标准基解矩阵(即\\Phi(0)=E)，$\n",
    "\n",
    "$证明：\\Phi(t)\\Phi^{-1}(t_0)=\\Phi(t-t_0)，其中t_0为某一值$\n",
    "\n",
    "$证：由于A是n\\times n常数矩阵，所以方程x'=Ax的基解矩阵\\Phi(t)满足\\frac{\\mathrm d\\Phi(t)}{\\mathrm dt}=A\\bullet\\Phi^{-1}(t)，解之得：\\Phi(t)=e^{At}\n",
    "$\n",
    "\n",
    "$即\\Phi(t)是指数型的，又根据指数函数的特点知道 \\Phi^{-1}(t)=e^{-At}，从而\\Phi(t)\\Phi^{-1}(t)=e^{At}e^{-At}=\\Phi(t-t_0)$\n",
    "\n",
    "$~~~~~~$\n",
    "\n"
   ]
  },
  {
   "cell_type": "markdown",
   "metadata": {},
   "source": [
    "$10.试求下列方程的通解。$\n",
    "\n",
    "$(2)\\quad x'''-8x=e^{2t}$\n",
    "\n",
    "$解：易知对应的齐次线性方程x'''-8x=0的基本解组为:$\n",
    "\n",
    "$x_1(t)=e^{2t}\\quad x_2(t)=e^{-t}\\cos\\sqrt{3}t\\quad x_3=e^{-t}sin\\sqrt{3}t$\n",
    "\n",
    "$\\lambda=2是方程的特征根$\n",
    "\n",
    "$代入得A=\\frac{1}{12}$\n",
    "\n",
    "$于是原方程的通解为x=(c_1cos\\sqrt{3}t+c_2sin\\sqrt{3}t)e^{-t}+c_3e^{2t}+\\frac{1}{12}te^{2t}$\n",
    "\n",
    "$~~~~~~$\n",
    "\n"
   ]
  },
  {
   "cell_type": "markdown",
   "metadata": {},
   "source": [
    "**P244**\n",
    "\n",
    "\n",
    "$1.(2) 假设A是n\\times n矩阵，试证对任意整数k，都有(expA)^k=expkA，当k是负整数时，规定(expA)^k=[(expkA)^{-1}]^{-k}$\n",
    "\n",
    "$证明：k>0时，(expA)^k=(expA)\\bullet(expA)\\bullet\\cdots\\bullet(expA)=exp(A+A+\\cdots+A)=expkA$\n",
    "\n",
    "$k<0时，-k>0$\n",
    "\n",
    "$(expA)^k=[(expkA)^{-1}]^{-k}=[(expk-(A))]^{-k}=exp(-A)\\bullet exp(-A)\\cdots exp(-A)=exp[(-A)(-k)]=expkA$\n",
    "\n",
    "$故\\forall k,都有(expA)^k=expkA$\n",
    "\n",
    "$~~~~~$\n",
    "\n"
   ]
  },
  {
   "cell_type": "markdown",
   "metadata": {},
   "source": [
    "$5、试求方程组x'=Ax的基解矩阵,并求满足初值条件\\phi(0)=\\eta的解\\phi(t)$\n",
    "\n",
    "$(2)A=\\begin{bmatrix}1&0&3\\\\8&1&-1\\\\5&1&-1\\\\\\end{bmatrix},\\eta=\\begin{bmatrix}0\\\\-2\\\\-7\\\\\\end{bmatrix}$\n",
    "\n",
    "$解:由det(\\lambda E-A)=0可得,\\lambda_1=-3,\\lambda_2=2+\\sqrt7,\\lambda_3=2-\\sqrt7$\n",
    "\n",
    "$可得基解矩阵\\Phi(t)=\\begin{bmatrix}-3e^{-3t}&e^{(2+\\sqrt7)t}&e^{(2-\\sqrt7)t}\\\\7e^{-3t}&\\frac{4\\sqrt7-5}{3}e^{(2+\\sqrt7)t}&\\frac{-4\\sqrt7-5}{3}e^{(2-\\sqrt7)t}\\\\4e^{-3t}&\\frac{1+\\sqrt7}{3}e^{(2+\\sqrt7)t}&\\frac{1-\\sqrt7}{3}e^{(2-\\sqrt7)t}\\\\\\end{bmatrix}$\n",
    "\n",
    "$要满足初值条件\\phi(0)=\\eta=\\begin{bmatrix}0\\\\-2\\\\-7\\\\\\end{bmatrix}的解为\\phi(t)=\\Phi(t)\\Phi^{-1}(0)\\eta=expAt·\\eta$\n",
    "\n",
    "$所以经过计算可得\\phi(t)=\\frac{1}{4\\sqrt7}\\begin{bmatrix}\\frac{52\\sqrt7}{3}e^{-3t}+\\frac{4-26\\sqrt7}{3}e^{(2+\\sqrt7)t}+\\frac{-4-26\\sqrt7}{3}e^{(2-\\sqrt7)t}\\\\\\frac{-364\\sqrt7}{9}e^{-3t}+\\frac{-748+146\\sqrt7}{9}e^{(2+\\sqrt7)t}+\\frac{748+146\\sqrt7}{3}e^{(2-\\sqrt7)t}\\\\\\frac{-208\\sqrt7}{9}e^{-3t}+\\frac{-178-22\\sqrt7}{9}e^{(2+\\sqrt7)t}+\\frac{178-22\\sqrt7}{9}e^{(2-\\sqrt7)t}\\\\\\end{bmatrix}$"
   ]
  },
  {
   "cell_type": "markdown",
   "metadata": {
    "collapsed": true
   },
   "source": [
    "# <font color='red'>A  9/12"
   ]
  },
  {
   "cell_type": "code",
   "execution_count": null,
   "metadata": {
    "collapsed": true
   },
   "outputs": [],
   "source": []
  }
 ],
 "metadata": {
  "kernelspec": {
   "display_name": "SageMath 7.3",
   "language": "",
   "name": "sagemath"
  },
  "language_info": {
   "codemirror_mode": {
    "name": "ipython",
    "version": 2
   },
   "file_extension": ".py",
   "mimetype": "text/x-python",
   "name": "python",
   "nbconvert_exporter": "python",
   "pygments_lexer": "ipython2",
   "version": "2.7.10"
  }
 },
 "nbformat": 4,
 "nbformat_minor": 0
}
