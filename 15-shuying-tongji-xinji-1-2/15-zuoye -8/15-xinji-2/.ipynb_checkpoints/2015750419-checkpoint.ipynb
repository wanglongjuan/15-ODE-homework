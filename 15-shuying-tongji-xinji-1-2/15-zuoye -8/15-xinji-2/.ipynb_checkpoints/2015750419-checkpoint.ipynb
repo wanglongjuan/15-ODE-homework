{
 "cells": [
  {
   "cell_type": "markdown",
   "metadata": {},
   "source": [
    "$$2(2).该方程的特征方程为\\lambda^3-3a\\lambda^2+3a^2\\lambda-a^3=0$$\n",
    "$$解得\\lambda=a(三重)$$\n",
    "$$所以该方程的通解为x=(c_1+c_2t+c_3t^2)e^{at},c_1,c_2,c_3为任意常数$$\n",
    "$$2(3).该方程的特征方程为\\lambda^5-4\\lambda^3=0$$\n",
    "$$\\lambda^5=4\\lambda^3.解得\\lambda=0(三重)或\\lambda=2或\\lambda=-2$$\n",
    "$$所以该方程的通解为x=c_1+c_2t+c_3t^2+c_4e^{2t}+c_5e^{-2t}$$"
   ]
  },
  {
   "cell_type": "markdown",
   "metadata": {
    "collapsed": true
   },
   "source": [
    "# <font color='red'>A  1/11"
   ]
  },
  {
   "cell_type": "code",
   "execution_count": null,
   "metadata": {
    "collapsed": true
   },
   "outputs": [],
   "source": []
  }
 ],
 "metadata": {
  "kernelspec": {
   "display_name": "SageMath 7.3",
   "language": "",
   "name": "sagemath"
  },
  "language_info": {
   "codemirror_mode": {
    "name": "ipython",
    "version": 2
   },
   "file_extension": ".py",
   "mimetype": "text/x-python",
   "name": "python",
   "nbconvert_exporter": "python",
   "pygments_lexer": "ipython2",
   "version": "2.7.10"
  }
 },
 "nbformat": 4,
 "nbformat_minor": 0
}
