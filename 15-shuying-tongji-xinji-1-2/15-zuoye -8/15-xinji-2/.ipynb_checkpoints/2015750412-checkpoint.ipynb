{
 "cells": [
  {
   "cell_type": "markdown",
   "metadata": {},
   "source": [
    "2.（2）\n",
    "\n",
    "特征方程为$λ^3-3aλ^2+3a^2λ-a^3=0$，或，$(λ-a)^3=0$\n",
    "\n",
    "可知$λ=a$是三重根 \n",
    "\n",
    "所以方程的通解为：$x=(c_1+c_2t+c_3t^2)e^{at}，其中c_1,c_2,c_3为任意常数$\n",
    "\n"
   ]
  },
  {
   "cell_type": "markdown",
   "metadata": {},
   "source": [
    "2.（3）\n",
    "\n",
    "特征方程为$λ^5-4λ^3=0或λ^3(λ^2-4)=0$,\n",
    "\n",
    "可知特征根为$λ_1=λ_2=λ_3=0,λ_4=2,λ_5=-2$\n",
    "\n",
    "所以方程的通解为：$x=c_1+c_2t+c_3t^2+c_4e^{2t}+c_5e^{-2t}，其中c_1,c_2,c_3,c_4,c_5为任意常数$"
   ]
  },
  {
   "cell_type": "markdown",
   "metadata": {
    "collapsed": true
   },
   "source": [
    "# <font color='red'>A  1/11"
   ]
  },
  {
   "cell_type": "code",
   "execution_count": null,
   "metadata": {
    "collapsed": true
   },
   "outputs": [],
   "source": []
  }
 ],
 "metadata": {
  "kernelspec": {
   "display_name": "SageMath 7.3",
   "language": "",
   "name": "sagemath"
  },
  "language_info": {
   "codemirror_mode": {
    "name": "ipython",
    "version": 2
   },
   "file_extension": ".py",
   "mimetype": "text/x-python",
   "name": "python",
   "nbconvert_exporter": "python",
   "pygments_lexer": "ipython2",
   "version": "2.7.10"
  }
 },
 "nbformat": 4,
 "nbformat_minor": 0
}
