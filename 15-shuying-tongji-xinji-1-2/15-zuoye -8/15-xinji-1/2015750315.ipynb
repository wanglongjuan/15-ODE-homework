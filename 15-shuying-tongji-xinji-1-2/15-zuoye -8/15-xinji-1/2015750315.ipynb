{
 "cells": [
  {
   "cell_type": "markdown",
   "metadata": {},
   "source": [
    "                    计一  唐凯  2015750315"
   ]
  },
  {
   "cell_type": "markdown",
   "metadata": {},
   "source": [
    "1.\n",
    "特征方程为 $ \\lambda^3 - 3a\\lambda^2+3a^2\\lambda -a^3 =0 $ ,它有三重根 $ \\lambda = a $ ，因此方程的通解为  $x =c_1e^{at} + c_2te^{at} + c_3t^2e^{at} $ , 其中 $ c_1 ,c_2 ,c_3 $ 为任意常数。"
   ]
  },
  {
   "cell_type": "markdown",
   "metadata": {},
   "source": [
    "2.\n",
    "特征方程为 $ \\lambda^5 - 4\\lambda^3 =0 $ ，它有根 $ \\lambda_{1,2,3} =0 ,\\lambda_4 =2,\\lambda_5=-2,$ 因此方程的通解为 $ x =c_1e^{2t} + c_2te^{-2t} + c_3t^2+c_4t +c_5 $ , 其中 $ c_1 ,c_2 ,c_3 ,c_4,c_5 $ 为任意常数。"
   ]
  },
  {
   "cell_type": "markdown",
   "metadata": {
    "collapsed": true
   },
   "source": [
    "# <font color='red'>A  1/11"
   ]
  },
  {
   "cell_type": "code",
   "execution_count": null,
   "metadata": {
    "collapsed": true
   },
   "outputs": [],
   "source": []
  }
 ],
 "metadata": {
  "kernelspec": {
   "display_name": "SageMath 7.3",
   "language": "",
   "name": "sagemath"
  },
  "language_info": {
   "codemirror_mode": {
    "name": "ipython",
    "version": 2
   },
   "file_extension": ".py",
   "mimetype": "text/x-python",
   "name": "python",
   "nbconvert_exporter": "python",
   "pygments_lexer": "ipython2",
   "version": "2.7.10"
  }
 },
 "nbformat": 4,
 "nbformat_minor": 0
}
