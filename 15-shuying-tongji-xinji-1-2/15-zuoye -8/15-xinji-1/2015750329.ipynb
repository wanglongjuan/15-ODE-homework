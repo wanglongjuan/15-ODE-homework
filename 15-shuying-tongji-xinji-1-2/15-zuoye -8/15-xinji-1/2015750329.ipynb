{
 "cells": [
  {
   "cell_type": "markdown",
   "metadata": {},
   "source": [
    "# 第七次常微分作业"
   ]
  },
  {
   "cell_type": "markdown",
   "metadata": {},
   "source": [
    "## P.164\n",
    "## 2.求解下列常系数线性微分方程。"
   ]
  },
  {
   "cell_type": "markdown",
   "metadata": {},
   "source": [
    "### (1).$x'''-3ax''+3a^2x'-a^3x=0$"
   ]
  },
  {
   "cell_type": "markdown",
   "metadata": {},
   "source": [
    "**解**\n",
    "\n",
    "$$ 特征方程：\\lambda ^3-3a\\lambda ^2+3a\\lambda ^2-a^3=0$$\n",
    "\n",
    "$$ 有三重跟 \\lambda =a $$\n",
    "\n",
    "$$ 解得 x=c_1e^{at}+c_2te^{at}+c_3t^2e^{at} $$"
   ]
  },
  {
   "cell_type": "markdown",
   "metadata": {},
   "source": [
    "### (3).$x^{(5)}-4x'''=0$"
   ]
  },
  {
   "cell_type": "markdown",
   "metadata": {},
   "source": [
    "**解**\n",
    "\n",
    "$$ 特征方程：\\lambda ^5-4\\lambda ^3=0 $$\n",
    "\n",
    "$$ 有三重跟 \\lambda =0，\\lambda _4=2,\\lambda _5=-2$$\n",
    "\n",
    "$$ 解得x=c_1e^{2t}+c_2e^{-2t}+c_3t^2+c_4t+c_5 $$"
   ]
  },
  {
   "cell_type": "markdown",
   "metadata": {},
   "source": [
    "# <font color='red'>A  1/11"
   ]
  },
  {
   "cell_type": "code",
   "execution_count": null,
   "metadata": {
    "collapsed": true
   },
   "outputs": [],
   "source": []
  }
 ],
 "metadata": {
  "kernelspec": {
   "display_name": "SageMath 7.3",
   "language": "",
   "name": "sagemath"
  },
  "language_info": {
   "codemirror_mode": {
    "name": "ipython",
    "version": 2
   },
   "file_extension": ".py",
   "mimetype": "text/x-python",
   "name": "python",
   "nbconvert_exporter": "python",
   "pygments_lexer": "ipython2",
   "version": "2.7.10"
  }
 },
 "nbformat": 4,
 "nbformat_minor": 0
}
