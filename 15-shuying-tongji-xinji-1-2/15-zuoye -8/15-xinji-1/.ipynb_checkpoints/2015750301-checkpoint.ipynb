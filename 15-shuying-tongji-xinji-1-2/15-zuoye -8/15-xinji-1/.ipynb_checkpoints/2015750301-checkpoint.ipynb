{
 "cells": [
  {
   "cell_type": "markdown",
   "metadata": {},
   "source": [
    "$p163.2.(1)$"
   ]
  },
  {
   "cell_type": "markdown",
   "metadata": {},
   "source": [
    "$该等式的特征方程为\\lambda^4-5\\lambda^2+4=0,其根为\\lambda_1=2,\\lambda_2=-2,\\lambda_3=1,\\lambda_4=-1,所以方程的通解为x=ae^{2t}+be^{-2t}+ce^{t}+de^{-t},且a,b,c,d,皆为常数$"
   ]
  },
  {
   "cell_type": "markdown",
   "metadata": {},
   "source": [
    "$(2)$"
   ]
  },
  {
   "cell_type": "markdown",
   "metadata": {},
   "source": [
    "$该等式的特征方程为\\lambda^3-3a\\lambda^2+3a^2\\lambda-a^3=0,其根为\\lambda_1=\\lambda_2=\\lambda_3=0,\\lambda_4=2,\\lambda_5=-2,所以方程的通解为x=ae^{2t}+b^{-2t}+ct^2+dt+e,且a,b,c,d,e皆为常数$"
   ]
  },
  {
   "cell_type": "markdown",
   "metadata": {
    "collapsed": true
   },
   "source": [
    "# <font color='red'>A  1/11"
   ]
  },
  {
   "cell_type": "code",
   "execution_count": null,
   "metadata": {
    "collapsed": true
   },
   "outputs": [],
   "source": []
  }
 ],
 "metadata": {
  "kernelspec": {
   "display_name": "SageMath 7.3",
   "language": "",
   "name": "sagemath"
  },
  "language_info": {
   "codemirror_mode": {
    "name": "ipython",
    "version": 2
   },
   "file_extension": ".py",
   "mimetype": "text/x-python",
   "name": "python",
   "nbconvert_exporter": "python",
   "pygments_lexer": "ipython2",
   "version": "2.7.10"
  }
 },
 "nbformat": 4,
 "nbformat_minor": 0
}
