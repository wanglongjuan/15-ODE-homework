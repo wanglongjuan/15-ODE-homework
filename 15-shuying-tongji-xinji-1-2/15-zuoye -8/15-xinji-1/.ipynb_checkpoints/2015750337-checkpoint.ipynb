{
 "cells": [
  {
   "cell_type": "markdown",
   "metadata": {
    "collapsed": false
   },
   "source": [
    "# P164\n",
    "## 2\n",
    "### (2)\n",
    "解："
   ]
  },
  {
   "cell_type": "markdown",
   "metadata": {},
   "source": [
    "特征方程为：$\\lambda ^3-3a\\lambda ^2+3a^2\\lambda -a^3=0$\n",
    "\n",
    "$\\therefore$$\n",
    "\\lambda =a $\n",
    "\n",
    "$\\therefore$\n",
    "通解为：\n",
    "$$x=c_1e^{at}+c_2te^{at}+c_3t^2e^at$$"
   ]
  },
  {
   "cell_type": "markdown",
   "metadata": {},
   "source": [
    "### (3)\n",
    "解：\n"
   ]
  },
  {
   "cell_type": "markdown",
   "metadata": {},
   "source": [
    "特征方程为：$\\lambda ^5-4\\lambda^3=0$\n",
    "\n",
    "$\\therefore$\n",
    "$\\lambda_1=0 \n",
    "\\lambda_2=0 \n",
    "\\lambda_3=0 \n",
    "\\lambda_4=2 \n",
    "\\lambda_5=-2\n",
    "$\n",
    "\n",
    "\n",
    "$\\therefore$\n",
    "通解为：\n",
    "$$x=c_1e^{2t}+c_2e^{-2t}+c_3t^2+c_4t+c_5$$"
   ]
  },
  {
   "cell_type": "markdown",
   "metadata": {
    "collapsed": true
   },
   "source": [
    "# <font color='red'>A  1/11"
   ]
  },
  {
   "cell_type": "code",
   "execution_count": null,
   "metadata": {
    "collapsed": true
   },
   "outputs": [],
   "source": []
  }
 ],
 "metadata": {
  "kernelspec": {
   "display_name": "Python 2",
   "language": "python",
   "name": "python2"
  },
  "language_info": {
   "codemirror_mode": {
    "name": "ipython",
    "version": 2
   },
   "file_extension": ".py",
   "mimetype": "text/x-python",
   "name": "python",
   "nbconvert_exporter": "python",
   "pygments_lexer": "ipython2",
   "version": "2.7.10"
  }
 },
 "nbformat": 4,
 "nbformat_minor": 0
}
