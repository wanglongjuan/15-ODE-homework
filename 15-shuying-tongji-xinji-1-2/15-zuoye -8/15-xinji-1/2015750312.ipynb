{
 "cells": [
  {
   "cell_type": "markdown",
   "metadata": {},
   "source": [
    "**2.解：（2）** 特征方程为 $$ \\lambda^3-3a\\lambda^2+3a^2\\lambda-a^3=0 $$ 它有三重根 $ \\lambda=a $\n",
    "\n",
    "∴方程的通解为 $$ x=c_1e^{at}+c_2te^{at}+c_3t^2e^{at} $$\n",
    "\n",
    "$ c_1,c_2,c_3 $ 为任意常数"
   ]
  },
  {
   "cell_type": "markdown",
   "metadata": {},
   "source": [
    "**（3）**  特征方程为 $$ \\lambda^5-4\\lambda^3=0 $$ 有根 $ \\lambda_{1,2,3}=0,\\lambda_4=2,\\lambda_5=-2, $\n",
    "\n",
    "∴方程的通解为 $$ x=c_1e^{2t}+c_2e^{-2t}+c_3t^2+c_4t+c_5 $$\n",
    "\n",
    "$ c_1,c_2,c_3,c_4,c_5 $ 为任意常数"
   ]
  },
  {
   "cell_type": "markdown",
   "metadata": {},
   "source": [
    "# <font color='red'>A  1/11"
   ]
  },
  {
   "cell_type": "markdown",
   "metadata": {},
   "source": []
  }
 ],
 "metadata": {
  "kernelspec": {
   "display_name": "SageMath 7.3",
   "language": "",
   "name": "sagemath"
  },
  "language_info": {
   "codemirror_mode": {
    "name": "ipython",
    "version": 2
   },
   "file_extension": ".py",
   "mimetype": "text/x-python",
   "name": "python",
   "nbconvert_exporter": "python",
   "pygments_lexer": "ipython2",
   "version": "2.7.10"
  }
 },
 "nbformat": 4,
 "nbformat_minor": 0
}
