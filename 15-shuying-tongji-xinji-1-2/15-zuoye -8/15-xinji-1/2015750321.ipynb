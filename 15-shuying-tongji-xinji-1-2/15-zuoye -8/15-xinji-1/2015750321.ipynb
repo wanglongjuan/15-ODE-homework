{
 "cells": [
  {
   "cell_type": "markdown",
   "metadata": {
    "collapsed": false
   },
   "source": [
    "**$P_{164}$**\n",
    "\n",
    "2.求解下列常系数线性微分方程."
   ]
  },
  {
   "cell_type": "markdown",
   "metadata": {},
   "source": [
    "(2).$x'''-3ax''+3a^2x'-a^3x=0;  $\n",
    "\n",
    "解：特征方程为$\\lambda^4 -3a\\lambda^2+3a^2\\lambda -a^3 =0,它有三重根\\lambda =a,因此方程的通解为x=c_1 e^{at}+c_2te^{at}+c_3t^2e^{at},其中c_1,c_2,c_3为任意常数。 $\n",
    "\n"
   ]
  },
  {
   "cell_type": "markdown",
   "metadata": {},
   "source": [
    "(3)$x^{(5)}-4x'''=0 ;$\n",
    "\n",
    "\n",
    "$解：特征方程为\\lambda^5 -4\\lambda^3=0,它有根\\lambda_{1,2,3}=0 ,\\lambda_4 =2,\\lambda_5=-2 ,因此方程的通解为x=c_1e^{2t} +c_2e^{-2t}+c_3t^2+c^4+c^5,其中c_1,c_2,c_3,c_4,c_5为任意常数.$\n"
   ]
  },
  {
   "cell_type": "markdown",
   "metadata": {
    "collapsed": true
   },
   "source": [
    "# <font color='red'>A  1/11"
   ]
  },
  {
   "cell_type": "code",
   "execution_count": null,
   "metadata": {
    "collapsed": true
   },
   "outputs": [],
   "source": []
  }
 ],
 "metadata": {
  "kernelspec": {
   "display_name": "Python 2",
   "language": "python",
   "name": "python2"
  },
  "language_info": {
   "codemirror_mode": {
    "name": "ipython",
    "version": 2
   },
   "file_extension": ".py",
   "mimetype": "text/x-python",
   "name": "python",
   "nbconvert_exporter": "python",
   "pygments_lexer": "ipython2",
   "version": "2.7.10"
  }
 },
 "nbformat": 4,
 "nbformat_minor": 0
}
