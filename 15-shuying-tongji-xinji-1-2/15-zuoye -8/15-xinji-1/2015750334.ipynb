{
 "cells": [
  {
   "cell_type": "markdown",
   "metadata": {},
   "source": [
    "2.求下列常系数线性微分方程（2）$x'''-3 a x''+3 a^2 x'-a^3 x=0$"
   ]
  },
  {
   "cell_type": "markdown",
   "metadata": {},
   "source": [
    "解：其特征方程为：$$\\lambda^3-3 a \\lambda^2+3 a^2 \\lambda-a^3=0$$$$(\\lambda-a)^3=0$$$$\\lambda=a(三重根)$$所以方程的通解为$$x=e^{a t}(c_1+c_2 t+c_3 t^2)(其中c_1、c_2、c_3是任意常数)$$"
   ]
  },
  {
   "cell_type": "markdown",
   "metadata": {},
   "source": [
    "2.求下列常系数线性微分方程（3）$x^{(5)}-4 x'''=0$"
   ]
  },
  {
   "cell_type": "markdown",
   "metadata": {},
   "source": [
    "解：其特征方程为：$$\\lambda^5-4 \\lambda^3=0$$$$\\lambda_1=\\lambda_2=\\lambda_3=0 \\lambda_4=2 \\lambda_5=-2$$所以方程的通解为：$$x=c_1+c_2 t+c_3 t^2+c_4 e^{2 t}+c_5 e^{- 2 t}(其中c_1、c_2、c_3、c_4、c_5是任意常数)$$"
   ]
  },
  {
   "cell_type": "markdown",
   "metadata": {},
   "source": [
    "# <font color='red'>A  1/11"
   ]
  },
  {
   "cell_type": "code",
   "execution_count": null,
   "metadata": {
    "collapsed": true
   },
   "outputs": [],
   "source": []
  }
 ],
 "metadata": {
  "kernelspec": {
   "display_name": "SageMath 7.3",
   "language": "",
   "name": "sagemath"
  },
  "language_info": {
   "codemirror_mode": {
    "name": "ipython",
    "version": 2
   },
   "file_extension": ".py",
   "mimetype": "text/x-python",
   "name": "python",
   "nbconvert_exporter": "python",
   "pygments_lexer": "ipython2",
   "version": "2.7.10"
  }
 },
 "nbformat": 4,
 "nbformat_minor": 0
}
