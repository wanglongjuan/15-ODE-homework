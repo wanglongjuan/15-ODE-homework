{
 "cells": [
  {
   "cell_type": "markdown",
   "metadata": {},
   "source": [
    "# 2015750235 胡欣欣 P164"
   ]
  },
  {
   "cell_type": "markdown",
   "metadata": {},
   "source": [
    "2.求解下列常系数线性微分方程：\n",
    "\n",
    "\n",
    "\n",
    "\n",
    "\n",
    "$(2)x'''-3ax''+3a^2x'-a^3x=0$"
   ]
  },
  {
   "cell_type": "markdown",
   "metadata": {},
   "source": [
    "解：$特征方程(\\lambda-a)^3=0有根\\lambda=a有四重根$\n",
    "\n",
    "\n",
    "因此通解为\n",
    "$$x=(c_1+c_2t+c_3t^2)e^{at}$$\n",
    "其中$c_1，c_2.c_3$为任意常数。"
   ]
  },
  {
   "cell_type": "markdown",
   "metadata": {},
   "source": [
    "$(3)x^{(5)}-4x'''=0$\n",
    "\n",
    "\n",
    "$解：特征方程\\lambda^3(\\lambda-2)(\\lambda+2)=0有根\\lambda_1=2,\\lambda_2=-2,\\lambda_3=\\lambda_4=\\lambda_5=0,是三重根$"
   ]
  },
  {
   "cell_type": "markdown",
   "metadata": {},
   "source": [
    "因此通解为\n",
    "$$x=c_1e^{2t}+c_2e^{-2t}+c_3+c_4t+c_5t^2;$$\n",
    "\n",
    "其中$c_1，c_2，c_3，c_4，c_5$为任意常数。"
   ]
  },
  {
   "cell_type": "markdown",
   "metadata": {
    "collapsed": true
   },
   "source": [
    "# <font color='red'>A  1/11"
   ]
  },
  {
   "cell_type": "code",
   "execution_count": null,
   "metadata": {
    "collapsed": true
   },
   "outputs": [],
   "source": []
  }
 ],
 "metadata": {
  "kernelspec": {
   "display_name": "SageMath 7.3",
   "language": "",
   "name": "sagemath"
  },
  "language_info": {
   "codemirror_mode": {
    "name": "ipython",
    "version": 2
   },
   "file_extension": ".py",
   "mimetype": "text/x-python",
   "name": "python",
   "nbconvert_exporter": "python",
   "pygments_lexer": "ipython2",
   "version": "2.7.10"
  }
 },
 "nbformat": 4,
 "nbformat_minor": 0
}
