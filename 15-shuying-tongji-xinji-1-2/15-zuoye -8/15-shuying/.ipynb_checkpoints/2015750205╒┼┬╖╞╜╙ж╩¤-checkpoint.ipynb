{
 "cells": [
  {
   "cell_type": "markdown",
   "metadata": {},
   "source": [
    "**p164**"
   ]
  },
  {
   "cell_type": "markdown",
   "metadata": {},
   "source": [
    "**2(2)**"
   ]
  },
  {
   "cell_type": "markdown",
   "metadata": {},
   "source": [
    "$设方程的解为e^{\\lambda t}$\n",
    "$原式特征方程为$\n",
    "$$\\lambda^4-2a\\lambda^2+3a^2\\lambda-a^3$$\n",
    "得$$\\lambda_1=\\lambda_2=\\lambda_3=0,\\lambda_4=2,\\lambda_5=-2$$\n",
    "所以通解为$$x=c_1+c_2t+c_3t^2+c_4e^{2t}+c_5e^{-2t}$$\n",
    "c_1，c_2,c_3,c_4为任一常数"
   ]
  },
  {
   "cell_type": "markdown",
   "metadata": {},
   "source": [
    "**(3)**"
   ]
  },
  {
   "cell_type": "markdown",
   "metadata": {},
   "source": [
    "$设方程的解为e^{\\lambda t}$\n",
    "原式的特征方程为\n",
    "$$\\lambda^5-4\\lambda^3=0$$\n",
    "得$$\\lambda_1=\\lambda_2=\\lambda_3=0,\\lambda_4=2,\\lambda_5=-2$$\n",
    "所以方程通解为$$x=c_1+c_2t+c_3t^2+c_4e^{2t}+c_5e^{-2}$$"
   ]
  },
  {
   "cell_type": "markdown",
   "metadata": {},
   "source": [
    "# <font color='red'>A  1/11"
   ]
  },
  {
   "cell_type": "code",
   "execution_count": null,
   "metadata": {
    "collapsed": true
   },
   "outputs": [],
   "source": []
  }
 ],
 "metadata": {
  "kernelspec": {
   "display_name": "Python 2",
   "language": "python",
   "name": "python2"
  },
  "language_info": {
   "codemirror_mode": {
    "name": "ipython",
    "version": 2
   },
   "file_extension": ".py",
   "mimetype": "text/x-python",
   "name": "python",
   "nbconvert_exporter": "python",
   "pygments_lexer": "ipython2",
   "version": "2.7.10"
  }
 },
 "nbformat": 4,
 "nbformat_minor": 0
}
