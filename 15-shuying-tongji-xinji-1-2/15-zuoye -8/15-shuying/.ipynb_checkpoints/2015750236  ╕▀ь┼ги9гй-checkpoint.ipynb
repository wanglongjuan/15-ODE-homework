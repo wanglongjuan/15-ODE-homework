{
 "cells": [
  {
   "cell_type": "markdown",
   "metadata": {},
   "source": [
    "# 1.求解下列常系数线性微分方程："
   ]
  },
  {
   "cell_type": "markdown",
   "metadata": {},
   "source": [
    "## (1)$x'''-3ax''+3a^2x'-a^3 x=0$"
   ]
  },
  {
   "cell_type": "markdown",
   "metadata": {},
   "source": [
    "特征方程为$$\\lambda^3-3a\\lambda^2+3a^2\\lambda-a^3=0即得(\\lambda-a)^3=0$$\n",
    "即得特征根为$$\\lambda_1=\\lambda_2=\\lambda_3=a$$\n",
    "\n",
    "当$a\\not=0$时，方程的通解为$x=(c_1+c_2+c_3)e^{at}$\n",
    "\n",
    "当$a=0$时，方程的通解为$x=c_1+c_2 t+c_3 t^2$\n",
    "\n",
    "这里$c_1,c_2,c_3$是任意常数"
   ]
  },
  {
   "cell_type": "markdown",
   "metadata": {},
   "source": [
    "## (2)$x^{(5)}-4x'''=0$"
   ]
  },
  {
   "cell_type": "markdown",
   "metadata": {},
   "source": [
    "特征方程为$$\\lambda^5-4\\lambda^3=0$$\n",
    "即$\\lambda^3(\\lambda^2-4)=0$\n",
    "即得特征根为$\\lambda_1=\\lambda_2=\\lambda_3=0,\\lambda_4=2,\\lambda_5=-2$\n",
    "\n",
    "所以方程的通解为$$x=c_1+c_2 t+c_3 t^2+c_4 e^{2t}+c_5 e^{-2t}$$\n",
    "这里$c_1,c_2,c_3,c_4,c_5$是任意常数"
   ]
  },
  {
   "cell_type": "markdown",
   "metadata": {
    "collapsed": true
   },
   "source": [
    "# <font color='red'>A  1/11"
   ]
  },
  {
   "cell_type": "code",
   "execution_count": null,
   "metadata": {
    "collapsed": true
   },
   "outputs": [],
   "source": []
  }
 ],
 "metadata": {
  "kernelspec": {
   "display_name": "SageMath 7.3",
   "language": "",
   "name": "sagemath"
  },
  "language_info": {
   "codemirror_mode": {
    "name": "ipython",
    "version": 2
   },
   "file_extension": ".py",
   "mimetype": "text/x-python",
   "name": "python",
   "nbconvert_exporter": "python",
   "pygments_lexer": "ipython2",
   "version": "2.7.10"
  }
 },
 "nbformat": 4,
 "nbformat_minor": 0
}
