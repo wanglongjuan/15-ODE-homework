{
 "cells": [
  {
   "cell_type": "markdown",
   "metadata": {},
   "source": [
    "**数学与应用数学班**"
   ]
  },
  {
   "cell_type": "markdown",
   "metadata": {},
   "source": [
    "张杰 2015750221"
   ]
  },
  {
   "cell_type": "markdown",
   "metadata": {},
   "source": [
    "P164——2"
   ]
  },
  {
   "cell_type": "markdown",
   "metadata": {},
   "source": [
    "（2）$x'''-3ax''+3a^2x'-a^3x=0$"
   ]
  },
  {
   "cell_type": "markdown",
   "metadata": {},
   "source": [
    "**解：**该方程的特征方程为$$\\lambda^3-2a\\lambda^2+3a^2\\lambda-a^3=0$$或$$(\\lambda-a)^3=0$$解得其特征根为$$\\lambda_1=\\lambda_2=\\lambda_3=0\\lambda_4=2,\\lambda_5=-2$$"
   ]
  },
  {
   "cell_type": "markdown",
   "metadata": {},
   "source": [
    "$\\therefore$该方程的通解为$$x=c_1+c_2t+c_3t^2+c_4e^{2t}+c_5e^{-2t}$$"
   ]
  },
  {
   "cell_type": "markdown",
   "metadata": {},
   "source": [
    "(3)$x^{(5)}-4x'''=0$"
   ]
  },
  {
   "cell_type": "markdown",
   "metadata": {},
   "source": [
    "**解：**该方程的特征方程为$$\\lambda^5-4\\lambda^3=\\lambda^3(\\lambda+2)(\\lambda-2)=0$$解得其特征根为$$\\lambda_1=0,\\lambda_2=2,\\lambda_3=3$$"
   ]
  },
  {
   "cell_type": "markdown",
   "metadata": {},
   "source": [
    "$\\therefore$该方程的通解为$$x=c_1+c_2t+c_3t^2+c_4e^{2t}+c_5e^{-2t}$$"
   ]
  },
  {
   "cell_type": "markdown",
   "metadata": {
    "collapsed": true
   },
   "source": [
    "# <font color='red'>A  1/11"
   ]
  },
  {
   "cell_type": "code",
   "execution_count": null,
   "metadata": {
    "collapsed": true
   },
   "outputs": [],
   "source": []
  }
 ],
 "metadata": {
  "kernelspec": {
   "display_name": "SageMath 7.3",
   "language": "",
   "name": "sagemath"
  },
  "language_info": {
   "codemirror_mode": {
    "name": "ipython",
    "version": 2
   },
   "file_extension": ".py",
   "mimetype": "text/x-python",
   "name": "python",
   "nbconvert_exporter": "python",
   "pygments_lexer": "ipython2",
   "version": "2.7.10"
  }
 },
 "nbformat": 4,
 "nbformat_minor": 0
}
