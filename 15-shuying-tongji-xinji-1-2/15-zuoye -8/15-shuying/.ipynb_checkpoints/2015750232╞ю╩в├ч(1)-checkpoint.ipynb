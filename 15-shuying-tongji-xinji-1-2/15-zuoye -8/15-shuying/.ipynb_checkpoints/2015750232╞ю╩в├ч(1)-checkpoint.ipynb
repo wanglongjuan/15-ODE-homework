{
 "cells": [
  {
   "cell_type": "markdown",
   "metadata": {},
   "source": [
    "**第九周**\n",
    "\n",
    "**P164  2、求解下列常系数线性微分方程。**\n",
    "\n",
    "**（2）$x'''-3ax''+3a^2x'-a^3x=0$**\n",
    "\n",
    "**（3）$x^{(5)}-4x'''=0$**"
   ]
  },
  {
   "cell_type": "markdown",
   "metadata": {},
   "source": [
    "**解：**\n",
    "\n",
    "（2）\n",
    "\n",
    "方程的特征方程为：$$λ^3-3a^2λ+3a^2λ-a^3=0$$\n",
    "\n",
    "得$$(λ-a)^3=0$$\n",
    "\n",
    "所以特征方程有$λ=a$的三重根。\n",
    "\n",
    "所以方程的通解为$$x=(c_1+c_2t+c_3t^2)e^{at}，其中c_1,c_2,c_3为任意常数。$$\n",
    "\n",
    "（3）\n",
    "\n",
    "方程的特征方程为：$$λ^5-4λ^3=0$$\n",
    "\n",
    "得$$λ^3(λ-2)(λ+2)=0$$\n",
    "\n",
    "所以特征方程的解为：$λ=0,2,-2，$其中0为三重根。\n",
    "\n",
    "所以方程的通解为：$$x=c_1+c_2t+c_3t^2+c_4e^{2t}+c_5e^{-2t},其中c_1,c_2,c_3,c_4,c_5为任意常数。$$\n",
    "\n"
   ]
  },
  {
   "cell_type": "markdown",
   "metadata": {
    "collapsed": true
   },
   "source": [
    "# <font color='red'>A  1/11"
   ]
  },
  {
   "cell_type": "code",
   "execution_count": null,
   "metadata": {
    "collapsed": true
   },
   "outputs": [],
   "source": []
  }
 ],
 "metadata": {
  "kernelspec": {
   "display_name": "SageMath 7.3",
   "language": "",
   "name": "sagemath"
  },
  "language_info": {
   "codemirror_mode": {
    "name": "ipython",
    "version": 2
   },
   "file_extension": ".py",
   "mimetype": "text/x-python",
   "name": "python",
   "nbconvert_exporter": "python",
   "pygments_lexer": "ipython2",
   "version": "2.7.10"
  }
 },
 "nbformat": 4,
 "nbformat_minor": 0
}
