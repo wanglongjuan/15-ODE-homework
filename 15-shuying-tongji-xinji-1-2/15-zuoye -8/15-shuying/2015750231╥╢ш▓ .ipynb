{
 "cells": [
  {
   "cell_type": "markdown",
   "metadata": {
    "collapsed": false
   },
   "source": [
    "一，求解下列常系数线性微分方程。\n",
    "\n",
    "1、$x^(4)-5x\"+4x=0$\n",
    "\n",
    "解:由题意可知特征方程为\n",
    "$$\n",
    "\\lambda^4-5\\lambda^2+4=0\n",
    "或\n",
    "(\\lambda^2-1)(\\lambda^2-4)=0\n",
    "$$\n",
    "解得：$$\\lambda_1=1,\\lambda_2=-1,\\lambda_3=2,\\lambda_4=-2$$\n",
    "有四个根，故方程的通解为：\n",
    "$$x=c_1e^t+c_2e^(-t)+c_3e^{2t}+c_4e^{-2t}$$\n",
    "其中$c_1,c_2,c_3,c_4$为任意常数.\n",
    "\n",
    "2、\n",
    "$x\"'-3ax\"+3a^2x’-a^3x=0$\n",
    "\n",
    "解：由题意可知特征方程为\n",
    "$$\n",
    "\\lambda^3-2a\\lambda^2+3a^2\\lambda-a^3=0\n",
    "或\n",
    "(\\lambda-a)^3=0\n",
    "$$\n",
    "解得：\n",
    "$$\\lambda=a$$\n",
    "故原方程的通解为：\n",
    "$$x=(c_1+c_2t+c_3t^2)e^{at}$$\n",
    "3、\n",
    "$x^(5)-4x\"'=0$\n",
    "\n",
    "解:由题意可知特征方程为\n",
    "$$\n",
    "\\lambda^5-4\\lambda^3=0\n",
    "$$\n",
    "解得：\n",
    "$$\\lambda_1=\\lambda_2=\\lambda_3=0,\\lambda_4=2,\\lambda_5=-2$$\n",
    "故原方程的通解为：\n",
    "$$x=c_1+c_2t+c_3t^2+c_4e^{2t}+c_5e^{-2t}$$\n",
    "其中$c_1,c_2,c_3,c_4,c_5$为任意常数\n",
    "$$"
   ]
  },
  {
   "cell_type": "markdown",
   "metadata": {
    "collapsed": true
   },
   "source": [
    "# <font color='red'>A + 1/11"
   ]
  },
  {
   "cell_type": "code",
   "execution_count": null,
   "metadata": {
    "collapsed": true
   },
   "outputs": [],
   "source": []
  }
 ],
 "metadata": {
  "kernelspec": {
   "display_name": "Python 2",
   "language": "python",
   "name": "python2"
  },
  "language_info": {
   "codemirror_mode": {
    "name": "ipython",
    "version": 2
   },
   "file_extension": ".py",
   "mimetype": "text/x-python",
   "name": "python",
   "nbconvert_exporter": "python",
   "pygments_lexer": "ipython2",
   "version": "2.7.10"
  }
 },
 "nbformat": 4,
 "nbformat_minor": 0
}
