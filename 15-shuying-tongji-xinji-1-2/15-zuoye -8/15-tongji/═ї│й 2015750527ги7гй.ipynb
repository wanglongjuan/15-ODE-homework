{
 "cells": [
  {
   "cell_type": "markdown",
   "metadata": {},
   "source": [
    "# $$常微分作业$$ #\n",
    "##  班级： 统计班     \n",
    "## 姓名：王畅    \n",
    "## 学号：2015750527"
   ]
  },
  {
   "cell_type": "markdown",
   "metadata": {},
   "source": [
    "## 一.求解下列常系数线性微分方程。\n",
    "## (1)$x^{(4)}-5x^{\\prime\\prime}+4x=0$\n",
    "   \n",
    "  # **解：**特征方程$$\\lambda^4-5\\lambda^2+4=0$$\n",
    "   \n",
    "   可换成$$(\\lambda^2-1)(\\lambda^2-4)=0$$\n",
    "\n",
    "  则特征方程的根为：$$\\lambda_1=1,\\lambda_2=-1,\\lambda_3=2,\\lambda_4=-2$$\n",
    " \n",
    "  均为单根。\n",
    "  \n",
    "  得方程解\n",
    "  \n",
    "  $$x=c_1e^t+c_2e^{-t}+c_3e^{2t}+c_4e^{-2t}$$"
   ]
  },
  {
   "cell_type": "markdown",
   "metadata": {},
   "source": [
    "## (2)$x^{(5)}-4x^{\\prime\\prime\\prime}=0$\n",
    "\n",
    " # **解：**特征方程$$\\lambda^5-4\\lambda^3=0$$可换成$$\\lambda^3(\\lambda^2-4)=0$$\n",
    "\n",
    "则特征根是三重特征根$$\\lambda=0与\\lambda=±2$$\n",
    "\n",
    "所以特征方程的三重零根对应于三个线性无关解$1,t,t^2$\n",
    "\n",
    "所以得方程解$$x=c_1+c_2t+c_3t^2+c_4e^{2t}+c_5e^{-2t}$$\n"
   ]
  },
  {
   "cell_type": "markdown",
   "metadata": {
    "collapsed": true
   },
   "source": [
    "# <font color='red'>A  1/11"
   ]
  },
  {
   "cell_type": "code",
   "execution_count": null,
   "metadata": {
    "collapsed": true
   },
   "outputs": [],
   "source": []
  }
 ],
 "metadata": {
  "kernelspec": {
   "display_name": "SageMath 7.3",
   "language": "",
   "name": "sagemath"
  },
  "language_info": {
   "codemirror_mode": {
    "name": "ipython",
    "version": 2
   },
   "file_extension": ".py",
   "mimetype": "text/x-python",
   "name": "python",
   "nbconvert_exporter": "python",
   "pygments_lexer": "ipython2",
   "version": "2.7.10"
  }
 },
 "nbformat": 4,
 "nbformat_minor": 0
}
