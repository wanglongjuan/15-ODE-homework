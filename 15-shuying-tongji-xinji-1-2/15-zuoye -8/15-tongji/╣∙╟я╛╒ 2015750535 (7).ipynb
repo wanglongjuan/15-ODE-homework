{
 "cells": [
  {
   "cell_type": "markdown",
   "metadata": {},
   "source": [
    "# 常微分作业七\n",
    "\n",
    "**P164页**\n",
    "\n",
    "**第二题**\n",
    "\n",
    "$求解下列常系数线性微分方程。$\n",
    "\n",
    "$(2)x''''-3ax''+3a^2x'-a^3x=0$\n",
    "\n",
    "$解：用x=e^{\\lambda t}替代得到特征方程：$\n",
    "\n",
    "${\\lambda}^4-3a{\\lambda}^3+3a^2{\\lambda}-a^3=0$\n",
    "\n",
    "$因式分解得到式子：$\n",
    "\n",
    "${\\lambda}^2(\\lambda-a)+(-2a{\\lambda}+a^2)(\\lambda-a)=0$\n",
    "\n",
    "$(\\lambda-a)^3=0,得到\\lambda=a(其为三重根)$\n",
    "\n",
    "$所以方程的通解具有以下形状：$\n",
    "\n",
    "$x=(c_1+c_2t+c_3t^2)e^a,其中c_1，c_2，c_3为任意常数。$\n",
    "\n",
    "$(2)x^{(5)}-4x'''=0;$\n",
    "\n",
    "$解：用x=e^{\\lambda t}替代得到特征方程：$\n",
    "\n",
    "${\\lambda}^5-4{\\lambda}^3=0$\n",
    "\n",
    "$因式分解得到式子：$\n",
    "\n",
    "${\\lambda}^3(\\lambda+2)(\\lambda-2)=0$\n",
    "\n",
    "$\\lambda_1=0(其为三重根)，以及单根\\lambda_2=2,\\lambda_3=-2$\n",
    "\n",
    "$所以方程的通解具有以下形状：$\n",
    "\n",
    "$x=c_1+c_2t+c_3t^2+c_4e^{2t}+c_5e^{-2t}$"
   ]
  },
  {
   "cell_type": "markdown",
   "metadata": {
    "collapsed": true
   },
   "source": [
    "# <font color='red'>A  1/11"
   ]
  },
  {
   "cell_type": "code",
   "execution_count": null,
   "metadata": {
    "collapsed": true
   },
   "outputs": [],
   "source": []
  }
 ],
 "metadata": {
  "kernelspec": {
   "display_name": "SageMath 7.3",
   "language": "",
   "name": "sagemath"
  },
  "language_info": {
   "codemirror_mode": {
    "name": "ipython",
    "version": 2
   },
   "file_extension": ".py",
   "mimetype": "text/x-python",
   "name": "python",
   "nbconvert_exporter": "python",
   "pygments_lexer": "ipython2",
   "version": "2.7.10"
  }
 },
 "nbformat": 4,
 "nbformat_minor": 0
}
