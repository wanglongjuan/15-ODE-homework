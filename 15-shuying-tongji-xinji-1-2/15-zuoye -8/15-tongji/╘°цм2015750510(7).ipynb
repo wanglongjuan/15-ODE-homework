{
 "cells": [
  {
   "cell_type": "markdown",
   "metadata": {},
   "source": [
    "第七次作业\n",
    "2.求解下列常系数线性微分方程。  \n",
    "\n",
    "(2)$x'''-3ax''+3a^2x'-a^3x=0$  \n",
    "解：特征方程为  \n",
    "$$λ^3-3aλ^2+3a^2λ-a^3=0$$  \n",
    "它有三重根  \n",
    "$$λ=a$$  \n",
    "所以方程的通解为  \n",
    "$$x=c_1e^{at}+c_2te^{at}+c_3t^2e^{at}$$\n",
    "这里$c_1,c_2,c_3$是任意常数"
   ]
  },
  {
   "cell_type": "markdown",
   "metadata": {},
   "source": [
    "(3)$x^{(5)}-4x'''=0$  \n",
    "解：特征方程为  \n",
    "$$λ^5-4λ^3=0$$  \n",
    "它有根  \n",
    "$$λ_1=λ_2=λ_3=0,λ_4=2,λ_5=-2$$  \n",
    "因此方程的通解为  \n",
    "$$x=c_1e^{2t}+c_2e^{-2t}+c_3t^2+c_4t+c_5$$  \n",
    "其中$c_1,c_2,c_3,c_4,c_5$为任意常数"
   ]
  },
  {
   "cell_type": "markdown",
   "metadata": {
    "collapsed": true
   },
   "source": [
    "# <font color='red'>A  1/11"
   ]
  },
  {
   "cell_type": "code",
   "execution_count": null,
   "metadata": {
    "collapsed": true
   },
   "outputs": [],
   "source": []
  }
 ],
 "metadata": {
  "kernelspec": {
   "display_name": "SageMath 7.3",
   "language": "",
   "name": "sagemath"
  },
  "language_info": {
   "codemirror_mode": {
    "name": "ipython",
    "version": 2
   },
   "file_extension": ".py",
   "mimetype": "text/x-python",
   "name": "python",
   "nbconvert_exporter": "python",
   "pygments_lexer": "ipython2",
   "version": "2.7.10"
  }
 },
 "nbformat": 4,
 "nbformat_minor": 0
}
