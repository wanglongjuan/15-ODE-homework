{
 "cells": [
  {
   "cell_type": "markdown",
   "metadata": {},
   "source": [
    "２．（２）解：特征方$\\ｌａｍｂｄａ＾３－３ａ\\lａｍｂｄａ＾２＋３ａ＾２\\ｌａｍｂｄａ－ａ＾３＝０$，\n",
    "它有三重根＼ｌａｍｂｄａ＝ａ，因此方程的通解为ｘ＝ｃ＿１ｅ＾ａｔ＋ｃ＿２ｔｅ＾ａｔ＋ｃ＿３ｔ＾２＊ｅ＾ａｔ，\n",
    "其中ｃ＿１，，ｃ＿２，ｃ＿３为任意常数。\n"
   ]
  },
  {
   "cell_type": "markdown",
   "metadata": {},
   "source": [
    "（３）解：特征方程为＼ｌａｍｂｄａ＾５－４＼ｌａｍｂｄａ＾３＝０，它的特征根有＼ｌａｍｂｄａ＿１＝０，＼ｌａｍｂｄａ＿２＝０，＼ｌａｍｂｄａ＿３＝０，＼ｌａｍｂｄａ＿４＝２，＼ｌａｍｂｄａ＿５＝－２，所以方程的通解为\n",
    "ｘ＝ｃ＿１ｅ＾２ｔ＋ｃ＿２ｅ＾－２ｔ＋ｃ＿３ｔ＾２＋ｃ＿４ｔ＋ｃ＿５，其中ｃ＿１，ｃ＿２，ｃ＿３，ｃ＿４，ｃ＿５为任意常数。"
   ]
  },
  {
   "cell_type": "markdown",
   "metadata": {},
   "source": [
    "# <font color='red'>B  1/11  格式那么乱怎么写的"
   ]
  },
  {
   "cell_type": "code",
   "execution_count": null,
   "metadata": {
    "collapsed": true
   },
   "outputs": [],
   "source": []
  }
 ],
 "metadata": {
  "kernelspec": {
   "display_name": "SageMath 7.3",
   "language": "",
   "name": "sagemath"
  },
  "language_info": {
   "codemirror_mode": {
    "name": "ipython",
    "version": 2
   },
   "file_extension": ".py",
   "mimetype": "text/x-python",
   "name": "python",
   "nbconvert_exporter": "python",
   "pygments_lexer": "ipython2",
   "version": "2.7.10"
  }
 },
 "nbformat": 4,
 "nbformat_minor": 0
}
