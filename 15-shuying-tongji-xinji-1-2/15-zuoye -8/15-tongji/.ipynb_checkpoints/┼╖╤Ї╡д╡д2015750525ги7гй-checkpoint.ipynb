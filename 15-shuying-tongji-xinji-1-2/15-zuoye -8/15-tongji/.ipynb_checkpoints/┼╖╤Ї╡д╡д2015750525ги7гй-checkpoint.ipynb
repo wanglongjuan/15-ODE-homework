{
 "cells": [
  {
   "cell_type": "markdown",
   "metadata": {},
   "source": [
    "# $作业七$"
   ]
  },
  {
   "cell_type": "markdown",
   "metadata": {},
   "source": [
    "## $2.求解下列常系数线性微分方程：$"
   ]
  },
  {
   "cell_type": "markdown",
   "metadata": {},
   "source": [
    "### $ (2)x^{'''}-3ax^{''}+3a^2x^{'}-a^3x=0;$"
   ]
  },
  {
   "cell_type": "markdown",
   "metadata": {},
   "source": [
    "### $解：由题意可知，特征方程为：{\\lambda}^{3}-3a{\\lambda}^{2}+3a^2{\\lambda}-a^3=0。$\n",
    "### $解得：{\\lambda}_1={\\lambda}_2={\\lambda}_3=a。$\n",
    "\n",
    "### $因为存在重根,$\n",
    "\n",
    "### $所以,通解为：x=c_1e^{at}+c_2te^{at}+c_3t^2e^{at}$"
   ]
  },
  {
   "cell_type": "markdown",
   "metadata": {},
   "source": [
    "###  $(3)x^{(5)}-4x^{'''}=0;$"
   ]
  },
  {
   "cell_type": "markdown",
   "metadata": {},
   "source": [
    "### $解：由题意可知，特征方程为：$${\\lambda}^{5}-4{\\lambda}^{3}=0$$ $\n",
    "### $解得：{\\lambda}_1={\\lambda}_2={\\lambda}_3=0,{\\lambda}_4=2,{\\lambda}_5=-2$\n",
    "\n",
    "### $因为存在重解,$\n",
    "\n",
    "### $所以，通解为：x=c_1+c_2t+c_3t^2+c_4e^{2t}+c_5e^{-2t}$"
   ]
  },
  {
   "cell_type": "markdown",
   "metadata": {
    "collapsed": true
   },
   "source": [
    "# <font color='red'>A  1/11"
   ]
  },
  {
   "cell_type": "code",
   "execution_count": null,
   "metadata": {
    "collapsed": true
   },
   "outputs": [],
   "source": []
  }
 ],
 "metadata": {
  "kernelspec": {
   "display_name": "Python 2",
   "language": "python",
   "name": "python2"
  },
  "language_info": {
   "codemirror_mode": {
    "name": "ipython",
    "version": 2
   },
   "file_extension": ".py",
   "mimetype": "text/x-python",
   "name": "python",
   "nbconvert_exporter": "python",
   "pygments_lexer": "ipython2",
   "version": "2.7.10"
  }
 },
 "nbformat": 4,
 "nbformat_minor": 0
}
