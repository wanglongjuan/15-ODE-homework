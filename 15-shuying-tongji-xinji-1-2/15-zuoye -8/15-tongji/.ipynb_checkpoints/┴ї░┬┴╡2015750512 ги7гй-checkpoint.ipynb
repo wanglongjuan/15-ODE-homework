{
 "cells": [
  {
   "cell_type": "markdown",
   "metadata": {},
   "source": [
    "## 第七次常微分作业 215750512 刘奥恋 15统计学班 ##"
   ]
  },
  {
   "cell_type": "markdown",
   "metadata": {},
   "source": [
    "### 求解下列常系数线性微分方程 ###\n",
    "$$（2）x'''-3ax+3a^2x'-a^3x=0$$\n",
    "\n",
    "$上述方程的特征方程为{\\lambda}^3-3a{\\lambda}^2+3a^2\\lambda-a^3=0$\n",
    "\n",
    "$有根\\lambda=a，为三重根$\n",
    "\n",
    "$可得方程的解为x=c_1e^t+c_2te^{at}+c_3t^2e^{at}，其中c_1,c_2,c_3为任意常数$\n"
   ]
  },
  {
   "cell_type": "markdown",
   "metadata": {},
   "source": [
    "$$(3)x^{(5)}-4x'''=0$$\n",
    "\n",
    "$上述方程的特征方程为{\\lambda}^5-4{\\lambda}^3=0$\n",
    "\n",
    "$有复根\\lambda_1=\\frac{-1+\\sqrt{3}i}{2}\\quad\\lambda_2=\\frac{-1-\\sqrt{3}i}{2}$\n",
    "\n",
    "$方程的通解为：x=c_1e^{2t}+c_2e^{-2t}+c_3t^2+c_4t+c_5，其中c_1,c_2,c_3，c_4,c_5为任意常数$"
   ]
  },
  {
   "cell_type": "markdown",
   "metadata": {},
   "source": [
    "# <font color='red'>A  1/11   根算的不正确\n"
   ]
  },
  {
   "cell_type": "code",
   "execution_count": null,
   "metadata": {
    "collapsed": true
   },
   "outputs": [],
   "source": []
  },
  {
   "cell_type": "code",
   "execution_count": null,
   "metadata": {
    "collapsed": true
   },
   "outputs": [],
   "source": []
  }
 ],
 "metadata": {
  "kernelspec": {
   "display_name": "SageMath 7.3",
   "language": "",
   "name": "sagemath"
  },
  "language_info": {
   "codemirror_mode": {
    "name": "ipython",
    "version": 2
   },
   "file_extension": ".py",
   "mimetype": "text/x-python",
   "name": "python",
   "nbconvert_exporter": "python",
   "pygments_lexer": "ipython2",
   "version": "2.7.10"
  }
 },
 "nbformat": 4,
 "nbformat_minor": 0
}
