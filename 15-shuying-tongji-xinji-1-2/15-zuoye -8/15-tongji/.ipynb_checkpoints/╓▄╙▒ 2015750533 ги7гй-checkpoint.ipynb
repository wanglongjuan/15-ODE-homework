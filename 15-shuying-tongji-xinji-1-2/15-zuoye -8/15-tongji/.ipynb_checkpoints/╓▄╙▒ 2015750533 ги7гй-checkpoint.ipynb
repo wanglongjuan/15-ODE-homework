{
 "cells": [
  {
   "cell_type": "markdown",
   "metadata": {},
   "source": [
    "# 常微分方程作业（7）"
   ]
  },
  {
   "cell_type": "markdown",
   "metadata": {},
   "source": [
    "$P164.T2$\n",
    "\n",
    "求解下列常系数线性微分方程\n"
   ]
  },
  {
   "cell_type": "markdown",
   "metadata": {},
   "source": [
    "$\\bf（2）$\n",
    "\n",
    "$x'''-3ax\"+3a^2x'-a^3x=0$\n",
    "\n",
    "$解：$\n",
    "\n",
    "$特征方程为\\lambda^3-3a\\lambda^2+3a^2\\lambda-a^3=0$\n",
    "$$(\\lambda-a)^3=0$$\n",
    "$三重根\\lambda=a$\n",
    "\n",
    "$通解x=c_1e^{at}+c_2te^{at}+c_3t^2e^{at}$\n",
    "\n",
    "$c_1,c_2,c_3为任意常数$"
   ]
  },
  {
   "cell_type": "markdown",
   "metadata": {},
   "source": [
    "$\\bf（3）$\n",
    "\n",
    "$x^{(5)}-4x'''=0$\n",
    "\n",
    "$特征方程为\\lambda^5-4\\lambda^3=0$\n",
    "\n",
    "$\\lambda^3(\\lambda^2-4)=0$\n",
    "\n",
    "$\\lambda_1=2,\\lambda_2=-2,\\lambda_3,_4,_5=0$\n",
    "\n",
    "$通解x=c_1e^{2t}+c_2te^{-2t}+c_3+c_4t+c_5t^2$\n",
    "\n",
    "$c_1,c_2,c_3,c_4,c_5为任意常数$"
   ]
  },
  {
   "cell_type": "markdown",
   "metadata": {},
   "source": [
    "# <font color='red'>A  1/11"
   ]
  },
  {
   "cell_type": "code",
   "execution_count": null,
   "metadata": {
    "collapsed": true
   },
   "outputs": [],
   "source": []
  }
 ],
 "metadata": {
  "kernelspec": {
   "display_name": "SageMath 7.3",
   "language": "",
   "name": "sagemath"
  },
  "language_info": {
   "codemirror_mode": {
    "name": "ipython",
    "version": 2
   },
   "file_extension": ".py",
   "mimetype": "text/x-python",
   "name": "python",
   "nbconvert_exporter": "python",
   "pygments_lexer": "ipython2",
   "version": "2.7.10"
  }
 },
 "nbformat": 4,
 "nbformat_minor": 0
}
