{
 "cells": [
  {
   "cell_type": "markdown",
   "metadata": {},
   "source": [
    "$P164 习题4.2$  "
   ]
  },
  {
   "cell_type": "markdown",
   "metadata": {},
   "source": [
    "$2.求解下列常系数线性微分方程$  "
   ]
  },
  {
   "cell_type": "markdown",
   "metadata": {},
   "source": [
    "$(2)x'''-3ax''+3a^2x'-a^3x=0$  \n",
    "$               \\quad 解：特征方程为\\lambda ^3-3a \\lambda ^2+3a^2 \\lambda-a^3=0$  \n",
    "$                   \\quad 它有三重根\\lambda =a,$  \n",
    "$                   \\quad 因此方程的通解为x=c_1e^{at}+c_2te^{at}+c_3t^2e^{at},其中c_1,c_2,c_3为任意常数$  "
   ]
  },
  {
   "cell_type": "markdown",
   "metadata": {},
   "source": [
    "$(3)x^(5)-4x'''=0$  \n",
    "$               \\quad 解：特征方程\\lambda ^2+\\lambda +1=0$  \n",
    "$                   \\quad 它有复根\\lambda_1=\\frac{-1+\\sqrt[i]3}{2},\\lambda_2=\\frac{-1-\\sqrt[i]3}{2}$  \n",
    "$                   \\quad 故通解为x=c_1e^{-\\frac{1}{2}t}\\cos \\frac{\\sqrt 3}{2}t+c_2e^{-\\frac{1}{2}t}\\sin \\frac{\\sqrt 3}{2}t,其中c_1,c_2为任意常数$  "
   ]
  },
  {
   "cell_type": "markdown",
   "metadata": {
    "collapsed": true
   },
   "source": [
    "# <font color='red'>A  1/11"
   ]
  },
  {
   "cell_type": "code",
   "execution_count": null,
   "metadata": {
    "collapsed": true
   },
   "outputs": [],
   "source": []
  }
 ],
 "metadata": {
  "kernelspec": {
   "display_name": "SageMath 7.3",
   "language": "",
   "name": "sagemath"
  },
  "language_info": {
   "codemirror_mode": {
    "name": "ipython",
    "version": 2
   },
   "file_extension": ".py",
   "mimetype": "text/x-python",
   "name": "python",
   "nbconvert_exporter": "python",
   "pygments_lexer": "ipython2",
   "version": "2.7.10"
  }
 },
 "nbformat": 4,
 "nbformat_minor": 0
}
