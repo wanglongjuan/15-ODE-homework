{
 "cells": [
  {
   "cell_type": "markdown",
   "metadata": {},
   "source": [
    "$$常微分作业 P164习题4.2$$\n",
    "$2.求解下列常系数线性微分方程：$\n",
    "\n",
    "$(2)x'''-3ax\"+3a^2x'-a^3x=0;$\n",
    "\n",
    "$解：$\n",
    "\n",
    "$特征方程为:$\n",
    "\n",
    "$$\\lambda^3-3a\\lambda^2-a^3=0$$\n",
    "\n",
    "$即$\n",
    "\n",
    "$$(\\lambda-a)^3=0$$\n",
    "\n",
    "$\\lambda=a 其为三重根.$\n",
    "\n",
    "$所以，通解为：$\n",
    "\n",
    "$$x=(c_1+c_2t+c_3t^2)e^{at}.$$\n",
    "\n"
   ]
  },
  {
   "cell_type": "markdown",
   "metadata": {},
   "source": [
    "$(3)x^{(5)}-4x\"'=0;$\n",
    "\n",
    "$解：$\n",
    "\n",
    "$特征方程为：$\n",
    "\n",
    "$$\\lambda^5-4\\lambda^3=0$$\n",
    "\n",
    "$即$\n",
    "\n",
    "$$\\lambda^3(\\lambda^2-4)=0$$\n",
    "\n",
    "$特征根为:$\n",
    "\n",
    "$\\lambda^3=0,\\lambda^2=4.$\n",
    "\n",
    "$$\\lambda=0(三重根),\\lambda=-2,\\lambda=2.$$\n",
    "\n",
    "$所以，通解为:$\n",
    "\n",
    "$$x=(c_1+tc_2+t^2c_3)e^{0t}+c_4e^{-2t}+c_5e^{2t}.$$\n",
    "\n",
    "$$x=c_1+tc_2+t^2c_3+c_4e^{-2t}+c_5e^{2t}.$$"
   ]
  },
  {
   "cell_type": "markdown",
   "metadata": {
    "collapsed": true
   },
   "source": [
    "# <font color='red'>A  1/11"
   ]
  },
  {
   "cell_type": "code",
   "execution_count": null,
   "metadata": {
    "collapsed": true
   },
   "outputs": [],
   "source": []
  }
 ],
 "metadata": {
  "kernelspec": {
   "display_name": "SageMath 7.3",
   "language": "",
   "name": "sagemath"
  },
  "language_info": {
   "codemirror_mode": {
    "name": "ipython",
    "version": 2
   },
   "file_extension": ".py",
   "mimetype": "text/x-python",
   "name": "python",
   "nbconvert_exporter": "python",
   "pygments_lexer": "ipython2",
   "version": "2.7.10"
  }
 },
 "nbformat": 4,
 "nbformat_minor": 0
}
