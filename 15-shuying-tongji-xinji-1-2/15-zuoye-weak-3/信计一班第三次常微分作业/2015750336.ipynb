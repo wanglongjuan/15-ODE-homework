{
 "cells": [
  {
   "cell_type": "markdown",
   "metadata": {},
   "source": [
    "一。求下列方程的解。\n",
    "（1）$$\\frac{\\mathrm d y}{\\mathrm d x}-\\frac{ny}{x}=e^xx^n (n为常数)$$"
   ]
  },
  {
   "cell_type": "markdown",
   "metadata": {},
   "source": [
    "解：原方程可化为$$\\frac{\\mathrm dy}{\\mathrm dx}=\\frac{n}{x}y+e^xx^n$$\n",
    "所以原方程的解为$$y=e^(\\int \\frac{n}{x}\\mathrm{d}x)(\\int e^xx^ne^(-\\int \\frac{n}{x} \\mathrm{d}x) \\mathrm{d}x +c)=x^ne^c(\\int e^(x-c)\\mathrm{d}x+c)=x^ne^c(e^(x-c)+c)=x^ne^x+cx^ne^c$$"
   ]
  },
  {
   "cell_type": "markdown",
   "metadata": {},
   "source": [
    "(2)$$\\frac{\\mathrm dy}{\\mathrm dx}=\\frac{1}{xy+x^3y^3}$$"
   ]
  },
  {
   "cell_type": "markdown",
   "metadata": {},
   "source": [
    "解：原方程可化为$$\\frac{\\mathrm dx}{\\mathrm dy}=xy+x^3y^3$$\n",
    "则为$$\\frac{1}{x^3} \\frac{dx}{dy}=\\frac{1}{x^2}y+y^3$$ <1>\n",
    "令$z=\\frac{1}{x^2}$则$dz=\\frac{-2}{x^3}$ 所以$\\frac{1}{x^3}=\\frac{-dz}{2}$\n",
    "又因为$$\\frac{dz}{dy}=\\frac{dz}{dx}\\frac{dx}{dy}=-2\\frac{1}{x^3}\\frac{dx}{dy}$$\n",
    "所以$$\\frac{1}{x^3}\\frac{dx}{dy}=-\\frac{1}{2}\\frac{dz}{dy}$$ <2>\n",
    "将<2>式代入<1>式中得$$\\frac{dz}{dy}=-2zy-2y^3$$\n",
    "最终得$y=(1-x^2+x^2y^2)e^(y^2)=cx^2$"
   ]
  },
  {
   "cell_type": "markdown",
   "metadata": {},
   "source": [
    "(3)$$y=e^x+\\int_0^x y(t)\\mathrm{d}t$$"
   ]
  },
  {
   "cell_type": "markdown",
   "metadata": {},
   "source": [
    "解：$\\frac{dy}{dx}=e^x+y(x)=y+e^x$\n",
    "令$P(x)=1,Q(x)=e^x$\n",
    "得$y=e^x(x+c)$"
   ]
  },
  {
   "cell_type": "markdown",
   "metadata": {},
   "source": [
    "# <font color='red'>特解？？"
   ]
  },
  {
   "cell_type": "markdown",
   "metadata": {},
   "source": [
    "二。求解下列方程：$$y'\\sin x \\cos x -y-(\\sin x)^3=0$$"
   ]
  },
  {
   "cell_type": "markdown",
   "metadata": {},
   "source": [
    "解：$\\frac{dy}{dx}=\\frac{y}{\\ sinx \\ cosx}+\\frac{(\\ sinx)^2}{\\ cosx}$\n",
    "令$P(x)=\\frac{1}{\\ sinx \\ cosx},Q(x)=\\frac{(\\ sinx)^2}{\\ cosx}$\n",
    "则$y=\\frac{\\ sinx}{\\ cosx}(\\int\\ sinx\\mathrm{d}x+c)=\\frac{\\ sinx}{\\ cosx}(-\\ cosx +c)=c\\ tanx-\\ sinx$   "
   ]
  },
  {
   "cell_type": "markdown",
   "metadata": {},
   "source": [
    "# <font color='red'>特解？？"
   ]
  },
  {
   "cell_type": "markdown",
   "metadata": {
    "collapsed": true
   },
   "source": [
    "三。验证下列方程是恰当微分方程，并求出方程的解。                                                                                            （1）$(y-3x^2){\\mathrm dx}-(4y-x){\\mathrm dy}=0$"
   ]
  },
  {
   "cell_type": "markdown",
   "metadata": {},
   "source": [
    "证明：原式可化为$(y-3x^2){\\mathrm dx}+(-4y+x){\\mathrm dy}=0$\n",
    "令$M=y-3x^2$,$N=-4y+x$\n",
    "则$$\\frac{\\partial M}{\\partial y}=\\frac{\\partial N}{\\partial y}=1$$\n",
    "所以方程是恰当微分方程。\n",
    "取u,则$$<1>\\frac{\\partial u}{\\partial x}{\\mathrm dx}=y-3x^2  ,  u=xy-x^3+\\varphi(y)$$\n",
    "$$<2>\\frac{\\partial u}{\\partial y}{\\mathrm dy}=-4y+x  ,  u=-2y^2+xy$$\n",
    "则<1>式对y求导则$x+\\varphi'(y)=-4y+x$\n",
    "则$<3>\\varphi(y)=-2y^2$\n",
    "$$将<3>式代入<1>中得C=xy-x^3-2y^2$$"
   ]
  },
  {
   "cell_type": "markdown",
   "metadata": {},
   "source": [
    "(2)$(x^2+y){\\mathrm dx}+(x-2y){\\mathrm dy}=0$"
   ]
  },
  {
   "cell_type": "markdown",
   "metadata": {},
   "source": [
    "证明：令$M=x^2+y$,$N=x-2y$\n",
    "所以$\\frac{\\partial M}{\\partial y}=\\frac{\\partial N}{\\partial x}=1$\n",
    "所以方程是恰当微分方程。\n",
    "取u,则$$<1>\\frac{\\partial u}{\\partial x}{\\mathrm dx}=x^2+y  ,  u=\\frac{x^3}{3}+xy+\\varphi(y)$$ \n",
    "$$<2>\\frac{\\partial u}{\\partial y}{\\mathrm dy}=x-2y   ,  u=xy-y^2$$ \n",
    "则<1>式对y求导则$x+\\varphi'(y)=x-2y$\n",
    "则$<3>\\varphi(y)=-y^2$\n",
    "$$将<3>式代入<1>中得C=\\frac{x^3}{3}+xy-y^2$$"
   ]
  },
  {
   "cell_type": "markdown",
   "metadata": {},
   "source": [
    "# <font color='red'>A  19/9"
   ]
  },
  {
   "cell_type": "code",
   "execution_count": null,
   "metadata": {
    "collapsed": true
   },
   "outputs": [],
   "source": []
  }
 ],
 "metadata": {
  "kernelspec": {
   "display_name": "SageMath 7.3",
   "language": "",
   "name": "sagemath"
  },
  "language_info": {
   "codemirror_mode": {
    "name": "ipython",
    "version": 2
   },
   "file_extension": ".py",
   "mimetype": "text/x-python",
   "name": "python",
   "nbconvert_exporter": "python",
   "pygments_lexer": "ipython2",
   "version": "2.7.10"
  }
 },
 "nbformat": 4,
 "nbformat_minor": 0
}
