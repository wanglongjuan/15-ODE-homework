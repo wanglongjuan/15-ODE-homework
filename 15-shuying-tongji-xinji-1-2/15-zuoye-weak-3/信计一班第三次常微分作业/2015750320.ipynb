{
 "cells": [
  {
   "cell_type": "markdown",
   "metadata": {},
   "source": [
    "$1(4)$\n"
   ]
  },
  {
   "cell_type": "markdown",
   "metadata": {},
   "source": [
    "先求方程$$\\frac{\\mathrm d y}{\\mathrm d x}-\\frac{n}{x}y=0$$的通解\n",
    "分离变量可得到$$\\frac{\\mathrm d y}{y}=\\frac{n}{x}\\mathrm d x$$\n",
    "两边积分可得$$y=cx^n$$\n",
    "设所求通解为$$y=c（x）x^n$$\n",
    "代入原方程可以得到$$\\frac{\\mathrm d c(x)}{\\mathrm d x}=e^x$$\n",
    "积分得到$$c(x)=e^x+c_1$$\n",
    "原方程的解为$$y=c_1x^n+{e^x}{x^n},其中c_1$$为任意常数"
   ]
  },
  {
   "cell_type": "markdown",
   "metadata": {},
   "source": [
    "$1(15)$"
   ]
  },
  {
   "cell_type": "markdown",
   "metadata": {},
   "source": [
    "原方程可化为$$\\frac{y\\mathrm d y}{\\mathrm d x}=\\frac{1}{x+{x^3}{y^2}}$$\n",
    "令$u=y^2$,则有$$\\frac{\\mathrm d u}{\\mathrm d x}=\\frac{2}{x+{x^3}u}$$\n",
    "则$$\\frac{\\mathrm d x}{\\mathrm d u}=\\frac{x}{2}+\\frac{u}{2}x^3$$\n",
    "令$z=x^{-2}$,则有$$\\frac{\\mathrm d z}{\\mathrm d u}=-z-u$$\n",
    "可得$$z=e^{\\int{-1du}}(\\int(-u)e^{\\int{1du}}\\,\\mathrm d u+c)=ce^{-u}-u+1$$\n",
    "代入原来的变量可得$$(1-x^2+{x^2}{y^2})e^{y^2}=cx^2$$\n",
    "其中$c$为任意常数"
   ]
  },
  {
   "cell_type": "markdown",
   "metadata": {},
   "source": [
    "$1(16)$"
   ]
  },
  {
   "cell_type": "markdown",
   "metadata": {},
   "source": [
    "对方程$y=e^x+\\int_{0}^{x} y(t)dt$两端关于x求导得到$\\frac{dy}{dx}=e^x+y$\n",
    "\n",
    "可得到$$y=e^x(\\int e^xe^{-x}dx+c)=e^x(x+c)$$ \n",
    "\n",
    "当$x=0$时,可得到$y=1,c=1$\n",
    "\n",
    "所以方程的解为$$y=e^x(x+1)$$"
   ]
  },
  {
   "cell_type": "markdown",
   "metadata": {},
   "source": [
    "$7(3)$"
   ]
  },
  {
   "cell_type": "markdown",
   "metadata": {},
   "source": [
    "此方程可变形为$\\frac{\\mathrm d y}{\\mathrm d x}=\\frac{1}{sinxcox}y+\\frac{sin^2x}{cosx}(sinx \\neq 0,cosx \\neq0)$\n",
    "\n",
    "求解可得通解：$y=e^{\\int{\\frac{dx}{sinxcosx}}}(\\int{\\frac{sin^2x}{cosx}}e^{-\\int{\\frac{1}{sinxcosx}dx}}dx+c)$\n",
    "\n",
    "即$y=tanx(\\int{\\frac{sin^2x}{cosx}}cotxdx+c)$\n",
    "\n",
    "积分得到$y=ctanx-sinx$\n",
    "\n",
    "当$sinx=0$时,原方程化为$y=0$\n",
    "\n",
    "当$cosx=0$时,原方程化为$y=\\pm1$,即曲线退化成$(2k\\pi+\\frac{\\pi}{2},-1)$    $(2k\\pi-\\frac{\\pi}{x},1),k=0,\\pm1,\\pm2,…$\n",
    "\n",
    "原方程的解为$y=ctanx-sinx$,($x\\neq k\\pi \\pm \\frac{\\pi}{2})$,c为任意常数"
   ]
  },
  {
   "cell_type": "markdown",
   "metadata": {},
   "source": [
    "$1(1)$"
   ]
  },
  {
   "cell_type": "markdown",
   "metadata": {},
   "source": [
    "由于$M=x^2+y,N=x-2y$,\n",
    "\n",
    "又$\\frac{\\partial {M}}{\\partial {y}}=1$,$\\frac{\\partial {N}}{\\partial {x}}=1$,因此方程是恰微分方程\n",
    "\n",
    "使u满足$\\frac{\\partial {u}}{\\partial {x}}=x^2+y$,$\\frac{\\partial {u}}{\\partial {y}}=x-2y$\n",
    "\n",
    "积分得$u=\\frac{1}{3}x^3+xy+\\varphi(y)$\n",
    "\n",
    "关于y求导得到$\\frac{\\partial {u}}{\\partial {y}}=x+\\varphi'(y)$,与$\\frac{\\partial {u}}{\\partial {y}}=x-2y$比较得\n",
    "\n",
    "$\\varphi'(y)=-2y$积分可得\\\\varphi(y)=-y^2$\n",
    "\n",
    "即$u=\\frac{1}{3}x^3+xy-y^2$\n",
    "\n",
    "原方程的通解为$\\frac{1}{3}x^3+xy-y^2=c$"
   ]
  },
  {
   "cell_type": "markdown",
   "metadata": {},
   "source": [
    "$1(2)$"
   ]
  },
  {
   "cell_type": "markdown",
   "metadata": {},
   "source": [
    "由于$M=y-3x^2,N=x+4y$\n",
    "\n",
    "又因为$\\frac{\\partial {M}}{\\partial {y}}=1$,$\\frac{\\partial {N}}{\\partial {x}}=1$,得到\n",
    "\n",
    "$d(xy-x^3-2y^2)=0$\n",
    "\n",
    "于是方程的通解为$xy-x^3-2y^2=c$，c为任意常数"
   ]
  },
  {
   "cell_type": "markdown",
   "metadata": {},
   "source": [
    "# <font color='red'>A + 19/9"
   ]
  },
  {
   "cell_type": "code",
   "execution_count": null,
   "metadata": {
    "collapsed": true
   },
   "outputs": [],
   "source": []
  }
 ],
 "metadata": {
  "kernelspec": {
   "display_name": "SageMath 7.3",
   "language": "",
   "name": "sagemath"
  },
  "language_info": {
   "codemirror_mode": {
    "name": "ipython",
    "version": 2
   },
   "file_extension": ".py",
   "mimetype": "text/x-python",
   "name": "python",
   "nbconvert_exporter": "python",
   "pygments_lexer": "ipython2",
   "version": "2.7.10"
  }
 },
 "nbformat": 4,
 "nbformat_minor": 0
}
