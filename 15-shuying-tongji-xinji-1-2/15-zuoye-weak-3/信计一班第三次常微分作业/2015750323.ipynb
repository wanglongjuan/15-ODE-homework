{
 "cells": [
  {
   "cell_type": "markdown",
   "metadata": {},
   "source": [
    "$$1(4),     \\frac{dy}{dx}=\\frac{n}{x}y-e^xx^n$$\n",
    "$$解：P(x)=\\frac{n}{x},Q(x)=e^xx^n$$\n",
    "$$先求\\frac{dy}{dx}=P(x)y+Q(x)的通解$$\n",
    "$$分离变量,两边积分,J通解为：y=c(x)x^n$$\n",
    "$$带入原方程得：\\frac{dc(x)}{dx}=e^x$$\n",
    "$$积分得：c(x)=e^x+c_1$$\n",
    "$$所以原方程得通解为：y=c_1x^n+e^xx^n$$\n"
   ]
  },
  {
   "cell_type": "markdown",
   "metadata": {},
   "source": [
    "$$1(15),\\frac{dy}{dx}=\\frac{1}{xy+x^3y^3}$$\n",
    "$$两边取倒数， 并且令x=y,y=x$$\n",
    "$$得：\\frac{dy}{dx}=xy+x^3y^3为伯努利方程$$\n",
    "$$令P(x)=x,Q(x)=x^3$$\n",
    "$$令z=1/y^2,$$\n",
    "$$\\frac{dz}{dx}=-2y^{-3}\\frac{dy}{dx}$$\n",
    "$$以上两式带入原方程得：$$\n",
    "$$得：\\frac{dz}{dx}=-2xz-2x^3$$\n",
    "$$上式为线性微分方程，用常数变易法求解$$\n",
    "$$P(x)=-2x,Q(x)=-2x^3$$\n",
    "$$得z=c(x)e^{-x^2}带入上式得$$\n",
    "$$d(c(x))=\\frac{-2x^3}{e^{-x^{2}}}$$\n",
    "$$将c(x)带入原方程，并且将z=y^{-2}带回得：$$\n",
    "$$(1-y^2+x^2y^2)e^{x^2}=cy^2$$\n",
    "$$将x,y互换得：$$\n",
    "$$(1-x^2+x^2y^2)e^{y^2}=cx^2$$\n",
    "\n",
    "\n"
   ]
  },
  {
   "cell_type": "markdown",
   "metadata": {},
   "source": [
    "$$1(16),y=e^x+\\int_0^xy(t)dt$$\n",
    "$$对方程两端关于x求导得\\frac{dy}{dx}=e^x+y$$\n",
    "$$应用一阶微分方程的求解公式得y=e^x(x+1)$$"
   ]
  },
  {
   "cell_type": "markdown",
   "metadata": {},
   "source": [
    "\n",
    "$$7(3),y^`sinxcosx-y-{sin}^3x=0$$\n",
    "$$方程变形为\\frac{dy}{dx}=\\frac{y}{sinxcosx}+\\frac{sin^3x}{cosx}$$\n",
    "$$应用一阶微分方程的求解公式得y=tanx(\\int\\frac{sin^2x}{cosx}cotxdx+c)$$\n",
    "$$求积分化简得y=tanx(c-cosx).$$\n",
    "\n",
    "$$当sinx=0时，原方程为y=0$$\n",
    "$$当cosx=0时，原方程化为y=+_-1$$\n",
    "$$所以原方程的解为y=ctanx-sinx,(x!=kpie+_-pie/2)$$\n",
    "$$或者点(2kpie,-1)(2kpie-pie/2,1),k=0,+-1,+-2.....$$"
   ]
  },
  {
   "cell_type": "markdown",
   "metadata": {},
   "source": [
    "\n",
    "$$1(1),(x^2+y)dx+(x-2y)dy=0$$\n",
    "$$M=x^2+y,N=x-2y,$$\n",
    "$$\\frac{\\partial M}{\\partial y}= \\frac{\\partial N}{\\partial x}=1$$\n",
    "$$因此方程是恰当微分方程， 现在求u同时满足如下两个方程：∂u/∂x=x^2+y,∂u/∂y=x-2y.$$\n",
    "$$第一个方程对x积分得u=x^3/3+xy+Ψ(y)\n",
    "$$对此等式关于y求导得∂u/∂y=x+ψ'(y),\n",
    "$$相比较得ψ'(y）=-2y，积分得ψ（y）=-y^2，所以u=x^3/3+xy-y^2,即原方程得解为x^3/3+xy-y^2=c,c为任意常数。\n",
    "$$(2)(y-3x^2)dx-(4y-x)dy=0$$\n",
    "$$M=y-3x^2,N=x-4y$$\n",
    "$$∂M/∂y=1,∂N/∂x=1,因此方程为恰当微分方程$$\n",
    "$$把方程分项组合得d(xy-x^3-2y^2)=0$$\n",
    "$$于是方程的解为xy-x^3-2y^2=c,c为任意常数$$\n"
   ]
  },
  {
   "cell_type": "markdown",
   "metadata": {
    "collapsed": true
   },
   "source": [
    "# <font color='red'>A  19/9"
   ]
  },
  {
   "cell_type": "code",
   "execution_count": null,
   "metadata": {
    "collapsed": true
   },
   "outputs": [],
   "source": []
  }
 ],
 "metadata": {
  "kernelspec": {
   "display_name": "SageMath 7.3",
   "language": "",
   "name": "sagemath"
  },
  "language_info": {
   "codemirror_mode": {
    "name": "ipython",
    "version": 2
   },
   "file_extension": ".py",
   "mimetype": "text/x-python",
   "name": "python",
   "nbconvert_exporter": "python",
   "pygments_lexer": "ipython2",
   "version": "2.7.10"
  }
 },
 "nbformat": 4,
 "nbformat_minor": 0
}
