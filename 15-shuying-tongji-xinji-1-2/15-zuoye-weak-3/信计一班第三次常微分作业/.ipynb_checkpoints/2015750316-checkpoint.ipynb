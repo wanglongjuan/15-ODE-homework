{
 "cells": [
  {
   "cell_type": "markdown",
   "metadata": {
    "collapsed": true
   },
   "source": [
    "1.求下列方程的解"
   ]
  },
  {
   "cell_type": "markdown",
   "metadata": {},
   "source": [
    "（1）$\\frac{\\mathrm d y}{\\mathrm d x}-\\frac{n}{x}y=\\mathrm e^xx^n$(n为常数）"
   ]
  },
  {
   "cell_type": "markdown",
   "metadata": {},
   "source": [
    "解：求得$\\frac{\\mathrm d y}{\\mathrm d x}-\\frac{n}{x}y=0$的通解：\n",
    "$$y=c\\mathrm e^{nInx}$$\n",
    "令c=c(x),并微分得：\n",
    "$$\\frac{\\mathrm d y}{\\mathrm d x}=\\frac{\\mathrm d c(x)}{\\mathrm d x}\\mathrm e^{nInx}+c(x)\\frac{n}{x}\\mathrm e^{nInx}$$\n",
    "整理可得：$$c(x)=\\int \\mathrm e^xx^n\\mathrm e^{-nInx}+c$$\n",
    "可得通解：\n",
    "$$y=x^n(\\mathrm e^x+c)$$"
   ]
  },
  {
   "cell_type": "markdown",
   "metadata": {},
   "source": [
    "(2)$\\frac{\\mathrm d y}{\\mathrm d x}=\\frac{1}{xy+x^3y^3}$"
   ]
  },
  {
   "cell_type": "markdown",
   "metadata": {},
   "source": [
    "解：$$\\frac{\\mathrm d x}{\\mathrm d y}=xy+x^3y^3$$\n",
    "$$\\frac{1}{x^3}\\frac{\\mathrm d x}{\\mathrm d y}=\\frac{y}{x^2}+y^3$$\n",
    "令$x^{-2}=z则\\frac{\\mathrm d z}{\\mathrm d y}=-2x^{-3}\\frac{\\mathrm d z}{\\mathrm d y}$\n",
    "$$\\frac{\\mathrm d z}{\\mathrm d y}=\\frac{2y}{x^2}-2y^3=-2yz-2y^3$$\n",
    "$P(y)=-2y  Q(y)=-2y^3$\n",
    "可得：$z=-y^2+1+c\\mathrm e^{-y^2}$\n",
    "$$x^2(-y^2+1+c\\mathrm e^{-y^2})=1$$\n",
    "$$\\mathrm e^{y^2}(1-x^2+x^2y^2)=cx^2$$\n",
    "\n",
    "\n",
    "\n",
    "\n",
    "\n",
    "\n",
    "\n",
    "\n",
    "\n",
    "\n",
    "\n",
    "\n"
   ]
  },
  {
   "cell_type": "markdown",
   "metadata": {},
   "source": [
    "(3)$y=\\mathrm e^x+\\int_0^x y(t)\\mathrm d t$"
   ]
  },
  {
   "cell_type": "markdown",
   "metadata": {},
   "source": [
    "解：$\\frac{\\mathrm dy}{\\mathrm d x}=\\mathrm e^x+y(x)$\n",
    "$P(x)=1,Q(x)=\\mathrm e^x$\n",
    "$y=\\mathrm e^x(x+c)$"
   ]
  },
  {
   "cell_type": "markdown",
   "metadata": {},
   "source": [
    "# <font color='red'>特解？？"
   ]
  },
  {
   "cell_type": "markdown",
   "metadata": {},
   "source": [
    "2.求解下列方程"
   ]
  },
  {
   "cell_type": "markdown",
   "metadata": {},
   "source": [
    "$y'\\sin x \\cos x-y-(\\sin x)^3=0$"
   ]
  },
  {
   "cell_type": "markdown",
   "metadata": {},
   "source": [
    "解：原式可化为\n",
    "$$y'=\\frac{2}{\\sin 2x}y+\\frac{(\\sin x)^2}{\\cos x}$$\n",
    "$P(x)=\\frac{2}{\\sin 2x},Q(x)=\\frac{(\\sin x)^2}{\\cos x}$\n",
    "解得：$$y=\\frac{\\sin x}{\\cos x}(-\\cos x+c)$$"
   ]
  },
  {
   "cell_type": "markdown",
   "metadata": {},
   "source": [
    "# <font color='red'>特解？？"
   ]
  },
  {
   "cell_type": "markdown",
   "metadata": {},
   "source": [
    "3.验证下列方程式恰当微分方程，并求出方程的解："
   ]
  },
  {
   "cell_type": "markdown",
   "metadata": {},
   "source": [
    "（1）$(x^2+y)\\mathrm d x+(x-2y)\\mathrm d y=0$"
   ]
  },
  {
   "cell_type": "markdown",
   "metadata": {},
   "source": [
    "解：$$\\frac{\\partial M}{\\partial y}=\\frac{\\partial N}{\\partial x}=1$$\n",
    "所以该方程是恰当方程\n",
    "$$x^2\\mathrm d x-2y\\mathrm d y+(y\\mathrm d x+x\\mathrm d y)=0$$\n",
    "$$\\frac{1}{x^3}+xy-y^2=c$$"
   ]
  },
  {
   "cell_type": "markdown",
   "metadata": {},
   "source": [
    "(2)$(y-3x^2)\\mathrm d x-(4y-x)\\mathrm d y=0$"
   ]
  },
  {
   "cell_type": "markdown",
   "metadata": {},
   "source": [
    "解：$$\\frac{\\partial M}{\\partial y}=\\frac{\\partial N}{\\partial x}=1$$\n",
    "所以该方程是恰当方程\n",
    "$$y\\mathrm d x+x\\mathrm d y-3x^2\\mathrm d x-4y\\mathrm d y=0$$\n",
    "$$x^3-xy+2y^2=c$$"
   ]
  },
  {
   "cell_type": "markdown",
   "metadata": {
    "collapsed": true
   },
   "source": [
    "# <font color='red'>A  19/9"
   ]
  },
  {
   "cell_type": "code",
   "execution_count": null,
   "metadata": {
    "collapsed": true
   },
   "outputs": [],
   "source": []
  }
 ],
 "metadata": {
  "kernelspec": {
   "display_name": "Python 2",
   "language": "python",
   "name": "python2"
  },
  "language_info": {
   "codemirror_mode": {
    "name": "ipython",
    "version": 2
   },
   "file_extension": ".py",
   "mimetype": "text/x-python",
   "name": "python",
   "nbconvert_exporter": "python",
   "pygments_lexer": "ipython2",
   "version": "2.7.10"
  }
 },
 "nbformat": 4,
 "nbformat_minor": 0
}
