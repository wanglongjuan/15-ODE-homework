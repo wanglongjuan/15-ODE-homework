{
 "cells": [
  {
   "cell_type": "markdown",
   "metadata": {},
   "source": [
    "1.求下列方程的解"
   ]
  },
  {
   "cell_type": "markdown",
   "metadata": {},
   "source": [
    "4）$$\\frac{\\mathrm d y}{\\mathrm d x}-\\frac{\\mathrm n}{\\mathrm x}y=e^{x}x^{n}(n为常数）$$"
   ]
  },
  {
   "cell_type": "markdown",
   "metadata": {},
   "source": [
    "首先求$$\\frac{\\mathrm d y}{\\mathrm d x}-\\frac{n}{x}y=0$$的通解，从$$\\frac{\\mathrm d y}{y}=\\frac{n}{x}{\\mathrm d x}$$两边积分得$$\\int \\frac{1}{y}{\\rm d}y=\\int \\frac{n}{x}{\\rm d}x$$从而得齐次线性微分方程的通解$$y=cx^n$$\n",
    "\n",
    "再应用常数变易法求所给非齐次线性微分方程的通解，在上式中把c看成为x的待定函数c(x),  \n",
    "  \n",
    "  即$$y=c(x)x^n$$微分得到$$\\frac{\\mathrm d y}{\\mathrm d x}=x^n\\frac{\\mathrm d c(x)}{\\mathrm d x}+nx^{n-1}c(x)$$\n",
    "\n",
    "将上述两式代入原求解方程得$$\\frac{\\mathrm d c(x)}{\\mathrm d x}=e^x$$对等式两边积分得$$c(x)=e^x+c_1$$\n",
    "\n",
    "因此将所求的c(x)代入即得原方程的通解$$y=x^n(e^x+c_1)$$其中$c_1$是任意常数\n"
   ]
  },
  {
   "cell_type": "markdown",
   "metadata": {},
   "source": [
    "15)$$\\frac{\\mathrm d y}{\\mathrm d x}=\\frac{\\mathrm 1}{\\mathrm xy+x^3y^3}$$"
   ]
  },
  {
   "cell_type": "markdown",
   "metadata": {},
   "source": [
    "将原方程变换为$$\\frac{\\mathrm d x}{\\mathrm d y}=yx+y^3x^3$$\n",
    "\n",
    "这是n=3的伯努利微分方程，令$$z=x^{-2}$$算得$$\\frac{\\mathrm d z}{\\mathrm d y}=-2x^{-3}\\frac{\\mathrm d x}{\\mathrm d y}$$\n",
    "\n",
    "代入变换后的方程得$$\\frac{\\mathrm d z}{\\mathrm d y}=-2yz-2y^3$$\n",
    "\n",
    "先求出$\\frac{\\mathrm d z}{\\mathrm d y}=-2yz$的通解：$$z=\\pm e^{c-y^2}$$由于$z=x^{-2}> 0,故z=e^{c-y^2}(c为任意常数)$\n",
    "再利用常数变易法求上述非齐次线性微分方程的通解,  \n",
    "  \n",
    "  令$$z=e^{c(y)-y^2}$$ 对其微分得到$$\\frac{\\mathrm d z}{\\mathrm d y}=e^{c(y)-y^2}(\\frac{\\mathrm d c(y)}{\\mathrm d y}-2y）$$\n",
    "\n",
    "将上述两式代入$$\\frac{\\mathrm d z}{\\mathrm d y}=-2yz-2y^3$$得$$e^{c(y)}{\\mathrm d c(y)}=2y^3e^{y^2}{\\mathrm d y}$$两边同时积分得$$e^{c(y）}=(1-y^2）e^{y^2}+c_1，(c_1为任意常数）$$\n",
    "\n",
    "将其代入$$z=e^{c(y)-y^2}$$得$$z=(1-y^2)+\\frac{c_1}{e^{y^2}}$$\n",
    "\n",
    "再将$z=x^{-2}$代入，从而得原方程的通解为$$(\\frac{1}{x^2}+y^2-1)e^{y^2}=c_1，(c_1为任意常数）$$\n"
   ]
  },
  {
   "cell_type": "markdown",
   "metadata": {},
   "source": [
    "16)$$y=e^x+\\int _0^x{y(t)}{\\rm d}t$$"
   ]
  },
  {
   "cell_type": "markdown",
   "metadata": {},
   "source": [
    "等式两边对x微分得$$\\frac{\\mathrm d y}{\\mathrm d x}=e^x+y(x)$$即$$\\frac{\\mathrm d y}{\\mathrm d x}=y=e^x$$其中$P(x)=1,Q(x)=e^x$由一阶线性方程的求解公式得$$\n",
    "\\begin{aligned}y&=e^{\\int{1}{\\rm d}x}(\\int{{e^x}e^{-\\int{1}{\\rm d}x}{\\rm d}x}+c)\\\\&=e^x(\\int{{e^x}{e^{-x}}}{\\rm d}x+c)\\\\&=e^x(x+c)\\end{aligned} $$"
   ]
  },
  {
   "cell_type": "markdown",
   "metadata": {},
   "source": [
    "因此最后方程的解为$$y=e^x(x+c)$$"
   ]
  },
  {
   "cell_type": "markdown",
   "metadata": {},
   "source": [
    "# <font color='red'>特解？？"
   ]
  },
  {
   "cell_type": "markdown",
   "metadata": {},
   "source": [
    "7.求解下列方程"
   ]
  },
  {
   "cell_type": "markdown",
   "metadata": {},
   "source": [
    "3）$$y'sinxcosx-y-sin^3x=0$$"
   ]
  },
  {
   "cell_type": "markdown",
   "metadata": {},
   "source": [
    "等式两边同除以$sinxcosx$可得$$\\frac{\\mathrm dy}{\\mathrm dx}=\\frac{\\mathrm y}{\\mathrm sinxcox}+\\frac{\\mathrm sin^2x}{\\mathrm cosx}$$其中，$$P(x)=\\frac{\\mathrm 1}{\\mathrm sinxcosx},Q(x)=\\frac{\\mathrm sin^2x}{\\mathrm cosx}$$由一阶线性方程的求解公式可得到$$\n",
    "\\begin{aligned}y&=e^{\\int{\\frac{\\mathrm 1}{\\mathrm sinxcosx}{\\rm d}x}}(\\int{\\frac{\\mathrm sin^2}{\\mathrm cosx}e^{-\\int{\\frac{\\mathrm 1}{\\mathrm sinxcosx}}{\\rm d}x}{\\rm d}x}+c)\\\\&=\\frac{\\mathrm sinx}{\\mathrm cosx}(\\int{sinx}{\\rm d}x+c)\\\\&=\\frac{\\mathrm sinx}{\\mathrm cosx}(-cosx+c)\\\\&=ctanx-sinx\\end{aligned}$$"
   ]
  },
  {
   "cell_type": "markdown",
   "metadata": {},
   "source": [
    "因此最后方程的解为$$y=ctanx-sinx$$"
   ]
  },
  {
   "cell_type": "markdown",
   "metadata": {},
   "source": [
    "# <font color='red'>特解？？"
   ]
  },
  {
   "cell_type": "markdown",
   "metadata": {},
   "source": [
    "1.验证下列方程是恰当微分方程，并求出方程的解"
   ]
  },
  {
   "cell_type": "markdown",
   "metadata": {},
   "source": [
    "1）$$(x^2+y){\\mathrm d}x+(x-2y){\\mathrm d}y=0$$"
   ]
  },
  {
   "cell_type": "markdown",
   "metadata": {},
   "source": [
    "解：$$\\frac{\\partial M}{\\partial y}=1,\\frac{\\partial N}{\\partial x}=1$$故，$$\\frac{\\partial M}{\\partial y}=\\frac{\\partial N}{\\partial x}$$因此，该方程为恰当方程  \n",
    "  \n",
    "  凑微分得，$$x^2{\\mathrm d x}-2y{\\mathrm d y}+y{\\mathrm d x}+x{\\mathrm d y}=0$$可求得$$\\frac{1}{3}x^3+xy-y^2=c$$这里$c$为任意常数。"
   ]
  },
  {
   "cell_type": "markdown",
   "metadata": {},
   "source": [
    "2)$$(y-3x^2){\\mathrm d x}-(4y-x){\\mathrm d y}=0$$"
   ]
  },
  {
   "cell_type": "markdown",
   "metadata": {},
   "source": [
    "解：$$\\frac{\\partial M}{\\partial y}=1,\\frac{\\partial N}{\\partial x}=1$$故，$$\\frac{\\partial M}{\\partial y}=\\frac{\\partial N}{\\partial x}$$因此，该方程为恰当方程  \n",
    "  \n",
    "  凑微分得，$$-3x^2{\\mathrm d x}-4y{\\mathrm d y}+y{\\mathrm d x}+x{\\mathrm d y}=0$$可求得$$x^3-xy+2y^2=c$$这里$c$为任意常数。"
   ]
  },
  {
   "cell_type": "markdown",
   "metadata": {},
   "source": [
    "# <font color='red'>A  19/9"
   ]
  },
  {
   "cell_type": "code",
   "execution_count": null,
   "metadata": {
    "collapsed": true
   },
   "outputs": [],
   "source": []
  }
 ],
 "metadata": {
  "kernelspec": {
   "display_name": "SageMath 7.3",
   "language": "",
   "name": "sagemath"
  },
  "language_info": {
   "codemirror_mode": {
    "name": "ipython",
    "version": 2
   },
   "file_extension": ".py",
   "mimetype": "text/x-python",
   "name": "python",
   "nbconvert_exporter": "python",
   "pygments_lexer": "ipython2",
   "version": "2.7.10"
  }
 },
 "nbformat": 4,
 "nbformat_minor": 0
}
