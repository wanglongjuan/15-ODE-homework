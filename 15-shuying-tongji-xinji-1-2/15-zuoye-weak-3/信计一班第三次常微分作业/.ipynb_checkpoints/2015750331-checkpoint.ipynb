{
 "cells": [
  {
   "cell_type": "markdown",
   "metadata": {},
   "source": [
    "$Page$ $49$   $T1.(4)$\n",
    "\n",
    "$\\frac{dy}{dx}-\\frac{n}{x}y=e^xx^n$\n",
    "\n",
    "$First$ \n",
    "\n",
    "$\\frac{dy}{dx}-\\frac{n}{x}y=0$\n",
    "\n",
    "$\\frac{1}{y}dy=\\frac{n}{x}dx$\n",
    "\n",
    "$Nest$\n",
    "\n",
    "$y=cx^n$\n",
    "\n",
    "$so$ \n",
    "\n",
    "$y=c(x)x^n$\n",
    "\n",
    " $\\frac{d[c(x)]x^n}{dx}=e^x$\n",
    "\n",
    "$Nest$\n",
    "\n",
    "$c(x)=e^x+c~$\n",
    "\n",
    "$y=(e^x+c~)x^n$"
   ]
  },
  {
   "cell_type": "markdown",
   "metadata": {},
   "source": [
    "$Page$ $49$   $T1.(15)$\n",
    "\n",
    "$\\frac{y}{x}=\\frac{1}{xy+x^3+y^3}$\n",
    "\n",
    "$\\frac{x}{y}=xy+x^3+y^3$\n",
    "\n",
    "$x^{-3}\\frac{dx}{dy}=x^{-2}y^3$ \n",
    "\n",
    "$insert $ $ z$ $to$ $x^{-2}$\n",
    "\n",
    "$\\frac{dz}{dy}=-2yz-2y^3$\n",
    "\n",
    "$z=e^{\\int\\mathrm{-2ydy}\n",
    "    }(\\int\\mathrm{-2y^3e^{-\\int\\mathrm{-2ydy}}dy+c})=e^{-y^2}(\\int\\mathrm{-2y^3e^{-\\int\\mathrm{-2ydy}}dy+c})\\\\=-y^2+1+ce^(-y^2)$\n",
    "\n",
    "$x^2[-y^2+1+ce^(-y^2)]=1$\n",
    "\n",
    "$x^2e^{y^2}[-y^2+1+ce^(-y^2)]=x^2e^{y^2}$\n",
    "\n",
    "$e^{y^2}[-y^2+1+ce^(-y^2)]=cx^2$"
   ]
  },
  {
   "cell_type": "markdown",
   "metadata": {},
   "source": [
    "$Page$ $49$   $T1.(16)$\n",
    "\n",
    "$y=e^x+\\int_0^x{y(t)dt}$\n",
    "\n",
    "$\\frac{dy}{dx}=e^x+y(x)$\n",
    "\n",
    "$\\frac{dy}{dx}=y+e^x$\n",
    "\n",
    "$y=e^{\\int\\mathrm{1dx}}(\\int\\mathrm{e^xe^{-\\int\\mathrm{1dx}}dx}+c)\\\\=e^x(\\int\\mathrm{e^xe^{-x}dx}+c)\\\\e^x(x+c)$\n",
    "\n",
    "$e^x(x+c)=e^x+\\int_0^x\\mathrm{e^x(x+c)dx}$\n",
    "\n",
    "$c=1$\n",
    "\n",
    "$y=e^x(x+c)$"
   ]
  },
  {
   "cell_type": "markdown",
   "metadata": {},
   "source": [
    "$Page$ $60$   $T1.(1)$\n",
    "\n",
    "$(x^2+y)dx+(x+2y)dy=0$\n",
    "\n",
    "$\\frac{\\partial M}{\\partial Y}=1$  $\\frac{\\partial M}{\\partial X}=1 $\n",
    "\n",
    "$\\frac{\\partial M}{\\partial Y}=\\frac{\\partial M}{\\partial X}$\n",
    "\n",
    "$Can$ $ get$ $ a$ $ certificate$\n",
    "\n",
    "$x^2dx-2ydy+(ydy+xdy)=0$\n",
    "\n",
    "$\\frac{x^3}{3}+xy-y^2=c$"
   ]
  },
  {
   "cell_type": "markdown",
   "metadata": {},
   "source": [
    "$Page$ $60$   $T1.(2)$\n",
    "\n",
    "$(y-3x^2)dx-(4y-x)dy=0$\n",
    "\n",
    "$\\frac{\\partial M}{\\partial Y}=1$  $\\frac{\\partial M}{\\partial X}=1 $\n",
    "\n",
    "$\\frac{\\partial M}{\\partial Y}=\\frac{\\partial M}{\\partial X}$\n",
    "\n",
    "$Can$ $get$ $ a$ $ certificate$\n",
    "\n",
    "$ydx+xdy-3x^2dx-4ydy=0$\n",
    "\n",
    "$x^3-xy+2y^2=c$"
   ]
  },
  {
   "cell_type": "markdown",
   "metadata": {
    "collapsed": true
   },
   "source": [
    "# <font color='red'>A  19/9  缺1道题"
   ]
  },
  {
   "cell_type": "code",
   "execution_count": null,
   "metadata": {
    "collapsed": true
   },
   "outputs": [],
   "source": []
  }
 ],
 "metadata": {
  "kernelspec": {
   "display_name": "SageMath 7.3",
   "language": "",
   "name": "sagemath"
  },
  "language_info": {
   "codemirror_mode": {
    "name": "ipython",
    "version": 2
   },
   "file_extension": ".py",
   "mimetype": "text/x-python",
   "name": "python",
   "nbconvert_exporter": "python",
   "pygments_lexer": "ipython2",
   "version": "2.7.10"
  }
 },
 "nbformat": 4,
 "nbformat_minor": 0
}
