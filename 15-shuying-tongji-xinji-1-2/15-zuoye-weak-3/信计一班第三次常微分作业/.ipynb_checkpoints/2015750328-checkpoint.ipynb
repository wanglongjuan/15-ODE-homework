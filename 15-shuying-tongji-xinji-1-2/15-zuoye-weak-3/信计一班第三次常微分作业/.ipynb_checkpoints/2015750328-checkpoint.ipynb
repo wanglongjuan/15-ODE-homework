{
 "cells": [
  {
   "cell_type": "markdown",
   "metadata": {},
   "source": [
    "2.2（4）$\\frac{\\mathrm d y}{\\mathrm d x}-\\frac{n}{x}y=e^xx^n$(n为常数）"
   ]
  },
  {
   "cell_type": "markdown",
   "metadata": {},
   "source": [
    "解：首先求$\\frac{\\mathrm d y}{\\mathrm d x}-\\frac{n}{x}y=0$的通解  \n",
    "\n",
    "对$\\frac{\\mathrm d y}{y}=\\frac{n}{x}{\\mathrm d x}$两边积分  \n",
    "\n",
    "得$\\int \\frac{1}{y}{\\rm d}y=\\int \\frac{n}{x}{\\rm d}x$  \n",
    "\n",
    "得$y=cx^n$  \n",
    "\n",
    "在上式中把c看成为x的待定函数c(x)  \n",
    "\n",
    "则有$y=c(x)x^n$  \n",
    "\n",
    "微分得到$\\frac{\\mathrm d y}{\\mathrm d x}=x^n\\frac{\\mathrm d c(x)}{\\mathrm d x}+nx^{n-1}c(x)$  \n",
    "\n",
    "将上述两式代入原求解方程得$\\frac{\\mathrm d c(x)}{\\mathrm d x}=e^x$\n",
    "\n",
    "对等式两边积分得$c(x)=e^x+c_1$\n",
    "\n",
    "故将c(x)代入得原方程的通解$y=x^n(e^x+c_1)$,其中$c_1$是任意常数.\n",
    "\n",
    "\n"
   ]
  },
  {
   "cell_type": "markdown",
   "metadata": {},
   "source": [
    "(15)$\\frac{\\mathrm d y}{\\mathrm d x}=\\frac{1}{xy+x^3y^3}$"
   ]
  },
  {
   "cell_type": "markdown",
   "metadata": {},
   "source": [
    "解：把方程改写成$\\frac{\\mathrm d x}{\\mathrm d y}=yx+y^3x^3$  \n",
    "\n",
    "这是n=3的伯努利微分方程  \n",
    "\n",
    "令$z=x^{-2}$,得$\\frac{\\mathrm d z}{\\mathrm d y}=-2x^{-3}\\frac{\\mathrm d x}{\\mathrm d y}$\n",
    "\n",
    "代入方程得$\\frac{\\mathrm d z}{\\mathrm d y}=-2yz-2y^3$\n",
    "\n",
    "求出$\\frac{\\mathrm d z}{\\mathrm d y}=-2yz$的通解：$z=\\pm e^{c-y^2}，由于z=x^{-2}> 0,故z=e^{c-y^2}(c为任意常数)$\n",
    "\n",
    "再利用常数变易法求通解，令$z=e^{c(y)-y^2}$，  \n",
    "\n",
    "对其微分得到$\\frac{\\mathrm d z}{\\mathrm d y}=e^{c(y)-y^2}(\\frac{\\mathrm d c(y)}{\\mathrm d y}-2y）$\n",
    "\n",
    "将上述两式代入$\\frac{\\mathrm d z}{\\mathrm d y}=-2yz-2y^3$  \n",
    "\n",
    "得$e^{c(y)}{\\mathrm d c(y)}=2y^3e^{y^2}{\\mathrm d y}$，  \n",
    "\n",
    "两边同时积分得$e^{c(y）}=(1-y^2）e^{y^2}+c_1，(c_1为任意常数）$\n",
    "\n",
    "将其代入$z=e^{c(y)-y^2}$得$z=(1-y^2)+\\frac{c_1}{e^{y^2}}$\n",
    "\n",
    "再将$z=x^{-2}$代入，从而得原方程的通解为**$(\\frac{1}{x^2}+y^2-1)e^{y^2}=c_1，(c_1为任意常数）$**\n",
    "\n"
   ]
  },
  {
   "cell_type": "markdown",
   "metadata": {},
   "source": [
    "# <font color='red'>结果？？"
   ]
  },
  {
   "cell_type": "markdown",
   "metadata": {},
   "source": [
    "（16）$y=e^x+\\int_0^xy(t){\\mathrm dt}$"
   ]
  },
  {
   "cell_type": "markdown",
   "metadata": {},
   "source": [
    "解：$\\frac{\\mathrm d y}{\\mathrm d x}=e^x+y(x)$  \n",
    "\n",
    "$\\frac{\\mathrm d y}{\\mathrm d x}=y+e^x$  \n",
    "\n",
    "设P(x)=1,Q(x)=$e^x$  \n",
    "\n",
    "由一阶线性方程的求解公式得：  \n",
    "\n",
    "$y=e^{\\int1{\\mathrm d x}}(\\int e^x e^{-\\int1{\\mathrm d x}}{\\mathrm d x}+c)=e^x(x+c)$  \n",
    "\n",
    "$e^x(x+c)=e^x+ \\int_0^x e^x(x+c){\\mathrm d x}$  \n",
    "\n",
    "$y=e^x(x+c)$\n"
   ]
  },
  {
   "cell_type": "markdown",
   "metadata": {},
   "source": [
    "7.求解方程（3）$y'\\sin x\\cos x-y-\\sin^3 x=0$"
   ]
  },
  {
   "cell_type": "markdown",
   "metadata": {},
   "source": [
    "解：$\\frac{\\mathrm d y}{\\mathrm d x}=\\frac{y}{\\sin x\\cos x}+\\frac{\\sin^2 x}{\\cos x}$  \n",
    "\n",
    "令$P(x)=\\frac{1}{\\sin x\\cos x}$$Q(x)=\\frac{sin^2 x}{\\cos x}$  \n",
    "\n",
    "由一阶线性方程的求解公式得：  \n",
    "\n",
    "$y=e^{\\int \\frac{1}{\\sin x\\cos x}{\\mathrm d x}}(\\int{\\frac{\\mathrm \\sin^2 x }{\\mathrm \\cos x}e^{-\\int{\\frac{\\mathrm 1}{\\mathrm \\sin x\\cos x}}{\\mathrm d x}}{\\mathrm d x}}+c)$  \n",
    "\n",
    "=$\\frac{\\sin x}{\\cos x}(\\int\\sin x\\mathrm d x+c)$  \n",
    "\n",
    "=$\\frac{\\sin x}{\\cos x}(-\\cos x+c)$  \n",
    "\n",
    "=$tg xc-\\sin x$"
   ]
  },
  {
   "cell_type": "markdown",
   "metadata": {},
   "source": [
    "2.3 1.验证下列方程是恰当微分方程，并求方程的解。  \n",
    "\n",
    "(1)$(x^2+y)\\mathrm d x+(x-2y)\\mathrm d y=0$  \n",
    "\n",
    "(2)$(y-3x^2)\\mathrm d x-(4y-x)\\mathrm d y=0$"
   ]
  },
  {
   "cell_type": "markdown",
   "metadata": {},
   "source": [
    "解：（1）$\\frac{\\partial M}{\\partial y}=1,\\frac{\\partial N}{\\partial x}=1$  \n",
    "\n",
    "则$\\frac{\\partial M}{\\partial y}=\\frac{\\partial N}{\\partial x}$  \n",
    "\n",
    "所以此方程是恰当方程。  \n",
    "\n",
    "对$x^2\\mathrm d x-2y\\mathrm d y+(y\\mathrm d x+x\\mathrm d y)=0$凑微分  \n",
    "\n",
    "得：$\\frac{1}{3}x^3+xy-y^2=C$  \n",
    "\n",
    "(2)$\\frac{\\partial M}{\\partial y}=1,\\frac{\\partial N}{\\partial x}=1$  \n",
    "\n",
    "则$\\frac{\\partial M}{\\partial y}=\\frac{\\partial N}{\\partial x}$  \n",
    "\n",
    "所以此方程是恰当方程。  \n",
    "\n",
    "对$y\\mathrm d x+x\\mathrm d y-3x^2\\mathrm d x-4y\\mathrm d y=0$凑微分  \n",
    "\n",
    "得 $x^3-xy+2y^2=C$"
   ]
  },
  {
   "cell_type": "markdown",
   "metadata": {
    "collapsed": true
   },
   "source": [
    "# <font color='red'>A  19/9"
   ]
  },
  {
   "cell_type": "code",
   "execution_count": null,
   "metadata": {
    "collapsed": true
   },
   "outputs": [],
   "source": []
  }
 ],
 "metadata": {
  "kernelspec": {
   "display_name": "SageMath 7.3",
   "language": "",
   "name": "sagemath"
  },
  "language_info": {
   "codemirror_mode": {
    "name": "ipython",
    "version": 2
   },
   "file_extension": ".py",
   "mimetype": "text/x-python",
   "name": "python",
   "nbconvert_exporter": "python",
   "pygments_lexer": "ipython2",
   "version": "2.7.10"
  }
 },
 "nbformat": 4,
 "nbformat_minor": 0
}
