{
 "cells": [
  {
   "cell_type": "markdown",
   "metadata": {},
   "source": []
  },
  {
   "cell_type": "markdown",
   "metadata": {
    "collapsed": false,
    "scrolled": false
   },
   "source": [
    "p48-49\n",
    "1.求下列方程的解：\n",
    "  （4）$\\frac{ d y}{ d x}-\\frac{n}{x}y=e^xx^n(n为常数）$；\n",
    "  \n",
    "解：原方程可化为：\n",
    "       $\\frac{ d y}{ d x}=\\frac{n}{x}+e^xx^n$\n",
    "       \n",
    "       \n",
    "       方程形式满足一阶齐次线性微分方程的形式，则可得方程的解为：\n",
    "       \n",
    "       "
   ]
  },
  {
   "cell_type": "markdown",
   "metadata": {
    "collapsed": true
   },
   "source": [
    "$$y=e^{\\int \\frac{n}{x}dx}(\\int e^xx^ne^{-\\int \\frac{n}{x}dx}dx+c)=x^n(e^x+c)$$"
   ]
  },
  {
   "cell_type": "markdown",
   "metadata": {},
   "source": [
    "(15)$\\frac{dy}{dx}=\\frac{1}{xy+x^3y^3}$\n",
    "\n",
    "解:将原方程等式两边分子分母颠倒，可得"
   ]
  },
  {
   "cell_type": "markdown",
   "metadata": {},
   "source": [
    "$\\frac{dx}{dy}=xy+x^3y^3$"
   ]
  },
  {
   "cell_type": "markdown",
   "metadata": {},
   "source": [
    " 不难发现,上式为伯努利方程中n=3的情况，以x为函数，y为自变\n",
    " \n",
    " 令$z=x^(-2)$,从而\n",
    " \n",
    " $$\\frac{dz}{dy}=(-2)x^-3)\\frac{dx}{dy}$$\n",
    " \n",
    "  进一步化简为：$\\frac {dz}{dy}=-2(zy+y^3)$, 其中$Q(y)=2y^3, P(y)=2y$"
   ]
  },
  {
   "cell_type": "markdown",
   "metadata": {},
   "source": [
    "上式为一阶齐次线性微分方程，可运用常数变易法"
   ]
  },
  {
   "cell_type": "markdown",
   "metadata": {},
   "source": [
    "$z=e^{\\int-2ydy}(\\int-2y^3e^{-\\int-2dy}dy+c)$\n",
    "\n",
    "代入$z=x^2$,化简得\n",
    "\n",
    "$x^2(-y^2+1+ce^{-y^2})=1$\n",
    "\n",
    "$e^{y^2}(1-x^2+x^2y^2)=cx^2$\n",
    "\n",
    "所以原方程的解即为\n",
    "\n",
    "\n",
    "$e^{y^2}(1-x^2+x^2y^2)=cx^2$"
   ]
  },
  {
   "cell_type": "markdown",
   "metadata": {},
   "source": [
    "(16)$y=e^x+\\int_{0}^{x}y(t)dt$\n",
    "\n",
    "   解：原方程对积分上限求导并对等式两边同时求导得\n",
    "   \n",
    "    "
   ]
  },
  {
   "cell_type": "markdown",
   "metadata": {},
   "source": [
    "  $\\frac{dy}{dx}=e^x+y(x)$\n",
    "      $\\frac{dy}{dx}=y+e^x$\n",
    "      其中P(x)=1, Q(x)=e^x\n",
    "\n",
    "\n",
    "利用一阶齐次线性微分方程的解法，得"
   ]
  },
  {
   "cell_type": "markdown",
   "metadata": {},
   "source": [
    "$y=e^{\\int1dx}(\\int e^xe^{-\\int1dx }dx+c)$\n",
    "\n",
    " $e^x（x+c）=e^x+\\int_{0}^{x}e^x(x+c)dx$\n",
    "\n",
    "  解得：$y=e^x(x+c)$，$c=1$\n"
   ]
  },
  {
   "cell_type": "markdown",
   "metadata": {},
   "source": [
    "  P50 7.求解下列方程式\n",
    "\n",
    "（3）$y'sinxcosx-y-(sinx)^3=0$\n",
    "\n",
    "解：$\\frac{dy}{dx}=\\frac{y}{sinxcosx}+\\frac{(sinx)^2}{cosx}$"
   ]
  },
  {
   "cell_type": "markdown",
   "metadata": {},
   "source": [
    "$Q(x)=\\frac{sinx^2}{cosx},P(x)=\\frac{1}{sinxcosx}$"
   ]
  },
  {
   "cell_type": "markdown",
   "metadata": {},
   "source": [
    "由一阶齐次线性微分方程的求解方法"
   ]
  },
  {
   "cell_type": "markdown",
   "metadata": {},
   "source": [
    "$y=e^{\\int\\frac{1}{sinxcosx}dx}(\\int\\frac{(sinx)^2}{cosx}e^{-\\int\\frac{1}{sinxcosx}dx}dx+c)$\n",
    "\n",
    "化简得方程的通解为：$y=ctanx-sinx$"
   ]
  },
  {
   "cell_type": "markdown",
   "metadata": {},
   "source": [
    "# <font color='red'>特解"
   ]
  },
  {
   "cell_type": "markdown",
   "metadata": {},
   "source": [
    "P60  1.验证下列方程是恰当微分方程，并求出方程的解：\n",
    "\n",
    "（1）$(x^2+y)dx+(x-2y)dy=0$\n",
    "\n",
    "解：$\\frac{\\partial u}{\\partial y}=1,\\frac{\\partial v}{\\partial x}=1$\n",
    "\n",
    "则有：$\\frac{\\partial u}{\\partial y}=\\frac{\\partial v}{\\partial x}=1$\n"
   ]
  },
  {
   "cell_type": "markdown",
   "metadata": {},
   "source": [
    "所以此方程为恰当微分方程\n",
    "\n",
    "\n",
    "利用凑微分法得$x^2dx-2ydy+(xdy+ydy)=0$\n",
    "\n",
    "解得原微分方程的通解为$\\frac{1}{3}x^3+xy-y^3=c$"
   ]
  },
  {
   "cell_type": "markdown",
   "metadata": {},
   "source": [
    "(2)$(y-3x^2)dx-(4y-x)dy=0$\n",
    "\n",
    "解：$\\frac{\\partial u}{\\partial y}=1,\\frac{\\partial v}{\\partial x}=1$\n",
    "\n",
    "则有$\\frac{\\partial m}{\\partial y}=\\frac{\\partial n}{\\partial x}$\n",
    "\n",
    "所以此方程为恰当微分方程\n",
    "\n",
    "利用凑微分法得\n",
    "\n",
    "$ydy+xdy-4ydy-3x^2dx=0$\n",
    "\n",
    "分离变量并对等式两边积分得方程的通解为\n",
    "\n",
    "$x^3-xy+2y^2=c$"
   ]
  },
  {
   "cell_type": "markdown",
   "metadata": {
    "collapsed": true
   },
   "source": [
    "# <font color='red'>A  19/9"
   ]
  },
  {
   "cell_type": "code",
   "execution_count": null,
   "metadata": {
    "collapsed": true
   },
   "outputs": [],
   "source": []
  }
 ],
 "metadata": {
  "kernelspec": {
   "display_name": "SageMath 7.3",
   "language": "",
   "name": "sagemath"
  },
  "language_info": {
   "codemirror_mode": {
    "name": "ipython",
    "version": 2
   },
   "file_extension": ".py",
   "mimetype": "text/x-python",
   "name": "python",
   "nbconvert_exporter": "python",
   "pygments_lexer": "ipython2",
   "version": "2.7.10"
  }
 },
 "nbformat": 4,
 "nbformat_minor": 0
}
