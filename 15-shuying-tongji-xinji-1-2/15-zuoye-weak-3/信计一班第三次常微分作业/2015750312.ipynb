{
 "cells": [
  {
   "cell_type": "markdown",
   "metadata": {},
   "source": [
    "2.解：(4)首先，求齐次线性微分方程\n",
    "\n",
    "$ dy/dx-ny/x=0 $ 的通解\n",
    "\n",
    "分离变量，得 $ dy/y=ndx/x $\n",
    "\n",
    "两边积分，得齐次线性微分方程的通解 $ y=cx^n $\n",
    "\n",
    "应用常数变易法，得 $ y=c(x)x^n $\n",
    "\n",
    "带入原方程，化简得 $ dc(x)/dx=e^x $\n",
    "\n",
    "积分，得 $ c(x)=e^x+c_1 $\n",
    "\n",
    "∴原方程的通解 $ y=c_1x^n+e^xx^n $ c1为任意常数"
   ]
  },
  {
   "cell_type": "markdown",
   "metadata": {},
   "source": [
    "(15)首先，原方程可化为 $ ydy/dx=1/(x+x^3y^2) $\n",
    "\n",
    "令 $ u=y^2 $ 得 $ du/dx=2/(x+x^3u) $\n",
    "\n",
    "将u作为自变量，x为因变量时\n",
    "\n",
    "上述方程可化为n=3时的伯努利方程 $ dx/du=x/2+ux^3/2 $\n",
    "\n",
    "令 $ z=x^-2 $ 得 $ dz/du=-z-u $\n",
    "\n",
    "由一阶线性方程的求解公式，得\n",
    "\n",
    "$ z=e^{\\int -1\\,\\mathrm{d}u}(\\int (-u)e^{\\int 1\\,\\mathrm{d}u\\,}\\mathrm{d}u+c)=ce^-u-u+1 $\n",
    "\n",
    "代回原变量，得原方程的解 $ 1/x^2=ce^-y^2-y^2+1 $ 或 $ [1-x^2+(xy)^2]e^(y^2)=cx^2 $ c为任意常数"
   ]
  },
  {
   "cell_type": "markdown",
   "metadata": {},
   "source": [
    "(16)对原方程两边关于x求导得 $ dy/dx=e^x+y $\n",
    "\n",
    "由一阶线性方程的求导公式，得 $ y=e^x*(x+c) $\n",
    "\n",
    "当$ x=0时，由原方程得y=1 $\n",
    "\n",
    "∴$ c=1 $ \n",
    "\n",
    "∴原方程的解为 $ y=e^x*(x+1) $"
   ]
  },
  {
   "cell_type": "markdown",
   "metadata": {},
   "source": [
    "7.解：(3)原方程可化为 $ dy/dx=y/sinx*cosx+sin^2x/cosx(sinx\\neq0,cosx\\neq0) $\n",
    "\n",
    "由一阶线性方程的求解公式得通解为 $ y=e^{\\int \\frac{1}{sinxcosx}\\,\\mathrm{d}x}(\\int \\frac{sin^2}{cosx}*e^{-{\\int \\frac{1}{sinxcosx}\\,\\mathrm{d}x},}\\mathrm{d}x+c) $\n",
    "\n",
    "即 $ y=tanx(\\int \\frac{sin^2}{cosx}*cotx\\,\\mathrm{d}x+c) $\n",
    "\n",
    "求积分化简得 $ y=tanx(c-cosx) 即 y=ctanx-sinx $\n",
    "\n",
    "当 $ sinx=0 时 原方程化为y=0 $\n",
    "\n",
    "当 $ cosx=0 时 原方程化为y=±1, 即曲线退化成(2kπ+π/2,-1)和(2kπ-π/2,1),k=0,±1,±2…… $\n",
    "\n",
    "∴原方程的解为 $ y=ctanx-sinx,(x\\neq kπ±π/2) c为任意常数 $\n",
    "\n",
    "或 $ (2kπ+π/2,-1),(2kπ-π/2,1),k=0,±1,±2,…… $"
   ]
  },
  {
   "cell_type": "markdown",
   "metadata": {},
   "source": [
    "1.解：(1)∵ $ A=x^2+y,B=x-2y $\n",
    "\n",
    "又 $ \\frac{\\partial{A}}{\\partial{y}}=1,\\frac{\\partial{B}}{\\partial{x}}=1 $\n",
    "\n",
    "∴方程是恰当微分方程\n",
    "\n",
    "$ 求u,使它同时满足\\frac{\\partial{u}}{\\partial{x}}=x^2+y, \\frac{\\partial{u}}{\\partial{y}}=x-2y $\n",
    "\n",
    "第一个方程对x积分，得 $ u=\\frac{1}{3}x^3+xy+f(y) $\n",
    "\n",
    "两端对y求导，得 $ \\frac{\\partial{u}}{\\partial{y}}=x+f^{\\prime}(y),与 \\frac{\\partial{u}}{\\partial{y}}=x-2y $\n",
    "\n",
    "比较，得 $ f^{\\prime}(y)=-2y 积分，得f(y)=-y^2 $\n",
    "\n",
    "∴ $ u=\\frac{1}{3}x^3+xy-y^2 $\n",
    "\n",
    "即原方程的通解为 $ \\frac{1}{3}x^3+xy-y^2=c $ $c是任意常数 $"
   ]
  },
  {
   "cell_type": "markdown",
   "metadata": {},
   "source": [
    "(2)∵ $ A=y-3x^2,B=x-4y $\n",
    "\n",
    "又 $ \\frac{\\partial{A}}{\\partial{y}}=1,\\frac{\\partial{B}}{\\partial{x}}=1 $\n",
    "\n",
    "∴方程是恰当微分方程\n",
    "\n",
    "分项组合，得 $ (ydy+xdy)-3x^2dx-4ydy=0 $\n",
    "\n",
    "即 $ d(xy-x^3-2y^2)=0 $\n",
    "\n",
    "∴方程的通解为 $ xy-x^3-2y^2=c $ $c为任意常数$"
   ]
  },
  {
   "cell_type": "markdown",
   "metadata": {
    "collapsed": true
   },
   "source": [
    "# <font color='red'>A + 19/9"
   ]
  },
  {
   "cell_type": "code",
   "execution_count": null,
   "metadata": {
    "collapsed": true
   },
   "outputs": [],
   "source": []
  }
 ],
 "metadata": {
  "kernelspec": {
   "display_name": "SageMath 7.3",
   "language": "",
   "name": "sagemath"
  },
  "language_info": {
   "codemirror_mode": {
    "name": "ipython",
    "version": 2
   },
   "file_extension": ".py",
   "mimetype": "text/x-python",
   "name": "python",
   "nbconvert_exporter": "python",
   "pygments_lexer": "ipython2",
   "version": "2.7.10"
  }
 },
 "nbformat": 4,
 "nbformat_minor": 0
}
