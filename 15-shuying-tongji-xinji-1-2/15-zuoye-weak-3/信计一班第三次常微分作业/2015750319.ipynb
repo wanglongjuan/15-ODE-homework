{
 "cells": [
  {
   "cell_type": "code",
   "execution_count": 1,
   "metadata": {
    "collapsed": false
   },
   "outputs": [
    {
     "data": {
      "text/html": [
       "<html><script type=\"math/tex; mode=display\">\\newcommand{\\Bold}[1]{\\mathbf{#1}}c + \\frac{1}{2} \\, x + \\frac{1}{4} \\, \\sin\\left(2 \\, x\\right)</script></html>"
      ],
      "text/plain": [
       "c + 1/2*x + 1/4*sin(2*x)"
      ]
     },
     "metadata": {},
     "output_type": "display_data"
    }
   ],
   "source": [
    "var('x c')\n",
    "show(integral(cos(x)^2,x)+c)"
   ]
  },
  {
   "cell_type": "code",
   "execution_count": 1,
   "metadata": {
    "collapsed": false
   },
   "outputs": [
    {
     "data": {
      "text/html": [
       "<html><script type=\"math/tex; mode=display\">\\newcommand{\\Bold}[1]{\\mathbf{#1}}\\left[\\frac{4 \\, C + 2 \\, x + \\sin\\left(2 \\, x\\right)}{4 \\, \\cos\\left(x\\right)}, \\verb|linear|\\right]</script></html>"
      ],
      "text/plain": [
       "[1/4*(4*_C + 2*x + sin(2*x))/cos(x), 'linear']"
      ]
     },
     "metadata": {},
     "output_type": "display_data"
    }
   ],
   "source": [
    "var('x')\n",
    "y=function('y')(x)\n",
    "de=cos(x)*diff(y,x)==y*sin(x)+cos(x)^2\n",
    "s=desolve(de,y,show_method=True)\n",
    "show(s)"
   ]
  },
  {
   "cell_type": "markdown",
   "metadata": {},
   "source": [
    "1.(4)\n",
    "因为 $$\\frac{\\mathrm d y}{\\mathrm d x}-\\frac{n}{x}y=0$$\n",
    "所以分离变量可得$$\\frac{\\mathrm d y}{y}=\\frac{n}{x}\\mathrm d x$$\n",
    "两边积分$$y=cx^n$$\n",
    "设通解为$y=c(x)x^n$       代入原方程化简得$$\\frac{\\mathrm d c(x)}{\\mathrm d x}=e^x$$即$\\mathrm d c(x)=e^x\\mathrm d x$\n",
    "两边积分得$c(x)=e^x+c_1$\n",
    "所以通解就为$$y=c_{1}x^n+e^{x}x^n$$"
   ]
  },
  {
   "cell_type": "markdown",
   "metadata": {},
   "source": [
    "(15)$$\\frac{\\mathrm d y}{\\mathrm d x}=\\frac{1}{xy+x^{3}y^3}$$\n",
    "即 $$\\frac{y\\mathrm d y}{\\mathrm d x}=\\frac{1}{x+x^{3}y^3}$$\n",
    "令$u=y^{2}$得$$\\frac{\\mathrm d u}{\\mathrm d x}=\\frac{2}{x+x^{3}u}$$\n",
    "将两边上下颠倒得$$\\frac{\\mathrm d x}{\\mathrm d u}=\\frac{x}{2}+\\frac{u}{x}x^3$$\n",
    "令$z=x^{-2}$得$$\\frac{\\mathrm d z}{\\mathrm d u}=-z-u$$\n",
    "代入公式可得$$z=e^{\\int(-1)\\mathrm d u}(\\int(-u)e^{\\int1\\mathrm d u}\\mathrm{d u}+c)=ce^{-u}-u+1$$\n",
    "再代回得$$\\frac{1}{x^2}=ce^{-y^2}-y^2+1$$"
   ]
  },
  {
   "cell_type": "markdown",
   "metadata": {},
   "source": [
    "(16)$$y=e^x+\\int_0^x{y(t)}\\mathrm d t$$\n",
    "两边对x求导$$\\frac{\\mathrm d y}{\\mathrm d x}=e^x+y$$\n",
    "代入公式得$$y=e^x(\\int e^{x}e^{-x}\\mathrm{d x}+c)=e^x(x+c)$$\n",
    "将$x=0$代入原方程可得$y=1$   即$c=1$\n",
    "所以解为$$y=e^x(x+1)$$"
   ]
  },
  {
   "cell_type": "markdown",
   "metadata": {},
   "source": [
    "7.(3)\n",
    "$$y'\\sin{x}\\cos{x}-y-sin^3{x}=0$$\n",
    "即$$\\frac{\\mathrm d y}{\\mathrm d x}=\\frac{1}{\\sin x\\cos x}y+\\frac{\\sin^2{x}}{\\cos x}$$\n",
    "代入公式得$$y=e^{\\int\\frac{\\mathrm d x}{\\sin x\\cos x}}(\\int{\\frac{\\sin^2{x}}{\\cos x}}e^{-\\int{\\frac{\\mathrm d x}{\\sin x\\cos x}}}\\mathrm d x+c)$$\n",
    "即$$y=\\tan x(\\int{\\frac{\\sin^2{x}}{\\cos x}}\\cot x\\mathrm d x+c)$$\n",
    "两边积分化简得$$y=\\tan x(c-\\cos x)$$即$$y=c\\tan x-\\sin x$$\n",
    "\n",
    "当$\\sin x=0$时，$y=0$\n",
    "\n",
    "当$\\cos x=0$时，$y=\\pm 1$ 即为$(2k\\pi+\\frac{\\pi}{2},-1)$和$(2k\\pi+\\frac{\\pi}{2},1)$\n",
    "\n",
    "所以解为$y=c\\tan x-\\sin x$和$(2k\\pi+\\frac{\\pi}{2},-1)$,$(2k\\pi+\\frac{\\pi}{2},1)$"
   ]
  },
  {
   "cell_type": "markdown",
   "metadata": {},
   "source": [
    "1.(1)$$(x^2+y)\\mathrm d x+(x-2y)\\mathrm d y=0$$\n",
    "即$$M=x^2+y,N=x-2y$$\n",
    "并且$$\\frac{\\partial M}{\\partial y}=1,\\frac{\\partial N}{\\partial x}=1$$\n",
    "所以是恰当微分方程,有一个$u$,同时满足$$\\frac{\\partial u}{\\partial x}=x^2+y,\\frac{\\partial u}{\\partial y}=x-2y$$\n",
    "第一个方程对$x$积分得$$u=\\frac{1}{3}x^3+xy+\\varphi(y)$$\n",
    "再对$y$求导得$$\\frac{\\partial u}{\\partial y}=x+\\varphi'(y)$$\n",
    "将此式与第二个等式联立得$$\\varphi'(y)=-2y$$\n",
    "积分得$$\\varphi(y)=-y^2$$\n",
    "即$$u=\\frac{1}{3}x^3+xy-y^2$$\n",
    "通解为$$\\frac{1}{3}x^3+xy-y^2=c$$"
   ]
  },
  {
   "cell_type": "markdown",
   "metadata": {},
   "source": [
    "(2)$$(y-3x^2)\\mathrm d x-(4y-x)\\mathrm d y=0$$\n",
    "即$$M=y-3x^2,N=x-4y$$\n",
    "并且$$\\frac{\\partial M}{\\partial y}=1,\\frac{\\partial N}{\\partial x}=1$$\n",
    "所以是恰当微分方程\n",
    "\n",
    "方程原式可化为$$(y\\mathrm d x+x\\mathrm d y)-3x^2\\mathrm d x-4y\\mathrm d y=0$$\n",
    "即$$\\mathrm d (xy-x^3-2y^2)=0$$\n",
    "通解为$$xy-x^3-2y^2=c$$"
   ]
  },
  {
   "cell_type": "markdown",
   "metadata": {},
   "source": [
    "验证题：对$\\int_{a(x)}^{b(x)} f(x)\\mathrm d x$求导\n",
    "假设原函数为$F(x)$,即$F'(x)=f(x)$\n",
    "所以$$y=\\int_{a(x)}^{b(x)} f(x)\\mathrm d x=F(b(x))-F(a(x))$$\n",
    "两边求导$$y'=F'(b(x))b'(x)-F'(a(x))a'(x)$$"
   ]
  },
  {
   "cell_type": "markdown",
   "metadata": {},
   "source": [
    "# <font color='red'>A  19/9   少一道题"
   ]
  },
  {
   "cell_type": "code",
   "execution_count": null,
   "metadata": {
    "collapsed": true
   },
   "outputs": [],
   "source": []
  }
 ],
 "metadata": {
  "kernelspec": {
   "display_name": "SageMath 7.3",
   "language": "",
   "name": "sagemath"
  },
  "language_info": {
   "codemirror_mode": {
    "name": "ipython",
    "version": 2
   },
   "file_extension": ".py",
   "mimetype": "text/x-python",
   "name": "python",
   "nbconvert_exporter": "python",
   "pygments_lexer": "ipython2",
   "version": "2.7.10"
  }
 },
 "nbformat": 4,
 "nbformat_minor": 0
}
