{
 "cells": [
  {
   "cell_type": "markdown",
   "metadata": {},
   "source": [
    "$p48.1.(4)\\frac{dy}{dx}=\\frac{n}{x}y=e^xx^n$"
   ]
  },
  {
   "cell_type": "markdown",
   "metadata": {
    "collapsed": true
   },
   "source": [
    "$令\\frac{dy}{dx}=\\frac{n}{x}y$"
   ]
  },
  {
   "cell_type": "markdown",
   "metadata": {
    "collapsed": true
   },
   "source": [
    "$利用变量分离方程得到y=cx^n$"
   ]
  },
  {
   "cell_type": "markdown",
   "metadata": {
    "collapsed": true
   },
   "source": [
    "$令y=c(x)x^n得到\\frac{dy}{dx}=\\frac{dc(x)}{dx}x^n+nx^(n-1)c(x)$"
   ]
  },
  {
   "cell_type": "markdown",
   "metadata": {},
   "source": [
    "$所以带入方程得到\\frac{d(cx)}{dx}=e^x$"
   ]
  },
  {
   "cell_type": "markdown",
   "metadata": {},
   "source": [
    "$所以有c(x)=e^x+c     所以有y=x^n(e^x+c)且c为实数$ "
   ]
  },
  {
   "cell_type": "markdown",
   "metadata": {},
   "source": [
    "$p48.1.(15) \\frac{dy}{dx}=  \\frac{1}{xy+x^3y^3} $"
   ]
  },
  {
   "cell_type": "markdown",
   "metadata": {},
   "source": [
    "$\\frac{dx}{dy}=xy+x^3y^3 两边同时除以x^3得到\n",
    "\\frac{dx}{x^3dy}=\\frac{y}{x^2}+y^3\n",
    "令z=\\frac{1}{x^2}\n",
    "\\frac{dz}{dy}=-2zy-2y^3$"
   ]
  },
  {
   "cell_type": "markdown",
   "metadata": {},
   "source": [
    "$令\\frac{dz}{dy}=-2zy,\n",
    "\\frac{dz}{z}=-2ydy,\n",
    "lnz=-\\int2ydy+c\n",
    "令u=y^2\n",
    "z=ce^-u-u+1\n",
    "得到、\\frac{1}{x^2}=ce^-y^2-y^2+1$"
   ]
  },
  {
   "cell_type": "markdown",
   "metadata": {},
   "source": [
    "$p48.1.(16)y=e^x+\\int_0^x{y(t)d t}$"
   ]
  },
  {
   "cell_type": "markdown",
   "metadata": {},
   "source": [
    "$\\frac{dy}{dx}=e^x+y$"
   ]
  },
  {
   "cell_type": "markdown",
   "metadata": {},
   "source": [
    "$令\\frac{dy}{dx}=e^x,\\int 1dy=\\int e^xdx,y=e^x+c,y=c(x)e^x$"
   ]
  },
  {
   "cell_type": "markdown",
   "metadata": {},
   "source": [
    "$\\frac{dy}{dx}=\\frac{dc(x)}{dx}e^x+c(x)e^x=e^x+c(x)e^x,\\frac{c(x)}{x}=1,c(x)=x+c,所以y=(x+c)e^x$"
   ]
  },
  {
   "cell_type": "markdown",
   "metadata": {},
   "source": [
    "# <font color='red'>特解？"
   ]
  },
  {
   "cell_type": "markdown",
   "metadata": {},
   "source": [
    "$p50.6.(3)$"
   ]
  },
  {
   "cell_type": "markdown",
   "metadata": {},
   "source": [
    "$y'sinxcosx-y-sin^3x=0$"
   ]
  },
  {
   "cell_type": "markdown",
   "metadata": {},
   "source": [
    "$原方程可化为\\frac{dy}{dx}=\\frac{1}{sinxcosx}y+\\frac{sin^2x}{cos}$"
   ]
  },
  {
   "cell_type": "markdown",
   "metadata": {},
   "source": [
    "$所以y=e^\\int \\frac{dx}{sinxcosx}(\\int \\frac{sin^x}{cosx}e^\\int \\frac{-dx}{sinxcosx}dx+c)$"
   ]
  },
  {
   "cell_type": "markdown",
   "metadata": {},
   "source": [
    "# <font color='red'>化简特解？"
   ]
  },
  {
   "cell_type": "markdown",
   "metadata": {},
   "source": [
    "$p60.1.(1)$"
   ]
  },
  {
   "cell_type": "markdown",
   "metadata": {},
   "source": [
    "$(1)(x^2+y)dx+(x-2y)dy=0$"
   ]
  },
  {
   "cell_type": "markdown",
   "metadata": {},
   "source": [
    "$M=x^2+y,N=x-2y$"
   ]
  },
  {
   "cell_type": "markdown",
   "metadata": {},
   "source": [
    "$\\frac{\\partial M}{\\partial y}=1,,,,,\\frac{\\partial N}{\\partial x}=1$"
   ]
  },
  {
   "cell_type": "markdown",
   "metadata": {},
   "source": [
    "$\\frac{\\partial u}{\\partial x}=x^2+y,,,,,\\frac{\\partial u}{\\partial y}=x-2y$"
   ]
  },
  {
   "cell_type": "markdown",
   "metadata": {},
   "source": [
    "$u=\\frac{x^3}{3}+xy+\\varphi(y) $"
   ]
  },
  {
   "cell_type": "markdown",
   "metadata": {},
   "source": [
    "$\\frac{\\partial u}{\\partial y}=x+\\frac{\\varphi(y)}{dy}=x-2y$"
   ]
  },
  {
   "cell_type": "markdown",
   "metadata": {},
   "source": [
    "$\\varphi(y)=-y^2$"
   ]
  },
  {
   "cell_type": "markdown",
   "metadata": {},
   "source": [
    "$\\frac{x^3}{3}+xy-y^2=c$"
   ]
  },
  {
   "cell_type": "markdown",
   "metadata": {},
   "source": [
    "$(2)(y-3x^2)dx-(4y-x)dy=0$"
   ]
  },
  {
   "cell_type": "markdown",
   "metadata": {},
   "source": [
    "$M=y-3x^2,N=x-4y$"
   ]
  },
  {
   "cell_type": "markdown",
   "metadata": {},
   "source": [
    "$\\frac{\\partial M}{\\partial y}=1,,,,,\\frac{\\partial N}{\\partial x}=1$"
   ]
  },
  {
   "cell_type": "markdown",
   "metadata": {},
   "source": [
    "$\\frac{\\partial u}{\\partial x}=y-3x^2,,,,,\\frac{\\partial u}{\\partial y}=x-4y$"
   ]
  },
  {
   "cell_type": "markdown",
   "metadata": {},
   "source": [
    "$u=xy-x^3+\\varphi(y)$"
   ]
  },
  {
   "cell_type": "markdown",
   "metadata": {},
   "source": [
    "$\\frac{\\partial u}{\\partial y}=\\frac{\\varphi(y)}{dy}+x=x-4y$"
   ]
  },
  {
   "cell_type": "markdown",
   "metadata": {},
   "source": [
    "$\\varphi(y)=-2y^2$"
   ]
  },
  {
   "cell_type": "markdown",
   "metadata": {},
   "source": [
    "$方程为xy-x^3-2y^2=c$"
   ]
  },
  {
   "cell_type": "markdown",
   "metadata": {
    "collapsed": true
   },
   "source": [
    "# <font color='red'>A  19/9"
   ]
  },
  {
   "cell_type": "code",
   "execution_count": null,
   "metadata": {
    "collapsed": true
   },
   "outputs": [],
   "source": []
  }
 ],
 "metadata": {
  "kernelspec": {
   "display_name": "Python 2",
   "language": "python",
   "name": "python2"
  },
  "language_info": {
   "codemirror_mode": {
    "name": "ipython",
    "version": 2
   },
   "file_extension": ".py",
   "mimetype": "text/x-python",
   "name": "python",
   "nbconvert_exporter": "python",
   "pygments_lexer": "ipython2",
   "version": "2.7.10"
  }
 },
 "nbformat": 4,
 "nbformat_minor": 0
}
