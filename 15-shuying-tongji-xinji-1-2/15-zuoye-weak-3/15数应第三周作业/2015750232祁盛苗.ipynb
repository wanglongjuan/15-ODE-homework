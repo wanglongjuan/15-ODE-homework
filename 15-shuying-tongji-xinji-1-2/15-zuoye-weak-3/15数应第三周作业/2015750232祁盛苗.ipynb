{
 "cells": [
  {
   "cell_type": "markdown",
   "metadata": {
    "collapsed": true
   },
   "source": [
    "**第二次作业**"
   ]
  },
  {
   "cell_type": "markdown",
   "metadata": {},
   "source": [
    "**P48 1、求下列方程的解。**\n",
    "\n",
    "（4）$\\frac{dy}{dx}-\\frac{ny}{x}=e^xx^n;$\n",
    "\n",
    "（15）$\\frac{dy}{dx}=\\frac{1}{xy+x^3y^3};$\n",
    "\n",
    "（16）$y=e^x+\\int_0^x\\mathrm{y(t)}\\,\\mathrm{d}x.$"
   ]
  },
  {
   "cell_type": "markdown",
   "metadata": {},
   "source": [
    "**解：**\n",
    "(4)根据教材P45公式2.31可得$$P(x)=\\frac{n}{x},Q(x)=e^xx^n;$$\n",
    "\n",
    "则其通解为$$y=(e^x+c)x^n$$\n",
    "\n",
    "(15)令$①u=y^2,$则原式可化为：$$\\frac{du}{dx}=\\frac{2}{x+x^3u}$$\n",
    "\n",
    "即$$\\frac{dx}{du}=\\frac{x}{2}+\\frac{ux^3}{2}$$\n",
    "\n",
    "令$②z=x^{-2}$ 则$$\\frac{dz}{du}=-2x^{-3}\\frac{dx}{du}$$\n",
    "\n",
    "代入可得 $$\\frac{dz}{du}=-z-u$$\n",
    "\n",
    "其通解为$$z=ce^{-u}-u+1$$\n",
    "\n",
    "将①②代入，得$$\\frac{1}{x^2}=ce^{-u}-y^2+1$$\n",
    "\n"
   ]
  },
  {
   "cell_type": "markdown",
   "metadata": {},
   "source": [
    "(16)两边对x求导可得：$$\\frac{dy}{dx}=y+e^x$$\n",
    "\n",
    "∵$\\frac{dy}{dx}=y$的解为$y=ce^x$\n",
    "\n",
    "∴令$y=c(x)e^x，$则$$\\frac{dy}{dx}=\\frac{dc(x)}{dx}e^x+c(x)e^x$$\n",
    "\n",
    "代入原方程得$$\\frac{dc(x)}{dx}=1$$\n",
    "\n",
    "所以$$c(x)=x+c$$\n",
    "\n",
    "所以其通解为$$y=e^x(x+c)$$\n",
    "\n",
    "当x=0时，c=1，所以其通解为$y=e^x(x+1)$"
   ]
  },
  {
   "cell_type": "markdown",
   "metadata": {},
   "source": [
    "**7、求解下列方程。**\n",
    "\n",
    "（3）$y'sinxcosx-y-sin^3x=0.$"
   ]
  },
  {
   "cell_type": "markdown",
   "metadata": {},
   "source": [
    "**解：**\n",
    "原方程变形为$$\\frac{dy}{dx}=\\frac{y}{sinxcosx}+\\frac{sin^2x}{cosx}$$\n",
    "\n",
    "则根据公式2.31可得其通解为：$$y=tanx(\\int\\mathrm{\\frac{sin^2x}{cosx}cotx}\\,\\mathrm{d}x+c)$$\n",
    "\n",
    "$$y=ctanx-sinx$$\n",
    "\n",
    "当sinx=0时，原方程为y=0;\n",
    "\n",
    "当cosx=0时，原方程为y=±1;\n",
    "\n",
    "所以原方程的通解为$$y=ctanx-sinx$$\n",
    "\n",
    "或$$-(kπ+\\frac{π}{2},c-1^{k+1})$$"
   ]
  },
  {
   "cell_type": "markdown",
   "metadata": {},
   "source": [
    "**P60 1、验证下列方程是恰当微分方程，并求出方程的解。**\n",
    "\n",
    "(1)$(x^2+y)dx=(x-2y)dy=0;$\n",
    "\n",
    "(2)$(y-3x^2)dx-(4y-x)dy=0。$\n"
   ]
  },
  {
   "cell_type": "markdown",
   "metadata": {},
   "source": [
    "**解：**\n",
    "(1)∵$M=x^2=y,N=x-2y$\n",
    "\n",
    "有$$\\frac{\\partial W}{\\partial y}=1,\\frac{\\partial N}{\\partial x}=1$$\n",
    "\n",
    "∴此方程是恰当微分方程。\n",
    "\n",
    "现求u同时满足下列两个方程：$$①\\frac{\\partial u}{\\partial x}=x^2+y$$\n",
    "$$②\\frac{\\partial u}{\\partial y}=x-2y$$\n",
    "\n",
    "①对x积分得：$$u=\\frac{1}{3}x^3+xy+ψ(x)$$\n",
    "\n",
    "对y求导得$$\\frac{\\partial u}{\\partial y}=x+ψ'(y)$$\n",
    "\n",
    "则$$ψ'(y)=-2y$$\n",
    "\n",
    "$$ψ(x)=-y^2$$\n",
    "\n",
    "∴$$u=\\frac{1}{3}x^3+xy-y^2$$\n",
    "\n",
    "则通解为$$x^3+3xy-3y^2=c,c为任意常数。$$\n"
   ]
  },
  {
   "cell_type": "markdown",
   "metadata": {},
   "source": [
    "(2)∵$M=y-3x^2,N=x-4y$\n",
    "\n",
    "有$$\\frac{\\partial W}{\\partial y}=1,\\frac{\\partial N}{\\partial x}=1$$\n",
    "\n",
    "∴此方程是恰当微分方程。\n",
    "\n",
    "现求u同时满足下列两个方程：$$①\\frac{\\partial u}{\\partial x}=y-3x^2$$\n",
    "$$②\\frac{\\partial u}{\\partial y}=x-4y$$\n",
    "\n",
    "①对积分得：$$u=xy-x^3+xy+ψ(x)$$\n",
    "\n",
    "对y求导得$$\\frac{\\partial u}{\\partial y}=x+ψ'(y)$$\n",
    "\n",
    "则$$ψ'(y)=-4y$$\n",
    "\n",
    "$$ψ(x)=-2y^2$$\n",
    "\n",
    "∴$$u=xy-x^3+xy-2y^2$$\n",
    "\n",
    "则通解为$$x^3-xy+2y^2=c,c为任意常数。$$"
   ]
  },
  {
   "cell_type": "markdown",
   "metadata": {
    "collapsed": true
   },
   "source": [
    "# <font color='red'>A  19/9 "
   ]
  },
  {
   "cell_type": "code",
   "execution_count": null,
   "metadata": {
    "collapsed": true
   },
   "outputs": [],
   "source": []
  }
 ],
 "metadata": {
  "kernelspec": {
   "display_name": "SageMath 7.3",
   "language": "",
   "name": "sagemath"
  },
  "language_info": {
   "codemirror_mode": {
    "name": "ipython",
    "version": 2
   },
   "file_extension": ".py",
   "mimetype": "text/x-python",
   "name": "python",
   "nbconvert_exporter": "python",
   "pygments_lexer": "ipython2",
   "version": "2.7.10"
  }
 },
 "nbformat": 4,
 "nbformat_minor": 0
}
