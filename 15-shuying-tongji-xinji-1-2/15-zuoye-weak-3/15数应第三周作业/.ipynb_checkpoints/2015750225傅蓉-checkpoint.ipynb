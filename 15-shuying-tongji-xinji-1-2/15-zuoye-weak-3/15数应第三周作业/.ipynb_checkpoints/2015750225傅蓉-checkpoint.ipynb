{
 "cells": [
  {
   "cell_type": "markdown",
   "metadata": {},
   "source": [
    "# **P49 1.求下列方程的解**"
   ]
  },
  {
   "cell_type": "markdown",
   "metadata": {},
   "source": [
    "**（4）$\\frac{\\mathrm d y}{\\mathrm d x}-n \\frac{y}{x}=e^x x^n(n为常数)$;**"
   ]
  },
  {
   "cell_type": "markdown",
   "metadata": {},
   "source": [
    "**解：**"
   ]
  },
  {
   "cell_type": "markdown",
   "metadata": {},
   "source": [
    "$\\frac{\\mathrm d y}{\\mathrm d x}=n \\frac{y}{x}+e^x x^n$"
   ]
  },
  {
   "cell_type": "markdown",
   "metadata": {},
   "source": [
    "**先考察$\\frac{\\mathrm d y}{\\mathrm d x}=n \\frac{y}{x}$的通解（注意考虑y=0的情况）**"
   ]
  },
  {
   "cell_type": "markdown",
   "metadata": {},
   "source": [
    "$\\frac{ \\mathrm d y}{y}=\\frac{n \\mathrm d x}{x}$"
   ]
  },
  {
   "cell_type": "markdown",
   "metadata": {},
   "source": [
    "**对其两边求积分可得，**"
   ]
  },
  {
   "cell_type": "markdown",
   "metadata": {},
   "source": [
    "$\\int\\ \\frac{1}{y}\\,\\mathrm {d}y=\\int\\ \\frac{n}{x}\\,\\mathrm {d}x+c$"
   ]
  },
  {
   "cell_type": "markdown",
   "metadata": {},
   "source": [
    "$ln |y|=n ln |x|+c$"
   ]
  },
  {
   "cell_type": "markdown",
   "metadata": {},
   "source": [
    "**可以得到其通解为$y=cx^n$，同时c=0时，也包含y=0的情况。即其通解就是$y=cx^n$**"
   ]
  },
  {
   "cell_type": "markdown",
   "metadata": {},
   "source": [
    "**将常数c看作是x的函数，即为$y=c(x)x^n$ (1)**"
   ]
  },
  {
   "cell_type": "markdown",
   "metadata": {},
   "source": [
    "$\\frac{\\mathrm d y}{\\mathrm d x}=\\frac{\\mathrm d c(x)}{\\mathrm d x}x^n+nx^{n-1}c(x)$ (2)"
   ]
  },
  {
   "cell_type": "markdown",
   "metadata": {},
   "source": [
    "**将（1）（2）两式子带回原来方程中，即得：**"
   ]
  },
  {
   "cell_type": "markdown",
   "metadata": {},
   "source": [
    "$\\frac{\\mathrm d c(x)}{\\mathrm d x}x^n+nx^{n-1}c(x)=nx^{n-1}c(x)+e^x x^n$"
   ]
  },
  {
   "cell_type": "markdown",
   "metadata": {},
   "source": [
    "$\\frac{\\mathrm d c(x)}{\\mathrm d x}=e^x$"
   ]
  },
  {
   "cell_type": "markdown",
   "metadata": {},
   "source": [
    "**通过两边积分即可得到：**"
   ]
  },
  {
   "cell_type": "markdown",
   "metadata": {},
   "source": [
    "$\\int\\ \\frac{\\mathrm d c(x)}{\\mathrm d x}\\,\\mathrm {d}x=\\int\\ e^x\\,\\mathrm {d}x+c$"
   ]
  },
  {
   "cell_type": "markdown",
   "metadata": {},
   "source": [
    "$c(x)=e^x+c$"
   ]
  },
  {
   "cell_type": "markdown",
   "metadata": {},
   "source": [
    "**带回（1）中即可得到原方程的通解为：$y=(e^x+c)x^n$**"
   ]
  },
  {
   "cell_type": "markdown",
   "metadata": {},
   "source": [
    "**$（15）\\frac{\\mathrm d y}{\\mathrm d x}=\\frac{1}{xy+x^3y^3};$**"
   ]
  },
  {
   "cell_type": "markdown",
   "metadata": {},
   "source": [
    "**解：**"
   ]
  },
  {
   "cell_type": "markdown",
   "metadata": {},
   "source": [
    "$\\frac{\\mathrm d x}{\\mathrm d y}=xy+x^3y^3$"
   ]
  },
  {
   "cell_type": "markdown",
   "metadata": {},
   "source": [
    "$x^{-3} \\frac{\\mathrm d x}{\\mathrm d y}=\\frac{y}{x^2}+y^3$"
   ]
  },
  {
   "cell_type": "markdown",
   "metadata": {},
   "source": [
    "令$z=x^{-2}$"
   ]
  },
  {
   "cell_type": "markdown",
   "metadata": {},
   "source": [
    "$\\frac{\\mathrm d z}{\\mathrm d y}=-2x^{-3} \\frac{\\mathrm d x}{\\mathrm d y}$"
   ]
  },
  {
   "cell_type": "markdown",
   "metadata": {},
   "source": [
    "$- \\frac{1}{2} \\frac{\\mathrm d z}{\\mathrm d y}=\\frac{y}{x^2}+y^3=yz+y^3$ "
   ]
  },
  {
   "cell_type": "markdown",
   "metadata": {},
   "source": [
    "$\\frac{\\mathrm d z}{\\mathrm d y}=-2yz-2y^3$"
   ]
  },
  {
   "cell_type": "markdown",
   "metadata": {},
   "source": [
    "**先考虑$\\frac{\\mathrm d z}{\\mathrm d y}=-2yz$的通解（注意考察z=0)**"
   ]
  },
  {
   "cell_type": "markdown",
   "metadata": {},
   "source": [
    "$\\frac{\\mathrm d z}{z}=-2y \\mathrm d y$"
   ]
  },
  {
   "cell_type": "markdown",
   "metadata": {},
   "source": [
    "**对其两边求积分：**"
   ]
  },
  {
   "cell_type": "markdown",
   "metadata": {},
   "source": [
    "$\\int\\ \\frac{1}{z} \\,\\mathrm {d}z=\\int\\ -2y\\,\\mathrm {d}y+c$"
   ]
  },
  {
   "cell_type": "markdown",
   "metadata": {},
   "source": [
    "$ln|z|=-y^2+c$"
   ]
  },
  {
   "cell_type": "markdown",
   "metadata": {},
   "source": [
    "$z=ce^{-y^2}$"
   ]
  },
  {
   "cell_type": "markdown",
   "metadata": {},
   "source": [
    "**再将c看作是y的函数，即$z=c(y)e^{-y^2}$ （1）**"
   ]
  },
  {
   "cell_type": "markdown",
   "metadata": {},
   "source": [
    "$\\frac{\\mathrm d z}{\\mathrm d y}=\\frac{\\mathrm d c(y)}{\\mathrm d y}e^{-y^2}-2ye^{-y^2}c(y)$ （2） "
   ]
  },
  {
   "cell_type": "markdown",
   "metadata": {},
   "source": [
    "**将（1）（2）带回原来的式子可得到：**"
   ]
  },
  {
   "cell_type": "markdown",
   "metadata": {},
   "source": [
    "$\\frac{\\mathrm d c(y)}{\\mathrm d y}=\\frac{-2y^3}{e^{-y^2}}$"
   ]
  },
  {
   "cell_type": "markdown",
   "metadata": {},
   "source": [
    "**两边求积分即可得到：**"
   ]
  },
  {
   "cell_type": "markdown",
   "metadata": {},
   "source": [
    "$c(y)=\\int\\ - \\frac{2y^3}{e^{-y^2}}\\,\\mathrm {d}y+c$"
   ]
  },
  {
   "cell_type": "markdown",
   "metadata": {},
   "source": [
    "**即可得到其通解为：**"
   ]
  },
  {
   "cell_type": "markdown",
   "metadata": {},
   "source": [
    "**$\\frac{1}{x^2}=z=(c-\\int\\ \\frac{2y^3}{e^{-y^2}}\\,\\mathrm {d}y)e^{-y^2}=(c-(y^2-1)e^{y^2})e^{-y^2}=ce^{-y^2}-y^2+1$**"
   ]
  },
  {
   "cell_type": "markdown",
   "metadata": {},
   "source": [
    "**(16)$y=e^x+\\int_0^x\\ y(t)\\,\\mathrm {d}t$**"
   ]
  },
  {
   "cell_type": "markdown",
   "metadata": {},
   "source": [
    "**解：**"
   ]
  },
  {
   "cell_type": "markdown",
   "metadata": {},
   "source": [
    "$\\frac{\\mathrm d y}{\\mathrm d x}=e^x+y(x)$"
   ]
  },
  {
   "cell_type": "markdown",
   "metadata": {},
   "source": [
    "**先考虑$\\frac{\\mathrm d y}{\\mathrm d x}=y$的通解(要考虑y=0的情况）**"
   ]
  },
  {
   "cell_type": "markdown",
   "metadata": {},
   "source": [
    "$\\frac{\\mathrm d y}{y}=\\mathrm d x$"
   ]
  },
  {
   "cell_type": "markdown",
   "metadata": {},
   "source": [
    "**两边取积分即可得到：**"
   ]
  },
  {
   "cell_type": "markdown",
   "metadata": {},
   "source": [
    "$ln|y|=x+c$"
   ]
  },
  {
   "cell_type": "markdown",
   "metadata": {},
   "source": [
    "$y=ce^x$"
   ]
  },
  {
   "cell_type": "markdown",
   "metadata": {},
   "source": [
    "**再考虑$y=c(x)e^x$  (1)**"
   ]
  },
  {
   "cell_type": "markdown",
   "metadata": {},
   "source": [
    "$\\frac{\\mathrm d y}{\\mathrm d x}=\\frac{\\mathrm d c(x)}{\\mathrm d x}e^x+e^xc(x)$  (2)"
   ]
  },
  {
   "cell_type": "markdown",
   "metadata": {},
   "source": [
    " 将 （1）（2）带回原来的式子中即可得到："
   ]
  },
  {
   "cell_type": "markdown",
   "metadata": {},
   "source": [
    "$\\frac{\\mathrm d c(x)}{\\mathrm d x}=1$"
   ]
  },
  {
   "cell_type": "markdown",
   "metadata": {},
   "source": [
    "$c(x)=x+c$"
   ]
  },
  {
   "cell_type": "markdown",
   "metadata": {},
   "source": [
    "**即可得到原方程的通解为：$y=(x+c)e^x$**"
   ]
  },
  {
   "cell_type": "markdown",
   "metadata": {},
   "source": [
    "**同时又注意到当$x=0时，y=e^0+\\int_0^0\\ y(t)\\,\\mathrm {d}t=1$**"
   ]
  },
  {
   "cell_type": "markdown",
   "metadata": {},
   "source": [
    "**即可得到c=1,所以其解为$y=e^x(x+1)$**"
   ]
  },
  {
   "cell_type": "markdown",
   "metadata": {},
   "source": [
    "# P50 7.求解下列方程:"
   ]
  },
  {
   "cell_type": "markdown",
   "metadata": {},
   "source": [
    "**(3)$y'\\sin x \\cos x-y-(\\sin x)^3=0$**"
   ]
  },
  {
   "cell_type": "markdown",
   "metadata": {},
   "source": [
    "**解：**"
   ]
  },
  {
   "cell_type": "markdown",
   "metadata": {},
   "source": [
    "$y' \\sin x \\cos x=y+(\\sin x)^3$"
   ]
  },
  {
   "cell_type": "markdown",
   "metadata": {},
   "source": [
    "$\\frac{\\mathrm d y}{\\mathrm d x}=\\frac{y}{\\sin x \\cos x}+\\frac{(\\sin x)^2}{\\cos x}$"
   ]
  },
  {
   "cell_type": "markdown",
   "metadata": {},
   "source": [
    "**先考察$\\frac{\\mathrm d y}{\\mathrm d x}=\\frac{y}{\\sin x \\cos x}$(注意考虑y=0的情况）**"
   ]
  },
  {
   "cell_type": "markdown",
   "metadata": {},
   "source": [
    "$\\frac{\\mathrm d y}{y}=\\frac{\\mathrm d x}{ \\sin x \\cos x}$"
   ]
  },
  {
   "cell_type": "markdown",
   "metadata": {},
   "source": [
    "**对其两边求积分可以得到：**"
   ]
  },
  {
   "cell_type": "markdown",
   "metadata": {},
   "source": [
    "$y=ce^{\\int\\ \\frac{1}{\\sin x \\cos x}\\,\\mathrm {d}x}$"
   ]
  },
  {
   "cell_type": "markdown",
   "metadata": {},
   "source": [
    "**将c看作是x的函数：$y=c(x)e^{\\int\\ \\frac{1}{\\sin x \\cos x}\\,\\mathrm {d}x}$**  (1)"
   ]
  },
  {
   "cell_type": "markdown",
   "metadata": {},
   "source": [
    "$\\frac{\\mathrm d y}{\\mathrm d x}=\\frac{\\mathrm d c(x)}{\\mathrm d x}e^{\\int\\ \\frac{1}{\\sin x \\cos x}\\,\\mathrm {d}x}+\\frac{1}{\\sin x \\cos x}c(x)e^{\\int\\ \\frac{1}{\\sin x \\cos x}\\,\\mathrm {d}x}$  (2)"
   ]
  },
  {
   "cell_type": "markdown",
   "metadata": {},
   "source": [
    "**将（1）（2）俩个式子带回原来的方程中即可得到：**"
   ]
  },
  {
   "cell_type": "markdown",
   "metadata": {},
   "source": [
    "$\\frac{\\mathrm d c(x)}{\\mathrm d x}=\\frac{(\\sin x)^2}{\\cos x}e^{-\\int\\ \\frac{1}{\\sin x \\cos x}\\,\\mathrm {d}x}$"
   ]
  },
  {
   "cell_type": "markdown",
   "metadata": {},
   "source": [
    "**通过积分可以得到：**"
   ]
  },
  {
   "cell_type": "markdown",
   "metadata": {},
   "source": [
    "$c(x)=\\int\\ \\frac{(\\sin x)^2}{\\cos x}e^{-\\int\\ \\frac{1}{\\sin x \\cos x}\\,\\mathrm {d}x}\\,\\mathrm {d}x+c$"
   ]
  },
  {
   "cell_type": "markdown",
   "metadata": {},
   "source": [
    "**再带回（1）中即可得到通解：$y=\\tan x (c-\\cos x)$**"
   ]
  },
  {
   "cell_type": "markdown",
   "metadata": {},
   "source": [
    "**同时，当$\\sin x=0 $时,y=0**"
   ]
  },
  {
   "cell_type": "markdown",
   "metadata": {},
   "source": [
    "**当$\\cos x=0$时,y=-(sinx)^3=$\\pm 1$，即退化成点$(2k\\pi+\\frac{\\pi}{2},-1)和(2k\\pi-\\frac{\\pi}{2},1),k=0,\\pm 1,\\pm 2, \\ldots$**"
   ]
  },
  {
   "cell_type": "markdown",
   "metadata": {},
   "source": [
    "# P60 1.验证下列方程是恰当微分方程，并求出方程的解"
   ]
  },
  {
   "cell_type": "markdown",
   "metadata": {},
   "source": [
    "**(1)$(x^2+y) \\mathrm d x+(x-2y) \\mathrm d y=0$**"
   ]
  },
  {
   "cell_type": "markdown",
   "metadata": {},
   "source": [
    "**解：**"
   ]
  },
  {
   "cell_type": "markdown",
   "metadata": {},
   "source": [
    "**因为 $\\frac{\\partial M}{\\partial y}=1,并且 \\frac{\\partial N}{\\partial x}=1$**"
   ]
  },
  {
   "cell_type": "markdown",
   "metadata": {},
   "source": [
    "**所以，$\\frac{\\partial M}{\\partial y}= \\frac{\\partial N}{\\partial x}$即该方程为恰当微分方程.**"
   ]
  },
  {
   "cell_type": "markdown",
   "metadata": {},
   "source": [
    "$x^2 \\mathrm d x+y \\mathrm d x+x \\mathrm d y-2y \\mathrm d y=0$"
   ]
  },
  {
   "cell_type": "markdown",
   "metadata": {},
   "source": [
    "$\\mathrm d (\\frac{x^3}{3})+\\mathrm d (xy)-\\mathrm d (y^2)=0$"
   ]
  },
  {
   "cell_type": "markdown",
   "metadata": {},
   "source": [
    "$\\mathrm d (\\frac{x^3}{3}+xy-y^2)=0$"
   ]
  },
  {
   "cell_type": "markdown",
   "metadata": {},
   "source": [
    "**所以可以得到通解为$\\frac{x^3}{3}+xy-y^2=c$，其中c为任意常数.**"
   ]
  },
  {
   "cell_type": "markdown",
   "metadata": {},
   "source": [
    "**(2)$(y-3x^2) \\mathrm d x-(4y-x) \\mathrm d y=0$**"
   ]
  },
  {
   "cell_type": "markdown",
   "metadata": {},
   "source": [
    "**解：**"
   ]
  },
  {
   "cell_type": "markdown",
   "metadata": {},
   "source": [
    "**因为 $\\frac{\\partial M}{\\partial y}=1,并且 \\frac{\\partial N}{\\partial x}=1$**"
   ]
  },
  {
   "cell_type": "markdown",
   "metadata": {},
   "source": [
    "**所以，$\\frac{\\partial M}{\\partial y}= \\frac{\\partial N}{\\partial x}$即该方程为恰当微分方程.**"
   ]
  },
  {
   "cell_type": "markdown",
   "metadata": {},
   "source": [
    "$y \\mathrm d x-3x^2 \\mathrm d x-4y \\mathrm d y+x \\mathrm d y=0$"
   ]
  },
  {
   "cell_type": "markdown",
   "metadata": {},
   "source": [
    "$\\mathrm d (xy)-\\mathrm d (x^3)-\\mathrm d (2y^2)=0$"
   ]
  },
  {
   "cell_type": "markdown",
   "metadata": {},
   "source": [
    "$\\mathrm d (xy-x^3-2y^2)=0$"
   ]
  },
  {
   "cell_type": "markdown",
   "metadata": {},
   "source": [
    "**所以通解为$xy-x^3-2y^2=c$，其中c为任意常数.**"
   ]
  },
  {
   "cell_type": "markdown",
   "metadata": {},
   "source": [
    "# <font color='red'>A + 19/9 "
   ]
  },
  {
   "cell_type": "code",
   "execution_count": null,
   "metadata": {
    "collapsed": true
   },
   "outputs": [],
   "source": []
  }
 ],
 "metadata": {
  "celltoolbar": "Raw Cell Format",
  "kernelspec": {
   "display_name": "SageMath 7.3",
   "language": "",
   "name": "sagemath"
  },
  "language_info": {
   "codemirror_mode": {
    "name": "ipython",
    "version": 2
   },
   "file_extension": ".py",
   "mimetype": "text/x-python",
   "name": "python",
   "nbconvert_exporter": "python",
   "pygments_lexer": "ipython2",
   "version": "2.7.10"
  }
 },
 "nbformat": 4,
 "nbformat_minor": 0
}
