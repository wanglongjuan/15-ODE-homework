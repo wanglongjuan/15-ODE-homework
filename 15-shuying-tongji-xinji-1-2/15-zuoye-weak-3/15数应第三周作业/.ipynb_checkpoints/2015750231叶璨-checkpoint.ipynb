{
 "cells": [
  {
   "cell_type": "markdown",
   "metadata": {},
   "source": [
    "一，求下列方程的解。\n",
    "（1）$\\frac{dy}{dx}=\\frac{1}{xy+x^3y^3}$\n",
    "\n",
    "解：变形可得$$\\frac{dx}{dy}=xy+x^3y^3$$\n",
    "令$x^2=\\frac{1}{t}$,将原方程化为$$\\frac{dx}{dy}=-\\frac{1}{2xt^2}\\frac{dt}{dy}$$\n",
    "代入到$\\frac{dx}{dy}=xy+x^3y^3$，化简可得：\n",
    "$$\\frac{dx}{dy}=xy+x^3y^3$$\n",
    "此式为一阶线性微分方程，所以由通解公式可得$\\frac{dx}{dy}=xy+x^3y^3$的通解为：\n",
    "$$t=y^2-1+ce^{y^2}$$(c为任意常数）\n",
    "==>$$\\frac{1}{x^2}=y^2-1+ce^{y^2}$$\n",
    "==>$$(1-x^2+x^2y^2)e^{y^2}=cx^2$$\n",
    "故可得原方程的解为\n",
    "$$(1-x^2+x^2y^2)e^{y^2}=cx^2$$\n",
    "\n",
    "\n",
    "\n"
   ]
  },
  {
   "cell_type": "markdown",
   "metadata": {},
   "source": [
    "（2）$y=e^x+\\int_0^x\\mathrm y(t)\\,\\mathrm {d}t$\n",
    "\n",
    "解：两端关于变量x求导可知：\n",
    "$$\\frac{dy}{dx}=e^x+y$$\n",
    "这是一个一阶线性微分方程，所以由一阶线性微分方程的通解公式可知：\n",
    "$\\frac{dy}{dx}=e^x+y$的通解为\n",
    "\n",
    "   ==>$$y=e^x(\\mathrm (e^xe^-x)\\,\\mathrm {d}t$$\n",
    "   ==>$$y=(x+c）e^2$$\n",
    "当x=0时，代入方程可知：$$y=1$$\n",
    "即可求得$$c=1$$\n",
    "因此，原方程的解为$$y=e^x(x+1）$$\n",
    "\n",
    "\n"
   ]
  },
  {
   "cell_type": "markdown",
   "metadata": {},
   "source": [
    "二、求解下列方程。\n",
    "（1）$y'sinxcosx-y-sin^3x=0$\n",
    "\n",
    "解：化简变形得$$\\frac{dy}{dx}-\\frac{y}{sinxcosx}=\\frac{sin^2x}{cosx}$$\n",
    "$令P（x）=\\frac{1}{sinxcosx},Q(x)=\\frac{1}{cosx}-cosx$\n",
    "代入到公式$$y=e^{\\int\\mathrm P(x)\\,\\mathrm {d}x}(\\int\\mathrm Q(x)e^{-\\int\\mathrm P(x)\\,\\mathrm {d}x}\\,\\mathrm{d}x+c)$$\n",
    "由（2.31)可知其通解为：\n",
    "$$y=tanx(\\int\\mathrm {\\frac{sin^2xcotx}{cosx}}\\,\\mathrm{d}x+c)$$\n",
    "即$$y=tanx(-cotx+c)$$\n",
    "当sinx=0时,原方程的解为$$y=0$$\n",
    "当cosx=0时，原方程的解为$$y=-sin^3=-1或1$$\n",
    "综上所述，原方程的解为\n",
    "$$y=ctanx-sinx$$\n",
    "\n"
   ]
  },
  {
   "cell_type": "markdown",
   "metadata": {},
   "source": [
    "三、验证下列方程式恰微分方程，并求出方程的解。\n",
    "\n",
    "（1）$（x^2+y)dx+(x-2y)dy=0$\n",
    "解：由题可令$P=x^2+y,Q=x-2y$\n",
    "$$\\frac{\\partial P}{\\partial y}=1,\\frac{\\partial Q}{\\partial x}=1$$\n",
    "因此满足$Qx=Py$,故此方程式恰微分方程。\n",
    "现存在函数$u(x,y）$使得$$du=（x^2+y)dx+(x-2y)dy$$\n",
    "方程$\\frac{\\partial u}{\\partial x}=x^2+y$对x求积分得到$$u=\\frac{x^3}{3}+xy+h(y）$$\n",
    "$$u(x,y)=\\int_{(0,0)}^{(x,y)}\\mathrm {(x^2+y)}\\,\\mathrm{d}x+（x-2y）dy$$\n",
    "$$=\\int_0^x\\mathrm{x^2}\\,\\mathrm{d}x+\\int_0^y\\mathrm{(x-2y)}\\,\\mathrm{d}y$$\n",
    "$$=\\frac{x^3}{3}+xy-y^2$$\n",
    "而$du=0$因此$$u(x,y)=c$$\n",
    "即可得到原方程的通解为$$x^3+3xy-3y^2=c(c为任意常数）$$\n",
    "\n",
    "\n",
    "\n"
   ]
  },
  {
   "cell_type": "markdown",
   "metadata": {},
   "source": [
    "（2）$（y-3x^3)dx-(4y-x)dy=0\n",
    "\n",
    "解：由题可令$P=y-3x^3,Q=4y-x$\n",
    "$$\\frac{\\partial P}{\\partial y}=1,\\frac{\\partial Q}{\\partial x}=1$$\n",
    "\n",
    "因此满足$Qx=Py$,故此方程式恰微分方程。\n",
    "现存在函数$u(x,y）$使得$$du=（y-3x^3)dx+(4y-x)dy$$\n",
    "方程$\\frac{\\partial u}{\\partial x}=y-3x^3$对x求积分得到$$u=xy-x^3+h(y）$$\n",
    "将上式对y求导，即得\n",
    "$$\\frac{\\partial u}{\\partial y}=x+\\frac{dh(y)}{dy}$$\n",
    "$$=x-4y$$\n",
    "则$$\\frac{dh(y)}{dy}=-4y$$\n",
    "   ==>$$h(y)=-2y^2$$\n",
    "   ==>$$u=xy-x^3-2y^2$$\n",
    "方程的通解为$$c=xy-x^3-2y^2(c为任意实数)$$\n",
    "\n",
    "\n",
    "\n",
    "\n",
    "\n",
    "\n",
    "\n",
    "\n",
    "\n",
    "\n",
    "\n",
    "\n"
   ]
  },
  {
   "cell_type": "markdown",
   "metadata": {
    "collapsed": true
   },
   "source": [
    "# <font color='red'>A  19/9   s少第一道题？？"
   ]
  },
  {
   "cell_type": "code",
   "execution_count": null,
   "metadata": {
    "collapsed": true
   },
   "outputs": [],
   "source": []
  }
 ],
 "metadata": {
  "kernelspec": {
   "display_name": "Python 2",
   "language": "python",
   "name": "python2"
  },
  "language_info": {
   "codemirror_mode": {
    "name": "ipython",
    "version": 2
   },
   "file_extension": ".py",
   "mimetype": "text/x-python",
   "name": "python",
   "nbconvert_exporter": "python",
   "pygments_lexer": "ipython2",
   "version": "2.7.10"
  }
 },
 "nbformat": 4,
 "nbformat_minor": 0
}
