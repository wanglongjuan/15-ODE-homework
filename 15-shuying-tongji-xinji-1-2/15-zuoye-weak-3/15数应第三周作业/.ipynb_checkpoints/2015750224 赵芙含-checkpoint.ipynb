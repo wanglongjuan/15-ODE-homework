{
 "cells": [
  {
   "cell_type": "markdown",
   "metadata": {},
   "source": [
    "$赵芙含 2015750224 应用数学班$"
   ]
  },
  {
   "cell_type": "markdown",
   "metadata": {},
   "source": [
    "（4）$\\frac{\\mathrm d y}{\\mathrm d x}-n \\frac{y}{x}=e^x x^n(n为常数)$"
   ]
  },
  {
   "cell_type": "markdown",
   "metadata": {},
   "source": [
    "$解：首先求线性齐次方程\\frac{dy}{dx}=\\frac{n}{x}y的通解$"
   ]
  },
  {
   "cell_type": "markdown",
   "metadata": {},
   "source": [
    "$\\frac{ \\mathrm d y}{y}=\\frac{n \\mathrm d x}{x}$"
   ]
  },
  {
   "cell_type": "markdown",
   "metadata": {},
   "source": [
    "$对其两边求积分可得 \\int\\ \\frac{1}{y}\\,\\mathrm {d}y=\\int\\ \\frac{n}{x}\\,\\mathrm {d}x+c  ln |y|=n ln |x|+c$ "
   ]
  },
  {
   "cell_type": "markdown",
   "metadata": {},
   "source": [
    "$可以得到其通解为$y=cx^n$，同时c=0时，也包含y=0的情况。即其通解就是$y=cx^n$"
   ]
  },
  {
   "cell_type": "markdown",
   "metadata": {},
   "source": [
    "将常数c看作是x的函数，即为 $ y=c(x)x^n $ 同时$\\frac{\\mathrm d y}{\\mathrm d x}=\\frac{\\mathrm d c(x)}{\\mathrm d x}x^n+nx^{n-1}c(x)$ "
   ]
  },
  {
   "cell_type": "markdown",
   "metadata": {},
   "source": [
    "$所以\\frac{\\mathrm d c(x)}{\\mathrm d x}x^n+nx^{n-1}c(x)=nx^{n-1}c(x)+e^x x^n  \\frac{\\mathrm d c(x)}{\\mathrm d x}=e^x$"
   ]
  },
  {
   "cell_type": "markdown",
   "metadata": {},
   "source": [
    "$对两边积分可以得到\\int\\ \\frac{\\mathrm d c(x)}{\\mathrm d x}\\,\\mathrm {d}x=\\int\\ e^x\\,\\mathrm {d}x+c$"
   ]
  },
  {
   "cell_type": "markdown",
   "metadata": {},
   "source": [
    "$c(x)=e^x+c$"
   ]
  },
  {
   "cell_type": "markdown",
   "metadata": {},
   "source": [
    "再带回原方程可以得到原方程的通解为$y=(e^x+c)x^n$"
   ]
  },
  {
   "cell_type": "markdown",
   "metadata": {},
   "source": [
    "(15)$\\frac({dy}{dx}=\\frac{1}{xy+x^3y^3}$"
   ]
  },
  {
   "cell_type": "markdown",
   "metadata": {},
   "source": [
    "解：$\\because \\frac{dy}{dx}=\\frac{1}{xy+x^3y^3}$\n",
    "\n",
    "$\\therefore \\frac{dx}{dy}=xy+x^3y^3\\cdots①$\n"
   ]
  },
  {
   "cell_type": "markdown",
   "metadata": {},
   "source": [
    "令$z=x^{-2}$，则$\\frac{dx}{dy}=-\\frac{1}{2xz^2}\\frac{dz}{dy}$\n",
    "\n",
    "代入上面①式得$-\\frac{1}{2xz^2}\\frac{dz}{dy}=xy+x^3y^3$\n",
    "\n",
    "$-\\frac{1}{2z^2}\\frac{dz}{dy}=x^2y+x^4y^3=\\frac{y}{z}+\\frac{y^3}{z^2}$\n",
    "\n",
    "$\\therefore \\frac{dz}{dy}=-2yz-2y^3$"
   ]
  },
  {
   "cell_type": "markdown",
   "metadata": {},
   "source": [
    "$\\therefore z=e^{\\int{-2y}dy}(\\int{-2y^3e^{-\\int{-2y}dy}}dy+c)$\n",
    "\n",
    "$=e^{-y^2}(\\int{-2y^3e^{y^2}dy}+c)$\n",
    "\n",
    "$=e^{-y^2}(\\int{-y^2}de^{y^2}+c)$\n",
    "\n"
   ]
  },
  {
   "cell_type": "markdown",
   "metadata": {},
   "source": [
    "$=e^{-y^2}(-y^2e^{y^2}+\\int{e^{y^2}}dy^2+c)$\n",
    "\n",
    "$=e^{-y^2}(-y^2e^{y^2}+e^{y^2}+c)$\n",
    "\n",
    "$=y^2-1+ce^{-y^2}$\n",
    "\n",
    "$\\therefore x^{-2}=y^2-1+ce^{-y^2}$\n",
    "\n",
    "$\\therefore$方程的解为$x^2(y^2-1+ce^{-y^2})=1$"
   ]
  },
  {
   "cell_type": "markdown",
   "metadata": {},
   "source": [
    "(16)当$x \\neq 0$时对方程两边求导得：$y'=e^x+y$\n",
    "\n",
    "$\\therefore \\frac{dy}{dx}=e^x+y$"
   ]
  },
  {
   "cell_type": "markdown",
   "metadata": {},
   "source": [
    "$\\therefore y=e^{\\int{1}dx}(\\int{e^xe^{-\\int{1}dx}dx}+c)$\n",
    "\n",
    "$=e^x(\\int{e^xe^{-x}dx}+c)$\n",
    "\n",
    "$=e^x(x+c)$\n",
    "\n",
    "当$x=0$时，要等式两边成立，则$c=1$\n",
    "\n",
    "$\\therefore$方程的解为$y=e^x(x+1)$"
   ]
  },
  {
   "cell_type": "markdown",
   "metadata": {},
   "source": [
    "$7.(3)$"
   ]
  },
  {
   "cell_type": "markdown",
   "metadata": {},
   "source": [
    "$解\\frac{\\mathrm d y}{\\mathrm d x}=\\frac{y}{\\sin x \\cos x}+\\frac{(\\sin x)^2}{\\cos x}$"
   ]
  },
  {
   "cell_type": "markdown",
   "metadata": {},
   "source": [
    "$\\frac{\\mathrm d y}{\\mathrm d x}=\\frac{\\mathrm d c(x)}{\\mathrm d x}e^{\\int\\ \\frac{1}{\\sin x \\cos x}\\,\\mathrm {d}x}+\\frac{1}{\\sin x \\cos x}c(x)e^{\\int\\ \\frac{1}{\\sin x \\cos x}\\,\\mathrm {d}x}，解得该方程的通解为y=\\tan x (c-\\cos x)$"
   ]
  },
  {
   "cell_type": "markdown",
   "metadata": {},
   "source": [
    "$当\\sin x=0 时,y=0$\n",
    "当$\\cos x=0时,y=-(sinx)^3=\\pm 1，即退化成点(2k\\pi+\\frac{\\pi}{2},-1)和(2k\\pi-\\frac{\\pi}{2},1),k=0,\\pm 1,\\pm 2, \\ldots$"
   ]
  },
  {
   "cell_type": "markdown",
   "metadata": {},
   "source": [
    "$P60.1$M=x^2+y,N=x-2y$\n",
    "\n",
    "$\\frac{\\partial M}{\\partial y}=1,\\frac{\\partial N}{\\partial x}=1$\n",
    "\n",
    "$\\therefore $该方程是恰当微分方程\n",
    "   "
   ]
  },
  {
   "cell_type": "markdown",
   "metadata": {},
   "source": [
    "现在求$u$，使它同时满足如下两个方程：\n",
    "\n",
    "$\\frac{\\partial u}{\\partial x}=x^2+y \\cdots①$\n",
    "\n",
    "$\\frac{\\partial u}{\\partial y}=x-2y \\cdots②$"
   ]
  },
  {
   "cell_type": "markdown",
   "metadata": {},
   "source": [
    "$①$式对$x$求积分得：$u=\\frac{1}{3}x^3+xy+\\varphi(y) \\cdots③$\n",
    "\n",
    "将$③$式对$y$求导，并使它满足$②$式即得：\n",
    "\n",
    "$\\frac{\\partial u}{\\partial y}=x+\\frac{d\\varphi(y)}{dy}=x-2y$\n",
    "\n",
    "$\\therefore \\frac{d\\varphi(y)}{dy}=-2y$"
   ]
  },
  {
   "cell_type": "markdown",
   "metadata": {},
   "source": [
    "上式对$y$积分后得：$\\varphi(y)=-y^2 \\cdots④$\n",
    "\n",
    "将$④$代入$③$得：$u=\\frac{1}{3}x^3+xy-y^2$\n",
    "\n",
    "$\\therefore $方程的通解为$\\frac{1}{3}x^3+xy-y^2=c$，其中$c$为任意常数"
   ]
  },
  {
   "cell_type": "markdown",
   "metadata": {},
   "source": [
    "$(2)：M=y-3x^2,N=x-4y$"
   ]
  },
  {
   "cell_type": "markdown",
   "metadata": {},
   "source": [
    "$因为 \\frac{\\partial M}{\\partial y}=1,并且 \\frac{\\partial N}{\\partial x}=1,因此方程是恰当微分方程。$\n"
   ]
  },
  {
   "cell_type": "markdown",
   "metadata": {},
   "source": [
    "$y \\mathrm d x-3x^2 \\mathrm d x-4y \\mathrm d y+x \\mathrm d y=0$\n"
   ]
  },
  {
   "cell_type": "markdown",
   "metadata": {},
   "source": [
    "$\\mathrm d (xy)-\\mathrm d (x^3)-\\mathrm d (2y^2)=0$"
   ]
  },
  {
   "cell_type": "markdown",
   "metadata": {},
   "source": [
    "所以通解为$xy-x^3-2y^2=c$，其中c为任意常数"
   ]
  },
  {
   "cell_type": "markdown",
   "metadata": {},
   "source": [
    "# <font color='red'>A  19/9 "
   ]
  },
  {
   "cell_type": "code",
   "execution_count": null,
   "metadata": {
    "collapsed": true
   },
   "outputs": [],
   "source": []
  }
 ],
 "metadata": {
  "kernelspec": {
   "display_name": "SageMath 7.3",
   "language": "",
   "name": "sagemath"
  },
  "language_info": {
   "codemirror_mode": {
    "name": "ipython",
    "version": 2
   },
   "file_extension": ".py",
   "mimetype": "text/x-python",
   "name": "python",
   "nbconvert_exporter": "python",
   "pygments_lexer": "ipython2",
   "version": "2.7.10"
  }
 },
 "nbformat": 4,
 "nbformat_minor": 0
}
