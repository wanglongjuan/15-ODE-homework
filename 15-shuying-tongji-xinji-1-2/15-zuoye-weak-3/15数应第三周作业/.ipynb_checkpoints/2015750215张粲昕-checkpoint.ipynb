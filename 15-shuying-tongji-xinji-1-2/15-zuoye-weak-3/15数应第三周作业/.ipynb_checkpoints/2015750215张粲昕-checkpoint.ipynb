{
 "cells": [
  {
   "cell_type": "markdown",
   "metadata": {},
   "source": [
    "P49 1 求下列方程的解   \n",
    "    (4) $$\\frac{\\mathrm{d}y}{\\mathrm{d}x}-\\frac{n}{x}y=e^xx^n$$  \n",
    "    (15)$$\\frac{\\mathrm{d}y}{\\mathrm{d}x}=\\frac{1}{xy+x^3y^3}$$  \n",
    "    (16)$$y=e^x+\\int_0^xy(t)\\mathrm{d}t$$"
   ]
  },
  {
   "cell_type": "markdown",
   "metadata": {},
   "source": [
    "解: (4)\n",
    "$$\\frac{\\mathrm{d}y}{\\mathrm{d}x}=\\frac{n}{x}y+e^xx^n$$  \n",
    "先对$$\\frac{\\mathrm{d}y}{\\mathrm{d}x}=\\frac{n}{x}y$$两边求积分得\n",
    "$$y=x^n$$  \n",
    "设方程$$y=c(x)x^n$$  \n",
    "两边对x求导:$$\\frac{\\mathrm{d}y}{\\mathrm{d}x}=\\frac{\\mathrm{d}c(x)}{\\mathrm{d}x}x^n+nx^{n-1}c(x)$$\n",
    "将以上两式带入:$$c(x)=e^x$$\n",
    "将c(x)带入:$$y=e^xx^n$$"
   ]
  },
  {
   "cell_type": "markdown",
   "metadata": {},
   "source": [
    "# <font color='red'>解果不对"
   ]
  },
  {
   "cell_type": "markdown",
   "metadata": {},
   "source": [
    "解(15)  \n",
    "$$\\frac{\\mathrm{d}x}{\\mathrm{d}y}=xy+x^3y^3$$\n",
    "易知$$p(y)=x ,    q(y)=x^3$$\n",
    "令$$z=x^{-2}$$\n",
    "套入公式得\n",
    "$$\\frac{\\mathrm{d}z}{\\mathrm{d}y}=-2x^{-1}-2x^3$$\n",
    "代回得 $$(1-x^2+x^2y^2)e^{y^2}=cx^2$$"
   ]
  },
  {
   "cell_type": "markdown",
   "metadata": {
    "collapsed": true
   },
   "source": [
    "(16)解：对方程两边关于$x$求导，得：$$\\frac{\\mathrm{d}y}{\\mathrm{d}x}=e^x+y$$这是一阶线性微分方程  \n",
    "$\\therefore$它的通解为：$$y=e^x\\left(\\int d^xe^{-x}{\\mathrm{d}}x+c\\right)$$即$$y=e^x(x+c)$$"
   ]
  },
  {
   "cell_type": "markdown",
   "metadata": {},
   "source": [
    "# <font color='red'>特解？？"
   ]
  },
  {
   "cell_type": "markdown",
   "metadata": {
    "collapsed": true
   },
   "source": [
    "P50(3) $$y'sin(x)cos(x)-y-sin(x)^3=0$$\n",
    "原式:$$\\frac{\\mathrm{d}y}{\\mathrm{d}x}=\\frac{y}{sinxcosx}+\\frac{sinx^2}{cosx}$$，易得其通解为$$y=e^{\\int \\frac{1}{sinxcosx}{\\mathrm{d}}x}\\left(\\int \\frac{sin^2x}{cosx}e^{-\\int \\frac{1}{sinxcosx}{\\mathrm{d}}x}{\\mathrm{d}}x+c\\right)$$即$$y=tanx\\left(\\int \\frac{sin^2x}{cosx}cotx{\\mathrm{d}}x+c\\right)$$当$sinx=0$时，原方程为$y=0$  \n",
    "当$cosx=0$时，原方程为$y=-sin^3x=\\pm1$，即曲线退化成点$\\left(2k\\pi+\\frac{\\pi}{2}，1\\right)$和$\\left(2k\\pi-\\frac{\\pi}{2},1\\right),k=0,\\pm1,\\pm2\\cdots$  \n",
    "$\\therefore$原方程的解为：$$y=ctanx-sinx,\\left(x\\neq k\\pi\\pm\\frac{\\pi}{2}\\right)$$"
   ]
  },
  {
   "cell_type": "markdown",
   "metadata": {},
   "source": [
    "P60 1.验证下列方程式恰当微分方程，并求出方程的解  \n",
    "    (1)$$(x^2+y)\\mathrm{d}x+(x-2y)\\mathrm{d}y=0$$  \n",
    "    (2)$$(y-3x^2)\\mathrm{d}z-(4y-x)\\mathrm{d}y=0$$"
   ]
  },
  {
   "cell_type": "markdown",
   "metadata": {},
   "source": [
    "解  \n",
    "(1)\n",
    "$\\because$$$\\frac{\\partial M}{\\partial y}=1,\\frac{\\partial N}{\\partial x}=1$$$\\therefore$这个方程式恰当微分方程，设$u$，使其同时满足$$\\frac{\\partial u}{\\partial x}=x^2+y,\\frac{\\partial u}{\\partial y}=x-2y$$第一个方程对$x$积分，得：$$u=\\frac{1}{3}x^3+xy+\\varphi(y)$$对上式两边求导，得：$$\\frac{\\partial u}{\\partial y}=x+\\varphi\\prime(y)$$与$\\frac{\\partial u}{\\partial y}=x-2y$比较可知：$$\\varphi\\prime(y)=-2y$$两边积分得：$$\\varphi(y)=-y^2$$$\\therefore$$$u=\\frac{1}{3}x^3+xy-y^2$$即原方程通解为：$$x^3+3xy-3y^2=c$$"
   ]
  },
  {
   "cell_type": "markdown",
   "metadata": {},
   "source": [
    "(2)  \n",
    "$\\because$$$\\frac{\\partial M}{\\partial y}=1,\\frac{\\partial N}{x}=1$$$\\therefore$这个方程是恰当微分方程，设$u$，使其同时满足$$\\frac{\\partial u}{\\partial x}=y-3x^2,\\frac{\\partial u}{\\partial y}=x-4y$$对$\\frac{\\partial u}{\\partial x}=y-3x^2$两边求积分，得：$$u=xy-x^3+\\varphi(y)$$对上式$y$求导，并使其满足$\\frac{\\partial u}{\\partial y}=x-4y$即可得：$$\\frac{\\partial u}{\\partial y}=x+\\varphi\\prime(y)=x-4y$$$\\therefore$$$\\varphi\\prime(y)=-4y$$对两边积分，得：$$\\varphi(y)=-2y^2$$将其带入$u=xy-x^3+\\varphi(y)$,得：$$u=xy-x^3-2y^2$$$\\therefore$该方程的通解为$x^3-xy+2y^2=c$"
   ]
  },
  {
   "cell_type": "markdown",
   "metadata": {
    "collapsed": true
   },
   "source": [
    "# <font color='red'>A—  19/9 "
   ]
  },
  {
   "cell_type": "code",
   "execution_count": null,
   "metadata": {
    "collapsed": true
   },
   "outputs": [],
   "source": []
  }
 ],
 "metadata": {
  "kernelspec": {
   "display_name": "Python 2",
   "language": "python",
   "name": "python2"
  },
  "language_info": {
   "codemirror_mode": {
    "name": "ipython",
    "version": 2
   },
   "file_extension": ".py",
   "mimetype": "text/x-python",
   "name": "python",
   "nbconvert_exporter": "python",
   "pygments_lexer": "ipython2",
   "version": "2.7.10"
  }
 },
 "nbformat": 4,
 "nbformat_minor": 0
}
