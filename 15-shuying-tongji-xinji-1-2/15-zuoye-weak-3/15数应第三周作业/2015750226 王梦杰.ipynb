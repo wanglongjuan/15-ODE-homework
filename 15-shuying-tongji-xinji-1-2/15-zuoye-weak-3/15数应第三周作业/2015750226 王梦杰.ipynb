{
 "cells": [
  {
   "cell_type": "markdown",
   "metadata": {
    "collapsed": true
   },
   "source": [
    "1.$求下列方程的解：$\n",
    "\n",
    "（15）$\\frac{dy}{dx}=\\frac{1}{xy+x^3y^3}$\n",
    "\n",
    "(16)$y=e^x+\\int_0^x\\mathrm y(t)\\,\\mathrm {d}t$"
   ]
  },
  {
   "cell_type": "markdown",
   "metadata": {},
   "source": [
    "$（15）解 $\n",
    "$因\\frac{dy}{dx}=\\frac{1}{xy+x^3y^3}$\n",
    "则$$\\frac{dx}{dy}=xy+x^3y^3$$\n",
    "$令m=x^{-2}$\n",
    "可得$$\\frac{dm}{dy}=-2x^{-3}\\frac{dx}{dy}$$\n",
    "      $$=-2x^{-3}(xy+x^3y^3)$$\n",
    "$将m=x^2代入可得$\n",
    "$$\\frac{dm}{dy}=-2m^{\\frac{3}{2}}(m^{-\\frac{1}{2}}y+m^{-\\frac{3}{2}}y^3)$$\n",
    "$$=-2my-2y^3$$【记为（1）式】\n",
    "$先求\\frac{dm}{dy}=-2my的解$\n",
    "$解得m=ce^{-y^2}$\n",
    "$将c看成关于y的函数$\n",
    "即得$$m=c(y)e^{-y^2}$$【记为（2）式】\n",
    "微分之得$$\\frac{dm}{dy}=\\frac{dc(y)}{dy}e^{-y^2}-2yc(x)e^{-y^2}$$【记为（3）式】\n",
    "将（2）（3）式代入（1）式可得\n",
    "$$c(y)=c'-y^2e^{y^2}+e^{-y^2}$$\n",
    "则$$m=ce^{-y^2}-y^2+1$$\n",
    "$将m=x^{-2}$代入得方程的通解\n",
    "$$\\frac{1}{x^2}=ce^{-y^2}-y^2+1$$"
   ]
  },
  {
   "cell_type": "markdown",
   "metadata": {},
   "source": [
    "（16）对方程两边对x求导得\n",
    "$$\\frac{dy}{dx}=e^x+y$$【记为（1式）】\n",
    "$先对\\frac{dy}{dx}=y进行求解易得$\n",
    "$$y=ce^x$$\n",
    "$将c看成关于成c（x）的函数$\n",
    "即为$$y=c(x)e^x$$【记为（2）式】\n",
    "微分之得$$\\frac{dy}{dx}=\\frac{dc(x)}{dx}e^x+c(x)e^x$$【记为（3）式】\n",
    "将（2）（3）代入（1）式得\n",
    "$$c(x)=x+c'$$\n",
    "$当x=0时得c'=1$\n",
    "方程通解为$$y=e^x(x+1)$$"
   ]
  },
  {
   "cell_type": "markdown",
   "metadata": {},
   "source": [
    "7 求下列方程\n",
    "（3）$y'sinxcosx-y-sin^3x=0$"
   ]
  },
  {
   "cell_type": "markdown",
   "metadata": {},
   "source": [
    "解\n",
    "将方程变形为$$\\frac{dy}{dx}=\\frac{y}{sinxcosx}+\\frac{sin^2x}{cosx}$$\n",
    "$其中P（x）=\\frac{1}{sinxcosx},Q(x)=\\frac{sin^2x}{cosx}$\n",
    "代入到公式$$y=e^{\\int\\mathrm P(x)\\,\\mathrm {d}x}(\\int\\mathrm Q(x)e^{-\\int\\mathrm P(x)\\,\\mathrm {d}x}\\,\\mathrm{d}x+c)$$\n",
    "则$$y=e^{\\int\\mathrm (\\frac{1}{sinxcosx})\\,\\mathrm {d}x}(\\int\\mathrm (\\frac{(sinx)^2}{cosx}e^{-\\int\\mathrm (\\frac{1}{sinxcosx})\\,\\mathrm {d}x})\\,\\mathrm {d}x+c)$$\n",
    "即$$y=tanx(-cosx+c)$$\n",
    "$当sinx=0时，原方程化为y=0$\n",
    "当$cosx=0时，原方程化为y=-sin^3x=1或-1$\n",
    "$即曲线退化成点（2kpi+\\frac{pi}{2},-1）和（2kpi-\\frac{pi}{2},1）,k=0,1,-1......$"
   ]
  },
  {
   "cell_type": "markdown",
   "metadata": {},
   "source": [
    "1.验证下列方程是恰当微分方程，并求出方程的解：\n",
    "\n",
    "（1）$（x^2+y）dx+(x-2y)dy=0$;\n",
    "\n",
    "(2)$(y-3x^2)dx-(4y-x)dy=0$;"
   ]
  },
  {
   "cell_type": "markdown",
   "metadata": {},
   "source": [
    "(1)这里$M=x^2+y,N=x-2y$\n",
    "$$\\frac{\\partial M}{\\partial y}=1，\\frac{\\partial N}{\\partial x}=1$$\n",
    "因此方程是恰当微分方程\n",
    "现在求u，使它同时满足下列两个方程\n",
    "$$\\frac{\\partial u}{\\partial x}=x^2+y$$【记为（1）式】\n",
    "$$\\frac{\\partial u}{\\partial y}=x-2y$$【记为（2）式】\n",
    "（1）式对x积分，得到\n",
    "$$u=\\frac{1}{3}x^3+xy+w(y)$$\n",
    "将上式对y求导数，即得\n",
    "$$\\frac{\\partial u}{\\partial y}=x+\\frac{dw(y)}{dy}$$\n",
    "$$=x-2y$$\n",
    "则$\\frac{dw(y)}{dy}=-2y$\n",
    "$$w(y)=-y^2$$\n",
    "$$u=\\frac{1}{3}x^3+xy-y^2$$\n",
    "方程的通解为$$c=\\frac{1}{3}x^3+xy-y^2$$\n",
    "c为任意实数\n"
   ]
  },
  {
   "cell_type": "markdown",
   "metadata": {},
   "source": [
    "(2)这里$M=y-3x^2,N=-4y+x$\n",
    "$$\\frac{\\partial M}{\\partial y}=1，\\frac{\\partial N}{\\partial x}=1$$\n",
    "因此方程是恰当微分方程\n",
    "现在求u,使它同时满足下列两个方程\n",
    "$$\\frac{\\partial u}{\\partial x}=y-3x^2$$【记为（1）式】\n",
    "$$\\frac{\\partial u}{\\partial y}=x-4y$$【记为（2）式】\n",
    "（1）式对x积分，得到\n",
    "$$u=xy-x^3+w(y)$$\n",
    "将上式对y求导，即得\n",
    "$$\\frac{\\partial u}{\\partial y}=x+\\frac{dw(y)}{dy}$$\n",
    "$$=x-4y$$\n",
    "则$\\frac{dw(y)}{dy}=-4y$\n",
    "$$w(y)=-2y^2$$\n",
    "$$u=xy-x^3-2y^2$$\n",
    "方程的通解为$$c=xy-x^3-2y^2$$\n",
    "c为任意实数"
   ]
  },
  {
   "cell_type": "markdown",
   "metadata": {
    "collapsed": true
   },
   "source": [
    "# <font color='red'>A  19/9 "
   ]
  },
  {
   "cell_type": "code",
   "execution_count": null,
   "metadata": {
    "collapsed": true
   },
   "outputs": [],
   "source": []
  }
 ],
 "metadata": {
  "kernelspec": {
   "display_name": "SageMath 7.3",
   "language": "",
   "name": "sagemath"
  },
  "language_info": {
   "codemirror_mode": {
    "name": "ipython",
    "version": 2
   },
   "file_extension": ".py",
   "mimetype": "text/x-python",
   "name": "python",
   "nbconvert_exporter": "python",
   "pygments_lexer": "ipython2",
   "version": "2.7.10"
  }
 },
 "nbformat": 4,
 "nbformat_minor": 0
}
