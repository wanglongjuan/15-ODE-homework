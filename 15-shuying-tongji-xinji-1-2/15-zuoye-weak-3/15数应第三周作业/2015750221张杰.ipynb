{
 "cells": [
  {
   "cell_type": "markdown",
   "metadata": {},
   "source": [
    "**数学与应用数学班**"
   ]
  },
  {
   "cell_type": "markdown",
   "metadata": {},
   "source": [
    "张杰 2015750221"
   ]
  },
  {
   "cell_type": "markdown",
   "metadata": {},
   "source": [
    "**P49----1**"
   ]
  },
  {
   "cell_type": "markdown",
   "metadata": {},
   "source": [
    "**(4)$\\frac{dy}{dx}-\\frac{n}{x}y=e^xx^n$**"
   ]
  },
  {
   "cell_type": "markdown",
   "metadata": {},
   "source": [
    "**解：**$$\\because y=e^{\\int P(x){d}x}\\left(\\int Q(x)e^{-\\int P(x){d}x}{d}x+c\\right)$$$$\\therefore y=e^{\\int \\frac{n}{x}\\,{d}x}\\left(\\int e^xx^ne^{-\\int \\frac{n}{x}{d}x}{d}x+c\\right)$$$$=x^n\\left(\\int e^xx^nx^{-n}{d}x+c\\right)$$$$=(e^x+c)x^n$$"
   ]
  },
  {
   "cell_type": "markdown",
   "metadata": {},
   "source": [
    "**(15)$\\frac{dy}{dx}=\\frac{1}{xy+x^3y^3}$**"
   ]
  },
  {
   "cell_type": "markdown",
   "metadata": {},
   "source": [
    "**解:**令$u=y^2$，则："
   ]
  },
  {
   "cell_type": "markdown",
   "metadata": {},
   "source": [
    "$$\\frac{du}{dx}=\\frac{2}{x+x^3u}$$"
   ]
  },
  {
   "cell_type": "markdown",
   "metadata": {},
   "source": [
    "将$u$当做自变量，$x$当做$u(x)$的因变量，则可得："
   ]
  },
  {
   "cell_type": "markdown",
   "metadata": {},
   "source": [
    "$$\\frac{dx}{du}=\\frac{x}{2}+\\frac{u}{2}x^3$$"
   ]
  },
  {
   "cell_type": "markdown",
   "metadata": {},
   "source": [
    "观察知这是当$n=3$时的伯努利方程"
   ]
  },
  {
   "cell_type": "markdown",
   "metadata": {},
   "source": [
    "$\\therefore$令$z=x^{-2}$,得：$$\\frac{dz}{du}=-2x^{-3}\\frac{dx}{du}$$代入上面$\\frac{dx}{du}=\\frac{x}{2}+\\frac{u}{2}x^3$式中，得：$$\\frac{dz}{du}=-z-u$$观察易知这是一阶线性微分方程"
   ]
  },
  {
   "cell_type": "markdown",
   "metadata": {},
   "source": [
    "$\\therefore$它的通解为：$$z=e^{\\int -1{d}u}\\left(\\int (-u)e^{\\int 1{d}u}+C\\right)$$即$$z=ce^{-u}-u+1$$把$z=x^{-2},u=y^2$带入上式，得到原方程通解：$$\\frac{1}{x^2}=ce^{-u}-y^2+1$$"
   ]
  },
  {
   "cell_type": "markdown",
   "metadata": {},
   "source": [
    "**(16)$y=e^x+\\int_{0}^{x} y(t){d}t$**"
   ]
  },
  {
   "cell_type": "markdown",
   "metadata": {},
   "source": [
    "**解：**对方程两边关于$x$求导，得：$$\\frac{dy}{dx}=e^x+y$$这是一阶线性微分方程"
   ]
  },
  {
   "cell_type": "markdown",
   "metadata": {},
   "source": [
    "$\\therefore$它的通解为：$$y=e^x\\left(\\int d^xe^{-x}{d}x+c\\right)$$即$$y=e^x(x+c)$$"
   ]
  },
  {
   "cell_type": "markdown",
   "metadata": {},
   "source": [
    "# <font color='red'>特解？？"
   ]
  },
  {
   "cell_type": "markdown",
   "metadata": {},
   "source": [
    "**P50----7**"
   ]
  },
  {
   "cell_type": "markdown",
   "metadata": {},
   "source": [
    "**(3)$y\\prime sinxcosx-y-sin^3x=0$**"
   ]
  },
  {
   "cell_type": "markdown",
   "metadata": {},
   "source": [
    "**解:**"
   ]
  },
  {
   "cell_type": "markdown",
   "metadata": {},
   "source": [
    "原式$\\Rightarrow$$$\\frac{dy}{dx}=\\frac{y}{sinxcosx}+\\frac{sinx^2}{cosx}$$，易得其通解为$$y=e^{\\int \\frac{1}{sinxcosx}{d}x}\\left(\\int \\frac{sin^2x}{cosx}e^{-\\int \\frac{1}{sinxcosx}{d}x}{d}x+c\\right)$$即$$y=tanx\\left(\\int \\frac{sin^2x}{cosx}cotx{d}x+c\\right)$$当$sinx=0$时，原方程为$y=0$"
   ]
  },
  {
   "cell_type": "markdown",
   "metadata": {},
   "source": [
    "当$cosx=0$时，原方程为$y=-sin^3x=\\pm1$，即曲线退化成点$\\left(2k\\pi+\\frac{\\pi}{2}，1\\right)$和$\\left(2k\\pi-\\frac{\\pi}{2},1\\right),k=0,\\pm1,\\pm2\\cdots$"
   ]
  },
  {
   "cell_type": "markdown",
   "metadata": {},
   "source": [
    "$\\therefore$原方程的解为：$$y=ctanx-sinx,\\left(x\\neq k\\pi\\pm\\frac{\\pi}{2}\\right)$$"
   ]
  },
  {
   "cell_type": "markdown",
   "metadata": {},
   "source": [
    "**P60----1**"
   ]
  },
  {
   "cell_type": "markdown",
   "metadata": {},
   "source": [
    "**(1)$(x^2+y)dx+(x-2y)dy=0$**"
   ]
  },
  {
   "cell_type": "markdown",
   "metadata": {},
   "source": [
    "**解：**"
   ]
  },
  {
   "cell_type": "markdown",
   "metadata": {},
   "source": [
    "$\\because$$$\\frac{\\partial M}{\\partial y}=1,\\frac{\\partial N}{\\partial x}=1$$$\\therefore$这个方程式恰当微分方程，设$u$，使其同时满足$$\\frac{\\partial u}{\\partial x}=x^2+y,\\frac{\\partial u}{\\partial y}=x-2y$$第一个方程对$x$积分，得：$$u=\\frac{1}{3}x^3+xy+\\varphi(y)$$对上式两边求导，得：$$\\frac{\\partial u}{\\partial y}=x+\\varphi\\prime(y)$$与$\\frac{\\partial u}{\\partial y}=x-2y$比较可知：$$\\varphi\\prime(y)=-2y$$两边积分得：$$\\varphi(y)=-y^2$$$\\therefore$$$u=\\frac{1}{3}x^3+xy-y^2$$即原方程通解为：$$x^3+3xy-3y^2=c$$"
   ]
  },
  {
   "cell_type": "markdown",
   "metadata": {},
   "source": [
    "**(2)$(y-3x^3)dx-(4y+x)dy=0$**"
   ]
  },
  {
   "cell_type": "markdown",
   "metadata": {},
   "source": [
    "**解：**"
   ]
  },
  {
   "cell_type": "markdown",
   "metadata": {},
   "source": [
    "$\\because$$$\\frac{\\partial M}{\\partial y}=1,\\frac{\\partial N}{x}=1$$$\\therefore$这个方程是恰当微分方程，设$u$，使其同时满足$$\\frac{\\partial u}{\\partial x}=y-3x^2,\\frac{\\partial u}{\\partial y}=x-4y$$对$\\frac{\\partial u}{\\partial x}=y-3x^2$两边求积分，得：$$u=xy-x^3+\\varphi(y)$$对上式$y$求导，并使其满足$\\frac{\\partial u}{\\partial y}=x-4y$即可得：$$\\frac{\\partial u}{\\partial y}=x+\\varphi\\prime(y)=x-4y$$$\\therefore$$$\\varphi\\prime(y)=-4y$$对两边积分，得：$$\\varphi(y)=-2y^2$$将其带入$u=xy-x^3+\\varphi(y)$,得：$$u=xy-x^3-2y^2$$$\\therefore$该方程的通解为$x^3-xy+2y^2=c$"
   ]
  },
  {
   "cell_type": "markdown",
   "metadata": {
    "collapsed": true
   },
   "source": [
    "# <font color='red'>A  19/9 "
   ]
  },
  {
   "cell_type": "code",
   "execution_count": null,
   "metadata": {
    "collapsed": true
   },
   "outputs": [],
   "source": []
  }
 ],
 "metadata": {
  "kernelspec": {
   "display_name": "SageMath 7.3",
   "language": "",
   "name": "sagemath"
  },
  "language_info": {
   "codemirror_mode": {
    "name": "ipython",
    "version": 2
   },
   "file_extension": ".py",
   "mimetype": "text/x-python",
   "name": "python",
   "nbconvert_exporter": "python",
   "pygments_lexer": "ipython2",
   "version": "2.7.10"
  }
 },
 "nbformat": 4,
 "nbformat_minor": 0
}
