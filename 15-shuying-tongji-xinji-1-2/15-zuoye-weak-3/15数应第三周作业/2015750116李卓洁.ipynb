{
 "cells": [
  {
   "cell_type": "markdown",
   "metadata": {},
   "source": [
    "#                 常微分作业<二>\n",
    "# 姓名：李卓洁\n",
    "# 学号：2015750116\n"
   ]
  },
  {
   "cell_type": "markdown",
   "metadata": {},
   "source": [
    "## 1,求下列方程的解："
   ]
  },
  {
   "cell_type": "markdown",
   "metadata": {},
   "source": [
    "$(4)\\frac{\\mathrm d y}{\\mathrm d x}-\\frac{n}{x}y=e^xx^n(n为常数）$\n",
    "\n",
    "$解：令P(x)=\\frac{n}{x},Q(x)=e^xx^n$\n",
    "\n",
    "$\n",
    "\\begin{aligned}\n",
    "y&=e^{\\int\\frac{n}{x}\\mathrm d x}(\\int{e^xx^nx^{-n}}\\mathrm d x+c)\\\\&=x^n(\\int{e^xx^nx^{-n}}\\mathrm d x+c)\\\\&=(e^x+c)x^n\n",
    "\\end{aligned}\n",
    "（c为任意常数）$\n"
   ]
  },
  {
   "cell_type": "markdown",
   "metadata": {},
   "source": [
    "(15)$\\frac{\\mathrm d y}{\\mathrm d x}=\\frac{1}{xy+x^3y^3}$\n",
    "\n",
    "$解：根据题意得：\\frac{\\mathrm d x}{\\mathrm d y}=yx+y^3x^3$\n",
    "\n",
    "$\\frac{1}{x^3}\\frac{\\mathrm d x}{\\mathrm d y}=\\frac{y}{x^2}+y^3$\n",
    "\n",
    "令$z=\\frac{1}{x^2}$\n",
    "\n",
    "$\n",
    "\\begin{aligned}\n",
    "\\frac{\\mathrm d z}{\\mathrm dy}&=-2\\frac{1}{x^3}\\frac{\\mathrm d x}{\\mathrm d y}\\\\&=-\\frac{2y}{x^2}-2y^3\\\\&=-2yz-2y^3\n",
    "\\end{aligned}\n",
    "$\n",
    "\n",
    "令$P(y)=-2y,Q(y)=-2y^3$\n",
    "\n",
    "$代入简化为：\n",
    "\\begin{aligned}\n",
    "z&=e^{\\int-2y\\mathrm d y}(\\int{-2y^3e^{-\\int-2y\\mathrm d y}}\\mathrm d y+c)\\\\&=e^{-y^2}(e^{y^2}(1-y^2)+c)\\\\&=1-y^2+ce^{-y^2}\n",
    "\\end{aligned}\n",
    "$\n",
    "\n",
    "$因为z=\\frac{1}{x^2}，所以方程的解为：cx^2=e^{y^2}(1-x^2+x^2y^2)$"
   ]
  },
  {
   "cell_type": "markdown",
   "metadata": {},
   "source": [
    "（16）$y=e^x+\\int_0^xy(t)\\mathrm d t$\n",
    "\n",
    "$解：根据题意为：\\frac{\\mathrm d y}{\\mathrm d x}=e^x+y$\n",
    "\n",
    "$令P(x)=1,Q(x)=e^x$\n",
    "\n",
    "$y=e^{\\int1\\mathrm d x}(\\int{e^xe^{-\\int1\\mathrm d x}}\\mathrm d x+c)=e^x（x+c）$\n",
    "\n",
    "$因为e^x（x+c）=e^x+\\int_0^xe^x(x+c)\\mathrm d x，解得：c=1$\n",
    "\n",
    "$所以方程的解为y=e^x(x+1)$"
   ]
  },
  {
   "cell_type": "markdown",
   "metadata": {},
   "source": [
    "## 7,求解下列方程："
   ]
  },
  {
   "cell_type": "markdown",
   "metadata": {},
   "source": [
    "（3）$y^\\prime\\sin x\\cos x-y-\\sin^3 x=0$\n",
    "\n",
    "$解：根据题意得：\\frac{\\mathrm d y}{\\mathrm d x}=\\frac{1}{\\sin x\\cos x}y+\\frac{\\sin^2 x}{\\cos x}（\\sin x≠0,\\cos x≠o）$\n",
    "\n",
    "$令P(x)=\\frac{1}{\\sin x\\cos x},Q(x)=\\frac{\\sin^2 x}{\\cos x}$\n",
    "\n",
    "$y=e^{\\int\\frac{\\mathrm d x}{\\sin x\\cos x}}  (\\int{e^{\\frac{\\sin^2 x}{\\cos x}}e^{-\\int\\frac{\\mathrm d x}{\\sin x\\cos x} \\mathrm d x}}+c)$\n",
    "\n",
    "$y=\\tan x(-\\cos x+c)=c\\tan x-\\sin x$\n",
    "\n",
    "$当sin x=o时，原方程化解为y=0$\n",
    "\n",
    "$当cos x=0时，原方程化解为y=-\\sin^3 x=±1，即曲线变成点（2k\\pi+\\frac{\\pi}{2},-1）和（2k\\pi-\\frac{\\pi}{2},1),k=0,±1,±2,...$\n",
    "\n",
    "$综上可得，原方程的解为y=\\tan x(-\\cos x+c)=c\\tan x-\\sin x(x≠k\\pi±\\frac{\\pi}{2}或者点（k\\pi+\\frac{\\pi}{2},(-1)^{k+1}),k=0,±1,±2,...$\n",
    "\n"
   ]
  },
  {
   "cell_type": "markdown",
   "metadata": {},
   "source": [
    "# 1,验证下列方程是恰当微分方程，并求出方程的解"
   ]
  },
  {
   "cell_type": "markdown",
   "metadata": {},
   "source": [
    "（1）$(x^2+y)*d x+(x-2y)*d y=0$\n",
    "\n",
    "$解：因为\\frac{\\partial M}{\\partial y}=1,\\frac{\\partial N}{\\partial x}=1=\\frac{\\partial M}{\\partial y}$\n",
    "\n",
    "$所以原方程是恰当微分方程$\n",
    "\n",
    "$将方程重新分项组合，得到（y*d x+x*d y)+x^2*d x-2y*d y=0,两边同乘以3$\n",
    "\n",
    "$3d(xy)+d(x^3)+3d(-y^2)=0即d (3xy+x^3-3y^2)=0$\n",
    "\n",
    "$于是，方程的通解为xy+3x^3-3y^2=c,(c为任意常数)$"
   ]
  },
  {
   "cell_type": "markdown",
   "metadata": {},
   "source": [
    "（2$（y-3x^2)*d x-(4y-x)*d y=0$\n",
    "\n",
    "$解：因为\\frac{\\partial M}{\\partial y}=1，\\frac{\\partial N}{\\partial x}=1=\\frac{\\partial M}{\\partial y}$\n",
    "\n",
    "$所以原方程是恰当微分方程$\n",
    "\n",
    "$将方程重新分项组合，得（y*d x+x*d y)-3x^2*d x-4y*d y=0,两边同乘以-1$\n",
    "\n",
    "$d(x^3)+2d(y^2)-d(xy)=0即d (x^3-xy+3y^2)=0$\n",
    "\n",
    "$于是，方程的通解为x^3-xy+2y^2=c,(c为任意常数)$"
   ]
  },
  {
   "cell_type": "markdown",
   "metadata": {
    "collapsed": true
   },
   "source": [
    "# 对$P(t)=\\int_{x_0}^x \\mathrm p(t)\\,\\mathrm{d}t$求导.\n",
    "\n",
    "$解：P(x+△x)-P(x)=\\int_{x_0}^{x+△x} \\mathrm p(t)\\,\\mathrm{d}t-\\int_{x_0}^x \\mathrm p(t)\\,\\mathrm{d}t=\\int_x^{x+△x} \\mathrm p(t)\\,\\mathrm{d}t$\n",
    "\n",
    "$根据积分第一中值定理可得：P(x+△x)-P(x)=η△x或P(ξ)△x$\n",
    "\n",
    "$由分析得：无论在什么情况下，当△x→0时都有P(x+△x)-P(x)→0，即P(x)在（x_0,x)上连续。$\n",
    "\n",
    "$若P(x)在（x_0,x)上连续，当△x→0时有ξ→x,因而P(ξ)→P(x)，$\n",
    "\n",
    "$P'(x)=lim\\frac{P(x+△x)-P(x)}{△x}=limP(ξ)=P(x).$\n"
   ]
  },
  {
   "cell_type": "markdown",
   "metadata": {
    "collapsed": true
   },
   "source": [
    "# <font color='red'>A+  19/9 "
   ]
  },
  {
   "cell_type": "code",
   "execution_count": null,
   "metadata": {
    "collapsed": true
   },
   "outputs": [],
   "source": []
  }
 ],
 "metadata": {
  "kernelspec": {
   "display_name": "SageMath 7.3",
   "language": "",
   "name": "sagemath"
  },
  "language_info": {
   "codemirror_mode": {
    "name": "ipython",
    "version": 2
   },
   "file_extension": ".py",
   "mimetype": "text/x-python",
   "name": "python",
   "nbconvert_exporter": "python",
   "pygments_lexer": "ipython2",
   "version": "2.7.10"
  }
 },
 "nbformat": 4,
 "nbformat_minor": 0
}
