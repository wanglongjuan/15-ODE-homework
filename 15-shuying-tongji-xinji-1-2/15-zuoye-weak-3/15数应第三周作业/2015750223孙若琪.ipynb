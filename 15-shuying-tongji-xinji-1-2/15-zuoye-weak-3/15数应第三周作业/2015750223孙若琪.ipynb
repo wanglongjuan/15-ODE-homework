{
 "cells": [
  {
   "cell_type": "markdown",
   "metadata": {},
   "source": [
    "$习题2.2$"
   ]
  },
  {
   "cell_type": "markdown",
   "metadata": {},
   "source": [
    "$1.求下列方程的解$"
   ]
  },
  {
   "cell_type": "markdown",
   "metadata": {},
   "source": [
    "$（4）\\frac{dy}{dx}-\\frac{n}{x}y=e^xx^n(n为常数)$"
   ]
  },
  {
   "cell_type": "markdown",
   "metadata": {},
   "source": [
    "$解：首先求线性齐次方程\\frac{dy}{dx}=\\frac{n}{x}y的通解$"
   ]
  },
  {
   "cell_type": "markdown",
   "metadata": {},
   "source": [
    "$分离变量：\\frac{dy}{y}=\\frac{n}{x}dx,两边积分：y=cx^n,把c 看成x的待定函数c(x),即y=c（x）x^n$"
   ]
  },
  {
   "cell_type": "markdown",
   "metadata": {},
   "source": [
    "$代入原方程，化简后可得到：\\frac{dc(x)}{dx}=e^x$"
   ]
  },
  {
   "cell_type": "markdown",
   "metadata": {},
   "source": [
    "$积分得：c(x)=e^x+c1$"
   ]
  },
  {
   "cell_type": "markdown",
   "metadata": {},
   "source": [
    "$所以，原方程的通解为y=c1x^n+e^xx^n$"
   ]
  },
  {
   "cell_type": "markdown",
   "metadata": {},
   "source": [
    "$(15)\\frac{dy}{dx}=\\frac{1}{xy+x^3y^3}$"
   ]
  },
  {
   "cell_type": "markdown",
   "metadata": {},
   "source": [
    "$解：原方程做变换,\\frac{ydy}{dx}=\\frac{1}{x+x^3y^2},令u=y^2,则原方程可化为：\\frac{du}{dx}=\\frac{2}{x+x^3u}$"
   ]
  },
  {
   "cell_type": "markdown",
   "metadata": {},
   "source": [
    "$交换自变量因变量位置,可得:\\frac{dx}{du}=\\frac{x}{2}+\\frac{u}{2}x^3.为一个伯努利方程$"
   ]
  },
  {
   "cell_type": "markdown",
   "metadata": {},
   "source": [
    "$令z=x^{-2},\\frac{dz}{du}=-z-u,求解得：z=ce^{-u}-u+1$"
   ]
  },
  {
   "cell_type": "markdown",
   "metadata": {},
   "source": [
    "$所以原方程的解为：\\frac{1}{x^2}=ce^{-y^2}-y^2+1$"
   ]
  },
  {
   "cell_type": "markdown",
   "metadata": {},
   "source": [
    "$(16)y=e^x+\\int_0^x \\mathrm y(t)\\,\\mathrm{d}t$"
   ]
  },
  {
   "cell_type": "markdown",
   "metadata": {},
   "source": [
    "$两边关于x求导，\\frac{dy}{dx}=e^x+y$"
   ]
  },
  {
   "cell_type": "markdown",
   "metadata": {},
   "source": [
    "$解得y=e^x(\\int\\mathrm{e}^{x}{e}^{-x}\\,\\mathrm{d}x+c)=e^x(x+c)$"
   ]
  },
  {
   "cell_type": "markdown",
   "metadata": {},
   "source": [
    "$特别的，当x=0的时候，y=1,c=1，因此，原方程的解为y=e^x(x+1)$"
   ]
  },
  {
   "cell_type": "markdown",
   "metadata": {},
   "source": [
    "$7.(3)求下列方程的解：y'\\sin x\\cos x-y-\\sin^3x=0$"
   ]
  },
  {
   "cell_type": "markdown",
   "metadata": {},
   "source": [
    "$解\\frac{\\mathrm d y}{\\mathrm d x}=\\frac{y}{\\sin x \\cos x}+\\frac{(\\sin x)^2}{\\cos x}$"
   ]
  },
  {
   "cell_type": "markdown",
   "metadata": {},
   "source": [
    "$\\frac{\\mathrm d y}{\\mathrm d x}=\\frac{\\mathrm d c(x)}{\\mathrm d x}e^{\\int\\ \\frac{1}{\\sin x \\cos x}\\,\\mathrm {d}x}+\\frac{1}{\\sin x \\cos x}c(x)e^{\\int\\ \\frac{1}{\\sin x \\cos x}\\,\\mathrm {d}x}，解得该方程的通解为y=\\tan x (c-\\cos x)$"
   ]
  },
  {
   "cell_type": "markdown",
   "metadata": {},
   "source": [
    "$当\\sin x=0 时,y=0$"
   ]
  },
  {
   "cell_type": "markdown",
   "metadata": {},
   "source": [
    "当$\\cos x=0时,y=-(sinx)^3=\\pm 1，即退化成点(2k\\pi+\\frac{\\pi}{2},-1)和(2k\\pi-\\frac{\\pi}{2},1),k=0,\\pm 1,\\pm 2, \\ldots$"
   ]
  },
  {
   "cell_type": "markdown",
   "metadata": {},
   "source": [
    "$习题2.3$"
   ]
  },
  {
   "cell_type": "markdown",
   "metadata": {},
   "source": [
    "$1.验证下列方程是恰当微分方程，并求出方程的解$"
   ]
  },
  {
   "cell_type": "markdown",
   "metadata": {},
   "source": [
    "$(1)(x^2+y) \\mathrm d x+(x-2y) \\mathrm d y=0$"
   ]
  },
  {
   "cell_type": "markdown",
   "metadata": {},
   "source": [
    "$解：M=x^2+y ,N=x-2y$"
   ]
  },
  {
   "cell_type": "markdown",
   "metadata": {},
   "source": [
    " $\\frac{\\partial M}{\\partial y}=1,并且 \\frac{\\partial N}{\\partial x}=1,因此方程是恰当微分方程$"
   ]
  },
  {
   "cell_type": "markdown",
   "metadata": {},
   "source": [
    "$x^2dx+ydx+xdy-2ydy=0$"
   ]
  },
  {
   "cell_type": "markdown",
   "metadata": {},
   "source": [
    "$d(\\frac{x^3}{3})+d(xy)-d(y^2)=0$"
   ]
  },
  {
   "cell_type": "markdown",
   "metadata": {},
   "source": [
    "$d(\\frac{x^3}{3}+xy-y^2)=0$"
   ]
  },
  {
   "cell_type": "markdown",
   "metadata": {},
   "source": [
    "$可以得到通解为\\frac{x^3}{3}+xy-y^2=c，其中c为任意常数.$"
   ]
  },
  {
   "cell_type": "markdown",
   "metadata": {},
   "source": [
    "$(2)(y-3x^2)dx-(4y-x)dy=0$"
   ]
  },
  {
   "cell_type": "markdown",
   "metadata": {},
   "source": [
    "$解：M=y-3x^2,N=x-4y$"
   ]
  },
  {
   "cell_type": "markdown",
   "metadata": {},
   "source": [
    "$因为 \\frac{\\partial M}{\\partial y}=1,并且 \\frac{\\partial N}{\\partial x}=1,因此方程是恰当微分方程。$"
   ]
  },
  {
   "cell_type": "markdown",
   "metadata": {},
   "source": [
    "$方程变形得到(ydx+xdy)-3x^2dx-4ydy=0,即d(xy-x^3-2y^2)=0$"
   ]
  },
  {
   "cell_type": "markdown",
   "metadata": {},
   "source": [
    "$所以方程的通解为xy-x^3-2y^2=c，其中c为任意常数。$"
   ]
  },
  {
   "cell_type": "markdown",
   "metadata": {
    "collapsed": true
   },
   "source": [
    "# <font color='red'>A+  19/9 "
   ]
  },
  {
   "cell_type": "code",
   "execution_count": null,
   "metadata": {
    "collapsed": true
   },
   "outputs": [],
   "source": []
  }
 ],
 "metadata": {
  "kernelspec": {
   "display_name": "SageMath 7.3",
   "language": "",
   "name": "sagemath"
  },
  "language_info": {
   "codemirror_mode": {
    "name": "ipython",
    "version": 2
   },
   "file_extension": ".py",
   "mimetype": "text/x-python",
   "name": "python",
   "nbconvert_exporter": "python",
   "pygments_lexer": "ipython2",
   "version": "2.7.10"
  }
 },
 "nbformat": 4,
 "nbformat_minor": 0
}
