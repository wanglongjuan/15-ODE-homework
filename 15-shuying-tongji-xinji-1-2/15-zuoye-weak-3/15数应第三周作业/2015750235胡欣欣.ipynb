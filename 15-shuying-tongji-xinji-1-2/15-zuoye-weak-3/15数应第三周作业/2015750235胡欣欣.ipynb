{
 "cells": [
  {
   "cell_type": "markdown",
   "metadata": {},
   "source": [
    "数学与应用数学    胡欣欣    2015750235   \n",
    "p48     \n",
    "一，求下列方程的解：\n",
    "（15）$\\frac{\\mathrm d y}{\\mathrm d x}=\\frac{1}{xy+x^3y^3};$"
   ]
  },
  {
   "cell_type": "markdown",
   "metadata": {},
   "source": [
    "解：∵$\\frac{\\mathrm d x}{\\mathrm d y}=y*x+y^3*x^3$是一个n=3时的伯努利微分方程\n",
    "\n",
    "∴，对于$x≠0$,用$x^﹣3$乘两边，得到$$(x^-3)\\frac{\\mathrm d x}{\\mathrm d y}=y*x^(-2)+y^3 $$     (1)               "
   ]
  },
  {
   "cell_type": "markdown",
   "metadata": {},
   "source": [
    "令$z=x^-2$进行变量替换，则：$$\\frac{\\mathrm d z}{\\mathrm d y}=-2x^(-3)\\frac{\\mathrm d x}{\\mathrm d y}$$    (2)\n",
    "                                              "
   ]
  },
  {
   "cell_type": "markdown",
   "metadata": {},
   "source": [
    "将$(1)$式和$(2)$式代入原式中，得到：$$\\frac{\\mathrm d z}{\\mathrm d y}=-2yz-2y^3$$"
   ]
  },
  {
   "cell_type": "markdown",
   "metadata": {},
   "source": [
    "这是线性微分方程，求出它的通解为$$z=\\frac{c}{y^2}$$\n",
    "带回原来的变量，得到：$$y^2=cx^2$$"
   ]
  },
  {
   "cell_type": "markdown",
   "metadata": {},
   "source": [
    "(16) $y=e^x+\\int\\limits_{0}^xy(t)\\mathrm d t$"
   ]
  },
  {
   "cell_type": "markdown",
   "metadata": {},
   "source": [
    "解：在方程两边对x求导，得:$$\\frac{\\mathrm d y}{\\mathrm d x}=y+e^x$$\n",
    "由上求出齐次线性方程$\\frac{\\mathrm d y}{\\mathrm d x}=y$的通解为：$$y=ce^x$$"
   ]
  },
  {
   "cell_type": "markdown",
   "metadata": {},
   "source": [
    "利用常数变易法，把c换成c(x),得：$$\\frac{\\mathrm d y}{\\mathrm d x}=\\frac{\\mathrm d c(x)}{\\mathrm d x}e^x+e^xc(x)$$"
   ]
  },
  {
   "cell_type": "markdown",
   "metadata": {},
   "source": [
    "将一二两式代入第三式中，得到：$$c(x)=x+c$$\n",
    "则原方程的通解为$$y=e^x（x+c）$$"
   ]
  },
  {
   "cell_type": "markdown",
   "metadata": {},
   "source": [
    "7,求解下列方程\n",
    "（3）$y'sinxcosx-y-sin^3x=0$"
   ]
  },
  {
   "cell_type": "markdown",
   "metadata": {},
   "source": [
    "解：变换方程得$$\\frac{\\mathrm d y}{\\mathrm d x}=\\frac{y}{sinxcosx}+\\frac{sin^2x}{cosx}$$\n",
    "由此可知  $$P(x)=\\frac{1}{sinxcosx}$$     $$Q(x)=\\frac{sin^2x}{cosx}$$"
   ]
  },
  {
   "cell_type": "markdown",
   "metadata": {},
   "source": [
    "由常数变易法得：$$C(x)=c-cosx$$"
   ]
  },
  {
   "cell_type": "markdown",
   "metadata": {},
   "source": [
    "得到方程的通解为$$y=tgxc-sinx$$"
   ]
  },
  {
   "cell_type": "markdown",
   "metadata": {},
   "source": [
    "# <font color='red'>C 19/9  特解？？其余几道题？？"
   ]
  },
  {
   "cell_type": "code",
   "execution_count": null,
   "metadata": {
    "collapsed": true
   },
   "outputs": [],
   "source": []
  }
 ],
 "metadata": {
  "kernelspec": {
   "display_name": "SageMath 7.3",
   "language": "",
   "name": "sagemath"
  },
  "language_info": {
   "codemirror_mode": {
    "name": "ipython",
    "version": 2
   },
   "file_extension": ".py",
   "mimetype": "text/x-python",
   "name": "python",
   "nbconvert_exporter": "python",
   "pygments_lexer": "ipython2",
   "version": "2.7.10"
  }
 },
 "nbformat": 4,
 "nbformat_minor": 0
}
