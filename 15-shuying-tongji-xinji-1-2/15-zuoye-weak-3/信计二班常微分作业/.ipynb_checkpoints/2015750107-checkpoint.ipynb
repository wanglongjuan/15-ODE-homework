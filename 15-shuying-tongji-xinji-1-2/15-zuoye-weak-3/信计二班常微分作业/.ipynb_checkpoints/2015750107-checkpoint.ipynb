{
 "cells": [
  {
   "cell_type": "markdown",
   "metadata": {},
   "source": [
    "# 习题2.2"
   ]
  },
  {
   "cell_type": "markdown",
   "metadata": {},
   "source": [
    "1.求下列方程的解：\n",
    "\n",
    "（4）$\\frac{dy}{dx}-\\frac{n}{x}y=e^xx^n （n为常数）$\n",
    "\n",
    "（15）$\\frac{dy}{dx}=\\frac{1}{xy+x^3y^3}$\n",
    "\n",
    "（16）$y=e^x+\\int^x_0{y(t)}{dt}$"
   ]
  },
  {
   "cell_type": "markdown",
   "metadata": {
    "collapsed": true
   },
   "source": [
    "解：\n",
    "\n",
    "（4）\n",
    "\n",
    "$P(x)=\\frac{n}{x},Q(x)=e^xx^n$\n",
    "\n",
    "由公式得\n",
    "\n",
    "$y=e^{\\int{\\frac{n}{x}}{dx}}(\\int{e^xx^ne^{-\\int{\\frac{n}{x}}{dx}}}+c)$\n",
    "\n",
    "$y=x^n(\\int{e^xx^nx^{-n}}{dx}+c)$\n",
    "\n",
    "$y=(e^x+c)x^n$\n",
    "\n",
    "（15）\n",
    "\n",
    "将x看作y的函数,则该方程是一个伯努利方程：\n",
    "\n",
    "$\\frac{dx}{dy}=yx+y^3x^3$\n",
    "\n",
    "引入变量$z=x^{-2}$\n",
    "\n",
    "$P(y)=y,Q(y)=y^3$\n",
    "\n",
    "由公式得\n",
    "\n",
    "$\\frac{dz}{dy}=-2yz-2y^3$\n",
    "\n",
    "进一步可得\n",
    "\n",
    "$z=ce^{-y^2}-y^2+1$\n",
    "\n",
    "即：$x^{-2}=ce^{-y^2}-y^2+1$\n",
    "\n",
    "（16）\n",
    "\n",
    "$\\frac{dy}{dx}=e^x+y$\n",
    "\n",
    "同样由公式可得其通解：\n",
    "\n",
    "$y=e^x(\\int{e^xe^{-x}}{dx}+c)=e^x(x+c)$\n",
    "\n",
    "当x=0时，y=1\n",
    "\n",
    "则 c=1\n",
    "\n",
    "原方程解为：$y=e^x(x+1)$"
   ]
  },
  {
   "cell_type": "markdown",
   "metadata": {
    "collapsed": true
   },
   "source": [
    "7.求解下列方程：\n",
    "\n",
    "（3）$y'\\sin{x}\\cos{x}-y-\\sin^3{x}=0$\n"
   ]
  },
  {
   "cell_type": "markdown",
   "metadata": {},
   "source": [
    "解：\n",
    "\n",
    "（3）\n",
    "\n",
    "变形方程得：\n",
    "\n",
    "$\\frac{dy}{dx}=\\frac{y}{\\sin{x}\\cos{x}}+\\sin^2{x}  (\\sin{x}\\neq0,\\cos{x}\\neq0)$\n",
    "\n",
    "由公式得其通解为：\n",
    "\n",
    "$y=e^{\\int{\\frac{1}{\\sin{x}\\cos{x}}}{dx}}(\\int{\\frac{\\sin^2{x}}{\\cos{x}}e^{-\\int{\\frac{1}{\\sin{x}\\cos{x}}}{dx}}}{dx}+c)$\n",
    "\n",
    "即：$y=c\\tan{x}-\\sin{x}$\n",
    "\n",
    "当$\\sin{x}=0$时，原方程为$y=0$\n",
    "\n",
    "当$\\tan{x}=0$时，原方程为$y=-\\sin^3{x}=±1$，即曲线退化为点$（2k\\pi+\\frac{\\pi}{2},-1），（2k\\pi-\\frac{\\pi}{2},1）$  $k=0,±1,±2,\\cdots$\n",
    "\n",
    "所以，原方程的解为$y=c\\tan{x}-\\sin{x}(x\\neq\\pi±\\frac{\\pi}{2})$\n",
    "\n",
    "或 点$-(k\\pi+\\frac{\\pi}{2},c-1^{k+1}),k=0,±1,±2,\\cdots$\n"
   ]
  },
  {
   "cell_type": "markdown",
   "metadata": {
    "collapsed": true
   },
   "source": [
    "# 习题2.3"
   ]
  },
  {
   "cell_type": "markdown",
   "metadata": {},
   "source": [
    "1.验证下列方程是恰当微分方程，并求出方程的解：\n",
    "\n",
    "（1）$(x^2+y)dx+(x-2y)dy=0$\n",
    "\n",
    "（2）$(y-3x^3)dx+(4y-x)dy=0$"
   ]
  },
  {
   "cell_type": "markdown",
   "metadata": {},
   "source": [
    "解：\n",
    "\n",
    "（1）\n",
    "\n",
    "$M=x^2+y,N=x-2y$\n",
    "\n",
    "$\\frac{\\partial{M}}{\\partial{y}}=\\frac{\\partial{N}}{\\partial{x}}=1$\n",
    "\n",
    "则方程为恰当微分方程\n",
    "\n",
    "设其解为z，则：\n",
    "\n",
    "$\\frac{\\partial{z}}{\\partial{x}}=x^2+y,\\frac{\\partial{z}}{\\partial{y}}=x-2y$\n",
    "\n",
    "对第一个式子积分：$z=\\frac{1}{3}x^3+xy+f(y)$\n",
    "\n",
    "再对上式对y求导：$\\frac{\\partial{z}}{\\partial{y}}=x+f'(y)$\n",
    "\n",
    "可得：$f'(y)=-2y$\n",
    "\n",
    "$f(y)=-y^2$\n",
    "\n",
    "$z=\\frac{1}{3}x^3+xy-y^2$\n",
    "\n",
    "原方程通解为：$x^3+3xy-3y^2=c(c为任意常数)$\n",
    "\n",
    "（2）\n",
    "\n",
    "$M=y-3x^2,N=x-4y$\n",
    "\n",
    "$\\frac{\\partial{M}}{\\partial{y}}=\\frac{\\partial{N}}{\\partial{x}}=1$\n",
    "\n",
    "则方程为恰当微分方程\n",
    "\n",
    "设其解为z，与（1）同理，可得：\n",
    "\n",
    "$z=xy-x^3-2y^2$\n",
    "\n",
    "原方程通解为：$xy-x^3-2y^2=c(c为任意常数)$"
   ]
  },
  {
   "cell_type": "markdown",
   "metadata": {
    "collapsed": true
   },
   "source": [
    "$y=\\int^x_{x_0}{p(t)}{dt}$\n",
    "\n",
    "$y'=(P(x)-P(x_0))'$\n",
    "\n",
    "$y'=p(x)$"
   ]
  },
  {
   "cell_type": "markdown",
   "metadata": {
    "collapsed": true
   },
   "source": [
    "# <font color='red'>A  19/9 "
   ]
  },
  {
   "cell_type": "code",
   "execution_count": null,
   "metadata": {
    "collapsed": true
   },
   "outputs": [],
   "source": []
  }
 ],
 "metadata": {
  "kernelspec": {
   "display_name": "SageMath 7.3",
   "language": "",
   "name": "sagemath"
  },
  "language_info": {
   "codemirror_mode": {
    "name": "ipython",
    "version": 2
   },
   "file_extension": ".py",
   "mimetype": "text/x-python",
   "name": "python",
   "nbconvert_exporter": "python",
   "pygments_lexer": "ipython2",
   "version": "2.7.10"
  }
 },
 "nbformat": 4,
 "nbformat_minor": 0
}
