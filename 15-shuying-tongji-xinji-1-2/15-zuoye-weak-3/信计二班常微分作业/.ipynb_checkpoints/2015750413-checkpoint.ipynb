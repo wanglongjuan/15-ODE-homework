{
 "cells": [
  {
   "cell_type": "markdown",
   "metadata": {},
   "source": [
    "                                           常微分                "
   ]
  },
  {
   "cell_type": "markdown",
   "metadata": {},
   "source": [
    "**一.求下列方程的解**\n",
    "$$(1)\\frac{\\mathrm d y}{\\mathrm d x}-\\frac{n}{x}y=e^xx^n$$\n",
    "$$令\\frac{\\mathrm d y}{\\mathrm d x}-\\frac{n}{x}y=0求通解得：$$\n",
    "$$\\int{\\frac{\\mathrm d y}{y}}=\\int{\\frac{n}{x}}\\mathrm d x$$\n",
    "$$y=cx^n$$\n",
    "$$设c是关于x的函数c(x),则y=c(x)x^n$$\n",
    "$$\\frac{\\mathrm d y}{\\mathrm d x}=\\frac{\\mathrm d c(x)}{\\mathrm d x}x^n+nx^{n-1}c(x)=\\frac{n}{x}c(x)x^n+e^xx^n$$\n",
    "$$\\frac{\\mathrm d c(x)}{\\mathrm d x}=e^x$$\n",
    "$$c(x)=e^x+c'$$\n",
    "$$解得y=x^n(e^x+c)(c'为任意常数) $$"
   ]
  },
  {
   "cell_type": "markdown",
   "metadata": {},
   "source": [
    "$$(2)\\frac{\\mathrm d y}{\\mathrm d x}=\\frac{1}{xy+x^3y^3}$$\n",
    "$$变形得\\frac{\\mathrm d x}{\\mathrm d y}=xy+x^3y^3$$\n",
    "$$把x看作未知函数，y看作自变量,对x不等于0，用x^{-3}乘方程两边得：$$\n",
    "$$x^{-3}\\frac{\\mathrm d x}{\\mathrm d y}=x^{-2}y+y^3$$\n",
    "$$令z=x^{-2},则对y求导得：$$\n",
    "$$\\frac{\\mathrm d z}{\\mathrm d y}=-2x^{-3}\\frac{\\mathrm d x}{\\mathrm d y}$$\n",
    "$$则\\frac{\\mathrm d z}{\\mathrm d y}=-2yz+(-2)y^3$$\n",
    "$$令\\frac{\\mathrm d z}{\\mathrm d y}=-2yz求通解得：$$\n",
    "$$-\\frac{1}{2}\\int{\\frac{\\mathrm d z}{z}}=\\int{y}\\mathrm d y$$\n",
    "$$z=ce^{-y^2}$$\n",
    "$$设c是关于y的函数c(y),则z=c(y)e^{-y^2}$$\n",
    "$$\\frac{\\mathrm d z}{\\mathrm d y}=\\frac{\\mathrm d c(y)}{\\mathrm d y}+c(y)e^{-y^2}(-2y)=-2yc(y)e^{-y^2}+(-2)y^3$$\n",
    "$$\\mathrm d c(y)=\\frac{-2y^3}{e^{-y^2}}\\mathrm d y$$\n",
    "$$c(y)=\\int{\\frac{-2y^3}{e^{-y^2}}}\\mathrm d y+c'$$\n",
    "$$解得y=e^{-y^2}(\\int{\\frac{-2y^3}{e^{-y^2}}}\\mathrm d y+c')  (c'为任意常数）$$"
   ]
  },
  {
   "cell_type": "markdown",
   "metadata": {},
   "source": [
    "# <font color='red'>化简"
   ]
  },
  {
   "cell_type": "markdown",
   "metadata": {},
   "source": [
    "$$(3)y=e^x+\\int^x_0{y(t)}\\mathrm d t$$\n",
    "$$y是关于x的函数,对方程关于x求导得：$$\n",
    "$$\\frac{\\mathrm d y}{\\mathrm d x}=e^x+y$$\n",
    "$$令\\frac{\\mathrm d y}{\\mathrm d x}=y求通解得：$$\n",
    "$$\\frac{\\mathrm d y}{\\mathrm d x}=y$$\n",
    "$$对\\frac{\\mathrm d y}{y}=\\mathrm d x求积分得：$$\n",
    "$$y=ce^x$$\n",
    "$$设c是关于x的函数c(x），则y=c(x)e^x$$\n",
    "$$\\frac{\\mathrm d y}{\\mathrm d x}=\\frac{\\mathrm d c(x)}{\\mathrm d x}e^x+c(x)e^x=c(x)e^x+e^x$$\n",
    "$$\\mathrm d c(x)=\\mathrm d x$$\n",
    "$$c(x)=x+c'$$\n",
    "$$解得y=e^x(x+c') (c'为任意常数)$$"
   ]
  },
  {
   "cell_type": "markdown",
   "metadata": {},
   "source": [
    "# <font color='red'>特解？？"
   ]
  },
  {
   "cell_type": "markdown",
   "metadata": {},
   "source": [
    "$$(4)y'sinxcosx-y-sin^3x=0$$\n",
    "$$变换得;$$\n",
    "$$y'=\\frac{y}{sinxcosx}+\\frac{sin^2x}{cosx}$$\n",
    "$$利用积分公式，有解;$$\n",
    "$$y=e^{\\frac{\\mathrm d x}{sinxcosx}}(\\int{\\frac{sin^2x}{cosxtanx}}\\mathrm d x+c)=tanx(-cosx+c)$$\n",
    "$$=ctanx-sinx(x不等于kπ+\\frac{π}{2})$$\n",
    "$$另外(x,y)=(kπ+\\frac{π}{2},（-1）^{k+1}也是解，其中k=...-2,-1,0,1,2,...$$"
   ]
  },
  {
   "cell_type": "markdown",
   "metadata": {},
   "source": [
    "**二.验证下列方程是恰当微分方程，并求出方程的解**\n",
    "$$(1)(x^2+y)\\mathrm d x+(x-2y)\\mathrm d y=0$$\n",
    "$$因为\\frac{\\partial（x^2+y）}{\\partial y}=1$$\n",
    "$$而\\frac{\\partial(x-2y)}{\\partial x}=1$$\n",
    "$$所以该方程是恰当微分方程$$\n",
    "$$现在求u,使他同时满足如下两方程：$$\n",
    "$$\\frac{\\partial u}{\\partial x}=x^2+y...(1)$$\n",
    "$$\\frac{\\partial u}{\\partial y}=x-2y...(2）$$\n",
    "$$（1）对x积分，得：$$\n",
    "$$u=\\frac{1}{3}x^3+xy+φ（y）...(3）$$\n",
    "$$将（3）对y求导数，使其满足（2），得：$$\n",
    "$$\\frac{\\partial u}{\\partial y}=x+\\frac{\\mathrm d φ(y)}{\\mathrm y}=x-2y$$\n",
    "$$\\frac{\\mathrm d φ(y)}{\\mathrm y}=2y$$\n",
    "$$积分可得：φ(y)=y^2$$\n",
    "$$u=\\frac{1}{3}x^3+xy+y^2$$\n",
    "$$方程通解为：\\frac{1}{3}x^3+xy+y^2=c   （c为任意常数）$$"
   ]
  },
  {
   "cell_type": "markdown",
   "metadata": {},
   "source": [
    "$$(2)(y-3x^2)\\mathrm d x-(-4y+x)\\mathrm d y=0$$\n",
    "$$因为\\frac{\\partial（y-3x^2）}{\\partial y}=1$$\n",
    "$$而\\frac{\\partial(x-4y)}{\\partial x}=11$$\n",
    "$$所以该方程不是恰当微分方程$$\n",
    "$$现在求u,使他同时满足如下两方程：$$\n",
    "$$\\frac{\\partial u}{\\partial x}=y-3x^2...(1)$$\n",
    "$$\\frac{\\partial u}{\\partial y}=x-4y...(2）$$\n",
    "$$（1）对x积分，得：$$\n",
    "$$u=xy-x^3+φ（y）...(3）$$\n",
    "$$将（3）对y求导数，使其满足（2），得：$$\n",
    "$$\\frac{\\partial u}{\\partial y}=x+\\frac{\\mathrm d φ(y)}{\\mathrm y}=x-4y$$\n",
    "$$\\frac{\\mathrm d φ(y)}{\\mathrm y}=-4y$$\n",
    "$$积分可得：φ(y)=-2y^2$$\n",
    "$$u=xy-x^3-2y^2$$\n",
    "$$方程通解为：xy-x^3-2y^2=c   （c为任意常数）$$"
   ]
  },
  {
   "cell_type": "markdown",
   "metadata": {},
   "source": [
    "**三.变上限求导**$$\\int^x_{x0}{p(t)}\\mathrm d t$$\n",
    "$$设P(t)为p(t)的原函数，则：$$\n",
    "$$\\int^x_{x0}{p(t)}\\mathrm d t=P(x）-P(x0）$$\n",
    "$$对\\int^x_{x0}{p(t)}\\mathrm d t求导得:$$\n",
    "$$\\frac{\\mathrm d (\\int^x_{x0}{p(t)}\\mathrm d t)}{\\mathrm d x}=\\frac{\\mathrm d P(x)}{\\mathrm d x}$$\n",
    "$$=p(x)$$"
   ]
  },
  {
   "cell_type": "markdown",
   "metadata": {
    "collapsed": true
   },
   "source": [
    "# <font color='red'>A  19/9 "
   ]
  },
  {
   "cell_type": "code",
   "execution_count": null,
   "metadata": {
    "collapsed": true
   },
   "outputs": [],
   "source": []
  }
 ],
 "metadata": {
  "kernelspec": {
   "display_name": "SageMath 7.3",
   "language": "",
   "name": "sagemath"
  },
  "language_info": {
   "codemirror_mode": {
    "name": "ipython",
    "version": 2
   },
   "file_extension": ".py",
   "mimetype": "text/x-python",
   "name": "python",
   "nbconvert_exporter": "python",
   "pygments_lexer": "ipython2",
   "version": "2.7.10"
  }
 },
 "nbformat": 4,
 "nbformat_minor": 0
}
