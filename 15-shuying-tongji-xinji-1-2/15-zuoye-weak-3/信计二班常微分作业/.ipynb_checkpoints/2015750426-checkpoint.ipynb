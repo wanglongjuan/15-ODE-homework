{
 "cells": [
  {
   "cell_type": "markdown",
   "metadata": {},
   "source": [
    "**2016.9.13 周二**"
   ]
  },
  {
   "cell_type": "markdown",
   "metadata": {},
   "source": [
    "**1.求下列方程的解：**\n",
    "\n",
    "**（4）**$\\frac{\\mathrm d y}{\\mathrm d x}-\\frac{n}{x}y=e^{x}x^{n}(n为常数)；$\n",
    "\n",
    "**（15）**$\\frac{\\mathrm d y}{\\mathrm d x}=\\frac{1}{xy+x^3y^3}；$\n",
    "\n",
    "**（16）**$y=e^x+\\int^x_0y(t)\\mathrm d t.$"
   ]
  },
  {
   "cell_type": "markdown",
   "metadata": {},
   "source": [
    "**(4)**\n",
    "\n",
    "**解：**\n",
    "\n",
    "方程可化为：$\\frac{\\mathrm d y}{\\mathrm d x}=\\frac{n}{x}y+e^xx^n\\cdots①$\n",
    "\n",
    "首先，求齐次线性微分方程的通解：$$\\frac{\\mathrm d y}{\\mathrm d x}=\\frac{n}{x}y$$\n",
    "\n",
    "即$$\\frac{\\mathrm d y}{y}=\\frac{n}{x}\\mathrm d x$$得到齐次线性微分方程的通解：$$y=cx^n$$\n",
    "\n",
    "其次，运用常数变易法求非齐次线性微分方程的通解。为此，把上式中的c看成x的特定函数才c(x),即\n",
    "\n",
    "$$y=c(x)x^n$$微分之，得到$$\\frac{\\mathrm d y}{\\mathrm d x}=\\frac{\\mathrm d c(x)}{\\mathrm d x}+nx^{n-1}c(x)\\cdots②$$\n",
    "\n",
    "易知①=②，则$$\\frac{\\mathrm d c(x)}{\\mathrm d x}=e^x$$,可得到$$c(x)=e^x+c^\\sim$$\n",
    "\n",
    "原方程的解为$$y=x^n(e^x+c^\\sim)$$\n",
    "\n",
    "\n"
   ]
  },
  {
   "cell_type": "markdown",
   "metadata": {},
   "source": [
    "# <font color='red'>特解？？"
   ]
  },
  {
   "cell_type": "markdown",
   "metadata": {},
   "source": [
    "**(15)**\n",
    "\n",
    "**解：**\n",
    "\n",
    "将方程改写成$$\\frac{\\mathrm d x}{\\mathrm d y}=xy+x^3y^3$$\n",
    "\n",
    "方程两边同除$x^3$,方程可化为$$\\frac{1}{x^3}\\frac{\\mathrm d y}{\\mathrm d x}=\\frac{y}{x^2}+y^3$$\n",
    "\n",
    "令$z=x^{-2}$,则$$\\frac{\\mathrm d z}{\\mathrm d y}=-2zy-2y^3\\cdots①$$\n",
    "\n",
    "先求齐次线性微分方程的通解$$\\frac{\\mathrm d z}{\\mathrm d y}=-2zy$$\n",
    "\n",
    "即$$\\frac{\\mathrm d z}{z}=-2y\\mathrm d y$$\n",
    "\n",
    "得到$$z=ce^{-y^2}$$\n",
    "\n",
    "将c看成y的待定函数c(y),则$$\\frac{\\mathrm d z}{\\mathrm d y}=\\frac{\\mathrm d c(y)}{\\mathrm d y}e^{-y^2}+e^{-y^2}(-2y)c(y)\\cdots②$$\n",
    "\n",
    "易知①=②，得到$$c(y)=-\\int 2y^3e^{y^2}\\mathrm d y=e^{y^2}(1-y^2)+c^\\sim$$\n",
    "\n",
    "$$x^{-2}=z=c(y)e^{-y^2}=e^{-y^2}[e^{y^2}(1-y^2)+c^\\sim]$$\n",
    "\n",
    "即原方程的解为$$e^{y^2}(x^2-y^2-1)=cx^2$$"
   ]
  },
  {
   "cell_type": "markdown",
   "metadata": {},
   "source": [
    "**(16)**\n",
    "\n",
    "**解：**\n",
    "\n",
    "方程可化为 $$\\frac{\\mathrm d y}{\\mathrm d x}=e^x+y(x)$$\n",
    "\n",
    "即 $$\\frac{\\mathrm d y}{\\mathrm d x}=y+e^x$$\n",
    "\n",
    "将 $P(x)=1,Q(x)=e^x$\n",
    "\n",
    "代入公式 $$y=e^{\\int P(x)\\mathrm d x}(\\int Q(x)e^{\\int P(x)\\mathrm d x}\\mathrm d x+c)$$ \n",
    "\n",
    "得 $$y=e^{\\int 1\\mathrm d x}(\\int e^xe^{-\\int 1\\mathrm d x}\\mathrm d x+c)$$\n",
    "\n",
    "$$y=e^x(\\int e^xe^{-x}\\mathrm d x+c)$$\n",
    "\n",
    "$$y=e^x(x+c)$$\n",
    "\n",
    "即原方程的解为 $$y=e^x(x+c)$$\n",
    "\n",
    "\n",
    "\n"
   ]
  },
  {
   "cell_type": "markdown",
   "metadata": {},
   "source": [
    "**7.求解下列方程：**\n",
    "\n",
    "**（3）**$y'\\sin x\\cos x-y-\\sin ^3 x=0$"
   ]
  },
  {
   "cell_type": "markdown",
   "metadata": {},
   "source": [
    "**解：**\n",
    "\n",
    "将方程左边的 $\\sin x \\cos x$ 除过去，方程可化为 $$\\frac{\\mathrm d y}{\\mathrm d x}=\\frac{y}{\\sin x \\cos x }+\\frac{\\sin^2 x}{\\cos x}\\cdots①$$\n",
    "\n",
    "先求方程的通解 $$\\frac{\\mathrm d y}{\\mathrm d x}=\\frac{y}{\\sin x \\cos x }$$\n",
    "\n",
    "可得 $$y=c\\frac{\\sin x}{\\cos x}$$\n",
    "\n",
    "将c看成x的待定函数c(x),则 $$y=c(x)\\frac{\\sin x}{\\cos x}$$\n",
    "\n",
    "即 $$\\frac{\\mathrm d y}{\\mathrm d x}=\\frac{\\mathrm d c(x)}{\\mathrm d x}\\frac{\\sin x}{\\cos x}+\\frac{1}{\\cos^2 x}c(x)\\cdots②$$\n",
    "\n",
    "易知①=②，则 $$\\frac{\\mathrm d c(x)}{\\mathrm d x}=\\sin x$$\n",
    "\n",
    "$$c(x)=-\\cos x+c^\\sim$$\n",
    "\n",
    "即 $$y=\\frac{\\sin x}{\\cos x}(c^\\sim-\\cos x)$$\n",
    "\n",
    "原方程的解为 $$y=c^\\sim\\tan x-\\sin x$$"
   ]
  },
  {
   "cell_type": "markdown",
   "metadata": {},
   "source": [
    "# <font color='red'>特解？？"
   ]
  },
  {
   "cell_type": "markdown",
   "metadata": {},
   "source": [
    "**证明：对 $\\int_{x_0}^x f(t)\\mathrm d t$ 这种形式的函数变上限积分。即\n",
    "$$(\\int_{x_0}^x f(t)\\mathrm d t)'=f(x)$$ **\n",
    "\n"
   ]
  },
  {
   "cell_type": "markdown",
   "metadata": {},
   "source": [
    "**证：**\n",
    "\n",
    "令 $F(x)=\\int_{x_0}^x f(t)\\mathrm d t$ ,知 $F(x)$ 在整个 $[x_0,x]$ 上有定义\n",
    "\n",
    "$$F(x+\\bigtriangleup x)-F(x)=\\int_{x_0}^{x+\\bigtriangleup x} f(t)\\mathrm d t-\\int_{x_0}^{x} f(t)\\mathrm d t=\\int_{x}^{x+\\bigtriangleup x} f(t)\\mathrm d t$$\n",
    "\n",
    "记 $m,M$ 分别为 $f(x)$ 在 $[x_0,x]$ 上的上、下确界，由积分中值定理，既得到\n",
    "\n",
    "$$F(x+\\bigtriangleup x)-F(x)=\\begin{cases}\\eta \\bigtriangleup x &\\quad 若f(x)在[x_0,x]可积\\\\ f(\\xi) \\bigtriangleup x  &\\quad 若f(x)在[x_0,x]上连续 \\end{cases}$$\n",
    "\n",
    "其中 $\\eta \\in [m,M],\\xi在x与x+\\bigtriangleup x之间$\n",
    "\n",
    "当 $\\bigtriangleup x$ 趋向于0时都有 $F(x+\\bigtriangleup x)-F(x)$ 趋向于0,即 $F(x)$ 在 $[x_0,x]$ 连续\n",
    "\n",
    "\n",
    "若f(x)在 $[x_0,x]$ 连续，当 $\\bigtriangleup x$ 趋向于0时有 $\\xi$ 趋向于 x,因而 $f(\\xi)趋向于f(x)$,于是\n",
    "\n",
    "$$F^\\prime(x)=\\lim_{\\bigtriangleup x \\to 0} \\frac{F(x+\\bigtriangleup x)-F(x)}{\\bigtriangleup x}=\\lim_{\\bigtriangleup x \\to 0} f(\\xi)=f(x)$$"
   ]
  },
  {
   "cell_type": "markdown",
   "metadata": {},
   "source": [
    "**2016.9.14 周三**"
   ]
  },
  {
   "cell_type": "markdown",
   "metadata": {},
   "source": [
    "**1.验证下列方程是恰当微分方程，并求出方程的解：**\n",
    "\n",
    "**（1）**$(x^2+y)\\mathrm d x+(x-2y)\\mathrm d y=0$\n",
    "\n",
    "**（2）**$(y-3x^2)\\mathrm d x-(4y-x)\\mathrm d y=0$"
   ]
  },
  {
   "cell_type": "markdown",
   "metadata": {},
   "source": [
    "**(1)**\n",
    "\n",
    "**解：**\n",
    "\n",
    "这里 $M=x^2+y,N=x-2y$ ,这时\n",
    "\n",
    "$$\\frac{\\partial M}{\\partial y}=1=\\frac{\\partial N}{\\partial x}$$\n",
    "\n",
    "即原方程为恰当微分方程\n",
    "\n",
    "已知 $$u(x,y)=\\int_{x_0}^x M(x,y)\\mathrm d x+\\int_{y_0}^y N(x_0,y)\\mathrm d y=c$$\n",
    "\n",
    "取 $x_0=0,y_0=0$ ,则方程可化为\n",
    "\n",
    "$$\\int_0^x (x^2+y)\\mathrm d x+\\int_0^y -2y\\mathrm d y=\\frac{1}{3}x^3+xy-y^2=\\tilde{c}$$\n",
    "\n",
    "化简后得 $$x^3+3xy-3y^2=c$$\n",
    "\n",
    "即原方程的解为 $$x^3+3xy-3y^2=c$$"
   ]
  },
  {
   "cell_type": "markdown",
   "metadata": {},
   "source": [
    "**(2)**\n",
    "\n",
    "**解：**\n",
    "\n",
    "这里 $$M=y-3x^2,N=x-4y$ ,这时\n",
    "\n",
    "$$\\frac{\\partial M}{\\partial y}=1=\\frac{\\partial N}{\\partial x}$$\n",
    "\n",
    "即原方程为恰当微分方程\n",
    "\n",
    "原方程可化为\n",
    "\n",
    "$$\n",
    "\\begin{aligned}\n",
    "-3x^2\\mathrm d x-4y\\mathrm d y+(y\\mathrm d x+x\\mathrm d y) &=0\\\\\n",
    "\\mathrm d(-x^3)+\\mathrm d(-2y^2)+\\mathrm d(xy) &=0\\\\\n",
    "\\mathrm d(-x^2-2y^2+xy) &=0\\\\\n",
    "-x^3-2y^2+xy &=\\tilde{c}\n",
    "\\end{aligned}\n",
    "$$\n",
    "\n",
    "即方程的解为 $$x^3+2y^2-xy=c$$\n",
    "\n",
    "\n"
   ]
  },
  {
   "cell_type": "markdown",
   "metadata": {
    "collapsed": true
   },
   "source": [
    "# <font color='red'>A  19/9 "
   ]
  },
  {
   "cell_type": "code",
   "execution_count": null,
   "metadata": {
    "collapsed": true
   },
   "outputs": [],
   "source": []
  }
 ],
 "metadata": {
  "kernelspec": {
   "display_name": "SageMath 7.3",
   "language": "",
   "name": "sagemath"
  },
  "language_info": {
   "codemirror_mode": {
    "name": "ipython",
    "version": 2
   },
   "file_extension": ".py",
   "mimetype": "text/x-python",
   "name": "python",
   "nbconvert_exporter": "python",
   "pygments_lexer": "ipython2",
   "version": "2.7.10"
  }
 },
 "nbformat": 4,
 "nbformat_minor": 0
}
