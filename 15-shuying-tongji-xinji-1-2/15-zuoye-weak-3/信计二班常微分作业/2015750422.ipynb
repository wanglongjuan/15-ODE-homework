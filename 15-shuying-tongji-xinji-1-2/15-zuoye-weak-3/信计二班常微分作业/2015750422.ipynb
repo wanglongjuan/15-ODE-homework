{
 "cells": [
  {
   "cell_type": "markdown",
   "metadata": {},
   "source": [
    "求下列方程的解："
   ]
  },
  {
   "cell_type": "markdown",
   "metadata": {},
   "source": [
    "1.$$\\frac{dy}{dx}-\\frac{n}{x}y+e^xx^n$$\n",
    "$$先求齐次微分方程\\frac{dy}{dx}-\\frac{n}{x}y=0,$$\n",
    "$$化为\\frac{dy}{y}=\\frac{n}{x}dx,$$\n",
    "$$解得：y=cx^n$$\n",
    "$$将c看作是x的待定函数，即：$$\n",
    "$$y=c(x)x^n$$\n",
    "$$微分得：\\frac{dy}{dx}=\\frac{dc(x)}{dx}x^n+nx^{n-1}c(x)$$\n",
    "$$代入原方程得：\\frac{dc(x)}{dx}=e^x,$$\n",
    "$$得：c(x)=e^x+c,$$\n",
    "$$所以：原方程的解为：y=(e^x+c)+x^n$$"
   ]
  },
  {
   "cell_type": "markdown",
   "metadata": {},
   "source": [
    "# <font color='red'>结果错误？"
   ]
  },
  {
   "cell_type": "markdown",
   "metadata": {},
   "source": [
    "$$2.\\frac{dy}{dx}=\\frac{1}{xy+x^3y^3}$$\n",
    "$$将方程化为\\frac{dx}{dy}=xy+x^3y^3$$\n",
    "$$令z=x^{-2},$$\n",
    "$$有\\frac{dz}{dy}=-2x^3\\frac{dx}{dy}成立，$$\n",
    "$$\\frac{dz}{dy}=2x^{-3}(xy+x^3y^3)=-2zy-2y^3,$$\n",
    "$$先求齐次方程\\frac{dz}{dy}=-2zy,$$\n",
    "$$得到z=ce^{-y^2}$$\n",
    "$$将c看作是y的待定函数，有$$\n",
    "$$z=c(y)e^{-y^2}$$\n",
    "$$微分求得：\\frac{dc(y)}{dy}=\\frac{-2y^3}{e^{-y^2}}$$\n",
    "$$最后求得原方程的解为：x^2(ce^{-y^2}-y^2+1)=1$$\n",
    "   "
   ]
  },
  {
   "cell_type": "markdown",
   "metadata": {},
   "source": [
    "3.$$y=e^x+\\int_0^xy(t)dt$$\n",
    "$$对等式两边求导得：y'=e^x+y,$$\n",
    "$$解得y=e^x(x+c)$$\n",
    "$$因为当x=0时，y=1，所以c=1，$$\n",
    "$$所以原方程的解为y=e^x(x+1)$$"
   ]
  },
  {
   "cell_type": "markdown",
   "metadata": {},
   "source": [
    "4.$$y'sinxcosx-y-sin^3x=0$$\n",
    "$$化为线性方程y'=\\frac{y}{sinxcosx}+\\frac{sin^2x}{cosx}$$\n",
    "$$利用积分公式解得：$$\n",
    "$$y=e^{\\int\\frac{dx}{sinxcosx}}(\\int\\frac{sin^2x}{cosxtanx}dx+c)=tanx(-cosx+c)$$\n",
    "$$=ctanx-sinx(x!=k\\pi+\\frac{\\pi}{2})$$\n",
    "$$另外点（x,y)=(k\\pi+\\frac{\\pi}{2},(-1)^{k+1})也是解，其中k=0,|1|,|2|,…….$$"
   ]
  },
  {
   "cell_type": "markdown",
   "metadata": {},
   "source": [
    "5.验证下列方程是恰当微分方程，并求出方程的解："
   ]
  },
  {
   "cell_type": "markdown",
   "metadata": {},
   "source": [
    "(1).$$(x^2+y)dx+(x-2y)dy=0$$\n",
    "$$令M=x^2+y,N=x-2y,$$\n",
    "$$\\frac{\\partial M}{\\partial y}=1$$\n",
    "$$\\frac{\\partial N}{\\partial x}=1$$\n",
    "$$所以\\frac{\\partial M}{\\partial y}=\\frac{\\partial N}{\\partial x}=1$$\n",
    "$$所以方程为恰当微分方程，$$\n",
    "$$现在求u，使得u同时满足如下两个方程：$$\n",
    "$$\\frac{\\partial u}{\\partial x}=x^2+y$$\n",
    "$$\\frac{\\partial u}{\\partial y}=x-2y$$\n",
    "$$由\\frac{\\partial u}{\\partial x}=x^2+y对x积分得，$$\n",
    "$$u=\\frac{1}{3}x^2+xy+z(y),$$\n",
    "$$将方程u=\\frac{1}{3}x^2+xy+z(y)对y求导得，$$\n",
    "$$\\frac{\\partial u}{\\partial y}=x+\\frac{dz(y)}{dy}=x-2y,$$\n",
    "$$得：z(y)=-y^2,$$\n",
    "$$所以：方程的通解为：\\frac{1}{3}x^3+xy-y^2=c$$"
   ]
  },
  {
   "cell_type": "markdown",
   "metadata": {},
   "source": [
    "(2),$$(y-3x^2)dx-(4y-x)dy=0$$\n",
    "$$令M=(y-3x^2),N=-(4y-x),$$\n",
    "$$\\frac{\\partial M}{\\partial y}=1$$\n",
    "$$\\frac{\\partial N}{\\partial x}=1$$\n",
    "$$所以\\frac{\\partial M}{\\partial y}=\\frac{\\partial N}{\\partial x}=1$$\n",
    "$$所以方程为恰当微分方程，$$\n",
    "$$现在求u，使得u同时满足如下两个方程：$$\n",
    "$$\\frac{\\partial u}{\\partial x}=(y-3x^2)$$\n",
    "$$\\frac{\\partial N}{\\partial x}=-(4y-x)$$\n",
    "$$由\\frac{\\partial u}{\\partial x}=(y-3x^2)对x积分得：$$\n",
    "$$u=xy-x^3+z(y),$$\n",
    "$$将方程u=xy-x^3+z(y)对y求导得：$$\n",
    "$$\\frac{\\partial u}{\\partial y}=x+\\frac{dz(y)}{dy}=x-4y,$$\n",
    "$$得：z(y)=-2y^2,$$\n",
    "$$所以:方程的通解为：xy-x^3-2y^2=c$$"
   ]
  },
  {
   "cell_type": "markdown",
   "metadata": {},
   "source": [
    "6.求函数$$\\int_{x0}^xp(t)dt$$的导数\n",
    "$$令P（x）=\\int_{x0}^xp(t)dt,$$\n",
    "$$P'(x)=p(x)$$"
   ]
  },
  {
   "cell_type": "markdown",
   "metadata": {
    "collapsed": true
   },
   "source": [
    "# <font color='red'>A  19/9 "
   ]
  },
  {
   "cell_type": "code",
   "execution_count": null,
   "metadata": {
    "collapsed": true
   },
   "outputs": [],
   "source": []
  }
 ],
 "metadata": {
  "kernelspec": {
   "display_name": "SageMath 7.3",
   "language": "",
   "name": "sagemath"
  },
  "language_info": {
   "codemirror_mode": {
    "name": "ipython",
    "version": 2
   },
   "file_extension": ".py",
   "mimetype": "text/x-python",
   "name": "python",
   "nbconvert_exporter": "python",
   "pygments_lexer": "ipython2",
   "version": "2.7.10"
  }
 },
 "nbformat": 4,
 "nbformat_minor": 0
}
