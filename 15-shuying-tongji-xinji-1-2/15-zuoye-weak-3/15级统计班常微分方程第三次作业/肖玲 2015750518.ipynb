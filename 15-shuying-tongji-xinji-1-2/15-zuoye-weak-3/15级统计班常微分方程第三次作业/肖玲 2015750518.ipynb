{
 "cells": [
  {
   "cell_type": "markdown",
   "metadata": {
    "collapsed": true
   },
   "source": [
    "P50  7.（3）\n",
    "\n",
    "将方程化为$\\frac{\\mathrm d y}{\\mathrm d x}=\\frac{1}{sinxcosx}y+\\frac{(sinx)^2}{cosx}$ $(sinx\\neq0,cosx\\neq0)$\n",
    "\n",
    "通解为$y=e^{\\int{\\frac{\\mathrm d x}{sinxcosx}}}(\\int{\\frac{(sinx)^2}{cosx}}e^{-\\int{\\mathrm{1}{sinxcosx}\\mathrm d x}}\\mathrm d x+c)$\n",
    "\n",
    "即$y=tanx(\\int{\\frac{(sinx)^2}{cosx}}cotx\\mathrm d x+c)$\n",
    "\n",
    "积分得$y=tanx(c-cosx))$\n",
    "\n",
    "即$y=ctanx-sinx$\n",
    "\n",
    "当$sin=0$时 $y=0$\n",
    "\n",
    "当$cosx=0$时 $y=\\pm1$\n",
    "\n",
    "即曲线退化为$（2k\\pi+\\frac{\\pi}{2},-1）$ 和 $(2k\\pi-\\frac{\\pi}{2},1),k=0,\\pm1,\\pm2,….$\n",
    "\n",
    "解得$y=ctanx-sinx,(x\\neq k\\pi \\pm \\frac{\\pi}{2})$ c为任意常数\n",
    "\n",
    "或者点$(2k\\pi+\\frac{\\pi}{2},-1),(2k\\pi-frac{\\pi}{2},1),k=0,\\pm1,\\pm2,….$\n"
   ]
  },
  {
   "cell_type": "markdown",
   "metadata": {},
   "source": [
    "P60  1.（1）\n",
    "\n",
    "因为$M=y-3x^2,N=x-4y$,且$\\frac{\\partial M}{\\partial y}=1,\\frac{\\partial N}{\\partial x}=1$,因此方程是恰当微方程。\n",
    "\n",
    "化简可得$(y\\mathrm d x+x\\mathrm d y)-3x^2\\mathrm d x-4y\\mathrm d y=0$\n",
    "\n",
    "即$\\mathrm d (xy-x^2-2y^2)=0$\n",
    "\n",
    "所以，通解为$xy-x^3-2y^2=c$,其中c为任意常数。\n"
   ]
  },
  {
   "cell_type": "markdown",
   "metadata": {},
   "source": [
    "P60  1.（2）\n",
    "\n",
    "因为$M=y-3x^2,N=x-4y$,且$\\frac{\\partial M}{\\partial y}=1,\\frac{\\partial N}{\\partial x}=1$,因此方程是恰当微方程。 \n",
    "\n",
    "化简可得$(y\\mathrm d x+x\\mathrm d y)-3x^2\\mathrm d x-4y\\mathrm d y=0$\n",
    "\n",
    "即$\\mathrm d (xy-x^2-2y^2)=0$\n",
    "\n",
    "所以，通解为$xy-x^3-2y^2=c$,其中c为任意常数。\n"
   ]
  },
  {
   "cell_type": "markdown",
   "metadata": {},
   "source": [
    "课后习题\n",
    "\n",
    "求$\\int_{x_0} ^xP(t)\\mathrm d t$的原函数\n",
    "\n",
    "因为$\\int_{x_0} ^xP(t)\\mathrm d t$\n",
    "\n",
    "根据牛顿莱布尼茨公式设$f(t){\\prime}=P(t)$\n",
    "\n",
    "所以原函数为$f(x){\\prime}-f(x_0){\\prime}+c=0$"
   ]
  },
  {
   "cell_type": "markdown",
   "metadata": {},
   "source": [
    "p49 1.(4)\n",
    "\n",
    "\n",
    "原方程可化为：$\\frac{dy}{dx}=\\frac{x}{n}y+e^xx^n$\n",
    "\n",
    "$y=e^{\\int \\frac{n}{x}dx}(\\int e^xx^ne^{-\\int \\frac{n}{x}dx}dx+c)=x^n(e^x+c)$"
   ]
  },
  {
   "cell_type": "markdown",
   "metadata": {},
   "source": [
    "p49 1.(15)\n",
    "\n",
    "\n",
    "因为$\\frac{dy}{dx}= \\frac{1}{xy+x^3y^3}$\n",
    "\n",
    "所以$\\frac{dx}{dy}= xy+x^3y^3$\n",
    "\n",
    "n=3时的伯努利方程\n",
    "\n",
    "$\\frac{dx}{x^3dy}= \\frac{y}{x^2}+y^3$\n",
    "\n",
    "令$x^{-2}=z$\n",
    "\n",
    "有$\\frac{dz}{dy}= -2x^{-3}\\frac{dx}{dy}$\n",
    "\n",
    "$\\frac{dz}{dy}=\\frac{-2y}{x^2}-2y^3=-2yz-2y^3$\n",
    "\n",
    "$P(y)=-2y$    $Q(y)=-2y^3$\n",
    "\n",
    "有一阶线性方程组的求解公式有：\n",
    "\n",
    "$z=e^{\\int-2ydy}(\\int-2y^3e^{-\\int-2dy}dy+c)=e^{-y^2}(-\\int2y^3e^{y^2}dy+c)=-y^2+1+ce^{-y^2}$\n",
    "\n",
    "即$x^2(-y^2+1+ce^{-y^2})=1$\n",
    "\n",
    "所以$x^2e^{y^2}(-y^2+1+ce^{-y^2})=e^{y^2}$\n",
    "\n",
    "所以$e^{y^2}(1-x^2+x^2y^2)=cx^2$\n"
   ]
  },
  {
   "cell_type": "markdown",
   "metadata": {},
   "source": [
    "p49 1.(16)\n",
    "因为$\\frac{dy}{dx}=e^2+y(x)$\n",
    "\n",
    "$\\frac{dy}{dx}=y+e^x$\n",
    "\n",
    "$P(x)=1$    $Q(x)=e^x$\n",
    "\n",
    "所以由一阶线性方程的求解公式：\n",
    "\n",
    "$y=e^{\\int1dx}(\\int e^xe^{-\\int1dx }dx+c)=e^x(\\int e^xe^{-x}dx+c)=e^x(x+c)$\n",
    "\n",
    "$e^x（x+c）=e^x+\\int_{0}^{x}e^x(x+c)dx$\n",
    "\n",
    "$c=1$        \n",
    "\n",
    "$y=e^x(x+c)$"
   ]
  },
  {
   "cell_type": "markdown",
   "metadata": {},
   "source": [
    "# <font color='red'>A  19/9 上 一题特解？？"
   ]
  },
  {
   "cell_type": "code",
   "execution_count": null,
   "metadata": {
    "collapsed": true
   },
   "outputs": [],
   "source": []
  }
 ],
 "metadata": {
  "kernelspec": {
   "display_name": "SageMath 7.3",
   "language": "",
   "name": "sagemath"
  },
  "language_info": {
   "codemirror_mode": {
    "name": "ipython",
    "version": 2
   },
   "file_extension": ".py",
   "mimetype": "text/x-python",
   "name": "python",
   "nbconvert_exporter": "python",
   "pygments_lexer": "ipython2",
   "version": "2.7.10"
  }
 },
 "nbformat": 4,
 "nbformat_minor": 0
}
