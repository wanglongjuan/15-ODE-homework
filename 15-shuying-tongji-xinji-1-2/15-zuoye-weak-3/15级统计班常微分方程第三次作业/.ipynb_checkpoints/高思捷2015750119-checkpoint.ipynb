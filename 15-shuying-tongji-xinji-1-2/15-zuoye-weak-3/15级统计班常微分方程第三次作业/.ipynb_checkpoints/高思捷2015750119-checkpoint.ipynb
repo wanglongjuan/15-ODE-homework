{
 "cells": [
  {
   "cell_type": "markdown",
   "metadata": {},
   "source": [
    "# $$常微分作业2$$ "
   ]
  },
  {
   "cell_type": "markdown",
   "metadata": {},
   "source": [
    "## 班级：统计\n",
    "## 姓名：高思捷\n",
    "## 学号：2015750119"
   ]
  },
  {
   "cell_type": "markdown",
   "metadata": {},
   "source": [
    "## 一、求下列方程的解\n",
    "\n",
    "$1.\\frac{dy}{dx}-\\frac{n}{x}y=e^xx^n$(n为常数)\n",
    "\n",
    "$2.\\frac{dy}{dx}=\\frac{1}{xy+x^3y^3}$\n",
    "\n",
    "$3.y=e^x+\\int_0^xy(t)\\mathrm dt $\n",
    "\n",
    "## 解:\n",
    "\n",
    "1.\n",
    "\n",
    "$首先，对\\frac{dy}{dx}-\\frac{n}{x}y=0求通解：$\n",
    "\n",
    "$\\frac{dy}{dx}-\\frac{n}{x}y=0$\n",
    "\n",
    "$\\frac{dy}{y}=\\frac{n}{x}dx$\n",
    "\n",
    "对两边同时积分，得$ln|y|=nln|x|+c^\\prime$\n",
    "\n",
    "即$|y|=e^{c^\\prime}|x|^n$\n",
    "\n",
    "则取$c=±e^{c^\\prime}$\n",
    "\n",
    "$y=cx^n$\n",
    "\n",
    "将c看做x的待定函数c(x)，有$y=c(x)x^n$\n",
    "\n",
    "微分，得$\\frac{dy}{dx}=\\frac{dc(x)}{dx}x^n+nc(x)x^{n-1}$\n",
    "\n",
    "则$\\frac{dc(x)}{dx}=e^x$\n",
    "\n",
    "$c(x)=e^x+C$(C为任意常数）\n",
    "\n",
    "得通解$y=x^n(e^x+C)$\n",
    "\n",
    "2.\n",
    "\n",
    "将原方程改写为$\\frac{dx}{dy}=xy+x^3y^3$\n",
    "\n",
    "两边同时除以$x^3,\\frac{1}{x^3}\\frac{dx}{dy}=\\frac{1}{x^2}y+y^3$\n",
    "\n",
    "取$z=x^{-2},\\frac{dz}{dy}=-2x^{-3}\\frac{dx}{dy}=-2x^{-3}(xy+x^3y^3)=-2yz-2y^3$\n",
    "\n",
    "取$P(y)=-2y,Q(y)=-2y^3,\\frac{dz}{dy}=P(y)z+Q(y)$\n",
    "\n",
    "由公式知$z=e^{\\int-2y\\mathrm dy}(\\int-2y^3e^{-\\int-2y\\mathrm dy}\\mathrm dy+c)=-y^2+1+ce^{-y^2}=x^{-2}$\n",
    "\n",
    "化简得$(1-x^2+x^2y^2)e^{y^2}=cx^2$\n",
    "\n",
    "3.\n",
    "\n",
    "由题，$\\frac{dy}{dx}=e^x+y(x)$\n",
    "\n",
    "$\\frac{dy}{dx}=e^x+y$\n",
    "\n",
    "取$P(x)=1,Q(x)=e^x$,$\\frac{dy}{dx}=P(x)y+Q(x)$\n",
    "\n",
    "即$y=e^{\\int1\\mathrm dx}(\\int e^xe^{-\\int1\\mathrm dx}+c)=e^x(x+c)=e^x+\\int_0^xe^x(x+c)\\mathrm dx$\n",
    "\n",
    "c=1\n",
    "\n",
    "$y=(1+x)e^x$\n"
   ]
  },
  {
   "cell_type": "markdown",
   "metadata": {},
   "source": [
    "## 二、求解方程 $y^\\prime sinxcosx-y-sinx^3=0$\n",
    "\n",
    "## 解：\n",
    "\n",
    "由题，$\\frac{dy}{dx}=\\frac{y}{sinxcosx}+\\frac{sinx^2}{cosx}$\n",
    "\n",
    "取$P(x)=\\frac{1}{sinxcosx},Q(x)=\\frac{sinx^2}{cosx},\\frac{dy}{dx}=P(x)y+Q(x)$\n",
    "\n",
    "则$y=e^{\\int\\frac{1}{sinxcosx}\\mathrm dx}(\\int\\frac{sinx^2}{cosx}e^{-\\int\\frac{1}{sinxcosx}\\mathrm dx}\\mathrm dx+c)$\n",
    "\n",
    "化简，得$y=ctanx-sinx(x≠kπ+\\frac{1}{2}π)$\n"
   ]
  },
  {
   "cell_type": "markdown",
   "metadata": {},
   "source": [
    "# <font color='red'>特解？？"
   ]
  },
  {
   "cell_type": "markdown",
   "metadata": {
    "collapsed": true
   },
   "source": [
    "## 三、验证下列方程是恰当微分方程，并求出方程的解\n",
    "\n",
    "$1.(x^2+y)dx+(x-2y)dy=0$\n",
    "\n",
    "$2.(y-3x^2)dx-(4y-x)dy=0$\n"
   ]
  },
  {
   "cell_type": "markdown",
   "metadata": {},
   "source": [
    "## 解：\n",
    "\n",
    "1.\n",
    "\n",
    "$M=x^2+y,N=x-2y$\n",
    "\n",
    "$\\frac{\\partial M}{\\partial y}=1,\\frac{\\partial N}{\\partial x}=1$\n",
    "\n",
    "$\\frac{\\partial M}{\\partial y}=\\frac{\\partial N}{\\partial x}$所以方程是恰当微分方程\n",
    "\n",
    "由原式得$x^2dx-2ydy+(ydx+xdy)=0$\n",
    "\n",
    "即$\\frac{1}{3}x^3+xy-y^2=c$\n",
    "\n",
    "2.\n",
    "\n",
    "$M=y-3x^2,N=4x-y$\n",
    "\n",
    "$\\frac{\\partial M}{\\partial y}=1,\\frac{\\partial N}{\\partial x}=1$\n",
    "\n",
    "$\\frac{\\partial M}{\\partial y}=\\frac{\\partial N}{\\partial x}$所以方程是恰当微分方程\n",
    "\n",
    "由原式得$ydx+xdy-3x^2dx-4ydy=0$\n",
    "\n",
    "即$x^3-xy+2y^2=c$\n"
   ]
  },
  {
   "cell_type": "markdown",
   "metadata": {
    "collapsed": true
   },
   "source": [
    "# 四、附加题\n",
    "$对P(t)=\\int_{x_0}^x \\mathrm p(t)\\,\\mathrm{d}t求导$"
   ]
  },
  {
   "cell_type": "markdown",
   "metadata": {},
   "source": [
    "# 解：\n",
    "\n",
    "由区间可加性得：$P(x+△x)-P(x)=\\int_{x_0}^{x+△x}p(t)\\mathrm dt-\\int_{x_0}^xp(t)\\mathrm dt=\\int_x^{x+△x}p(t)\\mathrm dt$"
   ]
  },
  {
   "cell_type": "markdown",
   "metadata": {},
   "source": [
    "由积分第一中值定理得：$P(x+△x)-P(x)=η△x或P(ξ)△x$"
   ]
  },
  {
   "cell_type": "markdown",
   "metadata": {},
   "source": [
    "即当$△x→0,有P(x+△x)-P(x)→0$\n",
    "\n",
    "即$P(x)在(x_0,x)上连续$\n",
    "\n",
    "若$P(x)在(x_0,x)上连续,当△x→0,ξ→x,有P(ξ)→P(x)$\n",
    "\n",
    "所以$P^\\prime(x)=lim\\frac{P(x+△x)-P(x)}{△x}=limP(ξ)=P(x)$"
   ]
  },
  {
   "cell_type": "markdown",
   "metadata": {
    "collapsed": true
   },
   "source": [
    "# <font color='red'>A  19/9 "
   ]
  },
  {
   "cell_type": "code",
   "execution_count": null,
   "metadata": {
    "collapsed": true
   },
   "outputs": [],
   "source": []
  }
 ],
 "metadata": {
  "kernelspec": {
   "display_name": "SageMath 7.3",
   "language": "",
   "name": "sagemath"
  },
  "language_info": {
   "codemirror_mode": {
    "name": "ipython",
    "version": 2
   },
   "file_extension": ".py",
   "mimetype": "text/x-python",
   "name": "python",
   "nbconvert_exporter": "python",
   "pygments_lexer": "ipython2",
   "version": "2.7.10"
  }
 },
 "nbformat": 4,
 "nbformat_minor": 0
}
