{
 "cells": [
  {
   "cell_type": "markdown",
   "metadata": {},
   "source": [
    "# 第二次作业\n",
    "# 龙嵛葭\n",
    "# 15统计\n",
    "# 2015750112"
   ]
  },
  {
   "cell_type": "markdown",
   "metadata": {},
   "source": [
    "# 一. 对$P(t)=\\int_{x_0}^x \\mathrm p(t)\\,\\mathrm{d}t$求导.\n",
    "\n",
    "$P(x+△x)-P(x)=\\int_{x_0}^{x+△x} \\mathrm p(t)\\,\\mathrm{d}t-\\int_{x_0}^x \\mathrm p(t)\\,\\mathrm{d}t=\\int_x^{x+△x} \\mathrm p(t)\\,\\mathrm{d}t$\n",
    "\n",
    "$由积分第一中值定理有P(x+△x)-P(x)=η△x或P(ξ)△x$\n",
    "\n",
    "$而当△x→0时都有P(x+△x)-P(x)→0，即P(x)在（x_0,x)上连续。$\n",
    "\n",
    "若P(x)在（x_0,x)上连续\n",
    "\n",
    "当△x→0时有ξ→x P(ξ)→P(x)\n",
    "\n",
    "$P'(x)=lim\\frac{P(x+△x)-P(x)}{△x}=limP(ξ)=P(x).$"
   ]
  },
  {
   "cell_type": "markdown",
   "metadata": {},
   "source": [
    "# 二.求下列方程解\n",
    "$1.  \\frac{\\mathrm d y}{\\mathrm d x}-\\frac{n}{x}y=e^xx^n(n为常数）$\n",
    "\n",
    "令P(x)=\\frac{n}{x}\n",
    "\n",
    "且$Q(x)=e^xx^n$\n",
    "\n",
    "$\n",
    "\\begin{aligned}\n",
    "则y&=e^{\\int\\frac{n}{x}\\mathrm d x}(\\int{e^xx^nx^{-n}}\\mathrm d x+c)\\\\&=x^n(\\int{e^xx^nx^{-n}}\\mathrm d x+c)\\\\&=(e^x+c)x^n\n",
    "\\end{aligned}\n",
    "（c为任意常数）$\n",
    "\n",
    "\n",
    "\n",
    "$2.  \\frac{\\mathrm d y}{\\mathrm d x}=\\frac{1}{xy+x^3y^3}$\n",
    "\n",
    "$因为\\frac{1}{x^3}\\frac{\\mathrm d x}{\\mathrm d y}=\\frac{y}{x^2}+y^3$\n",
    "\n",
    "则不妨让$z=\\frac{1}{x^2}$\n",
    "\n",
    "$\n",
    "所以\\begin{aligned}\n",
    "\\frac{\\mathrm d z}{\\mathrm dy}&=-2\\frac{1}{x^3}\\frac{\\mathrm d x}{\\mathrm d y}\\\\&=-\\frac{2y}{x^2}-2y^3\\\\&=-2yz-2y^3\n",
    "\\end{aligned}\n",
    "$\n",
    "\n",
    "令$P(y)=-2y,Q(y)=-2y^3$\n",
    "\n",
    "$代入后原式为\n",
    "\\begin{aligned}\n",
    "\\\\&=e^{-y^2}(e^{y^2}(1-y^2)+c)\\\\&=1-y^2+ce^{-y^2}\n",
    "\\end{aligned}$\n",
    "\n",
    "$又z=\\frac{1}{x^2}$\n",
    "\n",
    "$则cx^2=e^{y^2}(1-x^2+x^2y^2)$\n",
    "\n",
    "\n",
    "$3.  y=e^x+\\int_0^xy(t)\\mathrm d t$\n",
    "\n",
    "$有\\frac{\\mathrm d y}{\\mathrm d x}=e^x+y$\n",
    "\n",
    "$令P(x)=1,Q(x)=e^x$\n",
    "\n",
    "$则y=e^{\\int1\\mathrm d x}(\\int{e^xe^{-\\int1\\mathrm d x}}\\mathrm d x+c)=e^x（x+c）$\n",
    "\n",
    "$而e^x（x+c）=e^x+\\int_0^xe^x(x+c)\\mathrm d x，解得：c=1$\n",
    "\n",
    "$得y=e^x(x+1)$"
   ]
  },
  {
   "cell_type": "markdown",
   "metadata": {},
   "source": [
    "# 三.求方程\n",
    "\n",
    "$y^\\prime\\sin x\\cos x-y-\\sin^3 x=0$\n",
    "\n",
    "$因为\\frac{\\mathrm d y}{\\mathrm d x}=\\frac{1}{\\sin x\\cos x}y+\\frac{\\sin^2 x}{\\cos x}（\\sin x≠0,\\cos x≠o）$\n",
    "\n",
    "$令P(x)=\\frac{1}{\\sin x\\cos x},Q(x)=\\frac{\\sin^2 x}{\\cos x}$\n",
    "\n",
    "$y=e^{\\int\\frac{\\mathrm d x}{\\sin x\\cos x}}  (\\int{e^{\\frac{\\sin^2 x}{\\cos x}}e^{-\\int\\frac{\\mathrm d x}{\\sin x\\cos x} \\mathrm d x}}+c)$\n",
    "\n",
    "$y=\\tan x(-\\cos x+c)=c\\tan x-\\sin x$\n",
    "\n",
    "$sin x=o时            有y=0$\n",
    "\n",
    "$cos x=0时            y=-\\sin^3 x=±1，即曲线变成点（2k\\pi+\\frac{\\pi}{2},-1）和（2k\\pi-\\frac{\\pi}{2},1),k=0,±1,±2,...$\n",
    "\n",
    "$则y=\\tan x(-\\cos x+c)=c\\tan x-\\sin x(x≠k\\pi±\\frac{\\pi}{2}或者点（k\\pi+\\frac{\\pi}{2},(-1)^{k+1}),k=0,±1,±2,...$\n"
   ]
  },
  {
   "cell_type": "markdown",
   "metadata": {},
   "source": [
    "# 四.验证下列方程是恰当微分方程，并求解\n",
    "$1.(x^2+y)*d x+(x-2y)*d y=0$\n",
    "\n",
    "$解：由\\frac{\\partial M}{\\partial y}=1,\\frac{\\partial N}{\\partial x}=1=\\frac{\\partial M}{\\partial y}可知，原方程是恰当微分方程$\n",
    "\n",
    "$方程重新分项组合后（y*d x+x*d y)+x^2*d x-2y*d y=0\n",
    "$ 两边同乘以3$\n",
    "\n",
    "$有3d(xy)+d(x^3)+3d(-y^2)=0\n",
    "$d (3xy+x^3-3y^2)=0$\n",
    "\n",
    "$所以xy+3x^3-3y^2=c$\n",
    "\n",
    "\n",
    "$2.（y-3x^2)*d x-(4y-x)*d y=0$\n",
    "\n",
    "$由\\frac{\\partial M}{\\partial y}=1，\\frac{\\partial N}{\\partial x}=1=\\frac{\\partial M}{\\partial y}可知，原方程是恰当微分方程$\n",
    "\n",
    "$方程重新分项组合后（y*d x+x*d y)-3x^2*d x-4y*d y=0\n",
    "$两边同乘以-1$\n",
    "\n",
    "$有d(x^3)+2d(y^2)-d(xy)=0$\n",
    "$d (x^3-xy+3y^2)=0$\n",
    "\n",
    "所以$x^3-xy+2y^2=c$"
   ]
  },
  {
   "cell_type": "markdown",
   "metadata": {
    "collapsed": true
   },
   "source": [
    "# <font color='red'>A  19/9 "
   ]
  },
  {
   "cell_type": "code",
   "execution_count": null,
   "metadata": {
    "collapsed": true
   },
   "outputs": [],
   "source": []
  }
 ],
 "metadata": {
  "kernelspec": {
   "display_name": "SageMath 7.3",
   "language": "",
   "name": "sagemath"
  },
  "language_info": {
   "codemirror_mode": {
    "name": "ipython",
    "version": 2
   },
   "file_extension": ".py",
   "mimetype": "text/x-python",
   "name": "python",
   "nbconvert_exporter": "python",
   "pygments_lexer": "ipython2",
   "version": "2.7.10"
  }
 },
 "nbformat": 4,
 "nbformat_minor": 0
}
