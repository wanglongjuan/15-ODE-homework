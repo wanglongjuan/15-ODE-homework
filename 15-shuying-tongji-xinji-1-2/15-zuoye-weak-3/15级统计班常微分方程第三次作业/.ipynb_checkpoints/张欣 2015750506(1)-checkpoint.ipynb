{
 "cells": [
  {
   "cell_type": "markdown",
   "metadata": {},
   "source": [
    "# 常微分方程作业-第一周"
   ]
  },
  {
   "cell_type": "markdown",
   "metadata": {},
   "source": [
    "##   P48\n",
    "\n",
    "### 1.求下列方程的解："
   ]
  },
  {
   "cell_type": "markdown",
   "metadata": {},
   "source": [
    "**(4)**$\\frac{dy}{dx}-\\frac{n}{x}y=e^xx^n(n为常数）；$"
   ]
  },
  {
   "cell_type": "markdown",
   "metadata": {},
   "source": [
    "解：移项，得$\\frac{dy}{dx}=\\frac{n}{x}y+e^xx^n;$\n",
    "\n",
    "求齐次线性微分方程$\\frac{dy}{dx}-\\frac{n}{x}y=0$的通解；\n",
    "\n",
    "分离变量，有：$\\frac{dy}{y}=\\frac{n}{x}dx$\n",
    "\n",
    "两边求积分，得：$ln|y|=nln|x|+c;$\n",
    "\n",
    "化简，得通解为$y=cx^n.$\n",
    "\n",
    "其次用常数变易法求非齐次线性方程的通解，将c看成为x的待定函数c（x),即：$y=c(x)x^n.$\n",
    "\n",
    "两边对x求导，得：$\\frac{dy}{dx}=\\frac{dc(x)}{dx}x^n+c(x)nx^（n-1);$\n",
    "\n",
    "综上，得：$\\frac{dc(x)}{dx}x^n+c(x)nx^(n-1)=\\frac{n}{x}c(x)x^n+e^xx^n;$\n",
    "\n",
    "化简，得:$\\frac{dc(x)}{dx}=e^x;$\n",
    "\n",
    "两边积分，得$c（x）=e^x+c_1.$\n",
    "\n",
    "将$c（x）=e^x+c_1代入y=c(x)x^n$，即得原方程的通解：\n",
    "\n",
    "$y=（e^x+c_1）x^n.（其中c_1为任意常数）.$"
   ]
  },
  {
   "cell_type": "markdown",
   "metadata": {},
   "source": [
    "**(15)**$\\frac{dy}{dx}=\\frac{1}{xy+x^3y^3};$"
   ]
  },
  {
   "cell_type": "markdown",
   "metadata": {},
   "source": [
    "解：由题可知原方程不是y关于x的线性微分方程，将x看作y的函数，变为$\\frac{dx}{dy}=\\frac{xy+x^3y^3}{1};$\n",
    "\n",
    "这是一个x关于y,$\\frac{dx}{dy}$的伯努利微分方程,利用变量变换将它化为线性微分方程:\n",
    "\n",
    "y不等于0时，两边同时乘以$\\frac{1}{x^3}$，得到:$\\frac{1}{x^3}\\frac{dx}{dy}=\\frac{1}{x^2}y+y^3,$\n",
    "\n",
    "引入变量变换$z=\\frac{1}{x^2}$,两边求导有:$\\frac{dz}{dy}=-2\\frac{1}{x^3}\\frac{dx}{dy};$\n",
    "\n",
    "综上;$\\frac{dz}{dy}=-2yz-2y^3.$\n",
    "\n",
    "这是一个z关于y、$\\frac{dz}{dy}$的线性微分方程.\n",
    "\n",
    "利用线性微分的求解方法，先求$\\frac{dz}{dy}+2yz=0 $的通解，得:$z=e^{c-y^2}.$\n",
    "\n",
    "令$c=c（y），即z=e^{c（y)-y^2},$\n",
    "\n",
    "经微分，得:$\\frac{dz}{dy}=e^[c（y)-y^2][\\frac{dc(y)}{dy}-2y];$\n",
    "\n",
    "综上，得原方程的解为：$（1-x^2+x^2y^2)e^ye^y=cx^2.(其中c为任意常数).$"
   ]
  },
  {
   "cell_type": "markdown",
   "metadata": {},
   "source": [
    "**(16)**$y=e^x+\\int_0^x\\mathrm y\\,\\mathrm{d}t.$"
   ]
  },
  {
   "cell_type": "markdown",
   "metadata": {},
   "source": [
    "解：两边关于x求导，得：$\\frac{dy}{dx}=e^x+y.$\n",
    "\n",
    "先求其次线性微分方程$\\frac{dy}{dx}-y=0$,得;$y=ce^x.$\n",
    "\n",
    "令$c=c(x)$，代入上式，两边求导：$\\frac{dy}{dx}=c(x)e^x+\\frac{dc(x)}{dx}e^x,$\n",
    "\n",
    "综合以上，有:$\\frac{dc(x)}{dx}=1$\n",
    "\n",
    "求出$c(x)=x+c_1$\n",
    "\n",
    "所以$y=e^x(x+c_1).$\n",
    "\n",
    "当x=0时，原方程为y=1，此时$c_1=1$.所以原方程的解为:$y=e^x(x+1).$\n"
   ]
  },
  {
   "cell_type": "markdown",
   "metadata": {},
   "source": [
    "\n",
    "##   P50\n",
    "\n",
    "### 7.求解下列方程："
   ]
  },
  {
   "cell_type": "markdown",
   "metadata": {},
   "source": [
    "**(3)**$y'\\sin x\\cos x-y-\\sin^3 x=0.$"
   ]
  },
  {
   "cell_type": "markdown",
   "metadata": {},
   "source": [
    "解：化简，移项，得：$\\frac{dy}{dx}=\\frac{1}{\\sin x\\cos x}y+\\frac{\\sin^2 x}{\\cos x}$\n",
    "\n",
    "先求其次线性微分方程$\\frac{dy}{dx}-\\frac{1}{\\sin x\\cos x}y=0$的通解：$y=c\\tan x.$\n",
    "\n",
    "应用常数变易法求非齐次线性微分方程的通解：$y=c(x)\\tan x$\n",
    "\n",
    "两边求导，有：$\\frac{dy}{dx}=\\frac{dc(x)}{dx}\\tan x+c(x)\\sec^2 xc(x)$\n",
    "\n",
    "联立以上方程有$\\frac{1}{\\sin x\\cos x}c(x)\\tan x+\\frac{\\sin^2 x}{\\cos x}=\\frac{dc(x)}{dx}\\tan x+c(x)\\sec^2 xc(x)$\n",
    "\n",
    "化简，得：$\\frac{dc(x)}{dx}=\\sin x$\n",
    "\n",
    "两边求积分，有：$c(x)=-\\cos x$\n",
    "\n",
    "所以原方程的解为：$y=c\\tan x-\\sin x$\n",
    "\n",
    "当$\\sin x=0$时，原方程为$y=0.$\n",
    "\n",
    "当$\\cos x=0$时，原方程化为$y=±1$，曲线退化成$（2kπ+π/2,-1)和（2kπ-π/2,1)，k=0，±1，±2.....$\n",
    "\n",
    "综上所述，原方程的解为:$y=c\\tan x-\\sin x,(x≠kπ±π/2$),c为任意常数，或者点$（2kπ+π/2,-1)，（2kπ-π/2,1)，k=0，±1，±2.....$"
   ]
  },
  {
   "cell_type": "markdown",
   "metadata": {},
   "source": [
    "##   P60\n",
    "\n",
    "### 1.验证下列方程是恰当微分方程，并求出方程的解："
   ]
  },
  {
   "cell_type": "markdown",
   "metadata": {},
   "source": [
    "**(1)**$(x^2+y)dx+（x-2y)dy=0;$"
   ]
  },
  {
   "cell_type": "markdown",
   "metadata": {},
   "source": [
    "解：$M=x^2+y, N=x-2y$\n",
    "\n",
    "因为$\\frac{∂M}{∂y}=1,\\frac{∂N}{∂x}=1.$\n",
    "\n",
    "$\\frac{∂M}{∂y}=\\frac{∂N}{∂x}$\n",
    "\n",
    "所以方程是恰当微分方程.\n",
    "\n",
    "把方程重新“分项组合”，得到：$x^2dx-2ydy+(ydx+xdy)=0$，$d(\\frac{x^3}{3}+xy-y^2)=0$\n",
    "\n",
    "所以方程的通解为：$\\frac{x^3}{3}+xy-y^2=c (其中c为任意常数）$"
   ]
  },
  {
   "cell_type": "markdown",
   "metadata": {},
   "source": [
    "**(2)**$(y-3x^2)dx-(4y-x)dy=0;$"
   ]
  },
  {
   "cell_type": "markdown",
   "metadata": {},
   "source": [
    "解:$M=y-3x^2 N=x-4y$\n",
    "\n",
    "因为$\\frac{∂M}{∂y}=1,\\frac{∂N}{∂x}=1.$\n",
    "\n",
    "$\\frac{∂M}{∂y}=\\frac{∂N}{∂x}$\n",
    "\n",
    "所以方程是恰当微分方程.\n",
    "\n",
    "把方程重新“分项组合”，得到：$(xdy+ydx)-3x^2dx-4ydy=0$，$d(xy-x^3-2y^2)=0$\n",
    "\n",
    "所以方程的通解为：$xy-x^3-2y^2=c (其中c为任意常数）$"
   ]
  },
  {
   "cell_type": "markdown",
   "metadata": {},
   "source": [
    "##   附加题"
   ]
  },
  {
   "cell_type": "markdown",
   "metadata": {},
   "source": [
    "对$P(t)=\\int_{x_0}^x \\mathrm p(t)\\,\\mathrm{d}t$求导."
   ]
  },
  {
   "cell_type": "markdown",
   "metadata": {},
   "source": [
    "解：由区间的可加性，有：$P(x+△x)-P(x)=\\int_{x_0}^{x+△x} \\mathrm p(t)\\,\\mathrm{d}t-\\int_{x_0}^x \\mathrm p(t)\\,\\mathrm{d}t=\\int_x^{x+△x} \\mathrm p(t)\\,\\mathrm{d}t$\n",
    "\n",
    "由积分第一中值定理，有：$P(x+△x)-P(x)=η△x或P(ξ)△x$\n",
    "\n",
    "不管在哪种情况下，当$△x→0$时都有$P(x+△x)-P(x)→0$，即$P(x)$在$（x_0,x)$上连续。\n",
    "\n",
    "若$P(x)$在$（x_0,x)$上连续，当$△x→0$时有$ξ→x$,因而$P(ξ)-P(x)$，于是;\n",
    "\n",
    "$P'(x)=lim\\frac{P(x+△x)-P(x)}{△x}=limP(ξ)=P(x).$"
   ]
  },
  {
   "cell_type": "markdown",
   "metadata": {
    "collapsed": true
   },
   "source": [
    "# <font color='red'>A  19/9 "
   ]
  },
  {
   "cell_type": "code",
   "execution_count": null,
   "metadata": {
    "collapsed": true
   },
   "outputs": [],
   "source": []
  }
 ],
 "metadata": {
  "kernelspec": {
   "display_name": "SageMath 7.3",
   "language": "",
   "name": "sagemath"
  },
  "language_info": {
   "codemirror_mode": {
    "name": "ipython",
    "version": 2
   },
   "file_extension": ".py",
   "mimetype": "text/x-python",
   "name": "python",
   "nbconvert_exporter": "python",
   "pygments_lexer": "ipython2",
   "version": "2.7.10"
  }
 },
 "nbformat": 4,
 "nbformat_minor": 0
}
