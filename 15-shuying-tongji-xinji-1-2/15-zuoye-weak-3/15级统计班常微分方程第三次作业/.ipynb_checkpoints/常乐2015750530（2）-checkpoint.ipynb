{
 "cells": [
  {
   "cell_type": "markdown",
   "metadata": {},
   "source": [
    "$第二次常微分方程作业——常乐2015750530$\n",
    "\n",
    "$P48页$\n",
    "\n",
    "$1.求下列方程的解。$\n",
    "\n",
    "$（4）\\frac{dy}{dx}-\\frac{n}{x}y=ex^xn$\n",
    "\n",
    "$（15）\\frac{dy}{dx}=\\frac{1}{xy+x^3y^3}$\n",
    "\n",
    "$（16）y=e^x+\\int_0^x\\mathrm y（t），$\n",
    "\n",
    "$解：（4）先求齐次方程\\frac{dy}{dx}-\\frac{n}{x}y=0的通解$\n",
    "\n",
    "$所以得\\frac{dy}{y}=n\\frac{dx}{x}$\n",
    "\n",
    "$两边积分，得到y=cx^n$\n",
    "\n",
    "$设所求方程的通解为y=c（x）x^n$\n",
    "\n",
    "$求导后代入原方程\\frac{dy}{dx}=\\frac{d（c（x））}{dx}x^n=e^xx^n$\n",
    "\n",
    "$c（x）=e^x+c_1$\n",
    "\n",
    "$原方程的通解为y=e^xx^n+c_1x^n（其中c_1为任意常数）$\n",
    "\n",
    "$（15）将原方程改写为y\\frac{dy}{dx}=\\frac{1}{x+x^3y^2}$\n",
    "\n",
    "$令u=y^2，则\\frac{du}{dx}=\\frac{2}{x+x^3u}$\n",
    "\n",
    "$将u视为自变量，x视为因变量，则\\frac{dx}{du}=\\frac{x}{2}+\\frac{u}{2}x^3$\n",
    "\n",
    "$两边同乘{x}^{-3}，得{x}^{-3}\\frac{dx}{du}=\\frac{{x}^{-2}}{2}+\\frac{u}{2}$\n",
    "\n",
    "$令z={x}^{-3}.则\\frac{dz}{du}=-z-u$\n",
    "\n",
    "$代回原变量，则原方程的解为（1-x^2+x^2y^2）{e}^{y^2}=cx^2（其中c为任意常数）$\n",
    "\n",
    "$（16）对方程y=e^x+\\int_0^x\\mathrm y（t），\\mathrm{dt}两边关于x求导，得到\\frac{dy}{dx}=e^x+y$\n",
    "\n",
    "$先求齐次方程\\frac{dy}{dx}-y=0的通解$\n",
    "\n",
    "$\\frac{dy}{y}=dx$\n",
    "\n",
    "$y=e^xc$\n",
    "\n",
    "$设所求方程的通解为y=c（x）e^x$\n",
    "\n",
    "$求导后代入原方程\\frac{dy}{dx}=e^x\\frac{d（c（x））}{dx}=e^x$\n",
    "\n",
    "$c（x）=x+c_1$\n",
    "\n",
    "$所以原方程的解为y=e^x（x+c_1)(其中c1为任意常数）$\n",
    "\n"
   ]
  },
  {
   "cell_type": "markdown",
   "metadata": {},
   "source": [
    "# <font color='red'>特解？？"
   ]
  },
  {
   "cell_type": "markdown",
   "metadata": {},
   "source": [
    "$P50页$\n",
    "\n",
    "$7.求下列方程的解$\n",
    "\n",
    "$(3)y’sinxcosx-y-sin^3x=0$\n",
    "\n",
    "$解：\\frac{dy}{dx}=\\frac{1}{sinxcosx}y+\\frac{\\sin^2x}{cosx}(sinx≠0，\\cos≠0)$\n",
    "\n",
    "$y=tanx(c-cosx),y=ctanx-sinx$\n",
    "\n",
    "$当sinx=0,y=0$\n",
    "\n",
    "$当cosx=0,y=±1, 所以曲线为无数个点 (2kπ+\\frac{π}{2}{-1}和{2kπ-\\frac{π}{2}[1},k=0,±1,±2……$\n",
    "\n",
    "$所以原方程解为y=ctanx-sinx(x≠kπ+\\frac{π}{2}(c为任意常数)，或者点(2kπ+\\frac{π}{2}，-1）和（2kπ-\\frac{π}{2},1），k=0,±1,±2……$\n"
   ]
  },
  {
   "cell_type": "markdown",
   "metadata": {},
   "source": [
    "$P60$\n",
    " \n",
    "$1.验证下列方程是恰当微分方程，并求出方程的解。$\n",
    "\n",
    "$（1）（x^2+y）dx+（x-2y）dy=0$\n",
    "\n",
    "$（2）（y-3x^2）dx-（4y-x）dy=0$\n",
    "\n",
    "$解：（1）M=x^2+y，N=x-2y$\n",
    "\n",
    "$\\frac{\\partial M}{\\partial y}=1,\\frac{\\partial N}{\\partial x}=1$\n",
    "\n",
    "$所以此方程为恰当微分方程$\n",
    "\n",
    "$将方程的每一项拆开合并得x^2dx+ydx+（xdy-2ydy）=0$\n",
    "\n",
    "$得到方程的解为\\frac{1}{3}x^3+xy-y^2=C$\n",
    "\n",
    "$（2）M=y-3x^2,N=x-4y$\n",
    "\n",
    "$\\frac{\\partial M}{\\partial y}=1,\\frac{\\partial N}{\\partial x}=1$\n",
    "\n",
    "$所以此方程为恰当微分方程$\n",
    "\n",
    "$将每一项拆分再合并有：ydx-3x^2dx-4ydy+xdy=0$\n",
    "\n",
    "$原方程的解为x^3-xy+2y^2=c（c为任意常数）$\n"
   ]
  },
  {
   "cell_type": "markdown",
   "metadata": {
    "collapsed": true
   },
   "source": [
    "$补：对F（x）=\\int_{x_0}^{x}\\mathrm f(t)\\,\\mathrm{dt}求导。$\n",
    "\n",
    "$由定积分的区间可加性，得F(x+Δx)-F(x)=\\int_a^{x+Δx}{f(t)}dt-\\int_a^x{f(t)}dt=\\int_x^(x+Δx){f(t)}dt$\n",
    "\n",
    "$当Δx趋于0时，F'（x）=\\lim{\\frac｛F（x+Δx)-F(x)}{Δx}=f(x)$"
   ]
  },
  {
   "cell_type": "markdown",
   "metadata": {
    "collapsed": true
   },
   "source": [
    "# <font color='red'>A  19/9 "
   ]
  },
  {
   "cell_type": "code",
   "execution_count": null,
   "metadata": {
    "collapsed": true
   },
   "outputs": [],
   "source": []
  }
 ],
 "metadata": {
  "kernelspec": {
   "display_name": "SageMath 7.3",
   "language": "",
   "name": "sagemath"
  },
  "language_info": {
   "codemirror_mode": {
    "name": "ipython",
    "version": 2
   },
   "file_extension": ".py",
   "mimetype": "text/x-python",
   "name": "python",
   "nbconvert_exporter": "python",
   "pygments_lexer": "ipython2",
   "version": "2.7.10"
  }
 },
 "nbformat": 4,
 "nbformat_minor": 0
}
