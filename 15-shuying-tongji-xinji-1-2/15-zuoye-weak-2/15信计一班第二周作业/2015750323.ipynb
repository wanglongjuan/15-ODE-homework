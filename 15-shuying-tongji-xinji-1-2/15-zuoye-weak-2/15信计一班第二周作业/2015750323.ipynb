{
 "cells": [
  {
   "cell_type": "markdown",
   "metadata": {
    "collapsed": true
   },
   "source": [
    "p27.3.(7)      \n",
    "$y=x^2+1, dy/dx=2x$"
   ]
  },
  {
   "cell_type": "markdown",
   "metadata": {
    "collapsed": false
   },
   "source": [
    "$dy/dx=y^2-(x^2+1)y+2x=2x=（x^2+1)^2-(x^2+1)(x^2+1)+2x$"
   ]
  },
  {
   "cell_type": "markdown",
   "metadata": {
    "collapsed": false
   },
   "source": [
    "$y=x^2+1是他的一个解$\n",
    "\n",
    "(8)      \n",
    "$y=-g(x)/f(x) dy/dx=g(x)f'(x)/f^2(x)-g'(x)/f(x)$\n",
    "$f’(x)/g(x)*y^2-g’(x)/f(x)=g(x)f’(x)/f^2(x)-g’(x)/f(x)=dy/dx$\n",
    "$所以y=-g(x)/f(x)$\n",
    "\n",
    "\n",
    "4.\n",
    "(1)\n",
    "$dy=2xdx$\n",
    "$y=x^2+c$\n",
    "\n",
    "(2)\n",
    "$y=x^2$"
   ]
  },
  {
   "cell_type": "code",
   "execution_count": 1,
   "metadata": {
    "collapsed": false
   },
   "outputs": [
    {
     "ename": "NameError",
     "evalue": "name 'var' is not defined",
     "output_type": "error",
     "traceback": [
      "\u001b[1;31m---------------------------------------------------------------------------\u001b[0m",
      "\u001b[1;31mNameError\u001b[0m                                 Traceback (most recent call last)",
      "\u001b[1;32m<ipython-input-1-bbf37c9dde17>\u001b[0m in \u001b[0;36m<module>\u001b[1;34m()\u001b[0m\n\u001b[1;32m----> 1\u001b[1;33m \u001b[0mvar\u001b[0m\u001b[1;33m(\u001b[0m\u001b[1;34m'x y'\u001b[0m\u001b[1;33m)\u001b[0m\u001b[1;33m\u001b[0m\u001b[0m\n\u001b[0m\u001b[0;32m      2\u001b[0m \u001b[0my\u001b[0m\u001b[1;33m=\u001b[0m\u001b[0mx\u001b[0m\u001b[1;33m^\u001b[0m\u001b[1;36m2\u001b[0m\u001b[1;33m+\u001b[0m\u001b[1;36m4\u001b[0m\u001b[1;33m\u001b[0m\u001b[0m\n\u001b[0;32m      3\u001b[0m \u001b[0mplot\u001b[0m\u001b[1;33m(\u001b[0m\u001b[0my\u001b[0m\u001b[1;33m,\u001b[0m\u001b[1;33m(\u001b[0m\u001b[0mx\u001b[0m\u001b[1;33m,\u001b[0m\u001b[1;33m-\u001b[0m\u001b[1;36m1\u001b[0m\u001b[1;33m,\u001b[0m\u001b[1;36m1\u001b[0m\u001b[1;33m)\u001b[0m\u001b[1;33m)\u001b[0m\u001b[1;33m\u001b[0m\u001b[0m\n",
      "\u001b[1;31mNameError\u001b[0m: name 'var' is not defined"
     ]
    }
   ],
   "source": [
    "var('x y')\n",
    "y=x^2+4\n",
    "plot(y,(x,-1,1))"
   ]
  },
  {
   "cell_type": "markdown",
   "metadata": {
    "collapsed": false
   },
   "source": [
    "p42.1.（6）\n",
    "$原方程化为xdy-ydx+sqrtx^2-y^2dx$\n",
    "$同时除以sqrtx^2-y^2得到xdy-ydx/sqrtx^2-y^2=0$\n",
    "$积分得到arcsiny/x+lnx=c$\n",
    "$当x^2=y^2时也是方程的解$\n",
    "$原方程解为y^2=x^2 arcsiny/x+lnc$\n"
   ]
  },
  {
   "cell_type": "code",
   "execution_count": null,
   "metadata": {
    "collapsed": true
   },
   "outputs": [],
   "source": []
  },
  {
   "cell_type": "markdown",
   "metadata": {
    "collapsed": false
   },
   "source": [
    "(7)\n",
    "$cotydy=tanxdx$\n",
    "$两边同时积分lnsiny=-lncosx+c$\n",
    "$得到有sinycosx=c$\n",
    "$所以原方程解为sinycosx=c$\n",
    "\n"
   ]
  },
  {
   "cell_type": "markdown",
   "metadata": {
    "collapsed": false
   },
   "source": [
    "2（6）\n",
    "$令u=y^3方程化为du/dx=3u^2-6x^2/2ux+x^2$\n",
    "$再另v=u/x方程化为xdv/dx+v=3v^2-6/2v+1$\n",
    "$所以有（v-7)^7(v+2)^3=c*x^15$\n",
    "$所以原方程解围(y^3-3x)^7(y^3+2x)^3=c*x^15$\n",
    "\n"
   ]
  },
  {
   "cell_type": "markdown",
   "metadata": {
    "collapsed": true
   },
   "source": [
    "2(7)\n",
    "$令u=x^2-1 v=y^2+1 方程化为dv/du=2u+3v/3u+2v$\n",
    "$令w=v/u 有udw/du=2-2w^2/3+2w$\n",
    "$化简得到4/u*du=(5/1-w+1/1+w)dw$\n",
    "$带回得到u^4(1-w)^5=c(1+w)$\n",
    "$所以原方程解为(x^2-y^2-2)=c(x^2+y^2)$\n"
   ]
  },
  {
   "cell_type": "markdown",
   "metadata": {},
   "source": []
  },
  {
   "cell_type": "markdown",
   "metadata": {
    "collapsed": true
   },
   "source": [
    "# <font color='red'>B 12/9\n"
   ]
  },
  {
   "cell_type": "code",
   "execution_count": null,
   "metadata": {
    "collapsed": true
   },
   "outputs": [],
   "source": []
  },
  {
   "cell_type": "code",
   "execution_count": null,
   "metadata": {
    "collapsed": true
   },
   "outputs": [],
   "source": []
  }
 ],
 "metadata": {
  "kernelspec": {
   "display_name": "Python 2",
   "language": "python",
   "name": "python2"
  },
  "language_info": {
   "codemirror_mode": {
    "name": "ipython",
    "version": 2
   },
   "file_extension": ".py",
   "mimetype": "text/x-python",
   "name": "python",
   "nbconvert_exporter": "python",
   "pygments_lexer": "ipython2",
   "version": "2.7.10"
  }
 },
 "nbformat": 4,
 "nbformat_minor": 0
}
