{
 "cells": [
  {
   "cell_type": "markdown",
   "metadata": {},
   "source": [
    "# 13、验证下列各函数是相应微分方程的解"
   ]
  },
  {
   "cell_type": "markdown",
   "metadata": {},
   "source": [
    "## (7)$ y=x^2+1,y'=y^2-(x^2+1)y+2x $"
   ]
  },
  {
   "cell_type": "markdown",
   "metadata": {
    "collapsed": true
   },
   "source": [
    "因为 $y=x^2+1$且$y'=2*x$\n",
    "\n",
    "所以$y^2-(x^2+1)y+2x=y^2-y*y+2x=2x=y'$\n",
    "\n",
    "即证"
   ]
  },
  {
   "cell_type": "markdown",
   "metadata": {},
   "source": [
    "## （8）$y=\\frac{-g(x)}{f(x)},y'=\\frac{f'(x)}{g(x)}y^2-\\frac{g'(x)}{f(x)}$"
   ]
  },
  {
   "cell_type": "markdown",
   "metadata": {},
   "source": [
    "$右边=\\frac{f'(x)}{g(x)}\\frac{(-g(x))}{(f(x))^2}^2-\\frac{g'(x)}{f(x)}=\\frac{f'(x)g(x)}{f^2(x)}-\\frac{g'(x)f(x)}{(f(x))^2}=\\frac{f'(x)g(x)-g'(x)f(x)}{f^2(x)}=左边$"
   ]
  },
  {
   "cell_type": "markdown",
   "metadata": {},
   "source": [
    "#  4、给定一阶微分方程$\\frac{\\mathrm d y}{\\mathrm d x}=2x$"
   ]
  },
  {
   "cell_type": "markdown",
   "metadata": {},
   "source": [
    "## (1) 求出它的通解"
   ]
  },
  {
   "cell_type": "code",
   "execution_count": 2,
   "metadata": {
    "collapsed": false
   },
   "outputs": [
    {
     "data": {
      "text/html": [
       "<html><script type=\"math/tex; mode=display\">\\newcommand{\\Bold}[1]{\\mathbf{#1}}x^{2}</script></html>"
      ],
      "text/plain": [
       "x^2"
      ]
     },
     "metadata": {},
     "output_type": "display_data"
    },
    {
     "data": {
      "text/html": [
       "<html><script type=\"math/tex; mode=display\">\\newcommand{\\Bold}[1]{\\mathbf{#1}}y</script></html>"
      ],
      "text/plain": [
       "y"
      ]
     },
     "metadata": {},
     "output_type": "display_data"
    },
    {
     "data": {
      "text/html": [
       "<html><script type=\"math/tex; mode=display\">\\newcommand{\\Bold}[1]{\\mathbf{#1}}y = x^{2} + c</script></html>"
      ],
      "text/plain": [
       "y == x^2 + c"
      ]
     },
     "metadata": {},
     "output_type": "display_data"
    }
   ],
   "source": [
    "var('x y c')\n",
    "f=2*x\n",
    "g=1\n",
    "F=integral(f,x)\n",
    "G=integral(1/g,y)\n",
    "show(F)\n",
    "show(G)\n",
    "s=G==F+c\n",
    "show(s)"
   ]
  },
  {
   "cell_type": "markdown",
   "metadata": {},
   "source": [
    "## (2) 求通过点$(1,4)$的特解"
   ]
  },
  {
   "cell_type": "code",
   "execution_count": 110,
   "metadata": {
    "collapsed": false
   },
   "outputs": [
    {
     "data": {
      "text/html": [
       "<html><script type=\"math/tex; mode=display\">\\newcommand{\\Bold}[1]{\\mathbf{#1}}x^{2}</script></html>"
      ],
      "text/plain": [
       "x^2"
      ]
     },
     "metadata": {},
     "output_type": "display_data"
    },
    {
     "data": {
      "text/html": [
       "<html><script type=\"math/tex; mode=display\">\\newcommand{\\Bold}[1]{\\mathbf{#1}}y</script></html>"
      ],
      "text/plain": [
       "y"
      ]
     },
     "metadata": {},
     "output_type": "display_data"
    },
    {
     "data": {
      "text/html": [
       "<html><script type=\"math/tex; mode=display\">\\newcommand{\\Bold}[1]{\\mathbf{#1}}y = x^{2} + c</script></html>"
      ],
      "text/plain": [
       "y == x^2 + c"
      ]
     },
     "metadata": {},
     "output_type": "display_data"
    },
    {
     "data": {
      "text/html": [
       "<html><script type=\"math/tex; mode=display\">\\newcommand{\\Bold}[1]{\\mathbf{#1}}4 = c + 1</script></html>"
      ],
      "text/plain": [
       "4 == c + 1"
      ]
     },
     "metadata": {},
     "output_type": "display_data"
    },
    {
     "data": {
      "text/html": [
       "<html><script type=\"math/tex; mode=display\">\\newcommand{\\Bold}[1]{\\mathbf{#1}}y = x^{2} + 3</script></html>"
      ],
      "text/plain": [
       "y == x^2 + 3"
      ]
     },
     "metadata": {},
     "output_type": "display_data"
    }
   ],
   "source": [
    "var('x y c')\n",
    "f=2*x\n",
    "g=1\n",
    "F=integral(f,x)\n",
    "G=integral(1/g,y)\n",
    "show(F)\n",
    "show(G)\n",
    "s=G==F+c\n",
    "show(s)\n",
    "s=s.subs(y==4,x==1)\n",
    "show(s)\n",
    "s=y==x^2+c\n",
    "s=s.subs(c=3)\n",
    "show(s)"
   ]
  },
  {
   "cell_type": "markdown",
   "metadata": {},
   "source": [
    "## (3) 求出与直线$y=2x+3$相切的解"
   ]
  },
  {
   "cell_type": "markdown",
   "metadata": {},
   "source": [
    "由于$y=2x+3$的斜率为$2$\n",
    "\n",
    "所以带入微分方程$2x=2$解得切点的横坐标为$x=1$\n",
    "\n",
    "带入$y=2x+3$解得$y=5$\n",
    "\n",
    "将$x=1,y=5$ 带入$y=x^2+c$解得$c=4$\n",
    "\n",
    "所以解为$y=x^2+4$"
   ]
  },
  {
   "cell_type": "markdown",
   "metadata": {},
   "source": [
    "## (4) 求出满足条件的解"
   ]
  },
  {
   "cell_type": "code",
   "execution_count": 108,
   "metadata": {
    "collapsed": false,
    "scrolled": false
   },
   "outputs": [
    {
     "data": {
      "text/html": [
       "<html><script type=\"math/tex; mode=display\">\\newcommand{\\Bold}[1]{\\mathbf{#1}}c + \\frac{1}{3} = 2</script></html>"
      ],
      "text/plain": [
       "c + 1/3 == 2"
      ]
     },
     "metadata": {},
     "output_type": "display_data"
    },
    {
     "data": {
      "text/html": [
       "<html><script type=\"math/tex; mode=display\">\\newcommand{\\Bold}[1]{\\mathbf{#1}}y = x^{2} + \\frac{5}{3}</script></html>"
      ],
      "text/plain": [
       "y == x^2 + 5/3"
      ]
     },
     "metadata": {},
     "output_type": "display_data"
    }
   ],
   "source": [
    "var('x y c')\n",
    "s=y==x^2+c\n",
    "y=x^2+c\n",
    "f=integral(y,(x,0,1))==2\n",
    "show(f)\n",
    "s=s.subs(c==5/3)\n",
    "show(s)"
   ]
  },
  {
   "cell_type": "markdown",
   "metadata": {},
   "source": [
    "## (5) 绘出(2),(3),(4)中的解的图形"
   ]
  },
  {
   "cell_type": "markdown",
   "metadata": {},
   "source": [
    "### 1、$y=x^2+3$"
   ]
  },
  {
   "cell_type": "code",
   "execution_count": 109,
   "metadata": {
    "collapsed": false
   },
   "outputs": [
    {
     "data": {
      "image/png": "[encoded data removed]",
      "text/plain": [
       "Graphics object consisting of 1 graphics primitive"
      ]
     },
     "execution_count": 109,
     "metadata": {},
     "output_type": "execute_result"
    }
   ],
   "source": [
    "var('x')\n",
    "y=x^2+3\n",
    "plot(y,x)"
   ]
  },
  {
   "cell_type": "markdown",
   "metadata": {},
   "source": [
    "### 2、$y=x^2+4$"
   ]
  },
  {
   "cell_type": "code",
   "execution_count": 87,
   "metadata": {
    "collapsed": false
   },
   "outputs": [
    {
     "data": {
      "image/png": "[encoded data removed]",
      "text/plain": [
       "Graphics object consisting of 1 graphics primitive"
      ]
     },
     "execution_count": 87,
     "metadata": {},
     "output_type": "execute_result"
    }
   ],
   "source": [
    "var('x')\n",
    "y=x^2+4\n",
    "plot(y,x)"
   ]
  },
  {
   "cell_type": "markdown",
   "metadata": {},
   "source": [
    "### 3、$y=x^2+5/3$"
   ]
  },
  {
   "cell_type": "code",
   "execution_count": 88,
   "metadata": {
    "collapsed": false
   },
   "outputs": [
    {
     "data": {
      "image/png": "[encoded data removed]",
      "text/plain": [
       "Graphics object consisting of 1 graphics primitive"
      ]
     },
     "execution_count": 88,
     "metadata": {},
     "output_type": "execute_result"
    }
   ],
   "source": [
    "var('x')\n",
    "y=x^2+5/3\n",
    "plot(y,x)"
   ]
  },
  {
   "cell_type": "markdown",
   "metadata": {
    "collapsed": true
   },
   "source": [
    "# 1、求下列方程的解"
   ]
  },
  {
   "cell_type": "markdown",
   "metadata": {},
   "source": [
    "## (6) $x\\frac{\\mathrm d y}{\\mathrm d x}-y+\\sqrt{x^2-y^2}=0$"
   ]
  },
  {
   "cell_type": "code",
   "execution_count": 27,
   "metadata": {
    "collapsed": false
   },
   "outputs": [
    {
     "data": {
      "text/html": [
       "<html><script type=\"math/tex; mode=display\">\\newcommand{\\Bold}[1]{\\mathbf{#1}}\\sqrt{-\\frac{y^{2}}{x^{2}} + 1} + \\frac{y}{x}</script></html>"
      ],
      "text/plain": [
       "sqrt(-y^2/x^2 + 1) + y/x"
      ]
     },
     "metadata": {},
     "output_type": "display_data"
    },
    {
     "data": {
      "text/html": [
       "<html><script type=\"math/tex; mode=display\">\\newcommand{\\Bold}[1]{\\mathbf{#1}}u + \\sqrt{-u^{2} + 1}</script></html>"
      ],
      "text/plain": [
       "u + sqrt(-u^2 + 1)"
      ]
     },
     "metadata": {},
     "output_type": "display_data"
    },
    {
     "data": {
      "text/html": [
       "<html><script type=\"math/tex; mode=display\">\\newcommand{\\Bold}[1]{\\mathbf{#1}}\\arcsin\\left(u\\right) = c + \\log\\left(x\\right)</script></html>"
      ],
      "text/plain": [
       "arcsin(u) == c + log(x)"
      ]
     },
     "metadata": {},
     "output_type": "display_data"
    },
    {
     "data": {
      "text/html": [
       "<html><script type=\"math/tex; mode=display\">\\newcommand{\\Bold}[1]{\\mathbf{#1}}\\arcsin\\left(\\frac{y}{x}\\right) = c + \\log\\left(x\\right)</script></html>"
      ],
      "text/plain": [
       "arcsin(y/x) == c + log(x)"
      ]
     },
     "metadata": {},
     "output_type": "display_data"
    },
    {
     "data": {
      "text/html": [
       "<html><script type=\"math/tex; mode=display\">\\newcommand{\\Bold}[1]{\\mathbf{#1}}x^{2} = y^{2}</script></html>"
      ],
      "text/plain": [
       "x^2 == y^2"
      ]
     },
     "metadata": {},
     "output_type": "display_data"
    }
   ],
   "source": [
    "var('x y u c')\n",
    "g=y/x+sqrt(1-(y/x)^2)\n",
    "show(g)\n",
    "G=g.subs(y/x==u,-(y/x)^2==-u^2)\n",
    "show(G)\n",
    "f=1/x\n",
    "phi=G-u\n",
    "F=integral(f,x)\n",
    "G=integral(1/phi,u)\n",
    "s=G==F+c\n",
    "show(s)\n",
    "show(s.subs(u==y/x))\n",
    "show(x^2==y^2)"
   ]
  },
  {
   "cell_type": "markdown",
   "metadata": {},
   "source": [
    "## (7) $\\mathrm tan y\\mathrm d x-\\mathrm cot x\\mathrm d y=0$"
   ]
  },
  {
   "cell_type": "code",
   "execution_count": 45,
   "metadata": {
    "collapsed": false
   },
   "outputs": [
    {
     "data": {
      "text/html": [
       "<html><script type=\"math/tex; mode=display\">\\newcommand{\\Bold}[1]{\\mathbf{#1}}\\log\\left(\\sin\\left(y\\right)\\right) = c - \\frac{1}{2} \\, \\log\\left(\\cos\\left(x\\right)^{2}\\right)</script></html>"
      ],
      "text/plain": [
       "log(sin(y)) == c - 1/2*log(cos(x)^2)"
      ]
     },
     "metadata": {},
     "output_type": "display_data"
    },
    {
     "data": {
      "text/html": [
       "<html><script type=\"math/tex; mode=display\">\\newcommand{\\Bold}[1]{\\mathbf{#1}}\\cos\\left(x\\right) \\sin\\left(y\\right) = c</script></html>"
      ],
      "text/plain": [
       "cos(x)*sin(y) == c"
      ]
     },
     "metadata": {},
     "output_type": "display_data"
    },
    {
     "data": {
      "text/html": [
       "<html><script type=\"math/tex; mode=display\">\\newcommand{\\Bold}[1]{\\mathbf{#1}}y = k \\pi</script></html>"
      ],
      "text/plain": [
       "y == k*pi"
      ]
     },
     "metadata": {},
     "output_type": "display_data"
    }
   ],
   "source": [
    "var('x y c k')\n",
    "f=tan(y)\n",
    "g=cot(x)\n",
    "F=integral(1/f,y)\n",
    "G=integral(1/g,x)\n",
    "G=G.subs(-sin(x)^2+1==cos(x)^2)\n",
    "s=F==G+c\n",
    "show(s)\n",
    "s=sin(y)*cos(x)==c\n",
    "show(s)\n",
    "eqn1=y==k*pi\n",
    "show(eqn1)"
   ]
  },
  {
   "cell_type": "markdown",
   "metadata": {},
   "source": [
    "$k=0,+-1,+-2,+-3,...$"
   ]
  },
  {
   "cell_type": "markdown",
   "metadata": {},
   "source": [
    "# 2、作适当的变量变换求解下列方程"
   ]
  },
  {
   "cell_type": "markdown",
   "metadata": {},
   "source": [
    "## (6) $\\frac{\\mathrm d y}{\\mathrm d x}=\\frac{y^6-2x^2}{2xy^5+x^2y^2}$"
   ]
  },
  {
   "cell_type": "markdown",
   "metadata": {},
   "source": [
    "$ \\frac{\\mathrm d y}{\\mathrm d x}=\\frac{y^6-2x^2}{y^2(2xy^3+x^2)}$\n",
    "\n",
    "$\\frac{\\mathrm d y^3}{\\mathrm d x}=\\frac{3y^6-2x^2}{2xy^3+x^2}$\n",
    "\n",
    "$令y^3=u,则$\n",
    "\n",
    "$\\frac{\\mathrm d y^3}{\\mathrm d x}=\\frac{\\mathrm d u}{\\mathrm d x}=\\frac{2u^2-6x^2}{2xu+x^2}=\\frac{\\frac{3u^2-6}{x^2}-6}{2\\frac{u}{x}+1}$\n",
    "\n",
    "$令\\frac{u}{x}=z,则$\n",
    "\n",
    "$\\frac{\\mathrm d u}{\\mathrm d x}=z+x\\frac{\\mathrm d z}{\\mathrm d x}$\n",
    "\n",
    "$所以z+x\\frac{\\mathrm d z}{\\mathrm d x}=\\frac{3z^2-6}{2z+1}$\n",
    "\n",
    "$当z^2-z-6=0时,z=3或z=-2$\n",
    "\n",
    "$即y^3=3x或y^3=-2x是方程的解$\n",
    "\n",
    "$当z^2-z-6≠0,\\frac{\\mathrm d x}{x}=\\frac{2z+1}{z^2-z-6}两边求积分,得$\n",
    "\n",
    "$(z-3)^7(z+2)^3=x^5c$\n",
    "\n",
    "$即(y^3-3x)^7(y^3+2x)^3=x^{15}c$"
   ]
  },
  {
   "cell_type": "markdown",
   "metadata": {},
   "source": [
    "## (7) $\\frac{\\mathrm d y}{\\mathrm d x}=\\frac{2x^3+3xy+x}{3x^2y+2y^3-y}$"
   ]
  },
  {
   "cell_type": "code",
   "execution_count": 107,
   "metadata": {
    "collapsed": false
   },
   "outputs": [
    {
     "data": {
      "text/html": [
       "<html><script type=\"math/tex; mode=display\">\\newcommand{\\Bold}[1]{\\mathbf{#1}}2 \\, x^{2} + 3 \\, y^{2} + 1</script></html>"
      ],
      "text/plain": [
       "2*x^2 + 3*y^2 + 1"
      ]
     },
     "metadata": {},
     "output_type": "display_data"
    },
    {
     "data": {
      "text/html": [
       "<html><script type=\"math/tex; mode=display\">\\newcommand{\\Bold}[1]{\\mathbf{#1}}3 \\, x^{2} + 2 \\, y^{2} - 1</script></html>"
      ],
      "text/plain": [
       "3*x^2 + 2*y^2 - 1"
      ]
     },
     "metadata": {},
     "output_type": "display_data"
    },
    {
     "data": {
      "text/html": [
       "<html><script type=\"math/tex; mode=display\">\\newcommand{\\Bold}[1]{\\mathbf{#1}}3 \\, u + 2 \\, v + 1</script></html>"
      ],
      "text/plain": [
       "3*u + 2*v + 1"
      ]
     },
     "metadata": {},
     "output_type": "display_data"
    },
    {
     "data": {
      "text/html": [
       "<html><script type=\"math/tex; mode=display\">\\newcommand{\\Bold}[1]{\\mathbf{#1}}2 \\, u + 3 \\, v - 1</script></html>"
      ],
      "text/plain": [
       "2*u + 3*v - 1"
      ]
     },
     "metadata": {},
     "output_type": "display_data"
    },
    {
     "data": {
      "text/html": [
       "<html><script type=\"math/tex; mode=display\">\\newcommand{\\Bold}[1]{\\mathbf{#1}}\\left[3 \\, u + 2 \\, v + 1 = 0, 2 \\, u + 3 \\, v - 1 = 0\\right]</script></html>"
      ],
      "text/plain": [
       "[3*u + 2*v + 1 == 0, 2*u + 3*v - 1 == 0]"
      ]
     },
     "metadata": {},
     "output_type": "display_data"
    },
    {
     "data": {
      "text/html": [
       "<html><script type=\"math/tex; mode=display\">\\newcommand{\\Bold}[1]{\\mathbf{#1}}\\left[\\left[u = \\left(-1\\right), v = 1\\right]\\right]</script></html>"
      ],
      "text/plain": [
       "[[u == -1, v == 1]]"
      ]
     },
     "metadata": {},
     "output_type": "display_data"
    },
    {
     "data": {
      "text/html": [
       "<html><script type=\"math/tex; mode=display\">\\newcommand{\\Bold}[1]{\\mathbf{#1}}\\left[3 \\, y + 2 \\, z = 0, 2 \\, y + 3 \\, z = 0\\right]</script></html>"
      ],
      "text/plain": [
       "[3*y + 2*z == 0, 2*y + 3*z == 0]"
      ]
     },
     "metadata": {},
     "output_type": "display_data"
    },
    {
     "data": {
      "text/html": [
       "<html><script type=\"math/tex; mode=display\">\\newcommand{\\Bold}[1]{\\mathbf{#1}}\\frac{\\frac{3 \\, y}{z} + 2}{\\frac{2 \\, y}{z} + 3}</script></html>"
      ],
      "text/plain": [
       "(3*y/z + 2)/(2*y/z + 3)"
      ]
     },
     "metadata": {},
     "output_type": "display_data"
    },
    {
     "data": {
      "text/html": [
       "<html><script type=\"math/tex; mode=display\">\\newcommand{\\Bold}[1]{\\mathbf{#1}}\\frac{3 \\, t + 2}{2 \\, t + 3}</script></html>"
      ],
      "text/plain": [
       "(3*t + 2)/(2*t + 3)"
      ]
     },
     "metadata": {},
     "output_type": "display_data"
    },
    {
     "data": {
      "text/html": [
       "<html><script type=\"math/tex; mode=display\">\\newcommand{\\Bold}[1]{\\mathbf{#1}}\\log\\left(z\\right) = c + \\frac{1}{4} \\, \\log\\left(t + 1\\right) - \\frac{5}{4} \\, \\log\\left(t - 1\\right)</script></html>"
      ],
      "text/plain": [
       "log(z) == c + 1/4*log(t + 1) - 5/4*log(t - 1)"
      ]
     },
     "metadata": {},
     "output_type": "display_data"
    },
    {
     "data": {
      "text/html": [
       "<html><script type=\"math/tex; mode=display\">\\newcommand{\\Bold}[1]{\\mathbf{#1}}\\log\\left(z\\right) = c + \\frac{1}{4} \\, \\log\\left(\\frac{y}{z} + 1\\right) - \\frac{5}{4} \\, \\log\\left(\\frac{y}{z} - 1\\right)</script></html>"
      ],
      "text/plain": [
       "log(z) == c + 1/4*log(y/z + 1) - 5/4*log(y/z - 1)"
      ]
     },
     "metadata": {},
     "output_type": "display_data"
    },
    {
     "data": {
      "text/html": [
       "<html><script type=\"math/tex; mode=display\">\\newcommand{\\Bold}[1]{\\mathbf{#1}}\\log\\left(v - 1\\right) = c + \\frac{1}{4} \\, \\log\\left(\\frac{u + 1}{v - 1} + 1\\right) - \\frac{5}{4} \\, \\log\\left(\\frac{u + 1}{v - 1} - 1\\right)</script></html>"
      ],
      "text/plain": [
       "log(v - 1) == c + 1/4*log((u + 1)/(v - 1) + 1) - 5/4*log((u + 1)/(v - 1) - 1)"
      ]
     },
     "metadata": {},
     "output_type": "display_data"
    },
    {
     "data": {
      "text/html": [
       "<html><script type=\"math/tex; mode=display\">\\newcommand{\\Bold}[1]{\\mathbf{#1}}\\log\\left(x^{2} - 1\\right) = c + \\frac{1}{4} \\, \\log\\left(\\frac{y^{2} + 1}{x^{2} - 1} + 1\\right) - \\frac{5}{4} \\, \\log\\left(\\frac{y^{2} + 1}{x^{2} - 1} - 1\\right)</script></html>"
      ],
      "text/plain": [
       "log(x^2 - 1) == c + 1/4*log((y^2 + 1)/(x^2 - 1) + 1) - 5/4*log((y^2 + 1)/(x^2 - 1) - 1)"
      ]
     },
     "metadata": {},
     "output_type": "display_data"
    },
    {
     "data": {
      "text/html": [
       "<html><script type=\"math/tex; mode=display\">\\newcommand{\\Bold}[1]{\\mathbf{#1}}x^{2} + y^{2} = -{\\left(x^{2} - y^{2} - 2\\right)}^{5} c</script></html>"
      ],
      "text/plain": [
       "x^2 + y^2 == -(x^2 - y^2 - 2)^5*c"
      ]
     },
     "metadata": {},
     "output_type": "display_data"
    }
   ],
   "source": [
    "var('x y v u t')\n",
    "a1=2\n",
    "b1=3\n",
    "c1=1\n",
    "a2=3\n",
    "b2=2\n",
    "c2=-1\n",
    "eqn1=2*x^2+3*y^2+1\n",
    "eqn2=3*x^2+2*y^2-1\n",
    "eqn3=eqn1.subs(y^2==u,x^2==v)\n",
    "eqn4=eqn2.subs(y^2==u,x^2==v)\n",
    "show(eqn1)\n",
    "show(eqn2)\n",
    "show(eqn3)\n",
    "show(eqn4)\n",
    "s1=[eqn3==0,eqn4==0]\n",
    "show(s1)\n",
    "a=solve(s1,(u,v))\n",
    "show(a)\n",
    "eqn5=eqn3.subs(v==z+1,u==y-1)\n",
    "eqn6=eqn4.subs(v==z+1,u==y-1)\n",
    "s2=[eqn5==0,eqn6==0]\n",
    "show(s2)\n",
    "g=(2+3*(y/z))/(3+2*(y/z))\n",
    "show(g)\n",
    "G=g.subs(3*(y/z)==3*t,2*(y/z)==2*t)\n",
    "show(G)\n",
    "f=1/z\n",
    "phi=G-t\n",
    "F=integral(f,z)\n",
    "G=integral(1/phi,t)\n",
    "s=F==G+c\n",
    "show(s)\n",
    "s=s.subs(t==y/z)\n",
    "show(s)\n",
    "s=s.subs(z==v-1,y==u+1)\n",
    "show(s)\n",
    "s=s.subs(u==y^2,v==x^2)\n",
    "show(s)\n",
    "m=y^2+x^2==(y^2-x^2+2)^5*c\n",
    "show(m)"
   ]
  },
  {
   "cell_type": "markdown",
   "metadata": {},
   "source": [
    "# $y_1(t)是\\frac{\\mathrm d y}{\\mathrm d t}=f(y),y(0)=y_0的解$\n",
    "# $验证y_2(t)=y_1(t-t_0)是\\frac{\\mathrm d y}{\\mathrm d t}=f(y),y(t_0)=y_0的解$"
   ]
  },
  {
   "cell_type": "markdown",
   "metadata": {},
   "source": [
    "$\\frac{\\mathrm d y_2(t)}{\\mathrm d t}=\\frac{\\mathrm d y_1(t-t_0)}{\\mathrm d t}=\\frac{\\mathrm d y_1(t-t_0)}{\\mathrm d (t-t_0)}=f(y_1(t-t_0))=f(y_2)$\n",
    "\n",
    "$所以y_2=y_1(t-t_0)也为\\frac{\\mathrm d y}{\\mathrm d t}=f(0)的解$\n",
    "\n",
    "$由y_1(0)=y_0得$\n",
    "\n",
    "$即t=0时，y_1(0)=y_0$\n",
    "\n",
    "$所以t=t_0时，y_1(t-t_0)=y_0$\n",
    "\n",
    "$所以y_2(t_0)=y_0$"
   ]
  },
  {
   "cell_type": "markdown",
   "metadata": {
    "collapsed": true
   },
   "source": [
    "# <font color='red'>A 12/9"
   ]
  },
  {
   "cell_type": "code",
   "execution_count": null,
   "metadata": {
    "collapsed": true
   },
   "outputs": [],
   "source": []
  }
 ],
 "metadata": {
  "kernelspec": {
   "display_name": "SageMath 7.3",
   "language": "",
   "name": "sagemath"
  },
  "language_info": {
   "codemirror_mode": {
    "name": "ipython",
    "version": 2
   },
   "file_extension": ".py",
   "mimetype": "text/x-python",
   "name": "python",
   "nbconvert_exporter": "python",
   "pygments_lexer": "ipython2",
   "version": "2.7.10"
  }
 },
 "nbformat": 4,
 "nbformat_minor": 0
}
