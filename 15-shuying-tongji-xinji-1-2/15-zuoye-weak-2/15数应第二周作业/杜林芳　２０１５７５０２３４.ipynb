{
 "cells": [
  {
   "cell_type": "markdown",
   "metadata": {},
   "source": [
    "习题１．２\n",
    "3.验证下列各函数是相应微分方程的解：\n",
    "（7） y=x^2+1,y'=y^2-(x^2+1)*y+2*x;\n",
    "解：将第一个等式代入第二个方程中，可得到方程是一个恒等式\n",
    "（8）y=-g(x)/f(x),y'=(f'(x)/g(x))*y^2-g'(x)/f(x)\n",
    "解：先对y求一阶微分得到y' 然后把y'代入到第二个方程中，即可验证函数y=-g(x)/f(x)是方程y'=(f'(x )/g(x))*y^2-g'(x)/f(x)的解\n",
    "\n",
    "4.给定一阶微分方程dy/dx=2*x\n",
    "(1)求出它的通解\n",
    "(2)求通过点（１，４）的特解\n",
    "（３）求出与直线y=2x+3相切的解\n",
    "（４）求出满足条件∫ (0到１）ｙdx=2的解\n",
    "\n",
    "解：（１） 对dy=2xdx两边求积分有\n",
    "　y=x²+C，故通解为y=x^2+c\n",
    " \n",
    " (2)把点（１，４）代入y=x^2+c可得到c=3\n",
    " 所以特解为y=x^2+3\n",
    " \n",
    "(3)因为y=x²+C与直线y=2x+3相切\n",
    "所以x²+C=2x+3只有一解\n",
    "4-4(C-3)=0\n",
    "C=4\n",
    "所以特解为y=x²+4 \n",
    "\n",
    "(4)将通解\n",
    "y=x^2+C\n",
    "代入∫(0到1)ydx=２中：∫(0到1)（x^2+C）dx=1/3+C=2\n",
    "C=5/3\n",
    "所以y=x^2+5/3\n",
    "\n",
    "习题２.１\n",
    "１.求下列方程的解：\n",
    "（６）ｘdy/dx－ｙ＋√（ｘ＾２－ｙ＾２）＝０；\n",
    "解：两边同除x,得\n",
    "dy/dx-(y/x)+√[1-(y/x)²]=0\n",
    "设u=y/x,则dy=xdu+udx,原式可转变为\n",
    "xdu/dx+u-u+√(1-u²)=0\n",
    "即-du/√(1-u²)=dx/x\n",
    "两边同时积分有\n",
    "∫-du/√(1-u²)=∫dx/x\n",
    "-arcsinu=lnx+C\n",
    "即通解为lnx+arcsin(y/x)+C=0 \n",
    "\n",
    "（７）tanydx-cotxd\n",
    "解：tanydx-cotxdy=0 ==>cosydy/siny-sinxdx/cosx=0 ==>d(siny)/siny+d(cosx)/cosx=0 ==>ln│siny│+ln│cosx│=ln│C│ (C是常数) ==>cosx*siny=C ∴原方程的通解是cosx*siny=C。\n",
    "\n",
    "２.作适当的变量变换求解下列方程：\n",
    "（６）dy/dx=(y^6-2x^2)/(2xy^5+x^2y^2)；\n",
    "解：把原方程两边乘以y^2,得到d（y^3）/dx=3(y^6-2x^2)/【xy^3+x^2】\n",
    "再把上式右部上下除以x^2得到d(y^3)/dx=3((y^3/x)^2-2)/【y^3/x+1】\n",
    "令t=y^3/x,d(y^3)/dx=d(tx)/dx=xdt/dx+t\n",
    "所以原方程变成xdt/dx+t=3(t^2-2)/(t+1)\n",
    "化简得:xdt/dx=(2t+3)(t-2)/(t+1)\n",
    "分离变量化简得：[1/(2t+3)+3/(t-2)]dt=(7/x)dx\n",
    "两边积分得到C|x|^7=|t-2|^3*|2t+3|^0.5\n",
    "把t=y^3/x带回去得到结果C|x|^7=|y^3/x-2|^3*|2y^3/x+3|^0.5 （C是常数） \n",
    "\n",
    "（７）dy/dx=(2x^3+3xy^2+x)/(3x^2+2y^3-y）\n",
    "解：方程可改写成ｄ（ｙ＾２＋１）／ｄ（ｘ＾２－１）＝（２（ｘ＾２－１）＋３（ｙ＾２＋１））／（３（ｘ＾２－１）＋２（ｙ＾２＋１）），取变换ｔ＝ｘ＾２－１；ｓ＝ｙ＾２＋１.化为齐次方程ｄｓ／ｄｔ＝（２ｔ＋３ｓ）／（３ｔ＋２ｓ）再令ｓ＝ｗｔ得ｔｄｗ／ｄｔ＝（２－２ｗ＾２）／（３＋２ｗ），ｄｔ／ｔ＝（３＋２ｗ）／（２（１－ｗ＾２））ｄｗ＝１／４（（５／１－ｗ）＋１／（１＋ｗ））ｄｗ积分得　－５／４ｌｎ｜１－ｗ｜＋１／４ｌｎ｜１＋ｗ｜＝ｌｎ｜ｔ｜＋ｃ"
   ]
  },
  {
   "cell_type": "markdown",
   "metadata": {},
   "source": [
    "# <font color='red'>B  12/9"
   ]
  },
  {
   "cell_type": "code",
   "execution_count": null,
   "metadata": {
    "collapsed": true
   },
   "outputs": [],
   "source": []
  }
 ],
 "metadata": {
  "kernelspec": {
   "display_name": "SageMath 7.3",
   "language": "",
   "name": "sagemath"
  },
  "language_info": {
   "codemirror_mode": {
    "name": "ipython",
    "version": 2
   },
   "file_extension": ".py",
   "mimetype": "text/x-python",
   "name": "python",
   "nbconvert_exporter": "python",
   "pygments_lexer": "ipython2",
   "version": "2.7.10"
  }
 },
 "nbformat": 4,
 "nbformat_minor": 0
}
