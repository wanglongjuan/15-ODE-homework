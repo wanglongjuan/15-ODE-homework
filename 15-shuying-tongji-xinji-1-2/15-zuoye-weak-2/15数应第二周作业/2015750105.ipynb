{
 "cells": [
  {
   "cell_type": "markdown",
   "metadata": {},
   "source": [
    "\n",
    "验证下列各函数是相应微分方程的解\n",
    "(7)$y=x^2+1,y'=y^2-(x^2+1)y+2x$\n",
    "\n",
    "(8)$y=-\\frac{g(x)}{f(x)},y'=\\frac{f'(x)}{g(x)}y^2-\\frac{g'(x)}{f(x)}.$\n",
    "\n",
    "\n",
    "\n"
   ]
  },
  {
   "cell_type": "markdown",
   "metadata": {},
   "source": [
    "解(7)原函数为$$y=x^2+1$$\n",
    "对其求导得$$y'=2x$$\n",
    "原函数平方得$$y^2=x^4+2x^2+1$$\n",
    "将上述两式代入验证，可得$$y'-y^2+(x^2+1)y=2x-(x^4+2x^2+1)-(x^2+1)(x^2+1)=2x$$\n",
    "所以此函数是相应微分方程的解\n"
   ]
  },
  {
   "cell_type": "markdown",
   "metadata": {},
   "source": [
    "解(8)解;(8)对原方程求导可得$$y'=-\\frac{g'(x)f(x)-f'(x)g(x)}{f^2(x)}$$\n",
    "\n",
    "将原函数两边平方可得$$y^2=\\frac{g^2(x)}{f^2(x)}$$\n",
    "\n",
    "将上述两式代入可得$$\\frac{f'(x)}{g(x)}y^2-\\frac{g'(x)}{f(x)}=-\\frac{g'(x)f(x)-f'(x)g(x)}{f^2(x)}=y'$$\n",
    "\n",
    "故此函数是相应微分方程的解\n",
    "\n",
    "\n",
    "\n",
    "\n"
   ]
  },
  {
   "cell_type": "markdown",
   "metadata": {},
   "source": [
    "求下列方程的解(6)$x\\frac{dy}{dx}-y+\\sqrt{x^2-y^2}=0$\n",
    " \n",
    "(7)$tanydx-cotxdy=0$\n"
   ]
  },
  {
   "cell_type": "markdown",
   "metadata": {},
   "source": [
    "解(6)原式等于$$x\\frac{dy}{dx}=y-\\sqrt{x^2-y^2}$$\n",
    "\n",
    "即$$\\frac{dy}{dx}=\\frac{y}{x}-\\sqrt{1-(\\frac{y}{x})^2}$$\n",
    "令$u=\\frac{dy}{dx}$则有$$x\\frac{du}{dx}=-\\sqrt{1-u^2}$$\n",
    "即$$\\frac{dx}{x}=-\\frac{du}{\\sqrt{1-u^2}}$$\n",
    "\n",
    "\n",
    "\n",
    "\n",
    "\n",
    "\n",
    "\n",
    "\n",
    "\n"
   ]
  },
  {
   "cell_type": "code",
   "execution_count": 27,
   "metadata": {
    "collapsed": false
   },
   "outputs": [
    {
     "data": {
      "text/html": [
       "<html><script type=\"math/tex; mode=display\">\\newcommand{\\Bold}[1]{\\mathbf{#1}}\\log\\left(x\\right)</script></html>"
      ],
      "text/plain": [
       "log(x)"
      ]
     },
     "metadata": {},
     "output_type": "display_data"
    },
    {
     "data": {
      "text/html": [
       "<html><script type=\"math/tex; mode=display\">\\newcommand{\\Bold}[1]{\\mathbf{#1}}\\arcsin\\left(u\\right)</script></html>"
      ],
      "text/plain": [
       "arcsin(u)"
      ]
     },
     "metadata": {},
     "output_type": "display_data"
    },
    {
     "data": {
      "text/html": [
       "<html><script type=\"math/tex; mode=display\">\\newcommand{\\Bold}[1]{\\mathbf{#1}}\\arcsin\\left(u\\right) = c + \\log\\left(x\\right)</script></html>"
      ],
      "text/plain": [
       "arcsin(u) == c + log(x)"
      ]
     },
     "metadata": {},
     "output_type": "display_data"
    },
    {
     "data": {
      "text/html": [
       "<html><script type=\"math/tex; mode=display\">\\newcommand{\\Bold}[1]{\\mathbf{#1}}u = \\frac{y}{x}</script></html>"
      ],
      "text/plain": [
       "u == y/x"
      ]
     },
     "metadata": {},
     "output_type": "display_data"
    }
   ],
   "source": [
    "var('x u c y')\n",
    "f=1/x\n",
    "g=1/(sqrt(1-(u)^2))\n",
    "F=integral(f, x)\n",
    "G= integral(g, u)\n",
    "show(F)\n",
    "show(G)\n",
    "s=G==F+c\n",
    "show(s)\n",
    "m=u==y/x\n",
    "show(m)\n",
    "\n",
    "\n",
    "\n"
   ]
  },
  {
   "cell_type": "markdown",
   "metadata": {
    "collapsed": false,
    "scrolled": true
   },
   "source": [
    "此外$x^2=y^2$也是方程的解\n",
    "\n"
   ]
  },
  {
   "cell_type": "markdown",
   "metadata": {
    "collapsed": true
   },
   "source": [
    "解(7)由原式得$$tanydx=cotxdy$$\n",
    "\n",
    "则有$$\\frac{dx}{cotx}=\\frac{dy}{tany}$$\n",
    "\n"
   ]
  },
  {
   "cell_type": "code",
   "execution_count": 33,
   "metadata": {
    "collapsed": false
   },
   "outputs": [
    {
     "data": {
      "text/html": [
       "<html><script type=\"math/tex; mode=display\">\\newcommand{\\Bold}[1]{\\mathbf{#1}}-\\frac{1}{2} \\, \\log\\left(-\\sin\\left(x\\right)^{2} + 1\\right)</script></html>"
      ],
      "text/plain": [
       "-1/2*log(-sin(x)^2 + 1)"
      ]
     },
     "metadata": {},
     "output_type": "display_data"
    },
    {
     "data": {
      "text/html": [
       "<html><script type=\"math/tex; mode=display\">\\newcommand{\\Bold}[1]{\\mathbf{#1}}\\log\\left(\\sin\\left(y\\right)\\right)</script></html>"
      ],
      "text/plain": [
       "log(sin(y))"
      ]
     },
     "metadata": {},
     "output_type": "display_data"
    },
    {
     "data": {
      "text/html": [
       "<html><script type=\"math/tex; mode=display\">\\newcommand{\\Bold}[1]{\\mathbf{#1}}\\log\\left(\\sin\\left(y\\right)\\right) = c - \\frac{1}{2} \\, \\log\\left(-\\sin\\left(x\\right)^{2} + 1\\right)</script></html>"
      ],
      "text/plain": [
       "log(sin(y)) == c - 1/2*log(-sin(x)^2 + 1)"
      ]
     },
     "metadata": {},
     "output_type": "display_data"
    }
   ],
   "source": [
    "var('x y c')\n",
    "f = cot(x)\n",
    "g = tan(y)\n",
    "F = integral(1/f, x)\n",
    "G = integral(1/g, y)\n",
    "show(F)\n",
    "show(G)\n",
    "s = G == F + c\n",
    "show(s)"
   ]
  },
  {
   "cell_type": "markdown",
   "metadata": {
    "collapsed": false,
    "scrolled": true
   },
   "source": [
    "化简得$$sinycosx=c,y=kπ,k=0,1,-1,2,-2...$$\n",
    "\n"
   ]
  },
  {
   "cell_type": "markdown",
   "metadata": {},
   "source": [
    "作适当地变量变换求解下列方程\n",
    "$(6)\\frac{dy}{dx}=\\frac{y^6-2x^2}{2xy^5+x^2y^2}$\n",
    "\n",
    "$(7)\\frac{dy}{dx}=\\frac{2x^3+3xy^2+x}{3x^2y+2y^3-y}$\n",
    "\n"
   ]
  },
  {
   "cell_type": "markdown",
   "metadata": {},
   "source": [
    " 解(6)原式为$$(6)\\frac{dy}{dx}=\\frac{y^6-2x^2}{2xy^5+x^2y^2}$$\n",
    " 即$$\\frac{dy}{dx}=\\frac{(y^3)^2-2x^2}{y^2(2xy^3+x^2)}$$\n",
    " 即$$\\frac{dy^3}{dx}=3\\frac{(y^3)^2-2x^2}{(2xy^3+x^2)}$$\n",
    " 令$y^3=z$则原式等于 $$\\frac{dz}{dx}=3\\frac{z^2-2x^2}{(2xz+x^2)}$$\n",
    " 即  $$\\frac{dz}{dx}=3\\frac{\\frac{z}{x}^2-2}{2\\frac{z}{x}+1}$$\n",
    "再令$u=\\frac{z}{x}$则原式化为 即  $$u+x\\frac{du}{dx}=3\\frac{u^2-2}{2u+1}$$\n",
    "即$$x\\frac{du}{dx}=\\frac{u^2-u-6}{2u+1}$$\n",
    "当$u^2-u-6=0$时，有$u=3$或$u=-2$满足方程，即$y^3=3x$或者$y^3=-2x$是方程的解，\n",
    "当$u^2-u-6不等于0时\n",
    "即有\n",
    "\n",
    "$$\\frac{dx}{x}=\\frac{2u+1}{u^2-u-6}du$$\n",
    "\n",
    "\n",
    "\n",
    "\n",
    "\n",
    "\n",
    "\n"
   ]
  },
  {
   "cell_type": "code",
   "execution_count": 24,
   "metadata": {
    "collapsed": false
   },
   "outputs": [
    {
     "data": {
      "text/html": [
       "<html><script type=\"math/tex; mode=display\">\\newcommand{\\Bold}[1]{\\mathbf{#1}}\\log\\left(x\\right)</script></html>"
      ],
      "text/plain": [
       "log(x)"
      ]
     },
     "metadata": {},
     "output_type": "display_data"
    },
    {
     "data": {
      "text/html": [
       "<html><script type=\"math/tex; mode=display\">\\newcommand{\\Bold}[1]{\\mathbf{#1}}\\frac{1}{4} \\, u^{2} - \\frac{3}{4} \\, u - \\frac{21}{8} \\, \\log\\left(2 \\, u + 1\\right)</script></html>"
      ],
      "text/plain": [
       "1/4*u^2 - 3/4*u - 21/8*log(2*u + 1)"
      ]
     },
     "metadata": {},
     "output_type": "display_data"
    },
    {
     "data": {
      "text/html": [
       "<html><script type=\"math/tex; mode=display\">\\newcommand{\\Bold}[1]{\\mathbf{#1}}\\frac{1}{4} \\, u^{2} - \\frac{3}{4} \\, u - \\frac{21}{8} \\, \\log\\left(2 \\, u + 1\\right) = c + \\log\\left(x\\right)</script></html>"
      ],
      "text/plain": [
       "1/4*u^2 - 3/4*u - 21/8*log(2*u + 1) == c + log(x)"
      ]
     },
     "metadata": {},
     "output_type": "display_data"
    },
    {
     "data": {
      "text/html": [
       "<html><script type=\"math/tex; mode=display\">\\newcommand{\\Bold}[1]{\\mathbf{#1}}u = \\frac{y^{3}}{x}</script></html>"
      ],
      "text/plain": [
       "u == y^3/x"
      ]
     },
     "metadata": {},
     "output_type": "display_data"
    }
   ],
   "source": [
    "var('x u c y')\n",
    "f = 1/x\n",
    "g =(2*u+1)/(u^2-u-6)\n",
    "F = integral(f, x)\n",
    "G = integral(1/g, u)\n",
    "show(F)\n",
    "show(G)\n",
    "s = G == F + c\n",
    "show(s)\n",
    "m=u==(y^3)/x\n",
    "show(m)\n",
    "\n",
    "\n",
    "\n"
   ]
  },
  {
   "cell_type": "markdown",
   "metadata": {},
   "source": [
    "即解为$$(y^3-3x)^7(y^3+2x)^3=cx^9x^6$$\n",
    "经验证，$y^3=3x或y^3=-2x$在通解内 则通解为$$(y^3-3x)^7(y^3+2x)^3=cx^9x^6$$\n",
    "\n",
    "\n",
    "\n",
    "\n",
    "\n",
    "\n",
    "\n",
    "\n",
    "\n",
    "\n",
    "\n"
   ]
  },
  {
   "cell_type": "markdown",
   "metadata": {},
   "source": [
    "解(7)原方程为$$\\frac{dy}{dx}=\\frac{2x^3+3xy^2+x}{3x^2y+2y^3-y}$$\n",
    "即$$\\frac{dy^2}{dx^2}=\\frac{2x^2+3y^2+1}{3x^2+2y^2-1}$$\n",
    "令$u=x^2，z=y^2$则原式变为\n",
    "$$\\frac{dz}{du}=\\frac{2u+3z+1}{3u+2z-1}$$\n",
    "\n",
    "而方程组$$\n",
    "\\begin{cases}\n",
    "2u+ 3z+1 = 0\\\\\n",
    "3u+2z-1 = 0\n",
    "\\end{cases}\n",
    "$$存在解(1,-1)\n",
    "令$Z=u-1,Y=z+1$\n",
    "则有$$\n",
    "\\begin{cases}\n",
    "2Z + 3Y = 0\\\\\n",
    "3Z+2Y= 0\n",
    "\\end{cases}\n",
    "$$\n",
    "\n",
    "从而原式化为\n",
    "$$\\frac{dY}{dZ}=\\frac{2+3\\frac{Y}{Z}}{3+2\\frac{Y}{Z}}$$\n",
    "再令$t=\\frac{Y}{Z}$\n",
    "得$$Z\\frac{dt}{dZ}=\\frac{2-2t^2}{3+2t}$$\n",
    "当$2-2t^2=0$时，$t=1或者t=-1$得$y^2=x^2-2或y^2=-x^2$是方程的解。\n",
    "\n",
    "\n",
    "当$2-2t^2$不等于0时 \n",
    "分离变量得$$\\frac{dZ}{Z}=\\frac{3+2t}{2-2t^2}dt$$\n",
    "\n",
    "\n",
    "\n",
    "\n",
    "\n",
    "\n",
    "\n",
    "\n",
    "\n",
    "\n"
   ]
  },
  {
   "cell_type": "code",
   "execution_count": 30,
   "metadata": {
    "collapsed": false
   },
   "outputs": [
    {
     "data": {
      "text/html": [
       "<html><script type=\"math/tex; mode=display\">\\newcommand{\\Bold}[1]{\\mathbf{#1}}\\log\\left(Z\\right)</script></html>"
      ],
      "text/plain": [
       "log(Z)"
      ]
     },
     "metadata": {},
     "output_type": "display_data"
    },
    {
     "data": {
      "text/html": [
       "<html><script type=\"math/tex; mode=display\">\\newcommand{\\Bold}[1]{\\mathbf{#1}}\\frac{1}{4} \\, \\log\\left(t + 1\\right) - \\frac{5}{4} \\, \\log\\left(t - 1\\right)</script></html>"
      ],
      "text/plain": [
       "1/4*log(t + 1) - 5/4*log(t - 1)"
      ]
     },
     "metadata": {},
     "output_type": "display_data"
    },
    {
     "data": {
      "text/html": [
       "<html><script type=\"math/tex; mode=display\">\\newcommand{\\Bold}[1]{\\mathbf{#1}}\\frac{1}{4} \\, \\log\\left(t + 1\\right) - \\frac{5}{4} \\, \\log\\left(t - 1\\right) = c + \\log\\left(Z\\right)</script></html>"
      ],
      "text/plain": [
       "1/4*log(t + 1) - 5/4*log(t - 1) == c + log(Z)"
      ]
     },
     "metadata": {},
     "output_type": "display_data"
    },
    {
     "data": {
      "text/html": [
       "<html><script type=\"math/tex; mode=display\">\\newcommand{\\Bold}[1]{\\mathbf{#1}}Z = x^{2} - 1</script></html>"
      ],
      "text/plain": [
       "Z == x^2 - 1"
      ]
     },
     "metadata": {},
     "output_type": "display_data"
    },
    {
     "data": {
      "text/html": [
       "<html><script type=\"math/tex; mode=display\">\\newcommand{\\Bold}[1]{\\mathbf{#1}}t = \\frac{y^{2} + 1}{x^{2} - 1}</script></html>"
      ],
      "text/plain": [
       "t == (y^2 + 1)/(x^2 - 1)"
      ]
     },
     "metadata": {},
     "output_type": "display_data"
    }
   ],
   "source": [
    "var('x y Z t')\n",
    "f = 1/Z\n",
    "g =(3+2*t)/(2-2*t^2)\n",
    "F = integral(f, Z)\n",
    "G = integral(g, t)\n",
    "show(F)\n",
    "show(G)\n",
    "s = G == F + c\n",
    "show(s)\n",
    "m=Z==x^2-1\n",
    "show(m)\n",
    "n=t==(y^2+1)/(x^2-1)\n",
    "show(n)\n"
   ]
  },
  {
   "cell_type": "markdown",
   "metadata": {},
   "source": [
    "另外$y^2=x^2-2或y^2=-x^2$也在通解内，则通解化简后为$$y^2+x^2=(y^2-x^2+2)^5c$$\n"
   ]
  },
  {
   "cell_type": "markdown",
   "metadata": {
    "collapsed": true
   },
   "source": [
    "# <font color='red'>A 12/9\n",
    "\n",
    "\n"
   ]
  },
  {
   "cell_type": "code",
   "execution_count": null,
   "metadata": {
    "collapsed": true
   },
   "outputs": [],
   "source": []
  }
 ],
 "metadata": {
  "kernelspec": {
   "display_name": "SageMath 7.3",
   "language": "",
   "name": "sagemath"
  },
  "language_info": {
   "codemirror_mode": {
    "name": "ipython",
    "version": 2
   },
   "file_extension": ".py",
   "mimetype": "text/x-python",
   "name": "python",
   "nbconvert_exporter": "python",
   "pygments_lexer": "ipython2",
   "version": "2.7.10"
  }
 },
 "nbformat": 4,
 "nbformat_minor": 0
}
