<!DOCTYPE html>
<!-- saved from url=(0046)http://localhost:8000/notebooks/Untitled.ipynb -->
<html><head><meta http-equiv="Content-Type" content="text/html; charset=UTF-8">
    <meta charset="utf-8">

    <title>Untitled</title>
    <link rel="shortcut icon" type="image/x-icon" href="http://localhost:8000/static/base/images/favicon.ico?v=30780f272ab4aac64aa073a841546240">
    <meta http-equiv="X-UA-Compatible" content="IE=edge">
    <link rel="stylesheet" href="./zhangjie_files/jquery-ui.min.css" type="text/css">
    <link rel="stylesheet" href="./zhangjie_files/jquery.typeahead.min.css" type="text/css">
    <meta name="viewport" content="width=device-width, initial-scale=1.0">
    
    


<script type="text/javascript" src="./zhangjie_files/MathJax.js" charset="utf-8"></script>

<script type="text/javascript">
// MathJax disabled, set as null to distingish from *missing* MathJax,
// where it will be undefined, and should prompt a dialog later.
window.mathjax_url = "/nbextensions/mathjax/MathJax.js";
</script>

<link rel="stylesheet" href="./zhangjie_files/bootstrap-tour.min.css" type="text/css">
<link rel="stylesheet" href="http://localhost:8000/static/components/codemirror/lib/codemirror.css?v=2336fb49f85e9fa887ada9af35223dce">


    <link rel="stylesheet" href="./zhangjie_files/style.min.css" type="text/css">
    

<link rel="stylesheet" href="./zhangjie_files/override.css" type="text/css">
<link rel="stylesheet" href="" id="kernel-css" type="text/css">


    <link rel="stylesheet" href="./zhangjie_files/custom.css" type="text/css">
    <script src="./zhangjie_files/promise.min.js" type="text/javascript" charset="utf-8"></script>
    <script src="./zhangjie_files/require.js" type="text/javascript" charset="utf-8"></script>
    <script>
      require.config({
          
          baseUrl: '/static/',
          paths: {
            'auth/js/main': 'auth/js/main.min',
            custom : '/custom',
            nbextensions : '/nbextensions',
            kernelspecs : '/kernelspecs',
            underscore : 'components/underscore/underscore-min',
            backbone : 'components/backbone/backbone-min',
            jquery: 'components/jquery/jquery.min',
            bootstrap: 'components/bootstrap/js/bootstrap.min',
            bootstraptour: 'components/bootstrap-tour/build/js/bootstrap-tour.min',
            'jquery-ui': 'components/jquery-ui/ui/minified/jquery-ui.min',
            moment: 'components/moment/moment',
            codemirror: 'components/codemirror',
            termjs: 'components/term.js/src/term',
            typeahead: 'components/jquery-typeahead/dist/jquery.typeahead'
          },
	  map: { // for backward compatibility
	    "*": {
		"jqueryui": "jquery-ui",
	    }
	  },
          shim: {
            typeahead: {
              deps: ["jquery"],
              exports: "typeahead"
            },
            underscore: {
              exports: '_'
            },
            backbone: {
              deps: ["underscore", "jquery"],
              exports: "Backbone"
            },
            bootstrap: {
              deps: ["jquery"],
              exports: "bootstrap"
            },
            bootstraptour: {
              deps: ["bootstrap"],
              exports: "Tour"
            },
            "jquery-ui": {
              deps: ["jquery"],
              exports: "$"
            }
          },
          waitSeconds: 30,
      });

      require.config({
          map: {
              '*':{
                'contents': 'services/contents',
              }
          }
      });
    </script>

    
    

<script type="text/javascript" charset="utf-8" async="" data-requirecontext="_" data-requiremodule="services/contents" src="./zhangjie_files/contents.js"></script><script type="text/javascript" charset="utf-8" async="" data-requirecontext="_" data-requiremodule="custom/custom" src="./zhangjie_files/custom.js"></script><style type="text/css">.MathJax_Hover_Frame {border-radius: .25em; -webkit-border-radius: .25em; -moz-border-radius: .25em; -khtml-border-radius: .25em; box-shadow: 0px 0px 15px #83A; -webkit-box-shadow: 0px 0px 15px #83A; -moz-box-shadow: 0px 0px 15px #83A; -khtml-box-shadow: 0px 0px 15px #83A; border: 1px solid #A6D ! important; display: inline-block; position: absolute}
.MathJax_Hover_Arrow {position: absolute; width: 15px; height: 11px; cursor: pointer}
</style><style type="text/css">#MathJax_About {position: fixed; left: 50%; width: auto; text-align: center; border: 3px outset; padding: 1em 2em; background-color: #DDDDDD; color: black; cursor: default; font-family: message-box; font-size: 120%; font-style: normal; text-indent: 0; text-transform: none; line-height: normal; letter-spacing: normal; word-spacing: normal; word-wrap: normal; white-space: nowrap; float: none; z-index: 201; border-radius: 15px; -webkit-border-radius: 15px; -moz-border-radius: 15px; -khtml-border-radius: 15px; box-shadow: 0px 10px 20px #808080; -webkit-box-shadow: 0px 10px 20px #808080; -moz-box-shadow: 0px 10px 20px #808080; -khtml-box-shadow: 0px 10px 20px #808080; filter: progid:DXImageTransform.Microsoft.dropshadow(OffX=2, OffY=2, Color='gray', Positive='true')}
.MathJax_Menu {position: absolute; background-color: white; color: black; width: auto; padding: 5px 0px; border: 1px solid #CCCCCC; margin: 0; cursor: default; font: menu; text-align: left; text-indent: 0; text-transform: none; line-height: normal; letter-spacing: normal; word-spacing: normal; word-wrap: normal; white-space: nowrap; float: none; z-index: 201; border-radius: 5px; -webkit-border-radius: 5px; -moz-border-radius: 5px; -khtml-border-radius: 5px; box-shadow: 0px 10px 20px #808080; -webkit-box-shadow: 0px 10px 20px #808080; -moz-box-shadow: 0px 10px 20px #808080; -khtml-box-shadow: 0px 10px 20px #808080; filter: progid:DXImageTransform.Microsoft.dropshadow(OffX=2, OffY=2, Color='gray', Positive='true')}
.MathJax_MenuItem {padding: 1px 2em; background: transparent}
.MathJax_MenuArrow {position: absolute; right: .5em; color: #666666}
.MathJax_MenuActive .MathJax_MenuArrow {color: white}
.MathJax_MenuArrow.RTL {left: .5em; right: auto}
.MathJax_MenuCheck {position: absolute; left: .7em}
.MathJax_MenuCheck.RTL {right: .7em; left: auto}
.MathJax_MenuRadioCheck {position: absolute; left: .7em}
.MathJax_MenuRadioCheck.RTL {right: .7em; left: auto}
.MathJax_MenuLabel {padding: 1px 2em 3px 1.33em; font-style: italic}
.MathJax_MenuRule {border-top: 1px solid #DDDDDD; margin: 4px 3px}
.MathJax_MenuDisabled {color: GrayText}
.MathJax_MenuActive {background-color: #606872; color: white}
.MathJax_Menu_Close {position: absolute; width: 31px; height: 31px; top: -15px; left: -15px}
</style><style type="text/css">.MathJax_Preview .MJXc-math {color: inherit!important}
</style><style type="text/css">#MathJax_Zoom {position: absolute; background-color: #F0F0F0; overflow: auto; display: block; z-index: 301; padding: .5em; border: 1px solid black; margin: 0; font-weight: normal; font-style: normal; text-align: left; text-indent: 0; text-transform: none; line-height: normal; letter-spacing: normal; word-spacing: normal; word-wrap: normal; white-space: nowrap; float: none; box-shadow: 5px 5px 15px #AAAAAA; -webkit-box-shadow: 5px 5px 15px #AAAAAA; -moz-box-shadow: 5px 5px 15px #AAAAAA; -khtml-box-shadow: 5px 5px 15px #AAAAAA; filter: progid:DXImageTransform.Microsoft.dropshadow(OffX=2, OffY=2, Color='gray', Positive='true')}
#MathJax_ZoomOverlay {position: absolute; left: 0; top: 0; z-index: 300; display: inline-block; width: 100%; height: 100%; border: 0; padding: 0; margin: 0; background-color: white; opacity: 0; filter: alpha(opacity=0)}
#MathJax_ZoomFrame {position: relative; display: inline-block; height: 0; width: 0}
#MathJax_ZoomEventTrap {position: absolute; left: 0; top: 0; z-index: 302; display: inline-block; border: 0; padding: 0; margin: 0; background-color: white; opacity: 0; filter: alpha(opacity=0)}
</style><style type="text/css">.MathJax_Preview {color: #888}
#MathJax_Message {position: fixed; left: 1em; bottom: 1.5em; background-color: #E6E6E6; border: 1px solid #959595; margin: 0px; padding: 2px 8px; z-index: 102; color: black; font-size: 80%; width: auto; white-space: nowrap}
#MathJax_MSIE_Frame {position: absolute; top: 0; left: 0; width: 0px; z-index: 101; border: 0px; margin: 0px; padding: 0px}
.MathJax_Error {color: #CC0000; font-style: italic}
</style><script type="text/javascript" charset="utf-8" async="" data-requirecontext="_" data-requiremodule="nbextensions/widgets/notebook/js/extension" src="./zhangjie_files/extension.js"></script><style type="text/css">.MJXc-script {font-size: .8em}
.MJXc-right {-webkit-transform-origin: right; -moz-transform-origin: right; -ms-transform-origin: right; -o-transform-origin: right; transform-origin: right}
.MJXc-bold {font-weight: bold}
.MJXc-italic {font-style: italic}
.MJXc-scr {font-family: MathJax_Script,'Times New Roman',Times,STIXGeneral,serif}
.MJXc-frak {font-family: MathJax_Fraktur,'Times New Roman',Times,STIXGeneral,serif}
.MJXc-sf {font-family: MathJax_SansSerif,'Times New Roman',Times,STIXGeneral,serif}
.MJXc-cal {font-family: MathJax_Caligraphic,'Times New Roman',Times,STIXGeneral,serif}
.MJXc-mono {font-family: MathJax_Typewriter,'Times New Roman',Times,STIXGeneral,serif}
.MJXc-largeop {font-size: 150%}
.MJXc-largeop.MJXc-int {vertical-align: -.2em}
.MJXc-math {display: inline-block; line-height: 1.2; text-indent: 0; font-family: 'Times New Roman',Times,STIXGeneral,serif; white-space: nowrap; border-collapse: collapse}
.MJXc-display {display: block; text-align: center; margin: 1em 0}
.MJXc-math span {display: inline-block}
.MJXc-box {display: block!important; text-align: center}
.MJXc-box:after {content: " "}
.MJXc-rule {display: block!important; margin-top: .1em}
.MJXc-char {display: block!important}
.MJXc-mo {margin: 0 .15em}
.MJXc-mfrac {margin: 0 .125em; vertical-align: .25em}
.MJXc-denom {display: inline-table!important; width: 100%}
.MJXc-denom > * {display: table-row!important}
.MJXc-surd {vertical-align: top}
.MJXc-surd > * {display: block!important}
.MJXc-script-box > *  {display: table!important; height: 50%}
.MJXc-script-box > * > * {display: table-cell!important; vertical-align: top}
.MJXc-script-box > *:last-child > * {vertical-align: bottom}
.MJXc-script-box > * > * > * {display: block!important}
.MJXc-mphantom {visibility: hidden}
.MJXc-munderover {display: inline-table!important}
.MJXc-over {display: inline-block!important; text-align: center}
.MJXc-over > * {display: block!important}
.MJXc-munderover > * {display: table-row!important}
.MJXc-mtable {vertical-align: .25em; margin: 0 .125em}
.MJXc-mtable > * {display: inline-table!important; vertical-align: middle}
.MJXc-mtr {display: table-row!important}
.MJXc-mtd {display: table-cell!important; text-align: center; padding: .5em 0 0 .5em}
.MJXc-mtr > .MJXc-mtd:first-child {padding-left: 0}
.MJXc-mtr:first-child > .MJXc-mtd {padding-top: 0}
.MJXc-mlabeledtr {display: table-row!important}
.MJXc-mlabeledtr > .MJXc-mtd:first-child {padding-left: 0}
.MJXc-mlabeledtr:first-child > .MJXc-mtd {padding-top: 0}
.MJXc-merror {background-color: #FFFF88; color: #CC0000; border: 1px solid #CC0000; padding: 1px 3px; font-style: normal; font-size: 90%}
.MJXc-scale0 {-webkit-transform: scaleX(.0); -moz-transform: scaleX(.0); -ms-transform: scaleX(.0); -o-transform: scaleX(.0); transform: scaleX(.0)}
.MJXc-scale1 {-webkit-transform: scaleX(.1); -moz-transform: scaleX(.1); -ms-transform: scaleX(.1); -o-transform: scaleX(.1); transform: scaleX(.1)}
.MJXc-scale2 {-webkit-transform: scaleX(.2); -moz-transform: scaleX(.2); -ms-transform: scaleX(.2); -o-transform: scaleX(.2); transform: scaleX(.2)}
.MJXc-scale3 {-webkit-transform: scaleX(.3); -moz-transform: scaleX(.3); -ms-transform: scaleX(.3); -o-transform: scaleX(.3); transform: scaleX(.3)}
.MJXc-scale4 {-webkit-transform: scaleX(.4); -moz-transform: scaleX(.4); -ms-transform: scaleX(.4); -o-transform: scaleX(.4); transform: scaleX(.4)}
.MJXc-scale5 {-webkit-transform: scaleX(.5); -moz-transform: scaleX(.5); -ms-transform: scaleX(.5); -o-transform: scaleX(.5); transform: scaleX(.5)}
.MJXc-scale6 {-webkit-transform: scaleX(.6); -moz-transform: scaleX(.6); -ms-transform: scaleX(.6); -o-transform: scaleX(.6); transform: scaleX(.6)}
.MJXc-scale7 {-webkit-transform: scaleX(.7); -moz-transform: scaleX(.7); -ms-transform: scaleX(.7); -o-transform: scaleX(.7); transform: scaleX(.7)}
.MJXc-scale8 {-webkit-transform: scaleX(.8); -moz-transform: scaleX(.8); -ms-transform: scaleX(.8); -o-transform: scaleX(.8); transform: scaleX(.8)}
.MJXc-scale9 {-webkit-transform: scaleX(.9); -moz-transform: scaleX(.9); -ms-transform: scaleX(.9); -o-transform: scaleX(.9); transform: scaleX(.9)}
.MathJax_CHTML .noError {vertical-align: ; font-size: 90%; text-align: left; color: black; padding: 1px 3px; border: 1px solid}
</style><style type="text/css">.MathJax_Display {text-align: center; margin: 0; position: relative; display: block!important; text-indent: 0; max-width: none; max-height: none; min-width: 0; min-height: 0; width: 100%}
.MathJax .merror {background-color: #FFFF88; color: #CC0000; border: 1px solid #CC0000; padding: 1px 3px; font-style: normal; font-size: 90%}
.MathJax .MJX-monospace {font-family: monospace}
.MathJax .MJX-sans-serif {font-family: sans-serif}
#MathJax_Tooltip {background-color: InfoBackground; color: InfoText; border: 1px solid black; box-shadow: 2px 2px 5px #AAAAAA; -webkit-box-shadow: 2px 2px 5px #AAAAAA; -moz-box-shadow: 2px 2px 5px #AAAAAA; -khtml-box-shadow: 2px 2px 5px #AAAAAA; filter: progid:DXImageTransform.Microsoft.dropshadow(OffX=2, OffY=2, Color='gray', Positive='true'); padding: 3px 4px; z-index: 401; position: absolute; left: 0; top: 0; width: auto; height: auto; display: none}
.MathJax {display: inline; font-style: normal; font-weight: normal; line-height: normal; font-size: 100%; font-size-adjust: none; text-indent: 0; text-align: left; text-transform: none; letter-spacing: normal; word-spacing: normal; word-wrap: normal; white-space: nowrap; float: none; direction: ltr; max-width: none; max-height: none; min-width: 0; min-height: 0; border: 0; padding: 0; margin: 0}
.MathJax img, .MathJax nobr, .MathJax a {border: 0; padding: 0; margin: 0; max-width: none; max-height: none; min-width: 0; min-height: 0; vertical-align: 0; line-height: normal; text-decoration: none}
img.MathJax_strut {border: 0!important; padding: 0!important; margin: 0!important; vertical-align: 0!important}
.MathJax span {display: inline; position: static; border: 0; padding: 0; margin: 0; vertical-align: 0; line-height: normal; text-decoration: none}
.MathJax nobr {white-space: nowrap!important}
.MathJax img {display: inline!important; float: none!important}
.MathJax * {transition: none; -webkit-transition: none; -moz-transition: none; -ms-transition: none; -o-transition: none}
.MathJax_Processing {visibility: hidden; position: fixed; width: 0; height: 0; overflow: hidden}
.MathJax_Processed {display: none!important}
.MathJax_ExBox {display: block!important; overflow: hidden; width: 1px; height: 60ex; min-height: 0; max-height: none}
.MathJax .MathJax_EmBox {display: block!important; overflow: hidden; width: 1px; height: 60em; min-height: 0; max-height: none}
.MathJax .MathJax_HitBox {cursor: text; background: white; opacity: 0; filter: alpha(opacity=0)}
.MathJax .MathJax_HitBox * {filter: none; opacity: 1; background: transparent}
#MathJax_Tooltip * {filter: none; opacity: 1; background: transparent}
@font-face {font-family: MathJax_Blank; src: url('about:blank')}
.MathJax .noError {vertical-align: ; font-size: 90%; text-align: left; color: black; padding: 1px 3px; border: 1px solid}
</style><script type="text/javascript" charset="utf-8" async="" data-requirecontext="_" data-requiremodule="nbextensions/widgets/widgets/js/init" src="./zhangjie_files/init.js"></script><script type="text/javascript" charset="utf-8" async="" data-requirecontext="_" data-requiremodule="nbextensions/widgets/notebook/js/widgetarea" src="./zhangjie_files/widgetarea.js"></script><script type="text/javascript" charset="utf-8" async="" data-requirecontext="_" data-requiremodule="nbextensions/widgets/widgets/js/manager" src="./zhangjie_files/manager.js"></script><script type="text/javascript" charset="utf-8" async="" data-requirecontext="_" data-requiremodule="nbextensions/widgets/widgets/js/widget" src="./zhangjie_files/widget.js"></script><script type="text/javascript" charset="utf-8" async="" data-requirecontext="_" data-requiremodule="nbextensions/widgets/widgets/js/widget_link" src="./zhangjie_files/widget_link.js"></script><script type="text/javascript" charset="utf-8" async="" data-requirecontext="_" data-requiremodule="nbextensions/widgets/widgets/js/widget_bool" src="./zhangjie_files/widget_bool.js"></script><script type="text/javascript" charset="utf-8" async="" data-requirecontext="_" data-requiremodule="nbextensions/widgets/widgets/js/widget_button" src="./zhangjie_files/widget_button.js"></script><script type="text/javascript" charset="utf-8" async="" data-requirecontext="_" data-requiremodule="nbextensions/widgets/widgets/js/widget_box" src="./zhangjie_files/widget_box.js"></script><script type="text/javascript" charset="utf-8" async="" data-requirecontext="_" data-requiremodule="nbextensions/widgets/widgets/js/widget_float" src="./zhangjie_files/widget_float.js"></script><script type="text/javascript" charset="utf-8" async="" data-requirecontext="_" data-requiremodule="nbextensions/widgets/widgets/js/widget_image" src="./zhangjie_files/widget_image.js"></script><script type="text/javascript" charset="utf-8" async="" data-requirecontext="_" data-requiremodule="nbextensions/widgets/widgets/js/widget_int" src="./zhangjie_files/widget_int.js"></script><script type="text/javascript" charset="utf-8" async="" data-requirecontext="_" data-requiremodule="nbextensions/widgets/widgets/js/widget_color" src="./zhangjie_files/widget_color.js"></script><script type="text/javascript" charset="utf-8" async="" data-requirecontext="_" data-requiremodule="nbextensions/widgets/widgets/js/widget_output" src="./zhangjie_files/widget_output.js"></script><script type="text/javascript" charset="utf-8" async="" data-requirecontext="_" data-requiremodule="nbextensions/widgets/widgets/js/widget_selection" src="./zhangjie_files/widget_selection.js"></script><script type="text/javascript" charset="utf-8" async="" data-requirecontext="_" data-requiremodule="nbextensions/widgets/widgets/js/widget_selectioncontainer" src="./zhangjie_files/widget_selectioncontainer.js"></script><script type="text/javascript" charset="utf-8" async="" data-requirecontext="_" data-requiremodule="nbextensions/widgets/widgets/js/widget_string" src="./zhangjie_files/widget_string.js"></script><script type="text/javascript" charset="utf-8" async="" data-requirecontext="_" data-requiremodule="nbextensions/widgets/widgets/js/widget_controller" src="./zhangjie_files/widget_controller.js"></script><script type="text/javascript" charset="utf-8" async="" data-requirecontext="_" data-requiremodule="backbone" src="./zhangjie_files/backbone-min.js"></script><link rel="stylesheet" type="text/css" href="./zhangjie_files/widgets.min.css"></head>

<body class="notebook_app  command_mode" data-base-url="/" data-ws-url="" data-notebook-name="Untitled.ipynb" data-notebook-path="Untitled.ipynb" style=""><div style="visibility: hidden; overflow: hidden; position: absolute; top: 0px; height: 1px; width: auto; padding: 0px; border: 0px; margin: 0px; text-align: left; text-indent: 0px; text-transform: none; line-height: normal; letter-spacing: normal; word-spacing: normal;"><div id="MathJax_Hidden"></div></div><div id="MathJax_Message" style="display: none;"></div>

<noscript>
    &lt;div id='noscript'&gt;
      Jupyter Notebook requires JavaScript.&lt;br&gt;
      Please enable it to proceed.
  &lt;/div&gt;
</noscript>

<div id="header" style="display: block;">
  <div id="header-container" class="container">
  <div id="ipython_notebook" class="nav navbar-brand pull-left"><a href="http://localhost:8000/tree" title="dashboard"><img src="./zhangjie_files/logo.png" alt="Jupyter Notebook"></a></div>

  
  
  

    <span id="login_widget">
      
    </span>

  

  

  


<span id="save_widget" class="pull-left save_widget">
    <span id="notebook_name" class="filename">Untitled</span>
    <span class="checkpoint_status" title="Sat, Sep 10, 2016 2:05 AM">Last Checkpoint: 5 minutes ago</span>
    <span class="autosave_status">(autosaved)</span>
</span>

<span id="kernel_logo_widget">
  
  <img class="current_kernel_logo" src="./zhangjie_files/logo-64x64.png" style="display: inline;">
  
</span>


  </div>
  <div class="header-bar"></div>

  
<div id="menubar-container" class="container">
<div id="menubar">
    <div id="menus" class="navbar navbar-default" role="navigation">
        <div class="container-fluid">
            <button type="button" class="btn btn-default navbar-btn navbar-toggle" data-toggle="collapse" data-target=".navbar-collapse">
              <i class="fa fa-bars"></i>
              <span class="navbar-text">Menu</span>
            </button>
            <p id="kernel_indicator" class="navbar-text indicator_area">
              <span class="kernel_indicator_name">SageMath 7.2</span>
              <i id="kernel_indicator_icon" class="kernel_idle_icon" title="Kernel Idle"></i>
            </p>
            <i id="readonly-indicator" class="navbar-text" title="This notebook is read-only" style="display: none;">
                <span class="fa-stack">
                    <i class="fa fa-save fa-stack-1x"></i>
                    <i class="fa fa-ban fa-stack-2x text-danger"></i>
                </span>
            </i>
            <i id="modal_indicator" class="navbar-text modal_indicator" title="Command Mode"></i>
            <span id="notification_area"><div id="notification_kernel" class="notification_widget btn btn-xs navbar-btn undefined info" style="display: none;"><span></span></div><div id="notification_notebook" class="notification_widget btn btn-xs navbar-btn" style="display: none;"><span></span></div></span>
            <div class="navbar-collapse collapse">
              <ul class="nav navbar-nav">
                <li class="dropdown"><a href="http://localhost:8000/notebooks/Untitled.ipynb#" class="dropdown-toggle" data-toggle="dropdown">File</a>
                    <ul id="file_menu" class="dropdown-menu">
                        <li id="new_notebook" class="dropdown-submenu">
                            <a href="http://localhost:8000/notebooks/Untitled.ipynb#">New Notebook</a>
                            <ul class="dropdown-menu" id="menu-new-notebook-submenu"><li id="new-notebook-submenu-sagemath"><a href="http://localhost:8000/notebooks/Untitled.ipynb#">SageMath 7.2</a></li><li class="divider"></li><li id="new-notebook-submenu-python2"><a href="http://localhost:8000/notebooks/Untitled.ipynb#">Python 2</a></li></ul>
                        </li>
                        <li id="open_notebook" title="Opens a new window with the Dashboard view">
                            <a href="http://localhost:8000/notebooks/Untitled.ipynb#">Open...</a></li>
                        <!-- <hr/> -->
                        <li class="divider"></li>
                        <li id="copy_notebook" title="Open a copy of this notebook&#39;s contents and start a new kernel">
                            <a href="http://localhost:8000/notebooks/Untitled.ipynb#">Make a Copy...</a></li>
                        <li id="rename_notebook"><a href="http://localhost:8000/notebooks/Untitled.ipynb#">Rename...</a></li>
                        <li id="save_checkpoint"><a href="http://localhost:8000/notebooks/Untitled.ipynb#">Save and Checkpoint</a></li>
                        <!-- <hr/> -->
                        <li class="divider"></li>
                        <li id="restore_checkpoint" class="dropdown-submenu"><a href="http://localhost:8000/notebooks/Untitled.ipynb#">Revert to Checkpoint</a>
                          <ul class="dropdown-menu"><li><a href="http://localhost:8000/notebooks/Untitled.ipynb#">Saturday, September 10, 2016 2:05 AM</a></li></ul>
                        </li>
                        <li class="divider"></li>
                        <li id="print_preview"><a href="http://localhost:8000/notebooks/Untitled.ipynb#">Print Preview</a></li>
                        <li class="dropdown-submenu"><a href="http://localhost:8000/notebooks/Untitled.ipynb#">Download as</a>
                            <ul class="dropdown-menu">
                                <li id="download_ipynb"><a href="http://localhost:8000/notebooks/Untitled.ipynb#">Notebook (.ipynb)</a></li>
                                <li id="download_script"><a href="http://localhost:8000/notebooks/Untitled.ipynb#">Python (.py)</a></li>
                                <li id="download_html"><a href="http://localhost:8000/notebooks/Untitled.ipynb#">HTML (.html)</a></li>
                                <li id="download_markdown"><a href="http://localhost:8000/notebooks/Untitled.ipynb#">Markdown (.md)</a></li>
                                <li id="download_rst"><a href="http://localhost:8000/notebooks/Untitled.ipynb#">reST (.rst)</a></li>
                                <li id="download_pdf"><a href="http://localhost:8000/notebooks/Untitled.ipynb#">PDF via LaTeX (.pdf)</a></li>
                            </ul>
                        </li>
                        <li class="divider"></li>
                        <li id="trust_notebook" title="Trust the output of this notebook" class="disabled">
                            <a href="http://localhost:8000/notebooks/Untitled.ipynb#">Trusted Notebook</a></li>
                        <li class="divider"></li>
                        <li id="kill_and_exit" title="Shutdown this notebook&#39;s kernel, and close this window">
                            <a href="http://localhost:8000/notebooks/Untitled.ipynb#">Close and Halt</a></li>
                    </ul>
                </li>
                <li class="dropdown"><a href="http://localhost:8000/notebooks/Untitled.ipynb#" class="dropdown-toggle" data-toggle="dropdown">Edit</a>
                    <ul id="edit_menu" class="dropdown-menu">
                        <li id="cut_cell"><a href="http://localhost:8000/notebooks/Untitled.ipynb#">Cut Cells</a></li>
                        <li id="copy_cell"><a href="http://localhost:8000/notebooks/Untitled.ipynb#">Copy Cells</a></li>
                        <li id="paste_cell_above" class="disabled"><a href="http://localhost:8000/notebooks/Untitled.ipynb#">Paste Cells Above</a></li>
                        <li id="paste_cell_below" class="disabled"><a href="http://localhost:8000/notebooks/Untitled.ipynb#">Paste Cells Below</a></li>
                        <li id="paste_cell_replace" class="disabled"><a href="http://localhost:8000/notebooks/Untitled.ipynb#">Paste Cells &amp; Replace</a></li>
                        <li id="delete_cell"><a href="http://localhost:8000/notebooks/Untitled.ipynb#">Delete Cells</a></li>
                        <li id="undelete_cell" class="disabled"><a href="http://localhost:8000/notebooks/Untitled.ipynb#">Undo Delete Cells</a></li>
                        <li class="divider"></li>
                        <li id="split_cell"><a href="http://localhost:8000/notebooks/Untitled.ipynb#">Split Cell</a></li>
                        <li id="merge_cell_above"><a href="http://localhost:8000/notebooks/Untitled.ipynb#">Merge Cell Above</a></li>
                        <li id="merge_cell_below"><a href="http://localhost:8000/notebooks/Untitled.ipynb#">Merge Cell Below</a></li>
                        <li class="divider"></li>
                        <li id="move_cell_up"><a href="http://localhost:8000/notebooks/Untitled.ipynb#">Move Cell Up</a></li>
                        <li id="move_cell_down"><a href="http://localhost:8000/notebooks/Untitled.ipynb#">Move Cell Down</a></li>
                        <li class="divider"></li>
                        <li id="edit_nb_metadata"><a href="http://localhost:8000/notebooks/Untitled.ipynb#">Edit Notebook Metadata</a></li>
                        <li class="divider"></li>
                        <li id="find_and_replace"><a href="http://localhost:8000/notebooks/Untitled.ipynb#"> Find and Replace </a></li>
                    </ul>
                </li>
                <li class="dropdown"><a href="http://localhost:8000/notebooks/Untitled.ipynb#" class="dropdown-toggle" data-toggle="dropdown">View</a>
                    <ul id="view_menu" class="dropdown-menu">
                        <li id="toggle_header" title="Show/Hide the logo and notebook title (above menu bar)">
                            <a href="http://localhost:8000/notebooks/Untitled.ipynb#">Toggle Header</a></li>
                        <li id="toggle_toolbar" title="Show/Hide the action icons (below menu bar)">
                            <a href="http://localhost:8000/notebooks/Untitled.ipynb#">Toggle Toolbar</a></li>
                        <li id="menu-cell-toolbar" class="dropdown-submenu">
                            <a href="http://localhost:8000/notebooks/Untitled.ipynb#">Cell Toolbar</a>
                            <ul class="dropdown-menu" id="menu-cell-toolbar-submenu"><li data-name="None"><a href="http://localhost:8000/notebooks/Untitled.ipynb#">None</a></li><li data-name="Edit%20Metadata"><a href="http://localhost:8000/notebooks/Untitled.ipynb#">Edit Metadata</a></li><li data-name="Raw%20Cell%20Format"><a href="http://localhost:8000/notebooks/Untitled.ipynb#">Raw Cell Format</a></li><li data-name="Slideshow"><a href="http://localhost:8000/notebooks/Untitled.ipynb#">Slideshow</a></li></ul>
                        </li>
                    </ul>
                </li>
                <li class="dropdown"><a href="http://localhost:8000/notebooks/Untitled.ipynb#" class="dropdown-toggle" data-toggle="dropdown">Insert</a>
                    <ul id="insert_menu" class="dropdown-menu">
                        <li id="insert_cell_above" title="Insert an empty Code cell above the currently active cell">
                            <a href="http://localhost:8000/notebooks/Untitled.ipynb#">Insert Cell Above</a></li>
                        <li id="insert_cell_below" title="Insert an empty Code cell below the currently active cell">
                            <a href="http://localhost:8000/notebooks/Untitled.ipynb#">Insert Cell Below</a></li>
                    </ul>
                </li>
                <li class="dropdown"><a href="http://localhost:8000/notebooks/Untitled.ipynb#" class="dropdown-toggle" data-toggle="dropdown">Cell</a>
                    <ul id="cell_menu" class="dropdown-menu">
                        <li id="run_cell" title="Run this cell, and move cursor to the next one">
                            <a href="http://localhost:8000/notebooks/Untitled.ipynb#">Run Cells</a></li>
                        <li id="run_cell_select_below" title="Run this cell, select below">
                            <a href="http://localhost:8000/notebooks/Untitled.ipynb#">Run Cells and Select Below</a></li>
                        <li id="run_cell_insert_below" title="Run this cell, insert below">
                            <a href="http://localhost:8000/notebooks/Untitled.ipynb#">Run Cells and Insert Below</a></li>
                        <li id="run_all_cells" title="Run all cells in the notebook">
                            <a href="http://localhost:8000/notebooks/Untitled.ipynb#">Run All</a></li>
                        <li id="run_all_cells_above" title="Run all cells above (but not including) this cell">
                            <a href="http://localhost:8000/notebooks/Untitled.ipynb#">Run All Above</a></li>
                        <li id="run_all_cells_below" title="Run this cell and all cells below it">
                            <a href="http://localhost:8000/notebooks/Untitled.ipynb#">Run All Below</a></li>
                        <li class="divider"></li>
                        <li id="change_cell_type" class="dropdown-submenu" title="All cells in the notebook have a cell type. By default, new cells are created as &#39;Code&#39; cells">
                            <a href="http://localhost:8000/notebooks/Untitled.ipynb#">Cell Type</a>
                            <ul class="dropdown-menu">
                              <li id="to_code" title="Contents will be sent to the kernel for execution, and output will display in the footer of cell">
                                  <a href="http://localhost:8000/notebooks/Untitled.ipynb#">Code</a></li>
                              <li id="to_markdown" title="Contents will be rendered as HTML and serve as explanatory text">
                                  <a href="http://localhost:8000/notebooks/Untitled.ipynb#">Markdown</a></li>
                              <li id="to_raw" title="Contents will pass through nbconvert unmodified">
                                  <a href="http://localhost:8000/notebooks/Untitled.ipynb#">Raw NBConvert</a></li>
                            </ul>
                        </li>
                        <li class="divider"></li>
                        <li id="current_outputs" class="dropdown-submenu"><a href="http://localhost:8000/notebooks/Untitled.ipynb#">Current Outputs</a>
                            <ul class="dropdown-menu">
                                <li id="toggle_current_output" title="Hide/Show the output of the current cell">
                                    <a href="http://localhost:8000/notebooks/Untitled.ipynb#">Toggle</a>
                                </li>
                                <li id="toggle_current_output_scroll" title="Scroll the output of the current cell">
                                    <a href="http://localhost:8000/notebooks/Untitled.ipynb#">Toggle Scrolling</a>
                                </li>
                                <li id="clear_current_output" title="Clear the output of the current cell">
                                    <a href="http://localhost:8000/notebooks/Untitled.ipynb#">Clear</a>
                                </li>
                            </ul>
                        </li>
                        <li id="all_outputs" class="dropdown-submenu"><a href="http://localhost:8000/notebooks/Untitled.ipynb#">All Output</a>
                            <ul class="dropdown-menu">
                                <li id="toggle_all_output" title="Hide/Show the output of all cells">
                                    <a href="http://localhost:8000/notebooks/Untitled.ipynb#">Toggle</a>
                                </li>
                                <li id="toggle_all_output_scroll" title="Scroll the output of all cells">
                                    <a href="http://localhost:8000/notebooks/Untitled.ipynb#">Toggle Scrolling</a>
                                </li>
                                <li id="clear_all_output" title="Clear the output of all cells">
                                    <a href="http://localhost:8000/notebooks/Untitled.ipynb#">Clear</a>
                                </li>
                            </ul>
                        </li>
                    </ul>
                </li>
                <li class="dropdown"><a href="http://localhost:8000/notebooks/Untitled.ipynb#" class="dropdown-toggle" data-toggle="dropdown">Kernel</a>
                    <ul id="kernel_menu" class="dropdown-menu">
                        <li id="int_kernel" title="Send KeyboardInterrupt (CTRL-C) to the Kernel">
                            <a href="http://localhost:8000/notebooks/Untitled.ipynb#">Interrupt</a>
                        </li>
                        <li id="restart_kernel" title="Restart the Kernel">
                            <a href="http://localhost:8000/notebooks/Untitled.ipynb#">Restart</a>
                        </li>
                        <li id="restart_clear_output" title="Restart the Kernel and clear all output">
                            <a href="http://localhost:8000/notebooks/Untitled.ipynb#">Restart &amp; Clear Output</a>
                        </li>
                        <li id="restart_run_all" title="Restart the Kernel and re-run the notebook">
                            <a href="http://localhost:8000/notebooks/Untitled.ipynb#">Restart &amp; Run All</a>
                        </li>
                        <li id="reconnect_kernel" title="Reconnect to the Kernel">
                            <a href="http://localhost:8000/notebooks/Untitled.ipynb#">Reconnect</a>
                        </li>
                        <li class="divider"></li>
                        <li id="menu-change-kernel" class="dropdown-submenu">
                            <a href="http://localhost:8000/notebooks/Untitled.ipynb#">Change kernel</a>
                            <ul class="dropdown-menu" id="menu-change-kernel-submenu"><li id="kernel-submenu-python2"><a href="http://localhost:8000/notebooks/Untitled.ipynb#">Python 2</a></li><li id="kernel-submenu-sagemath"><a href="http://localhost:8000/notebooks/Untitled.ipynb#">SageMath 7.2</a></li></ul>
                        </li>
                    </ul>
                </li>
                <li class="dropdown"><a href="http://localhost:8000/notebooks/Untitled.ipynb#" class="dropdown-toggle" data-toggle="dropdown">Help</a>
                    <ul id="help_menu" class="dropdown-menu">
                        
                        <li id="notebook_tour" title="A quick tour of the notebook user interface"><a href="http://localhost:8000/notebooks/Untitled.ipynb#">User Interface Tour</a></li>
                        <li id="keyboard_shortcuts" title="Opens a tooltip with all keyboard shortcuts"><a href="http://localhost:8000/notebooks/Untitled.ipynb#">Keyboard Shortcuts</a></li>
                        <li class="divider"></li>
                        

                        
                            
                                <li><a rel="noreferrer" href="http://nbviewer.ipython.org/github/ipython/ipython/blob/3.x/examples/Notebook/Index.ipynb" target="_blank" title="Opens in a new window">
                                
                                    <i class="fa fa-external-link menu-icon pull-right"></i>
                                

                                Notebook Help
                                </a></li>
                            
                                <li><a rel="noreferrer" href="https://help.github.com/articles/markdown-basics/" target="_blank" title="Opens in a new window">
                                
                                    <i class="fa fa-external-link menu-icon pull-right"></i>
                                

                                Markdown
                                </a></li>
                            
                            
                        
                        <li id="kernel-help-links" class="divider"></li><li><a target="_blank" title="Opens in a new window" href="http://localhost:8000/kernelspecs/sagemath/doc/index.html"><i class="fa fa-external-link menu-icon pull-right"></i><span>Sage Documentation</span></a></li><li><a target="_blank" title="Opens in a new window" href="http://localhost:8000/kernelspecs/sagemath/doc/tutorial/index.html"><i class="fa fa-external-link menu-icon pull-right"></i><span>Sage Tutorial</span></a></li><li><a target="_blank" title="Opens in a new window" href="http://localhost:8000/kernelspecs/sagemath/doc/thematic_tutorials/index.html"><i class="fa fa-external-link menu-icon pull-right"></i><span>Thematic Tutorials</span></a></li><li><a target="_blank" title="Opens in a new window" href="http://localhost:8000/kernelspecs/sagemath/doc/faq/index.html"><i class="fa fa-external-link menu-icon pull-right"></i><span>FAQs</span></a></li><li><a target="_blank" title="Opens in a new window" href="http://localhost:8000/kernelspecs/sagemath/doc/prep/index.html"><i class="fa fa-external-link menu-icon pull-right"></i><span>PREP Tutorials</span></a></li><li><a target="_blank" title="Opens in a new window" href="http://localhost:8000/kernelspecs/sagemath/doc/reference/index.html"><i class="fa fa-external-link menu-icon pull-right"></i><span>Sage Reference</span></a></li><li><a target="_blank" title="Opens in a new window" href="http://localhost:8000/kernelspecs/sagemath/doc/developer/index.html"><i class="fa fa-external-link menu-icon pull-right"></i><span>Developer's Guide</span></a></li><li><a target="_blank" title="Opens in a new window" href="http://docs.python.org/2.7"><i class="fa fa-external-link menu-icon pull-right"></i><span>Python</span></a></li><li><a target="_blank" title="Opens in a new window" href="http://ipython.org/documentation.html"><i class="fa fa-external-link menu-icon pull-right"></i><span>IPython</span></a></li><li><a target="_blank" title="Opens in a new window" href="http://www.singular.uni-kl.de/Manual/latest/index.htm"><i class="fa fa-external-link menu-icon pull-right"></i><span>Singular</span></a></li><li><a target="_blank" title="Opens in a new window" href="http://gap-system.org/Manuals/doc/ref/chap0.html"><i class="fa fa-external-link menu-icon pull-right"></i><span>GAP</span></a></li><li><a target="_blank" title="Opens in a new window" href="http://docs.scipy.org/doc/numpy/reference/"><i class="fa fa-external-link menu-icon pull-right"></i><span>NumPy</span></a></li><li><a target="_blank" title="Opens in a new window" href="http://docs.scipy.org/doc/scipy/reference/"><i class="fa fa-external-link menu-icon pull-right"></i><span>SciPy</span></a></li><li><a target="_blank" title="Opens in a new window" href="http://docs.sympy.org/latest/index.html"><i class="fa fa-external-link menu-icon pull-right"></i><span>SymPy</span></a></li><li><a target="_blank" title="Opens in a new window" href="http://matplotlib.org/contents.html"><i class="fa fa-external-link menu-icon pull-right"></i><span>Matplotlib</span></a></li><li><a target="_blank" title="Opens in a new window" href="http://help.github.com/articles/github-flavored-markdown"><i class="fa fa-external-link menu-icon pull-right"></i><span>Markdown</span></a></li><li class="divider"></li>
                        <li title="About Jupyter Notebook"><a id="notebook_about" href="http://localhost:8000/notebooks/Untitled.ipynb#">About</a></li>
                        
                    </ul>
                </li>
              </ul>
            </div>
        </div>
    </div>
</div>

<div id="maintoolbar" class="navbar">
  <div class="toolbar-inner navbar-inner navbar-nobg">
    <div id="maintoolbar-container" class="container toolbar"><div class="btn-group" id="save-notbook"><button class="btn btn-default" title="Save and Checkpoint" data-jupyter-action="jupyter-notebook:save-notebook"><i class="fa-save fa"></i></button></div><div class="btn-group" id="insert_above_below"><button class="btn btn-default" title="insert cell below" data-jupyter-action="jupyter-notebook:insert-cell-below"><i class="fa-plus fa"></i></button></div><div class="btn-group" id="cut_copy_paste"><button class="btn btn-default" title="cut selected cells" data-jupyter-action="jupyter-notebook:cut-cell"><i class="fa-cut fa"></i></button><button class="btn btn-default" title="copy selected cells" data-jupyter-action="jupyter-notebook:copy-cell"><i class="fa-copy fa"></i></button><button class="btn btn-default" title="paste cells below" data-jupyter-action="jupyter-notebook:paste-cell-below"><i class="fa-paste fa"></i></button></div><div class="btn-group" id="move_up_down"><button class="btn btn-default" title="move selected cells up" data-jupyter-action="jupyter-notebook:move-cell-up"><i class="fa-arrow-up fa"></i></button><button class="btn btn-default" title="move selected cells down" data-jupyter-action="jupyter-notebook:move-cell-down"><i class="fa-arrow-down fa"></i></button></div><div class="btn-group" id="run_int"><button class="btn btn-default" title="run cell, select below" data-jupyter-action="jupyter-notebook:run-cell-and-select-next"><i class="fa-step-forward fa"></i></button><button class="btn btn-default" title="interrupt kernel" data-jupyter-action="jupyter-notebook:interrupt-kernel"><i class="fa-stop fa"></i></button><button class="btn btn-default" title="restart the kernel (with dialog)" data-jupyter-action="jupyter-notebook:confirm-restart-kernel"><i class="fa-repeat fa"></i></button></div><select id="cell_type" class="form-control select-xs"><option value="code">Code</option><option value="markdown">Markdown</option><option value="raw">Raw NBConvert</option><option value="heading">Heading</option><option value="multiselect" disabled="disabled" style="display: none;">-</option></select><div class="btn-group"><button class="btn btn-default" title="open the command palette" data-jupyter-action="jupyter-notebook:show-command-palette"><i class="fa-keyboard-o fa"></i></button></div><div class="btn-group"><button title="show new celltoolbar selector location" class="btn btn-default">CellToolbar</button></div></div>
  </div>
</div>
</div>

<div class="lower-header-bar"></div>

</div>

<div id="site" style="height: 425px; display: block;">


<div id="ipython-main-app">
    <div id="notebook_panel">
        <div id="notebook" tabindex="-1"><div class="container" id="notebook-container"><div class="cell text_cell rendered selected" tabindex="2"><div class="prompt input_prompt"></div><div class="inner_cell"><div class="ctb_hideshow"><div class="celltoolbar"></div></div><div class="input_area"><div class="CodeMirror cm-s-default CodeMirror-wrap"><div style="overflow: hidden; position: relative; width: 3px; height: 0px; top: 5.59375px; left: 5.59375px;"><textarea autocorrect="off" autocapitalize="off" spellcheck="false" tabindex="0" style="position: absolute; padding: 0px; width: 1000px; height: 1em; outline: none;"></textarea></div><div class="CodeMirror-vscrollbar" cm-not-content="true" style="bottom: 0px;"><div style="min-width: 1px; height: 0px;"></div></div><div class="CodeMirror-hscrollbar" cm-not-content="true"><div style="height: 100%; min-height: 1px; width: 0px;"></div></div><div class="CodeMirror-scrollbar-filler" cm-not-content="true"></div><div class="CodeMirror-gutter-filler" cm-not-content="true"></div><div class="CodeMirror-scroll" tabindex="-1"><div class="CodeMirror-sizer" style="margin-left: 0px; padding-right: 0px; padding-bottom: 0px; margin-bottom: -15px; border-right-width: 15px; min-height: 1439px;"><div style="position: relative; top: 0px;"><div class="CodeMirror-lines"><div style="position: relative; outline: none;"><div class="CodeMirror-measure"></div><div class="CodeMirror-measure"></div><div style="position: relative; z-index: 1;"></div><div class="CodeMirror-cursors"><div class="CodeMirror-cursor" style="left: 0px; top: 0px; height: 17px;">&nbsp;</div></div><div class="CodeMirror-code" style=""><pre class=" CodeMirror-line "><span style="padding-right: 0.1px;">P27——3</span></pre><pre class=" CodeMirror-line "><span style="padding-right: 0.1px;">(7)y=x^2+1,y'=y^2-(x^2+1)y=2x</span></pre><pre class=" CodeMirror-line "><span style="padding-right: 0.1px;">  将y=x^2带入方程，得</span></pre><pre class=" CodeMirror-line "><span style="padding-right: 0.1px;">  y'=2x</span></pre><pre class=" CodeMirror-line "><span style="padding-right: 0.1px;">  x^4+2x+1-(x^4+2x^2+1)+2x=2x</span></pre><pre class=" CodeMirror-line "><span style="padding-right: 0.1px;">(8)y=-g(x)/f(x),y'=y^2f'(x)/g(x)-g'(x)/f(x)</span></pre><pre class=" CodeMirror-line "><span style="padding-right: 0.1px;">  将y=-g(x)/f(x)带入方程，得</span></pre><pre class=" CodeMirror-line "><span style="padding-right: 0.1px;">  y'=-{g'(x)f(x)-f'(x)g(x)}/f^2(x)</span></pre><pre class=" CodeMirror-line "><span style="padding-right: 0.1px;"><span cm-text="">​</span></span></pre><pre class=" CodeMirror-line "><span style="padding-right: 0.1px;"><span cm-text="">​</span></span></pre><pre class=" CodeMirror-line "><span style="padding-right: 0.1px;">P27——4</span></pre><pre class=" CodeMirror-line "><span style="padding-right: 0.1px;">  dy/dx=2x</span></pre><pre class=" CodeMirror-line "><span style="padding-right: 0.1px;">(1)dy=2xdx</span></pre><pre class=" CodeMirror-line "><span style="padding-right: 0.1px;"> &nbsp; y=x^2+C</span></pre><pre class=" CodeMirror-line "><span style="padding-right: 0.1px;">(2)4=1+C</span></pre><pre class=" CodeMirror-line "><span style="padding-right: 0.1px;"> &nbsp; C=3</span></pre><pre class=" CodeMirror-line "><span style="padding-right: 0.1px;">(3)2x+3=x^2+C</span></pre><pre class=" CodeMirror-line "><span style="padding-right: 0.1px;"> &nbsp; x^2-2x+C-3=0</span></pre><pre class=" CodeMirror-line "><span style="padding-right: 0.1px;">(4)求(x^2+C）在0-1的积分，得</span></pre><pre class=" CodeMirror-line "><span style="padding-right: 0.1px;">  1/3+C=2</span></pre><pre class=" CodeMirror-line "><span style="padding-right: 0.1px;">  C=5</span></pre><pre class=" CodeMirror-line "><span style="padding-right: 0.1px;"><span cm-text="">​</span></span></pre><pre class=" CodeMirror-line "><span style="padding-right: 0.1px;"><span cm-text="">​</span></span></pre><pre class=" CodeMirror-line "><span style="padding-right: 0.1px;">P42——7</span></pre><pre class=" CodeMirror-line "><span style="padding-right: 0.1px;">(6)xd(y)/d(x)-y+√(x^2+y^2)=0</span></pre><pre class=" CodeMirror-line "><span style="padding-right: 0.1px;">  dy/dx=y/x-√(1-y^2/x^2)</span></pre><pre class=" CodeMirror-line "><span style="padding-right: 0.1px;">  令y/x=u</span></pre><pre class=" CodeMirror-line "><span style="padding-right: 0.1px;">  dy/dx=u-√(1-u^2)</span></pre><pre class=" CodeMirror-line "><span style="padding-right: 0.1px;">  du/√(1-u^2)=dx/x</span></pre><pre class=" CodeMirror-line "><span style="padding-right: 0.1px;">  对两边求积分</span></pre><pre class=" CodeMirror-line "><span style="padding-right: 0.1px;">  arcsinu=lnx+C</span></pre><pre class=" CodeMirror-line "><span style="padding-right: 0.1px;">  arcsiny/x=lnx+C</span></pre><pre class=" CodeMirror-line "><span style="padding-right: 0.1px;">  y=xsin(lnx+C)</span></pre><pre class=" CodeMirror-line "><span style="padding-right: 0.1px;">(7)tanydx-cotxdy=0</span></pre><pre class=" CodeMirror-line "><span style="padding-right: 0.1px;">  dy/tany=dx/cotx</span></pre><pre class=" CodeMirror-line "><span style="padding-right: 0.1px;">  cosydy/siny=sinxdx/cosx</span></pre><pre class=" CodeMirror-line "><span style="padding-right: 0.1px;">  对两边求积分</span></pre><pre class=" CodeMirror-line "><span style="padding-right: 0.1px;">  lnsiny=-lncosx=C</span></pre><pre class=" CodeMirror-line "><span style="padding-right: 0.1px;">  siny=e^(-lncosx+C)=e^C/cosx</span></pre><pre class=" CodeMirror-line "><span style="padding-right: 0.1px;">  y=arce^c/cosx</span></pre><pre class=" CodeMirror-line "><span style="padding-right: 0.1px;">  </span></pre><pre class=" CodeMirror-line "><span style="padding-right: 0.1px;">  </span></pre><pre class=" CodeMirror-line "><span style="padding-right: 0.1px;">P43——2</span></pre><pre class=" CodeMirror-line "><span style="padding-right: 0.1px;">(6)dy/dx=(y^6-2x^2)/(2xy^5=x^2y^2)</span></pre><pre class=" CodeMirror-line "><span style="padding-right: 0.1px;">  y^2dy/dx={(y^3/x)^2-2}/(2y^3/x+1)</span></pre><pre class=" CodeMirror-line "><span style="padding-right: 0.1px;">  dy^3/3dx={(y^3/x)^2-2}/(2y^3/x+1)</span></pre><pre class=" CodeMirror-line "><span style="padding-right: 0.1px;">  令y^3=u</span></pre><pre class=" CodeMirror-line "><span style="padding-right: 0.1px;">  xdu/dx+u=(3u^2-6)/(2u+1)</span></pre><pre class=" CodeMirror-line "><span style="padding-right: 0.1px;">  xdu/dx=(u^2-u-6)/(2u+1)</span></pre><pre class=" CodeMirror-line "><span style="padding-right: 0.1px;">  (2u+1)du/(u^2-u-6)=dx/x</span></pre><pre class=" CodeMirror-line "><span style="padding-right: 0.1px;">  7du/5(u-3)+3du/5(u+2)=dx/x</span></pre><pre class=" CodeMirror-line "><span style="padding-right: 0.1px;">  对两边求积分</span></pre><pre class=" CodeMirror-line "><span style="padding-right: 0.1px;">  ln(u-3)^7(u+2)^3=lnx^5+5C</span></pre><pre class=" CodeMirror-line "><span style="padding-right: 0.1px;">  (y^3/x-3)^7(y^3/x+2)^3=x^5e^(5C)</span></pre><pre class=" CodeMirror-line "><span style="padding-right: 0.1px;">(7)dy/dx=(2x^3+3xy^2+x)/(3x^2/y+2y^3+y)</span></pre><pre class=" CodeMirror-line "><span style="padding-right: 0.1px;">  dy^2/dx^2=(2x^2+3y^2+1)/(3x^2+2y^2+1)</span></pre><pre class=" CodeMirror-line "><span style="padding-right: 0.1px;">  令X=x^2-1,Y=y^2+1</span></pre><pre class=" CodeMirror-line "><span style="padding-right: 0.1px;">  dY/dX=(2X+3Y)/(3X+2Y)</span></pre><pre class=" CodeMirror-line "><span style="padding-right: 0.1px;">  dY/dX=(2+3Y/X)/(3+2Y/X)</span></pre><pre class=" CodeMirror-line "><span style="padding-right: 0.1px;">  令Y/X=S</span></pre><pre class=" CodeMirror-line "><span style="padding-right: 0.1px;">  xdS/dx+S=(2+3S)/(3+2S)</span></pre><pre class=" CodeMirror-line "><span style="padding-right: 0.1px;">  xdS/dx=(2-2S^2)/(3+2S)</span></pre><pre class=" CodeMirror-line "><span style="padding-right: 0.1px;">  对两边求积分</span></pre><pre class=" CodeMirror-line "><span style="padding-right: 0.1px;">  -5ln(S-1)/4+ln(S+1)/4=(3+2S)dS/2(1-S)(1+S)=dx/x</span></pre><pre class=" CodeMirror-line "><span style="padding-right: 0.1px;">  </span></pre><pre class=" CodeMirror-line "><span style="padding-right: 0.1px;">设y(t)是dy/dt=f(y),y(0)=y_0的解，证明y_2(t)=y_1(t-t_0)是dy/dt=f(y),y(t_0)=y_0的解</span></pre><pre class=" CodeMirror-line "><span style="padding-right: 0.1px;">  dy_2(t)/dt</span></pre><pre class=" CodeMirror-line "><span style="padding-right: 0.1px;">  =dy_1(t-t_0)/dt</span></pre><pre class=" CodeMirror-line "><span style="padding-right: 0.1px;">  =dy_1(t-t_0)/d(t-t_0)</span></pre><pre class=" CodeMirror-line "><span style="padding-right: 0.1px;">  =f(y_1(t-t_0))</span></pre><pre class=" CodeMirror-line "><span style="padding-right: 0.1px;">  =f(y_2)</span></pre><pre class=" CodeMirror-line "><span style="padding-right: 0.1px;">  所以y_2=y_1(t-t_0)也是dy/dt=f(y)的解</span></pre><pre class=" CodeMirror-line "><span style="padding-right: 0.1px;">  即t=0时，y_1(0)=y_0</span></pre><pre class=" CodeMirror-line "><span style="padding-right: 0.1px;">  所以t-t_0=0时，y_1(t-t_0)=y_0</span></pre><pre class=" CodeMirror-line "><span style="padding-right: 0.1px;">  所以y_2(t_0)=y_0</span></pre><pre class=" CodeMirror-line "><span style="padding-right: 0.1px;"><span cm-text="">​</span></span></pre><pre class=" CodeMirror-line "><span style="padding-right: 0.1px;">  </span></pre><pre class=" CodeMirror-line "><span style="padding-right: 0.1px;"> &nbsp; </span></pre><pre class=" CodeMirror-line "><span style="padding-right: 0.1px;"><span cm-text="">​</span></span></pre><pre class=" CodeMirror-line "><span style="padding-right: 0.1px;">  </span></pre><pre class=" CodeMirror-line "><span style="padding-right: 0.1px;">  </span></pre><pre class=" CodeMirror-line "><span style="padding-right: 0.1px;"><span cm-text="">​</span></span></pre><pre class=" CodeMirror-line "><span style="padding-right: 0.1px;"><span cm-text="">​</span></span></pre></div></div></div></div></div><div style="position: absolute; height: 15px; width: 1px; top: 1439px;"></div><div class="CodeMirror-gutters" style="display: none; height: 1454px;"></div></div></div></div><div class="text_cell_render rendered_html" tabindex="-1"><p>P27——3
(7)y=x^2+1,y'=y^2-(x^2+1)y=2x
  将y=x^2带入方程，得
  y'=2x
  x^4+2x+1-(x^4+2x^2+1)+2x=2x
(8)y=-g(x)/f(x),y'=y^2f'(x)/g(x)-g'(x)/f(x)
  将y=-g(x)/f(x)带入方程，得
  y'=-{g'(x)f(x)-f'(x)g(x)}/f^2(x)</p>
<p>P27——4
  dy/dx=2x
(1)dy=2xdx
   y=x^2+C
(2)4=1+C
   C=3
(3)2x+3=x^2+C
   x^2-2x+C-3=0
(4)求(x^2+C）在0-1的积分，得
  1/3+C=2
  C=5</p>
<p>P42——7
(6)xd(y)/d(x)-y+√(x^2+y^2)=0
  dy/dx=y/x-√(1-y^2/x^2)
  令y/x=u
  dy/dx=u-√(1-u^2)
  du/√(1-u^2)=dx/x
  对两边求积分
  arcsinu=lnx+C
  arcsiny/x=lnx+C
  y=xsin(lnx+C)
(7)tanydx-cotxdy=0
  dy/tany=dx/cotx
  cosydy/siny=sinxdx/cosx
  对两边求积分
  lnsiny=-lncosx=C
  siny=e^(-lncosx+C)=e^C/cosx
  y=arce^c/cosx</p>
<p>P43——2
(6)dy/dx=(y^6-2x^2)/(2xy^5=x^2y^2)
  y^2dy/dx={(y^3/x)^2-2}/(2y^3/x+1)
  dy^3/3dx={(y^3/x)^2-2}/(2y^3/x+1)
  令y^3=u
  xdu/dx+u=(3u^2-6)/(2u+1)
  xdu/dx=(u^2-u-6)/(2u+1)
  (2u+1)du/(u^2-u-6)=dx/x
  7du/5(u-3)+3du/5(u+2)=dx/x
  对两边求积分
  ln(u-3)^7(u+2)^3=lnx^5+5C
  (y^3/x-3)^7(y^3/x+2)^3=x^5e^(5C)
(7)dy/dx=(2x^3+3xy^2+x)/(3x^2/y+2y^3+y)
  dy^2/dx^2=(2x^2+3y^2+1)/(3x^2+2y^2+1)
  令X=x^2-1,Y=y^2+1
  dY/dX=(2X+3Y)/(3X+2Y)
  dY/dX=(2+3Y/X)/(3+2Y/X)
  令Y/X=S
  xdS/dx+S=(2+3S)/(3+2S)
  xdS/dx=(2-2S^2)/(3+2S)
  对两边求积分
  -5ln(S-1)/4+ln(S+1)/4=(3+2S)dS/2(1-S)(1+S)=dx/x</p>
<p>设y(t)是dy/dt=f(y),y(0)=y_0的解，证明y_2(t)=y_1(t-t_0)是dy/dt=f(y),y(t_0)=y_0的解
  dy_2(t)/dt
  =dy_1(t-t_0)/dt
  =dy_1(t-t_0)/d(t-t_0)
  =f(y_1(t-t_0))
  =f(y_2)
  所以y_2=y_1(t-t_0)也是dy/dt=f(y)的解
  即t=0时，y_1(0)=y_0
  所以t-t_0=0时，y_1(t-t_0)=y_0
  所以y_2(t_0)=y_0</p>
</div></div></div><div class="cell code_cell unselected rendered" tabindex="2"><div class="input"><div class="prompt input_prompt">In&nbsp;[&nbsp;]:</div><div class="inner_cell"><div class="ctb_hideshow"><div class="celltoolbar"></div></div><div class="input_area"><div class="CodeMirror cm-s-ipython"><div style="overflow: hidden; position: relative; width: 3px; height: 0px; top: 5.59375px; left: 5.59375px;"><textarea autocorrect="off" autocapitalize="off" spellcheck="false" tabindex="0" style="position: absolute; padding: 0px; width: 1000px; height: 1em; outline: none;"></textarea></div><div class="CodeMirror-vscrollbar" cm-not-content="true"><div style="min-width: 1px; height: 0px;"></div></div><div class="CodeMirror-hscrollbar" cm-not-content="true"><div style="height: 100%; min-height: 1px; width: 0px;"></div></div><div class="CodeMirror-scrollbar-filler" cm-not-content="true"></div><div class="CodeMirror-gutter-filler" cm-not-content="true"></div><div class="CodeMirror-scroll" tabindex="-1"><div class="CodeMirror-sizer" style="margin-left: 0px; min-width: 3px; margin-bottom: -15px; border-right-width: 15px; min-height: 28px; padding-right: 0px; padding-bottom: 0px;"><div style="position: relative; top: 0px;"><div class="CodeMirror-lines"><div style="position: relative; outline: none;"><div class="CodeMirror-measure"></div><div class="CodeMirror-measure"></div><div style="position: relative; z-index: 1;"></div><div class="CodeMirror-cursors"><div class="CodeMirror-cursor" style="left: 0px; top: 0px; height: 17px;">&nbsp;</div></div><div class="CodeMirror-code"><pre class=" CodeMirror-line "><span style="padding-right: 0.1px;"><span cm-text="">​</span></span></pre></div></div></div></div></div><div style="position: absolute; height: 15px; width: 1px; top: 28px;"></div><div class="CodeMirror-gutters" style="display: none; height: 43px;"></div></div></div></div></div></div><div class="widget-area" style="display: none;"><div class="prompt"><button class="close">×</button></div><div class="widget-subarea"></div></div><div class="output_wrapper"><div class="out_prompt_overlay prompt" title="click to expand output; double click to hide output" style="display: none;"></div><div class="output" style="display: none;"></div><div class="btn btn-default output_collapsed" title="click to expand output" style="display: none;">. . .</div></div></div></div><div class="end_space"></div></div>
        <div id="tooltip" class="ipython_tooltip" style="display:none"><div class="tooltipbuttons"><a href="http://localhost:8000/notebooks/Untitled.ipynb#" role="button" class="ui-button"><span class="ui-icon ui-icon-close">Close</span></a><a href="http://localhost:8000/notebooks/Untitled.ipynb#" class="ui-corner-all" role="button" id="expanbutton" title="Grow the tooltip vertically (press shift-tab twice)"><span class="ui-icon ui-icon-plus">Expand</span></a><a href="http://localhost:8000/notebooks/Untitled.ipynb#" role="button" class="ui-button" title="show the current docstring in pager (press shift-tab 4 times)"><span class="ui-icon ui-icon-arrowstop-l-n">Open in Pager</span></a><a href="http://localhost:8000/notebooks/Untitled.ipynb#" role="button" class="ui-button" title="Tooltip will linger for 10 seconds while you type" style="display: none;"><span class="ui-icon ui-icon-clock">Close</span></a></div><div class="pretooltiparrow"></div><div class="tooltiptext smalltooltip"></div></div>
    </div>
</div>



</div>



<div id="pager" class="ui-resizable">
    <div id="pager-contents">
        <div id="pager-container" class="container"></div>
    </div>
    <div id="pager-button-area"><a role="button" title="Open the pager in an external window" class="ui-button"><span class="ui-icon ui-icon-extlink"></span></a><a role="button" title="Close the pager" class="ui-button"><span class="ui-icon ui-icon-close"></span></a></div>
<div class="ui-resizable-handle ui-resizable-n" style="z-index: 90;"></div></div>






<script type="text/javascript">
    sys_info = {"os_name": "posix", "platform": "Linux-2.6.32-573.26.1.el6.i686-i686-with-centos-6.7-Final", "default_encoding": "UTF-8", "notebook_path": "/home/sage/sage-7.2/local/lib/python2.7/site-packages/notebook", "sys_platform": "linux2", "sys_version": "2.7.10 (default, May 16 2016, 06:31:14) \n[GCC 4.9.3]", "notebook_version": "4.2.0", "commit_source": "repository", "commit_hash": "f76401f", "sys_executable": "/home/sage/sage-7.2/local/bin/python"};
</script>

<script src="./zhangjie_files/encoding.js" charset="utf-8"></script>


    <script src="./zhangjie_files/main.min.js" type="text/javascript" charset="utf-8"></script>






<div style="position: absolute; width: 0px; height: 0px; overflow: hidden; padding: 0px; border: 0px; margin: 0px;"><div id="MathJax_Font_Test" style="position: absolute; visibility: hidden; top: 0px; left: 0px; width: auto; padding: 0px; border: 0px; margin: 0px; white-space: nowrap; text-align: left; text-indent: 0px; text-transform: none; line-height: normal; letter-spacing: normal; word-spacing: normal; font-size: 40px; font-weight: normal; font-style: normal;"></div></div></body></html>