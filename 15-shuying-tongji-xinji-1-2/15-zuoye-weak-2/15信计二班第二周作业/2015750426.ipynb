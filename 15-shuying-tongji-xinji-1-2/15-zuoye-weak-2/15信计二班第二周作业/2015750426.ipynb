{
 "cells": [
  {
   "cell_type": "markdown",
   "metadata": {},
   "source": [
    "**2016.9.6 周二**"
   ]
  },
  {
   "cell_type": "markdown",
   "metadata": {},
   "source": [
    "**1.** 已知$y_1(t)$是$\\frac{\\mathrm d y}{\\mathrm d t}=f(y)$,$y(0)=y_0$的解，证：\n",
    "        $y_2(t)=y_1(t-t_0)$是$\\frac{\\mathrm d y}{\\mathrm d t}=f(y)$,$y(t_0)=y_0$的解"
   ]
  },
  {
   "cell_type": "markdown",
   "metadata": {},
   "source": [
    "**解：**由已知得\n"
   ]
  },
  {
   "cell_type": "markdown",
   "metadata": {},
   "source": [
    " $\\frac{\\mathrm d y}{\\mathrm d t}=y_1^\\prime(t)=f(y)$ \n",
    " \n",
    " $y_1(0)=y_0$ \n",
    " \n",
    " 则$\\frac{\\mathrm d y}{\\mathrm d t}=y_2^\\prime(t)=y_1^\\prime(t-t_0)=f(y)$\n",
    " \n",
    " $y_2(t_0)=y_1(t_0-t_0)=y_1(0)=y_0$\n",
    " \n",
    " 由此可知，$y_2(t)$是$\\frac{\\mathrm d y}{\\mathrm d t}=f(y)$,$y(t_0)=y_0$的解\n",
    " \n",
    " 得证\n",
    " \n",
    " "
   ]
  },
  {
   "cell_type": "markdown",
   "metadata": {},
   "source": [
    "**3.** 验证下列各函数是相应微分方程的解：\n",
    "\n",
    "**（7）** $y=x^2+1$,$y^\\prime=y^2-(x^2+1)y+2x$\n",
    "\n",
    "**（8）** $y=-\\frac{g(x)}{f(x)}$,$y^\\prime=\\frac{f^\\prime(x)}{g(x)}y^2-\\frac{g^\\prime(x)}{f(x)}$"
   ]
  },
  {
   "cell_type": "markdown",
   "metadata": {},
   "source": [
    "**（7）**\n",
    "\n",
    "   **解：** $$\\begin{cases} y=x^2+1\\cdots① \\\\ y^\\prime=y^2-(x^2+1)y+2x\\cdots② \\end{cases}$$\n",
    "由①式可知 $y^\\prime=2x\\cdots③$\n",
    "\n",
    "将①式代入②式可得：$y^\\prime=(x^2+1)^2-(x^2+1)(x^2+1)+2x=2x\\cdots④$\n",
    "\n",
    "易知③=④，即函数$y=x^2+1$是微分方程$y^\\prime=y^2-(x^2+1)y+2x$的解\n",
    "\n"
   ]
  },
  {
   "cell_type": "code",
   "execution_count": 50,
   "metadata": {
    "collapsed": false
   },
   "outputs": [
    {
     "data": {
      "text/html": [
       "<html><script type=\"math/tex; mode=display\">\\newcommand{\\Bold}[1]{\\mathbf{#1}}2 \\, x</script></html>"
      ],
      "text/plain": [
       "2*x"
      ]
     },
     "metadata": {},
     "output_type": "display_data"
    }
   ],
   "source": [
    "var('x')\n",
    "y=x^2+1\n",
    "show(diff(y,x))"
   ]
  },
  {
   "cell_type": "markdown",
   "metadata": {},
   "source": [
    "**(8)**\n",
    "\n",
    "**解** $$\\begin{cases} y=-\\frac{g(x)}{f(x)}\\cdots① \\\\ y^\\prime=\\frac{f^\\prime(x)}{g(x)}-\\frac{g^\\prime(x)}{f(x)}\\cdots② \\end{cases}$$\n",
    "由①式可知 $y^\\prime=-\\frac{g^\\prime(x)f(x)-g(x)f^\\prime(x)}{f(x)^2}\\cdots③$\n",
    "\n",
    "将①式代入②式可得：$y^\\prime=\\frac{f^\\prime(x)}{g(x)}(-\\frac{g(x)}{f(x)})^2-\\frac{g^\\prime(x)}{f(x)}=\\frac{f^\\prime(x)g(x)-g^\\prime(x)f(x)}{f(x)^2}\\cdots④$\n",
    "\n",
    "易知④=③，即函数$y=-\\frac{g(x)}{f(x)}$是微分方程$y^\\prime=\\frac{f^\\prime(x)}{g(x)}y^2-\\frac{g^\\prime(x)}{f(x)}$的解\n"
   ]
  },
  {
   "cell_type": "markdown",
   "metadata": {},
   "source": [
    "**4.** 给定一阶微分方程$\\frac{\\mathrm d y}{\\mathrm d x}=2x$\n",
    "\n",
    "(1)求出它的通解；\n",
    "\n",
    "(2)求通过点（1,4）的特解；\n",
    "\n",
    "(3)求出与直线y=2x+3相切的解；\n",
    "\n",
    "(4)求出满足条件$\\int_0^1 y {\\mathrm d x}=2$的解；\n",
    "\n",
    "(5)绘出(2),(3),(4)中的解的图形.\n"
   ]
  },
  {
   "cell_type": "markdown",
   "metadata": {},
   "source": [
    "**解：**\n",
    "\n",
    "**（1）.**"
   ]
  },
  {
   "cell_type": "code",
   "execution_count": 51,
   "metadata": {
    "collapsed": false
   },
   "outputs": [
    {
     "data": {
      "text/html": [
       "<html><script type=\"math/tex; mode=display\">\\newcommand{\\Bold}[1]{\\mathbf{#1}}y = x^{2} + c</script></html>"
      ],
      "text/plain": [
       "y == x^2 + c"
      ]
     },
     "metadata": {},
     "output_type": "display_data"
    }
   ],
   "source": [
    "var('x y c')\n",
    "f=2*x\n",
    "g=1\n",
    "F=integral(f,x)\n",
    "G=integral(g,y)\n",
    "s=G==F+c\n",
    "show(s)"
   ]
  },
  {
   "cell_type": "markdown",
   "metadata": {},
   "source": [
    "**(2).**"
   ]
  },
  {
   "cell_type": "markdown",
   "metadata": {
    "collapsed": true
   },
   "source": [
    "由**（1）**可知$y=x^2+c$\n",
    "\n",
    "将点（1,4）代入方程可得：c=3\n",
    "\n",
    "特解为$y=x^2+3$"
   ]
  },
  {
   "cell_type": "markdown",
   "metadata": {},
   "source": [
    "**(3).**\n",
    "\n",
    "由**（1）**知$y=x^2+c$,易知$y^\\prime=2x$\n",
    "\n",
    "同时$y=2x+3$,可得$y^\\prime=2$\n",
    "\n",
    "即2x=2,x=1,y=5.求出点（1,5）\n",
    "\n",
    "将该点代入方程$y=x^2+c$得：c=4\n",
    "\n",
    "解为$y=x^2+4$"
   ]
  },
  {
   "cell_type": "markdown",
   "metadata": {},
   "source": [
    "**(4).**\n",
    "\n",
    "由**（1）**知$y=x^2+c$\n",
    "\n"
   ]
  },
  {
   "cell_type": "code",
   "execution_count": 52,
   "metadata": {
    "collapsed": false
   },
   "outputs": [
    {
     "data": {
      "text/html": [
       "<html><script type=\"math/tex; mode=display\">\\newcommand{\\Bold}[1]{\\mathbf{#1}}0 = c - \\frac{5}{3}</script></html>"
      ],
      "text/plain": [
       "0 == c - 5/3"
      ]
     },
     "metadata": {},
     "output_type": "display_data"
    }
   ],
   "source": [
    "var('x c')\n",
    "y=function('y')(x)\n",
    "y=x^2+c\n",
    "y1=integral(y,(x,0,1))\n",
    "y2=y1==2\n",
    "show(y1-y2)"
   ]
  },
  {
   "cell_type": "markdown",
   "metadata": {},
   "source": [
    "\n",
    "易知$c=\\frac{5}{3}$,解为$y=x^2+\\frac{5}{3}$"
   ]
  },
  {
   "cell_type": "markdown",
   "metadata": {},
   "source": [
    "**(5)**\n",
    "\n",
    "如下图所示："
   ]
  },
  {
   "cell_type": "code",
   "execution_count": 26,
   "metadata": {
    "collapsed": false
   },
   "outputs": [
    {
     "data": {
      "image/png": "[encoded data removed]",
      "text/plain": [
       "Graphics object consisting of 1 graphics primitive"
      ]
     },
     "metadata": {},
     "output_type": "display_data"
    },
    {
     "data": {
      "image/png": "[encoded data removed]",
      "text/plain": [
       "Graphics object consisting of 1 graphics primitive"
      ]
     },
     "metadata": {},
     "output_type": "display_data"
    },
    {
     "data": {
      "image/png": "[encoded data removed]",
      "text/plain": [
       "Graphics object consisting of 1 graphics primitive"
      ]
     },
     "metadata": {},
     "output_type": "display_data"
    }
   ],
   "source": [
    "var('x ')\n",
    "p2=plot(x^2+3,(x,-2,2))\n",
    "p3=plot(x^2+4,(x,-2,2))\n",
    "p4=plot(x^2+5/3,(x,-2,2))\n",
    "show(p2)\n",
    "show(p3)\n",
    "show(p4)"
   ]
  },
  {
   "cell_type": "markdown",
   "metadata": {},
   "source": [
    "**2016.9.7  周三**\n",
    "\n",
    "**1.**求下列方程的解：\n",
    "\n",
    "**（6）**$x\\frac{\\mathrm d y}{\\mathrm d x}-y+\\sqrt{x^2-y^2}=0$；\n",
    "\n",
    "**（7）**$\\tan y \\mathrm d x-\\cot x \\mathrm d y=0$；"
   ]
  },
  {
   "cell_type": "markdown",
   "metadata": {},
   "source": [
    "**（6）**\n",
    "\n",
    "**解：**\n",
    "\n",
    "令$\\frac{y}{x}=u$,则$\\frac{\\mathrm d y}{\\mathrm d x}=u+x\\frac{\\mathrm d u}{\\mathrm d x}$\n",
    "\n",
    "原方程可化为：$\\frac{\\mathrm d u}{\\mathrm d x}=-\\frac{\\sqrt{1-u^2}}{x}$"
   ]
  },
  {
   "cell_type": "code",
   "execution_count": 53,
   "metadata": {
    "collapsed": false
   },
   "outputs": [
    {
     "data": {
      "text/html": [
       "<html><script type=\"math/tex; mode=display\">\\newcommand{\\Bold}[1]{\\mathbf{#1}}\\arcsin\\left(u\\right) = c + \\log\\left(x\\right)</script></html>"
      ],
      "text/plain": [
       "arcsin(u) == c + log(x)"
      ]
     },
     "metadata": {},
     "output_type": "display_data"
    }
   ],
   "source": [
    "var('x u c')\n",
    "f=-sqrt(1-u^2)\n",
    "g=1/x\n",
    "F=integral(1/f,u)\n",
    "G=integral(g,x)\n",
    "s=F==G+c\n",
    "show(s)"
   ]
  },
  {
   "cell_type": "markdown",
   "metadata": {},
   "source": [
    "\n",
    "将$\\frac{y}{x}=u$代入所得方程，即$\\arcsin(\\frac{y}{x})=c+\\log(x)$\n",
    "\n",
    "当$y^2=x^2$时，方程$x\\frac{\\mathrm d y}{\\mathrm d x}-y+\\sqrt{x^2-y^2}=0$成立\n",
    "\n",
    "综上，方程的解为$\\arcsin(\\frac{y}{x})=c+\\log(x),y^2=x^2$"
   ]
  },
  {
   "cell_type": "markdown",
   "metadata": {},
   "source": [
    "**(7)**\n",
    "\n",
    "**解：**\n",
    "\n",
    "\n",
    "方程可化为：$\\frac{\\mathrm d y}{\\mathrm d x}=\\frac{\\tan y}{\\cot x}$"
   ]
  },
  {
   "cell_type": "code",
   "execution_count": 54,
   "metadata": {
    "collapsed": false
   },
   "outputs": [
    {
     "data": {
      "text/html": [
       "<html><script type=\"math/tex; mode=display\">\\newcommand{\\Bold}[1]{\\mathbf{#1}}-\\frac{1}{2} \\, \\log\\left(-\\sin\\left(x\\right)^{2} + 1\\right) = c + \\log\\left(\\sin\\left(y\\right)\\right)</script></html>"
      ],
      "text/plain": [
       "-1/2*log(-sin(x)^2 + 1) == c + log(sin(y))"
      ]
     },
     "metadata": {},
     "output_type": "display_data"
    }
   ],
   "source": [
    "var('x y c')\n",
    "f=1/cot(x)\n",
    "g=1/tan(y)\n",
    "F=integral(f,x)\n",
    "G=integral(g,y)\n",
    "s=F==G+c\n",
    "show(s)"
   ]
  },
  {
   "cell_type": "markdown",
   "metadata": {},
   "source": [
    "将所得式子化简可得：$\\log(\\sin(y))+\\log(\\cos(x))=c$,即$\\sin(y)\\cos(x)=c$\n",
    "\n",
    "当$y=k\\pi,k=0,\\pm1,\\cdots$时，方程$\\tan y \\mathrm d x-\\cot x \\mathrm d y=0$成立\n",
    "\n",
    "综上，方程的解为$\\sin y \\cos x =c,y=k\\pi(k=o,\\pm1,\\cdots)$"
   ]
  },
  {
   "cell_type": "markdown",
   "metadata": {},
   "source": [
    "**2.**做适当的变量变换求解下列方程：\n",
    "\n",
    "\n",
    "**(6)**$\\frac{\\mathrm d y}{\\mathrm d x}=\\frac{y^6-2x^2}{2xy^5+x^2y^2}$\n",
    "\n",
    "**(7)**$\\frac{\\mathrm d y}{\\mathrm d x}=\\frac{2x^3+3xy^2+x}{3x^2y+2y^3-y}$"
   ]
  },
  {
   "cell_type": "markdown",
   "metadata": {},
   "source": [
    "**(6)**\n",
    "\n",
    "**解：**\n",
    "\n",
    "\n",
    "方程可化为$\\frac{\\mathrm d y}{\\mathrm d x}=\\frac{(y^3)^2-2x^2}{y^2(2xy^3+x^2)}$\n",
    "\n",
    "即：$\\frac{\\mathrm d y^3}{\\mathrm d x}=\\frac{3[(y^3)^2-2x^2]}{2xy^3+x^2}$\n",
    "\n",
    "令$u=y^3$,则$\\frac{\\mathrm d u}{\\mathrm d x}=\\frac{3u^2-6x^2}{2ux+x^2}=\\frac{3\\frac{u^2}{x^2}-6}{2\\frac{u}{x}+1}$\n",
    "\n",
    "令$z=\\frac{u}{x}$,则方程可化为：$x\\frac{\\mathrm d z}{\\mathrm d x}+z=\\frac{3z^2-6}{2z+1}$,即$x\\frac{\\mathrm d z}{\\mathrm d x}=\\frac{z^2-z-6}{2z=+1}\\cdots①$\n",
    "\n",
    "当$z^2-z-6=0$,得z=3或z=-2是方程①的解,即$y^3=3x$或$y^3=-2x$是方程的解\n",
    "\n",
    "当$z^2-z-6\\neq0$，方程①可化为：$\\frac{\\mathrm d z}{\\frac{z^2-z-6}{2z+1}}=\\frac{\\mathrm d x}{x}$"
   ]
  },
  {
   "cell_type": "code",
   "execution_count": 2,
   "metadata": {
    "collapsed": false
   },
   "outputs": [
    {
     "data": {
      "text/html": [
       "<html><script type=\"math/tex; mode=display\">\\newcommand{\\Bold}[1]{\\mathbf{#1}}\\frac{3}{5} \\, \\log\\left(z + 2\\right) + \\frac{7}{5} \\, \\log\\left(z - 3\\right) = c + \\log\\left(x\\right)</script></html>"
      ],
      "text/plain": [
       "3/5*log(z + 2) + 7/5*log(z - 3) == c + log(x)"
      ]
     },
     "metadata": {},
     "output_type": "display_data"
    }
   ],
   "source": [
    "var('x z c')\n",
    "f=(2*z+1)/(z^2-z-6)\n",
    "g=1/x\n",
    "F=integral(f,z)\n",
    "G=integral(g,x)\n",
    "s=F==G+c\n",
    "show(s)"
   ]
  },
  {
   "cell_type": "markdown",
   "metadata": {},
   "source": [
    "化简后得：$(z+2)^3(z-3)^7=cx^5$，即$(y^3-3x)^7(y^3+2x)^3=x^{15}c$\n",
    "\n",
    "又因为$y^3=3x或y^3=-2x$包含在通解当c=0中\n",
    "\n",
    "综上，原方程的解为$(y^3-3x)^7(y^3+2x)^3=cx^{15}$"
   ]
  },
  {
   "cell_type": "markdown",
   "metadata": {},
   "source": [
    "**(7)**\n",
    "\n",
    "**解：**\n",
    "\n",
    "\n",
    "方程可化为：$\\frac{\\mathrm d y}{\\mathrm d x}=\\frac{x(2x^2+3y^2+1)}{y(3x^2+2y^2-1)}$,即$\\frac{\\mathrm d y^2}{\\mathrm d x^2}=\\frac{2x^2+3y^2+1}{3x^2+2y^2-1}$\n",
    "\n",
    "令$y^2=\\alpha,x^2=\\beta$\n",
    "\n",
    "则方程为$\\frac{d \\alpha}{\\mathrm d \\beta}=\\frac{2\\beta+3\\alpha+1}{3\\beta+2\\alpha-1}$\n",
    "\n",
    "解方程组$$\\begin{cases}2\\beta+3\\alpha+1=0\\\\3\\beta+2\\alpha-1=0\\end{cases}$$\n",
    "得$\\alpha=-1,\\beta=1$\n",
    "\n",
    "令$X=\\alpha+1,Y=\\beta-1$,则有$\\frac{\\mathrm d X}{\\mathrm d Y}=\\frac{2Y+3X}{3Y+2X}$,即$\\frac{\\mathrm d X}{\\mathrm d Y}=\\frac{2+3\\frac{X}{Y}}{3+2\\frac{X}{Y}}\\cdots①$\n",
    "\n",
    "令$t=\\frac{X}{Y}$,方程①可化为：$t+Y\\frac{\\mathrm d t}{\\mathrm d Y}=\\frac{2+3t}{3+2t}$,即$Y\\frac{\\mathrm d t}{\\mathrm d Y}=\\frac{2-2t^2}{3+2t}$\n",
    "\n",
    "当$2-2t^2=0$,得t=1或t=-1,即原方程的解为$y^2=x^2-2$或$y^2=-x^2$\n",
    "\n",
    "当$2-2t^2\\neq0$,得$\\frac{\\mathrm d t}{\\frac{2-2t^2}{3+2t}}=\\frac{\\mathrm d Y}{Y}$"
   ]
  },
  {
   "cell_type": "code",
   "execution_count": 2,
   "metadata": {
    "collapsed": false
   },
   "outputs": [
    {
     "data": {
      "text/html": [
       "<html><script type=\"math/tex; mode=display\">\\newcommand{\\Bold}[1]{\\mathbf{#1}}\\frac{1}{4} \\, \\log\\left(t + 1\\right) - \\frac{5}{4} \\, \\log\\left(t - 1\\right) = c + \\log\\left(Y\\right)</script></html>"
      ],
      "text/plain": [
       "1/4*log(t + 1) - 5/4*log(t - 1) == c + log(Y)"
      ]
     },
     "metadata": {},
     "output_type": "display_data"
    }
   ],
   "source": [
    "var('t Y c')\n",
    "f=(3+2*t)/(2-2*t^2)\n",
    "g=1/Y\n",
    "F=integral(f,t)\n",
    "G=integral(g,Y)\n",
    "s=F==G+c\n",
    "show(s)"
   ]
  },
  {
   "cell_type": "markdown",
   "metadata": {},
   "source": [
    "化简为：$y^2+x^2=(y^2-x^2+2)^5c$\n",
    "\n",
    "由于$y^2=x^2-2或y^2=-x^2$包含在其通解中\n",
    "\n",
    "综上，原方程的解为$y^2+x^2=(y^2-x^2+2)^5c$"
   ]
  },
  {
   "cell_type": "markdown",
   "metadata": {
    "collapsed": true
   },
   "source": [
    "# <font color='red'>A+  12/9\n"
   ]
  },
  {
   "cell_type": "code",
   "execution_count": null,
   "metadata": {
    "collapsed": true
   },
   "outputs": [],
   "source": []
  }
 ],
 "metadata": {
  "kernelspec": {
   "display_name": "SageMath 7.3",
   "language": "",
   "name": "sagemath"
  },
  "language_info": {
   "codemirror_mode": {
    "name": "ipython",
    "version": 2
   },
   "file_extension": ".py",
   "mimetype": "text/x-python",
   "name": "python",
   "nbconvert_exporter": "python",
   "pygments_lexer": "ipython2",
   "version": "2.7.10"
  }
 },
 "nbformat": 4,
 "nbformat_minor": 0
}
