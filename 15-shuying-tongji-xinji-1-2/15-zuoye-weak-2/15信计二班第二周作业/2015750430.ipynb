{
 "cells": [
  {
   "cell_type": "markdown",
   "metadata": {
    "collapsed": true
   },
   "source": [
    "9月6日"
   ]
  },
  {
   "cell_type": "markdown",
   "metadata": {
    "collapsed": true
   },
   "source": [
    "3 . 验证下列各函数是相应微分方程的解:"
   ]
  },
  {
   "cell_type": "markdown",
   "metadata": {},
   "source": [
    "(7)"
   ]
  },
  {
   "cell_type": "markdown",
   "metadata": {},
   "source": [
    "$$y=x^2+1 , y'=y^2-(x^2+1)*y+2*x$$"
   ]
  },
  {
   "cell_type": "markdown",
   "metadata": {},
   "source": [
    "验证："
   ]
  },
  {
   "cell_type": "markdown",
   "metadata": {},
   "source": [
    "$$(x^2+1)^2-(x^2+1)*(x^2+1)+2*x=2*x=y'$$"
   ]
  },
  {
   "cell_type": "markdown",
   "metadata": {},
   "source": [
    "即 $y=x^2+1$ 是$ y'=y^2-(x^2+1)*y+2*x $的解."
   ]
  },
  {
   "cell_type": "markdown",
   "metadata": {
    "collapsed": true
   },
   "source": [
    "（8）"
   ]
  },
  {
   "cell_type": "markdown",
   "metadata": {},
   "source": [
    "$$y=\\frac{\\mathrm -g(x)}{\\mathrm f(x)}  ,  y'=\\frac{\\mathrm f'(x) }{\\mathrm g(x）}*y^2-\\frac{\\mathrm g'(x)}{\\mathrm f(x)}$$"
   ]
  },
  {
   "cell_type": "markdown",
   "metadata": {},
   "source": [
    "验证："
   ]
  },
  {
   "cell_type": "markdown",
   "metadata": {},
   "source": [
    "左边：$$y'=\\frac{\\mathrm -g'(x)*f(x)+g(x)*f'(x)}{\\mathrm f^2(x) }=\\frac{\\mathrm g(x)*f'(x) }{\\mathrm f^2(x)}-\\frac{\\mathrm g'(x)}{\\mathrm f(x)}$$"
   ]
  },
  {
   "cell_type": "markdown",
   "metadata": {},
   "source": [
    "右边：$$ \\frac{\\mathrm f'(x) }{\\mathrm g(x）}*y^2-\\frac{\\mathrm g'(x)}{\\mathrm f(x)}=\\frac{\\mathrm f'(x)}{\\mathrm g(x) }*(\\frac{\\mathrm -g(x)}{\\mathrm f(x)})^2-\\frac{\\mathrm g'(x)}{\\mathrm f(x)}=\\frac{\\mathrm g(x)*f'(x) }{\\mathrm f^2(x)}-\\frac{\\mathrm g'(x)}{\\mathrm f(x)}$$"
   ]
  },
  {
   "cell_type": "markdown",
   "metadata": {},
   "source": [
    "左右两边相等，即 $\\frac{\\mathrm -g(x)}{\\mathrm f(x)}$ 是 $ y'=\\frac{\\mathrm f'(x) }{\\mathrm g(x)}*y^2-\\frac{\\mathrm g'(x)}{\\mathrm f(x)}$ 的解"
   ]
  },
  {
   "cell_type": "markdown",
   "metadata": {},
   "source": [
    "4 . 给定一阶微分方程  $$\\frac{\\mathrm dy}{\\mathrm dx}=2x$$"
   ]
  },
  {
   "cell_type": "markdown",
   "metadata": {},
   "source": [
    "（1）.求出它的通解；"
   ]
  },
  {
   "cell_type": "markdown",
   "metadata": {},
   "source": [
    "（2）.求通过点（1，4）的特解；"
   ]
  },
  {
   "cell_type": "markdown",
   "metadata": {},
   "source": [
    "（3）.求出与直线 $y=2x+3$ 相切的解；"
   ]
  },
  {
   "cell_type": "markdown",
   "metadata": {},
   "source": [
    "（4）.求出满足条件 $\\int_0^1\\mathrm y\\mathrm{d}x=2$ 的解；"
   ]
  },
  {
   "cell_type": "markdown",
   "metadata": {},
   "source": [
    "（5）.绘出（2），（3），（4）中的解的图形；"
   ]
  },
  {
   "cell_type": "markdown",
   "metadata": {},
   "source": [
    "解："
   ]
  },
  {
   "cell_type": "markdown",
   "metadata": {},
   "source": [
    "(1).方程两边积分得：$$y=x^2+c$$  "
   ]
  },
  {
   "cell_type": "markdown",
   "metadata": {},
   "source": [
    " 即 $\\frac{\\mathrm dy}{\\mathrm dx}=2x$ 的通解是$y=x^2+c$  （$c$ 为常数）"
   ]
  },
  {
   "cell_type": "markdown",
   "metadata": {},
   "source": [
    "(2).将$x=1$ , $y=4$ 代入 $y=x^2+c$ "
   ]
  },
  {
   "cell_type": "markdown",
   "metadata": {},
   "source": [
    "  $$c=3$$"
   ]
  },
  {
   "cell_type": "markdown",
   "metadata": {},
   "source": [
    "则通过点（1，4）的特解为 $y=x^2+3$ "
   ]
  },
  {
   "cell_type": "markdown",
   "metadata": {},
   "source": [
    "（3）.联立方程 $$\\begin{cases}y=x^2+c \\\\y=2x+3\\end{cases}$$"
   ]
  },
  {
   "cell_type": "markdown",
   "metadata": {},
   "source": [
    " 解得：$$c=4$$则与 $ y=2x+3$相切的解是 $ y=x^2+4$"
   ]
  },
  {
   "cell_type": "markdown",
   "metadata": {},
   "source": [
    "(4).$$\\int_0^1\\mathrm y\\mathrm{d}x=\\int_0^1\\mathrm (x^2+c)\\mathrm{d}x = \\frac{\\mathrm 1}{\\mathrm 3}+c$$"
   ]
  },
  {
   "cell_type": "markdown",
   "metadata": {},
   "source": [
    "则当$\\int_0^1\\mathrm y\\mathrm{d}x=2$ 时，$$c=\\frac{\\mathrm 5}{\\mathrm 3}$$"
   ]
  },
  {
   "cell_type": "markdown",
   "metadata": {},
   "source": [
    "则满足条件 $\\int_0^1\\mathrm y\\mathrm{d}x=2$ 的解是 $ y=x^2+\\frac{\\mathrm 5}{\\mathrm 3}$"
   ]
  },
  {
   "cell_type": "markdown",
   "metadata": {},
   "source": [
    "(5). "
   ]
  },
  {
   "cell_type": "code",
   "execution_count": 1,
   "metadata": {
    "collapsed": false
   },
   "outputs": [
    {
     "data": {
      "image/png": "[encoded data removed]",
      "text/plain": [
       "Graphics object consisting of 1 graphics primitive"
      ]
     },
     "execution_count": 1,
     "metadata": {},
     "output_type": "execute_result"
    }
   ],
   "source": [
    "plot(x^2+3,(-1,1))"
   ]
  },
  {
   "cell_type": "code",
   "execution_count": 5,
   "metadata": {
    "collapsed": false
   },
   "outputs": [
    {
     "data": {
      "image/png": "[encoded data removed]",
      "text/plain": [
       "Graphics object consisting of 1 graphics primitive"
      ]
     },
     "execution_count": 5,
     "metadata": {},
     "output_type": "execute_result"
    }
   ],
   "source": [
    "plot(x^2+4,(-1,1))"
   ]
  },
  {
   "cell_type": "code",
   "execution_count": 7,
   "metadata": {
    "collapsed": false
   },
   "outputs": [
    {
     "data": {
      "image/png": "[encoded data removed]",
      "text/plain": [
       "Graphics object consisting of 1 graphics primitive"
      ]
     },
     "execution_count": 7,
     "metadata": {},
     "output_type": "execute_result"
    }
   ],
   "source": [
    "plot(x^2+5/3,(-1,1))"
   ]
  },
  {
   "cell_type": "markdown",
   "metadata": {},
   "source": [
    "补充："
   ]
  },
  {
   "cell_type": "markdown",
   "metadata": {},
   "source": [
    "已知 $ y_1(t)$ 是 $\\frac{\\mathrm dy}{\\mathrm dt}=f(y) $ , $ y(0)=y_0 $ 的解."
   ]
  },
  {
   "cell_type": "markdown",
   "metadata": {},
   "source": [
    "证明：$ y_2(t)=y_1(t-t_0) $ 是 $\\frac{\\mathrm dy}{\\mathrm dt}=f(y) $ , $ y(t_0)=y_0 $ 的解."
   ]
  },
  {
   "cell_type": "markdown",
   "metadata": {},
   "source": [
    "证明：令 $ u=t-t_0 $ ,则："
   ]
  },
  {
   "cell_type": "markdown",
   "metadata": {},
   "source": [
    "$$\\frac{\\mathrm dy_2(t)}{\\mathrm dt}=\\frac{\\mathrm dy_1（u）}{\\mathrm dt}= f(y_1(u))=f(y_1(t-t_0))=f(y_2(t))$$"
   ]
  },
  {
   "cell_type": "markdown",
   "metadata": {},
   "source": [
    "$$ y_2(t_0)=y_1(t_0-t_0)=y_0$$"
   ]
  },
  {
   "cell_type": "markdown",
   "metadata": {},
   "source": [
    "则：$ y_2(t)=y_1(t-t_0) $ 是 $\\frac{\\mathrm dy}{\\mathrm dt}=f(y) $ , $ y(t_0)=y_0 $ 的解."
   ]
  },
  {
   "cell_type": "markdown",
   "metadata": {},
   "source": [
    "   9月7日"
   ]
  },
  {
   "cell_type": "markdown",
   "metadata": {},
   "source": [
    "1 . 求下列方程的解："
   ]
  },
  {
   "cell_type": "markdown",
   "metadata": {},
   "source": [
    "（6）. $$x*\\frac{\\mathrm dy}{\\mathrm dx}-y+\\sqrt{x^2-y^2}=0$$"
   ]
  },
  {
   "cell_type": "markdown",
   "metadata": {},
   "source": [
    "解：显然 $ y^2=x^2 $ 是方程的解，当等式不成立时："
   ]
  },
  {
   "cell_type": "markdown",
   "metadata": {},
   "source": [
    "原式=$$ x*dy-y*dx+\\sqrt{x^2-y^2}*dx  = \\frac{\\mathrm xdy-ydx}{\\mathrm {\\sqrt{x^2-y^2}}}+dx = \\frac{\\mathrm d(y/x)}{\\mathrm {\\sqrt{1-(y/x)^2}} }  +  \\frac{\\mathrm 1}{\\mathrm x}*dx $$"
   ]
  },
  {
   "cell_type": "markdown",
   "metadata": {},
   "source": [
    "即原等式：$$\\frac{\\mathrm d(y/x)}{\\mathrm {\\sqrt{1-(y/x)^2}} }  + \\frac{\\mathrm 1}{\\mathrm x}*dx =0 $$"
   ]
  },
  {
   "cell_type": "markdown",
   "metadata": {},
   "source": [
    "两边积分得方程的解为："
   ]
  },
  {
   "cell_type": "markdown",
   "metadata": {},
   "source": [
    "$$ arcsin(\\frac{\\mathrm y}{\\mathrm x})+ ln|x|=c $$  （c为任意常数）"
   ]
  },
  {
   "cell_type": "markdown",
   "metadata": {},
   "source": [
    "(7）.$$tanydx-cotxdy=0;$$"
   ]
  },
  {
   "cell_type": "markdown",
   "metadata": {},
   "source": [
    "解：显然 $y=k*pi$ ( k 为整数）是原方程的解，则 当 $ tan{y}$不等于0 时，"
   ]
  },
  {
   "cell_type": "markdown",
   "metadata": {},
   "source": [
    "方程移项得：$$cotydy=tanxdx$$"
   ]
  },
  {
   "cell_type": "markdown",
   "metadata": {},
   "source": [
    "两边积分得方程的解为："
   ]
  },
  {
   "cell_type": "markdown",
   "metadata": {},
   "source": [
    "$$ln|siny|=-ln|cosx|+C$$"
   ]
  },
  {
   "cell_type": "markdown",
   "metadata": {},
   "source": [
    "$$siny*cosx=c$$"
   ]
  },
  {
   "cell_type": "markdown",
   "metadata": {},
   "source": [
    "其中 $c=e^C$ 为任意常数"
   ]
  },
  {
   "cell_type": "markdown",
   "metadata": {
    "collapsed": false
   },
   "source": [
    "2 . 作适当的变量变换求解下列方程。"
   ]
  },
  {
   "cell_type": "markdown",
   "metadata": {},
   "source": [
    "（6）. $$\\frac{\\mathrm dy}{\\mathrm dx}= \\frac{\\mathrm {y^6-2x^2}}{\\mathrm {2xy^5+x^2y^2}}$$;"
   ]
  },
  {
   "cell_type": "markdown",
   "metadata": {},
   "source": [
    "解："
   ]
  },
  {
   "cell_type": "markdown",
   "metadata": {},
   "source": [
    "令 $$ u=y^3 $$, "
   ]
  },
  {
   "cell_type": "markdown",
   "metadata": {},
   "source": [
    "则：$$\\frac{\\mathrm du}{\\mathrm dx}=\\frac{\\mathrm du}{\\mathrm dy}·\\frac{\\mathrm dy}{\\mathrm dx}= \\frac{\\mathrm {3u^2-6x^2}}{\\mathrm {2xu+x^2}}$$"
   ]
  },
  {
   "cell_type": "markdown",
   "metadata": {},
   "source": [
    "又另 $$v=\\frac{\\mathrm u}{\\mathrm x} , \\frac{\\mathrm du}{\\mathrm dx}=x*\\frac{\\mathrm dv}{\\mathrm dx}+v$$"
   ]
  },
  {
   "cell_type": "markdown",
   "metadata": {},
   "source": [
    "代入上式得：  $$x*\\frac{\\mathrm dv}{\\mathrm dx}+v=\\frac{\\mathrm {3v^2-6}}{\\mathrm {2v+1}}$$"
   ]
  },
  {
   "cell_type": "markdown",
   "metadata": {},
   "source": [
    "将 $ v $ 移到右边，得：$$ x*\\frac{\\mathrm {dv}}{\\mathrm {dx}}=\\frac{\\mathrm v^2-v-6}{\\mathrm 2v+1}$$"
   ]
  },
  {
   "cell_type": "markdown",
   "metadata": {},
   "source": [
    "移项：$$\\frac{\\mathrm 7}{\\mathrm {5(v-3)}}dv+\\frac{\\mathrm 3}{\\mathrm {5(v+2)}}dv=\\frac{\\mathrm dx}{\\mathrm x}$$"
   ]
  },
  {
   "cell_type": "markdown",
   "metadata": {},
   "source": [
    "再对两边求积分：$$\\frac{\\mathrm 7}{\\mathrm 5}ln|v-3|+\\frac{\\mathrm 3}{\\mathrm 5}ln|v+2|=ln|x|+c$$"
   ]
  },
  {
   "cell_type": "markdown",
   "metadata": {},
   "source": [
    "化简得：$$ (v-3)^7*(v+2)^3=cx^5 $$"
   ]
  },
  {
   "cell_type": "markdown",
   "metadata": {},
   "source": [
    " 即 $$ (y^3-3x)^7(y^3+2x)^3=cx^{15}$$"
   ]
  },
  {
   "cell_type": "markdown",
   "metadata": {},
   "source": [
    "(7).$$\\frac{\\mathrm dy}{\\mathrm dx}=\\frac{\\mathrm {2x^3+3xy^2+x}}{\\mathrm {3x^2y+2y^3-y}}$$"
   ]
  },
  {
   "cell_type": "markdown",
   "metadata": {},
   "source": [
    "解："
   ]
  },
  {
   "cell_type": "markdown",
   "metadata": {},
   "source": [
    "原等式：$$\\frac{\\mathrm ydy}{\\mathrm xdx}=\\frac{\\mathrm {2x^2+3y^2+1}}{\\mathrm {3x^2+2y^2-1}}$$"
   ]
  },
  {
   "cell_type": "markdown",
   "metadata": {},
   "source": [
    "联立方程：$$\\begin{cases}2x^2+3y^2+1=0\\\\3x^2+2y^2-1=0\\end{cases}$$"
   ]
  },
  {
   "cell_type": "markdown",
   "metadata": {},
   "source": [
    "得：$$x^2=1 , y^2=-1$$"
   ]
  },
  {
   "cell_type": "markdown",
   "metadata": {},
   "source": [
    "令 $$ Y=y^2+1 ,  X=x^2-1$$"
   ]
  },
  {
   "cell_type": "markdown",
   "metadata": {},
   "source": [
    "则原等式为：$$\\frac{\\mathrm dY}{\\mathrm dX}=\\frac{\\mathrm {2X+3Y}}{\\mathrm {3X+2Y}}$$"
   ]
  },
  {
   "cell_type": "markdown",
   "metadata": {},
   "source": [
    "又令 $$ u=\\frac{\\mathrm Y}{\\mathrm X}$$"
   ]
  },
  {
   "cell_type": "markdown",
   "metadata": {},
   "source": [
    "原等式：$$ u+\\frac{\\mathrm du}{\\mathrm dx}*x=\\frac{\\mathrm {2+3u}}{\\mathrm {3+2u}}$$"
   ]
  },
  {
   "cell_type": "markdown",
   "metadata": {},
   "source": [
    "移项：$$\\frac{\\mathrm{3+2u}}{\\mathrm{2-2u^2}}du=\\frac{\\mathrm dx}{\\mathrm x}$$"
   ]
  },
  {
   "cell_type": "markdown",
   "metadata": {},
   "source": [
    "$$\\frac{\\mathrm {5}}{\\mathrm 4}\\frac{\\mathrm 1}{\\mathrm {1-u}}du+\\frac{\\mathrm 1}{\\mathrm 4}\\frac{\\mathrm 1}{\\mathrm {u+1}}du=\\frac{\\mathrm dx}{\\mathrm x}$$"
   ]
  },
  {
   "cell_type": "markdown",
   "metadata": {},
   "source": [
    "两边同时求积分，得："
   ]
  },
  {
   "cell_type": "markdown",
   "metadata": {},
   "source": [
    "$$ c(u+1)=x^4(1-u)^5 $$  "
   ]
  },
  {
   "cell_type": "markdown",
   "metadata": {},
   "source": [
    " 即  $$ c(x^2+y^2)=(x^2-y^2-2)^5$$"
   ]
  },
  {
   "cell_type": "markdown",
   "metadata": {},
   "source": [
    "# <font color='red'>A  12/9"
   ]
  },
  {
   "cell_type": "code",
   "execution_count": null,
   "metadata": {
    "collapsed": true
   },
   "outputs": [],
   "source": []
  }
 ],
 "metadata": {
  "kernelspec": {
   "display_name": "SageMath 7.3",
   "language": "",
   "name": "sagemath"
  },
  "language_info": {
   "codemirror_mode": {
    "name": "ipython",
    "version": 2
   },
   "file_extension": ".py",
   "mimetype": "text/x-python",
   "name": "python",
   "nbconvert_exporter": "python",
   "pygments_lexer": "ipython2",
   "version": "2.7.10"
  }
 },
 "nbformat": 4,
 "nbformat_minor": 0
}
