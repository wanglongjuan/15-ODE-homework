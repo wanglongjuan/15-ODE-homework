{
 "cells": [
  {
   "cell_type": "markdown",
   "metadata": {},
   "source": [
    "1.求解下列常系数线性微分方程"
   ]
  },
  {
   "cell_type": "markdown",
   "metadata": {},
   "source": [
    "（1）$x'''-3ax''+3a^2x'-a^3x=0$"
   ]
  },
  {
   "cell_type": "markdown",
   "metadata": {},
   "source": [
    "解：特征方程$\\lambda^3-3a\\lambda^2+3a^2\\lambda-a^3=0$,可化为：\n",
    "$$(\\lambda-a)^3=0$$,即$\\lambda=a$是三重根，因此方程的通解为：\n",
    "$$x=(c_1+c_2t+c_3t^2)\\mathrm e ^{at}$$,其中$c_1,c_2,c_3$为任意常数。\n"
   ]
  },
  {
   "cell_type": "markdown",
   "metadata": {},
   "source": [
    "(2)$x^{(5)}-4x'''=0$"
   ]
  },
  {
   "cell_type": "markdown",
   "metadata": {},
   "source": [
    "解：特征方程为：\n",
    "$$\\lambda^5-4\\lambda^3=0$$\n",
    "可化为：$\\lambda^3(\\lambda+2)(\\lambda-2)$则方程解为：\n",
    "$$x=c_1+c_2t+c_3t+c_4\\mathrm e ^{2t}+c_5\\mathrm e ^{-2t}$$"
   ]
  },
  {
   "cell_type": "markdown",
   "metadata": {
    "collapsed": true
   },
   "source": [
    "# <font color='red'>A  1/11"
   ]
  },
  {
   "cell_type": "code",
   "execution_count": null,
   "metadata": {
    "collapsed": true
   },
   "outputs": [],
   "source": []
  }
 ],
 "metadata": {
  "kernelspec": {
   "display_name": "SageMath 7.3",
   "language": "",
   "name": "sagemath"
  },
  "language_info": {
   "codemirror_mode": {
    "name": "ipython",
    "version": 2
   },
   "file_extension": ".py",
   "mimetype": "text/x-python",
   "name": "python",
   "nbconvert_exporter": "python",
   "pygments_lexer": "ipython2",
   "version": "2.7.10"
  }
 },
 "nbformat": 4,
 "nbformat_minor": 0
}
