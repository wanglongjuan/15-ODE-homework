{
 "cells": [
  {
   "cell_type": "markdown",
   "metadata": {},
   "source": [
    "$一, 求解下列常系数线性微分方程.$\n",
    "\n",
    "$1,$\n",
    "\n",
    "$$\\quad x^{{\\prime}{\\prime}{\\prime}}-3a x^{{\\prime}{\\prime}}+3a^2 x^{\\prime}-a^3 x=0$$\n",
    "\n",
    "$解\\quad特征方程为:\n",
    "\n",
    "$$\\lambda^3-3a\\lambda^2+3a^2\\lambda-a^3=0$$\n",
    "\n",
    "$或$\n",
    "\n",
    "$$(\\lambda-a)^3=0$$\n",
    "\n",
    "$即得\\lambda=a是三重根，因此方程的通解为$\n",
    "\n",
    "$$x=(c_1+c_2t+c_3t^2)e^{at}$$\n",
    "\n",
    "$其中c_1,c_2,c_3为任意常数$"
   ]
  },
  {
   "cell_type": "markdown",
   "metadata": {},
   "source": [
    "$2,$\n",
    "\n",
    "$$\\quad x^{(5)}-4 x^{{\\prime}{\\prime}{\\prime}}=0$$\n",
    "\n",
    "$解\\quad特征方程为$\n",
    "\n",
    "$${\\lambda}^5-4 {\\lambda}^3=0$$\n",
    "\n",
    "$或$\n",
    "\n",
    "$${\\lambda}^3({\\lambda}^2-4)=0$$\n",
    "\n",
    "$即得特征根为$\n",
    "\n",
    "$${\\lambda}_1={\\lambda}_2={\\lambda}_3=0$$\n",
    "\n",
    "$${\\lambda}_4=2,{\\lambda}_5=-2$$\n",
    "\n",
    "$所以方程的通解为$\n",
    "\n",
    "$$x=c_1+c_2t+c_3 t^2+c_4 e^{2t}+c_5 e^{-2t}$$\n",
    "\n",
    "$这里c_1,c_2,c_3,c_4,c_5是任意常数$"
   ]
  },
  {
   "cell_type": "markdown",
   "metadata": {
    "collapsed": true
   },
   "source": [
    "# <font color='red'>A  1/11"
   ]
  },
  {
   "cell_type": "code",
   "execution_count": null,
   "metadata": {
    "collapsed": true
   },
   "outputs": [],
   "source": []
  }
 ],
 "metadata": {
  "kernelspec": {
   "display_name": "SageMath 7.3",
   "language": "",
   "name": "sagemath"
  },
  "language_info": {
   "codemirror_mode": {
    "name": "ipython",
    "version": 2
   },
   "file_extension": ".py",
   "mimetype": "text/x-python",
   "name": "python",
   "nbconvert_exporter": "python",
   "pygments_lexer": "ipython2",
   "version": "2.7.10"
  }
 },
 "nbformat": 4,
 "nbformat_minor": 0
}
