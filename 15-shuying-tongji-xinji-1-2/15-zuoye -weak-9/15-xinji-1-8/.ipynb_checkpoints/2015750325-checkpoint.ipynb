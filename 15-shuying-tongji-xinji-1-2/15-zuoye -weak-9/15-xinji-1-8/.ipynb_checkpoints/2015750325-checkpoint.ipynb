{
 "cells": [
  {
   "cell_type": "markdown",
   "metadata": {},
   "source": [
    "4.2\n",
    "\n",
    "$2(2)特征方程为\\lambda^3-3a\\lambda^2+3a^2\\lambda-a^3=0$\n",
    "\n",
    "$即得特征根为\\lambda_1=\\lambda_2=\\lambda_3=a$\n",
    "\n",
    "$所以方程的通解为x=c_1e^{at}+c_2te^{at}+c_3t^2e^{at}$"
   ]
  },
  {
   "cell_type": "markdown",
   "metadata": {},
   "source": [
    "$(3)特征方程为\\lambda^5-4\\lambda^3=0$\n",
    "\n",
    "$即得特征根为\\lambda_1=\\lambda_2=\\lambda_3=0,\\lambda_4=2,\\lambda_5=-2$\n",
    "\n",
    "$所以方程的通解为x=c_1+c_2t+c_3t^2+c_4e^{2t}+c_5e^{-2t}$"
   ]
  },
  {
   "cell_type": "markdown",
   "metadata": {},
   "source": [
    "# <font color='red'>A  1/11"
   ]
  },
  {
   "cell_type": "code",
   "execution_count": null,
   "metadata": {
    "collapsed": true
   },
   "outputs": [],
   "source": []
  }
 ],
 "metadata": {
  "kernelspec": {
   "display_name": "SageMath 7.3",
   "language": "",
   "name": "sagemath"
  },
  "language_info": {
   "codemirror_mode": {
    "name": "ipython",
    "version": 2
   },
   "file_extension": ".py",
   "mimetype": "text/x-python",
   "name": "python",
   "nbconvert_exporter": "python",
   "pygments_lexer": "ipython2",
   "version": "2.7.10"
  }
 },
 "nbformat": 4,
 "nbformat_minor": 0
}
