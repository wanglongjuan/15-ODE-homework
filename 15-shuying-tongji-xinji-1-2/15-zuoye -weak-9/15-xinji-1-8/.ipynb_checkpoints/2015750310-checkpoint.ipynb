{
 "cells": [
  {
   "cell_type": "markdown",
   "metadata": {},
   "source": [
    "2 解：$$特征方程为λ^3-3aλ^2-a^3=0,它有三重根λ=a,因此方程的通解为x=c_1e^(at)+c_2te^(at)+c_3t^2e^(at),其中c_1,c_2,c_3为任意常数$$"
   ]
  },
  {
   "cell_type": "markdown",
   "metadata": {},
   "source": [
    "3 解：$$特征方程为λ^5-4λ^3=0,它有根λ_(1,2,3)=0,λ_4=2,λ_5=-2,因此方程的通解为x=c_1e^(2t)+c_2e^(-2t)+c_3t^2+c_4t+c_5,其中c_1,c_2,c_3,c_4,c_5为任意常数$$"
   ]
  },
  {
   "cell_type": "markdown",
   "metadata": {
    "collapsed": true
   },
   "source": [
    "# <font color='red'>A  1/11"
   ]
  },
  {
   "cell_type": "code",
   "execution_count": null,
   "metadata": {
    "collapsed": true
   },
   "outputs": [],
   "source": []
  }
 ],
 "metadata": {
  "kernelspec": {
   "display_name": "SageMath 7.3",
   "language": "",
   "name": "sagemath"
  },
  "language_info": {
   "codemirror_mode": {
    "name": "ipython",
    "version": 2
   },
   "file_extension": ".py",
   "mimetype": "text/x-python",
   "name": "python",
   "nbconvert_exporter": "python",
   "pygments_lexer": "ipython2",
   "version": "2.7.10"
  }
 },
 "nbformat": 4,
 "nbformat_minor": 0
}
