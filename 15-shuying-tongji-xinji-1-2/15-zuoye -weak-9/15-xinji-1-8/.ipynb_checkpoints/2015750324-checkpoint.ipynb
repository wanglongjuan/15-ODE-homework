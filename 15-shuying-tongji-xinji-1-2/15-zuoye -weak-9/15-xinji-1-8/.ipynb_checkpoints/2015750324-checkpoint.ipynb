{
 "cells": [
  {
   "cell_type": "markdown",
   "metadata": {},
   "source": [
    "2.求解下列常系数线性微分方程.\n",
    "\n",
    "（2）$x'''-3ax''+3a^2x'-a^3x=0$\n",
    "\n",
    "（3）$x^{(5)}-ax'''=0$"
   ]
  },
  {
   "cell_type": "markdown",
   "metadata": {},
   "source": [
    "（2）\n",
    "\n",
    "解：\n",
    "\n",
    "特征方程为$\\lambda^3-3a\\lambda^2+3a^2\\lambda-a^3=0$,即为$(\\lambda-a)^3=0$\n",
    "\n",
    "所以，$\\lambda=a$为三重根,得到方程式通解为\n",
    "$$x=(c_1+c_2t+c_3t^2)e^{at}$$\n",
    "\n",
    "$其中c_1,c_2,c_3 为任意常数.$"
   ]
  },
  {
   "cell_type": "markdown",
   "metadata": {},
   "source": [
    "（3）\n",
    "\n",
    "解：\n",
    "\n",
    "特征方程为$\\lambda^5-4\\lambda^3=0$,即为$\\lambda^3(\\lambda^2-4)=0$\n",
    "\n",
    "所以，$\\lambda_1=\\lambda_2=\\lambda_3=0,\\lambda_4=2,\\lambda_5=-2$,得到方程式通解为\n",
    "$$x=c_1+c_2t+c_3t^2+c_4e^{2t}+c_5e^{-2t}$$\n",
    "\n",
    "$其中c_1,c_2,c_3,c_4,c_5为任意常数.$"
   ]
  },
  {
   "cell_type": "markdown",
   "metadata": {
    "collapsed": true
   },
   "source": [
    "# <font color='red'>A  1/11"
   ]
  },
  {
   "cell_type": "code",
   "execution_count": null,
   "metadata": {
    "collapsed": true
   },
   "outputs": [],
   "source": []
  }
 ],
 "metadata": {
  "kernelspec": {
   "display_name": "SageMath 7.3",
   "language": "",
   "name": "sagemath"
  },
  "language_info": {
   "codemirror_mode": {
    "name": "ipython",
    "version": 2
   },
   "file_extension": ".py",
   "mimetype": "text/x-python",
   "name": "python",
   "nbconvert_exporter": "python",
   "pygments_lexer": "ipython2",
   "version": "2.7.10"
  }
 },
 "nbformat": 4,
 "nbformat_minor": 0
}
