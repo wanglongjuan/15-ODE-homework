{
 "cells": [
  {
   "cell_type": "markdown",
   "metadata": {},
   "source": [
    "求解下列常系数线性微分方程。"
   ]
  },
  {
   "cell_type": "markdown",
   "metadata": {},
   "source": [
    "$(1)x'''-3ax''+3a^2x'-a^3x=0$\n",
    "\n",
    "解：特征方程$\\lambda^3-3a\\lambda+3a^2\\lambda-a^3=0$有三重根$\\lambda=a$\n",
    "则通解为$x=c_1 e^{at}+c_2 te^{at}+c_3 t^2e^{at}$"
   ]
  },
  {
   "cell_type": "markdown",
   "metadata": {},
   "source": [
    "$(2)x^{(5)}-4x'''=0$\n",
    "\n",
    "解：特征方程$\\lambda^5-4\\lambda^3=0$有三重根$\\lambda=0,\\lambda_4=2,\\lambda_5=-2$\n",
    "则通解为$x=c_1 e^{2t}+c_2 e^{-2t}+c_3 t^2+c_4 t+c_5$"
   ]
  },
  {
   "cell_type": "markdown",
   "metadata": {},
   "source": [
    "# <font color='red'>A + 1/11"
   ]
  },
  {
   "cell_type": "code",
   "execution_count": null,
   "metadata": {
    "collapsed": true
   },
   "outputs": [],
   "source": []
  }
 ],
 "metadata": {
  "kernelspec": {
   "display_name": "SageMath 7.3",
   "language": "",
   "name": "sagemath"
  },
  "language_info": {
   "codemirror_mode": {
    "name": "ipython",
    "version": 2
   },
   "file_extension": ".py",
   "mimetype": "text/x-python",
   "name": "python",
   "nbconvert_exporter": "python",
   "pygments_lexer": "ipython2",
   "version": "2.7.10"
  }
 },
 "nbformat": 4,
 "nbformat_minor": 0
}
