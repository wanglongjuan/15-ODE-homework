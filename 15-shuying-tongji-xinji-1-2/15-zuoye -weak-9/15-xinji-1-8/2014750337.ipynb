{
 "cells": [
  {
   "cell_type": "markdown",
   "metadata": {
    "collapsed": false
   },
   "source": [
    "# 作业7  \n",
    "**P164**  \n",
    "**2求解下列常系数线性微分方程**  \n",
    "**(2)$x^{'''}-3ax^{''}+3a^2x-a^3=0$**"
   ]
  },
  {
   "cell_type": "markdown",
   "metadata": {},
   "source": [
    "**解：**特征方程$\\lambda^3-3a\\lambda^2+3a^2\\lambda-a^3=0$的特征根为$\\lambda=a$(三重)  \n",
    "所以方程的解为$x=(c_1+c_2t+c_3t^2)e^{at}$"
   ]
  },
  {
   "cell_type": "markdown",
   "metadata": {},
   "source": [
    "**(3)$x^{(5)}-4x^{'''}=0$**"
   ]
  },
  {
   "cell_type": "markdown",
   "metadata": {},
   "source": [
    "**解：**特征方程$\\lambda^5-4\\lambda^3=0$的特征根为$\\lambda=0$(三重)及$\\lambda_1=2$,$\\lambda_2=-2$  \n",
    "所以方程的解为$x=c_1+c_2t+c_3t^2+c_4e^{2t}+c_5e^{-2t}$"
   ]
  },
  {
   "cell_type": "markdown",
   "metadata": {},
   "source": [
    "# <font color='red'>A  1/11"
   ]
  },
  {
   "cell_type": "code",
   "execution_count": null,
   "metadata": {
    "collapsed": true
   },
   "outputs": [],
   "source": []
  }
 ],
 "metadata": {
  "kernelspec": {
   "display_name": "Python 2",
   "language": "python",
   "name": "python2"
  },
  "language_info": {
   "codemirror_mode": {
    "name": "ipython",
    "version": 2
   },
   "file_extension": ".py",
   "mimetype": "text/x-python",
   "name": "python",
   "nbconvert_exporter": "python",
   "pygments_lexer": "ipython2",
   "version": "2.7.10"
  }
 },
 "nbformat": 4,
 "nbformat_minor": 0
}
