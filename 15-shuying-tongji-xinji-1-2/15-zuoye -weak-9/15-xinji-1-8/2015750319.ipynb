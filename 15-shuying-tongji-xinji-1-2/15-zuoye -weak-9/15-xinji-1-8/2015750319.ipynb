{
 "cells": [
  {
   "cell_type": "markdown",
   "metadata": {},
   "source": [
    "2.(2)特征方程为\n",
    "\n",
    "$$\n",
    "\\lambda^3-3a\\lambda^2+3a^2\\lambda-a^3=0\n",
    "$$\n",
    "\n",
    "有三重根$\\lambda=a$\n",
    "\n",
    "故方程的通解为\n",
    "\n",
    "$$\n",
    "x=c_1 e^{at}+c_2 te^{at}+c_3 t^2 e^{at}\n",
    "$$"
   ]
  },
  {
   "cell_type": "markdown",
   "metadata": {},
   "source": [
    "(3)特征方程为$$\\lambda^5-4\\lambda^3=0 $$\n",
    "\n",
    "有根\n",
    "\n",
    "$$\n",
    "\\lambda_{1,2,3}=0,\\lambda_4=2,\\lambda_5=-2\n",
    "$$\n",
    "\n",
    "通解为\n",
    "\n",
    "$$\n",
    "x=c_1 e^{2t}+c_2 e^{-2t}+c_3 t^2 +c_4 t +c_5\n",
    "$$"
   ]
  },
  {
   "cell_type": "markdown",
   "metadata": {},
   "source": [
    "# <font color='red'>A  1/11"
   ]
  },
  {
   "cell_type": "code",
   "execution_count": null,
   "metadata": {
    "collapsed": true
   },
   "outputs": [],
   "source": []
  }
 ],
 "metadata": {
  "kernelspec": {
   "display_name": "SageMath 7.3",
   "language": "",
   "name": "sagemath"
  },
  "language_info": {
   "codemirror_mode": {
    "name": "ipython",
    "version": 2
   },
   "file_extension": ".py",
   "mimetype": "text/x-python",
   "name": "python",
   "nbconvert_exporter": "python",
   "pygments_lexer": "ipython2",
   "version": "2.7.10"
  }
 },
 "nbformat": 4,
 "nbformat_minor": 0
}
