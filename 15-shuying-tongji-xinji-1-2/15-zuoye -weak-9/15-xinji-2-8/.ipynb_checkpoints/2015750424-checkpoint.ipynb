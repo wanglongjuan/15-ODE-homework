{
 "cells": [
  {
   "cell_type": "markdown",
   "metadata": {},
   "source": [
    "P164.\n",
    "\n",
    "2求解下列常系数线性微分方程。"
   ]
  },
  {
   "cell_type": "markdown",
   "metadata": {},
   "source": [
    "(2)$x'''-3ax''+3a^{2}x'-a^{3}x=0$"
   ]
  },
  {
   "cell_type": "markdown",
   "metadata": {},
   "source": [
    "解：因为特征方程为：$λ^3-3aλ^2+3a^{2}λ-a^3=0$或者$(λ-a)^3=0$\n",
    "\n",
    "所以$λ=a$是三重根。\n",
    "\n",
    "即方程的通解为：\n",
    "$$x=(c_{1}+c_{2}t+c_{3}t^2)e^{at},其中c_{1},c_{2},c_{3}为任意常数。$$"
   ]
  },
  {
   "cell_type": "markdown",
   "metadata": {},
   "source": [
    "(3)$x^{(5)}-4x'''=0$"
   ]
  },
  {
   "cell_type": "markdown",
   "metadata": {},
   "source": [
    "解：因为特征方程为：$λ^5-4λ^3=0$,或者$λ^{3}(λ^2-4)=0$\n",
    "\n",
    "即得特征根为：$λ_{1}=λ_{2}=λ_{3}=0,λ_{4}=2,λ_{5}=-2$\n",
    "\n",
    "所以方程的通解为：$$x=c_{1}+c_{2}t+c_{3}t^2+c_{4}e^{2t}+c_{5}e^{-2t}其中c_{1},c_{2},c_{3},c_{4},c_{5}为任意常数。$$"
   ]
  },
  {
   "cell_type": "markdown",
   "metadata": {
    "collapsed": true
   },
   "source": [
    "# <font color='red'>A  1/11"
   ]
  },
  {
   "cell_type": "code",
   "execution_count": null,
   "metadata": {
    "collapsed": true
   },
   "outputs": [],
   "source": []
  },
  {
   "cell_type": "code",
   "execution_count": null,
   "metadata": {
    "collapsed": true
   },
   "outputs": [],
   "source": []
  }
 ],
 "metadata": {
  "kernelspec": {
   "display_name": "SageMath 7.3",
   "language": "",
   "name": "sagemath"
  },
  "language_info": {
   "codemirror_mode": {
    "name": "ipython",
    "version": 2
   },
   "file_extension": ".py",
   "mimetype": "text/x-python",
   "name": "python",
   "nbconvert_exporter": "python",
   "pygments_lexer": "ipython2",
   "version": "2.7.10"
  }
 },
 "nbformat": 4,
 "nbformat_minor": 0
}
