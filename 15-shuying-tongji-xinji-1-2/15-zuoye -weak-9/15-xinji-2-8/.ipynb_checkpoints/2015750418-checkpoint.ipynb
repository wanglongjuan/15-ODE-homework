{
 "cells": [
  {
   "cell_type": "markdown",
   "metadata": {},
   "source": [
    "常微分方程第七次作业"
   ]
  },
  {
   "cell_type": "markdown",
   "metadata": {},
   "source": [
    "书P164"
   ]
  },
  {
   "cell_type": "markdown",
   "metadata": {},
   "source": [
    "2求解下列常系数线性微分方程:\n",
    "\n",
    "(2)$$x'''-3ax''+3a^2x'-a^3x=0$$\n",
    "\n",
    "\n",
    "解：方程的特征方程为：$$λ^3-3a^2λ+3a^2λ-a^3=0$$\n",
    "\n",
    "得$$(λ-a)^3$$\n",
    "\n",
    "\n",
    "得到$λ=a$是特征方程的三重根\n",
    "\n",
    "\n",
    "因此方程的通解为$$x=(c_1+c_2t+c_3t^2)e^{at}$$\n",
    "\n",
    "其中$c_1,c_2,c_3$为任意常数。"
   ]
  },
  {
   "cell_type": "markdown",
   "metadata": {},
   "source": [
    "(3)$$x^{5}-4x'''=0$$\n",
    "\n",
    "解：方程的特征方程为：$$λ^5-4λ^3=0$$\n",
    "\n",
    "得到特征方程的根为：λ=0,+2,-2，其中0为三重根\n",
    "\n",
    "因此方程的通解为：$$x=c_1+c_2t+c_3t^2+c_4e^{2t}+c_5e^{-2t}$$\n",
    "\n",
    "其中$c_1,c_2,c_3,c_4,c_5$为任意常数。"
   ]
  },
  {
   "cell_type": "markdown",
   "metadata": {
    "collapsed": true
   },
   "source": [
    "# <font color='red'>A  1/11"
   ]
  },
  {
   "cell_type": "code",
   "execution_count": null,
   "metadata": {
    "collapsed": true
   },
   "outputs": [],
   "source": []
  }
 ],
 "metadata": {
  "kernelspec": {
   "display_name": "SageMath 7.3",
   "language": "",
   "name": "sagemath"
  },
  "language_info": {
   "codemirror_mode": {
    "name": "ipython",
    "version": 2
   },
   "file_extension": ".py",
   "mimetype": "text/x-python",
   "name": "python",
   "nbconvert_exporter": "python",
   "pygments_lexer": "ipython2",
   "version": "2.7.10"
  }
 },
 "nbformat": 4,
 "nbformat_minor": 0
}
