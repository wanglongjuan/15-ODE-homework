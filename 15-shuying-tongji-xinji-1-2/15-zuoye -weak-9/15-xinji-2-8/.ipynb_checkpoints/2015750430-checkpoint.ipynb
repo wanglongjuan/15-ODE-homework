{
 "cells": [
  {
   "cell_type": "markdown",
   "metadata": {},
   "source": [
    "**1.求解下列常系数线性微分方程。**\n"
   ]
  },
  {
   "cell_type": "markdown",
   "metadata": {},
   "source": [
    "**（2）.$x'''-3ax''+3a^2x'-a^3x=0$**"
   ]
  },
  {
   "cell_type": "markdown",
   "metadata": {},
   "source": [
    "**特征方程：**\n",
    "\n",
    "\\begin{aligned}\n",
    "\\lambda^3-3a\\lambda^2+3a^2\\lambda-a^3&=0\\\\\n",
    "(\\lambda-a)^3&=0\\\\\n",
    "\\end{aligned}"
   ]
  },
  {
   "cell_type": "markdown",
   "metadata": {},
   "source": [
    "**即特征值为：\n",
    "$\\lambda_1=\\lambda_2=\\lambda_3=0$**"
   ]
  },
  {
   "cell_type": "markdown",
   "metadata": {},
   "source": [
    "**即方程有三重根，即方程有三个解：$e^{at},te^{at},t^2e^{at}$**"
   ]
  },
  {
   "cell_type": "markdown",
   "metadata": {},
   "source": [
    "**即,通解为：**\n",
    "\n",
    "**$$x=c_1e^{at}+c_2te^{at}+c_3t^2e^{at}$$**"
   ]
  },
  {
   "cell_type": "markdown",
   "metadata": {},
   "source": [
    "**（3）.$x^{(5)}-4x'''=0$**"
   ]
  },
  {
   "cell_type": "markdown",
   "metadata": {},
   "source": [
    "**特征方程：**\n",
    "\n",
    "\\begin{aligned}\n",
    "\\lambda^5-4\\lambda^3&=0\\\\\n",
    "\\lambda^3(\\lambda^2-4)&=0\\\\\n",
    "\\end{aligned}\n",
    "\n",
    "**即特征值为：$\\lambda_1=\\lambda_2=\\lambda_3=0\\quad , \\quad\\lambda_4=2,\\lambda_5=-2$**"
   ]
  },
  {
   "cell_type": "markdown",
   "metadata": {},
   "source": [
    "**即方程有三重根，即方程有三个解：$1,t,t^2$**"
   ]
  },
  {
   "cell_type": "markdown",
   "metadata": {},
   "source": [
    "**即,通解为：**\n",
    "\n",
    "**$$x=c_1+c_2t+c_3t^2+c_4e^{2t}+c_5e^{-2t}$$**"
   ]
  },
  {
   "cell_type": "markdown",
   "metadata": {},
   "source": [
    "# <font color='red'>A  1/11"
   ]
  },
  {
   "cell_type": "code",
   "execution_count": null,
   "metadata": {
    "collapsed": true
   },
   "outputs": [],
   "source": []
  }
 ],
 "metadata": {
  "kernelspec": {
   "display_name": "SageMath 7.3",
   "language": "",
   "name": "sagemath"
  },
  "language_info": {
   "codemirror_mode": {
    "name": "ipython",
    "version": 2
   },
   "file_extension": ".py",
   "mimetype": "text/x-python",
   "name": "python",
   "nbconvert_exporter": "python",
   "pygments_lexer": "ipython2",
   "version": "2.7.10"
  }
 },
 "nbformat": 4,
 "nbformat_minor": 0
}
