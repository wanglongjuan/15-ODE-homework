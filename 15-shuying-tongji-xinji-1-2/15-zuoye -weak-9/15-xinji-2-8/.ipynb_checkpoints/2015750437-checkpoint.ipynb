{
 "cells": [
  {
   "cell_type": "markdown",
   "metadata": {},
   "source": [
    "#常微分方程作业 2015750437 李玉贤\n",
    "\n",
    "##P164.2.(2).(3).\n"
   ]
  },
  {
   "cell_type": "markdown",
   "metadata": {},
   "source": [
    "**$2.求解下列常系数微分方程：$**"
   ]
  },
  {
   "cell_type": "markdown",
   "metadata": {},
   "source": [
    "**$（2）x'''-3ax''+3a^2x'-a^3x=0;$**"
   ]
  },
  {
   "cell_type": "markdown",
   "metadata": {},
   "source": [
    "**$ 解:$**\n",
    "$$特征方程为：\\lambda^3-3a\\lambda^2+3a^2\\lambda-a^3=0或(\\lambda-a)^3=0,\\\\\n",
    "即得特征根为：\\lambda_1=\\lambda_2=\\lambda_3==a\\\\\n",
    "所以方程的通解为：x=(c_1+c_2t+c_3t^2)e^{at}\\\\\n",
    "c_1,c_2,c_3为任意常数。$$"
   ]
  },
  {
   "cell_type": "markdown",
   "metadata": {},
   "source": [
    "**$（3）x^(5)-4x'''=0;$**"
   ]
  },
  {
   "cell_type": "markdown",
   "metadata": {},
   "source": [
    "**$ 解:$**\n",
    "$$特征方程为：\\lambda^3(\\lambda^2-4)=0,\\\\\n",
    "即得特征根为：\\lambda_1=\\lambda_2=\\lambda_3=0,\\lambda_4=2,\\lambda_5=-2\\\\\n",
    "所以方程的通解为：x=c_1+c_2t+c_3t^2+c_4e^{2t}+c_5e^{-2t}\\\\\n",
    "c_1,c_2,c_3,c_4,c_5为任意常数。$$"
   ]
  },
  {
   "cell_type": "markdown",
   "metadata": {},
   "source": [
    "# <font color='red'>A  1/11"
   ]
  },
  {
   "cell_type": "code",
   "execution_count": null,
   "metadata": {
    "collapsed": true
   },
   "outputs": [],
   "source": []
  }
 ],
 "metadata": {
  "kernelspec": {
   "display_name": "SageMath 7.3",
   "language": "",
   "name": "sagemath"
  },
  "language_info": {
   "codemirror_mode": {
    "name": "ipython",
    "version": 2
   },
   "file_extension": ".py",
   "mimetype": "text/x-python",
   "name": "python",
   "nbconvert_exporter": "python",
   "pygments_lexer": "ipython2",
   "version": "2.7.10"
  }
 },
 "nbformat": 4,
 "nbformat_minor": 0
}
