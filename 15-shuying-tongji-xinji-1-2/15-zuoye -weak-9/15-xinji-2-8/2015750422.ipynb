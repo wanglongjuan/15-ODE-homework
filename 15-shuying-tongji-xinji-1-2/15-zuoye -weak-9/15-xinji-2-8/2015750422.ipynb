{
 "cells": [
  {
   "cell_type": "markdown",
   "metadata": {},
   "source": [
    "2.求解下列常系数线性微分方程。"
   ]
  },
  {
   "cell_type": "markdown",
   "metadata": {},
   "source": [
    "（2）$$x'''-3ax''+3a^2x'-a^3x=0$$\n",
    "解：方程的特征方程为：$b^3-3a^2b+3a^2b+a^3=0$\n",
    "得到特征方程的根三重根为$b=a$,\n",
    "因此方程的通解具有形状$x=(c_1+c_2t+c_3t^2)e^{at}$"
   ]
  },
  {
   "cell_type": "markdown",
   "metadata": {},
   "source": [
    "(3)$$x^(5)-4x'''=0$$\n",
    "解：方程的特征方程为：$b^5-4b^3=0$\n",
    "得到特征方程的根为：b=0,+2,-2，其中0为三重根，因此方程的通解为：$$x=c_1+c_2t+c_3t^2+c_4e^{2t}+c_5e^{-2t}$$"
   ]
  },
  {
   "cell_type": "markdown",
   "metadata": {
    "collapsed": true
   },
   "source": [
    "# <font color='red'>A  1/11"
   ]
  },
  {
   "cell_type": "code",
   "execution_count": null,
   "metadata": {
    "collapsed": true
   },
   "outputs": [],
   "source": []
  }
 ],
 "metadata": {
  "kernelspec": {
   "display_name": "SageMath 7.3",
   "language": "",
   "name": "sagemath"
  },
  "language_info": {
   "codemirror_mode": {
    "name": "ipython",
    "version": 2
   },
   "file_extension": ".py",
   "mimetype": "text/x-python",
   "name": "python",
   "nbconvert_exporter": "python",
   "pygments_lexer": "ipython2",
   "version": "2.7.10"
  }
 },
 "nbformat": 4,
 "nbformat_minor": 0
}
