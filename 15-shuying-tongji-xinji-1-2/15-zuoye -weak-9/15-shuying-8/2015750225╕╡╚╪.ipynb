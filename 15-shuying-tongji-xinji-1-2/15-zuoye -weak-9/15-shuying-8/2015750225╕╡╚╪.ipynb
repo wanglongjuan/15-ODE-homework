{
 "cells": [
  {
   "cell_type": "markdown",
   "metadata": {
    "collapsed": true
   },
   "source": [
    "## P164 2.(2) $\\frac{\\mathrm d^3 x}{\\mathrm d t^3}-3a \\frac{\\mathrm d^2 x}{\\mathrm d t^2}+3a^2 \\frac{\\mathrm d x}{\\mathrm d t}-a^3x=0$"
   ]
  },
  {
   "cell_type": "markdown",
   "metadata": {},
   "source": [
    "**解：** \n",
    "\n",
    "$\\lambda^3-3a \\lambda^2+3a^2\\lambda-a^3=0$\n",
    "\n",
    "$(\\lambda-a)^3=0$\n",
    "\n",
    "所以$\\lambda_1=\\lambda_2=\\lambda_3=a$为三重根。\n",
    "\n",
    "即解为$e^{at},te^{at},t^2 e^{at}$\n",
    "\n",
    "所以同解为：$x=c_1 e^{at}+c_2t e^{at}+c_3 t^2 e^{at}$,其中$c_1,c_2,c_3$为任意常数。"
   ]
  },
  {
   "cell_type": "markdown",
   "metadata": {},
   "source": [
    "## (3) $x^{(5)}-4x'''=0$"
   ]
  },
  {
   "cell_type": "markdown",
   "metadata": {},
   "source": [
    "**解**\n",
    "\n",
    "$\\lambda^5-4\\lambda^3=0$\n",
    "\n",
    "$\\lambda^3(\\lambda^2-4)=\\lambda^3(\\lambda+2)(\\lambda-2)=0$\n",
    "\n",
    "所以$\\lambda_1=\\lambda_2=\\lambda_3=0$为其三重根，$\\lambda_4=-2,\\lambda_5=2$为其单根。\n",
    "\n",
    "所以基本解组为：$1,t,t^2,e^{-2t},e^{2t}$\n",
    "\n",
    "所以通解为$x=c_1+c_2t+c_3t^2+c_4 e^{-2t}+c_5 e^{2t}$,其中$c_1,c_2,c_3,c_4,c_5$为任意常数。"
   ]
  },
  {
   "cell_type": "markdown",
   "metadata": {
    "collapsed": true
   },
   "source": [
    "# <font color='red'>A+  1/11"
   ]
  },
  {
   "cell_type": "code",
   "execution_count": null,
   "metadata": {
    "collapsed": true
   },
   "outputs": [],
   "source": []
  }
 ],
 "metadata": {
  "kernelspec": {
   "display_name": "SageMath 7.3",
   "language": "",
   "name": "sagemath"
  },
  "language_info": {
   "codemirror_mode": {
    "name": "ipython",
    "version": 2
   },
   "file_extension": ".py",
   "mimetype": "text/x-python",
   "name": "python",
   "nbconvert_exporter": "python",
   "pygments_lexer": "ipython2",
   "version": "2.7.10"
  }
 },
 "nbformat": 4,
 "nbformat_minor": 0
}
