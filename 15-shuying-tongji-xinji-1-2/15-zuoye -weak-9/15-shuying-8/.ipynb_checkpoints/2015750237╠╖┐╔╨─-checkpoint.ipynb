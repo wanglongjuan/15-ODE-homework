{
 "cells": [
  {
   "cell_type": "markdown",
   "metadata": {},
   "source": [
    "2016年10月26日  星期三\n",
    "\n",
    "P164\n",
    "\n",
    "1、求解下列常系数线性微分方程\n",
    "\n",
    "(2)$x'''-3ax''+3a^2x'-a^3x=0$\n",
    "\n",
    "解：特征方程$\\lambda^3-3a\\lambda^2+3a^2\\lambda-a^3=0$\n",
    "\n",
    "$(\\lambda-a)^3=0$\n",
    "\n",
    "解得特征根$\\lambda_1=\\lambda_2=\\lambda_3=a$为三重根\n",
    "\n",
    "故方程的通解为$x=(c_1+c_2t+c_3t^2)e^{at},$其中$c_1,c_2,c_3$是任意常数"
   ]
  },
  {
   "cell_type": "markdown",
   "metadata": {},
   "source": [
    "(3)$x^{(5)}-4x'''=0$\n",
    "\n",
    "解：特征方程$\\lambda^5-4\\lambda^3=0$\n",
    "\n",
    "$\\lambda^3(\\lambda-4)=0$\n",
    "\n",
    "解得特征根$\\lambda_1=\\lambda_2=\\lambda_3=0,\\lambda_4=2,\\lambda_5=-2$\n",
    "\n",
    "故方程的通解为$x=c_1+c_2t+c_3t^2+c_4e^{2t}+c_5e^{-2t}$,其中$c_1,c_2,c_3,c_4,c_5$是任意常数"
   ]
  },
  {
   "cell_type": "markdown",
   "metadata": {},
   "source": [
    "# <font color='red'>A  1/11"
   ]
  },
  {
   "cell_type": "code",
   "execution_count": null,
   "metadata": {
    "collapsed": true
   },
   "outputs": [],
   "source": []
  }
 ],
 "metadata": {
  "kernelspec": {
   "display_name": "SageMath 7.3",
   "language": "",
   "name": "sagemath"
  },
  "language_info": {
   "codemirror_mode": {
    "name": "ipython",
    "version": 2
   },
   "file_extension": ".py",
   "mimetype": "text/x-python",
   "name": "python",
   "nbconvert_exporter": "python",
   "pygments_lexer": "ipython2",
   "version": "2.7.10"
  }
 },
 "nbformat": 4,
 "nbformat_minor": 0
}
