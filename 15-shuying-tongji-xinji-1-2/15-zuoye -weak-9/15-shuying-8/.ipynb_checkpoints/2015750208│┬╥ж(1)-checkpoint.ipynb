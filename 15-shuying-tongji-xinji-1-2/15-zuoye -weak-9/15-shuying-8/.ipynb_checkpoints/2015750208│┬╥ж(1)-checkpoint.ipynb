{
 "cells": [
  {
   "cell_type": "markdown",
   "metadata": {},
   "source": [
    "2015750208 陈姚"
   ]
  },
  {
   "cell_type": "markdown",
   "metadata": {},
   "source": [
    "**2(2)**"
   ]
  },
  {
   "cell_type": "markdown",
   "metadata": {},
   "source": [
    "\n",
    "\n",
    "\n",
    "$设方程的解为e^{mt}$\n",
    "$原式特征方程为$\n",
    "$$m^4-2am^2+3a^2m-a^3$$\n",
    "得$$m_1=m_2=m_3=0,m_4=2,m_5=-2$$\n",
    "得$$x=a_1+a_2m+a_3m^2+a_4e^{2m}+a_5e^{-2m}$$\n",
    "$$a_1，a_2,a_3,a_4为任一常数$$"
   ]
  },
  {
   "cell_type": "markdown",
   "metadata": {},
   "source": [
    "**(3)**"
   ]
  },
  {
   "cell_type": "markdown",
   "metadata": {},
   "source": [
    "\n",
    "$设方程的解为e^{mt}$\n",
    "原式的特征方程为\n",
    "$$m^5-4m^3=0$$\n",
    "得$$m_1=m_2=m_3=0,m_4=2,m_5=-2$$\n",
    "所以方程通解为$$x=a_1+a_2m+a_3m^2+a_4e^{2m}+a_5e^{-2m}$$"
   ]
  },
  {
   "cell_type": "markdown",
   "metadata": {},
   "source": [
    "# <font color='red'>A  1/11"
   ]
  },
  {
   "cell_type": "code",
   "execution_count": null,
   "metadata": {
    "collapsed": true
   },
   "outputs": [],
   "source": []
  }
 ],
 "metadata": {
  "kernelspec": {
   "display_name": "Python 2",
   "language": "python",
   "name": "python2"
  },
  "language_info": {
   "codemirror_mode": {
    "name": "ipython",
    "version": 2
   },
   "file_extension": ".py",
   "mimetype": "text/x-python",
   "name": "python",
   "nbconvert_exporter": "python",
   "pygments_lexer": "ipython2",
   "version": "2.7.10"
  }
 },
 "nbformat": 4,
 "nbformat_minor": 0
}
