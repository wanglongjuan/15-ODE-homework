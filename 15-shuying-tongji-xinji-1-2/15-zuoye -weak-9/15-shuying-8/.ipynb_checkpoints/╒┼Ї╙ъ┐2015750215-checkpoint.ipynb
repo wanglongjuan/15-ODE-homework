{
 "cells": [
  {
   "cell_type": "markdown",
   "metadata": {
    "collapsed": false
   },
   "source": [
    "2求解下列常系数线性微分方程:  \n",
    "$~~~~(2)x'''-3ax''+3a^2x'-a^3x=0$  \n",
    "$~~~~(3)x^{(5)}-4x'''=0$"
   ]
  },
  {
   "cell_type": "markdown",
   "metadata": {},
   "source": [
    "**解**：  \n",
    "(2)易知其特征方程为$\\lambda^3-3a\\lambda^2+3a^2\\lambda-a^3=0$  \n",
    "解出得$(\\lambda-a)^3=0$  \n",
    "那么其通解具有形状$x=(c_1+c_2t+c_3t^2)e^{at}$"
   ]
  },
  {
   "cell_type": "markdown",
   "metadata": {},
   "source": [
    "(3)易知其特征方程为$\\lambda^5-4\\lambda^3=0$  \n",
    "解出$\\lambda^3(\\lambda-2)(\\lambda+2)=0$\n",
    "那么其通解具有形状$x=c_1+tc_2+t^2c_3+c_4e^{2t}+c_5^{-2t}$"
   ]
  },
  {
   "cell_type": "markdown",
   "metadata": {
    "collapsed": true
   },
   "source": [
    "# <font color='red'>A  1/11"
   ]
  },
  {
   "cell_type": "code",
   "execution_count": null,
   "metadata": {
    "collapsed": true
   },
   "outputs": [],
   "source": []
  }
 ],
 "metadata": {
  "kernelspec": {
   "display_name": "SageMath 7.4",
   "language": "",
   "name": "sage-7.4"
  },
  "language_info": {
   "codemirror_mode": {
    "name": "ipython",
    "version": 2
   },
   "file_extension": ".py",
   "mimetype": "text/x-python",
   "name": "python",
   "nbconvert_exporter": "python",
   "pygments_lexer": "ipython2",
   "version": "2.7.10"
  }
 },
 "nbformat": 4,
 "nbformat_minor": 0
}
