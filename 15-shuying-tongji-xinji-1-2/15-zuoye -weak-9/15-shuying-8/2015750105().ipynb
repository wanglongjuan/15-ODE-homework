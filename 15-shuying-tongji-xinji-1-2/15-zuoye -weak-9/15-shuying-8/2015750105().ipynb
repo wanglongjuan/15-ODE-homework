{
 "cells": [
  {
   "cell_type": "markdown",
   "metadata": {
    "collapsed": true
   },
   "source": [
    "求解下列常系数线性微分方程\n",
    "（1）$x'''-3ax''+3ax'-a^3x=0$\n",
    "（2）$x'''''-4x'''=0$\n",
    "\n"
   ]
  },
  {
   "cell_type": "markdown",
   "metadata": {},
   "source": [
    "解（1）特征方程为$$\\lambda^3-3a\\lambda^2+3a\\lambda-a^3=0$$\n",
    "有三重根$$\\lambda=a$$\n",
    "则通解为$$x=c_1e^{at}+c_2te^{at}+c_3t^2e^{at}$$\n",
    "\n",
    "\n"
   ]
  },
  {
   "cell_type": "markdown",
   "metadata": {},
   "source": [
    "解（2）特征方程为$$\\lambda^5-4\\lambda^3=0$$\n",
    "有三重根$$\\lambda=0,\\lambda=2.\\lambda=-2$$\n",
    "则通解为$$x=c_1e^{2t}+c_2e^{-2t}+c_3t^2+c_4t+c_5$$\n",
    "\n"
   ]
  },
  {
   "cell_type": "markdown",
   "metadata": {
    "collapsed": true
   },
   "source": [
    "# <font color='red'>A  1/11"
   ]
  },
  {
   "cell_type": "code",
   "execution_count": null,
   "metadata": {
    "collapsed": true
   },
   "outputs": [],
   "source": []
  }
 ],
 "metadata": {
  "kernelspec": {
   "display_name": "SageMath 7.3",
   "language": "",
   "name": "sagemath"
  },
  "language_info": {
   "codemirror_mode": {
    "name": "ipython",
    "version": 2
   },
   "file_extension": ".py",
   "mimetype": "text/x-python",
   "name": "python",
   "nbconvert_exporter": "python",
   "pygments_lexer": "ipython2",
   "version": "2.7.10"
  }
 },
 "nbformat": 4,
 "nbformat_minor": 0
}
