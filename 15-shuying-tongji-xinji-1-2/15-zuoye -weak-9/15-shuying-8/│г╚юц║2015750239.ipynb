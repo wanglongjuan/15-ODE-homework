{
 "cells": [
  {
   "cell_type": "markdown",
   "metadata": {},
   "source": [
    "# 2.求解下列常系数线性微分方程"
   ]
  },
  {
   "cell_type": "markdown",
   "metadata": {},
   "source": [
    "### （2）$x'''-3ax''+3a^2x'-a^3x=0$"
   ]
  },
  {
   "cell_type": "markdown",
   "metadata": {},
   "source": [
    "**解：**特征方程为${\\lambda}^3-3a{\\lambda}^2+3a^2{\\lambda}-a^3=0或（\\lambda-a)^3=0,即特征根为{\\lambda}_1={\\lambda}_2={\\lambda}_3=a$\n",
    "\n",
    "当$a\\not=0$时，方程的通解为$x=c_1e^{at}+c_2e^{at}+c_3e^{at}$\n",
    "\n",
    "当$a=0$时，方程的通解为$x=c_1+c_2t+c_3{t^2}$\n",
    "  \n",
    "其中$c_1,c_2,c_3$为任意常数"
   ]
  },
  {
   "cell_type": "markdown",
   "metadata": {},
   "source": [
    "### (3) $x^{(5)}-4x'''=0$"
   ]
  },
  {
   "cell_type": "markdown",
   "metadata": {},
   "source": [
    "**解：**特征方程为${\\lambda}^5-4{\\lambda}^3=0$或${\\lambda}^3({\\lambda}^2-4)=0$,即特征解为${\\lambda}_1={\\lambda}_2={\\lambda}_3=0,{\\lambda}_4=2,{\\lambda}_5=-2$\n",
    "\n",
    "得到方程的通解为$x=c_1+c_2t+c_3t^2+c_4e^{2t}+c_5e{-2t}$\n",
    "\n",
    "其中$c_1,c_2,c_3,c_4,c_5$是任意常数"
   ]
  },
  {
   "cell_type": "markdown",
   "metadata": {
    "collapsed": true
   },
   "source": [
    "# <font color='red'>A  1/11"
   ]
  },
  {
   "cell_type": "code",
   "execution_count": null,
   "metadata": {
    "collapsed": true
   },
   "outputs": [],
   "source": []
  }
 ],
 "metadata": {
  "kernelspec": {
   "display_name": "SageMath 7.3",
   "language": "",
   "name": "sagemath"
  },
  "language_info": {
   "codemirror_mode": {
    "name": "ipython",
    "version": 2
   },
   "file_extension": ".py",
   "mimetype": "text/x-python",
   "name": "python",
   "nbconvert_exporter": "python",
   "pygments_lexer": "ipython2",
   "version": "2.7.10"
  }
 },
 "nbformat": 4,
 "nbformat_minor": 0
}
