{
 "cells": [
  {
   "cell_type": "markdown",
   "metadata": {
    "collapsed": true
   },
   "source": [
    "2. 求解下列常系数线性微分方程：\n",
    "\n",
    "(2)$x'''-3ax''+3a^2x'-a^3x=0$\n",
    "\n",
    "(3)$x^{(5)}-4x'''=0$"
   ]
  },
  {
   "cell_type": "markdown",
   "metadata": {},
   "source": [
    "  解:\n",
    "  (1)该微分方程的特殊方程为$$\\lambda^3-3a\\lambda^2+3a^2\\lambda-a^3\\lambda=0$$\n",
    " 方程的解为三重根 $$\\lambda_1=a,\\lambda_2=a,\\lambda_3=a$$\n",
    "  因此方程的通解为$$x=(c_1+c_2t+c_3t^2)e^{at}$$\n",
    "  其中$$c_1,c_2,c_3为任意常数$$"
   ]
  },
  {
   "cell_type": "markdown",
   "metadata": {},
   "source": [
    "(2)该微分方程的特殊方程为$$\\lambda^5-4\\lambda^3=0$$\n",
    " 方程的解为$$\\lambda_1=0,\\lambda_2=0,\\lambda_3=0,\\lambda_4=2,\\lambda_5=-2$$\n",
    "  因此方程的通解为$$x=c_1e^{-2t}+c_2e^{2t}+c_3t^2+c_4t+c_5$$\n",
    "  其中$$c_1,c_2,c_3,c_4,c_5为任意常数$$"
   ]
  },
  {
   "cell_type": "markdown",
   "metadata": {
    "collapsed": true
   },
   "source": [
    "# <font color='red'>A  1/11"
   ]
  },
  {
   "cell_type": "code",
   "execution_count": null,
   "metadata": {
    "collapsed": true
   },
   "outputs": [],
   "source": []
  }
 ],
 "metadata": {
  "kernelspec": {
   "display_name": "SageMath 7.3",
   "language": "",
   "name": "sagemath"
  },
  "language_info": {
   "codemirror_mode": {
    "name": "ipython",
    "version": 2
   },
   "file_extension": ".py",
   "mimetype": "text/x-python",
   "name": "python",
   "nbconvert_exporter": "python",
   "pygments_lexer": "ipython2",
   "version": "2.7.10"
  }
 },
 "nbformat": 4,
 "nbformat_minor": 0
}
