{
 "cells": [
  {
   "cell_type": "markdown",
   "metadata": {},
   "source": [
    "刘艺 2015750509\n",
    "\n",
    "2（2）\n",
    "\n",
    "$x'''-3ax''+3a^2x'-a^3x=0$\n",
    "\n",
    "解：特征方程$\\lambda^3-3a\\lambda^2+3a^2\\lambda-a^3=0$\n",
    "\n",
    "有三重根$\\lambda=a$\n",
    "\n",
    "故通解为$x=c_1e^{at}+c_2te^{at}+c_3t^2e^{at}$"
   ]
  },
  {
   "cell_type": "markdown",
   "metadata": {
    "collapsed": true
   },
   "source": [
    "(3)$X^{(5)}-4X'''=0$\n",
    "\n",
    "解：特征方程$\\lambda^5-4\\lambda^3=0$\n",
    "\n",
    "有三重根$\\lambda=0,\\lambda_4=2,\\lambda_5=-2$\n",
    "\n",
    "故通解为$x=c_1e^{2t}+c_2e^{-2t}+c_3t^2+c_4t+c_5$"
   ]
  },
  {
   "cell_type": "markdown",
   "metadata": {
    "collapsed": true
   },
   "source": [
    "# <font color='red'>A  1/11"
   ]
  },
  {
   "cell_type": "code",
   "execution_count": null,
   "metadata": {
    "collapsed": true
   },
   "outputs": [],
   "source": []
  }
 ],
 "metadata": {
  "kernelspec": {
   "display_name": "SageMath 7.3",
   "language": "",
   "name": "sagemath"
  },
  "language_info": {
   "codemirror_mode": {
    "name": "ipython",
    "version": 2
   },
   "file_extension": ".py",
   "mimetype": "text/x-python",
   "name": "python",
   "nbconvert_exporter": "python",
   "pygments_lexer": "ipython2",
   "version": "2.7.10"
  }
 },
 "nbformat": 4,
 "nbformat_minor": 0
}
