{
 "cells": [
  {
   "cell_type": "markdown",
   "metadata": {},
   "source": [
    "                                          常微分作业\n",
    "                                   姓名：谭治港     学号：2015750502"
   ]
  },
  {
   "cell_type": "markdown",
   "metadata": {},
   "source": [
    "$P164T2(2)$\n",
    "\n",
    "$原方程的特征方程为λ^3-3aλ^2+3a^2λ-a^3=0,\\quad即有(λ-a)^3=0 $\n",
    "\n",
    "$从而λ=a为方程的三重根$\n",
    "\n",
    "$即通解为x=(c_1+c_2t+c_3t^2)e^{at},\\quad  其中c_1，c_2，c_3为任意常数$"
   ]
  },
  {
   "cell_type": "markdown",
   "metadata": {},
   "source": [
    "$(3)$\n",
    "\n",
    "$原方程的特征方程为λ^5-4λ^3=0,\\quad 即有λ^3（λ+2）（λ-2）=0$\n",
    "\n",
    "$λ=0(三重），λ_4=2,λ_5=-2$\n",
    "\n",
    "$即通解为x=c_1e^{2t}+c_2e^{-2t}+c_3+c_4t+c_5t^2,\\quad 其中c_1，c_2，c_3，c_4，c_5为任意常数$"
   ]
  },
  {
   "cell_type": "markdown",
   "metadata": {
    "collapsed": true
   },
   "source": [
    "# <font color='red'>A  1/11"
   ]
  },
  {
   "cell_type": "code",
   "execution_count": null,
   "metadata": {
    "collapsed": true
   },
   "outputs": [],
   "source": []
  }
 ],
 "metadata": {
  "kernelspec": {
   "display_name": "SageMath 7.3",
   "language": "",
   "name": "sagemath"
  },
  "language_info": {
   "codemirror_mode": {
    "name": "ipython",
    "version": 2
   },
   "file_extension": ".py",
   "mimetype": "text/x-python",
   "name": "python",
   "nbconvert_exporter": "python",
   "pygments_lexer": "ipython2",
   "version": "2.7.10"
  }
 },
 "nbformat": 4,
 "nbformat_minor": 0
}
