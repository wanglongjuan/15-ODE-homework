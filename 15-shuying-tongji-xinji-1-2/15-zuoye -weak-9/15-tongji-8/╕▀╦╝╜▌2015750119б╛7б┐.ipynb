{
 "cells": [
  {
   "cell_type": "markdown",
   "metadata": {},
   "source": [
    "# $$常微分作业7$$\n",
    "## 班级：统计学\n",
    "## 姓名：高思捷\n",
    "## 学号：2015750119"
   ]
  },
  {
   "cell_type": "markdown",
   "metadata": {},
   "source": [
    "# 求解下列常系数线性微分方程\n",
    "\n",
    "# （1）$x'-3ax'+3a^2x'-a^3x=0$\n",
    "\n",
    "# （2）$x^{(5)}-4x'''=0$"
   ]
  },
  {
   "cell_type": "markdown",
   "metadata": {},
   "source": [
    "解：\n",
    "\n",
    "（1）\n",
    "\n",
    "特征方程为：\n",
    "\n",
    "$λ^3-3aλ^2+3a^2λ-a^3=0或(λ-a)^3=0$"
   ]
  },
  {
   "cell_type": "markdown",
   "metadata": {
    "collapsed": true
   },
   "source": [
    "即知$λ=a$是三重根"
   ]
  },
  {
   "cell_type": "markdown",
   "metadata": {},
   "source": [
    "所以方程的通解为：\n",
    "\n",
    "$x=(c_1+c_2t+c_3t^2)e^{at}$\n",
    "\n",
    "($；c_1,c_2,c_3$为任意常数)"
   ]
  },
  {
   "cell_type": "markdown",
   "metadata": {},
   "source": [
    "（2）\n",
    "\n",
    "特征方程为：\n",
    "\n",
    "$λ_5-4λ^3=0$或$λ^3(λ^2-4)=0$"
   ]
  },
  {
   "cell_type": "markdown",
   "metadata": {},
   "source": [
    "即知特征根为$λ_1=λ_2=λ_3=0,λ_4=2,λ_5=-2$"
   ]
  },
  {
   "cell_type": "markdown",
   "metadata": {},
   "source": [
    "所以方程通解为："
   ]
  },
  {
   "cell_type": "markdown",
   "metadata": {},
   "source": [
    "$x=c_1+c_2t+c_3t^2+c_4e^{2t}+c_5e^{-2t}$"
   ]
  },
  {
   "cell_type": "markdown",
   "metadata": {},
   "source": [
    "($c_1,c_2,c_3,c_4,c_5为任意常数$)"
   ]
  },
  {
   "cell_type": "markdown",
   "metadata": {
    "collapsed": true
   },
   "source": [
    "# <font color='red'>A＋  1/11"
   ]
  },
  {
   "cell_type": "code",
   "execution_count": null,
   "metadata": {
    "collapsed": true
   },
   "outputs": [],
   "source": []
  }
 ],
 "metadata": {
  "kernelspec": {
   "display_name": "SageMath 7.3",
   "language": "",
   "name": "sagemath"
  },
  "language_info": {
   "codemirror_mode": {
    "name": "ipython",
    "version": 2
   },
   "file_extension": ".py",
   "mimetype": "text/x-python",
   "name": "python",
   "nbconvert_exporter": "python",
   "pygments_lexer": "ipython2",
   "version": "2.7.10"
  }
 },
 "nbformat": 4,
 "nbformat_minor": 0
}
