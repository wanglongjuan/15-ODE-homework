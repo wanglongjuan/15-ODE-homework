{
 "cells": [
  {
   "cell_type": "markdown",
   "metadata": {},
   "source": [
    "$P164页2、求解下列常系数线性微分方程。$\n",
    "\n",
    "$(2)x'''-3ax''+3a^2x'-a^3x=0$\n",
    "\n",
    "$(3)x^{(5)}-4x'''=0$\n",
    "\n",
    "$(2)解：特征方程为λ^3-3aλ^2+3a^2λ-a^3=0$\n",
    "\n",
    "$可写为(λ-a)^3=0$\n",
    "\n",
    "$即λ=a是三重根$\n",
    "\n",
    "$所以通解是x=(c_1+c_2t+c_3t^2)e^{at},其中c_1,c_2,c_3为任意常数$\n",
    "\n",
    "$(3)解：特征方程为λ^5-4λ^3=0$\n",
    "\n",
    "$可写为λ^3(λ-2)(λ+2)=0$\n",
    "\n",
    "$即λ_1=0(三重根),λ_2=-2,λ_3=2$\n",
    "\n",
    "$所以通解是x=c_1+c_2t+c_3t^2+c_4e^{-2t}+c_5e^{2t},其中c_1,c_2,c_3,c_4,c_5为任意常数$\n"
   ]
  },
  {
   "cell_type": "markdown",
   "metadata": {},
   "source": [
    "# <font color='red'>A  1/11"
   ]
  },
  {
   "cell_type": "code",
   "execution_count": null,
   "metadata": {
    "collapsed": true
   },
   "outputs": [],
   "source": []
  }
 ],
 "metadata": {
  "kernelspec": {
   "display_name": "SageMath 7.3",
   "language": "",
   "name": "sagemath"
  },
  "language_info": {
   "codemirror_mode": {
    "name": "ipython",
    "version": 2
   },
   "file_extension": ".py",
   "mimetype": "text/x-python",
   "name": "python",
   "nbconvert_exporter": "python",
   "pygments_lexer": "ipython2",
   "version": "2.7.10"
  }
 },
 "nbformat": 4,
 "nbformat_minor": 0
}
