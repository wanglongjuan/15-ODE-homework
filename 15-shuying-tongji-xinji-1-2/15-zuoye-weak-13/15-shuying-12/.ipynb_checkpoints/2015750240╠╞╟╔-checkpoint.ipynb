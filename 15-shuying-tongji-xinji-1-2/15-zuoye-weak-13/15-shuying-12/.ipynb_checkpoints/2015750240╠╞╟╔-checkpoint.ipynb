{
 "cells": [
  {
   "cell_type": "markdown",
   "metadata": {},
   "source": [
    "第十三周作业"
   ]
  },
  {
   "cell_type": "markdown",
   "metadata": {},
   "source": [
    "2.考虑方程组$$x'=A(t)x,             (5.15)$$ \n",
    "其中$A(t)$是区间$a\\le t\\le b$上的连续$n\\times n$矩阵，它的元为$a_{ij}(t)(i=1,2,\\cdots,n).$\n",
    "\n",
    "(1)如果$x_1(t),x_2(t),\\cdots,x_n(t)$是$(5.15)$的任意$n$个解，那么它们的郎斯基行列式$W[x_1(t),x_2(t),\\cdots,x_n(t)]\\equiv W(t)$\n",
    "\n",
    "满足下面的一阶微分方程$$W'=[a_{11}(t)+a_{22}(t)+\\cdots+a_{nn}(t)]W;$$\n",
    "\n",
    "(提示：利用行列式的微分公式，求出$W'$的表达式.)\n",
    "\n",
    "(2)解上面的一阶线性微分方程，证明下面的公式\n",
    "\n",
    "$$W(t)=W(t_0)e^{\\int^t_{t_o}[a_{11}(s)+a_{22}(s)+\\cdots+a_{nn}(s)]ds},t_0,t\\in[a,b]$$"
   ]
  },
  {
   "cell_type": "markdown",
   "metadata": {},
   "source": [
    "解：(1)将$x_1(t),x_2(t),\\cdots,x_n(t)$，写出它们的朗斯基行列式为\n",
    "\n",
    "$$W(t)=\\begin{vmatrix}x_{11}(t)&x_{12}(t)&\\cdots&x_{1n}(t)\\\\x_{21}(t)&x_{22}(t)\\cdots&x_{2n}(t)\\\\\n",
    "\\cdots&\\cdots&\\cdots&\\cdots\\\\x_{n1}(t)&x_{n2}(t)&\\cdots&x_{nn}(t)\\end{vmatrix}$$\n",
    "\n",
    "对$W(t)$求导得\n",
    "\n",
    "$$\\frac{dW(t)}{dt}\\begin{aligned}=\\frac{d}{dt}\\begin{vmatrix}x_{11}(t)&x_{12}(t)&\\cdots&x_{1n}(t)\\\\x_{21}(t)&x_{22}(t)\\cdots&x_{2n}(t)\\\\\n",
    "\\cdots&\\cdots&\\cdots&\\cdots\\\\x_{n1}(t)&x_{n2}(t)&\\cdots&x_{nn}(t)\\end{vmatrix}=\\end{aligned}\\begin{vmatrix}x'_{11}(t)&x'_{12}(t)&\\cdots&x'_{1n}(t)\\\\x_{21}(t)&x_{22}(t)\\cdots&x_{2n}(t)\\\\\\cdots&\\cdots&\\cdots&\\cdots\\\\x_{n1}(t)&x_{n2}(t)&\\cdots&x_{nn}(t)\\end{vmatrix}\n",
    "+\\begin{vmatrix}x_{11}(t)&x_{12}(t)&\\cdots&x_{1n}(t)\\\\x'_{21}(t)&x'_{22}(t)\\cdots&x'_{2n}(t)\\\\\n",
    "\\cdots&\\cdots&\\cdots&\\cdots\\\\x_{n1}(t)&x_{n2}(t)&\\cdots&x_{nn}(t)\\end{vmatrix}+\\cdots+\\begin{vmatrix}x_{11}(t)&x_{12}(t)&\\cdots&x_{1n}(t)\\\\x_{21}(t)&x_{22}(t)\\cdots&x_{2n}(t)\\\\\\cdots&\\cdots&\\cdots&\\cdots\\\\x'_{n1}(t)&x'_{n2}(t)&\\cdots&x'_{nn}(t)\\end{vmatrix}     (*)$$\n",
    "\n",
    "又由于\n",
    "\n",
    "$$x'_{11}=a_{11}x_{11}+a_{12}x_{21}+\\cdots+a_{1n}x_{n1},$$\n",
    "\n",
    "$$x'_{12}=a_{11}x_{12}+a_{12}x_{22}+\\cdots+a_{1n}x_{nn},$$\n",
    "\n",
    "$$\\cdots\\cdots\\cdots\\cdots$$\n",
    "\n",
    "$$x'_{1n}=a_{11}x_{1n}+a_{12}x_{2n}+\\cdots+a_{1n}x_{nn},$$\n",
    "\n",
    "所以，由行列式的性质有\n",
    "\n",
    "$\\begin{aligned}\\begin{vmatrix}x'_{11}(t)&x'_{12}(t)&\\cdots&x'_{1n}(t)\\\\x_{21}(t)&x_{22}(t)\\cdots&x_{2n}(t)\\\\\\cdots&\\cdots&\\cdots&\\cdots\\\\x_{n1}(t)&x_{n2}(t)&\\cdots&x_{nn}(t)\\end{vmatrix}=\\begin{vmatrix}a_{11}x_{11}(t)&a_{11}x_{12}(t)&\\cdots&a_{11}x_{1n}(t)\\\\x_{21}(t)&x_{22}(t)\\cdots&x_{2n}(t)\\\\\\cdots&\\cdots&\\cdots&\\cdots\\\\x_{n1}(t)&x_{n2}(t)&\\cdots&x_{nn}(t)\\end{vmatrix}+\\begin{vmatrix}a_{12}x_{21}(t)&a_{12}x_{22}(t)&\\cdots&a_{12}x_{2n}(t)\\\\x_{21}(t)&x_{22}(t)\\cdots&x_{2n}(t)\\\\\\cdots&\\cdots&\\cdots&\\cdots\\\\x_{n1}(t)&x_{n2}(t)&\\cdots&x_{nn}(t)\\end{vmatrix}+\\cdots+\\begin{vmatrix}a_{12}x_{21}(t)&a_{12}x_{22}(t)&\\cdots&a_{12}x_{2n}(t)\\\\x_{21}(t)&x_{22}(t)\\cdots&x_{2n}(t)\\\\\\cdots&\\cdots&\\cdots&\\cdots\\\\x_{n1}(t)&x_{n2}(t)&\\cdots&x_{nn}(t)\\end{vmatrix}=a_{11}(t)W(t)\\end{aligned}$\n",
    "\n",
    "\n",
    "同理在$(*)$式右端第二个行列式等于$a_{22}(t)W(t)$,在第三个行列式等于$a_{33}(t)W(t)$,可推知第$n$个行列式等于$a_{nn}(t)W(t)$,\n",
    "\n",
    "因此得到$\\frac{dW(t)}{dt}W'(t)=[a_{11}(t)+a_{22}(t)+\\cdots+a_{nn}(t)]W(t)$\n",
    "\n",
    "(2)将上面的一阶线性微分方程可化为\n",
    "\n",
    "$$\\frac{dW(t)}{\\omega}=[a_{11}(t)+a_{22}(t)+\\cdots+a_{nn}(t)]d(t)$$\n",
    "\n",
    "对上式由$t_0$到$t$进行积分可以得到\n",
    "\n",
    "$$In|W(t)|-In|W(t_0)|=\\int^t_{t_0}[a_{11}(s)+a_{22}(s)+\\cdots+a_{nn}(s)]d(s)$$\n",
    "\n",
    "因此可以得到\n",
    "\n",
    "$$W(t)=W(t_0)e^{\\int^t_{t_0}[a_{11}(s)+a_{22}(s)+\\cdots+a_{nn}(s)]d(s)}$$\n",
    "\n",
    "\n"
   ]
  },
  {
   "cell_type": "markdown",
   "metadata": {},
   "source": [
    "3.设$A(t)$为区间$a\\le t\\le b$上的连续$n\\times n$实矩阵，$\\phi(t)$为方程$x'=A(t)x$的基解矩阵，而$x=\\varphi(t)$为其一解.试证：\n",
    "\n",
    "(1)对于方程$y'=-A^T(t)y$的任一解$y=\\psi(t)$必有$\\psi^T(t)\\varphi(t)=$常数.\n",
    "\n",
    "(2)$\\psi(t)$为方程$y'=-A^T(t)y$的基解矩阵的充要条件是存在非奇异的常数矩阵$C$，使得$\\psi^T(t)\\phi(t)=C$."
   ]
  },
  {
   "cell_type": "markdown",
   "metadata": {},
   "source": [
    "解：(1)已知$\\varphi(t)$是$x'=A(t)x$的解，则可以得到\n",
    "\n",
    "$\\varphi'(t)=\\begin{pmatrix}\\varphi'_1(t)\\\\\\varphi'_2(t)\\\\\\cdots\\\\\\varphi'_n(t)\\end{pmatrix}=\\begin{pmatrix}a_{11}&a_{12}&\\cdots&a_{1n}\\\\a_{21}&a_{22}&\\cdots&a_{2n}\\\\\\cdots&\\cdots&\\cdots&\\cdots\\\\a_{n1}&a_{n2}&\\cdots&a_{nn}\\end{pmatrix}\\begin{pmatrix}\\varphi_1(t)\\\\\\varphi_2(t)\\\\\\cdots\\\\\\varphi_n(t)\\end{pmatrix}=\\begin{pmatrix}\\sum\\limits^n_{k=1}a_{1k}\\varphi_k\\\\\\sum\\limits^n_{k=1}a_{2k}\\varphi_k\\\\\\vdots\\\\\\sum\\limits^n_{k=1}a_{nk}\\varphi_k\\end{pmatrix}.$\n",
    "\n",
    "同理由于$\\psi'(t)=\\begin{pmatrix}\\psi'_1(t)\\\\\\psi'_2(t)\\\\\\cdots\\\\\\\\psi'_n(t)\\end{pmatrix}=\\begin{pmatrix}a_{11}&a_{12}&\\cdots&a_{1n}\\\\a_{21}&a_{22}&\\cdots&a_{2n}\\\\\\cdots&\\cdots&\\cdots&\\cdots\\\\a_{n1}&a_{n2}&\\cdots&a_{nn}\\end{pmatrix}\\begin{pmatrix}\\psi_1(t)\\\\\\psi_2(t)\\\\\\cdots\\\\\\psi_n(t)\\end{pmatrix}=\\begin{pmatrix}\\sum\\limits^n_{k=1}a_{1k}\\psi_k\\\\\\sum\\limits^n_{k=1}a_{2k}\\psi_k\\\\\\vdots\\\\\\sum\\limits^n_{k=1}a_{nk}\\psi_k\\end{pmatrix}.$\n",
    "\n",
    "对$\\psi^T(t)\\varphi(t)$求导数得\n",
    "\n",
    "$\\frac{d(\\psi^T(t)\\varphi(t))}{dt}=\\frac{d\\psi^T(t)}{dt}\\varphi(t)+\\psi^T(t)\\frac{d\\varphi(t)}{dt}$\n",
    "\n",
    "$=-(\\sum\\limits^n_{k=1}a_{1k}\\psi_k,\\sum\\limits^n_{k=1}a_{2k}\\psi_k,\\vdots,\\sum\\limits^n_{k=1}a_{nk}\\psi_k)\\begin{pmatrix}\\varphi_1(t)\\\\\\varphi_2(t)\\\\\\cdots\\\\\\varphi_n(t)\\end{pmatrix}+(\\psi_1(t),\\psi_2(t),\\cdots,\\psi_n(t))\\begin{pmatrix}\\sum\\limits^n_{k=1}a_{1k}\\varphi_k\\\\\\sum\\limits^n_{k=1}a_{2k}\\varphi_k\\\\\\vdots\\\\\\sum\\limits^n_{k=1}a_{nk}\\varphi_k\\end{pmatrix}$\n",
    "\n",
    "$=-[\\sum\\limits^n_{k=1}a_{k1}\\psi_k\\varphi_1+\\sum\\limits^n_{k=1}a_{k2}\\psi_k\\varphi_2+\\cdots+\\sum\\limits^n_{k=1}a_{kn}\\psi_k\\varphi_n]+\n",
    "[\\sum\\limits^n_{k=1}\\psi_1a_{1k}\\varphi_k+\\sum\\limits^n_{k=1}\\psi_2a_{2k}\\varphi_k+\\cdots+\\sum\\limits^n_{k=1}\\psi_ka_{nk}\\varphi_k]$\n",
    "\n",
    "$=-\\sum\\limits^n_{k=1}\\sum\\limits^n_{i=1}(a_{ki}\\psi_k\\varphi_i)+\\sum\\limits^n_{k=1}\\sum\\limits^n_{i=1}(\\psi_ia_{ik}\\varphi_k)$\n",
    "\n",
    "$=-\\sum\\limits^n_{k=1}\\sum\\limits^n_{i=1}(a_{ki}\\psi_k\\varphi_i)+\\sum\\limits^n_{i=1}\\sum\\limits^n_{k=1}(a_{ik}\\psi_i\\varphi_k)$\n",
    "\n",
    "$=0$\n",
    "\n",
    "因此，可以得到$\\psi^T(t)\\varphi(t)=$常数.\n",
    "\n",
    "(2)必要性：$\\psi(t)$是基解矩阵，可知$\\psi(t)$的每一个列向量$\\psi_1(t),\\psi_2(t),\\cdots,\\psi_n(t)$与$\\phi(t)$的每一个列向量$\\varphi_1(t),\n",
    "\\varphi_2(t),\\cdots,\\varphi_n(t)$\n",
    "\n",
    "满足$\\psi^T_i(t)\\varphi_j(t)=$常数，$i=1,2,\\cdots n,j=1,2,\\cdots n$.因此$\\phi(t)$是常数矩阵，令它为$c$,\n",
    "另外由于$\\phi(t),\\psi(t)$分别是基解矩阵，\n",
    "\n",
    "从而得到$det(\\phi(t))\\leq 0,det(\\psi^T(t)\\leq 0$,则$det(\\phi(t))\\bullet det(\\psi^T(t))\\leq 0$,即可得到矩阵$C$是非奇异的.\n",
    "\n",
    "充分性：存在非奇异矩阵$C$,使得$\\psi^T(t)\\phi(t)=C$,由于$\\phi(t)$是方程$x'=A(t)x$的基解矩阵，故$\\phi^{-1}(t)$存在，\n",
    "\n",
    "所以有$\\psi^T(t)=C\\bullet\\phi^{-1}(t)$且有$det(\\psi^T(t))=det(C\\bullet\\phi^{-1}(t))\\leq 0$,\n",
    "\n",
    "因此可以证得$\\psi(t)$是基解矩阵.\n",
    "\n"
   ]
  },
  {
   "cell_type": "markdown",
   "metadata": {},
   "source": [
    "# <font color='red'>A  3/12"
   ]
  },
  {
   "cell_type": "code",
   "execution_count": null,
   "metadata": {
    "collapsed": true
   },
   "outputs": [],
   "source": []
  }
 ],
 "metadata": {
  "kernelspec": {
   "display_name": "SageMath 7.3",
   "language": "",
   "name": "sagemath"
  },
  "language_info": {
   "codemirror_mode": {
    "name": "ipython",
    "version": 2
   },
   "file_extension": ".py",
   "mimetype": "text/x-python",
   "name": "python",
   "nbconvert_exporter": "python",
   "pygments_lexer": "ipython2",
   "version": "2.7.10"
  }
 },
 "nbformat": 4,
 "nbformat_minor": 0
}
