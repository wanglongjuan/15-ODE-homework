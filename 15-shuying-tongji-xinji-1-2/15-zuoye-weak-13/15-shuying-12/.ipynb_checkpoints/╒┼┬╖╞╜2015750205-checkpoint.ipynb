{
 "cells": [
  {
   "cell_type": "markdown",
   "metadata": {},
   "source": [
    "**P216 2（1）**"
   ]
  },
  {
   "cell_type": "markdown",
   "metadata": {},
   "source": [
    "将$x_1(t),x_2(t),\\cdots x_n(t)$用向量的形式表示，写出其朗斯基行列式为：$$W（t）=\\begin{vmatrix}x_{11}(t)&x_{12}(t)&\\cdots&x_{1n}(t)\\\\x_{21}(t)&x_{22}\n",
    "(t)&\\cdots&x_{2n}(t)\\\\ \\vdots&\\vdots&\\ddots&\\vdots\\\\x_{n1}(t)&x_{n2}(t)&\\cdots&x_{nn}(t)\\\\\\end{vmatrix}$$对$W(t)$求导：$$\\begin{aligned}\\frac{dW(t)}{dt}&=\\frac{d}{dt}\\begin{vmatrix}x_{11}(t)&x_{12}(t)&\\cdots&x_{1n}(t)\\\\x_{21}(t)&x_{22}(t)&\\cdots&x_{2n}(t)\\\\ \\vdots&\\vdots&\\ddots&\\vdots\\\\x_{n1}(t)&x_{n2}(t)&\\cdots&x_{nn}(t)\\\\\\end{vmatrix}\\\\&=\\begin{vmatrix}x_{11}'(t)&x_{12}'(t)&\\cdots&x_{1n}'(t)\\\\x_{21}(t)&x_{22}(t)&\\cdots&x_{2n}(t)\\\\ \\vdots&\\vdots&\\ddots&\\vdots\\\\x_{n1}(t)&x_{n2}(t)&\\cdots&x_{nn}(t)\\\\\\end{vmatrix}\\\\&+\\begin{vmatrix}x_{11}(t)&x_{12}(t)&\\cdots&x_{1n}(t)\\\\x_{21}'(t)&x_{22}'(t)&\\cdots&x_{2n}'(t)\\\\ \\vdots&\\vdots&\\ddots&\\vdots\\\\x_{n1}(t)&x_{n2}(t)&\\cdots&x_{nn}(t)\\\\\\end{vmatrix}\\\\&+\\cdots\\\\&+\\begin{vmatrix}x_{11}(t)&x_{12}(t)&\\cdots&x_{1n}(t)\\\\x_{21}(t)&x_{22}(t)&\\cdots&x_{2n}(t)\\\\ \\vdots&\\vdots&\\ddots&\\vdots\\\\x_{n1}'(t)&x_{n2}'(t)&\\cdots&x_{nn}'(t)\\\\\\end{vmatrix}\\\\\\end{aligned}$$又$\\because$$$\\begin{aligned}x_{11}'&=a_{11}x_{11}+a_{12}x_{12}+\\cdots+a_{1n}x_{n1}\\\\x_{12}'&=a_{11}x_{12}+a_{12}x_{22}+\\cdots+a_{1n}x_{n2}\\\\&\\cdots\\\\x_{1n}'&=a_{11}x_{1n}+a_{12}x_{2n}+\\cdots+a_{1n}x_{nn}\\\\\\end{aligned}$$$\\therefore$ $$\\begin{vmatrix}x_{11}'(t)&x_{12}'(t)&\\cdots&x_{1n}'(t)\\\\x_{21}(t)&x_{22}(t)&\\cdots&x_{2n}(t)\\\\ \\vdots&\\vdots&\\ddots&\\vdots\\\\x_{n1}(t)&x_{n2}(t)&\\cdots&x_{nn}(t)\\\\\\end{vmatrix}$$$$\\begin{aligned}&=\\begin{vmatrix}a_{11}x_{11}(t)&a_{11}x_{12}(t)&\\cdots&a_{11}x_{1n}(t)\\\\x_{21}(t)&x_{22}(t)&\\cdots&x_{2n}(t)\\\\ \\vdots&\\vdots&\\ddots&\\vdots\\\\x_{n1}(t)&x_{n2}(t)&\\cdots&x_{nn}(t)\\\\\\end{vmatrix}\\\\&+\\begin{vmatrix}a_{12}x_{21}(t)&a_{12}x_{22}(t)&\\cdots&a_{12}x_{2n}(t)\\\\x_{21}(t)&x_{22}(t)&\\cdots&x_{2n}(t)\\\\ \\vdots&\\vdots&\\ddots&\\vdots\\\\x_{n1}(t)&x_{n2}(t)&\\cdots&x_{nn}(t)\\\\\\end{vmatrix}\\\\&+\\cdots\\\\&+\\begin{vmatrix}a_{1n}x_{n1}(t)&a_{1n}x_{n2}(t)&\\cdots&a_{1n}x_{nn}(t)\\\\x_{21}(t)&x_{22}(t)&\\cdots&x_{2n}(t)\\\\ \\vdots&\\vdots&\\ddots&\\vdots\\\\x_{n1}(t)&x_{n2}(t)&\\cdots&x_{nn}(t)\\\\\\end{vmatrix}\\\\&=a_{11}(t)W(t)\\\\\\end{aligned}$$\n",
    "\n",
    "同理可得：$$\\begin{aligned}&\\begin{vmatrix}x_{11}(t)&x_{12}(t)&\\cdots&x_{1n}(t)\\\\x_{21}'(t)&x_{22}'(t)&\\cdots&x_{2n}'(t)\\\\ \\vdots&\\vdots&\\ddots&\\vdots\\\\x_{n1}(t)&x_{n2}(t)&\\cdots&x_{nn}(t)\\\\\\end{vmatrix}=a_{22}(t)W(t)\\\\&\\cdots\\\\&\\begin{vmatrix}x_{11}(t)&x_{12}(t)&\\cdots&x_{1n}(t)\\\\x_{21}(t)&x_{22}(t)&\\cdots&x_{2n}(t)\\\\ \\vdots&\\vdots&\\ddots&\\vdots\\\\x_{n1}'(t)&x_{n2}'(t)&\\cdots&x_{nn}'(t)\\\\\\end{vmatrix}=a_{nn}(t)W(t)\\\\\\end{aligned}$$$\\therefore$\n",
    "$$\\frac{dW(t)}{dt}W'(t)=[a_{11}(t)+a_{22}(t)+\\cdots+\\cdots a_{nn}(t)]W(t)$$"
   ]
  },
  {
   "cell_type": "markdown",
   "metadata": {},
   "source": [
    "**(2)**$$\\frac{dW(t)}{dt}W'(t)=[a_{11}(t)+a_{22}(t)+\\cdots+\\cdots a_{nn}(t)]W(t)$$$\\Rightarrow$ $$\\frac{dW}{w}=[a_n(t)+a_{22}(t)+\\cdots+\\cdots a_{nn}(t)]dt$$从$t_0$到$t$积分得：$$ln\\mid W(t)\\mid-ln\\mid W(t_0)\\mid=\\int_{t_0}^t[a_{11}(s)+a_{22}(s)+\\cdots+a_{nn}(s)]ds$$$\\Rightarrow$ $$W(t)=W(t_0)e^{\\int_{t_0}^t[a_{11}(s)+a_{22}(s)+\\cdots+a_{nn}(s)]}ds$$"
   ]
  },
  {
   "cell_type": "markdown",
   "metadata": {},
   "source": [
    "**P213 3(1)**"
   ]
  },
  {
   "cell_type": "markdown",
   "metadata": {},
   "source": [
    "是$x'=A(t)x$的解，\n",
    "$$\\begin{aligned}\\varphi'(t)&=\\begin{pmatrix}\\varphi_1'(t)\\\\\\varphi_2'(t)\\\\\\vdots\\\\\\varphi_n'(t)\\end{pmatrix}\\\\&=\\begin{pmatrix}a_{11}(t)&a_{12}(t)&\\cdots&a_{1n}(t)\\\\a_{21}(t)&a_{22}(t)&\\cdots&a_{2n}(t)\\\\ \\vdots&\\vdots&\\ddots&\\vdots\\\\a_{n1}(t)&a_{n2}(t)&\\cdots&a_{nn}(t)\\\\\\end{pmatrix}\\begin{pmatrix}\\varphi_1(t)\\\\\\varphi_2(t)\\\\\\vdots\\\\\\varphi_n(t)\\end{pmatrix}\\\\&=\\begin{pmatrix}\\sum_{k=1}^n a_{1k}\\varphi_k\\\\\\sum_{k=1}^n a_{k}\\varphi_k\\\\\\vdots\\\\\\sum_{k=1}^n a_{nk}\\varphi_k\\end{pmatrix}\\end{aligned}$$同理，$\\because\\psi(t)$是方程$y'=-A^Ty$的解，$\\therefore$ $$\\begin{aligned}\\psi'(t)&=\\begin{pmatrix}\\phi_1'(t)\\\\\\phi_2'(t)\\\\\\vdots\\\\\\phi_n'(t)\\end{pmatrix}\\\\&=-\\begin{pmatrix}a_{11}(t)&a_{12}(t)&\\cdots&a_{1n}(t)\\\\a_{21}(t)&a_{22}(t)&\\cdots&a_{2n}(t)\\\\ \\vdots&\\vdots&\\ddots&\\vdots\\\\a_{n1}(t)&a_{n2}(t)&\\cdots&a_{nn}(t)\\\\\\end{pmatrix}\\begin{pmatrix}\\phi_1(t)\\\\\\phi_2(t)\\\\\\vdots\\\\\\phi_n(t)\\end{pmatrix}\\\\&=\\begin{pmatrix}a_{11}(t)&a_{12}(t)&\\cdots&a_{1n}(t)\\\\a_{21}(t)&a_{22}(t)&\\cdots&a_{2n}(t)\\\\ \\vdots&\\vdots&\\ddots&\\vdots\\\\a_{n1}(t)&a_{n2}(t)&\\cdots&a_{nn}(t)\\\\\\end{pmatrix}\\begin{pmatrix}\\phi_1(t)\\\\\\phi_2(t)\\\\\\vdots\\\\\\phi_n(t)\\end{pmatrix}\\\\&=\\begin{pmatrix}\\sum_{k=1}^n a_{1k}\\psi_k\\\\\\sum_{k=1}^n a_{2k}\\psi_k\\\\\\vdots\\\\\\sum_{k=1}^n a_{nk}\\psi_k\\end{pmatrix}\\\\\\end{aligned}$$对$\\psi^T(t)\\varphi(t)$求导得：$$\\begin{aligned}\\frac{d(\\psi^T(t)\\varphi(t))}{dt}&=\\frac{d\\psi^T(t)}{dt}\\varphi(t)+\\psi^T(t)\\frac{d\\varphi(t)}{dt}\\\\&=-\\left(\\sum_{k=1}^na_{k1}\\phi_k,\\sum_{k=1}^na_{k2}\\phi_k,\\cdots,\\sum_{k=1}^na_{kn}\\phi_k\\right)\\begin{pmatrix}\\varphi_1(t)\\\\\\varphi_2(t)\\\\\\vdots\\\\\\varphi_n(t)\\end{pmatrix}\\\\&+(\\phi_1(t),\\phi_2(t),\\cdots,\\phi_n(t))\\begin{pmatrix}\\sum_{k=1}^n a_{1k}\\varphi_k\\\\\\sum_{k=1}^n a_{k}\\varphi_k\\\\\\vdots\\\\\\sum_{k=1}^n a_{nk}\\varphi_k\\end{pmatrix}\\\\&=-\\left[\\sum_{k=1}^n a_{k1}\\phi_k\\varphi_1+\\sum_{k=1}^n a_{k2}\\phi_k\\varphi_2+\\cdots+\\sum_{k=1}^n a_{kn}\\phi_k\\varphi_n\\right]+\\left[\\sum_{k=1}^n \\phi_1a_{1k}\\varphi_k+\\sum_{k=1}^n \\phi_2a_{2k}\\varphi_k+\\cdots+\\sum_{k=1}^n \\phi_na_{nk}\\varphi_k\\right]\\\\&=-\\sum_{k=1}^n\\sum_{i=1}^n(a_{k=1}\\phi_k\\varphi_i)+\\sum_{k=1}^n\\sum_{i=1}^n(\\phi_ia_{ik}\\varphi_k)\\\\&=-\\sum_{k=1}^n\\sum_{i=1}^n(a_{k=1}\\phi_k\\varphi_i)+\\sum_{k=1}^n\\sum_{i=1}^n(a_{ik}\\phi_i\\varphi_k)\\\\&=0\\\\\\end{aligned}$$ $\\therefore \\psi^T\\varphi^{(t)}=常数$"
   ]
  },
  {
   "cell_type": "markdown",
   "metadata": {},
   "source": [
    "（2）"
   ]
  },
  {
   "cell_type": "markdown",
   "metadata": {},
   "source": [
    "(1)充分性：存在非奇异矩阵\n",
    "$C$，\n",
    "使得\n",
    "\n",
    "$\\psi^T(t)\\Phi(t)=C,\\because\\Phi(t)$\n",
    "\n",
    "是方程$x'=A(t)x$的基解矩阵，\n",
    "\n",
    "$therefore\\Phi^{-1}(t)$存在，\n",
    "\n",
    "$\\psi^T(t)=C\\cdot\\Phi^{-1}(t)$且\n",
    "\n",
    "$det(\\Psi^T(t))=det(C\\cdot\\Phi^{-1}(t))\\neq0$,\n",
    "\n",
    "$\\therefore\\psi(t)$是基解矩阵"
   ]
  },
  {
   "cell_type": "markdown",
   "metadata": {},
   "source": [
    "（2）必要性：\n",
    "$\\psi(t)$是基解矩阵,则$\\psi(t)$的每一个列向量$\\phi_1(t),\\phi_2(t),\\cdots,\\phi_n(t)$与$\\Phi(t)$的每一个列向量$\\varphi_1(t),\\varphi_2(t),\\cdots,\\varphi_n(t)$满足$\\phi_i^T(t)\\varphi_j(t)=常数,i=1,2,\\cdots,n,j=1,2,\\cdots,n$\n",
    "则$\\psi^T(t)\\Phi(t)$是常数矩阵，又$\\because\\Phi(t),\\Psi(t)$都是基解矩阵，\n",
    "$$det(\\Phi(t))\\neq0,det(\\psi^T(t))\\neq0$$$$detC=det(\\Phi(t))\\cdot det(\\psi^T(t))\\neq0$$即矩阵$C$是非奇异矩阵"
   ]
  },
  {
   "cell_type": "markdown",
   "metadata": {},
   "source": [
    "# <font color='red'>A  3/12"
   ]
  },
  {
   "cell_type": "code",
   "execution_count": null,
   "metadata": {
    "collapsed": true
   },
   "outputs": [],
   "source": []
  }
 ],
 "metadata": {
  "kernelspec": {
   "display_name": "SageMath 7.3",
   "language": "",
   "name": "sagemath"
  },
  "language_info": {
   "codemirror_mode": {
    "name": "ipython",
    "version": 2
   },
   "file_extension": ".py",
   "mimetype": "text/x-python",
   "name": "python",
   "nbconvert_exporter": "python",
   "pygments_lexer": "ipython2",
   "version": "2.7.10"
  }
 },
 "nbformat": 4,
 "nbformat_minor": 0
}
