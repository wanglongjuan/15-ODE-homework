{
 "cells": [
  {
   "cell_type": "markdown",
   "metadata": {
    "collapsed": false
   },
   "source": [
    "# 2.考虑方程组\n",
    "$$\n",
    "\\mathbf x'=\\mathbf A(t)\\mathbf x\n",
    "$$\n",
    "$\\mathbf A(t)是区间上\n",
    "a\\leq t \\leq b$\n",
    "上的连续n×n矩阵,它的元$a_{ij}(t)(i,j=1,2,3…，n)$\n",
    "\n",
    "(1)\n",
    "如果 $\\mathbf x_1(t),\\mathbf x_2(t),\\dotsi,\\mathbf x_n(t)$ 是 $\\mathbf x'=\\mathbf A(t)\\mathbf x$ 的解\n",
    "\n",
    "\n",
    "那么它们的朗斯基行列式\n",
    "$$\n",
    "W[ x_1(t), x_2(t),\\dotsi, x_n(t)]\\equiv \\mathbf W(t)\n",
    "$$\n",
    "\n",
    "满足下面的一阶线性微分方程$\\mathbf w'=[a_{11}(t)+a_{22}(t)+\\dotsi+a_{nn}(t)]$"
   ]
  },
  {
   "cell_type": "markdown",
   "metadata": {},
   "source": [
    "（2）解上面的一阶线性微分方程，证明下列公式\n",
    "\n",
    "\n",
    "\n",
    "$$\\mathbf W(t)=\\mathbf W(t_0)e^{\\int_{t_0}^t  [a_{11}(s)+a_{22}(s)+\\dotsi+a_{nn}(s)]\\mathrm{ds}}$$\n",
    "\n",
    "\n",
    "$t_0,t\\in[a,b]$"
   ]
  },
  {
   "cell_type": "markdown",
   "metadata": {},
   "source": [
    " $$ \n",
    " \\mathbf W'(t)= \\left[ \\begin{matrix}  x'_{11}& x'_{12}& \\dots& x'_{1n}\\\\\n",
    "x_{21}  & x_{22} &\\dots& x_{2n}\\\\\n",
    "\\dotsi &\\dotsi& &\\dotsi\\\\\n",
    "x_{n1} &x_{n2} &\\dots& x_{nn}\\\\\n",
    "\\end{matrix} \\right]+\n",
    "\\left[ \\begin{matrix}  x_{11}& x_{12}& \\dots& x_{1n}\\\\\n",
    "x'_{21}  & x'_{22} &\\dots& x'_{2n}\\\\\n",
    "\\dotsi &\\dotsi& &\\dotsi\\\\\n",
    "x_{n1} &x_{n2} &\\dots& x_{nn}\\\\\n",
    "\\end{matrix} \\right]\n",
    "+\\dots+\n",
    "\\left[ \\begin{matrix}  x_{11}& x_{12}& \\dots& x_{1n}\\\\\n",
    "x_{21}  & x_{22} &\\dots& x_{2n}\\\\\n",
    "\\dotsi &\\dotsi& &\\dotsi\\\\\n",
    "x'_{n1} &x'_{n2} &\\dots& x'_{nn}\\\\\n",
    "\\end{matrix} \\right]\n",
    "$$"
   ]
  },
  {
   "cell_type": "markdown",
   "metadata": {},
   "source": [
    "$$\n",
    "= \\left[ \\begin{matrix} \n",
    "{a_{11}x_{11}+a_{12}x_{21}+\\dots+a_{1n}x_{n1}}&{ a_{11}x_{12}+a_{12}x_{22}+\\dots+a_{1n}x_{n2}}& \\dots&a_{11}x_{1n}+a_{12}x_{2n}+\\dots+a_{1n}x_{nn}\\\\\n",
    "x_{21}  & x_{22} &\\dots& x_{2n}\\\\\n",
    "\\dotsi &\\dotsi& &\\dotsi\\\\\n",
    "x_{n1} &x_{n2} &\\dots& x_{nn}\\\\\n",
    "\\end{matrix} \\right]\n",
    " $$"
   ]
  },
  {
   "cell_type": "markdown",
   "metadata": {},
   "source": [
    "$$+\\dots+\\left[ \\begin{matrix}  x_{11}& x_{12}& \\dots& x_{1n}\\\\\n",
    "x_{21}  & x_{22} &\\dots& x_{2n}\\\\\n",
    "\\dotsi &\\dotsi& &\\dotsi\\\\\n",
    " a_{n1}x_{11}+\\dots+a_{nn}x_{n1}&a_{n1}x_{21} +\\dots+a_{nn}x_{n2}&\\dots& a_{n1}x_{1n}+\\dots+a_{nn}x_{nn}\\\\\n",
    "\\end{matrix} \\right]\n",
    "$$"
   ]
  },
  {
   "cell_type": "markdown",
   "metadata": {},
   "source": [
    "$$\n",
    "= \\left[ \\begin{matrix} \n",
    "a_{11}x_{11}&a_{11}x_{12}& \\dots&a_{11}x_{1n}\\\\\n",
    "x_{21}  & x_{22} &\\dots& x_{2n}\\\\\n",
    "\\dotsi &\\dotsi& &\\dotsi\\\\\n",
    "x_{n1} &x_{n2} &\\dots& x_{nn}\\\\\n",
    "\\end{matrix} \\right]\n",
    "+\\dots+\n",
    "\\left[ \\begin{matrix}  x_{11}& x_{12}& \\dots& x_{1n}\\\\\n",
    "x_{21}  & x_{22} &\\dots& x_{2n}\\\\\n",
    "\\dotsi &\\dotsi& &\\dotsi\\\\\n",
    "a_{nn}x_{n1}&a_{nn}x_{n2}&\\dots& a_{nn}x_{nn}\\\\\n",
    "\\end{matrix} \\right]\n",
    "$$\n"
   ]
  },
  {
   "cell_type": "markdown",
   "metadata": {},
   "source": [
    "整理后得$$ \n",
    " \\mathbf W'(t)=(a_{11}+\\dots+a_{nn}) \\left[ \\begin{matrix}  x_{11}& x_{12}& \\dots& x_{1n}\\\\\n",
    "x_{21}  & x_{22} &\\dots& x_{2n}\\\\\n",
    "\\dotsi &\\dotsi& &\\dotsi\\\\\n",
    "x_{n1} &x_{n2} &\\dots& x_{nn}\\\\\n",
    "\\end{matrix} \\right]=(a_{11}+\\dots+a_{nn}) \\mathbf W（t)\n",
    "$$"
   ]
  },
  {
   "cell_type": "markdown",
   "metadata": {},
   "source": [
    "(2)由于$$ \n",
    " \\mathbf W'(t)=[a_{11}（t）+\\dots+a_{nn}(t)] \\mathbf W（t)$$\n",
    " \n",
    " 即$\\frac{d \\mathbf W（t)}{ \\mathbf W（t)}=[a_{11}（t）+\\dots+a_{nn}(t)] dt$两边从$t_0到t$积分\n"
   ]
  },
  {
   "cell_type": "markdown",
   "metadata": {},
   "source": [
    "$$ln|\\mathbf W(t)|-ln|\\mathbf W(t_0）|=\\int _{t_0}^t  [a_{11}（s）+\\dots+a_{nn}(s)] \\mathrm{ds}$$\n",
    "\n",
    "即$$\\mathbf W(t)=\\mathbf W(t_0)e^{\\int _{t_0}^t  [a_{11}（s）+\\dots+a_{nn}(s)] \\mathrm{ds}}$$"
   ]
  },
  {
   "cell_type": "markdown",
   "metadata": {},
   "source": [
    "# 3.\n",
    "$\\mathbf A(t)是区间\n",
    "a\\leq t \\leq b$\n",
    "上的连续n×n矩阵,\n",
    "$\\mathbf x'=\\mathbf A(t)\\mathbf x$基矩阵:\n",
    "$\n",
    "\\mathbf \\Phi(t)\n",
    "$\n",
    "而$\\mathbf x=\\varphi (t)$为其一解，试证：\n",
    "\n",
    "\n",
    "(1)对于方程$\\mathbf y'=-\\mathbf A^{T}(t) \\mathbf y$的任一解$\\mathbf y=\\mathbf \\psi (t)$,必有$\\mathbf \\psi^{T}(t)\\mathbf \\varphi(t)=常数$ "
   ]
  },
  {
   "cell_type": "markdown",
   "metadata": {},
   "source": [
    "(2)$\\mathbf \\psi(t)$为方程$\\mathbf y'=\\mathbf A(t)\\mathbf y$的基解矩阵的充要条件是存在非奇异的常数矩阵C，使$\\mathbf \\psi^{T}(t)\\mathbf \\varphi(t)=C$ "
   ]
  },
  {
   "cell_type": "markdown",
   "metadata": {},
   "source": [
    "(1)$[\\mathbf \\psi^{T}(t)\\mathbf \\varphi(t)]'=(\\mathbf \\psi^{T}(t)）'\\mathbf \\varphi(t)+\\mathbf \\psi^{T}(t)\\mathbf \\varphi'(t)$"
   ]
  },
  {
   "cell_type": "markdown",
   "metadata": {},
   "source": [
    "$=(\\mathbf \\psi^{T}(t))'\\mathbf \\varphi(t)+\\mathbf \\psi^{T}(t) \\mathbf A(t) \\mathbf \\varphi(t)$"
   ]
  },
  {
   "cell_type": "markdown",
   "metadata": {},
   "source": [
    "因为$\\psi '(t)=-A^{T}(t)\\mathbf \\psi(t)$,所以$(\\mathbf \\psi^{T}(t)）'=-\\psi^{T}(t)\\mathbf A(t)$"
   ]
  },
  {
   "cell_type": "markdown",
   "metadata": {},
   "source": [
    "从而$[\\mathbf \\psi^{T}(t)\\mathbf \\varphi(t)]'=-\\mathbf \\psi^{T}(t) \\mathbf A(t) \\mathbf \\varphi(t)+\\mathbf \\psi^{T}(t) \\mathbf A(t) \\mathbf \\varphi(t)=0$"
   ]
  },
  {
   "cell_type": "markdown",
   "metadata": {},
   "source": [
    "所以对于方程$y'=-A^T(t)y$的任一解$y=\\psi(t)$必有$\\mathbf \\psi^{T}(t)\\mathbf \\varphi(t)=常数$ "
   ]
  },
  {
   "cell_type": "markdown",
   "metadata": {},
   "source": [
    "（2）必要性：\n",
    "假设$\\psi(t)$为方程$y'=-A^T(t)y$的基解矩阵  \n",
    "\n",
    "\n",
    "则$[\\psi^T(t)\\phi(t)]'=[\\psi^T(t)]'\\phi(t)+\\psi^T(t)\\phi'(t)$"
   ]
  },
  {
   "cell_type": "markdown",
   "metadata": {},
   "source": [
    "$=[-A^T(t)\\psi(t)]^T\\psi(t)+\\psi^T(t)A(t)\\phi(t)=-\\psi^T(t)A(t)\\phi(t)+\\psi^T(t)A(t)\\phi(t)=0$"
   ]
  },
  {
   "cell_type": "markdown",
   "metadata": {},
   "source": [
    "所以$\\psi^T(t)\\phi(t)=C$\n",
    "由于$\\phi(t),\\psi(t)$分别是基解矩阵，从而$det(\\phi(t))\\neq 0,det(\\psi(t))\\neq 0,这样det(C)\\neq 0$，即C是非奇异的"
   ]
  },
  {
   "cell_type": "markdown",
   "metadata": {},
   "source": [
    "充分性：\n",
    "若存在非奇异常数矩阵C,$det(C)\\neq 0$,使$\\psi^T(t)\\phi(t)=C$，由于$\\phi(t)为方程$$\\mathbf x'=\\mathbf A(t)\\mathbf x$$的基解矩阵，\n",
    "\n",
    "\n",
    "\n",
    "故$\\phi ^{-1}(t)$存在，所以，$\\psi^T(t)=C\\bullet \\phi ^{-1}(t)$"
   ]
  },
  {
   "cell_type": "markdown",
   "metadata": {},
   "source": [
    "并且$det(\\psi^T(t))=det(C\\bullet \\phi ^{-1}(t))\\neq 0$即$\\psi(t)$为方程$\\mathbf y'=-\\mathbf A^{T}(t) \\mathbf y$的基解矩阵"
   ]
  },
  {
   "cell_type": "markdown",
   "metadata": {
    "collapsed": true
   },
   "source": [
    "# <font color='red'>A  3/12"
   ]
  },
  {
   "cell_type": "code",
   "execution_count": null,
   "metadata": {
    "collapsed": true
   },
   "outputs": [],
   "source": []
  }
 ],
 "metadata": {
  "kernelspec": {
   "display_name": "Python 2",
   "language": "python",
   "name": "python2"
  },
  "language_info": {
   "codemirror_mode": {
    "name": "ipython",
    "version": 2
   },
   "file_extension": ".py",
   "mimetype": "text/x-python",
   "name": "python",
   "nbconvert_exporter": "python",
   "pygments_lexer": "ipython2",
   "version": "2.7.10"
  }
 },
 "nbformat": 4,
 "nbformat_minor": 0
}
