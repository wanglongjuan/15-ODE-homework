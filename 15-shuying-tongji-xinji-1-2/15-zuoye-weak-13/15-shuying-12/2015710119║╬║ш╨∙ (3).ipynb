{
 "cells": [
  {
   "cell_type": "markdown",
   "metadata": {
    "collapsed": false
   },
   "source": [
    "### 2.考虑方程组$$x'=A(t)x,$$ 其中A(t)是区间$a\\leq t\\leq b$上的连续$n \\times n$矩阵，它的元为$a_{ij}(t)(i,j=1,2, \\cdots ,n).$"
   ]
  },
  {
   "cell_type": "markdown",
   "metadata": {},
   "source": [
    "$(1)$如果$x_1(t),x_2(t),\\cdots,x_n(t)$是$$x'=A(t)x,$$的任意$n$个解，那么它们的朗斯基行列式$W[x_1(t),x_2(t),\\cdots,x_n(t)]\\equiv W(t)$满足下面的一阶线性微分方程\n",
    "$$W'=[a_{11}(t),a_{22}(t),\\cdots,a_{nn}(t)]W;$$\n",
    "\n",
    "解：$W'(t)=\\begin{vmatrix} x'_{11}&x'_{12}&\\cdots&x'_{1n}\\\\x_{21}&x_{22}&\\cdots&x_{2n}\\\\ \\vdots&\\vdots&\\vdots&\\vdots\\\\x_{n1}&x_{n2}&\\cdots&x_{nn}\\\\\\end{vmatrix}+\\begin{vmatrix} x_{11}&x_{12}&\\cdots&x_{1n}\\\\x'_{21}&x'_{22}&\\cdots&x'_{2n}\\\\ \\vdots&\\vdots&\\vdots&\\vdots\\\\x_{n1}&x_{n2}&\\cdots&x_{nn}\\\\\\end{vmatrix}+\\cdots+\\begin{vmatrix} x_{11}&x_{12}&\\cdots&x_{1n}\\\\x_{21}&x_{22}&\\cdots&x_{2n}\\\\ \\vdots&\\vdots&\\vdots&\\vdots\\\\x'_{n1}&x'_{n2}&\\cdots&x'_{nn}\\\\\\end{vmatrix}$\n",
    "\n",
    "$=\\begin{vmatrix} a_{11}x_{11}+a_{12}x_{21}+\\cdots+a_{1n}x_{n1}&a_{11}x_{12}+a_{12}x_{22}+\\cdots+a_{1n}x_{n2}&\\cdots&a_{11}x_{1n}+a_{12}x_{2n}+\\cdots+a_{1n}x_{nn}\\\\x_{21}&x_{22}&\\cdots&x_{2n}\\\\ \\vdots&\\vdots&\\vdots&\\vdots\\\\x_{n1}&x_{n2}&\\cdots&x_{nn}\\\\\\end{vmatrix}+\\cdots \\\\+\\begin{vmatrix} x_{11}&x_{12}&\\cdots&x_{1n}\\\\x_{21}&x_{22}&\\cdots&x_{2n}\\\\ \\vdots&\\vdots&\\vdots&\\vdots\\\\a_{n1}x_{11}+a_{n2}x_{21}+\\cdots+a_{nn}x_{n1}&a_{n1}x_{12}+a_{n2}x_{22}+\\cdots+a_{nn}x_{n2}&\\cdots&a_{n1}x_{1n}+a_{n2}x_{2n}+\\cdots+a_{nn}x_{nn}\\\\\\end{vmatrix}$\n",
    "\n",
    "\n",
    "\n",
    "$=\\begin{vmatrix}a_{11}x_{11}&a_{11}x_{12}&\\cdots&a_{11}x_{1n}\\\\x_{21}&x_{22}&\\cdots&x_{2n}\\\\\\vdots&\\vdots&\\vdots&\\vdots\\\\x_{n1}&x_{n2}&\\cdots&x_{nn}\\end{vmatrix}+\\cdots+\\begin{vmatrix}x_{11}&x_{12}&\\cdots&x_{1n}\\\\x_{21}&x_{22}&\\cdots&x_{2n}\\\\\\vdots&\\vdots&\\vdots&\\vdots\\\\a_{nn}x_{n1}&a_{nn}x_{n2}&\\cdots&a_{nn}x_{nn}\\end{vmatrix}$\n",
    "\n",
    "\n",
    "$=(a_{11}+a_{22}+\\cdots+a_{nn})\\begin{vmatrix} x_{11}&x_{12}&\\cdots&x_{1n}\\\\x_{21}&x_{22}&\\cdots&x_{2n}\\\\ \\vdots&\\vdots&\\vdots&\\vdots\\\\x_{n1}&x_{n2}&\\cdots&x_{nn}\\\\\\end{vmatrix}$\n",
    "\n",
    "$=[a_{11}(t),a_{22}(t),\\cdots,a_{nn}(t)]W$"
   ]
  },
  {
   "cell_type": "markdown",
   "metadata": {},
   "source": [
    "$(2)$解上面的一阶线性微分方程，证明下面的公式：$$W(t)=W(t_0)e^{\\int_{t_0}^t[a_{11}(s)+a_{22}(s)+\\cdots+a_{nn}(s)]ds},t_0,t\\in [a,b].$$\n",
    "\n",
    "解：∵$$W'=[a_{11}(t),a_{22}(t),\\cdots,a_{nn}(t)]W$$\n",
    "\n",
    "$$\\frac{dW}{w}=[a_{11}(t),a_{22}(t),\\cdots,a_{nn}(t)]dt$$\n",
    "\n",
    "两边积分：$$\\ln |W(t)|-\\ln |W(t_0)|=\\int_{t_0}^t[a_{11}(s)+a_{22}(s)+\\cdots+a_{nn}(s)]ds$$\n",
    "\n",
    "即$$W(t)=W(t_0)e^{\\int_{t_0}^t[a_{11}(s)+a_{22}(s)+\\cdots+a_{nn}(s)]ds}$$"
   ]
  },
  {
   "cell_type": "markdown",
   "metadata": {},
   "source": [
    "### 3.设$A(t)$为区间$a\\leq t\\leq b$上的连续$n\\times n$实矩阵，$\\Phi(t)$为方程$x'=A(t)x$的基解矩阵，而$x=\\varphi(t)$为其一解。试证："
   ]
  },
  {
   "cell_type": "markdown",
   "metadata": {},
   "source": [
    "$(1)$对于方程$y'=-A^{T}(t)y$的任一解$y=\\Psi(t)$必有$\\Psi^{T}(t)\\varphi(t)=$常数；\n",
    "\n",
    "解：$$[\\Psi^{T}(t)\\varphi(t)]'=\\Psi^{T'}(t)\\varphi(t)+\\Psi^{T}(t)\\varphi'(t)=\\Psi'^{T}(t)\\varphi(t)+\\Psi^{T}(t)A(t)\\varphi(t)$$\n",
    "\n",
    "因为$$\\Psi'=-A^T(t)\\Psi(t)$$\n",
    "\n",
    "所以$$\\Psi'^T=-\\Psi^T(t)A(t)$$\n",
    "\n",
    "$$[\\Psi^{T}(t)\\varphi(t)]'=-\\Psi^T(t)A(t)\\varphi(t)+\\Psi^T(t)A(t)\\varphi(t)=0$$\n",
    "\n",
    "所以对于方程$y'=-A^{T}(t)y$的任一解$y=\\Psi(t)$必有$\\Psi^{T}(t)\\varphi(t)=$常数"
   ]
  },
  {
   "cell_type": "markdown",
   "metadata": {},
   "source": [
    "$(2)\\Psi(t)$为方程$y'=-A^{T}(t)y$的基解矩阵的充要条件是存在非奇异的常数矩阵C，使$\\Psi^{T}(t)\\varphi(t)=C$\n",
    "\n",
    "解：必要性：若$\\Psi(t)$为方程$y'=-A^{T}(t)y$的基解矩阵\n",
    "\n",
    "$$[\\Psi^{T}(t)\\varphi(t)]'=[\\Psi^{T}(t)]'\\Phi(t)+\\Psi^T(t)\\Phi'(t)$$\n",
    "\n",
    "$$=[-A^T(t)\\Psi(t)]\\Phi(t)+\\Psi^T(t)A^T(t)\\Phi(t)+\\Psi^T(t)[A(t)\\varphi(t)]$$\n",
    "\n",
    "$$=-\\Psi^T(t)A^T(t)\\Phi(t)+\\Psi^T(t)A^T(t)\\Phi(t)=0$$\n",
    "\n",
    "所以$$\\Psi^{T}(t)\\varphi(t)=C$$\n",
    "\n",
    "充分性：若存在非奇异的常数矩阵C，使$\\Psi^{T}(t)\\varphi(t)=C$\n",
    "\n",
    "则$$[\\Psi^T(t) \\varphi(t)]'=\\Psi^{T'} \\varphi(t)+\\Psi^T \\varphi'(t)=0$$\n",
    "\n",
    "故$$\\Psi^{T'}(t)\\varphi(t)=-\\Psi^T(t)\\varphi(t)A(t)$$\n",
    "\n",
    "$$\\Psi^{T'}(t)=-\\Psi^T(t)A(t)$$\n",
    "\n",
    "所以$$\\Psi'^T(t)=-\\Psi^T(t)A(t),\\Psi'(t)=-\\Psi^T(t)A^T(t)$$\n",
    "\n",
    "即$\\Psi(t)$为方程$y'=-A^{T}(t)y$的基解矩阵"
   ]
  },
  {
   "cell_type": "markdown",
   "metadata": {
    "collapsed": true
   },
   "source": [
    "# <font color='red'>A  3/12"
   ]
  },
  {
   "cell_type": "code",
   "execution_count": null,
   "metadata": {
    "collapsed": true
   },
   "outputs": [],
   "source": []
  }
 ],
 "metadata": {
  "kernelspec": {
   "display_name": "SageMath 7.3",
   "language": "",
   "name": "sagemath"
  },
  "language_info": {
   "codemirror_mode": {
    "name": "ipython",
    "version": 2
   },
   "file_extension": ".py",
   "mimetype": "text/x-python",
   "name": "python",
   "nbconvert_exporter": "python",
   "pygments_lexer": "ipython2",
   "version": "2.7.10"
  }
 },
 "nbformat": 4,
 "nbformat_minor": 0
}
