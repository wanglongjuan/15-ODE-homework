{
 "cells": [
  {
   "cell_type": "markdown",
   "metadata": {
    "collapsed": false
   },
   "source": [
    "$5.2$"
   ]
  },
  {
   "cell_type": "markdown",
   "metadata": {},
   "source": [
    "$2.考虑方程组\\mathbf{x'}=\\mathbf{A}(t)\\mathbf{x}.其中\\mathbf{A}(t)是区间a\\leq t\\leq b上的连续n*n矩阵，它的元为a_{ij}(t)(i=1,2,...,n).$"
   ]
  },
  {
   "cell_type": "markdown",
   "metadata": {},
   "source": [
    "$(1)如果\\mathbf{x} _1(t),\\mathbf{x} _2(t),...,\\mathbf{x} _n(t) 是（5.15）的任意 n 个解，那么他们的朗斯基行列式\\mathbf{W}[x_1(t),x_2(t),...,x_n(t)]≡\\mathbf{W}(t)满足下面的一阶线性微分方程\\mathbf{W}'=[a_{11}(t)+a_{22}(t)+...+a_{nn}(t)]\\mathbf{W}$"
   ]
  },
  {
   "cell_type": "markdown",
   "metadata": {},
   "source": [
    "解：$$W'=\n",
    "    \\left[\n",
    "    \\begin{matrix}\n",
    "    x'_{11}  x'_{12}  ...  x'_{1n}\\\\\n",
    "    x_{21}  x_{22}  ...  x_{2n}\\\\\n",
    "   ┊┊┊\\\\\n",
    "    x_{n1}  x_{n2} ...  x_{nn}\n",
    "    \\end{matrix}\n",
    "    \\right]+\\left[\n",
    "    \\begin{matrix}\n",
    "    x_{11}  x_{12}  ...  x_{1n}\\\\\n",
    "    x'_{21}  x'_{22}  ...  x'_{2n}\\\\\n",
    "   ┊┊┊\\\\\n",
    "    x_{n1}  x_{n2} ...  x_{nn}\n",
    "    \\end{matrix}\n",
    "    \\right]+...\\left[\n",
    "    \\begin{matrix}\n",
    "    x_{11}  x_{12}  ...  x_{1n}\\\\\n",
    "    x_{21}  x_{22}  ...  x_{2n}\\\\\n",
    "   ┊┊┊\\\\\n",
    "    x'_{n1}  x'_{n2} ...  x'_{nn}\n",
    "    \\end{matrix}\n",
    "    \\right]\n",
    "    =\\left[\n",
    "    \\begin{matrix}\n",
    "    a_{11}x_{11}   a_{11}x_{12}  ...  a_{11}x_{1n}\\\\\n",
    "    x_{21}            x_{22}     ...     x_{2n}\\\\\n",
    "   ┊┊┊\\\\\n",
    "    x_{n1}  x_{n2} ...  x_{nn}\n",
    "    \\end{matrix}\n",
    "    \\right]+...\\left[\n",
    "    \\begin{matrix}\n",
    "    x_{11}  x_{12}  ...  x_{1n}\\\\\n",
    "    x_{21}  x_{22}  ...  x_{2n}\\\\\n",
    "   ┊┊┊\\\\\n",
    "   a_{nn}x_{n1}  a_{nn}x_{n2} ...  a_{nn}x_{nn}\n",
    "    \\end{matrix}\n",
    "    \\right]\n",
    "     $$\n",
    "    "
   ]
  },
  {
   "cell_type": "markdown",
   "metadata": {},
   "source": [
    "所以整理后变形为 \n",
    "    $$\\left[\n",
    "    \\begin{matrix}\n",
    "    x'_{11}  x'_{12}  ...  x'_{1n}\\\\\n",
    "    x_{21}  x_{22}  ...  x_{2n}\\\\\n",
    "   ┊┊┊\\\\\n",
    "    x_{n1}  x_{n2} ...  x_{nn}\n",
    "    \\end{matrix}\n",
    "    \\right](a_{11}+…a_{nn})=(a_{11}+…a_{nn})W(t)\n",
    "    $$"
   ]
  },
  {
   "cell_type": "markdown",
   "metadata": {},
   "source": [
    "$(2)解上面的一阶线性微分方程，证明下面的公式：W(t)=W(t_0)e^{\\int_{t_0}^{t}[a_{11}(s)+a_{22}(s)+...+a_{nn}(s)]ds}$"
   ]
  },
  {
   "cell_type": "markdown",
   "metadata": {},
   "source": [
    "$解：由于W'(t)=[a11(t)+…+ann(t)]W(t),即\\frac{dW(t)}{W(t)}=[a11(t)+…+ann(t)]dt两边从t0到t积分$"
   ]
  },
  {
   "cell_type": "markdown",
   "metadata": {},
   "source": [
    "$ln|W(t)|-ln|W(t0)|=\\int_{t0}^{t}[a11(s)+…+ann(s)]ds,$"
   ]
  },
  {
   "cell_type": "markdown",
   "metadata": {},
   "source": [
    "2$即W(t)=W(t0)e^{\\int_{t0}^{t}[a11(s)+…+ann(s)]ds},t∈[a,b]$"
   ]
  },
  {
   "cell_type": "markdown",
   "metadata": {},
   "source": [
    "$3.(1)解[\\psi(t)^t\\phi(t)]'=(\\psi(t)^t)'\\phi(t)+\\psi(t)^t\\phi(t)'=(\\psi(t)^t)'\\phi(t)+\\psi(t)^tA(t)\\phi(t)$"
   ]
  },
  {
   "cell_type": "markdown",
   "metadata": {},
   "source": [
    "$因为\\psi(t)=-A（t）^t\\psi(t),所以(\\psi(t)^t)'=-\\psi(t)A(t)，所以[\\psi(t)^t\\phi(t)]'=-\\psi(t)A(t)\\phi(t)+\\psi(t)A(t)\\phi(t)=0$"
   ]
  },
  {
   "cell_type": "markdown",
   "metadata": {},
   "source": [
    "$所以对于方程y'=-A(t)^ty的任一解y=\\psi(t)必有\\psi(t)^t\\phi(t)=常数$"
   ]
  },
  {
   "cell_type": "markdown",
   "metadata": {},
   "source": [
    "$(2)解：必要性：假设\\psi(t)为方程y'=-A^T(t)y的基解矩阵$"
   ]
  },
  {
   "cell_type": "markdown",
   "metadata": {},
   "source": [
    "$[\\psi^T(t)\\phi(t)]'=[\\psi^T(t)]'\\phi(t)+\\psi^T(t)\\phi'(t)=[-A^T(t)\\psi(t)]^t\\phi(t)+\\psi^T(t)A(t)\\phi(t)=-\\psi^T(t)A(t)\\phi(t)+\\psi^T(t)A(t)\\phi(t)=0$"
   ]
  },
  {
   "cell_type": "markdown",
   "metadata": {},
   "source": [
    "$所以\\psi^T(t)\\phi(t)=C.$"
   ]
  },
  {
   "cell_type": "raw",
   "metadata": {},
   "source": [
    "$由于\\psi(t)、\\phi(t)分别是基解矩阵，所以det(\\psi(t))≠0，det(\\phi(t))≠0，这样，det(C)≠0，所以C是非奇异的。$"
   ]
  },
  {
   "cell_type": "markdown",
   "metadata": {},
   "source": [
    "$充分性：若存在非奇异常数矩阵C，detC≠0，使\\psi(t)^t\\phi(t)=C，由于\\phi(t)为方程x'=A（t)x的基解矩阵，$"
   ]
  },
  {
   "cell_type": "markdown",
   "metadata": {},
   "source": [
    "$故\\phi(t)^{-1}存在，所以\\psi(t)^t=C\\phi(t)^{-1}$"
   ]
  },
  {
   "cell_type": "markdown",
   "metadata": {},
   "source": [
    "$并且det(\\psi(t)^t)=det(C\\phi(t)^(-1))≠0，即\\psi(t)为方程y'=-A(t)^Ty的基解矩阵$"
   ]
  },
  {
   "cell_type": "markdown",
   "metadata": {
    "collapsed": true
   },
   "source": [
    "# <font color='red'>A  3/12"
   ]
  },
  {
   "cell_type": "code",
   "execution_count": null,
   "metadata": {
    "collapsed": true
   },
   "outputs": [],
   "source": []
  }
 ],
 "metadata": {
  "kernelspec": {
   "display_name": "Python 2",
   "language": "python",
   "name": "python2"
  },
  "language_info": {
   "codemirror_mode": {
    "name": "ipython",
    "version": 2
   },
   "file_extension": ".py",
   "mimetype": "text/x-python",
   "name": "python",
   "nbconvert_exporter": "python",
   "pygments_lexer": "ipython2",
   "version": "2.7.10"
  }
 },
 "nbformat": 4,
 "nbformat_minor": 0
}
