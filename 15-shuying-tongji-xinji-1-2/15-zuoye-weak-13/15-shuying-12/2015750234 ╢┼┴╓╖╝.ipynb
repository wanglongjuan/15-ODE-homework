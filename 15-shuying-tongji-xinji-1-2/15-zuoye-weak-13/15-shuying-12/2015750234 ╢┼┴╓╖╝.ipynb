{
 "cells": [
  {
   "cell_type": "markdown",
   "metadata": {
    "collapsed": false
   },
   "source": [
    "习题5.2"
   ]
  },
  {
   "cell_type": "markdown",
   "metadata": {},
   "source": [
    "2.考虑方程组   $$\\mathbf{x'}=\\mathbf{A}(t)\\mathbf{x}$$ 其中  $\\mathbf{A}(t)是区间a\\leq t\\leq b\n",
    "上的连续 n×n\n",
    "矩阵，它的元为a_{ij}(t)(i=1,2,...,n).$\n"
   ]
  },
  {
   "cell_type": "markdown",
   "metadata": {},
   "source": [
    "(1)如果$\\mathbf{x} _1(t),\\mathbf{x} _2(t),...,\\mathbf{x} _n(t) 是（5.15）的任意 n 个解，那么他们的朗斯基行列式\\mathbf{W}[x_1(t),x_2(t),...,x_n(t)]≡\\mathbf{W}(t)$满足下面的一阶线性微分方程 $$\\mathbf{W}'=[a_{11}(t)+a_{22}(t)+...+a_{nn}(t)]\\mathbf{W};$$\n"
   ]
  },
  {
   "cell_type": "markdown",
   "metadata": {},
   "source": [
    "(2)解上面的一阶线性微分方程，证明下面的公式："
   ]
  },
  {
   "cell_type": "markdown",
   "metadata": {},
   "source": [
    "$W(t)=W(t_0)e^{\\int_{t_0}^{t}[a_{11}(s)+a_{22}(s)+...+a_{nn}(s)]ds}$\n"
   ]
  },
  {
   "cell_type": "markdown",
   "metadata": {},
   "source": [
    " 解： $$W'= \\begin{bmatrix}\n",
    "    x'_{11}  x'_{12}  ...  x'_{1n}\\\\\n",
    "    x_{21}  x_{22}  ...  x_{2n}\\\\\n",
    "   ┊┊┊\\\\\n",
    "    x_{n1}  x_{n2} ...  x_{nn}\n",
    "    \\end{bmatrix}\n",
    "   +\\begin{bmatrix}\n",
    "    x_{11}  x_{12}  ...  x_{1n}\\\\\n",
    "    x'_{21}  x'_{22}  ...  x'_{2n}\\\\\n",
    "   ┊┊┊\\\\\n",
    "    x_{n1}  x_{n2} ...  x_{nn}\n",
    "    \\end{bmatrix}\n",
    "    +\\begin{bmatrix}\n",
    "    x_{11}  x_{12}  ...  x_{1n}\\\\\n",
    "    x_{21}  x_{22}  ...  x_{2n}\\\\\n",
    "   ┊┊┊\\\\\n",
    "    x'_{n1}  x'_{n2} ...  x'_{nn}\n",
    "    \\end{bmatrix}=\n",
    "    \\begin{bmatrix}\n",
    "    a_{11}x_{11}+a_{12}x_{21}+...+a_{12}x_{n1} \\  a_{11}x_{12}+...+a_{12}x_{22}+a_{1n}x_{n2}  \\\n",
    "     a_{11}x_{1n}+a_{12}x_{2n}+...+a_{1n}x_{nn}\\\\\n",
    "    x_{21}  x_{22}  ...  x_{2n}\\\\\n",
    "   ┊┊┊\\\\\n",
    "    x_{n1}  x_{n2} ...  x_{nn}\n",
    "    \\end{bmatrix}\n",
    "    + \n",
    "    \\begin{bmatrix}\n",
    "    x_{11}  x_{12}  ...  x_{1n}\\\\\n",
    "    x_{21}  x_{22}  ...  x_{2n}\\\\\n",
    "   ┊┊┊\\\\\n",
    "   a_{n1}x_{11}+...+a_{nn}x_{n1}  a_{n1}x_{12}+...+a_{nn}x_{n2} ... a_{n1}x_{1n}+...+a_{nn}x_{nn}\n",
    "    \\end{bmatrix}\n",
    "    $$\n",
    "    \n",
    "    "
   ]
  },
  {
   "cell_type": "markdown",
   "metadata": {},
   "source": [
    " 整理原式变为$$(a_{11}+...+a_{nn})\\begin{bmatrix}\n",
    "    x_{11}  x_{12}  ...  x_{1n}\\\\\n",
    "    x_{21}  x_{22}  ...  x_{2n}\\\\\n",
    "   ┊┊┊\\\\\n",
    "    x_{n1}  x_{n2} ...  x_{nn}\n",
    "    \\end{bmatrix}\n",
    "   =(a_{11}+...+a_{nn}）\\mathbf{W}(t)=(a_{11}(t）+...+a_{nn}(t))\\mathbf{W}(t)$$"
   ]
  },
  {
   "cell_type": "markdown",
   "metadata": {},
   "source": [
    "(2 由于 $\\mathbf{W}(t)=[a_{11}(t)+...+a_{nn}(t)]\\mathbf{W}(t)$"
   ]
  },
  {
   "cell_type": "markdown",
   "metadata": {},
   "source": [
    "即$\\frac{\\mathrm d\\mathbf{W}(t)}{\\mathbf{W}(t)}=[a_{11}(t)+...+a_{nn}(t)]dt$两边从$t_0 到t积分$"
   ]
  },
  {
   "cell_type": "markdown",
   "metadata": {},
   "source": [
    "$ln|\\mathbf{W}(t)|-ln|\\mathbf{W}(t_0)|=\\int_{t_0}^{t}[a_{11}(s)+...+a_{nn}(s)]ds$"
   ]
  },
  {
   "cell_type": "markdown",
   "metadata": {},
   "source": [
    "即得： $\\mathbf{W}(t)= \\mathbf{W}(t_0)e^{\\int_{t_0}^{t}[a_{11}(s)+...+a_{nn}(s)]ds}$"
   ]
  },
  {
   "cell_type": "markdown",
   "metadata": {},
   "source": [
    "3.设$\\mathbf{A}(t)为区间a\\leq t\\leq b上的连续n×n实矩阵，\\mathbf{\\phi}(t)为方程 \\mathbf{x}'=\\mathbf{A}(t)\\mathbf{x}(t)的基解矩阵，而\\mathbf{x}=\\mathbf{\\phi}(t)为其一解，试证：$\n"
   ]
  },
  {
   "cell_type": "markdown",
   "metadata": {},
   "source": [
    "（1)对于方程$\\mathbf{y}'=-\\mathbf{A}^T(t)\\mathbf{y}$的任一解$\\mathbf{y}=\\mathbf{\\beta}(t)必有\\mathbf{\\beta}^T(t)\\mathbf{\\phi}(t)$= 常数"
   ]
  },
  {
   "cell_type": "markdown",
   "metadata": {},
   "source": [
    "(2)$\\mathbf{\\beta}(t)为方程\\mathbf{y}'=-\\mathbf{A}^T(t)\\mathbf{y}的基解矩阵的充分必要条件是存在非奇异的常数矩阵\\mathbf{C}, 使\\mathbf{\\beta}^T(t)\\mathbf{\\phi}(t)=\\mathbf{C}$"
   ]
  },
  {
   "cell_type": "markdown",
   "metadata": {},
   "source": [
    "解：(1)\n",
    "$\n",
    "\\begin{aligned}\n",
    "\\\n",
    "[\\mathbf{\\beta}^T(t)\\mathbf{\\phi}(t)]'\n",
    " &=[\\mathbf{\\beta}^T(t)]'\\mathbf{\\phi}(t)+\\mathbf{\\beta}^T(t)[\\mathbf{\\phi}(t)]'\\\\&=[\\mathbf{\\beta}^T(t)]'\\mathbf{\\phi}(t)+\\mathbf{\\beta}^T(t)\\mathbf{A}(t)\\mathbf{\\phi}(t),\n",
    "\\end{aligned}\n",
    "$\n"
   ]
  },
  {
   "cell_type": "markdown",
   "metadata": {
    "collapsed": true
   },
   "source": [
    "因为$[\\mathbf{\\beta}(t)]'=\\mathbf{A}^T(t)\\mathbf{\\beta}(t)，所以(\\mathbf{\\beta}^T(t))'=-\\mathbf{\\beta}^T(t)\\mathbf{A}(t)$,\n",
    "从而 $[\\mathbf{\\beta}^T(t)\\mathbf{\\phi}(t)]'=-\\mathbf{\\beta}^T(t)\\mathbf{A}(t)\\mathbf{\\phi}(t)+\\mathbf{\\beta}^T(t)\\mathbf{A}(t)\\mathbf{\\phi}(t)=0$"
   ]
  },
  {
   "cell_type": "markdown",
   "metadata": {},
   "source": [
    "所以对于方程$\\mathbf{y}'=-\\mathbf{A}^T(t)\\mathbf{y}的任一解\\mathbf{y}=\\mathbf{\\beta}(t)必有\\mathbf{\\beta}^T\\mathbf{\\phi}(t)=常数.$"
   ]
  },
  {
   "cell_type": "markdown",
   "metadata": {},
   "source": [
    "(2)必要性：假设$\\mathbf{\\beta}(t)为方程\\mathbf{y}'=-\\mathbf{A}^T(t)\\mathbf{y}$\n",
    "的基解矩阵，则\n",
    "\n",
    "\n"
   ]
  },
  {
   "cell_type": "markdown",
   "metadata": {},
   "source": [
    "$$\n",
    "\\begin{aligned}\n",
    "\\\n",
    "[\\mathbf{\\beta}^T(t)\\mathbf{\\phi}(t)]'&=[\\mathbf{\\beta}^T(t)]'\\mathbf{\\phi}(t)\n",
    "+\\mathbf{\\beta}^T(t)[\\mathbf{\\phi}(t)]'\\\\\n",
    "&=[-\\mathbf{A}^T(t)\\mathbf{\\beta}(t)]^T\\mathbf{\\phi}(t)+\n",
    "\\mathbf{\\beta}^T(t)\\mathbf{A}(t)\\mathbf{\\phi}(t)\\\\\n",
    "&=-\\mathbf{\\beta}^T(t)\\mathbf{A}(t)\\mathbf{\\phi}(t)+\n",
    "\\mathbf{\\beta}^T(t)\\mathbf{A}(t)\\mathbf{\\phi}(t)=0\n",
    "\\end{aligned}\n",
    "$$\n",
    "\n"
   ]
  },
  {
   "cell_type": "markdown",
   "metadata": {},
   "source": [
    "$故\\mathbf{\\beta}^T(t)\\mathbf{\\phi}(t)=\\mathbf{C}$"
   ]
  },
  {
   "cell_type": "markdown",
   "metadata": {},
   "source": [
    "由于$\\mathbf{\\phi}(t)和\\mathbf{\\beta}(t)分别是基解矩阵，从而det(\\mathbf{\\phi}(t))\\neq 0,det(\\mathbf{\\beta}(t))\\neq 0,这样det(\\mathbf{C})\\neq 0,即\\mathbf{C}是非奇异的.$"
   ]
  },
  {
   "cell_type": "markdown",
   "metadata": {},
   "source": [
    "充分性：若存在非奇异常数矩阵$\\mathbf{C},det(\\mathbf{C})\\neq 0,使\\mathbf{\\beta}^T(t)\\mathbf{\\phi}(t)=\\mathbf{C}，\n",
    "由于\\mathbf{\\phi}(t)是方程\\mathbf{x}'=\\mathbf{A}(t)\\mathbf{x}的基解矩阵，$"
   ]
  },
  {
   "cell_type": "markdown",
   "metadata": {},
   "source": [
    "故$\\mathbf{\\phi}^{-1}(t)存在，所以\\mathbf{\\beta}^T(t)=\\mathbf{C}\\mathbf{\\phi}(t),并且\n",
    "\\det(\\mathbf{\\beta}^T(t))=det(\\mathbf{C}\\mathbf{\\phi}(t))\\neq 0,即\\mathbf{\\beta}(t)为方程\\mathbf{y}'=-\\mathbf{A}^T(t)\\mathbf{y}的基解矩阵.$\n"
   ]
  },
  {
   "cell_type": "markdown",
   "metadata": {
    "collapsed": true
   },
   "source": [
    "# <font color='red'>A  3/12"
   ]
  },
  {
   "cell_type": "code",
   "execution_count": null,
   "metadata": {
    "collapsed": true
   },
   "outputs": [],
   "source": []
  }
 ],
 "metadata": {
  "celltoolbar": "Raw Cell Format",
  "kernelspec": {
   "display_name": "Python 2",
   "language": "python",
   "name": "python2"
  },
  "language_info": {
   "codemirror_mode": {
    "name": "ipython",
    "version": 2
   },
   "file_extension": ".py",
   "mimetype": "text/x-python",
   "name": "python",
   "nbconvert_exporter": "python",
   "pygments_lexer": "ipython2",
   "version": "2.7.10"
  }
 },
 "nbformat": 4,
 "nbformat_minor": 0
}
