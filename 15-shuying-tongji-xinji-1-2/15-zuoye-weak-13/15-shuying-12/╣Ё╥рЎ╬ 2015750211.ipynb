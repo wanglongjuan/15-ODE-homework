{
 "cells": [
  {
   "cell_type": "markdown",
   "metadata": {},
   "source": [
    "# 第十三周  常微分方程    2015750211"
   ]
  },
  {
   "cell_type": "markdown",
   "metadata": {},
   "source": [
    "## P.216  \n"
   ]
  },
  {
   "cell_type": "markdown",
   "metadata": {},
   "source": [
    "### 2.考虑方程组$$\\mathbf x'=\\mathbf A(t)\\mathbf x,$$其中$\\mathbf A(t)$是区间$a\\leq t\\leq b$上的连续$n\\times n$矩阵,它的元为$a_{ij}(t)(i,j=1,2,\\cdots,n).$\n",
    "### (1)如果$\\mathbf x_1(t),\\mathbf x_2(t),\\cdots,\\mathbf x_n(t)$是方程任意$n$个解,那么它们的朗斯基行列式$W[x_1(t),x_2(t),\\cdots,x_n(t)]\\equiv W(t)$满足下面的一阶线性微分方程$$W'=[a_{11}(t)+a_{22}(t)+\\cdots+a_{nn}(t)]W;$$\n",
    "### (2)解上面的一阶线性微分方程,证明下列公式:$$W(t)=W(t_0)e^{\\int^t_{t_0}[a_{11}(t)+a_{22}(t)+\\cdots+a_{nn}(t)]\\mathrm d s},t_0,t\\in [a,b]$$\n",
    "**(桂亦鑫2015750211)**"
   ]
  },
  {
   "cell_type": "markdown",
   "metadata": {},
   "source": [
    "### (1)解:设$\\mathbf x_k=\\begin{pmatrix}x_{1k}\\\\x_{2k}\\\\ \\vdots\\\\x_{nk}\\end{pmatrix},$则有$$W(t)=\\begin{vmatrix}x_{11}&x_{12}&\\cdots&x_{1n}\\\\x_{21}&x_{22}&\\cdots&x_{2n}\\\\ \\vdots&\\vdots&&\\vdots\\\\x_{n1}&x_{n2}&\\cdots&x_{nn}\\end{vmatrix}$$ \n",
    "### 由数学分析的知识可知$$W'(t)=\\mathop {\\Sigma}^n_{k=1}\\begin{vmatrix}x_{11}&x_{12}&\\cdots&x_{1n}\\\\\\vdots&\\vdots&&\\vdots\\\\x'_{k1}&x'_{k2}&\\cdots&x'_{kn}\\\\ \\vdots&\\vdots&&\\vdots\\\\x_{n1}&x_{n2}&\\cdots&x_{nn}\\end{vmatrix}$$\n",
    "### 所以可得$$W'(t)=\\mathop {\\Sigma}^n_{k=1}\\begin{vmatrix}x_{11}&x_{12}&\\cdots&x_{1n}\\\\\\vdots&\\vdots&&\\vdots\\\\\\mathop {\\Sigma}^n_{l=1}a_{kl}x_{l1}&\\mathop {\\Sigma}^n_{l=1}a_{kl}x_{l2}&\\cdots&\\mathop {\\Sigma}^n_{l=1}a_{kl}x_{ln}\\\\ \\vdots&\\vdots&&\\vdots\\\\x_{n1}&x_{n2}&\\cdots&x_{nn}\\end{vmatrix}=\\mathop {\\Sigma}^n_{k=1}\\begin{vmatrix}x_{11}&x_{12}&\\cdots&x_{1n}\\\\\\vdots&\\vdots&&\\vdots\\\\a_{kk}x_{k1}&a_{kk}x_{k2}&\\cdots&a_{kk}x_{kn}\\\\ \\vdots&\\vdots&&\\vdots\\\\x_{n1}&x_{n2}&\\cdots&x_{nn}\\end{vmatrix}=\\mathop {\\Sigma}^n_{k=1}a_{kk}\\begin{vmatrix}x_{11}&x_{12}&\\cdots&x_{1n}\\\\x_{21}&x_{22}&\\cdots&x_{2n}\\\\ \\vdots&\\vdots&&\\vdots\\\\x_{n1}&x_{n2}&\\cdots&x_{nn}\\end{vmatrix}=\\mathop {\\Sigma}^n_{k=1}a_{kk}W(t)$$故命题得证\n",
    "**(桂亦鑫2015750211)**"
   ]
  },
  {
   "cell_type": "markdown",
   "metadata": {},
   "source": [
    "### (2)解:由(1)知$W'(t)=\\mathop{\\Sigma}^n_{i=1}a_{ii}W(t),$则有$$\\frac{\\mathrm d W}{\\mathrm d t}=\\mathop{\\Sigma}^n_{i=1}a_{ii}W(t)$$亦即$$\\frac{\\mathrm d W}{W}=\\mathop{\\Sigma}^n_{i=1}a_{ii}\\mathrm d t$$得$$W(t)=ce^{\\int^t_{t_0}\\mathop{\\Sigma}^n_{i=1}a_{ii}\\mathrm d s}$$\n",
    "### 当$t=t_0$时,$W(t)=W(t_0)=c,$所以$$W(t)=W(t_0)e^{\\int^t_{t_0}\\mathop{\\Sigma}^n_{i=1}a_{ii}\\mathrm d s}$$在所给区间成立.\n",
    "**(桂亦鑫2015750211)**"
   ]
  },
  {
   "cell_type": "markdown",
   "metadata": {},
   "source": [
    "### 3.设$\\mathbf A(t)$为区间$a\\leq t\\leq b$上的连续$n\\times n$实矩阵,$\\mathbf {\\Phi}(t)$为方程$\\mathbf x'=\\mathbf A(t)\\mathbf x$的基解矩阵,而$\\mathbf x=\\mathbf {\\varphi}(t)$为其一解,试证:\n",
    "### (1)对于方程$\\mathbf y'=-\\mathbf A^T(t)\\mathbf y$的任一解$\\mathbf y=\\mathbf {\\psi}(t)$必有$\\mathbf {\\psi}^T(t)\\mathbf {\\varphi}(t)=$常数\n",
    "### (2)$\\mathbf {\\Psi}$为方程$\\mathbf y'=-\\mathbf A^T(t)\\mathbf y$的基解矩阵的充要条件是存在非奇异的常数矩阵$\\mathbf C$,使$\\mathbf{\\Psi}^T(t)\\mathbf {\\Phi}(t)=\\mathbf C$\n",
    "**(桂亦鑫2015750211)** "
   ]
  },
  {
   "cell_type": "markdown",
   "metadata": {
    "collapsed": true
   },
   "source": [
    "### (1)解:由题设条件可得$-\\mathbf y'^T=\\mathbf y^T\\mathbf A(t),$所以有$$-\\mathbf {\\psi}'^T(t)=\\mathbf {\\psi}^T(t)\\mathbf A(t)$$\n",
    "### 同时我们有$$\\mathbf {\\varphi}'(t)=\\mathbf A(t)\\mathbf {\\varphi}(t)$$对第一式两边右乘$\\mathbf {\\varphi}(t)$,我们可以得到$$-\\mathbf {\\psi}'^T(t)\\mathbf {\\varphi}(t)=\\mathbf {\\psi}^T(t)\\mathbf A(t)\\mathbf {\\varphi}(t)=\\mathbf {\\psi}^T(t)\\mathbf {\\varphi}'(t)$$\n",
    "### 亦即$$\\mathbf {\\psi}^T(t)\\mathbf {\\varphi}'(t)+\\mathbf {\\psi}'^T(t)\\mathbf {\\varphi}(t)=[\\mathbf {\\psi}^T(t)\\mathbf {\\varphi}(t)]'=0$$\n",
    "### 所以有$$\\mathbf {\\psi}^T(t)\\mathbf {\\varphi}(t)=c,c为常数$$\n",
    "**(桂亦鑫2015750211)**"
   ]
  },
  {
   "cell_type": "markdown",
   "metadata": {},
   "source": [
    "### (2)解:必要性:\n",
    "### 由题设条件可得$-\\mathbf y'^T=\\mathbf y^T\\mathbf A(t),$所以有$$-\\mathbf {\\Psi}'^T(t)=\\mathbf {\\Psi}^T(t)\\mathbf A(t)$$\n",
    "### 同时我们有$$\\mathbf {\\Phi}'(t)=\\mathbf A(t)\\mathbf {\\Phi}(t)$$对第一式两边右乘$\\mathbf {\\Phi}(t)$,我们可以得到$$-\\mathbf {\\Psi}'^T(t)\\mathbf {\\Phi}(t)=\\mathbf {\\Psi}^T(t)\\mathbf A(t)\\mathbf {\\Phi}(t)=\\mathbf {\\Psi}^T(t)\\mathbf {\\Phi}'(t)$$\n",
    "### 亦即$$\\mathbf {\\Psi}^T(t)\\mathbf {\\Phi}'(t)+\\mathbf {\\Psi}'^T(t)\\mathbf {\\Phi}(t)=[\\mathbf {\\Psi}^T(t)\\mathbf {\\Phi}(t)]'=\\mathbf 0$$\n",
    "### 所以有$$\\mathbf {\\Psi}^T(t)\\mathbf {\\Phi}(t)=\\mathbf C$$而$\\mathbf {\\Psi}^T(t)和\\mathbf {\\Phi}(t)$皆为基解矩阵,所以其行列式值不为0.则有$$\\det \\mathbf {\\Psi}^T(t)\\det \\mathbf {\\Phi}=\\det \\mathbf C\\neq 0$$所以$\\mathbf C$为非奇异矩阵\n",
    "\n",
    "### 充分性:有题设条件可得$\\mathbf {\\Psi}(t)=[\\mathbf {\\Phi}^{-1}]^T\\mathbf C^T,$易知$\\det \\mathbf {\\Psi}(t)\\neq 0$为非奇异矩阵\n",
    "### 同时$$[\\mathbf {\\Psi}^T(t)\\mathbf {\\Phi}(t)]'=\\mathbf {\\Psi}^T(t)\\mathbf A(t)\\mathbf {\\Phi}(t)+[\\mathbf {\\Psi}^T(t)]'\\mathbf {\\Phi}(t)=\\mathbf 0$$又因为$\\det \\mathbf {\\Phi}\\neq 0$,两边同时右乘$\\mathbf {\\Phi}^{-1}(t)$,则有$$-\\mathbf {\\Psi}'^T(t)=\\mathbf {\\Psi}^T(t)\\mathbf A(t)$$\n",
    "### 所以$\\mathbf {\\Psi}$是题设方程的基解矩阵.\n",
    "**(桂亦鑫2015750211)**"
   ]
  },
  {
   "cell_type": "markdown",
   "metadata": {
    "collapsed": true
   },
   "source": [
    "# <font color='red'>A+  3/12"
   ]
  },
  {
   "cell_type": "code",
   "execution_count": null,
   "metadata": {
    "collapsed": true
   },
   "outputs": [],
   "source": []
  }
 ],
 "metadata": {
  "kernelspec": {
   "display_name": "SageMath 7.3",
   "language": "",
   "name": "sagemath"
  },
  "language_info": {
   "codemirror_mode": {
    "name": "ipython",
    "version": 2
   },
   "file_extension": ".py",
   "mimetype": "text/x-python",
   "name": "python",
   "nbconvert_exporter": "python",
   "pygments_lexer": "ipython2",
   "version": "2.7.10"
  }
 },
 "nbformat": 4,
 "nbformat_minor": 0
}
