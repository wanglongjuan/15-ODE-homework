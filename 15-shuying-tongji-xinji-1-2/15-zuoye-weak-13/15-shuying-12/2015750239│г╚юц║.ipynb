{
 "cells": [
  {
   "cell_type": "markdown",
   "metadata": {},
   "source": [
    "### 2.考虑方程组\n",
    "### $$x'=A(t)x$$\n",
    "### 其中$A(t)$是区间$a\\leq t\\leq b$上的连续$n \\times n$矩阵，它的元为$a_{ij}(t)(i,j=1,2,\\cdots,n)$\n",
    "### (1)如果$x_1(t),x_2(t),\\cdots,x_n(t)$是上述方程的任意$n$个解,那么他们的朗斯基行列式$W[x_1(t),x_2(t),\\cdots,x_n(t)]\\equiv W(t)$满足下面的一阶线性微分方程式\n",
    "### $$W'=[a_{11}(t)+a_{22}(t)+\\cdots+a_{nn}(t)]W$$\n",
    "### (2)解上面的一阶线性微分方程，证明下面的公式\n",
    "### $$W(t)=W(t_0)e^{\\int_{t_0}^{t}\\mathrm {[a_{11}(s)+a_{22}(s)+\\cdots+a_{nn}(s)]}\\,\\mathrm{d}s},t_0,t\\in[a,b]$$"
   ]
  },
  {
   "cell_type": "markdown",
   "metadata": {},
   "source": [
    "**解：**(1)将$x_1(t),x_2(t),\\cdots,x_n(t)$用向量的形式表示，写出其朗斯基行列式为\n",
    "\n",
    "$$W(t)=\\begin{vmatrix}x_{11}(t)&x_{12}(t)&\\cdots&x_{1n}(t)\\\\x_{21}(t)&x_{22}(t)&\\cdots&x_{2n}(t)\\\\\\cdots&\\cdots&\\cdots&\\cdots\\\\x_{n1}(t)&x_{n2}(t)&\\cdots&x_{nn}(t)\\\\\\end{vmatrix}$$\n",
    "\n",
    "对$W(t)$求导得\n",
    "\n",
    "$$\\begin{aligned}\\frac{dW(t)}{dt}&=\\frac{d}{dt}\\begin{vmatrix}x_{11}(t)&x_{12}(t)&\\cdots&x_{1n}(t)\\\\x_{21}(t)&x_{22}(t)&\\cdots&x_{2n}(t)\\\\\\cdots&\\cdots&\\cdots&\\cdots\\\\x_{n1}(t)&x_{n2}(t)&\\cdots&x_{nn}(t)\\\\\\end{vmatrix}\\\\&=\\begin{vmatrix}x'_{11}(t)&x'_{12}(t)&\\cdots&x'_{1n}(t)\\\\x_{21}(t)&x_{22}(t)&\\cdots&x_{2n}(t)\\\\\\cdots&\\cdots&\\cdots&\\cdots\\\\x_{n1}(t)&x_{n2}(t)&\\cdots&x_{nn}(t)\\\\\\end{vmatrix}\\\\&+\\begin{vmatrix}x_{11}(t)&x_{12}(t)&\\cdots&x_{1n}(t)\\\\x'_{21}(t)&x'_{22}(t)&\\cdots&x'_{2n}(t)\\\\\\cdots&\\cdots&\\cdots&\\cdots\\\\x_{n1}(t)&x_{n2}(t)&\\cdots&x_{nn}(t)\\\\\\end{vmatrix}\\\\&+\\cdots+\\begin{vmatrix}x_{11}(t)&x_{12}(t)&\\cdots&x_{1n}(t)\\\\x_{21}(t)&x_{22}(t)&\\cdots&x_{2n}(t)\\\\\\cdots&\\cdots&\\cdots&\\cdots\\\\x'_{n1}(t)&x'_{n2}(t)&\\cdots&x'_{nn}(t)\\\\\\end{vmatrix}\\end{aligned}$$\n",
    "\n",
    "由于$$x'_{11}=a_{11}x_{11}+a_{12}x_{21}+\\cdots+a_{1n}x_{n1}$$\n",
    "    $$x'_{12}=a_{11}x_{12}+a_{12}x_{22}+\\cdots+a_{1n}x_{n2}$$\n",
    "    $$\\cdots$$\n",
    "    $$x'{1n}=a_{11}x_{1n}+a_{12}x_{2n}+\\cdots+a_{1n}x_{nn}$$\n",
    "    \n",
    "所以，又行列式性质有\n",
    "\n",
    "$$\\begin{aligned}\\begin{vmatrix}x'_{11}(t)&x'_{12}(t)&\\cdots&x'_{1n}(t)\\\\x_{21}(t)&x_{22}(t)&\\cdots&x_{2n}(t)\\\\\n",
    "\\cdots&\\cdots&\\cdots&\\cdots\\\\x_{n1}(t)&x_{n2}(t)&\\cdots&x_{nn}(t)\\\\\\end{vmatrix}&=\\begin{vmatrix}a_{11}x_{11}(t)&a_{11}x_{12}(t)&\\cdots&a_{11}x_{1n}(t)\\\\x_{21}(t)&x_{22}(t)&\\cdots&x_{2n}(t)\\\\\\cdots&\\cdots&\\cdots&\\cdots\\\\\n",
    "x_{n1}(t)&x_{n2}(t)&\\cdots&x_{nn}(t)\\\\\\end{vmatrix}\\\\&+\\begin{vmatrix}a_{12}x_{21}(t)&a_{12}x_{22}(t)&\\cdots&a_{12}x_{2n}(t)\\\\x_{21}(t)&x_{22}(t)&\\cdots&x_{2n}(t)\\\\\\cdots&\\cdots&\\cdots&\\cdots\\\\\n",
    "x_{n1}(t)&x_{n2}(t)&\\cdots&x_{nn}(t)\\\\\\end{vmatrix}\\\\&+\\cdots+\\begin{vmatrix}a_{1n}x_{n1}(t)&a_{1n}x_{n2}(t)&\\cdots&a_{1n}x_{nn}(t)\\\\x_{21}(t)&x_{22}(t)&\\cdots&x_{2n}(t)\\\\\\cdots&\\cdots&\\cdots&\\cdots\\\\x_{n1}(t)&x_{n2}(t)&\\cdots&x_{nn}(t)\\\\\\end{vmatrix}\\\\&=a_{11}(t)W(t)\\end{aligned}$$\n",
    "\n",
    "同理解得，有$a_{22}(t)W(t)，a_{33}(t)W(t),\\cdots,a_{nn}(t)W(t)$\n",
    "\n",
    "得到$$\\frac{dW(t)}{dt}W'(t)=[a_{11}(t)+a_{22}(t)+\\cdots+a_{nn}(t)]W(t)$$\n",
    "\n",
    "(2)将上面的一阶微分方程化为\n",
    "\n",
    "$$\\frac{dW}{\\varphi}=[a_{11}(t)+a_{22}(t)+\\cdots+a_{nn}({t})]dt$$\n",
    "\n",
    "积分得到\n",
    "\n",
    "$$\\ln |W(t)|-\\ln |W(t_0)|=\\int_{t_0}^{t}\\mathrm [a_{11}(s)+a_{22}(s)+\\cdots+a_{nn|}(s)]ds$$\n",
    "\n",
    "两边用指数函数得到\n",
    "\n",
    "$$W(t)=W(t_0)e^{\\int_{t_0}^{t}\\mathrm {[a_{11}(s)+a_{22}(s)+\\cdots+a_{nn}(s)]}\\,\\mathrm{d}s}$$\n"
   ]
  },
  {
   "cell_type": "markdown",
   "metadata": {},
   "source": [
    "### 3.设$A(t)$为区间$a\\leq t\\leq b$上的连续$n \\times n$实矩阵，${\\phi(t)}$为方程$x'=A(t)x$的基解矩阵，而$x=\\varphi(t)$为其一解，试证：\n",
    "### (1)对于方程$y'=-A^T(t)y$的任一解$y=\\psi(t)$必有$\\psi^T(t)\\varphi(t)=常数$\n",
    "### (2)$\\psi(t)$为方程$y'=-A^T(t)y$的基解矩阵的充要条件是存在非奇异的常数矩阵C，使得$\\psi^T(t)\\phi(t)=C$"
   ]
  },
  {
   "cell_type": "markdown",
   "metadata": {},
   "source": [
    "**解：**(1)由于$\\varphi(t)$是$x'=A(t)x$的解，则有\n",
    "\n",
    "$$\\varphi'(t)=\\begin{pmatrix}\\varphi'_1(t)\\\\\\varphi'_2(t)\\\\\\cdots\\\\\\varphi'_n(t)\\\\\\end{pmatrix}=\\begin{pmatrix}a_{11}&a_{12}&\\cdots&a_{1n}\\\\a_{21}&a_{22}&\\cdots&a_{2n}\\\\\\cdots&\\cdots&\\cdots&\\cdots\\\\a_{n1}&a_{n2}&\\cdots&a_{nn}\\\\\\end{pmatrix}\\begin{pmatrix}\\varphi_1(t)\\\\\\varphi_2(t)\\\\\\cdots\\\\\\varphi_n(t)\\\\\\end{pmatrix}=\\begin{pmatrix}\\displaystyle\\sum_{k=1}^{n} a_{1k}\\varphi_k\\\\\\displaystyle\\sum_{k=1}^n a_{2k}\\varphi_k\\\\\\cdots\\\\\\displaystyle\\sum_{k=1}^n a_{nk}\\varphi_k\\\\\\end{pmatrix}$$\n",
    "\n",
    "同理，由于$\\psi(t)$是方程$y'=-A^Ty$的解，有\n",
    "\n",
    "$$\\psi'(t)=\\begin{pmatrix}\\psi'_1(t)\\\\\\psi'_2(t)\\\\\\cdots\\\\\\psi'_n(t)\\\\\\end{pmatrix}=-\\begin{pmatrix}a_{11}&a_{21}&\\cdots&a_{n1}\\\\a_{12}&a_{22}&\\cdots&a_{n2}\\\\\\cdots&\\cdots&\\cdots&\\cdots\\\\a_{1n}&a_{2n}&\\cdots&a_{nn}\\\\\\end{pmatrix}\\begin{pmatrix}\\psi_1(t)\\\\\\psi_2(t)\\\\\\cdots\\\\\\psi_n(t)\\\\\\end{pmatrix}=-\\begin{pmatrix}\\displaystyle\\sum_{k=1}^{n} a_{k1}\\psi_k\\\\\\displaystyle\\sum_{k=1}^n a_{k2}\\psi_k\\\\\\cdots\\\\\\displaystyle\\sum_{k=1}^n a_{kn}\\psi_k\\\\\\end{pmatrix}$$\n",
    "\n",
    "对$\\psi^T(t)\\varphi(t)$求导数得到\n",
    "\n",
    "$$\\begin{aligned}\n",
    "\\frac{d(\\psi^T(t)\\varphi(t))}{dt}&=\\frac{d\\psi^T(t)}{dt}\\varphi(t)+\\psi^T(t)\\frac{d\\varphi(t)}{dt}\\\\&\n",
    "=-(\\displaystyle\\sum_{k=1}^n a_{k1}\\psi_k,\\displaystyle\\sum_{k=1}^n a_{k2}\\psi_k,\\cdots,\\displaystyle\\sum_{k=1}^n a_{kn}\\psi_k)\\begin{pmatrix}\\varphi_1(t)\\\\\\varphi_2(t)\\\\\\cdots\\\\\\varphi_n(t)\\\\\\end{pmatrix}\\\\&+(\\psi_1(t),\\psi_2(t),\\cdots,\\psi_n(t))\\begin{pmatrix}\\displaystyle\\sum_{k=1}^{n} a_{1k}\\varphi_k\\\\\\displaystyle\\sum_{k=1}^n a_{2k}\\varphi_k\\\\\\cdots\\\\\\displaystyle\\sum_{k=1}^n a_{nk}\\varphi_k\\\\\\end{pmatrix}\\\\&=-[\\displaystyle\\sum_{k=1}^n a_{k1}\\psi_k\\varphi_1+\\displaystyle\\sum_{k=1}^n a_{k2}\\psi_k\\varphi_2+\\cdots+\\displaystyle\\sum_{k=1}^n a_{kn}\\phi_k\\varphi_n]+[\\displaystyle\\sum_{k=1}^n \\phi_1a_{1k}\\varphi_k+\\displaystyle\\sum_{k=1}^n \\psi_2a_{2k}\\varphi_k+\\cdots+\\displaystyle\\sum_{k=1}^n \\psi_ka_{nk}\\varphi{k}]\\\\&=-\\displaystyle\\sum_{k=1}^n \\displaystyle\\sum_{i=1}^n (a_{ki}\\psi_k\\varphi_i)+\\displaystyle\\sum_{k=1}^n \\displaystyle\\sum_{i=1}^n (\\psi_ia_{ik}\\varphi_k)=0\\end{aligned}$$\n",
    "\n",
    "所以$\\psi^T(t)\\varphi(t)=常数$\n",
    "\n",
    "（2）充分性：存在非奇异矩阵C，使得$\\psi^T(t)\\phi(t)=C$，由于$\\phi(t)$是方程$x'=A(t)x$的基解矩阵，故$\\phi^{-1}(t)$存在，所以$\\psi^T(t)=C·\\phi^{-1}(t)$且$det(\\psi^T(t))=det(C·\\phi^{-1}(t))\\not=0$,因此，$\\psi(t)$是基解矩阵\n",
    "\n",
    "必要性：$\\psi(t)$是基解矩阵，则$\\psi(t)$的每个列向量$\\psi_1(t),\\psi_2(t),\\cdots,\\psi_n(t)$与$\\phi(t)$的每个列向量$\\phi_1(t),\\phi_2(t),\\cdots,\\phi_n(t)$满足$\\psi^T_i(t)\\varphi_j(t)=常数$,则$\\psi^T(t)\\varphi(t)$是常数矩阵，记为$c$，因为$\\phi(t),\\psi(t)$分别是基解矩阵，从而$det(\\phi(t))\\not=0,det(\\psi^T(t))\\not=0$则$detC=det(\\phi(t))·det(\\psi^T(t))\\not=0$矩阵C是非奇异的\n"
   ]
  },
  {
   "cell_type": "markdown",
   "metadata": {
    "collapsed": true
   },
   "source": [
    "# <font color='red'>A  3/12"
   ]
  },
  {
   "cell_type": "code",
   "execution_count": null,
   "metadata": {
    "collapsed": true
   },
   "outputs": [],
   "source": []
  }
 ],
 "metadata": {
  "kernelspec": {
   "display_name": "SageMath 7.3",
   "language": "",
   "name": "sagemath"
  },
  "language_info": {
   "codemirror_mode": {
    "name": "ipython",
    "version": 2
   },
   "file_extension": ".py",
   "mimetype": "text/x-python",
   "name": "python",
   "nbconvert_exporter": "python",
   "pygments_lexer": "ipython2",
   "version": "2.7.10"
  }
 },
 "nbformat": 4,
 "nbformat_minor": 0
}
