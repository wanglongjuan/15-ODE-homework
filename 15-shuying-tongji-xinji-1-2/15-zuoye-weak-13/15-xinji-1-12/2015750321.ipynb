{
 "cells": [
  {
   "cell_type": "markdown",
   "metadata": {
    "collapsed": false
   },
   "source": [
    "**$P_{216}$**"
   ]
  },
  {
   "cell_type": "markdown",
   "metadata": {},
   "source": [
    "2.考虑方程组$x'=A(t)x,$其中A（t）是区间$a\\leq t \\leq b$上的连续n×n 矩阵,它的元为$a_{ij}(t)(i,j=1,2,3,\\cdots,n).$\n",
    "\n",
    "(1)$如果x_1(t),x_2(t),\\cdots,x_n(t)是（*）的任意n个解，那么他们的朗斯基行列式w[x_1(t),x_2(t),\\cdots,x_n(t)] \\equiv w(t)满足下列的一阶线性微分方程w'=[a_{11}(t)+a_{22}(t)+\\cdots +a_{nn}(t)]w.$\n",
    "(2)解上面的一阶线性微分方程，证明下面公式：$$w(t)=w(t_0)e^{\\int_{t_0}^t [a_{11}(s)+a_{22}(s)+\\cdots +a_{nn}(s)]\\,\\mathrm{d}s},t_0,t \\in[a,b]$$"
   ]
  },
  {
   "cell_type": "markdown",
   "metadata": {},
   "source": [
    "解:$$w'(t)=\\begin{vmatrix}x'_{11}&x'_{12}& \\cdots &x'_{1n}\\\\\n",
    "x_{21}&x_{22}&\\cdots&x_{2n}\\\\\n",
    "\\cdots &\\cdots&&\\cdots&\\\\\n",
    "x_{n1}&x_{n2}&\\cdots&x_{nn}\\end{vmatrix}+\\begin{vmatrix}x_{11}&x_{12}& \\cdots &x_{1n}\\\\\n",
    "x'_{21}&x'_{22}&\\cdots&x'_{2n}\\\\\n",
    "\\cdots &\\cdots&&\\cdots&\\\\\n",
    "x_{n1}&x_{n2}&\\cdots&x_{nn}\\end{vmatrix}+\\cdots+\\begin{vmatrix}x_{11}&x_{12}& \\cdots &x_{1n}\\\\\n",
    "x_{21}&x_{22}&\\cdots&x_{2n}\\\\\n",
    "\\cdots &\\cdots&&\\cdots&\\\\\n",
    "x'_{n1}&x'_{n2}&\\cdots&x'_{nn}\\end{vmatrix}$$\n",
    "\n",
    "$$=\\begin{vmatrix}a_{11}x_{11}&a_{11}x_{12}& \\cdots &a_{11}x_{1n}\\\\\n",
    "x'_{21}&x_{22}&\\cdots&x_{2n}\\\\\n",
    "\\cdots &\\cdots&&\\cdots&\\\\\n",
    "x_{n1}&x_{n2}&\\cdots&x_{nn}\\end{vmatrix}+\\cdots+\\begin{vmatrix}x_{11}&x_{12}& \\cdots &x_{1n}\\\\\n",
    "x'_{21}&x_{22}&\\cdots&x_{2n}\\\\\n",
    "\\cdots &\\cdots&&\\cdots&\\\\\n",
    "a_{nn}x_{n1}&a_{nn}x_{n2}&\\cdots&a_{nn}x_{nn}\\end{vmatrix}$$\n",
    "\n",
    "整理后原式变为$$(a_{11}+\\cdots+a_{nn})\\begin{vmatrix}x_{11}&x_{12}& \\cdots &x_{1n}\\\\\n",
    "x'_{21}&x_{22}&\\cdots&x_{2n}\\\\\n",
    "\\cdots &\\cdots&&\\cdots&\\\\\n",
    "x_{n1}&x_{n2}&\\cdots&x_{nn}\\end{vmatrix}=(a_{11}+\\cdots+a_{nn})w(t)$$\n",
    "\n",
    "$$$$\n",
    "$$=(a_{11}(t)+\\cdots+a_{nn}(t))w(t)$$"
   ]
  },
  {
   "cell_type": "markdown",
   "metadata": {
    "collapsed": true
   },
   "source": [
    "（2）由于$w'(t)=[(a_{11}(t)+\\cdots+a_{nn}(t))w(t)],$\n",
    "$即\\frac{dw(t)}{w(t)}=[a_{11}(t)+\\cdots+a_{nn}(t)]dt两边从t_0到t积分$\n",
    "$$lm\\mid w(t)\\mid -ln\\mid w(t_0)\\mid= \\int_0^t[a_{11}(s)+\\cdots+a_{nn}(s)]\\,\\mathrm{d}s,$$\n",
    "$$即w（t）=w(t_0)e^{\\int_0^t[a_{11}(s)+\\cdots+a_{nn}(s)]\\,\\mathrm{d}s},t\\in[a,b]$$"
   ]
  },
  {
   "cell_type": "markdown",
   "metadata": {},
   "source": [
    "3.$设 A(t)为区间a\\leq t\\leq b上的连续n×n实矩阵，\\phi(t)为方程x'=A(t)x的基解矩阵，而x=\\varphi(t)为其一解，试证：$\n",
    "$（1）对于方程y'=-A^T(t)y的任一解y=\\phi(t)必有\\phi^T(t)\\varphi(t)=常数$\n",
    "$(2)\\phi(t)为方程y'=-A^T(t)y的基解矩阵的充分必要条件是存在非奇异的常数矩阵C,使\\phi^T(t）\\Phi(t)=C.$"
   ]
  },
  {
   "cell_type": "markdown",
   "metadata": {},
   "source": [
    "解：（1）$[\\phi^t(t)\\varphi(t)]'=(\\phi^T(t))'\\varphi(t)+\\phi^T(t)\\varphi'(t)=(\\phi^T(t))'\\varphi(t)+\\phi^T(t)A(t)\\varphi(t),$\n",
    "\n",
    "$因为\\phi'(t)=-A^t(t)\\phi(t),所以(\\phi^T(t))'=-\\phi^T(t)A(t)$\n",
    "\n",
    "$从而[\\phi^t(t)\\varphi(t)]'=-\\phi^T(t)A(t)\\varphi(t)+(\\phi^T(t))'\\varphi(t)+\\phi^T(t)A(t)\\varphi(t)=0,$\n",
    "\n",
    "$所以对于方程y'=-A^T(t)y的任一解y=\\phi(t)必有\\phi^T(t)\\varphi(t)=常数；$\n",
    "\n",
    "（2）必要性:\n",
    "$假设\\phi(t)为方程y'=-A^T(t)y的基解矩阵，则$\n",
    "\n",
    "$[\\phi^T(t)\\Phi(t)]'=[\\phi^T(t)]'\\Phi(t)+\\phi^T(t)\\Phi'(t)$\n",
    " \n",
    "$=[-A^T(t)\\phi(t)]^T\\Phi(t)+\\phi^T(t)A(t)\\Phi(t)=-\\phi^T(tA(t)\\Phi(t)+\\phi^T(t)A(t)\\Phi(t)=0,$\n",
    "\n",
    "故$\\phi^T(t)\\Phi(t)=C.$\n",
    "\n",
    "$由于\\phi^T(t),\\Phi(t)分别为基解矩阵，从而det(\\Phi(t))\\neq 0,det(\\phi(t))\\neq 0,这样,det(C)\\neq 0即C是非奇异的.$\\\n",
    "\n",
    "充分性：\n",
    "$若存在非奇异常数矩阵C,detC\\neq 0,使\\phi^T(t)\\Phi(t)=C,由于\\Phi(t)为方程x'=A(t)x的基解矩阵，$\n",
    "$故\\Phi^{-1}(t)存在，所以\\phi^T(t)=C·\\Phi^{-1}(t),并且det(\\phi^T(t))=det(C·\\Phi^{-1}(t))\\neq 0,即\\phi(t)为方程y'(t)=-A^T(t)y的基解矩阵。$"
   ]
  },
  {
   "cell_type": "markdown",
   "metadata": {
    "collapsed": true
   },
   "source": [
    "# <font color='red'>A  3/12"
   ]
  },
  {
   "cell_type": "code",
   "execution_count": null,
   "metadata": {
    "collapsed": true
   },
   "outputs": [],
   "source": []
  }
 ],
 "metadata": {
  "kernelspec": {
   "display_name": "Python 2",
   "language": "python",
   "name": "python2"
  },
  "language_info": {
   "codemirror_mode": {
    "name": "ipython",
    "version": 2
   },
   "file_extension": ".py",
   "mimetype": "text/x-python",
   "name": "python",
   "nbconvert_exporter": "python",
   "pygments_lexer": "ipython2",
   "version": "2.7.10"
  }
 },
 "nbformat": 4,
 "nbformat_minor": 0
}
