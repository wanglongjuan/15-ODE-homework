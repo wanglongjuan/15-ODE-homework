{
 "cells": [
  {
   "cell_type": "markdown",
   "metadata": {
    "collapsed": true
   },
   "source": [
    "$一\\quad考虑方程组x^{\\prime}=A(t)x,其中A(t)是区间a\\leq t\\leq b 上的连续n\\times n矩阵，它的元为a_{ij}(t)(i,j=1,2,\\cdots,n).$\n",
    "\n",
    "$(1)如果x_1(t),x_2(t),\\cdots,x_n(t)是(5.15)的任意n个解，那么它们的朗斯基行列式W[x_1(t),x_2(t),\\cdots,x_n(t)]=W(t)满足下面的一阶线性微分方程\n",
    "W^{\\prime}=[a_{11}(t)+a_{22}(t)+\\cdots+a_{nn}(t)]W;$"
   ]
  },
  {
   "cell_type": "markdown",
   "metadata": {},
   "source": [
    "$解\\quad 用向量的形式表示x_1(t),x_2(t),\\cdots,x_n(t),并写出它们的朗斯基行列式为\n",
    "W(t)=\\begin{vmatrix} x_{11}(t)&x_{12}(t)&\\cdots&x_{1n}(t) \\\\x_{21}(t)&x_{22}(t)&\\cdots&x_{2n}(t)& \\\\ \\cdots&\\cdots&\\cdots&\\cdots& \\\\x_{n1}(t)&\n",
    "x_{n2}(t)&\\cdots&x_{nn}(t) \\\\ \\end{vmatrix}对W(t)求导得$"
   ]
  },
  {
   "cell_type": "markdown",
   "metadata": {},
   "source": [
    "$\\frac{dW(t)}{dt}=\\frac {d}{dt} \\begin{vmatrix} x_{11}(t)&x_{12}(t)&\\cdots&x_{1n}(t) \\\\x_{21}(t)&x_{22}(t)&\\cdots&x_{2n}(t)& \\\\\n",
    "\\cdots&\\cdots&\\cdots&\\cdots& \\\\x_{n1}(t)&x_{n2}(t)&\\cdots&x_{nn}(t) \\\\ \\end{vmatrix}=\\begin{vmatrix} x_{11}^{\\prime}(t)&x_{12}^{\\prime}(t)&\n",
    "\\cdots&x_{1n}^{\\prime}(t) \\\\x_{21}(t)&x_{22}(t)&\\cdots&x_{2n}(t)& \\\\ \\cdots&\\cdots&\\cdots&\\cdots& \\\\x_{n1}(t)&x_{n2}(t)&\\cdots&x_{nn}(t) \\\\ \n",
    "\\end{vmatrix}+\\begin{vmatrix} x_{11}(t)&x_{12}(t)&\\cdots&x_{1n}(t) \\\\x_{21}^{\\prime}(t)&x_{22}^{\\prime}(t)&\\cdots&x_{2n}^{\\prime}(t)& \n",
    "\\\\ \\cdots&\\cdots&\\cdots&\\cdots& \\\\x_{n1}(t)&x_{n2}(t)&\\cdots&x_{nn}(t) \\\\ \\end{vmatrix}$+... +\\begin{vmatrix} x_{11}(t)&x_{12}(t)&\\cdots&x_{1n}(t) \n",
    "\\\\x_{21}(t)&x_{22}(t)&\\cdots&x_{2n}(t)& \\\\ \\cdots&\\cdots&\\cdots&\\cdots& \\\\x_{n1}^{\\prime}(t)&x_{n2}^{\\prime}(t)&\\cdots&x_{nn}^{\\prime}(t)\n",
    "\\\\ \\end{vmatrix}.\n"
   ]
  },
  {
   "cell_type": "markdown",
   "metadata": {},
   "source": [
    "$由于x_{11}^{\\prime}=a_{11}x_{11}+a_{12}x_{21}+ \\cdots+a_{1n}x_{n1},$\n",
    "$x_{12}^{\\prime}=a_{11}x_{12}+a_{12}x_{22}+ \\cdots+a_{1n}x_{n2},$\n",
    "$\\cdots \\cdots$\n",
    "$x_{1n}^{\\prime}=a_{11}x_{1n}+a_{12}x_{2n}+ \\cdots+a_{1n}x_{nn}\n",
    "所以，由行列式的性质有$"
   ]
  },
  {
   "cell_type": "markdown",
   "metadata": {},
   "source": [
    "$\\begin{vmatrix} x_{11}^{\\prime}(t)&x_{12}^{\\prime}(t)&\n",
    "\\cdots&x_{1n}^{\\prime}(t) \\\\x_{21}(t)&x_{22}(t)&\\cdots&x_{2n}(t)& \\\\ \\cdots&\\cdots&\\cdots&\\cdots& \\\\x_{n1}(t)&x_{n2}(t)&\\cdots&x_{nn}(t) \\\\ \n",
    "\\end{vmatrix}=a_{11}W(t).$"
   ]
  },
  {
   "cell_type": "markdown",
   "metadata": {},
   "source": [
    "$同理，前式中右端第2个行列式等于a_{22}(t)W(t),第3个行列式等于a_{33}(t)W(t),\\cdots,第n个行列式等于a_{nn}(t)W(t),因此，得到$\n",
    "$$\\frac{dW(t)}{dt}=W^{\\prime}(t)=[a_{11}(t)+a_{22}(t)+\\cdots+a_{nn}(t)]W(t).$$"
   ]
  },
  {
   "cell_type": "markdown",
   "metadata": {},
   "source": [
    "$(2)\\quad解上面的一阶线性微分方程，证明下面的公式：$"
   ]
  },
  {
   "cell_type": "markdown",
   "metadata": {},
   "source": [
    "$\\quad W(t)=W(t_{o})e^{\\int_{t_{o}}^{t}[a_{11}(s)+a_{22}(s)+\\cdots+a_{nn}(s)]ds},t_{o},t\\in[a,b].$"
   ]
  },
  {
   "cell_type": "markdown",
   "metadata": {},
   "source": [
    "$对上面的一阶线性微分方程变形为\\frac{dW}{w}=[a_{11}(t)+a_{22}(t)+\\cdots+a_{nn}(t)]dt,对上式从t_{o}到t积分得到$\n",
    "$\\ln|W(t)|-\\ln|W(t_{o})|=\\int_{t_{o}}^{t}[a_{11}(s)+a_{22}(s)+\\cdots+a_{nn}(s)]ds,$\n",
    "两边再作用指数函数，得到\n",
    "$W(t)=W(t_{o})e^{\\int_{0}^t[a_{11}(s)+a_{22}(s)+\\cdots+a_{nn}(s)]ds}.$"
   ]
  },
  {
   "cell_type": "markdown",
   "metadata": {},
   "source": [
    "$二\\quad 设A(t)为区间a\\leq t\\leq b上的连续n\\times n实矩阵，\\Phi(t)为方程x^{\\prime}=A(t)x的基解矩阵，而x=\\varphi(t)为其一解。试证：$\n",
    "\n",
    "$(1)\\quad 对于方程y^{\\prime}=-A^{T}(t)y的任一解y=\\Psi(t)必有\\Psi^{T}(t)\\varphi(t)=常数；$"
   ]
  },
  {
   "cell_type": "markdown",
   "metadata": {
    "collapsed": true
   },
   "source": [
    "$证明\\quad 由于\\varphi(t)是x^{\\prime}=A(t)x的解，于是$\n",
    "$\\varphi^{\\prime}(t)=\\begin{bmatrix} \\varphi_{1}^{\\prime}(t)\\\\ \\varphi_{2}^{\\prime}(t) \\\\ \\cdots \\\\ \\varphi_{n}^{\\prime}(t)\\\\ \\end{bmatrix}\n",
    "=\\begin{bmatrix} a_{11}&a_{12}&\\cdots&a_{1n} \\\\a_{21}&a_{22}&\\cdots&a_{2n}\\\\ \\cdots&\\cdots&\\cdots&\\cdots \\\\a_{n1}&a_{n2}&\\cdots&a_{nn} \\\\ \n",
    "\\end{bmatrix}\\begin{bmatrix} \\varphi_{1}(t)\\\\ \\varphi_{2}(t) \\\\ \\cdots \\\\ \\varphi_{n}(t)\\\\ \\end{bmatrix}\n",
    "=\\begin{bmatrix} \\sum_{k=1}^n a_{1k}\\varphi_{k} \\\\ \\sum_{k=1}^{n}a_{2k}\\varphi_{k}\\\\ \\cdots \\\\ \\sum_{k=1}^{n}a_{nk}\\varphi_{k}\\\\ \\end{bmatrix}$"
   ]
  },
  {
   "cell_type": "markdown",
   "metadata": {
    "collapsed": true
   },
   "source": [
    "$同理，由于\\Psi(t)是方程y^{\\prime}=-A^{T}y的解，于是\n",
    "\\Psi^{\\prime}(t)=\\begin{bmatrix} \\psi_{1}^{\\prime}(t)\\\\ \\psi_{2}^{\\prime}(t) \\\\ \\cdots \\\\ \\psi_{n}^{\\prime}(t)\\\\ \\end{bmatrix}\n",
    "=-\\begin{bmatrix} a_{11}&a_{12}&\\cdots&a_{1n} \\\\a_{21}&a_{22}&\\cdots&a_{2n}\\\\ \\cdots&\\cdots&\\cdots&\\cdots \\\\a_{n1}&a_{n2}&\\cdots&a_{nn} \\\\ \n",
    "\\end{bmatrix}\\begin{bmatrix} \\psi_{1}(t)\\\\ \\psi_{2}(t) \\\\ \\cdots \\\\ \\psi_{n}(t)\\\\ \\end{bmatrix}\n",
    "=\\begin{bmatrix} \\sum_{k=1}^n a_{1k}\\psi_{k} \\\\ \\sum_{k=1}^{n}a_{2k}\\psi_{k}\\\\ \\cdots \\\\ \\sum_{k=1}^{n}a_{nk}\\psi_{k}\\\\ \\end{bmatrix},$\n",
    "$而对\\Psi^{T}(t)\\varphi(t)求导函数得$\n",
    "\n",
    "$\\frac{d(\\Psi^{T}(t)\\varphi(t))}{dt}=\\frac{d\\Psi^{T}(t)}{dt}\\varphi(t)+\\Psi^{T}(t)*\\frac{d\\varphi(t)}{dt}$"
   ]
  },
  {
   "cell_type": "markdown",
   "metadata": {},
   "source": [
    "$\\quad \\quad \\quad\\quad=-\\sum_{k=1}^{n}\\sum_{i=1}^{n}(a_{ki}\\varphi_{k}\\varphi_{i})+\\sum_{i-1}^{n}\\sum_{k=1}^{n}(a_{ik}\\varphi_{i}\\varphi_{k})=0$"
   ]
  },
  {
   "cell_type": "markdown",
   "metadata": {},
   "source": [
    "$所以\\Psi^{T}(t)\\varphi(t)=常数$"
   ]
  },
  {
   "cell_type": "markdown",
   "metadata": {},
   "source": [
    "$(2)\\quad \\Psi(t)为方程y^{\\prime}=-A^{T}(t)y的基解矩阵的充要条件是存在非奇异的常数矩阵C，使\\Psi^{T}\\Phi(t)=C.$"
   ]
  },
  {
   "cell_type": "markdown",
   "metadata": {},
   "source": [
    "$解\\quad 充分性$\n",
    "\n",
    "$\\quad存在非奇异矩阵C，使得\\Psi^{T}\\Phi(t)=C，由于\\Phi(t)是方程x^[\\prime]=A(t)x的基解矩阵，故\\Phi^{-1}(t)存在，所以\\Psi^{T}(t)\n",
    "=C*\\Phi^{-1}(t),并且$\n",
    "$det(\\Phi^{-1}(t))=det(C*\\Phi^{-1}(t))\\neq 0.因此，\\Psi(t)是基解矩阵。$\n",
    "\n",
    "$必要性$\n",
    "\n",
    "$\\quad \\Psi(t)是基解矩阵，则\\Psi(t)的每一个列向量\\Psi_{1}(t),\\Psi_{2}(t),\\cdots,\\Psi_{n}(t)与\\Phi(t)的每一个列向量\\varphi_{1}(t),\n",
    "\\varphi_{2}(t),\\cdots,\\varphi_{n}(t)满足\\psi_{i}^{T}(t)\\varphi_{j}(t)=常数，$\n",
    "$i=1,2,...n,j=1,2,...n.这就是说\\Psi^{T}\\Phi(t)是常数矩阵，记为c,另外由于\\Phi(t),\\Psi(t)分别是基解矩阵，从而det(\\Phi^{-1}(t))\\neq 0,det(\\Phi(t))\\neq 0,$\n",
    "$这样detC=det(\\Phi(t))*det(\\Psi^{T}(t))\\neq 0,也就是C是非奇异的.$                                                                                                     "
   ]
  },
  {
   "cell_type": "markdown",
   "metadata": {
    "collapsed": true
   },
   "source": [
    "# <font color='red'>A  3/12"
   ]
  },
  {
   "cell_type": "code",
   "execution_count": null,
   "metadata": {
    "collapsed": true
   },
   "outputs": [],
   "source": []
  }
 ],
 "metadata": {
  "kernelspec": {
   "display_name": "SageMath 7.3",
   "language": "",
   "name": "sagemath"
  },
  "language_info": {
   "codemirror_mode": {
    "name": "ipython",
    "version": 2
   },
   "file_extension": ".py",
   "mimetype": "text/x-python",
   "name": "python",
   "nbconvert_exporter": "python",
   "pygments_lexer": "ipython2",
   "version": "2.7.10"
  }
 },
 "nbformat": 4,
 "nbformat_minor": 0
}
