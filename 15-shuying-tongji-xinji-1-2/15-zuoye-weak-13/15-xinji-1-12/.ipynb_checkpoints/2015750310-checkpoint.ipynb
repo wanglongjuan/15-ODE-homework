{
 "cells": [
  {
   "cell_type": "markdown",
   "metadata": {},
   "source": [
    "1.\n",
    "(1)由$ x^{\\prime} = A(t)x $ 可知\n",
    "$$\n",
    "    W^{\\prime}(t)=\\begin{vmatrix}x_{11}^{\\prime}&x_{12}^{\\prime}&\\cdots&x_{1n}^{\\prime}\\\\x_{21}& x_{22}& \\cdots&x_{2n}\\\\ \\vdots& \\vdots& \\ddots & \\cdots \\\\ x_{n1} & x_{n2} & \\cdots & x_{nn} \\end{vmatrix} + \\begin{vmatrix}x_{11}&x_{12}&\\cdots&x_{1n}\\\\x_{21}^{\\prime}& x_{22}^{\\prime}& \\cdots&x_{2n}^{\\prime}\\\\ \\vdots& \\vdots& \\ddots & \\cdots \\\\ x_{n1} & x_{n2} & \\cdots & x_{nn} \\end{vmatrix} + \\cdots + \\begin{vmatrix}x_{11}&x_{12}&\\cdots&x_{1n}\\\\x_{21}& x_{22}& \\cdots&x_{2}\\\\ \\vdots& \\vdots& \\ddots & \\cdots \\\\ x_{n1}^{\\prime} & x_{n2}^{\\prime} & \\cdots & x_{nn}^{\\prime} \\end{vmatrix} = \\begin{vmatrix} a_{11}x_{11} + a_{12}x_{21} + \\cdots +a_{1n}x_{n1} & a_{11}x_{12} + a_{12}x_{22} + \\cdots +a_{1n}x_{n2} & \\cdots & a_{11}x_{1n} + a_{12}x_{2n} + \\cdots +a_{1n}x_{nn} \\\\ x_{21} & x_{22} & \\cdots & x_{2n} \\\\ \\vdots & \\vdots & \\ddots & \\vdots \\\\ x_{n1} & x_{n2} & \\cdots & x_{nn} \\end{vmatrix} + \\cdots + \\begin{vmatrix} x_{11} & x_{12} & \\cdots & x_{1n} \\\\ x_{21} & x_{22} & \\cdots & x_{2n} \\\\ \\vdots & \\vdots & \\ddots & \\vdots \\\\ a_{n1}x_{11} + a_{n2}x_{21} + \\cdots +a_{nn}x_{n1} & a_{n1}x_{12} + a_{n2}x_{22} + \\cdots +a_{nn}x_{n2} & \\cdots & a_{n1}x_{1n} + a_{n2}x_{nn} + \\cdots +a_{nn}x_{nn} \\end{vmatrix} =           \\begin{vmatrix} a_{11}x_{11} & a_{11}x_{12} & \\cdots  & a_{11}x_{1n} \\\\ x_{21} & x_{22} & \\cdots & x_{2n} \\\\ \\vdots & \\vdots & \\ddots & \\vdots \\\\ x_{n1} & x_{n2} & \\cdots & x_{nn} \\end{vmatrix} + \\cdots + \\begin{vmatrix}x_{11} & x_{12} & \\cdots & x_{1n} \\\\ x_{21} & x_{22} & \\cdots & x_{2n}  \\\\a_{nn}x_{n1} & a_{nn}x_{n2} & \\cdots & a_{nn}x_{nn} \\end{vmatrix} \n",
    "$$ ， 整理后得到 \n",
    "$$\n",
    "(a_{11}+a_{22} + \\cdots + a_{nn}) \\begin{vmatrix} x_{11} & x_{12} & \\cdots & x_{1n} \\\\ x_{21} & x_{22} & \\cdots & x_{2n} \\\\ \\vdots & \\vdots & \\ddots & \\vdots \\\\ x_{n1} & x_{n2} & \\cdots & x_{nn} \\end{vmatrix} = (a_{11} + a_{22} + \\cdots + a_{nn})W(t) = [a_{11}(t) + a_{22}(t) + \\cdots + a_{nn}(t)]W(t)\n",
    "$$"
   ]
  },
  {
   "cell_type": "markdown",
   "metadata": {},
   "source": [
    "$由于W'(t)=(a_{11}(t)+...+a_{nn}(t))W(t),\\frac{dW(t)}{W(t)}=(a_{11}(t)+...+a_{nn}(t))dt$\n",
    "$W(t)=W(t_0)e^{\\int_{t_0}^t{a_{11}(s)+...+a_{nn}(s) d s}}$\n",
    "$2.(1)$\n",
    "$[\\psi^T(t)\\phi(t)]'=(\\psi^T(t))'\\phi+\\psi^T(t)A(t)\\phi(t),因为\\psi'(t)=-A^T(t)\\psi(t),所以(\\psi^T(t))'=-\\psi^T(t)A(t)$\n",
    "$[\\psi^T(t)\\phi(t)]'=-\\psi^T(t)A(t)\\phi(t)+\\psi^T(t)A(t)\\phi(t)=0,所以方程任意解必有\\psi^T(t)\\phi(t)=常数$\n",
    "$设\\psi(t)为方程y'=-A^T(t)y的基解矩阵$\n",
    "$[\\psi^T(t)\\phi(t)]'=[\\psi^T(t)]'\\phi+\\psi^T(t)\\phi'(t)=-\\psi^T(t)A(t)\\phi(t)+\\psi^T(t)A(t)\\phi(t)=0,所以\\psi^T(t)\\phi(t)=C$\n",
    "$所以C是非奇异的$\n",
    "$若存在非奇异矩阵C，detC\\neq0,使\\psi^T(t)\\phi(t)=C,由于\\phi(t)为方程x'=A(t)x的基解矩阵，所以\\phi^{-1}(t)存在，所以\\psi^T(t)=C\\phi^{-1}$(t)$且det(\\psi^T(t))=det(C\\phi^{-1}(t))\\neq0,\\psi(t)为方程y'=-A^T(t)y的基解矩阵$"
   ]
  },
  {
   "cell_type": "markdown",
   "metadata": {
    "collapsed": true
   },
   "source": [
    "# <font color='red'>A  3/12"
   ]
  },
  {
   "cell_type": "code",
   "execution_count": null,
   "metadata": {
    "collapsed": true
   },
   "outputs": [],
   "source": []
  }
 ],
 "metadata": {
  "kernelspec": {
   "display_name": "SageMath 7.3",
   "language": "",
   "name": "sagemath"
  },
  "language_info": {
   "codemirror_mode": {
    "name": "ipython",
    "version": 2
   },
   "file_extension": ".py",
   "mimetype": "text/x-python",
   "name": "python",
   "nbconvert_exporter": "python",
   "pygments_lexer": "ipython2",
   "version": "2.7.10"
  }
 },
 "nbformat": 4,
 "nbformat_minor": 0
}
