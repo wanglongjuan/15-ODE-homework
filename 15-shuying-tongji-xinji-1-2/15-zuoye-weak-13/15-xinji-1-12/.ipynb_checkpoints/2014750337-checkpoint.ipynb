{
 "cells": [
  {
   "cell_type": "markdown",
   "metadata": {
    "collapsed": false
   },
   "source": [
    "# 作业11  \n",
    "**P216**  \n",
    "**2.考虑方程组$$x'=A(t)x,$$其中$A(t)$是区间$a\\leq t\\leq b$上的连续$n\\times n$矩阵,它的元为$a_{ij}(i,j=1,2,\\cdots,n).$**"
   ]
  },
  {
   "cell_type": "markdown",
   "metadata": {},
   "source": [
    "**(1)如果$x_1(t),x_2(t),\\cdots,x_n(t)$是$x'=A(t)x$的任意n个解,那么它们的朗斯基行列式$W[x_1(t),x_2(t),\\cdots,x_n(t)]\\equiv W(t)$满足下面的一阶线性微分方程$$W'=[a_{11}(t)+a_{22}(t)+\\cdots+a_{nn}(t)]W;$$**"
   ]
  },
  {
   "cell_type": "markdown",
   "metadata": {},
   "source": [
    "**解：**\n",
    "\\begin{align}\n",
    "W'(t)&=\\begin{vmatrix}\n",
    "x'_{11}&x'_{12}&\\cdots&x'_{1n}\\\\\n",
    "x_{21}&x_{22}&\\cdots&x_{2n}\\\\\n",
    "\\vdots&\\vdots&&\\vdots\\\\\n",
    "x_{n1}&x_{n2}&\\cdots&x_{nn}\n",
    "\\end{vmatrix}+\\begin{vmatrix}\n",
    "x_{11}&x_{12}&\\cdots&x_{1n}\\\\\n",
    "x'_{21}&x_{22}&\\cdots&x'_{2n}\\\\\n",
    "\\vdots&\\vdots&&\\vdots\\\\\n",
    "x_{n1}&x'_{n2}&\\cdots&x_{nn}\n",
    "\\end{vmatrix}+\\cdots+\\begin{vmatrix}\n",
    "x_{11}&x_{12}&\\cdots&x_{1n}\\\\\n",
    "x_{21}&x_{22}&\\cdots&x_{2n}\\\\\n",
    "\\vdots&\\vdots&&\\vdots\\\\\n",
    "x'_{n1}&x'_{n2}&\\cdots&x'_{nn}\n",
    "\\end{vmatrix}\\\\\n",
    "&=\\begin{vmatrix}\n",
    "a_{11}x_{11}+a_{12}x_{21}+\\cdots+a_{1n}x_{n1}&a_{11}x_{12}+a_{12}x_{22}+\\cdots+a_{1n}x_{n2}\n",
    "&\\cdots&a_{11}x_{1n}+a_{12}x_{2n}+\\cdots+a_{1n}x_{nn}\\\\\n",
    "x_{21}&x_{22}&\\cdots&x_{2n}\\\\\n",
    "\\vdots&\\vdots&&\\vdots\\\\\n",
    "x_{n1}&x_{n2}&\\cdots&x_{nn}\n",
    "\\end{vmatrix}\\\\\n",
    "&+\\cdots+\\begin{vmatrix}\n",
    "x_{11}&x_{12}&\\cdots&x_{nn}\\\\\n",
    "x_{21}&x_{22}&\\cdots&x_{2n}\\\\\n",
    "\\vdots&\\vdots&&\\vdots\\\\\n",
    "a_{n1}x_{11}+a_{n2}x_{21}+\\cdots+a_{nn}x_{n1}&a_{n1}x_{12}+a_{n2}x_{22}+\\cdots+a_{nn}x_{n2}\n",
    "&\\cdots&a_{n1}x_{1n}+a_{n2}x_{2n}+\\cdots+a_{nn}x_{nn}\n",
    "\\end{vmatrix}\\\\\n",
    "&=\\begin{vmatrix}\n",
    "a_{11}x_{11}&a_{11}x_{12}&\\cdots&a_{11}x_{nn}\\\\\n",
    "x_{21}&x_{22}&\\cdots&x_{2n}\\\\\n",
    "\\vdots&\\vdots&&\\vdots\\\\\n",
    "x_{n1}&x_{n2}&\\cdots&x_{nn}\n",
    "\\end{vmatrix}+\\cdots+\\begin{vmatrix}\n",
    "x_{11}&x_{12}&\\cdots&x_{nn}\\\\\n",
    "x_{21}&x_{22}&\\cdots&x_{2n}\\\\\n",
    "\\vdots&\\vdots&&\\vdots\\\\\n",
    "a_{nn}x_{n1}&a_{nn}x_{n2}&\\cdots&a_{nn}x_{nn}\n",
    "\\end{vmatrix}\n",
    "\\end{align}\n",
    "整理后原式变为\n",
    "\\begin{align}\n",
    "W'(t)=(a_{11}+\\cdots+a_{nn})\\begin{vmatrix}\n",
    "x_{11}&x_{12}&\\cdots&x_{nn}\\\\\n",
    "x_{21}&x_{22}&\\cdots&x_{2n}\\\\\n",
    "\\vdots&\\vdots&&\\vdots\\\\\n",
    "x_{n1}&x_{n2}&\\cdots&x_{nn}\n",
    "\\end{vmatrix}&=(a_{11}+\\cdots+a_{nn})W(t)\\\\\n",
    "&=(a_{11}(t)+\\cdots+a_{nn}(t))W(t)\n",
    "\\end{align}"
   ]
  },
  {
   "cell_type": "markdown",
   "metadata": {},
   "source": [
    "**(2)解上面的一阶线性微分方程,证明下面的公式：$$W(t)=W(t_0)e^{\\int_{t_0}^t{[a_{11}(s)+\\cdots+a_{nn}(s)]}\\,\\mathrm d s},t_0,t\\in[a,b]$$**"
   ]
  },
  {
   "cell_type": "markdown",
   "metadata": {},
   "source": [
    "**解：**由于$W'(t)=[a_{11}(t)+\\cdots+a_{nn}(t)]W(t)$,即$\\frac{\\mathrm d w(t)}{w(t)}=[a_{11}(t)+\\cdots+a_{nn}(t)]\\mathrm d t$  \n",
    "两边从$t_0$到$t$积分,得$$ln|W(t)|-ln|W(t_0)|=\\int_{t_0}^t{[a_{11}(s)+\\cdots+a_{nn}(s)]}\\,\\mathrm d s,$$即$$W(t)=W(t_0)e^{\\int_{t_0}^t{[a_{11}(s)+\\cdots+a_{nn}(s)]}\\,\\mathrm d s},t_0,t\\in[a,b]$$"
   ]
  },
  {
   "cell_type": "markdown",
   "metadata": {},
   "source": [
    "**3.设$A(t)$为区间$a\\leq t\\leq b$上的连续$n\\times n$实矩阵,$\\phi(t)$为方程$x'=A(t)x$的基解矩阵,而$x=\\varphi(t)$为其一解.试证：**"
   ]
  },
  {
   "cell_type": "markdown",
   "metadata": {},
   "source": [
    "**(1)对于方程$y'=-A^T(t)y$的任意解$y=\\psi(t)$必有$\\psi^T(t)\\varphi(t)=$常数；**"
   ]
  },
  {
   "cell_type": "markdown",
   "metadata": {},
   "source": [
    "**解：**$[\\psi^T(t)\\varphi(t)]'=\\psi^{T'}\\varphi(t)+\\psi^T\\varphi'(t)=\\psi'^T\\varphi(t)+\\psi^T(t)A(t)\\varphi$  \n",
    "又因为$\\psi'=-A^T(t)\\psi(t)$,所以$\\psi'^t=-\\psi^T(t)A(t)$  \n",
    "$[\\psi^T(t)\\varphi(t)]'=-\\psi^T(t)\\varphi(t)A(t)+\\psi^T(t)A(t)\\varphi(t)=0$  \n",
    "所以对于方程$y'=-A^T(t)y$的任意解$y=\\psi(t)$必有$\\psi^T(t)\\varphi(t)=$常数"
   ]
  },
  {
   "cell_type": "markdown",
   "metadata": {},
   "source": [
    "**(2)$\\psi(t)$为方程$y'=-A^T(t)y$的基解矩阵的充要条件是存在非奇异的常数矩阵$C$,使$\\psi^T(t)\\phi(t)=C$**"
   ]
  },
  {
   "cell_type": "markdown",
   "metadata": {},
   "source": [
    "**解：**充分性：假设$\\psi(t)$为方程$y'=-A^T(t)y$的基解矩阵，则\n",
    "\\begin{align}\n",
    "[\\psi^T(t)\\varphi(t)]'&=[\\psi^T(t)]'\\phi (t)+\\psi^T(t)\\phi'(t)\\\\\n",
    "&=[-A^T(t)\\psi(t)]\\phi(t)+\\psi^T(t)A^T(t)\\phi(t)+\\psi^T(t)[A(t)\\varphi(t)]\\\\\n",
    "&=-\\psi^T(t)A^T(t)\\phi(t)+\\psi^T(t)A^T(t)\\phi(t)\\\\\n",
    "&=0\n",
    "\\end{align}\n",
    "所以$\\psi^T(t)\\varphi(t)=C$  \n",
    "必要性：若存在非奇异常数矩阵$C$，$det$ $C\\neq0$,使$\\psi^T(t)\\varphi(t)=C$  \n",
    "则$[\\psi^T(t)\\varphi(t)]'$=$[\\psi^T(t)]'\\phi (t)+\\psi^T(t)\\phi'(t)=0$  \n",
    "所以\n",
    "\\begin{align}\n",
    "[\\psi^T(t)]'\\phi (t)&=-\\psi^T(t)\\phi'(t)A(t)\\\\\n",
    "[\\psi^T(t)]'&=-\\psi^T(t)A(t)\n",
    "\\end{align}\n",
    "所以$\\psi'(t)=-\\psi^T(t)A(t),\\psi'(t)=--\\psi^T(t)A^T(t)$  \n",
    "即$\\psi(t)$为方程$y'=-A^T(t)y$的基解矩阵"
   ]
  },
  {
   "cell_type": "markdown",
   "metadata": {},
   "source": [
    "# <font color='red'>A  3/12\n"
   ]
  },
  {
   "cell_type": "code",
   "execution_count": null,
   "metadata": {
    "collapsed": true
   },
   "outputs": [],
   "source": []
  }
 ],
 "metadata": {
  "kernelspec": {
   "display_name": "Python 2",
   "language": "python",
   "name": "python2"
  },
  "language_info": {
   "codemirror_mode": {
    "name": "ipython",
    "version": 2
   },
   "file_extension": ".py",
   "mimetype": "text/x-python",
   "name": "python",
   "nbconvert_exporter": "python",
   "pygments_lexer": "ipython2",
   "version": "2.7.10"
  }
 },
 "nbformat": 4,
 "nbformat_minor": 0
}
