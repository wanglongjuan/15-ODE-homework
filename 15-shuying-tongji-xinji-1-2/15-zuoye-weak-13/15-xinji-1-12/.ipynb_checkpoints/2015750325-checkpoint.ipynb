{
 "cells": [
  {
   "cell_type": "markdown",
   "metadata": {},
   "source": [
    "焦畅 2015750325"
   ]
  },
  {
   "cell_type": "markdown",
   "metadata": {},
   "source": [
    "5.2\n",
    "\n",
    "2（1）$将x_1(t),x_2(t),…x_n(t)用向量的形式表示，并写出他们的朗斯基行列式为$\n",
    "$$W(t)=\\begin{vmatrix} x_{11}(t)&x_{12}(t)&…&x_{1n}(t)\\\\x_{21}(t)&x_{22}(t)&…&x_{2n}(t)\\\\…&…&…&…\\\\x_{n1}(t)&x_{n2}(t)&…&x_{nn}(t)\\\\\n",
    "\\end{vmatrix}$$\n",
    "$对W(t)求导得$\n",
    "\n",
    "$$\\frac{dW(t)}{dt}=\\frac{d}{dt}\\begin{vmatrix} x_{11}(t)&x_{12}(t)&…&x_{1n}(t)\\\\x_{21}(t)&x_{22}(t)&…&x_{2n}(t)\\\\…&…&…&…\\\\x_{n1}(t)&x_{n2}(t)&…&x_{nn}(t)\\\\\n",
    "\\end{vmatrix}=\\begin{vmatrix} x'_{11}(t)&x'_{12}(t)&…&x'_{1n}(t)\\\\x_{21}(t)&x_{22}(t)&…&x_{2n}(t)\\\\…&…&…&…\\\\x_{n1}(t)&x_{n2}(t)&…&x_{nn}(t)\\\\\n",
    "\\end{vmatrix}+\\begin{vmatrix} x_{11}(t)&x_{12}(t)&…&x_{1n}(t)\\\\x'_{21}(t)&x'_{22}(t)&…&x'_{2n}(t)\\\\…&…&…&…\\\\x_{n1}(t)&x_{n2}(t)&…&x_{nn}(t)\\\\\n",
    "\\end{vmatrix}+…+\\begin{vmatrix} x_{11}(t)&x_{12}(t)&…&x_{1n}(t)\\\\x_{21}(t)&x_{22}(t)&…&x_{2n}(t)\\\\…&…&…&…\\\\x'_{n1}(t)&x'_{n2}(t)&…&x'_{nn}(t)\\\\\n",
    "\\end{vmatrix}$$\n",
    "\n",
    "由于\n",
    "\n",
    "$x'_{11}=a_{11}x_{11}+a_{12}x_{21}+…+a_{1n}x_{n1}$\n",
    "\n",
    "$x'_{12}=a_{11}x_{12}+a_{12}x_{22}+…+a_{1n}x_{n2}$\n",
    "\n",
    "……\n",
    "\n",
    "$x'_{1n}=a_{11}x_{1n}+a_{12}x_{2n}+…+a_{1n}x_{nn}$\n",
    "\n",
    "所以，由行列式的性质有\n",
    "$$\\begin{vmatrix} x'_{11}(t)&x'_{12}(t)&…&x'_{1n}(t)\\\\x_{21}(t)&x_{22}(t)&…&x_{2n}(t)\\\\…&…&…&…\\\\x_{n1}(t)&x_{n2}(t)&…&x_{nn}(t)\\\\\n",
    "\\end{vmatrix}=\\begin{vmatrix} a_{11}x_{11}(t)&a_{11}x_{12}(t)&…&a_{11}x_{1n}(t)\\\\x_{21}(t)&x_{22}(t)&…&x_{2n}(t)\\\\…&…&…&…\\\\x_{n1}(t)&x_{n2}(t)&…&x_{nn}(t)\\\\\n",
    "\\end{vmatrix}+\\begin{vmatrix} a_{12}x_{21}(t)&a_{12}x_{22}(t)&…&a_{12}x_{2n}(t)\\\\x_{21}(t)&x_{22}(t)&…&x_{2n}(t)\\\\…&…&…&…\\\\x_{n1}(t)&x_{n2}(t)&…&x_{nn}(t)\\\\\n",
    "\\end{vmatrix}+……+\\begin{vmatrix} a_{1n}x_{n1}(t)&a_{1n}x_{n2}(t)&…&a_{1n}x_{nn}(t)\\\\x_{21}(t)&x_{22}(t)&…&x_{2n}(t)\\\\…&…&…&…\\\\x_{n1}(t)&x_{n2}(t)&…&x_{nn}(t)\\\\\n",
    "\\end{vmatrix}=a_{11}(t)W(t)$$\n",
    "\n",
    "$同理有a_{22}(t)W(t),a_{33}(t)W(t),…a_{nn}(t)W(t),因此得到$\n",
    "$$\\frac{dW(t)}{dt}W'(t)=[a_{11}(t)+a_{22}(t)+…+a_{nn}(t)]W(t)$$\n",
    "\n",
    "(2)将上面的一阶线性微分方程化为\n",
    "$$\\frac{dW(t)}{\\omega}=[a_{11}(t)+a_{22}(t)+…+a_{nn}(t)]dt$$\n",
    "从$t_0$到$t$的积分得到\n",
    "$$ln|W(t)|-ln|W(t_0)|=\\int_{t_0}^t[a_{11}(s)+a_{22}(s)+…+a_{nn}(s)]ds$$\n",
    "两边再用指数函数得到\n",
    "$$W(t)=W(t_0)e^{\\int_{t_0}^t[a_{11}(s)+a_{22}(s)+…+a_{nn}(s)]}ds$$"
   ]
  },
  {
   "cell_type": "markdown",
   "metadata": {
    "collapsed": true
   },
   "source": [
    "3（1）由于$\\varphi(t)$是$x'=A(t)x$的解，则有\n",
    "$$\\varphi'(t)=\\begin{pmatrix} \\varphi'_1(t)\\\\\\varphi'_2(t)\\\\…\\\\\\varphi'_n(t)\\\\\\end{pmatrix}=\\begin{pmatrix} a_{11}&a_{12}&…&a_{1n}\\\\a_{21}&a_{22}&…&a_{2n}\\\\…&…&…&…\\\\a_{n1}&a_{n2}&…&a_{nn}\\\\\n",
    "\\end{pmatrix}\\begin{pmatrix} \\varphi_1(t)\\\\\\varphi_2(t)\\\\…\\\\\\varphi_n(t)\\\\\\end{pmatrix}=\\begin{pmatrix} \\Sigma_{k=1}^n a_{1k}\\varphi_k\\\\\\Sigma_{k=1}^n a_{2k}\\varphi_k\\\\…\\\\\\Sigma_{k=1}^n a_{nk}\\varphi_k\\\\\\end{pmatrix}$$\n",
    "同理，由于$\\psi(t)$是方程$y'=-A^Ty$的解，有\n",
    "$$\\psi'(t)=\\begin{pmatrix} \\psi'_1(t)\\\\\\psi'_2(t)\\\\…\\\\\\psi'_n(t)\\\\\\end{pmatrix}=\\begin{pmatrix} a_{11}&a_{21}&…&a_{n1}\\\\a_{12}&a_{22}&…&a_{n2}\\\\…&…&…&…\\\\a_{1n}&a_{n2}&…&a_{nn}\\\\\n",
    "\\end{pmatrix}\\begin{pmatrix} \\psi_1(t)\\\\\\psi_2(t)\\\\…\\\\\\psi_n(t)\\\\\\end{pmatrix}=\\begin{pmatrix} \\Sigma_{k=1}^n a_{1k}\\psi_k\\\\\\Sigma_{k=1}^n a_{2k}\\psi_k\\\\…\\\\\\Sigma_{k=1}^n a_{nk}\\psi_k\\\\\\end{pmatrix}$$\n",
    "对$\\psi^T(t)\\varphi(t)$求导数得\n",
    "$$\\frac{d(\\psi^T(t)\\varphi(t))}{dt}=\\frac{d\\psi^T(t)}{dt}\\phi(t)+\\psi^T(t)\\frac{d\\phi(t)}{dt}=-(\\Sigma_{k=1}^n a_{1k}\\varphi_k,\\Sigma_{k=1}^n a_{2k}\\varphi_k,…,\\Sigma_{k=1}^n a_{nk}\\varphi_k)\\begin{pmatrix} \\varphi_1(t)\\\\\\varphi_2(t)\\\\…\\\\\\varphi_n(t)\\\\\\end{pmatrix}+(\\varphi_1(t),\\varphi_2(t)…\\varphi_n(t))\\begin{pmatrix} \\Sigma_{k=1}^n a_{1k}\\varphi_k\\\\\\Sigma_{k=1}^n a_{2k}\\varphi_k\\\\…\\\\\\Sigma_{k=1}^n a_{nk}\\varphi_k\\\\\\end{pmatrix}=-[ \\Sigma_{k=1}^n a_{k1}\\psi_k\\varphi_1+\\Sigma_{k=1}^n a_{k2}\\phi_k\\varphi_2+…+\\Sigma_{k=1}^n a_{kn}\\psi_k\\varphi_n]+[ \\Sigma_{k=1}^n \\psi_1a_{1k}\\varphi_k+\\Sigma_{k=1}^n \\psi_2a_{2k}\\varphi_k+…+\\Sigma_{k=1}^n \\psi_ka_{nk}\\varphi_k]$$\n",
    "$$=-\\Sigma_{k=1}^n\\Sigma_{i=1}(a_{ki}\\psi_k\\varphi_i)+\\Sigma_{k=1}^n\\Sigma_{i=1}(\\psi_ia_{ik}\\varphi_k)$$\n",
    "$$=-\\Sigma_{k=1}^n\\Sigma_{i=1}(a_{ki}\\psi_k\\varphi_i)+\\Sigma_{k=1}^n\\Sigma_{i=1}(a_{ik}\\psi_i\\varphi_k)=0$$\n",
    "所以$\\psi^T\\phi(t)=$常数"
   ]
  },
  {
   "cell_type": "markdown",
   "metadata": {},
   "source": [
    "(2)充分性：存在非奇异矩阵C，使得$\\Psi^T(t)\\Phi(y)=C$,由于$\\Phi(t)$是方程$x'=A(t)x$的基解矩阵，故$\\Phi^{-1}(t)$存在，所以$\\Psi^T(t)=C*\\Phi^{-1}(t)$且$det(\\Psi^T(t))=det(C*\\Phi^{-1}(t))\\neq 0$.因此，$\\Psi(t)$是基解矩阵。\n",
    "\n",
    "必要性：$\\Psi(t)$是基解矩阵，则$\\Psi(t)$的每一列向量$\\psi_1(t),\\psi_2(t),…,\\psi_n(t)$与$\\Phi(t)$的每一个列向量矩阵$\\varphi_1(t),\\varphi_2(t),…,\\varphi_n(t)$满足$\\psi^T_i(t)\\varphi_j (t)=$常数，i=1,2,3…n,j=1,2,…n。则$\\Psi^T(t)\\Phi(t)$是常数矩阵，记为c，另外由于$\\Psi(t),\\Phi(t)$分别是基解矩阵，从而$det(\\Psi(t))\\neq 0,det(\\Phi^T(t))\\neq 0$,则$det(\\Psi^T(t))=det(C*\\Phi^{-1}(t))\\neq 0$即矩阵$C$是非奇异的。"
   ]
  },
  {
   "cell_type": "markdown",
   "metadata": {
    "collapsed": true
   },
   "source": [
    "# <font color='red'>A  3/12"
   ]
  },
  {
   "cell_type": "code",
   "execution_count": null,
   "metadata": {
    "collapsed": true
   },
   "outputs": [],
   "source": []
  }
 ],
 "metadata": {
  "kernelspec": {
   "display_name": "SageMath 7.3",
   "language": "",
   "name": "sagemath"
  },
  "language_info": {
   "codemirror_mode": {
    "name": "ipython",
    "version": 2
   },
   "file_extension": ".py",
   "mimetype": "text/x-python",
   "name": "python",
   "nbconvert_exporter": "python",
   "pygments_lexer": "ipython2",
   "version": "2.7.10"
  }
 },
 "nbformat": 4,
 "nbformat_minor": 0
}
