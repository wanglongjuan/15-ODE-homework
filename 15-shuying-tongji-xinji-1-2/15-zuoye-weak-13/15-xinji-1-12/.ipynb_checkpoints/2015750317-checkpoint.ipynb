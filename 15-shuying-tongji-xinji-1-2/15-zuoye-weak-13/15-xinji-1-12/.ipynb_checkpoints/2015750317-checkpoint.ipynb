{
 "cells": [
  {
   "cell_type": "markdown",
   "metadata": {},
   "source": [
    "2(1)\n",
    "\n",
    "$解：W'(t)=\\begin{vmatrix}x_{11}'&x_{12}'&……&x_{1n}'\\\\x_{21}&x_{22}&……&x_{2n}\\\\·&·&·&·\\\\x_{n1}&x_{n2}&……&x_{nn}\\end{vmatrix}+\\begin{vmatrix}x_{11}&x_{12}&……&x_{1n}\\\\x_{21}'&x_{22}'&……&x_{2n}'\\\\·&·&·&·\\\\x_{n1}&x_{n2}&……&x_{nn}\\end{vmatrix}+···+\\begin{vmatrix}x_{11}&x_{12}&……&x_{1n}\\\\x_{21}&x_{22}&……&x_{2n}\\\\·&·&·&·\\\\x_{n1}'&x_{n2}'&……&x_{nn}'\\end{vmatrix}$\n",
    "\n",
    "$=\\begin{vmatrix}a_{11}x_{11}+a_{12}x_{21}+...+a_{1n}x_{n1}&a_{11}x_{12}+a_{12}x_{22}+...+a_{1n}x_{n2}&...&a_{11}x_{1n}+a_{12}x_{2n}+...+a_{1n}x_{nn}\\\\x_{21}&x_{22}&...&x_{2n}\\\\.&.&.&.\\\\x_{n1}&x_{n2}&...&x_{nn}\\end{vmatrix}+...+$\n",
    "\n",
    "$\\begin{vmatrix}x_{11}&x_{12}&...&x_{1n}\\\\x_{21}&x_{22}&...&x_{2n}\\\\.&.&.&.\\\\a_{n1}x_{11}+...+a_{nn}x_{n1}&a_{n1}x_{21}+...+a_{nn}x_{n2}&...&a_{n1}x_{nn}+...+a_{nn}x_{nn}\\end{vmatrix}=\\begin{vmatrix}a_{11}x_{11}&a_{11}x_{12}&...&a_{11}x_{1n}\\\\x_{21}&x_{22}&...&x_{2n}\\\\.&.&.&.\\\\x_{n1}&x_{n2}&...&x_{nn}\\end{vmatrix}+...+$\n",
    "\n",
    "$\\begin{vmatrix}x_{11}&x_{12}&...&x_{1n}\\\\x_{21}&x_{22}&...&x_{2n}\\\\.&.&.&.\\\\a_{nn}x_{n1}&a_{nn}x_{n2}&...&a_{nn}x_{nn}\\end{vmatrix}整理后原式变为(a_{11}+...+a_{nn})\\begin{vmatrix}x_{11}&x_{12}&...&x_{1n}\\\\x_{21}&x_{22}&...&x_{2n}\\\\.&.&.&.\\\\x_{n1}&x_{n2}&...&x_{nn}\\end{vmatrix}=(a_{11}+...+a_{nn})W(t)=(a_{11}(t)+...+a_{nn}(t)W(t)$"
   ]
  },
  {
   "cell_type": "markdown",
   "metadata": {},
   "source": [
    "2(2)\n",
    "\n",
    "$解：由于w'(t)=[a_{11}(t)+...+a_{nn}(t)]w(t),即\\frac{dw(t)}{w(t)}=[a_{11}(t)+...+a_{nn}(t)dt$\n",
    "\n",
    "$两边从t_0到t积分ln|w(t)|-ln|w(t_0)|=\\int ^t_0[a_{11}(s)+...+a_{nn}(s)]ds即w(t)=w(t_0)e^{\\int ^t_0[a_{11}(s)+...+a_{nn}(s)]ds},t∈[a,b]$"
   ]
  },
  {
   "cell_type": "markdown",
   "metadata": {},
   "source": [
    "3(1)\n",
    "\n",
    "$[\\psi^T(t)\\phi(t)]'=\\psi^T\\phi(t)+\\psi^T\\phi'(t)=\\psi^T\\phi(t)+\\psi^T(t)A(t)\\phi$\n",
    "\n",
    "$又因为\\psi'=A'(t),所以\\psi^T=\\psi^T(t)A(t)$\n",
    "\n",
    "$[\\psi^T(t)\\phi(t)]'=\\psi^T(t)\\phi(t)A(t)+\\psi^T(t)A(t)\\phi(t)=0$\n",
    "\n",
    "$所以对于方程y'=A^T(t)y的任一解y=\\psi(t)必有\\psi^T(t)\\phi(t)=常数$"
   ]
  },
  {
   "cell_type": "markdown",
   "metadata": {},
   "source": [
    "3(2)\n",
    "\n",
    "$“＜＝”假设为方程y'=A^T(t)y的基础矩阵，则$\n",
    "\n",
    "$[\\psi^T(t)\\phi(t)]'=[\\psi^T(t)]'\\phi(t)+\\psi^T(t)\\phi'(t)=[-A^T(t)\\psi(t)\\psi(t)+\\psi^T(t)A^T(t)\\phi(t)+\\psi^T(t)A(t)$\n",
    "\n",
    "$\\phi(t)=\\psi^T(t)A^T(t)\\phi(t)+\\psi^T(t)A^T(t)\\phi(t)=0,故\\psi^T(t)\\phi(t)=C$\n",
    "\n",
    "$“＝＞”若存在非奇异常数矩阵C，detc≠0,使\\psi^T(t)\\phi(t)=C$\n",
    "\n",
    "$则[\\psi^T(t)\\phi(t)]'=\\psi^T\\hi(t)+\\psi^T\\phi(t)=0,故\\psi^T(t)\\phi(t)A(t)\\psi^T(t)=\\psi^T(t)A(t)$\n",
    "\n",
    "$所以\\psi^T(t)=\\psi^T(t)A(t),\\psi'(t)=\\psi^T(t)A^T(t)即\\psi(t)为方程y=A^T"
   ]
  },
  {
   "cell_type": "markdown",
   "metadata": {},
   "source": [
    "# <font color='red'>A  3/12"
   ]
  },
  {
   "cell_type": "code",
   "execution_count": null,
   "metadata": {
    "collapsed": true
   },
   "outputs": [],
   "source": []
  }
 ],
 "metadata": {
  "kernelspec": {
   "display_name": "SageMath 7.3",
   "language": "",
   "name": "sagemath"
  },
  "language_info": {
   "codemirror_mode": {
    "name": "ipython",
    "version": 2
   },
   "file_extension": ".py",
   "mimetype": "text/x-python",
   "name": "python",
   "nbconvert_exporter": "python",
   "pygments_lexer": "ipython2",
   "version": "2.7.10"
  }
 },
 "nbformat": 4,
 "nbformat_minor": 0
}
