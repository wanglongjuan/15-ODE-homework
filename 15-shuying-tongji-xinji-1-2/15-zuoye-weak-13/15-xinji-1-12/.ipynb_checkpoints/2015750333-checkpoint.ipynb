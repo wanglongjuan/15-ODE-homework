{
 "cells": [
  {
   "cell_type": "markdown",
   "metadata": {},
   "source": [
    "# 1、考虑方程$$x'=A(t)x\\quad \\quad \\quad①$$其中$A(t)$是区间$a\\leq t\\leq b$上的连续$n\\times n$函数矩阵，它的元为$a_{ij}(t)(i,j=1,2,\\cdots,n).$"
   ]
  },
  {
   "cell_type": "markdown",
   "metadata": {},
   "source": [
    "## （1）如果是$x_1(t),x_2(t),\\cdots,x_n(t)$是①的任意$n$个解，那么它们的朗斯基行列式$W=[x_1(t),x_2(t),\\cdots,x_n(t)]\\equiv W(t)$满足下面的一阶线性微分方程$$W'=[a_{11}(t)+a_{22}(t)+\\cdots+a_{nn}(t)]W$$"
   ]
  },
  {
   "cell_type": "markdown",
   "metadata": {},
   "source": [
    "解：$W'(t)=\n",
    "\\begin{vmatrix}\n",
    "x_{11}'&x_{12}'&\\cdots&x_{1n}'\\\\\n",
    "x_{21}&x_{22}&\\cdots&x_{2n}\\\\\n",
    "\\vdots&\\vdots&\\ddots&\\vdots\\\\\n",
    "x_{n1}&x_{n2}&\\cdots&x_{nn}\n",
    "\\end{vmatrix}+\n",
    "\\begin{vmatrix}\n",
    "x_{11}&x_{12}&\\cdots&x_{1n}\\\\\n",
    "x_{21}'&x_{22}'&\\cdots&x_{2n}'\\\\\n",
    "\\vdots&\\vdots&\\ddots&\\vdots\\\\\n",
    "x_{n1}&x_{n2}&\\cdots&x_{nn}\n",
    "\\end{vmatrix}+\n",
    "\\cdots+\n",
    "\\begin{vmatrix}\n",
    "x_{11}&x_{12}&\\cdots&x_{1n}\\\\\n",
    "x_{21}&x_{22}&\\cdots&x_{2n}\\\\\n",
    "\\vdots&\\vdots&\\ddots&\\vdots\\\\\n",
    "x_{n1}'&x_{n2}'&\\cdots&x_{nn}'\n",
    "\\end{vmatrix}=\n",
    "\\begin{vmatrix}\n",
    "a_{11}x_{11}+a_{12}x_{21}+\\cdots+a_{1n}x_{n1}&a_{11}x_{12}+a_{12}+x_{22}+\\cdots+a_{1n}x_{n2}&\\cdots&a_{11}x_{1n}+a_{12}x-{2n}+\\cdots+a_{1n}x_{nn}\\\\\n",
    "x_{21}&x_{22}&\\cdots&x_{2n}\\\\\n",
    "\\vdots&\\vdots&\\ddots&\\vdots\\\\\n",
    "x_{n1}&x_{n2}&\\cdots&x_{nn}\n",
    "\\end{vmatrix}+\\cdots+\n",
    "\\begin{vmatrix}\n",
    "x_{11}&x_{12}&\\cdots&x_{1n}\\\\\n",
    "x_{21}&x_{22}&\\cdots&x_{2n}\\\\\n",
    "\\vdots&\\vdots&\\ddots&\\vdots\\\\\n",
    "a_{n1}x_{11}+\\cdots+a_{nn}x_{n1}&a_{n1}x_{21}+\\cdots+a_{nn}x_{n2}&\\cdots&a_{n1}x_{nn}+\\cdots+a_{nn}x_{nn}\n",
    "\\end{vmatrix}\\\\=\n",
    "\\begin{vmatrix}\n",
    "a_{11}x_{11}&a_{11}x_{12}&\\cdots&a_{11}x_{1n}\\\\\n",
    "x_{21}&x_{22}&\\cdots&x_{2n}\\\\\n",
    "\\vdots&\\vdots&\\ddots&\\vdots\\\\\n",
    "x_{n1}&x_{n2}&\\cdots&x_{nn}\n",
    "\\end{vmatrix}+\n",
    "\\cdots+\n",
    "\\begin{vmatrix}\n",
    "x_{11}&x_{12}&\\cdots&x_{1n}\\\\\n",
    "x_{21}&x_{22}&\\cdots&x_{2n}\\\\\n",
    "\\vdots&\\vdots&\\ddots&\\vdots\\\\\n",
    "a_{nn}x_{n1}&a_{nn}x_{n2}&\\cdots&a_{nn}x_{nn}\n",
    "\\end{vmatrix}\\\\=\n",
    "(a_{11}+\\cdots+a_{nn})\n",
    "\\begin{vmatrix}\n",
    "x_{11}&x_{12}&\\cdots&x_{1n}\\\\\n",
    "x_{21}&x_{22}&\\cdots&x_{2n}\\\\\n",
    "\\vdots&\\vdots&\\ddots&\\vdots\\\\\n",
    "x_{n1}&x_{n2}&\\cdots&x_{nn}\n",
    "\\end{vmatrix}\\\\=\n",
    "(a_{11}(t)+\\cdots+a_{nn}(t))W(t)\n",
    "$"
   ]
  },
  {
   "cell_type": "markdown",
   "metadata": {},
   "source": [
    "## （2）解上面的一阶线性微分方程，证明下面的公式：$$W(t)=W(t_0)e^{\\int_{t_0}^{t}[a_{11}(s)+a_{22}(s)+\\cdots+a_{nn}(s)]\\mathrm ds},\\quad t_0,t\\in [a,b]$$"
   ]
  },
  {
   "cell_type": "markdown",
   "metadata": {},
   "source": [
    "解：由（1）得$\\frac{\\mathrm dw(t)}{w(t)}=[a_{11}(t)+\\cdots+a_{nn}(t)]\\mathrm dt$\n",
    "\n",
    "两边从$t_0$到$t$积分\n",
    "\n",
    "$\\ln |w(t)|-\\ln|w(t_0)|=\\int_{t_0}^t[a_{11}(s)+\\cdots+a_{nn}(s)]\\mathrm ds$\n",
    "\n",
    "即$w(t)=w(t_0)e^{\\int_{t_0}^t[a_{11}(s)+\\cdots+a_{nn}(s)]\\mathrm ds},t\\in[a,b]$"
   ]
  },
  {
   "cell_type": "markdown",
   "metadata": {},
   "source": [
    "# 2、设$A(t)$为区间$a\\leq t\\leq$上的连续$n\\times n$实矩阵，$\\Phi(t)$为方程$x'=A(t)x$的基解矩阵，而$x=\\varphi(t)$为其一解.试证："
   ]
  },
  {
   "cell_type": "markdown",
   "metadata": {},
   "source": [
    "## （1）对于方程$y'=-A^T(t)y$的任一解$y=\\psi(t)$必有$\\psi^T(t)\\varphi(t)=$常数"
   ]
  },
  {
   "cell_type": "markdown",
   "metadata": {},
   "source": [
    "解：$[\\psi ^T (t)\\varphi(t)]'=\\psi^{T'}\\varphi(t)+\\psi^T \\varphi '(t)=\\psi ' ^T\\varphi(t)+\\psi ^ T(t)A(t )\\varphi$\n",
    "\n",
    "又因为$\\psi'=-A^T(t)\\psi(t)$\n",
    "\n",
    "所以$\\psi^T=-\\psi^T(t)A(t)$\n",
    "\n",
    "所以$[\\psi ^T (t)\\varphi(t)]'=-\\psi^T(t)\\varphi(t)A(t)+\\psi^T(t)\\varphi(t)A(t)=0$\n",
    "\n",
    "所以对于方程$y'=-A^T(t)y$的任一解$y=\\psi(t)$必有$\\psi^T(t)\\varphi(t)=$常数"
   ]
  },
  {
   "cell_type": "markdown",
   "metadata": {},
   "source": [
    "## （2）$\\psi(t)$为方程$y'=-A^T(t)y$的基解矩阵的充要条件是存在非奇异的常数矩阵$C,$使$\\psi^T\\Phi(t)=C$"
   ]
  },
  {
   "cell_type": "markdown",
   "metadata": {},
   "source": [
    "必要性：因为$\\psi(t)$为方程$y'=-A^T(t)y$的基解矩阵\n",
    "\n",
    "所以\n",
    "\n",
    "$\\begin{aligned}\n",
    "&[\\psi^T(t)\\varphi(t)] '\\\\\n",
    "=&[\\psi^T(t)]'\\Phi(t)+\\psi^T(t)\\Phi'(t)\\\\\n",
    "=&[-A^T(t)\\psi(t)]\\Phi(t)+\\psi^T(t)A^T(t)\\Phi(t)+\\psi^T(t)[A(t)\\varphi(t)]\\\\\n",
    "=&-\\psi^T(t)A^T(t)\\Phi(t)+\\psi^T(t)A^T(t)\\Phi(t)\\\\\n",
    "=&0\n",
    "\\end{aligned}\n",
    "$\n",
    "\n",
    "所以$\\psi^T(t)\\varphi (t)=C$"
   ]
  },
  {
   "cell_type": "markdown",
   "metadata": {},
   "source": [
    "充分性：若存在非奇异的常数矩阵$C,$使$\\psi^T\\Phi(t)=C$\n",
    "\n",
    "则$[\\psi^T(t)\\varphi(t)] '\\psi^{T'}\\varphi(t)+\\psi^T\\varphi'(t)=0$\n",
    "\n",
    "故$\\psi^{T'}(t)\\varphi(t)=-\\psi^T(t)\\varphi(t)A(t)\\psi^{T'}(t)=-\\psi^{T'}(t)A(t)$\n",
    "\n",
    "所以$\\psi^T(t)=-\\psi^T(t)A(t),\\psi'(t)=-\\psi^T(t)A^T(t)$\n",
    "\n",
    "即$\\psi(t)$为方程$y'=-A^T(t)y$的基解矩阵"
   ]
  },
  {
   "cell_type": "markdown",
   "metadata": {
    "collapsed": true
   },
   "source": [
    "\n",
    "# <font color='red'>A  3/12"
   ]
  },
  {
   "cell_type": "code",
   "execution_count": null,
   "metadata": {
    "collapsed": true
   },
   "outputs": [],
   "source": []
  }
 ],
 "metadata": {
  "kernelspec": {
   "display_name": "SageMath 7.3",
   "language": "",
   "name": "sagemath"
  },
  "language_info": {
   "codemirror_mode": {
    "name": "ipython",
    "version": 2
   },
   "file_extension": ".py",
   "mimetype": "text/x-python",
   "name": "python",
   "nbconvert_exporter": "python",
   "pygments_lexer": "ipython2",
   "version": "2.7.10"
  }
 },
 "nbformat": 4,
 "nbformat_minor": 0
}
