{
 "cells": [
  {
   "cell_type": "markdown",
   "metadata": {
    "collapsed": false
   },
   "source": [
    "# P216 \n",
    "## 2.\n",
    "### (1)"
   ]
  },
  {
   "cell_type": "markdown",
   "metadata": {},
   "source": [
    "$\\because$\n",
    "$$W(t)=\\begin{vmatrix} x_{11}(t)&x_{12}(t)&…&x_{1n}(t)\\\\x_{21}(t)&x_{22}(t)&…&x_{2n}(t)\\\\…&…&…&…\\\\x_{n1}(t)&x_{n2}(t)&…&x_{nn}(t)\\\\\n",
    "\\end{vmatrix}$$\n",
    "\n",
    "\n",
    "求导\n",
    "\n",
    "$$\\frac{dW(t)}{dt}=\\frac{d}{dt}\\begin{vmatrix} x_{11}(t)&x_{12}(t)&…&x_{1n}(t)\\\\x_{21}(t)&x_{22}(t)&…&x_{2n}(t)\\\\…&…&…&…\\\\x_{n1}(t)&x_{n2}(t)&…&x_{nn}(t)\\\\\n",
    "\\end{vmatrix}=\\begin{vmatrix} x'_{11}(t)&x'_{12}(t)&…&x'_{1n}(t)\\\\x_{21}(t)&x_{22}(t)&…&x_{2n}(t)\\\\…&…&…&…\\\\x_{n1}(t)&x_{n2}(t)&…&x_{nn}(t)\\\\\n",
    "\\end{vmatrix}+\\begin{vmatrix} x_{11}(t)&x_{12}(t)&…&x_{1n}(t)\\\\x'_{21}(t)&x'_{22}(t)&…&x'_{2n}(t)\\\\…&…&…&…\\\\x_{n1}(t)&x_{n2}(t)&…&x_{nn}(t)\\\\\n",
    "\\end{vmatrix}+…+\\begin{vmatrix} x_{11}(t)&x_{12}(t)&…&x_{1n}(t)\\\\x_{21}(t)&x_{22}(t)&…&x_{2n}(t)\\\\…&…&…&…\\\\x'_{n1}(t)&x'_{n2}(t)&…&x'_{nn}(t)\\\\\n",
    "\\end{vmatrix}$$\n",
    "\n",
    "$\\because$\n",
    "\n",
    "$x'_{11}=a_{11}x_{11}+a_{12}x_{21}+…+a_{1n}x_{n1}$\n",
    "\n",
    "$x'_{12}=a_{11}x_{12}+a_{12}x_{22}+…+a_{1n}x_{n2}$\n",
    "\n",
    "……\n",
    "\n",
    "$x'_{1n}=a_{11}x_{1n}+a_{12}x_{2n}+…+a_{1n}x_{nn}$\n",
    "\n",
    "$\\therefore$\n",
    "$$\\begin{vmatrix} x'_{11}(t)&x'_{12}(t)&…&x'_{1n}(t)\\\\x_{21}(t)&x_{22}(t)&…&x_{2n}(t)\\\\…&…&…&…\\\\x_{n1}(t)&x_{n2}(t)&…&x_{nn}(t)\\\\\n",
    "\\end{vmatrix}=\\begin{vmatrix} a_{11}x_{11}(t)&a_{11}x_{12}(t)&…&a_{11}x_{1n}(t)\\\\x_{21}(t)&x_{22}(t)&…&x_{2n}(t)\\\\…&…&…&…\\\\x_{n1}(t)&x_{n2}(t)&…&x_{nn}(t)\\\\\n",
    "\\end{vmatrix}+\\begin{vmatrix} a_{12}x_{21}(t)&a_{12}x_{22}(t)&…&a_{12}x_{2n}(t)\\\\x_{21}(t)&x_{22}(t)&…&x_{2n}(t)\\\\…&…&…&…\\\\x_{n1}(t)&x_{n2}(t)&…&x_{nn}(t)\\\\\n",
    "\\end{vmatrix}+……+\\begin{vmatrix} a_{1n}x_{n1}(t)&a_{1n}x_{n2}(t)&…&a_{1n}x_{nn}(t)\\\\x_{21}(t)&x_{22}(t)&…&x_{2n}(t)\\\\…&…&…&…\\\\x_{n1}(t)&x_{n2}(t)&…&x_{nn}(t)\\\\\n",
    "\\end{vmatrix}=a_{11}(t)W(t)$$\n",
    "\n",
    "$同理:\n",
    "a_{22}(t)W(t),a_{33}(t)W(t),…a_{nn}(t)W(t),$\n",
    "$\\therefore$\n",
    "$$\\frac{dW(t)}{dt}W'(t)=[a_{11}(t)+a_{22}(t)+…+a_{nn}(t)]W(t)$$\n",
    "\n"
   ]
  },
  {
   "cell_type": "markdown",
   "metadata": {},
   "source": [
    "### (2)\n",
    "$\\because$\n",
    "$$\\frac{dW(t)}{\\omega}=[a_{11}(t)+a_{22}(t)+…+a_{nn}(t)]dt$$\n",
    "\n",
    "$$ln|W(t)|-ln|W(t_0)|=\\int_{t_0}^t[a_{11}(s)+a_{22}(s)+…+a_{nn}(s)]ds$$\n",
    "$\\therefore$\n",
    "$$W(t)=W(t_0)e^{\\int_{t_0}^t[a_{11}(s)+a_{22}(s)+…+a_{nn}(s)]}ds$$"
   ]
  },
  {
   "cell_type": "markdown",
   "metadata": {},
   "source": [
    "## 3\n",
    "### （1）\n",
    "\n",
    "$\\because$\n",
    "$$\\varphi'(t)=\\begin{pmatrix} \\varphi'_1(t)\\\\\\varphi'_2(t)\\\\…\\\\\\varphi'_n(t)\\\\\\end{pmatrix}=\\begin{pmatrix} a_{11}&a_{12}&…&a_{1n}\\\\a_{21}&a_{22}&…&a_{2n}\\\\…&…&…&…\\\\a_{n1}&a_{n2}&…&a_{nn}\\\\\n",
    "\\end{pmatrix}\\begin{pmatrix} \\varphi_1(t)\\\\\\varphi_2(t)\\\\…\\\\\\varphi_n(t)\\\\\\end{pmatrix}=\\begin{pmatrix} \\Sigma_{k=1}^n a_{1k}\\varphi_k\\\\\\Sigma_{k=1}^n a_{2k}\\varphi_k\\\\…\\\\\\Sigma_{k=1}^n a_{nk}\\varphi_k\\\\\\end{pmatrix}$$\n",
    "\n",
    "又：\n",
    "\n",
    "$$\\psi'(t)=\\begin{pmatrix} \\psi'_1(t)\\\\\\psi'_2(t)\\\\…\\\\\\psi'_n(t)\\\\\\end{pmatrix}=\\begin{pmatrix} a_{11}&a_{21}&…&a_{n1}\\\\a_{12}&a_{22}&…&a_{n2}\\\\…&…&…&…\\\\a_{1n}&a_{n2}&…&a_{nn}\\\\\n",
    "\\end{pmatrix}\\begin{pmatrix} \\psi_1(t)\\\\\\psi_2(t)\\\\…\\\\\\psi_n(t)\\\\\\end{pmatrix}=\\begin{pmatrix} \\Sigma_{k=1}^n a_{1k}\\psi_k\\\\\\Sigma_{k=1}^n a_{2k}\\psi_k\\\\…\\\\\\Sigma_{k=1}^n a_{nk}\\psi_k\\\\\\end{pmatrix}$$\n",
    "\n",
    "$\\because$$[\\psi^T\\phi(t)]^{\\prime}=0$\n",
    "\n",
    "$\\therefore$$\\psi^T\\phi(t)$为常数"
   ]
  },
  {
   "cell_type": "markdown",
   "metadata": {},
   "source": [
    "### (2)\n",
    "#### 充分性：\n",
    "$\\because$$\\Phi(t)$是方程$x'=A(t)x$的基解矩阵，\n",
    "\n",
    "$\\therefore$$\\Psi^T(t)=C*\\Phi^{-1}(t)$,$det(\\Psi^T(t))=det(C*\\Phi^{-1}(t))\\neq 0$.\n",
    "\n",
    "$\\therefore$，$\\Psi(t)$是基解矩阵。\n",
    "\n",
    "#### 必要性：\n",
    "\n",
    "$\\because$$\\Psi(t)$是基解矩阵,$\\therefore$$\\Psi^T(t)\\Phi(t)$是常数矩阵，$C$，\n",
    "\n",
    "$\\because$$det(\\Psi(t))\\neq 0,det(\\Phi^T(t))\\neq 0$,\n",
    "\n",
    "$\\therefore$$det(\\Psi^T(t))=det(C*\\Phi^{-1}(t))\\neq 0$,$C$是非奇异的。"
   ]
  },
  {
   "cell_type": "markdown",
   "metadata": {
    "collapsed": true
   },
   "source": [
    "# <font color='red'>A  3/12"
   ]
  },
  {
   "cell_type": "code",
   "execution_count": null,
   "metadata": {
    "collapsed": true
   },
   "outputs": [],
   "source": []
  }
 ],
 "metadata": {
  "kernelspec": {
   "display_name": "Python 2",
   "language": "python",
   "name": "python2"
  },
  "language_info": {
   "codemirror_mode": {
    "name": "ipython",
    "version": 2
   },
   "file_extension": ".py",
   "mimetype": "text/x-python",
   "name": "python",
   "nbconvert_exporter": "python",
   "pygments_lexer": "ipython2",
   "version": "2.7.10"
  }
 },
 "nbformat": 4,
 "nbformat_minor": 0
}
