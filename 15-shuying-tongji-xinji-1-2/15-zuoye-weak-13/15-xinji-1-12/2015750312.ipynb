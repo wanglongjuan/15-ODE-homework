{
 "cells": [
  {
   "cell_type": "markdown",
   "metadata": {},
   "source": [
    "**2.解:(1)**\n",
    "$$\n",
    "W'(t)=\n",
    "\\begin{vmatrix} \n",
    "x_{11}' & x_{12}' & … & x_{1n}' \\\\ \n",
    "x_{21} & x_{22} & … & x_{2n}\\\\ \n",
    "┇ & ┇ &  & ┇\\\\\n",
    "x_{n1} & x_{n2} & … & x_{nn}\\\\\n",
    "\\end{vmatrix} \n",
    "+\n",
    "\\begin{vmatrix} \n",
    "x_{11} & x_{12} & … & x_{1n} \\\\ \n",
    "x_{21}' & x_{22}' & … & x_{2n}'\\\\ \n",
    "┇ & ┇ &  & ┇\\\\\n",
    "x_{n1} & x_{n2} & … & x_{nn}\\\\\n",
    "\\end{vmatrix}  \n",
    "+\n",
    "…\n",
    "+\n",
    "\\begin{vmatrix} \n",
    "x_{11} & x_{12} & … & x_{1n} \\\\ \n",
    "x_{21} & x_{22} & … & x_{2n}\\\\ \n",
    "┇ & ┇ &  & ┇\\\\\n",
    "x_{n1}' & x_{n2}' & … & x_{nn}'\\\\\n",
    "\\end{vmatrix} \n",
    "=\n",
    "\\begin{vmatrix}\n",
    "a_{11}x_{11}+a_{12}x_{21}+…+a_{1n}x_{n1} & a_{11}x_{12}+a_{12}x_{22}+…+a_{1n}x_{n2} & … & a_{11}x_{1n}+a_{12}x_{2n}+…+a_{1n}x_{nn}\\\\\n",
    "x_{21} & x_{22} & … & x_{2n}\\\\\n",
    "┇ & ┇ &  & ┇\\\\\n",
    "x_{n1} & x_{n2} & … & x_{nn}\\\\\n",
    "\\end{vmatrix} \n",
    "+\n",
    "…\n",
    "+\n",
    "\\begin{vmatrix} \n",
    "x_{11} & x_{12} & … & x_{1n} \\\\ \n",
    "x_{21}' & x_{22}' & … & x_{2n}'\\\\ \n",
    "┇ & ┇ &  & ┇\\\\\n",
    "a_{n1}x_{11}+a_{n2}x_{21}+…+a_{nn}x_{n1} & a_{n1}x_{12}+a_{n2}x_{22}+…+a_{nn}x_{n2} & … & a_{n1}x_{1n}+a_{n2}x_{2n}+…+a_{nn}x_{nn}\\\\\n",
    "\\end{vmatrix} \n",
    "=\n",
    "\\begin{vmatrix} \n",
    "a_{11}x_{11} & a_{11}x_{12} & … & a_{11}x_{1n}\\\\\n",
    "x_{21} & x_{22} & … & x_{2n}\\\\\n",
    "┇ & ┇ &  & ┇\\\\\n",
    "x_{n1} & x_{n2} & … & x_{nn}\\\\\n",
    "\\end{vmatrix} \n",
    "+\n",
    "…\n",
    "+\n",
    "\\begin{vmatrix} \n",
    "x_{11} & x_{12} & … & x_{1n} \\\\ \n",
    "x_{21}' & x_{22}' & … & x_{2n}'\\\\ \n",
    "┇ & ┇ &  & ┇\\\\\n",
    "a_{nn}x_{n1} & a_{nn}x_{n2} & … & a_{nn}x_{nn}\\\\\n",
    "\\end{vmatrix} \n",
    "$$\n",
    "\n",
    "整理后，得\n",
    "\n",
    "$$\n",
    "W'(t)=\n",
    "(a_{11}+…+a_{nn})\n",
    "\\begin{vmatrix} \n",
    "x_{11} & x_{12} & … & x_{1n} \\\\ \n",
    "x_{21} & x_{22} & … & x_{2n}\\\\ \n",
    "┇ & ┇ &  & ┇\\\\\n",
    "x_{n1} & x_{n2} & … & x_{nn}\\\\\n",
    "\\end{vmatrix} \n",
    "=(a_{11}+…+a_{nn})W(t)\n",
    "=(a_{11(t)}+…+a_{nn}(t))W(t)\n",
    "$$"
   ]
  },
  {
   "cell_type": "markdown",
   "metadata": {},
   "source": [
    "**(2)**∵$$ W'(t)=(a_{11(t)}+…+a_{nn}(t))W(t) $$\n",
    "\n",
    "即 $$ \\frac{dW(t)}{W(t)}=(a_{11(t)}+…+a_{nn}(t))dt $$ 两边从 $ t_0 到 t $ 积分\n",
    "\n",
    "$$ ln|W(t)|-ln|W(t_0)|=\\int_{t_0}^t [a_{11(s)}+…+a_{nn}(s)] \\mathrm d s $$\n",
    "\n",
    "即 $$ W(t)=W(t_0)e^{\\int_{t_0}^t [a_{11(s)}+…+a_{nn}(s)] \\mathrm d s} , t∈[a,b] $$"
   ]
  },
  {
   "cell_type": "markdown",
   "metadata": {},
   "source": [
    "**3.解:（1）**$$ [\\psi^T(t)\\varphi(t)]'=(\\psi^T(t))'\\varphi(t)+\\psi^T(t)\\varphi'(t)=(\\psi^T(t))'\\varphi(t)+\\psi^T(t)A(t)\\varphi'(t) $$\n",
    "\n",
    "∵$ \\psi'(t)=-A^T(t)\\psi(t) $\n",
    "\n",
    "∴$ (\\psi^T(t))'=-\\psi^T(t)A(t) $\n",
    "\n",
    "从而 $$ [\\psi^T(t)\\varphi(t)]'=-\\psi^T(t)A(t)\\varphi(t)+\\psi^T(t)A(t)\\varphi(t)=0 $$\n",
    "\n",
    "∴对于方程 $ y'=-A^T(t)y $ 的任一解 $ y=\\psi(t) $ 必有 $ \\psi^T(t)\\varphi(t)=常数 $\n"
   ]
  },
  {
   "cell_type": "markdown",
   "metadata": {},
   "source": [
    "**(2)**必要性：\n",
    "\n",
    "设 $ \\psi(t) $ 为方程 $ y'=-A^T(t)y $ 的基解矩阵，则\n",
    "\n",
    "$$ [\\psi^T(t)\\phi(t)]'=[\\psi^T(t)]\\phi(t)+\\psi^T(t)\\phi'(t)=[-A^T(t)\\psi^T(t)]T\\phi(t)+\\psi^T(t)A(t)\\phi(t)=-\\psi^T(t)A(t)\\phi(t)+\\psi^T(t)A(t)\\phi(t)=0 $$\n",
    "\n",
    "∴$ \\psi^T(t)\\phi(t)=C $\n",
    "\n",
    "∵$ \\phi(t),\\psi(t) $ 分别是基解矩阵\n",
    "\n",
    "∴$ det(\\phi(t))\\neq0,det(\\psi(t))\\neq0 $\n",
    "\n",
    "∴$ det(C)\\neq0 $\n",
    "\n",
    "即 $ C $ 是非奇异的\n",
    "\n",
    "充分性：\n",
    "\n",
    "若存在非奇异常数矩阵 $ C,detC\\neq0 $ ,使 $ \\psi^T(t)\\phi(t)=C $\n",
    "\n",
    "∵ $ \\phi(t) $ 为方程 $ x'=A(t)x $ 的基解矩阵\n",
    "\n",
    "∴$ \\phi^{-1}(t) $ 存在\n",
    "\n",
    "∴$ \\psi^T(t)=C·\\phi^{-1}(t) $ 并且 $ det(\\psi^T(t))=det(C·\\phi^{-1}(t)) $\n",
    "\n",
    "即 $ \\psi(t) $ 为方程 $ y'=-A^T(t)y $ 的基解矩阵"
   ]
  },
  {
   "cell_type": "markdown",
   "metadata": {
    "collapsed": true
   },
   "source": [
    "# <font color='red'>A  3/12"
   ]
  },
  {
   "cell_type": "code",
   "execution_count": null,
   "metadata": {
    "collapsed": true
   },
   "outputs": [],
   "source": []
  }
 ],
 "metadata": {
  "kernelspec": {
   "display_name": "SageMath 7.3",
   "language": "",
   "name": "sagemath"
  },
  "language_info": {
   "codemirror_mode": {
    "name": "ipython",
    "version": 2
   },
   "file_extension": ".py",
   "mimetype": "text/x-python",
   "name": "python",
   "nbconvert_exporter": "python",
   "pygments_lexer": "ipython2",
   "version": "2.7.10"
  }
 },
 "nbformat": 4,
 "nbformat_minor": 0
}
