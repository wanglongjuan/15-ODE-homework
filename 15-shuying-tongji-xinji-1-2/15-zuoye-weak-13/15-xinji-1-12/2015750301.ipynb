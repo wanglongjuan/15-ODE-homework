{
 "cells": [
  {
   "cell_type": "markdown",
   "metadata": {},
   "source": [
    "$p216.2$"
   ]
  },
  {
   "cell_type": "markdown",
   "metadata": {},
   "source": [
    "$设W'(t)=\\begin{bmatrix}x_{11}'&x_{12}'&...&x_{1n}'\\\\x_{21}&x_{22}&...&x_{2n}\\\\...&...&...&...\\\\x_{n1}&x_{n2}&...&x_{nn}\n",
    "\\end{bmatrix}+\\begin{bmatrix}x_{11}&x_{12}&...&x_{1n}\\\\x_{21}'&x_{22}'&...&x_{2n}'\\\\...&...&...&...\\\\x_{n1}'&x_{n2}'&...&x_{nn}'\n",
    "\\end{bmatrix}+...+\\begin{bmatrix}x_{11}&x_{12}&...&x_{1n}\\\\x_{21}&x_{22}&...&x_{2n}\\\\...&...&...&...\\\\x_{n1}'&x_{n2}'&...&x_{nn}'\n",
    "\\end{bmatrix}=\\begin{bmatrix}a_{11}x_{11}+a_{12}x_{21}+...+a_{1n}x_{n1}&a_{11}x_{12}+a_{12}x_{22}+...+a_{1n}x_{n2}&...&a_{11}x_{1n}+a_{12}x_{2n}+...+a_{1n}x_{nn}\\\\x_{21}&x_22&...&x_nn\\\\...&...&...&...\\\\x_n1&x_n2&...&x_nn\n",
    "\\end{bmatrix}+...\n",
    "$"
   ]
  },
  {
   "cell_type": "markdown",
   "metadata": {},
   "source": [
    "$+\\begin{bmatrix}x_{11}&x_{12}&...&x_{1n}\\\\x_{21}&x_{22}&...&x_{2n}\\\\...&...&...&...\\\\a_{n1}x_{11}+...+a_{nn}x_{n1}&a_{n1}x_{21}+...a_{nn}x_{n2}&...&a_{n1}x_{1n}+...a_{nn}x_{nn}\n",
    "\\end{bmatrix}=\\begin{bmatrix}a_{11}x_{11}&a_{11}x_{12}&...&a_{11}x_{1n}\\\\x_{21}&x_{22}&...x_{2n}\\\\...&...&...&...\\\\x_{n1}&x_{n2}&...&x_{nn}\\end{bmatrix}+...+\\begin{bmatrix}x_{11}&x_{12}&...&x_{nn}\\\\x_{21}&x_{22}&...&x_{2n}\\\\...&...&...&...\\\\a_{nn}x_{n1}&a_{nn}x_{n2}&...&a_{nn}x_{nn}\n",
    "\\end{bmatrix}$"
   ]
  },
  {
   "cell_type": "markdown",
   "metadata": {},
   "source": [
    "$所以W'(t)=(a_{11}+...+a_{nn})\\begin{bmatrix}x_{11}&x_{12}&...&x_{1n}\\\\x_{21}&x_{22}&...&x_{2n}\\\\...&...&...&...\\\\x_{n1}&x_{n2}&...&x_{nn}\n",
    "\\end{bmatrix}=(a_{11}(t)+...+a_{nn}(t))W(t)$"
   ]
  },
  {
   "cell_type": "markdown",
   "metadata": {},
   "source": [
    "$(2)$"
   ]
  },
  {
   "cell_type": "markdown",
   "metadata": {},
   "source": [
    "$由于W'(t)=(a_{11}(t)+...+a_{nn}(t))W(t),\\frac{dW(t)}{W(t)}=(a_{11}(t)+...+a_{nn}(t))dt$"
   ]
  },
  {
   "cell_type": "markdown",
   "metadata": {},
   "source": [
    "$W(t)=W(t_0)e^{\\int_{t_0}^t{a_{11}(s)+...+a_{nn}(s) d s}}$"
   ]
  },
  {
   "cell_type": "markdown",
   "metadata": {},
   "source": [
    "$2.(1)$"
   ]
  },
  {
   "cell_type": "markdown",
   "metadata": {},
   "source": [
    "$[\\psi^T(t)\\phi(t)]'=(\\psi^T(t))'\\phi+\\psi^T(t)A(t)\\phi(t),因为\\psi'(t)=-A^T(t)\\psi(t),所以(\\psi^T(t))'=-\\psi^T(t)A(t)$"
   ]
  },
  {
   "cell_type": "markdown",
   "metadata": {},
   "source": [
    "$[\\psi^T(t)\\phi(t)]'=-\\psi^T(t)A(t)\\phi(t)+\\psi^T(t)A(t)\\phi(t)=0,所以方程任意解必有\\psi^T(t)\\phi(t)=常数$"
   ]
  },
  {
   "cell_type": "markdown",
   "metadata": {},
   "source": [
    "$(2)$"
   ]
  },
  {
   "cell_type": "markdown",
   "metadata": {},
   "source": [
    "$设\\psi(t)为方程y'=-A^T(t)y的基解矩阵$"
   ]
  },
  {
   "cell_type": "markdown",
   "metadata": {},
   "source": [
    "$[\\psi^T(t)\\phi(t)]'=[\\psi^T(t)]'\\phi+\\psi^T(t)\\phi'(t)=-\\psi^T(t)A(t)\\phi(t)+\\psi^T(t)A(t)\\phi(t)=0,所以\\psi^T(t)\\phi(t)=C$"
   ]
  },
  {
   "cell_type": "markdown",
   "metadata": {},
   "source": [
    "$所以C是非奇异的$"
   ]
  },
  {
   "cell_type": "markdown",
   "metadata": {},
   "source": [
    "$若存在非奇异矩阵C，detC\\neq0,使\\psi^T(t)\\phi(t)=C,由于\\phi(t)为方程x'=A(t)x的基解矩阵，所以\\phi^{-1}(t)存在，所以\\psi^T(t)=C\\phi^{-1}(t),且det(\\psi^T(t))=det(C\\phi^{-1}(t))\\neq0,\\psi(t)为方程y'=-A^T(t)y的基解矩阵$"
   ]
  },
  {
   "cell_type": "markdown",
   "metadata": {
    "collapsed": true
   },
   "source": [
    "# <font color='red'>A  3/12"
   ]
  },
  {
   "cell_type": "code",
   "execution_count": null,
   "metadata": {
    "collapsed": true
   },
   "outputs": [],
   "source": []
  }
 ],
 "metadata": {
  "kernelspec": {
   "display_name": "SageMath 7.3",
   "language": "",
   "name": "sagemath"
  },
  "language_info": {
   "codemirror_mode": {
    "name": "ipython",
    "version": 2
   },
   "file_extension": ".py",
   "mimetype": "text/x-python",
   "name": "python",
   "nbconvert_exporter": "python",
   "pygments_lexer": "ipython2",
   "version": "2.7.10"
  }
 },
 "nbformat": 4,
 "nbformat_minor": 0
}
