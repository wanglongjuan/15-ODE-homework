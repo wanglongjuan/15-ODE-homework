{
 "cells": [
  {
   "cell_type": "markdown",
   "metadata": {},
   "source": [
    "2.(1)\n",
    "\n",
    "解：\n",
    "\n",
    "$\\mathbf W'(t)=\\begin{bmatrix}x'_{11} & x'_{12} & \\ldots & x'_{1n}\\\\ x_{21} & x_{22} & \\ldots & x_{2n}\\\\ \\vdots & \\vdots & \\ddots & \\vdots \\\\x_{n1} & x_{n2} & \\ldots & x_{nn} \\end{bmatrix}+\\begin{bmatrix}x_{11} & x_{12} & \\ldots & x_{1n}\\\\ x'_{21} & x'_{22} & \\ldots & x'_{2n}\\\\ \\vdots & \\vdots & \\ddots & \\vdots \\\\x_{n1} & x_{n2} & \\ldots & x_{nn} \\end{bmatrix}+ \\ldots +\\begin{bmatrix}x_{11} & x_{12} & \\ldots & x_{1n}\\\\ x_{21} & x_{22} & \\ldots & x_{2n}\\\\ \\vdots & \\vdots & \\ddots & \\vdots \\\\x'_{n1} & x'_{n2} & \\ldots & x'_{nn} \\end{bmatrix}\n",
    "=\\begin{bmatrix}a_{11}x_{11}+a_{12}x_{21}+\\ldots+a_{1n}x_{n1} & a_{11}x_{12}+a_{12}x_{22}+\\ldots+a_{1n}x_{n2} & \\ldots & a_{11}x_{1n}+a_{12}x_{2n}+\\ldots+a_{1n}x_{nn} \\\\ x_{21} & x_{22} & \\ldots & x_{2n}\\\\ \\vdots & \\vdots & \\ddots & \\vdots \\\\x_{n1} & x_{n2} & \\ldots & x_{nn} \\end{bmatrix} + \\ldots + \\begin{bmatrix}x_{11} & x_{12} & \\ldots & x_{1n}\\\\ x_{21} & x_{22} & \\ldots & x_{2n}\\\\ \\vdots & \\vdots & \\ddots & \\vdots \\\\a_{n1}x_{11}+\\ldots+a_{nn}x_{n1} & a_{n1}x_{21}+\\ldots+a_{nn}x_{n2} & \\ldots & a_{n1}x_{1n}+\\ldots+a_{nn}x_{nn} \\end{bmatrix}\n",
    "=\\begin{bmatrix}a_{11}x_{11} & a_{11}x_{12} & \\ldots & a_{11}x_{1n} \\\\ x_{21} & x_{22} & \\ldots & x_{2n}\\\\ \\vdots & \\vdots & \\ddots & \\vdots \\\\x_{n1} & x_{n2} & \\ldots & x_{nn} \\end{bmatrix} + \\ldots + \\begin{bmatrix}x_{11} & x_{12} & \\ldots & x_{1n}\\\\ x_{21} & x_{22} & \\ldots & x_{2n}\\\\ \\vdots & \\vdots & \\ddots & \\vdots \\\\a_{nn}x_{n1} & a_{nn}x_{n2} & \\ldots & a_{nn}x_{nn} \\end{bmatrix}$\n",
    "\n",
    "整理后变为\n",
    "\n",
    "$\\mathbf W'(t)=(a_{11}+\\ldots+a_{nn})\\begin{bmatrix}x_{11} & x_{12} & \\ldots & x_{1n}\\\\ x_{21} & x_{22} & \\ldots & x_{2n}\\\\ \\vdots & \\vdots & \\ddots & \\vdots \\\\x_{n1} & x_{n2} & \\ldots & x_{nn} \\end{bmatrix}=(a_{11}+\\ldots+a_{nn})\\mathbf W(t)=(a_{11}(t)+\\ldots+a_{nn}(t))\\mathbf W(t)$"
   ]
  },
  {
   "cell_type": "markdown",
   "metadata": {},
   "source": [
    "(2)由于$\\mathbf W'(t)=(a_{11}(t)+\\ldots+a_{nn}(t))\\mathbf W(t)$\n",
    "\n",
    "即$\\frac{\\mathrm d \\mathbf W(t)}{\\mathbf W(t)}=(a_{11}(t)+\\ldots+a_{nn}(t))\\mathrm d t$两边从$t_0$到$t$积分\n",
    "\n",
    "$\\ln|\\mathbf W(t)|-\\ln|\\mathbf W(t_0)|=\\int_{t_0}^t (a_{11}(s)+\\ldots+a_{nn}(s))\\mathrm d s$\n",
    "\n",
    "即$\\mathbf W(t)=\\mathbf W(t_0)e^{\\int_{t_0}^t (a_{11}(s)+\\ldots+a_{nn}(s))\\mathrm d s}$"
   ]
  },
  {
   "cell_type": "markdown",
   "metadata": {},
   "source": [
    "3.(1)\n",
    "\n",
    "$[\\mathbf \\Psi^T(t) \\mathbf \\varphi(t)]=(\\mathbf \\Psi^T(t))'\\mathbf \\varphi(t)+\\mathbf \\Psi^T(t)\\mathbf \\varphi'(t)=(\\mathbf \\Psi^T(t))'\\mathbf \\varphi(t)+\\mathbf \\Psi^T(t)\\mathbf A(t)\\mathbf \\varphi(t)$\n",
    "\n",
    "因为$\\mathbf \\Psi'(t)=-\\mathbf A^T(t)\\mathbf \\Psi(t)$，所以$(\\mathbf \\Psi^T(t))'=-\\mathbf \\Psi^T(t)\\mathbf A(t)$\n",
    "\n",
    "从而$[\\mathbf \\Psi^T(t) \\mathbf \\varphi(t)]=-\\mathbf \\Psi^T(t)\\mathbf A(t)\\mathbf \\varphi(t)+\\mathbf \\Psi^T(t)\\mathbf A(t)\\mathbf \\varphi(t)=0$\n",
    "\n",
    "所以对于方程$y'=-\\mathbf A^T(t)y$的任一解$y=\\mathbf \\Psi(t)$必有$\\mathbf \\Psi^T(t) \\mathbf \\varphi(t)=$常数"
   ]
  },
  {
   "cell_type": "markdown",
   "metadata": {},
   "source": [
    "(2)“必要性”\n",
    "\n",
    "假设$\\mathbf \\Psi(t)$为方程$y'=-\\mathbf A^T(t)y$的基解矩阵，则\n",
    "\n",
    "$[\\mathbf \\Psi^T(t) \\mathbf \\varphi(t)]'=[\\mathbf \\Psi^T(t)]'\\mathbf \\Phi(t)+\\mathbf \\Psi^T(t)\\mathbf \\Phi'(t)=[-\\mathbf A^T(t)\\mathbf \\Psi(t)]^T\\mathbf \\Phi(t)+\\mathbf \\Psi^T(t)\\mathbf A(t)\\mathbf \\Phi(t)=-\\mathbf \\Psi^T(t)\\mathbf A(t)\\mathbf \\Phi(t)+\\mathbf \\Psi^T(t)\\mathbf A(t)\\mathbf \\Phi(t))=0$\n",
    "\n",
    "故$\\mathbf \\Psi^T(t)\\mathbf \\Phi(t))=\\mathbf C$\n",
    "\n",
    "由于$\\mathbf \\Phi(t),\\mathbf \\Psi(t)$分别是基解矩阵，从而$det(\\mathbf \\Phi(t)) \\neq 0,det(\\mathbf \\Phi(t)) \\neq 0$,这样，$det(\\mathbf C) \\neq 0$,即$\\mathbf C$是非奇异的.\n",
    "\n",
    "“充分性”\n",
    "\n",
    "若存在非奇异常数矩阵$\\mathbf C$，$det(\\mathbf C) \\neq 0$，使$\\mathbf \\Psi^T(t)\\mathbf \\Phi(t))=\\mathbf C$，由于$\\mathbf \\Phi(t)$为方程$x'=\\mathbf A(t)x$的基解矩阵，故$\\mathbf \\Phi^{-1}(t)$存在，所以$\\mathbf \\Psi^T(t)=\\mathbf C\\mathbf \\Phi^{-1}(t)$，并且$det(\\mathbf \\Psi^T(t))=det(\\mathbf C\\mathbf \\Phi^{-1}(t)) \\neq 0$，即$\\mathbf \\Psi(t)$为方程$y'=-\\mathbf A^T(t)y$的基解矩阵."
   ]
  },
  {
   "cell_type": "markdown",
   "metadata": {},
   "source": [
    "# <font color='red'>A  3/12"
   ]
  },
  {
   "cell_type": "code",
   "execution_count": null,
   "metadata": {
    "collapsed": true
   },
   "outputs": [],
   "source": []
  }
 ],
 "metadata": {
  "kernelspec": {
   "display_name": "SageMath 7.3",
   "language": "",
   "name": "sagemath"
  },
  "language_info": {
   "codemirror_mode": {
    "name": "ipython",
    "version": 2
   },
   "file_extension": ".py",
   "mimetype": "text/x-python",
   "name": "python",
   "nbconvert_exporter": "python",
   "pygments_lexer": "ipython2",
   "version": "2.7.10"
  }
 },
 "nbformat": 4,
 "nbformat_minor": 0
}
