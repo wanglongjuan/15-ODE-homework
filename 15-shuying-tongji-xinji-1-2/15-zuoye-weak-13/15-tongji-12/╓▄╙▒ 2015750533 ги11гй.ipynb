{
 "cells": [
  {
   "cell_type": "markdown",
   "metadata": {},
   "source": [
    "# 常微分方程作业（11）"
   ]
  },
  {
   "cell_type": "markdown",
   "metadata": {},
   "source": [
    "$\\bf P216.T2$"
   ]
  },
  {
   "cell_type": "markdown",
   "metadata": {},
   "source": [
    "考虑方程组\n",
    "$$x’=A(t)x,(5.15)$$\n",
    "$其中A(t)是区间a\\leq t \\leq b上的连续n*n矩阵，它的元为a_ij(t)(i,j=1,2,…n).$\n",
    "\n",
    "$(1)如果x_1(t), x_2(t),… ,x_n(t)是(5.15)的任意n个解，那么它们的朗斯基行列式W[x_1(t), x_2(t),… ,x_n(t)]\\equiv W(t)$\n",
    "\n",
    "$满足下面的一阶线性微分方程$\n",
    "$$W’=[a_{11}(t), a_{22}(t),… ,a_{nn}(t)]W;$$\n",
    "$(2)解上面的一阶线性微分方程，证明下面的公式W(t)=W(t_0)e^{\\int_{t_0^t} \\mathrm {[a_{11}(s), a_{22}(s),… ,a_{nn}(s)]}\\,\\mathrm{d}s},t_0,t \\in[a,b]$\n",
    "\n"
   ]
  },
  {
   "cell_type": "markdown",
   "metadata": {},
   "source": [
    "$\\bf 解：$\n",
    "\n",
    "(1)\n",
    "\n",
    "$W’(t)=\\begin{vmatrix} \n",
    "x'_{11} & x'_{12}& \\cdots & x'_{1n} \\\\ \n",
    "x_{21} & x_{22}&\\cdots & x_{2n}\\\\\n",
    "\\vdots &\\vdots &   & \\vdots\\\\\n",
    "x_{n1} & x_{n2}&\\cdots & x_{nn}\\\\\n",
    "\\end{vmatrix} $ +$\\begin{vmatrix} \n",
    "x_{11} & x_{12}& \\cdots & x_{1n} \\\\ \n",
    "x'_{21} & x'_{22}&\\cdots & x'_{2n}\\\\\n",
    "\\vdots &\\vdots &   & \\vdots\\\\\n",
    "x_{n1} & x_{n2}&\\cdots & x_{nn}\\\\\n",
    "\\end{vmatrix} $+$\\cdots$+$\\begin{vmatrix} \n",
    "x_{11} & x_{12}& \\cdots & x_{1n} \\\\ \n",
    "x_{21} & x_{22}&\\cdots & x_{2n}\\\\\n",
    "\\vdots &\\vdots &   & \\vdots\\\\\n",
    "x'_{n1} & x'_{n2}&\\cdots & x'_{nn}\\\\\n",
    "\\end{vmatrix} $\n",
    "$=\\begin{vmatrix} \n",
    "a_{11}x_{11}+a_{12}x_{21}+\\cdots+a_{1n}x_{n1} & a_{11}x_{12}+a_{12}x_{22}+\\cdots+a_{1n}x_{n2} & \\cdots &a_{11}x_{1n}+a_{12}x_{2n}+\\cdots+a_{1n}x_{nn}  \\\\ \n",
    "x_{21} & x_{22}&\\cdots & x_{2n}\\\\\n",
    "\\vdots &\\vdots &   & \\vdots\\\\\n",
    "x_{n1} & x_{n2}&\\cdots & x_{nn}\\\\\n",
    "\\end{vmatrix} $ +$\\cdots$+$\\begin{vmatrix} \n",
    "x_{11} & x_{12} & \\cdots &x_{1n}  \\\\ \n",
    "x_{21} & x_{22}&\\cdots & x_{2n}\\\\\n",
    "\\vdots &\\vdots &   & \\vdots\\\\\n",
    "a_{n1}x_{11}+\\cdots+a_{nn}x_{n1} & a_{n1}x_{21}+\\cdots+a_{nn}x_{n2} & \\cdots &a_{n1}x_{1n}+\\cdots+a_{nn}x_{nn}\\\\\n",
    "\\end{vmatrix} $\n",
    "$=\\begin{vmatrix} \n",
    "a_{11}x_{11} & a_{11}x_{12}& \\cdots & a_{11}x_{1n} \\\\ \n",
    "x_{21} & x_{22}&\\cdots & x_{2n}\\\\\n",
    "\\vdots &\\vdots &   & \\vdots\\\\\n",
    "x_{n1} & x_{n2}&\\cdots & x_{nn}\\\\\n",
    "\\end{vmatrix} $+$\\cdots$+$\\begin{vmatrix} \n",
    "x_{11} & x_{12}& \\cdots & x_{1n} \\\\ \n",
    "x_{21} & x_{22}&\\cdots & x_{2n}\\\\\n",
    "\\vdots &\\vdots &   & \\vdots\\\\\n",
    "a_{nn}x_{n1} & a_{nn}x_{n2}&\\cdots &a_{nn}x_{nn}\\\\\n",
    "\\end{vmatrix} $\n",
    "\n",
    "$整理后得$\n",
    "\n",
    "$W'(t)=(a_{11}+\\cdots+a_{nn})\\begin{vmatrix} \n",
    "x_{11} & x_{12}& \\cdots & x_{1n} \\\\ \n",
    "x_{21} & x_{22}&\\cdots & x_{2n}\\\\\n",
    "\\vdots &\\vdots &   & \\vdots\\\\\n",
    "x_{n1} & x_{n2}&\\cdots & x_{nn}\\\\\n",
    "\\end{vmatrix} =(a_{11}+\\cdots+a_{nn})W(t)=(a_{11}(t)+\\cdots+a_{nn}(t))W(t)$\n",
    "\n",
    "(2)\n",
    "\n",
    "$\\because W'(t)=[a_{11}(t)+\\dots+a_{nn}(t)]W(t)$\n",
    "\n",
    "$\\therefore \\frac{dW(t)}{W(t)}=[a_{11}(t)+\\dots+a_{nn}(t)]dt$\n",
    "\n",
    "$两边从t_0到t积分$\n",
    "\n",
    "$ln|W(t)|-ln|W(t_0)|=\\int_{t_0}^{t} \\mathrm {[a_{11}(s)+\\dots+a_{nn}(s)]}\\,\\mathrm{d}s$\n",
    "\n",
    "$\\therefore W(t)=W(t_0)e^{\\int_{t_0}^{t} \\mathrm {[a_{11}(s)+\\dots+a_{nn}(s)]}\\,\\mathrm{d}s},t\\in[a,b]$\n"
   ]
  },
  {
   "cell_type": "markdown",
   "metadata": {},
   "source": [
    "$\\bf P217.T3$"
   ]
  },
  {
   "cell_type": "markdown",
   "metadata": {},
   "source": [
    "$设A(t)为区间a\\leq t \\leq b上的连续n*n实矩阵，\\Phi(t)为方程x'=A(t)x的基解矩阵，而x=\\phi(t)为其一解。试证：$\n",
    "\n",
    "$(1)对于方程y'=-A^{T}(t)y的任一解y=\\Psi (t)必有\\Psi (t)^{T}\\phi(t)=常数；$\n",
    "\n",
    "$(2)\\Psi (t)为方程y'=-A^{T}(t)y的基解矩阵的充分必要条件是存在非奇异的常数矩阵C,使\\Psi (t)^{T}\\phi(t)=C.$"
   ]
  },
  {
   "cell_type": "markdown",
   "metadata": {},
   "source": [
    "$\\bf 解：$\n",
    "\n",
    "(1)\n",
    "$[\\Psi^T(t)\\phi(t)]'=(\\Psi^T(t))'\\phi(t)+\\Psi^T(t)\\phi'(t)$\n",
    "\n",
    "$=(\\Psi^T(t))'\\phi(t)+\\Psi^T(t)A(t)\\phi(t)$\n",
    "\n",
    "$\\because \\Psi'(t)=-A^T(t)\\Psi(t)$\n",
    "\n",
    "$\\therefore (\\Psi^T(t))'=-\\Psi^T(t)A(t)$\n",
    "\n",
    "$[\\Psi^T(t)\\phi(t)]'=-\\Psi^T(t)A(t)\\phi(t)+\\Psi^T(t)A(t)\\phi(t)=0$\n",
    "\n",
    "$\\therefore 对于方程y'=-A^T(t)y的任一解y=\\Psi(t)必有\\Psi^T(t)\\phi(t)=常数$\n",
    "\n",
    "(2)\n",
    "\n",
    "$必要性：$\n",
    "\n",
    "$假设\\Psi(t)为方程y'=-A^T(t)y的基解矩阵$\n",
    "\n",
    "$则[\\Psi^T(t)\\phi(t)]'=[(\\Psi^T(t))']\\phi(t)+\\Psi^T(t)\\phi'(t)$\n",
    "\n",
    "$=[-A^T(t）\\Psi(t)]^T\\Phi(t)+\\Psi^T(t)A(t)\\Phi(t)$\n",
    "\n",
    "$=-\\Psi^T(t)A(t)\\Phi(t)+\\Psi^T(t)A(t)\\Phi(t)=0$\n",
    "\n",
    "$\\Psi^T(t)\\Phi(t)=C$\n",
    "\n",
    "$\\because \\Phi(t),\\Psi(t)分别为基解矩阵$\n",
    "\n",
    "$\\therefore det(\\Phi(t))\\neq 0,det(\\Psi(t)\\neq 0$\n",
    "\n",
    "$det(C)\\neq 0$\n",
    "\n",
    "$C是非奇异的$\n",
    "\n",
    "$充分性$\n",
    "\n",
    "$若存在非奇异常数矩阵C,det(C)\\neq 0,使得\\Psi^T(t)\\Phi(t)=C$\n",
    "\n",
    "$因为\\Phi(t)为方程x'=A(t)x的基解矩阵，所以\\Psi^{-1}(t)存在$\n",
    "\n",
    "$所以\\Psi^T(t)=C\\cdot \\Psi^{-1}(t),det(\\Psi^T(t))=det(C \\cdot \\Psi^{-1}(t))\\neq 0$\n",
    "\n",
    "$\\Psi^T(t)为方程y'=-A^T(t)y的基解矩阵$\n",
    "\n",
    "\n"
   ]
  },
  {
   "cell_type": "markdown",
   "metadata": {},
   "source": [
    "# <font color='red'>A  3/12"
   ]
  },
  {
   "cell_type": "code",
   "execution_count": null,
   "metadata": {
    "collapsed": true
   },
   "outputs": [],
   "source": []
  }
 ],
 "metadata": {
  "kernelspec": {
   "display_name": "SageMath 7.3",
   "language": "",
   "name": "sagemath"
  },
  "language_info": {
   "codemirror_mode": {
    "name": "ipython",
    "version": 2
   },
   "file_extension": ".py",
   "mimetype": "text/x-python",
   "name": "python",
   "nbconvert_exporter": "python",
   "pygments_lexer": "ipython2",
   "version": "2.7.10"
  }
 },
 "nbformat": 4,
 "nbformat_minor": 0
}
