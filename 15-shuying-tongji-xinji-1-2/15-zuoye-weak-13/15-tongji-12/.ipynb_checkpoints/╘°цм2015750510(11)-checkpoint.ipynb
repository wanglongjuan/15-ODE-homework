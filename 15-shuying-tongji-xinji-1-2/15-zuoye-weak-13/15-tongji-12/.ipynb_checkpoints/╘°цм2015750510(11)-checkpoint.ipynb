{
 "cells": [
  {
   "cell_type": "markdown",
   "metadata": {},
   "source": [
    "2.考虑方程组$\\mathbf x'=\\mathbf A(t)\\mathbf x$，其中$\\mathbf A(t)$是区间$a\\leq t\\leq b$上的连续$n\\times n$矩阵，它的元为$a_{ij}(t)(i,j=1,2,\\cdots,n)$  \n",
    "\n",
    "(1)如果$x_1(t),x_2(t),\\cdots,x_n(t)$是（5.15）的任意$n$个解，那么它们的朗斯基行列式$W[x_1(t),x_2(t),\\cdots,x_n(t)]\\equiv W(t)$满足下面的一阶线性微分方程  \n",
    "$$W'=[a_{11}(t)+a_{22}(t)+\\cdots+a_{nn}(t)]W$$  \n",
    "\n",
    "（提示：利用行列式的微分公式，求出$W'$的表达式）  \n",
    "\n",
    "（2）解上面的一阶线性微分方程，证明下面的公式：$$W(t)=W(t_0)e^{\\int_{t_0}^t[a_{11}(t)+a_{22}(t)+\\cdots+a_{nn}(t)]ds},\\quad t_0,t\\in[a,b]$$"
   ]
  },
  {
   "cell_type": "markdown",
   "metadata": {},
   "source": [
    "解：（1）将$x_1(t),x_2(t),\\cdots,x_n(t)$用向量的形式表示，并写出它们的朗斯基行列式  \n",
    "$$\\mathbf W(t)=\\begin{vmatrix}\n",
    "x_{11}(t)&x_{12}(t)&\\cdots&x_{1n}(t)\\\\\n",
    "x_{21}(t)&x_{22}(t)&\\cdots&x_{2n}(t)\\\\\n",
    "\\cdots&\\cdots&\\cdots&\\cdots\\\\\n",
    "x_{n1}(t)&x_{n2}(t)&\\cdots&x_{nn}(t)\\\\\n",
    "\\end{vmatrix}$$  \n",
    "对$\\mathbf W(t)$求导得  \n",
    "$\\begin{align}\n",
    "\\frac{d{\\mathbf W(t)}}{dt}&=\\frac{d}{dt}\\begin{vmatrix}\n",
    "x_{11}(t)&x_{12}(t)&\\cdots&x_{1n}(t)\\\\\n",
    "x_{21}(t)&x_{22}(t)&\\cdots&x_{2n}(t)\\\\\n",
    "\\cdots&\\cdots&\\cdots&\\cdots\\\\\n",
    "x_{n1}(t)&x_{n2}(t)&\\cdots&x_{nn}(t)\\\\\n",
    "\\end{vmatrix}\\\\   \n",
    "&=\\begin{vmatrix}\n",
    "x'_{11}(t)&x'_{12}(t)&\\cdots&x'_{1n}(t)\\\\\n",
    "x_{21}(t)&x_{22}(t)&\\cdots&x_{2n}(t)\\\\\n",
    "\\cdots&\\cdots&\\cdots&\\cdots\\\\\n",
    "x_{n1}(t)&x_{n2}(t)&\\cdots&x_{nn}(t)\\\\\n",
    "\\end{vmatrix}\\\\\n",
    "&+\\begin{vmatrix}\n",
    "x_{11}(t)&x_{12}(t)&\\cdots&x_{1n}(t)\\\\\n",
    "x'_{21}(t)&x'_{22}(t)&\\cdots&x'_{2n}(t)\\\\\n",
    "\\cdots&\\cdots&\\cdots&\\cdots\\\\\n",
    "x_{n1}(t)&x_{n2}(t)&\\cdots&x_{nn}(t)\\\\\n",
    "\\end{vmatrix}\\\\\n",
    "&+\\cdots+\\begin{vmatrix}\n",
    "x_{11}(t)&x_{12}(t)&\\cdots&x_{1n}(t)\\\\\n",
    "x_{21}(t)&x_{22}(t)&\\cdots&x_{2n}(t)\\\\\n",
    "\\cdots&\\cdots&\\cdots&\\cdots\\\\\n",
    "x'_{n1}(t)&x'_{n2}(t)&\\cdots&x'_{nn}(t)\\\\\n",
    "\\end{vmatrix}&&&①\n",
    "\\end{align}$  "
   ]
  },
  {
   "cell_type": "markdown",
   "metadata": {},
   "source": [
    "由于  \n",
    "$x'_{11}=a_{11}x_{11}+a_{12}x_{12}+\\cdots+a_{1n}x_{1n}$  \n",
    "$x'_{12}=a_{11}x_{12}+a_{12}x_{22}+\\cdots+a_{1n}x_{n2}$  \n",
    "$\\cdots$  \n",
    "$x'_{1n}=a_{11}x_{1n}+a_{12}x_{2n}+\\cdots+a_{1n}x_{nn}$  \n",
    "所以，由行列式的性质有"
   ]
  },
  {
   "cell_type": "markdown",
   "metadata": {
    "collapsed": true
   },
   "source": [
    "$\\begin{align}\n",
    "\\begin{vmatrix}\n",
    "x'_{11}(t)&x'_{12}(t)&\\cdots&x'_{1n}(t)\\\\\n",
    "x_{21}(t)&x_{22}(t)&\\cdots&x_{2n}(t)\\\\\n",
    "\\cdots&\\cdots&\\cdots&\\cdots\\\\\n",
    "x_{n1}(t)&x_{n2}(t)&\\cdots&x_{nn}(t)\\\\\n",
    "\\end{vmatrix}\n",
    "&=\\begin{vmatrix}\n",
    "a_{11}x_{11}(t)&a_{11}x_{12}(t)&\\cdots&a_{11}x_{1n}(t)\\\\\n",
    "x_{21}(t)&x_{22}(t)&\\cdots&x_{2n}(t)\\\\\n",
    "\\cdots&\\cdots&\\cdots&\\cdots\\\\\n",
    "x_{n1}(t)&x_{n2}(t)&\\cdots&x_{nn}(t)\\\\\n",
    "\\end{vmatrix}\\\\\n",
    "&+\\begin{vmatrix}\n",
    "a_{12}x_{21}(t)&a_{12}x_{22}(t)&\\cdots&a_{12}x_{2n}(t)\\\\\n",
    "x_{21}(t)&x_{22}(t)&\\cdots&x_{2n}(t)\\\\\n",
    "\\cdots&\\cdots&\\cdots&\\cdots\\\\\n",
    "x_{n1}(t)&x_{n2}(t)&\\cdots&x_{nn}(t)\\\\\n",
    "\\end{vmatrix}\\\\\n",
    "&+\\cdots+\\begin{vmatrix}\n",
    "a_{1n}x_{n1}(t)&a_{1n}x_{n2}(t)&\\cdots&a_{1n}x_{nn}(t)\\\\\n",
    "x_{21}(t)&x_{22}(t)&\\cdots&x_{2n}(t)\\\\\n",
    "\\cdots&\\cdots&\\cdots&\\cdots\\\\\n",
    "x_{n1}(t)&x_{n2}(t)&\\cdots&x_{nn}(t)\\\\\n",
    "\\end{vmatrix}\\\\\n",
    "&=a_{11}(t)\\mathbf W(t)\n",
    "\\end{align}$  "
   ]
  },
  {
   "cell_type": "markdown",
   "metadata": {},
   "source": [
    "同理，①式中右端第2个行列式等于$a_{22}(t)\\mathbf W(t)$，第3个行列式等于$a_{33}(t)\\mathbf W(t)$，$\\cdots$,第$n$个行列式等于$a_{nn}(t)\\mathbf W(t)$,因此，得到  \n",
    "$$\\mathbf W'(t)=[a_{11}(t)+a_{22}(t)+\\cdots+a_{nn}(t)]\\mathbf W(t)$$  \n",
    "\n",
    "（2）将上面的一阶线性微分方程化为  \n",
    "$$\\frac{d\\mathbf W(t)}{\\mathbf W(t)}=[a_{11}(t)+a_{22}(t)+\\cdots+a_{nn}(t)]dt$$  \n",
    "\n",
    "两边从$t_0$到$t$积分得到  \n",
    "$$ln|\\mathbf W(t)|-ln|\\mathbf W(t_0)|=\\int_{t_0}^t [a_{11}(s)+a_{22}(s)+\\cdots+a_{nn}(s)]ds$$  \n",
    "两边再用指数函数得到  \n",
    "$$W(t)=W(t_0)e^{\\int_{t_0}^t[a_{11}(t)+a_{22}(t)+\\cdots+a_{nn}(t)]ds}$$"
   ]
  },
  {
   "cell_type": "markdown",
   "metadata": {},
   "source": [
    "3.设$\\mathbf A(t)$为区间$a\\leq t\\leq b$上的连续$n\\times n$实矩阵，$\\mathbf Φ(t)$为方程$\\mathbf x'=\\mathbf A(t)\\mathbf x$的基解矩阵，而$\\mathbf x=\\mathbf φ(t)$为其一解.试证：  \n",
    "\n",
    "（1）对于方程$\\mathbf y'=-\\mathbf A^T(t)\\mathbf y$的任一解$\\mathbf y=\\mathbf ψ(t)$必有$\\mathbf ψ^T(t)\\mathbf φ(t)$=常数；  \n",
    "\n",
    "（2）$\\mathbf Ψ(t)$为方程$\\mathbf y'=-\\mathbf A^T(t)\\mathbf y$的基解矩阵的充分必要条件是存在非奇异的常数矩阵$C$，使$\\mathbf Ψ^T(t)\\mathbf Φ(t)=C$  "
   ]
  },
  {
   "cell_type": "markdown",
   "metadata": {
    "collapsed": true
   },
   "source": [
    "解：（1）由于$\\mathbf φ(t)$是$\\mathbf x'=\\mathbf A(t)\\mathbf x$的解，则有  \n",
    "$$\\mathbf φ'(t)=\n",
    "\\begin{pmatrix}\n",
    "φ'_1(t)\\\\\n",
    "φ'_2(t)\\\\\n",
    "\\cdots\\\\\n",
    "φ'_n(t)\\\\\n",
    "\\end{pmatrix}\n",
    "=\\begin{pmatrix}\n",
    "a_{11}&a_{12}&\\cdots&a_{1n}\\\\\n",
    "a_{21}&a_{22}&\\cdots&a_{2n}\\\\\n",
    "\\cdots&\\cdots&\\cdots&\\cdots\\\\\n",
    "a_{n1}&a_{n2}&\\cdots&a_{nn}\\\\\n",
    "\\end{pmatrix}\n",
    "\\begin{pmatrix}\n",
    "φ_1(t)\\\\\n",
    "φ_2(t)\\\\\n",
    "\\cdots\\\\\n",
    "φ_n(t)\\\\\n",
    "\\end{pmatrix}\n",
    "=\\begin{pmatrix}\n",
    "\\sum_{k=1}^n a_{1k}φ_k\\\\\n",
    "\\sum_{k=1}^n a_{2k}φ_k\\\\\n",
    "\\cdots\\\\\n",
    "\\sum_{k=1}^n a_{nk}φ_k\\\\\n",
    "\\end{pmatrix}$$"
   ]
  },
  {
   "cell_type": "markdown",
   "metadata": {},
   "source": [
    "同理，由于$\\mathbf ψ(t)$是方程$\\mathbf y'=-\\mathbf A^T(t)\\mathbf y$的解，有  \n",
    "$$\\mathbf ψ'(t)=\n",
    "\\begin{pmatrix}\n",
    "ψ'_1(t)\\\\\n",
    "ψ'_2(t)\\\\\n",
    "\\cdots\\\\\n",
    "ψ'_n(t)\\\\\n",
    "\\end{pmatrix}\n",
    "=-\\begin{pmatrix}\n",
    "a_{11}&a_{21}&\\cdots&a_{n1}\\\\\n",
    "a_{12}&a_{22}&\\cdots&a_{n2}\\\\\n",
    "\\cdots&\\cdots&\\cdots&\\cdots\\\\\n",
    "a_{1n}&a_{2n}&\\cdots&a_{nn}\\\\\n",
    "\\end{pmatrix}\n",
    "\\begin{pmatrix}\n",
    "ψ_1(t)\\\\\n",
    "ψ_2(t)\\\\\n",
    "\\cdots\\\\\n",
    "ψ_n(t)\\\\\n",
    "\\end{pmatrix}\n",
    "=-\\begin{pmatrix}\n",
    "\\sum_{k=1}^n a_{k1}ψ_k\\\\\n",
    "\\sum_{k=1}^n a_{k2}ψ_k\\\\\n",
    "\\cdots\\\\\n",
    "\\sum_{k=1}^n a_{kn}ψ_k\\\\\n",
    "\\end{pmatrix}$$"
   ]
  },
  {
   "cell_type": "markdown",
   "metadata": {},
   "source": [
    "对$\\mathbf ψ^T(t)\\mathbf φ(t)$求导，得  \n",
    "\\begin{align}\n",
    "\\frac{d(\\mathbf ψ^T(t)\\mathbf φ(t))}{dt}&=\\frac{d \\mathbf ψ^T(t)}{dt}\\mathbf φ(t)+\\mathbf ψ^T(t)\\frac{d\\mathbf φ(t)}{dt}\\\\   \n",
    "&=-(\\sum_{k=1}^n a_{k1}ψ_k,\\sum_{k=1}^n a_{k2}ψ_k,\\cdots,\\sum_{k=1}^n a_{kn}ψ_k)\n",
    "\\begin{pmatrix}\n",
    "φ_1(t)\\\\\n",
    "φ_2(t)\\\\\n",
    "\\cdots\\\\\n",
    "φ_n(t)\\\\\n",
    "\\end{pmatrix}+\n",
    "(ψ_1(t),ψ_2(t),\\cdots,ψ_n(t))\n",
    "\\begin{pmatrix}\n",
    "\\sum_{k=1}^n a_{1k}φ_k\\\\\n",
    "\\sum_{k=1}^n a_{2k}φ_k\\\\\n",
    "\\cdots\\\\\n",
    "\\sum_{k=1}^n a_{nk}φ_k\\\\\n",
    "\\end{pmatrix}\\\\  \n",
    "&=-[\\sum_{k=1}^n a_{k1}ψ_kφ_1+\\sum_{k=1}^n a_{k2}ψ_kφ_2+\\cdots+\\sum_{k=1}^n a_{kn}ψ_kφ_n]+[\\sum_{k=1}^n ψ_1a_{1k}φ_k+\\sum_{k=1}^n ψ_2a_{2k}φ_k+\\cdots+\\sum_{k=1}^n ψ_na_{nk}φ_k]\\\\\n",
    "&=-\\sum_{k=1}^n \\sum_{i=1}^n(a_{ki}ψ_kφ_i) +\\sum_{k=1}^n \\sum_{i=1}^n(ψ_ia_{ik}φ_k)\\\\\n",
    "&=-\\sum_{k=1}^n \\sum_{i=1}^n(a_{ki}ψ_kφ_i)+\\sum_{k=1}^n \\sum_{i=1}^n(a_{ki}ψ_kφ_i)\\\\\n",
    "&=0\n",
    "\\end{align}"
   ]
  },
  {
   "cell_type": "markdown",
   "metadata": {},
   "source": [
    "所以，$\\mathbf ψ^T(t)\\mathbf φ(t)$=常数"
   ]
  },
  {
   "cell_type": "markdown",
   "metadata": {},
   "source": [
    "（2）充分性：存在非奇异矩阵$C$,使得$\\mathbf Ψ^T(t)\\mathbf Φ(t)=C$，由于$\\mathbf Φ(t)$是方程$\\mathbf x'=\\mathbf A(t)\\mathbf x$的基解矩阵,故$\\mathbf Φ^{-1}(t)$存在,所以$\\mathbf Ψ^T(t)=C\\cdot \\mathbf Φ^{-1}(t) $且$det(\\mathbf Ψ^T(t))=det(C\\cdot \\mathbf Φ^{-1}(t))\\neq 0$.因此,$\\mathbf Ψ(t)$是基解矩阵"
   ]
  },
  {
   "cell_type": "markdown",
   "metadata": {},
   "source": [
    "必要性：$\\mathbf Ψ(t)$是基解矩阵,则$\\mathbf Ψ(t)$的每一个列向量$ψ_1(t),ψ_2(t),\\cdots,ψ_n(t)$与$\\mathbf Φ(t)$的每一个列向量$φ_1(t),φ_2(t),\\cdots,φ_n(t)$满足$ψ^T_i(t)φ_j(t)$=常数,$i=1,2,\\cdots,n,j=1,2,\\cdots,n$.则$\\mathbf Ψ^T(t)\\mathbf Φ(t)$是常数矩阵,记为$c$,另外由于$\\mathbf Φ(t),\\mathbf Ψ(t)$分别是基解矩阵,从而$det(\\mathbf Φ(t))\\neq 0,det(\\mathbf Ψ^T(t))\\neq 0,$则$det C=det(\\mathbf Φ(t))\\cdot det(\\mathbf Ψ^T(t))\\neq 0$ 即矩阵$C$是非奇异的."
   ]
  },
  {
   "cell_type": "markdown",
   "metadata": {
    "collapsed": true
   },
   "source": [
    "# <font color='red'>A  3/12"
   ]
  },
  {
   "cell_type": "code",
   "execution_count": null,
   "metadata": {
    "collapsed": true
   },
   "outputs": [],
   "source": []
  }
 ],
 "metadata": {
  "kernelspec": {
   "display_name": "SageMath 7.3",
   "language": "",
   "name": "sagemath"
  },
  "language_info": {
   "codemirror_mode": {
    "name": "ipython",
    "version": 2
   },
   "file_extension": ".py",
   "mimetype": "text/x-python",
   "name": "python",
   "nbconvert_exporter": "python",
   "pygments_lexer": "ipython2",
   "version": "2.7.10"
  }
 },
 "nbformat": 4,
 "nbformat_minor": 0
}
