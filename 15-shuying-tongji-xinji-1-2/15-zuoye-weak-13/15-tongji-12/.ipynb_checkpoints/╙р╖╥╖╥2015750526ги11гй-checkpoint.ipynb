{
 "cells": [
  {
   "cell_type": "markdown",
   "metadata": {},
   "source": [
    "$2.考虑方程组$  \n",
    "$$x'=A(t)x,\\quad(5.15)$$  \n",
    "$其中A(t)是区间a\\leq t\\leq b上的连续n\\times n矩阵，它的元为a_{ij}(t)(i,j=1,2,\\cdots,n).$  \n",
    "$(1)如果x_1(t),x_2(t),\\cdots,x_n(t)是(5.15)任意n个解，那么它们的朗斯基行列式W[x_1(t),x_2(t),\\cdots,x_n(t)]\\equiv W(t)满足下面的一阶线性微分方程$  \n",
    "$$W'=[a_{11}(t)+a_{22}(t)+\\cdots+a_{nn}(t)]W;$$  \n",
    "$(2)解上面的一阶线性微分方程，证明下面的公式：$  \n",
    "$$W(t)=W(t_0)e^{\\int_{t_0}^t[a_{11}(s)+a_{22}(s)+\\cdots+a_{nn}(s)]ds},t_0,t\\in[a,b].$$  \n",
    "$解：(1)W'(t)=\\begin{vmatrix}\n",
    "x_{11}'&x_{12}'&\\cdots&x_{1n}'\\\\\n",
    "x_{21}&x_{22}&\\cdots&x_{2n}\\\\\n",
    "\\vdots&\\vdots&\\quad&\\vdots\\\\\n",
    "x_{n1}&x_{n2}&\\cdots&x_{nn}\\\\\n",
    "\\end{vmatrix}+\\begin{vmatrix}\n",
    "x_{11}&x_{12}&\\cdots&x_{1n}\\\\\n",
    "x_{21}'&x_{22}'&\\cdots&x_{2n}'\\\\\n",
    "\\vdots&\\vdots&\\quad&\\vdots\\\\\n",
    "x_{n1}&x_{n2}&\\cdots&x_{nn}\\\\\n",
    "\\end{vmatrix}+\\cdots+\\begin{vmatrix}\n",
    "x_{11}&x_{12}&\\cdots&x_{1n}\\\\\n",
    "x_{21}&x_{22}&\\cdots&x_{2n}\\\\\n",
    "\\vdots&\\vdots&\\quad&\\vdots\\\\\n",
    "x_{n1}'&x_{n2}'&\\cdots&x_{nn}'\\\\\n",
    "\\end{vmatrix}$  \n",
    "$=\\begin{vmatrix}\n",
    "a_{11}x_{11}+a_{12}x_{21}+\\cdots+a_{1n}x_{n1}&a_{11}x_{12}+a_{12}x_{22}+\\cdots+a_{1n}x_{n2}&\\cdots&a_{11}x_{1n}+a_{12}x_{2n}+\\cdots+a_{1n}x_{nn}\\\\\n",
    "x_{21}&x_{22}&\\cdots&x_{2n}\\\\\n",
    "\\vdots&\\vdots&\\quad&\\vdots\\\\\n",
    "x_{n1}&x_{n2}&\\cdots&x_{nn}\\\\\n",
    "\\end{vmatrix}+\\cdots+\\begin{vmatrix}\n",
    "x_{11}&x_{12}&\\cdots&x_{1n}\\\\\n",
    "x_{21}&x_{22}&\\cdots&x_{2n}\\\\\n",
    "\\vdots&\\vdots&\\quad&\\vdots\\\\\n",
    "a_{n1}x_{11}+\\cdots+a_{nn}x_{n1}&a_{n1}x_{21}+\\cdots+a_{nn}x_{n2}&\\cdots&a_{n1}x_{1n}+\\cdots+a_{nn}x_{nn}\n",
    "\\end{vmatrix}$  \n",
    "$=\\begin{vmatrix}\n",
    "a_{11}x_{11}&a_{11}x_{12}&\\cdots&a_{11}x_{1n}\\\\\n",
    "x_{21}&x_{22}&\\cdots&x_{2n}\\\\\n",
    "\\vdots&\\vdots&\\quad&\\vdots\\\\\n",
    "x_{n1}&x_{n2}&\\cdots&x_{nn}\\\\\n",
    "\\end{vmatrix}+\\cdots+\\begin{vmatrix}\n",
    "x_{11}&x_{12}&\\cdots&x_{1n}\\\\\n",
    "x_{21}&x_{22}&\\cdots&x_{2n}\\\\\n",
    "\\vdots&\\vdots&\\quad&\\vdots\\\\\n",
    "a_{nn}x_{n1}&a_{nn}x_{n2}&\\cdots&a_{nn}x_{nn}\\\\\n",
    "\\end{vmatrix}$  \n",
    "$整理后原式变为$  \n",
    "$(a_{11}+\\cdots+a_{nn})\\begin{vmatrix}\n",
    "x_{11}&x_{12}&\\cdots&x_{1n}\\\\\n",
    "x_{21}&x_{22}&\\cdots&x_{2n}\\\\\n",
    "\\vdots&\\vdots&\\quad&\\vdots\\\\\n",
    "x_{n1}&x_{n2}&\\cdots&x_{nn}\\\\\n",
    "\\end{vmatrix}=(a_{11}+\\cdots+a_{nn})W(t)$  \n",
    "$=(a_{11}(t)+\\cdots+a_{nn}(t))W(t).$  \n",
    "$(2)由于W'(t)=[a_{11}(t)+\\cdots+a_{nn}(t)]W(t),$  \n",
    "$即\\frac{dW(t)}{W(t)}=[a_{11}(t)+\\cdots+a_{nn}(t)]dt两边从t_0到t积分$  \n",
    "$\\ln|W(t)|-\\ln|W(t_0)|=\\int_{t_0}^t[a_{11}(s)+\\cdots+a_{nn}(s)]ds,$  \n",
    "$即W(t)=W(t_0)e^{\\int_{t_0}^t[a_{11}(s)+\\cdots+a_{nn}(s)]ds},t\\in[a,b].$  \n",
    "\n",
    "$3.设A(t)为区间a\\leq t\\leq b上的连续n\\times n实矩阵，\\Phi(t)为方程x'=A(t)x的基解矩阵，而x=\\varphi(t)为其一解，试证：$  \n",
    "$(1)对于方程y'=-A^T(t)y的任一解y=\\Psi(t)必有\\Psi^T(t)\\varphi(t)=常数；$  \n",
    "$(2)\\Psi(t)为方程y'=-A^T(t)y的基解矩阵的充要条件是存在非奇异的常数矩阵C，使\\Psi^T(t)\\Phi(t)=C.$  \n",
    "$解：(1)[\\Psi^T(t)\\varphi(t)]'=(\\Psi^T(t))'\\varphi(t)+\\Psi^T(t)\\varphi'(t)=(\\Psi^T(t))'\\varphi(t)+\\Psi^T(t)A(t)\\varphi(t),$  \n",
    "$因为\\Psi'(t)=-A^T(t)\\Psi(t),所以，(\\Psi^T(t))'=-\\Psi^T(t)A(t),$  \n",
    "$从而[\\Psi^T(t)\\varphi(t)]'=-\\Psi^T(t)A(t)\\varphi(t)+\\Psi^T(t)A(t)\\varphi(t)=0,$  \n",
    "$所以对于方程y'=-A^T(t)y的任一解y=\\Psi(t)必有\\Psi^T(t)\\varphi(t)=常数.$  \n",
    "$(2)必要性:$  \n",
    "$假设\\Psi(t)为方程y'=-A^T(t)y的基解矩阵，则$  \n",
    "$[\\Psi^T(t)\\Phi(t)]'=[\\Psi^T(t)]'\\Phi(t)+\\Psi^T(t)\\Phi'(t)$  \n",
    "$=[-A^T(t)\\Psi(t)]^T\\Phi(t)+\\Psi(t)^TA(t)\\Phi(t)=-\\Psi^T(t)A(t)\\Phi(t)+\\Psi^T(t)A(t)\\Phi(t)=0,$  \n",
    "$故\\Psi^T(t)\\Phi(t)=C.$  \n",
    "$由于\\Phi(t)、\\Psi(t)分别是基解矩阵，从而\\det(\\Phi(t))\\neq0,\\det(\\Psi(t))\\neq0,这样，\\det(C)\\neq0,即C是非奇异的.$  \n",
    "$充分性：$  \n",
    "$若存在非奇异常数矩阵C，\\det C\\neq0,使\\Psi^T(t)\\Phi(t)=C,由于\\Phi(t)为方程x'=A(t)x的基解矩阵，故\\Phi^{-1}(t)存在，所以\\Psi^T(t)=C·\\Phi^{-1}(t),并且\\det(\\Psi^T(t))=\\det(C·\\Phi^{-1}(t))\\neq0,即\\Psi(t)为方程y'=-A^T(t)y的基解矩阵.$"
   ]
  },
  {
   "cell_type": "markdown",
   "metadata": {
    "collapsed": true
   },
   "source": [
    "# <font color='red'>A  3/12"
   ]
  },
  {
   "cell_type": "code",
   "execution_count": null,
   "metadata": {
    "collapsed": true
   },
   "outputs": [],
   "source": []
  }
 ],
 "metadata": {
  "kernelspec": {
   "display_name": "SageMath 7.3",
   "language": "",
   "name": "sagemath"
  },
  "language_info": {
   "codemirror_mode": {
    "name": "ipython",
    "version": 2
   },
   "file_extension": ".py",
   "mimetype": "text/x-python",
   "name": "python",
   "nbconvert_exporter": "python",
   "pygments_lexer": "ipython2",
   "version": "2.7.10"
  }
 },
 "nbformat": 4,
 "nbformat_minor": 0
}
