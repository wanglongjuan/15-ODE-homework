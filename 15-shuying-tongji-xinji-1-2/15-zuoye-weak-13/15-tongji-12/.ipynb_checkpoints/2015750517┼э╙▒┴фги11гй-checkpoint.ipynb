{
 "cells": [
  {
   "cell_type": "markdown",
   "metadata": {},
   "source": [
    "2.考虑方程组$x'=A(t)x$,其中A(t)是区间$a\\leq t\\leq b$上的连续n×n矩阵，它的元为$a_{ij}(t)(i,j=1,2,…,n)$.  \n",
    "（1）如果$x_1(t),x_2(t),…,x_n(t)是上式的任意n个解，那么它们的朗斯基行列式$W[x_1(t),x_2(t),…,x_n(t)]≡W(t);  \n",
    "（2）解上面的一阶线性微分方程，证明下面的公式：  \n",
    "$W(t)=W(t_0)e^{\\int^t_{t_0}[a_{11}(s)+a_{22}(s)+…+a_{nn}(s)]ds},t_0,t∈ [a,b]$"
   ]
  },
  {
   "cell_type": "markdown",
   "metadata": {},
   "source": [
    "解：（1）用向量的形式表示$x_1(t),x_2(t),…,x_n(t)$,并写出它们的朗斯基行列式为  \n",
    "$$W(t)=\\begin{vmatrix} x_{11}(t)&x_{12}(t)&…&x_{1n}(t)\\\\x_{21}(t)&x_{22}(t)&…&x_{2n}(t)\\\\…&…&…&…\\\\x_{n1}(t)&x_{n2}(t)&…&x_{nn}(t)\\end{vmatrix}$$  \n",
    "对W(t)求导得  \n",
    "$$\\frac{dW(t)}{dt}=\\frac d{dt}\\begin{vmatrix} x_{11}(t)&x_{12}(t)&…&x_{1n}(t)\\\\x_{21}(t)&x_{22}(t)&…&x_{2n}(t)\\\\…&…&…&…\\\\x_{n1}(t)&x_{n2}(t)&…&x_{nn}(t)\\end{vmatrix}  \n",
    "=\\begin{vmatrix} x'_{11}(t)&x'_{12}(t)&…&x'_{1n}(t)\\\\x_{21}(t)&x_{22}(t)&…&x_{2n}(t)\\\\…&…&…&…\\\\x_{n1}(t)&x_{n2}(t)&…&x_{nn}(t)\\end{vmatrix}+\\begin{vmatrix} x_{11}(t)&x_{12}(t)&…&x_{1n}(t)\\\\x'_{21}(t)&x'_{22}(t)&…&x'_{2n}(t)\\\\…&…&…&…\\\\x_{n1}(t)&x_{n2}(t)&…&x_{nn}(t)\\end{vmatrix}+…+\\begin{vmatrix} x_{11}(t)&x_{12}(t)&…&x_{1n}(t)\\\\x_{21}(t)&x_{22}(t)&…&x_{2n}(t)\\\\…&…&…&…\\\\x'_{n1}(t)&x'_{n2}(t)&…&x'_{nn}(t)\\end{vmatrix}$$……①  \n",
    "由于  \n",
    "$x'_{11}=a_{11}x_{11}+a_{12}x_{21}+…+a_{1n}x_{n1}$，  \n",
    "$x'_{12}=a_{11}x_{12}+a_{12}x_{22}+…+a_{1n}x_{n2}$,  \n",
    "……  \n",
    "$x'_{1n}=a_{11}x_{1n}+a_{12}x_{2n}+…+a_{1n}x_{nn}$,  \n",
    "所以，由行列式的性质有  \n",
    "$\\begin{vmatrix} x'_{11}(t)&x'_{12}(t)&…&x'_{1n}(t)\\\\x_{21}(t)&x_{22}(t)&…&x_{2n}(t)\\\\…&…&…&…\\\\x_{n1}(t)&x_{n2}(t)&…&x_{nn}(t)\\end{vmatrix}$  \n",
    "=$\\begin{vmatrix} a_{11}x_{11}(t)&a_{12}x_{12}(t)&a_{11}x_{13}(t)&…&a_{11}x_{1n}(t)\\\\x_{21}(t)&x_{22}(t)&x_{23}(t)&…&x_{2n}(t)\\\\…&…&…&…&…\\\\x_{n1}(t)&x_{n2}(t)&x_{n3}(t)&…&x_{nn}(t)\\end{vmatrix}+\\begin{vmatrix} a_{12}x_{21}(t)&a_{12}x_{22}(t)&a_{12}x_{23}(t)&…&a_{12}x_{2n}(t)\\\\x_{21}(t)&x_{22}(t)&x_{23}(t)&…&x_{2n}(t)\\\\…&…&…&…&…\\\\x_{n1}(t)&x_{n2}(t)&x_{n3}(t)&…&x_{nn}(t)\\end{vmatrix}  \n",
    "+…  \n",
    "+\\begin{vmatrix} a_{1n}x_{n1}(t)&a_{1n}x_{n2}(t)&a_{1n}x_{n3}(t)&…&a_{1n}x_{nn}(t)\\\\x_{21}(t)&x_{22}(t)&x_{23}(t)&…&x_{2n}(t)\\\\…&…&…&…&…\\\\x_{n1}(t)&x_{n2}(t)&x_{n3}(t)&…&x_{nn}(t)\\end{vmatrix}$  \n",
    "=$a_{11}(t)W(t).$  \n",
    "同理，①中右端第二个行列式等于$a_{22}(t)W(t)$,第3个行列式等于$a_{33}(t)W(t)$,…第n个行列式等于$a_{nn}W(t)$，因此得到  \n",
    "$\\frac{dW(t)}{dt}=W'(t)=[a_{11}(t)+a_{22}(t)+…+a_{nn}(t)]W(t)$  \n",
    "（2）对上面的一阶线性微分方程变形为  \n",
    "$\\frac{dW}w=[a_n(t)+a_{22}t+…+a_{nn}(t)]dt$,  \n",
    "对上式从$t_0$到t积分得到  \n",
    "$\\ln|W(t)|-\\ln|W(t_0)|=\\int^t_{t_0}[a_{11}(s)+a_{22}(s)+…+a_{nn}(s)]ds$,  \n",
    "两边再作用指数函数，得到  \n",
    "$W(t)=W(t_0)e^{\\int^t_0[a_{11}(s)+a_{22}(s)+…+a_{nn}(s)]ds}$"
   ]
  },
  {
   "cell_type": "markdown",
   "metadata": {
    "collapsed": true
   },
   "source": [
    "3.设A(t)为区间$a\\leq t\\leq b$上的连续n×n实矩阵，Φ(t)为方程$x'=A(t)x$的基解矩阵，而x=φ(t)为其一解。试证:  \n",
    "（1）对于方程$y'=-A^T(t)y$的任一解y=Ψ(t)必有$Ψ^T(t)φ(t)=常数$；  \n",
    "（2）Ψ(t)为方程$y'=-A^T(t)y$的基解矩阵的充要条件是存在非奇异的常数矩阵C，使$Ψ^T(t)Φ(t)=C$."
   ]
  },
  {
   "cell_type": "markdown",
   "metadata": {},
   "source": [
    "证明：  \n",
    "（1）由于φ(t)是x'=A(t)x的解，于是  \n",
    "$φ'(t)=\\begin{bmatrix}φ'_1(t)\\\\φ'_2(t)\\\\…\\\\φ'_n(t)\\end{bmatrix}=\\begin{bmatrix}a_{11}&a_{12}&…&a_{1n}\\\\a_{21}&a_{22}&…&a_{2n}\\\\…&…&…&…\\\\a_{n1}&a_{n2}&…&a_{nn}\\end{bmatrix}\\begin{bmatrix}φ_1(t)\\\\φ_2(t)\\\\…\\\\φ_n(t)\\end{bmatrix}=\\begin{bmatrix}\\displaystyle\\sum_{k=1}^na_{1k}φ_k\\\\ \\displaystyle\\sum_{k=1}^na_{2k}φ_k\\\\…\\\\ \\displaystyle\\sum_{k=1}^na_{nk}φ_k\\end{bmatrix}$  \n",
    "同理，由于Ψ(t)是方程$y'=-A^Ty$的解，于是  \n",
    "$Ψ'(t)=\\begin{bmatrix}Ψ'_1(t)\\\\Ψ'_2(t)\\\\…\\\\Ψ'_n(t)\\end{bmatrix}=-\\begin{bmatrix}a_{11}&a_{21}&…&a_{n1}\\\\a_{12}&a_{22}&…&a_{n2}\\\\…&…&…&…\\\\a_{1n}&a_{2n}&…&a_{nn}\\end{bmatrix}\\begin{bmatrix}Ψ_1(t)\\\\Ψ_2(t)\\\\…\\\\Ψ_n(t)\\end{bmatrix}=-\\begin{bmatrix}\\displaystyle\\sum_{k=1}^na_{k1}φ_k\\\\ \\displaystyle\\sum_{k=1}^na_{k2}φ_k\\\\…\\\\ \\displaystyle\\sum_{k=1}^na_{kn}φ_k\\end{bmatrix}$  \n",
    "而对于$Ψ^T(t)φ(t)$求导函数得  \n",
    "$\\frac{d(Ψ^T(t)φ(t))}{dt}=\\frac{dΨ^T(t)}{dt}φ(t)+Ψ^T(t)\\bullet\\frac{dφ(t)}{dt}$  \n",
    "=$-(\\displaystyle\\sum_{k=1}^na_{k1}φ_k,\\displaystyle\\sum_{k=1}^na_{k2}φ_k,…，\\displaystyle\\sum_{k=1}^na_{kn}φ_k)\\bullet\\begin{bmatrix}φ_1(t)\\\\φ_2(t)\\\\…\\\\φ_n(t)\\end{bmatrix}+(Ψ_1(t),Ψ_2(t),…，Ψ_n(t))\\bullet\\begin{bmatrix}\\displaystyle\\sum_{k=1}^na_{1k}φ_k\\\\ \\displaystyle\\sum_{k=1}^na_{2k}φ_k\\\\…\\\\ \\displaystyle\\sum_{k=1}^na_{nk}φ_k\\end{bmatrix}$  \n",
    "=$-[\\displaystyle\\sum_{k=1}^na_{k1}Ψ_kφ_1+\\displaystyle\\sum_{k=1}^na_{k2}Ψ_kφ_2+…+\\displaystyle\\sum_{k=1}^na_{kn}Ψ_kφ_n]+[\\displaystyle\\sum_{k=1}^nΨ_1a_{1k}φ_k+\\displaystyle\\sum_{k=1}^nΨ_2a_{2k}φ_k+…+\\displaystyle\\sum_{k=1}^nΨ_ka_{nk}φ_k]$  \n",
    "=-$\\displaystyle\\sum_{k=1}^n\\displaystyle\\sum_{k=1}^n(a_{ki}Ψ_kφ_i)+\\displaystyle\\sum_{k=1}^n\\displaystyle\\sum_{k=1}^n(Ψ_ia_{ik}φ_k)$  \n",
    "=-$\\displaystyle\\sum_{k=1}^n\\displaystyle\\sum_{k=1}^n(a_{ki}Ψ_kφ_i)+\\displaystyle\\sum_{k=1}^n\\displaystyle\\sum_{k=1}^n(a_{ik}Ψ_iφ_k)$  \n",
    "=0  \n",
    "所以$Ψ^T(t)φ(t)=常数$。  \n",
    "（2）充分性  \n",
    "存在非奇异矩阵C，使得$Ψ^T(t)Φ(t)=C$，  \n",
    "由于Φ(t)是$x'=A(t)x$的基解矩阵，  \n",
    "故$Φ^{-1}(t)$存在，所以$Ψ^T(t)=C\\bulletΦ^{-1}(t)$,  \n",
    "并且$det(Ψ^T(t))=det(C\\bulletΦ^{-1}(t))\\neq0$.  \n",
    "因此，Ψ(t)是基解矩阵。  \n",
    "必要性  \n",
    "Ψ(t)是基解矩阵，  \n",
    "则Ψ(t)的每一个列向量$Ψ_1(t),Ψ_2(t),…，Ψ_n(t)$与Φ(t)的每一个列向量$φ_1(t),φ_2(t),…,φ_n(t)$满足$Ψ_i^T(t)φ_j(t)=常数$，i=1,2,…,n.  \n",
    "也就是说$Ψ^T(t)Φ(t)$是常数矩阵，记为c，  \n",
    "另外由于Φ(t)，Ψ(t)分别是基解矩阵，  \n",
    "从而$det(Φ(t))\\neq0,det(Ψ^T(t))\\neq0$,  \n",
    "这样$detC=det(Φ(t))\\bullet det(Φ^T(t))\\neq0$,  \n",
    "也就是C是非奇异的。"
   ]
  },
  {
   "cell_type": "markdown",
   "metadata": {
    "collapsed": true
   },
   "source": [
    "# <font color='red'>A  3/12"
   ]
  },
  {
   "cell_type": "code",
   "execution_count": null,
   "metadata": {
    "collapsed": true
   },
   "outputs": [],
   "source": []
  }
 ],
 "metadata": {
  "kernelspec": {
   "display_name": "SageMath 7.3",
   "language": "",
   "name": "sagemath"
  },
  "language_info": {
   "codemirror_mode": {
    "name": "ipython",
    "version": 2
   },
   "file_extension": ".py",
   "mimetype": "text/x-python",
   "name": "python",
   "nbconvert_exporter": "python",
   "pygments_lexer": "ipython2",
   "version": "2.7.10"
  }
 },
 "nbformat": 4,
 "nbformat_minor": 0
}
