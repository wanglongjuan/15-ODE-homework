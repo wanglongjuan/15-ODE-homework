{
 "cells": [
  {
   "cell_type": "markdown",
   "metadata": {},
   "source": [
    "$P216页2、考虑方程组x'=A(t)x,(*),其中A(t)是区间a\\leq t\\leq b上的连续n*n矩阵，它的元为a_{ij}(t)(i,j=1,2,\\dots,n).$\n",
    "\n",
    "$(1)如果x_1(t),x_2(t),\\dots,x_n(t)是(*)的任意n个解，那么它们的朗斯基行列式W[x_1(t),x_2(t),\\dots,x_n(t)]\\equiv W(t)满足下面的一阶线$\n",
    "\n",
    "$性微分方程W'=[a_{11}(t),\\dots,a_{nn}(t)]W.$\n",
    "\n",
    "$(2)解上面的一阶线性微分方程,证明下面公式:W(t)=W(t_0)e^{\\int_{t_0}^{t} \\mathrm {[a_{11}(s)+\\dots+a_{nn}(s)]}\\,\\mathrm{d}s},t\\in[a,b]$\n",
    "\n",
    "$解:(1)W'(t)=\\begin{vmatrix} x'_{11}&x'_{12}&\\dots&x'_{1n}\\\\x_{21}&x_{22}&\\dots&x_{2n}\\\\\\vdots&\\vdots&  &\\vdots\\\\x_{n1}&x_{n2}&\\dots&x_{nn}\\\\\\end{vmatrix}+\\begin{vmatrix} x_{11}&x_{12}&\\dots&x_{1n}\\\\x'_{21}&x'_{22}&\\dots & x'_{2n}\\\\\\vdots&\\vdots&  &\\vdots\\\\x_{n1}&x_{n2}&\\dots&x_{nn}\\\\\\end{vmatrix}+\\begin{vmatrix} x_{11}&x_{12}&\\dots &x_{1n}\\\\x_{21}&x_{22}&\\dots&x_{2n}\\\\\\vdots&\\vdots&  &\\vdots\\\\x'_{n1}&x'_{n2}&\\dots&x'_{nn}\\\\\\end{vmatrix}$\n",
    "\n",
    "$=\\begin{vmatrix} a_{11}x_{11}+a_{12}x_{21}+\\dots+a_{1n}x_{n1}& a_{11}x_{12}+a_{12}x_{22}+\\dots+a_{1n}x_{n2}&\\dots&a_{11}x_{1n}+a_{12}x_{2n}+\\dots+a_{1n}x_{nn}\\\\x_{21}&x_{22}&\\dots&x_{2n}\\\\\\vdots &\\vdots&  &\\vdots\\\\x_{n1} &x_{n2}&\\dots&x_{nn}\\\\\\end{vmatrix}+\\dots+$\n",
    "\n",
    "$\\begin{vmatrix} x_{11}&x_{12}&\\dots&x_{1n}\\\\x_{21}&x_{22}&\\dots&x_{2n}\\\\\\vdots&\\vdots&  &\\vdots\\\\a_{n1}x_{11}+\\dots+a_{nn}x_{n1}&a_{n1}x_{21}+\\dots+a_{nn}x_{n2}&\\dots&a_{n1}x_{1n}+\\dots+a_{nn}x_{nn}\\\\\\end{vmatrix}$\n",
    "\n",
    "$=\\begin{vmatrix} a_{11}x_{11}&a_{11}x_{12}&\\dots&a_{11}x_{1n}\\\\x_{21}&x_{22}&\\dots&x_{2n}\\\\\\vdots&\\vdots&  &\\vdots\\\\x_{n1}&x_{n2}&\\dots&x_{nn}\\\\\\end{vmatrix}+\\dots+\\begin{vmatrix} x_{11}&x_{12}&\\dots&x_{1n}\\\\x_{21}&x_{22}&\\dots&x_{2n}\\\\\\vdots&\\vdots&  &\\vdots\\\\a_{nn}x_{n1}&a_{nn}x_{n2}&\\dots&a_{nn}x_{nn}\\\\\\end{vmatrix}$\n",
    "\n",
    "$整理后，变为W'(t)=(a_{11}+\\dots+a_{nn})\\begin{vmatrix} x_{11}&x_{12}&\\dots&x_{1n}\\\\x_{21}&x_{22}&\\dots&x_{2n}\\\\\\vdots&\\vdots&  &\\vdots\\\\x_{n1}&x_{n2}&\\dots&x_{nn}\\\\\\end{vmatrix}=(a_{11}+\\dots+a_{nn})W(t)=(a_{11}(t)+\\dots+a_{nn}(t))W(t)$\n",
    "\n",
    "$(2)由于W'(t)=[a_{11}(t)+\\dots+a_{nn}(t)]W(t),即\\frac{dW(t)}{W(t)}=[a_{11}(t)+\\dots+a_{nn}(t)]dt两边从t_0到t积分$\n",
    "\n",
    "$ln|W(t)|-ln|W(t_0)|=\\int_{t_0}^{t} \\mathrm {[a_{11}(s)+\\dots+a_{nn}(s)]}\\,\\mathrm{d}s$\n",
    "\n",
    "$即W(t)=W(t_0)e^{\\int_{t_0}^{t} \\mathrm {[a_{11}(s)+\\dots+a_{nn}(s)]}\\,\\mathrm{d}s},t\\in[a,b]$"
   ]
  },
  {
   "cell_type": "code",
   "execution_count": null,
   "metadata": {
    "collapsed": true
   },
   "outputs": [],
   "source": []
  },
  {
   "cell_type": "markdown",
   "metadata": {},
   "source": [
    "$3、设A(t)为区间a\\leq t \\leq b上的连续n*n实矩阵，\\Phi(t)为方程x'=A(t)x的基解矩阵，而x=\\phi(t)为其一解。试证：$\n",
    "\n",
    "$(1)对于方程y'=-A^{T}(t)y的任一解y=\\Psi (t)必有\\Psi (t)^{T}\\phi(t)=常数；$\n",
    "\n",
    "$(2)\\Psi (t)为方程y'=-A^{T}(t)y的基解矩阵的充分必要条件是存在非奇异的常数矩阵C,使\\Psi (t)^{T}\\phi(t)=C.$\n",
    "\n",
    "$解:(1)[ψ^T(t)φ(t)]'=(ψ^T(t))'φ(t)+ψ^T(t)φ'(t)=(ψ^T(t))'φ(t)+ψ^T(t)A(t)φ(t)$\n",
    "\n",
    "$因为ψ'(t)=-A^T(t)ψ(t),所以(ψ^T(t))'=-ψ^T(t)A(t)$\n",
    "\n",
    "$从而[ψ^T(t)φ(t)]'=-ψ^T(t)A(t)φ(t)+ψ^T(t)A(t)φ(t)=0$\n",
    "\n",
    "$所以对于方程y'=-A^T(t)y的任一解y=ψ(t)必有ψ^T(t)φ(t)=常数$\n",
    "\n",
    "$(2)“必要性”$\n",
    "\n",
    "$假设\\Psi(t)为方程y'=-A^T(t)y的基解矩阵，则[\\Psi^T(t)\\phi(t)]'=[\\Psi^T(t)]'\\phi(t)+\\Psi^T(t)\\phi'(t)$\n",
    "\n",
    "$=[-A^T(t）\\Psi(t)]^T\\Phi(t)+\\Psi^T(t)A(t)\\Phi(t)$\n",
    "\n",
    "$=-\\Psi^T(t)A(t)\\Phi(t)+\\Psi^T(t)A(t)\\Phi(t)=0$\n",
    "\n",
    "$所以\\Psi^T(t)\\Phi(t)=C$\n",
    "\n",
    "$由于\\Phi(t),\\Psi(t)分别为基解矩阵,从而det(\\Phi(t))\\neq 0,det(\\Psi(t)\\neq 0,这样det(C)\\neq 0,即C是非奇异的$\n",
    "\n",
    "$“充分性”$\n",
    "\n",
    "$若存在非奇异常数矩阵C,det(C)\\neq 0,使得\\Psi^T(t)\\Phi(t)=C$\n",
    "\n",
    "$由于\\Phi(t)为方程x'=A(t)x的基解矩阵，所以\\Psi^{-1}(t)存在$\n",
    "\n",
    "$故\\Psi^T(t)=C·\\Psi^{-1}(t),并且det(\\Psi^T(t))=det(C·\\Psi^{-1}(t))\\neq 0,即\\Psi^T(t)是方程y'=-A^T(t)y的基解矩阵.$"
   ]
  },
  {
   "cell_type": "markdown",
   "metadata": {},
   "source": [
    "# <font color='red'>A  3/12"
   ]
  },
  {
   "cell_type": "code",
   "execution_count": null,
   "metadata": {
    "collapsed": true
   },
   "outputs": [],
   "source": []
  }
 ],
 "metadata": {
  "kernelspec": {
   "display_name": "SageMath 7.3",
   "language": "",
   "name": "sagemath"
  },
  "language_info": {
   "codemirror_mode": {
    "name": "ipython",
    "version": 2
   },
   "file_extension": ".py",
   "mimetype": "text/x-python",
   "name": "python",
   "nbconvert_exporter": "python",
   "pygments_lexer": "ipython2",
   "version": "2.7.10"
  }
 },
 "nbformat": 4,
 "nbformat_minor": 0
}
