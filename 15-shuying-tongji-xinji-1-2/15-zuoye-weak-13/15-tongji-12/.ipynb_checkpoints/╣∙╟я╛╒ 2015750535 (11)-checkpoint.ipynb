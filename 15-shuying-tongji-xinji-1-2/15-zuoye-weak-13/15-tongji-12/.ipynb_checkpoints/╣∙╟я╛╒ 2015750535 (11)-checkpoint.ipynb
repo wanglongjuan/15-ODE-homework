{
 "cells": [
  {
   "cell_type": "markdown",
   "metadata": {},
   "source": [
    "# 常微分作业十一\n",
    "\n",
    "**P216**\n",
    "\n",
    "2.考虑方程组$$\\mathrm x'=A(t)x  (5.15)$$其中$A(t)是区间a\\leq t \\leq b上的连续n\\times n矩阵，它的元为a_{ij}(t)(i,j=1,2,\\dots,n).$\n",
    "\n",
    "$(1)如果x_1(t),x_2(t),\\dots,x_n(t)是(5.15)的任意n个解，那么它们的朗斯基行列式W\\begin {bmatrix}x_1(t)&x_2(t)\n",
    ",\\dots,x_n(t)\\end {bmatrix}\\equiv W(t)$\n",
    "\n",
    "$满足下面的一阶线性微分方程$\n",
    "$$\n",
    "W'=\\begin {bmatrix}a_{11}(t)+a_{22}(t)+\\dots+a_{nn}(t)\\end {bmatrix}W;\n",
    "$$\n",
    "\n",
    "$(提示：利用行列式的微分公式，求出W'的表达式。)$\n",
    "\n",
    "$(2)解上面的一阶线性微分方程，证明下面的公式：$\n",
    "\n",
    "$W(t)=W(t_0)e^{\\int_{t_0}^t\\begin {bmatrix}a_{11}(t)+a_{22}(s)+\\dots+a_{nn}(s)\\end {bmatrix}ds},t_0,t\\in\\begin {bmatrix}a,b\\end {bmatrix}.$\n",
    "\n",
    "$~~~~~~$\n",
    "\n",
    "$解：W'(t)=\\begin {vmatrix}x'_{11}&x'_{12}&\\dots&x'_{1n}\\\\x_{21}&x_{22}&\\dots&x_{2n}\\\\ \\vdots&\\vdots&   &\\vdots\\\\ x_{n1}&x_{n2}&\\dots&x_{nn}\\end {vmatrix}+\\begin {vmatrix}x_{11}&x_{12}&\\dots&x_{1n}\\\\x'_{21}&x'_{22}&\\dots&x'_{2n}\\\\ \\vdots&\\vdots&   &\\vdots\\\\ x_{n1}&x_{n2}&\\dots&x_{nn}\\end {vmatrix}+\\dots+\\begin {vmatrix}x_{11}&x_{12}&\\dots&x_{1n}\\\\x_{21}&x_{22}&\\dots&x_{2n}\\\\ \\vdots&\\vdots&   &\\vdots\\\\ x'_{n1}&x'_{n2}&\\dots&x'_{nn}\\end {vmatrix}$\n",
    "\n",
    "$=\\begin {vmatrix}a_{11}x_{11}+a_{12}x_{21}+\\dots+a_{1n}x_{n1}&a_{11}x_{12}+a_{12}x_{22}+\\dots+a_{1n}x_{n2}&\\dots&a_{11}x_{1n}+a_{12}x_{2n}+\\dots+a_{nn}x_{n1}\\\\x_{21}&x_{22}&\\dots&x_{2n}\\\\ \\vdots&\\vdots&   &\\vdots\\\\ x_{n1}&x_{n2}&\\dots&x_{nn}\\end {vmatrix}$\n",
    "\n",
    "$+\\dots+\\begin {vmatrix}x_{11}&x_{12}&\\dots&x_{1n}\\\\x_{21}&x_{22}&\\dots&x_{2n}\\\\ \\vdots&\\vdots&   &\\vdots\\\\ a_{n1}x_{11}+\\dots+a_{nn}x_{n1}&a_{n1}x_{21}+\\dots+a_{nn}x_{n2}&\\dots&a_{n1}x_{1n}+\\dots+a_{nn}x_{nn}\\end {vmatrix}$\n",
    "\n",
    "$=\\begin {vmatrix}a_{11}x_{11}&a_{11}x_{12}&\\dots&a_{11}x_{1n}\\\\x_{21}&x_{22}&\\dots&x_{2n}\\\\ \\vdots&\\vdots&   &\\vdots\\\\ x_{n1}&x_{n2}&\\dots&x_{nn}\\end {vmatrix}+\\dots+\\begin {vmatrix}x_{11}&x_{12}&\\dots&x_{1n}\\\\x_{21}&x_{22}&\\dots&x_{2n}\\\\ \\vdots&\\vdots&   &\\vdots\\\\ a_{nn}x_{n1}&a_{nn}x_{n2}&\\dots&a_{nn}x_{nn}\\end {vmatrix}$\n",
    "\n",
    "$整理后变为：$\n",
    "\n",
    "$W'(t)=(a_{11}+\\dots+a_{nn})\\begin {vmatrix}x_{11}&x_{12}&\\dots&x_{1n}\\\\x_{21}&x_{22}&\\dots&x_{2n}\\\\ \\vdots&\\vdots&   &\\vdots\\\\ x_{n1}&x_{n2}&\\dots&x_{nn}\\end {vmatrix}=(a_{11}+\\dots+a_{nn})W(t)$\n",
    "\n",
    "$(2)由于W'(t)=\\begin {bmatrix}a_{11}(t)+a_{22}(t)+\\dots+a_{nn}(t)\\end {bmatrix}W(t);$\n",
    "\n",
    "$即有\\frac{\\mathrm dW(t)}{W(t)}=\\begin {bmatrix}a_{11}(t)+a_{22}(t)+\\dots+a_{nn}(t)\\end {bmatrix}{\\mathrm dt},两边从t_0到t积分$\n",
    "\n",
    "$ln\\mid W(t)\\mid-ln\\mid W(t_0)\\mid=\\int_{t_0}^t\\begin {bmatrix}a_{11}(t)+a_{22}(s)+\\dots+a_{nn}(s)\\end {bmatrix}ds,即有W(t)=W(t_0)e^{\\int_{t_0}^t\\begin {bmatrix}a_{11}(t)+a_{22}(s)+\\dots+a_{nn}(s)\\end {bmatrix}ds},t\\in\\begin {bmatrix}a,b\\end {bmatrix}$\n",
    "\n",
    "$~~~~~~~~$\n",
    "\n",
    "$~~~~~~~~~$\n",
    "\n",
    "$3.设A(t)为区间a\\leq t\\leq b上的连续n\\times n实矩阵，\\phi(t)为方程x'=A(t)x的基解矩阵，$\n",
    "\n",
    "$而x=\\varphi(t)为其一解，试证：$\n",
    "\n",
    "$(1)对于方程y'=-A^T(t)y的任一解y=\\psi(t)必有\\psi^T(t)\\varphi(t)=常数；$\n",
    "\n",
    "$(2)\\psi(t)为方程y'=-A^T(t)y的基解矩阵的充要条件是存在非奇异矩阵C,使\\psi^T\\phi(t)=C.$\n",
    "\n",
    "$~~~~~$\n",
    "\n",
    "$解:（1）\\begin {bmatrix}\\psi^T\\phi(t)\\end{bmatrix}=(\\psi^T(t))'\\varphi(t)+\\psi^T(t)\\varphi'(t)=(\\psi^T(t))'\\varphi(t)+\\psi^T(t)A(t)\\varphi(t)$\n",
    "\n",
    "\n",
    "$因为\\psi'(t)=-A^T(t)\\psi(t),所以(\\psi^T(t))'=-\\psi^T(t)A(t)$\n",
    "\n",
    "$从而\\begin {bmatrix}\\psi^T\\phi(t)\\end{bmatrix}'=-\\psi^T(t)A(t)\\varphi(t)+\\psi^T(t)A(t)\\varphi(t)=0$\n",
    "\n",
    "$所以对于方程y'=-A^T(t)y的任一解y=\\psi(t)必有\\psi^T(t)\\varphi(t)=常数$\n",
    "\n",
    "(2)$“必要性”$\n",
    "\n",
    "$假设\\psi(t)为方程y'=A^T(t)y的基解矩阵，则$\n",
    "\n",
    "$\\begin {bmatrix}\\psi^T\\phi(t)\\end{bmatrix}'=\\begin {bmatrix}\\psi^T(t)\\end{bmatrix}'\\phi(t)+\\psi^T(t)\\phi'(t)=\\begin {bmatrix}-A^T(t)\\psi(t)\\end{bmatrix}^T+\\psi^T(t)A(t)\\phi(t)=-\\psi^T(t)A(t)\\phi(t)+\\psi^T(t)A(t)\\phi(t)=0$\n",
    "\n",
    "$故有\\psi^T(t)\\phi(t)=C$\n",
    "\n",
    "$由于\\psi(t).\\phi(t)分别是基解矩阵，从而det(\\phi(t))\\neq 0,det(\\psi(t))\\neq 0,这样det(C)\\neq 0,即C是非奇异的。$\n",
    "\n",
    "\n",
    "$“充分性”$\n",
    "\n",
    "$若存在非奇异常数矩阵C,detC\\neq 0,使\\psi^T(t)\\phi(t)=C,由于\\phi(t)为方程x'=A(t)x的基解矩阵$\n",
    "\n",
    "$故\\phi^{-1}(t)存在，所以\\psi^T(t)=C\\phi^{-1}(t),并且det(\\psi^T(t))=det(C\\phi(t))\\neq0 ,即\\psi(t)为方程y'=-A^T(t)y的基解矩阵。$"
   ]
  },
  {
   "cell_type": "markdown",
   "metadata": {
    "collapsed": true
   },
   "source": [
    "# <font color='red'>A  3/12"
   ]
  },
  {
   "cell_type": "code",
   "execution_count": null,
   "metadata": {
    "collapsed": true
   },
   "outputs": [],
   "source": []
  }
 ],
 "metadata": {
  "kernelspec": {
   "display_name": "SageMath 7.3",
   "language": "",
   "name": "sagemath"
  },
  "language_info": {
   "codemirror_mode": {
    "name": "ipython",
    "version": 2
   },
   "file_extension": ".py",
   "mimetype": "text/x-python",
   "name": "python",
   "nbconvert_exporter": "python",
   "pygments_lexer": "ipython2",
   "version": "2.7.10"
  }
 },
 "nbformat": 4,
 "nbformat_minor": 0
}
