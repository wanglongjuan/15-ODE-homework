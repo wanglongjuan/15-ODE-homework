{
 "cells": [
  {
   "cell_type": "markdown",
   "metadata": {},
   "source": [
    "## 第十一次常微分作业 2015750512 刘奥恋 15统计学班 ####"
   ]
  },
  {
   "cell_type": "markdown",
   "metadata": {},
   "source": [
    "$$2、考虑方程组x'=A(t)x其中A(t)\\quad \\quad\\cdots (*)是区间a\\leq t \\leq b上的n\\times n连续矩阵，它的元为a_{ij}(t)(i,j=1,2,...,n)$$\n",
    "\n",
    "$（1）如果x_1(t),x_2(t),...,x_n(t)是的(*)任意n个解，那么它们的朗期基行列式W[x_1(t).x_2(t),..,x_n(t))]\\equiv W(t)满足下面的一阶微分方程W'=[a_{11}(t)+a_{22}(t)+...+a_{nn}(t)]W$\n",
    "\n",
    "$（2）解上面的一阶线性微分方程，证明下面公式：$\n",
    "\n",
    "$$W(t)=W(t_0)e^{\\int_{t_0}^t[a_{11}(s)+a_{22}(s)+...+a_{nn}(s)]ds},t_0,t\\in[a,b]\n",
    "$$\n",
    "\n",
    "$解：W'(t)=\\begin{vmatrix}  x_{11}' & x_{12}' & \\cdots & x_{1n}'          \\\\[0.3em] x_{21}' &  x_{22}'& \\cdots & x_{2n}'            \\\\[0.3em]       \\vdots &\\vdots & \\vdots &  \\vdots            \\\\[0.3em]x_{n1}' & x_{n2}' & \\cdots & x_{nn}' \\end{vmatrix}+\\begin{vmatrix}  x_{11} & x_{12} & \\cdots & x_{1n}          \\\\[0.3em] x_{21}' &  x_{22}'& \\cdots & x_{2n}'           \\\\[0.3em]       \\vdots &\\vdots & \\vdots &  \\vdots            \\\\[0.3em]x_{n1} & x_{n2} & \\cdots & x_{nn} \\end{vmatrix}+\\cdots+\\begin{vmatrix}  x_{11} & x_{12} & \\cdots & x_{1n}          \\\\[0.3em] x_{21} &  x_{22}& \\cdots & x_{2n}            \\\\[0.3em]       \\vdots &\\vdots & \\vdots &  \\vdots            \\\\[0.3em]x_{n1}' & x_{n2}' & \\cdots & x_{nn}' \\end{vmatrix}$\n",
    "\n",
    "$=\\begin{vmatrix}  a_{11}x_{11}+a_{12}x_{21}+\\cdots+a_{1n}x_{n1} &  a_{11}x_{12}+a_{12}x_{22}+\\cdots+a_{1n}x_{n2} & \\cdots &  a_{11}x_{1n}+a_{12}x_{2n}+\\cdots+a_{1n}x_{nn}         \\\\[0.3em] x_{21} &  x_{22}& \\cdots & x_{2n}           \\\\[0.3em]       \\vdots &\\vdots & \\vdots &  \\vdots            \\\\[0.3em]x_{n1} & x_{n2} & \\cdots & x_{nn} \\end{vmatrix}+\\cdots+ \\begin{vmatrix}  x_{11} & x_{12} & \\cdots & x_{1n}        \\\\[0.3em] x_{21} &  x_{22}& \\cdots & x_{2n}           \\\\[0.3em]       \\vdots &\\vdots & \\vdots &  \\vdots            \\\\[0.3em]a_{n1}x_{11}+\\cdots+a_{nn}x_{n1} &  a_{n1}x_{21}+\\cdots+a_{nn}x_{n2} & \\cdots &  a_{n1}x_{1n}+\\cdots+a_{nn}x_{nn}         \\end{vmatrix}$\n",
    "\n",
    "$=\\begin{vmatrix}  a_{11}x_{11} & a_{11}x_{12} & \\cdots & a_{11}x_{1n}         \\\\[0.3em] x_{21} &  x_{22}& \\cdots & x_{2n}            \\\\[0.3em]       \\vdots &\\vdots & \\vdots &  \\vdots            \\\\[0.3em]x_{n1} & x_{n2} & \\cdots & x_{nn} \\end{vmatrix}+\\cdots+\\begin{vmatrix}  x_{11} & x_{12} & \\cdots & x_{1n}         \\\\[0.3em] x_{21} &  x_{22}& \\cdots & x_{2n}            \\\\[0.3em]       \\vdots &\\vdots & \\vdots &  \\vdots            \\\\[0.3em]a_{nn}x_{n1} & a_{nn}x_{n2} & \\cdots & a_{nn}x_{nn} \\end{vmatrix}$\n",
    "\n",
    "$整理后可得$\n",
    "\n",
    "$$W'（t）=(a_{11}+\\cdots+a_{nn})\\begin{vmatrix}  x_{11} & x_{12} & \\cdots & x_{1n}          \\\\[0.3em] x_{21} &  x_{22}& \\cdots & x_{2n}           \\\\[0.3em]       \\vdots &\\vdots & \\vdots &  \\vdots            \\\\[0.3em]x_{n1} & x_{n2} & \\cdots & x_{nn} \\end{vmatrix}=(a_{11}+\\cdots+a_{nn})W(t)$$\n",
    "$(2)由于W'(t)=[a_{11}(t)+a_{22}(t)+...+a_{nn}(t)]W(t)$\n",
    "\n",
    "$即\\frac{dW(t)}{W(t)}=[a_{11}(t)+a_{22}(t)+...+a_{nn}(t)]dt，两边从t_0到t积分$\n",
    "\n",
    "$ln|W(t)|-ln|W(t_0)|=\\int_{t_0}^t [a_{11}(s)+a_{22}(s)+...+a_{nn}(s)]ds$\n",
    "\n",
    "$即W(t)=W(t_0)e^{\\int_{t_0}^t=[a_{11}(s)+a_{22}(s)+...+a_{nn}(s)]ds},t\\in[a,b]$\n"
   ]
  },
  {
   "cell_type": "markdown",
   "metadata": {},
   "source": [
    "$设A（t）为区间a\\leq t \\leq b上的连续n\\times n实矩阵，\\Phi(t)为方程x'=A(t)x的基解矩阵，而x=\\varphi(t)为其一解，试证：$\n",
    "\n",
    "$（1）对于方程y'=-A^{T}(t)y的任一解y=，必有\\Psi^{T}(t) \\varphi(t)=常数$\n",
    "\n",
    "$（2）\\Psi(t)为方程y'=-A^{T}(t)y的基解矩阵的充要条件是存在非奇异的常数矩阵C，使\\Psi^{T}(t)\\Phi(t)=C$\n",
    "\n",
    "$解：（1）$\n",
    "\n",
    "$$\\begin{aligned} \n",
    "｛=\\Psi^{T}(t) \\varphi(t)｝' \n",
    "& =(\\Psi^{T}(t))'\\varphi(t)+\\Psi^{T}\\varphi'(t)\\\\\n",
    "& =(\\Psi^{T}(t))'\\varphi(t)+\\Psi^{T}A(t)\\varphi(t)\\end{aligned}\n",
    "$$\n",
    "\n",
    "$因为\\Psi'(t)=-A^{T}(t)\\Psi(t)，所以(\\Psi^{T}(t))'=-\\Psi^{T}(t)A(t)$\n",
    "\n",
    "$从而[\\Psi^{T}(t)\\Phi(t)]'=-\\Psi^{T}(t)A(t)\\varphi(t)+\\Psi^{T}(t)A(t)\\varphi(t)=0$\n",
    "\n",
    "$所以对于方程的y'=-A^{T}(t)y任一解，必有\\Psi^{T}(t) \\varphi(t)=常数$\n",
    "\n",
    "$（2）必要性：$\n",
    "\n",
    "$假设\\Psi^{T}(t)为方程y'=-A^{T}(t)y的基解矩阵，则$\n",
    "\n",
    "$$\\begin{aligned} \n",
    "｛=\\Psi^{T}(t) \\Phi(t)｝' \n",
    "& =(\\Psi^{T}(t))'\\Phi(t)+\\Psi^{T}\\Phi'(t)\\\\\n",
    "& =[-A(t)^{T}(t)\\Psi(t)]^{T}\\Phi(t)+\\Psi^{T}(t))A(t)\\Phi(t)\\\\\n",
    "& =(-\\Psi^{T}(t)A(t)\\Phi(t)+\\Psi(t)^{T}A(t)\\Phi(t)=0\\end{aligned}\n",
    "$$\n",
    "\n",
    "$故\\Psi^{T}(t)\\Phi(t)=C$\n",
    "\n",
    "$由于\\Psi(t),\\Phi(t)分别是基解矩阵，从而det(\\Phi(t))\\neq0，det(\\Psi(t))\\neq0,这样det(C)\\neq0，即是非奇异的$\n",
    "\n",
    "$充分性：$\n",
    "\n",
    "$若存在非奇异常数矩阵C,det(C)\\neq0，使\\Psi^{T}(t)\\Phi(t)=C，由于\\Phi(t)为方程x'=A(t)x的基解矩阵，故\\Phi^{-1}(t)存在$\n",
    "\n",
    "$所以\\Psi^{T}(t)=C，并且det(\\Psi^{T}(t))=det(C\\Phi^{-1}(t))\\neq0$\n",
    "\n",
    "$即\\Psi(t)为方程y'=-A^{T}(t)y的基解矩阵$\n"
   ]
  },
  {
   "cell_type": "markdown",
   "metadata": {},
   "source": [
    "# <font color='red'>A  3/12"
   ]
  },
  {
   "cell_type": "code",
   "execution_count": null,
   "metadata": {
    "collapsed": true
   },
   "outputs": [],
   "source": []
  }
 ],
 "metadata": {
  "kernelspec": {
   "display_name": "SageMath 7.3",
   "language": "",
   "name": "sagemath"
  },
  "language_info": {
   "codemirror_mode": {
    "name": "ipython",
    "version": 2
   },
   "file_extension": ".py",
   "mimetype": "text/x-python",
   "name": "python",
   "nbconvert_exporter": "python",
   "pygments_lexer": "ipython2",
   "version": "2.7.10"
  }
 },
 "nbformat": 4,
 "nbformat_minor": 0
}
