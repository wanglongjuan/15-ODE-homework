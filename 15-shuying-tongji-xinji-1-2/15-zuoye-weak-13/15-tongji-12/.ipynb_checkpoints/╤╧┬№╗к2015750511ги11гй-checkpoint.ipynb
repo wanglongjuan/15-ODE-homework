{
 "cells": [
  {
   "cell_type": "markdown",
   "metadata": {
    "collapsed": true
   },
   "source": [
    "### $ 2.考虑方程组x^{'}=A(t)x,\\dotsb \\dotsb(5.15)$\n",
    "### $ 其中A(t)是区间a\\leq t \\leq b上的连续n*n矩阵，它的元为a_{ij}(t)(i,j=1,2,\\dots,n).$"
   ]
  },
  {
   "cell_type": "markdown",
   "metadata": {},
   "source": [
    "### $ (1)如果x_1(t),x_2(t),\\dotsb,x_n(t)是(5.15)的任意n个解，那么它们的朗斯基行列式W[x_1(t),x_2(t),\\dotsb,x_n(t)]\\equiv W(t)$\n",
    "### $满足下列的一阶线性微分方程$$W^{'}=[a_{11}(t)+a_{22}(t)+\\dotsb+a_{nn}(t)]W(提示：利用行列式的微分方程，求出W^{'}的表达式.)$"
   ]
  },
  {
   "cell_type": "markdown",
   "metadata": {},
   "source": [
    "#### $(1)解：因为：x^{'}=A(t)x,$\n",
    "#### $\\begin{bmatrix}\n",
    " x^{'}_1  \\\\\n",
    " x^{'}_2  \\\\\n",
    " \\vdots \\\\\n",
    " x^{'}_n\n",
    "\\end{bmatrix}=\\begin{bmatrix}\n",
    " a_{11}(t) & a_{12}(t) & \\dotsb & a_{1n}(t)\\\\\n",
    " a_{21}(t) & a_{22}(t) & \\dotsb & a_{2n}(t)\\\\\n",
    " \\vdots    & \\vdots    & \\dotsb & \\vdots \\\\\n",
    "a_{n1}(t) & a_{n2}(t) & \\dotsb & a_{nn}(t)\\\\\n",
    "\\end{bmatrix}\\begin{bmatrix}\n",
    " x_1  \\\\\n",
    " x_2  \\\\\n",
    " \\vdots \\\\\n",
    " x_n\n",
    "\\end{bmatrix}\n",
    "$\n",
    "#### $它们的朗斯基行列式$$W(t)=\\begin{bmatrix}\n",
    " x_{11}(t) & x_{12}(t) & \\dotsb & x_{1n}(t)\\\\\n",
    " x_{21}(t) & x_{22}(t) & \\dotsb & x_{2n}(t)\\\\\n",
    " \\vdots    & \\vdots    & \\dotsb & \\vdots \\\\\n",
    "x_{n1}(t) & x_{n2}(t) & \\dotsb & x_{nn}(t)\\\\\n",
    "\\end{bmatrix}\n",
    "$\n",
    "\n",
    "#### $对朗斯基行列式求导得：$\n",
    "#### $W^{'}(t)=\\begin{bmatrix}\n",
    " x^{'}_{11}(t) & x^{'}_{12}(t) & \\dotsb & x^{'}_{1n}(t)\\\\\n",
    " x_{21}(t) & x_{22}(t) & \\dotsb & x_{2n}(t)\\\\\n",
    " \\vdots    & \\vdots    & \\dotsb & \\vdots \\\\\n",
    "x_{n1}(t) & x_{n2}(t) & \\dotsb & x_{nn}(t)\\\\\n",
    "\\end{bmatrix}+\\begin{bmatrix}\n",
    " x_{11}(t) & x_{12}(t) & \\dotsb & x_{1n}(t)\\\\\n",
    " x^{'}_{21}(t) & x^{'}_{22}(t) & \\dotsb & x^{'}_{2n}(t)\\\\\n",
    " \\vdots    & \\vdots    & \\dotsb & \\vdots \\\\\n",
    "x_{n1}(t) & x_{n2}(t) & \\dotsb & x_{nn}(t)\\\\\n",
    "\\end{bmatrix}+\\dotsb  \\dotsb+\\begin{bmatrix}\n",
    " x_{11}(t) & x_{12}(t) & \\dotsb & x_{1n}(t)\\\\\n",
    " x_{21}(t) & x_{22}(t) & \\dotsb & x_{2n}(t)\\\\\n",
    " \\vdots    & \\vdots    & \\dotsb & \\vdots \\\\\n",
    "x^{'}_{n1}(t) & x^{'}_{n2}(t) & \\dotsb & x^{'}_{nn}(t)\\\\\n",
    "\\end{bmatrix}\n",
    "$\n",
    "#### $=\\begin{bmatrix}\n",
    " a_{11}x_{11}+a_{12}x_{21}+\\dotsb+a_{1n}x_{n1} & a_{11}x_{12}+a_{12}x_{22}+\\dotsb+a_{1n}x_{n2} & \\dotsb & a_{11}x_{1n}+a_{12}x_{2n}+\\dotsb+a_{1n}x_{nn}\\\\\n",
    " x_{21}(t) & x_{22}(t) & \\dotsb & x_{2n}(t)\\\\\n",
    " \\vdots    & \\vdots    & \\dotsb & \\vdots \\\\\n",
    "x_{n1}(t) & x_{n2}(t) & \\dotsb & x_{nn}(t)\\\\\n",
    "\\end{bmatrix}+\\begin{bmatrix}\n",
    " x_{11}(t) & x_{12}(t) & \\dotsb & x_{1n}(t)\\\\\n",
    " a_{21}x_{11}+a_{22}x_{21}+\\dotsb+a_{2n}x_{n1} & a_{21}x_{12}+a_{22}x_{22}+\\dotsb+a_{2n}x_{n2} & \\dotsb & a_{21}x_{1n}+a_{22}x_{2n}+\\dotsb+a_{2n}x_{nn}\\\\\n",
    " \\vdots    & \\vdots    & \\dotsb & \\vdots \\\\\n",
    "x_{n1}(t) & x_{n2}(t) & \\dotsb & x_{nn}(t)\\\\\n",
    "\\end{bmatrix}+\\dotsb  \\dotsb+\\begin{bmatrix}\n",
    " x_{11}(t) & x_{12}(t) & \\dotsb & x_{1n}(t)\\\\\n",
    " x_{21}(t) & x_{22}(t) & \\dotsb & x_{2n}(t)\\\\\n",
    " \\vdots    & \\vdots    & \\dotsb & \\vdots \\\\\n",
    " a_{n1}x_{11}+a_{n2}x_{21}+\\dotsb+a_{nn}x_{n1} & a_{n1}x_{12}+a_{n2}x_{22}+\\dotsb+a_{nn}x_{n2} & \\dotsb & a_{n1}x_{1n}+a_{n2}x_{2n}+\\dotsb+a_{nn}x_{nn}\\\\\n",
    "\\end{bmatrix}\n",
    "$\n",
    "#### $=(a_{11}(t)+a_{22}(t)+\\dotsb+a_{nn}(t))\\begin{bmatrix}\n",
    " x_{11}(t) & x_{12}(t) & \\dotsb & x_{1n}(t)\\\\\n",
    " x_{21}(t) & x_{22}(t) & \\dotsb & x_{2n}(t)\\\\\n",
    " \\vdots    & \\vdots    & \\dotsb & \\vdots \\\\\n",
    "x_{n1}(t) & x_{n2}(t) & \\dotsb & x_{nn}(t)\\\\\n",
    "\\end{bmatrix}=[a_{11}(t)+a_{22}(t)+\\dotsb+a_{nn}(t)]W\n",
    "$"
   ]
  },
  {
   "cell_type": "markdown",
   "metadata": {},
   "source": [
    "### $ (2)解上面的一阶线性微分方程，证明下面的公式：W(t)=W(t_0)e^{\\int_{t_0}^t [a_{11}(s)+a_{22}(s)+\\dotsb+a_{nn}(s)]\\,\\mathrm{d}s},t_0,t \\in [a,b]$"
   ]
  },
  {
   "cell_type": "markdown",
   "metadata": {},
   "source": [
    "#### $证明：对W^{'}=[a_{11}(t)+a_{22}(t)+\\dotsb+a_{nn}(t)]W,自t_0到t积分得：$\n",
    "\n",
    "#### $\n",
    "\\ln|W(t)|-\\ln|W(t_0)|=\\int_{t_0}^t [a_{11}(s)+a_{22}(s)+\\dotsb+a_{nn}(s)]\\,\\mathrm{d}s\n",
    "$\n",
    "\n",
    "#### $即：$\n",
    "#### $W(t)=W(t_0)e^{\\int_{t_0}^t [a_{11}(s)+a_{22}(s)+\\dotsb+a_{nn}(s)]\\,\\mathrm{d}s},t_0,t \\in [a,b]\n",
    "$"
   ]
  },
  {
   "cell_type": "markdown",
   "metadata": {},
   "source": [
    "### $ 3.设A(t)是区间a\\leq t \\leq b上的连续n*n实矩阵，\\Phi(t)为方程x^{'}=A(t)x的基解矩阵，而x=\\varphi(t)为其一解.试证：$\n",
    "### $ (1)对于方程y^{'}=-A^{T}(t)y的任一解y=\\psi(t)必有\\psi^{T}(t)\\varphi(t)=常数$\n",
    "### $ (2)\\Psi(t)为方程y^{'}=-A^{T}(t)y的基解矩阵的充要条件是存在非奇异的常数矩阵C，使\\Psi^{T}(t)\\varphi(t)=C$"
   ]
  },
  {
   "cell_type": "markdown",
   "metadata": {},
   "source": [
    "#### $(1)解：因x=\\varphi(t)为x^{'}=A(t)x的解，$\n",
    "#### $则：\\varphi^{'}(t)=\n",
    "\\begin{bmatrix}\n",
    " \\varphi^{'}_1(t)  \\\\\n",
    " \\varphi^{'}_2(t)  \\\\\n",
    " \\vdots \\\\\n",
    " \\varphi^{'}_n(t)\n",
    "\\end{bmatrix}=\\begin{bmatrix}\n",
    " a_{11}(t) & a_{12}(t) & \\dotsb & a_{1n}(t)\\\\\n",
    " a_{21}(t) & a_{22}(t) & \\dotsb & a_{2n}(t)\\\\\n",
    " \\vdots    & \\vdots    & \\dotsb & \\vdots \\\\\n",
    "a_{n1}(t) & a_{n2}(t) & \\dotsb & a_{nn}(t)\\\\\n",
    "\\end{bmatrix}\\begin{bmatrix}\n",
    " \\varphi_1(t)  \\\\\n",
    " \\varphi_2(t)  \\\\\n",
    " \\vdots \\\\\n",
    " \\varphi_n(t)\n",
    "\\end{bmatrix}\n",
    "$\n",
    "#### $又因y=\\psi(t)为y^{'}=-A^{T}(t)y的解，则：$\n",
    "#### $\\psi^{'}(t)=\n",
    "\\begin{bmatrix}\n",
    " \\psi^{'}_1(t)  \\\\\n",
    " \\psi^{'}_2(t)  \\\\\n",
    " \\vdots \\\\\n",
    " \\psi^{'}_n(t)\n",
    "\\end{bmatrix}=\\begin{bmatrix}\n",
    " a_{11}(t) & a_{21}(t) & \\dotsb & a_{n1}(t)\\\\\n",
    " a_{12}(t) & a_{22}(t) & \\dotsb & a_{n2}(t)\\\\\n",
    " \\vdots    & \\vdots    & \\dotsb & \\vdots \\\\\n",
    "a_{1n}(t) & a_{2n}(t) & \\dotsb & a_{nn}(t)\\\\\n",
    "\\end{bmatrix}\\begin{bmatrix}\n",
    " \\psi_1(t)  \\\\\n",
    " \\psi_2(t)  \\\\\n",
    " \\vdots \\\\\n",
    " \\psi_n(t)\n",
    "\\end{bmatrix}\n",
    "$\n",
    "#### $对\\psi^{T}(t)\\varphi(t)求导得：$\n",
    "#### $(\\psi^{T}(t)\\varphi(t))^{'}=(\\psi^{T}(t)))^{'}\\varphi(t)+\\psi^{T}(t)(\\varphi(t)))^{'}\n",
    "=\\begin{bmatrix}\n",
    " a_{11}(t) & a_{21}(t) & \\dotsb & a_{n1}(t)\\\\\n",
    " a_{12}(t) & a_{22}(t) & \\dotsb & a_{n2}(t)\\\\\n",
    " \\vdots    & \\vdots    & \\dotsb & \\vdots \\\\\n",
    "a_{1n}(t) & a_{2n}(t) & \\dotsb & a_{nn}(t)\\\\\n",
    "\\end{bmatrix}\\begin{bmatrix}\n",
    " \\psi_1(t)  \\\\\n",
    " \\psi_2(t)  \\\\\n",
    " \\vdots \\\\\n",
    " \\psi_n(t)\n",
    "\\end{bmatrix}\\begin{bmatrix}\n",
    " \\varphi_1(t)  \\\\\n",
    " \\varphi_2(t)  \\\\\n",
    " \\vdots \\\\\n",
    " \\varphi_n(t)\n",
    "\\end{bmatrix}+\\begin{bmatrix}\n",
    " \\psi_1(t)  \\\\\n",
    " \\psi_2(t)  \\\\\n",
    " \\vdots \\\\\n",
    " \\psi_n(t)\n",
    "\\end{bmatrix}\\begin{bmatrix}\n",
    " a_{11}(t) & a_{21}(t) & \\dotsb & a_{n1}(t)\\\\\n",
    " a_{12}(t) & a_{22}(t) & \\dotsb & a_{n2}(t)\\\\\n",
    " \\vdots    & \\vdots    & \\dotsb & \\vdots \\\\\n",
    "a_{1n}(t) & a_{2n}(t) & \\dotsb & a_{nn}(t)\\\\\n",
    "\\end{bmatrix}\\begin{bmatrix}\n",
    " \\psi_1(t)  \\\\\n",
    " \\psi_2(t)  \\\\\n",
    " \\vdots \\\\\n",
    " \\psi_n(t)\n",
    "\\end{bmatrix}=0\n",
    "$\n",
    "#### $所以：对于方程y^{'}=-A^{T}(t)y的任一解y=\\psi(t)必有\\psi^{T}(t)\\varphi(t)=常数$"
   ]
  },
  {
   "cell_type": "markdown",
   "metadata": {},
   "source": [
    "#### $(2)解：充分性：$\n",
    "\n",
    "#### $存在非奇异的常数矩阵C，使\\Psi^{T}(t)\\Phi(t)=C$\n",
    "\n",
    "#### $因为：\\Phi(t)为方程x^{'}=A(t)x的基解矩阵，有：\\Phi^{-1}(t)存在$\n",
    "\n",
    "#### $所以：\\Psi^{T}(t)=C\\Phi^{-1}(t)且det(\\Psi^{T}(t))=det(C\\Phi^{-1}(t))\\neq 0$\n",
    "\n",
    "#### $所以：\\Psi(t)为方程y^{'}=-A^{T}(t)y的基解矩阵$\n",
    "\n",
    "#### $必要性：$\n",
    "#### $\\Psi(t)=\\begin{bmatrix}\n",
    " \\psi_1(t)  &\n",
    " \\psi_2(t)  &\n",
    " \\dotsb     &\n",
    " \\psi_n(t)\n",
    "\\end{bmatrix}$\n",
    ",$\\Phi(t)=\\begin{bmatrix}\n",
    " \\varphi_1(t)  &\n",
    " \\varphi_2(t)  &\n",
    " \\dotsb        &\n",
    " \\varphi_n(t)\n",
    " \\end{bmatrix}$\n",
    " #### $(\\psi_i(t)是\\Psi(t)的列向量，\\varphi_j(t)是\\Phi(t)的列向量,i,j=1,2,\\dotsb,n)$\n",
    "\n",
    "#### $因为：\\Psi(t)为方程y^{'}=-A^{T}(t)y的基解矩阵且本题(1)问$\n",
    "\n",
    "#### $以：\\psi_i(t),\\varphi_j(t)满足\\psi^{T}(t)\\varphi(t)=常数$\n",
    "\n",
    "#### $以：\\Psi(t)\\Phi(t)=C,C是常数矩阵$\n",
    "\n",
    "#### $因为：\\Phi(t)为方程x^{'}=A(t)x的基解矩阵，\\psi_i(t)为方程x^{'}=A(t)x的基解矩阵$"
   ]
  },
  {
   "cell_type": "markdown",
   "metadata": {
    "collapsed": true
   },
   "source": [
    "# <font color='red'>A  3/12"
   ]
  },
  {
   "cell_type": "code",
   "execution_count": null,
   "metadata": {
    "collapsed": true
   },
   "outputs": [],
   "source": []
  }
 ],
 "metadata": {
  "kernelspec": {
   "display_name": "Python 2",
   "language": "python",
   "name": "python2"
  },
  "language_info": {
   "codemirror_mode": {
    "name": "ipython",
    "version": 2
   },
   "file_extension": ".py",
   "mimetype": "text/x-python",
   "name": "python",
   "nbconvert_exporter": "python",
   "pygments_lexer": "ipython2",
   "version": "2.7.10"
  }
 },
 "nbformat": 4,
 "nbformat_minor": 0
}
