{
 "cells": [
  {
   "cell_type": "markdown",
   "metadata": {},
   "source": [
    "$\\bf2.考虑方程组$\n",
    "$$\\bf x'=A(T)x,$$\n",
    "$\\bf其中A（t）是区间a\\leq t\\leq b上的连续n\\times n矩阵，它的元为a_{ij}(t)(i,j=1,2,\\ldots n).$\n",
    "$\\bf(1）如果x_1(t),x_2(t)\\ldots,x_n(t)是（5.15）的任意n个解，\\\\那么它们的朗斯基行列式W[x_1(t),x_2(t),\\ldots,x_n(t）]\\equiv W(t)满足下面的一阶线性微分方程$\n",
    "$$\\bf W'=[a_{11}(t)+a_{22}(t)+\\ldots+a_{nn}(t)]W;$$\n",
    "$\\bf（提示：利用行列式的微分公式，求出W'的表达式.）$\n",
    "\n",
    "$\\bf（2）解上面的一阶线性微分方程，证明下面的公式:$\n",
    "$$\\bf W（t）=W(t_0)e^{\\int_{t_0}^t\\mathrm [a_{11}(s)+a_{22}(s)+\\ldots+a_{nn}(s)]\\,\\mathrm{d}s},t_0,t\\in[a,b].$$"
   ]
  },
  {
   "cell_type": "markdown",
   "metadata": {},
   "source": [
    "$解：（1）将x_1(t),x_2(t),\\ldots x_n(t)用向量的形式表示，并写出它们的朗斯基行列式为：$\n",
    "\n",
    "$$W(t)=\\begin{vmatrix} x_{11}(t) & x_{12}(t) & \\ldots & x_{1n}(t) \\\\  x_{21}（t） & x_{22}(t) & \\ldots & x_{2n}(t) \\\\  \\ldots & \\ldots & \\ldots & \\ldots \\\\  x_{n1}(t） & x_{n2}(t) & \\ldots & x_{nn}(t) \n",
    "\\\\ \\end{vmatrix},$$\n",
    "$对W(t)求导得：$\n",
    "\n",
    "$$\\frac{dW(t)}{dt}=\\begin{vmatrix} x'_{11}(t) & x'_{12}(t) & \\ldots & x'_{1n}(t) \\\\  x_{21}（t） & x_{22}(t) & \\ldots & x_{2n}(t) \\\\  \\ldots & \\ldots & \\ldots & \\ldots \\\\  x_{n1}(t） & x_{n2}(t) & \\ldots & x_{nn}(t) \n",
    "\\\\ \\end{vmatrix}+\\begin{vmatrix} x_{11}(t) & x_{12}(t) & \\ldots & x_{1n}(t) \\\\  x'_{21}（t） & x'_{22}(t) & \\ldots & x'_{2n}(t) \\\\  \\ldots & \\ldots & \\ldots & \\ldots \\\\  x_{n1}(t） & x_{n2}(t) & \\ldots & x_{nn}(t) \n",
    "\\\\ \\end{vmatrix}+\\ldots+\\begin{vmatrix} x_{11}(t) & x_{12}(t) & \\ldots & x_{1n}(t) \\\\  x_{21}（t） & x_{22}(t) & \\ldots & x_{2n}(t) \\\\  \\ldots & \\ldots & \\ldots & \\ldots \\\\  x'_{n1}(t） & x'_{n2}(t) & \\ldots & x'_{nn}(t) \n",
    "\\\\ \\end{vmatrix}.(*)$$\n",
    "\n",
    "因为$$x'_{11}(t)=a_{11}x_{11}+a_{12}x_{21}+\\ldots+a_{1n}x_{n1},$$\n",
    "$$x'_{12}(t)=a_{11}x_{12}+a_{12}x_{22}+\\ldots+a_{1n}x_{n2},$$\n",
    "$$\\ldots \\dots$$\n",
    "$$x'_{1n}(t)=a_{11}x_{1n}+a_{12}x_{2n}+\\ldots+a_{1n}x_{nn},$$\n",
    "\n",
    "所以由行列式的性质有$$\\begin{vmatrix} x'_{11}(t) & x'_{12}(t) & \\ldots & x'_{1n}(t) \\\\  x_{21}（t） & x_{22}(t) & \\ldots & x_{2n}(t) \\\\  \\ldots & \\ldots & \\ldots & \\ldots \\\\  x_{n1}(t） & x_{n2}(t) & \\ldots & x_{nn}(t) \n",
    "\\\\ \\end{vmatrix}$$=$$\\begin{vmatrix} a_{11}x_{11}(t) & a_{12}x_{21}(t) & \\ldots & a_{1n}x_{n1}(t) \\\\  x_{21}（t） & x_{22}(t) & \\ldots & x_{2n}(t) \\\\  \\ldots & \\ldots & \\ldots & \\ldots \\\\  x_{n1}(t） & x_{n2}(t) & \\ldots & x_{nn}(t) \n",
    "\\\\ \\end{vmatrix}$$+$$\\begin{vmatrix}a_{11}x_{12}(t) & a_{12}x_{22}(t) & \\ldots & a_{1n}x_{n2}(t) \\\\  x_{21}（t） & x_{22}(t) & \\ldots & x_{2n}(t) \\\\  \\ldots & \\ldots & \\ldots & \\ldots \\\\  x_{n1}(t） & x_{n2}(t) & \\ldots & x_{nn}(t) \n",
    "\\\\ \\end{vmatrix}$$+$$\\ldots+\\begin{vmatrix}a_{11}x_{1n}(t) & a_{12}x_{2n}(t) & \\ldots & a_{1n}x_{nn}(t) \\\\  x_{21}（t） & x_{22}(t) & \\ldots & x_{2n}(t) \\\\  \\ldots & \\ldots & \\ldots & \\ldots \\\\  x_{n1}(t） & x_{n2}(t) & \\ldots & x_{nn}(t) \n",
    "\\\\ \\end{vmatrix}=a_{11}(t)W(t)$$\n",
    "\n",
    "$同理，(*)式中右端第二个行列式等于a_{22}(t)W(t),第三个行列式等于a_{33}(t)W(t),\\ldots第n个行列式等于a_{nn}W(t),因此得到：W'=[a_{11}(t)+a_{22}(t)+\\ldots+a_{nn}(t)]W.$"
   ]
  },
  {
   "cell_type": "markdown",
   "metadata": {},
   "source": [
    "(2)将上面的一阶线性微分方程化为$$\\frac{dW}{w}=[a_{11}(t)+a_{22}(t)+\\ldots+a_{nn}(t)]W(t),$$\n",
    "\n",
    "从t_0到t积分得：$$ln|W(t)|-ln|W(t_0)|=\\int_{t_0}^t\\mathrm [a_{11}(s)+a_{22}(s)+\\ldots+a_{nn}(s)\\,\\mathrm{d}s],$$\n",
    "\n",
    "两边再用指数函数得：$$W（t）=W(t_0)e^{\\int_{t_0}^t\\mathrm [a_{11}(s)+a_{22}(s)+\\ldots+a_{nn}(s)\\,\\mathrm{d}s},t_0,t\\in[a,b].$$"
   ]
  },
  {
   "cell_type": "markdown",
   "metadata": {},
   "source": [
    "$\\bf3.设A(t)为区间a\\leq t\\leq b上的连续n\\times n实矩阵，\\Phi(t)为方程x'=A(t）x的基解矩阵，而x=\\varphi(t)为其一解，试证：$\n",
    "$\\bf(1)对于方程y'=-A^T(t)y的任一解y=\\Psi(t)必有\\Psi^T\\varphi(t)=常数；$\n",
    "$\\bf(2)\\Psi(t)为方程y'=-A^T(t)y的基解矩阵的充要条件是存在非奇异的常数矩阵C，使\\Psi^T(t)\\Phi(t)=C.$"
   ]
  },
  {
   "cell_type": "markdown",
   "metadata": {},
   "source": [
    "$解：（1）由于\\varphi(t)是x'=A(t)x的解，则有$ \n",
    "\n",
    "$\\varphi'(t)=\\begin{pmatrix} \\varphi'_1(t) \\\\ \\varphi'_2(t) \\\\ \\vdots \\\\ \\varphi'_n(t) \\\\ \\end{pmatrix}=-\\begin{pmatrix} a_{11} & a_{12} & \\ldots & a_{1n} \\\\ a_{21} & a_{22} & \\ldots & a_{2n} \\\\ \\ldots & \\ldots & \\ldots & \\ldots \\\\ a_{n1} & a_{n2} & \\ldots & a_{nn} \\\\ \\end{pmatrix}\\begin{pmatrix} \\varphi_1(t) \\\\ \\varphi_2(t) \\\\ \\vdots \\\\ \\varphi_n(t) \\\\ \\end{pmatrix}=\\begin{pmatrix} \\sum_{k=1}^n a_{1k}\\varphi k \\\\ \\sum_{k=1}^n a_{2k}\\varphi k \\\\ \\vdots \\\\ \\sum_{k=1}^n a_{nk}\\varphi k \\\\ \\end{pmatrix}$\n",
    "\n",
    "$同理有：$\n",
    "\n",
    "$\\Psi'(t)=\\begin{pmatrix} \\psi'_1(t) \\\\ \\psi'_2(t) \\\\ \\vdots \\\\ \\psi'_n(t) \\\\ \\end{pmatrix}=-\\begin{pmatrix} a_{11} & a_{12} & \\ldots & a_{1n} \\\\ a_{21} & a_{22} & \\ldots & a_{2n} \\\\ \\ldots & \\ldots & \\ldots & \\ldots \\\\ a_{n1} & a_{n2} & \\ldots & a_{nn} \\\\ \\end{pmatrix}=\\begin{pmatrix} \\psi_1(t) \\\\ \\psi_2(t) \\\\ \\vdots \\\\ \\psi_n(t) \\\\ \\end{pmatrix}=\\begin{pmatrix} \\sum_{k=1}^n a_{1k}\\psi k \\\\ \\sum_{k=1}^n a_{2k}\\psi k \\\\ \\vdots \\\\ \\sum_{k=1}^n a_{nk}\\psi k \\\\ \\end{pmatrix}$\n",
    "\n",
    "$对\\Psi^T(t)\\varphi(t)求导得：$\n",
    "\n",
    "$\\frac{d(\\Psi^T(t)\\varphi(t))}{dt}=\\frac{d\\Psi^T(t)}{dt}\\varphi(t)+\\Psi^T(t)\\frac{d\\varphi^T(t)}{dt}=-(\\sum_{k=1}^n a_{1k}\\psi k,\\sum_{k=1}^n a_{2k}\\psi k,\\ldots,\\sum_{k=1}^n a_{nk}\\psi k)\\begin{pmatrix} \\varphi_1(t) \\\\ \\varphi_2(t) \\\\ \\vdots \\\\ \\varphi_n(t) \\\\ \\end{pmatrix}+(\\psi_1(t),\\psi_2(t),\\ldots,\\psi_n(t))\\begin{pmatrix} \\sum_{k=1}^n a_{1k}\\varphi k \\\\ \\sum_{k=1}^n a_{2k}\\varphi k \\\\ \\vdots \\\\ \\sum_{k=1}^n a_{nk}\\varphi k \\\\ \\end{pmatrix}=-[\\sum_{k=1}^n a_{k1}\\psi_k \\varphi_1+\\sum_{k=1}^n a_{k2}\\psi_k \\varphi_2+\\ldots+\\sum_{k=1}^n a_{kn}\\psi_k \\varphi_n]+[\\sum_{k=1}^n a_{1k}\\psi_1 \\varphi_k+\\sum_{k=1}^n a_{2k}\\psi_2 \\varphi_k+\\ldots+\\sum_{k=1}^n a_{nk}\\psi_n \\varphi_k]=-\\sum_{k=1}^n \\sum_{i=1}^n (a_{ki}\\psi_k\\varphi_i)+\\sum_{k=1}^n \\sum_{i=1}^n (a_{ik}\\psi_i\\varphi_k)=0.$\n",
    "\n",
    "$所以\\Psi^T（t）\\varphi（t）=常数.$\n"
   ]
  },
  {
   "cell_type": "markdown",
   "metadata": {},
   "source": [
    "$(2)充分性：存在非奇异矩阵C，使得\\Psi^T（t）\\Phi(t)=C，由于\\Phi(t)是方程x'=A(t)x的基解矩阵，\\\\故\\Phi^{-1}{t}存在，所以\\Psi^T（t)=C\\cdot Phi^{-1}(t)且det( \\psi^T(t))=det(C\\cdot\\Phi(t))\\neq0.因此，\\Psi(t)是基解矩阵.$\n",
    "\n",
    "$必要性：Psi(t)是基解矩阵，则Psi(t)得每一个列向量\\psi_1(t),\\psi_2(t),\\ldots\\psi_n(t)与\\Phi(t)的每一个列向量\\varphi_1(t),\\varphi_2(t),\\ldots\\varphi_n(t)满足\\\\ \\psi^T(t)\\varphi_j=常数，i=1,2,\\ldots n,j=1,2,\\ldots n. 则\\Psi^T(t)\\Phi(t)是常数矩阵，记为c，另外由于\\Phi(t),Psi(t)分别是基解矩阵，从而det(\\Phi(t)）\\neq0,det(\\Psi(t))\\neq0,则detC=det(\\Psi^T(t))\\cdot det(\\Phi(t))\\neq0,即矩阵是非奇异的.$"
   ]
  },
  {
   "cell_type": "markdown",
   "metadata": {},
   "source": [
    "# <font color='red'>A  3/12"
   ]
  },
  {
   "cell_type": "code",
   "execution_count": null,
   "metadata": {
    "collapsed": true
   },
   "outputs": [],
   "source": []
  }
 ],
 "metadata": {
  "kernelspec": {
   "display_name": "SageMath 7.3",
   "language": "",
   "name": "sagemath"
  },
  "language_info": {
   "codemirror_mode": {
    "name": "ipython",
    "version": 2
   },
   "file_extension": ".py",
   "mimetype": "text/x-python",
   "name": "python",
   "nbconvert_exporter": "python",
   "pygments_lexer": "ipython2",
   "version": "2.7.10"
  }
 },
 "nbformat": 4,
 "nbformat_minor": 0
}
