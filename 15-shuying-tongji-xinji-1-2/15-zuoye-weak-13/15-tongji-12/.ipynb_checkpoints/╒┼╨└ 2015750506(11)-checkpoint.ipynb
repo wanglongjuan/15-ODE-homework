{
 "cells": [
  {
   "cell_type": "markdown",
   "metadata": {},
   "source": [
    "#  常微分方程作业 - 第十一次\n",
    "\n",
    "## P216 \n",
    "\n",
    "### 2.虑方程组$x^{'}=A(t)x,\\dotsb \\dotsb(5.15)$其中$A(t)$是区间$a\\leq t \\leq b$上的连续$n*n$矩阵，它的元为$a_{ij}(t)(i,j=1,2,\\dots,n).$\n",
    "\n",
    "**(1)**如果$x_1(t),x_2(t),\\dotsb,x_n(t)$是(5.15)的任意n个解，那么它们的朗斯基行列式$W[x_1(t),x_2(t),\\dotsb,x_n(t)]\\equiv W(t)$满足下列的一阶线性微分方程$W^{'}=[a_{11}(t)+a_{22}(t)+\\dotsb+a_{nn}(t)]W$(提示：利用行列式的微分方程，求出$W^{'}$的表达式.)\n",
    "\n",
    "**(2)**解上面的一阶线性微分方程，证明下面的公式：$W(t)=W(t_0)e^{\\int_{t_0}^t [a_{11}(s)+a_{22}(s)+\\dotsb+a_{nn}(s)]\\,\\mathrm{d}s},t_0,t \\in [a,b]$\n",
    "\n",
    "** 解：**（1）因为：$x^{'}=A(t)x$,则：\n",
    "$$\\begin{bmatrix}\n",
    " x^{'}_1  \\\\\n",
    " x^{'}_2  \\\\\n",
    " \\vdots \\\\\n",
    " x^{'}_n\n",
    "\\end{bmatrix}=\\begin{bmatrix}\n",
    " a_{11}(t) & a_{12}(t) & \\dotsb & a_{1n}(t)\\\\\n",
    " a_{21}(t) & a_{22}(t) & \\dotsb & a_{2n}(t)\\\\\n",
    " \\vdots    & \\vdots    & \\dotsb & \\vdots \\\\\n",
    "a_{n1}(t) & a_{n2}(t) & \\dotsb & a_{nn}(t)\\\\\n",
    "\\end{bmatrix}\\begin{bmatrix}\n",
    " x_1  \\\\\n",
    " x_2  \\\\\n",
    " \\vdots \\\\\n",
    " x_n\n",
    "\\end{bmatrix}\n",
    "$$\n",
    "\n",
    "它们的朗斯基行列式$$W(t)=\\begin{bmatrix}\n",
    " x_{11}(t) & x_{12}(t) & \\dotsb & x_{1n}(t)\\\\\n",
    " x_{21}(t) & x_{22}(t) & \\dotsb & x_{2n}(t)\\\\\n",
    " \\vdots    & \\vdots    & \\dotsb & \\vdots \\\\\n",
    "x_{n1}(t) & x_{n2}(t) & \\dotsb & x_{nn}(t)\\\\\n",
    "\\end{bmatrix}\n",
    "$$\n",
    "\n",
    "对朗斯基行列式求导得：$$\n",
    "W^{'}(t)=\\begin{bmatrix}\n",
    " x^{'}_{11}(t) & x^{'}_{12}(t) & \\dotsb & x^{'}_{1n}(t)\\\\\n",
    " x_{21}(t) & x_{22}(t) & \\dotsb & x_{2n}(t)\\\\\n",
    " \\vdots    & \\vdots    & \\dotsb & \\vdots \\\\\n",
    "x_{n1}(t) & x_{n2}(t) & \\dotsb & x_{nn}(t)\\\\\n",
    "\\end{bmatrix}+\\begin{bmatrix}\n",
    " x_{11}(t) & x_{12}(t) & \\dotsb & x_{1n}(t)\\\\\n",
    " x^{'}_{21}(t) & x^{'}_{22}(t) & \\dotsb & x^{'}_{2n}(t)\\\\\n",
    " \\vdots    & \\vdots    & \\dotsb & \\vdots \\\\\n",
    "x_{n1}(t) & x_{n2}(t) & \\dotsb & x_{nn}(t)\\\\\n",
    "\\end{bmatrix}+\\dotsb  \\dotsb+\\begin{bmatrix}\n",
    " x_{11}(t) & x_{12}(t) & \\dotsb & x_{1n}(t)\\\\\n",
    " x_{21}(t) & x_{22}(t) & \\dotsb & x_{2n}(t)\\\\\n",
    " \\vdots    & \\vdots    & \\dotsb & \\vdots \\\\\n",
    "x^{'}_{n1}(t) & x^{'}_{n2}(t) & \\dotsb & x^{'}_{nn}(t)\\\\\n",
    "\\end{bmatrix}\n",
    "$$\n",
    "$$=\\begin{bmatrix}\n",
    " a_{11}x_{11}+a_{12}x_{21}+\\dotsb+a_{1n}x_{n1} & a_{11}x_{12}+a_{12}x_{22}+\\dotsb+a_{1n}x_{n2} & \\dotsb & a_{11}x_{1n}+a_{12}x_{2n}+\\dotsb+a_{1n}x_{nn}\\\\\n",
    " x_{21}(t) & x_{22}(t) & \\dotsb & x_{2n}(t)\\\\\n",
    " \\vdots    & \\vdots    & \\dotsb & \\vdots \\\\\n",
    "x_{n1}(t) & x_{n2}(t) & \\dotsb & x_{nn}(t)\\\\\n",
    "\\end{bmatrix}+\\begin{bmatrix}\n",
    " x_{11}(t) & x_{12}(t) & \\dotsb & x_{1n}(t)\\\\\n",
    " a_{21}x_{11}+a_{22}x_{21}+\\dotsb+a_{2n}x_{n1} & a_{21}x_{12}+a_{22}x_{22}+\\dotsb+a_{2n}x_{n2} & \\dotsb & a_{21}x_{1n}+a_{22}x_{2n}+\\dotsb+a_{2n}x_{nn}\\\\\n",
    " \\vdots    & \\vdots    & \\dotsb & \\vdots \\\\\n",
    "x_{n1}(t) & x_{n2}(t) & \\dotsb & x_{nn}(t)\\\\\n",
    "\\end{bmatrix}+\\dotsb  \\dotsb+\\begin{bmatrix}\n",
    " x_{11}(t) & x_{12}(t) & \\dotsb & x_{1n}(t)\\\\\n",
    " x_{21}(t) & x_{22}(t) & \\dotsb & x_{2n}(t)\\\\\n",
    " \\vdots    & \\vdots    & \\dotsb & \\vdots \\\\\n",
    " a_{n1}x_{11}+a_{n2}x_{21}+\\dotsb+a_{nn}x_{n1} & a_{n1}x_{12}+a_{n2}x_{22}+\\dotsb+a_{nn}x_{n2} & \\dotsb & a_{n1}x_{1n}+a_{n2}x_{2n}+\\dotsb+a_{nn}x_{nn}\\\\\n",
    "\\end{bmatrix}\n",
    "$$\n",
    "$$=(a_{11}(t)+a_{22}(t)+\\dotsb+a_{nn}(t))\\begin{bmatrix}\n",
    " x_{11}(t) & x_{12}(t) & \\dotsb & x_{1n}(t)\\\\\n",
    " x_{21}(t) & x_{22}(t) & \\dotsb & x_{2n}(t)\\\\\n",
    " \\vdots    & \\vdots    & \\dotsb & \\vdots \\\\\n",
    "x_{n1}(t) & x_{n2}(t) & \\dotsb & x_{nn}(t)\\\\\n",
    "\\end{bmatrix}=[a_{11}(t)+a_{22}(t)+\\dotsb+a_{nn}(t)]W\n",
    "$$"
   ]
  },
  {
   "cell_type": "markdown",
   "metadata": {},
   "source": [
    "**（2）**对$W^{'}=[a_{11}(t)+a_{22}(t)+\\dotsb+a_{nn}(t)]W$自$t_0$到$t$积分得：\n",
    "\n",
    "$$\n",
    "\\ln|W(t)|-\\ln|W(t_0)|=\\int_{t_0}^t [a_{11}(s)+a_{22}(s)+\\dotsb+a_{nn}(s)]\\,\\mathrm{d}s\n",
    "$$\n",
    "\n",
    "即：\n",
    "$$W(t)=W(t_0)e^{\\int_{t_0}^t [a_{11}(s)+a_{22}(s)+\\dotsb+a_{nn}(s)]\\,\\mathrm{d}s},t_0,t \\in [a,b]\n",
    "$$"
   ]
  },
  {
   "cell_type": "markdown",
   "metadata": {},
   "source": [
    "## P217\n",
    "\n",
    "### 3.设$A(t)$是区间$a\\leq t \\leq b$上的连续$n*n$实矩阵，$\\Phi(t)$为方程$x^{'}=A(t)x$的基解矩阵，而$x=\\varphi(t)$为其一解.试证：\n",
    "\n",
    "**(1)**对于方程$y^{'}=-A^{T}(t)y$的任一解$y=\\psi(t)$必有$\\psi^{T}(t)\\varphi(t)=$常数\n",
    "\n",
    "**(2)**$\\Psi(t)$为方程$y^{'}=-A^{T}(t)y$的基解矩阵的充要条件是存在非奇异的常数矩阵$C$，使$\\Psi^{T}(t)\\varphi(t)=C$\n",
    "\n"
   ]
  },
  {
   "cell_type": "markdown",
   "metadata": {},
   "source": [
    "# <font color='red'>A  3/12????"
   ]
  },
  {
   "cell_type": "code",
   "execution_count": null,
   "metadata": {
    "collapsed": true
   },
   "outputs": [],
   "source": []
  }
 ],
 "metadata": {
  "kernelspec": {
   "display_name": "SageMath 7.3",
   "language": "",
   "name": "sagemath"
  },
  "language_info": {
   "codemirror_mode": {
    "name": "ipython",
    "version": 2
   },
   "file_extension": ".py",
   "mimetype": "text/x-python",
   "name": "python",
   "nbconvert_exporter": "python",
   "pygments_lexer": "ipython2",
   "version": "2.7.10"
  }
 },
 "nbformat": 4,
 "nbformat_minor": 0
}
