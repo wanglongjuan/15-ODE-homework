{
 "cells": [
  {
   "cell_type": "markdown",
   "metadata": {},
   "source": [
    "                                                常微分作业\n",
    "                                        姓名：谭治港    学号：2015750502"
   ]
  },
  {
   "cell_type": "markdown",
   "metadata": {},
   "source": [
    "P216T2$（1）对W(t)求导得$\n",
    "\n",
    "$\\begin{aligned}\n",
    "\\frac{\\mathrm d W(t)}{\\mathrm d t}&=\n",
    "\\begin{vmatrix}\n",
    "x'_{11}(t)&x'_{12}(t)&…&x'_{1n}(t)\\\\\n",
    "x_{21}(t)&x_{22}(t)&…&x_{2n}(t)\\\\\n",
    "…&…&…&…\\\\\n",
    "x_{n1}(t)&x_{n2}(t)&…&x_{nn}(t)\n",
    "\\end{vmatrix}\n",
    "+\n",
    "\\begin{vmatrix}\n",
    "x_{11}(t)&x_{12}(t)&…&x_{1n}(t)\\\\\n",
    "x'_{21}(t)&x'_{22}(t)&…&x'_{2n}(t)\\\\\n",
    "…&…&…&…\\\\\n",
    "x_{n1}(t)&x_{n2}(t)&…&x_{nn}(t)\n",
    "\\end{vmatrix}\n",
    "+…+\\begin{vmatrix}\n",
    "x_{11}(t)&x_{12}(t)&…&x_{1n}(t)\\\\\n",
    "x_{21}(t)&x_{22}(t)&…&x_{2n}(t)\\\\\n",
    "…&…&…&…\\\\\n",
    "x'_{n1}(t)&x'_{n2}(t)&…&x'_{nn}(t)\n",
    "\\end{vmatrix}\n",
    "\\end{aligned}.$\n",
    "\n",
    "$\\begin{aligned}\n",
    "\\begin{vmatrix}\n",
    "x'_{11}(t)&x'_{12}(t)&…&x'_{1n}(t)\\\\\n",
    "x_{21}(t)&x_{22}(t)&…&x_{2n}(t)\\\\\n",
    "…&…&…&…\\\\\n",
    "x_{n1}(t)&x_{n2}(t)&…&x_{nn}(t)\n",
    "\\end{vmatrix}\n",
    "&=\n",
    "\\begin{vmatrix}\n",
    "a_{11}x_{11}(t)&a_{11}x_{21}(t)&…&a_{11}x{1n}(t)\\\\\n",
    "x_{21}(t)&x_{22}(t)&…&x_{2n}(t)\\\\\n",
    "…&…&…&…\\\\\n",
    "x_{n1}(t)&x_{n2}(t)&…&x_{nn}(t)\n",
    "\\end{vmatrix}\n",
    "+\\begin{vmatrix}\n",
    "a_{12}x_{21}(t)&a_{12}x_{22}(t)&…&a_{12}x{2n}(t)\\\\\n",
    "x_{21}(t)&x_{22}(t)&…&x_{2n}(t)\\\\\n",
    "…&…&…&…\\\\\n",
    "x_{n1}(t)&x_{n2}(t)&…&x_{nn}(t)\n",
    "\\end{vmatrix}+…+\n",
    "\\begin{vmatrix}\n",
    "a_{1n}x_{n1}(t)&a_{1n}x_{n2}(t)&…&a_{1n}x{nn}(t)\\\\\n",
    "x_{21}(t)&x_{22}(t)&…&x_{2n}(t)\\\\\n",
    "…&…&…&…\\\\\n",
    "x_{n1}(t)&x_{n2}(t)&…&x_{nn}(t)\n",
    "\\end{vmatrix}\\\\\n",
    "&=a_{11}(t)W(t).\n",
    "\\end{aligned}$\n",
    "$从而W'(t)=[a_{11}(t)+a_{22}(t)+…+a_{nn}(t)]W(t).$\n",
    "\n",
    "\n",
    "$（2）由于W'(t)=[a_{11}(t)+a_{22}(t)+…+a_{nn}(t)]W(t)$\n",
    "\n",
    "$即\\frac{\\mathrm d W}{\\omega}=[a_{11}(t)+a_{22}(t)+…+a_{nn}(t)]\\mathrm d t    \\quad对上式从t_0到t积分可得$\n",
    "\n",
    "$\\ln\\mid W(t)\\mid-\\ln\\mid W(t_0)\\mid=\\int_{t_0}^t\\ [a_{11}(s)+a_{22}(s)+…+a_{nn}(s)]\\mathrm d s,$\n",
    "\n",
    "$即有W(t)=W(t_0)e^{\\int_{t_0}^t\\ [a_{11}(s)+a_{22}(s)+…+a_{nn}(s)]\\mathrm d s},其中t_0,t\\in[a,b].$"
   ]
  },
  {
   "cell_type": "markdown",
   "metadata": {},
   "source": [
    "$T3(1)而对\\Psi^T(t)\\varphi(t)求导得$\n",
    "\n",
    "$\\begin{aligned}\n",
    "{\\mathrm d (\\Psi^T(t)\\varphi(t))}{\\mathrm d t}&=\\frac{\\mathrm d \\Psi^T(t)}{\\mathrm d t}\\varphi(t)+\\Psi^T(t)\\frac{\\mathrm d \\varphi(t)}{\\mathrm d t}=-[\\displaystyle\\sum_{k=1}^{n}a_{k1}\\psi_k\\varphi_1+\\displaystyle\\sum_{k=1}^{n}a_{k2}\\psi_k\\varphi_2+…+\\displaystyle\\sum_{k=1}^{n}a_{kn}\\psi_k\\varphi_n]+[\\displaystyle\\sum_{k=1}^{n}\\psi_1 a_{1k}\\varphi_k+\\displaystyle\\sum_{k=1}^{n}\\psi_2 a_{2k}\\varphi_k+…+\\displaystyle\\sum_{k=1}^{n}\\psi_n a_{nk}\\varphi_k]\\\\\n",
    "&=-\\displaystyle\\sum_{k=1}^{n}\\displaystyle\\sum_{i=1}^{n}(a_{ki}\\psi_k\\varphi_i)+\\displaystyle\\sum_{k=1}^{n}\\displaystyle\\sum_{i=1}^{n}(\\psi_i a_{ik}\\varphi_k)\\\\\n",
    "&=-\\displaystyle\\sum_{k=1}^{n}\\displaystyle\\sum_{i=1}^{n}(a_{ki}\\psi_k\\varphi_i)+\\displaystyle\\sum_{i=1}^{n}\\displaystyle\\sum_{k=1}^{n}(a_{ik}\\psi_i\\varphi_k)\\\\\n",
    "&=0\n",
    "\\end{aligned}$\n",
    "\n",
    "$\\Psi^T(t)\\varphi(t)=常数$\n",
    "\n",
    "(2)$必要性：\\Psi(t)是基解矩阵，则\\Psi(t)的每一个向量\\psi_1(t),\\psi_2(t),…\\psi_n(t)与\\Psi(t)的每一个列向量\\varphi_1(t),\\varphi_2(t),…\\varphi_n(t)满足\\varphi_i^T\\varphi_j(t)=常数,i=1,2,…n,$\n",
    "\n",
    "$充分性：若存在非奇异矩阵C，使得\\Psi^T(t)\\phi(t)=C,由于\\phi(t)是方程x'=A(t)x的基解矩阵，故\\phi^{-1}(t)存在.$\n",
    "\n",
    "$\\Psi^T(t)=C·\\Phi^{-1}(t)且\\det(\\Psi^T(t))=\\det(C·\\Phi^{-1}(t))\\neq 0.∴\\Psi(t)是基解矩阵.$\n",
    "\n",
    "$即j=1,2,…n.则\\Psi^T(t)\\phi是常数矩阵，记为c,另外由于\\Psi(t)和\\phi(t)是基解矩阵,\\det(\\Psi^T(t))\\neq 0,\\det(\\phi(t))\\neq 0.$\n",
    "\n",
    "$则\\det C=\\det(\\phi(t))\\det(\\Psi^T(t))\\neq 0,即矩阵C是非奇异的.$"
   ]
  },
  {
   "cell_type": "markdown",
   "metadata": {
    "collapsed": true
   },
   "source": [
    "# <font color='red'>A  3/12"
   ]
  },
  {
   "cell_type": "code",
   "execution_count": null,
   "metadata": {
    "collapsed": true
   },
   "outputs": [],
   "source": []
  }
 ],
 "metadata": {
  "kernelspec": {
   "display_name": "SageMath 7.3",
   "language": "",
   "name": "sagemath"
  },
  "language_info": {
   "codemirror_mode": {
    "name": "ipython",
    "version": 2
   },
   "file_extension": ".py",
   "mimetype": "text/x-python",
   "name": "python",
   "nbconvert_exporter": "python",
   "pygments_lexer": "ipython2",
   "version": "2.7.10"
  }
 },
 "nbformat": 4,
 "nbformat_minor": 0
}
