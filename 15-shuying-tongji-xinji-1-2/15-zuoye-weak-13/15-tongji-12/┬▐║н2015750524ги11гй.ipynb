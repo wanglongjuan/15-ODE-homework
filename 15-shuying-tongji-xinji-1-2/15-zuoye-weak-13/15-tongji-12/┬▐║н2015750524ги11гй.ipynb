{
 "cells": [
  {
   "cell_type": "markdown",
   "metadata": {},
   "source": [
    "罗涵 2015750524\n",
    "\n",
    "2.考虑方程组$x\\prime=A(t)x,(5.15)$\n",
    "其中$A(t)是区间a\\leq t\\leq b上的连续n\\times n矩阵，它的元为a_{ij}(t)(i,j=1,2,\\cdots,n).$\n",
    "\n",
    "(1)如果$x_1(t),x_2(t),\\cdots,x_n(t)是(5.15)的任意n个解，那么它们的朗斯基行列式W[x_1(t),x_2(t),\\cdots,x_n(t)]\\equiv W(t)满足下面的一阶线性微分方程$\n",
    "$$W\\prime=[a_{11}(t)+a_{22}(t)+\\cdots+a_{nn}(t)]W;$$\n",
    "$(提示：利用行列式的微分公式，求出W\\prime的表达式）$\n",
    "\n",
    "(2)解上面的一阶线性微分方程，证明下面的公式：$W(t)=W(t_0）e^{\\int_{t_0}^{t}[a_{11}(s)+a_{22}(s)+\\cdots+a_{nn}(s)]d s},t_0,t\\in[a,b]$\n",
    "\n",
    "\n",
    "解:(1)将$x_1(t),x_2(t),\\cdots,x_n(t)$用向量的形式表示，并写出它们的朗斯基行列式为\n",
    "\n",
    "$$W(t)=\\begin{vmatrix} x_{11}(t)&x_{12}(t)&\\cdots&x_{1n}(t)\\\\x_{21}(t)&x_{22}(t)&\\cdots&x_{2n}\\\\ \\cdots&\\cdots&\\cdots&\\cdots\\\\ x_{n1}(t)&x_{n2}(t)&\\cdots&x_{nn}(t)\\\\ \\end{vmatrix}$$\n",
    "\n",
    "对$W(t)求导得$\n",
    "\n",
    "$$\\frac{\\mathrm d W(t)}{\\mathrm d t}=\\frac{d}{dt}W(t)=\\begin{vmatrix} x_{11}(t)&x_{12}(t)&\\cdots&x_{1n}(t)\\\\x_{21}(t)&x_{22}(t)&\\cdots&x_{2n}\\\\ \\cdots&\\cdots&\\cdots&\\cdots\\\\ x_{n1}(t)&x_{n2}(t)&\\cdots&x_{nn}(t)\\\\ \\end{vmatrix}=\\begin{vmatrix} x\\prime_{11}(t)&x\\prime_{12}(t)&x\\prime_{13}(t)&\\cdots&x\\prime_{1n}(t)\\\\ x_{21}(t)&x_{22}(t)&x_{23}(t)&\\cdots&x_{2n}(t)\\\\ \\cdots&\\cdots&\\cdots&\\cdots&\\cdots\\\\x_{n1}(t)&x_{n2}(t)&x_{n3}(t)&\\cdots&x_{nn}(t)\\\\ \\end{vmatrix}+\\begin{vmatrix} x_{11}(t)&x_{12}e(t)&x_{13}(t)&\\cdots&x_{1n}(t)\\\\ x\\prime_{21}(t)&x\\prime_{22}(t)&x\\prime_{23}&\\cdots&^x\\prime_{2n}(t)\\\\ \\cdots&\\cdots&\\cdots&\\cdots&\\cdots\\\\ x_{n1}(t)&x_{n2}(t)&x_{n3}(t)&\\cdots&x_{nn}(t)\\\\ \\end{vmatrix}+\\cdots+\\begin{vmatrix} x_{11}(t)&x_{12}(t)&x_{13}(t)&\\cdots&x_{1n}(t)\\\\ x_{21}(t)&x_{22}(t)&x_{23}(t)&\\cdots&x_{2n}(t)\\\\ \\cdots&\\cdots&\\cdots&\\cdots&\\cdots\\\\x\\prime_{n1}(t)&x\\prime_{n2}(t)&x\\prime_{n3}(t)&\\cdots&x\\prime_{nn}(t)\\\\ \\end{vmatrix} ①$$\n",
    "\n",
    "由于$$x\\prime_{11}=a_{11}x_{11}+a_{12}x_{21}+\\cdots+a_{1n}x_{n1},$$\n",
    "\n",
    "$$x\\prime_{12}=a_{11}x_{12}+a_{12}x_{22}+\\cdots++a_{1n}x_{n2},$$\n",
    "\n",
    "$$\\cdots\\cdots\\cdots$$\n",
    "\n",
    "$$x\\prime_{1n}=a_{11}x_{1n}+a_{12}x_{2n}+\\cdots+a_{1n}x_{nn}.$$\n",
    "\n",
    "所以由行列式的性质有$$\\begin{vmatrix} x\\prime_{11}(t)&x\\prime_{12}(t)&x\\prime_{13}(t)&\\cdots&x\\prime_{1n}(t)\\\\ x_{21}(t)&x_{22}(t)&x_{23}(t)&\\cdots&x_{2n}(t)\\\\ \\cdots&\\cdots&\\cdots&\\cdots&\\cdots\\\\x_{n1}(t)&x_{n2}(t)&x_{n3}(t)&\\cdots&x_{nn}(t)\\\\ \\end{vmatrix}=\\begin{vmatrix} a_{11}x_{11}(t)&a_{11}x_{12}(t)&a_{11}x_{13}(t)&\\cdots&a_{11}x_{1n}(t)\\\\ x_{21}(t)&x_{22}(t)&x_{23}(t)&\\cdots&x_{2n}(t)\\\\ \\cdots&cdots&\\cdots&\\cdots&\\cdots\\\\x_{n1}(t)&x_{n2}(t)&x_{n3}(t)&\\cdots&x_{nn}(t)\\\\ \\end{vmatrix}+\\begin{vmatrix} a_{12}x_{21}(t)&a_{12}x_{22}(t)&a_{12}x_{23}(t)&\\cdots&a_{12}x_{2n}(t)\\\\ x_{21}(t)&x_{22}(t)&x_{23}(t)&\\cdots&x_{2n}(t)\\\\ \\cdots&cdots&\\cdots&\\cdots&\\cdots\\\\x_{n1}(t)&x_{n2}(t)&x_{n3}(t)&\\cdots&x_{nn}(t)\\\\ \\end{vmatrix}+\\cdots+\\begin{vmatrix} a_{1n}x_{n1}(t)&a_{1n}x_{n2}(t)&a_{1n}x_{n3}(t)&\\cdots&a_{1n}x_{nn}(t)\\\\ x_{21}(t)&x_{22}(t)&x_{23}(t)&\\cdots&x_{2n}(t)\\\\ \\cdots&cdots&\\cdots&\\cdots&\\cdots\\\\x_{n1}(t)&x_{n2}(t)&x_{n3}(t)&\\cdots&x_{nn}(t)\\\\ \\end{vmatrix}=a_{11}W(t).$$\n",
    "\n",
    "同理①式中右端的第2个行列式等于$a_{22}(t)W(t),第3个行列式等于a_{33}(t)W(t),以此类推第n个行列式等于a_{nn}W(t).因此得到$\n",
    "$$\\frac{\\mathrm d W(t)}{\\mathrm d t}=W\\prime(t)=[a_{11}(t)+a_{22}(t)+\\cdots+a_{nn}(t)]W$$\n",
    "\n",
    "(2)将上面的一阶线性微分方程化为$$\\frac{\\mathrm d W}{w}=[a_{11}(t)+a_{22}(t)+\\cdots+a_{nn}(t)]\\mathrm d t$$\n",
    "从$t_0到t积分得$\n",
    "$$\\ln \\mid W(t) \\mid -\\ln \\mid W(t_0) \\mid=\\int_{t_0}^{t}[a_11(s)+a_22(s)+\\cdots+a_nn(s)]\\mathrm d s,$$\n",
    "两边再用指数函数得到$$W(t)=W(t_0)e^{\\int_{t_0}^{0}[a_11(s)+a_22(s)+\\cdots+a_nn(s)]}\\mathrm d s$$\n",
    "\n"
   ]
  },
  {
   "cell_type": "markdown",
   "metadata": {},
   "source": [
    "3.设$A(t)为区间a\\leq t \\leq b上的连续n\\times n实矩阵，\\Phi(t)为方程x\\prime=A(t)x的基解矩阵，而x=\\varphi(t)为其一解，试证$\n",
    "\n",
    "(1)$对于方程y\\prime=-A^T(t)的任一解y=\\psi(t)必有\\psi^T(t)\\varphi(t)=常数$\n",
    "\n",
    "(2)$\\Psi(t)为方程y\\prime=-A^T(t)y的基解矩阵的充要条件是存在非奇异的常数矩阵C,使\\Psi^T(t)\\Phi(t)=C.$\n",
    "\n",
    "证：(1)由于$\\varphi(t)是x\\prime=A(t)的解，则有$\n",
    "$$\\varphi\\prime(t)=\\begin{pmatrix} \\varphi\\prime_1(t)\\\\ \\varphi\\prime_2(t) \\\\ \\cdots \\\\ \\varphi\\prime_n(t)\\\\ \\end{pmatrix}=\\begin{pmatrix} a_{11}&a_{12}&\\cdots&a_{1n}\\\\a_{21}&a_{22}&\\cdots&a_{2n}\\\\ \\cdots&\\cdots&\\cdots&\\cdots\\\\a_{n1}&a_{n2}&\\cdots&a_{nn}\\\\ \\end{pmatrix}\\begin{pmatrix} \\varphi_1(t)\\\\ \\varphi_2(t)\\\\ \\cdots\\\\ \\varphi_n(t)\\\\ \\end{pmatrix}=\\begin{pmatrix} \\sum_{k=1}^{n}a_{1k}\\varphi_k\\\\ \\sum\n",
    "_{k=1}^{n}a_{2k}\\varphi_k\\\\ \\cdots\\\\ \\sum_{k=1}^{n}a_{nk}\\varphi_k\\\\ \\end{pmatrix}$$\n",
    "$同理，由于\\psi(t)是方程y\\prime=-A^Ty的解，有$\n",
    "$$\\psi\\prime(t)=\\begin{pmatrix} \\psi\\prime_1(t)\\\\ \\psi\\prime_2(t) \\\\ \\cdots \\\\ \\psi\\prime_n(t)\\\\ \\end{pmatrix}=\\begin{pmatrix} a_{11}&a_{12}&\\cdots&a_{1n}\\\\a_{21}&a_{22}&\\cdots&a_{2n}\\\\ \\cdots&\\cdots&\\cdots&\\cdots\\\\a_{n1}&a_{n2}&\\cdots&a_{nn}\\\\ \\end{pmatrix}\\begin{pmatrix} \\psi_1(t)\\\\ \\psi_2(t)\\\\ \\cdots\\\\ \\psi_n(t)\\\\ \\end{pmatrix}=\\begin{pmatrix} \\sum_{k=1}^{n}a_{1k}\\psi_k\\\\ \\sum\n",
    "_{k=1}^{n}a_{2k}\\psi_k\\\\ \\cdots\\\\ \\sum_{k=1}^{n}a_{nk}\\psi_k\\\\ \\end{pmatrix}$$\n",
    "\n",
    "对$\\psi^T(t)\\varphi(t)求导数得$\n",
    "$$\\frac{\\mathrm d (\\psi^T(t)\\varphi(t))}{\\mathrm d t}=\\frac{\\mathrm d \\psi^T(t)}{\\mathrm d t}\\varphi(t)+\\psi^T(t)\\frac{\\mathrm d \\psi(t)}{\\mathrm d t}=-(\\sum_{k=1}^{n}a_{1k}\\psi_k,\\sum_{k=1}^{n}a_{k2}{n}\\psi_k,\\cdots,\\sum_{k=1}^{n}a_{kn}\\psi_k)\\begin{pmatrix} \\varphi_1(t)\\\\ \\varphi_2(t)\\\\ \\cdots\\\\ \\varphi_n(t)\\\\ \\end{pmatrix}+\\begin{pmatrix} \\psi_1(t)\\\\ \\psi_2(t)\\\\ \\cdots\\\\ \\psi_n(t)\\\\ \\end{pmatrix}\\begin{pmatrix} \\sum_{k=1}^{n}a_{1k}\\varphi_k\\\\ \\sum_{k=1}^{n}a_{2k}\\varphi_k\\\\ \\cdots\\\\ \\sum_{k=1}^{n}a_{nk}\\varphi_k\\\\ \\end{pmatrix}=-[\\sum_{k=1}{n}a_{k1}^{n}a_{k=1}\\\\psi_k\\varphi_1+\\sum_{k=1}^{n}a_{k2}\\psi_k\\varphi_2+\\cdots+\\sum{k=1}^{n}a_{kn}\\psi_k\\varphi_n]+[\\sum_{k=1}^{n}\\psi_1a_{1k}\\varphi_k+\\sum{k=1}^{n}\\psi_2a_{2k}\\varphi+\\cdots+\\sum_{k=1}^{n}\\psi_ka_{nk}\\varphi_k]=-\\sum_{k=1}^{n}\\sum_{i=1}{n}(a_{ki}\\psi_k\\varphi_i)+\\sum_{k=1}^{n}\\sum_{i=1}^{n}(\\psi_ia_{ik}\\varphi_k)=0$$\n",
    "所以$\\psi^T\\varphi(t)=常数.$"
   ]
  },
  {
   "cell_type": "markdown",
   "metadata": {},
   "source": [
    "(2)先证充分性:存在非奇异矩阵C，使得$\\Psi^T(t)\\Phi(t)=C,由于\\Phi(t)是方程x\\prime=A(t)x的基解矩阵，故\\Phi_{-1}(t)存在，\\therefore\\Psi^T(t)=C\\Phi^{-1}(t)且det(\\Psi(t))=C\\Phi^{-1}(t)\\neq 0.因此，\\psi是基解矩阵.$\n",
    "\n",
    "必要性：$\\Psi(t)是基解矩阵，则\\Psi(t)的每一个列向量\\psi_1(t),\\psi_2(t),\\cdots,\\psi_n(t)与\\Phi(t)的每一个列向量\\varphi_1(t),\\varphi_2(t),\\cdots,\\varphi_n(t)满足\\psi_i^T(t)\\varphi_j(t)=常数，1=1,2,\\cdots,n,j=1,2,\\cdots,n,则\\Psi^T(t),\\Phi(t)是常数矩阵，即为c，另外由于\\Psi(t),\\Phi(t)都是基解矩阵，从而det(\\Psi(t))\\neq 0,det(\\Phi(t))\\neq 0, 则detC=det(\\Phi(t))det(\\Psi^T(t))\\neq 0,即矩阵C是非奇异的.$"
   ]
  },
  {
   "cell_type": "markdown",
   "metadata": {
    "collapsed": true
   },
   "source": [
    "# <font color='red'>A  3/12"
   ]
  },
  {
   "cell_type": "code",
   "execution_count": null,
   "metadata": {
    "collapsed": true
   },
   "outputs": [],
   "source": []
  }
 ],
 "metadata": {
  "kernelspec": {
   "display_name": "SageMath 7.3",
   "language": "",
   "name": "sagemath"
  },
  "language_info": {
   "codemirror_mode": {
    "name": "ipython",
    "version": 2
   },
   "file_extension": ".py",
   "mimetype": "text/x-python",
   "name": "python",
   "nbconvert_exporter": "python",
   "pygments_lexer": "ipython2",
   "version": "2.7.10"
  }
 },
 "nbformat": 4,
 "nbformat_minor": 0
}
