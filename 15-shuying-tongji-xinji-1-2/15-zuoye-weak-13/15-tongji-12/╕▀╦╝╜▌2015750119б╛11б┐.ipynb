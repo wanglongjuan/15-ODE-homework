{
 "cells": [
  {
   "cell_type": "markdown",
   "metadata": {},
   "source": [
    "# $$常微分作业11$$\n",
    "## 班级：统计学\n",
    "## 姓名：高思捷\n",
    "## 学号：2015750119"
   ]
  },
  {
   "cell_type": "markdown",
   "metadata": {},
   "source": [
    "## 一、考虑方程组$x'=A(t)x$，其中$A(t)$是区间$a \\leq t \\leq b$上连续$n*n$矩阵，它的元为$a_{ij}(t)(i,j=1,2,\\dots ,n).$"
   ]
  },
  {
   "cell_type": "markdown",
   "metadata": {},
   "source": [
    "（1）如果$x_1(t),x_2(t),\\dots ,x_n(t)$是$x'=A(t)x$的任意$n$个解，那么它们的朗斯基行列式$W[x_1(t),x_2(t),\\dots ,x_n(t)] \\equiv W(t)$满足下面一段线性微分方程：\n",
    "\n",
    "$W'=[a_{11}(t)+a_{22}(t)+\\dots +a_{nn}(t)]W$\n",
    "\n",
    "（提示：利用行列式的微分公式，求出$W'$的表达式）\n",
    "\n",
    "（2）解上面的一阶线性微分方程，证明下面的公式：\n",
    "\n",
    "$W(t)=W(t_0)e^{\\int_{t_0}^t [a_{11}(s)+a_{22}(s)+\\dots +a_{nn}(s)]{d}s}  ,  t_0(t),t \\in [a,b]$"
   ]
  },
  {
   "cell_type": "markdown",
   "metadata": {},
   "source": [
    "解：\n",
    "\n",
    "（1）\n",
    "\n",
    "用向量的形式表示$x_1(t),x_2(t),\\dots ,x_n(t)$,朗斯基行列式为：\n",
    "\n",
    "$W(t)=\n",
    "\\begin{vmatrix}\n",
    "x_{11}(t) & x_{12}(t) & \\dots & x_{1n}(t)\\\\\n",
    "x_{21}(t) & x_{22}(t) & \\dots & x_{2n}(t)\\\\\n",
    "\\dots & \\dots & \\dots & \\dots \\\\\n",
    "x_{n1}(t) & x_{n2}(t) & \\dots & x_{nn}(t)\n",
    "\\end{vmatrix},$\n",
    "\n",
    "因此，对$W(t)$求导得：\n",
    "\n",
    "${dW(t) \\over dt}$\n",
    "\n",
    "$={d \\over dt}\n",
    "\\begin{vmatrix}\n",
    "x_{11}(t) & x_{12}(t) & \\dots & x_{1n}(t)\\\\\n",
    "x_{21}(t) & x_{22}(t) & \\dots & x_{2n}(t)\\\\\n",
    "\\dots & \\dots & \\dots & \\dots \\\\\n",
    "x_{n1}(t) & x_{n2}(t) & \\dots & x_{nn}(t)\n",
    "\\end{vmatrix}$\n",
    "\n",
    "$=\\begin{vmatrix}\n",
    "x'_{11}(t) & x'_{12}(t) & \\dots & x'_{1n}(t)\\\\\n",
    "x_{21}(t) & x_{22}(t) & \\dots & x_{2n}(t)\\\\\n",
    "\\dots & \\dots & \\dots & \\dots \\\\\n",
    "x_{n1}(t) & x_{n2}(t) & \\dots & x_{nn}(t)\n",
    "\\end{vmatrix}\n",
    "+\n",
    "\\begin{vmatrix}\n",
    "x_{11}(t) & x_{12}(t) & \\dots & x_{1n}(t)\\\\\n",
    "x'_{21}(t) & x'_{22}(t) & \\dots & x'_{2n}(t)\\\\\n",
    "\\dots & \\dots & \\dots & \\dots \\\\\n",
    "x_{n1}(t) & x_{n2}(t) & \\dots & x_{nn}(t)\n",
    "\\end{vmatrix}\n",
    "+\\dots +\n",
    "\\begin{vmatrix}\n",
    "x_{11}(t) & x_{12}(t) & \\dots & x_{1n}(t)\\\\\n",
    "x_{21}(t) & x_{22}(t) & \\dots & x_{2n}(t)\\\\\n",
    "\\dots & \\dots & \\dots & \\dots \\\\\n",
    "x'_{n1}(t) & x'_{n2}(t) & \\dots & x'_{nn}(t)\n",
    "\\end{vmatrix}$\n",
    "\n",
    "由题知：\n",
    "\n",
    "$x'_{11}=a_{11}x_{11}+a_{12}x_{21}+\\dots+a_{1n}x_{n1}\\\\\n",
    "x'_{12}=a_{11}x_{12}+a_{12}x_{22}+\\dots+a_{1n}x_{n2}\\\\\n",
    "\\dots \\dots\\\\\n",
    "x'_{1n}=a_{11}x_{1n}+a_{12}x_{2n}+\\dots+a_{1n}x_{nn}\\\\$\n",
    "\n",
    "因此：\n",
    "\n",
    "$\\begin{vmatrix}\n",
    "x'_{11}(t) & x'_{12}(t) & x'_{13}(t) & \\dots & x'_{1n}(t)\\\\\n",
    "x_{21}(t) & x_{22}(t) & x_{23}(t) & \\dots & x_{2n}(t)\\\\\n",
    "\\dots & \\dots & \\dots & \\dots & \\dots \\\\\n",
    "x_{n1}(t) & x_{n2}(t) & x_{n3}(t) & \\dots & x_{nn}(t)\n",
    "\\end{vmatrix}$\n",
    "\n",
    "$=\\begin{vmatrix}\n",
    "a_{11}x_{11}(t) & a_{11}x_{12} & a_{11}x_{13}(t)\\dots &a_{11}x_{n1}\\\\\n",
    "x_{21}(t) & x_{22}(t) & x_{23}(t) & \\dots & x_{2n}(t)\\\\\n",
    "\\dots & \\dots & \\dots & \\dots & \\dots\\\\\n",
    "x_{n1}(t) & x_{n2}(t) & x_{n3}(t) & \\dots & x_{nn}(t)\n",
    "\\end{vmatrix}$\n",
    "+\n",
    "$\\begin{vmatrix}\n",
    "a_{12}x_{21}(t) & a_{12}x_{22} & a_{12}x_{23}(t)\\dots &a_{12}x_{n2}\\\\\n",
    "x_{21}(t) & x_{22}(t) & x_{23}(t) & \\dots & x_{2n}(t)\\\\\n",
    "\\dots & \\dots & \\dots & \\dots & \\dots\\\\\n",
    "x_{n1}(t) & x_{n2}(t) & x_{n3}(t) & \\dots & x_{nn}(t)\n",
    "\\end{vmatrix}$\n",
    "+$\\dots +\n",
    "\\begin{vmatrix}\n",
    "a_{1n}x_{n1}(t) & a_{1n}x_{n2} & a_{1n}x_{n3}(t) &　\\dots &a_{1n}x_{nn}\\\\\n",
    "x_{21}(t) & x_{22}(t) & x_{23}(t) & \\dots & x_{2n}(t)\\\\\n",
    "\\dots & \\dots & \\dots & \\dots & \\dots\\\\\n",
    "x_{n1}(t) & x_{n2}(t) & x_{n3}(t) & \\dots & x_{nn}(t)\n",
    "\\end{vmatrix}$\n",
    "\n",
    "=$a_{11}W(t)$\n",
    "\n",
    "同理:\n",
    "\n",
    "$\\begin{vmatrix}\n",
    "x_{11}(t) & x_{12}(t) & \\dots & x_{1n}(t)\\\\\n",
    "x'_{21}(t) & x'_{22}(t) & \\dots & x'_{2n}(t)\\\\\n",
    "\\dots & \\dots & \\dots & \\dots \\\\\n",
    "x_{n1}(t) & x_{n2}(t) & \\dots & x_{nn}(t)\n",
    "\\end{vmatrix}\n",
    "=a_{22}W(t)$\n",
    "\n",
    "$\\dots \\dots \\dots$\n",
    "\n",
    "即得:\n",
    "\n",
    "${dW(t) \\over dt}=W'=[a_{11}(t)+a_{22}(t)+\\dots +a_{nn}(t)]W$"
   ]
  },
  {
   "cell_type": "markdown",
   "metadata": {},
   "source": [
    "（2）\n",
    "\n",
    "对上面的积分方程做变换得:\n",
    "\n",
    "${dW(t) \\over dw}=W'=[a_{11}(t)+a_{22}(t)+\\dots +a_{nn}(t)]dt$\n",
    "\n",
    "对上式从$t_0$到$t$积分得:\n",
    "$ln|W(t)|-ln|W(t_0)|=\\int_{t_0}^t [a_{11}(s)+a_{22}(s)+\\dots +a_{nn}(s)]{d}s$\n",
    "\n",
    "即得:\n",
    "\n",
    "$W(t)=W(t_0)e^{\\int_{t_0}^t [a_{11}(s)+a_{22}(s)+\\dots +a_{nn}(s)]{d}s}  ,  t_0(t),t \\in [a,b]$"
   ]
  },
  {
   "cell_type": "markdown",
   "metadata": {},
   "source": [
    "##  2.设$A(t)$为区间$a\\leq t \\leq b$上的连续$n*n$实矩阵，$\\Phi(t)$为方程$x'=A(t)x$的基解矩阵，而$x=\\varphi(x)$为其一解，试证：\n",
    "\n",
    "(1)对于方程$y'=-A(t)y$的任意一解$y=\\psi(t)$必有$\\psi^{T}(t)\\varphi(t)=常数；$\n",
    " \n",
    " (2)$\\psi(t)$为方程$y'=-A^{T}(t)y$的基解矩阵的充要条件是存在非奇异的常数矩阵C，使得$\\psi^{T}(t)\\Phi(t)=C.$"
   ]
  },
  {
   "cell_type": "markdown",
   "metadata": {},
   "source": [
    "证明：\n",
    "\n",
    "（1）\n",
    "\n",
    "$已知 \\varphi'(t)=A(t) \\varphi'(t),\\psi(t)' =-A(t)\\psi(t) , 所以{\\psi^{T}}'(t)=-\\psi^{T}(t)A(t)$\n",
    "\n",
    "$[\\psi^{T}(t)\\varphi(t)]'={\\psi^{T}}'(t) \\varphi (t)+\\psi^{T} \\varphi'(t)$\n",
    "\n",
    "$ =>[\\psi^{T}(t)\\varphi(t)]'= {\\psi^{T}}'(t) \\varphi (t)+\\psi^{T}A(t) \\varphi(t)$\n",
    "\n",
    "$ =>[\\psi^{T}(t)\\varphi(t)]'=-\\psi^{T}(t)A(t) \\varphi (t)+\\psi^{T}A(t) \\varphi(t)=0$\n",
    "\n",
    "$因此必有\\psi^{T}(t)\\varphi(t)=常数$"
   ]
  },
  {
   "cell_type": "markdown",
   "metadata": {},
   "source": [
    "（2）\n",
    "\n",
    "充分性：\n",
    "\n",
    "$若存在非奇异的常数矩阵C，使得$\\psi^{T}(t)\\Phi(t)=C.$\n",
    "\n",
    "$[\\psi^{T}(t)\\Phi(t)]'={\\psi^{T}}’(t)\\Phi(t)+\\psi^{T}(t)\\Phi'(t)=0$\n",
    "\n",
    "${\\psi^{T}}’(t)\\Phi(t)=-\\psi^{T}(t)\\Phi'(t)=-\\psi^{T}(t)A(t)\\Phi(t)$\n",
    "\n",
    "$整理得{\\psi^{T}}’(t)=-\\psi^{T}(t)A(t)$\n",
    "\n",
    "$即\\psi(t)$为方程$y'=-A^{T}(t)y的基解矩阵.$\n",
    "\n",
    "必要性：\n",
    "\n",
    "$假设\\psi(t)$为方程$y'=-A^{T}(t)y的基解矩阵$\n",
    "\n",
    "$[\\psi^{T}(t)\\Phi(t)]'={\\psi^{T}}’(t)\\Phi(t)+\\psi^{T}(t)\\Phi'(t)$\n",
    "\n",
    "$=>[\\psi^{T}(t)\\Phi(t)]'=-\\psi^{T}(t)A^{T}(t)\\Phi(t)+\\psi^{T}(t)A^{T}(t)\\Phi(t)=0$\n",
    "\n",
    "$所以\\psi^{T}(t)\\Phi(t)=C.$\n",
    "\n"
   ]
  },
  {
   "cell_type": "markdown",
   "metadata": {
    "collapsed": true
   },
   "source": [
    "# <font color='red'>A  3/12"
   ]
  },
  {
   "cell_type": "code",
   "execution_count": null,
   "metadata": {
    "collapsed": true
   },
   "outputs": [],
   "source": []
  }
 ],
 "metadata": {
  "kernelspec": {
   "display_name": "SageMath 7.3",
   "language": "",
   "name": "sagemath"
  },
  "language_info": {
   "codemirror_mode": {
    "name": "ipython",
    "version": 2
   },
   "file_extension": ".py",
   "mimetype": "text/x-python",
   "name": "python",
   "nbconvert_exporter": "python",
   "pygments_lexer": "ipython2",
   "version": "2.7.10"
  }
 },
 "nbformat": 4,
 "nbformat_minor": 0
}
