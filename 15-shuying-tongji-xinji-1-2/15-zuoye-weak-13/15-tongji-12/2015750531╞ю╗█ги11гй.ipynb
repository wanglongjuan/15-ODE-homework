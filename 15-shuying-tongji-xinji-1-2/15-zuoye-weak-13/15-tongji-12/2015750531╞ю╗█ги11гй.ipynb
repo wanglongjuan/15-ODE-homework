{
 "cells": [
  {
   "cell_type": "markdown",
   "metadata": {},
   "source": [
    "2.考虑方程组$$x'=A(t)x$$其中$A(t)$是区间 $a\\leq t \\leq b$上的连续$n*n$矩阵，它的元为$a_{ij}(i,j=1,2,\\cdots,n)$"
   ]
  },
  {
   "cell_type": "markdown",
   "metadata": {},
   "source": [
    "(1)如果$x_1(t),x_2(t),\\cdots,x_n(t)$是$x'=A(t)x$的任意n个解，那么他们的朗斯基行列式$W[x_1(t),x_2(t),\\cdots,x_n(t)]\\equiv W(t)$满足下面的一阶线性微分方程$W'=[a_{11}(t)+a_{22}(t)+\\cdots +a_{nn} (t)]W$(提示：利用行列式的微分公式，求出$W'$的表达式）"
   ]
  },
  {
   "cell_type": "markdown",
   "metadata": {},
   "source": [
    "解：用向量的形式表示$x_1(t),x_2(t),\\cdots,x_n(t)$,并写出它们的朗斯基行列式为   \n",
    "$W(t)=\n",
    "\\begin{vmatrix}\n",
    "x_{11}(t)&x_{12}(t)&\\cdots&x_{1n}(t)\\\\\n",
    "x_{21}(t)&x_{22}(t)&\\cdots&x_{2n}(t)\\\\\n",
    "\\cdots & \\cdots & \\cdots&\\cdots\\\\\n",
    "x_{n1}(t)&x_{n2}(t)&\\cdots&x_{nn}(t)\\\\\n",
    "\\end{vmatrix}$,\n",
    "对$W(t)$求导得  \n",
    "$\\frac{\\mathrm d W(t)}{\\mathrm d t}=\\frac{\\mathrm d}{\\mathrm d t}\n",
    "\\begin{vmatrix}\n",
    "x_{11}(t)&x_{12}(t)&\\cdots&x_{1n}(t)\\\\\n",
    "x_{21}(t)&x_{22}(t)&\\cdots&x_{2n}(t)\\\\\n",
    "\\cdots & \\cdots & \\cdots&\\cdots\\\\\n",
    "x_{n1}(t)&x_{n2}(t)&\\cdots&x_{nn}(t)\\\\\n",
    "\\end{vmatrix}=\n",
    "\\begin{vmatrix}\n",
    "x'_{11}(t)&x'_{12}(t)&\\cdots&x'_{1n}(t)\\\\\n",
    "x_{21}(t)&x_{22}(t)&\\cdots&x_{2n}(t)\\\\\n",
    "\\cdots & \\cdots & \\cdots&\\cdots\\\\\n",
    "x_{n1}(t)&x_{n2}(t)&\\cdots&x_{nn}(t)\\\\\n",
    "\\end{vmatrix}+\n",
    "\\begin{vmatrix}\n",
    "x_{11}(t)&x_{12}(t)&\\cdots&x_{1n}(t)\\\\\n",
    "x'_{21}(t)&x'_{22}(t)&\\cdots&x'_{2n}(t)\\\\\n",
    "\\cdots & \\cdots & \\cdots&\\cdots\\\\\n",
    "x_{n1}(t)&x_{n2}(t)&\\cdots&x_{nn}(t)\\\\\n",
    "\\end{vmatrix}+\\cdots+\n",
    "\\begin{vmatrix}\n",
    "x_{11}(t)&x_{12}(t)&\\cdots&x_{1n}(t)\\\\\n",
    "x_{21}(t)&x_{22}(t)&\\cdots&x_{2n}(t)\\\\\n",
    "\\cdots & \\cdots & \\cdots&\\cdots\\\\\n",
    "x'_{n1}(t)&x'_{n2}(t)&\\cdots&x'_{nn}(t)\\\\\n",
    "\\end{vmatrix}$  \n",
    "由于 \n",
    "$x'_{11}=a_{11}x_{11}+a_{12}x_{21}+\\cdots +a_{1n}x_{n1},\\\\\n",
    "x'_{12}=a_{11}x_{12}+a_{12}x_{22}+\\cdots +a_{1n}x_{n2},\\\\\n",
    "\\cdots\\\\\n",
    "x'_{1n}=a_{11}x_{1n}+a_{12}x_{2n}+\\cdots +a_{1n}x_{nn},$  \n",
    "故，由行列式的性质有  \n",
    "$\\begin{vmatrix}\n",
    "x'_{11}(t)&x'_{12}(t)&\\cdots&x'_{1n}(t)\\\\\n",
    "x_{21}(t)&x_{22}(t)&\\cdots&x_{2n}(t)\\\\\n",
    "\\cdots & \\cdots & \\cdots&\\cdots\\\\\n",
    "x_{n1}(t)&x_{n2}(t)&\\cdots&x_{nn}(t)\\\\\n",
    "\\end{vmatrix}=\n",
    "\\begin{vmatrix}\n",
    "a_{11}x_{11}(t)&a_{11}x_{12}(t)&a_{11}x_{13}(t)&\\cdots&a_{11}x_{1n}(t)\\\\\n",
    "x_{21}(t)&x_{22}(t)&x_{23}(t)&\\cdots&x_{2n}(t)\\\\\n",
    "\\cdots & \\cdots & \\cdots&\\cdots&\\cdots\\\\\n",
    "x_{n1}(t)&x_{n2}(t)&x_{n3}(t)&\\cdots&x_{nn}(t)\\\\\n",
    "\\end{vmatrix}+\n",
    "\\begin{vmatrix}\n",
    "a_{12}x_{21}(t)&a_{12}x_{22}(t)&a_{12}x_{23}(t)&\\cdots&a_{12}x_{2n}(t)\\\\\n",
    "x_{21}(t)&x_{22}(t)&x_{23}(t)&\\cdots&x_{2n}(t)\\\\\n",
    "\\cdots & \\cdots & \\cdots&\\cdots&\\cdots\\\\\n",
    "x_{n1}(t)&x_{n2}(t)&x_{n3}(t)&\\cdots&x_{nn}(t)\\\\\n",
    "\\end{vmatrix}+\\cdots+\n",
    "\\begin{vmatrix}\n",
    "a_{1n}x_{n1}(t)&a_{1n}x_{n2}(t)&a_{1n}x_{n3}(t)&\\cdots&a_{1n}x_{nn}(t)\\\\\n",
    "x_{21}(t)&x_{22}(t)&x_{23}(t)&\\cdots&x_{2n}(t)\\\\\n",
    "\\cdots & \\cdots & \\cdots&\\cdots&\\cdots\\\\\n",
    "x_{n1}(t)&x_{n2}(t)&x_{n3}(t)&\\cdots&x_{nn}(t)\\\\\n",
    "\\end{vmatrix}=\n",
    "a_{11}(t)W(t)$   \n",
    "\n",
    "同理，①式中右端第2个行列式等于$a_{22}(t)W(t)$,第3个行列式等于$a_{33}(t)W(t),\\cdots$第n个行列式等于$a_{nn}(t)W(t)$,因此，得到$$\\frac{\\mathrm d W(t)}{\\mathrm d t}=W'(t)=[a_{11}(t)+a_{22}(t)+\\cdots+a_{nn}(t)]W(t)$$"
   ]
  },
  {
   "cell_type": "markdown",
   "metadata": {},
   "source": [
    "（2）解上面的一阶微分线性微分方程，证明下面的公式：$W(t)=W(t_0)e^{\\int^{t_0}_t [a_{11}(s)+a_{22}(s)+\\cdots +a_{nn}(s)]\\mathrm d s}, t_0,t\\in [a,b]$"
   ]
  },
  {
   "cell_type": "markdown",
   "metadata": {},
   "source": [
    "解：对上面的一阶线性微分方程变形为$\\frac{\\mathrm d W}{\\omega}=[a_{11}(t)+a_{22}(t)+\\cdots+a_{nn}(t)]\\mathrm d s$   \n",
    "对上式从$t_0$到$t$积分得到  \n",
    "$In|W(t)|-In|W(t_0)|=\\int^t_{t_0} [a_{11}(s)+a_{22}(s)+\\cdots+a_{nn}(s)]\\mathrm d s$  \n",
    "两边再作用指数函数，可得到  \n",
    "$$W(t)=W(t_0)e^{\\int^t_{t_0} [a_{11}(s)+a_{22}(s)+\\cdots+a_{nn}(s)]\\mathrm d s}$$"
   ]
  },
  {
   "cell_type": "markdown",
   "metadata": {},
   "source": [
    "3.设$\\mathbf{A}(t)$为区间$a\\leq t\\leq b$上的连续$n\\times n$实矩阵，$\\Phi(t)$为方程$\\mathbf{x'=A}(t)\\mathbf{x}$的基解矩阵，而$\\mathbf{x=\\varphi}(t)$为其一解。试证：   \n",
    "(1)对于方程$\\mathbf{y'}=-\\mathbf{A}^{T}(t)\\mathbf{y}$的任一解$\\mathbf{y}=\\mathbf{\\psi}(t)$必有$\\mathbf{\\psi}^{T}(t)\\mathbf{\\varphi}(t)=常数$；  "
   ]
  },
  {
   "cell_type": "markdown",
   "metadata": {},
   "source": [
    "证明：由于$\\mathbf{x=\\varphi}(t)为\\mathbf{x'=A}(t)\\mathbf{x}$一解，于是    \n",
    "$\\mathbf{\\varphi}'(t)$=$\\begin{pmatrix}\n",
    "\\varphi'_1(t)\n",
    "\\varphi'_2(t)\n",
    "\\vdots\n",
    "\\varphi'_n(t)\n",
    "\\end{pmatrix}$=\n",
    "$\\begin{pmatrix}\n",
    "a_{11}&a_{12}&\\cdots a_{1n}\\\\\n",
    "a_{21}&a_{22}&\\cdots a_{2n}\\\\\n",
    "\\cdots&\\cdots&\\cdots&\\cdots\\\\\n",
    "a_{n1}&a_{n2}&\\cdots a_{nn}\\\\\n",
    "\\end{pmatrix}$\n",
    "$\\begin{pmatrix}\n",
    "\\varphi_1(t)\\\\\n",
    "\\varphi_2(t)\\\\\n",
    "\\vdots\\\\\n",
    "\\varphi_n(t)\\\\\n",
    "\\end{pmatrix}$=\n",
    "$\\begin{pmatrix}\n",
    "\\displaystyle\\sum_{k=1}^{n} a_{1k}\\varphi_k\\\\\n",
    "\\displaystyle\\sum_{k=1}^{n} a_{2k}\\varphi_k\\\\\n",
    "\\vdots\\\\\n",
    "\\displaystyle\\sum_{k=1}^{n} a_{nk}\\varphi_k\\\\\n",
    "\\end{pmatrix}.$   \n",
    "\n",
    "同理，由于$\\mathbf{\\psi}(t)$是方程$\\mathbf{y'}=-\\mathbf{A}^{T}\\mathbf{y}$的解，于是   \n",
    "$\\mathbf{\\psi}'(t)$=$\\begin{pmatrix}\n",
    "\\psi'_1(t)\\\\\n",
    "\\psi'_2(t)\\\\\n",
    "\\vdots\\\\\n",
    "\\psi'_n(t)\\\\\n",
    "\\end{pmatrix}$=-\n",
    "$\\begin{pmatrix}\n",
    "a_{11}&a_{12}&\\cdots a_{1n}\\\\\n",
    "a_{21}&a_{22}&\\cdots a_{2n}\\\\\n",
    "\\cdots&\\cdots&\\cdots&\\cdots\\\\\n",
    "a_{n1}&a_{n2}&\\cdots a_{nn}\\\\\n",
    "\\end{pmatrix}$\n",
    "$\\begin{pmatrix}\n",
    "\\psi_1(t)\\\\\n",
    "\\psi_2(t)\\\\\n",
    "\\vdots\\\\\n",
    "\\psi_n(t)\\\\\n",
    "\\end{pmatrix}$=-\n",
    "$\\begin{pmatrix}\n",
    "\\displaystyle\\sum_{k=1}^{n} a_{1k}\\psi_k\\\\\n",
    "\\displaystyle\\sum_{k=1}^{n} a_{2k}\\psi_k\\\\\n",
    "\\vdots\\\\\n",
    "\\displaystyle\\sum_{k=1}^{n} a_{nk}\\psi_k\\\\\n",
    "\\end{pmatrix}.$  \n",
    "而对$\\mathbf{\\psi}^{T}(t)\\mathbf{\\varphi}(t)$求导数得  \n",
    "$\\frac{\\mathbf{\\psi}^{T}(t)\\mathbf{\\varphi}(t)}{dt}=\\frac{\\mathbf{\\psi}^{T}(t)}{dt}\\mathbf{\\varphi}(t)+\\mathbf{\\psi}^{T}(t)\\frac{\\mathbf{\\varphi}(t)}{dt}$      \n",
    "$=-\\displaystyle\\sum_{k=1}^{n}\\displaystyle\\sum_{i=1}^{n} (a_{ki}\\psi_k \\varphi_i)+\\displaystyle\\sum_{i=1}^{n}\\displaystyle\\sum_{k=1}^{n} (a_{ik}\\psi_i \\varphi_k)$   \n",
    "所以$\\mathbf{\\psi}^{T}(t)\\mathbf{\\varphi}(t)=常数$。"
   ]
  },
  {
   "cell_type": "markdown",
   "metadata": {},
   "source": [
    "(2)$\\mathbf{\\psi}(t)$为方程$\\mathbf{y'}=-\\mathbf{A}^{T}(t)\\mathbf{y}$的基解矩阵的充要条件是存在非奇异的常数矩阵$\\mathbf{C}$,使$\\mathbf{\\psi}^{T}(t)\\mathbf{\\Phi}(t)=\\mathbf{C}.$"
   ]
  },
  {
   "cell_type": "markdown",
   "metadata": {},
   "source": [
    "证明：先证充分性，存在非奇异矩阵$\\mathbf{C}$,使得$\\mathbf{\\psi}^{T}(t)\\mathbf{\\Phi}(t)=\\mathbf{C}$，$\\Phi(t)$为方程$\\mathbf{x'=A}(t)\\mathbf{x}$的基解矩阵，    \n",
    "故$\\mathbf{\\Phi}^{-1}(t)$存在，所以$\\mathbf{\\psi}^T (t)=\\mathbf{C}\\bullet \\mathbf{\\Phi}^{-1}(t)$,且$det(\\mathbf{\\psi}^{T}(t))=det(\\mathbf{C}\\bullet \\mathbf{\\Phi}^{-1}(t))\\neq 0$,   \n",
    "因此$\\mathbf{\\psi}(t)$为方程$\\mathbf{y'}=-\\mathbf{A}^{T}(t)\\mathbf{y}$的基解矩阵。   \n",
    "再证必要性：    \n",
    "$\\mathbf{\\psi}(t)$为方程$\\mathbf{y'}=-\\mathbf{A}^{T}(t)\\mathbf{y}$的基解矩阵,则$\\mathbf{\\psi}(t)$的每一个列向量$\\psi_1(t),\\psi_2(t),\\cdots,\\psi_n(t)与\\mathbf{\\Phi}(t)$的每一个列向量   \n",
    "$\\varphi_1(t),\\varphi_2(t),\\cdots,\\varphi_n(t)$满足$\\psi_i^T(t)\\varphi_j(t)=常数，i,j=1,2,\\cdots,n.则\\mathbf{\\psi}^{T}(t)\\mathbf{\\Phi}(t)$是常数矩阵，记为c    \n",
    "则得到，$det(\\mathbf{C})=det(\\mathbf{\\Phi}^{T}(t))\\cdots det(\\mathbf{\\psi}^{T}(t))$,则$\\mathbf{C}$是非奇异的.    \n",
    "则存在非奇异矩阵$\\mathbf{C}$,使得$\\mathbf{\\psi}^{T}(t)\\mathbf{\\Phi}(t)=\\mathbf{C}$.即证。"
   ]
  },
  {
   "cell_type": "markdown",
   "metadata": {},
   "source": [
    "# <font color='red'>A  3/12"
   ]
  },
  {
   "cell_type": "code",
   "execution_count": null,
   "metadata": {
    "collapsed": true
   },
   "outputs": [],
   "source": []
  }
 ],
 "metadata": {
  "kernelspec": {
   "display_name": "SageMath 7.3",
   "language": "",
   "name": "sagemath"
  },
  "language_info": {
   "codemirror_mode": {
    "name": "ipython",
    "version": 2
   },
   "file_extension": ".py",
   "mimetype": "text/x-python",
   "name": "python",
   "nbconvert_exporter": "python",
   "pygments_lexer": "ipython2",
   "version": "2.7.10"
  }
 },
 "nbformat": 4,
 "nbformat_minor": 0
}
