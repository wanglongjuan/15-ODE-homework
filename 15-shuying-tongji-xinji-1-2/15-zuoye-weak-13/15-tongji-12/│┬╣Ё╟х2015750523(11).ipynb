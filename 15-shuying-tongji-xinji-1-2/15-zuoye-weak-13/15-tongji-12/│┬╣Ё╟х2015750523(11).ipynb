{
 "cells": [
  {
   "cell_type": "markdown",
   "metadata": {},
   "source": [
    "## 第十一次常微分作业"
   ]
  },
  {
   "cell_type": "markdown",
   "metadata": {},
   "source": [
    "\n",
    "### 2.考虑方程组$x'=A(t)x,$ （5.15）    其中A(t)是区间$a\\leq t \\leq b$上的连续$n\\times n$矩阵，它的元为$a_{ij}(t)(i,j=1,2,……,n)$\n",
    "### (1)如果$x_1(t),x_2(t),……,x_n(t)$是（5.15）的任意n个解，那么它们的朗斯基行列式$W[x_1(t),x_2(t),……,x_n(t)]\\equiv W(t)$满足下面的一阶线性微分方程$$w'=[a_{11}(t)+a_{22}(t)+……+a_{nn}(t)]w;$$\n",
    "### $$(提示：利用行列式的微分公式，求出W'的表达式)$$\n",
    "### (2).解上面的一阶线性微分方程，证明下列的公式$$w(t)=w(t_0)e^{\\int_{t_0}^t[a_{11}(s)+a_{22}(s)+……+a_{nn}(s)]ds},t_0,t\\in [a,b]$$"
   ]
  },
  {
   "cell_type": "markdown",
   "metadata": {},
   "source": [
    "**解**\n",
    "\n",
    "（1）$\\mathbf W'(t)=\\begin{bmatrix}x'_{11} & x'_{12} & \\ldots & x'_{1n}\\\\ x_{21} & x_{22} & \\ldots & x_{2n}\\\\ \\vdots & \\vdots & \\ddots & \\vdots \\\\x_{n1} & x_{n2} & \\ldots & x_{nn} \\end{bmatrix}+\\begin{bmatrix}x_{11} & x_{12} & \\ldots & x_{1n}\\\\ x'_{21} & x'_{22} & \\ldots & x'_{2n}\\\\ \\vdots & \\vdots & \\ddots & \\vdots \\\\x_{n1} & x_{n2} & \\ldots & x_{nn} \\end{bmatrix}+ \\ldots +\\begin{bmatrix}x_{11} & x_{12} & \\ldots & x_{1n}\\\\ x_{21} & x_{22} & \\ldots & x_{2n}\\\\ \\vdots & \\vdots & \\ddots & \\vdots \\\\x'_{n1} & x'_{n2} & \\ldots & x'_{nn} \\end{bmatrix}\n",
    "=\\begin{bmatrix}a_{11}x_{11}+a_{12}x_{21}+\\ldots+a_{1n}x_{n1} & a_{11}x_{12}+a_{12}x_{22}+\\ldots+a_{1n}x_{n2} & \\ldots & a_{11}x_{1n}+a_{12}x_{2n}+\\ldots+a_{1n}x_{nn} \\\\ x_{21} & x_{22} & \\ldots & x_{2n}\\\\ \\vdots & \\vdots & \\ddots & \\vdots \\\\x_{n1} & x_{n2} & \\ldots & x_{nn} \\end{bmatrix} + \\ldots + \\begin{bmatrix}x_{11} & x_{12} & \\ldots & x_{1n}\\\\ x_{21} & x_{22} & \\ldots & x_{2n}\\\\ \\vdots & \\vdots & \\ddots & \\vdots \\\\a_{n1}x_{11}+\\ldots+a_{nn}x_{n1} & a_{n1}x_{21}+\\ldots+a_{nn}x_{n2} & \\ldots & a_{n1}x_{1n}+\\ldots+a_{nn}x_{nn} \\end{bmatrix}\n",
    "=\\begin{bmatrix}a_{11}x_{11} & a_{11}x_{12} & \\ldots & a_{11}x_{1n} \\\\ x_{21} & x_{22} & \\ldots & x_{2n}\\\\ \\vdots & \\vdots & \\ddots & \\vdots \\\\x_{n1} & x_{n2} & \\ldots & x_{nn} \\end{bmatrix} + \\ldots + \\begin{bmatrix}x_{11} & x_{12} & \\ldots & x_{1n}\\\\ x_{21} & x_{22} & \\ldots & x_{2n}\\\\ \\vdots & \\vdots & \\ddots & \\vdots \\\\a_{nn}x_{n1} & a_{nn}x_{n2} & \\ldots & a_{nn}x_{nn} \\end{bmatrix}$\n",
    "\n",
    "整理后变为\n",
    "\n",
    "$\\mathbf W'(t)=(a_{11}+\\ldots+a_{nn})\\begin{bmatrix}x_{11} & x_{12} & \\ldots & x_{1n}\\\\ x_{21} & x_{22} & \\ldots & x_{2n}\\\\ \\vdots & \\vdots & \\ddots & \\vdots \\\\x_{n1} & x_{n2} & \\ldots & x_{nn} \\end{bmatrix}=(a_{11}+\\ldots+a_{nn})\\mathbf W(t)=(a_{11}(t)+\\ldots+a_{nn}(t))\\mathbf W(t)$\n",
    "\n",
    "(2)$∵athbf W'(t)=(a_{11}(t)+\\ldots+a_{nn}(t))\\mathbf W(t)$\n",
    "\n",
    "∴$\\frac{\\mathrm d \\mathbf W(t)}{\\mathbf W(t)}=(a_{11}(t)+\\ldots+a_{nn}(t))\\mathrm d t$两边积分\n",
    "\n",
    "$\\ln|\\mathbf W(t)|-\\ln|\\mathbf W(t_0)|=\\int_{t_0}^t (a_{11}(s)+\\ldots+a_{nn}(s))\\mathrm d s$\n",
    "\n",
    "∴$$\\mathbf W(t)=\\mathbf W(t_0)e^{\\int_{t_0}^t (a_{11}(s)+\\ldots+a_{nn}(s))\\mathrm d s}$$\n"
   ]
  },
  {
   "cell_type": "markdown",
   "metadata": {},
   "source": [
    "### 3.设A(t)为区间$a\\leq t \\leq b$上的连续$n\\times n$矩阵，$\\Phi (t)$为方程$x'=A(t)x$基解矩阵，而$x=\\phi (t)$为其一解，试证：\n",
    "### (1).对于方程$y'=-A^T(t)y$的任一解$y=\\psi (t)$必有$\\psi ^T(t)\\phi (t)=$常数；\n",
    "### (2).$\\Psi(t)$为方程$y'=-A^T(t)y$的基解矩阵的充要条件是存在非奇异的常数矩阵C，使得$\\Psi ^T(t)\\Phi (t)=C$"
   ]
  },
  {
   "cell_type": "markdown",
   "metadata": {},
   "source": [
    "**解**\n",
    "\n",
    "(1)$[\\mathbf \\Psi^T(t) \\mathbf \\varphi(t)]=(\\mathbf \\Psi^T(t))'\\mathbf \\varphi(t)+\\mathbf \\Psi^T(t)\\mathbf \\varphi'(t)=(\\mathbf \\Psi^T(t))'\\mathbf \\varphi(t)+\\mathbf \\Psi^T(t)\\mathbf A(t)\\mathbf \\varphi(t)$\n",
    "\n",
    "∵$\\mathbf \\Psi'(t)=-\\mathbf A^T(t)\\mathbf \\Psi(t)$，∴$(\\mathbf \\Psi^T(t))'=-\\mathbf \\Psi^T(t)\\mathbf A(t)$\n",
    "\n",
    "从而$[\\mathbf \\Psi^T(t) \\mathbf \\varphi(t)]=-\\mathbf \\Psi^T(t)\\mathbf A(t)\\mathbf \\varphi(t)+\\mathbf \\Psi^T(t)\\mathbf A(t)\\mathbf \\varphi(t)=0$\n",
    "\n",
    "∴对于方程$y'=-\\mathbf A^T(t)y$的任一解$y=\\mathbf \\Psi(t)$必有$\\mathbf \\Psi^T(t) \\mathbf \\varphi(t)=$常数(2)“必要性”\n",
    "\n",
    "假设$\\mathbf \\Psi(t)$为方程$y'=-\\mathbf A^T(t)y$的基解矩阵，则\n",
    "\n",
    "$[\\mathbf \\Psi^T(t) \\mathbf \\varphi(t)]'=[\\mathbf \\Psi^T(t)]'\\mathbf \\Phi(t)+\\mathbf \\Psi^T(t)\\mathbf \\Phi'(t)=[-\\mathbf A^T(t)\\mathbf \\Psi(t)]^T\\mathbf \\Phi(t)+\\mathbf \\Psi^T(t)\\mathbf A(t)\\mathbf \\Phi(t)=-\\mathbf \\Psi^T(t)\\mathbf A(t)\\mathbf \\Phi(t)+\\mathbf \\Psi^T(t)\\mathbf A(t)\\mathbf \\Phi(t))=0$\n",
    "\n",
    "∴$\\mathbf \\Psi^T(t)\\mathbf \\Phi(t))=\\mathbf C$\n",
    "\n",
    "∵$\\mathbf \\Phi(t),\\mathbf \\Psi(t)$分别是基解矩阵，从而$det(\\mathbf \\Phi(t)) \\neq 0,det(\\mathbf \\Phi(t)) \\neq 0$,这样，$det(\\mathbf C) \\neq 0$,即$\\mathbf C$是非奇异的.\n",
    "\n",
    "(2)“必要性”\n",
    "\n",
    "假设$\\mathbf \\Psi(t)$为方程$y'=-\\mathbf A^T(t)y$的基解矩阵，则\n",
    "\n",
    "$[\\mathbf \\Psi^T(t) \\mathbf \\varphi(t)]'=[\\mathbf \\Psi^T(t)]'\\mathbf \\Phi(t)+\\mathbf \\Psi^T(t)\\mathbf \\Phi'(t)=[-\\mathbf A^T(t)\\mathbf \\Psi(t)]^T\\mathbf \\Phi(t)+\\mathbf \\Psi^T(t)\\mathbf A(t)\\mathbf \\Phi(t)=-\\mathbf \\Psi^T(t)\\mathbf A(t)\\mathbf \\Phi(t)+\\mathbf \\Psi^T(t)\\mathbf A(t)\\mathbf \\Phi(t))=0$\n",
    "\n",
    "∴$\\mathbf \\Psi^T(t)\\mathbf \\Phi(t))=\\mathbf C$\n",
    "\n",
    "∵$\\mathbf \\Phi(t),\\mathbf \\Psi(t)$分别是基解矩阵，从而$det(\\mathbf \\Phi(t)) \\neq 0,det(\\mathbf \\Phi(t)) \\neq 0$,这样，$det(\\mathbf C) \\neq 0$,即$\\mathbf C$是非奇异的.\n",
    "\n",
    "“充分性”\n",
    "\n",
    "若存在非奇异常数矩阵$\\mathbf C$，$det(\\mathbf C) \\neq 0$，使$\\mathbf \\Psi^T(t)\\mathbf \\Phi(t))=\\mathbf C$，由于$\\mathbf \\Phi(t)$为方程$x'=\\mathbf A(t)x$的基解矩阵，故$\\mathbf \\Phi^{-1}(t)$存在，所以$\\mathbf \\Psi^T(t)=\\mathbf C\\mathbf \\Phi^{-1}(t)$，并且$det(\\mathbf \\Psi^T(t))=det(\\mathbf C\\mathbf \\Phi^{-1}(t)) \\neq 0$，即$\\mathbf \\Psi(t)$为方程$y'=-\\mathbf A^T(t)y$的基解矩阵.\n"
   ]
  },
  {
   "cell_type": "markdown",
   "metadata": {
    "collapsed": true
   },
   "source": [
    "# <font color='red'>A  3/12"
   ]
  },
  {
   "cell_type": "code",
   "execution_count": null,
   "metadata": {
    "collapsed": true
   },
   "outputs": [],
   "source": []
  }
 ],
 "metadata": {
  "kernelspec": {
   "display_name": "SageMath 7.3",
   "language": "",
   "name": "sagemath"
  },
  "language_info": {
   "codemirror_mode": {
    "name": "ipython",
    "version": 2
   },
   "file_extension": ".py",
   "mimetype": "text/x-python",
   "name": "python",
   "nbconvert_exporter": "python",
   "pygments_lexer": "ipython2",
   "version": "2.7.10"
  }
 },
 "nbformat": 4,
 "nbformat_minor": 0
}
