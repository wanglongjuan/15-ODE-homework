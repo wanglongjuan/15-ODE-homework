{
 "cells": [
  {
   "cell_type": "markdown",
   "metadata": {},
   "source": [
    "$2.(1)x'=Ax,因为A=\\begin{bmatrix}a_{11}&a_{12}&……&a_{1n}\\\\a_{21}&a_{22}&……&a_{2n}\\\\……\\\\a_{n1}&a_{n2}&……&a_{nn}\\end{bmatrix},所以对每一个x_1,x_2,x_3……x_n都有\\begin{bmatrix}x'\\\\x''\\\\x'''\\\\……\\\\x^{(n)}\\end{bmatrix}=\\begin{bmatrix}a_{11}&a_{12}&……&a_{1n}\\\\a_{21}&a_{22}&……&a_{2n}\\\\……\\\\a_{n1}&a_{n2}&……&a_{nn}\\end{bmatrix}\\begin{bmatrix}x\\\\x'\\\\x''\\\\……\\\\x^{(n1)}\\end{bmatrix}=\\begin{bmatrix}a_{11}x\\\\a_{22}x'\\\\a_{33}x''\\\\……\\\\a_{nn}x^{(n-1)}\\end{bmatrix} 当x分别等于x_1,x_2……x_n时有\\begin{bmatrix}x_1&x_2&x_3\\\\……&x_n\\end{bmatrix}=\\begin{bmatrix}x'_1&x'_2&……&x'_n\\\\x''_1&x''_2&……&x''_n\\\\x'''_1&x'''_2&……&x'''_n\\\\……\\\\x^{(n)}_1&x^{(n)}_2&……&x^{(n)}_n\\end{bmatrix}=\\begin{bmatrix}a_{11}\\\\a_{22}\\\\a_{33}\\\\……\\\\a_{nn}\\end{bmatrix} \\begin{bmatrix}x_1&x_2&……&x_n\\\\x'_1&x'_2&……&x'_n\\\\x''_1&x''_2&……&x''_n\\\\……\\\\x^{(n-1)}_1&x^{(n-1)}_2&……&x^{(n-1)}_n\\end{bmatrix}即W’=\\begin{bmatrix}a_{11}\\\\a_{22}\\\\a_{33}\\\\……\\\\a_{nn}\\end{bmatrix}W$\n",
    "$(2)x'=A(t)x，则\\frac{x'}{x}=A(t),等式两边同时对t求积分则有\\ln|x(t)|=\\int_{t_0}^{t}A(t)dt+C_1,则有x(t)=Ce^{\\int_{t_0}^{t}A(t)dt},t=t_0时x(t_0)=C所以x(t)=x{t_0}e^{\\int_{t_0}^{t}A(t)dt}利用（1）的结论则有W(t)=W(t_0)e^{\\int_{t_0}^{t}\n",
    "{a_{11}+a_{22}+……+a_{nn}}dt} 证毕$"
   ]
  },
  {
   "cell_type": "markdown",
   "metadata": {},
   "source": [
    "$3(1)因为\\psi(t)为方程y'=-A^Ty的解， 则有\\psi'=-A^T\\psi,\\frac{d(\\psi^T(t)\\phi(t))}{dt}=\\psi^T\\phi'+\\phi(t)(\\psi^T)'=\\psi^TA\\psi+(-A^T\\psi)^Tx=\\psi^TA\\psi-\\psi^TA\\psi=0所以\\psi^T(t)\\phi(t)为一个常数。$\n",
    "$(2)充分性 因为\\psi^T(t)\\phi(t)=C ,且\\psi(t)为方程y'=-A^Ty，所以\\psi(t)=(\\phi^{-1})^TC^T,det(\\psi(t))=det((\\phi^{-1})^TC^T)=det(\\phi^{-1})^T)det(C^T)因为C是非奇异的所以det(C^T)不为零，则det{\\psi(t)}不为零，即\\psi(t)是该方程的基本解矩阵\n",
    "必要性 已知\\psi(t)是该方程的基本解矩阵，\\frac{d(\\psi^T(t)\\phi(t))}{dt}=\\psi^T\\phi'+\\phi(t)(\\psi^T)'=\\psi^TA\\psi+(-A^T\\psi)^Tx=\\psi^TA\\psi-\\psi^TA\\psi=0所以\\psi^T(t)\\phi(t)为一个常数，设其为C，则\\psi^T(t)\\phi(t)=C，det(C)=det(\\psi^T(t)\\phi(t))=det(\\psi^T(t))det(\\phi(t))由已知det(\\psi^T(t))，det(\\phi(t))都不为零，则det（C）也不为零，所以C为非奇异的。证毕$"
   ]
  },
  {
   "cell_type": "markdown",
   "metadata": {
    "collapsed": true
   },
   "source": [
    "# <font color='red'>A  3/12"
   ]
  },
  {
   "cell_type": "code",
   "execution_count": null,
   "metadata": {
    "collapsed": true
   },
   "outputs": [],
   "source": []
  }
 ],
 "metadata": {
  "kernelspec": {
   "display_name": "SageMath 7.3",
   "language": "",
   "name": "sagemath"
  },
  "language_info": {
   "codemirror_mode": {
    "name": "ipython",
    "version": 2
   },
   "file_extension": ".py",
   "mimetype": "text/x-python",
   "name": "python",
   "nbconvert_exporter": "python",
   "pygments_lexer": "ipython2",
   "version": "2.7.10"
  }
 },
 "nbformat": 4,
 "nbformat_minor": 0
}
