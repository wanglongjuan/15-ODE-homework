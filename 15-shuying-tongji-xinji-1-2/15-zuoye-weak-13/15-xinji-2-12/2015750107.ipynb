{
 "cells": [
  {
   "cell_type": "markdown",
   "metadata": {},
   "source": [
    "# 习题5.2"
   ]
  },
  {
   "cell_type": "markdown",
   "metadata": {},
   "source": [
    "2.考虑方程组\n",
    "\n",
    "$$x'=A(t)x，$$\n",
    "\n",
    "其中A(t)是区间$a\\leq t\\leq b$上的连续n×n矩阵，它的元为$a_{ij}(t)(i,j=1,2,…,n)$.\n",
    "\n",
    "（1）如果$x_1(t),x_2(t),…,x_n(t)$是方程组的任意n个解，那么它们的朗斯基行列式$W[x_1(t),x_2(t),…,x_n(t)]≡W(t)$满足下面的一阶线性微分方程\n",
    "$W'=[a_11(t)+a_22(t)+\\cdots+a_nn(t)]W$；(提示：利用行列式的微分公式，求出W'的表达式)\n",
    "\n",
    "（2）解上面的一阶线性微分方程，证明下面的公式：\n",
    "\n",
    "$W(t)=W(t_0)e^{\\int^t_{t_0}[a_{11}(s)+a_{22}(s)+…+a_{nn}(s)]ds},t_0,t∈ [a,b]$"
   ]
  },
  {
   "cell_type": "markdown",
   "metadata": {},
   "source": [
    "解：\n",
    "\n",
    "（1）\n",
    "\n",
    "用向量的形式表示$x_1(t),x_2(t),\\cdots,x_n(t)$,并写出它们的朗斯基行列式为\n",
    "\n",
    "$\n",
    "W(t)=\n",
    "\\begin{vmatrix}x_{11}(t)&x_{12}(t)&\\cdots&x_{1n}(t)\\\\x_{21}(t)&x_{22}(t)&\\cdots&x_{2n}(t)\\\\\\cdots&\\cdots&\\cdots&\\cdots\\\\x_{n1}(t)&x_{n2}(t)&\\cdots&x_{nn}(t)\\end{vmatrix}\n",
    "$\n",
    "\n",
    "对$W(t)$求导得\n",
    "\n",
    "$\n",
    "\\frac{dW(t)}{dt}=\\frac d{dt}\n",
    "\\begin{vmatrix} x_{11}(t)&x_{12}(t)&\\cdots&x_{1n}(t)\\\\x_{21}(t)&x_{22}(t)&\\cdots&x_{2n}(t)\\\\\\cdots&\\cdots&\\cdots&\\cdots\\\\x_{n1}(t)&x_{n2}(t)&\\cdots&x_{nn}(t)\\end{vmatrix}  \n",
    "=\n",
    "\\begin{vmatrix} x'_{11}(t)&x'_{12}(t)&\\cdots&x'_{1n}(t)\\\\x_{21}(t)&x_{22}(t)&\\cdots&x_{2n}(t)\\\\\\cdots&\\cdots&\\cdots&\\cdots\\\\x_{n1}(t)&x_{n2}(t)&\\cdots&x_{nn}(t)\\end{vmatrix}\n",
    "+\n",
    "\\begin{vmatrix} x_{11}(t)&x_{12}(t)&\\cdots&x_{1n}(t)\\\\x'_{21}(t)&x'_{22}(t)&\\cdots&x'_{2n}(t)\\\\\\cdots&\\cdots&\\cdots&\\cdots\\\\x_{n1}(t)&x_{n2}(t)&\\cdots&x_{nn}(t)\\end{vmatrix}\n",
    "+\\cdots+\n",
    "\\begin{vmatrix} x_{11}(t)&x_{12}(t)&\\cdots&x_{1n}(t)\\\\x_{21}(t)&x_{22}(t)&\\cdots&x_{2n}(t)\\\\\\cdots&\\cdots&\\cdots&\\cdots\\\\x'_{n1}(t)&x'_{n2}(t)&\\cdots&x'_{nn}(t)\\end{vmatrix}……① \n",
    "$\n",
    "\n",
    "由于\n",
    "\n",
    "$x'_{11}=a_{11}x_{11}+a_{12}x_{21}+\\cdots+a_{1n}x_{n1}$，\n",
    "\n",
    "$x'_{12}=a_{11}x_{12}+a_{12}x_{22}+\\cdots+a_{1n}x_{n2}$,\n",
    "\n",
    "$\\cdots\\cdots\\cdots\\cdots\\cdots$\n",
    "\n",
    "$x'_{1n}=a_{11}x_{1n}+a_{12}x_{2n}+\\cdots+a_{1n}x_{nn}$,\n",
    "\n",
    "所以，由行列式的性质有\n",
    "\n",
    "$\n",
    "\\begin{vmatrix} x'_{11}(t)&x'_{12}(t)&x'_{13}(t)&\\cdots&x'_{1n}(t)\\\\x_{21}(t)&x_{22}(t)&x_{23}(t)&\\cdots&x_{2n}(t)\\\\\\cdots&\\cdots&\\cdots&\\cdots&\\cdots\\\\x_{n1}(t)&x_{n2}(t)&x_{n3}(t)&\\cdots&x_{nn}(t)\\end{vmatrix}\n",
    "=\n",
    "\\begin{vmatrix} a_{11}x_{11}(t)&a_{12}x_{12}(t)&a_{11}x_{13}(t)&\\cdots&a_{11}x_{1n}(t)\\\\x_{21}(t)&x_{22}(t)&x_{23}(t)&\\cdots&x_{2n}(t)\\\\\\cdots&\\cdots&\\cdots&\\cdots&\\cdots\\\\x_{n1}(t)&x_{n2}(t)&x_{n3}(t)&\\cdots&x_{nn}(t)\\end{vmatrix}\n",
    "+\n",
    "\\begin{vmatrix}a_{12}x_{21}(t)&a_{12}x_{22}(t)&a_{12}x_{23}(t)&\\cdots&a_{12}x_{2n}(t)\\\\x_{21}(t)&x_{22}(t)&x_{23}(t)&\\cdots&x_{2n}(t)\\\\\\cdots&\\cdots&\\cdots&\\cdots&\\cdots\\\\x_{n1}(t)&x_{n2}(t)&x_{n3}(t)&\\cdots&x_{nn}(t)\\end{vmatrix}  \n",
    "+\\cdots +\n",
    "\\begin{vmatrix} a_{1n}x_{n1}(t)&a_{1n}x_{n2}(t)&a_{1n}x_{n3}(t)&\\cdots&a_{1n}x_{nn}(t)\\\\x_{21}(t)&x_{22}(t)&x_{23}(t)&\\cdots&x_{2n}(t)\\\\\\cdots&\\cdots&\\cdots&\\cdots&\\cdots\\\\x_{n1}(t)&x_{n2}(t)&x_{n3}(t)&\\cdots&x_{nn}(t)\\end{vmatrix}\n",
    "=a_{11}(t)W(t)\n",
    "$\n",
    "\n",
    "同理，\n",
    "\n",
    "①中右端第2个行列式等于$a_{22}(t)W(t)$,\n",
    "\n",
    "第3个行列式等于$a_{33}(t)W(t)$,\n",
    "\n",
    "$\\cdots\\cdots\\cdots\\cdots$\n",
    "\n",
    "第n个行列式等于$a_{nn}W(t)$，因此得到\n",
    "\n",
    "$\\frac{dW(t)}{dt}W'(t)=[a_{11}(t)+a_{22}(t)+\\cdots+a_{nn}(t)]W(t)$"
   ]
  },
  {
   "cell_type": "markdown",
   "metadata": {},
   "source": [
    "（2）\n",
    "\n",
    "上面的一阶线性微分方程可写为\n",
    "\n",
    "$\\frac{dW}w=[a_n(t)+a_{22}t+…+a_{nn}(t)]dt$\n",
    "\n",
    "对上式两边从$t_0$到t积分得\n",
    "\n",
    "$\\ln|W(t)|-\\ln|W(t_0)|=\\int^t_{t_0}[a_{11}(s)+a_{22}(s)+…+a_{nn}(s)]ds$\n",
    "\n",
    "再对两边作用指数函数，得\n",
    "\n",
    "$W(t)=W(t_0)e^{\\int^t_{t_0}[a_{11}(s)+a_{22}(s)+…+a_{nn}(s)]ds}$"
   ]
  },
  {
   "cell_type": "markdown",
   "metadata": {
    "collapsed": true
   },
   "source": [
    "3.设A(t)为区间$a\\leq t\\leq b$上的连续n×n实矩阵，$Φ(t)$为方程$x'=A(t)x$的基解矩阵，而$x=\\phi(t)$为其一解。试证:\n",
    "\n",
    "（1）对于方程$y'=-A^T(t)y$的任一解y=Ψ(t)必有$Ψ^T(t)\\phi(t)=常数$；\n",
    "\n",
    "（2）$Ψ(t)$为方程$y'=-A^T(t)y$的基解矩阵的充要条件是存在非奇异的常数矩阵C，使$Ψ^T(t)Φ(t)=C$."
   ]
  },
  {
   "cell_type": "markdown",
   "metadata": {},
   "source": [
    "证明：\n",
    "\n",
    "（1）\n",
    "\n",
    "由于$φ(t)$是$x'=A(t)x$的解，\n",
    "\n",
    "$\n",
    "φ'(t)=\n",
    "\\begin{bmatrix}φ'_1(t)\\\\φ'_2(t)\\\\\\vdots\\\\φ'_n(t)\\end{bmatrix}\n",
    "=\n",
    "\\begin{bmatrix}a_{11}&a_{12}&\\cdots&a_{1n}\\\\a_{21}&a_{22}&…&a_{2n}\\\\\\cdots&\\cdots&\\cdots&\\cdots\\\\a_{n1}&a_{n2}&\\cdots&a_{nn}\\end{bmatrix}\n",
    "\\begin{bmatrix}φ_1(t)\\\\φ_2(t)\\\\\\vdots\\\\φ_n(t)\\end{bmatrix}\n",
    "=\n",
    "\\begin{bmatrix}\\displaystyle\\sum_{k=1}^na_{1k}φ_k\\\\ \\displaystyle\\sum_{k=1}^na_{2k}φ_k\\\\\\vdots\\\\ \\displaystyle\\sum_{k=1}^na_{nk}φ_k\\end{bmatrix}\n",
    "$\n",
    "\n",
    "同理，由于$Ψ(t)$是方程$y'=-A^Ty$的解，\n",
    "\n",
    "$\n",
    "Ψ'(t)=\n",
    "\\begin{bmatrix}Ψ'_1(t)\\\\Ψ'_2(t)\\\\\\vdots\\\\Ψ'_n(t)\\end{bmatrix}\n",
    "=-\n",
    "\\begin{bmatrix}a_{11}&a_{21}&\\cdots&a_{n1}\\\\a_{12}&a_{22}&\\cdots&a_{n2}\\\\\\cdots&\\cdots&\\cdots&\\cdots\\\\a_{1n}&a_{2n}&\\cdots&a_{nn}\\end{bmatrix}\\begin{bmatrix}Ψ_1(t)\\\\Ψ_2(t)\\\\\\vdots\\\\Ψ_n(t)\\end{bmatrix}\n",
    "=\n",
    "-\\begin{bmatrix}\\displaystyle\\sum_{k=1}^na_{k1}φ_k\\\\ \\displaystyle\\sum_{k=1}^na_{k2}φ_k\\\\\\vdots\\\\ \\displaystyle\\sum_{k=1}^na_{kn}φ_k\\end{bmatrix}$\n",
    "\n",
    "对$Ψ^T(t)φ(t)$求导函数得\n",
    "\n",
    "$\n",
    "\\begin{aligned}\n",
    "\\frac{d(Ψ^T(t)φ(t))}{dt}&=\\frac{dΨ^T(t)}{dt}φ(t)+Ψ^T(t)\\bullet\\frac{dφ(t)}{dt}\\\\\\\n",
    "&=\n",
    "-(\\displaystyle\\sum_{k=1}^na_{k1}φ_k,\\displaystyle\\sum_{k=1}^na_{k2}φ_k,\\cdots，\\displaystyle\\sum_{k=1}^na_{kn}φ_k)\\bullet\n",
    "\\begin{bmatrix}φ_1(t)\\\\φ_2(t)\\\\\\cdots\\\\φ_n(t)\\end{bmatrix}\n",
    "+\n",
    "(Ψ_1(t),Ψ_2(t),\\cdots，Ψ_n(t))\\bullet\n",
    "\\begin{bmatrix}\\displaystyle\\sum_{k=1}^na_{1k}φ_k\\\\ \\displaystyle\\sum_{k=1}^na_{2k}φ_k\\\\\\cdots\\\\ \\displaystyle\\sum_{k=1}^na_{nk}φ_k\\end{bmatrix}\\\\\\\n",
    "&=-[\\displaystyle\\sum_{k=1}^na_{k1}Ψ_kφ_1+\\displaystyle\\sum_{k=1}^na_{k2}Ψ_kφ_2+\\cdots+\\displaystyle\\sum_{k=1}^na_{kn}Ψ_kφ_n]+[\\displaystyle\\sum_{k=1}^nΨ_1a_{1k}φ_k+\\displaystyle\\sum_{k=1}^nΨ_2a_{2k}φ_k+\\cdots+\\displaystyle\\sum_{k=1}^nΨ_ka_{nk}φ_k]\\\\\\\n",
    "&=-\\displaystyle\\sum_{k=1}^n\\displaystyle\\sum_{k=1}^n(a_{ki}Ψ_kφ_i)+\\displaystyle\\sum_{k=1}^n\\displaystyle\\sum_{k=1}^n(Ψ_ia_{ik}φ_k)\\\\\\\n",
    "&=-\\displaystyle\\sum_{k=1}^n\\displaystyle\\sum_{k=1}^n(a_{ki}Ψ_kφ_i)+\\displaystyle\\sum_{k=1}^n\\displaystyle\\sum_{k=1}^n(a_{ik}Ψ_iφ_k) \n",
    "=0\n",
    "\\end{aligned}\n",
    "$\n",
    "\n",
    "所以$Ψ^T(t)φ(t)=常数$"
   ]
  },
  {
   "cell_type": "markdown",
   "metadata": {},
   "source": [
    "（2）\n",
    "\n",
    "充分性：\n",
    "\n",
    "存在非奇异矩阵$C$，使得$Ψ^T(t)Φ(t)=C$\n",
    "\n",
    "因为，$Φ(t)$是$x'=A(t)x$的基解矩阵\n",
    "\n",
    "所以，$Φ^{-1}(t)$存在，\n",
    "\n",
    "所以，$Ψ^T(t)=C\\bulletΦ^{-1}(t)$且$det(Ψ^T(t))=det(C\\bulletΦ^{-1}(t))\\neq0$\n",
    "\n",
    "因此，$Ψ(t)$是基解矩阵\n",
    "\n",
    "必要性：\n",
    "\n",
    "$Ψ(t)$是基解矩阵，\n",
    "\n",
    "则，$Ψ(t)$的每一个列向量$Ψ_1(t),Ψ_2(t),\\cdots，Ψ_n(t)$与$Φ(t)$的每一个列向量$φ_1(t),φ_2(t),\\cdots,φ_n(t)$满足\n",
    "\n",
    "$Ψ_i^T(t)φ_j(t)=常数，i=1,2,…,n；j=1,2,\\cdots,n$\n",
    "\n",
    "即，$Ψ^T(t)Φ(t)$是常数矩阵，记为$c$\n",
    "\n",
    "又因为，$Φ(t)，Ψ(t)$分别是基解矩阵\n",
    "\n",
    "所以，$det(Φ(t))\\neq0,det(Ψ^T(t))\\neq0$\n",
    "\n",
    "$detC=det(Φ(t))\\bullet det(Φ^T(t))\\neq0$\n",
    "\n",
    "即，$C$是非奇异的。"
   ]
  },
  {
   "cell_type": "markdown",
   "metadata": {
    "collapsed": true
   },
   "source": [
    "# <font color='red'>A  3/12"
   ]
  },
  {
   "cell_type": "code",
   "execution_count": null,
   "metadata": {
    "collapsed": true
   },
   "outputs": [],
   "source": []
  }
 ],
 "metadata": {
  "kernelspec": {
   "display_name": "SageMath 7.3",
   "language": "",
   "name": "sagemath"
  },
  "language_info": {
   "codemirror_mode": {
    "name": "ipython",
    "version": 2
   },
   "file_extension": ".py",
   "mimetype": "text/x-python",
   "name": "python",
   "nbconvert_exporter": "python",
   "pygments_lexer": "ipython2",
   "version": "2.7.10"
  }
 },
 "nbformat": 4,
 "nbformat_minor": 0
}
