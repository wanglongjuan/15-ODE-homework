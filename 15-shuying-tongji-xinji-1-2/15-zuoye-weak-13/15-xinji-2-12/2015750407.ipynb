{
 "cells": [
  {
   "cell_type": "markdown",
   "metadata": {},
   "source": [
    "$2015750407魏雄峰常微分第十三周作业$"
   ]
  },
  {
   "cell_type": "markdown",
   "metadata": {},
   "source": [
    "$P216\\quad2.$"
   ]
  },
  {
   "cell_type": "markdown",
   "metadata": {},
   "source": [
    "$(1)解：$\n",
    "\n",
    "$$\n",
    "W'(t)=\n",
    "\\begin{vmatrix}\n",
    "x_{11}'&x_{12}'&\\cdots&x_{1n}'\\\\\n",
    "x_{21}&x_{22}&\\cdots&x_{2n}\\\\\n",
    "\\vdots&\\vdots&\\quad&\\vdots\\\\\n",
    "x_{n1}&x_{n2}&\\cdots&x_{nn}\\\\\n",
    "\\end{vmatrix}\n",
    "+\n",
    "\\begin{vmatrix}\n",
    "x_{11}&x_{12}&\\cdots&x_{1n}\\\\\n",
    "x_{21}'&x_{22}'&\\cdots&x_{2n}'\\\\\n",
    "\\vdots&\\vdots&\\quad&\\vdots\\\\\n",
    "x_{n1}&x_{n2}&\\cdots&x_{nn}\\\\\n",
    "\\end{vmatrix}\n",
    "+\\cdots+\n",
    "\\begin{vmatrix}\n",
    "x_{11}&x_{12}&\\cdots&x_{1n}\\\\\n",
    "x_{21}&x_{22}&\\cdots&x_{2n}\\\\\n",
    "\\vdots&\\vdots&\\quad&\\vdots\\\\\n",
    "x_{n1}'&x_{n2}'&\\cdots&x_{nn}'\\\\\n",
    "\\end{vmatrix}\n",
    "=\n",
    "\\begin{vmatrix}\n",
    "a_{11}x_{11}+a_{12}x_{21}+\\cdots+a_{1n}x_{n1}&a_{11}x_{12}+a_{12}x_{22}+\\cdots+a_{1n}x_{n2}&\\cdots&a_{11}x_{1n}+a_{12}x_{2n}+\\cdots+a_{1n}x_{nn}\\\\\n",
    "x_{21}&x_{22}&\\cdots&x_{2n}\\\\\n",
    "\\vdots&\\vdots&\\quad&\\vdots\\\\\n",
    "x_{n1}&x_{n2}&\\cdots&x_{nn}\\\\\n",
    "\\end{vmatrix}\n",
    "+\\cdots+\n",
    "\\begin{vmatrix}\n",
    "x_{11}&x_{12}&\\cdots&x_{1n}\\\\\n",
    "x_{21}&x_{22}&\\cdots&x_{2n}\\\\\n",
    "\\vdots&\\vdots&\\quad&\\vdots\\\\\n",
    "a_{n1}x_{11}+\\cdots+a_{nn}x_{n1}&a_{n1}x_{21}+\\cdots+a_{nn}x_{n2}&\\cdots&a_{nn}x_{1n}+\\cdots+a_{nn}x_{nn}\\\\\n",
    "\\end{vmatrix}\n",
    "=\n",
    "\\begin{vmatrix}\n",
    "a_{11}x_{11}&a_{11}x_{12}&\\cdots&a_{11}x_{1n}\\\\\n",
    "x_{21}&x_{22}&\\cdots&x_{2n}\\\\\n",
    "\\vdots&\\vdots&\\quad&\\vdots\\\\\n",
    "x_{n1}&x_{n2}&\\cdots&x_{nn}\\\\\n",
    "\\end{vmatrix}\n",
    "+\\cdots+\n",
    "\\begin{vmatrix}\n",
    "x_{11}&x_{12}&\\cdots&x_{1n}\\\\\n",
    "x_{21}&x_{22}&\\cdots&x_{2n}\\\\\n",
    "\\vdots&\\vdots&\\quad&\\vdots\\\\\n",
    "a_{nn}x_{n1}&a_{nn}x_{n2}&\\cdots&a_{nn}x_{nn}\\\\\n",
    "\\end{vmatrix}\n",
    "$$\n",
    "\n",
    "$整理后得$\n",
    "\n",
    "$$\n",
    "W'(t)=(a_{11}+\\cdots+a_{nn})\n",
    "\\begin{vmatrix}\n",
    "x_{11}&x_{12}&\\cdots&x_{1n}\\\\\n",
    "x_{21}&x_{22}&\\cdots&x_{2n}\\\\\n",
    "\\vdots&\\vdots&\\quad&\\vdots\\\\\n",
    "x_{n1}&x_{n2}&\\cdots&x_{nn}\\\\\n",
    "\\end{vmatrix}\n",
    "=(a_{11}+\\cdots+a_{nn})W(t)=(a_{11}(t)+\\cdots+a_{nn}(t))W(t)\n",
    "$$\n",
    "\n",
    "$（2）解：由于W'(t)=[a_{11}(t)+\\cdots+a_{nn}(t)]W(t),即\\frac{d W(t)}{W(t)}=[a_{11}(t)+\\cdots+a_{nn}(t)]dt,两边从t_)到t积分得$\n",
    "\n",
    "$\\ln |W(t)|-\\ln|W(t_0)|=\\int\\limits_{t_0}^t [a_{11}(s)+\\cdots+a_{nn}(s)] d s$\n",
    "\n",
    "$即W(t)=W(t_0)e^{\\int\\limits_{t_0}^t [a_{11}(s)+\\cdots+a_{nn}(s)] d s},t \\in [a,b]$"
   ]
  },
  {
   "cell_type": "markdown",
   "metadata": {},
   "source": [
    "$3.解：(1)[\\Psi^T(t)\\varphi(t)]'=(\\Psi^T(t))'\\varphi(t)+\\Psi^T(t)\\varphi'(t)=(\\Psi^T(t))'\\varphi(t)+\\Psi^T(t)A(t)\\varphi(t)$\n",
    "\n",
    "$\\because \\Psi'(t)=-A^T(t)\\Psi(t),\\therefore(\\Psi^T(t))'=-\\Psi^T(t)A(t)$\n",
    "\n",
    "$从而[\\Psi^T(t)\\varphi(t)]'=-\\Psi^T(t)A(t)\\varphi(t)+\\Psi^T(t)A(t)\\varphi(t)=0$\n",
    "\n",
    "$\\therefore 对方程y'=-A^T(t)y的任一解y=\\Psi(t)必有\\Psi^T(t)\\varphi(t)=常数$"
   ]
  },
  {
   "cell_type": "markdown",
   "metadata": {},
   "source": [
    "$(2)必要性：$\n",
    "\n",
    "$假设\\Psi(t)为方程y'=-A^T(t)y的基解矩阵，则$\n",
    "\n",
    "$[\\Psi^T(t)\\Phi(t)]'=(\\Psi^T(t))'\\Phi(t)+\\Psi^T(t)\\Phi'(t)=[-A^T(t)\\Psi(t)]^T\\Phi(t)+\\Psi^T(t)A(t)\\Phi(t)=-\\Psi^T(t)A(t)\\Phi(t)+\\Psi^T(t)A(t)\\Phi(t)=0$\n",
    "\n",
    "$\\therefore \\Psi^T(t)\\Phi(t)=C$\n",
    "\n",
    "$\\because \\Psi(t)、\\Phi(t)分别是基解矩阵，从而det(\\Phi(t))\\neq0,det(\\Psi(t))\\neq0,则det(C)\\neq0,即C是非奇异的$\n",
    "\n",
    "$充分性：$\n",
    "\n",
    "$若存在非奇异常数矩阵C,detC\\neq0,使\\Psi^T(t)\\Phi(t)=C$\n",
    "\n",
    "$\\because \\Phi(t)为方程x'=A(t)x的基解矩阵，\\therefore\\Phi^{-1}(t)存在$\n",
    "\n",
    "$\\therefore \\Psi(t)=C\\Phi^{-1}(t),且det(\\Psi^T(t))=det(C\\Phi^{-1}(t))\\neq0$\n",
    "\n",
    "$即\\Psi(t)为方程y'=-A^T(t)y的基解矩阵$"
   ]
  },
  {
   "cell_type": "markdown",
   "metadata": {},
   "source": [
    "# <font color='red'>A  3/12"
   ]
  },
  {
   "cell_type": "code",
   "execution_count": null,
   "metadata": {
    "collapsed": true
   },
   "outputs": [],
   "source": []
  }
 ],
 "metadata": {
  "kernelspec": {
   "display_name": "SageMath 7.3",
   "language": "",
   "name": "sagemath"
  },
  "language_info": {
   "codemirror_mode": {
    "name": "ipython",
    "version": 2
   },
   "file_extension": ".py",
   "mimetype": "text/x-python",
   "name": "python",
   "nbconvert_exporter": "python",
   "pygments_lexer": "ipython2",
   "version": "2.7.10"
  }
 },
 "nbformat": 4,
 "nbformat_minor": 0
}
