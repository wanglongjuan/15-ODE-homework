{
 "cells": [
  {
   "cell_type": "markdown",
   "metadata": {},
   "source": [
    "$2.考虑方程组x'=A(t)x,其中A(t)是区间a\\leq t \\leq b上的连续n\\times n矩阵，它的元为a_{ij}(t)(i,j=1,2,\\dots,n).$\n",
    "\n",
    "$(1)如果x_1(t),x_2(t),\\dots,x_n(t)是方程组的任意n个解，那么它们的朗斯基行列式W[x_1(t),x_2(t),\\dots,x_n(t)]\\equiv W(t)满足下面的一阶性线性微分方程W'=[a_{11}(t)+a_{22}(t)+\\dots+a_{nn}(t)]W$\n",
    "\n",
    "$(2)解上面的一阶线性微分方程，证明公式：W(t)=W(t_0)e^{\\int^t_{t_0}[a_{11}(s)+a_{22}(s)+\\dots+a_{nn}(s)]\\mathrm d s},t_0,t\\in[a,b]$\n",
    "\n",
    "$解：（1）将x_1(t),x_2(t),\\dots,x_n(t)用向量表示，朗斯基行列式为$\n",
    "\n",
    "$W(t)=\\begin{bmatrix}x_{11}(t)&x_{12}(t)&\\dots&x_{1n}(t)\\\\x_{21}(t)&x_{22}(t)&\\dots&x_{2n}(t)\\\\\\dots&\\dots&\\dots&\\dots\\\\x_{n1}(t)&x_{n2}(t)&\\dots&x_{nn}(t)\\end{bmatrix}$\n",
    "\n",
    "$对W(t)求导得\\frac{\\mathrm d W(t)}{\\mathrm d t}=\\frac{\\mathrm d}{\\mathrm d t}\\begin{bmatrix}x_{11}(t)&x_{12}(t)&\\dots&x_{1n}(t)\\\\x_{21}(t)&x_{22}(t)&\\dots&x_{2n}(t)\\\\\\dots&\\dots&\\dots&\\dots\\\\x_{n1}(t)&x_{n2}(t)&\\dots&x_{nn}(t)\\end{bmatrix}=\\begin{bmatrix}x'_{11}(t)&x'_{12}(t)&x'_{13}(t)&\\dots&x'_{1n}(t)\\\\x_{21}(t)&x_{22}(t)&x_{23}(t)&\\dots&x_{2n}(t)\\\\\\dots&\\dots&\\dots&\\dots&\\dots\\\\x_{n1}(t)&x_{n2}(t)&x_{n3}(t)&\\dots&x_{nn}(t)\\end{bmatrix}+\\begin{bmatrix}x_{11}(t)&x_{12}(t)&x_{13}(t)&\\dots&x_{1n}(t)\\\\x'_{21}(t)&x'_{22}(t)&x'_{23}(t)&\\dots&x'_{2n}(t)\\\\\\dots&\\dots&\\dots&\\dots&\\dots\\\\x_{n1}(t)&x_{n2}(t)&x_{n3}(t)&\\dots&x_{nn}(t)\\end{bmatrix}+\\dots+\\begin{bmatrix}x_{11}(t)&x_{12}(t)&x_{13}(t)&\\dots&x_{1n}(t)\\\\x_{21}(t)&x_{22}(t)&x_{23}(t)&\\dots&x_{2n}(t)\\\\\\dots&\\dots&\\dots&\\dots&\\dots\\\\x'_{n1}(t)&x'_{n2}(t)&x'_{n3}(t)&\\dots&x'_{nn}(t)\\end{bmatrix}$\n",
    "\n",
    "$由于x'_{11}=a_{11}x_{11}+a_{12}x_{21}+\\dots+a_{1n}x_{n1}$\n",
    "\n",
    "$x'_{12}=a_{11}x_{12}+a_{12}x_{22}+\\dots+a_{1n}x_{n2}$\n",
    "\n",
    "$\\dots\\dots\\dots\\dots$\n",
    "\n",
    "$x'_{1n}=a_{11}x_{1n}+a_{12}x_{2n}+\\dots+a_{1n}x_{nn}$\n",
    "\n",
    "$由行列式的性质，\\begin{bmatrix}x'_{11}(t)&x'_{12}(t)&x'_{13}(t)&\\dots&x'_{1n}(t)\\\\x_{21}(t)&x_{22}(t)&x_{23}(t)&\\dots&x_{2n}(t)\\\\\\dots&\\dots&\\dots&\\dots&\\dots\\\\x_{n1}(t)&x_{n2}(t)&x_{n3}(t)&\\dots&x_{nn}(t)\\end{bmatrix}=\\begin{bmatrix}a_{11}x_{11}(t)&a_{11}x_{12}(t)&a_{11}x_{13}(t)&\\dots&a_{11}x_{1n}(t)\\\\x_{21}(t)&x_{22}(t)&x_{23}(t)&\\dots&x_{2n}(t)\\\\\\dots&\\dots&\\dots&\\dots&\\dots\\\\x_{n1}(t)&x_{n2}(t)&x_{n3}(t)&\\dots&x_{nn}(t)\\end{bmatrix}+\\begin{bmatrix}a_{12}x_{21}(t)&a_{12}x_{22}(t)&a_{12}x_{23}(t)&\\dots&a_{12}x_{2n}(t)\\\\x_{21}(t)&x_{22}(t)&x_{23}(t)&\\dots&x_{2n}(t)\\\\\\dots&\\dots&\\dots&\\dots&\\dots\\\\x_{n1}(t)&x_{n2}(t)&x_{n3}(t)&\\dots&x_{nn}(t)\\end{bmatrix}+\\dots+\\begin{bmatrix}a_{1n}x_{n1}(t)&a_{1n}x_{n2}(t)&a_{1n}x_{n3}(t)&\\dots&a_{1n}x_{nn}(t)\\\\x_{21}(t)&x_{22}(t)&x_{23}(t)&\\dots&x_{2n}(t)\\\\\\dots&\\dots&\\dots&\\dots&\\dots\\\\x_{n1}(t)&x_{n2}(t)&x_{n3}(t)&\\dots&x_{nn}(t)\\end{bmatrix}=a_{11}(t)W(t)$\n",
    "\n",
    "$同理\\begin{bmatrix}x_{11}(t)&x_{12}(t)&x_{13}(t)&\\dots&x_{1n}(t)\\\\x'_{21}(t)&x'_{22}(t)&x'_{23}(t)&\\dots&x'_{2n}(t)\\\\\\dots&\\dots&\\dots&\\dots&\\dots\\\\x_{n1}(t)&x_{n2}(t)&x_{n3}(t)&\\dots&x_{nn}(t)\\end{bmatrix}=a_{22}(t)W(t),$\n",
    "\n",
    "$\\begin{bmatrix}x_{11}(t)&x_{12}(t)&x_{13}(t)&\\dots&x_{1n}(t)\\\\x_{21}(t)&x_{22}(t)&x_{23}(t)&\\dots&x_{2n}(t)\\\\\\dots&\\dots&\\dots&\\dots&\\dots\\\\x'_{n1}(t)&x'_{n2}(t)&x'_{n3}(t)&\\dots&x'_{nn}(t)\\end{bmatrix}=a_{33}(t)W(t)$\n",
    "\n",
    "$∴\\frac{\\mathrm d W(t)}{\\mathrm d t}=W'(t)=[a_{11}(t)+a_{22}(t)+\\dots+a_{nn}(t)]W(t)$\n",
    "\n",
    "$(2)对上面的一阶线性微分方程变形为\\frac{\\mathrm d W}{\\omega}=[a_n(t)+a_{22}(t)+\\dots+a_{nn}(t)]\\mathrm d t$\n",
    "\n",
    "$从t_0到t积分得\\ln\\mid W(t)\\mid-\\ln\\mid W(t_0)\\mid=\\int^t_{t_0}[a_{11}(s)+a_{22}(s)+\\dots+a_{nn}(s)]\\mathrm d s$\n",
    "\n",
    "$作指函数，得W(t)=W(t_0)e^{int^t_0[a_{11}(s)+a_{22}(s)+\\dots+a_{nn}(s)]\\mathrm d s}$"
   ]
  },
  {
   "cell_type": "markdown",
   "metadata": {},
   "source": [
    "$3.设A(t)为区间a\\leq t\\leq b上的连续n\\times n实矩阵，\\Phi(t)为方程x'=A(t)x的基解矩阵，而x=\\varphi(t)为其一解.试证：$\n",
    "\n",
    "$(1)对于方程y'=-A^T(t)y的任一解y=\\Psi(t)必有{\\Psi}^T(t)\\varphi(t)=常数；$\n",
    "\n",
    "$(2)\\Psi(t)为方程y'=-A^T(t)y的基解矩阵的充要条件是存在非奇异的常数矩阵C，使{\\Psi}^T\\Phi(t)=C$\n",
    "\n",
    "$解：（1）由于\\varphi(t)是x'=A(t)x的解$\n",
    "\n",
    "$∴{\\varphi}'(t)=\\begin{pmatrix}{\\varphi}'_1(t)\\\\{\\varphi}'_2(t)\\\\\\vdots\\\\{\\varphi}'_n(t)\\end{pmatrix}=\\begin{pmatrix}a_{11}&a_{12}&\\dots&a_{1n}\\\\a_{21}&a_{22}&\\dots&a_{2n}\\\\\\dots&\\dots&\\dots&\\dots\\\\a_{n1}&a_{n2}&\\dots&a_{nn}\\end{pmatrix}\\begin{pmatrix}{\\varphi}_1(t)\\\\{\\varphi}_2(t)\\\\\\vdots\\\\{\\varphi}_n(t)\\end{pmatrix}=\\begin{pmatrix}\\displaystyle\\sum_{k=1}^na_{1k}{\\varphi}_k\\\\\\displaystyle\\sum_{k=1}^na_{2k}{\\varphi}_k\\\\\\vdots\\\\\\displaystyle\\sum_{k=1}^na_{nk}{\\varphi}_k\\end{pmatrix}$\n",
    "\n",
    "$同理，∵\\psi(t)是方程y'=-A^Ty的解$\n",
    "\n",
    "$∴{\\Psi}'(t)=\\begin{pmatrix}{\\psi}'_1(t)\\\\{\\psi}'_2(t)\\\\\\vdots\\\\{\\psi}'_n(t)\\end{pmatrix}=-\\begin{pmatrix}a_{11}&a_{21}&\\dots&a_{n1}\\\\a_{12}&a_{22}&\\dots&a_{n2}\\\\\\dots&\\dots&\\dots&\\dots\\\\a_{1n}&a_{2n}&\\dots&a_{nn}\\end{pmatrix}\\begin{pmatrix}{\\psi}_1(t)\\\\{\\psi}_2(t)\\\\\\vdots\\\\{\\psi}_n(t)\\end{pmatrix}=-\\begin{pmatrix}\\displaystyle\\sum_{k=1}^na_{k1}{\\psi}_k\\\\\\displaystyle\\sum_{k=1}^na_{k2}{\\psi}_k\\\\\\vdots\\\\\\displaystyle\\sum_{k=1}^na_{kn}{\\psi}_k\\end{pmatrix}$\n",
    "\n",
    "$对{\\Psi}^T(t)\\varphi(t)求导得\\frac{\\mathrm d ({\\Psi}^T(t)\\varphi(t))}{\\mathrm d t}=\\frac{\\mathrm d {\\Psi}^T(t)}{\\mathrm d t}\\varphi(t)+{\\Psi}^T(t)\\bullet\\frac{\\mathrm d \\varphi(t)}{\\mathrm d t}=-(\\displaystyle\\sum_{k=1}^na_{k1}{\\psi}_k,\\displaystyle\\sum_{k=1}^na_{k2}{\\psi}_k,\\dots,\\displaystyle\\sum_{k=1}^na_{kn}{\\psi}_k)\\bullet\\begin{pmatrix}{\\varphi}_1(t)\\\\{\\varphi}_2(t)\\\\\\vdots\\\\{\\varphi}_n(t)\\end{pmatrix}+(\\psi_1(t),\\psi_2(t),\\dots,\\psi_n(t))\\bullet\\begin{pmatrix}\\displaystyle\\sum_{k=1}^na_{1k}{\\varphi}_k\\\\\\displaystyle\\sum_{k=1}^na_{2k}{\\varphi}_k\\\\\\vdots\\\\\\displaystyle\\sum_{k=1}^na_{nk}{\\varphi}_k\\end{pmatrix}=-[\\displaystyle\\sum_{k=1}^na_{k1}{\\psi}_k{\\varphi}_1+\\displaystyle\\sum_{k=1}^na_{k2}{\\psi}_k{\\varphi}_2+\\dots+\\displaystyle\\sum_{k=1}^na_{kn}{\\psi}_k{\\varphi}_n]+[\\displaystyle\\sum_{k=1}^n{\\psi}_1a_{1k}{\\varphi}_k+\\displaystyle\\sum_{k=1}^n{\\psi}_2a_{2k}{\\varphi}_k+\\dots+\\displaystyle\\sum_{k=1}^n{\\psi}_ka_{nk}{\\varphi}_k]=-\\displaystyle_{k=1}^n\\displaystyle_{i=1}^n(a_{ki}\\psi_k\\varphi_i)+\\displaystyle_{k=1}^n\\displaystyle_{i=1}^n(\\psi_ia_{ik}\\varphi_k)=-\\displaystyle_{k=1}^n\\displaystyle_{i=1}^n(a_{ki}\\psi_k\\varphi_i)+\\displaystyle_{k=1}^n\\displaystyle_{i=1}^n(a_{ik}\\psi_i\\varphi_k)=0$\n",
    "\n",
    "$∴{\\Psi}^T(t)\\varphi(t)=常数$\n",
    "\n",
    "$（2）充分性。存在非奇异矩阵C，使{\\Psi}^T(t)\\Phi(t)=C,由于\\Phi(t)是方程x'=A(t)x的基解矩阵，故{\\Phi}^{-1}(t)存在，所以{\\Psi}^T(t)=C\\bullet{\\Phi}^{-1}(t),并且det({\\Psi}^T(t))=det(C\\bullet{\\Phi}^{-1}(t))\\neq 0.因此\\Psi(t)是基解矩阵$\n",
    "\n",
    "$必要性。\\Psi(t)是基解矩阵，则\\Psi(t)的每一个列向量\\psi_1(t)，{\\psi}_2(t),\\dots,{\\psi}_n(t)与\\Phi(t)的每一个列向量{\\varphi}_1(t),{\\varphi}_2(t),\\dots,{\\varphi}_n(t)满足{\\psi_i}^T(t)\\varphi_j(t)=常数,i=1,2,\\dots,n,j=1,2,\\dots,n.这是说{\\Psi}^T(t)\\Phi(t)是常数矩阵，记为c，另外由于\\Phi(t),\\Psi(t)分别是基解矩阵，从而det(\\Phi(t))\\neq 0,det({\\Psi}^T(t))\\neq 0,这样detC=det(\\Phi(t))\\bullet det({\\Psi}^T(t))\\neq 0,也就是C是非奇异的$\n",
    "\n",
    "$∴存在非奇异常数矩阵C，使得{\\Psi}^T(t)\\Phi(t)=C$"
   ]
  },
  {
   "cell_type": "markdown",
   "metadata": {},
   "source": [
    "# <font color='red'>A  3/12"
   ]
  },
  {
   "cell_type": "code",
   "execution_count": null,
   "metadata": {
    "collapsed": true
   },
   "outputs": [],
   "source": []
  }
 ],
 "metadata": {
  "kernelspec": {
   "display_name": "SageMath 7.3",
   "language": "",
   "name": "sagemath"
  },
  "language_info": {
   "codemirror_mode": {
    "name": "ipython",
    "version": 2
   },
   "file_extension": ".py",
   "mimetype": "text/x-python",
   "name": "python",
   "nbconvert_exporter": "python",
   "pygments_lexer": "ipython2",
   "version": "2.7.10"
  }
 },
 "nbformat": 4,
 "nbformat_minor": 0
}
