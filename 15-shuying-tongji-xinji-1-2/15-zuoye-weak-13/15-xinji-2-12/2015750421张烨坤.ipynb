{
 "cells": [
  {
   "cell_type": "markdown",
   "metadata": {},
   "source": [
    "2015750421 张烨坤"
   ]
  },
  {
   "cell_type": "markdown",
   "metadata": {},
   "source": [
    "1.\n",
    "(1)由$ x^{\\prime} = A(t)x $ 可知\n",
    "$$\n",
    "    W^{\\prime}(t)=\\begin{vmatrix}x_{11}^{\\prime}&x_{12}^{\\prime}&\\cdots&x_{1n}^{\\prime}\\\\x_{21}& x_{22}& \\cdots&x_{2n}\\\\ \\vdots& \\vdots& \\ddots & \\cdots \\\\ x_{n1} & x_{n2} & \\cdots & x_{nn} \\end{vmatrix} + \\begin{vmatrix}x_{11}&x_{12}&\\cdots&x_{1n}\\\\x_{21}^{\\prime}& x_{22}^{\\prime}& \\cdots&x_{2n}^{\\prime}\\\\ \\vdots& \\vdots& \\ddots & \\cdots \\\\ x_{n1} & x_{n2} & \\cdots & x_{nn} \\end{vmatrix} + \\cdots + \\begin{vmatrix}x_{11}&x_{12}&\\cdots&x_{1n}\\\\x_{21}& x_{22}& \\cdots&x_{2}\\\\ \\vdots& \\vdots& \\ddots & \\cdots \\\\ x_{n1}^{\\prime} & x_{n2}^{\\prime} & \\cdots & x_{nn}^{\\prime} \\end{vmatrix} = \\begin{vmatrix} a_{11}x_{11} + a_{12}x_{21} + \\cdots +a_{1n}x_{n1} & a_{11}x_{12} + a_{12}x_{22} + \\cdots +a_{1n}x_{n2} & \\cdots & a_{11}x_{1n} + a_{12}x_{2n} + \\cdots +a_{1n}x_{nn} \\\\ x_{21} & x_{22} & \\cdots & x_{2n} \\\\ \\vdots & \\vdots & \\ddots & \\vdots \\\\ x_{n1} & x_{n2} & \\cdots & x_{nn} \\end{vmatrix} + \\cdots + \\begin{vmatrix} x_{11} & x_{12} & \\cdots & x_{1n} \\\\ x_{21} & x_{22} & \\cdots & x_{2n} \\\\ \\vdots & \\vdots & \\ddots & \\vdots \\\\ a_{n1}x_{11} + a_{n2}x_{21} + \\cdots +a_{nn}x_{n1} & a_{n1}x_{12} + a_{n2}x_{22} + \\cdots +a_{nn}x_{n2} & \\cdots & a_{n1}x_{1n} + a_{n2}x_{nn} + \\cdots +a_{nn}x_{nn} \\end{vmatrix} =           \\begin{vmatrix} a_{11}x_{11} & a_{11}x_{12} & \\cdots  & a_{11}x_{1n} \\\\ x_{21} & x_{22} & \\cdots & x_{2n} \\\\ \\vdots & \\vdots & \\ddots & \\vdots \\\\ x_{n1} & x_{n2} & \\cdots & x_{nn} \\end{vmatrix} + \\cdots + \\begin{vmatrix}x_{11} & x_{12} & \\cdots & x_{1n} \\\\ x_{21} & x_{22} & \\cdots & x_{2n}  \\\\a_{nn}x_{n1} & a_{nn}x_{n2} & \\cdots & a_{nn}x_{nn} \\end{vmatrix} \n",
    "$$ ， 整理后得到 \n",
    "$$\n",
    "(a_{11}+a_{22} + \\cdots + a_{nn}) \\begin{vmatrix} x_{11} & x_{12} & \\cdots & x_{1n} \\\\ x_{21} & x_{22} & \\cdots & x_{2n} \\\\ \\vdots & \\vdots & \\ddots & \\vdots \\\\ x_{n1} & x_{n2} & \\cdots & x_{nn} \\end{vmatrix} = (a_{11} + a_{22} + \\cdots + a_{nn})W(t) = [a_{11}(t) + a_{22}(t) + \\cdots + a_{nn}(t)]W(t)\n",
    "$$"
   ]
  },
  {
   "cell_type": "markdown",
   "metadata": {},
   "source": [
    "(2) 由于 $ W^{\\prime}(t) =  [a_{11}(t) + a_{22}(t) + \\cdots + a_{nn}(t)]W(t) $,\n",
    "即  $ \\frac{\\mathrm d W(t)}{W(t)} = [a_{11}(t) + a_{22}(t) + \\cdots + a_{nn}(t)]dt $ 两边从 $ t_0 $ 到 $ t $ 积分 $ \\ln|W(t)| - \\ln|W(t_0)| = \\int_0^t[a_{11}(s) + a_{22}(s) + \\cdots + a_{nn}(s)]ds $ ,\n",
    "即$ W(t) = W(t_0)e^{\\int_0^t[a_{11}(s) + a_{22}(s) + \\cdots + a_{nn}(s)]ds } , t \\in [a,b] $"
   ]
  },
  {
   "cell_type": "markdown",
   "metadata": {},
   "source": [
    "2.(1) \n",
    "$$\n",
    "[\\Psi^T(t)\\varphi(t)]^{\\prime} = (\\Psi^T(t))^{\\prime}\\varphi(t) + \\Psi^T(t)\\varphi^{\\prime}(t) = (\\Psi^T(t))^{\\prime}\\varphi(t) + \\Psi^T(t)A(t)\\varphi(t)\n",
    "$$ ,因为 $ \\Psi^{\\prime}(t) = -A^T(t)\\Psi(t) $ ,所以$ (\\Psi^T(t))^{\\prime} = -\\Psi^T(t)A(t) $ ,  $ [\\Psi^T(t)\\varphi(t)]^{\\prime} = -\\Psi^T(t)A(t)\\varphi(t) + \\Psi^T(t)A(t)\\varphi(t) = 0 $ , 所以对于方程 $ y^{\\prime} = -A^T(t)y $ 的任一解 $ y = \\Psi(t) $ 必有 $ \\Psi^T(t)\\varphi(t) =常数 $"
   ]
  },
  {
   "cell_type": "markdown",
   "metadata": {},
   "source": [
    "(2).必要性：\n",
    "假设 $\\Psi(t) $为方程 $ y^{\\prime} = -A^T(t)y $的基解矩阵，则\n",
    "$\n",
    "[\\Psi^T(t)\\phi(t)]^{\\prime} = [\\Psi^T(t)]^{\\prime}\\phi(t) + \\Psi^T(t)\\phi^{\\prime}(t) = [-A^T(t)\\Psi(t)]^T\\phi(t) + \\Psi^T(t)A(t)\\phi(t) = -\\Psi^T(t)A(t)\\phi(t) + \\Psi^T(t)A(t)\\phi(t) = 0 \n",
    "$,故 $ \\Psi^T(t)\\phi(t) = C $\n",
    "由于 $\\phi(t) 、 \\Psi(t) $分别是基解矩阵 ，从而 $ det(\\phi(t)) \\neq 0 ,det(\\Psi(t)) \\neq0 $,这样 ,$ det(C) \\neq $ ,即C 是非奇异的。\n",
    "\n",
    "充分性 ：\n",
    "若存在非奇异常数矩阵C， $ det C \\neq 0 $ , 使 $ \\Psi^T(t)\\phi(t) = C $ , 由于$ \\phi(t) $为方程 $x^{\\prime} = A(t)x $的基解矩阵，故 $ \\phi^{-1}(t) $ 存在，所以$ \\Psi^T(t) = C\\phi^{-1}(t) $,并且 $ det(\\Psi^T(t)) = det(C\\phi^{-1}(t))\\neq 0 $ , 即 $ \\Psi(t) $ 为方程 $ y^{\\prime} = -A^T(t)y $ 的基解矩阵。"
   ]
  },
  {
   "cell_type": "markdown",
   "metadata": {
    "collapsed": true
   },
   "source": [
    "# <font color='red'>A  3/12"
   ]
  },
  {
   "cell_type": "code",
   "execution_count": null,
   "metadata": {
    "collapsed": true
   },
   "outputs": [],
   "source": []
  }
 ],
 "metadata": {
  "kernelspec": {
   "display_name": "SageMath 7.3",
   "language": "",
   "name": "sagemath"
  },
  "language_info": {
   "codemirror_mode": {
    "name": "ipython",
    "version": 2
   },
   "file_extension": ".py",
   "mimetype": "text/x-python",
   "name": "python",
   "nbconvert_exporter": "python",
   "pygments_lexer": "ipython2",
   "version": "2.7.10"
  }
 },
 "nbformat": 4,
 "nbformat_minor": 0
}
