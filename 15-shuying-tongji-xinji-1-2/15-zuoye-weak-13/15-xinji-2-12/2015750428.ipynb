{
 "cells": [
  {
   "cell_type": "markdown",
   "metadata": {},
   "source": [
    "$1.$考虑方程组$$x'=A(t)x \\qquad \\qquad \\qquad \\qquad (5.15)$$其中 $A(t)$是区间$a \\leq t \\leq b$上的连续 $n\\times n$ 矩阵，它的元素为$a_{ij}(t),i ,j=1,2,\\cdots,n $\n",
    "\n",
    "\n",
    "$(1).$如果 $x_1(t),x_2(t),\\cdots,x_n(t)$是$(5.15)$的任意 n 个解，那么它们的伏朗斯基行列式 $W[x_1(t),x_2(t),\\cdots,x_n(t)]=W(t)$满足下面的一阶线性微分方程\n",
    "\n",
    "$$W' =[a_{11}(t)+a_{22}(t)+\\cdots+a_{nn}(t)]W$$\n",
    "$(2).$解上面的一阶线性微分方程，证明下面公式：\n",
    "\n",
    "$$W(t)=W(t_0)e^{\\int t_0^t[a_{11}(s)+a_{22}(s)+\\cdots+a_{nn}(s)]ds}, t_0,t\\in[a,b]$$ "
   ]
  },
  {
   "cell_type": "markdown",
   "metadata": {},
   "source": [
    "解：$(1).$用向量形式表示 $x_1(t),x_2(t),\\cdots,x_n(t)$，它们的朗斯基行列式为\n",
    "\n",
    "\n",
    "$$W(t)=\n",
    "\\begin{vmatrix}\n",
    "x_{11}(t)&x_{12}(t)&\\cdots &x_{1n}(t)\\\\\n",
    "x_{21}(t)&x_{22}(t)&\\cdots &x_{2n}(t)\\\\\n",
    "\\cdots&\\cdots&\\cdots&\\cdots\\\\\n",
    "x_{n1}(t)&x_{n2}(t)&\\cdots &x_{nn}(t)\\\\\n",
    "\\end{vmatrix}\n",
    "$$\n",
    "对$W(t)$求导得\n",
    "$$W'(t)=\n",
    "\\begin{vmatrix}\n",
    "x'_{11}(t)&x'_{12}(t)&\\cdots&x'_{1n}(t)\\\\\n",
    "x_{21}(t)&x_{22}(t)&\\cdots&x_{2n}(t)\\\\\n",
    "\\cdots&\\cdots&\\cdots&\\cdots\\\\\n",
    "x_{n1}(t)&x_{n2}(t)&\\cdots&x_{nn}(t)\\\\\n",
    "\\end{vmatrix}+\n",
    "\\begin{vmatrix}\n",
    "x_{11}(t)&x_{12}(t)&\\cdots&x_{1n}(t)\\\\\n",
    "x'_{21}(t)&x'_{22}(t)&\\cdots&x'_{2n}(t)\\\\\n",
    "\\cdots&\\cdots&\\cdots&\\cdots\\\\\n",
    "x_{n1}(t)&x_{n2}(t)&\\cdots&x_{nn}(t)\\\\\n",
    "\\end{vmatrix}+\\cdots +\n",
    "\\begin{vmatrix}\n",
    "x_{11}(t)&x_{12}(t)&\\cdots &x_{1n}(t)\\\\\n",
    "x_{21}(t)&x_{22}(t)&\\cdots &x_{2n}(t)\\\\\n",
    "\\cdots&\\cdots&\\cdots&\\cdots\\\\\n",
    "x'_{n1}(t)&x'_{n2}(t)&\\cdots &x'_{nn}(t)\\\\\n",
    "\\end{vmatrix}\n",
    "$$\n",
    "\n",
    "$$=\n",
    "\\begin{vmatrix}\n",
    "a_{11}x_{11}(t)+a_{12}x_{21}(t)+\\cdots+a_{1n}x_{n1}(t)&a_{11}x_{12}(t)+a_{12}x_{22}(t)+\\cdots+a_{1n}x_{n2}(t)&\\cdots&a_{11}x_{1n}(t)+a_{12}x_{2n}(t)+\\cdots+a_{1n}x_{nn}(t)\\\\\n",
    "x_{21}(t)&x_{22}(t)&\\cdots &x_{2n}(t)\\\\\n",
    "\\cdots&\\cdots&\\cdots&\\cdots\\\\\n",
    "x_{n1}(t)&x_{n2}(t)&\\cdots &x_{nn}(t)\\\\\n",
    "\\end{vmatrix}+\\cdots+\n",
    "\\begin{vmatrix}\n",
    "x_{11}(t)&x_{12}(t)&\\cdots &x_{1n}(t)\\\\\n",
    "x_{21}(t)&x_{22}(t)&\\cdots &x_{2n}(t)\\\\\n",
    "\\cdots&\\cdots&\\cdots&\\cdots\\\\\n",
    "a_{n1}x_{11}(t)+\\cdots+a_{nn}x_{n1}(t)&a_{n1}x_{21}(t)+\\cdots+a_{nn}x_{n2}(t)&\\cdots&a_{n1}x_{nn}(t)+\\cdots+a_{nn}x_{nn}(t)\\\\\n",
    "\\end{vmatrix}\n",
    "$$\n",
    "\n",
    "\n",
    "$$=\n",
    "\\begin{vmatrix}\n",
    "a_{11}x_{11}(t)&a_{11}x_{12}(t)&\\cdots&a_{11}x_{1n}(t)\\\\\n",
    "x_{21}(t)&x_{22}(t)&\\cdots &x_{2n}(t)\\\\\n",
    "\\cdots&\\cdots&\\cdots&\\cdots\\\\\n",
    "x_{n1}(t)&x_{n2}(t)&\\cdots &x_{nn}(t)\\\\\n",
    "\\end{vmatrix}+\\cdots+\\begin{vmatrix}\n",
    "x_{11}(t)&x_{12}(t)&\\cdots &x_{1n}(t)\\\\\n",
    "x_{21}(t)&x_{22}(t)&\\cdots &x_{2n}(t)\\\\\n",
    "\\cdots&\\cdots&\\cdots&\\cdots\\\\\n",
    "a_{nn}x_{n1}(t)&a_{nn}x_{n2}(t)&\\cdots&a_{nn}x_{nn}(t)\\\\\n",
    "\\end{vmatrix}\n",
    "$$\n",
    "\n",
    "整理后原式变为$$(a_{11}+a_{22}+\\cdots+a_{nn)}\\begin{vmatrix}\n",
    "x_{11}(t)&x_{12}(t)&\\cdots &x_{1n}(t)\\\\\n",
    "x_{21}(t)&x_{22}(t)&\\cdots &x_{2n}(t)\\\\\n",
    "\\cdots&\\cdots&\\cdots&\\cdots\\\\\n",
    "x_{n1}(t)&x_{n2}(t)&\\cdots&x_{nn}(t)\\\\\n",
    "\\end{vmatrix}\n",
    "=(a_{11}+a_{22}+\\cdots+a_{nn})w(t)=[a_{11}(t)+a_{22}(t)+\\cdots+a_{nn}(t)]w(t)$$\n",
    "\n",
    "即证得$$W' =[a_{11}(t)+a_{22}(t)+\\cdots+a_{nn}(t)]W$$\n",
    "\n",
    "$(2)$.$W' =[a_{11}(t)+a_{22}(t)+\\cdots+a_{nn}(t)]W$变形为$$\\frac{dW}{w}=[a_{11}(t)+a_{22}(t)+\\cdots+a_{nn}(t)]dt$$\n",
    "对上式从$t_0到t$积分得到$$ln|W(t)|-ln|W(t_0)|=\\int t_0^{t} [a_{11}(s)+a_{22}(s)+\\cdots+a_{nn}(s)]ds$$\n",
    "两边再作用指数函数，得到$$W(t)=W(t_0)e^{\\int t_0^{t} [a_{11}(s)+a_{22}(s)+\\cdots+a_{nn}(s)]ds}$$"
   ]
  },
  {
   "cell_type": "markdown",
   "metadata": {},
   "source": [
    "$2.$.设$ A(t)$为区间 $a \\leq t \\leq b$上的连续 $n\\times n$ 实矩阵，$\\phi(t)$为方程 $x'=A(t)x$的基解矩阵，而 $x=\\varphi(t)$为其一解，试证：\n",
    "\n",
    "$(1)$对于方程 $y' =-A^T(t)y$ 的任一解$ y= \\psi(t)$必有$\\psi^T(t)\\varphi(t)=常数$；\n",
    "\n",
    "\n",
    "$(2)$ $\\psi(t)$为方程$y' =-A^T(t)y$ 的基解矩阵的充要条件是存在非奇异的常数矩阵$C$，使$\\psi^T(t)\\phi(t)= C$.\n"
   ]
  },
  {
   "cell_type": "markdown",
   "metadata": {},
   "source": [
    "解：$(1)$ 因为$\\phi(t)$为方程 $x'=A(t)x$的基解矩阵，所以$\\phi(t)'=A(t)\\varphi(t)$于是$$[\\psi^T(t)\\varphi(t)]'= \\psi^{T'}(t)\\varphi(t)+\\psi^T(t)\\varphi'(t)= \\psi'^T(t)\\varphi(t)+\\psi^T(t)A(t)\\varphi(t)$$\n",
    "\n",
    "又由于$\\psi'=-A^T(t)\\psi(t)$，所以$ \\psi'^T=-\\psi^T(t)A(t)$,那么有$$[\\psi^T(t)\\varphi(t)]'=-\\psi^T(t)\\varphi(t)A(t)+\\psi^T(t)A(t)\\varphi(t)=0$$\n",
    "\n",
    "因此对于方程 $y' =-A^T(t)y$ 的任一解$ y= \\psi(t)$必有$\\psi^T(t)\\varphi(t)=常数$\n",
    "\n",
    "\n",
    "$(2)$充分性：存在非奇异矩阵$C$,使得$\\psi^T(t)\\phi(t)= C$，由于$\\phi(t)$是方程$y' =-A^T(t)y$ 的基解矩阵，所以$\\phi^{-1}(t)$存在，于是$\\psi^T(t)=C.\\phi^{-1}(t)$,并且\n",
    "\n",
    "$det(\\psi^T(t))=det(C.\\phi^{-1}(t))\\neq 0 $.因此，$\\psi(t)$是基解矩阵\n",
    "\n",
    "必要性：$\\psi(t)$是基解矩阵，则$\\psi(t)$的每一个列向量$\\psi_1(t)，\\psi_2(t),\\cdots ,\\psi_n(t)$与$\\phi(t)$的每一个列向量$\\varphi_1(t)，\\varphi_2(t),\\cdots ,\\varphi_n(t)$满足\n",
    "\n",
    "$\\psi_i^T(t)\\varphi_j(t)=常数$，$i=1,2,\\cdots,n,j=1,2,\\cdots,n$ 即$\\psi^T(t)\\phi(t)$是常数矩阵，记为$c$，又由于$\\phi(t),\\psi(t)$分别是基解矩阵，从而$det(\\phi(t))\\neq 0,det(\\psi^T(t))\\neq 0 $,\n",
    "\n",
    "这样$detC=det(\\phi(t)).det(\\psi^T(t))\\neq 0 $ ,即$C$是非奇异的.\n",
    "\n",
    "因此，存在非奇异的常数矩阵$C$，使$\\psi^T(t)\\phi(t)= C$."
   ]
  },
  {
   "cell_type": "markdown",
   "metadata": {},
   "source": [
    "# <font color='red'>A  3/12"
   ]
  },
  {
   "cell_type": "code",
   "execution_count": null,
   "metadata": {
    "collapsed": true
   },
   "outputs": [],
   "source": []
  }
 ],
 "metadata": {
  "kernelspec": {
   "display_name": "SageMath 7.3",
   "language": "",
   "name": "sagemath"
  },
  "language_info": {
   "codemirror_mode": {
    "name": "ipython",
    "version": 2
   },
   "file_extension": ".py",
   "mimetype": "text/x-python",
   "name": "python",
   "nbconvert_exporter": "python",
   "pygments_lexer": "ipython2",
   "version": "2.7.10"
  }
 },
 "nbformat": 4,
 "nbformat_minor": 0
}
