{
 "cells": [
  {
   "cell_type": "markdown",
   "metadata": {
    "collapsed": true
   },
   "source": [
    "2.考虑方程组\n",
    "\n",
    "$$x'=A(t)x$$\n",
    "\n",
    "其中$A(t)$是区间$a\\leq t\\leq b$上的连续$nxn$的矩阵，它的元为$a_{ij}(t)$($i,j=1,2,\\dots,n$)"
   ]
  },
  {
   "cell_type": "markdown",
   "metadata": {},
   "source": [
    "（1）.如果$x_1(t),x_2(t),\\dots,x_n(t)$是方程组的任意$n$个解，那么它的朗斯基行列式$W[x_1(t),x_2(t),\\dots,x_n(t)]\\equiv W(t)$满足下面的一阶线性微分方程\n",
    "\n",
    "$W'=[a_{11}(t)+a_{22}(t)+\\dots+a_{nn}(t)]W$"
   ]
  },
  {
   "cell_type": "markdown",
   "metadata": {},
   "source": [
    "(提示：利用行列式的微分方程，求出$W'$的表达式。）"
   ]
  },
  {
   "cell_type": "markdown",
   "metadata": {},
   "source": [
    "（2）.解上面的一阶线性微分方程，证明下面的公式：\n",
    "\n",
    "$W(t)=W(t_0)e^{\\int_{t_0}^t [a_{11}(s)+a_{22}(s)+\\dots+a_{nn}(s)ds},\\quad t_0,t\\in [a,b]$"
   ]
  },
  {
   "cell_type": "markdown",
   "metadata": {},
   "source": [
    "解：（1）\n",
    "$\n",
    "\\mathbf W'=\n",
    "\\left|\n",
    "\\begin{matrix}\n",
    "x_{11}(t)&x_{12}(t)&\\dots&x_{1n}(t)\\\\\n",
    "x_{21}(t)&x_{22}(t)&\\dots&x_{2n}(t)\\\\\n",
    "\\dots&\\dots&\\dots&\\dots\\\\\n",
    "x_{n1}(t)&x_{n2}(t)&\\dots&x_{nn}(t)\\\\\n",
    "\\end{matrix}\n",
    "\\right|\n",
    "$"
   ]
  },
  {
   "cell_type": "markdown",
   "metadata": {},
   "source": [
    "又因为：\n",
    "\n",
    "$$\\frac{\\mathrm dW(t)}{\\mathrm dt}=\n",
    "\\left|\n",
    "\\begin{matrix}\n",
    "x_{11}'(t)&x_{12}'(t)&\\dots&x_{1n}'(t)\\\\\n",
    "x_{21}(t)&x_{22}(t)&\\dots&x_{2n}(t)\\\\\n",
    "\\dots&\\dots&\\dots&\\dots\\\\\n",
    "x_{n1}(t)&x_{n2}(t)&\\dots&x_{nn}(t)\\\\\n",
    "\\end{matrix}\n",
    "\\right|\n",
    "+\n",
    "\\left|\n",
    "\\begin{matrix}\n",
    "x_{11}(t)&x_{12}(t)&\\dots&x_{1n}(t)\\\\\n",
    "x_{21}'(t)&x_{22}'(t)&\\dots&x_{2n}'(t)\\\\\n",
    "\\dots&\\dots&\\dots&\\dots\\\\\n",
    "x_{n1}(t)&x_{n2}(t)&\\dots&x_{nn}(t)\\\\\n",
    "\\end{matrix}\n",
    "\\right|\n",
    "+\n",
    "\\dots\n",
    "+\n",
    "\\left|\n",
    "\\begin{matrix}\n",
    "x_{11}(t)&x_{12}(t)&\\dots&x_{1n}(t)\\\\\n",
    "x_{21}(t)&x_{22}(t)&\\dots&x_{2n}(t)\\\\\n",
    "\\dots&\\dots&\\dots&\\dots\\\\\n",
    "x_{n1}'(t)&x_{n2}'(t)&\\dots&x_{nn}'(t)\\\\\n",
    "\\end{matrix}\n",
    "\\right|\n",
    "$$\n"
   ]
  },
  {
   "cell_type": "markdown",
   "metadata": {},
   "source": [
    "则：\n",
    "\n",
    "$$x_{11}'=a_{11}x_{11}+a_{12}x_{21}+\\dots+a_{1n}x_{1n}$$\n",
    "$$x_{12}'=a_{11}x_{12}+a_{12}x_{22}+\\dots+a_{1n}x_{2n}$$\n",
    "$$\\dots$$\n",
    "$$x_{1n}'=a_{11}x_{1n}+a_{12}x_{2n}+\\dots+a_{1n}x_{nn}$$"
   ]
  },
  {
   "cell_type": "markdown",
   "metadata": {},
   "source": [
    "$\n",
    "\\left|\n",
    "\\begin{matrix}\n",
    "x_{11}'(t)&x_{12}'(t)&\\dots&x_{1n}'(t)\\\\\n",
    "x_{21}(t)&x_{22}(t)&\\dots&x_{2n}(t)\\\\\n",
    "\\dots&\\dots&\\dots&\\dots\\\\\n",
    "x_{n1}(t)&x_{n2}(t)&\\dots&x_{nn}(t)\\\\\n",
    "\\end{matrix}\n",
    "\\right|\n",
    "=\n",
    "\\left|\n",
    "\\begin{matrix}\n",
    "a_{11}x_{11}(t)&a_{11}x_{12}(t)&\\dots&a_{11}x_{1n}(t)\\\\\n",
    "x_{21}(t)&x_{22}(t)&\\dots&x_{2n}(t)\\\\\n",
    "\\dots&\\dots&\\dots&\\dots\\\\\n",
    "x_{n1}(t)&x_{n2}(t)&\\dots&x_{nn}(t)\\\\\n",
    "\\end{matrix}\n",
    "\\right|\n",
    "+\n",
    "\\left|\n",
    "\\begin{matrix}\n",
    "a_{12}x_{21}(t)&a_{12}x_{22}(t)&\\dots&a_{12}x_{2n}(t)\\\\\n",
    "x_{21}(t)&x_{22}(t)&\\dots&x_{2n}(t)\\\\\n",
    "\\dots&\\dots&\\dots&\\dots\\\\\n",
    "x_{n1}(t)&x_{n2}(t)&\\dots&x_{nn}(t)\\\\\n",
    "\\end{matrix}\n",
    "\\right|\n",
    "+\n",
    "\\dots\n",
    "+\n",
    "\\left|\n",
    "\\begin{matrix}\n",
    "a_{1n}x_{n1}(t)&x_{1n}x_{n2}(t)&\\dots&a_{1n}x_{nn}(t)\\\\\n",
    "x_{21}(t)&x_{22}(t)&\\dots&x_{2n}(t)\\\\\n",
    "\\dots&\\dots&\\dots&\\dots\\\\\n",
    "x_{n1}(t)&x_{n2}(t)&\\dots&x_{nn}(t)\\\\\n",
    "\\end{matrix}\n",
    "\\right|\n",
    "=\n",
    "a_{11}(t)W(t)\n",
    "$"
   ]
  },
  {
   "cell_type": "markdown",
   "metadata": {},
   "source": [
    "同理可得：\n",
    "\n",
    "$\n",
    "\\left|\n",
    "\\begin{matrix}\n",
    "x_{11}(t)&x_{12}(t)&\\dots&x_{1n}(t)\\\\\n",
    "x_{21}'(t)&x_{22}'(t)&\\dots&x_{2n}'(t)\\\\\n",
    "\\dots&\\dots&\\dots&\\dots\\\\\n",
    "x_{n1}(t)&x_{n2}(t)&\\dots&x_{nn}(t)\\\\\n",
    "\\end{matrix}\n",
    "\\right|\n",
    "=\n",
    "a_{22}(t)W(t)\n",
    "\\dots\n",
    "\\left|\n",
    "\\begin{matrix}\n",
    "a_{1n}x_{n1}(t)&x_{1n}x_{n2}(t)&\\dots&a_{1n}x_{nn}(t)\\\\\n",
    "x_{21}(t)&x_{22}(t)&\\dots&x_{2n}(t)\\\\\n",
    "\\dots&\\dots&\\dots&\\dots\\\\\n",
    "x_{n1}(t)&x_{n2}(t)&\\dots&x_{nn}(t)\\\\\n",
    "\\end{matrix}\n",
    "\\right|\n",
    "=\n",
    "a_{nn}(t)W(t)\n",
    "$"
   ]
  },
  {
   "cell_type": "markdown",
   "metadata": {},
   "source": [
    "即：\n",
    "$$W'=[a_{11}(t)+a_{22}(t)+\\dots+a_{nn}(t)]W$$"
   ]
  },
  {
   "cell_type": "markdown",
   "metadata": {},
   "source": [
    "(2).\n",
    "\n",
    "$\n",
    "\\begin{aligned}\n",
    "W'&=[a_{11}(t)+a_{22}(t)+\\dots+a_{nn}(t)]W\\\\\n",
    "\\frac{\\mathrm dW}{\\mathrm W}&=a_{11}(t)+a_{22}(t)+\\dots+a_{nn}(t)\\\\\n",
    "\\end{aligned}\n",
    "$\n",
    "从$t_0\\to t $积分得：\n",
    "\n",
    "$ln|W(t)|-ln|W(t_0)|=\\int_{t_0}^t[a_{11}(t)+a_{22}(t)+\\dots+a_{nn}(t)]dt$\n",
    "即：\n",
    "\n",
    "$W(t)=W(t_0)e^{\\int_{t_0}^t [a_{11}(s)+a_{22}(s)+\\dots+a_{nn}(s)ds},\\quad t_0,t\\in [a,b]$"
   ]
  },
  {
   "cell_type": "markdown",
   "metadata": {},
   "source": [
    "3.设A（t）为区间$a\\leq t\\leq b$上的连续nxn实矩阵，$\\phi(t)$为方程$x'=A(t)x$的基解矩阵，而$x=\\varphi t$为其一解，试证：\n",
    "(1).对于方程$y'=-A^T(t)y$的任一解$y=\\psi(t)$必有$\\psi^T(t)\\varphi(t)=$常数。\n",
    "(2).$\\psi(t)$为方程$y'=-A^T(t)y$的基解矩阵的充要条件是存在非奇异的常数矩阵$C$，使$\\psi^T\\phi(t)=C$"
   ]
  },
  {
   "cell_type": "markdown",
   "metadata": {},
   "source": [
    "解：（1）$x=\\varphi t$为方程$x'=A(t)x$的基解矩阵:\n",
    "\n",
    "\n",
    "$$\n",
    "\\mathbf \\varphi'=\n",
    "\\left[\n",
    "\\begin{matrix}\n",
    "\\varphi_1'(t)\\\\\n",
    "\\varphi_2'(t)\\\\\n",
    "\\dots\\\\\n",
    "\\varphi_n'(t)\\\\\n",
    "\\end{matrix}\n",
    "\\right]\n",
    "=\n",
    "\\left[\n",
    "\\begin{matrix}\n",
    "a_{11}(t)&a_{12}(t)&\\dots&a_{1n}(t)\\\\\n",
    "a_{21}(t)&a_{22}(t)&\\dots&a_{2n}(t)\\\\\n",
    "\\dots&\\dots&\\dots&\\dots\\\\\n",
    "a_{n1}(t)&a_{n2}(t)&\\dots&a_{nn}(t)\\\\\n",
    "\\end{matrix}\n",
    "\\right]\n",
    "\\left[\n",
    "\\begin{matrix}\n",
    "\\varphi_1(t)\\\\\n",
    "\\varphi_2(t)\\\\\n",
    "\\dots\\\\\n",
    "\\varphi_n(t)\\\\\n",
    "\\end{matrix}\n",
    "\\right]\n",
    "$$\n",
    "\n",
    "$y=\\psi(t)$是方程$y'=-A^T(t)y$的解\n",
    "\n",
    "\n",
    "$$\n",
    "\\mathbf \\psi'=\n",
    "\\left[\n",
    "\\begin{matrix}\n",
    "\\psi_1'(t)\\\\\n",
    "\\psi_2'(t)\\\\\n",
    "\\dots\\\\\n",
    "\\psi_n'(t)\\\\\n",
    "\\end{matrix}\n",
    "\\right]\n",
    "=\n",
    "-\n",
    "\\left[\n",
    "\\begin{matrix}\n",
    "a_{11}(t)&a_{12}(t)&\\dots&a_{1n}(t)\\\\\n",
    "a_{21}(t)&a_{22}(t)&\\dots&a_{2n}(t)\\\\\n",
    "\\dots&\\dots&\\dots&\\dots\\\\\n",
    "a_{n1}(t)&a_{n2}(t)&\\dots&a_{nn}(t)\\\\\n",
    "\\end{matrix}\n",
    "\\right]\n",
    "\\left[\n",
    "\\begin{matrix}\n",
    "\\psi_1(t)\\\\\n",
    "\\psi_2(t)\\\\\n",
    "\\dots\\\\\n",
    "\\psi_n(t)\\\\\n",
    "\\end{matrix}\n",
    "\\right]\n",
    "$$\n",
    "\n",
    "对$\\psi^T(t)\\varphi(t)$求导数得：\n",
    "\n",
    "$\\frac{\\mathrm d(\\psi^T(t)\\varphi(t))}{\\mathrm dt}=\\frac{\\mathrm d\\psi^T(t)}{\\mathrm dt}\\varphi(t)+\\psi^T(t)\\frac{\\mathrm d\\varphi(t)}{\\mathrm dt}=0$\n",
    "\n",
    "所以$\\psi^T(t)\\varphi(t)=$常数。"
   ]
  },
  {
   "cell_type": "markdown",
   "metadata": {},
   "source": [
    "(2).\n",
    "\n",
    "充分性：存在非奇异矩阵C，使得$\\psi^T(t)\\phi(t)=C$,又由于$\\phi(t)$是方程$x'=A(t)x$的基解矩阵\n",
    "\n",
    "$\\psi^T(t)=C·\\phi^{-1}(t)$,又：$|\\psi^T(t)|=|C·\\phi^{-1}(t)|\\neq 0$,则$\\psi(t)$是方程$x'=A(t)x$的基解矩阵。\n",
    "\n",
    "必要性：\n",
    "\n",
    "$\\psi(t)$是方程$x'=A(t)x$的基解矩阵。\n",
    "\n",
    "则每个$\\psi(t)$的列向量$\\psi_1(t),\\psi_2(t),\\dots,\\psi_n(t)$使$\\psi^T\\phi(t)=C$，又$\\psi(t),\\phi(t)$都是方程的基解，则：\n",
    "\n",
    "$|\\psi(t)|\\neq 0,|\\phi(t)|\\neq 0$\n",
    "\n",
    "$|C|=|\\psi^T||phi(t)|\\neq 0$\n",
    "\n",
    "则：存在非奇异的常数矩阵$C$，使$\\psi^T\\phi(t)=C$"
   ]
  },
  {
   "cell_type": "markdown",
   "metadata": {
    "collapsed": true
   },
   "source": [
    "# <font color='red'>A  3/12"
   ]
  },
  {
   "cell_type": "code",
   "execution_count": null,
   "metadata": {
    "collapsed": true
   },
   "outputs": [],
   "source": []
  }
 ],
 "metadata": {
  "kernelspec": {
   "display_name": "SageMath 7.3",
   "language": "",
   "name": "sagemath"
  },
  "language_info": {
   "codemirror_mode": {
    "name": "ipython",
    "version": 2
   },
   "file_extension": ".py",
   "mimetype": "text/x-python",
   "name": "python",
   "nbconvert_exporter": "python",
   "pygments_lexer": "ipython2",
   "version": "2.7.10"
  }
 },
 "nbformat": 4,
 "nbformat_minor": 0
}
