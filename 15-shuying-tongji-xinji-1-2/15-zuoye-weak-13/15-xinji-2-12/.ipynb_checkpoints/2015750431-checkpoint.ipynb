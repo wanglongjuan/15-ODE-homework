{
 "cells": [
  {
   "cell_type": "markdown",
   "metadata": {
    "collapsed": true
   },
   "source": [
    "# 常微分作业"
   ]
  },
  {
   "cell_type": "markdown",
   "metadata": {
    "collapsed": true
   },
   "source": [
    "## （11月22日）"
   ]
  },
  {
   "cell_type": "markdown",
   "metadata": {},
   "source": [
    "### P216.2.考虑方程组$$\\mathbf x'=A (t)\\mathbf x$$其中A (t)是区间$a\\leq x\\leq b$上的连续$n\\times n$矩阵，它的元为$a_{ij}(t)(i,j=1,2,\\dots,n).$\n",
    "### (1)如果$\\mathbf x_1(t),\\mathbf x_2(t),\\dots, \\mathbf x_n(t),$是方程组的任意n个解，那么它们的朗斯基行列式$W[x_1(t),x_2(t),\\dots,x_n(t)]\\equiv W(t)$满足下面的一阶线性微分方程$$W'=[a_{11}(t)+a_{22}(t)+\\dots+a_{nn}(t)]W;$$\n",
    "### （提示：利用行列式的微分公式，求出$W'$的表达式.）\n",
    "### (2)解上面的一阶线性微分方程，证明下面的公式：$$W(t)=W(t_0)e^{\\int_{t_0}^t[a_{11}(s)+a_{22}(s)+\\dots+a_{nn}(s)]\\mathrm d s},  t_0,t\\in[a,b].$$"
   ]
  },
  {
   "cell_type": "markdown",
   "metadata": {},
   "source": [
    "解：\n",
    "\n",
    "(1)将$\\mathbf x_1(t),\\mathbf x_2(t),\\dots,\\mathbf x_n(t)$用向量的形式表示，并写出它们的朗斯基行列式为\n",
    "\n",
    "$$W(t)=\n",
    "\\begin{vmatrix}\n",
    "x_{11}(t)&x_{12}(t)&\\dots&x_{1n}(t)\\\\\n",
    "x_{21}(t)&x_{22}(t)&\\dots&x_{2n}(t)\\\\\n",
    "\\dots    &\\dots    &\\dots&\\dots   \\\\\n",
    "x_{n1}(t)&x_{n2}(t)&\\dots&x_{nn}(t)\\\\\n",
    "\\end{vmatrix}$$\n",
    "\n",
    "对$W(t)$求导得\n",
    "\\begin{aligned}\n",
    "\\frac{\\mathrm d W(t)}{\\mathrm dt}&=\\frac{\\mathrm d}{\\mathrm dt}\n",
    "\\begin{vmatrix}\n",
    "x_{11}(t)&x_{12}(t)&\\dots&x_{1n}(t)\\\\\n",
    "x_{21}(t)&x_{22}(t)&\\dots&x_{2n}(t)\\\\\n",
    "\\dots    &\\dots    &\\dots&\\dots   \\\\\n",
    "x_{n1}(t)&x_{n2}(t)&\\dots&x_{nn}(t)\\\\\n",
    "\\end{vmatrix}\\\\\n",
    "&=\n",
    "\\begin{vmatrix}\n",
    "x_{11}'(t)&x_{12}'(t)&\\dots&x_{1n}'(t)\\\\\n",
    "x_{21}(t)&x_{22}(t)&\\dots&x_{2n}(t)\\\\\n",
    "\\dots    &\\dots    &\\dots&\\dots   \\\\\n",
    "x_{n1}(t)&x_{n2}(t)&\\dots&x_{nn}(t)\\\\\n",
    "\\end{vmatrix}\\\\\n",
    "&+\n",
    "\\begin{vmatrix}\n",
    "x_{11}(t)&x_{12}(t)&\\dots&x_{1n}(t)\\\\\n",
    "x_{21}'(t)&x_{22}'(t)&\\dots&x_{2n}'(t)\\\\\n",
    "\\dots    &\\dots    &\\dots&\\dots   \\\\\n",
    "x_{n1}(t)&x_{n2}(t)&\\dots&x_{nn}(t)\\\\\n",
    "\\end{vmatrix}\\\\\n",
    "&+\\dots+\n",
    "\\begin{vmatrix}\n",
    "x_{11}(t)&x_{12}(t)&\\dots&x_{1n}(t)\\\\\n",
    "x_{21}(t)&x_{22}(t)&\\dots&x_{2n}(t)\\\\\n",
    "\\dots    &\\dots    &\\dots&\\dots   \\\\\n",
    "x_{n1}'(t)&x_{n2}'(t)&\\dots&x_{nn}'(t)\\\\\n",
    "\\end{vmatrix}.                         \\;\\;\\;(1)                 \n",
    "\\end{aligned}\n",
    "\n",
    "由于$$x'_{11}=a_{11}x_{11}+a_{12}x_{21}+\\dots+a_{1n}x_{n1},\\\\x'_{12}=a_{11}x_{12}+a_{12}x_{22}+\\dots+a_{1n}x_{n2},\\\\\\dots\\\\x'_{1n}=a_{11}x_{1n}+a_{12}x_{2n}+\\dots+a_{nn}x_{nn},$$\n",
    "\n",
    "所以，由行列式的性质有\n",
    "\\begin{aligned}\n",
    "\\begin{vmatrix}\n",
    "x_{11}'(t)&x_{12}'(t)&\\dots&x_{1n}'(t)\\\\\n",
    "x_{21}(t)&x_{22}(t)&\\dots&x_{2n}(t)\\\\\n",
    "\\dots    &\\dots    &\\dots&\\dots   \\\\\n",
    "x_{n1}(t)&x_{n2}(t)&\\dots&x_{nn}(t)\\\\\n",
    "\\end{vmatrix}\\\\\n",
    "&=\n",
    "\\begin{vmatrix}\n",
    "a_{11}x_{11}(t)&a_{11}x_{12}(t)&\\dots&a_{11}x_{1n}(t)\\\\\n",
    "x_{21}(t)&x_{22}(t)&\\dots&x_{2n}(t)\\\\\n",
    "\\dots    &\\dots    &\\dots&\\dots   \\\\\n",
    "x_{n1}(t)&x_{n2}(t)&\\dots&x_{nn}(t)\\\\\n",
    "\\end{vmatrix}\\\\\n",
    "&+\n",
    "\\begin{vmatrix}\n",
    "a_{12}x_{21}(t)&a_{12}x_{22}(t)&\\dots&a_{12}x_{2n}(t)\\\\\n",
    "x_{21}(t)&x_{22}(t)&\\dots&x_{2n}(t)\\\\\n",
    "\\dots    &\\dots    &\\dots&\\dots   \\\\\n",
    "x_{n1}(t)&x_{n2}(t)&\\dots&x_{nn}(t)\\\\\n",
    "\\end{vmatrix}\\\\\n",
    "&+\\dots+\n",
    "\\begin{vmatrix}\n",
    "x_{11}(t)&x_{12}(t)&\\dots&x_{1n}(t)\\\\\n",
    "x_{21}(t)&x_{22}(t)&\\dots&x_{2n}(t)\\\\\n",
    "\\dots    &\\dots    &\\dots&\\dots   \\\\\n",
    "a_{1n}x_{n1}(t)&a_{1n}x_{n2}(t)&\\dots&a_{1n}x_{nn}(t)\\\\\n",
    "\\end{vmatrix}\\\\\n",
    "&=a_{11}(t)W(t).\n",
    "\\end{aligned}\n",
    "\n",
    "同理，可得(1)式的第二个行列式等于$a_{22}(t)W(t),\\dots ,$ 第n个行列式等于$a_{nn}(t)W(t)$\n",
    "\n",
    "因此，得到\n",
    "$$\\frac{\\mathrm dW(t)}{\\mathrm dt}=W'(t)=[a_{11}(t)+a_{22}(t)+\\dots+a_{nn}(t)]W.$$\n"
   ]
  },
  {
   "cell_type": "markdown",
   "metadata": {},
   "source": [
    "(2)将上一题的一阶线性微分方程化为\n",
    "$$\\frac{\\mathrm dW(t)}{W}=[a_{11}(t)+a_{22}(t)+\\dots+a_{nn}(t)]\\mathrm dt,$$\n",
    "从$t_0$到$t$的积分得到\n",
    "$$\\ln|W(t)|-\\ln|W(t_0)|=\\int_{t_0}^{t}[a_{11}(s)+a_{22}(s)+\\dots+a_{nn}(s)]\\mathrm ds$$\n",
    "两边再用指数函数得到\n",
    "$$W(t)=W(t_0)e^{\\int_{t_0}^t[a_{11}(s)+a_{22}(s)+\\dots+a_{nn}(s)]\\mathrm d s}$$"
   ]
  },
  {
   "cell_type": "markdown",
   "metadata": {},
   "source": [
    "### P217.3.设$\\mathbf A(t)$为区间 $a\\leq t\\leq b$上的连续$n \\times n$实矩阵，$\\Phi(t)$为方程 $\\mathbf x'=A(t)\\mathbf x$的基解矩阵，而$\\mathbf x=\\varphi(t)$为其一解，试证：\n",
    "### (1)对于方程 $y'=-A^T(t)y$ 的任一解$y=\\psi(t)$必有$\\psi^T(t)\\varphi(t)=$常数；\n",
    "### (2) $\\Psi(t)$为方程 $y'=-A^T(t)y$ 的基解矩阵的充要条件是存在非奇异的常数矩阵 $C$，使$\\Psi^T(t)\\Phi(t)=C$."
   ]
  },
  {
   "cell_type": "markdown",
   "metadata": {},
   "source": [
    "解：\n",
    "(1)\n",
    "\n",
    "记\n",
    "\\begin{pmatrix}\n",
    "\\varphi'_1(t)\\\\\n",
    "\\varphi'_2(t)\\\\\n",
    "\\vdots\\\\\n",
    "\\varphi'_n(t)\\\\\n",
    "\\end{pmatrix}\n",
    "为\n",
    "\\begin{pmatrix}\n",
    "\\varphi'_j(t)\n",
    "\\end{pmatrix}$$j从1到n，取整数.其下同理$$\n",
    "\n",
    "\n",
    "由于 $\\varphi(t)$ 是 $\\mathbf x'=A(t)\\mathbf x$ 的解，则有\n",
    "\n",
    "$$\\varphi'(t)=\n",
    "\\begin{pmatrix}\n",
    "\\varphi'_j(t)\n",
    "\\end{pmatrix}=\n",
    "\\begin{pmatrix}\n",
    "a_{11}&a_{12}&\\dots&a_{1n}\\\\\n",
    "a_{21}&a_{22}&\\dots&a_{2n}\\\\\n",
    "\\dots&\\dots&\\dots&\\dots\\\\\n",
    "a_{n1}&a_{n2}&\\dots&a_{nn}\\\\\n",
    "\\end{pmatrix}\n",
    "\\begin{pmatrix}\n",
    "\\varphi_j(t)\n",
    "\\end{pmatrix}=\n",
    "\\begin{pmatrix}\n",
    "\\Sigma_{k=1}^{n}a_{jk}\\varphi_k\n",
    "\\end{pmatrix}$$\n",
    "$$j从1到n，取整数.$$\n",
    "\n",
    "由于 $y=\\psi(t)$ 是 $y'=-A^T(t)y$ 的解，有\n",
    "$$\\psi'(t)=\n",
    "\\begin{pmatrix}\n",
    "\\psi'_j(t)\n",
    "\\end{pmatrix}=\n",
    "-\\begin{pmatrix}\n",
    "a_{11}&a_{12}&\\dots&a_{1n}\\\\\n",
    "a_{21}&a_{22}&\\dots&a_{2n}\\\\\n",
    "\\dots&\\dots&\\dots&\\dots\\\\\n",
    "a_{n1}&a_{n2}&\\dots&a_{nn}\\\\\n",
    "\\end{pmatrix}\n",
    "\\begin{pmatrix}\n",
    "\\psi_j(t)\n",
    "\\end{pmatrix}=\n",
    "-\\begin{pmatrix}\n",
    "\\Sigma_{k=1}^{n}a_{kj}\\psi_k\n",
    "\\end{pmatrix}$$\n",
    "$$j从1到n，取整数.$$\n",
    "\n",
    "对 $\\psi^T(t)\\varphi(t)$ 求导数得\n",
    "\\begin{aligned}\n",
    "\\frac{\\mathrm d(\\psi^T(t)\\varphi(t))}{\\mathrm dt}\n",
    "&=\\frac{\\mathrm d(\\psi^T(t))}{\\mathrm dt}\\varphi(t)+\\frac{\\mathrm d(\\varphi(t))}{\\mathrm dt}\\psi^T(t)\\\\\n",
    "&=\n",
    "-\\begin{pmatrix}\n",
    "\\Sigma_{k=1}^{n}a_{kj}\\psi_k\n",
    "\\end{pmatrix}\n",
    "\\begin{pmatrix}\n",
    "\\varphi_j(t)\n",
    "\\end{pmatrix}\\\\\n",
    "&+\n",
    "\\begin{pmatrix}\n",
    "\\psi_j(t)\n",
    "\\end{pmatrix}\n",
    "\\begin{pmatrix}\n",
    "\\Sigma_{k=1}^{n}a_{jk}\\varphi_k\n",
    "\\end{pmatrix}\\\\\n",
    "&=-\\Sigma_{k=1}^{n}\\Sigma_{i=1}^{n}(a_{ki}\\psi_k\\varphi_i)+\\Sigma_{i=1}^{n}\\Sigma_{k=1}^{n}(a_{ik}\\psi_i\\varphi_k)=0\n",
    "\\end{aligned}\n",
    "$$j从1到n，取整数.$$\n",
    "所以 $\\psi^T(t)\\varphi(t)$ 为常数."
   ]
  },
  {
   "cell_type": "markdown",
   "metadata": {},
   "source": [
    "(2)\n",
    "充分性：\n",
    "存在非奇异矩阵$C$，使得$\\Psi^T(t)\\Phi(t)=C$，由于$\\Phi(t)$是方程$\\mathbf x'=A(t)\\mathbf x$的基解矩阵，故$\\Phi^{-1}(t)$存在，所以$\\Psi^T(t)=C\\Phi^{-1}(t)$且$det(\\Psi^T(t))=det(C\\Phi^{-1}(t))\\neq 0$.因此，$\\Psi(t)$是基解矩阵。\n",
    "\n",
    "必要性：$\\Psi(t)$是基解矩阵，则$\\Psi(t)$的每一个列向量$\\psi_1(t),\\psi_2(t),\\dots,\\psi_n(t)$与$\\Phi(t)$的每一个列向量$\\varphi_1(t),\\varphi_2(t),\\dots,\\varphi_n(t)$满足$\\psi^{T}_{i}(t)\\varphi_{j}(t)=$常数，$i=1,2,\\dots,n,j=1,2,\\dots,n.$则$\\Psi^T(t)\\Phi(t)$是常数矩阵，记为C，另外由于$\\Psi(t)$,$\\Phi(t)$分别是基解矩阵，从而$det(\\Phi(t))\\neq 0$,$det(\\Psi^T(t))\\neq 0$,则 $det(C)=det(\\Phi(t))·det(\\Psi^T(t))\\neq 0$即矩阵$C$是非奇异的。"
   ]
  },
  {
   "cell_type": "markdown",
   "metadata": {},
   "source": [
    "# <font color='red'>A  3/12"
   ]
  },
  {
   "cell_type": "code",
   "execution_count": null,
   "metadata": {
    "collapsed": true
   },
   "outputs": [],
   "source": []
  }
 ],
 "metadata": {
  "kernelspec": {
   "display_name": "SageMath 7.3",
   "language": "",
   "name": "sagemath"
  },
  "language_info": {
   "codemirror_mode": {
    "name": "ipython",
    "version": 2
   },
   "file_extension": ".py",
   "mimetype": "text/x-python",
   "name": "python",
   "nbconvert_exporter": "python",
   "pygments_lexer": "ipython2",
   "version": "2.7.10"
  }
 },
 "nbformat": 4,
 "nbformat_minor": 0
}
