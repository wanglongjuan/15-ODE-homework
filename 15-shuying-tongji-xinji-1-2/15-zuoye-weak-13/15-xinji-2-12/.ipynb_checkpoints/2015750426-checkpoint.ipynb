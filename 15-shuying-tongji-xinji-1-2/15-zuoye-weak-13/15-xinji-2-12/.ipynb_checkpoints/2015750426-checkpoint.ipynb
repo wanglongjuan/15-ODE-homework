{
 "cells": [
  {
   "cell_type": "markdown",
   "metadata": {},
   "source": [
    "## 2016.11.22"
   ]
  },
  {
   "cell_type": "markdown",
   "metadata": {},
   "source": [
    "**2.考虑方程组** $$x'=A(t)x \\quad (5.15)$$\n",
    "\n",
    "**其中 $A(t)$ 是区间 $a \\leq t \\leq b$ 的连续 $n \\times n$ 矩阵，它的元为 $a_{ij}(i,j=1,2,\\cdots,n)$ **"
   ]
  },
  {
   "cell_type": "markdown",
   "metadata": {},
   "source": [
    "**(1)如果 $x_1(t),x_2(t),\\cdots,x_n(t)$ 是 $(5.15)$ 的任意 n 个解，那么它们的朗斯基行列式 $W[x_1(t),x_2(t),\\cdots,x_n(t)]=W(t)$ 满足下面的一阶线性微分方程** $$W'=[x_1(t),x_2(t),\\cdots,x_n(t)]W$$"
   ]
  },
  {
   "cell_type": "markdown",
   "metadata": {},
   "source": [
    "(2)**解上面的一阶线性微分方程证明下列的公式：** $$W(t)=W(t_0)e^{\\int_{t_0}^t [a_{11}(s)+a_{22}(s)+\\cdots+a_{nn}(s)]\\mathrm d s}\\quad t_0,t\\in [a,b]$$"
   ]
  },
  {
   "cell_type": "markdown",
   "metadata": {},
   "source": [
    "**解：**"
   ]
  },
  {
   "cell_type": "markdown",
   "metadata": {},
   "source": [
    "（1）将方程的 n 个解 $x_1(t),x_2(t),\\cdots,x_n(t)$ 用向量表示，得到\n",
    "\n",
    "$$W[x_1(t),x_2(t),\\cdots,x_n(t)]=\\begin{vmatrix} x_{11}(t)&x_{12}(t)&\\cdots&x_{1n}(t)\\\\x_{21}(t)&x_{22}(t)&\\cdots&x_{2n}\\\\\\vdots&\\vdots&\\ddots&\\vdots\\\\x_{n1}(t)&x_{n2}(t)&\\cdots&x_{nn}(t) \\end{vmatrix}$$"
   ]
  },
  {
   "cell_type": "markdown",
   "metadata": {},
   "source": [
    "对上式求导得到"
   ]
  },
  {
   "cell_type": "markdown",
   "metadata": {},
   "source": [
    "$$\\begin{aligned} \n",
    "\\frac{\\mathrm d}{\\mathrm d t}W(t) &=\\frac{\\mathrm d}{\\mathrm d t}\\begin{vmatrix} x_{11}(t)&x_{12}(t)&\\cdots&x_{1n}(t)\\\\x_{21}(t)&x_{22}(t)&\\cdots&x_{2n}\\\\\\vdots&\\vdots&\\ddots&\\vdots\\\\x_{n1}(t)&x_{n2}(t)&\\cdots&x_{nn}(t) \\end{vmatrix}\\\\\\\\\n",
    "&=\\begin{vmatrix} x_{11}'(t)&x_{12}'(t)&\\cdots&x_{1n}'(t)\\\\x_{21}(t)&x_{22}(t)&\\cdots&x_{2n}(t)\\\\\\vdots&\\vdots&\\ddots&\\vdots\\\\x_{n1}(t)&x_{n2}(t)&\\cdots&x_{nn}(t) \\end{vmatrix}\\cdots 1\\\\\n",
    "&+\\begin{vmatrix} x_{11}(t)&x_{12}(t)&\\cdots&x_{1n}(t)\\\\x_{21}'(t)&x_{22}'(t)&\\cdots&x_{2n}'(t)\\\\\\vdots&\\vdots&\\ddots&\\vdots\\\\x_{n1}(t)&x_{n2}(t)&\\cdots&x_{nn}(t) \\end{vmatrix}\\cdots2\\\\\n",
    "&+\\cdots\\cdots\\\\\n",
    "&+\\begin{vmatrix} x_{11}(t)&x_{12}(t)&\\cdots&x_{1n}(t)\\\\x_{21}(t)&x_{22}(t)&\\cdots&x_{2n}\\\\\\vdots&\\vdots&\\ddots&\\vdots\\\\x_{n1}'(t)&x_{n2}'(t)&\\cdots&x_{nn}'(t) \\end{vmatrix}\\cdots n\n",
    "\\end{aligned}$$\n"
   ]
  },
  {
   "cell_type": "markdown",
   "metadata": {},
   "source": [
    "对于 1 项，由已知得 有"
   ]
  },
  {
   "cell_type": "markdown",
   "metadata": {},
   "source": [
    "$$\\begin{aligned}\n",
    "x_{11}'(t)&=a_{11}x_{11}(t)+a_{12}x_{21}(t)+\\cdots+a_{1n}x_{n1}(t)\\\\\n",
    "x_{12}'(t)&=a_{11}x_{12}(t)+a_{12}x_{22}(t)+\\cdots+a_{1n}x_{n2}(t)\\\\\n",
    "&\\cdots\\cdots\\cdots\\\\\n",
    "x_{1n}'(t)&=a_{11}x_{1n}(t)+a_{12}x_{2n}(t)+\\cdots+a_{1n}x_{nn}(t)\n",
    "\\end{aligned}$$\n",
    "\n"
   ]
  },
  {
   "cell_type": "markdown",
   "metadata": {},
   "source": [
    "$$\\begin{aligned}\n",
    "\\begin{vmatrix} x_{11}'(t)&x_{12}'(t)&\\cdots&x_{1n}'(t)\\\\x_{21}(t)&x_{22}(t)&\\cdots&x_{2n}(t)\\\\\\vdots&\\vdots&\\ddots&\\vdots\\\\x_{n1}(t)&x_{n2}(t)&\\cdots&x_{nn}(t) \\end{vmatrix}&=\\begin{vmatrix} a_{11}x_{11}(t)&a_{11}x_{12}(t)&\\cdots&a_{11}x_{1n}(t)\\\\x_{21}(t)&x_{22}(t)&\\cdots&x_{2n}(t)\\\\\\vdots&\\vdots&\\ddots&\\vdots\\\\x_{n1}(t)&x_{n2}(t)&\\cdots&x_{nn}(t) \\end{vmatrix}\\\\\n",
    "&+\\begin{vmatrix} a_{12}x_{21}(t)&a_{12}x_{22}(t)&\\cdots&a_{12}x_{2n}(t)\\\\x_{21}(t)&x_{22}(t)&\\cdots&x_{2n}(t)\\\\\\vdots&\\vdots&\\ddots&\\vdots\\\\x_{n1}(t)&x_{n2}(t)&\\cdots&x_{nn}(t) \\end{vmatrix}\\\\\n",
    "&\\cdots\\cdots\\cdots\\\\\n",
    "&+\\begin{vmatrix} a_{1n}x_{n1}(t)&a_{1n}x_{n2}(t)&\\cdots&a_{1n}x_{nn}(t)\\\\x_{21}(t)&x_{22}(t)&\\cdots&x_{2n}(t)\\\\\\vdots&\\vdots&\\ddots&\\vdots\\\\x_{n1}(t)&x_{n2}(t)&\\cdots&x_{nn}(t) \\end{vmatrix}\\\\\n",
    "&=a_{11}W(t)\n",
    "\\end{aligned}$$"
   ]
  },
  {
   "cell_type": "markdown",
   "metadata": {},
   "source": [
    "同理，\n",
    "$$\n",
    "\\begin{aligned}\n",
    "\\begin{vmatrix} x_{11}(t)&x_{12}(t)&\\cdots&x_{1n}(t)\\\\x_{21}'(t)&x_{22}'(t)&\\cdots&x_{2n}'(t)\\\\\\vdots&\\vdots&\\ddots&\\vdots\\\\x_{n1}(t)&x_{n2}(t)&\\cdots&x_{nn}(t) \\end{vmatrix}=a_{22}W(t)\\\\\n",
    "\\cdots \\cdots\\\\\n",
    "\\begin{vmatrix} x_{11}(t)&x_{12}(t)&\\cdots&x_{1n}(t)\\\\x_{21}(t)&x_{22}(t)&\\cdots&x_{2n}\\\\\\vdots&\\vdots&\\ddots&\\vdots\\\\x_{n1}'(t)&x_{n2}'(t)&\\cdots&x_{nn}'(t) \\end{vmatrix}=a_{nn}W(t)\n",
    "\\end{aligned}\n",
    "$$"
   ]
  },
  {
   "cell_type": "markdown",
   "metadata": {},
   "source": [
    "得到 $$\\frac{\\mathrm d}{\\mathrm d t}W(t)=[a_{11}(t)+a_{22}(t)+\\cdots+a_{nn}(t)]W(t)$$"
   ]
  },
  {
   "cell_type": "markdown",
   "metadata": {},
   "source": [
    "即 $$W'(t)=[a_{11}(t)+a_{22}(t)+\\cdots+a_{nn}(t)]W$$"
   ]
  },
  {
   "cell_type": "markdown",
   "metadata": {},
   "source": [
    "（2）由上式得\n",
    "\n",
    "$$\\frac{1}{W(t)}\\frac{\\mathrm d (W(t))}{\\mathrm d t}=a_{11}(t)+a_{22}(t)+\\cdots+a_{nn}(t)$$"
   ]
  },
  {
   "cell_type": "markdown",
   "metadata": {},
   "source": [
    "等式两边从 $t_0$ 到 $t$ 积分，得到 $$W(t)=W(t_0)e^{\\int_{t_0}^t [a_{11}(s)+a_{22}(s)+\\cdots+a_{nn}(s)]\\mathrm d s}$$"
   ]
  },
  {
   "cell_type": "markdown",
   "metadata": {},
   "source": [
    "**3.设 $A(t)$ 为区间 $a\\leq t\\leq b$ 上的连续 $n \\times n$ 实矩阵，$\\phi(t)$ 为方程 $x'=A(t)x$ 的基解矩阵，而 $x=\\varphi(t)$ 为其一解。试证：**"
   ]
  },
  {
   "cell_type": "markdown",
   "metadata": {},
   "source": [
    "（1）**对于方程 $y'=-A^T(t)y$ 的任一解 $y=\\psi(t)$ 必有 $\\psi^T(t)\\varphi(t)=$ 常数**\n",
    "\n",
    "（2）**$\\psi(t)$ 为方程 $y'=-A^T(t)y$ 的基解矩阵的充要条件是存在非奇异的常数矩阵 C ，使$\\psi^T(t)\\phi(t)=C$**\n",
    "\n"
   ]
  },
  {
   "cell_type": "markdown",
   "metadata": {},
   "source": [
    "**解：**"
   ]
  },
  {
   "cell_type": "markdown",
   "metadata": {},
   "source": [
    "（1）由题意得"
   ]
  },
  {
   "cell_type": "markdown",
   "metadata": {},
   "source": [
    "$\\varphi(t)$ 是方程  $x'=A(t)x$ 的解，则 \n",
    "\n",
    "$$\\varphi'(t)=A(t)\\varphi(t)$$"
   ]
  },
  {
   "cell_type": "markdown",
   "metadata": {},
   "source": [
    "即 $$\n",
    "\\varphi'(t)=\n",
    "\\begin{bmatrix} \\varphi_1'(t)\\\\\\varphi_2'(t)\\\\\\vdots\\\\\\varphi_n'(t) \\end{bmatrix}\n",
    "=\\begin{bmatrix} a_{11}&a_{12}&\\cdots&a_{1n}\\\\a_{21}&a_{22}&\\cdots&a_{2n}\\\\ \\vdots &\\vdots &\\ddots &\\vdots\\\\a_{n1}&a_{n2}&\\cdots&a_{nn} \\end{bmatrix}\n",
    "\\begin{bmatrix} \\varphi_1(t)\\\\\\varphi_2(t)\\\\\\vdots\\\\\\varphi_n(t) \\end{bmatrix}\n",
    "=\\begin{bmatrix} \\sum _{k=1}^n a_{1k}\\varphi_k(t)\\\\ \\sum _{k=1}^n a_{2k}\\varphi_k(t) \\\\ \\vdots \\\\ \\sum _{k=1}^n a_{nk}\\varphi_k(t)\\end{bmatrix}\n",
    "$$"
   ]
  },
  {
   "cell_type": "markdown",
   "metadata": {},
   "source": [
    "又 $\\psi(t)$ 是方程 $y'=-A^T(t)y$ 的解，则 $$\\psi'(t)=-A^T(t)\\psi(t)$$"
   ]
  },
  {
   "cell_type": "markdown",
   "metadata": {},
   "source": [
    "$$ \\begin{bmatrix} \\psi_1'(t)\\\\\\psi_2'(t)\\\\\\vdots\\\\\\psi_n'(t) \\end{bmatrix}\n",
    "=-\\begin{bmatrix} a_{11}&a_{12}&\\cdots&a_{1n}\\\\a_{21}&a_{22}&\\cdots&a_{2n}\\\\ \\vdots &\\vdots &\\ddots &\\vdots\\\\a_{n1}&a_{n2}&\\cdots&a_{nn} \\end{bmatrix}^T\n",
    "\\begin{bmatrix} \\psi_1(t)\\\\\\psi_2(t)\\\\\\vdots\\\\\\psi_n(t) \\end{bmatrix}$$"
   ]
  },
  {
   "cell_type": "markdown",
   "metadata": {},
   "source": [
    "$$ \n",
    "\\psi'(t)=\\begin{bmatrix} \\psi_1'(t)\\\\\\psi_2'(t)\\\\\\vdots\\\\\\psi_n'(t) \\end{bmatrix}\n",
    "=-\\begin{bmatrix} a_{11}&a_{21}&\\cdots&a_{n1}\\\\a_{12}&a_{22}&\\cdots&a_{n2}\\\\ \\vdots &\\vdots &\\ddots &\\vdots\\\\a_{1n}&a_{2n}&\\cdots&a_{nn} \\end{bmatrix}\n",
    "\\begin{bmatrix} \\psi_1(t)\\\\\\psi_2(t)\\\\\\vdots\\\\\\psi_n(t) \\end{bmatrix}\n",
    "=-\\begin{bmatrix} \\sum _{k=1}^n a_{k1}\\varphi_k(t)\\\\ \\sum _{k=1}^n a_{k2}\\varphi_k(t) \\\\ \\vdots \\\\ \\sum _{k=1}^n a_{kn}\\varphi_k(t)\\end{bmatrix}\n",
    "$$"
   ]
  },
  {
   "cell_type": "markdown",
   "metadata": {},
   "source": [
    "由题意得"
   ]
  },
  {
   "cell_type": "markdown",
   "metadata": {},
   "source": [
    "$$\n",
    "\\begin{aligned}\n",
    "\\frac{\\mathrm d}{\\mathrm d t}(\\psi^T(t)\\varphi(t))&=\\frac{\\mathrm d}{\\mathrm d t}(\\psi^T(t))\\varphi(t)+\\psi^T(t)\\frac{\\mathrm d}{\\mathrm d t}(\\varphi(t))\\\\\n",
    "&=-\\begin{bmatrix} \\sum _{k=1}^n a_{k1}\\varphi_k(t),\\sum _{k=1}^n a_{k2}\\varphi_k(t),\\cdots,\\sum _{k=1}^n a_{kn}\\varphi_k(t)\\end{bmatrix}\n",
    "\\begin{bmatrix} \\varphi_1(t)\\\\\\varphi_2(t)\\\\\\vdots\\\\\\varphi_n(t) \\end{bmatrix}\\\\\n",
    "&+\\begin{bmatrix} \\sum _{k=1}^n a_{1k}\\varphi_k(t)\\\\ \\sum _{k=1}^n a_{2k}\\varphi_k(t) \\\\ \\vdots \\\\ \\sum _{k=1}^n a_{nk}\\varphi_k(t)\\end{bmatrix}\n",
    "\\begin{bmatrix} \\psi_1(t)&\\psi_2(t)&\\vdots&\\psi_n(t) \\end{bmatrix}\\\\\n",
    "&=-[\\sum _{k=1}^n a_{k1}\\varphi_k(t)\\varphi_1(t)+\\sum _{k=1}^n a_{k2}\\varphi_k(t)\\varphi_2(t)+\\cdots+\\sum _{k=1}^n a_{kn}\\varphi_k(t)\\varphi_n(t)]\\\\\n",
    "&+[\\sum _{k=1}^n a_{1k}\\varphi_k(t)\\psi_1(t)+\\sum _{k=1}^n a_{2k}\\varphi_k(t)\\psi_2(t)+\\cdots+\\sum _{k=1}^n a_{nk}\\varphi_k(t)\\psi_n(t)]\\\\\n",
    "&=-\\sum_{k=1}^n \\sum_{i=1}^n (a_{ki}\\psi_k\\varphi_i)+\\sum_{k=1}^n \\sum_{i=1}^n(\\varphi_i a_{ik}\\psi_k)\\\\\n",
    "&=-\\sum_{k=1}^n \\sum_{i=1}^n (a_{ki}\\psi_k\\varphi_i)+\\sum_{i=1}^n \\sum_{k=1}^n (a_{ik}\\psi_i\\varphi_k)\\\\\n",
    "&=0\n",
    "\\end{aligned}\n",
    "$$"
   ]
  },
  {
   "cell_type": "markdown",
   "metadata": {},
   "source": [
    "（2）\n",
    "\n",
    "充分性：已知存在非奇异的常数矩阵 C ，使$\\psi^T(t)\\phi(t)=C$，又因为 $\\phi(t)$ 为方程 $x'=A(t)x$ 的基解矩阵"
   ]
  },
  {
   "cell_type": "markdown",
   "metadata": {},
   "source": [
    "则 $\\phi(t)$ 的逆 $\\phi^{-1}(t)$ 存在，得到 $\\psi^T(t)=\\phi^{-1}(t)C$"
   ]
  },
  {
   "cell_type": "markdown",
   "metadata": {},
   "source": [
    "$$det(\\psi^T(t))=det(\\phi^{-1}(t)C)\\neq 0$$"
   ]
  },
  {
   "cell_type": "markdown",
   "metadata": {},
   "source": [
    "即 $\\psi(t)$ 为方程 $y'=-A^T(t)y$ 的基解矩阵"
   ]
  },
  {
   "cell_type": "markdown",
   "metadata": {},
   "source": [
    "必要性：已知 $\\psi(t)$ 为方程 $y'=-A^T(t)y$ 的基解矩阵且 $\\phi(t)$ 为方程 $x'=A(t)x$ 的基解矩阵，则 $\\psi(t)$ 与 $\\phi(t)$ 的每一个列向量 $\\psi_1(t),\\cdots,\\psi_n(t);\\phi_1(t),\\cdots,\\phi_n(t)$ 有 $\\psi_i^T(t)\\phi_j(t)=C$ 常数，$i,j=1,2,\\cdots,n$ ,可知 $\\psi_i^T(t)\\phi_j(t)$ 为常数矩阵"
   ]
  },
  {
   "cell_type": "markdown",
   "metadata": {},
   "source": [
    "又有 $det(\\phi(t))\\neq 0,det(\\psi^T(t))\\neq 0$"
   ]
  },
  {
   "cell_type": "markdown",
   "metadata": {},
   "source": [
    "所以 $det(C)=det(\\psi^T(t)\\phi(t))\\neq 0$"
   ]
  },
  {
   "cell_type": "markdown",
   "metadata": {},
   "source": [
    "即 矩阵 C 是非奇异的"
   ]
  },
  {
   "cell_type": "markdown",
   "metadata": {},
   "source": [
    "# <font color='red'>A  3/12"
   ]
  },
  {
   "cell_type": "code",
   "execution_count": null,
   "metadata": {
    "collapsed": true
   },
   "outputs": [],
   "source": []
  }
 ],
 "metadata": {
  "kernelspec": {
   "display_name": "SageMath 7.3",
   "language": "",
   "name": "sagemath"
  },
  "language_info": {
   "codemirror_mode": {
    "name": "ipython",
    "version": 2
   },
   "file_extension": ".py",
   "mimetype": "text/x-python",
   "name": "python",
   "nbconvert_exporter": "python",
   "pygments_lexer": "ipython2",
   "version": "2.7.10"
  }
 },
 "nbformat": 4,
 "nbformat_minor": 0
}
