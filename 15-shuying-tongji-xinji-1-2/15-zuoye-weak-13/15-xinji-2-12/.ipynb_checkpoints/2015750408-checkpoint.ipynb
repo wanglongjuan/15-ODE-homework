{
 "cells": [
  {
   "cell_type": "markdown",
   "metadata": {},
   "source": [
    "常微分作业--丁飞勇--2015750408"
   ]
  },
  {
   "cell_type": "markdown",
   "metadata": {},
   "source": [
    "题目2：考虑方程组$x'=A(t)x,$其中$A(t)$是区间$\\alpha\\leq t\\leq \\beta$上的连续$n×n$矩阵，它的元为$a_{ij}(t)(i,j=1,2,……,n)$"
   ]
  },
  {
   "cell_type": "markdown",
   "metadata": {},
   "source": [
    "（1）如果$x_1(t),x_2(t),…，x_n(t)$是(5.15)的任意n个解，那么它们的朗斯基行列式$W[x_1(t),x_2(t),…，x_n(t)]\\equiv W(t)$满足下面的一阶线性微分方程$W'=[a_{11}(t)+a_{22}(t)+…+a_{nn}(t)]W;$\n",
    "\n",
    "解：$将x_1(t),x_2(t),…x_n(t)用向量的形式表示，并写出它们的朗斯基行列式为：$\n",
    "\n",
    "$W(t)=\n",
    "\\begin{vmatrix}\n",
    "x_{11}(t)&x_{12}(t)&…&x_{1n}(t)\\\\\n",
    "x_{21}(t)&x_{22}(t)&…&x_{2n}(t)\\\\\n",
    "…&…&…&…\\\\\n",
    "x_{n1}(t)&x_{n2}(t)&…&x_{nn}(t)\n",
    "\\end{vmatrix},$\n",
    "\n",
    "$对W(t)求导得：$\n"
   ]
  },
  {
   "cell_type": "markdown",
   "metadata": {},
   "source": [
    "$\\begin{aligned}\n",
    "\\begin{vmatrix}\n",
    "x'_{11}(t)&x'_{12}(t)&…&x'_{1n}(t)\\\\\n",
    "x_{21}(t)&x_{22}(t)&…&x_{2n}(t)\\\\\n",
    "…&…&…&…\\\\\n",
    "x_{n1}(t)&x_{n2}(t)&…&x_{nn}(t)\n",
    "\\end{vmatrix}\n",
    "&=\n",
    "\\begin{vmatrix}\n",
    "a_{11}x_{11}(t)&a_{11}x_{21}(t)&…&a_{11}x{1n}(t)\\\\\n",
    "x_{21}(t)&x_{22}(t)&…&x_{2n}(t)\\\\\n",
    "…&…&…&…\\\\\n",
    "x_{n1}(t)&x_{n2}(t)&…&x_{nn}(t)\n",
    "\\end{vmatrix}\\\\\n",
    "&+\\begin{vmatrix}\n",
    "a_{12}x_{21}(t)&a_{12}x_{22}(t)&…&a_{12}x{2n}(t)\\\\\n",
    "x_{21}(t)&x_{22}(t)&…&x_{2n}(t)\\\\\n",
    "…&…&…&…\\\\\n",
    "x_{n1}(t)&x_{n2}(t)&…&x_{nn}(t)\n",
    "\\end{vmatrix}\\\\\n",
    "&+…+\n",
    "\\begin{vmatrix}\n",
    "a_{1n}x_{n1}(t)&a_{1n}x_{n2}(t)&…&a_{1n}x{nn}(t)\\\\\n",
    "x_{21}(t)&x_{22}(t)&…&x_{2n}(t)\\\\\n",
    "…&…&…&…\\\\\n",
    "x_{n1}(t)&x_{n2}(t)&…&x_{nn}(t)\n",
    "\\end{vmatrix}\\\\\n",
    "&=a_{11}(t)W(t).\n",
    "\\end{aligned}$"
   ]
  },
  {
   "cell_type": "markdown",
   "metadata": {},
   "source": [
    "$同理①式右端第2行列式可得a_{22}W(t),第 3行列式等于a_{33}(t)W(t0，…第n行列式等于a_{nn}(t)W(t).所以可得$|\n",
    "\n",
    "$\\quad\\frac{\\mathrm d W(t)}{\\mathrm d t}W'(t)=[a_{11}(t)+a_{22}(t)+…+a_{nn}(t)]W(t).$"
   ]
  },
  {
   "cell_type": "markdown",
   "metadata": {},
   "source": [
    " (2)解上面的一阶线性微分方程，证明下面的公式：\n",
    " \n",
    " $W(t)=W(t_0)e^{\\int_{t_0}^t\\ [a_{11}(s)+a_{22}(s)+…+a_{nn}(s)]\\mathrm d s},t_0,t\\in[a,b].$\n",
    " \n",
    " $将上面的一阶线性微分方程化为：$\n",
    " \n",
    " $\\quad\\frac{\\mathrm d W}{\\omega}=[a_{11}(t)+a_{22}(t)+…+a_{nn}(t)]\\mathrm d t.$\n",
    " \n",
    " $从t_0到t的积分可得：$\n",
    " \n",
    " $\\quad\\ln\\mid W(t)\\mid-\\ln\\mid W(t_0)\\mid=\\int_{t_0}^t\\ [a_{11}(s)+a_{22}(s)+…+a_{nn}(s)]\\mathrm d s,$\n",
    " \n",
    " $两边再用指数函数得到：$\n",
    " \n",
    " $\\quad W(t)=W(t_0)e^{\\int_{t_0}^t\\ [a_{11}(s)+a_{22}(s)+…+a_{nn}(s)]\\mathrm d s},t_0,t\\in[a,b].$"
   ]
  },
  {
   "cell_type": "markdown",
   "metadata": {},
   "source": [
    "题目3：设$A(t)$为区间$a\\leq t\\leq b$上的连续$n×n$矩阵，$\\phi(t)$为方程$x'=A(t)x$的基解矩阵，而$x=\\varphi(t)$为其一解"
   ]
  },
  {
   "cell_type": "markdown",
   "metadata": {},
   "source": [
    "(1)对于方程$y'=-A^{T}(t)y$的任一解$y=\\Psi(t)$必有$\\Psi^T(t)\\varphi(t)=$常数；\n",
    "\n",
    "$解：由于\\varphi(t)为方程x'=A(t)x的解，所以有：$\n",
    "\n",
    "$\\varphi'(t)=\n",
    "\\begin{pmatrix}\n",
    "\\varphi'_1(t)\\\\\n",
    "\\varphi'_2(t)\\\\\n",
    "…\\\\\n",
    "\\varphi'_n(t)\n",
    "\\end{pmatrix}\n",
    "=\\begin{pmatrix}\n",
    "a_{11}&a_{12}&…&a_{1n}\\\\\n",
    "a_{21}&a_{22}&…&a_{2n}\\\\\n",
    "…&…&…&…\\\\\n",
    "a_{n1}&a_{n2}&…&a_{nn}\n",
    "\\end{pmatrix}\n",
    "\\begin{pmatrix}\n",
    "\\varphi_1(t)\\\\\n",
    "\\varphi_2(t)\\\\\n",
    "…\\\\\n",
    "\\varphi_n(t)\n",
    "\\end{pmatrix}=\n",
    "\\begin{pmatrix}\n",
    "\\displaystyle\\sum_{k=1}^{n}a_{1k}\\varphi_k\\\\\n",
    "\\displaystyle\\sum_{k=1}^{n}a_{2k}\\varphi_k\\\\\n",
    "…\\\\\n",
    "\\displaystyle\\sum_{k=1}^{n}a_{nk}\\varphi_k\\\\\n",
    "\\end{pmatrix}$"
   ]
  },
  {
   "cell_type": "markdown",
   "metadata": {},
   "source": [
    "$同理由于\\Psi(t)为方程y'=-A^TY的解,则有：$\n",
    "\n",
    "$\\Psi'(t)=\n",
    "\\begin{pmatrix}\n",
    "\\psi'_1(t)\\\\\n",
    "\\psi'_2(t)\\\\\n",
    "…\\\\\n",
    "\\psi'_n(t)\n",
    "\\end{pmatrix}\n",
    "=\\begin{pmatrix}\n",
    "a_{11}&a_{21}&…&a_{n1}\\\\\n",
    "a_{12}&a_{22}&…&a_{n2}\\\\\n",
    "…&…&…&…\\\\\n",
    "a_{1n}&a_{2n}&…&a_{nn}\n",
    "\\end{pmatrix}\n",
    "\\begin{pmatrix}\n",
    "\\psi_1(t)\\\\\n",
    "\\psi_2(t)\\\\\n",
    "…\\\\\n",
    "\\psi_n(t)\n",
    "\\end{pmatrix}=\n",
    "-\\begin{pmatrix}\n",
    "\\displaystyle\\sum_{k=1}^{n}a_{k1}\\psi_k\\\\\n",
    "\\displaystyle\\sum_{k=1}^{n}a_{k2}\\psi_k\\\\\n",
    "…\\\\\n",
    "\\displaystyle\\sum_{k=1}^{n}a_{kn}\\psi_k\\\\\n",
    "\\end{pmatrix}$\n",
    "\n",
    "$对\\Psi^T(t)\\varphi(t)求导数得$\n",
    "\n",
    "$\\begin{aligned}\n",
    "\\frac{\\mathrm d (\\Psi^T(t)\\varphi(t))}{\\mathrm d t}&=\\frac{\\mathrm d \\Psi^T(t)}{\\mathrm d t}\\varphi(t)+\\Psi^T(t)\\frac{\\mathrm d \\varphi(t)}{\\mathrm d t}\\\\\n",
    "&=-(\\displaystyle\\sum_{k=1}^{n}a_{k1}\\psi_k,\\displaystyle\\sum_{k=1}^{n}a_{k2}\\psi_k,…,\\displaystyle\\sum_{k=1}^{n}a_{kn}\\psi_k)\n",
    "\\begin{pmatrix}\n",
    "\\varphi_1(t)\\\\\n",
    "\\varphi_2(t)\\\\\n",
    "…\\\\\n",
    "\\varphi_n(t)\n",
    "\\end{pmatrix}+(\\varphi_1(t),\\varphi_2(t),…,\\varphi_n(t))\n",
    "\\begin{pmatrix}\n",
    "\\displaystyle\\sum_{k=1}^{n}a_{1k}\\varphi_k\\\\\n",
    "\\displaystyle\\sum_{k=1}^{n}a_{2k}\\varphi_k\\\\\n",
    "…\\\\\n",
    "\\displaystyle\\sum_{k=1}^{n}a_{nk}\\varphi_k\\\\\n",
    "\\end{pmatrix}\\\\\n",
    "&=-[\\displaystyle\\sum_{k=1}^{n}a_{k1}\\psi_k\\varphi_1+\\displaystyle\\sum_{k=1}^{n}a_{k2}\\psi_k\\varphi_2+…+\\displaystyle\\sum_{k=1}^{n}a_{kn}\\psi_k\\varphi_n]+[\\displaystyle\\sum_{k=1}^{n}\\psi_1 a_{1k}\\varphi_k+\\displaystyle\\sum_{k=1}^{n}\\psi_2 a_{2k}\\varphi_k+…+\\displaystyle\\sum_{k=1}^{n}\\psi_n a_{nk}\\varphi_k]\\\\\n",
    "&=-\\displaystyle\\sum_{k=1}^{n}\\displaystyle\\sum_{i=1}^{n}(a_{ki}\\psi_k\\varphi_i)+\\displaystyle\\sum_{k=1}^{n}\\displaystyle\\sum_{i=1}^{n}(\\psi_i a_{ik}\\varphi_k)\\\\\n",
    "&=-\\displaystyle\\sum_{k=1}^{n}\\displaystyle\\sum_{i=1}^{n}(a_{ki}\\psi_k\\varphi_i)+\\displaystyle\\sum_{i=1}^{n}\\displaystyle\\sum_{k=1}^{n}(a_{ik}\\psi_i\\varphi_k)\\\\\n",
    "&=0\n",
    "\\end{aligned}.$"
   ]
  },
  {
   "cell_type": "markdown",
   "metadata": {},
   "source": [
    "$所以\\Psi^T(t)\\varphi(t)=常数.$"
   ]
  },
  {
   "cell_type": "markdown",
   "metadata": {},
   "source": [
    "(2)$\\Psi(t)$为方程$y'=-A^T(t)y$的基解矩阵的充要条件是存在非奇异的常数矩阵$C$,使$\\Psi^T(t)\\phi(t)=C.$\n",
    "\n",
    "$充分性：存在非奇异矩阵C，使得\\Psi^T(t)\\phi(t)=C,由于\\phi(t)是方程x'=A(t)x的基解矩阵，则\\phi^{-1}(t)存在$\n",
    "\n",
    "$\\quad ∴\\Psi^T(t)=C·\\Phi^{-1}(t)且\\det(\\Psi^T(t))=\\det(C·\\Phi^{-1}(t))\\neq 0.∴\\Psi(t)是基解矩阵。$\n",
    "\n",
    "$必要性：\\Psi(t)是基解矩阵，则\\Psi(t)的每一个向量\\psi_1(t),\\psi_2(t),…\\psi_n(t)与\\Psi(t)的每一个列向量\\varphi_1(t),\\varphi_2(t),…\\varphi_n(t)满足\\varphi_i^T\\varphi_j(t)=常数,i=1,2,…n,$\n",
    "\n",
    "$\\quad j=1,2,…n。即\\Psi^T(t)\\phi是常数矩阵，记为c,另由于\\Psi(t)和\\phi(t)是基解矩阵，∴\\det(\\Psi^T(t))\\neq 0,\\det(\\phi(t))\\neq 0.$\n",
    "\n",
    "$\\quad则\\det C=\\det(\\phi(t))\\det(\\Psi^T(t))\\neq 0,即矩阵C就是非奇异的$"
   ]
  },
  {
   "cell_type": "markdown",
   "metadata": {
    "collapsed": true
   },
   "source": [
    "# <font color='red'>A  3/12"
   ]
  },
  {
   "cell_type": "code",
   "execution_count": null,
   "metadata": {
    "collapsed": true
   },
   "outputs": [],
   "source": []
  }
 ],
 "metadata": {
  "kernelspec": {
   "display_name": "SageMath 7.3",
   "language": "",
   "name": "sagemath"
  },
  "language_info": {
   "codemirror_mode": {
    "name": "ipython",
    "version": 2
   },
   "file_extension": ".py",
   "mimetype": "text/x-python",
   "name": "python",
   "nbconvert_exporter": "python",
   "pygments_lexer": "ipython2",
   "version": "2.7.10"
  }
 },
 "nbformat": 4,
 "nbformat_minor": 0
}
