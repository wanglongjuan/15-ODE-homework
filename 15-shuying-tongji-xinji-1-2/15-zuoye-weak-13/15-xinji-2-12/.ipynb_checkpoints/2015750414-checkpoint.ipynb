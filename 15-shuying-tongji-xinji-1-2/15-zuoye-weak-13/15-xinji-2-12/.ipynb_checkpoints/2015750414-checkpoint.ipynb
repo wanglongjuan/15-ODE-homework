{
 "cells": [
  {
   "cell_type": "markdown",
   "metadata": {},
   "source": [
    "常微分第十三pmatrix次作业\n",
    "\n",
    "2015750414"
   ]
  },
  {
   "cell_type": "markdown",
   "metadata": {},
   "source": [
    "$2.解:(1)w'(t)=\\begin{vmatrix}x'_{11}&x'_{12}&\\cdots&x'_{1n}\n",
    "\\\\x'_{21}&x'_{22}&\\cdots&x'_{2n}\n",
    "\\\\\\cdot&\\cdot&\\cdot&\\cdot\n",
    "\\\\x_{n1}&x_{n2}&\\cdots&x_{nn}\\end{vmatrix}+\n",
    "\\begin{vmatrix}x_{11}&x_{12}&\\cdots&x_{1n}\n",
    "\\\\x'_{21}&x'_{22}&\\cdots&x'_{2n}\n",
    "\\\\\\cdot&\\cdot&\\cdot&\\cdot\n",
    "\\\\x_{n1}&x_{n2}&\\cdots&x_{nn}\\end{vmatrix}+\\cdots+\n",
    "\\begin{vmatrix}x_{11}&x_{12}&\\cdots&x_{1n}\n",
    "\\\\x_{21}&x_{22}&\\cdots&x_{2n}\n",
    "\\\\\\cdot&\\cdot&\\cdot&\\cdot\n",
    "\\\\x'_{n1}&x'_{n2}&\\cdots&x'_{nn}\\end{vmatrix}=\n",
    "\\begin{vmatrix}a_{11}x_{11}+a_{12}x_{21}+\\cdots+a_{1n}x_{n1}&a_{11}x_{12}+a_{12}x_{22}+\\cdots+a_{1n}x_{n2}&\\cdots&a_{11}x_{1n}+a_{12}x_{2n}+\\cdots+a_{1n}x_{nn}\n",
    "\\\\x_{21}&x_{22}&\\cdots&x_{2n}\n",
    "\\\\\\cdot&\\cdot&\\cdot&\\cdot\n",
    "\\\\x_{n1}&x_{n2}&\\cdots&x_{nn}\\end{vmatrix}+\\cdots+\n",
    "\\begin{vmatrix}x_{11}&x_{12}&\\cdots&x_{1n}\n",
    "\\\\x_{21}&x_{22}&\\cdots&x_{2n}\n",
    "\\\\\\cdot&\\cdot&\\cdot&\\cdot\n",
    "\\\\a_{n1}x_{11}+\\cdots+a_{nn}x_{n1}&a_{n1}x_{21}+\\cdots+a_{nn}x_{n2}&\\cdots&a_{n1}x_{n1}+\\cdots+a_{nn}x_{nn}\\end{vmatrix}=$\n",
    "$\\begin{vmatrix}a_{11}x_{11}&a_{11}x_{12}&\\cdots&a_{11}x_{1n}\n",
    "\\\\x_{21}&x_{22}&\\cdots&x_{2n}\n",
    "\\\\\\cdot&\\cdot&\\cdot&\\cdot\n",
    "\\\\x_{n1}&x_{n2}&\\cdots&x_{nn}\n",
    "\\end{vmatrix}+\\cdots+$\n",
    "$\\begin{vmatrix}x_{11}&x_{12}&\\cdots&x_{1n}\n",
    "\\\\x_{21}&x_{22}&\\cdots&x_{2n}\n",
    "\\\\\\cdot&\\cdot&\\cdot&\\cdot\n",
    "\\\\a_{nn}x_{n1}&a_{nn}x_{n2}&\\cdots&a_{nn}x_{nn}\\end{vmatrix}$\n",
    "$整理后原式变为\n",
    "(a_{11}+\\cdots+a_{nn})\\begin{vmatrix}x_{11}&x_{12}&\\cdots&x_{1n}\n",
    "\\\\x_{21}&x_{22}&\\cdots&x_{2n}\n",
    "\\\\\\cdot&\\cdot&\\cdot&\\cdot\n",
    "\\\\x_{n1}&x_{n2}&\\cdots&x_{nn}\\end{vmatrix}=(a_[11]+\\cdots+a_{nn})w(t)=(a_{11}(t)+\\cdots+a_{nn}(t))w(t)$"
   ]
  },
  {
   "cell_type": "markdown",
   "metadata": {},
   "source": [
    "$(2)由于w'(t)=[a_{11}(t)+\\cdots+a_{nn}(t)]w(t),即\\frac{dw(t)}{w(t)}=[a_{11}(t)+\\cdots+a_{nn}(t)]dt$\n",
    "\n",
    "$两边从t_0到t积分ln|w(t)|-ln|w(t_0)|=\\int_{t_0}^t[a_{11}(s)+\\cdots+a_{nn}(s)]ds$\n",
    "\n",
    "$即w(t)=w(t_0)e^{\\int_{t_0}^t[a_{11}(s)+\\cdots+a_{nn}(s)]ds},t\\in[a,b]$"
   ]
  },
  {
   "cell_type": "markdown",
   "metadata": {},
   "source": [
    "$3.解(1)[\\Psi^T(t)\\varphi(t)]'={\\Psi^T}'\\varphi(t)+\\Phi^T\\varphi'(t)=\\Psi'^T\\varphi(t)+\\Psi^T(t)A(t)\\varphi$\n",
    "\n",
    "$又因为\\Psi'=-A^T(t)\\Psi(t),所以{\\Psi'}^t=-\\Psi^T(t)A(t)$\n",
    "\n",
    "$[\\Psi^T(t)\\varphi(t)]'=-\\Psi^TA(t)\\varphi+\\Phi^T(t)A(t)\\varphi=0$\n",
    "\n",
    "$所以对于方程y'=-A^T(t)y的任一解y=\\Phi(t)必有\\Phi^T(t)\\varphi(t)=常数$\n",
    "\n",
    "$(2)必要性:假设方程y=-A^T(t)y的基解矩阵,则$\n",
    "\n",
    "$[\\Psi^T(t)\\varphi(t)]'=[\\Psi^T(t)]'\\Phi(t)+\\Psi^T(t)\\Phi'(t)=[-A^T(t)\\Psi(t)]\\Phi(t)+\\Psi^T(t)A^T(t)\\Phi(t)+\\Psi^T(t)[A(t)\\varphi(t)]=-\\Psi^T(t)A^T(t)\\Phi(t)+\\Psi^T(t)a^T(t)\\Phi(t)=0$\n",
    "\n",
    "$故\\Psi^T(t)\\varphi(t)=C$\n",
    "\n",
    "$充分性:若存在非奇异常数矩阵C,detc\\not=0,使\\Psi^T(t)\\varphi(t)=C$\n",
    "\n",
    "$则[\\Psi^T(t)\\varphi(t)]'={\\Psi^T}'\\varphi(t)+\\Psi^T\\varphi'(t)=0$\n",
    "\n",
    "$故{\\Psi^T}'(t)\\varphi(t)=-\\Psi^T(t)\\varphi(t)A(t){\\Psi^T}'(t)=-\\Psi^T(t)A(t)$\n",
    "\n",
    "$所以{\\Psi'}^T(t)=-\\Psi^T(t)A(t),\\Psi'(t)=-\\Psi^T(t)A^T(t)$\n",
    "\n",
    "$即\\Psi(t)为方程y=-A^T(y)的基解矩阵$"
   ]
  },
  {
   "cell_type": "markdown",
   "metadata": {
    "collapsed": true
   },
   "source": [
    "# <font color='red'>A  3/12"
   ]
  },
  {
   "cell_type": "code",
   "execution_count": null,
   "metadata": {
    "collapsed": true
   },
   "outputs": [],
   "source": []
  }
 ],
 "metadata": {
  "kernelspec": {
   "display_name": "SageMath 7.3",
   "language": "",
   "name": "sagemath"
  },
  "language_info": {
   "codemirror_mode": {
    "name": "ipython",
    "version": 2
   },
   "file_extension": ".py",
   "mimetype": "text/x-python",
   "name": "python",
   "nbconvert_exporter": "python",
   "pygments_lexer": "ipython2",
   "version": "2.7.10"
  }
 },
 "nbformat": 4,
 "nbformat_minor": 0
}
