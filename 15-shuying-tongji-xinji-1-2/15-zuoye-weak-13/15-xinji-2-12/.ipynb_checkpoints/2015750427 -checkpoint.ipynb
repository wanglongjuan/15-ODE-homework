{
 "cells": [
  {
   "cell_type": "markdown",
   "metadata": {},
   "source": [
    "1.考虑方程组$x'=A(t)x$，其中A(t)是区间$a \\leq t \\leq b$上的连续$n \\times n$矩阵，它的元为$a_{ij}(t)(i,j=1,2,\\cdot \\cdot \\cdot ,n)$\n",
    "\n",
    "（1）如果$x_1(t),x_2(t),\\cdot \\cdot \\cdot ,x_n(t)$是上式的任意n个解，那么它们的朗斯基行列式$W[x_1(t),x_2(t), \\cdot \\cdot\\cdot ,x_n(t)\\equiv W(t)]$满足下面的一阶线性微分方程$$W'=[a_11(t)+a_22(t)+ \\cdot \\cdot \\cdot +a_{nn}]W$$ \n",
    "\n",
    "（2）解上面的一阶线性微分方程，证明下面的公式：$W(t)=W(t_0)e^{\\int_{t_0}^t [a_11(s)+a_22(s)+ \\cdot \\cdot \\cdot +a_{nn}(s)]ds},t_0,t\\in [a,b]$"
   ]
  },
  {
   "cell_type": "markdown",
   "metadata": {},
   "source": [
    "解：（1）用向量的形式表示$x_1(t),x_2(t), \\cdot \\cdot \\cdot x_n(t)$，写出它们的朗斯基行列式为$W(t)=\\begin{vmatrix} x_{11}(t) & x_{12}(t) & \\cdot \\cdot \\cdot & x_{1n}(t) \\\\ x_{21}(t) & x_{22}(t) & \\cdot \\cdot \\cdot & x_{2n}(t)  \\\\  \\cdot \\cdot \\cdot & \\cdot \\cdot \\cdot & \\cdot \\cdot \\cdot \\\\ x_{n1}(t) & x{n2}(t) & \\cdot \\cdot \\cdot & x_{nn}(t) \\end{vmatrix} $，对W(t)求导得$\\frac{dW(t)}{dt}= \\begin{vmatrix} x_{11}'(t) & x_{12}'(t) & \\cdot \\cdot \\cdot & x_{1n}'(t) \\\\ x_{21}(t) & x_{22}(t) & \\cdot \\cdot \\cdot & x_{2n}(t)  \\\\  \\cdot \\cdot \\cdot & \\cdot \\cdot \\cdot & \\cdot \\cdot \\cdot \\\\ x_{n1}(t) & x{n2}(t) & \\cdot \\cdot \\cdot & x_{nn}(t) \\end{vmatrix}+\\begin{vmatrix} x_{11}(t) & x_{12}(t) & \\cdot \\cdot \\cdot & x_{1n}(t) \\\\ x_{21}'(t) & x_{22}'(t) & \\cdot \\cdot \\cdot & x_{2n}'(t)  \\\\  \\cdot \\cdot \\cdot & \\cdot \\cdot \\cdot & \\cdot \\cdot \\cdot \\\\ x_{n1}(t) & x{n2}(t) & \\cdot \\cdot \\cdot & x_{nn}(t) \\end{vmatrix}+ \\cdot \\cdot \\cdot+\\begin{vmatrix} x_{11}(t) & x_{12}(t) & \\cdot \\cdot \\cdot & x_{1n}(t) \\\\ x_{21}(t) & x_{22}(t) & \\cdot \\cdot \\cdot & x_{2n}(t)  \\\\  \\cdot \\cdot \\cdot & \\cdot \\cdot \\cdot & \\cdot \\cdot \\cdot \\\\ x_{n1}'(t) & x{n2}'(t) & \\cdot \\cdot \\cdot & x_{nn}'(t) \\end{vmatrix}$ .\n",
    "\n",
    "因为$$x'_{11}=a_{11}x_{11}+a_{12}x_{21}+ \\cdot \\cdot \\cdot +a_{1n}x_{n1} \\\\ x'_{12}=a_{11}x_{12}+a_{12}x_{22}+ \\cdot \\cdot \\cdot +a_{1n}x_{n2} \\\\  \\cdot \\cdot \\cdot \\cdot \\cdot \\cdot \\cdot \\cdot \\cdot \\cdot \\cdot \\cdot \\\\ x'_{1n}=a_{11}x_{1n}+a_{12}x_{2n}+ \\cdot \\cdot \\cdot +a_{1n}x_{nn}$$\n",
    "所以$$\\begin{vmatrix} x_{11}'(t) & x_{12}'(t) & \\cdot \\cdot \\cdot & x_{1n}'(t) \\\\ x_{21}(t) & x_{22}(t) & \\cdot \\cdot \\cdot & x_{2n}(t)  \\\\  \\cdot \\cdot \\cdot & \\cdot \\cdot \\cdot & \\cdot \\cdot \\cdot \\\\ x_{n1}(t) & x{n2}(t) & \\cdot \\cdot \\cdot & x_{nn}(t) \\end{vmatrix}=\\begin{vmatrix} a_{11}x_{11}(t) & a_{11}x_{12}(t) & \\cdot \\cdot \\cdot & a_{11}x_{1n}(t) \\\\ x_{21}(t) & x_{22}(t) & \\cdot \\cdot \\cdot & x_{2n}(t)  \\\\  \\cdot \\cdot \\cdot & \\cdot \\cdot \\cdot & \\cdot \\cdot \\cdot \\\\ x_{n1}(t) & x{n2}(t) & \\cdot \\cdot \\cdot & x_{nn}(t) \\end{vmatrix}+\\begin{vmatrix} a_{12}x_{21}(t) & a_{12}x_{22}(t) & \\cdot \\cdot \\cdot & a_{12}x_{2n}(t) \\\\ x_{21}(t) & x_{22}(t) & \\cdot \\cdot \\cdot & x_{2n}(t)  \\\\  \\cdot \\cdot \\cdot & \\cdot \\cdot \\cdot & \\cdot \\cdot \\cdot \\\\ x_{n1}(t) & x{n2}(t) & \\cdot \\cdot \\cdot & x_{nn}(t) \\end{vmatrix}+ \\cdot \\cdot \\cdot + \\begin{vmatrix} a_{1n}x_{n1}(t) & a_{1n}x_{n2}(t) & \\cdot \\cdot \\cdot & a_{1n}x_{nn}(t) \\\\ x_{21}(t) & x_{22}(t) & \\cdot \\cdot \\cdot & x_{2n}(t)  \\\\  \\cdot \\cdot \\cdot & \\cdot \\cdot \\cdot & \\cdot \\cdot \\cdot \\\\ x_{n1}(t) & x{n2}(t) & \\cdot \\cdot \\cdot & x_{nn}(t) \\end{vmatrix}=a_{11}(t)W(t)$$\n",
    "同理，第2个行列式等于$a_{22}(t)W(t)$,第3个行列式等于$a_{33}(t)W(t)， \\cdot \\cdot \\cdot $第n个行列式等于$a_{nn}(t)W(t)$,因此得$\\frac{dW(t)}{dt}=[a_{11}(t)+a_{22}(t)+] \\cdot \\cdot \\cdot +a_{nn}(t)W(t)$.\n",
    "\n",
    "(2)对上式的一阶线性微分方程变形为$\\frac{dW}{dt}=[a_{11}(t)+a_{22}(t)+] \\cdot \\cdot \\cdot +a_{nn}(t)dt$\n",
    "\n",
    "积分得$$\\ln|W(t)-\\ln|W(t_0)|=\\int_{t_0}^t [a_{11}(s)+a_{22}(s)+ \\cdot \\cdot \\cdot +a_{nn}(s)]ds$$\n",
    "\n",
    "两边再作用指数函数，得$W(t)=W(t_0)e^{\\int_0^t [a_{11}(s)+a_{22}(s)+ \\cdot \\cdot \\cdot +a_{nn}(s)]ds]}$"
   ]
  },
  {
   "cell_type": "markdown",
   "metadata": {},
   "source": [
    "3.设A（t）为区间$a \\leq t \\leq b$上的连续实矩阵，$\\Phi(t)$为方程$x'=A(t)x$的基解矩阵，而$x=\\varphi(t)$为一解，试证：\n",
    "\n",
    "（1）对于方程$y'=-A^T(t)y$的任一解$y=\\psi(t)必有\\psi^T(t)\\varphi(t)=常数$；\n",
    "\n",
    "（2）$\\psi(t)$为方程$y'=-A^T(t)y$的基解矩阵的充要条件是存在非奇异的常数矩阵C，使$\\psi^T(t)\\Phi(t)=C$"
   ]
  },
  {
   "cell_type": "markdown",
   "metadata": {},
   "source": [
    "证明：（1）由于$\\varphi(t)$是$x'=A(t)x$的解，所以$$\\varphi'(t)=\\begin{bmatrix} \\varphi_1'(t) \\\\ \\varphi_2'(t) \\\\  \\cdot  \\\\  \\cdot  \\\\  \\cdot \\\\ \\varphi_n'(t) \\end{bmatrix} =\\begin{bmatrix} a_{11} & a_{12} & \\cdot \\cdot \\cdot & a_{1n} \\\\ a_{21} & a_{22} & \\cdot \\cdot \\cdot & a_{2n} \\\\  \\cdot \\cdot \\cdot & \\cdot \\cdot \\cdot &  \\cdot \\cdot \\cdot&   \\cdot \\cdot \\cdot \\\\ a_{n1} & a_{n2}& \\cdot \\cdot \\cdot & a_{nn} \\end{bmatrix}\\begin{bmatrix} \\varphi_1(t) \\\\ \\varphi_2(t) \\\\  \\cdot  \\\\  \\cdot  \\\\  \\cdot \\\\ \\varphi_n(t) \\end{bmatrix}=\\begin{bmatrix} \\sum_{k=1}^n a_{1k}\\varphi_k \\\\ \\sum_{k=1}^n a_{2k}\\varphi_k \\\\  \\cdot  \\\\  \\cdot  \\\\  \\cdot \\\\ \\sum_{k=1}^n a_{nk}\\varphi_k \\end{bmatrix} $$\n",
    "\n",
    "同理，由于$\\psi(t)$是方程$y'=-A^T(t)y$的解，所以$$\\psi(t)=\\begin{bmatrix} \\psi_1'(t) \\\\ \\psi_2'(t) \\\\  \\cdot  \\\\  \\cdot  \\\\  \\cdot \\\\ \\psi_n'(t) \\end{bmatrix} =-\\begin{bmatrix} a_{11} & a_{12} & \\cdot \\cdot \\cdot & a_{1n} \\\\ a_{21} & a_{22} & \\cdot \\cdot \\cdot & a_{2n} \\\\  \\cdot \\cdot \\cdot & \\cdot \\cdot \\cdot &  \\cdot \\cdot \\cdot &   \\cdot \\cdot \\cdot \\\\ a_{n1} & a_{n2}& \\cdot \\cdot \\cdot & a_{nn} \\end{bmatrix}\\begin{bmatrix} \\psi_1(t) \\\\ \\psi_2(t) \\\\  \\cdot  \\\\  \\cdot  \\\\  \\cdot \\\\ \\psi_n(t) \\end{bmatrix}=-\\begin{bmatrix} \\sum_{k=1}^n a_{k1}\\psi_k \\\\ \\sum_{k=1}^n a_{k2}\\psi_k \\\\  \\cdot  \\\\  \\cdot  \\\\  \\cdot \\\\ \\sum_{k=1}^n a_{kn}\\psi_k \\end{bmatrix} $$,\n",
    "对$\\psi^T(t) \\varphi(t)$求导得$$\\frac{d(\\psi^T(t) \\varphi(t))}{dt}=\\frac{d\\psi^T(t)}{dt} \\varphi(t)+\\psi^T(t) \\cdot \\frac{d\\varphi(t)}{dt}=- \\sum_{k=1}^n \\sum_{i=1}^n (a_{ki}\\psi_{ki} \\varphi_i)+ \\sum_{k=1}^n \\sum_{i=1}^n(\\psi_ia_{ik} \\varphi_k)=0$$\n",
    "所以$\\Psi^T(t)\\varphi(t)=常数$\n",
    "\n",
    "(2)充分性\n",
    "\n",
    "存在非奇异矩阵C，使得$\\Psi^T(t)\\Phi(t)=C$，由于$\\Phi(t)$是方程$y'=-A^T(t)y$的基解矩阵，故$\\Phi^{-1}(t)$存在，所以$\\Psi^T(t)=C \\cdot \\Phi^{-1}(t）$,并且$det(\\Psi^T(t))=det(C \\cdot \\Phi^{-1}(t))\\neq0.$所以，$\\Psi(t)$是基解矩阵。\n",
    "\n",
    "必要性\n",
    "\n",
    "$Psi(t)$是基解矩阵，则$Psi(t)$的每一个列向量$psi_1(t),psi_2(t), \\cdot \\cdot \\cdot ,psi_n(t)$与$Phi(t)$的每一个列向量$\\varphi_1(t),\\varphi_2(t),\\cdot \\cdot \\cdot ,\\varphi_n(t)$满足$\\psi_i^T(t)\\varphi_j(t)=常数,i=1,2,\\cdot \\cdot \\cdot n,j=1,2,\\cdot \\cdot \\cdot n$.所以$\\Psi^T(t)\\Phi(t)=C$是常数矩阵，记为c,另外由于$\\Phi(t),Psi(t)$分别是基解矩阵，所以$det(\\Phi(t))\\neq0,det(\\Psi^T(t))\\neq0,这样detC=det(\\Phi(t))\\cdot det(\\Psi^T(t))\\cdot 0$，也就是C是非奇异的。\n",
    "\n",
    "因此，存在非奇异常数矩阵C，使$\\psi^T(t)\\Phi(t)=C$"
   ]
  },
  {
   "cell_type": "markdown",
   "metadata": {
    "collapsed": true
   },
   "source": [
    "# <font color='red'>A  3/12"
   ]
  },
  {
   "cell_type": "code",
   "execution_count": null,
   "metadata": {
    "collapsed": true
   },
   "outputs": [],
   "source": []
  }
 ],
 "metadata": {
  "kernelspec": {
   "display_name": "SageMath 7.3",
   "language": "",
   "name": "sagemath"
  },
  "language_info": {
   "codemirror_mode": {
    "name": "ipython",
    "version": 2
   },
   "file_extension": ".py",
   "mimetype": "text/x-python",
   "name": "python",
   "nbconvert_exporter": "python",
   "pygments_lexer": "ipython2",
   "version": "2.7.10"
  }
 },
 "nbformat": 4,
 "nbformat_minor": 0
}
