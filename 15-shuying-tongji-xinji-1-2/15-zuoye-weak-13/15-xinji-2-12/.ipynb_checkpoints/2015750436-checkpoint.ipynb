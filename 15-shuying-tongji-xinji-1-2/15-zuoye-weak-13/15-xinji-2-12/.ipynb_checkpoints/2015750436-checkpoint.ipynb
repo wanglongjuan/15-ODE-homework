{
 "cells": [
  {
   "cell_type": "markdown",
   "metadata": {},
   "source": [
    "p216  \n",
    "2.考虑方程组。  \n",
    "$$x'=A(t)x\\quad  \\quad   \\quad    (5.15)$$\n",
    "其中$A(t)$是区间$a\\leq t\\leq b$上的连续$nxn$的矩阵，它的元为$a_{ij}(t)$($i,j=1,2,\\dots,n$)  \n",
    "  \n",
    "（1）如果$x_1(t),x_2(t),\\dots,x_n(t)$是方程组的任意$n$个解，那么它的朗斯基行列式$W[x_1(t),x_2(t),\\dots,x_n(t)]\\equiv W(t)$满足下面的一阶线性微分方程$$W'=[a_{11}(t)+a_{22}(t)+\\dots+a_{nn}(t)]W；$$     \n",
    "(提示：利用行列式的微分方程，求出$W'$的表达式。）  \n",
    "  \n",
    "（2）解上面的一阶线性微分方程，证明下面的公式：\n",
    "$$W(t)=W(t_0)e^{\\int_{t_0}^t [a_{11}(s)+a_{22}(s)+\\dots+a_{nn}(s)ds},\\quad t_0,t\\in [a,b]$$"
   ]
  },
  {
   "cell_type": "markdown",
   "metadata": {},
   "source": [
    "解：（1）$$\\mathbf W'=\\left|\\begin{matrix}x_{11}(t)&x_{12}(t)&\\dots&x_{1n}(t)\\\\x_{21}(t)&x_{22}(t)&\\dots&x_{2n}(t)\\\\\\dots&\\dots&\\dots&\\dots\\\\x_{n1}(t)&x_{n2}(t)&\\dots&x_{nn}(t)\\\\\\end{matrix}\\right|$$    \n",
    "又： \n",
    "$$\\frac{\\mathrm dW(t)}{\\mathrm dt}=\\left|\\begin{matrix}x_{11}'(t)&x_{12}'(t)&\\dots&x_{1n}'(t)\\\\x_{21}(t)&x_{22}(t)&\\dots&x_{2n}(t)\\\\\\dots&\\dots&\\dots&\\dots\\\\x_{n1}(t)&x_{n2}(t)&\\dots&x_{nn}(t)\\\\\\end{matrix}\\right|+\\left|\\begin{matrix}x_{11}(t)&x_{12}(t)&\\dots&x_{1n}(t)\\\\x_{21}'(t)&x_{22}'(t)&\\dots&x_{2n}'(t)\\\\\\dots&\\dots&\\dots&\\dots\\\\x_{n1}(t)&x_{n2}(t)&\\dots&x_{nn}(t)\\\\\\end{matrix}\\right|+\\dots+\\left|\\begin{matrix}x_{11}(t)&x_{12}(t)&\\dots&x_{1n}(t)\\\\x_{21}(t)&x_{22}(t)&\\dots&x_{2n}(t)\\\\\\dots&\\dots&\\dots&\\dots\\\\x_{n1}'(t)&x_{n2}'(t)&\\dots&x_{nn}'(t)\\\\\\end{matrix}\\right|$$  \n",
    "  \n",
    "已知：$$x'=A(t)x$$ \n",
    "   \n",
    "则：\n",
    "$$x_{11}'=a_{11}x_{11}+a_{12}x_{21}+\\dots+a_{1n}x_{1n}$$  \n",
    "$$x_{12}'=a_{11}x_{12}+a_{12}x_{22}+\\dots+a_{1n}x_{2n}$$  \n",
    "$$\\dots$$  \n",
    "$$x_{1n}'=a_{11}x_{1n}+a_{12}x_{2n}+\\dots+a_{1n}x_{nn}$$  \n",
    "$$\\left|\\begin{matrix}x_{11}'(t)&x_{12}'(t)&\\dots&x_{1n}'(t)\\\\x_{21}(t)&x_{22}(t)&\\dots&x_{2n}(t)\\\\\\dots&\\dots&\\dots&\\dots\\\\x_{n1}(t)&x_{n2}(t)&\\dots&x_{nn}(t)\\\\\\end{matrix}\\right|$$  \n",
    "$$=\\left|\\begin{matrix}a_{11}x_{11}(t)&a_{11}x_{12}(t)&\\dots&a_{11}x_{1n}(t)\\\\x_{21}(t)&x_{22}(t)&\\dots&x_{2n}(t)\\\\\\dots&\\dots&\\dots&\\dots\\\\x_{n1}(t)&x_{n2}(t)&\\dots&x_{nn}(t)\\\\\\end{matrix}\\right|+\\left|\\begin{matrix}a_{12}x_{21}(t)&a_{12}x_{22}(t)&\\dots&a_{12}x_{2n}(t)\\\\x_{21}(t)&x_{22}(t)&\\dots&x_{2n}(t)\\\\\\dots&\\dots&\\dots&\\dots\\\\x_{n1}(t)&x_{n2}(t)&\\dots&x_{nn}(t)\\\\\\end{matrix}\\right|+\\dots+\\left|\\begin{matrix}a_{1n}x_{n1}(t)&x_{1n}x_{n2}(t)&\\dots&a_{1n}x_{nn}(t)\\\\x_{21}(t)&x_{22}(t)&\\dots&x_{2n}(t)\\\\\\dots&\\dots&\\dots&\\dots\\\\x_{n1}(t)&x_{n2}(t)&\\dots&x_{nn}(t)\\\\\\end{matrix}\\right|$$  \n",
    "$$=a_{11}(t)W(t)$$  "
   ]
  },
  {
   "cell_type": "markdown",
   "metadata": {},
   "source": [
    "同理：  \n",
    "$$\\left|\\begin{matrix}x_{11}(t)&x_{12}(t)&\\dots&x_{1n}(t)\\\\x_{21}'(t)&x_{22}'(t)&\\dots&x_{2n}'(t)\\\\\\dots&\\dots&\\dots&\\dots\\\\x_{n1}(t)&x_{n2}(t)&\\dots&x_{nn}(t)\\\\\\end{matrix}\\right|=a_{22}(t)W(t)\\dots\\left|\\begin{matrix}a_{1n}x_{n1}(t)&x_{1n}x_{n2}(t)&\\dots&a_{1n}x_{nn}(t)\\\\x_{21}(t)&x_{22}(t)&\\dots&x_{2n}(t)\\\\\\dots&\\dots&\\dots&\\dots\\\\x_{n1}(t)&x_{n2}(t)&\\dots&x_{nn}(t)\\\\\\end{matrix}\\right|=a_{nn}(t)W(t)$$   \n",
    "即：  \n",
    "$$W'=[a_{11}(t)+a_{22}(t)+\\dots+a_{nn}(t)]W$$   "
   ]
  },
  {
   "cell_type": "markdown",
   "metadata": {},
   "source": [
    "(2)$$\\begin{aligned}W'&=[a_{11}(t)+a_{22}(t)+\\dots+a_{nn}(t)]W\\\\\\frac{\\mathrm dW}{\\mathrm W}&=a_{11}(t)+a_{22}(t)+\\dots+a_{nn}(t)\\\\\\end{aligned}$$   \n",
    "从$t_0\\to t $积分得：  $$ln|W(t)|-ln|W(t_0)|=\\int_{t_0}^t[a_{11}(t)+a_{22}(t)+\\dots+a_{nn}(t)]dt$$  \n",
    "即：$$W(t)=W(t_0)e^{\\int_{t_0}^t [a_{11}(s)+a_{22}(s)+\\dots+a_{nn}(s)ds},\\quad t_0,t\\in [a,b]$$"
   ]
  },
  {
   "cell_type": "markdown",
   "metadata": {},
   "source": [
    "3.设A（t）为区间$a\\leq t\\leq b$上的连续nxn实矩阵，$\\phi(t)$为方程$x'=A(t)x$的基解矩阵，而$x=\\varphi t$为其一解，试证：  \n",
    "(1)对于方程$y'=-A^T(t)y$的任一解$y=\\psi(t)$必有$\\psi^T(t)\\varphi(t)=$常数。     \n",
    "(2)$\\psi(t)$为方程$y'=-A^T(t)y$的基解矩阵的充要条件是存在非奇异的常数矩阵$C$，使$\\psi^T\\phi(t)=C$"
   ]
  },
  {
   "cell_type": "markdown",
   "metadata": {},
   "source": [
    "解：（1）$x=\\varphi t$为方程$x'=A(t)x$的基解矩阵:  \n",
    "$$\\mathbf \\varphi'=\\left[\\begin{matrix}\\varphi_1'(t)\\\\\\varphi_2'(t)\\\\\\dots\\\\\\varphi_n'(t)\\\\\\end{matrix}\\right]=\\left[\\begin{matrix}a_{11}(t)&a_{12}(t)&\\dots&a_{1n}(t)\\\\a_{21}(t)&a_{22}(t)&\\dots&a_{2n}(t)\\\\\\dots&\\dots&\\dots&\\dots\\\\a_{n1}(t)&a_{n2}(t)&\\dots&a_{nn}(t)\\\\\\end{matrix}\\right]\\left[\\begin{matrix}\\varphi_1(t)\\\\\\varphi_2(t)\\\\\\dots\\\\\\varphi_n(t)\\\\\\end{matrix}\\right]$$   \n",
    "$y=\\psi(t)$是方程$y'=-A^T(t)y$的解   \n",
    "$$\\mathbf \\psi'=\\left[\\begin{matrix}\\psi_1'(t)\\\\\\psi_2'(t)\\\\\\dots\\\\\\psi_n'(t)\\\\\\end{matrix}\\right]=-\\left[\\begin{matrix}a_{11}(t)&a_{12}(t)&\\dots&a_{1n}(t)\\\\a_{21}(t)&a_{22}(t)&\\dots&a_{2n}(t)\\\\\\dots&\\dots&\\dots&\\dots\\\\a_{n1}(t)&a_{n2}(t)&\\dots&a_{nn}(t)\\\\\\end{matrix}\\right]\\left[\\begin{matrix}\\psi_1(t)\\\\\\psi_2(t)\\\\\\dots\\\\\\psi_n(t)\\\\\\end{matrix}\\right]$$     \n",
    "对$\\psi^T(t)\\varphi(t)$求导数得：$$\\frac{\\mathrm d(\\psi^T(t)\\varphi(t))}{\\mathrm dt}=\\frac{\\mathrm d\\psi^T(t)}{\\mathrm dt}\\varphi(t)+\\psi^T(t)\\frac{\\mathrm d\\varphi(t)}{\\mathrm dt}=0$$    \n",
    "所以$\\psi^T(t)\\varphi(t)$为常数。  "
   ]
  },
  {
   "cell_type": "markdown",
   "metadata": {},
   "source": [
    "（2）充分性：  \n",
    "存在非奇异矩阵C，使得$\\psi^T(t)\\phi(t)=C$,又由于$\\phi(t)$是方程$x'=A(t)x$的基解矩阵   \n",
    "$\\psi^T(t)=C·\\phi^{-1}(t)$,又：$|\\psi^T(t)|=|C·\\phi^{-1}(t)|\\neq 0$,则$\\psi(t)$是方程$x'=A(t)x$的基解矩阵。   \n",
    "必要性：  \n",
    "$\\psi(t)$是方程$x'=A(t)x$的基解矩阵。   \n",
    "则每个$\\psi(t)$的列向量$\\psi_1(t),\\psi_2(t),\\dots,\\psi_n(t)$使$\\psi^T\\phi(t)=C$，又$\\psi(t),\\phi(t)$都是方程的基解，  \n",
    "则：$$|\\psi(t)|\\neq 0,|\\phi(t)|\\neq 0$$   \n",
    "$$|C|=|\\psi^T||phi(t)|\\neq 0$$  \n",
    "则：存在非奇异的常数矩阵$C$，使$\\psi^T\\phi(t)=C$"
   ]
  },
  {
   "cell_type": "markdown",
   "metadata": {
    "collapsed": true
   },
   "source": [
    "# <font color='red'>A  3/12"
   ]
  },
  {
   "cell_type": "code",
   "execution_count": null,
   "metadata": {
    "collapsed": true
   },
   "outputs": [],
   "source": []
  }
 ],
 "metadata": {
  "kernelspec": {
   "display_name": "SageMath 7.3",
   "language": "",
   "name": "sagemath"
  },
  "language_info": {
   "codemirror_mode": {
    "name": "ipython",
    "version": 2
   },
   "file_extension": ".py",
   "mimetype": "text/x-python",
   "name": "python",
   "nbconvert_exporter": "python",
   "pygments_lexer": "ipython2",
   "version": "2.7.10"
  }
 },
 "nbformat": 4,
 "nbformat_minor": 0
}
