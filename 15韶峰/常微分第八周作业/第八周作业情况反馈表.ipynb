{
 "cells": [
  {
   "cell_type": "markdown",
   "metadata": {},
   "source": [
    "第八周作业情况反馈表：\n",
    "* 本周的作业： 第131页：1、2、3（1）（3）（5）、6\n",
    "* 本周作业完成情况如下：\n",
    "    * 本周作业是作与线性方程理论相关题目的解，大家按时交作业;\n",
    "    * 本周作业完成的较好，格式基本正确，作业内容整齐，易读;\n",
    "    * 本周肖熠程、邹恒勇抄作业;张欢（2015750120）、李星颖题目少做;刘琼琦、马晓波、肖思、郎大宇作业优秀;\n",
    "    * 金蒙召请假作业未交。"
   ]
  },
  {
   "cell_type": "code",
   "execution_count": null,
   "metadata": {
    "collapsed": true
   },
   "outputs": [],
   "source": []
  }
 ],
 "metadata": {
  "kernelspec": {
   "display_name": "SageMath 7.3",
   "language": "",
   "name": "sagemath"
  },
  "language_info": {
   "codemirror_mode": {
    "name": "ipython",
    "version": 2
   },
   "file_extension": ".py",
   "mimetype": "text/x-python",
   "name": "python",
   "nbconvert_exporter": "python",
   "pygments_lexer": "ipython2",
   "version": "2.7.10"
  }
 },
 "nbformat": 4,
 "nbformat_minor": 0
}
