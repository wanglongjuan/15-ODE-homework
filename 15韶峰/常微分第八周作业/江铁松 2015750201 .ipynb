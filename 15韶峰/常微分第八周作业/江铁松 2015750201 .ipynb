{
 "cells": [
  {
   "cell_type": "markdown",
   "metadata": {},
   "source": [
    "### 1、"
   ]
  },
  {
   "cell_type": "markdown",
   "metadata": {},
   "source": [
    "**证明**：(反证法)\n",
    "\n",
    "\n",
    "$假设x(t),y(t)在a \\leq t \\leq b上线性相关$\n",
    "\n",
    "$则存在不全部为0的数m,n.使得$\n",
    "\n",
    "$m x(t)+n y(t)=0$\n",
    "\n",
    "$不妨令n\\neq 0$\n",
    "\n",
    "$显然，x(t),y(t)中存在一个处处不为0，(a \\leq t \\leq b),假设为y(t)$\n",
    "\n",
    "$则\\frac{x(t)}{y(t)}=- \\frac{n}{m}$\n",
    "\n",
    "$矛盾，假设不成立$\n",
    "\n",
    "$故x(t),y(t)在a \\leq t \\leq b上线性无关。$"
   ]
  },
  {
   "cell_type": "markdown",
   "metadata": {},
   "source": [
    "### 2、"
   ]
  },
  {
   "cell_type": "markdown",
   "metadata": {},
   "source": [
    "**证明**\n",
    "$将x_1(t)+x_2(t)代入方程$\n",
    "\n",
    "$\\frac{d^n x}{d t^n}+a_1(t)\\frac{d^{n-1} x}{d t^{n-1}}+\\dots+a_n(t)x=f_1(t)+f_2(t)$\n",
    "\n",
    "的左边得:\n",
    "\n",
    "$\\frac{d^n x}{d t^n}+a_1(t)\\frac{d^{n-1} x}{d t^{n-1}}+\\dots+a_n(t)x$\n",
    "\n",
    "$=\\frac{d^n (x_1(t)+x_2(t))}{d t^n}+a_1(t)\\frac{d^{n-1} (x_1+x_2(t)}{d t^{n-1}}+\\dots+a_n(t)(x_1(t)+x_2(t))$\n",
    "\n",
    "$=\\frac{d^n x_1(t)}{d t^n}+a_1(t)\\frac{d^{n-1} x_1(t)}{d t^{n-1}}+\\dots+a_n(t)x_1(t)+\\frac{d^n x_2(t)}{d t^n}+a_1(t)\\frac{d^{n-1} x_2(t)}{d t^{n-1}}+\\dots+a_n(t)x_2(t)$\n",
    "\n",
    "$因为x_1(y),x_2(t)分别是方程$\n",
    "\n",
    "$\\frac{d^n x}{d t^n}+a_1(t)\\frac{d^{n-1} x}{d t^{n-1}}+\\dots+a_n(t)x=f_1(t)$\n",
    "\n",
    "$\\frac{d^n x}{d t^n}+a_1(t)\\frac{d^{n-1} x}{d t^{n-1}}+\\dots+a_n(t)x=f_2(t)$\n",
    "\n",
    "的解\n",
    "\n",
    "$所以方程左边=f_1(t)+f_2(t)=右边$\n",
    "\n",
    "$所以x_1(y)+x_2(t)是方程的解$"
   ]
  },
  {
   "cell_type": "markdown",
   "metadata": {},
   "source": [
    "### 3、已知齐次线性微分方程的基本解组x_1,x_2,求下列方程对应的非齐次线性微分方程的通解。"
   ]
  },
  {
   "cell_type": "markdown",
   "metadata": {},
   "source": [
    "$(1)x''-x=cost,x_1(t)=e^t,x_2(t)=e^{-t};$"
   ]
  },
  {
   "cell_type": "markdown",
   "metadata": {},
   "source": [
    "**解**\n",
    "$令x=c_1(t)e^t+c_2(t)e^{-t}$\n",
    "\n",
    "$则\\begin{cases}\n",
    "c'_1(t)e^t+c'_2(t)e^{-t}=0\\\\\n",
    "c'_1(t)e^t+c'_2(t)(-e^{-t})=cost\n",
    "\\end{cases}$\n",
    "\n",
    "解方程组得\n",
    "\n",
    "$\\begin{cases}\n",
    "c'_1(t)=\\frac{1}{2}cos2te^t\\\\\n",
    "c'_2(t)=- \\frac{1}{2}cos2te^t\n",
    "\\end{cases}$\n",
    "\n",
    "$分别对c_1(t),c_2(t)进行积分得$\n",
    "\n",
    "$c_1(t)=\\frac{1}{4}(e^{-t}sint-e^{-t}cost)+c_1$\n",
    "\n",
    "$c_2(t)=-\\frac{1}{4}(e^tcost+e^tsint)+c_2$\n",
    "\n",
    "$所以方程的解为x=-\\frac{1}{2}cost+c_1e^t+c_2e^{-t}$"
   ]
  },
  {
   "cell_type": "markdown",
   "metadata": {},
   "source": [
    "\n"
   ]
  },
  {
   "cell_type": "markdown",
   "metadata": {},
   "source": [
    "$(3)x''+4x=t \\sin2t,x_1=\\cos2t,x_2=\\sin 2t$"
   ]
  },
  {
   "cell_type": "markdown",
   "metadata": {},
   "source": [
    "**解**\n",
    "$x=c_1(t)\\cos2t+c_2(t)\\sin2t$\n",
    "\n",
    "$则\\begin{cases}\n",
    "c'_1(t)\\cos2t+c'_2(t)\\sin2t=0\\\\\n",
    "-2\\sin2t c'_1(t)+2cos2t c'_2(t)=t\\sin2t\n",
    "\\end{cases}$\n",
    "\n",
    "$解得\\begin{cases}\n",
    "c'_1(t)=\\frac{t(\\cos4t-1)}{4}\\\\\n",
    "c'_2(t)=\\frac{t\\sin4t}{4}\n",
    "\\end{cases}$\n",
    "\n",
    "$c_1(t)=\\frac{1}{4}\\int (t\\cos4t-1)dt$\n",
    "\n",
    "$=\\frac{1}{4}(\\frac{1}{4}\\int td\\sin 4t-\\frac{1}{2}t^2)+c$\n",
    "\n",
    "$=\\frac{1}{4}[\\frac{1}{4}(t\\sin t-\\int \\sin4tdt)-\\frac{1}{2}t^2]+c$\n",
    "\n",
    "$=\\frac{1}{4}[\\frac{1}{4}(t \\sin t+\\frac{1}{4}\\cos4t)-\\frac{1}{2}t^2]+c_1$\n",
    "\n",
    "$=\\frac{1}{16}t\\sin4t+\\frac{1}{64}\\cos4t-\\frac{1}{8}t^2+c_1$\n",
    "\n",
    "$c_2(t)=\\frac{1}{4}\\int t\\sin 4tdt$\n",
    "\n",
    "$=-\\frac{1}{16}\\int tdcos4t$\n",
    "\n",
    "$=-\\frac{1}{16}tcos4t+\\frac{1}{64}sin 4t+c_2$\n",
    "\n",
    "$x=-\\frac{1}{8}t^2+\\frac{t}{16}sin2t+\\frac{1}{64}cos2t+c_1cos2t+c_2sin2t$\n",
    "\n",
    "$=-\\frac{1}{8}t^2+\\frac{t}{16}sin2t+c_3cos2t+c_2sin2t$"
   ]
  },
  {
   "cell_type": "markdown",
   "metadata": {},
   "source": [
    "$(5)t^2x''-tx'+x=6t+34t^2,x_1=t,x_2=tlnt$"
   ]
  },
  {
   "cell_type": "markdown",
   "metadata": {},
   "source": [
    "$原方程化为x''-\\frac{x'}{t}+\\frac{x}{t^2}=\\frac{6}{t}+34$\n",
    "\n",
    "$令x=c_1(t)t+c_2(t)tlnt$\n",
    "\n",
    "$\\begin{cases}\n",
    "tc'_1(t)+tlnt c'_2(t)=0\\\\\n",
    "c'_1(t)+c'_(t)[lnt+1]=\\frac{6}{t}+34\n",
    "\\end{cases}$\n",
    "\n",
    "$解方程组得\\begin{cases}\n",
    "c'_1(t)=-6\\frac{lnt}{t}-34lnt\\\\\n",
    "c'_2(t)=\\frac{6}{t}+34\n",
    "\\end{cases}$\n",
    "\n",
    "$分别对c'_1(t),c'_2(t)积分得$\n",
    "\n",
    "$c_1(t)=-3\\ln^2 t-34tlnt+34t+c_1$\n",
    "\n",
    "$c_2(t)=34t+6lnt+c_2$\n",
    "\n",
    "$x=3t\\ln^2 t+34t^2+c_1t+c_2tlnt$\n",
    "\n",
    "\n",
    "\n",
    "\n"
   ]
  },
  {
   "cell_type": "markdown",
   "metadata": {
    "collapsed": true
   },
   "source": [
    "### 6、"
   ]
  },
  {
   "cell_type": "markdown",
   "metadata": {},
   "source": [
    "**(1)证明**\n",
    "\n",
    "$因为x_1是微分方程的解$\n",
    "\n",
    "$所以x''_1+a_1(t)x'_1+a_2(t)x_1=0$\n",
    "\n",
    "$所以x''_1+a_1(t)x'_1=-a_2(t)x_1$\n",
    "\n",
    "$W'[x_1,x_2]+a_1W[x_1,x_2]=0 \\Leftrightarrow   \n",
    "\\begin{vmatrix}\n",
    "x_1 & x_2\\\\\n",
    "x_1''& x_2''\n",
    "\\end{vmatrix}+a_1\n",
    "\\begin{vmatrix}\n",
    "x_1 & x_2\\\\\n",
    "x_1'& x_2'\n",
    "\\end{vmatrix}=0  \\Leftrightarrow  \n",
    "\\begin{vmatrix}\n",
    "x_1 & x_2\\\\\n",
    "x_1''+a_1x'& x_2''+a_1x_2'\n",
    "\\end{vmatrix}=0   \\Leftrightarrow  \n",
    "\\begin{vmatrix}\n",
    "x_1 & x_2\\\\\n",
    "-a_2x_1 &x_2''+a_1x_2'\n",
    "\\end{vmatrix}=0$\n",
    "\n",
    "$当x_2是方程的解时，x_2''+a_1x_2'=-a_2x_2$\n",
    "\n",
    "\n",
    "$W'[x_1,x_2]+a_1W[x_1,x_2]=\n",
    "\\begin{vmatrix}\n",
    "x_1 & x_2\\\\\n",
    "-a_2x_1 &x_2''+a_1x_2'\n",
    "\\end{vmatrix}=\\begin{vmatrix}\n",
    "x_1 & x_2\\\\\n",
    "-a_2x_1 &-a_2x_2\n",
    "\\end{vmatrix}=0$\n",
    "\n",
    "$当W'[x_1,x_2]+a_1W[x_1,x_2]=\n",
    "\\begin{vmatrix}\n",
    "x_1 & x_2\\\\\n",
    "-a_2x_1 &x_2''+a_1x_2'\n",
    "\\end{vmatrix}=0时$\n",
    "\n",
    "$x_1x_2''+a_1x_1x_2'+a_2x_1x_2=0$\n",
    "\n",
    "$所以x_2''+a_1x_2'+a_2x_2=0$\n",
    "\n",
    "$所以x_2是方程的解$\n",
    "\n",
    "$证毕$\n"
   ]
  },
  {
   "cell_type": "markdown",
   "metadata": {},
   "source": [
    "**(2)证明**\n",
    "\n",
    "$设x_2(t)与x_1(t)构成微分方程的基本解组$\n",
    "\n",
    "$由第5题结论W(t)=W(t_0)e^{-\\int_{t_0}^t a_1(s)ds}t_0$\n",
    "\n",
    "$即\\begin{vmatrix}\n",
    "x_1&x_2\\\\\n",
    "x'_1&x'_2\n",
    "\\end{vmatrix}=t_0W(t_0)e^{-\\int_{t_0}^t a_1(s)ds} $\n",
    "\n",
    "$等式两边同时除以x^2_1得$\n",
    "\n",
    "$\\frac{x'_2}{x_1}-\\frac{x'_1x_2}{x^2_1}=t_0W(t_0)  \\frac{e^{-\\int_{t_0}^t a_1(s)ds} }{x^2_1}$\n",
    "\n",
    "$(\\frac{x_2}{x_1})'=t_0W(t_0)  \\frac{e^{-\\int_{t_0}^t a_1(s)ds} }{x^2_1}$\n",
    "\n",
    "$等式两边同时积分得\\frac{x_2}{x_1}=t_0W(t_0)\\int \\frac{e^{-\\int_{t_0}^t a_1(s)ds} }{x^2_1} dt+c$\n",
    "\n",
    "$所以x_2=x_1t_0W(t_0)\\int \\frac{e^{-\\int_{t_0}^t a_1(s)ds} }{x^2_1} dt+cx_1$\n",
    "\n",
    "$所以方程的通解为可表为x=x_1[c_1\\int \\frac{1}{x^2}exp(-\\int_{t_0}^t a_1(s)ds)dt+c_2]$\n"
   ]
  },
  {
   "cell_type": "markdown",
   "metadata": {
    "collapsed": true
   },
   "source": [
    "$A$"
   ]
  },
  {
   "cell_type": "code",
   "execution_count": null,
   "metadata": {
    "collapsed": true
   },
   "outputs": [],
   "source": []
  }
 ],
 "metadata": {
  "kernelspec": {
   "display_name": "SageMath 7.3",
   "language": "",
   "name": "sagemath"
  },
  "language_info": {
   "codemirror_mode": {
    "name": "ipython",
    "version": 2
   },
   "file_extension": ".py",
   "mimetype": "text/x-python",
   "name": "python",
   "nbconvert_exporter": "python",
   "pygments_lexer": "ipython2",
   "version": "2.7.10"
  }
 },
 "nbformat": 4,
 "nbformat_minor": 0
}
