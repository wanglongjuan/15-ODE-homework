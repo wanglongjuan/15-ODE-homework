{
 "cells": [
  {
   "cell_type": "markdown",
   "metadata": {},
   "source": [
    "# The homework of ODE"
   ]
  },
  {
   "cell_type": "markdown",
   "metadata": {},
   "source": [
    "## 1. Suppose $x(t)$ and $y(t)$ are continuous functions in the interval $[a, b]$ .Try to prove that if ${x(t) \\over y(t)} \\neq constant$ or ${y(t) \\over x(t)} \\neq constant$ in the interval $[a, b]$ , then $x(t)$ and $y(t)$ are linearity independent in the interval $[a, b]$ ."
   ]
  },
  {
   "cell_type": "markdown",
   "metadata": {},
   "source": [
    "**proof: ** suppose $x(t)$ and $y(t)$ are linear correlation, then exists two constant $c_1$ and $c_2$ which are not all 0 and make the following equation established\n",
    "$$\n",
    "c_1x(t) + c_2y(t) = 0\n",
    "$$\n",
    "and so $\\quad$\n",
    "${x(t) \\over y(t)} = -{c_2 \\over c_1}$ or ${y(t) \\over x(t)} = -{c_1 \\over c_2}$ contradiction"
   ]
  },
  {
   "cell_type": "markdown",
   "metadata": {},
   "source": [
    "## 2. Assume $x_1(t)$ and $x_2(t)$ are the solutions of the respectively nonhomogeneous linear differential equation\n",
    "\n",
    "## $$\n",
    "\\begin{align}\n",
    "{\\mathrm d^n x \\over \\mathrm d t^n} + a_1(t){\\mathrm d^{n-1} x \\over \\mathrm d t^{n-1}} + \\cdots + a_n(t)x &= f_1(t)\\\\\n",
    "{\\mathrm d^n x \\over \\mathrm d t^n} + a_1(t){\\mathrm d^{n-1} x \\over \\mathrm d t^{n-1}} + \\cdots + a_n(t)x &= f_2(t)\\\\\n",
    "\\end{align}\n",
    "$$\n",
    "## try to prove $x_1(t) + x_2(t)$ is the solution of \n",
    "$$\n",
    "{\\mathrm d^n x \\over \\mathrm d t^n} + a_1(t){\\mathrm d^{n-1} x \\over \\mathrm d t^{n-1}} + \\cdots + a_n(t)x = f_1(t) + f_2(t)\n",
    "$$"
   ]
  },
  {
   "cell_type": "markdown",
   "metadata": {},
   "source": [
    "**proof:** substituting $x_1(t) + x_2(t)$ into the above equation  \n",
    "\n",
    "$$\n",
    "\\begin{align}\n",
    "&{\\mathrm d^n (x_1(t) + x_2(t)) \\over \\mathrm d t^n} + a_1(t){\\mathrm d^{n-1}( x_1(t) + x_2(t)) \\over \\mathrm d t^{n-1}} + \\cdots + a_n(t)(x_1(t) + x_2(t))\\\\\n",
    "&= {\\mathrm d^n x_1 \\over \\mathrm d t^n} + a_1(t){\\mathrm d^{n-1} x_1 \\over \\mathrm d t^{n-1}} + \\cdots + a_n(t)x_1 +\\\\\n",
    "&{\\mathrm d^n x_2 \\over \\mathrm d t^n} + a_1(t){\\mathrm d^{n-1} x_2 \\over \\mathrm d t^{n-1}} + \\cdots + a_n(t)x_2  \\\\\n",
    "&= f_1(t) + f_2(t)\\\\\n",
    "\\end{align}\n",
    "$$"
   ]
  },
  {
   "cell_type": "markdown",
   "metadata": {},
   "source": [
    "## 3. Given the Basic Ungrouping $x_1$ and $x_2$ of the homogeneous linear differential equation , find the general solution of the following non-homogeneous linear bdifferential equation"
   ]
  },
  {
   "cell_type": "markdown",
   "metadata": {},
   "source": [
    "### (1) $x''-x=\\cos x$, $x_1=e^t$, $x_2=e^{-t}$\n",
    "suppose the general solution is : $x=c_1(t)e^t + c_2e^{-t}$  then  \n",
    "\n",
    "$$\n",
    "\\begin{cases}\n",
    "c_1'(t)e^t + c_2'(t)e^{-t} = 0\\\\\n",
    "c_1'(t)e^t - c_2'(t)e^{-t} =\\cos t\\\\\n",
    "\\end{cases}\n",
    "$$  \n",
    "\n",
    "so:$\\quad$ $x=c_1e^t + c_2e^{-t}-{1\\over 2}\\cos t$"
   ]
  },
  {
   "cell_type": "markdown",
   "metadata": {},
   "source": [
    "### (2) $x''+{t\\over 1-t}x'-{1\\over 1-t}x=t-1, x_1=t, x_2=e^t$\n",
    "suppose the general solution is : $x=c_1(t)t + c_2e^t$  then  \n",
    "\n",
    "$$\n",
    "\\begin{cases}\n",
    "c_1'(t)t + c_2'(t)e^t = 0\\\\\n",
    "c_1'(t) + c_2'(t)e^t =t-1\\\\\n",
    "\\end{cases}\n",
    "$$ \n",
    "\n",
    "so:$\\quad$ $x=c_1t + c_2e^t-(t+1)^2$\n",
    "\n",
    "错误"
   ]
  },
  {
   "cell_type": "markdown",
   "metadata": {},
   "source": [
    "### (3) $t^2x''-tx'+x=6t+34t^2, x_1=t, x_2=t\\ln t$\n",
    "suppose the general solution is : $x=c_1(t)t + c_2t\\ln t$  then  \n",
    "\n",
    "$$\n",
    "\\begin{cases}\n",
    "c_1'(t)t + c_2'(t)t\\ln t = 0\\\\\n",
    "c_1'(t) + c_2'(t)(\\ln t+1) =6t+34t^2\\\\\n",
    "\\end{cases}\n",
    "$$ \n",
    "\n",
    "so:$\\quad$ $x=(c_1+ c_2\\ln t)t+3t\\ln^2t+34t^2$"
   ]
  },
  {
   "cell_type": "markdown",
   "metadata": {},
   "source": [
    "## 4. Suppose $x_1(t)\\neq 0$ is a solution of \n",
    "## $$\n",
    "x''+a_1(t)x'+a_2(t)x=0\n",
    "$$\n",
    "## where $a_1(t)$ and $a_2(t)$ are continuous in $[a, b]$  \n",
    "## Try to prove :\n"
   ]
  },
  {
   "cell_type": "markdown",
   "metadata": {},
   "source": [
    "### (1) the necessary and sufficient condition which $x_2$ is a solution is \n",
    "### $$\n",
    "W'[x_1, x_2]+ a_1W[x_1, x_2]=0\n",
    "$$\n",
    "\n",
    "**proof:** \n",
    "$$\n",
    "\\begin{align}\n",
    "x_2 \\ is \\ a \\ solution &\\iff x_2''+a_1(t)x_2'+a_2(t)x_2=0\\\\\n",
    "&\\iff (x_2''+a_1(t)x_2'+a_2(t)x_2)x_1=0\\\\\n",
    "&\\iff x_1x_2''+a_1(t)x_1x_2'-x_2(x_1''+a_1(t)x_1')=0\\\\\n",
    "&\\iff (x_1x_2'-x_1'x_2)'+a_1(x_1x_2'-x_1'x_2)=0\\\\\n",
    "&\\iff W'[x_1, x_2]+ a_1W[x_1, x_2]=0\\\\\n",
    "\\end{align}\n",
    "$$\n",
    "\n",
    "### (2) the general solution of the equation can be expressed as\n",
    "### $$\n",
    "x=x_1 \\left[ c_1 \\int {1\\over x_1^2}e^{-\\int_{t_0}^ta_1(s)\\mathrm d s}\\mathrm d t + c_2 \\right]\n",
    "$$\n",
    "\n",
    "we can easy to get : \n",
    "\n",
    "$$x_1x\\prime _2-x\\prime _1x_2=W(t_0)e^{-\\int_{t_0}^ta_1(s)\\mathrm d s}$$\n",
    "\n",
    "and :\n",
    "\n",
    "$$x_2=(c_1\\int{1 \\over x_1^2}e^{-\\int_{t_0}^ta_1(s)\\mathrm d s}\\mathrm d t+c_2)x_1$$\n",
    "\n",
    "let: $c_1=1,c_2=0$  then\n",
    "\n",
    "$$x_2=x_1\\int {1 \\over x_1^2}e^{-\\int_{t_0}^ta_1(s)\\mathrm d s}\\mathrm d t$$\n",
    "\n",
    "so \n",
    "\n",
    "$$x=x_1[c_1\\int {1 \\over x_1^2}exp(-\\int_{t_0}^ta_1(s)\\mathrm d s)\\mathrm d t+c_2]$$\n"
   ]
  },
  {
   "cell_type": "markdown",
   "metadata": {},
   "source": [
    "$B^+$"
   ]
  },
  {
   "cell_type": "code",
   "execution_count": null,
   "metadata": {
    "collapsed": true
   },
   "outputs": [],
   "source": []
  }
 ],
 "metadata": {
  "kernelspec": {
   "display_name": "SageMath 7.3",
   "language": "",
   "name": "sagemath"
  },
  "language_info": {
   "codemirror_mode": {
    "name": "ipython",
    "version": 2
   },
   "file_extension": ".py",
   "mimetype": "text/x-python",
   "name": "python",
   "nbconvert_exporter": "python",
   "pygments_lexer": "ipython2",
   "version": "2.7.10"
  }
 },
 "nbformat": 4,
 "nbformat_minor": 0
}
