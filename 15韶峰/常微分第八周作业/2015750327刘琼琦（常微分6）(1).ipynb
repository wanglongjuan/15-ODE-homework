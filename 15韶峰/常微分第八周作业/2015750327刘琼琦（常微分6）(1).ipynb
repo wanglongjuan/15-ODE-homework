{
 "cells": [
  {
   "cell_type": "markdown",
   "metadata": {},
   "source": [
    "# 姓名：刘琼琦\n",
    "# 学号：2015750327"
   ]
  },
  {
   "cell_type": "markdown",
   "metadata": {},
   "source": [
    "# $$作业一（10月17日）$$"
   ]
  },
  {
   "cell_type": "markdown",
   "metadata": {},
   "source": [
    "## 习题4.1"
   ]
  },
  {
   "cell_type": "markdown",
   "metadata": {},
   "source": [
    "## 1.设$x(t)$和$y(t)$是区间$a≤t≤b$上的连续函数，证明：如果在区间$a≤t≤b$上有$\\frac{x(t)}{y(t)}≠$常数或$\\frac{y(t)}{x(t)}≠$常数，则$x(t)$和$y(t)$在区间$a≤t≤b$上线性无关。（提示：用反证法。）"
   ]
  },
  {
   "cell_type": "markdown",
   "metadata": {
    "collapsed": true
   },
   "source": [
    "**解**\n",
    "\n",
    "用反证法：\n",
    "\n",
    "当$y(t)≠0$时，\n",
    "\n",
    "假设存在不全为零的$c,d$，使得$cx(t)+dy(t)=0$,\n",
    "\n",
    "又因为$c≠0$(因为假设$c=0,$则$d=0$,与假设矛盾），\n",
    "\n",
    "所以$\\frac{x(t)}{y(t)}=-\\frac{d}{c}$为常数，与$\\frac{x(t)}{y(t)}≠$常数矛盾，\n",
    "\n",
    "所以$x(t)$和$y(t)$在区间$a≤t≤b$上线性无关。\n",
    "\n",
    "同理当$x(t）≠0$时，也可证。\n",
    "\n",
    "所以，如果在区间$a≤t≤b$上有$\\frac{x(t)}{y(t)}≠$常数或$\\frac{y(t)}{x(t)}≠$常数，则$x(t)$和$y(t)$在区间$a≤t≤b$上线性无关。证毕。"
   ]
  },
  {
   "cell_type": "markdown",
   "metadata": {},
   "source": [
    "## 2.证明非齐次线性微分方程的叠加原理：设$x_1(t),x_2(t)$分别是非齐次线性微分方程$$\\frac{\\mathrm d^n x}{\\mathrm d t^n}+a_1(t)\\frac{\\mathrm d^{n-1} x}{\\mathrm d t^{n-1}}+...+a_n(t)x=f_1(t)$$ $$\\frac{\\mathrm d^n x}{\\mathrm d t^n}+a_1(t)\\frac{\\mathrm d^{n-1} x}{\\mathrm d t^{n-1}}+...+a_n(t)x=f_2(t)$$的解，则$x_1(t)+x_2(t)$是方程$$\\frac{\\mathrm d^n x}{\\mathrm d t^n}+a_1(t)\\frac{\\mathrm d^{n-1} x}{\\mathrm d t^{n-1}}+...+a_n(t)x=f_1(t)+f_2(t)$$的解。"
   ]
  },
  {
   "cell_type": "markdown",
   "metadata": {
    "collapsed": true
   },
   "source": [
    "**证**\n",
    "\n",
    "因为\n",
    "\n",
    "$$\n",
    "\\begin{aligned}\n",
    "\\frac{\\mathrm d^n (x_1+x_2)}{\\mathrm d t^n}+a_1(t)\\frac{\\mathrm d^{n-1} (x_1+x_2)}{\\mathrm d t^{n-1}}+...+a_n(t)(x_1+x_2)\n",
    "&=[\\frac{\\mathrm d^n x_1}{\\mathrm d t^n}+a_1(t)\\frac{\\mathrm d^{n-1} x_1}{\\mathrm d t^{n-1}}+...+a_n(t)x_1]+[\\frac{\\mathrm d^n x_2}{\\mathrm d t^n}+a_1(t)\\frac{\\mathrm d^{n-1} x_2}{\\mathrm d t^{n-1}}+...+a_n(t)x_2]\\\\\n",
    "&=f_1(t)+f_2(t)\n",
    "\\end{aligned}\n",
    "$$\n",
    "\n",
    "所以\n",
    "$x_1(t)+x_2(t)$\n",
    "\n",
    "是方程\n",
    "\n",
    "$$\\frac{\\mathrm d^n x}{\\mathrm d t^n}+a_1(t)\\frac{\\mathrm d^{n-1} x}{\\mathrm d t^{n-1}}+...+a_n(t)x=f_1(t)+f_2(t)$$\n",
    "\n",
    "的解。"
   ]
  },
  {
   "cell_type": "markdown",
   "metadata": {},
   "source": [
    "## 3.已知齐次线性微分方程的基本解组$x_1,x_2$，求下列方程对应的非齐次线性微分方程的通解："
   ]
  },
  {
   "cell_type": "markdown",
   "metadata": {},
   "source": [
    "## $（1）x^{\\prime\\prime}-x=\\cos t,x_1=e^t,x_2=e^{-t}$"
   ]
  },
  {
   "cell_type": "markdown",
   "metadata": {},
   "source": [
    "**解**\n",
    "\n",
    "依题意可令$$x=c_1(t)e^t+c_2(t)e^{-t},$$\n",
    "所以$$x^\\prime=c_1^\\prime(t)e^t+c_2^\\prime(t)e^{-t}+c_1(t)e^t-c_2(t)e^{-t}$$\n",
    "令$$c_1^\\prime(t)e^t+c_2^\\prime(t)e^{-t}=0$$\n",
    "则$$x^\\prime=c_1(t)e^t-c_2(t)e^{-t}$$\n",
    "所以$$x^{\\prime\\prime}=c_1^\\prime(t)e^t-c_2^\\prime(t)e^{-t}+c_1(t)e^t+c_2(t)e^{-t}$$\n",
    "所以$$x^{\\prime\\prime}-x^\\prime=c_1^\\prime(t)e^t-c_2^\\prime(t)e^{-t}$$\n",
    "所以\n",
    "$$\n",
    "\\begin{cases}\n",
    "c_1^\\prime(t)e^t+c_2^\\prime(t)e^{-t}=0\\\\\n",
    "c_1^\\prime(t)e^t-c_2^\\prime(t)e^{-t}=\\cos t\n",
    "\\end{cases}\n",
    "$$\n",
    "解得$$c_1^\\prime(t)=\\frac{1}{2}\\cos te^{-t},c_2^\\prime(t)=-\\frac{1}{2}\\cos te^t,$$\n",
    "由此$$c_1(t)=\\frac{1}{4}e^{-t}(\\sin t-\\cos t)+r_1,c_2(t）=-\\frac{1}{4}e^t(\\sin t+\\cos t)+r_2$$\n",
    "于是原方程的通解为\n",
    "$$\n",
    "\\begin{aligned}\n",
    "x&=[\\frac{1}{4}e^{-t}(\\sin t-\\cos t)+r_1]e^t+[-\\frac{1}{4}e^t(\\sin t+\\cos t)+r_2]e^{-t}\\\\&=r_1e^t+r_2e^{-t}-\\frac{1}{2}\\cos t\n",
    "\\end{aligned}\n",
    "$$\n",
    "其中$r_1,r_2$为任意常数\n"
   ]
  },
  {
   "cell_type": "markdown",
   "metadata": {},
   "source": [
    "## $(3)x^{\\prime\\prime}+4x=t\\sin 2t,x_1=\\cos 2t,x_2=\\sin 2t$"
   ]
  },
  {
   "cell_type": "markdown",
   "metadata": {},
   "source": [
    "**解**\n",
    "\n",
    "依题意可令$$x=c_1(t)\\cos 2t+c_2(t)\\sin 2t$$\n",
    "按照题一的证明过程，可得决定$c_1^\\prime(t)$和$c_2^\\prime(t)$的两个方程\n",
    "$$c_1^\\prime(t)\\cos 2t+c_2^\\prime(t)\\sin 2t=0$$\n",
    "及$$-2\\sin 2tc_1^\\prime(t)+2\\cos 2tc_2^\\prime(t)=t\\sin 2t,$$\n",
    "解得$$c_1^\\prime(t)=\\frac{1}{4}t(\\cos 4t-1),c_2^\\prime(t)=\\frac{1}{4}t\\sin 4t，$$\n",
    "由此$$c_1(t)=\\frac{1}{64}\\cos 4t+\\frac{1}{16}t\\sin 4t-\\frac{1}{8}t^2+r_1,c_2(t)=\\frac{1}{64}\\sin 4t-\\frac{1}{16}t\\cos 4t+r_2$$\n",
    "于是原方程的通解为\n",
    "$$\n",
    "\\begin{aligned}\n",
    "x&=r_1\\cos 2t+r_2\\sin 2t-\\frac{1}{8}t^2\\cos 2t+\\frac{1}{16}t\\sin 2t+\\frac{1}{64}\\cos 2t\\\\&=r_1\\cos 2t+r_2\\sin 2t-\\frac{1}{8}t^2\\cos 2t+\\frac{1}{16}t\\sin 2t\n",
    "\\end{aligned}\n",
    "$$\n",
    "其中$r_1,r_2$为任意常数"
   ]
  },
  {
   "cell_type": "markdown",
   "metadata": {},
   "source": [
    "##  $(5)t^2x^{\\prime\\prime}-tx^\\prime+x=6t+34t^2,x_1=t,x_2=t\\ln t$"
   ]
  },
  {
   "cell_type": "markdown",
   "metadata": {},
   "source": [
    "**解**\n",
    "\n",
    "方程可改写为$$x^{\\prime\\prime}-\\frac{1}{t}x^\\prime+\\frac{1}{t^2}x=6\\frac{1}{t}+34$$\n",
    "依题意可令$$x=c_1(t)t+c_2(t)t\\ln t$$\n",
    "按照题一的证明过程，可得决定$c_1^\\prime(t)$和$c_2^\\prime(t)$的两个方程\n",
    "$$c_1^\\prime(t)t+c_2^\\prime(t)t\\ln t=0$$\n",
    "及$$c_1^\\prime(t)+c_2^\\prime(t)(1+\\ln t)=6\\frac{1}{t}+34$$\n",
    "解得$$c_1^\\prime(t)=\\frac{6}{t}+34,c_2^\\prime(t)=-\\frac{6}{t}\\ln t-34\\ln t$$\n",
    "因此$$c_1(t)=34t+6\\ln t+r_1,c_2(t)=34t-34t\\ln t-3\\ln^2t+r_2$$\n",
    "于是原方程的通解为$$x=r_1t+r_2t\\ln t+34t^2+3t\\ln^2t$$\n",
    "其中$r_1,r_2$为任意常数。\n",
    "\n"
   ]
  },
  {
   "cell_type": "markdown",
   "metadata": {},
   "source": [
    "## 6.假设$x_1(t)≠0$是二阶齐次线性微分方程$$x^{\\prime\\prime}+a_1(t)x^\\prime+a_2(t)x=0$$的解，这里$a_1(t)$和$a_2(t)$于区间$[a,b]$上连续，试证：\n",
    "## （1）$x_2(t)$为方程的解的充要条件是$$W^\\prime[x_1,x_2]+a_1W[x_1,x_2]=0;$$\n",
    "## (2)方程的通解可表为$$x=x_1[c_1\\int \\frac{1}{{x_1}^2}exp(-\\int_{t_0}^t a_1(s)\\mathrm d s)\\mathrm d t+c_2],$$其中$c_1,c_2$为任意常数，$t_0,t∈[a,b]$"
   ]
  },
  {
   "cell_type": "markdown",
   "metadata": {
    "collapsed": true
   },
   "source": [
    "（1）**解**\n",
    "\n",
    "当$x^{\\prime\\prime}+a_1(t)x^\\prime+a_2(t)x=0$时，\n",
    "\n",
    "因为$$\n",
    "\\begin{aligned}\n",
    "W^\\prime[x_1,x_2]&=\\frac{\\mathrm d}{\\mathrm d t}[x_1(t)x_2^\\prime(t)-x_2(t)x_1^\\prime(t)]\\\\&=x_1(t)x_2^{\\prime\\prime}(t)-x_2(t)x_1^{\\prime\\prime}(t)\\\\&=x_1(t)[-a_1(t)x_2^\\prime-a_2(t)x_2]-x_2(t)[a_1(t)x_1^\\prime+a_2(t)x_1]\\\\&=-a_1(t)[x_1(t)x_2^\\prime(t)-x_2(t)x_1^\\prime(t)]\\\\&=-a_1(t)W[x_1(t),x_2(t)]\n",
    "\\end{aligned}\n",
    "$$\n",
    "即$W^\\prime[x_1,x_2]+a_1(t)W[x_1,x_2]=0$\n",
    "\n",
    "反之，当$W^\\prime[x_1,x_2]+a_1(t)W[x_1,x_2]=0$时，有\n",
    "$$\n",
    "\\begin{aligned}\n",
    "W^\\prime[x_1,x_2]+a_1(t)W[x_1,x_2]&=\\frac{\\mathrm d}{\\mathrm d t}[x_1(t)x_2^\\prime(t)-x_2(t)x_1^\\prime(t)]+a_1(t)[x_1(t)x_2^\\prime(t)-x_2(t)x_1^\\prime(t)]\\\\&=x_1(t)[x_2^{\\prime\\prime}(t)+a_1(t)x_2^\\prime(t)+a_2(t)x_2(t)]-x_2(t)[x_1^{\\prime\\prime}(t)+a_1(t)x_1^\\prime(t)+a_2(t)x_1(t)]\\\\&=x_1(t)[x_2^{\\prime\\prime}(t)+a_1(t)x_2^\\prime(t)+a_2(t)x_2(t)]\\\\&=0\n",
    "\\end{aligned}\n",
    "$$\n",
    "因为$x_1(t)≠0$有\n",
    "$$x_2^{\\prime\\prime}(t)+a_1(t)x_2^\\prime(t)+a_2(t)x_2(t)=0$$\n",
    "\n",
    "所以$x_2(t)$是方程的解。\n"
   ]
  },
  {
   "cell_type": "markdown",
   "metadata": {},
   "source": [
    " (2)**解**\n",
    "\n",
    "可令方程的通解为$x=cx_1$,代入$x^{\\prime\\prime}+a_1(t)x^\\prime+a_2(t)x=0$\n",
    "\n",
    "化解得$$c^{\\prime\\prime}x_1+c^\\prime(2x_1^\\prime+a_1x_1)=0$$\n",
    "\n",
    "令$y=c^\\prime$,则$$y^\\prime x_1+y(2x_1^\\prime+a_1x_1)=0$$\n",
    "所以$y^\\prime=-(\\frac{2x_1^\\prime}{x_1}+a_1)y$\n",
    "\n",
    "所以\n",
    "$$\n",
    "\\begin{aligned}\n",
    "c^\\prime&=y\\\\&=c_1exp[-\\int_{t_0}^t (\\frac{2x_1^\\prime}{x_1}+a_1)\\mathrm d t]\\\\&=c_1exp(-2\\ln x_1-\\int_{t_0}^t a_1\\mathrm d t)\\\\&=\\frac{c_1}{x_1^2}exp[- \\int_{t_0}^t a_1(s)\\mathrm d s]\n",
    "\\end{aligned}\n",
    "$$\n",
    "\n",
    "两边积分得\n",
    "$$\n",
    "\\begin{aligned}\n",
    "c&=\\int \\frac{c_1}{x_1^2}exp[ -\\int_{t_0}^t a_1(s)\\mathrm d s]\\mathrm d t+c_2\\\\&=c_1\\int \\frac{1}{x_1^2}exp[-\\int_{t_0}^t a_1(s)\\mathrm d s]\\mathrm d t+c_2\n",
    "\\end{aligned}\n",
    "$$\n",
    "\n",
    "所以方程的通解为\n",
    "$$x=x_1[c_1\\int \\frac{1}{x_1^2}exp[-\\int_{t_0}^t a_1(s)\\mathrm d s]\\mathrm d t+c_2]$$\n",
    "其中$c_1,c_2$为任意常数，$t_0,t∈[a,b]$ "
   ]
  },
  {
   "cell_type": "markdown",
   "metadata": {},
   "source": [
    "$A^+$"
   ]
  },
  {
   "cell_type": "code",
   "execution_count": null,
   "metadata": {
    "collapsed": true
   },
   "outputs": [],
   "source": []
  }
 ],
 "metadata": {
  "kernelspec": {
   "display_name": "SageMath 7.3",
   "language": "",
   "name": "sagemath"
  },
  "language_info": {
   "codemirror_mode": {
    "name": "ipython",
    "version": 2
   },
   "file_extension": ".py",
   "mimetype": "text/x-python",
   "name": "python",
   "nbconvert_exporter": "python",
   "pygments_lexer": "ipython2",
   "version": "2.7.10"
  }
 },
 "nbformat": 4,
 "nbformat_minor": 0
}
