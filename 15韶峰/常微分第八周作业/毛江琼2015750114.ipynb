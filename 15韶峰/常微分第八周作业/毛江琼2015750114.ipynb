{
 "cells": [
  {
   "cell_type": "markdown",
   "metadata": {},
   "source": [
    "# 习题4.1"
   ]
  },
  {
   "cell_type": "markdown",
   "metadata": {},
   "source": [
    "1.设$x(t)$和$y(t)$是区间$a\\leq t\\leq b$上的连续函数，证明：如果在区间$a\\leq t\\leq b$上有$\\frac{x(t)}{y(t)}\\neq$常数或$\\frac{y(t)}{x(t)}\\neq$常数，则$x(t)$和$y(t)$在区间$a\\leq t\\leq b$上线性无关。（反证法）"
   ]
  },
  {
   "cell_type": "markdown",
   "metadata": {},
   "source": [
    "设$x(t),y(t)$在$a\\leq t\\leq b$上线性相关\n",
    "\n",
    "则存在一组不全为0的常数$c_1,c_2$使得：$$c_1x(t)+c_2y(t)=0$$\n",
    "\n",
    "即有：$$c_1+c_2\\frac{y(t)}{x(t)}=0$$或$$c_1\\frac{x(t)}{y(t)}+c_2=0$$\n",
    "\n",
    "又：$\\frac{x(t)}{y(t)}\\neq$常数或$\\frac{y(t)}{x(t)}\\neq$常数，故，上述两个等式均不成立\n",
    "\n",
    "证毕"
   ]
  },
  {
   "cell_type": "markdown",
   "metadata": {},
   "source": [
    "2.证明非齐次线性微分方程的叠加原理：设$x_1(t),x_2(t)$分别是齐次非线性微分方程\n",
    "$$\\frac{d^nx}{dt^n}+a_1(t)\\frac{d^{n-1}x}{dt^{n-1}}+\\cdots+a_n(t)x=f_1(t)$$\n",
    "$$\\frac{d^nx}{dt^n}+a_1(t)\\frac{d^{n-1}x}{dt^{n-1}}+\\cdots+a_n(t)x=f_2(t)$$\n",
    "的解，则$x_1(t)+x_2(t)$是方程\n",
    "$$\\frac{d^nx}{dt^n}+a_1(t)\\frac{d^{n-1}x}{dt^{n-1}}+\\cdots+a_n(t)x=f_1(t)+f_2(t)$$的解"
   ]
  },
  {
   "cell_type": "markdown",
   "metadata": {},
   "source": [
    "$\\because\\quad x_1(t),x_2(t)$分别是方程\n",
    "$$\\frac{d^nx}{dt^n}+a_1(t)\\frac{d^{n-1}x}{dt^{n-1}}+\\cdots+a_n(t)x=f_1(t)$$\n",
    "$$\\frac{d^nx}{dt^n}+a_1(t)\\frac{d^{n-1}x}{dt^{n-1}}+\\cdots+a_n(t)x=f_2(t)$$的解\n",
    "\n",
    "$\\therefore\\quad$ $$\\frac{d^nx_1(t)}{dt^n}+a_1(t)\\frac{d^{n-1}x_1(t)}{dt^{n-1}}+\\cdots+a_n(t)x_1(t)=f_1(t)$$\n",
    "$$\\frac{d^nx_2(t)}{dt^n}+a_1(t)\\frac{d^{n-1}x_2(t)}{dt^{n-1}}+\\cdots+a_n(t)x_2(t)=f_2(t)$$\n",
    "\n",
    "两式相加，得:\n",
    "$$\\frac{d^n(x_1(t)+x_2(t))}{dt^n}+a_1(t)\\frac{d^{n-1}(x_1(t)+x_2(t))}{dt^{n-1}}+\\cdots+a_n(t)(x_1(t)+x_2(t)=f_1(t)+f_2(t)$$\n",
    "\n",
    "$\\therefore\\quad x_1(t)+x_2(t)$是方程$$\\frac{d^nx}{dt^n}+a_1(t)\\frac{d^{n-1}x}{dt^{n-1}}+\\cdots+a_n(t)x=f_1(t)+f_2(t)$$的解"
   ]
  },
  {
   "cell_type": "markdown",
   "metadata": {
    "collapsed": true
   },
   "source": [
    "3.已知其次线性微分方程的基本解组$x_1,x_2$，求下列方程对应的非齐次线性微分方程的通解："
   ]
  },
  {
   "cell_type": "markdown",
   "metadata": {},
   "source": [
    "1).$x^{\\prime\\prime}-x=cost,x_1=e^t,x_2=e^{-t}$\n",
    "\n",
    "设$$x=c_1(t)e^t+c_2(t)e^{-t}$$\n",
    "\n",
    "将它代入方程，则有：$$c_1^{\\prime}(t)e^t+c_2^{\\prime}(t)e^{-t}=0$$$$c_1^{\\prime}(t)e^t-c_2^{\\prime}(t)e^{-t}=cost$$\n",
    "\n",
    "解得：$$c_1^{\\prime}(t)=\\frac{1}{2}coste^{-t},c_2^{\\prime}(t)=-\\frac{1}{2}coste^t$$\n",
    "\n",
    "积分得：$c_1(t)=-\\frac{1}{4}(cost-sint)e^(-t)+c_1,c_2=\\frac{1}{4}(cost+sint)e^t+c_2$\n",
    "\n",
    "$\\therefore x=c_1e^t+c_2e^{-t}-\\frac{1}{2}cost$($c_1,c_2$为任意常数）"
   ]
  },
  {
   "cell_type": "code",
   "execution_count": 17,
   "metadata": {
    "collapsed": false
   },
   "outputs": [
    {
     "data": {
      "text/plain": [
       "-0.25*(cos(x) - sin(x))*e^(-x)"
      ]
     },
     "execution_count": 17,
     "metadata": {},
     "output_type": "execute_result"
    }
   ],
   "source": [
    "var('x')\n",
    "y(x)=0.5*cos(x)*e^(-x)\n",
    "integral(y(x),x)"
   ]
  },
  {
   "cell_type": "code",
   "execution_count": 13,
   "metadata": {
    "collapsed": false
   },
   "outputs": [
    {
     "data": {
      "text/plain": [
       "0.25*(cos(x) + sin(x))*e^x"
      ]
     },
     "execution_count": 13,
     "metadata": {},
     "output_type": "execute_result"
    }
   ],
   "source": [
    "z(x)=0.5*cos(x)*e^x\n",
    "integral(z(x),x)"
   ]
  },
  {
   "cell_type": "markdown",
   "metadata": {},
   "source": [
    "3).$x^{\\prime\\prime}+4x=tsin2t,x_1=cos2t,x_2=sin2t$\n",
    "\n",
    "设$$x=c_1(t)cos2t+c_2(t)sin2t$$\n",
    "\n",
    "将它代入方程得：$$c_1^{\\prime}(t)cos2t+c_2^{\\prime}(t)sin2t=0$$$$-2c_1^{\\prime}(t)sin2t+2c_2^{\\prime}(t)cos2t=tsint$$\n",
    "\n",
    "解得：$$c_1^{\\prime}(t)=-\\frac{1}{2}tcos^22t,c_2^{\\prime}(t)=\\frac{1}{4}tsin4t$$\n",
    "\n",
    "积分得：$c_1(t)=\\frac{1}{8}t^2+\\frac{1}{16}tsin4t+\\frac{1}{64}cos4t+c_1$,\n",
    "$c_2(t)=-\\frac{1}{16}tcos4t+\\frac{1}{64}sin4t+c_2$\n",
    "\n",
    "$\\therefore x=c_1cos2t+c_2sin2t-\\frac{t^2}{8}cos2t+\\frac{t}{16}sin2t$"
   ]
  },
  {
   "cell_type": "code",
   "execution_count": 28,
   "metadata": {
    "collapsed": false
   },
   "outputs": [
    {
     "data": {
      "text/plain": [
       "-0.125*x^2 + 0.0625*x*sin(4*x) + 0.015625*cos(4*x)"
      ]
     },
     "execution_count": 28,
     "metadata": {},
     "output_type": "execute_result"
    }
   ],
   "source": [
    "g(x)=-0.5*x*(sin(2*x))^2\n",
    "integral(g(x),x)"
   ]
  },
  {
   "cell_type": "code",
   "execution_count": 29,
   "metadata": {
    "collapsed": false
   },
   "outputs": [
    {
     "data": {
      "text/plain": [
       "-0.0625*x*cos(4*x) + 0.015625*sin(4*x)"
      ]
     },
     "execution_count": 29,
     "metadata": {},
     "output_type": "execute_result"
    }
   ],
   "source": [
    "h(x)=0.5*x*sin(2*x)*cos(2*x)\n",
    "integral(h(x),x)"
   ]
  },
  {
   "cell_type": "markdown",
   "metadata": {},
   "source": [
    "5).$t^2x^{\\prime\\prime}-tx^{\\prime}+x=6t+34t^2,x_1=t,x_2=tln t$\n",
    "\n",
    "设$$x=c_1(t)t+c_2(t)tln t$$\n",
    "\n",
    "将它代入方程，得：$$c_1^{\\prime}(t)+c_2^{\\prime}(t)ln t=0$$$$c_1^{\\prime}(t)+c_2^{\\prime}(t)(1+ln t)=\\frac{6}{t}+34$$\n",
    "\n",
    "解得：$$c_1^{\\prime}(t)=-34ln t-\\frac{6}{t}ln t,c_2^{\\prime}(t)=34+\\frac{6}{t}$$\n",
    "\n",
    "积分得：$$c_1(t)=-34tln t-3ln^2t+34t+c_1,c_2(t)=6ln t+34t+c_2$$\n",
    "\n",
    "$\\therefore x=34t^2+3tln^2 t+tc_1+c_2tln t$"
   ]
  },
  {
   "cell_type": "code",
   "execution_count": 34,
   "metadata": {
    "collapsed": false
   },
   "outputs": [
    {
     "data": {
      "text/plain": [
       "-34*x*log(x) - 3*log(x)^2 + 34*x"
      ]
     },
     "execution_count": 34,
     "metadata": {},
     "output_type": "execute_result"
    }
   ],
   "source": [
    "f(x)=-34*log(x)-(6/x)*log(x)\n",
    "integral(f(x),x)"
   ]
  },
  {
   "cell_type": "markdown",
   "metadata": {},
   "source": [
    "6.假设$x_1(t)\\neq 0$是二阶齐次线性微分方程$$x^{\\prime\\prime}+a_1(t)x^{\\prime}+a_2(t)x=0$$的解，这里$a_1(t)$和$a_2(t)$于区间[a,b]上连续，试证：\n",
    "\n",
    "1).$x_2(t)$为方程的解的充要条件是$$W^{\\prime}[x_1,x_2]+a_1W[x_1,x_2]=0$$;\n",
    "\n",
    "2)方程的通解可表示为$$x=x_1\\big[c_1\\int \\frac{1}{x^2}exp\\big(-\\int^t_{t_0} a_1(s)\\,ds\\big)\\,dt+c_2 \\big]$$\n",
    "其中$c_1,c_2$为任意常数,$t_0,t\\in[a,b]$"
   ]
  },
  {
   "cell_type": "markdown",
   "metadata": {
    "collapsed": true
   },
   "source": [
    "1).$w^{\\prime}[x_1,x_2]+a_1w[x_1,x_2]=0$\n",
    "\n",
    "等价于$\\quad\\quad x_1x_2^{\\prime\\prime}-x_1^{\\prime\\prime}x_2^{\\prime}+a_1x_1x_2^{\\prime}-a_1x_1^{\\prime}x_2=0$\n",
    "\n",
    "等价于$\\quad\\quad x_1x_2^{\\prime\\prime}+a_1x_1^{\\prime}x_2+a_1x_1x_2+a_1x_1x_2^{\\prime}-a_1x_1^{\\prime}x_2=0$\n",
    "\n",
    "等价于$\\quad\\quad x_1\\big(x_2^{\\prime\\prime}+a_1x^{\\prime}+a_1x_2\\big)=0$\n",
    "\n",
    "等价于$\\quad\\quad x_2^{\\prime\\prime}+a_1x^{\\prime}+a_1x_2=0,(x_1\\neq0)$\n",
    "\n",
    "即$x_2$为原方程的解"
   ]
  },
  {
   "cell_type": "markdown",
   "metadata": {},
   "source": [
    "2).$\\because x_1,xX_2$为方程的解\n",
    "\n",
    "$\\therefore\n",
    "\\begin{vmatrix}\n",
    "x_1&x_2\\\\x_1^{\\prime}&x_2^{\\prime}\n",
    "\\end{vmatrix}\n",
    "=w(t_0)e^{-\\int^t_0 a_1(s)\\,ds}$\n",
    "\n",
    "即满足:$x_1x_2^{\\prime}-x_1^{\\prime}x_2=w(t_0)e^{-\\int^t_0 a_1(s)\\,ds}$\n",
    "\n",
    "即：$\\frac{d\\frac{x_2}{x_1}}{dt}=\\frac{w(t_0)}{x_1^2}e^{-\\int^t_0 a_1(s)\\,ds}$\n",
    "\n",
    "两边同时积分：$\\frac{x_2}{x_1}=c_1\\int \\frac{1}{x^2}e^{-\\int^t_0 a_1(s)\\,ds}\\,dt+c_2$\n",
    "\n",
    "$\\therefore x_2=\\big(c_1\\int \\frac{1}{x^2}e^{-\\int^t_0 a_1(s)\\,ds}\\,dt+c_2\\big)x_1$\n",
    "\n",
    "令：$C_1=1,c_2=0,\\therefore x_2=x_1\\int \\frac{1}{x^2}e^{-\\int^t_0 a_1(s)\\,ds}\\,dt$\n",
    "\n",
    "又$\\because w(t)=\n",
    "\\begin{vmatrix}\n",
    "x_1&x_2\\\\x_1^{\\prime}&x_2^{\\prime}\n",
    "\\end{vmatrix}\n",
    "=e^{-\\int^t_0 a_1(s)\\,ds}\\neq0$\n",
    "\n",
    "故方程的通解可表示为：$x=x_1\\big(c_1\\int \\frac{1}{x^2}e^{-\\int^t_0 a_1(s)\\,ds}\\,dt+c_2\\big)$"
   ]
  },
  {
   "cell_type": "markdown",
   "metadata": {
    "collapsed": true
   },
   "source": [
    "$A$"
   ]
  },
  {
   "cell_type": "code",
   "execution_count": null,
   "metadata": {
    "collapsed": true
   },
   "outputs": [],
   "source": []
  }
 ],
 "metadata": {
  "kernelspec": {
   "display_name": "SageMath 7.3",
   "language": "",
   "name": "sagemath"
  },
  "language_info": {
   "codemirror_mode": {
    "name": "ipython",
    "version": 2
   },
   "file_extension": ".py",
   "mimetype": "text/x-python",
   "name": "python",
   "nbconvert_exporter": "python",
   "pygments_lexer": "ipython2",
   "version": "2.7.10"
  }
 },
 "nbformat": 4,
 "nbformat_minor": 0
}
