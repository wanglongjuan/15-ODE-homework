{
 "cells": [
  {
   "cell_type": "markdown",
   "metadata": {},
   "source": [
    "# 10月17号"
   ]
  },
  {
   "cell_type": "markdown",
   "metadata": {},
   "source": [
    "### **1.设 $x(t),y(t)$ 是区间 $a\\leq t\\leq b$ 上的连续函数，证明：如果区间 $a\\leq t\\leq b$ 上有 $\\frac{x(t)}{y(t)}\\neq常数$ 或 $\\frac{y(t)}{x(t)}\\neq$ 常数，则 $x(t),y(t)$ 在区间 $a\\leq t\\leq b$ 上线性无关。**"
   ]
  },
  {
   "cell_type": "markdown",
   "metadata": {},
   "source": [
    "**证明：**（反证法）\n",
    "\n",
    "由题可知 $x(t)\\equiv 0,y(t)\\equiv 0$ 否则 $x(t),y(t)$ 在区间 $a\\leq t\\leq b$ 上线性相关\n",
    "\n",
    "假设存在不全为0的 $c_1,c_2$ 使得$$c_1x(t)+c_2y(t)=0$$\n",
    "\n",
    "不妨设 $c_1\\neq 0$  则有 $c_2\\neq 0$ 否则\n",
    "\n",
    "$$c_1x(t)+c_2y(t)=c_1x(t)=0$$\n",
    "\n",
    "则 $x(t)=0 \\quad$ 与 $x(t)\\equiv 0$ 矛盾\n",
    "\n",
    "因此 $c_2\\neq 0$\n",
    "\n",
    "\n",
    "所以有$$\\frac{x(t)}{y(t)}= \\frac{c_2}{c_1}\\quad且\\quad\\frac{y(t)}{x(t)}= \\frac{c_1}{c_2}$$\n",
    "\n",
    "与条件 $\\frac{x(t)}{y(t)}\\neq常数$ 或 $\\frac{y(t)}{x(t)}\\neq常数$ 矛盾.\n",
    "\n",
    "因此假设不成立，所以 $x(t),y(t)$ 在区间 $a\\leq t\\leq b$ 上线性无关\n"
   ]
  },
  {
   "cell_type": "markdown",
   "metadata": {},
   "source": [
    "### **2.证明非齐次线性微分方程的叠加原理：设 $x_1(t),x_2(t)$ 分别是非齐次线性微分方程**\n",
    "\n",
    "### **$$\\frac{\\mathrm d^nx}{\\mathrm dt^n}+a_1(t)\\frac{\\mathrm d^{n-1}x}{\\mathrm dt^{n-1}}+\\cdots+a_n(t)x=f_1(t),$$**\n",
    "\n",
    "### **$$\\frac{\\mathrm d^nx}{\\mathrm dt^n}+a_1(t)\\frac{\\mathrm d^{n-1}x}{\\mathrm dt^{n-1}}+\\cdots+a_n(t)x=f_2(t),$$**\n",
    "\n",
    "### **的解，则 $x_1(t)+x_2(t)$ 是方程$$\\frac{\\mathrm d^nx}{\\mathrm dt^n}+a_1(t)\\frac{\\mathrm d^{n-1}x}{\\mathrm dt^{n-1}}+\\cdots+a_n(t)x=f_1(x)+f_2(t)$$的解.**"
   ]
  },
  {
   "cell_type": "markdown",
   "metadata": {},
   "source": [
    "**证明：**\n",
    "\n",
    "因为$x_1(t),x_2(t)$ 分别是非齐次线性微分方程\n",
    "\n",
    "$$\\frac{\\mathrm d^nx}{\\mathrm dt^n}+a_1(t)\\frac{\\mathrm d^{n-1}x}{\\mathrm dt^{n-1}}+\\cdots+a_n(t)x=f_1(t),$$\n",
    "\n",
    "$$\\frac{\\mathrm d^nx}{\\mathrm dt^n}+a_1(t)\\frac{\\mathrm d^{n-1}x}{\\mathrm dt^{n-1}}+\\cdots+a_n(t)x=f_2(t),$$\n",
    "\n",
    "的解，所以：\n",
    "\n",
    "$$\\frac{\\mathrm d^n(x_1)}{\\mathrm dt^n}+a_1(t)\\frac{\\mathrm d^{n-1}(x_1)}{\\mathrm dt^{n-1}}+\\cdots+a_n(t)(x_1)=f_1(t),$$\n",
    "\n",
    "$$\\frac{\\mathrm d^n(x_2)}{\\mathrm dt^n}+a_1(t)\\frac{\\mathrm d^{n-1}(x_2)}{\\mathrm dt^{n-1}}+\\cdots+a_n(t)(x_2)=f_2(t),$$\n",
    "\n",
    "由导数的四则运算可知，\n",
    "\n",
    "$$\n",
    "\\begin{aligned}\n",
    "f_1(t）+f_2(t)\n",
    "&=\\frac{\\mathrm d^n(x_1)}{\\mathrm dt^n}+a_1(t)\\frac{\\mathrm d^{n-1}(x_1)}{\\mathrm dt^{n-1}}+\\cdots+a_n(t)(x_1))+\\frac{\\mathrm d^n(x_2)}{\\mathrm dt^n}+a_1(t)\\frac{\\mathrm d^{n-1}(x_2)}{\\mathrm dt^{n-1}}+\\cdots+a_n(t)(x_2)\\\\\n",
    "&=\\frac{\\mathrm d^nx}{\\mathrm dt^n}+a_1(t)\\frac{\\mathrm d^{n-1}x}{\\mathrm dt^{n-1}}+\\cdots+a_n(t)x=f_1(t)+f_2(t)\n",
    "\\end{aligned}\n",
    "$$\n",
    "\n",
    "所以 $x_1(t)+x_2(t)$ 是方程\n",
    "\n",
    "$$\\frac{\\mathrm d^nx}{\\mathrm dt^n}+a_1(t)\\frac{\\mathrm d^{n-1}x}{\\mathrm dt^{n-1}}+\\cdots+a_n(t)x=f_1(x)+f_2(t)$$\n",
    "\n",
    "的解.\n",
    "\n"
   ]
  },
  {
   "cell_type": "markdown",
   "metadata": {},
   "source": [
    "# 10月19号"
   ]
  },
  {
   "cell_type": "markdown",
   "metadata": {},
   "source": [
    "### **3.已知齐次线性微分方程组的基本解组 $x_1,x_2$,求下列方程对应的非其次线性微分方程的通解。**"
   ]
  },
  {
   "cell_type": "markdown",
   "metadata": {},
   "source": [
    "**$(1)x^{\\prime\\prime}-x=cost, x_1=e^t,x_2=e^{-t}$**"
   ]
  },
  {
   "cell_type": "markdown",
   "metadata": {},
   "source": [
    "**解：**\n",
    "令 $x=c_1(t)t+c_2(t)$ \n",
    "\n",
    "将它代入原方程可得决定 $c_1(t)$ 和 $c_2(t)$ 的两个方程：\n",
    "\n",
    "$$c_1^\\prime(t)e^t+c_2^\\prime(t)e^{-t}=0$$\n",
    "\n",
    "$$c_1^\\prime(t)e^t-c_2^\\prime(t)e^{-t}=cost$$\n",
    "\n",
    "解得：\n",
    "$$c_1^\\prime(t)=\\frac{1}{2}e^{-t}cost$$\n",
    "\n",
    "$$c_2^\\prime(t)=-\\frac{1}{2}e^tcost$$\n",
    "\n",
    "由此\n",
    "$$c_1(t)=c_1+\\frac{1}{4}e^{-t}(sint-cost)$$\n",
    "\n",
    "$$c_2(t)=c_2+\\frac{1}{4}e^t(sint+cost)$$\n",
    "\n",
    "所以原方程的通解为\n",
    "$$x=c_1e^t+c_2e^{-t}-\\frac{1}{2}cost\\quad$$其中 $c_1,c_2$ 为任意常数."
   ]
  },
  {
   "cell_type": "markdown",
   "metadata": {},
   "source": [
    "**$(3)x^{\\prime\\prime}-4x=tsin2t,x_1=cos2t,x_2=sin2t$**"
   ]
  },
  {
   "cell_type": "markdown",
   "metadata": {},
   "source": [
    "**解：**\n",
    "\n",
    "令 $x=c_1(t)cos2t+c_2(t)sin2t$ \n",
    "\n",
    "将它代入原方程可得决定 $c_1(t)$ 和 $c_2(t)$ 的两个方程：\n",
    "\n",
    "$$c_1^\\prime(t)cos2t+c_2^\\prime(t)sin2t=0$$\n",
    "\n",
    "$$-2c_1^\\prime(t)sin2t+2c_2^\\prime(t)cos2t=tsin2t$$\n",
    "\n",
    "解得：\n",
    "\n",
    "$$\\quad c_1^\\prime(t)=\\frac{1}{4}(tcos4t-t)$$\n",
    "\n",
    "$$c_2^\\prime(t)=\\frac{1}{4}tsin4t$$\n",
    "\n",
    "由此\n",
    "\n",
    "$$\\quad c_1(t)=c_1+\\frac{1}{16}tsin4t+\\frac{1}{64}cos4t-\\frac{1}{8}t^2$$\n",
    "\n",
    "$$c_2(t)=c_2-\\frac{1}{16}tcos4t+\\frac{1}{64}sin4t$$\n",
    "\n",
    "所以原方程的通解为\n",
    "\n",
    "$$x=c_1(t)cos2t+c_2(t)sin2t+\\frac{1}{16}sin2t+\\frac{1}{64}cos2t-\\frac{1}{8}t^2cos2t\\quad$$其中 $c_1,c_2$ 为任意常数."
   ]
  },
  {
   "cell_type": "markdown",
   "metadata": {},
   "source": [
    "**$(5)t^2x^{\\prime\\prime}-tx^\\prime+x=6t+34t^2,x_1=t,x_2=tlnt $**"
   ]
  },
  {
   "cell_type": "markdown",
   "metadata": {},
   "source": [
    "**解：**\n",
    "\n",
    "令 $x=c_1(t)t+c_2(t)tlnt$ \n",
    "\n",
    "将它代入原方程可得决定 $c_1(t)$ 和 $c_2(t)$ 的两个方程：\n",
    "\n",
    "$$c_1^\\prime(t)t+c_2^\\prime(t)(lnt+1)=0$$\n",
    "\n",
    "$$c_1^\\prime(t)-c_2^\\prime(t)\\frac{1}{t}=\\frac{6}{t}+34$$\n",
    "\n",
    "解得：\n",
    "\n",
    "$$c_1^\\prime(t)=-lnt\\big(\\frac{6}{t}+34\\big)$$\n",
    "\n",
    "$$c_2^\\prime(t)=\\frac{6}{t}+34$$\n",
    "\n",
    "由此\n",
    "\n",
    "$$c_1(t)=-34tlnt+34t-3ln^2t+c_1$$\n",
    "\n",
    "$$c_2(t)=6lnt+34t+c_2$$\n",
    "\n",
    "所以原方程的通解为\n",
    "\n",
    "$$x=c_1(t)+c_2(t)lnt+3tln^2t+34t^2\\quad$$其中 $c_1,c_2$ 为任意常数."
   ]
  },
  {
   "cell_type": "markdown",
   "metadata": {},
   "source": [
    "### **6假设 $x(t)\\neq0$ 是二阶齐次线性微分方程$$(3)x^{\\prime\\prime}+a_1(t)x^\\prime+a_2(t)x=0 $$**\n",
    "\n",
    "### **的解，这里 $a_1(t)$和$a_2(t)$ 于区间 $[a,b]$ 上连续，试证**\n",
    "\n",
    "### **$(1)x_2(t)$ 为方程的解的充要条件是$$W^\\prime_{[x_1,x_2]}+a_1W_{[x_1,x_2]}=0 $$**\n",
    "\n",
    "### **(2)方程的通解可表为$$x=x_1\\big[c_1\\int\\frac{1}{x_1^2}exp\\big(-\\int^t_{t_0}a_1(s)\\,\\mathrm ds\\big)\\mathrm dt+c_2\\big]$$**\n",
    "\n",
    "### **其中 $c_1,c_2$ 为任意常数，$t_0,t\\in[a,b].$**"
   ]
  },
  {
   "cell_type": "markdown",
   "metadata": {},
   "source": [
    "**证明：**\n",
    "\n",
    "(1)\n",
    "$\\because\\quad W_{[x_1,x_2]}=x_1x_2^\\prime - x_1^\\prime x_2$\n",
    "\n",
    "$\\therefore\\quad W_{[x_1,x_2]}^\\prime =x_1^\\prime x_2^\\prime+x_1x_2^{\\prime\\prime}- x_1^{\\prime\\prime}x_2- x_1^\\prime x_2^\\prime=x_1x_2^{\\prime\\prime}- x_1^{\\prime\\prime}x_2 $\n",
    "\n",
    "充分性：\n",
    "\n",
    "$\\because\\quad x_1(t),x_2(t)$ 为方程的解,\n",
    "\n",
    "$\\therefore$ \n",
    "$$ x_1^{\\prime\\prime}(t)+a_1(t)x_1^\\prime(t)+a_2(t)x_1(t)=0 $$\n",
    "\n",
    "$$ x_2^{\\prime\\prime}(t)+a_1(t)x_2^\\prime(t)+a_2(t)x_2(t)=0 $$\n",
    "\n",
    "\n",
    "$$\n",
    "\\begin{aligned}\n",
    "W^\\prime_{[x_1,x_2]}+a_1W_{[x_1,x_2]}\n",
    "&=x_1^\\prime x_2^\\prime+x_1x_2^{\\prime\\prime}- x_1^{\\prime\\prime}x_2^\\prime - x_1^\\prime x_2^\\prime +a_1\\big(x_1x_2^\\prime - x_1^\\prime x_2\\big)\\\\\n",
    "&=x_1(x_2^{\\prime\\prime}+a_1x_2^\\prime)-x_2(x_1^{\\prime\\prime}+a_1x_1^\\prime)\\\\\n",
    "&=-a_2x_1x_2-(-a_2x_1x_2)\\\\\n",
    "&=0\n",
    "\\end{aligned}\n",
    "$$\n",
    "\n",
    "充分性得证。\n"
   ]
  },
  {
   "cell_type": "markdown",
   "metadata": {},
   "source": [
    "必要性：\n",
    "\n",
    "$若 W^\\prime_{[x_1,x_2]}+a_1W_{[x_1,x_2]}=0 $ 则\n",
    "\n",
    "$$ \n",
    "\\begin{aligned}\n",
    "x_1^\\prime x_2^\\prime+x_1x_2^{\\prime\\prime}- x_1^{\\prime\\prime}x_2^\\prime - x_1^\\prime x_2^\\prime +a_1\\big(x_1x_2^\\prime - x_1^\\prime x_2\\big)\n",
    "&=x_1(x_2^{\\prime\\prime}+a_1x_2^\\prime)-x_2(x_1^{\\prime\\prime}+a_1x_1^\\prime)\\\\\n",
    "&=x_1(x_2^{\\prime\\prime}+a_1x_2^\\prime)+a_2x_1x_2)\\\\\n",
    "&=x_1(x_2^{\\prime\\prime}+a_1x_2^\\prime+a_2x_2)\\\\\n",
    "&=0\n",
    "\\end{aligned}\n",
    "$$\n",
    "\n",
    "$\\because\\quad x(t)\\neq0$\n",
    "\n",
    "$\\therefore\\quad x_2^{\\prime\\prime}+a_1x_2^\\prime+a_2x_2=0$\n",
    "\n",
    "即$x_2(t)$ 为方程的解.必要性得证."
   ]
  },
  {
   "cell_type": "markdown",
   "metadata": {},
   "source": [
    "**证明：**\n",
    "\n",
    "(2)\n",
    "令 $x_2=x_1\\int\\frac{1}{x_1^2}exp\\big(-\\int^t_{t_0}a_1(s)\\,\\mathrm ds\\big)\\mathrm dt$则\n",
    "\n",
    "$$\n",
    "\\begin{aligned}\n",
    "x^\\prime_2\n",
    "&=x_1^\\prime\\int\\frac{1}{x_1^2}exp\\big(-\\int^t_{t_0}a_1(s)\\,\\mathrm ds\\big)\\mathrm dt+\\frac{1}{x_1}exp\\big(-\\int^t_{t_0}a_1(s)\\,\\mathrm ds\\big)\\\\\n",
    "x^{\\prime^\\prime}_2 \n",
    "&=x_1^{\\prime\\prime}\\int\\frac{1}{x_1^2}exp\\big(-\\int^t_{t_0}a_1(s)\\,\\mathrm ds\\big)\\mathrm dt+\\frac{x_1^\\prime}{x_1^2}exp\\big(-\\int^t_{t_0}a_1(s)\\,\\mathrm ds\\big)-\\frac{x_1^\\prime}{x_1^2}exp\\big(-\\int^t_{t_0}a_1(s)\\,\\mathrm ds\\big)-\\frac{a_1(t)}{x_1}exp\\big(-\\int^t_{t_0}a_1(s)\\,\\mathrm ds\\big)\\\\\n",
    "&=x_1^{\\prime\\prime}\\int\\frac{1}{x_1^2}exp\\big(-\\int^t_{t_0}a_1(s)\\,\\mathrm ds\\big)\\mathrm dt-\\frac{a_1(t)}{x_1}exp\\big(-\\int^t_{t_0}a_1(s)\\,\\mathrm ds\\big)\\\\\n",
    "W_{[x_1,x_2]}&=x_1x_2^\\prime-x_1^\\prime x_2=\\frac{1}{x_1}exp\\big(-\\int^t_{t_0}a_1(s)\\,\\mathrm ds\\big)\\\\\n",
    "W_{[x_1,x_2]}^\\prime&=x_1x_2^{\\prime\\prime}-x_1^{\\prime\\prime} x_2=-\\frac{a_1(t)}{x_1}exp\\big(-\\int^t_{t_0}a_1(s)\\,\\mathrm ds\\big)\\\\\n",
    "\\end{aligned}\n",
    "$$\n",
    "\n",
    "所以 $\\quad\\quad W^\\prime_{[x_1,x_2]}+a_1W_{[x_1,x_2]}=0$\n",
    "\n",
    "所以 $x_2(t)$ 是方程的解\n",
    "\n",
    "又因为 $W_{[x_1,x_2]}=\\frac{1}{x_1}exp\\big(-\\int^t_{t_0}a_1(s)\\,\\mathrm ds\\big)\\neq 0$\n",
    "\n",
    "所以 $x_1,x_2$ 线性无关\n",
    "\n",
    "所以原方程的通解可表示为\n",
    "\n",
    "$$x=x_1\\big[c_1\\int\\frac{1}{x_1^2}exp\\big(-\\int^t_{t_0}a_1(s)\\,\\mathrm ds\\big)\\mathrm dt+c_2\\big]$$"
   ]
  },
  {
   "cell_type": "markdown",
   "metadata": {},
   "source": [
    "$A^+$"
   ]
  },
  {
   "cell_type": "code",
   "execution_count": null,
   "metadata": {
    "collapsed": true
   },
   "outputs": [],
   "source": []
  }
 ],
 "metadata": {
  "kernelspec": {
   "display_name": "SageMath 7.3",
   "language": "",
   "name": "sagemath"
  },
  "language_info": {
   "codemirror_mode": {
    "name": "ipython",
    "version": 2
   },
   "file_extension": ".py",
   "mimetype": "text/x-python",
   "name": "python",
   "nbconvert_exporter": "python",
   "pygments_lexer": "ipython2",
   "version": "2.7.10"
  }
 },
 "nbformat": 4,
 "nbformat_minor": 0
}
