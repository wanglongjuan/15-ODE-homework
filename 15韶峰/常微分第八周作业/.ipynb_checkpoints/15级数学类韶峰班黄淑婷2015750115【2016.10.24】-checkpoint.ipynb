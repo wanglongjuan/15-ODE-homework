{
 "cells": [
  {
   "cell_type": "markdown",
   "metadata": {},
   "source": [
    "# 常微分作业——15数学类韶峰班黄淑婷（2015750115）"
   ]
  },
  {
   "cell_type": "markdown",
   "metadata": {},
   "source": [
    "1.设 $x(t)$ 和 $y(t)$ 是区间 $a\\leq t\\leq b$ 上的连续函数，证明：如果在区间 $a\\leq t\\leq b$ 上有 $\\frac{x(t)}{y(t)}\\neq$ 常数或 $\\frac{y(t)}{x(t)}\\neq$常数，则 $x(t)$ 和 $y(t)$ 在区间 $a\\leq t\\leq b$ 上线性无关。（提示：用反证法。）"
   ]
  },
  {
   "cell_type": "markdown",
   "metadata": {},
   "source": [
    "解：假设 $x(t)$ 和 $y(t)$ 在区间 $[a,b]$ 上线性相关，则存在不全为零的常数 $C_1$ 和 $C_2$ 使得\n",
    "\n",
    "$$C_1x(t)+C_2y(t)\\equiv0,t\\in[a,b]$$\n",
    "\n",
    "若 $C_2\\neq0$,则\n",
    "\n",
    "$$\\frac{y(t)}{x(t)}=-\\frac{C_1}{C_2}=$$常数；\n",
    "\n",
    "若 $C_1\\neq0$,则\n",
    "\n",
    "$$\\frac{x(t)}{y(t)}=-\\frac{C_2}{C_1}=$$常数.\n",
    "\n",
    "在两种情况下，都与已知条件 $\\frac{x(t)}{y(t)}\\neq$常数或 $\\frac{y(t)}{x(t)}\\neq$常数矛盾，所以假设不成立。证毕"
   ]
  },
  {
   "cell_type": "markdown",
   "metadata": {},
   "source": [
    "2.证明非齐次线性微分方程的叠加原理：设 $x_1(t),x_2(t)$ 分别是非齐次线性微分方程\n",
    "\n",
    "$$\\frac{\\mathrm d^n x}{\\mathrm dt^n}+a_1(t)\\frac{\\mathrm d^{n-1}x}{dt^{n-1}}+\\dots+a_n(t)x=f_1(t)$$,\n",
    "\n",
    "$$\\frac{\\mathrm d^n x}{\\mathrm dt^n}+a_1(t)\\frac{\\mathrm d^{n-1}x}{dt^{n-1}}+\\dots+a_n(t)x=f_2(t)$$\n",
    "\n",
    "的解，则 $x_1(t)+x_2(t)$ 是方程\n",
    "\n",
    "$$\\frac{\\mathrm d^n x}{\\mathrm dt^n}+a_1(t)\\frac{\\mathrm d^{n-1}x}{dt^{n-1}}+\\dots+a_n(t)x=f_1(t)+f_2(t)$$\n",
    "\n",
    "的解"
   ]
  },
  {
   "cell_type": "markdown",
   "metadata": {},
   "source": [
    "证明：由于 $x_1(t),x_2(t)$ 分别是非齐次线性微分方程\n",
    "\n",
    "$$\\frac{\\mathrm d^n x}{\\mathrm dt^n}+a_1(t)\\frac{\\mathrm d^{n-1}x}{dt^{n-1}}+\\dots+a_n(t)x=f_1(t)$$,\n",
    "\n",
    "$$\\frac{\\mathrm d^n x}{\\mathrm dt^n}+a_1(t)\\frac{\\mathrm d^{n-1}x}{dt^{n-1}}+\\dots+a_n(t)x=f_2(t)$$\n",
    "\n",
    "的解，所以满足\n",
    "\n",
    "$$\\frac{\\mathrm d^n x_1(t)}{\\mathrm dt^n}+a_1(t)\\frac{\\mathrm d^{n-1}x_1(t)}{dt^{n-1}}+\\dots+a_n(t)x_1(t)=f_1(t)$$,\n",
    "\n",
    "$$\\frac{\\mathrm d^n x_2(t)}{\\mathrm dt^n)}+a_1(t)\\frac{\\mathrm d^{n-1}x_2(t)}{dt^{n-1}}+\\dots+a_n(t)x_2(t)=f_2(t)$$\n",
    "\n",
    "把以上两式相加，并且利用导数的运算法则有\n",
    "\n",
    "$$\\frac{\\mathrm d^n (x_1(t)+x_2(t))}{\\mathrm dt^n}+a_1(t)\\frac{\\mathrm d^{n-1}(x_1(t)+x_2(t))}{dt^{n-1}}+\\dots+a_n(t)(x_1(t)+x_2(t))=f_1(t)+f_2(t)$$\n",
    "\n",
    "从而 $x_1(t)+x_2(t)$ 是方程\n",
    "\n",
    "$$\\frac{\\mathrm d^n x}{\\mathrm dt^n}+a_1(t)\\frac{\\mathrm d^{n-1}x}{dt^{n-1}}+\\dots+a_n(t)x=f_1(t)+f_2(t)$$\n",
    "\n",
    "的解"
   ]
  },
  {
   "cell_type": "markdown",
   "metadata": {},
   "source": [
    "3.已知齐次线性微分方程的基本解组 $x_1,x_2,$ 求下列方程对应的非齐次方程线性微分方程的通解："
   ]
  },
  {
   "cell_type": "markdown",
   "metadata": {},
   "source": [
    "（1）$x''-x=\\cos t,x_1=e^t,x_2=e^{-t}$"
   ]
  },
  {
   "cell_type": "markdown",
   "metadata": {},
   "source": [
    "解：令 $x=C_1(t)e^t+C_2(t)e^{-t}$,将它代入方程，则可得决定 $C'_1(t)$ 和 $C'_2(t)$ 的两个方程\n",
    "\n",
    "$$e^tC'_1(t)+e^{-t}C'_2(t)=0$$\n",
    "\n",
    "及 $$e^tC'_1(t)-e^{-t}C'_2(t)\\cos t$$\n",
    "\n",
    "得到 $\\quad$ $$C'_1(t)=\\frac{1}{2}e^{-t},C'_2(t)=\\frac{-1}{2}e^t\\cos t$$\n",
    "\n",
    "得到 $\\quad$ $$C(t)=\\frac{\\sin t-\\cos t}{4}e^{-t}+\\gamma_1,C_2(t)=-\\frac{1}{4}(\\sin t+\\cos t)e^t+\\gamma_2$$\n",
    "\n",
    "从而得到原方程的通解为\n",
    "\n",
    "$$x=\\gamma_1e^t+\\gamma_2e^{-t}-\\frac{1}{2}\\cos t$$"
   ]
  },
  {
   "cell_type": "markdown",
   "metadata": {},
   "source": [
    "（3）$x''+4x=t\\sin 2t,x_1=\\cos 2t,x_2=\\sin 2t$"
   ]
  },
  {
   "cell_type": "markdown",
   "metadata": {},
   "source": [
    "解：令 $x=tC_1(t)+e^tC_2(t)$, 代入方程得到 $\\quad$ $\\cos 2tC'_1(t)+\\sin 2tC'_2(t)=0$ 及 $-2\\sin 2tC'_1(t)+2\\cos 2tC'_2(t)=t\\sin t$\n",
    "\n",
    "得到 $$C'_1(t)=-\\frac{1}{2}t\\sin t\\sin 2t,C'_2(t)=\\frac{1}{2}t\\sin t\\cos 2t$$\n",
    "\n",
    "得到$$C_1(t)=\\frac{1}{4}[\\frac{1}{3}t\\sin 3t+\\frac{1}{9}\\cos 3t-t\\sin t-\\cos t]+C_1$$\n",
    "\n",
    "$$C_2(t)=\\frac{1}{4}[-\\frac{1}{3}t\\cos 3t+\\frac{1}{9}\\sin 3t-t\\cos t-\\sin t]+C_2$$\n",
    "\n",
    "从而得到方程的通解为\n",
    "\n",
    "$$x=C_1\\cos 2t+C_2\\sin 2t+\\frac{t}{3}\\sin t-\\frac{2}{9}\\cos t$$"
   ]
  },
  {
   "cell_type": "markdown",
   "metadata": {},
   "source": [
    "（5）$t^2 x''-tx'+x=6t+34t^2,x_1=t,x_2=tl\\ln t$"
   ]
  },
  {
   "cell_type": "markdown",
   "metadata": {},
   "source": [
    "解：原方程变形得：$$x''-\\frac{1}{t}x'+\\frac{1}{t^2}x=\\frac{6}{t}+34$$\n",
    "\n",
    "令方程的解为 $x=tC_1(t)+t\\ln tC_2(t)$，将它代入方程，则可得到决定 $C'_1(t)$ 和 $C'_2(t)$ 的两个方程\n",
    "\n",
    "$$tC'_1(t)+t\\ln tC'_2(t)=0,C'_1(t)+(\\ln t+1)C'_2(t)=\\frac{6}{t}+34$$\n",
    "\n",
    "解得 $$C'_1(t)=-\\ln t(\\frac{6}{t}+34),C'_2(t)=\\frac{6}{t}+34$$\n",
    "\n",
    "得到 $$C_1(t)=-34(t\\ln t-t)-3(\\ln t)^2+C_1,C_2(t)=34t+6\\ln t+C_2$$\n",
    "\n",
    "从而得到方程的通解为 $$x=C_1 t+C_2 t\\ln t+34t^2+3t(\\ln t)^2$$"
   ]
  },
  {
   "cell_type": "markdown",
   "metadata": {},
   "source": [
    "6.假设 $x_1(t)\\neq0$ 是二阶齐次线性微分方程\n",
    "\n",
    "$$x''+a_1(t)x'+a_2(t)x=0$$\n",
    "\n",
    "的解，试证："
   ]
  },
  {
   "cell_type": "markdown",
   "metadata": {},
   "source": [
    "（1）$x_2(t)$ 为方程的解的充要条件是\n",
    "\n",
    "$$W'[x_1,x_2]+a_1W[x_1,x_2]=0$$"
   ]
  },
  {
   "cell_type": "markdown",
   "metadata": {},
   "source": [
    "解：先证明充分性\n",
    "\n",
    "$w'[x_1,x_2]=\\begin{vmatrix}x_1'&x_2'\\\\x_1'&x_2'\\\\\\end{vmatrix}+\\begin{vmatrix}x_1&x_2\\\\x_1''&x_2''\\\\\\end{vmatrix}=\\begin{vmatrix}x_1&x_2\\\\x_1''&x_2''\\\\\\end{vmatrix}$\n",
    "  \n",
    "$w'[x_1,x_2]+a_1(t)W[x_1,x_2]=\\begin{vmatrix}x_1&x_2\\\\x_1''&x_2''\\\\\\end{vmatrix}+a_1(t)\\begin{vmatrix}x_1&x_2\\\\x_1'&x_2'\\\\\\end{vmatrix}\\\\\n",
    "                     =\\begin{vmatrix}x_1&x_2\\\\x_1''+a_1(t)x_1'&x_2''+a_1(t)x_2'\\\\\\end{vmatrix}=0$\n",
    "          \n",
    "已知方程的解为 $x_1\\neq0$,从而有\n",
    "\n",
    "$\\begin{vmatrix}x_1&x_2\\\\-a_1(t)x_1&x_2''+a_1(t)x_2'\\\\\\end{vmatrix}=x_1\\begin{vmatrix}1&x_2\\\\-a_2(t)&x_2''+a_1(t)x_2'\\\\\\end{vmatrix}=0$\n",
    "\n",
    "从而有 $x_2''+a_1(t)x_2'+a_2(t)x_2=0$\n",
    "\n",
    "充分性得证。下面证明必要性\n",
    "\n",
    "$W'[x_1,x_2]=\\begin{vmatrix}x_1&x_2\\\\x_1''&x_2''\\\\\\end{vmatrix}=\\begin{vmatrix}x_1&x_2\\\\x_1''+a_2(t)x_1&x_2''+a_2(t)x_2\\\\\\end{vmatrix}\\\\\n",
    "=\\begin{vmatrix}1&x_2\\\\-a_1(t)x_1'&-a_2(t)x_2'\\\\\\end{vmatrix}=-a_1(t)\\begin{vmatrix}x_1&x_2\\\\x_1'&x_2'\\\\\\end{vmatrix}=-a_1(t)W[x_1,x_2]$\n",
    "\n",
    "必要性得证"
   ]
  },
  {
   "cell_type": "markdown",
   "metadata": {},
   "source": [
    "（2）方程的通解可表为\n",
    "\n",
    "$$x=x_1[c_1\\int \\frac{1}{x_1^2}exp(-\\int_{t_0}^t a_1(s) \\mathrm ds)\\mathrm dt+c_2]$$\n",
    "\n",
    "其中 $c_1,c_2$ 为任意常数， $t_0,t \\in [a,b]$"
   ]
  },
  {
   "cell_type": "markdown",
   "metadata": {},
   "source": [
    "解：$\\begin{vmatrix}x_1&x_2\\\\x_1'&x_2'\\\\\\end{vmatrix}=W(t_0)e^{-\\int_{t_0}^t a_1(s)\\mathrm ds}$\n",
    "\n",
    "得到$x_1x_2'-x_1'x_2=W(t_0)e^{-\\int_{t_0}^t a_1(s)\\mathrm ds}$\n",
    "\n",
    "两边同时乘以 $\\frac{1}{x_1^2}$ ，则有 $\\frac{x_2}{x_1}=c_1\\int \\frac{1}{x_1^2}e^{-\\int_{t_0}^t a_1(s)\\mathrm ds}\\mathrm dt+c_2$\n",
    "\n",
    "得到 $x_2=(c_1\\int \\frac{1}{x_1^2}e^{-\\int_{t_0}^t a_1(s)\\mathrm ds}\\mathrm dt+c_2)x_1$\n",
    "\n",
    "取 $c_1=1,c_2=0$, 得到 $x_2=x_1\\int \\frac{1}{x_1^2}e^{-\\int_{t_0}^t a_1(s)\\mathrm ds}\\mathrm dt$\n",
    "\n",
    "又因为 $W(t)=\\begin{vmatrix}x_1&x_2\\\\x_1'&x_2'\\\\\\end{vmatrix}=e^{-\\int_{t_0}^t a_1(s)\\mathrm ds}\\neq0$\n",
    "\n",
    "得到原方程的通解为 $x=x_1[c_1\\int \\frac{1}{x_1^2}exp(-\\int_{t_0}^t a_1(s)\\mathrm ds)\\mathrm dt+c_2]$,其中 $c_1,c_2$ 为常数，$t_0,t\\in[a,b]$"
   ]
  },
  {
   "cell_type": "markdown",
   "metadata": {},
   "source": [
    "$A^+$"
   ]
  },
  {
   "cell_type": "code",
   "execution_count": null,
   "metadata": {
    "collapsed": true
   },
   "outputs": [],
   "source": []
  }
 ],
 "metadata": {
  "kernelspec": {
   "display_name": "SageMath 7.3",
   "language": "",
   "name": "sagemath"
  },
  "language_info": {
   "codemirror_mode": {
    "name": "ipython",
    "version": 2
   },
   "file_extension": ".py",
   "mimetype": "text/x-python",
   "name": "python",
   "nbconvert_exporter": "python",
   "pygments_lexer": "ipython2",
   "version": "2.7.10"
  }
 },
 "nbformat": 4,
 "nbformat_minor": 0
}
