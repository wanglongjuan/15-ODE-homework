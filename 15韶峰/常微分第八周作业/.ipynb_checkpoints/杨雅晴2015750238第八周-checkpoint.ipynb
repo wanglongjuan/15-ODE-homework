{
 "cells": [
  {
   "cell_type": "markdown",
   "metadata": {},
   "source": [
    "## 4.1   1.设x(t)和y(t)是区间$a\\le t\\le b$上的连续函数，证明：如果在区间$a\\le t\\le b$上有$\\frac{x(t)} {y(t)}\\not=常数$或$\\frac{y(t)} {x(t)}\\not=常数$，则x(t)和y(t)在区间$a\\le t\\le b$线性无关。"
   ]
  },
  {
   "cell_type": "markdown",
   "metadata": {},
   "source": [
    "**证明：**  反证法。"
   ]
  },
  {
   "cell_type": "markdown",
   "metadata": {},
   "source": [
    "设x(t)和y(t)在区间$a\\le t\\le b$线性相关，则存在不全为零的常数$C_1$和$C_2$使得$$C_1x(t)+C_2y(t)\\equiv 0,t\\in [a,b]$$"
   ]
  },
  {
   "cell_type": "markdown",
   "metadata": {},
   "source": [
    "若$C_1\\not =0$，则$$\\frac{x(t)} {y(t)}=-\\frac{C_2} {C_1}=常数$$"
   ]
  },
  {
   "cell_type": "markdown",
   "metadata": {},
   "source": [
    "若$C_2\\not =0$，则$$\\frac{y(t)} {x(t)}=-\\frac{C_1} {C_2}=常数$$"
   ]
  },
  {
   "cell_type": "markdown",
   "metadata": {},
   "source": [
    "在以上两种情况下，都与条件$\\frac{x(t)} {y(t)}\\not=常数$或$\\frac{y(t)} {x(t)}\\not=常数$矛盾。"
   ]
  },
  {
   "cell_type": "markdown",
   "metadata": {},
   "source": [
    "即x(t)和y(t)在区间$a\\le t\\le b$线性无关。"
   ]
  },
  {
   "cell_type": "markdown",
   "metadata": {},
   "source": [
    "## 2.证明非齐次线性微分方程的叠加原理：设$x_1(t)$，$x_2(t)$分别是非齐次线性微分方程$$\\frac{d^nx} {dt^n}+a_1(t)\\frac{d^{n-1}x} {dt^{n-1}}+\\cdots +a_n(t)x=f_1(t)$$  $$\\frac{d^nx} {dt^n}+a_1(t)\\frac{d^{n-1}x} {dt^{n-1}}+\\cdots +a_n(t)x=f_2(t)$$的解，则$x_1(t)+x_2(t)$是方程$$\\frac{d^nx} {dt^n}+a_1(t)\\frac{d^{n-1}x} {dt^{n-1}}+\\cdots +a_n(t)x=f_1(t)+f_2(t)$$的解。"
   ]
  },
  {
   "cell_type": "markdown",
   "metadata": {},
   "source": [
    "**证明：** 因为$x_1(t)$，$x_2(t)$分别是非齐次线性微分方程$$\\frac{d^nx} {dt^n}+a_1(t)\\frac{d^{n-1}x} {dt^{n-1}}+\\cdots +a_n(t)x=f_1(t)$$  $$\\frac{d^nx} {dt^n}+a_1(t)\\frac{d^{n-1}x} {dt^{n-1}}+\\cdots +a_n(t)x=f_2(t)$$的解，所以满足$$\\frac{d^nx_1(t)} {dt^n}+a_1(t)\\frac{d^{n-1}x_1(t)} {dt^{n-1}}+\\cdots +a_n(t)x_1(t)=f_1(t)$$  $$\\frac{d^nx_2(t)} {dt^n}+a_1(t)\\frac{d^{n-1}x_2(t)} {dt^{n-1}}+\\cdots +a_n(t)x_2(t)=f_2(t)$$"
   ]
  },
  {
   "cell_type": "markdown",
   "metadata": {},
   "source": [
    "以上两式相加，利用导数的运算法则有$$\\frac{d^n(x_1(t)+x_2(t))} {dt^n}+a_1(t)\\frac{d^{n-1}(x_1(t)+x_2(t))} {dt^{n-1}}+\\cdots +a_n(t)(x_1(t)+x_2(t))=f_1(t)+f_2(t)$$"
   ]
  },
  {
   "cell_type": "markdown",
   "metadata": {},
   "source": [
    "即$x_1(t)+x_2(t)$是方程$$\\frac{d^nx} {dt^n}+a_1(t)\\frac{d^{n-1}x} {dt^{n-1}}+\\cdots +a_n(t)x=f_1(t)+f_2(t)$$的解。"
   ]
  },
  {
   "cell_type": "markdown",
   "metadata": {},
   "source": [
    "## 3.已知齐次线性微分方程的基本解组$x_1,x_2$，求下列方程对应的非齐次线性微分方程的通解"
   ]
  },
  {
   "cell_type": "markdown",
   "metadata": {},
   "source": [
    "### (1)$x''-x=\\ cost,x_1=e^t,x_2=e^{-t}$"
   ]
  },
  {
   "cell_type": "markdown",
   "metadata": {},
   "source": [
    "**解：**应用常数变易法，令\n",
    "$$x=c_1(t)e^t+c_2(t)e^{-t}$$"
   ]
  },
  {
   "cell_type": "markdown",
   "metadata": {},
   "source": [
    "将它带入方程，则可得决定$c_1'(t)$和$c_2'(t)$的两个方程\n",
    "$$e'c'_1(t)+e^{-t}c'_2(t)=0$$\n",
    "及$$e'c'_1(t)-e^{-t}c'_2(t)=\\cos t$$"
   ]
  },
  {
   "cell_type": "markdown",
   "metadata": {},
   "source": [
    "解得$$c'_1(t)=\\frac{1}{2}\\cos t e^{-t},c'_2=-\\frac{1}{2}e^t\\cos t$$"
   ]
  },
  {
   "cell_type": "markdown",
   "metadata": {},
   "source": [
    "由此$$c_1(t)=\\frac{\\sin t-\\cos t}{4}e^{-t}+r_1$$\n",
    "    $$c_2(t)=-{\\frac{1}{4}}(\\sin t+\\cos t)e^t+r_2$$"
   ]
  },
  {
   "cell_type": "markdown",
   "metadata": {},
   "source": [
    "于是方程的通解为\n",
    "$$x=r_1e^t+r_2e^{-t}-\\frac{1}{2}\\cos t$$\n",
    "其中，$r_1,r_2$为任意常数"
   ]
  },
  {
   "cell_type": "markdown",
   "metadata": {},
   "source": [
    "### (3)$x''+4x=t\\sin 2t,x_1=\\cos 2t,x_2=\\sin 2t$"
   ]
  },
  {
   "cell_type": "markdown",
   "metadata": {},
   "source": [
    "**解：**应用常数变易法，令\n",
    "$$x=c_1(t)\\cos 2t+c_2(t)\\sin 2t$$"
   ]
  },
  {
   "cell_type": "markdown",
   "metadata": {},
   "source": [
    "将它带入方程，则可得决定$c_1'(t)$和$c_2'(t)$的两个方程\n",
    "$$-2c'_1(t)\\sin 2t+2c'_2(t)\\cos t=t\\sin 2t$$\n",
    "及$$c'_1(t)\\cos 2t+c'_2(t)\\sin 2t=0$$"
   ]
  },
  {
   "cell_type": "markdown",
   "metadata": {},
   "source": [
    "解得$$c'_1(t)=\\frac{t\\cos 4t-t}{4},c'_2=\\frac{t\\sin 4t}{4}$$"
   ]
  },
  {
   "cell_type": "markdown",
   "metadata": {},
   "source": [
    "由此$$c_1(t)=\\frac{1}{4}\\int\\mathrm (t\\cos 4t-t)\\,\\mathrm{d}t+r_1$$\n",
    "    $$c_2(t)=\\frac{1}{4}\\int\\mathrm (t\\sin 4t)\\,\\mathrm{d}t+r_2$$"
   ]
  },
  {
   "cell_type": "markdown",
   "metadata": {},
   "source": [
    "于是方程的通解为\n",
    "$$x=r_1\\cos 2t+r_2\\sin 2t+\\frac{1}{16}t\\sin 2t-\\frac{1}{8}t^2\\cos 2t$$\n",
    "其中，$r_1,r_2$为任意常数"
   ]
  },
  {
   "cell_type": "markdown",
   "metadata": {},
   "source": [
    "### (5) $t^2x''-tx'+x=6t+34t^2,x_1=t,x_2=t\\ln t$"
   ]
  },
  {
   "cell_type": "markdown",
   "metadata": {},
   "source": [
    "**解：**上式变形为\n",
    "$$x''-\\frac{1}{t}x'+\\frac{1}{t^2}x=\\frac{6}{t}+34$$"
   ]
  },
  {
   "cell_type": "markdown",
   "metadata": {},
   "source": [
    "应用常数变易法，令\n",
    "$$x=c_1(t)t+c_2(t)t\\ln t$$"
   ]
  },
  {
   "cell_type": "markdown",
   "metadata": {},
   "source": [
    "将它带入方程，则可得决定$c_1'(t)$和$c_2'(t)$的两个方程\n",
    "$$tc'_1(t)+t\\ln tc'_2(t)=0$$\n",
    "及$$c'_1(t)+(\\ln t+1)c'_2(t)=\\frac{6}{t}+34$$"
   ]
  },
  {
   "cell_type": "markdown",
   "metadata": {},
   "source": [
    "解得$$c'_2=\\frac{6}{t}+34,c_1不确定值$$"
   ]
  },
  {
   "cell_type": "markdown",
   "metadata": {},
   "source": [
    "由此$$c_1(t)=-34t\\ln t-3(\\ln t)^2+r_1$$\n",
    "$$c_2(t)=34t+6\\ln t+r_2$$\n",
    "于是方程的通解为\n",
    "$$x=r_1t+r_2t\\ln t+34t^2+3t(\\ln t)^2$$\n",
    "其中，$r_1,r_2$为任意常数"
   ]
  },
  {
   "cell_type": "markdown",
   "metadata": {},
   "source": [
    "## 6.假设$x_1(t)\\not=0$是二阶齐次线性微分方程$$x''+a_1(t)x'+a_2(t)x=0$$的解，这里$a_1(t)$和$a_2(t)$于区间[a,b]上连续，试证：\n",
    "## (1)$x_2(t)$为方程的解的充要条件是$$W'[x_1,x_2]+a_1W[x_1,x_2]=0$$\n",
    "## (2)方程的通解可表为$$x=x_1[c_1\\int\\mathrm {\\frac{1}{x^2}exp(-\\int_{t_0}{t}\\mathrm a_1(s)\\,\\mathrm{d}s)}\\,\\mathrm {d}t+c_2]$$其中$c_1,c_2$为任意常数，$t_0,t\\in[a,b]$"
   ]
  },
  {
   "cell_type": "markdown",
   "metadata": {},
   "source": [
    "**证明：**（1）充分性：由于\n",
    "$$W'[x_1,x_2]=\\begin{vmatrix}x_1'&x_2'\\\\x_1'&x_2'\\\\ \\end{vmatrix} +\\begin{vmatrix}x_1&x_2\\\\x_1''&x_2''\\\\ \\end{vmatrix}=\\begin{vmatrix}x_1&\n",
    "x_2\\\\x_1''&x_2''\\\\ \\end{vmatrix}$$\n",
    "\n",
    "$$\\begin{aligned}W'[x_1,x_2]+a_1(t)W[x_1,x_2]\\\\&=\\begin{vmatrix}x_1&x_2\\\\x_1''&x_2''\\\\ \\end{vmatrix}+a_1(t)\\begin{vmatrix}x_1&x_2\\\\x_1'&x_2'\\\\ \\end{vmatrix}\\\\&=\\begin{vmatrix}x_1&x_2\\\\x_1''+a_1(t)x_1'&x_2''+a_1(t)x_2'\\\\ \\end{vmatrix}=0\\end{aligned}$$"
   ]
  },
  {
   "cell_type": "markdown",
   "metadata": {},
   "source": [
    "而$x_1(t)\\not=0$是已知方程的解，有\n",
    "$$\\begin{vmatrix}x_1&x_2\\\\-a_2(t)x_1&x_2''+a_1(t)x_2'\\\\ \\end{vmatrix}=x_1{\\begin{vmatrix}1&x_2\\\\-a_2(t)&x_2''+a_1(t)x_2'\\\\ \\end{vmatrix}}=0$$\n",
    "即$x_2(t)$是已知方程的解"
   ]
  },
  {
   "cell_type": "markdown",
   "metadata": {},
   "source": [
    "必要性：\n",
    "$W[x_1,x_2]$是方程的解$x_1(t),x_2(t)$的朗斯基行列式，则\n",
    "$$\n",
    "\\begin{aligned}\n",
    "W'[x_1,x_2]&=\\begin{vmatrix}x_1&x_2\\\\x_1''&x_2''\\\\ \\end{vmatrix}\\\\&=\\begin{vmatrix}x_1&x_2\\\\x_1''+a_2(t)x_1&x_2''+a_2(t)x_2\\\\ \\end{vmatrix}\\\\&=\\begin{vmatrix}1&x_2\\\\-a_1(t)x_1'&a_1(t)x_2'\\\\ \\end{vmatrix}\\\\&=-a_1(t)\\begin{vmatrix}x_1&\n",
    "x_2\\\\x_1'&x_2'\\\\ \\end{vmatrix}\\\\&=-a_1(t)W[x_1,x_2]\n",
    "\\end{aligned}\n",
    "$$"
   ]
  },
  {
   "cell_type": "markdown",
   "metadata": {},
   "source": [
    "即$W[x_1,x_2]满足W'[x_1,x_2]+a_1(t)W[x_1,x_2]=0$"
   ]
  },
  {
   "cell_type": "markdown",
   "metadata": {},
   "source": [
    "**(2)**因为$x_1,x_2$为方程解，则有刘维尔公式\n",
    "$$\\begin{vmatrix}x_1&x_2\\\\x_1'&x_2'\\\\ \\end{vmatrix}=W(t_0)e^{-\\int_{t_0}^{t}\\mathrm a_1(s)\\,\\mathrm{d}s}$$\n",
    "即$$x_1x_2'-x_1'x_2=W(t_0）e^{-\\int_{t_0}^{t}\\mathrm a_1(s)\\,\\mathrm{d}s}$$"
   ]
  },
  {
   "cell_type": "markdown",
   "metadata": {},
   "source": [
    "方程两边同乘以$\\frac{1}{x_1^2}$,得到\n",
    "$$\\frac{d(\\frac{x_2}{x_1})}{dt}=\\frac{W(t_0)}{x_1^2}e^{-\\int_{t_0}^{t}\\mathrm a_1(s)\\,\\mathrm{d}s}$$"
   ]
  },
  {
   "cell_type": "markdown",
   "metadata": {},
   "source": [
    "于是$$\\frac{x_2}{x_1}c_1\\int\\mathrm {\\frac{1}{x^2}e^{-\\int_{t_0}^{t}\\mathrm a_1(s)\\,\\mathrm{d}s}\\,\\mathrm{d}t}+c_2$$\n",
    "即$$x_2=(c_1\\int\\mathrm {\\frac{1}{{x_1}^2}e^{-\\int_{t_0}^{t}\\mathrm a_1(s)\\,\\mathrm{d}s}}\\,\\mathrm{d}t+c_2)x_1$$"
   ]
  },
  {
   "cell_type": "markdown",
   "metadata": {},
   "source": [
    "取$c_1=1,c_2=0$得到\n",
    "$$x_2=x_1{\\int\\mathrm {\\frac{1}{{x_1}^2}e^{-\\int_{t_0}^{t}\\mathrm a_1(s)\\,\\mathrm{d}s}}\\,\\mathrm{d}t}$$"
   ]
  },
  {
   "cell_type": "markdown",
   "metadata": {},
   "source": [
    "又有$$W(t)=\\begin{vmatrix}x_1&x_2\\\\x_1'&x_2'\\\\ \\end{vmatrix}=e^{-\\int_{t_0}^{t}\\mathrm a_1(s)\\,\\mathrm{d}s}\\not=0$$"
   ]
  },
  {
   "cell_type": "markdown",
   "metadata": {},
   "source": [
    "则原方程的通解为\n",
    "$$x=x_1[c_1\\int\\mathrm {\\frac{1}{x^2}exp(-\\int_{t_0}{t}\\mathrm a_1(s)\\,\\mathrm{d}s)}\\,\\mathrm {d}t+c_2]$$\n",
    "其中$c_1,c_2$为任意常数，$t_0,t\\in[a,b]$"
   ]
  },
  {
   "cell_type": "markdown",
   "metadata": {},
   "source": [
    "结论得证。"
   ]
  },
  {
   "cell_type": "markdown",
   "metadata": {
    "collapsed": true
   },
   "source": [
    "$A$"
   ]
  },
  {
   "cell_type": "code",
   "execution_count": null,
   "metadata": {
    "collapsed": true
   },
   "outputs": [],
   "source": []
  }
 ],
 "metadata": {
  "kernelspec": {
   "display_name": "SageMath 7.3",
   "language": "",
   "name": "sagemath"
  },
  "language_info": {
   "codemirror_mode": {
    "name": "ipython",
    "version": 2
   },
   "file_extension": ".py",
   "mimetype": "text/x-python",
   "name": "python",
   "nbconvert_exporter": "python",
   "pygments_lexer": "ipython2",
   "version": "2.7.10"
  }
 },
 "nbformat": 4,
 "nbformat_minor": 0
}
