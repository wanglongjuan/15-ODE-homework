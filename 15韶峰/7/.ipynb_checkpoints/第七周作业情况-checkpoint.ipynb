{
 "cells": [
  {
   "cell_type": "markdown",
   "metadata": {},
   "source": [
    "本周作业情况如下：\n",
    "\n",
    "   1. 本周作业是： 第102页 1、2、3、4;\n",
    "   2. 本周作业情况如下：\n",
    "       * 本周作业是做与解对初值的连续性和可微性定理相关的题目，大家都能按时完成作业;\n",
    "       * 本周作业仍出现了格式不正确，书写不恰当的，作业内容较乱;\n",
    "       * 张欢()、邹恒勇、肖熠程、黄淑婷在本周作业中存在抄袭现象;\n",
    "       * 刘琼琦作业优秀;\n",
    "       * 金蒙召请假作业未交."
   ]
  }
 ],
 "metadata": {
  "kernelspec": {
   "display_name": "SageMath 7.3",
   "language": "",
   "name": "sagemath"
  },
  "language_info": {
   "codemirror_mode": {
    "name": "ipython",
    "version": 2
   },
   "file_extension": ".py",
   "mimetype": "text/x-python",
   "name": "python",
   "nbconvert_exporter": "python",
   "pygments_lexer": "ipython2",
   "version": "2.7.10"
  }
 },
 "nbformat": 4,
 "nbformat_minor": 0
}
