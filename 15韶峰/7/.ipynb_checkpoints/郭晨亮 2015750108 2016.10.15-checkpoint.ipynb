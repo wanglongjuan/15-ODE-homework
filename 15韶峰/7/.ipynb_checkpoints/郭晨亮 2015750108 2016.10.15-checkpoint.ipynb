{
 "cells": [
  {
   "cell_type": "markdown",
   "metadata": {},
   "source": [
    "#### 1.假设函数$f(x,y)$及${\\partial f \\over \\partial y}$都在区域$G$内连续，又$y=\\varphi (x,x_0,y_0)$是方程${\\mathrm d y \\over \\mathrm d x}=f(x,y)$满足初值条件$\\varphi (x_0,x_0,y_0)=y_0$的解，试证${\\partial \\varphi \\over \\partial y_0}$存在且连续，并写出其表达式"
   ]
  },
  {
   "cell_type": "markdown",
   "metadata": {},
   "source": [
    "证明：设初值为$(x_0,y_0+\\Delta y_0)$的解为$y=\\psi (x,x_0,y_0+\\Delta y_0)$\n",
    "\n",
    "$$\\varphi =y_0+\\int_{x_0}^xf(s,\\varphi (s))\\mathrm d s$$\n",
    "\n",
    "$$\\psi =y_0+\\Delta y_0+\\int_{x_0}^xf(s,\\psi (s))\\mathrm d s$$\n",
    "\n",
    "$$\\psi -\\varphi =\\Delta y_0+\\int_{x_0}^x[f(s,\\psi (s))-f(s,\\varphi (s))]\\mathrm d s$$\n",
    "\n",
    "$$=\\Delta y_0+\\int_{x_0}^x{\\partial f(s,\\varphi +\\theta (\\psi -\\varphi)) \\over \\partial y}(\\psi (s)-\\varphi (s))\\mathrm d s(\\theta \\in [0,1])$$\n",
    "\n",
    "$${\\partial f(s,\\varphi +\\theta (\\psi -\\varphi )) \\over \\partial y}={\\partial f(s,\\varphi ) \\over \\partial y}+r$$\n",
    "\n",
    "$\\Delta y_0 \\neq 0$ 时\n",
    "$${\\psi -\\varphi  \\over \\Delta y_0}=1+\\int_{x_0}^x\\Big[{\\partial f(s,\\varphi ) \\over \\partial y}+r\\Big]{\\psi -\\varphi \\over \\Delta y_0}\\mathrm d s$$\n",
    "\n",
    "$z={\\psi -\\varphi \\over \\Delta y_0}$是微分方程\n",
    "$\n",
    "\\begin{cases}\n",
    "{\\mathrm d z \\over \\mathrm d x}=\\Big[{\\partial f(x,\\varphi ) \\over \\partial y}+r\\Big]z \\\\\n",
    "z(x_0)=1\n",
    "\\end{cases}\n",
    "$\n",
    "的解\n",
    "\n",
    "$${\\psi -\\varphi \\over \\Delta y_0}=z=e^{\\int_{x_0}^x[{\\partial f(s,\\varphi ) \\over \\partial y}+r]\\mathrm d s}$$\n",
    "\n",
    "$${\\partial \\varphi \\over \\partial y_0}=\\lim_{\\Delta y_0 \\to 0}{\\psi -\\varphi  \\over \\Delta y_0}=e^{\\int_{x_0}^x[{\\partial f(s,\\varphi ) \\over \\partial y}]\\mathrm d s}$$\n",
    "\n",
    "所以${\\partial \\varphi \\over \\partial y_0}$存在且连续"
   ]
  },
  {
   "cell_type": "markdown",
   "metadata": {},
   "source": [
    "#### 2.假设函数$P(x)$和$Q(x)$于区间$[\\alpha ,\\beta ]$上连续，$y=\\varphi (x,x_0,y_0)$是方程\n",
    "$${\\mathrm d y \\over \\mathrm d x}=P(x)y+Q(x)$$\n",
    "#### 的解，$y_0=\\varphi (x_0,x_0,y_0)$，试求${\\partial \\varphi \\over \\partial x_0}$，${\\partial \\varphi \\over \\partial y_0}$及${\\partial \\varphi \\over \\partial x}$，并从解的表达式出发，利用对参数求导数的方法，检验所得结果"
   ]
  },
  {
   "cell_type": "markdown",
   "metadata": {},
   "source": [
    "解：\n",
    "$$f(x,y)=P(x)y+Q(x)$$\n",
    "\n",
    "$${\\partial f \\over \\partial y}=P(x)$$\n",
    "\n",
    "$${\\partial \\varphi \\over \\partial x_0}=-f(x_0,y_0)e^{\\int_{x_0}^x{\\partial f(s,\\varphi ) \\over \\partial y}\\mathrm d s}=-[P(x_0)y_0+Q(x_0)]e^{\\int_{x_0}^xP(s)\\mathrm d s}$$\n",
    "\n",
    "$${\\partial \\varphi \\over \\partial y_0}=e^{\\int_{x_0}^x{\\partial f(x,\\varphi ) \\over \\partial y}\\mathrm d x}=e^{\\int_{x_0}^xP(s)\\mathrm d s}$$\n",
    "\n",
    "$${\\partial \\varphi \\over \\partial x}=f(x,\\varphi (x,x_0,y_0))=P(x)\\varphi (x,x_0,y_0)+Q(x)$$\n",
    "\n",
    "$$y=e^{P(x)\\mathrm d x}[\\int Q(x)e^{-\\int P(x)\\mathrm d x}\\mathrm d x+c]$$\n",
    "\n",
    "$$\\varphi (x,x_0,y_0)=y_0e^{\\int_{x_0}^xP(x)\\mathrm d x}+\\int_{x_0}^xQ(s)e^{\\int_s^xP(t)\\mathrm d t}\\mathrm d s$$\n",
    "\n",
    "$${\\partial \\varphi (x,x_0,y_0) \\over \\partial x_0}=-P(x_0)y_0e^{\\int_{x_0}^xP(x)\\mathrm d x}-Q(x_0)e^{\\int_{x_0}^xP(s)\\mathrm d s}=-[P(x_0)y_0+Q(x_0)]e^{\\int_{x_0}^xP(x)\\mathrm d s}$$\n",
    "\n",
    "$${\\partial \\varphi (x,x_0,y_0) \\over \\partial y_0}=e^{\\int_{x_0}^xP(x)\\mathrm d s}$$\n",
    "\n",
    "$${\\partial \\varphi (x,x_0,y_0) \\over \\partial x}=P(x)y_0e^{\\int_{x_0}^xP(s)\\mathrm d s}+Q(x)+\\int_{x_0}^xP(x)Q(s)e^{\\int_s^eP(t)\\mathrm d t}\\mathrm d s$$\n",
    "\n",
    "$$=P(x)\\Big[y_0e^{\\int_{x_0}^xP(s)\\mathrm d s}+\\int_{x_0}^xQ(s)e^{\\int_s^xP(t)\\mathrm d t}\\mathrm d s\\Big]+Q(x)$$\n",
    "\n",
    "$$=P(x)\\varphi (x,x_0,y_0)+Q(x)$$"
   ]
  },
  {
   "cell_type": "markdown",
   "metadata": {},
   "source": [
    "#### 3.给定方程\n",
    "$${\\mathrm d y \\over \\mathrm d x}=\\sin ({y \\over x})$$\n",
    "#### 试求${\\partial y(x,x_0,y_0) \\over \\partial x_0},{\\partial y(x,x_0,y_0) \\over \\partial y_0}$在$x_0=1,y_0=0$时的表达式"
   ]
  },
  {
   "cell_type": "markdown",
   "metadata": {},
   "source": [
    "解：设$f(x,y)=\\sin ({y \\over x})$\n",
    "$${\\partial f \\over \\partial x}={1 \\over x}\\cos ({y \\over x})$$\n",
    "\n",
    "$${\\partial y(x,x_0,y_0) \\over \\partial x_0}=-f(x_0,y_0)e^{\\int_{x_0}^x{\\partial f(s,y) \\over \\partial y}\\mathrm d s}=-\\sin ({y_0 \\over x_0}e^{\\int_{x_0}^x{1 \\over s}\\cos {y \\over s}\\mathrm d s})$$\n",
    "\n",
    "$${\\partial y(x,x_0,y_0) \\over \\partial y_0}=e^{\\int_{x_0}^x{\\partial f(s,y) \\over \\partial y}\\mathrm d s}=e^{\\int_{x_0}^x{1 \\over s}\\cos {y \\over s}\\mathrm d s}$$\n",
    "\n",
    "当$x_0=1,y_0=0$时\n",
    "\n",
    "$${\\partial y(x,x_0,y_0) \\over \\partial x_0}=0,{\\partial y(x,x_0,y_0) \\over \\partial y_0}=|x|$$"
   ]
  },
  {
   "cell_type": "markdown",
   "metadata": {},
   "source": [
    "#### 4.设$y=\\varphi (x,x_0,y_0,\\lambda )$是初值问题\n",
    "$${\\mathrm d y \\over \\mathrm d x}=\\sin (\\lambda xy),\\varphi (x_0,x_0,y_0,\\lambda )=y_0$$\n",
    "#### 的饱和解，这里$\\lambda $是参数，求${\\partial \\varphi \\over \\partial x_0},{\\partial \\varphi \\over \\partial y_0}$在$(x,0,0,1)$处的表达式"
   ]
  },
  {
   "cell_type": "markdown",
   "metadata": {},
   "source": [
    "解：\n",
    "$$f(x,y)=\\sin (\\lambda xy)$$\n",
    "\n",
    "$${\\partial f \\over \\partial y}=\\lambda x\\cos (\\lambda xy)$$\n",
    "\n",
    "$${\\partial \\varphi \\over \\partial x_0}=-f(x_0,y_0)e^{\\int_{x_0}^x{\\partial f(s,\\varphi ) \\over \\partial y}\\mathrm d s}=-\\sin (\\lambda x_0y_0)e^{\\int_{x_0}^x\\lambda s\\cos (\\lambda s\\varphi )\\mathrm d s}$$\n",
    "\n",
    "$${\\partial \\varphi \\over \\partial y_0}=e^{\\int_{x_0}^x{\\partial f(s,\\varphi ) \\over \\partial y}\\mathrm d s}=e^{\\int_{x_0}^x\\lambda s\\cos (\\lambda s\\varphi )\\mathrm d s)}$$\n",
    "\n",
    "$x_0=0，y_0=0,\\lambda =1$时\n",
    "\n",
    "$${\\partial \\varphi \\over \\partial x_0}=0,{\\partial \\varphi \\over \\partial y_0}=e^{{x^2 \\over 2}}$$"
   ]
  },
  {
   "cell_type": "markdown",
   "metadata": {},
   "source": [
    "**$A$**"
   ]
  },
  {
   "cell_type": "markdown",
   "metadata": {},
   "source": []
  }
 ],
 "metadata": {
  "kernelspec": {
   "display_name": "SageMath 7.3",
   "language": "",
   "name": "sagemath"
  },
  "language_info": {
   "codemirror_mode": {
    "name": "ipython",
    "version": 2
   },
   "file_extension": ".py",
   "mimetype": "text/x-python",
   "name": "python",
   "nbconvert_exporter": "python",
   "pygments_lexer": "ipython2",
   "version": "2.7.10"
  }
 },
 "nbformat": 4,
 "nbformat_minor": 0
}
