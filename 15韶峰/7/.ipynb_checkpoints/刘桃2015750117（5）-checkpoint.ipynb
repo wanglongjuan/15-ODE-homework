{
 "cells": [
  {
   "cell_type": "markdown",
   "metadata": {},
   "source": [
    "## 1.假设$f(x,y)$及$\\frac{\\partial f}{\\partial y}$都在区域$G$内连续，又$y=\\varphi(x,x_0,y_0)$是方程$\\frac{\\mathrm d y}{\\mathrm d x}=f(x,y)$满足初值条件$\\varphi(x_0,x_0,y_0)=y_0$的解，试证$\\frac{\\partial \\varphi}{\\partial y_0}$存在且连续，并写出其表达式。\n"
   ]
  },
  {
   "cell_type": "markdown",
   "metadata": {},
   "source": [
    "**证**\n",
    "\n",
    "设由初值$(x_0,y_0)$和$(x_0,y_0+△y_o)（|△y_0|≤\\alpha,\\alpha为足够小正数）所确定的方程组的解分别为$\n",
    "\n",
    "$y=\\varphi(x,x_0,y_0)=\\varphi和y=\\varphi(x,x_0,y_0+△y_o)=\\psi$,\n",
    "\n",
    "即$y=y_0+\\int_{x_0}^x f(x,\\varphi)\\mathrm d x$和$y=y_0+△y_o+\\int_{x_0}^x f(x,\\psi) \\mathrm d x$\n",
    "于是\n",
    "$$\n",
    "\\begin{aligned}\n",
    "\\psi-\\varphi&=△y_o+\\int_{x_0}^x f(x,\\psi)-f(x,\\varphi) \\mathrm d x\\\\&=△y_o+\\int_{x_0}^x \\frac{\\partial f(x,\\varphi+\\theta(\\psi-\\varphi))}{\\partial y}(\\psi-\\varphi) \\mathrm d x\n",
    "\\end{aligned}\n",
    "$$\n",
    "\n",
    "其中$0<\\theta<1$,注意到$\\frac{\\partial y}{\\partial x}$及$\\psi,\\varphi$的连续性，我们有\n",
    "$$\\frac{\\partial f(x,\\varphi+\\theta(\\psi-\\varphi))}{\\partial y}=\\frac{\\partial f(x,\\varphi)}{\\partial y}+r_1,$$\n",
    "\n",
    "这里$r_1$具有性质：当$△y_0 \\to 0$时 $r_1 \\to 0$因此对$△y_0≠o$时有\n",
    "$\\frac{\\psi-\\varphi}{△y_0}=1+\\int_{x_0}^x [\\frac{\\partial f(x,\\varphi)}{\\partial y}+r_1]\\frac{\\psi-\\varphi}{△y_0}\\mathrm d x$\n",
    "\n",
    "即$$z=\\frac{\\psi-\\varphi}{△y_0}$$\n",
    "是初值问题\n",
    "$$\n",
    "\\begin{cases}\n",
    "\\frac{\\mathrm d z}{\\mathrm d x}= [\\frac{\\partial f(x,\\varphi)}{\\partial y}+r_1]z\\\\\n",
    "z(x_0)=1=z_0\n",
    "\\end{cases}\n",
    "$$\n",
    "\n",
    "的解，在这里$△y_0≠o$被看成参数，根据解对初值和参数的连续性定理，知$\\frac{\\psi-\\varphi}{△y_0}$是$y,y_0,z_0,△y_0$的连续函数，从而存在\n",
    "\n",
    "$\\displaystyle\\lim_{△y_0 \\to o} \\frac{\\psi-\\varphi}{△y_0}≡\\frac{\\partial \\varphi}{\\partial y}$\n",
    "\n",
    "而$\\frac{\\partial \\varphi}{\\partial y}$是初值问题\n",
    "$$\n",
    "\\begin{cases}\n",
    "\\frac{\\mathrm d z}{\\mathrm d x}=\\frac{\\partial f}{\\partial y}z\\\\\n",
    "z(x_0)=1\n",
    "\\end{cases}\n",
    "$$\n",
    "的解，所以\n",
    "$$\\frac{\\partial \\varphi}{\\partial y_0}=e^{\\int_{x_0}^x \\frac{\\partial f(x,\\varphi)}{\\partial y}\\mathrm dx}$$\n",
    "显然它是连续函数。\n"
   ]
  },
  {
   "cell_type": "markdown",
   "metadata": {},
   "source": [
    "## 2.假设函数$(P(x)$和$Q(x)$于区间$[\\alpha,\\beta]$上连续，$y=\\varphi(x,x_0,y_0)$是方程\n",
    "## $$\\frac{\\mathrm d y}{\\mathrm d x}=P(x)y+Q(x)$$的解，$y_0=\\varphi(x_0,x_0,y_0)$.试求$\\frac{\\partial \\varphi}{\\partial x_0},\\frac{\\partial \\varphi}{\\partial y_0},\\frac{\\partial \\varphi}{\\partial x}$,并从解的表达式出发，利用对参数求导数的方法，检验所得结果。"
   ]
  },
  {
   "cell_type": "markdown",
   "metadata": {},
   "source": [
    "**解**\n",
    "由上一题同理可得\n",
    "\n",
    "$\\frac{\\partial \\varphi}{\\partial x_0}=-f(x_0,y_0)e^{\\int_{x_0}^x\\frac{\\partial f(x,\\varphi)}{\\partial y}\\mathrm dx}$\n",
    "\n",
    "$\\frac{\\partial \\varphi}{\\partial y_0}=e^{\\int_{x_0}^x \\frac{\\partial f(x,\\varphi)}{\\partial y}\\mathrm dx}$\n",
    "至于$\\frac{\\partial \\varphi}{\\partial x}的存在及连续性，只需注意到y=\\varphi(x,x_0,y_0)$是方程的解，因而$$\\frac{\\partial \\varphi}{\\partial x}=f(x,\\varphi(x,x_0,y_0))$$\n",
    "又因为：$f(x,y)=P(x)y+Q(x)$\n",
    "代入上式得到\n",
    "$$\n",
    "\\begin{cases}\n",
    "\\frac{\\partial \\varphi}{\\partial x_0}=(P(x_0)y_0+Q(x_0))e^{\\int_{x_0}^xP(x)dx}\\\\\n",
    "\\frac{\\partial \\varphi}{\\partial y_0}=e^{\\int_{x_0}^xP(x)dx}\\\\\n",
    "\\frac{\\partial \\varphi}{\\partial x}=P(x)\\varphi(x,x_0,y_0)+Q(x)\n",
    "\\end{cases}\n",
    "$$\n",
    "由常数变易法得\n",
    "$$y=e^{\\int_{x_0}^x P(x) \\mathrm d x}(\\int_{x_0}^x Q(x)e^{-\\int_{x_0}^x P(x)\\mathrm d x}\\mathrm d x+y_0)$$\n",
    "所以\n",
    "$$\n",
    "\\begin{aligned}\n",
    "\\frac{\\partial \\varphi}{\\partial y_0}&=e^{\\int_{x_0}^x P(x)\\mathrm d x}\\\\\\frac{\\partial \\varphi}{\\partial x_0}&=-P(x_0)e^{\\int_{x_0}^x P(x)\\mathrm d x}(\\int_{x_0}^x Q(x)e^{-\\int_{x_0}^x P(x)\\mathrm d x}\\mathrm d x+y_0)+e^{\\int_{x_0}^x P(x)\\mathrm d x}(-Q(x_0)+P(x_0))\\int_{x_0}^x Q(x)e^{-\\int_{x_0}^x P(x)\\mathrm d x}\\mathrm d x)\\\\&=-(P(x_0)y_0+Q(x_0))e^{\\int_{x_0}^x P(x)\\mathrm d x}\\\\\\frac{\\partial \\varphi}{\\partial x}&=P(x)e^{\\int_{x_0}^x P(x)\\mathrm d x}(\\int_{x_0}^x Q(x)e^{-\\int_{x_0}^x P(x)\\mathrm d x}\\mathrm d x+y_0)+e^{\\int_{x_0}^x P(x)\\mathrm d x}(Q(x)e^{-\\int_{x_0}^x P(x)\\mathrm d x})\\\\&=P(x）\\varphi(x,x_0,y_0)+Q(x)\n",
    "\\end{aligned}\n",
    "$$\n",
    "所以结果检验出是对的"
   ]
  },
  {
   "cell_type": "markdown",
   "metadata": {},
   "source": [
    "## 3.给定方程$$\\frac{\\mathrm d y}{\\mathrm d x}=\\sin (\\frac{y}{x}),$$试求$\\frac{\\partial y(x,x_0,y_0)}{\\partial x_0},\\frac{\\partial y(x,x_0,y_0)}{\\partial y_0}$在$x_0=1,y_0=0$时的表达式。"
   ]
  },
  {
   "cell_type": "markdown",
   "metadata": {},
   "source": [
    "**解**\n",
    "由第一题的结果看$$\\frac{\\partial y(x,x_0,y_0)}{\\partial x_0}=-f(x_0,y_0)e^{\\int_{x_0}^x\\frac{\\partial f(x,y(x,x_0,y_0))}{\\partial y}dx}$$\n",
    "又因为$x_0=1,y_0=0$\n",
    "所以$$\\frac{\\partial y(x,x_0,y_0)}{\\partial x_0}=0$$\n",
    "同理可得$$\\frac{\\partial y(x,x_0,y_0)}{\\partial x_0}=e^{\\int_{x_0}^x\\frac{\\partial f(x,y(x,x_0,y_0))}{\\partial y}dx}$$\n",
    "又因为$\\frac{\\partial f(x,y(x,x_0,y_0))}{\\partial y}dx=cos(\\frac{y}{x})\\frac{1}{x}$\n",
    "所以$$\\frac{\\partial y(x,x_0,y_0)}{\\partial x_0}=|x|$$"
   ]
  },
  {
   "cell_type": "markdown",
   "metadata": {},
   "source": [
    "**对 $y$ 的求偏导错误**"
   ]
  },
  {
   "cell_type": "markdown",
   "metadata": {},
   "source": [
    "## 4.设$y=\\varphi(x,x_0,y_0,\\lambda)$是初值问题$$\\frac{\\mathrm d y}{\\mathrm d x}=\\sin (\\lambda xy),\\varphi(x_0,x_0,y_0,\\lambda)=y_0$$的饱和解，这里$\\lambda$是参数，求$\\frac{\\partial \\varphi}{\\partial x_0},\\frac{\\partial \\varphi}{\\partial y_0}$在$(x,0,0,1)$处的表达式。"
   ]
  },
  {
   "cell_type": "markdown",
   "metadata": {},
   "source": [
    "**解**\n",
    "$\\frac{\\partial \\varphi}{\\partial x_0}=-f(x_0,y_0,\\lambda)e^{\\int_{x_0}^x \\frac{\\partial f(x,\\varphi,\\lambda)}{\\partial y} dx}=0$\n",
    "\n",
    "又依题意$\\varphi(x,0,0,1)=y_0=0$\n",
    "所以\n",
    "$$\n",
    "\\begin{aligned}\n",
    "\\frac{\\partial \\varphi}{\\partial y_0}&=e^{\\int_{x_0}^x \\frac{\\partial f(x,\\varphi,\\lambda)}{\\partial y} \\mathrm d x}\\\\&=e^{\\int_0^x \\frac{\\partial sin(\\lambda x\\varphi)}{\\partial y} \\mathrm d x}\\\\&=e^{\\int_0^x \\cos (\\lambda x\\varphi)\\lambda x \\mathrm d x}|_{（\\varphi=0,\\lambda=1）}\\\\&=e^{\\frac{x^2}{2}}\n",
    "\\end{aligned}\n",
    "$$"
   ]
  },
  {
   "cell_type": "markdown",
   "metadata": {
    "collapsed": true
   },
   "source": [
    "**A**"
   ]
  },
  {
   "cell_type": "code",
   "execution_count": null,
   "metadata": {
    "collapsed": true
   },
   "outputs": [],
   "source": []
  }
 ],
 "metadata": {
  "kernelspec": {
   "display_name": "SageMath 7.3",
   "language": "",
   "name": "sagemath"
  },
  "language_info": {
   "codemirror_mode": {
    "name": "ipython",
    "version": 2
   },
   "file_extension": ".py",
   "mimetype": "text/x-python",
   "name": "python",
   "nbconvert_exporter": "python",
   "pygments_lexer": "ipython2",
   "version": "2.7.10"
  }
 },
 "nbformat": 4,
 "nbformat_minor": 0
}
