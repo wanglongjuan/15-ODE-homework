{
 "cells": [
  {
   "cell_type": "markdown",
   "metadata": {},
   "source": [
    "## P103.2. 假设函数P(x)和Q(x)于区间$[\\alpha,\\beta]$上连续，$y=\\phi(x,x_0,y_0)$是方程$$\\frac{dy} {dx}=P(x)y+Q(x)$$的解，$y_0=\\phi(x,x_0,y_0)$。试求$\\frac{\\partial \\phi} {\\partial x_0}$,$\\frac{\\partial \\phi} {\\partial y_0}$,$\\frac{\\partial \\phi} {\\partial x}$,并从解的表达式出发，利用对参数求导数的方法，检验所得结果。"
   ]
  },
  {
   "cell_type": "markdown",
   "metadata": {},
   "source": [
    "**解：** 令$f(x,y)=P(x)y+Q(x)$,则$\\frac{\\partial f} {\\partial x}=P(x)$。由初始条件$y_0=\\phi(x_0,x_0,y_0)$及解对初值的可微性定理可得"
   ]
  },
  {
   "cell_type": "markdown",
   "metadata": {},
   "source": [
    "$$\n",
    "\\begin{aligned}\n",
    "\\frac{\\partial \\phi} {\\partial x_0}&=-f(x_0,y_0)exp(\\int_{x_0}^x\\mathrm{\\frac{\\partial f(s,\\phi)} {\\partial y}}\\mathrm{d}x)\\\\\n",
    "&=-(P(x_0)y_0+Q(x_0))exp(\\int_{x_0}^x\\mathrm{P(x)}\\mathrm{d}x)\\\\\n",
    "\\frac{\\partial \\phi} {\\partial y_0}&=exp(\\int_{x_0}^x\\mathrm{\\frac{\\partial f(s,\\phi)} {\\partial y}}\\mathrm{d}x)\\\\\n",
    "&=exp(\\int_{x_0}^x\\mathrm{P(x)}\\mathrm{d}x)\\\\\n",
    "\\frac{\\partial \\phi} {\\partial x_0}&=f(x,\\phi(x,x_0,y_0))=P(x)\\phi(x,x_0,y_0)+Q(x)\n",
    "\\end{aligned}\n",
    "$$"
   ]
  },
  {
   "cell_type": "markdown",
   "metadata": {},
   "source": [
    "所以，方程$\\frac{dy} {dx}=P(x)y+Q(x)$的通解为$$y=e^{\\int\\mathrm{P(x)}\\mathrm{d}x}(\\int\\mathrm{Q(x)e^{\\int\\mathrm{-P(x)}\\mathrm{d}x}}\\mathrm{d}x+c)$$"
   ]
  },
  {
   "cell_type": "markdown",
   "metadata": {},
   "source": [
    "而方程具有初始条件$y(x_0)=x_0$的特解可以写为$$y=\\phi(x,x_0,y_0)=e^{\\int_{x_0}^x\\mathrm{P(s)}\\mathrm{d}s}(\\int_{x_0}^x\\mathrm{Q(t)e^{\\int_{x_0}^x\\mathrm{-P(s)}\\mathrm{d}s}}\\mathrm{d}t+y_0)$$"
   ]
  },
  {
   "cell_type": "markdown",
   "metadata": {},
   "source": [
    "利用可得参数导数的方法得"
   ]
  },
  {
   "cell_type": "markdown",
   "metadata": {},
   "source": [
    "$$\n",
    "\\begin{aligned}\n",
    "\\frac{\\partial \\phi} {\\partial x_0}&=e^{\\int_{x_0}^x\\mathrm{P(s)}\\mathrm{d}s}(-P(x_0))(\\int_{x_0}^x\\mathrm{Q(t)e^{\\int_{x_0}^x\\mathrm{-P(s)}\\mathrm{d}s}}\\mathrm{d}t+y_0)+e^{\\int_{x_0}^x\\mathrm{P(s)}\\mathrm{d}s}[-Q(x_0)e^{\\int_{x_0}^x\\mathrm{-P(s)}\\mathrm{d}s}+(\\int_{x_0}^x\\mathrm{Q(t)e^{\\int_{x_0}^x\\mathrm{-P(s)}\\mathrm{d}s}}\\mathrm{d}t)P(x_0)]\\\\\n",
    "&=-(P(x_0)y_0+Q(x_0))e^{\\int_{x_0}^x\\mathrm{P(s)}\\mathrm{d}s}\\\\\n",
    "\\frac{\\partial \\phi} {\\partial y_0}&=e^{\\int_{x_0}^x\\mathrm{P(s)}\\mathrm{d}s}\\\\\n",
    "\\frac{\\partial \\phi} {\\partial x_0}&=e^{\\int_{x_0}^x\\mathrm{P(s)}\\mathrm{d}s}P(x)(\\int_{x_0}^x\\mathrm{Q(t)e^{\\int_{x_0}^x\\mathrm{-P(s)}\\mathrm{d}s}}\\mathrm{d}t+y_0)+e^{\\int_{x_0}^x\\mathrm{P(s)}\\mathrm{d}s}Q(x)e^{\\int_{x_0}^x\\mathrm{-P(s)}\\mathrm{d}s}\\\\\n",
    "&=P(x)\\phi+Q(x)\n",
    "\\end{aligned}\n",
    "$$"
   ]
  },
  {
   "cell_type": "markdown",
   "metadata": {},
   "source": [
    "与结论一致。"
   ]
  },
  {
   "cell_type": "markdown",
   "metadata": {},
   "source": [
    "## 3.给定方程$$\\frac{dy} {dx}=\\sin(\\frac{y} {x})$$试求$\\frac{\\partial y(x,x_0,y_0)} {\\partial x_0}$,   $\\frac{\\partial y(x,x_0,y_0)} {\\partial y_0}$ 在$x_0=1$, $y_0=0$ 时的表达式。"
   ]
  },
  {
   "cell_type": "markdown",
   "metadata": {},
   "source": [
    "**解：**设$f(x,y)=\\sin (\\frac{y} {x})$,则$\\frac{\\partial f} {\\partial y}=\\frac{1} {x}\\cos (\\frac{y} {x})$，由解对初值的可微性定理的证明"
   ]
  },
  {
   "cell_type": "markdown",
   "metadata": {},
   "source": [
    "$$\n",
    "\\begin{aligned}\n",
    "\\frac{\\partial y(x,x_0,y_0)} {\\partial x_0}&=-f(x_0,y_0)exp(\\int_{x_0}^x\\mathrm{\\frac{\\partial f(x,\\phi} {\\partial y}}\\mathrm{d}x)\\\\\n",
    "&=-\\sin (\\frac{y_0} {x_0})exp(\\int_{x_0}^x\\mathrm{\\frac{1} {x}\\cos \\frac{y} {x}}\\mathrm{d}x)\\\\\n",
    "\\frac{\\partial y(x,x_0,y_0)} {\\partial y_0}&=exp(\\int_{x_0}^x\\mathrm{\\frac{\\partial f(x,\\phi} {\\partial y}}\\mathrm{d}x)\\\\\n",
    "&=exp(\\int_{x_0}^x\\mathrm{\\frac{1} {x}\\cos \\frac{y} {x}}\\mathrm{d}x)\n",
    "\\end{aligned}\n",
    "$$"
   ]
  },
  {
   "cell_type": "markdown",
   "metadata": {},
   "source": [
    "当$x_0=1$, $y_0=0$ 时 $$\\frac{\\partial y(x,x_0,y_0)} {\\partial x_0}=0$$ $$\\frac{\\partial y(x,x_0,y_0)} {\\partial y_0}=exp(\\int_1^x\\mathrm{\\frac{1} {x}}\\mathrm{d}x)=|x|$$"
   ]
  },
  {
   "cell_type": "markdown",
   "metadata": {},
   "source": [
    "所以，在$x_0=1$, $y_0=0$ 时，$\\frac{\\partial y} {\\partial x_0}=0$， $\\frac{\\partial y} {\\partial y_0}=|x|$"
   ]
  },
  {
   "cell_type": "markdown",
   "metadata": {},
   "source": [
    "## 1.假设函数f(x,y)及$\\frac{\\partial f} {\\partial y}$都在区域G内连续，又$y=\\phi(x,x_0,y_0)$是教材中方程（3.1）满足初始条件$\\phi(x,x_0,y_0)=y_0$的解。试证$\\frac{\\partial f} {\\partial y_0}$存在且连续，并写出其表达式。"
   ]
  },
  {
   "cell_type": "markdown",
   "metadata": {},
   "source": [
    "**解：**$\\frac{\\partial f}{\\partial y}$都在区域G内连续，推知$f(x,y)$在G内关于y满足局部利普希茨条件。因此，在定理的条件下，解对初值的连续性定理成立，即$y=\\varphi(x,x_0,y_0)$在它的存在范围内关于下，$x,x_0,y_0$是连续的，下证偏导数存在且连续\n",
    "先证$\\frac{\\partial {\\varphi}}{\\partial y_0}$存在且连续，设由初值$(x_0,y_0)和(x_0,y_0+{\\Delta}y_0)({\\Delta}y_0\\le{\\alpha},{\\alpha}$为足够小正数），所确定的方程的解分别为\n",
    "\n",
    "$y={\\varphi}(x,x_0,y_0)=\\varphi和y=\\varphi(x,x_0,y_0+{\\Delta}y_0)={\\psi}$\n",
    "\n",
    "即\n",
    "\n",
    "${\\varphi}=y_0+\\int_{x_0}^x\\mathrm {f(x,{\\varphi})}\\mathrm{d}x和{\\psi}=y_0+{\\Delta}y_0+\\int_{x_0}^x\\mathrm {f(x,{\\psi})}\\mathrm{d}x$\n",
    "于是"
   ]
  },
  {
   "cell_type": "markdown",
   "metadata": {},
   "source": [
    "$$\\begin{aligned}{\\psi}-{\\varphi}&={\\Delta}y_0+\\int_{x_0}^x\\mathrm {f(x,{\\psi})}\\mathrm{d}x-\\int_{x_0}^x\\mathrm {f(x,{\\varphi})}\\mathrm{d}x\n",
    "\\\\&={\\Delta}y_0+\\int_{x_0}^x\\mathrm {\\frac{\\partial f(x,{\\varphi}+{\\theta}({\\psi}-{\\varphi})}{\\partial y}({\\psi}-{\\varphi})}\\mathrm{d}x\\end{aligned}$$\n",
    "\n",
    "其中$0<\\theta<1,注意到\\frac{\\partial f}{\\partial y}以及\\partial ,\\psi$的连续性，我们有\n",
    "$$\\frac{\\partial f(x,{\\varphi}+{\\theta}(\\psi-\\varphi)}{\\partial y}=\\frac{\\partial f(x,\\varphi)}{\\partial y}+r_1$$\n",
    "这里$r_1$具有性质：当${\\Delta}y_0$趋近于0时，$r_1$也趋近于零且当${\\Delta}y_0=0$时，$r_1=0$类似有\n",
    "$$\\frac{{\\Delta}y_0}{{\\Delta}y_0}=1+r_2$$\n",
    "\n",
    "其中$r_2,r_1$具有相同的性质，因此对${\\Delta}y_0\\not=0$,有\n",
    "\n",
    "$\\frac{\\psi-\\varphi}{{\\Delta}y_0}=[1+r_2]+\\int_{x_0}{x}\\mathrm {[\\frac{\\partial f(x,{\\varphi})}{\\partial y}+r_1]\\frac{(\\psi-\\varphi)}{{\\Delta}y_0}}\\mathrm{d}x$\n",
    "即$z=\\frac{(\\psi-\\varphi)}{{\\Delta}y_0}\\mathrm{d}x$\n",
    "是初值问题\n",
    "$$\\begin{cases}\\frac{dz}{dx}=[\\frac{\\partial f(x,\\varphi)}{\\partial {y}}+r_1]z\n",
    ",\\\\z(x_0)=1+r_2=z_0\\end{cases}$$\n",
    "的解，在这里${\\Delta}y_0\\not=0$被看成参数，显然，当${\\Delta}y_0=0$时上述初值问题仍然有解。根据解对初值和参数的连续性定理，知$\\frac{\\psi-\\varphi}{{\\Delta}y_0}是x,x_0,z_0,{\\Delta}y_0$的连续函数，从而存在\n",
    "z在${\\Delta}y_0$趋近于0时，$z=\\frac{\\partial {\\varphi}}{\\partial y_0}$\n",
    "而$\\frac{\\partial {\\varphi}}{\\partial y_0}$是初值问题\n",
    "$$\\begin{cases}\\frac{dz}{dx}=\\frac{\\partial f(x,{\\varphi})}{\\partial y}z\n",
    "\\\\z(x_0)=1\\end{cases}$$\n",
    "的解，不难求得\n",
    "$$\\frac{\\partial {\\varphi}}{\\partial y_0}=exp(\\int_{x_0}^{x}\\mathrm {\\partial f(x,{\\varphi})}{\\partial y}\\mathrm{d}x$$"
   ]
  },
  {
   "cell_type": "markdown",
   "metadata": {},
   "source": [
    "## 4.设$y=\\phi(x,x_0,y_0,\\lambda)$是初值问题$$\\frac{dy} {dx}=\\sin(\\lambda xy),y_0=\\phi(x_0,x_0,y_0,\\lambda)$$的饱和解，这里$\\lambda$是参数，求$\\frac{\\partial y} {\\partial x_0}$， $\\frac{\\partial y} {\\partial y_0}$在(x,0,0,1)处的表达式。"
   ]
  },
  {
   "cell_type": "markdown",
   "metadata": {},
   "source": [
    "**解：** "
   ]
  },
  {
   "cell_type": "markdown",
   "metadata": {},
   "source": [
    "这里$f(x,y)=\\sin ({\\lambda}xy),\\frac{\\partial f}{\\partial y}={\\lambda}x\\cos ({\\lambda}xy)$\n",
    "根据解对初值的可微性定理可得\n",
    "$$\\begin{aligned} \\frac{\\partial {\\varphi}}{\\partial x_0}&=-f(x_0,y_0)exp(\\int_{x_0}^x\\mathrm {\\frac{\\partial f(x,{\\varphi})}{\\partial y}}\\mathrm{d}x)\n",
    "\\\\&=-\\sin ({\\lambda}x_0,y_0)exp(\\int_{x_0}^x\\mathrm {\\lambda}x\\cos ({\\lambda}x\\cos ({\\lambda}x{\\varphi})\\mathrm{d}x)\\end{aligned}$$\n",
    "$$\\begin{aligned}\\frac{\\partial {\\varphi}}{\\partial {y_0}}&=exp(\\int_{x_0}^x\\mathrm {\\frac{\\partial f(x,{\\varphi})}{\\partial y}}\\mathrm{d}x)\n",
    "\\\\&=exp(\\int_{x_0}^x\\mathrm {{\\lambda}x\\cos ({\\lambda}x{\\varphi})}\\mathrm{d}x)\\end{aligned}$$\n",
    "当$x_0=1,y_0=0,\\lambda=1$时，有$\\frac{\\partial {\\varphi}}{\\partial x_0},\\frac{\\partial {\\varphi}}{\\partial y_0}在(x,0,0,1)$处的表达式\n",
    "$$\\frac{\\partial {\\varphi}}{\\partial {x_0}}|_{x,0,0,1}=0$$\n",
    "$$\\frac{\\partial {\\varphi}}{\\partial {y_0}}|_{x,0,0,1}=exp(\\int_0^x\\mathrm x\\cos 0\\mathrm{d}x)=exp(\\frac{x^2}{x})$$"
   ]
  },
  {
   "cell_type": "markdown",
   "metadata": {},
   "source": [
    "错误"
   ]
  },
  {
   "cell_type": "markdown",
   "metadata": {},
   "source": [
    "**$A$**"
   ]
  },
  {
   "cell_type": "markdown",
   "metadata": {},
   "source": []
  }
 ],
 "metadata": {
  "kernelspec": {
   "display_name": "SageMath 7.3",
   "language": "",
   "name": "sagemath"
  },
  "language_info": {
   "codemirror_mode": {
    "name": "ipython",
    "version": 2
   },
   "file_extension": ".py",
   "mimetype": "text/x-python",
   "name": "python",
   "nbconvert_exporter": "python",
   "pygments_lexer": "ipython2",
   "version": "2.7.10"
  }
 },
 "nbformat": 4,
 "nbformat_minor": 0
}
