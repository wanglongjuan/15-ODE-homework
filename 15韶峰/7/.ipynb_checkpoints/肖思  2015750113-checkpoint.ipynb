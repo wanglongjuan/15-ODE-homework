{
 "cells": [
  {
   "cell_type": "markdown",
   "metadata": {},
   "source": [
    "# 10.10"
   ]
  },
  {
   "cell_type": "markdown",
   "metadata": {},
   "source": [
    "**1.假设函数 $ P(x) $ 和 $ Q(x) $ 于区间 $ [\\alpha , \\beta] $ 上连续,$ y = \\varphi(x,x_0,y_0) $ 是方程解**\n",
    "\n",
    "$$\\frac {\\mathrm d y}{\\mathrm d x} = P(x)y + Q(x) $$\n",
    "\n",
    "**的解,$ y_0 = \\varphi(x,x_0,y_0) $.试求 $\\frac{\\partial \\varphi}{\\partial x_0} ,\\frac{\\partial \\varphi}{\\partial y_0}$ 及 $\\frac{\\partial \\varphi}{\\partial x} $,并从解的表达式出发,利用对参数求导数的方法,检验所得的结果.**"
   ]
  },
  {
   "cell_type": "markdown",
   "metadata": {},
   "source": [
    "**解:**\n",
    "\n",
    "$ \\because \\frac {\\mathrm d y}{\\mathrm d x} = f(x,y) = P(x)y + Q(x) $\n",
    "\n",
    "$ \\therefore \\frac {\\partial f}{\\partial y} = P(x) $\n",
    "\n",
    "根据解对初值的连续性定理可知: \n",
    "\n",
    "$$\\begin{aligned} \n",
    "& \\frac{\\partial \\varphi } {\\partial x_0} = -f(x_0,y_0)e^{\\int_{x_0}^x \\frac {\\partial f(x,\\varphi)}{\\partial y} \\mathrm d x} = -[P(x_0)y_0 + Q(x_0)] e^{\\int_{x_0}^x P(x_0) \\mathrm d x } \\\\\n",
    "& \\frac{\\partial \\varphi }{\\partial y_0} = e^{\\int_{x_0}^x \\frac {\\partial f(x,\\varphi)}{\\partial y}\\mathrm d x} =  e^{\\int_{x_0}^x P(x) \\mathrm d x} \\\\\n",
    "& \\frac{\\partial \\varphi } {\\partial x} = f(x,\\varphi(x,x_0,y_0)) = P(x) \\varphi (x,x_0,y_0) + Q(x) \n",
    " \\end{aligned}$$\n",
    " "
   ]
  },
  {
   "cell_type": "markdown",
   "metadata": {},
   "source": [
    "因为 $\\frac {\\mathrm d y}{\\mathrm d x} = P(x)y + Q(x) $ 的通解为:\n",
    "\n",
    "$$ y = e^{\\int P(x)\\mathrm d x}[\\int Q(x) e^{- \\int P(x) \\mathrm d x} + c ] $$\n",
    "\n",
    "所以 $ (x_0,y_0) $ 代入可求出常数 $ c = y_0 e^{-\\int P(x_0) \\mathrm d x} - \\int Q(x_0) e^{-\\int P(x_0) \\mathrm d x} \\mathrm d x$\n",
    "\n",
    "则 $$ \\varphi (x,x_0,y_0) = e^{\\int_{x_0}^x P(x) \\mathrm d x}( \\int_{x_0}^x Q(s) e^{ -\\int_{x_0}^s P(t) \\mathrm d t}  \\mathrm d s +y_0) $$\n"
   ]
  },
  {
   "cell_type": "markdown",
   "metadata": {},
   "source": [
    "对参数求导得;\n",
    "\n",
    "$$\\begin{aligned}\n",
    "\\frac {\\partial \\varphi (x,x_0,y_0)}{\\partial x_0} & = -P(x_0) y_0 e^{\\int_{x_0}^x P(x) \\mathrm d x} - Q(x_0) e^{\\int_{x_0}^x  P(x)  \\mathrm d x } \\\\\n",
    "& = -[P(x_0) + Q(x_0)] e^{\\int_{x_0}^x P(x) \\mathrm d x} \n",
    "\\end{aligned}$$\n",
    "\n",
    "$$ \\frac {\\partial \\varphi (x,x_0,y_0)}{\\partial y_0}  = e^{\\int_{x_0}^x P(x) \\mathrm d x} $$\n",
    "\n",
    "$$ \\begin{aligned}\n",
    "\\frac {\\partial \\varphi (x,x_0,y_0)}{\\partial x} & = P(x) y_0 e^{\\int_{x_0}^x P(x) \\mathrm d x} + Q(x) + \\int_{x_0}^x Q(s)P(x)e^{\\int_{s}^x P(x) \\mathrm d x} \\mathrm d x \\\\\n",
    "& = P(x) [y_0 e^{\\int_{x_0}^x P(x) \\mathrm d x } + \\int_{x_0}^x Q(s) e^{\\int_{s}^x P(x) \\mathrm d x} \\mathrm d s ] + Q(x) \\\\\n",
    "& = P(x) \\varphi(x,x_0,y_0) + Q(x)\n",
    "\\end{aligned}$$\n"
   ]
  },
  {
   "cell_type": "markdown",
   "metadata": {},
   "source": [
    "与所求结果相同."
   ]
  },
  {
   "cell_type": "markdown",
   "metadata": {},
   "source": [
    "**2.给定方程**\n",
    "\n",
    "$$\\frac{\\mathrm d y}{\\mathrm d x} = \\sin (\\frac {y}{x}) $$\n",
    "\n",
    "**试求 $ \\frac{\\partial y(x,x_0,y_0)}{\\partial x_0},\\frac{\\partial y(x,x_0,y_0)}{\\partial y_0} $ 在 $ x_0 = 1 ,y_0 = 0 $时的表达式.**\n"
   ]
  },
  {
   "cell_type": "markdown",
   "metadata": {},
   "source": [
    " **解:**\n",
    "\n",
    "设 $ f(x,y) = \\frac{\\mathrm d y}{\\mathrm d x} = \\sin (\\frac {y}{x}) $ ,则 $ \\frac {\\partial f}{\\partial y} = \\frac{1}{x} \\cos \\frac {y}{x} $\n",
    "\n",
    "根据解对初值的连续性定理可知:\n",
    "\n",
    "$$\\begin{aligned} \n",
    " \\frac{\\partial y(x,x_0,y_0) } {\\partial x_0} & = -f(x_0,y_0)e^{\\int_{x_0}^x \\frac {\\partial f(x,\\varphi)}{\\partial y} \\mathrm d x} \\\\\n",
    "& = -\\sin (\\frac{y_0}{x_0}) e^{\\int_{x_0}^x \\frac{1}{x} \\cos \\frac{y}{x}}\n",
    "\\end{aligned}$$"
   ]
  },
  {
   "cell_type": "markdown",
   "metadata": {},
   "source": [
    "$$\\begin{aligned} \n",
    "\\frac{\\partial y(x,x_0,y_0) }{\\partial y_0} & = e^{\\int_{x_0}^x \\frac {\\partial f(x,\\varphi)}{\\partial y}\\mathrm d x} \\\\\n",
    "& =  e^{\\int_{x_0}^x \\frac{1}{x} \\cos \\frac{y}{x} \\mathrm d x}\n",
    "\\end{aligned}$$"
   ]
  },
  {
   "cell_type": "markdown",
   "metadata": {},
   "source": [
    "当$ x_0 = 1 ,y_0 = 0 $时 ,\n",
    "\n",
    "$$\\begin{aligned} \n",
    "\\frac{\\partial y(x,x_0,y_0) } {\\partial x_0} = 0 \\\\\n",
    "\\frac{\\partial y(x,x_0,y_0) } {\\partial y_0} = 1\n",
    "\\end{aligned}$$"
   ]
  },
  {
   "cell_type": "markdown",
   "metadata": {},
   "source": [
    "# 10.12\n"
   ]
  },
  {
   "cell_type": "markdown",
   "metadata": {},
   "source": [
    "**1.假设函数 $ f(x,y) $ 及 $ \\frac{\\partial f}{\\partial y} $ 都在区域 $ G $ 内连续,又 $ y = \\varphi (x,x_0,y_0) $是方程(3.1)满足初值条件 $ \\varphi(x_0,x_0,y_0) $ 的解,试证 $ \\frac{\\varphi}{\\partial y } $存在并且连续,并写出其表达式.**"
   ]
  },
  {
   "cell_type": "markdown",
   "metadata": {},
   "source": [
    "**证明:**\n",
    "\n",
    "记初值为 $ (x_0,y_0 + \\Delta y_0 ) $ 的解为 $ y = \\psi(x,x_0,y_0 + \\Delta y_0) $ ,其中$|\\Delta y_0| \\leq \\alpha $ ,$ \\alpha $ 足够小,则有\n",
    "\n",
    "$$ \\varphi = y_0 + \\int_{x_0}^x f(s,\\varphi(s)) \\mathrm d s , \\psi = y_0 + \\Delta y_0 + \\int_{x_0}^x f(s,\\psi(s)) \\mathrm d s $$\n",
    "\n",
    "$$ \\begin{aligned}\n",
    "\\psi - \\varphi & = \\Delta y_0 + \\int_{x_0}^x [f(s,\\psi(s)) - f(s,\\varphi(s))] \\mathrm ds \\\\\n",
    "& = \\Delta y_0 + \\int_{x_0}^x \\frac{\\partial f(s,\\psi + \\theta(\\psi - \\varphi))}{\\partial y} (\\psi(s) - \\varphi(s))\\mathrm d s\n",
    "\\end{aligned}$$\n",
    "\n",
    "其中 $ \\theta \\in [0,1] $. \n"
   ]
  },
  {
   "cell_type": "markdown",
   "metadata": {},
   "source": [
    "由 $ \\frac{\\partial f}{\\partial y} $ 及 $ \\varphi ,\\psi $ 的连续性,有 $\\frac{f(s,\\psi + \\theta ( \\psi- \\varphi))}{\\partial y} = \\frac{f(s,\\varphi)}{\\partial y} + r $\n",
    "\n",
    "其中 $ r $ 满足: $ \\Delta y_0 \\to 0 $ 时 ,$ r \\to 0 $, $ \\Delta y_0 = 0 $ 时, $ r = 0 $."
   ]
  },
  {
   "cell_type": "markdown",
   "metadata": {},
   "source": [
    "即对 $\\Delta y_0 \\neq 0 $有\n",
    "\n",
    "$$\\frac{\\psi - \\varphi }{\\Delta y_0} = 1 + \\int_{x_0}^x [\\frac{\\partial f(s,\\varphi)}{\\partial y} + r]\\frac{\\psi - \\varphi }{\\Delta y_0} \\mathrm d s $$\n",
    "\n",
    "即 $ z = \\frac {\\psi - \\varphi}{\\Delta y_0} $是微分方程初值问题\n",
    "\n",
    "$$\\begin{cases}\n",
    "\\frac{\\mathrm d x} = [\\frac{\\partial f(x,\\varphi)}{\\partial y} + r]z \\\\\n",
    "z(x_0) = 1\n",
    "\\end{cases}$$\n",
    "\n",
    "的解\n",
    "\n",
    "\n"
   ]
  },
  {
   "cell_type": "markdown",
   "metadata": {},
   "source": [
    "即$$\\frac{\\psi - \\varphi} {\\Delta y_0} = z =e^{\\int_{x_0}^x [\\frac {\\partial f(s,\\varphi)}{\\partial y} + r ] z \\mathrm d x }$$"
   ]
  },
  {
   "cell_type": "markdown",
   "metadata": {},
   "source": [
    "于是 $$\\frac{\\partial \\varphi}{\\partial y_0} = \\lim_{\\Delta y_0 \\to 0} \\frac {\\psi - \\varphi}{\\Delta y_0} = e^{\\int_{x_0}^x \\frac {\\partial f(s,\\varphi )}{\\partial y} \\mathrm  d s}$$"
   ]
  },
  {
   "cell_type": "markdown",
   "metadata": {},
   "source": [
    "所以上式为 $ x ,x_0 ,y_0 $ 的连续函数的表达式"
   ]
  },
  {
   "cell_type": "markdown",
   "metadata": {},
   "source": [
    "**2.设 $ y = \\varphi (x,x_0,y_0) $ 是初值问题 **\n",
    "\n",
    "$$\\frac{\\mathrm d y}{\\mathrm d x} = sin(\\lambda  x y),\\quad \\varphi(x_0,x_0,y_0,\\lambda) = y_0 $$\n",
    "\n",
    "**的饱和解,这里 $\\lambda $ 是参数,求 $ \\frac{\\partial \\varphi}{\\partial x_0} ,\\frac{\\partial \\varphi }{\\partial y_0}$ 在 $ (x,0,0,1) $ 处的表达式.**"
   ]
  },
  {
   "cell_type": "markdown",
   "metadata": {},
   "source": [
    "**解:**\n",
    "\n",
    "设 $ f(x,y) = \\frac{\\mathrm d y}{\\mathrm d x} = sin(\\lambda  x y) , \\frac{\\partial f}{\\partial y} = \\lambda x \\cos(\\lambda x y)$"
   ]
  },
  {
   "cell_type": "markdown",
   "metadata": {},
   "source": [
    "根据解对初值的连续性定理可知: \n",
    "\n",
    "$$\\frac{\\partial \\varphi } {\\partial x_0} = -f(x_0,y_0)e^{\\int_{x_0}^x \\frac {\\partial f(x,\\varphi)}{\\partial y} \\mathrm d x} = -\\sin(\\lambda x_0 y_0) e^{\\int_{x_0}^x \\lambda s \\cos(\\lambda x y) \\mathrm d s} $$\n",
    "\n",
    "$$\\frac{\\partial \\varphi }{\\partial y_0} = e^{\\int_{x_0}^x \\frac {\\partial f(x,\\varphi)}{\\partial y}\\mathrm d x} =  e^{\\int_{x_0}^x \\lambda s \\cos(\\lambda x \\varphi) \\mathrm d s}$$"
   ]
  },
  {
   "cell_type": "markdown",
   "metadata": {},
   "source": [
    "当 $ x_0 = 0,y_0 = 0 ,\\lambda = 1 $ 时,则有 $$\\frac{\\partial \\varphi }{\\partial x_0}  = 0 $$\n",
    "\n",
    "$$\\frac{\\partial \\varphi }{\\partial y_0} = e^{\\frac {x^2}{2}}$$"
   ]
  },
  {
   "cell_type": "markdown",
   "metadata": {
    "collapsed": true
   },
   "source": [
    "**$A$**"
   ]
  },
  {
   "cell_type": "code",
   "execution_count": null,
   "metadata": {
    "collapsed": true
   },
   "outputs": [],
   "source": []
  }
 ],
 "metadata": {
  "kernelspec": {
   "display_name": "SageMath 7.3",
   "language": "",
   "name": "sagemath"
  },
  "language_info": {
   "codemirror_mode": {
    "name": "ipython",
    "version": 2
   },
   "file_extension": ".py",
   "mimetype": "text/x-python",
   "name": "python",
   "nbconvert_exporter": "python",
   "pygments_lexer": "ipython2",
   "version": "2.7.10"
  }
 },
 "nbformat": 4,
 "nbformat_minor": 0
}
