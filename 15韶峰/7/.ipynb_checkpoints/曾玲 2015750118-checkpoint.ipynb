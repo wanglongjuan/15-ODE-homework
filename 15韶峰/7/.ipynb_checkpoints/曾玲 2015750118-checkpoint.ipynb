{
 "cells": [
  {
   "cell_type": "markdown",
   "metadata": {},
   "source": [
    "### 1、假设函数$f(x,y)$及$\\frac{\\partial f}{\\partial y}$都在区域G内连续，又$y=\\varphi(x,x_0,y_0)$ 是方程（3.1）满足初值条件$\\varphi(x_0,x_0,y_0)=y_0$ 的解，试证$\\frac{\\partial \\varphi}{\\partial y_0}$ 存在且连续，并写出其表达式。"
   ]
  },
  {
   "cell_type": "markdown",
   "metadata": {},
   "source": [
    "由初值$(x_0,y_0)和(x_0,y_0+\\bigtriangleup y_0)（\\mid \\bigtriangleup y_0\\mid 足够小）$ 确定方程的解分别为$y=\\varphi(x,x_0,y_0)=\\varphi , y=\\phi(x,x_0,y_0+\\bigtriangleup y_0)$\n",
    "\n",
    "即$$\\varphi=y_0+\\int_{x_0}^x f(x,\\varphi)\\mathrm dx 和 \\phi=y_0+\\bigtriangleup y_0+\\int_{x_0}^x f(x,\\phi)\\mathrm dx  $$\n",
    "于是$$\\begin{aligned}\\phi-\\varphi&=\\bigtriangleup y_0+\\int_{x_0}^x (f(x,\\phi)-f(x,\\varphi))\\mathrm dx \\\\&=\\bigtriangleup y_0+\\int_{x_0}^x \\frac{\\partial f(x,\\varphi+\\theta(\\phi-\\varphi))}{\\partial y}(\\phi-\\varphi)\\mathrm dx \n",
    "\\end{aligned}$$\n",
    "其中$0<\\theta<1$ .注意到$\\frac{\\partial f}{\\partial y} 及 \\varphi , \\phi $  的连续性，有$$\\frac{\\partial f(x,\\varphi+\\theta(\\phi-\\varphi))}{\\partial y}=\\frac{\\partial f(x,\\varphi}{\\partial y}+r_1$$\n",
    "这里$r_1$ 具有性质：当$\\mid \\bigtriangleup y_0\\mid \\to 0 时 ，r_1\\to 0 , 且当\\bigtriangleup y_0=0时 r_1=0 $ \n",
    "\n",
    "因此对$\\bigtriangleup y_0\\neq 0$ 有\n",
    "$$\\frac{\\phi-\\varphi}{\\bigtriangleup y_0}=1+\\int_{x_0}^x[\\frac{\\partial f(x,\\varphi)}{\\partial y}+r_1]\\frac{\\phi-\\varphi}{\\bigtriangleup y_0}\\mathrm dx $$\n",
    "即$$z=\\frac{\\phi-\\varphi}{\\bigtriangleup y_0}$$\n",
    "是初值问题$$\\begin{cases}\n",
    "\\frac{\\mathrm dz}{\\mathrm dx}=[\\frac{\\partial f(x,\\varphi)}{\\partial y}+r_1]z\\\\\n",
    "z(x_0)=1=z_0\n",
    "\\end{cases}$$\n",
    "的解。因而$$\\frac{\\phi-\\varphi}{\\bigtriangleup y_0}=\\exp \\big(\\int_{x_0}^x[\\frac{\\partial f(x,\\varphi)}{\\partial y}+r_1]\\frac{\\phi-\\varphi}{\\bigtriangleup y_0}\\mathrm dx \\big) , $$\n",
    "所以，$$\\frac{\\partial \\varphi}{\\partial y_0}=\\lim_{\\bigtriangleup y_0\\to 0}\\frac{\\phi-\\varphi}{\\bigtriangleup y_0}=\\exp \\big(\\int_{x_0}^x\\frac{\\partial f(x,\\varphi)}{\\partial y}\\mathrm dx \\big)$$\n",
    "它是$x,x_0,y_0$ 的连续函数。"
   ]
  },
  {
   "cell_type": "markdown",
   "metadata": {},
   "source": [
    "### 2、假设函数P(x)和Q(x)于区间$[\\alpha,\\beta]$ 上连续，$y=\\varphi(x,x_0,y_0)$ 是方程 $$\\frac{\\mathrm dy}{\\mathrm dx}=P(x)y+Q(x)$$ 的解，$y_0=\\varphi(x_0,x_0,y_0)$ .试求$\\frac{\\partial \\varphi}{\\partial x_0} , \\frac{\\partial \\varphi}{\\partial y_0} , \\frac{\\partial \\varphi}{\\partial x}$ .并从解的表达式出发，利用对参数求导数的方法，检验所得结果。"
   ]
  },
  {
   "cell_type": "markdown",
   "metadata": {},
   "source": [
    "从上题可知：\n",
    "$\\frac{\\partial \\varphi}{\\partial x_0}=-f(x_0,y_0)e^{\\int_{x_0}^x\\frac{\\partial f(x,\\varphi)}{\\partial y}\\mathrm dx}$\n",
    "\n",
    "$\\frac{\\partial \\varphi}{\\partial y_0}=e^{\\int_{x_0}^x \\frac{\\partial f(x,\\varphi)}{\\partial y}\\mathrm dx}$\n",
    "注意到$y=\\varphi(x,x_0,y_0)$是方程的解，因而$$\\frac{\\partial \\varphi}{\\partial x}=f(x,\\varphi(x,x_0,y_0))$$\n",
    "由题知：$f(x,y)=P(x)y+Q(x)$\n",
    "因此\n",
    "$$\n",
    "\\begin{cases}\n",
    "\\frac{\\partial \\varphi}{\\partial x_0}=-[P(x_0)y_0+Q(x_0)]e^{\\int_{x_0}^xP(x)dx}\\\\\n",
    "\\frac{\\partial \\varphi}{\\partial y_0}=e^{\\int_{x_0}^xP(x)dx}\\\\\n",
    "\\frac{\\partial \\varphi}{\\partial x}=P(x)\\varphi(x,x_0,y_0)+Q(x)\n",
    "\\end{cases}\n",
    "$$\n",
    "由常数变易法得\n",
    "$$\\varphi(x,x_0,y_0)=y=e^{\\int_{x_0}^x P(x) \\mathrm d x}\\big(\\int_{x_0}^x Q(x)e^{-\\int_{x_0}^x P(x)\\mathrm d x}\\mathrm d x+y_0 \\big)$$\n",
    "所以\n",
    "$$\n",
    "\\frac{\\partial \\varphi}{\\partial y_0}=e^{\\int_{x_0}^x P(x)\\mathrm d x}\n",
    "$$\n",
    "$$\n",
    "\\begin{aligned}\n",
    "\\frac{\\partial \\varphi}{\\partial x_0}&=-P(x_0)e^{\\int_{x_0}^x P(x)\\mathrm d x}(\\int_{x_0}^x Q(x)e^{-\\int_{x_0}^x P(x)\\mathrm d x}\\mathrm d x+y_0)+e^{\\int_{x_0}^x P(x)\\mathrm d x}(-Q(x_0)+P(x_0))\\int_{x_0}^x Q(x)e^{-\\int_{x_0}^x P(x)\\mathrm d x}\\mathrm d x\\\\\n",
    "&=-[P(x_0)y_0+Q(x_0)]e^{\\int_{x_0}^x P(x)\\mathrm d x}\n",
    "\\end{aligned}\n",
    "$$\n",
    "$$\n",
    "\\begin{aligned}\n",
    "\\frac{\\partial \\varphi}{\\partial x}&=P(x)e^{\\int_{x_0}^x P(x)\\mathrm d x}(\\int_{x_0}^x Q(x)e^{-\\int_{x_0}^x P(x)\\mathrm d x}\\mathrm d x+y_0)+e^{\\int_{x_0}^x P(x)\\mathrm d x}(Q(x)e^{-\\int_{x_0}^x P(x)\\mathrm d x})\\\\\n",
    "&=P(x）\\varphi(x,x_0,y_0)+Q(x)\n",
    "\\end{aligned}\n",
    "$$"
   ]
  },
  {
   "cell_type": "markdown",
   "metadata": {},
   "source": [
    "**对 $y$ 没有求偏导**"
   ]
  },
  {
   "cell_type": "markdown",
   "metadata": {},
   "source": [
    "### 3、给定方程$$\\frac{\\mathrm dy}{\\mathrm dx}=\\sin(\\frac{y}{x})   , $$  试求$\\frac{\\partial y(x,x_0,y_0)}{\\partial x_0} , \\frac{\\partial y(x,x_0,y_0)}{\\partial y_0}$ 在$x_0=1 ,y_0=0$ 时的表达式。"
   ]
  },
  {
   "cell_type": "markdown",
   "metadata": {},
   "source": [
    "$f(x,y)=\\sin(\\frac{y}{x})$\n",
    "\n",
    "由第二题的结论直接得到：\n",
    "$$\\frac{\\partial y(x,x_0,y_0)}{\\partial x_0}=-f(x_0,y_0)e^{\\int_{x_0}^x\\frac{\\partial f(x,y(x,x_0,y_0))}{\\partial y}dx}=0$$\n",
    "同理可得$$\\frac{\\partial y(x,x_0,y_0)}{\\partial x_0}=e^{\\int_{x_0}^x\\frac{\\partial f(x,y(x,x_0,y_0))}{\\partial y}dx}$$\n",
    "因为$\\frac{\\partial f(x,y(x,x_0,y_0))}{\\partial y}=cos(\\frac{y}{x})\\frac{1}{x}$\n",
    "所以$$\\frac{\\partial y(x,x_0,y_0)}{\\partial x_0}=|x|$$"
   ]
  },
  {
   "cell_type": "markdown",
   "metadata": {},
   "source": [
    "错误"
   ]
  },
  {
   "cell_type": "markdown",
   "metadata": {},
   "source": [
    "### 4、设$y=\\varphi(x,x_0,y_0，\\lambda)$ 是初值问题$$\\frac{\\mathrm dy}{\\mathrm dx}=\\sin(\\lambda xy) ,\\varphi(x_0,x_0,y_0,\\lambda)=y_0$$\n",
    "### 的饱和解，这里$\\lambda$ 是参数，求$\\frac{\\partial \\varphi}{\\partial x_0} , \\frac{\\partial \\varphi}{\\partial y_0} $ 在$（x,0,0,1）$处的表达式。"
   ]
  },
  {
   "cell_type": "markdown",
   "metadata": {},
   "source": [
    "由题意$f(x,y)=\\sin(\\lambda xy)  \\quad \\frac{\\partial f(x,y)}{\\partial y}=\\lambda x\\cos(\\lambda xy)$\n",
    "$\\frac{\\partial \\varphi}{\\partial x_0}=-f(x_0,y_0,\\lambda)e^{\\int_{x_0}^x \\frac{\\partial f(x,\\varphi,\\lambda)}{\\partial y} dx}=0$\n",
    "\n",
    "$$\n",
    "\\frac{\\partial \\varphi}{\\partial y_0}=e^{\\int_{x_0}^x \\frac{\\partial f(x,\\varphi)}{\\partial y} \\mathrm d x}=e^{\\int_0^x \\cos (\\lambda x\\varphi)\\lambda x \\mathrm d x}|_{（x,0,0,1）}=e^{\\frac{x^2}{2}}\n",
    "$$"
   ]
  },
  {
   "cell_type": "markdown",
   "metadata": {
    "collapsed": true
   },
   "source": [
    "*$B^+$*"
   ]
  },
  {
   "cell_type": "code",
   "execution_count": null,
   "metadata": {
    "collapsed": true
   },
   "outputs": [],
   "source": []
  }
 ],
 "metadata": {
  "kernelspec": {
   "display_name": "SageMath 7.3",
   "language": "",
   "name": "sagemath"
  },
  "language_info": {
   "codemirror_mode": {
    "name": "ipython",
    "version": 2
   },
   "file_extension": ".py",
   "mimetype": "text/x-python",
   "name": "python",
   "nbconvert_exporter": "python",
   "pygments_lexer": "ipython2",
   "version": "2.7.10"
  }
 },
 "nbformat": 4,
 "nbformat_minor": 0
}
