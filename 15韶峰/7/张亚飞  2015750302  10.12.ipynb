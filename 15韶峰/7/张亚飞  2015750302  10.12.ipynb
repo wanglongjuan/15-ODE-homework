{
 "cells": [
  {
   "cell_type": "markdown",
   "metadata": {},
   "source": [
    "# 习题3.3"
   ]
  },
  {
   "cell_type": "markdown",
   "metadata": {},
   "source": [
    "1.证明：\n",
    "\n",
    "$设由初值(x_0,y_0+\\bigtriangleup y_0)(|\\bigtriangleup y_0| \\leq \\alpha，\\alpha为足够小正数)和(x_0,y_0)所确定的解分别为$\n",
    "$$y=\\varphi(x,x_0,y_0+\\bigtriangleup y_0)=\\widetilde{\\varphi}和y=\\varphi(x,x_0,y_0)=\\varphi$$\n",
    "即\n",
    "$$\\varphi=y_0+\\int_{x_0}^x f(x,\\varphi)dx$$\n",
    "$$\\widetilde{\\varphi}=y_0+\\bigtriangleup y_0+\\int_{x_0}^x f(x,\\widetilde{\\varphi})dx$$\n",
    "则\n",
    "$$\\widetilde{\\varphi}-\\varphi=\\bigtriangleup y_0+\\int_{x_0}^x [f(x,\\widetilde{\\varphi})-f(x,\\varphi)]dx=\\bigtriangleup y_0+\\int_{x_0}^x \\frac{\\partial f(x,\\varphi+\\theta(\\widetilde{\\varphi}-\\varphi))}{\\partial y}(\\widetilde{\\varphi}-\\varphi)dx$$\n",
    "可以得到\n",
    "$$\\frac{\\partial f(x,\\varphi+\\theta(\\widetilde{\\varphi}-\\varphi)}{\\partial y}=\\frac{\\partial f(x,\\varphi)}{\\partial y}+r_3$$\n",
    "$并且当\\bigtriangleup y_0  \\to 0,r_3 \\to 0，当\\bigtriangleup y_0=0,r_3=0$\n",
    "进而得\n",
    "$$\\frac{\\widetilde{\\varphi}-\\varphi}{\\bigtriangleup y_0}=1+\\frac{1}{\\bigtriangleup y_0}\\int_{x_0}^x (\\frac{\\partial f(x,\\varphi)}{\\partial y}+r_3)(\\widetilde{\\varphi}-\\varphi)dx$$\n",
    "\n",
    "即\n",
    "$$z=\\frac{\\widetilde{\\varphi}-\\varphi}{\\bigtriangleup y_0}$$\n",
    "是初值问题\n",
    "\n",
    "$$\\begin{cases} \n",
    "\\frac{dz}{dx}=[\\frac{\\partial f(x,\\varphi)}{\\partial y}+r_3]z\\\\\n",
    "z(x_0)=1\n",
    "\\end{cases} $$\n",
    "\n",
    "的解\n",
    "\n",
    "因而$$\\frac{\\widetilde{\\varphi}-\\varphi}{\\bigtriangleup y_0}=exp(\\int_{x_0}^x \\frac{\\partial f(x,\\varphi)}{\\partial y\n",
    "}+r_3)$$\n",
    "\n",
    "$在这里\\bigtriangleup y_0 \\neq 0 被看成参数，显然，\\bigtriangleup y_0=0时上述初值问题仍然有解$\n",
    "\n",
    "故有$$\\frac{\\partial \\varphi}{\\partial y_0}=\\lim_{\\bigtriangleup y_0 \\to 0} \\frac{\\widetilde{\\varphi}-\\varphi}{\\bigtriangleup y_0}=exp{\\int_{x_0}^x (\\frac{\\partial f(x,\\varphi)}{\\partial y})dx}$$\n",
    "\n",
    "$它是x,x_0,y_0的连续函数。$\n",
    "\n",
    "\n"
   ]
  },
  {
   "cell_type": "markdown",
   "metadata": {},
   "source": [
    "### 2、"
   ]
  },
  {
   "cell_type": "markdown",
   "metadata": {},
   "source": [
    "解：\n",
    "\n",
    "由公式可得:\n",
    "$$\\frac{\\partial \\varphi}{\\partial x_0}=-f(x_0,y_0)e^{\\int_{x_0}^x (\\frac{\\partial f(x,\\varphi)}{\\partial y})dx}=-[P(x_0)y_0+Q(x_0)]e^{\\int_{x_0}^x P(x)dx}$$\n",
    "\n",
    "$$\\frac{\\partial \\varphi}{\\partial y_0}=e^{\\int_{x_0}^x (\\frac{\\partial f(x,\\varphi)}{\\partial y})dx}=e^{\\int_{x_0}^x P(x)dx}$$\n",
    "\n",
    "$$\\frac{\\partial \\varphi}{\\partial x}=f(x,\\varphi(x,x_0,y_0))=P(x)\\varphi(x,x_0,y_0)+Q(x)$$\n",
    "\n",
    "由解的表达式出发进行的检验：\n",
    "\n",
    "解的表达式为$$y=e^{\\int P(x)dx}(\\int Q(x)e^{-\\int P(x)dx}dx+c)$$\n",
    "具有初始条件$y(x_0)=y_0$的特解可以写成\n",
    "$$y=\\varphi (x,x_0,y_0)=e^{\\int_{x_0}^x P(s)ds}(\\int_{x_0}^x Q(t)e^{\\int_{x_0}^t -P(s)ds}dt+y_0)$$\n",
    "\n",
    "利用导数求导法得$$\\frac{\\partial\\varphi}{\\partial x_0}=(-P(x_0))e^{\\int_{x_0}^x P(s)ds}(\\int_{x_0}^x Q(t)e^{\\int_{x_0}^t -P(s)ds}dt+y_0)+\n",
    "e^{\\int_{x_0}^x P(s)ds}[-Q(x_0)e^{\\int_{x_0}^x-P(s)ds}+(P(x_0)\\int_{x_0}^x Q(t)e^{\\int_{x_0}^t -P(s)ds}]dt=-[P(x_0)y_0+Q(x_0)]e^{\\int_{x_0}^x P(x)dx}$$\n",
    "$$\\frac{\\partial\\varphi}{\\partial y_0}=e^{\\int_{x_0}^xP(s)ds}$$\n",
    "$$\\frac{\\partial\\varphi}{\\partial x}=e^{\\int_{x_0}^xP(s)ds}P(x)(\\int_{x_0}^x Q(t)e^{\\int_{x_0}^t -P(s)ds}dt+y_0)+e^{\\int_{x_0}^tP(s)ds}Q(x)e^{\\int_{x_0}^t -P(s)ds}=P(x)\\varphi(x,x_0,y_0)+Q(x)$$\n",
    "验证后结果一致。\n",
    "\n"
   ]
  },
  {
   "cell_type": "markdown",
   "metadata": {},
   "source": [
    "### 3、"
   ]
  },
  {
   "cell_type": "markdown",
   "metadata": {},
   "source": [
    "解：\n",
    "$令f(x,y)=sin(\\frac{y}{x})$\n",
    "\n",
    "因为$$-f(x_0,y_0)=-sin(\\frac{y_0}{x_0})$$\n",
    "\n",
    "$当x_0=1,y_0=0时，-f(x_0,y_0)=0$\n",
    "\n",
    "所以$$\\frac{\\partial y(x,x_0,y_0)}{\\partial x_0}=0$$\n",
    "解得唯一性得过$(1,0)$的解为$$y=0$$\n",
    "\n",
    "所以$$\\frac{\\partial y(x,x_0,y_0)}{\\partial y_0}=e^{\\int_1^x  \\frac{1}{x}cos\\frac{y}{x}dx}=e^{\\int_1^x \\frac{1}{x}cos0dx }=e^{ln|x|}=|x|$$"
   ]
  },
  {
   "cell_type": "markdown",
   "metadata": {},
   "source": [
    "### 4、"
   ]
  },
  {
   "cell_type": "markdown",
   "metadata": {},
   "source": [
    "解：\n",
    "\n",
    "当$\\lambda=1$时\n",
    "$$\\frac{dy}{dx}=sin(xy)$$\n",
    "令$f(x,y)=sin(xy)$\n",
    "因为$-f(0,0)=0$\n",
    "\n",
    "所以$$\\frac{\\partial \\varphi}{\\partial x_0}=0$$\n",
    "由解的唯一性知过$(0,0)$的解为$$y=0$$\n",
    "所以$$\\frac{\\partial \\varphi}{\\partial y_0}=e^{\\int_0^x xdx}=e^{\\frac{1}{2}x^2}$$\n"
   ]
  },
  {
   "cell_type": "markdown",
   "metadata": {
    "collapsed": true
   },
   "source": [
    "**$B^-$**"
   ]
  },
  {
   "cell_type": "code",
   "execution_count": null,
   "metadata": {
    "collapsed": true
   },
   "outputs": [],
   "source": []
  }
 ],
 "metadata": {
  "kernelspec": {
   "display_name": "SageMath 7.3",
   "language": "",
   "name": "sagemath"
  },
  "language_info": {
   "codemirror_mode": {
    "name": "ipython",
    "version": 2
   },
   "file_extension": ".py",
   "mimetype": "text/x-python",
   "name": "python",
   "nbconvert_exporter": "python",
   "pygments_lexer": "ipython2",
   "version": "2.7.10"
  }
 },
 "nbformat": 4,
 "nbformat_minor": 0
}
