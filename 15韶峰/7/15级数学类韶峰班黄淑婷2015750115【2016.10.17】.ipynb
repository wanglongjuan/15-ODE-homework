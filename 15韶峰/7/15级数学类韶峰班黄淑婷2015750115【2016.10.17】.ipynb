{
 "cells": [
  {
   "cell_type": "markdown",
   "metadata": {},
   "source": [
    "# 常微分作业——15数学类韶峰班黄淑婷（2015750115）"
   ]
  },
  {
   "cell_type": "markdown",
   "metadata": {},
   "source": [
    "1.假设函数$f(x,y)$及$\\frac{\\partial f}{\\partial y}$都在区域G内连续，又$y=\\varphi(x,x_0,y_0)$是方程$\\frac{dy}{dx}=f(x,y)$满足初值条件$\\varphi(x_0,x_0,y_0)=y_0$的解，试证$\\frac{\\partial\\varphi}{\\partial y_0}$存在且连续，并写出其表达式。"
   ]
  },
  {
   "cell_type": "markdown",
   "metadata": {},
   "source": [
    "解：\n",
    "因为 $f(x,y)$ 以及$\\frac{\\partial f}{\\partial y}$在 $G$ 内连续，所以 $f(x,y)$ 在 $G$ 内满足 $lipschita$ 条件，所以 $y=\\varphi(x,x_0,y_0)$,在存在范围内连续。\n",
    "\n",
    "设初值$(x_0,y_0)$和$(x_0,y_0+\\Delta y_0)$所确定的方程为$y=\\varphi(x,x_0,y_0),y=\\psi(x,x_0,y_0+\\Delta y_0)$\n",
    "\n",
    "$$\\implies \\psi-\\varphi=\\Delta y_0+\\int^x_{x_0}(f(x,\\varphi)-f(x,\\psi))dx\\\\\n",
    "=\\Delta y_0+\\int^x_{x_0}\\frac{\\partial f(x,\\varphi+\\theta(\\psi-\\varphi))}{\\varphi y}(\\psi-\\varphi)dx$$\n",
    "$$\\implies \\frac{\\partial f(x,\\varphi+\\theta(\\psi-\\varphi))}{\\partial y}=\\frac{\\partial f(x,\\varphi)}{\\partial y}+r_1$$\n",
    "\n",
    "在$\\Delta y_0$趋近0时，$r_1$=0,因此\n",
    "$$\\frac{\\psi-\\varphi}{\\Delta y_0}=1+\\int^x_{x_0}\\frac{(\\partial f(x,\\varphi)}{\\partial y}+r_1)\\frac{\\psi-\\varphi}{\\Delta y_0}dx$$\n",
    "\n",
    "$\\implies z=\\frac{\\psi-\\varphi}{\\Delta y_0}$是初值问题$$\\begin{cases}\n",
    "                                      \\frac{dz}{dy}=\\frac{\\partial f(x,\\varphi)}{\\partial y}z\\\\\n",
    "                                      z(x_0)=1\n",
    "                                      \\end{cases}$$\n",
    "的解，当$\\Delta y_0=0$时，也有解。\n",
    "\n",
    "因为解对初值和参数的连续性，$\\frac{\\psi-\\varphi}{\\Delta y_0}$是关于$x,x_0,y_0$的连续函数，所以存在\n",
    "$$\\lim_{\\Delta y_0\\rightarrow 0}\\frac{\\psi-\\varphi}{\\Delta y_0}=\\frac{\\partial \\varphi}{\\partial y_0}$$\n",
    "\n",
    "而$\\frac{\\partial f}{\\partial y_0}$是初值问题\n",
    "$$\\begin{cases}\n",
    "\\frac{dz}{dy}=\\frac{\\partial f(x,\\varphi)}{\\partial y}z\\\\\n",
    "z(x_0)=1\n",
    "\\end{cases}$$\n",
    "的解\n",
    "\n",
    "$$\\implies\\frac{\\partial f}{\\partial y_0}=exp\\int^x_{x_0}\\frac{\\partial f(x,\\varphi)}{\\partial y}dx$$"
   ]
  },
  {
   "cell_type": "markdown",
   "metadata": {},
   "source": [
    "2.假设函数 $P(x)$ 和 $Q(x)$ 于区间　$[\\alpha,\\beta]$ 上连续，$y=\\varphi(x,x_0,y_0)$ 是方程 $\\frac{\\mathrm dy}{\\mathrm dx}=P(x)y+Q(x)$ 的解， $y_0=\\varphi(x_0,x_0,y_0)$.试求 $\\frac{\\partial\\varphi}{\\partial x_0},\\frac{\\partial\\varphi}{\\partial y_)},\\frac{\\partial\\varphi}{\\partial x}$，并从解的表达式出发，利用对参数求导数的方法，检验所得结果。"
   ]
  },
  {
   "cell_type": "markdown",
   "metadata": {},
   "source": [
    "解：这里 $f(x,y)=P(x)y+Q(x),\\frac{\\partial f}{\\partial y}=P(x)$ ,初使条件为 $y_0=\\varphi(x_0,x_0,y_0)$ .由解对初值的可微性定理得\n",
    "$$\\frac{\\partial\\varphi}{\\partial x_0}=-f(x_0,y_0)exp(\\int_{x_0}^x \\frac{\\partial f(x,\\varphi)}{\\partial y}\\mathrm dx)\\\\\n",
    "                          =-(P(x_0)y_0+Q(x_0))exp(\\int_{x_0}^x P(x)\\mathrm dx)$$,\n",
    "$$\\frac{\\partial\\varphi}{\\partial y_0}=exp(\\int_{x_0}^x \\frac{\\partial f(x,\\varphi)}{\\partial y}\\mathrm dx)\\\\\n",
    "                          =exp(\\int_{x_0}^x P(x)\\mathrm dx)$$,\n",
    "$$\\frac{\\partial\\varphi}{\\partial x}=f(x,\\varphi(x,x_0,y_0))=P(x)\\varphi(x,x_0,y_0)+Q(x)$$.\n",
    "方程 $\\frac{\\mathrm dy}{\\mathrm dx}=P(x)y+Q(x)$ 的通解为\n",
    "$$y=e^{\\int P(x)\\mathrm dx}(\\int Q(x) e^{-\\int P(x)\\mathrm dx}\\mathrm dx+c)$$\n",
    "方程 $\\frac{\\mathrm dy}{\\mathrm dx}=P(x)y+Q(x)$ 的具有初始条件 $y(x_0)=x_0$ 的特解为\n",
    "$$y=\\varphi(x,x_0,y_0)=e^{\\int_{x_0}^x P(s)\\mathrm ds}(\\int_{x_0}^x Q(t) e^{\\int_{x_0}^t -P(s)\\mathrm ds} \\mathrm dt+y_0)$$,\n",
    "对参数求导得到\n",
    "$$\\frac{\\partial\\varphi}{\\partial x_0}=e^{\\int_{x_0}^x P(s)\\mathrm ds}(-P(x_0))(\\int_{x_0}^x Q(t)e^{\\int_{x-0}^t -P(s)\\mathrm ds}\\mathrm dt+y_0)+e^{\\int_{x_0}^x P(s)\\mathrm ds}[-Q(x_0)e^{\\int_{x_0}^x -P(s)\\mathrm ds}+(\\int_{x_0}^x Q(t)e^{\\int_{x_0}^t -P(s)\\mathrm ds}\\mathrm dt)P(x_0)]\\\\=-(P(x_0)y_0+Q(x_0))e^{\\int_{x_0}^x P(s)\\mathrm ds}$$,\n",
    "$$\\frac{\\partial\\varphi}{\\partial y_0}=e^{\\int_{x_0}^x P(s)\\mathrm ds}$$,\n",
    "$$\\frac{\\partial\\varphi}{\\partial x}=e^{\\int_{x_0}^x P(s)\\mathrm ds} P(x) (\\int_{x_0}^x Q(t)e^{\\int_{x_0}^t (-P(s))\\mathrm ds\\mathrm dt+y_0})+e^{\\int_{x_0}^t P(s)\\mathrm ds} Q(x) e^{\\int_{x_0}^t -P(s)\\mathrm ds}\\\\\n",
    "=P(x)\\varphi+Q(x)$$\n",
    "经验证，与前面得出结论一致。"
   ]
  },
  {
   "cell_type": "markdown",
   "metadata": {},
   "source": [
    "3.给定方程 $\\frac{\\mathrm dy}{\\mathrm dx}=\\sin(\\frac{y}{x})$,试求 $\\frac{\\partial y(x,x_0,y_0)}{\\partial x_0},\\frac{\\partial y(x,x_0,y_0)}{\\partial y_0}$ 在 $x_0=1,y_0=0$ 时的表达式。"
   ]
  },
  {
   "cell_type": "markdown",
   "metadata": {},
   "source": [
    "解：\n",
    "这是 $f(x,y)=sin(\\frac{y}{x})$ 在 $（1,0）$ 某领域内满足解对初值可微性定理条件， 由公式\n",
    "\n",
    "$$\\frac{\\partial y(x,x_0,y_0)}{\\partial x_0}|_{(1,0)}=-f(x_0,y_0)exp\\int^x_{x_0}\\frac{\\partial f(x,y)}{\\partial y}dx)|_{(1,0)},\\frac{\\partial y(x,x_0,y_0)}{\\partial y_0}$$\n",
    "\n",
    "$$\\frac{\\partial y(x,x_0,y_0)}{\\partial y_0}|_{(1,0)}=exp[\\int^x_{x_0}\\frac{\\partial f(x,y)}{\\partial y}dx]|_{(1,0)}\\\\\n",
    "                                    =exp[\\int^x_{x_0}\\frac{1}{x}cos(\\frac{y}{x})dx|_{(1,0)}\\\\\n",
    "                                    exp\\int^x_1cos\\frac{y(x,1,0)}{x}dx$$\n",
    " \n",
    "易见 $y=0$ 是原方程 $$\\frac{dy}{dx}=\\sin(\\frac{y}{x})$$满足初始条件有$y（1）=0$的解\n",
    "\n",
    "Qy（x，1,0）=0\n",
    "\n",
    "所以 $$cos\\frac{y(x,1,0)}{x}=cos 0=1$$\n",
    "\n",
    "$$\\frac{\\partial y(x,x_0,y_0)}{\\partial y}|_{x_0=1,y=0}=exp\\int^x_1\\frac{1}{x}dx=|x|$$"
   ]
  },
  {
   "cell_type": "markdown",
   "metadata": {},
   "source": [
    "4.设 $y=\\varphi(x,x_0,y_0,\\lambda)$ 是初值问题，$$\\frac{dy}{dx}=\\sin\\lambda xy,\\varphi(x_0,x_0,y_0,\\lambda)=y_0$$ 的饱和解，这里 $\\lambda$ 是参数，求 $\\frac{\\partial\\varphi}{\\partial x_0},\\frac{\\partial\\varphi}{\\partial y_0}$ 在 $（x，0，0，1）$ 处的表达式。"
   ]
  },
  {
   "cell_type": "markdown",
   "metadata": {},
   "source": [
    "解:\n",
    "$$\\frac{\\partial\\varphi}{\\partial x_0}=-f(x_0,y_0,\\lambda)exp[\\int^x_{x_0}\\frac{\\partial f(x,\\varphi,\\lambda)}{\\partial y}dx]=0$$\n",
    "\n",
    "$$\\frac{\\partial\\varphi}{\\partial y_0}=exp[\\int^x_{x_0}\\frac{\\partial f(x,\\varphi,\\lambda)}{\\partial y}dx]\\\\\n",
    "                          =exp[\\int^x_{x_0}cos(\\lambda x\\varphi)|_{\\varphi=0}\\lambda xdx]$$\n",
    "                          \n",
    "$$exp[\\frac{\\lambda}{2}(x^2-x^2_0)]=exp(\\frac{x^2}{2})$$"
   ]
  },
  {
   "cell_type": "markdown",
   "metadata": {},
   "source": [
    "**B**"
   ]
  },
  {
   "cell_type": "code",
   "execution_count": null,
   "metadata": {
    "collapsed": true
   },
   "outputs": [],
   "source": []
  }
 ],
 "metadata": {
  "kernelspec": {
   "display_name": "SageMath 7.3",
   "language": "",
   "name": "sagemath"
  },
  "language_info": {
   "codemirror_mode": {
    "name": "ipython",
    "version": 2
   },
   "file_extension": ".py",
   "mimetype": "text/x-python",
   "name": "python",
   "nbconvert_exporter": "python",
   "pygments_lexer": "ipython2",
   "version": "2.7.10"
  }
 },
 "nbformat": 4,
 "nbformat_minor": 0
}
