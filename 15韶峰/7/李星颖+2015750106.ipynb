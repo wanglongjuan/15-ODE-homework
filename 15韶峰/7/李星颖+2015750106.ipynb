{
 "cells": [
  {
   "cell_type": "markdown",
   "metadata": {},
   "source": [
    "# 《解对初值的连续性和可微性定理》作业"
   ]
  },
  {
   "cell_type": "markdown",
   "metadata": {},
   "source": [
    "## 一：假设函数$f(x,y)$及$\\frac{\\partial f}{\\partial y}$都在区域G内连续，又$y=\\varphi(x,x_0,y_0)$是方程$(3.1)$满足初值条件$\\varphi(x,x_0,y_0)=y_0$的解，试证$\\frac{\\partial \\varphi}{\\partial y_0}$存在且连续，并写出其表达式。"
   ]
  },
  {
   "cell_type": "markdown",
   "metadata": {},
   "source": [
    "**解**：\n",
    "\n",
    "设$y=\\varphi (x,x_0,y_0+\\Delta y_0)=\\tilde{\\psi}$为初值$(x_0,y_0+\\Delta y_0)(|\\Delta y_0|\\leq \\alpha)$所确定的解。类似**解对初值的可微性定理**推演可证$\\frac{\\tilde{\\psi-\\varphi}}{\\Delta y_0}$是初值问题$\\begin{cases}\\frac{\\mathrm d z}{\\mathrm d x}=[\\frac{\\partial f(x,\\varphi)}{\\partial y}+r_3]z,\\\\z(x_0)=1\\end{cases}$的解。因而$$\\frac{\\tilde{\\psi}-\\varphi}{\\Delta y_0}=\\exp(\\int_{x_0}^{x}[\\frac{\\partial f(x,\\varphi)}{\\partial y}+r_3]\\mathrm dx)$$其中$r_3$具有性质：当$\\Delta y_0\\to 0$时$r_3 \\to 0$，且$\\Delta y_0=0$时$r_3=0$。\n",
    "\n",
    "故有$$\\frac{\\partial \\varphi}{\\partial y_0}=\\lim_{\\Delta \\to 0}\\frac{\\tilde{\\psi}-\\varphi}{\\Delta y_0}=\\exp(\\int_{x_0}^{x}[\\frac{\\partial f(x,\\varphi)}{\\partial y}]\\mathrm dx)$$它是$x,x_0,y_0$的连续函数。Q.E.D"
   ]
  },
  {
   "cell_type": "code",
   "execution_count": null,
   "metadata": {
    "collapsed": true
   },
   "outputs": [],
   "source": []
  },
  {
   "cell_type": "markdown",
   "metadata": {},
   "source": [
    "## 二：假设函数$P(x)$和$Q(x)$于区间$[\\alpha,\\beta]$上连续，$y=\\varphi(x,x_0,y_0)$是方程$$\\frac{\\mathrm dy}{\\mathrm dx}=P(x)y+Q(x)$$的解，$y_0=\\varphi(x_0,x_0,y_0)$。试求$\\frac{\\partial \\varphi}{\\partial x_0}$,$\\frac{\\partial \\varphi}{\\partial y_0}$及$\\frac{\\partial \\varphi}{\\partial x}$，并从解的表达式出发，利用对参数求导的方法，检验所得结果。"
   ]
  },
  {
   "cell_type": "markdown",
   "metadata": {},
   "source": [
    "**解**：\n",
    "\n",
    "$$\\frac{\\partial f}{\\partial y}=P(x)$$。\n",
    "由解对初值的可微性定理得$$\\frac{\\partial\\varphi}{\\partial x_0}=-[P(x_0)y_0+Q(x_0)]\\exp[\\int_{x_0}^{x}P(s)\\mathrm ds]$$$$\\frac{\\partial\\varphi}{\\partial x_0}=\\exp[\\int_{x_0}^{x}P(s)\\mathrm ds]$$$$\\frac{\\partial \\varphi}{\\partial x}=P(x)\\varphi(x,x_0,y_0)+Q(x)$$。\n",
    "因为非齐次线性方程有解的表达式$$y=e^{\\int P(x)\\mathrm dx}[\\int Q(x)e^{-\\int P(x)\\mathrm dx}\\mathrm dx +C]$$.于是$\\varphi(x,x_0,y_0)=y_0\\cdot e^{\\int_{x_0}^{x}P(x)\\mathrm dx}+\\int_{x_0}^{x}Q(s)\\int_{x_0}^{x}e^{P(t)\\mathrm dt}\\mathrm ds$,\n",
    "\n",
    "对参数求导得\n",
    "$$\\frac{\\partial\\varphi}{\\partial x_0}=-[P(x_0)y_0+Q(x_0)]\\exp[\\int_{x_0}^{x}P(s)\\mathrm ds]$$$$\\frac{\\partial\\varphi}{\\partial x_0}=\\exp[\\int_{x_0}^{x}P(s)\\mathrm ds]$$$$\\frac{\\partial \\varphi}{\\partial x}=P(x)\\varphi(x,x_0,y_0)+Q(x)$$。\n",
    "\n",
    "两种方式结果一致。Q.E.D"
   ]
  },
  {
   "cell_type": "code",
   "execution_count": null,
   "metadata": {
    "collapsed": true
   },
   "outputs": [],
   "source": []
  },
  {
   "cell_type": "markdown",
   "metadata": {},
   "source": [
    "## 三：给定方程$$\\frac{\\mathrm dy}{\\mathrm dx}=\\sin(\\frac{y}{x})$$，试求$\\frac{\\partial y(x,x_0,y_0)}{\\partial x_0}$,$\\frac{\\partial y(x,x_0,y_0)}{\\partial y_0}$在$x_0=1,y_0=0$时的表达式。"
   ]
  },
  {
   "cell_type": "markdown",
   "metadata": {},
   "source": [
    "**解**：\n",
    "\n",
    "易知$y=0$是其在点$(1,0)$的特解，又因为解的唯一性，可知特解唯一。\n",
    "令$f(x,y)=\\sin(\\frac{y}{x})$则$\\frac{\\partial f}{\\partial x}=\\frac{1}{x}\\cos(\\frac{y}{x}$.由解对初值的可微性定理可知，$$\\frac{\\partial y(x,x_0,y_0)}{\\partial x_0}=-\\sin(\\frac{y_0}{x_0})\\exp(\\int_{x_0}^{x}\\frac{1}{s}\\cos \\frac{y}{s}\\mathrm ds)$$$$\\frac{\\partial y(x,x_0,y_0)}{\\partial y_0}=\\exp(\\int_{x_0}^{x}\\frac{1}{s}\\cos \\frac{y}{s}\\mathrm ds)$$当$x_0=1,y_0=0$时，$y=0$,且对应地得到$$\\frac{\\partial y(x,x_0,y_0)}{\\partial x_0}|_{x_0=1,y_0=0}=0$$,$$\\frac{\\partial y(x,x_0,y_0)}{\\partial x_0}|_{x_0=1,y_0=0}=\\exp(\\int_{1}^{x}\\frac{1}{s}\\mathrm ds)=|x|$$。"
   ]
  },
  {
   "cell_type": "code",
   "execution_count": null,
   "metadata": {
    "collapsed": true
   },
   "outputs": [],
   "source": []
  },
  {
   "cell_type": "markdown",
   "metadata": {},
   "source": [
    "## 四：设$y=\\varphi(x,x_0,y_0,\\lambda)$是初值问题$$\\frac{\\mathrm dy}{\\mathrm dx}=\\sin(\\lambda xy),\\varphi(x_0,x_0,y_0,\\lambda)=y_0 $$的饱和解，这$\\lambda$是参数，求$\\frac{\\partial \\varphi}{\\partial x_0}$,$\\frac{\\partial \\lambda }{\\partial y_0}$在$(x,0,0,1)$处的表达式。"
   ]
  },
  {
   "cell_type": "markdown",
   "metadata": {},
   "source": [
    "**解**：\n",
    "\n",
    "易知$y=0$是其在点$(0,0)$的特解，又因为解的唯一性，可知特解唯一。令$f(x,y)=\\sin(\\lambda xy),\\frac{\\partial f}{\\partial y}=\\lambda x\\cos(\\lambda xy)$.\n",
    "\n",
    "由解对初值的可微性得$$\\frac{\\partial \\varphi}{\\partial x_0}=-\\sin(\\lambda x_0 y_0)\\exp(\\int_{x_0}^{x}\\lambda s \\cos(\\lambda s \\varphi)\\mathrm ds)$$,$$\\frac{\\partial \\varphi}{\\partial y_0}=\\exp(\\int_{x_0}^{x}\\lambda s \\cos(\\lambda s)\\varphi)\\mathrm ds$$。\n",
    "\n",
    "因为当$x_0=0,y_0=0,\\lambda =1$时，特解$\\varphi$=0,所以有$$\\frac{\\partial \\varphi}{\\partial x_0}|{(x,0,0,1)}=0$$,$$\\frac{\\partial \\varphi}{\\partial y_0}|(x,0,0,1)=e^{\\frac{x^2}{2}}$$。\n"
   ]
  },
  {
   "cell_type": "markdown",
   "metadata": {
    "collapsed": true
   },
   "source": [
    "**$A^-$**"
   ]
  },
  {
   "cell_type": "code",
   "execution_count": null,
   "metadata": {
    "collapsed": true
   },
   "outputs": [],
   "source": []
  }
 ],
 "metadata": {
  "kernelspec": {
   "display_name": "SageMath 7.3",
   "language": "",
   "name": "sagemath"
  },
  "language_info": {
   "codemirror_mode": {
    "name": "ipython",
    "version": 2
   },
   "file_extension": ".py",
   "mimetype": "text/x-python",
   "name": "python",
   "nbconvert_exporter": "python",
   "pygments_lexer": "ipython2",
   "version": "2.7.10"
  }
 },
 "nbformat": 4,
 "nbformat_minor": 0
}
