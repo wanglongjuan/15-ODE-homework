{
 "cells": [
  {
   "cell_type": "markdown",
   "metadata": {
    "collapsed": true
   },
   "source": [
    "**1**\n",
    "$解$\n",
    "$由初值（x_0,y_0）和（x_0,y_0+\\Delta y_0）所确定的解 $\n",
    "\n",
    "$\\varphi=y=\\varphi(x,x_0,y_0)和y=\\varphi(x,x_0,y_0+\\Delta  y_0)=\\psi$\n",
    "\n",
    "$\\varphi=y_0+\\int_{x_0}^x f(x,\\varphi) dx$\n",
    "\n",
    "$\\psi=y_0+\\Delta y_0+\\int_{x_0}^x f(x,\\psi)dX$\n",
    "\n",
    "$\\psi-\\varphi=\\Delta+\\int_{x_0}^x [f(x,\\psi)-f(x,\\varphi)dx$\\\n",
    "$\\Delta y_0+\\int_{x_0}^x [frac{{\\partial}f(x,\\varphi+\\theta(\\psi-\\varphi))(\\psi-\\varphi)}{\\partial y}]dx\\quad \\theta \\in[0,1]$\n",
    "\n",
    "$\\frac{\\partial f}{\\partial  y}连续$\n",
    "\n",
    "$\\frac{{\\partial}f(x,\\varphi+\\theta(\\psi-\\varphi))}{\\partial y}=\\frac{f(x,\\varphi)}{\\partial y}+r_1$\n",
    "\n",
    "$\\Delta y_0\\to 0 r_1\\to0$\n",
    "\n",
    "$\\frac{\\psi-\\varphi}{\\Delta y_0}=1+\\int_{x_0}^x [\\frac{\\partial f(x,\\varphi)}{\\partial y}+r_1]\\frac{\\psi-\\varphi}{\\Delta y_0}dx$\n",
    "\n",
    "$z=\\frac{\\psi-\\varphi}{\\Delta y-0}\n",
    "$\n",
    "\n",
    "$\\frac{d z}{d x}=\\begin{cases}[\\frac{\\partial (x,\\varphi)}{\\partial y}+r_1]z\\\\z(x_0)=1\\end{cases}$\n",
    "\n",
    "$\\frac{\\psi-\\varphi}{\\Delta y_0}=e^{\\int_{x_0}^x}[\\frac{\\partial f(x,\\varphi) }{\\partial y}+r_1]dx$\n",
    "\n",
    "$\\frac{\\partial \\varphi}{\\partial y_0}=\\lim_{\\Delta \\to 0}=exp\\int_{x_0}^x \\frac{\\partial f(x,\\varphi)}{\\partial y}dx$\n"
   ]
  },
  {
   "cell_type": "markdown",
   "metadata": {
    "collapsed": true
   },
   "source": [
    "**2**\n",
    "$由题意y_0=\\varphi(x_0,x_0,y_0)由上题的方法求得\\frac{\\partial f}{\\partial x_0}\\frac {\\partial f}{y_0} \\frac{\\partial f}{\\partial x}公式$\n",
    "\n",
    "\n",
    "$\\frac{\\partial\\varphi}{\\partial x_0}=-f(x_0,y_0)exp[\\int_{x_0}]^x \\frac{\\partial(x,\\varphi)}{\\partial y}dx$\n",
    "\n",
    "$=-[P(x_0)y_0+Q(x_0)]exp[\\int_{x_0}^x P(x)dx]$\n",
    "\n",
    "$\\frac{\\partial \\varphi}{\\partial y_0}=exp\\int_{x_o}^x \\frac{\\partial f(x,\\varphi)}{\\partial y}dx=exp[\\int_{x_0}^x P(x)dx]$\n",
    "\n",
    "$\\frac{\\partial \\varphi}{\\partial x}=f(x,\\varphi(x,x_0,y_0)=P(x)\\varphi(x,x_0,y_0)+Q(x)$\n",
    "\n",
    "$非齐次线性方程组$\n",
    "\n",
    "$y=exp(\\int P(x))[\\int Q(x)exp(-\\int P(x)dx)]dx+c$\n",
    "\n",
    "$y=\\varphi(x,x_0,y_0)=y_0*exp(\\int_{x_0}^x P(x)dx)+\\int_{x_0}^x Q(x)exp(\\int_{x_0}^x P(x)dx$\n",
    "\n",
    "$\\partial \\varphi/\\partial x_0=(-P(x_0)exp（\\int_{x_0}^x P(x_0)dx）)(\\int_{x_0}^x Q(t)*exp(\\int_{x_0}^x -P(t)dt))+y_0)+exp(\\int_{x_0}^x P(x)dx)[-Q(x_0)exp(\\int_{x_0}^x-P(t)dt)+(\\int_{x_0}^x Q(t)exp(\\int_{x_0}^x)-p(t)dt)*p(x_0)]\\\\=-[P(x_0)y_0+Q(x_0)]exp(\\int_{x_0}^x P(t)dt)$\n",
    "$\\frac{\\partial \\varphi}{\\partial y_0}=\\exp(\\int_{x_0}^X P(t)dt)$\n",
    "\n",
    "$\\frac{\\partial \\varphi}{\\partial x}=\\exp(\\int_{x_0}^x P(t)dt)*P(x)*{\\int_{x_0)^x [Q(t) * exp(\\int_{x_0}^x P(t)dt)+y_0]dt+exp(\\int_{x_0}^x P(t)dt * Q(x)* exp(\\int_{x_0)^x P(t) dt)$\n",
    "$=P(x )\\varphi+Q(x))$"
   ]
  },
  {
   "cell_type": "markdown",
   "metadata": {},
   "source": [
    "**3**\n",
    "\n",
    "$运用上述的公式求解$\n",
    "\n",
    "$\\frac{\\partial y(x,x_0,y_0)}{\\partial x_0}=-f(x_0,y_0)exp(\\int_{x_0}^x \\frac{\\partial f(x,y)}dx{\\partial y})$\n",
    "\n",
    "$=-sin(y_0/x_0)exp(\\int_{x_0}^x 1/x*cos(y/x)dx)\\\\=0$\n",
    "\n",
    "$\\frac{\\partial y(x,x_0,y+0)}{\\partial y_0}=exp(\\int_{x_0}^x \\frac{\\partial f(x,y)}dx{\\partial y})$\n",
    "\n",
    "$=exp(\\int_1^x (1/x*cos(y/x))dx)|_{x_0=1,y_0=0}=exp(\\int_1^x 1/x dx)=|x|$\n",
    "\n"
   ]
  },
  {
   "cell_type": "markdown",
   "metadata": {},
   "source": [
    "**4**\n",
    "$运用上述公式得$\n",
    "\n",
    "$\\frac{\\partial\\varphi}{\\partial x_0}=-f(x,x_0,y_0,\\lambda)exp(\\int_{x_0}^x \\frac{\\partial f(x,\\varphi,\\lambda)}dx{\\partial y}=0\\\\\\frac{\\partial \\varphi}{\\partial y_0}=exp(\\int_{x_0}^x cos(\\lambda xy)\\lambda x)\\\\=exp(\\int_0^x xdx)\\\\=exp(1/2x^2)$\n"
   ]
  },
  {
   "cell_type": "markdown",
   "metadata": {
    "collapsed": true
   },
   "source": [
    "**B**"
   ]
  },
  {
   "cell_type": "code",
   "execution_count": null,
   "metadata": {
    "collapsed": true
   },
   "outputs": [],
   "source": []
  }
 ],
 "metadata": {
  "kernelspec": {
   "display_name": "SageMath 7.3",
   "language": "",
   "name": "sagemath"
  },
  "language_info": {
   "codemirror_mode": {
    "name": "ipython",
    "version": 2
   },
   "file_extension": ".py",
   "mimetype": "text/x-python",
   "name": "python",
   "nbconvert_exporter": "python",
   "pygments_lexer": "ipython2",
   "version": "2.7.10"
  }
 },
 "nbformat": 4,
 "nbformat_minor": 0
}
