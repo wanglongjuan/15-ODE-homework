{
 "cells": [
  {
   "cell_type": "markdown",
   "metadata": {},
   "source": [
    "# 10月10日"
   ]
  },
  {
   "cell_type": "markdown",
   "metadata": {},
   "source": [
    "**1.假设函数 $f(x,y)$ 及 $\\frac{\\partial f}{\\partial x}$ 都在区域 $G$ 内连续，又 $y=\\varphi(x,x_0,y_0)$ 是方程（3.1） 满足初值条件$y=\\varphi(x_0,x_0,y_0)=y_0$ 的解，**\n",
    "\n",
    "**试证 $\\frac{\\partial f}{\\partial x}$ 存在且连续，并写出其表达式。** "
   ]
  },
  {
   "cell_type": "markdown",
   "metadata": {},
   "source": [
    "**证明：**\n",
    "由 $\\frac{\\partial f}{\\partial y}$ 在区域 $G$ 内连续，推知 $f(x,y)$ 在 $G$ 内关于 $y$ 一致满足局部的利普希茨条件.因此，在定理的条件下，解对初值的连续性定理成立，即 $y=\\varphi(x,x_0,y_0)$ 在它的存在范围内关于 $x$ , $x_0$ , $y_0$ 是连续的.下面进一步证明对函数 $y=\\varphi(x,x_0,y_0)$ 的存在范围内任一点的偏导数 $\\frac{\\partial \\varphi }{\\partial y_0}$ 存在且连续.\n"
   ]
  },
  {
   "cell_type": "markdown",
   "metadata": {},
   "source": [
    "先证 $\\frac{\\partial \\varphi }{\\partial y_0}$ 存在且连续.设由初值 $(x_0,y_0)$ 和 $(x_0,y+\\Delta y_0)$\n",
    "$(\\mid\\Delta y_0\\mid\\leq\\alpha,\\alpha为足够小正整数)$ 所确定的方程的解分别为\n",
    "\n",
    "$$y=\\varphi(x,x_0,y_0)=\\varphi  \n",
    "\\quad和\\quad y=\\varphi(x,x_0,y_0+\\Delta y_0)=\\psi$$\n",
    "\n",
    "即\n",
    "\n",
    "$$\n",
    "\\varphi=y_0+\\int_{x_0}^x f(x,\\varphi){\\mathrm d x}\n",
    "\\quad和\\quad \\psi=y_0+\\Delta y_0+\\int_{x_0}^x f(x,\\psi){\\mathrm d x}\n",
    "$$\n",
    "\n",
    "于是\n",
    "$$\n",
    "\\begin{aligned}\n",
    "\\psi-\\varphi &=y_0+\\Delta y_0+\\int_{x_0}^x f(x,\\psi){\\mathrm d x}-y_0-\\int_{x_0}^x f(x,\\varphi){\\mathrm d x}\\\\\n",
    "&=\\Delta y_0-\\int_{x_0}^x f(x,\\psi)-f(x,\\varphi){\\mathrm d x}\\\\\n",
    "\\end{aligned}\n",
    "$$\n",
    "\n",
    "其中$0<\\theta<1$.注意到$\\frac{\\partial f}{\\partial y}$及$\\varphi$,$\\psi$的连续性，我们有\n",
    "\n",
    "$$\n",
    "\\frac{\\partial f (x,\\varphi+\\theta(\\psi-\\varphi))}{\\partial y}=\\frac{\\partial f(x,\\varphi)}{\\partial y}+r_1\n",
    "$$\n",
    "\n",
    "这里$r_1$具有性质：当$\\Delta y_0\\to 0$，时$r_1\\to 0$, 且当$\\Delta y_0= 0$时，$r_1= 0$，"
   ]
  },
  {
   "cell_type": "markdown",
   "metadata": {},
   "source": [
    "$$\n",
    "\\frac{\\psi-\\varphi}{\\Delta y_0}=\\Delta y_0+\\int_{x_0}^x[\\frac{\\partial f(x,\\varphi)}{\\partial y}+r_1]\\frac{\\psi-\\varphi}{\\Delta y_0}{\\mathrm d x}\n",
    "$$\n",
    "\n",
    "即\n",
    "\n",
    "$$\n",
    "z=\\frac{\\psi-\\varphi}{\\Delta y_0}\n",
    "$$\n",
    "\n",
    "是初值问题\n",
    "\n",
    "$$\n",
    "\\begin{cases}\n",
    "\\frac{\\mathrm dz}{\\mathrm dx}=[\\frac{\\partial f(x,\\varphi)}{\\partial y}+r_1]z\\\\\n",
    "z(x_0)=1=z_0\\\\\n",
    "\\end{cases}\n",
    "$$\n",
    "\n",
    "的解，在这里 $\\Delta y_0 \\neq 0$ 被看成参数，显然，当 $\\Delta y_0 = 0$ 时上式初值问题仍然有解。\n"
   ]
  },
  {
   "cell_type": "markdown",
   "metadata": {},
   "source": [
    "根据解对初值和参数的连续性定理，知 $\\frac{\\psi-\\varphi}{\\Delta y_0}$ 是 $x$ , $x_0$ ,$z_0$ , $\\Delta y_0$ , 的连续函数，从而存在\n",
    "\n",
    "$$\n",
    "\\lim_{\\Delta y_0 \\to 0} \\frac{\\psi-\\varphi}{\\Delta y_0}\\equiv\\frac{\\partial \\varphi}{\\partial y_0}\n",
    "$$\n",
    "\n",
    "而 $\\frac{\\partial \\varphi}{\\partial y_0}$ 是初值问题\n",
    "\n",
    "$$\n",
    "\\begin{cases}\n",
    "\\frac{\\mathrm dz}{\\mathrm dx}=\\frac{\\partial f(x,\\varphi)}{\\partial y}z\\\\\n",
    "z(x_0)=1\\\\\n",
    "\\end{cases}\n",
    "$$\n",
    "\n",
    "的解，不难求得\n",
    "\n",
    "$$\n",
    "\\frac{\\partial \\varphi}{\\partial y_0}=\\exp \\left(\\int_{x_0}^{x}\\frac{\\partial f(x,\\varphi)}{\\partial y}{\\mathrm d x}\\right)\n",
    "$$\n",
    "\n",
    "显然它是 $x$ , $x_0$ , $y_0$ 的连续函数.\n",
    "\n",
    "\n",
    "\n"
   ]
  },
  {
   "cell_type": "markdown",
   "metadata": {},
   "source": [
    "**2. 假设函数 $P(x)$ 和 $Q(x)$ 于区间 $[\\alpha,\\beta]$ 上连续， $y=\\varphi(x,x_0,y_0)$ 是方程**\n",
    "\n",
    "$$\\frac{\\mathrm dy}{\\mathrm dx}=P(x)y+Q(x)$$\n",
    "\n",
    "**的解， $y_0=\\varphi(x_0,x_0,y_0)$ .试求 $\\frac{\\partial\\varphi}{\\partial x_0},\\frac{\\partial\\varphi}{\\partial y_0},\\frac{\\partial\\varphi}{\\partial x}$ ,并从解的表达式出发，利用对参数求导数的方法，检验所得结果。**"
   ]
  },
  {
   "cell_type": "markdown",
   "metadata": {},
   "source": [
    "**解：**\n",
    "\n",
    "由题得 $f(x,y)=P(x)y+Q(x)$\n",
    "\n",
    "$\\therefore\\quad\\quad\\quad \\frac{\\partial f}{\\partial y}=P(x)$\n",
    "\n",
    "$\\quad\\quad\\quad \\frac{\\partial f(x,\\varphi}{\\partial y}=P(x)$\n",
    "\n",
    "$\\quad\\quad -f(x_0,y_0)=-P(x_0)y_0+Q(x_0)=-P(x_0)\\varphi(x_0,x_0,y_0)+Q(x_0)$\n",
    "\n",
    "$\\therefore\\quad \\frac{\\partial\\varphi}{\\partial x_0}=-f(x_0,y_0)exp(\\int_{x_0}^x\\frac{\\partial f(x,\\varphi)}{\\partial y}\\mathrm dx)=-P(x_0)y_0-Q(x_0)+exp(\\int_{x_0}^x P(x)\\mathrm dx)$\n",
    "\n",
    "$\\therefore\\quad \\frac{\\partial\\varphi}{\\partial y_0}=exp(\\int_{x_0}^x\\frac{\\partial f(x,\\varphi)}{\\partial y}\\mathrm dx)=exp(\\int_{x_0}^x P(x)\\mathrm dx)$\n",
    "\n",
    "$\\therefore\\quad \\frac{\\partial\\varphi}{\\partial x}=f(x,\\varphi(x,x_0,y_0))=P(x)\\varphi(x,x_0,y_0)+Q(x)$\n"
   ]
  },
  {
   "cell_type": "markdown",
   "metadata": {},
   "source": [
    "**检验**\n",
    "\n",
    "∵ $\\quad$方程 $\\frac{\\mathrm dy}{\\mathrm dx}=P(x)y+Q(x)$ 的通解为：\n",
    "\n",
    "$$\\varphi(x,x_0,y_0)=c e^{\\int_{x_0}^x P(x)\\,\\mathrm{d}x}+e^{\\int_{x_0}^x P(x)\\,\\mathrm{d}x}\\int_{x_0}^x{Q(x)} e^{-\\int_{x_0}^x P(x)\\,\\mathrm{d}x}\\mathrm{d}x$$\n",
    "\n",
    "将 $(x_0,y_0)$ 代入得 $c=y_0$\n",
    "\n",
    "$\\therefore\\quad通解为$  $$\\varphi(x,x_0,y_0)=y_0 e^{\\int_{x_0}^x P(x)\\,\\mathrm{d}x}+e^{\\int_{x_0}^x P(x)\\,\\mathrm{d}x}\\int_{x_0}^x{Q(x)} e^{-\\int_{x_0}^x P(x)\\,\\mathrm{d}x}\\mathrm{d}x$$\n",
    "\n",
    "$\\therefore\\quad$ \n",
    "\n",
    "$$\n",
    "\\begin{aligned}\n",
    "\\frac{\\partial \\varphi(x,x_0,y_0)}{\\partial x_0}&= -y_0p(x_0)e^{\\int_{x_0}^x P(x)\\,\\mathrm{d}x}-Q(x_0)e^{\\int_{x_0}^x P(x)\\,\\mathrm{d}x}=-[P(x_0)y_0+Q(x_0)]e^{\\int_{x_0}^xP(x)\\,\\mathrm dx}\\\\\n",
    "\\frac{\\partial \\varphi(x,x_0,y_0)}{\\partial y_0}&=e^{\\int_{x_0}^x P(x)\\,\\mathrm{d}x}\\\\\n",
    "\\frac{\\partial \\varphi(x,x_0,y_0)}{\\partial x}&=y_0p(x)e^{\\int_{x_0}^x P(x)\\,\\mathrm{d}x}     +P(x)\\int_{x_0}^x Q(x)e^{\\int_s^x P(x)\\,\\mathrm{d}x}\\,\\mathrm dx+Q(x)=P(x)\\varphi(x,x_0,y_0)+Q(x)\\\\\n",
    "\\end{aligned}\n",
    "$$\n",
    "\n",
    "经检验,与与解对初值可微性定理中的公式一致."
   ]
  },
  {
   "cell_type": "markdown",
   "metadata": {},
   "source": [
    "# 10月12号"
   ]
  },
  {
   "cell_type": "markdown",
   "metadata": {},
   "source": [
    "**3.给定方程**\n",
    "\n",
    "$$\\frac{\\mathrm dy}{\\mathrm dx}=sin(\\frac{y}{x}),$$\n",
    "\n",
    "**试求 $\\frac{\\partial y(x,x_0,y_0)}{\\partial x_0}，\\frac{\\partial y(x,x_0,y_0)}{\\partial y_0}$ 在 $x_0=1,y_0=0$ 时的表达式**"
   ]
  },
  {
   "cell_type": "markdown",
   "metadata": {},
   "source": [
    "**解：**\n",
    "\n",
    "由题得 $f(x,y)=sin(\\frac{y}{x})\\quad \\varphi=y(x,x_0,y_0)$\n",
    "\n",
    "$\\therefore $\n",
    "$$\n",
    "\\begin{aligned}\n",
    "\\frac{\\partial f(x,\\varphi)}{\\partial y}&=\\frac{1}{x}cos\\big(\\frac{y(x,x_0,y_0)}{x}\\big)\\\\\n",
    "\\quad  -f(x_0,y_0)&= sin0 =0\\\\\n",
    "\\end{aligned}\n",
    "$$\n",
    "\n",
    "$\\therefore \\frac{\\partial f(x,x_0,y_0)}{\\partial x_0}=0$\n",
    "\n",
    "$\\frac{\\partial f(x,x_0,y_0)}{\\partial y_0}=exp\\big(\\int_{x_0}^x\\frac{\\partial f(x,\\varphi)}{\\partial y}\\mathrm dx\\big)= exp\\big(\\int_{x_0}^x\\frac{1}{x}cos\\big(\\frac{y(x,x_0,y_0)}{x}\\big)\\mathrm dx\\big)=exp\\big(\\int_1^x \\frac{1}{x}cos\\big(\\frac{y(x,1,0)}{x}\\big)\\mathrm dx\\big)$\n"
   ]
  },
  {
   "cell_type": "markdown",
   "metadata": {},
   "source": [
    "**4.设 $y=(x,x_0,y_0,\\lambda)$ 是初值问题 **\n",
    "\n",
    "$$\\frac{\\mathrm dy}{\\mathrm dx}=sin(\\lambda xy),$$\n",
    "\n",
    "**的饱和解，这里 $\\lambda$ 是参数，求在 $(x,0,0,1)$ 处的表达式。**"
   ]
  },
  {
   "cell_type": "markdown",
   "metadata": {},
   "source": [
    "**解：**\n",
    "由题得：$f(x,y)=sin(\\lambda xy)\\quad\\frac{\\partial y}{\\partial x}=\\lambda xcos(\\lambda xy).$\n",
    "\n",
    "由解对初值的可微性定理得\n",
    "\n",
    "$$\n",
    "\\begin{aligned}\n",
    "\\frac{\\partial\\varphi}{\\partial x_0}&=-f(x_0,y_0)exp(\\int_{x_0}^x\\frac{\\partial f(x,\\varphi)}{\\partial y}\\mathrm dx)=-sin(\\lambda x_0y_0)e^{\\int_{x_0}^x\\lambda scos(\\lambda s\\varphi)\\,\\mathrm ds}\\\\\n",
    "\\frac{\\partial\\varphi}{\\partial y_0}&=e{\\int_{x_0}^x\\frac{\\partial f(x,\\varphi)}{\\partial y}\\mathrm dx}=e^{\\int_{x_0}^x \\lambda scos(\\lambda s\\varphi)\\,\\mathrm ds}\\\\\n",
    "\\end{aligned}\n",
    "$$\n",
    "\n",
    "当 $x=0,y=0,\\lambda=1$ 时有\n",
    "\n",
    "$$\\frac{\\partial\\varphi}{\\partial x_0}=\\frac{\\partial\\varphi}{\\partial x_0}\\big|_{(x,0,0,1)}=0$$\n",
    "\n",
    "$$\\frac{\\partial\\varphi}{\\partial y_0}=\\frac{\\partial\\varphi}{\\partial y_0}\\big|_{(x,0,0,1)}=e^{\\int_{x_0}^x scos0\\,\\mathrm ds}=e^{\\frac{x^2}{2}}$$"
   ]
  },
  {
   "cell_type": "markdown",
   "metadata": {
    "collapsed": true
   },
   "source": [
    "**A**"
   ]
  },
  {
   "cell_type": "code",
   "execution_count": null,
   "metadata": {
    "collapsed": true
   },
   "outputs": [],
   "source": []
  }
 ],
 "metadata": {
  "kernelspec": {
   "display_name": "SageMath 7.3",
   "language": "",
   "name": "sagemath"
  },
  "language_info": {
   "codemirror_mode": {
    "name": "ipython",
    "version": 2
   },
   "file_extension": ".py",
   "mimetype": "text/x-python",
   "name": "python",
   "nbconvert_exporter": "python",
   "pygments_lexer": "ipython2",
   "version": "2.7.10"
  }
 },
 "nbformat": 4,
 "nbformat_minor": 0
}
