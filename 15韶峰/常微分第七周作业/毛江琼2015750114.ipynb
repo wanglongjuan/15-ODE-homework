{
 "cells": [
  {
   "cell_type": "markdown",
   "metadata": {},
   "source": [
    "1.假设函数 $f(x,y)$ 及 $\\frac{\\partial f}{\\partial y}$ 都在区域 $G$ 内连续，又 $y=\\phi(x,x_0,y_0)$ 是方程 $\\frac{dy}{dx}=f(x,y)$ 满足初值条件 $\\phi(x,x_o,y_0)=y_0$ 的解，试证 $\\frac{\\partial \\phi}{\\partial y_0}$ 存在且连续，并写出其表达式。"
   ]
  },
  {
   "cell_type": "markdown",
   "metadata": {},
   "source": [
    "$\\because\\quad  f(x,y) \\quad$及$\\quad \\frac{\\partial f}{\\partial y} \\quad$在G内关于y满足局部Lipschitz条件\n",
    "\n",
    "$\\therefore\\quad  y=\\phi(x,x_0,y_0) \\quad$在它的存在范围内关于$\\quad x,x_0,y_0 \\quad$是连续的。\n",
    "\n",
    "设由初值$\\quad (x_0,y_0) \\quad$和$\\quad (x_0,y_0+\\triangle y_0)(|\\triangle y_0|\\leq\\alpha,\\alpha$足够小)$\\quad$所确定的方程解分别为$$y=\\phi(x,x_0.y_0)\\equiv\\phi,y=\\Phi(x,x_0,y_0)\\equiv\\Phi$$\n",
    "\n",
    "即:$\\phi\\equiv y_0+\\int^x_{x_0}f(x,\\phi)\\,dx$,$\\Phi\\equiv y_0+\\triangle y_0+\\int^x_{x_0} f(x,\\Phi)\\big)\\,dx$\n",
    "\n",
    "得:$$\\Phi-\\phi\\equiv\\triangle y_0+\\int^x_{x_0}\\big(f(x,\\phi)-f(x,\\Phi)\\big)\\,dx=\\triangle y_0+\\int^x_{x_0} {\\frac{\\partial f\\big(x,\\phi+\\omega(\\Phi-\\phi)\\big)}{\\partial y}(\\Phi-\\phi)}\\,dx$$\n",
    "\n",
    "$\\because \\frac{\\partial f}{\\partial y},\\phi,\\Phi \\quad$连续\n",
    "\n",
    "$$\\therefore\\frac{\\partial f\\big(x,\\phi+\\omega(\\Phi-\\phi)\\big)}{\\partial y}=\\frac{\\partial f(x,\\phi)}{\\partial y}+r_1$$\n",
    "\n",
    "此处$r_1$满足：当$\\triangle y_0$趋于0时，$r_1$趋于0，且当$\\triangle y_0-0,r_1=0$.\n",
    "\n",
    "$\\therefore$对$\\triangle y_0\\neq0$有:\n",
    "$\\frac{\\Phi-\\phi}{\\triangle y_0}\n",
    "\\equiv1+\\int^x_{x_0} \\big(\\frac{\\partial f(x,\\phi)}{\\partial y}+r_1\\big)\\frac{\\Phi-\\phi}{\\triangle y_0}\\,dx$\n",
    "\n",
    "即:$z=\\frac{\\Phi-\\phi}{\\triangle y_0}$是初值问题\n",
    "$$\\begin{cases}\n",
    "\\frac{dz}{dy}=[\\frac{\\partial f(x,\\phi)}{\\partial y}+r_1]z\\\\\n",
    "z(x_0)=1=z_0\n",
    "\\end{cases}$$\n",
    "\n",
    "的解，在这里$\\triangle y_0\\neq 0$看成参数0显然，当$\\triangle y_0=0$时，上述初值问题仍然有解，根据解对初值和参数的连续性定理，\n",
    "\n",
    "得:$\\frac{\\Phi-\\phi}{\\triangle y_0}$是$x,x_0,z_0,\\triangle y_0$的连续函数，从而存在\n",
    "$$lim_{\\triangle y_0\\to 0}\\frac{\\Phi-\\phi}{\\triangle y_0}=\\frac{\\partial \\phi}{\\partial y_0}$$\n",
    "\n",
    "而 $\\frac{\\partial f}{\\partial y_0}$是初值问题\n",
    "$$\\begin{cases}\n",
    "\\frac{dz}{dy}=[\\frac{\\partial f(x,\\phi)}{\\partial y}z\\\\\n",
    "z(x_0)=1\n",
    "\\end{cases}$$\n",
    "\n",
    "的解，易得:$$\\frac{\\partial f}{\\partial y_0}=e^{\\int^x_{x_0} \\frac{\\partial f(x,\\phi)}{\\partial y}\\,dx}$$\n",
    "\n",
    "它显然是连续的"
   ]
  },
  {
   "cell_type": "markdown",
   "metadata": {},
   "source": [
    "2.假设函数 $P(x)$ 和 $Q(x)$ 与区间 $[\\alpha,\\beta]$ 上连续，$y=\\phi(x,x_0,y_0)$ 是方程 $$\\frac{dy}{dx}=P(x)y+Q(x)$$ 的解，$y_0=\\phi(x,x_0,y_0)$。试求 $\\frac{\\partial \\phi}{\\partial x_0}$ ，$\\frac{\\partial \\phi}{\\partial y_0}$ 及 $\\frac{\\partial \\phi}{\\partial x}$ ，并从解的表达式出发，利用对参数求导的方法，检验所得结果。"
   ]
  },
  {
   "cell_type": "markdown",
   "metadata": {},
   "source": [
    "$\\because f(x,y)=P(x)y+Q(x),\\therefore \\frac{\\partial f}{\\partial y}=P(x)$\n",
    "\n",
    "由解对初值的可微性定理得：\n",
    "\n",
    "$\\frac{\\partial\\phi_0}{\\partial x_0}=-f(x_0,y_0)e^{\\int^x_{x_0} \\frac{\\partial f(s,\\phi)}{\\partial y}\\,ds}\n",
    "=-[P(x_0)y_0+Q(x_0)]e^{\\int^x_{x_0} P(s)\\,ds}$\n",
    "\n",
    "$\\frac{\\partial\\phi_0}{\\partial y_0}=e^{\\int^x_{x_0} \\frac{\\partial f(s,\\phi)}{\\partial y}\\,ds}\n",
    "=e^{\\int^x_{x_0} P(s)\\,ds}$\n",
    "\n",
    "$\\frac{\\partial\\phi_0}{\\partial x}=f(x,\\phi(x,x_0,y_0))=P(x)\\phi(x,x_0,y_0)+Q(x)$\n",
    "\n",
    "$\\because$非其次线性方程组有解的表达式：\n",
    "$$y=e^{\\int P(x)\\,dx}[\\int Q(x)e^{-\\int P(x)\\,dx}+c]$$\n",
    "\n",
    "$\\therefore \\phi(x,x_0,y_0)=y_0\\bullet e^{\\int^x_{x_0} P(x)\\,dx}+\\int^x_{x_0} Q(s)e^{\\int^x_s P(t)\\,dt}\\,ds$\n",
    "\n",
    "直接对参数求导可得：\n",
    "\n",
    "$\\frac{\\partial\\phi(x,x_0,y_0)}{\\partial x_0}=-P(x_0)y_0e^{\\int^x_{x_0} P(s)\\,ds}-Q(x_0)e^{\\int^x_{x_0} P(s)\\,ds}\n",
    "=-[P(x_0)y_0+Q(x_0)]{\\int^x_{x_0} P(s)\\,ds}$\n",
    "\n",
    "$\\frac{\\partial\\phi(x,x_0,y_0)}{\\partial y_0}=e^{\\int^x_{x_0} P(s)\\,ds}$\n",
    "\n",
    "$\\frac{\\partial\\phi(x,x_0,y_0)}{\\partial x}\n",
    "=P(x)y_0e^{\\int^x_{x_0} P(s)\\,ds}+Q(x)+\\int^x_{x_0} P(x)Q(s)e^{\\int^x_s P(t)\\,dt}\\,ds\n",
    "=P(x)[y_0e^{\\int^x_{x_0} P(s)\\,ds}+\\int^x_{x_0} Q(s)e^{\\int^x_{x_0} P(t)\\,dt}\\,ds]+Q(x)$\n",
    "\n",
    "经检验，与解对初值的可微性定理中的公式一致。"
   ]
  },
  {
   "cell_type": "markdown",
   "metadata": {},
   "source": [
    "3.给定方程 $$\\frac{dy}{dx}=sin\\frac{y}{x},$$试求 $\\frac{\\partial y(x,x_0,y_0)}{\\partial x_0}$ ，$\\frac{\\partial y(x,x_0,y_0)}{\\partial y_0}$ 在 $x_0=1$，$y_0=0$ 时的表达式。"
   ]
  },
  {
   "cell_type": "markdown",
   "metadata": {},
   "source": [
    "设$f(x,y)=sin(\\frac{y}{x}),\\therefore \\frac{\\partial f}{\\partial y}=\\frac{1}{x}cos(\\frac{y}{x})$\n",
    "\n",
    "由解对初值的可微性定理的证明可知，\n",
    "\n",
    "$\\frac{\\partial y(x,x_0,y_0)}{\\partial x_0}=-f(x_0,y_0)e^{\\int^x_{x_0} \\frac{\\partial f(s,t)}{\\partial y}\\,ds}\n",
    "=-sin(\\frac{y_0}{x_0})e^{\\int^x_{x_0} \\frac{1}{s}cos\\frac{y}{x}\\,ds}$\n",
    "\n",
    "$\\frac{\\partial y(x,x_0,y_0)}{\\partial y_0}=e^{\\int^x_{x_0} \\frac{\\partial f(s,t)}{\\partial y}\\,ds}\n",
    "=e^{\\int^x_{x_0} \\frac{1}{s}cos\\frac{y}{x}\\,ds}$\n",
    "\n",
    "当$x_0=1,y_0=0$时，对应得到\n",
    "\n",
    "$\\frac{\\partial y(x,x_0,y_0)}{\\partial x_0}\\big|_{x_0=1,y_0=0}=0$\n",
    "\n",
    "$\\frac{\\partial y(x,x_0,y_0)}{\\partial y_0}\\big|_{x_0=1,y_0=0}=e^{\\int^x_{x_0} \\frac{1}{s}\\,ds}=|x|$\n",
    "\n",
    "$\\therefore x_0=1,y_0=0$时有$\\frac{\\partial y}{\\partial x_0}=0,\\frac{\\partial y}{\\partial y_0}=|x|$"
   ]
  },
  {
   "cell_type": "markdown",
   "metadata": {},
   "source": [
    "4.设 $y=\\phi(x,x_0,y_0)$ 是初值问题 $$\\frac{dy}{dx}=sin(\\lambda xy),\\phi(x_00,x_0,y_0,\\lambda)$$ 的饱和解，这里 $\\lambda$ 是参数，求 $\\frac{\\partial\\phi}{\\partial x_0}$,$\\frac{\\partial\\phi}{\\partial y_0}$ 在 $(x,0,0,1)$ 处的表达式。"
   ]
  },
  {
   "cell_type": "markdown",
   "metadata": {},
   "source": [
    "$f(x,y)=sin(\\lambda xy),\\frac{\\partial f}{\\partial y}=\\lambda xcos(\\lambda xy)$\n",
    "\n",
    "由解对初值的可微性定理得：\n",
    "\n",
    "$\\frac{\\partial\\phi}{\\partial x_0}=-f(x_0,y_0)e^{\\int^x_{x_0} \\frac{\\partial f(s,\\phi)}{\\partial y}\\,ds}\n",
    "=-sin(\\lambda x_0y_0)e^{\\int^x_{x_0} \\lambda scos(\\lambda s\\phi)\\,ds}$\n",
    "\n",
    "$\\frac{\\partial\\phi}{\\partial y_0}=e^{\\int^x_{x_0} \\frac{\\partial f(s,\\phi)}{\\partial y}\\,ds}\n",
    "=e^{\\int^x_{x_0} \\lambda scos(\\lambda s\\phi)\\,ds}$\n",
    "\n",
    "当$x_0=0,y_0=0,\\lambda=1$时，有\n",
    "\n",
    "$\\frac{\\partial\\phi}{\\partial x_0}\\big|_{(x,0,0,1)}=0$\n",
    "\n",
    "$\\frac{\\partial\\phi}{\\partial y_0}\\big|_{(x,0,0,1)}=e^{\\int^x_{x_0} scos0\\,ds}=e^{(\\frac{x^2}{2})}$"
   ]
  },
  {
   "cell_type": "markdown",
   "metadata": {
    "collapsed": true
   },
   "source": [
    "**A**"
   ]
  },
  {
   "cell_type": "code",
   "execution_count": null,
   "metadata": {
    "collapsed": true
   },
   "outputs": [],
   "source": []
  }
 ],
 "metadata": {
  "kernelspec": {
   "display_name": "SageMath 7.3",
   "language": "",
   "name": "sagemath"
  },
  "language_info": {
   "codemirror_mode": {
    "name": "ipython",
    "version": 2
   },
   "file_extension": ".py",
   "mimetype": "text/x-python",
   "name": "python",
   "nbconvert_exporter": "python",
   "pygments_lexer": "ipython2",
   "version": "2.7.10"
  }
 },
 "nbformat": 4,
 "nbformat_minor": 0
}
