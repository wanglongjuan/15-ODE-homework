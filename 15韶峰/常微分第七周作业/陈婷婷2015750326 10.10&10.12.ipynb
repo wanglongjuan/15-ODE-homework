{
 "cells": [
  {
   "cell_type": "markdown",
   "metadata": {},
   "source": [
    "**1.假设函数f(x,y）及$\\frac{\\partial f}{\\partial y}$都在区域G内连续，又$y=\\varphi(x,x_0,y_0)$是方程（3.1）满足初值条件$\\varphi(x_0,x_0,y_0)=y_0$的解，试证$\\frac{\\partial \\varphi}{\\partial y_0}$存在且连续，并写出其表达式。**"
   ]
  },
  {
   "cell_type": "markdown",
   "metadata": {
    "collapsed": true
   },
   "source": [
    "解：记初值为$(x_0,y_0,+\\delta y_0)$的解为$y=\\psi(x,x_0,y_0+\\delta y_0)$，其中$|\\Delta y_0|\\leq\\alpha,\\alpha$足够小，则有\n",
    "$$\\varphi=y_0+\\int_{x_0}^x f(x,\\varphi)d x,\\psi=y_0+\\delta y_0+\\int_{x_0}^x f(x,\\psi)d x$$"
   ]
  },
  {
   "cell_type": "markdown",
   "metadata": {},
   "source": [
    "于是$$\\psi-\\varphi=\\Delta y_0+\\int_{x_0}^x [f(x,\\psi)-f(x,\\varphi)]d x=\\Delta y_0+\\int_{x_0}^x [\\frac{\\partial f(x,\\phi+\\theta(\\psi-\\varphi))}{\\partial y}(\\psi-\\varphi]d x$$\n",
    "\n",
    "其中$0\\leq\\theta\\leq 1$,由$\\frac{\\partial f}{\\partial y}$及$\\varphi,\\psi$的连续性，有$$\\frac{\\partial f(x,\\varphi+\\theta(\\psi-\\varphi))}{\\partial y}=\\frac{\\partial f(x,\\varphi)}{\\partial y}+r$$\n",
    "\n",
    "其中$r$有性质：$\\Delta→0$时$r→0,\\Delta y_0=0$时$r=0$。即对$\\Delta y_0\\neq 0$有$$\\frac{\\psi-\\varphi}{\\Delta y_0}=1+\\int_{x_0}^x [\\frac{\\partial f(x,\\varphi)}{\\partial y}+r]\\frac{\\psi-\\varphi}{\\Delta y_0}d x$$"
   ]
  },
  {
   "cell_type": "markdown",
   "metadata": {},
   "source": [
    "$z=\\frac{\\psi-\\varphi}{\\Delta y_0}$是微分方程初值问题\n",
    "$$\n",
    "\\begin{cases}\n",
    "\\frac{d z}{d x}=[\\frac{\\partial f(x,\\varphi)}{\\partial y }+r]z,\\\\\n",
    "z(x_0)=1\n",
    "\\end{cases}\n",
    "$$\n",
    "的解，即$$\\frac{\\psi-\\varphi}{\\Delta y_0}=z=exp{\\int_{x_0}^x [\\frac{\\partial f(x,\\varphi)}{\\partial y }+r]d x}$$"
   ]
  },
  {
   "cell_type": "markdown",
   "metadata": {},
   "source": [
    "于是$$\\frac{\\partial\\varphi}{\\partial y_0}=exp{\\int_{x_0}^x\\frac{\\partial f(x,\\varphi)}{\\partial y }d x}$$\n",
    "\n",
    "它是$x,x_0,y_0$的连续函数。"
   ]
  },
  {
   "cell_type": "markdown",
   "metadata": {},
   "source": [
    "**2.假设函数P(x)和Q(x)于区间$[\\alpha ,\\beta]$上连续，$y=\\varphi (x,x_0,y_0)$是方程$$\\frac{\\mathrm d y}{\\mathrm d x}=P(x)y+Q(x)$$的解，$y_0=\\varphi (x_0,x_0,y_0)。$试求$\\frac{\\partial \\varphi}{\\partial x_0},\\frac{\\partial \\varphi}{\\partial y_0},\\frac{\\partial \\varphi}{\\partial x},$并从解的表达式出发，利用对参数求导数的方法，检验所得结果。**"
   ]
  },
  {
   "cell_type": "markdown",
   "metadata": {
    "collapsed": true
   },
   "source": [
    "解：这里$f(x,y)=P(x)y+Q(x)$满足解对初值的可微性定理条件\n",
    "故：\n",
    "$$\\begin{aligned}\n",
    "\\frac{\\partial\\varphi}{\\partial x_0}&=-f(x_0,y_0){\\rm exp}\\int_{x_0}^x{\\frac{\\partial f(x,\\varphi)}{\\partial y}}{\\rm d}x\\\\\n",
    "&=-(P(x_0)y_0+Q(x_0)){\\rm exp}\\int_{x_0}^x{P(x)}{\\rm d}x\\\\\n",
    "\\frac{\\partial \\varphi}{\\partial y_0}&={\\rm exp}\\int_{x_0}^x{\\frac{\\partial f(x,\\varphi)}{\\partial y}}{\\rm d}x\n",
    "\\\\&={\\rm exp}\\int_{x_0}^x{P(x)}{\\rm d}x\\\\\n",
    "\\frac{\\partial \\varphi}{\\partial x}&=f(x,\\varphi (x.x_0,y_0))+Q(x)\n",
    "\\end{aligned}$$"
   ]
  },
  {
   "cell_type": "markdown",
   "metadata": {},
   "source": [
    "$\\frac{\\rm d y}{\\rm d x}=P(x)y+Q(x)$满足$y(x_0)=y_0$的解为\n",
    "$$y=e^{\\int_{x_0}^x{P(x)}{\\rm d}x}(\\int_{x_0}^x{Q(x)e^{-{\\int_{x_0}^x{P(x)}{\\rm d}x}}}{\\rm d}x+y_0)$$\n",
    "\n",
    "故$\\frac{\\partial \\varphi}{\\partial y_0}={\\rm exp}\\int_{x_0}^x{P(x)}{\\rm d}x$  \n",
    "\n",
    "$$\\begin{aligned}\n",
    "\\frac{\\partial \\varphi}{\\partial x_0}=&-P(x_0){\\rm exp}\\int_{x_0}^x{P(x)}{\\rm d}x(\\int_{x_0}^x{Q(x)({\\rm exp}(-\\int_{x_0}^x{P(x)}{\\rm d}x))}{\\rm d}x+y_0)\\\\\n",
    "&+{\\rm exp}\\int_{x_0}^x{P(x)}{\\rm d}x(-Q(x_0)+P(x_0)\\int_{x_0}^x{Q(x)}{\\rm d}x[{\\rm exp} (-\\int_{x_0}^x{P(x)}{\\rm d}x)]\\rm d x)\\\\\n",
    "=&-(P(x_0)y_0+Q(x_0)){\\rm exp}\\int_{x_0}^x{P(x)}{\\rm d}x\n",
    "\\end{aligned}$$"
   ]
  },
  {
   "cell_type": "markdown",
   "metadata": {},
   "source": [
    "$$\\frac{\\partial\\varphi}{\\partial x}=P(x)\\exp\\int_{x_0}^{x}P(x){\\rm d} x(\\int_{x_0}^{x}Q(x)\\exp(-\\int_{x_0}^{x}P(x)\\rm d x)){\\rm d }x+y_0)+\\exp\\int_{x_0}^{x}P(x){\\rm d }x(Q(x)\\exp(-\\int_{x_0}^x P(x){\\rm d }x))\n",
    "=P(x)\\varphi(x,x_0,y_0)+Q(x)$$"
   ]
  },
  {
   "cell_type": "markdown",
   "metadata": {},
   "source": [
    "**3.给定方程$$\\frac{\\mathrm d y}{\\mathrm d x}=sin（\\frac{y}{x}）,$$试求$\\frac{\\partial y(x,x_0,y_0)}{\\partial x_0},\\frac{\\partial y(x,x_0,y_0)}{\\partial y_0}$在$x_0=1,y_0=0$时的表达式。**"
   ]
  },
  {
   "cell_type": "markdown",
   "metadata": {},
   "source": [
    "解：这是$f(x,y)=\\sin(\\frac{y}{x})$在(1,0)某领域内满足解对初值可微性定理条件，由公式\n",
    "\n",
    "$$\\frac{\\partial y(x,x_0,y_0)}{\\partial x_0} \\big |_{(1,0)} =-f(x_0,y_0)\\exp \\big [\\int_{x_0}^x\\frac{\\partial f(x,y)}{\\partial y}{\\rm d x}\\big ]\\big |_{(1,0)}=0$$\n",
    "\n",
    "$$\\frac{\\partial y(x,x_0,y_0)}{\\partial x_0} \\big |_{(1,0)}=\\exp\\big [\\int_{x_0}^x \\frac{\\partial f(x,y)}{\\partial y}{\\rm d x}\\big ]\\big |_{(1,0)}=\\exp\\int_{x_0}^x \\frac{1}{x}\\cos\\frac{y}{x}{\\rm d x} \\big |_{(1,0)}=\\exp\\int_1^x \\frac{1}{x}\\cos\\frac{y(x,1,0)}{x}{\\rm d x}$$\n",
    "\n",
    "显然y=0是原方程满足初始条件y(1)=0的解\n",
    "\n",
    "$\\because y(x,1,0)=0,\\therefore \\cos y\\frac{(x,1,0)}{x}=\\cos 0=1$\n",
    "\n",
    "故$$\\frac{\\partial y(x,x_0,y_0)}{\\partial y_0} \\big |_{x_0=1}^{y=0}=\\exp\\int_1^x\\frac{1}{x}{\\rm d x}=|x|$$\n"
   ]
  },
  {
   "cell_type": "markdown",
   "metadata": {
    "collapsed": true
   },
   "source": [
    "**4.设$y=\\varphi(x,x_0,y_0,\\lambda)$是初值问题$$\\frac{\\mathrm d y}{\\mathrm d x}=sin（\\lambda xy）,\\varphi(x_0,x_0,y_0,\\lambda)=y_0$$的饱和解，这里$\\lambda$是参数，求$\\frac{\\partial \\varphi}{\\partial x_0},\\frac{\\partial \\varphi}{\\partial y_0}$在（x,0,0,1）处的表达式。**"
   ]
  },
  {
   "cell_type": "markdown",
   "metadata": {},
   "source": [
    "解：$$\\begin{aligned}\n",
    "\\frac{\\partial \\varphi}{\\partial x_0}&=-f(x_0,y_0,\\lambda){\\rm exp}\\big [\\int_{x_0}^x{\\frac{\\partial f(x,\\varphi,\\lambda)}{\\partial y}}{\\rm d}x \\big ]\\\\&=0\\\\\n",
    "\\frac{\\partial \\varphi}{\\partial y_0}\n",
    "&={\\rm exp} \\big [\\int_{x_0}^x{\\frac{\\partial f(x,\\varphi,\\lambda)}{\\partial y}}{\\rm d}x \\big ]\n",
    "\\\\&={\\rm exp} \\big [\\int_{x_0}^x{cos(\\lambda x \\varphi)\\big |_{\\phi=0}·\\lambda x}{\\rm d}x \\big]\\\\\n",
    "&={\\rm exp} \\big [\\frac{\\lambda}{2}(x^2-{x_0}^2) \\big ]\\\\\n",
    "&={\\rm exp}(\\frac {x^2} 2)\n",
    "\\end{aligned}$$"
   ]
  },
  {
   "cell_type": "markdown",
   "metadata": {
    "collapsed": true
   },
   "source": [
    "**$A^+$**"
   ]
  },
  {
   "cell_type": "code",
   "execution_count": null,
   "metadata": {
    "collapsed": true
   },
   "outputs": [],
   "source": []
  }
 ],
 "metadata": {
  "kernelspec": {
   "display_name": "SageMath 7.3",
   "language": "",
   "name": "sagemath"
  },
  "language_info": {
   "codemirror_mode": {
    "name": "ipython",
    "version": 2
   },
   "file_extension": ".py",
   "mimetype": "text/x-python",
   "name": "python",
   "nbconvert_exporter": "python",
   "pygments_lexer": "ipython2",
   "version": "2.7.10"
  }
 },
 "nbformat": 4,
 "nbformat_minor": 0
}
