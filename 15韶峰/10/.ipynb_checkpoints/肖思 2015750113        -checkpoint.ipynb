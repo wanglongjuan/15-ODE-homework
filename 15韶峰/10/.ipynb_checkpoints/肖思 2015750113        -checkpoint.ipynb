{
 "cells": [
  {
   "cell_type": "markdown",
   "metadata": {},
   "source": [
    "# 11.02"
   ]
  },
  {
   "cell_type": "markdown",
   "metadata": {},
   "source": [
    "**求下列方程的通解:**\n",
    "\n",
    "**(1) $ t^2 x'' + t x' - x = 0 $;**\n",
    "\n",
    "**(2) $ t^2 x'' - 4 t x' + 6 x = t $.**"
   ]
  },
  {
   "cell_type": "markdown",
   "metadata": {},
   "source": [
    "**解:**\n",
    "\n",
    "(1)设 $ x = t^K $ , 得到 $ K $ 应满足的方程为:\n",
    "\n",
    "$$ K( K - 1 ) + K - 1 = 0 $$\n",
    "\n",
    "$ K = \\pm 1 $\n",
    "\n",
    "所以方程的通解为:\n",
    "\n",
    "$$ x = c_1 t + c_2 \\frac {1}{t}$$\n"
   ]
  },
  {
   "cell_type": "markdown",
   "metadata": {},
   "source": [
    "(2)先求解$ t^2 x'' - 4 t x' + 6 x = 0 $\n",
    "\n",
    "设 $ x = t^K $ , 得到 $ K $ 应满足的方程为:\n",
    "\n",
    "$$ K( K - 1 ) - 4K + 6 = 0 $$\n",
    "\n",
    "$ K_1 = 2 , K_2 = 3 $\n",
    "\n",
    "所以齐次线性方程的解为:\n",
    "\n",
    "$$ x = c_1 t^2 + c_2 t^3 $$\n",
    "\n",
    "应用常数变易法,令\n",
    "\n",
    "$$ x = c_1(t) t^2 + c_2(t) t^3 $$\n",
    "\n",
    "将其代入方程$  x'' - \\frac{4}{t} x' + \\frac{6}{t^2} x = \\frac{1}{t} $,则可得到决定 $ c_1^\\prime (t) , c_2^\\prime (t) $ 的两个方程\n",
    "\n",
    "$$ t^2 c_1^\\prime (t) + t^3 c_2^\\prime (t) = 0 $$\n",
    "\n",
    "$$ 2t c_1^\\prime (t) + 3t^2 c_2^\\prime (t) = \\frac{1}{t} $$\n",
    "\n",
    "得到:$ c_1^\\prime (t) = -\\frac{1}{t^2}  , c_2^\\prime (t) =  \\frac{1}{t^3} $\n",
    "\n",
    "所以: $ c_1(t) = \\frac{1}{t} + m_1 ,c_2(t) = -\\frac{1}{2t^2} + m_2 $\n",
    "\n",
    "于是原方程的通解为 $$ x = m_1 t^2 + m_2 t^3 + \\frac{1}{2} t $$"
   ]
  },
  {
   "cell_type": "markdown",
   "metadata": {
    "collapsed": true
   },
   "source": [
    "$A^+$"
   ]
  },
  {
   "cell_type": "code",
   "execution_count": null,
   "metadata": {
    "collapsed": true
   },
   "outputs": [],
   "source": []
  }
 ],
 "metadata": {
  "kernelspec": {
   "display_name": "SageMath 7.3",
   "language": "",
   "name": "sagemath"
  },
  "language_info": {
   "codemirror_mode": {
    "name": "ipython",
    "version": 2
   },
   "file_extension": ".py",
   "mimetype": "text/x-python",
   "name": "python",
   "nbconvert_exporter": "python",
   "pygments_lexer": "ipython2",
   "version": "2.7.10"
  }
 },
 "nbformat": 4,
 "nbformat_minor": 0
}
