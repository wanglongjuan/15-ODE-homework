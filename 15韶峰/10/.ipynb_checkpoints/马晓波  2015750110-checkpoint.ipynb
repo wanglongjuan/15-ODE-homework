{
 "cells": [
  {
   "cell_type": "markdown",
   "metadata": {},
   "source": [
    "# 10月2日"
   ]
  },
  {
   "cell_type": "markdown",
   "metadata": {},
   "source": [
    "**(1)$ \\quad t^2x^{\\prime\\prime}+tx^\\prime-x=0$**"
   ]
  },
  {
   "cell_type": "markdown",
   "metadata": {},
   "source": [
    "**解:**\n",
    "\n",
    "将解 $x=t^k$ 代入原方程得$$k(k-1)+k-1=0$$\n",
    "\n",
    "解得$$k=\\pm 1$$\n",
    "\n",
    "所以通解为$$x=c_1t+c_2\\frac{1}{t}$$\n"
   ]
  },
  {
   "cell_type": "markdown",
   "metadata": {},
   "source": [
    "** $(2)\\quad t^2x^{\\prime\\prime}-4tx^\\prime+6x=t$ **"
   ]
  },
  {
   "cell_type": "markdown",
   "metadata": {},
   "source": [
    "**解:**\n",
    "\n",
    "i)先求其次微分方程 $t^2x^{\\prime\\prime}-4tx^\\prime+6x=0\\quad <1>$ 的解\n",
    "\n",
    "$\\quad$ 将解 $x=t^k$ 代入 $<1>$ 得$$k(k-1)-4k+6=0$$\n",
    "\n",
    "解得$$k=2,3$$\n",
    "\n",
    "所以 $<1>$ 式的通解为 $x=c_1t^2+c_2t^3\\quad c_1,c_2$ 为任意常数\n",
    "\n",
    "ii)求 $ t^2x^{\\prime\\prime}-4tx^\\prime+6x=t$ 的特解\n",
    "\n",
    "设解为 $$x=c_1(t)t^2+c_2(t)t^3$$ \n",
    "\n",
    "令 $c_1^\\prime (t)t^2+c_2^\\prime (t)t^3=0$ 得$$x^\\prime=2tc_1(t)+3t^2c_2(t)$$\n",
    "\n",
    " $x^{\\prime\\prime}=2c_1(t)+6tc_2(t)+2tc_1^\\prime (t)+3t^2c_2^\\prime (t)\\quad$代入所求方程得\n",
    " \n",
    " $$2tc_1^\\prime (t)+3t^2c_2^\\prime (t)=\\frac{1}{t}$$ \n",
    "\n",
    "解得 $$c_1^\\prime (t)=-\\frac{1}{t}\\quad c_2^\\prime (t)=\\frac{1}{t^3}$$\n",
    "\n",
    "所以$$c_1(t)=\\frac{1}{t}\\quad c_2=-\\frac{1}{2t^2}$$\n",
    "\n",
    "于是得到特解 $$x=c_1(t)t^2+c_2(t)t^3=\\frac{t}{2}$$\n",
    "\n",
    "因此所求方程通解为$$x=\\frac{t}{2}+c_1t^2+c_2t^3\\quad c_1,c_2 为任意常数$$"
   ]
  },
  {
   "cell_type": "markdown",
   "metadata": {},
   "source": [
    "$A^+$"
   ]
  },
  {
   "cell_type": "code",
   "execution_count": null,
   "metadata": {
    "collapsed": true
   },
   "outputs": [],
   "source": []
  }
 ],
 "metadata": {
  "kernelspec": {
   "display_name": "Python 2",
   "language": "python",
   "name": "python2"
  },
  "language_info": {
   "codemirror_mode": {
    "name": "ipython",
    "version": 2
   },
   "file_extension": ".py",
   "mimetype": "text/x-python",
   "name": "python",
   "nbconvert_exporter": "python",
   "pygments_lexer": "ipython2",
   "version": "2.7.10"
  }
 },
 "nbformat": 4,
 "nbformat_minor": 0
}
