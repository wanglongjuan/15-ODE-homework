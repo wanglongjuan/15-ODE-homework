{
 "cells": [
  {
   "cell_type": "markdown",
   "metadata": {},
   "source": [
    "一、求下列方程的通解\n",
    "\n",
    "\n",
    "1 $t^2x''+tx'-x=0$\n",
    "\n",
    "\n",
    "2 $t^2x''-4tx'+6x=t$"
   ]
  },
  {
   "cell_type": "markdown",
   "metadata": {},
   "source": [
    "解：\n",
    "\n",
    "(1)设$x=t^K$,则\n",
    "$$\n",
    "K(K-1)+K-1=0\n",
    "$$\n",
    "解得$K_1=1$ , $K_2=-1$\n",
    "\n",
    "因此方程的通解为\n",
    "$$\n",
    "y=c_1t+c_2{1 \\over t}\n",
    "$$\n",
    "其中$c_1$和$c_2$为任意常数"
   ]
  },
  {
   "cell_type": "markdown",
   "metadata": {},
   "source": [
    "（2）由题意可知，应先求得其次微分方程\n",
    "$$\n",
    "t^2x''-4tx'+6x=0\n",
    "$$\n",
    "的解\n",
    "\n",
    "令$x=t^K$\n",
    "$$\n",
    "K(K-1)-4k+6=0\n",
    "$$\n",
    "$$\n",
    "(K-2)(K-3)=0\n",
    "$$\n",
    "解得$K_1=2$ , $K_2=3$\n",
    "\n",
    "因此其次微分方程的通解为\n",
    "$$\n",
    "x=c_1t^2+c_2t^3 \n",
    "$$\n",
    "$c_1 ,c_2$为任意常数\n",
    "\n"
   ]
  },
  {
   "cell_type": "markdown",
   "metadata": {},
   "source": [
    "应用常数变易法，\n",
    "先将方程化为\n",
    "$$\n",
    "x''-{4 \\over t}x'+6{x \\over t^2}={1\\over t}\n",
    "$$\n",
    "可知方程有形如\n",
    "$$\n",
    "x_1=c_1(t)t^2+c_2(t)t^3\n",
    "$$\n",
    "的一个特解，即\n",
    "$$\n",
    "c_1'(t)t^2+c_2'(t)t^3=0\n",
    "$$\n",
    "$$\n",
    "2c_1'(t)t+3c_2'(t)t^2={1\\over t}\n",
    "$$\n",
    "解得\n",
    "$c_1'(t)=-{1\\over t^2}$ , $c_1'(t)={1 \\over t}$\n",
    "\n",
    "$c_2'(t)={1 \\over t^3}$ , $c_2(t)=-{1 \\over 2t^2}$\n",
    "\n",
    "即方程的通解为\n",
    "$$\n",
    "x_1=c_1t^2+c_2t^3+t-{1 \\over 2}t\n",
    "$$\n",
    "即\n",
    "$$\n",
    "x=c_1t^2+c_2t^3+{1 \\over 2}t\n",
    "$$\n",
    "$c_1$和$c_2$为任意常数"
   ]
  },
  {
   "cell_type": "markdown",
   "metadata": {},
   "source": [
    "$A^+$"
   ]
  },
  {
   "cell_type": "code",
   "execution_count": null,
   "metadata": {
    "collapsed": true
   },
   "outputs": [],
   "source": []
  }
 ],
 "metadata": {
  "kernelspec": {
   "display_name": "SageMath 7.3",
   "language": "",
   "name": "sagemath"
  },
  "language_info": {
   "codemirror_mode": {
    "name": "ipython",
    "version": 2
   },
   "file_extension": ".py",
   "mimetype": "text/x-python",
   "name": "python",
   "nbconvert_exporter": "python",
   "pygments_lexer": "ipython2",
   "version": "2.7.10"
  }
 },
 "nbformat": 4,
 "nbformat_minor": 0
}
