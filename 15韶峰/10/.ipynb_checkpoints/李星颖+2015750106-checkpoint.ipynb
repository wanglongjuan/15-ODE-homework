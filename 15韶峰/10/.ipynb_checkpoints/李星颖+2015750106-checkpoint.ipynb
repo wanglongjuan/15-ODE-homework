{
 "cells": [
  {
   "cell_type": "markdown",
   "metadata": {},
   "source": [
    "# 《常系数线性微分方程的解法》"
   ]
  },
  {
   "cell_type": "markdown",
   "metadata": {},
   "source": [
    "## 求下列方程的通解："
   ]
  },
  {
   "cell_type": "markdown",
   "metadata": {},
   "source": [
    "### (1):$t^{2}x''+tx'-x=0$;"
   ]
  },
  {
   "cell_type": "markdown",
   "metadata": {},
   "source": [
    "**解**:这是欧拉方程，设$x=t^{K}$,将其代入方程$\\implies K^{2}-1=0\\implies K_{1}=1,K_{2}=-1\\implies$\n",
    "\n",
    "基本解组为$\\{t,\\frac{1}{t}\\}$,于是通解为$x=c_1t+c_2\\frac{1}{t}$$,其中c_1,c_2$为任意常数。(解集为$<t,\\frac{1}{t}>_R$)"
   ]
  },
  {
   "cell_type": "markdown",
   "metadata": {},
   "source": [
    "### (2):$t^{2}x''-4tx'+6x=t$"
   ]
  },
  {
   "cell_type": "markdown",
   "metadata": {},
   "source": [
    "**解**:这是线性微分方程，先考察齐次线性微分方程$t^{2}x''-4tx'+6x=0$其是欧拉方程，于是设$x=t^{K}$,将其带入方程$\\implies (K-2)(K-3)=0\\implies K_1=2,K_2=3\\implies $\n",
    "\n",
    "基本解组$\\{t^{2},t^{3}\\}$,于是该齐次线性微分方程的通解为$x=c_1t^2+c_2t^3$，其中$c_1,c_2$为任意常数。(解集为$<t^{2},t^{3}>_R$)。\n",
    "\n",
    "由该基本解组通过常数变易法可求得特解$\\frac{t}{2}$。\n",
    "\n",
    "于是方程$t^{2}x''-4tx'+6x=t$的通解为$x=c_1t^2+c_2t^3+\\frac{t}{2}$其中$c_1,c_2$为任意常数。(解集为$\\frac{t}{2}+<t^{2},t^{3}>_R$)。"
   ]
  },
  {
   "cell_type": "markdown",
   "metadata": {
    "collapsed": true
   },
   "source": [
    "$A$"
   ]
  },
  {
   "cell_type": "code",
   "execution_count": null,
   "metadata": {
    "collapsed": true
   },
   "outputs": [],
   "source": []
  }
 ],
 "metadata": {
  "kernelspec": {
   "display_name": "SageMath 7.3",
   "language": "",
   "name": "sagemath"
  },
  "language_info": {
   "codemirror_mode": {
    "name": "ipython",
    "version": 2
   },
   "file_extension": ".py",
   "mimetype": "text/x-python",
   "name": "python",
   "nbconvert_exporter": "python",
   "pygments_lexer": "ipython2",
   "version": "2.7.10"
  }
 },
 "nbformat": 4,
 "nbformat_minor": 0
}
