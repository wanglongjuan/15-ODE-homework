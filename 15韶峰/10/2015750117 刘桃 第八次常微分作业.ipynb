{
 "cells": [
  {
   "cell_type": "markdown",
   "metadata": {},
   "source": [
    "## 3.求下列方程的通解"
   ]
  },
  {
   "cell_type": "markdown",
   "metadata": {},
   "source": [
    "## （1）$t^2x^{\\prime\\prime}+tx^\\prime-x=0$"
   ]
  },
  {
   "cell_type": "markdown",
   "metadata": {},
   "source": [
    "**解**\n",
    "寻找方程的形势解$x=t^K$\n",
    "\n",
    "$得到确定K的方程K(K-1)+K-1=0,即K=1或K=-1$\n",
    "\n",
    "所以通解为$x=c_1t+c_2\\frac{1}{t}$"
   ]
  },
  {
   "cell_type": "markdown",
   "metadata": {},
   "source": [
    "## (2)$t^2x^{\\prime\\prime}-4tx^\\prime+6x=t$"
   ]
  },
  {
   "cell_type": "markdown",
   "metadata": {},
   "source": [
    "**解**\n",
    "\n",
    "设$x=t^K,代入齐次方程，得K(k-1)-4K+6=0即$$(k-2)(K-3)=0$\n",
    "\n",
    "所以$K_1=2,K_2=3,所以方程的解为x=c_1t^2+c_2t^3$\n",
    "\n",
    "令非齐次方程的特解为$\\tilde x=at$，代入原方程得\n",
    "\n",
    "$-4at+6at=t$\n",
    "\n",
    "所以$t=\\frac{1}{2}$\n",
    "\n",
    "所以$\\tilde x=\\frac{1}{2}t$\n",
    "\n",
    "因此原方程的通解为$x=c_1t^2+c_2t^3+\\frac{1}{2}t,$其中$c_1,c_2$为任意常数。\n"
   ]
  },
  {
   "cell_type": "markdown",
   "metadata": {
    "collapsed": true
   },
   "source": [
    "$A$"
   ]
  },
  {
   "cell_type": "code",
   "execution_count": null,
   "metadata": {
    "collapsed": true
   },
   "outputs": [],
   "source": []
  }
 ],
 "metadata": {
  "kernelspec": {
   "display_name": "SageMath 7.3",
   "language": "",
   "name": "sagemath"
  },
  "language_info": {
   "codemirror_mode": {
    "name": "ipython",
    "version": 2
   },
   "file_extension": ".py",
   "mimetype": "text/x-python",
   "name": "python",
   "nbconvert_exporter": "python",
   "pygments_lexer": "ipython2",
   "version": "2.7.10"
  }
 },
 "nbformat": 4,
 "nbformat_minor": 0
}
