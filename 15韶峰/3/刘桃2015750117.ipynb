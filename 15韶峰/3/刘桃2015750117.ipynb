{
 "cells": [
  {
   "cell_type": "markdown",
   "metadata": {},
   "source": [
    "# 姓名：刘桃\n",
    "# 学号：2015750117"
   ]
  },
  {
   "cell_type": "markdown",
   "metadata": {},
   "source": [
    "# 一、求下列方程的解\n",
    "## 1、$\\frac{dy}{dx}-\\frac{n}{x}y=e^xx^n$\n",
    "**解**\n",
    "\n",
    "$\\frac{dy}{dx}=\\frac{n}{x}y$\n",
    "\n",
    "$y=cx^n$\n",
    "\n",
    "令 $y=c(x)x^n$\n",
    "\n",
    "代入$\\frac{dy}{dx}=\\frac{n}{x}c(x)x^n=c^\\prime(x)x^n+nc(x)x^{n-1}$\n",
    "\n",
    "得到$c(x)=e^x+c$\n",
    "\n",
    "即解为$y=x^n(e^x+c)$"
   ]
  },
  {
   "cell_type": "markdown",
   "metadata": {},
   "source": [
    "## 2、$\\frac{dy}{dx}=\\frac{1}{xy+x^3y^3}$\n",
    "**解**\n",
    "\n",
    "$\\frac{dx}{dy}=xy+x^3y^3$\n",
    "\n",
    "$\\frac{dx}{dy^2}=\\frac{1}{2}x+\\frac{1}{2}y^2x^3$\n",
    "\n",
    "令$y^2=z,h=x^{1-3}$\n",
    "\n",
    "$\\frac{dh}{dz}=-h-z$\n",
    "\n",
    "$\\frac{dh}{dz}=-h$\n",
    "\n",
    "$h=c\\frac{1}{e^z}$\n",
    "\n",
    "令$h=c(z)\\frac{1}{e^z}$\n",
    "\n",
    "代入$\\frac{dh}{dz}=-c(z)\\frac{1}{e^z}-z=c^\\prime(z)\\frac{1}{e^z}-zc(z)e^{z+1}$\n",
    "\n",
    "得到$h=1-z+c\\frac{1}{e^z}$\n",
    "\n",
    "即$(1-x^2+x^2y^2)e^{y^2}=cx^2$\n",
    "\n",
    "\n",
    "**过程不正确**"
   ]
  },
  {
   "cell_type": "markdown",
   "metadata": {},
   "source": [
    "## 3、$y=e^x+\\int_0^xy(t)\\mathrm dt$\n",
    "**解**\n",
    "$\\frac{dy}{dx}=e^x+y$\n",
    "\n",
    "$y=ce^x$\n",
    "\n",
    "令$y=c(x)e^x$\n",
    "\n",
    "$\\frac{dy}{dx}=e^x+c(x)e^x=c^\\prime(x)e^x+c(x)e^x$\n",
    "\n",
    "得到$y=e^x(x+c)$\n",
    "\n",
    "代入题目得到$c=1$\n",
    "\n",
    "即解为$y=e^x(x+1)$"
   ]
  },
  {
   "cell_type": "markdown",
   "metadata": {},
   "source": [
    "## 7.求解下列方程\n",
    "\n",
    "## （3）$y^\\prime\\sin x\\cos x-y-\\sin^3 x=0$\n",
    "\n",
    "**解**\n",
    "\n",
    "依题意$\\frac{\\mathrm d y}{\\mathrm d x}=\\frac{1}{\\sin x\\cos x}y+\\frac{\\sin^2 x}{\\cos x}（\\sin x≠0,\\cos x≠o）$\n",
    "\n",
    "所以$P(x)=\\frac{1}{\\sin x\\cos x},Q(x)=\\frac{\\sin^2 x}{\\cos x}$\n",
    "\n",
    "于是$y=e^{\\int\\frac{\\mathrm d x}{\\sin x\\cos x}}  (\\int{e^{\\frac{\\sin^2 x}{\\cos x}}e^{-\\int\\frac{\\mathrm d x}{\\sin x\\cos x} \\mathrm d x}}+c)$\n",
    "\n",
    "所以$y=\\tan x(-\\cos x+c)=c\\tan x-\\sin x$\n",
    "\n",
    "当$\\sin x=o$时，原方程化解为$y=0$\n",
    "\n",
    "当$\\cos x=0$时，原方程化解为$y=-\\sin^3 x=±1$，即曲线变成点$（2k\\pi+\\frac{\\pi}{2},-1）$和$（2k\\pi-\\frac{\\pi}{2},1)$,k=0,±1,±2,...\n",
    "\n",
    "综上可得，原方程的解为$y=\\tan x(-\\cos x+c)=c\\tan x-\\sin x(x≠k\\pi±\\frac{\\pi}{2})$\n",
    "\n",
    "或者点$（k\\pi+\\frac{\\pi}{2},(-1)^{k+1}),k=0,±1,±2,...$"
   ]
  },
  {
   "cell_type": "markdown",
   "metadata": {
    "collapsed": true
   },
   "source": [
    "# 验证下列方程 是恰当微分方程，并求出方程的解\n",
    "# 1、$(\\frac{1}{y}sin\\frac{x}{y}-\\frac{y}{x^2}cos{\\frac{y}{x}}+1)dx+(\\frac{1}{x}cos\\frac{y}{x}-\\frac{x}{y^2}sin\\frac{x}{y}+\\frac{1}{y^2})dy=0$\n",
    "**解**\n",
    "$M=\\frac{1}{y}sin\\frac{x}{y}-\\frac{y}{x^2}cos{\\frac{y}{x}}+1,N=\\frac{1}{x}cos\\frac{y}{x}-\\frac{x}{y^2}sin\\frac{x}{y}+\\frac{1}{y^2}$\n",
    "\n",
    "$\\frac{\\partial M}{\\partial y}=-\\frac{1}{y^2}sin\\frac{x}{y}-\\frac{x}{y^3}cos\\frac{x}{y}-\\frac{1}{x^2}cos\\frac{y}{x}+\\frac{y}{x^3}sin\\frac{y}{x}$"
   ]
  },
  {
   "cell_type": "markdown",
   "metadata": {},
   "source": [
    "$\\frac{\\partial N}{\\partial x}=-\\frac{1}{y^2}sin\\frac{x}{y}-\\frac{x}{y^3}cos\\frac{x}{y}-\\frac{1}{x^2}cos\\frac{y}{x}+\\frac{y}{x^3}sin\\frac{y}{x}$\n",
    "\n",
    "所以$\\frac{\\partial M}{\\partial y}=\\frac{\\partial N}{\\partial x}$\n",
    "\n",
    "即是恰当微分方程\n",
    "\n",
    "利用分项组合的办法，原方程可以写成$d(-cos\\frac{x}{y}+sin\\frac{y}{x}+x-\\frac{1}{y})=0$\n",
    "\n",
    "所以方程的解为$-cos\\frac{x}{y}+sin\\frac{y}{x}+x-\\frac{1}{y}=0$"
   ]
  },
  {
   "cell_type": "markdown",
   "metadata": {},
   "source": [
    "## 2、$(ycosx-xsinx)dx+(ysinx+xcosx)dy=0$\n",
    "**解**\n",
    "$M=ycosx-xsinx,N=ysinx+xcosx$\n",
    "\n",
    "$\\frac{\\partial M}{\\partial y}=cosx,\\frac{\\partial N}{\\partial x}=ycosx+cosx-xsinx$\n",
    "\n",
    "所以它不是恰当微分方程\n",
    "\n",
    "$-\\frac{\\frac{\\partial M}{\\partial y}-\\frac{\\partial N}{\\partial x}}{M}dy=1dy$\n",
    "\n",
    "所以$\\frac{d\\mu}{\\mu}=dy,即\\mu=ce^y$\n",
    "\n",
    "所以$e^y(ycosx-xsinx)dx+e^y(ysinx+xcosx)dy=0$是恰当微分方程\n",
    "\n",
    "$M_1=e^y(ycosx-xsinx),N_1=e^y(ysinx+xcosx)$\n",
    "\n",
    "$\\frac{\\partial M_1}{\\partial y}=e^y(ycosx-xsinx+cosx),\\frac{\\partial N_1}{\\partial x}=e^y(ycosx+cosx-xsinx)$\n",
    "\n",
    "现在求u,使它同时满足$\\frac{\\partial u}{\\partial x}=e^y(ycosx-xsinx),\\frac{\\partial u}{\\partial\n",
    "y}=e^y(ysinx+xcosx)$\n",
    "\n",
    "对x求积分得，$u=e^y(-ysinx+xcosx-sinx)+r(y)$\n",
    "\n",
    "$\\frac{\\partial u}{\\partial y}=e^y(-ysinx+xcosx-2sinx)+\\frac{dr(y)}{dy}=e^y(ysinx+xcosx)$\n",
    "\n",
    "所以$\\frac{dr(y)}{dy}=e^y(2sinx+2ysinx)$\n",
    "\n",
    "即$r(y)=2sinxe^y(1+y)$\n",
    "\n",
    "所以解为$e^y(ysinx+xcosx-sinx)=0$"
   ]
  },
  {
   "cell_type": "markdown",
   "metadata": {},
   "source": [
    "<font color=\"red\">**$e^y(ysinx+xcosx-sinx)=c$**"
   ]
  },
  {
   "cell_type": "markdown",
   "metadata": {
    "collapsed": true
   },
   "source": [
    "## 3、$x(4ydx+2xdy)+y^3(3ydx+5xdy)=0$"
   ]
  },
  {
   "cell_type": "markdown",
   "metadata": {},
   "source": [
    "$x(4ydx+2xdy)=d(2yx^2)$\n",
    "\n",
    "对于$y^3(3ydx+5xdy)，M=3y^4,N=5xy^3$\n",
    "\n",
    "$\\frac{\\partial M}{\\partial y}=12y^3,\\frac{\\partial N}{\\partial x}=5y^3$\n",
    "\n",
    "$\\frac{\\frac{\\partial M}{\\partial y}-\\frac{\\partial N}{\\partial x}}{M}=\\frac{7}{3y}$\n",
    "\n",
    "$\\frac{d\\mu}{\\mu}=-\\frac{7}{3y}dy$<font color=\"red\">不正确<font color=\"black\">\n",
    "\n",
    "\n",
    "\n",
    "$\\mu=c\\frac{1}{y^{\\frac{7}{3}}}$\n",
    "\n",
    "$3y^{\\frac{5}{3}}dx+5xy^{\\frac{2}{3}}dy=0是恰当微分方程$\n",
    "\n",
    "$M_1=3y^{\\frac{5}{3}},N_1=5xy^{\\frac{2}{3}}$\n",
    "\n",
    "对x积分得，$u=3y^{\\frac{5}{3}}x+r(y)$\n",
    "\n",
    "$\\frac{\\partial u}{\\partial y}=5y^{\\frac{2}{3}}x+\\frac{dr(y)}{y}=5xy^{\\frac{2}{3}}$\n",
    "\n",
    "所以$r(y)=0$\n",
    "\n",
    "即方程的解为$2yx^2+3y^{\\frac{5}{3}}x=c$\n"
   ]
  },
  {
   "cell_type": "markdown",
   "metadata": {
    "collapsed": true
   },
   "source": [
    "**$B^+$**"
   ]
  },
  {
   "cell_type": "code",
   "execution_count": null,
   "metadata": {
    "collapsed": true
   },
   "outputs": [],
   "source": []
  }
 ],
 "metadata": {
  "kernelspec": {
   "display_name": "SageMath 7.3",
   "language": "",
   "name": "sagemath"
  },
  "language_info": {
   "codemirror_mode": {
    "name": "ipython",
    "version": 2
   },
   "file_extension": ".py",
   "mimetype": "text/x-python",
   "name": "python",
   "nbconvert_exporter": "python",
   "pygments_lexer": "ipython2",
   "version": "2.7.10"
  }
 },
 "nbformat": 4,
 "nbformat_minor": 0
}
