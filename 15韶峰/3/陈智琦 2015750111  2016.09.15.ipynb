{
 "cells": [
  {
   "cell_type": "markdown",
   "metadata": {},
   "source": [
    "# 陈智琦    2015750111"
   ]
  },
  {
   "cell_type": "markdown",
   "metadata": {},
   "source": [
    "一、求解下列方程的解"
   ]
  },
  {
   "cell_type": "markdown",
   "metadata": {},
   "source": [
    "1、$$\\frac{dy}{dx}-{n\\over x}y=e^x x^n$$（n为常数）\n",
    "\n",
    "2、$$\\frac{dy}{dx}={1\\over xy+x^3 y^3}$$\n",
    "\n",
    "3、$$y=e^x+\\int_0^x\\mathrm{y(t)}{dt}$$"
   ]
  },
  {
   "cell_type": "markdown",
   "metadata": {},
   "source": [
    "解：（1）首先求$$\\frac{dy}{dx}={n\\over x}dx$$的通解\n",
    "\n",
    "即$$\\frac{dy}{y}={n\\over x}dx$$\n",
    "\n",
    "解得齐次线性微分方程的通解$$y=cx^n$$\n",
    "\n",
    "在上式中把c看成x的待定函数c(x),即$$y=c(x)x^n......(1)$$  \n",
    "\n",
    "微分之，可得$$\\frac{dy}{dx}=\\frac{dc(x)}{dx}x^n+c(x)nx^{n-1}......(2)$$\n",
    "\n",
    "将（1）（2）带入原试，可得$$\\frac{dc(x)}{dx}=e^x x^n$$\n",
    "\n",
    "即$$dc(x)=e^x dx$$\n",
    "\n",
    "积分之，得$$c(x)=e^x+c$$\n",
    "\n",
    "因此以所求的此$c(x)$带入（1）即得原方程的通解$$y=(e^x+c)x^n$$"
   ]
  },
  {
   "cell_type": "markdown",
   "metadata": {},
   "source": [
    "（2）解：原方程不是未知函数y的线性微分方程，因此将原方程改写为$$\\frac{dx}{dy}=xy+x^3y^3......(1)$$把x看做未知函数，y看做自变量\n",
    "\n",
    "这是n=3时的伯努力微分方程，令$$z=x^{-2}$$算得$$\\frac{dz}{dy}=-2x^{-3}\\frac{dx}{dy}$$\n",
    "\n"
   ]
  },
  {
   "cell_type": "markdown",
   "metadata": {},
   "source": [
    "带入（1)得$$\\frac{dz}{dy}=-2yz-2y^3......(2)$$"
   ]
  },
  {
   "cell_type": "markdown",
   "metadata": {},
   "source": [
    "这是线性微分方程，要求得（2）的通解，应先求得$$\\frac{dz}{dy}=-2yz$$的通解$$z=ce^{-y^2}$$"
   ]
  },
  {
   "cell_type": "markdown",
   "metadata": {},
   "source": [
    "将上式中的c看成y的待定函数$c(y)$得$$z=c(x)e^{-y^2}$$"
   ]
  },
  {
   "cell_type": "markdown",
   "metadata": {},
   "source": [
    "即$$\\frac{dz}{dy}=\\frac{dc(y)}{dy}d^{-y^2}-2yc(y)e^{-y^2}$$"
   ]
  },
  {
   "cell_type": "markdown",
   "metadata": {},
   "source": [
    "因此$$z=-y^2+1+ce^{-y^2}$$"
   ]
  },
  {
   "cell_type": "markdown",
   "metadata": {},
   "source": [
    "原方程的通解为$$x^2(-y^2+1+ce^{-y^2})=1$$\n",
    "\n",
    "$$e^{y^2}(1-x^2+x^2y^2)=cx^2$$"
   ]
  },
  {
   "cell_type": "markdown",
   "metadata": {},
   "source": [
    "（3）解：两边同时对x求导得$$\\frac{dy}{dx}=e^x+y$$\n",
    "\n",
    "$$\\frac{dy}{dx}=y+e^x$$\n",
    "\n",
    "即$$P(x)=1$$      $$Q(x)=e^x$$\n",
    "\n",
    "得$$y=e^x(x+c)$$将此方程带入原方程可得$$c=1$$\n",
    "\n",
    "因此，原方程的通解为$$y=e^x(x+1)$$"
   ]
  },
  {
   "cell_type": "markdown",
   "metadata": {},
   "source": [
    "二、解方程$$y'sinxcosx-y-sin^3x=0$$"
   ]
  },
  {
   "cell_type": "markdown",
   "metadata": {},
   "source": [
    "解：$$\\frac{dy}{dx}=\\frac{y}{sinxcosx}+\\frac{sin^2x}{cosx}$$"
   ]
  },
  {
   "cell_type": "markdown",
   "metadata": {},
   "source": [
    "即$$P(x)=\\frac{1}{sinxcosx}$$   $$Q(x)=\\frac{sin^2x}{cosx}$$"
   ]
  },
  {
   "cell_type": "markdown",
   "metadata": {},
   "source": [
    "利用一阶线性方程的求解公式得$$y=e^{\\int p(x)\\,\\mathrm{d}x}(\\int Q(x)e^{-\\int p(x)\\,\\mathrm{d}x}\\,\\mathrm{d}x+c)$$"
   ]
  },
  {
   "cell_type": "markdown",
   "metadata": {},
   "source": [
    "即$$y=\\frac{sinx}{cosx}(\\int sinx\\,\\mathrm{d}x+c)$$"
   ]
  },
  {
   "cell_type": "markdown",
   "metadata": {},
   "source": [
    "$$y=\\frac{sinx}{cosx}(-cosx+c)$$   \n",
    "\n",
    "$$y=ctgx-sinx$$"
   ]
  },
  {
   "cell_type": "markdown",
   "metadata": {},
   "source": [
    "**还有其它解**"
   ]
  },
  {
   "cell_type": "markdown",
   "metadata": {},
   "source": [
    "三、验证$$({1\\over y}sin{{x\\over y}}-{y\\over x^2}cos{{y\\over x}}+1)dx+({1\\over x}cos{y\\over x}-{x\\over y^2}sin{x\\over y}+{1\\over y^2})$$是恰当微分方程，并求出方程的解。"
   ]
  },
  {
   "cell_type": "markdown",
   "metadata": {
    "collapsed": true
   },
   "source": [
    "解：$$\\frac{\\partial M}{\\partial y}=-{1\\over y^2}sin{x\\over y}-{x\\over y^3}cos{x\\over y}-{1\\over x}sin{y\\over x}+{y\\over x^2}sin{y\\over x}$$"
   ]
  },
  {
   "cell_type": "markdown",
   "metadata": {},
   "source": [
    "$$\\frac{\\partial N}{\\partial y}=-{1\\over y^2}sin{x\\over y}-{x\\over y^3}cos{x\\over y}-{1\\over x}sin{y\\over x}+{y\\over x^2}sin{y\\over x}$$"
   ]
  },
  {
   "cell_type": "markdown",
   "metadata": {},
   "source": [
    "因此，该方程为恰当微分方程\n",
    "\n",
    "该方程的解为$$sin{y\\over x}-cos{x\\over y}+x-{1\\over y}$$"
   ]
  },
  {
   "cell_type": "markdown",
   "metadata": {},
   "source": [
    "四、求下列方程的解\n",
    "\n",
    "（1）$$(ycosx-xsiny)dx+(ysinx+xcosx)dy=0$$\n",
    "\n",
    "（2）$$x(4ydx+2xdy)+y^3(3ydx+5xdy)=0$$"
   ]
  },
  {
   "cell_type": "markdown",
   "metadata": {},
   "source": [
    "解：（1）$$M=ycosx-xsiny$$\n",
    "$$N=ysinx+xcosx$$\n",
    "\n",
    "$$\\frac{\\partial M}{\\partial y}=cosx+xcosy$$\n",
    "$$ \\frac{\\partial N}{\\partial x}=ycosx+cosx-xsinx$$\n",
    "\n",
    "即$$\\frac{\\partial M}{\\partial y}\\neq \\frac{\\partial N}{\\partial x}$$\n",
    "\n"
   ]
  },
  {
   "cell_type": "markdown",
   "metadata": {},
   "source": [
    "因此$$\\frac{\\frac{\\partial M}{\\partial y}-\\frac{\\partial N}{\\partial x}}{-M}1=$$"
   ]
  },
  {
   "cell_type": "markdown",
   "metadata": {},
   "source": [
    "因此方程有积分因子$$u=e^y$$\n",
    "\n",
    "原方程两边同时乘以u得$$e^y(ycosx-xsiny)dx+e^y(ysinx+xcosx)dy=0$$为恰当方程\n",
    "\n",
    "因此通解为$$\\int e^y(ycosx-xsiny)\\,\\mathrm{d}x+\\int e^y(ysinx+xcosx)\\,\\mathrm{d}y$$\n",
    "\n",
    "$$e^ysinx(y-1)+e^xcosx=c$$"
   ]
  },
  {
   "cell_type": "markdown",
   "metadata": {},
   "source": [
    "（2）两边同时乘以$x^2y$得\n",
    "$$(4x^3y^2dx+2x^4ydy)+(3x^2y^5+5x^3ydy)=0$$\n",
    "\n",
    "$$d(x^4y^2)+d(x^3y^5)=0$$\n",
    "\n",
    "因此方程的通解为$$x^4y^2+x^3y^4=c$$"
   ]
  },
  {
   "cell_type": "markdown",
   "metadata": {
    "collapsed": true
   },
   "source": [
    "**$A$**"
   ]
  },
  {
   "cell_type": "code",
   "execution_count": null,
   "metadata": {
    "collapsed": true
   },
   "outputs": [],
   "source": []
  }
 ],
 "metadata": {
  "kernelspec": {
   "display_name": "SageMath 7.3",
   "language": "",
   "name": "sagemath"
  },
  "language_info": {
   "codemirror_mode": {
    "name": "ipython",
    "version": 2
   },
   "file_extension": ".py",
   "mimetype": "text/x-python",
   "name": "python",
   "nbconvert_exporter": "python",
   "pygments_lexer": "ipython2",
   "version": "2.7.10"
  }
 },
 "nbformat": 4,
 "nbformat_minor": 0
}
