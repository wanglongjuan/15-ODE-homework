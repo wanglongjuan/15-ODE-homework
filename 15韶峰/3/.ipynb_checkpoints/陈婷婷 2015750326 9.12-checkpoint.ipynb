{
 "cells": [
  {
   "cell_type": "markdown",
   "metadata": {},
   "source": [
    "**1、求下列方程的解（P48.1)**\n",
    "\n",
    "**(4)$\\frac{\\mathrm d y}{\\mathrm d x}-\\frac{n}{x}y= e^x x^n$(n为常数）**"
   ]
  },
  {
   "cell_type": "markdown",
   "metadata": {},
   "source": [
    "解：首先求$\\frac{\\mathrm d y}{\\mathrm d x}-\\frac{n}{x}y=0$的通解，从对$\\frac{\\mathrm d y}{y}=\\frac{n}{x}{\\mathrm d x}$两边积分得$$\\int \\frac{1}{y}{\\rm d}y=\\int \\frac{n}{x}{\\rm d}x$$从而得$$y=cx^n$$\n",
    "\n",
    "再利用常数变易法求所给非齐次线性微分方程的通解，在上式中把c看成为x的待定函数c(x)\n",
    "\n",
    "则有$$y=c(x)x^n$$微分得到$$\\frac{\\mathrm d y}{\\mathrm d x}=x^n\\frac{\\mathrm d c(x)}{\\mathrm d x}+nx^{n-1}c(x)$$\n",
    "\n",
    "将上述两式代入原求解方程得$$\\frac{\\mathrm d c(x)}{\\mathrm d x}=e^x$$对等式两边积分得$$c(x)=e^x+c_1$$\n",
    "\n",
    "故将c(x)代入即得原方程的通解$$y=x^n(e^x+c_1)   ，其中(c_1是任意常数)$$"
   ]
  },
  {
   "cell_type": "markdown",
   "metadata": {},
   "source": [
    "**(15)$\\frac{\\mathrm d y}{\\mathrm d x}=\\frac{1}{xy+x^3y^3}$**"
   ]
  },
  {
   "cell_type": "markdown",
   "metadata": {
    "collapsed": true
   },
   "source": [
    "解：将原方程改写为$$\\frac{\\mathrm d x}{\\mathrm d y}=yx+y^3x^3$$\n",
    "\n",
    "这是n=3的伯努利微分方程，令$z=x^{-2}$,算得$$\\frac{\\mathrm d z}{\\mathrm d y}=-2x^{-3}\\frac{\\mathrm d x}{\\mathrm d y}$$\n",
    "\n",
    "代入到改写后的方程得$$\\frac{\\mathrm d z}{\\mathrm d y}=-2yz-2y^3$$\n",
    "\n",
    "先求出$\\frac{\\mathrm d z}{\\mathrm d y}=-2yz$的通解：$$z=\\pm e^{c-y^2}，由于z=x^{-2}> 0,故z=e^{c-y^2}(c为任意常数)$$"
   ]
  },
  {
   "cell_type": "markdown",
   "metadata": {
    "collapsed": true
   },
   "source": [
    "再利用常数变易法求上述非齐次线性微分方程的通解,令$$z=e^{c(y)-y^2}$$对其微分得到$$\\frac{\\mathrm d z}{\\mathrm d y}=e^{c(y)-y^2}(\\frac{\\mathrm d c(y)}{\\mathrm d y}-2y）$$\n",
    "\n",
    "将上述两式代入$\\frac{\\mathrm d z}{\\mathrm d y}=-2yz-2y^3$得$$e^{c(y)}{\\mathrm d c(y)}=2y^3e^{y^2}{\\mathrm d y}$$两边同时积分得$$e^{c(y）}=(1-y^2）e^{y^2}+c_1，(c_1为任意常数）$$\n",
    "\n",
    "将其代入$z=e^{c(y)-y^2}$得$$z=(1-y^2)+\\frac{c_1}{e^{y^2}}$$\n",
    "\n",
    "再将$z=x^{-2}$代入，从而得原方程的通解为**$$(\\frac{1}{x^2}+y^2-1)e^{y^2}=c_1，(c_1为任意常数）$$**"
   ]
  },
  {
   "cell_type": "markdown",
   "metadata": {},
   "source": [
    "**(16)$y=e^x+\\int_0^x y(t){\\rm d}t$**"
   ]
  },
  {
   "cell_type": "markdown",
   "metadata": {},
   "source": [
    "解：对方程两边求导得$$\\frac{\\mathrm d y}{\\mathrm d x}=y+e^x$$先求出$\\frac{\\mathrm d y}{\\mathrm d x}=y$的通解：$$y=e^{x+c}(c为任意常数)$$ \n",
    "\n",
    "再利用常数变易法求上述非齐次线性微分方程的通解，令$$y=e^{x+c(x)}$$对其微分得到$$\\frac{\\mathrm d y}{\\mathrm d x}=[1+\\frac{\\mathrm d c(x)}{\\mathrm d x}]e^{x+c(x)}$$\n",
    "\n",
    "将上述两式代入$\\frac{\\mathrm d y}{\\mathrm d x}=y+e^x$得$$e^{c(x)}{\\mathrm d c(x)}={\\mathrm d x}$$\n",
    "\n",
    "两边积分得$$c(x)=ln|x+c_1|,(c_1为任意常数）$$\n",
    "\n",
    "将其代入$y=e^{x+c(x)}$得方程的通解为$$y=e^x(x+c_1),(c_1为任意常数）$$"
   ]
  },
  {
   "cell_type": "markdown",
   "metadata": {
    "collapsed": true
   },
   "source": [
    "**代入原式可得 $c_1=1$ , 方程的通解为 $$y=e^x(x+1)$$**"
   ]
  },
  {
   "cell_type": "markdown",
   "metadata": {},
   "source": [
    "**2、求解下列方程（P50.7）**"
   ]
  },
  {
   "cell_type": "markdown",
   "metadata": {},
   "source": [
    "**(3)$y'sinxcosx-y-sin^3 x=0$**"
   ]
  },
  {
   "cell_type": "markdown",
   "metadata": {},
   "source": [
    " 解：$$\\frac{\\mathrm d y}{\\mathrm d x}=\\frac{y}{sinxcosx}+\\frac{sin^2x}{cosx}$$\n",
    " \n",
    "   根据一阶线性方程的求解公式$$y=e^{\\int \\frac{1}{sinxcosx}{\\rm d}x}(\\int \\frac{sin^2x}{cosx}e^{-\\int \\frac{1}{sinxcosx}{\\rm d}x}{\\mathrm d x}+c)$$ 化简得$$y=ctanx-sinx,(c为任意常数)$$"
   ]
  },
  {
   "cell_type": "markdown",
   "metadata": {
    "collapsed": true
   },
   "source": [
    "**解不全**"
   ]
  },
  {
   "cell_type": "code",
   "execution_count": null,
   "metadata": {
    "collapsed": true
   },
   "outputs": [],
   "source": []
  }
 ],
 "metadata": {
  "kernelspec": {
   "display_name": "SageMath 7.3",
   "language": "",
   "name": "sagemath"
  },
  "language_info": {
   "codemirror_mode": {
    "name": "ipython",
    "version": 2
   },
   "file_extension": ".py",
   "mimetype": "text/x-python",
   "name": "python",
   "nbconvert_exporter": "python",
   "pygments_lexer": "ipython2",
   "version": "2.7.10"
  }
 },
 "nbformat": 4,
 "nbformat_minor": 0
}
