{
 "cells": [
  {
   "cell_type": "markdown",
   "metadata": {},
   "source": [
    "## 1.求解下列方程"
   ]
  },
  {
   "cell_type": "markdown",
   "metadata": {},
   "source": [
    "1.\n",
    "$$\\frac{\\mathrm dy}{\\mathrm dx}-\\frac{n}{x}y=e^{x}x^{n}$$\n",
    "$n$为常数\n",
    "\n",
    "2.\n",
    "$$\\frac{\\mathrm dy}{\\mathrm dx}=\\frac{1}{xy+x^3y^3}$$\n",
    "3.\n",
    "$$y=e^x+\\int_0^x y(t)\\mathrm dt$$\n",
    "4.\n",
    "$$y'sinxcosx-y-sin^3x=0$$"
   ]
  },
  {
   "cell_type": "markdown",
   "metadata": {},
   "source": [
    "解：\n",
    "1.\n",
    "$$\\int \\frac{n}{x}\\mathrm dx=nln|x|$$\n",
    "\n",
    "$$\\int e^{x}x^{n}\\frac{1}{|x|^n}\\mathrm dx=\\int e^{x}=e^{x}$$\n",
    "\n",
    "$$所以 y=x^n(e^x+c)$$\n",
    "\n",
    "2.\n",
    "从原式可得\n",
    "$$\\frac{\\mathrm dx}{\\mathrm dy}=xy+x^3y^3$$\n",
    "\n",
    "两边乘以$\\frac{1}{x^3}$得\n",
    "\n",
    "$$\\frac{\\mathrm dx}{\\mathrm dy}\\frac{1}{x^3}=\\frac{y}{x^2}+y^3$$\n",
    "\n",
    "LET $\\large{z=\\frac{1}{x^2}}$\n",
    "\n",
    "THEN $\\large{dz=-2\\frac{\\mathrm dx}{x^3}}$\n",
    "\n",
    "SO WE GET\n",
    "\n",
    "$$\\frac{\\mathrm dz}{dy}=-2yz+y^3$$\n",
    "\n",
    "WE CAN EASILY GET\n",
    "\n",
    "$$\\int -2y dy=-y^2,\\\\\n",
    "\\int y^2 e{y^2}dy=\\frac{x e^{x}}{2}\\\\\n",
    "SO y=e^{-x^2}(\\frac{x e^{x}}{2}+c)\n",
    "$$#不正确"
   ]
  },
  {
   "cell_type": "markdown",
   "metadata": {},
   "source": [
    "3.\n",
    "Let $\\int_0^x y(t)\\mathrm dt=z$\n",
    "Then$\\frac{\\mathrm dz}{dx}=y$\n",
    "SO We Can Write it like this\n",
    "$$\\frac{\\mathrm dy}{\\mathrm dx}=y-e^x$$\n",
    "THIS WILL BE VERY EASY\n",
    "$$\\int dx=x$$\n",
    "$$\\int -e^{2x}\\mathrm dx=-\\frac{e^{2x}}{2}$$\n",
    "SO\n",
    "$$y=e^{x}(-\\frac{e^{2x}}{2}+c)$$"
   ]
  },
  {
   "cell_type": "markdown",
   "metadata": {},
   "source": [
    "4.\n",
    "整理得\n",
    "$$\n",
    "\\frac{\\mathrm dy}{\\mathrm dx}=\\frac{2y}{sin2x}+\\frac{sin^2{x}}{cosx} \\\\\n",
    "\\int \\frac{2}{sin2x}\\mathrm dx=ln|csc（2x）-cot（2x）|\\\\\n",
    "e^{int \\frac{2}{sin2x}\\mathrm dx}=tanx\\\\\n",
    "\\int sinxtanxcotx\\mathrm dx=-cosx\\\\\n",
    "所以\n",
    "y=tanx(-cosx+c)=-sinx+ctanx\\\\\n",
    "以及\n",
    "(x,y)=(k\\pi+\\frac{\\pi}{2},(-1)^{k+1})\n",
    "$$"
   ]
  },
  {
   "cell_type": "code",
   "execution_count": 1,
   "metadata": {
    "collapsed": false
   },
   "outputs": [
    {
     "data": {
      "text/html": [
       "<html><script type=\"math/tex; mode=display\">\\newcommand{\\Bold}[1]{\\mathbf{#1}}\\frac{1}{2} \\, x e^{\\left(x^{2}\\right)} + \\frac{1}{4} i \\, \\sqrt{\\pi} \\text{erf}\\left(i \\, x\\right)</script></html>"
      ],
      "text/plain": [
       "1/2*x*e^(x^2) + 1/4*I*sqrt(pi)*erf(I*x)"
      ]
     },
     "metadata": {},
     "output_type": "display_data"
    }
   ],
   "source": [
    "var('x')\n",
    "y=x^2*exp(x^2)\n",
    "show(integral(y,x))"
   ]
  },
  {
   "cell_type": "markdown",
   "metadata": {},
   "source": [
    "## 2.验证下列方程是恰当微分方程，并求出其解"
   ]
  },
  {
   "cell_type": "markdown",
   "metadata": {},
   "source": [
    "1.\n",
    "$$(\\frac{1}{y}sin(\\frac{x}{y})-\\frac{y}{x^2}cos(\\frac{y}{x})+1)\\mathrm dx+(\\frac{1}{x}cos(\\frac{y}{x})-\\frac{x}{y^2}sin(\\frac{y}{x})+\\frac{1}{y^2})\\mathrm dy=0$$"
   ]
  },
  {
   "cell_type": "markdown",
   "metadata": {},
   "source": [
    "解：\n",
    "验证的工作我们交给计算机\n",
    "\n",
    "我们着手求解\n",
    "\n",
    "下面“配对”\n",
    "$$\n",
    "\\frac{1}{y}sin\\frac{x}{y}\\mathrm dx-\\frac{x}{y^2}sin{y}{x}\\mathrm dy=\\mathrm d(-cos(\\frac{x}{y}))\\\\\n",
    "-\\frac{y}{x^2}cos\\frac{y}{x}\\mathrm dx+\\frac{1}{x}cos{y}{x}\\mathrm dy=\\mathrm d(sin(\\frac{y}{x}))\\\\\n",
    "\\mathrm dx+\\frac{1}{y^2}\\mathrm dy=d(x+\\frac{1}{y})\n",
    "$$\n",
    "所以\n",
    "$$dz=d(sin(\\frac{y}{x})-cos(\\frac{x}{y})+x+\\frac{1}{y})=0$$\n",
    "所以通解是\n",
    "$$sin(\\frac{y}{x})-cos(\\frac{x}{y})+x+\\frac{1}{y}=c$$"
   ]
  },
  {
   "cell_type": "markdown",
   "metadata": {},
   "source": [
    "## 3.求解微分方程"
   ]
  },
  {
   "cell_type": "markdown",
   "metadata": {},
   "source": [
    "1.\n",
    "$$(ycosx-xsinx)\\mathrm dx+(ysinx+xcosx)\\mathrm dy=0$$\n",
    "2.\n",
    "$$x(4y\\mathrm dx+2x\\mathrm dy)+y^3(3y\\mathrm dx+5x\\mathrm dy)=0$$"
   ]
  },
  {
   "cell_type": "markdown",
   "metadata": {},
   "source": [
    "解：\n",
    "\n",
    "1.\n",
    "$$\n",
    "\\frac{\\partial M}{\\partial y}=\\cos\\left(x\\right),\\\\\n",
    "\\frac{\\partial N}{\\partial x}=y \\cos\\left(x\\right) - x \\sin\\left(x\\right) + \\cos\\left(x\\right)\\ne\\frac{\\partial M}{\\partial y}\n",
    "$$\n",
    "不是恰当方程\n",
    "$$\n",
    "\\frac{\\frac{\\partial M}{\\partial y}-\\frac{\\partial N}{\\partial x}}{-M}=1，\\\\\n",
    "积分因子\n",
    "\\mu =e^{y}\\\\\n",
    "于是\n",
    "e^{y}[(ycosx-xsinx)\\mathrm dx+(ysinx+xcosx)\\mathrm dy]=0\n",
    "$$\n",
    "\"配对\"\n",
    "$$\n",
    "e^{y}ycosx\\mathrm dx+e^{y}ysinx\\mathrm dy=d(e^{y}ysinx)-e^{y}sinx\\mathrm dy \\\\ \n",
    "-xsinx e^{y}dx+xcosx e^{y}\\mathrm dy=d(e^{y}xcosx)-e^{y}cosx\\mathrm dx \\\\\n",
    "相加得d(e^{y}ysinx+e^{y}xcosx-e^{y}sinx)=0 \\\\\n",
    "即得\n",
    "e^{y}ysinx+e^{y}xcosx-e^{y}sinx=c\n",
    "$$"
   ]
  },
  {
   "cell_type": "code",
   "execution_count": 3,
   "metadata": {
    "collapsed": false,
    "scrolled": true
   },
   "outputs": [
    {
     "data": {
      "text/plain": [
       "y \\cos\\left(x\\right) - x \\sin\\left(x\\right) + \\cos\\left(x\\right)"
      ]
     },
     "execution_count": 3,
     "metadata": {},
     "output_type": "execute_result"
    }
   ],
   "source": [
    "var('x,y')\n",
    "z1=y*cos(x)-x*sin(x)\n",
    "z2=y*sin(x)+x*cos(x)\n",
    "latex(diff(z2,x))"
   ]
  },
  {
   "cell_type": "markdown",
   "metadata": {},
   "source": [
    "2.\n",
    "$$\n",
    "4xy\\mathrm dx+2x^2\\mathrm dy+3y^4\\mathrm dx+5xy^3\\mathrm dy=0\n",
    "$$\n",
    "两边同乘以$x^2y$\n",
    "则可以化为\n",
    "$$\n",
    "4x^3y^2\\mathrm dx+2x^4y\\mathrm dy+3x^2y^5\\mathrm dx+5y^4x^3\\mathrm dy=0\\\\\n",
    "d(x^4y^2)+d(x^3y^5)=0\\\\\n",
    "所以\n",
    "x^4y^2+x^3y^5=c\n",
    "$$"
   ]
  },
  {
   "cell_type": "markdown",
   "metadata": {},
   "source": [
    "$B^+$"
   ]
  },
  {
   "cell_type": "code",
   "execution_count": null,
   "metadata": {
    "collapsed": true
   },
   "outputs": [],
   "source": []
  }
 ],
 "metadata": {
  "kernelspec": {
   "display_name": "SageMath 7.3",
   "language": "",
   "name": "sagemath"
  },
  "language_info": {
   "codemirror_mode": {
    "name": "ipython",
    "version": 2
   },
   "file_extension": ".py",
   "mimetype": "text/x-python",
   "name": "python",
   "nbconvert_exporter": "python",
   "pygments_lexer": "ipython2",
   "version": "2.7.10"
  }
 },
 "nbformat": 4,
 "nbformat_minor": 0
}
