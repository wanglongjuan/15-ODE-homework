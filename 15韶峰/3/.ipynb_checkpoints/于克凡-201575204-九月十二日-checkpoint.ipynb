{
 "cells": [
  {
   "cell_type": "markdown",
   "metadata": {},
   "source": [
    "# 习题2.2"
   ]
  },
  {
   "cell_type": "markdown",
   "metadata": {},
   "source": [
    "## 1、求下列方程的解："
   ]
  },
  {
   "cell_type": "markdown",
   "metadata": {},
   "source": [
    "### (4)$\\frac{dy}{dx}-\\frac{n}{x}y=e^{x}x^n(n为常数)$"
   ]
  },
  {
   "cell_type": "markdown",
   "metadata": {},
   "source": [
    "解：因为方程为一阶线性微分方程，所以先解方程$\\frac{dy}{dx}=\\frac{n}{x}y$"
   ]
  },
  {
   "cell_type": "markdown",
   "metadata": {},
   "source": [
    "$\\implies\\frac{dy}{y}=n\\frac{dx}{x}\\implies\\ln y=\\ln x^n+C\\implies y=Cx^n$"
   ]
  },
  {
   "cell_type": "markdown",
   "metadata": {},
   "source": [
    "利用常数变异法，令$C$为关于$x$的待定函数$c（x）$"
   ]
  },
  {
   "cell_type": "markdown",
   "metadata": {},
   "source": [
    "所以$\\frac{dy}{dx}=\\frac{x^ndx+nx^{n-1}dc(x)}{dx}\\implies dc(x)=e^xdx\\implies c(x)=e^x+\\tilde{c}$"
   ]
  },
  {
   "cell_type": "markdown",
   "metadata": {},
   "source": [
    "通解为$y=(e^x+\\tilde{c})x^n$"
   ]
  },
  {
   "cell_type": "markdown",
   "metadata": {},
   "source": [
    "# (15)$\\frac{dy}{dx}=\\frac{1}{xy+x^3y^3}$"
   ]
  },
  {
   "cell_type": "markdown",
   "metadata": {},
   "source": [
    "解：由原方程得$$\\frac{dy^2}{dx}=\\frac{1}{x(1+x^2y^2)}\\implies\\frac{dx}{dy^2}=\\frac{x}{2}+\\frac{x^3y^2}{2}\\\\\n",
    "\\implies\\frac{dx}{x^3dy^2}=\\frac{1}{2x^2}+\\frac{y^2}{2}(记z=\\frac{1}{x^2})\\\\\n",
    "\\implies\\frac{dz}{dy^2}=-2\\frac{dx}{x^3dy^2}=-z-y^2$$这是一阶线性微分方程"
   ]
  },
  {
   "cell_type": "markdown",
   "metadata": {},
   "source": [
    "先解$\\frac{dz}{dy^2}=-z\\implies\\ln|z|=-y^2+c\\implies z=Ce^{-y^2}$"
   ]
  },
  {
   "cell_type": "markdown",
   "metadata": {},
   "source": [
    "利用常数变异法，令$C$为关于$y^2$的待定函数$c（y^2）$"
   ]
  },
  {
   "cell_type": "markdown",
   "metadata": {},
   "source": [
    "所以$-y^2=\\frac{e^{-y^2}dc(y^2)}{dy^2}\\implies dc(y^2)=-y^2e^{y^2}dy^2\\implies c(y^2)=-y^2e^{y^2}+e^{y^2}+\\tilde c\\\\\\implies\\frac{1}{x^2}=e^{-y^2}(-y^2e^{y^2}+e^{y^2}+\\tilde c)\\implies 1=-x^2y^2+x^2+\\tilde{c}x^2e^{-y^2}\\\\\n",
    "\\implies(1+x^2+x^2y^2)e^{y^2}=\\tilde{c}x^2$"
   ]
  },
  {
   "cell_type": "markdown",
   "metadata": {},
   "source": [
    "# (16)$y=e^x+\\int_0^x y(t)dt$"
   ]
  },
  {
   "cell_type": "markdown",
   "metadata": {},
   "source": [
    "解：由题知$\\frac{dy}{dx}=e^x+y$这是一阶线性微分方程"
   ]
  },
  {
   "cell_type": "markdown",
   "metadata": {},
   "source": [
    "先解$\\frac{dy}{dx}=y\\implies y=Ce^x$"
   ]
  },
  {
   "cell_type": "markdown",
   "metadata": {},
   "source": [
    "利用常数变异法，令$C$为关于$x$的待定函数$c（x）$"
   ]
  },
  {
   "cell_type": "markdown",
   "metadata": {},
   "source": [
    "$\\frac{dy}{dx}=\\frac{c(x)e^xdx+e^xdc(x)}{dx}=y+e^x\\implies dc(x)=1dx\\implies c(x)=x+\\tilde{c}$"
   ]
  },
  {
   "cell_type": "markdown",
   "metadata": {},
   "source": [
    "所以解为$y=(x+\\tilde{c})e^x$"
   ]
  },
  {
   "cell_type": "markdown",
   "metadata": {},
   "source": [
    "## 7、求解下列方程"
   ]
  },
  {
   "cell_type": "markdown",
   "metadata": {},
   "source": [
    "## （3）$y^\\prime\\sin x \\cos x-y-\\sin^3x=0$"
   ]
  },
  {
   "cell_type": "markdown",
   "metadata": {},
   "source": [
    "解：原方程化为\n",
    "\n",
    "$$\\frac{dy}{dx}=\\frac{1}{sinxcosx}y+\\frac{sin^{2}x}{cosx}$$\n",
    "\n",
    "\n",
    "其通解为\n",
    "\n",
    "$$y=e^{\\int \\frac{1}{sinxcosx}\\mathrm dx}(\\int \\frac{sin^{2}x}{cosx}e^{\\int \\frac{1}{sinxcosx}\\mathrm dx}\\mathrm dx+c)$$\n",
    "\n",
    "\n",
    "$$\\implies y=tanx(\\int \\frac{sin^{2}x}{cosx}cotx\\mathrm dx+c)$$\n",
    "\n",
    "\n",
    "\n",
    "$$\\implies y=tanx(-cosx+c),$$\n",
    "\n",
    "$$\\implies y=ctanx-sinx,$$  \n",
    "\n",
    "当sinx=0时,原方程化为y=0.\n",
    "当cosx=0时,原方程化为$y=-sin^{3}x=\\pm 1$,\n",
    "\n",
    "即曲线变成一系列的点:\n",
    "\n",
    "$$(2k\\pi+\\frac{\\pi}{2},-1),(2k\\pi-\\frac{\\pi}{2},-1),k=0,\\pm 1,\\pm 2,···.$$\n",
    "\n",
    "综上，原方程的解为\n",
    "\n",
    "$$y=ctanx-sinx,(x\\neq k\\pi \\pm\\frac{\\pi}{2})$$\n",
    "\n",
    "或点\n",
    "\n",
    "$$(2k\\pi+\\frac{\\pi}{2},-1),(2k\\pi-\\frac{\\pi}{2},-1),k=0,\\pm 1,\\pm 2,···.$$"
   ]
  }
 ],
 "metadata": {
  "kernelspec": {
   "display_name": "SageMath 7.3",
   "language": "",
   "name": "sagemath"
  },
  "language_info": {
   "codemirror_mode": {
    "name": "ipython",
    "version": 2
   },
   "file_extension": ".py",
   "mimetype": "text/x-python",
   "name": "python",
   "nbconvert_exporter": "python",
   "pygments_lexer": "ipython2",
   "version": "2.7.10"
  }
 },
 "nbformat": 4,
 "nbformat_minor": 0
}
