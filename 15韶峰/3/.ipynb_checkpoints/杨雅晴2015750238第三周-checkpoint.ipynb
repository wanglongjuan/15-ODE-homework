{
 "cells": [
  {
   "cell_type": "markdown",
   "metadata": {},
   "source": [
    "# 1.求下列方程的解"
   ]
  },
  {
   "cell_type": "markdown",
   "metadata": {},
   "source": [
    "## (1) $\\frac{dy} {dx}-\\frac{n} {x}y=e^xx^n$（n为常数）"
   ]
  },
  {
   "cell_type": "markdown",
   "metadata": {},
   "source": [
    "**解：** 对应公式，令$P(x)=\\frac{n} {x}$,$Q(x)=e^xx^n$"
   ]
  },
  {
   "cell_type": "markdown",
   "metadata": {},
   "source": [
    "得$y=e^{\\int\\mathrm{\\frac{n} {x}}\\,\\mathrm{d}x}(\\int\\mathrm{e^xx^ne^{-\\int\\mathrm{\\frac{n} {x}}\\,\\mathrm{d}x}}\\mathrm{d}x+c)$"
   ]
  },
  {
   "cell_type": "markdown",
   "metadata": {},
   "source": [
    "$=x^n(\\int\\mathrm{e^xx^nx^{-n}}\\mathrm{d}x+c)$"
   ]
  },
  {
   "cell_type": "markdown",
   "metadata": {},
   "source": [
    "$=(e^x+c)x^n$"
   ]
  },
  {
   "cell_type": "markdown",
   "metadata": {},
   "source": [
    "## (2)$\\frac{dy} {dx}=\\frac{1} {xy+x^3y^3}$"
   ]
  },
  {
   "cell_type": "markdown",
   "metadata": {},
   "source": [
    "**解：**令$u=y^2$,则原方程化为"
   ]
  },
  {
   "cell_type": "markdown",
   "metadata": {},
   "source": [
    "$$\\frac{du} {dx}=\\frac{2} {x+x^3u}$$"
   ]
  },
  {
   "cell_type": "markdown",
   "metadata": {},
   "source": [
    "再化为$$\\frac{dx} {du}=\\frac{x} {2}+\\frac{u} {2}x^3$$"
   ]
  },
  {
   "cell_type": "markdown",
   "metadata": {},
   "source": [
    "即为$n=3$时的伯努利方程，则令$z=x^{-2}$得"
   ]
  },
  {
   "cell_type": "markdown",
   "metadata": {},
   "source": [
    "$$\\frac{dz} {du}=-2x^{-3}\\frac{dx} {du}$$"
   ]
  },
  {
   "cell_type": "markdown",
   "metadata": {},
   "source": [
    "代入$\\frac{dx} {du}$的表达式，得到"
   ]
  },
  {
   "cell_type": "markdown",
   "metadata": {},
   "source": [
    "$$\\frac{dz} {du}=-z-u$$"
   ]
  },
  {
   "cell_type": "markdown",
   "metadata": {},
   "source": [
    "求通解为$$z=e^{\\int\\mathrm{-1}\\mathrm{d}u}(\\int\\mathrm{(-u)}e^{\\int\\mathrm{1}\\mathrm{d}u}\\mathrm{d}u+c)$$"
   ]
  },
  {
   "cell_type": "markdown",
   "metadata": {},
   "source": [
    "即$$z=ce^{-u}-u+1$$"
   ]
  },
  {
   "cell_type": "markdown",
   "metadata": {},
   "source": [
    "把$z=x^{-2}$,$u=y^2$代入得原方程的通解"
   ]
  },
  {
   "cell_type": "markdown",
   "metadata": {},
   "source": [
    "$$\\frac{1} {x^2}=ce^{-u}-y^2+1$$"
   ]
  },
  {
   "cell_type": "markdown",
   "metadata": {},
   "source": [
    "## (3)$y=e^x+\\int_0^x\\mathrm y(t)\\,\\mathrm{d}t$"
   ]
  },
  {
   "cell_type": "markdown",
   "metadata": {},
   "source": [
    "**解：**对方程两边关于x求导得"
   ]
  },
  {
   "cell_type": "markdown",
   "metadata": {},
   "source": [
    "$$\\frac{dy} {dx}=e^x+y$$"
   ]
  },
  {
   "cell_type": "markdown",
   "metadata": {},
   "source": [
    "可求通解为$$y=e^x(\\int\\mathrm{e^xe^{-x}}\\mathrm{d}x+c)$$"
   ]
  },
  {
   "cell_type": "markdown",
   "metadata": {},
   "source": [
    "即$$y=e^x(x+c)$$"
   ]
  },
  {
   "cell_type": "markdown",
   "metadata": {},
   "source": [
    "当$x=0$时，代入原方程可得$c=1$"
   ]
  },
  {
   "cell_type": "markdown",
   "metadata": {},
   "source": [
    "所以，原方程的解为$$y=e^x(x+1)$$"
   ]
  },
  {
   "cell_type": "markdown",
   "metadata": {},
   "source": [
    "## (4)$y'\\sin x\\cos x-y-sin^3x=0$"
   ]
  },
  {
   "cell_type": "markdown",
   "metadata": {},
   "source": [
    "**解：**将方程变形为$$\\frac{dy} {dx}=\\frac{y} {\\sin x\\cos x}+\\frac{sin^2x} {cosx}$$($\\sin x\\not=0$,$\\cos x\\not=0$)"
   ]
  },
  {
   "cell_type": "markdown",
   "metadata": {},
   "source": [
    "可得通解为$$y=e^{\\int\\mathrm{\\frac{1} {sinxcosx}}\\mathrm{d}x}(\\int\\mathrm{\\frac{sin^2x} {cosx}}e^{-\\int\\mathrm{\\frac{1} {sinxcosx}}\\mathrm{d}x}\\mathrm{d}x+c)$$"
   ]
  },
  {
   "cell_type": "markdown",
   "metadata": {},
   "source": [
    "即$$y=\\tan x(\\int\\mathrm{\\frac{sin^2x} {cosx}cotx}\\mathrm{d}x+c)$$"
   ]
  },
  {
   "cell_type": "markdown",
   "metadata": {},
   "source": [
    "即$$y=c\\tan x-\\sin x$$"
   ]
  },
  {
   "cell_type": "markdown",
   "metadata": {},
   "source": [
    "当$\\sin x=0$时，原方程为$y=0$"
   ]
  },
  {
   "cell_type": "markdown",
   "metadata": {},
   "source": [
    "当$\\cos x=0$时，原方程化为$y=-sin^3x=\\pm1$,即曲线退化成点"
   ]
  },
  {
   "cell_type": "markdown",
   "metadata": {},
   "source": [
    "综上所述，原方程的解为$y=c\\tan x-\\sin x$,($x\\not=k\\pi\\pm\\frac{\\pi} {2}$)"
   ]
  },
  {
   "cell_type": "markdown",
   "metadata": {},
   "source": [
    "或者点$-(k\\pi+\\frac{\\pi} {2},c-1^{k+1})$,$k=0,\\pm1,\\pm2\\cdots$"
   ]
  },
  {
   "cell_type": "markdown",
   "metadata": {},
   "source": [
    "# 2.验证下列方程是恰当微分方程，并求出方程的解"
   ]
  },
  {
   "cell_type": "markdown",
   "metadata": {},
   "source": [
    "## (1)$(\\frac{1} {y}\\sin \\frac{x} {y}-\\frac{y} {x^2}\\cos \\frac{y} {x}+1)dx+(\\frac{1} {x}\\cos \\frac{y} {x}-\\frac{x} {y^2}\\sin \\frac{x} {y}+\\frac{1} {y^2})dy=0$"
   ]
  },
  {
   "cell_type": "markdown",
   "metadata": {},
   "source": [
    "**解：** 因为$$\\frac{\\partial M} {\\partial y}=-\\frac{1} {y^2}\\sin \\frac{x} {y}+\\frac{1} {y}\\cos \\frac{x} {y}*\\frac{-x} {y^2}-\\frac{1} {x^2}\\cos \\frac{x} {y}+\\frac{y} {x^2}*\\frac{1} {x}\\sin \\frac{y} {x}$$"
   ]
  },
  {
   "cell_type": "markdown",
   "metadata": {},
   "source": [
    "$$\\frac{\\partial N} {\\partial x}=-\\frac{1} {x^2}\\cos \\frac{y} {x}+\\frac{y} {x^2}\\sin \\frac{y} {x}*\\frac{1} {x}-\\frac{1} {y^2}\\sin \\frac{x} {y}-\\frac{1} {y}*\\frac{x} {y^2}\\cos \\frac{x} {y}$$"
   ]
  },
  {
   "cell_type": "markdown",
   "metadata": {},
   "source": [
    "两者相等，所以方程为恰当方程"
   ]
  },
  {
   "cell_type": "markdown",
   "metadata": {},
   "source": [
    "把方程重新分项组合得$$(\\frac{1} {y}\\sin \\frac{x} {y}dx-\\frac{x} {y^2}\\sin \\frac{x} {y}dy)+(-\\frac{y} {x^2}\\cos \\frac{y} {x}dx+\\frac{1} {x}\\cos \\frac{y} {x}dy)+dx+\\frac{1} {y^2}dy=0$$"
   ]
  },
  {
   "cell_type": "markdown",
   "metadata": {},
   "source": [
    "即$$d(-\\cos \\frac{x} {y}+\\sin \\frac{y} {x}+x-\\frac{1} {y})=0$$"
   ]
  },
  {
   "cell_type": "markdown",
   "metadata": {},
   "source": [
    "所以，方程通解为$$\\sin \\frac{y} {x}-\\cos \\frac{x} {y}+x-\\frac{1} {y}=c$$"
   ]
  },
  {
   "cell_type": "markdown",
   "metadata": {},
   "source": [
    "这里C是任意常数"
   ]
  },
  {
   "cell_type": "markdown",
   "metadata": {},
   "source": [
    "# 3.求下列方程的解"
   ]
  },
  {
   "cell_type": "markdown",
   "metadata": {},
   "source": [
    "## (1)$(y\\cos x-x\\sin x)dx+(y\\sin x+x\\cos x)dy=0$"
   ]
  },
  {
   "cell_type": "markdown",
   "metadata": {},
   "source": [
    "**解：**$$\\frac{\\partial M} {\\partial y}=\\cos x$$"
   ]
  },
  {
   "cell_type": "markdown",
   "metadata": {},
   "source": [
    "$$\\frac{\\partial M} {\\partial y}=y\\cos x+\\cos x-x\\sin x$$"
   ]
  },
  {
   "cell_type": "markdown",
   "metadata": {},
   "source": [
    "所以方程不是恰当的"
   ]
  },
  {
   "cell_type": "markdown",
   "metadata": {},
   "source": [
    "因为$$\\frac{\\frac{\\partial M} {\\partial y}-\\frac{\\partial N} {\\partial x}} {M}=1$$ 所以方程有积分因子"
   ]
  },
  {
   "cell_type": "markdown",
   "metadata": {},
   "source": [
    "$$u=e^y$$"
   ]
  },
  {
   "cell_type": "markdown",
   "metadata": {},
   "source": [
    "以之乘以方程两边，得"
   ]
  },
  {
   "cell_type": "markdown",
   "metadata": {},
   "source": [
    "$$d[(y-1)e^y\\sin x+e^yx\\cos x]=0$$"
   ]
  },
  {
   "cell_type": "markdown",
   "metadata": {},
   "source": [
    "方程的通解为$$e^xx\\cos x+e^y(y-1)\\sin x=c$$"
   ]
  },
  {
   "cell_type": "markdown",
   "metadata": {},
   "source": [
    "## (2)$x(4ydx+2xdy)+y^3(3ydx+5xdy)=0$"
   ]
  },
  {
   "cell_type": "markdown",
   "metadata": {},
   "source": [
    "**解：**$$\\frac{\\partial M} {\\partial y}=12y^3$$"
   ]
  },
  {
   "cell_type": "markdown",
   "metadata": {},
   "source": [
    "**$$\\frac{\\partial M} {\\partial y}=4x+12y^3$$**"
   ]
  },
  {
   "cell_type": "markdown",
   "metadata": {},
   "source": [
    "$$\\frac{\\partial N} {\\partial x}=5y^3$$"
   ]
  },
  {
   "cell_type": "markdown",
   "metadata": {},
   "source": [
    "因为$$\\frac{\\frac{\\partial M} {\\partial y}-\\frac{\\partial N} {\\partial x}} {5xy^3}=\\frac{7} {5x}$$"
   ]
  },
  {
   "cell_type": "markdown",
   "metadata": {},
   "source": [
    "所以方程有积分因子$$u=x^{\\frac{7} {5}}$$"
   ]
  },
  {
   "cell_type": "markdown",
   "metadata": {},
   "source": [
    "以之乘以方程两边，得$$d(\\frac{5} {4}x^{\\frac{12} {5}}y^4)=0$$"
   ]
  },
  {
   "cell_type": "markdown",
   "metadata": {},
   "source": [
    "综上所述，方程通解为$$2x^2y+\\frac{5} {4}x^{\\frac{12} {5}}y^4=c$$"
   ]
  },
  {
   "cell_type": "markdown",
   "metadata": {},
   "source": [
    "或者$$8x^2y+5x^{\\frac{12} {5}}y^4=c$$"
   ]
  },
  {
   "cell_type": "markdown",
   "metadata": {
    "collapsed": true
   },
   "source": [
    "错误"
   ]
  },
  {
   "cell_type": "markdown",
   "metadata": {},
   "source": [
    "**$B^+$**"
   ]
  },
  {
   "cell_type": "code",
   "execution_count": null,
   "metadata": {
    "collapsed": true
   },
   "outputs": [],
   "source": []
  }
 ],
 "metadata": {
  "kernelspec": {
   "display_name": "SageMath 7.3",
   "language": "",
   "name": "sagemath"
  },
  "language_info": {
   "codemirror_mode": {
    "name": "ipython",
    "version": 2
   },
   "file_extension": ".py",
   "mimetype": "text/x-python",
   "name": "python",
   "nbconvert_exporter": "python",
   "pygments_lexer": "ipython2",
   "version": "2.7.10"
  }
 },
 "nbformat": 4,
 "nbformat_minor": 0
}
