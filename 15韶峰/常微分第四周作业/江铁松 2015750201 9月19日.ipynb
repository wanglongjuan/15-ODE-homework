{
 "cells": [
  {
   "cell_type": "markdown",
   "metadata": {},
   "source": [
    "### 1、求解下列方程"
   ]
  },
  {
   "cell_type": "markdown",
   "metadata": {},
   "source": [
    "(1)$$xy'^3=1+y';$$"
   ]
  },
  {
   "cell_type": "markdown",
   "metadata": {},
   "source": [
    "解：令$$p=y'=\\frac{1}{t}$$,\n",
    "则$$x=t^3+t^2$$\n",
    "$$dy=pdx=(3t+2)dt$$\n",
    "$$y=\\int (3t+2)dt=\\frac{3}{2}t^2+2t+c$$\n",
    "所以方程的解为$$x=t^3+t^2$$\n",
    "$$y=\\frac{3}{2}t^2+2t+c$$"
   ]
  },
  {
   "cell_type": "markdown",
   "metadata": {},
   "source": [
    "(2)$$y'^3-x^3(1-y')=0;$$"
   ]
  },
  {
   "cell_type": "markdown",
   "metadata": {},
   "source": [
    "令$$y'=tx$$,\n",
    "则$$t^3x^3-x^3+tX^4=0$$\n",
    "$$x=\\frac{1-t^3}{t}$$\n",
    "所以$$dy=(1-t^3)d(\\frac{1-t^3}{t})=(1-t^3)\\frac{-3t^2-(1-t^3)}{t^2}dt=\\frac{(-2t^3-1)(1-t^3)}{t^2}$$\n",
    "$$y=-int (t+\\frac{1}{t^2}-2t^4)dt=-\\frac{1}{2}t^2+\\frac{1}{t}+\\frac{2}{5}t^5+c$$\n",
    "所以方程的解为$$x=\\frac{1-t^3}{t}$$\n",
    "$$y=-\\frac{1}{2}t^2+\\frac{1}{t}+\\frac{2}{5}t^5+c$$"
   ]
  },
  {
   "cell_type": "markdown",
   "metadata": {},
   "source": [
    "(3)$$y=y'^2e^{y'};$$"
   ]
  },
  {
   "cell_type": "markdown",
   "metadata": {},
   "source": [
    "解：令$$p=y'，则y=p^2e^p$$\n",
    "当$$p=0，y=0$$\n",
    "当$$p\\neq{0}时$$\n",
    "等式两边同时对x求导：\n",
    "$$p=2p\\frac{dp}{dx}e^p+p^2e^p\\frac{dp}{dx}$$\n",
    "$$dx=(2e^p+pe^p)dp$$\n",
    "$$x=(p+1)e^p$$\n",
    "所以解为：$$x=(p+1)e^p$$\n",
    "$$y=p^2e^p$$"
   ]
  },
  {
   "cell_type": "markdown",
   "metadata": {},
   "source": [
    "(4)$$y(1+y'^2)=2a(a为常数)$$"
   ]
  },
  {
   "cell_type": "markdown",
   "metadata": {},
   "source": [
    "令$$y'=tan\\varphi$$\n",
    "则 $$y=2acos^2\\varphi$$\n",
    "当$$\\varphi=0时，y=2a$$\n",
    "当$$\\varphi\\neq{0}时$$\n",
    "$$\\frac{dy}{dx}=tan\\varphi$$\n",
    "$$dx=\\frac{1}{tan\\varphi}4acos\\varphi(-sin\\varphi)d\\varphi$$\n",
    "$$dx=-4acos^2\\varphi d\\varphi$$\n",
    "$$x=-asin2\\varphi-2a\\varphi+c$$\n",
    "所以方程的解为$$x=-asin2\\varphi-2a\\varphi+c$$\n",
    "$$y=2acos^2\\varphi$$\n",
    "和$$y=2a$$"
   ]
  },
  {
   "cell_type": "markdown",
   "metadata": {},
   "source": [
    "(5)$$x^2+y'^2=1$$"
   ]
  },
  {
   "cell_type": "markdown",
   "metadata": {},
   "source": [
    "解：\n",
    "令$$p=y'=cost$$\n",
    "则$$x=sint$$\n",
    "$$y=\\int cotdsint=\\frac{1}{2}t+\\frac{1}{4}sin2t+c$$"
   ]
  },
  {
   "cell_type": "markdown",
   "metadata": {},
   "source": [
    "(6)$$y^2(y'-1)=(2-y')^2$$"
   ]
  },
  {
   "cell_type": "markdown",
   "metadata": {},
   "source": [
    "解：\n",
    "令$$2-y'=yt$$\n",
    "则$$y=\\frac{1}{t}-t$$,\n",
    "$$y'=2-yt=2-(1-t^2)=1+t^2$$\n",
    "$$\\frac{dy}{dx}=\\frac{1}{1+t^2}$$\n",
    "$$dx=(1+t^2)dy=-\\frac{1}{t^2}$$\n",
    "$$x=\\frac{1}{t}+c$$\n",
    "$$y=x-c-\\frac{1}{x-c}$$"
   ]
  },
  {
   "cell_type": "code",
   "execution_count": null,
   "metadata": {
    "collapsed": true
   },
   "outputs": [],
   "source": []
  }
 ],
 "metadata": {
  "kernelspec": {
   "display_name": "SageMath 7.3",
   "language": "",
   "name": "sagemath"
  },
  "language_info": {
   "codemirror_mode": {
    "name": "ipython",
    "version": 2
   },
   "file_extension": ".py",
   "mimetype": "text/x-python",
   "name": "python",
   "nbconvert_exporter": "python",
   "pygments_lexer": "ipython2",
   "version": "2.7.10"
  }
 },
 "nbformat": 4,
 "nbformat_minor": 0
}
