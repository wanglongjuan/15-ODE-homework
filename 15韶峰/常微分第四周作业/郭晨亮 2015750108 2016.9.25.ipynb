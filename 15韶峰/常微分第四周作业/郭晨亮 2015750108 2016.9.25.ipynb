{
 "cells": [
  {
   "cell_type": "markdown",
   "metadata": {},
   "source": [
    "### 1.设$f(x,y)$及${\\partial f \\over \\partial y}$连续，试证方程$\\mathrm d y - f(x,y)\\mathrm d x = 0$为线性微分方程的充要条件是它有仅依赖于$x$的积分因子"
   ]
  },
  {
   "cell_type": "markdown",
   "metadata": {},
   "source": [
    "证：必要性：\n",
    "\n",
    "因为$\\mathrm d y - f(x,y)\\mathrm d x = 0$为线性微分方程，$\\exists ~g(x),h(x)$\n",
    "\n",
    "$$f(x,y) = g(x)y + h(x)$$\n",
    "\n",
    "$$M = -f(x,y) = -g(x)y - h(x),N=1$$\n",
    "\n",
    "$${{\\partial M \\over \\partial y}-{\\partial N \\over \\partial x} \\over N} = -g(x)$$\n",
    "\n",
    "所以方程有仅依赖于$x$的积分因子$e^{\\int -g(x) \\mathrm d x}$\n",
    "\n",
    "充分性：\n",
    "\n",
    "因为${\\partial f \\over \\partial y}$有仅依赖于$x$的积分因子，所以$\\exists ~c(x)$\n",
    "\n",
    "$$c(x) = {{\\partial M \\over \\partial y}-{\\partial N \\over \\partial x} \\over N} = - {\\partial f \\over \\partial y}$$\n",
    "\n",
    "$$f(x,y) = - c(x)y + b(x)$$\n",
    "\n",
    "代入原方程得\n",
    "$${\\mathrm d y \\over \\mathrm d x} = -c(x)y + h(x)$$\n",
    "\n",
    "所以$\\mathrm d y - f(x,y)\\mathrm d x = 0$为线性微分方程"
   ]
  },
  {
   "cell_type": "markdown",
   "metadata": {},
   "source": [
    "### 2.求出伯努利微分方程的积分因子"
   ]
  },
  {
   "cell_type": "markdown",
   "metadata": {},
   "source": [
    "解：伯努利方程为：\n",
    "\n",
    "$${\\mathrm d y \\over \\mathrm d x} = P(x)y + Q(x)y^n,n\\neq 0,1$$\n",
    "\n",
    "$$\\mathrm d y - P(x)y\\mathrm d x - Q(x)y^n\\mathrm d x = 0$$\n",
    "\n",
    "两边同时乘$y^{-n}$\n",
    "\n",
    "$$y^{-n}\\mathrm d y -P(x)y^{1-n}\\mathrm d x - Q(x)\\mathrm d x = 0$$\n",
    "\n",
    "$$\\mathrm d (y^{1-n}) - (1-n)P(x)y^{1-n}\\mathrm d x - (1-n)Q(x)\\mathrm d x = 0$$\n",
    "\n",
    "两边同时乘$e^{(1-n)\\int P(x)\\mathrm d x}$\n",
    "\n",
    "$$e^{(1-n)\\int P(x)\\mathrm d x}[\\mathrm d (y^{1-n}) - (1-n)P(x)y^{1-n}\\mathrm d x] - e^{(1-n)\\int P(x)\\mathrm d x}(1-n)Q(x)\\mathrm d x = 0$$\n",
    "\n",
    "$$\\mathrm d[y^{1-n}e^{(1-n)\\int P(x)\\mathrm d x}] - d[\\int (1-n)Q(x)e^{(1-n)\\int P(x)\\mathrm d x}\\mathrm d x] = 0$$\n",
    "\n",
    "所以积分因子是$y^{-n}e^{(1-n)\\int P(x)\\mathrm d x}$"
   ]
  },
  {
   "cell_type": "markdown",
   "metadata": {},
   "source": [
    "### 3.设$\\mu (x,y)$是方程$M(x,y)\\mathrm d x + N(x,y)\\mathrm d y = 0$的积分因子，从而求得可微函数$U(x,y)$，使得$\\mathrm d U =\\mu (M\\mathrm d x + N\\mathrm d y)$。试证$\\widetilde \\mu (x,y)$也是方程$M(x,y)\\mathrm d x + N(x,y)\\mathrm d y = 0$的积分因子的充要条件是$\\widetilde \\mu (x,y) = \\mu \\varphi (U)$，其中$\\varphi (t)$是$t$的可微函数"
   ]
  },
  {
   "cell_type": "markdown",
   "metadata": {},
   "source": [
    "解：因为\n",
    "\n",
    "$$\\mathrm d U = \\mu(M\\mathrm d x + N\\mathrm d y),\\widetilde \\mu (x,y) = \\mu \\varphi (U)$$\n",
    "\n",
    "$${\\partial (\\widetilde \\mu M) \\over \\partial y} - {\\partial (\\widetilde \\mu N) \\over \\partial x} = \\widetilde \\mu ({\\partial M \\over \\partial y} - {\\partial N \\over \\partial x}) + (M{\\partial \\widetilde \\mu \\over \\partial y} - N{\\partial \\widetilde \\mu \\over \\partial x})$$\n",
    "\n",
    "$$= \\mu \\varphi (U)({\\partial M \\over \\partial y} - {\\partial N \\over \\partial x}) + M{\\partial \\mu \\over \\partial y}\\varphi (U) + M\\mu ^2\\varphi \\prime (U)N - N{\\partial \\mu \\over \\partial x}\\varphi (U) - N\\mu ^2\\varphi \\prime (U)M$$\n",
    "\n",
    "$$= \\varphi (U)[{\\partial (\\mu M) \\over \\partial y} - {\\partial (\\mu N) \\over \\partial x}] + \\mu ^2\\varphi \\prime (U)(MN - NM)$$\n",
    "\n",
    "$$= \\varphi (U)[{\\partial (\\mu M) \\over \\partial y} - {\\partial (\\mu N) \\over \\partial x}]$$\n",
    "\n",
    "因为$\\mu (x,y)$是方程的积分因子\n",
    "$${\\partial (\\mu M) \\over \\partial y} = {\\partial (\\mu N) \\over \\partial x}$$\n",
    "\n",
    "所以\n",
    "$${\\partial (\\widetilde \\mu M) \\over \\partial y} - {\\partial (\\widetilde \\mu N) \\over \\partial x} = 0$$\n",
    "\n",
    "所以$\\widetilde \\mu (x,y)$是方程的积分因子"
   ]
  },
  {
   "cell_type": "markdown",
   "metadata": {},
   "source": [
    "### 4.求解下列方程"
   ]
  },
  {
   "cell_type": "markdown",
   "metadata": {},
   "source": [
    "（1）$xy\\prime ^3 = 1 + y\\prime $"
   ]
  },
  {
   "cell_type": "markdown",
   "metadata": {},
   "source": [
    "解：\n",
    "\n",
    "$$x = {1 \\over y\\prime ^3} + {1 \\over y\\prime ^2}$$\n",
    "\n",
    "设$y\\prime = p$\n",
    "$$x = {1 \\over p^3} + {1 \\over p^2}$$\n",
    "\n",
    "关于$y$求导数\n",
    "$${1 \\over p} = {\\mathrm d x \\over \\mathrm d y} = (- {3 \\over p^4} - {2 \\over p^3}){\\mathrm p \\over \\mathrm y}$$\n",
    "\n",
    "$$(3 + 2p)\\mathrm d p + p^3\\mathrm d y = 0$$\n",
    "\n",
    "$$\\int \\mathrm d y = \\int {3 + 2p \\over p^3}\\mathrm d p$$\n",
    "\n",
    "$$y = {3 \\over 2p^2} + {2 \\over p} + c$$\n",
    "\n",
    "方程的解为\n",
    "$$\n",
    "\\begin{cases}\n",
    "x = {1 \\over p^3} + {1 \\over p^2} \\\\\n",
    "y = {3 \\over 2p^2} + {2 \\over p} + c\n",
    "\\end{cases}\n",
    "$$"
   ]
  },
  {
   "cell_type": "markdown",
   "metadata": {},
   "source": [
    "（2）$y\\prime ^3 - x^3(1 - y\\prime ) = 0$"
   ]
  },
  {
   "cell_type": "markdown",
   "metadata": {},
   "source": [
    "解：设$y\\prime = tx$\n",
    "\n",
    "$$(t^3 - (1 - tx))x^3 = 0$$\n",
    "\n",
    "$$x = {1 \\over t} - t^2$$\n",
    "\n",
    "对$y$求导\n",
    "$${1 \\over 1 - t^3} = (- {1 \\over t^2} - 2t){\\mathrm d t \\over \\mathrm d y}$$\n",
    "\n",
    "$$\\mathrm d y = (1 - t^3)(- {1 \\over t^2} - 2t)\\mathrm d t$$\n",
    "\n",
    "$$\\int \\mathrm d y = \\int (1 - t^3)(- {1 \\over t^2} - 2t)\\mathrm d t$$\n",
    "\n",
    "$$y = - {1 \\over 2}t^2 + {2 \\over 5}t^5 + {1 \\over t} + c$$\n",
    "\n",
    "方程的解为\n",
    "$$\n",
    "\\begin{cases}\n",
    "x = {1 \\over t} - t^2 \\\\\n",
    "y = - {1 \\over 2}t^2 + {2 \\over 5}t^5 + {1 \\over t} + c\n",
    "\\end{cases}\n",
    "$$"
   ]
  },
  {
   "cell_type": "markdown",
   "metadata": {},
   "source": [
    "（3）$y = y\\prime ^2e^y$"
   ]
  },
  {
   "cell_type": "markdown",
   "metadata": {},
   "source": [
    "解：设$y\\prime = p$\n",
    "$$y = p^2e^p$$\n",
    "\n",
    "对$x$求导\n",
    "$$p = (2p + p^2)e^p{\\mathrm d p \\over d x}$$\n",
    "\n",
    "$$\\mathrm d x = (2 + p)e^p\\mathrm d p$$\n",
    "\n",
    "$$\\int \\mathrm d x = \\int (2 + p)e^p\\mathrm d p$$\n",
    "\n",
    "$$x = (p + 1)e^p + c$$\n",
    "\n",
    "方程的解为\n",
    "$$\n",
    "\\begin{cases}\n",
    "x = (p + 1)e^p + c \\\\\n",
    "y = p^2e^p\n",
    "\\end{cases}\n",
    "$$\n",
    "和\n",
    "$$y = 0$$"
   ]
  },
  {
   "cell_type": "markdown",
   "metadata": {},
   "source": [
    "（4）$y(1 + y\\prime ^2) = 2a$（$a$为常数）"
   ]
  },
  {
   "cell_type": "markdown",
   "metadata": {},
   "source": [
    "解：设$y\\prime = \\tan \\varphi $\n",
    "$$y = 2a\\cos ^2\\varphi $$\n",
    "\n",
    "关于$x$求导\n",
    "$$\\tan \\varphi = - 2a\\sin 2\\varphi {\\mathrm d \\varphi \\over \\mathrm d x}$$\n",
    "\n",
    "$$\\mathrm d x = - 4a\\cos ^2\\varphi \\mathrm d \\varphi$$\n",
    "\n",
    "$$\\int \\mathrm d x =\\int - 4a\\cos ^2\\varphi \\mathrm d \\varphi$$\n",
    "\n",
    "$$x = - a(2\\varphi + \\sin 2\\varphi ) + c$$\n",
    "\n",
    "方程的解为\n",
    "$$\n",
    "\\begin{cases}\n",
    "x = - a(2\\varphi + \\sin 2\\varphi ) + c \\\\\n",
    "y = 2a\\cos ^2\\varphi \n",
    "\\end{cases}\n",
    "$$\n",
    "和\n",
    "$$y = 2a$$"
   ]
  },
  {
   "cell_type": "markdown",
   "metadata": {},
   "source": [
    "（5）$x^2 + y\\prime ^2 = 1$"
   ]
  },
  {
   "cell_type": "markdown",
   "metadata": {},
   "source": [
    "解：设$y\\prime = \\cos t$\n",
    "$$x = \\sin t$$\n",
    "\n",
    "对$y$求导\n",
    "$$\\mathrm d y = \\cos ^2\\mathrm d t$$\n",
    "\n",
    "$$\\int \\mathrm d y = \\int \\cos ^2\\mathrm d t$$\n",
    "\n",
    "$$y = {t \\over 2} + {1 \\over 4}\\sin 2t + c$$\n",
    "\n",
    "方程的解为\n",
    "$$\n",
    "\\begin{cases}\n",
    "x = \\sin t \\\\\n",
    "y = {t \\over 2} + {1 \\over 4}\\sin 2t + c\n",
    "\\end{cases}\n",
    "$$"
   ]
  },
  {
   "cell_type": "markdown",
   "metadata": {},
   "source": [
    "（6）$y^2(y\\prime - 1) = (2 - y\\prime )^2$"
   ]
  },
  {
   "cell_type": "markdown",
   "metadata": {},
   "source": [
    "解：设$2 - y\\prime = ty$\n",
    "$$y^2(1 - yt) = y^2t^2$$\n",
    "\n",
    "$$y = {1 \\over t} - t$$\n",
    "\n",
    "$$y\\prime = {\\mathrm d y \\over \\mathrm d x} = 1 + t^2$$\n",
    "\n",
    "$$\\mathrm d x = {\\mathrm d y \\over y\\prime } = {(- {1 \\over t^2} - 1) \\over 1 + t^2}\\mathrm d t = - {1 \\over t^2}\\mathrm d t$$\n",
    "\n",
    "$$\\int \\mathrm d x = \\int - {1 \\over t^2}\\mathrm d t$$\n",
    "\n",
    "$$x = {1 \\over t} + c$$\n",
    "\n",
    "$$\n",
    "\\begin{cases}\n",
    "x = {1 \\over t} + c \\\\\n",
    "y = {1 \\over t} - t\n",
    "\\end{cases}\n",
    "$$\n",
    "\n",
    "方程的解为\n",
    "$$y = x - {1 \\over  x - c} - c$$"
   ]
  },
  {
   "cell_type": "markdown",
   "metadata": {},
   "source": [
    "$A$"
   ]
  },
  {
   "cell_type": "code",
   "execution_count": null,
   "metadata": {
    "collapsed": true
   },
   "outputs": [],
   "source": []
  }
 ],
 "metadata": {
  "kernelspec": {
   "display_name": "SageMath 7.3",
   "language": "",
   "name": "sagemath"
  },
  "language_info": {
   "codemirror_mode": {
    "name": "ipython",
    "version": 2
   },
   "file_extension": ".py",
   "mimetype": "text/x-python",
   "name": "python",
   "nbconvert_exporter": "python",
   "pygments_lexer": "ipython2",
   "version": "2.7.10"
  }
 },
 "nbformat": 4,
 "nbformat_minor": 0
}
