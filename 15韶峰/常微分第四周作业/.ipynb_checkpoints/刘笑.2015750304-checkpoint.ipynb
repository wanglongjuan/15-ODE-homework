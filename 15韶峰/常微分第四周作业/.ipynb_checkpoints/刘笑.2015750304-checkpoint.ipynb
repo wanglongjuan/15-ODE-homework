{
 "cells": [
  {
   "cell_type": "markdown",
   "metadata": {},
   "source": [
    "$1 设f(x,y)及\\frac{\\partial f}{\\partial y}连续试证dy-f(x,y)dx=0为线性微分方程的充要条件是它仅有依赖于x的积分因子$"
   ]
  },
  {
   "cell_type": "markdown",
   "metadata": {},
   "source": [
    "**证明**"
   ]
  },
  {
   "cell_type": "markdown",
   "metadata": {},
   "source": [
    "$充分性：\\quad 设方程dy-f(x,y)dx=0有仅有与x有关的积分因子， $"
   ]
  },
  {
   "cell_type": "markdown",
   "metadata": {},
   "source": [
    "$存在\\varphi(x)=\\frac{\\frac{\\partial M}{\\partial y}-\\frac{N}{\\partial x}}{N}=-\\frac{\\frac{\\partial f}{\\partial y}}{1} $"
   ]
  },
  {
   "cell_type": "markdown",
   "metadata": {},
   "source": [
    "$即\\frac{\\partial f}{\\partial y}=-\\varphi(x)$"
   ]
  },
  {
   "cell_type": "markdown",
   "metadata": {},
   "source": [
    "$两边对y积分$"
   ]
  },
  {
   "cell_type": "markdown",
   "metadata": {},
   "source": [
    "$f(x,y)=-\\varphi(x)y+h(x)\\quad h(x)是x的任意可微函数 $"
   ]
  },
  {
   "cell_type": "markdown",
   "metadata": {},
   "source": [
    "$\\frac{d y}{d x}=-\\varphi(x)y+h(x)$"
   ]
  },
  {
   "cell_type": "markdown",
   "metadata": {},
   "source": [
    "$即dy-f(x,y)dx=0是线性的$"
   ]
  },
  {
   "cell_type": "markdown",
   "metadata": {},
   "source": [
    "$必要性：设方程dy-f(x,y)dx=0是线性微分方程$"
   ]
  },
  {
   "cell_type": "markdown",
   "metadata": {},
   "source": [
    "$即有f(x,y)=yg(x)+h(x)$"
   ]
  },
  {
   "cell_type": "markdown",
   "metadata": {},
   "source": [
    "$M=-f(x,y)=-yg(x)-h(x),N=1$"
   ]
  },
  {
   "cell_type": "markdown",
   "metadata": {},
   "source": [
    "$$\\frac{\\frac{\\partial M}{\\partial y}-\\frac{N}{\\partial x}}{N}=-g(x)$$"
   ]
  },
  {
   "cell_type": "markdown",
   "metadata": {},
   "source": [
    "$所以，方程的积分因子$$$\\mu=e^{\\int -g(x)\\mathrm{d}x} $$"
   ]
  },
  {
   "cell_type": "markdown",
   "metadata": {},
   "source": [
    "$这就证明了方程仅有与x有关的因子$"
   ]
  },
  {
   "cell_type": "markdown",
   "metadata": {},
   "source": [
    "$2\\quad 求出伯努利微分方程的积分因子$"
   ]
  },
  {
   "cell_type": "markdown",
   "metadata": {},
   "source": [
    "**解**"
   ]
  },
  {
   "cell_type": "markdown",
   "metadata": {},
   "source": [
    "$由题意知$"
   ]
  },
  {
   "cell_type": "markdown",
   "metadata": {},
   "source": [
    "$伯努利方程为$$$\\frac{d y}{d x}=p(x)y+q(x)y^n$$"
   ]
  },
  {
   "cell_type": "markdown",
   "metadata": {},
   "source": [
    "$$dy-p(x)ydx-q(x)y^ndx=0$$"
   ]
  },
  {
   "cell_type": "markdown",
   "metadata": {},
   "source": [
    "$两边乘以y^{-n}$$$y^{-n}dy-p(x)y^{1-n}dx-q(x)dx=0$$"
   ]
  },
  {
   "cell_type": "markdown",
   "metadata": {},
   "source": [
    "$$d(y^{1-n})-(1-n)p(x)y^{1-n}dx-(1-n)q(x)dx=0$$"
   ]
  },
  {
   "cell_type": "markdown",
   "metadata": {},
   "source": [
    "$等式乘以e^{-(1-n)\\int p(x) \\mathrm{d}x}$"
   ]
  },
  {
   "cell_type": "markdown",
   "metadata": {},
   "source": [
    "$$e^{-(1-n)\\int p(x) \\mathrm{d}x}[d(y^{1-n}-(1-n)p(x)y^{1-n}dx]-e^{-(1-n)\\int p(x) \\mathrm{d}x}(1-n)q(x)dx=0$$"
   ]
  },
  {
   "cell_type": "markdown",
   "metadata": {},
   "source": [
    "$$d[y^{1-n}e^{-(1-n)\\int p(x) \\mathrm{d}x}]-d[\\int (1-n)q(x)e^{-(1-n)\\int p(x) \\mathrm{d}x(1-n)q(x)dx}]=0$$\n"
   ]
  },
  {
   "cell_type": "markdown",
   "metadata": {},
   "source": [
    "$所求的积分因子为$$$\\mu=y^{-n}e^{n-1\\int p(x)\\mathrm{d}x}$$"
   ]
  },
  {
   "cell_type": "markdown",
   "metadata": {},
   "source": [
    "$3\\quad设\\mu（x,y）是方程的积分因子，从而求得可微的函数U（x,y）,使得dU=\\mu(Mdx+Ndy),\n",
    "试证\\mu(x,y)也是方程的积分因子的充要条件是\\mu(x,y)=\\mu\\varphi(U),其中\\varphi(t)是t的可微函数$"
   ]
  },
  {
   "cell_type": "markdown",
   "metadata": {},
   "source": [
    "$充分性：设\\mu_{1}(x,y)=\\mu \\varphi(U)$"
   ]
  },
  {
   "cell_type": "markdown",
   "metadata": {},
   "source": [
    "$$\\frac{\\partial (\\mu_{1}M)}{\\partial y}=\\frac{\\partial (\\mu M \\varphi(U))}{\\partial y}=\\frac{\\partial (\\mu M) \\varphi(U)}{\\partial y}+\\mu M \\frac{\\partial (\\varphi(U))}{\\partial y}$$"
   ]
  },
  {
   "cell_type": "markdown",
   "metadata": {},
   "source": [
    "$$=\\frac{\\partial (\\mu M \\varphi(U))}{\\partial y}+\\mu M \\varphi^{\\prime}(U) \\frac{\\partial U}{\\partial y}z$$"
   ]
  },
  {
   "cell_type": "markdown",
   "metadata": {},
   "source": [
    "$$=\\frac{\\partial (\\mu M \\varphi(U))}{\\partial y}+\\mu M \\varphi^{prime}(U)\\mu N$$"
   ]
  },
  {
   "cell_type": "markdown",
   "metadata": {},
   "source": [
    "$$\\frac{\\partial (\\mu_{1}M)}{\\partial x}=\\frac{\\partial (\\mu N \\varphi(U))}{\\partial x}$$"
   ]
  },
  {
   "cell_type": "markdown",
   "metadata": {},
   "source": [
    "$$=\\frac{\\partial(\\mu N)}{varphi(U)}+\\mu N \\frac{\\partial \\varphi(U)}{\\partial x}$$"
   ]
  },
  {
   "cell_type": "markdown",
   "metadata": {},
   "source": [
    "$=\\frac{\\partial(\\mu N)}{varphi(U)}+\\mu N \\varphi^{\\prime}(U )\\mu M$"
   ]
  },
  {
   "cell_type": "markdown",
   "metadata": {},
   "source": [
    "$又因为\\frac{\\partial (\\mu M)}{\\partial x}\\mu(x,y)是方程的积分因子所以$"
   ]
  },
  {
   "cell_type": "markdown",
   "metadata": {},
   "source": [
    "$$\\frac{\\partial (\\mu M)}{\\partial x}=\\frac{\\partial(\\mu N)}{\\partial x}$$"
   ]
  },
  {
   "cell_type": "markdown",
   "metadata": {},
   "source": [
    "$比较\\frac{\\partial (\\mu M)}{\\partial x}和\\frac{\\partial(\\mu N)}{\\partial x}$"
   ]
  },
  {
   "cell_type": "markdown",
   "metadata": {},
   "source": [
    "$$\\frac{\\partial (\\mu_1 M)}{\\partial x}=\\frac{\\partial(\\mu_1 N)}{\\partial x}$$"
   ]
  },
  {
   "cell_type": "markdown",
   "metadata": {},
   "source": [
    "$$\\mu_1(x,y)=\\mu \\varphi(U_1)$$"
   ]
  },
  {
   "cell_type": "markdown",
   "metadata": {},
   "source": [
    "$即充分性证明$"
   ]
  },
  {
   "cell_type": "markdown",
   "metadata": {},
   "source": [
    "$必要性：设\\mu_1是方程的积分因子$"
   ]
  },
  {
   "cell_type": "markdown",
   "metadata": {},
   "source": [
    "$$\\frac{\\partial (\\mu_1 M)}{\\partial y}=\\frac{\\partial (\\mu N)}{\\partial x}$$"
   ]
  },
  {
   "cell_type": "markdown",
   "metadata": {
    "collapsed": true
   },
   "source": [
    "$有\\quad$$$\\frac{\\partial (\\mu_1M)}{\\partial y}=\\partial \\frac{(\\mu_1/\\mu)\\mu M }{\\partial y}+\\mu_1/\\mu \\frac{\\partial(\\mu M )}{\\partial y}$$"
   ]
  },
  {
   "cell_type": "markdown",
   "metadata": {
    "collapsed": true
   },
   "source": [
    "$$\\frac{\\partial (\\mu_1M)}{\\partial x}=\\partial \\frac{(\\mu_1/\\mu)\\mu N }{\\partial y}+\\mu_1/\\mu \\frac{\\partial(\\mu N )}{\\partial x}$$"
   ]
  },
  {
   "cell_type": "markdown",
   "metadata": {
    "collapsed": true
   },
   "source": [
    "$\\frac{\\partial (\\mu M)}{\\partial y}={\\partial (\\mu N)}{\\partial x}$"
   ]
  },
  {
   "cell_type": "markdown",
   "metadata": {
    "collapsed": true
   },
   "source": [
    "$则有  $$$M \\frac{\\partial (\\mu_1/\\mu)}{\\partial y}=N\\frac{\\partial(\\mu_1\\mu)}{\\partial y}$$"
   ]
  },
  {
   "cell_type": "markdown",
   "metadata": {
    "collapsed": true
   },
   "source": [
    "$\\frac{\\partial U}{\\partial x}=\\mu M,\\quad \\frac{\\partial U}{\\partial y}=\\mu N,$"
   ]
  },
  {
   "cell_type": "markdown",
   "metadata": {
    "collapsed": true
   },
   "source": [
    "$M=1/\\mu*\\frac{\\partial U}{\\partial x},N=1/\\mu*\\frac{\\partial \\mu}{\\partial y}$"
   ]
  },
  {
   "cell_type": "markdown",
   "metadata": {
    "collapsed": true
   },
   "source": [
    "$则$"
   ]
  },
  {
   "cell_type": "markdown",
   "metadata": {
    "collapsed": true
   },
   "source": [
    "$\\frac{\\mu_1}{\\mu}=\\varphi(u)$"
   ]
  },
  {
   "cell_type": "markdown",
   "metadata": {
    "collapsed": true
   },
   "source": [
    "**$\\varphi(u)$是u的任意可微函数**"
   ]
  },
  {
   "cell_type": "markdown",
   "metadata": {
    "collapsed": true
   },
   "source": [
    " **即充要性证明**\n",
    "     ^"
   ]
  },
  {
   "cell_type": "markdown",
   "metadata": {},
   "source": [
    "$4 \\quad  xy^{\\prime 3}=1+y^{\\prime}$"
   ]
  },
  {
   "cell_type": "markdown",
   "metadata": {},
   "source": [
    "$解$"
   ]
  },
  {
   "cell_type": "markdown",
   "metadata": {},
   "source": [
    "$\\frac{d y}{d x}=p$"
   ]
  },
  {
   "cell_type": "markdown",
   "metadata": {},
   "source": [
    "$x=\\frac{1+p}{p^3}=\\frac{1}{p^3}+\\frac{1}{p^2}$"
   ]
  },
  {
   "cell_type": "markdown",
   "metadata": {},
   "source": [
    "$对y求导 $ $$\\frac{1}{p}=(\\frac{-3}{p^4}-\\frac{2}{p^3}\\frac{d p}{d y}$$\n"
   ]
  },
  {
   "cell_type": "markdown",
   "metadata": {},
   "source": [
    "$两边积分$$$y=\\frac{3}{2p^2}+\\frac{2}{p}+c$$"
   ]
  },
  {
   "cell_type": "markdown",
   "metadata": {},
   "source": [
    "则方程的通解\n",
    "$$\\begin{cases}x=\\frac{1}{p^3}+\\frac{1}{p^2}\\\\\n",
    "y=\\frac{1}{2p^2}+\\frac{2}{p}+c \\end{cases}$$"
   ]
  },
  {
   "cell_type": "markdown",
   "metadata": {},
   "source": [
    "$5\\quad y^{\\prime 3}-x^3(1)y^{\\prime}=0$"
   ]
  },
  {
   "cell_type": "markdown",
   "metadata": {},
   "source": [
    "$解$"
   ]
  },
  {
   "cell_type": "markdown",
   "metadata": {},
   "source": [
    "$$x=1/t-t^2$$"
   ]
  },
  {
   "cell_type": "markdown",
   "metadata": {},
   "source": [
    "$两边对x求导得$$\\frac{1}{1-t^2}=(-1/t^2-2t)*\\frac{d t}{d y}$$"
   ]
  },
  {
   "cell_type": "markdown",
   "metadata": {},
   "source": [
    "$$dy=[(1-t^2)(-1/t^2-2)]dt$$"
   ]
  },
  {
   "cell_type": "markdown",
   "metadata": {},
   "source": [
    "$$y=-1/2t^2+2/5t^5+1/t+c$$"
   ]
  },
  {
   "cell_type": "markdown",
   "metadata": {},
   "source": [
    "$6\\quad y=y^{\\prime 2}e^{y^{\\prime}}$"
   ]
  },
  {
   "cell_type": "markdown",
   "metadata": {},
   "source": [
    "$解$"
   ]
  },
  {
   "cell_type": "markdown",
   "metadata": {},
   "source": [
    "$y^{\\prime}+p则原方程可化为$$$y=p^2e^p$$"
   ]
  },
  {
   "cell_type": "markdown",
   "metadata": {},
   "source": [
    "$对x求导$"
   ]
  },
  {
   "cell_type": "markdown",
   "metadata": {},
   "source": [
    "$$p = 2p + p^2e^p \\frac{d p}{d x}$$"
   ]
  },
  {
   "cell_type": "markdown",
   "metadata": {},
   "source": [
    "$两边积分$$$即得x=(p+1)e^p+c$$"
   ]
  },
  {
   "cell_type": "markdown",
   "metadata": {},
   "source": [
    "$因此方程的解为$"
   ]
  },
  {
   "cell_type": "markdown",
   "metadata": {},
   "source": [
    "$$\\begin{cases}x=(p+1)e^p+c\\\\y=p^2e^p\\end{cases}$$"
   ]
  },
  {
   "cell_type": "markdown",
   "metadata": {},
   "source": [
    "$7\\quad x^2+y^{\\prime 2}=1 $"
   ]
  },
  {
   "cell_type": "markdown",
   "metadata": {},
   "source": [
    "$解$"
   ]
  },
  {
   "cell_type": "markdown",
   "metadata": {},
   "source": [
    "$y^{\\prime}=cost则方程化为$"
   ]
  },
  {
   "cell_type": "markdown",
   "metadata": {},
   "source": [
    "$$x^2+cost=1$$"
   ]
  },
  {
   "cell_type": "markdown",
   "metadata": {},
   "source": [
    "$$x=sint$$"
   ]
  },
  {
   "cell_type": "markdown",
   "metadata": {},
   "source": [
    "$对y求导数$$$\\frac{1}{cost}=cos\\frac{d t}{d y}$$"
   ]
  },
  {
   "cell_type": "markdown",
   "metadata": {},
   "source": [
    " $$y=t/2+1/4*sin2t+c$$"
   ]
  },
  {
   "cell_type": "markdown",
   "metadata": {},
   "source": [
    "$因此方程的解$$$\\begin{cases}x=sint\\\\y=t/2+1/4sin2t+c\\end{cases}$$"
   ]
  },
  {
   "cell_type": "markdown",
   "metadata": {},
   "source": [
    "$8\\quad y(1+y^{\\prime})=2a$"
   ]
  },
  {
   "cell_type": "markdown",
   "metadata": {},
   "source": [
    "$y^{\\prime}=tant$"
   ]
  },
  {
   "cell_type": "markdown",
   "metadata": {},
   "source": [
    "$$即\\quady=2acost^2$$"
   ]
  },
  {
   "cell_type": "markdown",
   "metadata": {},
   "source": [
    "$$tant=-2asin2t\\frac{d t}{d x}$$"
   ]
  },
  {
   "cell_type": "markdown",
   "metadata": {},
   "source": [
    "$$x=-a(2t+sin2t+c)$$"
   ]
  },
  {
   "cell_type": "markdown",
   "metadata": {},
   "source": [
    "$$因此方程的通解为\\begin{cases}x=-a(2t+sin2t+c)\\\\y=2acos2t^2\\end{cases}$$"
   ]
  },
  {
   "cell_type": "markdown",
   "metadata": {},
   "source": [
    "$9\\quad y^2(y^{\\prime}-1)=(2-y^{\\prime})^2$"
   ]
  },
  {
   "cell_type": "markdown",
   "metadata": {},
   "source": [
    "$2-y^{\\prime}=yt$"
   ]
  },
  {
   "cell_type": "markdown",
   "metadata": {},
   "source": [
    "$y^2(1-yt)=(yt)^2$"
   ]
  },
  {
   "cell_type": "markdown",
   "metadata": {},
   "source": [
    "$y=1/t-t$"
   ]
  },
  {
   "cell_type": "markdown",
   "metadata": {},
   "source": [
    "$并且y^{\\prime}=1+t^2$"
   ]
  },
  {
   "cell_type": "markdown",
   "metadata": {},
   "source": [
    "$因此$$$dx=\\frac{d y}{y^{\\prime}}=-1/t^2dt$$"
   ]
  },
  {
   "cell_type": "markdown",
   "metadata": {},
   "source": [
    "$两边积分得$$$x=1/t+c$$"
   ]
  },
  {
   "cell_type": "markdown",
   "metadata": {},
   "source": [
    "$即通解为$$$\\begin{cases}x=1/t+c\\\\y=1/t-t \\end{cases}$$"
   ]
  },
  {
   "cell_type": "markdown",
   "metadata": {},
   "source": [
    "$消去参数得$"
   ]
  },
  {
   "cell_type": "markdown",
   "metadata": {},
   "source": [
    "$$y=x-\\frac{1}{x-c}-c$$"
   ]
  },
  {
   "cell_type": "markdown",
   "metadata": {
    "collapsed": true
   },
   "source": [
    "$B$"
   ]
  },
  {
   "cell_type": "markdown",
   "metadata": {
    "collapsed": true
   },
   "source": [
    "$$15级数学类韶峰班刘笑$$"
   ]
  },
  {
   "cell_type": "code",
   "execution_count": null,
   "metadata": {
    "collapsed": true
   },
   "outputs": [],
   "source": []
  },
  {
   "cell_type": "code",
   "execution_count": null,
   "metadata": {
    "collapsed": true
   },
   "outputs": [],
   "source": []
  },
  {
   "cell_type": "code",
   "execution_count": null,
   "metadata": {
    "collapsed": true
   },
   "outputs": [],
   "source": []
  },
  {
   "cell_type": "code",
   "execution_count": null,
   "metadata": {
    "collapsed": true
   },
   "outputs": [],
   "source": []
  },
  {
   "cell_type": "code",
   "execution_count": null,
   "metadata": {
    "collapsed": true
   },
   "outputs": [],
   "source": []
  }
 ],
 "metadata": {
  "kernelspec": {
   "display_name": "SageMath 7.3",
   "language": "",
   "name": "sagemath"
  },
  "language_info": {
   "codemirror_mode": {
    "name": "ipython",
    "version": 2
   },
   "file_extension": ".py",
   "mimetype": "text/x-python",
   "name": "python",
   "nbconvert_exporter": "python",
   "pygments_lexer": "ipython2",
   "version": "2.7.10"
  }
 },
 "nbformat": 4,
 "nbformat_minor": 0
}
