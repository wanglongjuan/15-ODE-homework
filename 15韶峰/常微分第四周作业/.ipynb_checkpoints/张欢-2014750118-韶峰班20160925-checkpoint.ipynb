{
 "cells": [
  {
   "cell_type": "markdown",
   "metadata": {},
   "source": [
    "# Page 61_4 "
   ]
  },
  {
   "cell_type": "markdown",
   "metadata": {},
   "source": [
    "**prove:simplifying**$$ \\frac{dy}{dx}=f(x,y)$$"
   ]
  },
  {
   "cell_type": "markdown",
   "metadata": {},
   "source": [
    "**原式可表示成线性方程等价于：**$$f(x,y)=p(x)y+q(x)$$"
   ]
  },
  {
   "cell_type": "markdown",
   "metadata": {},
   "source": [
    "**等价于：**$$ \\frac{ \\partial f(x,y)}{ \\partial y}=p(x,y)$$"
   ]
  },
  {
   "cell_type": "markdown",
   "metadata": {},
   "source": [
    "**又**$$ \\frac{ \\partial 1}{ \\partial x}=0$$"
   ]
  },
  {
   "cell_type": "markdown",
   "metadata": {},
   "source": [
    "**令$ \\psi(x)=p(x)$,则$\\psi(x)$只与x有关，由定理得：原方程有只与x有关的积分因子**"
   ]
  },
  {
   "cell_type": "markdown",
   "metadata": {},
   "source": [
    "错误"
   ]
  },
  {
   "cell_type": "markdown",
   "metadata": {},
   "source": [
    "# T8"
   ]
  },
  {
   "cell_type": "markdown",
   "metadata": {},
   "source": [
    "**伯努利方程：**$$ \\frac{dy}{dx}=p(x)y+q(x)y^n$$"
   ]
  },
  {
   "cell_type": "markdown",
   "metadata": {},
   "source": [
    "**化简：**$$ y^{-n}dy-[p(x)y^{-n+1}+q(x)]dx=0$$"
   ]
  },
  {
   "cell_type": "markdown",
   "metadata": {},
   "source": [
    "**此处**$$N=y^{-n} \\ \\ \\ \\  \\ \\  \\ \\   M=-[p(x)y^{-n+1}+q(x)]$$"
   ]
  },
  {
   "cell_type": "markdown",
   "metadata": {},
   "source": [
    "$$ \\frac{ \\partial M}{ \\partial y}=-p(x)(-n+1)y^{-n} \\ \\ \\ \\ \\ \\frac{ \\partial N}{ \\partial x}=0$$"
   ]
  },
  {
   "cell_type": "markdown",
   "metadata": {},
   "source": [
    "$$ \\frac{ \\frac{ \\partial M}{ \\partial y}- \\frac{ \\partial N}{ \\partial x}}{N}=(n-1)p(x)$$"
   ]
  },
  {
   "cell_type": "markdown",
   "metadata": {},
   "source": [
    "**右端只与x有关，所以有定理得：积分因子**$$ \\mu =e^{ \\int (n-1)p(x)dx}y^{-n}$$"
   ]
  },
  {
   "cell_type": "markdown",
   "metadata": {},
   "source": []
  },
  {
   "cell_type": "markdown",
   "metadata": {},
   "source": [
    "# T9"
   ]
  },
  {
   "cell_type": "markdown",
   "metadata": {},
   "source": [
    "**Prove:**"
   ]
  },
  {
   "cell_type": "markdown",
   "metadata": {},
   "source": [
    "**充分性：由题已知**\n",
    "$$ \\frac{ \\partial \\mu  M}{ \\partial y}= \\frac{ \\partial \\mu  N}{ \\partial x}$$\n",
    "**则有**\n",
    " \\begin{aligned}\n",
    "\\frac{ \\partial \\hat{ \\mu}M}{ \\partial y} &= \\frac{ \\partial \\mu \\psi(U) M}{ \\partial y}\\\\\n",
    "                            &= \\psi(U) \\frac{ \\partial \\mu  M}{ \\partial y}+ \\mu M \\frac{ \\partial \\psi(U)}{ \\partial y}\\\\\n",
    "                            &= \\psi(U) \\frac{ \\partial \\mu  N}{ \\partial x}+ \\mu N \\frac{ \\partial \\psi(U)}{ \\partial x}\\\\\n",
    "                            &= \\frac{ \\partial \\mu \\psi(U) N}{ \\partial x}\\\\\n",
    "                            &= \\frac{ \\partial \\hat{ \\mu}N}{ \\partial x}\n",
    " \\end{aligned}"
   ]
  },
  {
   "cell_type": "markdown",
   "metadata": {},
   "source": [
    "**所以，$ \\hat{ \\mu}$是原方程的一个积分因子**"
   ]
  },
  {
   "cell_type": "markdown",
   "metadata": {},
   "source": [
    "**必要性：由题已知**$$  \\frac{ \\partial \\hat{ \\mu}M}{ \\partial y}= \\frac{ \\partial \\hat{ \\mu}N}{ \\partial x} \\ (1),  \\  \\  \\frac{ \\partial U}{ \\partial x}= \\mu M \\ (2), \\  \\  \\  \\frac{ \\partial U}{ \\partial y}= \\mu N \\ (3)$$"
   ]
  },
  {
   "cell_type": "markdown",
   "metadata": {},
   "source": [
    "**将（2）（3）式变形带入（1），得到**$$ \\frac{ \\partial ( \\frac{ \\hat{ \\mu}}{ \\mu} \\frac{ \\partial U}{ \\partial x})}{ \\partial y}= \\frac{ \\partial ( \\frac{ \\hat{ \\mu}}{ \\mu} \\frac{ \\partial U}{ \\partial y})}{ \\partial x}$$"
   ]
  },
  {
   "cell_type": "markdown",
   "metadata": {},
   "source": [
    "**即**$$ \\frac{ \\hat{ \\mu}}{ \\mu} \\frac{ (\\partial U)^2}{ \\partial x \\partial y}+ \\frac{ \\partial U}{ \\partial x} \\frac{ \\partial \\frac{ \\hat{ \\mu}}{ \\mu}}{ \\partial y}= \\frac{ \\hat{ \\mu}}{ \\mu} \\frac{ (\\partial U)^2}{ \\partial x \\partial y}+ \\frac{ \\partial U}{ \\partial y} \\frac{ \\partial \\frac{ \\hat{ \\mu}}{ \\mu}}{ \\partial x}$$"
   ]
  },
  {
   "cell_type": "markdown",
   "metadata": {},
   "source": [
    "**化简，有**$$ \\frac{ \\frac{ \\partial \\frac{ \\hat{ \\mu}}{ \\mu}}{ \\partial y}}{ \\frac{ \\partial \\frac{ \\hat{ \\mu}}{ \\mu}}{ \\partial x}}= \\frac{ \\frac{ \\partial U}{ \\partial y}}{ \\frac{ \\partial U}{ \\partial x}}$$"
   ]
  },
  {
   "cell_type": "markdown",
   "metadata": {},
   "source": [
    "**所以，有**$$  \\frac{ \\hat{ \\mu}}{ \\mu}= \\psi (U)$$"
   ]
  },
  {
   "cell_type": "markdown",
   "metadata": {},
   "source": [
    "**即**$$ \\hat{ \\mu}= \\mu \\psi (U)$$"
   ]
  },
  {
   "cell_type": "markdown",
   "metadata": {},
   "source": []
  },
  {
   "cell_type": "markdown",
   "metadata": {},
   "source": [
    "# Page 70"
   ]
  },
  {
   "cell_type": "markdown",
   "metadata": {},
   "source": [
    "## (1) $$x(y^{ \\prime})^3=1+y^{ \\prime}$$"
   ]
  },
  {
   "cell_type": "markdown",
   "metadata": {},
   "source": [
    "**solve:assuming**$$ \\frac{dy}{dx}=p= \\frac{1}{t}$$"
   ]
  },
  {
   "cell_type": "markdown",
   "metadata": {},
   "source": [
    "**then:**$$x=t^2+t^3$$"
   ]
  },
  {
   "cell_type": "markdown",
   "metadata": {},
   "source": [
    " \\begin{aligned} \n",
    " dy & =pdx \\\\ \n",
    " &=(2+3t)dt \\\\\n",
    "\\end{aligned}"
   ]
  },
  {
   "cell_type": "markdown",
   "metadata": {},
   "source": [
    "**so:**$$y= \\frac{3}{2}t^2+2t+c  \\ (c为任意常数) $$"
   ]
  },
  {
   "cell_type": "markdown",
   "metadata": {},
   "source": []
  },
  {
   "cell_type": "markdown",
   "metadata": {},
   "source": [
    "## (2)$$(y^{ \\prime})^3-x^3(1-y^{ \\prime})=0$$"
   ]
  },
  {
   "cell_type": "markdown",
   "metadata": {},
   "source": [
    "**solve:assuming**$$ \\frac{dy}{dx}=p=tx$$"
   ]
  },
  {
   "cell_type": "markdown",
   "metadata": {},
   "source": [
    "**then:**$$t^3x^3-x^3(1-tx)=0$$"
   ]
  },
  {
   "cell_type": "markdown",
   "metadata": {},
   "source": [
    "**so:**$$x= \\frac{1-t^3}{t}$$"
   ]
  },
  {
   "cell_type": "markdown",
   "metadata": {},
   "source": [
    " \\begin{aligned} \n",
    " dy &=txdx\\\\\n",
    "   &=(1-t^3)d( \\frac{1-t^3}{t})\\\\\n",
    "   &=(-t^{-2}-2t+t+2t^4)dt\n",
    "   \\end{aligned}"
   ]
  },
  {
   "cell_type": "markdown",
   "metadata": {},
   "source": [
    "**so:**$$y= \\frac{q}{t}- \\frac{1}{2}t^2+ \\frac{2}{5}t^5+c$$"
   ]
  },
  {
   "cell_type": "markdown",
   "metadata": {},
   "source": []
  },
  {
   "cell_type": "markdown",
   "metadata": {},
   "source": [
    "## (3)$$y=(y^{ \\prime})^2e^{y^{ \\prime}}$$"
   ]
  },
  {
   "cell_type": "markdown",
   "metadata": {},
   "source": [
    "**solve:assuming**$$y^{ \\prime}=lnp$$"
   ]
  },
  {
   "cell_type": "markdown",
   "metadata": {},
   "source": [
    "**so:**$$y=( \\mathrm lnp)^2p   \\  \\  (*)$$"
   ]
  },
  {
   "cell_type": "markdown",
   "metadata": {},
   "source": [
    "$$  \\frac{dy}{dx}=(lnp)^2 \\frac{dp}{dx}+2lnp \\frac{dp}{dx}$$"
   ]
  },
  {
   "cell_type": "markdown",
   "metadata": {},
   "source": [
    "**and due to**$$ \\frac{dy}{dx}=lnp$$"
   ]
  },
  {
   "cell_type": "markdown",
   "metadata": {},
   "source": [
    "**so:**$$1=lnp \\frac{dp}{dx}+2 \\frac{dp}{dx}$$"
   ]
  },
  {
   "cell_type": "markdown",
   "metadata": {},
   "source": [
    "**then:**$$dx=(lnp+2)dp$$"
   ]
  },
  {
   "cell_type": "markdown",
   "metadata": {},
   "source": [
    "**so:**\n",
    " \\begin{aligned}\n",
    " x &= \\int (lnp+2)dp\\\\\n",
    "   &=(lnp+1)p\n",
    "    \\  \\  \\  \\  \\  \\  \\  \\  (*)\n",
    "  \\end{aligned} "
   ]
  },
  {
   "cell_type": "markdown",
   "metadata": {},
   "source": [
    "**besides**$$y=0$$"
   ]
  },
  {
   "cell_type": "markdown",
   "metadata": {},
   "source": [
    "**that is also ok**"
   ]
  },
  {
   "cell_type": "code",
   "execution_count": null,
   "metadata": {
    "collapsed": true
   },
   "outputs": [],
   "source": []
  },
  {
   "cell_type": "markdown",
   "metadata": {},
   "source": [
    "## (4)$$y[1+(y^{ \\prime})^2]=2a \\  \\  \\  (a为任意常数)$$"
   ]
  },
  {
   "cell_type": "markdown",
   "metadata": {},
   "source": [
    "**solve:assuming**$$y^{ \\prime}=p$$"
   ]
  },
  {
   "cell_type": "markdown",
   "metadata": {},
   "source": [
    "**then:**$$y(1+p^2)=2a$$"
   ]
  },
  {
   "cell_type": "markdown",
   "metadata": {},
   "source": [
    "**so:**$$(1+p^2) \\frac{dy}{dx}+2py \\frac{dp}{dx}=0$$"
   ]
  },
  {
   "cell_type": "markdown",
   "metadata": {},
   "source": [
    "$$(1+p^2)p+2py \\frac{dp}{dx}=0$$"
   ]
  },
  {
   "cell_type": "markdown",
   "metadata": {},
   "source": [
    "**that is:**$$(1+p^2)dx+2ydp=0$$"
   ]
  },
  {
   "cell_type": "markdown",
   "metadata": {},
   "source": [
    "**so:**$$dx=- \\frac{4a}{(1+p^2)^2}dp$$"
   ]
  },
  {
   "cell_type": "markdown",
   "metadata": {},
   "source": [
    " \\begin{aligned}\n",
    " x &= \\int - \\frac{4a}{(1+p^2)^2}dp\\\\\n",
    "   &= -4a( \\frac{p}{1+p^2}- \\frac{1}{2}arctanp)\n",
    "   \\end{aligned}"
   ]
  },
  {
   "cell_type": "markdown",
   "metadata": {},
   "source": [
    "$$y= \\frac{2a}{1+p^2} $$"
   ]
  },
  {
   "cell_type": "markdown",
   "metadata": {},
   "source": [
    " **the answer is**\n",
    " \\begin{cases}\n",
    " x= -4a( \\frac{p}{1+p^2}- \\frac{1}{2}arctanp)\\\\\n",
    " y= \\frac{2a}{1+p^2} \n",
    " \\end{cases}"
   ]
  },
  {
   "cell_type": "markdown",
   "metadata": {},
   "source": [
    "**besides:**$$y=2a$$"
   ]
  },
  {
   "cell_type": "markdown",
   "metadata": {
    "collapsed": true
   },
   "source": []
  },
  {
   "cell_type": "markdown",
   "metadata": {},
   "source": [
    "## (5)$$x^2+(y^{ \\prime})^2=1$$"
   ]
  },
  {
   "cell_type": "markdown",
   "metadata": {},
   "source": [
    "**solve:assuning**$$y^{ \\prime}=cost$$"
   ]
  },
  {
   "cell_type": "markdown",
   "metadata": {},
   "source": [
    "**then:**$$x=sint$$"
   ]
  },
  {
   "cell_type": "markdown",
   "metadata": {},
   "source": [
    "**and**$$dy= \\mathrm (cost)d(sint)$$"
   ]
  },
  {
   "cell_type": "markdown",
   "metadata": {},
   "source": [
    "**s0**$$y=0.25sin2t+0.5t+c$$"
   ]
  },
  {
   "cell_type": "markdown",
   "metadata": {},
   "source": [
    " the answer is\n",
    " \\begin{cases}\n",
    " x=sint\\\\\n",
    " y=0.25sin2t+0.5t+c\n",
    " \\end{cases}"
   ]
  },
  {
   "cell_type": "markdown",
   "metadata": {},
   "source": []
  },
  {
   "cell_type": "markdown",
   "metadata": {},
   "source": [
    "## (6)$$y^2(y^{ \\prime}-1)=(2-y^{ \\prime})^2$$"
   ]
  },
  {
   "cell_type": "markdown",
   "metadata": {},
   "source": [
    "**solve:assuming**$$y^{ \\prime}=p  \\  \\  (1<p<2)$$"
   ]
  },
  {
   "cell_type": "markdown",
   "metadata": {},
   "source": [
    "**then:**$$y= \\frac{2-p}{ \\sqrt(p-1)}$$"
   ]
  },
  {
   "cell_type": "markdown",
   "metadata": {},
   "source": [
    "**and**$$2(p-1)y \\frac{dy}{dx}+y^2 \\frac{dp}{dx}=-2(2-p) \\frac{dp}{dx}$$"
   ]
  },
  {
   "cell_type": "markdown",
   "metadata": {},
   "source": [
    "**then we can get**$$-2dx=(p-1)^{- \\frac{3}{2}}dp$$"
   ]
  },
  {
   "cell_type": "markdown",
   "metadata": {},
   "source": [
    "**so**$$x=(p-1)^{- \\frac{1}{2}}$$"
   ]
  },
  {
   "cell_type": "markdown",
   "metadata": {},
   "source": [
    " **the answer is**\n",
    " \\begin{cases}\n",
    " x=(p-1)^{- \\frac{1}{2}}\\\\\n",
    " y= \\frac{2-p}{ \\sqrt(p-1)}\n",
    " \\end{cases}"
   ]
  },
  {
   "cell_type": "markdown",
   "metadata": {},
   "source": [
    "$B^+$"
   ]
  },
  {
   "cell_type": "code",
   "execution_count": null,
   "metadata": {
    "collapsed": true
   },
   "outputs": [],
   "source": []
  }
 ],
 "metadata": {
  "kernelspec": {
   "display_name": "SageMath 7.3",
   "language": "",
   "name": "sagemath"
  },
  "language_info": {
   "codemirror_mode": {
    "name": "ipython",
    "version": 2
   },
   "file_extension": ".py",
   "mimetype": "text/x-python",
   "name": "python",
   "nbconvert_exporter": "python",
   "pygments_lexer": "ipython2",
   "version": "2.7.10"
  }
 },
 "nbformat": 4,
 "nbformat_minor": 0
}
