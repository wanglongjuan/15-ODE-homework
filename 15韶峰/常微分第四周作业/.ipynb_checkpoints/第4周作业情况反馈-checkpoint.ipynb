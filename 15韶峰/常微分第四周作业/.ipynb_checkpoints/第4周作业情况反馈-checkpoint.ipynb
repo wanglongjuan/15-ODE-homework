{
 "cells": [
  {
   "cell_type": "markdown",
   "metadata": {},
   "source": [
    " 本周作业情况如下：\n",
    "\n",
    "1. 本周作业是： 第60-61页 4，8,9;第69-70页 \n",
    "1. 本周作业情况如下：\n",
    "   * 本周作业是做与恰当微分方程与积分因子和一阶隐式微分方程参数相关的题目，大家都能按时完成作业;\n",
    "   * 本周作业仍出现了格式不正确，书写不恰当的，作业内容较乱;\n",
    "   * 江铁松、刘桃、张亚飞、刘琼琦作业优秀;\n",
    "   * 金蒙召请假作业未交."
   ]
  },
  {
   "cell_type": "code",
   "execution_count": null,
   "metadata": {
    "collapsed": true
   },
   "outputs": [],
   "source": []
  }
 ],
 "metadata": {
  "kernelspec": {
   "display_name": "SageMath 7.3",
   "language": "",
   "name": "sagemath"
  },
  "language_info": {
   "codemirror_mode": {
    "name": "ipython",
    "version": 2
   },
   "file_extension": ".py",
   "mimetype": "text/x-python",
   "name": "python",
   "nbconvert_exporter": "python",
   "pygments_lexer": "ipython2",
   "version": "2.7.10"
  }
 },
 "nbformat": 4,
 "nbformat_minor": 0
}
