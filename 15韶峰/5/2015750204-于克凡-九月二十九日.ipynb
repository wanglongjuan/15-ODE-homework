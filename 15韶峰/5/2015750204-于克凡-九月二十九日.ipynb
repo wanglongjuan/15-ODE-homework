{
 "cells": [
  {
   "cell_type": "markdown",
   "metadata": {
    "collapsed": true
   },
   "source": [
    "# 习题3.1"
   ]
  },
  {
   "cell_type": "markdown",
   "metadata": {},
   "source": [
    "## 3.求初值问题$\\begin{cases}\n",
    "\\frac{dy}{dx}=x^2-y^2,R:|x+1|\\leq1,|y|\\leq1,\\\\y(-1)=0\\end{cases}$的解的存在区间，并求第二次近似解，给出在解的存在区间的误差估计"
   ]
  },
  {
   "cell_type": "markdown",
   "metadata": {},
   "source": [
    "解：记$f(x,y)=x^2-y^2$，在矩形域$R:|x+1|\\leq1,|y|\\leq1$上,\n",
    "\n",
    "$M=\\displaystyle\\max_{\\substack{(x,y) \\in R}}|f(x,y)|=4,h=min\\{1,\\frac{1}{4}\\}$\n",
    "\n",
    "$f(x,y)$在矩形域中连续,且$\\frac{\\partial f}{\\partial y}=-2y$,在$|y|\\leq1$时$|\\frac{\\partial f}{\\partial y}|\\leq2=L$$\\implies$存在唯一解$y=\\varphi(x)$满足$\\varphi(-1)=0$在区间$[-1,-\\frac{3}{4}]$上\n",
    "\n",
    "$|\\varphi_n(x)-\\varphi(x)|\\leq\\frac{ML^n}{(n+1)!}h^{n+1}\\implies|\\varphi_2(x)-\\varphi(x)|\\leq\\frac{4\\times2^2}{3!}\\times(\\frac{1}{4})^3=\\frac{1}{24}$\n",
    "\n",
    "$\\varphi_0(x)=0,\\varphi_1(x)=0+\\int\\limits_{-1}^{x} x^2-[\\varphi_0(x)]^2dx=\\frac{x^3}{3}+\\frac{1}{3}$\n",
    "\n",
    "$\\varphi_2(x)=0+\\int\\limits_{-1}^{x} x^2-[\\varphi_1(x)]^2dx=-\\frac{x}{9}+\\frac{x^3}{3}-\\frac{x^4}{18}-\\frac{x^7}{63}+\\frac{11}{42}$"
   ]
  },
  {
   "cell_type": "markdown",
   "metadata": {},
   "source": [
    "## 6.证明格朗沃尔不等式：设$K$为非负常数,$f(t)$和$g(t)$为在区间$\\alpha\\leq t\\leq\\beta$的连续非负函数，且满足不等式$$f(t)\\leq K+\\int\\limits_\\alpha^t f(s)g(s)ds,\\alpha\\leq t\\leq\\beta$$\n",
    "\n",
    "## 则有$$f(t)\\leq Ke^{\\int\\limits_\\alpha^t g(s)ds},\\alpha\\leq t\\leq\\beta$$并由此证明定理1的命题5"
   ]
  },
  {
   "cell_type": "markdown",
   "metadata": {},
   "source": [
    "解：$e^{\\int\\limits_\\alpha^t g(s)ds}=1+\\int\\limits_\\alpha^t g(s)ds+\\frac{(\\int\\limits_\\alpha^t g(s)ds)^2}{2!}+\\frac{(\\int\\limits_\\alpha^t g(s)ds)^3}{3!}+\\cdots\\cdots$\n",
    "\n",
    "已知$f(t)\\leq K+\\int\\limits_\\alpha^t f(s)g(s)ds,\\alpha\\leq t\\leq\\beta$若成立\n",
    "\n",
    "$K(\\int\\limits_\\alpha^t g(s)ds+\\frac{(\\int\\limits_\\alpha^t g(s)ds)^2}{2!}+\\frac{(\\int\\limits_\\alpha^t g(s)ds)^3}{3!}+\\cdots\\cdots)\\geq \\int\\limits_\\alpha^t f(s)g(s)ds\\cdots\\cdots\\cdots\\cdots(*)$则命题成立\n",
    "\n",
    "$f(t)\\leq K+\\int\\limits_\\alpha^t f(s)g(s)ds$且$f(s),g(s)$非负$\\implies$\n",
    "\n",
    "$f(t)\\leq K+\\int\\limits_\\alpha^t [K+\\int\\limits_\\alpha^s f(s_1)g(s_1)ds_1]g(s)ds\\implies$\n",
    "\n",
    "$f(t)\\leq K+\\int\\limits_\\alpha^t [K+\\int\\limits_\\alpha^s \\{K+\\int\\limits_\\alpha^{s_1} f(s_2)g(s_2)ds_2\\}g(s_1)ds_1]g(s)ds$\n",
    "\n",
    "反复利用此不等式进行$n$次迭代$\\implies$\n",
    "\n",
    "$f(t)\\leq K+\\int\\limits_\\alpha^t (K+\\int\\limits_\\alpha^s (K+\\int\\limits_\\alpha^{s_1}(K+\\int\\limits_\\alpha^{s_2}\\cdots\\int\\limits_\\alpha^{s_{n-1}}(K+f(s_{n})g(s_{n})ds_{n})g(s_{n-1})d{s_{n-1}}）\\cdots g(s_1)ds_1)g(s)ds$\n",
    "\n",
    "将此式代入要证明的$(*)$式右端，并与左边做差，差式为\n",
    "\n",
    "$K\\displaystyle\\sum_{i=n+1}^{\\infty} \\frac{(\\int\\limits_\\alpha^t g(s)ds)^i}{i!}-K\\int\\limits_\\alpha^t g(s)(\\int\\limits_\\alpha^s\\cdots\\int\\limits_\\alpha^{s_{n-1}} (f(s_n)g(s_n)ds_n)ds_{n-1})\\cdots )ds_1)ds\\geq$(舍弃无穷个正数相加项)\n",
    "\n",
    "$-K\\int\\limits_\\alpha^t g(s)(\\int\\limits_\\alpha^s\\cdots\\int\\limits_\\alpha^{s_{n-1}} (f(s_n)g(s_n)ds_n)ds_{n-1})\\cdots )ds_1)ds$\n",
    "\n",
    "$f(t)$在闭区间$[\\alpha,\\beta]$上非负且连续$\\implies f(x)$在$[\\alpha,\\beta]$上有极大值$M\\implies$\n",
    "\n",
    "差式$\\geq -KM\\frac{(\\int\\limits_\\alpha^t g(s)ds)^n}{n!}\\geq -KM\\frac{(\\int\\limits_\\alpha^\\beta g(s)ds)^n}{n!}$\n",
    "\n",
    "$K、M$为定值且有$\\displaystyle\\lim_{n\\to\\infty} -KM\\frac{(\\int\\limits_\\alpha^\\beta g(s)ds)^n}{n!}=0\\implies$\n",
    "\n",
    "$(*)$式成立$\\implies$原命题成立"
   ]
  },
  {
   "cell_type": "markdown",
   "metadata": {},
   "source": [
    "**不正确**"
   ]
  },
  {
   "cell_type": "markdown",
   "metadata": {},
   "source": [
    "## 8.如果函数$f(x,y)$于带域$\\alpha\\leq x\\leq\\beta$上连续且关于$y$满足$Lipschitz$条件，则方程$\\frac{dy}{dx}=f(x,y)$满足条件$y(x_0)=y_0$的解于整个区间$[\\alpha,\\beta]$上存在且唯一，试证明之"
   ]
  },
  {
   "cell_type": "markdown",
   "metadata": {},
   "source": [
    "解：由书上定理1的命题1，可知方程$\\frac{dy}{dx}=f(x,y)$满足条件$y(x_0)=y_0$的解亦满足一个积分方程，在$x_0$的一个小邻域内\n",
    "\n",
    "由书上定理2可知$Picard$逐步逼近函数序列的每个解都在规定的矩形域内\n",
    "\n",
    "由定理3可知$Picard$函数序列在上述小邻域内一致收敛\n",
    "\n",
    "由书上定理4可知一致收敛的极限函数正是上述积分方程在相同小邻域内的连续解\n",
    "\n",
    "因为本题条件为仅与$x$有关的带域$[\\alpha,\\beta]$,右端函数$f(x,y)$对$y$没有限制，故$Picard$函数序列${\\varphi(x_n)}$在整个区间$[\\alpha,\\beta]$有定义且一致收敛\n",
    "\n",
    "方程$\\frac{dy}{dx}=f(x,y)$满足条件$y(x_0)=y_0$的解于整个区间$[\\alpha,\\beta]$上存在\n",
    "\n",
    "由书上定理5可知积分方程的解必唯一，故此微分方程的解也是唯一的"
   ]
  },
  {
   "cell_type": "markdown",
   "metadata": {},
   "source": [
    "## 10.给定积分方程$$\\varphi(x)=f(x)+\\lambda\\int\\limits_a^b K(x,\\xi)\\varphi(\\xi)d\\xi ,\\cdots\\cdots\\cdots\\cdots(*)$$其中$f(x)$是$[a,b]$上已知的连续函数，$K(x,\\xi)$是$a\\leq x\\leq b,a\\leq\\xi\\leq b$上已知的连续函数。证明当$|\\lambda|$足够小时，$(*)$在$[a,b]$上存在唯一的连续解。"
   ]
  },
  {
   "cell_type": "markdown",
   "metadata": {},
   "source": [
    "解：构造$Picard$逐步逼近函数序列$\\begin{cases}\\varphi_0(x)=f(x)\\\\\n",
    "\\varphi_n(x)=f(x)+\\lambda\\int_a^b K(x,\\xi)\\varphi(\\xi)d\\xi\\end{cases}$\n",
    "\n",
    "仅需证明$\\lambda$足够小时，级数$\\varphi_0(x)+\\displaystyle\\sum_{k=1}^{\\infty}[\\varphi_k(x)-\\varphi_{k-1}(x)]$一致收敛即可\n",
    "\n",
    "$K(x,\\xi)$是$a\\leq x\\leq b,a\\leq\\xi\\leq b$上已知的连续函数$\\implies$$K(x,\\xi)$在矩形域$R:a\\leq x\\leq b,a\\leq\\xi\\leq b$上有界\n",
    "\n",
    "记$M=\\displaystyle\\max_{\\substack{(x,\\xi) \\in R}}|K(x,\\xi)|$\n",
    "\n",
    "$|\\varphi_1(x)-\\varphi_0(x)|=|\\lambda\\int\\limits_a^b K(x,\\xi)\\varphi_0(\\xi)d\\xi\\leq M|\\lambda\\int\\limits_a^b f(\\xi)d\\xi$\n",
    "\n",
    "$f(x)$是$[a,b]$上已知的连续函数,由积分第一中值定理$\\implies|\\varphi_1(x)-\\varphi_0(x)|\\leq M|\\lambda f(c)(b-a)|,c\\in[a,b]$\n",
    "\n",
    "$|\\varphi_2(x)-\\varphi_1(x)|\\leq M|\\lambda\\int\\limits_a^b (\\varphi_1(\\xi)-\\varphi_0(\\xi)d\\xi|\\leq f(c)\\frac{M^2|\\lambda|^2(b-a)^2}{2!}$\n",
    "\n",
    "$|\\varphi_n(x)-\\varphi_{n-1}(x)|\\leq f(c)\\frac{M^n|\\lambda|^n(b-a)^n}{n!}$\n",
    "\n",
    "$\\varphi_0(x)+\\displaystyle\\sum_{k=1}^{\\infty}[\\varphi_k(x)-\\varphi_{k-1}(x)]$的部分和$\\varphi_n(x)\\leq f(c)\\displaystyle\\sum_{k=1}^{n}\n",
    "\\frac{M^k|\\lambda|^k(b-a)^k}{k!}$后者为一正项级数\n",
    "\n",
    "由比值判别法可知$|\\lambda|$足够小时该正项级数一致收敛\n",
    "\n",
    "由书上定理5（或者一致收敛极限的唯一性）可知，该积分方程在$[a,b]$上连续解唯一"
   ]
  },
  {
   "cell_type": "markdown",
   "metadata": {
    "collapsed": true
   },
   "source": [
    "$B$"
   ]
  },
  {
   "cell_type": "code",
   "execution_count": null,
   "metadata": {
    "collapsed": true
   },
   "outputs": [],
   "source": []
  }
 ],
 "metadata": {
  "kernelspec": {
   "display_name": "SageMath 7.3",
   "language": "",
   "name": "sagemath"
  },
  "language_info": {
   "codemirror_mode": {
    "name": "ipython",
    "version": 2
   },
   "file_extension": ".py",
   "mimetype": "text/x-python",
   "name": "python",
   "nbconvert_exporter": "python",
   "pygments_lexer": "ipython2",
   "version": "2.7.10"
  }
 },
 "nbformat": 4,
 "nbformat_minor": 0
}
