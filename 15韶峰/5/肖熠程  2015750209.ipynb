{
 "cells": [
  {
   "cell_type": "markdown",
   "metadata": {},
   "source": [
    "$1 求初值问题$"
   ]
  },
  {
   "cell_type": "markdown",
   "metadata": {},
   "source": [
    "$$\\begin{cases}\\frac{d y}{d x}=x^2-y^2,R:\\mid x+1 \\mid \\leq 1,\\mid y \\mid \\leq 1\\\\y(-1)=0\\end{cases}$$  "
   ]
  },
  {
   "cell_type": "markdown",
   "metadata": {},
   "source": [
    "$解$"
   ]
  },
  {
   "cell_type": "markdown",
   "metadata": {},
   "source": [
    "$-2\\leq x \\leq0\\quad -1\\leq y\\leq1   \\quad l={\\partial  f \\over \\partial y }\\leq2$"
   ]
  },
  {
   "cell_type": "markdown",
   "metadata": {},
   "source": [
    "$M=4,h=1/4$"
   ]
  },
  {
   "cell_type": "markdown",
   "metadata": {},
   "source": [
    "$\\varphi_0(x)=0$"
   ]
  },
  {
   "cell_type": "markdown",
   "metadata": {},
   "source": [
    "$\\varphi_1(x)=\\int_{-1}^x t^-\\varphi_0(t)dt=1/3t^3+1/3\n",
    "$"
   ]
  },
  {
   "cell_type": "markdown",
   "metadata": {},
   "source": [
    "$\\varphi_2(x)=\\int_{-1}^x-\\varphi_1(x)^2dt=1/3x^3-1/63x^7-1/18x^4-1/9x+11/42$"
   ]
  },
  {
   "cell_type": "markdown",
   "metadata": {},
   "source": [
    "$\\mid x+1 \\mid \\leq1/4\\quad 即解的存在区间为-5/4\\leq x\\leq1/4$"
   ]
  },
  {
   "cell_type": "markdown",
   "metadata": {},
   "source": [
    "$\\varphi_2(x)-\\varphi(x)\\leq \\frac{Ml^n}{(n+1)!}*h^{n+1}$"
   ]
  },
  {
   "cell_type": "markdown",
   "metadata": {},
   "source": [
    "$当n=2,h=1/4,l=2，误差为1/24$"
   ]
  },
  {
   "cell_type": "markdown",
   "metadata": {},
   "source": [
    "$2\\quad 证明Gronwall不等式$\n"
   ]
  },
  {
   "cell_type": "markdown",
   "metadata": {},
   "source": [
    "$设K为非负常数，f(t）和g(t) 为【\\alpha,\\beta】上的连续非负函数，且满足不等式$"
   ]
  },
  {
   "cell_type": "markdown",
   "metadata": {},
   "source": [
    "$$f(t) \\leq K+\\int_\\alpha^t f(s)g(s)ds,t\\in[\\alpha,\\beta]$$"
   ]
  },
  {
   "cell_type": "markdown",
   "metadata": {},
   "source": [
    "$则有$$$f(t)\\leq Kexp\\int_\\alpha^t g(s)ds$$"
   ]
  },
  {
   "cell_type": "markdown",
   "metadata": {},
   "source": [
    "$并由此证明定理1的命题5$"
   ]
  },
  {
   "cell_type": "markdown",
   "metadata": {
    "collapsed": true
   },
   "source": [
    "$证明$"
   ]
  },
  {
   "cell_type": "markdown",
   "metadata": {},
   "source": [
    "$h(x)=f(t) \\leq K+\\int_\\alpha^t f(s)g(s)ds\\quad h^{\\prime}(t)=f(t)g(t)$                                                                                                                                                                                                                               "
   ]
  },
  {
   "cell_type": "markdown",
   "metadata": {},
   "source": [
    "$h^{\\prime}(t)\\leq h(t)g(t)$"
   ]
  },
  {
   "cell_type": "markdown",
   "metadata": {},
   "source": [
    "$h^{\\prime}(t)/h(t)\\leq g(t)$"
   ]
  },
  {
   "cell_type": "markdown",
   "metadata": {},
   "source": [
    "$两边积分从\\alpha到t积分$"
   ]
  },
  {
   "cell_type": "markdown",
   "metadata": {},
   "source": [
    "$ln{h(x)}-ln{\\alpha}=\\int_\\alpha^t g(s)ds$"
   ]
  },
  {
   "cell_type": "markdown",
   "metadata": {},
   "source": [
    "$ln{h(x)}=ln{\\alpha}+\\int_\\alpha^t g(s)ds$"
   ]
  },
  {
   "cell_type": "markdown",
   "metadata": {},
   "source": [
    "$ln{h(x)/{\\alpha}}=\\int_\\alpha^t g(s)ds$"
   ]
  },
  {
   "cell_type": "markdown",
   "metadata": {},
   "source": [
    "$K=exp{\\alpha}$"
   ]
  },
  {
   "cell_type": "markdown",
   "metadata": {},
   "source": [
    "$证明$$$f(t)\\leq h(t)\\leq Kexp\\int_\\alpha^t g(s)ds$$$"
   ]
  },
  {
   "cell_type": "markdown",
   "metadata": {},
   "source": [
    "$当K=0时也满足$\n"
   ]
  },
  {
   "cell_type": "markdown",
   "metadata": {},
   "source": [
    "$证明存在唯一的\\varphi(t)$"
   ]
  },
  {
   "cell_type": "markdown",
   "metadata": {},
   "source": [
    "$设\\varphi(x)=x_0+\\int_{t_0}^tf(\\epsilon,\\varphi(\\epsilon))d\\epsilon\n",
    "$\n",
    "\n",
    "$g(t)=x_0+\\int_{t-0}{t}f(\\epsilon,g(\\epsilon))d\\epsilon$\n",
    "\n",
    "$那么|\\varphi(x)-g(x)|\\leq L \\int_{t_0}^t|\\varphi(\\epsilon)-g(\\epsilon)d\\epsilon|\\to 0$\n",
    "\n",
    "$\\varphi(x)=g(x)$"
   ]
  },
  {
   "cell_type": "markdown",
   "metadata": {},
   "source": [
    "$假设\\psi(t)也满足题意$"
   ]
  },
  {
   "cell_type": "markdown",
   "metadata": {},
   "source": [
    "**不正确**"
   ]
  },
  {
   "cell_type": "markdown",
   "metadata": {},
   "source": [
    "$3\\quad如果函数f（x，y）于带域【\\alpha,\\beta】上连续且关于y满足Lipschitz条件，则方程\\frac{d y}{d x}=f(x,y)满足y（x_0）=y_0的解存在且唯一，证明$"
   ]
  },
  {
   "cell_type": "markdown",
   "metadata": {
    "collapsed": true
   },
   "source": [
    "$解\\quad先y_0(x)在【\\alpha,\\beta】上一致收敛|y_1(x)-y_0(x)|\\leq y_0+\\int_{x_0}^x |f(\\epsilon,y_0(\\epsilon))| \\leq M(x-x_0)$"
   ]
  },
  {
   "cell_type": "markdown",
   "metadata": {
    "collapsed": true
   },
   "source": [
    "$|y_2(x)-y_1(x)|\\leq y_0+\\int_{x_0}^x |f(\\epsilon,y_1(\\epsilon))-f(\\epsilon,y_0(\\epsilon))| d\\epsilon$"
   ]
  },
  {
   "cell_type": "markdown",
   "metadata": {
    "collapsed": true
   },
   "source": [
    "$\\leq L\\int_{x_0}^{x} M(\\epsilon-x_0)d\\epsilon=ML(x-x_0)^2$"
   ]
  },
  {
   "cell_type": "markdown",
   "metadata": {
    "collapsed": true
   },
   "source": [
    "$|y_{n}(X)-y_{n-1}(x)|\\leq \\frac{ML^{n-1}(x-x_0)^n}{n!}$"
   ]
  },
  {
   "cell_type": "markdown",
   "metadata": {
    "collapsed": true
   },
   "source": [
    "$Lipschitz条件，x\\in[\\alpha,\\beta],,有|y_{n+1}(x)-y_n(x)|\\leq \\int_{x_0}^x |f(\\epsilon,y_n(\\epsilon))-f(\\epsilon,y_{n-1}(\\epsilon))|d\\epsilon$"
   ]
  },
  {
   "cell_type": "markdown",
   "metadata": {
    "collapsed": true
   },
   "source": [
    "$\\leq L\\int_{x_0^x}|y_n(\\epsilon)-y_{n-1}(\\epsilon))|d\\epsilon$"
   ]
  },
  {
   "cell_type": "markdown",
   "metadata": {
    "collapsed": true
   },
   "source": [
    "$\\leq \\frac{ML^n}{{n+1}!}(x-x_0)^{n+1}$"
   ]
  },
  {
   "cell_type": "markdown",
   "metadata": {
    "collapsed": true
   },
   "source": [
    "$\\sum_{k=1}^{\\infty} \\frac{ML^{k-1}}{{k}!}(h)^{k}$"
   ]
  },
  {
   "cell_type": "markdown",
   "metadata": {
    "collapsed": true
   },
   "source": [
    "$一致收敛$"
   ]
  },
  {
   "cell_type": "markdown",
   "metadata": {
    "collapsed": true
   },
   "source": [
    "$Lipschitz条件，以及{y_n(),x}一致收敛于有y（x）$"
   ]
  },
  {
   "cell_type": "markdown",
   "metadata": {},
   "source": [
    "$f(x,y_n(x))在[\\alpha,\\beta]上一致收敛f(x,y(x))$"
   ]
  },
  {
   "cell_type": "markdown",
   "metadata": {},
   "source": [
    "$\\lim_{x \\to \\infty}y_n(x)=y_0+\\lim_{x\\to \\infty}\\int_{x_0}^x f(\\epsilon,y_{n-1}(\\epsilon))d\\epsilon$"
   ]
  },
  {
   "cell_type": "markdown",
   "metadata": {},
   "source": [
    "$y(x)=y_0+\\int_{x_0}^x f(\\epsilon,y(\\epsilon))d\\epsilon$"
   ]
  },
  {
   "cell_type": "markdown",
   "metadata": {},
   "source": [
    "$即证明了存在性$"
   ]
  },
  {
   "cell_type": "markdown",
   "metadata": {},
   "source": [
    "$证明了唯一性$"
   ]
  },
  {
   "cell_type": "markdown",
   "metadata": {},
   "source": [
    "$假设有另外有一连续解\\psi(x)$"
   ]
  },
  {
   "cell_type": "markdown",
   "metadata": {},
   "source": [
    "$|y_0（x）-\\psi(x)|\\leq \\int_{x_0}^x |f(\\epsilon,\\psi(\\epsilon))|d\\epsilon \\leq M(x-x_0)$"
   ]
  },
  {
   "cell_type": "markdown",
   "metadata": {},
   "source": [
    "$|y_1(x)-\\psi(x)|\\leq\\int_{x_o}^x|f(\\epsilon,y_0(\\epsilon))-f(\\epsilon,\\psi(\\epsilon))|d\\epsilon$"
   ]
  },
  {
   "cell_type": "markdown",
   "metadata": {},
   "source": [
    "$\\leq L \\int_{x_0}^x y_0(\\epsilon)-\\psi(x)d\\epsilon$"
   ]
  },
  {
   "cell_type": "markdown",
   "metadata": {},
   "source": [
    "$\\leq LM \\int_{x_0}^x (\\epsilon-x_0)d\\epsilon=frac{ML}{2!(x-x_0)}$"
   ]
  },
  {
   "cell_type": "markdown",
   "metadata": {},
   "source": [
    "$由上面证明存在性相似的方法$"
   ]
  },
  {
   "cell_type": "markdown",
   "metadata": {},
   "source": [
    "$可得|y_n(x)-\\psi{x}|\\leq\\int_{x_0}^x |f(\\epsilon,y_{n-1}(\\epsilon))-f(\\epsilon,\\psi(\\epsilon))|d\\epsilon$"
   ]
  },
  {
   "cell_type": "markdown",
   "metadata": {},
   "source": [
    "$L\\int_{x_0}^x|y_{n-1}(\\epsilon)-\\psi(\\epsilon)|d\\epsilon$"
   ]
  },
  {
   "cell_type": "markdown",
   "metadata": {},
   "source": [
    "$\\leq\\frac{ML^n}{{n+1}!}(x-x_0)^{n+1}$\n",
    "\n",
    "$|y_n(x)-\\psi(x)|\\leq \\frac{ML^n}{{n+1}!}(h^{n+1})$\n",
    "\n",
    "$当n\\rightarrow\\infty$\n",
    "$\\frac{ML^n}{{n+1}!}(h^{n+1})\\to 0$\n",
    "\n",
    "$y(x)=\\psi(x),x\\in[\\alpha,\\beta]$\n",
    "$唯一性证明$"
   ]
  },
  {
   "cell_type": "markdown",
   "metadata": {
    "collapsed": true
   },
   "source": [
    "$4\\quad给定积分方程$\n",
    "$$\\varphi(x)=f(x)+\\lambda\\int_a^b K(x,\\epsilon)\\varphi(\\epsilon)d\\epsilon$$\n",
    "$其中f(x)是[a,b]上的已知连续函数，K（x,\\epsilon$)是x\\in[a,b],\\epsilon\\in[a,b]上已知的函数，证明当|\\lambda|足够小时（\\lambda为c）,(*)在[a,b]上存在唯一的连续解$\n",
    "$够造$逼近数列$\n",
    "$\\varphi_0(x)=f(x)$\n",
    "$\\varphi_n(x)=f(x)+\\lambda\\int_a^b K(x,\\epsilon)\\varphi_{n-1}(\\epsilon)d\\epsilon$\n",
    "\n",
    "$K(x,\\epsilon)是想x\\in[a,b],\\epsilon\\in[a,b]上的连续函数不妨设K[x,\\epsilon]的最大值为M$\n",
    "\n",
    "$|\\varphi_1(x)-\\varphi_0(x)|\\leq |\\lambda |\\int_a^b\\varphi_0(\\epsilon)d\\epsilon$\n",
    "\n",
    "$\\leq \\lambda Ml(b-a),$\n",
    "$可以用我在上一题的数学归纳法可以证明$\n",
    "\n",
    "$|\\varphi_n(x)-\\varphi_{n-1}x|\\leq ML^n|\\lambda|^n(b-a)^n$\n",
    "\n",
    "$讨论 \\sum_{k=1}^{infty} ML^k|\\lambda|^k(b-a)^a$\n",
    "\n",
    "$当|\\lambda|<\\frac{1}{(b-a)L}时，\\sum_{k=1}{infty}ML^k|\\lambda|^k(b-a)^a时一致收敛$\n",
    "$即证明了连续性$\n",
    "$证明唯一性，与上题的方法类似 $\n",
    "$假设存在g(x)也是一个解$\n",
    "$|\\varphi(x)-g(x)|\\leq \\frac{ML^n\\lambda^n}{{n+1}!}h^{n+1}$\n",
    "$n\\to \\infty,\\frac{ML^n\\lambda^n}{{n+1}!}h^{n+1}\\to 0$\n",
    "$即\\varphi(x)=g(x)$\n",
    "$即唯一$"
   ]
  },
  {
   "cell_type": "markdown",
   "metadata": {
    "collapsed": true
   },
   "source": [
    "**不正确，格式也不正确**"
   ]
  },
  {
   "cell_type": "markdown",
   "metadata": {},
   "source": [
    "$B^-$"
   ]
  },
  {
   "cell_type": "code",
   "execution_count": null,
   "metadata": {
    "collapsed": true
   },
   "outputs": [],
   "source": []
  }
 ],
 "metadata": {
  "kernelspec": {
   "display_name": "SageMath 7.3",
   "language": "",
   "name": "sagemath"
  },
  "language_info": {
   "codemirror_mode": {
    "name": "ipython",
    "version": 2
   },
   "file_extension": ".py",
   "mimetype": "text/x-python",
   "name": "python",
   "nbconvert_exporter": "python",
   "pygments_lexer": "ipython2",
   "version": "2.7.10"
  }
 },
 "nbformat": 4,
 "nbformat_minor": 0
}
