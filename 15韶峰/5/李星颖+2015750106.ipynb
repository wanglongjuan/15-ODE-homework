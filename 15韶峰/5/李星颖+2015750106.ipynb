{
 "cells": [
  {
   "cell_type": "markdown",
   "metadata": {},
   "source": [
    "# 《解的存在唯一性定理与逐步逼近法》作业"
   ]
  },
  {
   "cell_type": "markdown",
   "metadata": {},
   "source": [
    "## 一：求初值问题 \n",
    "$$\\begin{cases}\\frac{\\mathrm{dy}}{\\mathrm{dx}}=x^2-y^2,|x+1|\\leq1,|y|\\leq1,\\\\y(-1)=0\\end{cases}$$\n",
    "## 的解的存在区间，并求第二次近似解，给出在解的存在区间的误差估计。"
   ]
  },
  {
   "cell_type": "markdown",
   "metadata": {},
   "source": [
    "**解**：\n",
    "\n",
    "易知$$M=\\max_{(x,y)\\in R}|f(x,y)|=4,h=\\min\\{1,4\\}=\\frac{1}{4}$$\n",
    "在$R$上函数$f(x,y)=x^2-y^2$的$Lipschitz$常数$L=2,$\n",
    "\n",
    "因为$\\frac{\\partial f}{\\partial y}=|-2y|\\leq 2.$\n",
    "$$\\varphi_0(x)=0,\\varphi_1(x)=\\int_{-1}^x(t^2-\\varphi_0^2(t))=\\frac{x^3}{3}+\\frac{1}{3},$$\n",
    "$$\\varphi_2(x)=\\int_{-1}^x(t^2-\\frac{(t^3+1)^2}{9})\\mathrm dt =\\frac{x^3}{3}-\\frac{x}{9}-\\frac{x^4}{18}-\\frac{x^7}{63}+\\frac{11}{42}$$\n",
    "\n",
    "误差范围为$|\\varphi_2(x)-\\varphi(x)|\\leq \\frac{1}{24}.$\n",
    "\n",
    "解的存在区间为$[-\\frac{5}{4},-\\frac{3}{4}]$\n",
    "\n",
    "同理，第二次近似解为$$y_2=\\frac{x^3}{3}-\\frac{x}{9}-\\frac{x^4}{18}-\\frac{x^7}{63}+\\frac{11}{42}.$$解的存在区间为$|y-y_2|\\leq \\frac{1}{24}.$"
   ]
  },
  {
   "cell_type": "code",
   "execution_count": null,
   "metadata": {
    "collapsed": true
   },
   "outputs": [],
   "source": []
  },
  {
   "cell_type": "markdown",
   "metadata": {},
   "source": [
    "## 二：证明gronwell不等式：设$K$为非负常数，$f(t)$和$g(t)$为在区间$\\alpha \\leq t \\leq \\beta$上的连续非负函数，且满足不等式$$f(t)\\leq K+\\int_{\\alpha}^tf(s)g(s)\\;\\mathrm{ds},\\alpha \\leq t \\leq \\beta,$$则有$$f(t)\\leq K \\exp(\\int_{\\alpha}^tg(s)\\mathrm{ds}),\\alpha \\leq t \\leq \\beta.$$并由此证明定理$1$的命题5."
   ]
  },
  {
   "cell_type": "markdown",
   "metadata": {},
   "source": [
    "**解**：\n",
    "引理：\n",
    "$\\int_{\\alpha}^{t_0}(\\int_{\\alpha}^{t_1}(\\int_{\\alpha}^{t_2}\\dots \\int_{\\alpha}^{t_{n-1}}g(t_n)\\mathrm{d t_n}\\dots)g(t_2) \\mathrm {d t_2})g(t_1) \\mathrm {d t_1}=\\frac{(\\int_{\\alpha }^{t_0}g(x)\\mathrm{dx})^n}{n!}$,这利用数学归纳法，在使用数学归纳法便可证明。\n",
    "观察式子$$f(t)\\leq K+\\int_{\\alpha}^tf(s)g(s)\\;\\mathrm{ds}$$,发现它可以迭代，即:\n",
    "\n",
    "$$f(t_0)\\leq K+\\int_{\\alpha}^{t_0}f(t_1)g(t_1)\\mathrm{d t_1}$$$$\\leq  K+\\int_{\\alpha}^{t_0}(K+\\int_{\\alpha}^{t_1}f(t_2)g(t_2)\\mathrm{d t_1})g(t_1)\\mathrm{d t_1}$$$$\\leq  K+\\int_{\\alpha}^{t_0}(K+\\int_{\\alpha}^{t_1}( K+\\int_{\\alpha}^{t_2}f(t_3)g(t_3)\\mathrm{d t_3})g(t_2)\\mathrm{d t_1})g(t_1)\\mathrm{d t_1}$$$$\\dots \\dots \\dots$$继续进行这个过程，并展开，然后利用引理，可得$$f(t_0)\\leq\\displaystyle K\\sum_{i=0}^{n} \\frac{(\\int_{\\alpha }^{t_0}g(x)\\mathrm{dx})^i}{i!}+\\int_{\\alpha}^{t_0}(\\int_{\\alpha}^{t_1}(\\int_{\\alpha}^{t_2}\\dots \\int_{\\alpha}^{t_{n-1}}f(t_n)g(t_n)\\mathrm{d t_n}\\dots)g(t_2) \\mathrm {d t_2})g(t_1) \\mathrm {d t_1}$$\n",
    "因为$ \\int_{\\alpha}^{t_0}(\\int_{\\alpha}^{t_1}(\\int_{\\alpha}^{t_2}\\dots \\int_{\\alpha}^{t_{n-1}}f(t_n)g(t_n)\\mathrm{d t_n}\\dots)g(t_2) \\mathrm {d t_2})g(t_1) \\mathrm {d t_1}$,满足$$m\\int_{\\alpha}^{t_0}(\\int_{\\alpha}^{t_1}(\\int_{\\alpha}^{t_2}\\dots \\int_{\\alpha}^{t_{n-1}}g(t_n)\\mathrm{d t_n}\\dots)g(t_2) \\mathrm {d t_2})g(t_1) \\mathrm {d t_1}$$$$\\leq\\int_{\\alpha}^{t_0}(\\int_{\\alpha}^{t_1}(\\int_{\\alpha}^{t_2}\\dots \\int_{\\alpha}^{t_{n-1}}f(t_n)g(t_n)\\mathrm{d t_n}\\dots)g(t_2) \\mathrm {d t_2})g(t_1) \\mathrm {d t_1}$$$$\\leq M\\int_{\\alpha}^{t_0}(\\int_{\\alpha}^{t_1}(\\int_{\\alpha}^{t_2}\\dots \\int_{\\alpha}^{t_{n-1}}g(t_n)\\mathrm{d t_n}\\dots)g(t_2) \\mathrm {d t_2})g(t_1) \\mathrm {d t_1}$$,其中$$m=\\min_{\\alpha \\leq t\\leq\\beta}\\{f(t)\\},M=\\max_{\\alpha \\leq t \\leq \\beta}\\{f(t)\\}$$,于是利用引理得：\n",
    "$$m\\frac{(\\int_{\\alpha}^{t_0}g(x)\\mathrm{dx})^n}{n!}\\leq\\int_{\\alpha}^{t_0}(\\int_{\\alpha}^{t_1}(\\int_{\\alpha}^{t_2}\\dots \\int_{\\alpha}^{t_{n-1}}f(t_n)g(t_n)\\mathrm{d t_n}\\dots)g(t_2) \\mathrm {d t_2})g(t_1) \\mathrm {d t_1}\\leq M\\frac{(\\int_{\\alpha}^{t_0}g(x)\\mathrm{dx})^n}{n!}$$,\n",
    "于是：$$\\lim_{n \\to \\infty}\\int_{\\alpha}^{t_0}(\\int_{\\alpha}^{t_1}(\\int_{\\alpha}^{t_2}\\dots \\int_{\\alpha}^{t_{n-1}}f(t_n)g(t_n)\\mathrm{d t_n}\\dots)g(t_2) \\mathrm {d t_2})g(t_1) \\mathrm {d t_1}=0$$$$\\implies$$\n",
    "$$f(t_0)\\leq \\lim_{n \\to \\infty}(\\displaystyle K\\sum_{i=0}^{n} \\frac{(\\int_{\\alpha }^{t_0}g(x)\\mathrm{dx})^i}{i!}+\\int_{\\alpha}^{t_0}(\\int_{\\alpha}^{t_1}(\\int_{\\alpha}^{t_2}\\dots \\int_{\\alpha}^{t_{n-1}}f(t_n)g(t_n)\\mathrm{d t_n}\\dots)g(t_2) \\mathrm {d t_2})g(t_1) \\mathrm {d t_1})=Kexp(\\int_{\\alpha}^{t_0}g(x)\\mathrm{dx})$$gronwell不等式得证。\n",
    "\n",
    "证明定理1的命题5：设$\\psi (x)$是积分方程$y=y_0+\\int_{x_0}^xf(x,y)\\mathrm d x,x_0\\leq x\\leq x_0+h$的定义于$x_0\\leq x\\leq x_0+h$上的另一个连续解，则$\\varphi (x)=\\psi (x)(x_0\\leq x\\leq x_0+h)$\n",
    "\n",
    "$$\\varphi (t)=x_0+\\int_{t_0}^tf(\\xi ,\\varphi (\\xi ))\\mathrm d \\xi ,\\psi (t)=x_0+\\int_{t_0}^tf(\\xi ,\\psi (\\xi ))\\mathrm d \\xi $$\n",
    "\n",
    "$$\\Big|\\varphi (t)-\\psi (t)\\Big|\\leq \\int_{t_0}^t\\Big|f(\\xi ,\\varphi (\\xi ))-f(\\xi ,\\psi (\\xi))\\Big|\\mathrm d \\xi \\leq L\\int_{t_0}^t\\Big|\\varphi (\\xi )-\\psi (\\xi )\\Big|\\mathrm d \\xi $$\n",
    "\n",
    "由gronwell不等式，$K=0$且\n",
    "$$0\\leq \\Big|\\varphi (t )-\\psi (t )\\Big|\\leq Kexp(\\int_{t_0}^tL\\mathrm d \\xi )=0$$\n",
    "\n",
    "所以$\\varphi (t)=\\psi (t)$,得证。"
   ]
  },
  {
   "cell_type": "code",
   "execution_count": null,
   "metadata": {
    "collapsed": true
   },
   "outputs": [],
   "source": []
  },
  {
   "cell_type": "markdown",
   "metadata": {},
   "source": [
    "## 三：如果函数 $f(x,y)$于$(x_0,y_0)$的邻域内是$y$的不增函数，试证方程$(3,1)$满足条件$y(x_0)=y_0$的解于整个区间$[\\alpha,\\beta]$上存在且唯一，试证明之。"
   ]
  },
  {
   "cell_type": "markdown",
   "metadata": {},
   "source": [
    "**解**：\n",
    "\n",
    "此题与课本上的定理一条件的差别为“此题对$y$的范围没有限制”，所以重复定理一的证明便可证明此题。由于对$y$的范围没有限制，所以解的自变量区间范围会增大，为$[\\alpha,\\beta]$。"
   ]
  },
  {
   "cell_type": "code",
   "execution_count": null,
   "metadata": {
    "collapsed": true
   },
   "outputs": [],
   "source": []
  },
  {
   "cell_type": "markdown",
   "metadata": {},
   "source": [
    "## 四：给定积分方程$$\\varphi(x)=f(x)+\\lambda \\int_a^bK(x,\\xi)\\varphi(\\xi)\\mathrm{d \\xi},$$其中$f(x)$是$[a,b]$上的已知连续函数，$K(x,\\xi)$是,$a\\leq \\xi \\leq b$上的已知连续函数，证明当$|\\lambda|$足够小时($\\lambda$是常数)，($*$)在$[a,b]$上存在唯一的连续解。"
   ]
  },
  {
   "cell_type": "markdown",
   "metadata": {},
   "source": [
    "**解**：\n",
    "设$\\varphi _0(x)=f(x)$，\n",
    "$\\varphi _1(x)=f(x)+\\lambda \\int_a^bK(x,\\xi )\\varphi _0(\\xi )\\mathrm d \\xi，\\varphi _{n+1}(x)=f(x)+\\lambda \\int_a^bK(x,\\xi )\\varphi _n(\\xi )\\mathrm d \\xi $\n",
    "\n",
    "设\n",
    "$M=\\max_{x\\in [a,bn]}\\big|f(x)\\big|,L=\\max_{x\\in [a,b]}\\big|K(x,\\xi )\\big|>0$，\n",
    "则$\\Big|\\varphi _1(x)-\\varphi _0(x)\\Big|=\\Big|\\lambda \\int_a^bK(x,\\xi )\\varphi _0(\\xi )\\mathrm d \\xi \\Big|\\leq\\Big|\\lambda \\Big|\\int_a^b\\Big|K(x,\\xi )\\Big|\\Big|f(\\xi )\\Big|\\mathrm d \\xi \\leq \\Big|\\lambda \\Big|ML(b-a)$\n",
    "假设\n",
    "$\\Big|\\varphi _k(x)-\\varphi _{k-1}(x)\\Big|\\leq \\big|\\lambda \\big|^kL^kM(b-a)^k，则\\Big|\\varphi _{k+1}(x)-\\varphi _{k-1}(x)\\Big|=\\Big|\\lambda \\int_a^bK(x,\\xi )(\\varphi _k(x)-\\varphi _{k-1}(\\xi ))\\mathrm d \\xi \\Big|\\leq \\big|\\lambda \\big|\\int _a^b\\Big|K(x,\\xi )\\Big|\\Big|\\varphi _k(\\xi )-\\varphi _{k-1}(\\xi )\\Big|\\mathrm d \\xi \\leq \\big|\\lambda \\big|\\int_a^bL^{k+1}\\big|\\lambda \\big|^kM(b-a)^k\\mathrm d \\xi =\\big|\\lambda \\big|^{k+1}L^{k+1}M(b-a)^{k+1}$\n",
    "所以\n",
    "$\\forall n \\in N，\\Big|\\varphi _n(x)-\\varphi _{n-1}(x)\\Big|\\leq ML^n\\big|\\lambda\\big|^n(b-a)^n$\n",
    "要证明${\\varphi _n(x)}$在$[a,b]$上一致收敛，即$\\varphi _0(x)+\\displaystyle\\sum_{k=1}^{\\infty}(\\varphi _k(x)-\\varphi _{k-1}(x))$\n",
    "在$[a,b]$一致收敛，因为$\\big|\\varphi _k(x)-\\varphi _{k-1}(x)\\big|\\leq ML^k\\big|\\lambda \\big|^k(b-a)^k$\n",
    "$\\big|\\lambda \\big|<{1 \\over (b-a)L}$时，级数$\\displaystyle\\sum_{k=1}^{\\infty}ML^k\\big|\\lambda \\big|^k(b-a)^k$收敛\n",
    "所以${\\varphi _n(x)}$在$[a,b]$上一致收敛。\n",
    "\n",
    "设极限函数为$\\varphi ^*(x)$，\n",
    "$\\varphi ^*(x)=f(x)+\\lambda \\int_a^bK(x,\\xi )\\varphi ^*(\\xi )~\\mathrm d\\xi ~\\big(\\big|\\lambda \\big|<{1 \\over (b-a)L}\\big)$\n",
    "，所以当$\\big|\\lambda \\big|<{1 \\over (b-a)L}$时，方程存在连续解。\n",
    "\n",
    "假设另有解$\\overline \\varphi (x)$且$\\overline \\varphi (x)\\neq \\varphi ^*(x)$，\n",
    "$\\overline \\varphi (x)=f(x)+\\lambda \\int_a^bK(x,\\xi )\\overline \\varphi (\\xi )\\mathrm d \\xi $。\n",
    "设$\\overline M=\\max_{x\\in [a,b]}\\big|\\varphi ^*(x)-\\overline \\varphi (x)\\big|>0$，\n",
    "$\\big|\\varphi ^*(x)-\\overline \\varphi (x)\\big|=\\Big|\\lambda \\int_a^bK(x,\\xi )(\\varphi ^*(\\xi )-\\overline \\varphi (\\xi ))\\mathrm d \\xi \\Big|$，\n",
    "$\\leq \\big|\\lambda \\big|\\int_a^bL\\big|\\varphi ^*(\\xi) -\\overline \\varphi (\\xi )\\big|\\mathrm d \\xi =\\big|\\lambda \\big|\\overline ML(b-a)$，\n",
    "$\\overline M\\leq \\big|\\lambda \\big|\\overline ML(b-a)$。\n",
    "因为$\\overline M>0$，所以$\\big|\\lambda \\big|\\geq {1 \\over (b-a)L}$与$\\big|\\lambda\\big|<{1 \\over (b-a)L}$矛盾，所以方程存在唯一解。"
   ]
  },
  {
   "cell_type": "markdown",
   "metadata": {
    "collapsed": true
   },
   "source": [
    "$B$"
   ]
  },
  {
   "cell_type": "code",
   "execution_count": null,
   "metadata": {
    "collapsed": true
   },
   "outputs": [],
   "source": []
  }
 ],
 "metadata": {
  "kernelspec": {
   "display_name": "SageMath 7.3",
   "language": "",
   "name": "sagemath"
  },
  "language_info": {
   "codemirror_mode": {
    "name": "ipython",
    "version": 2
   },
   "file_extension": ".py",
   "mimetype": "text/x-python",
   "name": "python",
   "nbconvert_exporter": "python",
   "pygments_lexer": "ipython2",
   "version": "2.7.10"
  }
 },
 "nbformat": 4,
 "nbformat_minor": 0
}
