{
 "cells": [
  {
   "cell_type": "markdown",
   "metadata": {},
   "source": [
    "# 习题3.1$P_{88}$"
   ]
  },
  {
   "cell_type": "markdown",
   "metadata": {},
   "source": [
    "# 3.求初值问题$$\\begin{cases}\n",
    "\\frac{dy}{dx}=x^2-y^2,R:|x+1|\\leq{1},|y|\\leq{1}\\\\\n",
    "y(-1)=0\n",
    "\\end{cases}$$的解的存在区间，求第二次近似解，给出在解的存在区间的误差估计。"
   ]
  },
  {
   "cell_type": "markdown",
   "metadata": {},
   "source": [
    "$M=max|f(x,y)|=max|x^2-y^2|=4,h=min(a,\\frac{b}{M})=\\frac{1}{4}$\n",
    "\n",
    "所以解的存在区间为:$|x+1|\\leq1$\n",
    "\n",
    "因为$|\\frac{df}{dy}|=|-2y|\\leq2$,可取L=2\n",
    "\n",
    "令$\\phi_0(x)=0$\n",
    "\n",
    "$\\phi_1(x)=y_0+\\int^x_{x_0}{x^2-{\\phi_0(\\alpha)}^2}\\,dx=\\frac{1}{3}x^3+\\frac{1}{3}$\n",
    "\n",
    "$\\phi_2(x)=y_1+\\int^x_{x_0}{x^2-{\\frac{1}{3}x^3+\\frac{1}{3})}^2}\\,dx=\\frac{1}{3}x^3-\\frac{x}{9}-\\frac{x^4}{18}-\\frac{x^7}{63}+\\frac{11}{42}$\n",
    "\n",
    "所以误差估计为：$|\\phi_2(x)-\\phi(x)|\\leq\\frac{ML^2}{（2+1)!}h^{2+1}=\\frac{1}{24}$"
   ]
  },
  {
   "cell_type": "markdown",
   "metadata": {},
   "source": [
    "# 6.证明格朗沃尔不等式：设K为非负常数，f(t)和g(t)为在区间$\\alpha\\leq t \\leq\\beta$上的连续非负函数，且满足不等式$$f(t)\\leq K+\\int^t_{\\alpha}{f(s)g(s)}\\,ds,\\alpha\\leq t \\leq\\beta$$则有$$f(t)\\leq Kexp(\\int^t_{\\alpha}{g(s)}\\,ds ),\\alpha\\leq t \\leq\\beta$$并由此证明定理1的命题5"
   ]
  },
  {
   "cell_type": "markdown",
   "metadata": {},
   "source": [
    "**证明：**\n",
    "\n",
    "1)当$K>0$ 时，令$\\phi(t)=K+\\int_\\alpha^tf(s)g(s)\\,ds$\n",
    "\n",
    "则$\\phi^\\prime(t)=f(t)g(t)\\leq \\phi(t)g(t)$\n",
    "\n",
    "由 $\\phi(t)>0$ 可得$\\frac{\\phi^\\prime(t)}{\\phi(t)}\\leq g(t)$\n",
    "\n",
    "两边从$\\alpha$到t积分得$ln\\phi(t)-ln\\phi(\\alpha)\\leq\\int_\\alpha^t g(s)\\,ds$\n",
    "\n",
    "即$\\frac{\\phi(t)}{\\phi(\\alpha)}\\leq exp(\\int_\\alpha^t g(s)\\,ds)$\n",
    "\n",
    "$\\phi(\\alpha)=K>0$\n",
    "\n",
    "所以$\\phi(t)\\leq K\\bullet exp(\\int_\\alpha^t g(s)\\,ds)$\n",
    "\n",
    "即有$f(t)\\leq\\phi(t)\\leq K\\bullet exp(\\int_\\alpha^t g(s) \\,ds)$,$\\alpha\\leq t\\leq\\beta$\n",
    "\n",
    "2)当$K=0$时，\n",
    "\n",
    "对任意 $\\epsilon>0$,由于 $f(t)\\leq\\int_\\alpha^tf(s)g(s)\\, ds$,\n",
    "\n",
    "所以$f(t)\\leq\\epsilon+\\int_\\alpha^tf(s)g(s)\\,ds$\n",
    "\n",
    "由 1) 有$f(t)\\leq\\epsilon exp(\\int_\\alpha^t g(s)\\,ds)$ \n",
    "\n",
    "当 $\\epsilon\\to0^+$ 时，有 $f(t)\\leq 0$\n",
    "\n",
    "又因为 $f(t)\\geq 0$ 所以$f(t)\\equiv 0$\n",
    "\n",
    "从而$f(t)\\leq exp(\\int_\\alpha^t g(s)\\,ds)\\alpha\\leq x\\leq\\beta$\n",
    "\n",
    "综上所述，格朗沃尔不等式成立。\n",
    "\n",
    "格朗沃尔不等式（2）：设 $y(t),g(t),h(t)$ 定义于区间 $[\\alpha,\\beta]$ 上的非负可积函数且满足不等式$$\\frac{\\mathrm dy(t)}{\\mathrm dt}\\leq g(t)y(t)\\mathrm ds+h(t)$$\n",
    "\n",
    "下面利用上述不等式证明定理5:\n",
    "\n",
    "证明：设$\\omega(x)、\\Phi(x)$是初值问题$y^\\prime=f(x,y),y(x_0)=y_0$的两个解，则\n",
    "$\\omega(x)=y_0+\\int_{x_0}^xf(\\xi,\\omega(\\xi))\\,d\\xi$\n",
    "\n",
    "$\\Phi(x)=y_0+\\int_{x_0}^xf(\\xi,\\Phi(\\xi))\\,d\\xi$\n",
    "\n",
    "则$|\\omega(x)-\\Phi(x)|\\leq\\int_{x_0}^x|f(\\xi,\\omega(\\xi))-f(\\xi,\\Phi(\\xi)|)\\,d\\xi\\leq L\\int_{x_0}^x|\\omega(\\xi)-\\Phi(\\xi)|\\,d\\xi$\n",
    "\n",
    "其中L为利普西茨常数，由格朗沃尔不等式(2)得$|\\omega(x)-\\Phi(x)| \\leq\\int_{x_0}^\\alpha|\\omega(\\xi)-\\Phi(\\xi)|\\,d\\xi \\bullet e^{\\int_\\alpha^x L\\,ds}\\leq0(\\alpha\\leq x_0)$\n",
    "\n",
    "又$\\omega(x)-\\Phi(x)|\\leq 0$\n",
    "\n",
    "所以$\\omega(x)=\\Phi(x)$\n",
    "\n",
    "即命题5成立。\n"
   ]
  },
  {
   "cell_type": "markdown",
   "metadata": {},
   "source": [
    "# 8.如果函数$f(x_0,y_0)$于$(x_o,y_0)$的领域内饰y的不增函数，试证方程(3.1)满足条件.$y(x_0)=y_0$的解于$x\\geq x_0$一侧最多只有一个"
   ]
  },
  {
   "cell_type": "markdown",
   "metadata": {},
   "source": [
    "证明：\n",
    "\n",
    "由命题一可知，方程$\\frac{\\mathrm d y}{\\mathrm d x}=f(x,y)$满足条件$y(x_0)=y_0$ 的解等价于积分方程$y=y_0+\\int_{x_0}^x f(x,y)\\mathrm d x ,x\\in[\\alpha,\\beta]$ 的连续解，因此只需证明上述积分方程的解存在唯一即可。\n",
    "\n",
    "1)存在性\n",
    "\n",
    "为了简单起见，只就区间$x_0\\leq x\\leq\\beta$ 进行讨论，对于$\\alpha\\leq x\\leq x_0$ 的讨论完全一样。\n",
    "\n",
    "现取 $y_0(x)=y_0$ ，构造皮卡逼近数列如下：\n",
    "$$\n",
    "\\begin{cases}\n",
    "y_0(x)=y_0 \\\\\n",
    "y_n(x)=y_0+\\int_{x_0}^x f(\\xi,y_{n-1}(x))\\mathrm dx  ,  x\\in[\\alpha,\\beta] \\\\  \\quad  \\quad  \\quad (n=1,2,…) \n",
    "\\end{cases}     \\quad [1]       \n",
    "$$\n",
    "\n",
    "易知$y_n(x)$在$x\\in[\\alpha,\\beta]$ 上有定义且连续。下面证明函数序列{${y_n(x)}$} 在$x\\in[\\alpha,\\beta]$ 上一致收敛。\n",
    "考虑级数$$y_0(x)+\\sum_{k=1}^{+\\infty}[y_k(x)-y_{k-1}(x)] , x\\in[\\alpha,\\beta]  \\quad  [2]$$\n",
    "\n",
    "取$$M=\\max_{x\\in[\\alpha,\\beta]}\\mid f(x,y_0)\\mid$$ ,\n",
    "$$\\mid y_1(x)-y_0(x)\\mid\\leq \\int_{x_0}^x \\mid f(\\xi,y_0(\\xi))\\mid \\mathrm d\\xi \\leq M\\mid x-x_0 \\mid \\quad [3]$$\n",
    "$$\\mid y_2(x)-y_1(x)\\mid\\leq \\int_{x_0}^x \\mid f(\\xi,y_1(\\xi))-f(\\xi,y_0(\\xi))\\mid \\mathrm d\\xi  $$\n",
    "\n",
    "利用利普希茨条件及[3],得到 $$\\mid y_2(x)-y_1(x)\\mid\\leq \\int_{x_0}^x \\mid f(\\xi,y_1(\\xi))-f(\\xi,y_0(\\xi))\\mid \\mathrm d\\xi \\leq L\\int_{x_0}^x \\mid y_1(\\xi)-y_0(\\xi)\\mid \\mathrm d\\xi\\leq L\\int_{x_0}^x M(\\xi-x_0) \\mathrm d\\xi=\\frac{ML}{2!}(x-x_0)^2$$\n",
    "\n",
    "可用数学归纳法证明：$$\\mid y_k(x)-y_{k-1}(x)\\mid\\leq \\frac{ML^{k-1}}{k!}(x-x_0)^k\\leq\\frac{ML^{k-1}}{k!}(\\beta-\\alpha)^k$$\n",
    "\n",
    "上式的右端是正项级数的一般项，由weierstrass判别法，级数在$x_0\\leq x\\leq\\beta$ 上面一致收敛，因而函数序列{${y_n(x)}$} 也在 $x_0\\leq x\\leq\\beta$上一致收敛。\n",
    "\n",
    "现设$$\\lim_{n\\to\\infty}y_n(x)=y(x) $$\n",
    "\n",
    "易知y(x)在区间$x\\in[\\alpha,\\beta]$ 上连续，且{$f(x,y_n(x))$}在区间$x\\in[\\alpha,\\beta]$ 也一致收敛于 $f(x,y(x))$ .\n",
    "\n",
    "因而对[1]式两端取极限，即得$$y(x)=y_0+\\int_{x_0}^x f(\\xi,y(\\xi))\\mathrm d\\xi$$\n",
    "\n",
    "即 $y(x)$是积分方程的定义于$x\\in[\\alpha,\\beta]$ 上的连续解。\n",
    "\n",
    "$2)\\quad$唯一性。\n",
    "\n",
    "设$\\phi(x)$ 是积分方程的定义于$x_0\\leq x\\leq\\beta$  上的另一个连续解，则$$\\phi(x)=y_0+\\int_{x_0}^xf\\big((\\xi,\\phi(\\xi)\\big)\\mathrm d\\xi$$\n",
    "\n",
    "$\\because$ $$y(x)=y_0+\\int_{x_0}^x f\\big(\\xi,y(\\xi)\\big)\\mathrm d\\xi $$\n",
    "\n",
    "$\\therefore$ \n",
    "\n",
    "$$\\mid\\phi(x)-y(x)\\mid=\\quad \\int_{x_0}^x f\\big(\\xi,\\phi(\\xi))-f(\\xi,y(\\xi)\\big)\\mathrm d\\xi$$\n",
    "\n",
    "$$\\quad\\quad\\quad\\quad\\quad\\quad\\quad\\leq\\quad \\int_{x_0}^x \\mid f\\big(\\xi,\\phi(\\xi)\\big)-f\\big(\\xi,y(\\xi)\\big)\\mid\\mathrm d\\xi$$\n",
    "\n",
    "$$\\quad\\quad\\quad\\leq\\quad L\\int_{x_0}^x \\mid\\phi(\\xi)-y(\\xi)\\mid\\mathrm d\\xi$$\n",
    "\n",
    "$$\\quad\\quad\\quad\\quad\\quad\\quad\\leq\\quad \\int_{x_0}^{\\alpha}\\mid\\phi(\\xi)-y(\\xi)\\mid\\mathrm d\\xi\\bullet e^{\\int_{\\alpha}^x L\\mathrm ds}$$\n",
    "\n",
    "$$\\leq\\quad 0\\quad(\\because x_0\\geq\\alpha)$$\n",
    "\n",
    "又$\\because$ $$\\mid\\phi(x)-y(x)\\mid\\geq 0$$\n",
    "\n",
    "$\\therefore$ $$\\mid\\phi(x)-y(x)\\mid=0$$\n",
    "\n",
    "唯一性得证。\n"
   ]
  },
  {
   "cell_type": "markdown",
   "metadata": {},
   "source": [
    "# 10.给定积分方程$$\\phi(x)=f(x)+\\lambda\\int^b_a K(x,\\xi)\\phi(\\xi)\\,d\\xi，\\quad\\quad\\quad(*)$$其中f(x)是[a,b]上的已知连续函数，$K（x,\\xi)$是$a\\leq x\\leq b,a\\leq\\xi\\leq b$上的已知连续函数。证明当$|\\lambda|$足够小时($\\lambda$是常数），（$*$)在[a,b]上存在唯一的连续解。"
   ]
  },
  {
   "cell_type": "markdown",
   "metadata": {},
   "source": [
    "提示：作逐步逼近函数序列\n",
    "\n",
    "$$\\phi_0(x)=f(x),$$\n",
    "$$\\phi_{n+1}(x)=f(x)+\\lambda\\int_a^b{K(x,\\xi)\\varphi_n(\\xi)}\\mathrm d\\xi$$"
   ]
  },
  {
   "cell_type": "markdown",
   "metadata": {},
   "source": [
    "令$\\quad M=\\displaystyle\\max_{x\\in[a,b]}\\mid f(x)\\mid,\n",
    "\\quad L=\\displaystyle\\max_{\\substack{\n",
    "x\\in[a,b]\\\\ \n",
    "\\xi\\in[a,b]}}\n",
    "\\mid K(x,\\xi)\\mid$\n",
    "\n",
    "则$$\n",
    "\\begin{aligned}\n",
    "\\mid\\quad \\varphi_1 (x)-\\varphi_0 (x)\\mid\n",
    "&\\leq\\quad \\mid\\int_a^b\\lambda K(x,\\xi)\\varphi_0 (\\xi)\\,\\mathrm d\\xi\\mid \\\\\n",
    "&\\leq\\quad \\mid \\lambda \\mid \\int_a^b\\mid K(x,\\xi)\\varphi_0 (\\xi)\\,\\mathrm d\\xi\\\\\n",
    "&\\leq\\quad \\mid \\lambda\\mid ML(b-a)\n",
    "\\end{aligned}\n",
    "$$\n",
    "\n",
    "假设$\\quad\\mid\\varphi_n (x)-\\varphi_{n-1} (x)\\mid \\leq\\mid \\lambda ^n\\mid L^n M(b-a)\\quad$成立\n",
    "\n",
    "则有\n",
    "$$\n",
    "\\begin{aligned}\n",
    "\\mid\\varphi_{n+1} (x)-\\varphi_n (x)\\mid\n",
    "&=\\quad \\mid\\int_a^b\\lambda K(x,\\xi)\\big(\\varphi_n (\\xi)-\\varphi_{n-1} (\\xi)\\big)\\,\\mathrm d\\xi\\mid \\\\ \n",
    "&\\leq\\quad  \\mid \\lambda \\mid \\int_a^b\\mid K(x,\\xi)\\mid\\mid\\varphi_n (\\xi)-\\varphi_{n-1} (\\xi)\\big)\\,\\mathrm d\\xi\\\\ \n",
    "&\\leq\\quad  \\mid \\lambda \\mid \\int_a^b\\mid\\lambda^n\\mid L^nM(b-a)^n\\mathrm d\\xi\\\\\n",
    "&=\\quad     \\mid\\lambda^{n+1}n\\mid L^{n+1}M(b-a)^{n+1}\n",
    "\\end{aligned}\n",
    "$$\n",
    "\n",
    "由归纳假设可知，对任意 $ n\\in N^+$ \n",
    "\n",
    "有$$\\mid\\varphi_{n+1} (x)-\\varphi_n (x)\\mid\\leq\\mid\\lambda^{n+1}n\\mid L^{n+1}M(b-a)^{n+1}$$\n",
    "\n",
    "证下列序列 $\\{\\varphi_n(x)\\}$ 在 $[a,b]$ 上一致收敛\n",
    "\n",
    "考虑级数 $$\\quad\\varphi_0(x)+\\displaystyle\\sum_{k=1}^\\infty \\big(\\varphi_k(x)-\\varphi_{k-1}(x)\\big)$$\n",
    "\n",
    "则$$\\varphi_n(x)=\\varphi_0(x)+\\displaystyle\\sum_{k=1}^n \\big(\\varphi_k(x)-\\varphi_{k-1}(x)\\big)$$\n",
    "\n",
    "所以要证序列 $\\{\\varphi_n(x)\\}$ 在 $[a,b]$ 上一致收敛，只需证级数 $(2)$ 在 $[a,b]$ 上一致收敛。\n",
    "\n",
    "$\\because$ $$\\mid\\varphi_{n+1} (x)-\\varphi_n (x)\\mid\\leq\\mid\\lambda^{n+1}n\\mid L^{n+1}M(b-a)^{n+1}$$\n",
    "\n",
    "$\\therefore$ \n",
    "\n",
    "当 $\\lambda<\\frac{1}{(b-a)L}$ 时，级数 $\\displaystyle\\sum_{k=1}^\\infty=\\mid\\lambda^{n+1}n\\mid L^{n+1}M(b-a)^{n+1}$ 收敛\n",
    "\n",
    "当 $\\lambda>\\frac{1}{(b-a)L}$ 时，级数 $\\displaystyle\\sum_{k=1}^\\infty=\\mid\\lambda^{n+1}n\\mid L^{n+1}M(b-a)^{n+1}$ 收敛\n",
    "\n",
    "\n",
    "设极限为 $\\varphi(x)$, 即 $任意的x\\in[a,b],n\\to\\infty$ 时, $\\varphi_n(x) 一致收敛于 \\varphi(x) $\n",
    "\n",
    "由 $\\varphi_n(x) 的连续性可知 \\varphi(x) 在 [a,b] 连续  $    \n",
    "\n",
    "由 $(1)$ 式得，当 $\\quad n\\to\\infty\\quad $ 时，有    \n",
    "$$\\varphi(x)=f(x)+\\lambda\\int_a^bK(x,\\xi)\\varphi(x)\\mathrm d\\xi\\quad \\big(\\mid\\lambda\\mid<\\frac{1}{(b-a)L}\\big)$$\n",
    "\n",
    "这证明了当 $\\quad\\mid\\lambda\\mid < \\frac{1}{(b-a)L}\\quad$ 时，积分方程存在连续解。\n"
   ]
  },
  {
   "cell_type": "markdown",
   "metadata": {},
   "source": [
    "$2)\\quad$唯一性\n",
    "\n",
    " 设有另一解$\\quad\\phi(x)\\quad$ 且 $\\quad\\phi(x)\\neq\\phi(x)$\n",
    "     \n",
    "即 $$\\phi(x)=f(x)+\\lambda\\int_a^bK(x,\\xi)\\phi(x)\\mathrm d\\xi$$\n",
    "\n",
    " 记$\\quad A=\\max_{x\\in[a,b]}\\mid\\varphi(x)-\\phi(x)\\mid>0\\quad$ 则\n",
    " $$\n",
    " \\begin{aligned}\n",
    " \\mid\\varphi(x)-\\phi(x)\\mid \n",
    " &=\\quad \\mid\\lambda\\int_a^b K(x,\\xi) \\varphi(\\xi)-\\phi(\\xi)\\mathrm d\\xi\\mid\\\\\n",
    " &\\leq\\quad \\mid\\lambda\\mid\\int_a^b L\\mid\\varphi(\\xi)-\\phi(\\xi)\\mid\\mathrm d\\xi\\\\\n",
    " &\\leq\\quad \\mid\\lambda\\mid A(b-a)\n",
    " \\end{aligned}\n",
    " $$\n",
    " \n",
    " 即 $\\quad A\\leq\\mid\\lambda\\mid AL(b-a)$\n",
    "   \n",
    " $又\\because\\quad A=\\max_{x\\in[a,b]}\\mid\\varphi(x)-\\phi(x)\\mid>0\\quad\\therefore\\quad\\lambda\\geq\\frac{1}{(b-a)L} 与  \\lambda<\\frac{1}{(b-a)L}\\quad矛盾$ \n",
    " \n",
    "  故唯一性得证 \n",
    "  \n",
    "  因此当 $|\\lambda|$ 足够小时（$\\lambda$ 是常数），（$*$）在 $[\\alpha,\\beta]$ 上存在唯一的连续解。\n"
   ]
  },
  {
   "cell_type": "markdown",
   "metadata": {
    "collapsed": true
   },
   "source": [
    "$B$"
   ]
  },
  {
   "cell_type": "code",
   "execution_count": null,
   "metadata": {
    "collapsed": true
   },
   "outputs": [],
   "source": []
  }
 ],
 "metadata": {
  "kernelspec": {
   "display_name": "SageMath 7.3",
   "language": "",
   "name": "sagemath"
  },
  "language_info": {
   "codemirror_mode": {
    "name": "ipython",
    "version": 2
   },
   "file_extension": ".py",
   "mimetype": "text/x-python",
   "name": "python",
   "nbconvert_exporter": "python",
   "pygments_lexer": "ipython2",
   "version": "2.7.10"
  }
 },
 "nbformat": 4,
 "nbformat_minor": 0
}
