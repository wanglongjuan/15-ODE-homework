{
 "cells": [
  {
   "cell_type": "markdown",
   "metadata": {},
   "source": [
    "### 3、"
   ]
  },
  {
   "cell_type": "markdown",
   "metadata": {},
   "source": [
    "解：\n",
    "$$M=maxf(x,y)=4,(x,y)\\in R$$\n",
    "$$\\frac{b}{M}=\\frac{1}{4}$$\n",
    "$$h=min(\\frac{1}{4},1)=\\frac{1}{4}$$\n",
    "解的存在区间为$$|x-(-1)|\\leq h$$\n",
    "即$$- \\frac{5}{4}\\leq x\\leq  -\\frac{3}{4}$$\n",
    "$$|\\frac{\\partial f}{\\partial y}|=|2y|\\leq 2$$\n",
    "$故L可取2$\n",
    "$$\\varphi_0(x)=0$$\n",
    "$$\\varphi_1(x)=\\int_{-1}^x (\\xi^2-0)d\\xi=\\frac{1}{3}x^3-\\frac{1}{3}$$\n",
    "$$\\varphi_2(x)=\\int_{-1}^x [\\xi^2-(\\frac{1}{3}\\xi^3+\\frac{1}{3})^2]d \\xi$$\n",
    "$$=-\\frac{1}{9} x+\\frac{1}{3} x^3-\\frac{1}{18}x^4-\\frac{1}{63} x^7+\\frac{11}{42}$$\n",
    "$$|\\varphi_2(x)-\\varphi(x)|\\leq \\frac{ML^2}{3!}h^3=\\frac{1}{24}$$\n"
   ]
  },
  {
   "cell_type": "markdown",
   "metadata": {},
   "source": [
    "### 6、"
   ]
  },
  {
   "cell_type": "markdown",
   "metadata": {},
   "source": [
    "第一问：\n",
    "$$令u(x)=K+\\int_\\alpha^t f(s)g(s)ds$$\n",
    "$$u'(t)=f(t)g(t)\\leq u(t)g(t)$$\n",
    "$$\\frac{u'(t)}{u(t)}\\leq  g(t)$$\n",
    "$$\\int_\\alpha^t \\frac{u'(t)}{u(t)}\\leq \\int_\\alpha^t g(t)dt$$\n",
    "$$ln u(t)-ln u(\\alpha)\\leq \\int_\\alpha^t g(t)dt$$\n",
    "$$ln u(t)-ln K\\leq \\int_\\alpha^t g(t)dt$$\n",
    "$$ln u(t) \\leq ln K+ \\int_\\alpha^t g(t)dt$$\n",
    "$$u(t)\\leq K e^{\\int_\\alpha^t g(t)dt}$$\n",
    "$$f(t)\\leq exp^{\\int_\\alpha^t g(t)dt}$$\n",
    "\n",
    "第二问：\n",
    "$$还不会$$\n"
   ]
  },
  {
   "cell_type": "markdown",
   "metadata": {},
   "source": [
    "### 8、"
   ]
  },
  {
   "cell_type": "markdown",
   "metadata": {},
   "source": [
    "$证明：设M=max|f(x,y_0)|,x \\in[\\alpha\\,\\beta]$\n",
    "\n",
    "\n",
    "$1、与命题一的证明方法相同，只是将定义于区间x_0 \\leq  x \\leq h+x_0更改为x \\in[\\alpha\\,\\beta]$\n",
    "\n",
    "$2、因为在带域\\alpha\\ \\leq x \\leq \\beta 上都关于y满足利普希茨条件，故无需课本上命题2的证明$\n",
    "\n",
    "$3、|\\varphi_1(x)-\\varphi_0(x)|\\leq\\int_x^{x_0} |f(\\xi,\\varphi_0(\\xi)|dx$\n",
    "\n",
    "\n",
    "$$=\\int_x^{x_0} |f(\\xi,y_0|dx$$\n",
    "\n",
    "\n",
    "$$ \\leq M(x-x_0) $$\n",
    "\n",
    "$剩余的步骤与命题3 的证明过程相同$\n",
    "\n",
    "$4、剩余证明过程与命题4、5相同只是将区间更改为x \\in[\\alpha\\,\\beta]$\n"
   ]
  },
  {
   "cell_type": "markdown",
   "metadata": {},
   "source": [
    "###  10、"
   ]
  },
  {
   "cell_type": "markdown",
   "metadata": {},
   "source": [
    "证明:\n",
    "考虑级数$$\\varphi_0(x)+\\sum_{n=1}^{\\infty} [\\varphi_k(x)-\\varphi_{k-1}(x)]$$\n",
    "\n",
    "\n",
    "$它的部分和为C$\n",
    "\n",
    "$作逐步逼近数列\\varphi_0=f(x)$\n",
    "\n",
    "$\\varphi_{n+1}=f(x)+\\lambda \\int_a^b K(x,\\xi)\\varphi_n (\\xi)d\\xi$ \n",
    "\n",
    "$(n=0,1,2,...)$\n",
    "\n",
    "$下证：\\varphi_n (x)收敛$\n",
    "\n",
    "$|\\varphi_1 (x)-\\varphi_0 (x)|=|\\lambda \\int_a^b K(x,\\xi)\\varphi_n (\\xi)d\\xi|$\n",
    "\n",
    "$当\\lambda足够小时$\n",
    "\n",
    "$|\\varphi_1 (x)-\\varphi_0 (x)|\\leq\\frac{1}{2}$成立\n",
    "\n",
    "$|\\lambda \\int_a^b K(x,\\xi)d\\xi|\\leq\\frac{1}{2}$成立\n",
    "\n",
    "$则|\\varphi_2 (x)-\\varphi_1 (x)|\\leq|\\lambda|\\int_a^b |K(x,\\xi)d\\xi|$\n",
    "\n",
    "$\\leq \\frac{1}{2}|\\lambda|\\int_a^b |K(x,\\xi)d\\xi|$\n",
    "\n",
    "$\\leq \\frac{1}{4}$\n",
    "\n",
    "故\n",
    "\n",
    "$|\\varphi_{n+1} (x)-|\\leq\\frac{1}{2^{n+1}}$\n",
    "\n",
    "$\\sum_{n=1}^{\\infty} \\frac{1}{2^{n+1}}是正项收敛级数的一般项由weierstrass判别法级数一致收敛，因而序列{\\varphi_n (x)}一致收敛$\n",
    "\n",
    "$不妨设{\\varphi_n (x)}收敛于{\\varphi (x)}$\n",
    "\n",
    "$则{\\varphi_n (x)}=f(x)+\\lambda\\int_a^bK(x,\\xi)\\varphi(\\xi)d\\xi$\n",
    "\n",
    "积分方程的解存在。\n",
    "\n",
    "唯一性：\n",
    "\n",
    "$|\\varphi_0 (x)-\\psi (x)|=|\\lambda|\\int_a^bK(x,\\xi)\\varphi(\\xi)d\\xi\\leq\\frac{1}{2}$\n",
    "\n",
    "$|\\varphi_1 (x)-\\psi (x)|\\leq\\frac{1}{4}$\n",
    "\n",
    "$|\\varphi_n (x)-\\psi (x)|\\leq\\frac{1}{2^{n+1}}$\n",
    "\n",
    "$当n\\to \\infty,\\frac{1}{2^{n+1}} \\to 0$\n",
    "\n",
    "所以\n",
    "\n",
    "$$\n",
    "\\lim_{x \\to \\infty} \\varphi_n (x)=\\psi (x)\n",
    "$$\n",
    "\n",
    "所以解唯一\n",
    "\n",
    "综合上述，积分方程存在唯一的连续解 \n",
    "\n",
    "\n",
    "\n",
    "\n",
    "\n"
   ]
  },
  {
   "cell_type": "markdown",
   "metadata": {
    "collapsed": true
   },
   "source": [
    "$B$"
   ]
  },
  {
   "cell_type": "code",
   "execution_count": null,
   "metadata": {
    "collapsed": true
   },
   "outputs": [],
   "source": []
  }
 ],
 "metadata": {
  "kernelspec": {
   "display_name": "SageMath 7.3",
   "language": "",
   "name": "sagemath"
  },
  "language_info": {
   "codemirror_mode": {
    "name": "ipython",
    "version": 2
   },
   "file_extension": ".py",
   "mimetype": "text/x-python",
   "name": "python",
   "nbconvert_exporter": "python",
   "pygments_lexer": "ipython2",
   "version": "2.7.10"
  }
 },
 "nbformat": 4,
 "nbformat_minor": 0
}
