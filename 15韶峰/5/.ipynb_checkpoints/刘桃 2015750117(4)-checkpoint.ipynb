{
 "cells": [
  {
   "cell_type": "markdown",
   "metadata": {},
   "source": [
    "# 常微分第四次作业\n",
    "# 姓名：刘桃\n",
    "# 学号：2015750117"
   ]
  },
  {
   "cell_type": "markdown",
   "metadata": {},
   "source": [
    "# 3、求初值问题\n",
    "$$\n",
    "\\begin{cases}\n",
    "\\frac{dy}{dx}=x^2-y^2,R:|x+1|≤1.|y|≤1\\\\\n",
    "y(-1)=0\\\\\n",
    "\\end{cases}\n",
    "$$\n",
    "# 的解的存在区间，并求第二次近似解，给出在解的存在区间的误差估计。"
   ]
  },
  {
   "cell_type": "markdown",
   "metadata": {},
   "source": [
    "*解*\n",
    "因为$|x+1|≤1.|y|≤1$\n",
    "\n",
    "所以$-2≤x≤0,-1≤y≤1$\n",
    "\n",
    "$M=max|f(x,y)|=4,a=1,\\frac{b}{M}=\\frac{1}{4}$\n",
    "\n",
    "所以$h=\\frac{1}{4},利普希茨常数可取为 L=2,因为$\n",
    "\n",
    "$$\n",
    "|\\frac{\\partial f}{\\partial y}|=|2y|≤2=L\n",
    "$$\n",
    "又因为$\\varphi_0(x)=0$\n",
    "\n",
    "所以\n",
    "$$\n",
    "\\varphi_1(x）=0+\\int_{-1}^x f(x,0) dx\n",
    "$$\n",
    "即\n",
    "$$\n",
    "\\varphi_1(x）=0+\\int_{-1}^x x^2 dx\n",
    "$$\n",
    "所以\n",
    "$$\n",
    "\\varphi_1(x）=\\frac{1}{3}x^3+\\frac{1}{3}\n",
    "$$\n",
    "同理可得\n",
    "$$\n",
    "\\varphi_2(x）=\\frac{x^3}{3}-\\frac{x}{9}-\\frac{x^4}{18}-\\frac{x^7}{63}+\\frac{11}{42}\n",
    "$$\n",
    "根据\n",
    "$$\n",
    "|\\varphi_n(x）-\\varphi(x）|=\\frac{4*2^2}{3!}(\\frac{1}{4})^3=\\frac{1}{24}\n",
    "$$\n",
    "所以$解的存在区间为-\\frac{5}{4}≤x≤-\\frac{1}{4},第二次近似解为\\varphi_2(x）=\\frac{x^3}{3}-\\frac{x}{9}-\\frac{x^4}{18}-\\frac{x^7}{63}+\\frac{11}{42}，误差为|\\varphi_2(x）-\\varphi(x）|≤\\frac{1}{24}$"
   ]
  },
  {
   "cell_type": "markdown",
   "metadata": {},
   "source": [
    "# 6、证明格朗沃尔(Gronwall)不等式：\n",
    "# 设K为非负常数，f(t)和g(t)为在区间$\\alpha≤t≤\\beta$上的连续非负函数，且满足不等式\n",
    "$$\n",
    "f(t)≤K+\\int_\\alpha^t f(s)g(s) ds,\\alpha≤t≤\\beta\n",
    "$$\n",
    "# 则有\n",
    "$$\n",
    "f(t)≤Kexp(\\int_\\alpha^t g(s) ds),\\alpha≤t≤\\beta\n",
    "$$\n",
    "# 并由此证明定理一的命题5"
   ]
  },
  {
   "cell_type": "markdown",
   "metadata": {},
   "source": [
    "## 证明：\n",
    "\n",
    "1.)\n",
    "\n",
    "$当K>0,令$\n",
    "\n",
    "$\\omega(t)=K+\\int_\\alpha^t f(s)g(s) \\mathrm ds$\n",
    "\n",
    "$则\\omega'(t)=f(t)g(t)\\leq g(t)\\omega(t)$\n",
    "\n",
    "$由\\omega(t)>0得，\\frac{\\omega'(t)}{\\omega(t)}\\leq g(t)$\n",
    "\n",
    "$两边从\\alpha到t积分得$\n",
    "\n",
    "$ln\\omega(t)-ln\\omega(\\alpha)\\leq \\int_\\alpha^t g(s)\\mathrm ds$\n",
    "\n",
    "$有\\frac{\\omega(t)}{\\omega(\\alpha)}\\leq exp(\\int_\\alpha^t g(s) \\mathrm ds)$\n",
    "\n",
    "$\\omega(\\alpha)=K>0$\n",
    "\n",
    "$则\\omega(\\alpha)\\leq K exp(\\int_\\alpha^t g(s) \\mathrm ds)$\n",
    "\n",
    "$即f(t)\\leq \\omega(t)\\leq K exp(\\int_\\alpha^t g(s) \\mathrm ds),\\alpha\\leq t\\leq \\beta$\n",
    "\n",
    "2.)\n",
    "\n",
    "$当K=0,$\n",
    "\n",
    "$对任意\\varepsilon>0,由于f(t)\\leq \\int_\\alpha^t f(s)g(s) \\mathrm ds$\n",
    "\n",
    "$所以f(t)\\leq \\varepsilon+\\int_\\alpha^t f(s)g(s) \\mathrm ds$\n",
    "\n",
    "$由1.)得，f(t)\\leq \\varepsilon exp(\\int_\\alpha^t g(s) \\mathrm ds)$\n",
    "\n",
    "$ 当\\varepsilon \\to 0~+时$\n",
    "\n",
    "$f(t)\\leq 0$\n",
    "\n",
    "$又因为f(t)\\geq 0$\n",
    "\n",
    "$即得f(t)\\equiv0$\n",
    "\n",
    "$从而f(t)\\leq K exp(\\int_\\alpha^t g(s) \\mathrm ds),\\alpha\\leq t\\leq \\beta$\n",
    "\n",
    "综上，即证得格朗沃尔不等式。\n",
    "\n",
    "$设\\varphi(t),\\psi(t)$是初值问题$x'=f(t,x),x(t_0)=x_0的两个解，则有$\n",
    "\n",
    "$\\varphi(t)=x_0+\\int_{t_0}^t f(\\xi,\\varphi(\\xi)) \\mathrm d\\xi $\n",
    "\n",
    "$\\psi(t)=x_0+\\int_{t_0}^t f(\\xi,\\psi(\\xi)) \\mathrm d\\xi $\n",
    "\n",
    "$则|\\varphi(t)-\\psi(t)|\\leq \\int_{t_0}^t |f(\\xi,\\varphi(\\xi))-f(\\xi,\\psi(\\xi))| \\mathrm d\\xi \\leq L\\int_{t_0}^t |\\varphi(\\xi)-\\psi(\\xi)| \\mathrm d\\xi $\n",
    "\n",
    "其中L为利普希茨条件，由朗格沃尔不等式知\n",
    "\n",
    "$0\\leq |\\varphi(t)-\\psi(t)|\\leq 0$\n",
    "\n",
    "$所以\\varphi(t)=\\psi(t)$\n",
    "\n",
    "即证得定理1的命题5.\n"
   ]
  },
  {
   "cell_type": "markdown",
   "metadata": {},
   "source": [
    "\n",
    "# 8.如果函数$f(x,y)$于带域$a≤x≤\\beta$上连续且关于$y$满足利普希茨条件，则方程$\\frac{\\mathrm d y}{\\mathrm d x}=f(x,y)$满足条件$y(x_0)=y_0$的解于整个区间$[\\alpha,\\beta]$上存在且唯一，试证明之。"
   ]
  },
  {
   "cell_type": "markdown",
   "metadata": {},
   "source": [
    "**证明：** 从教材中命题一可知，方程$\\frac{\\mathrm d y}{\\mathrm d x}=f(x,y)$满足条件$y(x_0)=y_0$ 的解等价于积分方程$y=y_0+\\int_{x_0}^x f(x,y)\\mathrm d x ,x\\in[\\alpha,\\beta]$ 的连续解，因此只需证明上述积分方程的解存在唯一即可。\n",
    "为了简单起见，只就区间$x_0\\leq x\\leq\\beta$ 进行讨论，对于$\\alpha\\leq x\\leq x_0$ 的讨论完全一样。\n",
    "\n",
    "**现取** $y_0(x)=y_0$ ，构造逼近数列如下：\n",
    "$$\n",
    "\\begin{cases}\n",
    "y_0(x)=y_0 \\\\\n",
    "y_n(x)=y_0+\\int_{x_0}^x f(\\xi,y_{n-1}(x))\\mathrm dx  ,  x\\in[\\alpha,\\beta] \\\\  \\quad  \\quad  \\quad (n=1,2,…) \n",
    "\\end{cases}     \\quad ①    \n",
    "$$\n",
    "\n",
    "易知$y_n(x)$在$x\\in[\\alpha,\\beta]$ 上有定义且连续。下面证明函数序列{${y_n(x)}$} 在$x\\in[\\alpha,\\beta]$ 上一致收敛。\n",
    "考虑级数$$y_0(x)+\\sum_{k=1}^{+\\infty}[y_k(x)-y_{k-1}(x)] , x\\in[\\alpha,\\beta]  \\quad  ②\n",
    "$$\n",
    "取$$M=\\max_{x\\in[\\alpha,\\beta]}\\mid f(x,y_0)\\mid$$ ,\n",
    "$$\\mid y_1(x)-y_0(x)\\mid\\leq \\int_{x_0}^x \\mid f(\\xi,y_0(\\xi))\\mid \\mathrm d\\xi \\leq M\\mid x-x_0 \\mid \\quad ③$$\n",
    "$$\\mid y_2(x)-y_1(x)\\mid\\leq \\int_{x_0}^x \\mid f(\\xi,y_1(\\xi))-f(\\xi,y_0(\\xi))\\mid \\mathrm d\\xi  $$\n",
    "利用利普希茨条件及③,得到 $$\\mid y_2(x)-y_1(x)\\mid\\leq \\int_{x_0}^x \\mid f(\\xi,y_1(\\xi))-f(\\xi,y_0(\\xi))\\mid \\mathrm d\\xi \\leq L\\int_{x_0}^x \\mid y_1(\\xi)-y_0(\\xi)\\mid \\mathrm d\\xi\\leq L\\int_{x_0}^x M(\\xi-x_0) \\mathrm d\\xi=\\frac{ML}{2!}(x-x_0)^2$$\n",
    "数学归纳法证明：$$\\mid y_k(x)-y_{k-1}(x)\\mid\\leq \\frac{ML^{k-1}}{k!}(x-x_0)^k\\leq\\frac{ML^{k-1}}{k!}(\\beta-\\alpha)^k$$\n",
    "上式的右端是正项级数的一般项，由魏氏判别法，级数在$x_0\\leq x\\leq\\beta$ 上面一致收敛，因而函数序列{${y_n(x)}$} 也在 $x_0\\leq x\\leq\\beta$上一致收敛。\n",
    "\n",
    "现设$$\\lim_{n\\to\\infty}y_n(x)=y(x) $$\n",
    "易知y(x)在区间$x\\in[\\alpha,\\beta]$ 上连续，且{$f(x,y_n(x))$}在区间$x\\in[\\alpha,\\beta]$ 也一致收敛于 $f(x,y(x))$ .因而对[1]式两端取极限，即得$$y(x)=y_0+\\int_{x_0}^x f(\\xi,y(\\xi))\\mathrm d\\xi$$\n",
    "也就是说，$y(x)$是积分方程的定义于$x\\in[\\alpha,\\beta]$ 上的连续解。\n",
    "\n",
    "唯一性。\n",
    "\n",
    "设$\\varphi(x)$ 是积分方程的定义于$x_0\\leq x\\leq\\beta$  上的另一个连续解，则证$y(x)=\\varphi(x)$ ($x_0\\leq x\\leq\\beta$)\n",
    "\n",
    "证明:\n",
    "$$\n",
    "\\varphi(x)=y_0+\\int_{x_0}^x f(\\xi,\\varphi(\\xi))\\mathrm d\\xi\n",
    "$$\n",
    "可以进行如下的估计：\n",
    "\n",
    "\\begin{aligned}\n",
    "\\mid\\varphi(x)-y(x)\\mid &\\leq\\int_{x_0}^x\\mid f\\big(\\xi,\\varphi(\\xi)\\big)-f\\big(\\xi,y(\\xi)\\big)\\mid\\mathrm d\\xi\\\\\n",
    "&\\leq L\\int_{x_0}^x\\mid\\varphi(\\xi)-y(\\xi)\\mid\\mathrm d\\xi\n",
    "\\end{aligned}\n",
    "\n",
    "\n",
    "其中 $L$ 为利普西茨条件，由格朗沃尔不等式得$$0\\leq\\mid\\varphi(x)-y(x)\\mid\\leq 0$$\n",
    "\n",
    "所以， $$\\varphi(x)=y(x)$$\n",
    "唯一性得证。\n"
   ]
  },
  {
   "cell_type": "markdown",
   "metadata": {},
   "source": [
    "# 10.给定积分方程\n",
    "\n",
    "$$\n",
    "\\varphi(x)=f(x)+\\lambda\\int^b_aK(x,\\xi)\\varphi(\\xi)\\,\\mathrm d\\xi,\\quad\\quad (*)\n",
    "$$\n",
    "\n",
    "# 其中 $f(x)$ 是 $[\\alpha,\\beta]$ 上的已知连续函数，$K(x,y)$ 是 $a\\leq x\\leq b ,a\\leq \\xi\\leq b$ 上的已知连续函数。证明：当 $|\\lambda|$ 足够小时（$\\lambda$ 是常数），（$*$）在 $[\\alpha,\\beta]$ 上存在唯一的连续解。\n"
   ]
  },
  {
   "cell_type": "markdown",
   "metadata": {
    "collapsed": true
   },
   "source": [
    "**证**\n",
    "构造逐步逼近函数序列\n",
    "$$\n",
    "\\begin{cases}\n",
    "\\phi_0(x)=f(x)\\\\\n",
    "\\phi_n(x)=f(x)+\\lambda\\int^b_aK(x,s)\\varphi_{n-1}(s)\\,\\mathrm d s,n=1,2…\n",
    "\\end{cases}\n",
    "$$\n",
    "显然，对所有正整数$n,\\phi_n(x）$在区间a≤x≤b上定义且连续。\n",
    "   下证函数序列${\\phi_k(x）}$在区间a≤x≤b上一致连续考虑函数级数$$\\phi_0(x）+\\displaystyle\\sum_{j=1}^{\\infty}[\\phi_j(x）-\\phi_{j-1}(x）],a≤x≤b  ①$$\n",
    "   其部分和为$$\\phi_0(x）+\\displaystyle\\sum_{j=1}^{k}[\\phi_j(x）-\\phi_{j-1}(x）]=\\phi_k(x）,a≤x≤b$$\n",
    "   因此，证明函数序列${\\phi_k(x）}在区间a≤x≤b上一致收敛化为证明级数①在区间a≤x≤b上一致收敛。因f(x)和K(x,ξ),在闭区间a≤x≤b及a≤x≤b,a≤ξ≤b$上连续，因此有$$|f(x)|≤L,|K(x,ξ)|≤\\tilde K,a≤x≤b,a≤ξ≤b.$$\n",
    "   取$M=|λ|\\tilde K(b-a).由（∗）有$\n",
    "   $$|\\varphi_1(x)−\\varphi_0(x)|=|\\phi_1(x)−f(x)|≤|λ|\\int^b_aK(x,s)\\varphi(s)\\mathrm ds≤|λ|\\tilde KL(b-a)=LM,$$\n",
    "   于是$$|\\varphi_2(x)−\\varphi_1(x)|≤|λ|\\int^b_aK(x,s)(\\varphi_1(s)-\\varphi_0(s))\\mathrm ds≤|λ|\\int^b_a\\tilde KLM,\\mathrm ds=LM^2.$$\n",
    "   现设成立$$|\\varphi_j(x)−\\varphi_{j-1}(x)|≤LM^j    ②$$\n",
    "   则由（∗），有$$|\\varphi_{j+1}(x)−\\varphi_j(x)|≤λ\\int^b_a|K(x,s)(\\varphi_1(s)-\\varphi_0(s))|,\\mathrm ds≤λ\\tilde K LM^j(b-a)=LM^{j+1}.$$\n",
    "   由数学归纳法知，对一切$j成立②。可取|λ|足够小使得M<\\frac{1}{2}从而级数\\displaystyle\\sum_{k=1}^{\\infty}LM^k收敛。由函数项级数一致收敛的魏氏判别法，级数①在a≤x≤b上一致收敛。因此函数序列{\\varphi_k(x)}也在a≤x≤b上一致收敛$\n",
    "   设$$\\lim_{n \\to \\infty}\\varphi_n(x)=\\varphi(x).$$\n",
    "   因$\\varphi(x)是\\varphi_k(x)的一致收敛极限函数，故\\varphi(x)也在区间a≤x≤b上连续。对逐步逼近函数序列，两边去极限，可得$\n",
    "   $$\\displaystyle\\lim_{n \\to \\infty}\\varphi_n(x)=f(x)+λ\\int_a^bK(x,s)\\displaystyle\\lim_{n \\to \\infty}\\varphi_{n-1}(x)\\mathrm ds,$$\n",
    "   \n",
    "   $$\\varphi(x)=f(x)+λ\\int_a^bK(x,s)\\varphi(s)\\mathrm ds,$$\n",
    "即$\\varphi(x)$是积分方程（$*$）在区间$[\\alpha,\\beta]$ 上的连续解"
   ]
  },
  {
   "cell_type": "markdown",
   "metadata": {},
   "source": [
    "设$\\psi(x)$是积分方程（$*$）在区间$[\\alpha,\\beta]$ 上的另一个连续解\n",
    "即 $$\\psi(x)=f(x)+λ\\int_a^bK(x,s)\\psi(s)\\mathrm ds,$$\n",
    "\n",
    "因$\\displaystyle\\max_{a≤x≤b}|\\phi(x)-\\psi(x)|$存在且$|\\lambda|\\tilde K (b-a)=M<\\frac{1}{2}$,有\n",
    "$$\n",
    "\\begin{aligned}\n",
    "\\displaystyle\\max_{a≤x≤b} |\\varphi(x)−\\psi(x)|&≤\\displaystyle\\max_{a≤x≤b} (|λ|\\int^b_a|K(x,s)||\\varphi(x)-\\psi(x))\\mathrm ds)\\\\&≤\\displaystyle\\max_{a≤x≤b} (|λ|\\int^b_a \\tilde K |\\varphi(x)-\\psi(x))\\mathrm ds|\\\\&=|\\lambda|\\tilde K (b-a)\\displaystyle\\max_{a≤x≤b}|\\varphi(x)−\\psi(x)|\\\\&<\\frac{1}{2}\\displaystyle\\max_{a≤x≤b}|\\varphi(x)−\\psi(x)|\n",
    "\\end{aligned}\n",
    "$$\n",
    "\n",
    "可见$\\displaystyle\\max_{a≤x≤b}|\\varphi(x)−\\psi(x)|=0$,所以$\\varphi(x)=\\psi(x),a≤x≤b$\n",
    "\n",
    "所以（$*$）在 $[\\alpha,\\beta]$ 上存在唯一的连续解。\n"
   ]
  },
  {
   "cell_type": "markdown",
   "metadata": {
    "collapsed": true
   },
   "source": [
    "$A$"
   ]
  },
  {
   "cell_type": "code",
   "execution_count": null,
   "metadata": {
    "collapsed": true
   },
   "outputs": [],
   "source": []
  }
 ],
 "metadata": {
  "kernelspec": {
   "display_name": "SageMath 7.3",
   "language": "",
   "name": "sagemath"
  },
  "language_info": {
   "codemirror_mode": {
    "name": "ipython",
    "version": 2
   },
   "file_extension": ".py",
   "mimetype": "text/x-python",
   "name": "python",
   "nbconvert_exporter": "python",
   "pygments_lexer": "ipython2",
   "version": "2.7.10"
  }
 },
 "nbformat": 4,
 "nbformat_minor": 0
}
