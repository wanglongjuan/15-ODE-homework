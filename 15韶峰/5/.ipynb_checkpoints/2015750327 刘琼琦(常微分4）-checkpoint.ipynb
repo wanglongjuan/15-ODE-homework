{
 "cells": [
  {
   "cell_type": "markdown",
   "metadata": {},
   "source": [
    "## 姓名：刘琼琦\n"
   ]
  },
  {
   "cell_type": "markdown",
   "metadata": {},
   "source": [
    "## 学号：2015750327"
   ]
  },
  {
   "cell_type": "markdown",
   "metadata": {},
   "source": [
    "# $$作业一（9月26日）$$"
   ]
  },
  {
   "cell_type": "markdown",
   "metadata": {},
   "source": [
    "## 习题3.1"
   ]
  },
  {
   "cell_type": "markdown",
   "metadata": {},
   "source": [
    "## 3.求初值问题\n",
    "$$\n",
    "\\begin{cases}\n",
    "\\frac{\\mathrm d y}{\\mathrm d x}=x^2-y^2,R:|x+1|≤1，|y|≤1,\\\\\n",
    "y(-1)=0\n",
    "\\end{cases}\n",
    "$$\n",
    "## 的解的存在区间，并求第二次近似解，给出在解的存在区间的误差估计。"
   ]
  },
  {
   "cell_type": "markdown",
   "metadata": {},
   "source": [
    "**解**\n",
    "依题意$M=\\displaystyle\\max_{(x,y)∈R}|f(x,y)|=4$\n",
    "\n",
    "又因为$a=1,\\frac{b}{M}=\\frac{1}{4}$所以$h=\\frac{1}{4}$\n",
    "\n",
    "并且利普希茨常数$L=2$,因为$\\frac{\\partial f}{\\partial y}=|-2y|≤2$\n",
    "\n",
    "所以\n",
    "$$\n",
    "\\begin{aligned}\n",
    "\\phi_0(x)&=0\\\\\\phi_1(x)&=\\int_{-1}^x(t^2-\\phi_0^2(t))\\mathrm d t=\\frac{x^3}{3}+\\frac{1}{3}\\\\\\phi_2(x)&=\\int_{-1}^x(t^2-\\phi_1^2(t))\\mathrm d  t\\\\&=\\frac{x^3}{3}-\\frac{x}{9}-\\frac{x^4}{18}-\\frac{x^7}{63}+\\frac{11}{42}，\n",
    "\\end{aligned}\n",
    "$$\n",
    "\n",
    "而且\n",
    "$$|\\phi_2(x)-\\phi(x)|≤\\frac{4*2^2}{3!}(\\frac{1}{4})^3=\\frac{1}{24}$$\n",
    "\n",
    "因此，解的存在区间为$-\\frac{5}{4}≤x≤-\\frac{3}{4}$,第二次近似解为$y_2=\\frac{x^3}{3}-\\frac{x}{9}-\\frac{x^4}{18}-\\frac{x^7}{63}+\\frac{11}{42}$,误差估计为$|y-y_2|≤\\frac{1}{24}$\n",
    "\n"
   ]
  },
  {
   "cell_type": "markdown",
   "metadata": {},
   "source": [
    "\n",
    "## 8.如果函数$f(x,y)$于带域$a≤x≤\\beta$上连续且关于$y$满足利普希茨条件，则方程$\\frac{\\mathrm d y}{\\mathrm d x}=f(x,y)$满足条件$y(x_0)=y_0$的解于整个区间$[\\alpha,\\beta]$上存在且唯一，试证明之。"
   ]
  },
  {
   "cell_type": "markdown",
   "metadata": {
    "collapsed": true
   },
   "source": [
    "**证**\n",
    "\n",
    "设$M=\\displaystyle\\max_{x∈[\\alpha,\\beta]}|f(x,y_0)|,h=a=\\beta-\\alpha,b=Mh$并且有常数L使得在域$R=|(x,y)|\\alpha≤x≤\\beta,|y-y_0|≤b|$中有\n",
    "$$|f(x,y_1)-f(x,y_2)|≤L|y_1-y_2|,(x,y_1),(x,y_2)\\phi_0∈R$$\n",
    "构造逐步逼近函数序列\n",
    "$$\n",
    "\\begin{cases}\n",
    "\\phi_0(x)=y_0\\\\\n",
    "\\phi_n(x)=y_0+\\int_{x_0}^x f(x,\\phi_{n-1}(x))\\mathrm d x,\\alpha≤x≤\\beta,n=1,2…\n",
    "\\end{cases}\n",
    "$$\n",
    "因为\n",
    "$$\n",
    "\\begin{aligned}\n",
    "|\\phi_1(x)-y_0|&=|\\int_{x_0}^x f(x,y_0(x))\\mathrm d x|≤\\int_{x_0}^x| f(x,y_0(x))|\\mathrm d x\\\\&≤M(x-x_0)≤Mh≤b\n",
    "\\end{aligned}\n",
    "$$\n",
    "可证$$|\\phi_n(x)-\\phi_{n-1}(x)|≤\\frac{M}{n!}L^{n-1}(\\beta-\\alpha)^n$$\n",
    "事实上有\n",
    "$$\n",
    "\\begin{aligned}\n",
    "|\\phi_{n+1}(x)-\\phi_n(x)|&≤|\\int_{x_0}^x |f(x,\\phi_n(x))-f(x,\\phi_{n-1}(x))|\\mathrm d x|\\\\&≤L|\\int_{x_0}^x |\\phi_n(x)-\\phi_{n-1}(x)|\\mathrm d x|\\\\&≤L|\\int_{x_0}^x \\frac{M}{n!}L^{n-1}|x-x_0|^n \\mathrm d x|\\\\&≤\\frac{M}{(n+1)!}L^n|x-x_0|^{n+1}\\\\&≤\\frac{M}{(n+1)!}L^n|\\beta-\\alpha|^{n+1}\n",
    "\\end{aligned}\n",
    "$$\n",
    "因为级数$\\displaystyle\\sum_{k=1}^\\infty \\frac{M}{k!}L^{k-1}(\\beta-\\alpha)^k$收敛，所以级数\n",
    "$$\\phi_n(x)=\\phi_0(x)+\\displaystyle\\sum_{k=1}^n [\\phi_k(x)-\\phi_{k-1}(x)]$$\n",
    "在区间$[\\alpha,\\beta]$一致收敛。从而存在极限$\\displaystyle\\lim_{n \\to \\infty}\\phi_n(x)=\\phi(x)$它在区间$[\\alpha,\\beta]$连续，且\n",
    "$$\n",
    "\\begin{aligned}\n",
    "\\phi_n(x)&=\\displaystyle\\lim_{n \\to \\infty}\\phi_n(x)\\\\&=y_0+\\displaystyle\\lim_{n \\to \\infty} \\int_{x_0}^x f(x,\\phi_{n-1}(x))\\mathrm d x\\\\&=y_0+\\int_{x_0}^x f(x,\\displaystyle\\lim_{n \\to \\infty} \\phi_{n-1}(x))\\mathrm d x\\\\&=y_0+\\int_{x_0}^x f(x,\\phi(x))\\mathrm d x\n",
    "\\end{aligned}\n",
    "$$\n",
    "\n",
    "所以$\\phi(x)$是积分方程也就是微分方程的解"
   ]
  },
  {
   "cell_type": "markdown",
   "metadata": {},
   "source": [
    "设$\\phi(x),\\psi(x)$均满足积分方程\n",
    "$$y=y_0+\\int_{x_0}^xf(x,y)\\mathrm d x,\\alpha≤x_0,x≤\\beta$$\n",
    "\n",
    "当$x≤x_0$时利用格朗沃尔不等式，由\n",
    "$$|\\phi(x)-\\psi(x)|≤\\int_{x_0}^x |f(x,\\phi(x))-f(x,\\psi(x))|\\mathrm d x≤\\int_{x_0}^x L|\\phi(x)-\\psi(x)|\\mathrm d x$$\n",
    "\n",
    "有$|\\phi(x)-\\psi(x)|≤0$,即$\\phi(x)=\\psi(x)(\\alpha≤x_0,x≤\\beta)$\n",
    "\n",
    "当$\\alpha≤x≤x_0$时，同理可证，$\\phi(x)=\\psi(x)(\\alpha≤x_0,x≤\\beta)$\n",
    "\n",
    "所以解的唯一性得证。"
   ]
  },
  {
   "cell_type": "markdown",
   "metadata": {},
   "source": [
    "# $$作业二（9月28日）$$"
   ]
  },
  {
   "cell_type": "markdown",
   "metadata": {},
   "source": [
    "# 6、证明格朗沃尔(Gronwall)不等式：\n",
    "# 设K为非负常数，f(t)和g(t)为在区间$\\alpha≤t≤\\beta$上的连续非负函数，且满足不等式\n",
    "$$f(t)≤K+\\int_\\alpha^t f(s)g(s) \\mathrm d s,\\alpha≤t≤\\beta$$\n",
    "# 则有\n",
    "$$f(t)≤Kexp(\\int_\\alpha^t g(s) \\mathrm d s),\\alpha≤t≤\\beta$$\n",
    "\n",
    "# 并由此证明定理一的命题5"
   ]
  },
  {
   "cell_type": "markdown",
   "metadata": {
    "collapsed": true
   },
   "source": [
    "**证**\n",
    "\n",
    "令$R(t)=\\int_\\alpha^t f(s)g(s) \\mathrm d s$,则$R^\\prime(t)=f(t)g(t)$\n",
    "\n",
    "所以$R^\\prime(t)-R(t)g(t)=f(t)g(t)-R(t)g(t)≤[K+R(t)]g(t)-R(t)g(t)≤Kg(t)$;\n",
    "\n",
    "两边同乘以$exp(-\\int_\\alpha^t g(u)\\mathrm d u)$\n",
    "\n",
    "则有$R^\\prime(t)exp(-\\int_\\alpha^t g(u) \\mathrm d u)-R(t)g(t)exp(-\\int_\\alpha^t g(u) \\mathrm d u)≤Kg(t)exp(-\\int_\\alpha^t g(u) \\mathrm d u)$\n",
    "\n",
    "即$$\\frac{d}{\\mathrm d t}[R(t)exp(-\\int_\\alpha^t g(u) \\mathrm d u)]≤Kg(t)exp[-\\int_\\alpha^t g(u) \\mathrm d u]$$\n",
    "\n",
    "两边对$\\alpha$到$t$积分：\n",
    "\n",
    "$$R(t)exp(-\\int_\\alpha^t g(u) \\mathrm d u)≤\\int_\\alpha^t Kg(s)exp(-\\int_\\alpha^s g(u) \\mathrm d u)\\mathrm d s=K-Kexp[-\\int_\\alpha^t g(u) \\mathrm d u]$$\n",
    "\n",
    "两边同乘以$exp(\\int_\\alpha^t g(u)\\mathrm d u)$后得\n",
    "$$R(t)≤Kexp(\\int_\\alpha^t g(u) \\mathrm d u)-K$$\n",
    "\n",
    "又$f(t)≤K+R(t)≤K(1-1+exp(\\int_\\alpha^t g(u) \\mathrm d u))=Kexp(\\int_\\alpha^t g(u) \\mathrm d u))$\n",
    "\n",
    "所以$f(t)≤Kexp(\\int_\\alpha^t g(s) \\mathrm d s),\\alpha≤t≤\\beta$\n",
    "\n",
    "\n",
    "\n",
    "\n"
   ]
  },
  {
   "cell_type": "markdown",
   "metadata": {},
   "source": [
    "**定理一命题五证明:**\n",
    "\n",
    "由利普希茨条件，$$|f(x,\\phi(x))-f(x,\\psi(x))|≤L|\\phi(x)-\\psi(x)|(x_0≤x≤x_0+h)$$\n",
    "得\n",
    "$$|\\phi(x)-\\psi(x)|≤\\int_{x_0}^x |f(x,\\phi(x))-f(x,\\psi(x))|\\mathrm d x≤\\int_{x_0}^x L|\\phi(x)-\\psi(x)|\\mathrm d x$$\n",
    "\n",
    "根据格朗沃尔不等式，$K=0$，当$x_0≤x≤x_0+h$时有\n",
    "$$0≤|\\phi(x)-\\psi(x)|≤Kexp[\\int_{x_0}^x L\\mathrm d x]=0$$\n",
    "\n",
    "所以$\\phi(x)=\\psi(x)(x_0≤x≤x_0+h)$\n"
   ]
  },
  {
   "cell_type": "markdown",
   "metadata": {},
   "source": [
    "# 10.给定积分方程\n",
    "\n",
    "$$\n",
    "\\varphi(x)=f(x)+\\lambda\\int^b_aK(x,\\xi)\\varphi(\\xi)\\,\\mathrm d\\xi,\\quad\\quad (*)\n",
    "$$\n",
    "\n",
    "# 其中 $f(x)$ 是 $[\\alpha,\\beta]$ 上的已知连续函数，$K(x,y)$ 是 $a\\leq x\\leq b ,a\\leq \\xi\\leq b$ 上的已知连续函数。证明：当 $|\\lambda|$ 足够小时（$\\lambda$ 是常数），（$*$）在 $[\\alpha,\\beta]$ 上存在唯一的连续解。\n"
   ]
  },
  {
   "cell_type": "markdown",
   "metadata": {
    "collapsed": true
   },
   "source": [
    "**证**\n",
    "构造逐步逼近函数序列\n",
    "$$\n",
    "\\begin{cases}\n",
    "\\phi_0(x)=f(x)\\\\\n",
    "\\phi_n(x)=f(x)+\\lambda\\int^b_aK(x,s)\\varphi_{n-1}(s)\\,\\mathrm d s,n=1,2…\n",
    "\\end{cases}\n",
    "$$\n",
    "显然，对所有正整数$n,\\phi_n(x）$在区间a≤x≤b上定义且连续。\n",
    "   下证函数序列${\\phi_k(x）}$在区间a≤x≤b上一致连续考虑函数级数$$\\phi_0(x）+\\displaystyle\\sum_{j=1}^{\\infty}[\\phi_j(x）-\\phi_{j-1}(x）],a≤x≤b  ①$$\n",
    "   其部分和为$$\\phi_0(x）+\\displaystyle\\sum_{j=1}^{k}[\\phi_j(x）-\\phi_{j-1}(x）]=\\phi_k(x）,a≤x≤b$$\n",
    "   因此，证明函数序列${\\phi_k(x）}在区间a≤x≤b上一致收敛化为证明级数①在区间a≤x≤b上一致收敛。因f(x)和K(x,ξ),在闭区间a≤x≤b及a≤x≤b,a≤ξ≤b$上连续，因此有$$|f(x)|≤L,|K(x,ξ)|≤\\tilde K,a≤x≤b,a≤ξ≤b.$$\n",
    "   取$M=|λ|\\tilde K(b-a).由（∗）有$\n",
    "   $$|\\varphi_1(x)−\\varphi_0(x)|=|\\phi_1(x)−f(x)|≤|λ|\\int^b_aK(x,s)\\varphi(s)\\mathrm ds≤|λ|\\tilde KL(b-a)=LM,$$\n",
    "   于是$$|\\varphi_2(x)−\\varphi_1(x)|≤|λ|\\int^b_aK(x,s)(\\varphi_1(s)-\\varphi_0(s))\\mathrm ds≤|λ|\\int^b_a\\tilde KLM,\\mathrm ds=LM^2.$$\n",
    "   现设成立$$|\\varphi_j(x)−\\varphi_{j-1}(x)|≤LM^j    ②$$\n",
    "   则由（∗），有$$|\\varphi_{j+1}(x)−\\varphi_j(x)|≤λ\\int^b_a|K(x,s)(\\varphi_1(s)-\\varphi_0(s))|,\\mathrm ds≤λ\\tilde K LM^j(b-a)=LM^{j+1}.$$\n",
    "   由数学归纳法知，对一切$j成立②。可取|λ|足够小使得M<\\frac{1}{2}从而级数\\displaystyle\\sum_{k=1}^{\\infty}LM^k收敛。由函数项级数一致收敛的魏氏判别法，级数①在a≤x≤b上一致收敛。因此函数序列{\\varphi_k(x)}也在a≤x≤b上一致收敛$\n",
    "   设$$\\lim_{n \\to \\infty}\\varphi_n(x)=\\varphi(x).$$\n",
    "   因$\\varphi(x)是\\varphi_k(x)的一致收敛极限函数，故\\varphi(x)也在区间a≤x≤b上连续。对逐步逼近函数序列，两边去极限，可得$\n",
    "   $$\\displaystyle\\lim_{n \\to \\infty}\\varphi_n(x)=f(x)+λ\\int_a^bK(x,s)\\displaystyle\\lim_{n \\to \\infty}\\varphi_{n-1}(x)\\mathrm ds,$$\n",
    "   \n",
    "   $$\\varphi(x)=f(x)+λ\\int_a^bK(x,s)\\varphi(s)\\mathrm ds,$$\n",
    "即$\\varphi(x)$是积分方程（$*$）在区间$[\\alpha,\\beta]$ 上的连续解"
   ]
  },
  {
   "cell_type": "markdown",
   "metadata": {
    "collapsed": true
   },
   "source": [
    "设$\\psi(x)$是积分方程（$*$）在区间$[\\alpha,\\beta]$ 上的另一个连续解\n",
    "即 $$\\psi(x)=f(x)+λ\\int_a^bK(x,s)\\psi(s)\\mathrm ds,$$\n",
    "\n",
    "因$\\displaystyle\\max_{a≤x≤b}|\\phi(x)-\\psi(x)|$存在且$|\\lambda|\\tilde K (b-a)=M<\\frac{1}{2}$,有\n",
    "$$\n",
    "\\begin{aligned}\n",
    "\\displaystyle\\max_{a≤x≤b} |\\varphi(x)−\\psi(x)|&≤\\displaystyle\\max_{a≤x≤b} (|λ|\\int^b_a|K(x,s)||\\varphi(x)-\\psi(x))\\mathrm ds)\\\\&≤\\displaystyle\\max_{a≤x≤b} (|λ|\\int^b_a \\tilde K |\\varphi(x)-\\psi(x))\\mathrm ds|\\\\&=|\\lambda|\\tilde K (b-a)\\displaystyle\\max_{a≤x≤b}|\\varphi(x)−\\psi(x)|\\\\&<\\frac{1}{2}\\displaystyle\\max_{a≤x≤b}|\\varphi(x)−\\psi(x)|\n",
    "\\end{aligned}\n",
    "$$\n",
    "\n",
    "可见$\\displaystyle\\max_{a≤x≤b}|\\varphi(x)−\\psi(x)|=0$,所以$\\varphi(x)=\\psi(x),a≤x≤b$\n",
    "\n",
    "所以（$*$）在 $[\\alpha,\\beta]$ 上存在唯一的连续解。\n"
   ]
  },
  {
   "cell_type": "markdown",
   "metadata": {},
   "source": [
    "$A^+$"
   ]
  },
  {
   "cell_type": "code",
   "execution_count": null,
   "metadata": {
    "collapsed": true
   },
   "outputs": [],
   "source": []
  }
 ],
 "metadata": {
  "kernelspec": {
   "display_name": "SageMath 7.3",
   "language": "",
   "name": "sagemath"
  },
  "language_info": {
   "codemirror_mode": {
    "name": "ipython",
    "version": 2
   },
   "file_extension": ".py",
   "mimetype": "text/x-python",
   "name": "python",
   "nbconvert_exporter": "python",
   "pygments_lexer": "ipython2",
   "version": "2.7.10"
  }
 },
 "nbformat": 4,
 "nbformat_minor": 0
}
