{
 "cells": [
  {
   "cell_type": "markdown",
   "metadata": {},
   "source": [
    "#### 1.求方程${\\mathrm d y \\over \\mathrm d x} = x + y^2$通过点$(0,0)$的第三次近似解"
   ]
  },
  {
   "cell_type": "markdown",
   "metadata": {},
   "source": [
    "解：\n",
    "$$\\varphi_0(x)=0$$\n",
    "\n",
    "$$\\varphi_1(x)=\\int_0^x(t+\\varphi_0^2(t))\\mathrm d t=\\int_0^xt\\mathrm d t={x^2 \\over 2}$$\n",
    "\n",
    "$$\\varphi_2(x)=\\int_0^x(t+\\varphi_1^2(t))\\mathrm d t=\\int_0^x(t+{x^4 \\over 4})\\mathrm d t={x^2 \\over 2}+{x^5 \\over 20}$$\n",
    "\n",
    "$$\\varphi_3(x)=\\int_0^x(t+\\varphi_2^2(t))\\mathrm d t=\\int_0^x\\Big[t+({x^2 \\over 2}+{x^5 \\over 20})^2\\Big]\\mathrm d t=\\int_0^x(t+{x^4 \\over 4}+{x^7 \\over 20}+{x^{10} \\over 400})\\mathrm d t={x^2 \\over 2}+{x^5 \\over 20}+{x^8 \\over 160}+{x^{11} \\over 4400}$$\n",
    "\n",
    "通过点$(0,0)$的第三次近似解是\n",
    "$$\\varphi_3(x)={x^2 \\over 2}+{x^5 \\over 20}+{x^8 \\over 160}+{x^{11} \\over 4400}$$"
   ]
  },
  {
   "cell_type": "markdown",
   "metadata": {},
   "source": [
    "#### 2.求初值问题\n",
    "$$\n",
    "\\begin{cases}\n",
    "{\\mathrm d y \\over \\mathrm d x}=x^2-y^2, \\\\\n",
    "y(-1)=0\n",
    "\\end{cases}\n",
    "$$\n",
    "#### $R:|x+1|\\leq 1,|y|\\leq 1$的解的存在区间，并求第二次近似解，给出在解的存在区间的误差估计"
   ]
  },
  {
   "cell_type": "markdown",
   "metadata": {},
   "source": [
    "解：\n",
    "当$x=-2,y=0$时\n",
    "$$M=\\max_{(x,y)\\int R}\\Big|f(x,y)\\Big|=\\max_{(x,y)\\int R}\\Big|x^2-y^2\\Big|=4$$\n",
    "\n",
    "$$h=\\min (a,{b \\over M})=\\min (1,{1 \\over 4})={1 \\over 4}$$\n",
    "\n",
    "$${\\partial f \\over \\partial y}=|-2y|\\leq 2, 利普希茨常数 L = 2$$\n",
    "\n",
    "$$\\varphi_0(x)=0$$\n",
    "\n",
    "$$\\varphi_1(x)=\\int_{-1}^x(t^2-\\varphi_0^2(x))\\mathrm d t={x^3 \\over 3}+{1 \\over 3}$$\n",
    "\n",
    "$$\\varphi_2(x)=\\int_{-1}^x(t^2-\\varphi_1^2(x))\\mathrm d t=\\int_{-1}^x(t^2-{(t^3+1)^2 \\over 9})\\mathrm d t=\\int_{-1}^x(t^2-{t^6 \\over 9}-{2t^3 \\over 9}-{1 \\over 9})\\mathrm d t={x^3 \\over 3}-{x^7 \\over 63}-{x^4 \\over 18}-{x \\over 9}+{11 \\over 42}$$\n",
    "\n",
    "误差估计\n",
    "$$|\\varphi_2(x)-\\varphi(x)|\\leq {ML^2 \\over (n+1)!}h^{n+1}={1 \\over 24}$$\n",
    "\n",
    "所以解存在的区间为$-{5 \\over 4}\\leq x\\leq -{3 \\over 4}$，近似解为\n",
    "$$\\varphi_2(x)={x^3 \\over 3}-{x^7 \\over 63}-{x^4 \\over 18}-{x \\over 9}+{11 \\over 42}$$\n",
    "\n",
    "误差估计$|\\varphi_2(x)-\\varphi(x)|\\leq {1 \\over 24}$"
   ]
  },
  {
   "cell_type": "markdown",
   "metadata": {},
   "source": [
    "#### 3.证明格朗沃尔（Gronwall）不等式：\n",
    "#### 设K为非负整数，$f(t)$和$g(t)$为在区间$\\alpha \\leq t\\leq \\beta$上的连续非负函数，，且满足不等式\n",
    "$$f(t)\\leq K+\\int_\\alpha^tf(s)g(s)\\mathrm d s,\\alpha \\leq t\\leq \\beta,$$\n",
    "#### 则有\n",
    "$$f(t)\\leq Kexp(\\int_\\alpha^tg(s)\\mathrm d s),\\alpha \\leq t\\leq \\beta.$$\n",
    "#### 并由此证明定理1的命题5"
   ]
  },
  {
   "cell_type": "markdown",
   "metadata": {},
   "source": [
    "证明：\n",
    "（1）若$K\\leq 0$，设\n",
    "$$h(t)=K+\\int_\\alpha^tf(s)g(s)\\mathrm d s>0$$\n",
    "\n",
    "$$h\\prime (t)=f(t)g(t)\\leq g(t)h(t),{h\\prime (t) \\over h(t)}\\leq g(t)$$\n",
    "\n",
    "两边从$\\alpha $到$t$积分\n",
    "$$\\ln h(t)-ln h(\\alpha )\\leq \\int_\\alpha^tg(s)\\mathrm d s$$\n",
    "\n",
    "$${h(t) \\over h(\\alpha )}\\leq exp(\\int_\\alpha^tg(s)\\mathrm d s),h(\\alpha )=K > 0$$\n",
    "\n",
    "所以\n",
    "$$f(t)\\leq h(t)\\leq Kexp(\\int_\\alpha^tg(s)\\mathrm d s),\\alpha \\leq t\\leq \\beta$$\n",
    "\n",
    "（2）若$K=0$\n",
    "$$\\forall \\varepsilon >0,f(t)\\leq \\varepsilon \\int_\\alpha^tf(s)g(s)\\mathrm d s$$\n",
    "\n",
    "由（1）得\n",
    "$$f(t)\\leq \\varepsilon exp(\\int_\\alpha^tg(s)\\mathrm d s)$$\n",
    "\n",
    "$\\varepsilon \\to 0^+$时\n",
    "$$f(t)\\leq 0,f(t)\\geq 0,f(t)=0$$\n",
    "\n",
    "所以\n",
    "$$f(t)\\leq Kexp(\\int_a\\alpha^tg(s)\\mathrm d s),\\alpha \\leq t\\leq \\beta$$\n",
    "\n",
    "证明定理1的命题5：设$\\psi (x)$是积分方程$y=y_0+\\int_{x_0}^xf(x,y)\\mathrm d x,x_0\\leq x\\leq x_0+h$的定义于$x_0\\leq x\\leq x_0+h$上的另一个连续解，则$\\varphi (x)=\\psi (x)(x_0\\leq x\\leq x_0+h)$\n",
    "\n",
    "$$\\varphi (t)=x_0+\\int_{t_0}^tf(\\xi ,\\varphi (\\xi ))\\mathrm d \\xi ,\\psi (t)=x_0+\\int_{t_0}^tf(\\xi ,\\psi (\\xi ))\\mathrm d \\xi $$\n",
    "\n",
    "$$\\Big|\\varphi (t)-\\psi (t)\\Big|\\leq \\int_{t_0}^t\\Big|f(\\xi ,\\varphi (\\xi ))-f(\\xi ,\\psi (\\xi))\\Big|\\mathrm d \\xi \\leq L\\int_{t_0}^t\\Big|\\varphi (\\xi )-\\psi (\\xi )\\Big|\\mathrm d \\xi $$\n",
    "\n",
    "由格朗沃尔不等式，$K=0$且\n",
    "$$0\\leq \\Big|\\varphi (\\xi )-\\psi (\\xi )\\Big|\\leq Kexp(\\int_{t_0}^tL\\mathrm d \\xi )=0$$\n",
    "\n",
    "所以$\\varphi (t)=\\psi (t)$"
   ]
  },
  {
   "cell_type": "markdown",
   "metadata": {},
   "source": [
    "#### 4.如果函数$f(x,y)$于带域$\\alpha \\leq x\\leq \\beta$上连续且关于$y$满足利普希茨条件，则方程${\\mathrm d y \\over \\mathrm d x}=f(x,y)$满足条件$y(x_0)=y_0$的解于整个区间$[\\alpha ,\\beta ]$上存在且唯一，试证明之"
   ]
  },
  {
   "cell_type": "markdown",
   "metadata": {},
   "source": [
    "证：设\n",
    "$$M=\\max_{x \\in [\\alpha,beta]}|f(x,y_0)|,h=\\beta-\\alpha,b=Mh$$\n",
    "\n",
    "和常数$L$使\n",
    "$$R={(x,y)|\\alpha \\leq \\beta ,|y-y_0|\\leq b}$$\n",
    "\n",
    "$$|f(x,y_1)-f(x,y_2)|\\leq L|y_1-y_2|,(x,y_1),(x,y_2)\\in R$$\n",
    "\n",
    "构造逼近函数序列\n",
    "$$\n",
    "\\begin{cases}\n",
    "\\varphi_0(x)=y_0 \\\\\n",
    "\\varphi_n(x)=y_0+\\int_{x_0}^xf(\\xi ,\\varphi _{n-1}(\\xi))\\mathrm d x\n",
    "\\end{cases}\n",
    "$$\n",
    "\n",
    "$$|\\varphi _1(x)-y_0|=|\\int_{x_0}^xf(\\xi ,y_0)\\mathrm d x|\\leq \\int_{x_0}^x|f(\\xi ,y_0)|\\mathrm d x\\leq M(x-x_0)\\leq Mh\\leq b$$\n",
    "\n",
    "$$|\\varphi _n(x)-\\varphi_{n-1}(x)|\\leq {M \\over n!}L^{n-1}(\\beta -\\alpha )^n$$\n",
    "\n",
    "$$\\Big|\\varphi _{n+1}(x)-\\varphi _n(x)\\Big|\\leq \\bigg|\\int_{x_0}^x\\Big|f(\\xi ,\\varphi _n(\\xi ))-f(\\xi ,\\varphi _{n-1}(\\xi ))\\Big|\\mathrm d \\xi \\bigg|$$\n",
    "\n",
    "$$\\leq L\\bigg|\\int_{x_0}^x\\Big|\\varphi _n(\\xi )-\\varphi_{n-1}(\\xi )\\Big|\\mathrm d \\xi \\bigg|$$\n",
    "\n",
    "$$\\leq L\\bigg|\\int_{x_0}^x{M \\over n!}L^{n-1}\\Big|\\xi -x_0\\Big|^n\\mathrm d \\xi \\bigg|$$\n",
    "\n",
    "$$\\leq {M \\over (n+1)!}L^n\\Big|x-x_0\\Big|^{n+1}$$\n",
    "\n",
    "$$\\leq {M \\over (n+1)!}L^n(\\beta -\\alpha )^{n+1}$$\n",
    "\n",
    "由于$\\displaystyle\\sum_{i=1}^{\\infty } {M \\over k!}L^{k-1}(\\beta -\\alpha )^k$收敛\n",
    "\n",
    "$$\\varphi _n(x)=\\varphi _0(x)+\\displaystyle\\sum_{k=1}^{n} [\\varphi _k(x)-\\varphi_{k-1}(x)]$$\n",
    "\n",
    "在区间$[\\alpha ,\\beta]$一致收敛\n",
    "\n",
    "$$\\varphi (x)=\\lim_{n \\to \\infty }\\varphi _n(x)=y_0+\\lim_{n\\to \\infty}\\int_{x_0}^xf(\\xi ,\\varphi_{n-1}(\\xi ))\\mathrm d x=y_0+\\int_{x_0}^xf(\\xi ,\\varphi (\\xi ))\\mathrm d \\xi $$\n",
    "\n",
    "所以$\\varphi (x)$是方程的解，设$\\varphi (x),\\psi (x)$满足方程\n",
    "\n",
    "$$y=y_0+\\int_{x_0}^xf(\\xi ,y(\\xi ))\\mathrm d \\xi ,\\alpha \\leq x_0\\leq \\beta,\\alpha \\leq x\\leq \\beta $$\n",
    "\n",
    "$x\\geq x_0$时\n",
    "$$\\Big|\\varphi (x)-\\psi (x)\\Big|\\leq \\int_{x_0}^x\\Big|f(s,\\varphi (s))-\\psi (s)\\Big|\\mathrm d s$$\n",
    "\n",
    "$$\\Big|\\varphi (x)-\\psi (x)\\Big|\\leq 0$$\n",
    "\n",
    "所以方程的解唯一"
   ]
  },
  {
   "cell_type": "markdown",
   "metadata": {},
   "source": [
    "#### 5.给定积分方程\n",
    "$$\n",
    "\\varphi (x)=f(x)+\\lambda \\int_a^bK(x,\\xi )\\varphi (\\xi )\\mathrm d \\xi \n",
    "$$\n",
    "#### 其中$f(x)$是$[a,b]$上的已知连续函数，$K(x,\\xi )$是$a\\leq x\\leq b,a\\leq \\xi \\leq b$上的已知连续函数，证明当$|\\lambda |$足够小时（$\\lambda $是常数），方程在$[a,b]$上存在唯一的连续解"
   ]
  },
  {
   "cell_type": "markdown",
   "metadata": {},
   "source": [
    "证：设$\\varphi _0(x)=f(x)$\n",
    "$$\\varphi _1(x)=f(x)+\\lambda \\int_a^bK(x,\\xi )\\varphi _0(\\xi )\\mathrm d \\xi$$\n",
    "\n",
    "$$\\varphi _{n+1}(x)=f(x)+\\lambda \\int_a^bK(x,\\xi )\\varphi _n(\\xi )\\mathrm d \\xi $$\n",
    "\n",
    "设\n",
    "$$M=\\max_{x\\in [a,bn]}\\big|f(x)\\big|,L=\\max_{x\\in [a,b]}\\big|K(x,\\xi )\\big|>0$$\n",
    "\n",
    "$$\\Big|\\varphi _1(x)-\\varphi _0(x)\\Big|=\\Big|\\lambda \\int_a^bK(x,\\xi )\\varphi _0(\\xi )\\mathrm d \\xi \\Big|\\leq\\Big|\\lambda \\Big|\\int_a^b\\Big|K(x,\\xi )\\Big|\\Big|f(\\xi )\\Big|\\mathrm d \\xi \\leq \\Big|\\lambda \\Big|ML(b-a)$$\n",
    "\n",
    "假设\n",
    "$$\\Big|\\varphi _k(x)-\\varphi _{k-1}(x)\\Big|\\leq \\big|\\lambda \\big|^kL^kM(b-a)^k$$\n",
    "\n",
    "$$\\Big|\\varphi _{k+1}(x)-\\varphi _{k-1}(x)\\Big|=\\Big|\\lambda \\int_a^bK(x,\\xi )(\\varphi _k(x)-\\varphi _{k-1}(\\xi ))\\mathrm d \\xi \\Big|$$\n",
    "\n",
    "$$\\leq \\big|\\lambda \\big|\\int _a^b\\Big|K(x,\\xi )\\Big|\\Big|\\varphi _k(\\xi )-\\varphi _{k-1}(\\xi )\\Big|\\mathrm d \\xi $$\n",
    "\n",
    "$$\\leq \\big|\\lambda \\big|\\int_a^bL^{k+1}\\big|\\lambda \\big|^kM(b-a)^k\\mathrm d \\xi $$\n",
    "\n",
    "$$=\\big|\\lambda \\big|^{k+1}L^{k+1}M(b-a)^{k+1}$$\n",
    "\n",
    "所以$\\forall n \\in N$\n",
    "$$\\Big|\\varphi _n(x)-\\varphi _{n-1}(x)\\Big|\\leq ML^n\\big|\\lambda\\big|^n(b-a)^n$$\n",
    "\n",
    "要证明${\\varphi _n(x)}$在$[a,b]$上一致收敛，即\n",
    "\n",
    "$$\\varphi _0(x)+\\displaystyle\\sum_{k=1}^{\\infty}(\\varphi _k(x)-\\varphi _{k-1}(x))$$\n",
    "\n",
    "在$[a,b]$一致收敛，因为\n",
    "\n",
    "$$\\big|\\varphi _k(x)-\\varphi _{k-1}(x)\\big|\\leq ML^k\\big|\\lambda \\big|^k(b-a)^k$$\n",
    "\n",
    "$\\big|\\lambda \\big|<{1 \\over (b-a)L}$时，级数$\\displaystyle\\sum_{k=1}^{\\infty}ML^k\\big|\\lambda \\big|^k(b-a)^k$收敛\n",
    "\n",
    "所以${\\varphi _n(x)}$在$[a,b]$上一致收敛，设极限函数为$\\varphi ^*(x)$\n",
    "\n",
    "$$\\varphi ^*(x)=f(x)+\\lambda \\int_a^bK(x,\\xi )\\varphi ^*(\\xi )~\\mathrm d\\xi ~\\big(\\big|\\lambda \\big|<{1 \\over (b-a)L}\\big)$$\n",
    "\n",
    "所以当$\\big|\\lambda \\big|<{1 \\over (b-a)L}$时，方程存在连续解\n",
    "\n",
    "假设另有解$\\overline \\varphi (x)$且$\\overline \\varphi (x)\\neq \\varphi ^*(x)$\n",
    "\n",
    "$$\\overline \\varphi (x)=f(x)+\\lambda \\int_a^bK(x,\\xi )\\overline \\varphi (\\xi )\\mathrm d \\xi $$\n",
    "\n",
    "设\n",
    "$$\\overline M=\\max_{x\\in [a,b]}\\big|\\varphi ^*(x)-\\overline \\varphi (x)\\big|>0$$\n",
    "\n",
    "$$\\big|\\varphi ^*(x)-\\overline \\varphi (x)\\big|=\\Big|\\lambda \\int_a^bK(x,\\xi )(\\varphi ^*(\\xi )-\\overline \\varphi (\\xi ))\\mathrm d \\xi \\Big|$$\n",
    "\n",
    "$$\\leq \\big|\\lambda \\big|\\int_a^bL\\big|\\varphi ^*(\\xi) -\\overline \\varphi (\\xi )\\big|\\mathrm d \\xi =\\big|\\lambda \\big|\\overline ML(b-a)$$\n",
    "\n",
    "$$\\overline M\\leq \\big|\\lambda \\big|\\overline ML(b-a)$$\n",
    "\n",
    "因为$\\overline M>0$，所以$\\big|\\lambda \\big|\\geq {1 \\over (b-a)L}$与$\\big|\\lambda\\big|<{1 \\over (b-a)L}$矛盾，所以方程存在唯一解"
   ]
  },
  {
   "cell_type": "markdown",
   "metadata": {
    "collapsed": true
   },
   "source": [
    "$A$"
   ]
  },
  {
   "cell_type": "code",
   "execution_count": null,
   "metadata": {
    "collapsed": true
   },
   "outputs": [],
   "source": []
  }
 ],
 "metadata": {
  "kernelspec": {
   "display_name": "SageMath 7.3",
   "language": "",
   "name": "sagemath"
  },
  "language_info": {
   "codemirror_mode": {
    "name": "ipython",
    "version": 2
   },
   "file_extension": ".py",
   "mimetype": "text/x-python",
   "name": "python",
   "nbconvert_exporter": "python",
   "pygments_lexer": "ipython2",
   "version": "2.7.10"
  }
 },
 "nbformat": 4,
 "nbformat_minor": 0
}
