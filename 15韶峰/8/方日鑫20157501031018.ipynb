{
 "cells": [
  {
   "cell_type": "markdown",
   "metadata": {},
   "source": [
    "# 1.设$x(t)$和$y(t)$是区间$\\alpha \\leq t \\leq \\beta$上的连续函数，证明：如果在区间$\\alpha \\leq t \\leq \\beta$上有$\\frac{x(t)}{y(t)}\\ne$常数或$\\frac{y(t)}{x(t)}\\ne$常数，则$x(t)$和$y(t)$在区间$\\alpha \\leq t \\leq \\beta$上线性无关."
   ]
  },
  {
   "cell_type": "markdown",
   "metadata": {},
   "source": [
    "证明：\n",
    "假设$x(t)$和$y(t)$在区间$\\alpha \\leq t \\leq \\beta$上线性相关 \n",
    "\n",
    "则Wronsky行列式\n",
    "$$\n",
    "\\begin{vmatrix}\n",
    "x(t) & y(t)\\\\\n",
    "x'(t) & y'(t)\n",
    "\\end{vmatrix}\n",
    "=0\\\\\n",
    "$$\n",
    "即$$x(t)y'(t)-y(t)x'(t)=0\\\\$$\n",
    "那么$$(\\frac{y(t)}{x(t)})'=\\frac{x(t)y'(t)-y(t)x'(t)}{x^2(t)}=0\\\\$$\n",
    "则$$\\frac{y(t)}{x(t)} \\equiv 0$$\n",
    "矛盾！\n",
    "\n",
    "故$x(t)$和$y(t)$在区间$\\alpha \\leq t \\leq \\beta$上线性无关."
   ]
  },
  {
   "cell_type": "markdown",
   "metadata": {},
   "source": [
    "# 2.证明非齐次线性微分方程的叠加原理：设$x_1(t),x_2(t)$分别是非齐次线性微分方程\n",
    "# $$\\frac{\\mathrm d^nx}{\\mathrm dt^n}+a_1(t)\\frac{\\mathrm d^{n-1}x}{\\mathrm dt^{n-1}}+\\cdots+a_n(t)x=f_1(t)\\\\\n",
    " \\frac{\\mathrm d^nx}{\\mathrm dt^n}+a_1(t)\\frac{\\mathrm d^{n-1}x}{\\mathrm dt^{n-1}}+\\cdots+a_n(t)x=f_2(t)\\\\\n",
    "$$\n",
    "# 的解，则$x_1(t)+x_2(t)$是方程\n",
    "# $$\\frac{\\mathrm d^nx}{\\mathrm dt^n}+a_1(t)\\frac{\\mathrm d^{n-1}x}{\\mathrm dt^{n-1}}+\\cdots+a_n(t)x=f_1(t)+f_2(t)$$\n",
    "# 的解"
   ]
  },
  {
   "cell_type": "markdown",
   "metadata": {},
   "source": [
    "$$\n",
    "\\begin{aligned}\n",
    "\\frac{\\mathrm d^n (x_1(t)+x_2(t))}{\\mathrm dt^n}+a_1(t)\\frac{\\mathrm d^{n-1}(x_1(t)+x_2(t))}{\\mathrm dt^{n-1}}+\\cdots+a_n(t)(x_1(t)+x_2(t))&=\\\\\n",
    "\\frac{\\mathrm d^n x_1(t)}{\\mathrm dt^n}+a_1(t)\\frac{\\mathrm d^{n-1}x_1(t)}{\\mathrm dt^{n-1}}+\\cdots+a_n(t)x_1(t)+\\frac{\\mathrm d^n x_2(t)}{\\mathrm dt^n}+a_1(t)\\frac{\\mathrm d^{n-1}x_2(t)}{\\mathrm dt^{n-1}}+\\cdots+a_n(t)x_2(t)&=f_1(t)+f_2(t)\\\\\n",
    "\\end{aligned}\n",
    "$$\n",
    "所以\n",
    "$x_1(t)+x_2(t)$是方程\n",
    "$$\\frac{\\mathrm d^nx}{\\mathrm dt^n}+a_1(t)\\frac{\\mathrm d^{n-1}x}{\\mathrm dt^{n-1}}+\\cdots+a_n(t)x=f_1(t)+f_2(t)$$\n",
    "的解"
   ]
  },
  {
   "cell_type": "markdown",
   "metadata": {},
   "source": [
    "# 3.已知齐次线性微分方程的基本解组为$x_1,x_2$,求下列方程对应的非齐次线性微分方程的通解\n",
    "\n",
    "# (1)$$x''+4x=t\\sin 2t,x_1=\\cos 2t,x_2=\\sin 2t;$$\n",
    "# (2)$$t^2 x''-tx'+x=6t+34t^2,x_1=t,x_2=t\\ln t$$\n",
    "# (补)$$x''-x=\\cos t,x_1=e^t,x_2=e^{-t}$$"
   ]
  },
  {
   "cell_type": "markdown",
   "metadata": {},
   "source": [
    "解：\n",
    "(1)令$x=c_1(t)x_1+c_2(t)x_2\\\\$\n",
    "则$$\n",
    "\\begin{cases}\n",
    "\\cos2t\\ c_1'(t)+\\sin2t\\ c_2'(t)=0\\\\\n",
    "-2\\sin2t\\ c_1'(t)+2\\cos2t\\ c_2'(t)=t\\sin2t\n",
    "\\end{cases}\n",
    "\\\\\n",
    "$$\n",
    "解得\n",
    "$$c_1'(t)=\\frac{t\\cos(4t)-t}{4} \\  c_2'(t)=\\frac{t\\sin(4t)}{4}\\\\$$\n",
    "积分可得\n",
    "$$\n",
    "\\begin{aligned}\n",
    "c_1(t)&=-\\frac{1}{8} \\, t^{2} + \\frac{1}{16} \\, t \\sin\\left(4 \\, t\\right) + \\frac{1}{64} \\, \\cos\\left(4 \\, t\\right)+c_1\\\\\n",
    "c_2(t)&=-\\frac{1}{16} \\, t \\cos\\left(4 \\, t\\right) + \\frac{1}{64} \\, \\sin\\left(4 \\, t\\right)+c_2\n",
    "\\end{aligned}\n",
    "\\\\\n",
    "$$\n",
    "所以通解是\n",
    "$$x=c_1\\cos 2t+c_2 \\sin 2-\\frac{t^2}{8}\\cos 2t+\\frac{t}{16} \\sin 2t$$\n",
    "(2)令$x=c_1(t)x_1+c_2(t)x_2\\\\$\n",
    "则$$\n",
    "\\begin{cases}\n",
    "t \\ c_1'(t)+ t\\ln t\\ c_2'(t)=0\\\\\n",
    "c_1'(t)+(\\ln t+1)c_2'(t)=6t+34t^2\n",
    "\\end{cases}\n",
    "\\\\\n",
    "$$\n",
    "与之前类似的，可解得\n",
    "$$\n",
    "\\begin{aligned}\n",
    "c_1(t)&=\\frac{34}{9} \\, t^{3} + \\frac{3}{2} \\, t^{2} - \\frac{1}{3} \\, {\\left(34 \\, t^{3} + 9 \\, t^{2}\\right)} \\log\\left(t\\right)+c_1\\\\\n",
    "c_2(t)&=\\frac{34}{3} \\, t^{3} + 3 \\, t^{2}+c_2\n",
    "\\end{aligned}\n",
    "\\\\\n",
    "$$\n",
    "所以通解是\n",
    "$$x=(c_1+c_2\\ln t)+3t\\ln^2 t+34t^2\\\\$$\n",
    "(补)令$x=c_1(t)x_1+c_2(t)x_2\\\\$\n",
    "则$$\n",
    "\\begin{cases}\n",
    "e^t c_1'(t)+ e^{-t} c_2'(t)=0\\\\\n",
    "e^t c_1'(t)-e^{-t} c_2'(t)=\\cos t\n",
    "\\end{cases}\n",
    "\\\\\n",
    "$$\n",
    "所以\n",
    "$$\n",
    "\\begin{aligned}\n",
    "c_1(t)&=-\\frac{1}{4} \\, {\\left(\\cos\\left(t\\right) - \\sin\\left(t\\right)\\right)} e^{\\left(-t\\right)}+c_1\\\\\n",
    "c_2(t)&=-\\frac{1}{4} \\, {\\left(\\cos\\left(t\\right) + \\sin\\left(t\\right)\\right)} e^{t}+c_2\n",
    "\\end{aligned}\n",
    "\\\\\n",
    "$$\n",
    "所以通解是\n",
    "$$x=c_1 e^t+c_2 e^{-t}+\\frac{1}{2}\\cos t$$"
   ]
  },
  {
   "cell_type": "code",
   "execution_count": 2,
   "metadata": {
    "collapsed": false
   },
   "outputs": [
    {
     "data": {
      "text/html": [
       "<html><script type=\"math/tex; mode=display\">\\newcommand{\\Bold}[1]{\\mathbf{#1}}\\left[\\left[c_{1} = -\\frac{t \\sin\\left(2 \\, t\\right)^{2}}{2 \\, {\\left(\\cos\\left(2 \\, t\\right)^{2} + \\sin\\left(2 \\, t\\right)^{2}\\right)}}, c_{2} = \\frac{t \\cos\\left(2 \\, t\\right) \\sin\\left(2 \\, t\\right)}{2 \\, {\\left(\\cos\\left(2 \\, t\\right)^{2} + \\sin\\left(2 \\, t\\right)^{2}\\right)}}\\right]\\right]</script></html>"
      ],
      "text/plain": [
       "[[c1 == -1/2*t*sin(2*t)^2/(cos(2*t)^2 + sin(2*t)^2), c2 == 1/2*t*cos(2*t)*sin(2*t)/(cos(2*t)^2 + sin(2*t)^2)]]"
      ]
     },
     "metadata": {},
     "output_type": "display_data"
    },
    {
     "data": {
      "text/html": [
       "<html><script type=\"math/tex; mode=display\">\\newcommand{\\Bold}[1]{\\mathbf{#1}}\\left[-\\frac{1}{8} \\, t^{2} + \\frac{1}{16} \\, t \\sin\\left(4 \\, t\\right) + \\frac{1}{64} \\, \\cos\\left(4 \\, t\\right), -\\frac{1}{16} \\, t \\cos\\left(4 \\, t\\right) + \\frac{1}{64} \\, \\sin\\left(4 \\, t\\right)\\right]</script></html>"
      ],
      "text/plain": [
       "[-1/8*t^2 + 1/16*t*sin(4*t) + 1/64*cos(4*t), -1/16*t*cos(4*t) + 1/64*sin(4*t)]"
      ]
     },
     "metadata": {},
     "output_type": "display_data"
    },
    {
     "data": {
      "text/html": [
       "<html><script type=\"math/tex; mode=display\">\\newcommand{\\Bold}[1]{\\mathbf{#1}}\\left[\\frac{34}{9} \\, t^{3} + \\frac{3}{2} \\, t^{2} - \\frac{1}{3} \\, {\\left(34 \\, t^{3} + 9 \\, t^{2}\\right)} \\log\\left(t\\right), \\frac{34}{3} \\, t^{3} + 3 \\, t^{2}\\right]</script></html>"
      ],
      "text/plain": [
       "[34/9*t^3 + 3/2*t^2 - 1/3*(34*t^3 + 9*t^2)*log(t), 34/3*t^3 + 3*t^2]"
      ]
     },
     "metadata": {},
     "output_type": "display_data"
    },
    {
     "data": {
      "text/html": [
       "<html><script type=\"math/tex; mode=display\">\\newcommand{\\Bold}[1]{\\mathbf{#1}}\\left[-\\frac{1}{4} \\, {\\left(\\cos\\left(t\\right) - \\sin\\left(t\\right)\\right)} e^{\\left(-t\\right)}, -\\frac{1}{4} \\, {\\left(\\cos\\left(t\\right) + \\sin\\left(t\\right)\\right)} e^{t}\\right]</script></html>"
      ],
      "text/plain": [
       "[-1/4*(cos(t) - sin(t))*e^(-t), -1/4*(cos(t) + sin(t))*e^t]"
      ]
     },
     "metadata": {},
     "output_type": "display_data"
    },
    {
     "data": {
      "text/plain": [
       "-\\frac{1}{4} \\, {\\left(\\cos\\left(t\\right) + \\sin\\left(t\\right)\\right)} e^{t}"
      ]
     },
     "execution_count": 2,
     "metadata": {},
     "output_type": "execute_result"
    }
   ],
   "source": [
    "var('t c1 c2 c3 c4 c5 c6')\n",
    "a=solve([cos(2*t)*c1+sin(2*t)*c2==0,(-2)*sin(2*t)*c1+2*cos(2*t)*c2==t*sin(2*t)],c1,c2)\n",
    "show(a)\n",
    "c1=integral((t*cos(4*t)-t)/4,t)\n",
    "c2=integral(t*sin(4*t)/4,t)\n",
    "show([c1,c2])\n",
    "latex(c2)\n",
    "c4=6*t+34*t^2\n",
    "c3=-c4*ln(t)\n",
    "c3=integral(c3,t)\n",
    "c4=integral(c4,t)\n",
    "show([c3,c4])\n",
    "latex(c4)\n",
    "c5=integral(cos(t)*exp(-t)/2,t)\n",
    "c6=integral(-cos(t)*exp(t)/2,t)\n",
    "show([c5,c6])\n",
    "latex(c6)"
   ]
  },
  {
   "cell_type": "markdown",
   "metadata": {},
   "source": [
    "# 4.假设$x_1(t)\\ne 0$是二阶齐次线性微分方程\n",
    "# $$x''+a_1(t)x'+a_2(t)x=0$$\n",
    "# 的解，这里$a_1(t)$和$a_2(t)$于区间$[a,b]$上连续，试证明:\n",
    "\n",
    "# (1)$x_2(t)$为方程的解的充要条件是\n",
    "# $$W'[x_1,x_2]+a_1 W[x_1,x_2]=0$$\n",
    "# (2)方程的通解可表为\n",
    "# $$x=x_1(c_1 \\int \\frac{1}{x_1^{2}} \\exp{(-\\int_{t_0}^t a_1(s) \\mathrm ds)} \\mathrm dt)+c_2)$$\n",
    "# 其中$c_1,c_2$为任意常数,$t_0,t \\in [a,b]$"
   ]
  },
  {
   "cell_type": "markdown",
   "metadata": {},
   "source": [
    "证明：\n",
    "\n",
    "(1)\n",
    "我们只需计算出$W'[x_1,x_2]+a_1 W[x_1,x_2]$即可\n",
    "$$W'[x_1,x_2]+a_1 W[x_1,x_2]=\n",
    "\\begin{vmatrix}\n",
    "x_1(t) & x_2(t)\\\\\n",
    "x_1''(t) & x_2''(t)\n",
    "\\end{vmatrix}\n",
    "+ a_1\n",
    "\\begin{vmatrix}\n",
    "x_1(t) & x_2(t)\\\\\n",
    "x_1'(t) & x_2'(t)\n",
    "\\end{vmatrix}\n",
    "=\n",
    "\\begin{vmatrix}\n",
    "(a_1+1)x_1 & (a_1+1)x_2\\\\\n",
    "0  & x_2''+ a_1 x'+a_2 x_2\n",
    "\\end{vmatrix}\n",
    "=((a_1+1)x_1)(x_2''+ a_1 x'+a_2 x_2)\\\\\n",
    "$$\n",
    "又$(a_1+1)x_1 \\ne 0$\n",
    "所以\n",
    "$$W'[x_1,x_2]+a_1 W[x_1,x_2]=0 \\iff x_2为方程的解\\\\\n",
    "$$\n",
    "(2)用第一问结论\n",
    "$$W'[x_1,x]+a_1 W[x_1,x]=0\\\\$$\n",
    "分离变量再积分可得\n",
    "$$W=c_1 \\exp{(-\\int_{t_0}^t a_1(s) \\mathrm ds}\\\\$$\n",
    "又$$W=x_1 x'-x_1'x\\\\$$\n",
    "所以$$x'=\\frac{x_1 '}{x_1}x+\\frac{c_1 \\exp{(-\\int_{t_0}^t a_1(s) \\mathrm ds}}{x_1}\\\\$$\n",
    "由常数变易法可得\n",
    "$$x=x_1(c_1 \\int \\frac{1}{x_1^{2}} \\exp{(-\\int_{t_0}^t a_1(s) \\mathrm ds)} \\mathrm dt)+c_2）$$"
   ]
  },
  {
   "cell_type": "markdown",
   "metadata": {},
   "source": [
    "$A$"
   ]
  },
  {
   "cell_type": "code",
   "execution_count": null,
   "metadata": {
    "collapsed": true
   },
   "outputs": [],
   "source": []
  }
 ],
 "metadata": {
  "kernelspec": {
   "display_name": "SageMath 7.3",
   "language": "",
   "name": "sagemath"
  },
  "language_info": {
   "codemirror_mode": {
    "name": "ipython",
    "version": 2
   },
   "file_extension": ".py",
   "mimetype": "text/x-python",
   "name": "python",
   "nbconvert_exporter": "python",
   "pygments_lexer": "ipython2",
   "version": "2.7.10"
  }
 },
 "nbformat": 4,
 "nbformat_minor": 0
}
