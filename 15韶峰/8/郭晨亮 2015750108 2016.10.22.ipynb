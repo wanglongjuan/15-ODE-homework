{
 "cells": [
  {
   "cell_type": "markdown",
   "metadata": {},
   "source": [
    "#### 1.设$x(t)$和$y(t)$是区间$a\\leq t\\leq b$上的连续函数，证明：如果在区间$a\\leq t\\leq b$上有${x(t) \\over y(t)}\\neq $常数，或${y(t) \\over x(t)}\\neq $常数，则$x(t)$和$y(t)$在区间$a\\leq t\\leq b$上线性无关"
   ]
  },
  {
   "cell_type": "markdown",
   "metadata": {},
   "source": [
    "证：假设$x(t)$和$y(t)$在区间$a\\leq t\\leq b$上线性相关\n",
    "\n",
    "$\\exists a,b$不全为0且\n",
    "\n",
    "$$ax(t)+by(t)=0,t\\in [a,b]$$\n",
    "\n",
    "设$x(t)\\neq 0$，则${y(t) \\over x(t)}=-{a \\over b}$，矛盾\n",
    "\n",
    "所以$x(t)$和$y(t)$在区间$a\\leq t\\leq b$上线性无关"
   ]
  },
  {
   "cell_type": "markdown",
   "metadata": {},
   "source": [
    "#### 2.证明非齐次线性微分方程的叠加原理：设$x_1(t),x_2(t)$分别是非齐次线性微分方程\n",
    "\n",
    "$${\\mathrm d^nx \\over \\mathrm dt^n}+a_1(t){\\mathrm d^{n-1}x \\over \\mathrm d t^{n-1}}+\\cdots +a_n(t)x=f_1(t)$$\n",
    "\n",
    "$${\\mathrm d^nx \\over \\mathrm dt^n}+a_1(t){\\mathrm d^{n-1}x \\over \\mathrm d t^{n-1}}+\\cdots +a_n(t)x=f_2(t)$$\n",
    "\n",
    "#### 的解，则$x_1(t)+x_2(t)$是方程\n",
    "\n",
    "$${\\mathrm d^nx \\over \\mathrm dt^n}+a_1(t){\\mathrm d^{n-1}x \\over \\mathrm d t^{n-1}}+\\cdots +a_n(t)x=f_1(t)+f_2(t)$$\n",
    "\n",
    "#### 的解"
   ]
  },
  {
   "cell_type": "markdown",
   "metadata": {},
   "source": [
    "证：\n",
    "$${\\mathrm d^nx_1(t) \\over \\mathrm dt^n}+a_1(t){\\mathrm d^{n-1}x_1(t) \\over \\mathrm d t^{n-1}}+\\cdots +a_n(t)x_1(t)=f_1(t)$$\n",
    "\n",
    "$${\\mathrm d^nx_2(t) \\over \\mathrm dt^n}+a_1(t){\\mathrm d^{n-1}x_2(t) \\over \\mathrm d t^{n-1}}+\\cdots +a_n(t)x_2(t)=f_2(t)$$\n",
    "\n",
    "$${\\mathrm d^n(x_1(t)+x_2(t)) \\over \\mathrm dt^n}+a_1(t){\\mathrm d^{n-1}(x_1(t)+x_2(t)) \\over \\mathrm d t^{n-1}}+\\cdots +a_n(t)(x_1(t)+x_2(t))=f_1(t)+f_2(t)$$\n",
    "\n",
    "所以$x_1(t)+x_2(t)$是方程\n",
    "\n",
    "$${\\mathrm d^nx \\over \\mathrm dt^n}+a_1(t){\\mathrm d^{n-1}x \\over \\mathrm d t^{n-1}}+\\cdots +a_n(t)x=f_1(t)+f_2(t)$$\n",
    "\n",
    "的解"
   ]
  },
  {
   "cell_type": "markdown",
   "metadata": {},
   "source": [
    "#### 3.已知齐次线性方程的基本解组$x_1,x_2$，求下列方程对应的非齐次线性微分方程的通解"
   ]
  },
  {
   "cell_type": "markdown",
   "metadata": {},
   "source": [
    "（1）$x\\prime \\prime +4x=t\\sin 2t,x_1=\\cos 2t,x_2=\\sin 2t$"
   ]
  },
  {
   "cell_type": "markdown",
   "metadata": {},
   "source": [
    "解：设$c_1(t)=\\cos 2t+c_2(t)\\sin 2t$\n",
    "\n",
    "$$\n",
    "\\begin{cases}\n",
    "c\\prime _1(t)\\cos 2t+c\\prime _2(t)\\sin 2t=0 \\\\\n",
    "-2c\\prime _1(t)\\sin 2t+2c\\prime _2(t)\\cos 2t=t\\sin 2t\n",
    "\\end{cases}\n",
    "$$\n",
    "\n",
    "$$\n",
    "\\begin{cases}\n",
    "c\\prime _1(t)={1 \\over 4}t(\\cos 4t-1) \\\\\n",
    "c\\prime _2(t)={1 \\over 4}t\\sin 4t\n",
    "\\end{cases}\n",
    "$$\n",
    "\n",
    "$$\n",
    "\\begin{cases}\n",
    "c_1(t)={1 \\over 64}\\cos 4t+{1 \\over 16}t\\sin 4t-{1 \\over 8}t^2+k_1 \\\\\n",
    "c_2(t)={1 \\over 64}\\sin 4t-{1 \\over 16}t\\cos 4t+k_2\n",
    "\\end{cases}\n",
    "$$\n",
    "\n",
    "方程的解为\n",
    "$$x=c_1\\cos 2t+c_2\\sin 2t-{1 \\over 8}t^2\\cos 2t+{1 \\over 16}t\\sin 2t$$"
   ]
  },
  {
   "cell_type": "markdown",
   "metadata": {},
   "source": [
    "（2）$t^2x\\prime \\prime -tx\\prime +x=6t+34t^2,x_1=t,x_2=t\\ln t$"
   ]
  },
  {
   "cell_type": "markdown",
   "metadata": {},
   "source": [
    "解：\n",
    "$$x\\prime \\prime -{1 \\over t}c_1(t)+t\\ln tc\\prime _2(t)=0$$\n",
    "\n",
    "设$x=tc_1(t)+t\\ln tc_2(t)$\n",
    "\n",
    "$$\n",
    "\\begin{cases}\n",
    "tc\\prime _1(t)+t\\ln tc\\prime _2(t)=0 \\\\\n",
    "c\\prime _1(t)+(\\ln t+1)c\\prime _2(t)={6 \\over t}+34\n",
    "\\end{cases}\n",
    "$$\n",
    "\n",
    "$$\n",
    "\\begin{cases}\n",
    "c\\prime _1(t)=-\\ln t({6 \\over t}+34) \\\\\n",
    "c\\prime _2(t)={6 \\over t}+34\n",
    "\\end{cases}\n",
    "$$\n",
    "\n",
    "$$\n",
    "\\begin{cases}\n",
    "c_1(t)=-34(t\\ln t-t)-3(\\ln t)^2+c_1 \\\\\n",
    "c_2(t)=34t+6\\ln t+c_2\n",
    "\\end{cases}\n",
    "$$\n",
    "\n",
    "所以方程的解为\n",
    "$$x=c_1t+c_2t\\ln t+34t^2+3t(\\ln t)^2$$"
   ]
  },
  {
   "cell_type": "markdown",
   "metadata": {},
   "source": [
    "#### 4.假设$x_1(t)\\neq 0$是二阶齐次线性方程\n",
    "\n",
    "$$x\\prime \\prime +a_1(t)x\\prime +a_2(t)x=0$$\n",
    "\n",
    "#### 的解，这里$a_1(t)$和$a_2(t)$于区间$[a,b]$上连续，试证"
   ]
  },
  {
   "cell_type": "markdown",
   "metadata": {},
   "source": [
    "（1）$x_2(t)$为方程的解的充要条件是\n",
    "\n",
    "$$W\\prime [x_1,x_2]+a_1W[x_1,x_2]=0$$"
   ]
  },
  {
   "cell_type": "markdown",
   "metadata": {},
   "source": [
    "证：\n",
    "$$W\\prime [x_1,x_2]+a_1W[x_1,x_2]=0$$\n",
    "\n",
    "$$x_1x\\prime \\prime _2-x\\prime \\prime _1x_2+a_1x_1x\\prime _2-a_1x\\prime _1x_2=0$$\n",
    "\n",
    "$$x_1x\\prime \\prime _2-x\\prime \\prime _1x_2+a_1x_1x\\prime _2-a_1x\\prime _1x_2+a_2x_1x_2-a_2x_1x_2=0$$\n",
    "\n",
    "$$x_1(x\\prime \\prime _2+a_1x\\prime _2+a_2x_2)=0$$\n",
    "\n",
    "$$x\\prime \\prime _2+a_1x\\prime _2+a_2x_2=0$$\n",
    "\n",
    "所以$x_2(t)$为方程的解"
   ]
  },
  {
   "cell_type": "markdown",
   "metadata": {},
   "source": [
    "（2）方程的通解可表为\n",
    "\n",
    "$$x=x_1[c_1\\int {1 \\over x_1^2}exp(-\\int_{t_0}^ta_1(s)\\mathrm d s)\\mathrm d t+c_2]$$\n",
    "\n",
    "其中$c_1,c_2$为任意常数，$t_0,t\\in [a,b]$"
   ]
  },
  {
   "cell_type": "markdown",
   "metadata": {},
   "source": [
    "证：\n",
    "$$x_1x\\prime _2-x\\prime _1x_2=W(t_0)e^{-\\int_{t_0}^ta_1(s)\\mathrm d s}$$\n",
    "\n",
    "$${\\mathrm d({x_2 \\over x_1}) \\over \\mathrm d t}={W(t_0) \\over x_1^2}e^{-\\int_{t_0}^ta_1(s)\\mathrm d s}$$\n",
    "\n",
    "$${x_2 \\over x_1}=c_1\\int {1 \\over x_1^2}e^{-\\int_{t_0}^ta_1(s)\\mathrm d t}+c_2$$\n",
    "\n",
    "$$x_2=(c_1\\int{1 \\over x_1^2}e^{-\\int_{t_0}^ta_1(s)\\mathrm d s}\\mathrm d t+c_2)x_1$$\n",
    "\n",
    "设$c_1=1,c_2=0$\n",
    "$$x_2=x_1\\int {1 \\over x_1^2}e^{-\\int_{t_0}^ta_1(s)\\mathrm d s}\\mathrm d t$$\n",
    "\n",
    "所以方程的解为\n",
    "$$x=x_1[c_1\\int {1 \\over x_1^2}exp(-\\int_{t_0}^ta_1(s)\\mathrm d s)\\mathrm d t+c_2]$$\n",
    "\n",
    "其中$c_1,c_2$为任意常数，$t_0,t\\in [a,b]$"
   ]
  },
  {
   "cell_type": "markdown",
   "metadata": {},
   "source": [
    "$A$"
   ]
  },
  {
   "cell_type": "code",
   "execution_count": null,
   "metadata": {
    "collapsed": true
   },
   "outputs": [],
   "source": []
  }
 ],
 "metadata": {
  "kernelspec": {
   "display_name": "SageMath 7.3",
   "language": "",
   "name": "sagemath"
  },
  "language_info": {
   "codemirror_mode": {
    "name": "ipython",
    "version": 2
   },
   "file_extension": ".py",
   "mimetype": "text/x-python",
   "name": "python",
   "nbconvert_exporter": "python",
   "pygments_lexer": "ipython2",
   "version": "2.7.10"
  }
 },
 "nbformat": 4,
 "nbformat_minor": 0
}
