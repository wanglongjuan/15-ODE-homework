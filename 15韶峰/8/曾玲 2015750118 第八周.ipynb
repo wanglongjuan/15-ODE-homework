{
 "cells": [
  {
   "cell_type": "markdown",
   "metadata": {},
   "source": [
    "### 1、设$x(t)$和$y(t)$是区间$a\\leq t\\leq b$上的连续函数，证明：如果在区间$a\\leq t\\leq b$上有$\\frac{x(t)}{y(t)}\\neq$或$\\frac{y(t)}{x(t)}\\neq$常数，则$x(t)$和$y(t)$在区间$a\\leq t\\leq b$上线性无关。"
   ]
  },
  {
   "cell_type": "markdown",
   "metadata": {},
   "source": [
    "**用反证法：**   假设$x(t)$与$y(t)$线性相关，那么存在不全为0的$c_1,c_2$ 使得$c_1x(t)+c_2y(t)=0$\n",
    "\n",
    "当$c_1\\neq 0$时，$\\frac{x(t)}{y(t)}=\\frac{c_2}{c_1}$=常数，与已知矛盾。\n",
    "\n",
    "当$c_2\\neq 0$时，$\\frac{y(t)}{x(t)}=\\frac{c_1}{c_2}$=常数，与已知矛盾。\n",
    "\n",
    "因此，$x(t)$和$y(t)$在区间$a\\leq t\\leq b$上线性无关。"
   ]
  },
  {
   "cell_type": "markdown",
   "metadata": {},
   "source": [
    "### 2、证明非齐次线性微分方程的叠加原理：设$x_1(t),x_2(t)$分别是非齐次线性微分方程\n",
    "$$\\frac{\\mathrm d^n x}{\\mathrm dt^{n-1}}+a_1(t)\\frac{\\mathrm d^{n-1} x}{\\mathrm dt^n}+\\cdots+a_n(t)x=f_1(t) ,  $$\n",
    "$$\\frac{\\mathrm d^n x}{\\mathrm dt^{n-1}}+a_1(t)\\frac{\\mathrm d^{n-1} x}{\\mathrm dt^n}+\\cdots+a_n(t)x=f_2(t)  $$\n",
    "的解，则$x_1(t)+x_2(t)$是方程$$\\frac{\\mathrm d^n x}{\\mathrm dt^{n-1}}+a_1(t)\\frac{\\mathrm d^{n-1} x}{\\mathrm dt^n}+\\cdots+a_n(t)x=f_1(t)+f_2(t)  $$\n",
    "的解。\n"
   ]
  },
  {
   "cell_type": "markdown",
   "metadata": {},
   "source": [
    "**证明：**由于$x_1(t),x_2(t)$分别是非齐次线性微分方程\n",
    "$$\\frac{\\mathrm d^n x}{\\mathrm dt^{n-1}}+a_1(t)\\frac{\\mathrm d^{n-1} x}{\\mathrm dt^n}+\\cdots+a_n(t)x=f_1(t) ,  $$\n",
    "$$\\frac{\\mathrm d^n x}{\\mathrm dt^{n-1}}+a_1(t)\\frac{\\mathrm d^{n-1} x}{\\mathrm dt^n}+\\cdots+a_n(t)x=f_2(t)  $$\n",
    "的解，\n",
    "\n",
    "所以，$$\\frac{\\mathrm d^n x_1(t)}{\\mathrm dt^{n-1}}+a_1(t)\\frac{\\mathrm d^{n-1} x_1(t)}{\\mathrm dt^n}+\\cdots+a_n(t)x_1(t)=f_1(t)$$\n",
    "$$\\frac{\\mathrm d^n x_2(t)}{\\mathrm dt^{n-1}}+a_1(t)\\frac{\\mathrm d^{n-1} x_2}{\\mathrm dt^n}+\\cdots+a_n(t)x_2(t)=f_2(t)$$\n",
    "\n",
    "根据“和的导数等于导数的和”的法则，很容易得到：\n",
    "$$\\frac{\\mathrm d(x_1(t)+x_2(t))}{\\mathrm dt}=\\frac{\\mathrm d x_1}{\\mathrm dt}+\\frac{\\mathrm dx_2}{\\mathrm dt}$$\n",
    "$$\\frac{\\mathrm d^2(x_1(t)+x_2(t))}{\\mathrm dt^2}=\\frac{\\mathrm d^2 x_1}{\\mathrm dt^2}+\\frac{\\mathrm d^2 x_2}{\\mathrm dt^2}$$\n",
    "$$\\cdots$$\n",
    "$$\\frac{\\mathrm d^n(x_1(t)+x_2(t))}{\\mathrm dt^n}=\\frac{\\mathrm d^n x_1}{\\mathrm dt^n}+\\frac{\\mathrm d^n x_2}{\\mathrm dt^n}$$\n",
    "因此\n",
    "$$\n",
    "\\frac{\\mathrm d^n (x_1(t)+x_2(t))}{\\mathrm dt^{n-1}}+a_1(t)\\frac{\\mathrm d^{n-1} (x_1(t)+x_2(t))}{\\mathrm dt^n}+\\cdots+a_n(t)(x_1(t)+x_2(t))\n",
    "$$\n",
    "$$\\begin{aligned}\n",
    "&=\\frac{\\mathrm d^n x_1(t)}{\\mathrm dt^{n-1}}+a_1(t)\\frac{\\mathrm d^{n-1} x_1(t)}{\\mathrm dt^n}+\\cdots+a_n(t)x_1(t)+\\frac{\\mathrm d^n x_2(t)}{\\mathrm dt^{n-1}}+a_1(t)\\frac{\\mathrm d^{n-1} x_2}{\\mathrm dt^n}+\\cdots+a_n(t)x_2(t)\\\\&=f_1(t)+f_2(t)\n",
    "\\end{aligned}$$\n",
    "则$x_1(t)+x_2(t)$是方程$$\\frac{\\mathrm d^n x}{\\mathrm dt^{n-1}}+a_1(t)\\frac{\\mathrm d^{n-1} x}{\\mathrm dt^n}+\\cdots+a_n(t)x=f_1(t)+f_2(t)  $$\n",
    "的解。"
   ]
  },
  {
   "cell_type": "markdown",
   "metadata": {},
   "source": [
    "### 3、已知齐次线性微分方程的基本解组$x_1,x_2$，求下列方程对应的非齐次线性微分方程的通解："
   ]
  },
  {
   "cell_type": "markdown",
   "metadata": {},
   "source": [
    "（1）$x^{\\prime\\prime}-x=\\cos t , x_1=e^t , x_2=e^{-t}$"
   ]
  },
  {
   "cell_type": "markdown",
   "metadata": {},
   "source": [
    "**解：**应用常数变易法，令$$x=c_1(t)\\cos 2t+c_2(t)\\sin 2t$$\n",
    "将它代入方程，则可得决定${c_1}^{\\prime}(t)和{c_2}^{\\prime}(t)$的两个方程\n",
    "$${c_1}^{\\prime}(t)\\cos 2t+{c_2}^{\\prime}(t)\\sin 2t=0$$\n",
    "及$$-2{c_1}^{\\prime}(t)\\sin 2t+2{c_2}^{\\prime}(t)\\cos 2t=t\\sin {2t}$$\n",
    "解得$${c_1}^{\\prime}(t)=\\frac{\\cos t}{2e^t},{c_2}^{\\prime}(t)=-\\frac{e^t\\cos t}{2}$$\n",
    "由此，$$c_1(t)=\\frac{\\sin t-cos t}{4e^t}+{\\lambda}_1,c_2(t)=-\\frac{e^t(\\sin t+cos t)}{4}+{\\lambda}_2$$\n",
    "于是原方程的通解为\n",
    "$$x={\\lambda}_1 e^t+{\\lambda}_2 e^{-t}-\\frac{1}{2}\\cos t$$\n",
    "其中${\\lambda}_1,{\\lambda}_2 $ 为任意常数。"
   ]
  },
  {
   "cell_type": "markdown",
   "metadata": {},
   "source": [
    "(3)$x^{\\prime\\prime}+4x=t\\sin {2t},x_1=\\cos 2t,x_2=\\sin 2t;$"
   ]
  },
  {
   "cell_type": "markdown",
   "metadata": {},
   "source": [
    "**解：**应用常数变易法，令$$x=c_1(t)\\cos 2t+c_2(t)\\sin 2t$$\n",
    "将它代入方程，则可得决定${c_1}^{\\prime}(t)和{c_2}^{\\prime}(t)$的两个方程\n",
    "$${c_1}^{\\prime}(t)\\cos 2t+{c_2}^{\\prime}(t)\\sin 2t=0$$\n",
    "及$$-2{c_1}^{\\prime}(t)\\sin 2t+2{c_2}^{\\prime}(t)\\cos 2t=t\\sin {2t}$$\n",
    "解得$${c_1}^{\\prime}(t)=-\\frac{t}{2}+\\frac{t}{2}\\cos 4t,{c_2}^{\\prime}(t)=\\frac{t}{2}\\sin 4t$$\n",
    "由此，$$c_1(t)=-\\frac{t^2}{8}+\\frac{t}{16}\\sin 4t+\\frac{1}{64}\\cos 4t+{\\lambda}_1,c_2(t)=-\\frac{t}{16}\\cos 4t+\\frac{1}{64}\\sin 4t+{\\lambda}_2$$\n",
    "于是原方程的通解为\n",
    "$$x={\\lambda}_1 \\cos 2t+{\\lambda}_2 \\sin 2t-\\frac{t^2}{8}\\cos 2t+\\frac{t}{16}\\sin 2t+\\frac{1}{64}\\cos 2t$$\n",
    "其中${\\lambda}_1,{\\lambda}_2 $ 为任意常数。\n",
    "\n",
    "错误"
   ]
  },
  {
   "cell_type": "markdown",
   "metadata": {},
   "source": [
    "(5)$t^2x^{\\prime\\prime}-tx^{\\prime}+x=6t+34t^2,x_1=t,x_2=t\\ln t$"
   ]
  },
  {
   "cell_type": "markdown",
   "metadata": {},
   "source": [
    "**解：**应用常数变易法，首先把方程变为$x^{\\prime\\prime}-\\frac{1}{t}x^{\\prime}+\\frac{1}{t^2}x=\\frac{6}{t}+34$\n",
    "令$$x=c_1(t)t+c_2(t)t\\ln t$$\n",
    "将它代入方程，则可得决定${c_1}^{\\prime}(t)和{c_2}^{\\prime}(t)$的两个方程\n",
    "$${c_1}^{\\prime}(t)t+{c_2}^{\\prime}(t)t\\ln t=0$$\n",
    "及$${c_1}^{\\prime}(t)+{c_2}^{\\prime}(t)(1+\\ln t)=\\frac{6}{t}+34$$\n",
    "解得$${c_1}^{\\prime}(t)=-\\frac{6\\ln t}{t}-34\\ln t,{c_2}^{\\prime}(t)=\\frac{t}{6}+34$$\n",
    "由此，$$c_1(t)=-3\\ln^2 t-34t\\ln t+34t+{\\lambda}_1,c_2(t)=6\\ln t+34t+{\\lambda}_2$$\n",
    "于是原方程的通解为\n",
    "$$x=3t\\ln^2 t+34t^2+{\\lambda}_1t+{\\lambda}_2t\\ln t$$\n",
    "其中${\\lambda}_1,{\\lambda}_2 $ 为任意常数。"
   ]
  },
  {
   "cell_type": "markdown",
   "metadata": {},
   "source": [
    "6.假设$x_1(t)\\neq0$是二阶齐次线性微分方程\n",
    "$$x^{\\prime\\prime}+a_1(t)x^{\\prime}+a_2(t)x=0$$的解，这里$a_1(t),a_2(t)$于区间[a,b]上连续，试证：\n",
    "\n",
    "（1）$x_2(t)$为方程的解的充要条件为$$W^{\\prime}[x_1,x_2]+a_1W[x_1,x_2]=0;$$\n",
    "(2)方程的通解可表为$$x=x_1[c_1\\int \\frac{1}{{x_1}^2}exp\\big(-\\int_{t_0}^t a_1(s)\\mathrm ds\\big)\\mathrm dt+c_2]$$\n",
    "其中$c_1,c_2$为任意常数，$t_0,t\\in[a,b]$"
   ]
  },
  {
   "cell_type": "markdown",
   "metadata": {},
   "source": [
    "（1）**必要性：**  由$x_1(t),x_2(t)$为方程的解\n",
    "那么$${x_1}^{\\prime\\prime}+a_1(t){x_1}^{\\prime}+a_2(t)x_1=0$$  \n",
    "$${x_2}^{\\prime\\prime}+a_1(t){x_2}^{\\prime}+a_2(t)x_2=0$$  \n",
    "第一式乘以$x_2$减去第二式乘以$x_1$得到$x_1{x_2}^{\\prime\\prime}-x_2{x_1}^{\\prime\\prime}+a_1x_1{x_2}^{\\prime}-a_1x_2{x_1}^{\\prime}=0$ \n",
    "\n",
    "即$$\n",
    "x_1{x_2}^{\\prime\\prime}+{x_1}^{\\prime}{x_2}^{\\prime}-x_2{x_1}^{\\prime\\prime}-{x_1}^{\\prime}{x_2}^{\\prime}+a_1(x_1{x_2}^{\\prime}-x_2{x_1}^{\\prime})\n",
    "$$\n",
    "$$\\begin{aligned}\n",
    "&=(x_1{x_2}^{\\prime}-{x_1}^{\\prime}x_2)^{\\prime}+a_1(x_1{x_2}^{\\prime}-x_2{x_1}^{\\prime})\\\\&=W^{\\prime}[x_1,x_2]+a_1W[x_1,x_2]\\\\&=0\n",
    "\\end{aligned}$$\n",
    "**充分性：**由$$W^{\\prime}[x_1,x_2]+a_1W[x_1,x_2]=(x_1{x_2}^{\\prime}-{x_1}^{\\prime}x_2)^{\\prime}+a_1(x_1{x_2}^{\\prime}-x_2{x_1}^{\\prime})=0$$\n",
    "得到$$x_1{x_2}^{\\prime\\prime}+{x_1}^{\\prime}{x_2}^{\\prime}-x_2{x_1}^{\\prime\\prime}-{x_1}^{\\prime}{x_2}^{\\prime}+a_1(x_1{x_2}^{\\prime}-x_2{x_1}^{\\prime})=x_1{x_2}^{\\prime\\prime}-x_2{x_1}^{\\prime\\prime}+a_1x_1{x_2}^{\\prime}-a_1x_2{x_1}^{\\prime}=x_1({x_2}^{\\prime\\prime}+a_1{x_1}^{\\prime})-x_2({x_1}^{\\prime\\prime}+a_1{x_1}^{\\prime})=0\n",
    "$$\n",
    "即$$x_1({x_2}^{\\prime\\prime}+a_1{x_1}^{\\prime})=x_2({x_1}^{\\prime\\prime}+a_1{x_1}^{\\prime})=x_2(-a_2x_1)$$\n",
    "将上式中的$x_1$约掉\n",
    "\n",
    "即得$${x_2}^{\\prime\\prime}+a_1(t){x_2}^{\\prime}+a_2(t)x_2=0$$\n"
   ]
  },
  {
   "cell_type": "markdown",
   "metadata": {
    "collapsed": true
   },
   "source": [
    "(2)   令$$g(t)=\\int \\frac{1}{{x_1}^2}e^{-\\int_{t_0}^t a_1(s)\\mathrm ds}\\mathrm dt ,$$ $$x_2=x_1g(t)$$\n",
    "那么$${x_2}^{\\prime}={x_1}^{\\prime}g(t)+x_1g^{\\prime}(t)$$\n",
    "$$g^{\\prime}(t)=\\frac{1}{{x_1}^2}e^{-\\int_{t_0}^t a_1(s)\\mathrm ds}$$\n",
    "且$$g^{\\prime\\prime}(t)=-2\\frac{{x_1}^{\\prime}}{{x_1}^3}e^{-\\int_{t_0}^t a_1(s)\\mathrm ds}-a_1\\frac{1}{{x_1}^2}e^{-\\int_{t_0}^t a_1(s)\\mathrm ds}=-2\\frac{{x_1}^{\\prime}}{x_1}g^{\\prime}(t)-a_1g^{\\prime}(t)$$\n",
    "又$$W[x_1,x_2]=\\begin{vmatrix}\n",
    "x_1&x_2\\\\\n",
    "{x_1}^{\\prime}&{x_2}^{\\prime}\n",
    "\\end{vmatrix}=\\begin{vmatrix}\n",
    "x_1&x_1g(t)\\\\\n",
    "{x_1}^{\\prime}&{x_1}^{\\prime}g(t)+x_1g^{\\prime}(t)\n",
    "\\end{vmatrix}={x_1}^2g^{\\prime}(t)$$\n",
    "因为$x_1,g^{\\prime}(t)\\neq0$,所以$W[x_1,x_2]\\neq0$,也即$x_1,x_2$线性无关\n",
    "\n",
    "且$$W^{\\prime}[x_1,x_2]=2x_1{x_1}^{\\prime}g^{\\prime}(t)+{x_1}^2g^{\\prime\\prime}(t)=2x_1{x_1}^{\\prime}g^{\\prime}(t)+{x_1}^2\\big(-2\\frac{{x_1}^{\\prime}}{x_1}g^{\\prime}(t)-a_1g^{\\prime}(t)\\big)=-{x_1}^2a_1g^{\\prime}(t)$$\n",
    "因此，$$W^{\\prime}[x_1,x_2]+a_1W[x_1,x_2]=-{x_1}^2a_1g^{\\prime}(t)+a_1{x_1}^2g^{\\prime}(t)=0$$\n",
    "$\\therefore$   $x_2$是方程的解，又因为$x_1,x_2$线性无关，所以\n",
    "方程的通解可表为$$x=c_1x_2+c_2x_1=x_1[c_1\\int \\frac{1}{{x_1}^2}exp\\big(-\\int_{t_0}^t a_1(s)\\mathrm ds\\big)\\mathrm dt+c_2]$$\n",
    "其中$c_1,c_2$为任意常数，$t_0,t\\in[a,b]$"
   ]
  },
  {
   "cell_type": "markdown",
   "metadata": {
    "collapsed": true
   },
   "source": [
    "$A$"
   ]
  },
  {
   "cell_type": "code",
   "execution_count": null,
   "metadata": {
    "collapsed": true
   },
   "outputs": [],
   "source": []
  }
 ],
 "metadata": {
  "kernelspec": {
   "display_name": "SageMath 7.3",
   "language": "",
   "name": "sagemath"
  },
  "language_info": {
   "codemirror_mode": {
    "name": "ipython",
    "version": 2
   },
   "file_extension": ".py",
   "mimetype": "text/x-python",
   "name": "python",
   "nbconvert_exporter": "python",
   "pygments_lexer": "ipython2",
   "version": "2.7.10"
  }
 },
 "nbformat": 4,
 "nbformat_minor": 0
}
