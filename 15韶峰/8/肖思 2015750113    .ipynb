{
 "cells": [
  {
   "cell_type": "markdown",
   "metadata": {},
   "source": [
    "# 10.17"
   ]
  },
  {
   "cell_type": "markdown",
   "metadata": {},
   "source": [
    "** 1.设 $ x(t) $ 和 $ y(t) $ 是区间 $ a \\leq t \\leq b $ 上的连续函数,证明:如果在区间 $ a \\leq t \\leq b $ 上有 $ \\frac {x(t)}{y(t)} \\neq $  常数或 $ \\frac{y(t)}{x(t)} \\neq $ 常数,则 $ x(t) $ 和 $ y(t) $ 在区间 $ a \\leq t \\leq b $ 上线性无关.(提示:用反证法.)** "
   ]
  },
  {
   "cell_type": "markdown",
   "metadata": {},
   "source": [
    "**证明:** 假设$ x(t) $ 和 $ y(t) $ 在区间 $ a \\leq t \\leq b $ 上线性相关\n",
    "\n",
    "则存在不全为零的两个数 $ m ,n $ 使得 $ m x(t) + n y(t) = 0 $\n",
    "\n",
    "不失一般性,不妨设 $ x(t) \\neq 0 $ ,则有 $ \\frac{y(t)}{x(t)} = - \\frac{m}{n} $ \n",
    "\n",
    "显然 $ - \\frac{m}{n} $ 是一个常数,与已知条件相矛盾,所以 $ x(t) $ 和 $ y(t) $ 在区间 $ a \\leq t \\leq b $ 上线性无关."
   ]
  },
  {
   "cell_type": "markdown",
   "metadata": {},
   "source": [
    "** 2.证明非齐次线性微分方程的叠加原理:设 $ x_1(t) $ 和 $ x_2(t) $ 分别是非齐次线性微分方程 **\n",
    "\n",
    "$$ \\frac{ \\mathrm d^n x}{\\mathrm d t^n} + a_1(t) \\frac{\\mathrm d^{n-1} x}{\\mathrm d t^{n-1}} + \\dots + a_n(t) x = f_1(t)  \\quad  (1)$$\n",
    "\n",
    "$$ \\frac{ \\mathrm d^n x}{\\mathrm d t^n} + a_1(t) \\frac{\\mathrm d^{n-1} x}{\\mathrm d t^{n-1}} + \\dots + a_n(t) x = f_2(t)  \\quad  (2)$$\n",
    "\n",
    "** 的解,则 $ x_1(t) + x_2(t) $ 是方程**\n",
    "\n",
    "$$ \\frac{ \\mathrm d^n x}{\\mathrm d t^n} + a_1(t) \\frac{\\mathrm d^{n-1} x}{\\mathrm d t^{n-1}} + \\dots + a_n(t) x = f_1(t) + f_2(t) $$\n",
    "\n",
    "** 的解.**"
   ]
  },
  {
   "cell_type": "markdown",
   "metadata": {},
   "source": [
    "**证明:** 由题意可知 $ x_1(t) $ 和 $ x_2(t) $ 分别是方程 $(1),(2)$ 的解,\n",
    "\n",
    "代入可知\n",
    "\n",
    "$$ \\frac{ \\mathrm d^n x_1(t)}{\\mathrm d t^n} + a_1(t) \\frac{\\mathrm d^{n-1} x_1(t)}{\\mathrm d t^{n-1}} + \\dots + a_n(t) x_1(t) = f_1(t)  \\quad  (3)$$\n",
    "\n",
    "$$ \\frac{ \\mathrm d^n x_2(t)}{\\mathrm d t^n} + a_1(t) \\frac{\\mathrm d^{n-1} x_2(t)}{\\mathrm d t^{n-1}} + \\dots + a_n(t) x_2(t) = f_1(t)  \\quad  (4)$$\n",
    "\n",
    "将 $ (3) ,(4) $ 相加即可得到\n",
    "\n",
    "$$ \\frac{ \\mathrm d^n (x_1(t) + x_2(t))}{\\mathrm d t^n} + a_1(t) \\frac{\\mathrm d^{n-1} (x_1(t) + x_2(t))}{\\mathrm d t^{n-1}} + \\dots + a_n(t) (x_1(t) + x_2(t)) = f_1(t) + f_2(t) \\quad  $$\n",
    "\n",
    "即$ x_1(t) + x_2(t) $ 是方程\n",
    "\n",
    "$$ \\frac{ \\mathrm d^n x}{\\mathrm d t^n} + a_1(t) \\frac{\\mathrm d^{n-1} x}{\\mathrm d t^{n-1}} + \\dots + a_n(t) x = f_1(t) + f_2(t) $$\n",
    "\n",
    " 的解."
   ]
  },
  {
   "cell_type": "markdown",
   "metadata": {},
   "source": [
    "# 10.19\n"
   ]
  },
  {
   "cell_type": "markdown",
   "metadata": {},
   "source": [
    "** 1.已知齐次线性微分方程的基本解组 $ x_1 ,x_2 $ ,求下列方程对应的非齐次线性微分方程的通解:**\n",
    "\n",
    "$ (1) x'' - x = \\cos t ,x_1 = e^t ,x_2 = e^{-t} ;$\n",
    "\n",
    "$ (2) x'' + 4x = t \\sin 2t , x_1 = \\cos 2t ,x_2 = \\sin 2t ;$\n",
    "\n",
    "$ (3) t^2 x'' - t x' + x = 6t +34 t^2 ,x_1 = t , x_2 = t \\ln t .$"
   ]
  },
  {
   "cell_type": "markdown",
   "metadata": {},
   "source": [
    "**解:** (1)应用常数变易法,令\n",
    "\n",
    "$$ x = c_1(t) e^t + c_2(t) e^{-t} $$\n",
    "\n",
    "将它代入方程,则可得到决定 $ c^\\prime (t) ,c^\\prime (t) $ 的两个方程\n",
    "\n",
    "$$\\begin{cases} \n",
    "c_1^\\prime(t) e^t + c_2^\\prime (t) e^{-t} = 0 \\\\\n",
    "c_1^\\prime(t) e^t - c_2^\\prime (t) e^{-t} = \\cos t \n",
    "\\end{cases}$$\n",
    "\n",
    "解得:$$\\begin{cases}\n",
    "c_1^\\prime(t) = \\frac{1}{2} e^{-t} \\cos t \\\\\n",
    "c_2^\\prime(t) = - \\frac{1}{2} e^t \\cos t\n",
    "\\end{cases}$$\n",
    "\n",
    "由此可知\n",
    "$$\\begin{cases}\n",
    "c_1(t) = -\\frac{1}{4} e^{-t} (\\cos t - \\sin t ) + c_1 \\\\\n",
    "c_2(t) = -\\frac{1}{4} e^t (\\cos t + \\sin t) +c_2\n",
    "\\end{cases}$$\n",
    "\n",
    "所以通解为 $$ x(t) = c_1 e^t + c_2 e^{-t} - \\frac{1}{2} \\cos t $$\n",
    "\n"
   ]
  },
  {
   "cell_type": "markdown",
   "metadata": {},
   "source": [
    "(2)应用常数变易法,令\n",
    "\n",
    "$$ x = c_1(t) \\cos 2t + c_2(t) \\sin 2t $$\n",
    "\n",
    "将它代入方程,则可得到决定 $ c^\\prime (t) ,c^\\prime (t) $ 的两个方程\n",
    "\n",
    "$$\\begin{cases}\n",
    "c_1^\\prime (t) \\cos 2t + c_2^\\prime (t) \\sin 2t = 0 \\\\\n",
    "-2 c_1^\\prime (t) \\sin 2t + 2 c_2^\\prime (t) \\cos 2t = t \\sin 2t \n",
    "\\end{cases}$$\n",
    "\n",
    "\n",
    "\n"
   ]
  },
  {
   "cell_type": "markdown",
   "metadata": {},
   "source": [
    "解得:\n",
    "\n",
    "$$\\begin{cases}\n",
    "c_1^\\prime (t) = \\frac{1}{4} t (\\cos 4t - 1)  \\\\\n",
    "c_2^\\prime (t) = \\frac{1}{4} t \\sin 4t  \n",
    "\\end{cases}$$"
   ]
  },
  {
   "cell_type": "markdown",
   "metadata": {},
   "source": [
    "所以可知\n",
    "\n",
    "$$\\begin{cases}\n",
    "c_1(t) = \\frac{1}{16} t \\sin 4t + \\frac{1}{64} \\cos 4t - \\frac{1}{8} t^2 + c_1 \\\\\n",
    "c_2(t) = \\frac{1}{64} \\sin 4t - \\frac{1}{16} t \\cos 4t + c_2\n",
    "\\end{cases}$$"
   ]
  },
  {
   "cell_type": "markdown",
   "metadata": {},
   "source": [
    "通解为\n",
    "\n",
    "$$ x = c_1 \\cos 2t + c_2 \\sin 2t - \\frac{1}{8} t^2 \\cos 2t + \\frac{1}{64} \\cos 2t - \\frac{1}{16} t \\sin 2t $$"
   ]
  },
  {
   "cell_type": "markdown",
   "metadata": {},
   "source": [
    "(3))应用常数变易法,令\n",
    "\n",
    "$$ x = c_1(t) t + c_2(t) t \\ln t $$\n",
    "\n",
    "将它代入方程,则可得到决定 $ c^\\prime (t) ,c^\\prime (t) $ 的两个方程\n",
    "\n",
    "$$\\begin{cases}\n",
    "c_1^\\prime (t) t + c_2^\\prime (t) t \\ln t = 0 \\\\\n",
    "c_1^\\prime (t) +  c_2^\\prime (t) ( \\ln t + 1 ) = \\frac{6}{t} + 34   \n",
    "\\end{cases}$$\n"
   ]
  },
  {
   "cell_type": "markdown",
   "metadata": {},
   "source": [
    "由此可知\n",
    "\n",
    "$$ \\begin{cases}\n",
    "c_1^\\prime (t) = - (\\frac{6}{t} + 34)\\ln t\\\\\n",
    "c_2^\\prime (t) = \\frac{6}{t} + 34\n",
    "\\end {cases}$$"
   ]
  },
  {
   "cell_type": "markdown",
   "metadata": {},
   "source": [
    "所以可知:\n",
    "\n",
    "$$\\begin{cases}\n",
    "c_1(t) = -34 (t \\ln t - t) -3 (\\ln t)^2 + c_1 \\\\\n",
    "c_2(t) = 34 t + 6 \\ln t + c_2\n",
    "\\end {cases}$$"
   ]
  },
  {
   "cell_type": "markdown",
   "metadata": {},
   "source": [
    "通解为\n",
    "$$ x = c_1 t + c_2 t \\ln t + 34 t^2 + 3t(\\ln t)^2 $$"
   ]
  },
  {
   "cell_type": "markdown",
   "metadata": {},
   "source": [
    "** 假设 $x_1(t) \\neq 0 $ 是二阶齐次微分方程 **\n",
    "\n",
    "$$ x'' + a_1(t) x' + a_2(t) x = 0 $$\n",
    "\n",
    "** 的解,这里 $ a_1(x) ,a_2(x) $在区间 $[a,b]$上连续,试证:**\n",
    "\n",
    "**(1) x_2(t) 为方程的解的充要条件是**\n",
    "\n",
    "$$ W^\\prime [x_1,x_2] + a_1 W[x_1,x_2] = 0 ;$$\n",
    "\n",
    "**(2)方程的通解可表示为**\n",
    "\n",
    "$$ x = x_1[ c_1 \\int \\frac{1}{x_1^2} e^{-\\int_{t_0}^t a_1(s) \\mathrm d s}\\mathrm d t + c_2] $$\n",
    "\n",
    "** 其中 $c_1,c_2$ 为任意常数,$t_0,t_1 \\in [a,b]$ .**"
   ]
  },
  {
   "cell_type": "markdown",
   "metadata": {},
   "source": [
    "**证明:** (1) \n",
    "$$ \\begin{aligned}\n",
    "& W^\\prime [x_1,x_2] + a_1 W [x_1,x_2] = 0 \\\\\n",
    "& \\iff x_1 x_2'' -x_1'' x_2 + a_1 x_1' x_2 = 0 \\\\\n",
    "& \\iff x_1 x_2'' -x_1'' x_2 + a_1 x_1' x_2 + a_2 x_1 x_2 - a_2 x_1 x_2 = 0 \\\\\n",
    "& \\iff x_1 (x_2'' + a_1 x_2' + a_2 x_2) = 0 \\\\\n",
    "& \\iff x_2'' + a_1 x_2' + a_2 x_2 = 0 \\quad (x_1 \\neq 0) \n",
    "\\end{aligned}$$\n",
    "\n",
    "即x_2(t) 为方程的解"
   ]
  },
  {
   "cell_type": "markdown",
   "metadata": {},
   "source": [
    "(2) 因为$x_1,x_2$为方程的解,又刘维尔公式为:\n",
    "\n",
    "$$ \\begin{vmatrix}\n",
    "x_1 & x_2 \\\\\n",
    "x_1' & x-2' \n",
    "\\end{vmatrix}  = W(t_0)e^{ -\\int_{t_0}^t a_1(s) \\mathrm d s }\n",
    "$$\n",
    "\n",
    "即 $ x_1 x_2' - x_1' x_2 = W(t_0)e^{ -\\int_{t_0}^t a_1(s) \\mathrm d s }  $"
   ]
  },
  {
   "cell_type": "markdown",
   "metadata": {},
   "source": [
    "两边乘以$\\frac{1}{x_1}$则有 $\\frac{\\mathrm d (\\frac{x_2}{x_1}) } {\\mathrm d z}  =  \\frac{W (t_0)}{(x_1)^2} e^{-\\int_{t_0}^t a_1(s)\\mathrm d s} $\n",
    "\n",
    "即$\\frac{x_2}{x_1} = c_1 \\int {-\\frac{1}{x_1^2} e^{-\\int_{t_0}^{t} a_1(s) \\mathrm d s} \\mathrm d t} + c_2 $\n",
    "\n",
    "则有 $$ x_2 = (c_1 \\int {-\\frac{1}{x_1^2} e^{-\\int_{t_0}^{t} a_1(s) \\mathrm d s} \\mathrm d t} + c_2 ) x_1 $$"
   ]
  },
  {
   "cell_type": "markdown",
   "metadata": {},
   "source": [
    " 取 $ c_1 = 1 ,c_2 = 0 $,得到\n",
    " \n",
    " $$ x_2 = x_1  \\int {-\\frac{1}{x_1^2} e^{-\\int_{t_0}^{t} a_1(s) \\mathrm d s} \\mathrm d t} $$"
   ]
  },
  {
   "cell_type": "markdown",
   "metadata": {},
   "source": [
    "又因为 $$ W(t) =\n",
    "\\begin{vmatrix}\n",
    "x_1 & x_2 \\\\\n",
    "x_1' & x-2' \n",
    "\\end{vmatrix}  = e^{-\\int_{t_0}^{t} a_1(s) \\mathrm d s}  \\neq 0 $$ "
   ]
  },
  {
   "cell_type": "markdown",
   "metadata": {},
   "source": [
    "所以通解可以表示为\n",
    "\n",
    "$$ x = x_1[ c_1 \\int \\frac{1}{x_1^2} e^{-\\int_{t_0}^t a_1(s) \\mathrm d s}\\mathrm d t + c_2] $$\n",
    "\n",
    "其中 $c_1,c_2$ 为任意常数,$t_0,t_1 \\in [a,b]$ "
   ]
  },
  {
   "cell_type": "markdown",
   "metadata": {
    "collapsed": true
   },
   "source": [
    "$A^+$"
   ]
  },
  {
   "cell_type": "code",
   "execution_count": null,
   "metadata": {
    "collapsed": true
   },
   "outputs": [],
   "source": []
  }
 ],
 "metadata": {
  "kernelspec": {
   "display_name": "SageMath 7.3",
   "language": "",
   "name": "sagemath"
  },
  "language_info": {
   "codemirror_mode": {
    "name": "ipython",
    "version": 2
   },
   "file_extension": ".py",
   "mimetype": "text/x-python",
   "name": "python",
   "nbconvert_exporter": "python",
   "pygments_lexer": "ipython2",
   "version": "2.7.10"
  }
 },
 "nbformat": 4,
 "nbformat_minor": 0
}
