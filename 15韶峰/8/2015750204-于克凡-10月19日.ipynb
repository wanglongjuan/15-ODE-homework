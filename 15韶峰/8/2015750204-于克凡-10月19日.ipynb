{
 "cells": [
  {
   "cell_type": "markdown",
   "metadata": {
    "collapsed": true
   },
   "source": [
    "# 习题4.1"
   ]
  },
  {
   "cell_type": "markdown",
   "metadata": {},
   "source": [
    "## 题一："
   ]
  },
  {
   "cell_type": "markdown",
   "metadata": {},
   "source": [
    "解：假设$x(t),y(t)$线性相关$\\implies$存在不全为零的$c_1,c_2$使$c_1x(t)+c_2y(t)=0$使$c_1x(t)+c_2y(t)=0$在$t\\in[a,b]$上恒成立\n",
    "\n",
    "不妨设$c_1\\neq 0$,则必有$x(t)=-\\frac{c_2y(t)}{c_1}$与题目条件矛盾$implies$原命题成立"
   ]
  },
  {
   "cell_type": "markdown",
   "metadata": {},
   "source": [
    "## 题二：证明非齐次线性方程解的叠加原理"
   ]
  },
  {
   "cell_type": "markdown",
   "metadata": {},
   "source": [
    "解：已知$\\frac{d^{n}x_1(t)}{dt^{n}}+a_1(t)\\frac{d^{n-1}x_1(t)}{dt^{n-1}}+\\cdots\\cdots+a_n(t)x_1(t)=f_1(t)$\n",
    "\n",
    "$\\frac{d^{n}x_2(t)}{dt^{n}}+a_1(t)\\frac{d^{n-1}x_2(t)}{dt^{n-1}}+\\cdots\\cdots+a_n(t)x_2(t)=f_2(t)$\n",
    "\n",
    "由求$n$阶导数的线性性质，成立\n",
    "\n",
    "$\\frac{d^{n}x_1(t)+x_2(t)}{dt^{n}}+a_1(t)\\frac{d^{n-1}x_1(t)+x_2(t)}{dt^{n-1}}+\\cdots\\cdots+a_n(t)(x_1(t)+x_2(t))=f_1(t)+f_2(t)$\n",
    "\n",
    "所以得证"
   ]
  },
  {
   "cell_type": "markdown",
   "metadata": {},
   "source": [
    "## 题三："
   ]
  },
  {
   "cell_type": "markdown",
   "metadata": {},
   "source": [
    "### (1)$\\frac{d^2x}{dt^2}-x=\\cos t,x_1=e^t,x_2=e^{-t}$"
   ]
  },
  {
   "cell_type": "markdown",
   "metadata": {},
   "source": [
    "解：设此方程通解为$x=c_1e^t+c_2e^{-t}$,逐次微分此通解\n",
    "\n",
    "$\\begin{cases}c_1\\prime(t) e^{t}+c_2\\prime(t) e^{-t}=0\n",
    "\\\\c_1\\prime(t) e^t-c_2\\prime(t) e^{-t}=0     \\end{cases}$\n",
    "\n",
    "解得\n",
    "$\\begin{cases}c_1\\prime(t)=-\\frac{e^{t}\\cos t}{2}\n",
    "\\\\c_2\\prime(t)=\\frac{\\cos t}{2e^t}\\end{cases}$\n",
    "\n",
    "∴其通解为$x=ae^t+be^{-t}+e^{t}\\int_0^t -\\frac{e^{s}\\cos s}{2}ds+e^{-t}\\int_0^t\\frac{\\cos s}{2e^s}ds$(a,b为任意常数)"
   ]
  },
  {
   "cell_type": "markdown",
   "metadata": {},
   "source": [
    "### (3)$\\frac{dx^2}{dt^2}+4x=t\\sin 2t,x_1=\\cos 2t,x_2=\\sin 2t$"
   ]
  },
  {
   "cell_type": "markdown",
   "metadata": {},
   "source": [
    "解：设此方程通解为$x=c_1(t)\\cos 2t+c_2(t)\\sin 2t$,逐次微分此通解\n",
    "\n",
    "$\\begin{cases} c_1\\prime(t)\\cos 2t+c_2\\prime(t)\\sin 2t=0\n",
    "\\\\-c_1\\prime(t)\\sin 2t +c_2\\prime(t)\\cos 2t=\\frac{t\\sin 2t}{2}\\end{cases}$\n",
    "\n",
    "解得\n",
    "$\\begin{cases}c_1\\prime(t)=\\frac{t\\sin 4t\\tan 2t}{4}\n",
    "\\\\c_2\\prime(t)=-\\frac{t\\sin 4t}{4}\\end{cases}$\n",
    "\n",
    "∴其通解为$x=a\\cos 2t+b\\sin 2t+\\cos 2t\\int_0^t \\frac{s\\sin 4s\\tan 2s}{4}ds-\\sin 2t\\int_0^t\\frac{s\\sin 4s}{4}ds$(a,b为任意常数)"
   ]
  },
  {
   "cell_type": "markdown",
   "metadata": {},
   "source": [
    "懒"
   ]
  },
  {
   "cell_type": "markdown",
   "metadata": {},
   "source": [
    "### (5)$t^2\\frac{d^2x}{dt^2}-t\\frac{dx}{dt}+x=6t+34t^2,x_1=t,x_2=t\\ln t$"
   ]
  },
  {
   "cell_type": "markdown",
   "metadata": {},
   "source": [
    "解：设此方程通解为$x=c_1(t)t+c_2(t)t\\ln t$,逐次微分此通解\n",
    "\n",
    "$\\begin{cases}c_1\\prime(t)t+c_2\\prime(t)t\\ln t=0\n",
    "\\\\tc_1\\prime(t)+tc_2\\prime(t)(\\ln t+1)=6+34t\\end{cases}$\n",
    "\n",
    "\n",
    "解得\n",
    "$\\begin{cases}c_1\\prime(t)=-(\\frac{6}{t}+34)\\ln t\n",
    "\\\\c_2\\prime(t)=\\frac{6}{t}+34\\end{cases}$\n",
    "\n",
    "∴其通解为$x=at+bt\\ln t-t\\int_0^t (\\frac{6}{s}+34)\\ln sds+t\\ln t\\int_0^t\\frac{6}{s}+34ds$(a,b为任意常数)"
   ]
  },
  {
   "cell_type": "markdown",
   "metadata": {},
   "source": [
    "## 题六："
   ]
  },
  {
   "cell_type": "markdown",
   "metadata": {},
   "source": [
    "(1)证明\n",
    "\n",
    "$因为x_1是微分方程的解$\n",
    "\n",
    "$所以x''_1+a_1(t)x'_1+a_2(t)x_1=0$\n",
    "\n",
    "$所以x''_1+a_1(t)x'_1=-a_2(t)x_1$\n",
    "\n",
    "$W'[x_1,x_2]+a_1W[x_1,x_2]=0 \\Leftrightarrow   \n",
    "\\begin{vmatrix}\n",
    "x_1 & x_2\\\\\n",
    "x_1''& x_2''\n",
    "\\end{vmatrix}+a_1\n",
    "\\begin{vmatrix}\n",
    "x_1 & x_2\\\\\n",
    "x_1'& x_2'\n",
    "\\end{vmatrix}=0  \\Leftrightarrow  \n",
    "\\begin{vmatrix}\n",
    "x_1 & x_2\\\\\n",
    "x_1''+a_1x'& x_2''+a_1x_2'\n",
    "\\end{vmatrix}=0   \\Leftrightarrow  \n",
    "\\begin{vmatrix}\n",
    "x_1 & x_2\\\\\n",
    "-a_2x_1 &x_2''+a_1x_2'\n",
    "\\end{vmatrix}=0$\n",
    "\n",
    "$当x_2是方程的解时，x_2''+a_1x_2'=-a_2x_2$\n",
    "\n",
    "\n",
    "$W'[x_1,x_2]+a_1W[x_1,x_2]=\n",
    "\\begin{vmatrix}\n",
    "x_1 & x_2\\\\\n",
    "-a_2x_1 &x_2''+a_1x_2'\n",
    "\\end{vmatrix}=\\begin{vmatrix}\n",
    "x_1 & x_2\\\\\n",
    "-a_2x_1 &-a_2x_2\n",
    "\\end{vmatrix}=0$\n",
    "\n",
    "$当W'[x_1,x_2]+a_1W[x_1,x_2]=\n",
    "\\begin{vmatrix}\n",
    "x_1 & x_2\\\\\n",
    "-a_2x_1 &x_2''+a_1x_2'\n",
    "\\end{vmatrix}=0时$\n",
    "\n",
    "$x_1x_2''+a_1x_1x_2'+a_2x_1x_2=0$\n",
    "\n",
    "$所以x_2''+a_1x_2'+a_2x_2=0$\n",
    "\n",
    "$所以x_2是方程的解$"
   ]
  },
  {
   "cell_type": "markdown",
   "metadata": {
    "collapsed": true
   },
   "source": [
    "$设x_2(t)与x_1(t)构成微分方程的基本解组$\n",
    "\n",
    "$由第5题结论W(t)=W(t_0)e^{-\\int_{t_0}^t a_1(s)ds}t_0$\n",
    "\n",
    "$即\\begin{vmatrix}\n",
    "x_1&x_2\\\\\n",
    "x'_1&x'_2\n",
    "\\end{vmatrix}=t_0W(t_0)e^{-\\int_{t_0}^t a_1(s)ds} $\n",
    "\n",
    "$等式两边同时除以x^2_1得$\n",
    "\n",
    "$\\frac{x'_2}{x_1}-\\frac{x'_1x_2}{x^2_1}=t_0W(t_0)  \\frac{e^{-\\int_{t_0}^t a_1(s)ds} }{x^2_1}$\n",
    "\n",
    "$(\\frac{x_2}{x_1})'=t_0W(t_0)  \\frac{e^{-\\int_{t_0}^t a_1(s)ds} }{x^2_1}$\n",
    "\n",
    "$等式两边同时积分得\\frac{x_2}{x_1}=t_0W(t_0)\\int \\frac{e^{-\\int_{t_0}^t a_1(s)ds} }{x^2_1} dt+c$\n",
    "\n",
    "$所以x_2=x_1t_0W(t_0)\\int \\frac{e^{-\\int_{t_0}^t a_1(s)ds} }{x^2_1} dt+cx_1$\n",
    "\n",
    "$所以方程的通解为可表为x=x_1[c_1\\int \\frac{1}{x^2}exp(-\\int_{t_0}^t a_1(s)ds)dt+c_2]$"
   ]
  },
  {
   "cell_type": "markdown",
   "metadata": {
    "collapsed": true
   },
   "source": [
    "$B^+$"
   ]
  },
  {
   "cell_type": "code",
   "execution_count": null,
   "metadata": {
    "collapsed": true
   },
   "outputs": [],
   "source": []
  }
 ],
 "metadata": {
  "kernelspec": {
   "display_name": "SageMath 7.3",
   "language": "",
   "name": "sagemath"
  },
  "language_info": {
   "codemirror_mode": {
    "name": "ipython",
    "version": 2
   },
   "file_extension": ".py",
   "mimetype": "text/x-python",
   "name": "python",
   "nbconvert_exporter": "python",
   "pygments_lexer": "ipython2",
   "version": "2.7.10"
  }
 },
 "nbformat": 4,
 "nbformat_minor": 0
}
