{
 "cells": [
  {
   "cell_type": "markdown",
   "metadata": {},
   "source": [
    "## 习题4.1 ##"
   ]
  },
  {
   "cell_type": "markdown",
   "metadata": {},
   "source": [
    "1.证明：\n",
    "\n",
    "假设$x(t)和y(t)在区间a\\leq t\\leq b$上线性相关，则存在不全为0的常数$c_1,c_2$使得\n",
    "$$c_1x(t)+c_2y(t)\\equiv 0，a\\leq t\\leq b$$\n",
    "不妨设$c_1\\neq 0$,则\n",
    "$$\\frac{x(t)}{y(t)}\\equiv -\\frac{c_2}{c_1},a\\leq t\\leq b$$\n",
    "这与$\\frac{x(t)}{y(t)}\\neq 常数矛盾$\n",
    "\n",
    "所以$x(t)和y(t)在区间a\\leq t\\leq b$上线性相关"
   ]
  },
  {
   "cell_type": "markdown",
   "metadata": {},
   "source": [
    "2.证明：\n",
    "\n",
    "由题意可得$$\\frac{\\mathrm d^n x_1(t)}{\\mathrm d t^n}+a_1(t)\\frac{\\mathrm d^{n-1} x_1(t)}{\\mathrm d t^{n-1}}+\\cdots+a_n(t)x_1(t)=f_1(t),$$\n",
    "$$\\frac{\\mathrm d^n x_2(t)}{\\mathrm d t^n}+a_1(t)\\frac{\\mathrm d^{n-1} x_2(t)}{\\mathrm d t^{n-1}}+\\cdots+a_n(t)x_2(t)=f_2(t)$$\n",
    "以上两式相加可得\n",
    "$$\\frac{\\mathrm d^n [x_1(t)+x_2(t)]}{\\mathrm d t^n}+a_1(t)\\frac{\\mathrm d^{n-1} [x_1(t)+x_2(t)]}{\\mathrm d t^{n-1}}+\\cdots+a_n(t)[x_1(t)+x_2(t)]=f_1(t)+f_2(t)$$\n",
    "命题得证"
   ]
  },
  {
   "cell_type": "markdown",
   "metadata": {},
   "source": [
    "3.(1)解：应用常数变易法，令\n",
    "$$x=c_1(t)\\mathrm e^t+c_2(t)\\mathrm e^{-t}$$\n",
    "将它代入方程，可得决定$c_1'(t)和c_2'(t)$的两个方程.\n",
    "$$\\mathrm e^tc_1'(t)+e^{-t}c_2'(t)=0$$\n",
    "$$\\mathrm e^tc_1'(t)-e^{-t}c_2'(t)=\\cos t$$\n",
    "解得:$$c_1'(t)=\\frac{e^{-t}\\cos t }{2},c_2'(t)=-\\frac{e^t\\cos t}{2}$$\n",
    "因此$$c_1(t)=\\frac{(\\sin t-\\cos t)\\mathrm e^{-t}}{4}+\\gamma_1,c_2(t)=-\\frac{(\\sin t+\\cos t)\\mathrm e^{t}}{4}+\\gamma_2$$\n",
    "所以原方程的通解为$$x=\\gamma_1\\mathrm e^t+\\gamma_2\\mathrm e^{-t}-\\frac{\\cos t}{2}$$其中$\\gamma_1,\\gamma_2$为任意常数"
   ]
  },
  {
   "cell_type": "markdown",
   "metadata": {},
   "source": [
    "(3)解：应用常数变易法，令\n",
    "$$x=c_1(t)\\cos 2t+c_2(t)\\sin 2t$$\n",
    "将它代入方程，可得决定$c_1'(t)和c_2'(t)$的两个方程.\n",
    "$$\\cos{2t} c_1'(t)+\\sin{2t} c_2'(t)=0$$\n",
    "$$-2\\sin{2t} c_1'(t)+2\\cos{2t} c_2'(t)=t\\sin 2t$$\n",
    "解得$$c_1'(t)=-\\frac{t\\sin^2 2t}{2},c_2'(t)=\\frac{t\\sin 2t\\cos 2t}{2}$$\n",
    "因此$$c_1(t)=-\\frac{t^2}{8}+\\frac{t\\sin 4t}{16}+\\frac{\\cos 4t}{64}+\\gamma_1$$\n",
    "$$c_2(t)=-\\frac{t\\cos 4t}{16}+\\frac{\\sin 4t}{64}+\\gamma_2$$\n",
    "所以原方程的通解为$$x=\\gamma_1\\cos 2t+\\gamma_2\\sin 2t+\\frac{t\\sin 2t}{16}+\\frac{\\cos 2t}{64}-\\frac{t^2\\cos 2t}{8}$$\n",
    "其中$\\gamma_1,\\gamma_2$为任意常数\n",
    "\n",
    "错误"
   ]
  },
  {
   "cell_type": "markdown",
   "metadata": {},
   "source": [
    "(5)解：应用常数变易法，令\n",
    "$$x=c_1(t)t+c_2(t)t\\ln t$$\n",
    "将它代入方程，可得决定$c_1'(t)和c_2'(t)$的两个方程.\n",
    "$$tc_1'(t)+t\\ln tc_2'(t)=0$$\n",
    "$$c_1'(t)+(\\ln t +1)c_2'(t)=6t+34t^2$$\n",
    "解得$$c_1'(t)=-(6t+34t^2)\\ln t,c_2'(t)=6t+34t^2$$\n",
    "因此$$c_1(t)=-\\frac{9t^2+34t^3}{3}\\ln t+\\frac{34t^3}{9}+\\frac{3t^2}{2}+\\gamma_1$$\n",
    "$$c_2(t)=3t^2+\\frac{34t^3}{3}+\\gamma_2$$\n",
    "所以原方程的通解为$$x=\\gamma_1t+\\gamma_2t\\ln t+\\frac{34t^4}{9}+\\frac{3t^3}{2}$$\n",
    "其中$\\gamma_1,\\gamma_2$为任意常数\n",
    "\n",
    "错误"
   ]
  },
  {
   "cell_type": "markdown",
   "metadata": {},
   "source": [
    "6.证明：\n",
    "\n",
    "(1)因为$x_1(t)\\neq0$是$x''+a_1(t)x'+a_2(t)x=0$的解\n",
    "\n",
    "所以$x_2(t)$是方程$x''+a_1(t)x'+a_2(t)x=0$的解$$\\iff x_1x_2''+a_1(t)x_1x_2'+a_2(t)x_1x_2=0$$\n",
    "由已知可得$$x_2x_1''+a_1(t)x_2x_1'+a_2(t)x_2x_1=0$$\n",
    "所以$$x_1x_2''+a_1(t)x_1x_2'+a_2(t)x_1x_2=0$$\n",
    "$$\\iff x_1x_2''-x_2x_1''+a_1(x_1x_2'-x_2x_1')=0$$\n",
    "$$\\iff (x_1x_2'-x_2x_1')'+a_1(x_1x_2'-x_2x_1')=0$$\n",
    "$$\\iff W'[x_1,x_2]+a_1W[x_1,x_2]=0$$\n",
    "(2)下面讨论中$t_0,t均\\in [a,b]$\n",
    "\n",
    "可得$$W\\left[x_1\\int\\frac{1}{x_1^2}exp\\left(-\\int_{t_0}^ta_1(s)\\mathrm ds\\right)\\mathrm dt，x_1\\right]=-exp\\left(-\\int_{t_0}^ta_1(s)\\mathrm ds\\right)$$\n",
    "所以$x_1\\int\\frac{1}{x_1^2}exp\\left(-\\int_{t_0}^ta_1(s)\\mathrm ds\\right)\\mathrm dt与x_1$线性无关\n",
    "\n",
    "可得$$W'\\left[x_1\\int\\frac{1}{x_1^2}exp\\left(-\\int_{t_0}^ta_1(s)\\mathrm ds\\right)\\mathrm dt，x_1\\right]=a_1exp\\left(-\\int_{t_0}^ta_1(s)\\mathrm ds\\right)$$\n",
    "所以$$W'\\left[x_1\\int\\frac{1}{x_1^2}exp\\left(-\\int_{t_0}^ta_1(s)\\mathrm ds\\right)\\mathrm dt，x_1\\right]+a_1W\\left[x_1\\int\\frac{1}{x_1^2}exp\\left(-\\int_{t_0}^ta_1(s)\\mathrm ds\\right)\\mathrm dt，x_1\\right]=0$$\n",
    "所以$x_1\\int\\frac{1}{x_1^2}exp\\left(-\\int_{t_0}^ta_1(s)\\mathrm ds\\right)\\mathrm dt，x_1$是方程的基本解组\n",
    "\n",
    "因此方程的通解可以表示为\n",
    "$$x=c_1x_1\\int\\frac{1}{x_1^2}exp\\left(-\\int_{t_0}^ta_1(s)\\mathrm ds\\right)\\mathrm dt+c_2x_1,其中c_1,c_2为任意常数$$\n",
    "即$$x=x_1\\left[c_1\\int\\frac{1}{x_1^2}exp\\left(-\\int_{t_0}^ta_1(s)\\mathrm ds\\right)\\mathrm dt+c_2\\right],其中c_1,c_2为任意常数$$\n"
   ]
  },
  {
   "cell_type": "markdown",
   "metadata": {
    "collapsed": true
   },
   "source": [
    "$B^+$"
   ]
  },
  {
   "cell_type": "code",
   "execution_count": null,
   "metadata": {
    "collapsed": true
   },
   "outputs": [],
   "source": []
  }
 ],
 "metadata": {
  "kernelspec": {
   "display_name": "SageMath 7.3",
   "language": "",
   "name": "sagemath"
  },
  "language_info": {
   "codemirror_mode": {
    "name": "ipython",
    "version": 2
   },
   "file_extension": ".py",
   "mimetype": "text/x-python",
   "name": "python",
   "nbconvert_exporter": "python",
   "pygments_lexer": "ipython2",
   "version": "2.7.10"
  }
 },
 "nbformat": 4,
 "nbformat_minor": 0
}
