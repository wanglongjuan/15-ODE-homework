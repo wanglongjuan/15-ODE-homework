{
 "cells": [
  {
   "cell_type": "markdown",
   "metadata": {},
   "source": [
    "## 姓名：刘笑\n",
    "## 学号：2015750304"
   ]
  },
  {
   "cell_type": "markdown",
   "metadata": {},
   "source": [
    "# $$作业（4）$$"
   ]
  },
  {
   "cell_type": "markdown",
   "metadata": {},
   "source": [
    "##  习题4.1"
   ]
  },
  {
   "cell_type": "markdown",
   "metadata": {},
   "source": [
    "##   1题"
   ]
  },
  {
   "cell_type": "markdown",
   "metadata": {},
   "source": [
    "$**解 **\\\\用反证法证明$\n",
    "\n",
    "假设$x(t)与有y（t）线性相关$\n",
    "\n",
    "即存在两个不为0的常数满足$$c_1 x(t)+c_2y(t)=0$$\n",
    "\n",
    "$$\\frac{x(t)}{y(t)}=-\\frac{c_2}{c_1}为常数与题意相矛盾即假设不成立$$即x(t)与y（t）线性无关"
   ]
  },
  {
   "cell_type": "markdown",
   "metadata": {},
   "source": [
    "##  2题"
   ]
  },
  {
   "cell_type": "markdown",
   "metadata": {},
   "source": [
    "**解**\n",
    "\n",
    "由题意得 $\\\\\\frac{d^n x}{d t^n}+a_1(t)*\\frac{d^{n-1} x}{d t^n}+\\dots+a_n(t)x=f_1(t)\\dots *1\\\\ \\frac{d^n x}{d t^n}+a_1(t)*\\frac{d^{n-1} x}{d t^{n-1}}+\\dots+a_n(t)x=f_2(t)\\dots *2$\n",
    "\n",
    "$\\frac{d^n (x_1(t)+x_2(t))}{d t^n}+a_1（t）\\frac{d^{n-1}( x_1(t)+x_2(t))}{d t^{n-1}}+\\dots +a_n(t)(x_1(t)x_2(t))=f_1（t）f_2(t)=*1式+*2式$$\\\\因此x_1(t)+x_2(t)是方程的解$"
   ]
  },
  {
   "cell_type": "markdown",
   "metadata": {},
   "source": [
    "##  3题"
   ]
  },
  {
   "cell_type": "markdown",
   "metadata": {},
   "source": [
    "### （1）\n",
    "**解**\n",
    "因为$x_1,x_2是齐次线性的基本解组，求对应的非齐次线性方程组的解\\\\用常数变易法$\n",
    "\n",
    "$$x=c_1(t)e^t+c_2(t)e^{-t}\\\\\n",
    "c_1'(t)e^t+c_2'(t)=0\\dots\\quad *1\n",
    "\\\\x'(t)=c_1(t)e^t+c_2(t)e^{-t}\\\\\n",
    "x\"=c_1'(t)e^t-c_2'(t)e^{-t}\\\\\n",
    "x\"-x=cost\\dots \\quad*2\\\\$$\n",
    "$由*1式和*2式此得$\\\\\n",
    "$$c_1'(t)=cost /{2e^t}\n",
    "c_2'(t)=-1/2e^tcost\\\\\n",
    "解得c_1（t）=\\frac{sint-cost}{4}*e^{-t}+n_1\\\\\n",
    "c_2(t)=-\\frac{sint+cost}{4}*e^t+n_2$$\n",
    "\n",
    "于是原方程的通解为$$x=n_1e^t+n_2e^{-t}-\\frac{1}{2}cost$$\n"
   ]
  },
  {
   "cell_type": "markdown",
   "metadata": {},
   "source": [
    "###  (3)\n",
    "**解**\n",
    "由题意得\n",
    "$x_1,x_2是齐次线性方程组的基本解组，求其对应非齐次线性方程组的解\\\\用常数变易法解题$\n",
    "\n",
    "$$x=c_1(t)cos2t+c_2(t)sin2t\\\\\n",
    "c_1'(t)cos2t+c_2'(t)sin2t=0\\quad \\dots *1\\\\\n",
    "x'(t)=-2c_1(t)sin2t+2c_2(t)cos2t\\\\\n",
    "x\"=-2c_1'(t)sin2t-4c_1(t)cos2t+2c_2'(t)cost-4c_2(t)sin2t\\\\\n",
    "x\"+4x=-2c_1(t)sin2t+2c_2'(t)cos2t=tsin2t\\quad \\dots *2\\\\\n",
    "$$\n",
    "$由*1式和*2式$解得\n",
    "\n",
    "$$c_1'(t)-1/2t*sint*sin2t\\\\\n",
    "c_2'(t)=1/2t*sint*cos2t\\\\\n",
    "$$\n",
    "$积分$\n",
    "$$c_1(t)=1/4[1/9 cost+1/3t sint-tsint-cost]+c_1\\\\\n",
    "c_2(t)=1/4[-1/3t cost+1/9sin3t+tcost-sint]+c_2$$\n",
    "$于是方程的通解为$\n",
    "$x=c_1(t)cos2t+c_2(t)sin2t\\\\\n",
    "x=cos2t[1/4[1/3tsint+1/9cos3t-tsint-cost]+c_1]+sin2t[1/4[-1/3tcos3t+1/9sin3t+tcost-sint]+c_2]\\\\$\n",
    "\n",
    "$于是原方程的通解$\n",
    "\n",
    "$$x=c_1cos2t+c_2sin2t+t/3sint-2/9cost$$"
   ]
  },
  {
   "cell_type": "markdown",
   "metadata": {},
   "source": [
    "系数错误"
   ]
  },
  {
   "cell_type": "markdown",
   "metadata": {},
   "source": [
    "### (5)\n",
    "**解**\n",
    "$x_1,x_2是齐次线性方程组的基本解组，求其对应非齐次线性方程组的解\\\\用常数变易法解题$\n",
    "$$x=c_1(t)t+c_2(t)tlnt$$\n",
    "即有\n",
    "$$c_1(t)t+c_2(t)tlnt=0\\dots\\quad 1\\\\\n",
    "x'=c_1（t）t+c_2(t)(lnt+1)\\\\\n",
    "x\"=c_1'(t)+c_2'(t)(lnt+1)+c_2(t)*1/t\\\\\n",
    "t^2x\"-tx'+x=6t+34t^2\\\\\n",
    "t^2c'(t)+t^2c_2(t)(lnt+1)=6t+34t^2\\dots\\quad 2$$\n",
    "由1式和2式得\n",
    "$$c_1'(t)=lnt(6/t+34)\\\\\n",
    "c_2'(t)=6/t+34\\\\\n",
    "$$\n",
    "积分\n",
    "$$c_1(t)=-34(tlnt)-3(lnt)^2+c_1\\\\\n",
    "c_2(t)=34t+6lnt+c_2$$\n",
    "\n",
    "于是方程的通解为\n",
    "$$x=c_1*t+c_2tlnt+34t^2+3t(lnt)^2$$"
   ]
  },
  {
   "cell_type": "markdown",
   "metadata": {},
   "source": [
    "## 6题\n",
    "\n",
    "### (1)\n",
    "\n",
    "**解**\n",
    "充分性$$W[x_1,x_2]=\\begin{vmatrix}\n",
    "&x_1 &x_2\\\\\n",
    "&x_1' &x_2'\\end{vmatrix}$$\n",
    "由行列式的求导公式\n",
    "$$W^{\\prime}[x_1,x_2]=\\begin{vmatrix}\n",
    "&x_1' &x_2'\\\\&x_1' &x_2'\\end{vmatrix}+\\begin{vmatrix}&x_1 &x_2\\\\\n",
    "&x_1\" &x_2\"\\end{vmatrix}=\\begin{vmatrix}&x_1 &x_2\\\\&x_1\" &x_2\"\\end{vmatrix}$$\n",
    "\n",
    "$$W'[x_1,x_2]+a_1(t)W[x_1,x_2]=\\begin{vmatrix}&x_1 &x_2\\\\&x_1\" &x_2\"\\end{vmatrix}+a_1(t)\\begin{vmatrix}&x_1&x_2\\\\\n",
    "&x_1'&x_2'\\end{vmatrix}=\\begin{vmatrix}&x_1 &x_2\\\\&x_1\"+a_1(t)x_1' &x_2\"+a_1(t)x_2'\\end{vmatrix}$$\n",
    "\n",
    "又$x_1=！0是齐次线性微分方程的解$\n",
    "$$\\begin{vmatrix}&x_1 &x_2\\\\&-a_2(t)x_1 &x_2\"+a_1(t)x_2'\\end{vmatrix}=x_1*\\begin{vmatrix}&1 &x_2\\\\\n",
    "&-a_2(t)&x_2\"+a_1(t)x_2'\\end{vmatrix}=0\\\\x_1!=0\\\\x_2\"+a_1(t)x_2'+x_2=0$$\n",
    "**必要性**\n",
    "即$x_2(t)$是方程的解$$W'[x_1,x_2]=\\begin{vmatrix}&x_1&x_2\\\\&x_1\"&x_2\"\\end{vmatrix}=\\begin{vmatrix}&1 &x_2\\\\&-a_1(t)x_1'&a_1(t)x_2'\\end{vmatrix}=-a_1(t)W[x_1,x_2]\\\\W'[x_1,x_2]+a_1W[x_1,x_2]=0$$\n",
    "\n"
   ]
  },
  {
   "cell_type": "markdown",
   "metadata": {},
   "source": [
    "### (2)\n",
    "$$因为x_1,x_2为方程的解\\begin{vmatrix}&x_1 &x_2\\\\&x_1'&3x_2'\\end{vmatrix}=W(t_0)e^{-\\int_{t_0}^t a_1(s)ds}$$’\n",
    "即$x_1x_2'-x_1'x_2=W(t_0)e^{-\\int_{t_0}^t a_1(s)ds}$\n",
    "\n",
    "方程两边同乘以$\\frac{1}{x_1^2}$\n",
    "$$\\frac{d \\frac{x_2}{x_1}}{dt} =\\frac{W(t_0)}{{x_1}^2}e^(-\\int_{t_0}^t a_{1}(s)ds)\\\\frac{x_2}{x_1}{c_1}\\int \\frac{1}{{x_1}^2}(e^{-\\int_{t_0}^t a_1(s)ds} )dt +c_2$$\n",
    "$$x_2=(c_{1} \\int\\frac{1}{x^2}e^{-1\\int_{t_0}^t a_1(s)ds dt}+c_2)x_1$$\n",
    "取$c_1=0,c_2=0$得\n",
    "$x_2=x_1\\int\\frac{1}{x_{1}^2}* e^{-\\int_{t_0}^t a_1(s)ds }dt$\n",
    "\n",
    "又W（t）=0\n",
    "从而原方程的解\n",
    "$$x=x_1[c_1\\int\\frac{1}{x^2}exp(-\\int_{t_0}^t a_1(s)ds)dt+c_2]$$"
   ]
  },
  {
   "cell_type": "markdown",
   "metadata": {
    "collapsed": true
   },
   "source": [
    "$A$"
   ]
  },
  {
   "cell_type": "code",
   "execution_count": null,
   "metadata": {
    "collapsed": true
   },
   "outputs": [],
   "source": []
  }
 ],
 "metadata": {
  "kernelspec": {
   "display_name": "SageMath 7.3",
   "language": "",
   "name": "sagemath"
  },
  "language_info": {
   "codemirror_mode": {
    "name": "ipython",
    "version": 2
   },
   "file_extension": ".py",
   "mimetype": "text/x-python",
   "name": "python",
   "nbconvert_exporter": "python",
   "pygments_lexer": "ipython2",
   "version": "2.7.10"
  }
 },
 "nbformat": 4,
 "nbformat_minor": 0
}
