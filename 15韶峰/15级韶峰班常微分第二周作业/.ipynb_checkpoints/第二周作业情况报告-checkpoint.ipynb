{
 "cells": [
  {
   "cell_type": "markdown",
   "metadata": {},
   "source": [
    "第二周作业情况：\n",
    "\n",
    "1.知识点都已掌握，就是书写格式不正确\n",
    "\n",
    "2.$$使用不正确\n",
    "\n",
    "3.作业当中：李星颖、方日鑫、郎大宇作业完成的很好，知识点，markdowm格式都已正确掌握"
   ]
  },
  {
   "cell_type": "code",
   "execution_count": null,
   "metadata": {
    "collapsed": true
   },
   "outputs": [],
   "source": []
  }
 ],
 "metadata": {
  "kernelspec": {
   "display_name": "SageMath 7.3",
   "language": "",
   "name": "sagemath"
  },
  "language_info": {
   "codemirror_mode": {
    "name": "ipython",
    "version": 2
   },
   "file_extension": ".py",
   "mimetype": "text/x-python",
   "name": "python",
   "nbconvert_exporter": "python",
   "pygments_lexer": "ipython2",
   "version": "2.7.10"
  }
 },
 "nbformat": 4,
 "nbformat_minor": 0
}
