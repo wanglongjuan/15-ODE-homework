{
 "cells": [
  {
   "cell_type": "markdown",
   "metadata": {},
   "source": [
    "# 1.一次有理整式的定义是什么？"
   ]
  },
  {
   "cell_type": "markdown",
   "metadata": {},
   "source": [
    "解\n",
    "有理式，包括分式和整式，这种代数式中对于字母只进行有限次加、减、乘、除和整数次乘方这些运算。"
   ]
  },
  {
   "cell_type": "markdown",
   "metadata": {},
   "source": [
    "# 2.通解中，解对常数的独立性是指？"
   ]
  },
  {
   "cell_type": "markdown",
   "metadata": {
    "collapsed": true
   },
   "source": [
    "$解：对函数f及其它的n-1阶偏导数关于n个常数c_1,c_2,...,c_n的雅可比行列式不等于0$"
   ]
  },
  {
   "cell_type": "markdown",
   "metadata": {
    "collapsed": true
   },
   "source": [
    "# 3.设$y_1(t)$是 $\\frac{d y}{d t}=f(y),y(0)=y_0$的解,证明$y_2(t)=y_1(t-t_0)$是$\\frac{d y}{d x}=f(y),y(t_0)=y_0$的解"
   ]
  },
  {
   "cell_type": "markdown",
   "metadata": {},
   "source": [
    "由题意得$\\frac{dy_1(t)}{dt}=f(y_1(t)),y_1(0)=y_0$"
   ]
  },
  {
   "cell_type": "markdown",
   "metadata": {},
   "source": [
    "又因为$\\frac{d(t-t_0)}{d(t)}=\\frac{d(t-t_0)}{d(t-t_0)}=f(y_1(t-t_0))=f(y_2(t))$"
   ]
  },
  {
   "cell_type": "markdown",
   "metadata": {},
   "source": [
    "$y_2(t_0)=y_1(t_0-t_0)=y_1(0)=y_0$"
   ]
  },
  {
   "cell_type": "markdown",
   "metadata": {},
   "source": [
    "即$\\frac{dy_2(t)}{dt}=f(y_2(t)),y_2(t_0)=y_0$\n"
   ]
  },
  {
   "cell_type": "markdown",
   "metadata": {},
   "source": [
    "所以$y_2(t)=y_1(t-t_0)$是$\\frac{d y}{d t}=f(y),y(t_0)=y_0$的解"
   ]
  },
  {
   "cell_type": "markdown",
   "metadata": {},
   "source": [
    "<font color=\"red\">**正确**"
   ]
  },
  {
   "cell_type": "markdown",
   "metadata": {},
   "source": [
    "# 4.验证下列各函数是相应微分方程的解"
   ]
  },
  {
   "cell_type": "markdown",
   "metadata": {},
   "source": [
    "## 1.$y=x^2+1,y^\\prime=y^2-(x^2+1)y+2x$"
   ]
  },
  {
   "cell_type": "markdown",
   "metadata": {},
   "source": [
    "解\n",
    "\n",
    "因为$y=x^2+1 ,y^\\prime=2x$\n",
    "\n",
    "又因为$y^\\prime=y^2-(x^2+1)y+2x$\n",
    "\n",
    "将$y=x^2+1$代入上式\n",
    "\n",
    "得到$y^\\prime=(x^2+1)^2-(x^2+1)(x^2+1)+2x$\n",
    "\n",
    "化简得$y^\\prime=2x$符合"
   ]
  },
  {
   "cell_type": "markdown",
   "metadata": {},
   "source": [
    "<font color=\"red\">**正确**"
   ]
  },
  {
   "cell_type": "markdown",
   "metadata": {},
   "source": [
    "## 2.$y=-\\frac{g(x)}{f(x)},y^\\prime=\\frac{f^\\prime(x)}{g(x)}y^2-\\frac{g^\\prime(x)}{f(x)}$"
   ]
  },
  {
   "cell_type": "markdown",
   "metadata": {},
   "source": [
    "解\n",
    "因为$y=-\\frac{g(x)}{f(x)}$\n",
    "所以$y^\\prime=-\\frac{g^\\prime(x)f(x)-g(x)f^\\prime(x)}{f^2(x)}$"
   ]
  },
  {
   "cell_type": "markdown",
   "metadata": {},
   "source": [
    "将$y=-\\frac{g(x)}{f(x)}代入y^\\prime=\\frac{f^\\prime(x)}{g(x)}y^2-\\frac{g^\\prime(x)}{f(x)}$"
   ]
  },
  {
   "cell_type": "markdown",
   "metadata": {},
   "source": [
    "得到$y^\\prime=\\frac{f^\\prime(x)}{g(x)}（-\\frac{g(x)}{f(x)})^2-\\frac{g^\\prime(x)}{f(x)}$"
   ]
  },
  {
   "cell_type": "markdown",
   "metadata": {},
   "source": [
    "化简得$y^\\prime=-\\frac{g^\\prime(x)f(x)-g(x)f^\\prime(x)}{f^2(x)}$\n"
   ]
  },
  {
   "cell_type": "markdown",
   "metadata": {},
   "source": [
    "符合"
   ]
  },
  {
   "cell_type": "markdown",
   "metadata": {},
   "source": [
    "<font color=\"red\">**正确**"
   ]
  },
  {
   "cell_type": "markdown",
   "metadata": {},
   "source": [
    "# 5.给定一阶微分方程$\\frac{dy}{dx}=2x$,"
   ]
  },
  {
   "cell_type": "markdown",
   "metadata": {},
   "source": [
    "## (1)求出它的通解；"
   ]
  },
  {
   "cell_type": "markdown",
   "metadata": {},
   "source": [
    "解\n",
    "通解为$y=x^2+c$"
   ]
  },
  {
   "cell_type": "markdown",
   "metadata": {},
   "source": [
    "## （2）求通过点（1,4）的特解；"
   ]
  },
  {
   "cell_type": "markdown",
   "metadata": {},
   "source": [
    "解\n",
    "特解为$y=x^2+3$"
   ]
  },
  {
   "cell_type": "markdown",
   "metadata": {},
   "source": [
    "## （3）求出与直线$y=2x+3$相切的解"
   ]
  },
  {
   "cell_type": "markdown",
   "metadata": {},
   "source": [
    "**解**\n",
    "联立方程$y=2x+3$与$y=x^2+c$\n",
    "\n",
    "得出$(x-1)^2=4-c$\n",
    "\n",
    "又因为是相切，所以$c=4$\n",
    "\n",
    "即解为$y=x^2+4$"
   ]
  },
  {
   "cell_type": "markdown",
   "metadata": {},
   "source": [
    "## （4）求出满足条件$\\int_0^1y\\mathrm dx$"
   ]
  },
  {
   "cell_type": "markdown",
   "metadata": {},
   "source": [
    "解\n",
    "解为$y=x^2+\\frac{5}{3}$"
   ]
  },
  {
   "cell_type": "markdown",
   "metadata": {},
   "source": [
    "## (5)绘出（2）、（3）、（4）中的解的图形"
   ]
  },
  {
   "cell_type": "code",
   "execution_count": 4,
   "metadata": {
    "collapsed": false
   },
   "outputs": [
    {
     "data": {
      "image/png": "[encoded data removed]",
      "text/plain": [
       "Graphics object consisting of 1 graphics primitive"
      ]
     },
     "execution_count": 4,
     "metadata": {},
     "output_type": "execute_result"
    }
   ],
   "source": [
    "var('x')\n",
    "y=x^2+3\n",
    "plot(y,x)\n"
   ]
  },
  {
   "cell_type": "code",
   "execution_count": 5,
   "metadata": {
    "collapsed": false
   },
   "outputs": [
    {
     "data": {
      "image/png": "[encoded data removed]",
      "text/plain": [
       "Graphics object consisting of 1 graphics primitive"
      ]
     },
     "execution_count": 5,
     "metadata": {},
     "output_type": "execute_result"
    }
   ],
   "source": [
    "var('x')\n",
    "y=x^2+4\n",
    "plot(y,x)"
   ]
  },
  {
   "cell_type": "code",
   "execution_count": 1,
   "metadata": {
    "collapsed": false
   },
   "outputs": [
    {
     "data": {
      "image/png": "[encoded data removed]",
      "text/plain": [
       "Graphics object consisting of 1 graphics primitive"
      ]
     },
     "execution_count": 1,
     "metadata": {},
     "output_type": "execute_result"
    }
   ],
   "source": [
    "var('x')\n",
    "y=x^2+5/3\n",
    "plot(y,x)"
   ]
  },
  {
   "cell_type": "markdown",
   "metadata": {},
   "source": [
    "<font color=\"red\">**正确**"
   ]
  },
  {
   "cell_type": "markdown",
   "metadata": {},
   "source": [
    "# 6.求下列方程的解"
   ]
  },
  {
   "cell_type": "markdown",
   "metadata": {},
   "source": [
    "## （1）$x\\frac{dy}{dx}-y+\\sqrt(x^2-y^2)=0$"
   ]
  },
  {
   "cell_type": "markdown",
   "metadata": {},
   "source": [
    "解化简得$\\frac{dy}{dx}=\\frac{y}{x}-\\sqrt(1-(\\frac{y}{x})^2)$"
   ]
  },
  {
   "cell_type": "markdown",
   "metadata": {},
   "source": [
    "令$u=\\frac{y}{x}$"
   ]
  },
  {
   "cell_type": "markdown",
   "metadata": {},
   "source": [
    "$g(u)=u-\\sqrt(1-(u)^2)$"
   ]
  },
  {
   "cell_type": "markdown",
   "metadata": {},
   "source": [
    "得到$\\frac{du}{dx}=\\frac{g(u)-u}{x}$"
   ]
  },
  {
   "cell_type": "markdown",
   "metadata": {},
   "source": [
    "$\\frac{du}{dx}=\\frac{-\\sqrt(1-(u)^2)}{x}$"
   ]
  },
  {
   "cell_type": "markdown",
   "metadata": {},
   "source": [
    "$\\frac{du}{-\\sqrt(1-(u)^2)}=\\frac{dx}{x}$\n"
   ]
  },
  {
   "cell_type": "markdown",
   "metadata": {},
   "source": [
    "对两边同时积分得$-arcsinu=ln|x|+c$"
   ]
  },
  {
   "cell_type": "markdown",
   "metadata": {},
   "source": [
    "此外还有解$-\\sqrt(1-(u)^2)=0$"
   ]
  },
  {
   "cell_type": "markdown",
   "metadata": {},
   "source": [
    "即$y^2=x^2$"
   ]
  },
  {
   "cell_type": "markdown",
   "metadata": {},
   "source": [
    "综上所述，解为$y^2=x^2,-arcsin\\frac{y}{x}=lnx+c$"
   ]
  },
  {
   "cell_type": "markdown",
   "metadata": {},
   "source": [
    "<font color=\"red\">**答案不对**"
   ]
  },
  {
   "cell_type": "markdown",
   "metadata": {},
   "source": [
    "## (2)$tanydx-cotxdy=0$"
   ]
  },
  {
   "cell_type": "markdown",
   "metadata": {},
   "source": [
    "经整理得$\\frac{dy}{dx}=tanytanx$"
   ]
  },
  {
   "cell_type": "markdown",
   "metadata": {},
   "source": [
    "$\\frac{dy}{tany}=tanxdx$"
   ]
  },
  {
   "cell_type": "markdown",
   "metadata": {},
   "source": [
    "对两边同时积分得$lnsiny=-lncosx+c$"
   ]
  },
  {
   "cell_type": "markdown",
   "metadata": {},
   "source": [
    "$siny=secx+c$"
   ]
  },
  {
   "cell_type": "markdown",
   "metadata": {},
   "source": [
    "<font color=\"red\">**答案不全**"
   ]
  },
  {
   "cell_type": "markdown",
   "metadata": {
    "collapsed": true
   },
   "source": [
    "# 7.做适当的变量变换求解下列方程"
   ]
  },
  {
   "cell_type": "markdown",
   "metadata": {},
   "source": [
    "## （1）$\\frac{dy}{dx}=\\frac{y^6-2x^2}{2xy^5+x^2y^2}$"
   ]
  },
  {
   "cell_type": "markdown",
   "metadata": {},
   "source": [
    "**解**"
   ]
  },
  {
   "cell_type": "markdown",
   "metadata": {
    "collapsed": true
   },
   "source": [
    "令$u=\\frac{x}{y^3}$"
   ]
  },
  {
   "cell_type": "markdown",
   "metadata": {
    "collapsed": true
   },
   "source": [
    "$\n",
    "\\frac{dy}{dx}=\\frac{(y^6-2u^2y^6}{2uy^8+u^2y^8}$\n",
    "\n",
    "等式右边上下同时除以$y^6$得到$\\frac{y^2dy}{dx}=\\frac{\\frac{1}{u^2}-1}{\\frac{2}{u}+1}$\n",
    "\n",
    "又因为$\\frac{y^2dy}{dx}=\\frac{dy^3}{3dx}$且令$t=\\frac{1}{u}=\\frac{y^3}{x}$\n",
    "\n",
    "得到$\\frac{dy^3}{dx}=3\\frac{t^2-2}{2t+1}$\n",
    "\n",
    "即$\\frac{dt}{dx}=\\frac{\\frac{t^2-t-6}{2t+1}}{x}$\n",
    "\n",
    "得到$\\frac{2t+1}{t^2-t-6}dt=\\frac{1}{x}dx$\n",
    "\n",
    "对两边同时积分$3ln|t+2|+7ln|t-3|=5lnx+c$\n",
    "\n",
    "$(t+2)^3(t-3)^7=cx^3$\n",
    "\n",
    "把$t=\\frac{y^3}{x}$代入上式\n",
    "\n",
    "所以解为$(y^3+2x)^3(y^3-3x)^7=cx^(15)$\n"
   ]
  },
  {
   "cell_type": "markdown",
   "metadata": {},
   "source": [
    "2,$\\frac{d y}{d x}=\\frac{2x^3+3xy^2+x}{3x^2y+2y^3-y}$\n",
    "\n",
    "$解：\\frac{dy}{dx}=\\frac{x*(2x^2+3y^2+1}{y*3x^2+2y^2-1},\\frac{dy^2}{dx^2}=\\frac{2x^2+3y^2+1}{3x^2+2y^2-1}$\n",
    "\n",
    "$令y^2=u,x^2=v,则\\frac{du}{dx}=\\frac{2v+3u+1}{3v+2u-1}$\n",
    "\n",
    "$由方程2v+3u+1=0和3v+2u-1=0组成的方程组的解为（1，-1）$\n",
    "\n",
    "$令z=v-1,w=u+1,则有由2z+3w=0和3z+2w=0的方程组，化简为\\frac{dw}{dz}=\\frac{2+3*w/z}{3+2*w/z}$\n",
    "\n",
    "$令t=\\frac{w}{z},\\frac{dt}{dz}=\\frac{\\frac{2-t^2}{3+2t}}{z}$\n",
    "\n",
    "即$\\frac{3+2t}{2-t^2}dt=\\frac{1}{x}dx$\n",
    "\n",
    "对上式两边同时积分得$4ln|x|+c=ln|1+t|-5ln|t-1|$\n",
    "\n",
    "把$t=\\frac{y^2+1}{x^2-1}$代入上式\n",
    "\n",
    "$解为y^2+x^2=c(y^2-x^2+2)^5$"
   ]
  },
  {
   "cell_type": "markdown",
   "metadata": {
    "collapsed": true
   },
   "source": [
    "<font color=\"red\">**正确**"
   ]
  },
  {
   "cell_type": "code",
   "execution_count": null,
   "metadata": {
    "collapsed": true
   },
   "outputs": [],
   "source": []
  }
 ],
 "metadata": {
  "kernelspec": {
   "display_name": "SageMath 7.3",
   "language": "",
   "name": "sagemath"
  },
  "language_info": {
   "codemirror_mode": {
    "name": "ipython",
    "version": 2
   },
   "file_extension": ".py",
   "mimetype": "text/x-python",
   "name": "python",
   "nbconvert_exporter": "python",
   "pygments_lexer": "ipython2",
   "version": "2.7.10"
  }
 },
 "nbformat": 4,
 "nbformat_minor": 0
}
