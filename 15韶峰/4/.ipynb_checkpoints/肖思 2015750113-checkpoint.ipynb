{
 "cells": [
  {
   "cell_type": "markdown",
   "metadata": {},
   "source": [
    "# 0919"
   ]
  },
  {
   "cell_type": "markdown",
   "metadata": {},
   "source": [
    "**1.设 $ f(x,y) $ 及 $ \\frac {\\partial f}{\\partial y} $ 连续,试证方程 $ \\mathrm d y -f(x,y)\\mathrm d x = 0 $ 为线性微分方程的充要条件是它有仅依赖于 $ x $ 的积分因子.**\n",
    "\n",
    "**证明:** $ \\because \\mathrm d y - f(x,y)\\mathrm d x = 0 $ 为线性微分方程\n",
    "\n",
    "$ \\therefore f(x,y) $ 中 $ y $ 的次数为  $ 1 $\n",
    "\n",
    "令$ M = - f(x,y) , N = 1 $\n",
    "\n",
    "$ \\iff \\frac {\\partial f(x,y)}{\\partial y} $是只关于 $ x $ 的函数\n",
    "\n",
    "$ \\iff \\frac {\\frac {\\partial M}{\\partial y} - \\frac {\\partial N}{\\partial x}}{N} = - \\frac {\\partial f(x,y)}{\\partial y}$只是关于 $ x $的函数\n",
    "\n",
    "$ \\iff $ 它有仅依赖于 $ x $ 的积分因子"
   ]
  },
  {
   "cell_type": "markdown",
   "metadata": {},
   "source": [
    "**2.求出伯努利方程的积分因子.**\n",
    "\n",
    "**解:**伯努利方程为 $$ \\frac{\\mathrm d y}{\\mathrm d x} = P(x)y + Q(x)y^n $$\n",
    "\n",
    "将等式左右两边同时乘以 $ y^n $ 得到 : $$ \\frac {y^n \\mathrm d y}{\\mathrm d x} = P(x)y^{1-n} + Q(x) $$ \n",
    "\n",
    "令$ z = y^{1-n} $ ,$ \\frac {\\mathrm d z}{\\mathrm d x} = (1-n)y^{-n} \\frac {\\mathrm d y}{\\mathrm d x} $代入\n",
    "\n",
    "$$ \\mathrm d z = (1-n)[P(x)z + Q(x)]\\mathrm d x $$\n",
    "\n",
    "令 $ M = (1-n )[P(x)z + Q(x)] ,N = -1 $\n",
    "\n",
    "$$ \\frac {\\frac {\\partial M}{\\partial z} - \\frac {\\partial N}{\\partial x}}{\\partial N} = (n-1)P(x) $$\n",
    "\n",
    "$$\\mu_1 = e^{(n-1)\\int P(x) \\mathrm d x}$$\n",
    "\n",
    "所以伯努利方程的积分因子为 $$ \\mu = y^{-n}\\mu_1 = y^{-n}e^{(n-1)\\int P(x) \\mathrm d x} $$\n",
    "\n"
   ]
  },
  {
   "cell_type": "markdown",
   "metadata": {},
   "source": [
    "**3.设 $ \\mu (x,y) $ 是方程 $ M(x,y)\\mathrm d x + N(x,y)\\mathrm d y = 0 $ 的积分因子,从而求得可微函数 $ U(x,y) $ ,使得 $ \\mathrm d U = \\mu (M\\mathrm d x + N\\mathrm d y) $ .试证 $ \\tilde{\\mu}(x,y) $ 也是方程 $ M(x,y)\\mathrm d x + N(x,y)\\mathrm d y = 0 $ 的积分因子的充要条件是 $ \\tilde{\\mu} = \\mu \\varphi (U) $ ,其中 $ \\varphi (t) $ 是 $ t $ 的可微函数.**\n",
    "\n",
    "**证:** (1)$ \\because \\tilde{\\mu}= \\mu \\varphi (U) $ 是方程 $ M(x,y)\\mathrm d x + N(x,y)\\mathrm d y = 0 $ 的积分因子\n",
    "\n",
    "$ \\therefore \\tilde {\\mu} (M \\mathrm d x + N \\mathrm d y) = 0 $\n",
    "\n",
    "又 $\\mu (M \\mathrm d x + N \\mathrm d y) = 0 $\n",
    "\n",
    "则 $$ \\frac {\\partial (\\mu M)}{\\partial y} = \\frac {\\partial (\\mu N)}{\\partial x} $$\n",
    "\n",
    "又 $$ \\frac {\\partial (\\mu \\varphi (U))M}{\\partial y} = \\frac {\\partial (\\mu M)}{\\partial y} + \\mu^2 MN \\varphi \\prime (U) $$\n",
    "\n",
    "$$ \\frac {\\partial (\\mu \\varphi (U))N}{\\partial x} = \\frac {\\partial (\\mu N)}{\\partial x} + \\mu^2 MN \\varphi \\prime (U) $$\n",
    "\n",
    "$ \\therefore \\frac {\\partial (\\mu \\varphi (U))M}{\\partial y} = \\frac {\\partial (\\mu \\varphi (U))N}{\\partial x} $\n",
    "\n",
    "$ \\therefore \\tilde{\\mu} = \\mu \\varphi (U) $ 是方程的积分因子\n",
    "\n",
    "(2)$ \\therefore \\tilde {\\mu} (M \\mathrm d x + N \\mathrm d y) = 0 $\n",
    "\n",
    " $ \\mathrm d U = \\mu (M\\mathrm d x + N\\mathrm d y) $ \n",
    " \n",
    " $ \\therefore f \\mathrm d U = f \\mu (M\\mathrm d x + N\\mathrm d y) $\n",
    " \n",
    " 只有当 $ f $ 是关于 $ U $ 的函数时, $ f \\mathrm d U $ 才能写成积分的形式,\n",
    " \n",
    " 又 $ \\tilde {\\mu} = f \\mu $ ,则 $ \\tilde {\\mu} (x,y) $ 也是方程的积分因子"
   ]
  },
  {
   "cell_type": "markdown",
   "metadata": {},
   "source": [
    "# 0921"
   ]
  },
  {
   "cell_type": "markdown",
   "metadata": {},
   "source": [
    "**1.求解下列方程:**\n",
    "\n",
    "$ (1) x{ y^\\prime }^3 = 1 + y^\\prime ;$\n",
    "\n",
    "$ (2) {y^\\prime }^3 - x^3(1 - y^\\prime) = 0;$\n",
    "\n",
    "$ (3) y = {y^\\prime }^2 e^{y^\\prime };$\n",
    "\n",
    "$ (4) y (1 + {y^\\prime}^2) = 2a $  ($ a $为一个常数)$;$\n",
    "\n",
    "$ (5) x^2 + {y^\\prime}^2 = 1 ;$\n",
    "\n",
    "$ (6) y^2 (y^\\prime - 1) = (2 - y^\\prime )^2 .$"
   ]
  },
  {
   "cell_type": "markdown",
   "metadata": {},
   "source": [
    "**解:**\n",
    "\n",
    "$ (1) $ 令 $ \\frac {\\mathrm d y}{\\mathrm d x} = p = \\frac {1}{t} $\n",
    "\n",
    "则 $ x = t^3 + t^2 $\n",
    " \n",
    "$ y = \\int p \\mathrm d x = \\int (3t +2)\\mathrm d t = \\frac {3}{2} t^2 + 2t + c $\n",
    "\n",
    "所以求得方程的参数形式的通解为\n",
    "$$\\begin{cases}\n",
    "x = t^3 + t^2\\\\\n",
    "y = \\frac {3}{2} t^2 + 2t + c \n",
    "\\end{cases}$$\n",
    "\n",
    "$ (2) $ 令 $ \\frac {\\mathrm d y}{\\mathrm d x} = p = tx $\n",
    "\n",
    "则 $ x = t^2 - \\frac {1}{t} $\n",
    "\n",
    "$ y = \\int p \\mathrm d x = \\int tx \\mathrm d x = \\int (t^3 - 1)(2t + \\frac {1}{t^2}) \\mathrm d t = \\frac {2}{5}t^5 - \\frac {1}{2}t^2 + \\frac {1}{t} + c $\n",
    "\n",
    "所以求得方程的参数形式的通解为\n",
    "$$\\begin{cases}\n",
    "x = t^2 - \\frac {1}{t}\\\\\n",
    "y = \\frac {2}{5}t^5 - \\frac {1}{2}t^2 + \\frac {1}{t} + c  \n",
    "\\end{cases}$$\n",
    "\n",
    "$ (3) $  令 $ \\frac {\\mathrm d y}{\\mathrm d x} = p $\n",
    "\n",
    "则 $ y = p^2 e^p $\n",
    "\n",
    "$ x = \\int \\frac {1}{p} \\mathrm d y = \\int (2pe^p + p e^p) \\mathrm d p = (1 + p )e^p + c $\n",
    "\n",
    "所以求得方程的参数形式的通解为\n",
    "$$\\begin{cases}\n",
    "x = t^2 - \\frac {1}{t}\\\\\n",
    "y =  p^2 e^p  \n",
    "\\end{cases}$$\n",
    "\n",
    "$ (4) $ 令 $ \\frac {\\mathrm d y}{\\mathrm d x} = p = \\tan t $\n",
    "\n",
    "则 $ y = \\frac {2a}{1 + \\tan^2 t} = 2a \\cos^2 t $\n",
    "\n",
    "$ x = \\int \\frac {1}{p} \\mathrm d y = \\int \\frac {1}{\\tan t} \\mathrm d ( 2a \\cos^2 t) = -a(2t + \\sin 2t ) + c $\n",
    "\n",
    "所以求得方程的参数形式的通解为\n",
    "$$\\begin{cases}\n",
    "x =  -a(2t + \\sin 2t ) + c\\\\\n",
    "y = 2a \\cos^2 t \n",
    "\\end{cases}$$\n",
    "\n",
    "$ (5) $ 令 $ \\frac {\\mathrm d y}{\\mathrm d x} = p = \\cos t $\n",
    "\n",
    "则 $ x = \\sin t $\n",
    "\n",
    "$ y = \\int p \\mathrm d x = \\int \\cos t \\mathrm d (\\sin t) = \\frac {1}{2}t + \\frac {1}{4} \\sin 2t + c $\n",
    "\n",
    "所以求得方程的参数形式的通解为\n",
    "$$\\begin{cases}\n",
    "x = \\sin t\\\\\n",
    "y = \\frac {1}{2}t + \\frac {1}{4} \\sin 2t + c\n",
    "\\end{cases}$$\n",
    "\n",
    "$ (6) $ 令 $ 2 - y^\\prime = yt  $\n",
    "\n",
    "则 $ 1 - y^\\prime = yt - 1 , y = t + \\frac {1}{t} $\n",
    "\n",
    "$ \\mathrm d x = \\frac {\\mathrm d y}{y^\\prime} = \\frac {\\mathrm d ( t + \\frac {1}{t})}{1 - t^2 } = - \\frac {1}{t^2} $\n",
    "\n",
    "$ x = \\int - \\frac {1}{t^2} = \\frac {1}{t} + c $\n",
    "\n",
    "所以求得方程的参数形式的通解为\n",
    "$$\\begin{cases}\n",
    "x = \\frac {1}{t} + c\\\\\n",
    "y = t + \\frac {1}{t}\n",
    "\\end{cases}$$"
   ]
  },
  {
   "cell_type": "markdown",
   "metadata": {
    "collapsed": true
   },
   "source": [
    "(3)缺少0解（4）缺少$y=2a$"
   ]
  },
  {
   "cell_type": "markdown",
   "metadata": {},
   "source": [
    "$A$"
   ]
  },
  {
   "cell_type": "code",
   "execution_count": null,
   "metadata": {
    "collapsed": true
   },
   "outputs": [],
   "source": []
  }
 ],
 "metadata": {
  "kernelspec": {
   "display_name": "SageMath 7.3",
   "language": "",
   "name": "sagemath"
  },
  "language_info": {
   "codemirror_mode": {
    "name": "ipython",
    "version": 2
   },
   "file_extension": ".py",
   "mimetype": "text/x-python",
   "name": "python",
   "nbconvert_exporter": "python",
   "pygments_lexer": "ipython2",
   "version": "2.7.10"
  }
 },
 "nbformat": 4,
 "nbformat_minor": 0
}
