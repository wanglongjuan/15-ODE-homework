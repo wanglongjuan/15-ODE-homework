{
 "cells": [
  {
   "cell_type": "markdown",
   "metadata": {},
   "source": [
    "# 常微分作业——黄淑婷   数学类韶峰班  2015750115"
   ]
  },
  {
   "cell_type": "markdown",
   "metadata": {},
   "source": [
    "## 证明题"
   ]
  },
  {
   "cell_type": "markdown",
   "metadata": {},
   "source": [
    "1.设 $f(x,y)$ 及 $\\frac{\\partial f}{\\partial y}$ 连续，试证方程 $\\mathrm dy-f(x,y)\\mathrm dx=0$ 为线性微分方程的充要条件是它仅依赖于 $x$ 的积分因子。"
   ]
  },
  {
   "cell_type": "markdown",
   "metadata": {},
   "source": [
    "证明：\n",
    "* 充分性：设 $\\mathrm dy-f(x,y)\\mathrm dx=0$ 有仅依赖于 $x$ 的积分因子\n",
    "* 由于积分因子只依赖于 $x$ ，所以存在某个 $\\varphi(x)$ 满足 $\\frac{\\frac{\\partial M}{\\partial y}-\\frac{\\partial N}{\\partial x}}{N}=\\frac{-\\frac{\\partial f}{\\partial y}-0}{1}=\\varphi(x)$ ,\n",
    "* 即 $\\frac{\\partial f}{\\partial y}=-\\varphi(x)$,\n",
    "* 对上式积分后得  $f(x,y)=-\\varphi(x)y+h(x)$ ,\n",
    "* 这里 $h(x)$ 是关于 $x$ 的任意可微函数。这样，原方程可以写成 $\\frac{\\mathrm y}{\\mathrm x}=-\\varphi(x)y+h(x)$ ,则有 $\\mathrm dy-f(x,y)\\mathrm dx=0$ 是线性的\n",
    "* 必要性： 设方程 $\\mathrm dy-f(x,y)\\mathrm dx=0$ 是线性微分方程。即存在 $g(x),h(x)$ 使得 $f(x,y)=yg(x)+h(x)$\n",
    "* 这样 $M=-f(x,y)=-yg(x)-h(x),N=1,\\frac{\\frac{\\partial M}{\\partial y}-\\frac{\\partial N}{\\partial x}}{N}=\\frac{-g(x)}{1}=-g(x)$\n",
    "* 所以方程有积分因子 $\\mu=e^{\\int -g(x)\\mathrm dx}$\n",
    "* 从而方程有仅依赖于 $x$ 的积分因子。"
   ]
  },
  {
   "cell_type": "markdown",
   "metadata": {},
   "source": [
    "2.求出伯努利微分方程的积分因子。"
   ]
  },
  {
   "cell_type": "markdown",
   "metadata": {},
   "source": [
    "* 伯努利方程为 $\\frac{\\mathrm dy}{\\mathrm dx}=p(x)y+q(x)y^n$,\n",
    "* 改写为 $\\mathrm dy-p(x)y\\mathrm dx-q(x)y^n\\mathrm dx=0$,\n",
    "* 乘以 $y^{-n}$ 得: $y^{-n}\\mathrm dy-p(x)y^{1-n}\\mathrm dx-q(x)\\mathrm dx=0$,\n",
    "* 即 $d(y^{1-n})-(1-n)p(x)y^{1-n}\\mathrm dx-(1-n)q(x)\\mathrm dx=0$,\n",
    "* 再乘以 $e^{-(1-n)\\int p(x)\\mathrm dx}$ 得\n",
    "* $e^{-(1-n)\\int p(x)\\mathrm dx}[d(y^{1-n})-(1-n)p(x)y^{1-n}\\mathrm dx]-e^{-(1-n)\\int p(x)\\mathrm dx}(1-n)q(x)\\mathrm dx=0$ ,\n",
    "* 即 $\\mathrm d[y^{1-n}e^{-(1-n)\\int p(x)\\mathrm dx}]-\\mathrm d[\\int (1-n)q(x)e^{-(1-n)\\int p(x)\\mathrm dx}]=0$.\n",
    "* 这是全微分方程，因此所求的积分因子是： $\\mu=y^{-n}e^{-(1-n)\\int p(x)\\mathrm dx}$ ."
   ]
  },
  {
   "cell_type": "markdown",
   "metadata": {},
   "source": [
    "3.设 $\\mu(x,y)$ 是方程 $M(x,y)\\mathrm dx+N(x,y)\\mathrm dy=0$ 的积分因子，从而求得可微函数 $U(x,y)$ ，使得 $\\mathrm dU=\\mu(M\\mathrm dx+N\\mathrm dy)$. 试证 $\\widetilde{\\mu}(x,y)=\\mu\\varphi(U)$ ,其中 $\\varphi(t)$ 是 $t$ 的可微函数。"
   ]
  },
  {
   "cell_type": "markdown",
   "metadata": {},
   "source": [
    "* 证明： 充分性：设 $\\widetilde{\\mu}(x,y)=\\mu \\varphi(U)$ ,\n",
    "* 因为 $\\frac{\\partial (\\widetilde{\\mu}M)}{\\partial y}=\\frac{\\partial (\\mu M\\varphi(U))}{\\partial y}\\\\\n",
    "=\\frac{\\partial (\\mu M)}{\\partial y}\\varphi(U)+\\mu M\\frac{\\partial (\\varphi(U))}{\\partial y}\\\\\n",
    "=\\frac{\\partial (\\mu M)}{\\partial y}\\varphi(U)+\\mu M \\varphi'(U)\\frac{\\partial U}{\\partial y}\\\\\n",
    "=\\frac{\\partial (\\mu M)}{\\partial y}\\varphi(U)+\\mu M \\varphi'(U) \\mu N$\n",
    "* $\\frac{\\partial (\\widetilde{\\mu}N)}{\\partial x}=\\frac{\\partial (\\mu N\\varphi(U))}{\\partial x}\\\\\n",
    "=\\frac{\\partial (\\mu N)}{\\partial x}\\varphi(U)+\\mu N\\frac{\\partial (\\varphi(U))}{\\partial x}\\\\\n",
    "=\\frac{\\partial (\\mu N)}{\\partial x}\\varphi(U)+\\mu N \\varphi'(U) \\mu M$ ,\n",
    "* 又因为 $\\mu(x,y)$ 是方程 $M(x,y)\\mathrm dx+N(x,y)\\mathrm dy=0$ 的积分因子，所以 $\\frac{\\partial (\\mu M)}{\\partial y}=\\frac{\\partial (\\mu N)}{\\partial x}$\n",
    "* 比较 $\\frac{\\partial (\\widetilde{\\mu}M)}{\\partial y}$ 与 $\\frac{\\partial (\\widetilde{\\mu}N)}{\\partial x}$ 可以得到：  $\\frac{\\partial (\\widetilde{\\mu}M)}{\\partial y}=\\frac{\\partial (\\widetilde{\\mu}N)}{\\partial x}$，\n",
    "* 因此，$\\widetilde{\\mu}(x,y)=\\mu \\varphi(\\widetilde{U})$ 是方程 $M(x,y)\\mathrm dx+N(x,y)\\mathrm dy=0$ 的积分因子；\n",
    "* 必要性 设 $\\widetilde{\\mu}$ 是方程 $M(x,y)\\mathrm dx+N(x,y)\\mathrm dy=0$ 的积分因子，则 $\\frac{\\partial (\\widetilde{\\mu}M)}{\\partial y}=\\frac{\\partial (\\widetilde{\\mu}N)}{\\partial x}$，\n",
    "* 又因为 $\\frac{\\partial(\\widetilde{\\mu}M)}{\\partial y}=\\frac{\\partial(\\frac{\\widetilde{\\mu}}{\\mu}\\mu M)}{\\partial y}=\\frac{\\frac{\\partial(\\widetilde{\\mu})}{\\partial y}}{\\partial y}\\mu M+\\frac{\\widetilde{\\mu}}{\\mu} \\frac{\\partial(\\mu M)}{\\partial y}$ ,\n",
    "* $\\frac{\\partial(\\widetilde{\\mu}N)}{\\partial x}=\\frac{\\partial(\\frac{\\widetilde{\\mu}}{\\mu}\\mu N)}{\\partial x}=\\frac{\\frac{\\partial(\\widetilde{\\mu})}{\\partial x}}{\\partial x}\\mu N+\\frac{\\widetilde{\\mu}}{\\mu} \\frac{\\partial(\\mu N)}{\\partial x}$ \n",
    "* 则有 $\\frac{\\partial (\\mu M)}{\\partial y}=\\frac{\\partial (\\mu N)}{\\partial x}$ ,\n",
    "* 从而有 $M\\frac{\\frac{\\partial(\\widetilde{\\mu})}{\\partial \\mu}}{\\partial y}=N\\frac{\\frac{\\partial(\\widetilde{\\mu})}{\\partial \\mu}}{\\partial x}$\n",
    "* 又 $\\mathrm dU=\\mu(M\\mathrm dx+N\\mathrm dy)$\n",
    "* 所以有： $\\frac{\\partial U}{\\partial x}=\\mu M ,\\frac{\\partial U}{\\partial y}=\\mu N$ ,\n",
    "* 则有 $\\frac{\\frac{\\partial(\\widetilde{\\mu})}{\\partial \\mu}}{\\partial y} \\frac{\\partial u}{\\partial x}=\\frac{\\frac{\\partial(\\widetilde{\\mu})}{\\partial \\mu}}{\\partial x} \\frac{\\partial u}{\\partial y}$\n",
    "* 从而有 $\\frac{\\widetilde{\\mu}}{\\mu}=\\varphi(\\mu)$\n",
    "* 这里 $\\varphi(\\mu)$ 是 $u$ 的任意可微函数，证毕。"
   ]
  },
  {
   "cell_type": "markdown",
   "metadata": {},
   "source": [
    "## 求解下列微分方程 "
   ]
  },
  {
   "cell_type": "markdown",
   "metadata": {},
   "source": [
    "（1）$xy'^3=1+y'$"
   ]
  },
  {
   "cell_type": "markdown",
   "metadata": {},
   "source": [
    "* $x(\\frac{\\mathrm dy}{\\mathrm dx})^3=1+\\frac{\\mathrm dy}{\\mathrm dx}$\n",
    "* 设 $\\frac{\\mathrm dy}{\\mathrm dx}=p$ \n",
    "* 有 $xp^3=1+p$ ,则有 $x=\\frac{1+p}{p^3}$\n",
    "* $\\mathrm dy=p\\mathrm dx=-3p^{-3}-2p^{-2}\\mathrm dp$\n",
    "* 得到 $y=\\frac{3}{2p^2}+\\frac{2}{p}+c$ 其中 $c$ 为常数\n",
    "* 从而得到方程的参数形式的通解：$\\begin{cases}\n",
    "                       x=\\frac{1+p}{p^3}  & \\quad p\\neq0\\\\\n",
    "                       y=\\frac{3}{2p^2}+\\frac{2}{p}+c\\\\\n",
    "                       \\end{cases}$"
   ]
  },
  {
   "cell_type": "code",
   "execution_count": 1,
   "metadata": {
    "collapsed": false
   },
   "outputs": [
    {
     "data": {
      "text/html": [
       "<html><script type=\"math/tex; mode=display\">\\newcommand{\\Bold}[1]{\\mathbf{#1}}\\frac{2}{p} + \\frac{3}{2 \\, p^{2}}</script></html>"
      ],
      "text/plain": [
       "2/p + 3/2/p^2"
      ]
     },
     "metadata": {},
     "output_type": "display_data"
    }
   ],
   "source": [
    "var('p')\n",
    "u=-3/(p^3)-2/(p^2)\n",
    "show(integral(u,p))"
   ]
  },
  {
   "cell_type": "markdown",
   "metadata": {},
   "source": [
    "（2）$y'^3-x^3(1-y')=0$"
   ]
  },
  {
   "cell_type": "markdown",
   "metadata": {},
   "source": [
    "* 设 $y'=tx$ 则有 $t^3x^3-x^3(1-tx=0)$\n",
    "* 即 $x=\\frac{1}{t}-t^2$\n",
    "* 则有 $\\mathrm dy=(1-t^3)\\mathrm dx=(-\\frac{1}{t^2}-t+2t^4)\\mathrm dt$\n",
    "* 两边积分得：$y=\\frac{1}{t}-\\frac{t^2}{2}+\\frac{2t^5}{5}+c$ $c$ 为任意常数\n",
    "* 从而原方程的通解为： $\\begin{cases}\n",
    "                 x=\\frac{1}{t}-t^2\\\\\n",
    "                 y=\\frac{1}{t}- \\frac{t^2}{2}+ \\frac{2t^5}{5}+c\\\\\n",
    "                 \\end{cases}$"
   ]
  },
  {
   "cell_type": "code",
   "execution_count": 2,
   "metadata": {
    "collapsed": false
   },
   "outputs": [
    {
     "data": {
      "text/html": [
       "<html><script type=\"math/tex; mode=display\">\\newcommand{\\Bold}[1]{\\mathbf{#1}}\\frac{2}{5} \\, t^{5} - \\frac{1}{2} \\, t^{2} + \\frac{1}{t}</script></html>"
      ],
      "text/plain": [
       "2/5*t^5 - 1/2*t^2 + 1/t"
      ]
     },
     "metadata": {},
     "output_type": "display_data"
    }
   ],
   "source": [
    "var('t')\n",
    "u=-1/t^2-t+2*(t^4)\n",
    "show(integral(u,t))"
   ]
  },
  {
   "cell_type": "markdown",
   "metadata": {},
   "source": [
    "（3）$y=y'^2 e^{y'}$"
   ]
  },
  {
   "cell_type": "markdown",
   "metadata": {},
   "source": [
    "* 令 $y'=p$ ,则有 $y=p^2e^p$\n",
    "* 两边对 $x$ 求导，则有 $\\mathrm dx=(2+p)e^p\\mathrm dp$\n",
    "* 两边积分得：$x=(p+1)e^p$\n",
    "* 从而有原方程的通解为：$\\begin{cases}\n",
    "                  x=(p+1)e^p+c\\\\\n",
    "                  y=p^2e^p\\\\\n",
    "                  \\end{cases}$　"
   ]
  },
  {
   "cell_type": "code",
   "execution_count": 3,
   "metadata": {
    "collapsed": false
   },
   "outputs": [
    {
     "data": {
      "text/html": [
       "<html><script type=\"math/tex; mode=display\">\\newcommand{\\Bold}[1]{\\mathbf{#1}}{\\left(p - 1\\right)} e^{p} + 2 \\, e^{p}</script></html>"
      ],
      "text/plain": [
       "(p - 1)*e^p + 2*e^p"
      ]
     },
     "metadata": {},
     "output_type": "display_data"
    }
   ],
   "source": [
    "var('p')\n",
    "u=(2+p)*exp(p)\n",
    "show(integral(u,p))"
   ]
  },
  {
   "cell_type": "markdown",
   "metadata": {},
   "source": [
    "（4）$y(1+y’^2)=2a$ ($a$ 为常数)"
   ]
  },
  {
   "cell_type": "markdown",
   "metadata": {},
   "source": [
    "* 令 $y'=p$ ,则有 $y=\\frac{2a}{1+p^2}$ \n",
    "* 两边对 $x$ 求导，则有 $\\mathrm dx=\\frac{-4a}{(1+p^2)^2}\\mathrm dp$\n",
    "* 两边积分得：$x=-a(2\\arctan p+\\frac{2p}{1+p^2}+c)$ 其中 $c$ 为任意常数\n",
    "* 则有方程的通解为：$\\begin{cases}\n",
    "               x=-a(2\\arctan p+\\frac{2p}{1+p^2}+c)\\\\\n",
    "               y=\\frac{2a}{1+p^2}\\\\\n",
    "               \\end{cases}$"
   ]
  },
  {
   "cell_type": "code",
   "execution_count": 4,
   "metadata": {
    "collapsed": false
   },
   "outputs": [
    {
     "data": {
      "text/html": [
       "<html><script type=\"math/tex; mode=display\">\\newcommand{\\Bold}[1]{\\mathbf{#1}}-2 \\, a {\\left(\\frac{p}{p^{2} + 1} + \\arctan\\left(p\\right)\\right)}</script></html>"
      ],
      "text/plain": [
       "-2*a*(p/(p^2 + 1) + arctan(p))"
      ]
     },
     "metadata": {},
     "output_type": "display_data"
    }
   ],
   "source": [
    "var('a,p')\n",
    "u=(-4*a)/(1+p^2)^2\n",
    "show(integral(u,p))"
   ]
  },
  {
   "cell_type": "markdown",
   "metadata": {},
   "source": [
    "（5）$x^2+y'^2=1$"
   ]
  },
  {
   "cell_type": "markdown",
   "metadata": {},
   "source": [
    "* 令 $y'=\\cos t$ ,则有 $x^2+\\cos^2 t=1$\n",
    "* 则有 $x=\\sin t$\n",
    "* 两边对 $y$ 求导有：$\\frac{1}{\\cos t}=\\cos t\\frac{\\mathrm dt}{\\mathrm dy}$\n",
    "* 则有： $\\mathrm dy=\\cos^2 t\\mathrm dt$\n",
    "* 两边积分得：$y=\\frac{t}{2}+\\frac{\\sin 2t}{4}+c$ 其中 $c$ 为任意常数\n",
    "* 所以原方程的通解为：$\\begin{cases}\n",
    "                x=\\sin t\\\\\n",
    "                y=\\frac{t}{2}+\\frac{\\sin 2t}{4}+c\\\\\n",
    "                \\end{cases}$"
   ]
  },
  {
   "cell_type": "code",
   "execution_count": 5,
   "metadata": {
    "collapsed": false
   },
   "outputs": [
    {
     "data": {
      "text/html": [
       "<html><script type=\"math/tex; mode=display\">\\newcommand{\\Bold}[1]{\\mathbf{#1}}\\frac{1}{2} \\, t + \\frac{1}{4} \\, \\sin\\left(2 \\, t\\right)</script></html>"
      ],
      "text/plain": [
       "1/2*t + 1/4*sin(2*t)"
      ]
     },
     "metadata": {},
     "output_type": "display_data"
    }
   ],
   "source": [
    "var('t')\n",
    "u=(cos(t))^2\n",
    "show(integral(u,t))"
   ]
  },
  {
   "cell_type": "markdown",
   "metadata": {},
   "source": [
    "（6）$y^2(y'-1)=(2-y')^2$"
   ]
  },
  {
   "cell_type": "markdown",
   "metadata": {},
   "source": [
    "* 令 $2-y'=yt$ ,则与原方程消去 $y'$ 后，有 $y^2(yt-1)=y^2 t^2$\n",
    "* 从而有：$y=t+\\frac{1}{t}$ ,且 $y'=1-t^2$\n",
    "* 这是原微分方程的参数形式。从而有：$\\mathrm dx=\\frac{\\mathrm dy}{y'}=\\frac{-1}{t^2}\\mathrm dt$\n",
    "* 两边积分得：$x=\\frac{1}{t}+c$ , 其中 $c$ 为任意常数\n",
    "* 从而得到原方程的通解为：$\\begin{cases}\n",
    "                   x=\\frac{1}{t}+c\\\\\n",
    "                   y=t+\\frac{1}{t}\\\\\n",
    "                   \\end{cases}$\n",
    "* 其中 $c$ 为任意常数。\n",
    "* 此外，当 $y'=0$ 时原方程变为 $y^2=4$ ,于是有 $y=\\pm 2$ 也是方程的解。"
   ]
  },
  {
   "cell_type": "code",
   "execution_count": 7,
   "metadata": {
    "collapsed": false
   },
   "outputs": [
    {
     "data": {
      "text/html": [
       "<html><script type=\"math/tex; mode=display\">\\newcommand{\\Bold}[1]{\\mathbf{#1}}\\frac{1}{t}</script></html>"
      ],
      "text/plain": [
       "1/t"
      ]
     },
     "metadata": {},
     "output_type": "display_data"
    }
   ],
   "source": [
    "var('t')\n",
    "u=-1/t^2\n",
    "show(integral(u,t))#不对吧"
   ]
  },
  {
   "cell_type": "markdown",
   "metadata": {},
   "source": [
    "$y'=0$包含在同解当中，不必另写出来"
   ]
  },
  {
   "cell_type": "markdown",
   "metadata": {},
   "source": [
    "$A$"
   ]
  },
  {
   "cell_type": "code",
   "execution_count": null,
   "metadata": {
    "collapsed": true
   },
   "outputs": [],
   "source": []
  }
 ],
 "metadata": {
  "kernelspec": {
   "display_name": "SageMath 7.3",
   "language": "",
   "name": "sagemath"
  },
  "language_info": {
   "codemirror_mode": {
    "name": "ipython",
    "version": 2
   },
   "file_extension": ".py",
   "mimetype": "text/x-python",
   "name": "python",
   "nbconvert_exporter": "python",
   "pygments_lexer": "ipython2",
   "version": "2.7.10"
  }
 },
 "nbformat": 4,
 "nbformat_minor": 0
}
