{
 "cells": [
  {
   "cell_type": "markdown",
   "metadata": {
    "collapsed": true
   },
   "source": [
    "# 习题2.3"
   ]
  },
  {
   "cell_type": "markdown",
   "metadata": {},
   "source": [
    "## 4.设$f(x,y)$及$\\frac{\\partial f}{\\partial y}$连续，试证方程$dy-f(x,y)dx=0$为线性微分方程的充要条件是它有仅依赖于$x$的积分因子"
   ]
  },
  {
   "cell_type": "markdown",
   "metadata": {},
   "source": [
    "解：必要性：$$dy=f(x,y)dx为线性微分方程\\implies\\exists P(x),Q(x)使得f(x,y)=P(x)y+Q(x)$$\n",
    "$$\\implies\\frac{\\partial f}{\\partial y}=P(x),\\frac{\\partial 1}{\\partial x}=0$$\n",
    "所以仅依赖于$x$的积分因子满足$\\frac{du}{u}=\\frac{\\frac{\\partial f}{\\partial y}-0}{P(x)}dx=1dx\\implies u=e^x$\n",
    "\n",
    "所以必要性成立"
   ]
  },
  {
   "cell_type": "markdown",
   "metadata": {},
   "source": [
    "充分性：存在$u(x)$使$u(x)dy-u(x)f(x,y)dx=0$为恰当方程$\\implies\\frac{\\partial u(x)}{\\partial x}=u(x)\\frac{\\partial f(x,y)}{\\partial y}$\n",
    "\n",
    "$\\implies\\frac{\\partial f(x,y)}{\\partial y}$是仅关于$x$的连续函数$\\implies\\exists P(x),Q(x)$使得$f(x,y)=P(x)y+Q(x)$\n",
    "\n",
    "所以充分性成立"
   ]
  },
  {
   "cell_type": "markdown",
   "metadata": {},
   "source": [
    "## 8.求出伯努利方程的积分因子"
   ]
  },
  {
   "cell_type": "markdown",
   "metadata": {},
   "source": [
    "解：伯努利方程形如$\\frac{dy}{dx}=P(x)y+Q(x)y^n\\implies -dy+[P(x)y+Q(x)y^n]dx=0$\n",
    "\n",
    "方程两边乘以$y^{-n}$得$\\frac{dy^{1-n}}{(1-n)dx}=P(x)y^{1-n}+Q(x)\\implies dy^{1-n}+(n-1)[P(x)y^{1-n}+Q(x)]dx$\n",
    "\n",
    "记为$Mdx+Ndy=0$\n",
    "\n",
    "$\\frac{\\partial M}{\\partial y^{1-n}}=(n-1)P(x),\\frac{\\partial N}{\\partial x}=0$\n",
    "\n",
    "其仅关于$x$的积分因子为$\\frac{\\frac{\\partial M}{\\partial y^{1-n}}-\\frac{\\partial N}{\\partial x}}{N}dx=(n-1)P(x)dx=\\frac{du}{u}\\implies u=e^{\\int (n-1)P(x)dx}$\n",
    "\n",
    "所以伯努利方程总的积分因子为$\\mu=y^{-n}e^{\\int (n-1)P(x)dx}$"
   ]
  },
  {
   "cell_type": "markdown",
   "metadata": {},
   "source": [
    "## 9.设$u(x,y)$是方程$Mdx+Ndy=0$的积分因子，从而可求得可微函数$U(x,y)$，使得$dU=u(Mdx+Ndy)$。试证$\\tilde u(x,y)$也是该方程的积分因子的充要条件是$\\tilde u(x,y)=u\\varphi(U)$，其中$\\varphi(t)$是$t$的可微函数"
   ]
  },
  {
   "cell_type": "markdown",
   "metadata": {},
   "source": [
    "解：充分性：$\\tilde u=u\\varphi(U)\\implies \\tilde u(Mdx+Ndy)=0\\implies \\varphi(U)u(Mdx+Ndy)=0\\\\\\\n",
    "\\implies \\varphi(U)dU=0$\n",
    "\n",
    "$\\varphi(t)$是$t$的可微函数$\\implies \\varphi(t)$必连续\n",
    "\n",
    "所以存在$P(t)=\\int_0^t\\varphi(U)dU$使$dP(t)=\\varphi(U)dU=\\varphi(U)[u(Mdx+Ndy)]=0$\n",
    "\n",
    "所以$\\tilde u（x,y）$是积分因子"
   ]
  },
  {
   "cell_type": "markdown",
   "metadata": {},
   "source": [
    "必要性："
   ]
  },
  {
   "cell_type": "markdown",
   "metadata": {},
   "source": []
  },
  {
   "cell_type": "markdown",
   "metadata": {},
   "source": [
    "# 习题2.4"
   ]
  },
  {
   "cell_type": "markdown",
   "metadata": {},
   "source": [
    "## 1.求解下列方程："
   ]
  },
  {
   "cell_type": "markdown",
   "metadata": {},
   "source": [
    "### (1)$x{y\\prime}^3=1+y\\prime$"
   ]
  },
  {
   "cell_type": "markdown",
   "metadata": {},
   "source": [
    "解：记$\\frac{dy}{dx}=p\\implies F(x,p)=xp^3-p-1=0\\implies x=\\frac{1}{p^2}+\\frac{1}{p^3}\\\\\n",
    "\\implies\n",
    "\\begin{cases}\n",
    "x=t^2+t^3\\\\\n",
    "p=\\frac{1}{t}       &p\\neq 0\\\\\n",
    "\\end{cases}$\n",
    "\n",
    "\n",
    "又因为$dy=pdx$所以$y=\\int \\frac{1}{t}(2t+3t^2)dt=2t+\\frac{3}{2}t^2+C$\n",
    "\n",
    "所以解为$\\begin{cases}\n",
    "x=t^2+t^3\\\\\n",
    "y=2t+\\frac{3}{2}t^2+C\n",
    "\\end{cases}$\n",
    "\n",
    "$p=0$时，代入$F(x,p)$得$1=0$（矛盾）"
   ]
  },
  {
   "cell_type": "markdown",
   "metadata": {},
   "source": [
    "### (2)${y\\prime}^3-x^3(1-y\\prime)=0$"
   ]
  },
  {
   "cell_type": "markdown",
   "metadata": {},
   "source": [
    "解：记$\\frac{dy}{dx}=p\\implies F(x,p)=p^3-x^3(1-p)=0\\implies x^3=\\frac{p^3}{1-p}$\n",
    "\n",
    "记$1-p=t^3\\implies p=(1-t^3)\\implies\n",
    "\\begin{cases}\n",
    "    x=\\frac{1-t^3}{t}\\\\\n",
    "p=1-t^3        &p\\neq1\n",
    "\\end{cases}$\n",
    "\n",
    "因为$dy=pdx=(1-t^3)(\\frac{-3t^3-(1-t^3)}{t^2})dt=\\frac{2t^6-t^3-1}{t^2}dt$\n",
    "\n",
    "$\\implies\n",
    "\\begin{cases}\n",
    "y=\\frac{2}{5}t^5-\\frac{1}{2}t^2+\\frac{1}{t}+C\\\\\n",
    "x=\\frac{1}{t}-t^2\n",
    "\\end{cases}$\n",
    "    \n",
    "$p=1$时代入$F(x,p)$得$0=1$（矛盾）"
   ]
  },
  {
   "cell_type": "markdown",
   "metadata": {},
   "source": [
    "### (3)$y={y\\prime}^2e^{y\\prime}$"
   ]
  },
  {
   "cell_type": "markdown",
   "metadata": {},
   "source": [
    "解：记$\\frac{dy}{dx}=p\\implies F(y,p)=p^2e^p+e^p+C=0$\n",
    "\n",
    "$dy=pdx,dx=(2e^p+pe^p-e^p+C)\n",
    "\\implies\n",
    "\\begin{cases}\n",
    "x=pe^p+e^p+C\\\\\n",
    "y=p^2e^p\n",
    "\\end{cases}$\n"
   ]
  },
  {
   "cell_type": "markdown",
   "metadata": {},
   "source": [
    "### (4)$y(1+{y\\prime}^2)=2a$  ($a$为常数）"
   ]
  },
  {
   "cell_type": "markdown",
   "metadata": {},
   "source": [
    "解：记$\\frac{dy}{dx}=p\\implies y(1+p^2)=2a\\implies y=\\frac{2a}{1+p^2}$\n",
    "\n",
    "$dy=pdx\\implies -\\frac{4a}{(1+p^2)^2}=pdx$\n",
    "\n",
    "记$I_2=\\int\\frac{1}{(1+p^2)^2}dp=-\\int\\frac{1}{2p}d[\\frac{1}{1+p^2}]\\\\\n",
    "=-[\\frac{1}{2p(1+p^2)}+\\frac{1}{2}\\int(\\frac{1}{p^2}-\\frac{1}{p^2+1})dp\\\\\n",
    "=-[\\frac{p}{2(1+p^2)}-\\frac{1}{2}\\arctan p+C]$\n",
    "\n",
    "所以解为\n",
    "$\\begin{cases}\n",
    "x=4a[\\frac{p}{2(1+p^2)}-\\frac{1}{2}\\arctan p]+C\\\\\n",
    "y=\\frac{2a}{1+p^2}\n",
    "\\end{cases}$"
   ]
  },
  {
   "cell_type": "markdown",
   "metadata": {},
   "source": [
    "### (5)$x^2+{y\\prime}^2=1$"
   ]
  },
  {
   "cell_type": "markdown",
   "metadata": {},
   "source": [
    "解：记$\\frac{dy}{dx}=p\\implies F(x,y)=x^2+p^2-1=0$\n",
    "\n",
    "$\\implies\\begin{cases}\n",
    "x=\\cos t\\\\\n",
    "p=\\sin t\n",
    "\\end{cases}$\n",
    "$dy=pdx=-\\sin^2tdt=\\frac{1-cos 2t}{2}dt\n",
    "\\implies\\begin{cases}\n",
    "x=\\cos t\\\\\n",
    "y=\\frac{t}{2}-\\frac{\\sin 2t}{4}+C\n",
    "\\end{cases}$"
   ]
  },
  {
   "cell_type": "markdown",
   "metadata": {},
   "source": [
    "### (6)$y^2(y\\prime-1)=(2-y\\prime)^2$"
   ]
  },
  {
   "cell_type": "markdown",
   "metadata": {},
   "source": [
    "解：记$\\frac{dy}{dx}=p\\implies y^2(p-1)=(2-p)^2$\n",
    "\n",
    "记$p-1=t^2(t>0)\\implies y^2=\\frac{(1-t^2)^2}{t^2}\\implies y=\\frac{1}{t}-t$\n",
    "\n",
    "又因为$dy=pdx\\implies (-frac{1}{t^2}-1)dt=(t^2+1)dx\\implies (-\\frac{1}{t^2})dt=dx\\implies x=\\frac{1}{t}+C\\\\\n",
    "\\implies\\begin{cases}\n",
    "x=\\frac{1}{t}+C\\\\\n",
    "y=\\frac{1}{t}-t\n",
    "\\end{cases}$"
   ]
  },
  {
   "cell_type": "markdown",
   "metadata": {},
   "source": [
    "$t=0$时$p=1$代入原式得$y^2=0\\implies y=0$"
   ]
  },
  {
   "cell_type": "markdown",
   "metadata": {},
   "source": [
    "$A$"
   ]
  },
  {
   "cell_type": "code",
   "execution_count": null,
   "metadata": {
    "collapsed": true
   },
   "outputs": [],
   "source": []
  }
 ],
 "metadata": {
  "kernelspec": {
   "display_name": "SageMath 7.3",
   "language": "",
   "name": "sagemath"
  },
  "language_info": {
   "codemirror_mode": {
    "name": "ipython",
    "version": 2
   },
   "file_extension": ".py",
   "mimetype": "text/x-python",
   "name": "python",
   "nbconvert_exporter": "python",
   "pygments_lexer": "ipython2",
   "version": "2.7.10"
  }
 },
 "nbformat": 4,
 "nbformat_minor": 0
}
