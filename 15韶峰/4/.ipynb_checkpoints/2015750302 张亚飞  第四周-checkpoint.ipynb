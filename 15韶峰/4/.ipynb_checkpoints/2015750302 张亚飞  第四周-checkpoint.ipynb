{
 "cells": [
  {
   "cell_type": "markdown",
   "metadata": {},
   "source": [
    "#### 4.设$f(x,y)$及$\\frac{\\partial f}{\\partial y}$连续，试证方程$dy-f(x,y)dx=0$为线性微分方程的充要条件是它有仅依赖于$x$的积分因子"
   ]
  },
  {
   "cell_type": "markdown",
   "metadata": {},
   "source": [
    "解：充分性：\n",
    "设积分因子为$$u(x)$$\n",
    "则$$\\frac{\\partial u}{\\partial x}=\\frac{\\partial uf}{\\partial y}$$\n",
    "$$\\frac{\\partial u}{\\partial x}=u\\frac{\\partial f}{\\partial y}$$\n",
    "$$\\frac{\\partial f}{\\partial y}=\\frac{\\partial u}{\\partial x}\\frac{1}{u}$$\n",
    "$上式右边只与x有关，所以f(x,y)的y的次数为1$\n",
    "所以为线性微分方程。\n",
    "\n",
    "\n",
    "必要性：$$\\frac{\\frac{\\partial 1}{\\partial x}-\\frac{\\partial f}{\\partial y}}{-1}=\\frac{\\partial f}{\\partial y}$$\n",
    "因为是线性微分方程，所以$$\\frac{\\partial f}{\\partial y}不含y,只含x$$\n",
    "所以它有仅依赖于x的积分因子。"
   ]
  },
  {
   "cell_type": "markdown",
   "metadata": {},
   "source": [
    "#### 8、求出伯努利微分方程的积分因子"
   ]
  },
  {
   "cell_type": "markdown",
   "metadata": {},
   "source": [
    "解：$方程两边同乘以y^{-n}得$"
   ]
  },
  {
   "cell_type": "markdown",
   "metadata": {},
   "source": [
    "$$y^{-n}\\frac{dy}{dx}=y^{1-n}P(x)+Q(x)$$\n",
    "\n",
    "\n",
    "$$(y^{1-n}P(x)+Q(x))dx-y^{-n}dy=0$$\n",
    "\n",
    "\n",
    "$$\\frac{\\partial M}{\\partial y}=(1-n)y^{-n}p(x)$$\n",
    "\n",
    "\n",
    "$$\\frac{\\partial N}{\\partial x}=0$$\n",
    "\n",
    "\n",
    "$$\\frac{\\frac{\\partial M}{\\partial y}-\\frac{\\partial N}{\\partial x}}{N}=(n-1)P(x)$$\n",
    "\n",
    "\n",
    "$$这是关于x的方程$$\n",
    "\n",
    "所以$$y^{-n}\\frac{dy}{dx}=y^{1-n}P(x)+Q(x)$$的积分因子为\n",
    "\n",
    "$$e^{\\int (n-1)P(x)dx}$$\n",
    "所以伯努利微分方程的积分因子为$$y^{-n}e^{(n-1)\\int P(x)dx}$$\n"
   ]
  },
  {
   "cell_type": "markdown",
   "metadata": {},
   "source": [
    "#### 9.设$u(x,y)$是方程$Mdx+Ndy=0$的积分因子，从而可求得可微函数$U(x,y)$，使得$dU=u(Mdx+Ndy)$。试证$\\tilde u(x,y)$也是该方程的积分因子的充要条件是$\\tilde u(x,y)=u\\varphi(U)$，其中$\\varphi(t)$是$t$的可微函数"
   ]
  },
  {
   "cell_type": "markdown",
   "metadata": {},
   "source": [
    "解:充分性：由题已知\n",
    "$$ \\frac{ \\partial \\mu  M}{ \\partial y}= \\frac{ \\partial \\mu  N}{ \\partial x}$$\n",
    "则有\n",
    " \\begin{aligned}\n",
    "\\frac{ \\partial \\tilde{ \\mu}M}{ \\partial y} &= \\frac{ \\partial \\mu \\psi(U) M}{ \\partial y}\\\\\n",
    "                            &= \\psi(U) \\frac{ \\partial \\mu  M}{ \\partial y}+ \\mu M \\frac{ \\partial \\psi(U)}{ \\partial y}\\\\\n",
    "                            &= \\psi(U) \\frac{ \\partial \\mu  N}{ \\partial x}+ \\mu N \\frac{ \\partial \\psi(U)}{ \\partial x}\\\\\n",
    "                            &= \\frac{ \\partial \\mu \\psi(U) N}{ \\partial x}\\\\\n",
    "                            &= \\frac{ \\partial \\tilde{ \\mu}N}{ \\partial x}\n",
    " \\end{aligned}\n",
    " \n",
    " 所以，$ \\tilde{ \\mu}$是原方程的一个积分因子"
   ]
  },
  {
   "cell_type": "markdown",
   "metadata": {},
   "source": [
    "必要性：由题已知$$  \\frac{ \\partial \\tilde{ \\mu}M}{ \\partial y}= \\frac{ \\partial \\tilde{ \\mu}N}{ \\partial x} \\ (1),  \\  \\  \\frac{ \\partial U}{ \\partial x}= \\mu M \\ (2), \\  \\  \\  \\frac{ \\partial U}{ \\partial y}= \\mu N \\ (3)$$\n",
    "将（2）（3）式变形带入（1），得到$$ \\frac{ \\partial ( \\frac{ \\tilde{ \\mu}}{ \\mu} \\frac{ \\partial U}{ \\partial x})}{ \\partial y}= \\frac{ \\partial ( \\frac{ \\tilde{ \\mu}}{ \\mu} \\frac{ \\partial U}{ \\partial y})}{ \\partial x}$$\n",
    "即$$ \\frac{ \\tilde{ \\mu}}{ \\mu} \\frac{ (\\partial U)^2}{ \\partial x \\partial y}+ \\frac{ \\partial U}{ \\partial x} \\frac{ \\partial \\frac{ \\tilde{ \\mu}}{ \\mu}}{ \\partial y}= \\frac{ \\tilde{ \\mu}}{ \\mu} \\frac{ (\\partial U)^2}{ \\partial x \\partial y}+ \\frac{ \\partial U}{ \\partial y} \\frac{ \\partial \\frac{ \\tilde{ \\mu}}{ \\mu}}{ \\partial x}$$\n",
    "化简，有$$ \\frac{ \\frac{ \\partial \\frac{ \\tilde{ \\mu}}{ \\mu}}{ \\partial y}}{ \\frac{ \\partial \\frac{ \\tilde{ \\mu}}{ \\mu}}{ \\partial x}}= \\frac{ \\frac{ \\partial U}{ \\partial y}}{ \\frac{ \\partial U}{ \\partial x}}$$\n",
    "所以，有$$  \\frac{ \\tilde{ \\mu}}{ \\mu}= \\psi (U)$$\n",
    "所以$$\\tilde{ \\mu}=u\\psi (U)$$\n"
   ]
  },
  {
   "cell_type": "markdown",
   "metadata": {
    "collapsed": true
   },
   "source": [
    "\n",
    "#### 1、求解下列方程"
   ]
  },
  {
   "cell_type": "markdown",
   "metadata": {},
   "source": [
    "(1)$xy'^3=1+y';$\n",
    "\n",
    "解：令$$p=y'=\\frac{1}{t}$$,\n",
    "则$$x=t^3+t^2$$\n",
    "$$dy=pdx=(3t+2)dt$$\n",
    "$$y=\\int (3t+2)dt=\\frac{3}{2}t^2+2t+c$$\n",
    "所以方程的解为$$x=t^3+t^2$$\n",
    "$$y=\\frac{3}{2}t^2+2t+c$$"
   ]
  },
  {
   "cell_type": "markdown",
   "metadata": {},
   "source": [
    "(2)$y'^3-x^3(1-y')=0;$\n",
    "\n",
    "解：令$$y'=tx$$,\n",
    "则$$t^3x^3-x^3+tX^4=0$$\n",
    "$$x=\\frac{1-t^3}{t}$$\n",
    "所以$$dy=(1-t^3)d(\\frac{1-t^3}{t})=(1-t^3)\\frac{-3t^2-(1-t^3)}{t^2}dt=\\frac{(-2t^3-1)(1-t^3)}{t^2}$$\n",
    "$$y=-int (t+\\frac{1}{t^2}-2t^4)dt=-\\frac{1}{2}t^2+\\frac{1}{t}+\\frac{2}{5}t^5+c$$\n",
    "所以方程的解为$$x=\\frac{1-t^3}{t}$$\n",
    "$$y=-\\frac{1}{2}t^2+\\frac{1}{t}+\\frac{2}{5}t^5+c$$"
   ]
  },
  {
   "cell_type": "markdown",
   "metadata": {},
   "source": [
    "(3)$y=y'^2e^{y'};$\n",
    "\n",
    "解：令$$p=y'，则y=p^2e^p$$\n",
    "当$$p=0，y=0$$\n",
    "当$$p\\neq{0}时$$\n",
    "等式两边同时对x求导：\n",
    "$$p=2p\\frac{dp}{dx}e^p+p^2e^p\\frac{dp}{dx}$$\n",
    "$$dx=(2e^p+pe^p)dp$$\n",
    "$$x=(p+1)e^p$$\n",
    "所以解为：$$x=(p+1)e^p$$\n",
    "$$y=p^2e^p$$"
   ]
  },
  {
   "cell_type": "markdown",
   "metadata": {},
   "source": [
    "(4)$y(1+y'^2)=2a(a为常数)$\n",
    "\n",
    "解：令$$y'=tan\\varphi$$\n",
    "则 $$y=2acos^2\\varphi$$\n",
    "当$$\\varphi=0时，y=2a$$\n",
    "当$$\\varphi\\neq{0}时$$\n",
    "$$\\frac{dy}{dx}=tan\\varphi$$\n",
    "$$dx=\\frac{1}{tan\\varphi}4acos\\varphi(-sin\\varphi)d\\varphi$$\n",
    "$$dx=-4acos^2\\varphi d\\varphi$$\n",
    "$$x=-asin2\\varphi-2a\\varphi+c$$\n",
    "所以方程的解为$$x=-asin2\\varphi-2a\\varphi+c$$\n",
    "$$y=2acos^2\\varphi$$\n",
    "和$$y=2a$$"
   ]
  },
  {
   "cell_type": "markdown",
   "metadata": {},
   "source": [
    "(5)$x^2+y'^2=1$\n",
    "\n",
    "解：\n",
    "令$$p=y'=cost$$\n",
    "则$$x=sint$$\n",
    "$$y=\\int cotdsint=\\frac{1}{2}t+\\frac{1}{4}sin2t+c$$"
   ]
  },
  {
   "cell_type": "markdown",
   "metadata": {},
   "source": [
    "(6)$y^2(y'-1)=(2-y')^2$\n",
    "\n",
    "解：\n",
    "令$$2-y'=yt$$\n",
    "则$$y=\\frac{1}{t}-t$$,\n",
    "$$y'=2-yt=2-(1-t^2)=1+t^2$$\n",
    "$$\\frac{dy}{dx}=\\frac{1}{1+t^2}$$\n",
    "$$dx=(1+t^2)dy=-\\frac{1}{t^2}$$\n",
    "$$x=\\frac{1}{t}+c$$\n",
    "$$y=x-c-\\frac{1}{x-c}$$"
   ]
  },
  {
   "cell_type": "markdown",
   "metadata": {
    "collapsed": true
   },
   "source": [
    "$A^+$"
   ]
  },
  {
   "cell_type": "code",
   "execution_count": null,
   "metadata": {
    "collapsed": true
   },
   "outputs": [],
   "source": []
  }
 ],
 "metadata": {
  "kernelspec": {
   "display_name": "SageMath 7.3",
   "language": "",
   "name": "sagemath"
  },
  "language_info": {
   "codemirror_mode": {
    "name": "ipython",
    "version": 2
   },
   "file_extension": ".py",
   "mimetype": "text/x-python",
   "name": "python",
   "nbconvert_exporter": "python",
   "pygments_lexer": "ipython2",
   "version": "2.7.10"
  }
 },
 "nbformat": 4,
 "nbformat_minor": 0
}
