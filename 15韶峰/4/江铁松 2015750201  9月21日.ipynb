{
 "cells": [
  {
   "cell_type": "markdown",
   "metadata": {},
   "source": [
    "### 4.设$f(x,y)$及$\\frac{\\partial f}{\\partial y}$连续，试证方程$dy-f(x,y)dx=0$为线性微分方程的充要条件是它有仅依赖于$x$的积分因子"
   ]
  },
  {
   "cell_type": "markdown",
   "metadata": {},
   "source": [
    "解：充分性：\n",
    "设积分因子为$$u(x)$$\n",
    "则$$\\frac{\\partial u}{\\partial x}=\\frac{\\partial uf}{\\partial y}$$\n",
    "$$\\frac{\\partial u}{\\partial x}=u\\frac{\\partial f}{\\partial y}$$\n",
    "$$\\frac{\\partial f}{\\partial y}=\\frac{\\partial u}{\\partial x}\\frac{1}{u}$$\n",
    "$上式右边只与x有关，所以f(x,y)的y的次数为1$\n",
    "所以为线性微分方程。\n",
    "\n",
    "\n",
    "必要性：$$\\frac{\\frac{\\partial 1}{\\partial x}-\\frac{\\partial f}{\\partial y}}{-1}=\\frac{\\partial f}{\\partial y}$$\n",
    "因为是线性微分方程，所以$$\\frac{\\partial f}{\\partial y}不含y,只含x$$\n",
    "所以它有仅依赖于x的积分因子。"
   ]
  },
  {
   "cell_type": "markdown",
   "metadata": {},
   "source": [
    "### 8、求出伯努利微分方程的积分因子"
   ]
  },
  {
   "cell_type": "markdown",
   "metadata": {},
   "source": [
    "解：$$方程两边同乘以y^{-n}得$$"
   ]
  },
  {
   "cell_type": "markdown",
   "metadata": {},
   "source": [
    "$$y^{-n}\\frac{dy}{dx}=y^{1-n}P(x)+Q(x)$$\n",
    "\n",
    "\n",
    "$$(y^{1-n}P(x)+Q(x))dx-y^{-n}dy=0$$\n",
    "\n",
    "\n",
    "$$\\frac{\\partial M}{partial y}=(1-n)y^{-n}p(x)$$\n",
    "\n",
    "\n",
    "$$\\frac{\\partial N}{partial x}=0$$\n",
    "\n",
    "\n",
    "$$\\frac{\\frac{\\partial M}{\\partial y}-\\frac{\\partial N}{\\partial x}}{N}=(n-1)P(x)$$\n",
    "\n",
    "\n",
    "$$这是关于x的方程$$\n",
    "\n",
    "所以$$y^{-n}\\frac{dy}{dx}=y^{1-n}P(x)+Q(x)$$的积分因子为\n",
    "\n",
    "$$e^{\\int (n-1)P(x)dx}$$\n",
    "所以伯努利微分方程的积分因子为$$y^{-n}e^{(n-1)\\int P(x)dx}$$\n"
   ]
  },
  {
   "cell_type": "markdown",
   "metadata": {},
   "source": [
    "### 9.设$u(x,y)$是方程$Mdx+Ndy=0$的积分因子，从而可求得可微函数$U(x,y)$，使得$dU=u(Mdx+Ndy)$。试证$\\tilde u(x,y)$也是该方程的积分因子的充要条件是$\\tilde u(x,y)=u\\varphi(U)$，其中$\\varphi(t)$是$t$的可微函数"
   ]
  },
  {
   "cell_type": "markdown",
   "metadata": {},
   "source": [
    "**充分性：由题已知**\n",
    "$$ \\frac{ \\partial \\mu  M}{ \\partial y}= \\frac{ \\partial \\mu  N}{ \\partial x}$$\n",
    "**则有**\n",
    " \\begin{aligned}\n",
    "\\frac{ \\partial \\hat{ \\mu}M}{ \\partial y} &= \\frac{ \\partial \\mu \\psi(U) M}{ \\partial y}\\\\\n",
    "                            &= \\psi(U) \\frac{ \\partial \\mu  M}{ \\partial y}+ \\mu M \\frac{ \\partial \\psi(U)}{ \\partial y}\\\\\n",
    "                            &= \\psi(U) \\frac{ \\partial \\mu  N}{ \\partial x}+ \\mu N \\frac{ \\partial \\psi(U)}{ \\partial x}\\\\\n",
    "                            &= \\frac{ \\partial \\mu \\psi(U) N}{ \\partial x}\\\\\n",
    "                            &= \\frac{ \\partial \\hat{ \\mu}N}{ \\partial x}\n",
    " \\end{aligned}\n",
    " \n",
    " **所以，$ \\hat{ \\mu}$是原方程的一个积分因子**"
   ]
  },
  {
   "cell_type": "markdown",
   "metadata": {},
   "source": [
    "**必要性：由题已知**$$  \\frac{ \\partial \\hat{ \\mu}M}{ \\partial y}= \\frac{ \\partial \\hat{ \\mu}N}{ \\partial x} \\ (1),  \\  \\  \\frac{ \\partial U}{ \\partial x}= \\mu M \\ (2), \\  \\  \\  \\frac{ \\partial U}{ \\partial y}= \\mu N \\ (3)$$\n",
    "**将（2）（3）式变形带入（1），得到**$$ \\frac{ \\partial ( \\frac{ \\hat{ \\mu}}{ \\mu} \\frac{ \\partial U}{ \\partial x})}{ \\partial y}= \\frac{ \\partial ( \\frac{ \\hat{ \\mu}}{ \\mu} \\frac{ \\partial U}{ \\partial y})}{ \\partial x}$$\n",
    "**即**$$ \\frac{ \\hat{ \\mu}}{ \\mu} \\frac{ (\\partial U)^2}{ \\partial x \\partial y}+ \\frac{ \\partial U}{ \\partial x} \\frac{ \\partial \\frac{ \\hat{ \\mu}}{ \\mu}}{ \\partial y}= \\frac{ \\hat{ \\mu}}{ \\mu} \\frac{ (\\partial U)^2}{ \\partial x \\partial y}+ \\frac{ \\partial U}{ \\partial y} \\frac{ \\partial \\frac{ \\hat{ \\mu}}{ \\mu}}{ \\partial x}$$\n",
    "**化简，有**$$ \\frac{ \\frac{ \\partial \\frac{ \\hat{ \\mu}}{ \\mu}}{ \\partial y}}{ \\frac{ \\partial \\frac{ \\hat{ \\mu}}{ \\mu}}{ \\partial x}}= \\frac{ \\frac{ \\partial U}{ \\partial y}}{ \\frac{ \\partial U}{ \\partial x}}$$\n",
    "**所以，有**$$  \\frac{ \\hat{ \\mu}}{ \\mu}= \\psi (U)$$\n"
   ]
  },
  {
   "cell_type": "markdown",
   "metadata": {},
   "source": [
    "所以$$\\hat{ \\mu}=u\\psi (U)$$"
   ]
  },
  {
   "cell_type": "markdown",
   "metadata": {
    "collapsed": true
   },
   "source": [
    "$A^+$"
   ]
  },
  {
   "cell_type": "code",
   "execution_count": null,
   "metadata": {
    "collapsed": true
   },
   "outputs": [],
   "source": []
  }
 ],
 "metadata": {
  "kernelspec": {
   "display_name": "SageMath 7.3",
   "language": "",
   "name": "sagemath"
  },
  "language_info": {
   "codemirror_mode": {
    "name": "ipython",
    "version": 2
   },
   "file_extension": ".py",
   "mimetype": "text/x-python",
   "name": "python",
   "nbconvert_exporter": "python",
   "pygments_lexer": "ipython2",
   "version": "2.7.10"
  }
 },
 "nbformat": 4,
 "nbformat_minor": 0
}
