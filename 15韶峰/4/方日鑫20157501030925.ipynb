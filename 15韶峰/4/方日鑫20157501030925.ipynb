{
 "cells": [
  {
   "cell_type": "markdown",
   "metadata": {},
   "source": [
    "## 1.设$\\large{f(x,y)}$及$\\large{\\frac{\\partial f}{\\partial y}}$连续，试证方程$\\large{\\mathrm dy-f(x,y)\\mathrm dx=0}$为线性微分方程的充要条件是它有仅依赖于$x$的积分因子"
   ]
  },
  {
   "cell_type": "markdown",
   "metadata": {},
   "source": [
    "证明:"
   ]
  },
  {
   "cell_type": "markdown",
   "metadata": {
    "collapsed": true
   },
   "source": [
    "充分性：\n",
    "若它有仅依赖于$x$的积分因子，则\n",
    "$$\\mu '(x)=-\\frac{\\partial f}{\\partial y} \\mu (x)$$\n",
    "\n",
    "故\n",
    "$$\\frac{\\partial f}{\\partial y}=-\\frac{\\mu '(x)}{\\mu (x)}$$\n",
    "\n",
    "故$f(x,y)$关于$y$是一次的\n",
    "\n",
    "所以原微分方程为线性微分方程\n",
    "\n",
    "必要性：\n",
    "\n",
    "设此微分方程是线性微分方程，则\n",
    "我们取$$\\frac{\\frac{-\\partial f}{\\partial y}}{1}=\\varphi(x)$$\n",
    "则$$e^{\\int \\varphi(x) \\mathrm dx}$$\n",
    "是原方程的仅依赖于$x$的积分因子\n",
    "\n",
    "\n",
    "\n",
    "\n",
    "**必要性不对**"
   ]
  },
  {
   "cell_type": "markdown",
   "metadata": {},
   "source": [
    "## 2.求出伯努利微分方程的积分因子"
   ]
  },
  {
   "cell_type": "markdown",
   "metadata": {},
   "source": [
    "伯努利方程形如\n",
    "$$\\frac{\\mathrm dy}{\\mathrm dx}=P(x)y+Q(x)y^{n}$$\n",
    "左右同时乘以$y^{-n}$,并且作变量代换$z=y^{1-n}$\n",
    "原方程可以整理为\n",
    "$$\\frac{\\mathrm dz}{\\mathrm dx}=(1-n)P(x)z+(1-n)Q(x)$$\n",
    "整理为$$\\mathrm dz+((n-1)P(x)z+(n-1)Q(x))\\mathrm dx=0$$\n",
    "取$$\\varphi (x)=\\frac{(n-1)P(x)}{1}$$\n",
    "则\n",
    "$$e^{\\int \\varphi (x)\\mathrm dx}$$为积分因子\n",
    "\n",
    "\n",
    "\n",
    "**结果不正确**"
   ]
  },
  {
   "cell_type": "markdown",
   "metadata": {},
   "source": [
    "## 3.设$\\mu (x,y)$是方程(2.42)的积分因子，从而求得可微函数$U(x,y)$,S.T.$\\mathrm dU(x,y)=\\mu (M\\mathrm dx+N\\mathrm dy)$.试证$\\large{\\tilde{\\mu}(x,y)}$是方程(2.42)的积分因子的充分必要条件是$\\tilde{\\mu}(x,y)=\\mu \\varphi(U)$，其中$\\varphi(t)$是t的可微函数"
   ]
  },
  {
   "cell_type": "markdown",
   "metadata": {},
   "source": [
    "证明：\n",
    "我们有$\\mathrm dU(x,y)=\\mu (M\\mathrm dx+N\\mathrm dy)$\n",
    "记$V(x,y)$满足$$\\mathrm dV(x,y)=\\tilde{\\mu} (M\\mathrm dx+N\\mathrm dy)$$\n",
    "容易知道$$U(x,y),V(x,y)关于x,y的Jacobi行列式为0$$\n",
    "于是$V和U函数相关$从而$V可以表示成U的函数$\n",
    "\n",
    "我们可以轻易地得到$$\\tilde{\\mu}(x,y)=\\mu \\frac{\\mathrm dV}{\\mathrm dU},记\\varphi (U)=\\frac{\\mathrm dV}{\\mathrm dU}$$\n",
    "由于$M,N$可二阶偏导，于是可以通过计算$\\mathrm d^2V,\\mathrm dU^2$得知$\\varphi (U)$关于$U$可微\n",
    "\n",
    "\n",
    "**用充分性和必要性来证明**"
   ]
  },
  {
   "cell_type": "markdown",
   "metadata": {},
   "source": [
    "## 4.求解下列方程"
   ]
  },
  {
   "cell_type": "markdown",
   "metadata": {},
   "source": [
    "(1)\n",
    "$$xy'^3=1+y'$$\n",
    "(2)\n",
    "$$y'^3-x^3(1-y’）=0$$\n",
    "(3)\n",
    "$$y=y'^2 e^{y'}$$\n",
    "(4)\n",
    "$$y(1+y'^2)=2a，(a为常数)$$\n",
    "(5)\n",
    "$$x^2+y'^2=1$$\n",
    "(6)\n",
    "$$y^2(y'-1)=(2-y')^2$$"
   ]
  },
  {
   "cell_type": "markdown",
   "metadata": {},
   "source": [
    "(1)\n",
    "作变量代换$y'=\\frac{1}{t}$则\n",
    "$$x=t^2(1+t)\\\\\n",
    "所以  \\mathrm dy=3t+2\\mathrm dt\n",
    "即 y=\\frac{3}{2}t^2+2t+c\n",
    "$$\n",
    "所以微分方程的解为\n",
    "$$\n",
    "\\begin{cases}\n",
    "x=t^2(1+t) \\quad\\quad\\quad(t是参数)\\\\\n",
    "y=\\frac{3}{2}t^2+2t+c\n",
    "\\end{cases}\n",
    "$$"
   ]
  },
  {
   "cell_type": "code",
   "execution_count": 1,
   "metadata": {
    "collapsed": false
   },
   "outputs": [
    {
     "data": {
      "text/html": [
       "<html><script type=\"math/tex; mode=display\">\\newcommand{\\Bold}[1]{\\mathbf{#1}}-\\frac{1}{6} \\, p^{3} + \\frac{3}{8} \\, p^{2} - \\frac{9}{8} \\, p + \\frac{27}{16} \\, \\log\\left(2 \\, p + 3\\right)</script></html>"
      ],
      "text/plain": [
       "-1/6*p^3 + 3/8*p^2 - 9/8*p + 27/16*log(2*p + 3)"
      ]
     },
     "metadata": {},
     "output_type": "display_data"
    }
   ],
   "source": [
    "var('p')\n",
    "a=-p^3/(2*p+3)\n",
    "show(integral(a,p))"
   ]
  },
  {
   "cell_type": "markdown",
   "metadata": {},
   "source": [
    "(2)\n",
    "作变量代换$p=y'$则\n",
    "$$x=\\frac{p}{\\sqrt[3]{1-p}}\\quad\\\\\n",
    "令p=1+t^3\\\\\n",
    "得x=-(\\frac{1}{t}+t^2)\\\\\n",
    "则y=-\\frac{2}{5}t^2-\\frac{1}{2}t^2-\\frac{1}{t}+c\n",
    "$$\n",
    "所以微分方程的解为\n",
    "$$\n",
    "\\begin{cases}\n",
    "x=-(\\frac{1}{t}+t^2)\\quad\\quad\\quad(t是参数)\\\\\n",
    "y=-\\frac{2}{5}t^2-\\frac{1}{2}t^2-\\frac{1}{t}+c\n",
    "\\end{cases}\n",
    "$$"
   ]
  },
  {
   "cell_type": "code",
   "execution_count": 2,
   "metadata": {
    "collapsed": false
   },
   "outputs": [
    {
     "data": {
      "text/html": [
       "<html><script type=\"math/tex; mode=display\">\\newcommand{\\Bold}[1]{\\mathbf{#1}}-\\frac{2}{5} \\, t^{5} - \\frac{1}{2} \\, t^{2} - \\frac{1}{t}</script></html>"
      ],
      "text/plain": [
       "-2/5*t^5 - 1/2*t^2 - 1/t"
      ]
     },
     "metadata": {},
     "output_type": "display_data"
    }
   ],
   "source": [
    "var('t')\n",
    "p=1+t^3\n",
    "x=-(1/t+t^2)\n",
    "x1=diff(x,t)\n",
    "show(integral(x1*p,t))"
   ]
  },
  {
   "cell_type": "markdown",
   "metadata": {},
   "source": [
    "（3）\n",
    "作变量代换$p=y'$\n",
    "$$则\\quad y=p^2 e^p\\\\\n",
    "那么\\quad\\mathrm dx= (p+2)e^p \\mathrm dp\\\\\n",
    "所以\\quad x=(p+1)e^p+c\\\\\n",
    "$$\n",
    "所以微分方程的解为\n",
    "$$\n",
    "\\begin{cases}\n",
    "x=(p+1)e^p+c\\quad\\quad\\quad(p是参数)\\\\\n",
    "y=p^2 e^p\n",
    "\\end{cases}\n",
    "$$"
   ]
  },
  {
   "cell_type": "code",
   "execution_count": 3,
   "metadata": {
    "collapsed": false
   },
   "outputs": [
    {
     "data": {
      "text/html": [
       "<html><script type=\"math/tex; mode=display\">\\newcommand{\\Bold}[1]{\\mathbf{#1}}{\\left(p - 1\\right)} e^{p} + 2 \\, e^{p}</script></html>"
      ],
      "text/plain": [
       "(p - 1)*e^p + 2*e^p"
      ]
     },
     "metadata": {},
     "output_type": "display_data"
    }
   ],
   "source": [
    "var('p')\n",
    "y=p^2*exp(p)\n",
    "a=diff(y,p)\n",
    "show(integral(a/p,p))"
   ]
  },
  {
   "cell_type": "markdown",
   "metadata": {},
   "source": [
    "(4)\n",
    "作变量代换$p=y'(p\\ne0)$\n",
    "则$$y=\\frac{a}{1+p^2}$$\n",
    "所以$$\\mathrm dx=\\frac{y'}{p}\\mathrm dt$$\n",
    "所以$$x=-\\frac{ap}{p^2+1}-a\\arctan{p}+c$$\n",
    "当$p=0$时$y=2a$\n",
    "\n",
    "所以微分方程的解为\n",
    "$$\n",
    "\\begin{cases}\n",
    "x=-\\frac{ap}{p^2+1}-a\\arctan{p}+c\\quad\\quad\\quad(p\\ne0)\\\\\n",
    "y=\\frac{a}{1+p^2}\n",
    "\\end{cases}\n",
    "以及y=2a(p=0)\n",
    "$$"
   ]
  },
  {
   "cell_type": "code",
   "execution_count": 4,
   "metadata": {
    "collapsed": false
   },
   "outputs": [
    {
     "data": {
      "text/html": [
       "<html><script type=\"math/tex; mode=display\">\\newcommand{\\Bold}[1]{\\mathbf{#1}}-a {\\left(\\frac{p}{p^{2} + 1} + \\arctan\\left(p\\right)\\right)}</script></html>"
      ],
      "text/plain": [
       "-a*(p/(p^2 + 1) + arctan(p))"
      ]
     },
     "metadata": {},
     "output_type": "display_data"
    }
   ],
   "source": [
    "var('a,p')\n",
    "y=a/(1+p^2)\n",
    "y1=diff(y,p)\n",
    "show(integral(y1/p,p))"
   ]
  },
  {
   "cell_type": "markdown",
   "metadata": {},
   "source": [
    "(5)\n",
    "作变量代换$p=y'$\n",
    "则$$x=\\pm \\sqrt{1-p^2}$$\n",
    "那么$$y=\\pm\\frac{p}{2}\\sqrt{-p^2+1}\\mp\\frac{1}{2}arcsin(p)+c$$\n",
    "所以微分方程的解为\n",
    "$$\n",
    "\\begin{cases}\n",
    "x=\\pm \\sqrt{1-p^2}\\\\\n",
    "y=\\pm\\frac{p}{2}\\sqrt{-p^2+1}\\mp\\frac{1}{2}arcsin(p)+c\n",
    "\\end{cases}\n",
    "$$"
   ]
  },
  {
   "cell_type": "code",
   "execution_count": 5,
   "metadata": {
    "collapsed": false
   },
   "outputs": [
    {
     "data": {
      "text/html": [
       "<html><script type=\"math/tex; mode=display\">\\newcommand{\\Bold}[1]{\\mathbf{#1}}\\frac{1}{2} \\, \\sqrt{-p^{2} + 1} p - \\frac{1}{2} \\, \\arcsin\\left(p\\right)</script></html>"
      ],
      "text/plain": [
       "1/2*sqrt(-p^2 + 1)*p - 1/2*arcsin(p)"
      ]
     },
     "metadata": {},
     "output_type": "display_data"
    }
   ],
   "source": [
    "var('p')\n",
    "x=sqrt(1-p^2)\n",
    "x1=diff(x,p)*p\n",
    "show(integral(x1,p))"
   ]
  },
  {
   "cell_type": "markdown",
   "metadata": {},
   "source": [
    "(6)\n",
    "作变量代换$2-y'=yt$代入原方程可得\n",
    "$$y=\\frac{1}{t}-t\\\\\n",
    "且 y'=t^2+1\n",
    "$$\n",
    "那么$$\\mathrm dx=\\frac{\\mathrm dy}{\\mathrm dt}\\frac{1}{y'}$$\n",
    "故$$x=\\frac{1}{t}+c$$\n",
    "所以微分方程的解为\n",
    "$$\n",
    "\\begin{cases}\n",
    "x=\\frac{1}{t}+c\\quad\\quad\\quad(t是参数)\\\\\n",
    "y=\\frac{1}{t}-t\n",
    "\\end{cases}\n",
    "$$"
   ]
  },
  {
   "cell_type": "code",
   "execution_count": 6,
   "metadata": {
    "collapsed": false
   },
   "outputs": [
    {
     "data": {
      "text/html": [
       "<html><script type=\"math/tex; mode=display\">\\newcommand{\\Bold}[1]{\\mathbf{#1}}\\frac{1}{t}</script></html>"
      ],
      "text/plain": [
       "1/t"
      ]
     },
     "metadata": {},
     "output_type": "display_data"
    }
   ],
   "source": [
    "var('t')\n",
    "y=-t+1/t\n",
    "y1=1+t^2\n",
    "y2=diff(y,t)/y1\n",
    "show(integral(y2,t))"
   ]
  },
  {
   "cell_type": "markdown",
   "metadata": {},
   "source": [
    "$B$"
   ]
  },
  {
   "cell_type": "code",
   "execution_count": null,
   "metadata": {
    "collapsed": true
   },
   "outputs": [],
   "source": []
  }
 ],
 "metadata": {
  "kernelspec": {
   "display_name": "SageMath 7.3",
   "language": "",
   "name": "sagemath"
  },
  "language_info": {
   "codemirror_mode": {
    "name": "ipython",
    "version": 2
   },
   "file_extension": ".py",
   "mimetype": "text/x-python",
   "name": "python",
   "nbconvert_exporter": "python",
   "pygments_lexer": "ipython2",
   "version": "2.7.10"
  }
 },
 "nbformat": 4,
 "nbformat_minor": 0
}
