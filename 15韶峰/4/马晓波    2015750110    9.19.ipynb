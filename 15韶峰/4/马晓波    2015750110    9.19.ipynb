{
 "cells": [
  {
   "cell_type": "markdown",
   "metadata": {},
   "source": [
    "**9月19日**\n"
   ]
  },
  {
   "cell_type": "markdown",
   "metadata": {},
   "source": [
    "**4.**$ 设f(x,y)及\\frac{\\partial f}{\\partial y}连续，试证方程dy-f(x,y)dx=0$为线性微分方程的充要条件是它有依赖于 x 的积分因子。\n",
    "\n",
    "证明：必要性：\n",
    "\n",
    "$\\because\\quad$ 方程 $dy-f(x,y)dx=0$ 为线性微分方程\n",
    "\n",
    "$\\therefore\\quad f(x,y)$ 是关于 $y$ 的一次有理整式\n",
    "\n",
    "$\\therefore\\quad \\frac{\\partial f(x,y)}{\\partial y}$ 仅与 $x$ 有关\n",
    "\n",
    "设：$\\quad\\varphi (x)=\\frac{\\partial f(x,y)}{\\partial y}$\n",
    "\n",
    "则$\\quad M(x,y)=-f(x,y)\\quad N(x,y)=1$\n",
    "\n",
    "$\\therefore\\quad \\frac{ \\frac{\\partial M(x,y)}{\\partial y}-\\frac{\\mathrm dN(x,y)}{\\mathrm x}} {N(x,y)}=-\\varphi(x)$ 仅与 $x$ 有关\n",
    "\n",
    "$\\therefore\\quad$ 方程 $dy-f(x,y)dx=0$ 有依赖于 $x$ 的积分因子\n",
    "\n",
    "$\\quad$充分性：\n",
    "\n",
    "设：$\\quad\\mu(x)$是方程 $dy-f(x,y)dx=0$ 有依赖于 $x$ 的积分因子\n",
    "\n",
    "则 $\\quad \\mu(x)dy-\\mu(x)f(x,y)dx=0$ 是恰当微分方程\n",
    "\n",
    "$\\therefore\\quad \\frac{\\mathrm du(x)}{\\mathrm d(x)}=\\frac{\\partial[u(x)f(x,y)]}{\\partial y}=u(x)\\frac{\\partial f(x,y)}{\\partial y}$\n",
    "\n",
    "$\\because\\quad u(x)$仅与 $x$ 有关\n",
    "\n",
    "$\\therefore\\quad \\frac{\\partial f(x,y)}{\\partial y}$ 仅与 $x$ 有关\n",
    "\n",
    "$\\therefore\\quad f(x,y)$是 $y$ 的一次有理整式\n",
    "\n",
    "$\\therefore\\quad$ 方程 $dy-f(x,y)dx=0$ 为线性微分方程"
   ]
  },
  {
   "cell_type": "markdown",
   "metadata": {},
   "source": [
    "**8.**求出伯努利微分方程的积分因子。\n",
    "\n",
    "解：设：伯努利方程为 $\\frac{\\mathrm dy}{\\mathrm dx}=p(x)y+q(x)y^n\\quad(1)$\n",
    "\n",
    "则 $$(p(x)y+q(x)y^n)\\mathrm dx-dy=0$$\n",
    "\n",
    "两边同乘以 $y^{-n}$,得 $$(p(x)y^{1-n}+q(x))\\mathrm dx-y^{-n}dy=0$$\n",
    "\n",
    "令 $z=y^{1-n}$ 则 $$(p(x)z+q(x))\\mathrm dx-\\frac{1}{1-n}dy=0 $$\n",
    "\n",
    "即 $$(1-n)p(x)z+(1-n)q(x)=\\frac{\\mathrm dz}{\\mathrm dx}\\quad(2)$$\n",
    "\n",
    "$(2)$ 式的积分因子为 $$e^{-\\int(1-n)p(x)\\mathrm dx}$$\n",
    "\n",
    "所以 $(1)$ 式积分因子为 $$u=y^{-n}e^{\\int(n-1)p(x)\\mathrm dx}$$\n"
   ]
  },
  {
   "cell_type": "markdown",
   "metadata": {},
   "source": [
    "**9** $设 \\mu(x,y)$是方程$Mdx+Ndy=0$ 的积分因子，从而求得可微函数 U(x,y) ，使得 $dU= \\mu(Mdx+Ndy)$.\n",
    "\n",
    "试证 $\\tilde\\mu(x,y)$ 也是方程 $Mdx+Ndy=0$ 的积分因子的充要条件是 $\\tilde\\mu(x,y)=\\mu\\varphi(U)$,其中 $\\varphi(t)$是 $t$ 的可微函数。\n",
    "\n",
    "证明：\n",
    "\n",
    "充分性：\n",
    "\n",
    "设:$\\quad\\tilde\\mu(x,y)=\\mu\\varphi(U)$, $\\varphi(t)$ 是 $t$ 的可微函数。\n",
    "\n",
    "则 $\\tilde\\mu(x,y)Mdx+\\tilde\\mu(x,y)Ndy=0$\n",
    "\n",
    "即 $\\quad\\mu\\varphi(U)Mdx+\\mu\\varphi(U)Ndy=0$ \n",
    "\n",
    "$\\therefore\\quad \\varphi(U)[\\mu Mdx+\\mu Ndy)]=0$ \n",
    "\n",
    "$\\because\\quad dU=\\mu(Mdx+Ndy)$\n",
    "\n",
    "$\\therefore\\quad \\varphi(U)dU=0$\n",
    "\n",
    "$\\because\\quad \\varphi(U)$ 是 $U$ 的可微函数\n",
    "\n",
    "$\\therefore\\quad \\mathrm d[\\int\\varphi(U)\\mathrm dU]=0$\n",
    "\n",
    "$\\therefore\\quad$ $\\tilde\\mu(x,y)$ 也是方程 $Mdx+Ndy=0$ 的积分因子\n",
    "\n",
    "必要性：（不会写）\n"
   ]
  },
  {
   "cell_type": "markdown",
   "metadata": {},
   "source": [
    "**9月22日**"
   ]
  },
  {
   "cell_type": "markdown",
   "metadata": {},
   "source": [
    "**1.求解下列方程**"
   ]
  },
  {
   "cell_type": "markdown",
   "metadata": {},
   "source": [
    "$（1）\\quad x y^{\\prime3}=1+y^\\prime$\n",
    "\n",
    "解：令 $y^\\prime=\\frac{1}{t}$,则$$x=t^2+t^3$$\n",
    "\n",
    "$\\therefore$ $$\\mathrm dy=y^\\prime\\mathrm dx=\\frac{1}{t}\\mathrm d(x=t^2+t^3)=3t+2\\mathrm dt$$\n",
    "\n",
    "$\\therefore$ $$y=\\int t^2+t^3\\mathrm dt=3t+2=\\frac{3}{2}t^2+2t+c$$\n",
    "\n",
    "$\\therefore$ 方程的解为\n",
    "$$\n",
    "\\begin{cases} \n",
    "x=t^2+t^3\\\\\n",
    "y=\\frac{3}{2}t^2+2t+c\\\\\n",
    "\\end{cases}\n",
    "$$"
   ]
  },
  {
   "cell_type": "markdown",
   "metadata": {},
   "source": [
    "$（2）\\quad y^{\\prime3}-x^3(1-y^\\prime)=0$\n",
    "\n",
    "解：令 $y=tx$,则$$x=\\frac{1}{t}-t^2$$\n",
    "\n",
    "$\\therefore$ $$\\mathrm dy=y^\\prime\\mathrm dx=tx\\mathrm d(\\frac{1}{t}-t^2)=-\\frac{1}{t^2}-t+2t^4\\mathrm dt$$\n",
    "\n",
    "$\\therefore$ $$y=\\int-\\frac{1}{t^2}-3t-2t^4\\mathrm dt=\\frac{1}{t}-\\frac{1}{2}t^2-\\frac{2}{5}t^5+c$$\n",
    "\n",
    "$\\therefore$方程的解为\n",
    "$$\n",
    "\\begin{cases} \n",
    "x=\\frac{1}{t}-t^2\\\\\n",
    "y=\\frac{1}{t}-\\frac{1}{2}t^2-\\frac{2}{5}t^5+c\\\\\n",
    "\\end{cases}\n",
    "$$"
   ]
  },
  {
   "cell_type": "markdown",
   "metadata": {},
   "source": [
    "$（3）\\quad y=y^{\\prime2}e^{y^\\prime}$\n",
    "\n",
    "解：令$p=y^\\prime$,则 $y=p^2e^p$\n",
    "\n",
    "$\\therefore$ $$\\mathrm dx=\\frac{1}{p}\\mathrm d(p^2e^p)=(2+p)e^p\\mathrm dp$$\n",
    "\n",
    "$\\therefore$ $$x=\\int(2+p)e^p\\mathrm dp=e^p(1+p)+c$$\n",
    "\n",
    "又$\\therefore \\quad y=0$也是方程的解\n",
    "\n",
    "$\\therefore$ 方程的解为\n",
    "$$\n",
    "\\begin{cases} \n",
    "x=e^p(1+p)+c\\\\\n",
    "y=p^2e^p\\\\\n",
    "\\end{cases}\n",
    ";\\quad y=0\n",
    "$$"
   ]
  },
  {
   "cell_type": "markdown",
   "metadata": {},
   "source": [
    "$（4）\\quad y(1+y^{\\prime2})=2a\\quad(a是常数)$\n",
    "\n",
    "解：$y^\\prime\\neq0$ 时\n",
    "\n",
    "令 $y^\\prime=\\frac{t}{y}-1$,则 $$y=\\frac{t^2}{y^2}=\\frac{1}{t}2a\\quad 即 \\quad y=\\frac{t^2}{\n",
    "2a}$$\n",
    "\n",
    "$$\\therefore \\mathrm dx=\\frac{1}{y^\\prime}\\mathrm dy=\\frac{1}{\\frac{t}{y}-1}\\mathrm d(\\frac{t^2}{2a})=\\frac{t^2}{a(2a-t)}\\mathrm dt$$\n",
    "\n",
    "$\\therefore$ $$x=\\int \\frac{t^2}{a(2a-t)}dt=-\\frac{t^2}{2a}-2aln|2a-t|-2t-t+c$$\n",
    "\n",
    "$y^\\prime=0$ 时，$y=2a$\n",
    "\n",
    "$\\therefore$ 方程的解为\n",
    "$$\n",
    "\\begin{cases} \n",
    "x=-\\frac{t^2}{2a}-2aln|2a-t|-2t-t+c\\\\\n",
    "y=\\frac{t^2}{2a}\\\\\n",
    "\\end{cases}\n",
    ";\\quad y=2a\n",
    "$$"
   ]
  },
  {
   "cell_type": "markdown",
   "metadata": {},
   "source": [
    "$(5)\\quad x^2+{y^\\prime} ^2=1$\n",
    "\n",
    "解：令$y^\\prime=t(1+x)$,则$$x=\\frac{1-t^2}{1+t^2}=\\frac{2}{1+t^2}-1$$\n",
    "\n",
    "$\\therefore$ $$\\mathrm dy=y^\\prime\\mathrm dx=t(1+x)\\mathrm d(\\frac{2}{1+t^2})=-\\frac{8t^2}{t^2(1+t^2)}\\mathrm dt$$\n",
    "\n",
    "$\\therefore$ $$y=\\int-\\frac{8t^2}{t^2(1+t^2)}\\mathrm dt=-8\\mathrm arctan(t)+c$$\n",
    "\n",
    "$\\therefore$方程的解为\n",
    "$$\n",
    "\\begin{cases}\n",
    "x=\\frac{2}{1+t^2}-1\\\\\n",
    "y=-8\\mathrm arctan(t)+c\\\\\n",
    "\\end{cases}\n",
    "$$"
   ]
  },
  {
   "cell_type": "markdown",
   "metadata": {},
   "source": [
    "$（6）\\quad y^2(y^\\prime-1)=(2-y^\\prime)^2$\n",
    "\n",
    "解：令 $y^\\prime=2-ty$,则$$y^2(1-ty)=t^2y^2$$\n",
    "\n",
    "$\\therefore$ $$y=\\frac{1}{t}-t$$\n",
    "\n",
    "$\\therefore$ $$\\mathrm dx=y^\\prime\\mathrm dy=2-ty\\mathrm d(\\frac{1}{t}-t)=-\\frac{1}{t^2}\\mathrm dt$$\n",
    "\n",
    "$\\therefore$ $$x=\\int-\\frac{1}{t^2}\\mathrm dt=\\frac{1}{t}+c$$\n",
    "\n",
    "$\\therefore$方程的解为\n",
    "$$\n",
    "\\begin{cases}\n",
    "x=\\frac{1}{t}+c\\\\\n",
    "y=\\frac{1}{t}-t\\\\\n",
    "\\end{cases}\n",
    "$$"
   ]
  },
  {
   "cell_type": "markdown",
   "metadata": {},
   "source": [
    "$A$"
   ]
  },
  {
   "cell_type": "code",
   "execution_count": null,
   "metadata": {
    "collapsed": true
   },
   "outputs": [],
   "source": []
  }
 ],
 "metadata": {
  "kernelspec": {
   "display_name": "SageMath 7.3",
   "language": "",
   "name": "sagemath"
  },
  "language_info": {
   "codemirror_mode": {
    "name": "ipython",
    "version": 2
   },
   "file_extension": ".py",
   "mimetype": "text/x-python",
   "name": "python",
   "nbconvert_exporter": "python",
   "pygments_lexer": "ipython2",
   "version": "2.7.10"
  }
 },
 "nbformat": 4,
 "nbformat_minor": 0
}
