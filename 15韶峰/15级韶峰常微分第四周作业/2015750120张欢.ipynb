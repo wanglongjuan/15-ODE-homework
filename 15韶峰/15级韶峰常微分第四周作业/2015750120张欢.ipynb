{
 "cells": [
  {
   "cell_type": "markdown",
   "metadata": {},
   "source": [
    "### 1.设$f(x,y)$及$\\frac{\\partial f}{\\partial y}$连续，试证方程$dy-f(x,y)dx=o$为线性微分方程的充要条件是它有仅依赖于$x$的积分因子。\n",
    "\n"
   ]
  },
  {
   "cell_type": "markdown",
   "metadata": {},
   "source": [
    "解 :           =>  $dy-f(x,y)dx=0$为线性微分方程则$$\\frac{dy}{dx}=P(x)y+Q(x)$$\n",
    "                       它有仅与$x$有关的积分因子$$\\mu=e^{-\\int P(x)dx}$$\n",
    "                       <=若方程存在仅依赖于$x$的积分因子$\\mu(x)$\n",
    "                       则有$$\\mu(x)dy-\\mu(x)f(x,y)dx=0$$\n",
    "                       $$ \\frac{\\partial \\mu(x)}{\\partial x}=\\frac{\\partial \\mu(x)f(x,y)}{\\partial y}$$\n",
    "                       $$\\frac{df}{dy}=\\frac{\\mu'(x)}{\\mu(x)}$$\n",
    "                       $$f(x,y)=\\int{\\frac{\\mu'(x)}{\\mu(x)}}dy+Q(x)$$\n",
    "                       令$$P(x)=\\frac{\\mu'(x)}{\\mu(x)}$$\n",
    "                       原方程化为$$\\frac{dy}{dx}=P(x)y+Q(x)$$为线性微分方程。"
   ]
  },
  {
   "cell_type": "markdown",
   "metadata": {},
   "source": [
    "### 2.求出伯努利微分方程的积分因子。"
   ]
  },
  {
   "cell_type": "markdown",
   "metadata": {},
   "source": [
    "解：伯努利微分方程$$\\frac{dy}{dx}=P(x)y+Q(x)y^n$$\n",
    "左右两边同时乘$y^{-n}$得到$$y^{-n}\\frac{dy}{dx}=P(x)y^{1-n}+Q(x)$$\n",
    "令$z=y^{1-n}$则$$\\frac{dz}{dx}=(1-n)y^{-n}\\frac{dy}{dx}=(1-n)[P(x)z+Q(x)]$$\n",
    "它的一个积分因子为$$e^{(n-1)\\int P(x)dx}$$\n",
    "\n",
    "\n",
    "**错误**\n",
    "\n"
   ]
  },
  {
   "cell_type": "markdown",
   "metadata": {},
   "source": [
    "### 3.设$\\mu(x,y)$是方程$M(x,y)dx+N(x,y)dy=0$的积分因子，从而求得可微函数$U(x,y)$,使得 $dU=\\mu(Mdx+Ndy)$。试证$\\hat{\\mu}(x,y)$也是方程的积分因子的充要条件是$\\hat{\\mu}(x,y)=\\mu\\varphi(U)$,其中$\\varphi(t)$是$t$的可微函数。"
   ]
  },
  {
   "cell_type": "markdown",
   "metadata": {},
   "source": [
    "证明：<=若$\\hat{\\mu}(x,y)=\\mu\\varphi(U)$，因为$$\n",
    "\\frac{\\partial(\\hat{\\mu}M)}{\\partial y}=\\frac{\\partial{\\mu\\varphi(u)M}}{\\partial y}=\\frac {\\partial(\\mu M)}{\\partial y}\\varphi(u)+\\mu M\\varphi '(u)\\frac{\\partial\\mu}{\\partial y}\\\\=\\frac{\\partial (\\mu M)}{\\partial y}\\varphi (u)+\\mu M\\varphi '(u)\\mu N$$\n",
    "$$\\frac{\\partial(\\hat{\\mu}N)}{\\partial x}==\\frac{\\partial (\\mu M)}{\\partial y}\\varphi (u)+\\mu M\\varphi '(u)\\mu N= \\frac{\\partial(\\hat{\\mu}M)}{\\partial y}$$\n",
    "所以$\\hat{\\mu}(x,y)=\\mu\\varphi(U)$也是方程的积分因子.\n",
    "\n",
    "=>设$\\hat{\\mu}$是方程的积分因子，则$\\frac{\\partial(\\hat{\\mu}N)}{\\partial x}=\\frac{\\partial(\\hat{\\mu}M)}{\\partial y}$\n",
    "\n",
    "又因为$$\\frac{\\partial(\\hat{\\mu}M)}{\\partial y}=\\frac{\\partial(\\frac{\\hat{\\mu}}{\\mu}*\\mu M)}{\\partial y}=\\frac{\\partial (\\frac{\\hat{\\mu}}{\\mu})}{\\partial y}*\\mu M+\\frac{\\hat{\\mu}}{\\mu}*\\frac{\\partial(\\mu*M)}{\\partial y}$$\n",
    "$$\\frac{\\partial(\\hat{\\mu}N)}{\\partial x}=\\frac{\\partial(\\frac{\\hat{\\mu}}{\\mu}*\\mu N)}{\\partial x}=\\frac{\\partial (\\frac{\\hat{\\mu}}{\\mu})}{\\partial x}*\\mu N+\\frac{\\hat{\\mu}}{\\mu}*\\frac{\\partial(\\mu*N)}{\\partial x}$$\n",
    "因为$\\mu$是方程的积分因子，则有$$\\frac{\\partial(\\mu M)}{\\partial y}=\\frac{\\partial(\\mu N)}{\\partial x}$$\n",
    "对比等式，得出$$M*\\frac{\\partial(\\frac{\\hat{\\mu}}{\\mu})}{\\partial y}=N*\\frac{\\partial(\\frac{\\hat{\\mu}}{\\mu})}{\\partial x}$$\n",
    "另外由$dU=\\mu*(Mdx+Ndy)$以及偏微分的关系$$\\frac{\\partial U}{\\partial x}=\\mu M,\\frac{\\partial U}{\\partial y}=\\mu N$$\n",
    "则有$$\\frac{\\frac{\\partial(\\frac{\\hat{\\mu}}{\\mu})}{\\partial y}}{\\frac{\\partial(\\frac{\\hat{\\mu}}{\\mu})}{\\partial x}}=\\frac{\\frac{\\partial U}{\\partial y}}{\\frac{\\partial U}{\\partial x}}$$\n",
    "得到$$\\frac{\\hat{\\mu}}{\\mu}=\\varphi(U)$$"
   ]
  },
  {
   "cell_type": "markdown",
   "metadata": {},
   "source": [
    "### 4.求解下列方程:"
   ]
  },
  {
   "cell_type": "markdown",
   "metadata": {},
   "source": [
    "#### (1)$xy'^3=1+y'$"
   ]
  },
  {
   "cell_type": "markdown",
   "metadata": {},
   "source": [
    "令$y'=p$,则$xp^3=1+P$\n",
    "\n",
    "令$p=\\frac{1}{t}$,则$x=t^3+t^2$\n",
    "\n",
    "由关系式$dy=pdx$,得$$dy=\\frac{1}{t}d(t^3+t^2)\\\\\n",
    "=\\frac{1}{t}(3t^2+2t)dt\\\\\n",
    "=(3t+2)dt$$\n",
    "$$y=\\int(3t+2)dt+c\\\\\n",
    "=\\frac{3}{2}t^2+2t+c$$\n",
    "则方程通解为\n",
    "$$\\begin{cases}\n",
    "x=t^3+t^2\\\\\n",
    "y=\\frac{3}{2}t^2+2t+c\n",
    "\\end{cases}$$"
   ]
  },
  {
   "cell_type": "markdown",
   "metadata": {},
   "source": [
    "#### (2)$y'^3-x^3(1-y')=0$"
   ]
  },
  {
   "cell_type": "markdown",
   "metadata": {},
   "source": [
    "令$y'=p$,$p^3-x^3(1-p)=0$\n",
    "$$x^3=\\frac{p^3}{1-p}$$\n",
    "令$p=tx$,则$x==\\frac{1-t^3}{t}$\n",
    "\n",
    "由$dy=pdx$,得$$dy=t\\frac{1-t^3}{t}d(\\frac{1-t^3}{t})\\\\\n",
    "=(1-t^3)(-\\frac{1}{t^2}-2t)dt\\\\\n",
    "=(-\\frac{1}{t^2}-2t+t+2t^4)dt$$\n",
    "$$y=\\int(-\\frac{1}{t^2}-2t+t+2t^4)dt+c\\\\\n",
    "=\\frac{1}{t}-\\frac{t^2}{2}+\\frac{2t^5}{5}+c$$"
   ]
  },
  {
   "cell_type": "markdown",
   "metadata": {},
   "source": [
    "#### (3)$y=y'^2e^y$"
   ]
  },
  {
   "cell_type": "markdown",
   "metadata": {},
   "source": [
    "令$y'=p$,$y=p^2e^p$\n",
    "$$dy=pdx$$\n",
    "$$dx=\\frac{dy}{p}=\\frac{1}{p}d(p^2e^p)\\\\\n",
    "=\\frac{1}{p}(2pe^p+p^2e^p)dp\\\\\n",
    "=(2e^p+pe^p)dp+c$$\n",
    "$$x=e^p+pe^p+c$$\n",
    "则通解为$$\n",
    "\\begin{cases}\n",
    "x=e^p+pe^p+c\\\\\n",
    "y=p^2e^p\n",
    "\\end{cases}$$"
   ]
  },
  {
   "cell_type": "markdown",
   "metadata": {},
   "source": [
    "#### (4)$y(1=y'^2)=2a$(a为常数）"
   ]
  },
  {
   "cell_type": "markdown",
   "metadata": {},
   "source": [
    "令$y'=p=\\tan t$,$y(1+p^2)=2a$\n",
    "$$y=2a\\cos^2t$$\n",
    "\n",
    "$$dx=\\frac{dy}{p}=\\frac{d(\\frac{2a}{1+p^2})}{p}\\\\\n",
    "=\\frac{1}{p}*\\frac{-2p*2a}{(1+p^2)^2}dp$$\n",
    "$$dx=\\frac{-4a}{(1+p^2)^2}dp$$\n",
    "$$x=\\frac{1}{1+p^2}\\\\\n",
    "=-a(2t+\\sin2t)+c$$\n",
    "则通解为$$\n",
    "\\begin{cases}\n",
    "x=-a(2t+\\sin2t)+c\\\\\n",
    "y=2a\\cos^2t\n",
    "\\end{cases}$$\n"
   ]
  },
  {
   "cell_type": "markdown",
   "metadata": {},
   "source": [
    "#### (5)$x^2+y'^2=1$\n"
   ]
  },
  {
   "cell_type": "markdown",
   "metadata": {},
   "source": [
    "令$\\frac{dy}{dx}=y'=p=\\cos t$,则$x^2=1-\\cos^2t=\\sin^2t$\n",
    "\n",
    "所以$$y=\\int \\cos td(\\sin t)+c\\\\\n",
    "\\frac{1}{2}t+\\frac{1}{4}\\sin2t+c$$\n",
    "则通解为$$\n",
    "\\begin{cases}\n",
    "x=\\sin t\\\\\n",
    "y=\\frac{1}{2}t+\\frac{1}{4}\\sin2t+c\n",
    "\\end{cases}$$"
   ]
  },
  {
   "cell_type": "markdown",
   "metadata": {},
   "source": [
    "#### (6)$y^2(y'-1)=(2-y')^2$"
   ]
  },
  {
   "cell_type": "markdown",
   "metadata": {},
   "source": [
    "令$2-y'=p=pt$,有$y^2(1-p)=p^2$\n",
    "\n",
    "$=>y=\\frac{1+t^2}{t}$\n",
    "$$x=\\frac{dy}{p}=\\frac{dy}{1-t^2}=\\frac{(1-t^{-2})dt}{1-t^2}=\\frac{t^2-1}{t^2(1-t^2)}dt=-\\frac{1}{t^2}dt$$\n",
    "从而$$x=\\int (-\\frac{1}{t^2})dt+c=\\frac{1}{t}+c$$\n",
    "则通解为\n",
    "$$\n",
    "\\begin{cases}\n",
    "x=\\frac{1}{t}+c\\\\\n",
    "y=t+\\frac{1}{t}\n",
    "\\end{cases}$$"
   ]
  },
  {
   "cell_type": "markdown",
   "metadata": {
    "collapsed": true
   },
   "source": [
    "$A^-$"
   ]
  },
  {
   "cell_type": "code",
   "execution_count": null,
   "metadata": {
    "collapsed": true
   },
   "outputs": [],
   "source": []
  },
  {
   "cell_type": "markdown",
   "metadata": {},
   "source": []
  }
 ],
 "metadata": {
  "kernelspec": {
   "display_name": "SageMath 7.3",
   "language": "",
   "name": "sagemath"
  },
  "language_info": {
   "codemirror_mode": {
    "name": "ipython",
    "version": 2
   },
   "file_extension": ".py",
   "mimetype": "text/x-python",
   "name": "python",
   "nbconvert_exporter": "python",
   "pygments_lexer": "ipython2",
   "version": "2.7.10"
  }
 },
 "nbformat": 4,
 "nbformat_minor": 0
}
