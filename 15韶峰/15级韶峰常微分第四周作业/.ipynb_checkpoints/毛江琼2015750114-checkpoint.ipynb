{
 "cells": [
  {
   "cell_type": "markdown",
   "metadata": {},
   "source": [
    "习题2.4 $P_{69}$\n",
    "\n",
    "求解下列方程\n",
    "\n",
    "1)$x{y^\\prime}^3=1+y^\\prime$\n",
    "\n",
    "令 $y^\\prime=\\frac{1}{t},x=t^2+t^3$\n",
    "\n",
    "$y=\\int y^\\prime\\,dx=\\frac{3}{2}t^2+2t+C$\n",
    "\n",
    "$$\\begin{cases}\n",
    "x=t^2+t^3\\\\\n",
    "y=\\frac{3}{2}t^2+2t+C\n",
    "\\end{cases}$$\n",
    "\n",
    "2)${y^\\prime}^3-x^3((1-y^\\prime)=0$\n",
    "\n",
    "令$y^\\prime=tx,x=\\frac{1-t^3}{t}$\n",
    "\n",
    "$y=\\int y^\\prime\\,dx=\\frac{2}{5}t^5-\\frac{1}{2}t^2+\\frac{1}{t}+C$\n",
    "\n",
    "$$\\begin{cases}\n",
    "x=\\frac{1-t^3}{t}\\\\\n",
    "y=\\int y^\\prime\\,dx=\\frac{2}{5}t^5-\\frac{1}{2}t^2+\\frac{1}{t}+C\n",
    "\\end{cases}$$\n",
    "\n",
    "3)$y={y^\\prime}^2e^{y^\\prime}$\n",
    "\n",
    "令$y^\\prime=t,y=t^2et$\n",
    "\n",
    "$dy=(2t+t^2)e^t$\n",
    "\n",
    "$x=\\frac{dy}{y^\\prime}=(2+t)e^t$\n",
    "\n",
    "$x=\\int \\,dx=(1+t)e^t$\n",
    "\n",
    "$$\\begin{cases}\n",
    "x=(1+t)e^t\\\\\n",
    "y=t^2et\n",
    "\\end{cases}$$\n",
    "\n",
    "4)$y(1+{y^\\prime}2)=2a$,（a为常数）\n",
    "\n",
    "令$y^\\prime=tan\\alpha,y=2acos^2\\alpha$\n",
    "\n",
    "$dx=\\frac{dy}{y^\\prime}=-4acos^2\\alpha$\n",
    "\n",
    "$x=-a(2\\alpha+sin2\\alpha)+C$\n",
    "\n",
    "\n",
    "$$\\begin{cases}\n",
    "x=-a(2\\alpha+sin2\\alpha)+C\\\\\n",
    "y=2acos^2\\alpha\n",
    "\\end{cases}$$\n",
    "\n",
    "5)$x^2+{y^\\prime}^2=1$\n",
    "\n",
    "令$y^\\prime=sin\\alpha,x=cos\\alpha$\n",
    "\n",
    "$y=\\int y^\\prime\\,dx=\\frac{1}{4}sin2\\alpha-\\frac{1}{2}\\alpha+C$\n",
    "\n",
    "$$\\begin{cases}\n",
    "x=cos\\alpha\\\\\n",
    "y=\\frac{1}{4}sin2\\alpha-\\frac{1}{2}\\alpha+C\n",
    "\\end{cases}$$\n",
    "\n",
    "6)$y^2(y^\\prime-1)=(2-y^\\prime)^2$\n",
    "\n",
    "令$2-y^\\prime=ty,y=\\frac{1}{t}-t$\n",
    "\n",
    "$y^\\prime=t^2+1$\n",
    "\n",
    "$dx=\\frac{dy}{y^\\prime}=-\\frac{1}{t^2}$\n",
    "\n",
    "$x=-\\frac{1}{t}+C$\n",
    "\n",
    "$$\\begin{cases}\n",
    "x=-\\frac{1}{t}+C\\\\\n",
    "y=\\frac{1}{t}-t\n",
    "\\end{cases}$$"
   ]
  },
  {
   "cell_type": "markdown",
   "metadata": {},
   "source": [
    "习题2.3$P_61$\n",
    "\n",
    "4.设$f(x,y)$及$\\frac{\\partial f}{\\partial y}$连续，试证方程$dy-f(x,y)dx=0$为线性微分方程的充要条件是它有仅依赖于x的积分因子\n",
    "\n",
    "必要性：线性，$\\frac{dy}{dx}=P(x)y+Q(x)$\n",
    "\n",
    "有$M=P(x)y+Q(x),N=-1$\n",
    "\n",
    "$\\frac{\\frac{\\partial M}{\\partial y}-\\frac{\\partial N}{\\partial y}}{N}=P(x)$\n",
    "\n",
    "所以它有仅依赖于x的积分因子，必要性得证\n",
    "\n",
    "充分性：有仅依赖于x的积分因子$\\mu(x)$\n",
    "\n",
    "$\\mu dy-\\mu f(x,y)dx=0$为恰当方程\n",
    "\n",
    "$\\frac{\\partial {(\\mu f)}}{\\partial y}=\\frac{\\partial \\mu}{\\partial x}$\n",
    "\n",
    "$\\frac{\\partial f}{\\partial y}=\\frac{u^\\prime(x)}{u(x)}$\n",
    "\n",
    "$f=-\\int {\\frac{\\partial \\mu}{\\partial x}}\\,dy+Q(x)=P(x)y+Q(x)$\n",
    "\n",
    "其中$P(x)=-\\frac{u^\\prime(x)}{u(x)}$\n",
    "\n",
    "8.求出伯努利微分方程的积分因子$$\\frac{dy}{dx}=P(x)y+Q(x)y^n$$\n",
    "\n",
    "令$z=y^{1-n}$,则$\\frac{dz}{dx}=(1-n)P(x)z+(1-n)Q(x)$\n",
    "\n",
    "依上题，所以有积分因子$\\mu=e^{-\\int (1-n)P(x)\\,dx}$\n",
    "\n",
    "\n",
    "9.设$\\mu (x,y)$是方程$M(x,y)dx+N(x,y)dy=0$的积分因子，从而求得可微函数$U(x,y)$,使得$\\partial U=\\mu(Mdx+Ndy)$,\n",
    "试证$\\tilde\\mu (x,y)$也是方程的积分因子的充要条件是$\\tilde\\mu (x,y)=\\mu \\varphi(U)$,其中$\\varphi(t)$是t的可微函数\n",
    "\n",
    "不会做...\n"
   ]
  },
  {
   "cell_type": "markdown",
   "metadata": {
    "collapsed": true
   },
   "source": [
    "8.$$\\mu=y^{-n}e^{(n-1){\\int\\mathrm{p(x)}\\mathrm{d}x}}$$"
   ]
  },
  {
   "cell_type": "markdown",
   "metadata": {},
   "source": [
    "$B$"
   ]
  },
  {
   "cell_type": "code",
   "execution_count": null,
   "metadata": {
    "collapsed": true
   },
   "outputs": [],
   "source": []
  }
 ],
 "metadata": {
  "kernelspec": {
   "display_name": "SageMath 7.3",
   "language": "",
   "name": "sagemath"
  },
  "language_info": {
   "codemirror_mode": {
    "name": "ipython",
    "version": 2
   },
   "file_extension": ".py",
   "mimetype": "text/x-python",
   "name": "python",
   "nbconvert_exporter": "python",
   "pygments_lexer": "ipython2",
   "version": "2.7.10"
  }
 },
 "nbformat": 4,
 "nbformat_minor": 0
}
