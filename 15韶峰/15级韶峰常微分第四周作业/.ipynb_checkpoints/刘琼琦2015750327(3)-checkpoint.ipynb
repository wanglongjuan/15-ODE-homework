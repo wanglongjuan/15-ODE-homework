{
 "cells": [
  {
   "cell_type": "markdown",
   "metadata": {},
   "source": [
    "## 姓名：刘琼琦"
   ]
  },
  {
   "cell_type": "markdown",
   "metadata": {},
   "source": [
    "## 学号：2015750327"
   ]
  },
  {
   "cell_type": "markdown",
   "metadata": {},
   "source": [
    "# $$作业一（9月19日）$$"
   ]
  },
  {
   "cell_type": "markdown",
   "metadata": {},
   "source": [
    "## 习题2.3"
   ]
  },
  {
   "cell_type": "markdown",
   "metadata": {},
   "source": [
    "## 4.设$f(x,y)$及$\\frac{\\partial f}{\\partial y}$连续，试证方程$\\mathrm d y-f(x,y)\\mathrm d x=0$为线性微分方程的充要条件是它有仅依赖于x的积分因子。"
   ]
  },
  {
   "cell_type": "markdown",
   "metadata": {},
   "source": [
    "**解**\n",
    "\n",
    "充分性：因为积分因子依赖于x，所以存在某个$\\psi(x)$满足\n",
    "\n",
    "$$\\frac{\\frac{\\partial M}{\\partial y}-\\frac{\\partial N}{\\partial x}}{N}=\\frac{-\\frac{\\partial f}{\\partial y}-0}{1}=\\psi(x)$$\n",
    "\n",
    "即$$\\frac{\\partial f}{\\partial y}=-\\psi(x),$$\n",
    "\n",
    "对上式两边积分后得$f(x,y)=-\\psi（x)y+h(x),$\n",
    "\n",
    "这里h(x)是关于x的任意可微函数，所以，原方程可以为\n",
    "\n",
    "$$\\frac{d y}{d x}=-\\psi（x)y+h(x),$$\n",
    "\n",
    "所以$\\mathrm d y-f(x,y)\\mathrm d x=0$是线性的。"
   ]
  },
  {
   "cell_type": "markdown",
   "metadata": {},
   "source": [
    "必要性：设方程$\\mathrm d y-f(x,y)\\mathrm d x=0$是线性微分方程，即存在函数$g(x),h(x)$使得\n",
    "\n",
    "$$f(x,y)=yg(x)+h(x)$$\n",
    "\n",
    "这样$M=-f(x,y)=-yg(x)-h(x),N=1,$\n",
    "\n",
    "$$\\frac{\\frac{\\partial M}{\\partial y}-\\frac{\\partial N}{\\partial x}}{N}=\\frac{-g(x)}{1}=-g(x),$$\n",
    "\n",
    "所以，方程具有积分因子\n",
    "\n",
    "$$\\mu=e^{\\int-g(x)\\mathrm d x}$$\n",
    "\n",
    "这就证明了方程有仅依赖于x的积分因子。"
   ]
  },
  {
   "cell_type": "markdown",
   "metadata": {},
   "source": [
    "\n",
    "\n",
    "## 8.求出伯努利微分方程的积分因子。"
   ]
  },
  {
   "cell_type": "markdown",
   "metadata": {},
   "source": [
    "**解**\n",
    "伯努利微分方程为 $\\frac{\\mathrm d y}{\\mathrm d x}=P(x)y+Q(x)y^n$\n",
    "\n",
    "两边同时除以 $y^n$,得到$\\frac{\\mathrm d(\\frac{1}{y^{n-1}})}{\\mathrm d x}=\\frac{(1-n)P(x)}{y^n-1}+(1-n)Q(x)$\n",
    "\n",
    "令 $\\frac{1}{y^{n-1}}=Z,(1-n)P(x)=P_1(x),(1-n)Q(x)=Q_1(x)$\n",
    "\n",
    "则原式等于$[P_1(x)Z+Q_1(x)]\\mathrm d x-\\mathrm d Z=0$\n",
    "\n",
    "设$\\mu_1(x,Z)$为方程$[P_1(x)Z+Q_1(x)]\\mathrm d x-\\mathrm d Z=0$的积分因子\n",
    "\n",
    "则$\\frac{\\partial \\mu_1}{\\partial Z}(P_1(x)Z+Q_1(x))+\\mu(P_1(x))=-\\frac{\\partial \\mu_1}{\\partial x}$\n",
    "\n",
    "令$\\frac{\\partial \\mu_1}{\\partial Z}=0,则-\\frac{\\mathrm d\\mu_1}{\\mu_1}=P_1(x)\\mathrm d x$\n",
    "\n",
    "两边同时积分得到$\\mu_1=ce^{-\\int P_1(x) \\mathrm d x}$\n",
    "\n",
    "即$\\mu_1=ce^{-(1-n)\\int P(x) \\mathrm d x}$\n",
    "\n",
    "综上所述$\\mu=cy^{-n}e^{(n-1)\\int P(x) \\mathrm d x}$"
   ]
  },
  {
   "cell_type": "markdown",
   "metadata": {},
   "source": [
    "\n",
    "\n",
    "\n",
    "## 9.设$\\mu(x,y)$是方程$M(x,y)\\mathrm d x+N(x,y)\\mathrm d y=0$的积分因子，从而求得可微方程$U(x,y)$,使得$\\mathrm d U=\\mu(M\\mathrm d x+N\\mathrm d y)$.试证$\\tilde\\mu(x,y)$也是方程$M(x,y)\\mathrm d x+N(x,y)\\mathrm d y=0$的积分因子的充要条件是$\\tilde\\mu(x,y)=\\mu\\psi(U)$，其中$\\psi(t)$是t的可微函数。"
   ]
  },
  {
   "cell_type": "markdown",
   "metadata": {
    "collapsed": true
   },
   "source": [
    "**解**\n",
    "充分性\n",
    "因为$\\tilde\\mu(x,y)=\\mu\\psi(U)$\n",
    "\n",
    "所以$\\frac{\\partial \\tilde\\mu(x,y)M}{\\partial y}=\\frac{\\partial \\mu}{\\partial y}(\\psi(U)M)+\\mu(\\frac{\\partial \\psi(U)}{\\partial U}\\frac{\\partial U}{\\partial y}M+\\psi(U)\\frac{\\partial M}{\\partial y})$\n",
    "\n",
    "又因为$\\mathrm d U=\\mu(M\\mathrm d x+N\\mathrm d y)$\n",
    "\n",
    "所以$\\frac{\\partial \\tilde\\mu(x,y)M}{\\partial y}=\\frac{\\partial \\mu}{\\partial y}(\\psi(U)M)+\\mu(\\frac{\\partial \\psi(U)}{\\partial U}\\mu NM+\\psi(U)\\frac{\\partial M}{\\partial y})$\n",
    "\n",
    "同理可得$\\frac{\\partial \\tilde\\mu(x,y)N}{\\partial x}=\\frac{\\partial \\mu}{\\partial x}(\\psi(U)N)+\\mu(\\frac{\\partial \\psi(U)}{\\partial U}\\mu MN+\\psi(U)\\frac{\\partial N}{\\partial x})$\n",
    "\n",
    "又因为$\\mu$是方程的一个积分因子\n",
    "\n",
    "所以$\\frac{\\partial \\mu}{\\partial y}M+\\mu\\frac{\\partial M}{\\partial y}=\\frac{\\partial \\mu}{\\partial x}N+\\mu\\frac{\\partial N}{\\partial x}$\n",
    "\n",
    "且$\\mu\\frac{\\partial \\psi(U)}{\\partial U}\\mu NM=\\mu\\frac{\\partial \\psi(U)}{\\partial U}\\mu NM$\n",
    "\n",
    "所以$\\tilde\\mu(x,y)=\\mu\\psi(U)$是方程$M(x,y)\\mathrm d x+N(x,y)\\mathrm d y=0$的积分因子"
   ]
  },
  {
   "cell_type": "markdown",
   "metadata": {},
   "source": [
    "必要性：设$\\mu$是方程的积分因子，则\n",
    "\n",
    "$\\frac{\\partial (\\tilde\\mu M)}{\\partial y}=\\frac{\\partial (\\tilde\\mu N)}{\\partial x},$\n",
    "\n",
    "$又由于\\frac{\\partial (\\tilde\\mu M)}{\\partial y}=\\frac{\\partial (\\frac{\\tilde\\mu}{\\mu} \\mu N)}{\\partial x}=\\frac{\\partial (\\frac{\\tilde\\mu}{\\mu})}{\\partial y}\\mu M+\\frac{\\tilde\\mu}{\\mu}\\frac{\\partial \\mu M}{\\partial y}$\n",
    "\n",
    "$\\frac{\\partial (\\tilde\\mu N)}{\\partial x}=\\frac{\\partial (\\frac{\\tilde\\mu}{\\mu} \\mu N)}{\\partial x}=\\frac{\\partial (\\frac{\\tilde\\mu}{\\mu})}{\\partial x}\\mu N+\\frac{\\tilde\\mu}{\\mu}\\frac{\\partial \\mu N}{\\partial x}$\n",
    "\n",
    "注意到$\\mu是方程的积分因子，则有，$\n",
    "\n",
    "$\\frac{\\partial (\\mu M)}{\\partial y}=\\frac{\\partial (\\mu N)}{\\partial x}$\n",
    "\n",
    "比较前面4个等式，则有\n",
    "\n",
    "$M\\frac{\\partial (\\frac{\\tilde\\mu}{\\mu})}{\\partial y}=N\\frac{\\partial (\\mu M)}{\\partial x}$\n",
    "\n",
    "另外考虑到$dU=\\mu(Mdx+Ndy)以及全微分与偏导数的关系，有$\n",
    "\n",
    "$\\frac{\\partial U}{\\partial x}=\\mu M,\\frac{\\partial U}{\\partial y}=\\mu N,$\n",
    "\n",
    "即$\\frac{\\frac{\\partial (\\frac{\\tilde\\mu}{\\mu})}{\\partial y}}{\\frac{\\partial (\\mu M)}{\\partial x}}=\\frac{\\frac{\\partial U}{\\partial y}}{\\frac{\\partial U}{\\partial x}}$\n",
    "\n",
    "则$\\frac{\\tilde\\mu}{\\mu}=\\psi(U)$\n",
    "\n",
    "证毕\n"
   ]
  },
  {
   "cell_type": "markdown",
   "metadata": {},
   "source": [
    "## $$作业二（9月21日）$$"
   ]
  },
  {
   "cell_type": "markdown",
   "metadata": {},
   "source": [
    "## 习题2.4"
   ]
  },
  {
   "cell_type": "markdown",
   "metadata": {},
   "source": [
    "## 1.求解下列方程"
   ]
  },
  {
   "cell_type": "markdown",
   "metadata": {},
   "source": [
    "## (1)$x{y^\\prime}^3=1+y^\\prime$"
   ]
  },
  {
   "cell_type": "markdown",
   "metadata": {
    "collapsed": true
   },
   "source": [
    "**解**\n",
    "令 $y\\prime=p$\n",
    "\n",
    "则原式等于 $xp^3=1+p,x=\\frac{1+p}{p^3}≠0$\n",
    "\n",
    "则 $dy=pdx,dy=(-\\frac{2}{p^2}-\\frac{3}{p^3}）dp$\n",
    "\n",
    "两边同时积分得到 $y=\\frac{3}{2p^2}+\\frac{2}{p}+c$\n",
    "\n",
    "所以方程的通解为\n",
    "$$\n",
    "\\begin{cases}\n",
    "x=\\frac{1+p}{p^3},\\\\\n",
    "y=\\frac{3}{2p^2}+\\frac{2}{p}+c,\\\\\n",
    "\\end{cases}\n",
    "$$\n",
    "其中$$p≠0$$"
   ]
  },
  {
   "cell_type": "markdown",
   "metadata": {},
   "source": [
    "## (2)${y^\\prime}^3-x^3(1-y^\\prime)=0$"
   ]
  },
  {
   "cell_type": "markdown",
   "metadata": {
    "collapsed": true
   },
   "source": [
    "**解**\n",
    "\n",
    "令$y^\\prime=xt$\n",
    "\n",
    "则方程可变为$t^3x^3-x^3(1-xt)=0$\n",
    "\n",
    "所以$x=\\frac{1-t^3}{t},y^\\prime=1-t^3$\n",
    "\n",
    "从而$\\mathrm d y=y^\\prime\\mathrm d x=(2t^4-t-\\frac{1}{t^2})\\mathrm d t$\n",
    "\n",
    "因此$y=\\frac{2t^5}{5}-\\frac{t^2}{2}+\\frac{1}{t}+c$\n",
    "\n",
    "于是方程的通解为\n",
    "$$\n",
    "\\begin{cases}\n",
    "x=\\frac{1-t^3}{t},y^\\prime=1-t^3,\\\\\n",
    "y=\\frac{2t^5}{5}-\\frac{t^2}{2}+\\frac{1}{t}+c,\\\\\n",
    "\\end{cases}\n",
    "$$\n"
   ]
  },
  {
   "cell_type": "markdown",
   "metadata": {},
   "source": [
    "## (3)$y={y^\\prime}^2e^{y^\\prime}$"
   ]
  },
  {
   "cell_type": "markdown",
   "metadata": {
    "collapsed": true
   },
   "source": [
    "**解**\n",
    "\n",
    "显然$y=0$是方程的一个解\n",
    "\n",
    "当$y≠0$时，令$y^\\prime=p$则原方程变为$y=p^2e^p$,\n",
    "\n",
    "两边对x求导数，则$p=(2p+p^2)e^p\\frac{\\mathrm d p}{\\mathrm d x}$\n",
    "\n",
    "即$\\mathrm d x=(p+2)e^p\\mathrm d p$\n",
    "\n",
    "两边积分，所以$x=(p+1)e^p+c$\n",
    "\n",
    "所以方程的通解为\n",
    "$$\n",
    "\\begin{cases}\n",
    "x=(p+1)e^p+c,\\\\\n",
    "y=p^2e^p,\\\\\n",
    "\\end{cases}\n",
    "$$\n",
    "\n"
   ]
  },
  {
   "cell_type": "markdown",
   "metadata": {},
   "source": [
    "## (4)$y(1+{y^\\prime}^2)=2a(a为常数)$"
   ]
  },
  {
   "cell_type": "markdown",
   "metadata": {
    "collapsed": true
   },
   "source": [
    "**解**\n",
    "显然$y=2a$是方程的一个解\n",
    "\n",
    "当$y≠2a$时，令$y^\\prime=\\tan t$,\n",
    "\n",
    "则$y=2a\\cos^2 t$\n",
    "\n",
    "又因为$\\mathrm d y=y^\\prime \\mathrm d x$\n",
    "\n",
    "所以$\\mathrm d x=-4a\\cos^2 t\\mathrm dt$\n",
    "\n",
    "所以$x=-a(2t+\\sin 2t)+c$\n",
    "\n",
    "故解为\n",
    "$$\n",
    "\\begin{cases}\n",
    "x=-a(2t+\\sin 2t)+c\\\\\n",
    "y=2a\\cos^2 t\\\\\n",
    "\\end{cases}\n",
    "$$"
   ]
  },
  {
   "cell_type": "markdown",
   "metadata": {},
   "source": [
    "## (5)$x^2+{y^\\prime}^2=1$"
   ]
  },
  {
   "cell_type": "markdown",
   "metadata": {
    "collapsed": true
   },
   "source": [
    "令$y^\\prime=\\cos t$\n",
    "\n",
    "则$x=\\sin t$\n",
    "\n",
    "所以$\\mathrm d y=\\cos t\\mathrm d x=(cost)^2\\mathrm d t$\n",
    "\n",
    "两边同时积分得到$y=\\frac{t}{2}+\\frac{\\sin 2t}{4}+c$\n",
    "\n",
    "所以方程的通解为\n",
    "$$\n",
    "\\begin{cases}\n",
    "x=\\sin t\\\\\n",
    "y=\\frac{t}{2}+\\frac{\\sin 2t}{4}+c\\\\\n",
    "\\end{cases}\n",
    "$$"
   ]
  },
  {
   "cell_type": "markdown",
   "metadata": {},
   "source": [
    "## (6)$y^2(y^\\prime-1)=(2-y^\\prime)^2$"
   ]
  },
  {
   "cell_type": "markdown",
   "metadata": {},
   "source": [
    "**解**\n",
    "令$2-y\\prime=yt$\n",
    "\n",
    "则原方程为$y^2(1-yt)=y^2t^2$\n",
    "\n",
    "得到$y=\\frac{1}{t}-t,y^\\prime=1+t^2$\n",
    "\n",
    "所以$dx=\\frac{\\mathrm d y}{y^\\prime}=-\\frac{1}{t^2}dt$\n",
    "\n",
    "积分得到$x=\\frac{1}{t}+c(c为任意常数）$\n",
    "\n",
    "故解为\n",
    "$$\n",
    "\\begin{cases}\n",
    "x=\\frac{1}{t}+c\\\\\n",
    "y=\\frac{1}{t}-t\\\\\n",
    "\\end{cases}\n",
    "$$\n",
    "\n",
    "此外，当$y^\\prime=0$时，原式变为$y^2=-4$，无解。"
   ]
  },
  {
   "cell_type": "markdown",
   "metadata": {
    "collapsed": true
   },
   "source": [
    "$A^+$"
   ]
  },
  {
   "cell_type": "code",
   "execution_count": null,
   "metadata": {
    "collapsed": true
   },
   "outputs": [],
   "source": []
  }
 ],
 "metadata": {
  "kernelspec": {
   "display_name": "SageMath 7.3",
   "language": "",
   "name": "sagemath"
  },
  "language_info": {
   "codemirror_mode": {
    "name": "ipython",
    "version": 2
   },
   "file_extension": ".py",
   "mimetype": "text/x-python",
   "name": "python",
   "nbconvert_exporter": "python",
   "pygments_lexer": "ipython2",
   "version": "2.7.10"
  }
 },
 "nbformat": 4,
 "nbformat_minor": 0
}
