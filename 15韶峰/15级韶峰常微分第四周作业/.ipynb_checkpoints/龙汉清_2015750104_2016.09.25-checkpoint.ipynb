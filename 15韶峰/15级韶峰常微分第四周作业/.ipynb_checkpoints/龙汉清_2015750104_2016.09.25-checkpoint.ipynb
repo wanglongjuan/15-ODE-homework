{
 "cells": [
  {
   "cell_type": "markdown",
   "metadata": {},
   "source": [
    "# The homework of ODE"
   ]
  },
  {
   "cell_type": "markdown",
   "metadata": {},
   "source": [
    "## 1. Suppose $f(x, y)$ and ${\\partial f \\over \\partial y}$ are continuous. Try to prove the necessary and sufficient condition of that equation $\\mathrm dy - f(x, y)\\mathrm d x = 0$ is a linear differential equation is that it has an integration factor that depends only on $x$"
   ]
  },
  {
   "cell_type": "markdown",
   "metadata": {},
   "source": [
    "### necessity\n",
    "if $f(x, y)$ is a linear differential equation  \n",
    "then $\\quad {\\mathrm d y \\over \\mathrm d x} = p(x)y + q(x)$  \n",
    "so it has an integration factor $\\quad$ $\\mu = e^{-\\int p(x) \\mathrm d x}$ $\\quad$, it depends only on $x$"
   ]
  },
  {
   "cell_type": "markdown",
   "metadata": {},
   "source": [
    "### adequacy\n",
    "suppose $\\mu$ is an integration factor that depends only on $x$ of the above equation  \n",
    "then $\\quad$ ${\\mathrm d \\mu \\over \\mathrm d x} + {\\mu \\partial f \\over \\partial y } = 0$"
   ]
  },
  {
   "cell_type": "markdown",
   "metadata": {},
   "source": [
    "so $\\quad$ ${\\partial f \\over \\partial y} = {\\mathrm d \\mu \\over \\mu \\mathrm d x}$, $\\quad$ ${\\partial f \\over \\partial y}$ is a function of $x$"
   ]
  },
  {
   "cell_type": "markdown",
   "metadata": {},
   "source": [
    "therefore, the above equation is a linear differential equation"
   ]
  },
  {
   "cell_type": "markdown",
   "metadata": {},
   "source": [
    "## 2. Find the integration factor of Bernoulli differential equation"
   ]
  },
  {
   "cell_type": "markdown",
   "metadata": {},
   "source": [
    "for every equation like this $\\quad$ ${\\mathrm d y \\over \\mathrm d x} = p(x)y + q(x)y^n$ $\\quad$ $n \\neq 0,1$"
   ]
  },
  {
   "cell_type": "markdown",
   "metadata": {},
   "source": [
    "suppose $y \\neq 0$ let $\\quad$ $z = y^{1 - n}$  \n",
    "the Bernoulli differential equation is equal to ${\\mathrm d z \\over \\mathrm d x} = (1 - n)p(x)z + (1- n)q(x)$"
   ]
  },
  {
   "cell_type": "markdown",
   "metadata": {},
   "source": [
    "so it has the inegration factor $\\mu = e^{(n - 1)\\int p(x)\\mathrm d x}$"
   ]
  },
  {
   "cell_type": "markdown",
   "metadata": {},
   "source": [
    "## 3. Suppose $\\mu (x, y)$ is an integration factor of $M(x, y)\\mathrm d x + N(x, y)\\mathrm d y = 0$ . Thereby we can find a differentiable function $U(x, y)$ and it satisfies the equation $\\mathrm d U = \\mu (M\\mathrm d x + N\\mathrm d y)$. Try to prove the sufficient sondition of $\\tilde{\\mu}(x, y)$ is also an integration factor of $M(x, y)\\mathrm d x + N(x, y)\\mathrm d y = 0$ is $\\tilde{\\mu}(x, y) = \\mu \\varphi (U)$ , where $\\varphi (t)$ is a differentiable function of $t$"
   ]
  },
  {
   "cell_type": "markdown",
   "metadata": {},
   "source": [
    "suppose $\\quad$ $\\tilde{\\mu}(x, y) = \\mu \\varphi (U)$ $\\quad$ then\n",
    "$$\n",
    "\\begin{align}\n",
    "{\\partial \\tilde{\\mu}M \\over \\partial y} &= M\\mu{\\partial \\varphi(U) \\over \\partial y} + \\varphi(U){\\partial M\\mu \\over \\partial y} \\\\\n",
    "&= \\varphi(U){\\partial N\\mu \\over \\partial x} + M\\mu{\\partial \\varphi(U) \\over \\partial U}{\\partial U \\over \\partial y} \\\\\n",
    "&= \\varphi(U){\\partial N\\mu \\over \\partial x} + MN|mu^2{\\partial \\varphi(U) \\over \\partial U}\\\\\n",
    "&= {\\partial \\tilde{\\mu}N \\over \\partial x}\\\\\n",
    "\\end{align}\n",
    "$$"
   ]
  },
  {
   "cell_type": "markdown",
   "metadata": {},
   "source": [
    "## 4. Solve the following equation"
   ]
  },
  {
   "cell_type": "markdown",
   "metadata": {},
   "source": [
    "### (1) $xy'^3 = 1 + y'$"
   ]
  },
  {
   "cell_type": "markdown",
   "metadata": {},
   "source": [
    "let $\\quad$ $p = {\\mathrm d y \\over \\mathrm d x} = {1 \\over t}$ $\\quad$ $x = t^3 + t^2$"
   ]
  },
  {
   "cell_type": "markdown",
   "metadata": {},
   "source": [
    "so  \n",
    "$$y = \\int {1 \\over t}(3t^2 + 2t) \\mathrm d t = {3 \\over 2}t^3 + t^2 + c$$"
   ]
  },
  {
   "cell_type": "markdown",
   "metadata": {},
   "source": [
    "answer\n",
    "$$\\begin{cases}\n",
    "x = t^3 + t^2\\\\\n",
    "y = {3 \\over 2}t^3 + t^2 + c\\\\\n",
    "\\end{cases}$$"
   ]
  },
  {
   "cell_type": "markdown",
   "metadata": {},
   "source": [
    "### (2) $y'^3 - x^3(1 - y') = 0$"
   ]
  },
  {
   "cell_type": "markdown",
   "metadata": {},
   "source": [
    "let $\\quad$ $p = {\\mathrm d y \\over \\mathrm d x} = 1 - t^3$ $\\quad$ $x = {1 - t^3 \\over t}$"
   ]
  },
  {
   "cell_type": "markdown",
   "metadata": {},
   "source": [
    "so\n",
    "$$y = \\int p x' \\mathrm d t$$"
   ]
  },
  {
   "cell_type": "markdown",
   "metadata": {},
   "source": [
    "answer\n",
    "$$\n",
    "\\begin{cases}\n",
    "x = {1 - t^3 \\over t}\\\\\n",
    "y = {1 \\over 3}t^6 + {1 \\over t} - {t^2 \\over 2} + c\n",
    "\\end{cases}\n",
    "$$"
   ]
  },
  {
   "cell_type": "markdown",
   "metadata": {},
   "source": [
    "### (3) $y = y'^2e^{y'}$"
   ]
  },
  {
   "cell_type": "markdown",
   "metadata": {},
   "source": [
    "let $\\quad$ $p = {\\mathrm d y \\over \\mathrm d x} = \\ln t$ $\\quad$ $y = t\\ln ^2t$"
   ]
  },
  {
   "cell_type": "markdown",
   "metadata": {},
   "source": [
    "so\n",
    "$$x = \\int p y' \\mathrm d t$$"
   ]
  },
  {
   "cell_type": "markdown",
   "metadata": {},
   "source": [
    "answer\n",
    "$$\n",
    "\\begin{cases}\n",
    "x = t + t\\ln t +c\\\\\n",
    "y = t\\ln ^2t\n",
    "\\end{cases}\n",
    "$$\n",
    "or $\\quad$ $y = 0$\n"
   ]
  },
  {
   "cell_type": "markdown",
   "metadata": {},
   "source": [
    "### (4) $y(1 + y'^2) = 2a$ ($a$ is a constant)"
   ]
  },
  {
   "cell_type": "markdown",
   "metadata": {},
   "source": [
    "let $\\quad$ $p = {\\mathrm d y \\over \\mathrm d x} = \\tan t $ $\\quad$ $y = 2a\\cos^2 t$"
   ]
  },
  {
   "cell_type": "markdown",
   "metadata": {},
   "source": [
    "so\n",
    "$$x = \\int p y' \\mathrm d t$$"
   ]
  },
  {
   "cell_type": "markdown",
   "metadata": {},
   "source": [
    "answer\n",
    "$$\n",
    "\\begin{cases}\n",
    "x = -a(2t + \\sin 2t) + c\\\\\n",
    "y = 2a\\cos^2 t\n",
    "\\end{cases}\n",
    "$$"
   ]
  },
  {
   "cell_type": "markdown",
   "metadata": {},
   "source": [
    "### (5) $x^2 + y'^2 = 1$"
   ]
  },
  {
   "cell_type": "markdown",
   "metadata": {},
   "source": [
    "let $\\quad$ $p = {\\mathrm d y \\over \\mathrm d x} = \\cos t $ $\\quad$ $x = \\sin t$"
   ]
  },
  {
   "cell_type": "markdown",
   "metadata": {},
   "source": [
    "so\n",
    "$$y = \\int p x' \\mathrm d t$$"
   ]
  },
  {
   "cell_type": "markdown",
   "metadata": {},
   "source": [
    "answer\n",
    "$$\n",
    "\\begin{cases}\n",
    "x = \\sin t\\\\\n",
    "y = 0.5t + 0.25\\sin 2t + c\n",
    "\\end{cases}\n",
    "$$"
   ]
  },
  {
   "cell_type": "markdown",
   "metadata": {},
   "source": [
    "### (6) $y^2(y' - 1) = (2 - y')^2$"
   ]
  },
  {
   "cell_type": "markdown",
   "metadata": {},
   "source": [
    "let $\\quad$ $p = {\\mathrm d y \\over \\mathrm d x} = t^2 + 1$ $\\quad$ $y = t - {1 \\over t}$"
   ]
  },
  {
   "cell_type": "markdown",
   "metadata": {},
   "source": [
    "so\n",
    "$$x = \\int p y' \\mathrm d t$$"
   ]
  },
  {
   "cell_type": "markdown",
   "metadata": {},
   "source": [
    "answer\n",
    "$$\n",
    "\\begin{cases}\n",
    "x = {1 \\over 3}t^3 + 2t + \\ln |t| + c\\\\\n",
    "y = t - {1 \\over t}\n",
    "\\end{cases}\n",
    "$$"
   ]
  },
  {
   "cell_type": "markdown",
   "metadata": {
    "collapsed": true
   },
   "source": [
    "$A$"
   ]
  },
  {
   "cell_type": "code",
   "execution_count": null,
   "metadata": {
    "collapsed": true
   },
   "outputs": [],
   "source": []
  }
 ],
 "metadata": {
  "kernelspec": {
   "display_name": "SageMath 7.3",
   "language": "",
   "name": "sagemath"
  },
  "language_info": {
   "codemirror_mode": {
    "name": "ipython",
    "version": 2
   },
   "file_extension": ".py",
   "mimetype": "text/x-python",
   "name": "python",
   "nbconvert_exporter": "python",
   "pygments_lexer": "ipython2",
   "version": "2.7.10"
  }
 },
 "nbformat": 4,
 "nbformat_minor": 0
}
