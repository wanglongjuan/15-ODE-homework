{
 "cells": [
  {
   "cell_type": "markdown",
   "metadata": {},
   "source": [
    "# 《恰当微分方程与积分因子》 作业"
   ]
  },
  {
   "cell_type": "markdown",
   "metadata": {},
   "source": [
    "## 一：设$f(x,y)$及$\\frac{\\partial f}{\\partial y}$连续，试证方程$\\mathrm dy-f(x,y)\\mathrm dx =0$为线性微分方程的充要条件是它有仅赖于x的积分因子。\n",
    "\n",
    "**证**：$\\mathrm dy-f(x,y)\\mathrm dx =0$为线性微分方程$\\iff  \\exists \\alpha(x),\\beta(x)( \\frac{\\mathrm dy}{\\mathrm dx}+\\alpha (x)y=\\beta (x) \\iff-f(x,y)=\\alpha(x)y-\\beta(x))$\n",
    "\n",
    "$\\mathrm dy-f(x,y)\\mathrm dx =0$有仅依赖$x$的积分因子 $\\iff \\frac{\\frac{\\partial{-f(x,y)}}{\\partial y}\\,\\,\\,\\,-\\,\\,\\frac{\\partial 1}{\\partial x}}{1}=\\varphi (x)=-\\frac{\\partial{f(x,y)}}{\\partial y} \\iff \\int \\varphi (x)\\mathrm dy +A(x) =f(x,y) \\iff f(x,y)=\\varphi (x)y+A(x)\\,$  (其中$\\varphi(x)$ 就是$-\\alpha(x)$,$A(x)$就是$\\beta(x)$) $\\iff \\mathrm dy-f(x,y)\\mathrm dx =0$为线性微分方程。Q.E.D"
   ]
  },
  {
   "cell_type": "markdown",
   "metadata": {},
   "source": [
    "## 二：求出伯努利微分方程的积分因子。\n",
    "**解**：伯努利方程为$\\frac{\\mathrm dy}{\\mathrm dx}=P(x)y+Q(x)y^n$,\n",
    "两边同时乘以$y^{-n}$,得到：$$y^{-n}\\mathrm dy-(P(x)y^{1-n}+Q(x))\\mathrm dx=0$$ $\\frac{\\partial M}{\\partial y}=(n-1)P(x)y^{-n}$,$\\frac{\\partial N}{\\partial x}=1$ $\\implies \\frac{\\frac{\\partial M}{\\partial y}- \\frac{\\partial N}{\\partial x}}{N}=(n-1)P(x)$ $$\\implies \\exists (\\frac{\\partial M}{\\partial y}=(n-1)P(x)y^{-n}的积分因子) \\mu =e^{(n-1)\\int P(x)\\mathrm dx}$$ $$\\implies \\exists 积分因子\\, y^{-n}e^{(n-1)\\int P(x)\\mathrm dx} $$"
   ]
  },
  {
   "cell_type": "markdown",
   "metadata": {},
   "source": [
    "##  三：设$\\mu (x,y)$是方程$M(x,y)\\mathrm dx+N(x,y) \\mathrm dy=0$的积分因子，从而求得可微函数$U(x,y)$,使得$\\mathrm dU=\\mu (M\\mathrm dx+N\\mathrm dy)$。试证$\\tilde {\\mu}(x,y)$也是方程$M(x,y)\\mathrm dx+N(x,y) \\mathrm dy=0$的积分因子的充要条件是$\\tilde{\\mu}(x,y)=\\mu \\varphi(U)$，其中$\\varphi(t)$是$t$的可微函数。\n",
    "\n",
    "**证**：\n",
    "\n",
    "**必要性**：因为$\\tilde \\mu$是积分因子，所以有$\\mathrm d\\tilde{U}=\\tilde{\\mu}(M\\mathrm dx+N\\mathrm dy) \\implies \\mu \\mathrm d\\tilde{U}=\\mu \\tilde{\\mu}(M\\mathrm dx+N\\mathrm dy)= \\tilde{\\mu}\\mu(M\\mathrm dx+N\\mathrm dy)=\\tilde{\\mu}\\mathrm dU$ \n",
    "\n",
    "经过简要分析，可知$U$与$\\tilde{U}$存在关系，不妨设$\\tilde{U}=\\psi (U) $,于是$$\\implies \\mu \\frac{\\mathrm d \\tilde {U}}{\\mathrm d U} =\\tilde {\\mu}=\\mu\\psi '(U)$$ 令$\\psi '(U)=\\varphi(U)$,则有$\\tilde{\\mu}(x,y)=\\mu \\varphi(U)$，必要性得证。\n",
    "\n",
    "**充分性**：\n",
    "当有$\\mathrm dU=\\mu(M\\mathrm dx+N\\mathrm dy)$及$\\tilde {\\mu}(x,y)=\\mu\\varphi(U)$时，对方程有$\\frac{\\partial(\\tilde{\\mu}M)}{\\partial y}-\\frac{\\partial(\\tilde{\\mu}N)}{\\partial x}=\\varphi(U)[\\frac{\\partial(\\mu M)}{\\partial y}-\\frac{\\partial(\\mu N)}{\\partial x}]+\\mu^2\\varphi'(U)(MN-NM)$.\n",
    "\n",
    "因为$\\mu(x,y)$是积分因子，所以有$\\frac{\\partial(\\mu M)}{\\partial y}-\\frac{\\partial(\\mu N)}{\\partial x}=0$ $$\\implies \\frac{\\partial(\\tilde{\\mu}M)}{\\partial y}-\\frac{\\partial(\\tilde{\\mu}N)}{\\partial x}=0$$即$\\tilde \\mu(x,y)$是方程的积分因子，充分性得证。"
   ]
  },
  {
   "cell_type": "code",
   "execution_count": null,
   "metadata": {
    "collapsed": true
   },
   "outputs": [],
   "source": []
  },
  {
   "cell_type": "markdown",
   "metadata": {},
   "source": [
    "# 《一阶隐式微分方程与参数表示》 作业"
   ]
  },
  {
   "cell_type": "markdown",
   "metadata": {},
   "source": [
    "## 求解下列方程：\n",
    "\n",
    "(1);$xy'=1+y'$;\n",
    "\n",
    "(2);${y'}^{3}-x^3(1-y')=0$;\n",
    "\n",
    "(3);$y=y'^2e^{y'}$;\n",
    "\n",
    "(4);$y(1+y'^2)=2a$ ($a$为常数)\n",
    "\n",
    "(5);$x^2+y'^2=1$;\n",
    "\n",
    "(6);$y^2(y'-1)=(2-y')^2$;\n"
   ]
  },
  {
   "cell_type": "markdown",
   "metadata": {},
   "source": [
    "**解**：\n",
    "\n",
    "(1);令$y'=p$,有$x=\\frac{1}{p^3}+\\frac{1}{p^2}$,$p \\neq 0$,关于$y$求导，得$\\frac{1}{p}=(-\\frac{3}{p^4}-\\frac{2}{p^3})\\frac{\\mathrm dp}{\\mathrm dy}$,积分得$y=\\frac{3}{2p^2}+\\frac{2}{p}+C$\n",
    "所以方程通解为$$\\begin{cases}x=\\frac{1}{p^3}+\\frac{1}{p^2}\\\\y=\\frac{3}{2p^2}+\\frac{2}{p}+C\\end{cases}$,$p\\neq0$$\n",
    "\n",
    "(2);作代换$y'=tx$,则原方程变为$(t^3-(1-tx))x^3=0$,解得$x=\\frac{1}{t}-t^2$,两边对$y$求导得$\\mathrm dy=[(1-t^3)(-\\frac{1}{t^2}-2t)]\\mathrm dt$,积分得$y=-\\frac{1}{2}t^2+\\frac{2}{5}t^5+\\frac{1}{t}+C$,于是通解为$$\\begin{cases}x=\\frac{1}{t}-t^2\\\\y=-\\frac{1}{2}t^2+\\frac{2}{5}t^5+\\frac{1}{t}+C\\end{cases}$$\n",
    "\n",
    "(3);作代换$y'=p$,则原方程化为$y=p^2e^p$,对$x$求导数，得$p=(2p+p^2)e^p\\frac{\\mathrm dp}{\\mathrm dx}$,积分得$x=(p+1)e^p+C$,所以方程的通解为$$\\begin{cases}x=(p+1)e^p+C\\\\y=p^2e^p\\end{cases}$$\n",
    "\n",
    "(4);作代换$y'=\\tan t$,则原方程化为$y=2a\\cos ^2t\\mathrm dt$,关于$x$求导，得$\\mathrm dx=-4a\\cos^2t\\mathrm dt$,积分得$x=-a(2t+\\sin 2t)+C$,所以方程通解为$$\\begin{cases}x=-a(2t+\\sin 2t)+C\\\\y=2a\\cos ^2t\\mathrm dt\\end{cases}$$\n",
    "\n",
    "(5);作代换$y'=\\cos t$,则原方程变为$x=\\sin t$,关于$y$求导，得$\\mathrm dy=\\cos^2t \\mathrm dt$,积分得$y=\\frac{t}{2}+\\frac{1}{4}\\sin 2t+C$,所以方程通解为$$\\begin{cases}x=\\sin t\\\\y=\\frac{t}{2}+\\frac{1}{4}\\sin 2t+C\\end{cases}$$\n",
    "\n",
    "(6);作代换$2-y'=ty$,则原方程化为$(1-yt)=t^2$,于是$y=\\frac{1}{t}-t$,$y'=1+t^2$.$\\mathrm dx=\\frac{\\mathrm dy}{y'}=-\\frac{1}{t^2}\\mathrm dt$,积分得$x=\\frac{1}{t}+C$,于是原方程的通解为$\\begin{cases}x=\\frac{1}{t}+C\\\\y=\\frac{1}{t}-t\\end{cases}$,即为$$y=x-\\frac{1}{x-C}-C$$"
   ]
  },
  {
   "cell_type": "markdown",
   "metadata": {
    "collapsed": true
   },
   "source": [
    "(3)缺少0解;(4)缺少$y=2a$"
   ]
  },
  {
   "cell_type": "markdown",
   "metadata": {},
   "source": [
    "$B^+$"
   ]
  },
  {
   "cell_type": "code",
   "execution_count": null,
   "metadata": {
    "collapsed": true
   },
   "outputs": [],
   "source": []
  }
 ],
 "metadata": {
  "kernelspec": {
   "display_name": "SageMath 7.3",
   "language": "",
   "name": "sagemath"
  },
  "language_info": {
   "codemirror_mode": {
    "name": "ipython",
    "version": 2
   },
   "file_extension": ".py",
   "mimetype": "text/x-python",
   "name": "python",
   "nbconvert_exporter": "python",
   "pygments_lexer": "ipython2",
   "version": "2.7.10"
  }
 },
 "nbformat": 4,
 "nbformat_minor": 0
}
