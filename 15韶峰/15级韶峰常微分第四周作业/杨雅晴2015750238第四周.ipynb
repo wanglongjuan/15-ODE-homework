{
 "cells": [
  {
   "cell_type": "markdown",
   "metadata": {},
   "source": [
    "## 1.设$f(x,y)$及$\\frac{\\partial f} {\\partial y}$连续，试证方程$dy-f(x,y)dx=0$为线性微分方程的充要条件是它有仅依赖于x的积分因子。"
   ]
  },
  {
   "cell_type": "markdown",
   "metadata": {},
   "source": [
    "**证明：** 充分性：设方程$dy-f(x,y)dx=0$有仅依赖于x的积分因子，下证该方程是线性的。"
   ]
  },
  {
   "cell_type": "markdown",
   "metadata": {},
   "source": [
    "由题意知，存在某个$\\varphi(x)$满足"
   ]
  },
  {
   "cell_type": "markdown",
   "metadata": {},
   "source": [
    "$$\\frac{\\frac{\\partial M} {\\partial y}-\\frac{\\partial N} {\\partial x}} {N}=\\frac{-\\frac{\\partial f} {\\partial y}-0} {1}=-\\varphi(x)$$"
   ]
  },
  {
   "cell_type": "markdown",
   "metadata": {},
   "source": [
    "即$$\\frac{\\partial f} {\\partial y}=-\\varphi(x)$$"
   ]
  },
  {
   "cell_type": "markdown",
   "metadata": {},
   "source": [
    "对上式两边积分得$$f(x,y)=-\\varphi(x)y+h(x)$$"
   ]
  },
  {
   "cell_type": "markdown",
   "metadata": {},
   "source": [
    "这里h(x)是关于x的任意可微函数，所以原方程为$$\\frac{dy} {dx}=-\\varphi(x)y+h(x)$$"
   ]
  },
  {
   "cell_type": "markdown",
   "metadata": {},
   "source": [
    "这就证明了$dy-f(x,y)dx=0$是线性的"
   ]
  },
  {
   "cell_type": "markdown",
   "metadata": {},
   "source": [
    "必要性：设方程$dy-f(x,y)dx=0$是线性微分方程，即存在函数g(x),h(x)使得$$f(x,y)=yg(x)+h(x)$$"
   ]
  },
  {
   "cell_type": "markdown",
   "metadata": {},
   "source": [
    "则$M=-f(x,y)=-yg(x)-h(x)$，$N=1$"
   ]
  },
  {
   "cell_type": "markdown",
   "metadata": {},
   "source": [
    "$$\\frac{\\frac{\\partial M} {\\partial y}-\\frac{\\partial N} {\\partial x}} {N}=\\frac{-g(x)} {1}=-g(x)$$"
   ]
  },
  {
   "cell_type": "markdown",
   "metadata": {},
   "source": [
    "所以，方程具有积分因子$$\\mu=e^{\\int\\mathrm{-g(x)}\\mathrm{d}x}$$"
   ]
  },
  {
   "cell_type": "markdown",
   "metadata": {},
   "source": [
    "结论得证。"
   ]
  },
  {
   "cell_type": "markdown",
   "metadata": {},
   "source": [
    "## 2.求出伯努利微分方程的积分因子"
   ]
  },
  {
   "cell_type": "markdown",
   "metadata": {},
   "source": [
    "**解：** 将伯努利方程$$\\frac{dy} {dx}=p(x)y+q(x)y^n$$化为$$dy-p(x)ydx-q(x)y^ndx=0$$"
   ]
  },
  {
   "cell_type": "markdown",
   "metadata": {},
   "source": [
    "两边同乘$y^{-n}$得$$y^{-n}dy-p(x)y^{1-x}dx-q(x)dx=0$$"
   ]
  },
  {
   "cell_type": "markdown",
   "metadata": {},
   "source": [
    "两边再同乘$1-n$得$$d(y^{1-n})-(1-n)p(x)y^{1-n}dx-(1-n)q(x)dx=0$$"
   ]
  },
  {
   "cell_type": "markdown",
   "metadata": {},
   "source": [
    "再乘$e^{-(1-n){\\int\\mathrm{p(x)}\\mathrm{d}x}}$得$$d[y^{1-n}e^{-(1-n)\\int\\mathrm{p(x)}\\mathrm{d}x}]-d[\\int\\mathrm{(1-n)p(x)e^{-(1-n)\\int\\mathrm{p(x)}\\mathrm{d}x}(1-n)q(x)}\\mathrm{d}x]=0$$"
   ]
  },
  {
   "cell_type": "markdown",
   "metadata": {},
   "source": [
    "这是全微分方程，因此所求积分因子为$$\\mu=y^{-n}e^{(n-1){\\int\\mathrm{p(x)}\\mathrm{d}x}}$$"
   ]
  },
  {
   "cell_type": "markdown",
   "metadata": {},
   "source": [
    "## 3.设$\\mu(x,y)$是方程$M(x,y)dx+N(x,y)dy=0$的积分因子，从而求得可微函数$U(x,y)$使得$dU=\\mu(Mdx+Ndy)$试证$\\tilde{\\mu}(x,y)$也是原方程的积分因子的充要条件是$\\tilde{\\mu}(x,y)=\\mu \\varphi(U)$，其中$\\varphi(t)$是t的可微函数。"
   ]
  },
  {
   "cell_type": "markdown",
   "metadata": {},
   "source": [
    "**证明：** 充分性：设$\\tilde{\\mu}(x,y)=\\mu \\varphi(U)$"
   ]
  },
  {
   "cell_type": "markdown",
   "metadata": {},
   "source": [
    "因为"
   ]
  },
  {
   "cell_type": "markdown",
   "metadata": {},
   "source": [
    "$$\n",
    "\\begin{aligned}\n",
    "\\frac{\\partial(\\tilde{\\mu}M)} {\\partial y}&=\\frac{\\partial(\\mu M\\varphi(U))} {\\partial y}=\\frac{\\partial(\\mu M)} {\\partial y}\\varphi(U)+\\mu M\\frac{\\partial(\\varphi(U))} {\\partial y}\\\\&=\\frac{\\partial(\\mu M)} {\\partial y}\\varphi(U)+\\mu M\\varphi'(U)\\frac{\\partial U} {\\partial y}\\\\&=\\frac{\\partial(\\mu M)} {\\partial y}\\varphi(U)+\\mu M\\varphi'(U)\\mu N\\\\\n",
    "\\frac{\\partial(\\tilde{\\mu}N)} {\\partial x}&=\\frac{\\partial(\\mu N\\varphi(U))} {\\partial x}\\\\&=\\frac{\\partial(\\mu N)} {\\partial x}\\varphi(U)+\\mu N\\varphi'(U)\\frac{\\partial U} {\\partial x}\\\\&=\\frac{\\partial(\\mu N)} {\\partial x}\\varphi(U)+\\mu N\\varphi'(U)\\mu M\n",
    "\\end{aligned}\n",
    "$$"
   ]
  },
  {
   "cell_type": "markdown",
   "metadata": {},
   "source": [
    "又因为$\\mu(x,y)$是原方程的积分因子，所以$$\\frac{\\partial(\\mu M)} {\\partial y}=\\frac{\\partial(\\mu N)} {\\partial x}$$"
   ]
  },
  {
   "cell_type": "markdown",
   "metadata": {},
   "source": [
    "比较$\\frac{\\partial(\\tilde{\\mu}M)} {\\partial y}$与$\\frac{\\partial(\\tilde{\\mu}N)} {\\partial x}$可以看出"
   ]
  },
  {
   "cell_type": "markdown",
   "metadata": {},
   "source": [
    "$$\\frac{\\partial(\\tilde{\\mu}M)} {\\partial y}=\\frac{\\partial(\\tilde{\\mu}N)} {\\partial x}$$"
   ]
  },
  {
   "cell_type": "markdown",
   "metadata": {},
   "source": [
    "因此$\\tilde{\\mu}(x,y)=\\mu \\varphi(U)$是原方程的积分因子"
   ]
  },
  {
   "cell_type": "markdown",
   "metadata": {},
   "source": [
    "所以，充分性得证。"
   ]
  },
  {
   "cell_type": "markdown",
   "metadata": {},
   "source": [
    "必要性：设$\\tilde{\\mu}$是方程的积分因子，则$$\\frac{\\partial(\\tilde{\\mu}M)} {\\partial y}=\\frac{\\partial(\\tilde{\\mu}N)} {\\partial x}$$"
   ]
  },
  {
   "cell_type": "markdown",
   "metadata": {},
   "source": [
    "又由于$$\\frac{\\partial(\\tilde{\\mu}M)} {\\partial y}=\\partial{\\frac{(\\frac{\\tilde{\\mu}} {\\mu}\\mu N)} {\\partial x}}=\\partial{\\frac{(\\frac{\\tilde{\\mu}} {\\mu})} {\\partial y}}\\mu M+\\frac{\\tilde{\\mu}} {\\mu}\\frac{\\partial(\\mu M)} {\\partial y}$$"
   ]
  },
  {
   "cell_type": "markdown",
   "metadata": {},
   "source": [
    "$$\\frac{\\partial(\\tilde{\\mu}N)} {\\partial x}=\\partial{\\frac{(\\frac{\\tilde{\\mu}} {\\mu}\\mu M)} {\\partial y}}=\\partial{\\frac{(\\frac{\\tilde{\\mu}} {\\mu})} {\\partial x}}\\mu M+\\frac{\\tilde{\\mu}} {\\mu}\\frac{\\partial(\\mu N)} {\\partial x}$$"
   ]
  },
  {
   "cell_type": "markdown",
   "metadata": {},
   "source": [
    "所以$$\\frac{\\partial(\\mu M)} {\\partial y}=\\frac{\\partial(\\mu N)} {\\partial x}$$"
   ]
  },
  {
   "cell_type": "markdown",
   "metadata": {},
   "source": [
    "所以，$$M\\frac{\\partial(\\frac{\\tilde{\\mu}} {\\mu})} {\\partial y}=N\\frac{\\partial(\\frac{\\tilde{\\mu}} {\\mu})} {\\partial x}$$"
   ]
  },
  {
   "cell_type": "markdown",
   "metadata": {},
   "source": [
    "又因为$$\\frac{\\partial U} {\\partial x}=\\mu M$$ $$\\frac{\\partial U} {\\partial y}=\\mu N$$"
   ]
  },
  {
   "cell_type": "markdown",
   "metadata": {},
   "source": [
    "则$$\\frac{\\tilde{\\mu}} {\\mu}=\\phi(U)$$"
   ]
  },
  {
   "cell_type": "markdown",
   "metadata": {},
   "source": [
    "所以，必要性得证。"
   ]
  },
  {
   "cell_type": "markdown",
   "metadata": {},
   "source": [
    "## 4.求解下列方程"
   ]
  },
  {
   "cell_type": "markdown",
   "metadata": {},
   "source": [
    "### (1)$xy'^3=1+y'$"
   ]
  },
  {
   "cell_type": "markdown",
   "metadata": {},
   "source": [
    "**解：**令$$\\frac{dy} {dx}=p$$"
   ]
  },
  {
   "cell_type": "markdown",
   "metadata": {},
   "source": [
    "代入方程后得到$$x=\\frac{1} {p^3}+\\frac{1} {p^2}\\not=0$$"
   ]
  },
  {
   "cell_type": "markdown",
   "metadata": {},
   "source": [
    "两边对y求导得$$(3+2p)dp+p^3dy=0$$"
   ]
  },
  {
   "cell_type": "markdown",
   "metadata": {},
   "source": [
    "两边积分得$$y=\\frac{3} {2p^2}+\\frac{2} {p}+c$$"
   ]
  },
  {
   "cell_type": "markdown",
   "metadata": {},
   "source": [
    "则方程通解为\n",
    "$$\n",
    "\\begin{cases}\n",
    "x=\\frac{1} {p^3}+\\frac{1} {p^2}\\\\\n",
    "y=\\frac{3} {2p^2}+\\frac{2} {p}+c\n",
    "\\end{cases}\n",
    "$$"
   ]
  },
  {
   "cell_type": "markdown",
   "metadata": {},
   "source": [
    "且$p\\not=0$"
   ]
  },
  {
   "cell_type": "markdown",
   "metadata": {},
   "source": [
    "### (2)$y'^3-x^3(1-y')=0$"
   ]
  },
  {
   "cell_type": "markdown",
   "metadata": {},
   "source": [
    "**解：**令$$\\frac{dy} {dx}=tx$$"
   ]
  },
  {
   "cell_type": "markdown",
   "metadata": {},
   "source": [
    "代入方程后得到$$x^3(t^3-1+tx)=0$$"
   ]
  },
  {
   "cell_type": "markdown",
   "metadata": {},
   "source": [
    "得到$$x=\\frac{1} {t}-t^2$$"
   ]
  },
  {
   "cell_type": "markdown",
   "metadata": {},
   "source": [
    "两边对y求导得$$dy=[(1-t^3)(-\\frac{1} {t^2}-2t)]dt$$"
   ]
  },
  {
   "cell_type": "markdown",
   "metadata": {},
   "source": [
    "两边积分得$$y=-\\frac{1} {2}t^2+\\frac{2} {5}t^5+\\frac{1} {t}+c$$"
   ]
  },
  {
   "cell_type": "markdown",
   "metadata": {},
   "source": [
    "故方程通解为$$\n",
    "\\begin{cases}\n",
    "x=\\frac{1} {t}-t^2\\\\\n",
    "y=-\\frac{1} {2}t^2+\\frac{2} {5}t^5+\\frac{1} {t}+c\n",
    "\\end{cases}\n",
    "$$"
   ]
  },
  {
   "cell_type": "markdown",
   "metadata": {},
   "source": [
    "### (3)$y=y'^2e^{y'}$"
   ]
  },
  {
   "cell_type": "markdown",
   "metadata": {},
   "source": [
    "**解：**令$$\\frac{dy} {dx}=p$$"
   ]
  },
  {
   "cell_type": "markdown",
   "metadata": {},
   "source": [
    "则原方程化为$$y=p^2e^p$$"
   ]
  },
  {
   "cell_type": "markdown",
   "metadata": {},
   "source": [
    "对x求导得$$dx=(p+2)e^pdp$$"
   ]
  },
  {
   "cell_type": "markdown",
   "metadata": {},
   "source": [
    "两边积分得$$x=(p+1)e^p+c$$"
   ]
  },
  {
   "cell_type": "markdown",
   "metadata": {},
   "source": [
    "故方程通解为$$\n",
    "\\begin{cases}\n",
    "x=(p+1)e^p+c\\\\\n",
    "y=p^2e^p\n",
    "\\end{cases}\n",
    "$$"
   ]
  },
  {
   "cell_type": "markdown",
   "metadata": {},
   "source": [
    "缺少$0$解"
   ]
  },
  {
   "cell_type": "markdown",
   "metadata": {},
   "source": [
    "### (4)$y(1+y'^2)=2a$"
   ]
  },
  {
   "cell_type": "markdown",
   "metadata": {},
   "source": [
    "**解：**令$$\\frac{dy} {dx}=\\tan t$$"
   ]
  },
  {
   "cell_type": "markdown",
   "metadata": {},
   "source": [
    "则原方程化为$$y=2acos^2t$$"
   ]
  },
  {
   "cell_type": "markdown",
   "metadata": {},
   "source": [
    "两端对x求导数可得$$dx=-4acos^2tdt$$"
   ]
  },
  {
   "cell_type": "markdown",
   "metadata": {},
   "source": [
    "两边积分得$$x=-a(2t+sin2t+c)$$"
   ]
  },
  {
   "cell_type": "markdown",
   "metadata": {},
   "source": [
    "故方程通解为$$\n",
    "\\begin{cases}\n",
    "x=-a(2t+sin2t+c)\\\\\n",
    "y=2acos^2t\n",
    "\\end{cases}\n",
    "$$"
   ]
  },
  {
   "cell_type": "markdown",
   "metadata": {},
   "source": [
    "### (5)$x^2+y'^2=1$"
   ]
  },
  {
   "cell_type": "markdown",
   "metadata": {},
   "source": [
    "**解：**令$$\\frac{dy} {dx}=\\cos t$$"
   ]
  },
  {
   "cell_type": "markdown",
   "metadata": {},
   "source": [
    "则方程化为$$x^2+cos^2t=1$$"
   ]
  },
  {
   "cell_type": "markdown",
   "metadata": {},
   "source": [
    "可以看出$$x=\\sin t$$"
   ]
  },
  {
   "cell_type": "markdown",
   "metadata": {},
   "source": [
    "对y求导数得$$dy=cos^2tdt$$"
   ]
  },
  {
   "cell_type": "markdown",
   "metadata": {},
   "source": [
    "两边积分得$$y=\\frac{t} {2}+\\frac{1} {4}sin2t+c$$"
   ]
  },
  {
   "cell_type": "markdown",
   "metadata": {},
   "source": [
    "故方程通解为$$\n",
    "\\begin{cases}\n",
    "x=\\sin t\\\\\n",
    "y=\\frac{t} {2}+\\frac{1} {4}sin2t+c\n",
    "\\end{cases}\n",
    "$$"
   ]
  },
  {
   "cell_type": "markdown",
   "metadata": {},
   "source": [
    "### (6)$y^2(y'-1)=(2-y')^2$"
   ]
  },
  {
   "cell_type": "markdown",
   "metadata": {},
   "source": [
    "**解：**令$$2-\\frac{dy} {dx}=yt$$"
   ]
  },
  {
   "cell_type": "markdown",
   "metadata": {},
   "source": [
    "则原方程化为$$y=\\frac{1} {t}-t$$"
   ]
  },
  {
   "cell_type": "markdown",
   "metadata": {},
   "source": [
    "所以，$$y'=1+t^2$$"
   ]
  },
  {
   "cell_type": "markdown",
   "metadata": {},
   "source": [
    "$$dx=\\frac{dy} {y'}=-\\frac{1} {t^2}dt$$"
   ]
  },
  {
   "cell_type": "markdown",
   "metadata": {},
   "source": [
    "两边积分得$$x=\\frac{1} {t}+c$$"
   ]
  },
  {
   "cell_type": "markdown",
   "metadata": {},
   "source": [
    "故方程参数形式通解为$$\n",
    "\\begin{cases}\n",
    "x=\\frac{1} {t}+c\\\\\n",
    "y=\\frac{1} {t}-t\n",
    "\\end{cases}\n",
    "$$"
   ]
  },
  {
   "cell_type": "markdown",
   "metadata": {},
   "source": [
    "但当$y'=0$时原方程变为 $-y^2=4$ 此时方程无解"
   ]
  },
  {
   "cell_type": "markdown",
   "metadata": {
    "collapsed": true
   },
   "source": [
    "$A$"
   ]
  },
  {
   "cell_type": "code",
   "execution_count": null,
   "metadata": {
    "collapsed": true
   },
   "outputs": [],
   "source": []
  }
 ],
 "metadata": {
  "kernelspec": {
   "display_name": "SageMath 7.3",
   "language": "",
   "name": "sagemath"
  },
  "language_info": {
   "codemirror_mode": {
    "name": "ipython",
    "version": 2
   },
   "file_extension": ".py",
   "mimetype": "text/x-python",
   "name": "python",
   "nbconvert_exporter": "python",
   "pygments_lexer": "ipython2",
   "version": "2.7.10"
  }
 },
 "nbformat": 4,
 "nbformat_minor": 0
}
