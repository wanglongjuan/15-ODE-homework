{
 "cells": [
  {
   "cell_type": "markdown",
   "metadata": {},
   "source": [
    "一、设$f(x,y)$及$\\frac{\\partial f}{\\partial y}$连续，试验证方程$dy-f(x,y)dx=0$为线性微分方程的的充要条件是它有仅依赖于$x$的积分因子"
   ]
  },
  {
   "cell_type": "markdown",
   "metadata": {},
   "source": [
    "证：必要性   若该方程为线性方程，则有$$\\frac{dy}{dx}=P(x)y+Q(x)$$此方程有积分因子$$\\mu(x)=e^{-\\int P(x) \\mathrm{d}x}$$"
   ]
  },
  {
   "cell_type": "markdown",
   "metadata": {},
   "source": [
    "$\\mu(x)$只与x有关"
   ]
  },
  {
   "cell_type": "markdown",
   "metadata": {},
   "source": [
    "充分性   若该方程有只与x有关的积分因子$\\mu(x)$\n",
    "\n",
    "则$$\\mu(x)dy-\\mu(x)f(x,y)dx=0$$为恰当方程"
   ]
  },
  {
   "cell_type": "markdown",
   "metadata": {},
   "source": [
    "从而$$\\frac{d\\mu(x)}{dx}=\\frac{\\partial (-\\mu(x)f(x,y))}{\\partial y}$$"
   ]
  },
  {
   "cell_type": "markdown",
   "metadata": {},
   "source": [
    "即$$\\frac{\\partial f}{\\partial y}=-\\frac{\\mu'(x)}{\\mu(x)}$$"
   ]
  },
  {
   "cell_type": "markdown",
   "metadata": {},
   "source": [
    "两边同时对y积分可得$$f=-\\int \\frac{\\mu'(x)}{\\mu(x)}\\mathrm{d}y+Q(x)$$"
   ]
  },
  {
   "cell_type": "markdown",
   "metadata": {},
   "source": [
    "$$f=-\\frac{\\mu'(x)}{\\mu(x)}y+Q(x)=P(x)y+Q(x)$$"
   ]
  },
  {
   "cell_type": "markdown",
   "metadata": {},
   "source": [
    "$$P(x)=-\\frac{\\mu'(x)}{\\mu(x)}$$"
   ]
  },
  {
   "cell_type": "markdown",
   "metadata": {},
   "source": [
    "带入原方程可得$$dy-(P(x)y+Q(x))dx=0$$"
   ]
  },
  {
   "cell_type": "markdown",
   "metadata": {},
   "source": [
    "即原方程为一阶线性方程"
   ]
  },
  {
   "cell_type": "markdown",
   "metadata": {},
   "source": [
    "二、求出伯努利微分方程的积分因子。"
   ]
  },
  {
   "cell_type": "markdown",
   "metadata": {},
   "source": [
    "解：已知伯努利微分方程为$$\\frac{dy}{dx}=P(x)y+Q(x)y^n,y\\neq 0$$"
   ]
  },
  {
   "cell_type": "markdown",
   "metadata": {},
   "source": [
    "两边同时乘以$$y^{-n}$$,同时令$$z=y^{1-n}$$"
   ]
  },
  {
   "cell_type": "markdown",
   "metadata": {},
   "source": [
    " $$y^{-n}{dy\\over dx}=y^{-n}P(x)y+Q(x)$$"
   ]
  },
  {
   "cell_type": "markdown",
   "metadata": {},
   "source": [
    "$${dz\\over dx}=(1-n)y^{-n}{dy\\over dx}$$"
   ]
  },
  {
   "cell_type": "markdown",
   "metadata": {},
   "source": [
    "$${dx\\over dx}=(1-n)P(x)z+(1-n)Q(x)$$"
   ]
  },
  {
   "cell_type": "markdown",
   "metadata": {},
   "source": [
    "上式线性方程有积分因子$$\\mu(x)=e^{-\\int (1-n)P(x) \\mathrm{d}x}=e^{\\int (n-1)P(x) \\mathrm{d}x}$$"
   ]
  },
  {
   "cell_type": "markdown",
   "metadata": {},
   "source": [
    "因此，伯努利微分方程的积分因子为$$\\mu(x)=e^{\\int (n-1)P(x) \\mathrm{d}x}$$"
   ]
  },
  {
   "cell_type": "markdown",
   "metadata": {},
   "source": [
    "三、设$\\mu(x,y)$是方程$M(x,y)dx+N(x,y)dy=0$的积分因子，从而求得微分函数$U(x,y)$,使得$dU=\\mu(Mdx+Ndy)$。试证$\\widetilde{\\mu}(x,y)$也是$M(x,y)dx+N(x,y)dy=0$的积分因子的充要条件是$\\widetilde{\\mu}(x,y)=\\mu \\varphi(U)$,其中$\\varphi(t)$是t的可微函数。"
   ]
  },
  {
   "cell_type": "markdown",
   "metadata": {},
   "source": [
    "证：若$\\widetilde{\\mu}(x,y)=\\mu \\varphi(U)$"
   ]
  },
  {
   "cell_type": "markdown",
   "metadata": {},
   "source": [
    "则$$\\frac{\\partial({\\widetilde{\\mu}M})}{\\partial{y}}={\\partial(\\mu \\varphi(u) M)\\over \\partial y}$$"
   ]
  },
  {
   "cell_type": "markdown",
   "metadata": {},
   "source": [
    "$$=\\varphi(u){\\partial(\\mu M)\\over \\partial y}+\\mu M {\\partial \\varphi(u) \\over \\partial y}$$"
   ]
  },
  {
   "cell_type": "markdown",
   "metadata": {},
   "source": [
    "$$=\\varphi(u){\\partial(\\mu M)\\over \\partial y}+\\mu M \\mu'(u)\\mu N$$"
   ]
  },
  {
   "cell_type": "markdown",
   "metadata": {},
   "source": [
    "$$\\frac{\\partial({\\widetilde{\\mu}N})}{\\partial{x}}={\\partial(\\mu \\varphi(u) N)\\over \\partial x}$$"
   ]
  },
  {
   "cell_type": "markdown",
   "metadata": {},
   "source": [
    "$$=\\varphi(u){\\partial(\\mu N)\\over \\partial x}+\\mu N {\\partial \\varphi(u) \\over \\partial x}$$"
   ]
  },
  {
   "cell_type": "markdown",
   "metadata": {},
   "source": [
    "$$=\\varphi(u){\\partial(\\mu N)\\over \\partial x}+\\mu N \\mu'(u)\\mu M$$"
   ]
  },
  {
   "cell_type": "markdown",
   "metadata": {},
   "source": [
    "$$=\\varphi(u){\\partial(\\mu M)\\over \\partial y}+\\mu M \\mu'(u)\\mu N$$"
   ]
  },
  {
   "cell_type": "markdown",
   "metadata": {},
   "source": [
    "$$=\\frac{\\partial({\\widetilde{\\mu}M})}{\\partial{y}}$$"
   ]
  },
  {
   "cell_type": "markdown",
   "metadata": {},
   "source": [
    "因此$\\widetilde{\\mu}$为$$M(x,y)dx+N(x,y)dy=0$$的一个积分因子"
   ]
  },
  {
   "cell_type": "markdown",
   "metadata": {},
   "source": [
    "四、求解下列方程。"
   ]
  },
  {
   "cell_type": "markdown",
   "metadata": {},
   "source": [
    "1.$xy'^3=1+y'$"
   ]
  },
  {
   "cell_type": "markdown",
   "metadata": {},
   "source": [
    "2.$y'^3-x^3(1-y')=0$"
   ]
  },
  {
   "cell_type": "markdown",
   "metadata": {},
   "source": [
    "3.$y=y'^2e^{y'}$"
   ]
  },
  {
   "cell_type": "markdown",
   "metadata": {},
   "source": [
    "4.$y(1+y'^2)=2a$(a为常数)"
   ]
  },
  {
   "cell_type": "markdown",
   "metadata": {},
   "source": [
    "5.$x^2+y'^2=1$"
   ]
  },
  {
   "cell_type": "markdown",
   "metadata": {},
   "source": [
    "6.$y^2(y'-1)=(2-y')^2$"
   ]
  },
  {
   "cell_type": "markdown",
   "metadata": {},
   "source": [
    "解：（1）$$x{dy\\over dx}^3=1+{dy\\over dx}$$"
   ]
  },
  {
   "cell_type": "markdown",
   "metadata": {},
   "source": [
    "令$$p={dy\\over dx}={1\\over t}$$"
   ]
  },
  {
   "cell_type": "markdown",
   "metadata": {},
   "source": [
    "$$x=(1+{1\\over t})t^3$$"
   ]
  },
  {
   "cell_type": "markdown",
   "metadata": {},
   "source": [
    "$$x=t^3+t^2$$"
   ]
  },
  {
   "cell_type": "markdown",
   "metadata": {},
   "source": [
    "$$y=\\int p \\mathrm{d}x+c=\\int {1\\over t}\\mathrm{d}(t^3+t^2)+c$$"
   ]
  },
  {
   "cell_type": "markdown",
   "metadata": {},
   "source": [
    "$$y={3\\over 2}t^2+2t+c$$"
   ]
  },
  {
   "cell_type": "markdown",
   "metadata": {},
   "source": [
    "方程的通解表示成参数形式\n",
    "$$\n",
    "\\begin{cases}\n",
    "x=t^3+t^2\\\\\n",
    "y={3\\over 2}t^2+2t+c\n",
    "\\end{cases}\n",
    "$$"
   ]
  },
  {
   "cell_type": "markdown",
   "metadata": {},
   "source": [
    "(2)$${dy\\over dx}^3-x^3(1-{dy\\over dx})=0$$"
   ]
  },
  {
   "cell_type": "markdown",
   "metadata": {},
   "source": [
    "$$p={dy\\over dx}=tx$$"
   ]
  },
  {
   "cell_type": "markdown",
   "metadata": {},
   "source": [
    "$$(tx)^3-x^3(1-tx)=0$$"
   ]
  },
  {
   "cell_type": "markdown",
   "metadata": {},
   "source": [
    "$$x={1\\over t}-t^2$$"
   ]
  },
  {
   "cell_type": "markdown",
   "metadata": {},
   "source": [
    "$$y=\\int P\\mathrm{d}x+c=\\int t({1\\over t}-t^2)\\mathrm{d}({1\\over t}-t^2)+c$$"
   ]
  },
  {
   "cell_type": "markdown",
   "metadata": {},
   "source": [
    "$$=\\int (2t^4-t-{1\\over t})\\mathrm{d}t+c={2\\over 5}t^5-{1\\over 2}t^2+{1\\over t}+c$$"
   ]
  },
  {
   "cell_type": "markdown",
   "metadata": {},
   "source": [
    "方程的通解表示成参数形式 \n",
    "$$\\begin{cases}\n",
    "x={1\\over t}-t^2\\\\\n",
    "y={2\\over 5}t^5-{1\\over 2}t^2+{1\\over t}+c\n",
    "\\end{cases}\n",
    "$$"
   ]
  },
  {
   "cell_type": "markdown",
   "metadata": {},
   "source": [
    "(3)$$y=({dy\\over dx})^2e^{{dy\\over dx}}$$"
   ]
  },
  {
   "cell_type": "markdown",
   "metadata": {},
   "source": [
    "$$y'={dy\\over dx}=p$$"
   ]
  },
  {
   "cell_type": "markdown",
   "metadata": {},
   "source": [
    "$$y=p^2e^p$$"
   ]
  },
  {
   "cell_type": "markdown",
   "metadata": {},
   "source": [
    "$$x=\\int {1\\over p}\\mathrm{d}+c=\\int {1\\over p}{d}(p^2e^p)+c=\\int {1\\over p}(2pe^p+p^2e^p)\\mathrm{d}p+c$$"
   ]
  },
  {
   "cell_type": "markdown",
   "metadata": {},
   "source": [
    "$$x=(1+p)e^p+c$$"
   ]
  },
  {
   "cell_type": "markdown",
   "metadata": {},
   "source": [
    "方程的通解表示成参数形式 \n",
    "$$\\begin{cases}\n",
    "x=(1+p)e^p+c\\\\\n",
    "y=p^2e^p\n",
    "\\end{cases}\n",
    "$$"
   ]
  },
  {
   "cell_type": "markdown",
   "metadata": {},
   "source": [
    "同时当$y'=0$时，即$y=0$也是方程的解"
   ]
  },
  {
   "cell_type": "markdown",
   "metadata": {},
   "source": [
    "(4)$$y(1+({dy\\over dx})^2)=2a$$"
   ]
  },
  {
   "cell_type": "markdown",
   "metadata": {},
   "source": [
    "$${dy\\over dx}=p=tg\\varphi$$"
   ]
  },
  {
   "cell_type": "markdown",
   "metadata": {},
   "source": [
    "$$y=\\frac{2a}{1+tg^2 \\varphi}=\\frac{za}{sec^2 \\varphi}=2acos^2 \\varphi$$"
   ]
  },
  {
   "cell_type": "markdown",
   "metadata": {},
   "source": [
    "$$x=\\int \\frac{1}{tg \\varphi}\\mathrm{d}y+c=\\frac{1}{tg \\varphi}\\mathrm{d}(2acos^2 \\varphi)+c$$"
   ]
  },
  {
   "cell_type": "markdown",
   "metadata": {},
   "source": [
    "$$x=-4a\\int cos^2\\varphi \\mathrm{d}\\varphi+c=-4a\\int{cos2\\varphi+1\\over 2}\\mathrm{d}\\varphi+c$$"
   ]
  },
  {
   "cell_type": "markdown",
   "metadata": {},
   "source": [
    "$$x=-2a-a\\int cos2\\varphi\\mathrm{d}\\varphi+c=-a(2\\varphi+sin(2\\varphi))$$"
   ]
  },
  {
   "cell_type": "markdown",
   "metadata": {},
   "source": [
    "方程的通解表示成参数形式 \n",
    "$$\\begin{cases}\n",
    "x=-a(2\\varphi+sin(2\\varphi))\\\\\n",
    "y=2acos^2 \\varphi\n",
    "\\end{cases}\n",
    "$$"
   ]
  },
  {
   "cell_type": "markdown",
   "metadata": {},
   "source": [
    "(5)$$x=sint  $$      $$   y'={dy\\over dx}=cost$$"
   ]
  },
  {
   "cell_type": "markdown",
   "metadata": {},
   "source": [
    "$$y=\\int cost\\mathrm{d}x+c=\\int cost\\mathrm{d}(sint)+c=\\int cos^2t\\mathrm{d}t+c$$"
   ]
  },
  {
   "cell_type": "markdown",
   "metadata": {},
   "source": [
    "$$y={t\\over 2}+{1\\over 4}sin2t+c$$"
   ]
  },
  {
   "cell_type": "markdown",
   "metadata": {},
   "source": [
    "方程的通解表示成参数形式 \n",
    "$$\\begin{cases}\n",
    "x=sint\\\\\n",
    "y={t\\over 2}+{1\\over 4}sin2t+c\n",
    "\\end{cases}\n",
    "$$"
   ]
  },
  {
   "cell_type": "markdown",
   "metadata": {},
   "source": [
    "(5)$$2-y'=yt$$ $$1-y'=yt-1$$"
   ]
  },
  {
   "cell_type": "markdown",
   "metadata": {},
   "source": [
    "$$y^2(yt-1)=y^2t^2$$"
   ]
  },
  {
   "cell_type": "markdown",
   "metadata": {},
   "source": [
    "$$y=\\frac{t^2+1}{t}=t+{1\\over t}$$"
   ]
  },
  {
   "cell_type": "markdown",
   "metadata": {},
   "source": [
    "$$x=\\int {1\\over 2-yt}\\mathrm{d}y+c$$"
   ]
  },
  {
   "cell_type": "markdown",
   "metadata": {},
   "source": [
    "$$=\\int {1\\over 2-t(t+{1\\over t})}\\mathrm{d}(t+{1\\over t})+c$$"
   ]
  },
  {
   "cell_type": "markdown",
   "metadata": {},
   "source": [
    "$$=\\int {1-t^{-2}\\over 1-t^2}\\mathrm{d}t+c$$"
   ]
  },
  {
   "cell_type": "markdown",
   "metadata": {},
   "source": [
    "$$x={1\\over t}+c$$"
   ]
  },
  {
   "cell_type": "markdown",
   "metadata": {},
   "source": [
    "方程的通解表示成参数形式 \n",
    "$$\\begin{cases}\n",
    "x={1\\over t}+c\\\\\n",
    "y=t+{1\\over t}\n",
    "\\end{cases}\n",
    "$$"
   ]
  },
  {
   "cell_type": "markdown",
   "metadata": {},
   "source": [
    "此方程的通解为$$y=x-c+{1\\over x-c}$$"
   ]
  },
  {
   "cell_type": "markdown",
   "metadata": {},
   "source": [
    "$A$"
   ]
  },
  {
   "cell_type": "code",
   "execution_count": null,
   "metadata": {
    "collapsed": true
   },
   "outputs": [],
   "source": []
  }
 ],
 "metadata": {
  "kernelspec": {
   "display_name": "SageMath 7.3",
   "language": "",
   "name": "sagemath"
  },
  "language_info": {
   "codemirror_mode": {
    "name": "ipython",
    "version": 2
   },
   "file_extension": ".py",
   "mimetype": "text/x-python",
   "name": "python",
   "nbconvert_exporter": "python",
   "pygments_lexer": "ipython2",
   "version": "2.7.10"
  }
 },
 "nbformat": 4,
 "nbformat_minor": 0
}
