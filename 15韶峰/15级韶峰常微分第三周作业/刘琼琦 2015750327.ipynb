{
 "cells": [
  {
   "cell_type": "markdown",
   "metadata": {},
   "source": [
    "## 姓名：刘琼琦                                                                                                                                                                                                                                                                                                                                                                                                                                                                                                                                            "
   ]
  },
  {
   "cell_type": "markdown",
   "metadata": {},
   "source": [
    "## 学号：2015750327"
   ]
  },
  {
   "cell_type": "markdown",
   "metadata": {},
   "source": [
    "# $$作业一（9月12日）$$"
   ]
  },
  {
   "cell_type": "markdown",
   "metadata": {},
   "source": [
    "## 习题2.2"
   ]
  },
  {
   "cell_type": "markdown",
   "metadata": {},
   "source": [
    "## 1.求下列方程的解："
   ]
  },
  {
   "cell_type": "markdown",
   "metadata": {},
   "source": [
    "## (4)$\\frac{\\mathrm d y}{\\mathrm d x}-\\frac{n}{x}y=e^xx^n(n为常数）$"
   ]
  },
  {
   "cell_type": "markdown",
   "metadata": {},
   "source": [
    "**解**\n",
    "\n",
    "依题意 $P(x)=\\frac{n}{x},Q(x)=e^xx^n$\n",
    "\n",
    "所以\n",
    "$$\n",
    "\\begin{aligned}\n",
    "y&=e^{\\int\\frac{n}{x}\\mathrm d x}(\\int{e^xx^nx^{-n}}\\mathrm d x+c)\\\\&=x^n(\\int{e^xx^nx^{-n}}\\mathrm d x+c)\\\\&=(e^x+c)x^n\n",
    "\\end{aligned}\n",
    "$$\n",
    "\n"
   ]
  },
  {
   "cell_type": "markdown",
   "metadata": {},
   "source": [
    "## (15)$\\frac{\\mathrm d y}{\\mathrm d x}=\\frac{1}{xy+x^3y^3}$"
   ]
  },
  {
   "cell_type": "markdown",
   "metadata": {},
   "source": [
    "**解**\n",
    "\n",
    "依题意$\\frac{\\mathrm d x}{\\mathrm d y}=yx+y^3x^3$\n",
    "\n",
    "所以$\\frac{1}{x^3}\\frac{\\mathrm d x}{\\mathrm d y}=\\frac{y}{x^2}+y^3$\n",
    "\n",
    "令$z=\\frac{1}{x^2}$\n",
    "\n",
    "则\n",
    "$$\n",
    "\\begin{aligned}\n",
    "\\frac{\\mathrm d z}{\\mathrm dy}&=-2\\frac{1}{x^3}\\frac{\\mathrm d x}{\\mathrm d y}\\\\&=-\\frac{2y}{x^2}-2y^3\\\\&=-2yz-2y^3\n",
    "\\end{aligned}\n",
    "$$\n",
    "\n",
    "从而$P(y)=-2y,Q(y)=-2y^3$\n",
    "\n",
    "所以\n",
    "$$\n",
    "\\begin{aligned}\n",
    "z&=e^{\\int-2y\\mathrm d y}(\\int{-2y^3e^{-\\int-2y\\mathrm d y}}\\mathrm d y+c)\\\\&=e^{-y^2}(e^{y^2}(1-y^2)+c)\\\\&=1-y^2+ce^{-y^2}\n",
    "\\end{aligned}\n",
    "$$\n",
    "\n",
    "于是将$z=\\frac{1}{x^2}$代入，最终化解可得$cx^2=e^{y^2}(1-x^2+x^2y^2)$\n",
    "\n",
    "\n",
    "\n",
    "\n",
    "\n",
    "\n",
    "\n",
    "\n",
    "\n"
   ]
  },
  {
   "cell_type": "markdown",
   "metadata": {},
   "source": [
    "## (16)$y=e^x+\\int_0^xy(t)\\mathrm d t$"
   ]
  },
  {
   "cell_type": "markdown",
   "metadata": {},
   "source": [
    "**解**\n",
    "\n",
    "依题意$\\frac{\\mathrm d y}{\\mathrm d x}=e^x+y$\n",
    "\n",
    "所以$P(x)=1,Q(x)=e^x$\n",
    "\n",
    "于是$y=e^{\\int1\\mathrm d x}(\\int{e^xe^{-\\int1\\mathrm d x}}\\mathrm d x+c)=e^x（x+c）$\n",
    "\n",
    "又根据$e^x（x+c）=e^x+\\int_0^xe^x(x+c)\\mathrm d x$\n",
    "\n",
    "得到$c=1$\n",
    "\n",
    "所以解为$y=e^x(x+1)$"
   ]
  },
  {
   "cell_type": "markdown",
   "metadata": {},
   "source": [
    "## 7.求解下列方程"
   ]
  },
  {
   "cell_type": "markdown",
   "metadata": {},
   "source": [
    "## （3）$y^\\prime\\sin x\\cos x-y-\\sin^3 x=0$"
   ]
  },
  {
   "cell_type": "markdown",
   "metadata": {},
   "source": [
    "**解**\n",
    "\n",
    "依题意$\\frac{\\mathrm d y}{\\mathrm d x}=\\frac{1}{\\sin x\\cos x}y+\\frac{\\sin^2 x}{\\cos x}（\\sin x≠0,\\cos x≠o）$\n",
    "\n",
    "所以$P(x)=\\frac{1}{\\sin x\\cos x},Q(x)=\\frac{\\sin^2 x}{\\cos x}$\n",
    "\n",
    "于是$y=e^{\\int\\frac{\\mathrm d x}{\\sin x\\cos x}}  (\\int{e^{\\frac{\\sin^2 x}{\\cos x}}e^{-\\int\\frac{\\mathrm d x}{\\sin x\\cos x} \\mathrm d x}}+c)$\n",
    "\n",
    "所以$y=\\tan x(-\\cos x+c)=c\\tan x-\\sin x$\n",
    "\n",
    "当$\\sin x=o$时，原方程化解为$y=0$\n",
    "\n",
    "当$\\cos x=0$时，原方程化解为$y=-\\sin^3 x=±1$，即曲线变成点$（2k\\pi+\\frac{\\pi}{2},-1）$和$（2k\\pi-\\frac{\\pi}{2},1)$,k=0,±1,±2,...\n",
    "\n",
    "综上可得，原方程的解为$y=\\tan x(-\\cos x+c)=c\\tan x-\\sin x(x≠k\\pi±\\frac{\\pi}{2})$\n",
    "\n",
    "或者点$（k\\pi+\\frac{\\pi}{2},(-1)^{k+1}),k=0,±1,±2,...$\n",
    "\n",
    "\n"
   ]
  },
  {
   "cell_type": "markdown",
   "metadata": {},
   "source": [
    "## $$作业二（9月14日）$$"
   ]
  },
  {
   "cell_type": "markdown",
   "metadata": {},
   "source": [
    "## 习题2.3"
   ]
  },
  {
   "cell_type": "markdown",
   "metadata": {},
   "source": [
    "## 1验证下列方程是恰当微分方程，并求出方程的解："
   ]
  },
  {
   "cell_type": "markdown",
   "metadata": {},
   "source": [
    "## （5）$(\\frac{1}{y}\\sin \\frac{x}{y}-\\frac{y}{x^2}\\cos \\frac{y}{x}+1)\\mathrm d x+(\\frac{1}{x}\\cos \\frac{y}{x}-\\frac{x}{y^2}\\sin \\frac{x}{y}+\\frac{1}{y^2})\\mathrm d y=0$"
   ]
  },
  {
   "cell_type": "markdown",
   "metadata": {},
   "source": [
    "**解**\n",
    "\n",
    "因为$\\frac{\\partial M}{\\partial y}=-\\frac{1}{y^2}\\sin \\frac{x}{y}+\\frac{1}{y}\\cos \\frac{x}{y}·\\frac{-x}{y^2}-\\frac{1}{x^2}\\cos \\frac{x}{y}+\\frac{y}{x^2}·\\frac{1}{x}\\sin \\frac{y}{x}$,\n",
    "\n",
    "$\\frac{\\partial N}{\\partial x}=-\\frac{1}{x^2}\\cos \\frac{x}{y}+\\frac{1}{x}·\\frac{y}{x^2}\\sin \\frac{y}{x}-\\frac{1}{y^2}\\sin \\frac{x}{y}-\\frac{1}{y}·\\frac{x}{y^2}\\cos \\frac{x}{y}=\\frac{\\partial M}{\\partial y}$ \n",
    "\n",
    "所以方程为恰当方程。把方程重新排列得到\n",
    "$$(\\frac{1}{y}\\sin \\frac{x}{y}\\mathrm d x-\\frac{x}{y^2}\\sin \\frac{x}{y}\\mathrm d y)+(-\\frac{y}{x^2}\\cos \\frac{y}{x}\\mathrm d x+\\frac{1}{x}\\cos \\frac{y}{x}\\mathrm d y)+\\mathrm d x+\\frac{1}{y^2}\\mathrm d y=0$$\n",
    "\n",
    "即$$\\mathrm d(-\\cos \\frac{x}{y}+\\sin \\frac{y}{x}+x-\\frac{1}{y}）=0$$\n",
    "\n",
    "于是方程的通解为$$\\sin \\frac{y}{x}-\\cos \\frac{x}{y}+x-\\frac{1}{y}=c$$这里c为常数。\n",
    "\n",
    "\n",
    "\n",
    "\n",
    "\n"
   ]
  },
  {
   "cell_type": "markdown",
   "metadata": {},
   "source": [
    "## （2）求下列方程的解："
   ]
  },
  {
   "cell_type": "markdown",
   "metadata": {},
   "source": [
    "## (10)$(y\\cos x-x\\sin x)\\mathrm d x+(y\\sin x+x\\cos x)\\mathrm d y=0$"
   ]
  },
  {
   "cell_type": "markdown",
   "metadata": {},
   "source": [
    "**解**\n",
    "\n",
    "因为$M=y\\cos x-x\\sin x,N=y\\sin x+x\\cos x$\n",
    "\n",
    "所以可求出$\\frac{\\partial M}{\\partial y}≠\\frac{\\partial N}{\\partial x}$即此方程不是恰当方程。\n",
    "\n",
    "因为$\\frac{\\frac{\\partial M}{\\partial y}-\\frac{\\partial N}{\\partial x}}{M}=1$\n",
    "\n",
    "所以积分因子$$\\mu=e^{\\int1\\mathrm d y}=e^y$$\n",
    "\n",
    "用$\\mu=e^y$乘以方程两边得$$[(y-1)e^y\\cos x\\mathrm d x+ye^y\\sin x\\mathrm d y]+(e^yx\\cos x\\mathrm d y-e^yx\\sin x\\mathrm d x+e^y\\cos x\\mathrm d x)=0$$\n",
    "\n",
    "即$$\\mathrm d[(y-1)e^y\\sin x+e^yx\\cos x]=0$$\n",
    "\n",
    "所以方程的通解为$$(y-1)e^y\\sin x+e^yx\\cos x=c$$\n",
    "\n",
    "\n",
    "\n",
    "\n",
    "\n",
    "\n"
   ]
  },
  {
   "cell_type": "markdown",
   "metadata": {},
   "source": [
    "## (11)$x(4y\\mathrm d x+2x\\mathrm d y)+y^3(3y\\mathrm d x+5x\\mathrm d y)=0$"
   ]
  },
  {
   "cell_type": "markdown",
   "metadata": {},
   "source": [
    "**解**\n",
    "\n",
    "显而易见$x(4y\\mathrm d x+2x\\mathrm d y)=\\mathrm d(2x^2y)$\n",
    "\n",
    "对于方程$y^3(3y\\mathrm d x+5x\\mathrm d y)=0$,如上题所示可求出其不是恰当方程。\n",
    "\n",
    "又$\\frac{\\frac{\\partial M}{\\partial y}-\\frac{\\partial N}{\\partial x}}{N}=\\frac{7}{5x}$\n",
    "\n",
    "所以积分因子$$\\mu=e^{\\int\\frac{7}{5x}\\mathrm d x}=x^{\\frac{7}{5}}$$\n",
    "\n",
    "用$\\mu=x^{\\frac{7}{5}}$乘以方程$y^3(3y\\mathrm d x+5x\\mathrm d y)=0$两边得$$3y^4x^{\\frac{7}{5}}\\mathrm d x+5x^{\\frac{12}{5}}y^3\\mathrm d y=0$$\n",
    "\n",
    "即$$\\mathrm d(\\frac{5}{4}x^{\\frac{12}{5}}y^4)=0$$\n",
    "\n",
    "综上所述，得到方程的通解为$$2x^2y+\\frac{5}{4}x^{\\frac{12}{5}}y^4=c$$"
   ]
  },
  {
   "cell_type": "markdown",
   "metadata": {},
   "source": [
    "**$A^+$**"
   ]
  },
  {
   "cell_type": "code",
   "execution_count": null,
   "metadata": {
    "collapsed": true
   },
   "outputs": [],
   "source": []
  }
 ],
 "metadata": {
  "kernelspec": {
   "display_name": "SageMath 7.3",
   "language": "",
   "name": "sagemath"
  },
  "language_info": {
   "codemirror_mode": {
    "name": "ipython",
    "version": 2
   },
   "file_extension": ".py",
   "mimetype": "text/x-python",
   "name": "python",
   "nbconvert_exporter": "python",
   "pygments_lexer": "ipython2",
   "version": "2.7.10"
  }
 },
 "nbformat": 4,
 "nbformat_minor": 0
}
