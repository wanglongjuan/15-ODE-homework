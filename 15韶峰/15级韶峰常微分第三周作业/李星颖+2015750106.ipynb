{
 "cells": [
  {
   "cell_type": "markdown",
   "metadata": {},
   "source": [
    "# 《线性微分方程与常数变易法》作业"
   ]
  },
  {
   "cell_type": "markdown",
   "metadata": {},
   "source": [
    "## 求下列方程的解:\n",
    "\n",
    "(1):$\\frac{\\mathrm d y}{\\mathrm d x}-\\frac{n}{x}y=e^xx^n$；（$n$为常数）\n",
    "\n",
    "(2):$\\frac{\\mathrm dy}{\\mathrm dx}=\\frac{1}{xy+x^3y^3}$；\n",
    "\n",
    "(3):$y=e^x+\\int_0^xy(t)\\mathrm \\,dx$；\n",
    "\n",
    "(4):$y\\prime \\sin x\\cdot \\cos x-y-\\sin ^3x=0$；"
   ]
  },
  {
   "cell_type": "markdown",
   "metadata": {},
   "source": [
    "**解**：\n",
    "\n",
    "(1):对齐次线性微分方程$\\frac{\\mathrm dy}{\\mathrm dx}=\\frac{n}{x}y$求通解，得$y=cx^n$,将常数$c$变易为$c(x)$，令$y=c(x)\\cdot x^n$，对$y$求微分，得$\\frac{\\mathrm dy}{\\mathrm dx}=c'(x)\\cdot x^n+c(x)\\cdot nx^{n-1}$，代入原方程，得到$\\frac{\\mathrm dy}{\\mathrm dx}=c(x)'\\cdot x^n+c(x)\\cdot nx^{n-1}=\\frac{n}{x}c(x)\\cdot x^n+e^xx^n\\implies c'(x)=e^x$  (对其进行积分)$\\implies c(x)=e^x+c^*$，其中$c^*$是任意常数，代入$y=c(x)\\cdot x^n$得到通解$y=(e^x+c^*)x^n$。\n",
    "\n",
    "\n",
    "(2):该方程可改写为$\\frac{\\mathrm dx}{\\mathrm dy}=xy+x^3y^3$。 其是伯努利方程，两边同时乘以$x^{-3}$,得$x^{-3}\\frac{\\mathrm dx}{\\mathrm dy}=x^{-2}y+y^3$,令$z=x^{-2}$,转化为$\\frac{\\mathrm dz}{\\mathrm dy}=-2yz-2y^{-3}$，对齐次线性微分方程$\\frac{\\mathrm dz}{\\mathrm dy}=-2yz$求通解，得$z=ce^{-y^2}$,将常数$c$变易为$c(y)$，令$z=c(y)\\cdot e^{-y^2}$，对$z$求微分，得$\\frac{\\mathrm dz}{\\mathrm dy}=c'(y)\\cdot e^{-y^2}+c(x)\\cdot e^{-y^2}\\cdot (-2y)$，代入原方程，得到$\\frac{\\mathrm dz}{\\mathrm dy}=c'(y)\\cdot e^{-y^2}+c(x)\\cdot e^{-y^2}\\cdot (-2y)=-2y\\cdot c(x)\\cdot e^{-y^2}-2y^3 \\implies c'(y)=-2y^3e^{y^2}$  (对其进行积分)$\\implies c(y)=-y^2e^{y^2}+e^{y^2}+c^*$,其中$c^*$是任意常数，代入$z=c(y)\\cdot e^{-y^2}$得到$z=x^{-2}=e^{-y^2}(-y^2e^{y^2}+e^{y^2}+c^*)\\implies e^{y^2}(1-x^2+x^2y^2)=c^*x^2$。于是通解为$e^{y^2}(1-x^2+x^2y^2)=c^*x^2$。\n",
    "\n",
    "(3):两边同时求导，得$\\frac{\\mathrm dy}{\\mathrm dx}=e^x+y(x)$,其为一阶非齐次线性微分方程，对齐次线性微分方程$\\frac{\\mathrm dy}{\\mathrm dx}=y$求通解，得$y=ce^x$,将常数$c$变易为$c(x)$，令$y=c(x)e^x$，对$y$求微分，得$\\frac{\\mathrm dy}{\\mathrm dx}=c'(x)e^x+c(x)e^x$，代入原方程，得到$\\frac{\\mathrm dy}{\\mathrm dx}=c'(x)e^x+c(x)e^x=e^x+c(x)e^x \\implies c'(x)=1$  (对其进行积分)$\\implies c(x)=x+c^*$，其中$c^*$是任意常数，代入$y=c(x)e^x$得到通解$y=(x+c^*)e^x$，再根据初值条件$y=e^x+\\int_0^xy(t)\\mathrm \\,dx \\implies c^*=1$,得到特解$y=(x+1)e^x$。\n",
    "\n",
    "(4):先研究一阶齐次线性方程$\\frac{\\mathrm dy}{\\mathrm dx}=\\frac{1}{\\sin x\\cdot \\cos x}y$,求得通解为$y=c\\cdot \\tan x$,将常数$c$变易为$c(x)$，令$y=c(x)\\cdot \\tan x$,对$y$求导，得$y'=c'(x)\\tan x +\\frac{c(x)}{\\cos ^{2}}$,代入原方程$(x\\ne \\frac{\\pi}{2}+k\\pi)$，得到$(c'(x)\\tan x +\\frac{c(x)}{\\cos ^{2}})\\sin x \\cdot \\cos x-y -\\sin^3 x=0 \\implies c'(x)=\\sin x$(对其进行积分)$\\implies c(x)=-\\cos x+c^*$,其中$c^*$是任意常数，代入原方程，得到通解$y=c^* \\cdot \\tan x-\\sin x$，$(x\\ne \\frac{\\pi}{2}+k\\pi)$。另外，当$x=\\frac{\\pi}{2}+k\\pi$时，$y=(-1)^{(k+1)}$。于是所有过点$(\\frac{\\pi}{2}+k\\pi,(-1)^{(k+1)})$并在这些点可微的函数都是该方程的解。"
   ]
  },
  {
   "cell_type": "code",
   "execution_count": null,
   "metadata": {
    "collapsed": true
   },
   "outputs": [],
   "source": []
  },
  {
   "cell_type": "markdown",
   "metadata": {},
   "source": [
    "# 《恰当微分方程与积分因子》作业\n",
    "\n",
    "## 1.验证下列方程是恰当微分方程，并求出方程的解：\n",
    "$(\\frac{1}{y}\\sin \\frac{x}{y}-\\frac{y}{x^2}\\cos \\frac{y}{x}+1)\\mathrm dx+(\\frac{1}{x}\\cos \\frac{y}{x}-\\frac{x}{y^2}\\sin \\frac{x}{y}+\\frac{1}{y^2})\\mathrm dy=0$\n",
    "\n",
    "**解**：容易看出$\\mathrm d(\\sin(\\frac{y}{x})-\\cos(\\frac{x}{y})+x-\\frac{1}{y})=(\\frac{1}{y}\\sin \\frac{x}{y}-\\frac{y}{x^2}\\cos \\frac{y}{x}+1)\\mathrm dx+(\\frac{1}{x}\\cos \\frac{y}{x}-\\frac{x}{y^2}\\sin \\frac{x}{y}+\\frac{1}{y^2})\\mathrm dy$,于是该方程是恰当微分方程，且通解为$\\sin(\\frac{y}{x})-\\cos(\\frac{x}{y})+x-\\frac{1}{y}=C$  (C为任意常数)"
   ]
  },
  {
   "cell_type": "markdown",
   "metadata": {},
   "source": [
    "# 过程不正确"
   ]
  },
  {
   "cell_type": "markdown",
   "metadata": {},
   "source": [
    "## 2.求下列方程的解：\n",
    "(1):$(y\\cos x-x\\sin x)\\mathrm dx+(y\\sin x+x\\cos x)\\mathrm dy=0$\n",
    "\n",
    "(2):$x(4y\\mathrm dx+2x\\mathrm dy)+y^3(3y\\mathrm dx+5x\\mathrm dy)=0$\n",
    "\n",
    "**解**：\n",
    "\n",
    "(1):令$M=(y\\cos x-x\\sin x),N=(y\\sin x+x\\cos x) \\implies \\frac{\\frac{\\partial M}{\\partial y}-\\frac{\\partial N}{\\partial x}}{-M}=1=\\psi (y)$说明积分因子仅与y有关（准确的说跟谁都无关），且积分因子是$\\mu =e^{\\int \\psi(y)\\mathrm \\,dy}=ce^y$，将原方程两边同时乘以积分因子，得恰当微分方程$ce^y(y\\cos x-x\\sin x)\\mathrm dx+ce^y(y\\sin x+x\\cos x)\\mathrm dy=0$,解该恰当微分方程得通解$e^y(\\sin x(y-1)+x\\cos x)=C$。\n",
    "\n",
    "(2):令$M=4xy+y^4,N=2x^2+5xy^3$,又因为$\\frac{\\partial M}{\\partial y}-\\frac{\\partial N}{\\partial x}\\ne 0,\\frac{\\frac{\\partial M}{\\partial y}-\\frac{\\partial N}{\\partial x}}{N}$不是仅与$x$有关的函数，$\\frac{\\frac{\\partial M}{\\partial y}-\\frac{\\partial N}{\\partial x}}{-M}$不是仅与$y$有关的函数。于是无法使用通法解该方程，但通过试探可以发现，其积分因子为$x^2y$,于是得到恰当微分方程$4x^3y^2\\mathrm dx+2x^4y\\mathrm dy+3x^2y^5\\mathrm dx+5x^3y^4\\mathrm dy=0$$\\implies \\mathrm d(x^4y^2+x^3y^5)=0$，得到通解$x^4y^2+x^3y^5=C$  (C为任意常数)"
   ]
  },
  {
   "cell_type": "markdown",
   "metadata": {},
   "source": [
    "cell没有做好规范"
   ]
  },
  {
   "cell_type": "markdown",
   "metadata": {
    "collapsed": true
   },
   "source": [
    "# $A$"
   ]
  },
  {
   "cell_type": "code",
   "execution_count": null,
   "metadata": {
    "collapsed": true
   },
   "outputs": [],
   "source": []
  }
 ],
 "metadata": {
  "kernelspec": {
   "display_name": "SageMath 7.3",
   "language": "",
   "name": "sagemath"
  },
  "language_info": {
   "codemirror_mode": {
    "name": "ipython",
    "version": 2
   },
   "file_extension": ".py",
   "mimetype": "text/x-python",
   "name": "python",
   "nbconvert_exporter": "python",
   "pygments_lexer": "ipython2",
   "version": "2.7.10"
  }
 },
 "nbformat": 4,
 "nbformat_minor": 0
}
