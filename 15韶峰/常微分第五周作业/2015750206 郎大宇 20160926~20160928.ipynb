{
 "cells": [
  {
   "cell_type": "markdown",
   "metadata": {},
   "source": [
    "#### 1.求初值问题\n",
    "\n",
    "#### $$\\begin{cases}\\frac{dy}{dx}=x^2-y^2,R:|x+1|\\leq1,|y|\\leq1,\\\\y(-1)=0\\end{cases}$$\n",
    "\n",
    "#### 的解的存在区间，并求出第二次近似解，给出在解的存在区间的误差估计。"
   ]
  },
  {
   "cell_type": "markdown",
   "metadata": {},
   "source": [
    "解：由于$\\mid  x+1\\mid\\leq1,\\mid y\\mid\\leq1$,故易得\n",
    "$$M=\\max_{\\substack{(x,y)\\in R}}{(x,y)}\\mid f(x,y) \\mid=4;$$   \n",
    "\n",
    "根据定义，h是a和$\\frac{b}{M}$中的最小数，此处$a=1,\\frac{b}{M}=\\frac{1}{4} $,故$ h=\\frac{1}{4} $;由于$ \\mid \\frac{\\partial f}{\\partial y}\\mid=\\mid -2y\\mid\\leq2 $,故在R上的利普希茨常数可取为L=2.\n",
    "结合以上条件，我们可作出如下的近似表达式：\n",
    "\n",
    "$$\n",
    "\\begin{aligned}\n",
    "\\varphi_0(x)&=0\\\\\n",
    "\\varphi_1(x)&=\\int_x^{-1} f(x,0)dx\\\\\n",
    "&=\\int_{-1}^x x^2dx\\\\\n",
    "&=\\frac{x^3}{3}\\mid_x^{-1}\\\\\n",
    "&=\\frac{x^3}{3}+\\frac{1}{3}\\\\\n",
    "\\varphi_2(x)&=\\int_{-1}^x f(x,\\frac{x^3}{3}+\\frac{1}{3})dx\\\\\n",
    "&=\\int_{-1}^x [x^2-(\\frac{x^3}{3}+\\frac{1}{3})^2)dx\\\\\n",
    "&=(\\frac{x^3}{3}-\\frac{x^7}{63}-\\frac{x^4}{18}-\\frac{x}{9})\\mid_{-1}^x\\\\\n",
    "&=\\frac{x^3}{3}-\\frac{x^7}{63}-\\frac{x^4}{18}-\\frac{x}{9}+\\frac{11}{42}\n",
    "\\end{aligned}\n",
    "$$\n",
    "\n",
    "根据公式，得\n",
    "\n",
    "$$\\mid \\varphi_2(x)-\\varphi_(x)\\mid\\leq \\frac{ML^{n}h^{n+1}}{(n+1)!}=\\frac{1}{24}$$\n",
    "\n",
    "综上，已知初值问题的解的存在区间为$-\\frac{5}{4}\\leq x \\leq-\\frac{3}{4}$,第二次近似解$y_2=\\frac{x^3}{3}-\\frac{x^7}{63}-\\frac{x^4}{18}-\\frac{x}{9}+\\frac{11}{42}$,误差估计为$\\mid y-y_2\\mid\\leq\\frac{1}{24}$."
   ]
  },
  {
   "cell_type": "markdown",
   "metadata": {},
   "source": [
    "#### 2.证明格朗沃尔（Gronwall）不等式：\n",
    "#### 设K为非负常数，f(t)和g(t)为在区间$\\alpha\\leq t \\leq\\beta$上的连续非负函数，且满足不等式    \n",
    "#### $$f(t)\\leq K+\\int_a^t f(s)g(s)ds,\\alpha\\leq t \\leq\\beta$$\n",
    "#### 则有$$f(t)\\leq K\\exp{(\\int_a^t g(s)ds)},\\alpha\\leq t \\leq\\beta$$\n",
    "#### 并由此证明定理1的命题5."
   ]
  },
  {
   "cell_type": "markdown",
   "metadata": {},
   "source": [
    "#### 一、首先，证明格朗沃尔不等式"
   ]
  },
  {
   "cell_type": "markdown",
   "metadata": {},
   "source": [
    "证明：（1）当K>0时，令\n",
    "$$F(t)=K+\\int_t^{\\alpha} f(s)g(s)ds,$$\n",
    "\n",
    "则易得$f(t)\\leq F(t)$,则有\n",
    "\n",
    "$$F'(t)=f(t)g(t)\\leq F(t)g(t)$$\n",
    "\n",
    "由题意，可知：F(t)>0,故$$\\frac{F'(t)}{F(t)} \\leq g(t),$$\n",
    "\n",
    "两边从$\\alpha$到t进行积分，则  \n",
    "\n",
    "$$\\ln F(t)-\\ln F(\\alpha)\\leq \\int_{\\alpha}^tg(s)ds，$$两边去掉对数，即得\n",
    "\n",
    "$$\\frac{F(t)}{F(\\alpha)} \\leq \\exp(\\int_{\\alpha}^tg(s)ds)$$\n",
    "\n",
    "又因为$F(\\alpha)=K>0$,\n",
    "\n",
    "故$$F(t)\\leq K*\\exp(\\int_{\\alpha}^tg(s)ds),\\alpha\\leq t\\leq\\beta$$\n",
    "\n",
    "故$$f(t)\\leq F(t)\\leq K*\\exp(\\int_{\\alpha}^tg(s)ds),\\alpha\\leq t\\leq\\beta$$\n",
    "\n",
    "(2)当K>0时，对$\\forall\\varepsilon>0,$\n",
    "\n",
    "$$f(t)\\leq \\int_{\\alpha}^t f(s)g(s)ds,$$\n",
    "\n",
    "故$$f(t)\\leq\\varepsilon+\\int_{\\alpha}^t f(s)g(s)ds,$$\n",
    "\n",
    "根据（1）中的结论，可得$$f(t)\\leq \\varepsilon\\exp(\\int_{\\alpha}^t g(s)ds)$$\n",
    "\n",
    "当$\\varepsilon \\to 0^+$时,有$f(t)\\leq0,$又因为$f(t)\\geq0,$故$f(t)\\equiv0,\\alpha\\leq t \\leq\\beta$\n",
    "\n",
    "故有$$f(t)\\leq K*\\exp(\\int_{\\alpha}^tg(s)ds),\\alpha\\leq t\\leq\\beta$$\n",
    "\n",
    "综上结合（1）（2），格朗沃尔不等式得证。"
   ]
  },
  {
   "cell_type": "markdown",
   "metadata": {},
   "source": [
    "#### 二、证明定理1的命题5"
   ]
  },
  {
   "cell_type": "markdown",
   "metadata": {},
   "source": [
    "设$\\varphi(t)$ $\\psi(t)$是初值问题$x'=f(t,x),x(t_0)=x_0,$\n",
    "\n",
    "$$\\varphi(t)=x_0+\\int_{t_0}^tf(\\xi,\\varphi(\\xi))d\\xi,$$\n",
    "\n",
    "$$\\psi(t)=x_0+\\int_{t_0}^tf(\\xi,\\psi(\\xi))d\\xi,$$\n",
    "\n",
    "$$\n",
    "\\begin{aligned}\n",
    "\\mid \\varphi(t)-\\psi(t)\\mid&=\\mid \\int_{t_0}^t f(\\xi,\\varphi(\\xi))d\\xi-\\int_{t_0}^tf(\\xi,\\psi(\\xi))d\\xi\\mid\\\\\n",
    "& \\leq \\int_{t_0}^t \\mid f(\\xi,\\varphi(\\xi))-f(\\xi,\\psi(\\xi)) \\mid d\\xi\\\\\n",
    "& \\leq L\\int_{t_0}^t \\mid \\varphi(\\xi)-\\psi(\\xi) \\mid d\\xi\n",
    "\\end{aligned}\n",
    "$$\n",
    "L为利普希茨条件。\n",
    "\n",
    "由格朗沃尔不等式，可得\n",
    "\n",
    "$$\\mid \\varphi(t)-\\psi(t)\\mid \\leq 0,$$\n",
    "\n",
    "又$$0\\leq \\mid \\varphi(t)-\\psi(t)\\mid,$$\n",
    "\n",
    "故$$\\mid \\varphi(t)-\\psi(t)\\mid=0,$$\n",
    "\n",
    "即$$\\varphi(t)=\\psi(t)$$\n",
    "\n",
    "故命题5得证。"
   ]
  },
  {
   "cell_type": "markdown",
   "metadata": {},
   "source": [
    "#### 3.如果函数$f(x,y)$于带域$\\alpha \\leq x \\leq \\beta$上连续且关于y满足利普希茨条件，则教材中方程（3.1）满足条件$y(x_0)=y_0$的解于整个区间$[\\alpha  ,\\beta]$上存在且唯一.试证明之.\n",
    "\n",
    "（提示：用逐步逼近法，取$M=max \\mid f(x,y_0) \\mid$.）"
   ]
  },
  {
   "cell_type": "markdown",
   "metadata": {},
   "source": [
    "证明：\n",
    "由定理1可知，方程（3.1）满足条件$y(x_0)=y_0$的解等价于求积分方程$y=y_0+\\int_{x_0}^xf(x,y)dx,\\ x \\in [\\alpha,\\beta]$的连续解。\n",
    "\n",
    "取\n",
    "$$\n",
    "\\begin{aligned}\n",
    "y_0(x)&=y_0\\\\\\\n",
    "y_1(x)&=y_0+\\int_{x_0}^xf(\\varsigma,y_0(\\varsigma))d\\varsigma\\\\\\\n",
    "&…\\\\\\\n",
    "y_n(x)&=y_0+\\int_{x_0}^xf(\\varsigma,y_{n-1}(\\varsigma))d\\varsigma\\\\\\\n",
    "&…\\\\\\\n",
    "\\end{aligned}\n",
    "$$\n",
    "\n",
    "易见，$y_n(x)在\\alpha \\leq x \\leq \\beta $上存在且连续.下面证明函数列${y_n(x)}在\\alpha \\leq x \\leq \\beta$上一致连续.考察级数\n",
    "$$y_0(x)+\\sum_{k=1}^\\infty[y_k(x)-y_{k-1}(x)],x\\in [\\alpha,\\beta].$$\n",
    "\n",
    "取$M=max_{x\\in [\\alpha,\\beta]}\\mid f(x,y_0)\\mid$\n",
    "\n",
    "由上式可得\n",
    "\n",
    "$$\\mid y_1(x)-y_0(x)\\mid \\leq \\int_{x_0}^x \\mid f(\\varsigma,y_0(\\varsigma))\\mid d\\varsigma \\leq M\\mid x-x_0 \\mid$$\n",
    "\n",
    "$$\\mid y_2(x)-y_1(x)\\mid \\leq \\int_{x_0}^x \\mid f(\\varsigma,y_1(\\varsigma))-f(\\varsigma,y_0(\\varsigma))\\mid$$\n",
    "\n",
    "由利普希茨条件得到\n",
    "$$\n",
    "\\begin{aligned}\n",
    "&\\mid y_2(x)-y_1(x)\\mid\\\\\n",
    "&\\leq L\\int_{x_0}^x \\mid y_1(\\varsigma)-y_0(\\varsigma)\\mid d\\varsigma \\\\\n",
    "&\\leq L\\int_{x_0}^x M\\mid \\varsigma-x_0 \\mid d\\varsigma=\\frac{ML}{2!}(x-x_0)^2.\n",
    "\\end{aligned}\n",
    "$$\n",
    "\n",
    "于是，由数学归纳法可知\n",
    "$$\n",
    "\\begin{aligned}\n",
    "&\\mid y_k(x)-y_{k-1}(x) \\mid \\\\\n",
    "&\\leq \\frac{ML^{k-1}}{k!} \\mid (x-x_0)\\mid ^k \\\\\n",
    "&\\leq \\frac{ML^{k-1}}{k!}(\\beta-\\alpha)^k\n",
    "\\end{aligned}\\\\\n",
    "$$\n",
    "\n",
    "由Weierstrass判别法，得到$\\alpha \\leq x \\leq \\beta$上级数一致收敛，因而得到函数列${y_n(x)}在[\\alpha,\\beta]$上一致收敛.\n",
    "\n",
    "设$$\\lim_{n→+\\infty}y_n(x)=y(x)，$$因此，函数列${y_n(x)}在[\\alpha,\\beta]$上一致连续\n",
    "\n",
    "因此，取极限得到$y(x)=y_0+\\int_{x_0}^xf(\\varsigma,y(\\varsigma))d\\varsigma$"
   ]
  },
  {
   "cell_type": "markdown",
   "metadata": {},
   "source": [
    "#### 4.给定积分方程$$\\phi(x)=f(x)+\\lambda \\int_a^b K(x,\\varsigma) \\phi(\\varsigma)d\\varsigma$$\n",
    "\n",
    "其中$f(x)是[\\alpha,\\beta]$上的已知连续函数，$K(x,\\varsigma)是a \\leq x \\leq b,a \\leq \\varsigma \\leq b$上的已知连续函数.证明当$\\mid \\lambda \\mid$足够小时（$\\lambda$是常数），（*）在$[\\alpha,\\beta]$上存在唯一的连续解.\n",
    "\n",
    "（提示：做逐步逼近函数序列\n",
    "\n",
    "$$\\phi_0=f(x),$$\n",
    "\n",
    "$$\\phi_{n+1}(x)=f(x)+\\lambda \\int_a^b K(x,\\varsigma) \\phi_n(\\varsigma)d\\varsigma(n=0,1,2…).)$$"
   ]
  },
  {
   "cell_type": "markdown",
   "metadata": {
    "collapsed": true
   },
   "source": [
    "证明：做逐步逼近函数序列\n",
    "\n",
    "$$\\phi_0=f(x),$$\n",
    "\n",
    "令$$\\phi_1(x)=f(x)+\\lambda \\int_a^b k(x,\\varsigma) \\phi_0(\\varsigma)d\\varsigma$$\n",
    "\n",
    "$$……$$\n",
    "\n",
    "$$\\phi_{n+1}(x)=f(x)+\\lambda \\int_a^b k(x,\\varsigma) \\phi_n(\\varsigma)d\\varsigma$$\n",
    "\n",
    "$$……$$\n",
    "\n",
    "令$M=max_{x \\in [a,b]} \\mid f(x) \\mid ,L=max \\mid k(x,\\varsigma) \\mid >0,$\n",
    "\n",
    "$$\n",
    "\\begin{aligned}\n",
    "\\mid \\phi_1(x)-\\phi_0(x) \\mid &=\\mid \\lambda \\int_a^b k(x,\\varsigma) \\phi_0(\\varsigma)d\\varsigma \\mid\\\\\\\n",
    "& \\leq \\mid \\lambda \\mid \\int_a^b \\mid k(x,\\varsigma) \\mid \\  \\mid f(\\varsigma) \\mid d\\varsigma\\\\\\\n",
    "& \\leq \\mid \\lambda \\mid ML(b-a)\n",
    "\\end{aligned}\n",
    "$$\n",
    "\n",
    "假设$\\mid \\phi_k(x)-\\phi_{k-1}(x)\\mid \\leq {\\mid \\lambda \\mid }^kL^kM(b-a)^k$成立，则有\n",
    "$$\n",
    "\\begin{aligned}\n",
    "\\mid \\phi_{k+1}(x)-\\phi_k(x)\\mid &=\\mid \\lambda \\int_a^b k(x,\\varsigma) (\\phi_k(\\varsigma)-\\phi_{k-1}(\\varsigma))d\\varsigma \\mid\\\\\\\n",
    "&\\leq \\mid \\lambda \\mid \\int_a^b \\mid k(x,\\varsigma) \\mid \\  \\mid\\phi_k(\\varsigma)-\\phi_{k-1}(\\varsigma) \\mid d\\varsigma\\\\\\\n",
    "&\\leq \\int_a^b L^{k+1}{\\mid \\lambda \\mid }^kM(b-a)^k d\\varsigma\\\\\\\n",
    "&={\\mid \\lambda \\mid }^{k+1}L^{k+1}M(b-a)^{k+1}\n",
    "\\end{aligned}\n",
    "$$\n",
    "\n",
    "由归纳法可知，对任意的$n \\in N$,有\n",
    "$$\\mid \\phi_n(x)-\\phi_{n-1}(x)\\mid \\leq {\\mid \\lambda \\mid }^nL^nM(b-a)^n$$\n",
    "\n",
    "证明一致收敛：\n",
    "\n",
    "考虑级数$$\\phi_0(x)+\\sum_{k=1}^\\infty(\\phi_k(x)-\\phi_{k-1}(x))$$\n",
    "\n",
    "该级数的前n项和为$$\\phi_0(x)+\\sum_{k=1}^n(\\phi_k(x)-\\phi_{k-1}(x))=\\phi_n(x)$$\n",
    "\n",
    "要证明${\\phi_n(x)}在[a,b]$上一致收敛，即证明$\\phi_0(x)+\\sum_{k=1}^\\infty(\\phi_k(x)-\\phi_{k-1}(x))在[a,b]$上一致收敛.\n",
    "\n",
    "由$$\\mid \\phi_k(x)-\\phi_{k-1}(x)\\mid \\leq {\\mid \\lambda \\mid }^kL^kM(b-a)^k$$\n",
    "\n",
    "可得，当$\\mid \\lambda \\mid<\\frac{1}{(b-a)L}$时，级数$\\sum{\\mid \\lambda \\mid }^kL^kM(b-a)^k$收敛，\n",
    "\n",
    "所以，$\\mid \\lambda \\mid<\\frac{1}{(b-a)L}$时,$\\phi_0(x)+\\sum_{k=1}^\\infty(\\phi_k(x)-\\phi_{k-1}(x))$在$[a,b]$上一致收敛\n",
    "\n",
    "设极限函数为$\\phi^*(x),$即$x \\in [a,b]$时，当$n→\\infty$ 时，$\\phi_n(x)$一致收敛于$\\phi^*(x),$且由$\\phi_n(x)$的连续性可得$\\phi^*(x)在[a,b]$上连续\n",
    "\n",
    "得到，对于$\\phi_{n+1}(x)=f(x)+\\lambda \\int_a^b k(x,\\varsigma) \\phi_n(\\varsigma)d\\varsigma$，当$n→\\infty$ 时，两边取极限\n",
    "\n",
    "得$$\\phi^*(x)=f(x)+\\lambda \\int_a^b k(x,\\varsigma) \\phi^*(\\varsigma)d\\varsigma$$\n",
    "\n",
    "$$(\\mid \\lambda \\mid<\\frac{1}{(b-a)L})$$\n",
    "\n",
    "即说明，当$\\mid \\lambda \\mid<\\frac{1}{(b-a)L}$时，积分方程存在连续解.\n",
    "\n",
    "再证明解的唯一性，用反证法.\n",
    "\n",
    "设另有解$\\phi'^*(x)\\neq \\phi^*(x)$,既有\n",
    "\n",
    "$$\\phi'^*(x)=f(x)+\\lambda \\int_a^b k(x,\\varsigma) \\phi'^*(\\varsigma)d\\varsigma$$\n",
    "\n",
    "记$$ Q=max_{x\\in [a,b]}\\mid \\phi^*(x)-\\phi'^*(x)\\mid>0$$\n",
    "\n",
    "$$\n",
    "\\begin{aligned}\n",
    "\\mid \\phi^*(x)-\\phi'^*(x)\\mid &=\\mid \\lambda \\int_a^b k(x,\\varsigma) (\\phi^*(\\varsigma)-\\phi'^*(\\varsigma))d\\varsigma \\mid\\\\\\\n",
    "&\\leq \\mid \\lambda \\mid \\int_a^b L \\mid\\phi^*(\\varsigma)-\\phi'^*(\\varsigma) \\mid d\\varsigma\\\\\\\n",
    "&=\\mid \\lambda \\mid QL(b-a)\n",
    "\\end{aligned}\n",
    "$$\n",
    "\n",
    "即有$Q\\leq \\mid \\lambda \\mid QL(b-a)$,由于$Q>0，$可知$\\mid \\lambda \\mid \\geq \\frac{1}{(b-a)L},$与$\\mid \\lambda \\mid<\\frac{1}{(b-a)L}$矛盾，唯一性得证."
   ]
  },
  {
   "cell_type": "markdown",
   "metadata": {
    "collapsed": true
   },
   "source": [
    "$A^+$"
   ]
  },
  {
   "cell_type": "code",
   "execution_count": null,
   "metadata": {
    "collapsed": true
   },
   "outputs": [],
   "source": []
  }
 ],
 "metadata": {
  "kernelspec": {
   "display_name": "SageMath 7.3",
   "language": "",
   "name": "sagemath"
  },
  "language_info": {
   "codemirror_mode": {
    "name": "ipython",
    "version": 2
   },
   "file_extension": ".py",
   "mimetype": "text/x-python",
   "name": "python",
   "nbconvert_exporter": "python",
   "pygments_lexer": "ipython2",
   "version": "2.7.10"
  }
 },
 "nbformat": 4,
 "nbformat_minor": 0
}
