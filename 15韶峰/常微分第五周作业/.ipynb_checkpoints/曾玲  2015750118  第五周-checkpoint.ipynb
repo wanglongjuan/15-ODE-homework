{
 "cells": [
  {
   "cell_type": "markdown",
   "metadata": {},
   "source": [
    "### 3、求初值问题$$\\begin{cases}\n",
    "\\frac{d y}{d x}=x^2-y^2  ,R:\\mid x+1 \\mid \\leq 1,\\mid y \\mid \\leq 1,\\\\\n",
    "y(-1)=0\n",
    "\\end{cases}\n",
    "$$\n",
    "### 的解的存在区间，并求第二次近似解，给出在解的存在区间的误差估计。"
   ]
  },
  {
   "cell_type": "markdown",
   "metadata": {},
   "source": [
    "由题意得 $a=1 ,\\quad b=1 ,\\quad x_0=-1 ,\\quad y_0=0 ,\\quad f(x,y)=x^2-y^2$\n",
    "$$M=\\max_{(x,y)\\in R}|f(x,y)|=4 ,\\quad  h=\\min(a,\\frac{b}{M})=\\frac{1}{4}$$\n",
    "\n",
    "在R上函数 $f(x,y)=x^2-y^2$ 的利普希茨常数可取为 $L=2$，因为 $\\frac{\\partial f}{\\partial y}=\\mid-2y\\mid\\leq2=L$\n",
    "\n",
    "$$\n",
    "\\begin{aligned}\n",
    "\\varphi_0(x)&=0 \\\\\n",
    "\\varphi_1(x)&=\\int_{-1}^x (x^2-{\\varphi_0}^2(x))\\mathrm dx=\\frac{x^3}{3}+\\frac{1}{3} \\\\\n",
    "\\varphi_2(x)&=\\int_{-1}^x (x^2-{\\varphi_1}^2(x))\\mathrm dx=\\frac{x^3}{3}-\\frac{x}{9}-\\frac{x^4}{18}-\\frac{x^7}{63}+\\frac{11}{42} \n",
    "\\end{aligned}\n",
    "$$\n",
    "\n",
    "误差估计公式 $\\mid\\varphi_n(x)-\\varphi(x)\\mid=\\frac{ML^n}{(n+1)!}h^{n+1}$ 得$$\\mid\\varphi_2(x)-\\varphi(x)\\mid=\\frac{1}{24}$$\n",
    "\n",
    "所以，已知初值问题的解的存在区间为 $$-\\frac{5}{4}\\leq x \\leq-\\frac{3}{4}$$\n",
    "\n",
    "第二次近似值为 $$y_2=\\frac{x^3}{3}-\\frac{x}{9}-\\frac{x^4}{18}-\\frac{x^7}{63}+\\frac{11}{42}$$\n",
    "\n",
    "在解的存在区间的误差估计为 $$\\mid\\varphi_2(x)-\\varphi(x)\\mid=\\frac{1}{24}$$\n"
   ]
  },
  {
   "cell_type": "markdown",
   "metadata": {},
   "source": [
    "### 6、格朗沃尔不等式：设K为非负常数，f(t)和g(t)区间$\\alpha \\leq t \\leq \\beta$ 上的连续非负函数，且满足不等式$$f(t)\\leq K+\\int_{\\alpha}^t f(s)g(s) d s   ,\\alpha \\leq t \\leq \\beta\n",
    "$$\n",
    "### 则有$$f(t)\\leq Kexp(\\int_\\alpha^t g(s)d s)  ,\\alpha \\leq t \\leq \\beta  .$$  \n",
    "\n",
    "### 并由此证明定理一的命题五。"
   ]
  },
  {
   "cell_type": "markdown",
   "metadata": {},
   "source": [
    "证明：$1)\\quad K>0$ 时，\n",
    "\n",
    "令$$\\omega(t)=K+\\int_\\alpha^tf(s)g(s)\\, \\mathrm ds$$\n",
    "\n",
    "上式两边对t求导，则$$\\omega^\\prime(t)=f(t)g(t)$$\n",
    "\n",
    "又因为$$f(t)\\leq K+\\int_{\\alpha}^t f(s)g(s) d s  $$\n",
    "所以$$\\omega^\\prime(t)\\leq \\omega(t)g(t)$$\n",
    "\n",
    "由 $\\omega(t)>0$ 可得$$\\frac{\\omega^\\prime(t)}{\\omega(t)}\\leq g(t)$$\n",
    "\n",
    "对上式两边从 $\\alpha$ 到 $t$ 积分得$$ ln\\omega(t)-ln\\omega(\\alpha)\\leq\\int_\\alpha^t g(s) \\mathrm ds$$\n",
    "\n",
    "即$$\\frac{\\omega(t)}{\\omega(\\alpha)}\\leq exp\\big(\\int_\\alpha^t g(s) \\mathrm ds\\big)$$\n",
    "\n",
    "$$\\omega(\\alpha)=K>0$$\n",
    "\n",
    "所以$$\\omega(t)\\leq K\\bullet exp\\big(\\int_\\alpha^t g(s) \\mathrm ds\\big)$$\n",
    "\n",
    "即有$$f(t)\\leq\\omega(t)\\leq K\\bullet exp\\big(\\int_\\alpha^t g(s) \\mathrm ds\\big),\\quad \\alpha\\leq t\\leq\\beta$$\n",
    "\n",
    "2)当 $K=0$ 时，\n",
    "\n",
    "对任意充分小$\\varepsilon>0$,由于 $f(t)\\leq\\int_\\alpha^tf(s)g(s)\\, \\mathrm ds$,\n",
    "\n",
    "所以$$f(t)\\leq\\varepsilon+\\int_\\alpha^tf(s)g(s)\\, \\mathrm ds$$\n",
    "\n",
    "由 $1)$ 有$$f(t)\\leq\\varepsilon exp\\big(\\int_\\alpha^t g(s) \\mathrm ds\\big)$$ \n",
    "\n",
    "当 $\\quad\\varepsilon\\to0^+\\quad$ 时，有 $f(t)\\leq 0$\n",
    "\n",
    "又因为 $\\quad f(t)\\geq 0\\quad$ 所以$\\quad f(t)\\equiv 0$\n",
    "\n",
    "从而$$f(t)\\leq exp\\big(\\int_\\alpha^t g(s) \\mathrm ds\\big)\\quad \\alpha\\leq x\\leq\\beta$$\n",
    "\n",
    "由 $1),2)$ 知，格朗沃尔不等式成立。\n",
    "\n",
    "\n",
    "下面利用格朗沃尔不等式证明定理一的命题五 .\n",
    "\n",
    "证明：设$\\quad\\varphi(x),\\phi(x)\\quad$是初值问题$$y'=f(x,y),y(x_0)=y_0$$的两个解，则\n",
    "$$\\varphi(x)=y_0+\\int_{x_0}^x f\\big(\\xi,\\varphi(\\xi)\\big)\\mathrm d\\xi$$\n",
    "\n",
    "$$\\phi(x)=y_0+\\int_{x_0}^xf\\big(\\xi,\\phi(\\xi)\\big)\\mathrm d\\xi$$\n",
    "\n",
    "因此，\n",
    "$$\n",
    "\\begin{aligned}\n",
    "\\mid\\varphi(x)-\\phi(x)\\mid &\\leq\\int_{x_0}^x\\mid f\\big(\\xi,\\varphi(\\xi)\\big)-f\\big(\\xi,\\phi(\\xi)\\big)\\mid\\mathrm d\\xi\\\\\n",
    "&\\leq L\\int_{x_0}^x\\mid\\varphi(\\xi)-\\phi(\\xi)\\mid\\mathrm d\\xi\n",
    "\\end{aligned}\n",
    "$$\n",
    "\n",
    "其中 $L$ 为利普西茨条件，由格朗沃尔不等式得$$0\\leq\\mid\\varphi(t)-\\phi(t)\\mid\\leq 0$$\n",
    "\n",
    "所以， $$\\varphi(t)=\\phi(t)$$\n",
    "\n",
    "因此命题五得证。\n",
    "\n"
   ]
  },
  {
   "cell_type": "markdown",
   "metadata": {},
   "source": [
    "### 8、如果函数f(x,y)于带域$\\alpha \\leq x \\leq \\beta$ 上连续且关于y满足利普希茨条件，则方程$\\frac{\\mathrm d y}{\\mathrm d x}=f(x,y)$满足条件$y(x_0)=y_0$ 的解于整个区间$[\\alpha ,\\beta]$ 上存在且唯一，试证明之。（提示：用逐步逼近法，取$$M=\\max_{\\substack{x\\in[\\alpha,\\beta]\\\\}}\\mid f(x,y_0)\\mid$$）"
   ]
  },
  {
   "cell_type": "markdown",
   "metadata": {},
   "source": [
    "**证明：** 从教材中命题一可知，方程$\\frac{\\mathrm d y}{\\mathrm d x}=f(x,y)$满足条件$y(x_0)=y_0$ 的解等价于积分方程$y=y_0+\\int_{x_0}^x f(x,y)\\mathrm d x ,x\\in[\\alpha,\\beta]$ 的连续解，因此只需证明上述积分方程的解存在唯一即可。\n",
    "为了简单起见，只就区间$x_0\\leq x\\leq\\beta$ 进行讨论，对于$\\alpha\\leq x\\leq x_0$ 的讨论完全一样。\n",
    "\n",
    "**现取** $y_0(x)=y_0$ ，构造皮卡逼近数列如下：\n",
    "$$\n",
    "\\begin{cases}\n",
    "y_0(x)=y_0 \\\\\n",
    "y_n(x)=y_0+\\int_{x_0}^x f(\\xi,y_{n-1}(x))\\mathrm dx  ,  x\\in[\\alpha,\\beta] \\\\  \\quad  \\quad  \\quad (n=1,2,…) \n",
    "\\end{cases}     \\quad [1]       \n",
    "$$\n",
    "\n",
    "易知$y_n(x)$在$x\\in[\\alpha,\\beta]$ 上有定义且连续。下面证明函数序列{${y_n(x)}$} 在$x\\in[\\alpha,\\beta]$ 上一致收敛。\n",
    "考虑级数$$y_0(x)+\\sum_{k=1}^{+\\infty}[y_k(x)-y_{k-1}(x)] , x\\in[\\alpha,\\beta]  \\quad  [2]\n",
    "$$\n",
    "取$$M=\\max_{x\\in[\\alpha,\\beta]}\\mid f(x,y_0)\\mid$$ ,\n",
    "$$\\mid y_1(x)-y_0(x)\\mid\\leq \\int_{x_0}^x \\mid f(\\xi,y_0(\\xi))\\mid \\mathrm d\\xi \\leq M\\mid x-x_0 \\mid \\quad [3]$$\n",
    "$$\\mid y_2(x)-y_1(x)\\mid\\leq \\int_{x_0}^x \\mid f(\\xi,y_1(\\xi))-f(\\xi,y_0(\\xi))\\mid \\mathrm d\\xi  $$\n",
    "利用利普希茨条件及[3],得到 $$\\mid y_2(x)-y_1(x)\\mid\\leq \\int_{x_0}^x \\mid f(\\xi,y_1(\\xi))-f(\\xi,y_0(\\xi))\\mid \\mathrm d\\xi \\leq L\\int_{x_0}^x \\mid y_1(\\xi)-y_0(\\xi)\\mid \\mathrm d\\xi\\leq L\\int_{x_0}^x M(\\xi-x_0) \\mathrm d\\xi=\\frac{ML}{2!}(x-x_0)^2$$\n",
    "可用数学归纳法证明：$$\\mid y_k(x)-y_{k-1}(x)\\mid\\leq \\frac{ML^{k-1}}{k!}(x-x_0)^k\\leq\\frac{ML^{k-1}}{k!}(\\beta-\\alpha)^k$$\n",
    "上式的右端是正项级数的一般项，由weierstrass判别法，级数在$x_0\\leq x\\leq\\beta$ 上面一致收敛，因而函数序列{${y_n(x)}$} 也在 $x_0\\leq x\\leq\\beta$上一致收敛。\n",
    "\n",
    "现设$$\\lim_{n\\to\\infty}y_n(x)=y(x) $$\n",
    "易知y(x)在区间$x\\in[\\alpha,\\beta]$ 上连续，且{$f(x,y_n(x))$}在区间$x\\in[\\alpha,\\beta]$ 也一致收敛于 $f(x,y(x))$ .因而对[1]式两端取极限，即得$$y(x)=y_0+\\int_{x_0}^x f(\\xi,y(\\xi))\\mathrm d\\xi$$\n",
    "也就是说，$y(x)$是积分方程的定义于$x\\in[\\alpha,\\beta]$ 上的连续解。\n",
    "\n",
    "下证唯一性。\n",
    "\n",
    "设$\\varphi(x)$ 是积分方程的定义于$x_0\\leq x\\leq\\beta$  上的另一个连续解，则证$y(x)=\\varphi(x)$ ($x_0\\leq x\\leq\\beta$)\n",
    "\n",
    "证明:\n",
    "$$\\varphi(x)=y_0+\\int_{x_0}^x f(\\xi,\\varphi(\\xi))\\mathrm d\\xi$$\n",
    "可以进行如下的估计：\n",
    "\n",
    "\\begin{aligned}\n",
    "\\mid\\varphi(x)-y(x)\\mid &\\leq\\int_{x_0}^x\\mid f\\big(\\xi,\\varphi(\\xi)\\big)-f\\big(\\xi,y(\\xi)\\big)\\mid\\mathrm d\\xi\\\\\n",
    "&\\leq L\\int_{x_0}^x\\mid\\varphi(\\xi)-y(\\xi)\\mid\\mathrm d\\xi\n",
    "\\end{aligned}\n",
    "\n",
    "\n",
    "其中 $L$ 为利普西茨条件，由格朗沃尔不等式得$$0\\leq\\mid\\varphi(x)-y(x)\\mid\\leq 0$$\n",
    "\n",
    "所以， $$\\varphi(x)=y(x)$$\n",
    "唯一性得证。"
   ]
  },
  {
   "cell_type": "markdown",
   "metadata": {},
   "source": [
    "### 10、给定积分方程$$\\varphi(x)=f(x)+\\lambda \\int_a^b K(x,\\xi)\\varphi(\\xi)\\mathrm d x ,\\quad(*)$$\n",
    "### 其中f(x)是[a,b]上已知连续函数，$K(x,\\xi)$ 是$a\\leq x \\leq b ,a\\leq \\xi \\leq b$ 上的已知连续函数。证明当$\\mid \\lambda \\mid$ 足够小时（$\\lambda$ 是常数），（*） 在[a,b]上存在唯一的连续解。"
   ]
  },
  {
   "cell_type": "markdown",
   "metadata": {},
   "source": [
    "**证明：**  构造逼近数列如下：\n",
    "$$\n",
    "\\begin{cases}\n",
    "\\varphi_0(x)=f(x) \\\\\n",
    "\\varphi_{n+1}(x)=f(x)+\\lambda\\int_a^b K(x,\\xi)\\varphi_n(\\xi)\\mathrm d\\xi  ,  x\\in[a,b] , \\xi\\in[a,b] \\\\  \\quad  \\quad  \\quad (n=1,2,…) \n",
    "\\end{cases}     \\quad [1]       \n",
    "$$\n",
    "取$$M=\\max_{x\\in[a,b]}\\mid f(x)\\mid , L=\\max_{\\substack{x\\in[a,b]\\\\\\xi\\in[a,b]}}\\mid K(x,\\xi)\\mid .\n",
    "$$\n",
    "易知$\\varphi_n(x)$在$x\\in[a,b]$ 上有定义且连续。下面证明函数序列{${\\varphi_n(x)}$} 在$x\\in[a,b]$ 上一致收敛。\n",
    "考虑级数$$\\varphi_0(x)+\\sum_{k=1}^{+\\infty}[\\varphi_k(x)-\\varphi_{k-1}(x)] , x\\in[a,b] \\quad  [2]\n",
    "$$\n",
    "$$\\mid\\varphi_1(x)-\\varphi_0(x)\\mid\\leq \\int_a^b \\mid \\lambda K(x,\\xi)\\varphi_0(\\xi)\\mid\\mathrm d\\xi \\leq \\mid\\lambda\\mid \\int_a^b \\mid K(x,\\xi)\\mid \\bullet \\mid f(\\xi)\\mid\\mathrm d\\xi \\leq \\mid\\lambda\\mid ML(b-a)$$\n",
    "可用数学归纳法易证：\n",
    "$$\\mid \\varphi_n(x)-\\varphi_{n-1}(x)\\mid\\leq {\\mid\\lambda\\mid}^n ML^n(b-a)^n$$\n",
    "上式的右端是正项级数的一般项，当$\\mid\\lambda\\mid <\\frac{1}{(b-a)L} $ 时，该级数在$x\\in[a,b]$ 上面一致收敛，因而函数序列{${\\varphi_n(x)}$} 也在 $x\\in[a,b]$上一致收敛。设极限函数为$\\varphi(x)$ ,且在$x\\in[a,b]$ 上连续。对逼近序列[1]，当$n\\to\\infty$ 时两边取极限，得到$\\varphi(x)=f(x)+\\lambda \\int_a^b K(x,\\xi)\\varphi(\\xi)\\mathrm d\\xi, \\quad (\\mid\\lambda\\mid <\\frac{1}{(b-a)L} )$\n",
    "\n",
    "因此，上述积分方程必有连续解。下证解的唯一性，用反证法。\n",
    "设另一解${\\varphi}^*(x)且{\\varphi}^*(x)\\neq\\varphi(x)$ ,\n",
    "\n",
    "那么，$${\\varphi}^*(x)=f(x)+\\lambda \\int_a^b K(x,\\xi){\\varphi}^*(\\xi)\\mathrm d\\xi $$\n",
    "令$$N=\\max_{x\\in[a,b]}\\mid {\\varphi}^*(x)-\\varphi(x)\\mid >0 ,  $$\n",
    "$$\\mid {\\varphi}^*(x)-\\varphi(x)\\mid =\\mid \\lambda\\int_a^bK(x,\\xi)({\\varphi}^*(\\xi)-\\varphi(\\xi))\\mathrm d\\xi\\mid \\leq\\mid \\lambda\\mid \\int_a^bL\\mid {\\varphi}^*(x)-\\varphi(x)\\mid \\mathrm d\\xi\\leq \\mid \\lambda\\mid NL(b-a) , $$\n",
    "即有$N\\leq\\mid \\lambda\\mid NL(b-a) ,由于N=\\max_{x\\in[a,b]}\\mid {\\varphi}^*(x)-\\varphi(x)\\mid >0 , 所以\\mid\\lambda\\mid \\geq\\frac{1}{(b-a)L} 与 \\mid\\lambda\\mid <\\frac{1}{(b-a)L} $矛盾 。 唯一性得证。 "
   ]
  },
  {
   "cell_type": "markdown",
   "metadata": {
    "collapsed": true
   },
   "source": [
    "$A^+$"
   ]
  },
  {
   "cell_type": "code",
   "execution_count": null,
   "metadata": {
    "collapsed": true
   },
   "outputs": [],
   "source": []
  }
 ],
 "metadata": {
  "kernelspec": {
   "display_name": "SageMath 7.3",
   "language": "",
   "name": "sagemath"
  },
  "language_info": {
   "codemirror_mode": {
    "name": "ipython",
    "version": 2
   },
   "file_extension": ".py",
   "mimetype": "text/x-python",
   "name": "python",
   "nbconvert_exporter": "python",
   "pygments_lexer": "ipython2",
   "version": "2.7.10"
  }
 },
 "nbformat": 4,
 "nbformat_minor": 0
}
