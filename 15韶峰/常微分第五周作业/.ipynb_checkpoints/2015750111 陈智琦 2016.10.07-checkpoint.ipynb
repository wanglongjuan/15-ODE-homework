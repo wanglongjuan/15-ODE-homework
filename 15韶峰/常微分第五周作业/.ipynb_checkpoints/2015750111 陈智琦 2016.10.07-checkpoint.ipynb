{
 "cells": [
  {
   "cell_type": "markdown",
   "metadata": {},
   "source": [
    "一、求初值问题$$\n",
    "\\begin{cases}\n",
    "\\frac{dy}{dx}=x^2-y^2,R:|x+1|\\leq 1,|y|\\leq 1,\\\\\n",
    "y(-1)=0\n",
    "\\end{cases}\n",
    "$$\n",
    "的解得存在区间，并求第二次近似解，给出解的存在区间的误差估计。"
   ]
  },
  {
   "cell_type": "markdown",
   "metadata": {},
   "source": [
    "解：这里$M=\\max\\limits_{(x,y)\\in R}|f(x,y)|=4$,这里$a=1 , \\frac{b}{M}={1\\over 4}$,因此$h=min(a,{b\\over M})={1\\over 4}$"
   ]
  },
  {
   "cell_type": "markdown",
   "metadata": {},
   "source": [
    "则解的存在区间为$$|x-(-1)|=|x+1|\\leq {1\\over 4}$$"
   ]
  },
  {
   "cell_type": "markdown",
   "metadata": {},
   "source": [
    "令$$\\Psi_0(x)=0$$"
   ]
  },
  {
   "cell_type": "markdown",
   "metadata": {},
   "source": [
    "$$\\Psi_1(x)=y_0+\\int_{x_o}^x f(x,\\psi_0(x)){d}x=y_0+\\int_{x_0}^x (x^2-o){d}x$$"
   ]
  },
  {
   "cell_type": "markdown",
   "metadata": {},
   "source": [
    "$$=0+{1\\over 3}(x^3-{x_0}^3)={1\\over 3}x^3+{1\\over 3}$$"
   ]
  },
  {
   "cell_type": "markdown",
   "metadata": {},
   "source": [
    "$$\\Psi_2 (x)=y_0+\\int_{x_0}^x (x^2-({1\\over 3}x^3+{1\\over 3})^2){d}x$$"
   ]
  },
  {
   "cell_type": "markdown",
   "metadata": {},
   "source": [
    "$$={1\\over 3}x^3-{x\\over 9}-{x^4\\over 18}-{x^7\\over 63}+{11\\over 43}$$"
   ]
  },
  {
   "cell_type": "markdown",
   "metadata": {},
   "source": [
    "又 $$|\\frac{\\partial f(x,y)}{\\partial y}|=2y \\leq 2=L$$"
   ]
  },
  {
   "cell_type": "markdown",
   "metadata": {},
   "source": [
    "因此，误差估计$$\\Psi_2(x)-\\Psi(x)|=\\frac{ML^2}{3!}({1\\over 4})^3={11\\over 24}$$"
   ]
  },
  {
   "cell_type": "markdown",
   "metadata": {},
   "source": [
    "二、证明格朗沃尔(Gronwall)不等式\n",
    "\n",
    "设K为非负常数$f(t)$和$g(t)$为在区间$\\alpha \\leq t \\leq \\beta$上的连续非负函数，且满足不等式\n",
    "$$f(t)\\leq K+\\int_a^t f(s)g(s){d}s,\\alpha \\leq t \\leq \\beta$$\n",
    "则有\n",
    "$$f(t)\\leq K exp(\\int_a^t g(s){d}s) , \\alpha \\leq t \\leq \\beta$$由此证明定理一的命题五"
   ]
  },
  {
   "cell_type": "markdown",
   "metadata": {},
   "source": [
    "证明：令$$R(t)=K+\\int_a^t f(s)g(s){d}s$$\n",
    "则 $$R'(t)=f(t)g(t)$$"
   ]
  },
  {
   "cell_type": "markdown",
   "metadata": {},
   "source": [
    "$$R'(t)-R(t)g(t)=f(t)g(t)-R(t)g(t) \\leq 0$$"
   ]
  },
  {
   "cell_type": "markdown",
   "metadata": {},
   "source": [
    "因此$$(e^{-G(t)}R(t))'\\leq 0$$\n",
    "这里 $$G(t)=\\int_a^t g(s){d}s$$"
   ]
  },
  {
   "cell_type": "markdown",
   "metadata": {},
   "source": [
    "$$e^{-G(t)}R(t)\\leq e^{-G(0)}R(0)=k$$"
   ]
  },
  {
   "cell_type": "markdown",
   "metadata": {},
   "source": [
    "$$R(t)\\leq K e^{G(t)}$$"
   ]
  },
  {
   "cell_type": "markdown",
   "metadata": {},
   "source": [
    "即$$f(t)\\leq R(t) \\leq K e^{G(t)}$$"
   ]
  },
  {
   "cell_type": "markdown",
   "metadata": {},
   "source": [
    "因此$$f(t)\\leq K exp(\\int_a^t g(s){d}s) , \\alpha \\leq t \\leq \\beta$$"
   ]
  },
  {
   "cell_type": "markdown",
   "metadata": {},
   "source": [
    "无证明命题定理1的命题5"
   ]
  },
  {
   "cell_type": "markdown",
   "metadata": {},
   "source": [
    "三、如果函数$f(x,y)$于带域$\\alpha \\leq \\beta$上连续且关于y满足利普希茨条件，则方程$\\frac{dy}{dx}=f(x,y)$满足条件$y(x_o)=y_0$的解的整个区间$[\\alpha,\\beta]$上存在且唯一，试证明之。（提示：用逐步逼近法，取$\n",
    "M=\\max\\limits_{x\\in [\\alpha,\\beta]}|f(x,y_0)| $）"
   ]
  },
  {
   "cell_type": "markdown",
   "metadata": {},
   "source": [
    "证：设$M=\\max\\limits_{x\\in [\\alpha,\\beta]}|f(x,y_0)| ,h=a=\\beta-\\alpha , b=Mh$及有某常数$L$使得在域$R={(x,y)|\\alpha \\leq \\beta|,|y-y_0| \\leq b}$中有"
   ]
  },
  {
   "cell_type": "markdown",
   "metadata": {},
   "source": [
    "$$|f(x,y_1)-f(x,y_2)|\\leq L|y_1-y_2| ,(x,y_1), (x,y_2)\\in R$$"
   ]
  },
  {
   "cell_type": "markdown",
   "metadata": {},
   "source": [
    "构造逐步逼近函数序列\n",
    "$$\n",
    "\\begin{cases}\n",
    "\\varphi_0(x)=y_o,\\\\\n",
    "\\varphi_n(x)=y_0+\\int_{x_o}^x f(x,\\varphi_{n-1}(x)){d}x,\n",
    "\\end{cases}\n",
    "$$"
   ]
  },
  {
   "cell_type": "markdown",
   "metadata": {},
   "source": [
    "$$\\alpha \\leq \\beta , n=1,2,\\cdots$$"
   ]
  },
  {
   "cell_type": "markdown",
   "metadata": {},
   "source": [
    "$$|\\varphi_1(x)-y_0|=|\\int_{x_o}^x f(x,y_0){d}x| \\leq \\int_{x_o}^x |f(x,y_0)|{d}x \\leq M(x-x_0) \\leq Mh \\leq b$$"
   ]
  },
  {
   "cell_type": "markdown",
   "metadata": {},
   "source": [
    "若 $$|\\varphi_n(x)-\\varphi_{n-1}(x)|\\leq \\frac{M}{n!}L^{n-1}(\\beta-\\alpha)^n$$"
   ]
  },
  {
   "cell_type": "markdown",
   "metadata": {},
   "source": [
    "即$$|\\varphi_{n+1}(x)-\\varphi_n(x)|\\leq |\\int_{x_0}^x |f(x,\\varphi_n(x))-f(x,\\varphi_{n-1}(x))|{d}x|$$"
   ]
  },
  {
   "cell_type": "markdown",
   "metadata": {},
   "source": [
    "$$\\leq L|\\int_{x_0}^x L|\\varphi_n(x)-\\varphi_{n-1}(x)|{d}x|$$"
   ]
  },
  {
   "cell_type": "markdown",
   "metadata": {},
   "source": [
    "$$\\leq |\\int_{x_0}^x {m\\over n!}L^{n-1}|x-x_0|^n{d}x|$$"
   ]
  },
  {
   "cell_type": "markdown",
   "metadata": {},
   "source": [
    "$$\\leq \\frac{M}{(n+1)!}L^n|x-x_0|^{n+1}\\leq \\frac{M}{(n+1)!}L^n(\\beta-\\alpha)^{n+1}$$"
   ]
  },
  {
   "cell_type": "markdown",
   "metadata": {},
   "source": [
    "因级数$\\displaystyle\\sum_{k=1}^{\\infty}\\frac{M}{k!}(\\beta-\\alpha)^k$收敛，知级数"
   ]
  },
  {
   "cell_type": "markdown",
   "metadata": {},
   "source": [
    "$$\\varphi_n(x)=\\varphi_0(x)+\\displaystyle\\sum_{k=1}^{n}[\\varphi_k(x)-\\varphi_{k-1}(x)]$$"
   ]
  },
  {
   "cell_type": "markdown",
   "metadata": {},
   "source": [
    "在区间$[\\alpha,\\beta]$上一致收敛，于是存在极限$$\\lim_{x\\to \\infty} \\varphi_n(x)=\\varphi(x)$$"
   ]
  },
  {
   "cell_type": "markdown",
   "metadata": {},
   "source": [
    "它在区间$[\\alpha,\\beta]$连续，且\n",
    "    $$\\varphi(x)=\\lim_{x\\to \\infty} \\varphi_n(x)=y_o+\\lim_{x\\to \\infty} \\int_{x_0}^x f(x,\\varphi_{n-1}(x)){d}x$$"
   ]
  },
  {
   "cell_type": "markdown",
   "metadata": {},
   "source": [
    "$$=y_0+\\int_{x^0}^x f(x,\\lim_{x\\to \\infty} \\varphi_{n-1}(x)){d}x$$"
   ]
  },
  {
   "cell_type": "markdown",
   "metadata": {},
   "source": [
    "$$=y_0+\\int_{x^0}^x f(x,\\varphi(x)){d}x$$故$\\varphi(x)$是微分方程的解"
   ]
  },
  {
   "cell_type": "markdown",
   "metadata": {},
   "source": [
    "设$\\varphi(x) , \\psi(x)$均满足积分方程\n",
    "$$y=y_0+\\int_{x^0}^x f(x,y){d}x  ,\\alpha\\leq x_0 , \\beta \\leq x_0$$"
   ]
  },
  {
   "cell_type": "markdown",
   "metadata": {},
   "source": [
    "当$x\\geq x_0$时\n",
    "$$|\\varphi(x)-\\psi(x)|\\leq \\int_{x_0}^x |f(x,\\varphi(s))-f(x,\\psi(s))|{d}s$$"
   ]
  },
  {
   "cell_type": "markdown",
   "metadata": {},
   "source": [
    "$$\\leq L\\int_{x_0}^x |\\varphi(s)-\\psi(s)|{d}s$$"
   ]
  },
  {
   "cell_type": "markdown",
   "metadata": {},
   "source": [
    "有$|\\varphi(x)-\\psi(x)|\\leq  0$即$\\varphi(x)=\\psi(x) , (\\alpha \\leq x_0 \\leq x \\leq \\beta)$同样，当$ (\\alpha \\leq x \\leq x_0 \\leq \\beta)$,时由"
   ]
  },
  {
   "cell_type": "markdown",
   "metadata": {},
   "source": [
    "$$|\\varphi(x)-\\psi(x)|\\leq \\int_{x_0}^x |f(x,\\varphi(s))-f(x,\\psi(s))|{d}s$$\n",
    "$$\\leq L\\int_{x_0}^x |\\varphi(s)-\\psi(s)|{d}s$$"
   ]
  },
  {
   "cell_type": "markdown",
   "metadata": {},
   "source": [
    "有$|\\varphi(x)-\\psi(x)|\\leq  0$即$\\varphi(x)=\\psi(x) , (\\alpha \\leq x \\leq x_0 \\leq \\beta)$,于是证明了微分方程的解是唯一的"
   ]
  },
  {
   "cell_type": "markdown",
   "metadata": {},
   "source": [
    "四、给定积分方程$$\\varphi (x)=f(x)+\\lambda \\int_a^b K(x,\\xi) \\varphi(\\xi){d}\\xi$$其中$f(x)$是$[a,b]$上的已知连续函数，$K(x.\\xi))$是$a\\leq x\\leq b , a\\leq \\xi \\leq b$上的已知连续函数，证明当$|\\lambda|$足够小时（$\\lambda$是常数）上式方程在[a,b]中存在唯一的连续解（提示：作逐步逼近函数序列 $$\\varphi_0(x)=f(x)$$\n",
    "$$\\varphi_{n+1}(x)=f(x)+\\lambda \\int_a^b K(x,\\xi)\\varphi_n(\\xi){d}\\xi  $$\n",
    "\n",
    "$$(n=0,1,2\\cdots)$$"
   ]
  },
  {
   "cell_type": "markdown",
   "metadata": {},
   "source": [
    "证：构造逐步逼近函数序列\n",
    "$$\n",
    "\\begin{cases}\n",
    "\\varphi_0(x)=f(x) ,\\\\\n",
    "\\varphi_{n+1}(x)=f(x)+\\lambda \\int_a^b K(x,s)\\varphi_n(s){d}s \n",
    "\\end{cases}\n",
    "$$\n",
    "$$(n=0,1,2\\cdots)$$"
   ]
  },
  {
   "cell_type": "markdown",
   "metadata": {},
   "source": [
    "显然，对所有正整数n,$\\varphi_n(x)$在区间$a\\leq x \\leq b$上一致收敛"
   ]
  },
  {
   "cell_type": "markdown",
   "metadata": {},
   "source": [
    "考虑$$\\varphi_0(x)+\\displaystyle\\sum_{j=1}^{\\infty}[\\varphi_j(x)-\\varphi_{j-1}(x)]$$\n",
    "$a\\leq x \\leq b$"
   ]
  },
  {
   "cell_type": "markdown",
   "metadata": {},
   "source": [
    "设$$\\varphi_k(x)=\\varphi_0(x)+\\displaystyle\\sum_{j=1}^{k}[\\varphi_j(x)-\\varphi_{j-1}(x)]$$"
   ]
  },
  {
   "cell_type": "markdown",
   "metadata": {},
   "source": [
    "因此级数在区间一致收敛可证的函数序列在区间一致收敛，因$f(x)$和$K(x,\\xi)$在闭区间$a \\leq x \\leq b$及$ a \\leq \\xi \\leq b$上连续，因此有\n",
    "$$|f(x)|\\leq L,|K(x,\\xi)|\\leq K,a \\leq x \\leq b ,a \\leq \\xi \\leq b $$"
   ]
  },
  {
   "cell_type": "markdown",
   "metadata": {},
   "source": [
    "取$M=|\\lambda|K(b-a)$及\n",
    "$$|\\varphi_1(x)-\\varphi_0(x)|=|\\varphi_1(x)-f(x)|\\leq |\\lambda| \\int_a^b |K(x,s)| |\\varphi_n(s)|{d}s $$"
   ]
  },
  {
   "cell_type": "markdown",
   "metadata": {},
   "source": [
    "$$\\leq |\\lambda|KL(b-a)=LM$$"
   ]
  },
  {
   "cell_type": "markdown",
   "metadata": {},
   "source": [
    "因此\n",
    "$$|\\varphi_2(x)-\\varphi_1(x)|=|\\lambda| \\int_a^b |K(x,s)||\\varphi_1(x)-\\varphi_0(x)|{d}s$$"
   ]
  },
  {
   "cell_type": "markdown",
   "metadata": {},
   "source": [
    "$$\\leq  \\int_a^b |\\lambda|KLM{d}s=LM^2$$"
   ]
  },
  {
   "cell_type": "markdown",
   "metadata": {},
   "source": [
    "若$$|\\varphi_j(x)-\\varphi_{j-1}(x)| \\leq LM^j$$"
   ]
  },
  {
   "cell_type": "markdown",
   "metadata": {},
   "source": [
    "则\n",
    "$$|\\varphi_{j+1}(x)-\\varphi_{j}(x)| \\leq |\\lambda| \\int_a^b |K(x,s)||\\varphi_j(x)-\\varphi_{j-1}(x)|{d}s$$"
   ]
  },
  {
   "cell_type": "markdown",
   "metadata": {},
   "source": [
    "$$ \\leq \\lambda KLM^j(b-a)=LM^{j+1}$$"
   ]
  },
  {
   "cell_type": "markdown",
   "metadata": {},
   "source": [
    "由数学归纳法可知；对一切$j$成立$$|\\varphi_j(x)-\\varphi_{j-1}(x)| \\leq LM^j$$,\n",
    "可取$|\\lambda|$足够小使得$M\\\\ leq {1\\over 2}$\n",
    "从而级数$$\\displaystyle\\sum_{k=1}^{\\infty} LM^k$$\n",
    "收敛，因此原级数在$a\\leq x \\leq b$上一致收敛，因此函数序列$|\\varphi_k(x)|$也在$a\\leq x \\leq b$上一致收敛"
   ]
  },
  {
   "cell_type": "markdown",
   "metadata": {},
   "source": [
    "设$$\\lim_{x\\to \\infty} \\varphi_k(x)=\\varphi(x)$$"
   ]
  },
  {
   "cell_type": "markdown",
   "metadata": {},
   "source": [
    "因此\n",
    "$$\\lim_{x\\to \\infty} \\varphi_n(x)=f(x)+\\lambda \\int_a^b K(x,s)\\varphi_{n-1}(s){d}s$$"
   ]
  },
  {
   "cell_type": "markdown",
   "metadata": {},
   "source": [
    "即$\\varphi(x)$是积分方程在区间$a\\leq x \\leq b$上的连续解"
   ]
  },
  {
   "cell_type": "markdown",
   "metadata": {},
   "source": [
    "设$\\psi(x)$是积分方程在区间$a\\leq x \\leq b$上的另一个连续解"
   ]
  },
  {
   "cell_type": "markdown",
   "metadata": {},
   "source": [
    "$$\\psi(x)=f(x)+\\lambda \\int_a^b K(x,s)\\psi(s){d}s $$"
   ]
  },
  {
   "cell_type": "markdown",
   "metadata": {},
   "source": [
    "$$\\max\\limits_{x\\in [a,b]}|\\varphi(x)-\\psi(x)|$$存在且$$|\\lambda|K(b-a)=M \\leq {1\\over 2}$$"
   ]
  },
  {
   "cell_type": "markdown",
   "metadata": {},
   "source": [
    "有 \n",
    "$$\\max\\limits_{x\\in [a,b]}|\\varphi(x)-\\psi(x)| \\leq \\max\\limits_{x\\in [a,b]}( |\\lambda| \\int_a^b |K(x,s)||\\varphi(x)-\\psi(x)|){d}s$$"
   ]
  },
  {
   "cell_type": "markdown",
   "metadata": {},
   "source": [
    "$$\\leq \\max\\limits_{x\\in [a,b]}(|\\lambda| \\int_a^b K'|\\varphi(x)-\\psi(x)|){d}s$$"
   ]
  },
  {
   "cell_type": "markdown",
   "metadata": {},
   "source": [
    "$$\\leq |\\lambda|K'(b-a)\\max\\limits_{x\\in [a,b]}|\\varphi(x)-\\psi(x)|$$"
   ]
  },
  {
   "cell_type": "markdown",
   "metadata": {},
   "source": [
    "$$=M\\max\\limits_{x\\in [a,b]}|\\varphi(x)-\\psi(x)| \\leq {1\\over 2}\\max\\limits_{x\\in [a,b]}|\\varphi(x)-\\psi(x)|$$"
   ]
  },
  {
   "cell_type": "markdown",
   "metadata": {},
   "source": [
    "可见，$\\max\\limits_{x\\in [a,b]}|\\varphi(x)-\\psi(x)|$=0,故$$\\varphi(x)=\\psi(x)$$\n",
    "因此，原积分方程存在唯一的连续解"
   ]
  },
  {
   "cell_type": "markdown",
   "metadata": {
    "collapsed": true
   },
   "source": [
    "$A$"
   ]
  },
  {
   "cell_type": "code",
   "execution_count": null,
   "metadata": {
    "collapsed": true
   },
   "outputs": [],
   "source": []
  }
 ],
 "metadata": {
  "kernelspec": {
   "display_name": "SageMath 7.3",
   "language": "",
   "name": "sagemath"
  },
  "language_info": {
   "codemirror_mode": {
    "name": "ipython",
    "version": 2
   },
   "file_extension": ".py",
   "mimetype": "text/x-python",
   "name": "python",
   "nbconvert_exporter": "python",
   "pygments_lexer": "ipython2",
   "version": "2.7.10"
  }
 },
 "nbformat": 4,
 "nbformat_minor": 0
}
