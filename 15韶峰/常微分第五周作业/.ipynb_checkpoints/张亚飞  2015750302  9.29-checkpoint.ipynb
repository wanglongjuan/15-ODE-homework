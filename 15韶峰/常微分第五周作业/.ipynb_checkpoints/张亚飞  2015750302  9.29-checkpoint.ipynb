{
 "cells": [
  {
   "cell_type": "markdown",
   "metadata": {},
   "source": [
    "3.求初值问题\n",
    "$$\\begin{cases}\\frac{\\mathrm{d}y}{\\mathrm{d}x}=x^2-y^2,R:\\mid{x+1}\\mid\\leq1,\\mid{y}\\mid\\leq1,\\\\y(-1)=0\\end{cases}$$\n",
    "的解的存在区间，并求第二次近似解，给出在解的存在区间的误差估计."
   ]
  },
  {
   "cell_type": "markdown",
   "metadata": {},
   "source": [
    "解：这里$$M=\\max_{(x,y)\\in{R}}\\mid{x^2-y^2}\\mid=4,h=\\min(a,\\frac{b}{M})=\\frac{1}{4}$$\n",
    "作如下近似表达式$$\\begin{aligned}\\varphi_0(x)&=0\\\\\\varphi_1(x)&=\\int_{-1}^{x}[\\xi^2-\\varphi_0^2(\\xi)]\\mathrm{d}\\xi=\\frac{x^3}{3}+\\frac{1}{3}\\\\\n",
    "\\varphi_2(x)&=\\int_{-1}^{x}[\\xi^2-\\varphi_1^2(\\xi)]\\mathrm{d}\\xi=\\frac{x^3}{3}-\\frac{x^7}{63}-\\frac{x^4}{18}-\\frac{x}{9}-\\frac{11}{42}\\end{aligned}$$\n",
    "因为$$\\mid\\frac{\\partial f}{\\partial y}\\mid=\\mid{2y}\\mid\\leq2$$\n",
    "所以利普西茨常数可取为L=2，有\n",
    "$$\\mid{\\varphi_2(x)-\\varphi(x)}\\mid\\leq\\frac{ML^2}{(2+1)!}h^{2+1}=\\frac{1}{24}$$\n",
    "即当$\\mid{x+1}\\mid\\leq\\frac{1}{4}$上，$\\varphi_2(x)与真正解误差不会超过\\frac{1}{24}$.\n"
   ]
  },
  {
   "cell_type": "markdown",
   "metadata": {},
   "source": [
    "6.解：1.证明格朗沃尔不等式:\n",
    "\n",
    "由$$f(t)\\leq K+\\int_\\alpha^tf(s)g(s)\\mathrm{d}s,\\alpha\\leq t\\leq\\beta,$$得\n",
    "$$\\exp({-\\int_\\alpha^tg(s)\\mathrm{d}s})g(t)f(t)\\leq \\exp(-\\int_\\alpha^tg(s)\\mathrm{d}s)g(t)[K+\\int_\\alpha^tf(s)g(s)\\mathrm{d}s]$$\n",
    "即$$\\exp({-\\int_\\alpha^tg(s) \\mathrm{d}s})g(t)f(t)-\\exp(-\\int_\\alpha^tg(s) \\mathrm{d}s)g(t)[K+\\int_\\alpha^tf(s)g(s)\\mathrm{d}s]\\leq0$$\n",
    "即$$\\{\\exp(-\\int_\\alpha^tg(s) \\mathrm{d}s)[K+\\int_\\alpha^tf(s)g(s)\\mathrm{d}s]\\}^\\prime\\leq0$$\n",
    "所以$$\\exp(-\\int_\\alpha^tg(s) \\mathrm{d}s)[K+\\int_\\alpha^tf(s)g(s)\\mathrm{d}s]\\leq\\exp(-\\int_\\alpha^\\alpha g(s) \\mathrm{d}s)[K+\\int_\\alpha^\\alpha f(s)g(s)\\mathrm{d}s]=K$$\n",
    "即$$K+\\int_\\alpha^tf(s)g(s)\\mathrm{d}s\\leq K\\exp(\\int_\\alpha^tg(s) \\mathrm{d}s)$$\n",
    "即$$f(t)\\leq K\\exp(\\int_\\alpha^tg(s) \\mathrm{d}s),\\alpha\\leq t\\leq\\beta,$$"
   ]
  },
  {
   "cell_type": "markdown",
   "metadata": {},
   "source": [
    "2.证明定理1的命题5.\n",
    "\n",
    "$$\\varphi(x)=y_0+\\int_{x_0}^{x}f(\\xi,\\varphi(\\xi))\\mathrm{d}\\xi,(*)$$\n",
    "$$\\psi(x)=y_0+\\int_{x_0}^{x}f(\\xi,\\psi(\\xi))\\mathrm{d}\\xi，(**)$$\n",
    "$(*)-(**)$得$$\\varphi(x)-\\psi(x)=\\int_{x_0}^{x}f(\\xi,\\varphi(\\xi))-f(\\xi,\\psi(\\xi))\\mathrm{d}\\xi$$\n",
    "即$$\\mid{\\varphi(x)-\\psi(x)}\\mid\\leq \\int_{x_0}^{x}L\\mid{\\varphi(\\xi)-\\psi(\\xi)}\\mid \\mathrm{d}\\xi$$\n",
    "由1.得$$\\mid{\\varphi(x)-\\psi(x)}\\mid\\leq 0\\exp(\\int_{x_0}^{x}L \\mathrm{d}\\xi)=0$$\n",
    "即$$\\varphi(x)=\\psi(x)$$唯一性得证."
   ]
  },
  {
   "cell_type": "markdown",
   "metadata": {},
   "source": [
    "8.证明：\n",
    "\n",
    "取$M=\\max_{x\\in{[\\alpha,\\beta]}}\\mid{f(x,y_0)}\\mid,记\\beta-\\alpha=A$\n",
    "\n",
    "现在取$$\\begin{cases}y_0(x)=y_0,\\\\y_n(x)=y_0+\\int_\\alpha^xf(\\xi,y_{n-1}(\\xi)\\mathrm{d}\\xi,\\alpha\\leq x\\leq\\beta,(n=1,2,…).\\end{cases}$$\n",
    "下面证明函数序列${y_n(x)}在\\alpha\\leq x\\leq\\beta$上是一致连续的.\n",
    "\n",
    "我们考虑级数$$y_0(x)+\\sum_{k=1}^{\\infty}[y_k(x)-y_{k-1}(x)],\\alpha\\leq x\\leq\\beta$$\n",
    "它的部分和为$$y_0(x)+\\sum_{k=1}^{n}[y_k(x)-y_{k-1}(x)]=y_n(x)，$$\n",
    "有$$\\mid y_1(x)-y_0(x)\\mid\\leq\\int_{\\alpha}^x\\mid f(\\xi,y_0(\\xi))\\mid\\mathrm{d}\\xi\\leq M(x-\\alpha)$$再利用利普西茨条件可得\n",
    "$$\\mid y_2(x)-y_1(x)\\mid\\leq\\int_{\\alpha}^x\\mid f(\\xi,y_1(\\xi))-f(\\xi,y_0(\\xi))\\mid\\mathrm{d}\\xi\\leq L\\int_{\\alpha}^x\\mid{y_1(\\xi)-y_0(\\xi)}\\mid\\mathrm{d}\\xi= \\frac{ML}{2!}(x-\\alpha)^2$$设对于正整数n，不等式\n",
    "$$\\mid y_n(x)-y_{n-1}(x)\\mid\\leq\\frac{ML^{n-1}}{n!}(x-\\alpha)^n$$成立，利用利普西茨条件当$\\alpha\\leq x\\leq\\beta$时有\n",
    "$$\\mid y_{n+1}(x)-y_{n}(x)\\mid\\leq\\int_{\\alpha}^x\\mid f(\\xi,y_n(\\xi))-f(\\xi,y_{n-1}(\\xi))\\mid\\mathrm{d}\\xi\\leq L\\int_{\\alpha}^x\\mid{y_n(\\xi)-y_{n-1}(\\xi)}\\mid\\mathrm{d}\\xi\\leq\\frac{ML^{n}}{n!}\\int_{\\alpha}^x(\\xi-\\alpha)^n\\mathrm{d}\\xi=\\frac{ML^{n}}{(n+1)!}(x-\\alpha)^{n+1}$$\n",
    "由数学归纳法可得，对于所有的整数k，有以下估计：$$\\mid y_k(x)-y_{k-1}(x)\\mid\\leq\\frac{ML^{k-1}}{k!}(x-\\alpha)^k,\\alpha\\leq x\\leq\\beta$$\n",
    "从而有，$\\alpha\\leq x\\leq\\beta$时$$\\mid y_k(x)-y_{k-1}(x)\\mid\\leq\\frac{ML^{k-1}}{k!}A^k$$\n",
    "而以$\\frac{ML^{k-1}}{k!}A^k$为一般项的正项级数收敛，所以级数$$y_0(x)+\\sum_{k=1}^{\\infty}[y_k(x)-y_{k-1}(x)]$$\n",
    "在$\\alpha\\leq x\\leq\\beta$上一致收敛，因而序列${y_n(x)}$也在$\\alpha\\leq x\\leq\\beta$上一致收敛.\n",
    "现设${y_n(x)}极限为y(x)$\n",
    "\n",
    "结合课本命题4可得$$y(x)=y_0+\\int_\\alpha^xf(\\xi,y(\\xi))\\mathrm{d}\\xi$$\n",
    "按照6题2的证明方式可得$y=y_0+\\int_\\alpha^xf(x,y)\\mathrm{d}x$解的唯一性\n",
    "\n",
    "再由书上命题1的结论，该命题得证."
   ]
  },
  {
   "cell_type": "markdown",
   "metadata": {},
   "source": [
    "10.证明：取$$M=\\max_{x\\in [a,b]}\\mid f(x)\\mid,N=\\max_{x\\in [a,b],\\xi\\in [a,b]}\\mid K(x,\\xi)\\mid$$\n",
    "作逼近函数序列$$\\varphi_0(x)=f(x)$$\n",
    "$$\\varphi_{n+1}(x)=f(x)+\\lambda\\int_a^bK(x,\\xi)\\varphi_n(\\xi)\\mathrm d\\xi (n=1,2…)    (1)$$\n",
    "可得$$\\mid \\varphi_1(x)-\\varphi_0(x)\\mid\\leq \\mid \\lambda \\mid\\int_a^b\\mid K(x,\\xi)(\\varphi_0(\\xi)) \\mid\\mathrm d\\xi=\\mid \\lambda \\mid MN(b-a)$$应用数学归纳法可得$$\\mid \\varphi_n(x)-\\varphi_{n-1}(x)\\mid\\leq \\mid\\lambda^n \\mid MN^n(b-a)^n$$\n",
    "当$\\mid \\lambda \\mid <\\frac{1}{N(b-a)}$时$$\\sum_{n=1}^{\\infty}\\mid\\lambda^n \\mid MN^n(b-a)^n收敛$$\n",
    "\n",
    "所以$$\\varphi_0(x)+\\sum_{n=1}^{\\infty}[\\varphi_n(x)-\\varphi_{n-1}(x)]在a\\leq x\\leq b上一致收敛$$\n",
    "即$\\varphi_n(x)一致收敛$不妨设$$\\lim_{n\\to \\infty}\\varphi_n(x)=\\varphi(x)$$\n",
    "则对（1）式左右求极限可得$$\\varphi(x)=f(x)+\\lambda\\int_a^bK(x,\\xi)\\varphi(\\xi)\\mathrm d\\xi(2)$$存在性得证\n",
    "\n",
    "下面证唯一性,设另一解为$\\psi(x)$，则可得$$\\psi(x)=f(x)+\\lambda\\int_a^bK(x,\\xi)\\psi(\\xi)\\mathrm d\\xi(3)$$\n",
    "(2)-(3)可得$$\\mid \\varphi(x)-\\psi(x)\\mid\\leq\\mid \\lambda\\mid\\int_a^b\\mid K(x,\\xi)[\\varphi(\\xi)-\\psi(\\xi)]\\mid\\mathrm d\\xi$$\n",
    "即$$\\mid \\varphi(x)-\\psi(x)\\mid\\leq \\int_a^b\\mid \\lambda \\mid N \\mid \\varphi(\\xi)-\\psi(\\xi) \\mid\\mathrm d\\xi$$\n",
    "假设$\\max_{x\\in[a,b]}\\mid \\varphi(x)-\\psi(x)\\mid=A>0$则$$\\mid \\varphi(x)-\\psi(x)\\mid\\leq \\int_a^b\\mid \\lambda \\mid N A\\mathrm d\\xi=\\mid \\lambda \\mid N A(b-a)$$\n",
    "而此时$$\\mid \\lambda \\mid N A(b-a)<A,(\\mid \\lambda \\mid <\\frac{1}{N(b-a)})$$产生矛盾，所以A=0,即$$\\varphi(x)=\\psi(x)$$\n"
   ]
  },
  {
   "cell_type": "markdown",
   "metadata": {
    "collapsed": true
   },
   "source": [
    "$A^+$"
   ]
  },
  {
   "cell_type": "code",
   "execution_count": null,
   "metadata": {
    "collapsed": true
   },
   "outputs": [],
   "source": []
  }
 ],
 "metadata": {
  "kernelspec": {
   "display_name": "SageMath 7.3",
   "language": "",
   "name": "sagemath"
  },
  "language_info": {
   "codemirror_mode": {
    "name": "ipython",
    "version": 2
   },
   "file_extension": ".py",
   "mimetype": "text/x-python",
   "name": "python",
   "nbconvert_exporter": "python",
   "pygments_lexer": "ipython2",
   "version": "2.7.10"
  }
 },
 "nbformat": 4,
 "nbformat_minor": 0
}
