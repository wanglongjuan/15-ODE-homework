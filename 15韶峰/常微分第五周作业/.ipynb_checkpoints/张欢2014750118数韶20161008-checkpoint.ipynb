{
 "cells": [
  {
   "cell_type": "markdown",
   "metadata": {},
   "source": [
    "# Page88_3"
   ]
  },
  {
   "cell_type": "markdown",
   "metadata": {},
   "source": [
    "**解：**易得$M= max|f(x,y)|=4,h= \\min \\{1, \\frac{1}{4} \\}= \\frac{1}{4} $\n",
    "\n",
    "在R上函数$f(x,y)=x^2-y^2$的lipschitz常数$L=2$\n",
    "\n",
    "因为$ \\frac{\\partial f}{ \\partial y}=|-2y| \\leq 2$\n",
    "\n",
    "$ \\phi_0(x)=0, \\phi_1(x)= \\int_{-1}^x(t^2-{ \\phi_0(t)}^2)dt= \\frac{x^3+1}{3}$\n",
    "\n",
    "$\n",
    "\\begin{aligned}\n",
    " \\phi_2(x) &= \\int_{-1}^x(t^2-{ \\phi_1(t)}^2)dt \\\\\n",
    "                &= \\frac{x^3}{3}- \\frac{x}{9}- \\frac{x^4}{18}- \\frac{x^7}{63}+ \\frac{11}{42}\\\\\n",
    "  \\end{aligned}\n",
    "  $\n",
    "  \n",
    "  由误差估计公式有$| \\phi_2(x)- \\phi(x)| \\leq \\frac{4 \\bullet 2^2}{3!} \\bullet { \\frac{1}{4}}^3= \\frac{1}{24}$\n",
    "  \n",
    "  所以，已知初值问题的解的存在区间为$[ -\\frac{5}{4}, -\\frac{3}{4}]$\n",
    "  \n",
    "  第二次近似解为$y_2= \\frac{x^3}{3}- \\frac{x}{9}- \\frac{x^4}{18}- \\frac{x^7}{63}+ \\frac{11}{42}$\n",
    "  \n",
    "  在解的存在区间其误差估计为$|y-y_2| \\leq  \\frac{1}{24} $"
   ]
  },
  {
   "cell_type": "markdown",
   "metadata": {},
   "source": [
    "# T6"
   ]
  },
  {
   "cell_type": "markdown",
   "metadata": {},
   "source": [
    "**解：**令$u(t)=K+ \\int_\\alpha^tf(s)g(s)ds$\n",
    "\n",
    "${u(t)}^{ \\prime}=f(t)g(t) \\leq u(t)g(t) \\to \\frac{{u(t)}^{ \\prime}}{u(t)} \\leq g(t)$\n",
    "\n",
    "两边同时做$ \\alpha$到t上的积分，得$lnu(t)-lnu( \\alpha) \\leq \\int_\\alpha^tf(s)g(s)ds$\n",
    "\n",
    "则有$f(t) \\leq u(t) \\leq u( \\alpha)exp( \\int_\\alpha^tg(s)ds) \\ \\ (K=u( \\alpha)>0)$\n",
    "\n",
    "情形2:K=0,则对任意a>0\n",
    "\n",
    "有$f(t) \\leq a+ \\int_\\alpha^tf(s)g(s)ds$\n",
    "\n",
    "由(1)得$f(t) \\leq a \\bullet exp( \\int_\\alpha^tf(s)g(s)ds)$\n",
    "\n",
    "令a$ \\to 0^{+}$,则$f(t) \\leq 0$\n",
    "\n",
    "又因为$0 \\leq f(t) \\to f(t)=0$\n",
    "\n",
    "所以$f(t) \\leq K \\cdot exp( \\int_\\alpha^tg(s)ds)$仍然成立\n",
    "\n",
    "综合以上两种情况有$f(t) \\leq K \\cdot exp( \\int_\\alpha^tg(s)ds)  \\  \\  (t \\in [ \\alpha , \\beta])$"
   ]
  },
  {
   "cell_type": "markdown",
   "metadata": {},
   "source": [
    "对于命题5，设$ \\psi(x)$为满足初值条件的另一连续解\n",
    "\n",
    "则有$ \\psi(x)=y_0+ \\int_{x_0}^xf( \\xi, \\psi( \\xi))d \\xi$\n",
    "\n",
    "又有$ \\phi(x)=y_0+ \\int_{x_0}^xf( \\xi, \\phi( \\xi))d \\xi$\n",
    "\n",
    "$ \\to | \\psi(x)-\\phi(x)|=|  \\int_{x_0}^x(f( \\xi, \\psi( \\xi))-f( \\xi, \\phi( \\xi)))d \\xi| \\leq  \\int_{x_0}^x|f( \\xi, \\psi( \\xi))-f( \\xi, \\phi( \\xi))|d \\xi \\leq  \\int_{x_0}^xL \\cdot | \\psi( \\xi)- \\phi( \\xi)|d \\xi$\n",
    "\n",
    "有Gronwall不等式得$ | \\psi(x)-\\phi(x)| \\leq 0 \\cdot exp(  \\int_{x_0}^xLd \\xi)=0 $\n",
    "\n",
    "$ \\to  \\psi(x)= \\phi(x)$\n",
    "\n",
    "**证毕**"
   ]
  },
  {
   "cell_type": "markdown",
   "metadata": {},
   "source": [
    "# T8"
   ]
  },
  {
   "cell_type": "markdown",
   "metadata": {},
   "source": [
    "**解：**设lipschitz常数为L,取$M= \\underset{x \\in [ \\alpha, \\beta] }{ \\max}|f(x,y_0)|,h= \\beta - \\alpha,b=Mh$\n",
    "\n",
    "做逼近序列$ \\phi_0(x)=y_0 \\\\ \\phi_n(x)=y_0+ \\int_{x_0}^xf( \\xi, \\phi_{n-1}( \\xi))d \\xi \\  \\  (1)$\n",
    "\n",
    "$ \\to | \\phi_1(x)- \\phi_0(x)|=| \\int_{x_0}^xf( \\xi, \\phi_0( \\xi))d \\xi| \\leq  \\int_{x_0}^x|f( \\xi, \\phi_0( \\xi))|d \\xi \\leq M|x-x_0| \\leq M( \\beta - \\alpha)$\n",
    "\n",
    "设$ | \\phi_n(x)- \\phi_{n-1}(x)|= \\frac{M}{n!}L^(n-1)( \\beta - \\alpha)^n$\n",
    "\n",
    "则$ | \\phi_{n+1}(x)- \\phi_n(x)|=| \\int_{x_0}^x(f( \\xi, \\phi_n( \\xi))-(f( \\xi, \\phi_{n-1}( \\xi)))d \\xi| \\leq  \\int_{x_0}^x|f( \\xi, \\phi_n( \\xi))-(f( \\xi, \\phi_{n-1}( \\xi))|d \\xi \\\\\n",
    "       \\quad  \\quad \\quad \\quad \\quad \\quad   \\leq L \\int_{x_0}^x | \\phi_n(x)- \\phi_{n-1}(x)|d \\xi \\leq  \\frac{M}{(n)!}L^n( \\beta - \\alpha)^n \\int_{x_0}^xd \\xi \\leq  \\frac{M}{(n+1)!}L^n( \\beta - \\alpha)^{n+1}$\n",
    "       \n",
    " 综上成立$ | \\phi_n(x)- \\phi_{n-1}(x)|= \\frac{M}{(n)!}L^(n-1)( \\beta - \\alpha)^n,对任意正整数n$\n",
    " \n",
    "又因为$ \\phi_n(x)= \\phi_0(x)+ \\sum_{k=1}^n( \\phi_k(x)- \\phi_{k-1}(x))$\n",
    "\n",
    "考虑$ | \\phi_n(x)- \\phi_{n-1}(x)|= \\frac{M}{(n)!}L^(n-1)( \\beta - \\alpha)^n$,其用正项级数收敛中比较判别法的极限形式可得到以$ \\frac{M}{n!}L^{n-1}( \\beta - \\alpha)^n$的级数收敛\n",
    "\n",
    "则有$ \\sum_{k=1}^n( \\phi_k(x)- \\phi_{k-1}(x))一致收敛 \\to  \\phi_n(x)一致收敛，x \\in[ \\alpha,\\beta]$\n",
    "\n",
    "设$ \\lim_{n \\to \\infty} \\phi_n(x)= \\phi(x), \\phi(x)在x \\in[ \\alpha,\\beta]连续$\n",
    "\n",
    "对(1)左右两边取极限有$ \\phi(x)=y_0+ \\int_{x_0}^xf( \\xi, \\phi( \\xi))d \\xi $\n",
    "\n",
    "即$ \\phi(x)$是原问题的解\n",
    "\n",
    "设$ \\psi(x)$也是满足原问题初值条件的解\n",
    "\n",
    "即$ \\psi(x)=y_0+ \\int_{x_0}^xf( \\xi, \\psi( \\xi))d \\xi $\n",
    "\n",
    "$ \\to| \\phi(x)- \\psi(x)|=| \\int_{x_0}^x(f( \\xi, \\phi( \\xi))-f( \\xi, \\psi( \\xi)))d \\xi | \\leq  \\int_{x_0}^x|f( \\xi, \\phi( \\xi))-f( \\xi, \\psi( \\xi))|d \\xi  \\leq  \\int_{x_0}^xL \\cdot |\\phi( \\xi))- \\psi( \\xi)|d \\xi $\n",
    "\n",
    "由Gronwall不等式可得到$| \\phi(x)- \\psi(x)| \\leq 0 \\cdot exp(  \\int_{x_0}^xLd \\xi )=0 \\  \\  \\to  \\phi(x)= \\psi(x)$\n",
    "\n",
    "**综上，命题得证**"
   ]
  },
  {
   "cell_type": "markdown",
   "metadata": {},
   "source": [
    "# T10"
   ]
  },
  {
   "cell_type": "markdown",
   "metadata": {},
   "source": [
    "**解：**"
   ]
  },
  {
   "cell_type": "markdown",
   "metadata": {},
   "source": [
    "设$L=\\max_{\\substack{x \\in[a,b]}} \\{|K(x, \\xi)| \\},M=\\max_{\\substack{x \\in[a,b]}} \\{|f(\\xi)| \\}$\n",
    "\n",
    "做逼近序列$ \\phi_0(x)=f(x) \\\\ \\phi_{n+1}(x)=f(x)+ \\lambda \\int_{x_0}^xK(x, \\xi) \\phi_n( \\xi)d \\xi \\  \\  (1)$\n",
    "\n",
    "$|\\phi_1(x)-\\phi_0(x)|=| \\lambda|| \\int_{x_0}^xK(x, \\xi)f( \\xi)d \\xi| \\leq | \\lambda|ML(b-a)$\n",
    "\n",
    "同上一题，易用数学归纳法证得$| \\phi_n(x)-\\phi_{n-1}(x)| \\leq {|\\lambda|}^nM^{n-1}L^n(b-a)^n$\n",
    "\n",
    "用正项级数收敛中比较判别法的极限形式得$| \\lambda|< \\frac{1}{(b-a)L}$时级数$ \\sum_{k=1}^{ \\infty} {|\\lambda|}^nM^{n-1}L^n(b-a)^n$收敛\n",
    "\n",
    "进而由Weierstrass判别法得$ \\phi_0(x)+ \\sum_{k=1}^n( \\phi_k(x)- \\phi_{k-1}(x)),(| \\lambda|< \\frac{1}{(b-a)L})$在$[a,b]$上一致收敛\n",
    "\n",
    "即${ \\phi_n(x)}$在$[a,b]$上一致收敛\n",
    "\n",
    "设$ \\phi_n(x) \\to  \\phi(x) \\  \\  (n \\to \\infty)$  ，且$ \\phi(x)$在$[a,b]$上连续\n",
    "\n",
    "对(1)左右两边取极限得$ \\phi(x)=f(x)+ \\lambda \\int_{x_0}^xK(x, \\xi) \\phi( \\xi)d \\xi$\n",
    "\n",
    "所以$ \\phi(x)$是原问题的解\n",
    "\n",
    "设$ \\psi(x)$也是原问题的一个解\n",
    "\n",
    "则有$ \\psi(x)=f(x)+ \\lambda \\int_{x_0}^xK(x, \\xi) \\psi( \\xi)d \\xi$\n",
    "\n",
    "$ \\to | \\psi(x)-  \\phi(x)|=| \\lambda|| \\int_{x_0}^xK(x, \\xi)( \\psi(x)-  \\phi(x))d \\xi| \\leq | \\lambda| \\int_{x_0}^x|K(x, \\xi)|| \\psi(x)-  \\phi(x)|d \\xi|$\n",
    "\n",
    "用Gronwall不等式可得$ \\psi(x)=  \\phi(x)$\n",
    "\n",
    "**综上，命题得证**"
   ]
  },
  {
   "cell_type": "markdown",
   "metadata": {},
   "source": [
    "$A$"
   ]
  },
  {
   "cell_type": "code",
   "execution_count": null,
   "metadata": {
    "collapsed": true
   },
   "outputs": [],
   "source": []
  }
 ],
 "metadata": {
  "kernelspec": {
   "display_name": "SageMath 7.3",
   "language": "",
   "name": "sagemath"
  },
  "language_info": {
   "codemirror_mode": {
    "name": "ipython",
    "version": 2
   },
   "file_extension": ".py",
   "mimetype": "text/x-python",
   "name": "python",
   "nbconvert_exporter": "python",
   "pygments_lexer": "ipython2",
   "version": "2.7.10"
  }
 },
 "nbformat": 4,
 "nbformat_minor": 0
}
