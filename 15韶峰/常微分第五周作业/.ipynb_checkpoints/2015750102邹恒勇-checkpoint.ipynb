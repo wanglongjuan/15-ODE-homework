{
 "cells": [
  {
   "cell_type": "markdown",
   "metadata": {},
   "source": [
    "## 1：求初值问题$$\n",
    "\\begin{cases}\n",
    "\\frac{dy}{dx}=x^2-y^2,R:|x+1|\\leq 1,|y|\\leq 1,\\\\\n",
    "y(-1)=0\n",
    "\\end{cases}$$\n",
    "## 的解的存在区间，并求第二次近似解，给出在解的存在区间的误差估计。"
   ]
  },
  {
   "cell_type": "markdown",
   "metadata": {},
   "source": [
    "### 解\n",
    "因为$f(x,y)=x^2-y^2,a=1,b=1$\n",
    "\n",
    "所以$M=max{|x^2-y^2|}=4$,\n",
    "$$=>h=min{a,\\frac{b}{M}}=\\frac{1}{4}$$\n",
    "则区间为$|x-x_0|=|x+1|\\leq\\frac{1}{4}$\n",
    "\n",
    "令$\\varphi(x)=0$\n",
    "$$\\varphi_1(x)=y_0+\\int^x_{x_0}(x^2-0)dx=\\frac{1}{3}x^3+\\frac{1}{3}$$\n",
    "$$\\varphi_2(x)=y_0+\\int^x_{x_0}[x^2-(\\frac{1}{3}x^3+\\frac{1}{3})^2]dx=\\frac{1}{3}x^3-\\frac{x}{9}-\\frac{x^4}{18}-\\frac{x^7}{63}+\\frac{11}{42}$$\n",
    "又有$|\\frac{\\partial f(x,y)}{\\partial y}|\\leq L$\n",
    "\n",
    "所以误差估计为:$|\\varphi_2(x)-\\varphi(x)|\\leq\\frac{M+L^2}{(2+1)^2}h^2=\\frac{11}{42}$"
   ]
  },
  {
   "cell_type": "markdown",
   "metadata": {
    "collapsed": true
   },
   "source": [
    "**误差估计错误**"
   ]
  },
  {
   "cell_type": "markdown",
   "metadata": {
    "collapsed": true
   },
   "source": [
    "## 2:证明格朗沃尔不等式\n",
    "设k为非负整数，f(t)和g(t)为区间$\\alpha\\leq t\\geq\\beta$上的连续非负函数，且满足不等式\n",
    "$$f(t)\\leq k+\\int^t_\\alpha f(s)g(s)ds,\\alpha\\leq t\\geq\\beta$$\n",
    "则有$f(t)\\leq Kexp(\\int^t_\\alpha g(s)ds),\\alpha\\leq t\\geq\\beta$"
   ]
  },
  {
   "cell_type": "markdown",
   "metadata": {
    "collapsed": true
   },
   "source": [
    "## 解\n",
    "令$h(t)=\\int^t_\\alpha f(s)g(s)ds$,则$h'(t)=f(t)g(t)$\n",
    "有$$h'(t)-h(t)g(t)=f(t)g(t)-h(t)g(t)\\\\\n",
    "\\leq Kg(t)h'(t)-h(t)g(t)\\leq Kg(t)$$\n",
    "两边同时乘一个$exp(-\\int^t_\\alpha g(s)ds)$\n",
    "$$=>h'(t)exp(-\\int^t_\\alpha g(s)ds)-h(t)g(t)exp(-\\int^t_\\alpha g(s)ds)\\leq Kg(t)exp(-\\int^t_\\alpha g(s)ds$$\n",
    "两边积分$$\n",
    "h(t)exp(-\\int^t_\\alpha g(s)ds)\\leq-\\int^t_\\alpha g(s)ds exp(-\\int^t_\\alpha g(r)dr)ds$$\n",
    "既有$h(t)\\leq \\int^t_\\alpha g(s)ds exp(-\\int^t_\\alpha g(r)dr)ds$\n",
    "\n",
    "又$f(t)\\leq 1\\leq K+h(t)\\leq K+K\\int^t_\\alpha g(s)exp(-\\int^t_\\alpha g(r)dr)ds\\\\\n",
    "\\leq K(1-1+exp(-\\int^t_\\alpha g(r)dr)=K exp(-\\int^t_\\alpha g(s)ds)$\n",
    "\n",
    "所以$f(t)\\leq Kexp(\\int^t_\\alpha g(s)ds)$\n",
    "### 接下来证明定理1\n",
    "设$\\alpha(t),\\beta(t)$为初值问题$x'=f(t,x),x(t_0)=x_0$的两个解\n",
    "\n",
    "所以$$|\\alpha(t)-\\beta(t)|\\leq\\int^t_{t_0}|f(\\xi,\\alpha(\\xi))d\\xi-f(\\xi,\\beta(\\xi))d\\xi|d\\xi\\leq L\\int^t_{t_0}|\\alpha(\\xi)-\\beta(\\xi)|d\\xi$$\n",
    "由格朗沃尔不等式$0\\leq|alpha(t)-\\beta(t)|\\leq 0$\n",
    "\n",
    "所以$\\alpha(t)=\\beta(t)$"
   ]
  },
  {
   "cell_type": "markdown",
   "metadata": {
    "collapsed": true
   },
   "source": [
    "## 如果函数$f(x,y)$与带域$\\alpha\\leq t\\geq\\beta$上连续且关于y满足利普希茨条件，则方程$\\frac{dy}{dx}=f(x,y)$满足条件$y(x_0)=y_0$的解与整个区间$[\\alpha,\\beta]$上存在且唯一，证明"
   ]
  },
  {
   "cell_type": "markdown",
   "metadata": {},
   "source": [
    "### 解\n",
    "证明$y(x_0)=y_0$的解存在且唯一等价于证明$y=y_0+\\int^x_{x_0}f(x,y)dx$的连续解存在唯一\n",
    "\n",
    "存在性：$y(x_0)=y_0$\n",
    "$$y_1(x)=y_0+\\int^x_{x_0}f(\\xi,y_0(\\xi))d\\xi$$\n",
    "\n",
    "...\n",
    "$$y_n(x)=y_0+\\int^x_{x_0}f(\\xi,y_{n-1}(\\xi))d\\xi$$\n",
    "所以$y_n(x)$是连续的，并且存在。\n",
    "唯一性：取$M=max{f(x,y_0)}(x\\in[\\alpha,\\beta])$\n",
    "$$|y_1(x)-y_0(x)|\\leq\\int^x_{x_0}|f(\\xi,y_0(\\xi))|d\\xi\\leq M|x-x_o|$$\n",
    "$$=>|y_2(x)-y_1(x)|\\leq\\int^x_{x_0}|f(\\xi,y_1(\\xi))-f(\\xi,y_0(\\xi))|d\\xi\\\\\n",
    "\\leq L\\int^x_{x_0}|y_1(x)-y_0(x))|d\\xi\\\\\n",
    "\\leq L\\int^x_{x_0}M|\\xi-x_0|d\\xi\\\\\n",
    "=\\frac{ML}{2!}(x-x_0)^2$$\n",
    "根据数学归纳法可知：\n",
    "$$|y_k(x)-y_{k-1}(x)|\\leq\\frac{ML^{k-1}}{k!}(x-x_0)^k\\leq\\frac{ML^k{k-1}}{k!}(\\beta-\\alpha)^k$$\n",
    "由Weierstrass判别法，可知在区间一致收敛，所以$lim_{n\\rightarrow \\infty}y_n(x)=y(x)$,\n",
    "\n",
    "所以有$$y(x)=y_0+\\int^x_{x_0}f(\\xi,y(\\xi))d\\xi$$\n",
    "解的存在唯一性得证"
   ]
  },
  {
   "cell_type": "markdown",
   "metadata": {
    "collapsed": true
   },
   "source": []
  },
  {
   "cell_type": "markdown",
   "metadata": {
    "collapsed": true
   },
   "source": [
    "## 给定积分方程$$\\varphi(x)=f(x)+\\lambda\\int^b_a K(x,\\xi)\\varphi(\\xi)d\\xi$$\n",
    "## 其中f(x)是[a,b]上的已知连续函数，$K(x,\\xi)$是$a\\leq x\\leq b$,区间上的已知连续函数，证明当$|\\lambda|$足够小时，方程在区间上存在唯一的连续解"
   ]
  },
  {
   "cell_type": "markdown",
   "metadata": {
    "collapsed": true
   },
   "source": [
    "### 解\n",
    "作逐次逼近序列，取$\\varphi_0(x)=f(x)$\n",
    "\n",
    "令$$\\varphi_1(x)=f(x)+\\lambda\\int^b_a K(x,\\xi)\\varphi_0(\\xi)d\\xi$$\n",
    "...\n",
    "$$\\varphi_k(x)=f(x)+\\lambda\\int^b_a K(x,\\xi)\\varphi_{k-1}(\\xi)d\\xi----------1$$\n",
    "令$M=max|f(x)|(x\\in[a,b]),L=max|K(x,\\xi)|>0(x\\in[a,b],\\xi\\in[a,b])$\n",
    "$$|\\varphi_1(x)-\\varphi_0(x)|\\leq|\\int^a_b\\lambda K(x,\\xi)(\\varphi_k(\\xi)-\\varphi_{k-1}(\\xi))d\\xi|\\\\\n",
    "\\leq|\\lambda|\\int^b_a|K(x,\\xi)|*|\\varphi_k(\\xi)-\\varphi_{k-1}(\\xi)|d\\xi\\\\\n",
    "\\leq|\\xi|\\int^b_aL^{k+1}|\\lambda|^k*M(b-a)^kd\\xi\\\\\n",
    "=|\\lambda|^{k+1}L^{k+1}M(b-a)^{k+1}$$\n",
    "由归纳法可知,对任意的$n\\in N$，有$$\n",
    "|\\varphi_n(x)-\\varphi_{n-1}(x)|\\leq|\\lambda|^nL^nM(b-a)^n$$\n",
    "由于$$|\\varphi_k(x)-\\varphi_{k-1}(x)|\\leq|\\lambda|^kL^kM(b-a)^kk$$\n",
    "当$|\\lambda|<\\frac{1}{(b-a)L}$时，级数$\\sum_{n=1}^{\\infty}|\\lambda|^kL^kM(b-a)^k$收敛，可知级数在[a,b]上一致收敛。\n",
    "\n",
    "设$\\varphi(x)$收敛于g(x)，g（x）连续，对于1式两边取极限得$$\n",
    "g(x)=f(x)+\\lambda\\int^b_aK(x,\\xi)g(\\xi)d\\xi$$\n",
    "所以方程有连续解。\n",
    "\n",
    "对于唯一性，利用反证法。设有令解$\\mu(x)$,$\\mu(x)=f(x)+\\lambda\\int^b_aK(x,\\xi)\\mu(x)d\\xi$\n",
    "\n",
    "记$Q=max|g(x)-\\mu(x)|>0(x\\in[a,b]$\n",
    "$$|g(x)-\\mu(x)|=|\\lambda\\int^b_aK(x,\\xi)(g(\\xi)-\\mu(\\xi))d\\xi|\\\\\n",
    "\\leq|\\lambda|\\int^b_aL|g(\\xi)-\\mu(\\xi)|d\\xi\\\\\n",
    "\\leq|\\lambda|QL(b-a)$$\n",
    "因为$Q>0$,所以$|\\lambda|\\geq\\frac{1}{(b-a)L}$,与$\\lambda|\\leq\\frac{1}{(b-a)L}$矛盾，所以唯一性成立。"
   ]
  },
  {
   "cell_type": "markdown",
   "metadata": {
    "collapsed": true
   },
   "source": [
    "$B$"
   ]
  },
  {
   "cell_type": "code",
   "execution_count": null,
   "metadata": {
    "collapsed": true
   },
   "outputs": [],
   "source": []
  }
 ],
 "metadata": {
  "kernelspec": {
   "display_name": "SageMath 7.3",
   "language": "",
   "name": "sagemath"
  },
  "language_info": {
   "codemirror_mode": {
    "name": "ipython",
    "version": 2
   },
   "file_extension": ".py",
   "mimetype": "text/x-python",
   "name": "python",
   "nbconvert_exporter": "python",
   "pygments_lexer": "ipython2",
   "version": "2.7.10"
  }
 },
 "nbformat": 4,
 "nbformat_minor": 0
}
