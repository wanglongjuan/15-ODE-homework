{
 "cells": [
  {
   "cell_type": "markdown",
   "metadata": {},
   "source": [
    "# The homework of ODE"
   ]
  },
  {
   "cell_type": "markdown",
   "metadata": {},
   "source": [
    "## 1. Find the existence interval of the solutions and the second approximate solution and give the error estimates of the existence interval of solutions of the following initial value problem"
   ]
  },
  {
   "cell_type": "markdown",
   "metadata": {},
   "source": [
    "$$\n",
    "\\begin{cases}\n",
    "{\\mathrm d y \\over \\mathrm d x} = x^2 - y^2 , R: |x + 1| \\leq 1 , |y| \\leq 1 , \\\\\n",
    "y(-1) = 0\n",
    "\\end{cases}\n",
    "$$"
   ]
  },
  {
   "cell_type": "markdown",
   "metadata": {},
   "source": [
    "**solve :** $\\quad$ $M = 4$ $\\quad$ $h = {1 \\over 4}$"
   ]
  },
  {
   "cell_type": "markdown",
   "metadata": {},
   "source": [
    "the existence interval : \n",
    "$$| x + 1 | \\leq {1 \\over 4}$$"
   ]
  },
  {
   "cell_type": "markdown",
   "metadata": {},
   "source": [
    "the first approximate solution : \n",
    "$$\\varphi_1(x) = \\int_{-1}^x (\\xi^2) \\mathrm d \\xi = {1 \\over 3}x^3 + {1 \\over 3}$$"
   ]
  },
  {
   "cell_type": "markdown",
   "metadata": {},
   "source": [
    "the second approximate solution : \n",
    "$$\\varphi_2(x) = \\int_{-1}^x x^2 -  \\varphi_1(\\xi) \\mathrm d \\xi = -{1 \\over 63}x^7 - {1 \\over 18}x^4 + {1 \\over 3}x^3 - {1 \\over 9}x + {11 \\over 42}$$"
   ]
  },
  {
   "cell_type": "markdown",
   "metadata": {},
   "source": [
    "the error estimates :\n",
    "$$\n",
    "|\\varphi_2(x) - 0| \\leq {M*L^2 \\over (2 + 1)^2}h^3 = {11 \\over 24}\n",
    "$$"
   ]
  },
  {
   "cell_type": "markdown",
   "metadata": {},
   "source": [
    "## 2. Prove the Grundor's inequality"
   ]
  },
  {
   "cell_type": "markdown",
   "metadata": {},
   "source": [
    "### suppose $K$ is a constant, $f(t)$ and $g(t)$ are the nonnegative continuous functions in the interval $[\\alpha, \\beta]$ and satisfy the following inequality:\n",
    "$$\n",
    "f(t) \\leq K + \\int_\\alpha^t f(s)g(s) \\mathrm d s, \\quad \\alpha \\leq t \\leq \\beta\n",
    "$$"
   ]
  },
  {
   "cell_type": "markdown",
   "metadata": {},
   "source": [
    "### then\n",
    "$$\n",
    "f(t) \\leq K e^{\\int_\\alpha^t g(s) \\mathrm d s}, \\quad \\alpha \\leq t \\leq \\beta\n",
    "$$"
   ]
  },
  {
   "cell_type": "markdown",
   "metadata": {},
   "source": [
    "**prove:**\n",
    "let $\\quad$ $h(t) = \\int_\\alpha^t f(s)g(s) \\mathrm d s$ $\\quad$ \n",
    "then \n",
    "$$h'(t) = f(t)g(t)$$  "
   ]
  },
  {
   "cell_type": "markdown",
   "metadata": {},
   "source": [
    "subtract $h(t)g(t)$ from both sides \n",
    "$$\n",
    "h'(t) - h(t)g(t) = f(t)g(t) - h(t)g(t) \\leq Kg(t)\n",
    "$$"
   ]
  },
  {
   "cell_type": "markdown",
   "metadata": {},
   "source": [
    "both sides multiplied by $e^{-\\int_\\alpha^t g(s) \\mathrm d s}$\n",
    "$$\n",
    "(e^{-\\int_\\alpha^t g(s) \\mathrm d s})' \\leq Kg(t)e^{-\\int_\\alpha^t g(s) \\mathrm d s}\n",
    "$$"
   ]
  },
  {
   "cell_type": "markdown",
   "metadata": {},
   "source": [
    "both sides from $\\alpha$ to $t$ integra\n",
    "$$\n",
    "e^{-\\int_\\alpha^t g(s) \\mathrm d s} \\leq -Ke^{-\\int_\\alpha^t g(s) \\mathrm d s} + K\n",
    "$$"
   ]
  },
  {
   "cell_type": "markdown",
   "metadata": {},
   "source": [
    "then \n",
    "$$ \n",
    "\\begin{align}\n",
    "K + h(t) & \\leq Ke^{-\\int_\\alpha^t g(s) \\mathrm d s}\\\\\n",
    "f(t) & \\leq Ke^{-\\int_\\alpha^t g(s) \\mathrm d s}\n",
    "\\end{align}\n",
    "$$"
   ]
  },
  {
   "cell_type": "markdown",
   "metadata": {},
   "source": [
    "## 3. If the function $f(x,y)$ is continuous in the interval band domain $\\alpha \\leq x \\leq \\beta$ and satisfy Lipschitz's condition about $y$, and try to prove the solution which satisfy $y(x_0) = y_0$ of the equation ${\\mathrm d y \\over \\mathrm d x} = f(x,y)$ in the whole interval $[\\alpha, \\beta]$ is unique"
   ]
  },
  {
   "cell_type": "markdown",
   "metadata": {},
   "source": [
    "let $\\quad$ $M = \\displaystyle\\max_{x \\in [\\alpha, \\beta]}|f(x, y_0)|$  \n",
    "then the proof process as the same as the book"
   ]
  },
  {
   "cell_type": "markdown",
   "metadata": {},
   "source": [
    "## 4. Given a integral  equation\n",
    "$$\n",
    "\\varphi (x) = f(x) + \\lambda \\int_a^b K(x, \\xi) \\varphi (\\xi) \\mathrm d \\xi\n",
    "$$"
   ]
  },
  {
   "cell_type": "markdown",
   "metadata": {},
   "source": [
    "## where $f(x)$ is a known continuous function in $[a, b]$ and $K(x, \\xi)$ is a known continuous function in $x \\in [a, b], \\xi \\in [a, b]$ .  Prove that when $|\\lambda|$ is sufficiently small ( $\\lambda$ is a constant), the above equation exists an unique continuous solution in where $f(x)$ is a known continuous function in $[a, b]$"
   ]
  },
  {
   "cell_type": "markdown",
   "metadata": {},
   "source": [
    "**prove:**  \n",
    "constructs a stepwise approximation function sequence \n",
    "$$\n",
    "\\begin{align}\n",
    "\\varphi_0(x) & = f(x)\\\\\n",
    "\\varphi_n(x) & = f(x) + \\lambda \\int_a^b K(x, \\xi) \\varphi_{n-1}(\\xi) \\mathrm d \\xi \\quad (n = 1, 2, \\cdots )\n",
    "\\end{align}\n",
    "$$"
   ]
  },
  {
   "cell_type": "markdown",
   "metadata": {},
   "source": [
    "let $\\quad$ $M = \\displaystyle \\max_{\\substack{x \\in [a, b] \\\\ \\xi \\in [a, b]}}K(x, \\xi) \\quad M_0 = \\displaystyle \\max_{x \\in [a, b]}f(x)$\n"
   ]
  },
  {
   "cell_type": "markdown",
   "metadata": {},
   "source": [
    "$$\n",
    "\\begin{align}\n",
    "|\\varphi_1(x) - \\varphi_0(x)| & = |\\lambda| \\int_a^b K(x, \\xi) \\varphi_0(\\xi) \\mathrm d \\xi| \\\\\n",
    "& \\leq |\\lambda| M (b - a)M_0\\\\\n",
    "|\\varphi_2(x) - \\varphi_1(x)| & = |\\lambda| \\int_a^b K(x, \\xi)(\\varphi_1(\\xi) - \\varphi_0(\\xi) \\mathrm d \\xi| \\\\\n",
    "& \\leq |\\lambda M||\\int_a^b \\lambda M (b - a)M_0 \\mathrm d \\xi| \\\\\n",
    "& \\leq |\\lambda^2 M^2 (b - a)^2 M_0 | \\\\\n",
    "|\\varphi_n(x) - \\varphi_{n - 1}(x)| & \\leq |\\lambda^n M^n (b - a)_n M_0| \\\\\n",
    "& = |\\lambda M (b - a)|^n |M_0|\n",
    "\\end{align}\n",
    "$$"
   ]
  },
  {
   "cell_type": "markdown",
   "metadata": {},
   "source": [
    "when $|\\lambda|$ is sufficiently small, we can always make $\\lambda$ be a count that let $|\\lambda M (b - a)| < 1$  \n",
    "so the function term $\\displaystyle \\sum_{n = 1}^{\\infty}|\\varphi_n(x) - \\varphi_{n - 1}(x)|$ is uniformly convergent, and we can easily get: $\\displaystyle \\lim_{n \\to \\infty}\\varphi_n(x) = \\varphi(x)$"
   ]
  },
  {
   "cell_type": "markdown",
   "metadata": {},
   "source": [
    "both sides take the limit\n",
    "$$\n",
    "\\varphi_n(x) = f(x) + \\lambda \\int_a^b K(x, \\xi) \\varphi_{n-1}(\\xi) \\mathrm d \\xi \n",
    "$$\n",
    "we get  \n",
    "$$\n",
    "\\varphi(x) = f(x) + \\lambda \\int_a^b K(x, \\xi) \\varphi(\\xi) \\mathrm d \\xi \n",
    "$$\n",
    "$\\varphi(x)$ is a continuous solution of the integral equation"
   ]
  },
  {
   "cell_type": "markdown",
   "metadata": {},
   "source": [
    "we can counterfeit the proposition 5 ' proof method to prove the uniqueness easily"
   ]
  },
  {
   "cell_type": "markdown",
   "metadata": {},
   "source": [
    "$B$"
   ]
  },
  {
   "cell_type": "code",
   "execution_count": null,
   "metadata": {
    "collapsed": true
   },
   "outputs": [],
   "source": []
  }
 ],
 "metadata": {
  "kernelspec": {
   "display_name": "SageMath 7.3",
   "language": "",
   "name": "sagemath"
  },
  "language_info": {
   "codemirror_mode": {
    "name": "ipython",
    "version": 2
   },
   "file_extension": ".py",
   "mimetype": "text/x-python",
   "name": "python",
   "nbconvert_exporter": "python",
   "pygments_lexer": "ipython2",
   "version": "2.7.10"
  }
 },
 "nbformat": 4,
 "nbformat_minor": 0
}
