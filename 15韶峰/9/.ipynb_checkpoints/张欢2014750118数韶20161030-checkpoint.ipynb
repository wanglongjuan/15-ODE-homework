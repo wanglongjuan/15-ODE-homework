{
 "cells": [
  {
   "cell_type": "markdown",
   "metadata": {},
   "source": [
    "# Page 164"
   ]
  },
  {
   "cell_type": "markdown",
   "metadata": {},
   "source": [
    "## 2.求解下列常系数线性微分方程"
   ]
  },
  {
   "cell_type": "markdown",
   "metadata": {},
   "source": [
    "### （1）x^{(4)}-5x^{(2)}+4x=0"
   ]
  },
  {
   "cell_type": "markdown",
   "metadata": {},
   "source": [
    "**解：**   令$x=exp( \\lambda t)$代入原方程\n",
    "\n",
    "得到$\\lambda ^4-5\\lambda^2+4=0$\n",
    "\n",
    "$ \\to \\lambda=1$或$\\lambda=-1$或$\\lambda=2$或$\\lambda=-2$\n",
    "\n",
    "所以，原方程的通解为$x=c_1exp(t)+c_2exp(-t)+c_3exp(2t)+c_4exp(-2t) \\  \\  (c_i为任意常数，i=1,2,3,4)$"
   ]
  },
  {
   "cell_type": "markdown",
   "metadata": {},
   "source": [
    "### （3）$x^{(5)}-4x^{(3)}=0$"
   ]
  },
  {
   "cell_type": "markdown",
   "metadata": {},
   "source": [
    "**解：**  令$x=exp( \\lambda t)$代入原方程\n",
    "\n",
    "得到$\\lambda ^5-4\\lambda^3=0$\n",
    "\n",
    "$ \\to \\lambda=0$或$\\lambda=2$或$\\lambda=-2$\n",
    "\n",
    "所以，原方程的通解为$x=c_1+c_2exp(2t)+c_3exp(-2t) \\  \\  (c_i为任意常数，i=1,2,3)$"
   ]
  },
  {
   "cell_type": "markdown",
   "metadata": {},
   "source": [
    "### （5）$s^{(2)}-a^2s=t+1$"
   ]
  },
  {
   "cell_type": "markdown",
   "metadata": {},
   "source": [
    "**解：**先考虑齐次方程$s^{(2)}-a^2s=0$\n",
    "\n",
    "得到特征方程$\\lambda^{(2)}-a^2\\lambda=0$$ \\to \\lambda=a$或$\\lambda=-a$\n",
    "\n",
    "情形1：$a=0$则通解为$x=c_1+c_2t$且有0为特征方程的重数为2的根，故设特解为$t^2(c+dt)$\n",
    "\n",
    "代入原方程，得$2c=1,6d=1$$ \\to c= \\frac{1}{2},d= \\frac{1}{6}$\n",
    "\n",
    "所以原方程的解为$x=c_1+c_2t+\\frac{1}{6}t^2(t+3) \\  \\  (c_i为任意常数，i=1,2)$\n",
    "\n",
    "情形2：$a \\neq 0$则0不为特征方程的根，故设特解为$c+dt$\n",
    "\n",
    "代入原方程，得$c=d= -\\frac{1}{a^2}$\n",
    "\n",
    "所以原方程的解为$x=c_1exp(-at)+c_2exp(at) -\\frac{1}{a^2}(t+1) \\  \\  (c_i为任意常数，i=1,2)$"
   ]
  },
  {
   "cell_type": "markdown",
   "metadata": {},
   "source": [
    "### （6）$x^{(3)}-4x^{(2)}+5x^{ \\prime}-2x=2t+3$"
   ]
  },
  {
   "cell_type": "markdown",
   "metadata": {},
   "source": [
    "**解：**先考虑齐次方程$\\lambda^3-4\\lambda^2+5\\lambda-2=0$\n",
    "\n",
    "$ \\to \\lambda=1(2重)$或$\\lambda=2$\n",
    "\n",
    "此处$f(t)=2t+3$且0不为特征根，故设特解为$c+dt$\n",
    "\n",
    "代入原方程得:$c=-4,d=-1$$ \\to 特解为-4-t$\n",
    "\n",
    "所以原方程的解为$x=c_1exp(2t)+(c_2 t+c_3)exp(t) -t-4 \\  \\  (c_i为任意常数，i=1,2,3)$"
   ]
  },
  {
   "cell_type": "markdown",
   "metadata": {},
   "source": [
    "### （6）$x^{(4)}-2x^{(2)}+x=t^2-3$"
   ]
  },
  {
   "cell_type": "markdown",
   "metadata": {},
   "source": [
    "**解：**先考虑齐次方程$\\lambda^4-2\\lambda^2+1=0$\n",
    "\n",
    "$ \\to \\lambda=1(2重)$或$\\lambda=-1(2重)$\n",
    "\n",
    "此处$f(t)=t^2-3$且0不为特征根，故设特解为$c+dt^2$\n",
    "\n",
    "代入原方程得:$c=d=1$$ \\to 特解为1+t^2$\n",
    "\n",
    "所以原方程的解为$x=(c_1+c_2 t)exp(t)+(c_3+c_4 t)exp(-t)+t^2+1 \\  \\  (c_i为任意常数，i=1,2,3,4)$"
   ]
  },
  {
   "cell_type": "markdown",
   "metadata": {},
   "source": [
    "$B^+$"
   ]
  },
  {
   "cell_type": "code",
   "execution_count": null,
   "metadata": {
    "collapsed": true
   },
   "outputs": [],
   "source": []
  }
 ],
 "metadata": {
  "kernelspec": {
   "display_name": "SageMath 7.3",
   "language": "",
   "name": "sagemath"
  },
  "language_info": {
   "codemirror_mode": {
    "name": "ipython",
    "version": 2
   },
   "file_extension": ".py",
   "mimetype": "text/x-python",
   "name": "python",
   "nbconvert_exporter": "python",
   "pygments_lexer": "ipython2",
   "version": "2.7.10"
  }
 },
 "nbformat": 4,
 "nbformat_minor": 0
}
