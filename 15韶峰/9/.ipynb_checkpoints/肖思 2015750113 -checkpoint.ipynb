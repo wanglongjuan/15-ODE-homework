{
 "cells": [
  {
   "cell_type": "markdown",
   "metadata": {},
   "source": [
    "** 1.求解下列常系数线性微分方程:**\n",
    "\n",
    "**(1)$ x ^{(4)} - 5x'' + 4x = 0 $ ;**\n",
    "\n",
    "**(2)$ x^{(5)} - 4x''' = 0 $ ; **\n",
    "\n",
    "**(3)$ s'' - a^2s = t + 1 $ ;**\n",
    "\n",
    "**(4)$ x''' - 4x'' + 5x' - 2x = 2t + 3 $ ;**\n",
    "\n",
    "**(5)$ x^{(4)} -2x'' + x = t^2 - 3 $ ;**"
   ]
  },
  {
   "cell_type": "markdown",
   "metadata": {},
   "source": [
    "**解:**\n",
    "\n",
    "(1)特征方程:$ \\lambda ^4 - 5 \\lambda ^2 + 4 = 0 \\quad $ 其根为:$ \\lambda_1 = 1 ,\\lambda_2 = -1 , \\lambda_3 = 2 , \\lambda_4 = -2 $\n",
    "\n",
    "所以方程的通解为:$$ x = c_1 e^t + c_2 e^{-t} + c_3 e^{2t} + c_4 e^{-2t} $$  其中 $ c_1 ,c_2 ,c_3 ,c_4 $ 为任意常数\n",
    "\n"
   ]
  },
  {
   "cell_type": "markdown",
   "metadata": {},
   "source": [
    "(2)特征方程:$ \\lambda ^5 - 4 \\lambda ^3 = 0 \\quad $ 其根为$ \\lambda_1 = \\lambda_2 = \\lambda_3 = 0 ,\\lambda_4 = 2 ,\\lambda_5 = -2 $\n",
    "\n",
    "所以方程的通解为:$$ x = c_1 e^{2t} + c_2 e^{-2t} + c_3 t^2 + c_4 t + c_5 $$ 其中 $  c_1 ,c_2 ,c_3 ,c_4 ,c_5 $ 为任意常数"
   ]
  },
  {
   "cell_type": "markdown",
   "metadata": {},
   "source": [
    "(3)特征方程:$ \\lambda ^2 - a^2 \\lambda  = 0 \\quad $ 其根为:$ \\lambda_1 = a ,\\lambda_2 = -a  $\n",
    "\n",
    "当$ a \\neq 0 $ 时\n",
    "\n",
    "所以齐次方程的通解为:$$ s = c_1 e^{at} + c_2 e^{-at}  $$  其中 $ c_1 ,c_2  $ 为任意常数\n",
    "\n",
    "设方程有特解\n",
    "\n",
    "$ s = m + nt $ ,代入方程可知: $ m = n = - \\frac {1}{a^2} $ \n",
    "\n",
    "所以方程的通解为:$$ s = c_1 e^{at} + c_2 e^{-at} - \\frac{1}{a^2} (t - 1) $$ \n",
    "\n",
    "当$ a = 0 $ 时\n",
    "\n",
    "对方程进行两次积分:$$ s = c_1 + c_2 t + \\frac{1}{6} t^2 (t - 1) $$ 其中 $ c_1 ,c_2 $为任意常数"
   ]
  },
  {
   "cell_type": "markdown",
   "metadata": {},
   "source": [
    "(4)特征方程:$ \\lambda ^3 - 4 \\lambda ^2 + 5 \\lambda -2 = 0 \\quad $ 其根为:$ \\lambda_1 = \\lambda_2 = 1 , \\lambda_3 = 2  $\n",
    "\n",
    "所以齐次方程的通解为:$$ x = c_1 e^t + c_2 t e^{t} + c_3 e^{2t}  $$ \n",
    "\n",
    "又因为 $ \\lambda = 0 $ 不是特征根,所以可以取特解为 $ \\bar{x} = m + nt $ 代入原方程\n",
    "\n",
    "得到:$ m = -4 ,n = -1 $ \n",
    "\n",
    "所以原方程的通解为:$$ x = c_1 e^t + c_2 t e^{t} + c_3 e^{2t} - t - 4 $$  其中 $ c_1 ,c_2 ,c_3$ 为任意常数"
   ]
  },
  {
   "cell_type": "markdown",
   "metadata": {},
   "source": [
    "(5)特征方程:$ \\lambda ^4 - 2 \\lambda ^2 + 1 = 0 \\quad $ 其根为:$ \\lambda_1 = \\lambda_2 = 1 , \\lambda_3 = \\lambda_4 = -1 $\n",
    "\n",
    "所以齐次方程的通解为:$$ x = c_1 e^t + c_2 e^{t} + c_3 e^{-t} + c_4 e^{-t} $$  \n",
    "\n",
    "取特解为:$ x = mt^2 + nt + s $ ,代入原方程可得:$ m = 1 , n = 0 ,s = 1 $\n",
    "\n",
    "所以原方程的通解为: $$ x = c_1 e^t + c_2 e^{t} + c_3 e^{-t} + c_4 e^{-t} + t^2 +1 $$  其中 $ c_1 ,c_2 ,c_3 ,c_4 $ 为任意常数"
   ]
  },
  {
   "cell_type": "markdown",
   "metadata": {
    "collapsed": true
   },
   "source": [
    "A"
   ]
  },
  {
   "cell_type": "code",
   "execution_count": null,
   "metadata": {
    "collapsed": true
   },
   "outputs": [],
   "source": []
  }
 ],
 "metadata": {
  "kernelspec": {
   "display_name": "SageMath 7.3",
   "language": "",
   "name": "sagemath"
  },
  "language_info": {
   "codemirror_mode": {
    "name": "ipython",
    "version": 2
   },
   "file_extension": ".py",
   "mimetype": "text/x-python",
   "name": "python",
   "nbconvert_exporter": "python",
   "pygments_lexer": "ipython2",
   "version": "2.7.10"
  }
 },
 "nbformat": 4,
 "nbformat_minor": 0
}
