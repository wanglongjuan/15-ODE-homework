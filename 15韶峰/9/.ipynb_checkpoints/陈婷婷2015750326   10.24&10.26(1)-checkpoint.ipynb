{
 "cells": [
  {
   "cell_type": "markdown",
   "metadata": {},
   "source": [
    "1.求解下列常系数线性微分方程"
   ]
  },
  {
   "cell_type": "markdown",
   "metadata": {},
   "source": [
    "(1)$x^{(4)}-5x''+4x=0$"
   ]
  },
  {
   "cell_type": "markdown",
   "metadata": {},
   "source": [
    "解：特征方程$$\\lambda^4-5\\lambda^2+4=0$$有根$\\lambda_1=2,\\lambda_2=-2,\\lambda_3=1,\\lambda_4=-1$，\n",
    "\n",
    "通解为$x=c_1e^{2t}+c_2e^{-2t}+c_3e^{t}+c_4e^{-t}$"
   ]
  },
  {
   "cell_type": "markdown",
   "metadata": {},
   "source": [
    "(3)$x^{(5)}-4x^m=0$"
   ]
  },
  {
   "cell_type": "markdown",
   "metadata": {},
   "source": [
    "解：特征方程$$\\lambda^5-4\\lambda^3=\\lambda^3(\\lambda^2-4)=0$$特征根为3重特征根$\\lambda=0$及单根$\\lambda=2或-2$\n",
    "\n",
    "通解为$$x=c_1+c_2t+c_3t^2+c_4e^{2t}+c_5e^{-2t}$$"
   ]
  },
  {
   "cell_type": "markdown",
   "metadata": {},
   "source": [
    "（5）$s''-a^2s=t+1$"
   ]
  },
  {
   "cell_type": "markdown",
   "metadata": {},
   "source": [
    "解：特征方程$$\\lambda^2-a^2=0$$有根$\\lambda_1=a,\\lambda_2=-a$\n",
    "\n",
    "a=0时，齐次线性方程有通解为$$s=c_1e^{at}+c_2e^{-at}$$\n",
    "\n",
    "将$\\overline s=A+Bt$代入原方程得$A=B=-\\frac{1}{a^2}$\n",
    "\n",
    "通解为$$s=c_1e^{at}+c_2e^{-at}-\\frac{1}{a^2}(t-1)$$\n",
    "\n",
    "a=0时，$\\overline s=t^2(\\alpha_1t+\\alpha_2)代入原方程解得\\alpha_1=\\frac{1}{6},\\alpha_2=\\frac{1}{2}$\n",
    "\n",
    "通解为$s=c_1+c_2t-\\frac{1}{6}t^2(t+3)$"
   ]
  },
  {
   "cell_type": "markdown",
   "metadata": {},
   "source": [
    "(6)$x'''-4x''+5x'-2x=2t+3$"
   ]
  },
  {
   "cell_type": "markdown",
   "metadata": {},
   "source": [
    "解：特征方程$$\\lambda^3-4\\lambda^2+5\\lambda-2=0$$\n",
    "$有根\\lambda_1=2,两重根\\lambda=1$\n",
    "\n",
    "齐次线性方程通解为$$x=c_1e^{2t}+c_2e^{t}+c_3te^{t}$$\n",
    "\n",
    "取特解$\\overline x=A+Bt$代入原方程得$$A=-4,B=-1$$\n",
    "\n",
    "通解为$$x=c_1e^{2t}+c_2e^{t}+c_3te^{t}-4-t$$"
   ]
  },
  {
   "cell_type": "markdown",
   "metadata": {},
   "source": [
    "(7)$x^{(4)}-2x''+x=t^3-3$"
   ]
  },
  {
   "cell_type": "markdown",
   "metadata": {},
   "source": [
    "解：特征方程$$\\lambda^4-2\\lambda^2+1=0$$有二重根$\\lambda=1,\\lambda=-1$\n",
    "\n",
    "齐次线性方程通解$$x=c_1e^{t}+c_2te^{t}+c_3e^{-t}+c_4e^{-t}$$\n",
    "\n",
    "取特解$\\overline x=At^2+Bt+C$代入原方程得$$A=1,B=0,C=1$$\n",
    "\n",
    "通解为$$x=c_1e^{t}+c_2te^{t}+c_3e^{-t}+c_4e^{-t}+t^2+1$$"
   ]
  },
  {
   "cell_type": "markdown",
   "metadata": {},
   "source": [
    "A"
   ]
  },
  {
   "cell_type": "markdown",
   "metadata": {
    "collapsed": true
   },
   "source": []
  }
 ],
 "metadata": {
  "kernelspec": {
   "display_name": "SageMath 7.3",
   "language": "",
   "name": "sagemath"
  },
  "language_info": {
   "codemirror_mode": {
    "name": "ipython",
    "version": 2
   },
   "file_extension": ".py",
   "mimetype": "text/x-python",
   "name": "python",
   "nbconvert_exporter": "python",
   "pygments_lexer": "ipython2",
   "version": "2.7.10"
  }
 },
 "nbformat": 4,
 "nbformat_minor": 0
}
