{
 "cells": [
  {
   "cell_type": "markdown",
   "metadata": {},
   "source": [
    "# 10月24号"
   ]
  },
  {
   "cell_type": "markdown",
   "metadata": {},
   "source": [
    " **1.求解下列常系数微分方程**"
   ]
  },
  {
   "cell_type": "markdown",
   "metadata": {},
   "source": [
    "** $（1）x^{(4)}-5x^{\\prime\\prime}+4x=0$**"
   ]
  },
  {
   "cell_type": "markdown",
   "metadata": {},
   "source": [
    "**解：**由题得特征方程为\n",
    "\n",
    "$f(\\lambda)=\\lambda^4-\\lambda^2+4=0$\n",
    "\n",
    "解得 $\\lambda=-2,-1,1,2$\n",
    "\n",
    "所以原方程的基础解系为 $e^{-2t},e^{-t},e^t,e^{2t}$\n",
    "\n",
    "所以原方程的通解为 $x=c_1e^{-2t}+c_2e^{-t}+c_3e^t+c_4e^{2t}$\n",
    "\n",
    "其中 $c_1c_2,c_3,c_4$ 为任意常数"
   ]
  },
  {
   "cell_type": "markdown",
   "metadata": {},
   "source": [
    "**$（3） x^{(5)}-4x^{\\prime\\prime\\prime}=0$**"
   ]
  },
  {
   "cell_type": "markdown",
   "metadata": {},
   "source": [
    "**解：**由题得特征方程为\n",
    "\n",
    "$f(\\lambda)=\\lambda^5-4\\lambda^3=0$\n",
    "\n",
    "解得 $\\lambda=0（三重)，-2，2$\n",
    "\n",
    "所以原方程的解为 $x=c_1+c_2t+c_3t^2+c_4e^{-2t}+c_5e^{2t}$\n",
    "\n",
    "其中 $c_1c_2,c_3,c_4,c_5$ 为任意常数"
   ]
  },
  {
   "cell_type": "markdown",
   "metadata": {},
   "source": [
    "# 10月26号"
   ]
  },
  {
   "cell_type": "markdown",
   "metadata": {},
   "source": [
    "** $（5）s^{\\prime\\prime}-a^2s=t+1$ **"
   ]
  },
  {
   "cell_type": "markdown",
   "metadata": {},
   "source": [
    "**解：**\n",
    "\n",
    "$\\because \\lambda=0$ 不是 $F(\\lambda)=\\lambda^2-a^2$ 的根\n",
    "\n",
    "$\\therefore$ 解可表为 $x=B_0t+B_1$\n",
    "\n",
    "代入原方程得 $-a^2(B_0t+B_1)=t+1$\n",
    "\n",
    "解得 $B_0=-\\frac{1}{a^2}t,B_1=-\\frac{1}{a^2}$\n",
    "\n",
    "所以方程的解为 $x=-\\frac{1}{a^2}t-\\frac{1}{a^2}$"
   ]
  },
  {
   "cell_type": "markdown",
   "metadata": {},
   "source": [
    "**$（6）x^{\\prime\\prime\\prime}-4x^{\\prime\\prime}+x=t^2-3$**"
   ]
  },
  {
   "cell_type": "markdown",
   "metadata": {},
   "source": [
    "**解：**\n",
    "\n",
    "$\\because \\lambda=0$ 不是 $F(\\lambda)=\\lambda^3-4\\lambda^2+5\\lambda-2=0$ 的根\n",
    "\n",
    "$\\therefore$ 解可表为 $$x=B_0t+B_1$$\n",
    "\n",
    "代入原方程得 $$5B_0-2(B_0t+B_1)=2t+3$$\n",
    "\n",
    "解得 $$B_0=-1,B_1=-4$$\n",
    "\n",
    "所以方程的解为 $$x=-t-4$$\n"
   ]
  },
  {
   "cell_type": "markdown",
   "metadata": {},
   "source": [
    "**$（7）x^{(4)}-2x^{\\prime\\prime}+x=t^2-3$**"
   ]
  },
  {
   "cell_type": "markdown",
   "metadata": {},
   "source": [
    "**解：**\n",
    "\n",
    "$\\because \\lambda=0$ 不是 $F(\\lambda)=\\lambda^3-4\\lambda^2+5\\lambda-2=0$ 的根\n",
    "\n",
    "$\\therefore$ 解可表为 $$x=B_0t^2+B_1$$\n",
    "\n",
    "代入原方程得 $$-4B_0+B_0t^2+B_1=t^2-3$$\n",
    "\n",
    "解得 $$B_0=1,B_1=1$$\n",
    "\n",
    "所以方程的解为 $$x=t^2+1$$"
   ]
  },
  {
   "cell_type": "markdown",
   "metadata": {},
   "source": [
    "B"
   ]
  },
  {
   "cell_type": "code",
   "execution_count": null,
   "metadata": {
    "collapsed": true
   },
   "outputs": [],
   "source": []
  }
 ],
 "metadata": {
  "kernelspec": {
   "display_name": "SageMath 7.3",
   "language": "",
   "name": "sagemath"
  },
  "language_info": {
   "codemirror_mode": {
    "name": "ipython",
    "version": 2
   },
   "file_extension": ".py",
   "mimetype": "text/x-python",
   "name": "python",
   "nbconvert_exporter": "python",
   "pygments_lexer": "ipython2",
   "version": "2.7.10"
  }
 },
 "nbformat": 4,
 "nbformat_minor": 0
}
