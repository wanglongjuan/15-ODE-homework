{
 "cells": [
  {
   "cell_type": "markdown",
   "metadata": {},
   "source": [
    "## 姓名：刘笑\n",
    "## 学号：2015750304"
   ]
  },
  {
   "cell_type": "markdown",
   "metadata": {},
   "source": [
    "### 2 解下列常数系数线性微分方程"
   ]
  },
  {
   "cell_type": "markdown",
   "metadata": {},
   "source": [
    "###  （1）"
   ]
  },
  {
   "cell_type": "markdown",
   "metadata": {},
   "source": [
    "**解**\n",
    "$$\\lambda^4-5\\lambda^2+4=0\\\\\n",
    "(\\lambda^2-1)(\\lambda^2-4)=0\\\\\n",
    "\\lambda=\\pm1 \\quad \\lambda=\\pm2$$\n",
    "$故方程的通解$\n",
    "$$x=c_1*e^t+c_2*e^{-t}+c_3*e^{2t}+c_4*e^{-t}$$\n",
    "\n",
    "粗心"
   ]
  },
  {
   "cell_type": "markdown",
   "metadata": {},
   "source": [
    "###  (3)"
   ]
  },
  {
   "cell_type": "markdown",
   "metadata": {},
   "source": [
    "**解**\n",
    "$$\\lambda^3(\\lambda^2-4)=0\\\\\n",
    "\\lambda=0(三重)\\quad \\lambda=\\pm2$$\n",
    "$故方程的解$\n",
    "$$x=c_1+c_2t+c_3t^2+c_4e^{2t}+c_3e^{-2t}$$"
   ]
  },
  {
   "cell_type": "markdown",
   "metadata": {
    "collapsed": true
   },
   "source": [
    "### (5)\n"
   ]
  },
  {
   "cell_type": "markdown",
   "metadata": {},
   "source": [
    "**解**\n",
    "$特征方程为$\n",
    "\n",
    "$$\\lambda^2-a^2=0\\\\\n",
    "\\lambda_1=a\\quad \\lambda_2=-a$$\n",
    "$当 a \\neq=0设s_1=At+B时$\n",
    "$$-a^2(At+B)=t+1\\\\\n",
    "-Aa^2=1\\\\\n",
    "-Ba^2=1$$\n",
    "$即$\n",
    "$$A=\\frac{-1}{a^2}\\quad B=\\frac{-1}{a^2}$$\n",
    "$故方程的解$\n",
    "$$s=c_1e^{at}+c_2e^{-at}-\\frac{1}{a^2}*(t+1)$$\n",
    "\n",
    "$当a=0时$\n",
    "$$s\"=t+1$$\n",
    "$对方程两次积分$\n",
    "$$\\iint(t+1)dt$$\n",
    "$故方程的解$\n",
    "$$s=\\frac{1}{6}t^3+\\frac{1}{2}t^2+c_2t+c_2$$\n",
    "\n",
    "\n",
    "\n",
    "\n"
   ]
  },
  {
   "cell_type": "markdown",
   "metadata": {},
   "source": [
    "## (6)\n",
    "**解**\n",
    "$$\\lambda^3-4\\lambda^2+5\\lambda-2=0\\\\\n",
    "\\lambda=1(两重)\\quad \\lambda=2$$\n",
    "$设方程的特解s_1=At+B$\n",
    "$$5A-2(At+B)=2t+3\\\\\n",
    "\\begin{cases}-2A=2\\\\5A-2B=3\\end{cases}\\\\\n",
    "A=-1\\quad B=-4$$\n",
    "$所以 原方程的通解为$\n",
    "$$s=(c_1+c_2t)e^t+c_3e^{2t}-t-4$$\n"
   ]
  },
  {
   "cell_type": "markdown",
   "metadata": {},
   "source": [
    "### (7)\n",
    "**解**\n",
    "$$\\lambda^4-2\\lambda^2+1=0\\\\\n",
    "(\\lambda^2-1)^2=0\\\\\n",
    "\\lambda=1(两重)\\quad \\lambda=-1(两重)$$\n",
    "$设方程的一个特解为s_1=At^2+Bt+c$\n",
    "$$-4A+At^2+Bt+c=t^2+1\\\\\n",
    "A=1\\quad B=0\\quad c=1$$\n",
    "$即原方程的通解为$\n",
    "$$x=(c_1+c_2t)e^t+(c_3+c_4t)e^{-t}+t^2+1$$\n",
    "\n"
   ]
  },
  {
   "cell_type": "markdown",
   "metadata": {
    "collapsed": true
   },
   "source": [
    "A"
   ]
  },
  {
   "cell_type": "code",
   "execution_count": null,
   "metadata": {
    "collapsed": true
   },
   "outputs": [],
   "source": []
  }
 ],
 "metadata": {
  "kernelspec": {
   "display_name": "SageMath 7.3",
   "language": "",
   "name": "sagemath"
  },
  "language_info": {
   "codemirror_mode": {
    "name": "ipython",
    "version": 2
   },
   "file_extension": ".py",
   "mimetype": "text/x-python",
   "name": "python",
   "nbconvert_exporter": "python",
   "pygments_lexer": "ipython2",
   "version": "2.7.10"
  }
 },
 "nbformat": 4,
 "nbformat_minor": 0
}
