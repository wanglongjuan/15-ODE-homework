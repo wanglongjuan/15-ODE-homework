{
 "cells": [
  {
   "cell_type": "markdown",
   "metadata": {},
   "source": [
    "## 2.求解下列常系数线性微分方程"
   ]
  },
  {
   "cell_type": "markdown",
   "metadata": {},
   "source": [
    "## (2)$x^{(4)}-5x^{\\prime\\prime}+4x=0$\n",
    "**解**\n",
    "$$f(\\lambda)=(\\lambda)^{4}-5(\\lambda)^{2}+4$$\n",
    "解之得$$\\lambda_1=1,\\lambda_2=-1,\\lambda_3=2,\\lambda_4=-2$$\n",
    "所以$$通解为x=c_1e^{t}+c_2e^{-t}+c_3e^{2t}+c_4e^{-2t}$$"
   ]
  },
  {
   "cell_type": "markdown",
   "metadata": {},
   "source": [
    "## (3)$x^{(5)}-4x^{\\prime\\prime\\prime}=0$\n",
    "**解**\n",
    "$$特征方程为f(\\lambda)=\\lambda^{5}-4\\lambda^{3}$$\n",
    "\n",
    "$$因为特征方程有公因式\\lambda^{3},所以有特征根1,t,t^2$$\n",
    "\n",
    "又有$$\\lambda_1=0,\\lambda_2=2,\\lambda_3=-2$$\n",
    "\n",
    "所以通解为$$x=c_1e^{2t}+c_2e^{-2t}+c_3t+c_4t^2+c_5$$"
   ]
  },
  {
   "cell_type": "markdown",
   "metadata": {},
   "source": [
    "## $(5)s^{\\prime\\prime}-a^2s=t+1$"
   ]
  },
  {
   "cell_type": "markdown",
   "metadata": {},
   "source": [
    "**解**\n",
    "$$当a=0时，考虑齐次微分方程s^{\\prime\\prime}=0   ①$$\n",
    "\n",
    "特征方程的根为$$\\lambda=0$$\n",
    "\n",
    "所以①式的通解为$s=c_1+c_2t$\n",
    "\n",
    "现在来找特解，$s^{\\prime\\prime}=t+1,\\lambda=0是特征根，所以有特解为\\tilde s=t^2(A+Bt)$\n",
    "\n",
    "代入原式得到$$2t(A+Bt)+Bt^2=t+1,即6Bt+2A=t+1$$\n",
    "\n",
    "解之得$$B=\\frac{1}{6},A=\\frac{1}{2}$$\n",
    "\n",
    "所以原式的通解为$$s=c_1+c_2t+t^2(\\frac{1}{2}+\\frac{1}{6}t)$$"
   ]
  },
  {
   "cell_type": "markdown",
   "metadata": {},
   "source": [
    "$当a≠0时，特征方程的跟为\\lambda_1=a,\\lambda_2=-a,齐次方程的通解为s=c_1e^{at}+c_2e^{-at}$\n",
    "\n",
    "现在来考虑特解$s^{\\prime\\prime}-a^2s=t+1,因为\\lambda=0不是特征根，所以有特解\\tilde s=A+Bt$\n",
    "\n",
    "代入原方程得到$-a^2(A+Bt)=t+1$\n",
    "\n",
    "所以$A=B=-\\frac{1}{a^2}$\n",
    "\n",
    "即原式的通解为$s=c_1e^{at}+c_2e^{-at}-\\frac{1}{a^2}（t+1）$"
   ]
  },
  {
   "cell_type": "markdown",
   "metadata": {},
   "source": [
    "## $(6)x^{\\prime\\prime\\prime}-4x^{\\prime\\prime}+5x^\\prime-2x=2t+3$"
   ]
  },
  {
   "cell_type": "markdown",
   "metadata": {},
   "source": [
    "考虑齐次微分方程，其特征方程为$(\\lambda-2)(\\lambda-1)^2=0$\n",
    "\n",
    "解之得$\\lambda_1=2,\\lambda_2=1(二重)$\n",
    "\n",
    "所以齐次微分方程的通解为$x=c_1e^{2t}+(c_2+c_3t)e^t$\n",
    "\n",
    "现在来考虑特解，因为$\\lambda=0$不是特征根，所以有特解形如$\\tilde x=A+Bt$\n",
    "\n",
    "代入原方程得到$5B-2A-2Bt=2t+3$\n",
    "\n",
    "即$B=-1,A=-4$\n",
    "\n",
    "所以原方程的通解为$x=c_1e^{2t}+e^t(c_2+c_3t)-t-4$"
   ]
  },
  {
   "cell_type": "markdown",
   "metadata": {},
   "source": [
    "## $(7)x^{(4)}-2x^{\\prime\\prime}+x=t^2-3$\n"
   ]
  },
  {
   "cell_type": "markdown",
   "metadata": {},
   "source": [
    "考虑齐次微分方程，得到特征根为$\\lambda_1=1(二重),\\lambda_2=-1（二重）$\n",
    "\n",
    "所以齐次线性微分方程的通解为$x=(c_1+c_2t)e^t+(c_3+c_4t)e^{-t}$\n",
    "\n",
    "现在来考虑特解，因为$\\lambda=0$不是特征根，所以有特解形如$\\tilde x=A+Bt+Ct^2$\n",
    "\n",
    "代入原方程化解为$-4C+A+Bt+Ct^2=t^2-3$\n",
    "\n",
    "即$A=1,B=0,C=1$\n",
    "\n",
    "所以原方程的通解为$x=e^t（c_1+c_2t）+e^{-t}(c_3+c_4t)+t^2+1$"
   ]
  },
  {
   "cell_type": "markdown",
   "metadata": {},
   "source": [
    "A"
   ]
  },
  {
   "cell_type": "code",
   "execution_count": null,
   "metadata": {
    "collapsed": true
   },
   "outputs": [],
   "source": []
  }
 ],
 "metadata": {
  "kernelspec": {
   "display_name": "SageMath 7.3",
   "language": "",
   "name": "sagemath"
  },
  "language_info": {
   "codemirror_mode": {
    "name": "ipython",
    "version": 2
   },
   "file_extension": ".py",
   "mimetype": "text/x-python",
   "name": "python",
   "nbconvert_exporter": "python",
   "pygments_lexer": "ipython2",
   "version": "2.7.10"
  }
 },
 "nbformat": 4,
 "nbformat_minor": 0
}
