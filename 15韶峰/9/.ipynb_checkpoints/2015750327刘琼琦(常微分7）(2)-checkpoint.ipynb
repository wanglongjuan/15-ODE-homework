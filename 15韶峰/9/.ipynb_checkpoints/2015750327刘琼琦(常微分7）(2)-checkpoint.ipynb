{
 "cells": [
  {
   "cell_type": "markdown",
   "metadata": {},
   "source": [
    "# 姓名：刘琼琦"
   ]
  },
  {
   "cell_type": "markdown",
   "metadata": {},
   "source": [
    "# 学号：2015750327"
   ]
  },
  {
   "cell_type": "markdown",
   "metadata": {},
   "source": [
    "## $$作业一（10月24日）$$"
   ]
  },
  {
   "cell_type": "markdown",
   "metadata": {},
   "source": [
    "## 习题4.2"
   ]
  },
  {
   "cell_type": "markdown",
   "metadata": {},
   "source": [
    "## 2.求解下列常系数线性微分方程"
   ]
  },
  {
   "cell_type": "markdown",
   "metadata": {},
   "source": [
    "## (2)$x^{(4)}-5x^{\\prime\\prime}+4x=0$"
   ]
  },
  {
   "cell_type": "markdown",
   "metadata": {},
   "source": [
    "**解:**\n",
    "\n",
    "特征方程$\\lambda^4-5\\lambda^2+4=0$可换成$(\\lambda^2-1)(\\lambda^2-4)=0$\n",
    "\n",
    "所以该特征方程的根为$\\lambda_1=1,\\lambda_2=-1,\\lambda_3=2,\\lambda_4=-2$，均为单根。\n",
    "\n",
    "所以方程的解为$$x=c_1e^t+c_2e^{-t}+c_3e^{2t}+c_4e^{-2t}$$"
   ]
  },
  {
   "cell_type": "markdown",
   "metadata": {},
   "source": [
    "## (3)$x^{(5)}-4x^{\\prime\\prime\\prime}=0$"
   ]
  },
  {
   "cell_type": "markdown",
   "metadata": {},
   "source": [
    "**解:**\n",
    "\n",
    "特征方程$\\lambda^5-4\\lambda^3=0$可换成$\\lambda^3(\\lambda^2-4)=0$\n",
    "\n",
    "所以特征根为三重特征根$\\lambda=0$和单根$\\lambda=±2$\n",
    "\n",
    "而特征方程的三重零根对应于三个线性无关解$1,t,t^2$\n",
    "\n",
    "所以方程的解为$$x=c_1+c_2t+c_3t^2+c_4e^{2t}+c_5e^{-2t}$$\n",
    "\n"
   ]
  },
  {
   "cell_type": "markdown",
   "metadata": {},
   "source": [
    "## $$作业二(10月26日）$$"
   ]
  },
  {
   "cell_type": "markdown",
   "metadata": {
    "collapsed": true
   },
   "source": [
    "## $(5)s^{\\prime\\prime}-a^2s=t+1$"
   ]
  },
  {
   "cell_type": "markdown",
   "metadata": {},
   "source": [
    "**解**\n",
    "\n",
    "先求对应的齐次线性微分方程$s^{\\prime\\prime}-a^2s=0$的解,这里特征方程$\\lambda^2-a^2=0$有两个根$\\lambda_1=a,\\lambda_2=-a.$\n",
    "\n",
    "$1^0$\n",
    "\n",
    "当$a=0$时，原方程等式左边的通解为$x=c_1+c_2t$其中$c_1,c_2$为任意常数\n",
    "\n",
    "再求非齐次线性微分方程的一个特解，这里$f(t)=t+1,\\lambda=0$\n",
    "\n",
    "又因为$\\lambda=0$刚好是特征方程的二重根，所以有特解形如$\\tilde x=t^2(A+Bt)，其中A,B为待定常数$\n",
    "\n",
    "代入原方程化解得$2A+6Bt=t+1$\n",
    "\n",
    "所以$A=\\frac{1}{2},B=\\frac{1}{6}$\n",
    "\n",
    "所以原方程的通解为$x=c_1+c_2t+\\frac{1}{6}t^2(t+3)$"
   ]
  },
  {
   "cell_type": "markdown",
   "metadata": {},
   "source": [
    "$2^0$\n",
    "当$a≠0$时，原方程等式左边的通解为$x=c_1e^{at}+c_2e^{-at}$其中$c_1,c_2$为任意常数\n",
    "\n",
    "再求非齐次线性微分方程的一个特解，这里$f(t)=t+1,\\lambda=0$\n",
    "\n",
    "又因为$\\lambda=0$不是特征根，所以有特解形如$\\tilde x=A+Bt，其中A,B为待定常数$\n",
    "\n",
    "代入原方程化解得$-a^2(A+Bt)=t+1$\n",
    "\n",
    "所以$A=B=-\\frac{1}{a^2}$\n",
    "\n",
    "所以原方程的通解为$x=c_1e^{at}+c_2e^{-at}-\\frac{1}{a^2}（t+1）$\n",
    "\n"
   ]
  },
  {
   "cell_type": "markdown",
   "metadata": {},
   "source": [
    "## $(6)x^{\\prime\\prime\\prime}-4x^{\\prime\\prime}+5x^\\prime-2x=2t+3$"
   ]
  },
  {
   "cell_type": "markdown",
   "metadata": {},
   "source": [
    "**解**\n",
    "\n",
    "依题意特征方程为$\\lambda^3-4\\lambda^2+5\\lambda-2=(\\lambda-2）（\\lambda-1）^2=0$\n",
    "\n",
    "所以通解为$x=c_1e^{2t}+e^t(c_2+c_3t)$\n",
    "\n",
    "又$f(t)=2t+3,\\lambda=0$\n",
    "\n",
    "并且$\\lambda=0$不是特征根，所以有特解形如$\\tilde x=A+Bt$\n",
    "\n",
    "代入原方程化解为$5B-2A-2Bt=2t+3$\n",
    "\n",
    "所以$B=-1,A=-4$\n",
    "\n",
    "所以原方程的通解为$x=c_1e^{2t}+e^t(c_2+c_3t)-t-4$"
   ]
  },
  {
   "cell_type": "markdown",
   "metadata": {},
   "source": [
    "## $(7)x^{(4)}-2x^{\\prime\\prime}+x=t^2-3$"
   ]
  },
  {
   "cell_type": "markdown",
   "metadata": {},
   "source": [
    "**解**\n",
    "\n",
    "依题意特征方程为$\\lambda^4-2\\lambda^2+1=(\\lambda+1）^2（\\lambda-1）^2=0$\n",
    "\n",
    "所以通解为$x=e^t（c_1+c_2t）+e^{-t}(c_3+c_4t)$\n",
    "\n",
    "又$f(t)=t^2-3,\\lambda=0,m=2$\n",
    "\n",
    "并且$\\lambda=0$不是特征根，所以有特解形如$\\tilde x=A+Bt+Ct^2$\n",
    "\n",
    "代入原方程化解为$-4C+A+Bt+Ct^2=t^2-3$\n",
    "\n",
    "所以$A=1,B=0,C=1$\n",
    "\n",
    "所以原方程的通解为$x=e^t（c_1+c_2t）+e^{-t}(c_3+c_4t)+t^2+1$"
   ]
  },
  {
   "cell_type": "markdown",
   "metadata": {},
   "source": [
    "$A^+$"
   ]
  }
 ],
 "metadata": {
  "kernelspec": {
   "display_name": "SageMath 7.3",
   "language": "",
   "name": "sagemath"
  },
  "language_info": {
   "codemirror_mode": {
    "name": "ipython",
    "version": 2
   },
   "file_extension": ".py",
   "mimetype": "text/x-python",
   "name": "python",
   "nbconvert_exporter": "python",
   "pygments_lexer": "ipython2",
   "version": "2.7.10"
  }
 },
 "nbformat": 4,
 "nbformat_minor": 0
}
