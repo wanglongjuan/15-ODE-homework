{
 "cells": [
  {
   "cell_type": "markdown",
   "metadata": {},
   "source": [
    "# 1.求解下列常系数线性微分方程"
   ]
  },
  {
   "cell_type": "markdown",
   "metadata": {},
   "source": [
    "## (1)$$x^{(4)}-5x''+4x=0;$$"
   ]
  },
  {
   "cell_type": "markdown",
   "metadata": {},
   "source": [
    "解：\n",
    "其特征方程为$$\\lambda^4-5\\lambda^2+4=0\\\\$$\n",
    "方程的解为\n",
    "$$\\lambda _1=-2,\\lambda _2=-1,\\lambda_3=1,\\lambda _4=2\\\\$$\n",
    "所以方程的通解为\n",
    "$$x=c_1e^{-2t}+c_2e^{-t}+c_3e^{t}+c_4e^{2t}$$"
   ]
  },
  {
   "cell_type": "code",
   "execution_count": 1,
   "metadata": {
    "collapsed": false
   },
   "outputs": [
    {
     "data": {
      "text/html": [
       "<html><script type=\"math/tex; mode=display\">\\newcommand{\\Bold}[1]{\\mathbf{#1}}\\left[x = \\left(-2\\right), x = 2, x = \\left(-1\\right), x = 1\\right]</script></html>"
      ],
      "text/plain": [
       "[x == -2, x == 2, x == -1, x == 1]"
      ]
     },
     "metadata": {},
     "output_type": "display_data"
    }
   ],
   "source": [
    "var('x')\n",
    "a=solve(x^4 -5*x^2+4==0,x)\n",
    "show(a)"
   ]
  },
  {
   "cell_type": "markdown",
   "metadata": {},
   "source": [
    "## (2)$$x^{(5)}-4x'''=0;$$"
   ]
  },
  {
   "cell_type": "markdown",
   "metadata": {},
   "source": [
    "解：\n",
    "其特征方程为\n",
    "$$\\begin{align}\n",
    "\\lambda^5-4\\lambda^3 &=0\\\\\n",
    "\\lambda^3(\\lambda^2-1) &=0\\\\\n",
    "\\end{align}\n",
    "$$\n",
    "于是\n",
    "$$\\lambda_1=0(三重),\\lambda_2=1,\\lambda_3=-1\\\\$$\n",
    "于是方程的通解是\n",
    "$$x=c_1+c_2t+c_3t^2+c_4e^t+c_5e^{-t}$$"
   ]
  },
  {
   "cell_type": "markdown",
   "metadata": {},
   "source": [
    "## (3)$$s''-a^2 s=t+1;$$"
   ]
  },
  {
   "cell_type": "markdown",
   "metadata": {},
   "source": [
    "解：\n",
    "对应的齐次微分方程为$$s''-a^2s=0\\\\$$\n",
    "其特征方程为\n",
    "$$\n",
    "\\begin{align}\n",
    "\\lambda^2-a^2&=0\\\\\n",
    "(\\lambda+a)(\\lambda-a) &=0\\\\\n",
    "\\end{align}\n",
    "$$\n",
    "所以\n",
    "$$\\lambda_1=-a,\\lambda_2=a$$\n",
    "于是基本解组为$$x_1=e^{-at},x_2=e^{at}$$\n",
    "$a\\ne 0$时由常数变易法得\n",
    "$$\n",
    "\\begin{cases}\n",
    "e^{-at}c_1'(t)+e^{at}c_2'(t)=0\\\\\n",
    "-ae^{-at}c_1'(t)+ae^{at}c_2'(t)=t+1\\\\\n",
    "\\end{cases}\n",
    "$$\n",
    "得$$\n",
    "c_1(t)=\\frac{{\\left(-a t -a+ 1\\right)} e^{\\left(a t\\right)}}{2a^3}+c_1,c_2(t)=\\frac{{\\left(-a t -a- 1\\right)} e^{\\left(-a t\\right)}}{2a^3}+c_2\n",
    "$$\n",
    "所以此时**通解**为$$x=c_1e^{-at}+c_2e^{at}-\\frac{t+1}{a^2}$$\n",
    "$a=0$时基本解组为$$x_1=1,x_2=t$$\n",
    "同样可以解出**通解**为\n",
    "$$x=c_1+c_2 t+\\frac{t^2(t+3)}{6}$$"
   ]
  },
  {
   "cell_type": "code",
   "execution_count": 3,
   "metadata": {
    "collapsed": false
   },
   "outputs": [
    {
     "data": {
      "text/html": [
       "<html><script type=\"math/tex; mode=display\">\\newcommand{\\Bold}[1]{\\mathbf{#1}}-\\frac{\\frac{{\\left(a t - 1\\right)} e^{\\left(a t\\right)}}{a^{2}} + \\frac{e^{\\left(a t\\right)}}{a}}{2 \\, a}</script></html>"
      ],
      "text/plain": [
       "-1/2*((a*t - 1)*e^(a*t)/a^2 + e^(a*t)/a)/a"
      ]
     },
     "metadata": {},
     "output_type": "display_data"
    }
   ],
   "source": [
    "var('a,t')\n",
    "a=integral(-((t+1)*exp(a*t))/(2*a),t)\n",
    "show(a)"
   ]
  },
  {
   "cell_type": "markdown",
   "metadata": {},
   "source": [
    "## (4)$$x'''-4x''+5x'-2x=2t+3;$$"
   ]
  },
  {
   "cell_type": "markdown",
   "metadata": {},
   "source": [
    "解:\n",
    "对应的齐次微分方程的特征方程为\n",
    "$$\\lambda^3-4\\lambda^2+5\\lambda-2=0\\\\\n",
    "(\\lambda-2)(\\lambda-1)^2=0\n",
    "$$\n",
    "所以$$\\lambda_1=1(二重),\\lambda_2=2$$\n",
    "所以基本解组为$$x_1=e^t,x_2=e^{2t},x_3=te^t$$\n",
    "则常数变易得\n",
    "$$\n",
    "\\begin{cases}\n",
    "e^t c_1'(t)+e^{2t} c_2'(t)+te^t c_3'(t)=0\\\\\n",
    "e^t c_1'(t)+2e^{2t} c_2'(t)+(t+1)e^t c_3'(t)=0\\\\\n",
    "e^t c_1'(t)+4e^{2t} c_2'(t)+(t+2)e^t c_3'(t)=2t+3\\\\\n",
    "\\end{cases}\n",
    "$$\n",
    "$$c_1(t)=(-2t^2-5t-2)e^{-t}+c_1\\quad c_2(t)=-(t+2)e^{-2t}+c_2\\quad c_3(t)=(2t+5)e^{-t}+c_3\\\\$$\n",
    "通解为$$x=c_1e^t+c_2e^{2t}+c_3te^t-t-4$$"
   ]
  },
  {
   "cell_type": "code",
   "execution_count": 2,
   "metadata": {
    "collapsed": false
   },
   "outputs": [
    {
     "data": {
      "text/html": [
       "<html><script type=\"math/tex; mode=display\">\\newcommand{\\Bold}[1]{\\mathbf{#1}}\\left[\\left[x = {\\left(2 \\, t^{2} + t - 3\\right)} e^{\\left(-t\\right)}, y = {\\left(2 \\, t + 3\\right)} e^{\\left(-2 \\, t\\right)}, z = -{\\left(2 \\, t + 3\\right)} e^{\\left(-t\\right)}\\right]\\right]</script></html>"
      ],
      "text/plain": [
       "[[x == (2*t^2 + t - 3)*e^(-t), y == (2*t + 3)*e^(-2*t), z == -(2*t + 3)*e^(-t)]]"
      ]
     },
     "metadata": {},
     "output_type": "display_data"
    },
    {
     "data": {
      "text/html": [
       "<html><script type=\"math/tex; mode=display\">\\newcommand{\\Bold}[1]{\\mathbf{#1}}\\left[-2 \\, {\\left(t^{2} + 2 \\, t + 2\\right)} e^{\\left(-t\\right)} - {\\left(t + 1\\right)} e^{\\left(-t\\right)} + 3 \\, e^{\\left(-t\\right)}, -\\frac{1}{2} \\, {\\left(2 \\, t + 1\\right)} e^{\\left(-2 \\, t\\right)} - \\frac{3}{2} \\, e^{\\left(-2 \\, t\\right)}, 2 \\, {\\left(t + 1\\right)} e^{\\left(-t\\right)} + 3 \\, e^{\\left(-t\\right)}\\right]</script></html>"
      ],
      "text/plain": [
       "[-2*(t^2 + 2*t + 2)*e^(-t) - (t + 1)*e^(-t) + 3*e^(-t),\n",
       " -1/2*(2*t + 1)*e^(-2*t) - 3/2*e^(-2*t),\n",
       " 2*(t + 1)*e^(-t) + 3*e^(-t)]"
      ]
     },
     "metadata": {},
     "output_type": "display_data"
    }
   ],
   "source": [
    "var('x,y,z,t')\n",
    "a=solve([exp(t)*x+exp(2*t)*y+t*exp(t)*z==0,exp(t)*x+2*exp(2*t)*y+(t+1)*exp(t)*z==0,exp(t)*x+4*exp(2*t)*y+(t+2)*exp(t)*z==2*t+3],x,y,z)\n",
    "show(a)\n",
    "x=integral((2*t^2+t-3)*exp(-t),t)\n",
    "y=integral((2*t+3)*exp(-2*t),t)\n",
    "z=integral((-2*t-3)*exp(-t),t)\n",
    "show([x,y,z])"
   ]
  },
  {
   "cell_type": "markdown",
   "metadata": {},
   "source": [
    "## (5)$$x^{(4)}-2x''+x=t^2+3$$"
   ]
  },
  {
   "cell_type": "markdown",
   "metadata": {
    "collapsed": true
   },
   "source": [
    "解：\n",
    "对应的齐次微分方程的特征方程为\n",
    "$$\\lambda^4-2\\lambda^2+1=0\\\\\n",
    "(\\lambda-1)^2 (\\lambda+1)^2=0\\\\\n",
    "$$\n",
    "基本解组为$$x_1=e^{-t},x_2=e^t,x_3=te^{-t},x_4=te^{t}$$\n",
    "常数变易得\n",
    "$$\n",
    "\\begin{cases}\n",
    "e^{-t}c_1'(t)+e^t c_2'(t)+te^{-t}c_3'(t)+te^t c_4'(t)=0\\\\\n",
    "-e^{-t}c_1'(t)+e^t c_2'(t)+(t-1)e^{-t}c_3'(t)+(t+1)e^t c_4'(t)=0\\\\\n",
    "e^{-t}c_1'(t)+e^t c_2'(t)+(t-2)e^{-t}c_3'(t)+(t+2)e^t c_4'(t)=0\\\\\n",
    "-e^{-t}c_1'(t)+e^t c_2'(t)+(t-3)e^{-t}c_3'(t)+(t+3)e^t c_4'(t)=t^2+3\\\\\n",
    "\\end{cases}\n",
    "$$\n",
    "所以通解为\n",
    "$$x=c_1e^{-t}+c_2e^{t}+c_3 te^t+c_4 te^t+t^2+1$$"
   ]
  },
  {
   "cell_type": "code",
   "execution_count": 4,
   "metadata": {
    "collapsed": false,
    "scrolled": false
   },
   "outputs": [
    {
     "data": {
      "text/html": [
       "<html><script type=\"math/tex; mode=display\">\\newcommand{\\Bold}[1]{\\mathbf{#1}}\\left[\\left[a = \\frac{1}{4} \\, {\\left(t^{2} + 3\\right)} e^{t}, b = -\\frac{1}{4} \\, {\\left(6 \\, t^{3} + t^{2} + 18 \\, t + 3\\right)} e^{\\left(-t\\right)}, c = \\frac{1}{2} \\, {\\left(t^{2} + 3\\right)} e^{t}, d = {\\left(t^{2} + 3\\right)} e^{\\left(-t\\right)}\\right]\\right]</script></html>"
      ],
      "text/plain": [
       "[[a == 1/4*(t^2 + 3)*e^t, b == -1/4*(6*t^3 + t^2 + 18*t + 3)*e^(-t), c == 1/2*(t^2 + 3)*e^t, d == (t^2 + 3)*e^(-t)]]"
      ]
     },
     "metadata": {},
     "output_type": "display_data"
    },
    {
     "data": {
      "text/html": [
       "<html><script type=\"math/tex; mode=display\">\\newcommand{\\Bold}[1]{\\mathbf{#1}}\\left[-\\frac{1}{2} \\, {\\left(t^{3} + 3 \\, t^{2} + 6 \\, t + 6\\right)} e^{\\left(-t\\right)} - \\frac{3}{4} \\, {\\left(t^{2} + 2 \\, t + 2\\right)} e^{\\left(-t\\right)} - \\frac{3}{2} \\, {\\left(t + 1\\right)} e^{\\left(-t\\right)} - \\frac{9}{4} \\, e^{\\left(-t\\right)}, \\frac{3}{2} \\, {\\left(t^{3} + 3 \\, t^{2} + 6 \\, t + 6\\right)} e^{\\left(-t\\right)} + \\frac{1}{4} \\, {\\left(t^{2} + 2 \\, t + 2\\right)} e^{\\left(-t\\right)} + \\frac{9}{2} \\, {\\left(t + 1\\right)} e^{\\left(-t\\right)} + \\frac{3}{4} \\, e^{\\left(-t\\right)}, \\frac{1}{2} \\, {\\left(t^{2} - 2 \\, t + 2\\right)} e^{t} + \\frac{3}{2} \\, e^{t}, -{\\left(t^{2} + 2 \\, t + 2\\right)} e^{\\left(-t\\right)} - 3 \\, e^{\\left(-t\\right)}\\right]</script></html>"
      ],
      "text/plain": [
       "[-1/2*(t^3 + 3*t^2 + 6*t + 6)*e^(-t) - 3/4*(t^2 + 2*t + 2)*e^(-t) - 3/2*(t + 1)*e^(-t) - 9/4*e^(-t),\n",
       " 3/2*(t^3 + 3*t^2 + 6*t + 6)*e^(-t) + 1/4*(t^2 + 2*t + 2)*e^(-t) + 9/2*(t + 1)*e^(-t) + 3/4*e^(-t),\n",
       " 1/2*(t^2 - 2*t + 2)*e^t + 3/2*e^t,\n",
       " -(t^2 + 2*t + 2)*e^(-t) - 3*e^(-t)]"
      ]
     },
     "metadata": {},
     "output_type": "display_data"
    },
    {
     "data": {
      "text/plain": [
       "\\left[-\\frac{1}{2} \\, {\\left(t^{3} + 3 \\, t^{2} + 6 \\, t + 6\\right)} e^{\\left(-t\\right)} - \\frac{3}{4} \\, {\\left(t^{2} + 2 \\, t + 2\\right)} e^{\\left(-t\\right)} - \\frac{3}{2} \\, {\\left(t + 1\\right)} e^{\\left(-t\\right)} - \\frac{9}{4} \\, e^{\\left(-t\\right)}, \\frac{3}{2} \\, {\\left(t^{3} + 3 \\, t^{2} + 6 \\, t + 6\\right)} e^{\\left(-t\\right)} + \\frac{1}{4} \\, {\\left(t^{2} + 2 \\, t + 2\\right)} e^{\\left(-t\\right)} + \\frac{9}{2} \\, {\\left(t + 1\\right)} e^{\\left(-t\\right)} + \\frac{3}{4} \\, e^{\\left(-t\\right)}, \\frac{1}{2} \\, {\\left(t^{2} - 2 \\, t + 2\\right)} e^{t} + \\frac{3}{2} \\, e^{t}, -{\\left(t^{2} + 2 \\, t + 2\\right)} e^{\\left(-t\\right)} - 3 \\, e^{\\left(-t\\right)}\\right]"
      ]
     },
     "execution_count": 4,
     "metadata": {},
     "output_type": "execute_result"
    }
   ],
   "source": [
    "var('a,b,c,d,t')\n",
    "eq1=[exp(-t)*a+exp(t)*b+t*exp(-t)*c+t*exp(t)*d==0,-exp(-t)*a+exp(t)*b+(t-1)*exp(-t)*c+(t+1)*exp(t)*d==0]\n",
    "eq2=[exp(-t)*a+exp(t)*b+(t-2)*exp(-t)*c+(t+1)*exp(t)*d==0,-exp(-t)*a+exp(t)*b+(t-3)*exp(-t)*c+(t+3)*exp(t)*d==t^2+3]\n",
    "a=solve([eq1,eq2],a,b,c,d)\n",
    "show(a)\n",
    "a=integral(((t^2+3)*exp(t))/4,y)\n",
    "b=integral((-(6*t^3+t^2+18*t+3)*exp(-t))/4,t)\n",
    "c=integral(((t^2+3)*exp(t))/2,t)\n",
    "d=integral((t^2+3)*exp(-t),t)\n",
    "show([a,b,c,d])\n",
    "latex([a,b,c,d])"
   ]
  },
  {
   "cell_type": "markdown",
   "metadata": {},
   "source": [
    "A"
   ]
  },
  {
   "cell_type": "code",
   "execution_count": null,
   "metadata": {
    "collapsed": true
   },
   "outputs": [],
   "source": []
  }
 ],
 "metadata": {
  "kernelspec": {
   "display_name": "SageMath 7.3",
   "language": "",
   "name": "sagemath"
  },
  "language_info": {
   "codemirror_mode": {
    "name": "ipython",
    "version": 2
   },
   "file_extension": ".py",
   "mimetype": "text/x-python",
   "name": "python",
   "nbconvert_exporter": "python",
   "pygments_lexer": "ipython2",
   "version": "2.7.10"
  }
 },
 "nbformat": 4,
 "nbformat_minor": 0
}
