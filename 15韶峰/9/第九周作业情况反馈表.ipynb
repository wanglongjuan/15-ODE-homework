{
 "cells": [
  {
   "cell_type": "markdown",
   "metadata": {},
   "source": [
    "第九周作业情况反馈表：\n",
    "* 本周的作业： 习题4.2的第二题（1）（3）（5）（6）（7）\n",
    "* 本周作业完成情况如下：\n",
    "    * 本周作业是作与常系数线性微分方程相关题目的解，大家按时交作业;\n",
    "    * 本周作业完成的较好，格式基本正确，作业内容整齐，易读;\n",
    "    * 本周张欢（2015750120）、邹恒勇抄作业;刘琼琦、曾玲、龙汉清、郎大宇作业优秀;肖熠程、陈智琦作业迟交;\n",
    "    * 金蒙召请假作业未交。"
   ]
  },
  {
   "cell_type": "code",
   "execution_count": null,
   "metadata": {
    "collapsed": true
   },
   "outputs": [],
   "source": []
  }
 ],
 "metadata": {
  "kernelspec": {
   "display_name": "SageMath 7.3",
   "language": "",
   "name": "sagemath"
  },
  "language_info": {
   "codemirror_mode": {
    "name": "ipython",
    "version": 2
   },
   "file_extension": ".py",
   "mimetype": "text/x-python",
   "name": "python",
   "nbconvert_exporter": "python",
   "pygments_lexer": "ipython2",
   "version": "2.7.10"
  }
 },
 "nbformat": 4,
 "nbformat_minor": 0
}
