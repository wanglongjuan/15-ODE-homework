{
 "cells": [
  {
   "cell_type": "markdown",
   "metadata": {},
   "source": [
    " # 习题4.2\n"
   ]
  },
  {
   "cell_type": "markdown",
   "metadata": {},
   "source": [
    "## 题二：求解下列常系数线性微分方程"
   ]
  },
  {
   "cell_type": "markdown",
   "metadata": {},
   "source": [
    "### (1)$\\frac{d^4x}{dt^4}-5\\frac{d^2x}{dt^2}+4x=0$"
   ]
  },
  {
   "cell_type": "markdown",
   "metadata": {},
   "source": [
    "解：其特征方程为$F(\\lambda)=\\lambda^4-5\\lambda^2+4=0\\implies \\lambda_1=1,\\lambda_2=-1,\\lambda_3=2,\\lambda_4=-2$\n",
    "\n",
    "∴该齐次线性微分方程通解为$x=c_1e^t+c_2e^{-t}+c_3e^{2t}+c_4e^{-2t}$（$c_j$为任意常数$j=1、2、3、4$）"
   ]
  },
  {
   "cell_type": "markdown",
   "metadata": {},
   "source": [
    "### (3)$\\frac{d^5x}{dt^5}-4\\frac{d^3x}{dt^3}=0$"
   ]
  },
  {
   "cell_type": "markdown",
   "metadata": {},
   "source": [
    "解：其特征方程为$F(\\lambda)=\\lambda^5-4\\lambda^3=0\\implies \\lambda_1=2,\\lambda_2=-2,\\lambda_3=0$（三重）\n",
    "\n",
    "∴该齐次线性微分方程通解为$x=c_1e^{2t}+c_2e^{-2t}+c_3+c_4t+c_5t^2$（$c_j$为任意常数$j=1、2、3、4、5$）"
   ]
  },
  {
   "cell_type": "markdown",
   "metadata": {},
   "source": [
    "### (5)$\\frac{d^2s}{dt^2}-a^2s=t+1$"
   ]
  },
  {
   "cell_type": "markdown",
   "metadata": {},
   "source": [
    "解：考察齐次线性微分方程$\\frac{d^2s}{dt^2}-a^2s=0$\n",
    "\n",
    "其特征方程为$F(\\lambda)=\\lambda^2-a^2=0\\implies\\lambda_1=a,\\lambda_2=-a（a\\neq 0）$\n",
    "\n",
    "∴该齐次线性微分方程的基本解组为$e^{at},e^{-at}$，设原方程通解为$x=c_1(t)e^{at}+c_2(t)e^{-at}$逐次微分此式，得\n",
    "\n",
    "$\\begin{cases}c_1'(t)e^{at}+c_2'(t)e^{-at}=0\\\\c_1'(t)ae^{at}-c_2'(t)ae^{-at}=t+1\\end{cases}\\implies$\n",
    "\n",
    "$\\begin{cases}c_1'(t)=\\frac{t+1}{2ae^{at}}\\\\c_2'(t)=-\\frac{t+1}{2ae^{-at}}\\end{cases}$\n",
    "\n",
    "则原方程通解为$x=e^{at}\\int_0^t\\frac{s+1}{2ae^{as}}ds-e^{-at}\\int_0^t\\frac{s+1}{2ae^{-as}}ds(a\\neq 0)$\n",
    "\n",
    "$a=0$时，该齐次线性微分方程的基本解组为$1,t$设原方程通解为$x=c_1(t)+c_2(t)t$逐次微分此式，得\n",
    "\n",
    "$\\begin{cases}c_1'(t)+c_2'(t)t=0\\\\c_2'(t)=t+1\\end{cases}\\implies$\n",
    "\n",
    "$\\begin{cases}c_1'(t)=-t^2-t\\\\c_2'(t)=t+1\\end{cases}$\n",
    "\n",
    "∴原方程通解为$x=\\frac{t^3}{6}+\\frac{t^2}{2}$\n",
    "\n",
    "错误"
   ]
  },
  {
   "cell_type": "markdown",
   "metadata": {},
   "source": [
    "### (6)$\\frac{d^3x}{dt^3}-4\\frac{d^2x}{dt^2}+5\\frac{dx}{dt}-2x=2t+3$"
   ]
  },
  {
   "cell_type": "markdown",
   "metadata": {},
   "source": [
    "解：考察齐次线性微分方程$\\frac{d^3x}{dt^3}-4\\frac{d^2x}{dt^2}+5\\frac{dx}{dt}-2x=0$\n",
    "\n",
    "\n",
    "其特征方程为$F(\\lambda)=\\lambda^3-4\\lambda^2+5\\lambda-2=0\\implies\\lambda_1=2,\\lambda_2=1$（二重）\n",
    "\n",
    "\n",
    "∴该齐次线性微分方程的基本解组为$e^{t},te^{t},e^{2t}$，设原方程通解为$x=c_1(t)e^{t}+c_2(t)te^{t}+c_3(t)e^{2t}$逐次微分此式，得\n",
    "\n",
    "$\\begin{cases}c_1'(t)e^t+c_2'(t)(te^t)+c_3'(t)e^{2t}=0\\\\c_1'(t)e^t+c_2'(t)(e^t+te^t)+c_3'(t)2e^{2t}=0\n",
    "\\\\c_1'(t)e^t+c_2'(t)(2e^t+te^t)+c_3'(t)4e^{2t}=2t+3\\end{cases}\\implies$\n",
    "\n",
    "$\\begin{cases}c_1'(t)=\\frac{2t^2+t-3}{e^t}\\\\c_2'(t)=-\\frac{2t+3}{e^t}\n",
    "\\\\c_3'(t)=\\frac{2t+3}{e^{2t}}\\end{cases}$\n",
    "\n",
    "∴原方程通解为$x=e^t\\int_0^t\\frac{2s^2+s-3}{e^s}ds-te^t\\int_0^t\\frac{2s+3}{e^s}ds+e^{2t}\\int_0^t\\frac{2s+3}{e^{2s}}ds$\n",
    "\n",
    "错误"
   ]
  },
  {
   "cell_type": "markdown",
   "metadata": {},
   "source": [
    "### (7)$\\frac{d^4x}{dt^4}-2\\frac{d^2x}{dt^2}+x=t^2-3$"
   ]
  },
  {
   "cell_type": "markdown",
   "metadata": {},
   "source": [
    "解：考察齐次线性微分方程$\\frac{d^4x}{dt^4}-2\\frac{d^2x}{dt^2}+x=0$\n",
    "\n",
    "其特征方程为$F(\\lambda)=\\lambda^4-2\\lambda^2+1=0\\implies\\lambda_1=1,\\lambda_2=-1$（均为二重）\n",
    "\n",
    "∵方程右端属于Ⅰ型$k=0,m=2$∴设特解为$x=ct^2+dt+e$，由比较系数法得$-4c+ct^2+dt+e=t^2-3\\implies c=1,d=0,e=1$\n",
    "\n",
    "∴原方程通解为$x=(c_1+c_2t)e^t+(c_3+c_4t)e^{-t}+t^2+1$"
   ]
  },
  {
   "cell_type": "markdown",
   "metadata": {
    "collapsed": true
   },
   "source": [
    "B"
   ]
  },
  {
   "cell_type": "code",
   "execution_count": null,
   "metadata": {
    "collapsed": true
   },
   "outputs": [],
   "source": []
  }
 ],
 "metadata": {
  "kernelspec": {
   "display_name": "SageMath 7.3",
   "language": "",
   "name": "sagemath"
  },
  "language_info": {
   "codemirror_mode": {
    "name": "ipython",
    "version": 2
   },
   "file_extension": ".py",
   "mimetype": "text/x-python",
   "name": "python",
   "nbconvert_exporter": "python",
   "pygments_lexer": "ipython2",
   "version": "2.7.10"
  }
 },
 "nbformat": 4,
 "nbformat_minor": 0
}
