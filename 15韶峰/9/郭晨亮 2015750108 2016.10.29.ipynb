{
 "cells": [
  {
   "cell_type": "markdown",
   "metadata": {},
   "source": [
    "#### 求解下列常系数线性微分方程"
   ]
  },
  {
   "cell_type": "markdown",
   "metadata": {},
   "source": [
    "（1）$x^{(4)}-5x\\prime \\prime +4x=0$"
   ]
  },
  {
   "cell_type": "markdown",
   "metadata": {},
   "source": [
    "解：特征方程\n",
    "\n",
    "$$\\lambda ^4-5\\lambda ^2+4=0$$\n",
    "\n",
    "$$\\lambda _1=2,\\lambda _2=-2,\\lambda _3=1,\\lambda _4=-1$$\n",
    "\n",
    "所以方程的解为\n",
    "\n",
    "$$x=c_1e^{2t}++c_2e^{-2t}+c_3e^t+c_4e^{-t}$$"
   ]
  },
  {
   "cell_type": "markdown",
   "metadata": {},
   "source": [
    "（2）$x^{(5)}-4x\\prime \\prime \\prime =0$"
   ]
  },
  {
   "cell_type": "markdown",
   "metadata": {},
   "source": [
    "解：特征方程为\n",
    "\n",
    "$$\\lambda ^5-4\\lambda ^3=0$$\n",
    "\n",
    "$$\\lambda _1=0,\\lambda _2=0,\\lambda _3=0,\\lambda _4=2,\\lambda _5=-2$$\n",
    "\n",
    "所以方程的解为\n",
    "\n",
    "$$x=c_1e^{2t}+c_2e^{-2t}+c_3t^2+c_4t+c_5$$"
   ]
  },
  {
   "cell_type": "markdown",
   "metadata": {},
   "source": [
    "（3）$s\\prime \\prime -a^2s=t+1$"
   ]
  },
  {
   "cell_type": "markdown",
   "metadata": {},
   "source": [
    "解：特征方程为\n",
    "\n",
    "$$\\lambda ^2-a^2=0$$\n",
    "\n",
    "$$\\lambda _1=a,\\lambda _2=-a$$\n",
    "\n",
    "当$a\\neq 0$时\n",
    "\n",
    "$$s=c_1e^{at}+c_2e^{-at}$$\n",
    "\n",
    "设$s\\prime =x+yt$\n",
    "\n",
    "$$x=y=-{1 \\over a^2}$$\n",
    "\n",
    "方程的解为\n",
    "\n",
    "$$s=c_1e^{at}+c_2e^{-at}-{1 \\over a^2}(t-1)$$\n",
    "\n",
    "当$a=0$时\n",
    "\n",
    "$$s\\prime \\prime =t+1$$\n",
    "\n",
    "方程的解为\n",
    "\n",
    "$$s=c_1+c_2t+{1 \\over 6}t^2(t+3)$$"
   ]
  },
  {
   "cell_type": "markdown",
   "metadata": {},
   "source": [
    "（4）$x\\prime \\prime \\prime -4x\\prime \\prime +5x\\prime -2x=2t+3$"
   ]
  },
  {
   "cell_type": "markdown",
   "metadata": {},
   "source": [
    "解：特征方程\n",
    "\n",
    "$$\\lambda ^3-4\\lambda ^2+5\\lambda -2=0$$\n",
    "\n",
    "$$\\lambda _1=1,\\lambda _2=1,\\lambda _3=2$$\n",
    "\n",
    "$$x=c_1e^t+c_2te^t+c_3e^{2t}$$\n",
    "\n",
    "设$x\\prime =ax+b$\n",
    "\n",
    "$$a=-4,b=-1$$\n",
    "\n",
    "方程的解为\n",
    "\n",
    "$$x=c_1e^t+c_2te^t+c_3e^{2t}-t-4$$"
   ]
  },
  {
   "cell_type": "markdown",
   "metadata": {},
   "source": [
    "（5）$x^{(4)}-2x\\prime \\prime +x=t^2-3$"
   ]
  },
  {
   "cell_type": "markdown",
   "metadata": {},
   "source": [
    "解：特征方程\n",
    "\n",
    "$$\\lambda ^4-2\\lambda ^2+1=0$$\n",
    "\n",
    "$$\\lambda _1=1,\\lambda _2=1,\\lambda _3=-1,\\lambda _4=-1$$\n",
    "\n",
    "$$x=c_1e^t+c_2te^t+c_3e^{-t}+c_4te^{-t}$$\n",
    "\n",
    "设$x\\prime =at^2+bt+c$\n",
    "\n",
    "$$a=1,b=0,c=1$$\n",
    "\n",
    "方程的解为\n",
    "\n",
    "$$x=c_1e^t+c_2te^t+c_3e^{-t}+c_4te^{-t}+t^2+1$$\n",
    "\n",
    "\n",
    "A"
   ]
  },
  {
   "cell_type": "code",
   "execution_count": null,
   "metadata": {
    "collapsed": true
   },
   "outputs": [],
   "source": []
  }
 ],
 "metadata": {
  "kernelspec": {
   "display_name": "Python 2",
   "language": "python",
   "name": "python2"
  },
  "language_info": {
   "codemirror_mode": {
    "name": "ipython",
    "version": 2
   },
   "file_extension": ".py",
   "mimetype": "text/x-python",
   "name": "python",
   "nbconvert_exporter": "python",
   "pygments_lexer": "ipython2",
   "version": "2.7.10"
  }
 },
 "nbformat": 4,
 "nbformat_minor": 0
}
