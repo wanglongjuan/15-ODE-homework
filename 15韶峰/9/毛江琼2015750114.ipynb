{
 "cells": [
  {
   "cell_type": "markdown",
   "metadata": {},
   "source": [
    "$P_{164}\\quad$2.求解下列常系数线性微分方程"
   ]
  },
  {
   "cell_type": "markdown",
   "metadata": {},
   "source": [
    "1)$x^{(4)}-5x^{\\prime\\prime}+4x=0$"
   ]
  },
  {
   "cell_type": "markdown",
   "metadata": {},
   "source": [
    "它的特征方程为：$$\\lambda^4-5\\lambda^2+4=0$$\n",
    "\n",
    "解得：$\\lambda=2$或$\\lambda=-2$或$\\lambda=1$或$\\lambda=-1$\n",
    "\n",
    "故方程的通解为:$$x=c_1e^{2t}+c_2e^{-2t}+c_3e^t+c_4e^{-t}$$\n",
    "\n",
    "其中：$c_1,c_2,c_3,c_4$均为任意常数"
   ]
  },
  {
   "cell_type": "markdown",
   "metadata": {},
   "source": [
    "3)$x^{(5)}-4x^{\\prime\\prime}=0$"
   ]
  },
  {
   "cell_type": "markdown",
   "metadata": {},
   "source": [
    "它的特征方程为：$$\\lambda^5-4\\lambda^2=0$$\n",
    "\n",
    "解得：$\\lambda=2$或$\\lambda=-2$或$\\lambda=0$(三重根)\n",
    "\n",
    "故方程的通解为:$$x=c_1e^{2t}+c_2e^{-2t}+c_3+c_4t+c_5t^2$$\n",
    "\n",
    "其中：$c_1,c_2,c_3,c_4,c_5$均为任意常数"
   ]
  },
  {
   "cell_type": "markdown",
   "metadata": {},
   "source": [
    "5)$s{\\prime\\prime}-a^2s=t+1$"
   ]
  },
  {
   "cell_type": "markdown",
   "metadata": {},
   "source": [
    "i).当$a\\neq0$时：\n",
    "\n",
    "它对应的齐次线性微分方程$s{\\prime\\prime}-a^2s=0$的特征方程为：$$\\lambda^2-a^2=0$$\n",
    "\n",
    "解得：$\\lambda=a$或$\\lambda=-a$\n",
    "\n",
    "通解为:$$x=c_1e^{at}+c_2e^{-at}$$\n",
    "\n",
    "这里：$f(t)=t+1,\\lambda=0$\n",
    "\n",
    "又$\\because$0不是方程的特征根，则可取：$$\\tilde x=At+B$$\n",
    "\n",
    "代入原方程：$-a^2(At+B)=t+1$，解得：$A=B=-\\frac{1}{a^2}$\n",
    "\n",
    "$\\therefore$方程的通解为：$$x=c_1e^{at}+c_2e^{-at}-\\frac{1}{a^2}t-\\frac{1}{a^2}$$\n",
    "\n",
    "其中$c_1,c_2$均为任意常数"
   ]
  },
  {
   "cell_type": "markdown",
   "metadata": {},
   "source": [
    "ii)当$a=0$时：\n",
    "\n",
    "原方程为：$s{\\prime\\prime}=t+1$,两边同时积分，可得：$s^{\\prime}=\\frac{1}{2}t^2+t+c_1$\n",
    "\n",
    "两边再同时积分，可得：$s=\\frac{1}{6}t^3+\\frac{1}{2}t^2+c_1t+c_2$\n",
    "\n",
    "其中$c_1.c_2$为任意常数"
   ]
  },
  {
   "cell_type": "markdown",
   "metadata": {},
   "source": [
    "6)$x^{\\prime\\prime\\prime}-4x^{\\prime\\prime}+5x^{\\prime}-2x=2t+3$"
   ]
  },
  {
   "cell_type": "markdown",
   "metadata": {},
   "source": [
    "它对应的齐次线性微分方程$x^{\\prime\\prime\\prime}-4x^{\\prime\\prime}+5x^{\\prime}-2x=0$的特征方程为：\n",
    "$$\\lambda^3-4\\lambda^2+5\\lambda-2=0$$\n",
    "\n",
    "解得：$\\lambda=2$或$\\lambda=1$(二重根)\n",
    "\n",
    "通解为:$$x=c_1e^{2t}+c_2e^t+c_3te^t$$\n",
    "\n",
    "这里：$f(t)=2t+3,\\lambda=0$\n",
    "\n",
    "又$\\because$0不是方程的特征根，则可取：$$\\tilde x=At+B$$\n",
    "\n",
    "代入原方程：$5A-2(At+B)=2t+3$，有：\n",
    "$$\\begin{cases}\n",
    "5A-2B=3\\\\\n",
    "-2A=2\n",
    "\\end{cases}$$\n",
    "得：\n",
    "$$\\begin{cases}\n",
    "A=-1\\\\\n",
    "B=-4\n",
    "\\end{cases}$$\n",
    "\n",
    "$\\therefore$方程的通解为：$$x=c_1e^{2t}+c_2e^t+c_3te^t-t-4$$\n",
    "\n",
    "其中$c_1,c_2,c_3$均为任意常数"
   ]
  },
  {
   "cell_type": "markdown",
   "metadata": {},
   "source": [
    "7)$x^{(4)}-2x^{\\prime\\prime}+x=t^2-3$"
   ]
  },
  {
   "cell_type": "markdown",
   "metadata": {},
   "source": [
    "它对应的齐次线性微分方程$x^{(4)}-2x^{\\prime\\prime}+x=0$的特征方程为：$$\\lambda^4-2\\lambda^2+1=0$$\n",
    "\n",
    "解得：$\\lambda=1$(二重根)或$\\lambda=-1$(二重根)\n",
    "\n",
    "通解为:$$x=c_1e^{-t}+c_2te^{-t}+c_3e^t+c_4te^t$$\n",
    "\n",
    "这里：$f(t)=t^2-3,\\lambda=0$\n",
    "\n",
    "又$\\because$0不是方程的特征根，则可取：$$\\tilde x=At^2+Bt+C$$\n",
    "\n",
    "代入原方程：$-4A+(At^2+Bt+C)=t^2-3$，有：\n",
    "$$\\begin{cases}\n",
    "-4A+C=-3\\\\\n",
    "B=0\\\\\n",
    "A=1\n",
    "\\end{cases}$$\n",
    "得：\n",
    "$$\\begin{cases}\n",
    "A=1\\\\\n",
    "B=0\\\\\n",
    "C=1\n",
    "\\end{cases}$$\n",
    "\n",
    "$\\therefore$方程的通解为：$$x=c_1e^{-t}+c_2te^{-t}+c_3e^t+c_4te^t+t^2+1$$\n",
    "\n",
    "其中$c_1,c_2,c_3，c_4$均为任意常数"
   ]
  },
  {
   "cell_type": "markdown",
   "metadata": {},
   "source": [
    "A"
   ]
  },
  {
   "cell_type": "code",
   "execution_count": null,
   "metadata": {
    "collapsed": true
   },
   "outputs": [],
   "source": []
  }
 ],
 "metadata": {
  "kernelspec": {
   "display_name": "SageMath 7.3",
   "language": "",
   "name": "sagemath"
  },
  "language_info": {
   "codemirror_mode": {
    "name": "ipython",
    "version": 2
   },
   "file_extension": ".py",
   "mimetype": "text/x-python",
   "name": "python",
   "nbconvert_exporter": "python",
   "pygments_lexer": "ipython2",
   "version": "2.7.10"
  }
 },
 "nbformat": 4,
 "nbformat_minor": 0
}
