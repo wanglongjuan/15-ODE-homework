{
 "cells": [
  {
   "cell_type": "markdown",
   "metadata": {},
   "source": [
    "# 习题2.3"
   ]
  },
  {
   "cell_type": "markdown",
   "metadata": {},
   "source": [
    "## 1、验证下列方程是恰当微分方程，并求出方程的解"
   ]
  },
  {
   "cell_type": "markdown",
   "metadata": {},
   "source": [
    "### (5)$(\\frac{1}{y}sin\\frac{x}{y}-\\frac{y}{x^2}cos\\frac{y}{x}+1)dx+(\\frac{1}{x}cos\\frac{y}{x}-\\frac{x}{y^2}sin\\frac{x}{y}+\\frac{1}{y^2})dy=0$"
   ]
  },
  {
   "cell_type": "markdown",
   "metadata": {},
   "source": [
    "解：将原方程记为$Mdx+Ndy=0$"
   ]
  },
  {
   "cell_type": "markdown",
   "metadata": {},
   "source": [
    "因为$$\\frac{\\partial N}{\\partial x}=-\\frac{1}{y^2}\\sin\\frac{x}{y}-\\frac{x}{y^3}\\cos\\frac{x}{y}-\\frac{1}{x^2}\\cos\\frac{y}{x}+\\frac{y}{x^3}\\sin\\frac{y}{x}$$"
   ]
  },
  {
   "cell_type": "markdown",
   "metadata": {},
   "source": [
    "$$\\frac{\\partial M}{\\partial y}=-\\frac{1}{y^2}sin\\frac{x}{y}-\\frac{x}{y^3}cos\\frac{x}{y}-\\frac{1}{x^2}cos\\frac{y}{x}+\\frac{y}{x^3}sin\\frac{y}{x}$$"
   ]
  },
  {
   "cell_type": "markdown",
   "metadata": {},
   "source": [
    "所以$$\\frac{\\partial M}{\\partial y}=\\frac{\\partial N}{\\partial x}$$"
   ]
  },
  {
   "cell_type": "markdown",
   "metadata": {},
   "source": [
    "恰当微分方程的通解为$\\int Mdx+\\int [N-\\frac{\\partial}{\\partial y}\\int Mdx]dy=C$"
   ]
  },
  {
   "cell_type": "markdown",
   "metadata": {},
   "source": [
    "且有$$\\int Mdx=\\sin\\frac{y}{x}-\\cos\\frac{x}{y}+x+C_1$$\n",
    "$$\\frac{\\partial}{\\partial y}\\int Mdx=\\frac{1}{x}\\cos\\frac{y}{x}-\\frac{x}{y^2}\\sin{xy}$$\n",
    "$$\\int [N-\\frac{\\partial}{\\partial y}\\int Mdx]dy=\\int \\frac{1}{y^2}dy=-\\frac{1}{y}+C_2$$\n",
    "所以通解为$$\\sin\\frac{y}{x}-\\cos\\frac{x}{y}+x-\\frac{1}{y}=C$$"
   ]
  },
  {
   "cell_type": "markdown",
   "metadata": {},
   "source": [
    "## 2、求下列方程的解"
   ]
  },
  {
   "cell_type": "markdown",
   "metadata": {},
   "source": [
    "### (10)$(ycosx-xsinx)dx+（ysinx+xcosx）dy=0$"
   ]
  },
  {
   "cell_type": "markdown",
   "metadata": {},
   "source": [
    "解：将原方程记为$Mdx+Ndy=0$\n",
    "$$\\frac{\\partial M}{\\partial y}=cosx\\neq\\frac{\\partial N}{\\partial x}=ycosx+cosx-xsinx$$\n",
    "所以不是恰当微分方程"
   ]
  },
  {
   "cell_type": "markdown",
   "metadata": {},
   "source": [
    "考虑仅与$y$有关的积分因子$\\mu$\n",
    "$$\\frac{\\frac{\\partial M}{\\partial y}-\\frac{\\partial N}{\\partial x}}{-M}=1=\\varphi(y)$$\n",
    "所以$$\\mu=e^{\\int \\varphi(y)dy}=e^y$$"
   ]
  },
  {
   "cell_type": "markdown",
   "metadata": {},
   "source": [
    "$\\mu Mdx+\\mu Ndy=0\\implies ye^{y}d(\\sin x)+e^{y}xd(\\cos x)+y\\sin xde^y+x\\cos xde^y=0\\\\\n",
    "\\implies ye^yd\\sin x+e^yd(x\\cos x-\\sin x)+\\sin xd(ye^y-e^y)+x\\cos xde^y=0\\\\\n",
    "\\implies (ye^y)d\\sin x+\\sin xd(ye^y-e^y)+e^yd(x\\cos x)+x\\cos xde^y=0\\\\\n",
    "\\implies d[\\sin x(ye^y-e^y)]+d[(x\\cos x)e^y]=0$"
   ]
  },
  {
   "cell_type": "markdown",
   "metadata": {},
   "source": [
    "所以方程的通解为$\\sin x(ye^y-e^y)+(x\\cos x)e^y=C$"
   ]
  },
  {
   "cell_type": "markdown",
   "metadata": {},
   "source": [
    "### (11)$x(4ydx+2xdy)+y^3(3ydx+5xdy)=0$"
   ]
  },
  {
   "cell_type": "markdown",
   "metadata": {},
   "source": [
    "解：原方程化为$(4xy+3y^4)dx+(2x^2+5xy^3)dy=0$记为$Mdx+Ndy=0$\n",
    "\n",
    "因为$$\\frac{\\partial M}{\\partial y}=4x+12y^3\\neq\\frac{\\partial N}{\\partial x}=4x+5y^3$$所以不为全微分方程"
   ]
  },
  {
   "cell_type": "markdown",
   "metadata": {},
   "source": [
    "$\\frac{dy}{dx}=\\frac{4xy+3y^4}{2x^2+5xy^3}$令$x=uy^3$"
   ]
  },
  {
   "cell_type": "markdown",
   "metadata": {},
   "source": [
    "所以$\\frac{dy}{dx}=\\frac{y^3du+3y^2udy}{dy}=-\\frac{2u^2y^6+5uy^6}{4uy^4+3y^4}\\\\\n",
    "\\implies\\frac{ydu}{dy}+3u=-\\frac{2u^2+5u}{4u+3}\\implies\\frac{ydu}{dy}=-\\frac{14u^2+14u}{4u+3}\\\\\n",
    "\\implies\\frac{(4u+3)du}{u^2+u}=-\\frac{14dy}{y}\\implies\\frac{3}{u}du+\\frac{1}{u+1}d(u+1)=-\\frac{14dy}{y}\\\\\n",
    "\\implies 3\\ln|u|+\\ln|u+1|=-14\\ln|y|+C\\implies |u^3(u+1)|=Cy^{-14}$\n",
    "\n",
    "将$x=uy^3$代入化简得通解为\n",
    "$$x^3(xy^2+y^5)=C$$"
   ]
  },
  {
   "cell_type": "markdown",
   "metadata": {},
   "source": [
    "**$A^+$**"
   ]
  },
  {
   "cell_type": "code",
   "execution_count": null,
   "metadata": {
    "collapsed": true
   },
   "outputs": [],
   "source": []
  }
 ],
 "metadata": {
  "kernelspec": {
   "display_name": "SageMath 7.3",
   "language": "",
   "name": "sagemath"
  },
  "language_info": {
   "codemirror_mode": {
    "name": "ipython",
    "version": 2
   },
   "file_extension": ".py",
   "mimetype": "text/x-python",
   "name": "python",
   "nbconvert_exporter": "python",
   "pygments_lexer": "ipython2",
   "version": "2.7.10"
  }
 },
 "nbformat": 4,
 "nbformat_minor": 0
}
