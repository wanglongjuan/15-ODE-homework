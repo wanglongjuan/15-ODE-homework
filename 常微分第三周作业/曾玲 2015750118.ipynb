{
 "cells": [
  {
   "cell_type": "markdown",
   "metadata": {},
   "source": [
    "***2016年9月12日***"
   ]
  },
  {
   "cell_type": "markdown",
   "metadata": {},
   "source": [
    "# $p_{48-50}$"
   ]
  },
  {
   "cell_type": "markdown",
   "metadata": {},
   "source": [
    "# 1.求下列方程的解："
   ]
  },
  {
   "cell_type": "markdown",
   "metadata": {},
   "source": [
    "## （4）$\\frac{\\mathrm dy}{\\mathrm dx}-\\frac{n}{x}y=e^xx^n$"
   ]
  },
  {
   "cell_type": "markdown",
   "metadata": {},
   "source": [
    "首先求出齐次线性方程\n",
    "\n",
    "$$\n",
    "\\frac{\\mathrm dy}{\\mathrm dx}-\\frac{n}{x}=0\n",
    "$$\n",
    "\n",
    "的通解,从\n",
    "\n",
    "$$\n",
    "\\frac{\\mathrm dy}{y}=\\frac{n}{x}\\mathrm dx\n",
    "$$\n",
    "\n",
    "\n",
    "得到齐次线性微分方程的通解\n",
    "\n",
    "$$y=cx^n\n",
    "$$\n",
    "\n",
    "再应用常数变易法求出非齐次线性微分方程的通解。为此，在上式中把 $c$ 看成 $x$ 的待定函数 $c(x)$,即\n",
    "\n",
    "$$\n",
    "y=c(x)x^n\n",
    "$$\n",
    "\n",
    "微分之，得到"
   ]
  },
  {
   "cell_type": "markdown",
   "metadata": {},
   "source": [
    "$$\n",
    "\\frac{\\mathrm dy}{\\mathrm dx}=\\frac{\\mathrm dc(x)}{\\mathrm dx}x^n+c(x)nx^{n-1}\n",
    "$$\n",
    "\n",
    "再联合\n",
    "\n",
    "$$\n",
    "\\frac{\\mathrm dy}{\\mathrm dx}-\\frac{n}{x}y=e^xx^n\n",
    "$$\n",
    "\n",
    "以及\n",
    "\n",
    "$$\n",
    "y=c(x)x^n\n",
    "$$\n",
    "\n",
    "得到\n",
    "\n",
    "$$\n",
    "dc(x)=e^xdx\n",
    "$$ \n",
    "\n",
    "积分之，求得\n",
    "\n",
    "$$\n",
    "c(x)=e^x+c_1\n",
    "$$\n",
    "\n",
    "因此，原方程的通解为\n",
    "\n",
    "$$\n",
    "y=x^n(e^x+c_1)(c_1为任意常数)\n",
    "$$"
   ]
  },
  {
   "cell_type": "markdown",
   "metadata": {},
   "source": [
    "## (15)$\\frac{\\mathrm dy}{\\mathrm dx}=\\frac{1}{xy+x^3y^3}$"
   ]
  },
  {
   "cell_type": "markdown",
   "metadata": {},
   "source": [
    "将微分方程改写成$$\\frac{dx}{dy}=xy+x^3y^3$$\n",
    "\n",
    "上式左右两边乘以$x^{-3}$得到$$\\frac{dx}{dy}x^{-3}=x^{-2}y+y^3$$\n",
    "\n",
    "令$z=x^{-2}$\n",
    "\n",
    "积分之，$$\\frac{dz}{dy}=-2x^{-3}\\frac{dx}{dy}$$\n",
    "\n",
    "最后得到$$\\frac{dz}{dy}=-2yz-2y^3$$此为非线性微分方程。\n",
    "\n",
    "$\\frac{dz}{dy}=-2yz$的通解为$z=ce^{-y^2}$,把c看成c(y),即$$z=c(y)e^{-y^2}$$\n",
    "\n",
    "通过常数变易法，得$$c（y）=y^2e^{-y^2}+c_1$$\n",
    "\n",
    "微分方程的解为$$(1-x^2+x^2y^2)e^{y^2}=c_1x^2$$其中，$c_1$ 为任意常数"
   ]
  },
  {
   "cell_type": "markdown",
   "metadata": {},
   "source": [
    "## (16)$y=e^x+\\int_0^x y(t)dt$"
   ]
  },
  {
   "cell_type": "markdown",
   "metadata": {},
   "source": [
    "将原方程等式两边x求导得到$$\\frac{\\mathrm dy}{\\mathrm dx}=e^x+y$$此为非齐次线性微分方程。\n",
    "\n",
    "首先可得齐次线性微分方程的通解为$$y=ce^x$$把c看成关于x的待定函数c(x),那么$$y=c(x)e^x$$微分之，得到$$\\frac{\\mathrm dy}{\\mathrm dx}=\\frac{\\mathrm c(x)}{\\mathrm dx}e^x+c(x)e^x$$ 通过常数变易法得到$$y=e^x(x+c_1)$$其中$c_1$为任意常数。"
   ]
  },
  {
   "cell_type": "markdown",
   "metadata": {},
   "source": [
    "## 7求解下列方程：\n",
    "（3）$y^\\prime\\sin x\\cos x-y-\\sin^3{x}=0$"
   ]
  },
  {
   "cell_type": "markdown",
   "metadata": {},
   "source": [
    "原方程改写为$$ \\frac {\\mathrm d y}{\\mathrm d x}=\\frac {1}{\\sin x \\cos x}y + \\frac {\\sin^2 x}{\\cos x}$$\n",
    "\n",
    "代入公式得$$ y = e^{\\int \\frac{1}{\\cos x \\sin x}}  (\\int \\frac {\\sin^2 x}{\\cos x}e^{\\int -\\frac{1}{\\cos x \\sin x}}  \\mathrm d x + \\tilde{c})$$\n",
    "\n",
    "如果$\\cos x = 0$,即$ x = \\frac {\\pi}{2} + k\\pi ,(k \\in Z)$\n",
    "则$ y = (-1)^{k+1}, （k \\in Z）$ ;\n",
    "\n",
    "如果$\\cos x \\neq 0$,即$ x \\neq \\frac {\\pi}{2} + k\\pi ,(k \\in Z)$\n",
    "\n",
    "$\\int \\frac{1}{\\cos x \\sin x}\\mathrm d x = \\int \\frac {1}{\\cos^2 x \\tan x}\\mathrm d x =\\int \\frac {\\mathrm d \\tan x}{\\tan x}=\\ln |\\tan x| ,$\n",
    "\n",
    "$ \\int \\frac {\\sin^2 x}{\\cos x}e^{\\int -\\frac{1}{\\cos x \\sin x}} \\mathrm d x =\\int \\frac {\\sin^2 x}{\\cos x}\\frac{1}{\\tan x} dx =\\int \\sin x \\mathrm d x = -\\cos x$\n",
    "\n",
    "$\\therefore  y = \\tan x c-\\sin x$"
   ]
  },
  {
   "cell_type": "markdown",
   "metadata": {},
   "source": [
    "# 解题过程不正确"
   ]
  },
  {
   "cell_type": "markdown",
   "metadata": {},
   "source": [
    "# $page_{60-61}$"
   ]
  },
  {
   "cell_type": "markdown",
   "metadata": {},
   "source": [
    "## 1、验证下列方程是恰当微分方程，并求出方程的解："
   ]
  },
  {
   "cell_type": "markdown",
   "metadata": {},
   "source": [
    "（5）$（\\frac{1}{y}\\sin \\frac{x}{y}-\\frac{y}{x^2}\\cos \\frac{y}{x}+1）\\mathrm dx+(\\frac{1}{x}\\cos \\frac{y}{x}-\\frac{x}{y^2}\\sin \\frac{x}{y}+\\frac{1}{y^2})\\mathrm dy=0$"
   ]
  },
  {
   "cell_type": "markdown",
   "metadata": {},
   "source": [
    "### 解："
   ]
  },
  {
   "cell_type": "markdown",
   "metadata": {},
   "source": [
    "令$M=（\\frac{1}{y}\\sin \\frac{x}{y}-\\frac{y}{x^2}\\cos \\frac{y}{x}+1）$   ,             $N=(\\frac{1}{x}\\cos \\frac{y}{x}-\\frac{x}{y^2}\\sin \\frac{x}{y}+\\frac{1}{y^2})$"
   ]
  },
  {
   "cell_type": "markdown",
   "metadata": {},
   "source": [
    "$\\frac{\\partial M}{\\partial y}=-\\frac{1}{y^2}\\sin \\frac{x}{y}-\\frac{x}{y^3}\\cos \\frac{x}{y}-\\frac{1}{x^2}\\cos \\frac{y}{x}+\\frac{y}{x^3}\\sin \\frac{y}{x}$  , $\\frac{\\partial N}{\\partial x}=-\\frac{1}{y^2}\\sin \\frac{x}{y}-\\frac{x}{y^3}\\cos \\frac{x}{y}-\\frac{1}{x^2}\\cos \\frac{y}{x}+\\frac{y}{x^3}\\sin \\frac{y}{x}$\n",
    "\n",
    "因此，该方程是恰当微分方程。"
   ]
  },
  {
   "cell_type": "markdown",
   "metadata": {},
   "source": [
    "把方程重新分项组合，得到$$d(\\sin \\frac{y}{x}-\\cos \\frac{x}{y}+x-\\frac{1}{y})=0$$所以，方程的解为$\\sin \\frac{y}{x}-\\cos \\frac{x}{y}+x-\\frac{1}{y}=c$(c为任意常数)"
   ]
  },
  {
   "cell_type": "markdown",
   "metadata": {},
   "source": [
    "## 2、求下列方程的解："
   ]
  },
  {
   "cell_type": "markdown",
   "metadata": {},
   "source": [
    "### （10）$(ycosx-xsinx)dx+(ysinx+xcosx)dy=0$"
   ]
  },
  {
   "cell_type": "markdown",
   "metadata": {},
   "source": [
    "该方程不是恰当微分方程。\n",
    "\n",
    "令$M=ycosx-xsinx  ,N=ysinx+xcosx$\n",
    "\n",
    "$-\\frac{\\frac{\\partial M}{\\partial y}-\\frac{\\partial N}{\\partial x}}{M}=1$\n",
    "\n",
    "所以$\\frac{du}{u}=dy,即u=e^y$\n",
    "\n",
    "所以$$e^y(ycosx-xsinx)dx+e^y(ysinx+xcosx)dy=0$$是恰当微分方程.\n",
    "\n",
    "令$M_0=e^y(ycosx-xsinx),N_0=e^y(ysinx+xcosx)$\n",
    "\n",
    "\n",
    "现在求v,使它同时满足$$\\begin{cases}\n",
    "\\frac{\\partial v}{\\partial x}=e^y(ycosx-xsinx)\\\\\n",
    "\\frac{\\partial v}{\\partial y}=e^y(ysinx+xcosx)\n",
    "\\end{cases}$$\n",
    "\n",
    "第一式对x求积分得，$$v=e^y(-ysinx+xcosx-sinx)+r(y)$$\n",
    "\n",
    "将得到的式子对y求导数，并使它满足第二式$$\\frac{\\partial v}{\\partial y}=e^y(-ysinx+xcosx-2sinx)+\\frac{dr(y)}{dy}=e^y(ysinx+xcosx)$$\n",
    "\n",
    "所以$$\\frac{dr(y)}{dy}=e^y(2sinx+2ysinx)$$\n",
    "\n",
    "积分之，$$r(y)=2sinxe^y(1+y)$$\n",
    "\n",
    "所以原方程的解为$$e^y(ysinx+xcosx-sinx)=c$$（c为任意常数）"
   ]
  },
  {
   "cell_type": "markdown",
   "metadata": {},
   "source": [
    "### （11）$x(4ydx+2xdy)+y^3(3ydx+5xdy)=0$"
   ]
  },
  {
   "cell_type": "markdown",
   "metadata": {},
   "source": [
    "将微分方程改写为$ (4xy+3y^4)\\mathrm dx+(2x^2+5xy^3)\\mathrm dy=0$\n",
    "\n",
    "$两边同乘以 x^2y 得 \\quad (4x^3y^2+3x^2y^5)\\mathrm dx+(2x^4y+5x^3y^4)\\mathrm dy=0$\n",
    "\n",
    "$\\therefore x^4y^2+x^3y^5=c (c是任意常数)。$\n"
   ]
  },
  {
   "cell_type": "markdown",
   "metadata": {
    "collapsed": true
   },
   "source": [
    "解题过程不正确"
   ]
  },
  {
   "cell_type": "markdown",
   "metadata": {},
   "source": [
    "**$B^+$**"
   ]
  },
  {
   "cell_type": "code",
   "execution_count": null,
   "metadata": {
    "collapsed": true
   },
   "outputs": [],
   "source": []
  }
 ],
 "metadata": {
  "kernelspec": {
   "display_name": "SageMath 7.3",
   "language": "",
   "name": "sagemath"
  },
  "language_info": {
   "codemirror_mode": {
    "name": "ipython",
    "version": 2
   },
   "file_extension": ".py",
   "mimetype": "text/x-python",
   "name": "python",
   "nbconvert_exporter": "python",
   "pygments_lexer": "ipython2",
   "version": "2.7.10"
  }
 },
 "nbformat": 4,
 "nbformat_minor": 0
}
