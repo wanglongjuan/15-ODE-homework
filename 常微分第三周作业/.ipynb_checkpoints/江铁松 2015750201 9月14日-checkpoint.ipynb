{
 "cells": [
  {
   "cell_type": "markdown",
   "metadata": {},
   "source": [
    "### 1、验证下列方程是恰当微分方程，并求出方程的解；"
   ]
  },
  {
   "cell_type": "markdown",
   "metadata": {},
   "source": [
    "(5)$$(\\frac{1}{y}sin\\frac{x}{y}-\\frac{y}{x^2}cos\\frac{y}{x}+1)dx+(\\frac{1}{x}cos\\frac{y}{x}-\\frac{x}{y^2}sin\\frac{x}\n",
    "{y}+\\frac{1}{y^2})dy=0$$"
   ]
  },
  {
   "cell_type": "markdown",
   "metadata": {},
   "source": [
    "解：$$\\frac{\\partial M}{\\partial y}=-\\frac{1}{y^2}sin\\frac{x}{y}-\\frac{x}{y^3}cos\\frac{x}{y}-\\frac{1}{x^2}cos\\frac{y}{x}+\\frac{y}{x^3}sin\\frac{y}{x}$$"
   ]
  },
  {
   "cell_type": "markdown",
   "metadata": {},
   "source": [
    "$$\\frac{\\partial N}{\\partial x}=-\\frac{1}{y^2}sin\\frac{x}{y}-\\frac{x}{y^3}cos\\frac{x}{y}-\\frac{1}{x^2}cos\\frac{y}{x}+\\frac{y}{x^3}sin\\frac{y}{x}$$"
   ]
  },
  {
   "cell_type": "markdown",
   "metadata": {},
   "source": [
    "所以$$\\frac{\\partial M}{\\partial y}=\\frac{\\partial N}{\\partial x}$$"
   ]
  },
  {
   "cell_type": "markdown",
   "metadata": {},
   "source": [
    "所以方程为恰当微分方程\n"
   ]
  },
  {
   "cell_type": "markdown",
   "metadata": {},
   "source": [
    "由恰当微分方程的通解$$\\int M(x,y)dx+\\int [N-\\frac{\\partial}{\\partial y}\\int M(x,y)dx]dy=c$$"
   ]
  },
  {
   "cell_type": "markdown",
   "metadata": {},
   "source": [
    "$$\\int M(x,y)dx=sin\\frac{y}{x}-cos\\frac{x}{y}+x+c_1$$\n",
    "$$\\frac{\\partial}{\\partial y}\\int M(x,y)dx=\\frac{1}{x}cos\\frac{y}{x}-\\frac{x}{y^2}sin{x}{y}$$\n",
    "$$\\int [N-\\frac{\\partial}{\\partial y}\\int M(x,y)dx]dy=\\int \\frac{1}{y^2}dy=-\\frac{1}{y}+c_2$$\n",
    "所以通解为$$sin\\frac{y}{x}-cos\\frac{x}{y}+x-\\frac{1}{y}=c$$"
   ]
  },
  {
   "cell_type": "markdown",
   "metadata": {},
   "source": [
    "### 2、求下列方程的解："
   ]
  },
  {
   "cell_type": "markdown",
   "metadata": {},
   "source": [
    "(10)$$(ycosx-xsinx)dx+（ysinx+xcosx）dy=0$$"
   ]
  },
  {
   "cell_type": "markdown",
   "metadata": {},
   "source": [
    "解：\n",
    "$$\\frac{\\partial M}{\\partial y}=cosx$$\n",
    "$$\\frac{\\partial N}{\\partial x}=ycosx+cosx-xsinx$$\n",
    "所以不是恰当微分方程"
   ]
  },
  {
   "cell_type": "markdown",
   "metadata": {},
   "source": [
    "$$\\frac{\\frac{\\partial M}{\\partial y}-\\frac{\\partial N}{\\partial x}}{-M}=1$$\n",
    "所以积分因子为$$e^y$$\n",
    "$$等式两边同乘以e^y得$$\n",
    "$$e^y(ycosx-xsinx)dx+e^y（ysinx+xcosx）dy=0$$\n",
    "此时$$\\frac{\\partial M}{\\partial y}=\\frac{\\partial N}{\\partial x}$$\n",
    "为恰当微分方程\n",
    "$$d[e^y(ysinx-sinx+xcosx)]=0$$\n",
    "所以通解为$$e^y(ysinx-sinx+xcosx)=c$$\n"
   ]
  },
  {
   "cell_type": "markdown",
   "metadata": {},
   "source": [
    "(11)$$x(4ydx+2xdy)+y^3(3ydx+5xdy)=0$$\n"
   ]
  },
  {
   "cell_type": "markdown",
   "metadata": {},
   "source": [
    "\n",
    "解：$$\\frac{dy}{dx}=-\\frac{y}{x}(\\frac{4x+3y^2}{2x+5y^3})=-\\frac{y}{x}\\frac{4+3\\frac{y^3}{x}}{2+5\\frac{y^3}{x}}$$"
   ]
  },
  {
   "cell_type": "markdown",
   "metadata": {},
   "source": [
    "令$$u=\\frac{y^3}{x}$$\n",
    "则$$y=u^{\\frac{1}{3}}x^{\\frac{1}{3}}$$\n",
    "带入原式整理得$$-(\\frac{2}{u}+\\frac{3}{u+1})du=\\frac{14}{x}dx$$\n",
    "两边积分得$$-\\int (\\frac{2}{u}+\\frac{3}{u+1})du=\\int\\frac{14}{x}dx$$\n",
    "$$ln|u^{-2}(u+1)^{-3}|=ln|x|^{14}+c_1$$\n",
    "$$u^{-2}(u+1)^{-3}=|x|^{14}c_2$$\n",
    "化简整理得通解$$x^3y^5+x^4y^2=c$$"
   ]
  },
  {
   "cell_type": "markdown",
   "metadata": {
    "collapsed": true
   },
   "source": [
    "**还有0解**"
   ]
  },
  {
   "cell_type": "markdown",
   "metadata": {},
   "source": [
    "**$A^-$**"
   ]
  },
  {
   "cell_type": "code",
   "execution_count": null,
   "metadata": {
    "collapsed": true
   },
   "outputs": [],
   "source": []
  }
 ],
 "metadata": {
  "kernelspec": {
   "display_name": "SageMath 7.3",
   "language": "",
   "name": "sagemath"
  },
  "language_info": {
   "codemirror_mode": {
    "name": "ipython",
    "version": 2
   },
   "file_extension": ".py",
   "mimetype": "text/x-python",
   "name": "python",
   "nbconvert_exporter": "python",
   "pygments_lexer": "ipython2",
   "version": "2.7.10"
  }
 },
 "nbformat": 4,
 "nbformat_minor": 0
}
