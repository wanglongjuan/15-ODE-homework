{
 "cells": [
  {
   "cell_type": "markdown",
   "metadata": {},
   "source": [
    "### 1、求下列方程的解："
   ]
  },
  {
   "cell_type": "markdown",
   "metadata": {},
   "source": [
    "(4)$$\\frac{dy}{dx}-\\frac{n}{x}y=e^xx^n(n为常数)$$"
   ]
  },
  {
   "cell_type": "markdown",
   "metadata": {},
   "source": [
    "解：$$\\frac{dy}{dx}=\\frac{n}{x}y+e^xx^n$$"
   ]
  },
  {
   "cell_type": "markdown",
   "metadata": {},
   "source": [
    "由通解的公式$$y=e^{\\int p(x)dx}(\\int Q(x)e^{-\\int p(x)dx}+c)$$\n",
    "所以$$e^{\\int p(x)dx}=e^\\int \\frac{n}{x}dx=e^{nln|x|}=|x|^n$$\n",
    "$$y=x^n(\\int e^xdx+c)=x^n(e^x+c)$$"
   ]
  },
  {
   "cell_type": "markdown",
   "metadata": {},
   "source": [
    "(15)$$\\frac{dy}{dx}=\\frac{1}{xy+x^3y^3}$$"
   ]
  },
  {
   "cell_type": "markdown",
   "metadata": {},
   "source": [
    "解：$$\\frac{dx}{dy}=yx+y^3x^3$$\n",
    "此方程为伯努利方程。\n",
    "$$\\frac{1}{x^3}\\frac{dx}{dy}=\\frac{1}{x^2}y+y^3$$\n",
    "令$$z=\\frac{1}{x^2}$$\n",
    "$$\\frac{dz}{dy}=\\frac{dx^{-2}}{dy}=-2x^{-3}\\frac{dx}{dy}$$\n",
    "$$\\frac{dx}{dy}=\\frac{-1}{2}\\frac{dz}{dy}x^3$$\n",
    "$$\\frac{1}{x^3}\\frac{dx}{dy}=\\frac{-1}{2}\\frac{dz}{dy}$$\n",
    "$$\\frac{dz}{dy}=-2yz-2y^3$$\n",
    "再由常数变易法：\n",
    "$$z=e^{\\int -2ydy}(-2y^3e^{\\int 2ydy+}+c)$$\n",
    "$$\\frac{1}{x^2}=e^{-y^2}(-y^2e^{y^2}+e^y+c)$$\n",
    "通解为：$$e^{y^2}(x^2y^2-x^2+1)=cx^2$$"
   ]
  },
  {
   "cell_type": "markdown",
   "metadata": {},
   "source": [
    "(16)$$y=e^x+\\int_0^x y(t)dt$$"
   ]
  },
  {
   "cell_type": "markdown",
   "metadata": {},
   "source": [
    "解：$$\\frac{dy}{dx}=e^x+y$$\n",
    "$$e^{\\int1dx}=e^x$$\n",
    "$$y=e^x(x+c)$$\n",
    "又因为过$$(0,1)$$,\n",
    "所以解为:$$y=e^x(x+1)$$"
   ]
  },
  {
   "cell_type": "markdown",
   "metadata": {},
   "source": [
    "7、求解下列方程\n",
    "（3）$$y^\\prime\\sin x \\cos x-y-\\sin^3x=0$$"
   ]
  },
  {
   "cell_type": "markdown",
   "metadata": {},
   "source": [
    "\n",
    "解：\n",
    "$$\\frac{dy}{dx}=\\frac{2}{\\sin 2x}y+2\\frac{\\sin ^3x}{\\sin 2x}$$\n",
    "解齐次方程$$\\frac{dy}{dx}=\\frac{2}{\\sin 2x}y$$\n",
    "得$$y_0=c(\\csc 2x-\\cot 2x)$$\n",
    "令$$y=c(x)(\\csc 2x-\\cot 2x)$$\n",
    "$$c'(x)(csc2x-cot2x)=\\frac{2sin^3x}{sin2x}$$\n",
    "$$c'(x)=\\frac{2sin^3x}{sin2x}\\frac{1}{csc2x-cot2x}$$\n",
    "$$=\\frac{2sin^3x}{sin2x}\\frac{sin2x}{2sin^2x}$$\n",
    "$$c'(x)=sinx$$\n",
    "$$c(x)=-cosx+c$$"
   ]
  },
  {
   "cell_type": "markdown",
   "metadata": {},
   "source": [
    "$$y=(csc2x-cot2x)(-cosx+c)$$\n",
    "$$y=ctanx-sinx$$\n",
    "当$$x=k\\pi+\\frac{\\pi}{2}$$时\n",
    "代入元方程得$$y=-sin^3x$$\n",
    "$$=(-1)^{k+1}$$\n",
    "所以通解为$$y=ctanx-sinx$$\n",
    "和$$y=-sin^3x  ,(x=k\\pi+\\frac{\\pi}{2})$$"
   ]
  },
  {
   "cell_type": "markdown",
   "metadata": {
    "collapsed": true
   },
   "source": []
  }
 ],
 "metadata": {
  "kernelspec": {
   "display_name": "SageMath 7.3",
   "language": "",
   "name": "sagemath"
  },
  "language_info": {
   "codemirror_mode": {
    "name": "ipython",
    "version": 2
   },
   "file_extension": ".py",
   "mimetype": "text/x-python",
   "name": "python",
   "nbconvert_exporter": "python",
   "pygments_lexer": "ipython2",
   "version": "2.7.10"
  }
 },
 "nbformat": 4,
 "nbformat_minor": 0
}
