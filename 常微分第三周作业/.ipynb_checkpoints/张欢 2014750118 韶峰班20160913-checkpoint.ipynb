{
 "cells": [
  {
   "cell_type": "markdown",
   "metadata": {},
   "source": [
    "# $$ 张欢** \\ 2014750118 \\ ** 数学韶峰班$$"
   ]
  },
  {
   "cell_type": "markdown",
   "metadata": {},
   "source": [
    "## Page 48 1-(4),(15),(16)"
   ]
  },
  {
   "cell_type": "markdown",
   "metadata": {},
   "source": [
    "## (4) $$ \\frac{dy}{dx}- \\frac{ny}{x}=e^xx^n$$"
   ]
  },
  {
   "cell_type": "markdown",
   "metadata": {},
   "source": [
    "**answer:**$$ \\frac{dy}{dx}= \\frac{ny}{x}+e^xx^n$$"
   ]
  },
  {
   "cell_type": "markdown",
   "metadata": {},
   "source": [
    "** use the general formula:**$$y=e^{ \\int\\frac{n}{x}dx}( \\int e^xx^ne^{ - \\int\\frac{n}{x}dx}dx+c) $$"
   ]
  },
  {
   "cell_type": "markdown",
   "metadata": {},
   "source": [
    "**then:**$$y=x^n(e^x+c)$$"
   ]
  },
  {
   "cell_type": "code",
   "execution_count": null,
   "metadata": {
    "collapsed": true
   },
   "outputs": [],
   "source": []
  },
  {
   "cell_type": "markdown",
   "metadata": {
    "collapsed": true
   },
   "source": [
    "# (15)$$ \\frac{dy}{dx}= \\frac{1}{xy+x^3y^3}$$"
   ]
  },
  {
   "cell_type": "markdown",
   "metadata": {
    "collapsed": true
   },
   "source": [
    "**answer:**$$ \\frac{dx}{dy}=xy+x^3y^3$$"
   ]
  },
  {
   "cell_type": "markdown",
   "metadata": {},
   "source": [
    "**then:**$$x^{\\ -3} \\ \\frac{dx}{dy}=yx^{(-2)}+y^3$$"
   ]
  },
  {
   "cell_type": "markdown",
   "metadata": {},
   "source": [
    "$$ -\\frac{1}{2} \\frac{dx^{(-2)}}{dy}=yx^{(-2)}+y^3$$"
   ]
  },
  {
   "cell_type": "markdown",
   "metadata": {},
   "source": [
    "**assuming:$z=x^{-2}$**$$ \\frac{dz}{dy}=-2yz-2y^3$$"
   ]
  },
  {
   "cell_type": "markdown",
   "metadata": {},
   "source": [
    "** use the general formula:**$$z=e^{- \\int 2ydy}( \\int -2y^3e^{ \\int 2ydy}dy+c)$$"
   ]
  },
  {
   "cell_type": "markdown",
   "metadata": {},
   "source": [
    "$$z=e^{-y^2}( \\int (-2y^3e^{y^2})dy+c)$$"
   ]
  },
  {
   "cell_type": "markdown",
   "metadata": {},
   "source": [
    "**then:**$$x^2(-y^2e^{y^2}+e^{y^2}+c)=e^{y^2}$$"
   ]
  },
  {
   "cell_type": "markdown",
   "metadata": {},
   "source": [
    "**so:**$$cx^2=(1-x^2+x^2y^2)e{y^2}$$"
   ]
  },
  {
   "cell_type": "markdown",
   "metadata": {
    "collapsed": true
   },
   "source": [
    "<font color=\"red\">$$cx^2=(1-x^2+x^2y^2)e^{y^2}$$"
   ]
  },
  {
   "cell_type": "markdown",
   "metadata": {},
   "source": [
    "# (16) $$y=e^x+ \\int_0^xy(t)dt$$"
   ]
  },
  {
   "cell_type": "markdown",
   "metadata": {},
   "source": [
    "**answer:**$$ \\frac{dy}{dx}=e^x+y$$"
   ]
  },
  {
   "cell_type": "markdown",
   "metadata": {},
   "source": [
    "** use the general formula:**$$y=e^{ \\int1 dx}( \\int(e^xe^{ -\\int1 dx})dx+c)$$"
   ]
  },
  {
   "cell_type": "markdown",
   "metadata": {},
   "source": [
    "**so:**$$y=e^x(x+c)$$"
   ]
  },
  {
   "cell_type": "markdown",
   "metadata": {},
   "source": [
    "<font color=\"red\">又根据$e^x（x+c）=e^x+\\int_0^xe^x(x+c)\\mathrm d x$\n",
    "\n",
    "得到$c=1$\n",
    "\n",
    "\n",
    "所以解为$y=e^x(x+1)$"
   ]
  },
  {
   "cell_type": "markdown",
   "metadata": {},
   "source": [
    "# Page 50-7 (3)"
   ]
  },
  {
   "cell_type": "markdown",
   "metadata": {},
   "source": [
    "## (3)$$y^{ \\prime}sinxcosx-y-(sinx)^3=0$$"
   ]
  },
  {
   "cell_type": "markdown",
   "metadata": {},
   "source": [
    "**answer:**$$ \\frac{dy}{dx}= \\frac{1}{sinxcosx}y+ \\frac{(sinx)^3}{sinxcosx}$$"
   ]
  },
  {
   "cell_type": "markdown",
   "metadata": {},
   "source": [
    "** use the general formula:**$$y=e^{ \\int \\frac{1}{sinxcosx}dx}( \\int \\frac{(sinx)^3}{sinxcosx}e^{ -\\int \\frac{1}{sinxcosx}dx}dx+c)$$"
   ]
  },
  {
   "cell_type": "markdown",
   "metadata": {},
   "source": [
    "$$y= \\frac{sinx}{cosx}( \\int sinxdx+c)$$"
   ]
  },
  {
   "cell_type": "markdown",
   "metadata": {},
   "source": [
    "**so:**$$y=ctanx-sinx \\ \\ \\ \\ \\ (cosx \\neq 0)$$"
   ]
  },
  {
   "cell_type": "markdown",
   "metadata": {},
   "source": [
    "**and then:**$$y=(-1)^{k+1},x=k \\pi+ \\frac{ \\pi}{2} \\ \\ \\ \\ k=1,2,3...$$"
   ]
  },
  {
   "cell_type": "markdown",
   "metadata": {
    "collapsed": false
   },
   "source": []
  },
  {
   "cell_type": "markdown",
   "metadata": {
    "collapsed": true
   },
   "source": []
  },
  {
   "cell_type": "markdown",
   "metadata": {},
   "source": [
    "# page60 1_(5) \n",
    "$$( \\frac{1}{y}sin \\frac{x}{y}- \\frac{y}{x^2}cos \\frac{y}{x}+1)dx+( \\frac{1}{x}cos \\frac{y}{x}- \\frac{x}{y^2}sin \\frac{x}{y}+ \\frac{1}{y^2})dy=0$$"
   ]
  },
  {
   "cell_type": "markdown",
   "metadata": {},
   "source": [
    "**solve:易验证其为全微分的表达形式，故设**$$ \\frac{ \\partial u}{ \\partial x}= \\frac{1}{y}sin \\frac{x}{y}- \\frac{y}{x^2}cos \\frac{y}{x}+1 \\ \\ \\ \\ ,\\frac{ \\partial u}{ \\partial y}=\\frac{1}{x}cos \\frac{y}{x}- \\frac{x}{y^2}sin \\frac{x}{y}+ \\frac{1}{y^2}$$"
   ]
  },
  {
   "cell_type": "markdown",
   "metadata": {},
   "source": [
    "**then:**$$u=-cos \\frac{x}{y}+sin \\frac{y}{x}+x+ \\theta(y)$$"
   ]
  },
  {
   "cell_type": "markdown",
   "metadata": {},
   "source": [
    "$$ \\frac{ \\partial u}{ \\partial y}=- \\frac{x}{y^2}sin \\frac{x}{y}+ \\frac{1}{x}cos \\frac{y}{x}+ {\\theta(y)}^{ \\prime}$$"
   ]
  },
  {
   "cell_type": "markdown",
   "metadata": {},
   "source": [
    "**so:**$${\\theta(y)}^{ \\prime}= \\frac{1}{y^2}$$"
   ]
  },
  {
   "cell_type": "markdown",
   "metadata": {},
   "source": [
    "$${\\theta(y)}=- \\frac{1}{y^2}+c$$"
   ]
  },
  {
   "cell_type": "markdown",
   "metadata": {},
   "source": [
    "**so:**$$u=u=-cos \\frac{x}{y}+sin \\frac{y}{x}+x- \\frac{1}{y^2}+c$$"
   ]
  },
  {
   "cell_type": "markdown",
   "metadata": {},
   "source": []
  },
  {
   "cell_type": "markdown",
   "metadata": {},
   "source": [
    "# Page61    2_(10)(11)"
   ]
  },
  {
   "cell_type": "markdown",
   "metadata": {},
   "source": [
    "# （10）$$(ycosx-xsinx)dx+(ysinx+xcosx)dy=0$$"
   ]
  },
  {
   "cell_type": "markdown",
   "metadata": {},
   "source": [
    "**令**$$a=ycosx-xsinx \\ \\ \\ \\ \\ \\ \\ \\ \\ b=ysinx+xcosx$$"
   ]
  },
  {
   "cell_type": "markdown",
   "metadata": {},
   "source": [
    "$$ \\frac{ \\frac{ \\partial a}{dy}- \\frac{ \\partial b}{dx}}{-a}=1$$"
   ]
  },
  {
   "cell_type": "markdown",
   "metadata": {},
   "source": [
    "**then:积分因子**$$u=e^{ \\int \\theta(y)dy}=ce^y$$"
   ]
  },
  {
   "cell_type": "markdown",
   "metadata": {},
   "source": [
    "**then:**$$ce^y(ycosx-xsinx)dx+ce^y(ysinx+xcosx)dy=0$$"
   ]
  },
  {
   "cell_type": "markdown",
   "metadata": {},
   "source": [
    "**then:just like(5),we can get the answer is**$$e^y(sinx(y-1)+xcosx)=c$$"
   ]
  },
  {
   "cell_type": "markdown",
   "metadata": {},
   "source": []
  },
  {
   "cell_type": "markdown",
   "metadata": {},
   "source": [
    "# (11)$$x(4ydx+2xdy)+y^3(3ydx+5xdy)=0$$"
   ]
  },
  {
   "cell_type": "markdown",
   "metadata": {},
   "source": [
    "**solve:两边同时乘以$x^2y$**$$4x^3y^2dx+2x^4ydy+3x^2y^5dx+5x^3y^4dy=0$$"
   ]
  },
  {
   "cell_type": "markdown",
   "metadata": {},
   "source": [
    "**then:**$$2d(x^4y^2+x^3y^5)=0$$"
   ]
  },
  {
   "cell_type": "markdown",
   "metadata": {},
   "source": [
    "**so the answer is:**$$x^4y^2+x^3y^5=c$$"
   ]
  },
  {
   "cell_type": "markdown",
   "metadata": {
    "collapsed": true
   },
   "source": [
    "**$B^+$**"
   ]
  },
  {
   "cell_type": "code",
   "execution_count": null,
   "metadata": {
    "collapsed": true
   },
   "outputs": [],
   "source": []
  }
 ],
 "metadata": {
  "kernelspec": {
   "display_name": "SageMath 7.3",
   "language": "",
   "name": "sagemath"
  },
  "language_info": {
   "codemirror_mode": {
    "name": "ipython",
    "version": 2
   },
   "file_extension": ".py",
   "mimetype": "text/x-python",
   "name": "python",
   "nbconvert_exporter": "python",
   "pygments_lexer": "ipython2",
   "version": "2.7.10"
  }
 },
 "nbformat": 4,
 "nbformat_minor": 0
}
