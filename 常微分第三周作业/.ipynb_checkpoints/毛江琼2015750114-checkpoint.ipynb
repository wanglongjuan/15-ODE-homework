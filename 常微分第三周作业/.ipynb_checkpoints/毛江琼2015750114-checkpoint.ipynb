{
 "cells": [
  {
   "cell_type": "markdown",
   "metadata": {},
   "source": [
    "习题2.2  $P_{49}$\n",
    "\n",
    "1.求下列方程的解\n",
    "\n",
    "(4).$\\frac{dy}{dx}-\\frac{n}{x}y=e^xx^n$\n",
    "\n",
    "$P(x)=\\frac{n}{x},Q(x)=e^xx^n$\n",
    "\n",
    "$\\int P(x)\\,dx=nln^x,\\int Q(x)e^{-\\int P(x)\\,dx}\\,dx=e^x$\n",
    "\n",
    "代入公式可得：$y=e^{\\int P(x)\\,dx}(\\int Q(x)e^{-\\int P(x)\\,dx}\\,dx+c)=x^n(e^x+c)$(以下默认$c$为常数)"
   ]
  },
  {
   "cell_type": "markdown",
   "metadata": {},
   "source": [
    "(15).$\\frac{dy}{dx}=\\frac{1}{xy+x^3y^3}$\n",
    "\n",
    "$\\frac{dx}{dy}=xy+x^3y^3$\n",
    "\n",
    "这是 $n=3$ 时的伯努利方程，令$z=x^{-2},\\frac{dz}{dy}=-2x^{-3}\\frac{dx}{dy}$\n",
    "\n",
    "又原式可化为：$\\frac{1}{x^3}\\frac{dx}{dy}=\\frac{Xy}{x^3}+y^3$\n",
    "\n",
    "所以：$\\frac{dz}{dy}=-\\frac{2y}{x^2}-2y^3,P(y)=-2y,Q(y)=-2y^3$\n",
    "\n",
    "代入公式$y=e^{\\int P(x)\\,dx}(\\int Q(x)e^{-\\int P(x)\\,dx}\\,dx+c)$得\n",
    "\n",
    "$z=-y^2+1+ce^{-y^2},e^{y^2}(1-x^2+x^2y^2)=cx^2$"
   ]
  },
  {
   "cell_type": "markdown",
   "metadata": {},
   "source": [
    "(16).$y=e^x+\\int_0^x y(t)\\,dt$\n",
    "\n",
    "等式两边同时对$x$求导：$\\frac{dy}{dx}=e^x+y,P(x)=1,Q{x}=e^x$\n",
    "\n",
    "代入公式$y=e^{\\int P(x)\\,dx}(\\int Q(x)e^{-\\int P(x)\\,dx}\\,dx+c)$得：\n",
    "\n",
    "$y=e^x(x+c)$,代入原方程：$e^x(x+c)=e^x+\\int_0^x e^t(t+c)\\,dt=e^x(x+c)+c-1,c=1$\n",
    "\n",
    "所以原方程的解为：$y=e^x(x+1)$"
   ]
  },
  {
   "cell_type": "markdown",
   "metadata": {},
   "source": [
    "7.求解下列方程\n",
    "\n",
    "(3).$y\\prime sinxcosx-y-sin^3x=0$\n",
    "\n",
    "$\\frac{dy}{dx}=\\frac{2y}{sin2x}-\\frac{sin^2x}{cos^2x},P(x)=\\frac{2}{si2x},Q(x)=\\frac{sin^2x}{cosx}$\n",
    "\n",
    "代入公式$y=e^{\\int P(x)\\,dx}(\\int Q(x)e^{-\\int P(x)\\,dx}\\,dx+c)$得：\n",
    "\n",
    "$y=ctanx-sinx$"
   ]
  },
  {
   "cell_type": "markdown",
   "metadata": {},
   "source": [
    "**还有其它解**"
   ]
  },
  {
   "cell_type": "markdown",
   "metadata": {},
   "source": [
    "习题2.3$P_{60}$\n",
    "\n",
    "1.验证下列方程是恰当微分方程，并求出方程的解\n",
    "\n",
    "(5).$(\\frac{1}{y}sin\\frac{x}{y}-\\frac{y}{x}cos\\frac{y}{x}+1)dx+(\\frac{1}{x}cos\\frac{y}{x}-\\frac{x}{y^2}sin\\frac{x}{y}+\\frac{1}{y^2})dy=0$\n",
    "\n",
    "$M=(\\frac{1}{y}sin\\frac{x}{y}-\\frac{y}{x}cos\\frac{y}{x}+1,\n",
    "N=(\\frac{1}{x}cos\\frac{y}{x}-\\frac{x}{y^2}sin\\frac{x}{y}+\\frac{1}{y^2})$\n",
    "\n",
    "因为$\\frac{dM}{dy}=\\frac{dN}{dx}=-\\frac{1}{y^2}sin\\frac{x}{y}-\\frac{x}{y^3}cos\\frac{x}{y}-\\frac{1}{x^2}cos\\frac{y}{x}+\\frac{y}{x^3}sin\\frac{y}{x}$,所以方程为恰当方程。\n",
    "\n",
    "$\\int {M(x,y)}\\,dx=-cos\\frac{x}{y}+sin\\frac{y}{x}+x+h(y)$\n",
    "\n",
    "$\\frac{d}{dy}\\int {M(x,y)}\\,dx=-\\frac{x}{y^2}sin\\frac{x}{y}+\\frac{1}{x}cos\\frac{y}{x}+h^\\prime(y)=\n",
    "(\\frac{1}{x}cos\\frac{y}{x}-\\frac{x}{y^2}sin\\frac{x}{y}+\\frac{1}{y^2})$\n",
    "\n",
    "解得：$h(y)=-\\frac{1}{y}$\n",
    "\n",
    "所以，原方程的解为：$-cos\\frac{x}{y}+sin\\frac{y}{x}+x-\\frac{1}{y}=C$"
   ]
  },
  {
   "cell_type": "markdown",
   "metadata": {},
   "source": [
    "2.求下列方程的解\n",
    "\n",
    "(10).$(ycosx-xsinx)dx+(ysinx+xcosx)dy=0$\n",
    "\n",
    "$M=ycosx-xsinx,N=ysinx+xcosx$\n",
    "\n",
    "因为 $\\frac{dM}{dy}=cosx,\\frac{dN}{dx}=ycosx+cosx-xsinx$\n",
    "\n",
    "所以方程为非恰当方程\n",
    "\n",
    "$\\frac{\\frac{dM}{dy}-\\frac{dN}{dx}}{-M}=1$,方程有积分因子\n",
    "\n",
    "$\\mu=e^{\\int 1\\,dx}=e^x$\n",
    "\n",
    "方程两边同乘 $\\mu$ 得：$e^x(ycosx-xsinx)dx+e^x(ysinx+xcosx)dy=0$\n",
    "\n",
    "代入公式 $\\int {M(x,y)}\\,dx+\\int{[N-\\frac{d}{dy}\\int M(x,y)\\,dx]}\\,dy=C$ 得：\n",
    "\n",
    "原方程的解为 $e^xsin(y-1)+e^ycosx=C$"
   ]
  },
  {
   "cell_type": "markdown",
   "metadata": {
    "collapsed": true
   },
   "source": [
    "(11).$x(4ydx+2xdy)+y^3(3ydx+5xdy)=0$\n",
    "\n",
    "两边同乘以 $x^2y$ 得：$4x^3y^2dx+2x^4ydy+3x^2y^5dx+5x^3y^4dy=0$\n",
    "\n",
    "即：$y^2dx^4+x^4dy^2+y^5dx^3+x^3dy^5=0$\n",
    "\n",
    "故原方程的解为：$x^4y^2+y^5x^3+x^3y^5=C$\n",
    "**还有0解**"
   ]
  },
  {
   "cell_type": "markdown",
   "metadata": {
    "collapsed": true
   },
   "source": [
    "**$B^+$**"
   ]
  },
  {
   "cell_type": "code",
   "execution_count": null,
   "metadata": {
    "collapsed": true
   },
   "outputs": [],
   "source": []
  }
 ],
 "metadata": {
  "kernelspec": {
   "display_name": "SageMath 7.3",
   "language": "",
   "name": "sagemath"
  },
  "language_info": {
   "codemirror_mode": {
    "name": "ipython",
    "version": 2
   },
   "file_extension": ".py",
   "mimetype": "text/x-python",
   "name": "python",
   "nbconvert_exporter": "python",
   "pygments_lexer": "ipython2",
   "version": "2.7.10"
  }
 },
 "nbformat": 4,
 "nbformat_minor": 0
}
