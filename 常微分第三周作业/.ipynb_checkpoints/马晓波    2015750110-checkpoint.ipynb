{
 "cells": [
  {
   "cell_type": "markdown",
   "metadata": {},
   "source": [
    "**九月十二号 ** "
   ]
  },
  {
   "cell_type": "markdown",
   "metadata": {},
   "source": [
    "**1求下列方程的解**"
   ]
  },
  {
   "cell_type": "markdown",
   "metadata": {},
   "source": [
    "（4）$\\frac{\\mathrm dy}{\\mathrm dx}-\\frac{n}{x}y=e^xx^n$\n",
    "\n",
    "解：先求出齐次线性微分方程 $\\frac{\\mathrm dy}{\\mathrm dx}-\\frac{n}{x}y=0\\quad<1>$\n",
    "\n",
    "的通解为$$y=cx^n$$\n",
    "\n",
    "设 $y=C(x)x^n$,两边求导得$$y^\\prime=C(x)^\\prime x^n+nC(x)x^{n-1}$$\n",
    "\n",
    "代入 <1> 式化简得$$C(x)^\\prime x^n=e^xx^n$$\n",
    "\n",
    "$所以 C(x)=e^x+c$\n",
    "\n",
    "$因此 y=(e^x+c)x^n$"
   ]
  },
  {
   "cell_type": "markdown",
   "metadata": {},
   "source": [
    "(15)**$\\frac{\\mathrm dy}{\\mathrm dx}=\\frac{1}{xy+x^3y^3}$**\n",
    "\n",
    "解：由题得$$\\frac{\\mathrm dx}{\\mathrm dy}=xy+x^3y^3$$\n",
    "\n",
    "令 $z=x^{-2}$ 则$$\\quad\\frac{\\mathrm dz}{\\mathrm dy}=-2yz-2y^3\\quad\\quad<1>$$\n",
    "\n",
    "解齐次线性微分方程$$\\quad\\frac{\\mathrm dz}{\\mathrm dy}=-2yz$$\n",
    "\n",
    "的通解为$$z=ce^{-y^2}$$\n",
    "\n",
    "设 $z=C(x)e^{-y^2}\\quad\\quad<2>$ 两边求导得$$z^\\prime=C^\\prime(x)e^{-y^2}-2yC(x)e^{-y^2}$$\n",
    "\n",
    "代入 $<1>$ 式化简得$$C^\\prime(x)=-2y^3e^{y^2}+c$$\n",
    "\n",
    "$$C(x)=(1-y^2)e^{y^2}+c]e^{-y^2}$$\n",
    "\n",
    "代入 $<2>$ 式得方程的解为$$z=[(1-y^2)e^{y^2}+c]e^{-y^2}]e^{y^2}=x^{-2}$$\n",
    "\n",
    "化简得$$(1-x^2+x^2y^2)e^{y^2}=cx^2$$"
   ]
  },
  {
   "cell_type": "markdown",
   "metadata": {},
   "source": [
    "(16)**$\\frac{\\mathrm dy}{\\mathrm dx}=e^x+\\int_0^xy(t)dt$**\n",
    "\n",
    "两边求导得 $$y^\\prime=e^x+y(x)$$\n",
    "\n",
    "两边同乘以 $e^{-x}$ 并移项得 $$e^{-x}y^\\prime-e^{-x}y(x)=1\\quad 即\\quad [e^{-x}y(x)]^\\prime=1$$\n",
    "\n",
    "$\\therefore\\quad e^{-x}y(x)=x+c\\quad y=e^x(x+c)$\n",
    "\n",
    "$\\because\\quad y(0)=c=1$\n",
    "\n",
    "$\\therefore\\quad 方程的解为\\quad y=e^x(x+1)$"
   ]
  },
  {
   "cell_type": "markdown",
   "metadata": {},
   "source": [
    "**7解下列方程**\n",
    "\n",
    "**（3）$y^\\prime sinxcosx-y-sin^3x=0$**\n",
    "\n",
    "解：(a)当 $sinxcosx\\neq0\\quad 即 x\\neq\\frac{k\\pi}{2}\\quad k\\in Z$ 时\n",
    "\n",
    "由题得 $y^\\prime =\\frac{y}{sinxcosx}+\\frac{sin^2x}{cosx}\\quad<1>$\n",
    "\n",
    "求出其次线性微分方程 $$y^\\prime =\\frac{y}{sinxcosx}$$\n",
    "\n",
    "的通解为 $$y=ctanx$$\n",
    "\n",
    "设 $y=C(x)tanx\\quad <2>$ 两边求导得 $$y^\\prime =C^\\prime(x)tanx+C(x)csc^2x$$\n",
    "\n",
    "代入 $<1>$ 式化简得 $$C^\\prime(x)tanx=\\frac{sin^2x}{cosx}$$\n",
    "\n",
    "$$\\therefore C^\\prime(x)=sinx$$\n",
    "\n",
    "$$\\therefore C(x)=c-cosx$$\n",
    "\n",
    "代入 $<2>$ 式得方程的解为 $$\\quad y=ctanx-sinx$$\n",
    "\n",
    "(b)$$ x=\\frac{k\\pi}{2},k\\in Z$$\n",
    "\n",
    "若 $x=k\\pi,则y=0\\quad满足\\quad y=ctanx-sinx$\n",
    "\n",
    "若 $x=\\frac{k\\pi}{2}+k\\pi,则 y=-sin^3x=(-1)^{k+1}\\quad\\therefore解为\\quad (x,y)=(k\\pi+\\frac{\\pi}{2},(-1)^{k+1})$\n",
    "\n",
    "故方程的解为\n",
    "$$\\begin{cases}\n",
    "y=ctanx-sinx\\quad\\quad x\\neq\\frac{k\\pi}{2}+k\\pi,\\quad k\\in Z\\\\\n",
    "(x,y)=(k\\pi+\\frac{\\pi}{2},(-1)^{k+1})\\quad\\quad x=\\frac{k\\pi}{2}+k\\pi,\\quad k\\in Z\\\\\n",
    "\\end{cases}\n",
    "$$"
   ]
  },
  {
   "cell_type": "markdown",
   "metadata": {},
   "source": [
    "**9月14日**"
   ]
  },
  {
   "cell_type": "markdown",
   "metadata": {},
   "source": [
    "**1验证下列方程是恰当微分方程，并求解**\n",
    "\n",
    "$<5>(\\frac{1}{y}sin\\frac{x}{y}-\\frac{y}{x^2}cos\\frac{y}{x}+1)\\mathrm dx+(\\frac{1}{x}cos\\frac{y}{x}-\\frac{x}{y^2}sin\\frac{x}{y}+\\frac{1}{y^2})\\mathrm dy=0$\n",
    "\n",
    "解：由题得\n",
    "$$\n",
    "\\begin{aligned}\n",
    "-dcos\\frac{x}{y}+dsin \\frac{y}{x}+dx+dsin\\frac{y}{x}-dcos\\frac{x}{y}-d\\frac{1}{y}&=0\\\\\n",
    "\\therefore -dcos\\frac{x}{y}+dsin \\frac{y}{x}+dx-d\\frac{1}{y}&=0\\\\\n",
    "\\therefore -cos\\frac{x}{y}+sin \\frac{y}{x}+x-\\frac{1}{y}&=c\\\\\n",
    "\\end{aligned}\n",
    "$$"
   ]
  },
  {
   "cell_type": "markdown",
   "metadata": {},
   "source": [
    "2.求下列方程的解\n",
    "\n",
    "$<10>(ycosx-xsinx)\\mathrm dx+(ysinx+xcosx)\\mathrm dy=0$\n",
    "\n",
    "$解：由题得 M(x,y)=ycosx-xsinx\\quad N(x,y)=ysinx+xcosx$\n",
    "\n",
    "$\\therefore\\frac{\\frac{\\partial M}{\\partial y}-\\frac{\\partial N}{\\partial x}}{-M}=1$\n",
    "\n",
    "$\\therefore u=e^{\\int_0^ydy}=e^y$\n",
    "\n",
    "原式两边同乘以u得 $$e^y(ycosx-xsinx)\\mathrm dx+e^y(ysinx+xcosc)\\mathrm dy=0$$\n",
    "$$\\therefore e^ysinx(y-1)+e^yxcosx=c$$\n",
    "\n",
    "$<11>x(4y\\mathrm dx+2x\\mathrm dy)+y^3(3y\\mathrm dx+5x\\mathrm dy)=0$\n",
    "\n",
    "$解：由题得: (4xy+3y^4)\\mathrm dx+(2x^2+5xy^3)\\mathrm dy=0$\n",
    "\n",
    "$两边同乘以下 x^2y 得 \\quad (4x^3y^2+3x^2y^5)\\mathrm dx+(2x^4y+5x^3y^4)\\mathrm dy$\n",
    "\n",
    "$\\therefore x^4y^2+x^3y^5=c \\quad c是任意常数。$"
   ]
  },
  {
   "cell_type": "markdown",
   "metadata": {},
   "source": [
    "**$A^+$**"
   ]
  },
  {
   "cell_type": "code",
   "execution_count": null,
   "metadata": {
    "collapsed": true
   },
   "outputs": [],
   "source": []
  }
 ],
 "metadata": {
  "kernelspec": {
   "display_name": "Python 2",
   "language": "python",
   "name": "python2"
  },
  "language_info": {
   "codemirror_mode": {
    "name": "ipython",
    "version": 2
   },
   "file_extension": ".py",
   "mimetype": "text/x-python",
   "name": "python",
   "nbconvert_exporter": "python",
   "pygments_lexer": "ipython2",
   "version": "2.7.10"
  }
 },
 "nbformat": 4,
 "nbformat_minor": 0
}
