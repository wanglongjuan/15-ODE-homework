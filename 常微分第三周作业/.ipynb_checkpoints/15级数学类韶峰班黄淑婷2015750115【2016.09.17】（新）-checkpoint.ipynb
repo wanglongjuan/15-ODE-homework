{
 "cells": [
  {
   "cell_type": "markdown",
   "metadata": {},
   "source": [
    "# 常微分作业2—数学类韶峰班 黄淑婷（2015750115）"
   ]
  },
  {
   "cell_type": "markdown",
   "metadata": {},
   "source": [
    "##  1 求下列方程的解"
   ]
  },
  {
   "cell_type": "markdown",
   "metadata": {},
   "source": [
    "(4)$\\frac{\\mathrm dy}{\\mathrm dx}-\\frac{\\mathrm n}{\\mathrm x}y=e^xx^n$"
   ]
  },
  {
   "cell_type": "markdown",
   "metadata": {},
   "source": [
    "* 先求齐次线性微分方程$\\frac{\\mathrm dy}{\\mathrm dx}-\\frac{n}{x}y=0$的通解\n",
    "* 从$\\frac{\\mathrm dy}{y}=\\frac{n}{x}\\mathrm dx$得到其次线性微分方程的通解\n",
    "* $y=cx^n$\n",
    "* 其次应用常数变易法求非齐次线性微分方程的通解.为此，在上式中把 $c$ 看成为 $x$ 的待定函数 $c（x）$,即\n",
    "* $y=c(x)x^n$     (1)\n",
    "* 微分之，得到\n",
    "* $\\frac{\\mathrm dy}{\\mathrm dx}=\\frac{\\mathrm dc(x)}{\\mathrm dx}x^n+nx^{n-1}c(x)$     (2)\n",
    "* 将（1）（2）式代入题目得：$\\frac{\\mathrm dc(x)}{\\mathrm dx}=e^x$\n",
    "* 积分之，得到：$c(x)=e^x+c_1$\n",
    "* 因此，以所求的 $c(x)$ 代入（1）式，即得原方程的通解为：$y=x^n(e^x+c_1)$\n",
    "* 这里 $c_1$ 为任意常数"
   ]
  },
  {
   "cell_type": "markdown",
   "metadata": {},
   "source": [
    "(15)$\\frac{\\mathrm dy}{\\mathrm dx}=\\frac{1}{\\mathrm xy+x^3y^3}$"
   ]
  },
  {
   "cell_type": "markdown",
   "metadata": {},
   "source": [
    "* 令 $u=y^2$ 则原式变为 $\\frac{\\mathrm du}{\\mathrm dx}=\\frac{2}{\\mathrm (x+xu)}$\n",
    "* 变形为 $\\frac{\\mathrm dx}{\\mathrm du}=\\frac{\\mathrm x}{2}+\\frac{\\mathrm u}{2}x^3$\n",
    "* 这是 $n=2$ 时的伯努利方程，变形为 $x^{-3}\\frac{\\mathrm dx}{\\mathrm du}=x^{-2}\\frac{\\mathrm x}{2}+\\frac{\\mathrm u}{2}$\n",
    "* 令 $z=x^{-2}$ ,则有 $\\frac{\\mathrm dz}{\\mathrm du}=-2x^{-3}\\frac{\\mathrm dx}{\\mathrm du}$\n",
    "* 代入 $\\frac{\\mathrm dx}{\\mathrm du}$ 的表达式有：$\\frac{\\mathrm dz}{\\mathrm du}=-2\\frac{\\mathrm z}{2}+(-2)\\frac{\\mathrm u}{2}$\n",
    "* 即： $\\frac{\\mathrm dz}{\\mathrm du}=-z-u$\n",
    "* 这是线性微分方程，求得它的通解为：$z=ce^{-u}-u+1$\n",
    "* 代回原来的变量 $x$ ，得到：$\\frac{1}{\\mathrm x^2}=ce^{-u}-u+1$\n",
    "* 即：$\\frac{1}{\\mathrm x^2}=ce^{y^{-2}}-y^2+1$ ,这就是原方程的通解。"
   ]
  },
  {
   "cell_type": "markdown",
   "metadata": {},
   "source": [
    "(16)$y=e^x+\\int_0^x y(t) \\mathrm dt$"
   ]
  },
  {
   "cell_type": "markdown",
   "metadata": {},
   "source": [
    "* 对方程两边关于 $x$ 求导，得到：$\\frac{\\mathrm dy}{\\mathrm dx}=y+e^x$\n",
    "* 这是一阶线性微分方程，求得它的通解为：$y=e^x(x+c)$\n",
    "* 注意到当 $x=0$ 时，$y=1$\n",
    "* 代入通解得到：$c=1$\n",
    "* 从而得到方程的通解为：$y=e^x(x+1)$"
   ]
  },
  {
   "cell_type": "markdown",
   "metadata": {},
   "source": [
    "## 2 求解下列方程"
   ]
  },
  {
   "cell_type": "markdown",
   "metadata": {},
   "source": [
    "(3)$y'\\sin x\\cos x-y-\\sin^3 x=0$"
   ]
  },
  {
   "cell_type": "markdown",
   "metadata": {},
   "source": [
    "* 将原方程变形得到：$\\frac{\\mathrm dy}{\\mathrm dx}=\\frac{\\mathrm y}{\\mathrm \\sin x\\cos x}+\\frac{\\sin^2 x}{\\cos x}(\\sin x\\neq 0,\\cos x\\neq 0)$\n",
    "* 这是线性微分方程，得到通解为：$y=e^{\\int \\frac{1}{\\sin x\\cos x}\\mathrm {d}x}$($\\int \\frac{\\sin^2 x}{\\cos x}\\mathrm e^{-\\int \\frac{1}{\\sin x\\cos x}\\mathrm {d}x}\\mathrm dx+c$)\n",
    "* 运算得，通解为：$y=\\tan x(-\\cos x+c)=c\\tan x-\\sin x$\n",
    "* 当 $\\sin x=0$ 时，原方程化为 $y=0$\n",
    "* 当 $\\cos x=0$ 时，原方程化为 $y=-\\sin^3 x=\\pm 1$ ，即曲线退化成 $(2\\mathrm k\\pi+\\frac{\\mathrm \\pi}{2},-1)$ 和 $(2\\mathrm k\\pi-\\frac{\\mathrm \\pi}{2},1)$ ,$k=0,\\pm1,\\pm2,\\dots$\n",
    "* 综上所诉，原方程的解为：$y=c\\tan x-\\sin x,(x\\neq \\mathrm k\\pi\\pm\\frac{\\pi}{2})$ \n",
    "* 或者点 $(2\\mathrm k\\pi+\\frac{\\mathrm \\pi}{2},-1)，(2\\mathrm k\\pi-\\frac{\\mathrm \\pi}{2},1) ,k=0,\\pm1,\\pm2,\\dots$ "
   ]
  },
  {
   "cell_type": "markdown",
   "metadata": {},
   "source": [
    "# 3 验证方程是恰当微分方程，并求出方程的解"
   ]
  },
  {
   "cell_type": "markdown",
   "metadata": {},
   "source": [
    "（5）$(\\frac{1}{\\mathrm y}\\sin \\frac{\\mathrm x}{\\mathrm y}-\\frac{\\mathrm y}{\\mathrm x^2}\\cos \\frac{\\mathrm y}{\\mathrm x}+1)\\mathrm dx+(\\frac{1}{\\mathrm x}\\cos \\frac{\\mathrm y}{\\mathrm x}-\\frac{\\mathrm x}{\\mathrm y^2}\\sin \\frac{\\mathrm x}{\\mathrm y}+\\frac{1}{\\mathrm y^2})\\mathrm dy=0$"
   ]
  },
  {
   "cell_type": "markdown",
   "metadata": {},
   "source": [
    "* 由题得：$M=\\frac{1}{\\mathrm y}\\sin \\frac{\\mathrm x}{\\mathrm y}-\\frac{\\mathrm y}{\\mathrm x^2}\\cos \\frac{\\mathrm y}{\\mathrm x}+1,N=\\frac{1}{\\mathrm x}\\cos \\frac{\\mathrm y}{\\mathrm x}-\\frac{\\mathrm x}{\\mathrm y^2}\\sin \\frac{\\mathrm x}{\\mathrm y}+\\frac{1}{\\mathrm y^2}$\n",
    "* $\\frac{\\partial M}{\\partial y}=-\\frac{\\mathrm x}{\\mathrm y^3}\\cos \\frac{\\mathrm x}{\\mathrm y}-\\frac{1}{\\mathrm y^2}\\sin \\frac{\\mathrm x}{\\mathrm y}-\\frac{1}{\\mathrm x^2}\\cos \\frac{\\mathrm y}{\\mathrm x}+\\frac{\\mathrm y}{\\mathrm x^3}\\sin \\frac{\\mathrm y}{\\mathrm x},\\frac{\\partial N}{\\partial x}=-\\frac{1}{\\mathrm x^2}\\cos \\frac{\\mathrm y}{\\mathrm x}+\\frac{\\mathrm y}{\\mathrm x^3}\\sin \\frac{\\mathrm y}{\\mathrm x}-\\frac{1}{\\mathrm y^2}\\sin \\frac{\\mathrm x}{\\mathrm y}-\\frac{\\mathrm x}{\\mathrm y^3}\\cos \\frac{\\mathrm x}{\\mathrm y}=\\frac{\\partial M}{\\partial y}$\n",
    "* 因此方程是恰当方程。\n",
    "* 现在求 $u$ ，使它同时满足如下两个方程\n",
    "* $\\frac{\\partial u}{\\partial x}=\\frac{1}{\\mathrm y}\\sin \\frac{\\mathrm x}{\\mathrm y}-\\frac{\\mathrm y}{\\mathrm x^2}\\cos \\frac{\\mathrm y}{\\mathrm x}+1,\\frac{\\partial u}{\\partial y}=\\frac{1}{\\mathrm x}\\cos \\frac{\\mathrm y}{\\mathrm x}-\\frac{\\mathrm x}{\\mathrm y^2}\\sin \\frac{\\mathrm x}{\\mathrm y}+\\frac{1}{\\mathrm y^2}$\n",
    "* 得到 $u=\\sin \\frac{\\mathrm y}{\\mathrm x}-\\cos \\frac{\\mathrm x}{\\mathrm y}+x-\\frac{1}{\\mathrm y}$\n",
    "* 因此，方程的通解为：$\\sin \\frac{\\mathrm y}{\\mathrm x}-\\cos \\frac{\\mathrm x}{\\mathrm y}+x-\\frac{1}{\\mathrm y}=c$\n",
    "* $c$ 为任意常数"
   ]
  },
  {
   "cell_type": "markdown",
   "metadata": {},
   "source": [
    "# 求下列方程的解"
   ]
  },
  {
   "cell_type": "markdown",
   "metadata": {},
   "source": [
    "（10）$(y\\cos x-x\\sin x)\\mathrm dx+(y\\sin x+x\\cos x)\\mathrm dy=0$"
   ]
  },
  {
   "cell_type": "markdown",
   "metadata": {},
   "source": [
    "* 由题意显然，$\\frac{\\partial M}{\\partial y}\\neq \\frac{\\partial N}{\\partial x}$\n",
    "* 所以不为恰当微分方程\n",
    "* 又 $\\frac{\\frac{\\partial M}{\\partial y}-\\frac{\\partial N}{\\partial x}}{-M}=1$ ,所以方程有一个积分因子：$u=e^{\\int 1 \\mathrm dy}=e^y$\n",
    "* 以 $u=e^y$ 乘原方程两边有：$e^y(y\\cos x-x\\sin x)\\mathrm dx+e^y(y\\sin x+x\\cos x)\\mathrm dy=0$\n",
    "* 即：$\\mathrm d{[(y-1)e^y\\sin x+e^y x\\cos x]=0}$\n",
    "* 所以方程的通解为：$(y-1)\\sin x+x\\cos x=ce^{-y}$"
   ]
  },
  {
   "cell_type": "markdown",
   "metadata": {},
   "source": [
    "(11) $x(4y\\mathrm dx+2x\\mathrm dy)+y^3(3y\\mathrm dx+5x\\mathrm dy)=0$"
   ]
  },
  {
   "cell_type": "markdown",
   "metadata": {},
   "source": [
    "* $x(4y\\mathrm dx+2x\\mathrm dy)=d{(2x^2y)}$\n",
    "* 对于方程 $y^3(3y\\mathrm dx+5x\\mathrm dy)=0$\n",
    "* $M=3y^4,N=5xy^3$\n",
    "* $\\frac{\\frac{\\partial M}{\\partial y}-\\frac{\\partial N}{\\partial x}}{N}=\\frac{7}{5x}$\n",
    "* 所以有一个积分因子：$u=e^{\\int \\frac{7}{5x}\\mathrm dx}=x^{\\frac{7}{5}}$\n",
    "* 以 $u$ 乘方程 $y^3(3y\\mathrm dx+5x\\mathrm dy)=0$ 两边，得到：$d{(\\frac{5}{4}x^{\\frac{12}{5}}y^4)}=0$\n",
    "* 所以原方程的通解为 $2x^2y+\\frac{5}{4}x^{\\frac{12}{5}}y^4=c$"
   ]
  },
  {
   "cell_type": "markdown",
   "metadata": {},
   "source": [
    "**$A^+$**"
   ]
  },
  {
   "cell_type": "code",
   "execution_count": null,
   "metadata": {
    "collapsed": true
   },
   "outputs": [],
   "source": []
  }
 ],
 "metadata": {
  "kernelspec": {
   "display_name": "SageMath 7.3",
   "language": "",
   "name": "sagemath"
  },
  "language_info": {
   "codemirror_mode": {
    "name": "ipython",
    "version": 2
   },
   "file_extension": ".py",
   "mimetype": "text/x-python",
   "name": "python",
   "nbconvert_exporter": "python",
   "pygments_lexer": "ipython2",
   "version": "2.7.10"
  }
 },
 "nbformat": 4,
 "nbformat_minor": 0
}
