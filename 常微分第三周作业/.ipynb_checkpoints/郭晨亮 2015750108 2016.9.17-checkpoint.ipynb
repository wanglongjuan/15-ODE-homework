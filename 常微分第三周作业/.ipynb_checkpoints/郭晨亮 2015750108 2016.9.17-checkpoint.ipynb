{
 "cells": [
  {
   "cell_type": "markdown",
   "metadata": {},
   "source": [
    "## 1.求下列方程的解"
   ]
  },
  {
   "cell_type": "markdown",
   "metadata": {},
   "source": [
    "（1）${\\mathrm dy \\over \\mathrm dx}-{n \\over x}y=e^xx^n$"
   ]
  },
  {
   "cell_type": "markdown",
   "metadata": {},
   "source": [
    "解：\n",
    "\n",
    "$${\\mathrm dy \\over \\mathrm dx}={n \\over x}y+e^xx^n$$\n",
    "\n",
    "对于方程\n",
    "$${\\mathrm dy \\over \\mathrm dx}={n \\over x}y$$\n",
    "\n",
    "解得\n",
    "$$y=cx^n$$\n",
    "\n",
    "设\n",
    "$$y=c(x)x^n$$\n",
    "\n",
    "$${\\mathrm dy \\over \\mathrm dx}={\\mathrm dc(x) \\over \\mathrm dx}x^n+nc(x)x^{n-1}$$\n",
    "\n",
    "$${\\mathrm dc(x) \\over \\mathrm dx}x^n=e^xx^n$$\n",
    "\n",
    "$$c(x)=e^x+c$$\n",
    "\n",
    "方程的解为\n",
    "$$y=(e^x+c)x^n$$"
   ]
  },
  {
   "cell_type": "markdown",
   "metadata": {},
   "source": [
    "（2）${\\mathrm dy \\over \\mathrm dx}={1 \\over xy+x^3y^3}$"
   ]
  },
  {
   "cell_type": "markdown",
   "metadata": {},
   "source": [
    "解：\n",
    "$${\\mathrm dx \\over \\mathrm dy}={xy+x^3y^3 \\over 1}$$\n",
    "\n",
    "$$x^{-3}{\\mathrm dx \\over \\mathrm dy}=x^{-2}y+y^3$$\n",
    "\n",
    "设\n",
    "$$z=x^{-2}$$\n",
    "\n",
    "$${\\mathrm dz \\over \\mathrm dy}=-2x^{-3}{\\mathrm dx \\over \\mathrm dy}$$\n",
    "\n",
    "$${\\mathrm dz \\over \\mathrm dy}=-2yz-2y^3$$\n",
    "\n",
    "对于方程\n",
    "$${\\mathrm dz \\over \\mathrm dy}=-2yz$$\n",
    "\n",
    "解得\n",
    "$$z=ce{-y^2}$$\n",
    "\n",
    "设\n",
    "$$z=c(x)e{-y^2}$$\n",
    "\n",
    "$${\\mathrm dz \\over \\mathrm dy}={\\mathrm dc(x) \\over \\mathrm dy}e^{-y^2}+c(x)(-2y)e^{-y^2}$$\n",
    "\n",
    "$${\\mathrm dc(x) \\over \\mathrm dy}=-2y^3e{y^2}$$\n",
    "\n",
    "$$c(x)=\\int e^{y^2}y^2(-2y)\\mathrm dy=-\\int e^{y^2}y^2\\mathrm dy^2=-\\int y^2\\mathrm de^{y^2}=-y^2e^{y^2}-e^{y^2}+c$$\n",
    "\n",
    "$$z=e^{-y^2}(-y^2e^{y^2}-e^{y^2}+c)=-y^2-1+ce^{-y^2}$$\n",
    "\n",
    "$$x^{-2}=-y^2-1+ce^{-y^2}$$\n",
    "\n",
    "方程的解为\n",
    "$$(x^2y^2+x^2+1)e^{y^2}=cx^2$$"
   ]
  },
  {
   "cell_type": "markdown",
   "metadata": {},
   "source": [
    "（3）$y=e^x+\\int_0^x y(t)\\mathrm dt$"
   ]
  },
  {
   "cell_type": "markdown",
   "metadata": {},
   "source": [
    "解：设\n",
    "$${\\mathrm dz \\over \\mathrm dx}=y$$\n",
    "\n",
    "$${\\mathrm dz \\over \\mathrm dx}=e^x+z-z(0)$$\n",
    "\n",
    "对于方程\n",
    "$${\\mathrm dz \\over \\mathrm dx}=z$$\n",
    "\n",
    "解得\n",
    "$$z=ce^x$$\n",
    "\n",
    "设\n",
    "$$z=c(x)e^x$$\n",
    "\n",
    "$${\\mathrm dz \\over \\mathrm dx}={\\mathrm dc(x) \\over \\mathrm dx}e^x+c(x)e^x$$\n",
    "\n",
    "$${\\mathrm dc(x) \\over \\mathrm dx}=1+ce^{-x}$$\n",
    "\n",
    "$$c(x)=x-ce^{-x}$$\n",
    "\n",
    "$$z=(x-ce^{-x})e^x=xe^x-c$$\n",
    "\n",
    "方程的解为\n",
    "$$y=xe^x+e^x$$"
   ]
  },
  {
   "cell_type": "markdown",
   "metadata": {},
   "source": [
    "## 2.求解下列方程"
   ]
  },
  {
   "cell_type": "markdown",
   "metadata": {},
   "source": [
    "$$y\\prime \\sin x\\cos x-y-\\sin ^3x=0$$"
   ]
  },
  {
   "cell_type": "markdown",
   "metadata": {},
   "source": [
    "解：\n",
    "$${\\mathrm dy \\over \\mathrm dx}={y \\over \\sin x\\cos x}+{\\sin ^2x \\over \\cos x}$$\n",
    "\n",
    "对于方程\n",
    "$${\\mathrm dy \\over \\mathrm dx}={y \\over \\sin x\\cos x}$$\n",
    "\n",
    "$${\\mathrm dy \\over y}={2\\mathrm dx \\over \\sin 2x}$$\n",
    "\n",
    "$$\\ln |y|=|\\csc 2x-\\cot 2x|+c$$\n",
    "\n",
    "解得\n",
    "$$y=c\\tan x$$\n",
    "\n",
    "设\n",
    "$$y=c(x)\\tan x$$\n",
    "\n",
    "$${\\mathrm dc(x) \\over \\mathrm dx}=\\sin x$$\n",
    "\n",
    "$$c(x)=-\\cos x+c$$\n",
    "\n",
    "$$y=(-\\cos x+c)\\tan x$$\n",
    "\n",
    "方程的解为\n",
    "$$y=c\\tan x-\\sin x$$\n",
    "\n",
    "$x=k\\pi +{\\pi \\over 2},y=(-1)^{k+1}$也是方程的解"
   ]
  },
  {
   "cell_type": "markdown",
   "metadata": {},
   "source": [
    "## 3.验证下列方程是恰当微分方程，并求出方程的解"
   ]
  },
  {
   "cell_type": "markdown",
   "metadata": {},
   "source": [
    "$$({1 \\over y}\\sin {x \\over y}-{y \\over x^2}\\cos {y \\over x}+1)\\mathrm dx+({1 \\over x}\\cos {y \\over x}-{x \\over y^2}\\sin {x \\over y}+{1 \\over y^2})\\mathrm dy$$"
   ]
  },
  {
   "cell_type": "markdown",
   "metadata": {},
   "source": [
    "解:设\n",
    "$$M={1 \\over y}\\sin {x \\over y}-{y \\over x^2}\\cos {y \\over x}+1,N={1 \\over x}\\cos {y \\over x}-{x \\over y^2}\\sin {x \\over y}+{1 \\over y^2}$$\n",
    "\n",
    "$${\\partial M \\over \\partial y}={-\\cos {x \\over y}{x \\over y^2}y-\\sin {x \\over y} \\over y^2}-{\\cos {y \\over x}-{y \\over x}\\sin {y \\over x} \\over x^2}={-{x \\over y}\\cos {x \\over y}-\\sin {x \\over y} \\over y^2}-{\\cos {y \\over x}-{y \\over x}\\sin {y \\over x} \\over x^2}$$\n",
    "\n",
    "$${\\partial M \\over \\partial y}={-{x \\over y}\\cos {x \\over y}-\\sin {x \\over y} \\over y^2}-{\\cos {y \\over x}-{y \\over x}\\sin {y \\over x} \\over x^2}$$\n",
    "\n",
    "所以\n",
    "$${\\partial M \\over \\partial y}={\\partial M \\over \\partial y}$$\n",
    "\n",
    "$${\\partial u \\over \\partial x}=M,{\\partial u \\over \\partial y}=N$$\n",
    "\n",
    "$$u=-\\cos {x \\over y}+\\sin {y \\over x}+x+\\varphi(y)$$\n",
    "\n",
    "$${\\partial u \\over \\partial y}={1 \\over x}\\cos {y \\over x}-{x \\over y^2}\\sin {x \\over y}+{\\mathrm d\\varphi (y) \\over \\mathrm dy}$$\n",
    "\n",
    "$${\\mathrm d\\varphi (y) \\over \\mathrm dy}={1 \\over y^2}$$\n",
    "\n",
    "$$\\varphi (y)=-{1 \\over y}$$\n",
    "\n",
    "所以方程的解为\n",
    "$$-\\cos {x \\over y}+\\sin {y \\over x}+x-{1 \\over y}=c$$"
   ]
  },
  {
   "cell_type": "markdown",
   "metadata": {},
   "source": [
    "## 4.求下列方程的解"
   ]
  },
  {
   "cell_type": "markdown",
   "metadata": {},
   "source": [
    "（1）$(y\\cos x-x\\sin x)\\mathrm dx+(y\\sin x+x\\cos x)\\mathrm dy=0$"
   ]
  },
  {
   "cell_type": "markdown",
   "metadata": {},
   "source": [
    "解：设\n",
    "$$M=y\\cos x-x\\sin x,N=y\\sin x+x\\cos x$$\n",
    "\n",
    "$${\\partial M \\over \\partial y}=\\cos x,{\\partial N \\over \\partial x}=y\\cos x-x\\sin x+\\cos x$$\n",
    "\n",
    "因为\n",
    "$${{\\partial N \\over \\partial x}-{\\partial M \\over \\partial y} \\over M}=1$$\n",
    "\n",
    "所以积分因子\n",
    "$$\\mu =e^y$$\n",
    "\n",
    "$$e^y(y\\cos x-x\\sin x)\\mathrm dx+e^y(y\\sin x+x\\cos x)\\mathrm dy=0$$\n",
    "\n",
    "解得\n",
    "$$e^y\\sin x(y-1)+e^y\\cos x=c$$"
   ]
  },
  {
   "cell_type": "markdown",
   "metadata": {},
   "source": [
    "（2）$x(4y\\mathrm dx+2x\\mathrm dy)+y^3(3y\\mathrm dx+5x\\mathrm dy)=0$"
   ]
  },
  {
   "cell_type": "markdown",
   "metadata": {},
   "source": [
    "解：\n",
    "$$x^2yx(4y\\mathrm dx+2x\\mathrm dy)+x^2yy^3(3y\\mathrm dx+5x\\mathrm dy)=0$$\n",
    "\n",
    "$$4x^3y^2dx+2x^4ydx+3x^2y^5dx+5x^3y^4dy=0$$\n",
    "\n",
    "解得\n",
    "$$x^4y^2+x^3y^5=c$$"
   ]
  },
  {
   "cell_type": "markdown",
   "metadata": {},
   "source": [
    "**$A^+$**"
   ]
  },
  {
   "cell_type": "code",
   "execution_count": null,
   "metadata": {
    "collapsed": true
   },
   "outputs": [],
   "source": []
  }
 ],
 "metadata": {
  "kernelspec": {
   "display_name": "Python 2",
   "language": "python",
   "name": "python2"
  },
  "language_info": {
   "codemirror_mode": {
    "name": "ipython",
    "version": 2
   },
   "file_extension": ".py",
   "mimetype": "text/x-python",
   "name": "python",
   "nbconvert_exporter": "python",
   "pygments_lexer": "ipython2",
   "version": "2.7.10"
  }
 },
 "nbformat": 4,
 "nbformat_minor": 0
}
