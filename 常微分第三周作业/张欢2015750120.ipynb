{
 "cells": [
  {
   "cell_type": "markdown",
   "metadata": {},
   "source": [
    "1:求解$\\frac{dy}{dx}-\\frac{n}{x}*y=e^x*x^n$"
   ]
  },
  {
   "cell_type": "markdown",
   "metadata": {},
   "source": [
    "**解**\n",
    "\n",
    "整理  $$\\frac{dy}{dx}=\\frac{n}{x}*y+e^x*x*n$$\n",
    "\n",
    "令$P(x)=\\frac{n}{x},Q(x)=e^xx^n$\n",
    "$$y=e^{\\int \\frac{n}{x}dx}*(\\int e^xx^n*e^{-\\int \\frac{n}{x}dx}dx+c)$$\n",
    "$$=>y=x^n(e^x+c)$$"
   ]
  },
  {
   "cell_type": "markdown",
   "metadata": {},
   "source": [
    "2:求解$\\frac{dy}{dx}=\\frac{1}{xy+x^3y^3}$"
   ]
  },
  {
   "cell_type": "markdown",
   "metadata": {},
   "source": [
    "**解**\n",
    "\n",
    "令$u=y^2$\n",
    "\n",
    "$$=>\\frac{du}{dx}=\\frac{2}{x+x^3u}$$\n",
    "$$\\frac{dx}{du}=\\frac{x+x^3u}{2}$$\n",
    "$$x^{-3}*\\frac{dx}{du}=\\frac{1}{2}*x^{-2}+\\frac{1}{2}u$$\n",
    "\n",
    "令$z=x^{-2}$\n",
    "\n",
    "则$$\\frac{dz}{du}=-z-t$$\n",
    "$$=>z=c*e^{-u}-u+1$$\n",
    "\n",
    "将$z=x^{-2},u=y^2$代入\n",
    "\n",
    "有$$(1-x^2+x^2y^2)*e^{y^2}=c*x^2$$"
   ]
  },
  {
   "cell_type": "markdown",
   "metadata": {},
   "source": [
    "3:求解$y=e^x+\\int_0^x y(t)dt$"
   ]
  },
  {
   "cell_type": "markdown",
   "metadata": {},
   "source": [
    "**解**等式两边对x求导$$\\frac{dy}{dx}=e^x+y$$\n",
    "\n",
    "$$=>y=e^x(x+c)$$\n",
    "\n",
    "当$x=0$时\n",
    "$$y=e^x+0<=>y=e^x*(0+c)$$\n",
    "$$c=1$$\n",
    "$$=>y=e^x*(x+1)$$"
   ]
  },
  {
   "cell_type": "markdown",
   "metadata": {},
   "source": [
    "4:求解$y'*sinx*cosx-y-sin^3x=0$"
   ]
  },
  {
   "cell_type": "markdown",
   "metadata": {},
   "source": [
    "**解**:整理$$\\frac{dy}{dx}=\\frac{y+sin^3x}{sinx*cosx}$$\n",
    "$$=>\\frac{dy}{dx}=\\frac{y}{sinx*cosx}+\\frac{sin^2x}{cosx}$$\n",
    "\n",
    "令$P(x)=\\frac{1}{sinx*cosx},Q(x)=\\frac{sin^2x}{cosx}$\n",
    "$$y=e^{\\int \\frac{1}{sinx*cosx}dx}*(\\int \\frac{sin^2x}{cosx}*e^{\\int \\frac{1}{sinx*cosx}dx}dx+c)$$\n",
    "\n",
    "因为$\\int \\frac{1}{sinx*cosx}dx=\\int \\frac{cosx}{sinx*(1-sin^2x)}dx=\\int \\frac{1}{sinx*(1-sinx)(1+sinx)}d(sinx)$\n",
    "\n",
    "令$t=sinx$\n",
    "$$\\int \\frac{1}{t*(1-t)(1+t)}dt=\\int (\\frac{1}{t}+\\frac{1/2}{1-t}+\\frac{1/2}{1+t})dt=ln tanx+c$$\n",
    "$$=>y=tanx*(-cosx+c)$$\n",
    "$$y=c*tanx-sinx$$"
   ]
  },
  {
   "cell_type": "markdown",
   "metadata": {},
   "source": [
    "<font color=\"red\" >当$\\sin x=o$时，原方程化解为$y=0$\n",
    "\n",
    "当$\\cos x=0$时，原方程化解为$y=-\\sin^3 x=±1$，即曲线变成点$（2k\\pi+\\frac{\\pi}{2},-1）$和$（2k\\pi-\\frac{\\pi}{2},1)$,k=0,±1,±2,...\n",
    "\n",
    "综上可得，原方程的解为$y=\\tan x(-\\cos x+c)=c\\tan x-\\sin x(x≠k\\pi±\\frac{\\pi}{2})$\n",
    "\n",
    "或者点$（k\\pi+\\frac{\\pi}{2},(-1)^{k+1}),k=0,±1,±2,...$"
   ]
  },
  {
   "cell_type": "markdown",
   "metadata": {},
   "source": [
    "5:验证方程式恰当微分方程，并求解：$(\\frac{1}{y}*sin\\frac{x}{y}-\\frac{y}{x^2}*cos\\frac{y}{x}+1)dx+(\\frac{1}{x}*cos\\frac{y}{x}-\\frac{x}{y^2}*sin\\frac{x}{y}+\\frac{1}{y^2})dy=0$"
   ]
  },
  {
   "cell_type": "markdown",
   "metadata": {},
   "source": [
    "$$M=\\frac{1}{y}*sin\\frac{x}{y}-\\frac{y}{x^2}*cos\\frac{y}{x}+1$$\n",
    "$$\\frac{1}{x}*cos\\frac{y}{x}-\\frac{x}{y^2}*sin\\frac{x}{y}+\\frac{1}{y^2}$$\n",
    "\n",
    "验证$$\\frac{dM}{dy}=-\\frac{1}{y^2}*sin\\frac{x}{y}+\\frac{1}{y}*cos\\frac{1}{y}*(-\\frac{x}{y^2}-\\frac{1}{x^2}*cos\\frac{y}{x}+\\frac{y}{x^2}*sin\\frac{y}{x}*\\frac{1}{x}=\\frac{dN}{dx}$$\n",
    "\n",
    "现在求u，满足\n",
    "$$\\frac{\\partial u}{\\partial x}=\\frac{1}{y}*sin\\frac{x}{y}-\\frac{y}{x^2}*cos\\frac{y}{x}+1$$\n",
    "$$\\frac{\\partial u}{\\partial y}=\\frac{1}{x}*cos\\frac{y}{x}-\\frac{x}{y^2}*sin\\frac{x}{y}+\\frac{1}{y^2}$$\n",
    "\n",
    "\n",
    "$$=>d(-cosx\\frac{x}{y})+d(sin\\frac{y}{x})+dx+d(-\\frac{1}{y})=0$$\n",
    "$$=>d(sin\\frac{y}{x}-cos\\frac{x}{y}+x-\\frac{1}{y})=0$$\n",
    "\n",
    "所以解为$sin\\frac{y}{x}-cos\\frac{x}{y}+x-\\frac{1}{y}=c$"
   ]
  },
  {
   "cell_type": "markdown",
   "metadata": {},
   "source": [
    "2.(10)求解$(ycos x-xsin x)dx+(ysin x+xcos x)dy=0$"
   ]
  },
  {
   "cell_type": "markdown",
   "metadata": {},
   "source": [
    "$$M=ycos x-xsin x$$   \n",
    "\n",
    "$$N=ysin x+xcos x$$\n",
    "\n",
    "$$\\frac{\\partial M}{\\partial y}\\neq \\frac{\\partial N}{\\partial x}$$\n",
    "\n",
    "$$\\frac{\\frac{\\partial M}{\\partial y}-\\frac{\\partial N}{\\partial x}}{-M}=1$$\n",
    "\n",
    "方程的一个只与y有关的积分因子$$\\mu=e^{\\int dy}=e^y$$\n",
    "\n",
    "两边同时乘以$\\mu$  得到方程$$e^y(ycos x-xsin x)dx+(ysin x+xcos x)dy=0$$是恰当方程\n",
    "\n",
    "通解为：$$\\int e^y(ycos x-xsin x)dx+\\int(N-\\frac{\\partial }{\\partial y}\\int e^y(ycos x-xsinx)dx)dx=c$$\n",
    "\n",
    "即为：$$e^ysin x(y-1)+e^ycos x=c$$\n"
   ]
  },
  {
   "cell_type": "markdown",
   "metadata": {},
   "source": [
    "2.(11)求解$x(4ydx+2xdy)+y^3(3ydx+5xdy)=0$"
   ]
  },
  {
   "cell_type": "markdown",
   "metadata": {},
   "source": [
    "  整理得：$$(4xy+3y^4)dx+(2x^2+5xy^3)dy=0$$\n",
    "  \n",
    "  根据多次验算得积分因子为$\\mu=x^2y$\n",
    "  \n",
    "  两边同时乘以$x^2y$得$$(4x^3y^2+3x^2y^5)dx+(2x^4y+5x^3y4)dy=0$$\n",
    " $$d(x^4y^2+x^3y^5)=0$$\n",
    " \n",
    "  所以通解为  $$x^4y^2+x^3y^5=c$$\n",
    "  "
   ]
  },
  {
   "cell_type": "markdown",
   "metadata": {
    "collapsed": true
   },
   "source": [
    "$A$"
   ]
  },
  {
   "cell_type": "code",
   "execution_count": null,
   "metadata": {
    "collapsed": true
   },
   "outputs": [],
   "source": []
  }
 ],
 "metadata": {
  "kernelspec": {
   "display_name": "SageMath 7.3",
   "language": "",
   "name": "sagemath"
  },
  "language_info": {
   "codemirror_mode": {
    "name": "ipython",
    "version": 2
   },
   "file_extension": ".py",
   "mimetype": "text/x-python",
   "name": "python",
   "nbconvert_exporter": "python",
   "pygments_lexer": "ipython2",
   "version": "2.7.10"
  }
 },
 "nbformat": 4,
 "nbformat_minor": 0
}
