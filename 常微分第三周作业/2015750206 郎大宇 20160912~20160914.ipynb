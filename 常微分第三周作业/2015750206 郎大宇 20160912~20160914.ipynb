{
 "cells": [
  {
   "cell_type": "markdown",
   "metadata": {},
   "source": [
    "# 一、9月12日作业"
   ]
  },
  {
   "cell_type": "markdown",
   "metadata": {},
   "source": [
    "#### 1.求下列方程的解\n",
    "$(1)\\frac{\\mathrm dy}{\\mathrm dx}-\\frac{n}{x}y=\\mathrm e^{x}x^{n}(n为常数);$\n",
    "\n",
    "$(2)\\frac{\\mathrm dy}{\\mathrm dx}=\\frac{1}{xy+x^{3}y^{3}};$\n",
    "\n",
    "$(3)y=\\mathrm e^x+\\int0^x y(t){\\rm d}t.$\n",
    "\n",
    "$(3)y=\\mathrm e^x+\\int_0^x y(t){\\rm d}t.$\n"
   ]
  },
  {
   "cell_type": "markdown",
   "metadata": {},
   "source": [
    "解:(1)通过变换，容易看出，此方程为一阶非齐次线性微分方程。其中  \n",
    "\n",
    "$$P(x)=\\frac{n}{x},Q(x)=\\mathrm e^{x}x^{n}$$\n",
    "\n",
    "根据一阶非齐次线性微分方程通解公式\n",
    "\n",
    "$$y=e^{\\int P(x)\\,\\mathrm{d}x}(\\int{Q(x)} e^{-\\int P(x)\\,\\mathrm{d}x}\\mathrm{d}x+c)$$\n",
    "\n",
    "得\n",
    "\n",
    "$$\n",
    "\\begin{aligned}\n",
    "y&=e^{\\int \\frac{n}{x}\\,\\mathrm{d}x}(\\int{\\mathrm e^{x}x^{n}} e^{-\\int \\frac{n}{x}\\,\\mathrm{d}x}\\mathrm{d}x+c)\\\\\n",
    "&=x^{n}(\\int e^{x}x^{n}x^{-n}\\,\\mathrm{d}x+c)\\\\\n",
    "&=(e^{x}+c)x^{n}\n",
    "\\end{aligned}\n",
    "$$"
   ]
  },
  {
   "cell_type": "markdown",
   "metadata": {
    "collapsed": true
   },
   "source": [
    "(2)令$u=y^{2}$,则原方程可化为$$\\frac{2y\\mathrm dy}{\\mathrm dx}=\\frac{2}{x+x^{3}y^{2}}$$\n",
    "\n",
    "即$$\\frac{\\mathrm du}{\\mathrm dx}=\\frac{2}{xy+x^{3}u}$$\n",
    "\n",
    "把u看做自变量，x看做函数变量时，方程可进一步化为$$\\frac{\\mathrm dx}{\\mathrm du}=\\frac{x}{2}+\\frac{u}{2}x^{3}$$\n",
    "\n",
    "这是n=3是的伯努利方程。令\n",
    "\n",
    "$$z=x^{-2},$$ \n",
    "\n",
    "算得$$\\frac{\\mathrm dz}{\\mathrm du}=-2x^{-3}\\frac{\\mathrm dx}{\\mathrm du},$$  \n",
    "\n",
    "代入$\\frac{\\mathrm dz}{\\mathrm du}$的表达式,得到$$\\frac{\\mathrm dz}{\\mathrm du}=-z-u.$$\n",
    "\n",
    "这是一阶线性微分方程，根据公式可得它的通解为\n",
    "\n",
    "$$y=e^{\\int -1\\,\\mathrm{d}u}(\\int{-u} e^{-\\int 1\\,\\mathrm{d}u}\\mathrm{d}u+c),$$ \n",
    "即\n",
    "\n",
    "$$z=ce^{-u}-u+1$$\n",
    "\n",
    "把$z=x^{-2},u=y^{2}$代入得\n",
    "\n",
    "$$\\frac{1}{x^2}=ce^{-y^{2}}-y^{2}+1$$ \n",
    "\n",
    "即\n",
    "\n",
    "$$x^{2}(ce^{-y^{2}}-y^{2}+1)=1,$$  即为原方程的通解。"
   ]
  },
  {
   "cell_type": "markdown",
   "metadata": {},
   "source": [
    "(3)对方程$$y=\\mathrm e^x+\\int0^x y(t){\\rm d}t$$两端关于x求导得\n",
    "\n",
    "$$\\frac{\\mathrm dy}{\\mathrm dx}=e^{x}+y$$\n",
    "\n",
    "为一阶线性微分方程，跟据公式可得通解为\n",
    "\n",
    "$$y=e^{x}(\\int e^{x}e^{-x}\\mathrm dx+c)$$\n",
    "\n",
    "即\n",
    "$$y=e^{x}(x+c)$$ \n",
    "\n",
    "又当x=0时,由原方程可得\n",
    "\n",
    "$$y(0)=e^{0}+\\int0^0 y(t)\\mathrm dt=1,$$\n",
    "\n",
    "而\n",
    "$$y(0)=e^{0}(0+c)=c$$\n",
    "\n",
    "故得c=1 \n",
    "\n",
    "综上，原方程的解为$y=e^{x}(x+1).$"
   ]
  },
  {
   "cell_type": "markdown",
   "metadata": {},
   "source": [
    "#### 2.求解下列方程：\n",
    "$y'sinxcosx-y-sin^{3}x=0$"
   ]
  },
  {
   "cell_type": "markdown",
   "metadata": {},
   "source": [
    "解：将方程写成如下形式\n",
    "\n",
    "$$\\frac{\\mathrm dy}{\\mathrm dx}=\\frac{1}{sinxcosx}y+\\frac{sin^{2}x}{cosx}(sinx\\neq0,cosx\\neq0)$$\n",
    "\n",
    "根据课本公式，可以得到它的通解为\n",
    "\n",
    "$$y=e^{\\int \\frac{1}{sinxcosx}\\mathrm dx}(\\int \\frac{sin^{2}x}{cosx}e^{\\int \\frac{1}{sinxcosx}\\mathrm dx}\\mathrm dx+c)$$\n",
    "\n",
    "即\n",
    "\n",
    "$$y=tanx(\\int \\frac{sin^{2}x}{cosx}cotx\\mathrm dx+c)$$\n",
    "\n",
    "化简为\n",
    "\n",
    "$$y=tanx(-cosx+c),$$\n",
    "\n",
    "即$$y=ctanx-sinx,$$  \n",
    "\n",
    "当sinx=0时,原方程化为y=0.\n",
    "当cosx=0时,原方程化为$y=-sin^{3}x=\\pm 1$,\n",
    "\n",
    "即曲线变成一系列的点:\n",
    "\n",
    "$$(2k\\pi+\\frac{\\pi}{2},-1),(2k\\pi-\\frac{\\pi}{2},-1),k=0,\\pm 1,\\pm 2,···.$$\n",
    "\n",
    "综上，原方程的解为\n",
    "\n",
    "$$y=ctanx-sinx,(x\\neq k\\pi \\pm\\pi/2)$$\n",
    "\n",
    "或点\n",
    "\n",
    "$$(2k\\pi+\\frac{\\pi}{2},-1),(2k\\pi-\\frac{\\pi}{2},-1),k=0,\\pm 1,\\pm 2,···.$$"
   ]
  },
  {
   "cell_type": "markdown",
   "metadata": {},
   "source": [
    "# 一、9月14日作业"
   ]
  },
  {
   "cell_type": "markdown",
   "metadata": {},
   "source": [
    "#### 1.验证下列方程是否是恰当微分方程，并求出方程的解：\n",
    "\n",
    "$(\\frac{1}{y}sin\\frac{x}{y}-\\frac{y}{x^{2}}cos\\frac{y}{x}+1)\\mathrm dx+(\\frac{1}{x}cos\\frac{y}{x}-\\frac{x}{y^{2}}sin\\frac{x}{y}+\\frac{1}{y^{2}})\\mathrm dy=0. $"
   ]
  },
  {
   "cell_type": "markdown",
   "metadata": {},
   "source": [
    "解：因为$$\\frac{\\partial M}{\\partial y}=-\\frac{1}{y^{2}}sin\\frac{x}{y}+\\frac{1}{y}cos\\frac{x}{y}\\frac{-x}{y^{2}}-\\frac{1}{x^{2}}cos\\frac{x}{y}+\\frac{y}{x^{2}}\\frac{1}{x}sin\\frac{y}{x},$$\n",
    "\n",
    "$$\\frac{\\partial N}{\\partial x}=-\\frac{1}{x^{2}}cos\\frac{y}{x}+\\frac{1}{x}\\frac{y}{x^{2}}sin\\frac{y}{x}-\\frac{1}{y^{2}}sin\\frac{x}{y}-\\frac{1}{y}\\frac{x}{y^{2}}cos\\frac{x}{y},$$\n",
    "\n",
    "故方程是恰当方程，把方程化为\n",
    "\n",
    "$$(\\frac{1}{y}sin\\frac{x}{y}\\mathrm dx-\\frac{x}{y}sin\\frac{x}{y}\\mathrm dy)-(-\\frac{y}{x^{2}}cos\\frac{y}{x}\\mathrm dx+\\frac{1}{x}cos\\frac{y}{x}\\mathrm dy)+\\mathrm dx+\\frac{1}{y^{2}\\mathrm dy}=0,$$\n",
    "\n",
    "即\n",
    "$$\\mathrm d(-cos\\frac{x}{y}+sin\\frac{y}{x}+x-\\frac{1}{y})=0.$$\n",
    "于是,方程的通解为$$sin\\frac{x}{y}-cos\\frac{y}{x}+x-\\frac{1}{y}=c,$$\n",
    "这里c是任意常数。"
   ]
  },
  {
   "cell_type": "markdown",
   "metadata": {},
   "source": [
    "#### 2.求下列方程的解：\n",
    "(1)$(ycosx-xsinx)\\mathrm dx+(ysinx+xcosx)\\mathrm dy=0;$\n",
    "\n",
    "(2)$x(4y\\mathrm dx+2x\\mathrm dy)+y^{3}(3y\\mathrm dy+5x\\mathrm dy)=0.$"
   ]
  },
  {
   "cell_type": "markdown",
   "metadata": {},
   "source": [
    "解：(1)这里$M=ycosx-xsinx,N=ysinx+xcosx,\\frac{\\partial M}{\\partial y}=cosx,\\frac{\\partial N}{\\partial x}=ycosxcosx-xsinx,$$方程不是恰当的.因为\n",
    "\n",
    "$$\\frac{\\frac{\\partial M}{\\partial y}-\\frac{\\partial N}{\\partial x}}{-M}=1$$，\n",
    "\n",
    "所以方程有积极分子\n",
    "\n",
    "$$\\mu=e^{\\int 1 \\mathrm dy}=e^{y}.$$\n",
    "\n",
    "以$\\mu=e^{y}$乘方程两边得\n",
    "\n",
    "$$(ye^{y}cosx\\mathrm dx+ye^{y}sinx\\mathrm dy)+(e^{y}xcosx\\mathrm dy-e^{y}xsinx\\mathrm dx)=0,$$\n",
    "即\n",
    "\n",
    "$$\\mathrm d[(y-1)sinx+e^{y}xcosx]=0,$$\n",
    "于是方程的通解为\n",
    "\n",
    "$$(y-1)sinx+xcosx=ce^{-y}.$$"
   ]
  },
  {
   "cell_type": "markdown",
   "metadata": {},
   "source": [
    "\n",
    "\n",
    "\n",
    "\n",
    "\n",
    "\n",
    "\n",
    "(2)由原方程易得:\n",
    "\n",
    "$$x(4y\\mathrm dx+2x\\mathrm dy)=\\mathrm d(2x^{2}y).$$\n",
    "\n",
    "对于方程\n",
    "\n",
    "$$y^(3)(3y\\mathrm dx+5x\\mathrm dy)=0,$$\n",
    "\n",
    "有\n",
    "\n",
    "$$M=3y^{4},N=5xy^{3}，\\frac{\\partial M}{\\partial y}=12y^{3},\\frac{\\partial N}{\\partial x}=5y^{3},$$\n",
    "\n",
    "因为$$\\frac{\\frac{\\partial M}{\\partial y}-\\frac{\\partial N}{\\partial x}}{5xy^{3}}=\\frac{7}{5x},$$\n",
    "\n",
    "所以方程有积分因子\n",
    "\n",
    "$$\\mu=2e^{\\int \\frac{7}{5x}\\mathrm dx}=x^{\\frac{7}{5}}.$$\n",
    "\n",
    "以$\\mu=x^{\\frac{7}{5}}$乘以方程$y^{3}(3y\\mathrm dx+5x\\mathrm dy)=0 $两边得\n",
    "\n",
    "$$3y^{4}x^{\\frac{7}{5}}\\mathrm dx+5x^{\\frac{12}{5}}y^{3}\\mathrm dy=0,$$\n",
    "\n",
    "即\n",
    "\n",
    "$$\\mathrm d(\\frac{5}{4}x^{\\frac{12}{5}}y^{4})=0.$$\n",
    "综上，得到原方程的通解为\n",
    "\n",
    "$$2x^{2}y+\\frac{5}{4}x^{\\frac{12}{5}}y^{4}=c,$$\n",
    "或\n",
    "\n",
    "$$8x^{2}y+5x^{\\frac{12}{5}}y{4}=c.$$\n",
    "\n",
    "**答案过程不正确**"
   ]
  },
  {
   "cell_type": "markdown",
   "metadata": {
    "collapsed": true
   },
   "source": [
    "**A**"
   ]
  },
  {
   "cell_type": "code",
   "execution_count": null,
   "metadata": {
    "collapsed": true
   },
   "outputs": [],
   "source": []
  }
 ],
 "metadata": {
  "kernelspec": {
   "display_name": "SageMath 7.3",
   "language": "",
   "name": "sagemath"
  },
  "language_info": {
   "codemirror_mode": {
    "name": "ipython",
    "version": 2
   },
   "file_extension": ".py",
   "mimetype": "text/x-python",
   "name": "python",
   "nbconvert_exporter": "python",
   "pygments_lexer": "ipython2",
   "version": "2.7.10"
  }
 },
 "nbformat": 4,
 "nbformat_minor": 0
}
