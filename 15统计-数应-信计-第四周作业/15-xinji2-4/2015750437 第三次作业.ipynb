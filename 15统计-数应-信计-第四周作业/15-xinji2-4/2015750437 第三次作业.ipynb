{
 "cells": [
  {
   "cell_type": "markdown",
   "metadata": {},
   "source": [
    "# 常微分方程作业 2015750437 李玉贤\n",
    "\n",
    "##P60.2.(8).(9).(10).(11).4.8.P70.1.(1).(2).(3).(4).(5).(6)."
   ]
  },
  {
   "cell_type": "markdown",
   "metadata": {},
   "source": [
    "**$2.求下列方程的解：$**"
   ]
  },
  {
   "cell_type": "markdown",
   "metadata": {},
   "source": [
    "**$（8）(x+2y)\\mathrm{d}x+x\\mathrm{d}y=0 $**"
   ]
  },
  {
   "cell_type": "markdown",
   "metadata": {},
   "source": [
    "**$ 解:$**\n",
    "$$M=x+2y,N=x $$\n",
    "   $$\\frac{\\partial M}{\\partial y}=2，\\frac{\\partial N}{\\partial x}=1 $$ \n",
    "   $$方程不恰当，\\frac{\\frac{\\partial M}{\\partial y}+\\frac{\\partial N}{\\partial x}}{N}=\\frac{1}{x}$$\n",
    "   $$有积分因子：$$\n",
    "   $$ \\mu=e^{\\int\\mathrm{\\frac{1}{x}}\\mathrm{d}x}=x$$\n",
    "      $$将\\mu=x乘到方程两边得：$$\n",
    "      $$2xy\\mathrm {d}x+x^2\\mathrm{d}y+x^2\\mathrm {d}x=0 $$\n",
    "      $$\\mathrm{d}(x^2y+\\frac{1}{3}x^3)=0$$\n",
    "      $$原方程解为x^3+3x^2y=c，c为任意常数$$\n",
    "    "
   ]
  },
  {
   "cell_type": "markdown",
   "metadata": {},
   "source": [
    "**$（9）[x\\cos(x+y)+\\sin(x+y)]\\mathrm{d}x+x\\cos(x+y)\\mathrm{d}y=0 $**"
   ]
  },
  {
   "cell_type": "markdown",
   "metadata": {},
   "source": [
    "**$ 解:$**\n",
    "$$\n",
    "M=x\\cos(x+y)+\\sin(x+y),N=x\\cos(x+y) $$\n",
    "   $$\\frac{\\partial M}{\\partial y}=-x\\sin(x+y)+\\cos(x+y)，\\frac{\\partial N}{\\partial x}=\\cos(x+y)-x\\sin(x+y) $$ \n",
    "   $$方程是恰当的$$\n",
    "        $$\\mathrm{d}(x\\sin(x+y))=0$$\n",
    "      $$原方程解为x\\sin(x+y)=c，c为任意常数$$\n",
    "    "
   ]
  },
  {
   "cell_type": "markdown",
   "metadata": {},
   "source": [
    "**$（10）(y\\cos x-x\\sin x)\\mathrm{d}x+(y\\sin x+x\\cos x)\\mathrm{d}y=0 $**"
   ]
  },
  {
   "cell_type": "markdown",
   "metadata": {},
   "source": [
    "**$ 解:$**\n",
    "$$M=y\\cos x-x\\sin x,N=y\\sin x+x\\cos x $$\n",
    "   $$\\frac{\\partial M}{\\partial y}=\\cos x，\\frac{\\partial N}{\\partial x}=y\\cos x+\\cos x-x\\sin x $$ \n",
    "   $$方程不恰当，\\frac{\\frac{\\partial M}{\\partial y}+\\frac{\\partial N}{\\partial x}}{M}=1 $$\n",
    "   $$有积分因子：$$\n",
    "   $$ \\mu=e^{\\int\\mathrm{1}\\mathrm{d}y}=e^y$$\n",
    "      $$将\\mu=e^y乘到方程两边得：$$\n",
    "      $$(ye^y\\cos x\\mathrm {d}x+ye^y\\sin x\\mathrm{d}y)+(e^y\\cos x\\mathrm {d}y-e^yx\\sin x\\mathrm {d}x)=0 $$\n",
    "      $$\\mathrm{d}[(y-1)e^y\\sin x+e^yx\\cos x]=0$$\n",
    "      $$原方程解为e^Yx\\cos x+e^yx\\cos x=c，c为任意常数$$\n",
    "    "
   ]
  },
  {
   "cell_type": "markdown",
   "metadata": {},
   "source": [
    "**$（11）x(4y\\mathrm{d}x+2x\\mathrm{d}y)+y^3(3y\\mathrm{d}x+5x\\mathrm{d}y)=0 $**"
   ]
  },
  {
   "cell_type": "markdown",
   "metadata": {},
   "source": [
    "**$ 解:$**\n",
    "$$x(4y\\mathrm{d}x+2x\\mathrm{d}y)=\\mathrm{d}(2x^2y)$$\n",
    "$$对方程y^3(3y\\mathrm{d}x+5x\\mathrm{d}y)=0有：$$\n",
    "$$M=3y^4,N=5xy^3 $$\n",
    "   $$\\frac{\\partial M}{\\partial y}=12y^3，\\frac{\\partial N}{\\partial x}=5y^3 $$ \n",
    "   $$方程不恰当，\\frac{\\frac{\\partial M}{\\partial y}+\\frac{\\partial N}{\\partial x}}{5xy^3}=\\frac{7}{5x} $$\n",
    "   $$有积分因子：$$\n",
    "   $$ \\mu=e^{\\int\\mathrm{\\frac{7}{5x}}\\mathrm{d}x}=x^{\\frac{7}{5}}$$\n",
    "      $$将\\mu=x^{\\frac{7}{5}}乘到方程y^3(3y\\mathrm{d}x+5x\\mathrm{d}y)=0两边得：$$\n",
    "      $$3y^4x^{\\frac{7}{5}}\\mathrm{d}x+5x^{\\frac{12}{5}}y^3\\mathrm{d}y=0 $$\n",
    "      $$\\mathrm{d}(\\frac{5}{4}x^{\\frac{12}{5}}y^4)=0$$\n",
    "      $$原方程通解为2x^2y+\\frac{5}{4}x^{\\frac{12}{5}}y^4=c，$$\n",
    "      $$或为：8x^2y+5x^{\\frac{12}{5}}y^4=c $$\n",
    "      $$c为任意常数$$\n",
    "    "
   ]
  },
  {
   "cell_type": "markdown",
   "metadata": {},
   "source": [
    "# <font color='red'>错误"
   ]
  },
  {
   "cell_type": "markdown",
   "metadata": {},
   "source": [
    "** $ 4.设f(x,y)及 \\frac {\\partial f}{\\partial y}连续，试证方程\\mathrm {d} y-f(x,y)\\mathrm {d} x为线性微分方程的充要条件是它有仅依赖于x的积分因子. $ **"
   ]
  },
  {
   "cell_type": "markdown",
   "metadata": {},
   "source": [
    " ** $ 解: $** \n",
    "**$充分性:$**\n",
    "$$设方程\\mathrm {d} y-f(x,y)\\mathrm {d} x有仅依赖于x的积分因子，证方程为线性微分方程.$$\n",
    "$$存在某个\\phi (x)满足：$$\n",
    "$$\\frac{\\frac{\\partial M}{\\partial y}-\\frac{\\partial N}{\\partial x}}{N}=\\frac{-{\\frac{\\partial f}{\\partial y}}-0}{1}=\\phi (x)$$\n",
    "$$\\frac{\\partial f}{\\partial y}=-\\phi (x)$$\n",
    "$$对上面两式积分得：f(x,y)=-\\phi (x)y+h(x)$$\n",
    "$$h(x)为关于x的任意可微函数，原方程为：$$\n",
    "$$\\frac{\\mathrm{d}y}{\\mathrm{d}x}=-\\phi (x)y+h(x)$$\n",
    "$$方程\\mathrm {d} y-f(x,y)\\mathrm {d} x为线性微分方程$$\n",
    "**$必要性:$**\n",
    "$$设方程\\mathrm {d} y-f(x,y)\\mathrm {d} x为线性微分方程.$$\n",
    "$$存在函数g(x)，h(x)使得f(x,y)=yg(x)+h(x)$$\n",
    "$$M=-f(x,y)=-\\phi (x)y-h(x),N=1 $$\n",
    "     $$\\frac{\\frac{\\partial M}{\\partial y}+\\frac{\\partial N}{\\partial x}}{N}=\\frac{-g(x)}{1}=-g(x)$$\n",
    "   $$有积分因子：$$\n",
    "   $$ \\mu=e^{\\int\\mathrm{-g(x)}\\mathrm{d}x}$$\n",
    "      $$所以方程\\mathrm {d} y-f(x,y)\\mathrm {d} x有仅依赖于x的积分因子$$"
   ]
  },
  {
   "cell_type": "markdown",
   "metadata": {},
   "source": [
    "** $ 8.求出伯努利方程的积分因子. $ **"
   ]
  },
  {
   "cell_type": "markdown",
   "metadata": {},
   "source": [
    "** $ 解: $** \n",
    "$伯努利方程为：$\n",
    "$$\\frac{\\mathrm{d}y}{\\mathrm{d}x}=p(x)y+q(x)y^n$$\n",
    "$可化为：$\n",
    "$$\\mathrm{d}y-p(x)y\\mathrm{d}x-q(x)y^n\\mathrm{d}x=0$$\n",
    "$$y^{-n}\\mathrm{d}y-p(x)y^{1-n}\\mathrm{d}x-q(x)\\mathrm{d}x=0$$\n",
    "$$\\mathrm{d}(y^{1-n})-(1-n)p(x)y^{1-n}\\mathrm{d}x-(1-n)q(x)\\mathrm{d}x=0$$\n",
    "$两边同乘e^{-（1-n）\\int\\mathrm{p(x)}\\mathrm{d}x}   得：$\n",
    "$$e^{-（1-n）\\int\\mathrm{p(x)}\\mathrm{d}x} [\\mathrm{d}(y^{1-n})-(1-n)p(x)y^{1-n}\\mathrm{d}x]-e^{-（1-n）\\int\\mathrm{p(x)}\\mathrm{d}x} (1-n)q(x)\\mathrm{d}x=0$$\n",
    "$$ \\mathrm{d}[(y^{1-n}e^{-（1-n）\\int\\mathrm{p(x)}\\mathrm{d}x}]-\\mathrm{d}[\\int\\mathrm{(1-n)q(x)e^{-（1-n）\\int\\mathrm{p(x)}\\mathrm{d}x}} (1-n)q(x)\\mathrm{d}x]=0$$\n",
    "   $$其积分因子为：$$\n",
    "   $$ \\mu=y^{-n}e^{(n-1)\\int\\mathrm{p(x)}\\mathrm{d}x}    $$\n",
    "      "
   ]
  },
  {
   "cell_type": "markdown",
   "metadata": {},
   "source": [
    "**$1.求下列方程：$**"
   ]
  },
  {
   "cell_type": "markdown",
   "metadata": {},
   "source": [
    "**$（1）xy'^3=1+y' $**"
   ]
  },
  {
   "cell_type": "markdown",
   "metadata": {},
   "source": [
    "**$ 解:$**\n",
    "$$x=\\frac{1+y'}{y'^3} $$\n",
    "$将\\frac{\\mathrm{d}y}{\\mathrm{d}x}代入$\n",
    "$$x=\\frac{1}{p^3}+\\frac{1}{p^2}不等于0$$\n",
    "   $两边同时对y求导：$ \n",
    "   $$\\frac{1}{p}=(-\\frac{3}{p^4}-\\frac{2}{p^3})\\frac{\\mathrm{d}p}{\\mathrm{d}y}$$\n",
    "   $$或：(3+2p)\\mathrm{d}p+p^3\\mathrm{d}y=0$$\n",
    "   $$ y=\\frac{3}{2p^2}+\\frac{2}{p}+c$$      \n",
    "   $$方程的通解为x=\\frac{1}{p^3}+\\frac{1}{p^2}，y=\\frac{3}{2p^2}+\\frac{2}{p}+c，p不等于0，c为任意常数$$"
   ]
  },
  {
   "cell_type": "markdown",
   "metadata": {},
   "source": [
    "**$（2）y'^3-x^3(1-y')=0 $**"
   ]
  },
  {
   "cell_type": "markdown",
   "metadata": {},
   "source": [
    "**$ 解:$**\n",
    "$$令y'=tx，则原方程化为x^3(t^3-1+tx)=0 $$\n",
    "$$x=\\frac{1}{t}-t^2$$\n",
    "   $两边同时对y求导：$ \n",
    "   $$\\frac{1}{1-t^3}=(-\\frac{1}{t^2}-2t)\\frac{\\mathrm{d}t}{\\mathrm{d}y} $$\n",
    "$$\\mathrm {d}y = [(1-t^3)(-\\frac{1}{t^2}-2)]\\mathrm{d}t$$\n",
    "   $$ 两边积分得y=-\\frac{1}{2}t^2+\\frac{2}{5}t^5+\\frac{1}{t}+c$$      \n",
    "   $$方程的通解为x=\\frac{1}{t}-t^2，y=-\\frac{1}{2}t^2+\\frac{2}{5}t^5+\\frac{1}{t}+c，c为任意常数$$"
   ]
  },
  {
   "cell_type": "markdown",
   "metadata": {},
   "source": [
    "**$（3)3y=y'^2e{y'} $**"
   ]
  },
  {
   "cell_type": "markdown",
   "metadata": {},
   "source": [
    "**$ 解:$**\n",
    "$$令y'=p，则原方程化为p^2e^p $$\n",
    "   $两边同时对x求导：$ \n",
    "   $$p=(2p+p^2)e^p\\frac{\\mathrm{d}p}{\\mathrm{d}x} $$\n",
    "$$或\\mathrm {d}x = (p+2)e^p\\mathrm{d}p $$\n",
    "   $$ 两边积分得x = (p+1)e^p+c$$      \n",
    "   $$方程的通解为x=(p+1)e^p+c，y=p^2e^p，c为任意常数$$"
   ]
  },
  {
   "cell_type": "markdown",
   "metadata": {},
   "source": [
    "**$（4）y(1+y'^2)=2a（a为常数） $**"
   ]
  },
  {
   "cell_type": "markdown",
   "metadata": {},
   "source": [
    "**$ 解:$**\n",
    "$$令y'=\\tan t，则原方程化为y=2a(\\cos t)^2 $$\n",
    "   $两边同时对x求导：$ \n",
    "   $$\\tan t=-2a\\sin{2t}\\frac{\\mathrm{d}t}{\\mathrm{d}x} $$\n",
    "$$或\\mathrm {d}x =-4a(\\cos t)^2\\mathrm{d}t$$\n",
    "   $$ 两边积分得x=-a(2t+\\sin {2t}+c)$$      \n",
    "   $$方程的通解为x=-a(2t+\\sin {2t}+c)，y=2a(\\cos t)^2，c为任意常数$$"
   ]
  },
  {
   "cell_type": "markdown",
   "metadata": {},
   "source": [
    "**$（5）x^2-y'^2=1 $**"
   ]
  },
  {
   "cell_type": "markdown",
   "metadata": {},
   "source": [
    "**$ 解:$**\n",
    "$$令y'=\\cos t，则原方程化为x^2(\\cos t)^2=1 $$\n",
    "$$x=\\sin t $$\n",
    "   $两边同时对y求导：$ \n",
    "   $$\\frac{1}{\\cos t}=\\cos {\\frac{\\mathrm{d}t}{\\mathrm{d}y}} $$\n",
    "$$或\\mathrm {d}y = (\\cos t)^2\\mathrm{d}t$$\n",
    "   $$ 两边积分得y=\\frac{t}{2}+\\frac{1}{4}\\sin 2t +c$$      \n",
    "   $$方程的通解为x=\\sin t，y=\\frac{\\sin 2t}{4}+c，c为任意常数$$"
   ]
  },
  {
   "cell_type": "markdown",
   "metadata": {},
   "source": [
    "**$（6）y^2(y'-1)=(2-y')^2 $**"
   ]
  },
  {
   "cell_type": "markdown",
   "metadata": {},
   "source": [
    "**$ 解:$**\n",
    "$$令2-y'=yt，则原方程化为y^2(1-yt)=y^2t^2$$\n",
    "$$y=\\frac{1}{t}-t$$\n",
    "$$y'=1+t^2 $$\n",
    "$$\\mathrm {d}x = \\frac{\\mathrm {d}y}{y'}=\\frac{(-\\frac{1}{t^2}-1)\\mathrm {d} t}{1+t^2}=-\\frac{1}{t^2}\\mathrm {d} t$$\n",
    "   $$ 两边积分得x=\\frac{1}{t}+c$$      \n",
    "   $$方程的通解为x=\\frac{1}{t}+c，y=\\frac{1}{t}-t，c为任意常数$$\n",
    "   $$消去t ,得：y=x-\\frac{1}{x-c}-c，c为任意常数$$\n",
    "   $$y'=0时，原方程-y^2=4无解.$$"
   ]
  },
  {
   "cell_type": "markdown",
   "metadata": {
    "collapsed": true
   },
   "source": [
    "# <font color='red'>A 26/9"
   ]
  },
  {
   "cell_type": "code",
   "execution_count": null,
   "metadata": {
    "collapsed": true
   },
   "outputs": [],
   "source": []
  }
 ],
 "metadata": {
  "kernelspec": {
   "display_name": "SageMath 7.3",
   "language": "",
   "name": "sagemath"
  },
  "language_info": {
   "codemirror_mode": {
    "name": "ipython",
    "version": 2
   },
   "file_extension": ".py",
   "mimetype": "text/x-python",
   "name": "python",
   "nbconvert_exporter": "python",
   "pygments_lexer": "ipython2",
   "version": "2.7.10"
  }
 },
 "nbformat": 4,
 "nbformat_minor": 0
}
