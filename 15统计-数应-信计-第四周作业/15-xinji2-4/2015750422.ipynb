{
 "cells": [
  {
   "cell_type": "markdown",
   "metadata": {},
   "source": [
    "1.求下列方程的解："
   ]
  },
  {
   "cell_type": "markdown",
   "metadata": {},
   "source": [
    "（1）.$$(x+2y)dx+xdy=0$$\n",
    "解：$$\\frac{\\partial M}{\\partial y}-\\frac{\\partial N}{\\partial x}=1,$$\n",
    "$$\\frac{\\frac {\\partial M}{\\partial y}-\\frac{\\partial N}{\\partial x}}{x}=\\frac{1}{x}$$\n",
    "所以方程有积分因子$$x$$\n",
    "将原方程化为;$$（x^2+2xy）dx+x^2dy=0$$\n",
    "解得：$$x^3+3x^2y=c$$\n",
    "另外：$$x=0也为方程的解$$"
   ]
  },
  {
   "cell_type": "markdown",
   "metadata": {},
   "source": [
    "(2).$$[xcos(x+y)+sin(x+y)]dx+xcos(x+y)dy=0$$\n",
    "$$\\frac{\\partial M}{\\partial y}=-xsin(x+y)+cos(x+y)$$\n",
    "$$\\frac{\\partial N}{\\partial x}=-xsin(x+y)+cos(x+y)$$\n",
    "所以：$$\\frac{\\partial M}{\\partial y}=\\frac{\\partial N}{\\partial x}=-xsin(x+y)+cos(x+y)$$\n",
    "方程为恰当微分方程，并且方程可写为$$d(xsin(x+y))=0,$$\n",
    "所以方程的通解为：$$xsin(x+y)=c$$"
   ]
  },
  {
   "cell_type": "markdown",
   "metadata": {},
   "source": [
    "(3).$$(ycosx-xsinx)dx+(ysinx+xcosx)dy=0$$\n",
    "$$\\frac{\\partial M}{\\partial y}=cosx$$\n",
    "$$\\frac{\\partial N}{\\partial x}=ycosx+cosx-xsinx$$\n",
    "方程不为恰当微分方程，\n",
    "$$\\frac{\\frac{\\partial M}{\\partial y}-\\frac{\\partial N}{\\partial x}}{-M}=1$$\n",
    "所以方程有积分因子：$$z=e^y,$$\n",
    "用积分因子乘方程两边得：$$(ye^ycosxdx+ye^ysinxdy)+(e^yxcosxdy-e^yxsinxdx)=0$$\n",
    "即：$$d[(y-1)e^ysinx+e^yxcosx]=0$$\n",
    "解得原方程的通解为：$$(y-1)sinx+xcosx=ce^{-y}$$"
   ]
  },
  {
   "cell_type": "markdown",
   "metadata": {},
   "source": [
    "(4).$$x(4ydx+2xdy)+y^3(3ydx+5xdy)=0$$\n",
    "$$x(4ydx+2xdy)=d(2x^2y)$$\n",
    "对方程$$y^3(3ydx+5xdy)=0$$有：\n",
    "$$\\frac{\\partial M}{\\partial y}=12y^3$$\n",
    "$$\\frac{\\partial N}{\\partial x}=5y^3$$\n",
    "$$\\frac{\\frac{\\partial M}{\\partial y}-\\frac{\\partial N}{\\partial x}}{5xy^3}=\\frac{7}{5x},$$\n",
    "所以方程有积分因子：$$z=x^{\\frac{7}{5}}$$\n",
    "得到方程：$$3y^4x^{\\frac{7}{5}}y^3dy=0,$$\n",
    "即：$$d(\\frac{5}{4}x^{\\frac{12}{5}}y^3dy=0$$\n",
    "综上：得到原方程的解为：$$2x^2y+\\frac{5}{4}x^{\\frac{12}{5}}y^4=c$$\n"
   ]
  },
  {
   "cell_type": "markdown",
   "metadata": {},
   "source": [
    "4.充分性：设$$dy-f(x,y)dx=0$$有仅依赖于x的积分因子，\n",
    "所以存在某个$$z(x)$$满足\n",
    "$$\\frac{\\frac{\\partial M}{\\partial y}-\\frac{\\partial N}{\\partial x}}{N}=\\frac{\\frac{\\partial f}{\\partial y}-0}{1}=z(x)$$\n",
    "即：$$\\frac{\\partial f}{\\partial y}=-z(x),$$\n",
    "对上式积分得：$$f(x,y)=-z(x)y+h(x)$$\n",
    "其中h(x)为关于x的任意可微函数，原方程可写为：\n",
    "$$\\frac{\\mathrm dy}{\\mathrm dx}=-z(x)y+h(x)$$\n",
    "这即证明了$$dy-f(x,y)dx=0$$是线性的"
   ]
  },
  {
   "cell_type": "markdown",
   "metadata": {},
   "source": [
    "必要性：设方程$${\\mathrm dy}-f(x){\\mathrm dx}=0$$是线性微分方程，即存在g(x),h(x)使得\n",
    "$$f(x,y)=yg(x)+h(x)$$\n",
    "$$\\frac{\\frac{\\partial M}{\\partial y}-\\frac{\\partial N}{\\partial x}}{N}=\\frac{-g(x)}{1}=-g(x),$$\n",
    "所以方程有积分因子：$$m=e^{\\int -g(x)dx}$$\n",
    "即证明了方程有仅依赖于x的积分因子"
   ]
  },
  {
   "cell_type": "markdown",
   "metadata": {},
   "source": [
    "8.解：伯努利方程为$$\\frac{dy}{dx}=p(x)y+q(x)y^n$$\n",
    "改写为;$$dy-p(x)ydx-q(x)y^ndx=0,$$\n",
    "两边同时乘以y^{-n}得：$$y^{-n}dy-p(x)y^{1-n}dx-q(x)dx=0$$\n",
    "即$$d(\\frac{y}{y^n})-(1-n)P(x)\\frac{y}{y^n}dx-(1-n)Q(x)dx=0$$\n",
    "若将此方程整理成全微分方程，则需要乘以$$e^{-(1-n)\\int P(x)\\ dx}$$\n",
    "所以，要求的积分因子为$$z=\\frac{1}{y^n}e^{-(1-n)\\int P(x)\\ dx}$$"
   ]
  },
  {
   "cell_type": "markdown",
   "metadata": {},
   "source": [
    "求下列方程的解："
   ]
  },
  {
   "cell_type": "markdown",
   "metadata": {},
   "source": [
    "（1）.$$xy'^3=1+y'$$\n",
    "令$$\\frac{dy}{dx}=y'=\\frac{1}{t}$$则：\n",
    "$$x=t^3+t^2,$$\n",
    "对y求导得：$$t=(3t^2+2t)\\frac{dt}{dy}$$\n",
    "积分得：$$y=\\frac{3}{2}t^2+2t+c,$$\n",
    "所以方程的解为：$$\\begin{cases}\n",
    "x=t^3+t^2\\\\\n",
    "y=\\frac{3}{2}t^2+2t+c\n",
    "\\end{cases}$$"
   ]
  },
  {
   "cell_type": "markdown",
   "metadata": {},
   "source": [
    "(2).令$$y'=tx$$,则原方程为$$x^3(t^3-1+tx)=0$$\n",
    "解出x为$$x=\\frac{1}{t}-t^2,$$\n",
    "两边对y求导得：$$\\frac{1}{1-t^3}=(\\frac{-1}{t^2}-2t)\\frac{dt}{dy}$$\n",
    "积分得：$$y=-\\frac{1}{2}t^2+\\frac{2}{5}t^5+\\frac{1}{t}+c$$\n",
    "所以方程的通解为：$$\\begin{cases}\n",
    "x=\\frac{1}{t}-t^2\\\\\n",
    "y=-\\frac{1}{2}t^2+\\frac{2}{5}t^5+\\frac{1}{t}+c\n",
    "\\end{cases}$$"
   ]
  },
  {
   "cell_type": "markdown",
   "metadata": {},
   "source": [
    "(3).解：设$$y'=p$$,则原方程可化为$$y=p^2e^p$$\n",
    "对x求导数，得$$p=(2p+p^2)e^p\\frac{dp}{dx},即dx=(p+2)e^pdp$$\n",
    "积分后得$$x=(p+1)e^p+c$$\n",
    "所以，方程的通解为\n",
    "$$\\begin{cases}\n",
    "x=(p+1)e^p+c\\\\\n",
    "y=p^2e^p   (p为参数，c为任意常数)\n",
    "\\end{cases}$$\n",
    "$$y=0也是方程的解$$"
   ]
  },
  {
   "cell_type": "markdown",
   "metadata": {},
   "source": [
    "（4）解：设$$y'=tan t$$,则原方程化为$$y=2a(cost)^2$$\n",
    "方程两端关于x求导可得$$tan t=-2axin 2t\\frac{dt}{dx}$$,即$$dx=-4a(cos t)^2dt$$\n",
    "积分得$$x=-a(2t+sin 2t)+c$$\n",
    "所以方程的通解为\n",
    "$$\\begin{cases}\n",
    "x=-a(2t+sin 2t)+c\\\\\n",
    "y=2a(cos t)^2     (t为参数，c为任意常数)\n",
    "\\end{cases}$$\n",
    "$$y=2a也是方程的解$$"
   ]
  },
  {
   "cell_type": "markdown",
   "metadata": {},
   "source": [
    "（5）.解：设$$y'=cos t$$则方程可化为$$x=sint$$\n",
    "方程两边对y求导得$$dy=cos^2tdt$$积分得$$y=\\frac{t}{2}+\\frac{sin 2t}{4}+c$$\n",
    "所以，方程的通解为\n",
    "$$\\begin{cases}\n",
    "x=sin t\\\\\n",
    "y=\\frac{t}{2}+\\frac{sin 2t}{4}+c  (t为参数，c为任意常数)\n",
    "\\end{cases}$$"
   ]
  },
  {
   "cell_type": "markdown",
   "metadata": {},
   "source": [
    "(6).解：令$$2-y'=ty$$则原方程可化为$$y^2(1-yt)=y^2t^2$$\n",
    "由此得$$y=\\frac{1}{t}-t,且y'=1+t^2$$\n",
    "所以$$dx=\\frac{dy}{y'}=\\frac{-\\frac{1}{t^2}-1}{1+t^2}dt=\\frac{-dt}{t^2}$$\n",
    "积分得$$x=\\frac{1}{t}+c$$\n",
    "所以，原方程的参数形式的通解为\n",
    "$$\\begin{cases}\n",
    "x=\\frac{1}{t}+c\\\\\n",
    "y=\\frac{1}{t}-c   (c为任意常数)\n",
    "\\end{cases}$$"
   ]
  },
  {
   "cell_type": "markdown",
   "metadata": {
    "collapsed": true
   },
   "source": [
    "# <font color='red'>A+ 26/9"
   ]
  },
  {
   "cell_type": "code",
   "execution_count": null,
   "metadata": {
    "collapsed": true
   },
   "outputs": [],
   "source": []
  }
 ],
 "metadata": {
  "kernelspec": {
   "display_name": "SageMath 7.3",
   "language": "",
   "name": "sagemath"
  },
  "language_info": {
   "codemirror_mode": {
    "name": "ipython",
    "version": 2
   },
   "file_extension": ".py",
   "mimetype": "text/x-python",
   "name": "python",
   "nbconvert_exporter": "python",
   "pygments_lexer": "ipython2",
   "version": "2.7.10"
  }
 },
 "nbformat": 4,
 "nbformat_minor": 0
}
