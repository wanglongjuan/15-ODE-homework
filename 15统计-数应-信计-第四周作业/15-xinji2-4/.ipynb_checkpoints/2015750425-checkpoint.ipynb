{
 "cells": [
  {
   "cell_type": "markdown",
   "metadata": {
    "collapsed": true
   },
   "source": [
    "书P61\n",
    "\n",
    "2（8）\n",
    "\n",
    "$(x+2y)dx+xdy=0$\n",
    "\n",
    "$令M=x+2y,N=x$\n",
    "\n",
    "$则\\frac{\\partial M}{\\partial y}=2,\\frac{\\partial N}{\\partial x}=1$\n",
    "\n",
    "$因为\\frac{\\partial M}{\\partial y}与\\frac{\\partial N}{\\partial x}不相等$\n",
    "\n",
    "所以方程不是恰当的\n",
    "\n",
    "$因为\\frac{\\frac{\\partial M}{\\partial y}-\\frac{\\partial N}{\\partial x}}{N}=\\frac{1}{x}$\n",
    "\n",
    "$所以方程有积分因子μ=x$\n",
    "\n",
    "$方程两边同时乘x得2xydx+x^2dy+x^2dx=0$\n",
    "\n",
    "$即d(x^2y+x^3\\frac{1}{3})$\n",
    "\n",
    "$所以，方程的通解为x^3+3x^2y=c$,其中c为任意常数"
   ]
  },
  {
   "cell_type": "markdown",
   "metadata": {},
   "source": [
    "（9）\n",
    "\n",
    "$[xcos(x+y)+sin(x+y)]dx+xcos(x+y)dy=0$\n",
    "\n",
    "$因为M=xcos(x+y)+sin(x+y)，N=xcos(x+y)$\n",
    "\n",
    "$\\frac{\\partial M}{\\partial y}=-xsin(x+y)+cos(x+y),\\frac{\\partial N}{\\partial x}=-xsin(x+y)+cos(x+y)$\n",
    "\n",
    "$所以方程是恰当的，且方程可以写成d(xsin(x+y))=0$\n",
    "\n",
    "$所以原方程的通解为xsin(x+y)=c,其中c为任意常数$\n",
    "\n"
   ]
  },
  {
   "cell_type": "markdown",
   "metadata": {},
   "source": [
    "(10) \n",
    "\n",
    "$(ycos x-xsin x)dx+(ysin x+xcos y)dy=0$\n",
    "\n",
    "$因为M=ycos x-xsin x,N=ysin x+xcos y,\\frac{\\partial M}{\\partial y}=cos x,\\frac{\\partial N}{\\partial x}=cos x+cos x-xsin x$\n",
    "\n",
    "$\\frac{\\frac{\\partial M}{\\partial y}-\\frac{\\partial N}{\\partial x}}{-N}=1$\n",
    "\n",
    "所以方程不是恰当的\n",
    "\n",
    "$方程的积分因子为μ=e^y,方程两边同乘以e^y得$\n",
    "\n",
    "$(ye^ycos x d x+ye^ysin x d y)+(e^yxcos x d y-e^yxsin x d x)=0$\n",
    "\n",
    "$即d[(y-1)e^ysin x+e^yxcos x]=0$\n",
    "\n",
    "$所以方程的通解为(y-1)e^ysin x+e^yxcos x=c，其中c为任意常数$"
   ]
  },
  {
   "cell_type": "markdown",
   "metadata": {},
   "source": [
    "(11)\n",
    "\n",
    "$x(4ydx+2xdy)+y^3(3ydx+5xdy)=0$\n",
    "\n",
    "$因为M=4xy+3y^4,N=2x^2+5xy^3,\\frac{\\partial M}{\\partial y}=4x^2+12y^3,\\frac{\\partial N}{\\partial x}=4x+5y^3$\n",
    "\n",
    "$\\frac{\\partial M}{\\partial y}与\\frac{\\partial N}{\\partial x}不相等$\n",
    "\n",
    "$所以该方程不是恰当的$\n",
    "\n",
    "$因为M,N为多项式，设积分因子的形式为μ=x^my^n$\n",
    "\n",
    "$方程两边同乘以积分因子得（4x^mxy^ny^4+3x^my^ny^4）dx+（2x^mx^2y^n+5x^mxy^ny^3）dy=0$\n",
    "\n",
    "$它是恰当方程的充要条件是4(n+1)xx^my^n+3(n+4)x^my^3y^n=2(m+2)xx^my^3y^n+5(m+1)x^my^3y^n$\n",
    "\n",
    "即$\n",
    "\\begin{cases}\n",
    "4n-2m=0\\\\\n",
    "3n-5m+7=0\n",
    "\\end{cases}\n",
    "$\n",
    "\n",
    "$解得：\n",
    "\\begin{cases}\n",
    "m=2\\\\\n",
    "n=1\n",
    "\\end{cases}\n",
    "$\n",
    "\n",
    "$即μ=x^2y$\n",
    "\n",
    "$方程两边同时乘x^2y得$\n",
    "\n",
    "$4x^3y^2dx+3x^2y^5dx+2x^4ydy+5x^3y^4dy=d(x^4y^2)+d(x^3y^5)=0$\n",
    "\n",
    "$于是，方程的通解为x^4y^2+x^3y^5=c,c为任意常数，x=0,y=0也是方程的解$"
   ]
  },
  {
   "cell_type": "markdown",
   "metadata": {},
   "source": [
    "4.$充分性：$\n",
    "\n",
    "$设dy-f(x,y)dx=0有仅依赖于x的积分因子$\n",
    "\n",
    "$因为积分因子只依赖于x，所以存在φ(x)满足\\frac{\\frac{\\partial M}{\\partial y}-\\frac{\\partial N}{\\partial x}}{N}=\\frac{-\\frac{\\partial f}{\\partial y}-0}{1}=φ(x),即\\frac{\\partial f}{\\partial y}=-φ(x)$\n",
    "\n",
    "$积分得f(x,y)=-φ(x)y+c,所以\\frac{dy}{dx}=-φ(x)y+c$\n",
    "\n",
    "$即dy-f(x,y)dx=0是线性微分方程$\n",
    "\n",
    "$必要性$\n",
    "\n",
    "$设方程dy-f(x,y)dx=0是线性微分方程，即存在g(x)和h(x)使得f(x,y)=yg(x)+h(x)$\n",
    "\n",
    "$此时，M=-f(x,y)=-yg(x)-h(x),N=1$\n",
    "\n",
    "$\\frac{\\frac{\\partial M}{\\partial y}-\\frac{\\partial N}{\\partial x}}{N}=\\frac{-g(x)}{1}=-g(x)$\n",
    "\n",
    "$所以，方程有仅依赖于x的积分因子$"
   ]
  },
  {
   "cell_type": "markdown",
   "metadata": {},
   "source": [
    "8.$伯努利方程为\\frac{dy}{dx}=p(x)y+q(x)y^n$\n",
    "\n",
    "$改写为dy-p(x)ydx-q(x)y^ndx=0$\n",
    "\n",
    "$方程两边同乘以\\frac{1}{y^n}得\\frac{dy}{y^n}-p(x)\\frac{y}{y^n}dx-q(x)dx=0$\n",
    "\n",
    "$即d(\\frac{y}{y^n})-(1-n)P(x)\\frac{y}{y^n}dx-(1-n)Q(x)dx=0$\n",
    "\n",
    "$若将此方程整理成全微分方程，则需要乘以e^{-(1-n)\\int P(x)\\ dx}$\n",
    "\n",
    "$所以，要求的积分因子为\\frac{1}{y^n}e^{-(1-n)\\int P(x)\\ dx}$"
   ]
  },
  {
   "cell_type": "markdown",
   "metadata": {
    "collapsed": true
   },
   "source": [
    "书P70\n",
    "\n",
    "1（1）\n",
    "\n",
    "$xy'^3=1+y'$\n",
    "\n",
    "$令y'=\\frac{1}{t}$\n",
    "\n",
    "$则方程化为\\frac{x}{t^3}=1+\\frac{1}{t},x=t^3+t^2,dy=\\frac{dx}{t}=(3t+2)dn$\n",
    "\n",
    "$所以y=\\frac{3t^2}{2}+2t+c$\n",
    "\n",
    "$因此，方程的通解为\n",
    "\\begin{cases}\n",
    "x=t^3+t^2\\\\\n",
    "y=\\frac{3t^2}{2}+2t+c\n",
    "\\end{cases}\n",
    "$\n",
    "\n",
    "其中t为参数，c为任意常数"
   ]
  },
  {
   "cell_type": "markdown",
   "metadata": {},
   "source": [
    "(2)\n",
    "\n",
    "$y'^3-x^3(1-y')=0$\n",
    "\n",
    "$设y'=nx$\n",
    "\n",
    "$则方程化简为(n^3-(1-nx))x^3=0$\n",
    "\n",
    "$解得x=\\frac{1}{n}-n^2$\n",
    "\n",
    "$对方程两边同时关于y求导$\n",
    "\n",
    "$得\\frac{1}{1-n^2}=(-\\frac{1}{n^2}-2n)\\frac{dn}{dy}$\n",
    "\n",
    "$即dy=[(1-n^2)(-\\frac{1}{n^2}-2n)]dn$\n",
    "\n",
    "$积分得y=-\\frac{n^2}{2}+\\frac{2n^5}{5}+\\frac{1}{n}+c$\n",
    "\n",
    "所以，方程的通解为\n",
    "\n",
    "$\n",
    "\\begin{cases}\n",
    "x=\\frac{1}{n}-n^2\\\\\n",
    "y=-\\frac{n^2}{2}+\\frac{2n^5}{5}+\\frac{1}{n}+c  (n为参数，c为任意常数)\n",
    "\\end{cases}\n",
    "$"
   ]
  },
  {
   "cell_type": "markdown",
   "metadata": {},
   "source": [
    "（3）\n",
    "\n",
    "$y=y'^2e^{y'}$\n",
    "\n",
    "$设y'=p,则原方程可化为y=p^2e^p$\n",
    "\n",
    "$方程两边对x求导数$\n",
    "\n",
    "$得p=(2p+p^2)e^p\\frac{dp}{dx}$\n",
    "\n",
    "$即dx=(p+2)e^pdp$\n",
    "\n",
    "$积分后得x=(p+1)e^p+c$\n",
    "\n",
    "$所以，方程的通解为\n",
    "\\begin{cases}\n",
    "x=(p+1)e^p+c\\\\\n",
    "y=p^2e^p   (p为参数，c为任意常数)\n",
    "\\end{cases}\n",
    "$\n",
    "\n",
    "同时y=0也是方程的解"
   ]
  },
  {
   "cell_type": "markdown",
   "metadata": {},
   "source": [
    "(4)\n",
    "\n",
    "$y(1+y'^2)=2a  (a为常数)$\n",
    "\n",
    "$设y'=tan t,则原方程化为y=2a(cost)^2$\n",
    "\n",
    "$对方程两端关于x求导$\n",
    "\n",
    "$可得tan t=-2axin 2t\\frac{dt}{dx},即dx=-4a(cos t)^2dt$\n",
    "\n",
    "$积分得x=-a(2t+sin 2t)+c$\n",
    "\n",
    "$所以方程的通解为\n",
    "\\begin{cases}\n",
    "x=-a(2t+sin 2t)+c\\\\\n",
    "y=2a(cos t)^2     (t为参数，c为任意常数)\n",
    "\\end{cases}\n",
    "$\n",
    "\n",
    "同时y=2a也是方程的解"
   ]
  },
  {
   "cell_type": "markdown",
   "metadata": {},
   "source": [
    "（5）\n",
    "\n",
    "$x^2+y'^2=1$\n",
    "\n",
    "$设y'=cos t,则方程可化为x=sin t$\n",
    "\n",
    "$对y求导得dy=cos^2tdt,积分得y=\\frac{t}{2}+\\frac{sin 2t}{4}+c$\n",
    "\n",
    "所以，方程的通解为\n",
    "\n",
    "$\n",
    "\\begin{cases}\n",
    "x=sin t\\\\\n",
    "y=\\frac{t}{2}+\\frac{sin 2t}{4}+c  (t为参数，c为任意常数)\n",
    "\\end{cases}\n",
    "$"
   ]
  },
  {
   "cell_type": "markdown",
   "metadata": {},
   "source": [
    "（6）\n",
    "\n",
    "$y^2(y'-1)=(2-y')^2$\n",
    "\n",
    "$令2-y'=ty,则原方程可化为y^2(1-yt)=y^2t^2$\n",
    "\n",
    "$由此得y=\\frac{1}{t}-t,且y'=1+t^2$\n",
    "\n",
    "$所以dx=\\frac{dy}{y'}=\\frac{-\\frac{1}{t^2}-1}{1+t^2}dt=\\frac{-dt}{t^2}$\n",
    "\n",
    "$积分得x=\\frac{1}{t}+c$\n",
    "\n",
    "$所以，原方程的参数形式的通解为\n",
    "\\begin{cases}\n",
    "x=\\frac{1}{t}+c\\\\\n",
    "y=\\frac{1}{t}-c  \n",
    "\\end{cases}\n",
    "$\n",
    "\n",
    "其中c为任意常数"
   ]
  },
  {
   "cell_type": "markdown",
   "metadata": {
    "collapsed": true
   },
   "source": [
    "# <font color='red'>A 26/9  记得抄题目"
   ]
  },
  {
   "cell_type": "code",
   "execution_count": null,
   "metadata": {
    "collapsed": true
   },
   "outputs": [],
   "source": []
  }
 ],
 "metadata": {
  "kernelspec": {
   "display_name": "SageMath 7.3",
   "language": "",
   "name": "sagemath"
  },
  "language_info": {
   "codemirror_mode": {
    "name": "ipython",
    "version": 2
   },
   "file_extension": ".py",
   "mimetype": "text/x-python",
   "name": "python",
   "nbconvert_exporter": "python",
   "pygments_lexer": "ipython2",
   "version": "2.7.10"
  }
 },
 "nbformat": 4,
 "nbformat_minor": 0
}
