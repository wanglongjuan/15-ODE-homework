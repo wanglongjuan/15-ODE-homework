{
 "cells": [
  {
   "cell_type": "markdown",
   "metadata": {},
   "source": [
    "**2016.9.20**"
   ]
  },
  {
   "cell_type": "markdown",
   "metadata": {},
   "source": [
    "**2.求下列方程的解：**\n",
    "\n",
    "**（8）** $(x+2y)\\mathrm d x+x\\mathrm d y=0$；\n",
    "\n",
    "**（9）** $[x\\cos(x+y)+\\sin(x+y)]\\mathrm d x+x\\cos(x+y)\\mathrm d y=0$；\n",
    "\n",
    "**（10）** $(y\\cos x-x\\sin x)\\mathrm d x+(y\\sin x+x\\cos x)\\mathrm d y=0$；\n",
    "\n",
    "**（11）** $x(4y\\mathrm d x+2x\\mathrm d y)+y^3(3y\\mathrm d x+5x\\mathrm d y)=0$."
   ]
  },
  {
   "cell_type": "markdown",
   "metadata": {},
   "source": [
    "**（8）**\n",
    "\n",
    "**解：**\n",
    "\n",
    "此时 $M=x+2y,N=x$ ,得到 $$\\frac{\\partial M}{\\partial y}=2\\neq\\frac{\\partial N}{\\partial x}=1$$\n",
    "\n",
    "此方程不是恰当方程\n",
    "\n",
    "求得积分因子\n",
    "\n",
    "$$\\frac{\\frac{\\partial M}{\\partial y}-\\frac{\\partial N}{\\partial x}}{N}=\\frac{1}{x}$$\n",
    "\n",
    "$$\\mu=e^{\\int \\frac{1}{x} \\mathrm d x }=x$$\n",
    "\n",
    "将 $\\mu=\\frac{1}{x}$ 乘方程两边得\n",
    "\n",
    "$$\n",
    "\\begin{aligned}\n",
    "x^2\\mathrm d x+2xy\\mathrm d x+x^2\\mathrm d y &=0\\\\\n",
    "\\mathrm d (\\frac{1}{3}x^3+x^2y) &=0\\\\\n",
    "\\frac{1}{3}x^3+x^2y &=\\tilde{c}\\\\\n",
    "\\end{aligned}\n",
    "$$\n",
    "\n",
    "即方程的解为 $$x^3+3x^2y=c$$\n",
    "\n"
   ]
  },
  {
   "cell_type": "markdown",
   "metadata": {},
   "source": [
    "**(9)**\n",
    "\n",
    "**解：**\n",
    "\n",
    "此时 $M=x\\cos(x+y)+\\sin(x+y),N=x\\cos(x+y)$ ,得到 $$\\frac{\\partial M}{\\partial y}=\\frac{\\partial N}{\\partial x}$$\n",
    "\n",
    "此方程为恰当方程\n",
    "\n",
    "取 $x_0=1,y_0=0$ ,则\n",
    "\n",
    "$$\n",
    "\\begin{aligned}\n",
    "u(x,y)=\\int_{x_0}^x M(x,y)\\mathrm d x+\\int_{y_0}^y N(x_0,y)\\mathrm d y &=\\tilde{c}\\\\\n",
    "\\int_1^x (x\\cos(x+y)+\\sin(x+y))\\mathrm d x+\\int_0^y (x_0\\cos(x_0+y))\\mathrm d y &=\\tilde{c}\\\\\n",
    "\\int_1^x (x\\cos(x+y)+\\sin(x+y))\\mathrm d x+\\int_0^y \\cos(1+y)\\mathrm d y &=\\tilde{c}\\\\\n",
    "x\\sin(x+y) &=c\n",
    "\\end{aligned}\n",
    "$$\n",
    "\n",
    "即方程的解为： $x\\sin(x+y)=c$\n",
    "\n"
   ]
  },
  {
   "cell_type": "markdown",
   "metadata": {},
   "source": [
    "**(10)**\n",
    "\n",
    "**解：**\n",
    "\n",
    "此时 $M=y\\cos x-x\\sin x,N=y\\sin x+x\\cos x$ ,得到 \n",
    "\n",
    "$$\\frac{\\partial M}{\\partial y}=\\cos x$$\n",
    "\n",
    "$$\\frac{\\partial N}{\\partial x}=y\\cos x+\\cos x-x\\sin x$$\n",
    "\n",
    "$$\\frac{\\partial M}{\\partial y}\\neq\\frac{\\partial N}{\\partial x}$$\n",
    "\n",
    "此方程不是恰当方程\n",
    "\n",
    "求得积分因子\n",
    "\n",
    "$$\\frac{\\frac{\\partial M}{\\partial y}-\\frac{\\partial N}{\\partial x}}{-M}=1$$\n",
    "\n",
    "$$\\mu=e^{\\int \\mathrm d x }=e^y$$\n",
    "\n",
    "将 $\\mu=e^y$ 乘到方程两边得\n",
    "\n",
    "$$e^y(y\\cos x-x\\sin x)\\mathrm d x+e^y(y\\sin x+x\\cos x)\\mathrm d y=0\\cdots①$$\n",
    "\n",
    "此时，方程①为恰当方程\n",
    "\n",
    "取 $x_0=\\frac{\\pi}{2},y_0=0$ ,则\n",
    "\n",
    "$$\n",
    "\\begin{aligned}\n",
    "u(x,y)=\\int_{x_0}^x M(x,y)\\mathrm d x+\\int_{y_0}^y N(x_0,y)\\mathrm d y &=\\tilde{c}\\\\\n",
    "\\int_\\frac{\\pi}{2}^x (e^y(y\\cos x-x\\sin x)+\\sin(x+y))\\mathrm d x+\\int_0^y (e^y(y\\sin x_0+x\\cos x_0))\\mathrm d y &=\\tilde{c}\\\\\n",
    "\\int_\\frac{\\pi}{2}^x (e^y(y\\cos x-x\\sin x)+\\sin(x+y))\\mathrm d x+\\int_0^y ye^y\\mathrm d y &=\\tilde{c}\\\\\n",
    "(y-1)e^y\\sin x-x\\cos xe^y &=c\n",
    "\\end{aligned}\n",
    "$$\n",
    "\n",
    "原方程的解为：$(y-1)e^y\\sin x-x\\cos xe^y =c$\n",
    "\n",
    "\n",
    "\n"
   ]
  },
  {
   "cell_type": "markdown",
   "metadata": {},
   "source": [
    "**(11)**\n",
    "\n",
    "**解：**\n",
    "\n",
    "方程两边乘 $x^2y$ ，方程化为\n",
    "\n",
    "$$\n",
    "\\begin{aligned}\n",
    "(4x^3y^2\\mathrm d x+2x^4y\\mathrm d y)+(3x^2y^5\\mathrm d x+5x^3y^4\\mathrm d y)=0\\\\\n",
    "\\mathrm d (x^4y^2+x^3y^5)=0\\\\\n",
    "x^4y^2+x^3y^5=c\n",
    "\\end{aligned}\n",
    "$$\n",
    "\n",
    "即方程的解为： $x^4y^2+x^3y^5=c$"
   ]
  },
  {
   "cell_type": "markdown",
   "metadata": {},
   "source": [
    "**4.** 设f(x,y)及 $\\frac{\\partial f}{\\partial y}$ 连续，试证方程 $\\mathrm d y-f(x,y)\\mathrm d x=0$ 为线性微分方程的充要条件是它具有仅依赖于x的积分因子"
   ]
  },
  {
   "cell_type": "markdown",
   "metadata": {},
   "source": [
    "**解：**\n",
    "\n",
    "必要性：\n",
    "\n",
    "方程 $\\mathrm d y-f(x,y)\\mathrm d x=0$ 为线性微分方程，易知方程有积分因子 $\\mu=e^{\\int \\varphi(x)\\mathrm d x}$ 只与x有关\n",
    "\n",
    "充分性：\n",
    "\n",
    "若该方程有只与x有关的积分因子 $\\mu(x)$ ,则 $\\mu(x)\\mathrm d y-\\mu(x)f(x,y)\\mathrm d x=0$ 为恰当方程\n",
    "\n",
    "\n",
    "从而 \n",
    "\n",
    "$$\n",
    "\\begin{aligned}\n",
    "\\frac{\\mathrm d \\mu(x)}{\\mathrm d x} &=\\frac{\\partial (-\\mu(x)f(x,y))}{\\partial y}\\\\\n",
    "-\\mu(x)\\frac{\\partial f(x,y)}{\\partial y} &=\\mu'(x)\\\\\n",
    "\\frac{\\partial f(x,y)}{\\partial y} &=-\\frac{\\mu'(x)}{\\mu(x)}\\\\\n",
    "f(x,y) &=-\\int \\frac{\\mu'(x)}{\\mu(x)}\\mathrm d y+Q(x)\\\\\n",
    "f(x,y) &=-\\frac{\\mu'(x)}{\\mu(x)}y+Q(x)\\\\\n",
    "f(x,y) &=P(x)y+Q(x) &\\quad 其中 P（x）=-\\frac{\\mu'(x)}{\\mu(x)}\n",
    "\\end{aligned}\n",
    "$$\n",
    "\n",
    "即原方程可化为 $\\mathrm d y-(P(x)y+Q(x))\\mathrm d x=0$ ,为一阶线性微分方程"
   ]
  },
  {
   "cell_type": "markdown",
   "metadata": {},
   "source": [
    "**8.**求出伯努利微分方程的积分因子"
   ]
  },
  {
   "cell_type": "markdown",
   "metadata": {},
   "source": [
    "**解：**\n",
    "\n",
    "已知，伯努利微分方程为 $$\\frac{\\mathrm d y}{\\mathrm d x}=P(x)y+Q(x)y^n$$\n",
    "\n",
    "方程两边乘 $y^{-n}$ ,原方程可化为 $$y^{-n}\\frac{\\mathrm d y}{\\mathrm d x}=P(x)y^{1-n}+Q(x)$$\n",
    "\n",
    "设 $z=y^{1-n}$ ,则 \n",
    "\n",
    "$$\n",
    "\\begin{aligned}\n",
    "\\frac{\\mathrm d z}{\\mathrm d x} &=(1-n)y^{-n}\\frac{\\mathrm d y}{\\mathrm d x}\\\\\n",
    "\\frac{\\mathrm d z}{\\mathrm d x} &=（1-n）[P(x)z+Q(x)]\\\\\n",
    "(1-n)[P(x)z+Q(x)]\\mathrm d x-\\mathrm d z &=0\\cdots①\n",
    "\\end{aligned}\n",
    "$$\n",
    "\n",
    "此时方程①中 $M=（1-n）[P(x)z+Q(x)],N=-1$\n",
    "\n",
    "则 $$\\frac{\\partial M}{\\partial z}=（1-n)P(x)\\neq\\frac{\\partial N}{\\partial x}=0$$\n",
    "\n",
    "求得积分因子 \n",
    "\n",
    "$$\\varphi(x)=\\frac{\\frac{\\partial M}{\\partial z}-\\frac{\\partial N}{\\partial x}}{N}=-（1-n)P(x)$$\n",
    "\n",
    "$$\\mu=e^{\\int \\varphi(x)\\mathrm d x}$$\n",
    "\n",
    "$$\\mu=e^{\\int -（1-n)P(x)\\mathrm d x}=e^{(n-1)\\int P(x)\\mathrm d x}$$\n",
    "\n",
    "其积分因子为 $$\\mu=e^{(n-1)\\int P(x)\\mathrm d x}$$\n",
    "\n",
    "\n",
    "\n"
   ]
  },
  {
   "cell_type": "markdown",
   "metadata": {
    "collapsed": true
   },
   "source": [
    "**2016.9.21**\n"
   ]
  },
  {
   "cell_type": "markdown",
   "metadata": {},
   "source": [
    "**1.求解下列方程：**\n",
    "\n",
    "**（1）** $xy'^3=1+y'；$\n",
    "\n",
    "**（2）** $y'^3-x^3(1-y')=0；$\n",
    "\n",
    "**（3）** $y=y'^2e^{y'}；$\n",
    "\n",
    "**（4）** $y(1+y'^2)=2a(a为常数)；$\n",
    "\n",
    "**（5）** $x^2+y'^2=1；$\n",
    "\n",
    "\n",
    "**（6）** $y^2(y'-1)=(2-y')^2.$"
   ]
  },
  {
   "cell_type": "markdown",
   "metadata": {},
   "source": [
    "**（1）**\n",
    "\n",
    "**解：**\n",
    "\n",
    "引入参数 $t$,假设 $y'=\\frac{\\mathrm d y}{\\mathrm d x}=\\frac{1}{t}$\n",
    "\n",
    "原方程可化为 $$x\\frac{1}{t}^3=1+\\frac{1}{t}$$\n",
    "\n",
    "得到 $$x=t^3+t^2$$"
   ]
  },
  {
   "cell_type": "markdown",
   "metadata": {},
   "source": [
    "两边分别对 $y$ 求导，即\n",
    "\n",
    "$$\n",
    "\\begin{aligned}\n",
    "t=\\frac{\\mathrm d x}{\\mathrm d y} &=3t^2\\frac{\\mathrm d t}{\\mathrm d y}+2t\\frac{\\mathrm d t}{\\mathrm d y}\\\\\n",
    "t\\mathrm d y &=3t^2\\mathrm d t+2t\\mathrm d t\\\\\n",
    "\\mathrm dy &=3t\\mathrm d t+2\\mathrm d t\\\\\n",
    "y &=\\frac{3}{2}t^2+2t+c\n",
    "\\end{aligned}\n",
    "$$"
   ]
  },
  {
   "cell_type": "markdown",
   "metadata": {},
   "source": [
    "即，方程的通解为\n",
    "\n",
    "$$\n",
    "\\begin{cases}\n",
    "x=t^3+t^2\\\\\n",
    "y=\\frac{3}{2}t^2+2t+c\n",
    "\\end{cases}\n",
    "$$"
   ]
  },
  {
   "cell_type": "markdown",
   "metadata": {},
   "source": [
    "**(2)**\n",
    "\n",
    "**解：**\n",
    "\n"
   ]
  },
  {
   "cell_type": "markdown",
   "metadata": {},
   "source": [
    "引入参数 $p$,设 $\\frac{\\mathrm d y}{\\mathrm d x}=y'=p$\n",
    "\n",
    "原方程化为 $p^3-x^3(1-p)=0$\n",
    "\n",
    "引入参数 $t$,假设 $p=tx$,得到 $(tx)^3-x^3(1-tx)=0$\n",
    "\n",
    "即 $x=\\frac{1-t^3}{t}$"
   ]
  },
  {
   "cell_type": "markdown",
   "metadata": {},
   "source": [
    "方程两边对 $y$ 求导\n",
    "\n",
    "$$\n",
    "\\begin{aligned}\n",
    "\\frac{1}{tx}=\\frac{\\mathrm d x}{\\mathrm d y} &=\\frac{-2t^3-1}{t^2}\\frac{\\mathrm d t}{\\mathrm d y}\\\\\n",
    "\\mathrm d y &=-(2t+\\frac{1}{t^2})(1-t^3)\\mathrm d t\\\\\n",
    "y &=\\int (2t+\\frac{1}{t2})(t^3-1)\\mathrm d t+c\\\\\n",
    "y &=\\int (2t^4-t-\\frac{1}{t^2})\\mathrm d t+c\\\\\n",
    "y &=\\frac{2}{5}t^5-\\frac{1}{2}t^2+\\frac{1}{t}+c\n",
    "\\end{aligned}\n",
    "$$"
   ]
  },
  {
   "cell_type": "markdown",
   "metadata": {},
   "source": [
    "即方程的通解为\n",
    "\n",
    "$$\n",
    "\\begin{cases}\n",
    "x=\\frac{1-t^3}{t}\\\\\n",
    "y=\\frac{2}{5}t^5-\\frac{1}{2}t^2+\\frac{1}{t}+c\n",
    "\\end{cases}\n",
    "$$"
   ]
  },
  {
   "cell_type": "markdown",
   "metadata": {},
   "source": [
    "**(3)**\n",
    "\n",
    "**解：**"
   ]
  },
  {
   "cell_type": "markdown",
   "metadata": {},
   "source": [
    "引入参数 $t$,设 $y'=t$\n",
    "\n",
    "原方程化为 $$y=t^2e^t$$\n",
    "\n",
    "已知 $$y'=\\frac{\\mathrm d y}{\\mathrm d x}$$\n",
    "\n",
    "得到 \n",
    "\n",
    "$$\n",
    "\\begin{aligned}\n",
    "\\mathrm d x &=\\frac{\\mathrm d y}{y'}=\\frac{1}{t}(2te^t+t^2e^t)\\mathrm d t\\\\\n",
    "\\mathrm d x &=(2+t)e^t\\mathrm d t\\\\\n",
    "x &=\\int (2+t)e^t\\mathrm d t+c\\\\\n",
    "x &=\\int (2+t)\\mathrm d (e^t)+c\\\\\n",
    "x &=e^t+te^t+c\n",
    "\\end{aligned}\n",
    "$$\n",
    "\n"
   ]
  },
  {
   "cell_type": "markdown",
   "metadata": {
    "collapsed": true
   },
   "source": [
    "即方程的通解为\n",
    "\n",
    "$$\n",
    "\\begin{cases}\n",
    "x=e^t+te^t+c\\\\\n",
    "y=t^2e^t\n",
    "\\end{cases}\n",
    "$$"
   ]
  },
  {
   "cell_type": "markdown",
   "metadata": {},
   "source": [
    "**(4)**\n",
    "\n",
    "**解：**"
   ]
  },
  {
   "cell_type": "markdown",
   "metadata": {},
   "source": [
    "引入参数 $\\tan \\varphi$,设 $y'=\\frac{\\mathrm d y}{\\mathrm d x}=\\tan \\varphi$\n",
    "\n",
    "原方程化为 $$y(1+\\tan^2 \\varphi)=2a$$\n",
    "\n",
    "得到 $$y=\\frac{2a}{\\sec^2 \\varphi}=2a\\cos^2 \\varphi$$\n",
    "\n",
    "$$\n",
    "\\begin{aligned}\n",
    "\\frac{\\mathrm d y}{\\mathrm d x} &=\\tan \\varphi\\\\\n",
    "\\mathrm d x &=\\frac{1}{\\tan \\varphi}\\mathrm d y\\\\\n",
    "x &=\\int \\frac{1}{\\tan \\varphi}\\mathrm d (2a\\cos^2 \\varphi)+c\\\\\n",
    "x &=-4a\\int \\cos^2 \\varphi\\mathrm d \\varphi+c\\\\\n",
    "x &=-4a\\int \\frac{1+\\cos 2a}{2}\\mathrm d \\varphi+c\\\\\n",
    "x &=-2a(\\varphi+\\frac{1}{2}\\sin 2\\varphi)+c\\\\\n",
    "x &=-a(2\\varphi+\\sin 2\\varphi)+c\n",
    "\\end{aligned}\n",
    "$$"
   ]
  },
  {
   "cell_type": "markdown",
   "metadata": {},
   "source": [
    "即方程的通解为\n",
    "\n",
    "$$\n",
    "\\begin{cases}\n",
    "x=-a(2\\varphi+\\sin 2\\varphi)+c\\\\\n",
    "y=2a\\cos^2 \\varphi\n",
    "\\end{cases}\n",
    "$$"
   ]
  },
  {
   "cell_type": "markdown",
   "metadata": {},
   "source": [
    "此外，当 $y'=0$ 时原方程变为 $y=2a$,于是 $y=2a$ 也是方程的解"
   ]
  },
  {
   "cell_type": "markdown",
   "metadata": {},
   "source": [
    "**（5）**\n",
    "\n",
    "**解：**"
   ]
  },
  {
   "cell_type": "markdown",
   "metadata": {},
   "source": [
    "引入参数 $p$,设 $y'=p$,则原方程化为 $$x^2+p^2=1$$\n",
    "\n",
    "引入参数 $t$,令 $p=\\cos t$,得到 $$x=\\sqrt{1-\\cos^2 t}=\\sin t$$"
   ]
  },
  {
   "cell_type": "markdown",
   "metadata": {},
   "source": [
    "$$\n",
    "\\begin{aligned}\n",
    "\\frac{1}{\\cos x}=\\frac{1}{p} &=\\frac{\\mathrm d x}{\\mathrm d y}\\\\\n",
    "\\mathrm d y &=\\cos t\\mathrm d x\\\\\n",
    "\\mathrm d y &=\\cos t\\mathrm d (\\sin t)\\\\\n",
    "\\mathrm d y &=\\cos^2 t\\mathrm d t\\\\\n",
    "\\mathrm d y &=\\frac{1+\\cos 2t}{2}\\mathrm d t\\\\\n",
    "y &=\\frac{1}{2}t+\\frac{1}{4}\\sin 2t+c\n",
    "\\end{aligned}\n",
    "$$"
   ]
  },
  {
   "cell_type": "markdown",
   "metadata": {},
   "source": [
    "即方程的通解为\n",
    "\n",
    "$$\n",
    "\\begin{cases}\n",
    "x=\\sin t\\\\\n",
    "y=\\frac{1}{2}t+\\frac{1}{4}\\sin 2t+c\n",
    "\\end{cases}\n",
    "$$"
   ]
  },
  {
   "cell_type": "markdown",
   "metadata": {},
   "source": [
    "**(6)**\n",
    "\n",
    "**解：**"
   ]
  },
  {
   "cell_type": "markdown",
   "metadata": {},
   "source": [
    "引入参数 $t$,令 $2-y'=ty$,原方程化为 $$y^2(1-ty)=y^2t^2$$\n",
    "\n",
    "得到 $$y=\\frac{1-t^2}{t}$$\n",
    "\n"
   ]
  },
  {
   "cell_type": "markdown",
   "metadata": {},
   "source": [
    "易知\n",
    "\n",
    "$$\n",
    "\\begin{aligned}\n",
    "2-\\frac{\\mathrm d y}{\\mathrm d x} &=yt\\\\\n",
    "\\frac{\\mathrm d y}{\\mathrm d x} &=2-yt\\\\\n",
    "\\mathrm d x &=\\frac{1}{2-yt}\\mathrm d y\\\\\n",
    "\\mathrm d x &=\\frac{1}{1+t^2}\\mathrm d (\\frac{1-t^2}{t})\\\\\n",
    "\\mathrm d x &=\\frac{-t^2-1}{t^2(1+t^2)}\\mathrm d t\\\\\n",
    "\\mathrm d x &=-\\frac{1}{t^2}\\mathrm d t\\\\\n",
    "x &=\\frac{1}{t}+c\n",
    "\\end{aligned}\n",
    "$$"
   ]
  },
  {
   "cell_type": "markdown",
   "metadata": {},
   "source": [
    "即原方程的通解为\n",
    "\n",
    "$$\n",
    "\\begin{cases}\n",
    "x=\\frac{1}{t}+c\\\\\n",
    "y=\\frac{1}{t}-t\n",
    "\\end{cases}\n",
    "$$\n",
    "\n",
    "即 $$y=x-c-\\frac{1}{x-c}$$"
   ]
  },
  {
   "cell_type": "markdown",
   "metadata": {
    "collapsed": true
   },
   "source": [
    "# <font color='red'>A 26/9"
   ]
  },
  {
   "cell_type": "code",
   "execution_count": null,
   "metadata": {
    "collapsed": true
   },
   "outputs": [],
   "source": []
  }
 ],
 "metadata": {
  "kernelspec": {
   "display_name": "SageMath 7.3",
   "language": "",
   "name": "sagemath"
  },
  "language_info": {
   "codemirror_mode": {
    "name": "ipython",
    "version": 2
   },
   "file_extension": ".py",
   "mimetype": "text/x-python",
   "name": "python",
   "nbconvert_exporter": "python",
   "pygments_lexer": "ipython2",
   "version": "2.7.10"
  }
 },
 "nbformat": 4,
 "nbformat_minor": 0
}
