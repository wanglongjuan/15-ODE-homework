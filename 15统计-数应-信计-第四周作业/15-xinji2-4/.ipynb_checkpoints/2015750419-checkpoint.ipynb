{
 "cells": [
  {
   "cell_type": "markdown",
   "metadata": {},
   "source": [
    "$$2(8)(x+2y)dx+xdy=0$$\n",
    "$$\\frac{dM}{dy}=2,\\frac{dM}{dx}=1,\\frac{2-1}{N}=\\frac{1}{x},所以u(x)=e^{\\int{\\frac{1}{x}}}$$\n",
    "$$u(x)=x,u(x)乘以方程两边得x(x+2y)dx+x^2dy=0$$\n",
    "$$设这是g(x,y)的恰当微分方程，\\frac{\\partial g}{\\partial x}=x^2+2xy$$\n",
    "$$g=\\frac{x^3}{3}+x^2y+C(y),\\frac{\\partial g}{\\partial y}=x^2+C'(y)=x^2,所以C'(y)=0$$\n",
    "$$所以解为\\frac{x^3}{3}+x^2y=c,c为任意常数$$\n"
   ]
  },
  {
   "cell_type": "markdown",
   "metadata": {},
   "source": [
    "$$2(9)\\frac{dM}{dy}=cos(x+y)-xsin(x+y),\\frac{dN}{dx}=cos(x+y)-xsin(x+y),所以该方程是恰当微分方程$$\n",
    "$$设g(x,y)是方程的解，所以\\frac{\\partial g}{\\partial x}=xcos(x+y)+sin(x+y),g=xsin(x+y)+C(y)$$\n",
    "$$\\frac{\\partial g}{\\partial y}=xcos(x+y)+C'(y),所以C'(y)=0,g(x,y)=xsin(x+y)+c=0,c为任意实数$$\n"
   ]
  },
  {
   "cell_type": "markdown",
   "metadata": {},
   "source": [
    "$$2(10)\\frac{dM}{dy}=cosx,\\frac{dN}{dx}=ycosx+cosx-xsinx,\\frac{dM}{dy}-\\frac{dN}{dx}=-ycosx+xsinx$$\n",
    "$$\\frac{ycosx-xsinx}{-M}=1,e^{\\int{1}dy}=\\frac{1}{e},u(y)=e^y$$\n",
    "$$通过积分公式得解为e^y(y-1)sinx+e^yxcosx=c,或x=0$$"
   ]
  },
  {
   "cell_type": "markdown",
   "metadata": {},
   "source": [
    "$$2（11）设积分因子形式为u=x^my^n,方程两边同时乘以积分因子得（4x^{m+1}y^{n+1}+3x^my^{n+4}dx+(2x^{m+2}+5x^{m+1}y^{n+3})dy=0$$\n",
    "$$恰当微分方程的充要条件为4(n+1)x^{m+1}y^n+3(n+4)x^my^{n+3}=2(m+2)x^{m+1}y^n+5(m+1)x^my^{n+1}$$\n",
    "$$当n=1，m=2时，等式成立，积分因子为u=x^2y,解为x^4y^2+x^3y^5=c或者x=0，y=0$$"
   ]
  },
  {
   "cell_type": "markdown",
   "metadata": {},
   "source": [
    "$$4证明：充分性：设方程为线性微分方程\\frac{dy}{dx}=P(x)y+Q(x)，因为dy-f(x,y)dx=0,所以f(x,y)=P(x)y+Q(x)=M,N=1$$\n",
    "$$\\frac{\\frac{\\partial M}{\\partial y}-\\frac{\\partial N}{\\partial x}}{N}=-P(x),有仅依赖于x的积分因子u=e^{-\\int{P(x)}dx}$$\n",
    "$$必要性：设方程有仅依赖于x的积分因子u(x),即u(x)dy-u(x)f(x,y)dx=0是恰当方程，所以\\frac{\\partial u}{\\partial x}=-u\\frac{\\partial f}{\\partial y}$$\n",
    "$$所以\\frac{\\partial f}{\\partial y}=-\\frac{\\partial u}{u\\partial x},方程右端设为P（x），所以\\frac{\\partial f}{\\partial y}=P(x)$$\n",
    "$$有f（x,y）=P(x)y+Q(x),即dy-{P(x)y+Q(x)}dx=0,\\frac{dy}{dx}=P(x)y+Q(x)$$"
   ]
  },
  {
   "cell_type": "markdown",
   "metadata": {},
   "source": [
    "$$8,因为伯努利方程微分方程为\\frac{dy}{dx}=P(x)y+Q(x)y^n,利用z=y^{1-n},dz=(1-n)y^{-n}dy化为微分方程\\frac{dz}{dx}=(1-n)P(x)z+（1-n）Q(x)$$\n",
    "$$由第4题知上式有积分因子u=y^{-n}e^{-\\int{(1-n)P(x)}}dx$$"
   ]
  },
  {
   "cell_type": "markdown",
   "metadata": {},
   "source": [
    "$$1(1)设y'=p,所以原式为xp^3=1+p,x=\\frac{1+p}{p^3},\\frac{dx}{dy}=\\frac{1}{p},dx=\\frac{-3p^2-2p^3}{p^6}dp,所以\\frac{dx}{dy}=\\frac{(-3-2p)dp}{(p^4)dy},dy=\\frac{-3-2p}{p^3}dp,所以y=\\frac{3}{2p^2}+\\frac{2}{p}+c$$\n",
    "$$所以解为x=\\frac{1}{p^3}+\\frac{1}{p^2},y=\\frac{3}{2p^2}+\\frac{2}{p}+c$$"
   ]
  },
  {
   "cell_type": "markdown",
   "metadata": {},
   "source": [
    "$$(2)设y'=p=tx,所以x=\\frac{1-t^3}{t},dy=txdx=tx(\\frac{-2t^3-1}{t^2})dt=(2t^4-t-\\frac{1}{t^2})dt，y=\\frac{2t^5}{5}-\\frac{t^2}{2}+\\frac{1}{t}$$\n",
    "$$所以方程的解为x=\\frac{1-t^3}{t},y=\\frac{2t^5}{5}-\\frac{t^2}{2}+\\frac{1}{t}$$"
   ]
  },
  {
   "cell_type": "markdown",
   "metadata": {},
   "source": [
    "$$(3)设y'=p,所以y=p^2e^p,dx=\\frac{dy}{p}=(2+p)e^pdp,解得x=(p+1)e^p+c，所以解为x=(p+1)e^p+c，y=p^2e^p$$\n"
   ]
  },
  {
   "cell_type": "markdown",
   "metadata": {},
   "source": [
    "$$(4)设y'=p,y=\\frac{2a}{1+p^2},dx=\\frac{dy}{p}=\\frac{-4a}{(1+p^2)^2},x=\\int{\\frac{1}{(1+x^2)^2}dx}=\\frac{x}{2(1+x^2)}+\\frac{arctan x}{2}$$\n",
    "$$解得x=-\\frac{2ap}{1+p^2}-2aarctan p+c所以方程的解为x=-\\frac{2ap}{1+p^2}-2aarctan p+c，,y=\\frac{2a}{1+p^2}$$"
   ]
  },
  {
   "cell_type": "markdown",
   "metadata": {},
   "source": [
    "$$(5)设y'=cost,则方程化为x=sint,dy=y'dx=cos^2tdt,dy=\\frac{1+cos2t}{2}dt,所以方程的解为x=sint,y=\\frac{t}{2}+\\frac{sin2t}{4}+c$$"
   ]
  },
  {
   "cell_type": "markdown",
   "metadata": {},
   "source": [
    "$$(6)设2-y'=ty,y=\\frac{1-t^2}{t},dx=\\frac{dy}{y'}=-\\frac{1}{t^2},x=\\frac{1}{t},所以方程的解为y=\\frac{1-t^2}{t},x=\\frac{1}{t}+c$$\n"
   ]
  },
  {
   "cell_type": "markdown",
   "metadata": {
    "collapsed": true
   },
   "source": [
    "# <font color='red'>A 26/9"
   ]
  },
  {
   "cell_type": "code",
   "execution_count": null,
   "metadata": {
    "collapsed": true
   },
   "outputs": [],
   "source": []
  }
 ],
 "metadata": {
  "kernelspec": {
   "display_name": "SageMath 7.3",
   "language": "",
   "name": "sagemath"
  },
  "language_info": {
   "codemirror_mode": {
    "name": "ipython",
    "version": 2
   },
   "file_extension": ".py",
   "mimetype": "text/x-python",
   "name": "python",
   "nbconvert_exporter": "python",
   "pygments_lexer": "ipython2",
   "version": "2.7.10"
  }
 },
 "nbformat": 4,
 "nbformat_minor": 0
}
