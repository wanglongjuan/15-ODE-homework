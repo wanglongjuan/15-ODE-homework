{
 "cells": [
  {
   "cell_type": "markdown",
   "metadata": {},
   "source": [
    "# 常微分方程作业 2015750437 李玉贤\n",
    "\n",
    "##P49.1.(4).(15).(16).7.(3).P60.1.(1).(2)."
   ]
  },
  {
   "cell_type": "markdown",
   "metadata": {},
   "source": [
    "$变上限积分 \\int_{x_o}^x \\mathrm p(t)\\,\\mathrm{d}t =p(x)-p(x_0)+c ，c为任意常数$"
   ]
  },
  {
   "cell_type": "markdown",
   "metadata": {},
   "source": [
    "##$3.求下列方程的解：$"
   ]
  },
  {
   "cell_type": "markdown",
   "metadata": {},
   "source": [
    "##$（4）\\frac{dy}{dx}-y\\frac{n}{x}=e^xx^n (n为常数)$\n",
    "**解:**$$令P(x)= \\frac{n}{x},Q(x)=e^x*x^n $$\n",
    "   $$y=e^{\\int\\mathrm{\\frac{n}{x}}\\mathrm{d}x}( \\int\\mathrm {e^xx^ne^{- {\\int\\mathrm{\\frac{n}{x}}\\mathrm{d}x}}}\\mathrm{d}x+c)$$ \n",
    "   $$=x^n( \\int\\mathrm {e^xx^nx^(-n)}\\mathrm{d}x+c)$$\n",
    "   $$=(e^x+c)x^n $$\n",
    "   \n",
    "   "
   ]
  },
  {
   "cell_type": "markdown",
   "metadata": {},
   "source": [
    "##$（15）\\frac{dy}{dx}=\\frac{1}{xy+x^3y^3}$\n",
    "**解:**$$令u=y^2，原方程化为： $$\n",
    "   $$\\frac{du}{dx}=\\frac{2}{x+x^3u} $$ \n",
    "   $$\\frac{dx}{du}=\\frac{x}{2}+\\frac{u}{2}x^3 $$\n",
    "   $$可看出其为n=3的伯努利方程，令v=x^{-2}$$\n",
    "    $$\\frac{dv}{du}=-2x^{-3}\\frac{dx}{du} $$\n",
    "     $$代入\\frac{dx}{du}得： $$\n",
    "      $$\\frac{dv}{du}=-v-u $$\n",
    "       $$得其通解为：$$\n",
    "      $$v=e^{\\int\\mathrm{-1}\\mathrm{d}u}( \\int\\mathrm {(-u)e^{\\int\\mathrm{1}\\mathrm{d}u}}\\mathrm{d}u+c)$$\n",
    "      $$v=ce{-u}-u+1$$\n",
    "      $$将v=x{-2}，u=y^2代入原方程通解得$$\n",
    "      $$\\frac{1}{x^2}=ce{-u}-y^2+1 $$\n",
    "      "
   ]
  },
  {
   "cell_type": "markdown",
   "metadata": {},
   "source": [
    "##$（16）y=e^x+\\int_{0}^x \\mathrm y(t)\\,\\mathrm{d}t$\n",
    "**解:**$$对方程两边关于x求导： $$\n",
    "   $$\\frac{dy}{dx}=e^x+y $$ \n",
    "   $$得其通解为：$$\n",
    "      $$y=e^x(\\int\\mathrm{e^xe^{-x}}\\mathrm{d}x+c)$$\n",
    "      $$y=e^x(x+c)$$\n",
    "      $$当x=0时，代入原方程得：$$\n",
    "      $$y=e^0+\\int_{0}^{0} \\mathrm y(t)\\,\\mathrm{d}t =1 $$\n",
    "       $$得c=1 $$\n",
    "   $$原方程解为y=e^x(x+1)$$"
   ]
  },
  {
   "cell_type": "markdown",
   "metadata": {},
   "source": [
    "##$7.求解下列方程：$"
   ]
  },
  {
   "cell_type": "markdown",
   "metadata": {},
   "source": [
    "##$（3）\\frac{dy}{dx}\\sin x\\cos x-y-(\\sin x)^3=0 $\n",
    "**解:**$$原方程变形为： $$\n",
    "  $$\\frac{dy}{dx}=\\frac{y}{\\sin x \\cos x}+\\frac{\\sin x^2}{\\cos x} ,其中\\sin x不等于0，\\cos x不等于0 $$ \n",
    "    $$y=e^{\\int\\mathrm{\\frac{1}{\\sin x \\cos x}}\\mathrm{d}x}( \\int\\mathrm {{\\frac{\\sin x^2}{\\cos x}}e^{- {\\int\\mathrm{\\frac{1}{\\sin x \\cos x}}\\mathrm{d}x}}}\\mathrm{d}x+c)$$ \n",
    "   $$y=\\tan x( \\int\\mathrm {\\frac{\\sin x^2}{\\cos x}\\cot x}\\mathrm{d}x+c)$$\n",
    "   $$即y=\\tan x(-\\cot x+c)或y=c\\tan x-\\sin x$$\n",
    "   $$当\\sin x=0时，代入原方程得：y=0$$\n",
    "     $$当\\cos x=0时，代入原方程得：$$\n",
    "      $$y=-(\\sin x)^3=1或y=-(\\sin x)^3=-1 $$\n",
    "       $$即为点（2k\\pi+\\frac{\\pi}{2}，-1)和（2k\\pi-\\frac{\\pi}{2}，1)，k=\\cdots，-2，-1,0,1,2，\\cdots$$\n",
    "    $$综上，原方程解为y=c\\tan x-\\sin x，（x不等于k\\pi+\\frac{\\pi}{2}且不等于k\\pi-\\frac{\\pi}{2}）$$\n",
    "    $$或为点（k\\pi+\\frac{\\pi}{2}，c-1^{k+1})，k=\\cdots，-2，-1,0,1,2，\\cdots$$"
   ]
  },
  {
   "cell_type": "markdown",
   "metadata": {},
   "source": [
    "##$1.验证下列方程是恰当微分方程，并求出方程的解：$"
   ]
  },
  {
   "cell_type": "markdown",
   "metadata": {},
   "source": [
    "##$（1）(x^2+y)dx+(x-2y)dy=0$\n",
    "**解:**$$M=x^2+y，N=x-2y，则： $$\n",
    "   $$\\frac{\\partial M}{\\partial y}=1，\\frac{\\partial N}{\\partial x}=1 $$ \n",
    "   $$方程是恰当微分方程$$\n",
    "      $$\\frac{\\partial u}{\\partial y}=x^2+y，\\frac{\\partial u}{\\partial x}=x-2y $$\n",
    "      $$方程\\frac{\\partial u}{\\partial y}=x^2+y$$\n",
    "      $$u=\\frac{1}{3}x^3+xy+\\varphi(y)$$\n",
    "      $$\\frac{\\partial u}{\\partial y}=x+\\frac{\\varphi(y)}{\\mathrm{d}y} $$\n",
    "       $$与\\frac{\\partial u}{\\partial x}=x-2y比较得 $$\n",
    "   $$\\frac{\\varphi(y)}{\\mathrm{d}y}=-2y$$\n",
    "    $$\\varphi(y)=-y^2 $$\n",
    "   $$u=\\frac{1}{3}x^3+xy-y^2$$\n",
    "   $$原方程通解为x^3+3xy-3y^2=c，c为任意常数$$\n",
    "   "
   ]
  },
  {
   "cell_type": "markdown",
   "metadata": {},
   "source": [
    "##$（2）(y-3x^3)dx-(4y-x)dy=0$\n",
    "**解:**$$M=y-3x^3，N=x-4y，则： $$\n",
    "   $$\\frac{\\partial M}{\\partial y}=1，\\frac{\\partial N}{\\partial x}=1 $$ \n",
    "   $$方程是恰当微分方程$$\n",
    "      $$\\frac{\\partial u}{\\partial y}=y-3x^3，\\frac{\\partial u}{\\partial x}=x-4y $$\n",
    "      $$方程\\frac{\\partial u}{\\partial y}=y-3x^3$$\n",
    "      $$u=xy-\\frac{3}{4}x^4+\\varphi(y)$$\n",
    "      $$\\frac{\\partial u}{\\partial y}=x+\\frac{\\varphi(y)}{\\mathrm{d}y}=x-4y $$\n",
    "       $$\\frac{\\varphi(y)}{\\mathrm{d}y}=-4y $$\n",
    "   $$\\varphi(y)=-2y^2$$\n",
    "      $$u=xy-\\frac{3}{4}x^4-2y^2$$\n",
    "   $$方程通解为\\frac{3}{4}x^4+2y^2-xy=c，c为任意常数$$"
   ]
  },
  {
   "cell_type": "markdown",
   "metadata": {},
   "source": []
  },
  {
   "cell_type": "markdown",
   "metadata": {
    "collapsed": true
   },
   "source": [
    "# <font color='red'>A 26/9"
   ]
  },
  {
   "cell_type": "code",
   "execution_count": null,
   "metadata": {
    "collapsed": true
   },
   "outputs": [],
   "source": []
  }
 ],
 "metadata": {
  "kernelspec": {
   "display_name": "SageMath 7.3",
   "language": "",
   "name": "sagemath"
  },
  "language_info": {
   "codemirror_mode": {
    "name": "ipython",
    "version": 2
   },
   "file_extension": ".py",
   "mimetype": "text/x-python",
   "name": "python",
   "nbconvert_exporter": "python",
   "pygments_lexer": "ipython2",
   "version": "2.7.10"
  }
 },
 "nbformat": 4,
 "nbformat_minor": 0
}
