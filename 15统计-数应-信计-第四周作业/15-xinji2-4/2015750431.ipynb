{
 "cells": [
  {
   "cell_type": "markdown",
   "metadata": {},
   "source": [
    "# 常微分作业"
   ]
  },
  {
   "cell_type": "markdown",
   "metadata": {},
   "source": [
    "## （9月20号）"
   ]
  },
  {
   "cell_type": "markdown",
   "metadata": {},
   "source": [
    "### P60.2.求下列方程的解："
   ]
  },
  {
   "cell_type": "markdown",
   "metadata": {},
   "source": [
    "#### (8)$(x+2y)\\mathrm d x+x\\mathrm d y=0;$"
   ]
  },
  {
   "cell_type": "markdown",
   "metadata": {},
   "source": [
    "解：$M(x,y)=x+2y,N(x,y)=x$\n",
    "\n",
    "   $\\frac{\\partial M}{\\partial y}=2\\neq1=\\frac{\\partial N}{\\partial x}$\n",
    "    \n",
    "   $\\frac{\\frac{\\partial M}{\\partial y}-\\frac{\\partial N}{\\partial x}}{N}=\\frac{1}{x}=\\psi(x)$\n",
    "    \n",
    "   $\\mu=e^{\\int \\frac{1}{x}\\mathrm d x}=e^{\\ln x}=x$\n",
    "    \n",
    "   方程两边同时乘以积分因子$x$得：\n",
    "   \n",
    "   $(x^2+2xy)\\mathrm d x+x^2\\mathrm d y=0$\n",
    "   \n",
    "   最后解得：\n",
    "   \n",
    "   $\\frac{1}{3}x^3+x^2y=c$"
   ]
  },
  {
   "cell_type": "markdown",
   "metadata": {},
   "source": [
    "#### (9)$[x\\cos (x+y)+\\sin (x+y)]\\mathrm d x+x\\cos (x+y)\\mathrm d y=0;$"
   ]
  },
  {
   "cell_type": "markdown",
   "metadata": {},
   "source": [
    "解：$M(x,y)=x\\cos (x+y)+\\sin (x+y),N(x,y)=x\\cos (x+y)$\n",
    "   \n",
    "   $\\frac{\\partial M}{\\partial y}=\\cos(x+y)-x\\sin(x+y)=\\frac{\\partial N}{\\partial x}$\n",
    "    \n",
    "用恰当微分方程的解法可以求得：\n",
    "\n",
    "$x\\sin(x+y)=c$是方程的解。    "
   ]
  },
  {
   "cell_type": "markdown",
   "metadata": {},
   "source": [
    "#### (10)$(y\\cos x-x\\sin x)\\mathrm d x+(y\\sin x+x\\cos x)\\mathrm d y=0;$"
   ]
  },
  {
   "cell_type": "markdown",
   "metadata": {},
   "source": [
    "解：$M(x,y)=y\\cos x-x\\sin x,N(x,y)=y\\sin x+x\\cos x$\n",
    "\n",
    "  $\\frac{\\partial M}{\\partial y}=\\cos x\\neq y\\cos x+\\cos x-x\\sin x=\\frac{\\partial N}{\\partial x}$\n",
    "  \n",
    "  $\\frac{\\frac{\\partial M}{\\partial y}-\\frac{\\partial N}{\\partial x}}{-M}=1=\\varphi(y)$\n",
    "  \n",
    "  $\\mu=e^{\\int 1 \\mathrm d y}=e^y$\n",
    "  \n",
    "  方程两边同时乘以积分因子$y$得：\n",
    "  \n",
    "  $(y^2\\cos x-xy\\sin x)\\mathrm d x+(y^2\\sin x+xy\\cos x)\\mathrm d y=0$\n",
    "  \n",
    "  用恰当微分方程的解法可以求得：\n",
    "  \n",
    "  $y^2\\sin x+xy\\cos x-y\\sin x=c$是方程的解。"
   ]
  },
  {
   "cell_type": "markdown",
   "metadata": {},
   "source": [
    "#### (11)$x(4y\\mathrm d x+2x\\mathrm d y)+y^3(3y\\mathrm d x+5x\\mathrm d y)=0.$"
   ]
  },
  {
   "cell_type": "markdown",
   "metadata": {},
   "source": [
    "解：经过观察和尝试发现可以在方程两边同时乘以$x^2y$\n",
    "\n",
    "$x^3y(4y\\mathrm d x+2x\\mathrm d y)+x^2y^4(3y\\mathrm d x+5x\\mathrm d y)=0.$\n",
    "\n",
    "$(4x^3y^2\\mathrm d x+2x^4y\\mathrm d y)+(3x^2y^5\\mathrm d x+5x^3y^4\\mathrm d y)=0.$\n",
    "\n",
    "解得$x^4y^2+x^3y^5=c$"
   ]
  },
  {
   "cell_type": "markdown",
   "metadata": {},
   "source": [
    "### P61.4.设$f(x,y)$及$\\frac{\\partial f}{\\partial y}$连续，试证方程$\\mathrm d y-f(x,y)\\mathrm d x=0$为线性微分方程的充要条件是它有仅依赖于$x$的积分因子。"
   ]
  },
  {
   "cell_type": "markdown",
   "metadata": {},
   "source": [
    "证明：充分性\n",
    "\n",
    "已知$\\mathrm d y-f(x,y)\\mathrm d x=0$有仅依赖于$x$的积分因子\n",
    "\n",
    "及存在某个$\\varphi(x)$满足\n",
    "\n",
    "$\\frac{\\frac{\\partial M}{\\partial y}-\\frac{\\partial N}{\\partial x}}{N}=\\frac{-\\frac{\\partial f}{\\partial y}-0}{1}=\\varphi(x)$\n",
    "\n",
    "及$\\frac{\\partial f}{\\partial y}=-\\varphi(x)$\n",
    "\n",
    "对其积分有$f(x,y)=-\\varphi(x)y+h(x)$\n",
    "\n",
    "$\\frac{\\mathrm d y}{\\mathrm d x}=-\\varphi(x)y+h(x)$这里$h(x)$是关于$x$的任意可微函数。\n",
    "\n",
    "即证方程$\\mathrm d y-f(x,y)\\mathrm d x=0$为线性微分方程。\n",
    "\n",
    "必要性\n",
    "\n",
    "设方程$\\mathrm d y-f(x,y)\\mathrm d x=0$为线性微分方程，即存在$g(x),h(x)$使得\n",
    "\n",
    "$f(x,y)=g(x)y+h(x)$\n",
    "\n",
    "$M=-f(x,y)=-yg(x)-h(x),N=1$\n",
    "\n",
    "$\\frac{\\frac{\\partial M}{\\partial y}-\\frac{\\partial N}{\\partial x}}{N}=\\frac{-g(x)}{1}=-g(x)$,\n",
    "\n",
    "所以方程有仅依赖$x$的积分因子。"
   ]
  },
  {
   "cell_type": "markdown",
   "metadata": {},
   "source": [
    "### P61.8.求出伯努利微分方程的积分因子。"
   ]
  },
  {
   "cell_type": "markdown",
   "metadata": {},
   "source": [
    "解：形如\n",
    "\n",
    "$$\\frac{\\mathrm d y}{\\mathrm d x}=P(x)y+Q(x)y^n$$\n",
    "\n",
    "的方程，称为伯努利微分方程\n",
    "\n",
    "将伯努利方程化简为线性微分方程，令$z=y^{1-n}$\n",
    "\n",
    "即得$\\frac{\\mathrm d z}{\\mathrm d x}=(1-n)P(x)z+(1-n)Q(x)$\n",
    "\n",
    "$M=(1-n)P(x)z+(1-n)Q(x),N=-1$\n",
    "\n",
    "$\\frac{\\frac{\\partial M}{\\partial z}-\\frac{\\partial N}{\\partial x}}{N}=(n-1)P(x)$\n",
    "\n",
    "积分因子为$\\mu=e^{\\int (n-1)P(x)}$"
   ]
  },
  {
   "cell_type": "markdown",
   "metadata": {
    "collapsed": true
   },
   "source": [
    "## (9月21号)"
   ]
  },
  {
   "cell_type": "markdown",
   "metadata": {},
   "source": [
    "### P69.1.求解下列方程："
   ]
  },
  {
   "cell_type": "markdown",
   "metadata": {},
   "source": [
    "#### (1)$xy\\prime^3=1+y\\prime$;"
   ]
  },
  {
   "cell_type": "markdown",
   "metadata": {},
   "source": [
    "解：令$y'=\\frac{1}{t}$\n",
    "\n",
    "$x=t^3+t^2$\n",
    "\n",
    "对上式方程向$y$求导：\n",
    "\n",
    "$\\frac{1}{y'}=t=(3t^2+2t)\\frac{\\mathrm d t}{\\mathrm d y}$\n",
    "\n",
    "即为$\\mathrm d y=3t+2\\mathrm d t$\n",
    "\n",
    "积分便有$y=\\frac{3}{2}t^2+2t+c$\n",
    "\n",
    "所以，方程通解为\n",
    "$$\n",
    "\\begin{cases}\n",
    "x=t^3+t^2\\\\\n",
    "y=\\frac{3}{2}t^2+2t+c\n",
    "\\end{cases}\n",
    "$$"
   ]
  },
  {
   "cell_type": "markdown",
   "metadata": {},
   "source": [
    "#### (2)$y'^3-x^3(1-y')=0$;"
   ]
  },
  {
   "cell_type": "markdown",
   "metadata": {},
   "source": [
    "解：令$y'=tx$,则\n",
    "\n",
    "$x^3(t^3-1+tx)=0$解得$x=\\frac{1}{t}-t^2$\n",
    "\n",
    "对两边向$y$求导\n",
    "\n",
    "$\\frac{1}{1-t^3}=(-\\frac{1}{t^2}-2t)\\frac{\\mathrm d t}{\\mathrm d y}$\n",
    "\n",
    "即为$\\mathrm d y=[(1-t^3)(-\\frac{1}{t^2}-2t)]\\mathrm d t$\n",
    "\n",
    "最后积分得$y=-\\frac{1}{2}t^2+\\frac{2}{5}t^5+\\frac{1}{t}+c$\n",
    "\n",
    "所以，方程通解为\n",
    "$$\n",
    "\\begin{cases}\n",
    "x=\\frac{1}{t}-t^2\\\\\n",
    "y=-\\frac{1}{2}t^2+\\frac{2}{5}t^5+\\frac{1}{t}+c\n",
    "\\end{cases}\n",
    "$$"
   ]
  },
  {
   "cell_type": "markdown",
   "metadata": {},
   "source": [
    "#### (3)$y=y'^2e^{y'}$;"
   ]
  },
  {
   "cell_type": "markdown",
   "metadata": {},
   "source": [
    "解：令$y'=p$,则方程可化为\n",
    "\n",
    "$y=p^2e^p$\n",
    "\n",
    "对方程向$x$求导\n",
    "\n",
    "$p=(2p+p^2)e^p\\frac{\\mathrm d p}{\\mathrm d x}$\n",
    "\n",
    "即为$\\mathrm d x=(2+p)e^p\\mathrm d p$\n",
    "\n",
    "积分可得\n",
    "\n",
    "$x=(p+1)e^p$\n",
    "\n",
    "所以，方程的通解为\n",
    "$$\n",
    "\\begin{cases}\n",
    "x=(p+1)e^p\\\\\n",
    "y=p^2e^p\n",
    "\\end{cases}\n",
    "$$"
   ]
  },
  {
   "cell_type": "markdown",
   "metadata": {},
   "source": [
    "#### (4)$y(1+y'^2)=2a(a为常数)$;"
   ]
  },
  {
   "cell_type": "markdown",
   "metadata": {},
   "source": [
    "解：令$y'=\\tan t$,则方程可化为\n",
    "\n",
    "$y=2a{\\cos t}^2$\n",
    "\n",
    "对方程向$x$求导\n",
    "\n",
    "$\\tan t=-2a\\sin 2t\\frac{\\mathrm d t}{\\mathrm d x}$\n",
    "\n",
    "即为$\\mathrm d x=-4a{\\cos t}^2\\mathrm d t$\n",
    "\n",
    "积分可得\n",
    "\n",
    "$x=-a(2t+\\sin 2t+c)$\n",
    "\n",
    "所以，方程的通解为\n",
    "$$\n",
    "\\begin{cases}\n",
    "x=-a(2t+\\sin 2t+c)\\\\\n",
    "y=2a{\\cos t}^2\n",
    "\\end{cases}\n",
    "$$"
   ]
  },
  {
   "cell_type": "markdown",
   "metadata": {},
   "source": [
    "#### (5)$x^2+y'^2=1$;"
   ]
  },
  {
   "cell_type": "markdown",
   "metadata": {},
   "source": [
    "解：令$y'=\\cos t$,则方程可化为\n",
    "\n",
    "$x^2+{\\cos t}^2=1$即为$x=\\sin t$\n",
    "\n",
    "对方程向$y$求导\n",
    "\n",
    "$\\frac{1}{\\cos t}=\\cos t\\frac{\\mathrm d t}{\\mathrm d y}$\n",
    "\n",
    "即为$\\mathrm d y={\\cos t}^2\\mathrm d t$\n",
    "\n",
    "积分可得\n",
    "\n",
    "$y=\\frac{t}{2}+\\frac{1}{4}\\sin 2t+c$\n",
    "\n",
    "所以，方程的通解为\n",
    "$$\n",
    "\\begin{cases}\n",
    "x=\\sin t\\\\\n",
    "y=\\frac{t}{2}+\\frac{1}{4}\\sin 2t+c\n",
    "\\end{cases}\n",
    "$$"
   ]
  },
  {
   "cell_type": "markdown",
   "metadata": {},
   "source": [
    "#### (6)$y^2(y'-1)=(2-y')^2$;"
   ]
  },
  {
   "cell_type": "markdown",
   "metadata": {},
   "source": [
    "解：令$2-y'=yt$,则方程可化为\n",
    "\n",
    "$y^2(1-yt)=y^2t^2$即为$y=\\frac{1}{t}-t$\n",
    "\n",
    "$y'=1+t^2$\n",
    "\n",
    "则有$\\mathrm d x=\\frac{\\mathrm d y}{y'}=-\\frac{1}{t^2}\\mathrm d t$\n",
    "\n",
    "积分可得$x=\\frac{1}{t}+c$\n",
    "\n",
    "所以，方程的通解为\n",
    "$$\n",
    "\\begin{cases}\n",
    "x=\\frac{1}{t}+c\\\\\n",
    "y=\\frac{1}{t}-t\n",
    "\\end{cases}\n",
    "$$\n",
    "当$y'=0$时，方程无解。"
   ]
  },
  {
   "cell_type": "markdown",
   "metadata": {},
   "source": [
    "# <font color='red'>A 26/9"
   ]
  },
  {
   "cell_type": "code",
   "execution_count": null,
   "metadata": {
    "collapsed": true
   },
   "outputs": [],
   "source": []
  }
 ],
 "metadata": {
  "kernelspec": {
   "display_name": "SageMath 7.3",
   "language": "",
   "name": "sagemath"
  },
  "language_info": {
   "codemirror_mode": {
    "name": "ipython",
    "version": 2
   },
   "file_extension": ".py",
   "mimetype": "text/x-python",
   "name": "python",
   "nbconvert_exporter": "python",
   "pygments_lexer": "ipython2",
   "version": "2.7.10"
  }
 },
 "nbformat": 4,
 "nbformat_minor": 0
}
