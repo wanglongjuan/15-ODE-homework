{
 "cells": [
  {
   "cell_type": "markdown",
   "metadata": {},
   "source": [
    "2.(8)\n",
    "\n",
    "$由题可知M=x+2y,N=x$\n",
    "\n",
    "$因为\\frac{\\partial M}{\\partial y}=2,\\frac{\\partial N}{\\partial x}=1两者不等，所以方程不是恰当微分方程$\n",
    "\n",
    "又因为$\\frac{\\frac{\\partial M}{\\partial y}-\\frac{\\partial N}{\\partial x}}{N}=\\frac{1}{x}$\n",
    "\n",
    "$方程存在只与x相关的积分因子μ=x,$  $两边同乘μ，得$\n",
    "\n",
    "$2xydx+x^2dy+x^2dx=0$\n",
    "\n",
    "$即d(x^2y+x^3\\frac{1}{3})=0$\n",
    "\n",
    "$通解为x^3+3x^2y=c$(其中c为任意常数)"
   ]
  },
  {
   "cell_type": "markdown",
   "metadata": {},
   "source": [
    "2.(9)\n",
    "\n",
    "由题可之$M=xcos(x+y)+sin(x+y)，N=xcos(x+y)$\n",
    "\n",
    "因为$\\frac{\\partial M}{\\partial y}=-xsin(x+y)+cos(x+y),\\frac{\\partial N}{\\partial x}=-xsin(x+y)+cos(x+y)$两者相等\n",
    "\n",
    "所以方程是恰当微分方程，化简得:\n",
    "\n",
    "$d(xsin(x+y))=0$\n",
    "\n",
    "所以通解为$xsin(x+y)=c(c为任意常数)$"
   ]
  },
  {
   "cell_type": "markdown",
   "metadata": {},
   "source": [
    "2.(10)\n",
    "\n",
    "由题可知$M=ycos x-xsin x,N=ysin x+xcos y\n",
    "\n",
    "又因为$\\frac{\\partial M}{\\partial y}=cos x，\\frac{\\partial N}{\\partial x}=cos x+cos x-xsin x$两者不等，所以方程不是恰当微分方程\n",
    "\n",
    "又因为$\\frac{\\frac{\\partial M}{\\partial y}-\\frac{\\partial N}{\\partial x}}{-N}=1$\n",
    "\n",
    "所以积分因子为μ=e^y,方程两边同乘以μ即可得\n",
    "\n",
    "$d[(y-1)e^ysin x+e^yxcos x]=0$\n",
    "\n",
    "通解为$(y-1)e^ysin x+e^yxcos x=c(c为任意常数)$"
   ]
  },
  {
   "cell_type": "markdown",
   "metadata": {},
   "source": [
    "2.(11)\n",
    "\n",
    "由题可知$\\frac{\\partial M}{\\partial y}=4x^2+12y^3,\\frac{\\partial N}{\\partial x}=4x+5y^3$,两者不等，所以方程不是恰当微分方程\n",
    "\n",
    "可设积分因子为$μ=x^my^n$，方程两边同乘以积分因子\n",
    "\n",
    "$（4x^mxy^ny^4+3x^my^ny^4）dx+（2x^mx^2y^n+5x^mxy^ny^3）dy=0$\n",
    "\n",
    "即有$4(n+1)xx^my^n+3(n+4)x^my^3y^n=2(m+2)xx^my^3y^n+5(m+1)x^my^3y^n$\n",
    "\n",
    "即$\n",
    "\\begin{cases}\n",
    "4n-2m=0\\\\\n",
    "3n-5m+7=0\n",
    "\\end{cases}\n",
    "$\n",
    "\n",
    "$解得：\n",
    "\\begin{cases}\n",
    "m=2\\\\\n",
    "n=1\n",
    "\\end{cases}\n",
    "$\n",
    "\n",
    "所以积分因子为$μ=x^2y$\n",
    "\n",
    "所以通解为$x^4y^2+x^3y^5=c(c为任意常数，并且x=0,y-0也是方程的解)$"
   ]
  },
  {
   "cell_type": "markdown",
   "metadata": {},
   "source": [
    "4.\n",
    "\n",
    "必要性:\n",
    "\n",
    "设方程dy=f(x,y)dx是线性微分方程，则存在p(x)和q(x),使$f(x,y)=yp(x)+q(x)$$\n",
    "\n",
    "所以$M=-yp(x)-q(x),N=1$\n",
    "\n",
    "因为$\\frac{\\frac{\\partial M}{\\partial y}-\\frac{\\partial N}{\\partial x}}{N}=\\frac{-p(x)}{1}=-p(x)$\n",
    "\n",
    "$所以方程存在只与x相关的积分因子$\n",
    "\n",
    "充分性：\n",
    "\n",
    "设dy=f(x,y)dx存在只与x相关的积分因子\n",
    "\n",
    "则存在φ(x)满足$\\frac{\\frac{\\partial M}{\\partial y}-\\frac{\\partial N}{\\partial x}}{N}=\\frac{-\\frac{\\partial f}{\\partial y}-0}{1}=φ(x)$\n",
    "\n",
    "两边同时积分$f(x,y)=-φ(x)y+C$\n",
    "\n",
    "所以$dy-f(x,y)dx=0是线性微分方程$"
   ]
  },
  {
   "cell_type": "markdown",
   "metadata": {},
   "source": [
    "8.\n",
    "\n",
    "伯努利方程即为$\\frac{dy}{dx}=P(x)y+Q(x)y^n$\n",
    "\n",
    "化简得dy-P(x)ydx-Q(x)y^ndx=0$\n",
    "\n",
    "两边同乘以$\\frac{1}{y^n}得$\n",
    "\n",
    "$\\frac{dy}{y^n}-P(x)\\frac{y}{y^n}dx-Q(x)dx=0$\n",
    "\n",
    "即$d(\\frac{y}{y^n})-(1-n)P(x)\\frac{y}{y^n}dx-(1-n)Q(x)dx=0$\n",
    "\n",
    "两边同乘$e^{-(1-n)\\int P(x)\\ dx}$，即可将此方程化为全微分方程\n",
    "\n",
    "所以积分因子为$\\frac{1}{y^n}e^{-(1-n)\\int P(x)\\ dx}$"
   ]
  },
  {
   "cell_type": "markdown",
   "metadata": {},
   "source": [
    "1.(1)\n",
    "\n",
    "令$y'=\\frac{1}{n} $， 代入得\n",
    "\n",
    "$\\frac{x}{n^3}=1+\\frac{1}{n},x=n^3+n^2,dy=\\frac{dx}{n}=(3n+2)dn$\n",
    "\n",
    "$y=\\frac{3n^2}{2}+2n+c$\n",
    "\n",
    "所以$通解为\n",
    "\\begin{cases}\n",
    "x=n^3+n^2\\\\\n",
    "y=\\frac{3n^2}{2}+2n+c\n",
    "\\end{cases}\n",
    "$（n为参数，c为任意常数）"
   ]
  },
  {
   "cell_type": "markdown",
   "metadata": {},
   "source": [
    "1.(2)\n",
    "\n",
    "令y'=nx,代入得\n",
    "\n",
    "$(n^3-(1-nx))x^3=0$\n",
    "\n",
    "解得$x=\\frac{1}{n}-n^2$\n",
    "\n",
    "方程两边对y求导得\n",
    "\n",
    "$dy=[(1-n^2)(-\\frac{1}{n^2}-2n)]dn$\n",
    "\n",
    "解得$y=-\\frac{n^2}{2}+\\frac{2n^5}{5}+\\frac{1}{n}+c$\n",
    "\n",
    "所以$通解为\n",
    "\\begin{cases}\n",
    "x=\\frac{1}{n}-n^2\\\\\n",
    "y=-\\frac{n^2}{2}+\\frac{2n^5}{5}+\\frac{1}{n}+c \n",
    "\\end{cases}\n",
    "$$(n为参数，c为任意常数)$"
   ]
  },
  {
   "cell_type": "markdown",
   "metadata": {},
   "source": [
    "1.(3)\n",
    "\n",
    "令y'=p,代入得\n",
    "\n",
    "$y=p^2e^p$\n",
    "\n",
    "两边对x求导，得\n",
    "\n",
    "$dx=(p+2)e^pdp$\n",
    "\n",
    "两边同时积分\n",
    "\n",
    "$x=(p+1)e^p+c$\n",
    "\n",
    "所以，$通解为\n",
    "\\begin{cases}\n",
    "x=(p+1)e^p+c\\\\\n",
    "y=p^2e^p  \n",
    "\\end{cases}\n",
    "$$(p为参数，c为任意常数,y=0也是方程的解)$"
   ]
  },
  {
   "cell_type": "markdown",
   "metadata": {},
   "source": [
    "1.(4)\n",
    "\n",
    "令y'=tan t,代入得$y=2a(cost)^2$\n",
    "\n",
    "两边对x求导得\n",
    "\n",
    "$dx=-4a(cos t)^2dt$\n",
    "\n",
    "两边同时积分\n",
    "\n",
    "$x=-a(2t+sin 2t)+c$\n",
    "\n",
    "所以$通解为\n",
    "\\begin{cases}\n",
    "x=-a(2t+sin 2t)+c\\\\\n",
    "y=2a(cos t)^2    \n",
    "\\end{cases}\n",
    "$$(t为参数，c为任意常数,y=2a也是方程的解)$"
   ]
  },
  {
   "cell_type": "markdown",
   "metadata": {},
   "source": [
    "1.(5)\n",
    "\n",
    "令y'=cos t，代入得$x=sin t$\n",
    "\n",
    "又因为$dy=cos^2tdt$\n",
    "\n",
    "所以$y=\\frac{t}{2}+\\frac{sin 2t}{4}+c$\n",
    "\n",
    "所以$通解为\n",
    "\\begin{cases}\n",
    "x=sin t\\\\\n",
    "y=\\frac{t}{2}+\\frac{sin 2t}{4}+c  \n",
    "\\end{cases}\n",
    "$$(t为参数，c为任意常数)$"
   ]
  },
  {
   "cell_type": "markdown",
   "metadata": {},
   "source": [
    "1.(6)\n",
    "\n",
    "令2-y'=ty,代入得$y^2(1-yt)=y^2t^2$\n",
    "\n",
    "所以$y=\\frac{1}{t}-t,y'=1+t^2$\n",
    "\n",
    "又有$dx=\\frac{dy}{y'}=\\frac{-dt}{t^2}$\n",
    "\n",
    "两边同时积分$x=\\frac{1}{t}+c$\n",
    "\n",
    "所以$通解为\n",
    "\\begin{cases}\n",
    "x=\\frac{1}{t}+c\\\\\n",
    "y=\\frac{1}{t}-c\n",
    "\\end{cases}\n",
    "$$(c为任意常数)$"
   ]
  },
  {
   "cell_type": "markdown",
   "metadata": {
    "collapsed": true
   },
   "source": [
    "# <font color='red'>A 26/9"
   ]
  },
  {
   "cell_type": "code",
   "execution_count": null,
   "metadata": {
    "collapsed": true
   },
   "outputs": [],
   "source": []
  }
 ],
 "metadata": {
  "kernelspec": {
   "display_name": "SageMath 7.3",
   "language": "",
   "name": "sagemath"
  },
  "language_info": {
   "codemirror_mode": {
    "name": "ipython",
    "version": 2
   },
   "file_extension": ".py",
   "mimetype": "text/x-python",
   "name": "python",
   "nbconvert_exporter": "python",
   "pygments_lexer": "ipython2",
   "version": "2.7.10"
  }
 },
 "nbformat": 4,
 "nbformat_minor": 0
}
