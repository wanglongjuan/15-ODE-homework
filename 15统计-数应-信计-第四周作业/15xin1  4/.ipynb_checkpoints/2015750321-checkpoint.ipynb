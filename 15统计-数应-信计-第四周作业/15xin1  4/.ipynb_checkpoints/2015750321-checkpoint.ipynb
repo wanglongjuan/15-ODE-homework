{
 "cells": [
  {
   "cell_type": "markdown",
   "metadata": {},
   "source": [
    "$P_{61}$\n",
    "\n",
    "2.求出下列方程的解\n",
    "\n",
    "(8)$(x+2y)dx +xdy=0; $\n",
    "\n",
    "(9)$[xcos(x+y)+sin(x+y)]dx+xcos(x+y)dy=0;$\n",
    "\n",
    "(10)$(ycosx-xsinx)dx+(ysinx+xcosx)dy=0;$\n",
    "\n",
    "(11)$x(4ydx+2xdy)+y^3(3ydx+5xdy)=0.$"
   ]
  },
  {
   "cell_type": "markdown",
   "metadata": {},
   "source": [
    "解：（8）因为$$\\frac{\\partial M}{\\partial y}=2,\\frac{\\partial N}{\\partial x}=1,$$ 所以方程不是恰当的.因为$$\\frac{\\frac{\\partial M}{\\partial y}-\\frac{\\partial N}{\\partial x}}{N}=\\frac{1}{x}.$$\n",
    "所以有积分因子为：$$μ=e^{\\int \\frac{1}{x}\\,\\mathrm{d}x}=x$$\n",
    "以$μ=x$乘以方程两边得到$$2xydx+x^2dy+x^2dx=0$$\n",
    "即$$d(x^2y+\\frac{1}{3}x^3)=0$$\n",
    "所以方程的解为：$$x^3+3x^2y=c,c为任意常数.$$"
   ]
  },
  {
   "cell_type": "markdown",
   "metadata": {
    "collapsed": true
   },
   "source": [
    "（9）因为$$\\frac{\\partial M}{\\partial y}=-xsin(x+y)+cos(x+y),\\frac{\\partial N}{\\partial x }=-xsin(x+y)+cos(x+y)$$\n",
    "所以方程式恰当的，且方程可改写为$$d(xsin(x+y))$$\n",
    "于是通解为：$$xsin(x+y)=c,c为任意常数.$$"
   ]
  },
  {
   "cell_type": "markdown",
   "metadata": {},
   "source": [
    "（10）因为$$\\frac{\\partial M}{\\partial y}=cosx,\\frac{\\partial N}{\\partial x}=ycosx+cosx-xsinx$$\n",
    "\n",
    "所以方程不是恰当的.因为$$\\frac{\\frac{\\partial M}{\\partial y}-\\frac{\\partial N}{\\partial x}}{-M}=1$$\n",
    "所以方程有积分因子$$μ=e^{\\int \\mathrm{1}\\,\\mathrm{d}y}=e^y$$\n",
    "以$μ=e^y$乘以方程两边得$$（ye^ycosxdx+ye^ysinxdy）+(e^yxcosxdy-e^yxsinxdx)=0$$\n",
    "即$$d[(y-1)e^ysinx+e^yxcosx]=0.$$\n",
    "于是通解为：$$e^y(y-1)sinx+e^yxcosx=c,c为任意常数$$"
   ]
  },
  {
   "cell_type": "markdown",
   "metadata": {},
   "source": [
    "(11)因为$$\\frac{\\partial M}{\\partial y}=4x+12y^3,\\frac{\\partial N}{\\partial x}=4x+5y^3.$$\n",
    "此方程式不恰当的.\n",
    "\n",
    "因为M，N为多项式，设积分因子的形式为$μ=x^my^n$,于是方程乘以积分因子得$$(4x^{m+1}y^{n+1}+3x^my^{n+4})dx+(2x^{m+2}y^n+5x^{m+1}y^{n+3})dy=0$$\n",
    "它是恰当方程的充分必要条件是$$4(n+1)x^{m+1}y^n+3(n+4)x^my^{n+3}=2(m+2)x^{m+1}y^n+5(m+1)x^my^{n+3}.$$\n",
    "对比系数项的$$\\begin{cases}4n-2m=0,\\\\3n-5m+7=0,\\end{cases}$$解得$$\\begin{cases}m=2\\\\n=1\\end{cases}$$\n",
    "即积分因子为$μ=x^2y$,方程乘以积分因子后为：$$4x^3y^2dx+3x^2y^5dx+2x^4ydy+5x^3y^4dy=d(x^4y^2)+d(x^3y^5)=0.$$\n",
    "于是，方程的通解为：$$x^4y^2+x^3y^5=c$$另外，$x=0,y=0$也是方程的解."
   ]
  },
  {
   "cell_type": "markdown",
   "metadata": {},
   "source": [
    "4.$设f(x,y)及\\frac{\\partial f}{\\partial y}$连续.试证方程$dy-f(x,y)dx=0$为线性微分方程的充要条件是它有仅依赖于x的积分因子."
   ]
  },
  {
   "cell_type": "markdown",
   "metadata": {},
   "source": [
    "解：充分性\n",
    "\n",
    "设$dy-f(x,y)dx=0$有仅依赖于x的积分因子，下证该方程是现行的.由于积分因子只仅依赖于x，所以存在某个$\\varphi（x）$满足                                                      $$\\frac{\\frac{\\partial M}{\\partial y}-\\frac{\\partial N}{\\partial x}}{N}=\\frac{-\\frac{\\partial f}{\\partial y}-0}{1}=\\varphi（x）,$$\n",
    "即$$\\frac{\\partial f}{\\partial y}=-\\varphi（x）,$$\n",
    "积分得$$f(x,y)=-\\varphi（x）y+h(x),其中h(x)是关于x的任意可微函数.$$\n",
    "\n",
    "这样，原方程便为$$\\frac{dy}{dx}=-\\varphi(x)y+h(x)$$\n",
    "即证明了$dy-f(x,y)dx=0是线性微分方程.\n",
    "\n",
    "必要性\n",
    "\n",
    "设方程$dy-f(x,y)dx=0$是线性微分方程.即存在g(x),h(x)使得$f(x,y)=y·g(x)+h(x).$\n",
    "\n",
    "这样$$M=-f(x,y)=-y·g(x)-h(x),$$\n",
    "\n",
    "$$N=1,\\frac{\\frac{\\partial M}{\\partial y}-\\frac{\\partial N}{\\partial x}}{N}=\\frac{-g(x)}{1}=-g（x）,$$\n",
    "所以，方程具有积分因子$μ=e^{\\int \\mathrm{-g(x)}\\,\\mathrm{d}x},$即方程有仅依赖于x的积分因子."
   ]
  },
  {
   "cell_type": "markdown",
   "metadata": {
    "collapsed": true
   },
   "source": [
    "(8)求出伯努利微分方程的积分因子.\n",
    "\n",
    "解：伯努利方程为$$\\frac{dy}{dx}=P(x)y+Q(x)y^n(n≠0,1)$$\n",
    "改写为$$dy-P(x)ydx-Q(x)y^ndx=0.$$\n",
    "\n",
    "乘以$y^{-n}$得$$y^{-n}dy-P(x)y^{1-n}dx-Q(x)dx=0$$\n",
    "\n",
    "\n",
    "\n",
    "即$$d(y^{1-n})-(1-n)P(x)y^{1-n}dx-(1-n)Q(x)dx=0 $$\n",
    "\n",
    "再乘以$e^{-(1-n)\\int P(x)\\,\\mathrm {d}x}$得\n",
    "\n",
    "\n",
    "$$e^{-(1-n)\\int P(x)\\,\\mathrm {d}x}[d(y^{1-n})-(1-n)P(x)y^{1-n}dx]-e^{-(1-n)\\int P(x)\\,\\mathrm {d}x}(1-n)Q(x)dx=0$$\n",
    "\n",
    "$$化简得d[y^{1-n}e^{-(1-n)\\int P(x)\\,\\mathrm {d}x}]-d[\\int e^{-(1-n)\\int P(x)\\,\\mathrm {d}x}(1-n)Q(x)\\,\\mathrm{d}x ]=0$$\n",
    "\n",
    "这是全微分方程，因此所求的积分因子是：$y^{-n}e^{-(1-n) \\int P(x)\\,\\mathrm{d}x}$"
   ]
  },
  {
   "cell_type": "markdown",
   "metadata": {
    "collapsed": true
   },
   "source": [
    "$P_{69}$"
   ]
  },
  {
   "cell_type": "markdown",
   "metadata": {},
   "source": [
    "1求解下列方程：\n",
    "（1）$xy'^3=1+y;$           (2)$y'^3-x^3(1-y')=0;$\n",
    "\n",
    "(3)$y=y'^2e^{y'};$             (4)$y(1+y'^2)=2a;$ \n",
    "\n",
    "(5)$x^2+y'^2=1;$                 (6)$y^2(y'-1)=(2-y')^2;$"
   ]
  },
  {
   "cell_type": "markdown",
   "metadata": {},
   "source": [
    "解：(1)不显化y,记$y'=\\frac{1}{t},$\n",
    "则方程化为：$$xt^{-3}=1+t^{-1},x=t^3+t^2$$\n",
    "\n",
    "即$$dy=\\frac{dx}{t}=t^{-1}d(t^3+t^2)=(3t+2)dt,$$\n",
    "\n",
    "所以$$y=\\frac{3}{2}t^2+2t+c$$\n",
    "\n",
    "因此，方程的通解为:$$\\begin{cases}x=t^3+t^2 \\\\ y=\\frac{3}{2}t^2+2t+c \\end{cases}其中t为参数，c为任意常数。$$"
   ]
  },
  {
   "cell_type": "markdown",
   "metadata": {},
   "source": [
    "(2)$方程不显含y，记y'=tx,则方程化为[t^3-(1-tx)x^3=0.$\n",
    "$解得出x得x=\\frac{1}{t}-t^2$\n",
    "\n",
    "两边对y求导得$$\\frac{1}{1-t^3}=(-\\frac{1}{t^2}-2t)·\\frac{dt}{dy},$$\n",
    "\n",
    "即$$dy=[(1-t^3)(-\\frac{1}{t^2}-2t)]dt,$$\n",
    "\n",
    "积分得：$$y=-\\frac{1}{2}t^2+\\frac{2}{5}t^5+\\frac{1}{t}+c,$$\n",
    "\n",
    "所以方程的通解为$$\\begin{cases} x=\\frac{1}{t}-t^2\\\\y=-\\frac{1}{2}t^2+\\frac{2}{5}t^5+\\frac{1}{t}+c \\end {cases} 其中t为参数，c为任意常数。$$\n",
    "\n"
   ]
  },
  {
   "cell_type": "markdown",
   "metadata": {},
   "source": [
    "(3)已解出y，不显含x，令$y'=p，则原方程化为y=p^2e^p,$\n",
    "\n",
    "对x求导数，即得$p=（2p+p^2）e^P\\frac{dp}{dx},即dx=(p+2)e^pdp,$\n",
    "\n",
    "积分得$x=(p+1)e^p+c.$\n",
    "\n",
    "所以,方程的通解为$$\\begin {cases} x=-a(2t+sin2t)+c\\\\y=2acos^2t,\\end {cases}其中t为参数，c为任意常数。$$\n",
    "\n",
    "\n",
    "此外,y=2a也是方程的解。"
   ]
  },
  {
   "cell_type": "markdown",
   "metadata": {},
   "source": [
    "（4）方程不显含x，令$y'=tant,则原方程化为y=2acos^2t,$\n",
    "\n",
    "两端关于x求导，可得$tant=-2a sin2t·\\frac{dt}{dx},即dx=-4acos^2tdt,$\n",
    "\n",
    "积分得$$x=-a(2t+sin2t)+c,$$\n",
    "\n",
    "所以方程的通解为$$\\begin{cases} x=-a(2t+sin2t)+c\\\\y=2acos^2t \\end{cases}其中t为参数，c为任意常数。$$"
   ]
  },
  {
   "cell_type": "markdown",
   "metadata": {},
   "source": [
    "(5)方程不显含y，令$y’=cost,则方程可化为x=sint,$\n",
    "\n",
    "对y求导得$dy=cos^2tdt.$\n",
    "\n",
    "积分得$$y=\\frac{t}{2}+\\frac{1}{4}sin2t+c,$$\n",
    "\n",
    "所以方程的通解为：$$\\begin{cases} x=sint\\\\y=\\frac{t}{2}+\\frac{1}{4}sin2t+c \\end{cases}其中t为参数，c为任意常数。$$"
   ]
  },
  {
   "cell_type": "markdown",
   "metadata": {},
   "source": [
    "(6)方程不显含x，令$2-y'=ty,则原方程化为y^2(1-yt)=y^2t^2,$\n",
    "\n",
    "由此得$y=\\frac{1}{t}-t,且y'=1+t^2.$\n",
    "\n",
    "因此$$dx=\\frac{dy}{y'}=\\frac{(-\\frac{1}{t^2}-1)}{1+t^2}dt=-\\frac{1}{t^2}.$$\n",
    "\n",
    "积分得$$x=\\frac{1}{t}+c.$$\n",
    "\n",
    "于是原方程的参数形式的通解为$$\\begin{cases} x=\\frac{1}{t}+c,\\\\y=\\frac{1}{t}-t,\\end{cases}其中c为任意常数。$$"
   ]
  },
  {
   "cell_type": "markdown",
   "metadata": {
    "collapsed": true
   },
   "source": [
    "# <font color='red'>A 26/9"
   ]
  },
  {
   "cell_type": "code",
   "execution_count": null,
   "metadata": {
    "collapsed": true
   },
   "outputs": [],
   "source": []
  }
 ],
 "metadata": {
  "kernelspec": {
   "display_name": "Python 2",
   "language": "python",
   "name": "python2"
  },
  "language_info": {
   "codemirror_mode": {
    "name": "ipython",
    "version": 2
   },
   "file_extension": ".py",
   "mimetype": "text/x-python",
   "name": "python",
   "nbconvert_exporter": "python",
   "pygments_lexer": "ipython2",
   "version": "2.7.10"
  }
 },
 "nbformat": 4,
 "nbformat_minor": 0
}
