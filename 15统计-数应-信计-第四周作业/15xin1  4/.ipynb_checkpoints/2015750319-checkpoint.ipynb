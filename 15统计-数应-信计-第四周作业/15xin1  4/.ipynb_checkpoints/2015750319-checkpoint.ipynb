{
 "cells": [
  {
   "cell_type": "markdown",
   "metadata": {},
   "source": [
    "2.(8)$(x+2y)\\mathrm d x+x\\mathrm d y=0$\n",
    "\n",
    "可知 $$M=x+2y,N=x$$\n",
    "又因为$$\\frac{\\partial M}{\\partial y}=2 \\neq \\frac{\\partial N}{\\partial x}=1$$\n",
    "所以不是恰当方程\n",
    "\n",
    "因为$$\\frac{\\frac{\\partial M}{\\partial y}-\\frac{\\partial N}{\\partial x}}{N}=\\frac{1}{x}$$\n",
    "\n",
    "所以积分因子$$\\mu=e^{\\int\\frac{1}{x}\\mathrm d x}=x$$\n",
    "方程两边乘$x$得$$2xy\\mathrm d x+x^2\\mathrm d y+x^2\\mathrm d x=0$$\n",
    "即$$\\mathrm d (x^2y+\\frac{1}{3}x^3)=0$$\n",
    "通解为$$x^2y+\\frac{1}{3}x^3=c$$"
   ]
  },
  {
   "cell_type": "markdown",
   "metadata": {},
   "source": [
    "(9)$[x\\cos(x+y)+\\sin(x+y)]\\mathrm d x+x\\cos(x+y)\\mathrm d y=0$\n",
    "\n",
    "可知$$M=x\\cos(x+y)+\\sin(x+y),N=x\\cos(x+y)$$\n",
    "又因为$$\\frac{\\partial M}{\\partial y}=-x\\sin(x+y)+\\cos(x+y)=\\frac{\\partial N}{\\partial x}$$所以方程恰当\n",
    "\n",
    "原方程即为$$\\mathrm d (x\\sin(x+y))=0$$\n",
    "通解为$$x\\sin(x+y)=c$$"
   ]
  },
  {
   "cell_type": "markdown",
   "metadata": {},
   "source": [
    "(10)$(y\\cos x-x\\sin x)\\mathrm d x+(y\\sin x+x\\cos x)\\mathrm d y=0$\n",
    "\n",
    "可知$$M=y\\cos x-x\\sin x,N=y\\sin x+x\\cos x$$\n",
    "又因为$$\\frac{\\partial M}{\\partial y}=\\cos x \\neq \\frac{\\partial N}{\\partial x}=y\\cos x+\\cos x-x\\sin x$$所以不是恰当方程\n",
    "\n",
    "因为$$\\frac{\\frac{\\partial M}{\\partial y}-\\frac{\\partial N}{\\partial x}}{-M}=1$$\n",
    "所以方程因子$$\\mu=e^{\\int 1\\mathrm d y}=e^y$$\n",
    "方程两边乘$e^y$得$$(ye^y\\cos x\\mathrm d x+ye^y\\sin x\\mathrm d y)+(e^yx\\cos x\\mathrm d y-e^yx\\sin x\\mathrm d x)=0$$\n",
    "即$$\\mathrm d [(y-1)e^y\\sin x+e^yx\\cos x]=0$$\n",
    "通解为$$(y-1)e^y\\sin x+e^yx\\cos x=c$$"
   ]
  },
  {
   "cell_type": "markdown",
   "metadata": {},
   "source": [
    "(11)$x(4y\\mathrm d x+2x\\mathrm d y)+y^3(3y\\mathrm d x+5x\\mathrm d y)=0$\n",
    "\n",
    "可知$$M=4xy+3y^4,N=2x^2+5xy^3$$\n",
    "又因为$$\\frac{\\partial M}{\\partial y}=4x+12y^3 \\neq \\frac{\\partial N}{\\partial x}=4x+5y^3$$\n",
    "所以不是恰当方程\n",
    "\n",
    "设积分因子为$\\mu=x^my^n$,方程两边乘积分因子得$$(4x^{m+1}y^{n+1}+3x^my^{n+4})\\mathrm d x+(2x^{m+2}y^n+5x^{m+1}y^{n+3}\\mathrm d y=0$$\n",
    "\n",
    "若为恰当方程，则$$4(n+1)x^{m+1}y^n+3(n+4)x^my^{n+3}=2(m+2)x^{m+1}y^n+5(m+1)x^my^{n+3}$$\n",
    "系数对应相等可得$$m=2,n=1$$\n",
    "积分因子为$\\mu=x^2y$,两边乘积分因子得$$4x^3y^2\\mathrm d x+3x^2y^5\\mathrm d x+2x^4y\\mathrm d y+5x^3y^4\\mathrm d y=\\mathrm d (x^4y^2)+\\mathrm d (x^3y^5)=0$$\n",
    "通解为$$x^4y^2+x^3y^5=c$$"
   ]
  },
  {
   "cell_type": "markdown",
   "metadata": {},
   "source": [
    "4.(1)充分性\n",
    "\n",
    "设$\\mathrm d y-f(x,y)\\mathrm d x=0$有且依赖于$x$的积分因子。\n",
    "\n",
    "由假设得$$\\frac{\\frac{\\partial M}{\\partial y}-\\frac{\\partial N}{\\partial x}}{N}=\\frac{\\frac{-\\partial f}{\\partial y}-0}{1}=\\phi(x)$$\n",
    "即$$\\frac{\\partial f}{\\partial y}=-\\phi(x)$$\n",
    "两边积分得$$f(x,y)=-\\phi(x)y+h(x)$$\n",
    "原方程即为$$\\frac{\\mathrm d y}{\\mathrm d x}=-\\phi(x)y+h(x)$$\n",
    "这说明$\\mathrm d y-f(x,y)\\mathrm d x=0$是线性微分方程\n",
    "\n",
    "(2)必要性\n",
    "\n",
    "设$\\mathrm d y-f(x,y)\\mathrm d x=0$是线性微分方程\n",
    "\n",
    "即存在$g(x),h(x)$使得$$f(x,y)=yg(x)+h(x)$$\n",
    "即$$M=-f(x,y)=-yg(x)-h(x),N=1$$\n",
    "可得$$\\frac{\\frac{\\partial M}{\\partial y}-\\frac{\\partial N}{\\partial x}}{N}=\\frac{-g(x)}{1}=-g(x)$$\n",
    "所以有积分因子$\\mu=e^{\\int -g(x) \\mathrm d x}$"
   ]
  },
  {
   "cell_type": "markdown",
   "metadata": {},
   "source": [
    "8.伯努利方程为$$\\frac{\\mathrm d y}{\\mathrm d x}=P(x)y+Q(x)y^n$$\n",
    "即$$\\mathrm d y-P(x)y\\mathrm d x-Q(x)y^n\\mathrm d x=0$$\n",
    "两边乘$y^{-n}$得$$y^{-n}\\mathrm d y-P(x)y^{1-n}\\mathrm d x-Q(x)\\mathrm d x=0$$\n",
    "即$$\\mathrm d (y^{1-n})-(1-n)P(x)y^{1-n}\\mathrm d x-(1-n)Q(x)\\mathrm d x=0$$\n",
    "两边乘$e^{-(1-n)\\int P(x)\\mathrm d x}$得$$e^{-(1-n)\\int P(x)\\mathrm d x}[\\mathrm d (y^{1-n})-(1-n)P(x)y^{1-n}\\mathrm d x]-e^{-(1-n)\\int P(x)\\mathrm d x}(1-n)Q(x)\\mathrm d x=0$$\n",
    "即$$\\mathrm d (y^{1-n}e^{-(1-n)\\int P(x)\\mathrm d x})-\\mathrm d [\\int(1-n)Q(x)e^{-(1-n)\\int P(x)\\mathrm d x}\\mathrm d x=0]$$\n",
    "积分因子为$$y^{-n}e^{-(1-n)\\int P(x)\\mathrm d x}$$"
   ]
  },
  {
   "cell_type": "markdown",
   "metadata": {},
   "source": [
    "1.(1)$xy'^3=1+y'$\n",
    "\n",
    "令$y'=p$,则$$x=\\frac{1}{p^3}+\\frac{1}{p^2}$$\n",
    "两边对$y$求导，得$$(3+2p)\\mathrm d p+p^3\\mathrm d y=0$$\n",
    "再积分得$$y=\\frac{3}{2p^2}+\\frac{2}{p}+c$$\n",
    "通解为$$\\begin{cases}\n",
    "x=\\frac{1}{p^3}+\\frac{1}{p^2}\\\\\n",
    "y=\\frac{3}{2p^2}+\\frac{2}{p}+c\n",
    "\\end{cases}$$"
   ]
  },
  {
   "cell_type": "markdown",
   "metadata": {},
   "source": [
    "(2)$y'^3-x^3(1-y')=0$\n",
    "\n",
    "令$y'=tx$得$$(t^3-(1-tx))x^3=0$$\n",
    "则$$x=\\frac{1}{t}-t^2$$\n",
    "两边对$y$求导得$$\\frac{1}{1-t^3}=(-\\frac{1}{t^2}-2t)\\frac{\\mathrm d t}{\\mathrm d y}$$\n",
    "即$$\\mathrm d y=[(1-t^3)(-\\frac{1}{t^2}-2t)]\\mathrm d t$$\n",
    "再积分$$y=-\\frac{1}{2}t^2+\\frac{2}{5}t^5+\\frac{1}{t}+c$$\n",
    "通解为$$\\begin{cases}\n",
    "x==\\frac{1}{t}-t^2\\\\\n",
    "y=-\\frac{1}{2}t^2+\\frac{2}{5}t^5+\\frac{1}{t}+c\n",
    "\\end{cases}$$  "
   ]
  },
  {
   "cell_type": "markdown",
   "metadata": {},
   "source": [
    "(3)$y=y'^2e^{y'}$\n",
    "\n",
    "令$y'=p$得$$y=p^2e^p$$\n",
    "两边对$x$求导得$$p=(2p+p^2)e^p\\frac{\\mathrm d p}{\\mathrm d x}$$\n",
    "即$$\\mathrm d x=(p+2)e^p\\mathrm d p$$\n",
    "再积分得$$x=(p+1)e^p+c$$\n",
    "通解为$$\\begin{cases}\n",
    "x=(p+1)e^p+c\\\\\n",
    "y=p^2e^p\n",
    "\\end{cases}$$"
   ]
  },
  {
   "cell_type": "markdown",
   "metadata": {},
   "source": [
    "(4)$y(1+y'^2)=2a$\n",
    "\n",
    "令$y'=\\tan x$得$$y=2a\\cos^2 t$$\n",
    "两边对$x$求导得$$\\tan t=-2a\\sin 2t\\frac{\\mathrm d t}{\\mathrm d x}$$\n",
    "即$$\\mathrm d x=-4a\\cos^2 t\\mathrm d t$$\n",
    "再积分得$$x=-a(2t+\\sin 2t)+c$$\n",
    "通解为$$\\begin{cases}\n",
    "x=-a(2t+\\sin 2t)+c\\\\\n",
    "y=2a\\cos^2 t\n",
    "\\end{cases}$$"
   ]
  },
  {
   "cell_type": "markdown",
   "metadata": {},
   "source": [
    "(5)$x^2+y'^2=1$\n",
    "\n",
    "令$y'=\\cos t$得$$x=\\sin t $$\n",
    "两边对$y$求导得$$\\mathrm d y=\\cos^2 t\\mathrm d t$$\n",
    "再积分$$y=\\frac{t}{2}+\\frac{1}{4}\\sin 2t+c$$\n",
    "通解为$$\\begin{cases}\n",
    "x=\\sin t\\\\\n",
    "y=\\frac{t}{2}+\\frac{1}{4}\\sin 2t+c\n",
    "\\end{cases}$$"
   ]
  },
  {
   "cell_type": "markdown",
   "metadata": {},
   "source": [
    "(6)$y^2(y'-1)=(2-y')^2$\n",
    "\n",
    "令$2-y'=ty$得$$y^2(1-ty)=y^{2}t^2$$\n",
    "可求出$$y=\\frac{1}{t}-t,y'=1+t^2$$\n",
    "另$$\\mathrm d x=\\frac{\\mathrm d y}{y'}=\\frac{(-\\frac{1}{t^2}-1)}{1+t^2}\\mathrm d t=-\\frac{1}{t^2}\\mathrm d t$$\n",
    "两边积分得$$x=\\frac{1}{t}+c$$\n",
    "通解为$$\\begin{cases}\n",
    "x=\\frac{1}{t}+c\\\\\n",
    "y=\\frac{1}{t}-t\n",
    "\\end{cases}$$"
   ]
  },
  {
   "cell_type": "markdown",
   "metadata": {},
   "source": [
    "# <font color='red'>A 26/9"
   ]
  },
  {
   "cell_type": "code",
   "execution_count": null,
   "metadata": {
    "collapsed": true
   },
   "outputs": [],
   "source": []
  }
 ],
 "metadata": {
  "kernelspec": {
   "display_name": "SageMath 7.3",
   "language": "",
   "name": "sagemath"
  },
  "language_info": {
   "codemirror_mode": {
    "name": "ipython",
    "version": 2
   },
   "file_extension": ".py",
   "mimetype": "text/x-python",
   "name": "python",
   "nbconvert_exporter": "python",
   "pygments_lexer": "ipython2",
   "version": "2.7.10"
  }
 },
 "nbformat": 4,
 "nbformat_minor": 0
}
