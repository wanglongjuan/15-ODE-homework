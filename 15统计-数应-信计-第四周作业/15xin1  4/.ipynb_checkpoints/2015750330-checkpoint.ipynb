{
 "cells": [
  {
   "cell_type": "markdown",
   "metadata": {},
   "source": [
    "1.求下列方程的解"
   ]
  },
  {
   "cell_type": "markdown",
   "metadata": {},
   "source": [
    "(1)$$({x+2y}){\\mathrm d x}+{x}{\\mathrm d y}=0$$"
   ]
  },
  {
   "cell_type": "markdown",
   "metadata": {},
   "source": [
    "设 M=x+2y,N=x,$$\\quad \\frac{\\partial M}{\\partial y}\\neq \\frac{\\partial N}{\\partial x}$$ "
   ]
  },
  {
   "cell_type": "markdown",
   "metadata": {},
   "source": [
    "$$\\frac{\\quad \\frac{\\partial M}{\\partial y}-\\frac{\\partial N}{\\partial x}}{N}=\\frac{1}{x}$$ "
   ]
  },
  {
   "cell_type": "markdown",
   "metadata": {},
   "source": [
    "方程有积分因子$$\\mu=e^{\\int\\mathrm d x}=x$$"
   ]
  },
  {
   "cell_type": "markdown",
   "metadata": {},
   "source": [
    "两边乘以$$\\mu$$得：方程$$({x+2y}){\\mathrm d x}+{x}{\\mathrm d y}=0$$是恰当方程"
   ]
  },
  {
   "cell_type": "markdown",
   "metadata": {},
   "source": [
    "所以，$$\\int(x^2+2xy)\\mathrm d x+\\int[x^2-\\quad\\frac{\\partial \\int(x^2+2xy)\\mathrm d x}{\\partial y}]\\mathrm  d y=c$$"
   ]
  },
  {
   "cell_type": "markdown",
   "metadata": {},
   "source": [
    "$$\\frac{x^3}{3}+x^3y=c$$"
   ]
  },
  {
   "cell_type": "markdown",
   "metadata": {},
   "source": [
    "(2)$${[xcos(x+y)+sin(x+y)]}{\\mathrm d x}+{xcos(x+y)}{\\mathrm d y}=0$$"
   ]
  },
  {
   "cell_type": "markdown",
   "metadata": {},
   "source": [
    "设 M=xcos(x+y)+sin(x+y),N=xcos(x+y)\n",
    "$$\\quad \\frac{\\partial M}{\\partial y}= \\frac{\\partial N}{\\partial x}=cos(x+y)-xsin(x+y)$$"
   ]
  },
  {
   "cell_type": "markdown",
   "metadata": {},
   "source": [
    "所以"
   ]
  },
  {
   "cell_type": "markdown",
   "metadata": {},
   "source": [
    "$$xsin(x+y)=c$$"
   ]
  },
  {
   "cell_type": "markdown",
   "metadata": {},
   "source": [
    "(3)$${(ycosx-xsinx)}{\\mathrm d x}+{(ysinx+xcosx)}{\\mathrm d y}=0$$"
   ]
  },
  {
   "cell_type": "markdown",
   "metadata": {},
   "source": [
    "设 M=ycosx-xcos,N=ysinx+cosx,$$\\quad \\frac{\\partial M}{\\partial y}\\neq \\frac{\\partial N}{\\partial x}$$"
   ]
  },
  {
   "cell_type": "markdown",
   "metadata": {},
   "source": [
    "$$\\frac{\\quad \\frac{\\partial M}{\\partial y}-\\frac{\\partial N}{\\partial x}}{M}=1$$ "
   ]
  },
  {
   "cell_type": "markdown",
   "metadata": {},
   "source": [
    "方程有积分因子：$$\\mu=e^{\\int\\mathrm d y}=e^y$$"
   ]
  },
  {
   "cell_type": "markdown",
   "metadata": {},
   "source": [
    "两边乘$$\\mu$$得："
   ]
  },
  {
   "cell_type": "markdown",
   "metadata": {},
   "source": [
    "方程$$e^y(ycosx-xsinx)\\mathrm d x+e^y(ysinx+xcosx)\\mathrm d y=0$$为恰当方程"
   ]
  },
  {
   "cell_type": "markdown",
   "metadata": {},
   "source": [
    "所以：$$e^ysinx(y-1)+e^ycosx=c$$"
   ]
  },
  {
   "cell_type": "markdown",
   "metadata": {},
   "source": [
    "(4)$$x(4y\\mathrm dx+2x\\mathrm d y)+y^3(3y\\mathrm d x+5x\\mathrm d y)=0$$"
   ]
  },
  {
   "cell_type": "markdown",
   "metadata": {},
   "source": [
    "两边同时乘以$$x^2y$$得"
   ]
  },
  {
   "cell_type": "markdown",
   "metadata": {},
   "source": [
    "$$（4x^3y^2\\mathrm d x+2x^4y\\mathrm d y)+(3x^2y^5\\mathrm d x+5x^3y\\mathrm d y)=0$$"
   ]
  },
  {
   "cell_type": "markdown",
   "metadata": {},
   "source": [
    "$$\\mathrm d (x^4y^2)+\\mathrm d (x^3y^5)=0$$"
   ]
  },
  {
   "cell_type": "markdown",
   "metadata": {},
   "source": [
    "所以，方程的通解为$$x^4y^2+x^3y^5=c$$"
   ]
  },
  {
   "cell_type": "markdown",
   "metadata": {},
   "source": [
    "2.设f(x,y)及$$\\quad \\frac{\\partial f}{\\partial y}$$连续，试证方程$$\\mathrm d y-f(x.y)\\mathrm d x=0$$为线性微分方程的充要条件是它有仅依赖于x的积分因子"
   ]
  },
  {
   "cell_type": "markdown",
   "metadata": {},
   "source": [
    "证明：必要性  若该方程为线性方程，则有$$\\frac{\\mathrm d y}{\\mathrm d x}=P(x)y+Q(x)$$"
   ]
  },
  {
   "cell_type": "markdown",
   "metadata": {},
   "source": [
    "此方程有积分因子$$\\mu(x)=e^{-\\int P(x)\\mathrm d x }$$"
   ]
  },
  {
   "cell_type": "markdown",
   "metadata": {},
   "source": [
    "$$\\mu(x)$$只与x有关"
   ]
  },
  {
   "cell_type": "markdown",
   "metadata": {},
   "source": [
    "充分性 若该方程有只与x有关的积分因子$$\\mu(x)$$"
   ]
  },
  {
   "cell_type": "markdown",
   "metadata": {},
   "source": [
    "则$$\\mu(x) d y-\\mu(x)f(x,y) d x=0$$为恰当方程"
   ]
  },
  {
   "cell_type": "markdown",
   "metadata": {},
   "source": [
    "从而$$\\frac{\\partial (-\\mu(x)f(x,y))}{\\partial y}=\\frac{ d \\mu(x)}{ d x }$$\n",
    "$$\\frac{\\partial f}{\\partial y}=- {\\frac{\\mu'（x)}{\\mu(x)}}$$ "
   ]
  },
  {
   "cell_type": "markdown",
   "metadata": {},
   "source": [
    "$$f=-\\int\\frac{\\mu'(x)}{\\mu(x)}\\mathrm d y+Q(x)=-\\frac{\\mu'(x)}{\\mu(x)}y+Q(x)=P(x)y+Q(x)$$  \n",
    "\n",
    "其中$$P(x)=\\frac{\\mu'(x)}{\\mu(x)}$$  \n",
    "\n",
    "方程化为$$\\mathrm d y-(P(x)y+Q(x))\\mathrm d x=0$$方程为一阶线性方程"
   ]
  },
  {
   "cell_type": "markdown",
   "metadata": {},
   "source": [
    "3.求出伯努利微分方程的积分因子"
   ]
  },
  {
   "cell_type": "markdown",
   "metadata": {},
   "source": [
    "已知伯努利方程为$$\\frac{ d y}{ d x}=P(x)y+Q(x)y^n$$ $$y\\neq0$$"
   ]
  },
  {
   "cell_type": "markdown",
   "metadata": {},
   "source": [
    "两边同时乘以$$y^{-n}$$,令$$z=y^{-n}$$"
   ]
  },
  {
   "cell_type": "markdown",
   "metadata": {},
   "source": [
    "$$\\frac{d z}{d x}={(1-n)}P(x)z+{（1-n)}Q(x)$$"
   ]
  },
  {
   "cell_type": "markdown",
   "metadata": {},
   "source": [
    "线性方程有积分因子  \n",
    "\n",
    "$$\\mu =e^{-\\int(1-n)P(x)\\mathrm d x}=e^{(n-1)\\int P(x)\\mathrm d x}$$  \n",
    "\n",
    "故原方程的积分因子为：$$\\mu=e^{-\\int(1-n)P(x)\\mathrm d x}=e^{(n-1)\\int P(x)\\mathrm d x}$$  \n"
   ]
  },
  {
   "cell_type": "markdown",
   "metadata": {},
   "source": [
    "4.求解下列方程"
   ]
  },
  {
   "cell_type": "markdown",
   "metadata": {},
   "source": [
    "(1)$$xy'^3=1+y'$$"
   ]
  },
  {
   "cell_type": "markdown",
   "metadata": {},
   "source": [
    "令$$\\frac{d y}{d x}=y'=p=\\frac{1}{t}$$,则$$x=(1+\\frac{1}{t})t^3=t^3+t^2$$"
   ]
  },
  {
   "cell_type": "markdown",
   "metadata": {},
   "source": [
    "从而$$y=\\int pd x+c=\\int \\frac{1}{t}d (t^3+t^2)+c=\\int (3t+2)d t+c=\\frac{3}{2}t^3+2t+c$$"
   ]
  },
  {
   "cell_type": "markdown",
   "metadata": {},
   "source": [
    "$$\n",
    "\\begin{cases}\n",
    "x=t^3+t^2\\\\\n",
    "y=\\frac{3}{2}t^2+2t+c\n",
    "\\end{cases}\n",
    "$$"
   ]
  },
  {
   "cell_type": "markdown",
   "metadata": {},
   "source": [
    "(2)$$y'^3-x^3(1-y')=0$$"
   ]
  },
  {
   "cell_type": "markdown",
   "metadata": {},
   "source": [
    "令$$\\frac{d y}{d x}=y'=p=tx$$,则$$(tx^3)-x^3(1-tx)=0$$,即$$x=\\frac{t^3-1}{t}=t^2-\\frac{1}{t}$$"
   ]
  },
  {
   "cell_type": "markdown",
   "metadata": {},
   "source": [
    "从而$$y=\\int pd x+c=\\int t(t^2-\\frac{1}{t})d (t^2-\\frac{1}{t})+c\n",
    "=\\int (t^3-1)(2t+\\frac{1}{t^2})d t +c\n",
    "=\\int (2t^4-t-\\frac{1}{t^2})d t+c\n",
    "=\\frac{2}{5}t^5-\\frac{1}{2}t^2+\\frac{1}{t}+c$$"
   ]
  },
  {
   "cell_type": "markdown",
   "metadata": {},
   "source": [
    "$$\n",
    "\\begin{cases}\n",
    "x=t^2-\\frac{1}{t}\\\\\n",
    "y=\\frac{3}{5}t^5-\\frac{1}{2}t^2+\\frac{1}{t}+c\n",
    "\\end{cases}\n",
    "$$"
   ]
  },
  {
   "cell_type": "markdown",
   "metadata": {},
   "source": [
    "(3)$$y==y'^2e^{y'}$$"
   ]
  },
  {
   "cell_type": "markdown",
   "metadata": {},
   "source": [
    "令$$\\frac{d y}{d x}=y'=p$$,则$$y=p^2e^p$$"
   ]
  },
  {
   "cell_type": "markdown",
   "metadata": {},
   "source": [
    "从而$$x=\\int \\frac{1}{p}d (p^2e^p)+c=\\int \\frac{1}{p}(2pe^p+p^2e^p)d p+c=\\int (2e^p+pe^p)d p+c=1+pe^p+c$$"
   ]
  },
  {
   "cell_type": "markdown",
   "metadata": {},
   "source": [
    "$$\n",
    "\\begin{cases}\n",
    "x=(1+p)e^p+c\\\\\n",
    "y=y^2e^p\n",
    "\\end{cases}\n",
    "$$"
   ]
  },
  {
   "cell_type": "markdown",
   "metadata": {},
   "source": [
    "(4)$$y(1+y'^2)=2a$$"
   ]
  },
  {
   "cell_type": "markdown",
   "metadata": {},
   "source": [
    "令$$\\frac{d y}{d x}=y'=tg\\phi$$,则$$y=\\frac{2a}{1+tg^2\\mu}=\\frac{2a}{sec^2\\phi}=2a（cos\\phi)^2$$"
   ]
  },
  {
   "cell_type": "markdown",
   "metadata": {},
   "source": [
    "从而$$x=\\int \\frac{1}{p}d y+c=\\int \\frac{1}{tg\\phi}d (2acos^2\\phi)+c=-4a\\int cos^2yd \\phi+c=-4a\\int \\frac{1+cos2\\phi}{2}+c=-a(2\\phi+sin2\\phi)+c$$"
   ]
  },
  {
   "cell_type": "markdown",
   "metadata": {},
   "source": [
    "$$\n",
    "\\begin{cases}\n",
    "x=-a(2\\phi+sin2\\phi)+c\\\\\n",
    "y=2acos^2\\phi\n",
    "\\end{cases}\n",
    "$$"
   ]
  },
  {
   "cell_type": "markdown",
   "metadata": {
    "collapsed": true
   },
   "source": [
    "(5)$$x^2+y'^2=1$$"
   ]
  },
  {
   "cell_type": "markdown",
   "metadata": {},
   "source": [
    "令$$\\frac{\\rm d y}{\\rm d x}=y'=p=cost$$,则$$x=\\sqrt{1-cos^2t}=sint$$"
   ]
  },
  {
   "cell_type": "markdown",
   "metadata": {},
   "source": [
    "$$y=\\int{cost}{\\rm d}(sint)+c=\\int{cos^2t}{\\rm d}t+c=\\int{\\frac{1+cos2t}{2}}{\\rm d}t+c=\\frac{1}{2}t+\\frac{1}{4}sin2t+c$$\n",
    "\n"
   ]
  },
  {
   "cell_type": "markdown",
   "metadata": {},
   "source": [
    "$$\n",
    "\\begin{cases}\n",
    "x=sint\\\\\n",
    "y=\\frac{1}{2}t+\\frac{1}{4}sin2t+c\n",
    "\\end{cases}\n",
    "$$"
   ]
  },
  {
   "cell_type": "markdown",
   "metadata": {},
   "source": [
    "(6)$$y^2(y'-1)=(2-y')^2$$"
   ]
  },
  {
   "cell_type": "markdown",
   "metadata": {},
   "source": [
    "令$$2-y'=yt$$,则$$1-y'=yt-1$$，得$$y=t=\\frac{1}{t}$$\n"
   ]
  },
  {
   "cell_type": "markdown",
   "metadata": {},
   "source": [
    "$${\\mathrm d x}={\\frac{\\rm d y}{2-yt}}=\\frac{{\\rm d}(t+{\\frac{1}{t}})}{2-t(t+{\\frac{1}{t}})}=\\frac{(1-t^{-2}){\\rm d}t}{1-t^2}=\\frac{t^2-1}{t^2(1-t^2)}{\\rm d}t=-{\\frac{1}{t^2}}{\\rm d}t$$从而$$x=\\int{(-\\frac{1}{t^2}){\\rm d}t}+c={\\frac{1}{t}}+c$$"
   ]
  },
  {
   "cell_type": "markdown",
   "metadata": {},
   "source": [
    "$$\n",
    "\\begin{cases}\n",
    "x=\\frac{1}{t}+c\\\\\n",
    "y=t+\\frac{1}{t}\n",
    "\\end{cases}\n",
    "$$"
   ]
  },
  {
   "cell_type": "markdown",
   "metadata": {},
   "source": [
    "# <font color='red'>A 26/9"
   ]
  },
  {
   "cell_type": "code",
   "execution_count": null,
   "metadata": {
    "collapsed": true
   },
   "outputs": [],
   "source": []
  }
 ],
 "metadata": {
  "kernelspec": {
   "display_name": "SageMath 7.3",
   "language": "",
   "name": "sagemath"
  },
  "language_info": {
   "codemirror_mode": {
    "name": "ipython",
    "version": 2
   },
   "file_extension": ".py",
   "mimetype": "text/x-python",
   "name": "python",
   "nbconvert_exporter": "python",
   "pygments_lexer": "ipython2",
   "version": "2.7.10"
  }
 },
 "nbformat": 4,
 "nbformat_minor": 0
}
