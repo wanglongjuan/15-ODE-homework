{
 "cells": [
  {
   "cell_type": "markdown",
   "metadata": {},
   "source": [
    "**2.3**    \n",
    "2.求下列方程的解：       \n",
    "(8)$(x+2y){\\mathrm d x}+x{\\mathrm d y}=0$"
   ]
  },
  {
   "cell_type": "markdown",
   "metadata": {},
   "source": [
    "解：$M=x+2y$,$N=x$   \n",
    "$\\frac{\\partial M}{\\partial y}=2$,$\\frac{\\partial N}{\\partial x}=1$   \n",
    "方程不是恰当的  \n",
    "又因为     $\\frac{\\frac{\\partial M}{\\partial y}-\\frac{\\partial N}{\\partial x}}{N}=\\frac{1}{x}$    \n",
    "故方程有只与$x$有关的积分因子  \n",
    "$\\mu =e^{\\int (\\frac{1}{x}){\\mathrm d x}}=e^{Inx}=x$    \n",
    "用$\\mu =x$乘以方程两边，得到   \n",
    "$x(x+2y){\\mathrm d x}+x^2{\\mathrm d y}=0$是恰当方程    \n",
    "所以通解为$\\int x(x+2y){\\mathrm d x}+\\int [x^2-\\frac{\\partial}{\\partial y}\\int x(x+2y){\\mathrm d x}]{\\mathrm d y}=c$   \n",
    "解得$\\frac{x^3}{3}+x^3y=c$"
   ]
  },
  {
   "cell_type": "markdown",
   "metadata": {},
   "source": [
    "(9)$[x \\cos(x+y)+\\sin(x+y)]){\\mathrm d x}+x \\cos(x+y){\\mathrm d y}=0$"
   ]
  },
  {
   "cell_type": "markdown",
   "metadata": {},
   "source": [
    "解：$M=x(\\cos(x+y)+\\sin(x+y)$,$N=x \\cos(x+y)$    \n",
    "$\\frac{\\partial M}{\\partial y}=\\cos(x+y)-x\\sin(x+y)$   \n",
    "$\\frac{\\partial N}{\\partial x}=\\cos(x+y)-x\\sin(x+y)$   \n",
    "方程是恰当方程  \n",
    "所以通解为$\\int x(\\cos(x+y)+\\sin(x+y){\\mathrm d x}+\\int[x \\cos(x+y)-\\frac{\\partial}{\\partial y}\\int[ x(\\cos(x+y)+\\sin(x+y){\\mathrm d x}]]{\\mathrm d y}=c$          \n",
    "解得$x\\sin(x+y)=c$"
   ]
  },
  {
   "cell_type": "markdown",
   "metadata": {},
   "source": [
    "(10)$(y \\cos x-x \\sin x){\\mathrm d x}+(y \\sin x+x \\cos x){\\mathrm d y}=0$"
   ]
  },
  {
   "cell_type": "markdown",
   "metadata": {},
   "source": [
    "解：$M=y\\cos x-x\\sin x$,$N=y\\sin x+x \\cos x$   \n",
    "$\\frac{\\partial M}{\\partial y}=\\cos x$ , $\\frac{\\partial N}{\\partial x}=(y+1)\\cos x-x\\sin x$   \n",
    "方程不是恰当方程  \n",
    "又因为     $\\frac{\\frac{\\partial M}{\\partial y}-\\frac{\\partial N}{\\partial x}}{-M}=1$   \n",
    "$\\mu =e^{\\int \\mathrm d y}=e^y$   \n",
    "方程两边同乘$\\mu$得到 \n",
    "方程$e^y(y \\cos x-x \\sin x){\\mathrm d x}+e^y(y \\sin x+x \\cos x){\\mathrm d y}=0$是恰当方程   \n",
    "所以通解为$\\int e^y(y \\cos x-x \\sin x){\\mathrm d x}+\\int[(y\\sin x+x \\cos x)-\\frac{\\partial}{\\partial y}\\int[e^y(y \\cos x-x \\sin x){\\mathrm d x}]]{\\mathrm d y}=c$     \n",
    "解得$e^y \\sin x(y-1)+e^y \\cos x=c$"
   ]
  },
  {
   "cell_type": "markdown",
   "metadata": {},
   "source": [
    "(11)$x(4y{\\mathrm d x}+2x{\\mathrm d y})+y^3(3y{\\mathrm d x}+5x{\\mathrm d y})=0$"
   ]
  },
  {
   "cell_type": "markdown",
   "metadata": {},
   "source": [
    "解：方程两边同时乘以$x^2y$得到  \n",
    "   $(4x^3y^2\\mathrm d x+2x^3y\\mathrm d y)+(3x^2y^5\\mathrm d x+5x^3y^4\\mathrm d y)=0$  \n",
    "   即$\\mathrm d(x^4y^2)+\\mathrm d (x^3y^5)=0$   \n",
    "   故方程的通解为$x^4y^2+x^3y^5=c$"
   ]
  },
  {
   "cell_type": "markdown",
   "metadata": {},
   "source": [
    "4.设$f(x,y)$及$\\frac{\\partial f}{\\partial y}$连续，试证方程${\\mathrm d y}-f(x,y){\\mathrm d x}=0$为线性微分方程的充要条件是它有仅依赖于$x$的积分因子 "
   ]
  },
  {
   "cell_type": "markdown",
   "metadata": {},
   "source": [
    "证明：  \n",
    "必要性：\n",
    "     如果该方程是线性方程，那么有$\\frac{\\mathrm d f}{\\mathrm d x}=P(x)y+Q(x)$             \n",
    "     此方程有积分因子$\\mu=e^{-\\int P(x)\\mathrm d x}$,$\\mu (x)$只与$x$有关  \n",
    "        \n",
    "充分性：\n",
    "     该方程有只与$x$相关的积分因子$\\mu (x)$  \n",
    "     那么，$\\mu(x)\\mathrm d y-\\mu (x)f(x,y)\\mathrm d x=0$是恰当方程   \n",
    "     从而得到$\\frac{\\partial(-\\mu (x)f(x,y))}{\\partial y}=\\frac{\\mathrm d \\mu (x)}{\\mathrm d x}$,$\\frac{\\partial f}{\\partial y}=\\frac{\\mu (x)\\prime}{\\mu (x)}$          \n",
    "     $f=-\\int \\frac{\\mu (x)\\prime}{\\mu (x)}\\mathrm d y+Q(x)=-\\frac{\\mu (x)\\prime}{\\mu (x)}y+Q(x)=P(x)y+Q(x)=0$   \n",
    "     方程为一阶线性方程"
   ]
  },
  {
   "cell_type": "markdown",
   "metadata": {},
   "source": [
    "8.求出伯努利微分方程的积分因子"
   ]
  },
  {
   "cell_type": "markdown",
   "metadata": {},
   "source": [
    "解：伯努利方程为$\\frac{\\mathrm d y}{\\mathrm d x}=P(x)y+Q(x)y^n$  \n",
    "两边同乘$y^{-n}$ ，使$z=y^{-n}$得到  \n",
    "$\\frac{\\mathrm d z}{\\mathrm d x}=(1-n)P(x)z+(1-n)Q(x)$线性方程有积分因子  \n",
    "原方程的积分因子为$\\mu=e^{(n-1)\\int P(x)\\mathrm d x}$"
   ]
  },
  {
   "cell_type": "markdown",
   "metadata": {
    "collapsed": true
   },
   "source": [
    "**2.4**         \n",
    "1.求解下列方程"
   ]
  },
  {
   "cell_type": "markdown",
   "metadata": {},
   "source": [
    "(1).$xy\\prime^3=1+y\\prime$"
   ]
  },
  {
   "cell_type": "markdown",
   "metadata": {},
   "source": [
    "解：$x (\\frac{\\mathrm d y}{\\mathrm d x})^3=1+\\frac{\\mathrm d y}{\\mathrm d x}$   \n",
    "令$\\frac{\\mathrm d y}{\\mathrm d x}=p=\\frac{1}{t}$   \n",
    "即$x=(1+\\frac{1}{t})t^3=t^3-t^2$   \n",
    "$y=\\int p \\mathrm d x +c=\\frac{3}{2}t^2+2t+c$  \n",
    "得到参数方程\\begin{cases} x=t^3-t^2  \\\\\n",
    "  y=\\frac{3}{2}t^2+2t+c\n",
    "  \\end{cases}"
   ]
  },
  {
   "cell_type": "markdown",
   "metadata": {},
   "source": [
    "(2).$y\\prime^3-x^3(1-y\\prime)=0$"
   ]
  },
  {
   "cell_type": "markdown",
   "metadata": {},
   "source": [
    "解： $(\\frac{\\mathrm d y}{\\mathrm d x})^3-x^3(1-\\frac{\\mathrm d y}{\\mathrm d x})=0$  \n",
    "令$\\frac{\\mathrm d y}{\\mathrm d x}=p=tx$   \n",
    "即$x=\\frac{t^3-1}{t}=t^2-\\frac{1}{t}$ \n",
    "$y=\\int p \\mathrm d x +c=\\int(2t^4-t-\\frac{1}{t^2})\\mathrm d x=\\frac{2}{5}t^5-\\frac{1}{2}t^2-\\frac{1}{t}+c$  \n",
    "得到参数方程\\begin{cases} x=t^2-\\frac{1}{t}  \\\\\n",
    "  y=\\frac{2}{5}t^5-\\frac{1}{2}t^2-\\frac{1}{t}+c \n",
    "  \\end{cases}"
   ]
  },
  {
   "cell_type": "markdown",
   "metadata": {},
   "source": [
    "(3).$y=y\\prime^2e^{y\\prime}$"
   ]
  },
  {
   "cell_type": "markdown",
   "metadata": {},
   "source": [
    "解：$y=(\\frac{\\mathrm d y}{\\mathrm d x})^2e^{\\frac{\\mathrm d y}{\\mathrm d x}}$     \n",
    "令$\\frac{\\mathrm d y}{\\mathrm d x}=p$那么  \n",
    "$y=p^2e^p$    \n",
    "得到$x=\\int \\frac{1}{d}\\mathrm d (p^2e^p)+c=(1+p)e^p+c$  \n",
    "得到通解  \n",
    "\\begin{cases} x=(1+p)e^p+c  \\\\\n",
    "  y=p^2e^p \n",
    "  \\end{cases}"
   ]
  },
  {
   "cell_type": "markdown",
   "metadata": {},
   "source": [
    "(4).$y(1+y\\prime^2)=2a$($a$为常数)"
   ]
  },
  {
   "cell_type": "markdown",
   "metadata": {},
   "source": [
    "解：$y(1+(\\frac{\\mathrm d y}{\\mathrm d x})^2)=2a$ \n",
    "令$\\frac{\\mathrm d y}{\\mathrm d x}=p=tg \\varphi$  \n",
    "得到$y=\\frac{2a}{\\sec^2\\varphi}=2a\\cos^2\\varphi$    \n",
    "$x=\\int \\frac{1}{p}\\mathrm d y=-a(2\\varphi+\\sin \\varphi)+c$  \n",
    "得到通解  \n",
    "\\begin{cases} x=-a(2\\varphi+\\sin \\varphi)+c  \\\\\n",
    "  y=2a\\cos^2\\varphi \n",
    "  \\end{cases}"
   ]
  },
  {
   "cell_type": "markdown",
   "metadata": {},
   "source": [
    "(5).$x^2+y\\prime^2=1$"
   ]
  },
  {
   "cell_type": "markdown",
   "metadata": {},
   "source": [
    "解：$x^2+(\\frac{\\mathrm d y}{\\mathrm d x})^2=1$  \n",
    "令$\\frac{\\mathrm d y}{\\mathrm d x}=p=\\cos t$  \n",
    "得到$x=\\sqrt{1-\\cos^2t}=\\sin t$  \n",
    "$y=\\int p \\mathrm d x+c=\\frac{1}{2}t+\\frac{1}{4}\\sin 2t+c$  \n",
    "得到通解  \n",
    "\\begin{cases} x=\\sin t  \\\\\n",
    "  y=\\frac{1}{2}t+\\frac{1}{4}\\sin 2t+c\n",
    "  \\end{cases}"
   ]
  },
  {
   "cell_type": "markdown",
   "metadata": {},
   "source": [
    "(6)$y^2(y\\prime-1)=(2-y\\prime)^2$"
   ]
  },
  {
   "cell_type": "markdown",
   "metadata": {},
   "source": [
    "解：$y^2(\\frac{\\mathrm d y}{\\mathrm d x}-1)=(2-\\frac{\\mathrm d y}{\\mathrm d x})^2$  \n",
    "令$2-\\frac{\\mathrm d y}{\\mathrm d x}=ty$  \n",
    "可以得到$y=t+\\frac{1}{t}$  \n",
    "那么$\\mathrm d x=\\frac{\\mathrm d y}{y\\prime}=-\\frac{1}{t^2}$  \n",
    "$x=\\int -\\frac{1}{t^2}\\mathrm d t+c=\\frac{1}{t}+c$  \n",
    "得到通解 \n",
    "\\begin{cases} x=\\frac{1}{t}+c  \\\\\n",
    "  y=t+\\frac{1}{t}\n",
    "  \\end{cases}"
   ]
  },
  {
   "cell_type": "markdown",
   "metadata": {
    "collapsed": true
   },
   "source": [
    "# <font color='red'>A 26/9"
   ]
  },
  {
   "cell_type": "code",
   "execution_count": null,
   "metadata": {
    "collapsed": true
   },
   "outputs": [],
   "source": []
  }
 ],
 "metadata": {
  "kernelspec": {
   "display_name": "SageMath 7.3",
   "language": "",
   "name": "sagemath"
  },
  "language_info": {
   "codemirror_mode": {
    "name": "ipython",
    "version": 2
   },
   "file_extension": ".py",
   "mimetype": "text/x-python",
   "name": "python",
   "nbconvert_exporter": "python",
   "pygments_lexer": "ipython2",
   "version": "2.7.10"
  }
 },
 "nbformat": 4,
 "nbformat_minor": 0
}
