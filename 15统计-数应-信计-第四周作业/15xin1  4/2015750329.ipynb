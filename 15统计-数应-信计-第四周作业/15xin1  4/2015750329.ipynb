{
 "cells": [
  {
   "cell_type": "markdown",
   "metadata": {},
   "source": [
    "# 第三次常微分作业"
   ]
  },
  {
   "cell_type": "markdown",
   "metadata": {},
   "source": [
    "## P.60\n",
    "## 2.求下列方程的解\n",
    "## (8).$(x+2y)\\mathrm dx+x\\mathrm dy=0;$"
   ]
  },
  {
   "cell_type": "markdown",
   "metadata": {},
   "source": [
    "解\n",
    "$$ 方程两边同时乘以x $$\n",
    "\n",
    "$$ 即得(x^2+2xy)\\mathrm dx-x^2\\mathrm dy=0 $$\n",
    "\n",
    "$$ 令M=x^2+2xy,N=x^2 $$\n",
    "\n",
    "$$ 此时 \\frac{\\partial M}{\\partial y}=\\frac{\\partial N}{\\partial x}=2x $$\n",
    "\n",
    "$$ 所以该方程为一个恰当微分方程 $$\n",
    "\n",
    "$$ 令\\frac{\\partial u}{\\partial x}=x^2+2xy,\\frac{\\partial u}{\\partial y}=x^2 $$\n",
    "\n",
    "$$ u=\\int (x^2+2xy){\\mathrm dx}=\\frac{1}{3}x^2+x^2y+h(y) $$\n",
    "\n",
    "$$ \\frac{\\partial u}{\\partial y}=x^2+\\frac{dh(y)}{dy}=x^2 $$\n",
    "\n",
    "$$ h(y)=0,u=\\frac{1}{3}x^2+x^2y $$\n",
    "\n",
    "$$ 通解为\\frac{1}{3}x^2+x^2y=c,(c为常数) $$"
   ]
  },
  {
   "cell_type": "markdown",
   "metadata": {},
   "source": [
    "## (9).$[x\\cos (x+y)+\\sin (x+y)]dx+x\\cos (x+y)dy=0 $"
   ]
  },
  {
   "cell_type": "markdown",
   "metadata": {},
   "source": [
    "解\n",
    "$$ 令M=x\\cos (x+y)+\\sin (x+y)，N=x\\cos (x+y) $$\n",
    "\n",
    "$$ 此时 \\frac{\\partial M}{\\partial y}=\\frac{\\partial N}{\\partial x}=-x\\sin (x+y)+cos(x+y) $$\n",
    "\n",
    "$$ 所以，该方程为一个恰当微分方程 $$\n",
    "\n",
    "$$ 令\\frac{\\partial u}{\\partial x}=x\\cos (x+y)+\\sin (x+y),\\frac{\\partial u}{\\partial y}=x\\cos (x+y) $$\n",
    "\n",
    "$$ u=\\int [x\\cos (x+y)+\\sin (x+y)]{\\mathrm dx}=x\\sin (x+y)+h(y) $$\n",
    "\n",
    "$$ \\frac{\\partial u}{\\partial y}=x\\cos(x+y)+\\frac{dh(y)}{dy}=x\\cos (x+y) $$\n",
    "\n",
    "$$ h(y)=0,u=x\\sin (x+y) $$\n",
    "\n",
    "$$ 通解为x\\sin (x+y)=c,(c为常数) $$"
   ]
  },
  {
   "cell_type": "markdown",
   "metadata": {},
   "source": [
    "## (10).$(y\\cos x-x\\sin x)dx+(y\\sin x+x\\cos x)dy=0$"
   ]
  },
  {
   "cell_type": "markdown",
   "metadata": {},
   "source": [
    "解\n",
    "$$ 令M=y\\cos x-x\\sin x，N=y\\sin x+x\\cos x $$\n",
    "\n",
    "$$ \\frac{\\partial M}{\\partial y}=\\cos x \\neq \\cos x+y\\cos x-x\\sin x=\\frac{\\partial N}{\\partial x}  $$\n",
    "\n",
    "$$ \\frac{\\frac{\\partial M}{\\partial y}-\\frac{\\partial N}{\\partial x}}{-M}=1$$\n",
    "\n",
    "$$ 所以u=e^{\\int {1}{\\mathrm dy}}=e^y$$\n",
    "\n",
    "$$ 两边乘以u得e^y(y\\cos x-x\\sin x)dx+e^y(y\\sin x+x\\cos x)dy=0 $$\n",
    "\n",
    "$$ 通解为\\int e^yMdx+\\int(e^yN-\\frac{\\partial }{\\partial y}\\int e^yMdx)dy=c $$\n",
    "\n",
    "$$即e^y\\sin x(y-1)+e^y\\cos x=c $$"
   ]
  },
  {
   "cell_type": "markdown",
   "metadata": {
    "collapsed": true
   },
   "source": [
    "## (11).$x(4ydx+2xdy)+y^3(3ydx+5xdy)=0$"
   ]
  },
  {
   "cell_type": "markdown",
   "metadata": {},
   "source": [
    "解\n",
    "$$ 两边同时乘以x^2y $$\n",
    "\n",
    "$$ 原方程即为(4x^3y^2dx+2x^4ydy)+(3x^2y^5dx+5x^3y^4dy)=0 $$\n",
    "\n",
    "$$ 即d(x^4y^2)+d(x^3y^5)=0 $$\n",
    "\n",
    "$$ 所以，通解为x^4y^2+x^3y^5=c $$"
   ]
  },
  {
   "cell_type": "markdown",
   "metadata": {},
   "source": [
    "## 4.设$f(x,y)$及$\\frac{\\partial f}{\\partial y}$连续，试证方程$dy-f(x,y)dx=0$为线性微分方程的充要条件是它有仅依赖于x的积分因子。"
   ]
  },
  {
   "cell_type": "markdown",
   "metadata": {},
   "source": [
    "证\n",
    "$$ 必要性：  若该方程为线性方程，则\\frac{dy}{dx}=P(x)y+Q(x) $$\n",
    "\n",
    "$$ 此方程积分因子为u(x)=e^{-\\int p(x)dx}，且u(x)只与x有关 $$\n",
    "\n",
    "$$ 充分性： 若方程有只与x有关的积分因子u(x) $$\n",
    "\n",
    "$$ 则 u(x)dy-u(x)f(x,y)dx=0为一恰当微分方程 $$\n",
    "\n",
    "$$ \\frac{\\partial(-u(x)f(x,y))}{\\partial y}=\\frac{\\partial u(x)}{\\partial x}=\\frac{du(x)}{dx}, \\frac{\\partial f}{\\partial y}=-\\frac{u\\prime (x)}{u(x)} $$\n",
    "\n",
    "$$ f=-\\int \\frac{u\\prime (x)}{u(x)}{dy}+Q(x)=-\\frac{u\\prime (x)}{u(x)}y+Q(x)=P(x)y+Q(x) $$\n",
    "\n",
    "$$ 其中P(x)=-\\frac{u\\prime (x)}{u(x)},于是方程可化为dy-(P(x)y+Q(x))dx=0 $$\n",
    "\n",
    "$$ 所以方程为一阶线性方程 $$"
   ]
  },
  {
   "cell_type": "markdown",
   "metadata": {},
   "source": [
    "## 8.求出伯努利微分方程的积分因子"
   ]
  },
  {
   "cell_type": "markdown",
   "metadata": {},
   "source": [
    "解\n",
    "$$ 伯努利方程为\\frac{dy}{dx}=P(x)y+Q(x)y^n $$\n",
    "\n",
    "$$ 两边同时乘以y^{-n},令z=y^{-n} $$\n",
    "\n",
    "$$ \\frac{dz}{dx}=(1-n)P(x)z+(1-n)Q(x) $$\n",
    "\n",
    "$$ 该线性方程的积分因子是u=e^-{\\int (1-n)P(x)\\,\\mathrm dx}$$\n",
    "\n",
    "$$ u=e^{(n-1)\\int P(x)\\,\\mathrm dx}$$\n",
    "\n",
    "$$因此伯努利方程的积分因子是：u=e^{(n-1)\\int P(x)\\,\\mathrm dx}$$"
   ]
  },
  {
   "cell_type": "markdown",
   "metadata": {},
   "source": [
    "## P.70\n",
    "## 1.求解下列方程\n",
    "## （1）.$xy\\prime ^3=1+y\\prime $"
   ]
  },
  {
   "cell_type": "markdown",
   "metadata": {},
   "source": [
    "解\n",
    "$$(x\\frac{\\mathrm dy}{\\mathrm dx})^3-1-\\frac{\\mathrm dy}{\\mathrm dx}=0 $$\n",
    "\n",
    "$$ 令\\frac{\\mathrm dy}{\\mathrm dx}=p=\\frac{1}{t}$$\n",
    "\n",
    "$$ 所以x=t^3+t^2$$\n",
    "\n",
    "$$\\mathrm dy=p \\mathrm dx=\\frac{1}{t}(3 t^2+2 t)\\mathrm dt$$\n",
    "\n",
    "$$ 求积分 y=\\frac{3}{2}t^2+2 t+c$$\n",
    "\n",
    "$$那么方程的通解是x=t^3+t^2$$$$y=\\frac{3}{2}t^2+2 t+c$$"
   ]
  },
  {
   "cell_type": "markdown",
   "metadata": {},
   "source": [
    "## (2)$y\\prime ^3-x^3(1-y\\prime)=0$"
   ]
  },
  {
   "cell_type": "markdown",
   "metadata": {},
   "source": [
    "解\n",
    "$$(\\frac{\\mathrm dy}{\\mathrm dx})^3-x^3(1-\\frac{\\mathrm dy}{\\mathrm dx}=0)$$\n",
    "\n",
    "$$ 令\\frac{\\mathrm dy}{\\mathrm dx}=p=tx $$\n",
    "\n",
    "$$ 则有：t^3 x^3-x^3+t x^4=0$$$$x=\\frac{1}{t}-t^2 $$\n",
    "\n",
    "$$\\mathrm dy=p \\mathrm dx=t x(-\\frac{1}{t^2}-2 t)\\mathrm dt $$\n",
    "\n",
    "$$ 求积分，得到：y=\\frac{2}{5} t^5-\\frac{1}{2} t^2+\\frac{1}{t}+c $$\n",
    "\n",
    "$$方程的通解为：y=\\frac{2}{5} t^5-\\frac{1}{2} t^2+\\frac{1}{t}+c$$\n",
    "\n",
    "$$x=\\frac{1}{t}-t^2$$"
   ]
  },
  {
   "cell_type": "markdown",
   "metadata": {},
   "source": [
    "## (3)\n",
    "解\n",
    "$$y=(\\frac{\\mathrm dy}{\\mathrm dx})^2 e^{\\frac{\\mathrm dy}{\\mathrm dx}}$$\n",
    "\n",
    "$$令\\frac{\\mathrm dy}{\\mathrm dx}=p$$\n",
    "\n",
    "$$ 所以y=p^2 e^p$$\n",
    "\n",
    "$$\\mathrm dx=\\frac{\\mathrm dy}{p}=(2 e^p+p e^p)\\mathrm dp$$\n",
    "\n",
    "$$积分得到：x=e^p(1+p)+c$$\n",
    "\n",
    "$$ 则方程的通解为：x=e^p(1+p)+c$$$$y=p^2 e^p$$\n",
    "\n",
    "$$ 另外，y=0也是方程的解。$$"
   ]
  },
  {
   "cell_type": "markdown",
   "metadata": {},
   "source": [
    "## (4)\n",
    "解\n",
    "$$y(1+y'^2)=2a(a是常数)$$\n",
    "\n",
    "$$ 令y'=\\frac{\\mathrm dy}{\\mathrm dx}=p=tant$$\n",
    "\n",
    "$$ 则y(1+tant^2)=2 a$$$$y=2 a cost^2$$\n",
    "\n",
    "$$\\mathrm dx=\\frac{\\mathrm dy}{p}=-4 a cost^2\\mathrm dt$$\n",
    "\n",
    "$$积分得到：x=-a(2 t+sin{2 t})+c$$\n",
    "\n",
    "$$则方程的通解为： x=-a(2 t+sin{2 t})+c$$\n",
    "\n",
    "$$y=2 a cost^2$$"
   ]
  },
  {
   "cell_type": "markdown",
   "metadata": {},
   "source": [
    "## (5)\n",
    "解\n",
    "$$x^2+y^2=1$$\n",
    "\n",
    "$$令：y'=cost=\\frac{\\mathrm dy}{\\mathrm dx}=p$$\n",
    "\n",
    "$$则：x^2+cost^2=1$$\n",
    "\n",
    "$$x=sint$$\n",
    "\n",
    "$$\\mathrm dy=p \\mathrm dx=cost^2 \\mathrm dt$$\n",
    "\n",
    "$$积分得到：y=\\frac{1}{2}t+\\frac{1}{4}sin2 t+c$$\n",
    "\n",
    "$$则方程的通解为：y=\\frac{1}{2}t+\\frac{1}{4}sin2 t+c$$\n",
    "\n",
    "$$x=sint$$"
   ]
  },
  {
   "cell_type": "markdown",
   "metadata": {},
   "source": [
    "## (6)\n",
    "解\n",
    "$$y^2(y'-1)=(2-y')^2$$\n",
    "\n",
    "$$令：2-y'=y t$$\n",
    "\n",
    "$$1-y'=y t-1$$\n",
    "\n",
    "$$带入原方程，得到：y=\\frac{1}{t}+t$$\n",
    "\n",
    "$$\\mathrm dx=\\frac{\\mathrm dy}{y'}=\\frac{t^2-1}{t^2 (1-t^2)}\\mathrm dt$$\n",
    "\n",
    "$$积分得到：x=\\frac{1}{t}+c$$\n",
    "\n",
    "$$因此方程的通解为：x=\\frac{1}{t}+c$$\n",
    "\n",
    "$$y=\\frac{1}{t}+t$$\n",
    "\n",
    "$$消去参数t得到解的另一种表示形式：y=\\frac{1}{x-c}+x-c$$"
   ]
  },
  {
   "cell_type": "markdown",
   "metadata": {
    "collapsed": true
   },
   "source": [
    "# <font color='red'>A 26/9"
   ]
  },
  {
   "cell_type": "code",
   "execution_count": null,
   "metadata": {
    "collapsed": true
   },
   "outputs": [],
   "source": []
  }
 ],
 "metadata": {
  "kernelspec": {
   "display_name": "SageMath 7.3",
   "language": "",
   "name": "sagemath"
  },
  "language_info": {
   "codemirror_mode": {
    "name": "ipython",
    "version": 2
   },
   "file_extension": ".py",
   "mimetype": "text/x-python",
   "name": "python",
   "nbconvert_exporter": "python",
   "pygments_lexer": "ipython2",
   "version": "2.7.10"
  }
 },
 "nbformat": 4,
 "nbformat_minor": 0
}
