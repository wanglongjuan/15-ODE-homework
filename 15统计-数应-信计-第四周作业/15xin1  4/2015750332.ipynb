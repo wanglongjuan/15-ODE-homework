{
 "cells": [
  {
   "cell_type": "markdown",
   "metadata": {
    "collapsed": true
   },
   "source": [
    "$$第三次作业$$"
   ]
  },
  {
   "cell_type": "markdown",
   "metadata": {},
   "source": [
    "p61\n",
    "\n",
    " 2.求下列方程的解：\n",
    "\n",
    "$（8）(x+2y){\\mathrm dx}+ x{\\mathrm dy}=0;$"
   ]
  },
  {
   "cell_type": "markdown",
   "metadata": {},
   "source": [
    "解：$$M=x+2y;$$ $$N=x$$\n",
    "\n",
    "$$\\frac{\\partial M}{\\partial y}=2\\neq\\frac{\\partial N}{\\partial x}=1$$\n",
    "\n"
   ]
  },
  {
   "cell_type": "markdown",
   "metadata": {},
   "source": [
    "$$\\frac{\\frac{\\partial M}{\\partial y}-\\frac{\\partial N}{\\partial x}}{N}=\\frac{1}{x}$$\n",
    "只与x有关"
   ]
  },
  {
   "cell_type": "markdown",
   "metadata": {
    "collapsed": true
   },
   "source": [
    "所以积分因子为$$\\mu=e^{\\int\\frac{1}{x}\\mathrm d x}=x$$"
   ]
  },
  {
   "cell_type": "markdown",
   "metadata": {},
   "source": [
    "方程两边同时乘以x得\n",
    "\n",
    "$$(x^2+2xy){\\mathrm dx}+ x^2{\\mathrm dy}=0;$$"
   ]
  },
  {
   "cell_type": "markdown",
   "metadata": {},
   "source": [
    "此时$$M=x^2+2xy;$$ $$N=x^2$$"
   ]
  },
  {
   "cell_type": "markdown",
   "metadata": {},
   "source": [
    "$$\\frac{\\partial M}{\\partial y}=\\frac{\\partial N}{\\partial x}=2x$$"
   ]
  },
  {
   "cell_type": "markdown",
   "metadata": {},
   "source": [
    "$$\\frac{\\partial u}{\\partial x}=x^2+2xy;$$"
   ]
  },
  {
   "cell_type": "markdown",
   "metadata": {},
   "source": [
    "$$u=\\frac{1}{3}x^3+x^2y+f(y)$$"
   ]
  },
  {
   "cell_type": "markdown",
   "metadata": {},
   "source": [
    "$$\\frac{\\partial u}{\\partial y}=x^2+\\frac{\\mathrm df(y)}{\\mathrm dy}$$"
   ]
  },
  {
   "cell_type": "markdown",
   "metadata": {},
   "source": [
    "所以$$\\frac{\\mathrm df(y)}{\\mathrm dy}=0$$"
   ]
  },
  {
   "cell_type": "markdown",
   "metadata": {},
   "source": [
    "所以方程的解为$$\\frac{1}{3}x^3+x^2y=c$$"
   ]
  },
  {
   "cell_type": "markdown",
   "metadata": {},
   "source": [
    "(9)$[x\\cos(x+y)+\\sin(x+y)]\\mathrm d x+x\\cos(x+y)\\mathrm d y=0$\n"
   ]
  },
  {
   "cell_type": "markdown",
   "metadata": {},
   "source": [
    "解：$$\\frac{\\partial M}{\\partial y}=-x\\sin(x+y)+\\cos(x+y)=\\frac{\\partial N}{\\partial x}$$"
   ]
  },
  {
   "cell_type": "markdown",
   "metadata": {},
   "source": [
    "所以方程为恰当微分方程"
   ]
  },
  {
   "cell_type": "markdown",
   "metadata": {},
   "source": [
    "因为$$\\mathrm d (x\\sin(x+y))=0$$\n",
    "所以方程的解为$$x\\sin(x+y)=c$$"
   ]
  },
  {
   "cell_type": "markdown",
   "metadata": {},
   "source": [
    "(10)$(y\\cos x-x\\sin x)\\mathrm d x+(y\\sin x+x\\cos x)\\mathrm d y=0$\n"
   ]
  },
  {
   "cell_type": "markdown",
   "metadata": {},
   "source": [
    "解：$$M=y\\cos x-x\\sin x,N=y\\sin x+x\\cos x$$"
   ]
  },
  {
   "cell_type": "markdown",
   "metadata": {},
   "source": [
    "$$\\frac{\\partial M}{\\partial y}=\\cos x \\neq \\frac{\\partial N}{\\partial x}=y\\cos x+\\cos x-x\\sin x$$\n",
    "所以方程不是恰当微分方程\n"
   ]
  },
  {
   "cell_type": "markdown",
   "metadata": {},
   "source": [
    "因为$$\\frac{\\frac{\\partial N}{\\partial x}-\\frac{\\partial M}{\\partial y}}{M}=1$$"
   ]
  },
  {
   "cell_type": "markdown",
   "metadata": {},
   "source": [
    "所以积分因子为$$\\mu=e^{\\int 1\\mathrm d y}=e^y$$"
   ]
  },
  {
   "cell_type": "markdown",
   "metadata": {},
   "source": [
    "方程两边乘$e^y$得$$(ye^y\\cos x\\mathrm d x+ye^y\\sin x\\mathrm d y)+(e^yx\\cos x\\mathrm d y-e^yx\\sin x\\mathrm d x)=0$$\n",
    "因为$$\\mathrm d [(y-1)e^y\\sin x+e^yx\\cos x]=0$$"
   ]
  },
  {
   "cell_type": "markdown",
   "metadata": {},
   "source": [
    "所以方程的解为$$(y-1)e^y\\sin x+e^yx\\cos x=c$$"
   ]
  },
  {
   "cell_type": "markdown",
   "metadata": {},
   "source": [
    "(11)$x(4y\\mathrm d x+2x\\mathrm d y)+y^3(3y\\mathrm d x+5x\\mathrm d y)=0$"
   ]
  },
  {
   "cell_type": "markdown",
   "metadata": {},
   "source": [
    "解：$$M=4xy+3y^4,N=2x^2+5xy^3$$"
   ]
  },
  {
   "cell_type": "markdown",
   "metadata": {},
   "source": [
    "$$\\frac{\\partial M}{\\partial y}=4x+12y^3 \\neq \\frac{\\partial N}{\\partial x}=4x+5y^3$$"
   ]
  },
  {
   "cell_type": "markdown",
   "metadata": {},
   "source": [
    "所以方程不是恰当微分方程"
   ]
  },
  {
   "cell_type": "markdown",
   "metadata": {},
   "source": [
    "设积分因子为$\\mu=x^my^n$,"
   ]
  },
  {
   "cell_type": "markdown",
   "metadata": {},
   "source": [
    "方程两边乘以积分因子得$$(4x^{m+1}y^{n+1}+3x^my^{n+4})\\mathrm d x+(2x^{m+2}y^n+5x^{m+1}y^{n+3}\\mathrm d y=0$$\n"
   ]
  },
  {
   "cell_type": "markdown",
   "metadata": {},
   "source": [
    "$$4(n+1)x^{m+1}y^n+3(n+4)x^my^{n+3}=2(m+2)x^{m+1}y^n+5(m+1)x^my^{n+3}$$"
   ]
  },
  {
   "cell_type": "markdown",
   "metadata": {},
   "source": [
    "所以$$4（n+1）=2(m+2)$$ $$3(n+4)=5(m+1)$$"
   ]
  },
  {
   "cell_type": "markdown",
   "metadata": {},
   "source": [
    "解得$$m=2,n=1$$"
   ]
  },
  {
   "cell_type": "markdown",
   "metadata": {},
   "source": [
    "所以积分因子为$$x^2y$$"
   ]
  },
  {
   "cell_type": "markdown",
   "metadata": {},
   "source": [
    "两边乘以积分因子得$$4x^3y^2\\mathrm d x+3x^2y^5\\mathrm d x+2x^4y\\mathrm d y+5x^3y^4\\mathrm d y=\\mathrm d (x^4y^2)+\\mathrm d (x^3y^5)=0$$"
   ]
  },
  {
   "cell_type": "markdown",
   "metadata": {},
   "source": [
    "所以方程的解为$$x^4y^2+x^3y^5=c$$"
   ]
  },
  {
   "cell_type": "markdown",
   "metadata": {},
   "source": [
    "4.设f(x,y)及$\\frac{\\partial f}{\\partial y}$连续,试证方程${\\mathrm dy}-f(x,y){\\mathrm dx}=0$为线性微分方程的充要条件是有仅依赖与x的积分因子。"
   ]
  },
  {
   "cell_type": "markdown",
   "metadata": {},
   "source": [
    "证明：\n",
    "充分性：\n",
    "设$\\mathrm d y-f(x,y)\\mathrm d x=0$有仅依赖于$x$的积极因子，\n",
    "由题设得$$\\frac{\\frac{\\partial M}{\\partial y}-\\frac{\\partial N}{\\partial x}}{N}=\\frac{\\frac{-\\partial f}{\\partial y}-0}{1}=\\phi(x)$$\n",
    "即$$\\frac{\\partial f}{\\partial y}=-\\phi(x)$$"
   ]
  },
  {
   "cell_type": "markdown",
   "metadata": {},
   "source": [
    "两边积分得$$f(x,y)=-\\phi(x)y+h(x)$$\n",
    "原方程即为$$\\frac{\\mathrm d y}{\\mathrm d x}=-\\phi(x)y+h(x)$$\n",
    "这说明$$\\mathrm d y-f(x,y)\\mathrm d x=0$$是线性微分方程\n"
   ]
  },
  {
   "cell_type": "markdown",
   "metadata": {},
   "source": [
    "必要性：设$\\mathrm d y-f(x,y)\\mathrm d x=0$是线性微分方程\n",
    "即存在$g(x),h(x)$使得$$f(x,y)=yg(x)+h(x)$$\n",
    "即$$M=-f(x,y)=-yg(x)-h(x),N=1$$\n",
    "可得$$\\frac{\\frac{\\partial M}{\\partial y}-\\frac{\\partial N}{\\partial x}}{N}=\\frac{-g(x)}{1}=-g(x)$$\n",
    "所以有积分因子$\\mu=e^{\\int -g(x) \\mathrm d x}$只与x有关\n",
    "                                                                          \n",
    "                                                                          证毕"
   ]
  },
  {
   "cell_type": "markdown",
   "metadata": {},
   "source": [
    "8.求出伯努利微分方程的积分因子\n",
    "\n",
    "解：$$\\frac{\\mathrm d y}{\\mathrm d x}=P(x)y+Q(x)y^n$$"
   ]
  },
  {
   "cell_type": "markdown",
   "metadata": {},
   "source": [
    "即$$\\mathrm d y-P(x)y\\mathrm d x-Q(x)y^n\\mathrm d x=0$$\n",
    "两边乘$y^{-n}$得$$y^{-n}\\mathrm d y-P(x)y^{1-n}\\mathrm d x-Q(x)\\mathrm d x=0$$\n",
    "即$$\\mathrm d (y^{1-n})-(1-n)P(x)y^{1-n}\\mathrm d x-(1-n)Q(x)\\mathrm d x=0$$\n",
    "两边乘$e^{-(1-n)\\int P(x)\\mathrm d x}$得$$e^{-(1-n)\\int P(x)\\mathrm d x}[\\mathrm d (y^{1-n})-(1-n)P(x)y^{1-n}\\mathrm d x]-e^{-(1-n)\\int P(x)\\mathrm d x}(1-n)Q(x)\\mathrm d x=0$$\n",
    "即$$\\mathrm d (y^{1-n}e^{-(1-n)\\int P(x)\\mathrm d x})-\\mathrm d [\\int(1-n)Q(x)e^{-(1-n)\\int P(x)\\mathrm d x}\\mathrm d x=0]$$\n",
    "所以积分因子为$$y^{-n}e^{-(1-n)\\int P(x)\\mathrm d x}$$"
   ]
  },
  {
   "cell_type": "markdown",
   "metadata": {},
   "source": [
    "p69\n",
    "1.求解下列方程：\n",
    "\n",
    "(1）$x{y\\prime}^3=1+{y\\prime};$\n"
   ]
  },
  {
   "cell_type": "markdown",
   "metadata": {},
   "source": [
    "解:令$$y^\\prime=\\frac{1}{t}$$,则$$x=t^3+t^2$$,"
   ]
  },
  {
   "cell_type": "markdown",
   "metadata": {},
   "source": [
    "所以方程的解为$$\\begin{cases}x=t^3+t^2\\\\y=\\frac{3}{2}t^2+2t+c\\end{cases}$$"
   ]
  },
  {
   "cell_type": "markdown",
   "metadata": {},
   "source": [
    "(2)${y\\prime}^3-x^3(1-y^\\prime)=0$"
   ]
  },
  {
   "cell_type": "markdown",
   "metadata": {},
   "source": [
    "解：令$$y^\\prime=tx,$$\n",
    "则$$x=\\frac{1}{t}-t^2,$$"
   ]
  },
  {
   "cell_type": "markdown",
   "metadata": {},
   "source": [
    "$$y=\\frac{1}{t}-\\frac{1}{2}t^2+\\frac{2}{5}t^5+c$$\n",
    "所以方程的解为$$\\begin{cases}\n",
    "x=\\frac{1}{t}-t^2\\\\\n",
    "y=-\\frac{1}{2}t^2+\\frac{2}{5}t^5+\\frac{1}{t}+c\n",
    "\\end{cases}$$  "
   ]
  },
  {
   "cell_type": "markdown",
   "metadata": {},
   "source": [
    "（3）$y={y\\prime}^2e^y\\prime$"
   ]
  },
  {
   "cell_type": "markdown",
   "metadata": {},
   "source": [
    "解：令$$y\\prime=p,$$\n",
    "则$$y=p^2e^p,$$\n",
    "$$x=(p+1)e^p+c,$$\n",
    "所以方程的解为$$\\begin{cases}\n",
    "x=(p+1)e^p+c\\\\\n",
    "y=p^2e^p\n",
    "\\end{cases}$$"
   ]
  },
  {
   "cell_type": "markdown",
   "metadata": {},
   "source": [
    "（4）$y(1+y\\prime^2)=2a$(a为常数）\n",
    "\n",
    "令$$y\\prime=\\tan t$$\n",
    "则$$y=a(1+\\cos 2t)$$\n",
    "$$x=-a(2t+\\sin t)+c$$\n",
    "所以方程的解为$$\\begin{cases}\n",
    "x=-a(2t+\\sin 2t)+c\\\\\n",
    "y=2a\\cos^2 t\n",
    "\\end{cases}$$"
   ]
  },
  {
   "cell_type": "markdown",
   "metadata": {},
   "source": [
    "（5）$x^2+y\\prime^2=1$\n",
    "\n",
    "令$$y\\prime=\\cos t$$\n",
    "则$$x=\\sin t$$\n",
    "$$y=\\frac{t}{2}+\\frac{1}{4}\\sin t+c$$\n",
    "所以方程的解为\n",
    "$$\\begin{cases}x=\\sin t\\\\\n",
    "y=\\frac{t}{2}+\\frac{1}{4}\\sin 2t+c\\end{cases}$$"
   ]
  },
  {
   "cell_type": "markdown",
   "metadata": {},
   "source": [
    "(6)$y^2(y\\prime-1)=(2-y\\prime)^2$"
   ]
  },
  {
   "cell_type": "markdown",
   "metadata": {},
   "source": [
    "令$2-y'=ty$得$$y^2(1-ty)=y^{2}t^2$$\n",
    "可求出$$y=\\frac{1}{t}-t,y'=1+t^2$$\n",
    "另$$\\mathrm d x=\\frac{\\mathrm d y}{y'}=\\frac{(-\\frac{1}{t^2}-1)}{1+t^2}\\mathrm d t=-\\frac{1}{t^2}\\mathrm d t$$\n",
    "两边积分得$$x=\\frac{1}{t}+c$$\n",
    "所以方程的解为$$\\begin{cases}\n",
    "x=\\frac{1}{t}+c\\\\\n",
    "y=\\frac{1}{t}-t\n",
    "\\end{cases}$$"
   ]
  },
  {
   "cell_type": "markdown",
   "metadata": {
    "collapsed": true
   },
   "source": [
    "# <font color='red'>A 26/9"
   ]
  },
  {
   "cell_type": "code",
   "execution_count": null,
   "metadata": {
    "collapsed": true
   },
   "outputs": [],
   "source": []
  }
 ],
 "metadata": {
  "kernelspec": {
   "display_name": "SageMath 7.3",
   "language": "",
   "name": "sagemath"
  },
  "language_info": {
   "codemirror_mode": {
    "name": "ipython",
    "version": 2
   },
   "file_extension": ".py",
   "mimetype": "text/x-python",
   "name": "python",
   "nbconvert_exporter": "python",
   "pygments_lexer": "ipython2",
   "version": "2.7.10"
  }
 },
 "nbformat": 4,
 "nbformat_minor": 0
}
