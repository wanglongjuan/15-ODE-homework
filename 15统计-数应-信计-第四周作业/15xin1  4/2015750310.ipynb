{
 "cells": [
  {
   "cell_type": "markdown",
   "metadata": {},
   "source": [
    "P61 (8)"
   ]
  },
  {
   "cell_type": "markdown",
   "metadata": {},
   "source": [
    "解：由于M=x+2y,N=x"
   ]
  },
  {
   "cell_type": "markdown",
   "metadata": {},
   "source": [
    "$$\\frac{\\partial M}{\\partial y}=2,\\frac{\\partial N}{\\partial x}=1$$"
   ]
  },
  {
   "cell_type": "markdown",
   "metadata": {},
   "source": [
    "所以方程不是恰当的。"
   ]
  },
  {
   "cell_type": "markdown",
   "metadata": {},
   "source": [
    "$$因为\\frac{(\\frac{\\partial M}{\\partial y}-\\frac{\\partial N}{\\partial x})}｛N｝=\\frac{1}{x}$$\n",
    "$$所以方程有积分因子μ=e^\\int\\mathrm {\\frac {1}{x}}\\,\\mathrm(d)x$$\n"
   ]
  },
  {
   "cell_type": "markdown",
   "metadata": {},
   "source": [
    "$$以μ=x乘以方程两边得到2xydx+x^2dy+x^2dx=0$$\n",
    "$$即d(x^2y+\\frac{x^3}{3})=0$$\n",
    "$$于是方程的通解为x^3+3x^2y=c,c为任意常数$$"
   ]
  },
  {
   "cell_type": "markdown",
   "metadata": {},
   "source": [
    "9  解；由于M=xcos(x+y)+sin(x+y),N=xcos(x+y)\n",
    "$$\\frac{\\partial M}{\\partial y}=-xsin(x+y)+cos(x+y),\\frac{\\partial N}{\\partial x}=-xsin(x+y)+cos(x+y)$$\n",
    "所以方程是恰当的，且方程可以写为d(xsin(x+y))=0\n",
    "于是方程的通解为xsin(x+y)=c,c为任意常数\n"
   ]
  },
  {
   "cell_type": "markdown",
   "metadata": {},
   "source": [
    "10 解：由于M=ycosx-xsinx,N=ysinx+xcosx\n",
    "$$\\frac{\\partial M}{\\partial y}=cosx,\\frac{\\partial N}{\\partial x}=ycosx+cosx-xsinx$$\n",
    "从而方程不是恰当的\n",
    "$$因为\\frac{(\\frac{\\partial M}{\\partial y}-\\frac{\\partial N}{\\partial x})}{-M}=1$$,\n",
    "$$所以方程有积分因子μ=e^\\int\\mathrm {\\frac {1}{1}}\\,\\mathrm(d)y$$\n",
    "$$以μ=e^y乘以方程两边得方程的通解为（ye^ycosxdx+ye^ysinxdy）+(e^yxcosx)=c,c为任意常数$$"
   ]
  },
  {
   "cell_type": "markdown",
   "metadata": {},
   "source": [
    "11 解：$$由于\\frac{\\partial M}{\\partial y}=4x+12y^3,\\frac{\\partial N}{\\partial x}=4x+5y^3$$\n",
    "$$所以此方程不是恰当的，因为M，N为多项式，设积分因子的形式为μ=x^my^n$$\n",
    "$$于是方程乘以积分因子得4x^{m+1}y^{n+1}+3x^my^(n+4)dx+()2x^{m+2}y^n+5(m+1)x^my^{n+3})dy=0$$\n",
    "$$得m=2,n=1.及积分因子为μ=x^2y,方程乘以积分因子得通解x^4y^2+x^3y^5=c,c为任意常数且x=0,y=0也是解$$\n",
    "     "
   ]
  },
  {
   "cell_type": "markdown",
   "metadata": {},
   "source": [
    "4大题 解：充分性  设dy-f(x,y)dx=0有仅依赖于x的积分因子，下证该方程是线性的\n"
   ]
  },
  {
   "cell_type": "markdown",
   "metadata": {},
   "source": [
    "# <font color='red'>未作完"
   ]
  },
  {
   "cell_type": "markdown",
   "metadata": {},
   "source": [
    "8 大题 解：$$伯努力方程为prac{dy}{dx}=P(x)y+Q(x)y^n(n\\neq0,1)改写为dy-P(x)ydx-Q(x)y^ndx$$\n",
    "$$乘以y^{-n}得y^{-n}dy-P(x)y{1-n}dx-Q(x)dx=0$$\n",
    "$$即d(y^{1-n})-(1-n)p(x)y^{1-n}dx-(1-n)Q(x)dx=0$$\n",
    "$$再乘以e^-(1-n)\\int\\mathrm{\\frac {P(x)}{1}}\\,\\mathrm(d)x$$\n",
    "$$得积分因子是y^{-n}e^{-(1-n)∫P(x)dx}$$"
   ]
  },
  {
   "cell_type": "markdown",
   "metadata": {},
   "source": [
    "P69 1 解：$$不显含y。记y'=\\frac{1}{t}$$\n",
    "$$则方程化为xt^{-3}=1+t^{-1},x=t^3+t^2$$\n",
    "$$dy=\\frac{dx}{t}=t^{-1}d(t^3+t^2)=(3t+2)dt$$\n",
    "$$所以y=\\frac{3t^2}{2}+2t+c$$\n",
    "$$因此方程的通解为x=t^3+t^2,y=\\frac{3t^2}{2}+2t+c,t为参数，c为任意常数$$"
   ]
  },
  {
   "cell_type": "markdown",
   "metadata": {},
   "source": [
    "2 解：$$记y'=tx$$\n",
    "$$则方程化为(t^3-(1-tx))x^3=0$$\n",
    "$$得x=\\frac{1}{t}-t^2$$\n",
    "$$两边对y求导得\\frac=(\\frac{-1}{t^2}-2t)*\\frac{dt}{dy}$$\n",
    "   $$dy=[(1-t^3)(\\frac{-1}{t^2}-2t)]dt$$\n",
    "   $$积分得y=\\frac{-t^2}{2}+\\frac{2t^5}{5}+\\frac{1}{t}+c$$\n",
    "   $$所以方程的通解为x=\\frac{1}{t}-t^2,y=\\frac{-t^2}{2}+\\frac{2t^5}{5}+\\frac{1}{t}+c$$,其中t为参数，c为任意常数"
   ]
  },
  {
   "cell_type": "markdown",
   "metadata": {},
   "source": [
    "3 解： $$令y'=p,则原方程化为y=p^2e^p$$\n",
    "$$对x求导得p=(2p+p^2)e^p\\frac{dp}{dx}\n",
    "$$积分得x=(p+1)e^p+c$$\n",
    "$$所以方程的通解为x=(p+1)e^p+c,y=p^2e^p,p为参数，c为任意常数$$"
   ]
  },
  {
   "cell_type": "markdown",
   "metadata": {},
   "source": [
    "4 解：$$令y'=p则原方程化为y=p^2e^p$$，\n",
    "$$对x求导数得p=(2p+p^2)e^p\\frac{dp}{dx}$$\n",
    "$$积分得x=(p+1)e^p+c$$\n",
    "$$所以方程的通解为x=(p+1)e^p+c,y=p^2e^p,其中p为参数c为任意常数$$"
   ]
  },
  {
   "cell_type": "markdown",
   "metadata": {},
   "source": [
    "5 解;$$令y'=cost,则方程化为x=sint$$\n",
    "$$对y求导得y=\\frac{t}{2}+\\frac{sin(2t)}{4}+c$$\n",
    "$$所以方程的通解为x=sint,y=\\frac{t}{2}+\\frac{sin(2t)}{4}+c，其中t为参数c为任意常数$$"
   ]
  },
  {
   "cell_type": "markdown",
   "metadata": {},
   "source": [
    "6 解：$$令2-y'=ty,则原方程化为y^2(1-yt)=y^2t^2$$\n",
    "$$由此得y=\\frac{1}{t}-t,且y'=1+t^2$$\n",
    "$$因此dx=\\frac{-dt}{t^2}$$\n",
    "$$积分得x=\\frac{1}{t}+c$$\n",
    "$$方程的通解为y=x-\\frac{1}{x-c}-c,其中c为任意常数$$"
   ]
  },
  {
   "cell_type": "markdown",
   "metadata": {
    "collapsed": true
   },
   "source": [
    "# <font color='red'>A 26/9"
   ]
  },
  {
   "cell_type": "code",
   "execution_count": null,
   "metadata": {
    "collapsed": true
   },
   "outputs": [],
   "source": []
  }
 ],
 "metadata": {
  "kernelspec": {
   "display_name": "SageMath 7.3",
   "language": "",
   "name": "sagemath"
  },
  "language_info": {
   "codemirror_mode": {
    "name": "ipython",
    "version": 2
   },
   "file_extension": ".py",
   "mimetype": "text/x-python",
   "name": "python",
   "nbconvert_exporter": "python",
   "pygments_lexer": "ipython2",
   "version": "2.7.10"
  }
 },
 "nbformat": 4,
 "nbformat_minor": 0
}
