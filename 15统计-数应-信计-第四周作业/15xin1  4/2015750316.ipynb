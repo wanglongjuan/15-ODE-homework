{
 "cells": [
  {
   "cell_type": "markdown",
   "metadata": {},
   "source": [
    "1.求下列方程的解："
   ]
  },
  {
   "cell_type": "markdown",
   "metadata": {},
   "source": [
    "（1)$（x+2y)\\mathrm d x+x\\mathrm d y=0$"
   ]
  },
  {
   "cell_type": "markdown",
   "metadata": {},
   "source": [
    "解：\n",
    "$$\\frac{\\partial (x+2y)}{\\partial y}=2$$\n",
    "$$\\frac{\\partial x}{\\partial x}=1$$"
   ]
  },
  {
   "cell_type": "markdown",
   "metadata": {},
   "source": [
    "$\\mu =\\mathrm e^{\\int \\frac{1}{x}\\mathrm d x}=x$对原式两边乘$\\mu$并积分：\n",
    "$$x^3+3x^2y=c$$"
   ]
  },
  {
   "cell_type": "markdown",
   "metadata": {},
   "source": [
    "(2)$[x\\cos (x+y)+\\sin (x+y)]\\mathrm d x+x\\cos (x+y)\\mathrm d y=0$"
   ]
  },
  {
   "cell_type": "markdown",
   "metadata": {},
   "source": [
    "解：$$\\frac{\\partial [x\\cos (x+y)+\\sin(x+y)]}{\\partial y}=-x\\sin (x+y)+\\cos (x+y)$$\n",
    "$$\\frac{\\partial[x\\cos (x+y)]}{\\partial x}=-x\\sin (x+y)+\\cos (x+y)$$"
   ]
  },
  {
   "cell_type": "markdown",
   "metadata": {},
   "source": [
    "原式两边积分得：\n",
    "$$x\\sin (x+y)+x\\sin (x+y)=0$$\n",
    "$$2x\\sin (x+y)=0$$"
   ]
  },
  {
   "cell_type": "markdown",
   "metadata": {},
   "source": [
    "(3)$(y\\cos x-x\\sin x)\\mathrm d x+(y\\sin x+x\\cos x)\\mathrm d y=0$"
   ]
  },
  {
   "cell_type": "markdown",
   "metadata": {},
   "source": [
    "解：$$\\frac{\\frac{\\partial (y\\cos x-x\\sin x)}{\\partial y}-\\frac{\\partial (y\\sin x+x\\cos x)}{\\partial x}}{-\\frac{\\partial (y\\cos x-x\\sin x)}{\\partial y}}=1$$"
   ]
  },
  {
   "cell_type": "markdown",
   "metadata": {},
   "source": [
    "$$\\mu =e^y$$"
   ]
  },
  {
   "cell_type": "markdown",
   "metadata": {},
   "source": [
    "对原式两边乘$\\mu$并积分：\n",
    "$$e^y\\sin x(y-1)+e^y\\cos x=c$$"
   ]
  },
  {
   "cell_type": "markdown",
   "metadata": {},
   "source": [
    "(4)$x(4y\\mathrm d x+2x\\mathrm d y)+y^3(3y\\mathrm d x+5x\\mathrm d y)=0$"
   ]
  },
  {
   "cell_type": "markdown",
   "metadata": {},
   "source": [
    "解：两边乘$x^2y$得：\n",
    "$\\mathrm d (x^4y^2)+\\mathrm d (x^3y^5)=0$"
   ]
  },
  {
   "cell_type": "markdown",
   "metadata": {},
   "source": [
    "解得：\n",
    "$$x^4y^2+x^3y^5=c$$"
   ]
  },
  {
   "cell_type": "markdown",
   "metadata": {},
   "source": [
    "2.设f(x,y)及$\\frac{\\partial f}{\\partial y}$连续，试证方程$\\mathrm d y-f(x,y)\\mathrm d x=0$为线性微分方程的充要条件是它仅依赖于x的积分因子。"
   ]
  },
  {
   "cell_type": "markdown",
   "metadata": {},
   "source": [
    "证明：必要性：\n",
    "        若为线性方程，则$\\frac{\\mathrm d y}{\\mathrm d x}=P(x)y+Q(x)y^n$,其积分因子只与x有关"
   ]
  },
  {
   "cell_type": "markdown",
   "metadata": {},
   "source": [
    "   充分性：若方程有只与x有关的积分因子$\\mu (x)$，\n",
    "   则$$\\mu (x)\\mathrm d y-\\mu (x)f(x,y)\\mathrm d x=0$$为恰当方程，$$\\frac{\\partial (-\\mu(x)f(x,y))}{\\partial y}=\\frac{\\mathrm d \\mu (x)}{\\mathrm d x}$$,$$\\frac{\\partial f}{\\partial y}=-\\frac{\\mu '(x)}{\\mu (x)}$$,\n",
    " $$f=-\\int \\frac{\\mu '(x)}{\\mu (x)}\\mathrm d y+Q(x)=-\\frac{\\mu '(x)}{\\mu (x)+Q(x)}=P(x)y+Q(x)$$\n",
    "   其中$$P(x)=-\\frac{\\mu '(x)}{\\mu(x)}$$.于是方程可化为：$$\\mathrm d y-(P(x)y+Q(x))\\mathrm d x=0$$即为一阶线性方程。"
   ]
  },
  {
   "cell_type": "markdown",
   "metadata": {},
   "source": [
    "3.求出伯努利微分方程的积分因子"
   ]
  },
  {
   "cell_type": "markdown",
   "metadata": {},
   "source": [
    "解：$$\\frac{\\mathrm d y}{\\mathrm d x}=P(x)y+Q(x)y^n$$\n",
    "$$y^{-n}\\mathrm d y-(y^{1-n}P(x)+Q(x))\\mathrm d x=0$$"
   ]
  },
  {
   "cell_type": "markdown",
   "metadata": {},
   "source": [
    "$\\frac{\\partial y^{-n}}{\\partial x}=0$\n",
    "$\\frac{\\partial [-(y^{1-n}P(x)+Q(x))]}{\\partial y}=(n-1)y^{-n}P(x)$"
   ]
  },
  {
   "cell_type": "markdown",
   "metadata": {},
   "source": [
    "$$\\frac{(n-1)y^{-n}P(x)}{y^{-n}}=(n-1)P(x)$$\n",
    "$$\\mu =\\mathrm e^{\\int (n-1)y^{-n}Q(x)\\mathrm d x}$$"
   ]
  },
  {
   "cell_type": "markdown",
   "metadata": {},
   "source": [
    "4.求解下列方程："
   ]
  },
  {
   "cell_type": "markdown",
   "metadata": {},
   "source": [
    "（1）$xy'^3=1+y'$"
   ]
  },
  {
   "cell_type": "markdown",
   "metadata": {},
   "source": [
    "解：令$y'=p=\\frac{1}{t}$，方程得：\n",
    "$$x=t^3+t^2$$\n",
    "$$y=\\int p\\mathrm d x=\\frac{3}{2}t^2+2t+c$$\n",
    "方程通解为：\n",
    "$$\\begin{cases} x=t^3+t^2 \\\\\n",
    "y=\\frac{3}{2}t^2+2t+c \\\\\n",
    "\\end{cases}$$\n"
   ]
  },
  {
   "cell_type": "markdown",
   "metadata": {},
   "source": [
    "(2)$y'^3-x^3(1-y')=0$"
   ]
  },
  {
   "cell_type": "markdown",
   "metadata": {},
   "source": [
    "解：\n",
    "令$y'=p=xt$得：\n",
    "$$x=\\frac{1-t^3}{t}$$\n",
    "$$y=\\int p\\mathrm d x=2t^4-t-\\frac{1}{t^2}+c$$\n",
    "$$\\begin{cases} x=\\frac{1-t^3}{t}\\\\\n",
    "y=2t^4-t-\\frac{1}{t^2}+c\\\\\n",
    "\\end{cases}$$"
   ]
  },
  {
   "cell_type": "markdown",
   "metadata": {},
   "source": [
    "(3)$y=y'^2\\mathrm e^{y'}$"
   ]
  },
  {
   "cell_type": "markdown",
   "metadata": {},
   "source": [
    "解：\n",
    "令$y'=p=t$,得：\n",
    "$$y=t^2\\mathrm e^t$$\n",
    "$$x=\\int \\frac{y'}{p}\\mathrm d t=(1+t)\\mathrm e^t$$\n",
    "$$\\begin{cases}y=t^2\\mathrm e^t\\\\\n",
    "y=(1+t)\\mathrm e^t\\\\\n",
    "\\end{cases}$$"
   ]
  },
  {
   "cell_type": "markdown",
   "metadata": {},
   "source": [
    "(4)$y(1+y'^2)=2a$(a为常数)"
   ]
  },
  {
   "cell_type": "markdown",
   "metadata": {},
   "source": [
    "解：令$y'=p$得：\n",
    "$$y=\\frac{2a}{1+p^2}$$\n",
    "$$x=\\int \\frac{1}{p}\\mathrm d y=\\int -\\frac{4a}{(1+p^2)^2}\\mathrm d p$$\n",
    "令$p=\\tan \\theta$则整理可得通解：\n",
    "$$\\begin{cases}x=-a(2\\theta+\\cos 2\\theta)+c\\\\\n",
    "y=2a\\cos ^2\\theta\\\\\n",
    "\\end{cases}$$"
   ]
  },
  {
   "cell_type": "markdown",
   "metadata": {},
   "source": [
    "（5）$x^2+y'^2=1$"
   ]
  },
  {
   "cell_type": "markdown",
   "metadata": {},
   "source": [
    "解：令$y'=\\cos t$得：\n",
    "$$x=\\sin t$$\n",
    "$$y=\\int \\cos t\\mathrm d x=\\frac{1}{2}t+\\frac{1}{4}\\sin 2t+c$$\n",
    "$$\\begin{cases}x=\\sin t\\\\\n",
    "y=\\frac{1}{2}t+\\frac{1}{4}\\sin 2t+c\\\\\n",
    "\\end{cases}$$"
   ]
  },
  {
   "cell_type": "markdown",
   "metadata": {},
   "source": [
    "(6)$y^2(y'-1)=(2-y')^2$"
   ]
  },
  {
   "cell_type": "markdown",
   "metadata": {},
   "source": [
    "解：\n",
    "令$2-y'=yt$得：\n",
    "$$y=\\frac{1-t^2}{t}$$\n",
    "$$y'=t^2+1$$\n",
    "$$x=\\int \\frac{1}{y'}\\mathrm d y=\\frac{1}{t}+c$$\n",
    "通解为：\n",
    "$$\\begin{cases}x=\\frac{1}{t}+c\\\\\n",
    "y=\\frac{1}{t}-t\\\\\n",
    "\\end{cases}$$"
   ]
  },
  {
   "cell_type": "markdown",
   "metadata": {
    "collapsed": true
   },
   "source": [
    "# <font color='red'>A 26/9"
   ]
  },
  {
   "cell_type": "code",
   "execution_count": null,
   "metadata": {
    "collapsed": true
   },
   "outputs": [],
   "source": []
  }
 ],
 "metadata": {
  "kernelspec": {
   "display_name": "SageMath 7.3",
   "language": "",
   "name": "sagemath"
  },
  "language_info": {
   "codemirror_mode": {
    "name": "ipython",
    "version": 2
   },
   "file_extension": ".py",
   "mimetype": "text/x-python",
   "name": "python",
   "nbconvert_exporter": "python",
   "pygments_lexer": "ipython2",
   "version": "2.7.10"
  }
 },
 "nbformat": 4,
 "nbformat_minor": 0
}
