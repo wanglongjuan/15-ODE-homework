{
 "cells": [
  {
   "cell_type": "markdown",
   "metadata": {
    "collapsed": false
   },
   "source": [
    "### 1.求下列方程的解：\n"
   ]
  },
  {
   "cell_type": "markdown",
   "metadata": {},
   "source": [
    "$(1). (x+2y)dx+xdy=0$\n",
    "\n",
    "$(2).[x\\cos (x+y)+\\sin (x+y)]dx+x\\cos (x+y)dy=0$\n",
    "\n",
    "$(3).(y\\cos x - x\\sin x)dx +(y\\sin x+ x\\cos x）dy =0$\n",
    "\n",
    "$(4).x(4ydx + 2xdy)+y^3(3ydx +5xdy)=0$"
   ]
  },
  {
   "cell_type": "markdown",
   "metadata": {},
   "source": [
    "$(1)解：方程同乘 x$\n",
    "\n",
    "$$(x^2+2xy)dx+x^2dy=0$$\n",
    "\n",
    "$$\\frac{1}{3}d(x^3)+d(x^2y)=0$$\n",
    "\n",
    "$$x^3+3x^2y =C$$"
   ]
  },
  {
   "cell_type": "markdown",
   "metadata": {},
   "source": [
    "$(2)解:$$$M=x\\cos (x+y)+\\sin (x+y),N=x\\cos (x+y)$$\n",
    "\n",
    "$$\\frac{\\partial M}{\\partial y}=-x\\sin(x+y)+\\cos(x+y),\\frac{\\partial N}{\\partial x}=\\cos(x+y)-x\\sin(x+y)$$\n",
    "\n",
    "$$∴它是恰当微分方程$$\n",
    "\n",
    "$$令\\frac{\\partial u}{\\partial x}=x\\cos (x+y)+\\sin (x+y)$$\n",
    "\n",
    "$$u=x\\sin(x+y)+ \\varphi (y)$$\n",
    "\n",
    "$$\\frac{\\partial u}{\\partial y}=x\\cos (x+y)+\\frac{d(\\varphi (y))}{dy}=x\\cos (x+y)$$\n",
    "\n",
    "$$\\varphi (y)=C$$\n",
    "\n",
    "$$u=x\\sin(x+y) +C$$\n",
    "\n",
    "$$x\\sin(x+y)=C$$"
   ]
  },
  {
   "cell_type": "markdown",
   "metadata": {},
   "source": [
    "$(3)解：$$$M=y\\cos x - x\\sin x,N=y\\sin x+ x\\cos x$$\n",
    "\n",
    "$$\\frac{\\partial M}{\\partial y}=\\cos x,\\frac{\\partial N}{\\partial x}=y\\cos x+\\cos x-x\\sin x$$\n",
    "\n",
    "$$∴不是恰当微分方程$$\n",
    "\n",
    "$$\\frac{\\frac{\\partial M}{\\partial y}-\\frac{\\partial N}{\\partial x}}{-M}=1$$\n",
    "\n",
    "$$\\mu=e^{\\int dy}=e^y$$\n",
    "\n",
    "$$e^y(y\\cos x - x\\sin x)dx +e^y(y\\sin x+ x\\cos x）dy=0$$\n",
    "\n",
    "$$e^y(y\\sin x-\\sin x+x\\cos x)+e^yx\\cos x+\\sin x(y-1）e^y =C$$\n",
    "\n",
    "$$e^y(y-1)\\sin x+e^yx\\cos x=C$$"
   ]
  },
  {
   "cell_type": "markdown",
   "metadata": {
    "collapsed": true
   },
   "source": [
    "$(4).解:$\n",
    "\n",
    "$$同乘x^2y$$\n",
    "\n",
    "$$(4x^3y^2dx+2x^4ydy)+(3x^2y^5dx+5x^3y^4dy)$$\n",
    "\n",
    "$$d(x^4y^2)+d(x^3y^5)=C$$\n",
    "\n",
    "$$x^4y^2+x^3y^5=0$$"
   ]
  },
  {
   "cell_type": "markdown",
   "metadata": {},
   "source": [
    "### $2.设f(x,y)及\\frac{\\partial f}{\\partial y}连续，试证方程dy - f(x,y)dx=0为线性微分方程的充要条件是它有仅依赖于x的积分因子。$\n"
   ]
  },
  {
   "cell_type": "markdown",
   "metadata": {},
   "source": [
    "$$∵dy−f(x,y)dx=0为线性微分方程$$\n",
    "\n",
    "$$∴存在g(x),h(x)满足f(x,y)=g(x)y+h(x)$$\n",
    "\n",
    "$$M=-f(x,y)=-g(x)y-h(x),N=1$$\n",
    "\n",
    "$$\\frac{\\frac{\\partial M}{\\partial y}-\\frac{\\partial N}{\\partial x}}{N}=-g(x)$$\n",
    "\n",
    "$$\\mu=e^{\\int -g(x)dx}$$\n",
    "\n",
    "$$∴必要性得证,接下来证充分性$$\n",
    "\n",
    "$$∵方程有仅依赖于x的积分因子$$\n",
    "\n",
    "$$不妨设\\mu=e^{\\int -g(x)dx}$$\n",
    "\n",
    "$$M=-f(x,y),N=1$$\n",
    "\n",
    "$$\\frac{\\frac{\\partial M}{\\partial y}-\\frac{\\partial N}{\\partial x}}{N}=-\\frac{\\partial f(x,y)}{\\partial y}=-g(x)$$\n",
    "\n",
    "$$∴f(x,y)=g(x)y+h(x)$$\n",
    "\n",
    "$$∴dy−f(x,y)dx=0为线性微分方程$$\n",
    "\n",
    "$$∴充分性得证$$"
   ]
  },
  {
   "cell_type": "markdown",
   "metadata": {},
   "source": [
    "### 3.求出伯努利微分方程的积分因子"
   ]
  },
  {
   "cell_type": "markdown",
   "metadata": {},
   "source": [
    "$$\\frac{dy}{dx}=P(x)y+Q(x)y^n$$\n",
    "\n",
    "$$dy-P(x)ydx-Q(x)y^ndx =0$$\n",
    "\n",
    "$$乘以y^{-n}$$\n",
    "\n",
    "$$y^{-n}dy-P(x)ydx-Q(x)y^ndx=0$$\n",
    "\n",
    "$$M=-P(x)y-Q(x)y^n,N=y^{-n}$$\n",
    "\n",
    "$$\\frac{\\partial M}{\\partial y}=-(1-n)P(x)y^{-n},\\frac{\\partial N}{\\partial x}=0$$\n",
    "\n",
    "$$\\frac{\\frac{\\partial M}{\\partial y}-\\frac{\\partial N}{\\partial x}}{N}=(n-1)P(x)$$\n",
    "\n",
    "$$∴\\mu =y^{-n}e^{(n-1)\\int P(x)dx}$$"
   ]
  },
  {
   "cell_type": "markdown",
   "metadata": {},
   "source": [
    "### 4.求解下列方程："
   ]
  },
  {
   "cell_type": "markdown",
   "metadata": {},
   "source": [
    "$(1).xy'^3=1+y'$\n",
    "\n",
    "$解:$\n",
    "$$\n",
    "\\begin{aligned}\n",
    "令y' &=\\frac{1}{t}\\\\\n",
    "\\frac{x}{t^3} &=1+\\frac{1}{t}\\\\\n",
    "x &=t^3+t^2\\\\\n",
    "dy &=\\frac{1}{t}(3t^2+t)dt\\\\\n",
    "y &=\\frac{3}{2}t^2+t+C\\\\\n",
    "\\end{aligned}$$\n",
    "$$∴\\begin{cases}\n",
    "x &=t^3+t^2\\\\\n",
    "y &=\\frac{3}{2}t^2+t+C\\\\\n",
    "\\end{cases}$$"
   ]
  },
  {
   "cell_type": "markdown",
   "metadata": {},
   "source": [
    "$(2).y'^3-x^3(1-y') =0$\n",
    "\n",
    "$解:$\n",
    "$$\n",
    "\\begin{aligned}\n",
    "令y' &=tx\\\\\n",
    "x &=\\frac{1-t^3}{t}\\\\\n",
    "dy &=tx\\frac{-3t^3-(1-t^3)}{t^2}dt\\\\\n",
    " &=(1-t^3)(-3t-\\frac{1}{t^2}+t)\\\\\n",
    " &=(-t-\\frac{1}{t^2}+2t^4)dt\\\\\n",
    "y &=\\frac{2}{5}t^5-\\frac{1}{2}t^2+\\frac{1}{t}+C\\\\\n",
    "\\end{aligned}$$\n",
    "\n",
    "$$∴\\begin{cases}\n",
    "x &=\\frac{1-t^3}{t}\\\\\n",
    "y &=\\frac{2}{5}t^5-\\frac{1}{2}t^2+\\frac{1}{t}+C\n",
    "\\end{cases}$$"
   ]
  },
  {
   "cell_type": "markdown",
   "metadata": {
    "collapsed": true
   },
   "source": [
    "$(3)y=y'^2e^{y'}$\n",
    "\n",
    "$解:$\n",
    "$$\n",
    "\\begin{aligned}\n",
    "令y' &=t\\\\\n",
    "y &=t^2e^t\\\\\n",
    "dy &=(2te^t + t^2e^t)dt\\\\\n",
    "dx &=(2e^t+ te^t)dt\\\\\n",
    "x &=2e^t+ te^t -e^t +C\\\\\n",
    " &=e^t(1+t)+C\\\\\n",
    "\\end{aligned}$$\n",
    "$$∴\\begin{cases}\n",
    "x &=e^t(1+t)+C\\\\\n",
    "y &=t^2e^t\n",
    "\\end{cases}$$"
   ]
  },
  {
   "cell_type": "markdown",
   "metadata": {},
   "source": [
    "$(4).y(1+y'^2)=2a$\n",
    "\n",
    "$解:$\n",
    "$$\n",
    "\\begin{aligned}\n",
    "令y' &=\\tan \\varphi \\\\\n",
    "y &=\\frac{2a}{1+ \\tan^2 \\varphi}\\\\\n",
    " &=2a\\cos^2 \\varphi\\\\\n",
    "dy &=-4a\\cos \\varphi \\sin \\varphi d \\varphi\\\\\n",
    "&=\\tan \\varphi dx\\\\\n",
    "dx &=-4a\\cos^2 \\varphi d \\varphi\\\\\n",
    "&=-2a(\\cos 2 \\varphi +1)d \\varphi\\\\\n",
    "x &= -2a(\\frac{1}{2}\\sin 2\\varphi +\\varphi)+C\\\\\n",
    "\\end{aligned}$$\n",
    "$$∴\\begin{cases}\n",
    "x &= -a(\\sin 2\\varphi +2\\varphi)+C\\\\\n",
    "y &=2a\\cos^2 \\varphi\\\\\n",
    "\\end{cases}$$"
   ]
  },
  {
   "cell_type": "markdown",
   "metadata": {},
   "source": [
    "$(5)x^2 +y'^2=1$\n",
    "\n",
    "$解:$\n",
    "$$\n",
    "\\begin{aligned}\n",
    "令y' &=\\cos t\\\\\n",
    "x &=\\sin t\\\\\n",
    "dx &= \\cos t \\mathrm d t\\\\\n",
    "dy &=\\cos^2t \\mathrm d t\\\\\n",
    "y &=\\frac{\\frac{1}{2}\\sin 2t+t}{2} +C\\\\\n",
    "&=\\frac{1}{4}\\sin 2t +\\frac{t}{2} +C\\\\\n",
    "\\end{aligned}$$\n",
    "$$∴\\begin{cases}\n",
    "x &=\\sin t\\\\\n",
    "y &=\\frac{1}{4}\\sin 2t +\\frac{t}{2} +C\\\\\n",
    "\\end{cases}$$"
   ]
  },
  {
   "cell_type": "markdown",
   "metadata": {},
   "source": [
    "$(6).y^2(y'-1)=(2-y')^2$\n",
    "\n",
    "$解：$\n",
    "$$\n",
    "\\begin{aligned}\n",
    "令2-y' &=yt\\\\\n",
    "y^2(1-yt) &=y^2t^2\\\\\n",
    "y &=\\frac{1-t^2}{t}\\\\\n",
    "dy &=\\frac{-t^2-1}{t^2}dt\\\\\n",
    "&=(2-yt)dx\\\\\n",
    "dx &=\\frac{-(t^2+1)}{t^2(t^2+1)}dt=-\\frac{1}{t^2}dt\\\\\n",
    "x &=\\frac{1}{t}+C\\\\\n",
    "∴y &= x-C-\\frac{1}{x-C}\\\\\n",
    "\\end{aligned}$$\n"
   ]
  },
  {
   "cell_type": "markdown",
   "metadata": {
    "collapsed": true
   },
   "source": [
    "# <font color='red'>A 28/9"
   ]
  },
  {
   "cell_type": "code",
   "execution_count": null,
   "metadata": {
    "collapsed": true
   },
   "outputs": [],
   "source": []
  }
 ],
 "metadata": {
  "kernelspec": {
   "display_name": "SageMath 7.3",
   "language": "",
   "name": "sagemath"
  },
  "language_info": {
   "codemirror_mode": {
    "name": "ipython",
    "version": 2
   },
   "file_extension": ".py",
   "mimetype": "text/x-python",
   "name": "python",
   "nbconvert_exporter": "python",
   "pygments_lexer": "ipython2",
   "version": "2.7.10"
  }
 },
 "nbformat": 4,
 "nbformat_minor": 0
}
