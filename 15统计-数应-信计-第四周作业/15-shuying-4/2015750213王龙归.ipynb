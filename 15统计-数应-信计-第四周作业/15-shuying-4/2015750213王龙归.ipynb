{
 "cells": [
  {
   "cell_type": "markdown",
   "metadata": {},
   "source": [
    "一、求下列方程的解：  \n",
    "(8) $(x+2y)dx+xdy=0$;   \n",
    "(9) $[xcos(x+y)+sin(x+y)]dx+xcos(x+y)dy=0$;  \n",
    "(10)$(ycosx-xsinx)dx+y^3(3ydx+5xdy)=0$;  \n",
    "(11)$x(4ydx+2xdy)+y^3(3ydx+sxdy)=0$  "
   ]
  },
  {
   "cell_type": "markdown",
   "metadata": {},
   "source": [
    "8.解；$M=x+2y,N=x$  \n",
    "方程为非恰当微分方程则，$\\frac{\\frac{\\partial{M}}{\\partial{y}}-\\frac{\\partial{N}}{\\partial{x}}}{N}=\\frac{1}{x}=\\varphi(x)$  \n",
    "根据公式，可得积分因子$$u=\\int\\ e^{\\int\\frac{1}{x}dx}dx=x$$  \n",
    "所以最后可得方程的通解为$$\\frac{1}{3}x^3+x^2y+c=0$$\n"
   ]
  },
  {
   "cell_type": "markdown",
   "metadata": {},
   "source": [
    "9.解;因为$\\frac{\\partial{M}}{\\partial{y}}=-xsin(x+y)+cos(x+y)=\\frac{\\partial{N}}{\\partial{x}}$  \n",
    "所以方程为恰当微分方程$\\int{xcos(x+y)+sin(x+y)}dx=xsin(x+y)+\\varphi(y)$   \n",
    "其中，$$\\varphi'{y}+xcos(x+y)=xcos(x+y),所以\\varphi(y)=c$$\n",
    "所以方程的解为$$xsin(x+y)=c$$  "
   ]
  },
  {
   "cell_type": "markdown",
   "metadata": {},
   "source": []
  },
  {
   "cell_type": "markdown",
   "metadata": {},
   "source": [
    "10.解$$\\frac{\\partial{M}}{\\partial{y}}\\neq\\frac{\\partial{N}}{\\partial{x}}$$\n",
    "其中$$\\frac{\\frac{\\partial{M}}{\\partial{y}}-\\frac{\\partial{N}}{\\partial{x}}}{-M}=1$$\n",
    "所以方程有积分因子$$u=e^{\\int{1}dy}=e^y$$  \n",
    "用积分因子分别乘以方程两边可得$(ye^ycosxdx+ye^ysinxdy)+(e^ycosxdy-e^yxsinxdx)=0$  \n",
    "最后可得方程的解为$$e^yxcosx+e^y(y-1)sinx=c$$"
   ]
  },
  {
   "cell_type": "markdown",
   "metadata": {},
   "source": [
    "11.解；左端为恰当微分方程，可化为$d(2x^2y)$，右端为非恰当微分方程$\\frac{\\frac{\\partial{M}}{\\partial{y}}-\\frac{\\partial{N}}{\\partial{x}}}{N}=\\frac{7}{5x}=u$用u乘以右半部分方程可得$$3y^4x^{\\frac{7}{5}x}dx+5x^{\\frac{12}{5}}y^4=c$$\n",
    "再由分组组合构造的方法$$f(2x^2)=\\frac{7}{5x}g(\\frac{5}{4}x^{\\frac{12}{5}}y^4$$\n",
    "可得其积分因子为$k=x^2y$  \n",
    "两边乘以积分因子再积分可得$8x^2y+5x^{\\frac{12}{5}}y^4=c$\n"
   ]
  },
  {
   "cell_type": "markdown",
   "metadata": {},
   "source": [
    "# <font color='red'>错误？？"
   ]
  },
  {
   "cell_type": "markdown",
   "metadata": {
    "collapsed": true
   },
   "source": [
    "1.求解下列方程：  \n",
    "(1)$xy'^3=1+y'$;  \n",
    "(2)$y'^3-x^3(1-y')=0$  \n",
    "(3)$y=y'^2e^y$;  \n",
    "(4)$y(1+y'^2)=2a$;  \n",
    "(5)$x^2+y'^2=1$；  \n",
    "(6)$y^2(y'-1)=(2-y')^2.$  "
   ]
  },
  {
   "cell_type": "markdown",
   "metadata": {},
   "source": [
    "1.解；令$y'=\\frac{1}{t}$,则$$x=t^3+t^2$$  \n",
    "方程两边对y求导可得$$1=3t\\frac{dt}{dy}+2\\frac{dt}{dy}$$  \n",
    "也即$dy=(3t+2)dt$,解得$$y=\\frac{3}{2}t^2+2t+c$$  \n",
    "所以方程的解为$$\n",
    "\\begin{cases}  \n",
    "y=\\frac{3}{2}t^2+2t+c\\\\  \n",
    "x=t^3+t^2  \n",
    "\\end{cases}$$"
   ]
  },
  {
   "cell_type": "markdown",
   "metadata": {},
   "source": [
    "2.解；令$y'=p=tx$则$$t^3x^3=x^3(1-tx)$$  \n",
    "即$$x=\\frac{1}{t}-t^2$$\n",
    "方程两边对y求导可得$$\\frac{1}{1-t^3}=(\\frac{1}{t^2}-2t)\\frac{dt}{dy}$$\n",
    "也即$$dy=\\frac{-1}{t^2}+t+2t^4)dt$$\n",
    "两边积分可得$$y=\\frac{1}{t}+\\frac{t^2}{2}+\\frac{2t^5}{5}$$  \n",
    "\\begin{cases}  \n",
    "y=\\frac{1}{t}+\\frac{t^2}{2}+\\frac{2t^5}{5}\\\\ \n",
    "x=\\frac{1}{t}-t^2\n",
    "\\end{cases}$$"
   ]
  },
  {
   "cell_type": "markdown",
   "metadata": {},
   "source": [
    "3.解；令$y'=p$两边方程对x求导可得$$1=(2e^p+e^pp)\\frac{dp}{dx}$$\n",
    "所以$$dx=(2e^p+e^pp)dp$$  \n",
    "两边积分可得$$x=(p+1)e^p$$\n",
    "方程的解为$$\n",
    "\\begin{cases}  \n",
    "y=p^2e^p\\\\ \n",
    "x=(p+1)e^p\n",
    "\\end{cases}$$\n"
   ]
  },
  {
   "cell_type": "markdown",
   "metadata": {},
   "source": [
    "4.解令$y'=tant$则$$y(1+tan^2t)=2a$$  \n",
    "也即$$y=2acos^2t$$  \n",
    "方程两边对x求导可得$$tant=2a(-sin2t)\\frac{dt}{dx}$$\n",
    "$$dx=-4acos^2tdt$$\n",
    "两边积分可得$$x=-asin2t-2at+c$$\n",
    "所以方程的解为$$\n",
    "\\begin{cases}  \n",
    "y=2acos^2t\\\\ \n",
    "x=-asin2t-2at+c\n",
    "\\end{cases}$$\n"
   ]
  },
  {
   "cell_type": "markdown",
   "metadata": {},
   "source": [
    "5.令$y'=cost$\n",
    "所以$$x=sint$$  \n",
    "方程两边对y求导可得$$\\frac{1}{cost}=cost\\frac{dt}{dy}$$  \n",
    "也即$$dy=cos^2tdt$$  \n",
    "两边积分可得$$y=\\frac{sin2t}{4}+\\frac{t}{2}+c$$\n",
    "方程的解为$$\n",
    "\\begin{cases}  \n",
    "y=\\frac{sin2t}{4}+\\frac{t}{2}+c\\\\ \n",
    "x=sint\n",
    "\\end{cases}$$"
   ]
  },
  {
   "cell_type": "markdown",
   "metadata": {},
   "source": [
    "6.解；令$2-y'=yt$  \n",
    "那么$$y^2(1-yt)=y^2t^2$$  \n",
    "∴$$y=\\frac{1}{t}-t$$\n",
    "∴$$y'=1+t^2$$\n",
    "∴$$dx=\\frac{dy}{y'}=-\\frac{1}{t^2}$$  \n",
    "两边积分可得$$x=\\frac{1}{t}+c$$\n",
    "方程的解为$$\n",
    "\\begin{cases}  \n",
    "y=\\frac{1}{t}-t\\\\ \n",
    "x=\\frac{1}{t}+c\n",
    "\\end{cases}$$                "
   ]
  },
  {
   "cell_type": "markdown",
   "metadata": {},
   "source": [
    "4.设f(x,y)及$\\partial{f}\\partial{y}连续，试证方程$dy-f(x,y)dx=0为线性微分方程的充要条件是它有仅依赖于x的积分因子。"
   ]
  },
  {
   "cell_type": "markdown",
   "metadata": {},
   "source": [
    "证明.充分性；因为方程有仅依赖于x的积分因子，所以存在一个$\\varphi(x)$  \n",
    "使得$$\\frac{\\frac{\\partial{M}}{\\partial{y}}-\\frac{\\partial{N}}{\\partial{x}}}{N}=\\varphi(x)$$\n",
    "也即$$-f_y(x,y)=\\varphi(x)$$\n",
    "∴$$f(x,y)=-\\varphi(x)y+Q(x)$$\n",
    "∴$$\\frac{dy}{dx}=-\\varphi(x)y+Q(x)$$\n",
    "即方程为线性微分方程  \n",
    "必要性；假设$dy-f(x,y)dx=0$为线性微分方程  \n",
    "则$$\\frac{dy}{dx}=f(x,y)=\\varphi(x)y+Q（x)$$\n",
    "又∵$$M=-f(x,y),N=1$$\n",
    "$$\\frac{\\frac{\\partial{M}}{\\partial{y}}-\\frac{\\partial{N}}{\\partial{x}}}{N}=-\\varphi(x)$$\n",
    "∴方程具有积分因子$$u=e^{\\int-g(x)}dx$$\n",
    "命题得证"
   ]
  },
  {
   "cell_type": "markdown",
   "metadata": {},
   "source": [
    "8.求出伯努利方程的积分因子。\n",
    "解；$$\\frac{dy}{dx}=p(x)y+q(x)y^n$$  \n",
    "即$$dy-p(x)ydx-q(x)y^ndx=0$$  \n",
    "方程两边同乘以$y^-n$得  \n",
    "$$y^-ndy-p(x)ydx-q(x)y^ndx=0$$\n",
    "∴$$d(y^(1-n)-(1-n)p(x)y^(1-n)dx-(1-n)q(x)dx=0$$\n",
    "方程两边同时乘以$$e^{\\int-(1-n)p(x)dx}$$可得  \n",
    "$$d[y^{1-n}e^{-(1-n)\\int p(x)dx]}-d[\\int(1-n)q(x)e^{-(1-n)\\int p(x)dx}(1-n)q(x)dx]=0$$"
   ]
  },
  {
   "cell_type": "markdown",
   "metadata": {},
   "source": [
    "所以方程的积分因子为$$e^{\\int-(1-n)p(x)dx}$$"
   ]
  },
  {
   "cell_type": "markdown",
   "metadata": {},
   "source": [
    "# <font color='red'>积分因子没写完"
   ]
  },
  {
   "cell_type": "markdown",
   "metadata": {
    "collapsed": true
   },
   "source": [
    "# <font color='red'>A 28/9"
   ]
  },
  {
   "cell_type": "code",
   "execution_count": null,
   "metadata": {
    "collapsed": true
   },
   "outputs": [],
   "source": []
  }
 ],
 "metadata": {
  "kernelspec": {
   "display_name": "SageMath 7.3",
   "language": "",
   "name": "sagemath"
  },
  "language_info": {
   "codemirror_mode": {
    "name": "ipython",
    "version": 2
   },
   "file_extension": ".py",
   "mimetype": "text/x-python",
   "name": "python",
   "nbconvert_exporter": "python",
   "pygments_lexer": "ipython2",
   "version": "2.7.10"
  }
 },
 "nbformat": 4,
 "nbformat_minor": 0
}
