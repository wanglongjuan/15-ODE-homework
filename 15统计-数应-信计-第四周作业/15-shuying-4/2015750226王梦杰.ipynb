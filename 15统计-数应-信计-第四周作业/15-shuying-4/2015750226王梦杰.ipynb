{
 "cells": [
  {
   "cell_type": "markdown",
   "metadata": {},
   "source": [
    "1 验证下列方程是恰当微分方程，并求出方程的解\n",
    "$（8）(x+2y)dx+xdy=0$\n",
    "$(9)[xcos(x+y)+sin(x+y)]dx+xcos(x+y)dy=0$\n",
    "$(10)(ycosx-xsinx)dx+(ysinx+xcosx)dy=0$\n",
    "$(11)x(4ydx+2xdy)+y^3(3ydx+5xdy)=0$"
   ]
  },
  {
   "cell_type": "markdown",
   "metadata": {},
   "source": [
    "解（8）\n",
    "这里$M=x+2y，N=x$\n",
    "这时$$\\frac{\\partial M}{\\partial y}=2,\\frac{\\partial N}{\\partial x}=1$$\n",
    "因此，方程不是恰当微分方程。\n",
    "算得$$\\frac{\\frac{\\partial M}{\\partial y}-\\frac{\\partial N}{\\partial x}}{N}=\\frac{1}{x}$$\n",
    "因而，线性方程有只与x有关的积分因子$$u=e^{-\\int\\mathrm {\\frac{1}{x}}\\,\\mathrm dx}=x$$\n",
    "将$u=x$代入到方程两边得$$x^2dx+2xydx+x^2dy=0$$\n",
    "即$$d(\\frac{x^3}{3}+x^2y)=0$$\n",
    "方程的解为$$c=\\frac{x^3}{3}+x^2y$$"
   ]
  },
  {
   "cell_type": "markdown",
   "metadata": {},
   "source": [
    "解（9）这里$M=xcos(x+y)+sin(x+y),N=xcos(x+y)$这时\n",
    "$$\\frac{\\partial M}{\\partial y}=-xsin(x+y)+cos(x+y),\\frac{\\partial N}{\\partial x}=-xsin(x+y)+cos(x+y)$$\n",
    "因此方程是恰当微分方程\n",
    "现在求u使它满足如下两个方程\n",
    "$$\\frac{\\partial u}{\\partial x}=xcos(x+y)+sin(x+y)$$【记为（1）式】\n",
    "$$\\frac{\\partial u}{\\partial y}=xcos(x+y)$$【记为（2）式】\n",
    "将（1）式对x积分，得到\n",
    "$$u=xsin(x+y)+w(y)$$\n",
    "将上式对y求导数，即得$$\\frac{\\partial u}{\\partial y}=xcos(x+y)+\\frac{dw(y)}{y}$$\n",
    "则$$\\frac{dw(y)}{y}=0$$\n",
    "$$w(y)=c$$\n",
    "方程的解为$$c=xsin(x+y)$$"
   ]
  },
  {
   "cell_type": "markdown",
   "metadata": {},
   "source": [
    "解（10）这里$M=ycosx-xsinx,N=ysinx+xcosx$这时\n",
    "$$\\frac{\\partial M}{\\partial y}=cosx,\\frac{\\partial N}{\\partial x}=ycosx+cosx-xsinx$$\n",
    "此时方程不是恰当方程\n",
    "$$\\frac{\\frac{\\partial M}{\\partial y}-\\frac{\\partial N}{\\partial x}}{M}=1$$\n",
    "因此线性方程只有与x有关的积分因子$u=e^{\\int\\mathrm 1\\,\\mathrm dx}=e^x$\n",
    "将u同乘以两边得$$ye^xcosxdx-xe^xsinxdx+ye^xsinxdy+xe^xcosxdy=0$$\n",
    "即$$d((y-1)e^ysinx+xe^ycosx)=0$$\n",
    "方程的解为$$c=(y-1)e^ysinx+xe^ycosx$$"
   ]
  },
  {
   "cell_type": "markdown",
   "metadata": {},
   "source": [
    "解（11）这里$M=4xy+3y^4,N=2x^2+5xy^3$这时\n",
    "$$\\frac{\\partial M}{\\partial y}=4x+12y^3,\\frac{\\partial N}{\\partial x}=4x+5y^3$$\n",
    "此时方程不是恰当方程\n",
    "可知$x(4ydx+2xdy)=d(2x^2y)$对于方程$$y^3(3ydx+5xdy)=0$$\n",
    "令$$M'=3y^4,N'=5xy^3$$\n",
    "$$\\frac{\\frac{\\partial M'}{\\partial y}-\\frac{\\partial N'}{\\partial x}}{N'}=\\frac{7}{5x}$$\n",
    "则$$u=e^{\\int\\mathrm {\\frac{7}{5x}}\\,\\mathrm dx}$$\n",
    "$$=x^{\\frac{7}{5}}$$\n",
    "将u同乘于方程两边得$$3y^4x^{\\frac{7}{5}}dx+5x^{\\frac{12}{5}}y^3dy=0$$\n",
    "即$$d(\\frac{5}{4}x^{12}{5}y^4)=0$$\n",
    "所以方程通解为$$2x^2y+\\frac{5}{4}x^{\\frac{12}{5}}y^4=c$$"
   ]
  },
  {
   "cell_type": "markdown",
   "metadata": {},
   "source": [
    "# <font color='red'>不正确"
   ]
  },
  {
   "cell_type": "markdown",
   "metadata": {},
   "source": [
    "4 设$f(x,y)及\\frac{\\partial f}{\\partial y}$连续，试证方程$dy-f(x,y)dx=0$为线性方程的充要条件是它有仅依赖于x的积分因子。"
   ]
  },
  {
   "cell_type": "markdown",
   "metadata": {},
   "source": [
    "证明：\n",
    "充分性\n",
    "令$M=-f(x,y),N=1$\n",
    "由于积分方程有仅依赖于x的积分因子，则存在某个W（x）满足\n",
    "$$\\frac{\\frac{\\partial M}{\\partial y}-frac{\\partial N}{\\partial x}}{N}=-\\frac{\\partial f}{\\partial y}=w(x)$$\n",
    "积分后可得$$f(x,y)=-w(x)y+h(x)$$\n",
    "方程可化为$$\\frac{dy}{dx}=-w(x)y+h(x)$$\n",
    "则$dy-f(x,y)dx=0$是线性的\n",
    "必要性\n",
    "$dy-f(x,y)dx=0$是线性微分方程，即存在函数h(x) g(x)使得\n",
    "$$f(x,y)=yg(x)+h(x)$$\n",
    "令$M=-f(x,y)=-yg(x)-h(x),N=1$\n",
    "$$\\frac{\\frac{\\partial M}{\\partial y}-frac{\\partial N}{\\partial x}}{N}=-g(x)$$\n",
    "所以方程有积分因子$$u=e^{\\int\\mathrm {-g(x)}\\,\\mathrm dx}$$\n",
    "则方程有仅依赖于x的积分因子"
   ]
  },
  {
   "cell_type": "markdown",
   "metadata": {},
   "source": [
    "8 求出伯努利微分方程的积分因子"
   ]
  },
  {
   "cell_type": "markdown",
   "metadata": {},
   "source": [
    "解 由题可知\n",
    "伯努利微分方程为$$\\frac{dy}{dx}=P(x)y+Q(x)$$\n",
    "用y^{-n}乘等式两边，得到\n",
    "$$y^{-n}\\frac{dy}{dx}=y^{1-n}P(x)+Q(x)$$\n",
    "令$M=y^{1-n}P(x)+Q(x),N=y^{-n}$\n",
    "这时$$\\frac{\\partial M}{\\partial y}=(1-n)P(x)y^{-n},\\frac{\\partial N}{\\partial x}=0$$\n",
    "此方程不是恰当方程\n",
    "$$\\frac{\\frac{\\partial M}{\\partial y}-\\frac{\\partial N}{\\partial x}}{N}=(1-n)P(x)$$\n",
    "因此$u=y^{-n}e^{\\int\\mathrm {-(1-n)P(x)}\\,\\mathrm dx}$\n",
    "伯努利微分方程的积分因子为$u=y^{-n}e^{\\int\\mathrm {-(1-n)P(x)}\\,\\mathrm dx}$\n",
    "$=u=y^{-n}e^{\\int\\mathrm {(n-1)P(x)}\\,\\mathrm dx}$"
   ]
  },
  {
   "cell_type": "markdown",
   "metadata": {},
   "source": [
    "1 求解下列方程\n",
    "$（1）xy’^2=1+y’$\n",
    "$(2)y’^3-x^3(1-y’)=0$\n",
    "$(3)y=y’^2e^y$\n",
    "$(4)y(1+y’^2)=2a$(a为常数)\n",
    "$(5)x^2+y’^2=1$\n",
    "$(6)y^2(y’-1)=(2-y’)^2$"
   ]
  },
  {
   "cell_type": "markdown",
   "metadata": {},
   "source": [
    "(1)\t解 令$y’=p$\n",
    "则$$x=\\frac{1}{p^3}+\\frac{1}{p^2}$$\n",
    "对y进行求导得\n",
    "$$\\frac{dx}{dy}=(-2p^{-3}-p^{-2})\\frac{dp}{dy}$$\n",
    "原式化为$$dy=(-2p^{-2}-3\\frac{1}{p^3})dp$$\n",
    "积分得$$y=\\frac{3}{2}p^{-2}+2p^{-1}+c$$\n",
    "方程的通解为$$x=p^{-3}+p^{-2}$$\n",
    "$$y=\\frac{1}{2p^{-2}}+2p^{-1}+c$$   $p≠0$"
   ]
  },
  {
   "cell_type": "markdown",
   "metadata": {},
   "source": [
    "(2)解 由题可知\n",
    "令$y'=p=tx$则由方程得\n",
    "$$x=\\frac{1}{t}-t^2$$\n",
    "此时$$p=1-t^3$$\n",
    "对y求导得$$\\frac{dx}{dy}=(-\\frac{1}{t^2}-2t)\\frac{dt}{dy}$$\n",
    "即$$\\frac{1}{1-t^3}=(-\\frac{1}{t^2}-2t)\\frac{dt}{dy}$$\n",
    "$$dy=[(1-t^3)(\\frac{1}{t^2}-2)]dt$$\n",
    "两边同时积分得$$y=-\\frac{1}{t^2}+\\frac{1}{5}t^5+\\frac{1}{t}+c$$\n",
    "所以方程得通解为$$x=\\frac{1}{t}-t^2$$\n",
    "$$y=-\\frac{1}{t^2}+\\frac{1}{5}t^5+\\frac{1}{t}+c$$"
   ]
  },
  {
   "cell_type": "markdown",
   "metadata": {},
   "source": [
    "(3)解 令$y'=p$\n",
    "所以$$y=p^2e^p$$\n",
    "对x求导得$$\\frac{dy}{dx}=e^p(p^2+2p)\\frac{dp}{dx}$$\n",
    "即$$dx=e^p(p+2)dp$$\n",
    "两边同时积分得$$x=(p+1)e^p+c$$\n",
    "因此方程的通解为$$y=p^2e^p$$\n",
    "$$x=(p+1)e^p+c$$"
   ]
  },
  {
   "cell_type": "markdown",
   "metadata": {},
   "source": [
    "（4）解 由题可知\n",
    "令$1+y'^2=p^2$\n",
    "满足$tan^2m+1=\\frac{1}{cos^2m}$的等式\n",
    "因此令$y'=tanm$\n",
    "即$$y=2acos^2m$$\n",
    "对x求导得$$\\frac{dy}{dx}=-2asin2m\\frac{dm}{dx}$$\n",
    "即$$dx=-4acos^2mdm$$\n",
    "两边同时积分得$$x=-a(2t+sin2m+c)$$\n",
    "方程的通解为$$y=2acos^2m$$\n",
    "$$x=-a(2t+sin2m+c)$$"
   ]
  },
  {
   "cell_type": "markdown",
   "metadata": {},
   "source": [
    "（5）解 由题可知\n",
    "$$x^2+y'^2=1$$\n",
    "满足$$sin^2m+cos^2m=1$$的关系式\n",
    "令$y'=cosm$可得\n",
    "$$x=sinm$$\n",
    "对y求导得$$\\frac{dx}{dy}=cosm\\frac{dm}{dy}$$\n",
    "即$$dy=cos^2mdm$$\n",
    "两边积分得$$y=\\frac{m}{2}+\\frac{1}{4}sin2m+c$$\n",
    "方程的通解为$$x=sinm$$\n",
    "$$y=\\frac{m}{2}+\\frac{1}{4}sin2m+c$$"
   ]
  },
  {
   "cell_type": "markdown",
   "metadata": {},
   "source": [
    "（6）解 由题可得\n",
    "令$2-y'=yt$可得$$y=\\frac{1}{t}-t$$\n",
    "此时$$y'=1+t^2$$\n",
    "由$y'=\\frac{dy}{dx}$可得\n",
    "$$dx=\\frac{dy}{y'}$$\n",
    "$$=-\\frac{1}{t^2}$$\n",
    "两边同时积分得$$x=\\frac{1}{t}+c$$\n",
    "方程的$$x=\\frac{1}{t}+c$$\n",
    "$$y=\\frac{1}{t}-t$$\n",
    "消去参数得$$y=x-\\frac{1}{x-c}-c$$【c为任意常数】\n",
    "当$y'=0$时，方程无解"
   ]
  },
  {
   "cell_type": "markdown",
   "metadata": {},
   "source": []
  },
  {
   "cell_type": "markdown",
   "metadata": {
    "collapsed": true
   },
   "source": [
    "# <font color='red'>A 28/9"
   ]
  },
  {
   "cell_type": "code",
   "execution_count": null,
   "metadata": {
    "collapsed": true
   },
   "outputs": [],
   "source": []
  }
 ],
 "metadata": {
  "kernelspec": {
   "display_name": "SageMath 7.3",
   "language": "",
   "name": "sagemath"
  },
  "language_info": {
   "codemirror_mode": {
    "name": "ipython",
    "version": 2
   },
   "file_extension": ".py",
   "mimetype": "text/x-python",
   "name": "python",
   "nbconvert_exporter": "python",
   "pygments_lexer": "ipython2",
   "version": "2.7.10"
  }
 },
 "nbformat": 4,
 "nbformat_minor": 0
}
