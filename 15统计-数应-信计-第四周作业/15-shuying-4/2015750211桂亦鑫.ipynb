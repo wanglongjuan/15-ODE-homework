{
 "cells": [
  {
   "cell_type": "markdown",
   "metadata": {},
   "source": [
    "# 常微分方程      第四周作业    学号：2015750211"
   ]
  },
  {
   "cell_type": "markdown",
   "metadata": {},
   "source": [
    "## P61.2.求下列方程的解:"
   ]
  },
  {
   "cell_type": "markdown",
   "metadata": {},
   "source": [
    "### (8)$(x+2y)\\mathrm d y+x \\mathrm d y=0$;"
   ]
  },
  {
   "cell_type": "markdown",
   "metadata": {},
   "source": [
    "### (9)$[x\\cos (x+y)+\\sin(x+y)]\\mathrm d x+x\\cos(x+y)\\mathrm d y=0$"
   ]
  },
  {
   "cell_type": "markdown",
   "metadata": {},
   "source": [
    "### (10)$(y\\cos x -x\\sin x)\\mathrm d x+(y\\sin x+x \\cos x)\\mathrm d y=0$"
   ]
  },
  {
   "cell_type": "markdown",
   "metadata": {},
   "source": [
    "### (11)$x(4y\\mathrm d x+2x\\mathrm d y)+y^3(3y\\mathrm d x+5x\\mathrm d y)=0$"
   ]
  },
  {
   "cell_type": "markdown",
   "metadata": {},
   "source": [
    "(8)解:这里有$$M(x,y)=(x+2y),N(x,y)=x$$\n",
    "\n",
    "分别对其求$y$的偏导，$x$的偏导,有$$\\frac{\\partial M}{\\partial y}=2$$ \n",
    "\n",
    "$$\\frac{\\partial N}{\\partial x}=1$$\n",
    "\n",
    "所以该方程为非恰当微分方程.所以算得\n",
    "$$\n",
    "\\frac{\\frac{\\partial M}{\\partial y}-\\frac{\\partial N}{\\partial x}}{N}=\\frac{1}{x}\n",
    "$$\n",
    "\n",
    "因与此方程有只与$x$有关的积分因子$$\\mu(x,y)=x$$.\n",
    "\n",
    "方程两边同乘以$x$，得$$(x^2+2xy)\\mathrm d y+x^2 \\mathrm d y=0为恰当微分方程$$.\n",
    "\n",
    "所以有$$ u(x,y)=\\int^x_{x_0} (x^2+2xy) \\mathrm d x+\\int ^y_{y_0} x_0^2\\mathrm d y=c$$\n",
    "\n",
    "为了方便计算，我们取$x_0=0,y_0=0$\n",
    "\n",
    "可得$$x^3+3x^2y=c,(c为任意常数)$$\n",
    "\n",
    "\n"
   ]
  },
  {
   "cell_type": "markdown",
   "metadata": {},
   "source": [
    "(9)解:这里有$$M(x,y)=x\\cos (x+y)+\\sin(x+y),N(x,y)=x\\cos(x+y)$$\n",
    "\n",
    "分别对其求$y$的偏导，$x$的偏导,有$$\\frac{\\partial M}{\\partial y}=-x\\sin(x+y)+\\cos(x+y)$$\n",
    "\n",
    "$$\\frac{\\partial N}{\\partial x}=\\cos(x+y)-x\\sin(x+y)$$\n",
    "\n",
    "所以该方程为恰当微分方程.所以有$$ u(x,y)=\\int^x_{x_0} (x\\cos (x+y)+\\sin(x+y)) \\mathrm d x+\\int ^y_{y_0} (x\\cos(x+y))\\mathrm d y=c$$\n",
    "\n",
    "为了方便计算，我们取$x_0=0,y_0=0$\n",
    "\n",
    "可得$$x\\sin(x+y)=c,(c为任意常数)$$\n"
   ]
  },
  {
   "cell_type": "markdown",
   "metadata": {},
   "source": [
    "(10)解:这里有$$M(x,y)=(y\\cos x -x\\sin x),N(x,y)=(y\\sin x+x \\cos x)$$\n",
    "\n",
    "分别对其求y的偏导，x的偏导,有$$\\frac{\\partial M}{\\partial y}=\\cos x$$\n",
    "\n",
    "$$\\frac{\\partial N}{\\partial x}=y\\cos x+\\cos x-x\\sin x$$\n",
    "\n",
    "所以该方程为非恰当微分方程.所以算得\n",
    "$$\n",
    "\\frac{\\frac{\\partial M}{\\partial y}-\\frac{\\partial N}{\\partial x}}{-M}=1\n",
    "$$\n",
    "\n",
    "因与此方程有只与$y$有关的积分因子$$\\mu(x,y)=e^y$$.\n",
    "\n",
    "方程两边同乘以$e^y$，得$$e^2(y\\cos x -x\\sin x)\\mathrm d y+(y\\sin x+x \\cos x)\\mathrm d y=0为恰当微分方程$$.\n",
    "\n",
    "为了方便计算，我们取$x_0=0,y_0=0$\n",
    "\n",
    "可得$$e^y(x\\cos x+y\\sin x-\\sin x)=c,(c为任意常数)$$"
   ]
  },
  {
   "cell_type": "markdown",
   "metadata": {},
   "source": [
    "(11)解:方程$x(4y\\mathrm d x+2x\\mathrm d y)+y^3(3y\\mathrm d x+5x\\mathrm d y)=0$分为两部分来看.\n",
    "\n",
    "第一部分为$$x(4y\\mathrm d x+2x\\mathrm d y)$$容易知道其为恰当微分方程.其积分因子我们可以认为为$$\\mu (x,y)=1$$\n",
    "\n",
    "第二部分为$$y^3(3y\\mathrm d x+5x\\mathrm d y)$$\n",
    "\n",
    "分别对其求$y$的偏导，$x$的偏导,有$$\\frac{\\partial M}{\\partial y}=12y^3$$\n",
    "\n",
    "$$\\frac{\\partial N}{\\partial x}=5y^3$$\n",
    "\n",
    "所以该方程为非恰当微分方程.所以算得\n",
    "$$\n",
    "\\frac{\\frac{\\partial M}{\\partial y}-\\frac{\\partial N}{\\partial x}}{-M}=-\\frac{7y^3}{3y^4}=-\\frac{7}{3y}\n",
    "$$\n",
    "\n",
    "因与此方程有只与$y$有关的积分因子$$\\mu(x,y)=y^{-\\frac{7}{3}}$$\n",
    "\n",
    "这时我们这么处理,令$$\\mu_1(x,y)=1,\\mu_2(x,y)=y^{-\\frac{7}{3}},\\psi_1 (2x^2y),\\psi_2(3xy^{-\\frac{7}{3}})$$\n",
    "\n",
    "我们建立关系式$$\\mu_1(x,y)\\psi_1(2x^2y)=\\mu_2(x,y)\\psi_2(3xy^{\\frac{5}{3}})$$\n",
    "\n",
    "我们取$$\\psi_1(u)=\\frac{1}{2}u,\\psi_2(u)=\\frac{1}{9}u^2$$\n",
    "\n",
    "可得$$\\mu_1(x,y)\\psi_1(2x^2y)=\\mu_2(x,y)\\psi_2(3xy^{\\frac{5}{3}})=x^2y$$\n",
    "\n",
    "所以方程的积分因子为$$\\mu (x,y)=x^2y$$\n",
    "\n",
    "方程两边同乘以$x^2y$,得$$x^3y(4y\\mathrm d x+2x\\mathrm d y)+x^2y^4(3y\\mathrm d x+5x\\mathrm d y)=0$$\n",
    "\n",
    "所以可得$$x^4y^2+x^3y^5=c,(c为任意常数)$$\n",
    "\n"
   ]
  },
  {
   "cell_type": "markdown",
   "metadata": {},
   "source": [
    "## 4.设$f(x,y)$及$\\frac{\\partial f}{\\partial y}$连续，试证方程$\\mathrm d y-f(x,y)\\mathrm d x=0$为线性微分方程的充要条件是它有仅仅依赖于$x$的积分因子"
   ]
  },
  {
   "cell_type": "markdown",
   "metadata": {},
   "source": [
    "解:\n",
    "充分性:条件为方程$\\mathrm d y-f(x,y)\\mathrm d x=0$有仅仅依赖于$x$的积分因子,所以我们有$$\\frac{\\frac{\\partial M}{\\partial y}-\\frac{\\partial N}{\\partial x}}{N}$$应该只与$x$有关.\n",
    "\n",
    "即为$$\\frac{\\partial f}{\\partial y}=-\\psi(x)$$\n",
    "\n",
    "方程两边对$y$积分,有$$f(x,y)=-\\psi(x)y+\\varphi(x)$$\n",
    "\n",
    "所以$\\mathrm d y-f(x,y)\\mathrm d x=0$是线性微分方程\n",
    "\n",
    "必要性:条件为所以$\\mathrm d y-f(x,y)\\mathrm d x=0$是线性微分方程,所以我们设$$f(x,y)=\\psi(x)y+\\varphi(x)$$\n",
    "\n",
    "容易知道它有仅仅依赖于$x$的积分因子.固命题得证."
   ]
  },
  {
   "cell_type": "markdown",
   "metadata": {},
   "source": [
    "## 5.求出伯努利方程的积分因子."
   ]
  },
  {
   "cell_type": "markdown",
   "metadata": {},
   "source": [
    "解:伯努利方程为$$\\frac{\\mathrm d y}{\\mathrm d x}=P(x)y+Q(x)y^n$$\n",
    "\n",
    "化为$$(P(x)y+Q(x)y^n)\\mathrm d x-\\mathrm d y=0$$\n",
    "\n",
    "方程两边同时乘以$y^{-n}$,得$$(P(x)y^{1-n}+Q(x))\\mathrm d x-y^{-n}\\mathrm d y=0$$\n",
    "\n",
    "可化为$$[(1-n)y^{1-n}P(x)+(1-n)Q(x)]\\mathrm d x-\\mathrm d y^{1-n}=0$$\n",
    "\n",
    "分别对其求$y$的偏导，$x$的偏导,有$$\\frac{\\partial M}{\\partial y}=(1-n)y^{-n}P(x)$$ \n",
    "\n",
    "$$\\frac{\\partial N}{\\partial x}=0$$\n",
    "\n",
    "所以算得\n",
    "$$\n",
    "\\frac{\\frac{\\partial M}{\\partial y}-\\frac{\\partial N}{\\partial x}}{N}=-(1-n)P(x)\n",
    "$$\n",
    "\n",
    "因与此方程有只与$x$有关的积分因子$$\\mu(x,y)=e^{\\int -(1-n)P(x)\\mathrm d x}$$.\n",
    "\n",
    "综上所述,我们可得伯努利方程积分因子$$\\mu(x,y)=y^{-n}e^{\\int -(1-n)P(x)\\mathrm d x}$$"
   ]
  },
  {
   "cell_type": "markdown",
   "metadata": {
    "collapsed": true
   },
   "source": [
    "## P.70.1.求解下列方程."
   ]
  },
  {
   "cell_type": "markdown",
   "metadata": {},
   "source": [
    "### (1)$xy'^3=1+y'$;"
   ]
  },
  {
   "cell_type": "markdown",
   "metadata": {},
   "source": [
    "### (2)$y'^3-x^3(1-y')=0$;"
   ]
  },
  {
   "cell_type": "markdown",
   "metadata": {},
   "source": [
    "### (3)$y=y'^2e^{y'}$;"
   ]
  },
  {
   "cell_type": "markdown",
   "metadata": {},
   "source": [
    "### (4)$y(1+y'^2)=2a$;"
   ]
  },
  {
   "cell_type": "markdown",
   "metadata": {},
   "source": [
    "### (5)$x^2+y'^2=1$;"
   ]
  },
  {
   "cell_type": "markdown",
   "metadata": {},
   "source": [
    "### (6)$y^2(y'-1)=(2-y')^2$;"
   ]
  },
  {
   "cell_type": "markdown",
   "metadata": {},
   "source": [
    "(1)解：令$p=\\frac{\\mathrm d y}{\\mathrm d x}$,所以有$$xp^3=1+p$$\n",
    "\n",
    "如果我们把$p和x表示为参数形式$,即$$\\begin{cases}x=\\varphi(t)\\\\p=\\psi(t)\\end{cases}$$\n",
    "\n",
    "那么我们就可以应用$$\\mathrm d y=\\psi(t)\\varphi'(t)\\mathrm d t$$进行积分求解.\n",
    "\n",
    "通过观察得知,令$\\psi(t)=\\frac{1}{t}$,有$$x=\\varphi(t)=t^3+t^2$$\n",
    "\n",
    "所以有$$\\mathrm d y=\\frac{1}{t}(3t^2+2t)\\mathrm d t$$\n",
    "\n",
    "两边同时积分可得$$y=\\frac{3}{2}t^2+2t+c,(c为任意常数)$$\n",
    "\n",
    "所以方程的通解为$$\\begin{cases}x=t^3+t^2\\\\y=\\frac{3}{2}t^2+2t+c\\end{cases}$$\n",
    "\n"
   ]
  },
  {
   "cell_type": "markdown",
   "metadata": {},
   "source": [
    "(2)解：令$p=\\frac{\\mathrm d y}{\\mathrm d x}$,所以有$$p^3-x^3(1-p)=0$$\n",
    "\n",
    "同(1)的解法,我们令$$p=tx$$所以$$1-tx=t^3$$亦即$$x=\\frac{1}{t}-t^2$$因此$$p=tx=1-t^3$$\n",
    "\n",
    "所以有$$\\mathrm d y=(1-t^3)(-\\frac{1}{t^2}-2t)\\mathrm d t$$\n",
    "\n",
    "整理后得$$\\mathrm d y=2t^4-t-\\frac{1}{t^2}\\mathrm d t$$\n",
    "\n",
    "两边同时积分可得$$y=\\frac{2}{5}t^5-\\frac{1}{2}t^2+\\frac{1}{t}+c$$\n",
    "\n",
    "所以方程的通解为$$\\begin{cases}x=\\frac{1}{t}-t^2\\\\y=\\frac{2}{5}t^5-\\frac{1}{2}t^2+\\frac{1}{t}+c\\end{cases}$$"
   ]
  },
  {
   "cell_type": "markdown",
   "metadata": {},
   "source": [
    "(3)解：令$p=\\frac{\\mathrm d y}{\\mathrm d x}$,所以有$$y=p^{2}e^{p}$$\n",
    "\n",
    "对方程两边同时对$x$求导,可得$$p=2pe^p\\frac{\\mathrm d p}{\\mathrm d x}+p^2\\frac{\\mathrm d p}{\\mathrm d x}$$\n",
    "\n",
    "整理即得$$(2+p)e^p\\mathrm d p=\\mathrm d x$$\n",
    "\n",
    "两边同时积分可得$$x=(p+1)e^p+c$$\n",
    "\n",
    "当$p=0$时,方程亦成立,此时$y=0$\n",
    "\n",
    "综上所述,方程的通解为$$\\begin{cases}x=(p+1)e^p+c\\\\y=p^{2}e^{p}\\end{cases}$$\n",
    "\n",
    "$$y=0也是方程的解$$"
   ]
  },
  {
   "cell_type": "markdown",
   "metadata": {
    "collapsed": true
   },
   "source": [
    "(4)解：令$p=\\frac{\\mathrm d y}{\\mathrm d x}$,所以有$$y(p^{2}+1)=2a$$\n",
    "\n",
    "方程两边同时对$x$求导.有$$p=-\\frac{4ap}{(1+p^2)^2}\\frac{\\mathrm d p}{\\mathrm d x}$$\n",
    "\n",
    "化简得$$(1+p^2)^2\\mathrm d x+4a\\mathrm d p$$\n",
    "\n",
    "可以看出$$\\mu(x,y)=\\frac{1}{(p^2+1)^2}$$为方程的一个积分因子^\n",
    "\n",
    "所以可得$$\\int^x_0\\mathrm d x+\\int ^y_0\\frac{4a}{(1+p^2)^2}\\mathrm d p=c$$\n",
    "\n",
    "即为$$x=-2a\\arctan p-\\frac{2ap}{(1+p^2)}+c$$\n",
    "\n",
    "综上所述,方程的通解为$$\\begin{cases}x=-2a\\arctan p-\\frac{2ap}{(1+p^2)}+c\\\\y=\\frac{2a}{(1+p^2)}\\end{cases}$$\n",
    "\n",
    "$$\n",
    "p=0也是方程的解\n",
    "$$"
   ]
  },
  {
   "cell_type": "markdown",
   "metadata": {
    "collapsed": true
   },
   "source": [
    "(5)解：令$p=\\frac{\\mathrm d y}{\\mathrm d x}$,所以有$$x^2+p^{2}=1$$\n",
    "\n",
    "我们令$$\\begin{cases}x=\\sin t\\\\p=\\cos t\\end{cases}$$\n",
    "\n",
    "所以有$$\\mathrm d y= \\cos^2 t\\mathrm d t$$\n",
    "\n",
    "方程两边同时积分有$$y=\\frac{t}{2}+\\frac{1}{4}\\sin 2t+c$$\n",
    "\n",
    "综上所述,方程的通解为$$\\begin{cases}x=\\sin t\\\\y=\\frac{t}{2}+\\frac{1}{4}\\sin 2t+c\\end{cases}$$"
   ]
  },
  {
   "cell_type": "markdown",
   "metadata": {},
   "source": [
    "(6)解：令$$2-y'=yt$$,则与原方程消去$y'$后，有$$y^2(1-yt)=y^2t^2$$\n",
    "\n",
    "由此得$$y=\\frac{1}{t}-t$$\n",
    "\n",
    "同时有$$y'=1+t^2$$\n",
    "\n",
    "因此$$\\mathrm d x=\\frac{dy}{y'}=-\\frac{1}{t^2}$$\n",
    "\n",
    "积分之,得$$x=\\frac{1}{t}+c$$\n",
    "\n",
    "于是求得方程通解为$$\\begin{cases}x=\\frac{1}{t}+c\\\\y=\\frac{1}{t}-t\\end{cases}$$\n",
    "\n",
    "消去参数得$$y=(x-c)-\\frac{1}{x-c}$$"
   ]
  },
  {
   "cell_type": "markdown",
   "metadata": {
    "collapsed": true
   },
   "source": [
    "# <font color='red'>A 28/9\n"
   ]
  },
  {
   "cell_type": "code",
   "execution_count": null,
   "metadata": {
    "collapsed": true
   },
   "outputs": [],
   "source": []
  }
 ],
 "metadata": {
  "kernelspec": {
   "display_name": "SageMath 7.3",
   "language": "",
   "name": "sagemath"
  },
  "language_info": {
   "codemirror_mode": {
    "name": "ipython",
    "version": 2
   },
   "file_extension": ".py",
   "mimetype": "text/x-python",
   "name": "python",
   "nbconvert_exporter": "python",
   "pygments_lexer": "ipython2",
   "version": "2.7.10"
  }
 },
 "nbformat": 4,
 "nbformat_minor": 0
}
