{
 "cells": [
  {
   "cell_type": "markdown",
   "metadata": {},
   "source": [
    "数学与应用数学班"
   ]
  },
  {
   "cell_type": "markdown",
   "metadata": {},
   "source": [
    "吴雅杰   2015750220"
   ]
  },
  {
   "cell_type": "markdown",
   "metadata": {},
   "source": [
    "**P61。2**"
   ]
  },
  {
   "cell_type": "markdown",
   "metadata": {},
   "source": [
    "(8)$(x+2y)dx+xdy=0$"
   ]
  },
  {
   "cell_type": "markdown",
   "metadata": {},
   "source": [
    "**解：**"
   ]
  },
  {
   "cell_type": "markdown",
   "metadata": {},
   "source": [
    "$\\because$:$$N=x,M=x+2y\\frac{\\partial M}{\\partial y}=2,\\frac{\\partial N}{\\partial x}=1$$$\\therefore$:此方程不是恰当方程"
   ]
  },
  {
   "cell_type": "markdown",
   "metadata": {},
   "source": [
    "又$\\because$:$$\\frac{\\frac{\\partial M}{\\partial y}-\\frac{\\partial N}{\\partial x}}{N}$$$\\therefore$且方程有积分因子$\\mu=e^{\\int \\frac{1}{x}{d}x}$"
   ]
  },
  {
   "cell_type": "markdown",
   "metadata": {},
   "source": [
    "用$\\mu=x$乘方程两端，得：$$x^2dy+x^2dx+2xydx=0$$$\\Rightarrow$$$d\\left(x^2y+\\frac{1}{3}x^3\\right)=0$$$\\therefore$方程的通解为：$$x^3+3x^2y=c$$"
   ]
  },
  {
   "cell_type": "markdown",
   "metadata": {},
   "source": [
    "(9)$[xcos(x+y)+sin(x+y)]dx+xcos(x+y)dy=0$"
   ]
  },
  {
   "cell_type": "markdown",
   "metadata": {},
   "source": [
    "**解：**$\\because$$$M=xcos(x+y)+sin(x+y)$$$$N=xcos(x+y)$$$$\\frac{\\partial M}{\\partial y}=xsin(x+y)+cos(x+y)$$$$\\frac{\\partial N}{\\partial x}=cos(x+y)-xsin(x+y)$$$\\therefore$方程是恰当方程,"
   ]
  },
  {
   "cell_type": "markdown",
   "metadata": {},
   "source": [
    "$\\therefore$原式$\\Rightarrow$$$d(xsin(x+y))=0$$$\\therefore$方程的通解为$$xsin(x+y)=c$$"
   ]
  },
  {
   "cell_type": "markdown",
   "metadata": {},
   "source": [
    "(10)$(ycosx-xsinx)dx+(ysinx+xcosx)dy=0$"
   ]
  },
  {
   "cell_type": "markdown",
   "metadata": {},
   "source": [
    "**解：**$\\because$$$M=ycosx-xsinx$$$$N=ysinx-xcosx$$$$\\frac{\\partial M}{\\partial y}=cosx$$$$\\frac{\\partial N}{\\partial x}=ycosx+cosx-xsinx$$$\\therefore$该方程不是恰当方程，又$\\because$$$\\frac{\\frac{\\partial M}{\\partial y}-\\frac{\\partial N}{\\partial x}}{N}$$$\\therefore$方程有积分因子$\\mu=e^{\\int 1{d}y}=e^y$将$\\mu=e^y$乘以方程两边，得：$$(ye^ycosxdx+te^ysinxdy)+(e^ycosxdy-e^yxsinxdx)=0$$$\\Rightarrow$$$d[(y-1)e^ysinx+e^yxcosx]=0$$$\\therefore$方程的通解为$$e^yxcosx+e^y(y-1)sinx=c$$"
   ]
  },
  {
   "cell_type": "markdown",
   "metadata": {},
   "source": [
    "(11)$x(dydx+2xdy)+y^3(3ydx+5xdy)=0$"
   ]
  },
  {
   "cell_type": "markdown",
   "metadata": {},
   "source": [
    "**解：**$\\because x(4ydx+2xdy)=d(2x^2y)$,对于$y^3(3ydx+5xdy)=0$有$$M=3y^4$$$$N=5xy^3$$$$\\frac{\\partial M}{\\partial y}=12y^3$$$$\\frac{\\partial N}{\\partial x}=5y^3$$又$\\because$$$\\frac{\\frac{\\partial M}{\\partial y}-\\frac{\\partial N}{\\partial x}}{5xy^3}=\\frac{7}{5x}$$$\\therefore$方程有积分因子$\\mu=e^{\\int \\frac{7}{5x}{d}x}=x^{\\frac{7}{5}}$"
   ]
  },
  {
   "cell_type": "markdown",
   "metadata": {},
   "source": [
    "方程$y^3(3ydx+5xdy)=0$两端同时乘$\\mu=x^\\frac{7}{5}$，得：$$3y^4x^\\frac{7}{5}dx+5x^\\frac{12}{5}y^3dy=0$$$\\Rightarrow$$$d\\left(\\frac{5}{4}x^\\frac{12}{5}y^4\\right)=0$$综上，原方程的通解为：$$8x^2y+5x^\\frac{12}{5}y^4=c$$"
   ]
  },
  {
   "cell_type": "markdown",
   "metadata": {},
   "source": [
    "# <font color='red'>不正确？？"
   ]
  },
  {
   "cell_type": "markdown",
   "metadata": {},
   "source": [
    "**P61。4**"
   ]
  },
  {
   "cell_type": "markdown",
   "metadata": {},
   "source": [
    "**证明：**"
   ]
  },
  {
   "cell_type": "markdown",
   "metadata": {},
   "source": [
    "**充分性：**易知存在$\\varphi(x)$满足$$\\frac{\\frac{\\partial M}{\\partial y}-\\frac{\\partial N}{\\partial x}}{N}=\\frac{-\\frac{\\partial f}{\\partial y}-0}{1}=\\varphi(x)$$$\\Rightarrow$$$\\frac{\\partial f}{\\partial y}=-\\varphi(x)$$设$h(x)$为任意关于$x$可微的函数，对等式两边积分，得：$$f(x,y)=-\\varphi(x)y+h(x)$$$\\Rightarrow$$$\\frac{dy}{dx}=-\\varphi(x)y+h(x)$$$\\therefore dy-f(x,y)dx=0$是线性的"
   ]
  },
  {
   "cell_type": "markdown",
   "metadata": {},
   "source": [
    "**必要性：**设$dy-f(x,y)dx=0$是线性的,即存在函数$g(x),h(x)$使得$$f(x,y)=yg(x)+h(x)$$$\\therefore$$$M=-f(x,y)=-yg(x)-h(x)$$$$N=1$$$$\\frac{\\frac{\\partial M}{\\partial y}-\\frac{\\partial N}{\\partial x}}{N}=\\frac{-g(x)}{1}=-g(x)$$$\\therefore$方程具有只依赖于$x$的积分因子$$\\mu=e^{\\int-g(x){d}x}$$"
   ]
  },
  {
   "cell_type": "markdown",
   "metadata": {},
   "source": [
    "**P61。8**"
   ]
  },
  {
   "cell_type": "markdown",
   "metadata": {},
   "source": [
    "**解：**伯努利方程为：$\\frac{dy}{dx}=p(x)y+q(x)y^n$"
   ]
  },
  {
   "cell_type": "markdown",
   "metadata": {},
   "source": [
    "$\\Rightarrow$$$dy-p(x)ydx-q(x)y^ndx=0$$对方程两边同时乘以$y^{-n}$,得：$$y^{-n}dy-p(x)y^{1-n}dx-q(x)dx=0$$$\\Rightarrow$$$d(y^{1-n})-(1-n)p(x)y^{1-n}dx-(1-n)q(x)dx=0$$对等式左边乘以$e^{-(1-n)\\int p(x){d}x}$得：$$e^{-(1-n)\\int p(x){d}x}[d(y^{1-n})-(1-n)p(x)y^{1-n}dx]-e^{-(1-n)\\int p(x){d}x}(1-n)q(x)dx=0$$$\\Rightarrow$$$d[y^{1-n}e^{-(1-n)\\int p(x){d}x}]-d[\\int(1-n)q(x)e^{-(1-n)\\int p(x){d}x}(1-n)q(x)dx]=0$$这是全微分方程，$\\therefore$所求的积分因子是：$$\\mu=y^{-n}e^{(n-1)\\int p(x){d}x}$$"
   ]
  },
  {
   "cell_type": "markdown",
   "metadata": {},
   "source": [
    "**P69。1**"
   ]
  },
  {
   "cell_type": "markdown",
   "metadata": {},
   "source": [
    "(1)$xy\\prime^3=1+y\\prime$"
   ]
  },
  {
   "cell_type": "markdown",
   "metadata": {},
   "source": [
    "**解：**令$p=\\frac{dy}{dx}$,则$$x=\\frac{1}{p^3}+\\frac{1}{p^2}$$对上式两边同时对$y$求导，得：$$\\frac{1}{p}=\\left(-\\frac{3}{p^4}-\\frac{2}{p^3}\\right)\\frac{dp}{dy}$$$\\Rightarrow$$$(3+2p)dp+p^3dy=0$$对其两边积分，得：$$y=\\frac{3}{2p^2}+\\frac{2}{p}+c$$方程的通解为："
   ]
  },
  {
   "cell_type": "markdown",
   "metadata": {},
   "source": [
    "$$\\left\\{\\begin{array}{c}x=\\frac{1}{p^3}+\\frac{1}{p^2}\\\\y=\\frac{3}{2p^2}+\\frac{2}{p}+c\\end{array}\\right.$$"
   ]
  },
  {
   "cell_type": "markdown",
   "metadata": {},
   "source": [
    "(2)$y\\prime^3-x^3(1-y\\prime)=0$"
   ]
  },
  {
   "cell_type": "markdown",
   "metadata": {},
   "source": [
    "**解：**令$y\\prime=t$,则可得：$$x=\\frac{1}{t}-t^2$$对两边关于$y$求导$$\\frac{1}{1-t^3}=\\left(-\\frac{1}{t^2}-2t\\right)\\frac{dt}{dy}$$$\\Rightarrow$$$dy=[(1-t^3)(-\\frac{1}{t^2}-2)]dt$$对其两边积分$$y=-\\frac{1}{2}t^2+\\frac{2}{5}t^5+\\frac{1}{t}+c$$原方程的通解为："
   ]
  },
  {
   "cell_type": "markdown",
   "metadata": {},
   "source": [
    "$$\\left\\{\\begin{array}{c}x=\\frac{1}{t}-t^2\\\\y=-\\frac{1}{2}t^2+\\frac{2}{5}t^5+\\frac{1}{t}+c\\end{array}\\right.$$"
   ]
  },
  {
   "cell_type": "markdown",
   "metadata": {},
   "source": [
    "(3)$y=y\\prime^2e^{y\\prime}$"
   ]
  },
  {
   "cell_type": "markdown",
   "metadata": {},
   "source": [
    "**解：**令$y\\prime=p$,对$x$求导$$dx=(p+2)e^pdp$$,对上式两边积分，得：$$x=(p+1)e^p+c$$,方程的通解为$$\\left\\{\\begin{array}{c}x=(p+1)e^p+c\\\\y\\prime=p\\end{array}\\right.$$"
   ]
  },
  {
   "cell_type": "markdown",
   "metadata": {},
   "source": [
    "(4)$y(1+y\\prime^2)=2a$($a$为常数)"
   ]
  },
  {
   "cell_type": "markdown",
   "metadata": {},
   "source": [
    "**解：**令$y\\prime=tant$得$$y=2acos^2t$$对上式两边关于$x$求导，得：$$dx=-4acos^2tdt$$对上式两边积分，得：$$x=-a(2t+sin2t+c)$$原方程的通解为$$\\left\\{\\begin{array}{c}x=-a(2t+sin2t+c)\\\\y=2acos^2t\\end{array}\\right.$$"
   ]
  },
  {
   "cell_type": "markdown",
   "metadata": {},
   "source": [
    "(5)$x^2+y\\prime^2=1$"
   ]
  },
  {
   "cell_type": "markdown",
   "metadata": {},
   "source": [
    "**解：**令$y\\prime=cost$,得$$x=sint$$对$y$求导，得：$$\\frac{1}{cost}=cos\\frac{dt}{dy}$$对上式两边积分，得：$$y=\\frac{t}{2}+\\frac{1}{4}sin2t+c$$原方程的通解为$$\\left\\{\\begin{array}{c}x=sint\\\\y=\\frac{t}{2}+\\frac{1}{4}sin2t+c\\end{array}\\right.$$"
   ]
  },
  {
   "cell_type": "markdown",
   "metadata": {},
   "source": [
    "(6)$y^2(y\\prime-1)=(2-y\\prime)^2$"
   ]
  },
  {
   "cell_type": "markdown",
   "metadata": {},
   "source": [
    "**解：**令$2-y\\prime=yt$得:$$y=\\frac{1}{t}-t$$且$$y\\prime=1+t^2$$这是原方程的参数形式，"
   ]
  },
  {
   "cell_type": "markdown",
   "metadata": {},
   "source": [
    "$\\therefore$$$dx=\\frac{dy}{y\\prime}=\\frac{(-\\frac{1}{t^2}-1)dt}{1+t^2}=-\\frac{1}{t^2}dt$$对其两边积分，得：$$x=\\frac{1}{t}+c$$原方程通解为"
   ]
  },
  {
   "cell_type": "markdown",
   "metadata": {},
   "source": [
    "$$\\left\\{\\begin{array}{c}y=\\frac{1}{t}-t\\\\x=\\frac{1}{t}+c\\end{array}\\right.$$"
   ]
  },
  {
   "cell_type": "markdown",
   "metadata": {},
   "source": []
  },
  {
   "cell_type": "markdown",
   "metadata": {},
   "source": [
    "# <font color='red'>A 28/9   证明有问题"
   ]
  },
  {
   "cell_type": "code",
   "execution_count": null,
   "metadata": {
    "collapsed": true
   },
   "outputs": [],
   "source": []
  }
 ],
 "metadata": {
  "kernelspec": {
   "display_name": "SageMath 7.3",
   "language": "",
   "name": "sagemath"
  },
  "language_info": {
   "codemirror_mode": {
    "name": "ipython",
    "version": 2
   },
   "file_extension": ".py",
   "mimetype": "text/x-python",
   "name": "python",
   "nbconvert_exporter": "python",
   "pygments_lexer": "ipython2",
   "version": "2.7.10"
  }
 },
 "nbformat": 4,
 "nbformat_minor": 0
}
