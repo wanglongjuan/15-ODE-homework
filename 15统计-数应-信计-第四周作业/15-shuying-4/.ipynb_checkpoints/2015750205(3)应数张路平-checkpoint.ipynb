{
 "cells": [
  {
   "cell_type": "markdown",
   "metadata": {},
   "source": [
    "$(x+2y)\\mathrm{d}x+x\\mathrm{d}y=0$\n",
    "\n",
    "$M=x+2y  N=x$\n",
    "\n",
    "$\\frac{\\frac{\\partial M}{\\partial y}-\\frac{\\partial N}{\\partial y}}{N}=\\frac{1}{x}$\n",
    "\n",
    "$u=e^(\\ln x)$\n",
    "\n",
    "$(x^2+2xy)\\mathrm{d}x+x^2\\mathrm{d}y=0$\n",
    "\n",
    "$x^3+2x^2y=C$"
   ]
  },
  {
   "cell_type": "markdown",
   "metadata": {},
   "source": [
    "# <font color='red'>结果错误"
   ]
  },
  {
   "cell_type": "markdown",
   "metadata": {},
   "source": [
    "$(y\\cos x-x\\sin x)\\mathrm{d}x+(y\\sin x+x\\cos x)\\mathrm{d}y=0$\n",
    "\n",
    "$\\frac{\\partial M}{\\partial y}=\\cos x$\n",
    "\n",
    "$\\frac{\\partial N}{\\partial x}=y\\cos x+\\cos x\\sin x$\n"
   ]
  },
  {
   "cell_type": "markdown",
   "metadata": {},
   "source": [
    "$9$\n",
    "\n",
    "$M=x\\cos (x+y)+\\sin (x+y)$\n",
    "$N=x\\cos (x+y)$\n",
    "\n",
    "$\\frac{\\partial M}{\\partial y}=-\\sin (x+y)+\\cos (x+y)$\n",
    "$\\frac{\\partial N}{\\partial x}=\\cos (x+y)+x\\sin (x+y)$\n",
    "\n",
    "$\\frac{\\partial u}{\\partial x}=x\\cos (x+y)+y(x)$\n",
    "\n",
    "$y(x)=c$\n",
    "\n",
    "$x\\sin (x+y)+C=0$"
   ]
  },
  {
   "cell_type": "markdown",
   "metadata": {},
   "source": [
    "$11$\n",
    "\n",
    "$x(4y\\mathrm{d}x+2x\\mathrm{d}y)+y^3(3y \\mathrm{d}x+5x\\mathrm{d}y)=0$\n",
    "\n",
    "$\\mathrm{d}(2x^2y)+(3y^4\\mathrm {d}x+5xy^3\\mathrm{d}y)$\n",
    "\n",
    "$\\frac{12y^3-5y^3}{3y^4}=\\frac{7}{3y}$"
   ]
  },
  {
   "cell_type": "markdown",
   "metadata": {},
   "source": [
    "# <font color='red'>没做完"
   ]
  },
  {
   "cell_type": "markdown",
   "metadata": {},
   "source": [
    "$8$\n",
    "\n",
    "$\\frac{\\mathrm{d}y}{\\mathrm{d}x}=p(x)y+q(x)y^n$\n",
    "$y^(-n)\\mathrm {d}y-p(x)y^(1-n)-q(x)\\mathrm {d}x=0$\n",
    "\n",
    "$e^(-(1-n))\\int p(x)\\mathrm{d}x)$\n",
    "\n",
    "$u=y^((-n)e^((n-1)\\int p(x)\\mathrm {d}x))$"
   ]
  },
  {
   "cell_type": "markdown",
   "metadata": {},
   "source": [
    "$1$\n",
    "\n",
    "$\\frac{\\mathrm{d}y}{\\mathrm{d}x}=p$\n",
    "$diff x=\\frac{1}{p^3}+\\frac{1}{p^2}$\n",
    "\n",
    "$\\frac{1}{p}=(-\\frac{3}{p^4}-\\frac{2}{p^3})\\frac{\\mathrm{d}p}{\\mathrm{d}y}$\n",
    "\n",
    "$y=\\frac{3}{2p^2}+\\frac{2}{p}+C$\n",
    "\n",
    "$x=\\frac{1}{p^2}+\\frac{1}{p^2}$\n",
    "\n",
    "$y=\\frac{1}{2p^2}+\\frac{2}{p}+c$"
   ]
  },
  {
   "cell_type": "markdown",
   "metadata": {},
   "source": [
    "$2$\n",
    "\n",
    "$y'=tx$\n",
    "\n",
    "$x^3(t^3-1+tx)=0$\n",
    "\n",
    "$x=\\frac{1}{t}-t^2$\n",
    "\n",
    "$\\frac{1}{1-t^3}=(-\\frac{1}{t^2}-2t)$\n",
    "\n",
    "$y=-\\frac{1}{2}t^2+\\frac{2t^2}{5}+\\frac{1}{t}+c$\n",
    "\n",
    "$x=\\frac {1}{t}-t^2$\n",
    "\n",
    "$y=-\\frac{t^2}{2}+\\frac{2t^5}{5}+\\frac{1}{t}+c$"
   ]
  },
  {
   "cell_type": "markdown",
   "metadata": {},
   "source": [
    "$3$\n",
    "\n",
    "$y=p^2e^p$\n",
    "\n",
    "$p=(2p+p^2)e^p\\frac {\\mathrm{d}p}{\\mathrm{d}x}$\n",
    "\n",
    "$x=(p+1)e^p$\n",
    "\n",
    "$y'=\\tan t$\n",
    "\n",
    "$y=2a\\cos^2 t$\n",
    "\n",
    "$\\tan t=-2a\\sin 2t\\frac{\\mathrm {d}t}{\\mathrm{d}x}$\n",
    "\n",
    "$x=-a(2t+\\sin 2t+c)$\n",
    "\n",
    "$x=-a(2t+\\sin 2t+c)$\n",
    "\n",
    "$y+2a\\cos^2 t$"
   ]
  },
  {
   "cell_type": "markdown",
   "metadata": {},
   "source": [
    "$5$\n",
    "\n",
    "$x^2+\\cos^2 t=1$\n",
    "$x=\\sin t$\n",
    "$\\mathrm{d}y=\\cos^2t \\mathrm {d}t$\n",
    "\n",
    "$x=\\sin t$\n",
    "$y=\\frac{t}{2}+\\frac{\\sin 2t}{4}+c$"
   ]
  },
  {
   "cell_type": "markdown",
   "metadata": {},
   "source": [
    "$6$\n",
    "\n",
    "$y^2(1-yt)=y^2(t^2)$\n",
    "\n",
    "$y't=1+t^2$\n",
    "\n",
    "$\\mathrm{d}x=\\frac{\\mathrm{d}y}{y'}=-\\frac{1}{t^2}\\mathrm{d}t$\n",
    "$y=x-\\frac{1}{x-c}-c$\n",
    "\n",
    "$when y'=o  the equation is unsolvable$"
   ]
  },
  {
   "cell_type": "markdown",
   "metadata": {
    "collapsed": true
   },
   "source": [
    "# <font color='red'>B 28/9 没做完，4题，其中几道题做了一半"
   ]
  },
  {
   "cell_type": "code",
   "execution_count": null,
   "metadata": {
    "collapsed": true
   },
   "outputs": [],
   "source": []
  }
 ],
 "metadata": {
  "kernelspec": {
   "display_name": "SageMath 7.3",
   "language": "",
   "name": "sagemath"
  },
  "language_info": {
   "codemirror_mode": {
    "name": "ipython",
    "version": 2
   },
   "file_extension": ".py",
   "mimetype": "text/x-python",
   "name": "python",
   "nbconvert_exporter": "python",
   "pygments_lexer": "ipython2",
   "version": "2.7.10"
  }
 },
 "nbformat": 4,
 "nbformat_minor": 0
}
