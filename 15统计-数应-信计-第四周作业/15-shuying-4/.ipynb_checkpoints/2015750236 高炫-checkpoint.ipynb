{
 "cells": [
  {
   "cell_type": "markdown",
   "metadata": {},
   "source": [
    "# 1.求下列方程的解："
   ]
  },
  {
   "cell_type": "markdown",
   "metadata": {},
   "source": [
    "\n",
    "### (1)$(x+2y)dx+xdy=0$"
   ]
  },
  {
   "cell_type": "markdown",
   "metadata": {},
   "source": [
    "因为$M=x+2y,N=x,\\frac{\\partial M} {\\partial y}=2,\\frac{\\partial N} {\\partial x}=-1$,所以方程是不恰当的。\n",
    "又因为$\\frac{{\\frac{\\partial M} {\\partial y}}-{\\frac{\\partial N} {\\partial x}}} {N}=\\frac{1} {x}$,所以方程有积分因子$u=e^{\\int\\mathrm{\\frac{1} {x}}\\,\\mathrm{d}x}$"
   ]
  },
  {
   "cell_type": "markdown",
   "metadata": {},
   "source": [
    "方程两边乘以$u=x$得  $$2xydx+x^2dy+x^2dx=0$$\n",
    "即  $$d(x^2y+\\frac{1} {3} x^3)=0$$\n",
    "所以，方程的通解为$x^3+3x^2y=c$"
   ]
  },
  {
   "cell_type": "markdown",
   "metadata": {},
   "source": [
    "### （2）$[x\\cos (x+y)+\\sin (x+y)]dx+x\\cos (x+y)dy=0$"
   ]
  },
  {
   "cell_type": "markdown",
   "metadata": {},
   "source": [
    "因为$M=x\\cos (x+y)+\\sin (x+y),N=x\\cos (x+y)$,\n",
    "$$\\frac{\\partial M} {\\partial y}=-x\\sin (x+y)+\\cos (x+y),\\frac{\\partial N} {\\partial x}=\\cos (x+y)-x\\sin (x+y)$$"
   ]
  },
  {
   "cell_type": "markdown",
   "metadata": {},
   "source": [
    "所以方程是恰当的，并且方程可以写为\n",
    "$$d(x\\sin (x+y)=0$$\n",
    "于是方程的通解为$$x\\sin (x+y)=c$$"
   ]
  },
  {
   "cell_type": "markdown",
   "metadata": {},
   "source": [
    "### (3)$(y\\cos x-x\\sin x)dx+(y\\sin x+x\\cos x)dy=0$"
   ]
  },
  {
   "cell_type": "markdown",
   "metadata": {},
   "source": [
    "因为$M=y\\cos x-x\\sin x,N=y\\sin x+x\\cos x$,\n",
    "$$\\frac{\\partial M} {\\partial y}=\\cos x,\\frac{\\partial N} {\\partial x}=y\\cos x+\\cos x-x\\sin x$$\n",
    "所以方程是不恰当的"
   ]
  },
  {
   "cell_type": "markdown",
   "metadata": {},
   "source": [
    "因为$\\frac{{\\frac{\\partial M} {\\partial y}}-{\\frac{\\partial N} {\\partial x}}} {M}=1$,所以积分因子为$u=e^{\\int\\mathrm 1\\,\\mathrm{d}y}=e^y$"
   ]
  },
  {
   "cell_type": "markdown",
   "metadata": {},
   "source": [
    "方程两边同乘以$u=e^y$得$d[(y-1)e^y\\sin x+e^yx\\cos x]=0$\n"
   ]
  },
  {
   "cell_type": "markdown",
   "metadata": {},
   "source": [
    "于是方程的通解为$$e^xx\\cos x+e^y(y-1)\\sin x=c$$"
   ]
  },
  {
   "cell_type": "markdown",
   "metadata": {},
   "source": [
    "### (4)$x(4ydx+2xdy)+y^3(3ydx+5xdy)=0$"
   ]
  },
  {
   "cell_type": "markdown",
   "metadata": {},
   "source": [
    "因为$x(4ydx+2xdy)=d(2x^2y)$,对于方程$y^3(3ydx+5xdy)=0$,有\n",
    "$$M=3y^4,N=5xy^3,\\frac{\\partial M} {\\partial y}=12y^3,\\frac{\\partial N} {\\partial x}=5y^3$$"
   ]
  },
  {
   "cell_type": "markdown",
   "metadata": {},
   "source": [
    "所以方程式不恰当的\n",
    "同理可得，方程的通解为$$8x^2y+5x^{\\frac{12} {5}}y^4=c$$"
   ]
  },
  {
   "cell_type": "markdown",
   "metadata": {},
   "source": [
    "# <font color='red'>错误？？？"
   ]
  },
  {
   "cell_type": "markdown",
   "metadata": {},
   "source": [
    "# 2.设f(x,y)及$\\frac{\\partial f} {\\partial y}$连续，试证方程$dy-f(x,y)dx=0$为线性微分方程的充要条件是它有仅依赖于x的积分因子"
   ]
  },
  {
   "cell_type": "markdown",
   "metadata": {},
   "source": [
    "证：充分性:设方程$dy-f(x,y)dx=0$有仅依赖于x的积分因子，\n",
    "因为积分因子依赖于x，所以存在某个$\\varphi(x)$满足\n",
    "$$\\frac{{\\frac{\\partial M} {\\partial y}}-{\\frac{\\partial N} {\\partial x}}} {N}=\\frac{-\\frac{\\partial f} {\\partial y}} {1}=\\varphi(x)$$\n",
    "即$$\\frac{\\partial f} {\\partial y}=-\\varphi(x)$$\n",
    "对上式两边积分后得$f(x,y)=-\\varphi(x)+h(x)$,"
   ]
  },
  {
   "cell_type": "markdown",
   "metadata": {},
   "source": [
    "这里h(x)是关于x的任意可微函数，所以，原方程可以成\n",
    "$$\\frac{dy} {dx}=-\\varphi(x)y+h(x)$$,\n",
    "这就证明了$dy-f(x,y)dx=0$是线性的."
   ]
  },
  {
   "cell_type": "markdown",
   "metadata": {},
   "source": [
    "必要性：设方程$dy-f(x,y)dx=0$是线性微分方程，即存在函数g(x),h(x)使得\n",
    "$$f(x,y)=yg(x)+h(x)$$\n",
    "这样$M=-f(x，y),N=1$,\n",
    "$$\\frac{{\\frac{\\partial M} {\\partial y}}-{\\frac{\\partial N} {\\partial x}}} {N}=\\frac{-g(x)} {1}=-g(x)$$\n",
    "所以方程具有积分因子$$u=e^{\\int\\mathrm{-g(x)}\\,\\mathrm{d}x}$$\n",
    "这就证明了方程有仅依赖于x的积分因子"
   ]
  },
  {
   "cell_type": "markdown",
   "metadata": {},
   "source": [
    "# 3.求出伯努利微分方程的积分因子"
   ]
  },
  {
   "cell_type": "markdown",
   "metadata": {},
   "source": [
    "伯努利方程为：$\\frac{dy} {dx}=p(x)y+q(x)y^n$\n",
    "#### 使该方程两边同时乘以$y^{-n}$和$e^{-(1-n)\\int\\mathrm{p(x)}\\,\\mathrm{d}x}$得\n"
   ]
  },
  {
   "cell_type": "markdown",
   "metadata": {},
   "source": [
    "经过一系列化简可得$$e^{-(1-n)\\int\\mathrm{p(x)}\\,\\mathrm{d}x}[d(y^{1-n})-(1-n)p(x)y^{1-n}dx]-e^{-(1-n)\\int\\mathrm{p(x)}\\,\\mathrm{d}x}(1-n)q(x)dx=0$$\n",
    "即$$d[y^{1-n}e^{-(1-n)\\int\\mathrm{p(x)}\\,\\mathrm{d}x}]-d[\\int\\mathrm{(1-n)q(x)e^{-(1-n)\\int\\mathrm{p(x)}\\,\\mathrm{d}x}(1-n)q(x)}\\,\\mathrm{d}x]=0$$\n",
    "这是全微分方程，因此所求的积分因子是$$u=y^{-n}e^{(n-1)\\int\\mathrm{p(x)}\\,\\mathrm{d}x}$$\n"
   ]
  },
  {
   "cell_type": "markdown",
   "metadata": {},
   "source": [
    "# 1.求下列方程："
   ]
  },
  {
   "cell_type": "markdown",
   "metadata": {},
   "source": [
    "### （1）$xy'^3=1+y'$"
   ]
  },
  {
   "cell_type": "markdown",
   "metadata": {},
   "source": [
    "令$\\frac{dy} {dx}=p$，代入方程得$$x=\\frac{1} {p^3}+\\frac{1} {p^2}\\not=0$$\n",
    "两边同时求导得$$(3+2p)dp+p^3dy=0$$\n",
    "两边积分得$$y=\\frac{3} {2p^2}+\\frac{2} {p}+c$$\n",
    "则方程的通解为\n",
    "$$\n",
    "\\begin{cases}\n",
    "x=\\frac{1} {p^3}+\\frac{1} {p^2}\\\\y=\\frac{1} {2p^2}+\\frac{2} {p}+c\n",
    "\\end{cases}\n",
    "$$"
   ]
  },
  {
   "cell_type": "markdown",
   "metadata": {},
   "source": [
    "### (2)$y'^3-x^3(1-y)=0$"
   ]
  },
  {
   "cell_type": "markdown",
   "metadata": {},
   "source": [
    "令$y'=tx$,则可化为$$x=\\frac{1} {x}-t^2$$\n",
    "两边对y求导得$$\\frac{1} {1-t^3}=(-{\\frac{1} {t^2}}-2t)\\frac{dt} {dy}$$\n",
    "两边积分得$$y=-{\\frac{1} {2}}{t^2}+\\frac{2} {5}{t^5}+\\frac{1} {t}+c$$\n",
    "故方程的通解为\n",
    "$$\n",
    "\\begin{cases}\n",
    "x=\\frac{1} {t}-t^2\\\\y=-{\\frac{1} {2}}{t^2}+\\frac{2} {5}{t^5}+\\frac{1} {t}+c\n",
    "\\end{cases}\n",
    "$$\n"
   ]
  },
  {
   "cell_type": "markdown",
   "metadata": {},
   "source": [
    "### (3)$y=y'^2e^{y'}$"
   ]
  },
  {
   "cell_type": "markdown",
   "metadata": {},
   "source": [
    "令$y'=p$,则原方程可化为$$y=p^2e^p$$\n",
    "对x求导数得，$$p=(2p+p^2)e^p{\\frac{dp} {dx}}$$\n",
    "两边积分得$$x=(p+1)e^p+c$$\n",
    "因此，方程的通解为\n",
    "$$\n",
    "\\begin{cases}\n",
    "x=(p+1)e^p+c\\\\y=p^2e^p\n",
    "\\end{cases}\n",
    "$$"
   ]
  },
  {
   "cell_type": "markdown",
   "metadata": {},
   "source": [
    "###  (4)$y(1+y'^2)=2a$(a为常数)"
   ]
  },
  {
   "cell_type": "markdown",
   "metadata": {},
   "source": [
    "令$y'=\\tan t$,则原方程为$$y=2a\\cos^2 t$$\n",
    "两边对x求导得$$\\tan t=-2a\\sin 2t\\frac{dt} {dx}$$\n",
    "两边积分得$$x=-a(2t+\\sin 2t+c)$$\n",
    "因此，方程的通解为\n",
    "$$\n",
    "\\begin{cases}\n",
    "x=-a(2t+\\sin 2t+c)\\\\y=2a\\cos^2 t\n",
    "\\end{cases}\n",
    "$$"
   ]
  },
  {
   "cell_type": "markdown",
   "metadata": {},
   "source": [
    "### (5)$x^2+y'^2=1$"
   ]
  },
  {
   "cell_type": "markdown",
   "metadata": {},
   "source": [
    "令$y'=\\cos t$,则原方程化为$$x=\\sin t$$\n",
    "对y求导得$$\\frac{1} {\\cos t}=\\cos {\\frac{dt} {dy}}$$\n",
    "两边积分得$$y=\\frac{t} {2}+{\\frac{1} {4}}\\sin 2t+c$$\n",
    "因此，方程的通解为\n",
    "$$\n",
    "\\begin{cases}\n",
    "x=\\sin t\\\\y=\\frac{t} {2}+{\\frac{1} {4}}\\sin 2t+c\n",
    "\\end{cases}\n",
    "$$"
   ]
  },
  {
   "cell_type": "markdown",
   "metadata": {},
   "source": [
    "### (6)$y^2(y'-1)=(2-y')^2$"
   ]
  },
  {
   "cell_type": "markdown",
   "metadata": {},
   "source": [
    "令$2-y'=yt$,则原方程化为$$y=\\frac{1} {t}-t$$\n",
    "又因为$y'=1+t^2$是原方程的微分方程的参数形式，所以两边积分得$$x=\\frac{1} {t}+c\n",
    "于是求得方程的参数形式的通解为\n",
    "$$\n",
    "\\begin{cases}\n",
    "x=\\frac{1} {t}+c\\\\y={\\frac{1} {t}}-t\n",
    "\\end{cases}\n",
    "$$\n",
    "当y'=0时，原方程变为-{y^2}=4,此时方程无解$$"
   ]
  },
  {
   "cell_type": "markdown",
   "metadata": {
    "collapsed": true
   },
   "source": [
    "# <font color='red'>A 28/9"
   ]
  },
  {
   "cell_type": "code",
   "execution_count": null,
   "metadata": {
    "collapsed": true
   },
   "outputs": [],
   "source": []
  }
 ],
 "metadata": {
  "kernelspec": {
   "display_name": "SageMath 7.3",
   "language": "",
   "name": "sagemath"
  },
  "language_info": {
   "codemirror_mode": {
    "name": "ipython",
    "version": 2
   },
   "file_extension": ".py",
   "mimetype": "text/x-python",
   "name": "python",
   "nbconvert_exporter": "python",
   "pygments_lexer": "ipython2",
   "version": "2.7.10"
  }
 },
 "nbformat": 4,
 "nbformat_minor": 0
}
