{
 "cells": [
  {
   "cell_type": "markdown",
   "metadata": {},
   "source": [
    "# $$常微分作业<三>$$"
   ]
  },
  {
   "cell_type": "markdown",
   "metadata": {},
   "source": [
    "## 姓名：李卓洁                                                                           学号：2015750116"
   ]
  },
  {
   "cell_type": "markdown",
   "metadata": {},
   "source": [
    "## 2,求下列方程的解："
   ]
  },
  {
   "cell_type": "markdown",
   "metadata": {},
   "source": [
    "## (8)$(x+2y)*d x+x*d y=0$\n",
    "\n",
    "$解：令M=x+2y,N=x,\\frac{\\partial M}{\\partial y}=2,\\frac{\\partial N}{\\partial x}=1$\n",
    "\n",
    "$所以方程不是恰当方程。$\n",
    "\n",
    "$因为\\frac{\\frac{\\partial M}{\\partial y}-\\frac{\\partial N}{\\partial x}}{N}=\\frac{1}{x}$\n",
    "\n",
    "$所以方程有积分因子\\mu=e^{\\int frac{1}{x}\\mathrm d x}=x$\n",
    "\n",
    "$方程两边同乘以\\mu=x得：2xy*d x+x^2*d y+x^2*d x=0$\n",
    "\n",
    "$即d(x^2y+\\frac{1}{3}x^3)=0$\n",
    "\n",
    "$所以方程的通解为x^3+3x^2y=c,（c为任意常数）$"
   ]
  },
  {
   "cell_type": "markdown",
   "metadata": {},
   "source": [
    "## (9)$[xcos(x+y)+sin(x+y)]*d x+xcos(x+y）*d y=0$\n",
    "\n",
    "$解：令M=xcos(x+y)+sin(x+y),N=xcos(x+y）,\\frac{\\partial M}{\\partial y}=-xsin(x+y)+cos(x+y）,\\frac{\\partial N}{\\partial x}=cos(x+y）-xsin(x+y)$\n",
    "\n",
    "$所以方程是恰当方程$\n",
    "\n",
    "$原方程可转化为：d(xsin(x+y))=0$\n",
    "\n",
    "$所以方程的通解为xsin(x+y)=c,（c为任意常数）$"
   ]
  },
  {
   "cell_type": "markdown",
   "metadata": {},
   "source": [
    "## (10)$(y\\cos x-x\\sin x)\\mathrm d x+(y\\sin x+x\\cos x)\\mathrm d y=0$\n",
    "\n",
    "$解：令M=y\\cos x-x\\sin x,N=y\\sin x+x\\cos x，\\frac{\\partial M}{\\partial y}≠\\frac{\\partial N}{\\partial x}$\n",
    "\n",
    "$所以方程不是恰当方程。$\n",
    "\n",
    "$因为\\frac{\\frac{\\partial M}{\\partial y}-\\frac{\\partial N}{\\partial x}}{M}=1$\n",
    "\n",
    "$所以方程有积分因子\\mu=e^{\\int1\\mathrm d y}=e^y$\n",
    "\n",
    "$方程两边同乘以\\mu=e^y得[(y-1)e^y\\cos x\\mathrm d x+ye^y\\sin x\\mathrm d y]+(e^yx\\cos x\\mathrm d y-e^yx\\sin x\\mathrm d x+e^y\\cos x\\mathrm d x)=0$\n",
    "\n",
    "$即\\mathrm d[(y-1)e^y\\sin x+e^yx\\cos x]=0$\n",
    "\n",
    "$所以方程的通解为(y-1)e^y\\sin x+e^yx\\cos x=c,（c为任意常数）$\n"
   ]
  },
  {
   "cell_type": "markdown",
   "metadata": {},
   "source": [
    "## (11)$x(4y\\mathrm d x+2x\\mathrm d y)+y^3(3y\\mathrm d x+5x\\mathrm d y)=0$\n",
    "\n",
    "$解：因为x(4y\\mathrm d x+2x\\mathrm d y)=\\mathrm d(2x^2y)$\n",
    "\n",
    "$对于方程y^3(3y\\mathrm d x+5x\\mathrm d y)=0,如上题所示可求出其不是恰当方程。$\n",
    "\n",
    "$因为\\frac{\\frac{\\partial M}{\\partial y}-\\frac{\\partial N}{\\partial x}}{N}=\\frac{7}{5x}$\n",
    "\n",
    "$所以方程有积分因子\\mu=e^{\\int\\frac{7}{5x}\\mathrm d x}=x^{\\frac{7}{5}}$\n",
    "\n",
    "$方程两边同乘以\\mu=x^{\\frac{7}{5}}得3y^4x^{\\frac{7}{5}}\\mathrm d x+5x^{\\frac{12}{5}}y^3\\mathrm d y=0$\n",
    "\n",
    "$即\\mathrm d(\\frac{5}{4}x^{\\frac{12}{5}}y^4)=0$\n",
    "\n",
    "$所以方程的通解为2x^2y+\\frac{5}{4}x^{\\frac{12}{5}}y^4=c,（c为任意常数）$\n"
   ]
  },
  {
   "cell_type": "markdown",
   "metadata": {},
   "source": [
    "## 4，设$f(x,y)$及$\\frac{\\partial f}{\\partial y}$连续，试证方程$\\mathrm d y-f(x,y)\\mathrm d x=0$为线性微分方程的充要条件是它有仅依赖于x的积分因子。\n",
    "\n",
    "解：\n",
    "\n",
    "必要性：设方程$\\mathrm d y-f(x,y)\\mathrm d x=0$是线性微分方程，\n",
    "\n",
    "即存在函数$g(x),h(x)，使得 $f(x,y)=yg(x)+h(x)$\n",
    "\n",
    "$于是，令M=-f(x,y)=-yg(x)-h(x),N=1,$\n",
    "\n",
    "$\\frac{\\frac{\\partial M}{\\partial y}-\\frac{\\partial N}{\\partial x}}{N}=\\frac{-g(x)}{1}=-g(x),$\n",
    "\n",
    "$所以方程有积分因子\\mu=e^{\\int-g(x)\\mathrm d x}$\n",
    "\n",
    "所以方程有仅依赖于x的积分因子。\n",
    "\n",
    "充分性：因为积分因子依赖于x\n",
    "\n",
    "所以存在某个$\\psi(x)$满足$\\frac{\\frac{\\partial M}{\\partial y}-\\frac{\\partial N}{\\partial x}}{N}=\\frac{-\\frac{\\partial f}{\\partial y}-0}{1}=\\psi(x)$\n",
    "\n",
    "$即\\frac{\\partial f}{\\partial y}=-\\psi(x),$\n",
    "\n",
    "$对上式两边积分后得f(x,y)=-\\psi（x)y+h(x),h(x)是关于x的任意可微函数$\n",
    "\n",
    "$所以，原方程可以为\\frac{\\mathrm y}{\\mathrm x}=-\\psi（x)y+h(x),$\n",
    "\n",
    "$所以\\mathrm d y-f(x,y)\\mathrm d x=0$是线性的。"
   ]
  },
  {
   "cell_type": "markdown",
   "metadata": {},
   "source": [
    "## 8,求出伯努利微分方程的积分因子。\n",
    "\n",
    "$解：伯努利微分方程为 \\frac{dy}{dx}=P(x)y+Q(x)y^n$\n",
    "\n",
    "$两边同时乘以 y^(-n),得\\frac{d(\\frac{1}{y^{n-1}})}{dx}=\\frac{(1-n)P(x)}{y^n-1}+(1-n)Q(x)$\n",
    "\n",
    "$令\\frac{1}{y^{n-1}}=Z,(1-n)P(x)=P_1(x),(1-n)Q(x)=Q_1(x)$\n",
    "\n",
    "$替代转化为：[P_1(x)Z+Q_1(x)]dx-dZ=0$\n",
    "\n",
    "设$\\mu(x,Z)为方程[P_1(x)Z+Q_1(x)]dx-dZ=0的积分因子$\n",
    "\n",
    "$则\\frac{\\partial \\mu}{\\partial Z}(P_1(x)Z+Q_1(x))+\\mu(P_1(x))=-\\frac{\\partial \\mu}{\\partial x}$\n",
    "\n",
    "$令\\frac{\\partial \\mu}{\\partial Z}=0,则-\\frac{d\\mu}{\\mu}=P_1(x)dx$\n",
    "\n",
    "$两边同时积分得到\\mu=ce^{-\\int P_1(x) dx}即\\mu=ce^{-(1-n)\\int P(x) dx}$"
   ]
  },
  {
   "cell_type": "markdown",
   "metadata": {},
   "source": [
    "# <font color='red'>$\\mu=y^{-n}e^{-(1-n)\\int P(x) dx}$"
   ]
  },
  {
   "cell_type": "markdown",
   "metadata": {},
   "source": [
    "# 1,求解下列方程"
   ]
  },
  {
   "cell_type": "markdown",
   "metadata": {},
   "source": [
    "## (1)$xy\\prime^3=1+y\\prime$\n",
    "\n",
    "$解：令：y\\prime=p$\n",
    "\n",
    "$则原式转化为xp^3=1+p,x=\\frac{1+p}{p^3}≠0$\n",
    "\n",
    "则$dy=pdx,dy=(-\\frac{2}{p^2}-\\frac{3}{p^3}）dp$\n",
    "\n",
    "$两边同时积分得到y=\\frac{3}{2p^2}+\\frac{2}{p}+c，(c为任意常数）$\n",
    "\n",
    "所以方程的通解为\n",
    "$\n",
    "\\begin{cases}\n",
    "x=\\frac{1+p}{p^3},\\\\\n",
    "y=\\frac{3}{2p^2}+\\frac{2}{p}+c,\\\\\n",
    "\\end{cases}\n",
    "$\n",
    "其中$p≠0$\n",
    "\n"
   ]
  },
  {
   "cell_type": "markdown",
   "metadata": {},
   "source": [
    "## (2)${y^\\prime}^3-x^3(1-y^\\prime)=0$\n",
    "\n",
    "$解：令y^\\prime=xt$\n",
    "\n",
    "$则方程转化为：t^3x^3-x^3(1-xt)=0$\n",
    "\n",
    "$x=\\frac{1-t^3}{t},y^\\prime=1-t^3$\n",
    "\n",
    "$\\mathrm d y=y^\\prime\\mathrm d x=(2t^4-t-\\frac{1}{t^2})\\mathrm d t$\n",
    "\n",
    "$因此y=\\frac{2t^5}{5}-\\frac{t^2}{2}+\\frac{1}{t}+c，(c为任意常数）$\n",
    "\n",
    "所以方程的通解为\n",
    "$\n",
    "\\begin{cases}\n",
    "x=\\frac{1-t^3}{t},y^\\prime=1-t^3,\\\\\n",
    "y=\\frac{2t^5}{5}-\\frac{t^2}{2}+\\frac{1}{t}+c,\\\\\n",
    "\\end{cases}\n",
    "$\n"
   ]
  },
  {
   "cell_type": "markdown",
   "metadata": {},
   "source": [
    "## (3)$y={y^\\prime}^2e^{y^\\prime}$\n",
    "\n",
    "$解：显然y=0是方程的一个解$\n",
    "\n",
    "当$y≠0$时，令$y^\\prime=p$则原方程变为$y=p^2e^p$,\n",
    "\n",
    "$两边对x求导，得p=(2p+p^2)e^p\\frac{\\mathrm d p}{\\mathrm d x}即\\mathrm d x=(p+2)e^p\\mathrm d p$\n",
    "\n",
    "$两边积分，得x=(p+1)e^p+c，(c为任意常数）$\n",
    "\n",
    "所以方程的通解为\n",
    "$\n",
    "\\begin{cases}\n",
    "x=(p+1)e^p+c,\\\\\n",
    "y=p^2e^p,\\\\\n",
    "\\end{cases}\n",
    "$"
   ]
  },
  {
   "cell_type": "markdown",
   "metadata": {},
   "source": [
    "## (4)$y(1+{y^\\prime}^2)=2a(a为常数)$\n",
    "\n",
    "$解：显然y=2a$是方程的一个解\n",
    "\n",
    "当$y≠2a$时，令$y^\\prime=\\tan t，y=2a\\cos^2 t$\n",
    "\n",
    "$因为\\mathrm d y=y^\\prime \\mathrm d x$\n",
    "\n",
    "$所以\\mathrm d x=-4a\\cos^2 t\\mathrm dt，x=-a(2t+\\sin 2t)+c，(c为任意常数）$\n",
    "\n",
    "所以方程的通解为\n",
    "$\n",
    "\\begin{cases}\n",
    "x=-a(2t+\\sin 2t)+c\\\\\n",
    "y=2a\\cos^2 t\\\\\n",
    "\\end{cases}\n",
    "$"
   ]
  },
  {
   "cell_type": "markdown",
   "metadata": {},
   "source": [
    "## (5)$x^2+{y^\\prime}^2=1$\n",
    "\n",
    "$解：令y^\\prime=\\cos t,则x=\\sin t$\n",
    "\n",
    "$所以\\mathrm d y=\\cos t\\mathrm d x=(cost)^2\\mathrm d t$\n",
    "\n",
    "$两边同时积分得到y=\\frac{t}{2}+\\frac{\\sin 2t}{4}+c，(c为任意常数）$\n",
    "\n",
    "所以方程的通解为\n",
    "$\n",
    "\\begin{cases}\n",
    "x=\\sin t\\\\\n",
    "y=\\frac{t}{2}+\\frac{\\sin 2t}{4}+c\\\\\n",
    "\\end{cases}\n",
    "$"
   ]
  },
  {
   "cell_type": "markdown",
   "metadata": {},
   "source": [
    "## (6)y2(y′−1)=(2−y′)2\n",
    "\n",
    "$解：令2-y\\prime=yt，则y^2(1-yt)=y^2t^2$\n",
    "\n",
    "$所以y=\\frac{1}{t}-t,y^\\prime=1+t^2，dx=\\frac{\\mathrm d y}{y^\\prime}=-\\frac{1}{t^2}dt$\n",
    "\n",
    "$两边同时积分得到x=\\frac{1}{t}+c，(c为任意常数）$\n",
    "\n",
    "所以方程的通解为\n",
    "$\n",
    "\\begin{cases}\n",
    "x=\\frac{1}{t}+c\\\\\n",
    "y=\\frac{1}{t}-t\\\\\n",
    "\\end{cases}\n",
    "$\n",
    "\n",
    "此外，当$y^\\prime=0$时，原式变为$y^2=-4$，此时方程无解。"
   ]
  },
  {
   "cell_type": "markdown",
   "metadata": {
    "collapsed": true
   },
   "source": [
    "# <font color='red'>A 26/9\n"
   ]
  },
  {
   "cell_type": "code",
   "execution_count": null,
   "metadata": {
    "collapsed": true
   },
   "outputs": [],
   "source": []
  }
 ],
 "metadata": {
  "kernelspec": {
   "display_name": "SageMath 7.3",
   "language": "",
   "name": "sagemath"
  },
  "language_info": {
   "codemirror_mode": {
    "name": "ipython",
    "version": 2
   },
   "file_extension": ".py",
   "mimetype": "text/x-python",
   "name": "python",
   "nbconvert_exporter": "python",
   "pygments_lexer": "ipython2",
   "version": "2.7.10"
  }
 },
 "nbformat": 4,
 "nbformat_minor": 0
}
