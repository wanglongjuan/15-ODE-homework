{
 "cells": [
  {
   "cell_type": "markdown",
   "metadata": {},
   "source": [
    "## P61 2.求下列方程的解"
   ]
  },
  {
   "cell_type": "markdown",
   "metadata": {},
   "source": [
    "**$(8)(x+2y) \\mathrm d x+x \\mathrm d y=0;$**"
   ]
  },
  {
   "cell_type": "markdown",
   "metadata": {},
   "source": [
    "**$M=x+2y,N=x$**"
   ]
  },
  {
   "cell_type": "markdown",
   "metadata": {},
   "source": [
    "**因为$ \\frac{\\partial M}{\\partial y}=2,\\frac{\\partial N}{\\partial x}=1$,即说明$\\frac{\\partial M}{\\partial y}\\not =\\frac{\\partial N}{\\partial x}$,所以该方程不是恰当微分方程。**"
   ]
  },
  {
   "cell_type": "markdown",
   "metadata": {},
   "source": [
    "**而$\\frac{\\frac{\\partial M}{\\partial y}-\\frac{\\partial N}{\\partial x}}{N}=\\frac{1}{x}$是只与x有关的方程，即可求得积分因子$u={e}^{\\int\\ \\frac{1}{x}\\,\\mathrm {d}x}={e}^{ln|x|}=x$.**"
   ]
  },
  {
   "cell_type": "markdown",
   "metadata": {},
   "source": [
    "**用$\\mu=x$乘方程两边，即：**"
   ]
  },
  {
   "cell_type": "markdown",
   "metadata": {},
   "source": [
    "$x(x+2y) \\mathrm d x+x^2 \\mathrm d y=0$"
   ]
  },
  {
   "cell_type": "markdown",
   "metadata": {},
   "source": [
    "$(x^2+2xy) \\mathrm d x+x^2 \\mathrm d y=0$"
   ]
  },
  {
   "cell_type": "markdown",
   "metadata": {},
   "source": [
    "$x^2 \\mathrm d x+2xy \\mathrm d x+x^2 \\mathrm d y =0$"
   ]
  },
  {
   "cell_type": "markdown",
   "metadata": {},
   "source": [
    "$\\mathrm d (\\frac{x^3}{3}+x^2 y)=0$"
   ]
  },
  {
   "cell_type": "markdown",
   "metadata": {},
   "source": [
    "**所以可以得到通解为:$\\frac{x^3}{3}+x^2 y=c$.**"
   ]
  },
  {
   "cell_type": "markdown",
   "metadata": {},
   "source": [
    "**(9)$[x \\cos (x+y)+\\sin (x+y)] \\mathrm d x+x \\cos (x+y) \\mathrm d y =0$**"
   ]
  },
  {
   "cell_type": "markdown",
   "metadata": {},
   "source": [
    "**已知：$M=x \\cos (x+y)+\\sin (x+y),N=x \\cos (x+y)$**"
   ]
  },
  {
   "cell_type": "markdown",
   "metadata": {},
   "source": [
    "**经过求解：$\\frac{\\partial M}{\\partial y}=-x \\sin (x+y)+\\cos (x+y)$**"
   ]
  },
  {
   "cell_type": "markdown",
   "metadata": {},
   "source": [
    "$\\frac{\\partial N}{\\partial x}=\\cos (x+y)-x \\sin (x+y)$"
   ]
  },
  {
   "cell_type": "markdown",
   "metadata": {},
   "source": [
    "**由于$\\frac{\\partial M}{\\partial y}=\\frac{\\partial N}{\\partial x}$,所以该方程为恰当微分方程。**"
   ]
  },
  {
   "cell_type": "markdown",
   "metadata": {},
   "source": [
    "**原式=$\\mathrm d [x \\sin (x+y)]=0$,即可得通解为：$x \\sin (x+y)=c$**"
   ]
  },
  {
   "cell_type": "markdown",
   "metadata": {},
   "source": [
    "**(10)$(y \\cos x-x \\sin x)\\mathrm d x+(y \\sin x+x \\cos x)\\mathrm d y=0$**"
   ]
  },
  {
   "cell_type": "markdown",
   "metadata": {},
   "source": [
    "**已知：$M=y \\cos x-x \\sin x,N=y \\sin x+x \\cos x$**"
   ]
  },
  {
   "cell_type": "markdown",
   "metadata": {},
   "source": [
    "**经过求解可以得到：$\\frac{\\partial M}{\\partial y}=\\cos x ,\\frac{\\partial N}{\\partial x}=y \\cos x+\\cos x-x \\sin x$**"
   ]
  },
  {
   "cell_type": "markdown",
   "metadata": {},
   "source": [
    "**由于$\\frac{\\partial M}{\\partial y}\\not = \\frac{\\partial N}{\\partial x}$，所以该方程不是恰当微分方程。**"
   ]
  },
  {
   "cell_type": "markdown",
   "metadata": {},
   "source": [
    "**而$\\frac{\\frac{\\partial M}{\\partial y}-\\frac{\\partial N}{\\partial x}}{-M}=1$,可求得积分因子$\\mu={e}^{\\int\\ 1\\,\\mathrm {d}y}=e^y$**"
   ]
  },
  {
   "cell_type": "markdown",
   "metadata": {},
   "source": [
    "**用u乘以方程的两边，即:$e^y(y \\cos x-x \\sin x)\\mathrm d x+e^y(y \\sin x+x \\cos x)\\mathrm d y=0$**"
   ]
  },
  {
   "cell_type": "markdown",
   "metadata": {},
   "source": [
    "$\\frac{\\partial u}{\\partial x}=e^y(y \\cos x-x \\sin x)$ **(1)**"
   ]
  },
  {
   "cell_type": "markdown",
   "metadata": {},
   "source": [
    "$\\frac{\\partial u}{\\partial y}=e^y(y \\sin x+x \\cos x)$**(2)**"
   ]
  },
  {
   "cell_type": "markdown",
   "metadata": {},
   "source": [
    "**对（1）两边积分可以得到$u=e^y(y \\sin x+x \\cos x+\\sin x)+\\varphi (y)$**  **（3）**"
   ]
  },
  {
   "cell_type": "markdown",
   "metadata": {},
   "source": [
    "**则$\\frac{\\partial u}{\\partial y}=e^y(y \\sin x+x \\cos x+\\sin x)+\\sin x e^y+\\frac{\\mathrm d \\varphi (y)}{\\mathrm d y}=e^y(y \\sin x+x \\cos x)$**"
   ]
  },
  {
   "cell_type": "markdown",
   "metadata": {},
   "source": [
    "$\\frac{\\mathrm d \\varphi (y)}{\\mathrm d y}=-2 \\sin x e^y$"
   ]
  },
  {
   "cell_type": "markdown",
   "metadata": {},
   "source": [
    "$\\varphi (y)=-2 \\sin x e^y$"
   ]
  },
  {
   "cell_type": "markdown",
   "metadata": {},
   "source": [
    "**带回（3）即可得到:$u=e^y((y-1) \\sin x+x \\cos x)$**"
   ]
  },
  {
   "cell_type": "markdown",
   "metadata": {},
   "source": [
    "**所以可以得到通解为：$e^y[(y-1) \\sin x+x \\cos x]=c$**"
   ]
  },
  {
   "cell_type": "markdown",
   "metadata": {},
   "source": [
    "**(11)$x(4y \\mathrm d x+2x \\mathrm d y)+y^3(3y \\mathrm d x+5x \\mathrm d y)=0$**"
   ]
  },
  {
   "cell_type": "markdown",
   "metadata": {},
   "source": [
    "**两边同时乘以$x^2y$**"
   ]
  },
  {
   "cell_type": "markdown",
   "metadata": {},
   "source": [
    "$x^3y(4y \\mathrm d x+2x \\mathrm d y)+x^2y^4(3y \\mathrm d x+5x \\mathrm d y)=0$"
   ]
  },
  {
   "cell_type": "markdown",
   "metadata": {},
   "source": [
    "$(4x^3y^2+3x^2y^5)\\mathrm d x+(2x^4y+5x^3y^4)\\mathrm d y=0$"
   ]
  },
  {
   "cell_type": "markdown",
   "metadata": {},
   "source": [
    "**这时$\\frac{\\partial M}{\\partial y}=\\frac{\\partial N}{\\partial x}$**"
   ]
  },
  {
   "cell_type": "markdown",
   "metadata": {},
   "source": [
    "$\\frac{\\partial u}{\\partial x}=4x^3y^2+3x^2y^5$ **(1)**\n",
    "$\\frac{\\partial u}{\\partial y}=2x^4y+5x^3y^4$   **(2)**"
   ]
  },
  {
   "cell_type": "markdown",
   "metadata": {},
   "source": [
    "**对（1）式两边积分可以得到：**"
   ]
  },
  {
   "cell_type": "markdown",
   "metadata": {},
   "source": [
    "$u=y^2x^4+y^5x^3+\\varphi (y)$"
   ]
  },
  {
   "cell_type": "markdown",
   "metadata": {},
   "source": [
    "**与（2）式结合可以得到：$2x^4y+5x^3y^4=2x^4y+5x^3y^4+\\frac{\\mathrm d \\varphi (y)}{\\mathrm d y}$**\n",
    "\n"
   ]
  },
  {
   "cell_type": "markdown",
   "metadata": {},
   "source": [
    "**所以$\\varphi (y)=0$**"
   ]
  },
  {
   "cell_type": "markdown",
   "metadata": {},
   "source": [
    "**即可得到通解为$y^2x^4+y^5x^3=c$**"
   ]
  },
  {
   "cell_type": "markdown",
   "metadata": {},
   "source": [
    "## 4.设f(x,y)及$\\frac{\\partial f}{\\partial x}$连续，试证明方程$\\mathrm d y-f(x,y) \\mathrm d x=0$为线性微分方程的充要条件是它有仅依赖于x的积分因子。"
   ]
  },
  {
   "cell_type": "markdown",
   "metadata": {},
   "source": [
    "**充分性：设方程$\\mathrm d y-f(x,y) \\mathrm d x=0$有仅依赖于x的积分因子，欲证该方程是线性的。**"
   ]
  },
  {
   "cell_type": "markdown",
   "metadata": {},
   "source": [
    "**由于积分因子依赖于x，所以存在某个$\\varphi (x)$满足：**"
   ]
  },
  {
   "cell_type": "markdown",
   "metadata": {},
   "source": [
    "$\\frac{\\frac{\\partial M}{\\partial y}-\\frac{\\partial N}{\\partial x}}{N}=\\frac{- \\frac{\\partial f}{\\partial y}-0}{1}=\\varphi (x)$"
   ]
  },
  {
   "cell_type": "markdown",
   "metadata": {},
   "source": [
    "$\\frac{\\partial f}{\\partial y}=- \\varphi (x)$"
   ]
  },
  {
   "cell_type": "markdown",
   "metadata": {},
   "source": [
    "**对上式两边积分后得$f(x,y)=- \\varphi (x)y+h(x),$**"
   ]
  },
  {
   "cell_type": "markdown",
   "metadata": {},
   "source": [
    "**这里h(x)是关于x的任意可微函数，所以，原方程可以写成$\\frac{\\mathrm d y}{\\mathrm d x}=- \\varphi (x)y+h(x),$**"
   ]
  },
  {
   "cell_type": "markdown",
   "metadata": {},
   "source": [
    "**这就说明了$\\mathrm d y-f(x,y) \\mathrm d x=0$是线性的。**"
   ]
  },
  {
   "cell_type": "markdown",
   "metadata": {},
   "source": [
    "**必要性：设方程$\\mathrm d y-f(x,y) \\mathrm d x=0$是线性微分方程。即存在函数g(x),h(x)使得这样$M=-f(x,y)=-yg(x)-h(x),N=1$,**"
   ]
  },
  {
   "cell_type": "markdown",
   "metadata": {},
   "source": [
    "$\\frac{\\frac{\\partial M}{\\partial y}-\\frac{\\partial N}{\\partial x}}{N}=\\frac{- g(x)}{1}=-g(x)$"
   ]
  },
  {
   "cell_type": "markdown",
   "metadata": {},
   "source": [
    "**所以，方程具有积分因子**"
   ]
  },
  {
   "cell_type": "markdown",
   "metadata": {},
   "source": [
    "$\\mu =e^{\\int\\ -g(x)\\,\\mathrm {d}x}$"
   ]
  },
  {
   "cell_type": "markdown",
   "metadata": {},
   "source": [
    "**这就证明了方程有仅依赖于x的积分因子.**"
   ]
  },
  {
   "cell_type": "markdown",
   "metadata": {},
   "source": [
    "## 8.求出伯努利微分方程的积分因子."
   ]
  },
  {
   "cell_type": "markdown",
   "metadata": {},
   "source": [
    "$\\frac{\\mathrm d y}{\\mathrm d x}=P(x)y+Q(x)y^n$"
   ]
  },
  {
   "cell_type": "markdown",
   "metadata": {},
   "source": [
    "$\\mathrm d y-[P(x)y+Q(x)y^n]\\mathrm d x=0$"
   ]
  },
  {
   "cell_type": "markdown",
   "metadata": {},
   "source": [
    "$y^{-n}\\mathrm d y-[P(x)y^{1-n}+Q(x)]\\mathrm d x=0$"
   ]
  },
  {
   "cell_type": "markdown",
   "metadata": {},
   "source": [
    "$\\frac{\\partial N}{\\partial x}=0,\\frac{\\partial M}{\\partial y}=-P(x)(1-n)y^{-n}$"
   ]
  },
  {
   "cell_type": "markdown",
   "metadata": {},
   "source": [
    "$\\frac{\\frac{\\partial M}{\\partial y}-\\frac{\\partial N}{\\partial x}}{N}=\\frac{-P(x)(1-n)y^{-n}}{y^{-n}}=-P(x)(1-n)$"
   ]
  },
  {
   "cell_type": "markdown",
   "metadata": {},
   "source": [
    "所以可以得到原方程的积分因子为：$\\mu =y^{-n} e^{(n-1) \\int\\ P(x)\\,\\mathrm {d}x}$"
   ]
  },
  {
   "cell_type": "markdown",
   "metadata": {},
   "source": [
    "## P70.求解下列方程"
   ]
  },
  {
   "cell_type": "markdown",
   "metadata": {},
   "source": [
    "**（1）$xy'^3=1+y'$**"
   ]
  },
  {
   "cell_type": "markdown",
   "metadata": {},
   "source": [
    "**解：**"
   ]
  },
  {
   "cell_type": "markdown",
   "metadata": {},
   "source": [
    "$x=\\frac{1+y'}{y'^3}$"
   ]
  },
  {
   "cell_type": "markdown",
   "metadata": {},
   "source": [
    "**令$p=y'=\\frac{\\mathrm d y}{\\mathrm d x}$**"
   ]
  },
  {
   "cell_type": "markdown",
   "metadata": {},
   "source": [
    "**即$x=\\frac{1+p}{p^3}$**"
   ]
  },
  {
   "cell_type": "markdown",
   "metadata": {},
   "source": [
    "**两边对y求导数，即得：**"
   ]
  },
  {
   "cell_type": "markdown",
   "metadata": {},
   "source": [
    "$\\frac{\\mathrm d x}{\\mathrm d y}=\\frac{ \\frac{\\mathrm d p}{\\mathrm d y}p^3-3p^2(1+p) \\frac{\\mathrm d p}{\\mathrm d y}}{p^6}$"
   ]
  },
  {
   "cell_type": "markdown",
   "metadata": {},
   "source": [
    "**将各个式子代入即得：**"
   ]
  },
  {
   "cell_type": "markdown",
   "metadata": {},
   "source": [
    "$\\frac{1}{p}=\\frac{ (-2p^3-3p^2) \\frac{\\mathrm d p}{\\mathrm d y}}{p^6}$"
   ]
  },
  {
   "cell_type": "markdown",
   "metadata": {},
   "source": [
    "$(-2p-3) \\frac{\\mathrm d p}{\\mathrm d y}=p^3$"
   ]
  },
  {
   "cell_type": "markdown",
   "metadata": {},
   "source": [
    "$(-2p-3) \\mathrm d p -p^3 \\mathrm d y =0     (\\ast)$"
   ]
  },
  {
   "cell_type": "markdown",
   "metadata": {},
   "source": [
    "令$M=-2p-3 ,N=-p^3$"
   ]
  },
  {
   "cell_type": "markdown",
   "metadata": {},
   "source": [
    "**经过计算可以得到：$\\frac {\\partial M}{\\partial y}=0,\\frac{\\partial N}{\\partial p}=-3p^2$**"
   ]
  },
  {
   "cell_type": "markdown",
   "metadata": {},
   "source": [
    "**即可得到：$\\frac{ \\frac{\\partial M}{\\partial y} -\\frac{\\partial N}{\\partial p}}{N}=\\frac{3p^2}{-p^3}=\\frac{-3}{p}$**"
   ]
  },
  {
   "cell_type": "markdown",
   "metadata": {},
   "source": [
    "**即可求得积分因子为$\\mu=e^{\\int\\ \\frac{-3}{p}\\,\\mathrm {d}p}=e^{-3lnp}=\\frac{1}{p^3}$**"
   ]
  },
  {
   "cell_type": "markdown",
   "metadata": {},
   "source": [
    "**将积分因子乘以$(\\ast)$式两端，即得：**"
   ]
  },
  {
   "cell_type": "markdown",
   "metadata": {},
   "source": [
    "$(- \\frac{2}{p^2}-\\frac{3}{p^3})\\mathrm d p -\\mathrm d y=0$"
   ]
  },
  {
   "cell_type": "markdown",
   "metadata": {},
   "source": [
    "$\\mathrm d ( \\frac{2}{p}+\\frac{3}{2} \\frac{1}{p^2}) -\\mathrm d y=0$"
   ]
  },
  {
   "cell_type": "markdown",
   "metadata": {},
   "source": [
    "$\\mathrm d ( \\frac{2}{p}+ \\frac{3}{2} \\frac{1}{p^2} -y)=0$"
   ]
  },
  {
   "cell_type": "markdown",
   "metadata": {},
   "source": [
    "即可求出$\\frac{2}{p}+ \\frac{3}{2} \\frac{1}{p^2} -y=c$"
   ]
  },
  {
   "cell_type": "markdown",
   "metadata": {},
   "source": [
    "**所以$y=\\frac{2}{p}+ \\frac{3}{2} \\frac{1}{p^2}+c$**"
   ]
  },
  {
   "cell_type": "markdown",
   "metadata": {},
   "source": [
    "所以通解为：$x=\\frac{1}{p^3}+\\frac{1}{p^2},y=\\frac{2}{p}+ \\frac{3}{2} \\frac{1}{p^2}+c$  其中c为任意常数。"
   ]
  },
  {
   "cell_type": "markdown",
   "metadata": {},
   "source": [
    "**(2)$y'^3-x^3(1-y')=0$**"
   ]
  },
  {
   "cell_type": "markdown",
   "metadata": {},
   "source": [
    "**令$p=y'=\\frac{\\mathrm d y}{\\mathrm d x}=tx$**"
   ]
  },
  {
   "cell_type": "markdown",
   "metadata": {},
   "source": [
    "**即 $t^3x^3-x^3(1-tx)=0$**"
   ]
  },
  {
   "cell_type": "markdown",
   "metadata": {},
   "source": [
    "$t^3-(1-tx)=0$"
   ]
  },
  {
   "cell_type": "markdown",
   "metadata": {},
   "source": [
    "$t^3-1+tx=0$"
   ]
  },
  {
   "cell_type": "markdown",
   "metadata": {},
   "source": [
    "**即可得到：$x=\\frac{1}{t}-t^2$  (1)**"
   ]
  },
  {
   "cell_type": "markdown",
   "metadata": {},
   "source": [
    "$p=1-t^3$  **(2)**"
   ]
  },
  {
   "cell_type": "markdown",
   "metadata": {},
   "source": [
    "**代入方程：$\\mathrm d y=p \\mathrm d x$中，即可得到：**"
   ]
  },
  {
   "cell_type": "markdown",
   "metadata": {},
   "source": [
    "$\\mathrm d y=(1-t^3)(- \\frac{1}{t^2}-2t)\\mathrm dt$"
   ]
  },
  {
   "cell_type": "markdown",
   "metadata": {},
   "source": [
    "**两边积分可以得到：**"
   ]
  },
  {
   "cell_type": "markdown",
   "metadata": {},
   "source": [
    "$y=\\int\\ (2t^4-\\frac{1}{t^2}-t)\\,\\mathrm {d}t=\\frac{2}{5}t^5+\\frac{1}{t}-\\frac{1}{2}t^2+c$"
   ]
  },
  {
   "cell_type": "markdown",
   "metadata": {},
   "source": [
    "**所以方程的解为：$x=\\frac{1}{t}-t^2,y=\\frac{2}{5}t^5+\\frac{1}{t}-\\frac{1}{2}t^2+c$ 其中c为任意常数.**"
   ]
  },
  {
   "cell_type": "markdown",
   "metadata": {},
   "source": [
    "**(3)$y=y'^2e^{y'}$**"
   ]
  },
  {
   "cell_type": "markdown",
   "metadata": {},
   "source": [
    "**解：**"
   ]
  },
  {
   "cell_type": "markdown",
   "metadata": {},
   "source": [
    "**令$y'=\\frac{\\mathrm d y}{\\mathrm d x}=p$,则$y=p^2e^{p}$**"
   ]
  },
  {
   "cell_type": "markdown",
   "metadata": {},
   "source": [
    "**两边关于x求导数**"
   ]
  },
  {
   "cell_type": "markdown",
   "metadata": {},
   "source": [
    "$\\frac{\\mathrm d y}{\\mathrm d x}=2p e^{p} \\frac{\\mathrm d p}{\\mathrm d x}+e^{p} p^2 \\frac{\\mathrm d p}{\\mathrm d x}$"
   ]
  },
  {
   "cell_type": "markdown",
   "metadata": {},
   "source": [
    "$p=e^p(2p+p^2) \\frac{\\mathrm d p}{\\mathrm d x}$"
   ]
  },
  {
   "cell_type": "markdown",
   "metadata": {},
   "source": [
    "$1=e^{p}(2+p) \\frac{\\mathrm d p}{\\mathrm d x}$"
   ]
  },
  {
   "cell_type": "markdown",
   "metadata": {},
   "source": [
    "$\\mathrm d x =e^{p}(2+p) \\mathrm d p$"
   ]
  },
  {
   "cell_type": "markdown",
   "metadata": {},
   "source": [
    "**两边积分可以得到：**"
   ]
  },
  {
   "cell_type": "markdown",
   "metadata": {},
   "source": [
    "$x=(1+p)e^{p}+c$"
   ]
  },
  {
   "cell_type": "markdown",
   "metadata": {},
   "source": [
    "**该方程的同解为：$x=(1+p)e^{p}+c,y=p^2e^{p}$ ,其中c为任意常数.**"
   ]
  },
  {
   "cell_type": "markdown",
   "metadata": {},
   "source": [
    "**(4)$y(1+y'^2)=2a(a为常数）$**"
   ]
  },
  {
   "cell_type": "markdown",
   "metadata": {},
   "source": [
    "$y=\\frac{2a}{1+y'^2}$"
   ]
  },
  {
   "cell_type": "markdown",
   "metadata": {},
   "source": [
    "**令$p=\\frac{\\mathrm d y}{\\mathrm d x}=y'$,即可得到：$y=\\frac{2a}{1+p^2}$**"
   ]
  },
  {
   "cell_type": "markdown",
   "metadata": {},
   "source": [
    "**两边关于x求导数，即：**"
   ]
  },
  {
   "cell_type": "markdown",
   "metadata": {},
   "source": [
    "$p=\\frac{-4pa \\frac{\\mathrm d p}{\\mathrm d x}}{(1+p^2)^2}$"
   ]
  },
  {
   "cell_type": "markdown",
   "metadata": {},
   "source": [
    "$(1+p^2)^2 \\mathrm d x+4a \\mathrm d p=0   (\\ast)$"
   ]
  },
  {
   "cell_type": "markdown",
   "metadata": {},
   "source": [
    "**令$M=4a,N=(1+p^2)^2$**"
   ]
  },
  {
   "cell_type": "markdown",
   "metadata": {},
   "source": [
    "$ \\frac{\\partial M}{\\partial x}=0,\\frac{\\partial N}{\\partial p}=4p(1+p^2)$"
   ]
  },
  {
   "cell_type": "markdown",
   "metadata": {},
   "source": [
    "$\\frac{ \\frac{\\partial M}{\\partial y} -\\frac{\\partial N}{\\partial p}}{N}=\\frac{-4p}{1+p^2}$"
   ]
  },
  {
   "cell_type": "markdown",
   "metadata": {},
   "source": [
    "**经过计算可以得到：$\\mu=\\frac{1}{(1+p^2)^2}$**"
   ]
  },
  {
   "cell_type": "markdown",
   "metadata": {},
   "source": [
    "**将$\\mu$乘以$\\ast$式两端**"
   ]
  },
  {
   "cell_type": "markdown",
   "metadata": {},
   "source": [
    "**可以得到： $\\mathrm d x =\\frac{-4a}{(1+p^2)^2} \\mathrm d p$**"
   ]
  },
  {
   "cell_type": "markdown",
   "metadata": {},
   "source": [
    "两边积分即可得到："
   ]
  },
  {
   "cell_type": "markdown",
   "metadata": {},
   "source": [
    "$x=- \\frac{2ap}{p^2+1}-2a arctan(p)+c$ "
   ]
  },
  {
   "cell_type": "markdown",
   "metadata": {},
   "source": [
    "所以可以得到通解为：$x=- \\frac{2ap}{p^2+1}-2a arctan(p)+c,y=\\frac{2a}{1+y'^2}$其中c为任意常数."
   ]
  },
  {
   "cell_type": "markdown",
   "metadata": {},
   "source": [
    "**(5)$x^2+y'^2=1$**"
   ]
  },
  {
   "cell_type": "markdown",
   "metadata": {},
   "source": [
    "$F(x,y')=x^2+y'^2-1=0$"
   ]
  },
  {
   "cell_type": "markdown",
   "metadata": {},
   "source": [
    "**令$p=y'=cost$**"
   ]
  },
  {
   "cell_type": "markdown",
   "metadata": {},
   "source": [
    "$x^2+(cost)^2=1$"
   ]
  },
  {
   "cell_type": "markdown",
   "metadata": {},
   "source": [
    "$x= \\sin t$"
   ]
  },
  {
   "cell_type": "markdown",
   "metadata": {},
   "source": [
    "即可得到：$x= \\sin t,p= \\cos t$"
   ]
  },
  {
   "cell_type": "markdown",
   "metadata": {},
   "source": [
    "**满足：$\\mathrm d y=p \\mathrm d x=\\cos t \\cos t \\mathrm d t=\\frac{\\cos 2t +1}{2}\\mathrm d t$**"
   ]
  },
  {
   "cell_type": "markdown",
   "metadata": {},
   "source": [
    "两边积分可以得到：\n",
    "$y=\\frac{1}{4} \\sin 2t+\\frac{1}{2}t+c$"
   ]
  },
  {
   "cell_type": "markdown",
   "metadata": {},
   "source": [
    "所以可以得到同解为：$x=\\sin t ,y=\\frac{1}{4} \\sin 2t+\\frac{1}{2}t+c$,其中c为常数。"
   ]
  },
  {
   "cell_type": "markdown",
   "metadata": {},
   "source": [
    "**（6）$y^2(y'-1)=(2-y')^2$**"
   ]
  },
  {
   "cell_type": "markdown",
   "metadata": {},
   "source": [
    "令$2-y'=yt$"
   ]
  },
  {
   "cell_type": "markdown",
   "metadata": {},
   "source": [
    "$y'=2-ty$,将其带入原方程得到："
   ]
  },
  {
   "cell_type": "markdown",
   "metadata": {},
   "source": [
    "$y=\\frac{1-t^2}{t},p=1+t^2$"
   ]
  },
  {
   "cell_type": "markdown",
   "metadata": {},
   "source": [
    "将其带入$\\mathrm d y=p \\mathrm d x$"
   ]
  },
  {
   "cell_type": "markdown",
   "metadata": {},
   "source": [
    "可以得到："
   ]
  },
  {
   "cell_type": "markdown",
   "metadata": {},
   "source": [
    "$\\mathrm d x=-\\frac{1}{t^2} \\mathrm dt$"
   ]
  },
  {
   "cell_type": "markdown",
   "metadata": {},
   "source": [
    "通过积分可以得到：$x=\\frac{1}{t}+c$"
   ]
  },
  {
   "cell_type": "markdown",
   "metadata": {},
   "source": [
    "所以知道通解为：$x=\\frac{1}{t}+c,\\frac{1-t^2}{t}$,其中c为任意常数."
   ]
  },
  {
   "cell_type": "markdown",
   "metadata": {},
   "source": [
    "# <font color='red'>A +28/9"
   ]
  },
  {
   "cell_type": "code",
   "execution_count": null,
   "metadata": {
    "collapsed": true
   },
   "outputs": [],
   "source": []
  }
 ],
 "metadata": {
  "kernelspec": {
   "display_name": "SageMath 7.3",
   "language": "",
   "name": "sagemath"
  },
  "language_info": {
   "codemirror_mode": {
    "name": "ipython",
    "version": 2
   },
   "file_extension": ".py",
   "mimetype": "text/x-python",
   "name": "python",
   "nbconvert_exporter": "python",
   "pygments_lexer": "ipython2",
   "version": "2.7.10"
  }
 },
 "nbformat": 4,
 "nbformat_minor": 0
}
