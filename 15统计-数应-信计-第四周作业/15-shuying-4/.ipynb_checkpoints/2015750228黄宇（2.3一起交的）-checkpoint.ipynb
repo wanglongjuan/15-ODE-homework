{
 "cells": [
  {
   "cell_type": "markdown",
   "metadata": {},
   "source": [
    "1.求下列方程的解"
   ]
  },
  {
   "cell_type": "markdown",
   "metadata": {},
   "source": [
    "(15)$$\\frac{dy}{dx}=\\frac{1}{xy+x^3y^3}$$"
   ]
  },
  {
   "cell_type": "markdown",
   "metadata": {},
   "source": [
    "$$\\frac{dx}{dy}={xy+x^3y^3}$$"
   ]
  },
  {
   "cell_type": "markdown",
   "metadata": {},
   "source": [
    "两边同除x^3\n",
    "$$\\frac{dx}{x^3dy}=\\frac{y}{x^2}+y^3$$"
   ]
  },
  {
   "cell_type": "markdown",
   "metadata": {},
   "source": [
    "令x^(-2)=z,$$\\frac{dz}{dy}=-2x^{-3}\\frac{dx}{dy}$$"
   ]
  },
  {
   "cell_type": "markdown",
   "metadata": {},
   "source": [
    "$$\\frac{dz}{dy}=\\frac{-2y}{x^2}-2y^3$$  P(x)=-2y,Q(y)=-2y^3"
   ]
  },
  {
   "cell_type": "markdown",
   "metadata": {},
   "source": [
    "由一阶线性方程的求解公式"
   ]
  },
  {
   "cell_type": "markdown",
   "metadata": {},
   "source": [
    "$$z=e^{\\int\\mathrm -2y\\,\\mathrm{d}y}(\\int\\mathrm-2y^3e^{\\int\\mathrm -2y\\,\\mathrm{d}y}+c)$$\n",
    "$$=e^{-y^2}(-\\int\\mathrm\n",
    "2y^3e^{\\int\\mathrm y^2\\,\\mathrm{d}y}+c)$$\n",
    "$$=-y^2+1+ce^{-y^2}$$"
   ]
  },
  {
   "cell_type": "markdown",
   "metadata": {},
   "source": [
    "$$x^2(-y^2+1+ce^{-y^2})=1$$\n",
    "$$x^2e^{y^2}(-y^2+1+ce^{-y^2})=e^{y^2}$$\n",
    "$$e^{y^2}(1-x^2+x^2y^2)=cx^2$$"
   ]
  },
  {
   "cell_type": "markdown",
   "metadata": {},
   "source": [
    "(16)$$y=e^x+ \\int_0^x\\mathrm y(x)\\,\\mathrm{d}t$$"
   ]
  },
  {
   "cell_type": "markdown",
   "metadata": {},
   "source": [
    "$$\\frac{dy}{dx}=e^x+y(x)$$"
   ]
  },
  {
   "cell_type": "markdown",
   "metadata": {},
   "source": [
    "$$\\frac{dy}{dx}=e^x+y$$\n",
    "P(x)=1,Q(x)=e^x\n",
    "由一阶线性方程的求解公式\n",
    "$$y=e^{\\int\\mathrm1\\,\\mathrm{d}x}(\\int\\mathrm e^xe^{-\\int\\mathrm1\\,\\mathrm{d}x}\\mathrm{d}x+c)$$\n"
   ]
  },
  {
   "cell_type": "markdown",
   "metadata": {},
   "source": [
    "$$y=e^x(\\int\\mathrm e^xe^{-x}\\mathrm{d}x+c)$$\n",
    "$$=e^x(x+c)$$"
   ]
  },
  {
   "cell_type": "markdown",
   "metadata": {},
   "source": [
    "$$e^(x+c)=e^x+\\int_0^x\\mathrm e^(x+c) \\,\\mathrm{d}x$$"
   ]
  },
  {
   "cell_type": "markdown",
   "metadata": {},
   "source": [
    "$c=1$  $$y=e^(x+c)$$"
   ]
  },
  {
   "cell_type": "markdown",
   "metadata": {},
   "source": [
    "7.求解下列方程\n",
    "（3）$$y'sinxcosx-y-sin^3x=0$$"
   ]
  },
  {
   "cell_type": "markdown",
   "metadata": {},
   "source": [
    "$P(x)=\\frac{1}{sinxcosx},Q(x)=\\frac{sin^2x}{cosx}$"
   ]
  },
  {
   "cell_type": "markdown",
   "metadata": {},
   "source": [
    "由一阶线性方程的求解公式\n",
    "$$y=e^{\\int\\frac{1}{sinxcosx}\\mathrm{d}x}(\\int\\ e^{\\frac{sin^2x}{cosx}}e^{-\\int\\frac{1}{sinxcosx}\\mathrm{d}x}\\mathrm{d}x+c)$$\n",
    "$$=\\frac{sinx}{cosx}(\\int\\mathrm sinx\\,\\mathrm{d}x+c)$$\n",
    "$$=\\frac{sinx}{cosx}(-cosx+c)$$\n",
    "$$=tgxc-sinx$$"
   ]
  },
  {
   "cell_type": "markdown",
   "metadata": {},
   "source": [
    "# <font color='red'>特解？？"
   ]
  },
  {
   "cell_type": "markdown",
   "metadata": {},
   "source": [
    "1.验证下列方程是恰当方程，并求出方程的解\n",
    "（1）$$（x^2+y)dx+(x-2y)dy=0$$\n"
   ]
  },
  {
   "cell_type": "markdown",
   "metadata": {},
   "source": [
    "$$\\frac{\\partial M}{\\partial y}=1,\\frac{\\partial N}{\\partial x}=1$$,"
   ]
  },
  {
   "cell_type": "markdown",
   "metadata": {},
   "source": [
    "则$$\\frac{\\partial M}{\\partial y}=\\frac{\\partial N}{\\partial x}$$,\n",
    "所以此方程是恰当微分方程"
   ]
  },
  {
   "cell_type": "markdown",
   "metadata": {},
   "source": [
    "凑微分 $$x^2dx-2ydy+(ydx+xdy)=0$$\n",
    "得$$\\frac{x^3}{3}+xy-y^2=c$$"
   ]
  },
  {
   "cell_type": "markdown",
   "metadata": {},
   "source": [
    "(2)$$（y-3x^2)dx+(4y-x)dy=0$$"
   ]
  },
  {
   "cell_type": "markdown",
   "metadata": {},
   "source": [
    "$$\\frac{\\partial M}{\\partial y}=1,\\frac{\\partial N}{\\partial x}=1$$,\n",
    "$$\\frac{\\partial M}{\\partial y}=\\frac{\\partial N}{\\partial x}$$,\n",
    "所以此方程是恰当微分方程\n",
    "凑微分 $$-3x^2dx-4ydy+(ydx+xdy)=0$$\n",
    "得$$x^2-xy+2y^2=c$$"
   ]
  },
  {
   "cell_type": "markdown",
   "metadata": {},
   "source": [
    "第三次作业2.求下列方程的解\n",
    "$$(x+2y)dx+xdy=0$$"
   ]
  },
  {
   "cell_type": "markdown",
   "metadata": {},
   "source": [
    "$$M=x+2y,N=x,\\frac{\\partial M}{\\partial y}=2,\\frac{\\partial N}{\\partial x}=1，\\frac{\\partial M}{\\partial y}\\not=\\frac{\\partial N}{\\partial x}$$,方程不是恰当的\n",
    "\n",
    "因为$\\frac{\\frac{\\partial M}{\\partial y}-\\frac{\\partial N}{\\partial x}}{N}=\\frac{1}{x}$只与x有关，故方程可求得只有与x有关的积分因子\n",
    "$$\\mu=e^{\\int\\mathrm\\ {\\frac{1}{x}}\\,\\mathrm{d}x}=e^{ln|x|}=x$$\n",
    "以$\\mu=x$乘方程两边，得到\n",
    "$$2xydx+x^2dy+x^2dx=0$$\n",
    "于是，方程的通解为\n",
    "$$x^3+3x^2y=c$$\n"
   ]
  },
  {
   "cell_type": "markdown",
   "metadata": {},
   "source": [
    "（9)$$[x\\cos (x+y)+\\sin (x+y)]dx+x\\cos(x+y)dy=0$$"
   ]
  },
  {
   "cell_type": "markdown",
   "metadata": {},
   "source": [
    "$$M=x\\cos (x+y)+\\sin (x+y),N=x\\cos (x+y)$$\n",
    "$$\\frac{\\partial M}{\\partial y}=-x\\sin (x+y)+\\cos (x+y),\\frac{\\partial N}{\\partial x}=\\cos (x+y)-x\\sin (x+y)$$\n",
    "$$\\frac{\\partial M}{\\partial y}=\\frac{\\partial N}{\\partial x}$$\n",
    "方程是恰当的,把方程重新组合，得到\n",
    "$$d(x\\sin (x+y)=0$$\n",
    "于是方程的通解为\n",
    "$xsin(x+y)=c$\n",
    "其中c为任意常数\n"
   ]
  },
  {
   "cell_type": "markdown",
   "metadata": {},
   "source": [
    "(10)$$(y\\cos x-x\\sin x)dx+(y\\sin x+x\\cos x)dy=0$$"
   ]
  },
  {
   "cell_type": "markdown",
   "metadata": {},
   "source": [
    "$$M=y\\cos x-x\\sin x,N=y\\sin x+x\\cos x$$\n",
    "$$\\frac{\\partial M}{\\partial y}=\\cos x,\\frac{\\partial N}{\\partial x}=y\\cos x+\\cos x-x\\sin x$$\n",
    "$\\frac{\\partial M}{\\partial y}\\not=\\frac{\\partial N}{\\partial x}$方程不是恰当的\n",
    "\n",
    "因为$\\frac{\\frac{\\partial M}{\\partial y}-\\frac{\\partial N}{\\partial x}}{M}={1}$只与y有关，故方程只有与y有关的积分因子\n",
    "$$\\mu=e^{\\int\\mathrm\\ {1}\\,\\mathrm{d}y}=e^y$$\n",
    "以$\\mu=e^y$乘两边方程得\n",
    "$$(ye^y\\cos xdx+ye^y\\sin xdy)+(e^y\\cos xdy-e^yx\\sin xdy)=0$$\n",
    "即\n",
    "$$d[(y-1)e^y\\sin x+e^yx\\cos x]=0$$\n",
    "因而，通解为\n",
    "$$e^yx\\cos x+e^y(y-1)\\sin x=c$$"
   ]
  },
  {
   "cell_type": "markdown",
   "metadata": {},
   "source": [
    "(11)$$x(4ydx+2xdy)+y^3(3ydx+5xdy)=0$$"
   ]
  },
  {
   "cell_type": "markdown",
   "metadata": {},
   "source": [
    "由题可知，$$x(4ydx+2xdy)=d(2x^2y)$$,所以只用考虑方程$y^3(3ydx+5xdy)=0$$,有\n",
    "$$M=3y^4,N=5xy^3,\\frac{\\partial M}{\\partial y}=12y^3,\\frac{\\partial N}{\\partial x}=5y^3$$\n",
    ", $$\\frac{\\partial M}{\\partial y}\\not=\\frac{\\partial N}{\\partial x}$方程不是恰当的\n",
    "\n",
    "因为$\\frac{\\frac{\\partial M}{\\partial y}-\\frac{\\partial N}{\\partial x}}{5xy^3}=\\frac{7}{5x}$只与x有关，故方程只有与x有关的积分因子\n",
    "$$\\mu=e^{\\int\\mathrm\\ \\frac{7}{5x}\\,\\mathrm{d}x}=e^{ln{\\frac{7}{5}}}=e^\\frac{7}{5}$$\n",
    "以$\\mu=e^\\frac{7}{5}$乘两边方程得\n",
    "$$3y^4x^\\frac{7}{5}dx+5x^\\frac{12}{5}y^3dy=0$$\n",
    "即$$d(\\frac{5}{4}x^\\frac{12}{5}y^4)=0$$\n",
    "因而，通解为\n",
    "$$2x^2y+\\frac{5}{4}x^\\frac{12}{5}y^4=c$$"
   ]
  },
  {
   "cell_type": "markdown",
   "metadata": {},
   "source": [
    "# <font color='red'>错误？？"
   ]
  },
  {
   "cell_type": "markdown",
   "metadata": {},
   "source": [
    "4.设$f(x,y)$及$\\frac{\\partial f}{\\partial y}$连续，试证明方程$dy-f(x,y)dx=0$为线性微分方程的充要条件是它有仅依赖于x的积分因子"
   ]
  },
  {
   "cell_type": "markdown",
   "metadata": {},
   "source": [
    "充分性：设$dy-f(x,y)dx=0$它有仅依赖于x的积分因子，证明其为线性的\n",
    "因为积分因子依赖于x，所以存在$\\varphi(x)$使得\n",
    "$$\\frac{\\frac{\\partial M}{\\partial y}-\\frac{\\partial N}{\\partial x}}{N}=\\frac{\\frac{-\\partial f}{\\partial y}-0}{1}=\\varphi(x)$$\n",
    "对上式两边积分得$f(x,y)=-\\varphi(x)y+h(x)$(h(x)为任意可微函数)\n",
    "即原方程为\n",
    "$$\\frac{dy}{dx}=-\\varphi(x)y+h(x)$$ \n",
    "充分性得证\n",
    "必要性：方程$dy-f(x,y)dx=0$是线性微分方程\n",
    "存在$g(x),h(x)$使得\n",
    "$$f(x,y)=yg(x)+h(x)$$\n",
    "得到$M=-f(x,y)=-yg(x)-h(x),N=1\n",
    "有$$\\frac{\\frac{\\partial M}{\\partial y}-\\frac{\\partial N}{\\partial x}}{N}={-g(x)}$$\n",
    "所以，方程具有积分因子，必要性得证"
   ]
  },
  {
   "cell_type": "markdown",
   "metadata": {},
   "source": [
    "8求出伯努利微分方程的积分因子"
   ]
  },
  {
   "cell_type": "markdown",
   "metadata": {},
   "source": [
    "伯努利微分方程为$$\\frac{dy}{dx}=p(x)y+q（x)y^n$$\n",
    "化为$$dy-p(x)ydx-q(x)y^ndx=0$$\n",
    "两边同时乘以$y^{-n}$得\n",
    "$$y^{(-n)}dy-p(x)y^{(1-n)}dx-q(x)dx=0$$\n",
    "即$$d(y^{1-n})-(1-n)p(x)y^{1-n}dx-(1-n)q(x)dx=0$$\n",
    "乘以$e^{-(1-n){\\int\\mathrm\\ {p(x)}\\,\\mathrm{d}x}}$得\n",
    "$$e^{-(1-n){\\int\\mathrm\\ {p(x)}\\,\\mathrm{d}x}}[d(y^{1-n})-(1-n)p(x)y^{1-n}dx]-e^{-(1-n){\\int\\mathrm\\ {p(x)}\\,\\mathrm{d}x}}(1-n)q(x)dx=0$$\n",
    "即$$d[y^{1-n}e^{-(1-n){\\int\\mathrm\\ {p(x)}\\,\\mathrm{d}x}}]-d[\\int\\mathrm\\ (1-n)q(x){e^{-(1-n){{\\int\\mathrm\\ {p(x)}\\,\\mathrm{d}x}}}(1-n)q(x)}\\,\\mathrm{d}x]=0$$\n",
    "因此，积分因子为\n",
    "$$\\mu=y^{-n}e^{(n-1){\\int\\mathrm\\ {p(x)}\\,\\mathrm{d}x}}$$"
   ]
  },
  {
   "cell_type": "markdown",
   "metadata": {},
   "source": [
    "1.求解下列方程\n",
    "（1）$$xy'^3=1+y'$$\n",
    "解出x，并令$\\frac{dy}{dx}=p$,得到\n",
    "$$x=\\frac{1}{p^3}+\\frac{1}{p^2}$$\n",
    "两边对y求导，得到\n",
    "$$\\frac{1}{p}=(\\frac{-3}{p^4}-\\frac{2}{p^3})\\frac{dp}{dy}$$\n",
    "$$(3+2p)dp+p^3dy=0$$\n",
    "积分之，得到\n",
    "$$y=\\frac{3}{2p^2}+\\frac{2}{p}+c$$\n",
    "因此，得到方程的参数形式的通解\n",
    "$$\\begin{cases}x=\\frac{1}{p^3}+\\frac{1}{p^2}\\\\y=\\frac{1}{2p^2}+\\frac{2}{p}+c\\end{cases}  p\\not=0$$"
   ]
  },
  {
   "cell_type": "markdown",
   "metadata": {},
   "source": [
    "(2)$$y'^3-x^3(1-y')=0$$\n",
    "令$y'=tx$带入原方程中得到\n",
    "$$x^3(t^3-1+tx)=0$$\n",
    "则由方程得 \n",
    "$$x=\\frac{1}{t}-t^2$$\n",
    "两边对y求导，于是\n",
    "$$dy=[(1-t^3)(\\frac{-1}{t^2}-2)]dt$$\n",
    "积分之，得到\n",
    "$$y=\\int\\mathrm\\ [(1-t^3)(\\frac{-1}{t^2}-2)]\\,\\mathrm{d}t=\\frac{-1}{2}t^2+\\frac{2}{5}t^5+\\frac{1}{t}+c$$\n",
    "因此，得到方程的参数形式的通解\n",
    "$$\\begin{cases}x=\\frac{1}{t}-t^2\\\\y=\\frac{-1}{2}t^2+\\frac{2}{5}t^5+\\frac{1}{t}+c\\end{cases}  $$"
   ]
  },
  {
   "cell_type": "markdown",
   "metadata": {},
   "source": [
    "(3)$$y=y'^2e^{y'}$$\n",
    "令$y'=p$,原方程化为\n",
    "$$y=p^2e^p$$\n",
    "两边对x求导得\n",
    "$$p=(2pe^p+p^2e^p)\\frac{dp}{dx}$$\n",
    "$$dx=（p+2)e^pdp$$\n",
    "积分之，得到\n",
    "$$x=\\int\\mathrm （p+2)e^p\\,\\mathrm{d}p=(p+1)e^p+c$$\n",
    "因此，得到方程的参数形式的通解\n",
    "$$\\begin{cases}x=(p+1)e^p+c\\\\y=p^2e^p\\end{cases}$$\n"
   ]
  },
  {
   "cell_type": "markdown",
   "metadata": {},
   "source": [
    "(4)$$y(1+y'^2)=2a(a为常数）$$\n",
    "$y'=\\tan t$,原方程化为\n",
    "$$y=2a\\cos^2t$$\n",
    "两边对x求导得\n",
    "$$\\tan t=-2a\\sin 2t\\frac{dt}{dx}$$\n",
    "$$dx=-4a\\cos ^2tdt$$\n",
    "积分之，得到\n",
    "$$x=\\int\\mathrm -4a\\cos ^2t\\,\\mathrm{d}t=-a(2t+\\sin 2t+c)$$\n",
    "因此，得到方程的参数形式的通解\n",
    "$$\\begin{cases}x=-a(2t+\\sin 2t+c)\\\\y=2a\\cos^2t\\end{cases}$$"
   ]
  },
  {
   "cell_type": "markdown",
   "metadata": {},
   "source": [
    "(5)$$x^2+y'^2=1$$\n",
    "令$y'=\\cos t$,原方程化为\n",
    "$$x^2+\\cos ^2t=1$$\n",
    "则由方程得\n",
    "$$x=\\sin t$$\n",
    "两边对y求导得\n",
    "$$\\frac{1}{\\cos t}=\\cos \\frac{dt}{dy}$$\n",
    "\n",
    "$$dy=\\cos ^2tdt$$\n",
    "积分之，得到\n",
    "$$y=\\int\\mathrm \\cos ^2t\\,\\mathrm{d}t=\\int\\mathrm {\\frac{\\cos 2t+1}{2}}\\,\\mathrm{d}t=\\frac{t}{2}+\\frac{1}{4}\\sin 2t+c$$\n",
    "因此，得到方程的参数形式的通解\n",
    "$$\\begin{cases}x=\\sin t\\\\y=\\frac{t}{2}+\\frac{1}{4}\\sin 2t+c\\end{cases}$$"
   ]
  },
  {
   "cell_type": "markdown",
   "metadata": {},
   "source": [
    " (6)$$y^2(y'-1)=(2-y')^2$$\n",
    " 令$2-y’=yt$,则$1-y'=yt-1$,得$y=t+\\frac{1}{t}$"
   ]
  },
  {
   "cell_type": "markdown",
   "metadata": {},
   "source": [
    "所以$$dx=\\frac{dy}{y'}=\\frac{dy}{2-yt}=\\frac{d(t+\\frac{1}{t})}{2-t(t+\\frac{1}{t})}=\\frac{(1-t^{-2})dt}{1-t^2}=\\frac{t^2-1}{t^2(1-t^2)}dt=-\\frac{1}{t^2}dt$$\n",
    "从而$$x=\\int(-\\frac{1}{t^2})dt+c=\\frac{1}{t}+c$$\n",
    "于是求得方程参数形式的通解为$$\\begin{cases}x=\\frac{1}{t}+c\\\\y=t+\\frac{1}{t}\\end{cases}$$\n",
    "因此方程的通解为$$y=\\frac{1}{x-c}+x-c$$"
   ]
  },
  {
   "cell_type": "markdown",
   "metadata": {
    "collapsed": true
   },
   "source": [
    "# <font color='red'>A 28/9"
   ]
  },
  {
   "cell_type": "code",
   "execution_count": null,
   "metadata": {
    "collapsed": true
   },
   "outputs": [],
   "source": []
  }
 ],
 "metadata": {
  "kernelspec": {
   "display_name": "SageMath 7.3",
   "language": "",
   "name": "sagemath"
  },
  "language_info": {
   "codemirror_mode": {
    "name": "ipython",
    "version": 2
   },
   "file_extension": ".py",
   "mimetype": "text/x-python",
   "name": "python",
   "nbconvert_exporter": "python",
   "pygments_lexer": "ipython2",
   "version": "2.7.10"
  }
 },
 "nbformat": 4,
 "nbformat_minor": 0
}
