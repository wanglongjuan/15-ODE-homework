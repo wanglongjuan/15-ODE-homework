{
 "cells": [
  {
   "cell_type": "markdown",
   "metadata": {
    "collapsed": true
   },
   "source": [
    "习题2.3：\n",
    "1.求解下列方程："
   ]
  },
  {
   "cell_type": "markdown",
   "metadata": {
    "collapsed": true
   },
   "source": [
    "（8）（x+2y）*dx+x*dy=0\n",
    "解：原方程可化为x*dx+2y*dx+x*dy=0\n",
    "    方程两边同时积分有： ∫ x*dx=0可得到方程的通解为(1/2)x^=c\n",
    "    "
   ]
  },
  {
   "cell_type": "markdown",
   "metadata": {
    "collapsed": true
   },
   "source": [
    "(9){x*cos(x+y)+sin(x+y)}*dx+x*cos(x+y)dy=0\n"
   ]
  },
  {
   "cell_type": "markdown",
   "metadata": {},
   "source": [
    "解：令x*cos(x+y)+sin(x+y)=M, x*cos(x+y)=N则"
   ]
  },
  {
   "cell_type": "markdown",
   "metadata": {
    "collapsed": true
   },
   "source": [
    "M对y求偏导有My=-xsin(x+y)+cos(x+y) N对x求偏导有Nx=cos(x+y)-xsin(x+y)"
   ]
  },
  {
   "cell_type": "markdown",
   "metadata": {
    "collapsed": true
   },
   "source": [
    "故原方程为恰当微分方程，通解为U(x,y)=c"
   ]
  },
  {
   "cell_type": "markdown",
   "metadata": {
    "collapsed": true
   },
   "source": [
    "现求通解Ux,∂U/∂x=xcos(x+y)+sin(x+y) ∂U/∂y=xcos(x+y)\n",
    "U= xsin(x+y)+Fy\n",
    "∂U/∂y=xcos(x+y)+dF/dy=xcos(x+y) 故Fy=c 因此通解U=xsin(x+y)+c"
   ]
  },
  {
   "cell_type": "markdown",
   "metadata": {},
   "source": [
    "(10)(ycosx-xsinx)dx+(ysinx+xcosx)dy=0\n",
    "解：(ycosx-xsinx)=M, (ysinx+xcosx)=N  ∂M/∂y=cosx ∂N/∂x=ycosx+cosx-xsinx,(∂M/∂y-∂N/∂x)/-M=1  故存在积分因子u=e^y\n",
    "  将u=e^y乘在方程(ycosx-xsinx)dx+(ysinx+xcosx)dy=0两边有："
   ]
  },
  {
   "cell_type": "markdown",
   "metadata": {},
   "source": [
    "e^y(ycosx-xsinx)dx+(ysinx+xcosx)dy=0， 故解得通解为(e^y)xcosx+(e^y)(y-1)sinx=c"
   ]
  },
  {
   "cell_type": "markdown",
   "metadata": {},
   "source": [
    "（11)x(4ydx+2xdy)+y^3(3ydx+5xdy)=0"
   ]
  },
  {
   "cell_type": "markdown",
   "metadata": {},
   "source": [
    " 解： 用(x^2)y乘以方程两边得4x^2y^2dx+2x^4ydy+3x^2y^5dx+5x^3y^4dy=0"
   ]
  },
  {
   "cell_type": "markdown",
   "metadata": {},
   "source": [
    "即：y^2d(x^4)+x^4dy^2+y^5dx^3+x^3dy^5=0"
   ]
  },
  {
   "cell_type": "markdown",
   "metadata": {},
   "source": [
    "d(x^4y^2+x^3y^5)=0,两边积分即可得到方程的通解为x^4y^2+x^3y^5=c"
   ]
  },
  {
   "cell_type": "markdown",
   "metadata": {},
   "source": [
    "4.设f(x,y)及∂X/∂y连续，试证方程dy-f(x,y)dx=0为线性微分方程的充分必要条件是它有仅依赖x的积分因子."
   ]
  },
  {
   "cell_type": "markdown",
   "metadata": {},
   "source": [
    "证明：1.先证必要性：若方程为线性微分方程，则有"
   ]
  },
  {
   "cell_type": "markdown",
   "metadata": {},
   "source": [
    "dy/dx=P(x)y+Q(x)此方程有积分因子U(x)=e^(∫P(x)dx),U(x)只与x有关"
   ]
  },
  {
   "cell_type": "markdown",
   "metadata": {},
   "source": [
    "2.再证充分性：若该方程有只与x有关的积分因子U(x)则U(x)dy-U(x)f(x,y)dx=0为恰当方程，从而（∂（-U(x)f(x,y))/∂y= dU(x)/dx,∂f/∂y=U'(x)/U（x)"
   ]
  },
  {
   "cell_type": "markdown",
   "metadata": {},
   "source": [
    "f=-∫(U'(x)/U（x))dy+Q(x)=P(x)y+Q(x)其中P(x)=-（U'(x)/U（x)）于是方程化为dy-(P(x)y+Q(x))dx=0即为一线性微分方程"
   ]
  },
  {
   "cell_type": "markdown",
   "metadata": {},
   "source": [
    "8.求出伯努力微分方程的积分因子"
   ]
  },
  {
   "cell_type": "markdown",
   "metadata": {},
   "source": [
    "解：伯努力微分方程为dy/dx+p(x)*y=q(x)y^n，则："
   ]
  },
  {
   "cell_type": "markdown",
   "metadata": {},
   "source": [
    "将伯努利方程两边同乘以y^(-n)，得y^(-n)dy/dx+p(x)*y^(1-n)=q(x)"
   ]
  },
  {
   "cell_type": "markdown",
   "metadata": {},
   "source": [
    "注意到y^(-n)dy/dx=[1/(1-n)]*d[y^(1-n)]/dx"
   ]
  },
  {
   "cell_type": "markdown",
   "metadata": {},
   "source": [
    "即伯努利方程转化为了一次线性方程的形式,易知一次线性方程他的积分因子是exp[(1-n)*(∫p(x)dy)]"
   ]
  },
  {
   "cell_type": "markdown",
   "metadata": {},
   "source": [
    "习题2.4"
   ]
  },
  {
   "cell_type": "markdown",
   "metadata": {},
   "source": [
    "求解下列方程："
   ]
  },
  {
   "cell_type": "markdown",
   "metadata": {},
   "source": [
    "1.xy'^3=1+y'"
   ]
  },
  {
   "cell_type": "markdown",
   "metadata": {},
   "source": [
    "解：令y’=dy/dx=1/p，则x*1/p^3=1+1/p,解得:x=p^3+p^2"
   ]
  },
  {
   "cell_type": "markdown",
   "metadata": {},
   "source": [
    " 又dy/dx=1/p，则dy=(1/p)dx=(1/p)(3p^2+2p)dp"
   ]
  },
  {
   "cell_type": "markdown",
   "metadata": {},
   "source": [
    "对dy=(1/p)dx=(1/p)(3p^2+2p)dp两边积分得y=3/2(p^2)+2p+c"
   ]
  },
  {
   "cell_type": "markdown",
   "metadata": {},
   "source": [
    "因此方程的解为x=p^3+p^2，y=3/2(p^2)+2p+c"
   ]
  },
  {
   "cell_type": "markdown",
   "metadata": {},
   "source": [
    "$2. y'^3-x^3(1-y')=0$"
   ]
  },
  {
   "cell_type": "markdown",
   "metadata": {},
   "source": [
    "解：令y’=dy/dx=tx,则原方程为(t^3)(x^3)-x^3(1-tx)=0,解得x=1/t-t^2"
   ]
  },
  {
   "cell_type": "markdown",
   "metadata": {},
   "source": [
    "又dy/dx=tx,则dy=dx(tx)=(-1/t^2-2t)(1-t^3),对dy=dx(tx)=(-1/t^2-2t)(1-t^3)两边积分得:y’=1/t-1/2(t^2)=2/5(t^5)+c"
   ]
  },
  {
   "cell_type": "markdown",
   "metadata": {},
   "source": [
    "3.y=y'^2e^y'"
   ]
  },
  {
   "cell_type": "markdown",
   "metadata": {},
   "source": [
    "解：令y'=p,y=(p^2)e^p,对两边积分有x=(p+1)e^p+c,特解y=0"
   ]
  },
  {
   "cell_type": "markdown",
   "metadata": {},
   "source": [
    "4.y(1+y'^2)=2a（a为常数)"
   ]
  },
  {
   "cell_type": "markdown",
   "metadata": {},
   "source": [
    " 解：令y'=tanb,则y=a(1+cos(2b)),又dy/dx=tanb,则对方程变形积分得x=-a(2b+sin2b)+c,特解y=2a"
   ]
  },
  {
   "cell_type": "markdown",
   "metadata": {},
   "source": [
    "5.x^2+Y'^2=1"
   ]
  },
  {
   "cell_type": "markdown",
   "metadata": {},
   "source": [
    "解：另y'=cost, 又dy/dx=cost,于是x=sint,y=t/2+1/4(sin2t)+c"
   ]
  },
  {
   "cell_type": "markdown",
   "metadata": {},
   "source": [
    "6.y^2(y'-1)=(2-y')^2"
   ]
  },
  {
   "cell_type": "markdown",
   "metadata": {
    "collapsed": true
   },
   "source": [
    "# <font color='red'>B 28/9 书写格式，还有题没做完就交？？？？"
   ]
  },
  {
   "cell_type": "code",
   "execution_count": null,
   "metadata": {
    "collapsed": true
   },
   "outputs": [],
   "source": []
  }
 ],
 "metadata": {
  "kernelspec": {
   "display_name": "Python 2",
   "language": "python",
   "name": "python2"
  },
  "language_info": {
   "codemirror_mode": {
    "name": "ipython",
    "version": 2
   },
   "file_extension": ".py",
   "mimetype": "text/x-python",
   "name": "python",
   "nbconvert_exporter": "python",
   "pygments_lexer": "ipython2",
   "version": "2.7.10"
  }
 },
 "nbformat": 4,
 "nbformat_minor": 0
}
