{
 "cells": [
  {
   "cell_type": "markdown",
   "metadata": {},
   "source": [
    "2015750218 刘建港"
   ]
  },
  {
   "cell_type": "markdown",
   "metadata": {},
   "source": [
    "2、求下列方程的解。\n",
    "（8）$$(x+2y)dx+xdy=0$$\n",
    "解：这里$M=x+2y$.$N=2x$\n",
    "$$\\frac{\\frac{\\partial(M)}{\\partial(y)}-\\frac{\\partial(N)}{\\partial(x)}}{N}=x$$\n",
    "方程有积分因子$M=e^(\\int(\\frac{1}{x})\\mathrm{d}x)$\n",
    "两边乘以$\\mu$得\n",
    "$$x(x+2y)dx+x^2dy=0$$是恰当微分方程，故方程通解为\n",
    "$$\\int(x^2+2xy)\\mathrm{d}x+\\int（x^2-\\frac{\\partial()}{\\partial(y)}\\int(x^2+2xy)\\mathrm{d}x)\\mathrm{d}y=c$$\n",
    "即$$x^3+3x^2y=c$$"
   ]
  },
  {
   "cell_type": "markdown",
   "metadata": {},
   "source": [
    "(9)$[xcos(x+y)+sin(x+y)]dx+xcos(x+y)dy=0$\n",
    "这里$M=xcos(x+y)+sin(x+y)$,$N=xcos(x+y)$\n",
    "因为$$\\frac{\\partial(M)}{\\partial(y)}=\\frac{\\partial(N)}{\\partial(x)}=cos(x+y)-xsin(x+y)$$\n",
    "现求$\\mu$使它满足\n",
    "1、$$\\frac{\\partial(\\mu)}{\\partial(x)}=xcos(x+y)+sin(x+y)$$\n",
    "2、$$\\frac{\\partial(\\mu)}{\\partial(y)}=xcos(x+y)$$\n",
    "1对x求积分得：\n",
    "3、$$\\mu=xsin(x+y)-cos(x+y)+\\varphi(y)$$\n",
    "3对y求导得：\n",
    "$$\\frac{\\partial(\\mu)}{\\partial(y)}=xcos(x+y)+sin(x+y)+\\frac{\\mathrm{d}\\varphi(y)}{\\mathrm{d}y}=xcos(x+y)$$\n",
    "$$\\frac{\\mathrm{d}\\varphi(y)}{\\mathrm{d}y}=-sin(x+y)$$\n",
    "$$\\mathrm{d}\\varphi(y)=-sin(x+y)dy$$\n",
    "$$\\varphi(y)=cos(x+y)$$\n",
    "所以$$\\mu=xsin(x+y)$$\n",
    "方程通解为\n",
    "$$xsin(x+y)=c$$"
   ]
  },
  {
   "cell_type": "markdown",
   "metadata": {},
   "source": [
    "(10)$$(ycosx-xsinx)dx+(ysinx+xcosx)dy=0$$\n",
    "这里$M=ycosx-xsinx$,$N=ysinx+xcosx$\n",
    "$$\\frac{\\frac{\\partial(M)}{\\partial(y)}-\\frac{\\partial(N)}{\\partial(x)}}{-M}=1$$\n",
    "$$\\mu=e^y$$,两边同乘以$\\mu$得\n",
    "$$e^y(ycosx-xsinx)dx+e^y(ysinx+xcosx)dy=0$$为恰当方程\n",
    "1、$$\\frac{\\partial(\\mu)}{\\partial(x)}=e^y(ycosx-xsinx)$$\n",
    "2、$$\\frac{\\partial(\\mu)}{\\partial(y)}=e^y(ysinx+xcosx)$$\n",
    "1对x求积分得：\n",
    "3、$$\\mu=e^y(ysinx+xcosx-sinx)+\\varphi(y)$$\n",
    "3对y求导得：\n",
    "$$\\frac{\\partial(\\mu)}{\\partial(y)}=e^y(ysinx+xcosx)+\\frac{\\mathrm{d}\\varphi(y)}{\\mathrm{d}y}=e^y(ysinx+xcosx)$$\n",
    "$$\\varphi(y)=c$$\n",
    "方程通解为：\n",
    "$$e^x[(y-1)sinx+cosx]=c$$\n"
   ]
  },
  {
   "cell_type": "markdown",
   "metadata": {},
   "source": [
    "(11)$x(4ydx+2xdy)+y^3(3ydx+5xdy)=0$\n",
    "两边同乘以$x^2y$得\n",
    "$$(4x^3y^2dx+2x^4ydy)+(3x^2y^5dx+5x^3ydy)=0$$\n",
    "即$$d(x^4y^2)+d(x^3y^5)=0$$\n",
    "故方程通解为：\n",
    "$$x^4u^2+x^3y^5=c$$"
   ]
  },
  {
   "cell_type": "markdown",
   "metadata": {},
   "source": [
    "4、设f(x,y)及$\\frac{\\partial(f)}{\\partial(y)}$连续，试证方程$dy-f(x.y)dx=0$为线性微分方程的充要条件是它有仅依赖于x的积分因子。\n",
    "证：必要性：\n",
    "若$dy-f(x,y)dx=0为线性微分方程，则$$\\frac{dy}{dx}=P(x)y+Q(x)$$\n",
    "此方程有积分因子$$\\mu(x)=e^-\\int(P(x))\\mathrm{d}x$$,$$\\mu(x)$$只与x有关。\n",
    "充分性：若该方程有仅依赖于x的积分因子。则$$\\mu(x)dy-\\mu(x)f(x,y)dx=0$$为恰当微分方程。\n",
    "从而$$\\frac{\\partial(-\\mu(x)f(x,y))}{\\partial(y)}=\\frac{d[\\mu(x)]}{dx}$$\n",
    "即$$\\frac{\\partial(f)}{\\partial(y)}=-\\frac{\\mu'(x)}{\\mu(x)}$$\n",
    "$$f=-\\frac{\\mu'(x)}{\\mu(x)}dy+Q(x)=-\\frac{\\mu'(x)}{\\mu(x)}y+Q(x)=P(x)y+Q(x)$$\n",
    "其中$$P(x)=--\\frac{\\mu'(x)}{\\mu(x)}$$\n",
    "于是方程可化为$dy-(P(x)y+Q(x))dx=0.\n",
    "即方程为线性微分方程。"
   ]
  },
  {
   "cell_type": "markdown",
   "metadata": {},
   "source": [
    "8、求出伯努利微分方程的积分因子。\n",
    "解：$$\\frac{dy}{dx}=P(x)y+Q(x)y^n$$\n",
    "两边同乘以$y^-n$,令$z=y^-n$,\n",
    "$$\\frac{dz}{dx}=(1-n)P(x)z+(1-n)Q(x)$$,线性方程有积分因子；\n",
    "$$\\mu=e^（-\\int((1-n)P(x))dx）=e^(n-1)\\int(P(x))dx$$,故原方程的积分因子为：\n",
    "$$\\mu=e^（-\\int((1-n)P(x))dx）=e^(n-1)\\int(P(x))dx$$,证毕。\n"
   ]
  },
  {
   "cell_type": "markdown",
   "metadata": {},
   "source": [
    "# <font color='red'>没写完？？"
   ]
  },
  {
   "cell_type": "markdown",
   "metadata": {},
   "source": [
    "1、求解下列方程:\n",
    "解：\n",
    "（1）$xy'^3=1+y'$\n",
    "令$$\\frac{dy}{dx}=y'=P=\\frac{1}{t}$$\n",
    "则$$x=(1+\\frac{1}{t})t^3=t^3+t^2$$\n",
    "从而$$y=\\int(P)dx+c=\\int(\\frac{1}{t})d(t^3+t^2)+c=\\int(3t+2)dt+c=\\frac{3}{2}t^2+2t+c$$,\n",
    "于是求得方程参数方程得通解为$$x=t^3+t^2$$,$$y=\\frac{3}{2}t^2+2t+c$$"
   ]
  },
  {
   "cell_type": "markdown",
   "metadata": {},
   "source": [
    "(2)$y'^3-x^3(1-y')=0$\n",
    "令$$\\frac{dy}{dx}=y'=P=tx$$,则$(tx)^3-x^3(1-tx)=0$,即$$x=\\frac{t^3-1}{t}=t^2-\\frac{1}{t}$$,\n",
    "从而$$y=\\int(P)dx+c=\\int(t(t^2-\\frac{1}{t})d(t^2-\\frac{1}{t})+c=\\int((t^3-1)(2t+\\frac{1}{t}))dt+c=\\frac{2}{5}t^2-\\frac{1}{2}t^2+\\frac{1}{t}+c$$,\n",
    "于是求得方程参数方程得通解为$$x=\\frac{t^3-1}{t}=t^2-\\frac{1}{t}$$,$$y=\\frac{2}{5}t^2-\\frac{1}{2}t^2+\\frac{1}{t}+c$$,\n",
    "       "
   ]
  },
  {
   "cell_type": "markdown",
   "metadata": {},
   "source": [
    "(3)$y=y'^2e^(y')$\n",
    "令$$\\frac{dy}{dx}=y'=P$$,则$y=P^2e^P$,\n",
    "从而$$x=\\int\\frac{1}{P}d(P^2e^P)+c=\\int(2e^P+Pe^P)dP+c=(1+P)e^P+c$$\n",
    "于是求得方程参数方程得通解为$$x=(1+P)e^P+c$$.$$y=y^2e^P$$\n",
    "另外，$y=0$也是方程的解。"
   ]
  },
  {
   "cell_type": "markdown",
   "metadata": {},
   "source": [
    "(4)$y(1+y'^2)=2a$,a为常数。\n",
    "令$$\\frac{dy}{dx}=y'=tg\\varphi$$,则$$y=\\frac{2a}{1+tg^2\\varphi}=\\frac{2a}{sec^2\\varphi}=2acos^2\\varphi$$\n",
    "从而$$x=\\int(\\frac{1}{P})dy+c=-4a\\int(cos^2\\varphi)d\\varphi+c=-a(2\\varphi+sin2\\varphi)+c$$,\n",
    "于是求得方程参数方程得通解为$$x=-a(2\\varphi+sin2\\varphi)+c$$,$$y=2acos^2\\varphi$$"
   ]
  },
  {
   "cell_type": "markdown",
   "metadata": {},
   "source": [
    "(5)$x^2+y'^2=1$\n",
    "令$$\\frac{dy}{dx}=y'=P=cost$$\n",
    "$$\\frac{dy}{dx}=y'=P=cost$$,则$$x=\\sqrt{1-cos^2t}=sint$$,\n",
    "从而$$y=\\int(cost)d(sint)+c=\\frac{1}{2}t+\\frac{1}{4}sin2t+c$$\n",
    "于是求得方程参数方程得通解为$$x=sint$$,$$y=\\frac{1}{2}t+\\frac{1}{4}sin2t+c$$"
   ]
  },
  {
   "cell_type": "markdown",
   "metadata": {},
   "source": [
    "(6)$y^2(y'-1)=(2-y')^2$\n",
    "令$$\\frac{dy}{dx}=y'=yt$$,则$$1-y'=yt-1$$,得$$y=t+\\frac{1}{t}$$,\n",
    "所以$$dx=\\frac{dy}{y'}=\\frac{dy}{2-yt}=\\frac{d(t+\\frac{1}{t})}{2-t(t+\\frac{1}{t})}=-\\frac{1}{t^2}dt$$,\n",
    "从而$$x=\\int(-\\frac{1}{t^2})dt+c=\\frac{1}{t}+c$$\n",
    "于是求得方程参数方程得通解为$$x=\\frac{1}{t}+c$$,$$y=\\frac{1}{t}+t$$."
   ]
  },
  {
   "cell_type": "markdown",
   "metadata": {},
   "source": [
    "# <font color='red'>A 28/9"
   ]
  },
  {
   "cell_type": "code",
   "execution_count": null,
   "metadata": {
    "collapsed": true
   },
   "outputs": [],
   "source": []
  }
 ],
 "metadata": {
  "kernelspec": {
   "display_name": "SageMath 7.3",
   "language": "",
   "name": "sagemath"
  },
  "language_info": {
   "codemirror_mode": {
    "name": "ipython",
    "version": 2
   },
   "file_extension": ".py",
   "mimetype": "text/x-python",
   "name": "python",
   "nbconvert_exporter": "python",
   "pygments_lexer": "ipython2",
   "version": "2.7.10"
  }
 },
 "nbformat": 4,
 "nbformat_minor": 0
}
