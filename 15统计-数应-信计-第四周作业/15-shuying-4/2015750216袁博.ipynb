{
 "cells": [
  {
   "cell_type": "markdown",
   "metadata": {
    "collapsed": true
   },
   "source": [
    "P61.2(8)\n",
    "解：由于$$M=x+2y,N=x,\\frac{\\partial M}{\\partial y} = 2.\\frac{\\partial N}{\\partial x} = 1$$方程不是恰当的\n",
    "因为$$\\frac{\\frac{\\partial M}{\\partial y}- \\frac{\\partial N}{\\partial x}}{N}=\\frac{1}{x}$$\n",
    "所以方程有积分因子$\\mu= e^{\\int \\frac{1}{x}dx} = x$ ，$\\mu = x 乘以方程两边得到 2xydy+x^2dy+x^2dx=0$即$$d(x^2y+\\frac{1}{3}x^3)=0$$所以方程的通解为$x^3+3x^2y=c$,其中c为任意常数"
   ]
  },
  {
   "cell_type": "markdown",
   "metadata": {},
   "source": [
    "（9）由于$$M=xcos(x+y)+sin(x+y),N=xcos(x+y),\\frac{\\partial M}{\\partial y}=-xsinx(x+y)+cos(x+y),\\frac{\\partial N} {\\partial x}=-xsin(x+y)+cos(x+y)$$\n",
    "方程式恰当的，且可以写为$$d(xsin(x+y)) = 0$$\n",
    "于是方程的通解为$xsin(x+y)= c$c为任意常数"
   ]
  },
  {
   "cell_type": "markdown",
   "metadata": {},
   "source": [
    "（10）$$M=ycosx-xsinx,N=ysinx+xcosx,\\frac{\\partial M}{\\partial y}=cosx,\\frac{\\partial N}{\\partial x}=ycosx+cosx-xsinx$$\n",
    "从而方程不是恰当的，因为$$\\frac{\\frac{\\partial M}{\\partial y}-\\frac{\\partial N}{\\partial x}}{-M}= 1$$\n",
    "有积分因子$$\\mu = e^{\\int 1dy}=e^y$$方程两边乘以得$$d[(y-1)e^ysinx+e^yxcosx] = 0$$通解为\n",
    "$e^y(y-1)sinx+e^yxcosx = c$,c为任意常数"
   ]
  },
  {
   "cell_type": "markdown",
   "metadata": {},
   "source": [
    "（11)$$M=4xy+3y^4,N=2x^2+5xy^3,\\frac{\\partial M}{\\partial y}=4x+12y^3,\\frac{\\partial N}{\\partial x}=4x+5y^3$$方程不恰当，设积分因子为$$\\mu = x^my^n$$ 于是乘以两边得$$(4x^{m+1}y^{n+1}+3x^my^{n+4})dx+(2x^{m+2}y^n+5x^{m+1}y^{n+3})dy = 0$$它是恰当方程的充要条件为$$4(n+1)x^{m+1}y^n+3(n+4)x^my^{n+3} = 2(m+2)x^{m+1}y^n+5(m+1)x^my^{n+3}$$对比系数解得$m = 2,n = 1$\n",
    "即积分因子为$\\mu = x^2y$,方程两边乘以后为$$4x^3y^2dx+3x^2y^5dx+2x^4ydy+5x^3y^4dy = d(x^4y^2)+d(x^3y^5) = 0$$于是通解为$x^4y^2+x^3y^5 = c$,另外$x = 0,y = 0$也是方程的解"
   ]
  },
  {
   "cell_type": "markdown",
   "metadata": {},
   "source": [
    "4.充分性：设$dy-f(x,y)dx = 0$有依赖于x的积分因子，所以存在某个$\\varphi(x)$满足$$\\frac{\\frac{\\partial M}{\\partial y}-\\frac{\\partial N}{\\partial x}}{N} = \\frac{-\\frac{\\partial f}{\\partial y}-0}{1} = \\varphi(x)$$即$\\frac{\\partial f}{\\partial y} = -\\varphi(x)$积分得$$f(x,y) = -\\varphi(x)y+h(x)$$\n",
    "其中h(x)是关于x的任意可微函数，这样方程便为$\\frac{dy}{dx} = \\varphi(x)y+h(x)$,即$dy-f(x,y)dx = 0$是线性微分方程。"
   ]
  },
  {
   "cell_type": "markdown",
   "metadata": {},
   "source": [
    "必要性：设方程$dy-f(x,y)dx = 0$是线性微分方程，即存在g(x),h(x),使得f(x,y)=y·g(x)+h(x).这样$$M=-f(x,y) = -yg(x)-h(x),N = 1,\\frac{\\frac{\\partial M}{\\partial y}-\\frac{\\partial N}{\\partial x}}{N} = \\frac{-g(x)}{1} = -g(x)$$所以方程有积分因子$\\mu = e^{\\int -g(x)dx},$\n",
    "即方程有仅依赖x的积分因子"
   ]
  },
  {
   "cell_type": "markdown",
   "metadata": {},
   "source": [
    " 8.伯努利方程为$$\\frac{dy}{dx} = P(x)y+Q(x)y^n(n\\neq 0,1)$$改写为$$dy-P(x)ydx-Q(x)y^ndx = 0$$\n",
    " 乘以$y^{-n}$得$$d(y^{1-n}-(1-n)P(x)y^{1-n}dx-(1-n)Q(x)dx = 0$$\n",
    " 再乘以$e^{-(1-n)\\int P(x)dx}$得$$d[y^{1-n}e^{-(1-n)\\int P(x)dx}]-d[\\int (1-n)Q(x)e^{-(1-n)\\int P(x)dx}dx]=0$$这是全微分方程，因此所求的积分因子是$$y^{-n}e^{-(1-n)\\int P(x)dx}$$"
   ]
  },
  {
   "cell_type": "markdown",
   "metadata": {},
   "source": [
    "P69.1"
   ]
  },
  {
   "cell_type": "markdown",
   "metadata": {},
   "source": [
    "(1)不显含y，记$y' = \\frac{1}{t}$,则方程化为$$xt^{-3} = 1+t^{-1},x = t^3+t^2$$及$$dy = \\frac{dx}{t} = t^{-1}d(t^3+t^2) = (3t+2)dt$$所以$y = \\frac{3}{2}t^2+2t+c$,因此方程的通解为$\\\n",
    "  \\begin{cases}\n",
    "    x = t^3+t^2\\\\\n",
    "    y = \\frac{3}{2}t^2+2t+c\\\\\n",
    "    \\end{cases}\n",
    "$其中t为参数，c为任意常数"
   ]
  },
  {
   "cell_type": "markdown",
   "metadata": {},
   "source": [
    "(2)方程不显含y，记$y'=tx$,则方程化为$$(t^3-(1-tx))x^3 = 0$$解出$x = \\frac{1}{t}-t^2$两边对y求导得$$\\frac{1}{1-t^3} = (-\\frac{1}{t^2}-2t)·\\frac{dt}{dy}$$即$$dy = [(1-t^3)(-\\frac{1}{t^2}-2t)]dt$$积分得$y =-\\frac{1}{2}t^2+\\frac{2}{5}t^5+\\frac{1}{t}+c$ 所以方程的通解为\n",
    "$\n",
    "  \\begin{cases}\n",
    "   x = \\frac{1}{t}-t^2\\\\\n",
    "   y = -\\frac{1}{2}t^2+\\frac{2}{5}t^5+\\frac{1}{t}+c\\\\\n",
    "   \\end{cases}\n",
    "   $t为参数，c为任意常数"
   ]
  },
  {
   "cell_type": "markdown",
   "metadata": {},
   "source": [
    "(3)已解出y，不显含x，令$y'= p$则方程化为$y = p^2e^p$,对x求导数，即得$dx = (p+2)e^pdp$积分得$$x = (p+1)e^p+c$$所以方程的通解为\n",
    "$\n",
    "  \\begin{cases}\n",
    "  x = (p+1)e^p+c\\\\\n",
    "  y = p^2e^p\\\\\n",
    "  \\end{cases}$p为参数，c为任意常数"
   ]
  },
  {
   "cell_type": "markdown",
   "metadata": {},
   "source": [
    "(4)方程不显含x，令$y' = \\tan t$,则方程化为$y = 2a\\cos t^2$两边关于x求导，得$dx = -4a\\cos t^2dt$，积分得$$x = -a(2t+\\sin 2t) + c$$\n",
    "所以方程的通解为$\n",
    "  \\begin{cases}\n",
    "  x = -a(2t +\\sin 2t) + c\\\\\n",
    "  y = 2a\\cos t^2\\\\\n",
    "  \\end{cases}$,其中t为参数，c为任意常数"
   ]
  },
  {
   "cell_type": "markdown",
   "metadata": {},
   "source": [
    "(5)方程不显含y，令$y' = \\cos t$,则方程化为$x = \\sin t$  对y求导的$dy =\\cos t^2dt$,积分得$$y = \\frac{t}{2}+\\frac{1}{4}\\sin 2t + c$$所以方程的通解为$\n",
    "   \\begin{cases}\n",
    "   x = \\sin t\\\\\n",
    "   y = \\frac{t}{2} + \\frac{1}{4}\\sin 2t + c\\\\\n",
    "   \\end{cases}$t为参数，c为任意常数"
   ]
  },
  {
   "cell_type": "markdown",
   "metadata": {},
   "source": [
    "(6)方程不显含x，令$2-y; = ty,$则方程化为$y^2(1-yt) = y^2t^2$,由此得$y = \\frac{1}{t},y' = 1+t^2$因此$$dx = \\frac{dy}{y'} = \\frac{(-\\frac{1}{t^2}-1)}{1+t^2}dt = -\\frac{1}{t^2}dt$$积分得$x = \\frac{1}{t}+c$,所以原方程的参数通解为$\n",
    " \\begin{cases}\n",
    " x = \\frac{1}{t} + c\\\\\n",
    " y = \\frac{1}{t} - t\\\\\n",
    " \\end{cases}$c为任意常数"
   ]
  },
  {
   "cell_type": "markdown",
   "metadata": {
    "collapsed": true
   },
   "source": [
    "# <font color='red'>A 28/9"
   ]
  },
  {
   "cell_type": "code",
   "execution_count": null,
   "metadata": {
    "collapsed": true
   },
   "outputs": [],
   "source": []
  }
 ],
 "metadata": {
  "kernelspec": {
   "display_name": "SageMath 7.3",
   "language": "",
   "name": "sagemath"
  },
  "language_info": {
   "codemirror_mode": {
    "name": "ipython",
    "version": 2
   },
   "file_extension": ".py",
   "mimetype": "text/x-python",
   "name": "python",
   "nbconvert_exporter": "python",
   "pygments_lexer": "ipython2",
   "version": "2.7.10"
  }
 },
 "nbformat": 4,
 "nbformat_minor": 0
}
