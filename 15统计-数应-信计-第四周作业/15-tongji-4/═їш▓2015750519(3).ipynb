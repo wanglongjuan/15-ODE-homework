{
 "cells": [
  {
   "cell_type": "markdown",
   "metadata": {},
   "source": [
    "$\\bf2、求下列方程的解：$\n",
    "\n",
    "(8)$\\bf(x+2y)\\mathrm{dx}+x\\mathrm{dy}=0$\n",
    "\n",
    "\n",
    "解：$M=x+2y,N=x$\n",
    "\n",
    "$\\frac{\\partial M}{\\partial y}=2,\\frac{\\partial N}{\\partial x}=1$\n",
    "\n",
    "∴该方程不是恰当微分方程\n",
    "\n",
    "$\\frac{\\frac{\\partial M}{\\partial y}-\\frac{\\partial N}{\\partial x}}{N}=\\frac{1}{x}只与x有关$\n",
    "\n",
    "∴方程有只与x有关的积分因子\n",
    "\n",
    "$\\mu=e^{\\int{\\frac{1}{x}}\\mathrm{dx}}=x$\n",
    "\n",
    "$\\mu=x$同时乘以方程的两边得：\n",
    "\n",
    "$(x^2+2xy)\\mathrm{dx}+x^2\\mathrm{dy}=0$\n",
    "\n",
    "$\\mathrm{d(\\frac{1}{3}x^3+x^2y)}=0$\n",
    "\n",
    "两边同时积分得方程的解：$\\frac{1}{3}x^3+x^2y=c$"
   ]
  },
  {
   "cell_type": "markdown",
   "metadata": {},
   "source": [
    "(9)$\\bf[x\\cos{(x+y)}+\\sin{(x+y)}]\\mathrm{dx}+x\\cos{(x+y)}\\mathrm{dy}=0$\n",
    "\n",
    "解：$M=x\\cos{(x+y)}+\\sin{(x+y)},N=x\\cos{(x+y)}$\n",
    "\n",
    "$\\frac{\\partial M}{\\partial y}=-x\\sin{(x+y)}+\\cos{(x+y)}$\n",
    "\n",
    "$\\frac{\\partial N}{\\partial x}=\\cos{(x+y)}-x\\sin{(x+y)}$\n",
    "\n",
    "$\\therefore$该方程是恰当微分方程\n",
    "\n",
    "接下来求u，使它同时满足如下两个方程：\n",
    "\n",
    "$\\frac{\\partial u}{\\partial x}=x\\cos{(x+y)}+\\sin{(x+y)} \\cdots①$\n",
    "\n",
    "$\\frac{\\partial u}{\\partial y}=x\\cos{(x+y)} \\cdots②$\n",
    "\n",
    "$①$式对$x$求积分得：$u=x\\sin{(x+y)}+\\varphi(y) \\cdots③$\n",
    "\n",
    "将$③$式对$y$求导，并使它满足$②$式即得：\n",
    "\n",
    "$\\frac{\\partial u}{\\partial y}=x\\cos{(x+y)}+\\frac{\\mathrm{d\\varphi(y)}}{\\mathrm{dy}}=x\\cos{(x+y)}$\n",
    "\n",
    "$\\therefore \\frac{\\mathrm{d\\varphi(y)}}{\\mathrm{dy}}=0$\n",
    "\n",
    "上式对y积分后得：$\\varphi(y)=c$(c为任意常数) $\\cdots④$\n",
    "\n",
    "将$④$代入$③$得：$u=x\\sin{(x+y)}+c$\n",
    "\n",
    "∴方程的通解为$x\\sin{(x+y)}+c=0$，其中c为任意常数"
   ]
  },
  {
   "cell_type": "markdown",
   "metadata": {},
   "source": [
    "(10)$\\bf(y\\cos{x}-x\\sin{x})\\mathrm{dx}+(y\\sin{x}+x\\cos{x})\\mathrm{dy}=0$\n",
    "\n",
    "解：$M=y\\cos{x}-x\\sin{x},N=y\\sin{x}+x\\cos{x}$\n",
    "\n",
    "$\\frac{\\partial M}{\\partial y}=\\cos{x}$\n",
    "\n",
    "$\\frac{\\partial N}{\\partial x}=y\\cos{x}+\\cos{x}-x\\sin{x}$\n",
    "\n",
    "∴该方程不是恰当微分方程\n",
    "\n",
    "$\\frac{\\frac{\\partial M}{\\partial y}-\\frac{\\partial N}{\\partial x}}{-M}=1$只与$y$有关\n",
    "\n",
    "故方程有只与$y$有关的积分因子\n",
    "\n",
    "$\\mu=e^{\\int{1}\\mathrm{dy}}=e^y$\n",
    "\n",
    "以$\\mu=e^y$同时乘以方程的两边得：\n",
    "\n",
    "$e^y(y\\cos{x}-x\\sin{x})\\mathrm{dx}+e^y(y\\sin{x}+x\\cos{x})\\mathrm{dy}=0$\n",
    "\n",
    "$\\mathrm{d(ye^y\\sin{x}+xe^y\\cos{x}-e^y\\sin{x})}=0$\n",
    "\n",
    "两边同时积分，得方程的解：$e^y(y\\sin{x}+x\\cos{x}-\\sin{x})=c$"
   ]
  },
  {
   "cell_type": "markdown",
   "metadata": {},
   "source": [
    "(11)$\\bf x(4y\\mathrm{dx}+2x\\mathrm{dy})+y^3(3y\\mathrm{dx}+5x\\mathrm{dy})=0$\n",
    "\n",
    "解：由题变形得：$\\mathrm{d(2x^2y)}+(3y^4\\mathrm{dx}+5xy^3\\mathrm{dy})=0$\n",
    "\n",
    "对方程$(3y^4\\mathrm{dx}+5xy^3\\mathrm{dy})=0$\n",
    "\n",
    "有：$M=3y^4,N=5xy^3$\n",
    "\n",
    "$\\frac{\\partial M}{\\partial y}=12y^3$\n",
    "\n",
    "$\\frac{\\partial N}{\\partial x}=5y^3$\n",
    "\n",
    "∴该方程不是恰当微分方程\n",
    "\n",
    "$\\frac{\\frac{\\partial M}{\\partial y}-\\frac{\\partial N}{\\partial x}}{N}=\\frac{7}{3y}$只与$x$有关\n",
    "\n",
    "故方程有只与$x$有关的积分因子\n",
    "\n",
    "$\\mu=e^{\\int{\\frac{7}{5x}}\\mathrm{d}x}=x^{\\frac{7}{5}}$\n",
    "\n",
    "以$\\mu=x^{\\frac{7}{5}}$同时乘以方程$(3y^4\\mathrm{dx}+5xy^3\\mathrm{dy})=0$的两边得：\n",
    "\n",
    "$3x^{\\frac{7}{5}}y^4\\mathrm{dx}+5x^{\\frac{12}{5}}y^3\\mathrm{dy}=0$\n",
    "\n",
    "两边同时积分得：$\\frac{5}{4}x^{\\frac{12}{5}}y^4=0$\n",
    "\n",
    "∴方程的解为$2x^2y+\\frac{5}{4}x^{\\frac{12}{5}}y^4=c$"
   ]
  },
  {
   "cell_type": "markdown",
   "metadata": {},
   "source": [
    "# <font color='red'>错误"
   ]
  },
  {
   "cell_type": "markdown",
   "metadata": {},
   "source": [
    "$\\bf4、设f(x,y)$及$\\frac{\\partial f}{\\partial y}连续，试证方程\\mathrm{dy}-f(x,y)\\mathrm{dx}=0为线性微分方程的充要条件是它有仅依赖于$x$的积分因子.$\n",
    "\n",
    "证明：\n",
    "\n",
    "①充分性：若该方程有仅依赖于$x$的积分因子$\\mu(x)$\n",
    "\n",
    "则$\\mu(x)dy-\\mu(x)f(x,y)dx=0$为恰当微分方程\n",
    "\n",
    "$M=-\\mu(x)f(x,y),N=\\mu(x)$\n",
    "\n",
    "$\\frac{\\partial{M}}{\\partial{y}}=\\frac{\\partial{N}}{\\partial{x}}$\n",
    "\n",
    "即$-\\mu(x)f_y(x,y)=\\mu'(x)$\n",
    "\n",
    "$f_y(x,y)=-\\frac{\\mu'(x)}{\\mu(x)}$\n",
    "\n",
    "两边同时对y积分得：$f(x,y)=-\\int{\\frac{\\mu'(x)}{\\mu(x)}}\\mathrm{dy}+Q(x)=-\\frac{\\mu'(x)}{\\mu(x)}y+Q(x)=P(x)y+Q(x)$\n",
    "\n",
    "其中$P(x)=-\\frac{\\mu'(x)}{\\mu(x)}$\n",
    "\n",
    "$\\therefore$方程可化为$\\mathrm{dy}-(P(x)y+Q(x))\\mathrm{dx}=0$，即方程为一阶线性方程；\n",
    "\n",
    "②必要性：若方程$\\mathrm{dy}-f(x,y)\\mathrm{dx}=0$为线性微分方程\n",
    "\n",
    "则有$\\frac{\\mathrm{dy}}{\\mathrm{dx}}=P(x)y+Q(x)$\n",
    "\n",
    "此方程有积分因子$\\mu(x)=e^{-\\int{P(x)}\\mathrm{dx}}$,$\\mu(x)$只与x有关\n",
    "\n",
    "∴结论成立"
   ]
  },
  {
   "cell_type": "markdown",
   "metadata": {},
   "source": [
    "$\\bf8、求出伯努利微分方程的积分因子.$\n",
    "\n",
    "解：$\\frac{\\mathrm{dy}}{\\mathrm{dx}}=P(x)y+Q(x)y^n,y\\neq0$\n",
    "\n",
    "两边同时乘以$y^{-n}$得$y^{-n}\\frac{\\mathrm{dy}}{\\mathrm{dx}}=y^{1-n}P(x)+Q(x)$\n",
    "\n",
    "令$z=y^{1-n}$,则$\\frac{\\mathrm{dz}}{\\mathrm{dx}}=(1-n)y^{-n}\\frac{\\mathrm{dy}}{\\mathrm{dx}}$\n",
    "\n",
    "则方程可写为$\\frac{\\mathrm{dz}}{\\mathrm{dx}}=(1-n)P(x)z+(1-n)Q(x)$\n",
    "\n",
    "$[(1-n)P(x)z+(1-n)Q(x)]\\mathrm{dx}-\\mathrm{dz}=0$\n",
    "\n",
    "$M=(1-n)P(x)z+(1-n)Q(x),N=-1$\n",
    "\n",
    "$\\frac{\\partial M}{\\partial z}=(1-n)P(x),\\frac{\\partial N}{\\partial x}=0$\n",
    "\n",
    "$\\frac{\\frac{\\partial M}{\\partial z}-\\frac{\\partial N}{\\partial x}}{N}=-(1-n)P(x)$只与$x$有关\n",
    "\n",
    "故方程有只与$x$有关的积分因子$\\mu=e^{\\int{-(1-n)P(x)}\\mathrm{dx}}=e^{(n-1)\\int{P(x)}\\mathrm{dx}}$\n",
    "\n",
    "∴伯努利微分方程的积分因子为$\\mu=e^{(n-1)\\int{P(x)}\\mathrm{dx}}$"
   ]
  },
  {
   "cell_type": "markdown",
   "metadata": {},
   "source": [
    "# <font color='red'>y^-n"
   ]
  },
  {
   "cell_type": "markdown",
   "metadata": {
    "collapsed": true
   },
   "source": [
    "$\\bf1、求解下列方程：$\n",
    "\n",
    "$\\bf(1)xy'^3=1+y'$\n",
    "\n",
    "解：令$y'=\\frac{1}{t}$,则:$\n",
    "\n",
    "$x=t^3+t^2$\n",
    "\n",
    "$\\mathrm{dy}=y'\\mathrm{dx}=\\frac{1}{t}(3t^2+2t)\\mathrm{dt}=(3t+2)\\mathrm{t}$\n",
    "\n",
    "$\\therefore$积分得$y=\\frac{3}{2}t^2+2t+c$\n",
    "\n",
    "$\\therefore$该方程得解为$\\begin{cases}x=t^3+t^2\\\\y=\\frac{3}{2}t^2+2t+c\\end{cases}$(c为任意常数)以及$y=0$"
   ]
  },
  {
   "cell_type": "markdown",
   "metadata": {},
   "source": [
    "$\\bf(2)y'^3-x^3(1-y')=0$\n",
    "\n",
    "解：令$y'=tx$,则可得$x=\\frac{1}{t}-t^2$\n",
    "\n",
    "$\\mathrm{dy}=y'\\mathrm{dx}=t(\\frac{1}{t}-t^2)\\mathrm{d(\\frac{1}{t}-t^2)}=(2t^4-t-\\frac{1}{t^2})\\mathrm{dt}$\n",
    "\n",
    "$\\therefore$积分得$y=\\frac{2}{5}t^5-\\frac{1}{2}t^2+\\frac{1}{t}+c$\n",
    "\n",
    "$\\therefore$该方程得解为$\\begin{cases}x=\\frac{1}{t}-t^2\\\\y=\\frac{2}{5}t^5-\\frac{1}{2}t^2+\\frac{1}{t}+c\\end{cases}$(c为\n",
    "任意常数)以及$y=0$"
   ]
  },
  {
   "cell_type": "markdown",
   "metadata": {},
   "source": [
    "$\\bf(3)y=y'^2e^{y'}$\n",
    "\n",
    "解：设$y'=\\frac{\\mathrm{dy}}{\\mathrm{dx}}=t$\n",
    "\n",
    "则$\\mathrm{dx}=\\frac{\\mathrm{dy}}{t}$\n",
    "\n",
    "原方程变为$y=t^2e^t$,两边对$t$求导得$\\frac{\\mathrm{dy}}{\\mathrm{dt}}=2te^t+t^2e^t$\n",
    "\n",
    "$\\therefore \\mathrm{dx}=\\frac{\\mathrm{dy}}{t}=(2e^t+te^t)\\mathrm{dt}$\n",
    "\n",
    "两边同时求积分得：$x=\\int{2e^t+te^t}\\mathrm{dt}=2e^t+\\int{t}\\mathrm{de^t}=2e^t+te^t-\\int{e^t}\\mathrm{dt}=(t+1)e^t+c$($c$为任意常数)\n",
    "\n",
    "当$y'=t=0$时，$y=0$\n",
    "\n",
    "$\\therefore$该方程得解为$\\begin{cases}x=(t+1)e^t+c\\\\y=t^2e^t\\end{cases}$(c为任意常数)以及$y=0$"
   ]
  },
  {
   "cell_type": "markdown",
   "metadata": {},
   "source": [
    "$\\bf(4)y(1+y'^2)=2a$(a为常数)\n",
    "\n",
    "解：令$y'=\\frac{\\mathrm{dy}}{\\mathrm{dx}}=\\tan{t}$,则$\\mathrm{dx}=\\frac{\\mathrm{dy}}{\\tan{t}}$\n",
    "\n",
    "原方程变为$y(1+\\tan^2{t})=2a$\n",
    "\n",
    "$y=2a\\cos^2{t}=a(1+\\cos{2t})$\n",
    "\n",
    "两边对$t$求导得$\\frac{\\mathrm{dy}}{\\mathrm{dt}}=-4a\\sin{t}\\cos{t}$\n",
    "\n",
    "$\\therefore \\mathrm{dx}=\\frac{\\mathrm{dy}}{\\tan{t}}=-4a\\cos^2{t}\\mathrm{dt}$\n",
    "\n",
    "两边同时求积分得：\n",
    "\n",
    "$x=-4a\\int{\\cos^2{t}}\\mathrm{dt}$\n",
    "\n",
    "$=-4a(t\\cos^2{t}-\\int{t}\\mathrm{d\\cos^2{t}})$\n",
    "\n",
    "$=-4a(t\\cos^2{t}-\\frac{1}{2}\\int{t}\\mathrm{d\\cos{2t}})$\n",
    "\n",
    "$=-4a(\\frac{1}{2}t+\\frac{1}{4}\\sin{2t})$\n",
    "\n",
    "$=-a(2t+\\sin{2t})+c$($c$为任意常数)\n",
    "\n",
    "当$y'=0$时,$y=2a$\n",
    "\n",
    "$\\therefore$该方程得解为$\\begin{cases}x=-a(2t+\\sin{2t})+c\\\\y=a(1+\\cos{2t})\\end{cases}$(c为任意常数)以及$y=2a$"
   ]
  },
  {
   "cell_type": "markdown",
   "metadata": {},
   "source": [
    "$\\bf(5)x^2+y'^2=1$\n",
    "\n",
    "解：令$y'=\\cos{t},x=\\sin{t}$\n",
    "\n",
    "则$\\frac{\\mathrm{dy}}{\\mathrm{dx}}=\\cos{t}$,将$x=\\sin{t}$代入得\n",
    "\n",
    "$\\mathrm{dy}=\\cos^2{t}\\mathrm{dt}$\n",
    "\n",
    "两边同时求积分$y=\\int{\\cos^2{t}}\\mathrm{dt}=\\frac{1}{2}t+\\frac{1}{4}\\sin{2t}+c$($c$为任意常数)\n",
    "\n",
    "$\\therefore$该方程得解为$\\begin{cases}x=\\sin{t}\\\\y=\\frac{1}{2}t+\\frac{1}{4}\\sin{2t}+c\\end{cases}$($c$为任意常数)以及$y=0$"
   ]
  },
  {
   "cell_type": "markdown",
   "metadata": {},
   "source": [
    "$\\bf(6)y^2(y'-1)=(2-y')^2$\n",
    "\n",
    "解：令$2-y'=yt$,则$y'=2-yt$\n",
    "\n",
    "则原方程为$y^2(1-yt)=y^2t^2$,得$y=\\frac{1}{t}-t$,且$y'=2-(\\frac{1}{t}-t)t=1+t^2$\n",
    "\n",
    "即$\\frac{\\mathrm{dy}}{\\mathrm{dx}}=1+t^2$\n",
    "\n",
    "∴$\\mathrm{dx}=\\frac{\\mathrm{dy}}{1+t^2}$\n",
    "\n",
    "将方程$y^2(1-yt)=y^2t^2$两边对t求导得$\\mathrm{dy}=(-\\frac{1}{t^2}-1)\\mathrm{dt}$\n",
    "\n",
    "$\\mathrm{dx}=\\frac{-\\frac{1}{t^2}-1}{1+t^2}\\mathrm{dt}=-\\frac{1}{t^2}\\mathrm{dt}$\n",
    "\n",
    "两边求积分：$x=\\int{-\\frac{1}{t^2}}\\mathrm{dt}=\\frac{1}{t}+c$(c为任意常数)\n",
    "\n",
    "$\\therefore$该方程得解为$\\begin{cases}x=\\frac{1}{t}+c\\\\y=\\frac{1}{t}-t\\end{cases}$(c为任意常数)"
   ]
  },
  {
   "cell_type": "markdown",
   "metadata": {
    "collapsed": true
   },
   "source": [
    "# <font color='red'>A 28/9"
   ]
  },
  {
   "cell_type": "code",
   "execution_count": null,
   "metadata": {
    "collapsed": true
   },
   "outputs": [],
   "source": []
  }
 ],
 "metadata": {
  "kernelspec": {
   "display_name": "SageMath 7.3",
   "language": "",
   "name": "sagemath"
  },
  "language_info": {
   "codemirror_mode": {
    "name": "ipython",
    "version": 2
   },
   "file_extension": ".py",
   "mimetype": "text/x-python",
   "name": "python",
   "nbconvert_exporter": "python",
   "pygments_lexer": "ipython2",
   "version": "2.7.10"
  }
 },
 "nbformat": 4,
 "nbformat_minor": 0
}
