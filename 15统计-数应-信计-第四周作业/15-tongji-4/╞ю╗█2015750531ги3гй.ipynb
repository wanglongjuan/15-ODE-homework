{
 "cells": [
  {
   "cell_type": "markdown",
   "metadata": {},
   "source": [
    "**2（8）**求下列方程的解求下列方程的解$$(x+2 y)\\mathrm dx+x\\mathrm dy=0$$**解：**$$M=x+2 y,N=x$$$$\\frac{\\partial M}{\\partial y}=2,\\frac{\\partial N}{\\partial x}=1$$因此方程不是恰当微分方程$$\\frac{\\frac{\\partial M}{\\partial y}-\\frac{\\partial N}{\\partial x}}{N}=\\frac{1}{x}$$将积分因子$u=e^{\\int \\frac{1}{x}\\,\\mathrm{d}x}=|x|$同时与原方程两端相乘，得到：$$2 x^2 \\mathrm dx+y 2 |x|\\mathrm dx+x^2 \\mathrm dy=0$$同时积分得到：$$\\frac{2}{3}x^3+y x^2+x^2 y=c$$因此方程的通解为：$$\\frac{1}{3}x^3+x^2 y=c$$"
   ]
  },
  {
   "cell_type": "code",
   "execution_count": null,
   "metadata": {
    "collapsed": true
   },
   "outputs": [],
   "source": []
  },
  {
   "cell_type": "markdown",
   "metadata": {},
   "source": [
    "**2（9）**求下列方程的解求下列方程的解$$[x cos(x+y)+sin(x+y)]\\mathrm dx+x cos(x+y)\\mathrm dy=0$$**解：**$$M=x cos(x+y)+sin(x+y),N=x cos(x+y)$$$$\\frac{\\partial M}{\\partial y}=-x sin(x+y)+cos(x+y),\\frac{\\partial N}{\\partial x}=cos(x+y)-x sin(x+y)$$这是一个恰当微分方程，现在求$u$,是u满足以下两个方程：$$\\frac{\\partial u}{\\partial x}=x cos(x+y)+sin(x+y)(1)$$$$\\frac{\\partial u}{\\partial y}=cos(x+y)-x sin(x+y)(2)$$对（1）求积分，得到：$$u=x sin(x+y)+\\varphi(y)$$上式对y求导数：$$\\frac{\\partial u}{\\partial y}=x cos(x+y)+\\frac{\\mathrm{d}\\varphi(y)}{\\mathrm dy}$$$$\\frac{\\mathrm{d}\\varphi(y)}{\\mathrm dy}=0$$$$\\varphi(y)=0$$因此方程的解为：$$x cos(x+y)=c$$"
   ]
  },
  {
   "cell_type": "markdown",
   "metadata": {},
   "source": [
    "**2（10）**求下列方程的解求下列方程的解$$(y cosx-x sinx)\\mathrm dx+(y sinx+x cosx)\\mathrm dy=0$$**解：**$$M=y cosx-x sinx,N=y sinx+x cosx$$$$\\frac{\\partial M}{\\partial y}=cosx,\\frac{\\partial N}{\\partial x}=y cosx+cosx-x sinx$$这不是恰当微分方程$$\\frac{\\frac{\\partial M}{\\partial y}-\\frac{\\partial N}{\\partial y}}{-M}=1$$原方程左右两边同乘积分因子$u=e^{\\int 1\\,\\mathrm{d}y}=e^y$,得到：$$e^y(y cosx-x sinx)\\mathrm dx+e^y(y sinx+x cosx)\\mathrm dy=0$$这是恰当微分方程，通解为：$$e^y x cosx+e^y(y-1)sinx=c$$"
   ]
  },
  {
   "cell_type": "markdown",
   "metadata": {},
   "source": [
    "**2（11）**求下列方程的解求下列方程的解$$x(4 y\\mathrm dx+2 x\\mathrm dy)+y^3 (3 y \\mathrm dx+5 x \\mathrm dy)=0$$**解：**等式两边同乘$x^2 y$，得到：$$(4 x^3 y^2 \\mathrm dx+2 x^4 y \\mathrm dy)+(3 x^2 y^5+5 x^3 y^4)=0$$$$\\mathrm {d}(x^4 y^2)+\\mathrm {d}(x^3 y^5)=0$$因此方程的通解为：$$x^4 y^2+x^3 y^5=c$$"
   ]
  },
  {
   "cell_type": "markdown",
   "metadata": {},
   "source": [
    "$4设f（x,y）以及\\frac{\\partial f}{\\partial y}连续，试证明\\mathrm dy-f(x,y)\\mathrm dx=是线性微分方程的充要条件是他有仅依赖于x的积分因子\\\\证明：必要性\\\\若该方程为线性方程，则有\\frac{\\mathrm dy}{\\mathrm dx}=P(x)y+Q(x)\\\\此方程有积分因子u（x)=e^{-\\int P(x)\\,\\mathrm dx},u(x)只与x有关\\\\充分性\\\\若该方程有只与x有关的积分因子u（x）\\\\则u(x)\\mathrm dy-u(x) f(x,y)\\mathrm dx=0为恰当方程\\\\从而、frac{\\partial(-u(x)f(x,y))}{\\partial y}=\\frac{\\mathrm u(x)}{\\mathrm dx},\\frac{\\partial f}{\\partial y}=-\\frac{u'(x)}{u(x)}\\\\f=-\\int \\frac{u'(x)}{u(x)}\\mathrm dy+Q(x)=P(x)y+Q(x)\\\\其中P（x）=-\\frac{u'(x)}{u(x)}\\\\于是方程可化为\\mathrm dy-(P(x)y+Q(x))\\mathrm dx=0\\\\即一阶线性方程$"
   ]
  },
  {
   "cell_type": "markdown",
   "metadata": {},
   "source": [
    "**8求出伯努利方程的积分因子**"
   ]
  },
  {
   "cell_type": "markdown",
   "metadata": {},
   "source": [
    "**证明：**伯努利方程：$$\\frac{\\mathrm dy}{\\mathrm dx}=P(x)y+Q(x)y^n$$左右同时乘$y^{-n}$，作变量变换$z=y^{1-n}$,得到：$$\\frac{\\mathrm dz}{\\mathrm dx}=(1-n)P(x)z+(1-n)Q(x)$$该线性方程的积分因子是$$u=e^-{\\int (1-n)P(x)\\,\\mathrm dx}$$$$=e^{(n-1)\\int P(x)\\,\\mathrm dx}$$因此伯努利方程的积分因子是：$$u==e^{(n-1)\\int P(x)\\,\\mathrm dx}$$"
   ]
  },
  {
   "cell_type": "markdown",
   "metadata": {},
   "source": [
    "**1(1)**$$x(\\frac{\\mathrm dy}{\\mathrm dx})^3=1+\\frac{\\mathrm dy}{\\mathrm dx}$$**解：**令$$\\frac{\\mathrm dy}{\\mathrm dx}=p=\\frac{1}{t}$$则：$$x=t^3+t^2$$那么：$$\\mathrm dy=p \\mathrm dx=\\frac{1}{t}(3 t^2+2 t)\\mathrm dt$$积分上式，得到：$$y=\\frac{3}{2}t^2+2 t+c$$那么方程的通解是$$x=t^3+t^2$$$$y=\\frac{3}{2}t^2+2 t+c$$"
   ]
  },
  {
   "cell_type": "markdown",
   "metadata": {},
   "source": [
    "**1(2)**$$(\\frac{\\mathrm dy}{\\mathrm dx})^3-x^3(1-\\frac{\\mathrm dy}{\\mathrm dx}=0)$$**解：**令$$\\frac{\\mathrm dy}{\\mathrm dx}=p=tx$$则有：$$t^3 x^3-x^3+t x^4=0$$$$x=\\frac{1}{t}-t^2$$则$$\\mathrm dy=p \\mathrm dx=t x(-\\frac{1}{t^2}-2 t)\\mathrm dt$$求积分，得到：$$y=\\frac{2}{5} t^5-\\frac{1}{2} t^2+\\frac{1}{t}+c$$方程的通解为：$$y=\\frac{2}{5} t^5-\\frac{1}{2} t^2+\\frac{1}{t}+c$$$$x=\\frac{1}{t}-t^2$$"
   ]
  },
  {
   "cell_type": "markdown",
   "metadata": {
    "collapsed": true
   },
   "source": [
    "**1(3)**$$y=(\\frac{\\mathrm dy}{\\mathrm dx})^2 e^{\\frac{\\mathrm dy}{\\mathrm dx}}$$**解：**令：$$\\frac{\\mathrm dy}{\\mathrm dx}=p$$则：$$y=p^2 e^p$$$$\\mathrm dx=\\frac{\\mathrm dy}{p}=(2 e^p+p e^p)\\mathrm dp$$积分得到：$$x=e^p(1+p)+c$$则方程的通解为：$$x=e^p(1+p)+c$$$$y=p^2 e^p$$另外，$y=0$也是方程的解。"
   ]
  },
  {
   "cell_type": "markdown",
   "metadata": {
    "collapsed": true
   },
   "source": [
    "**1（4)**$$y(1+y'^2)=2a(a是常数)$$**解：**令$$y'=\\frac{\\mathrm dy}{\\mathrm dx}=p=tant$$则：$$y(1+tant^2)=2 a$$$$y=2 a cost^2$$$$\\mathrm dx=\\frac{\\mathrm dy}{p}=-4 a cost^2\\mathrm dt$$积分得到：$$x=-a(2 t+sin{2 t})+c$$则方程的通解为：$$x=-a(2 t+sin{2 t})+c$$$$y=2 a cost^2$$"
   ]
  },
  {
   "cell_type": "markdown",
   "metadata": {
    "collapsed": true
   },
   "source": [
    "**1（5）**$$x^2+y^2=1$$**解：**令：$$y'=cost=\\frac{\\mathrm dy}{\\mathrm dx}=p$$则：$$x^2+cost^2=1$$$$x=sint$$$$\\mathrm dy=p \\mathrm dx=cost^2 \\mathrm dt$$积分得到：$$y=\\frac{1}{2}t+\\frac{1}{4}sin2 t+c$$则方程的通解为：$$y=\\frac{1}{2}t+\\frac{1}{4}sin2 t+c$$$$x=sint$$"
   ]
  },
  {
   "cell_type": "markdown",
   "metadata": {
    "collapsed": true
   },
   "source": [
    "**1(6)**$$y^2(y'-1)=(2-y')^2$$**解：**令：$$2-y'=y t$$则$$1-y'=y t-1$$带入原方程，得到：$$y=\\frac{1}{t}+t$$$$\\mathrm dx=\\frac{\\mathrm dy}{y'}=\\frac{t^2-1}{t^2 (1-t^2)}\\mathrm dt$$积分得到：$$x=\\frac{1}{t}+c$$因此方程的通解为：$$x=\\frac{1}{t}+c$$$$y=\\frac{1}{t}+t$$消去参数t得到解的另一种表示形式：$$y=\\frac{1}{x-c}+x-c$$"
   ]
  },
  {
   "cell_type": "markdown",
   "metadata": {},
   "source": [
    "2015750531 祁慧 统计"
   ]
  },
  {
   "cell_type": "markdown",
   "metadata": {},
   "source": [
    "# <font color='red'>A 28/9"
   ]
  },
  {
   "cell_type": "code",
   "execution_count": null,
   "metadata": {
    "collapsed": true
   },
   "outputs": [],
   "source": []
  }
 ],
 "metadata": {
  "kernelspec": {
   "display_name": "SageMath 7.3",
   "language": "",
   "name": "sagemath"
  },
  "language_info": {
   "codemirror_mode": {
    "name": "ipython",
    "version": 2
   },
   "file_extension": ".py",
   "mimetype": "text/x-python",
   "name": "python",
   "nbconvert_exporter": "python",
   "pygments_lexer": "ipython2",
   "version": "2.7.10"
  }
 },
 "nbformat": 4,
 "nbformat_minor": 0
}
