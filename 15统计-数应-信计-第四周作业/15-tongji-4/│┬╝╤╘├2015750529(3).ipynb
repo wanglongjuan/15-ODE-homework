{
 "cells": [
  {
   "cell_type": "markdown",
   "metadata": {
    "collapsed": true
   },
   "source": [
    "## 9月20日 ##"
   ]
  },
  {
   "cell_type": "markdown",
   "metadata": {},
   "source": [
    "P61\n",
    "\n",
    "2.求下列方程的解\n"
   ]
  },
  {
   "cell_type": "markdown",
   "metadata": {},
   "source": [
    "（8）$ (x+2y)\\mathrm dx+x\\mathrm dy=0 $ \n",
    "\n",
    "$ M(x,y)=x+2y,N(x,y)=x $\n",
    "\n",
    "$ \\frac{\\partial M}{\\partial y}-\\frac{\\partial N}{\\partial x}=2-1=1 $\n",
    "\n",
    "$ \\frac{\\frac{\\partial M}{\\partial y}-\\frac{\\partial N}{\\partial x}}{N}=\\frac{1}{N} $\n",
    "\n",
    "所以积分因子$\\mu=e^{\\int{\\frac{1}{x}}\\mathrm dx}=x $\n",
    "\n",
    "将积分因子乘入原方程\n",
    "\n",
    "$ (x^2+2xy)\\mathrm dx+x^2\\mathrm dy=\\mathrm dv $\n",
    "\n",
    "$ v(x,y)=\\frac{1}{3}x^3+x^2y=c $\n",
    "\n",
    "所以$ x^3+3x^2y=c $为通解\n",
    "\n",
    "以及$ x=0 $也为通解"
   ]
  },
  {
   "cell_type": "markdown",
   "metadata": {},
   "source": [
    "（9）$ [x\\cos (x+y)+\\sin (x+y)]\\mathrm dx+x\\cos (x+y)\\mathrm dy=0 $\n",
    "\n",
    "$ M(x,y)=x\\cos (x+y)+\\sin (x+y),N(x,y)=x\\cos (x+y) $\n",
    "\n",
    "$ \\frac{\\partial M}{\\partial y}=\\cos (x+y)-x\\sin (x+y)=\\frac{\\partial N}{\\partial x} $\n",
    "\n",
    "所以为恰当方程\n",
    "\n",
    "$ 求u，使其同时满足\\frac{\\partial u}{\\partial x}= x\\cos (x+y)+\\sin (x+y)(1), \\frac{\\partial u}{\\partial y}= x\\cos (x+y)（2） $\n",
    "\n",
    "$ 在（1）中对x积分，得u=x\\sin (x+y)+\\varphi(y)(3) $\n",
    "\n",
    "$ 在（3）中对y求导，使其满足（2） $\n",
    "\n",
    "$ \\frac{\\partial u}{\\partial y}=x\\cos (x+y)+\\frac{\\mathrm \\varphi(y)}{\\mathrm dy}=x\\cos (x+y) $\n",
    "\n",
    "$ \\frac{\\mathrm \\varphi(y)}{\\mathrm dy}=0 $\n",
    "\n",
    "$ \\varphi(y)=0 $\n",
    "\n",
    "$ 将y带入（3），得u=x\\sin (x+y) $\n",
    "\n",
    "所以通解为$ x\\sin (x+y)=c $"
   ]
  },
  {
   "cell_type": "markdown",
   "metadata": {
    "collapsed": true
   },
   "source": [
    "（10）$ (y\\cos x-x\\sin x)\\mathrm dx+(y\\sin x+x\\cos x)\\mathrm dy=0 $\n",
    "\n",
    "$ M(x,y)= y\\cos x-x\\sin x,N(x,y)= y\\sin x+x\\cos x $\n",
    "\n",
    "$ \\frac{\\partial M}{\\partial y}-\\frac{\\partial N}{\\partial x}=\\cos x-y\\cos x+x\\sin x-\\cos x=x\\sin x-y\\cos x $\n",
    "\n",
    "$ \\frac{\\frac{\\partial M}{\\partial y}-\\frac{\\partial N}{\\partial x}}{-M}=1 $\n",
    "\n",
    "所以积分因子$ \\mu=e^{\\int 1\\mathrm dy}=e^y $\n",
    "\n",
    "所以通解为$ \\int \\mu M\\mathrm dx+\\int(\\mu N-\\frac{\\partial}{\\partial y}\\int \\mu M\\mathrm dx)\\mathrm dy=c $\n",
    "\n",
    "即$ e^y(y-1)\\sin x+e^yx\\cos x=c及x=0 $"
   ]
  },
  {
   "cell_type": "markdown",
   "metadata": {},
   "source": [
    "(11)$ x(4y\\mathrm dx+2x\\mathrm dy)+y^3(3y\\mathrm dx+5x\\mathrm dy)=0 $\n",
    "\n",
    "$ (4xy+3y^4)\\mathrm dx+(2x^2+5xy^3)\\mathrm dy=0 $\n",
    "\n",
    "$ M(x,y)= (4xy+3y^4),N(x,y)= (2x^2+5xy^3) $\n",
    "\n",
    "$ \\frac{\\partial M}{\\partial y}-\\frac{\\partial N}{\\partial x}=4x+12y^3-4x+5y^3=7y^3=(2x^2+5xy^3)\\frac{2}{x}-(4xy+5y^3)\\frac{1}{y} $\n",
    "\n",
    "$ 令f(x)=\\frac{2}{x},g(y)=\\frac{1}{y} $\n",
    "\n",
    "$所以通解为 \\int \\mu M\\mathrm dx+\\int(\\mu N-\\frac{\\partial}{\\partial y}\\int \\mu M\\mathrm dx)\\mathrm dy=c $\n",
    "\n",
    "即$ x^4y^2+x^3y^5+\\int[2x^4y+5x^3y^4-(2x^4y+5x^3y^4)]\\mathrm dx=c $\n",
    "\n",
    "即$ x^4y^2+x^3y^5=c,x=0,y=0也为解 $"
   ]
  },
  {
   "cell_type": "markdown",
   "metadata": {},
   "source": [
    "4.$ 设f(x,y)及\\frac{\\partial f}{\\partial y}连续，试证方程\\mathrm dy-f(x,y)\\mathrm dx=0为线性微分方程的充要条件是它有仅依赖于x的积分因子 $\n",
    "\n",
    "充分性\n",
    "\n",
    "$ 设方程为线性微分方程\\frac{\\mathrm dy}{\\mathrm dx}=P(x)y+Q(x) $\n",
    "\n",
    "$ 可化为\\mathrm dy-f(x,y)\\mathrm dx=0 $\n",
    "\n",
    "$ f(x,y)= P(x)y+Q(x)=-M(x,y),N(x,y)=1 $\n",
    "\n",
    "所以$  \\frac{\\frac{\\partial M}{\\partial y}-\\frac{\\partial N}{\\partial x}}{N}=-P(x) $\n",
    "\n",
    "$ 所以有仅依赖于x的积分因子\\mu =e^{\\int P(x)\\mathrm dx} $\n",
    "\n",
    "必要性\n",
    "\n",
    "$ 设方程有仅依赖于x的积分因子\\mu =e^{\\int P(x)\\mathrm dx} $\n",
    "\n",
    "$ 即\\mu(x)\\mathrm dy-\\mu(x)f(x,y)\\mathrm dx=0为恰当方程 $\n",
    "\n",
    "$ 即\\frac{\\partial \\mu(x)}{\\partial x}=-\\frac{\\partial (\\mu (x)f(x,y))}{\\partial y}=-\\mu(x)\\frac{f(x,y)}{\\partial y} $\n",
    "\n",
    "可化为$ \\frac{f(x,y)}{\\partial y}=-\\frac{1}{\\mu(x)}\\frac{\\partial \\mu(x)}{\\partial y} $\n",
    "\n",
    "因为方程右端仅与x有关\n",
    "\n",
    "设$ \\frac{1}{\\mu(x)}\\frac{\\partial \\mu(x)}{\\partial y}=P(x) $\n",
    "\n",
    "所以$ \\frac{f(x,y)}{\\partial y}=P(x) $\n",
    "\n",
    "$ 积分得f(x,y)=\\int P(x,y)\\mathrm dy+Q(x)=P(x)y+Q(x) $\n",
    "\n",
    "即$ \\mathrm dy-f(x,y)\\mathrm dx=\\mathrm dy-[P(x)y+Q(x)]\\mathrm dx=0 $\n",
    "\n",
    "$\\frac{\\mathrm dy}{\\mathrm dx}=P(x)y+Q(x) $\n",
    "\n",
    "为线性微分方程"
   ]
  },
  {
   "cell_type": "markdown",
   "metadata": {},
   "source": [
    "8.求出伯努利微分方程的积分因子\n",
    "\n",
    "$ 伯努利方程：\\frac{\\mathrm dy}{\\mathrm dx}=P(x)y+Q(x)y^n,y≠0 $\n",
    "\n",
    "$ 两边同乘y^{-n},令z=y^{-n} $\n",
    "\n",
    "$\\frac{\\mathrm dz}{\\mathrm dy}=(1-n)y^{-n} $\n",
    "\n",
    "$ \\frac{\\mathrm dz}{\\mathrm dx}=(1-n)P(x)z+(1-n)Q(x) $\n",
    "\n",
    "$ 有积分因子\\mu=e^{-\\int (1-n)P(x)\\mathrm dx} $\n",
    "\n",
    "所以原方程有积分因子$ \\mu=y^{-n} e^{-\\int (1-n)P(x)\\mathrm dx} $"
   ]
  },
  {
   "cell_type": "markdown",
   "metadata": {},
   "source": [
    "## 9月21日 ##"
   ]
  },
  {
   "cell_type": "markdown",
   "metadata": {},
   "source": [
    "P69\n",
    "\n",
    "1.求解下列方程。"
   ]
  },
  {
   "cell_type": "markdown",
   "metadata": {},
   "source": [
    "（1）$ x{y^{\\prime}}^3=1+y^{\\prime} $\n",
    "\n",
    "$ 令y^{\\prime}=p=\\frac{\\mathrm dy}{\\mathrm dx} $\n",
    "\n",
    "$ 得xp^3=1+p $\n",
    "\n",
    "$ x=\\frac{1+p}{p^3} $\n",
    "\n",
    "$ \\frac{\\mathrm dx}{\\mathrm dy}=\\frac{1}{p}=\\frac{p^3-3p^2(1+p)}{p^6}\\frac{\\mathrm dp}{\\mathrm dy}=\\frac{-3-2p}{p^4}\\frac{\\mathrm dp}{\\mathrm dy} $\n",
    "\n",
    "$ \\mathrm dy=\\frac{-3-2p}{p^3}\\mathrm dp $\n",
    "\n",
    "两边积分，得$ y=\\frac{3}{2p^2}+\\frac{2}{p}+c $\n",
    "\n",
    "所以通解为$ \\begin{cases}\n",
    "           x=\\frac{1}{p^3}+\\frac{1}{p^2}\\\\\n",
    "           y=\\frac{3}{2p^2}+\\frac{2}{p}+c\n",
    "            \\end{cases} $"
   ]
  },
  {
   "cell_type": "markdown",
   "metadata": {},
   "source": [
    "（2）$ {y^{\\prime}}^3-x^3(1-y^{\\prime})=0 $\n",
    "\n",
    "$ 令y^{\\prime}=p=tx $\n",
    "\n",
    "$ 则x=\\frac{1-t^3}{t} $\n",
    "\n",
    "$ p=1-t^3 $\n",
    "\n",
    "$ \\mathrm dy=tx\\mathrm dx=(1-t^3)\\frac{-2t^3-1}{t^2}\\mathrm dt=(-\\frac{1}{t^2}-t+2t^4)\\mathrm dt $\n",
    "\n",
    "$ 积分得y=\\frac{1}{t}-\\frac{1}{2}t^2+\\frac{2}{5}t^5+c $\n",
    "\n",
    "所以通解为$ \\begin{cases}\n",
    "           x=\\frac{1}{t}-t^2\\\\\n",
    "           y=\\frac{1}{t}-\\frac{1}{2}t^2+\\frac{2}{5}t^5+c\n",
    "            \\end{cases} $"
   ]
  },
  {
   "cell_type": "markdown",
   "metadata": {},
   "source": [
    "（3）$ y={y^{\\prime}}^2e^{y^{\\prime}} $\n",
    "\n",
    "$ 令p=y^{\\prime}=\\frac{\\mathrm dy}{\\mathrm dx} $\n",
    "\n",
    "$ y=p^2e^p $\n",
    "\n",
    "$ \\frac{\\mathrm dy}{\\mathrm dp}=(p^2+2p)e^p $\n",
    "\n",
    "$ \\mathrm dy=(p^2+2p)e^p\\mathrm dp $\n",
    "\n",
    "$ 两边积分得y=p^2e^p $\n",
    "\n",
    "$ 因为\\frac{\\mathrm dy}{\\mathrm dx}=p $\n",
    "\n",
    "$ 所以x=\\int \\frac{1}{p}\\mathrm d(p^2e^p)+c=\\int (p+2)e^p+c=(1+p)e^p+c $\n",
    "\n",
    "所以通解为$ \\begin{cases}\n",
    "           x=(1+p)e^p+c\\\\\n",
    "           y=p^2e^p\n",
    "            \\end{cases} $\n",
    "            \n",
    "$ y=0也为解 $"
   ]
  },
  {
   "cell_type": "markdown",
   "metadata": {},
   "source": [
    "（4）$ y(1+{y^{\\prime}}^2)=2a $\n",
    "\n",
    "$ 令y^{\\prime}=p $\n",
    "\n",
    "$ y=\\frac{2a}{1+p^2} $\n",
    "\n",
    "$ p=-\\frac{4app^{\\prime}}{(1+p^2)^2} $\n",
    "\n",
    "$ 即p=0和\\mathrm dx=-\\frac{4a}{(1+p^2)^2}\\mathrm dp $\n",
    "\n",
    "$ 由p=0得y=2a $\n",
    "\n",
    "$ 两边积分得x=\\frac{-2ap}{1+p^2}-2a\\arctan p+c $\n",
    "\n",
    "所以通解为$ \\begin{cases}\n",
    "           x=\\frac{-2ap}{1+p^2}-2a\\arctan p+c\\\\\n",
    "           y=\\frac{2a}{1+p^2}\n",
    "            \\end{cases} $\n",
    "            \n",
    "$ y=2a也为解 $"
   ]
  },
  {
   "cell_type": "markdown",
   "metadata": {},
   "source": [
    "（5）$ x^2+{y^{\\prime}}^2=1 $\n",
    "\n",
    "$ 令y^{\\prime}=p=\\frac{\\mathrm dy}{\\mathrm dx} $\n",
    "\n",
    "$ x=\\pm \\sqrt{1-p^2} $\n",
    "\n",
    "$ \\frac{\\mathrm dx}{\\mathrm dy}=\\frac{1}{p}=\\frac{\\mp p}{\\sqrt{1-p^2}}\\frac{\\mathrm dp}{\\mathrm dy} $\n",
    "\n",
    "$ \\mathrm dy=\\frac{\\mp p^2}{\\sqrt{1-p^2}}\\mathrm dp $\n",
    "\n",
    "所以通解为$ \\begin{cases}\n",
    "           x=\\pm \\sqrt{1-p^2}\\\\\n",
    "           y=\\pm \\frac{p}{2}\\sqrt{1-p^2}\\mp \\frac{1}{2}\\arcsin p+c\n",
    "            \\end{cases} $"
   ]
  },
  {
   "cell_type": "markdown",
   "metadata": {},
   "source": [
    "（6）$ y^2(y^{\\prime}-1)=(2-y^{\\prime})^2 $\n",
    "\n",
    "$ 令2-y^{\\prime}=yt $\n",
    "\n",
    "$ y=\\frac{1-t^2}{t} $\n",
    "\n",
    "$ p=y^{\\prime}=2-ty=1+t^2 $\n",
    "\n",
    "$ \\frac{-t^2-1}{t^2}\\mathrm dt=(1+t^2)\\mathrm dx $\n",
    "\n",
    "$ \\mathrm dx=-\\frac{1}{t^2}\\mathrm dt $\n",
    "\n",
    "$ x=\\frac{1}{t}+c $\n",
    "\n",
    "所以通解为$ \\begin{cases}\n",
    "           x=\\frac{1}{t}+c\\\\\n",
    "           y=\\frac{1}{t}-t\n",
    "            \\end{cases} $\n",
    "            \n",
    "$ 消去t得y=x-c-\\frac{1}{x-c} $"
   ]
  },
  {
   "cell_type": "markdown",
   "metadata": {
    "collapsed": true
   },
   "source": [
    "# <font color='red'>A+ 28/9"
   ]
  },
  {
   "cell_type": "code",
   "execution_count": null,
   "metadata": {
    "collapsed": true
   },
   "outputs": [],
   "source": []
  }
 ],
 "metadata": {
  "kernelspec": {
   "display_name": "Python 2",
   "language": "python",
   "name": "python2"
  },
  "language_info": {
   "codemirror_mode": {
    "name": "ipython",
    "version": 2
   },
   "file_extension": ".py",
   "mimetype": "text/x-python",
   "name": "python",
   "nbconvert_exporter": "python",
   "pygments_lexer": "ipython2",
   "version": "2.7.10"
  }
 },
 "nbformat": 4,
 "nbformat_minor": 0
}
