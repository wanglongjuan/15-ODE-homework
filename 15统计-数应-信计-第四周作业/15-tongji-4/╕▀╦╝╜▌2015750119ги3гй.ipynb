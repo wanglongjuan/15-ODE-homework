{
 "cells": [
  {
   "cell_type": "markdown",
   "metadata": {},
   "source": [
    "# $$常微分作业3$$ \n",
    "## 班级：统计\n",
    "## 姓名：高思捷\n",
    "## 学号：2015750119"
   ]
  },
  {
   "cell_type": "markdown",
   "metadata": {},
   "source": [
    "## 一、求下列方程的解\n",
    " (1)$(x+2y)d x+xd y=0$\n",
    "\n",
    "解：\n",
    "\n",
    "$令M=x+2y,N=x,\\frac{\\partial M}{\\partial y}=2,\\frac{\\partial N}{\\partial x}=1$\n",
    "\n",
    "$所以方程不是恰当方程$\n",
    "\n",
    "$由于\\frac{\\frac{\\partial M}{\\partial y}-\\frac{\\partial N}{\\partial x}}{N}=\\frac{1}{x}$\n",
    "\n",
    "$则方程有积分因子\\mu=e^{\\int frac{1}{x}\\mathrm d x}=x$\n",
    "\n",
    "$让方程两边同乘以\\mu=x得：$\n",
    "\n",
    "$2xyd x+x^2d y+x^2d x=0$\n",
    "\n",
    "$d(x^2y+\\frac{1}{3}x^3)=0$\n",
    "\n",
    "$则方程的通解为x^3+3x^2y=c （c为任意常数）$\n",
    "\n",
    "(2)$[xcos(x+y)+sin(x+y)]d x+xcos(x+y）d y=0$\n",
    "\n",
    "解：\n",
    "\n",
    "$令M=xcos(x+y)+sin(x+y),N=xcos(x+y）,\\frac{\\partial M}{\\partial y}=-xsin(x+y)+cos(x+y）,\\frac{\\partial N}{\\partial x}=cos(x+y）-xsin(x+y)$\n",
    "\n",
    "$所以方程是恰当方程$\n",
    "\n",
    "$且因为原方程可转化为：d(xsin(x+y))=0$\n",
    "\n",
    "$所以方程的通解为xsin(x+y)=c （c为任意常数）$\n",
    "\n",
    "(3)$(y\\cos x-x\\sin x)\\mathrm d x+(y\\sin x+x\\cos x)\\mathrm d y=0$\n",
    "\n",
    "解：\n",
    "\n",
    "$令M=y\\cos x-x\\sin x,N=y\\sin x+x\\cos x，\\frac{\\partial M}{\\partial y}≠\\frac{\\partial N}{\\partial x}$\n",
    "\n",
    "$所以方程不是恰当方程。$\n",
    "\n",
    "$因为\\frac{\\frac{\\partial M}{\\partial y}-\\frac{\\partial N}{\\partial x}}{M}=1$\n",
    "\n",
    "$则方程有积分因子\\mu=e^{\\int1\\mathrm d y}=e^y$\n",
    "\n",
    "$方程两边同乘以\\mu=e^y得$\n",
    "\n",
    "$[(y-1)e^y\\cos x\\mathrm d x+ye^y\\sin x\\mathrm d y]+(e^yx\\cos x\\mathrm d y-e^yx\\sin x\\mathrm d x+e^y\\cos x\\mathrm d x)=0$\n",
    "\n",
    "$即\\mathrm d[(y-1)e^y\\sin x+e^yx\\cos x]=0$\n",
    "\n",
    "$所以方程的通解为(y-1)e^y\\sin x+e^yx\\cos x=c（c为任意常数）$\n",
    "\n",
    "(4)$x(4y\\mathrm d x+2x\\mathrm d y)+y^3(3y\\mathrm d x+5x\\mathrm d y)=0$\n",
    "\n",
    "解：\n",
    "\n",
    "$因为x(4y\\mathrm d x+2x\\mathrm d y)=\\mathrm d(2x^2y)$\n",
    "\n",
    "$对于方程y^3(3y\\mathrm d x+5x\\mathrm d y)=0,如上题可求出其不是恰当方程。$\n",
    "\n",
    "$因为\\frac{\\frac{\\partial M}{\\partial y}-\\frac{\\partial N}{\\partial x}}{N}=\\frac{7}{5x}$\n",
    "\n",
    "$所以方程有积分因子\\mu=e^{\\int\\frac{7}{5x}\\mathrm d x}=x^{\\frac{7}{5}}$\n",
    "\n",
    "$方程两边同乘以\\mu=x^{\\frac{7}{5}}得$\n",
    "\n",
    "$3y^4x^{\\frac{7}{5}}\\mathrm d x+5x^{\\frac{12}{5}}y^3\\mathrm d y=0$\n",
    "\n",
    "$即\\mathrm d(\\frac{5}{4}x^{\\frac{12}{5}}y^4)=0$\n",
    "\n",
    "$所以方程的通解为2x^2y+\\frac{5}{4}x^{\\frac{12}{5}}y^4=c （c为任意常数）$\n",
    "\n"
   ]
  },
  {
   "cell_type": "markdown",
   "metadata": {},
   "source": [
    "# <font color='red'>错误？？"
   ]
  },
  {
   "cell_type": "markdown",
   "metadata": {},
   "source": [
    "## 二、设 $f(x,y)$ 及 $\\frac{\\partial f}{\\partial y}$ 连续，试证方程 $\\mathrm dy-f(x,y)\\mathrm dx=0$ 为线性微分方程的充要条件是它仅依赖于 $x$ 的积分因子。"
   ]
  },
  {
   "cell_type": "markdown",
   "metadata": {},
   "source": [
    "证明：\n",
    "充分性：\n",
    "\n",
    "设 $\\mathrm dy-f(x,y)\\mathrm dx=0$ 有仅依赖于 $x$ 的积分因子\n",
    "\n",
    "由于积分因子只依赖于 $x$ \n",
    "\n",
    "所以存在某个 $\\varphi(x)$ 满足 $\\frac{\\frac{\\partial M}{\\partial y}-\\frac{\\partial N}{\\partial x}}{N}=\\frac{-\\frac{\\partial f}{\\partial y}-0}{1}=\\varphi(x)$ \n",
    "\n",
    "即 $\\frac{\\partial f}{\\partial y}=-\\varphi(x)$\n",
    "\n",
    "对上式积分后得  $f(x,y)=-\\varphi(x)y+h(x)$ \n",
    "\n",
    "这里 $h(x)$ 是关于 $x$ 的任意可微函数\n",
    "\n",
    "原方程可以写成 $\\frac{\\mathrm y}{\\mathrm x}=-\\varphi(x)y+h(x)$ \n",
    "\n",
    "则有 $\\mathrm dy-f(x,y)\\mathrm dx=0$ 是线性的\n",
    "\n",
    "必要性：\n",
    "\n",
    "设方程 $\\mathrm dy-f(x,y)\\mathrm dx=0$ 是线性微分方程\n",
    "\n",
    "即存在 $g(x),h(x)$\n",
    "\n",
    "使得 $f(x,y)=yg(x)+h(x)$\n",
    "\n",
    "这样 $M=-f(x,y)=-yg(x)-h(x),N=1,\\frac{\\frac{\\partial M}{\\partial y}-\\frac{\\partial N}{\\partial x}}{N}=\\frac{-g(x)}{1}=-g(x)$\n",
    "\n",
    "所以方程有积分因子 $\\mu=e^{\\int -g(x)\\mathrm dx}$\n",
    "\n",
    "从而方程有仅依赖于 $x$ 的积分因子。"
   ]
  },
  {
   "cell_type": "markdown",
   "metadata": {},
   "source": [
    "## 三、求出伯努利微分方程的积分因子。"
   ]
  },
  {
   "cell_type": "markdown",
   "metadata": {},
   "source": [
    "伯努利方程为 $\\frac{\\mathrm dy}{\\mathrm dx}=p(x)y+q(x)y^n$\n",
    "\n",
    "改写为 $\\mathrm dy-p(x)y\\mathrm dx-q(x)y^n\\mathrm dx=0$\n",
    "\n",
    "乘以 $y^{-n}$ 得: $y^{-n}\\mathrm dy-p(x)y^{1-n}\\mathrm dx-q(x)\\mathrm dx=0$\n",
    "\n",
    "即 $d(y^{1-n})-(1-n)p(x)y^{1-n}\\mathrm dx-(1-n)q(x)\\mathrm dx=0$\n",
    "\n",
    "再乘以 $e^{-(1-n)\\int p(x)\\mathrm dx}$ 得\n",
    "\n",
    "$e^{-(1-n)\\int p(x)\\mathrm dx}[d(y^{1-n})-(1-n)p(x)y^{1-n}\\mathrm dx]-e^{-(1-n)\\int p(x)\\mathrm dx}(1-n)q(x)\\mathrm dx=0$ \n",
    "\n",
    "即 $\\mathrm d[y^{1-n}e^{-(1-n)\\int p(x)\\mathrm dx}]-\\mathrm d[\\int (1-n)q(x)e^{-(1-n)\\int p(x)\\mathrm dx}]=0$\n",
    "\n",
    "这是全微分方程，因此所求的积分因子是： $\\mu=y^{-n}e^{-(1-n)\\int p(x)\\mathrm dx}$ \n"
   ]
  },
  {
   "cell_type": "markdown",
   "metadata": {},
   "source": [
    "## 四、求解下列微分方程 "
   ]
  },
  {
   "cell_type": "markdown",
   "metadata": {},
   "source": [
    "（1）$xy'^3=1+y'$"
   ]
  },
  {
   "cell_type": "markdown",
   "metadata": {},
   "source": [
    "解：\n",
    "\n",
    "$x(\\frac{\\mathrm dy}{\\mathrm dx})^3=1+\\frac{\\mathrm dy}{\\mathrm dx}$\n",
    "\n",
    "设 $\\frac{\\mathrm dy}{\\mathrm dx}=p$ \n",
    "\n",
    "有 $xp^3=1+p$ ,则有 $x=\\frac{1+p}{p^3}$\n",
    "\n",
    "$\\mathrm dy=p\\mathrm dx=-3p^{-3}-2p^{-2}\\mathrm dp$\n",
    "\n",
    "得到 $y=\\frac{3}{2p^2}+\\frac{2}{p}+c$ 其中 $c$ 为常数\n",
    "\n",
    "从而得到方程的参数形式的通解：$\\begin{cases}\n",
    "                       x=\\frac{1+p}{p^3}  & \\quad p\\neq0\\\\\n",
    "                       y=\\frac{3}{2p^2}+\\frac{2}{p}+c\\\\\n",
    "                       \\end{cases}$"
   ]
  },
  {
   "cell_type": "markdown",
   "metadata": {},
   "source": [
    "（2）$y'^3-x^3(1-y')=0$"
   ]
  },
  {
   "cell_type": "markdown",
   "metadata": {},
   "source": [
    "解：\n",
    "\n",
    "设 $y'=tx$ 则有 $t^3x^3-x^3(1-tx=0)$\n",
    "\n",
    "即 $x=\\frac{1}{t}-t^2$\n",
    "\n",
    "则有 $\\mathrm dy=(1-t^3)\\mathrm dx=(-\\frac{1}{t^2}-t+2t^4)\\mathrm dt$\n",
    "\n",
    "两边积分得：$y=\\frac{1}{t}-\\frac{t^2}{2}+\\frac{2t^5}{5}+c$ $c$ 为任意常数\n",
    "\n",
    "从而原方程的通解为： $\\begin{cases}\n",
    "                 x=\\frac{1}{t}-t^2\\\\\n",
    "                 y=- \\frac{t^2}{2}+ \\frac{2t^5}{5}+\\frac{1}{t}\n",
    "                 +c\\\\\n",
    "                 \\end{cases}$"
   ]
  },
  {
   "cell_type": "markdown",
   "metadata": {},
   "source": [
    "（3）$y=y'^2 e^{y'}$"
   ]
  },
  {
   "cell_type": "markdown",
   "metadata": {},
   "source": [
    "解：\n",
    "\n",
    "令 $y'=p$ ,则有 $y=p^2e^p$\n",
    "\n",
    "两边对 $x$ 求导，则有 $\\mathrm dx=(2+p)e^p\\mathrm dp$\n",
    "\n",
    "两边积分得：$x=(p+1)e^p$\n",
    "\n",
    "从而有原方程的通解为：$\\begin{cases}\n",
    "                  x=(p+1)e^p+c\\\\\n",
    "                  y=p^2e^p\\\\\n",
    "                  \\end{cases}$　"
   ]
  },
  {
   "cell_type": "markdown",
   "metadata": {},
   "source": [
    "（4）$y(1+y’^2)=2a$ ($a$ 为常数)"
   ]
  },
  {
   "cell_type": "markdown",
   "metadata": {},
   "source": [
    "解：\n",
    "\n",
    "$显然y=2a$是方程的一个解\n",
    "\n",
    "当$y≠2a$时，\n",
    "\n",
    "令$y^\\prime=\\tan t，y=2a\\cos^2 t$\n",
    "\n",
    "$因为\\mathrm d y=y^\\prime \\mathrm d x$\n",
    "\n",
    "$所以\\mathrm d x=-4a\\cos^2 t\\mathrm dt，x=-a(2t+\\sin 2t)+c，(c为任意常数）$\n",
    "\n",
    "所以方程的通解为\n",
    "$\n",
    "\\begin{cases}\n",
    "x=-a(2t+\\sin 2t)+c\\\\\n",
    "y=2a\\cos^2 t\\\\\n",
    "\\end{cases}\n",
    "$"
   ]
  },
  {
   "cell_type": "markdown",
   "metadata": {},
   "source": [
    "（5）$x^2+y'^2=1$"
   ]
  },
  {
   "cell_type": "markdown",
   "metadata": {},
   "source": [
    "解：\n",
    "\n",
    "令 $y'=\\cos t$ ,\n",
    "\n",
    "则有 $x^2+\\cos^2 t=1$\n",
    "\n",
    "则有 $x=\\sin t$\n",
    "\n",
    "两边对 $y$ 求导有：$\\frac{1}{\\cos t}=\\cos t\\frac{\\mathrm dt}{\\mathrm dy}$\n",
    "\n",
    "则有： $\\mathrm dy=\\cos^2 t\\mathrm dt$\n",
    "\n",
    "两边积分得：$y=\\frac{t}{2}+\\frac{\\sin 2t}{4}+c$ 其中 $c$ 为任意常数\n",
    "\n",
    "所以原方程的通解为：$\\begin{cases}\n",
    "                x=\\sin t\\\\\n",
    "                y=\\frac{t}{2}+\\frac{\\sin 2t}{4}+c\\\\\n",
    "                \\end{cases}$"
   ]
  },
  {
   "cell_type": "markdown",
   "metadata": {},
   "source": [
    "（6）$y^2(y'-1)=(2-y')^2$"
   ]
  },
  {
   "cell_type": "markdown",
   "metadata": {},
   "source": [
    "解; \n",
    "\n",
    "令 $2-y'=yt$ ,则与原方程消去 $y'$ 后，有 $y^2(yt-1)=y^2 t^2$\n",
    "\n",
    "从而有：$y=t+\\frac{1}{t}$ ,且 $y'=1-t^2$\n",
    "\n",
    "这是原微分方程的参数形式\n",
    "\n",
    "从而有：$\\mathrm dx=\\frac{\\mathrm dy}{y'}=\\frac{-1}{t^2}\\mathrm dt$\n",
    "\n",
    "两边积分得：$x=\\frac{1}{t}+c$ , 其中 $c$ 为任意常数\n",
    "\n",
    "从而得到原方程的通解为：$\\begin{cases}\n",
    "                   x=\\frac{1}{t}+c\\\\\n",
    "                   y=t+\\frac{1}{t}\\\\\n",
    "                   \\end{cases}$\n",
    "其中 $c$ 为任意常数。\n",
    "\n",
    "此外，当 $y'=0$ 时原方程变为 $y^2=4$ ,于是有 $y=\\pm 2$ 也是方程的解。"
   ]
  },
  {
   "cell_type": "markdown",
   "metadata": {
    "collapsed": true
   },
   "source": [
    "# <font color='red'>A 28/9"
   ]
  },
  {
   "cell_type": "code",
   "execution_count": null,
   "metadata": {
    "collapsed": true
   },
   "outputs": [],
   "source": []
  }
 ],
 "metadata": {
  "kernelspec": {
   "display_name": "SageMath 7.3",
   "language": "",
   "name": "sagemath"
  },
  "language_info": {
   "codemirror_mode": {
    "name": "ipython",
    "version": 2
   },
   "file_extension": ".py",
   "mimetype": "text/x-python",
   "name": "python",
   "nbconvert_exporter": "python",
   "pygments_lexer": "ipython2",
   "version": "2.7.10"
  }
 },
 "nbformat": 4,
 "nbformat_minor": 0
}
