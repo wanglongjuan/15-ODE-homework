{
 "cells": [
  {
   "cell_type": "markdown",
   "metadata": {},
   "source": [
    "# 2.求下列方程的解"
   ]
  },
  {
   "cell_type": "markdown",
   "metadata": {},
   "source": [
    "## (8)$(x+2y){dx}+x{dy}=0$"
   ]
  },
  {
   "cell_type": "markdown",
   "metadata": {},
   "source": [
    "**解：**由于$M=x+2y,N=x,\\frac{\\partial M}{\\partial y}=2,\\frac{\\partial N}{\\partial x}=1$，∴方程不是恰当的。\n",
    "\n",
    "∵$\\frac{\\frac{\\partial M}{\\partial y}-\\frac{\\partial N}{\\partial x}}{N}=\\frac{1}{x}$\n",
    "\n",
    "∴方程有积分因子$μ=e^{\\int \\frac{1}{x}\\mathrm d x}=x^{-2}$\n",
    "\n",
    "将$μ=x$乘以方程两边得到 $$2xy\\mathrm d x+x^2\\mathrm d y+x^2\\mathrm d x=0$$\n",
    "\n",
    "即$\\mathrm d (x^2y+\\frac{1}{3}x^3)=0$\n",
    "\n",
    "∴方程的通解为$x^3+3x^2y=c$,其中c为任意常数。"
   ]
  },
  {
   "cell_type": "markdown",
   "metadata": {},
   "source": [
    "## (9)$[x\\cos{(x+y)}+\\sin{(x+y)}]{dx}+x\\cos{x+y}{dy}=0$"
   ]
  },
  {
   "cell_type": "markdown",
   "metadata": {},
   "source": [
    "**解：**∵$M=xcos(x+y)+sin(x+y),N=xcos(x+y)$,\n",
    "\n",
    "$\\frac{\\partial M}{\\partial y}=-xsin(x+y)+cos(x+y),\\frac{\\partial N}{\\partial x}=-xsin(x+y)+cos(x+y)$\n",
    "\n",
    "∴方程是恰当的，且方程可以写成$\\mathrm d (xsin(x+y))=0$,\n",
    "\n",
    "于是方程的通解为$xsin(x+y)=c$,其中c为任意常数。\n"
   ]
  },
  {
   "cell_type": "markdown",
   "metadata": {},
   "source": [
    "## (10)$(y\\cos{x}-x\\sin{x}{dx})+(y\\sin{x}+x\\cos{x}{dy})=0$"
   ]
  },
  {
   "cell_type": "markdown",
   "metadata": {},
   "source": [
    "**解：**由于$M=ycosx-xsinx,N=ysinx+xcosx$,\n",
    "\n",
    "$\\frac{\\partial M}{\\partial y}=cosx,\\frac{\\partial N}{\\partial x}=ycosx+cosx-xsinx$,\n",
    "\n",
    "∴方程不是恰当的\n",
    "\n",
    "∵$\\frac{\\frac{\\partial M}{\\partial y}-\\frac{\\partial N}{\\partial x}}{-M}=1$ \n",
    "\n",
    "∴方程有积分因子$\\mu=e^{\\int 1\\mathrm d y}=e^y$\n",
    "\n",
    "用$\\mu=e^y$乘以方程两边得\n",
    "\n",
    "$$(ye^ycosx\\mathrm d x+ye^ysinx\\mathrm d y)+(e^yxcosx\\mathrm d y-e^yxsinx\\mathrm d x)=0$$\n",
    "\n",
    "即$\\mathrm d [(y-1)sinx+e^yxcosx=c]$,c为任意常数。"
   ]
  },
  {
   "cell_type": "markdown",
   "metadata": {},
   "source": [
    "## (11)$x(4y{dx}+2x{dy})+y^3(3y{dx}+5x{dy})=0$"
   ]
  },
  {
   "cell_type": "markdown",
   "metadata": {},
   "source": [
    "**解：**由于$M=4xy+3y^4,N=2x^2+5xy^3,\\frac{\\partial M}{\\partial y}=4x+12y^3,\\frac{\\partial N}{\\partial x}=4x+5y^3$\n",
    "\n",
    "∴此方程不是恰当的\n",
    "\n",
    "∵M、N为多项式\n",
    "\n",
    "设积分因子的形式为$\\mu=x^my^n$\n",
    "\n",
    "于是方程乘以积分因子$x^my^n$后变为\n",
    "\n",
    "$$（4x^{m+1}y^{n+1}+3x^my{n+4}）\\mathrm d x+(2x^{m+2}y^n+5x^{m+1}y^{n+3})\\mathrm d y=0$$\n",
    "\n",
    "它是恰当方程的充要条件为$4(n+1)x^{m+1}y^n+3(n+4)x^my{n+3}=2(m+2)x^{m+1}y^n+5(m+1)x^my^{n+3}$\n",
    "\n",
    "对比系数项得$\\{^{4n-2m=0}_{3n-5m+7=0}$,解之得$\\{^{m=2}_{n=1}$\n",
    "\n",
    "即积分因子为$\\mu=x^2y$,方程乘以积分因子后为\n",
    "\n",
    "$4x^3y^2\\mathrm d x+3x^2y^5\\mathrm d x+2x^4y\\mathrm d y5x^3y^4\\mathrm d y=\\mathrm d (x^4y^2)+\\mathrm d (x^3y^5)=0$\n",
    "\n",
    "于是方程的通解为$x^4y^2+x^3y+5=c$,另外$x=0,y=0$也是方程的解。"
   ]
  },
  {
   "cell_type": "markdown",
   "metadata": {},
   "source": [
    "# 4.设$f(x,y)$及       连续，试证方程${dy}-f(x,y){dx}=0$为线性微分方程的充要条件是它有仅依赖于x的积分因子"
   ]
  },
  {
   "cell_type": "markdown",
   "metadata": {},
   "source": [
    "**证明：**\n",
    "\n",
    "充分性：\n",
    "\n",
    "设$\\mathrm d y-f(x,y)=0$ 有仅依赖于x的积分因子，下证该方程是线性的，\n",
    "\n",
    "由于积分因子只依赖于x，所以存在某个$\\phi(x)$满足\n",
    "\n",
    "$$\\frac{\\frac{\\partial M}{\\partial y}-\\frac{\\partial N}{\\partial x}}{N}=\\frac{-\\frac{\\partial f}{\\partial y}-0}{1}=\\phi(x)$$ \n",
    "\n",
    "即$\\frac{\\partial f}{\\partial y}=-\\phi(x)$\n",
    "\n",
    "积分得$f(x,y)=-\\phi(x)y+h(x)$,其中h(x)是关于x的任意可微函数\n",
    "\n",
    "这样，原方程便为$\\frac{\\mathrm d y}{\\mathrm d x}=-\\phi(x)y+h(x)$\n",
    "\n",
    "即证明了$\\mathrm d y-f(x,y)\\mathrm d x=0$是线性微分方程\n",
    "\n",
    "必要性:\n",
    "\n",
    "设方程$\\mathrm d y-f(x,y)\\mathrm d x=0$是线性微分方程\n",
    "\n",
    "即存在g(x),h(x)使得$f(x,y)=yg(x)+h(x)$\n",
    "\n",
    "这样$M=-f(x,y)=-yg(x)-h(x)$\n",
    "\n",
    "$N=1,\\frac{\\frac{\\partial M}{\\partial y}-\\frac{\\partial N}{\\partial x}}{N}=\\frac{-g(x)}{1}=-g(x)$ ,\n",
    "\n",
    "∴方程具有积分因子$\\mu=e^{\\int -g(x)\\mathrm d x}$,即有仅依赖于x的积分因子。"
   ]
  },
  {
   "cell_type": "markdown",
   "metadata": {
    "collapsed": false
   },
   "source": [
    "# 8.求出伯努利微分方程的积分因子\n",
    "\n",
    "\n",
    "\n",
    "\n",
    "\n",
    "\n",
    "\n",
    "\n",
    "\n",
    "\n",
    "\n",
    "\n",
    "\n",
    "\n",
    "\n",
    "\n",
    "\n",
    "\n",
    "\n"
   ]
  },
  {
   "cell_type": "markdown",
   "metadata": {},
   "source": [
    "伯努利方程为$\\frac{\\mathrm d y}{\\mathrm d x}=P(x)y+Q(x)y^n(n\\neq0,1)$,改写为\n",
    "\n",
    "$$\\mathrm d y-P(x)y\\mathrm d x-Q(x)y^n\\mathrm d x=0$$\n",
    "\n",
    "乘以$y^{-n}$得$y^{-n}\\mathrm d y-P(x)y^{1-n}\\mathrm d x-Q(x)y^n\\mathrm d x=0$\n",
    "\n",
    "即$\\mathrm d (y^{1-n})-(1-n)P(x0y^{1-n}\\mathrm d x-(1-n)Q(x)\\mathrm d x=0$\n",
    "\n",
    "再乘以$e^{-(1-n)\\int P(x)\\mathrm d x}$得\n",
    "\n",
    "$$e^{-(1-n)\\int P(x)\\mathrm d x}[\\mathrm d (y^{1-n})-(1-n)P(x)y^{-(1-n)\\mathrm d x}]-e^{-(1-n)\\int P(x)\\mathrm d x}(1-n)Q(x)\\mathrm d x=0$$\n",
    "\n",
    "即$\\mathrm d [y^{1-n}e^{-(1-n)\\int P(x)\\mathrm d x}]-\\mathrm d [\\int (1-n)Q(x)e^{-(1-n)\\int P(x)\\mathrm d x}\\mathrm d x]=0$\n",
    "\n",
    "这是全微分方程，因此所求的积分因子是$y^{-n}e^{-(1-n)\\int P(x)\\mathrm d x}$"
   ]
  },
  {
   "cell_type": "markdown",
   "metadata": {},
   "source": [
    "# 1.求解下列方程"
   ]
  },
  {
   "cell_type": "markdown",
   "metadata": {
    "collapsed": true
   },
   "source": [
    "## (1)$xy{\\prime}^3=1+y{\\prime}$"
   ]
  },
  {
   "cell_type": "markdown",
   "metadata": {},
   "source": [
    "不含y，记$y{\\prime}=\\frac{1}{t}$\n",
    "\n",
    "则方程化为$xt^{-3}=1+t^{-1},x=t^3+t^2$\n",
    "\n",
    "及$\\mathrm d y=\\frac{\\mathrm d x}{t}=t^{-1}\\mathrm d (t^3+t^2)=(3t+2)\\mathrm d t$\n",
    "\n",
    "∴$y=\\frac{3}{2}t^2+2t+c$\n",
    "\n",
    "∴方程的通解为$\\cases {x=t^3+t^2\\\\y=\\frac{3}{2}t^2+2t+c}$,其中t为参数，c为任意常数"
   ]
  },
  {
   "cell_type": "markdown",
   "metadata": {},
   "source": [
    "## (2)$y{\\prime}^3-x^3(1-y{\\prime})=0$"
   ]
  },
  {
   "cell_type": "markdown",
   "metadata": {},
   "source": [
    "方程不显含y，记$y{\\prime}=tx$\n",
    "\n",
    "则方程化为$(t^3-(1-tx))x^3=0$\n",
    "\n",
    "解出x得$x=\\frac{1}{t}-t^2$\n",
    "\n",
    "两边对y求导得$\\frac{1}{1-t^3}=(-\\frac{1}{t^2}-2t)\\frac{\\mathrm d t}{\\mathrm d y}$\n",
    "\n",
    "即$\\mathrm d y=[(1-t^3)(-\\frac{1}{t^2}-2t)]\\mathrm d t$\n",
    "\n",
    "积分得$y=-\\frac{1}{2}t^2+\\frac{2}{5}t^5+\\frac{1}{t}+c$\n",
    "\n",
    "∴方程的通解为$\\cases {x=\\frac{1}{t}-t^2\\\\y=-\\frac{1}{2}t^2+\\frac{2}{5}t^5+\\frac{1}{t}+c}$其中t为参数，c为任意常数"
   ]
  },
  {
   "cell_type": "markdown",
   "metadata": {},
   "source": [
    "## (3)$y=y{\\prime}^2e^{y{\\prime}}$"
   ]
  },
  {
   "cell_type": "markdown",
   "metadata": {},
   "source": [
    "已解出y，不显含x\n",
    "\n",
    "令$y{\\prime}=p$\n",
    "\n",
    "则原方程化为$y=p^2e^p$\n",
    "\n",
    "对x求导数，即得$p=(2p+p^2)e^p\\frac{\\mathrm d p}{\\mathrm d x}$\n",
    "\n",
    "即$\\mathrm d x=(p+2)e^p\\mathrm d p$\n",
    "\n",
    "积分得$x=(p+1)e^p+c$\n",
    "\n",
    "∴方程的通解为$\\cases{x=(p+1)e^p+c\\\\y=p^2e^p}$,其中p为参数，c为任意常数，\n",
    "\n",
    "另外，$y=0$也是方程的解"
   ]
  },
  {
   "cell_type": "markdown",
   "metadata": {},
   "source": [
    "## (4)$y(1+y{\\prime}^2)=2a$"
   ]
  },
  {
   "cell_type": "markdown",
   "metadata": {},
   "source": [
    "方程不显含x，令$y{\\prime}=tant$\n",
    "\n",
    "则原方程化为$y=2a{cost}^2$\n",
    "\n",
    "两端关于x求导，可得$tant=-2asin2t\\frac{\\mathrm d t}{\\mathrm d x}$\n",
    "\n",
    "即$\\mathrm d x=-4a{cost}^2\\mathrm d t$\n",
    "\n",
    "积分得$x=-a(2t+sin2t)+c$\n",
    "\n",
    "∴方程的通解为$\\cases {x=-a(2t+sin2t)+c\\\\y=2a{cost}^2}$,其中t为任意参数，c为任意常数\n",
    "\n",
    "另外，$y=2a$也是方程的解"
   ]
  },
  {
   "cell_type": "markdown",
   "metadata": {},
   "source": [
    "## (5)$x^2+y{\\prime}^2=1$"
   ]
  },
  {
   "cell_type": "markdown",
   "metadata": {},
   "source": [
    "方程不显含y，令$y{\\prime}=cost$\n",
    "\n",
    "则方程可化为$x=sint$\n",
    "\n",
    "对y求导得$\\mathrm d y={cost}^2\\mathrm d t$\n",
    "\n",
    "积分得$y=\\frac{t}{2}+\\frac{1}{4}sin2t+c$\n",
    "\n",
    "∴方程的通解为$\\cases {x=sint\\\\y=\\frac{t}{2}+\\frac{1}{4}sin2t+c}$其中t为参数，c为任意常数。"
   ]
  },
  {
   "cell_type": "markdown",
   "metadata": {},
   "source": [
    "## (6)$y^2(y{\\prime}-1)=(2-y{\\prime})^2$"
   ]
  },
  {
   "cell_type": "markdown",
   "metadata": {},
   "source": [
    "方程不显含x，令$2-y{\\prime}=ty$\n",
    "\n",
    "则原方程化为$y^2(1-yt)=y^2t^2$\n",
    "\n",
    "由此得$y=\\frac{1}{t}-t$,且$y{\\prime}=1+t62$\n",
    "\n",
    "∴$\\mathrm d x=\\frac{\\mathrm d y}{y}=\\frac{(-\\frac{1}{t^2}-1)}{1+t^2}\\mathrm d t=-\\frac{1}{t^2}\\mathrm d t$,\n",
    "\n",
    "积分得$x=\\frac{1}{t}+c$\n",
    "\n",
    "∴原方程的参数形式的通解为$\\cases {x=\\frac{1}{t}+c\\\\y=\\frac{1}{}t}-t$\n",
    "\n",
    "或者消去参数，得$y=x-\\frac{1}{x-c}-c$,其中c为任意常数。"
   ]
  },
  {
   "cell_type": "markdown",
   "metadata": {},
   "source": [
    "# <font color='red'>A 28/9"
   ]
  },
  {
   "cell_type": "code",
   "execution_count": null,
   "metadata": {
    "collapsed": true
   },
   "outputs": [],
   "source": []
  }
 ],
 "metadata": {
  "kernelspec": {
   "display_name": "SageMath 7.3",
   "language": "",
   "name": "sagemath"
  },
  "language_info": {
   "codemirror_mode": {
    "name": "ipython",
    "version": 2
   },
   "file_extension": ".py",
   "mimetype": "text/x-python",
   "name": "python",
   "nbconvert_exporter": "python",
   "pygments_lexer": "ipython2",
   "version": "2.7.10"
  }
 },
 "nbformat": 4,
 "nbformat_minor": 0
}
