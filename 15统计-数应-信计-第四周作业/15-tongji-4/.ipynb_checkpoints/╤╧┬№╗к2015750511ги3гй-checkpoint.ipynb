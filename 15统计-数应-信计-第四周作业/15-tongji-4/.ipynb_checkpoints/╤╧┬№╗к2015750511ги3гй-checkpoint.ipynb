{
 "cells": [
  {
   "cell_type": "markdown",
   "metadata": {},
   "source": [
    "### $2、求下列方程的解$"
   ]
  },
  {
   "cell_type": "markdown",
   "metadata": {},
   "source": [
    "### $(8)(x+2y)dx+xdy=0$"
   ]
  },
  {
   "cell_type": "markdown",
   "metadata": {
    "collapsed": true
   },
   "source": [
    "### $解：$\n",
    "### $设M=x+2y,N=x,$\n",
    "### $则\\frac{\\mathrm \\partial M}{\\mathrm \\partial y}=2,\\frac{\\mathrm \\partial N}{\\mathrm \\partial x}=1.故它不是恰当微分方程。$\n",
    "### $又\\frac{\\mathrm{\\frac {\\mathrm \\partial M}{\\mathrm \\partial y}}-\\frac{\\mathrm \\partial N}{\\mathrm \\partial X}}{\\mathrm N}=\\frac{\\mathrm  1}{\\mathrm  X}$\n",
    "### $所以积分因子为u=e^{\\int_ \\frac{\\mathrm 1}{\\mathrm  x}\\,\\mathrm dx}=x$\n",
    "### $两边同乘x得x^2dx+x^2dy+2xydx=0$\n",
    "### $即d(x^2y+\\frac{\\mathrm 1}{\\mathrm  3}x^3)=0$\n",
    "### $所以方程的通解为x^2y+\\frac{\\mathrm 1}{\\mathrm 3}x^3=c(c为任意常数)$"
   ]
  },
  {
   "cell_type": "markdown",
   "metadata": {},
   "source": [
    "### $(9)[x\\cos (x+y)+\\sin (x+y)]dx+x \\cos (x+y)dy=0$"
   ]
  },
  {
   "cell_type": "markdown",
   "metadata": {
    "collapsed": true
   },
   "source": [
    "### $解：$\n",
    "### $令[x\\cos (x+y)+\\sin (x+y)]=M,x \\cos (x+y)=N,$\n",
    "### $则\\frac{\\mathrm \\partial M}{\\mathrm \\partial y}=\\cos (x+y)-x\\sin (x+y),\\frac{\\mathrm \\partial N}{\\mathrm \\partial y}=\\cos (x+y)-x\\sin (x+y).$\n",
    "### $故此方程为恰当微分方程.$\n",
    "### $且方程可写成d(x(\\sin (x+y))=0$\n",
    "### $所以方程的通解为x(\\sin (x+y)=c(c为任意常数）$"
   ]
  },
  {
   "cell_type": "markdown",
   "metadata": {},
   "source": [
    "### $(10)(y\\cos x-x\\sin x)dx+(y\\sin x+x\\cos x)dy=0$"
   ]
  },
  {
   "cell_type": "markdown",
   "metadata": {
    "collapsed": true
   },
   "source": [
    "### $ 设M=y\\cos x-x\\sin x,N=y\\sin x+x\\cos x,$\n",
    "### $则\\frac{\\mathrm \\partial M}{\\mathrm \\partial y}=\\cos x,则\\frac{\\mathrm \\partial N}{\\mathrm \\partial x}=y\\cos x+\\cos x-x\\sin x,$\n",
    "### $所以方程不是恰当的.$\n",
    "### $又\\frac{\\mathrm{\\frac {\\mathrm \\partial M}{\\mathrm \\partial y}}-\\frac{\\mathrm \\partial N}{\\mathrm \\partial X}}{\\mathrm -M}= 1 $ \n",
    "### $所以方程有积分因子u=e^{{\\int_1}{\\mathrm dy}}=e^y,以u=e^y乘以方程两边得$\n",
    "### $(ye^y\\cos xdx+ye^y\\sin xdy)+(e^yx\\cos xdy-e^y\\sin xdx)=0$\n",
    "### $即d[(y-1)e^y\\sin x+e^yx\\cos x]=0$\n",
    "### $所以方程的通解为e^y(y-1)\\sin x+e^yx\\cos x=c(c为任意常数)$"
   ]
  },
  {
   "cell_type": "markdown",
   "metadata": {},
   "source": [
    "### $(11)x(4ydx+2x dy)+y^3(3ydx+5xdy)=0$"
   ]
  },
  {
   "cell_type": "markdown",
   "metadata": {
    "collapsed": true
   },
   "source": [
    "### $令M=4xy+3y^4,N=2x^2+5xy^3,$\n",
    "### $则 \\frac{\\mathrm \\partial M}{\\mathrm \\partial y}=4x+12y^3,则\\frac{\\mathrm \\partial N}{\\mathrm \\partial x}=4x+5y^3,$\n",
    "### $所以此方程不是恰当微分方程.$\n",
    "### $因为M、N为多项式，设积分因子的形式为u=x^my^n,于是方程乘以积分因子后变为$\n",
    "### $(4x^{m+1}y^{n+1}+3x^my^{n+4})dx+(2x^{m+2}y^n+5x^{m+1}y^{n+3})dy=0$\n",
    "### $它是恰当微分方程的充要条件是4(n+1)x^{m+1}y^n+3(n+4)x^my^{n+3}=2(m+2)x^{m+1}y^n+5(m+1)x^my^{n+3}$\n",
    "### $解得m=2,n=1.所以积分因子为u=x^2y$\n",
    "### $方程乘以积分因子后解得通解为x^4y^2+x^3y^5=c(c为任意常数),另外x=0,y=0也是方程的解。$"
   ]
  },
  {
   "cell_type": "markdown",
   "metadata": {},
   "source": [
    "### $4、设f(x,y)及\\frac{\\mathrm \\partial f}{\\mathrm \\partial y}连续，试证方程dy-f(x,y)dx=0为线性微分方程的充要条件是它有仅依赖于x的积分因子。$"
   ]
  },
  {
   "cell_type": "markdown",
   "metadata": {
    "collapsed": true
   },
   "source": [
    "### $充分性：$\n",
    "### $设dy-f(x,y)dx=0有仅依赖于x的积分因子，下证该方程为线性的。$\n",
    "### $由于积分因子只依赖于x，所以存在某个p(x)满足$\n",
    "### $\\frac{\\mathrm{\\frac {\\mathrm \\partial M}{\\mathrm \\partial y}}-\\frac{\\mathrm \\partial N}{\\mathrm \\partial X}}{\\mathrm N}= \\frac {\\mathrm- \\partial f}{\\mathrm \\partial y} =p(x)$\n",
    "### $即 \\frac {\\mathrm \\partial f}{\\mathrm \\partial y} =-p(x)$\n",
    "### $积分得f(x,y)=-p(x)y+h(x),得证。$\n",
    "### $必要性：$\n",
    "### $设方程dy-f(x,y)dx=0是线性微分方程，$\n",
    "### $即存在g(x),h(x)使得f(x,y)=yg(x)+h(x).$\n",
    "### $这样M=-f(x,y)=-yg(x)-h(x),N=1,\\frac{\\mathrm{\\frac {\\mathrm \\partial M}{\\mathrm \\partial y}}-\\frac{\\mathrm \\partial N}{\\mathrm \\partial X}}{\\mathrm N}= -g(x)$\n",
    "### $所以，方程具有积分因子u=e^{\\int _-g(x)}\\,{\\mathrm dx},即方程有仅依赖于x的积分因子。$\n",
    "### $得证$"
   ]
  },
  {
   "cell_type": "markdown",
   "metadata": {},
   "source": [
    "### $ 8、求出伯努利微分方程的积分因子。$"
   ]
  },
  {
   "cell_type": "markdown",
   "metadata": {
    "collapsed": true
   },
   "source": [
    "### $伯努利方程为\\frac {\\mathrm dy}{\\mathrm dx}=P(x)yQ(x)y^n(n不等于0，1),$\n",
    "### $改写为dy-P(x)ydx-Q(x)y^ndx=0$\n",
    "### $乘以y^{-n}得y^{-n}dy-P(x)y^{1-n}dx-Q(x)=0$\n",
    "### $即d(y^{1-n})-(1-n)P(x)y^{1-n}dx-(1-n)Q(x)dx=0$\n",
    "### $再乘以e^{-(1-n)\\int_p(x)\\,{\\mathrm dx}}得，$\n",
    "### $e^{-(1-n)\\int_p(x)\\,{\\mathrm dx}}[d(y^{1-n}-(1-n)P(x)y^{1-n}dx]-e^{-(1-n)\\int_p(x)\\,{\\mathrm dx}}(1-n)Q(x)dx=0.$\n",
    "### $即d[y^{1-n}e^{-(1-n)\\int_p(x)\\,{\\mathrm dx}}]-d[\\int_(1-n)Q(x)e^{-(1-n)\\int_p(x)\\,{\\mathrm dx}}]=0.$\n",
    "### $这是全微分方程，因此所求积分因子是y^{-n}e^{-(1-n)\\int_p(x)\\,{\\mathrm dx}}.$"
   ]
  },
  {
   "cell_type": "markdown",
   "metadata": {},
   "source": [
    "### $1、求解下列方程。$"
   ]
  },
  {
   "cell_type": "code",
   "execution_count": null,
   "metadata": {
    "collapsed": true
   },
   "outputs": [],
   "source": []
  },
  {
   "cell_type": "markdown",
   "metadata": {},
   "source": [
    "### $(1)xy'^3=1+y'$"
   ]
  },
  {
   "cell_type": "markdown",
   "metadata": {
    "collapsed": true
   },
   "source": [
    "## $解：$\n",
    "\n",
    "### $ 令y^{\\prime}=p=\\frac{\\mathrm dy}{\\mathrm dx} $\n",
    "\n",
    "### $ 得xp^3=1+p $\n",
    "\n",
    "### $ x=\\frac{1+p}{p^3} $\n",
    "\n",
    "### $ \\frac{\\mathrm dx}{\\mathrm dy}=\\frac{1}{p}=\\frac{p^3-3p^2(1+p)}{p^6}\\frac{\\mathrm dp}{\\mathrm dy}=\\frac{-3-2p}{p^4}\\frac{\\mathrm dp}{\\mathrm dy} $\n",
    "### $ \\mathrm dy=\\frac{-3-2p}{p^3}\\mathrm dp $\n",
    "\n",
    "###  $两边积分，得 y=\\frac{3}{2p^2}+\\frac{2}{p}+c $\n",
    "\n",
    "### $所以通解为 \\begin{cases}\n",
    "           x=\\frac{1}{p^3}+\\frac{1}{p^2}\\\\\n",
    "           y=\\frac{3}{2p^2}+\\frac{2}{p}+c\n",
    "            \\end{cases} $"
   ]
  },
  {
   "cell_type": "markdown",
   "metadata": {},
   "source": [
    "### $(2)y'^3-x^3(1-y')=0$"
   ]
  },
  {
   "cell_type": "markdown",
   "metadata": {
    "collapsed": true
   },
   "source": [
    " ## $解：$\n",
    "### $ 令y^{\\prime}=p=tx $\n",
    "\n",
    "### $ 则x=\\frac{1-t^3}{t} $\n",
    "\n",
    "### $ p=1-t^3 $\n",
    "\n",
    "### $ \\mathrm dy=tx\\mathrm dx=(1-t^3)\\frac{-2t^3-1}{t^2}\\mathrm dt=(-\\frac{1}{t^2}-t+2t^4)\\mathrm dt $\n",
    "\n",
    "### $ 积分得y=\\frac{1}{t}-\\frac{1}{2}t^2+\\frac{2}{5}t^5+c $\n",
    "\n",
    "### $所以通解为 \\begin{cases}\n",
    "           x=\\frac{1}{t}-t^2\\\\\n",
    "           y=\\frac{1}{t}-\\frac{1}{2}t^2+\\frac{2}{5}t^5+c\n",
    "            \\end{cases} $"
   ]
  },
  {
   "cell_type": "markdown",
   "metadata": {},
   "source": [
    "### $(3)y={y'}^2 e^{y'}$"
   ]
  },
  {
   "cell_type": "markdown",
   "metadata": {
    "collapsed": true
   },
   "source": [
    " ## $解：$\n",
    " \n",
    "\n",
    "### $ 令p=y^{\\prime}=\\frac{\\mathrm dy}{\\mathrm dx} $\n",
    "\n",
    "### $ y=p^2e^p $\n",
    "\n",
    "### $ \\frac{\\mathrm dy}{\\mathrm dp}=(p^2+2p)e^p $\n",
    "\n",
    "### $ \\mathrm dy=(p^2+2p)e^p\\mathrm dp $\n",
    "\n",
    "### $ 两边积分得y=p^2e^p $\n",
    "\n",
    "### $ 因为\\frac{\\mathrm dy}{\\mathrm dx}=p $\n",
    "\n",
    "### $ 所以x=\\int \\frac{1}{p}\\mathrm d(p^2e^p)+c=\\int (p+2)e^p+c=(1+p)e^p+c $\n",
    "\n",
    "### $所以通解为 \\begin{cases}\n",
    "           x=(1+p)e^p+c\\\\\n",
    "           y=p^2e^p\n",
    "            \\end{cases} $"
   ]
  },
  {
   "cell_type": "markdown",
   "metadata": {},
   "source": [
    "### $(4)y(1+y'^2)=2a(a为常数）$"
   ]
  },
  {
   "cell_type": "markdown",
   "metadata": {
    "collapsed": true
   },
   "source": [
    "## $ 解：$\n",
    "### $ 令y^{\\prime}=p $\n",
    "\n",
    "### $ y=\\frac{2a}{1+p^2} $\n",
    "\n",
    "### $ p=-\\frac{4app^{\\prime}}{(1+p^2)^2} $\n",
    "\n",
    "### $ 即p=0和\\mathrm dx=-\\frac{4a}{(1+p^2)^2}\\mathrm dp $\n",
    "\n",
    "### $ 由p=0得y=2a $\n",
    "\n",
    "### $ 两边积分得x=\\frac{-2ap}{1+p^2}-2a\\arctan p+c $\n",
    "\n",
    "### $所以通解为 \\begin{cases}\n",
    "           x=\\frac{-2ap}{1+p^2}-2a\\arctan p+c\\\\\n",
    "           y=\\frac{2a}{1+p^2}\n",
    "            \\end{cases} $\n",
    "            \n",
    "### $ y=2a也为解 $ "
   ]
  },
  {
   "cell_type": "markdown",
   "metadata": {},
   "source": [
    "### $(5)x^2+y'^2=1$"
   ]
  },
  {
   "cell_type": "markdown",
   "metadata": {
    "collapsed": true
   },
   "source": [
    "## $解：$\n",
    "### $令y'=p,则原方程化为y=p^2e^p,$\n",
    "### $对x求导得p=(2p+p^2)e^p\\frac {\\mathrm dp}{\\mathrm dx},即dx=(p+2)e^pdp,$\n",
    "### $积分得x=(p+1)e^p+c,$\n",
    "### $所以方程的通解为\\begin{cases}\n",
    "           x= \\sin t\\\\\n",
    "           y= \\frac{\\mathrm t}{\\mathrm 2}+\\frac{\\mathrm 1}{\\mathrm 4}\\sin 2t+c\n",
    "            \\end{cases} $\n",
    "            "
   ]
  },
  {
   "cell_type": "markdown",
   "metadata": {},
   "source": [
    "### $(6)y^2(y'-1)={(2-y')}^2$"
   ]
  },
  {
   "cell_type": "markdown",
   "metadata": {
    "collapsed": true
   },
   "source": [
    "## $解：$\n",
    "### $ 令y^{\\prime}=p $\n",
    "\n",
    "### $ y=\\frac{2a}{1+p^2} $\n",
    "\n",
    "### $ p=-\\frac{4app^{\\prime}}{(1+p^2)^2} $\n",
    "\n",
    "### $ 即p=0和\\mathrm dx=-\\frac{4a}{(1+p^2)^2}\\mathrm dp $\n",
    "\n",
    "### $ 由p=0得y=2a $\n",
    "\n",
    "### $ 两边积分得x=\\frac{-2ap}{1+p^2}-2a\\arctan p+c $\n",
    "\n",
    "### $所以通解为\\begin{cases}\n",
    "           x=\\frac{-2ap}{1+p^2}-2a\\arctan p+c\\\\\n",
    "           y=\\frac{2a}{1+p^2}\n",
    "            \\end{cases} $\n",
    "            \n",
    "### $ y=2a也为解 $"
   ]
  },
  {
   "cell_type": "markdown",
   "metadata": {
    "collapsed": true
   },
   "source": [
    "# <font color='red'>A 28/9"
   ]
  },
  {
   "cell_type": "code",
   "execution_count": null,
   "metadata": {
    "collapsed": true
   },
   "outputs": [],
   "source": []
  }
 ],
 "metadata": {
  "kernelspec": {
   "display_name": "SageMath 7.3",
   "language": "",
   "name": "sagemath"
  },
  "language_info": {
   "codemirror_mode": {
    "name": "ipython",
    "version": 2
   },
   "file_extension": ".py",
   "mimetype": "text/x-python",
   "name": "python",
   "nbconvert_exporter": "python",
   "pygments_lexer": "ipython2",
   "version": "2.7.10"
  }
 },
 "nbformat": 4,
 "nbformat_minor": 0
}
