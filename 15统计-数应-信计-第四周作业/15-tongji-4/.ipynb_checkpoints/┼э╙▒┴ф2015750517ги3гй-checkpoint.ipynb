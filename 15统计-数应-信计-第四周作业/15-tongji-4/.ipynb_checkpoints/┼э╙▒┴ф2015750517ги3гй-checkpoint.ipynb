{
 "cells": [
  {
   "cell_type": "markdown",
   "metadata": {},
   "source": [
    "2015750517 彭颖龄  常微分方程（3）"
   ]
  },
  {
   "cell_type": "markdown",
   "metadata": {},
   "source": [
    "2.求下列方程的解：  \n",
    "（8）(x+2y)dx+xdy=0;  \n",
    "（9）$[x\\cos (x+y)+\\sin (x+y)dx+\\cos (x+y)dy=0$;  \n",
    "（10）$（y\\cos x-x\\sin x）dx+(y\\sin x+x\\cos x)dy$;  \n",
    "（11）$x(4ydx+2xdy)+y^3(3ydx+5xdy)=0$.  "
   ]
  },
  {
   "cell_type": "markdown",
   "metadata": {},
   "source": [
    "解：（8）这里M=x+2y,N=x,$\\frac{\\partial{M}}{\\partial{y}}=2$,$\\frac{\\partial{N}}{\\partial{x}}=1$,方程不是恰当的。  \n",
    "因为$\\frac{\\frac{\\partial{M}}{\\partial{y}}-\\frac{\\partial{N}}{\\partial{x}}}{N}=\\frac{1}{x}$,所以方程有积分因子$μ=e^{\\int\\frac{1}{x}dx}$。  \n",
    "以μ=x乘方程两边得到 $2xydx+x^2dy+x^2dx=0$,  \n",
    "即$d(x^2y+\\frac{1}{3}x^3)=0$,  \n",
    "于是方程的通解为$x^3+3x^2y=c$.  \n",
    "\n",
    "（9）这里$M=x\\cos (x+y)+\\sin (x+y),N=x\\cos (x+y)$,  \n",
    "$\\frac{\\partial{M}}{\\partial{y}}=-x\\sin (x+y)+\\cos (x+y)$,  \n",
    "$\\frac{\\partial{N}}{\\partial{x}}=\\cos (x+y)-x\\sin (x+y)$,  \n",
    "方程是恰当的，并且方程可以写成$d(x\\sin (x+y))=0$,  \n",
    "于是方程的通解为 $x\\sin (x+y)=c$.  \n",
    "\n",
    "（10）这里$M=x\\cos x-x\\sin x$,$N=y\\sin x+x\\cos x$,\n",
    "$\\frac{\\partial{M}}{\\partial{y}}=\\cos x,\\frac{\\partial{N}}{\\partial{x}}=y\\cos x+\\cos x-x\\sin x$,方程不是恰当的。  \n",
    "因为$\\frac{\\frac{\\partial{M}}{\\partial{y}}-\\frac{\\partial{N}}{\\partial{x}}}{-M}=1$,所以方程有积分因子$μ=e^{\\int1dy}=e^y$.  \n",
    "以$μ=x^y$乘方程两边得$(ye^y\\cos xdx+ye^y\\sin xdx)+(e^yx\\cos xdy-e^yx\\sin xdx)=0$,  \n",
    "即$d[(y-1)e^y\\sin x+e^yx\\cos x]=0$,  \n",
    "于是方程的通解为 $(y-1)\\sin x+x\\cos x=ce^{-y}$.  \n",
    "\n",
    "（11）显然$x(4ydx+2xdy)=d(2x^2y)$,对于方程$y^3(3ydx+5xdy)=0$,  \n",
    "有$M=3y^4,N=5xy^3,\\frac{\\partial{M}}{\\partial{N}}{\\partial{x}}=5y^3$,  \n",
    "因为$\\frac{\\frac{\\partial{M}}{\\partial{y}}-\\frac{\\partial{N}}{\\partial{x}}}{5xy^3}=\\frac{7}{5x}$,所以方程有积分因子$μ=e^{\\int\\frac{7}{5x}dx}=x^{\\frac{7}{5}}$.  \n",
    "以$μ=x^{\\frac{7}{5}}$乘以方程$y^3(3ydx+5xdy)=0$两边得$3y^4x^{\\frac{7}{5}}dx+5x^{\\frac{12}{5}}y^3dy=0$,  \n",
    "即$d(\\frac{5}{4}x^{\\frac{12}{5}}y^4)=0$。  \n",
    "综合以上结论，得到原方程的通解为$2x^2y+\\frac{5}{4}x^{\\frac{12}{5}}y^4=c$,  \n",
    "或$8x^2y+5x^{\\frac{12}{5}}y^4=c$."
   ]
  },
  {
   "cell_type": "markdown",
   "metadata": {},
   "source": [
    "# <font color='red'>错误"
   ]
  },
  {
   "cell_type": "markdown",
   "metadata": {
    "collapsed": true
   },
   "source": [
    "4.设f(x,y)及$\\frac{\\partial{f}}{\\partial{y}}$连续，试证方程dy-f(x,y)dx=0为线性微分方程的充要条件是它有仅依赖于x的积分因子。"
   ]
  },
  {
   "cell_type": "markdown",
   "metadata": {},
   "source": [
    "证明：  充分性  设dy-f(x,y)dx=0有仅依赖于x的积分因子，现将说明该方程是线性的。  \n",
    "由于积分因子只依赖于x，所以存在某个φ（x）满足  \n",
    "$\\frac{\\frac{\\partial{M}}{\\partial{y}}-\\frac{\\partial{N}}{\\partial{x}}}{N}=\\frac{-\\frac{\\partial{f}}{\\partial{y}}-0}{1}=φ（x）$,  \n",
    "对上式积分后得 f(x,y)=-φ（x）y+h(x),  \n",
    "这里h（x）是关于x的任意可微函数。这样，原方程可以写成  \n",
    "$\\frac{dy}{dx}=-φ（x）y+h(x)$,  \n",
    "这便证明了dy-f(x,y)dx=0是线性的。  \n",
    "必要性  设方程dy-f(x,y)dx=0是线性微分方程，即存在g(x),h(x)使得f(x,y)=yg(x)+h（x）.  \n",
    "这样M=-f(x,y)=-yg(x)-h(x),N=1，  \n",
    "$\\frac{\\frac{\\partial{M}}{\\partial{y}}-\\frac{\\partial{N}}{\\partial{x}}}{N}=\\frac{-g(x)}{1}=-g(x)$,  \n",
    "所以，方程具有积分因子$μ=e^{\\int-g(x)dx}$  \n",
    "这即证明了方程有仅依赖于x的积分因子。"
   ]
  },
  {
   "cell_type": "markdown",
   "metadata": {},
   "source": [
    "8.求出努伯利微分方程的积分因子。"
   ]
  },
  {
   "cell_type": "markdown",
   "metadata": {},
   "source": [
    "解:努伯利方程为$\\frac{dy}{dx}=p(x)y+q(x)y^n$,(n≠0,1）  \n",
    "改写为$dy-p(x)ydx-q(x)y^ndx=0$,  \n",
    "乘以$y^{-n}$得$y^{-n}dy-p(x)y^{1-n}dx-q(x)dx=0$,  \n",
    "即$d(y^{1-n})-(1-n)p(x)y^(1-n)dx-(1-n)q(x)dx=0$,  \n",
    "再乘以$e^{-(1-n)\\int p(x)dx}$得  \n",
    "$e^{-(1-n)\\int p(x)dx}[d(y^{1-n})-(1-n)p(x)y^{1-n}dx]-e^{-(1-n)\\int p(x)dx}(1-n)q(x)dx=0$,  \n",
    "即$d[y^{1-n}e^{-(1-n)\\int p(x)dx}]-d[\\int(1-n)q(x)e^{-(1-n)\\int p(x)dx}dx]=0$,  \n",
    "这是全微分方程，因此所求的积分因子是  \n",
    "$μ=y^{-n}e^{-(1-n)\\int p(x)dx}.$"
   ]
  },
  {
   "cell_type": "markdown",
   "metadata": {
    "collapsed": true
   },
   "source": [
    "1.求解下列方程：  \n",
    "（1）$xy'^3=1+y'$;  \n",
    "（2）$y'^3-x^3(1-y')=0$;  \n",
    "（3）$y=y'^2e^{y'}$;  \n",
    "（4）$y(1+y'^2)=2a$(a为常数）;  \n",
    "（5）$x^2+y'^2=1$;  \n",
    "（6）$y^2(y'-1)=(2-y')^2$."
   ]
  },
  {
   "cell_type": "markdown",
   "metadata": {},
   "source": [
    "解：（1）令$\\frac{dy}{dx}=y'=\\frac{1}{t}$,则$x=t^3+t^2$,  \n",
    "对y求导得：$(t=3t^2+2t)\\frac{dt}{dy}$  \n",
    "或者$dy=(3t+2)dt$,  \n",
    "对其积分则有 $y=\\frac{3}{2}t^2+2t+c$,  \n",
    "所以方程是通解为$\n",
    "\\begin{cases}x=t^3+t^2\\\\\n",
    "y=\\frac{3}{2}t^2+2t+c\n",
    "\\end{cases}$  \n",
    "\n",
    "（2）令y'=tx,则原方程化为 $x^3(t^3-1+tx)=0$,  \n",
    "解出x得$x=\\frac{1}{t}-t^2$,  \n",
    "两边对y求导得$\\frac{1}{1-t^3}=(-\\frac{1}{t^2}-2t)\\frac{dt}{dy}$  \n",
    "或者$dy=[(1-t^3)(-\\frac{1}{t^2}-2)]dt$，  \n",
    "对上式积分得 $y=-\\frac{1}{2}t^2+\\frac{2}{5}t^5+\\frac{1}{t}+c$,  \n",
    "所以，方程的通解为$\n",
    "\\begin{cases}x=\\frac{1}{t}-t^2\\\\\n",
    "y=-\\frac{1}{2}t^2+\\frac{2}{5}t^5+\\frac{1}{t}+c\\end{cases}$  \n",
    "\n",
    "（3）令y'=p,则原方程化为$y=p^2e^p$,  \n",
    "对x求导数即得$p=(2p+p^2)e^p\\frac{dp}{dx},  \n",
    "或者$dx=(p+2)e^pdp$,  y\n",
    "对上式积分即得：$x=(p+1)e^p$。  \n",
    "所以方程的通解为$\\begin{cases}x=(p+1)e^p\\\\y=p^2e^p.\\end{cases}$  \n",
    "\n",
    "（4）令$y'=\\tan x$,则原方程化为$y=2a\\cos^2t$,  \n",
    "两端对x求导数可得：$\\tan t=-2a\\sin 2t\\frac{dt}{dx}$  \n",
    "或者$dx=-4acos^2tdt$  \n",
    "对其积分得$x=-a(2t+\\sin 2t+c)$  \n",
    "所以方程的通解为$\\begin{cases}x=-a(2t+\\sin 2t+c),\\\\y=2acos^2t.\\end{cases}$  \n",
    "\n",
    "（5）令$y'=\\cos t$,则方程化为$x^2+\\cos^2t=2$,  \n",
    "解出x得$x=\\sin t$.  \n",
    "对y求导数得$\\frac{1}{\\cos t}=\\cos t\\frac{dt}{dy}$  \n",
    "或者$dy=\\cos^2tdt$  \n",
    "对上式积分得 $y=\\frac{t}{2}+\\frac{1}{4}\\sin 2t+c$  \n",
    "所以方程的通解为$\\begin{cases}x=\\sin t\\\\y=\\frac{t}{2}+\\frac{\\sin 2t}{4}+c\\end{cases}$.  \n",
    "\n",
    "（6）令$2-y'=yt$,则原方程化为 $y^2(1-yt)=y^2t^2$,  \n",
    "由此得$y=\\frac{1}{t}-t$,  \n",
    "并且$y'=1+t^2$,  \n",
    "这是原微分方程的参数形式，因此\n",
    "$dx=\\frac{dy}{y'}=\\frac{(-\\frac{1}{t^2}-1)dt}{1+t^2}=-\\frac{1}{t^2}dt$,  \n",
    "对其积分得到$x=\\frac{1}{t}+c$. \n",
    "于是求得方程的参数形式的通解为$\\begin{cases}x=\\frac{1}{t}+c\\\\y=\\frac{1}{t}-t.\\end{cases}$  \n",
    "消去参数得$y=x-\\frac{1}{x-c}-c$,  \n",
    "其中c为任意常数。  \n",
    "此外，当y'=0时，原方程变为$-y^2=4$,此时方程无解。"
   ]
  },
  {
   "cell_type": "markdown",
   "metadata": {
    "collapsed": true
   },
   "source": [
    "# <font color='red'>A 28/9"
   ]
  },
  {
   "cell_type": "code",
   "execution_count": null,
   "metadata": {
    "collapsed": true
   },
   "outputs": [],
   "source": []
  }
 ],
 "metadata": {
  "kernelspec": {
   "display_name": "SageMath 7.3",
   "language": "",
   "name": "sagemath"
  },
  "language_info": {
   "codemirror_mode": {
    "name": "ipython",
    "version": 2
   },
   "file_extension": ".py",
   "mimetype": "text/x-python",
   "name": "python",
   "nbconvert_exporter": "python",
   "pygments_lexer": "ipython2",
   "version": "2.7.10"
  }
 },
 "nbformat": 4,
 "nbformat_minor": 0
}
