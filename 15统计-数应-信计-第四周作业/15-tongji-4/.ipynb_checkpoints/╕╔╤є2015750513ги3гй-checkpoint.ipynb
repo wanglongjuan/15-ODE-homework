{
 "cells": [
  {
   "cell_type": "markdown",
   "metadata": {},
   "source": [
    "## 常微分第三次作业\n",
    "## 干洋 2015750513\n",
    "## 第60页第2题：\n",
    "## 求下列方程的解：\n",
    "## （8）$（x+2y）dx+xdy=0;$\n",
    "## （9）$[xcos(x+y)+sin(x+y)]dx+xcos(x+y)dy=0;$\n",
    "## （10）$（ycosx-xsinx）dx+(ysinx+xcosx)dy=0$\n",
    "## （11）$ x（4ydx+2xdy）+y^3(3ydx+5xdy)=0.$\n",
    "## 解：（8）这里$M=x+2y,N=x$,$ \\frac{\\partial M}{\\partial y}=2,\\frac{\\partial N}{\\partial x}=1 $,方程不是恰当的。$ \\frac{\\frac{\\partial M}{\\partial y}-\\frac{\\partial N}{\\partial x}}{N}=\\frac{1}{x} $,所以方程有积分因子$ \\mu=e^\\int 1/x{\\rm d}x=x $.以$ \\mu=x^-2 $乘以方程两边得到$ 2xydx+x^2dy+x^2dx=0 $,即$ d(x^2y+\\frac{1}{3}x^3)=0 $,于是，方程的通解为$ x^3+3x^2y=c $.\n",
    "## （9）这里$M=xcos(x+y)+sin(x+y),N=xcos(x+y)$,$ \\frac{\\partial M}{\\partial y}=-xsin(x+y)+cos(x+y) $,$ \\frac{\\partial N}{\\partial x}=cos(x+y)-xsin(x+y) $,方程是恰当的，并且方程可以写成$ d(xsin(x+y))=0 $,于是方程的通解为$ xsin(x+y)=c $.\n",
    "## （10）这里$M=ycosx-xsinx,N=ysinx+xcosx$,$ \\frac{\\partial M}{\\partial y}=cosx $,$ \\frac{\\partial N}{\\partial x}=ycosx+cosx-xsinx $,方程不是恰当的。因为$ \\frac{\\frac{\\partial M}{\\partial y}-\\frac{\\partial N}{\\partial y}}{M}=1 $,所以方程有积分因子$  \\mu=e^\\int 1{\\rm d}y=e^y $.以$ \\mu=e^y $乘以方程两边得到$ (ye^ycosxdx+ye^ysinxdy)+(e^ycosxdy-e^ysinxdx)=0 $,即$ d[(y-1)e^ysinx+e^y(y-1)sinx]=0 $,于是方程的通解为$ (y-1)e^ysinx+e^y（y-1)sinx=c $.\n",
    "## （11）显然$x(4ydx+2xdy)=d(2x^2y)$.对于方程$y^3(3ydx+5xdy)=0$，有$M=3y^4.N=5xy^3$,$ \\frac{\\partial M}{\\partial y}=12y^3,\\frac{\\partial N}{\\partial x}=5y^3 $,因为$ \\frac{\\frac{\\partial M}{\\partial y}-\\frac{\\partial N}{\\partial x}}{5xy^3}=\\frac{7}{5x} $,所以方程有积分因子$ \\mu=e^\\int\\frac{7}{5}x{\\rm d}x=x^\\frac{7}{5} $.用$ \\mu=x^\\frac{7}{5} $乘以方程$y^3(3ydx+5xdy)=0$两边得$ 3y^4x^\\frac{7}{5}dx+5x^\\frac{12}{5}y^3dy=0 $,即$ d(5/4x^\\frac{12}{5}y^4)=0 $.综上所述，得到原方程的通解为$ 2x^2y+\\frac{5}{4}x^\\frac{12}{5}y^4=c $.\n",
    "## 第61页第4题：\n",
    "## 设$f(x,y)$及$ \\frac{\\partial f}{\\partial y} $连续，试证方程$dy-f(x,y)dx=0$为线性微分方程的充要条件是它有仅依赖于$x$的积分因子。\n",
    "## 解：充分性：设方程$dy-f(x,y)dx=0$有仅依赖于x的积分因子，欲证该方程是线性的。由于积分因子依赖于$x$，所以存在某个$\\varphi(x)$满足$ \\frac{\\frac{\\partial M}{\\partial y}-\\frac{\\partial N}{\\partial x}}{N}=\\frac{-\\frac{\\partial f}{\\partial y}-0}{1}=\\varphi(x)$即$ \\frac{\\partial f}{\\partial y}=-\\varphi(x)$,对上式两边积分后得$ f(x,y)=-\\varphi(x)y+h(x)$这里$h(x)$是关于x的任意可微函数，所以，原方程可以成$ \\frac{dx}{dy}=-\\varphi(x)y+h(x)$，这就证明了$dy-f(x,y)dx=0$是线性的。\n",
    "## 必要性：设方程$dy-f(x,y)dx=0$是线性微分方程。即存在函数$g(x),h(x)$使得$f(x,y)=yg(x)+h(x)$.这样$ M=-f(x,y)=-(yg(x)+h(x)),N=1$.$ \\frac{\\frac{\\partial M}{\\partial y}-\\frac{\\partial N}{\\partial x}}{N}=\\frac{-g(x)}{1}=-g(x)$,所以方程具有积分因子$\\mu=e^\\int -g(x){\\rm d}x$这就证明了方程有仅依赖于$x$的积分因子。\n",
    "## 第61页第8题：\n",
    "## 求出伯努利微分方程的积分因子。\n",
    "## 解：伯努利方程为$ \\frac{dx}{dy}=p(x)y+q(x)y^n $,可化为$ dy-p(x)ydx-q(x)y^ndx=0 $,两边同时，乘以$y^-n$得$ y^{-n}dy-p(x)y^{1-n}dx-q(x)dx=0 $,即$ d(y^{1-n})-(1-n)p(x)y^{1-n}x-(1-n)q(x)dx=0 $,再乘以$ e^{-(1-n)\\int p(x){\\rm d}x} $得$ e^{-(1-n)\\int p(x){\\rm d}x}[ d(y^{1-n})-(1-n)p(x)y^{1-n}dx]-e^{-(1-n)\\int p(x){\\rm d}x}(1-n)q(x)dx=0 $,这是全微分方程，因此所求的积分因子是$ \\mu= y^{-n}e^{(n-1)\\int p(x){\\rm d}x} $.\n",
    "## 第69页第1题：\n",
    "## 求解下列方程：\n",
    "## （1）$xy'^3=1+y'$;\n",
    "## （2）$y'^3-x^3(1-y')=0$;\n",
    "## （3）$y=y'^2e^y'$;\n",
    "## （4）$y(1+y'^2)=2a$(a为常数）；\n",
    "## （5）$x^2+y'^2=1$;\n",
    "## （6）$y^2(y'-1)=(2-y')^2$.\n",
    "## 解：（1）解出$x$，并以$ \\frac{dx}{dy}=p$代入，得到$x=\\frac{1}{p^3}\\neq0$,上式两边同时对y求导，得到$\\frac{1}{p}=(-\\frac{3}{p^4}-\\frac{2}{p^3})\\frac{dp}{dy}$,两边积分，得到$y=\\frac{3}{2p^2}+\\frac{2}{p}+c$则方程的通解为\n",
    "$ \\begin{cases}\n",
    "x=\\frac{1}{p^3},\\\\y=\\frac{1}{2p^2}+\\frac{2}{p}+c\n",
    "\\end{cases} p\\neq0 $\n",
    "## （2）令$y'=tx$,则原方程化为$x^3(t^3-1+tx)=0$解出x得$x=\\frac{1}{t}-t^2$,两边对y求导得$\\frac{1}{1-t^3}=(-\\frac{1}{t^2}-2t)\\frac{dt}{dy} dy=[(1-t^3)(-\\frac{1}{t^2}-2)]dt$,两边积分得$y=-\\frac{1}{2}t^2+\\frac{2}{5}t^5+\\frac{1}{t}+c$,故方程的通解为\n",
    "$ \\begin{cases}\n",
    "x=\\frac{1}{t}-t^2,\\\\\n",
    "y=-\\frac{1}{2}t^2+\\frac{2}{5}t^5+\\frac{1}{t}+c\n",
    "\\end{cases} $\n",
    "## （3）令$y'=p$则原方程化为$y=p^2e^p$,对x求导，即得$p=(2p+p^2)e^p\\frac{dp}{dx}$,两边积分，即得$x=(p+1)e^p+c$.因此，方程的通解为\n",
    "$ \\begin{cases}\n",
    "x=(p+1)e^p+c,\\\\y=p^2e^p\n",
    "\\end{cases} $\n",
    "## （4）令y'=tant，则原方程化为$y=2acot^2t$,两端对x求导数，可得$tant=-2asin2t\\frac{dt}{dx}$,两边积分，得$x=-a(2t+sin2t+c)$,因此，方程的通解为\n",
    "$ \\begin{cases}\n",
    "x=-a(2t+sin2t+c),\\\\y=2acot^2t\n",
    "\\end{cases} $\n",
    "## （5）令$y'=cost$,则方程化为$x^2+cos^2t=1$,解出x，得$x=sint$.对y求导,得$dy=cos^2tdt$,两边积分，得$y=\\frac{t}{2}+\\frac{1}{4}sin2t+c$因此，方程的通解为\n",
    "$ \\begin{cases}\n",
    "x=sint,\\\\y=\\frac{t}{2}+\\frac{1}{4}sin2t+c\n",
    "\\end{cases} $\n",
    "## （6）令$2-y'=yt$,则原方程化为$y^2(1-yt)=y^2t^2$,由此，得$y=\\frac{1}{t}-t$,并且$y'=1+t^2$.这是常微分方程的参数形式，因此$dx=-\\frac{2}{t^2}dt$，两边积分，得$x=\\frac{1}{t}+c$于是求得方程的参数形式的通解为\n",
    "$ \\begin{cases}\n",
    "x=\\frac{1}{t}+c,\\\\y=\\frac{1}{t}-t\n",
    "\\end{cases} $\n",
    "## 其中c为任意常数。此外，当y'=0时，原方程变为$-y^2=4$,此时方程无解。"
   ]
  },
  {
   "cell_type": "markdown",
   "metadata": {
    "collapsed": true
   },
   "source": [
    "# <font color='red'>A 28/9  （11）错误"
   ]
  },
  {
   "cell_type": "code",
   "execution_count": null,
   "metadata": {
    "collapsed": true
   },
   "outputs": [],
   "source": []
  },
  {
   "cell_type": "code",
   "execution_count": null,
   "metadata": {
    "collapsed": true
   },
   "outputs": [],
   "source": []
  },
  {
   "cell_type": "code",
   "execution_count": null,
   "metadata": {
    "collapsed": true
   },
   "outputs": [],
   "source": []
  },
  {
   "cell_type": "code",
   "execution_count": null,
   "metadata": {
    "collapsed": true
   },
   "outputs": [],
   "source": []
  },
  {
   "cell_type": "code",
   "execution_count": null,
   "metadata": {
    "collapsed": true
   },
   "outputs": [],
   "source": []
  },
  {
   "cell_type": "code",
   "execution_count": null,
   "metadata": {
    "collapsed": true
   },
   "outputs": [],
   "source": []
  }
 ],
 "metadata": {
  "kernelspec": {
   "display_name": "SageMath 7.3",
   "language": "",
   "name": "sagemath"
  },
  "language_info": {
   "codemirror_mode": {
    "name": "ipython",
    "version": 2
   },
   "file_extension": ".py",
   "mimetype": "text/x-python",
   "name": "python",
   "nbconvert_exporter": "python",
   "pygments_lexer": "ipython2",
   "version": "2.7.10"
  }
 },
 "nbformat": 4,
 "nbformat_minor": 0
}
