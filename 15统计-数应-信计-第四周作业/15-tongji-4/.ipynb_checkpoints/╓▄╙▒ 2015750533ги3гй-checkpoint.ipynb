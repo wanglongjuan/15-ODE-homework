{
 "cells": [
  {
   "cell_type": "markdown",
   "metadata": {},
   "source": [
    "# 常微分方程作业（3）"
   ]
  },
  {
   "cell_type": "markdown",
   "metadata": {},
   "source": [
    "$\\bf P61.T2$\n",
    "\n",
    "$求下列方程的解$\n",
    "\n",
    "$\\bf (8)$\n",
    "$(x+2y)dx+xdy=0$\n",
    "\n",
    "$解:$\n",
    "$$\\frac{\\partial M}{\\partial y}=2,\\frac{\\partial N}{\\partial x}=1$$\n",
    "\n",
    "$不相等，故方程不是恰当微分方程$\n",
    "\n",
    "$$\\frac{\\frac{\\partial M}{\\partial y}-\\frac{\\partial N}{\\partial x}}{N}=\\frac{1}{x}$$\n",
    "\n",
    "$$\\mu=e^{\\int\\mathrm{\\frac{1}{x}}\\,\\mathrm{d}x}=x$$\n",
    "\n",
    "$方程两边同时乘x,$\n",
    "\n",
    "$$(x^2+2xy)dx+x^2dy=0$$\n",
    "\n",
    "$$故通解为：\\frac{1}{3}x^3+x^2y=c$$\n"
   ]
  },
  {
   "cell_type": "markdown",
   "metadata": {},
   "source": [
    "$\\bf (9)$\n",
    "$[x\\cos (x+y)+\\sin (x+y)]dx+x\\cos (x+y)dy=0$\n",
    "\n",
    "$解：$\n",
    "\n",
    "$$\\frac{\\partial M}{\\partial y}=-x\\sin (x+y)+\\cos (x+y),\\frac{\\partial N}{\\partial x}=\\cos (x+y)-x\\sin (x+y)$$\n",
    "\n",
    "$$\\therefore\\frac{\\partial M}{\\partial y}=\\frac{\\partial N}{\\partial x}$$\n",
    "\n",
    "$\\therefore方程为恰当微分方程$\n",
    "\n",
    "$$d(x\\sin (x+y))=0$$\n",
    "\n",
    "$$所以通解为：x\\sin (x+y)=c$$\n"
   ]
  },
  {
   "cell_type": "markdown",
   "metadata": {},
   "source": [
    "$\\bf (10)$\n",
    "$(y\\cos x-x\\sin x)dx+(y\\sin x+x\\cos x)dy=0$\n",
    "\n",
    "$解：$\n",
    "\n",
    "$$\\frac{\\partial M}{\\partial y}=\\cos x,\\frac{\\partial N}{\\partial x}=y\\cos x+\\cos x-\\sin x$$\n",
    "$不相等，故方程不是恰当微分方程$\n",
    "$$\\frac{\\frac{\\partial M}{\\partial y}-\\frac{\\partial N}{\\partial x}}{-M}=1$$\n",
    "$$\\mu=e^{\\int\\mathrm{1}\\,\\mathrm{d}y}=e^y$$\n",
    "\n",
    "$方程两边同时乘e^y$\n",
    "$$(e^yy\\cos x-e^yx\\sin x)dx+(e^yy\\sin x+e^yx\\cos x)dy=0$$\n",
    "$$d[(y-1)e^ysinx+e^yx\\cos x]=0$$\n",
    "$$故通解为：(y-1)e^ysinx+e^yx\\cos x=c$$"
   ]
  },
  {
   "cell_type": "markdown",
   "metadata": {},
   "source": [
    "$(11)$\n",
    "$x(4ydx+2xdy)+y^3(3ydx+5xdy)=0$\n",
    "\n",
    "$解：$\n",
    "\n",
    "$$\\frac{\\partial M}{\\partial y}=4x+12y^3,\\frac{\\partial N}{\\partial x}=4x+5y^3$$\n",
    "$不相等，故方程不是恰当微分方程$\n",
    "$$设积分因子\\mu=x^my^n$$\n",
    "$方程两边同时乘x^my^n$\n",
    "$$(4x^{m+1}y^{n+1}+3x^my^{n+3})dx+(2x^{m+2}y^n+5x^{m+1}y^{n+3})dy=0$$\n",
    "$若方程为恰当微分方程,则满足$\n",
    "$$\\frac{\\partial M}{\\partial y}=\\frac{\\partial N}{\\partial x}$$\n",
    "$$即:4(n+1)x^{m+1}y^n+3(n+4)x^my^{n+3}=2(m+2)x^{m+1}y^n+5(m+1)x^my^{n+3}$$\n",
    "  $$\\begin{cases}\n",
    "  4n-2m=0\\\\\n",
    "  3n-5m+7=0\n",
    "  \\end{cases}\n",
    "  $$\n",
    "$解得m=2,n=1,$\n",
    "$\\therefore\\mu=x^2y$\n",
    "$$4x^3y^2dx+3x^2y^5dx+2x^4ydy+5x^3y^4dy=0$$\n",
    "$$d(x^4y^2)+d(x^3y^5)=0$$\n",
    "$$故通解为：x^4y^2+x^3y^5=c$$"
   ]
  },
  {
   "cell_type": "markdown",
   "metadata": {},
   "source": [
    "$\\bf T4$\n",
    "\n",
    "$设f(x,y)及\\frac{\\partial f}{\\partial y}连续，试证方程dy-f(x,y)dx=0为线性微分方程的充要条件是它有仅依赖于x的积分因子.$\n",
    "\n",
    "$解：$\n",
    "\n",
    "$充分性：$\n",
    "$设dy-f(x,y)dx=0有仅依赖于x的积分因子，即存在 \\phi (x)$\n",
    "$$\\frac{\\frac{\\partial M}{\\partial y}-\\frac{\\partial N}{\\partial x}}{N}=\\frac{-\\frac{\\partial f}{\\partial y}-0}{1}=\\phi (x)$$\n",
    "$\\therefore \\frac{\\partial f}{\\partial y}=-\\phi (x)$\n",
    "$两边积分$\n",
    "$$f(x,y)=-\\phi (x)y+h(x)$$\n",
    "$\\frac{dy}{dx}=-\\phi (x)y+h(x)$\n",
    "\n",
    "$可证原方程为线性微分方程$\n",
    "\n",
    "$必要性:$\n",
    "\n",
    "$假设方程dy-f(x,y)dx=0为线性微分方程$\n",
    "$g(x),h(x)满足f(x,y)=yg(x)+h(x)$\n",
    "$$M=-f(x,y)=-yg(x)-h(x),N=1$$\n",
    "$$即\\frac{\\frac{\\partial M}{\\partial y}-\\frac{\\partial N}{\\partial x}}{N}=-g(x)$$\n",
    "$方程的积分因子\\mu =e^{\\int\\mathrm{-g(x)}\\,\\mathrm{d}x},有仅依赖于x$"
   ]
  },
  {
   "cell_type": "markdown",
   "metadata": {},
   "source": [
    "$\\bf T8$\n",
    "\n",
    "$求出伯努利微分方程的积分因子.$\n",
    "\n",
    "$解：$\n",
    "\n",
    "伯努利方程为$$\\frac{dy}{dx}=P(x)y+Q(x)y^n$$\n",
    "\n",
    "可写为$$dy-P(x)ydx-Q(x)y^n=0$$\n",
    "$两边同时乘y^{-n}$\n",
    "$$方程可变为y^{-n}dy-P(x)y^{1-n}dx-Q(x)=0$$\n",
    "$$\\frac{\\partial M}{\\partial y}=-(1-n)P(x)y^{-n}$$\n",
    "$$\\frac{\\frac{\\partial M}{\\partial y}-\\frac{\\partial N}{\\partial x}}{N}=-(1-n)P(x)$$\n",
    "$\\therefore\\mu=e^{-(1-n)\\int\\mathrm{P(x)}\\,\\mathrm{d}x},$\n",
    "$方程两边同时乘\\mu$\n",
    "$$e^{-(1-n)\\int\\mathrm{P(x)}\\,\\mathrm{d}x}[d(y^{1-n})-(1-n)P(x)y^{1-n}dx]-e^{-(1-n)\\int\\mathrm{P(x)}\\,\\mathrm{d}x}(1-n)Q(x)dx=0$$\n",
    "$$即：d[y^{1-n}e^{-(1-n)\\int\\mathrm{P(x)}\\,\\mathrm{d}x}]-d[\\int\\mathrm{(1-n)Q(x)e^{-(1-n)\\int\\mathrm{P(x)}\\,\\mathrm{d}x}}\\,\\mathrm{d}x]为全微分方程$$\n",
    "$故积分因子为y^{-n}e^{-(1-n)\\int\\mathrm{P(x)}\\,\\mathrm{d}x}$"
   ]
  },
  {
   "cell_type": "markdown",
   "metadata": {
    "collapsed": true
   },
   "source": [
    "$\\bf P70.T1$\n",
    "\n",
    "$求解下列方程$\n",
    "\n",
    "$(1)$\n",
    "$xy'^3=1+y'$\n",
    "\n",
    "$解:$\n",
    "\n",
    "$$x=\\frac{1+y'}{y'^3}=\\frac{1}{y'^3}+\\frac{1}{y'^2}$$\n",
    "\n",
    "$令\\frac{dy}{dx}=p$\n",
    "$$则x=\\frac{1}{p^3}+\\frac{1}{p^2}$$\n",
    "\n",
    "$方程两边关于y求导$\n",
    "$$\\frac{1}{p}=(-\\frac{3}{p^4}-\\frac{2}{p^3})\\frac{dp}{dy}$$\n",
    "$$\\therefore dy=(-\\frac{3}{p^3}-\\frac{2}{p^2})dp$$\n",
    "$两边同时积分得到$\n",
    "$$y=\\frac{3}{2p^2}+\\frac{2}{p}+c$$\n",
    "$\\therefore 方程的通解为$\n",
    "$$\\begin{cases}\n",
    "  x=\\frac{1}{p^3}+\\frac{1}{p^2}\\\\\n",
    "  y=\\frac{3}{2p^2}+\\frac{2}{p}+c\n",
    "  \\end{cases}\n",
    "  $$\n",
    "   $(c为任意常数）$"
   ]
  },
  {
   "cell_type": "markdown",
   "metadata": {},
   "source": [
    "$(2)$\n",
    "$y'^3-x^3(1-y')=0$\n",
    "\n",
    "$解：$\n",
    "\n",
    "$因为方程不显y,记y'=\\frac{dy}{dx}=p=tx$\n",
    "$$(tx)^3-x^3(1-tx)=0$$\n",
    "$$x=\\frac{1-t^3}{t}$$\n",
    "$\\because\\frac{dy}{dx}=p$\n",
    "$\\therefore dy=pdx$\n",
    "$$dy=[(1-t^3)(-\\frac{1}{t^2}-2t)]dt$$\n",
    "$积分得$\n",
    "$$y=-\\frac{1}{2}t^2+\\frac{2}{5}t^5+\\frac{1}{t}+c$$\n",
    "$\\therefore 方程的通解为$\n",
    "$$\\begin{cases}\n",
    "  x=\\frac{1}{t}-t^2\\\\\n",
    "  y=-\\frac{1}{2}t^2+\\frac{2}{5}t^5+\\frac{1}{t}+c\n",
    "  \\end{cases}\n",
    "  $$\n",
    "  $(c为任意常数）$"
   ]
  },
  {
   "cell_type": "markdown",
   "metadata": {},
   "source": [
    "$(3)$\n",
    "$y=y'^2e^{y'}$\n",
    "\n",
    "$解：$\n",
    "\n",
    "$方程不显x,令y'=p,$\n",
    "$y=p^2e^p$\n",
    "$方程两边关于x求导$\n",
    "$$p=e^p\\frac{dp}{dx}(2p+p^2)$$\n",
    "$$dx=(2+p)e^p\\frac{dp}{dx}$$\n",
    "$两边求积分$\n",
    "$$x=(p+1)e^p+c$$\n",
    "$\\therefore 方程的通解为$\n",
    "$$\\begin{cases}\n",
    "  x=(p+1)e^p+c\\\\\n",
    "  y=p^2e^p\n",
    "  \\end{cases}\n",
    "  $$\n",
    "  $(c为任意常数）$\n",
    "  $同时y=0也为方程的解$"
   ]
  },
  {
   "cell_type": "markdown",
   "metadata": {},
   "source": [
    "$(4)y(1+y'^2)=2a(a为常数)$\n",
    "\n",
    "$解：$\n",
    "\n",
    "$令y'=\\tan t$\n",
    "$$y(1+\\tan^2 t)=2a$$\n",
    "$$y=2a\\cos^2 t$$\n",
    "$方程两边关于x求导$\n",
    "$$\\tan t=-2a\\sin 2t\\frac{dt}{dx}$$\n",
    "$$dx=-4a\\cos^2 tdt$$\n",
    "$两边积分$\n",
    "$$x=-a(2t+\\sin 2t)+c$$\n",
    "$\\therefore 方程的通解为$\n",
    "$$\\begin{cases}\n",
    "  x=-a(2t+\\sin 2t)+c\\\\\n",
    "  y=2a\\cos^2 t\n",
    "  \\end{cases}\n",
    "  $$\n",
    "  $(c为任意常数）$\n",
    "  $当\\cos^2 t=1时，y=2a也是方程的解$\n"
   ]
  },
  {
   "cell_type": "markdown",
   "metadata": {},
   "source": [
    "$(5)x^2+y'^2=1$\n",
    "\n",
    "$解：$\n",
    "\n",
    "$令y'=\\cos t$\n",
    "$$x=\\sin t$$\n",
    "$两边关于y求导$\n",
    "$$\\frac{dx}{dy}=\\cos t\\frac{dt}{dy}$$\n",
    "$$\\frac{1}{\\cos t}=\\cos t\\frac{dt}{dy}$$\n",
    "$$dy=\\cos^2 tdt$$\n",
    "$两边积分$\n",
    "$$y=\\frac{t}{2}+\\frac{1}{4}\\sin 2t+c$$\n",
    "$\\therefore 方程的通解为$\n",
    "$$\\begin{cases}\n",
    "  x=\\sin t\\\\\n",
    "  y=\\frac{t}{2}+\\frac{1}{4}\\sin 2t+c\n",
    "  \\end{cases}\n",
    "  (c为任意常数)\n",
    "  $$\n",
    " "
   ]
  },
  {
   "cell_type": "markdown",
   "metadata": {},
   "source": [
    "$(6)y^2(y'-1)=(2-y')^2$\n",
    "\n",
    "$解：$\n",
    "\n",
    "$令2-y'=ty$\n",
    "\n",
    "$原方程可变为$\n",
    "$$y^2(1-yt)=y^2t^2$$\n",
    "$$y=\\frac{1}{t}-t$$\n",
    "$两边关于x求导$\n",
    "$$y'=(-\\frac{1}{t^2}-1)\\frac{dt}{dx}$$\n",
    "$$又\\because y'=1+t^2$$\n",
    "$$dx=-\\frac{1}{t^2}dt$$\n",
    "$积分得$\n",
    "$$x=\\frac{1}{t}+c$$\n",
    "$\\therefore 方程的通解为$\n",
    "$$\\begin{cases}\n",
    "  x=\\frac{1}{t}+c\\\\\n",
    "  y=\\frac{1}{t}-t\n",
    "  \\end{cases}\n",
    "  (c为任意常数）\n",
    " $$"
   ]
  },
  {
   "cell_type": "markdown",
   "metadata": {},
   "source": [
    "# <font color='red'>A 28/9"
   ]
  },
  {
   "cell_type": "code",
   "execution_count": null,
   "metadata": {
    "collapsed": true
   },
   "outputs": [],
   "source": []
  }
 ],
 "metadata": {
  "kernelspec": {
   "display_name": "SageMath 7.3",
   "language": "",
   "name": "sagemath"
  },
  "language_info": {
   "codemirror_mode": {
    "name": "ipython",
    "version": 2
   },
   "file_extension": ".py",
   "mimetype": "text/x-python",
   "name": "python",
   "nbconvert_exporter": "python",
   "pygments_lexer": "ipython2",
   "version": "2.7.10"
  }
 },
 "nbformat": 4,
 "nbformat_minor": 0
}
