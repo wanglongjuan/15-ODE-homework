{
 "cells": [
  {
   "cell_type": "markdown",
   "metadata": {},
   "source": [
    "# 常微分方程作业-第四周\n",
    "\n"
   ]
  },
  {
   "cell_type": "markdown",
   "metadata": {},
   "source": [
    "##   P60\n",
    "\n",
    "### 2.求下列方程的解：\n",
    "\n",
    "**（8）** $ (x+2y)dx+xdy=0 $;\n",
    "\n",
    "**解：** $ M=x+2y , N=x , \\frac{∂M}{∂y}=1 , \\frac{∂N}{∂x}=1 $方程是不恰当的，\n",
    "\n",
    "$ \\frac{\\frac{∂M}{∂y}-\\frac{∂N}{∂x}}{N} = \\frac{1}{x}$,所以方程有积分因子$ \\mu =e^{\\int\\frac{1}{x}dx}=x $,\n",
    "\n",
    "以$ \\mu = x $乘以方程两边得：$ 2xydx+x^2dy+x^2dx=0 $,即 $ d(x^2y+\\frac{1}{3}x^3=0) $\n",
    "\n",
    "所以方程的通解为：$ x^3+3x^2y=c $"
   ]
  },
  {
   "cell_type": "markdown",
   "metadata": {},
   "source": [
    "**(9）**$ [x\\cos (x+y)+\\sin (x+y)]dx+x\\cos (x+y)dy = 0  $;\n",
    "\n",
    "**解：** $ M= x\\cos (x+y)+\\sin (x+y),N=x\\cos (x+y), $\n",
    "\n",
    "$\\frac{∂M}{∂y}= -x\\sin (x+y)+\\cos (x+y)  ,\\frac{∂N}{∂x}= \\cos (x+y)-x\\sin (x+y) $,\n",
    "\n",
    "方程是恰当的，则方程可以写成$  d (x\\sin (x+y))=0 $,\n",
    "\n",
    "所以方程的通解为$ x\\sin(x+y)= c $."
   ]
  },
  {
   "cell_type": "markdown",
   "metadata": {},
   "source": [
    "**(10)** $ (y\\cos x-x\\sin x)dx+(y\\sin x+x\\cos x)dy=0$;\n",
    "\n",
    "**解：** $ M = y\\cos x-x\\sin x,N = y\\sin x+x\\cos x,$\n",
    "\n",
    "$\\frac{∂M}{∂y}= \\cos x , \\frac{∂N}{∂x}= y\\cos x+\\cos x-x\\sin x $,方程是不恰当的，\n",
    "\n",
    "因为$ \\frac{\\frac{∂M}{∂y}-\\frac{∂N}{∂x}}{N} = 1 $,所以方程有积分因子$ \\mu = e^{\\int1dy}=e^y$,\n",
    "\n",
    "以$ \\mu = e^y $乘以方程两边得：$ (ye^y\\cos xdx + ye^y\\sin x dy)+(e^y\\cos x dy-e^y\\sin x dx)=0 $,\n",
    "\n",
    "即：$ d[(y-1)e^y\\sin x+e^yx\\cos x]=0 $,\n",
    "\n",
    "所以方程的通解为：$ e^yx\\cos x+(y-1)e^y\\sin x=c $."
   ]
  },
  {
   "cell_type": "markdown",
   "metadata": {},
   "source": [
    "**(11)** $ x(4ydx+2xdy)+y^3(3ydx+5xdy)=0 $ ;\n",
    "\n",
    "**解：** 显然$ x(4ydx+2xdy)=d(2x^2y) $,\n",
    "\n",
    "对于方程$ y^3(3ydx+5xdy)=0 $,有$ M = 3y^4,N = 5xy^3,\\frac{∂M}{∂y}= 12y^3 , \\frac{∂N}{∂x}= 5y^3 $,\n",
    "\n",
    "因为$ \\frac{\\frac{∂M}{∂y}-\\frac{∂N}{∂x}}{5xy^3} = \\frac{7}{5x} $,所以方程有积分因子$ \\mu = e^{\\int\\frac{7}{5x}dx}=x^\\frac{7}{5}$,\n",
    "\n",
    "以$ \\mu =  x^\\frac{7}{5}$乘以方程$y^3(3ydx+5xdy)=0  $两边得：$ 3y^4x^\\frac{7}{5}dx+5x^\\frac{12}{5}y^3=0 $,\n",
    "\n",
    "即：$ d(\\frac{5}{4}x^\\frac{12}{5}y^4=0) $,\n",
    "\n",
    "综上，方程的通解为：$ 2x^2y+\\frac{5}{4}x^\\frac{12}{5}y^4=c $."
   ]
  },
  {
   "cell_type": "markdown",
   "metadata": {},
   "source": [
    "# <font color='red'>错误？？"
   ]
  },
  {
   "cell_type": "markdown",
   "metadata": {},
   "source": [
    "##   P61\n",
    "\n",
    "### 4.设$ f(x,y)及\\frac{∂f}{∂y} $连续，试证方程$ dy-f(x,y)dx=0 $为线性微分方程的充要条件是它有仅依赖于$x$的积分因子.\n",
    "\n",
    "解：充分性：设方程$ dy-f(x,y)dx=0  $有仅依赖于$x$的积分因子,要证该方程是线性的.\n",
    "\n",
    "因为积分因子依赖于$x$，所以存在某个$ \\varphi(x) $满足：$ \\frac{\\frac{∂M}{∂y}-\\frac{∂N}{∂x}}{N} = \\frac{-\\frac{∂f}{∂y}-0}{1}= \\varphi(x)$,    即$\\frac{∂f}{∂y}=  - \\varphi(x) $,\n",
    "\n",
    "对上式两边积分，得：$ f(x,y)=  - \\varphi(x)y+h(x) $,这里$ h(x)是关于x $的任意可微函数，\n",
    "\n",
    "所以原方程可以写为：$ \\frac{dy}{dx}=  - \\varphi(x)y+h(x) $,\n",
    "\n",
    "即证明了$dy-f(x,y)dx=0 $是线性的.\n",
    "\n",
    "必要性：设方程$ dy-f(x,y)dx=0  $是线性微分方程，即存在函数$g(x), h(x)使得f(x,y)=yg(x)+h(x)$,\n",
    "\n",
    "这样$ M= -f(x,y)=-yg(x)-h(x),N=1 , \\frac{\\frac{∂M}{∂y}-\\frac{∂N}{∂x}}{N} = \\frac{-g(x)}{1}= -g(x)$,\n",
    "\n",
    "所以方程有微分因子$ \\mu=e^{\\int-g(x)dx }$,即证明了方程有仅依赖于$x$的积分因子."
   ]
  },
  {
   "cell_type": "markdown",
   "metadata": {},
   "source": [
    "### 8.求出伯努利微分方程的积分因子.\n",
    "\n",
    "**解：** 伯努利方程为$ \\frac{dy}{dx} = p(x)y+q(x)y^n,(n\\neq 0,1) $\n",
    "\n",
    "可化为：$ dy- p(x)ydx-q(x)y^ndx=0 $,\n",
    "\n",
    "两边同时乘$ y^{-n} $,得：$ y^{-n}-p(x)y^{1-n}dx -q(x)dx=0 $,\n",
    "\n",
    "即：$ d(y^{1-n})-(1-n)p(x)y^{1-n}dx-(1-n)q(x)dx=0 $,\n",
    "\n",
    "再乘以$ e^{-(1-n)\\int p(x) dx} $得：\n",
    "\n",
    "$e^{-(1-n)\\int p(x) dx}[d(y^{1-n})-(1-n)p(x)y^{1-n}dx]-e^{-(1-n)\\int p(x) dx}(1-n)q(x)dx=0$,\n",
    "\n",
    "即：$d[y^{1-n}e^{-(1-n)\\int p(x) dx}]-d[\\int{(1-n)q(x)e^{-(1-n)\\int p(x) dx}(1-n)q(x)}dx]=0   $,\n",
    "\n",
    "这是全微分方程，所以所求的积分因子为：$ \\mu =y^{-n}e^{(n-1)\\int p(x) dx} $."
   ]
  },
  {
   "cell_type": "markdown",
   "metadata": {},
   "source": [
    "##   P69\n",
    "\n",
    "### 1.求解下列方程：\n",
    "\n",
    "**（1）** $ xy'^3=1+y' $;\n",
    "\n",
    "**解：** 解出$x$,并以$\\frac{dy}{dx}=p$带入，得到：$x=\\frac{1}{p^3}+\\frac{1}{p^2}\\neq0$,\n",
    "\n",
    "两边同时对$y$求导，得：$ \\frac{1}{p}=(-\\frac{3}{p^4}-\\frac{2}{p^3})\\frac{dp}{dy} $,\n",
    "\n",
    "两边积分得：$ y=\\frac{3}{2p^2}+\\frac{2}{p}+c $,\n",
    "\n",
    "则方程的通解为：$ \\begin{cases}\n",
    "x=\\frac{1}{p^3}+\\frac{1}{p^2},\\\\\n",
    "y=\\frac{3}{2p^2}+\\frac{2}{p}+c,\n",
    "\\end{cases}$ $ p\\neq0 $"
   ]
  },
  {
   "cell_type": "markdown",
   "metadata": {},
   "source": [
    "**（2）** $ y'^3-x^3(1-y')=0 $;\n",
    "\n",
    "**解：** 令$ y'=tx $,则原方程化为：$ x^3(t^3-1+tx)=0 $,\n",
    "\n",
    "解出$x$,得：$ x=\\frac{1}{t}-t^2$,\n",
    "\n",
    "两边对$y$求导得：$ \\frac{1}{1-t^3}=(-\\frac{1}{t^2}-2t ) \\cdot\\frac{dt}{dy}$,\n",
    "\n",
    "$dy=[(1-t^3)(-\\frac{1}{t^2}-2)]dt$,\n",
    "   \n",
    "两边积分得：$ y=-\\frac{1}{t^2}+\\frac{2}{5}t^5+\\frac{1}{t}+c $,\n",
    "\n",
    "则方程的通解为：$ \\begin{cases}\n",
    "x=\\frac{1}{t}-t^2,\\\\\n",
    "y=-\\frac{1}{t^2}+\\frac{2}{5}t^5+\\frac{1}{t}+c.\n",
    "\\end{cases}$ "
   ]
  },
  {
   "cell_type": "markdown",
   "metadata": {},
   "source": [
    "**（3）** $ y=y'^2e^{y'} $;\n",
    "\n",
    "**解：** 令$ y'=p $,则原方程化为：$ y=p^2e^p $,\n",
    "\n",
    "对$x$求导得：$ p=(2p+p^2)e^p\\frac{dp}{dx}$,\n",
    "   \n",
    "两边积分得：$ x=(p+1)e^p+c $,\n",
    "\n",
    "所以方程的通解为：$ \\begin{cases}\n",
    "x=(p+1)e^p+c ,\\\\\n",
    "y=p^2e^p.\n",
    "\\end{cases}$ "
   ]
  },
  {
   "cell_type": "markdown",
   "metadata": {},
   "source": [
    "**（4）** $ y(1+y'^2)=2a $(a为常数)；\n",
    "\n",
    "**解：** 令$ y'=\\tan t $,则原方程化为：$ y=2a\\cos^2 t $,\n",
    "\n",
    "两端对$x$求导得：$ \\tan t=-2a\\sin {2t}\\frac{dt}{dx} $,\n",
    "   \n",
    "两边积分得：$ x=-a(2t+\\sin {2t}+c) $,\n",
    "\n",
    "所以方程的通解为：$ \\begin{cases}\n",
    "x=-a(2t+\\sin {2t}+c)  ,\\\\\n",
    "y=2a\\cos^2 t.\n",
    "\\end{cases}$ "
   ]
  },
  {
   "cell_type": "markdown",
   "metadata": {},
   "source": [
    "**（5）** $ x^2+y'^2=1 $;\n",
    "\n",
    "**解：** 令$ y'=\\cos t $,则原方程化为：$ x^2+\\cos^2 t=1 $,\n",
    "\n",
    "解出$x$,得：$ x=\\sin t $\n",
    "\n",
    "对$y$求导得：$ \\frac{1}{\\cos t}=\\cos \\frac{dt}{dy} $,\n",
    "   \n",
    "两边积分得：$ y=\\frac{t}{2}+\\frac{1}{4}\\sin {2t}+c $,\n",
    "\n",
    "所以方程的通解为：$ \\begin{cases}\n",
    "x=\\sin t ,\\\\\n",
    " y=\\frac{t}{2}+\\frac{1}{4}\\sin {2t}+c .\n",
    "\\end{cases}$ "
   ]
  },
  {
   "cell_type": "markdown",
   "metadata": {},
   "source": [
    "**（6）** $ y^2(y'-1)=(2-y')^2 $.\n",
    "\n",
    "**解：** 令$ 2-  y'=yt $,则原方程化为：$ y^2 (1-yt)=y^2t^2$,\n",
    "\n",
    "可得：$ y=\\frac{1}{t}-t $,且$ y'=1+t^2 $,\n",
    "\n",
    "这是原微分方程的参数形式，所以$ dx=\\frac{dy}{y'}=\\frac{(-\\frac{1}{t^2}-1)dt}{1+t^2}=-\\frac{1}{t^2}dt $,\n",
    "\n",
    "两边积分得：$ x=\\frac{1}{t}+c $,\n",
    "\n",
    "所以求得方程的参数形式的通解为：$ \\begin{cases}\n",
    "x=\\frac{1}{t}+c ,\\\\\n",
    "y=\\frac{1}{t}-t .\n",
    "\\end{cases}$ \n",
    "\n",
    "消去参数$t$得：$ y=x-\\frac{1}{x-c}-c $,\n",
    "\n",
    "此外，当$ y'=0 $时，原方程变为$ -y^2=4 $,此时方程无解."
   ]
  },
  {
   "cell_type": "markdown",
   "metadata": {
    "collapsed": true
   },
   "source": [
    "# <font color='red'>A 28/9"
   ]
  },
  {
   "cell_type": "code",
   "execution_count": null,
   "metadata": {
    "collapsed": true
   },
   "outputs": [],
   "source": []
  }
 ],
 "metadata": {
  "kernelspec": {
   "display_name": "SageMath 7.3",
   "language": "",
   "name": "sagemath"
  },
  "language_info": {
   "codemirror_mode": {
    "name": "ipython",
    "version": 2
   },
   "file_extension": ".py",
   "mimetype": "text/x-python",
   "name": "python",
   "nbconvert_exporter": "python",
   "pygments_lexer": "ipython2",
   "version": "2.7.10"
  }
 },
 "nbformat": 4,
 "nbformat_minor": 0
}
